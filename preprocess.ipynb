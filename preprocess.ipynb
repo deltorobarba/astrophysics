{
  "nbformat": 4,
  "nbformat_minor": 0,
  "metadata": {
    "colab": {
      "name": "preprocess.ipynb",
      "provenance": [],
      "collapsed_sections": [],
      "include_colab_link": true
    },
    "kernelspec": {
      "name": "python3",
      "display_name": "Python 3"
    }
  },
  "cells": [
    {
      "cell_type": "markdown",
      "metadata": {
        "id": "view-in-github",
        "colab_type": "text"
      },
      "source": [
        "<a href=\"https://colab.research.google.com/github/deltorobarba/machinelearning/blob/master/preprocess.ipynb\" target=\"_parent\"><img src=\"https://colab.research.google.com/assets/colab-badge.svg\" alt=\"Open In Colab\"/></a>"
      ]
    },
    {
      "cell_type": "markdown",
      "metadata": {
        "id": "9n0-469qA0YV",
        "colab_type": "text"
      },
      "source": [
        "# **Preprocess Time Series Data**"
      ]
    },
    {
      "cell_type": "code",
      "metadata": {
        "id": "buRM_j-6Glxi",
        "colab_type": "code",
        "colab": {}
      },
      "source": [
        "import numpy as np\n",
        "import pandas as pd\n",
        "import seaborn as sns\n",
        "import matplotlib.pyplot as plt"
      ],
      "execution_count": 0,
      "outputs": []
    },
    {
      "cell_type": "markdown",
      "metadata": {
        "id": "cfUGizVpMJcc",
        "colab_type": "text"
      },
      "source": [
        "Data Origin: Open Power System Data. You can download the data here. It contains electricity consumption, wind power production, and solar power production for 2006–2017."
      ]
    },
    {
      "cell_type": "code",
      "metadata": {
        "id": "okB3TphCRDtt",
        "colab_type": "code",
        "outputId": "a7b7b57e-1e1e-43b3-b85f-a2cb2b459e01",
        "colab": {
          "base_uri": "https://localhost:8080/",
          "height": 204
        }
      },
      "source": [
        "url = 'https://raw.githubusercontent.com/deltorobarba/machinelearning/master/energy.csv'\n",
        "data = pd.read_csv(url)\n",
        "data.head()"
      ],
      "execution_count": 4,
      "outputs": [
        {
          "output_type": "execute_result",
          "data": {
            "text/html": [
              "<div>\n",
              "<style scoped>\n",
              "    .dataframe tbody tr th:only-of-type {\n",
              "        vertical-align: middle;\n",
              "    }\n",
              "\n",
              "    .dataframe tbody tr th {\n",
              "        vertical-align: top;\n",
              "    }\n",
              "\n",
              "    .dataframe thead th {\n",
              "        text-align: right;\n",
              "    }\n",
              "</style>\n",
              "<table border=\"1\" class=\"dataframe\">\n",
              "  <thead>\n",
              "    <tr style=\"text-align: right;\">\n",
              "      <th></th>\n",
              "      <th>Date</th>\n",
              "      <th>Consumption</th>\n",
              "      <th>Wind</th>\n",
              "      <th>Solar</th>\n",
              "      <th>Wind+Solar</th>\n",
              "    </tr>\n",
              "  </thead>\n",
              "  <tbody>\n",
              "    <tr>\n",
              "      <th>0</th>\n",
              "      <td>2006-01-01</td>\n",
              "      <td>1069.184</td>\n",
              "      <td>NaN</td>\n",
              "      <td>NaN</td>\n",
              "      <td>NaN</td>\n",
              "    </tr>\n",
              "    <tr>\n",
              "      <th>1</th>\n",
              "      <td>2006-01-02</td>\n",
              "      <td>1380.521</td>\n",
              "      <td>NaN</td>\n",
              "      <td>NaN</td>\n",
              "      <td>NaN</td>\n",
              "    </tr>\n",
              "    <tr>\n",
              "      <th>2</th>\n",
              "      <td>2006-01-03</td>\n",
              "      <td>1442.533</td>\n",
              "      <td>NaN</td>\n",
              "      <td>NaN</td>\n",
              "      <td>NaN</td>\n",
              "    </tr>\n",
              "    <tr>\n",
              "      <th>3</th>\n",
              "      <td>2006-01-04</td>\n",
              "      <td>1457.217</td>\n",
              "      <td>NaN</td>\n",
              "      <td>NaN</td>\n",
              "      <td>NaN</td>\n",
              "    </tr>\n",
              "    <tr>\n",
              "      <th>4</th>\n",
              "      <td>2006-01-05</td>\n",
              "      <td>1477.131</td>\n",
              "      <td>NaN</td>\n",
              "      <td>NaN</td>\n",
              "      <td>NaN</td>\n",
              "    </tr>\n",
              "  </tbody>\n",
              "</table>\n",
              "</div>"
            ],
            "text/plain": [
              "         Date  Consumption  Wind  Solar  Wind+Solar\n",
              "0  2006-01-01     1069.184   NaN    NaN         NaN\n",
              "1  2006-01-02     1380.521   NaN    NaN         NaN\n",
              "2  2006-01-03     1442.533   NaN    NaN         NaN\n",
              "3  2006-01-04     1457.217   NaN    NaN         NaN\n",
              "4  2006-01-05     1477.131   NaN    NaN         NaN"
            ]
          },
          "metadata": {
            "tags": []
          },
          "execution_count": 4
        }
      ]
    },
    {
      "cell_type": "markdown",
      "metadata": {
        "id": "aJ-j9FhGFpIl",
        "colab_type": "text"
      },
      "source": [
        "https://link.medium.com/koN6D5zah7"
      ]
    },
    {
      "cell_type": "markdown",
      "metadata": {
        "id": "jrG3urwxFVkk",
        "colab_type": "text"
      },
      "source": [
        "## **Set Date Format**"
      ]
    },
    {
      "cell_type": "markdown",
      "metadata": {
        "id": "UAczma1Gcfg8",
        "colab_type": "text"
      },
      "source": [
        "**Select & rename features and set date index**"
      ]
    },
    {
      "cell_type": "code",
      "metadata": {
        "id": "UVTyybeVchrE",
        "colab_type": "code",
        "outputId": "a43dfd16-3139-4a97-eb55-6105b34d0d65",
        "colab": {
          "base_uri": "https://localhost:8080/",
          "height": 125
        }
      },
      "source": [
        "# Select specific features, and rename features\n",
        "series = data[['Date', 'Consumption', 'Wind']].rename(columns={\"Date\": \"date\", \"Consumption\": \"load\", \"Wind\" : \"wind\"})\n",
        "\n",
        "# Set date index\n",
        "series = series.set_index('date')\n",
        "\n",
        "# Visualize\n",
        "series.index"
      ],
      "execution_count": 5,
      "outputs": [
        {
          "output_type": "execute_result",
          "data": {
            "text/plain": [
              "Index(['2006-01-01', '2006-01-02', '2006-01-03', '2006-01-04', '2006-01-05',\n",
              "       '2006-01-06', '2006-01-07', '2006-01-08', '2006-01-09', '2006-01-10',\n",
              "       ...\n",
              "       '2017-12-22', '2017-12-23', '2017-12-24', '2017-12-25', '2017-12-26',\n",
              "       '2017-12-27', '2017-12-28', '2017-12-29', '2017-12-30', '2017-12-31'],\n",
              "      dtype='object', name='date', length=4383)"
            ]
          },
          "metadata": {
            "tags": []
          },
          "execution_count": 5
        }
      ]
    },
    {
      "cell_type": "markdown",
      "metadata": {
        "id": "mhCkrbX9T66i",
        "colab_type": "text"
      },
      "source": [
        "**Convert Datatype into Datetime**\n",
        "\n",
        "Since the datatype is still dtype='object' and not a datetime, we need to convert it to datetime:"
      ]
    },
    {
      "cell_type": "code",
      "metadata": {
        "id": "STeRVineNTui",
        "colab_type": "code",
        "outputId": "53d3b0da-3605-4197-b6d4-d03dfcff70f5",
        "colab": {
          "base_uri": "https://localhost:8080/",
          "height": 235
        }
      },
      "source": [
        "# Set (UTC) date time (UTC means from \"2006-01-05\" to \"2006-01-01 00:00:00+00:00\")\n",
        "series.index = pd.to_datetime(series.index, utc=True)\n",
        "\n",
        "# Optional: Make naive Datetime time zone aware (turn \"2016-11-02 05:00:28\" into \"2016-11-02 05:00:28+00:00\")\n",
        "# df.index = df.index.tz_localize(tz='UTC')\n",
        "\n",
        "# Optional: Convert tz-aware Datetime Array/Index from one time zone to another.\n",
        "# df.index = df.index.tz_convert('US/Central')\n",
        "\n",
        "# Optional: Sometimes it can be necessary to change time\n",
        "# df.index = df.index.tz_localize('US/Central', ambiguous='NaT').tz_convert('UTC')\n",
        "# df.index = df.index + pd.Timedelta(hours=1)\n",
        "\n",
        "# Visualize\n",
        "series.head()"
      ],
      "execution_count": 6,
      "outputs": [
        {
          "output_type": "execute_result",
          "data": {
            "text/html": [
              "<div>\n",
              "<style scoped>\n",
              "    .dataframe tbody tr th:only-of-type {\n",
              "        vertical-align: middle;\n",
              "    }\n",
              "\n",
              "    .dataframe tbody tr th {\n",
              "        vertical-align: top;\n",
              "    }\n",
              "\n",
              "    .dataframe thead th {\n",
              "        text-align: right;\n",
              "    }\n",
              "</style>\n",
              "<table border=\"1\" class=\"dataframe\">\n",
              "  <thead>\n",
              "    <tr style=\"text-align: right;\">\n",
              "      <th></th>\n",
              "      <th>load</th>\n",
              "      <th>wind</th>\n",
              "    </tr>\n",
              "    <tr>\n",
              "      <th>date</th>\n",
              "      <th></th>\n",
              "      <th></th>\n",
              "    </tr>\n",
              "  </thead>\n",
              "  <tbody>\n",
              "    <tr>\n",
              "      <th>2006-01-01 00:00:00+00:00</th>\n",
              "      <td>1069.184</td>\n",
              "      <td>NaN</td>\n",
              "    </tr>\n",
              "    <tr>\n",
              "      <th>2006-01-02 00:00:00+00:00</th>\n",
              "      <td>1380.521</td>\n",
              "      <td>NaN</td>\n",
              "    </tr>\n",
              "    <tr>\n",
              "      <th>2006-01-03 00:00:00+00:00</th>\n",
              "      <td>1442.533</td>\n",
              "      <td>NaN</td>\n",
              "    </tr>\n",
              "    <tr>\n",
              "      <th>2006-01-04 00:00:00+00:00</th>\n",
              "      <td>1457.217</td>\n",
              "      <td>NaN</td>\n",
              "    </tr>\n",
              "    <tr>\n",
              "      <th>2006-01-05 00:00:00+00:00</th>\n",
              "      <td>1477.131</td>\n",
              "      <td>NaN</td>\n",
              "    </tr>\n",
              "  </tbody>\n",
              "</table>\n",
              "</div>"
            ],
            "text/plain": [
              "                               load  wind\n",
              "date                                     \n",
              "2006-01-01 00:00:00+00:00  1069.184   NaN\n",
              "2006-01-02 00:00:00+00:00  1380.521   NaN\n",
              "2006-01-03 00:00:00+00:00  1442.533   NaN\n",
              "2006-01-04 00:00:00+00:00  1457.217   NaN\n",
              "2006-01-05 00:00:00+00:00  1477.131   NaN"
            ]
          },
          "metadata": {
            "tags": []
          },
          "execution_count": 6
        }
      ]
    },
    {
      "cell_type": "code",
      "metadata": {
        "id": "pbQmJPgUNbPS",
        "colab_type": "code",
        "outputId": "0e4b81e9-eb08-443e-86ef-2849279b8085",
        "colab": {
          "base_uri": "https://localhost:8080/",
          "height": 233
        }
      },
      "source": [
        "series.index"
      ],
      "execution_count": 0,
      "outputs": [
        {
          "output_type": "execute_result",
          "data": {
            "text/plain": [
              "DatetimeIndex(['2006-01-01 00:00:00+00:00', '2006-01-02 00:00:00+00:00',\n",
              "               '2006-01-03 00:00:00+00:00', '2006-01-04 00:00:00+00:00',\n",
              "               '2006-01-05 00:00:00+00:00', '2006-01-06 00:00:00+00:00',\n",
              "               '2006-01-07 00:00:00+00:00', '2006-01-08 00:00:00+00:00',\n",
              "               '2006-01-09 00:00:00+00:00', '2006-01-10 00:00:00+00:00',\n",
              "               ...\n",
              "               '2017-12-22 00:00:00+00:00', '2017-12-23 00:00:00+00:00',\n",
              "               '2017-12-24 00:00:00+00:00', '2017-12-25 00:00:00+00:00',\n",
              "               '2017-12-26 00:00:00+00:00', '2017-12-27 00:00:00+00:00',\n",
              "               '2017-12-28 00:00:00+00:00', '2017-12-29 00:00:00+00:00',\n",
              "               '2017-12-30 00:00:00+00:00', '2017-12-31 00:00:00+00:00'],\n",
              "              dtype='datetime64[ns, UTC]', name='date', length=4383, freq=None)"
            ]
          },
          "metadata": {
            "tags": []
          },
          "execution_count": 6
        }
      ]
    },
    {
      "cell_type": "markdown",
      "metadata": {
        "id": "Fb29bSsCT181",
        "colab_type": "text"
      },
      "source": [
        "**Add Frequency (optional)**\n",
        "\n",
        "Now dtype='datetime64[ns, UTC]', but freq=None. It is not known if data is collected by the hour, by day, my minute, etc. We can set the frequency (Available frequencies in pandas include hourly (‘H’), calendar daily (‘D’), business daily (‘B’), weekly (‘W’), monthly (‘M’), quarterly (‘Q’), annual (‘A’), and many others.)"
      ]
    },
    {
      "cell_type": "code",
      "metadata": {
        "id": "wey9fKg-RCHF",
        "colab_type": "code",
        "outputId": "6ded1ce7-aac5-46b4-a543-4ef10f867534",
        "colab": {
          "base_uri": "https://localhost:8080/",
          "height": 233
        }
      },
      "source": [
        "series = series.asfreq('D')\n",
        "series.index"
      ],
      "execution_count": 0,
      "outputs": [
        {
          "output_type": "execute_result",
          "data": {
            "text/plain": [
              "DatetimeIndex(['2006-01-01 00:00:00+00:00', '2006-01-02 00:00:00+00:00',\n",
              "               '2006-01-03 00:00:00+00:00', '2006-01-04 00:00:00+00:00',\n",
              "               '2006-01-05 00:00:00+00:00', '2006-01-06 00:00:00+00:00',\n",
              "               '2006-01-07 00:00:00+00:00', '2006-01-08 00:00:00+00:00',\n",
              "               '2006-01-09 00:00:00+00:00', '2006-01-10 00:00:00+00:00',\n",
              "               ...\n",
              "               '2017-12-22 00:00:00+00:00', '2017-12-23 00:00:00+00:00',\n",
              "               '2017-12-24 00:00:00+00:00', '2017-12-25 00:00:00+00:00',\n",
              "               '2017-12-26 00:00:00+00:00', '2017-12-27 00:00:00+00:00',\n",
              "               '2017-12-28 00:00:00+00:00', '2017-12-29 00:00:00+00:00',\n",
              "               '2017-12-30 00:00:00+00:00', '2017-12-31 00:00:00+00:00'],\n",
              "              dtype='datetime64[ns, UTC]', name='date', length=4383, freq='D')"
            ]
          },
          "metadata": {
            "tags": []
          },
          "execution_count": 7
        }
      ]
    },
    {
      "cell_type": "markdown",
      "metadata": {
        "id": "4YRXvRYlFYyF",
        "colab_type": "text"
      },
      "source": [
        "## **Data Imputation**"
      ]
    },
    {
      "cell_type": "markdown",
      "metadata": {
        "id": "S0vhaSszNUOK",
        "colab_type": "text"
      },
      "source": [
        "**Check for missing data**"
      ]
    },
    {
      "cell_type": "code",
      "metadata": {
        "id": "JU40Eb52SBSV",
        "colab_type": "code",
        "outputId": "a2b8eefe-1a16-4b94-b57b-883e8865c214",
        "colab": {
          "base_uri": "https://localhost:8080/",
          "height": 71
        }
      },
      "source": [
        "series.apply(lambda x: sum(x.isnull()),axis=0) \n",
        "# series.isnull().sum() # Alternative"
      ],
      "execution_count": 0,
      "outputs": [
        {
          "output_type": "execute_result",
          "data": {
            "text/plain": [
              "load       0\n",
              "wind    1463\n",
              "dtype: int64"
            ]
          },
          "metadata": {
            "tags": []
          },
          "execution_count": 63
        }
      ]
    },
    {
      "cell_type": "code",
      "metadata": {
        "id": "Ef6Iv9JpYvXb",
        "colab_type": "code",
        "outputId": "ec73f3b5-7250-4d1b-dace-f53d9d9d8da9",
        "colab": {
          "base_uri": "https://localhost:8080/",
          "height": 760
        }
      },
      "source": [
        "sns.set(rc={'figure.figsize':(4, 13)})\n",
        "sns.heatmap(series.isnull(),xticklabels=False,cbar=False,cmap='viridis')"
      ],
      "execution_count": 0,
      "outputs": [
        {
          "output_type": "execute_result",
          "data": {
            "text/plain": [
              "<matplotlib.axes._subplots.AxesSubplot at 0x7f6ab1431550>"
            ]
          },
          "metadata": {
            "tags": []
          },
          "execution_count": 34
        },
        {
          "output_type": "display_data",
          "data": {
            "image/png": "[encoded data removed]",
            "text/plain": [
              "<Figure size 288x936 with 1 Axes>"
            ]
          },
          "metadata": {
            "tags": []
          }
        }
      ]
    },
    {
      "cell_type": "markdown",
      "metadata": {
        "id": "rqpHBq4XOSm4",
        "colab_type": "text"
      },
      "source": [
        "This means there are no data for wind until the end of 2009."
      ]
    },
    {
      "cell_type": "markdown",
      "metadata": {
        "id": "yb4hxqi9aF_M",
        "colab_type": "text"
      },
      "source": [
        "**Also let's check if there are any zero values?** That can sometimes be wrong."
      ]
    },
    {
      "cell_type": "code",
      "metadata": {
        "id": "KE39LWDZY28t",
        "colab_type": "code",
        "outputId": "07ba8347-1ae2-4d9c-b129-19e3119e23ad",
        "colab": {
          "base_uri": "https://localhost:8080/",
          "height": 69
        }
      },
      "source": [
        "(series[series == 0.00]).count()"
      ],
      "execution_count": 0,
      "outputs": [
        {
          "output_type": "execute_result",
          "data": {
            "text/plain": [
              "load    0\n",
              "wind    0\n",
              "dtype: int64"
            ]
          },
          "metadata": {
            "tags": []
          },
          "execution_count": 35
        }
      ]
    },
    {
      "cell_type": "markdown",
      "metadata": {
        "id": "DkWpzHwLNYno",
        "colab_type": "text"
      },
      "source": [
        "**Impute Missing Data**"
      ]
    },
    {
      "cell_type": "markdown",
      "metadata": {
        "id": "V0OpWZFkRbvt",
        "colab_type": "text"
      },
      "source": [
        "In case, some days are missing in our data, the above code is going to insert empty rows and in each of these rows the values corresponding to the columns would be all NaNs. In order to avoid these NaN values, we can tell as.freq function how to fill these null values"
      ]
    },
    {
      "cell_type": "markdown",
      "metadata": {
        "id": "xnvKA7NjRg9t",
        "colab_type": "text"
      },
      "source": [
        "There are two ways to do that:\n",
        "* **Forward fill**: use it for example for filling minutes in hour-beginning data (e.g. 6:00 am price is valid from 6:00 am until 6:59 am).\n",
        "* **Backward fill**: use it for example for filling minutes in hour-ending data (e.g. 6:00 am price is valid from 5:01 am until 6:00 am)."
      ]
    },
    {
      "cell_type": "markdown",
      "metadata": {
        "id": "vUxGqiLPN8ec",
        "colab_type": "text"
      },
      "source": [
        "> Replacing missing data with medians or means in not such a good idea when it comes to time-series data. Better alternatives exist such as forward filling, backward filling, linear interpolation, mean of nearest neighbours, etc."
      ]
    },
    {
      "cell_type": "code",
      "metadata": {
        "id": "KReA2UVXRgLj",
        "colab_type": "code",
        "outputId": "f728995a-6264-45d8-e3a0-d7424a7a1f08",
        "colab": {
          "base_uri": "https://localhost:8080/",
          "height": 235
        }
      },
      "source": [
        "ffill = series['2013-02-03':'2013-02-28']\n",
        "ffill = ffill[['wind']]\n",
        "# In case we would have NaN on day 2013-02-04, it would impute the previous day's value\n",
        "ffill = ffill.asfreq('D', method = 'ffill')\n",
        "ffill.head()"
      ],
      "execution_count": 0,
      "outputs": [
        {
          "output_type": "execute_result",
          "data": {
            "text/html": [
              "<div>\n",
              "<style scoped>\n",
              "    .dataframe tbody tr th:only-of-type {\n",
              "        vertical-align: middle;\n",
              "    }\n",
              "\n",
              "    .dataframe tbody tr th {\n",
              "        vertical-align: top;\n",
              "    }\n",
              "\n",
              "    .dataframe thead th {\n",
              "        text-align: right;\n",
              "    }\n",
              "</style>\n",
              "<table border=\"1\" class=\"dataframe\">\n",
              "  <thead>\n",
              "    <tr style=\"text-align: right;\">\n",
              "      <th></th>\n",
              "      <th>wind</th>\n",
              "    </tr>\n",
              "    <tr>\n",
              "      <th>date</th>\n",
              "      <th></th>\n",
              "    </tr>\n",
              "  </thead>\n",
              "  <tbody>\n",
              "    <tr>\n",
              "      <th>2013-02-03 00:00:00+00:00</th>\n",
              "      <td>251.234</td>\n",
              "    </tr>\n",
              "    <tr>\n",
              "      <th>2013-02-04 00:00:00+00:00</th>\n",
              "      <td>370.033</td>\n",
              "    </tr>\n",
              "    <tr>\n",
              "      <th>2013-02-05 00:00:00+00:00</th>\n",
              "      <td>295.974</td>\n",
              "    </tr>\n",
              "    <tr>\n",
              "      <th>2013-02-06 00:00:00+00:00</th>\n",
              "      <td>100.776</td>\n",
              "    </tr>\n",
              "    <tr>\n",
              "      <th>2013-02-07 00:00:00+00:00</th>\n",
              "      <td>53.560</td>\n",
              "    </tr>\n",
              "  </tbody>\n",
              "</table>\n",
              "</div>"
            ],
            "text/plain": [
              "                              wind\n",
              "date                              \n",
              "2013-02-03 00:00:00+00:00  251.234\n",
              "2013-02-04 00:00:00+00:00  370.033\n",
              "2013-02-05 00:00:00+00:00  295.974\n",
              "2013-02-06 00:00:00+00:00  100.776\n",
              "2013-02-07 00:00:00+00:00   53.560"
            ]
          },
          "metadata": {
            "tags": []
          },
          "execution_count": 39
        }
      ]
    },
    {
      "cell_type": "markdown",
      "metadata": {
        "id": "Rg2yKxszMtBv",
        "colab_type": "text"
      },
      "source": [
        "This technique of forward filling makes sense on some level — if we are not aware of the amount of power consumption on today’s date, we can always assume it is the same as it was yesterday."
      ]
    },
    {
      "cell_type": "markdown",
      "metadata": {
        "id": "K8tJNwJAFdNN",
        "colab_type": "text"
      },
      "source": [
        "## **Resampling**"
      ]
    },
    {
      "cell_type": "markdown",
      "metadata": {
        "id": "eo1Yj3_BTKmi",
        "colab_type": "text"
      },
      "source": [
        "**Upsample Datetime Data**\n",
        "\n",
        "* We can resample from day to week W, quarter Q, month M or year Y etc.\n",
        "* We can resample by choosing the max value, the mean value etc."
      ]
    },
    {
      "cell_type": "code",
      "metadata": {
        "id": "y29jSphsSq2K",
        "colab_type": "code",
        "outputId": "db7e48b0-fae8-4f8a-b0a9-8c26a3ed17bb",
        "colab": {
          "base_uri": "https://localhost:8080/",
          "height": 235
        }
      },
      "source": [
        "data_yearly_max = series[['load']].resample('Y').max()\n",
        "data_yearly_max.head()"
      ],
      "execution_count": 0,
      "outputs": [
        {
          "output_type": "execute_result",
          "data": {
            "text/html": [
              "<div>\n",
              "<style scoped>\n",
              "    .dataframe tbody tr th:only-of-type {\n",
              "        vertical-align: middle;\n",
              "    }\n",
              "\n",
              "    .dataframe tbody tr th {\n",
              "        vertical-align: top;\n",
              "    }\n",
              "\n",
              "    .dataframe thead th {\n",
              "        text-align: right;\n",
              "    }\n",
              "</style>\n",
              "<table border=\"1\" class=\"dataframe\">\n",
              "  <thead>\n",
              "    <tr style=\"text-align: right;\">\n",
              "      <th></th>\n",
              "      <th>load</th>\n",
              "    </tr>\n",
              "    <tr>\n",
              "      <th>date</th>\n",
              "      <th></th>\n",
              "    </tr>\n",
              "  </thead>\n",
              "  <tbody>\n",
              "    <tr>\n",
              "      <th>2006-12-31 00:00:00+00:00</th>\n",
              "      <td>1613.312</td>\n",
              "    </tr>\n",
              "    <tr>\n",
              "      <th>2007-12-31 00:00:00+00:00</th>\n",
              "      <td>1644.873</td>\n",
              "    </tr>\n",
              "    <tr>\n",
              "      <th>2008-12-31 00:00:00+00:00</th>\n",
              "      <td>1606.299</td>\n",
              "    </tr>\n",
              "    <tr>\n",
              "      <th>2009-12-31 00:00:00+00:00</th>\n",
              "      <td>1538.894</td>\n",
              "    </tr>\n",
              "    <tr>\n",
              "      <th>2010-12-31 00:00:00+00:00</th>\n",
              "      <td>1709.568</td>\n",
              "    </tr>\n",
              "  </tbody>\n",
              "</table>\n",
              "</div>"
            ],
            "text/plain": [
              "                               load\n",
              "date                               \n",
              "2006-12-31 00:00:00+00:00  1613.312\n",
              "2007-12-31 00:00:00+00:00  1644.873\n",
              "2008-12-31 00:00:00+00:00  1606.299\n",
              "2009-12-31 00:00:00+00:00  1538.894\n",
              "2010-12-31 00:00:00+00:00  1709.568"
            ]
          },
          "metadata": {
            "tags": []
          },
          "execution_count": 8
        }
      ]
    },
    {
      "cell_type": "code",
      "metadata": {
        "id": "rYvEuNk5UVtZ",
        "colab_type": "code",
        "outputId": "4cb6f78f-f191-4583-852b-92025250223e",
        "colab": {
          "base_uri": "https://localhost:8080/",
          "height": 520
        }
      },
      "source": [
        "# Visualize resampled data\n",
        "sns.set(rc={'figure.figsize':(12, 5), \"lines.linewidth\": 1.0})\n",
        "data_yearly_max.plot(title='Energy Consumption', kind='bar')"
      ],
      "execution_count": 0,
      "outputs": [
        {
          "output_type": "execute_result",
          "data": {
            "text/plain": [
              "<matplotlib.axes._subplots.AxesSubplot at 0x7fcbeeb5bc18>"
            ]
          },
          "metadata": {
            "tags": []
          },
          "execution_count": 9
        },
        {
          "output_type": "display_data",
          "data": {
            "image/png": "[encoded data removed]",
            "text/plain": [
              "<Figure size 864x360 with 1 Axes>"
            ]
          },
          "metadata": {
            "tags": []
          }
        }
      ]
    },
    {
      "cell_type": "markdown",
      "metadata": {
        "id": "GySBQn97Tj__",
        "colab_type": "text"
      },
      "source": [
        "**Downsample Datetime Data**"
      ]
    },
    {
      "cell_type": "markdown",
      "metadata": {
        "id": "KQy_CRAoG7X4",
        "colab_type": "text"
      },
      "source": [
        "Now let's turn the daily load (demand / power consumption) data into hourly intervalls. We assume that data is hour-beginning. In this case we need to apply forwardfill operator:"
      ]
    },
    {
      "cell_type": "code",
      "metadata": {
        "id": "NkKEVBtMJRHE",
        "colab_type": "code",
        "outputId": "2f320726-8ec2-4645-bd83-d73ebb4dfbf0",
        "colab": {
          "base_uri": "https://localhost:8080/",
          "height": 235
        }
      },
      "source": [
        "# Select feature for resampling (optional)\n",
        "downsample = series[['load']]\n",
        "downsample.head()"
      ],
      "execution_count": 0,
      "outputs": [
        {
          "output_type": "execute_result",
          "data": {
            "text/html": [
              "<div>\n",
              "<style scoped>\n",
              "    .dataframe tbody tr th:only-of-type {\n",
              "        vertical-align: middle;\n",
              "    }\n",
              "\n",
              "    .dataframe tbody tr th {\n",
              "        vertical-align: top;\n",
              "    }\n",
              "\n",
              "    .dataframe thead th {\n",
              "        text-align: right;\n",
              "    }\n",
              "</style>\n",
              "<table border=\"1\" class=\"dataframe\">\n",
              "  <thead>\n",
              "    <tr style=\"text-align: right;\">\n",
              "      <th></th>\n",
              "      <th>load</th>\n",
              "    </tr>\n",
              "    <tr>\n",
              "      <th>date</th>\n",
              "      <th></th>\n",
              "    </tr>\n",
              "  </thead>\n",
              "  <tbody>\n",
              "    <tr>\n",
              "      <th>2006-01-01 00:00:00+00:00</th>\n",
              "      <td>1069.184</td>\n",
              "    </tr>\n",
              "    <tr>\n",
              "      <th>2006-01-02 00:00:00+00:00</th>\n",
              "      <td>1380.521</td>\n",
              "    </tr>\n",
              "    <tr>\n",
              "      <th>2006-01-03 00:00:00+00:00</th>\n",
              "      <td>1442.533</td>\n",
              "    </tr>\n",
              "    <tr>\n",
              "      <th>2006-01-04 00:00:00+00:00</th>\n",
              "      <td>1457.217</td>\n",
              "    </tr>\n",
              "    <tr>\n",
              "      <th>2006-01-05 00:00:00+00:00</th>\n",
              "      <td>1477.131</td>\n",
              "    </tr>\n",
              "  </tbody>\n",
              "</table>\n",
              "</div>"
            ],
            "text/plain": [
              "                               load\n",
              "date                               \n",
              "2006-01-01 00:00:00+00:00  1069.184\n",
              "2006-01-02 00:00:00+00:00  1380.521\n",
              "2006-01-03 00:00:00+00:00  1442.533\n",
              "2006-01-04 00:00:00+00:00  1457.217\n",
              "2006-01-05 00:00:00+00:00  1477.131"
            ]
          },
          "metadata": {
            "tags": []
          },
          "execution_count": 32
        }
      ]
    },
    {
      "cell_type": "code",
      "metadata": {
        "id": "wmy-pViaHVM0",
        "colab_type": "code",
        "outputId": "7bb10aed-976b-42be-9cdc-c16c6d9cfad5",
        "colab": {
          "base_uri": "https://localhost:8080/",
          "height": 948
        }
      },
      "source": [
        "# Resample to hourly intervall, using backfill and set limit 23 hours\n",
        "downsample = downsample.resample('h', label='right', closed='right').mean().ffill(limit=23)\n",
        "\n",
        "# Optional: Divide by 12 to turn from MW to MWh\n",
        "# downsample = downsample.div(12)\n",
        "\n",
        "# Visualize\n",
        "downsample.head(28)"
      ],
      "execution_count": 0,
      "outputs": [
        {
          "output_type": "execute_result",
          "data": {
            "text/html": [
              "<div>\n",
              "<style scoped>\n",
              "    .dataframe tbody tr th:only-of-type {\n",
              "        vertical-align: middle;\n",
              "    }\n",
              "\n",
              "    .dataframe tbody tr th {\n",
              "        vertical-align: top;\n",
              "    }\n",
              "\n",
              "    .dataframe thead th {\n",
              "        text-align: right;\n",
              "    }\n",
              "</style>\n",
              "<table border=\"1\" class=\"dataframe\">\n",
              "  <thead>\n",
              "    <tr style=\"text-align: right;\">\n",
              "      <th></th>\n",
              "      <th>load</th>\n",
              "    </tr>\n",
              "    <tr>\n",
              "      <th>date</th>\n",
              "      <th></th>\n",
              "    </tr>\n",
              "  </thead>\n",
              "  <tbody>\n",
              "    <tr>\n",
              "      <th>2006-01-01 00:00:00+00:00</th>\n",
              "      <td>1069.184</td>\n",
              "    </tr>\n",
              "    <tr>\n",
              "      <th>2006-01-01 01:00:00+00:00</th>\n",
              "      <td>1069.184</td>\n",
              "    </tr>\n",
              "    <tr>\n",
              "      <th>2006-01-01 02:00:00+00:00</th>\n",
              "      <td>1069.184</td>\n",
              "    </tr>\n",
              "    <tr>\n",
              "      <th>2006-01-01 03:00:00+00:00</th>\n",
              "      <td>1069.184</td>\n",
              "    </tr>\n",
              "    <tr>\n",
              "      <th>2006-01-01 04:00:00+00:00</th>\n",
              "      <td>1069.184</td>\n",
              "    </tr>\n",
              "    <tr>\n",
              "      <th>2006-01-01 05:00:00+00:00</th>\n",
              "      <td>1069.184</td>\n",
              "    </tr>\n",
              "    <tr>\n",
              "      <th>2006-01-01 06:00:00+00:00</th>\n",
              "      <td>1069.184</td>\n",
              "    </tr>\n",
              "    <tr>\n",
              "      <th>2006-01-01 07:00:00+00:00</th>\n",
              "      <td>1069.184</td>\n",
              "    </tr>\n",
              "    <tr>\n",
              "      <th>2006-01-01 08:00:00+00:00</th>\n",
              "      <td>1069.184</td>\n",
              "    </tr>\n",
              "    <tr>\n",
              "      <th>2006-01-01 09:00:00+00:00</th>\n",
              "      <td>1069.184</td>\n",
              "    </tr>\n",
              "    <tr>\n",
              "      <th>2006-01-01 10:00:00+00:00</th>\n",
              "      <td>1069.184</td>\n",
              "    </tr>\n",
              "    <tr>\n",
              "      <th>2006-01-01 11:00:00+00:00</th>\n",
              "      <td>1069.184</td>\n",
              "    </tr>\n",
              "    <tr>\n",
              "      <th>2006-01-01 12:00:00+00:00</th>\n",
              "      <td>1069.184</td>\n",
              "    </tr>\n",
              "    <tr>\n",
              "      <th>2006-01-01 13:00:00+00:00</th>\n",
              "      <td>1069.184</td>\n",
              "    </tr>\n",
              "    <tr>\n",
              "      <th>2006-01-01 14:00:00+00:00</th>\n",
              "      <td>1069.184</td>\n",
              "    </tr>\n",
              "    <tr>\n",
              "      <th>2006-01-01 15:00:00+00:00</th>\n",
              "      <td>1069.184</td>\n",
              "    </tr>\n",
              "    <tr>\n",
              "      <th>2006-01-01 16:00:00+00:00</th>\n",
              "      <td>1069.184</td>\n",
              "    </tr>\n",
              "    <tr>\n",
              "      <th>2006-01-01 17:00:00+00:00</th>\n",
              "      <td>1069.184</td>\n",
              "    </tr>\n",
              "    <tr>\n",
              "      <th>2006-01-01 18:00:00+00:00</th>\n",
              "      <td>1069.184</td>\n",
              "    </tr>\n",
              "    <tr>\n",
              "      <th>2006-01-01 19:00:00+00:00</th>\n",
              "      <td>1069.184</td>\n",
              "    </tr>\n",
              "    <tr>\n",
              "      <th>2006-01-01 20:00:00+00:00</th>\n",
              "      <td>1069.184</td>\n",
              "    </tr>\n",
              "    <tr>\n",
              "      <th>2006-01-01 21:00:00+00:00</th>\n",
              "      <td>1069.184</td>\n",
              "    </tr>\n",
              "    <tr>\n",
              "      <th>2006-01-01 22:00:00+00:00</th>\n",
              "      <td>1069.184</td>\n",
              "    </tr>\n",
              "    <tr>\n",
              "      <th>2006-01-01 23:00:00+00:00</th>\n",
              "      <td>1069.184</td>\n",
              "    </tr>\n",
              "    <tr>\n",
              "      <th>2006-01-02 00:00:00+00:00</th>\n",
              "      <td>1380.521</td>\n",
              "    </tr>\n",
              "    <tr>\n",
              "      <th>2006-01-02 01:00:00+00:00</th>\n",
              "      <td>1380.521</td>\n",
              "    </tr>\n",
              "    <tr>\n",
              "      <th>2006-01-02 02:00:00+00:00</th>\n",
              "      <td>1380.521</td>\n",
              "    </tr>\n",
              "    <tr>\n",
              "      <th>2006-01-02 03:00:00+00:00</th>\n",
              "      <td>1380.521</td>\n",
              "    </tr>\n",
              "  </tbody>\n",
              "</table>\n",
              "</div>"
            ],
            "text/plain": [
              "                               load\n",
              "date                               \n",
              "2006-01-01 00:00:00+00:00  1069.184\n",
              "2006-01-01 01:00:00+00:00  1069.184\n",
              "2006-01-01 02:00:00+00:00  1069.184\n",
              "2006-01-01 03:00:00+00:00  1069.184\n",
              "2006-01-01 04:00:00+00:00  1069.184\n",
              "2006-01-01 05:00:00+00:00  1069.184\n",
              "2006-01-01 06:00:00+00:00  1069.184\n",
              "2006-01-01 07:00:00+00:00  1069.184\n",
              "2006-01-01 08:00:00+00:00  1069.184\n",
              "2006-01-01 09:00:00+00:00  1069.184\n",
              "2006-01-01 10:00:00+00:00  1069.184\n",
              "2006-01-01 11:00:00+00:00  1069.184\n",
              "2006-01-01 12:00:00+00:00  1069.184\n",
              "2006-01-01 13:00:00+00:00  1069.184\n",
              "2006-01-01 14:00:00+00:00  1069.184\n",
              "2006-01-01 15:00:00+00:00  1069.184\n",
              "2006-01-01 16:00:00+00:00  1069.184\n",
              "2006-01-01 17:00:00+00:00  1069.184\n",
              "2006-01-01 18:00:00+00:00  1069.184\n",
              "2006-01-01 19:00:00+00:00  1069.184\n",
              "2006-01-01 20:00:00+00:00  1069.184\n",
              "2006-01-01 21:00:00+00:00  1069.184\n",
              "2006-01-01 22:00:00+00:00  1069.184\n",
              "2006-01-01 23:00:00+00:00  1069.184\n",
              "2006-01-02 00:00:00+00:00  1380.521\n",
              "2006-01-02 01:00:00+00:00  1380.521\n",
              "2006-01-02 02:00:00+00:00  1380.521\n",
              "2006-01-02 03:00:00+00:00  1380.521"
            ]
          },
          "metadata": {
            "tags": []
          },
          "execution_count": 34
        }
      ]
    },
    {
      "cell_type": "markdown",
      "metadata": {
        "id": "AODOrjV6KY8Z",
        "colab_type": "text"
      },
      "source": [
        "We can do the same with hourly data turning into 5 or 15 minutes intervalls. Please note the different limits:\n",
        "\n",
        "* df.resample('5min', label='right', closed='right').mean().ffill(limit=11)\n",
        "\n",
        "* df.resample('15min', label='right', closed='right').mean().ffill(limit=3)"
      ]
    },
    {
      "cell_type": "markdown",
      "metadata": {
        "id": "1bBH3djjS9Y5",
        "colab_type": "text"
      },
      "source": [
        "## **Bin & Group**"
      ]
    },
    {
      "cell_type": "markdown",
      "metadata": {
        "id": "vYD_zuaNUSAq",
        "colab_type": "text"
      },
      "source": [
        "Show wind distribution to determine bin size"
      ]
    },
    {
      "cell_type": "code",
      "metadata": {
        "id": "GKlJ-BLUUVB8",
        "colab_type": "code",
        "colab": {
          "base_uri": "https://localhost:8080/",
          "height": 284
        },
        "outputId": "44c6d928-8e00-463c-a4dc-6fa3866e5627"
      },
      "source": [
        "df = series[['wind']]\n",
        "sns.set(rc={'figure.figsize':(10, 4)})\n",
        "sns.distplot((df), hist=True, rug=False, bins=9).set_title('Wind Power')\n",
        "plt.axvline(x=0, color='red', linestyle='--', linewidth=1.0);\n",
        "plt.show()"
      ],
      "execution_count": 8,
      "outputs": [
        {
          "output_type": "display_data",
          "data": {
            "image/png": "[encoded data removed]",
            "text/plain": [
              "<Figure size 720x288 with 1 Axes>"
            ]
          },
          "metadata": {
            "tags": []
          }
        }
      ]
    },
    {
      "cell_type": "markdown",
      "metadata": {
        "id": "8mfIwOe_UVqA",
        "colab_type": "text"
      },
      "source": [
        "Bin and group data and plot against each other:"
      ]
    },
    {
      "cell_type": "code",
      "metadata": {
        "id": "oyOfuYN2S7t0",
        "colab_type": "code",
        "outputId": "2ed86cd7-0843-4fd8-9cba-e9386079fc92",
        "colab": {
          "base_uri": "https://localhost:8080/",
          "height": 408
        }
      },
      "source": [
        "# Select features and set limit (optional)\n",
        "df = series[['load', 'wind']].where(series['load'] < 1600)\n",
        "\n",
        "# Determine bins based on distribution analysis\n",
        "bins = [0.0, 50, 100, 150, 200, 250, 300, 350, 400]\n",
        "labels = [1,2,3,4,5,6,7,8]\n",
        "\n",
        "# Create bins based on bins and labels\n",
        "df['binned'] = pd.cut(df['wind'], bins=bins, labels=labels)\n",
        "\n",
        "# Groupby bins, call mean value in each bin and display as scatterplot\n",
        "df.groupby(pd.cut(df['wind'], bins=bins)).mean().plot.scatter('wind', 'load')"
      ],
      "execution_count": 26,
      "outputs": [
        {
          "output_type": "stream",
          "text": [
            "'c' argument looks like a single numeric RGB or RGBA sequence, which should be avoided as value-mapping will have precedence in case its length matches with 'x' & 'y'.  Please use a 2-D array with a single row if you really want to specify the same RGB or RGBA value for all points.\n"
          ],
          "name": "stderr"
        },
        {
          "output_type": "execute_result",
          "data": {
            "text/plain": [
              "<matplotlib.axes._subplots.AxesSubplot at 0x7f8374665278>"
            ]
          },
          "metadata": {
            "tags": []
          },
          "execution_count": 26
        },
        {
          "output_type": "display_data",
          "data": {
            "image/png": "[encoded data removed]",
            "text/plain": [
              "<Figure size 1008x432 with 1 Axes>"
            ]
          },
          "metadata": {
            "tags": []
          }
        }
      ]
    },
    {
      "cell_type": "code",
      "metadata": {
        "id": "8wj62wyoVrEZ",
        "colab_type": "code",
        "colab": {
          "base_uri": "https://localhost:8080/",
          "height": 179
        },
        "outputId": "05b84347-3ace-4553-87a8-547c72ede3b8"
      },
      "source": [
        "# Show bins as table\n",
        "s = pd.cut(df['wind'], bins=bins).value_counts()\n",
        "s"
      ],
      "execution_count": 21,
      "outputs": [
        {
          "output_type": "execute_result",
          "data": {
            "text/plain": [
              "(50.0, 100.0]     688\n",
              "(0.0, 50.0]       530\n",
              "(100.0, 150.0]    463\n",
              "(150.0, 200.0]    336\n",
              "(200.0, 250.0]    224\n",
              "(250.0, 300.0]    168\n",
              "(300.0, 350.0]    108\n",
              "(350.0, 400.0]     81\n",
              "Name: wind, dtype: int64"
            ]
          },
          "metadata": {
            "tags": []
          },
          "execution_count": 21
        }
      ]
    },
    {
      "cell_type": "markdown",
      "metadata": {
        "id": "6uLl50XQOVbo",
        "colab_type": "text"
      },
      "source": [
        "## **Merge Tables & Add Derivatives**"
      ]
    },
    {
      "cell_type": "markdown",
      "metadata": {
        "id": "P6iJcphgQ10y",
        "colab_type": "text"
      },
      "source": [
        "This doesn't necessarily make sense. The additional Google stock price data are just for a code demonstration."
      ]
    },
    {
      "cell_type": "markdown",
      "metadata": {
        "id": "KNi7dZD9O0vW",
        "colab_type": "text"
      },
      "source": [
        "**Load another table with daily stock data from Google**"
      ]
    },
    {
      "cell_type": "code",
      "metadata": {
        "id": "uT6SBlY8Ouo6",
        "colab_type": "code",
        "outputId": "91cd886b-b6a6-4484-e42e-6aaf97da291b",
        "colab": {
          "base_uri": "https://localhost:8080/",
          "height": 235
        }
      },
      "source": [
        "url = 'https://raw.githubusercontent.com/deltorobarba/machinelearning/master/google.csv'\n",
        "data = pd.read_csv(url)\n",
        "google = data[['Date', 'Close']].rename(columns={\"Date\": \"date\", \"Close\": \"price\"}).set_index('date')\n",
        "google.index = pd.to_datetime(google.index, utc=True)\n",
        "google.head()"
      ],
      "execution_count": 0,
      "outputs": [
        {
          "output_type": "execute_result",
          "data": {
            "text/html": [
              "<div>\n",
              "<style scoped>\n",
              "    .dataframe tbody tr th:only-of-type {\n",
              "        vertical-align: middle;\n",
              "    }\n",
              "\n",
              "    .dataframe tbody tr th {\n",
              "        vertical-align: top;\n",
              "    }\n",
              "\n",
              "    .dataframe thead th {\n",
              "        text-align: right;\n",
              "    }\n",
              "</style>\n",
              "<table border=\"1\" class=\"dataframe\">\n",
              "  <thead>\n",
              "    <tr style=\"text-align: right;\">\n",
              "      <th></th>\n",
              "      <th>price</th>\n",
              "    </tr>\n",
              "    <tr>\n",
              "      <th>date</th>\n",
              "      <th></th>\n",
              "    </tr>\n",
              "  </thead>\n",
              "  <tbody>\n",
              "    <tr>\n",
              "      <th>2010-02-01 00:00:00+00:00</th>\n",
              "      <td>265.514771</td>\n",
              "    </tr>\n",
              "    <tr>\n",
              "      <th>2010-02-02 00:00:00+00:00</th>\n",
              "      <td>264.568329</td>\n",
              "    </tr>\n",
              "    <tr>\n",
              "      <th>2010-02-03 00:00:00+00:00</th>\n",
              "      <td>269.400208</td>\n",
              "    </tr>\n",
              "    <tr>\n",
              "      <th>2010-02-04 00:00:00+00:00</th>\n",
              "      <td>262.406433</td>\n",
              "    </tr>\n",
              "    <tr>\n",
              "      <th>2010-02-05 00:00:00+00:00</th>\n",
              "      <td>264.653015</td>\n",
              "    </tr>\n",
              "  </tbody>\n",
              "</table>\n",
              "</div>"
            ],
            "text/plain": [
              "                                price\n",
              "date                                 \n",
              "2010-02-01 00:00:00+00:00  265.514771\n",
              "2010-02-02 00:00:00+00:00  264.568329\n",
              "2010-02-03 00:00:00+00:00  269.400208\n",
              "2010-02-04 00:00:00+00:00  262.406433\n",
              "2010-02-05 00:00:00+00:00  264.653015"
            ]
          },
          "metadata": {
            "tags": []
          },
          "execution_count": 51
        }
      ]
    },
    {
      "cell_type": "markdown",
      "metadata": {
        "id": "gcOed1kUO-3o",
        "colab_type": "text"
      },
      "source": [
        "**Merge both tables**"
      ]
    },
    {
      "cell_type": "code",
      "metadata": {
        "id": "cXmQEVl2OZXD",
        "colab_type": "code",
        "outputId": "c0a545c0-a9df-42d8-a66d-ab499faaae31",
        "colab": {
          "base_uri": "https://localhost:8080/",
          "height": 235
        }
      },
      "source": [
        "from functools import reduce\n",
        "tables = [series, google]\n",
        "total = reduce(lambda left,right: pd.merge(left,right,on='date'), tables)\n",
        "total = total.dropna()\n",
        "total.head()"
      ],
      "execution_count": 0,
      "outputs": [
        {
          "output_type": "execute_result",
          "data": {
            "text/html": [
              "<div>\n",
              "<style scoped>\n",
              "    .dataframe tbody tr th:only-of-type {\n",
              "        vertical-align: middle;\n",
              "    }\n",
              "\n",
              "    .dataframe tbody tr th {\n",
              "        vertical-align: top;\n",
              "    }\n",
              "\n",
              "    .dataframe thead th {\n",
              "        text-align: right;\n",
              "    }\n",
              "</style>\n",
              "<table border=\"1\" class=\"dataframe\">\n",
              "  <thead>\n",
              "    <tr style=\"text-align: right;\">\n",
              "      <th></th>\n",
              "      <th>load</th>\n",
              "      <th>wind</th>\n",
              "      <th>price</th>\n",
              "    </tr>\n",
              "    <tr>\n",
              "      <th>date</th>\n",
              "      <th></th>\n",
              "      <th></th>\n",
              "      <th></th>\n",
              "    </tr>\n",
              "  </thead>\n",
              "  <tbody>\n",
              "    <tr>\n",
              "      <th>2010-02-01 00:00:00+00:00</th>\n",
              "      <td>1536.453</td>\n",
              "      <td>151.409</td>\n",
              "      <td>265.514771</td>\n",
              "    </tr>\n",
              "    <tr>\n",
              "      <th>2010-02-02 00:00:00+00:00</th>\n",
              "      <td>1607.625</td>\n",
              "      <td>316.688</td>\n",
              "      <td>264.568329</td>\n",
              "    </tr>\n",
              "    <tr>\n",
              "      <th>2010-02-03 00:00:00+00:00</th>\n",
              "      <td>1585.581</td>\n",
              "      <td>225.569</td>\n",
              "      <td>269.400208</td>\n",
              "    </tr>\n",
              "    <tr>\n",
              "      <th>2010-02-04 00:00:00+00:00</th>\n",
              "      <td>1521.671</td>\n",
              "      <td>82.257</td>\n",
              "      <td>262.406433</td>\n",
              "    </tr>\n",
              "    <tr>\n",
              "      <th>2010-02-05 00:00:00+00:00</th>\n",
              "      <td>1509.085</td>\n",
              "      <td>141.031</td>\n",
              "      <td>264.653015</td>\n",
              "    </tr>\n",
              "  </tbody>\n",
              "</table>\n",
              "</div>"
            ],
            "text/plain": [
              "                               load     wind       price\n",
              "date                                                    \n",
              "2010-02-01 00:00:00+00:00  1536.453  151.409  265.514771\n",
              "2010-02-02 00:00:00+00:00  1607.625  316.688  264.568329\n",
              "2010-02-03 00:00:00+00:00  1585.581  225.569  269.400208\n",
              "2010-02-04 00:00:00+00:00  1521.671   82.257  262.406433\n",
              "2010-02-05 00:00:00+00:00  1509.085  141.031  264.653015"
            ]
          },
          "metadata": {
            "tags": []
          },
          "execution_count": 52
        }
      ]
    },
    {
      "cell_type": "markdown",
      "metadata": {
        "id": "QOYJTKS2Pe-j",
        "colab_type": "text"
      },
      "source": [
        "**Add Derivatives**"
      ]
    },
    {
      "cell_type": "code",
      "metadata": {
        "id": "o45E645NPsEL",
        "colab_type": "code",
        "outputId": "60c72415-0240-4ca9-af5e-9038907193ea",
        "colab": {
          "base_uri": "https://localhost:8080/",
          "height": 235
        }
      },
      "source": [
        "# Add delta between load and wind (Take absolute values of delta and round percentage values)\n",
        "total['delta'] = (total['load'] - total['wind']).abs().round(2)\n",
        "total['percent'] = ((total['delta'] / total['load'])*(100)).round(2)\n",
        "total = total.sort_values(by='delta', ascending=False)\n",
        "total.head()"
      ],
      "execution_count": 0,
      "outputs": [
        {
          "output_type": "execute_result",
          "data": {
            "text/html": [
              "<div>\n",
              "<style scoped>\n",
              "    .dataframe tbody tr th:only-of-type {\n",
              "        vertical-align: middle;\n",
              "    }\n",
              "\n",
              "    .dataframe tbody tr th {\n",
              "        vertical-align: top;\n",
              "    }\n",
              "\n",
              "    .dataframe thead th {\n",
              "        text-align: right;\n",
              "    }\n",
              "</style>\n",
              "<table border=\"1\" class=\"dataframe\">\n",
              "  <thead>\n",
              "    <tr style=\"text-align: right;\">\n",
              "      <th></th>\n",
              "      <th>load</th>\n",
              "      <th>wind</th>\n",
              "      <th>price</th>\n",
              "      <th>delta</th>\n",
              "      <th>percent</th>\n",
              "    </tr>\n",
              "    <tr>\n",
              "      <th>date</th>\n",
              "      <th></th>\n",
              "      <th></th>\n",
              "      <th></th>\n",
              "      <th></th>\n",
              "      <th></th>\n",
              "    </tr>\n",
              "  </thead>\n",
              "  <tbody>\n",
              "    <tr>\n",
              "      <th>2017-01-24 00:00:00+00:00</th>\n",
              "      <td>1682.002</td>\n",
              "      <td>31.375</td>\n",
              "      <td>823.869995</td>\n",
              "      <td>1650.63</td>\n",
              "      <td>98.13</td>\n",
              "    </tr>\n",
              "    <tr>\n",
              "      <th>2017-01-23 00:00:00+00:00</th>\n",
              "      <td>1663.492</td>\n",
              "      <td>39.710</td>\n",
              "      <td>819.309998</td>\n",
              "      <td>1623.78</td>\n",
              "      <td>97.61</td>\n",
              "    </tr>\n",
              "    <tr>\n",
              "      <th>2014-12-03 00:00:00+00:00</th>\n",
              "      <td>1649.827</td>\n",
              "      <td>26.247</td>\n",
              "      <td>529.865234</td>\n",
              "      <td>1623.58</td>\n",
              "      <td>98.41</td>\n",
              "    </tr>\n",
              "    <tr>\n",
              "      <th>2015-01-20 00:00:00+00:00</th>\n",
              "      <td>1629.730</td>\n",
              "      <td>16.737</td>\n",
              "      <td>505.512115</td>\n",
              "      <td>1612.99</td>\n",
              "      <td>98.97</td>\n",
              "    </tr>\n",
              "    <tr>\n",
              "      <th>2015-02-04 00:00:00+00:00</th>\n",
              "      <td>1651.314</td>\n",
              "      <td>40.218</td>\n",
              "      <td>521.328674</td>\n",
              "      <td>1611.10</td>\n",
              "      <td>97.56</td>\n",
              "    </tr>\n",
              "  </tbody>\n",
              "</table>\n",
              "</div>"
            ],
            "text/plain": [
              "                               load    wind       price    delta  percent\n",
              "date                                                                     \n",
              "2017-01-24 00:00:00+00:00  1682.002  31.375  823.869995  1650.63    98.13\n",
              "2017-01-23 00:00:00+00:00  1663.492  39.710  819.309998  1623.78    97.61\n",
              "2014-12-03 00:00:00+00:00  1649.827  26.247  529.865234  1623.58    98.41\n",
              "2015-01-20 00:00:00+00:00  1629.730  16.737  505.512115  1612.99    98.97\n",
              "2015-02-04 00:00:00+00:00  1651.314  40.218  521.328674  1611.10    97.56"
            ]
          },
          "metadata": {
            "tags": []
          },
          "execution_count": 56
        }
      ]
    },
    {
      "cell_type": "markdown",
      "metadata": {
        "id": "QJEGvW01RROu",
        "colab_type": "text"
      },
      "source": [
        "**Query Table**"
      ]
    },
    {
      "cell_type": "code",
      "metadata": {
        "id": "kmnHJcgyRg9l",
        "colab_type": "code",
        "outputId": "46ae9a21-80ad-44ba-a4e0-30727a8f60e9",
        "colab": {
          "base_uri": "https://localhost:8080/",
          "height": 125
        }
      },
      "source": [
        "total.max()"
      ],
      "execution_count": 0,
      "outputs": [
        {
          "output_type": "execute_result",
          "data": {
            "text/plain": [
              "load       1709.568000\n",
              "wind        826.278000\n",
              "price      1077.140015\n",
              "delta      1650.630000\n",
              "percent      99.550000\n",
              "dtype: float64"
            ]
          },
          "metadata": {
            "tags": []
          },
          "execution_count": 60
        }
      ]
    },
    {
      "cell_type": "markdown",
      "metadata": {
        "id": "lZW9VlNxRqrM",
        "colab_type": "text"
      },
      "source": [
        "We can see the max value for delta was 1650.63. Now we want to know, how many times it was larger than X:"
      ]
    },
    {
      "cell_type": "code",
      "metadata": {
        "id": "181yIlETRIFu",
        "colab_type": "code",
        "outputId": "7c9b082f-bfdb-4104-a7af-c766586c8596",
        "colab": {
          "base_uri": "https://localhost:8080/",
          "height": 35
        }
      },
      "source": [
        "# How many times went the delta was larger than 1500?\n",
        "\"In %s%% of all days the price delta was > 1500\" % np.int_(len(total.loc[total.delta > 1500]) / len((total.delta)) * 100)"
      ],
      "execution_count": 0,
      "outputs": [
        {
          "output_type": "execute_result",
          "data": {
            "text/plain": [
              "'In 3% of all days the price delta was > 1500'"
            ]
          },
          "metadata": {
            "tags": []
          },
          "execution_count": 62
        }
      ]
    },
    {
      "cell_type": "markdown",
      "metadata": {
        "id": "3n9Ef8l1QQ9D",
        "colab_type": "text"
      },
      "source": [
        "**Remove added Columns**"
      ]
    },
    {
      "cell_type": "code",
      "metadata": {
        "id": "pWObZc5pQWe8",
        "colab_type": "code",
        "outputId": "992582b6-06a2-4715-8c62-c60299f800d1",
        "colab": {
          "base_uri": "https://localhost:8080/",
          "height": 235
        }
      },
      "source": [
        "total = total.drop(columns=['delta', 'percent']).sort_index(ascending=True)\n",
        "total.head()"
      ],
      "execution_count": 0,
      "outputs": [
        {
          "output_type": "execute_result",
          "data": {
            "text/html": [
              "<div>\n",
              "<style scoped>\n",
              "    .dataframe tbody tr th:only-of-type {\n",
              "        vertical-align: middle;\n",
              "    }\n",
              "\n",
              "    .dataframe tbody tr th {\n",
              "        vertical-align: top;\n",
              "    }\n",
              "\n",
              "    .dataframe thead th {\n",
              "        text-align: right;\n",
              "    }\n",
              "</style>\n",
              "<table border=\"1\" class=\"dataframe\">\n",
              "  <thead>\n",
              "    <tr style=\"text-align: right;\">\n",
              "      <th></th>\n",
              "      <th>load</th>\n",
              "      <th>wind</th>\n",
              "      <th>price</th>\n",
              "    </tr>\n",
              "    <tr>\n",
              "      <th>date</th>\n",
              "      <th></th>\n",
              "      <th></th>\n",
              "      <th></th>\n",
              "    </tr>\n",
              "  </thead>\n",
              "  <tbody>\n",
              "    <tr>\n",
              "      <th>2010-02-01 00:00:00+00:00</th>\n",
              "      <td>1536.453</td>\n",
              "      <td>151.409</td>\n",
              "      <td>265.514771</td>\n",
              "    </tr>\n",
              "    <tr>\n",
              "      <th>2010-02-02 00:00:00+00:00</th>\n",
              "      <td>1607.625</td>\n",
              "      <td>316.688</td>\n",
              "      <td>264.568329</td>\n",
              "    </tr>\n",
              "    <tr>\n",
              "      <th>2010-02-03 00:00:00+00:00</th>\n",
              "      <td>1585.581</td>\n",
              "      <td>225.569</td>\n",
              "      <td>269.400208</td>\n",
              "    </tr>\n",
              "    <tr>\n",
              "      <th>2010-02-04 00:00:00+00:00</th>\n",
              "      <td>1521.671</td>\n",
              "      <td>82.257</td>\n",
              "      <td>262.406433</td>\n",
              "    </tr>\n",
              "    <tr>\n",
              "      <th>2010-02-05 00:00:00+00:00</th>\n",
              "      <td>1509.085</td>\n",
              "      <td>141.031</td>\n",
              "      <td>264.653015</td>\n",
              "    </tr>\n",
              "  </tbody>\n",
              "</table>\n",
              "</div>"
            ],
            "text/plain": [
              "                               load     wind       price\n",
              "date                                                    \n",
              "2010-02-01 00:00:00+00:00  1536.453  151.409  265.514771\n",
              "2010-02-02 00:00:00+00:00  1607.625  316.688  264.568329\n",
              "2010-02-03 00:00:00+00:00  1585.581  225.569  269.400208\n",
              "2010-02-04 00:00:00+00:00  1521.671   82.257  262.406433\n",
              "2010-02-05 00:00:00+00:00  1509.085  141.031  264.653015"
            ]
          },
          "metadata": {
            "tags": []
          },
          "execution_count": 54
        }
      ]
    },
    {
      "cell_type": "markdown",
      "metadata": {
        "id": "SosVf8byEeEC",
        "colab_type": "text"
      },
      "source": [
        "## **Normalize or Standardize**"
      ]
    },
    {
      "cell_type": "markdown",
      "metadata": {
        "id": "u5LFkUMSEh3e",
        "colab_type": "text"
      },
      "source": [
        "* Normalization (feature rescaling): data values between 0 and 1.\n",
        "* Normalization is used when distribution of data is unknown or not Gaussian, and the algorithm does not make assumptions about data distribution (k-nearest neighbors or neural nets). Different formula. One way:\n",
        "\n",
        "> $x_{n e w}=\\frac{x-x_{m i n}}{x_{m a x}-x_{m i n}}$\n",
        "\n",
        "\n",
        "* Standardization (z-score or t-score): transforms data to have a mean of zero and a standard deviation of 1. z-score is number of standard deviations from mean (e.g. score of 2 is 2 std above mean).\n",
        "* Standardization assumes Gaussian distribution (not strictly true, but more effective). and the algorithm assumes Gaussian distribution (linear regression, logistic regression, linear discriminant analysis).\n",
        "\n",
        "> $z_{i}=\\frac{x_{i}-\\bar{x}}{s}$"
      ]
    },
    {
      "cell_type": "markdown",
      "metadata": {
        "id": "gMaYcim3MZCS",
        "colab_type": "text"
      },
      "source": [
        "**Apply min max scaler (normalize)**"
      ]
    },
    {
      "cell_type": "code",
      "metadata": {
        "id": "SrL7qUTfEnq_",
        "colab_type": "code",
        "outputId": "25802db4-1691-4e50-8304-a52a4f817037",
        "colab": {
          "base_uri": "https://localhost:8080/",
          "height": 139
        }
      },
      "source": [
        "from sklearn.preprocessing import MinMaxScaler\n",
        "minmax = series.copy()\n",
        "scaler = MinMaxScaler(feature_range=(0,1))\n",
        "minmax = scaler.fit_transform(minmax)\n",
        "minmax"
      ],
      "execution_count": 0,
      "outputs": [
        {
          "output_type": "execute_result",
          "data": {
            "text/plain": [
              "array([[0.26152682,        nan],\n",
              "       [0.62055207,        nan],\n",
              "       [0.6920626 ,        nan],\n",
              "       ...,\n",
              "       [0.52203255, 0.70506422],\n",
              "       [0.43019555, 0.87199474],\n",
              "       [0.30526767, 0.87190821]])"
            ]
          },
          "metadata": {
            "tags": []
          },
          "execution_count": 36
        }
      ]
    },
    {
      "cell_type": "markdown",
      "metadata": {
        "id": "_p7n6ROmLSL1",
        "colab_type": "text"
      },
      "source": [
        "**Exkurs: Reformat into pandas dataframe (and round numbers)**"
      ]
    },
    {
      "cell_type": "code",
      "metadata": {
        "id": "YRYDOiaaLRYy",
        "colab_type": "code",
        "outputId": "97a7d28e-ec14-449f-9f85-e7690e17f230",
        "colab": {
          "base_uri": "https://localhost:8080/",
          "height": 197
        }
      },
      "source": [
        "minmax = pd.DataFrame (minmax, columns = ['load', 'wind']).round(2)\n",
        "minmax.head()"
      ],
      "execution_count": 0,
      "outputs": [
        {
          "output_type": "execute_result",
          "data": {
            "text/html": [
              "<div>\n",
              "<style scoped>\n",
              "    .dataframe tbody tr th:only-of-type {\n",
              "        vertical-align: middle;\n",
              "    }\n",
              "\n",
              "    .dataframe tbody tr th {\n",
              "        vertical-align: top;\n",
              "    }\n",
              "\n",
              "    .dataframe thead th {\n",
              "        text-align: right;\n",
              "    }\n",
              "</style>\n",
              "<table border=\"1\" class=\"dataframe\">\n",
              "  <thead>\n",
              "    <tr style=\"text-align: right;\">\n",
              "      <th></th>\n",
              "      <th>load</th>\n",
              "      <th>wind</th>\n",
              "    </tr>\n",
              "  </thead>\n",
              "  <tbody>\n",
              "    <tr>\n",
              "      <th>0</th>\n",
              "      <td>0.26</td>\n",
              "      <td>NaN</td>\n",
              "    </tr>\n",
              "    <tr>\n",
              "      <th>1</th>\n",
              "      <td>0.62</td>\n",
              "      <td>NaN</td>\n",
              "    </tr>\n",
              "    <tr>\n",
              "      <th>2</th>\n",
              "      <td>0.69</td>\n",
              "      <td>NaN</td>\n",
              "    </tr>\n",
              "    <tr>\n",
              "      <th>3</th>\n",
              "      <td>0.71</td>\n",
              "      <td>NaN</td>\n",
              "    </tr>\n",
              "    <tr>\n",
              "      <th>4</th>\n",
              "      <td>0.73</td>\n",
              "      <td>NaN</td>\n",
              "    </tr>\n",
              "  </tbody>\n",
              "</table>\n",
              "</div>"
            ],
            "text/plain": [
              "   load  wind\n",
              "0  0.26   NaN\n",
              "1  0.62   NaN\n",
              "2  0.69   NaN\n",
              "3  0.71   NaN\n",
              "4  0.73   NaN"
            ]
          },
          "metadata": {
            "tags": []
          },
          "execution_count": 38
        }
      ]
    },
    {
      "cell_type": "markdown",
      "metadata": {
        "id": "MOWPo17HKuIw",
        "colab_type": "text"
      },
      "source": [
        "**Divide by max value ever seen in series**"
      ]
    },
    {
      "cell_type": "code",
      "metadata": {
        "id": "WK6NPX6CKDPo",
        "colab_type": "code",
        "outputId": "6152ca07-9146-41b5-f6b3-8b9068b96a52",
        "colab": {
          "base_uri": "https://localhost:8080/",
          "height": 286
        }
      },
      "source": [
        "total = series.apply(lambda x: x/x.cummax(), axis=0)\n",
        "total = total.dropna()\n",
        "total.describe()"
      ],
      "execution_count": 0,
      "outputs": [
        {
          "output_type": "execute_result",
          "data": {
            "text/html": [
              "<div>\n",
              "<style scoped>\n",
              "    .dataframe tbody tr th:only-of-type {\n",
              "        vertical-align: middle;\n",
              "    }\n",
              "\n",
              "    .dataframe tbody tr th {\n",
              "        vertical-align: top;\n",
              "    }\n",
              "\n",
              "    .dataframe thead th {\n",
              "        text-align: right;\n",
              "    }\n",
              "</style>\n",
              "<table border=\"1\" class=\"dataframe\">\n",
              "  <thead>\n",
              "    <tr style=\"text-align: right;\">\n",
              "      <th></th>\n",
              "      <th>load</th>\n",
              "      <th>wind</th>\n",
              "    </tr>\n",
              "  </thead>\n",
              "  <tbody>\n",
              "    <tr>\n",
              "      <th>count</th>\n",
              "      <td>2920.000000</td>\n",
              "      <td>2920.000000</td>\n",
              "    </tr>\n",
              "    <tr>\n",
              "      <th>mean</th>\n",
              "      <td>0.789431</td>\n",
              "      <td>0.276189</td>\n",
              "    </tr>\n",
              "    <tr>\n",
              "      <th>std</th>\n",
              "      <td>0.097546</td>\n",
              "      <td>0.216730</td>\n",
              "    </tr>\n",
              "    <tr>\n",
              "      <th>min</th>\n",
              "      <td>0.526348</td>\n",
              "      <td>0.012313</td>\n",
              "    </tr>\n",
              "    <tr>\n",
              "      <th>25%</th>\n",
              "      <td>0.716935</td>\n",
              "      <td>0.113586</td>\n",
              "    </tr>\n",
              "    <tr>\n",
              "      <th>50%</th>\n",
              "      <td>0.808642</td>\n",
              "      <td>0.212297</td>\n",
              "    </tr>\n",
              "    <tr>\n",
              "      <th>75%</th>\n",
              "      <td>0.856170</td>\n",
              "      <td>0.376214</td>\n",
              "    </tr>\n",
              "    <tr>\n",
              "      <th>max</th>\n",
              "      <td>1.000000</td>\n",
              "      <td>1.000000</td>\n",
              "    </tr>\n",
              "  </tbody>\n",
              "</table>\n",
              "</div>"
            ],
            "text/plain": [
              "              load         wind\n",
              "count  2920.000000  2920.000000\n",
              "mean      0.789431     0.276189\n",
              "std       0.097546     0.216730\n",
              "min       0.526348     0.012313\n",
              "25%       0.716935     0.113586\n",
              "50%       0.808642     0.212297\n",
              "75%       0.856170     0.376214\n",
              "max       1.000000     1.000000"
            ]
          },
          "metadata": {
            "tags": []
          },
          "execution_count": 39
        }
      ]
    },
    {
      "cell_type": "markdown",
      "metadata": {
        "id": "PPb2irNteYRp",
        "colab_type": "text"
      },
      "source": [
        "## **Filter & Visualize**"
      ]
    },
    {
      "cell_type": "markdown",
      "metadata": {
        "id": "owB1oPBbME9F",
        "colab_type": "text"
      },
      "source": [
        "**Filter specific data**"
      ]
    },
    {
      "cell_type": "code",
      "metadata": {
        "id": "Ib91xtkyLwqx",
        "colab_type": "code",
        "outputId": "def627a2-ce34-4eae-93f8-33a68bd26fc3",
        "colab": {
          "base_uri": "https://localhost:8080/",
          "height": 235
        }
      },
      "source": [
        "# Find top 8 data (first filter feature, then check for largest value)\n",
        "df = series[['load']].nlargest(8, 'load').round(2)\n",
        "df.head()"
      ],
      "execution_count": 0,
      "outputs": [
        {
          "output_type": "execute_result",
          "data": {
            "text/html": [
              "<div>\n",
              "<style scoped>\n",
              "    .dataframe tbody tr th:only-of-type {\n",
              "        vertical-align: middle;\n",
              "    }\n",
              "\n",
              "    .dataframe tbody tr th {\n",
              "        vertical-align: top;\n",
              "    }\n",
              "\n",
              "    .dataframe thead th {\n",
              "        text-align: right;\n",
              "    }\n",
              "</style>\n",
              "<table border=\"1\" class=\"dataframe\">\n",
              "  <thead>\n",
              "    <tr style=\"text-align: right;\">\n",
              "      <th></th>\n",
              "      <th>load</th>\n",
              "    </tr>\n",
              "    <tr>\n",
              "      <th>date</th>\n",
              "      <th></th>\n",
              "    </tr>\n",
              "  </thead>\n",
              "  <tbody>\n",
              "    <tr>\n",
              "      <th>2010-12-01 00:00:00+00:00</th>\n",
              "      <td>1709.57</td>\n",
              "    </tr>\n",
              "    <tr>\n",
              "      <th>2017-01-24 00:00:00+00:00</th>\n",
              "      <td>1682.00</td>\n",
              "    </tr>\n",
              "    <tr>\n",
              "      <th>2017-01-25 00:00:00+00:00</th>\n",
              "      <td>1674.17</td>\n",
              "    </tr>\n",
              "    <tr>\n",
              "      <th>2016-01-19 00:00:00+00:00</th>\n",
              "      <td>1672.32</td>\n",
              "    </tr>\n",
              "    <tr>\n",
              "      <th>2016-12-07 00:00:00+00:00</th>\n",
              "      <td>1671.13</td>\n",
              "    </tr>\n",
              "  </tbody>\n",
              "</table>\n",
              "</div>"
            ],
            "text/plain": [
              "                              load\n",
              "date                              \n",
              "2010-12-01 00:00:00+00:00  1709.57\n",
              "2017-01-24 00:00:00+00:00  1682.00\n",
              "2017-01-25 00:00:00+00:00  1674.17\n",
              "2016-01-19 00:00:00+00:00  1672.32\n",
              "2016-12-07 00:00:00+00:00  1671.13"
            ]
          },
          "metadata": {
            "tags": []
          },
          "execution_count": 35
        }
      ]
    },
    {
      "cell_type": "markdown",
      "metadata": {
        "id": "-OwYYryMMIDC",
        "colab_type": "text"
      },
      "source": [
        "**Visualize specific features**"
      ]
    },
    {
      "cell_type": "code",
      "metadata": {
        "id": "TqajC14ARMBn",
        "colab_type": "code",
        "outputId": "4650f6a2-5916-444d-887e-eef1c44faaf4",
        "colab": {
          "base_uri": "https://localhost:8080/",
          "height": 373
        }
      },
      "source": [
        "# Optional: Select on feature to visualize\n",
        "load = series[['load']]\n",
        "\n",
        "# Visualize Series\n",
        "sns.set(rc={'figure.figsize':(12, 5), \"lines.linewidth\": 1.0})\n",
        "load.plot(title='Daily Energy Consumption')"
      ],
      "execution_count": 0,
      "outputs": [
        {
          "output_type": "execute_result",
          "data": {
            "text/plain": [
              "<matplotlib.axes._subplots.AxesSubplot at 0x7fcbed1700f0>"
            ]
          },
          "metadata": {
            "tags": []
          },
          "execution_count": 36
        },
        {
          "output_type": "display_data",
          "data": {
            "image/png": "[encoded data removed]",
            "text/plain": [
              "<Figure size 864x360 with 1 Axes>"
            ]
          },
          "metadata": {
            "tags": []
          }
        }
      ]
    },
    {
      "cell_type": "markdown",
      "metadata": {
        "id": "KrUW8An6cRNF",
        "colab_type": "text"
      },
      "source": [
        "**Select specific data range in time series**"
      ]
    },
    {
      "cell_type": "code",
      "metadata": {
        "id": "9aerOVOScN_N",
        "colab_type": "code",
        "outputId": "0f5a73dc-ea1e-42e4-eebd-cf12eebf2d40",
        "colab": {
          "base_uri": "https://localhost:8080/",
          "height": 385
        }
      },
      "source": [
        "# Optional: Select specific data range\n",
        "load_2015 = load['2015-01-01':'2015-12-31']\n",
        "\n",
        "# Visualize Series\n",
        "sns.set(rc={'figure.figsize':(12, 5), \"lines.linewidth\": 1.0})\n",
        "load_2015.plot(title='Daily Energy Consumption')"
      ],
      "execution_count": 0,
      "outputs": [
        {
          "output_type": "execute_result",
          "data": {
            "text/plain": [
              "<matplotlib.axes._subplots.AxesSubplot at 0x7fcbed0779e8>"
            ]
          },
          "metadata": {
            "tags": []
          },
          "execution_count": 37
        },
        {
          "output_type": "display_data",
          "data": {
            "image/png": "[encoded data removed]",
            "text/plain": [
              "<Figure size 864x360 with 1 Axes>"
            ]
          },
          "metadata": {
            "tags": []
          }
        }
      ]
    },
    {
      "cell_type": "markdown",
      "metadata": {
        "id": "LO_ndrAhFgBj",
        "colab_type": "text"
      },
      "source": [
        "## **Appendix**"
      ]
    },
    {
      "cell_type": "code",
      "metadata": {
        "id": "8XsYVpU0j4n9",
        "colab_type": "code",
        "outputId": "d300b5d3-9f45-4c43-9e53-ea7253762261",
        "colab": {
          "base_uri": "https://localhost:8080/",
          "height": 310
        }
      },
      "source": [
        "# Trend and Seasonality Test\n",
        "seasonal_plots = series.copy()\n",
        "seasonal_plots.reset_index(inplace=True)\n",
        "\n",
        "# Prepare data\n",
        "seasonal_plots['year'] = [d.year for d in seasonal_plots.date]\n",
        "seasonal_plots['month'] = [d.strftime('%b') for d in seasonal_plots.date]\n",
        "years = seasonal_plots['year'].unique()\n",
        "\n",
        "# Draw Plot\n",
        "fig, axes = plt.subplots(1, 2, figsize=(15,5), dpi= 80)\n",
        "sns.boxplot(x='year', y='values', data=seasonal_plots, ax=axes[0])\n",
        "sns.boxplot(x='month', y='values', data=seasonal_plots.loc[~seasonal_plots.year.isin([1991, 2008]), :])\n",
        "\n",
        "# Set Title\n",
        "axes[0].set_title('Year-wise Box Plot\\n(The Trend)', fontsize=12); \n",
        "axes[1].set_title('Month-wise Box Plot\\n(The Seasonality)', fontsize=12)\n",
        "plt.show()"
      ],
      "execution_count": 0,
      "outputs": [
        {
          "output_type": "display_data",
          "data": {
            "image/png": "[encoded data removed]",
            "text/plain": [
              "<Figure size 1200x400 with 2 Axes>"
            ]
          },
          "metadata": {
            "tags": []
          }
        }
      ]
    }
  ]
}