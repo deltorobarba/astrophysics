{
  "nbformat": 4,
  "nbformat_minor": 0,
  "metadata": {
    "colab": {
      "name": "maths.ipynb",
      "provenance": [],
      "collapsed_sections": [
        "Qhb3ipJHUKJW",
        "wYsD8n3CMWIR",
        "kJDaxgzh--ui",
        "GgSzA4IwURCu",
        "ZOCcYN8atwYH",
        "2fYujs_mJiGj",
        "1SzVM_J5zGHm",
        "jWk-hx1ltRSU",
        "N7cbjV9wSlv7",
        "8s8d6SY6RbyN",
        "IzUr9NfyjYRj",
        "rYnM169ZFHeZ",
        "NTK-u1Q4nrGv",
        "0z7cDFlh_eL1",
        "ZnohitquaGyf",
        "BlgzCv4_YyQm",
        "ihVXTXbIwRf7"
      ],
      "include_colab_link": true
    },
    "kernelspec": {
      "name": "python3",
      "display_name": "Python 3"
    }
  },
  "cells": [
    {
      "cell_type": "markdown",
      "metadata": {
        "id": "view-in-github",
        "colab_type": "text"
      },
      "source": [
        "<a href=\"https://colab.research.google.com/github/deltorobarba/machinelearning/blob/master/maths.ipynb\" target=\"_parent\"><img src=\"https://colab.research.google.com/assets/colab-badge.svg\" alt=\"Open In Colab\"/></a>"
      ]
    },
    {
      "cell_type": "markdown",
      "metadata": {
        "id": "uYQVihuXzx6u"
      },
      "source": [
        "# **Mathematics of Quantum Mechanics $\\otimes$**"
      ]
    },
    {
      "cell_type": "code",
      "metadata": {
        "id": "jObfS0OgRhq6"
      },
      "source": [
        "!pip install cirq --quiet\n",
        "import cirq\n",
        "import sympy\n",
        "from cirq.contrib.svg import SVGCircuit\n",
        "import numpy as np\n",
        "import pandas as pd\n",
        "import seaborn as sns\n",
        "import matplotlib.pyplot as plt # %matplotlib inline\n",
        "print(cirq.__version__)"
      ],
      "execution_count": null,
      "outputs": []
    },
    {
      "cell_type": "markdown",
      "metadata": {
        "id": "Qhb3ipJHUKJW"
      },
      "source": [
        "###### **<font color=\"orange\">Complex Numbers, Group Theory (Unitary Operators) and C*-Algebra**"
      ]
    },
    {
      "cell_type": "markdown",
      "metadata": {
        "id": "Vu66cTbSUM6Q"
      },
      "source": [
        "Während sich die Menge $\\mathbb {R}$  der reellen Zahlen durch Punkte auf einer Zahlengeraden veranschaulichen lässt, kann man die Menge $ \\mathbb {C}$ der komplexen Zahlen als Punkte in einer Ebene (komplexe Ebene, gaußsche Zahlenebene) darstellen\n",
        "\n",
        "*Gaußsche Ebene mit einer komplexen Zahl in kartesischen Koordinaten (a,b) und in Polarkoordinaten (r,φ)*\n",
        "\n",
        "![gg](https://upload.wikimedia.org/wikipedia/commons/thumb/c/c6/Komplexe_zahlenebene.svg/320px-Komplexe_zahlenebene.svg.png)\n",
        "\n",
        "* die Addition komplexer Zahlen entspricht der Vektoraddition, wobei man die Punkte in der Zahlenebene mit ihren Ortsvektoren identifiziert. \n",
        "\n"
      ]
    },
    {
      "cell_type": "markdown",
      "metadata": {
        "id": "B8drSec8eMOQ"
      },
      "source": [
        "**Drehstreckung: Multiplikation komplexer Zahlen in der gaußschen Ebene**"
      ]
    },
    {
      "cell_type": "markdown",
      "metadata": {
        "id": "1BH9FJGFeJQt"
      },
      "source": [
        "Die Multiplikation ist in der gaußschen Ebene eine [Drehstreckung](https://de.m.wikipedia.org/wiki/Drehstreckung), was nach Einführung der Polarform weiter unten klarer werden wird.\n",
        "\n",
        "* Jede Drehstreckung (mit Ausnahme der Identität) hat genau einen Fixpunkt, auch Zentrum genannt. Liegt dieser Fixpunkt im Koordinatenursprung, so lässt sich die Drehstreckung als Matrixmultiplikation schreiben:\n",
        "\n",
        "> $\n",
        "\\left(\\begin{array}{l}\n",
        "x \\\\\n",
        "y\n",
        "\\end{array}\\right) \\mapsto\\left(\\begin{array}{cc}\n",
        "r \\cos \\phi & -r \\sin \\phi \\\\\n",
        "r \\sin \\phi & r \\cos \\phi\n",
        "\\end{array}\\right) \\cdot\\left(\\begin{array}{l}\n",
        "x \\\\\n",
        "y\n",
        "\\end{array}\\right)=\\left(\\begin{array}{l}\n",
        "r \\cos \\phi \\cdot x-r \\sin \\phi \\cdot y \\\\\n",
        "r \\sin \\phi \\cdot x+r \\cos \\phi \\cdot y\n",
        "\\end{array}\\right)\n",
        "$\n",
        "\n",
        "  * **Dabei ist $r \\neq 0$ der Skalierungsfaktor und $\\phi$ der Drehwinkel**.\n",
        "\n",
        "\n",
        "  * In der komplexen Ebene lässt sich die gleiche Abbildung als komplexe Multiplikation schreiben:\n",
        "\n",
        "> <font color=\"blue\">**$\n",
        "z \\mapsto r e^{i \\phi} \\cdot z$</font> $ \\quad \\text { mit } z \\in \\mathbb{C}, r \\in \\mathbb{R} \\backslash\\{0\\}, \\phi \\in \\mathbb{R}\n",
        "$**\n",
        "\n",
        "  * Im Unit circle ist Skalierungsfaktor $r \\neq 0$ = 1 und kann weggelassen werden."
      ]
    },
    {
      "cell_type": "markdown",
      "metadata": {
        "id": "t5xvXQ13acxr"
      },
      "source": [
        "**Komplexe Zahlen in Polarform**"
      ]
    },
    {
      "cell_type": "markdown",
      "metadata": {
        "id": "EfCXLkHXWVy8"
      },
      "source": [
        "Verwendet man anstelle der kartesischen Koordinaten \n",
        "\n",
        "> $a=\\operatorname{Re}(z)$ und $b=\\operatorname{Im}(z)$ \n",
        "\n",
        "die Polarkoordinaten \n",
        "\n",
        "> $r=|z|$ und $\\varphi=\\arg (z)$ \n",
        "\n",
        "mit arg als der Argument-Funktion, kann man die komplexe Zahl $z=a+b$ i auch in der folgenden, auf der eulerschen Relation beruhenden sogenannten Polarform (auch Polardarstellung) darstellen: \n",
        "\n",
        ">$\n",
        "z=r \\cdot \\mathrm{e}^{\\mathrm{i} \\varphi}=r \\cdot(\\cos \\varphi+\\mathrm{i} \\cdot \\sin \\varphi)\n",
        "$\n",
        "\n",
        "die sich aus \n",
        "\n",
        "> $a=r \\cdot \\cos \\varphi$ und $b=r \\cdot \\sin \\varphi$ \n",
        "\n",
        "ergibt."
      ]
    },
    {
      "cell_type": "markdown",
      "metadata": {
        "id": "d9olhX_emzjD"
      },
      "source": [
        "Die Darstellung mit Hilfe der komplexen e-Funktion heißt dabei auch **Exponentialdarstellung (der Polarform)**:\n",
        "\n",
        "> <font color=\"blue\">$r \\cdot \\mathrm{e}^{\\mathrm{i} \\varphi}$\n",
        "\n",
        "Die folgende Darstellung heisst **trigonometrische Darstellung** (der Polarform):\n",
        "\n",
        "> <font color=\"blue\">$r \\cdot(\\cos \\varphi+\\mathrm{i} \\cdot \\sin \\varphi)$\n",
        "\n",
        "Aufgrund der eulerschen Relation sind beide Darstellungen gleichwertig. Des Weiteren gibt es für sie, namentlich in der Praxis, die verkürzten Schreibweisen\n",
        "\n",
        ">$\n",
        "z=r \\cdot \\text { cis } \\varphi=r \\cdot \\mathrm{E}(\\varphi)=r \\angle \\varphi\n",
        "$\n",
        "\n",
        "in denen cis $\\varphi$ für die Summe $\\cos \\varphi+i \\cdot \\sin \\varphi$ steht und die Darstellung mit dem Winkeloperator $\\angle$ als Versordarstellung bezeichnet wird."
      ]
    },
    {
      "cell_type": "markdown",
      "metadata": {
        "id": "NITc6M2wWXn1"
      },
      "source": [
        "In der komplexen Zahlenebene entspricht dabei $r$ der euklidischen Vektorlänge (d. h. dem Abstand zum Ursprung 0 ) und $\\varphi$ dem mit der reellen Achse eingeschlossenen Winkel der Zahl $z$.\n",
        "\n",
        "Üblicherweise jedoch nennt man $r$ hier den **Betrag von $\\dot{z}$ (oder auch seinen Modul)** (Schreibweise $r=|z|$ ) und den Winkel $\\varphi$ das Argument (**oder auch die Phase**) von $z$ (Schreibweise $\\varphi=\\arg (z)$ ).\n",
        "\n",
        "Da $\\varphi$ und $\\varphi+2 \\pi$ dabei derselben Zahl $z$ zugeordnet werden können, ist die Polardarstellung zunächst nicht eindeutig. Deshalb schränkt man $\\varphi$ meist auf das Intervall $(-\\pi ; \\pi]$, also $-\\pi<\\varphi \\leq \\pi$ ein, um anschließend statt vom Argument selbst von seinem Hauptwert für $z \\neq 0$ zu sprechen. Der Zahl $z=0$ indes ließe sich jedes beliebige Argument zuordnen, und zum Zweck einer eindeutigen Darstellung kann man es in diesem Fall tatsächlich auf 0 festlegen.\n",
        "\n",
        "Das Argument von $z$ ist auch der Imaginärteil des komplexen natürlichen Logarithmus\n",
        "\n",
        ">$\n",
        "\\ln z=\\ln |z|+\\mathrm{i} \\cdot \\arg (z)\n",
        "$\n",
        "\n",
        "Mit der Wahl eines auf ganz $\\mathbb{C}$ definierten Zweiges des Logarithmus ist also auch eine Argumentfunktion bestimmt (und umgekehrt).\n"
      ]
    },
    {
      "cell_type": "markdown",
      "metadata": {
        "id": "T-6KESn_ZjCK"
      },
      "source": [
        "**Als Kreisgruppe und als unitäre Gruppe**"
      ]
    },
    {
      "cell_type": "markdown",
      "metadata": {
        "id": "NB1Mln1CmkqV"
      },
      "source": [
        "> **Alle Werte $\\mathrm{e}^{\\mathrm{i} \\varphi}$ bilden den Einheitskreis der komplexen Zahlen mit dem Betrag 1 , diese Zahlen werden auch <u>unimodular</u> genannt und bilden die [Kreisgruppe](https://de.m.wikipedia.org/wiki/Kreisgruppe)**.\n"
      ]
    },
    {
      "cell_type": "markdown",
      "metadata": {
        "id": "-J1ZXcOtmntG"
      },
      "source": [
        "Die Kreisgruppe lässt sich äquivalent als spezielle orthogonale Gruppe $SO(2)$ definieren, d. h. als Menge der reellen Matrizen der folgende Form für die $a^{2}+b^{2}=1$ gilt, mit der Matrizenmultiplikation als Gruppenverknüpfung:\n",
        "\n",
        "> $\n",
        "\\left(\\begin{array}{cc}\n",
        "a & b \\\\\n",
        "-b & a\n",
        "\\end{array}\\right)\n",
        "$\n",
        "\n",
        "Die Kreisgruppe bildet eine Lie-Gruppe."
      ]
    },
    {
      "cell_type": "markdown",
      "metadata": {
        "id": "IavbTWbJmrHY"
      },
      "source": [
        "*Das Produkt von $z=e^{i \\theta_{1}}$ und $w=e^{i \\theta_{2}}$ ist $z w=e^{i\\left(\\theta_{1}+\\theta_{2}\\right)}$:*\n",
        "\n",
        "![gg](https://upload.wikimedia.org/wikipedia/commons/thumb/d/de/Circle_as_Lie_group2.svg/219px-Circle_as_Lie_group2.svg.png)"
      ]
    },
    {
      "cell_type": "markdown",
      "metadata": {
        "id": "HrIvdRGAYlak"
      },
      "source": [
        "$U(1)$ ist die Menge der komplexen Zahlen der Form\n",
        "\n",
        ">$\n",
        "e^{i \\theta}, \\theta \\in \\mathbb{R}\n",
        "$\n",
        "\n",
        "(also genau der komplexen Zahlen vom Betrag 1 ; man beachte, dass \n",
        "\n",
        "> $e^{i \\theta}$ und $e^{i(\\theta+N 2 \\pi)}$ für $N \\in \\mathbb{Z}$\n",
        "\n",
        "demselben Element entsprechen)\n",
        "\n",
        "mit den Gruppenoperationen\n",
        "\n",
        ">$\n",
        "e^{i \\theta_{1}} e^{i \\theta_{2}}=e^{i\\left(\\theta_{1}+\\theta_{2}\\right)}\n",
        "$\n",
        "\n",
        "und\n",
        "\n",
        ">$\n",
        "\\left(e^{i \\theta}\\right)^{-1}=e^{-i \\theta}\n",
        "$\n",
        "\n",
        "Die Gruppe $U(1)$ ist der Spezialfall der unitären Gruppe $U(n)$ für $n=1$.\n"
      ]
    },
    {
      "cell_type": "markdown",
      "metadata": {
        "id": "9kfgzvHnbfwp"
      },
      "source": [
        "> **In der Quantenmechanik werden Teilchen durch komplex-wertige Wellenfunktionen beschrieben und die unitäre Gruppe $U(1)$ wirkt auf diesen Wellenfunktionen durch punktweise Phasentransformation $f \\rightarrow e^{i \\theta} f$ des Funktionswerts. Das ist eine globale Eichinvarianz.** \n",
        "\n",
        "* Als lokale Eichtheorie, in der die Phase $\\theta(x, t)$ eine Funktion von Raum und Zeit ist, entspricht die Eichgruppe U(1) der Quantenelektrodynamik (und der klassischen Elektrodynamik). \n",
        "\n",
        "* Die Eigenwerte von $Q$ entsprechen der elektrischen Ladung der Teilchen, wobei für die Phase $Q \\theta(x, t)$ angesetzt wurde. \n",
        "\n",
        "* In der Quantenelektrodynamik ist der zugrundeliegende Raum der Minkowskiraum und der Formalismus der Relativitätstheorie wird zur Beschreibung benutzt. \n",
        "\n",
        "* Das (relativistische) Vektorpotential entspricht hier dem Zusammenhang auf einem U(1)Prinzipalbündel, der Feldstärketensor der Krümmungs-2-Form des Bündels."
      ]
    },
    {
      "cell_type": "markdown",
      "metadata": {
        "id": "i6ZIsHeWnQAC"
      },
      "source": [
        "**Die endlichen Untergruppen**"
      ]
    },
    {
      "cell_type": "markdown",
      "metadata": {
        "id": "T9nQucv1nhaw"
      },
      "source": [
        "Alle Elemente einer endlichen Untergruppe der multiplikativen Einheitengruppe $\\mathbb{C}^{\\times}=\\mathbb{C} \\backslash\\{0\\}$ sind Einheitswurzeln. Unter allen Ordnungen von Gruppenelementen gibt es eine maximale, etwa $n \\in \\mathbb{N}$. \n",
        "\n",
        "Da $\\mathbb{C}$ kommutativ ist, erzeugt ein Element mit dieser maximalen Ordnung dann auch die Gruppe, **so dass die Gruppe zyklisch ist und genau aus folgenden Elementen besteht**:\n",
        "\n",
        "> <font color=\"blue\">$\n",
        "\\exp \\left(\\frac{2 \\pi \\mathrm{i} k}{n}\\right)$</font> $ \\quad k=0,1, \\ldots, n-1$\n",
        "\n",
        "Alle Elemente liegen auf dem Einheitskreis.\n",
        "Die Vereinigung aller endlichen Untergruppen ist eine Gruppe, die zur Torsionsgruppe $\\mathbb{Q} / \\mathbb{Z}$ isomorph ist. \n",
        "\n",
        "Sie liegt dicht in ihrer Vervollständigung, der schon erwähnten Kreisgruppe, die auch als 1-Sphäre aufgefasst werden kann und zu $\\mathbb{R} / \\mathbb{Z}$ isomorph ist."
      ]
    },
    {
      "cell_type": "markdown",
      "metadata": {
        "id": "bU6umR9ooEBT"
      },
      "source": [
        "*Schaue hier auch Quantum Fourier Transform*:\n",
        "\n",
        "> $|\\tilde{x}\\rangle \\equiv Q F T|x\\rangle$ = $\\frac{1}{\\sqrt{N}} \\sum_{y=0}^{N-1}$ <font color=\"blue\">$ e^{\\frac{2 \\pi i x y}{N}}$</font>$|y\\rangle$\n",
        "\n",
        "Bearbeitet:\n",
        "\n",
        "> In QFT we change the phase <font color=\"blue\">$\\theta$ in $e^{2\\pi i \\theta}$</font> (=Eigenvalue of Oracle function $U$ associated with an eigenvector |u⟩)\n",
        "\n",
        "> Phase <font color=\"blue\">$\\theta$ is $\\frac{x_n}{2^{k}}$ with $x_n$ 0 or 1</font> state and $k$ number of Qubits.\n",
        "\n",
        "Kombiniert verglichen:\n",
        "\n",
        "><font color=\"blue\">$e^{\\frac{2\\pi i x_n}{2^k}}$</font> ähnlich zu: <font color=\"blue\">$\n",
        "\\exp \\left(\\frac{2 \\pi \\mathrm{i} k}{n}\\right)$</font>"
      ]
    },
    {
      "cell_type": "markdown",
      "metadata": {
        "id": "2qp36U1se6W4"
      },
      "source": [
        "**Complex Conjugate**"
      ]
    },
    {
      "cell_type": "markdown",
      "metadata": {
        "id": "8La3I_1Xe_iQ"
      },
      "source": [
        "*Eine komplexe Zahl $z=a+b i$ und die zu ihr konjugiert komplexe Zahl $\\bar{z}=a-b i$*:\n",
        "\n",
        "![gg](https://upload.wikimedia.org/wikipedia/commons/thumb/f/f3/Komplexe_konjugation.svg/294px-Komplexe_konjugation.svg.png)"
      ]
    },
    {
      "cell_type": "markdown",
      "metadata": {
        "id": "3g788UC1feup"
      },
      "source": [
        "Ändert man das Vorzeichen des Imaginärteils $b$ einer komplexen Zahl \n",
        "\n",
        "> $z=a+b \\mathrm{i}$\n",
        "\n",
        "so erhält man die zu $z$ konjugiert komplexe Zahl \n",
        "\n",
        "> $\\bar{z}=a-b \\mathrm{i}$ \n",
        "\n",
        "(manchmal auch $z^{*}$ geschrieben).\n",
        "\n",
        "Die Konjugation $\\mathbb{C} \\rightarrow \\mathbb{C}, z \\mapsto \\bar{z}$ ist ein (involutorischer) Körperautomorphismus, da sie mit Addition und Multiplikation verträglich ist, d. h., für alle $y, z \\in \\mathbb{C}$ gilt\n",
        "\n",
        ">$\n",
        "\\overline{y+z}=\\bar{y}+\\bar{z}, \\quad \\overline{y \\cdot z}=\\bar{y} \\cdot \\bar{z}\n",
        "$\n",
        "\n",
        "In der Polardarstellung hat die konjugiert komplexe Zahl $\\bar{z}$ bei unverändertem Betrag gerade den negativen Winkel von $z$. \n",
        "\n",
        "* **Man kann die Konjugation in der komplexen Zahlenebene also als die Spiegelung an der reellen Achse interpretieren**. \n",
        "\n",
        "* **Insbesondere werden unter der Konjugation genau die reellen Zahlen auf sich selbst abgebildet**.\n",
        "\n",
        "Das Produkt aus einer komplexen Zahl $z=a+b$ i und ihrer komplex Konjugierten $\\bar{z}$ ergibt das Quadrat ihres Betrages:\n",
        "\n",
        "> $\n",
        "z \\cdot \\bar{z}=(a+b i)(a-b i)=a^{2}+b^{2}=|z|^{2}\n",
        "$\n",
        "\n",
        "Die komplexen Zahlen bilden damit ein triviales Beispiel einer [C*-Algebra](https://de.m.wikipedia.org/wiki/C*-Algebra)."
      ]
    },
    {
      "cell_type": "markdown",
      "metadata": {
        "id": "PhPKs42bgYWR"
      },
      "source": [
        "**C*-Algebra**"
      ]
    },
    {
      "cell_type": "markdown",
      "metadata": {
        "id": "9ikZ7LnZgw6I"
      },
      "source": [
        "* C*-Algebren werden im mathematischen Teilgebiet der Funktionalanalysis untersucht. Sie sind in der mathematischen Physik entstanden. \n",
        "\n",
        "* Es handelt sich um eine Abstraktion der beschränkten linearen Operatoren auf einem Hilbertraum, sie spielen daher in der mathematischen Beschreibung der Quantenmechanik eine Rolle. \n",
        "\n",
        "* Das bekannteste Beispiel einer C*-Algebra ist die Algebra ${\\mathcal {B}}({\\mathcal {H}})$ der beschränkten linearen Operatoren auf einem Hilbertraum $\\mathcal {H}$ und allgemeiner jede in der Normtopologie abgeschlossene selbstadjungierte Unteralgebra von ${\\mathcal {B}}({\\mathcal {H}})$.\n",
        "\n",
        "* $C^*$-Algebra: *Algebra wenn man quantenmechanische Operatoren miteinander kombiniert (?)*\n",
        "\n",
        "*  Ist $\\mathcal {H}$ ein Hilbertraum, so nennt man einen $*$-Homomorphismus ${\\mathcal {A}}\\rightarrow {\\mathcal {B}}({\\mathcal {H}})$ eine Hilbertraum-Darstellung oder einfach Darstellung von $\\mathcal A$. Die Theorie der Hilbertraum-Darstellungen ist ein wichtiges Instrument zur weitergehenden Untersuchung von C*-Algebren."
      ]
    },
    {
      "cell_type": "markdown",
      "metadata": {
        "id": "hOQbQ3WikivT"
      },
      "source": [
        "Die Banachalgebra $B(H)$ der stetigen linearen Operatoren über einem Hilbertraum $H$ motiviert die folgende Definition: \n",
        "* Eine Banachalgebra $\\mathcal{A}$, auf der zusätzlich eine semilineare antimultiplikative Involution $*: \\mathcal{A} \\rightarrow \\mathcal{A}, x \\mapsto x^{*}$ gegeben ist, heißt $\\mathrm{C}^{*}$-Algebra, wenn die sogenannte $\\mathrm{C}^{*}$-Bedingung erfüllt ist:\n",
        "\n",
        ">  $\\left\\|x^{*} x\\right\\|=\\|x\\|^{2}$ für alle $x \\in \\mathcal{A}$\n",
        "\n",
        "\n",
        "* Solche Banachalgebren lassen sich auf Hilberträumen darstellen. Sind diese dann in einer gewissen Topologie in der Operatorenalgebra über dem Hilbertraum abgeschlossen, so nennt man sie Von-Neumann-Algebren.\n",
        "\n",
        "Involution ist: $\\forall a \\in \\mathcal{A}:\\left(a^{*}\\right)^{*}=a$ und ist eine Eigenschaft von Banach-Raumen.\n",
        "\n",
        "https://de.m.wikipedia.org/wiki/Banachalgebra#C*-Algebren_und_Von-Neumann-Algebren"
      ]
    },
    {
      "cell_type": "markdown",
      "metadata": {
        "id": "PkGTLRy3lwp7"
      },
      "source": [
        "Eine $C^{*}$-Algebra über dem Körper $\\mathbb{K}=\\mathbb{C}$ oder $\\mathbb{R}$ ist eine Banachalgebra $\\mathcal{A}$ mit einer Involution ${ }^{*}: \\mathcal{A} \\ni a \\mapsto a^{*} \\in \\mathcal{A}$ mit folgenden Eigenschaften\n",
        "\n",
        "* $\\forall a \\in \\mathcal{A}:\\left(a^{*}\\right)^{*}=a$\n",
        "(involutiv)\n",
        "\n",
        "* $\\forall a, b \\in \\mathcal{A}:(a b)^{*}=b^{*} a^{*}$ (anti-multiplikativ)\n",
        "\n",
        "* $\\forall a, b \\in \\mathcal{A}: \\forall z, w \\in \\mathbb{K}:(z a+w b)^{*}=\\bar{z} a^{*}+\\bar{w} b^{*}$ (semilinear, anti-linear oder konjugiert linear)\n",
        "\n",
        "* $\\forall a \\in \\mathcal{A}:\\left\\|a^{*} a\\right\\|=\\|a\\|^{2}$ (C*-Eigenschaft)\n",
        "\n",
        "Aus der $\\mathrm{C}^{*}$-Eigenschaft folgt, dass die Involution isometrisch ist, was sie zusammen mit den ersten drei Eigenschaften der $\\mathrm{C}^{*}$-Algebra zu einer Banach-* Algebra (= involutiven Banachalgebra) macht.\n",
        "Man spricht von einer kommutativen $C^{*}$-Algebra, wenn die Multiplikation kommutativ ist. Die meisten Autoren verstehen unter einer $\\mathrm{C}^{*}$-Algebra stets eine C-Banachalgebra und schreiben genauer reelle C*-Algebra, wenn auch $\\mathbb{R}$ Banachalgebren zugelassen sind."
      ]
    },
    {
      "cell_type": "markdown",
      "metadata": {
        "id": "gESnW8WHY9FQ"
      },
      "source": [
        "*Der Name $C*$-Algebra wurde durch die Veröffentlichung Irreducible representations of operator algebras (1947) des Mathematikers Irving Segal geprägt. Möglicherweise deutet das C in $C*$-Algebra darauf hin, dass $C*$-Algebren ein nichtkommutatives Analogon des Raums der stetigen Funktionen C(T) sind und das Zeichen $*$ betont die Bedeutung der [Involution](https://de.m.wikipedia.org/wiki/Involution_(Mathematik)) (=selbstinverse Abbildung).*"
      ]
    },
    {
      "cell_type": "markdown",
      "metadata": {
        "id": "T-Ld9qpGiL0a"
      },
      "source": [
        "**Hilbertraum-Darstellungen**"
      ]
    },
    {
      "cell_type": "markdown",
      "metadata": {
        "id": "GBg6gqqQiOK6"
      },
      "source": [
        "https://de.m.wikipedia.org/wiki/Hilbertraum-Darstellung\n",
        "\n",
        "* Hilbertraum-Darstellungen sind eine wichtige mathematische Methode zur Untersuchung von Banach-*-Algebren, insbesondere C*-Algebren und Faltungsalgebren lokalkompakter Gruppen. Es handelt sich dabei um Darstellungen als Algebren von Operatoren auf Hilberträumen.\n",
        "\n",
        "* **Gegenüber der allgemeinen in der Algebra betrachteten Darstellungstheorie liegen wegen der Hilbertraum-Struktur zusätzliche Strukturelemente vor**. Da ist zunächst die Topologie des Hilbertraums, die auch auf dem Raum der stetigen linearen Operatoren eine Topologie erzeugt. Eine weitere wichtige Rolle spielt die Involution in der Algebra der stetigen linearen Operatoren auf einem Hilbertraum, die durch die Adjunktion gegeben ist."
      ]
    },
    {
      "cell_type": "markdown",
      "metadata": {
        "id": "wYsD8n3CMWIR"
      },
      "source": [
        "###### **<font color=\"blue\">Mathematical Formulation of Quantum Mechanics</font>**"
      ]
    },
    {
      "cell_type": "markdown",
      "metadata": {
        "id": "ZWc0_gNTcGpn"
      },
      "source": [
        "https://en.m.wikipedia.org/wiki/Projective_Hilbert_space"
      ]
    },
    {
      "cell_type": "markdown",
      "metadata": {
        "id": "yOJWU_kH7180"
      },
      "source": [
        "*Postulate der Quantenmechanik (Kopenhagener Interpretation)*"
      ]
    },
    {
      "cell_type": "markdown",
      "metadata": {
        "id": "MKKG0DSv8FhZ"
      },
      "source": [
        "1. Zustand: Der Zustand eines physikalischen Systems zu einem Zeitpunkt $t_{0}$ wird durch die Angabe eines zum Zustandsraum $\\mathcal{H}$ gehörenden komplexen Zustandsvektors $\\left|\\psi\\left(t_{0}\\right)\\right\\rangle$ definiert. Vektoren, die sich nur um einen von 0 verschiedenen Faktor $c \\in \\mathbb{C}$ unterscheiden, beschreiben denselben Zustand. Der Zustandsraum des Systems ist ein Hilbertraum.\n",
        "\n",
        "2. Observable: Jede Größe $A$, die physikalisch , gemessen\" werden kann, ist durch einen im Zustandsraum wirkenden hermiteschen Operator $\\hat{A}$ beschrieben. Dieser Operator wird als Observable bezeichnet und hat ein reelles Spektrum mit einer vollständigen sogenannten Spektralschar, bestehend aus einem , diskreten\" Anteil mit Eigenvektoren und Eigenwerten (Punktspektrum) und aus einem Kontinuum.\n",
        "\n",
        "3. Messresultat: Resultat der Messung einer physikalischen Größe $A$ kann nur einer der Eigenwerte der entsprechenden Observablen $\\hat{A}$ sein oder bei kontinuierlichem Spektrum des Operators eine messbare Menge aus dem Kontinuum.\n",
        "\n",
        "4. Messwahrscheinlichkeit im Fall eines diskreten nichtentarteten Spektrums: Wenn die physikalische Größe $A$ an einem System im Zustand $|\\psi\\rangle$ gemessen wird, ist die Wahrscheinlichkeit $P\\left(a_{n}\\right)$, den nichtentarteten Eigenwert $a_{n}$ der entsprechenden Observable $\\hat{A}$ zu erhalten (mit dem zugehörigen Eigenvektor $\\left|u_{n}\\right\\rangle$ ) $P\\left(a_{n}\\right)=\\left|\\left\\langle u_{n} \\mid \\psi\\right\\rangle\\right|^{2}$. Dabei seien $\\psi$ und $u_{n}$ normiert.\n",
        "\n",
        "5. Die Zeitentwicklung des Zustandsvektors $|\\psi(t)\\rangle$ ist gegeben durch die folgende Schrödingergleichung, wobei $\\hat{H}(t)$ die der totalen Energie des Systems zugeordnete Observable ist:\n",
        "\n",
        ">$\\mathrm{i} \\hbar \\frac{\\partial}{\\partial t}|\\psi(t)\\rangle=\\hat{H}(t)|\\psi(t)\\rangle$"
      ]
    },
    {
      "cell_type": "markdown",
      "metadata": {
        "id": "qo1XaHex9JCp"
      },
      "source": [
        "https://docs.microsoft.com/de-de/azure/quantum/concepts-dirac-notation#computational-basis-vectors \n",
        "\n",
        "https://docs.microsoft.com/de-de/azure/quantum/concepts-vectors-and-matrices \n",
        "\n",
        "https://docs.microsoft.com/de-de/azure/quantum/concepts-pauli-measurements"
      ]
    },
    {
      "cell_type": "markdown",
      "metadata": {
        "id": "U42AjGJe_Mf1"
      },
      "source": [
        "![ggg](https://upload.wikimedia.org/wikipedia/commons/thumb/e/e7/Hydrogen_Density_Plots.png/528px-Hydrogen_Density_Plots.png)"
      ]
    },
    {
      "cell_type": "markdown",
      "metadata": {
        "id": "iVxiWITZf_Io"
      },
      "source": [
        "https://de.m.wikipedia.org/wiki/Mathematische_Struktur_der_Quantenmechanik"
      ]
    },
    {
      "cell_type": "markdown",
      "metadata": {
        "id": "DtLq1-MOMeWf"
      },
      "source": [
        "https://en.m.wikipedia.org/wiki/Mathematical_formulation_of_quantum_mechanics"
      ]
    },
    {
      "cell_type": "markdown",
      "metadata": {
        "id": "lxskNK5i31kq"
      },
      "source": [
        "**Observable**\n",
        "\n",
        "* [**Observables**](https://de.m.wikipedia.org/wiki/Observable) are any quantity which can be measured in a physical experiment (energy, spin, impulse, position)"
      ]
    },
    {
      "cell_type": "markdown",
      "metadata": {
        "id": "ZyGtn6s_34mF"
      },
      "source": [
        "**Operator**\n",
        "\n",
        "* Any observable should be associated with a **self-adjoint linear operator** (=hermetian, means symmetric, conjugated + transposed). \n",
        "\n",
        "* The mathematical formulation of quantum mechanics (QM) is built upon the concept of an operator.\n",
        "\n",
        "* Physical pure states in quantum mechanics are represented as unit-norm vectors (probabilities are normalized to one) in a special complex Hilbert space. Time evolution in this vector space is given by the application of the evolution operator.\n",
        "\n",
        "* Any observable, i.e., any quantity which can be measured in a physical experiment, should be associated with a self-adjoint linear operator. \n",
        "\n",
        "* **The operators must yield real eigenvalues, since they are values which may come up as the result of the experiment**. Mathematically this means the operators must be Hermitian. \n",
        "\n",
        "* The probability of each eigenvalue is related to the projection of the physical state on the subspace related to that eigenvalue. \n",
        "\n",
        "* In the wave mechanics formulation of QM, the wavefunction varies with space and time, or equivalently momentum and time (see position and momentum space for details), so observables are differential operators.\n",
        "\n",
        "* In the matrix mechanics formulation, the norm of the physical state should stay fixed, so the evolution operator should be unitary, and the operators can be represented as matrices. Any other symmetry, mapping a physical state into another, should keep this restriction.\n",
        "\n",
        "* [Operators_in_quantum_mechanics](https://en.m.wikipedia.org/wiki/Operator_(physics)#Operators_in_quantum_mechanics)"
      ]
    },
    {
      "cell_type": "markdown",
      "metadata": {
        "id": "F4rvRNeJ5pWS"
      },
      "source": [
        "**Hermitian operators (Self-adjoint operator)**\n",
        "\n",
        "* [Main article: Self-adjoint operator](https://en.m.wikipedia.org/wiki/Self-adjoint_operator)\n",
        "\n",
        "* The definition of a Hermitian operator is:\n",
        "\n",
        ">$\n",
        "\\hat{A}=\\hat{A}^{\\dagger}\n",
        "$\n",
        "\n",
        "Following from this, in bra-ket notation:\n",
        "\n",
        ">$\n",
        "\\left\\langle\\phi_{i}|\\hat{A}| \\phi_{j}\\right\\rangle=\\left\\langle\\phi_{j}|\\hat{A}| \\phi_{i}\\right\\rangle^{*}\n",
        "$\n",
        "\n",
        "Important properties of Hermitian operators include:\n",
        "- real eigenvalues,\n",
        "- eigenvectors with different eigenvalues are orthogonal,\n",
        "- eigenvectors can be chosen to be a complete orthonormal basis,"
      ]
    },
    {
      "cell_type": "markdown",
      "metadata": {
        "id": "5OgQtyq339n7"
      },
      "source": [
        "**Projection**\n",
        "\n",
        "* The probability of each eigenvalue is related to the [**(Hermetian) projection**](https://en.m.wikipedia.org/wiki/Projection_(linear_algebra)) of the physical state on the subspace related to that eigenvalue. See below for mathematical details about Hermitian operators."
      ]
    },
    {
      "cell_type": "markdown",
      "metadata": {
        "id": "q5JUoIkQ4A6g"
      },
      "source": [
        "**Position & Momentum**\n",
        "\n",
        "* In the [wave mechanics formulation of QM](https://en.m.wikipedia.org/wiki/Schrödinger_equation#Particles_as_waves), the wavefunction varies with space and time, or equivalently momentum and time (see [position and momentum space](https://en.m.wikipedia.org/wiki/Position_and_momentum_space) for details), so observables are [differential operators](https://en.m.wikipedia.org/wiki/Differential_operator).\n",
        "\n",
        "* In the [matrix mechanics](https://en.m.wikipedia.org/wiki/Matrix_mechanics) formulation, the norm of the physical state should stay fixed, so the evolution operator should be unitary, and the operators can be represented as matrices. Any other symmetry, mapping a physical state into another, should keep this restriction."
      ]
    },
    {
      "cell_type": "markdown",
      "metadata": {
        "id": "8PQrex_0jrq7"
      },
      "source": [
        "**Commutators & Anticommutators**\n",
        "\n",
        "* the [commutator](https://en.m.wikipedia.org/wiki/Commutator) gives an indication of the extent to which a certain binary operation fails to be commutative.\n",
        "\n",
        "* see also [commutator un quantum mechanics](https://en.m.wikipedia.org/wiki/Operator_(physics)#Commutation_of_operators_on_Ψ)\n",
        "\n",
        "* See [video](https://youtu.be/so1szjHu7jY)"
      ]
    },
    {
      "cell_type": "markdown",
      "metadata": {
        "id": "NcdHPOGxXCEL"
      },
      "source": [
        "**Eigenspectrum**"
      ]
    },
    {
      "cell_type": "markdown",
      "metadata": {
        "id": "MqylzC-5YZnT"
      },
      "source": [
        "* Eigenspectrum is a useful way of visualizing the different energy states that you can be in in the quantum annealing procedure (a graph)\n",
        "\n",
        "* lowest energy state on the bottom, and any higher excited states above it\n",
        "\n",
        "* in the middle where two energy lines are very close is called \"minimum gap\" / \"anticrossing\"\n",
        "\n",
        "* there are several mechanisms that allow the system to jump into a higher energy state: thermal energy / fluctuations or running annealing procedure to fast\n",
        "\n",
        "* you need to anneal slowly enough: adiabatic process\n",
        "\n",
        "* but for large problems, the probability of staying the lowest energy state if small (but still good as long as thei are lower than in classical techniques)"
      ]
    },
    {
      "cell_type": "markdown",
      "metadata": {
        "id": "nqcL6KiEXlJu"
      },
      "source": [
        "![geometry](https://raw.githubusercontent.com/deltorobarba/repo/master/quantum_009b.png)"
      ]
    },
    {
      "cell_type": "markdown",
      "metadata": {
        "id": "cFwUqVUEYao4"
      },
      "source": [
        "![geometry](https://raw.githubusercontent.com/deltorobarba/repo/master/quantum_009c.png)"
      ]
    },
    {
      "cell_type": "markdown",
      "metadata": {
        "id": "Z6879sh-Yu9D"
      },
      "source": [
        "For every problem there is a different hamiltonian and a different corresponding Eigenspectrum ! Hardest problem with smallest gaps:"
      ]
    },
    {
      "cell_type": "markdown",
      "metadata": {
        "id": "PUrfQvQyZHxL"
      },
      "source": [
        "![geometry](https://raw.githubusercontent.com/deltorobarba/repo/master/quantum_009d.png)"
      ]
    },
    {
      "cell_type": "markdown",
      "metadata": {
        "id": "6df4VnbjWqTB"
      },
      "source": [
        "https://www.youtube.com/watch?v=tnikftltqE0"
      ]
    },
    {
      "cell_type": "markdown",
      "metadata": {
        "id": "rl36-Dkq44wh"
      },
      "source": [
        "**<font color=\"blue\">General Operators $\\hat{A}$ and $\\hat{A}^{\\dagger}$</font>**"
      ]
    },
    {
      "cell_type": "markdown",
      "metadata": {
        "id": "LS64wr_HgGky"
      },
      "source": [
        "Quantum Operators and Commutators: https://www.youtube.com/watch?v=so1szjHu7jY&t=1s"
      ]
    },
    {
      "cell_type": "markdown",
      "metadata": {
        "id": "w-IsJdof42Kw"
      },
      "source": [
        "> $\\hat{A}=\\sum_{i j} A_{i j}\\left|u_{i}\\right\\rangle\\left\\langle u_{j}\\right| \\quad A_{i j}=\\left\\langle u_{i}|\\hat{A}| u_{j}\\right\\rangle$\n",
        "\n",
        "* An operator A can be written in the u basis as the sum over the outer products of the basis states \n",
        "* And the expansion coefficients Aij are given by the matrix elements of A with respect to the basis states\n",
        "* The expansion coefficients for an operator are labeled by 2 indices, so we will arrange them in a form of a square matrix, with the first index denoting the row of the matrix and the second index the column of the matrix\n",
        "* There operators are written as matrices\n",
        "\n",
        "> $\\left(\\begin{array}{ccccc}A_{11} & A_{12} & \\cdots & A_{1 j} & \\cdots \\\\ A_{21} & A_{22} & \\cdots & A_{2 j} & \\cdots \\\\ \\vdots & \\vdots & & \\vdots & \\\\ A_{i 1} & A_{i 2} & \\cdots & A_{i j} & \\cdots \\\\ \\vdots & \\vdots & & \\vdots & \\end{array}\\right)$\n"
      ]
    },
    {
      "cell_type": "markdown",
      "metadata": {
        "id": "Y_i6bVsi6tNb"
      },
      "source": [
        "![geometry](https://raw.githubusercontent.com/deltorobarba/repo/master/quantum_005a.png)"
      ]
    },
    {
      "cell_type": "markdown",
      "metadata": {
        "id": "24Jr24udDpFZ"
      },
      "source": [
        "https://youtu.be/wIwnb1ldYTI"
      ]
    },
    {
      "cell_type": "markdown",
      "metadata": {
        "id": "CWTUeok_2Mn3"
      },
      "source": [
        "**<font color=\"blue\">Unitärer Operator $T$</font>**"
      ]
    },
    {
      "cell_type": "markdown",
      "metadata": {
        "id": "NSyRQBYr1w2f"
      },
      "source": [
        "Ein [unitärer Operator](https://de.m.wikipedia.org/wiki/Unit%C3%A4rer_Operator) ist ein bijektiver linearer Operator $T: V \\rightarrow W$ zwischen zwei Hilberträumen\n",
        "\n",
        ">$\n",
        "\\begin{array}{l}\n",
        "\\left(V,\\langle\\cdot, \\cdot\\rangle_{V}\\right) \\text { und }\\left(W,\\langle\\cdot, \\cdot\\rangle_{W}\\right), \\text { sodass } \\\\\n",
        "\\langle T u, T v\\rangle_{W}=\\langle u, v\\rangle_{V}\n",
        "\\end{array}\n",
        "$\n",
        "\n",
        "für alle Vektoren $u, v \\in V$ gilt. Ein unitärer Operator ist demnach ein Isomorphismus $z$ wischen zwei Hilberträumen, der das Skalarprodukt erhält. Ein unitärer Operator zwischen zwei reellen Hilberträumen wird gelegentlich auch als orthogonaler Operator bezeichnet."
      ]
    },
    {
      "cell_type": "markdown",
      "metadata": {
        "id": "jYbMnbqB17-b"
      },
      "source": [
        "* Ein unitärer Operator ist in der Mathematik ein bijektiver linearer Operator zwischen zwei Hilberträumen, der das Skalarprodukt erhält. \n",
        "\n",
        "* Unitäre Operatoren sind damit spezielle orthogonale oder unitäre Abbildungen und stets normerhaltend, abstandserhaltend, beschränkt und, falls beide Hilberträume gleich sind, normal. \n",
        "\n",
        "* Der inverse Operator eines unitären Operators ist gleich seinem adjungierten Operator. Die Eigenwerte eines unitären Operators in einem Hilbertraum haben alle den Betrag eins. \n",
        "\n",
        "* Unitäre Operatoren zwischen endlichdimensionalen Vektorräumen gleicher Dimension können nach Wahl je einer Orthonormalbasis durch unitäre Matrizen dargestellt werden. \n",
        "\n",
        "* Wichtige Beispiele für unitäre Operatoren zwischen unendlichdimensionalen Funktionenräumen sind die Fouriertransformation und die Zeitentwicklungsoperatoren der Quantenmechanik.\n",
        "\n"
      ]
    },
    {
      "cell_type": "markdown",
      "metadata": {
        "id": "Al6iOYrFH7zR"
      },
      "source": [
        "**<font color=\"blue\">Quantum Error Correction, Decoherence & Noise</font>**"
      ]
    },
    {
      "cell_type": "markdown",
      "metadata": {
        "id": "SdODHc_sR6SS"
      },
      "source": [
        "Quantum computers are much more susceptible to errors than classical computers due to decoherence and noise. The threshold theorem states that a noisy quantum computer can use quantum error-correcting codes to simulate a noiseless quantum computer assuming the error introduced in each computer cycle is less than some number. Numerical simulations suggest that that number may be as high as 3%. However, it is not yet definitively known how the resources needed for error correction will scale with the number of qubits. Skeptics point to the unknown behavior of noise in scaled-up quantum systems as a potential roadblock for successfully implementing quantum computing and demonstrating quantum supremacy."
      ]
    },
    {
      "cell_type": "markdown",
      "metadata": {
        "id": "NyTWu-cGIHTc"
      },
      "source": [
        "https://en.m.wikipedia.org/wiki/Quantum_error_correction"
      ]
    },
    {
      "cell_type": "markdown",
      "metadata": {
        "id": "0SG2sdkmRtsI"
      },
      "source": [
        "https://en.m.wikipedia.org/wiki/Quantum_decoherence"
      ]
    },
    {
      "cell_type": "markdown",
      "metadata": {
        "id": "2p6Anz_qRwCH"
      },
      "source": [
        "https://en.m.wikipedia.org/wiki/Noise_(electronics)"
      ]
    },
    {
      "cell_type": "markdown",
      "metadata": {
        "id": "3OtqmX4xRzDk"
      },
      "source": [
        "https://en.m.wikipedia.org/wiki/Quantum_threshold_theorem"
      ]
    },
    {
      "cell_type": "markdown",
      "metadata": {
        "id": "kJDaxgzh--ui"
      },
      "source": [
        "###### <font color=\"blue\">**Vector (Pure Quantum State)**"
      ]
    },
    {
      "cell_type": "markdown",
      "metadata": {
        "id": "gpuOVRv5C7AS"
      },
      "source": [
        "The set {|0>, |1>} is the computational basis of $C^2$ and $\\alpha, \\beta$ are called amplitudes of state $\\psi$. The term state (or state vector) is used as a synonym for unit vector in a Hilbert space"
      ]
    },
    {
      "cell_type": "markdown",
      "metadata": {
        "id": "-oS_Q9ze_Bod"
      },
      "source": [
        "https://en.m.wikipedia.org/wiki/Quantum_state#Pure_states"
      ]
    },
    {
      "cell_type": "markdown",
      "metadata": {
        "id": "wYThARIqRxCa"
      },
      "source": [
        "https://en.m.wikipedia.org/wiki/Projective_Hilbert_space"
      ]
    },
    {
      "cell_type": "markdown",
      "metadata": {
        "id": "fanTKhYRC5ch"
      },
      "source": [
        "**<font color=\"blue\">Ket $|\\psi\\rangle$</font> (Pure Quantum State Superposition, Wave Function, Stochastic Vector, Bloch sphere)**"
      ]
    },
    {
      "cell_type": "markdown",
      "metadata": {
        "id": "X45n44RNTdrz"
      },
      "source": [
        "Ket = wavefunction = pure state"
      ]
    },
    {
      "cell_type": "markdown",
      "metadata": {
        "id": "WlC5y6Hpsj_E"
      },
      "source": [
        "**A Ket $|\\psi\\rangle$ $\\doteq$ $\\left[\\begin{array}{l}a_{0} \\\\ a_{1}\\end{array}\\right]$, also called 'quantum state', <u>represents</u> the wave function of a quantum system (\"Psi\")**, consisting of **probability amplitudes**. This Quantum state is a **stochastic vector**, written as a column vector. **A Ket is technically a pure quantum state**. Wave function notation to describe superposition of Pure States."
      ]
    },
    {
      "cell_type": "markdown",
      "metadata": {
        "id": "CsUR9RecP8AE"
      },
      "source": [
        "So, you have an (orthonormal) basis with 3 vectors and coefficients, to describe a vector in space (in Hilbert space):\n",
        "\n",
        "> $\\vec{v}=$<font color='blue'>$2$</font>$\\left(\\begin{array}{l}1 \\\\ 0 \\\\ 0\\end{array}\\right)$<font color='blue'>$+3$</font>$\\left(\\begin{array}{l}0 \\\\ 1 \\\\ 0\\end{array}\\right)$<font color='blue'>$+0$</font>$\\left(\\begin{array}{l}0 \\\\ 0 \\\\ 1\\end{array}\\right)$\n",
        "\n",
        "The basis vectors will all entries in 0 and only one with 1 correspond to possibe measurement outcomes (spin up or down). \n",
        "\n",
        "The coefficients can be collected in one vector and are complex numbers:\n",
        "\n",
        "> $\\vec{v}=$<font color='blue'>$\\left(\\begin{array}{l}2 \\\\ 3 \\\\ 0\\end{array}\\right)$</font>\n",
        "\n"
      ]
    },
    {
      "cell_type": "markdown",
      "metadata": {
        "id": "zi3VJ36_jPGy"
      },
      "source": [
        "**Or written formally**:\n",
        "\n",
        "> $|\\Psi\\rangle=a_{1}\\left(\\begin{array}{l}1 \\\\ 0 \\\\ 0\\end{array}\\right)+{a_{2}}\\left(\\begin{array}{l}0 \\\\ 1 \\\\ 0\\end{array}\\right)+a_{3}\\left(\\begin{array}{l}0 \\\\ 0 \\\\ 1\\end{array}\\right)$ \n",
        "\n",
        "> $|\\Psi\\rangle = \\left(\\begin{array}{l}a_{1} \\\\ 0 \\\\ 0\\end{array}\\right)+\\left(\\begin{array}{l}0 \\\\ a_{2} \\\\ 0\\end{array}\\right)+\\left(\\begin{array}{l}0 \\\\ 0 \\\\ a_{3}\\end{array}\\right)$\n",
        "\n",
        "> $|\\Psi\\rangle=\\left(\\begin{array}{l}a_{1} \\\\ a_{2} \\\\ a_{3}\\end{array}\\right)$\n"
      ]
    },
    {
      "cell_type": "markdown",
      "metadata": {
        "id": "QFoHY3uxjQkE"
      },
      "source": [
        "**Where basis vectors $X = \\left(\\begin{array}{l}1 \\\\ 0 \\\\ 0\\end{array}\\right)$, $Y = \\left(\\begin{array}{l}0 \\\\ 1 \\\\ 0\\end{array}\\right)$ and $Z = \\left(\\begin{array}{l}0 \\\\ 0 \\\\ 1\\end{array}\\right)$ correspond to possibe measurement outcomes (spin up or down for example)**:\n",
        "\n",
        "> $|\\Psi\\rangle=a_{1} |X\\rangle +a_{2} |Y\\rangle + a_{3} |Z\\rangle$"
      ]
    },
    {
      "cell_type": "markdown",
      "metadata": {
        "id": "9yQEer_yrPP3"
      },
      "source": [
        "**Quantum System & Quantum States**\n",
        "\n",
        "* First, imagine we have a **quantum mechanical system**, like a single electron, an electron orbiting a nucleus or a photon. And we have possible **outcomes** that we want to measure in this system, for example spin up or spin down as possible properties of an electron.\n",
        "\n",
        "* Second, you have **basis vectors** that represent these possible outcomes of the state in a system. 1 for spin up and 0 for spin down. They are orthogonal to each other (**and hence their inner product is zero**). These possible outcomes are called **'quantum states'**. The simplest quantum state is one with 2 outcomes, also called qbit. "
      ]
    },
    {
      "cell_type": "markdown",
      "metadata": {
        "id": "pnHrVsDOfGIC"
      },
      "source": [
        "**Superposition, Probability Amplitudes, Stochastic Vector & Wave Function**\n",
        "\n",
        "* When quantum system is left alone, during an unmeasured state, it is in a soup of all possible states it could be in. This is called [**quantum superposition**](https://en.wikipedia.org/wiki/Quantum_superposition). In this case we write the wave function of the electron as a superposition of the two possible states. It's a linear combination of both states:\n",
        "\n",
        "> $\\mid \\psi\\rangle$ = $|\\uparrow\\rangle \\quad \\text{+} \\quad |\\downarrow\\rangle$\n",
        "\n",
        "* You can visualize this on a Bloch sphere (here comes the linearity into place). \n",
        "\n",
        "* Now we need to assign a probability to each of the states $\\alpha_0$ and $\\alpha_1$, which means we assign a coefficients for each basis vector (=the outcomes). These are not probabilities in the classical sense, but **probability amplitudes**. Its entries are also not restricted to real numbers, **entries are complex numbers $C$**. (That's why normalization happens in [2 norm (Euclidean norm)](https://de.wikipedia.org/wiki/Euklidische_Norm) to normalize to 1, because of the complex number space.)\n",
        "\n",
        "> $\\mid \\psi\\rangle$ = $\\alpha_1 |\\uparrow\\rangle \\quad \\text{+} \\quad \\alpha_0 |\\downarrow\\rangle$ bzw. numerical fur spin up & down:\n",
        "\n",
        "> $\\mid \\psi\\rangle$ = $\\alpha_1 |\\text{1} \\rangle \\quad \\text{+} \\quad \\alpha_0 |\\text{0}\\rangle$\n",
        "\n",
        "* 1 and 0 (spin up and down) are the basis vectors one-ket and zero-ket and $\\alpha_1$ and $\\alpha_0$ are the probability amplitudes coefficients for each possible state. Together they form the wave function of the quantum state of our system.\n",
        "\n",
        "* Out of all coefficients of the quantum state $\\alpha_0$, $\\alpha_1$, etc.. we can write as a column vector, the **stochastic vector**. It represents ($\\doteq$) the **wave function** of a quantum system ('psi'). It's name is **'Ket'**.\n",
        "\n",
        "> **Ket: $|\\psi\\rangle$ $\\doteq$ $\\left[\\begin{array}{l}a_{0} \\\\ a_{1}\\end{array}\\right]$**\n",
        "\n",
        "* So, the **superposition is the expansion of the vector in a basis** (= possible outcomes), consisting of basis vectors zero-ket and one-ket.\n"
      ]
    },
    {
      "cell_type": "markdown",
      "metadata": {
        "id": "gF5NNa1gSayc"
      },
      "source": [
        "**Links**"
      ]
    },
    {
      "cell_type": "markdown",
      "metadata": {
        "id": "9aDmPx1PRPf4"
      },
      "source": [
        "https://docs.microsoft.com/de-de/azure/quantum/concepts-pauli-measurements"
      ]
    },
    {
      "cell_type": "markdown",
      "metadata": {
        "id": "JcBZeJA2RRyL"
      },
      "source": [
        "https://docs.microsoft.com/de-de/azure/quantum/concepts-dirac-notation"
      ]
    },
    {
      "cell_type": "markdown",
      "metadata": {
        "id": "Poa6rcn3RToO"
      },
      "source": [
        "https://docs.microsoft.com/de-de/azure/quantum/concepts-vectors-and-matrices"
      ]
    },
    {
      "cell_type": "markdown",
      "metadata": {
        "id": "HPhAjYO88ylu"
      },
      "source": [
        "https://www.heise.de/amp/news/D-Wave-verbessert-Quanten-Annealer-und-plant-auch-richtige-Quantencomputer-6211713.html\n",
        "\n",
        "https://physics.stackexchange.com/questions/417955/whats-the-role-of-the-tensor-product-in-quantum-mechanics\n",
        "\n",
        "http://electron6.phys.utk.edu/qm1/modules/m10/twospin.htm\n",
        "\n",
        "https://en.m.wikipedia.org/wiki/Two-state_quantum_system\n",
        "\n",
        "https://en.m.wikipedia.org/wiki/Tensor_product\n",
        "\n",
        "http://www.mathematrix.de/matrixmultiplikation/\n",
        "\n",
        "https://web.pa.msu.edu/people/mmoore/Lect24_TensorProduct.pdf\n",
        "\n",
        "https://www.quora.com/What-is-a-tensor-product-in-quantum-mechanics\n",
        "\n",
        "https://www.quora.com/How-do-the-tensor-product-and-direct-sum-fit-into-quantum-mechanics?redirect_to_mweb=1\n",
        "\n",
        "https://en.m.wikipedia.org/wiki/Multilinear_map\n",
        "\n",
        "https://citeseerx.ist.psu.edu/viewdoc/download?doi=10.1.1.57.9322&rep=rep1&type=pdf\n",
        "\n",
        "https://en.m.wikipedia.org/wiki/Multiplication_of_vectors \n",
        "\n",
        "https://en.wikipedia.org/wiki/Tensor_product \n"
      ]
    },
    {
      "cell_type": "markdown",
      "metadata": {
        "id": "GgSzA4IwURCu"
      },
      "source": [
        "###### **<font color=\"blue\">Vector-Scalar-Multiplication**"
      ]
    },
    {
      "cell_type": "markdown",
      "metadata": {
        "id": "zv3ubQjG-nTh"
      },
      "source": [
        "Vector-Scalar:\n",
        "\n",
        "$\\left[\\begin{array}{l}x_{0} \\\\ x_{1}\\end{array}\\right] \\otimes\\left[y_{0}\\right]=\\left[\\begin{array}{l}x_{0}\\left[y_{0}\\right] \\\\ x_{1}\\left[y_{0}\\right]\\end{array}\\right]=\\left[\\begin{array}{l}x_{0} y_{0} \\\\ x_{1} y_{0}\\end{array}\\right]$"
      ]
    },
    {
      "cell_type": "markdown",
      "metadata": {
        "id": "VzVZL2daUdeq"
      },
      "source": [
        "https://en.m.wikipedia.org/wiki/Projective_Hilbert_space"
      ]
    },
    {
      "cell_type": "markdown",
      "metadata": {
        "id": "ZOCcYN8atwYH"
      },
      "source": [
        "###### <font color=\"blue\">**Vector-Vector-Multiplication (Kronecker / Tensor)**"
      ]
    },
    {
      "cell_type": "markdown",
      "metadata": {
        "id": "GkEMbPoeXFbm"
      },
      "source": [
        "> $\\mathbf{uv}$ = $\\left[\\begin{array}{c}u_{1} \\\\ u_{2}\\end{array}\\right]$ $\\otimes$ $\\left[\\begin{array}{c}v_{1} \\\\ v_{2} \\end{array}\\right]$ = $\\left[\\begin{array}{l}u_{1}\\left[\\begin{array}{l}v_{1} \\\\ v_{2}\\end{array}\\right] \\\\ u_{2}\\left[\\begin{array}{l}v_{1} \\\\ v_{2}\\end{array}\\right]\\end{array}\\right]$=  $\\left[\\begin{array}{c}u_{1} v_{1} \\\\ u_{1} v_{2}\\\\ u_{2} v_{1} \\\\ u_{2} v_{2}\\end{array}\\right]$"
      ]
    },
    {
      "cell_type": "markdown",
      "metadata": {
        "id": "0RHZnB0lp7Tn"
      },
      "source": [
        "> Zur Kombination von Quantum States (aber nicht: entanglement!). If two or more qubits are viewed as a single quantum state, this combined state is equal to the tensor product of the constituent qubits. Any state that can be written as a tensor product from the constituent subsystems are called separable states (pure states).\n",
        "\n",
        "*On the other hand, an entangled state is any state that cannot be tensor-factorized, or in other words: An entangled state can not be written as a tensor product of its constituent qubits states. Special care must be taken when applying gates to constituent qubits that make up entangled states.*"
      ]
    },
    {
      "cell_type": "markdown",
      "metadata": {
        "id": "xFHF8tt4W6yh"
      },
      "source": [
        "* Vector: Kronecker (Tensor) Product (=Vector of <u>any size</u>) = You get a (flattened) vector\n",
        "\n",
        "* Kronecker product is a generalization of the outer product from vectors to matrices, and gives the matrix of the tensor product linear map with respect to a standard choice of basis."
      ]
    },
    {
      "cell_type": "markdown",
      "metadata": {
        "id": "fPkph6al-pZK"
      },
      "source": [
        "> $\\left[\\begin{array}{l}x_{0} \\\\ x_{1}\\end{array}\\right] \\otimes\\left[\\begin{array}{l}y_{0} \\\\ y_{1}\\end{array}\\right]=\\left[\\begin{array}{l}x_{0}\\left[\\begin{array}{l}y_{0} \\\\ y_{1}\\end{array}\\right] \\\\ x_{1}\\left[\\begin{array}{l}y_{0} \\\\ y_{1}\\end{array}\\right]\\end{array}\\right]=\\left[\\begin{array}{l}x_{0} y_{0} \\\\ x_{0} y_{1} \\\\ x_{1} y_{0} \\\\ x_{1} y_{1}\\end{array}\\right]$"
      ]
    },
    {
      "cell_type": "markdown",
      "metadata": {
        "id": "oPrJ5_AjPQfg"
      },
      "source": [
        "(multi-qubit: Tensor Product States)\n",
        "\n",
        "* now we construct larger states with multiple qubits\n",
        "\n",
        "* **we use the tensor product between kets**. With that we can create a basis, in the notation you contract them and drop one |> sign, so instead of |0>|0> you write: |00>\n",
        "\n",
        "* you get the 4 canonical basis vectors in a 4 dimensional complex space\n",
        "\n",
        "* convention in most quantum computing libraries: the rightmost qubit is the qubit zero, same order as representing binary values in classic computing."
      ]
    },
    {
      "cell_type": "markdown",
      "metadata": {
        "id": "Sqsjk_4n0P_9"
      },
      "source": [
        "Remember Dirac notation for the two states: \n",
        "\n",
        "> $\\left[\\begin{array}{l}1 \\\\ 0\\end{array}\\right]=|0\\rangle$\n",
        "\n",
        "> $\\left[\\begin{array}{l}0 \\\\ 1\\end{array}\\right]=|1\\rangle$"
      ]
    },
    {
      "cell_type": "markdown",
      "metadata": {
        "id": "4UcPdCQFGncx"
      },
      "source": [
        "A single bit has two possible states, and a qubit state has two complex amplitudes. Similarly, two bits have four possible states:\n",
        "\n",
        "> 00 01 10 11\n",
        "\n",
        "And to describe the state of two qubits requires four complex amplitudes. We store these amplitudes in a 4D-vector like so:\n",
        "\n",
        "> $|a\\rangle=a_{00}|00\\rangle+a_{01}|01\\rangle+a_{10}|10\\rangle+a_{11}|11\\rangle=\\left[\\begin{array}{c}a_{00} \\\\ a_{01} \\\\ a_{10} \\\\ a_{11}\\end{array}\\right]$\n",
        "\n",
        "https://qiskit.org/textbook/ch-gates/multiple-qubits-entangled-states.html"
      ]
    },
    {
      "cell_type": "markdown",
      "metadata": {
        "id": "ZxA8-uizONZR"
      },
      "source": [
        "*Building Two Qubit States: Tensor Products*"
      ]
    },
    {
      "cell_type": "markdown",
      "metadata": {
        "id": "L6LT0f2fturq"
      },
      "source": [
        "* In QM, when you have two single-particle Hilbert spaces, the total wavefunction lives in a larger Hilbert space that is the \"tensor product\" of those two spaces. \n",
        "\n",
        "* If qubit 1 is in state $\\left(\\begin{array}{l}a \\\\ b\\end{array}\\right)$, and qubit 2 is in state $\\left(\\begin{array}{c}c \\\\ d\\end{array}\\right)$, then the total state of the two qubit system is: \n",
        "\n",
        "> $\\left(\\begin{array}{l}a \\\\ b\\end{array}\\right) \\otimes\\left(\\begin{array}{l}c \\\\ d\\end{array}\\right)=\\left(\\begin{array}{l}a c \\\\ a d \\\\ b c \\\\ b d\\end{array}\\right)$, in a 4D Hilbert space.\n",
        "\n",
        "* Now, you can also write this same equation in terms of the Dorac nottation $|0\\rangle,|1\\rangle$ notation:\n",
        "\n",
        "> $\n",
        "[a|0\\rangle+b|1\\rangle] \\otimes[c|0\\rangle+d|1\\rangle]=a c|00\\rangle+a d|01\\rangle+b c|10\\rangle+b d|11\\rangle\n",
        "$\n",
        "\n",
        "* Notice the new notation: The state $|00\\rangle$ is just $|0\\rangle \\otimes|0\\rangle$, etc."
      ]
    },
    {
      "cell_type": "markdown",
      "metadata": {
        "id": "6_uUx0eQuSCs"
      },
      "source": [
        "Remember Dirac notation for the two states: \n",
        "\n",
        "> $\\left[\\begin{array}{l}1 \\\\ 0\\end{array}\\right]=|0\\rangle, \\quad\\left[\\begin{array}{l}0 \\\\ 1\\end{array}\\right]=|1\\rangle$. \n",
        "\n",
        "We choose two qubits in state $|0\\rangle$:\n",
        "\n",
        "> $|0\\rangle \\otimes|0\\rangle = \\left[\\begin{array}{l}1 \\\\ 0\\end{array}\\right] \\otimes\\left[\\begin{array}{l}1 \\\\ 0\\end{array}\\right]=$</font> $\\left[\\begin{array}{l}1\\left[\\begin{array}{l}1 \\\\ 0\\end{array}\\right] \\\\ 0\\left[\\begin{array}{l}1 \\\\ 0\\end{array}\\right]\\end{array}\\right]=$ $\\left [\\begin{array}{l}11 \\\\ 10 \\\\ 01 \\\\ 00\\end{array}\\right]$ = <font color=\"gray\">$\\left [\\begin{array}{l}3 \\\\ 2 \\\\ 1 \\\\ 0\\end{array}\\right]$</font> = <font color=\"blue\">$\\left [\\begin{array}{l}1 \\\\ 0 \\\\ 0 \\\\ 0\\end{array}\\right]$ "
      ]
    },
    {
      "cell_type": "markdown",
      "metadata": {
        "id": "R1ZKMHMn_K32"
      },
      "source": [
        "Quits in two different states:\n",
        "\n",
        "> $|0\\rangle \\otimes|1\\rangle = \\left[\\begin{array}{l}1 \\\\ 0\\end{array}\\right] \\otimes\\left[\\begin{array}{l}0 \\\\ 1\\end{array}\\right]=\\left[\\begin{array}{l}1\\left[\\begin{array}{l}0 \\\\ 1\\end{array}\\right] \\\\ 0\\left[\\begin{array}{l}0 \\\\ 1\\end{array}\\right]\\end{array}\\right]=\\left[\\begin{array}{l}0 \\\\ 1 \\\\ 0 \\\\ 0\\end{array}\\right]$"
      ]
    },
    {
      "cell_type": "markdown",
      "metadata": {
        "id": "RCyhUaQiwzlM"
      },
      "source": [
        "See more: https://docs.microsoft.com/de-de/azure/quantum/concepts-dirac-notation"
      ]
    },
    {
      "cell_type": "markdown",
      "metadata": {
        "id": "7g4pYpfhvErV"
      },
      "source": [
        "The most general two-qubit state can be written:\n",
        "$A|00\\rangle+B|01\\rangle+C|10\\rangle+D|11\\rangle$\n",
        "\n",
        "This state above is \"separable\". One easy way to see if such a state is separable is if the quantity 2|AD-BC|=0. This quantity is called the \"Concurrence\", and is a measure of entanglement. (The maximum possible value is 2|AD-BC|=1; this occurs for a \"maximally entangled state\".)"
      ]
    },
    {
      "cell_type": "markdown",
      "metadata": {
        "id": "mw7Ca0ANsAya"
      },
      "source": [
        "Suppose we have a register with two qubits. The computational basis is\n",
        "\n",
        "> $\n",
        "|0,0\\rangle=\\left[\\begin{array}{l}\n",
        "1 \\\\\n",
        "0 \\\\\n",
        "0 \\\\\n",
        "0\n",
        "\\end{array}\\right] \\quad|0,1\\rangle=\\left[\\begin{array}{l}\n",
        "0 \\\\\n",
        "1 \\\\\n",
        "0 \\\\\n",
        "0\n",
        "\\end{array}\\right] \\quad|1,0\\rangle=\\left[\\begin{array}{l}\n",
        "0 \\\\\n",
        "0 \\\\\n",
        "1 \\\\\n",
        "0\n",
        "\\end{array}\\right] \\quad|1,1\\rangle=\\left[\\begin{array}{l}\n",
        "0 \\\\\n",
        "0 \\\\\n",
        "0 \\\\\n",
        "1\n",
        "\\end{array}\\right]\n",
        "$"
      ]
    },
    {
      "cell_type": "markdown",
      "metadata": {
        "id": "3UT-rAVGscbA"
      },
      "source": [
        "A generic state of this register is\n",
        "$$\n",
        "|\\psi\\rangle=\\sum_{i=0}^{1} \\sum_{j=0}^{1} a_{i j}|i, j\\rangle\n",
        "$$\n",
        "where coefficients $a_{i j}$ are complex numbers that satisfy the constraint\n",
        "$$\n",
        "\\left|a_{00}\\right|^{2}+\\left|a_{01}\\right|^{2}+\\left|a_{10}\\right|^{2}+\\left|a_{11}\\right|^{2}=1\n",
        "$$"
      ]
    },
    {
      "cell_type": "markdown",
      "metadata": {
        "id": "AHsf-bsjsz7z"
      },
      "source": [
        "To help generalizing to $n$ qubits, it is usual to compress the notation by converting binary-base representation to decimal-base. The computational basis for two-qubit register in decimal-base representation is $\\{|0\\rangle,|1\\rangle,|2\\rangle,|3\\rangle\\}$. In the binary-base representation, we can determine the number of qubits by counting the number of digits inside the ket, for example, $|011\\rangle$ refers to three qubits. In the decimal-base representation, we cannot determine what is the number of qubits of the register. This information should come implicit. In this case, we can go back, write the numbers in the binary-base representation and explicitly retrieve the notation. In the compact notation, a generic state of a $n$-qubit register is\n",
        "$$\n",
        "|\\psi\\rangle=\\sum_{i=0}^{2^{n}-1} a_{i}|i\\rangle\n",
        "$$\n",
        "where coefficients $a_{i}$ are complex numbers that satisfy the constraint\n",
        "$$\n",
        "\\sum_{i=0}^{2^{n}-1}\\left|a_{i}\\right|^{2}=1\n",
        "$$"
      ]
    },
    {
      "cell_type": "markdown",
      "metadata": {
        "id": "H2k5T-zO_cwf"
      },
      "source": [
        "<font color=\"blue\">*This is the way by which we can represent multiple quantum bits (here 3 qubits) into a vector:*"
      ]
    },
    {
      "cell_type": "markdown",
      "metadata": {
        "id": "dL5V9jcK_pch"
      },
      "source": [
        "> <font color=\"red\">$\\left[\\begin{array}{l}0 \\\\ 1\\end{array}\\right] \\otimes\\left[\\begin{array}{l}1 \\\\ 0\\end{array}\\right] \\otimes\\left[\\begin{array}{l}1 \\\\ 0\\end{array}\\right]$</font> = $\\left[\\begin{array}{l}0 \\\\ 1\\end{array}\\right] \\otimes\\left[\\begin{array}{l}1\\left[\\begin{array}{l}1 \\\\ 0\\end{array}\\right] \\\\ 0\\left[\\begin{array}{l}1 \\\\ 0\\end{array}\\right]\\end{array}\\right]=\\left[\\begin{array}{l}0 \\\\ 1\\end{array}\\right] \\otimes\\left[\\begin{array}{l}1 \\\\ 0 \\\\ 0 \\\\ 0\\end{array}\\right]$ = $\\left[\\begin{array}{c}0 \\left[\\begin{array}{l}1 \\\\ 0 \\\\ 0 \\\\ 0\\end{array}\\right] \\\\ 1\\left[\\begin{array}{l}1 \\\\ 0 \\\\ 0 \\\\ 0\\end{array}\\right]\\end{array}\\right]$ = <font color=\"red\">$\\left[\\begin{array}{l}0 \\\\ 0 \\\\ 0 \\\\ 0 \\\\ 1 \\\\ 0 \\\\ 0 \\\\ 0\\end{array}\\right]$</font>"
      ]
    },
    {
      "cell_type": "markdown",
      "metadata": {
        "id": "PVl8GR0Q-d5y"
      },
      "source": [
        "Vector-Vector-Vector:\n",
        "\n",
        "> $\\left[\\begin{array}{l}x_{0} \\\\ x_{1}\\end{array}\\right] \\otimes\\left[\\begin{array}{l}y_{0} \\\\ y_{1}\\end{array}\\right] \\otimes\\left[\\begin{array}{l}z_{0} \\\\ z_{1}\\end{array}\\right]=\\left[\\begin{array}{l}x_{0} \\\\ x_{1}\\end{array}\\right] \\otimes\\left[\\begin{array}{l}y_{0}\\left[\\begin{array}{l}z_{0} \\\\ z_{1}\\end{array}\\right] \\\\ y_{1}\\left[\\begin{array}{l}z_{0} \\\\ z_{1}\\end{array}\\right]\\end{array}\\right]=\\left[\\begin{array}{l}x_{0} \\\\ x_{1}\\end{array}\\right] \\otimes\\left[\\begin{array}{l}y_{0} z_{0} \\\\ y_{0} z_{1} \\\\ y_{1} z_{0} \\\\ y_{1} z_{1}\\end{array}\\right]$ $=\\left[\\begin{array}{l}x_{0}\\left[\\begin{array}{l}y_{0} z_{0} \\\\ y_{0} z_{1} \\\\ y_{1} z_{0} \\\\ y_{1} z_{1}\\end{array}\\right] \\\\ x_{1}\\left[\\begin{array}{l}y_{0} z_{0} \\\\ y_{0} z_{1} \\\\ y_{1} z_{0} \\\\ y_{1} z_{1}\\end{array}\\right]\\end{array}\\right]=\\left[\\begin{array}{l}x_{0} y_{0} z_{0} \\\\ x_{0} y_{0} z_{1} \\\\ x_{0} y_{1} z_{0} \\\\ x_{0} y_{1} z_{1} \\\\ x_{1} y_{0} z_{0} \\\\ x_{1} y_{0} z_{1} \\\\ x_{1} y_{1} z_{0} \\\\ x_{1} y_{1} z_{1}\\end{array}\\right]$\n",
        "\n"
      ]
    },
    {
      "cell_type": "markdown",
      "metadata": {
        "id": "ZMW9OhOY_YNd"
      },
      "source": [
        "> $\\left[\\begin{array}{l}1 \\\\ 2\\end{array}\\right] \\otimes\\left[\\begin{array}{l}3 \\\\ 4\\end{array}\\right] \\otimes\\left[\\begin{array}{l}5 \\\\ 6\\end{array}\\right]=\\left[\\begin{array}{l}1 \\\\ 2\\end{array}\\right] \\otimes\\left[\\begin{array}{l}3\\left[\\begin{array}{l}5 \\\\ 6\\end{array}\\right] \\\\ 4\\left[\\begin{array}{l}5 \\\\ 6\\end{array}\\right]\\end{array}\\right]=\\left[\\begin{array}{l}1 \\\\ 2\\end{array}\\right] \\otimes\\left[\\begin{array}{l}15 \\\\ 18 \\\\ 20 \\\\ 24\\end{array}\\right]$ $=\\left[\\begin{array}{l}1\\left[\\begin{array}{c}15 \\\\ 18 \\\\ 20 \\\\ 24\\end{array}\\right] \\\\ 2\\left[\\begin{array}{l}15 \\\\ 18 \\\\ 20 \\\\ 24\\end{array}\\right]\\end{array}\\right]=\\left[\\begin{array}{l}15 \\\\ 18 \\\\ 20 \\\\ 24 \\\\ 30 \\\\ 36 \\\\ 40 \\\\ 48\\end{array}\\right]$"
      ]
    },
    {
      "cell_type": "markdown",
      "metadata": {
        "id": "QII5IQEZ-tYw"
      },
      "source": [
        "https://www.sharetechnote.com/html/Handbook_EngMath_TensorProduct.html\n"
      ]
    },
    {
      "cell_type": "markdown",
      "metadata": {
        "id": "Q60byJrAd9J0"
      },
      "source": [
        "**Difference: Direct Product, Direct Sum, Cartesian Product**"
      ]
    },
    {
      "cell_type": "markdown",
      "metadata": {
        "id": "REqLZ25Ccfq3"
      },
      "source": [
        "*Direct Product, Direct Sum, Cartesian Product, Tensor Product*\n",
        "\n",
        "> The direct product takes the Cartesian product $A \\times B$ of sets, l.e. the ordered pairs of elements $(a, b)$, and applies all operations component-wise; e.g. for a group we define $(a, b)+(c, d) \\equiv(a+c, b+d)$. \n",
        "\n",
        "https://www.mathphysicsbook.com/mathematics/abstract-algebra/combining-algebraic-objects/the-direct-product-and-direct-sum/\n",
        "\n",
        "* The Cartesian product is a specific kind of direct product—it’s the direct product of sets.\n",
        "\n",
        "* The direct product is a more general concept, defined for an arbitrary category. The most accessible examples would be something like a direct product of fields. field operations to just be done component-wise: $(a, b) *(c, d)+(e, f)=(a c+e, b d+f)$\n",
        "\n",
        "* Direct Sum: 𝛼(𝑥,𝑦)=(𝛼𝑥,𝛼𝑦)\n",
        "\n",
        "* Direct Sum: 𝛼(𝑥,𝑦)=(𝛼𝑥,𝑦) (bilinear map)\n",
        "\n",
        "https://math.stackexchange.com/questions/1334965/direct-sum-vs-direct-product-vs-tensor-product\n",
        "\n",
        "https://physics.stackexchange.com/questions/350508/tensor-product-vs-cartesian-product-for-composite-quantum-systems"
      ]
    },
    {
      "cell_type": "markdown",
      "metadata": {
        "id": "1cFN-oRmgKjy"
      },
      "source": [
        "**Difference Kronecker~ vs Outer (Dyadic) Product (vs inner Product)**"
      ]
    },
    {
      "cell_type": "markdown",
      "metadata": {
        "id": "-X_Ez5JbhnH3"
      },
      "source": [
        "* **Kronecker product**, the generalization to **any size** of the preceding. \n",
        "\n",
        "  * sometimes also called Tensor product\n",
        "\n",
        "  * Kronecker product is a generalization of the outer product (which is denoted by the same symbol) from vectors to matrices, and gives the matrix of the tensor product with respect to a standard choice of basis. \n",
        "  \n",
        "  * In the case of column vectors, the Kronecker product can be viewed as a form of vectorization (or flattening) of the outer product:\n",
        "\n",
        "![ggg](https://raw.githubusercontent.com/deltorobarba/repo/master/kronecker_outer.png)"
      ]
    },
    {
      "cell_type": "markdown",
      "metadata": {
        "id": "CWFQu3-qjXPu"
      },
      "source": [
        "**See difference between Kronecker Product & Outer Product in quantum mechanics** \n",
        "\n",
        "An example of the Kronecker product (here called: tensor product) of two vectors $\\phi \\in \\mathrm{C}^{2}$ and $\\psi \\in \\mathrm{C}^{2}$ is (you get a flattened vector)\n",
        "\n",
        "> $\\left(\\begin{array}{l}\\phi_{1} \\\\ \\phi_{2}\\end{array}\\right) \\otimes_{Kron}\\left(\\begin{array}{l}\\psi_{1} \\\\ \\psi_{2}\\end{array}\\right)=\\left(\\begin{array}{l}\\phi_{1} \\psi_{1} \\\\ \\phi_{1} \\psi_{2} \\\\ \\phi_{2} \\psi_{1} \\\\ \\phi_{2} \\psi_{2}\\end{array}\\right)$\n",
        "\n",
        "By rearranging this result we get the dyadic product (=outer product) of two vectors $\\theta_{i j}=\\phi_{i} \\psi_{j}$, (you get a matrix):\n",
        "\n",
        "> $\\theta=\\left(\\begin{array}{l}\\phi_{1} \\\\ \\phi_{2}\\end{array}\\right) \\otimes_{Outer}\\left(\\begin{array}{l}\\psi_{1} \\\\ \\psi_{2}\\end{array}\\right)=\\left(\\begin{array}{l}\\phi_{1} \\\\ \\phi_{2}\\end{array}\\right) \\cdot\\left(\\psi_{1}, \\psi_{2}\\right)=\\left(\\begin{array}{ll}\\phi_{1} \\psi_{1} & \\phi_{1} \\psi_{2} \\\\ \\phi_{2} \\psi_{1} & \\phi_{2} \\psi_{2}\\end{array}\\right)$\n",
        "\n",
        "\n",
        "Example taken here: https://www.quantiki.org/wiki/tensor-product\n"
      ]
    },
    {
      "cell_type": "markdown",
      "metadata": {
        "id": "JXgJ2f-2hpP2"
      },
      "source": [
        "**Outer product, also called dyadic product** of two column matrices, which is $\\mathbf {a} \\mathbf {b} ^{\\mathsf {T}}$.\n",
        "\n",
        "  * sometimes also called Tensor product\n",
        "\n",
        "* Unterschied zu inner product:\n",
        "\n",
        "  * inner product: $u^T v$ -> Scalar (in quantum: Bra-Ket)\n",
        "\n",
        "  * outer product: $u v^T$ -> Matrix (in quantum: Ket-Bra)\n",
        "\n",
        "![ggg](https://raw.githubusercontent.com/deltorobarba/repo/master/tensor_386.png)"
      ]
    },
    {
      "cell_type": "markdown",
      "metadata": {
        "id": "9BEalHwIY24p"
      },
      "source": [
        "**Kronecker Product**"
      ]
    },
    {
      "cell_type": "markdown",
      "metadata": {
        "id": "o6eiYsg7Whr2"
      },
      "source": [
        "* In mathematics, the Kronecker product, sometimes denoted by ⊗, is an operation on **two matrices of arbitrary size resulting** in a block matrix. \n",
        "\n",
        "* It is a generalization of the outer product (which is denoted by the same symbol) from vectors to matrices, and gives the matrix of the tensor product linear map with respect to a standard choice of basis. \n",
        "\n",
        "* **The Kronecker product is to be distinguished from the [usual matrix multiplication](https://en.wikipedia.org/wiki/Matrix_multiplication), which is an entirely different operation**. The Kronecker product is also sometimes called **matrix direct product**.\n"
      ]
    },
    {
      "cell_type": "markdown",
      "metadata": {
        "id": "A40veiRTXpou"
      },
      "source": [
        "> $\\left(\\begin{array}{ll}1 & 2 \\\\ 3 & 4 \\\\ 5 & 6\\end{array}\\right) \\otimes\\left(\\begin{array}{ll}7 & 8 \\\\ 9 & 0\\end{array}\\right)=\\left(\\begin{array}{ll}1 \\cdot\\left(\\begin{array}{ll}7 & 8 \\\\ 9 & 0\\end{array}\\right) & 2 \\cdot\\left(\\begin{array}{ll}7 & 8 \\\\ 9 & 0\\end{array}\\right) \\\\ 3 \\cdot\\left(\\begin{array}{ll}7 & 8 \\\\ 9 & 0\\end{array}\\right) & 4 \\cdot\\left(\\begin{array}{ll}7 & 8 \\\\ 9 & 0\\end{array}\\right) \\\\ 5 \\cdot\\left(\\begin{array}{ll}7 & 8 \\\\ 9 & 0\\end{array}\\right) & 6 \\cdot\\left(\\begin{array}{ll}7 & 8 \\\\ 9 & 0\\end{array}\\right)\\end{array}\\right)=\\left(\\begin{array}{cccc}7 & 8 & 14 & 16 \\\\ 9 & 0 & 18 & 0 \\\\ 21 & 24 & 28 & 32 \\\\ 27 & 0 & 36 & 0 \\\\ 35 & 40 & 42 & 48 \\\\ 45 & 0 & 54 & 0\\end{array}\\right)$"
      ]
    },
    {
      "cell_type": "markdown",
      "metadata": {
        "id": "uNIbSO-HWXIY"
      },
      "source": [
        "https://www.johndcook.com/blog/2020/04/13/kronecker-product-hadamard-matrix/"
      ]
    },
    {
      "cell_type": "markdown",
      "metadata": {
        "id": "-IWLVtmn_AvF"
      },
      "source": [
        "**General Examples**"
      ]
    },
    {
      "cell_type": "markdown",
      "metadata": {
        "id": "2fYujs_mJiGj"
      },
      "source": [
        "###### <font color=\"blue\">**Kovector-Vector-Multiplication (Inner)**: Bra-Ket\n"
      ]
    },
    {
      "cell_type": "markdown",
      "metadata": {
        "id": "4f-J08PZWChg"
      },
      "source": [
        "> $\\mathbf{u}^{\\top} \\mathbf{v}=\\left[\\begin{array}{llll}u_{1} & u_{2} & \\cdots & u_{n}\\end{array}\\right]\\left[\\begin{array}{c}v_{1} \\\\ v_{2} \\\\ \\vdots \\\\ v_{n}\\end{array}\\right]=\\left[u_{1} v_{1}+u_{2} v_{2}+\\cdots+u_{n} v_{n}\\right]$"
      ]
    },
    {
      "cell_type": "markdown",
      "metadata": {
        "id": "VqYwpW1LqB-T"
      },
      "source": [
        "> Zur Messung von Zustaenden in einer Basis (zB ich will die Probability wissen, mit der man den State=1 erhält)"
      ]
    },
    {
      "cell_type": "markdown",
      "metadata": {
        "id": "7vwv5EZHJDUv"
      },
      "source": [
        "* ⟨0∣1⟩ und ⟨1∣0⟩ ergeben inner product 0 (orthogonal zueinander)\n",
        "\n",
        "* ⟨0∣0⟩ und ⟨1∣1⟩ ergeben inner product 1 (mit sich selbst multipliziert)"
      ]
    },
    {
      "cell_type": "markdown",
      "metadata": {
        "id": "p77lzgYwKLBW"
      },
      "source": [
        "* Multiplication des Kovectors / Dual mit einem Vector. \n",
        "\n",
        "* Inner Product / Bra-Ket, conjugate transpose of Ket. \n",
        "\n",
        "* You get a scalar as output."
      ]
    },
    {
      "cell_type": "markdown",
      "metadata": {
        "id": "P0IV-xgiwDw8"
      },
      "source": [
        "https://en.m.wikipedia.org/wiki/Measurement_in_quantum_mechanics"
      ]
    },
    {
      "cell_type": "markdown",
      "metadata": {
        "id": "naLH8HIuwF27"
      },
      "source": [
        "https://en.m.wikipedia.org/wiki/Born_rule"
      ]
    },
    {
      "cell_type": "markdown",
      "metadata": {
        "id": "aBMfVspllP-s"
      },
      "source": [
        "**From Geometry Colab**\n",
        "\n",
        "*Under: Differentialgeometrie & Tensoranalysis I > Linear Form (=Covector, Funktional, 1-Form, or Dualvector)> Dual Space: How do Covector Components transform?*\n",
        "\n",
        "* Covectors are functions from vectors to real numbers 𝛼:𝑉→ℝ (Linearformen, Funktionale etc). \n",
        "\n",
        "  * **BUT: Covectors don't live in vector space 𝑉**. They take vectors in 𝑉 as inputs. (and then spit out scalar number etc, like integral or differential)\n",
        "\n",
        "* for example in: $\\left[\\begin{array}{ll}2 & 1\\end{array}\\right]\\left(\\left[\\begin{array}{l}x \\\\ y\\end{array}\\right]\\right)=2 x+1 y$\n",
        "\n",
        "  * **[2, 1] can the thought of as a function, rather than a row vector, that acts on another vector.**\n",
        "\n",
        "  * Think about what that means for $u^T v$ in quantum mechanics: Messung von Zustaenden in einer Basis (zB ich will die Probability wissen, mit der man den State=1 erhält)\n",
        "\n",
        "  * der covector ist die basis, in die ich projizieren will, um dessen wahrscheinlichkeit zu berechnen, zB <1|$\\psi$> bedeutet, dass ich 1 als Bra = Kovector auswähle, um die wahrscheinlichkeit zu berechnen, dass meine wavefunction $\\psi$ in den state 1 bei einer messung kollabiert\n",
        "\n",
        "    * <font color=\"blue\">**<1| ist dass hierbei eine Funktion, die ich auf |$\\psi$> anwende.** Als Ergebnis bekomme ich eine Zahl = die Probability\n",
        "\n",
        "    * **by taking a measurement I change the wavefunction to a delta function with one spike at what my measurement gave me** (Measurement ('collapse of the wavefunction')) \n",
        "    \n",
        "    * <font color=\"blue\">**ist das die Brücke zum Thema Funktional?? ein funktional gibt zB eine integration und dirac distribution is eine integration an einem bestimmten punkt. Bra ist ein Kovector, und kovectoren sind funktionale.**\n",
        "\n",
        "    * **The probability of a particular measurement is then the absolute square of the scalar product with the basis vector that corresponds to the outcome (probability of measuring 𝑋 is). This is Born's Rule. This scalar product of the wave function with a basis vector is also sometimes called a projection on that basis vector**\n",
        "    \n",
        "    * Da es ein Funtional ist: Also das Integral der Wahrscheinlichkeit für 1? das ergebnis wäre dann eine dirac distribution???\n",
        "\n",
        "  * <font color=\"red\">**Open Question: spielt hier Dirac Delta function eine Rolle?? (probbility superposition wird yu dirac distribution nach anwendung des measurement operators)**</font>\n",
        "\n",
        "* A typical example of a linear functional is integration\n",
        "\n",
        "* In Quantum mechanics: Linear functionals are particularly important in quantum mechanics. **Quantum mechanical systems are represented by Hilbert spaces, which are anti–isomorphic to their own dual spaces**. A state of a quantum mechanical system can be identified with a linear functional. For more information see bra–ket notation.\n",
        "\n",
        "* All covectors can be written as the linear combination of the dual basis vectors!"
      ]
    },
    {
      "cell_type": "markdown",
      "metadata": {
        "id": "KdsQy6dylkj2"
      },
      "source": [
        "\n",
        "\n",
        "---\n",
        "\n"
      ]
    },
    {
      "cell_type": "markdown",
      "metadata": {
        "id": "vvbr9aRoBjTw"
      },
      "source": [
        "* A normalized vector or unit vector is a vector whose norm is equal to 1. A basis is said orthonormal if all vectors are normalized and mutually orthogonal.\n",
        "\n",
        "* **A finite vector space with an inner product is called a Hilbert space**. \n",
        "\n",
        "* In order to an infinite vector space be a Hilbert space, it must obey additional properties besides having an inner product. Since we will deal primarily with finite vector spaces, we use the term Hilbert space as a synonym for vector space with an inner product.\n",
        "\n",
        "* A subspace W of a finite Hilbert space V is also a Hilbert space."
      ]
    },
    {
      "cell_type": "markdown",
      "metadata": {
        "id": "Q6RRTMpKKFcG"
      },
      "source": [
        "Betrachten Sie als Beispiel für die Dirac-Notation die „Braket\" $\\langle 0 \\mid 1\\rangle$, bei der es sich um das innere Produkt zwischen 0 und 1 handelt. Dies kann wie folgt ausgedrückt werden:\n",
        "\n",
        "> $\n",
        "\\langle 0 \\mid 1\\rangle=\\left[\\begin{array}{ll}\n",
        "1 & 0\n",
        "\\end{array}\\right]\\left[\\begin{array}{l}\n",
        "0 \\\\\n",
        "1\n",
        "\\end{array}\\right]=0\n",
        "$\n",
        "\n",
        "Dies bedeutet, dass $|0\\rangle$ und $|1\\rangle$ orthogonale Vektoren sind, \n",
        "\n",
        "* was bedeutet, dass $\\langle 0 \\mid 1\\rangle=\\langle 1 \\mid 0\\rangle=0$ ist. \n"
      ]
    },
    {
      "cell_type": "markdown",
      "metadata": {
        "id": "d52Hry6hYoKF"
      },
      "source": [
        "Remember, you have an (orthonormal) basis with 3 vectors and coefficients, to describe a vector in space (in Hilbert space):\n",
        "\n",
        "> $\\vec{v}=$<font color='blue'>$2$</font>$\\left(\\begin{array}{l}1 \\\\ 0 \\\\ 0\\end{array}\\right)$<font color='blue'>$+3$</font>$\\left(\\begin{array}{l}0 \\\\ 1 \\\\ 0\\end{array}\\right)$<font color='blue'>$+0$</font>$\\left(\\begin{array}{l}0 \\\\ 0 \\\\ 1\\end{array}\\right)$\n",
        "\n",
        "And the coefficients can be collected in one vector and are copmplex numbers:\n",
        "\n",
        "> $\\vec{v}=$<font color='blue'>$\\left(\\begin{array}{l}2 \\\\ 3 \\\\ 0\\end{array}\\right)$</font>\n",
        "\n",
        "**Or written formally**:\n",
        "\n",
        "> $|\\Psi\\rangle=a_{1}\\left(\\begin{array}{l}1 \\\\ 0 \\\\ 0\\end{array}\\right)+{a_{2}}\\left(\\begin{array}{l}0 \\\\ 1 \\\\ 0\\end{array}\\right)+a_{3}\\left(\\begin{array}{l}0 \\\\ 0 \\\\ 1\\end{array}\\right)$\n",
        "\n",
        "> $|\\Psi\\rangle=\\left(\\begin{array}{l}a_{1} \\\\ a_{2} \\\\ a_{3}\\end{array}\\right)$\n",
        "\n",
        "\n",
        "<font color=\"red\">**Where basis vectors $X, Y, Z$ correspond to possibe measurement outcomes:**\n",
        "\n",
        "> $|\\Psi\\rangle=a_{1} |X\\rangle +a_{2} |Y\\rangle + a_{3} |Z\\rangle$\n"
      ]
    },
    {
      "cell_type": "markdown",
      "metadata": {
        "id": "0A6siRC6YyVY"
      },
      "source": [
        "**Example zur Nutzung des Inner Products bei der Decoherence / Messung der Wahrscheinlichkeit eines Zustands**: \n",
        "\n",
        "* Remember: $|0\\rangle$ und $|1\\rangle$ orthogonale Vektoren sind, was bedeutet, dass $\\langle 0 \\mid 1\\rangle=\\langle 1 \\mid 0\\rangle=0$ ist. \n",
        "\n",
        "* Remember: $\\langle 0 \\mid 0\\rangle=\\langle 1 \\mid 1\\rangle=1$, was bedeutet, dass die beiden Berechnungsbasisvektoren auch als orthonormal bezeichnet werden können.\n",
        "\n",
        "Diese orthonormalen Eigenschaften sind im folgenden Beispiel nützlich: \n",
        "\n",
        "* Es gibt einen Zustand mit der Wave Function / Wahrscheinlichkeit fur beide Zustaende $|\\psi\\rangle=\\frac{3}{5}|1\\rangle+\\frac{4}{5}|0\\rangle$\n",
        "\n",
        "* die Wahrscheinlichkeit des Messens 1 ist dann (1 ist hierbei die basis, weil ich es messen will):\n",
        "\n",
        ">$\n",
        "|\\langle 1 \\mid \\psi\\rangle|^{2}=\\left|\\frac{3}{5}\\langle 1 \\mid 1\\rangle+\\frac{4}{5}\\langle 1 \\mid 0\\rangle\\right|^{2}=\\frac{9}{25}\n",
        "$\n",
        "\n",
        "* weil $\\langle 1 \\mid 0\\rangle=0$ faellt der zweite Term weg: $\\frac{4}{5}\\langle 1 \\mid 0\\rangle$ = $\\frac{4}{5} * 0$\n",
        "\n",
        "https://docs.microsoft.com/de-de/azure/quantum/concepts-dirac-notation\n"
      ]
    },
    {
      "cell_type": "markdown",
      "metadata": {
        "id": "N_1O47HSCki0"
      },
      "source": [
        "**Notation Details for the sum over all quantum states in many $u_{i}$ basis**\n",
        "\n",
        "* **We expand the Ket $\\psi$ in the basis u**, where the expansion coefficients c are given by the Braket between u and psi:\n",
        "\n",
        "> $|\\psi\\rangle=\\sum_{i} c_{i}\\left|u_{i}\\right\\rangle = c_{1} * u_{1} + c_{2} * u_{2} .. + c_{i}* u_{i} = c_{1}\\left(\\begin{array}{l}1 \\\\ 0 \\\\ 0\\end{array}\\right)+{c_{2}}\\left(\\begin{array}{l}0 \\\\ 1 \\\\ 0\\end{array}\\right)+.. c_{i}\\left(\\begin{array}{l}0 \\\\ 0 \\\\ i\\end{array}\\right) \\quad =\\left\\langle u_{i} \\mid \\psi\\right\\rangle$\n",
        "\n",
        "* <font color=\"red\">This c cofficients are what we call **representation of the Ket psi in the u basis**.\n",
        "\n",
        "* To define the matrix formulation pf Kets we rearrange this coefficient c into a column vector. And we can do it either in terms of the brakets u and psi, or directly in terms of the expansion coefficient c.\n",
        "* Therefore, in the matrix formulation of quantum mechanics Kets are written as column vectors.\n",
        "\n",
        "> $\\left(\\begin{array}{c}\\langle u_{1} \\mid \\psi\\rangle \\\\ \\left\\langle u_{2} \\mid \\psi\\right\\rangle \\\\ \\vdots \\\\ \\left\\langle u_{i} \\mid \\psi\\right\\rangle \\\\ \\vdots\\end{array}\\right)=\\left(\\begin{array}{c}c_{1} \\\\ c_{2} \\\\ \\vdots \\\\ c_{i} \\\\ \\vdots \\\\ \\end{array}\\right)$"
      ]
    },
    {
      "cell_type": "markdown",
      "metadata": {
        "id": "ztkYlsKXFeqk"
      },
      "source": [
        "> $\\langle\\psi|=\\sum_{i} c_{i}^{*}\\left\\langle u_{i}\\right| \\quad c_{i}^{*}=\\left\\langle\\psi \\mid u_{i}\\right\\rangle=\\left\\langle u_{i} \\mid \\psi\\right\\rangle^{*}$\n",
        "\n",
        "<font color=\"red\">**We expand the Bra psi in the basis u** in terms of the same expansion coefficient c that we used to expand the corresponding ket. \n",
        "* But in this case the expansion coefficients are the **complex conjugates** C*\n",
        "* To define the matrix formulation of bra‘s we arrange this coefficient into a row vector\n",
        "* We can do this in terms of the braket psi u or in terms of the complex conjugates of the C coefficients\n",
        "* Therefore Bra‘s are written as row vectors\n",
        "\n",
        "> $\\left(\\left\\langle\\psi \\mid u_{1}\\right\\rangle\\left\\langle\\psi \\mid u_{2}\\right\\rangle \\cdots\\left\\langle\\psi \\mid u_{i}\\right\\rangle \\cdots\\right)$\n",
        "\n",
        "> $=\\left(\\begin{array}{lllll}c_{1}^{*} & c_{2}^{*} & \\cdots & c_{i}^{*} & \\cdots\\end{array}\\right)$"
      ]
    },
    {
      "cell_type": "markdown",
      "metadata": {
        "id": "O_1EP1gCgcvW"
      },
      "source": [
        "**Measurement ('collapse of the wavefunction')**\n",
        "\n",
        "* When you measure, the wave function collapses and you get one clear value. **<u>It's the absolute value squared like |$a_0$|$^2$ that gives you the probability</u> = collapse of the wave function**. \n",
        "\n",
        "* Outcome for example zero with the absolute value of zero squared. Then you know the state is in the zero state = collapse of the wave function\n",
        "\n",
        "* Quantum state is also called a wave function: once you pull out a sample of the distribution and you get an outcome, you make an observation then you get a deterministic state afterwards of the random outcome."
      ]
    },
    {
      "cell_type": "markdown",
      "metadata": {
        "id": "KqFzG3j7ZUTJ"
      },
      "source": [
        "**The probability to get ANY measurement outcome is equal to one, which means that the sum over the squared scalar products with all basis vectors has to be one. Which is just the length of the vector (all wave functions have length 1)**:\n",
        "\n",
        "> $1=a_{1} a_{1}^{*}+a_{2} a_{2}^{*}+a_{3} a_{3}^{*}=|\\langle \\Psi \\mid \\Psi\\rangle|^{2}$\n",
        "\n",
        "where $\\mid \\Psi\\rangle$ is the wavefunction of the probability superposition, then multiplied with itself, which gives length 1."
      ]
    },
    {
      "cell_type": "markdown",
      "metadata": {
        "id": "cePA7Sr8u_aW"
      },
      "source": [
        "https://de.m.wikipedia.org/wiki/Bornsche_Wahrscheinlichkeitsinterpretation"
      ]
    },
    {
      "cell_type": "markdown",
      "metadata": {
        "id": "_g2d8RJDvBMA"
      },
      "source": [
        "https://en.m.wikipedia.org/wiki/Measurement_in_quantum_mechanics"
      ]
    },
    {
      "cell_type": "markdown",
      "metadata": {
        "id": "0R3bDgUAZye6"
      },
      "source": [
        "<font color=\"red\">**The probability of a particular measurement is then the absolute square of the scalar product with the basis vector that corresponds to the outcome (probability of measuring $X$ is). This is <u>Born's Rule</u>. This scalar product of the wave function with a basis vector is also sometimes called a <u>projection</u> on that basis vector:**\n",
        "\n",
        "> $|\\langle X \\mid \\Psi\\rangle|^{2}=a_{1} a_{1}^{*}$\n",
        "\n",
        "where $\\mid \\Psi\\rangle$ is the wavefunction of the probability superposition and $\\langle X \\mid$ is the basis vector of one outcome."
      ]
    },
    {
      "cell_type": "markdown",
      "metadata": {
        "id": "z06mwyF1Tsw8"
      },
      "source": [
        "> A measurement is defined as the application of an operator (simply a matrix multiplication) on the wave function. The operator however changes the original state |Ψ⟩ of the quantum system, so we will get a different value if we measure it again. Imagine determining the position of an electron, the electron has hit a surface or is struck by a photon, both of which changes its momentum therefore its original wave function. This is one of the fundamental postulates of quantum mechanics.\n"
      ]
    },
    {
      "cell_type": "markdown",
      "metadata": {
        "id": "2dHW2dfQCaXG"
      },
      "source": [
        "Measurement in quantum mechanics: https://en.m.wikipedia.org/wiki/Measurement_in_quantum_mechanics"
      ]
    },
    {
      "cell_type": "markdown",
      "metadata": {
        "id": "-cGLowwQI7jh"
      },
      "source": [
        "https://en.m.wikipedia.org/wiki/Measurement_problem"
      ]
    },
    {
      "cell_type": "markdown",
      "metadata": {
        "id": "BHBqAboRbG5j"
      },
      "source": [
        "It’s called a projection because it’s the length you get if you project the full wave-function on the direction that corresponds to the basis vector. Like a vector casting a shadow (in blue)\n",
        "\n",
        "![geometry](https://raw.githubusercontent.com/deltorobarba/repo/master/quantum_015.png)"
      ]
    },
    {
      "cell_type": "markdown",
      "metadata": {
        "id": "uJJA9NI8cVwJ"
      },
      "source": [
        "The whole issue with the measurement in quantum mechanics is now that once you do a measurement, and you have projected th wave-function onto one of the basis vectors, then its length will no longer be equal to one because the probability of getting this particular measurement outcome may have been smaller than 1. \n",
        "\n",
        "But, once you have measured the state, it is with probability 1 in one of the basis vectors. So then you have to choose the measurement outcome that you actually fund and stretch the length of the vector back to 1. This is what is called the <u>measurement update</u> (look how the blue vector got longer!)\n",
        "\n",
        "![geometry](https://raw.githubusercontent.com/deltorobarba/repo/master/quantum_016.png)"
      ]
    },
    {
      "cell_type": "markdown",
      "metadata": {
        "id": "AsAmVnHQbiyN"
      },
      "source": [
        "https://www.youtube.com/watch?v=ctXDXABJRtg"
      ]
    },
    {
      "cell_type": "markdown",
      "metadata": {
        "id": "60DM3PNGUhDg"
      },
      "source": [
        "**<font color=\"blue\">Bra-Ket $\\langle\\psi|\\psi\\rangle$</font> or <font color=\"blue\">$\\langle\\Phi \\mid \\Psi\\rangle$</font> (Inner product)**"
      ]
    },
    {
      "cell_type": "markdown",
      "metadata": {
        "id": "QFGqjBpBFOmX"
      },
      "source": [
        "* In der [**Dirac Notation (Bra Ket Notation)**](https://de.m.wikipedia.org/wiki/Dirac-Notation) schreibt man die Vektoren eines Vektorraums $V$ auch außerhalb eines Skalarprodukts mit einer spitzen Klammer als Ket $|v\\rangle$. \n",
        "\n",
        "* Jedem Ket $|v\\rangle$ entspricht ein Bra $\\langle v|$, der dem Dualraum $V^{*}$ angehört, also eine lineare Abbildung von $V$ in den zu Grunde liegenden Körper $K$ repräsentiert, und umgekehrt. \n",
        "\n",
        "* Das Ergebnis der Operation eines Bras $\\langle v|$ auf einen Ket $|w\\rangle$ wird $\\langle v \\mid w\\rangle$ geschrieben, womit der Zusammenhang mit der konventionellen Notation des Skalarprodukts hergestellt ist. We can use the <font color=\"blue\">$\\langle\\text{bra}|\\text{ket}\\rangle$</font> notation to write a scalar product conveniently as a “bra-ket”.\n"
      ]
    },
    {
      "cell_type": "markdown",
      "metadata": {
        "id": "HSTwK3Nha-7o"
      },
      "source": [
        "**Case 1: Inner product of one vector (with all basis vectors):**"
      ]
    },
    {
      "cell_type": "markdown",
      "metadata": {
        "id": "JGMeJbQdZty3"
      },
      "source": [
        "Ket: $|\\Psi\\rangle=\\left(\\begin{array}{l}a_{1} \\\\ a_{2} \\\\ a_{3}\\end{array}\\right)$\n",
        "\n",
        "Bra: $\\langle\\Psi^*| = (a{_1}^*, a{_2}^*, a{_3}^*)$\n",
        "\n",
        "Bra-Ket: $(a{_1}^*a_1 + a{_2}^*a_2 + a{_2}^*a_2)$"
      ]
    },
    {
      "cell_type": "markdown",
      "metadata": {
        "id": "LTI8NaRsRAU6"
      },
      "source": [
        "* With this bra-ket notation it's now very easy to write dot products = the **inner product between Bra and Ket which is $\\langle\\psi \\mid \\psi\\rangle$ = 1**, and it is normalized the result is 1(it's a particular way of writing the 2-norm when using complex inputs). \n",
        "\n",
        "* With the dot product of bra and ket you will get a **scalar as a result**, like total probability is 1, here for the coefficients (probability amplitudes):\n",
        "\n",
        "> $\\langle\\psi \\mid \\psi\\rangle = \\left|a_{0}\\right|^{2}+\\left|a_{1}\\right|^{2}= 1$\n",
        "\n",
        "> The Bra-Ket $\\langle\\psi \\mid \\psi\\rangle$  represents the inner product in the Hilbert space\n",
        "\n",
        "* **The probability to get ANY measurement outcome is equal to one, which means that the sum over the squared scalar products with all basis vectors has to be one. Which is just the length of the vector (all wave functions have length 1)**:\n",
        "\n",
        "> $1=a_{1} a_{1}^{*}+a_{2} a_{2}^{*}+a_{3} a_{3}^{*}=|\\langle \\Psi \\mid \\Psi\\rangle|^{2}$"
      ]
    },
    {
      "cell_type": "markdown",
      "metadata": {
        "id": "28ZYgNbTUds8"
      },
      "source": [
        "**Case 2: Inner product of two different vectors**:\n",
        "\n",
        "For example, the scalar product between two different vectors is the sum over the products of the coefficients \n",
        "\n",
        "(and be careful: the Bra vector $|\\Phi\\rangle$ has complex conjugates over its coefficients here):\n",
        "\n",
        "\n",
        "$|\\Psi\\rangle=\\left(\\begin{array}{l}a_{1} \\\\ a_{2} \\\\ a_{3}\\end{array}\\right)$\n",
        "\n",
        "$|\\Phi\\rangle=\\left(\\begin{array}{l}c_{1} \\\\ c_{2} \\\\ c_{3}\\end{array}\\right)$\n",
        "\n",
        "$\\langle\\Phi \\mid \\Psi\\rangle=a_{1} c_{1}^{*}+b, c_{2}^{*}+a_{3} c_{3}^{*}$ = a scalar"
      ]
    },
    {
      "cell_type": "markdown",
      "metadata": {
        "id": "-rsFgaBYjzXX"
      },
      "source": [
        "**Case 3: Inner product of two basis vectors**:\n",
        "\n",
        "And in that case of their pure basis it's zero, because these are two orthogonal vectors:\n",
        "\n",
        "> $\\langle 0 \\mid 1\\rangle=[1,0]\\left[\\begin{array}{l}0 \\\\ 1\\end{array}\\right] = 0$"
      ]
    },
    {
      "cell_type": "markdown",
      "metadata": {
        "id": "w9mIb4d3jXPm"
      },
      "source": [
        "https://www.youtube.com/watch?v=fIYIFCVICcA&t=61s"
      ]
    },
    {
      "cell_type": "markdown",
      "metadata": {
        "id": "m1CRyEEMpKAh"
      },
      "source": [
        "https://towardsdatascience.com/do-you-struggle-with-the-quantum-superposition-86d0f2147bfb"
      ]
    },
    {
      "cell_type": "markdown",
      "metadata": {
        "id": "q3-zqqxXDq-p"
      },
      "source": [
        "**<font color=\"blue\">Bra $\\langle\\psi|$</font> (conjugate transpose of Ket)**"
      ]
    },
    {
      "cell_type": "markdown",
      "metadata": {
        "id": "yli_Tsn1RlRp"
      },
      "source": [
        "The coefficients of a quantum vector $\\vec{v}=$<font color='blue'>$\\left(\\begin{array}{l}2 \\\\ 3 \\\\ 0\\end{array}\\right)$</font> are complex numbers with an imaginary part:\n",
        "\n",
        "$z=x+1 y$\n",
        "\n",
        "You can create the conjugate of complex numbers (flip the sign of i):\n",
        "\n",
        "$z^*=x-1 y$"
      ]
    },
    {
      "cell_type": "markdown",
      "metadata": {
        "id": "erR-cpUydgOx"
      },
      "source": [
        "So that means:\n",
        "\n",
        "> $|\\Psi\\rangle=a_{1}\\left(\\begin{array}{l}1 \\\\ 0 \\\\ 0\\end{array}\\right)+{a_{2}}\\left(\\begin{array}{l}0 \\\\ 1 \\\\ 0\\end{array}\\right)+a_{3}\\left(\\begin{array}{l}0 \\\\ 0 \\\\ 1\\end{array}\\right)$\n",
        "\n",
        "With the Ket in one vector:\n",
        "\n",
        "> $|\\Psi\\rangle=\\left(\\begin{array}{l}a_{1} \\\\ a_{2} \\\\ a_{3}\\end{array}\\right)$"
      ]
    },
    {
      "cell_type": "markdown",
      "metadata": {
        "id": "aGT9mIJajX2L"
      },
      "source": [
        "**Bra is then the conjugate transpose of Ket** (with the transpose symbol called \"dagger\". It's a row vector / one form / covector / dual space):\n",
        "\n",
        "> $\\langle\\Psi|=\\left(a_{1}^*, a_{2}^*, a_{3}^*\\right)$ = $\\left[\\begin{array}{ll}\\vec{a}_{1} & \\vec{a}_{2} & \\vec{a}_{3}\\end{array}\\right]$\n",
        "\n",
        "> $\\langle\\Psi| \\doteq | \\Psi\\rangle^{\\dagger}$"
      ]
    },
    {
      "cell_type": "markdown",
      "metadata": {
        "id": "kQE0JmWIOkI1"
      },
      "source": [
        "**Remember: Covectors are also called called one-form because they take one vector and output a scalar.**\n",
        "\n",
        "* In math they are called Funktionale, Linearformen oder auch 1-Formen\n",
        "\n",
        "* in physics they are more often called covariant vectors, or covectors\n",
        "\n",
        "**This scalar can be a integrand (Wegintegral) or Differential, Temperature, Speed etc..**\n",
        "\n",
        "(meanwhile a metric tensor is two-form because it takes 2 vectors to output one scalar, which is length or angle)."
      ]
    },
    {
      "cell_type": "markdown",
      "metadata": {
        "id": "dW-MBTjvb3fW"
      },
      "source": [
        "*See we use the \"represented by\" symbol $\\doteq$ and not the equal sign: Wichtig ist dabei, **dass $|v\\rangle$ und der dazugehörige Spaltenvektor $\\left(v_{1}, v_{2}, v_{3}, \\ldots, v_{m}\\right)^{T}$ nicht dasselbe mathematische Objekt sind und somit kein Gleichheitszeichen verwendet werden darf**. Dies wird insbesondere daran deutlich, dass die Bra-Ket-Schreibweise von der Wahl einer Basis unabhängig ist, während die Darstellung durch Koordinatenvektoren die Wahl einer Basis voraussetzt. Stattdessen sollte deutlich gemacht werden, dass es sich bei $\\left(a_{1}, a_{2}, a_{3}, \\ldots, a_{m}\\right)^{T}$ um die Darstellung von $|a\\rangle$ handelt. Dies kann durch die Verwendung von Zeichen wie $\\Rightarrow, \\doteq, \\leftrightarrow$* etc erfolgen.*"
      ]
    },
    {
      "cell_type": "markdown",
      "metadata": {
        "id": "kHDmRMQ0vYqh"
      },
      "source": [
        "**Collapse of the wave function**\n",
        "\n",
        "* when we measure it, will only be 100% in one of the two states\n",
        "\n",
        "> $|\\uparrow\\rangle \\quad \\text{OR} \\quad |\\downarrow\\rangle$\n",
        "\n",
        "* the coefficients $\\alpha$ and $\\beta$ are directly linked to the **probability** finding each one after a measurement\n",
        "\n",
        "* This probability is for each state actually absolute value squared: $(|\\alpha|)^2$\n",
        "\n",
        "* we can only predict the probability of an outcome of a measurement, not knowing for sure what will happen"
      ]
    },
    {
      "cell_type": "markdown",
      "metadata": {
        "id": "-1E3GVo-xn15"
      },
      "source": [
        "**Vectors**\n",
        "\n",
        "* this measurement (=electron with spin up or spin down) can be also thought of **as a vector in an abstract space (Hilbert space)**\n",
        "\n",
        "* the two possible outcomes are orthogonal vectors in this space - it's an abstract mathematical space. the two outcomes are not really orthogonally pointed\n",
        "\n",
        "* the inner product between two states is = 0, because they are orthogonal to each other\n",
        "\n",
        "> $\\langle \\uparrow \\mid \\downarrow \\rangle =  0$\n",
        "\n",
        "* in the superposition, as a vector it is a **linear combination** of both states (some amount of spin up PLUS some amount of spin down)\n"
      ]
    },
    {
      "cell_type": "markdown",
      "metadata": {
        "id": "1igh_3RbNYbc"
      },
      "source": [
        "See also: https://en.m.wikipedia.org/wiki/Born_rule"
      ]
    },
    {
      "cell_type": "markdown",
      "metadata": {
        "id": "xZKnO1Baz_OT"
      },
      "source": [
        "![geometry](https://raw.githubusercontent.com/deltorobarba/repo/master/quantum_003b.png)"
      ]
    },
    {
      "cell_type": "markdown",
      "metadata": {
        "id": "kwr5zndW1yET"
      },
      "source": [
        "**Interference:** \n",
        "\n",
        "* we cannot do on classical computers. While different vectors and coefficients interact in calculations. \n",
        "\n",
        "* There is an operator (as a matrix in the image) that transforms the zero-ket into the equal superposition of the zero-ket and the one-ket. \n",
        "\n",
        "* if I take this outcome and apply the same operator on it again, something interesting happens (it's a linear operator btw): results cancel out and you get a deterministic outcome by applying the operator again. \n",
        "  \n",
        "* This is an example of intereference. The probability amplitudes of the zero ket destructively interfere; they vanish for the superposition. "
      ]
    },
    {
      "cell_type": "markdown",
      "metadata": {
        "id": "weHKGn1DtC3-"
      },
      "source": [
        "https://www.youtube.com/watch?v=Y5WRv_9757A&list=PLBn8lN0Dcvpla6a6omBni1rjyQJ4CssTP&index=43"
      ]
    },
    {
      "cell_type": "markdown",
      "metadata": {
        "id": "tOJrnodZ2AJ5"
      },
      "source": [
        "https://www.youtube.com/watch?v=payp7simhBM"
      ]
    },
    {
      "cell_type": "markdown",
      "metadata": {
        "id": "GN32DC3rwxMN"
      },
      "source": [
        "**Born rule**"
      ]
    },
    {
      "cell_type": "markdown",
      "metadata": {
        "id": "g5C4ycm1xLaw"
      },
      "source": [
        "![geometry](https://raw.githubusercontent.com/deltorobarba/repo/master/quantum_005.png)"
      ]
    },
    {
      "cell_type": "markdown",
      "metadata": {
        "id": "rD0zqJ-Aw0D6"
      },
      "source": [
        "https://www.youtube.com/watch?v=aVFe08G0uYk&list=PLBn8lN0Dcvpla6a6omBni1rjyQJ4CssTP&index=45"
      ]
    },
    {
      "cell_type": "markdown",
      "metadata": {
        "id": "rIMlLhynTUvk"
      },
      "source": [
        "\n",
        "\n",
        "\n",
        "* the other way around ket-bra would give you a **matrix as a result** (So order makes a big difference). This is nothing else than the projection to this partially basis vector.\n",
        "\n",
        "> $|0\\rangle\\langle 0| =$ $\\left[\\begin{array}{l}1 \\\\ 0\\end{array}\\right]\\left[\\begin{array}{ll}1 & 0\\end{array}\\right]=\\left[\\begin{array}{ll}1 & 0 \\\\ 0 & 0\\end{array}\\right]$\n",
        "\n",
        "https://www.mathpages.com/home/kmath638/kmath638.htm\n",
        "\n",
        "\n",
        "\n"
      ]
    },
    {
      "cell_type": "markdown",
      "metadata": {
        "id": "AW31S4IPGYLo"
      },
      "source": [
        "**The matrix is nothing else but the projection to the particular basis vector $|0\\rangle\\langle 0|$**\n",
        "\n",
        "* Measurements are very similar to random variables in classical probability. \n",
        "\n",
        "* the state afterwards becomes the zero ket\n",
        "\n",
        "* Measurements take measurement outcomes, this will be always random\n",
        "* Born rule: you get some outcome zero of a qubit state with probability |a0|2\n",
        "* The state afterwards becomes the zero ket |0>\n",
        "* So the superposition is destroyed , and you only get one part of the superposition\n",
        "* It is random which part you get with a certain probability = collapse of the wave function\n",
        "* The way we write it down is actually with the formalism from before (ket bra multiplication)\n",
        "\n"
      ]
    },
    {
      "cell_type": "markdown",
      "metadata": {
        "id": "1SzVM_J5zGHm"
      },
      "source": [
        "###### **<font color =\"blue\">Vector-Kovector-Multiplication (Outer / Dyadic)**: Density Matrix for Mixed States (Ket-Bra)"
      ]
    },
    {
      "cell_type": "markdown",
      "metadata": {
        "id": "oc-NQArnWUzn"
      },
      "source": [
        "> $\\mathbf{u v}^{T}=\\left[\\begin{array}{c}u_{1} \\\\ u_{2} \\\\ \\vdots \\\\ u_{n}\\end{array}\\right]\\left[\\begin{array}{llll}v_{1} & v_{2} & \\cdots & v_{n}\\end{array}\\right]$= $\\left[\\left[\\begin{array}{c}u_{1} \\\\ u_{2} \\\\ \\vdots \\\\ u_{n}\\end{array}\\right] v_{1}\\left[\\begin{array}{c}u_{1} \\\\ u_{2} \\\\ \\vdots \\\\ u_{n}\\end{array}\\right] v_{2} \\ldots \\left[\\begin{array}{c}u_{1} \\\\ u_{2} \\\\ \\vdots \\\\ u_{n}\\end{array}\\right] v_{2} \\right]$ = $\\left[\\begin{array}{cccc}u_{1} v_{1} & u_{1} v_{2} & \\cdots & u_{1} v_{n} \\\\ u_{2} v_{1} & u_{2} v_{2} & \\cdots & u_{2} v_{n} \\\\ \\vdots & \\vdots & & \\vdots \\\\ u_{n} v_{1} & u_{n} v_{2} & \\cdots & u_{n} v_{n}\\end{array}\\right]$"
      ]
    },
    {
      "cell_type": "markdown",
      "metadata": {
        "id": "oparIQXHU4aj"
      },
      "source": [
        "* Outer (dyadic) Product (Ket-Bra) = You get a matrix $\\hat{\\rho}$\n",
        "\n",
        "* You get Density Matrix for Mixed States (& Decoherence)\n",
        "\n",
        "* With density matrices we can create probabilistic mixtures over pure states ! [classical probability distribution](https://www.youtube.com/watch?v=BE8RxAESx5I&list=PLBn8lN0Dcvpla6a6omBni1rjyQJ4CssTP&index=47)"
      ]
    },
    {
      "cell_type": "markdown",
      "metadata": {
        "id": "_rrzr9jUXTiq"
      },
      "source": [
        "**A density matrix is a matrix that describes the quantum state of a physical system**. \n",
        "\n",
        "* It allows for the calculation of the probabilities of the outcomes of any measurement performed upon this system, using the **Born rule**. \n",
        "\n",
        "* It is a generalization of the more usual state vectors or wavefunctions: while those can only represent pure states, density matrices can also represent **mixed states**.\n",
        "\n",
        "> **Mixed states arise in quantum mechanics in two different situations:** \n",
        "\n",
        "* first when the preparation of the system is not fully known, and thus one must deal with a **statistical ensemble of possible preparations**, and \n",
        "\n",
        "* second when one wants to describe a **physical system which is entangled** with another, as its state can not be described by a pure state."
      ]
    },
    {
      "cell_type": "markdown",
      "metadata": {
        "id": "m1TT2ifHWx6l"
      },
      "source": [
        "https://en.wikipedia.org/wiki/Quantum_state#Mixed_states"
      ]
    },
    {
      "cell_type": "markdown",
      "metadata": {
        "id": "4JXWhG1kNb2Q"
      },
      "source": [
        "**Density matrix is an alternative way of expressing quantum states**:\n",
        "\n",
        "* You can represent the state of qubits using the state-vector notation. Working with this representation is convenient when dealing with states that can always be **expressed as a linear combination of basis states**, each with an associated probability amplitude. \n",
        "\n",
        "* However, in quantum computation and quantum communication, there are many practical scenarios in which the state of our qubits **cannot be written down as linear combinations in a given basis**, but instead must be expressed in terms of **ensembles (statistical mixtures) of multiple states**, each with an associated probability of occurrence.\n",
        "\n",
        "* Density matrix is an **alternative way of expressing quantum states**. However, unlike the state-vector representation, this formalism allows us to use the same mathematical language to describe both the more simple quantum states we've been working with so far (pure states), **as well as the mixed states** that consist of ensembles of pure states.\n",
        "\n",
        "\n"
      ]
    },
    {
      "cell_type": "markdown",
      "metadata": {
        "id": "4syJv14dKXX-"
      },
      "source": [
        "> $\n",
        "\\begin{array}{c|c|c} \n",
        "& \\begin{array}{c}\n",
        "\\text { Pure } \\\\\n",
        "\\text { State }\n",
        "\\end{array} & \\begin{array}{c}\n",
        "\\text { Mixed } \\\\\n",
        "\\text { State }\n",
        "\\end{array} \\\\\n",
        "\\hline \\begin{array}{c}\n",
        "\\text { Density } \\\\\n",
        "\\text { Matrix } \\\\\n",
        "|\\psi\\rangle\\langle\\psi|\n",
        "\\end{array} & \\color{green} ✔ & \\color{green}✔ \\\\\n",
        "\\hline \\begin{array}{c}\n",
        "\\text { Wave } \\\\\n",
        "\\text { Function } \\\\\n",
        "|\\Psi\\rangle\n",
        "\\end{array} & \\color{green}✔ & \\color{red} ❌\n",
        "\\end{array}\n",
        "$"
      ]
    },
    {
      "cell_type": "markdown",
      "metadata": {
        "id": "3pX_xUBx8akI"
      },
      "source": [
        "> Any mixed state can be written as a [convex combination](https://en.m.wikipedia.org/wiki/Convex_combination) of pure states, though [not in a unique way (Schrödinger–HJW theorem)](https://en.m.wikipedia.org/wiki/Schrödinger–HJW_theorem). The [state space](https://en.m.wikipedia.org/wiki/State_space) of a quantum system is the set of all states, pure and mixed, that can be assigned to it. (Density matrix useful in describing composite systems. Zur Beschreibung von Mixed States zw. mindestens 2 Qubits)\n"
      ]
    },
    {
      "cell_type": "markdown",
      "metadata": {
        "id": "lmjn_jJTIrnv"
      },
      "source": [
        "**Example of a Mixed State**"
      ]
    },
    {
      "cell_type": "markdown",
      "metadata": {
        "id": "8epLTr0lIzM6"
      },
      "source": [
        "*Source here point 2.1: https://qiskit.org/textbook/ch-quantum-hardware/density-matrix.html*\n",
        "\n",
        "* Let's consider the case where we initialize a qubit in the |0⟩ state, and then apply a Hadamard gate. \n",
        "\n",
        "* **Now, unlike the scenario we described for pure states, this Hadamard gate is not ideal: Due to errors in the quantum-computer hardware, only 80% of the times the state is prepared**, this Hadamard gate produces the desired state:\n",
        "\n",
        "> $\\left|\\psi_{1}\\right\\rangle=\\frac{1}{\\sqrt{2}}(|0\\rangle+|1\\rangle)$\n",
        "\n",
        "* The remaining $20 \\%$ of the times, the pulse applied to rotate the state is either too short or too long by $\\frac{\\pi}{6}$ radians about the $x$-axis. This means that when we use this Hadamard gate, we could end up with following two undesired outcome states:\n",
        "\n",
        ">$\n",
        "\\left|\\psi_{2}\\right\\rangle=\\frac{\\sqrt{3}}{2}|0\\rangle+\\frac{1}{2}|1\\rangle, \\quad\\left|\\psi_{3}\\right\\rangle=\\frac{1}{2}|0\\rangle+\\frac{\\sqrt{3}}{2}|1\\rangle\n",
        "$\n",
        "\n",
        "* The figure below shows the Bloch representation for the three possible states our qubit could take if the short pulse happens 10% of the time, and the long pulse the remaining 10% of the time:\n",
        "\n",
        "\n"
      ]
    },
    {
      "cell_type": "markdown",
      "metadata": {
        "id": "PHg8_AGtJgwt"
      },
      "source": [
        "![ggg](https://raw.githubusercontent.com/deltorobarba/repo/master/quantum_198.png)\n"
      ]
    },
    {
      "cell_type": "markdown",
      "metadata": {
        "id": "C44d10jQJpSf"
      },
      "source": [
        "* Since we do not know the outcome of our qubit everytime we prepare it, we can represent it as a mixed state of the form:\n",
        "\n",
        "> $\n",
        "\\rho_{H}=\\frac{4}{5}\\left|\\psi_{1}\\right\\rangle\\left\\langle\\psi_{1}\\left|+\\frac{1}{10}\\right| \\psi_{2}\\right\\rangle\\left\\langle\\psi_{2}\\left|+\\frac{1}{10}\\right| \\psi_{3}\\right\\rangle\\left\\langle\\psi_{3}\\right|$\n",
        "\n",
        "* Here, the factors $\\frac{4}{5}, \\frac{1}{10}$ and $\\frac{1}{10}$ correspond to the classical probabilities of obtaining the states $\\left|\\psi_{1}\\right\\rangle,\\left|\\psi_{2}\\right\\rangle$ and $\\left|\\psi_{3}\\right\\rangle$, respectively.\n",
        "\n",
        "* By replacing each of these three possible state vectors into  $\\rho$ , we can find the density matrix that represents this mixture:\n",
        "\n",
        "> $\\rho_{H}=\\frac{4}{5}\\left[\\begin{array}{ll}\\frac{1}{2} & \\frac{1}{2} \\\\ \\frac{1}{2} & \\frac{1}{2}\\end{array}\\right]+\\frac{1}{10}\\left[\\begin{array}{cc}\\frac{3}{4} & \\frac{\\sqrt{3}}{4} \\\\ \\frac{\\sqrt{3}}{4} & \\frac{1}{4}\\end{array}\\right]+\\frac{1}{10}\\left[\\begin{array}{cc}\\frac{1}{4} & \\frac{\\sqrt{3}}{4} \\\\ \\frac{\\sqrt{3}}{4} & \\frac{3}{4}\\end{array}\\right]$\n",
        "$\\rho_{H}=\\left[\\begin{array}{cc}\\frac{1}{2} & \\frac{\\sqrt{3}}{20}+\\frac{2}{5} \\\\ \\frac{\\sqrt{3}}{20}+\\frac{2}{5} & \\frac{1}{2}\\end{array}\\right]$"
      ]
    },
    {
      "cell_type": "markdown",
      "metadata": {
        "id": "9k0ej057Hz42"
      },
      "source": [
        "**Course: Density Matrix for Mixed States**"
      ]
    },
    {
      "cell_type": "markdown",
      "metadata": {
        "id": "BNaYgpSDQMmg"
      },
      "source": [
        "*Source: Parth G: https://www.youtube.com/watch?v=ZAOc4eMTQiw*\n",
        "\n",
        "* **Pain Point**:  when we see this notation for two states spin up and spin down: $|\\psi\\rangle=\\frac{1}{\\sqrt{2}}|\\uparrow\\rangle+\\frac{1}{\\sqrt{2}}|\\downarrow\\rangle$ we think of it as being in a superposition of both states. But sometimes we don't know if the system is actually in this superposition, or not already collapsed to one. \n",
        "\n",
        "* So, in practice before we measure a system, it can be in following three states, because we lack information about it. This is a mixed state:\n",
        "\n",
        "  * 33% probability: $|\\psi\\rangle=\\mid \\uparrow>$\n",
        "  \n",
        "  * 33% probability: $|\\psi\\rangle=\\mid \\downarrow>$\n",
        "  \n",
        "  * 33% probability: $|\\psi\\rangle=\\frac{1}{\\sqrt{2}}|\\uparrow\\rangle+\\frac{1}{\\sqrt{2}}|\\downarrow\\rangle$\n",
        "\n",
        "* **Mixed state**: lack of information about the system, hence for example giving equal probability to each possible outcome."
      ]
    },
    {
      "cell_type": "markdown",
      "metadata": {
        "id": "kBTDUmVMIK9T"
      },
      "source": [
        "* **When dealing with a mixed state we need to represent it with what's known as a density operator or density matrix**.\n",
        "\n",
        "* Wave function notation $|\\psi\\rangle$ can only be used to describe pure states. But density matrices $|\\psi\\rangle\\langle\\psi|$ can be used to describe mixed and pure states.\n",
        "\n",
        "* and how do we get the density matrix? - Take the column vector, turn it into a row vector, and then multiply them both:\n",
        "\n",
        "> $(\\hat{\\rho})$ $=\\left(\\begin{array}{l}1 \\\\ 0\\end{array}\\right) \\times\\left(\\begin{array}{ll}1 & 0\\end{array}\\right)$ = $\\left(\\begin{array}{ll}1 & 0 \\\\ 0 & 0\\end{array}\\right)$"
      ]
    },
    {
      "cell_type": "markdown",
      "metadata": {
        "id": "MBOWa3kcIXN-"
      },
      "source": [
        "On top of that you can even add several mixed states to get one final mixed states. Mixed state: our knowledge of the system is limited. It could be either one of multiple psi states. \n",
        "\n",
        "* Image 1: We have to add up the density matrices of each possible spin state whilst making sure that we weight it with the probability of it being in that psi state\n",
        "\n",
        "* Image 2: That would give us the final density matrix, which is the mixture in the mixed state. \n",
        "\n",
        "* Image 3: it is for this reason that there is no way to write a mixed state as a single wave function or a single vector. We have to deal with matrices that represent the different pure states in which our system could be. And each of these density matrices has to be weighted by how likely it is that our system is on that pure that."
      ]
    },
    {
      "cell_type": "markdown",
      "metadata": {
        "id": "MFd3jSvDICCu"
      },
      "source": [
        "![geometry](https://raw.githubusercontent.com/deltorobarba/repo/master/quantum_006a.png)"
      ]
    },
    {
      "cell_type": "markdown",
      "metadata": {
        "id": "D6VPB6EJs2gf"
      },
      "source": [
        "**Video: [Pure VS Mixed States | Quantum Information\n",
        "](https://www.youtube.com/watch?v=gFtt0C4enZA)**\n"
      ]
    },
    {
      "cell_type": "markdown",
      "metadata": {
        "id": "ou7X1WS3iUXO"
      },
      "source": [
        "\n",
        "\n",
        "* A pure state can be written in terms of a Ket state $|\\psi\\rangle$ $\\doteq$ $\\left[\\begin{array}{l}a_{0} \\\\ a_{1}\\end{array}\\right]$\n",
        "\n",
        "  * <font color =\"blue\">$|\\psi\\rangle$</font> $=\\sum_{i} c_{i}\\left|\\varphi_{i}\\right\\rangle$\n",
        "  \n",
        "  * whereas a mixed state cannot.\n",
        "\n",
        "* A mixed state can be described with a density matrix: \n",
        "\n",
        "  * <font color =\"blue\">$\\rho$ </font>$=\\sum_{i} p_{i}\\left|\\varphi_{i} \\times \\varphi_{i}\\right|$ \n",
        "  * Sum over probabilities times the corresponding projection operators onto certain basis states $\\varphi_{i}$"
      ]
    },
    {
      "cell_type": "markdown",
      "metadata": {
        "id": "AXW9-m39lpfD"
      },
      "source": [
        "If you only consider pure states, then many calculations in quantum mechanics can be done using either formalism: <font color =\"blue\">$|\\psi\\rangle$ or $\\rho$</font>\n",
        "\n",
        "If a pure quantum state is both described by the ket $\\psi$ and the density matrix $\\rho$, \n",
        "  \n",
        "  * which is 100% in the state of $\\psi$ (means: $p_{i}$=1): for $\\rho=\\sum 1|\\psi \\times \\psi|$ \n",
        "  \n",
        "  * then the expectation value of an operator $\\hat{A}$ can be calculated like this: $\\langle\\hat{A}\\rangle=\\left\\{\\begin{array}{l}\\langle\\psi|\\hat{A}| \\psi\\rangle \\\\ \\operatorname{Tr}[\\rho \\hat{A}]\\end{array}\\right.$"
      ]
    },
    {
      "cell_type": "markdown",
      "metadata": {
        "id": "_z0x1KOjlnWl"
      },
      "source": [
        "**Let's consider a two-level system with basis states $\\left|\\varphi_{1}\\right\\rangle=|0\\rangle$ and $\\left|\\varphi_{2}\\right\\rangle=|1\\rangle$**: \n",
        "\n",
        " * If a quantum state is in the ket state $\\psi$ with:  $|\\psi\\rangle=\\frac{1}{\\sqrt{2}}|0\\rangle+\\frac{1}{\\sqrt{2}}|1\\rangle$ = pure state\n",
        "\n",
        " * It looks like this state is 50% in state 0 and 50% in state 1, but this is actually not the case since we can also have interference between those states\n",
        "\n",
        "* we could also use a density matrix to describe this state, which would look like this (equivalent to $\\psi$: \n",
        "\n",
        "> $\\rho=|\\psi \\times \\psi|=\\frac{1}{2}\\left|0 \\times 0\\right|+$ <font color =\"blue\">$\\frac{1}{2}\\left|0 \\times 1\\right|+\\frac{1}{2}\\left|1 \\times 0\\right|$</font>$+\\frac{1}{2}\\left|1\\times1\\right|$\n",
        "\n",
        "* As you can clearly see from the density matrix representation, if the quantum system is in such a superposition of 0 and 1, there can be interference between the 1 and 0 states (in blue marked)!\n",
        "\n",
        "* This becomes more obvious if we calculate the expectation value of an operator:\n",
        "\n",
        "> $\\langle\\hat{A}\\rangle=\\frac{1}{2}\\langle 0|\\hat{A}| 0\\rangle+$ <font color =\"blue\">$\\frac{1}{2}\\langle 0|\\hat{A}| 1\\rangle+\\frac{1}{2}\\langle 1|\\hat{A}| 0\\rangle$</font>$+\\frac{1}{2}\\langle 1|\\hat{A}| 1\\rangle$\n",
        "\n",
        "* In blue marked: these two terms can only arise because of interference\n",
        "\n",
        "* **If we really want 50% of our system in the state 0 and 50% in the state 1, we need the density matrix.**\n",
        "\n",
        "  * it's called a \"statistical ensemble\"\n",
        "\n",
        "  * $\\rho = \\rho_0 |0 \\times 0| + \\rho_1 |1 \\times 1| = $<font color =\"red\">$\\frac{1}{2}\\left|0 \\times 0\\right| + \\frac{1}{2}\\left|1 \\times 1\\right|$</font>\n",
        "\n",
        "  * in this case, the expectation value of the operator $\\hat{A}$ only contains the matrix elements of 00 and 11. There are no interference terms:\n",
        "\n",
        "  * $\\langle\\hat{A}\\rangle=T_{r}[\\rho \\hat{A}]=\\frac{1}{2}\\langle 0|\\hat{A}| 0\\rangle+\\frac{1}{2}\\langle\\ 1| \\hat{A} | 1\\rangle$\n",
        "\n",
        "  * Since there is no way to write down this system <font color =\"red\">$\\frac{1}{2}\\left|0 \\times 0\\right| + \\frac{1}{2}\\left|1 \\times 1\\right|$</font> using only a ket state $|\\psi \\rangle$ = ... , this is a mixed state.\n",
        "\n",
        "  * In the density matrix we have probabilities like $\\frac{1}{2}$, but in the ket state we have probability amplitudes for example $\\frac{1}{\\sqrt{2}}$ like in $|\\psi\\rangle=\\frac{1}{\\sqrt{2}}|0\\rangle+\\frac{1}{\\sqrt{2}}|1\\rangle$. \n",
        "  \n",
        "  * And they can interfere with each other. Therefore it's not correct to say we have 50% of out system in state 0 and 50% in state 1 if we are using a ket state $\\psi$."
      ]
    },
    {
      "cell_type": "markdown",
      "metadata": {
        "id": "YNaDQejsvI_m"
      },
      "source": [
        "**There are two more ways to distinguish a pure state from a mixed state:**\n",
        "\n",
        "1. Take the trace of the square of the density matrix: \n",
        "  \n",
        "  * $\\operatorname{Tr}\\left[\\rho^{2}\\right]=1 \\rightarrow$ Pure state (like Summe der Eigenwerte entlang der Spur: 1-0-0-0..)\n",
        "\n",
        "  * $\\operatorname{Tr}\\left[\\rho^{2}\\right]<1 \\rightarrow$ Mixed state\n",
        "\n",
        "2. Geometricaly, pure states lie on the surface of the Blochsphere. Mixed states are confined within the Bloch sphere. "
      ]
    },
    {
      "cell_type": "markdown",
      "metadata": {
        "id": "zGUNPCDK2yaQ"
      },
      "source": [
        "**Why do we need this alternative formalism, these density matrices?**\n",
        "\n",
        "* With density matrices we can create probabilistic mixtures over pure states \n",
        "\n",
        "* We can have the ket and bra description of a pure quantum state, but you can create a classical probability distribution $\\sum_{i} p_{i}$ over them (this is classical ignorance, this is something we don't know about the underlying quantum system):\n",
        "\n",
        "> $\\rho=\\sum_{i} p_{i}\\left|\\psi_{i} \\times \\psi_{i}\\right|$\n",
        "\n",
        "* With this new formalism we can make noisy, imperfect quantum states\n",
        "\n",
        "* To illustrate the difference, think about this Ket $|\\psi\\rangle$, which is the equal superposition of 0 and 1. We can write out the vector form $\\left[\\begin{array}{l}1 / \\sqrt{2} \\\\ 1 / \\sqrt{2}\\end{array}\\right]$. And if we write the corresponding $\\rho$, it will have 0.5 for every element in the matrix. \n",
        "\n",
        "> $|\\psi\\rangle=\\frac{1}{\\sqrt{2}}(|0\\rangle+(1\\rangle)=\\left[\\begin{array}{l}1 / \\sqrt{2} \\\\ 1 / \\sqrt{2}\\end{array}\\right] \\rightarrow $$\\rho=\\left[\\begin{array}{ll}0.5 & 0.5 \\\\ 0.5 & 0.5\\end{array}\\right]$\n",
        "\n",
        "* On the other hand if we create the uniform distribution over the density matrix corresponding to the 0-Ket and the density matrix corresponding to the 1-Ket, then this density matrix will be different:\n",
        "\n",
        "> $\\rho^{\\prime}=\\frac{1}{2}(|0 \\times 0|+|1 \\times 1|)=\\left[\\begin{array}{ll}0.5 & 0 \\\\ 0 & 0.5\\end{array}\\right]$\n",
        "\n",
        "* It doesn't have off-diagonal elements. These off-diagonal elements are critical for many quantum operations, sometimes also called 'coherences'. This is then called a maximally mixed state = equivalent of a uniform distribution in classical probability theory. This means we have absolutely no predictive power of what's going to happen next. Entropy of the state is maximal.  \n",
        "\n",
        "* Ideally we want quantum states with a high coherence, but in reality noise affects, and these coherences disappear.\n",
        "\n",
        "https://www.youtube.com/watch?v=BE8RxAESx5I&list=PLBn8lN0Dcvpla6a6omBni1rjyQJ4CssTP&index=47"
      ]
    },
    {
      "cell_type": "markdown",
      "metadata": {
        "id": "pQ77hA8twQkb"
      },
      "source": [
        "\n",
        "---\n",
        "\n",
        "a state which you can decompose that way is called mixed (because \n",
        "you can generate it by mixing other states), while states which you cannot decompose that way are called pure. A pure state is always a projector onto a one-dimensional subspace of the underlying Hilbert space, and thus can be associated with a Hilbert space vector spanning that subspace, also known as the wave function of the state (note that unlike the projector, the corresponding vector is not unique, even if you demand normalization, since you can multiply it with a global phase without changing the physical state it refers to).\n",
        "\n",
        "https://www.researchgate.net/post/What-is-difference-between-mixed-state-and-mixed-entangled-state"
      ]
    },
    {
      "cell_type": "markdown",
      "metadata": {
        "id": "9n2xc2AqSUT_"
      },
      "source": [
        "for mixed states: https://en.m.wikipedia.org/wiki/Quantum_state#Pure_states while mixed states are represented by density matrices, which are positive semidefinite operators that act on Hilbert spaces"
      ]
    },
    {
      "cell_type": "markdown",
      "metadata": {
        "id": "j4eP1E5vYQJr"
      },
      "source": [
        "**Example 2**: Ket-bra would give you a **matrix as a result** (So order makes a big difference). This is nothing else than the projection to this partially basis vector. Here if I want to know the probability of measuring $|0\\rangle$:\n",
        "\n",
        "> $|0\\rangle\\langle 0| =$ $\\left[\\begin{array}{l}1 \\\\ 0\\end{array}\\right]\\left[\\begin{array}{ll}1 & 0\\end{array}\\right]=\\left[\\begin{array}{ll}1 & 0 \\\\ 0 & 0\\end{array}\\right]$\n",
        "\n",
        "https://www.mathpages.com/home/kmath638/kmath638.htm"
      ]
    },
    {
      "cell_type": "markdown",
      "metadata": {
        "id": "HWAvARAnenVl"
      },
      "source": [
        "**Ket-Bra = Density Matrix: You need it to understand decoherence**\n",
        "\n",
        "> $\\mid \\Psi X \\Psi\\mid =\\left(\\begin{array}{lll}a_{1} a_{1}^{*} & a_{1} a_{2}^{*} & a_{1} a_{3}^{*} \\\\ a_{2} a_{1}^{*} & a_{2} a_{2}^{*} & a_{2} a_{3}^{*} \\\\ a_{3} a_{1}^{*} & a_{3} a_{2}^{*} & a_{3} a_{3}^{*}\\end{array}\\right)$"
      ]
    },
    {
      "cell_type": "markdown",
      "metadata": {
        "id": "2JYkz7MggCCw"
      },
      "source": [
        "Decoherence: https://www.youtube.com/watch?v=igsuIuI_HAQ"
      ]
    },
    {
      "cell_type": "markdown",
      "metadata": {
        "id": "eACrJ2znLwNE"
      },
      "source": [
        "**Wave function notation is to describe superposition of Pure States**"
      ]
    },
    {
      "cell_type": "markdown",
      "metadata": {
        "id": "-TYgLBnP5snV"
      },
      "source": [
        "* <font color=\"blue\">Spin up or spin down = **pure states**, can be written as a single wave function $\\mid \\psi\\rangle$</font>\n",
        "\n",
        "* instead of using bra and ket notation to represent the particle's possible spin states, we will now use vectors, for example spin up = $|\\psi\\rangle=\\left(\\begin{array}{l}1 \\\\ 0\\end{array}\\right)$ and spin down = $|\\psi\\rangle=\\left(\\begin{array}{l}0 \\\\ 1\\end{array}\\right)$\n",
        "\n",
        "* a superposition would look like this: $|\\psi\\rangle=\\frac{1}{\\sqrt{2}}\\left(\\begin{array}{l}1 \\\\ 0\\end{array}\\right)+\\frac{1}{\\sqrt{2}}\\left(\\begin{array}{l}0 \\\\ 1\\end{array}\\right)$\n",
        "\n",
        "\n",
        "* this is still a pure state as a single vector: $|\\psi\\rangle=\\left(\\begin{array}{l}1 / \\sqrt{2} \\\\ 1 / \\sqrt{2} \\end{array}\\right)$\n",
        "\n",
        "\n"
      ]
    },
    {
      "cell_type": "markdown",
      "metadata": {
        "id": "tReGBYVQBd2-"
      },
      "source": [
        "See als https://en.m.wikipedia.org/wiki/Quantum_state#Mixed_states \n",
        "\n",
        "and https://en.m.wikipedia.org/wiki/Density_matrix"
      ]
    },
    {
      "cell_type": "markdown",
      "metadata": {
        "id": "aALAjQGEMvhl"
      },
      "source": [
        "And also prof m: https://www.youtube.com/watch?v=LR5kfhrs4Cc"
      ]
    },
    {
      "cell_type": "markdown",
      "metadata": {
        "id": "ibWnEVWoTtqd"
      },
      "source": [
        "![geometry](https://raw.githubusercontent.com/deltorobarba/repo/master/quantum_006.png)"
      ]
    },
    {
      "cell_type": "markdown",
      "metadata": {
        "id": "RVm2Y7YwXX87"
      },
      "source": [
        "* to talk about noise and how it affects quantum states, we have to introduce a bit more notation\n",
        "\n",
        "* **mixed states: factor in noise that affects today's quantum computers**\n",
        "\n",
        "* a ket is technically a pure quantum state\n",
        "\n",
        "* **a density matrix $\\rho$ is a ket and a bra: | $\\Phi$ >< $\\Phi$ | = | $\\Phi$ X $\\Phi$ |**\n",
        "\n",
        "* now we can rewrite every single operation that we would otherwise do in a ket in this new formalism. "
      ]
    },
    {
      "cell_type": "markdown",
      "metadata": {
        "id": "JWwIunpkSAFx"
      },
      "source": [
        "**Get Coherences from Eigenvalues in Trace of Mixed Matrices**"
      ]
    },
    {
      "cell_type": "markdown",
      "metadata": {
        "id": "gzBgrWYbofZZ"
      },
      "source": [
        "The coherent state describes a state in a system for which the ground-state wavepacket is displaced from the origin of the system. This state can be related to classical solutions by a particle oscillating with an amplitude equivalent to the displacement. \n",
        "\n",
        "**These coherent states are expressed as eigenvectors** of the lowering operator and forming an overcomplete family. "
      ]
    },
    {
      "cell_type": "markdown",
      "metadata": {
        "id": "jWk-hx1ltRSU"
      },
      "source": [
        "###### **<font color=\"blue\">Vector-Kovector-Multiplication (Outer / Dyadic)**: Density Matrix for Expectation Value</font>"
      ]
    },
    {
      "cell_type": "markdown",
      "metadata": {
        "id": "a5f6ZY-GWreI"
      },
      "source": [
        "https://en.m.wikipedia.org/wiki/Expectation_value_(quantum_mechanics)"
      ]
    },
    {
      "cell_type": "markdown",
      "metadata": {
        "id": "WWthNMy_XtFF"
      },
      "source": [
        "Expectation Value of a Quantum Measurement  $\\left\\langle\\psi\\left|A_{i}\\right| \\psi\\right\\rangle$"
      ]
    },
    {
      "cell_type": "markdown",
      "metadata": {
        "id": "UfSmCXH_CS-2"
      },
      "source": [
        "> **Expectation values in quantum mechanics are an important tool that helps us to mathematically describe measurements of quantum systems.**\n",
        "\n",
        "* doesn't mean the most probable result: imagine an operator with Eigenvalues plus 1 and minus 1. If both results appear with equal probabilities, then the expectation value of this operator will be 0. So the expectation value is not even a possible outcome of the measurement, and hence is not most probable result.\n",
        "\n",
        "* https://www.youtube.com/watch?v=NT1JX85MGA0"
      ]
    },
    {
      "cell_type": "markdown",
      "metadata": {
        "id": "st_X1BQCVVDP"
      },
      "source": [
        "> $|0\\rangle\\langle 0| =$ $\\left[\\begin{array}{l}1 \\\\ 0\\end{array}\\right]\\left[\\begin{array}{ll}1 & 0\\end{array}\\right]=\\left[\\begin{array}{ll}1 & 0 \\\\ 0 & 0\\end{array}\\right]$\n",
        "\n",
        "> **IMPORTANT: A measurement outcome is actually a projection (to the first basis vector)**\n",
        "\n",
        "* **So if we want to model that we get the outcome 0, then we take the corresponding projection | 0 X 0 | and we apply it on the quantum state: | 0 X 0 | $\\Phi$>** . \n",
        "\n",
        "* this is how you pull out samples from a quantum state and how you apply measurement to this particular probability distribution"
      ]
    },
    {
      "cell_type": "markdown",
      "metadata": {
        "id": "HuR9PpCZXRlT"
      },
      "source": [
        "<font color=\"blue\">**How do you calculate the expectation value in quantum mechanics?**</font>\n",
        "\n",
        "* How you formulate it will depend somewhat on the treatment you are using.\n",
        "\n",
        "* In bra-ket notation, a state vector for a pure state $|s\\rangle$ is a unit vector. Its complex-conjugate transpose is $\\langle s|$. The operator whose expectation value you are evaluating could be written $|A|$.\n",
        "\n",
        "* The expectation value is then the product $\\langle s|A| s\\rangle$. \n",
        "\n",
        "* If $A$ is just the identity (which corresponds to the observable that has constant value 1 ) then we just get $\\langle s \\mid s\\rangle=1$. \n",
        "\n",
        "> Taking the complex conjugate makes the value of the product equal to the squared norm of the state vector. For example <font color=\"blue\">if $|s\\rangle$ is a wave function $f(x, y, z)$, then we are taking the integral over space of the product of $f$ with its complex conjugate, **which is $|f|^{2}$, not just its product with itself, which is $f^{2}$.**\n",
        "\n",
        "* If $|s\\rangle$ has a component which is a $\\lambda$-eigenstate for $A$, then applying $A$ multiplies that component by $\\lambda$ by definition. The expectation value is the sum or integral of those individual contributions weighted by the squared norm of the component. \n",
        "\n",
        "* That is why the expectation value can be evaluated just by applying $A$ and then taking an inner product with the original state as above.\n",
        "\n",
        "*For completeness I will say a little about mixed states.*\n",
        "\n",
        "* <font color=\"blue\">In the density-matrix formalism, the state is also an operator, and a pure state is represented by the operator $|s\\rangle\\langle s|$</font>.\n",
        "\n",
        "* There is a mathematical function known as the trace defined for some operators. It has the property $\\operatorname{tr}(A B)=\\operatorname{tr}(B A)$ as well as $\\operatorname{tr}(|s\\rangle\\langle t|)=\\langle t \\mid s\\rangle$.\n",
        "\n",
        "> <font color=\"blue\">**The operator $|s\\rangle\\langle s|$ is then an operator of trace 1 , and the expectation $\\langle s|A| s\\rangle$ can also be evaluated as the trace of $|s\\rangle\\langle s| A$.**</font>\n",
        "\n",
        "* A mixture of states is a weighted average of such operators (not necessarily in a unique way), and its expectation value is the weighted average of the expectation values of the pure states. \n",
        "\n",
        "* So if $S$ is a mixed state, it is again an operator of trace 1 , positive definite, and its expectation value for $A$ is the trace of $S A$ or equivalently of $A S$.\n",
        "\n",
        "https://www.quora.com/How-do-you-calculate-the-expectation-value-in-quantum-mechanics"
      ]
    },
    {
      "cell_type": "markdown",
      "metadata": {
        "id": "LaoWBfFQ8B4n"
      },
      "source": [
        "**Expectation value of an observable $Q$ in a (normalized) state $|\\Psi\\rangle$ gives the average of all possible values (weighted by their corresponding probabilities) that one may expect to observe in an experiment designed to measure $Q$ in state $|\\Psi\\rangle$**.\n",
        "\n",
        "* The expectation value of an **observable quantity (like the momentum of a particle)** is the probability-weighted average of that quantity’s operator over the state vector (wave function) of the particle. You might think of it as the classical (non-quantum) value of the quantity, although in many cases there is no meaningful classical value.\n",
        "\n",
        "* In quantum mechanics whenever an operator is applied to a state vector then it results in various eigen values corresponding to that operator. \n",
        "\n",
        "  * Now the expectation value corresponding to an operator is a weighted mean of the product of eigen values and theirs probability amplitudes. \n",
        "  \n",
        "  * The concept of Expectation value is just like the concept of centre of mass . \n",
        "  \n",
        "> <font color=\"blue\">The expectation value of any operator will be close to that eigen value whose probability amplitude is maximum with respect to other eigen values corresponding to same operator.\n",
        "\n",
        "* In other words, if one prepares the given system in state $|\\Psi\\rangle$, measure $Q$, notes down the observed value; then again prepares the system in state $|\\Psi\\rangle$, again measure $Q$ and notes down the observed value, and repeats this procedure a large number of times, then the average of all values of $Q$ so observed will approach the expectation value $\\langle\\Psi|Q| \\Psi\\rangle$.\n",
        "\n",
        "> <font color=\"blue\">**To see this, suppose, $\\left|\\psi_{1}\\right\\rangle,\\left|\\psi_{2}\\right\\rangle, \\ldots$ be the orthonormal basis of eigenstates of observable $Q$ with corresponding eigenvalues $\\lambda_{1}, \\lambda_{2}, \\ldots$ respectively**. \n",
        "\n",
        "* One can expand the given (normalized) state $|\\Psi\\rangle$ in the above basis as\n",
        "\n",
        "> $\n",
        "|\\Psi\\rangle=\\alpha_{1}\\left|\\psi_{1}\\right\\rangle+\\alpha_{2}\\left|\\psi_{2}\\right\\rangle+\\cdots+\\alpha_{n}\\left|\\psi_{n}\\right\\rangle+\\ldots\n",
        "$\n",
        "\n",
        "* According to a basic postulate of Quantum mechanics the above expansion implies that upon measuring $Q$ in state $|\\Psi\\rangle$ the outcome of the experiment will be eigenvalue $\\lambda_{1}$ with probability $\\left|\\alpha_{1}\\right|^{2}$, eigenvalue $\\lambda_{2}$ with probability $\\left|\\alpha_{2}\\right|^{2}$ and so on. \n",
        "\n",
        "* Therefore, the (weighted) average of all possible values of $Q$ that can be observed in state $|\\Psi\\rangle$ will be\n",
        "\n",
        "> <font color=\"blue\">$\n",
        "\\begin{array}{l}\n",
        "\\left|\\alpha_{1}\\right|^{2} \\lambda_{1}+\\left|\\alpha_{2}\\right|^{2} \\lambda_{2}+\\ldots \\\\\n",
        "=\\left\\langle\\alpha_{1} \\psi_{1}+\\alpha_{2} \\psi_{2}+\\ldots \\| \\lambda_{1} \\alpha_{1} \\psi_{1}+\\lambda_{2} \\alpha_{2} \\psi_{2}+\\ldots\\right\\rangle \\\\\n",
        "=\\left\\langle\\alpha_{1} \\psi_{1}+\\alpha_{2} \\psi_{2}+\\ldots|Q| \\alpha_{1} \\psi_{1}+\\alpha_{2} \\psi_{2}+\\ldots\\right\\rangle \\\\\n",
        "=\\langle\\Psi|Q| \\Psi\\rangle\n",
        "\\end{array}\n",
        "$\n",
        "\n",
        "* (*Remember here from above: Taking the complex conjugate makes the value of the product equal to the squared norm of the state vector. For example if $|s\\rangle$ is a wave function $f(x, y, z)$, <font color=\"blue\">**then we are taking the integral over space of the product of $f$ with its complex conjugate, which is $|f|^{2}$, not just its product with itself, which is $f^{2}$**.*)</font>\n",
        "\n",
        "* which is the expectation value of $Q$ in state $|\\Psi\\rangle$.\n",
        "\n",
        "https://www.quora.com/What-is-the-use-of-expectation-value-in-quantum-mechanics"
      ]
    },
    {
      "cell_type": "markdown",
      "metadata": {
        "id": "v4aEflVE-nPY"
      },
      "source": [
        "![ggg](https://raw.githubusercontent.com/deltorobarba/repo/master/quantum_195.png)"
      ]
    },
    {
      "cell_type": "markdown",
      "metadata": {
        "id": "xoxyfi5sBOCt"
      },
      "source": [
        "How do we calculate expectation values: \n",
        "\n",
        "* if we have a quantum system that id described by the wave function $| \\Psi \\rangle$, then the expectation value of the operator $A$ is defined like this: \n",
        "\n",
        "> $\\langle A\\rangle_{\\psi}:=\\langle\\psi|A| \\psi\\rangle$\n",
        "\n",
        "* If we work in the <font color =\"blue\">position basis, where the wave function is given by projecting the ket-state $| \\psi \\rangle$ onto the position basis</font>: \n",
        "\n",
        "> $\\psi(x)=\\langle x \\mid \\psi\\rangle$\n",
        "\n",
        "* then we can also write down the expectation value of $A$ using an integral like this:\n",
        "\n",
        "> $\\langle A\\rangle_{\\psi}:=\\int d x \\, \\psi^{*}(x) \\, A \\, \\psi(x)$\n",
        "\n",
        "* Note that is is important that the operator stands between the two wavefunctions. This is important for instance if the operator contains a derivative.\n",
        "\n",
        "*There are two more ways to calculate the expectation value of this operator:*"
      ]
    },
    {
      "cell_type": "markdown",
      "metadata": {
        "id": "cfJfHszTCFf2"
      },
      "source": [
        "**First we can use the <u>spectral decomposition</u> of $A$**\n",
        "\n",
        "* where <font color =\"blue\">the operator can be written as a sum over its Eigenvalues $a_i$ times projection operators onto its Eigenstates</font>. \n",
        "\n",
        "> $A=\\sum_{i} a_{i}\\left|\\varphi_{i} \\rangle \\langle \\varphi_{i}\\right|$ $\\quad$ with $A\\left|\\varphi_{i}\\right\\rangle=a_{i}\\left|\\varphi_{i}\\right\\rangle$\n",
        "\n",
        "By using decomposition in the definition of the expectation value, we get this result: \n",
        "\n",
        "> $\\langle A\\rangle_{\\psi}=\\langle\\psi|A| \\psi\\rangle=$ $\\sum_{i} a_{i}\\langle\\psi|\\varphi_{i} \\rangle $ <font color =\"orange\">$\\langle \\varphi_{i}| \\psi \\rangle$</font> $=\\sum_{i} a_{i}$ <font color =\"blue\">$\\left|\\left\\langle\\varphi_{i} \\mid \\psi\\right\\rangle\\right|^{2}$</font>\n",
        "\n",
        "At this is actually very close to the definition before at the beginning: **we sum over all Eigenvalues, which are the possible outcomes of a measurement, weighted by the probabilities that this particular Eigenvalue occurs if we start in the state $\\Psi$**.\n",
        "\n",
        "* <font color =\"orange\">$\\langle\\varphi_{i} | \\psi\\rangle$</font> - this is called the **transition amplitude**\n",
        "\n",
        "* <font color =\"blue\">$|\\langle\\varphi_{i} | \\psi\\rangle|^{2}$</font> - this is called the **transition probability** (absolute square of the transition amplitude)"
      ]
    },
    {
      "cell_type": "markdown",
      "metadata": {
        "id": "IVqquXUpF2SE"
      },
      "source": [
        "**Second: we can use the <u>density matrix formalism</u>**\n",
        "\n",
        "* Where $\\rho$ (rho) is given as Psi-Psi:\n",
        "\n",
        "> $\\rho = |\\psi\\rangle \\langle \\psi|$\n",
        "\n",
        "* we can calculate the expectation value of $A$ by taking the trace over $\\rho$ times $A$:\n",
        "\n",
        "> <font color=\"blue\">**$\\langle A\\rangle_{\\rho}:=\\operatorname{Tr}[\\rho A] =\\operatorname{Tr}[\\, |\\psi\\rangle \\langle \\psi| \\, A]$ = (?) $\\langle \\psi|A| \\psi\\rangle$**</font>\n",
        "\n",
        "* From below: \n",
        "\n",
        "  * <font color=\"blue\">**The operator $|s\\rangle\\langle s|$ is an operator of trace 1 , and the expectation $\\langle s|A| s\\rangle$ can also be evaluated as the trace of $|s\\rangle\\langle s| A$.**</font>\n",
        "  \n",
        "  * <font color=\"blue\">**The operator $|\\psi\\rangle\\langle \\psi|$ is an operator of trace 1 , and the expectation $\\langle \\psi|A| \\psi\\rangle$ can also be evaluated as the trace of $|\\psi\\rangle\\langle \\psi| A$.**</font>\n",
        "\n",
        "\n",
        "\n",
        "* In quantum mechanics, taking the trace over an operator means to sum over the matrix elements of that operator between states of a complete basis:\n",
        "\n",
        "> $\\operatorname{Tr}[B]=\\sum_{i}\\left\\langle\\eta_{i}|B| \\eta_{i}\\right\\rangle$ $\\quad$ ,$\\left|\\eta_{i}\\right\\rangle \\in$ complete basis\n",
        "\n",
        "* If we do this, we get an expression containing two complex numbers, which we can move around if we wanted to, since they are not operators:\n",
        "\n",
        "> $\\langle A\\rangle_{\\rho}:=\\operatorname{Tr}[\\rho A]$ = $\\sum_{i} \\underbrace{\\left\\langle\\eta_{i}\\right| \\psi \\rangle}_{\\mathbb{C}} \\underbrace{\\left\\langle\\psi|A| \\eta_{i}\\right\\rangle}_{\\mathbb{C}}$\n",
        "\n",
        "* After doing that, we can perform the sum over the basis states, and since they belong to a complete basis, they give us the identity operator:\n",
        "\n",
        "> = $\\sum_{i}\\left\\langle\\psi|A| \\eta_{i} \\rangle \\langle \\eta_{i} | \\psi\\right\\rangle$ with $| \\eta_{i} \\rangle \\langle \\eta_{i} |$ = 1\n",
        "\n",
        "* Therefore we get psi-A-psi, which means that we get the same result from working with density matrices!\n",
        "\n",
        "> = $\\langle\\psi|A| \\psi\\rangle=\\langle A\\rangle_{\\psi}$"
      ]
    },
    {
      "cell_type": "markdown",
      "metadata": {
        "id": "T4uBvpQGOQ_r"
      },
      "source": [
        "\n",
        "\n",
        "---\n",
        "\n"
      ]
    },
    {
      "cell_type": "markdown",
      "metadata": {
        "id": "5HZaqMJvya6i"
      },
      "source": [
        "**A measurement outcome is actually a projection (to the first basis vector)**\n",
        "\n",
        "* So if we want to model that we get the outcome 0, then we take the corresponding projection | 0 X 0 | and we apply it on the quantum state: | 0 X 0 | $\\Phi$> bzw. | 0 > < 0 | $\\Phi$ >\n",
        "\n",
        "* this is how you pull out samples from a quantum state and how you apply measurement to this particular probability distribution\n",
        "\n",
        "> The probability of measuring a value with probability amplitude $\\phi$ is $1 \\geq|\\phi|^{2} \\geq 0$, where $|\\cdot|$ is the [modulus](https://en.m.wikipedia.org/wiki/Absolute_value#Complex_numbers)."
      ]
    },
    {
      "cell_type": "markdown",
      "metadata": {
        "id": "51T10Nrq_vie"
      },
      "source": [
        "**Expectation value (quantum mechanics)**\n",
        "\n",
        "* In quantum mechanics, the [expectation value](https://en.m.wikipedia.org/wiki/Expectation_value_(quantum_mechanics)) is the probabilistic expected value of the result (measurement) of an experiment. \n",
        "\n",
        "* It can be thought of as an average of all the possible outcomes of a measurement as weighted by their likelihood, and as such it **is not the most probable value of a measurement**; \n",
        "\n",
        "  * indeed the expectation value may have zero probability of occurring (e.g. measurements which can only yield integer values may have a non-integer mean). \n",
        "  \n",
        "* It is a fundamental concept in all areas of quantum physics.\n",
        "\n",
        "> <font color=\"blue\">**Consider an operator $A$. The expectation value is then $\\langle A\\rangle=\\langle\\psi|A| \\psi\\rangle$ in Dirac notation with $|\\psi\\rangle$ a normalized state vector.**</font>\n",
        "\n",
        "Read more: https://en.m.wikipedia.org/wiki/Expectation_value_(quantum_mechanics)#Formalism_in_quantum_mechanics\n"
      ]
    },
    {
      "cell_type": "markdown",
      "metadata": {
        "id": "5v5_o9jd2muL"
      },
      "source": [
        "**Consider a particle in a state $\\Psi(x, t)$. Lets consider now the particle's position.**\n",
        "\n",
        "* The particle's position cannot be calculated precisely because on the first measurement of its position, the wave function collapses, resulting in a peak at the value you just obtained. \n",
        "\n",
        "* What we can measure is the positions of all particles in the same state $\\mathcal{L}(x, t)$ and then find the expectation value of $x$, or $\\langle x\\rangle$ which is the average of these measurements.\n",
        "\n",
        "* The following equation holds (for the expectation value of position):\n",
        "\n",
        "> $\n",
        "\\langle x\\rangle=\\int_{-\\infty}^{+\\infty} x|\\Psi(x, t)|^{2} \\mathrm{dx}\n",
        "$\n",
        "\n",
        "* Of course, since the wave function changes with time, then the expectation value of position changes also with time, which means that we might be interested in finding out how the expectation value changes with time which means $\\frac{d\\langle x\\rangle}{d t}$ which we can then write as $\\langle u\\rangle$ which is the expectation value of the particle's velocity. \n",
        "\n",
        "* Multiply this with mass $m$ and you have $\\langle p\\rangle$ which is the expectation value of the momentum, and so on.\n",
        "\n",
        "* $\\mathrm{tl}$; dr The expectation value is the average of repeated measurements on a collection of identical particles in the same state $\\Psi$."
      ]
    },
    {
      "cell_type": "markdown",
      "metadata": {
        "id": "A9V8J4wy2TQV"
      },
      "source": [
        "* Suppose we want to measure some dynamical variable of a system, then the result of measurement would be the eigen value. Now, if we repeat the same experiment of measuring some dynamical variable a large no. Of times, then each and every time result would be different, because one set of measurement perturbs the system. Then, the overall result of measuring the dynamical variable a large number of times would be the expectation value.\n",
        "\n",
        "* The expectation value of any observable in quantum mechanics is the sum of all the possible outcome of measurements performed on a quantum system weighted by their respective probabilities. In simple terms “the expectation value of x is what one expects to happen on average”. In the above definition, the wavefunctions describing the quantum system must be normalized."
      ]
    },
    {
      "cell_type": "markdown",
      "metadata": {
        "id": "Gequcgd23_OF"
      },
      "source": [
        "https://www.quora.com/What-is-the-expectation-value-in-quantum-mechanics"
      ]
    },
    {
      "cell_type": "markdown",
      "metadata": {
        "id": "N7cbjV9wSlv7"
      },
      "source": [
        "###### **<font color =\"blue\">Vector-Kovector-Multiplication (Outer / Dyadic)**: Density Matrix for Projective Measurement PVM / POVM (Born Rule)"
      ]
    },
    {
      "cell_type": "markdown",
      "metadata": {
        "id": "h4UiOGJnWo7j"
      },
      "source": [
        "https://en.m.wikipedia.org/wiki/Measurement_in_quantum_mechanics"
      ]
    },
    {
      "cell_type": "markdown",
      "metadata": {
        "id": "W3IBSKnaWisc"
      },
      "source": [
        "https://en.m.wikipedia.org/wiki/Born_rule"
      ]
    },
    {
      "cell_type": "markdown",
      "metadata": {
        "id": "YYHX9kr-yKEd"
      },
      "source": [
        "> **[Measurement](https://en.m.wikipedia.org/wiki/Quantum_logic_gate#Measurement) (sometimes called observation) bzw. [Measurement_in_quantum_mechanics](https://en.m.wikipedia.org/wiki/Measurement_in_quantum_mechanics) is irreversible and therefore not a quantum gate, because it assigns the observed quantum state to a single value**. \n",
        "\n",
        "* Measurement takes a quantum state and projects it to one of the basis vectors, with a likelihood equal to the square of the vector's depth (the norm is the modulus squared) along that basis vector. \n",
        "\n",
        "* This is known as the Born rule and <font color=\"red\">appears as a stochastic non-reversible operation</font> as it probabilistically sets the quantum state equal to the basis vector that represents the measured state (the state \"collapses\" to a definite single value). \n",
        "\n",
        "* Why and how, or even if the quantum state collapses at measurement, is called the measurement problem."
      ]
    },
    {
      "cell_type": "markdown",
      "metadata": {
        "id": "Y32wU0NWVZJ3"
      },
      "source": [
        "> $|0\\rangle\\langle 0| =$ $\\left[\\begin{array}{l}1 \\\\ 0\\end{array}\\right]\\left[\\begin{array}{ll}1 & 0\\end{array}\\right]=\\left[\\begin{array}{ll}1 & 0 \\\\ 0 & 0\\end{array}\\right]$\n",
        "\n",
        "> **IMPORTANT: A measurement outcome is actually a projection (to the first basis vector)**\n",
        "\n",
        "* <font color =\"red\">**So if we want to model that we get the outcome 0, then we take the corresponding projection | 0 X 0 | and we apply it on the quantum state: | 0 X 0 | $\\Phi$>** . \n",
        "\n",
        "* <font color =\"red\">this is how you pull out samples from a quantum state and how you apply measurement to this particular probability distribution"
      ]
    },
    {
      "cell_type": "markdown",
      "metadata": {
        "id": "ArikfLOj5iqb"
      },
      "source": [
        "**Projective measurement (PVM - Projection-valued measure)**\n",
        "\n",
        "* See [this article](https://en.m.wikipedia.org/wiki/Measurement_in_quantum_mechanics#Projective_measurement) and longer article on [PVM](https://en.m.wikipedia.org/wiki/Projection-valued_measure)\n",
        "\n",
        "* The eigenvectors of a von Neumann observable form an orthonormal basis for the Hilbert space, and each possible outcome of that measurement corresponds to one of the vectors comprising the basis. A density operator is a positive-semidefinite operator on the Hilbert space whose trace is equal to 1.\n",
        "\n",
        "> <font color =\"red\">**For each measurement that can be defined, the probability distribution over the outcomes of that measurement can be computed from the density operator. The procedure for doing so is the Born rule, which states that**</font>\n",
        "\n",
        "> $\n",
        "P\\left(x_{i}\\right)=\\operatorname{tr}\\left(\\Pi_{i} \\rho\\right)\n",
        "$\n",
        "\n",
        "* where $\\rho$ is the density operator, and $\\Pi_{i}$ is the [projection operator](https://en.m.wikipedia.org/wiki/Projection_(linear_algebra)) onto the basis vector corresponding to the measurement outcome $x_{i}$. \n",
        "\n",
        "* The average of the eigenvalues of a von Neumann observable, weighted by the Born-rule probabilities, is the [expectation value](https://en.m.wikipedia.org/wiki/Expectation_value_(quantum_mechanics)) of that observable. For an observable $A$, the expectation value given a quantum state $\\rho$ is\n",
        "\n",
        ">$\n",
        "\\langle A\\rangle=\\operatorname{tr}(A \\rho)\n",
        "$\n",
        "\n",
        "* A density operator that is a rank-1 projection is known as a pure quantum state, and all quantum states that are not pure are designated mixed. Pure states are also known as wavefunctions. \n",
        "\n",
        "* **Assigning a pure state to a quantum system implies certainty about the outcome of some measurement on that system (i.e., $P(x)=1$ for some outcome $x$ )**. \n",
        "\n",
        "* Any mixed state can be written as a [convex combination](https://en.m.wikipedia.org/wiki/Convex_combination) of pure states, though [not in a unique way (Schrödinger–HJW theorem)](https://en.m.wikipedia.org/wiki/Schrödinger–HJW_theorem). The [state space](https://en.m.wikipedia.org/wiki/State_space) of a quantum system is the set of all states, pure and mixed, that can be assigned to it.\n",
        "\n",
        "* The [Born rule](https://en.m.wikipedia.org/wiki/Born_rule) associates a probability with each unit vector in the Hilbert space, in such a way that these probabilities sum to 1 for any set of unit vectors comprising an orthonormal basis. \n",
        "\n",
        "* Moreover, the probability associated with a unit vector is a function of the density operator and the unit vector, and not of additional information like a choice of basis for that vector to be embedded in. \n",
        "\n",
        "* Gleason's theorem establishes the converse: all assignments of probabilities to unit vectors (or, equivalently, to the operators that project onto them) that satisfy these conditions take the form of applying the Born rule to some density operator.\n"
      ]
    },
    {
      "cell_type": "markdown",
      "metadata": {
        "id": "zHR_zp5L0ZqW"
      },
      "source": [
        "**Generalized measurement (POVM - positive operator-valued measure)**\n",
        "\n",
        "* In functional analysis and quantum measurement theory, a [positive-operator-valued measure](https://en.m.wikipedia.org/wiki/Measurement_in_quantum_mechanics#Generalized_measurement_(POVM)), bzw. siehe auch longer article [POVM](https://en.m.wikipedia.org/wiki/POVM), is a [measure (Maß)](https://en.m.wikipedia.org/wiki/Measure_(mathematics)) whose values are positive semi-definite operators on a Hilbert space. \n",
        "\n",
        "* POVMs are a generalisation of projection-valued measures (PVMs) and, correspondingly, quantum measurements described by POVMs are a generalisation of quantum measurement described by PVMs. \n",
        "\n",
        "* In rough analogy, a POVM is to a PVM what a mixed state is to a pure state. Mixed states are needed to specify the state of a subsystem of a larger system (see [Schrödinger–HJW theorem](https://en.m.wikipedia.org/wiki/Schrödinger–HJW_theorem)); analogously, POVMs are necessary to describe the effect on a subsystem of a projective measurement performed on a larger system. \n",
        "\n",
        "* POVMs are the most general kind of measurement in quantum mechanics, and can also be used in quantum field theory. They are extensively used in the field of quantum information.\n",
        "\n",
        "* In the simplest case, of a POVM with a finite number of elements acting on a finite-dimensional Hilbert space, a POVM is a set of positive semi-definite matrices $\\left\\{F_{i}\\right\\}$ on a Hilbert space $\\mathcal{H}$ that sum to the identity matrix, \n",
        "\n",
        ">$\n",
        "\\sum_{i=1}^{n} F_{i}=I\n",
        "$\n",
        "\n",
        "* **In quantum mechanics, the POVM element $F_{i}$ is associated with the measurement outcome $i$, such that the probability of obtaining it when making a measurement on the quantum state $\\rho$ is given by**\n",
        "\n",
        ">$\n",
        "\\operatorname{Prob}(i)=\\operatorname{tr}\\left(\\rho F_{i}\\right)\n",
        "$\n",
        "\n",
        "* where $\\operatorname{tr}$ is the trace operator. When the quantum state being measured is a pure state $|\\psi\\rangle$ this formula reduces to\n",
        "\n",
        ">$\\operatorname{Prob}(i)=\\operatorname{tr} ($<font color=\"red\">$\\,|\\psi\\rangle\\langle\\psi| \\, F_{i} \\,$</font>)= <font color=\"red\">$\\left\\langle\\psi\\left|F_{i}\\right| \\psi\\right\\rangle$\n",
        "\n",
        "* **Definition**. Let $(X, M)$ be measurable space; that is $M$ is a $\\sigma$-algebra of subsets of $X$. **A POVM is a function $F$** defined on $M$ whose values are bounded non-negative self-adjoint operators on a Hilbert space $\\mathcal{H}$ such that $F(X)=\\mathrm{I}_{\\mathcal{H}}$ and for every $\\psi \\in \\mathcal{H}$\n",
        "\n",
        ">$\n",
        "E \\mapsto\\langle F(E) \\psi \\mid \\psi\\rangle(\\text { for every } E \\in M)\n",
        "$\n",
        "\n",
        "* is a non-negative countably additive measure on the $\\sigma$-algebra $M$.\n",
        "\n",
        "* Its key property is that it determines a probability measure on the outcome space, so that $\\langle F(E) \\psi \\mid \\psi\\rangle$ can be interpreted as the probability (density) of outcome $E$ when making a measurement on the quantum state $|\\psi\\rangle$.\n",
        "\n",
        "* <font color=\"blue\">This definition should be contrasted with that of the projection-valued measure, which is similar, except that for [projection-valued measures (PVM)](https://en.m.wikipedia.org/wiki/Projection-valued_measure), the values of $F$ are required to be projection operators.\n",
        " "
      ]
    },
    {
      "cell_type": "markdown",
      "metadata": {
        "id": "496cFEuwC6SO"
      },
      "source": [
        "**See also: Quantum_logic_gate#Measurement**\n",
        "\n",
        "https://en.m.wikipedia.org/wiki/Quantum_logic_gate#Measurement"
      ]
    },
    {
      "cell_type": "markdown",
      "metadata": {
        "id": "rnx_iGEs4P4D"
      },
      "source": [
        "**Examples of Measurements in Quantum Mechanics**\n",
        "\n",
        "https://en.m.wikipedia.org/wiki/Measurement_in_quantum_mechanics#Examples\n",
        "\n",
        "* The prototypical example of a finite-dimensional Hilbert space is a qubit, a quantum system whose Hilbert space is 2 -dimensional. A pure state for a qubit can be written as a linear combination of two orthogonal basis states $|0\\rangle$ and $|1\\rangle$ with complex coefficients:\n",
        "\n",
        ">$\n",
        "|\\psi\\rangle=\\alpha|0\\rangle+\\beta|1\\rangle\n",
        "$\n",
        "\n",
        "* A measurement in the $(|0\\rangle,|1\\rangle)$ basis will yield outcome $|0\\rangle$ with probability $|\\alpha|^{2}$ and outcome $|1\\rangle$ with probability $|\\beta|^{2}$, so by normalization,\n",
        "\n",
        ">$\n",
        "|\\alpha|^{2}+|\\beta|^{2}=1\n",
        "$\n",
        "\n",
        "* An arbitrary state for a qubit can be written as a linear combination of the Pauli matrices, which provide a basis for $2 \\times 2$ self-adjoint matrices:\n",
        "\n",
        "> $\n",
        "\\rho=\\frac{1}{2}\\left(I+r_{x} \\sigma_{x}+r_{y} \\sigma_{y}+r_{z} \\sigma_{z}\\right)\n",
        "$\n",
        "\n",
        "* where the real numbers $\\left(r_{x}, r_{y}, r_{z}\\right)$ are the coordinates of a point within the unit ball and\n",
        "\n",
        "> $\n",
        "\\sigma_{x}=\\left(\\begin{array}{ll}\n",
        "0 & 1 \\\\\n",
        "1 & 0\n",
        "\\end{array}\\right), \\quad \\sigma_{y}=\\left(\\begin{array}{cc}\n",
        "0 & -i \\\\\n",
        "i & 0\n",
        "\\end{array}\\right), \\quad \\sigma_{z}=\\left(\\begin{array}{cc}\n",
        "1 & 0 \\\\\n",
        "0 & -1\n",
        "\\end{array}\\right)\n",
        "$"
      ]
    },
    {
      "cell_type": "markdown",
      "metadata": {
        "id": "sc-3S6KfQzw2"
      },
      "source": [
        "**Another example**: A common and useful example of quantum mechanics applied to a continuous degree of freedom is the quantum harmonic oscillator.  This system is defined by the Hamiltonian\n",
        "\n",
        "> $\n",
        "H=\\frac{p^{2}}{2 m}+\\frac{1}{2} m \\omega^{2} x^{2}\n",
        "$\n",
        "\n",
        "* where $H$, the momentum operator $p$ and the position operator $x$ are selfadjoint operators on the Hilbert space of square-integrable functions on the real line. The energy eigenstates solve the time-independent Schrödinger equation:\n",
        "\n",
        "> $\n",
        "H|n\\rangle=E_{n}|n\\rangle\n",
        "$\n",
        "\n",
        "* These eigenvalues can be shown to be given by\n",
        "\n",
        "> $ \n",
        "E_{n}=\\hbar \\omega\\left(n+\\frac{1}{2}\\right)\n",
        "$\n",
        "\n",
        "* and these values give the possible numerical outcomes of an energy measurement upon the oscillator. The set of possible outcomes of a position measurement on a harmonic oscillator is continuous, and so predictions are stated in terms of a probability density function $P(x)$ that gives the probability of the measurement outcome lying in the infinitesimal interval from $x$ to $x+d x$\n",
        "\n",
        "*Aufenthaltswahrscheinlichkeit harmonischer Oszillator: Probability density $P_{n}(x)$ for the outcome of a position measurement given the energy eigenstate $|n\\rangle$ of a 1D harmonic oscillator.*\n",
        "\n",
        "![ggg](https://upload.wikimedia.org/wikipedia/commons/thumb/3/35/Aufenthaltswahrscheinlichkeit_harmonischer_Oszillator.png/640px-Aufenthaltswahrscheinlichkeit_harmonischer_Oszillator.png)"
      ]
    },
    {
      "cell_type": "markdown",
      "metadata": {
        "id": "5e-t6qFuRWla"
      },
      "source": [
        "https://en.m.wikipedia.org/wiki/Symmetry_(physics)"
      ]
    },
    {
      "cell_type": "markdown",
      "metadata": {
        "id": "GOvp_An19shf"
      },
      "source": [
        "The density matrix is a representation of a linear operator called the density operator. The density matrix is obtained from the density operator by choice of basis in the underlying space. In practice, the terms density matrix and density operator are often used interchangeably.\n",
        "\n",
        "In operator language, a density operator for a system is a positive semidefinite, Hermitian operator of trace one acting on the Hilbert space of the system. This definition can be motivated by considering a situation where a pure state $\\left|\\psi_{j}\\right\\rangle$ is prepared with probability $p_{j}$, known as an ensemble. The probability of obtaining projective measurement result $m$ when using projectors $\\Pi_{m}$ is given by \n",
        "\n",
        "> $\n",
        "p(m)=\\sum_{j} p_{j}\\left\\langle\\psi_{j}\\left|\\Pi_{m}\\right| \\psi_{j}\\right\\rangle=\\operatorname{tr}\\left[\\Pi_{m}\\left(\\sum_{j} p_{j}\\left|\\psi_{j}\\right\\rangle\\left\\langle\\psi_{j}\\right|\\right)\\right]\n",
        "$\n",
        "\n",
        "which makes the density operator, defined as\n",
        "\n",
        ">$\n",
        "\\rho=\\sum_{j} p_{j}\\left|\\psi_{j}\\right\\rangle\\left\\langle\\psi_{j}\\right|\n",
        "$"
      ]
    },
    {
      "cell_type": "markdown",
      "metadata": {
        "id": "V2nLyLJoHh87"
      },
      "source": [
        "https://qiskit.org/textbook/ch-quantum-hardware/density-matrix.html"
      ]
    },
    {
      "cell_type": "markdown",
      "metadata": {
        "id": "8s8d6SY6RbyN"
      },
      "source": [
        "###### **<font color =\"blue\">Vector-Kovector-Multiplication (Outer / Dyadic)**: Density Matrix Crash Course"
      ]
    },
    {
      "cell_type": "markdown",
      "metadata": {
        "id": "vwa4caAsWl9t"
      },
      "source": [
        "https://en.m.wikipedia.org/wiki/Density_matrix"
      ]
    },
    {
      "cell_type": "markdown",
      "metadata": {
        "id": "cE--P8idzoP-"
      },
      "source": [
        "**Video: [Crash course in density matrices](https://www.youtube.com/watch?v=1tserF6VGqI)**"
      ]
    },
    {
      "cell_type": "markdown",
      "metadata": {
        "id": "xWlXYxSBzPS3"
      },
      "source": [
        "**Single spin one half particle, focus on spin degrees of freedom & Pauli-matrices**\n",
        "\n",
        "* when the spin degrees of freedom interact with an electromagnetic field, the Pauli matrices come into play:\n",
        "\n",
        "> $\\sigma^{Z}=\\left(\\begin{array}{cc}1 & 0 \\\\ 0 & -1\\end{array}\\right) \\quad \\sigma^{X}=\\left(\\begin{array}{ll}0 & 1 \\\\ 1 & 0\\end{array}\\right) \\quad \\sigma^{Y}=\\left(\\begin{array}{cc}0 & -i \\\\ i & 0\\end{array}\\right)$\n",
        "\n",
        "* we have chosen a basis in such a way that the Pauli Z matrix is diagonal. Here are its basis vectors, the spin up in the z direction and the spin down direction, written as column vectors:\n",
        "\n",
        "> $|\\uparrow\\rangle=\\left(\\begin{array}{l}1 \\\\ 0\\end{array}\\right) \\quad |\\downarrow\\rangle=\\left(\\begin{array}{l}0 \\\\ 1\\end{array}\\right)$\n",
        "\n",
        "* we can re-express the basis vectors for the Pauli X matrix in either direction in terms of these vectors, but in the positive direction we can write it in the following way:\n",
        "\n",
        "> $|\\rightarrow\\rangle=\\frac{1}{\\sqrt{2}}(|\\uparrow\\rangle+|\\downarrow\\rangle)$"
      ]
    },
    {
      "cell_type": "markdown",
      "metadata": {
        "id": "yvOyiyJtzRtd"
      },
      "source": [
        "**States we are used to use in quantum mechanics are called 'pure states'.**\n",
        "\n",
        "* Any state can be written as the linear combination of the up and down vectors in the z-direction\n",
        "\n",
        "> $|\\psi\\rangle=a|\\uparrow\\rangle+b|\\downarrow\\rangle$\n",
        "\n",
        "* a and b are complex numbers whose modulus squared sum to 1\n",
        "\n",
        "> $\\langle\\psi \\mid \\psi\\rangle=|a|^{2}+|b|^{2}$\n",
        "\n",
        "* a and b can be referred to as the probability amplitudes, where their modulus squared are the probabilities that the system is in a particular configuration.\n",
        "\n",
        "* If we perform an ensemble of measurements on the system, we will find that the mean or expected value, for example of the Pauli-Z matrix, will be given by:\n",
        "\n",
        "> $\\left\\langle\\sigma^{Z}\\right\\rangle=\\left\\langle\\psi\\left|\\sigma^{Z}\\right| \\psi\\right\\rangle$"
      ]
    },
    {
      "cell_type": "markdown",
      "metadata": {
        "id": "uZoOoevVzUPa"
      },
      "source": [
        "**Dynamics: if we want to study how a quantum system changes in time, we usually refer to the Schroedinger equation.**\n",
        "\n",
        "> $i \\frac{d}{d t}|\\psi(t)\\rangle=\\hat{H}|\\psi\\rangle$\n",
        "\n",
        "* the operator $\\hat{H}$ is called the Hamiltonian and it tells us about the total energy in a system, and how things in a system interact with each other.\n",
        "\n",
        "* the easiest way to solve this problem is to first solve the Eigenvalue problem, which involves finding the Eigenvectors and the Eigenvalues of the hamiltonian. We are able the different values of the Eigenvalues and Eigenvectors with the label k:\n",
        "\n",
        "> $\\hat{H}\\left|E_{k}\\right\\rangle=E_{k}\\left|E_{k}\\right\\rangle$\n",
        "\n",
        "* This allows us to know that the Eigenvectors, when plugged into the Schroedinger equation ...\n",
        "\n",
        "> $i \\frac{d}{d t}\\left|E_{k}\\right\\rangle=\\hat{H}\\left|E_{k}\\right\\rangle=E_{k}\\left|E_{k}\\right\\rangle$\n",
        "\n",
        "* ... just pick up a phase in time depending on the energy they correspond to:\n",
        "\n",
        "> $\\left|E_{k}(t)\\right\\rangle=e^{-i E_{k} t}\\left|E_{k}\\right\\rangle$"
      ]
    },
    {
      "cell_type": "markdown",
      "metadata": {
        "id": "jitINkMkzWk-"
      },
      "source": [
        "**Now to sum more general situation with some generic state $\\psi$**\n",
        "\n",
        "* we can decompose $\\psi$ in terms of energy Eigenbasis:\n",
        "\n",
        "> $|\\psi\\rangle=\\sum_{m} c_{m}\\left|E_{m}\\right\\rangle$\n",
        "\n",
        "* where $c_{m}$ is given by the inner product of the energy Eigenvector labelled by m and $\\psi$ itself:\n",
        "\n",
        "> $c_{m}=\\left\\langle E_{m} \\mid \\psi\\right\\rangle$\n",
        "\n",
        "* We can then time-evolve the state by simply time-evolving the energy Eigen-Kets:\n",
        "\n",
        "> $|\\psi(t)\\rangle=\\sum_{m} c_{m} e^{-i E_{m} t}\\left|E_{m}\\right\\rangle$\n",
        "\n",
        "* Tracking the expectation value of an observable is quite easy: Simply applying the state vector in time to both sides of the matrix gives the following equation: \n",
        "\n",
        "> $\\langle A(t)\\rangle=\\sum_{m, n} \\bar{c}_{n} c_{m} A_{n, m} e^{i\\left(E_{n}-E_{m}\\right) t}$\n",
        "\n",
        "* Where we have labelled the matrix entries of a by the energy Eigenbasis in the following way:\n",
        "\n",
        "> $A_{n, m}=\\left\\langle E_{n}|A| E_{m}\\right\\rangle$"
      ]
    },
    {
      "cell_type": "markdown",
      "metadata": {
        "id": "utZdbq6QzZD9"
      },
      "source": [
        "**Propeties of the trace of a matrix**\n",
        "\n",
        "* We have a basis of states labeled by j $|j\\rangle, j=1,2$.. N that form a complete orthonormal basis. Then I write the trace of a matrix in the following way:\n",
        "\n",
        "> $\\operatorname{Tr}(A)=\\sum_{j}\\langle j|A| j\\rangle$\n",
        "\n",
        "* the trace is a linear mapping which tells us that we can separate the trace of the sum of two matrices apart like this, and we can also pull scalar multiples outside of the trace:\n",
        "\n",
        "> $\\operatorname{Tr}(A+B)=\\operatorname{Tr} A+\\operatorname{Tr} B$ with $\\operatorname{Tr}(c A)=c \\operatorname{Tr} A$\n",
        "\n",
        "* When we take the trace of two matrices multiplied by each other, the trace is invariant under swapping the two matrices inside of the trace.  \n",
        "\n",
        "> $\\operatorname{Tr}(A B)=\\operatorname{Tr}(B A)$"
      ]
    },
    {
      "cell_type": "markdown",
      "metadata": {
        "id": "9Om09eqlza4O"
      },
      "source": [
        "**Density Matrices**\n",
        "\n",
        "* Going from a pure state represented by a Ket we can introduce the density matrix which is a completely equivalent way to represent the state of a quantum system \n",
        "\n",
        "* the density matrix in this context is just the outer product of the state with itself:\n",
        "\n",
        "> $\\rho=|\\psi\\rangle\\langle\\psi|$\n",
        "\n",
        "* the expectation value is rewritten in terms of a trace, but it is mathematically equivalent to the earlier expression:\n",
        "\n",
        "> $\\left\\langle\\sigma^{Z}\\right\\rangle=\\operatorname{Tr}\\left(\\rho \\sigma^{2}\\right)=\\left\\langle\\psi\\left|\\sigma^{Z}\\right| \\psi\\right\\rangle$\n",
        "\n",
        "* the density matrix has two fundamental properties: it's trace is 1 in the context of a pure state:\n",
        "\n",
        "> $\\operatorname{Tr} \\rho=1$\n",
        "\n",
        "> $\\operatorname{Tr}|\\psi\\rangle\\left\\langle\\left.\\psi|=|\\langle\\psi \\mid \\psi\\rangle\\right|^{2}=1\\right.$\n",
        "\n",
        "* and it's a positive operator:\n",
        "\n",
        "> $\\rho \\geq 0$\n",
        "\n",
        "* If I take any state vector our state space and perform the following operation, then the result is always greater than or equal to zero:\n",
        "\n",
        "> $\\langle\\phi|\\rho| \\phi\\rangle=|\\langle\\phi \\mid \\psi\\rangle|^{2} \\geq 0$"
      ]
    },
    {
      "cell_type": "markdown",
      "metadata": {
        "id": "wuLO_P1u6FBJ"
      },
      "source": [
        "**Dynamics: von Neumann equation of time evolution**\n",
        "\n",
        "* show from the Schroedinger equation we can derive the von Neumann equation of time evolution:\n",
        "\n",
        "> $i \\frac{\\partial \\rho}{\\partial t}=[\\hat{H}, \\rho]$\n",
        "\n",
        "* It features the commutation relationship between the Hamiltonian and the density matrix itself\n",
        "\n",
        "* then the expectation value for an observable in time can be rewritten in the following way:\n",
        "\n",
        "> $\\langle A(t)\\rangle=\\operatorname{Tr}(\\rho(t) A)$\n",
        "\n",
        "* where the density matrix $\\rho$ evolves with the Hamiltonian being applied to it in time: \n",
        "\n",
        "> $\\rho(t)=e^{-i \\hat{H} t} \\rho e^{i \\hat{H} t}$\n",
        "\n",
        "*  similarly re-expressed in the basis of the energy Eigenvalues\n",
        "\n",
        "> $\\rho(t)=\\sum_{m, n} \\rho_{m, n} e^{-i\\left(E_{m}-E_{n}\\right) t}\\left|E_{m}\\right\\rangle\\left\\langle E_{n}\\right|$\n",
        "\n",
        "* where $\\rho_{m,n}$ can be written in the following way, where we have re-expressed its entries in terms of the energy Eigenbasis:\n",
        "\n",
        "> $\\rho_{m, n}=\\left\\langle E_{m}|\\rho| E_{n}\\right\\rangle$\n"
      ]
    },
    {
      "cell_type": "markdown",
      "metadata": {
        "id": "Xmo42wRj8v6C"
      },
      "source": [
        "**Mixed States**\n",
        "\n",
        "* what if we are unsure of what pure state our system is in? (We are somehow ignorant / unwissend to what pure state we are in)\n",
        "\n",
        "* then we can describe a statistical ensemble of pure states which we call a mixed states\n",
        "\n",
        "> $\\rho=\\sum_{j} p_{j}\\left|\\psi_{j}\\right\\rangle\\left\\langle\\psi_{j}\\right|$\n",
        "\n",
        "* the ensemble is written as a sum of pure states with probabilities $p_j$ and the probabilities are greater than zero and sum up to one:\n",
        "\n",
        "> $p_{j} \\geq 0 \\quad \\sum_{j} p_{j}=1$\n",
        "\n",
        "* Mixed states are also trace 1 and are positive operators:\n",
        "\n",
        "> $\\operatorname{Tr} \\rho=1, \\quad \\rho \\geq 0$\n",
        "\n",
        "* Dynamics and the expectation values work in an identical way"
      ]
    },
    {
      "cell_type": "markdown",
      "metadata": {
        "id": "NUFROLA7BPGU"
      },
      "source": [
        "**Non-uniqueness of mixed states decomposition**\n",
        "\n",
        "* Interestingly it's not completely correct to interpret $p_j$ as the probability of being in a particular state labeled by j. \n",
        "\n",
        "* To see this consider the following example let $\\rho$ be a mixed state written in the following way:\n",
        "\n",
        "> $\\rho=\\frac{4}{5}|\\downarrow\\rangle\\left\\langle\\downarrow\\left|+\\frac{1}{5}\\right| \\uparrow\\right\\rangle\\langle\\uparrow|$\n",
        "\n",
        "* we say the system is in state down with probability 4/5 and in state up with 1/5. \n",
        "\n",
        "* What if I prepared two other states with the following new state vectors a and b with the following probability amplitudes of being in down or up state:\n",
        "\n",
        "> $|a\\rangle=\\sqrt{\\frac{4}{5}}|\\downarrow\\rangle+\\frac{1}{\\sqrt{5}}|\\uparrow\\rangle$\n",
        "\n",
        "> $|b\\rangle=\\sqrt{\\frac{4}{5}}|\\downarrow\\rangle-\\frac{1}{\\sqrt{5}}|\\uparrow\\rangle$\n",
        "\n",
        "* Then if we prepare these states with probability one-half:\n",
        "\n",
        "> $\\rho=\\frac{1}{2}|a\\rangle\\left\\langle a\\left|+\\frac{1}{2}\\right| b\\right\\rangle\\langle b|$\n",
        "\n",
        "* We see that we get the same density matrix as before working this out expanding the definitions of a and b allows us to arrive at our original density matrix:\n",
        "\n",
        "> $\\rho=\\frac{4}{5}|\\downarrow\\rangle\\left\\langle\\downarrow\\left|+\\frac{1}{5}\\right| \\uparrow\\right\\rangle\\langle\\uparrow|$\n",
        "\n",
        "* Therefore two different ensembles of pure states can give rise to the same mixed state and we must be careful when we interpret $p_j$ as strictly probabilities of a particular system being strictly in its associated pure state in the sum. \n",
        "\n",
        "* Finally, if you get a matrix how could you tell if it's pure or mixed? Mathematically quite simple way to check: square the matrix and take its trace. If the trace is still 1, we say that the density matrix is pure if it is less than one then we say it's mixed. This is actually independent of the time evolution. \n",
        "\n",
        "> $\\operatorname{Tr}\\left(\\rho^{2}\\right) \\leq 1$ "
      ]
    },
    {
      "cell_type": "markdown",
      "metadata": {
        "id": "IzUr9NfyjYRj"
      },
      "source": [
        "###### **<font color =\"blue\">Vector-Kovector-Multiplication (Outer / Dyadic)**: Density Matrix for Entanglemend (Bell State)"
      ]
    },
    {
      "cell_type": "markdown",
      "metadata": {
        "id": "A9tHaHWZzH6I"
      },
      "source": [
        "**A mixed state cannot be described by a wave function, it requires a density matrix for its description**.\n",
        "\n",
        "* A pure entangled state of the whole system can be described by a wave function, but the states of its subsystems cannot be described by wave functions and are mixed states.\n",
        "\n",
        "* A separable mixed state has no entanglement and can be created by local operations on pure product states.\n",
        "\n",
        "**A mixed entangled state cannot be described by a wave function, and the states of its subsystems also cannot be described by wave functions.**"
      ]
    },
    {
      "cell_type": "markdown",
      "metadata": {
        "id": "XBKvF6_djon9"
      },
      "source": [
        "https://de.wikipedia.org/wiki/Bell-Zustand"
      ]
    },
    {
      "cell_type": "markdown",
      "metadata": {
        "id": "Ivt7v4m5vMUK"
      },
      "source": [
        "> **Two-or more-states are entangled when they can't be written as a product of other states $\\otimes$, but as linear superpositions (sums) $\\pm$ of products of other states**. A state that is entangled with some other state: the joint probability distribution doesn't factorize.\n",
        "\n",
        "* **these (others) were called product states**, but there are also states which cannot be written in this form even though they live in the same space \n",
        "\n",
        "* One example is the Phi plus state | $\\Phi^+$ >, it's an equal super position of two basis vectors zero/zero and one/one. But cannot be written as a product vector: you get a results in an **entangled state**."
      ]
    },
    {
      "cell_type": "markdown",
      "metadata": {
        "id": "1OqzJa4f75CT"
      },
      "source": [
        "First, remember Dirac notation for the two states: \n",
        "\n",
        "> $\\left[\\begin{array}{l}1 \\\\ 0\\end{array}\\right]=|0\\rangle, \\quad\\left[\\begin{array}{l}0 \\\\ 1\\end{array}\\right]=|1\\rangle$. \n",
        "\n",
        "We choose two qubits in state $|0\\rangle$:\n",
        "\n",
        "> $|0\\rangle \\otimes|0\\rangle = \\left[\\begin{array}{l}1 \\\\ 0\\end{array}\\right] \\otimes\\left[\\begin{array}{l}1 \\\\ 0\\end{array}\\right]=$</font> $\\left[\\begin{array}{l}1\\left[\\begin{array}{l}1 \\\\ 0\\end{array}\\right] \\\\ 0\\left[\\begin{array}{l}1 \\\\ 0\\end{array}\\right]\\end{array}\\right]=$ <font color=\"orange\">$\\left [\\begin{array}{l}11 \\\\ 10 \\\\ 01 \\\\ 00\\end{array}\\right]$</font> = <font color=\"gray\">$\\left [\\begin{array}{l}3 \\\\ 2 \\\\ 1 \\\\ 0\\end{array}\\right]$ = $\\left [\\begin{array}{l}1 \\\\ 0 \\\\ 0 \\\\ 0\\end{array}\\right]$ "
      ]
    },
    {
      "cell_type": "markdown",
      "metadata": {
        "id": "KZk3G0_b56Sm"
      },
      "source": [
        "<font color=\"blue\">**Bell state is the linear combination of orthogonal product states of 2 qubits in a superposition (??)**</font>\n",
        "\n",
        "* To formulate this statement more rigorously let us look at systems of two components, e.g. two spin $\\frac{1}{2}$ particles or two photons, and construct the four possible product states (eigenstates of $\\sigma_{z}$ ). \n",
        "\n",
        "* These states are of the class of the so-called “separable” states, or just “product” states:\n",
        "\n",
        ">$\n",
        "|\\uparrow\\rangle \\otimes|\\uparrow\\rangle \\quad |\\uparrow\\rangle \\otimes|\\downarrow\\rangle \\quad |\\downarrow\\rangle \\otimes|\\uparrow\\rangle \\quad |\\downarrow\\rangle \\otimes|\\downarrow\\rangle\n",
        "$\n",
        "\n",
        "written in 0-1 notation:\n",
        "\n",
        "> <font color=\"orange\">$\n",
        "|0\\rangle \\otimes|0\\rangle \\quad |0\\rangle \\otimes|1\\rangle \\quad |1\\rangle \\otimes|0\\rangle \\quad |1\\rangle \\otimes|1\\rangle\n",
        "$</font>\n",
        "\n",
        "* Whichever of the above product states you choose, the states of the individual subsystems Alice and Bob are well defined. \n",
        "\n",
        "* For example, for the state $|\\uparrow\\rangle \\otimes|\\downarrow\\rangle$, when measuring the spin along the $z$-direction, the outcome of the measurements of Alice will be \"up\", i.e. determined by the state $|\\uparrow\\rangle$,  while Bob's result will be always \"down\", i.e. determined by the state $|\\downarrow\\rangle$."
      ]
    },
    {
      "cell_type": "markdown",
      "metadata": {
        "id": "v7vKH2HCpbvL"
      },
      "source": [
        "\n",
        "\n",
        "**From these product states we can form linear combinations, e.g.**\n",
        "\n",
        ">$\n",
        "\\begin{array}{l}\n",
        "\\left|\\psi^{\\pm}\\right\\rangle=\\frac{1}{\\sqrt{2}}(|\\uparrow\\rangle|\\downarrow\\rangle \\pm|\\downarrow\\rangle|\\uparrow\\rangle) \\\\\n",
        "\\left|\\phi^{\\pm}\\right\\rangle=\\frac{1}{\\sqrt{2}}(|\\uparrow\\rangle|\\uparrow\\rangle \\pm|\\downarrow\\rangle|\\downarrow\\rangle)\n",
        "\\end{array}\n",
        "$\n",
        "\n",
        "bzw in 0-1 notation:\n",
        "\n",
        ">$\n",
        "\\begin{array}{l}\n",
        "\\left|\\psi^{\\pm}\\right\\rangle=\\frac{1}{\\sqrt{2}}(|0\\rangle|1\\rangle \\pm|1\\rangle|0\\rangle) \\\\\n",
        "\\left|\\phi^{\\pm}\\right\\rangle=\\frac{1}{\\sqrt{2}}(|0\\rangle|0\\rangle \\pm|1\\rangle|1\\rangle)\n",
        "\\end{array}\n",
        "$\n",
        "\n",
        "* **These are the four (maximally) entangled 2-qubit states, called the Bell states**. \n",
        "\n",
        "* We also recognize that the Bell states are not only artificial constructions but we have already encountered them when studying composite quantum systems with spin, where the $\\mid \\psi^{\\pm}$) were found to be simultaneous eigenstates of $\\vec{S}$ and $S_{z}$."
      ]
    },
    {
      "cell_type": "markdown",
      "metadata": {
        "id": "odsz0mKF8fwd"
      },
      "source": [
        "Let us now try to grasp what entanglement in terms of e.g. the Bell state $\\left|\\psi^{\\pm}\\right\\rangle$means. \n",
        "\n",
        "* Consider two observers, Alice and Bob, who are far apart, both performing measurements on their part of the entangled state. **They will both get the results $\\uparrow$ or $\\downarrow$ equally often, i.e. with a probability of $\\frac{1}{2}$, which means that neither of the subsystems is in a well defined state**. \n",
        "\n",
        "* But on the other hand, everytime Alice measures $\\uparrow$, Bob will with certainty measure the result $\\downarrow$ and vice versa, i.e. the measurement results are perfectly correlated.\n",
        "\n",
        "This has some far reaching consequences for the structure of the theory, i.e. it leads to a loss of locality and/or realism of the theory, which is backed up by experiments and it creates interesting possibilities for information processing, such as quantum cryptography, quantum teleportation and many more.\n",
        "\n",
        "Source & more details: [Entanglement Paper](https://raw.githubusercontent.com/deltorobarba/papers/master/Entanglement.pdf)"
      ]
    },
    {
      "cell_type": "markdown",
      "metadata": {
        "id": "-VooDyLmlvTu"
      },
      "source": [
        "The Bell experiment (1964): there are four unique distinguishable orthogonal entangled states as shown below that are often called the Bell states $(\\Phi+, \\Phi-, \\Psi+, \\Psi-) .$\n",
        "\n",
        ">$\n",
        "\\begin{aligned}\n",
        "\\left|\\Phi^{+}\\right\\rangle &=\\frac{1}{\\sqrt{2}}(|00\\rangle+|11\\rangle) \\\\\n",
        "\\left|\\Phi^{-}\\right\\rangle &=\\frac{1}{\\sqrt{2}}(|00\\rangle-|11\\rangle) \\\\\n",
        "\\left|\\Psi^{+}\\right\\rangle &=\\frac{1}{\\sqrt{2}}(|01\\rangle+|10\\rangle) \\\\\n",
        "\\left|\\Psi^{-}\\right\\rangle &=\\frac{1}{\\sqrt{2}}(|01\\rangle-|10\\rangle)\n",
        "\\end{aligned}\n",
        "$\n",
        "\n",
        "What do these Bell states mean? These Bell states tell us that there is an equal probability of a pair of entangled qubits either being in the first configuration or the second configuration in any one of the given four Bell states. For example, \n",
        "\n",
        "* in the first Bell state Φ+ the qubits have an equal chance of being either in the |00⟩ or |11⟩ configuration, while \n",
        "\n",
        "* in the third Bell state Ψ+ the qubits have an equal chance of being either in the |01⟩ or |10⟩ configuration.\n"
      ]
    },
    {
      "cell_type": "markdown",
      "metadata": {
        "id": "dgd0WAXVl6ou"
      },
      "source": [
        "**The entangled state cannot be decomposed into separate states from each of the two qubits with the tensor product**. We end up with a contradiction when we try to take the product of two qubits in an attempt to generate the Φ+ state and therfore our entangled state is some new “mixed state” that is not describable by the individual qubit states.\n",
        "\n",
        "We can set the Bell state equal to the product of two single qubit superpositions:\n",
        "\n",
        "$|\\Phi^{+}\\rangle=\\frac{1}{\\sqrt{2}}|00\\rangle+\\frac{1}{\\sqrt{2}}|11\\rangle=a_{1} b_{1}|00\\rangle+a_{1} b_{2}|01\\rangle+a_{2} b_{1}|10\\rangle+a_{2} b_{2}|11\\rangle$\n",
        "\n",
        "We can match terms, which gives us four equalities:\n",
        "\n",
        "$a_{1} b_{1}=\\frac{1}{\\sqrt{2}}$\n",
        "$a_{1} b_{2}=0$\n",
        "$a_{2} b_{1}=0$\n",
        "$a_{2} b_{2}=\\frac{1}{\\sqrt{2}}$\n",
        "\n",
        "<font color=\"red\">There is no set of coefficients that make these equalities true."
      ]
    },
    {
      "cell_type": "markdown",
      "metadata": {
        "id": "fnyG3Z10ANye"
      },
      "source": [
        "**How do we bring them in this entangled Bell-State?**"
      ]
    },
    {
      "cell_type": "markdown",
      "metadata": {
        "id": "q_kvp1BtjyFd"
      },
      "source": [
        "> We use CNOT-Gate, acting on a two-qubit term $\\left|q_{1} q_{2}\\right\\rangle$, applies the $\\mathbf{N O T}(\\mathbf{X})$ gate to the second qubit only if the first qubit is in state $|1\\rangle$. The first qubit controls the action on the second."
      ]
    },
    {
      "cell_type": "markdown",
      "metadata": {
        "id": "LbbNtBltj28L"
      },
      "source": [
        ">$\n",
        "\\begin{array}{|c|c|c|c|}\n",
        "\\hline {\\text { Before }} & {\\text { Before }}& {\\text { After }}& {\\text { After }} \\\\\n",
        "\\hline \\text { Control } & \\text { Target } & \\text { Control } & \\text { Target } \\\\\n",
        "\\hline|0\\rangle & |0\\rangle & |0\\rangle & |0\\rangle \\\\\n",
        "\\hline|0\\rangle & |1\\rangle & |0\\rangle & |1\\rangle \\\\\n",
        "\\hline|1\\rangle & |0\\rangle & |1\\rangle & |1\\rangle \\\\\n",
        "\\hline|1\\rangle & |1\\rangle & |1\\rangle & |0\\rangle \\\\\n",
        "\\hline\n",
        "\\end{array}\n",
        "$"
      ]
    },
    {
      "cell_type": "markdown",
      "metadata": {
        "id": "An3AqzuxkDZ_"
      },
      "source": [
        "$|00\\rangle \\mapsto|00\\rangle$\n",
        "\n",
        "$|01\\rangle \\mapsto|01\\rangle$\n",
        "\n",
        "$|10\\rangle \\mapsto|1\\rangle \\otimes U|0\\rangle=|1\\rangle \\otimes\\left(u_{00}|0\\rangle+u_{10}|1\\rangle\\right)$\n",
        "\n",
        "$|11\\rangle \\mapsto|1\\rangle \\otimes U|1\\rangle=|1\\rangle \\otimes\\left(u_{01}|0\\rangle+u_{11}|1\\rangle\\right)$\n",
        "\n",
        "The matrix representing the controlled $U$ is\n",
        "\n",
        ">$\n",
        "\\mathrm{C} U=\\left[\\begin{array}{cccc}\n",
        "1 & 0 & 0 & 0 \\\\\n",
        "0 & 1 & 0 & 0 \\\\\n",
        "0 & 0 & u_{00} & u_{01} \\\\\n",
        "0 & 0 & u_{10} & u_{11}\n",
        "\\end{array}\\right]\n",
        "$"
      ]
    },
    {
      "cell_type": "markdown",
      "metadata": {
        "id": "Gp1wsDUxBLgx"
      },
      "source": [
        "Acting on our 4D-statevector, it has one of the two matrices depending on which qubit is the control and which is the target:\n",
        "\n",
        "> $\\mathrm{CNOT}=\\left[\\begin{array}{llll}1 & 0 & 0 & 0 \\\\ 0 & 0 & 0 & 1 \\\\ 0 & 0 & 1 & 0 \\\\ 0 & 1 & 0 & 0\\end{array}\\right], \\quad \\mathrm{CNOT}=\\left[\\begin{array}{llll}1 & 0 & 0 & 0 \\\\ 0 & 1 & 0 & 0 \\\\ 0 & 0 & 0 & 1 \\\\ 0 & 0 & 1 & 0\\end{array}\\right]$\n",
        "\n",
        "https://qiskit.org/textbook/ch-gates/multiple-qubits-entangled-states.html"
      ]
    },
    {
      "cell_type": "markdown",
      "metadata": {
        "id": "ExBqnGqcHpq0"
      },
      "source": [
        "\n",
        "\n",
        "---\n",
        "\n"
      ]
    },
    {
      "cell_type": "markdown",
      "metadata": {
        "id": "O5r_HPZ0Bnw3"
      },
      "source": [
        "**Example**\n",
        "\n",
        "First remember what happens we=hen we apply an Hadamard operator to one qubit in the 0 state:\n",
        "\n",
        "<font color=\"blue\">$H |0\\rangle$</font> $ = \\frac{1}{\\sqrt{2}}\\left(\\begin{array}{cc}1 & 1 \\\\ 1 & -1\\end{array}\\right)\\left[\\begin{array}{l}1 \\\\ 0\\end{array}\\right] =\\frac{1}{\\sqrt{2}}\\left[\\begin{array}{c}1 \\\\ 1\\end{array}\\right]$ <font color=\"blue\">$ \\,\\,= |+\\rangle$ = $\\frac{1}{\\sqrt{2}}(|0\\rangle+|1\\rangle)$\n",
        "\n",
        "Also remember what it looks like when H+I operator in one tensor product matrix:\n",
        "\n",
        "> $H_{1} \\equiv H_{0} \\otimes I=\\frac{1}{\\sqrt{2}}\\left(\\begin{array}{ll}1\\left(\\begin{array}{ll}1 & 0 \\\\ 0 & 1\\end{array}\\right) & 1\\left(\\begin{array}{ll}1 & 0 \\\\ 0 & 1\\end{array}\\right) \\\\ 1\\left(\\begin{array}{ll}1 & 0 \\\\ 0 & 1\\end{array}\\right) & -1\\left(\\begin{array}{ll}1 & 0 \\\\ 0 & 1\\end{array}\\right)\\end{array}\\right)=\\frac{1}{\\sqrt{2}}\\left(\\begin{array}{cccc}1 & 0 & 1 & 0 \\\\ 0 & 1 & 0 & 1 \\\\ 1 & 0 & -1 & 0 \\\\ 0 & 1 & 0 & -1\\end{array}\\right)$\n",
        "\n",
        "\n",
        "\n",
        "\n"
      ]
    },
    {
      "cell_type": "markdown",
      "metadata": {
        "id": "e2jY7aiIET1H"
      },
      "source": [
        "**Now let's first take two qubits and apply an Hadamard operator to the first qubit**:\n",
        "\n",
        "> $H_{1}(|0\\rangle \\otimes|0\\rangle)=H_{1}\\left(\\begin{array}{l}1 \\\\ 0 \\\\ 0 \\\\ 0\\end{array}\\right)$= $\\frac{1}{\\sqrt{2}}\\left(\\begin{array}{cccc}1 & 0 & 1 & 0 \\\\ 0 & 1 & 0 & 1 \\\\ 1 & 0 & -1 & 0 \\\\ 0 & 1 & 0 & -1\\end{array}\\right) \\left(\\begin{array}{l}1 \\\\ 0 \\\\ 0 \\\\ 0\\end{array}\\right)$ = $\\frac{1}{\\sqrt{2}}\\left(\\begin{array}{l}1 \\\\ 0 \\\\ 1 \\\\ 0\\end{array}\\right)$= <font color=\"blue\">$\\frac{1}{\\sqrt{2}}(|0\\rangle \\otimes|0\\rangle+|1\\rangle \\otimes|0\\rangle)$</font>\n",
        "\n",
        "* It produces the state $|0\\rangle \\otimes|+\\rangle=|0+\\rangle \\rightarrow$ $|0+\\rangle=$ <font color=\"blue\">$\\frac{1}{\\sqrt{2}}(|00\\rangle+|01\\rangle)$</font> (Qiskit schreibt notation andersherum als Cirq)\n",
        "\n",
        "* Statevector $=\\left[\\begin{array}{llll}\\frac{1}{\\sqrt{2}} & \\frac{1}{\\sqrt{2}} & 0 & 0\\end{array}\\right]$"
      ]
    },
    {
      "cell_type": "markdown",
      "metadata": {
        "id": "NxUf0nVjERrp"
      },
      "source": [
        "**Now let’s see what happens when we apply the CNOT gate:**\n",
        "\n",
        "* Statevector $=\\left[\\begin{array}{llll}\\frac{1}{\\sqrt{2}} & 0 & 0 & \\frac{1}{\\sqrt{2}}\\end{array}\\right]$\n",
        "\n",
        "* We see we have the state:\n",
        "\n",
        "> $\\mathrm{CNOT}|0+\\rangle=$ <font color=\"blue\">$\\frac{1}{\\sqrt{2}}(|00\\rangle+|11\\rangle)$</font>\n",
        "\n",
        "* This state is very interesting to us, because it is entangled.**This is known as a Bell state**. We can see that this state has $50 \\%$ probability of being measured in the state $|00\\rangle$, and $50 \\%$ chance of being measured in the state $|11\\rangle$. \n",
        "\n",
        "* Most interestingly, it has a $0 \\%$ chance of being measured in the states $|01\\rangle$ or $|10\\rangle$."
      ]
    },
    {
      "cell_type": "markdown",
      "metadata": {
        "id": "iCt6m_FSEzl3"
      },
      "source": [
        "**Consequences of Bell state**\n",
        "\n",
        "* This combined state cannot be written as two separate qubit states, which has interesting implications. \n",
        "\n",
        "* Although our qubits are in superposition, **measuring one will tell us the state of the other and collapse its superposition**. \n",
        "\n",
        "* For example, if we **measured the top qubit and got the state |1⟩, the collective state of our qubits changes** like so:\n",
        "\n",
        "> $\\frac{1}{\\sqrt{2}}(|00\\rangle+|11\\rangle) \\stackrel{\\text { measure }}{\\longrightarrow} |11\\rangle$\n",
        "\n",
        "Even if we separated these qubits light-years away, measuring one qubit collapses the superposition and appears to have an immediate effect on the other. This is the [‘spooky action at a distance’ (Quantum nonlocality)](https://en.wikipedia.org/wiki/Quantum_nonlocality) that upset so many physicists in the early 20th century.\n",
        "\n",
        "It’s important to note that the **measurement result is random**, and the measurement statistics of one qubit are not affected by any operation on the other qubit. Because of this, there is no way to use shared quantum states to communicate. This is known as the **no-communication theorem**.\n",
        "\n",
        "\n"
      ]
    },
    {
      "cell_type": "markdown",
      "metadata": {
        "id": "LZ66eKq-CsCu"
      },
      "source": [
        "\n",
        "\n",
        "---\n",
        "\n"
      ]
    },
    {
      "cell_type": "markdown",
      "metadata": {
        "id": "pRyU64ayj7-M"
      },
      "source": [
        "CNOT or controlled Pauli-X.\n",
        "\n",
        "* **Verschrankt zwei Qubits und invertiert das Ziel-Qubit**, wenn das Kontroll-Qubit 1 ist:\n",
        "\n",
        "> $|00\\rangle \\rightarrow|00\\rangle$\n",
        "\n",
        "> $|01\\rangle \\rightarrow|01\\rangle$\n",
        "\n",
        "> $|10\\rangle \\rightarrow|11\\rangle$\n",
        "\n",
        "> $|11\\rangle \\rightarrow|10\\rangle$\n",
        "\n",
        "Matrix-Darstellung:\n",
        "\n",
        "> $\\left(\\begin{array}{llll}1 & 0 & 0 & 0 \\\\ 0 & 1 & 0 & 0 \\\\ 0 & 0 & 0 & 1 \\\\ 0 & 0 & 1 & 0\\end{array}\\right)$"
      ]
    },
    {
      "cell_type": "markdown",
      "metadata": {
        "id": "s829eEoAkAj9"
      },
      "source": [
        "The CNOT (or controlled Pauli- $X$ ) gate can be described as the gate that maps the basis states $|a, b\\rangle \\mapsto|a, a \\oplus b\\rangle$, where $\\oplus$ is XOR.\n",
        "\n",
        "**Controlled-U Gate**\n",
        "\n",
        "More generally if $U$ is a gate that operates on single qubits with matrix representation\n",
        "\n",
        ">$\n",
        "U=\\left[\\begin{array}{ll}\n",
        "u_{00} & u_{01} \\\\\n",
        "u_{10} & u_{11}\n",
        "\\end{array}\\right]\n",
        "$\n",
        "\n",
        "then the controlled-U gate is a gate that operates on two qubits in such a way that the first qubit serves as a control. \n",
        "\n",
        "It maps the basis states as follows:"
      ]
    },
    {
      "cell_type": "markdown",
      "metadata": {
        "id": "rYWkBI7AkGLv"
      },
      "source": [
        "> **When U is one of the Pauli operators, X,Y, Z, the respective terms \"controlled-X\", \"controlled-Y\", or \"controlled-Z\" are sometimes used**. \n",
        "Sometimes this is shortened to just CX, CY and CZ."
      ]
    },
    {
      "cell_type": "markdown",
      "metadata": {
        "id": "DhXXJIFdj0nV"
      },
      "source": [
        "The [Controlled NOT gate](https://en.m.wikipedia.org/wiki/Controlled_NOT_gate) (also C-NOT or CNOT, controlled Pauli-X) is a quantum logic gate that is an essential component in the construction of a gate-based quantum computer. **It can be used to entangle and disentangle Bell states**. Any quantum circuit can be simulated to an arbitrary degree of accuracy using a combination of CNOT gates and single qubit rotations."
      ]
    },
    {
      "cell_type": "markdown",
      "metadata": {
        "id": "vQ8Eexp-j5OF"
      },
      "source": [
        "A common application of the $\\mathrm{C}_{\\text {NOT }}$ gate is to maximally entangle two qubits into the $\\left|\\Phi^{+}\\right\\rangle$ Bell state; this forms part of the setup of the superdense coding, quantum teleportation, and entangled quantum cryptography algorithms."
      ]
    },
    {
      "cell_type": "markdown",
      "metadata": {
        "id": "Nt6v3s5JpaoP"
      },
      "source": [
        "\n",
        "\n",
        "---\n",
        "\n"
      ]
    },
    {
      "cell_type": "markdown",
      "metadata": {
        "id": "MLv28k5Jf2dj"
      },
      "source": [
        "https://en.wikipedia.org/wiki/Separable_state"
      ]
    },
    {
      "cell_type": "markdown",
      "metadata": {
        "id": "CJgnzN93yXcL"
      },
      "source": [
        "https://qiskit.org/textbook/ch-gates/multiple-qubits-entangled-states.html"
      ]
    },
    {
      "cell_type": "markdown",
      "metadata": {
        "id": "7DOhxiwGn4f_"
      },
      "source": [
        "Erwin Schro ̈dinger in 1935: A composite quantum system, whose subsystems are distant from each other, is in an “entangled state” if the total system is in a well defined state, but the subsystems themselves are not."
      ]
    },
    {
      "cell_type": "markdown",
      "metadata": {
        "id": "rYnM169ZFHeZ"
      },
      "source": [
        "###### <font color=\"blue\">**Matrix-Vector-Multiplication (Single Qubit)** \n",
        "\n"
      ]
    },
    {
      "cell_type": "markdown",
      "metadata": {
        "id": "tOvW_Ng_Ob1A"
      },
      "source": [
        "*Applying a Hadamard gate to a single qubit (matrix-vector multiplication) - Simple dot product! You get a vector out.*"
      ]
    },
    {
      "cell_type": "markdown",
      "metadata": {
        "id": "VQ9JyI3Bz1hk"
      },
      "source": [
        "$H |0\\rangle = \\frac{1}{\\sqrt{2}}\\left(\\begin{array}{cc}1 & 1 \\\\ 1 & -1\\end{array}\\right)\\left[\\begin{array}{l}1 \\\\ 0\\end{array}\\right]= \\frac{1}{\\sqrt{2}}\\left[\\begin{array}{ll}1 + 0 \\\\ 1 + 0\\end{array}\\right]=\\frac{1}{\\sqrt{2}}\\left[\\begin{array}{c}1 \\\\ 1\\end{array}\\right] = |+\\rangle$\n"
      ]
    },
    {
      "cell_type": "markdown",
      "metadata": {
        "id": "Ibtl2dCbFDMF"
      },
      "source": [
        "$H |1\\rangle = \\frac{1}{\\sqrt{2}}\\left(\\begin{array}{cc}1 & 1 \\\\ 1 & -1\\end{array}\\right)\\left[\\begin{array}{l}0 \\\\ 1\\end{array}\\right]= \\frac{1}{\\sqrt{2}}\\left[\\begin{array}{ll}0 + 1 \\\\ 0 -1\\end{array}\\right]=\\frac{1}{\\sqrt{2}}\\left[\\begin{array}{c}1 \\\\ -1\\end{array}\\right] = |-\\rangle$\n"
      ]
    },
    {
      "cell_type": "markdown",
      "metadata": {
        "id": "rEgXdQ0EDkN-"
      },
      "source": [
        "*Diese Zustände können auch mithilfe der Dirac-Notation als Summen von |0⟩ und |1⟩ erweitert werden:*"
      ]
    },
    {
      "cell_type": "markdown",
      "metadata": {
        "id": "VSvDRH31D2Pu"
      },
      "source": [
        "$|+\\rangle=\\frac{1}{\\sqrt{2}}(|0\\rangle+|1\\rangle)$ weil <font color=\"gray\">wegen $|0\\rangle=\\left[\\begin{array}{l}1 \\\\ 0\\end{array}\\right]$ und $|1\\rangle=\\left[\\begin{array}{l}0 \\\\ 1\\end{array}\\right]$ daher:</font> $\\frac{1}{\\sqrt{2}}\\left[\\begin{array}{ll}1 + 0 \\\\ 0 + 1\\end{array}\\right]=\\frac{1}{\\sqrt{2}}\\left[\\begin{array}{c}1 \\\\ 1\\end{array}\\right]$"
      ]
    },
    {
      "cell_type": "markdown",
      "metadata": {
        "id": "63uQegWFD9zv"
      },
      "source": [
        "$|-\\rangle=\\frac{1}{\\sqrt{2}}(|0\\rangle-|1\\rangle)$ weil: $\\frac{1}{\\sqrt{2}}\\left[\\begin{array}{ll}1 - 0 \\\\ 0 - 1\\end{array}\\right]=\\frac{1}{\\sqrt{2}}\\left[\\begin{array}{c}1 \\\\ -1\\end{array}\\right]$"
      ]
    },
    {
      "cell_type": "markdown",
      "metadata": {
        "id": "P1vK0IwMFqXG"
      },
      "source": [
        "*Zusammenfassend, das ist alles das gleiche, sieht aber komplett anders aus:*"
      ]
    },
    {
      "cell_type": "markdown",
      "metadata": {
        "id": "Pr5W26hVFtmu"
      },
      "source": [
        "<font color=\"blue\">$H |0\\rangle$</font> $ = \\frac{1}{\\sqrt{2}}\\left(\\begin{array}{cc}1 & 1 \\\\ 1 & -1\\end{array}\\right)\\left[\\begin{array}{l}1 \\\\ 0\\end{array}\\right] =\\frac{1}{\\sqrt{2}}\\left[\\begin{array}{c}1 \\\\ 1\\end{array}\\right]$ <font color=\"blue\">$ \\,\\,= |+\\rangle$ = $\\frac{1}{\\sqrt{2}}(|0\\rangle+|1\\rangle)$\n"
      ]
    },
    {
      "cell_type": "markdown",
      "metadata": {
        "id": "_gP7V8tEF6q5"
      },
      "source": [
        "<font color=\"blue\">$H |1\\rangle$</font>$ = \\frac{1}{\\sqrt{2}}\\left(\\begin{array}{cc}1 & 1 \\\\ 1 & -1\\end{array}\\right)\\left[\\begin{array}{l}0 \\\\ 1\\end{array}\\right]=\\frac{1}{\\sqrt{2}}\\left[\\begin{array}{c}1 \\\\ -1\\end{array}\\right]$ <font color=\"blue\">$ = |-\\rangle$ = $\\frac{1}{\\sqrt{2}}(|0\\rangle-|1\\rangle)$"
      ]
    },
    {
      "cell_type": "markdown",
      "metadata": {
        "id": "XACkkeUlIM9b"
      },
      "source": [
        "*$|0\\rangle$ und $|1\\rangle$ stellen hier die Basis dar, in der die Quantenzustaende berechnet werden. Man kann allerdings auch eine andere Basis waehlen, zB $|+\\rangle$ und $|-\\rangle$:*"
      ]
    },
    {
      "cell_type": "markdown",
      "metadata": {
        "id": "czMwdUEMIn0H"
      },
      "source": [
        "$|0\\rangle=\\frac{1}{\\sqrt{2}}(|+\\rangle+|-\\rangle)$ vergleiche: <font color=\"blue\">$|+\\rangle$ = $\\frac{1}{\\sqrt{2}}(|0\\rangle+|1\\rangle)$"
      ]
    },
    {
      "cell_type": "markdown",
      "metadata": {
        "id": "IpTW9RrLI1Ne"
      },
      "source": [
        "$|1\\rangle=\\frac{1}{\\sqrt{2}}(|+\\rangle-|-\\rangle)$ vergleiche: <font color=\"blue\">$|-\\rangle$ = $\\frac{1}{\\sqrt{2}}(|0\\rangle-|1\\rangle)$"
      ]
    },
    {
      "cell_type": "markdown",
      "metadata": {
        "id": "9TfCRrAc03N1"
      },
      "source": [
        "*Applying an Identity Operator:*"
      ]
    },
    {
      "cell_type": "markdown",
      "metadata": {
        "id": "PYb6eXBf068c"
      },
      "source": [
        "$I |0\\rangle = \\left(\\begin{array}{cc}1 & 0 \\\\ 0 & 1\\end{array}\\right)\\left[\\begin{array}{l}1 \\\\ 0\\end{array}\\right]= \\left[\\begin{array}{ll}1 + 0 \\\\ 0 + 0\\end{array}\\right]=\\left[\\begin{array}{c}1 \\\\ 0\\end{array}\\right]$\n"
      ]
    },
    {
      "cell_type": "markdown",
      "metadata": {
        "id": "FPLUZ9Vs1hJU"
      },
      "source": [
        "$I |1\\rangle = \\left(\\begin{array}{cc}1 & 0 \\\\ 0 & 1\\end{array}\\right)\\left[\\begin{array}{l}0 \\\\ 1\\end{array}\\right]= \\left[\\begin{array}{ll}0 + 0 \\\\ 0 + 1\\end{array}\\right]=\\left[\\begin{array}{c}0 \\\\ 1\\end{array}\\right]$\n"
      ]
    },
    {
      "cell_type": "markdown",
      "metadata": {
        "id": "Ke-xCGlbv4MW"
      },
      "source": [
        "*Applying a Pauli-X Operator:*"
      ]
    },
    {
      "cell_type": "markdown",
      "metadata": {
        "id": "viikjlnxwJd2"
      },
      "source": [
        "$X|0\\rangle=\\left[\\begin{array}{ll}0 & 1 \\\\ 1 & 0\\end{array}\\right]\\left[\\begin{array}{l}1 \\\\ 0\\end{array}\\right]=\\left[\\begin{array}{ll}0 + 0 \\\\ 1 + 0\\end{array}\\right]=\\left[\\begin{array}{l}0 \\\\ 1\\end{array}\\right]$"
      ]
    },
    {
      "cell_type": "markdown",
      "metadata": {
        "id": "NTK-u1Q4nrGv"
      },
      "source": [
        "###### <font color=\"blue\">**Matrix-Matrix-Vector-Vector-Multiplication (Multi Qubit)** "
      ]
    },
    {
      "cell_type": "markdown",
      "metadata": {
        "id": "Ksr8LwdrjeWS"
      },
      "source": [
        "Just as we used the tensor product to calculate multi-qubit statevectors, we use the tensor product to calculate matrices that act on these statevectors.\n",
        "\n",
        "* First: Tensor Product of different operators. This is either one operator like Hadamard (for one qubit) combined with the identity operator (for other qubit). Or several non-trivial operators combined (no identity).\n",
        "\n",
        "* then simple dot product of operator matrix with vector of combined qubits."
      ]
    },
    {
      "cell_type": "markdown",
      "metadata": {
        "id": "UDNZyl0YjF1t"
      },
      "source": [
        "> $A \\mathbf{x}=\\left[\\begin{array}{cccc}a_{11} & a_{12} & \\ldots & a_{1 n} \\\\ a_{21} & a_{22} & \\ldots & a_{2 n} \\\\ \\vdots & \\vdots & \\ddots & \\vdots \\\\ a_{m 1} & a_{m 2} & \\ldots & a_{m n}\\end{array}\\right]\\left[\\begin{array}{c}x_{1} \\\\ x_{2} \\\\ \\vdots \\\\ x_{n}\\end{array}\\right]=\\left[\\begin{array}{c}a_{11} x_{1}+a_{12} x_{2}+\\cdots+a_{1 n} x_{n} \\\\ a_{21} x_{1}+a_{22} x_{2}+\\cdots+a_{2 n} x_{n} \\\\ \\vdots \\\\ a_{m 1} x_{1}+a_{m 2} x_{2}+\\cdots+a_{m n} x_{n}\\end{array}\\right]$\n",
        "\n",
        "Matrix-vector multiplication takes the dot product of x with each of the rows of A. (This is why the number of columns in A has to equal the number of components in x.) The first component of the matrix-vector product is the dot product of x with the first row of A, etc. In fact, if A has only one row, the matrix-vector product is really a dot product in disguise.\n",
        "[Source](https://mathinsight.org/matrix_vector_multiplication)"
      ]
    },
    {
      "cell_type": "markdown",
      "metadata": {
        "id": "5x33hPUrN8gQ"
      },
      "source": [
        "<font color=\"blue\">*H-Gate $\\otimes$ I-Gate*"
      ]
    },
    {
      "cell_type": "markdown",
      "metadata": {
        "id": "p0c9EIjuq94-"
      },
      "source": [
        "**First create the tensor product of two operators**: For construction of the desired two-qubit gate, you need the same tensor product operation as you used for the vectors. Here where $H_1$ is a one-qubit Hadamard gate in the two-qubit space $(\\hat{H} \\otimes \\mathbf{I})$, where Hadamard is applied only to one Qubit:\n",
        "\n",
        "> $H_{1} \\equiv H_{0} \\otimes I=\\frac{1}{\\sqrt{2}}\\left(\\begin{array}{ll}1\\left(\\begin{array}{ll}1 & 0 \\\\ 0 & 1\\end{array}\\right) & 1\\left(\\begin{array}{ll}1 & 0 \\\\ 0 & 1\\end{array}\\right) \\\\ 1\\left(\\begin{array}{ll}1 & 0 \\\\ 0 & 1\\end{array}\\right) & -1\\left(\\begin{array}{ll}1 & 0 \\\\ 0 & 1\\end{array}\\right)\\end{array}\\right)=\\frac{1}{\\sqrt{2}}\\left(\\begin{array}{cccc}1 & 0 & 1 & 0 \\\\ 0 & 1 & 0 & 1 \\\\ 1 & 0 & -1 & 0 \\\\ 0 & 1 & 0 & -1\\end{array}\\right)$"
      ]
    },
    {
      "cell_type": "markdown",
      "metadata": {
        "id": "sQRsJw8d1veB"
      },
      "source": [
        "**Second, apply the new 'tensored' operator on the tensor product of two state vectors**:\n",
        "\n",
        "See the tensor product of two vectors in state $|0\\rangle$:\n",
        "\n",
        "> $|0\\rangle \\otimes|0\\rangle = \\left[\\begin{array}{l}1 \\\\ 0\\end{array}\\right] \\otimes\\left[\\begin{array}{l}1 \\\\ 0\\end{array}\\right]=$</font> $\\left[\\begin{array}{l}1\\left[\\begin{array}{l}1 \\\\ 0\\end{array}\\right] \\\\ 0\\left[\\begin{array}{l}1 \\\\ 0\\end{array}\\right]\\end{array}\\right]=$ <font color=\"blue\">$\\left [\\begin{array}{l}1 \\\\ 0 \\\\ 0 \\\\ 0\\end{array}\\right]$ \n",
        "\n",
        "Now applying $H_1$ you mix up the first qubit states and keep the second qubit state unchanged:\n",
        "\n",
        "> $H_{1}(|0\\rangle \\otimes|0\\rangle)=H_{1}\\left(\\begin{array}{l}1 \\\\ 0 \\\\ 0 \\\\ 0\\end{array}\\right)$= <font color=\"blue\">$\\frac{1}{\\sqrt{2}}\\left(\\begin{array}{cccc}1 & 0 & 1 & 0 \\\\ 0 & 1 & 0 & 1 \\\\ 1 & 0 & -1 & 0 \\\\ 0 & 1 & 0 & -1\\end{array}\\right) \\left(\\begin{array}{l}1 \\\\ 0 \\\\ 0 \\\\ 0\\end{array}\\right)$ = $\\frac{1}{\\sqrt{2}}\\left(\\begin{array}{l}1 \\\\ 0 \\\\ 1 \\\\ 0\\end{array}\\right)$</font>= $\\frac{1}{\\sqrt{2}}(|0\\rangle \\otimes|0\\rangle+|1\\rangle \\otimes|0\\rangle)$  \n",
        "\n",
        "*Also written as (??: <font color=\"blue\">$=\\frac{1}{\\sqrt{2}}(|00\\rangle+|10\\rangle)$*"
      ]
    },
    {
      "cell_type": "markdown",
      "metadata": {
        "id": "XQKzKIbzoEvq"
      },
      "source": [
        "If you want the Hadamard gate to act on only one qubit, say only the first qubit, then the composite operator acting on the two-qubit state is given by $\\hat{H} \\otimes \\mathbf{I}$ so that\n",
        "\n",
        "> $(\\hat{H} \\otimes \\mathbf{I})\\left(\\left|q_{0}\\right\\rangle \\otimes\\left|q_{1}\\right\\rangle=\\hat{H}\\left|q_{0}\\right\\rangle \\otimes \\mathrm{I}\\left|q_{1}\\right\\rangle=\\right.$ <font color=\"orange\">$\\hat{H}\\left|q_{0}\\right\\rangle \\otimes\\left|q_{1}\\right\\rangle$</font>\n",
        "\n",
        "Here $\\mathbf{I}$ is the unit operator or identity operator.\n",
        "\n"
      ]
    },
    {
      "cell_type": "markdown",
      "metadata": {
        "id": "hzkPRWWkcsCh"
      },
      "source": [
        "**Another way of writing this (=apply H to one qubit only in a 1 qubit in a 2 qubit system) is:** \n",
        "\n",
        "A joint state of two initialized qubits can be represented as\n",
        "\n",
        ">$\n",
        "|0\\rangle \\otimes|0\\rangle\n",
        "$\n",
        "\n",
        "If we apply the Hadamard gate to the first qubit, it transforms but leaves the other qubit unaffected, since the Hadamard is a single qubit gate:\n",
        "\n",
        "> <font color=\"orange\">$\\hat{H}\\left|q_{0}\\right\\rangle \\otimes\\left|q_{1}\\right\\rangle$</font> = $\n",
        "\\mathbf{H}|0\\rangle \\otimes|0\\rangle=\\left(\\frac{1}{\\sqrt{2}}|0\\rangle+\\frac{1}{\\sqrt{2}}|1\\rangle\\right) \\otimes|0\\rangle\n",
        "$\n",
        "\n",
        "The tensor product is distributive, which in this case means it acts much like multiplication:\n",
        "\n",
        ">$\n",
        "\\mathbf{H}|0\\rangle \\otimes|0\\rangle=\\frac{1}{\\sqrt{2}}|0\\rangle \\otimes|0\\rangle+\\frac{1}{\\sqrt{2}}|1\\rangle \\otimes|0\\rangle\n",
        "$"
      ]
    },
    {
      "cell_type": "markdown",
      "metadata": {
        "id": "gK5y6tQx10Vd"
      },
      "source": [
        "<font color=\"blue\">*I-Gate $\\otimes$ H-Gate*"
      ]
    },
    {
      "cell_type": "markdown",
      "metadata": {
        "id": "cfTEgk7ztgpv"
      },
      "source": [
        "If you wish to swap the gate action, i.e. change only the second qubit, you can write it in the same manner:\n",
        "\n",
        "> $H_{2} \\equiv I \\otimes H_{0}=\\frac{1}{\\sqrt{2}}\\left(\\begin{array}{cc}1\\left(\\begin{array}{cc}1 & 1 \\\\ 1 & -1\\end{array}\\right) & 0\\left(\\begin{array}{cc}1 & 1 \\\\ 1 & -1\\end{array}\\right) \\\\ 0\\left(\\begin{array}{cc}1 & 1 \\\\ 1 & -1\\end{array}\\right) & 1\\left(\\begin{array}{cc}1 & 1 \\\\ 1 & -1\\end{array}\\right)\\end{array}\\right)=\\frac{1}{\\sqrt{2}}\\left(\\begin{array}{cccc}1 & 1 & 0 & 0 \\\\ 1 & -1 & 0 & 0 \\\\ 0 & 0 & 1 & 1 \\\\ 0 & 0 & 1 & -1\\end{array}\\right)$\n",
        "\n",
        "And applying to the 2 qubit system:\n",
        "\n",
        "> $H_{2}(|0\\rangle \\otimes|0\\rangle)=H_{2}\\left(\\begin{array}{l}1 \\\\ 0 \\\\ 0 \\\\ 0\\end{array}\\right)=\\frac{1}{\\sqrt{2}}\\left(\\begin{array}{l}1 \\\\ 1 \\\\ 0 \\\\ 0\\end{array}\\right)=\\frac{1}{\\sqrt{2}}(|0\\rangle \\otimes|0\\rangle+|0\\rangle \\otimes|1\\rangle)$"
      ]
    },
    {
      "cell_type": "markdown",
      "metadata": {
        "id": "xhVniI6Bn1HC"
      },
      "source": [
        "*Source: https://physics.stackexchange.com/questions/562897/representing-quantum-gates-in-tensor-product-space*"
      ]
    },
    {
      "cell_type": "markdown",
      "metadata": {
        "id": "tF7IkFy61f4p"
      },
      "source": [
        "<font color=\"blue\">*H-Gate $\\otimes$ H-Gate*"
      ]
    },
    {
      "cell_type": "markdown",
      "metadata": {
        "id": "OgtEVXDt1jY1"
      },
      "source": [
        "If you want the Hadamard gate to act on both the qubits, then the composite operator acting on both the qubits is given by $\\hat{H} \\otimes \\hat{H}$ so that\n",
        "\n",
        ">$\n",
        "(\\hat{H} \\otimes \\hat{H})\\left(\\left|q_{0}\\right\\rangle \\otimes\\left|q_{1}\\right\\rangle=\\hat{H}\\left|q_{0}\\right\\rangle \\otimes \\hat{H}\\left|q_{1}\\right\\rangle\\right.\n",
        "$\n",
        "\n",
        "The operators $\\hat{H} \\otimes \\mathrm{I}$ and $\\hat{H} \\otimes \\hat{H}$ can be expressed in the matrix form by using the rules of tensor product. \n",
        "\n",
        "See [Tensor_product](https://en.wikipedia.org/wiki/Tensor_product)"
      ]
    },
    {
      "cell_type": "markdown",
      "metadata": {
        "id": "9gPNhq3rzjx7"
      },
      "source": [
        "<font color=\"blue\">*X-Gate $\\otimes$ I-Gate*"
      ]
    },
    {
      "cell_type": "markdown",
      "metadata": {
        "id": "-uxt3HL50Rym"
      },
      "source": [
        "X-Gate is: $\\left[\\begin{array}{ll}0 & 1 \\\\ 1 & 0\\end{array}\\right]$ and I-Gate is: $\\left[\\begin{array}{ll}1 & 0 \\\\ 0 & 1\\end{array}\\right]$"
      ]
    },
    {
      "cell_type": "markdown",
      "metadata": {
        "id": "yQmdGjd_zx_x"
      },
      "source": [
        "$X \\otimes I=\\left[\\begin{array}{ll}0 & I \\\\ I & 0\\end{array}\\right]=\\left[\\begin{array}{llll}0 & 0 & 1 & 0 \\\\ 0 & 0 & 0 & 1 \\\\ 1 & 0 & 0 & 0 \\\\ 0 & 1 & 0 & 0\\end{array}\\right]$ bzw.: $\\left(\\begin{array}{ll}0\\left(\\begin{array}{ll}1 & 0 \\\\ 0 & 1\\end{array}\\right) & 1\\left(\\begin{array}{ll}1 & 0 \\\\ 0 & 1\\end{array}\\right) \\\\ 1\\left(\\begin{array}{ll}1 & 0 \\\\ 0 & 1\\end{array}\\right) & 0\\left(\\begin{array}{ll}1 & 0 \\\\ 0 & 1\\end{array}\\right)\\end{array}\\right)$"
      ]
    },
    {
      "cell_type": "markdown",
      "metadata": {
        "id": "vq8Dxy6mxSJH"
      },
      "source": [
        "<font color=\"blue\">*H-Gate $\\otimes$ X-Gate*"
      ]
    },
    {
      "cell_type": "markdown",
      "metadata": {
        "id": "FFFLEfTN1RZh"
      },
      "source": [
        "*Be careful: Sometimes the order of tensor multiplication of gates is reverse*"
      ]
    },
    {
      "cell_type": "code",
      "metadata": {
        "colab": {
          "base_uri": "https://localhost:8080/"
        },
        "id": "bbpbgc5Oxw4M",
        "outputId": "30e5155b-ac57-40fa-80d3-5a0278d52b08"
      },
      "source": [
        "# Named Qubit\n",
        "a = cirq.NamedQubit(\"q_0\")\n",
        "b = cirq.NamedQubit(\"q_1\")\n",
        "\n",
        "#Line-Qubit\n",
        "qubits = cirq.LineQubit.range(2)\n",
        "\n",
        "# Define operations\n",
        "ops=[cirq.H(a),\n",
        "     cirq.X(b),]\n",
        "\n",
        "# Build circuit\n",
        "circuit=cirq.Circuit(ops)\n",
        "print(circuit)"
      ],
      "execution_count": null,
      "outputs": [
        {
          "output_type": "stream",
          "name": "stdout",
          "text": [
            "q_0: ───H───\n",
            "\n",
            "q_1: ───X───\n"
          ]
        }
      ]
    },
    {
      "cell_type": "markdown",
      "metadata": {
        "id": "Uzqui9fbyriW"
      },
      "source": [
        "We can represent the simultaneous operations (H \\& $X$ ) using their tensor product (notice reverse order!):\n",
        "\n",
        ">$\n",
        "X\\left|q_{1}\\right\\rangle \\otimes H\\left|q_{0}\\right\\rangle=(X \\otimes H)\\left|q_{1} q_{0}\\right\\rangle\n",
        "$"
      ]
    },
    {
      "cell_type": "markdown",
      "metadata": {
        "id": "NVkEpZiGyWBM"
      },
      "source": [
        "The operation looks like this:\n",
        "\n",
        "\n",
        ">$X \\otimes H=\\left[\\begin{array}{ll}0 & 1 \\\\ 1 & 0\\end{array}\\right] \\otimes \\frac{1}{\\sqrt{2}}\\left[\\begin{array}{cc}1 & 1 \\\\ 1 & -1\\end{array}\\right]=\\frac{1}{\\sqrt{2}}\\left[\\begin{array}{cc}0 \\times\\left[\\begin{array}{cc}1 & 1 \\\\ 1 & -1\\end{array}\\right] & 1 \\times\\left[\\begin{array}{cc}1 & 1 \\\\ 1 & -1\\end{array}\\right] \\\\ 1 \\times\\left[\\begin{array}{cc}1 & 1 \\\\ 1 & -1\\end{array}\\right] & 0 \\times\\left[\\begin{array}{cc}1 & 1 \\\\ 1 & -1\\end{array}\\right]\\end{array}\\right]=\\frac{1}{\\sqrt{2}}\\left[\\begin{array}{cccc}0 & 0 & 1 & 1 \\\\ 0 & 0 & 1 & -1 \\\\ 1 & 1 & 0 & 0 \\\\ 1 & -1 & 0 & 0\\end{array}\\right]$"
      ]
    },
    {
      "cell_type": "markdown",
      "metadata": {
        "id": "gXdHJAEzyu__"
      },
      "source": [
        "Which we can then apply to our $4 D$ statevector $\\left|q_{1} q_{0}\\right\\rangle .$ This can become quite messy, you will often see the clearer notation:\n",
        "\n",
        ">$\n",
        "X \\otimes H=\\left[\\begin{array}{cc}\n",
        "0 & H \\\\\n",
        "H & 0\n",
        "\\end{array}\\right]\n",
        "$\n",
        "\n",
        "Source: https://qiskit.org/textbook/ch-gates/multiple-qubits-entangled-states.html"
      ]
    },
    {
      "cell_type": "markdown",
      "metadata": {
        "id": "0z7cDFlh_eL1"
      },
      "source": [
        "###### <font color=\"blue\">**Matrix-Matrix-Multiplication (Kronecker / Tensor)**\n",
        "\n"
      ]
    },
    {
      "cell_type": "markdown",
      "metadata": {
        "id": "sj6RZBmJqf-d"
      },
      "source": [
        "> Zur Kombination von Operators in einem Timestep (zB H bei qubit 1 und I bei Qubit 2). Two systems being described as a joint system."
      ]
    },
    {
      "cell_type": "markdown",
      "metadata": {
        "id": "L_RwI9Lm-g4S"
      },
      "source": [
        "> $\\left[\\begin{array}{ll}a & b \\\\ c & d\\end{array}\\right] \\otimes\\left[\\begin{array}{ll}e & f \\\\ g & h\\end{array}\\right]=\\left[\\begin{array}{lll}a\\left[\\begin{array}{ll}e & f \\\\ g & h\\end{array}\\right] & b\\left[\\begin{array}{ll}e & f \\\\ g & h\\end{array}\\right] \\\\ c\\left[\\begin{array}{ll}e & f \\\\ g & h\\end{array}\\right] & d\\left[\\begin{array}{llll}e & f \\\\ g & h\\end{array}\\right]\\end{array}\\right]=\\left[\\begin{array}{llll}a e & a f & \\text { be } & b f \\\\ a g & a h & b g & b h \\\\ c e & c f & d e & d f \\\\ c g & c h & d g & d h\\end{array}\\right]$"
      ]
    },
    {
      "cell_type": "markdown",
      "metadata": {
        "id": "mlxtf2NFWwJa"
      },
      "source": [
        "* Matrix: Kronecker (Tensor) Product (=Matrices of <u>any size</u>) - Matrix changes size!"
      ]
    },
    {
      "cell_type": "markdown",
      "metadata": {
        "id": "nSyPR_1thXNt"
      },
      "source": [
        "> $\\left(\\begin{array}{ll}1 & 2 \\\\ 3 & 4 \\\\ 5 & 6\\end{array}\\right) \\otimes\\left(\\begin{array}{ll}7 & 8 \\\\ 9 & 0\\end{array}\\right)=\\left(\\begin{array}{ll}1 \\cdot\\left(\\begin{array}{ll}7 & 8 \\\\ 9 & 0\\end{array}\\right) & 2 \\cdot\\left(\\begin{array}{ll}7 & 8 \\\\ 9 & 0\\end{array}\\right) \\\\ 3 \\cdot\\left(\\begin{array}{ll}7 & 8 \\\\ 9 & 0\\end{array}\\right) & 4 \\cdot\\left(\\begin{array}{ll}7 & 8 \\\\ 9 & 0\\end{array}\\right) \\\\ 5 \\cdot\\left(\\begin{array}{ll}7 & 8 \\\\ 9 & 0\\end{array}\\right) & 6 \\cdot\\left(\\begin{array}{ll}7 & 8 \\\\ 9 & 0\\end{array}\\right)\\end{array}\\right)=\\left(\\begin{array}{cccc}7 & 8 & 14 & 16 \\\\ 9 & 0 & 18 & 0 \\\\ 21 & 24 & 28 & 32 \\\\ 27 & 0 & 36 & 0 \\\\ 35 & 40 & 42 & 48 \\\\ 45 & 0 & 54 & 0\\end{array}\\right)$"
      ]
    },
    {
      "cell_type": "markdown",
      "metadata": {
        "id": "KkbIl-kUcMj-"
      },
      "source": [
        "(Tracy-Singh product as a generalized Kronecker product )"
      ]
    },
    {
      "cell_type": "markdown",
      "metadata": {
        "id": "BqoL4BTSOXjx"
      },
      "source": [
        "**Example 1: Hadamard + Identity in parallel (and not serial)**\n",
        "\n",
        "[Source](https://quantumcomputing.stackexchange.com/questions/11426/trying-to-use-matrices-for-hadamard-and-controlled-not-gates)"
      ]
    },
    {
      "cell_type": "markdown",
      "metadata": {
        "id": "afLfH8DF9GNI"
      },
      "source": [
        "$H \\otimes I=\\frac{1}{\\sqrt{2}}\\left(\\begin{array}{cc}1 & 1 \\\\ 1 & -1\\end{array}\\right) \\otimes\\left(\\begin{array}{ll}1 & 0 \\\\ 0 & 1\\end{array}\\right)=\\frac{1}{\\sqrt{2}}\\left(\\begin{array}{ll}1\\left(\\begin{array}{ll}1 & 0 \\\\ 0 & 1\\end{array}\\right) & 1\\left(\\begin{array}{ll}1 & 0 \\\\ 0 & 1\\end{array}\\right) \\\\ 1\\left(\\begin{array}{ll}1 & 0 \\\\ 0 & 1\\end{array}\\right) & -1\\left(\\begin{array}{ll}1 & 0 \\\\ 0 & 1\\end{array}\\right)\\end{array}\\right)=\\frac{1}{\\sqrt{2}}\\left(\\begin{array}{rrrr}1 & 0 & 1 & 0 \\\\ 0 & 1 & 0 & 1 \\\\ 1 & 0 & -1 & 0 \\\\ 0 & 1 & 0 & -1\\end{array}\\right)$"
      ]
    },
    {
      "cell_type": "markdown",
      "metadata": {
        "id": "9AOjQxARy4Km"
      },
      "source": [
        "$I \\otimes H=\\left(\\begin{array}{ll}1 & 0 \\\\ 0 & 1\\end{array}\\right) \\otimes \\frac{1}{\\sqrt{2}}\\left(\\begin{array}{cc}1 & 1 \\\\ 1 & -1\\end{array}\\right) = \\frac{1}{\\sqrt{2}}\\left(\\begin{array}{cc}1\\left(\\begin{array}{cc}1 & 1 \\\\ 1 & -1\\end{array}\\right) & 0\\left(\\begin{array}{cc}1 & 1 \\\\ 1 & -1\\end{array}\\right) \\\\ 0\\left(\\begin{array}{cc}1 & 1 \\\\ 1 & -1\\end{array}\\right) & 1\\left(\\begin{array}{cc}1 & 1 \\\\ 1 & -1\\end{array}\\right)\\end{array}\\right)=\\frac{1}{\\sqrt{2}}\\left(\\begin{array}{cccc}1 & 1 & 0 & 0 \\\\ 1 & -1 & 0 & 0 \\\\ 0 & 0 & 1 & 1 \\\\ 0 & 0 & 1 & -1\\end{array}\\right)$\n"
      ]
    },
    {
      "cell_type": "markdown",
      "metadata": {
        "id": "LehhHfP1uutz"
      },
      "source": [
        "If the 2x2 matrix M is an operator on one qubit, this clearly can't operate on a 4D Hilbert space. But the operator M ⊗ I (where I is the 2x2 identity) represents a measurement of M on qubit #1; it's a 4x4 operator. The operator I ⊗ M is what you would use to measure M on qubit #2"
      ]
    },
    {
      "cell_type": "markdown",
      "metadata": {
        "id": "e4M3k3gud2C1"
      },
      "source": [
        "**Example 2: Pauli-Y + Pauli-X in parallel (and not serial)**\n",
        "\n",
        "\n",
        "*Two gates $Y$ and $X$ in parallel is equivalent to the gate $Y\\otimes X$*\n",
        "\n",
        "![ggg](https://upload.wikimedia.org/wikipedia/commons/d/d5/Parallel_quantum_logic_gates.png)\n",
        "\n",
        "If we, as in the picture, combine the Pauli-Y gate with the Pauli-X gate in parallel, then this can be written as:\n",
        "\n",
        "> $C=Y \\otimes X=\\left[\\begin{array}{cc}0 & -i \\\\ i & 0\\end{array}\\right] \\otimes\\left[\\begin{array}{ll}0 & 1 \\\\ 1 & 0\\end{array}\\right]=\\left[\\begin{array}{ll}0\\left[\\begin{array}{ll}0 & 1 \\\\ 1 & 0\\end{array}\\right] & -i\\left[\\begin{array}{ll}0 & 1 \\\\ 1 & 0\\end{array}\\right] \\\\ i\\left[\\begin{array}{ll}0 & 1 \\\\ 1 & 0\\end{array}\\right] & 0\\left[\\begin{array}{ll}0 & 1 \\\\ 1 & 0\\end{array}\\right]\\end{array}\\right]=\\left[\\begin{array}{cccc}0 & 0 & 0 & -i \\\\ 0 & 0 & -i & 0 \\\\ 0 & i & 0 & 0 \\\\ i & 0 & 0 & 0\\end{array}\\right]$\n",
        "\n",
        "Both the Pauli-X and the Pauli-Y gate act on a single qubit. The resulting gate $C$ act on two qubits."
      ]
    },
    {
      "cell_type": "code",
      "metadata": {
        "colab": {
          "base_uri": "https://localhost:8080/",
          "height": 98
        },
        "id": "cOLHo8XY7l_B",
        "outputId": "df027827-10cb-4afb-a4f6-ae97e4ffadc0"
      },
      "source": [
        "from sympy import Matrix\n",
        "from sympy.physics.quantum import TensorProduct\n",
        "\n",
        "m1 = Matrix([[1,2],[3,4]])\n",
        "m2 = Matrix([[1,0],[0,1]])\n",
        "\n",
        "TensorProduct(m1, m2)"
      ],
      "execution_count": null,
      "outputs": [
        {
          "output_type": "execute_result",
          "data": {
            "text/latex": "$\\displaystyle \\left[\\begin{matrix}1 & 0 & 2 & 0\\\\0 & 1 & 0 & 2\\\\3 & 0 & 4 & 0\\\\0 & 3 & 0 & 4\\end{matrix}\\right]$",
            "text/plain": [
              "Matrix([\n",
              "[1, 0, 2, 0],\n",
              "[0, 1, 0, 2],\n",
              "[3, 0, 4, 0],\n",
              "[0, 3, 0, 4]])"
            ]
          },
          "metadata": {},
          "execution_count": 1
        }
      ]
    },
    {
      "cell_type": "code",
      "metadata": {
        "colab": {
          "base_uri": "https://localhost:8080/",
          "height": 99
        },
        "id": "VkoI0EOX7xlv",
        "outputId": "d09e02b6-eb92-419b-9a4f-a58468a4158e"
      },
      "source": [
        "TensorProduct(m2, m1)"
      ],
      "execution_count": null,
      "outputs": [
        {
          "output_type": "execute_result",
          "data": {
            "text/latex": "$\\displaystyle \\left[\\begin{matrix}1 & 2 & 0 & 0\\\\3 & 4 & 0 & 0\\\\0 & 0 & 1 & 2\\\\0 & 0 & 3 & 4\\end{matrix}\\right]$",
            "text/plain": [
              "Matrix([\n",
              "[1, 2, 0, 0],\n",
              "[3, 4, 0, 0],\n",
              "[0, 0, 1, 2],\n",
              "[0, 0, 3, 4]])"
            ]
          },
          "metadata": {},
          "execution_count": 2
        }
      ]
    },
    {
      "cell_type": "markdown",
      "metadata": {
        "id": "N51jPNcMXRQ7"
      },
      "source": [
        "Is that correct??? Matrix-Matrix-Vector-Multiplication\n",
        "\n",
        "> <font color=\"gray\">$\\left[\\left[\\begin{array}{l}v^{1} \\alpha_{1} \\\\ v^{2} \\alpha_{1}\\end{array}\\right]\\left[\\begin{array}{l}v^{1} \\alpha_{2} \\\\ v^{2} \\alpha_{2}\\end{array}\\right]\\right] \\otimes\\left[\\begin{array}{l}\\omega_{1} \\\\ \\omega_{2}\\end{array}\\right]$ = $\\left[\\begin{array}{ll}{\\left[\\left[\\begin{array}{ll}v^{1} \\alpha_{1} \\\\ v^{2}  \\alpha_{1}\\end{array}\\right]\\right.} & \\left.\\left[\\begin{array}{l}v^{1} \\alpha_{2} \\\\ v^{2} \\alpha_{2}\\end{array}\\right]\\right] \\omega_{1} \\\\ {\\left[\\left[\\begin{array}{l}v^{1} \\alpha_{1} \\\\ v^{2} \\alpha_{1}\\end{array}\\right]\\right.} & \\left.\\left[\\begin{array}{l}v^{1} \\alpha_{2} \\\\ v^{2} \\alpha_{2}\\end{array}\\right]\\right] \\omega_{2}\\end{array}\\right]$ = $\\left[\\begin{array}{ll}{\\left[\\left[\\begin{array}{l}v^{1} \\alpha_{1} \\omega_{1} \\\\ v^{2} \\alpha_{1} \\omega_{1}\\end{array}\\right]\\right.} & \\left.\\left[\\begin{array}{l}v^{1} \\alpha_{2} \\omega_{1} \\\\ v^{2} \\alpha_{2} \\omega_{1}\\end{array}\\right]\\right] \\\\ {\\left[\\left[\\begin{array}{ll}v^{1} \\alpha_{1} \\omega_{2} \\\\ v^{2} \\alpha_{1} \\omega_{2}\\end{array}\\right]\\right.} & \\left.\\left[\\begin{array}{l}v^{1} \\alpha_{2} \\omega_{2} \\\\ v^{2} \\alpha_{2} \\omega_{2}\\end{array}\\right]\\right]\\end{array}\\right]$"
      ]
    },
    {
      "cell_type": "markdown",
      "metadata": {
        "id": "7kZQ4Kxp72qR"
      },
      "source": [
        "https://docs.sympy.org/latest/modules/physics/quantum/tensorproduct.html"
      ]
    },
    {
      "cell_type": "markdown",
      "metadata": {
        "id": "ZnohitquaGyf"
      },
      "source": [
        "###### **<font color=\"blue\">Matrix-Matrix-Multiplication (Usual)**"
      ]
    },
    {
      "cell_type": "markdown",
      "metadata": {
        "id": "lNnaZPsulaxW"
      },
      "source": [
        "> Used in serially wired gates (so NOT gates in one time step - here we use tensor product to combine them, but serial gates!)"
      ]
    },
    {
      "cell_type": "markdown",
      "metadata": {
        "id": "2D10tXfttflr"
      },
      "source": [
        "A line in the circuit is considered as a quantum wire and basically represents a single qubit, thus an input at the input of the first $X$ gate is transformed to $X \\mid \\psi>$ and the second $X$ gate acts on it to form $X X \\mid \\psi>$. Replacing each $X$ by its matrix representation results in an identity matrix I:\n",
        "\n",
        ">$\n",
        "X \\cdot X=\\left(\\begin{array}{ll}\n",
        "0 & 1 \\\\\n",
        "1 & 0\n",
        "\\end{array}\\right)\\left(\\begin{array}{ll}\n",
        "0 & 1 \\\\\n",
        "1 & 0\n",
        "\\end{array}\\right)=\\left(\\begin{array}{ll}\n",
        "1 & 0 \\\\\n",
        "0 & 1\n",
        "\\end{array}\\right)=I\n",
        "$\n",
        "\n",
        "Thus two NOT gates in series is basically equivalent to a quantum wire, that is, nothing happens and the output is the same as the original input.\n",
        "\n",
        "The matrix representation of the state of a superposed qubit $a|0>+\\beta|$ $1>$ is given by\n",
        "\n",
        "$\n",
        "\\left(\\begin{array}{l}\n",
        "\\alpha \\\\\n",
        "\\beta\n",
        "\\end{array}\\right)\n",
        "$"
      ]
    },
    {
      "cell_type": "markdown",
      "metadata": {
        "id": "HMqah95Tkc4a"
      },
      "source": [
        "> $\\begin{aligned} A B &=\\left[\\begin{array}{rrr}0 & 4 & -2 \\\\ -4 & -3 & 0\\end{array}\\right]\\left[\\begin{array}{rr}0 & 1 \\\\ 1 & -1 \\\\ 2 & 3\\end{array}\\right] \\\\ &=\\left[\\begin{array}{rr}0 \\cdot 0+4 \\cdot 1-2 \\cdot 2 & 0 \\cdot 1+4 \\cdot(-1)-2 \\cdot 3 \\\\ -4 \\cdot 0-3 \\cdot 1+0 \\cdot 2 & -4 \\cdot 1-3 \\cdot(-1)+0 \\cdot 3\\end{array}\\right] \\\\ &=\\left[\\begin{array}{rr}0+4-4 & 0-4-6 \\\\ 0-3+0 & -4+3+0\\end{array}\\right] \\\\ &=\\left[\\begin{array}{rr}0 & -10 \\\\ -3 & -1\\end{array}\\right] \\end{aligned}$\n",
        "\n",
        "[Source](https://mathinsight.org/matrix_vector_multiplication)"
      ]
    },
    {
      "cell_type": "markdown",
      "metadata": {
        "id": "hNeEzKCKtGZg"
      },
      "source": [
        "**<font color=\"blue\">Serially wired gates</font>**"
      ]
    },
    {
      "cell_type": "markdown",
      "metadata": {
        "id": "EEJEIpeGtbj6"
      },
      "source": [
        "*Two gates Y and X in series. **The order in which they appear on the wire is reversed when multiplying them together**.*\n",
        "\n",
        "![ggg](https://upload.wikimedia.org/wikipedia/commons/thumb/0/0a/Serially_wired_quantum_logic_gates.png/500px-Serially_wired_quantum_logic_gates.png)"
      ]
    },
    {
      "cell_type": "markdown",
      "metadata": {
        "id": "yXBEgw8StjbJ"
      },
      "source": [
        "Assume that we have two gates A and B, that both act on \n",
        "n qubits. \n",
        "\n",
        "> **When B is put after A in a series circuit, then the effect of the two gates can be described as a single gate C.**\n",
        "\n",
        "> $C=B\\cdot A$\n",
        "\n",
        "**Where $\\cdot$ is matrix multiplication**. The resulting gate C will have the same dimensions as A and B. The order in which the gates would appear in a circuit diagram is reversed when multiplying them together."
      ]
    },
    {
      "cell_type": "markdown",
      "metadata": {
        "id": "N9Ryrjrct8Uy"
      },
      "source": [
        "For example, putting the Pauli X gate after the Pauli Y gate, both of which act on a single qubit, can be described as a single combined gate C:\n",
        "\n",
        ">$\n",
        "C=X \\cdot Y=\\left[\\begin{array}{ll}\n",
        "0 & 1 \\\\\n",
        "1 & 0\n",
        "\\end{array}\\right] \\cdot\\left[\\begin{array}{cc}\n",
        "0 & -i \\\\\n",
        "i & 0\n",
        "\\end{array}\\right]=\\left[\\begin{array}{cc}\n",
        "i & 0 \\\\\n",
        "0 & -i\n",
        "\\end{array}\\right]\n",
        "$\n",
        "\n",
        "The product symbol $(\\cdot)$ is often omitted."
      ]
    },
    {
      "cell_type": "markdown",
      "metadata": {
        "id": "86sI8rtQgeCt"
      },
      "source": [
        "\n",
        "\n",
        "---\n",
        "\n",
        "\n",
        "![ggg](https://raw.githubusercontent.com/deltorobarba/repo/master/quantum_150.PNG)\n",
        "\n",
        "[Source](http://www.mathematrix.de/matrixmultiplikation/)"
      ]
    },
    {
      "cell_type": "markdown",
      "metadata": {
        "id": "nOe51GrIaNu7"
      },
      "source": [
        "\n",
        "\n",
        "![ggg](https://upload.wikimedia.org/wikipedia/commons/e/eb/Matrix_multiplication_diagram_2.svg)"
      ]
    },
    {
      "cell_type": "markdown",
      "metadata": {
        "id": "HOWPXSg5aSzX"
      },
      "source": [
        "The figure illustrates diagrammatically the product of two matrices A and B, showing how each intersection in the product matrix corresponds to a row of A and a column of B.\n"
      ]
    },
    {
      "cell_type": "markdown",
      "metadata": {
        "id": "YKdkN7z0arS4"
      },
      "source": [
        "4x2 matrix * 2x3 matrix = 4x3 matrix\n",
        "\n",
        "$\\left[\\begin{array}{cc}a_{11} & a_{12} \\\\ \\cdot & \\cdot \\\\ a_{31} & a_{32} \\\\ \\cdot & \\cdot\\end{array}\\right]\\left[\\begin{array}{ccc} \\cdot & b_{12} & b_{13} \\\\ \\cdot & b_{22} & b_{23}\\end{array}\\right]=\\left[\\begin{array}{ccc}\\cdot & c_{12} & c_{13} \\\\ \\cdot & \\cdot & \\cdot \\\\ \\cdot & c_{32} & c_{33} \\\\ \\cdot & \\cdot & \\cdot\\end{array}\\right]$\n",
        "\n",
        "$c_{12}=a_{11} b_{12}+a_{12} b_{22}$\n",
        "\n",
        "$c_{33}=a_{31} b_{13}+a_{32} b_{23}$"
      ]
    },
    {
      "cell_type": "markdown",
      "metadata": {
        "id": "g_JlrtBuaLjt"
      },
      "source": [
        "https://en.wikipedia.org/wiki/Matrix_multiplication#See_also"
      ]
    },
    {
      "cell_type": "markdown",
      "metadata": {
        "id": "BlgzCv4_YyQm"
      },
      "source": [
        "###### **<font color=\"blue\">Matrix-Matrix-Multiplication (Hadamard)**"
      ]
    },
    {
      "cell_type": "markdown",
      "metadata": {
        "id": "Ev5HlzmYWoPF"
      },
      "source": [
        "**Matrix: Hadamard Product (=Vector or Matrix of <u>same size</u>, elementwise)** - Matrix stays the same size!\n",
        "\n",
        "> $\\left[\\begin{array}{c}u_{1} & u_{4} \\\\ u_{2} & u_{5} \\\\ u_{3} & u_{6}\\end{array}\\right]$ $\\otimes$ $\\left[\\begin{array}{ll}v_{1} & v_{4} \\\\ v_{2} & v_{5} \\\\ v_{3} & v_{6}\\end{array}\\right]$ = $\\left[\\begin{array}{ll}u_{1} v_{1}& u_{4} v_{4}\\\\ u_{2} v_{2}& u_{5}v_{5} \\\\ u_{3} v_{3}& u_{6}v_{6}\\end{array}\\right]$"
      ]
    },
    {
      "cell_type": "markdown",
      "metadata": {
        "id": "iauIr9SdhkcZ"
      },
      "source": [
        "**Hadamard product** of two matrices of the **same size**, resulting in a matrix of the same size, which is the product entry-by-entry\n"
      ]
    },
    {
      "cell_type": "markdown",
      "metadata": {
        "id": "Xaz7KuH0cBNm"
      },
      "source": [
        "(In partitioned matrices, the Khatri-Rao product can be seen as a generalized Hadamard product)"
      ]
    },
    {
      "cell_type": "markdown",
      "metadata": {
        "id": "6PX6HhsAZNN7"
      },
      "source": [
        "> Computing the <font color=\"blue\">quantum Hadamard transform is simply the **application of a Hadamard gate to each qubit individually because of the tensor product structure of the Hadamard transform**</font>. This simple result means the quantum Hadamard transform requires log  n operations, compared to the classical case of n log n operations."
      ]
    },
    {
      "cell_type": "markdown",
      "metadata": {
        "id": "xIf4erg7ZsmR"
      },
      "source": [
        "*The Hadamard product operates on identically shaped matrices and produces a third matrix of the same dimensions:*\n",
        "\n",
        "![ggg](https://upload.wikimedia.org/wikipedia/commons/0/00/Hadamard_product_qtl1.svg)"
      ]
    },
    {
      "cell_type": "markdown",
      "metadata": {
        "id": "JL3xBvEAYwnT"
      },
      "source": [
        "**Hadamard Product (Element-wise Multiplication)**\n",
        "\n",
        "* Hadamard product of two vectors is very similar to matrix addition, elements corresponding to same row and columns of given vectors/matrices are multiplied together to form a new vector/matrix.\n",
        "\n",
        "* The order of matrices/vectors to be multiplied should be same and the resulting matrix will also be of same order.\n",
        "\n",
        "* Example: (Matrix N is of same order as input matrices (2x3)\n",
        "):\n",
        "\n",
        "> $\\left[\\begin{array}{lll}3 & 5 & 7 \\\\ 4 & 9 & 8\\end{array}\\right] \\cdot\\left[\\begin{array}{lll}1 & 6 & 3 \\\\ 0 & 2 & 9\\end{array}\\right]=\\left[\\begin{array}{lll}3 \\times 1 & 5 \\times 6 & 7 \\times 3 \\\\ 4 \\times 0 & 9 \\times 2 & 8 \\times 9\\end{array}\\right] =\\left[\\begin{array}{lll}3 & 30 & 21 \\\\ 0 & 18 & 72\\end{array}\\right]$\n",
        "\n",
        "* Hadamard product is used in image compression techniques such as JPEG. It is also known as Schur product after German Mathematician, Issai Schur. Hadamard Product is used in LSTM (Long Short-Term Memory) cells of Recurrent Neural Networks (RNNs)."
      ]
    },
    {
      "cell_type": "markdown",
      "metadata": {
        "id": "Se8dN6XRjykD"
      },
      "source": [
        "**Hadamard Matrix**"
      ]
    },
    {
      "cell_type": "markdown",
      "metadata": {
        "id": "6tMZqzBLj4Gs"
      },
      "source": [
        "* a [Hadamard matrix](https://en.m.wikipedia.org/wiki/Hadamard_matrix) is a square matrix whose entries are either +1 or −1 and **whose rows are mutually orthogonal**. \n",
        "\n",
        "* In geometric terms, this means that **each pair of rows in a Hadamard matrix represents two perpendicular vectors**, while in combinatorial terms, it means that each pair of rows has matching entries in exactly half of their columns and mismatched entries in the remaining columns. \n",
        "\n",
        "* It is a consequence of this definition that the corresponding properties hold for columns as well as rows. The n-dimensional parallelotope spanned by the rows of an n×n Hadamard matrix has the maximum possible n-dimensional volume among parallelotopes spanned by vectors whose entries are bounded in absolute value by 1. \n",
        "\n",
        "* Equivalently, a Hadamard matrix has maximal determinant among matrices with entries of absolute value less than or equal to 1 and so is an extremal solution of [Hadamard's maximal determinant problem](https://en.m.wikipedia.org/wiki/Hadamard%27s_maximal_determinant_problem).\n",
        "\n",
        "* Certain Hadamard matrices can almost directly be used as an error-correcting code using a Hadamard code (generalized in Reed–Muller codes), and are also used in balanced repeated replication (BRR), used by statisticians to estimate the variance of a parameter estimator.\n"
      ]
    },
    {
      "cell_type": "markdown",
      "metadata": {
        "id": "ygiw4JYCkmzK"
      },
      "source": [
        "Let $H$ be a Hadamard matrix of order n. Then the partitioned matrix:\n",
        "\n",
        "> $\\left[\\begin{array}{cc}H & H \\\\ H & -H\\end{array}\\right]$\n",
        "\n",
        "is a Hadamard matrix of order 2n. This observation can be applied repeatedly and leads to the following sequence of matrices, also called [Walsh matrices](https://en.m.wikipedia.org/wiki/Walsh_matrix):\n",
        "\n",
        "> $H_{1}=[1]$\n",
        "\n",
        "> $H_{2}=\\left[\\begin{array}{cc}1 & 1 \\\\ 1 & -1\\end{array}\\right]$\n",
        "\n",
        "> $H_{4}=\\left[\\begin{array}{cccc}1 & 1 & 1 & 1 \\\\ 1 & -1 & 1 & -1 \\\\ 1 & 1 & -1 & -1 \\\\ 1 & -1 & -1 & 1\\end{array}\\right]$\n",
        "\n",
        "and\n",
        "\n",
        "> $\n",
        "H_{2^{k}}=\\left[\\begin{array}{cc}\n",
        "H_{2^{k-1}} & H_{2^{k-1}} \\\\\n",
        "H_{2^{k-1}} & -H_{2^{k-1}}\n",
        "\\end{array}\\right]=H_{2} \\otimes H_{2^{k-1}}\n",
        "$\n",
        "\n",
        "for $2 \\leq k \\in N$, where $\\otimes$ denotes the Kronecker product."
      ]
    },
    {
      "cell_type": "markdown",
      "metadata": {
        "id": "6c--DR86lFZn"
      },
      "source": [
        "*The Walsh matrices are a special case of Hadamard matrices. **Here is an example of a [Walsh matrix](https://en.m.wikipedia.org/wiki/Walsh_matrix) of order 16 multiplied with a vector**. (a Walsh matrix is a specific square matrix of dimensions $2^n$, where n are some particular natural number. The entries of the matrix are either +1 or −1 and its rows as well as columns are orthogonal, i.e. dot product is zero)*\n",
        "\n",
        "![gg](https://upload.wikimedia.org/wikipedia/commons/thumb/3/34/Walsh_16_%2A_Gould%27s-Morse.svg/640px-Walsh_16_%2A_Gould%27s-Morse.svg.png)"
      ]
    },
    {
      "cell_type": "markdown",
      "metadata": {
        "id": "kwLuliUfcdXH"
      },
      "source": [
        "**Hadamard Transform**"
      ]
    },
    {
      "cell_type": "markdown",
      "metadata": {
        "id": "gJ51vgmEckHI"
      },
      "source": [
        "* **The Hadamard transform is used extensively in quantum computing**. The 2 × 2 Hadamard transforms $H_{1}$ is the quantum logic gate known as the Hadamard gate, and **the application of a Hadamard gate to each qubit of an n-qubit register in parallel is equivalent to the Hadamard transform $H_{n}$**.\n",
        "\n",
        "* The Hadamard transform: also known as the Walsh–Hadamard transform, Hadamard–Rademacher–Walsh transform, Walsh transform, or Walsh–Fourier transform\n",
        "\n",
        "* **Hadamard transform is an example of a generalized class of [Fourier transforms](https://en.m.wikipedia.org/wiki/Fourier_transform)**. \n",
        "\n",
        "* It performs an orthogonal, symmetric, involutive, linear operation on $2^m$ real numbers (or complex, or hypercomplex numbers, although the Hadamard matrices themselves are purely real).\n",
        "\n",
        "* The Hadamard transform can be regarded as being built out of size-2 [discrete Fourier transforms (DFTs)](https://en.m.wikipedia.org/wiki/Discrete_Fourier_transform), and is in fact equivalent to a multidimensional DFT of size 2 × 2 × ⋯ × 2 × 2. It decomposes an arbitrary input vector into a superposition of [Walsh functions](https://en.m.wikipedia.org/wiki/Walsh_function)."
      ]
    },
    {
      "cell_type": "markdown",
      "metadata": {
        "id": "ihVXTXbIwRf7"
      },
      "source": [
        "###### **<font color=\"orange\">Explanation: Tensor Products $\\otimes$ in Quantum Mechanics**"
      ]
    },
    {
      "cell_type": "markdown",
      "metadata": {
        "id": "qsdQFfKrdqH2"
      },
      "source": [
        "**Two systems being described as a joint system:**\n",
        "\n",
        "1. the structure of the two systems is pre- served: \n",
        "\n",
        "2. a measurement on one of the systems does not disturb the other one; \n",
        "\n",
        "3. maximal information obtained on both systems separately gives maximal information on the joint system. \n",
        "\n",
        "With these conditions we show, within the framework of the propositional system formalism, that\n",
        "\n",
        "* if the systems are classical the joint system is described by the cartesian product of the corresponding phase spaces, and \n",
        "\n",
        "* if the systems are quantal the joint system is described by the tensor product of the corresponding Hilbert spaces.\n",
        "\n",
        "[Source: Paper Aerts](https://raw.githubusercontent.com/deltorobarba/papers/master/aerts.pdf)"
      ]
    },
    {
      "cell_type": "markdown",
      "metadata": {
        "id": "mS0U7KnLkYKg"
      },
      "source": [
        "**One should deal with at least two operator products:**\n",
        "\n",
        "* one is given by the composition of two operators defined on the same vector space = product yields an operator de!ned on the common vector space of the factor operators\n",
        "\n",
        "* the other is the direct or tensor product of operators = leads to an operator de!ned on a different vector space: the direct or tensor product of the vector spaces of the factor operators\n",
        "\n",
        "The Kronecker product and some of its physical applications (Francisco M Fernández)"
      ]
    },
    {
      "cell_type": "markdown",
      "metadata": {
        "id": "fQiJjQS5y99y"
      },
      "source": [
        "Consider two distinguishable particles: \n",
        "\n",
        "* Particle 1: its quantum mechanics is described by a complex vector space V. It has associated operators T1, T2, ..\n",
        "\n",
        "* Particle 2: its quantum mechanics is described by a complex vector space W. It has associated operators S1, S2, ..\n",
        "\n",
        "*This list of operators for each particle may include some or many of the operators you are already familiar with: position, momentum, spin, Hamiltonians, projectors, etc.*\n",
        "\n",
        "**Once we have two particles, the two of them together form our system.**\n",
        "\n",
        "* We are after the description of quantum states of this two-particle system. \n",
        "\n",
        "* On first thought, we may think that any state of this system should be described by giving the state v ∈ V of the first particle and the state w ∈ W of the second particle. \n",
        "\n",
        "* This information could be represented by the ordered list (v, w) where the first item is the state of the first particle and the second item the state of the second particle. This is a state of the two-particle system, but it is far from being the general state of the two-particle system. It misses remarkable new possibilities, as we shall soon see.\n",
        "\n",
        "We thus introduce a new notation. Instead of representing the state of the two-particle system with particle one in $v$ and particle two in $w$ as $(v, w)$, **we will represent it as $v \\otimes w$**. \n",
        "\n",
        "* <font color=\"blue\">This element $v \\otimes w$ will be viewed as a vector in a new vector space $V \\otimes W$ that will carry the description of the quantum states of the system of two particles.</font> \n",
        "\n",
        "* <font color=\"blue\">This $\\otimes$ operation is called the \"tensor product.\" In this case we have two vector spaces over $\\mathbb{C}$ **and the tensor product $V \\otimes W$ is a new complex vector space**:</font>\n",
        "\n",
        "> $v \\otimes w \\in V \\otimes W \\quad$ when $\\quad v \\in V, w \\in W$\n",
        "\n",
        "$\\operatorname{In} v \\otimes w$ there is no multiplication to be carried out, we are just placing one vector to the left of $\\otimes$ and another to the right of $\\otimes$.\n",
        "\n",
        "We have only described some elements of $V \\otimes W$, not quite given its definition yet. We now explain two physically motivated rules that define the tensor product completely.\n"
      ]
    },
    {
      "cell_type": "markdown",
      "metadata": {
        "id": "XJO6IWfuwbLQ"
      },
      "source": [
        "<font color=\"blue\">**<u>Rule 1</u>: If the vector representing the state of the first particle is scaled by a complex number this is equivalent to scaling the state of the two particles. The same for the second particle. So we declare:**</font>\n",
        "\n",
        "> <font color=\"blue\">$(a v) \\otimes w=v \\otimes(a w)=a(v \\otimes w), \\quad a \\in \\mathbb{C}$\n"
      ]
    },
    {
      "cell_type": "markdown",
      "metadata": {
        "id": "Msu1-tK4x902"
      },
      "source": [
        "* like in tensor algebra the linear map bzw. bilinear map, where a factor is attached only to one of two, not both"
      ]
    },
    {
      "cell_type": "markdown",
      "metadata": {
        "id": "6vyyAbWGwtpd"
      },
      "source": [
        "<font color=\"blue\">**<u>Rule 2</u>: If the state of the first particle is a superposition of two states, the state of the two-particle system is also a superposition. We thus demand distributive properties for the tensor product:**</font>\n",
        "\n",
        "> <font color=\"blue\">$\\left(v_{1}+v_{2}\\right) \\otimes w=v_{1} \\otimes w+v_{2} \\otimes w$\n",
        "\n",
        "> <font color=\"blue\">$v \\otimes\\left(w_{1}+w_{2}\\right)=v \\otimes w_{1}+v \\otimes w_{2}$"
      ]
    },
    {
      "cell_type": "markdown",
      "metadata": {
        "id": "alIL1kDvwVev"
      },
      "source": [
        "Example in Quantum Phase Estimation: We first perform a Hadamard gate on the first qubit to get the state and then distribute the superposition (omitted the normalization factor of 1/√2 for clarity):\n",
        "\n",
        "  * Original state of both qubits: $|0\\rangle \\otimes|\\psi\\rangle$\n",
        "  \n",
        "  * Hadamard on first qubit: $|+\\rangle \\otimes|\\psi\\rangle$ =\n",
        "  \n",
        "  * <font color=\"red\">Distribute superposition: $|0\\rangle|\\psi\\rangle+|1\\rangle|\\psi\\rangle$</font>"
      ]
    },
    {
      "cell_type": "markdown",
      "metadata": {
        "id": "V_unRGRox6cN"
      },
      "source": [
        "> The tensor product $V \\otimes W$ is thus defined to be the vector space whose elements are **(complex) linear combinations** of elements of the form $v \\otimes w$, with $v \\in V, w \\in W$, with the above rules for manipulation. The tensor product $V \\otimes W$ is the complex vector space of states of the two-particle system!"
      ]
    },
    {
      "cell_type": "markdown",
      "metadata": {
        "id": "QPYQkyiN035h"
      },
      "source": [
        "**Comment: Let $v_{1}, v_{2} \\in V$ and $w_{1}, w_{2} \\in W$. A vector in $V \\otimes W$ constructed by superposition is**\n",
        "\n",
        "> $\n",
        "\\alpha_{1}\\left(v_{1} \\otimes w_{1}\\right)+\\alpha_{2}\\left(v_{2} \\otimes w_{2}\\right) \\in V \\otimes W\n",
        "$\n",
        "\n",
        "<font color=\"blue\">This shows clearly that a general state of the two-particle system cannot be described by stating the state of the first particle and the state of the second particle</font>. The above superpositions give rise to entangled states. An entangled state of the two particles is one that, roughly, **cannot be disentangled into separate states of each of the particles**."
      ]
    },
    {
      "cell_type": "markdown",
      "metadata": {
        "id": "fA8NadgKG45q"
      },
      "source": [
        "*Explanation 1*"
      ]
    },
    {
      "cell_type": "markdown",
      "metadata": {
        "id": "Y_G6vBUh9Ibl"
      },
      "source": [
        "* **The \"Kronecker product\", better known as the tensor product**, is the natural notion of a product for spaces of states, when these are considered properly:\n",
        "\n",
        "* **A space of states is not a Hilbert space $\\mathcal{H}$, but the projective Hilbert space $\\mathbb{P} \\mathcal{H}$ associated to it**. This is the statement that quantum states are rays in a Hilbert space.\n",
        "\n",
        "* <font color=\"blue\">Now, **why does the physical notion of combining the spaces of states of individual systems into a space of states of the combined system correspond to taking the tensor product?**</font>\n",
        "\n",
        "  * The reason is that <font color=\"blue\">**we want every action of an operator (which are linear maps) on the individual states to define an action on the combined state**</font> \n",
        "  \n",
        "  * and the tensor product is exactly that, since, <font color=\"red\">for every pair of linear maps $T_{i}: \\mathcal{H}_{i} \\rightarrow \\mathcal{H}$ (which is a bilinear map $\\left(T_{1}, T_{2}\\right): \\mathcal{H}_{1} \\times \\mathcal{H}_{2} \\rightarrow \\mathcal{H}$ ) there is a unique linear map $T_{1} \\otimes T_{2}: \\mathcal{H}_{1} \\otimes \\mathcal{H}_{2} \\rightarrow \\mathcal{H}$</font>\n",
        "\n",
        "* Alternatively, <font color=\"blue\">**concentrating more on the projective nature of the spaces of states, we observe that $|\\psi\\rangle$ and $a|\\psi\\rangle$ are the same state for any $a \\in \\mathbb{C}$.**</font> Therefore, denoting the sought-for physical product by $\\otimes$ (i.e. not assuming it is the tensor product), we must demand that\n",
        "\n",
        "><font color=\"red\">$\n",
        "|\\psi\\rangle \\otimes|\\phi\\rangle=(a|\\psi\\rangle) \\otimes|\\phi\\rangle=a(|\\psi\\rangle \\otimes|\\phi\\rangle)\n",
        "$</font>\n",
        "\n",
        "* since the states produced by $|\\psi\\rangle$ and $a|\\psi\\rangle$ must yield the same state, i.e. map onto the same projective state. **This obviously fails for the cartesian product, since the pair $(a|\\psi\\rangle,|\\phi\\rangle)$ <u>is not a multiple</u> of the $\\operatorname{pair}(|\\psi\\rangle,|\\phi\\rangle)$, but it is true for the tensor product**.\n",
        "\n",
        "\n",
        "https://physics.stackexchange.com/questions/148378/importance-of-kronecker-product-in-quantum-computation"
      ]
    },
    {
      "cell_type": "markdown",
      "metadata": {
        "id": "2ycbDlYKG0P_"
      },
      "source": [
        "*Explanation 2*"
      ]
    },
    {
      "cell_type": "markdown",
      "metadata": {
        "id": "WYPlcm43FyX_"
      },
      "source": [
        "* In der Mathematik können mit Hilfe des Tensorprodukts (Kronecker-Produkts) von PauliMatrizen (mit Einheitsmatrix) die Darstellungen der höheren Clifford-Algebren über den reellen Zahlen aufgebaut werden.\n",
        "\n",
        "* Pauli-Matrizen können zur Darstellung von Hamilton-Operatoren und zur Näherung der Exponentialfunktion solcher Operatoren verwendet werden. Sind $\\sigma_{0}, \\sigma_{1}, \\sigma_{2}, \\sigma_{3}$ die vier Pauli-Matrizen, so kann man mit Hilfe des Kronecker-Produkt höherdimensionale Matrizen erzeugen.\n",
        "\n",
        "> $\n",
        "p:=\\sigma_{\\mu_{1}} \\otimes \\sigma_{\\mu_{2}} \\otimes \\ldots \\otimes \\sigma_{\\mu_{n}} \\quad ; \\quad \\mu_{1}, \\mu_{2}, \\ldots, \\mu_{n} \\in\\{0,1,2,3\\} \\quad ; \\quad n \\in \\mathbb{N}\n",
        "$\n",
        "\n",
        "* **Das Kronecker-Produkt von Pauli-Matrizen tritt bei der Beschreibung von Spin-1/2-Systemen auf, die aus mehreren Teilsystemen aufgebaut sind**. \n",
        "\n",
        "* Der Zusammenhang ist dadurch gegeben, dass **das Tensorprodukt zweier Operatoren in der zugehörigen Matrixdarstellung durch das Kronecker-Produkt der Matrizen gegeben ist** (siehe [Kronecker-Produkt#Zusammenhang mit Tensorprodukten](https://de.wikipedia.org/wiki/Kronecker-Produkt#Zusammenhang_mit_Tensorprodukten)).\n",
        "\n",
        "\n",
        "https://de.wikipedia.org/wiki/Pauli-Matrizen#Kronecker-Produkt_von_Pauli-Matrizen"
      ]
    },
    {
      "cell_type": "markdown",
      "metadata": {
        "id": "yxn_ppLjG3u-"
      },
      "source": [
        "*Explanation 3*"
      ]
    },
    {
      "cell_type": "markdown",
      "metadata": {
        "id": "wpiJjuboCF_o"
      },
      "source": [
        "* The kronecker product in group theory is widely used, especially with [Wigner D-function](https://de.wikipedia.org/wiki/Wignersche_D-Matrix)\n",
        "\n",
        "* The main purpose of its use in physics is to get the higher dimensional vector space. For example, in atomic physics, when we want to calculate the eigenvalues and eigenvectors of a system of spins 1/2 or spin Hamiltonian. \n",
        "\n",
        "* We analytically or with the help of computer diagonalize spin Hamiltonian and find eigenvectors and eigenvalues with the kronecker product:\n",
        "\n",
        "  * By appling the kronecker product between differnt spins matrices e.g., two matrices (dimensions 2 × 2) of spins 1/2, we will get the matrix of dimensions (4 × 4). \n",
        "  \n",
        "  * This method is very compact, which means we can use the computer to get the eigenvectors and eigenvalues of matrix after applying kronecker product for higher number of spins e.g., for the system of spins 1/2.\n",
        "\n",
        "https://arxiv.org/abs/quant-ph/0104019"
      ]
    },
    {
      "cell_type": "markdown",
      "metadata": {
        "id": "EBX7w7K0G6RY"
      },
      "source": [
        "*Explanation 4*"
      ]
    },
    {
      "cell_type": "markdown",
      "metadata": {
        "id": "vc_fh1Etqqem"
      },
      "source": [
        "In quantum theory the analog of a Cartesian product of classical phase spaces is a tensor product of Hilbert spaces.\n",
        "\n",
        "https://quantum.phys.cmu.edu/CQT/chaps/cqt06.pdf"
      ]
    },
    {
      "cell_type": "markdown",
      "metadata": {
        "id": "szGTFUIjG_id"
      },
      "source": [
        "*Explanation 5*"
      ]
    },
    {
      "cell_type": "markdown",
      "metadata": {
        "id": "OGjTgMqUo6PF"
      },
      "source": [
        "How do you describe the combined state of two qubits? **Remember that each qubit is a vector space, so they can't just be multiplied**. Instead, you use a tensor product, which is a related operation that creates a new vector space from individual vector spaces, and is represented by the $\\otimes$ symbol. \n",
        "\n",
        "For example, the tensor product of two qubit states $\\left[\\begin{array}{l}a \\\\ b\\end{array}\\right]$ and $\\left[\\begin{array}{l}c \\\\ d\\end{array}\\right]$ is calculated\n",
        "\n",
        "> $\\left[\\begin{array}{l}a \\\\ b\\end{array}\\right] \\otimes\\left[\\begin{array}{l}c \\\\ d\\end{array}\\right]=\\left[\\begin{array}{l}a\\left[\\begin{array}{l}c \\\\ d\\end{array}\\right] \\\\ b\\left[\\begin{array}{l}c \\\\ d\\end{array}\\right]\\end{array}\\right]=\\left[\\begin{array}{c}a c \\\\ a d \\\\ b c \\\\ b d\\end{array}\\right]$\n",
        "\n",
        "The result is a four-dimensional matrix, with each element representing a probability. \n",
        "\n",
        "For example, $a c$ is the probability of the two qubits collapsing to 0 and $0, a d$ is the probability of 0 and 1, and so on.\n",
        "\n",
        "Just as a single qubit state $\\left[\\begin{array}{l}a \\\\ b\\end{array}\\right]$ must meet the requirement that $|a|^{2}+|b|^{2}=1$ in order to represent a quantum state, \n",
        "\n",
        "a two-qubit state $\\left[\\begin{array}{c}a c \\\\ a d \\\\ b c \\\\ b d\\end{array}\\right]$ must meet the requirement that $|a c|^{2}+|a d|^{2}+|b c|^{2}+|b d|^{2}=1$\n",
        "\n",
        "https://docs.microsoft.com/en-us/azure/quantum/overview-algebra-for-quantum-computing"
      ]
    },
    {
      "cell_type": "markdown",
      "metadata": {
        "id": "E0KTafl9HBJp"
      },
      "source": [
        "*Explanation 6*"
      ]
    },
    {
      "cell_type": "markdown",
      "metadata": {
        "id": "Hip1EQTLkbJP"
      },
      "source": [
        "If we have a set, denoted by 'a', of possible outcomes from one event and a set of outcomes for another event, denoted by 'b', then the possible outcomes for the union event is always the tensor product a⊗b.\n",
        "\n",
        "https://www.quora.com/What-is-a-tensor-product-in-quantum-mechanics"
      ]
    },
    {
      "cell_type": "markdown",
      "metadata": {
        "id": "3PqHH8knHQES"
      },
      "source": [
        "*Explanation 7*"
      ]
    },
    {
      "cell_type": "markdown",
      "metadata": {
        "id": "fT_LMYNPHNQg"
      },
      "source": [
        "At some point in the history of quantum mechanics, it was accepted that a single particle is described by a wavefunction which is a function of the position of the particle r, denoted:\n",
        "\n",
        "> ψ\n",
        "(\n",
        "r\n",
        ")\n",
        ".\n",
        "\n",
        "At some (possibly later) point it was also accepted that two particles are described by a wavefunction which is a function of the positions of each one of the particles, r1 and r2, denoted:\n",
        "\n",
        "> ψ\n",
        "(\n",
        "r\n",
        "1\n",
        ",\n",
        "r\n",
        "2\n",
        ")\n",
        ".\n",
        "\n",
        "In other words, the Hilbert space describing the two-particle system is the tensor product of the Hilbert spaces describing the system of each particle.\n",
        "\n",
        "https://physics.stackexchange.com/questions/53039/when-and-how-did-the-idea-of-the-tensor-product-originate-in-the-history-quantum"
      ]
    },
    {
      "cell_type": "markdown",
      "metadata": {
        "id": "OsENlOUbHSAr"
      },
      "source": [
        "*Explanation 8*"
      ]
    },
    {
      "cell_type": "markdown",
      "metadata": {
        "id": "HZ7mkt35HJIn"
      },
      "source": [
        "Tensor Products are used to describe systems consisting of multiple subsystems. Each subsystem is described by a vector in a vector space (Hilbert space). For example, let us have two systems I and $/ /$ with their corresponding Hilbert spaces $H_{1}$ and $H_{11}$. Thus, using the bra-ket notation, the vectors $\\left|\\Psi_{1}\\right\\rangle$ and $\\mid \\Psi_{I I}$ ) describe the states of system I and $\\|$ with the state of the total system given by the tensor product $\\left|\\psi_{i}\\right\\rangle \\otimes\\left|\\psi_{1 I}\\right\\rangle$.\n",
        "\n",
        "https://www.quantiki.org/wiki/tensor-product"
      ]
    },
    {
      "cell_type": "markdown",
      "metadata": {
        "id": "hGiFBtVIHTK5"
      },
      "source": [
        "*Explanation 9*"
      ]
    },
    {
      "cell_type": "markdown",
      "metadata": {
        "id": "6s2fOxMrHGiA"
      },
      "source": [
        "The Hilbert space of a composite system is the Hilbert space tensor product of the state spaces associated with the component systems\n",
        "\n",
        "https://en.wikipedia.org/wiki/Mathematical_formulation_of_quantum_mechanics"
      ]
    },
    {
      "cell_type": "markdown",
      "metadata": {
        "id": "MHJqp0Gu_1pf"
      },
      "source": [
        "Others:"
      ]
    },
    {
      "cell_type": "markdown",
      "metadata": {
        "id": "_orttAeHpmPJ"
      },
      "source": [
        "https://en.wikipedia.org/wiki/Tensor_product_of_Hilbert_spaces"
      ]
    },
    {
      "cell_type": "markdown",
      "metadata": {
        "id": "MnsspWdFnT3I"
      },
      "source": [
        "https://en.wikipedia.org/wiki/Mathematical_formulation_of_quantum_mechanics"
      ]
    },
    {
      "cell_type": "markdown",
      "metadata": {
        "id": "eAc19kjyneYL"
      },
      "source": [
        "https://en.wikipedia.org/wiki/Matrix_mechanics"
      ]
    },
    {
      "cell_type": "markdown",
      "metadata": {
        "id": "XyPs7AvJ_2fQ"
      },
      "source": [
        "http://pi.math.cornell.edu/~mec/Winter2009/RalucaRemus/Lecture1/lecture1.html"
      ]
    },
    {
      "cell_type": "markdown",
      "metadata": {
        "id": "ahHgMtcV_3h6"
      },
      "source": [
        "https://docs.microsoft.com/de-de/azure/quantum/overview-algebra-for-quantum-computing"
      ]
    },
    {
      "cell_type": "markdown",
      "metadata": {
        "id": "Scoins-x4KF2"
      },
      "source": [
        "**Is there any difference between tensor product and Kronecker Product?**"
      ]
    },
    {
      "cell_type": "markdown",
      "metadata": {
        "id": "xA0hmY4PL9A1"
      },
      "source": [
        "*Explanation 1*"
      ]
    },
    {
      "cell_type": "markdown",
      "metadata": {
        "id": "95fSZRPR-zyx"
      },
      "source": [
        "We can see a lot of similarities between:\n",
        "* **the Kronecker product for matrices** and \n",
        "* **the tensor product for abstract Hilbert spaces.**\n",
        "\n"
      ]
    },
    {
      "cell_type": "markdown",
      "metadata": {
        "id": "PRdQkd3SALRE"
      },
      "source": [
        "* If a vector can be expressed as the tensor product of two vectors, we call it a product vector, i.e., $|\\Psi\\rangle$ **is a product vector** if $|\\Psi\\rangle=|\\phi \\otimes \\chi\\rangle$ for some $|\\phi\\rangle$ and $|\\chi\\rangle$. Any nonproduct vector is called entangled. The entangled states of a composite system occupy a distinguished position in the interpretation of quantum mechanics. \n",
        "\n",
        "* We would like to define a <font color=\"blue\">**tensor product for abstract Hilbert spaces**</font>. \n",
        "\n",
        "* The main need for this comes from the necessity of <font color=\"blue\">**describing composite quantum systems**</font>. \n",
        "\n",
        "* If we have two different systems $\\mathrm{A}$ and $\\mathrm{B}$, then **we have separate Hilbert spaces**, say $\\mathcal{H}_{A}$ and $\\mathcal{H}_{B}$, for describing the quantum states of these systems. \n",
        "\n",
        "* Basically a vector $|\\alpha\\rangle_{A}$ in $\\mathcal{H}_{A}$ gives a state of $\\mathrm{A}$ and a vector $|\\beta\\rangle_{B}$ in $\\mathcal{H}_{B}$ gives a state of $\\mathrm{B}$. \n",
        "\n",
        "* In a similar way, we should <font color=\"blue\">**have an entirely different Hilbert space** $\\mathcal{H}_{A B}$ for describing the states of the composite system AB.</font> \n",
        "\n",
        "* In particular, we would like to have a vector in $\\mathcal{H}_{A B}$ that describes the state of $\\mathrm{AB}$ such that $\\mathrm{A}$ is in state $\\mid \\alpha \\rangle_{A}$ and $\\mathrm{B}$ is in state $|\\beta\\rangle_{B}$. We will denote this state as $|\\alpha\\rangle_{A} \\otimes|\\beta\\rangle_{B}$. \n",
        "\n",
        "* We will also want to have this product $\\otimes$ be such that superpositions of states in $\\mathrm{A}$ or in B could also be equivalently described as superpositions of states in $\\mathrm{AB} ;$ hence **distributivity**.\n",
        "\n",
        "http://www.physics.metu.edu.tr/~sturgut/p455/qm-math4.pdf"
      ]
    },
    {
      "cell_type": "markdown",
      "metadata": {
        "id": "nXoZ-TR6L9-i"
      },
      "source": [
        "*Explanation 2*"
      ]
    },
    {
      "cell_type": "markdown",
      "metadata": {
        "id": "POsSAPWn4ONl"
      },
      "source": [
        "* **The two notions represent operations on different objects: Kronecker product on matrices; tensor product on linear maps between vector spaces**.\n",
        "\n",
        "* But there is a connection: Given two matrices, we can think of them as representing linear maps between vector spaces equipped with a chosen basis.\n",
        "\n",
        "* The Kronecker product of the two matrices then represents the tensor product of the two linear maps.\n",
        "\n",
        "* (This claim makes sense because the tensor product of two vector spaces with distinguished bases comes with a distinguish basis.)\n",
        "\n",
        "https://math.stackexchange.com/questions/203947/tensor-product-and-kronecker-product"
      ]
    },
    {
      "cell_type": "markdown",
      "metadata": {
        "id": "5-hVNe_kL_JW"
      },
      "source": [
        "*Explanation 3*"
      ]
    },
    {
      "cell_type": "markdown",
      "metadata": {
        "id": "m2JvoYFw4kIy"
      },
      "source": [
        "Sometimes the Kronecker product is also called direct product\n",
        "or tensor product.\n",
        "\n",
        "https://www.worldscientific.com/doi/pdf/10.1142/9789811202520_0002"
      ]
    },
    {
      "cell_type": "markdown",
      "metadata": {
        "id": "-1uMILs6MAo9"
      },
      "source": [
        "*Explanation 4*"
      ]
    },
    {
      "cell_type": "markdown",
      "metadata": {
        "id": "NgAOBxq56GAc"
      },
      "source": [
        "* |u> <v| is a way of writing the <font color=\"blue\">**tensor product of a vector and a dual vector**</font> (ie, an element of the Hilbert space and an element of its dual, which is usually casually identified with the Hilbert space using the inner product). \n",
        "\n",
        "* This is a linear operator on the Hilbert space, sending |w > to <v|w>|u>. \n",
        "\n",
        "* In general, the tensor product of a vector space and its dual is the space of (finite rank) linear operators on the vector space.\n",
        "\n",
        "* On the other hand, |u>|v> is an element of the tensor product of the vector space with itself, usually used in physics for describing a composite of two identical systems. Again, since there is an isomorphism between the vector space and its dual, there is one between the space of composite states and the space of linear operators. This is interesting, but I've never seen this put to good use. \n",
        "\n",
        "* Finally, **the Kronecker product is just a particular representation of the tensor product, convenient for dealing with tensor products of linear operators**.\n",
        "\n",
        "Source https://www.physicsforums.com/threads/difference-between-the-outer-product.236244/"
      ]
    },
    {
      "cell_type": "markdown",
      "metadata": {
        "id": "aKEzBKagMB1t"
      },
      "source": [
        "*Explanation 5*"
      ]
    },
    {
      "cell_type": "markdown",
      "metadata": {
        "id": "5K9Cf2FZ8IMz"
      },
      "source": [
        "the Kronecker product and tensor product essentially have the same mathematical \"actions\" (an expanded matrix with dimensions equal to the product of the two matrices), but the tensor product explicitly applies only to matrices representing linear maps.\n",
        "\n",
        "Every matrix represents a linear map. \n",
        "\n",
        "Linear maps are in some sense more general than matrices. They are also different (types of) objects, even though matrices can be used to represent _some_ linear maps. The matrix representation of a particular linear map depends on the choice of basis of the domain and target space, for example, whereas the linear map itself is invariant under such choices. On the other hand a matrix can also represent a bilinear form, not just a linear map. Consider reading Axler's _Linear Algebra Done Right_ for a good explanation of some of such subtleties. \n",
        "\n",
        "https://math.stackexchange.com//questions/203947"
      ]
    }
  ]
}