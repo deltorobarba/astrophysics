{
  "nbformat": 4,
  "nbformat_minor": 0,
  "metadata": {
    "colab": {
      "name": "matrix.ipynb",
      "provenance": [],
      "collapsed_sections": [
        "636j_-_hEsFq",
        "SIMbMaUDHB3j",
        "HMmIn-HUEykz",
        "JigccOCnE4NL",
        "XuNsKvz2FWMd",
        "2Aoj2PpxvDQV",
        "qznCml3sFnUQ",
        "Bfkc_-jIFtmU"
      ],
      "toc_visible": true,
      "include_colab_link": true
    },
    "kernelspec": {
      "name": "python3",
      "display_name": "Python 3"
    }
  },
  "cells": [
    {
      "cell_type": "markdown",
      "metadata": {
        "id": "view-in-github",
        "colab_type": "text"
      },
      "source": [
        "<a href=\"https://colab.research.google.com/github/deltorobarba/machinelearning/blob/master/matrix.ipynb\" target=\"_parent\"><img src=\"https://colab.research.google.com/assets/colab-badge.svg\" alt=\"Open In Colab\"/></a>"
      ]
    },
    {
      "cell_type": "markdown",
      "metadata": {
        "id": "636j_-_hEsFq"
      },
      "source": [
        "# **Matrix Factorization**"
      ]
    },
    {
      "cell_type": "code",
      "metadata": {
        "id": "uMCcff-NHGgt"
      },
      "source": [
        "import numpy as np\n",
        "import pandas as pd\n",
        "import seaborn as sns\n",
        "import matplotlib.pyplot as plt"
      ],
      "execution_count": null,
      "outputs": []
    },
    {
      "cell_type": "markdown",
      "metadata": {
        "id": "SIMbMaUDHB3j"
      },
      "source": [
        "# **LU Decomposition**"
      ]
    },
    {
      "cell_type": "markdown",
      "metadata": {
        "id": "06ms9XQkR0Ts"
      },
      "source": [
        "## **Characteristics of an LU Decomposition**"
      ]
    },
    {
      "cell_type": "markdown",
      "metadata": {
        "id": "_uDrmirVPSXe"
      },
      "source": [
        "The LU decomposition is often used to simplify the **solving of systems of linear equations**, such as **finding the coefficients in a linear regression**, as well as in **calculating the determinant and inverse** of a matrix.\n",
        "\n",
        "* Lower–upper (LU) decomposition or factorization factors a matrix as the product of a lower triangular matrix and an upper triangular matrix. \n",
        "\n",
        "* The product sometimes includes a permutation matrix as well. LU decomposition can be viewed as the matrix form of Gaussian elimination. \n",
        "\n",
        "* Computers usually solve square systems of linear equations using LU decomposition, and it is also a key step when inverting a matrix or computing the determinant of a matrix."
      ]
    },
    {
      "cell_type": "markdown",
      "metadata": {
        "id": "7fK7BDsnHRgk"
      },
      "source": [
        "The **LU decomposition is for square matrices** and decomposes a matrix into L and U components. Let A be a square matrix. An LU factorization refers to the factorization of A, with proper row and/or column orderings or permutations, into two factors – a **lower triangular matrix L** and an **upper triangular matrix U**:\n",
        "\n",
        "> A = L U\n",
        "\n",
        "* The LU decomposition is found using an <u>iterative numerical process</u> and **can fail for those matrices that cannot be decomposed or decomposed easily**.\n",
        "\n",
        "* In the lower triangular matrix all elements above the diagonal are zero, in the upper triangular matrix, all the elements below the diagonal are zero. For example, for a 3 × 3 matrix A, its LU decomposition looks like this:"
      ]
    },
    {
      "cell_type": "markdown",
      "metadata": {
        "id": "P0NjEcfOQBFu"
      },
      "source": [
        "> $\\left[\\begin{array}{lll}\n",
        "a_{11} & a_{12} & a_{13} \\\\\n",
        "a_{21} & a_{22} & a_{23} \\\\\n",
        "a_{31} & a_{32} & a_{33}\n",
        "\\end{array}\\right]=\\left[\\begin{array}{ccc}\n",
        "l_{11} & 0 & 0 \\\\\n",
        "l_{21} & l_{22} & 0 \\\\\n",
        "l_{31} & l_{32} & l_{33}\n",
        "\\end{array}\\right]\\left[\\begin{array}{ccc}\n",
        "u_{11} & u_{12} & u_{13} \\\\\n",
        "0 & u_{22} & u_{23} \\\\\n",
        "0 & 0 & u_{33}\n",
        "\\end{array}\\right]$"
      ]
    },
    {
      "cell_type": "markdown",
      "metadata": {
        "id": "PcKH3CXHSPTV"
      },
      "source": [
        "**Underdeterminism & Unit Triangular Matrix**\n",
        "\n",
        "* Sometimes **equations is [underdetermined](https://en.m.wikipedia.org/wiki/Underdetermined_system)**. In this case any two non-zero elements of L and U matrices are parameters of the solution and can be set arbitrarily to any non-zero value. \n",
        "\n",
        "* Therefore, to find the unique LU decomposition, it is **necessary to put some restriction on L and U matrices**. For example, we can conveniently require the lower triangular matrix L to be a **unit triangular matrix** (i.e. set all the entries of its main diagonal to ones). "
      ]
    },
    {
      "cell_type": "markdown",
      "metadata": {
        "id": "7wrOC5iYU6jk"
      },
      "source": [
        "**Square matrices**\n",
        "\n",
        "* Any square matrix A admits an LUP factorization. If A is [invertible](https://en.m.wikipedia.org/wiki/Invertible_matrix), then it admits an LU (or LDU) factorization if and only if all its leading principal [minors](https://en.m.wikipedia.org/wiki/Minor_(linear_algebra)) are nonzero. \n",
        "\n",
        "* If A is a singular matrix of rank k, then it admits an LU factorization if the first k leading principal minors are nonzero, although the converse is not true.\n",
        "\n",
        "* If a square, invertible matrix has an LDU (factorization with all diagonal entries of L and U equal to 1), then the factorization is unique. In that case, the LU factorization is also unique if we require that the diagonal of L (or U) consists of ones."
      ]
    },
    {
      "cell_type": "markdown",
      "metadata": {
        "id": "EdqfrMkFVmOO"
      },
      "source": [
        "**Symmetric positive definite matrices**\n",
        "\n",
        "* If A is a symmetric (or [Hermitian](https://en.m.wikipedia.org/wiki/Hermitian_matrix), if A is complex) [positive definite](https://en.m.wikipedia.org/wiki/Definite_symmetric_matrix) matrix, we can arrange matters so that U is the [conjugate transpose](https://en.m.wikipedia.org/wiki/Conjugate_transpose) of L. That is, we can write A as\n",
        "\n",
        "> A = LL*\n",
        "\n",
        "* This decomposition is called the **Cholesky decomposition**. The Cholesky decomposition always exists and is unique — provided the matrix is positive definite. \n",
        "\n",
        "* Furthermore, computing the Cholesky decomposition is more efficient and [numerically more stable](https://en.m.wikipedia.org/wiki/Numerical_stability) than computing some other LU decompositions."
      ]
    },
    {
      "cell_type": "markdown",
      "metadata": {
        "id": "MoLAEHYLVf7q"
      },
      "source": [
        "**General matrices**\n",
        "\n",
        "* For a (not necessarily invertible) matrix over any field, the exact necessary and sufficient conditions under which it has an LU factorization are known. \n",
        "\n",
        "* The conditions are expressed in terms of the ranks of certain submatrices. The Gaussian elimination algorithm for obtaining LU decomposition has also been extended to this most general case."
      ]
    },
    {
      "cell_type": "markdown",
      "metadata": {
        "id": "NScrUC_NTUqh"
      },
      "source": [
        "## **Variations of LU Decomposition**"
      ]
    },
    {
      "cell_type": "markdown",
      "metadata": {
        "id": "ARKrYJtXUFV1"
      },
      "source": [
        "**LU factorization with partial pivoting (LUP Decomposition)**"
      ]
    },
    {
      "cell_type": "markdown",
      "metadata": {
        "id": "6JJYuQ1qSz8n"
      },
      "source": [
        "A variation of this decomposition that is numerically more stable to solve in practice is called the LUP decomposition, or the **LU decomposition with partial pivoting**.\n",
        "\n",
        "> A = P L U\n",
        "\n",
        "The rows of the parent matrix are re-ordered to simplify the decomposition process and the **additional P matrix specifies a way to permute the result or return the result to the original order**."
      ]
    },
    {
      "cell_type": "markdown",
      "metadata": {
        "id": "xvQWQRRBUYUL"
      },
      "source": [
        "It turns out that a proper permutation in rows (or columns) is sufficient for LU factorization. LU factorization with partial pivoting (LUP) refers often to LU factorization with row permutations only:\n",
        "\n",
        "> PA = LU\n",
        "\n",
        "where L and U are again lower and upper triangular matrices, and P is a [permutation matrix](https://en.m.wikipedia.org/wiki/Permutation_matrix)*, which, when left-multiplied to A, reorders the rows of A. It turns out that all square matrices can be factorized in this form, and the factorization is numerically stable in practice. This makes LUP decomposition a useful technique in practice.\n",
        "\n",
        "*A permutation matrix is a square binary matrix that has exactly one entry of 1 in each row and each column and 0s elsewhere.*"
      ]
    },
    {
      "cell_type": "markdown",
      "metadata": {
        "id": "fHbBijklUI1_"
      },
      "source": [
        "**LU factorization with full pivoting**"
      ]
    },
    {
      "cell_type": "markdown",
      "metadata": {
        "id": "sqpDBr0MUNdO"
      },
      "source": [
        "An LU factorization with full pivoting involves both row and column permutations:\n",
        "\n",
        "> PAQ = LU\n",
        "\n",
        "where L, U and P are defined as before, and Q is a permutation matrix that reorders the columns of A."
      ]
    },
    {
      "cell_type": "markdown",
      "metadata": {
        "id": "wtM3ZbIRQ_ZV"
      },
      "source": [
        "**LDU Decomposition**"
      ]
    },
    {
      "cell_type": "markdown",
      "metadata": {
        "id": "FVfgCceCRmCu"
      },
      "source": [
        "An LDU decomposition is a decomposition of the form\n",
        "\n",
        "> A = LDU\n",
        "\n",
        "where D is a diagonal matrix, and L and U are unitriangular matrices, meaning that all the entries on the diagonals of L and U are one.\n",
        "\n",
        "Below we required that A be a square matrix, but these decompositions can all be generalized to rectangular matrices as well. In that case, **L and D are square matrices** both of which have the same number of rows as A, and U has exactly the same dimensions as A. Upper triangular should be interpreted as having only zero entries below the main diagonal, which starts at the upper left corner."
      ]
    },
    {
      "cell_type": "markdown",
      "metadata": {
        "id": "SgwgHKNRRCpn"
      },
      "source": [
        "![LDU decomposition of a Walsh matrix](https://upload.wikimedia.org/wikipedia/commons/thumb/8/84/LDU_decomposition_of_Walsh_16.svg/640px-LDU_decomposition_of_Walsh_16.svg.png)\n",
        "\n",
        "*LDU decomposition of a [Walsh matrix](https://en.m.wikipedia.org/wiki/Walsh_matrix)*"
      ]
    },
    {
      "cell_type": "markdown",
      "metadata": {
        "id": "6TfIjoZITagA"
      },
      "source": [
        "## **Example**"
      ]
    },
    {
      "cell_type": "markdown",
      "metadata": {
        "id": "UNuYRYpUJUHQ"
      },
      "source": [
        "**Define Matrix**"
      ]
    },
    {
      "cell_type": "code",
      "metadata": {
        "id": "8LQILavQHeHI",
        "colab": {
          "base_uri": "https://localhost:8080/",
          "height": 71
        },
        "outputId": "5a735802-2241-48c6-d9b4-c823c7c23562"
      },
      "source": [
        "# LU decomposition\n",
        "from numpy import array\n",
        "\n",
        "# define a square matrix\n",
        "A = array([[1, 2, 3], [4, 5, 6], [7, 8, 9]])\n",
        "print(A)"
      ],
      "execution_count": null,
      "outputs": [
        {
          "output_type": "stream",
          "text": [
            "[[1 2 3]\n",
            " [4 5 6]\n",
            " [7 8 9]]\n"
          ],
          "name": "stdout"
        }
      ]
    },
    {
      "cell_type": "markdown",
      "metadata": {
        "id": "cxqLQ4E1JVHe"
      },
      "source": [
        "**Decompose**"
      ]
    },
    {
      "cell_type": "code",
      "metadata": {
        "id": "ASjtKDTNHm7c"
      },
      "source": [
        "# LU decomposition\n",
        "from scipy.linalg import lu\n",
        "P, L, U = lu(A)"
      ],
      "execution_count": null,
      "outputs": []
    },
    {
      "cell_type": "code",
      "metadata": {
        "id": "ppDt7HJZJeP-",
        "colab": {
          "base_uri": "https://localhost:8080/",
          "height": 71
        },
        "outputId": "0bed9c9d-a9aa-4e28-ffd0-5632b52d480d"
      },
      "source": [
        "print(P)"
      ],
      "execution_count": null,
      "outputs": [
        {
          "output_type": "stream",
          "text": [
            "[[0. 1. 0.]\n",
            " [0. 0. 1.]\n",
            " [1. 0. 0.]]\n"
          ],
          "name": "stdout"
        }
      ]
    },
    {
      "cell_type": "code",
      "metadata": {
        "id": "yzlZ482zJdIj",
        "colab": {
          "base_uri": "https://localhost:8080/",
          "height": 71
        },
        "outputId": "938b1824-57cc-410c-a7cf-df34b2781cf1"
      },
      "source": [
        "print(L)"
      ],
      "execution_count": null,
      "outputs": [
        {
          "output_type": "stream",
          "text": [
            "[[1.         0.         0.        ]\n",
            " [0.14285714 1.         0.        ]\n",
            " [0.57142857 0.5        1.        ]]\n"
          ],
          "name": "stdout"
        }
      ]
    },
    {
      "cell_type": "code",
      "metadata": {
        "id": "opCE0DFbJcPk",
        "colab": {
          "base_uri": "https://localhost:8080/",
          "height": 71
        },
        "outputId": "72e99785-677c-44c2-c0c5-f0a7021e9c7a"
      },
      "source": [
        "print(U)"
      ],
      "execution_count": null,
      "outputs": [
        {
          "output_type": "stream",
          "text": [
            "[[7.         8.         9.        ]\n",
            " [0.         0.85714286 1.71428571]\n",
            " [0.         0.         0.        ]]\n"
          ],
          "name": "stdout"
        }
      ]
    },
    {
      "cell_type": "markdown",
      "metadata": {
        "id": "B3KZgBdoJXJO"
      },
      "source": [
        "**Reconstruct**"
      ]
    },
    {
      "cell_type": "code",
      "metadata": {
        "id": "gcDSYwtgHtLo",
        "colab": {
          "base_uri": "https://localhost:8080/",
          "height": 71
        },
        "outputId": "0fcbd662-6064-484a-8f25-38839552b4d6"
      },
      "source": [
        "B = P.dot(L).dot(U)\n",
        "print(B)"
      ],
      "execution_count": null,
      "outputs": [
        {
          "output_type": "stream",
          "text": [
            "[[1. 2. 3.]\n",
            " [4. 5. 6.]\n",
            " [7. 8. 9.]]\n"
          ],
          "name": "stdout"
        }
      ]
    },
    {
      "cell_type": "code",
      "metadata": {
        "id": "gcfF-RJzpu1c",
        "colab": {
          "base_uri": "https://localhost:8080/",
          "height": 71
        },
        "outputId": "f0313866-63ab-4653-b65d-8ee858fe8104"
      },
      "source": [
        "# Check for differences between both matrices\n",
        "X = B - A\n",
        "print(X)"
      ],
      "execution_count": null,
      "outputs": [
        {
          "output_type": "stream",
          "text": [
            "[[0. 0. 0.]\n",
            " [0. 0. 0.]\n",
            " [0. 0. 0.]]\n"
          ],
          "name": "stdout"
        }
      ]
    },
    {
      "cell_type": "markdown",
      "metadata": {
        "id": "HMmIn-HUEykz"
      },
      "source": [
        "# **QR Decomposition**"
      ]
    },
    {
      "cell_type": "code",
      "metadata": {
        "id": "jTvkJUPLEyk4"
      },
      "source": [
        "import numpy as np\n",
        "import pandas as pd\n",
        "import seaborn as sns\n",
        "import matplotlib.pyplot as plt"
      ],
      "execution_count": null,
      "outputs": []
    },
    {
      "cell_type": "markdown",
      "metadata": {
        "id": "91NVXqSfFlBt"
      },
      "source": [
        "* The QR decomposition is for m x n matrices (not limited to square matrices) and decomposes a matrix into Q and R components.\n",
        "\n",
        "> A = Q R\n",
        "\n",
        "* Where A is the matrix that we wish to decompose, Q a matrix with the size m x m, and R is an upper triangle matrix with the size m x n.\n",
        "\n",
        "* **Q is an orthogonal (Q<sup>T</sup> Q = I) or unitary matrix** (Q ∗ Q = I) and **R is an upper triangular matrix**. The QR decomposition is a special case of the [Iwasawa decomposition](https://en.m.wikipedia.org/wiki/Iwasawa_decomposition).\n",
        "\n",
        "* The QR decomposition is found using an iterative numerical method that can fail for those matrices that cannot be decomposed, or decomposed easily.\n",
        "\n",
        "* Like the LU decomposition, the QR decomposition is often used to solve systems of linear equations, although is not limited to square matrices.\n",
        "\n",
        "* By default, the qr function returns the Q and R matrices with smaller or ‘reduced’ dimensions that is more economical. We can change this to return the expected sizes of m x m for Q and m x n for R by specifying the mode argument as ‘complete’, although this is not required for most applications."
      ]
    },
    {
      "cell_type": "markdown",
      "metadata": {
        "id": "yOhv-GS8xXZ4"
      },
      "source": [
        "Such a decomposition always exists and can be calculated using various algorithms. The best known are\n",
        "\n",
        "* [Householder transformations](https://de.m.wikipedia.org/wiki/Householdertransformation)\n",
        "* [Givens rotations](https://de.m.wikipedia.org/wiki/Givens-Rotation)\n",
        "* [Gram-Schmidtsch's orthogonalization method](https://de.m.wikipedia.org/wiki/Gram-Schmidtsches_Orthogonalisierungsverfahren)"
      ]
    },
    {
      "cell_type": "markdown",
      "metadata": {
        "id": "f1JvWMjiJHYY"
      },
      "source": [
        "**Define Matrix**"
      ]
    },
    {
      "cell_type": "code",
      "metadata": {
        "id": "rfu-RgIXFxTL",
        "colab": {
          "base_uri": "https://localhost:8080/",
          "height": 71
        },
        "outputId": "5bf6a6ef-59d2-44ba-f418-a2925cdc3400"
      },
      "source": [
        "from numpy import array\n",
        "\n",
        "# define a 3x2 matrix\n",
        "A = array([[1, 2], [3, 4], [5, 6]])\n",
        "print(A)"
      ],
      "execution_count": null,
      "outputs": [
        {
          "output_type": "stream",
          "text": [
            "[[1 2]\n",
            " [3 4]\n",
            " [5 6]]\n"
          ],
          "name": "stdout"
        }
      ]
    },
    {
      "cell_type": "markdown",
      "metadata": {
        "id": "o8VzIv_nJJhw"
      },
      "source": [
        "**Decompose**"
      ]
    },
    {
      "cell_type": "code",
      "metadata": {
        "id": "ca1KWNdgFyXz"
      },
      "source": [
        "# QR decomposition\n",
        "from numpy.linalg import qr\n",
        "Q, R = qr(A, 'complete')"
      ],
      "execution_count": null,
      "outputs": []
    },
    {
      "cell_type": "code",
      "metadata": {
        "id": "S7deKMpRJCsX",
        "colab": {
          "base_uri": "https://localhost:8080/",
          "height": 71
        },
        "outputId": "2c85ca61-1303-4ce9-ba8e-62a5279d64bc"
      },
      "source": [
        "print(Q)"
      ],
      "execution_count": null,
      "outputs": [
        {
          "output_type": "stream",
          "text": [
            "[[-0.16903085  0.89708523  0.40824829]\n",
            " [-0.50709255  0.27602622 -0.81649658]\n",
            " [-0.84515425 -0.34503278  0.40824829]]\n"
          ],
          "name": "stdout"
        }
      ]
    },
    {
      "cell_type": "code",
      "metadata": {
        "id": "VNw-k4UBI-oo",
        "colab": {
          "base_uri": "https://localhost:8080/",
          "height": 71
        },
        "outputId": "58fe955f-07c2-4213-c87a-9a2257bd4808"
      },
      "source": [
        "print(R)"
      ],
      "execution_count": null,
      "outputs": [
        {
          "output_type": "stream",
          "text": [
            "[[-5.91607978 -7.43735744]\n",
            " [ 0.          0.82807867]\n",
            " [ 0.          0.        ]]\n"
          ],
          "name": "stdout"
        }
      ]
    },
    {
      "cell_type": "markdown",
      "metadata": {
        "id": "V3DercV9JMmm"
      },
      "source": [
        "**Reconstruct**"
      ]
    },
    {
      "cell_type": "code",
      "metadata": {
        "id": "bjR2dwOdF1cS",
        "colab": {
          "base_uri": "https://localhost:8080/",
          "height": 71
        },
        "outputId": "ca36248c-b4c2-43d2-bd53-9e94e4a5f8a1"
      },
      "source": [
        "B = Q.dot(R)\n",
        "print(B)"
      ],
      "execution_count": null,
      "outputs": [
        {
          "output_type": "stream",
          "text": [
            "[[1. 2.]\n",
            " [3. 4.]\n",
            " [5. 6.]]\n"
          ],
          "name": "stdout"
        }
      ]
    },
    {
      "cell_type": "markdown",
      "metadata": {
        "id": "JigccOCnE4NL"
      },
      "source": [
        "# **Cholesky Decomposition**"
      ]
    },
    {
      "cell_type": "code",
      "metadata": {
        "id": "JzNvk8QoE4NR"
      },
      "source": [
        "import numpy as np\n",
        "import pandas as pd\n",
        "import seaborn as sns\n",
        "import matplotlib.pyplot as plt"
      ],
      "execution_count": null,
      "outputs": []
    },
    {
      "cell_type": "markdown",
      "metadata": {
        "id": "oO44vtYNGQEG"
      },
      "source": [
        "The Cholesky decomposition is for square symmetric matrices where all eigenvalues are greater than zero, so-called [positive definite matrices](https://en.wikipedia.org/wiki/Definite_symmetric_matrix). For our interests in machine learning, we will focus on the Cholesky decomposition for real-valued matrices and ignore the cases when working with complex numbers."
      ]
    },
    {
      "cell_type": "markdown",
      "metadata": {
        "id": "AFeymed4KIyz"
      },
      "source": [
        "> A = LL^T\n",
        "\n",
        "Where A is the matrix being decomposed, L is the lower triangular matrix and L^T is the transpose of L."
      ]
    },
    {
      "cell_type": "markdown",
      "metadata": {
        "id": "dTrHPrDNKArW"
      },
      "source": [
        "The decompose can also be written as the product of the upper triangular matrix, for example:\n",
        "\n",
        "> A = U^T . U\n",
        "\n",
        "* Where U is the upper triangular matrix."
      ]
    },
    {
      "cell_type": "markdown",
      "metadata": {
        "id": "Cc8EITyoKDXA"
      },
      "source": [
        "* The Cholesky decomposition is used for solving linear least squares for linear regression, as well as simulation and optimization methods.\n",
        "\n",
        "* When decomposing symmetric matrices, the Cholesky decomposition is nearly twice as efficient as the LU decomposition and should be preferred in these cases.\n",
        "\n",
        "* While symmetric, positive definite matrices are rather special, they occur quite frequently in some applications, so their special factorization, called Cholesky decomposition, is good to know about. When you can use it, Cholesky decomposition is about a factor of two faster than alternative methods for solving linear equations."
      ]
    },
    {
      "cell_type": "markdown",
      "metadata": {
        "id": "wJ2IZ_HMJtd3"
      },
      "source": [
        "**Define Matrix**"
      ]
    },
    {
      "cell_type": "code",
      "metadata": {
        "id": "8xcgUf1YHGae",
        "colab": {
          "base_uri": "https://localhost:8080/",
          "height": 69
        },
        "outputId": "1c772a76-1052-456d-bf61-395929265ac4"
      },
      "source": [
        "from numpy import array\n",
        "\n",
        "# define a 3x3 matrix\n",
        "A = array([[2, 1, 1], [1, 2, 1], [1, 1, 2]])\n",
        "print(A)"
      ],
      "execution_count": null,
      "outputs": [
        {
          "output_type": "stream",
          "text": [
            "[[2 1 1]\n",
            " [1 2 1]\n",
            " [1 1 2]]\n"
          ],
          "name": "stdout"
        }
      ]
    },
    {
      "cell_type": "markdown",
      "metadata": {
        "id": "q_8K4pHHJpao"
      },
      "source": [
        "**Decompose**"
      ]
    },
    {
      "cell_type": "code",
      "metadata": {
        "id": "tXS0q5LGHHhe",
        "colab": {
          "base_uri": "https://localhost:8080/",
          "height": 69
        },
        "outputId": "2bb8881d-60de-4c4d-8fc5-cadc18f14cff"
      },
      "source": [
        "# Cholesky decomposition\n",
        "from numpy.linalg import cholesky\n",
        "L = cholesky(A)\n",
        "print(L)"
      ],
      "execution_count": null,
      "outputs": [
        {
          "output_type": "stream",
          "text": [
            "[[1.41421356 0.         0.        ]\n",
            " [0.70710678 1.22474487 0.        ]\n",
            " [0.70710678 0.40824829 1.15470054]]\n"
          ],
          "name": "stdout"
        }
      ]
    },
    {
      "cell_type": "markdown",
      "metadata": {
        "id": "jDSSrB8sJmZ4"
      },
      "source": [
        "**Reconstruct**"
      ]
    },
    {
      "cell_type": "code",
      "metadata": {
        "id": "YbmN6r5MHMIb",
        "colab": {
          "base_uri": "https://localhost:8080/",
          "height": 69
        },
        "outputId": "2dd37a0f-bb48-4694-c6e5-e3b418931ff8"
      },
      "source": [
        "B = L.dot(L.T)\n",
        "print(B)"
      ],
      "execution_count": null,
      "outputs": [
        {
          "output_type": "stream",
          "text": [
            "[[2. 1. 1.]\n",
            " [1. 2. 1.]\n",
            " [1. 1. 2.]]\n"
          ],
          "name": "stdout"
        }
      ]
    },
    {
      "cell_type": "markdown",
      "metadata": {
        "id": "XuNsKvz2FWMd"
      },
      "source": [
        "# **Singular-Value Decomposition (SVD)**"
      ]
    },
    {
      "cell_type": "code",
      "metadata": {
        "id": "DKgVHzeSFWMl"
      },
      "source": [
        "import numpy as np\n",
        "import pandas as pd\n",
        "import seaborn as sns\n",
        "import matplotlib.pyplot as plt"
      ],
      "execution_count": null,
      "outputs": []
    },
    {
      "cell_type": "markdown",
      "metadata": {
        "id": "BE9_30u0HvKn"
      },
      "source": [
        "* Matrix decomposition, also known as matrix factorization, involves describing a given matrix using its constituent elements.\n",
        "\n",
        "* Perhaps the most known and widely used matrix decomposition method is the Singular-Value Decomposition, or SVD. All matrices have an SVD, which makes it more stable than other methods, such as the eigendecomposition. As such, it is often used in a wide array of applications including compressing, denoising, and data reduction.\n",
        "\n",
        "* The Singular-Value Decomposition, or SVD for short, is a matrix decomposition method for reducing a matrix to its constituent parts in order to make certain subsequent matrix calculations simpler.\n",
        "\n",
        "* For the case of simplicity we will focus on the SVD for real-valued matrices and ignore the case for complex numbers.\n",
        "\n",
        "> A = U . Sigma . V^T\n",
        "\n",
        "* Where A is the real m x n matrix that we wish to decompose, U is an m x m matrix, Sigma (often represented by the uppercase Greek letter Sigma) is an m x n diagonal matrix, and V^T is the  transpose of an n x n matrix where T is a superscript."
      ]
    },
    {
      "cell_type": "markdown",
      "metadata": {
        "id": "n5Ja69_DICya"
      },
      "source": [
        "* The diagonal values in the Sigma matrix are known as the singular values of the original matrix A. The columns of the U matrix are called the left-singular vectors of A, and the columns of V are called the right-singular vectors of A.\n",
        "\n",
        "* The SVD is calculated via iterative numerical methods. We will not go into the details of these methods. Every rectangular matrix has a singular value decomposition, although the resulting matrices may contain complex numbers and the limitations of floating point arithmetic may cause some matrices to fail to decompose neatly.\n",
        "\n",
        "* The singular value decomposition (SVD) provides another way to factorize a matrix, into singular vectors and singular values. The SVD allows us to discover some of the same kind of information as the eigendecomposition. However, the SVD is more generally applicable.\n",
        "\n",
        "* The SVD is used widely both in the calculation of other matrix operations, such as matrix inverse, but also as a data reduction method in machine learning. SVD can also be used in least squares linear regression, image compression, and denoising data.\n",
        "\n",
        "* The SVD can be calculated by calling the svd() function. The function takes a matrix and returns the U, Sigma and V^T elements. The Sigma diagonal matrix is returned as a vector of singular values. The V matrix is returned in a transposed form, e.g. V.T."
      ]
    },
    {
      "cell_type": "markdown",
      "metadata": {
        "id": "kspDVKumIjj0"
      },
      "source": [
        "**Define a Matrix**"
      ]
    },
    {
      "cell_type": "code",
      "metadata": {
        "id": "H0UN2E9NIUpX",
        "colab": {
          "base_uri": "https://localhost:8080/",
          "height": 69
        },
        "outputId": "5e9952aa-35ae-4a25-d3f9-245750abae97"
      },
      "source": [
        "from numpy import array\n",
        "A = array([[1, 2], [3, 4], [5, 6]])\n",
        "print(A)"
      ],
      "execution_count": null,
      "outputs": [
        {
          "output_type": "stream",
          "text": [
            "[[1 2]\n",
            " [3 4]\n",
            " [5 6]]\n"
          ],
          "name": "stdout"
        }
      ]
    },
    {
      "cell_type": "markdown",
      "metadata": {
        "id": "rwUy0XTnKjN4"
      },
      "source": [
        "**Decompose**"
      ]
    },
    {
      "cell_type": "code",
      "metadata": {
        "id": "HAOV_EhHIXpN"
      },
      "source": [
        "# Calculate Singular-Value Decomposition\n",
        "from scipy.linalg import svd\n",
        "U, s, VT = svd(A)"
      ],
      "execution_count": null,
      "outputs": []
    },
    {
      "cell_type": "code",
      "metadata": {
        "id": "GWbLmTykKr3P",
        "colab": {
          "base_uri": "https://localhost:8080/",
          "height": 69
        },
        "outputId": "13bd262e-ad31-4604-817e-a6c6d1cc7b1c"
      },
      "source": [
        "print(U)"
      ],
      "execution_count": null,
      "outputs": [
        {
          "output_type": "stream",
          "text": [
            "[[-0.2298477   0.88346102  0.40824829]\n",
            " [-0.52474482  0.24078249 -0.81649658]\n",
            " [-0.81964194 -0.40189603  0.40824829]]\n"
          ],
          "name": "stdout"
        }
      ]
    },
    {
      "cell_type": "code",
      "metadata": {
        "id": "Em-H1JnUKqjB",
        "colab": {
          "base_uri": "https://localhost:8080/",
          "height": 34
        },
        "outputId": "7b117372-77b1-4761-dd2e-47294ada0c88"
      },
      "source": [
        "print(s)"
      ],
      "execution_count": null,
      "outputs": [
        {
          "output_type": "stream",
          "text": [
            "[9.52551809 0.51430058]\n"
          ],
          "name": "stdout"
        }
      ]
    },
    {
      "cell_type": "code",
      "metadata": {
        "id": "8YCCCYlaKpOQ",
        "colab": {
          "base_uri": "https://localhost:8080/",
          "height": 52
        },
        "outputId": "af5df3cf-6081-4014-f196-16c1e64b01a7"
      },
      "source": [
        "print(VT)"
      ],
      "execution_count": null,
      "outputs": [
        {
          "output_type": "stream",
          "text": [
            "[[-0.61962948 -0.78489445]\n",
            " [-0.78489445  0.61962948]]\n"
          ],
          "name": "stdout"
        }
      ]
    },
    {
      "cell_type": "markdown",
      "metadata": {
        "id": "LDEvqFwaIl7k"
      },
      "source": [
        "**Reconstruct**"
      ]
    },
    {
      "cell_type": "markdown",
      "metadata": {
        "id": "hLPp9hJELNMv"
      },
      "source": [
        "* The original matrix can be reconstructed from the U, Sigma, and V^T elements.\n",
        "* The U, s, and V elements returned from the svd() cannot be multiplied directly.\n",
        "* The s vector must be converted into a diagonal matrix using the diag() function. By default, this function will create a square matrix that is n x n, relative to our original matrix. This causes a problem as the size of the matrices do not fit the rules of matrix multiplication, where the number of columns in a matrix must match the number of rows in the subsequent matrix.\n",
        "* After creating the square Sigma diagonal matrix, the sizes of the matrices are relative to the original m x n matrix that we are decomposing, as follows:\n",
        "\n",
        "> U (m x m) . Sigma (n x n) . V^T (n x n)\n",
        "\n",
        "* Where, in fact, we require:\n",
        "\n",
        "> U (m x m) . Sigma (m x n) . V^T (n x n)\n",
        "\n",
        "* We can achieve this by creating a new Sigma matrix of all zero values that is m x n (e.g. more rows) and populate the first n x n part of the matrix with the square diagonal matrix calculated via diag()."
      ]
    },
    {
      "cell_type": "code",
      "metadata": {
        "id": "2fWCag1TLzQv",
        "colab": {
          "base_uri": "https://localhost:8080/",
          "height": 69
        },
        "outputId": "7c546b29-8fcb-4f2b-a11c-0cec844b2245"
      },
      "source": [
        "from numpy import diag\n",
        "from numpy import dot\n",
        "from numpy import zeros\n",
        "\n",
        "# create m x n Sigma matrix\n",
        "Sigma = zeros((A.shape[0], A.shape[1]))\n",
        "\n",
        "# populate Sigma with n x n diagonal matrix\n",
        "Sigma[:A.shape[1], :A.shape[1]] = diag(s)\n",
        "\n",
        "# reconstruct matrix\n",
        "B = U.dot(Sigma.dot(VT))\n",
        "print(B)"
      ],
      "execution_count": null,
      "outputs": [
        {
          "output_type": "stream",
          "text": [
            "[[1. 2.]\n",
            " [3. 4.]\n",
            " [5. 6.]]\n"
          ],
          "name": "stdout"
        }
      ]
    },
    {
      "cell_type": "markdown",
      "metadata": {
        "id": "xjw_4ya7MAq6"
      },
      "source": [
        "The above complication with the Sigma diagonal only exists with the case where m and n are not equal. The diagonal matrix can be used directly when reconstructing a square matrix, as follows."
      ]
    },
    {
      "cell_type": "code",
      "metadata": {
        "id": "_VKgvTSqMKxt",
        "colab": {
          "base_uri": "https://localhost:8080/",
          "height": 122
        },
        "outputId": "8d37dec4-a2f2-4deb-8bbe-3ee89372ad6a"
      },
      "source": [
        "# Reconstruct SVD\n",
        "from numpy import array\n",
        "from numpy import diag\n",
        "from numpy import dot\n",
        "from scipy.linalg import svd\n",
        "\n",
        "# define a matrix\n",
        "A = array([[1, 2, 3], [4, 5, 6], [7, 8, 9]])\n",
        "print(A)\n",
        "# Singular-value decomposition\n",
        "U, s, VT = svd(A)\n",
        "# create n x n Sigma matrix\n",
        "Sigma = diag(s)\n",
        "# reconstruct matrix\n",
        "B = U.dot(Sigma.dot(VT))\n",
        "print(B)"
      ],
      "execution_count": null,
      "outputs": [
        {
          "output_type": "stream",
          "text": [
            "[[1 2 3]\n",
            " [4 5 6]\n",
            " [7 8 9]]\n",
            "[[1. 2. 3.]\n",
            " [4. 5. 6.]\n",
            " [7. 8. 9.]]\n"
          ],
          "name": "stdout"
        }
      ]
    },
    {
      "cell_type": "markdown",
      "metadata": {
        "id": "SlHP11vEMa98"
      },
      "source": [
        "**Appendix: SVD for Pseudoinverse**"
      ]
    },
    {
      "cell_type": "markdown",
      "metadata": {
        "id": "cbg2aHY0MfIk"
      },
      "source": [
        "* The pseudoinverse is the generalization of the matrix inverse for square matrices to rectangular matrices where the number of rows and columns are not equal.\n",
        "\n",
        "* It is also called the the Moore-Penrose Inverse after two independent discoverers of the method or the Generalized Inverse.\n",
        "\n",
        "* Matrix inversion is not defined for matrices that are not square. When A has more columns than rows, then solving a linear equation using the pseudoinverse provides one of the many possible solutions.\n",
        "\n",
        "* The pseudoinverse is denoted as A^+, where A is the matrix that is being inverted and + is a superscript. The pseudoinverse is calculated using the singular value decomposition of A:\n",
        "\n",
        "> A^+ = VD^+U^T\n",
        "\n",
        "Where A^+ is the pseudoinverse, D^+ is the pseudoinverse of the diagonal matrix Sigma and U^T is the transpose of U.\n",
        "\n",
        "We can get U and V from the SVD operation.\n",
        "\n",
        "> A = U . Sigma . V^T\n",
        "\n",
        "The D^+ can be calculated by creating a diagonal matrix from Sigma, calculating the reciprocal of each non-zero element in Sigma, and taking the transpose if the original matrix was rectangular.\n",
        "\n"
      ]
    },
    {
      "cell_type": "code",
      "metadata": {
        "id": "SVHOiaDOM_YE"
      },
      "source": [
        "#          s11,   0,   0\n",
        "# Sigma = (  0, s22,   0)\n",
        "#            0,   0, s33"
      ],
      "execution_count": null,
      "outputs": []
    },
    {
      "cell_type": "code",
      "metadata": {
        "id": "9W5wTVWQNGss"
      },
      "source": [
        "#        1/s11,     0,     0\n",
        "# D^+ = (    0, 1/s22,     0)\n",
        "#            0,     0, 1/s33"
      ],
      "execution_count": null,
      "outputs": []
    },
    {
      "cell_type": "markdown",
      "metadata": {
        "id": "aPUAqEstNMMS"
      },
      "source": [
        "The pseudoinverse provides one way of solving the linear regression equation, specifically when there are more rows than there are columns, which is often the case. \n",
        "\n",
        "NumPy provides the function pinv() for calculating the pseudoinverse of a rectangular matrix. The example below defines a 4×2 matrix and calculates the pseudoinverse."
      ]
    },
    {
      "cell_type": "code",
      "metadata": {
        "id": "kz-FzJLHNSWv",
        "colab": {
          "base_uri": "https://localhost:8080/",
          "height": 87
        },
        "outputId": "a83b8e52-c022-4bf4-8249-7449196cff07"
      },
      "source": [
        "# Pseudoinverse\n",
        "from numpy import array\n",
        "from numpy.linalg import pinv\n",
        "\n",
        "# define matrix\n",
        "A = array([\n",
        "\t[0.1, 0.2],\n",
        "\t[0.3, 0.4],\n",
        "\t[0.5, 0.6],\n",
        "\t[0.7, 0.8]])\n",
        "print(A)"
      ],
      "execution_count": null,
      "outputs": [
        {
          "output_type": "stream",
          "text": [
            "[[0.1 0.2]\n",
            " [0.3 0.4]\n",
            " [0.5 0.6]\n",
            " [0.7 0.8]]\n"
          ],
          "name": "stdout"
        }
      ]
    },
    {
      "cell_type": "code",
      "metadata": {
        "id": "LFzXXFwQNWlZ",
        "colab": {
          "base_uri": "https://localhost:8080/",
          "height": 52
        },
        "outputId": "02766498-1982-4382-de4c-d3d8f70dbbd5"
      },
      "source": [
        "# calculate pseudoinverse\n",
        "B = pinv(A)\n",
        "print(B)"
      ],
      "execution_count": null,
      "outputs": [
        {
          "output_type": "stream",
          "text": [
            "[[-1.00000000e+01 -5.00000000e+00  1.42385628e-14  5.00000000e+00]\n",
            " [ 8.50000000e+00  4.50000000e+00  5.00000000e-01 -3.50000000e+00]]\n"
          ],
          "name": "stdout"
        }
      ]
    },
    {
      "cell_type": "markdown",
      "metadata": {
        "id": "2Aoj2PpxvDQV"
      },
      "source": [
        "# **Rank Factorization**"
      ]
    },
    {
      "cell_type": "code",
      "metadata": {
        "id": "1U5_6xH7tAQq"
      },
      "source": [
        "import numpy as np\n",
        "import pandas as pd\n",
        "import seaborn as sns\n",
        "import matplotlib.pyplot as plt"
      ],
      "execution_count": null,
      "outputs": []
    },
    {
      "cell_type": "markdown",
      "metadata": {
        "id": "isHJ8l3OR46n"
      },
      "source": [
        "* given an m × n matrix A of rank r, a rank decomposition or rank factorization of A is a factorization of A of the form A = C F, where C is an m × r matrix and F is an r × n matrix.\n",
        "\n",
        "* Every finite-dimensional matrix has a rank decomposition\n",
        "\n",
        "* One can also construct a full rank factorization of A by using its singular value decomposition"
      ]
    },
    {
      "cell_type": "markdown",
      "metadata": {
        "id": "qznCml3sFnUQ"
      },
      "source": [
        "# **Eigendecomposition**"
      ]
    },
    {
      "cell_type": "code",
      "metadata": {
        "id": "BtEP3jssFnUS"
      },
      "source": [
        "import numpy as np\n",
        "import pandas as pd\n",
        "import seaborn as sns\n",
        "import matplotlib.pyplot as plt"
      ],
      "execution_count": null,
      "outputs": []
    },
    {
      "cell_type": "markdown",
      "metadata": {
        "id": "sooWX-rgS12w"
      },
      "source": [
        "* Eigendecomposition or sometimes spectral decomposition is the factorization of a matrix into a canonical form, whereby the matrix is represented in terms of its eigenvalues and eigenvectors. Only diagonalizable matrices can be factorized in this way."
      ]
    },
    {
      "cell_type": "markdown",
      "metadata": {
        "id": "Bfkc_-jIFtmU"
      },
      "source": [
        "# **Non-negative matrix factorization**"
      ]
    },
    {
      "cell_type": "code",
      "metadata": {
        "id": "jB50kOtZFtmb"
      },
      "source": [
        "import numpy as np\n",
        "import pandas as pd\n",
        "import seaborn as sns\n",
        "import matplotlib.pyplot as plt"
      ],
      "execution_count": null,
      "outputs": []
    },
    {
      "cell_type": "markdown",
      "metadata": {
        "id": "f4c7lww5T_b8"
      },
      "source": [
        "* Non-negative matrix factorization (NMF or NNMF), also non-negative matrix approximation is a **group of algorithms** in multivariate analysis and linear algebra where a matrix V is factorized into (usually) two matrices W and H, with the property that all three matrices have no negative elements. \n",
        "\n",
        "* This non-negativity makes the resulting matrices easier to inspect. Also, in applications such as processing of audio spectrograms or muscular activity, non-negativity is inherent to the data being considered. \n",
        "\n",
        "* Since the problem is not exactly solvable in general, it is commonly approximated numerically."
      ]
    },
    {
      "cell_type": "markdown",
      "metadata": {
        "id": "SA_5AGX6UJJe"
      },
      "source": [
        "![NNMF](https://upload.wikimedia.org/wikipedia/commons/f/f9/NMF.png)"
      ]
    },
    {
      "cell_type": "markdown",
      "metadata": {
        "id": "gfuyK3-ZUtCQ"
      },
      "source": [
        "*Illustration of approximate non-negative matrix factorization: the matrix V is represented by the two smaller matrices W and H, which, when multiplied, approximately **reconstruct V**.*"
      ]
    }
  ]
}