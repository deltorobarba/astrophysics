{
  "nbformat": 4,
  "nbformat_minor": 0,
  "metadata": {
    "colab": {
      "name": "residuals.ipynb",
      "provenance": [],
      "collapsed_sections": [],
      "toc_visible": true,
      "include_colab_link": true
    },
    "kernelspec": {
      "name": "python3",
      "display_name": "Python 3"
    }
  },
  "cells": [
    {
      "cell_type": "markdown",
      "metadata": {
        "id": "view-in-github",
        "colab_type": "text"
      },
      "source": [
        "<a href=\"https://colab.research.google.com/github/deltorobarba/machinelearning/blob/master/residuals.ipynb\" target=\"_parent\"><img src=\"https://colab.research.google.com/assets/colab-badge.svg\" alt=\"Open In Colab\"/></a>"
      ]
    },
    {
      "cell_type": "markdown",
      "metadata": {
        "id": "UEh8uBW7Hrae",
        "colab_type": "text"
      },
      "source": [
        "# Residuals Analysis"
      ]
    },
    {
      "cell_type": "markdown",
      "metadata": {
        "id": "lz2D7pzTBD-m",
        "colab_type": "text"
      },
      "source": [
        "*Author: Alexander Del Toro Barba*"
      ]
    },
    {
      "cell_type": "markdown",
      "metadata": {
        "id": "81DFVLJEERy7",
        "colab_type": "text"
      },
      "source": [
        "**What are residuals?**\n",
        "\n",
        "For most (time series) models, the residuals are difference between observation and its corresponding estimated (fitted) value:\n",
        "\n",
        "$e_{t} = y_{t} - \\hat{y}_{t}$\n",
        "\n",
        "**Why is it important to analyze residuals?**\n",
        "\n",
        "Residuals are useful in checking whether a model has adequately captured the information in the data. In a good model the residuals are stationary. However one can classify the stationarity criteria in two distinct groups for residual analysis:\n",
        "\n",
        "A good forecasting method will yield residuals with the following properties:\n",
        "\n",
        "1. The residuals are uncorrelated. If there are correlations between residuals, then there is information left in the residuals which should be used in computing forecasts.\n",
        "\n",
        "2. The residuals have zero mean. If the residuals have a mean other than zero, then the forecasts are biased.\n",
        "\n",
        "Any forecasting method that does not satisfy these properties can be improved. However, that does not mean that forecasting methods that satisfy these properties cannot be improved. It is possible to have several different forecasting methods for the same data set, all of which satisfy these properties. Checking these properties is important in order to see whether a method is using all of the available information, but it is not a good way to select a forecasting method.\n",
        "\n",
        "If either of these properties is not satisfied, then the forecasting method can be modified to give better forecasts. Adjusting for bias is easy: if the residuals have mean m, then simply add m to all forecasts and the bias problem is solved. Fixing the correlation problem is harder, and we will not address it until Chapter 9.\n",
        "\n",
        "In addition to these essential properties, it is useful (but not necessary) for the residuals to also have the following two properties.\n",
        "\n",
        "3. The residuals have constant variance.\n",
        "\n",
        "4. The residuals are normally distributed.\n",
        "\n",
        "These two properties make the calculation of prediction intervals easier (see Section 3.5 for an example). However, a forecasting method that does not satisfy these properties cannot necessarily be improved. Sometimes applying a Box-Cox transformation may assist with these properties, but otherwise there is usually little that you can do to ensure that your residuals have constant variance and a normal distribution. Instead, an alternative approach to obtaining prediction intervals is necessary. Again, we will not address how to do this until later in the book.\n",
        "\n",
        "https://otexts.com/fpp2/residuals.html\n",
        "https://otexts.com/fpp2/prediction-intervals.html"
      ]
    },
    {
      "cell_type": "markdown",
      "metadata": {
        "id": "Ayt2I86pl93E",
        "colab_type": "text"
      },
      "source": [
        "# Import Libraries"
      ]
    },
    {
      "cell_type": "code",
      "metadata": {
        "id": "mVoqiLSATtsG",
        "colab_type": "code",
        "outputId": "d5de8141-ad25-4c62-e8f7-626bee114d31",
        "colab": {
          "base_uri": "https://localhost:8080/",
          "height": 63
        }
      },
      "source": [
        "# Import packages\n",
        "import numpy as np\n",
        "import sklearn\n",
        "from decimal import *\n",
        "from numpy import linalg as LA\n",
        "import matplotlib.pyplot as plt\n",
        "from mpl_toolkits.mplot3d import Axes3D\n",
        "\n",
        "import collections\n",
        "import datetime\n",
        "import matplotlib\n",
        "from scipy import stats\n",
        "import scipy.stats as stats\n",
        "import matplotlib.pylab as py\n",
        "import matplotlib.pyplot as plt\n",
        "from numpy import sqrt\n",
        "from copy import copy\n",
        "from pandas.plotting import lag_plot\n",
        "from pandas.plotting import autocorrelation_plot\n",
        "from statsmodels.graphics.tsaplots import plot_acf\n",
        "from statsmodels.graphics.tsaplots import plot_pacf\n",
        "import statsmodels.api as sm\n",
        "from statsmodels.tsa.arima_process import ArmaProcess\n",
        "from statsmodels.graphics.tsaplots import plot_pacf\n",
        "import matplotlib.dates as mdates\n",
        "import numpy as np\n",
        "import pandas as pd\n",
        "import seaborn as sns\n",
        "import tensorflow as tf\n",
        "import statsmodels\n",
        "from statsmodels.tsa.stattools import adfuller\n",
        "from numpy import log"
      ],
      "execution_count": 1,
      "outputs": [
        {
          "output_type": "display_data",
          "data": {
            "text/html": [
              "<p style=\"color: red;\">\n",
              "The default version of TensorFlow in Colab will soon switch to TensorFlow 2.x.<br>\n",
              "We recommend you <a href=\"https://www.tensorflow.org/guide/migrate\" target=\"_blank\">upgrade</a> now \n",
              "or ensure your notebook will continue to use TensorFlow 1.x via the <code>%tensorflow_version 1.x</code> magic:\n",
              "<a href=\"https://colab.research.google.com/notebooks/tensorflow_version.ipynb\" target=\"_blank\">more info</a>.</p>\n"
            ],
            "text/plain": [
              "<IPython.core.display.HTML object>"
            ]
          },
          "metadata": {
            "tags": []
          }
        }
      ]
    },
    {
      "cell_type": "markdown",
      "metadata": {
        "id": "kobbZ-tXKv7v",
        "colab_type": "text"
      },
      "source": [
        "# Time Series Model"
      ]
    },
    {
      "cell_type": "markdown",
      "metadata": {
        "id": "YeQX5uazK58R",
        "colab_type": "text"
      },
      "source": [
        "## Import & Explore Data"
      ]
    },
    {
      "cell_type": "code",
      "metadata": {
        "id": "vfWPR_7YK0EI",
        "colab_type": "code",
        "colab": {}
      },
      "source": [
        "url = 'https://raw.githubusercontent.com/deltorobarba/repo/master/google.csv'\n",
        "timeseries = pd.read_csv(url)\n",
        "\n",
        "timeseries = timeseries.drop(columns=['Open', 'High', 'Low', 'Adj Close', 'Volume'])\n",
        "timeseries = timeseries.set_index('Date')"
      ],
      "execution_count": 0,
      "outputs": []
    },
    {
      "cell_type": "code",
      "metadata": {
        "id": "j3iDguVNLNsX",
        "colab_type": "code",
        "outputId": "cbb9081d-16d8-46de-af46-84eaabfa82d2",
        "colab": {
          "base_uri": "https://localhost:8080/",
          "height": 232
        }
      },
      "source": [
        "timeseries.head()"
      ],
      "execution_count": 3,
      "outputs": [
        {
          "output_type": "execute_result",
          "data": {
            "text/html": [
              "<div>\n",
              "<style scoped>\n",
              "    .dataframe tbody tr th:only-of-type {\n",
              "        vertical-align: middle;\n",
              "    }\n",
              "\n",
              "    .dataframe tbody tr th {\n",
              "        vertical-align: top;\n",
              "    }\n",
              "\n",
              "    .dataframe thead th {\n",
              "        text-align: right;\n",
              "    }\n",
              "</style>\n",
              "<table border=\"1\" class=\"dataframe\">\n",
              "  <thead>\n",
              "    <tr style=\"text-align: right;\">\n",
              "      <th></th>\n",
              "      <th>Close</th>\n",
              "    </tr>\n",
              "    <tr>\n",
              "      <th>Date</th>\n",
              "      <th></th>\n",
              "    </tr>\n",
              "  </thead>\n",
              "  <tbody>\n",
              "    <tr>\n",
              "      <th>2010-02-01</th>\n",
              "      <td>265.514771</td>\n",
              "    </tr>\n",
              "    <tr>\n",
              "      <th>2010-02-02</th>\n",
              "      <td>264.568329</td>\n",
              "    </tr>\n",
              "    <tr>\n",
              "      <th>2010-02-03</th>\n",
              "      <td>269.400208</td>\n",
              "    </tr>\n",
              "    <tr>\n",
              "      <th>2010-02-04</th>\n",
              "      <td>262.406433</td>\n",
              "    </tr>\n",
              "    <tr>\n",
              "      <th>2010-02-05</th>\n",
              "      <td>264.653015</td>\n",
              "    </tr>\n",
              "  </tbody>\n",
              "</table>\n",
              "</div>"
            ],
            "text/plain": [
              "                 Close\n",
              "Date                  \n",
              "2010-02-01  265.514771\n",
              "2010-02-02  264.568329\n",
              "2010-02-03  269.400208\n",
              "2010-02-04  262.406433\n",
              "2010-02-05  264.653015"
            ]
          },
          "metadata": {
            "tags": []
          },
          "execution_count": 3
        }
      ]
    },
    {
      "cell_type": "code",
      "metadata": {
        "id": "FVkK1WfOLQDz",
        "colab_type": "code",
        "outputId": "99587b47-ae79-4b7b-c199-49d82a4c83d4",
        "colab": {
          "base_uri": "https://localhost:8080/",
          "height": 293
        }
      },
      "source": [
        "timeseries.describe()"
      ],
      "execution_count": 4,
      "outputs": [
        {
          "output_type": "execute_result",
          "data": {
            "text/html": [
              "<div>\n",
              "<style scoped>\n",
              "    .dataframe tbody tr th:only-of-type {\n",
              "        vertical-align: middle;\n",
              "    }\n",
              "\n",
              "    .dataframe tbody tr th {\n",
              "        vertical-align: top;\n",
              "    }\n",
              "\n",
              "    .dataframe thead th {\n",
              "        text-align: right;\n",
              "    }\n",
              "</style>\n",
              "<table border=\"1\" class=\"dataframe\">\n",
              "  <thead>\n",
              "    <tr style=\"text-align: right;\">\n",
              "      <th></th>\n",
              "      <th>Close</th>\n",
              "    </tr>\n",
              "  </thead>\n",
              "  <tbody>\n",
              "    <tr>\n",
              "      <th>count</th>\n",
              "      <td>2516.000000</td>\n",
              "    </tr>\n",
              "    <tr>\n",
              "      <th>mean</th>\n",
              "      <td>652.587282</td>\n",
              "    </tr>\n",
              "    <tr>\n",
              "      <th>std</th>\n",
              "      <td>331.360307</td>\n",
              "    </tr>\n",
              "    <tr>\n",
              "      <th>min</th>\n",
              "      <td>217.220810</td>\n",
              "    </tr>\n",
              "    <tr>\n",
              "      <th>25%</th>\n",
              "      <td>322.143769</td>\n",
              "    </tr>\n",
              "    <tr>\n",
              "      <th>50%</th>\n",
              "      <td>567.298034</td>\n",
              "    </tr>\n",
              "    <tr>\n",
              "      <th>75%</th>\n",
              "      <td>937.145019</td>\n",
              "    </tr>\n",
              "    <tr>\n",
              "      <th>max</th>\n",
              "      <td>1486.650024</td>\n",
              "    </tr>\n",
              "  </tbody>\n",
              "</table>\n",
              "</div>"
            ],
            "text/plain": [
              "             Close\n",
              "count  2516.000000\n",
              "mean    652.587282\n",
              "std     331.360307\n",
              "min     217.220810\n",
              "25%     322.143769\n",
              "50%     567.298034\n",
              "75%     937.145019\n",
              "max    1486.650024"
            ]
          },
          "metadata": {
            "tags": []
          },
          "execution_count": 4
        }
      ]
    },
    {
      "cell_type": "code",
      "metadata": {
        "id": "tVv47rVXLTS9",
        "colab_type": "code",
        "outputId": "34d82082-8d0b-4dd6-b39d-c42f985de235",
        "colab": {
          "base_uri": "https://localhost:8080/",
          "height": 319
        }
      },
      "source": [
        "df = timeseries\n",
        "sns.set(rc={'figure.figsize':(13, 4)})\n",
        "df.plot(linewidth=1.0,title='Google Stock Price Daily - Time Series Plot')\n",
        "plt.ylabel('Value')\n",
        "plt.xlabel('Time step')"
      ],
      "execution_count": 5,
      "outputs": [
        {
          "output_type": "execute_result",
          "data": {
            "text/plain": [
              "Text(0.5, 0, 'Time step')"
            ]
          },
          "metadata": {
            "tags": []
          },
          "execution_count": 5
        },
        {
          "output_type": "display_data",
          "data": {
            "image/png": "[encoded data removed]",
            "text/plain": [
              "<Figure size 936x288 with 1 Axes>"
            ]
          },
          "metadata": {
            "tags": []
          }
        }
      ]
    },
    {
      "cell_type": "code",
      "metadata": {
        "id": "pS_VRWirLXjN",
        "colab_type": "code",
        "outputId": "94a31282-d6fd-4acc-edeb-31fa875114ed",
        "colab": {
          "base_uri": "https://localhost:8080/",
          "height": 284
        }
      },
      "source": [
        "df = timeseries\n",
        "sns.set(rc={'figure.figsize':(13, 4)})\n",
        "sns.distplot((df), hist=True, rug=True).set_title('Time Series - Distribution Plot (incl. KDE & Rug Plot)')\n",
        "plt.show()"
      ],
      "execution_count": 6,
      "outputs": [
        {
          "output_type": "display_data",
          "data": {
            "image/png": "[encoded data removed]",
            "text/plain": [
              "<Figure size 936x288 with 1 Axes>"
            ]
          },
          "metadata": {
            "tags": []
          }
        }
      ]
    },
    {
      "cell_type": "code",
      "metadata": {
        "id": "03g5K1hhLaih",
        "colab_type": "code",
        "outputId": "7c12688c-dcc7-4646-8f83-52a38e21e6f1",
        "colab": {
          "base_uri": "https://localhost:8080/",
          "height": 284
        }
      },
      "source": [
        "plot_pacf(timeseries)\n",
        "plt.title('Time Series - Partial Autocorrelation Lag Plot')\n",
        "plt.show()"
      ],
      "execution_count": 7,
      "outputs": [
        {
          "output_type": "display_data",
          "data": {
            "image/png": "[encoded data removed]",
            "text/plain": [
              "<Figure size 936x288 with 1 Axes>"
            ]
          },
          "metadata": {
            "tags": []
          }
        }
      ]
    },
    {
      "cell_type": "code",
      "metadata": {
        "id": "lywMmKYcLhix",
        "colab_type": "code",
        "outputId": "5cb6782a-131b-43a2-95a0-300d0db75a4d",
        "colab": {
          "base_uri": "https://localhost:8080/",
          "height": 339
        }
      },
      "source": [
        "lag_plot(timeseries)\n",
        "plt.title('Time Series - Autocorrelation Lag Plot')\n",
        "plt.show()"
      ],
      "execution_count": 8,
      "outputs": [
        {
          "output_type": "stream",
          "text": [
            "'c' argument looks like a single numeric RGB or RGBA sequence, which should be avoided as value-mapping will have precedence in case its length matches with 'x' & 'y'.  Please use a 2-D array with a single row if you really want to specify the same RGB or RGBA value for all points.\n"
          ],
          "name": "stderr"
        },
        {
          "output_type": "display_data",
          "data": {
            "image/png": "[encoded data removed]",
            "text/plain": [
              "<Figure size 936x288 with 1 Axes>"
            ]
          },
          "metadata": {
            "tags": []
          }
        }
      ]
    },
    {
      "cell_type": "markdown",
      "metadata": {
        "id": "JFWNeVFALpIk",
        "colab_type": "text"
      },
      "source": [
        "One can predict next day price by todays price in a good amount. Rest maybe (Gaussian?) noise -> needs to be modeled and checked."
      ]
    },
    {
      "cell_type": "markdown",
      "metadata": {
        "id": "-SJ_PDlHLsWy",
        "colab_type": "text"
      },
      "source": [
        "## Model Training"
      ]
    },
    {
      "cell_type": "code",
      "metadata": {
        "id": "5CiNS5L8LuYz",
        "colab_type": "code",
        "outputId": "099654ef-de77-467e-82a7-20d60d28e301",
        "colab": {
          "base_uri": "https://localhost:8080/",
          "height": 122
        }
      },
      "source": [
        "from pandas import read_csv\n",
        "from pandas import datetime\n",
        "from pandas import DataFrame\n",
        "from pandas import concat\n",
        "from matplotlib import pyplot\n",
        "from sklearn.metrics import mean_squared_error\n",
        "\n",
        "# Create lagged dataset\n",
        "values = DataFrame(timeseries.values)\n",
        "dataframe = concat([values.shift(1), values], axis=1)\n",
        "dataframe.columns = ['t-1', 't+1']\n",
        "print(dataframe.head(5))"
      ],
      "execution_count": 9,
      "outputs": [
        {
          "output_type": "stream",
          "text": [
            "          t-1         t+1\n",
            "0         NaN  265.514771\n",
            "1  265.514771  264.568329\n",
            "2  264.568329  269.400208\n",
            "3  269.400208  262.406433\n",
            "4  262.406433  264.653015\n"
          ],
          "name": "stdout"
        }
      ]
    },
    {
      "cell_type": "code",
      "metadata": {
        "id": "s63c7uR-Lx9f",
        "colab_type": "code",
        "colab": {}
      },
      "source": [
        "# Train and Test Set\n",
        "X = dataframe.values\n",
        "train_size = int(len(X) * 0.66)\n",
        "train, test = X[1:train_size], X[train_size:]\n",
        "train_X, train_y = train[:,0], train[:,1]\n",
        "test_X, test_y = test[:,0], test[:,1]"
      ],
      "execution_count": 0,
      "outputs": []
    },
    {
      "cell_type": "code",
      "metadata": {
        "id": "XGx1sT-0L0fL",
        "colab_type": "code",
        "colab": {}
      },
      "source": [
        "# persistence model\n",
        "def model_persistence(x):\n",
        "\treturn x"
      ],
      "execution_count": 0,
      "outputs": []
    },
    {
      "cell_type": "code",
      "metadata": {
        "id": "yoxyu0deL33K",
        "colab_type": "code",
        "outputId": "22e0fca6-ba45-49bd-8a6f-e05162015145",
        "colab": {
          "base_uri": "https://localhost:8080/",
          "height": 34
        }
      },
      "source": [
        "# walk-forward validation\n",
        "predictions = list()\n",
        "for x in test_X:\n",
        "\tyhat = model_persistence(x)\n",
        "\tpredictions.append(yhat)\n",
        "test_score = mean_squared_error(test_y, predictions)\n",
        "print('Test MSE: %.3f' % test_score)"
      ],
      "execution_count": 12,
      "outputs": [
        {
          "output_type": "stream",
          "text": [
            "Test MSE: 238.637\n"
          ],
          "name": "stdout"
        }
      ]
    },
    {
      "cell_type": "markdown",
      "metadata": {
        "id": "-yrNOaEE779v",
        "colab_type": "text"
      },
      "source": [
        "# Residuals Analysis - Time Series"
      ]
    },
    {
      "cell_type": "markdown",
      "metadata": {
        "id": "K4ya31wui5kG",
        "colab_type": "text"
      },
      "source": [
        "## Residuals Summary"
      ]
    },
    {
      "cell_type": "code",
      "metadata": {
        "id": "2xNYZSmUJ_Fv",
        "colab_type": "code",
        "colab": {}
      },
      "source": [
        "# Define residuals\n",
        "residuals = (test_y - predictions)"
      ],
      "execution_count": 0,
      "outputs": []
    },
    {
      "cell_type": "code",
      "metadata": {
        "id": "W1LlfJv8iaU6",
        "colab_type": "code",
        "colab": {}
      },
      "source": [
        "# Convert from numpy.ndarray into pandas.DataFrame\n",
        "residuals = pd.DataFrame(residuals,\n",
        "                         columns=['value'])"
      ],
      "execution_count": 0,
      "outputs": []
    },
    {
      "cell_type": "code",
      "metadata": {
        "id": "UjFQkrjBh48P",
        "colab_type": "code",
        "outputId": "e655af6d-208c-49af-b953-1e458102c20a",
        "colab": {
          "base_uri": "https://localhost:8080/",
          "height": 201
        }
      },
      "source": [
        "residuals.head()"
      ],
      "execution_count": 15,
      "outputs": [
        {
          "output_type": "execute_result",
          "data": {
            "text/html": [
              "<div>\n",
              "<style scoped>\n",
              "    .dataframe tbody tr th:only-of-type {\n",
              "        vertical-align: middle;\n",
              "    }\n",
              "\n",
              "    .dataframe tbody tr th {\n",
              "        vertical-align: top;\n",
              "    }\n",
              "\n",
              "    .dataframe thead th {\n",
              "        text-align: right;\n",
              "    }\n",
              "</style>\n",
              "<table border=\"1\" class=\"dataframe\">\n",
              "  <thead>\n",
              "    <tr style=\"text-align: right;\">\n",
              "      <th></th>\n",
              "      <th>value</th>\n",
              "    </tr>\n",
              "  </thead>\n",
              "  <tbody>\n",
              "    <tr>\n",
              "      <th>0</th>\n",
              "      <td>2.679993</td>\n",
              "    </tr>\n",
              "    <tr>\n",
              "      <th>1</th>\n",
              "      <td>8.619995</td>\n",
              "    </tr>\n",
              "    <tr>\n",
              "      <th>2</th>\n",
              "      <td>0.269959</td>\n",
              "    </tr>\n",
              "    <tr>\n",
              "      <th>3</th>\n",
              "      <td>-5.029969</td>\n",
              "    </tr>\n",
              "    <tr>\n",
              "      <th>4</th>\n",
              "      <td>-15.660034</td>\n",
              "    </tr>\n",
              "  </tbody>\n",
              "</table>\n",
              "</div>"
            ],
            "text/plain": [
              "       value\n",
              "0   2.679993\n",
              "1   8.619995\n",
              "2   0.269959\n",
              "3  -5.029969\n",
              "4 -15.660034"
            ]
          },
          "metadata": {
            "tags": []
          },
          "execution_count": 15
        }
      ]
    },
    {
      "cell_type": "markdown",
      "metadata": {
        "id": "AIheSQ2ZKKWF",
        "colab_type": "text"
      },
      "source": [
        "## Distribution Tests"
      ]
    },
    {
      "cell_type": "markdown",
      "metadata": {
        "id": "8wC1BerI9jYO",
        "colab_type": "text"
      },
      "source": [
        "**Distribution Plot**"
      ]
    },
    {
      "cell_type": "code",
      "metadata": {
        "id": "Ecd_SL0z1xLJ",
        "colab_type": "code",
        "colab": {
          "base_uri": "https://localhost:8080/",
          "height": 301
        },
        "outputId": "c6dd5d69-8a28-45a4-d1be-c1d750f86dfe"
      },
      "source": [
        "df = residuals.value\n",
        "sns.set(rc={'figure.figsize':(13, 4)})\n",
        "sns.distplot((df), hist=True, rug=True).set_title('Residuals - Distribution Plot (incl. KDE & Rug Plot)')\n",
        "plt.show()"
      ],
      "execution_count": 16,
      "outputs": [
        {
          "output_type": "display_data",
          "data": {
            "image/png": "[encoded data removed]",
            "text/plain": [
              "<Figure size 936x288 with 1 Axes>"
            ]
          },
          "metadata": {
            "tags": []
          }
        }
      ]
    },
    {
      "cell_type": "markdown",
      "metadata": {
        "id": "dj64aawt9mA3",
        "colab_type": "text"
      },
      "source": [
        "**Quantile Quantile Plot**"
      ]
    },
    {
      "cell_type": "code",
      "metadata": {
        "id": "S7I_V_4iKfVN",
        "colab_type": "code",
        "outputId": "2860f2b0-391e-4c6c-9a9b-db981d9d45e2",
        "colab": {
          "base_uri": "https://localhost:8080/",
          "height": 301
        }
      },
      "source": [
        "sns.set(rc={'figure.figsize':(13, 4)})\n",
        "stats.probplot(residuals.value, dist=\"norm\", plot=plt)\n",
        "plt.title('Residuals - QQ Plot - Normal Distribution')\n",
        "plt.show()"
      ],
      "execution_count": 17,
      "outputs": [
        {
          "output_type": "display_data",
          "data": {
            "image/png": "[encoded data removed]",
            "text/plain": [
              "<Figure size 936x288 with 1 Axes>"
            ]
          },
          "metadata": {
            "tags": []
          }
        }
      ]
    },
    {
      "cell_type": "markdown",
      "metadata": {
        "id": "wYp3QGi62gjz",
        "colab_type": "text"
      },
      "source": [
        "**Box Plot**"
      ]
    },
    {
      "cell_type": "code",
      "metadata": {
        "id": "sOcdwvGQ2iOY",
        "colab_type": "code",
        "colab": {
          "base_uri": "https://localhost:8080/",
          "height": 319
        },
        "outputId": "d268d2d0-22b0-4160-900d-7435605cc650"
      },
      "source": [
        "# Box Plot\n",
        "sns.set(rc={'figure.figsize':(13, 4)})\n",
        "sns.boxplot(residuals.value).set_title('Residuals - Boxplot')"
      ],
      "execution_count": 18,
      "outputs": [
        {
          "output_type": "execute_result",
          "data": {
            "text/plain": [
              "Text(0.5, 1.0, 'Residuals - Boxplot')"
            ]
          },
          "metadata": {
            "tags": []
          },
          "execution_count": 18
        },
        {
          "output_type": "display_data",
          "data": {
            "image/png": "[encoded data removed]",
            "text/plain": [
              "<Figure size 936x288 with 1 Axes>"
            ]
          },
          "metadata": {
            "tags": []
          }
        }
      ]
    },
    {
      "cell_type": "markdown",
      "metadata": {
        "id": "pSAhP_TM9pO3",
        "colab_type": "text"
      },
      "source": [
        "**Anderson-Darling Test**"
      ]
    },
    {
      "cell_type": "code",
      "metadata": {
        "id": "T4tTgliQ8_u-",
        "colab_type": "code",
        "colab": {
          "base_uri": "https://localhost:8080/",
          "height": 54
        },
        "outputId": "86c2b85d-e4ac-4d11-c531-335443b49dd6"
      },
      "source": [
        "# Anderson-Darling Test for Normal Distribution\n",
        "stats.anderson(residuals.value)"
      ],
      "execution_count": 19,
      "outputs": [
        {
          "output_type": "execute_result",
          "data": {
            "text/plain": [
              "AndersonResult(statistic=13.297006128650992, critical_values=array([0.573, 0.653, 0.783, 0.914, 1.087]), significance_level=array([15. , 10. ,  5. ,  2.5,  1. ]))"
            ]
          },
          "metadata": {
            "tags": []
          },
          "execution_count": 19
        }
      ]
    },
    {
      "cell_type": "markdown",
      "metadata": {
        "id": "rToggDfl9s-c",
        "colab_type": "text"
      },
      "source": [
        "**Jarque-Bera Test**"
      ]
    },
    {
      "cell_type": "code",
      "metadata": {
        "id": "ilm8VT3D9B7-",
        "colab_type": "code",
        "colab": {
          "base_uri": "https://localhost:8080/",
          "height": 34
        },
        "outputId": "bfeac911-2b4c-4baa-b194-9b6334a52d2e"
      },
      "source": [
        "# Jarque-Bera test tests whether the sample data has the skewness and kurtosis matching a normal distribution\n",
        "# Null hypothesis: sample is normal distributed. JB(PValue<0.05)= Reject Ho (Non-Normal Distribution)\n",
        "stats.jarque_bera(residuals.value)"
      ],
      "execution_count": 20,
      "outputs": [
        {
          "output_type": "execute_result",
          "data": {
            "text/plain": [
              "(2024.564169892181, 0.0)"
            ]
          },
          "metadata": {
            "tags": []
          },
          "execution_count": 20
        }
      ]
    },
    {
      "cell_type": "markdown",
      "metadata": {
        "id": "RaewS3CB9vlg",
        "colab_type": "text"
      },
      "source": [
        "**Kolmogorov-Smirnov Test**"
      ]
    },
    {
      "cell_type": "code",
      "metadata": {
        "id": "N3JAmp3n9Dvw",
        "colab_type": "code",
        "colab": {
          "base_uri": "https://localhost:8080/",
          "height": 34
        },
        "outputId": "b0460b91-81dc-409f-93a9-572068e1c016"
      },
      "source": [
        "# Kolmogorov-Smirnov Test\n",
        "stats.kstest(residuals.value, 'norm')"
      ],
      "execution_count": 21,
      "outputs": [
        {
          "output_type": "execute_result",
          "data": {
            "text/plain": [
              "KstestResult(statistic=0.43962978621936777, pvalue=3.940961727241644e-151)"
            ]
          },
          "metadata": {
            "tags": []
          },
          "execution_count": 21
        }
      ]
    },
    {
      "cell_type": "markdown",
      "metadata": {
        "id": "mPqgaL5FMqV3",
        "colab_type": "text"
      },
      "source": [
        "\n",
        "---\n",
        "## Stationary Tests\n",
        "\n"
      ]
    },
    {
      "cell_type": "markdown",
      "metadata": {
        "id": "HOu-DTYP9y83",
        "colab_type": "text"
      },
      "source": [
        "**Augmented Dickey Fuller Test**"
      ]
    },
    {
      "cell_type": "code",
      "metadata": {
        "id": "AnzNAG_oNfEu",
        "colab_type": "code",
        "outputId": "013c85da-5e9d-46eb-d3d5-4c031f770bad",
        "colab": {
          "base_uri": "https://localhost:8080/",
          "height": 157
        }
      },
      "source": [
        "# Augmented Dickey Fuller Test\n",
        "# H0: There is a unit root for the series (non stationary)\n",
        "# Test for no constant, no trend. Reject H0 if p-value of less than 5%.\n",
        "statsmodels.tsa.stattools.adfuller(residuals.value, maxlag=None, regression='nc', autolag='AIC', store=False, regresults=False)"
      ],
      "execution_count": 22,
      "outputs": [
        {
          "output_type": "execute_result",
          "data": {
            "text/plain": [
              "(-10.644122121373616,\n",
              " 4.0301069141070444e-19,\n",
              " 10,\n",
              " 845,\n",
              " {'1%': -2.5683909968138368,\n",
              "  '10%': -1.6165094394221937,\n",
              "  '5%': -1.9413225307933255},\n",
              " 6934.770505985956)"
            ]
          },
          "metadata": {
            "tags": []
          },
          "execution_count": 22
        }
      ]
    },
    {
      "cell_type": "markdown",
      "metadata": {
        "id": "DOA053Sg91rH",
        "colab_type": "text"
      },
      "source": [
        "**KPSS - Trend Stationary Test**"
      ]
    },
    {
      "cell_type": "code",
      "metadata": {
        "id": "N6EWgvxE9GaO",
        "colab_type": "code",
        "colab": {
          "base_uri": "https://localhost:8080/",
          "height": 142
        },
        "outputId": "bffc737b-ff34-4bc1-fa64-73d5a0b40091"
      },
      "source": [
        "# KPSS - Trend Stationary Test\n",
        "# H0 = Deterministic Trend. H1 = Non-Stationary (Unit Root). Reject H0 if p-value of less than 5% \n",
        "statsmodels.tsa.stattools.kpss(residuals.value, regression='ct', lags='auto', store=False)"
      ],
      "execution_count": 23,
      "outputs": [
        {
          "output_type": "stream",
          "text": [
            "/usr/local/lib/python3.6/dist-packages/statsmodels/tsa/stattools.py:1711: InterpolationWarning: p-value is greater than the indicated p-value\n",
            "  warn(\"p-value is greater than the indicated p-value\", InterpolationWarning)\n"
          ],
          "name": "stderr"
        },
        {
          "output_type": "execute_result",
          "data": {
            "text/plain": [
              "(0.04993289213969271,\n",
              " 0.1,\n",
              " 5,\n",
              " {'1%': 0.216, '10%': 0.119, '2.5%': 0.176, '5%': 0.146})"
            ]
          },
          "metadata": {
            "tags": []
          },
          "execution_count": 23
        }
      ]
    },
    {
      "cell_type": "markdown",
      "metadata": {
        "id": "gkx1yJeq94vg",
        "colab_type": "text"
      },
      "source": [
        "**KPSS - Level Stationary Test**"
      ]
    },
    {
      "cell_type": "code",
      "metadata": {
        "id": "Our7e3K79H4t",
        "colab_type": "code",
        "colab": {
          "base_uri": "https://localhost:8080/",
          "height": 142
        },
        "outputId": "923891cb-f617-44d8-c6dc-2e756aa50fb3"
      },
      "source": [
        "# KPSS - Level Stationary Test\n",
        "# H0 = Stationary (Stochastic Trend). H1 = Non-Stationary (Unit Root). Reject H0 if p-value of less than 5%\n",
        "statsmodels.tsa.stattools.kpss(residuals.value, regression='c', lags='auto', store=False)"
      ],
      "execution_count": 24,
      "outputs": [
        {
          "output_type": "stream",
          "text": [
            "/usr/local/lib/python3.6/dist-packages/statsmodels/tsa/stattools.py:1711: InterpolationWarning: p-value is greater than the indicated p-value\n",
            "  warn(\"p-value is greater than the indicated p-value\", InterpolationWarning)\n"
          ],
          "name": "stderr"
        },
        {
          "output_type": "execute_result",
          "data": {
            "text/plain": [
              "(0.05802612414321132,\n",
              " 0.1,\n",
              " 4,\n",
              " {'1%': 0.739, '10%': 0.347, '2.5%': 0.574, '5%': 0.463})"
            ]
          },
          "metadata": {
            "tags": []
          },
          "execution_count": 24
        }
      ]
    },
    {
      "cell_type": "markdown",
      "metadata": {
        "id": "eMdf6Kx4Ms2j",
        "colab_type": "text"
      },
      "source": [
        "---\n",
        "## Autocorrelation Tests"
      ]
    },
    {
      "cell_type": "markdown",
      "metadata": {
        "id": "iQzkHq4a97mi",
        "colab_type": "text"
      },
      "source": [
        "**Lag Plot**"
      ]
    },
    {
      "cell_type": "code",
      "metadata": {
        "id": "gu7GO485NLC1",
        "colab_type": "code",
        "outputId": "122a608a-0e67-4d2c-a278-3744a28348ea",
        "colab": {
          "base_uri": "https://localhost:8080/",
          "height": 339
        }
      },
      "source": [
        "lag_plot(residuals.value)\n",
        "sns.set(rc={'figure.figsize':(13, 4)})\n",
        "plt.title('Residuals - Autocorrelation Lag Plot')\n",
        "plt.show()"
      ],
      "execution_count": 25,
      "outputs": [
        {
          "output_type": "stream",
          "text": [
            "'c' argument looks like a single numeric RGB or RGBA sequence, which should be avoided as value-mapping will have precedence in case its length matches with 'x' & 'y'.  Please use a 2-D array with a single row if you really want to specify the same RGB or RGBA value for all points.\n"
          ],
          "name": "stderr"
        },
        {
          "output_type": "display_data",
          "data": {
            "image/png": "[encoded data removed]",
            "text/plain": [
              "<Figure size 936x288 with 1 Axes>"
            ]
          },
          "metadata": {
            "tags": []
          }
        }
      ]
    },
    {
      "cell_type": "markdown",
      "metadata": {
        "id": "h3Yv_rat9-GV",
        "colab_type": "text"
      },
      "source": [
        "**Autocorrelation Plot**"
      ]
    },
    {
      "cell_type": "code",
      "metadata": {
        "id": "M0oWslAPNRRK",
        "colab_type": "code",
        "outputId": "b958b038-de5a-4995-e5c0-0d70642a662c",
        "colab": {
          "base_uri": "https://localhost:8080/",
          "height": 284
        }
      },
      "source": [
        "sns.set(rc={'figure.figsize':(13, 4)})\n",
        "sm.graphics.tsa.plot_acf(residuals.value.squeeze(), lags=15)\n",
        "plt.title('Residuals - Autocorrelation')\n",
        "plt.show()"
      ],
      "execution_count": 26,
      "outputs": [
        {
          "output_type": "display_data",
          "data": {
            "image/png": "[encoded data removed]",
            "text/plain": [
              "<Figure size 936x288 with 1 Axes>"
            ]
          },
          "metadata": {
            "tags": []
          }
        }
      ]
    },
    {
      "cell_type": "markdown",
      "metadata": {
        "id": "HdNCCxcI-Arp",
        "colab_type": "text"
      },
      "source": [
        "**Partial Autocorrelation Plot**"
      ]
    },
    {
      "cell_type": "code",
      "metadata": {
        "id": "PQUFQU8xNXBg",
        "colab_type": "code",
        "outputId": "011deb00-2860-4535-8f4f-8d73d3aeab7f",
        "colab": {
          "base_uri": "https://localhost:8080/",
          "height": 284
        }
      },
      "source": [
        "# Partial Autocorrelation Plot\n",
        "plot_pacf(residuals.value)\n",
        "sns.set(rc={'figure.figsize':(13, 4)})\n",
        "plt.title('Residuals - Partial Autocorrelation')\n",
        "plt.show()"
      ],
      "execution_count": 27,
      "outputs": [
        {
          "output_type": "display_data",
          "data": {
            "image/png": "[encoded data removed]",
            "text/plain": [
              "<Figure size 936x288 with 1 Axes>"
            ]
          },
          "metadata": {
            "tags": []
          }
        }
      ]
    },
    {
      "cell_type": "markdown",
      "metadata": {
        "id": "3QHfRvAp-DVn",
        "colab_type": "text"
      },
      "source": [
        "**Durbin-Watson Test**"
      ]
    },
    {
      "cell_type": "code",
      "metadata": {
        "id": "MZJ3fZKP9Mdm",
        "colab_type": "code",
        "colab": {
          "base_uri": "https://localhost:8080/",
          "height": 34
        },
        "outputId": "54382fb8-ce09-41dd-edcb-c4c965002d65"
      },
      "source": [
        "# Durbin-Watson test to assess autocorrelation\n",
        "# The null hypothesis of the test is that there is no serial correlation\n",
        "# This statistic will always be between 0 and 4. \n",
        "# The closer to 0 the statistic, the more evidence for positive serial correlation. \n",
        "# The closer to 4, the more evidence for negative serial correlation.\n",
        "statsmodels.stats.stattools.durbin_watson(residuals.value, axis=0)"
      ],
      "execution_count": 28,
      "outputs": [
        {
          "output_type": "execute_result",
          "data": {
            "text/plain": [
              "1.9873377632884202"
            ]
          },
          "metadata": {
            "tags": []
          },
          "execution_count": 28
        }
      ]
    }
  ]
}