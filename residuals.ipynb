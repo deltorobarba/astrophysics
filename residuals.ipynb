{
  "nbformat": 4,
  "nbformat_minor": 0,
  "metadata": {
    "colab": {
      "name": "residuals.ipynb",
      "provenance": [],
      "collapsed_sections": [],
      "toc_visible": true,
      "include_colab_link": true
    },
    "kernelspec": {
      "name": "python3",
      "display_name": "Python 3"
    }
  },
  "cells": [
    {
      "cell_type": "markdown",
      "metadata": {
        "id": "view-in-github",
        "colab_type": "text"
      },
      "source": [
        "<a href=\"https://colab.research.google.com/github/deltorobarba/machinelearning/blob/master/residuals.ipynb\" target=\"_parent\"><img src=\"https://colab.research.google.com/assets/colab-badge.svg\" alt=\"Open In Colab\"/></a>"
      ]
    },
    {
      "cell_type": "markdown",
      "metadata": {
        "id": "UEh8uBW7Hrae",
        "colab_type": "text"
      },
      "source": [
        "# Residuals Analysis"
      ]
    },
    {
      "cell_type": "markdown",
      "metadata": {
        "id": "lz2D7pzTBD-m",
        "colab_type": "text"
      },
      "source": [
        "*Author: Alexander Del Toro Barba*"
      ]
    },
    {
      "cell_type": "markdown",
      "metadata": {
        "id": "8chCbs1o_Iud",
        "colab_type": "text"
      },
      "source": [
        "## What are residuals?\n",
        "\n",
        "For most (time series) models, the residuals are difference between observation and its corresponding estimated (fitted) value:\n",
        "\n",
        "$e_{t} = y_{t} - \\hat{y}_{t}$"
      ]
    },
    {
      "cell_type": "markdown",
      "metadata": {
        "id": "81DFVLJEERy7",
        "colab_type": "text"
      },
      "source": [
        "## Why is it important to analyze residuals?\n",
        "\n",
        "Residuals are useful in checking whether a model has adequately captured the information in the data. In a good model the residuals are stationary. However one can classify the stationarity criteria in two distinct groups for residual analysis:\n",
        "\n",
        "A good forecasting method will yield residuals with the following properties:\n",
        "\n",
        "1. The residuals are uncorrelated. If there are correlations between residuals, then there is information left in the residuals which should be used in computing forecasts.\n",
        "\n",
        "2. The residuals have zero mean. If the residuals have a mean other than zero, then the forecasts are biased.\n",
        "\n",
        "Any forecasting method that does not satisfy these properties can be improved. However, that does not mean that forecasting methods that satisfy these properties cannot be improved. It is possible to have several different forecasting methods for the same data set, all of which satisfy these properties. Checking these properties is important in order to see whether a method is using all of the available information, but it is not a good way to select a forecasting method.\n",
        "\n",
        "If either of these properties is not satisfied, then the forecasting method can be modified to give better forecasts. Adjusting for bias is easy: if the residuals have mean m, then simply add m to all forecasts and the bias problem is solved. Fixing the correlation problem is harder, and we will not address it until Chapter 9.\n",
        "\n",
        "In addition to these essential properties, it is useful (but not necessary) for the residuals to also have the following two properties.\n",
        "\n",
        "3. The residuals have constant variance.\n",
        "\n",
        "4. The residuals are normally distributed.\n",
        "\n",
        "These two properties make the calculation of prediction intervals easier (see Section 3.5 for an example). However, a forecasting method that does not satisfy these properties cannot necessarily be improved. Sometimes applying a Box-Cox transformation may assist with these properties, but otherwise there is usually little that you can do to ensure that your residuals have constant variance and a normal distribution. Instead, an alternative approach to obtaining prediction intervals is necessary. Again, we will not address how to do this until later in the book.\n",
        "\n",
        "https://otexts.com/fpp2/residuals.html\n",
        "https://otexts.com/fpp2/prediction-intervals.html"
      ]
    },
    {
      "cell_type": "markdown",
      "metadata": {
        "id": "Ayt2I86pl93E",
        "colab_type": "text"
      },
      "source": [
        "# Import Libraries"
      ]
    },
    {
      "cell_type": "code",
      "metadata": {
        "id": "mVoqiLSATtsG",
        "colab_type": "code",
        "colab": {}
      },
      "source": [
        "# Import packages\n",
        "import numpy as np\n",
        "import sklearn\n",
        "from decimal import *\n",
        "from numpy import linalg as LA\n",
        "import matplotlib.pyplot as plt\n",
        "from mpl_toolkits.mplot3d import Axes3D\n",
        "\n",
        "import collections\n",
        "import datetime\n",
        "import matplotlib\n",
        "from scipy import stats\n",
        "import scipy.stats as stats\n",
        "import matplotlib.pylab as py\n",
        "import matplotlib.pyplot as plt\n",
        "from numpy import sqrt\n",
        "from copy import copy\n",
        "from pandas.plotting import lag_plot\n",
        "from pandas.plotting import autocorrelation_plot\n",
        "from statsmodels.graphics.tsaplots import plot_acf\n",
        "from statsmodels.graphics.tsaplots import plot_pacf\n",
        "import statsmodels.api as sm\n",
        "from statsmodels.tsa.arima_process import ArmaProcess\n",
        "from statsmodels.graphics.tsaplots import plot_pacf\n",
        "import matplotlib.dates as mdates\n",
        "import numpy as np\n",
        "import pandas as pd\n",
        "import seaborn as sns\n",
        "import tensorflow as tf\n",
        "import statsmodels\n",
        "from statsmodels.tsa.stattools import adfuller\n",
        "from numpy import log"
      ],
      "execution_count": 0,
      "outputs": []
    },
    {
      "cell_type": "markdown",
      "metadata": {
        "id": "gX635u0Tg3Ur",
        "colab_type": "text"
      },
      "source": [
        "# Train Linear Regression Model\n"
      ]
    },
    {
      "cell_type": "markdown",
      "metadata": {
        "id": "Jgc5pHx0h2bj",
        "colab_type": "text"
      },
      "source": [
        "## Import & Prepare Data"
      ]
    },
    {
      "cell_type": "markdown",
      "metadata": {
        "id": "XjF3RTTTidzv",
        "colab_type": "text"
      },
      "source": [
        "**Import Data**"
      ]
    },
    {
      "cell_type": "code",
      "metadata": {
        "id": "mUh8P80YhV8y",
        "colab_type": "code",
        "colab": {}
      },
      "source": [
        "url = 'https://raw.githubusercontent.com/deltorobarba/repo/master/usa_housing.csv'\n",
        "series = pd.read_csv(url)"
      ],
      "execution_count": 0,
      "outputs": []
    },
    {
      "cell_type": "code",
      "metadata": {
        "id": "KKVHq2cIhV5Y",
        "colab_type": "code",
        "outputId": "bd356e9e-44fc-4885-86b9-f4f02179c429",
        "colab": {
          "base_uri": "https://localhost:8080/",
          "height": 285
        }
      },
      "source": [
        "USAhousing.head()"
      ],
      "execution_count": 0,
      "outputs": [
        {
          "output_type": "execute_result",
          "data": {
            "text/html": [
              "<div>\n",
              "<style scoped>\n",
              "    .dataframe tbody tr th:only-of-type {\n",
              "        vertical-align: middle;\n",
              "    }\n",
              "\n",
              "    .dataframe tbody tr th {\n",
              "        vertical-align: top;\n",
              "    }\n",
              "\n",
              "    .dataframe thead th {\n",
              "        text-align: right;\n",
              "    }\n",
              "</style>\n",
              "<table border=\"1\" class=\"dataframe\">\n",
              "  <thead>\n",
              "    <tr style=\"text-align: right;\">\n",
              "      <th></th>\n",
              "      <th>Avg. Area Income</th>\n",
              "      <th>Avg. Area House Age</th>\n",
              "      <th>Avg. Area Number of Rooms</th>\n",
              "      <th>Avg. Area Number of Bedrooms</th>\n",
              "      <th>Area Population</th>\n",
              "      <th>Price</th>\n",
              "      <th>Address</th>\n",
              "    </tr>\n",
              "  </thead>\n",
              "  <tbody>\n",
              "    <tr>\n",
              "      <th>0</th>\n",
              "      <td>79545.458574</td>\n",
              "      <td>5.682861</td>\n",
              "      <td>7.009188</td>\n",
              "      <td>4.09</td>\n",
              "      <td>23086.800503</td>\n",
              "      <td>1.059034e+06</td>\n",
              "      <td>208 Michael Ferry Apt. 674\\nLaurabury, NE 3701...</td>\n",
              "    </tr>\n",
              "    <tr>\n",
              "      <th>1</th>\n",
              "      <td>79248.642455</td>\n",
              "      <td>6.002900</td>\n",
              "      <td>6.730821</td>\n",
              "      <td>3.09</td>\n",
              "      <td>40173.072174</td>\n",
              "      <td>1.505891e+06</td>\n",
              "      <td>188 Johnson Views Suite 079\\nLake Kathleen, CA...</td>\n",
              "    </tr>\n",
              "    <tr>\n",
              "      <th>2</th>\n",
              "      <td>61287.067179</td>\n",
              "      <td>5.865890</td>\n",
              "      <td>8.512727</td>\n",
              "      <td>5.13</td>\n",
              "      <td>36882.159400</td>\n",
              "      <td>1.058988e+06</td>\n",
              "      <td>9127 Elizabeth Stravenue\\nDanieltown, WI 06482...</td>\n",
              "    </tr>\n",
              "    <tr>\n",
              "      <th>3</th>\n",
              "      <td>63345.240046</td>\n",
              "      <td>7.188236</td>\n",
              "      <td>5.586729</td>\n",
              "      <td>3.26</td>\n",
              "      <td>34310.242831</td>\n",
              "      <td>1.260617e+06</td>\n",
              "      <td>USS Barnett\\nFPO AP 44820</td>\n",
              "    </tr>\n",
              "    <tr>\n",
              "      <th>4</th>\n",
              "      <td>59982.197226</td>\n",
              "      <td>5.040555</td>\n",
              "      <td>7.839388</td>\n",
              "      <td>4.23</td>\n",
              "      <td>26354.109472</td>\n",
              "      <td>6.309435e+05</td>\n",
              "      <td>USNS Raymond\\nFPO AE 09386</td>\n",
              "    </tr>\n",
              "  </tbody>\n",
              "</table>\n",
              "</div>"
            ],
            "text/plain": [
              "   Avg. Area Income  ...                                            Address\n",
              "0      79545.458574  ...  208 Michael Ferry Apt. 674\\nLaurabury, NE 3701...\n",
              "1      79248.642455  ...  188 Johnson Views Suite 079\\nLake Kathleen, CA...\n",
              "2      61287.067179  ...  9127 Elizabeth Stravenue\\nDanieltown, WI 06482...\n",
              "3      63345.240046  ...                          USS Barnett\\nFPO AP 44820\n",
              "4      59982.197226  ...                         USNS Raymond\\nFPO AE 09386\n",
              "\n",
              "[5 rows x 7 columns]"
            ]
          },
          "metadata": {
            "tags": []
          },
          "execution_count": 46
        }
      ]
    },
    {
      "cell_type": "markdown",
      "metadata": {
        "id": "zSa86wk8l16t",
        "colab_type": "text"
      },
      "source": [
        "**Set X and Y Arrays**"
      ]
    },
    {
      "cell_type": "code",
      "metadata": {
        "id": "MWa17UIXg7pE",
        "colab_type": "code",
        "colab": {}
      },
      "source": [
        "X = series[['Avg. Area Income', 'Avg. Area House Age', 'Avg. Area Number of Rooms',\n",
        "               'Avg. Area Number of Bedrooms', 'Area Population']]\n",
        "y = series['Price']"
      ],
      "execution_count": 0,
      "outputs": []
    },
    {
      "cell_type": "markdown",
      "metadata": {
        "id": "emNkyuemhlBD",
        "colab_type": "text"
      },
      "source": [
        "**Train & Test Split**"
      ]
    },
    {
      "cell_type": "code",
      "metadata": {
        "id": "PWrfAO14hnBZ",
        "colab_type": "code",
        "colab": {}
      },
      "source": [
        "from sklearn.model_selection import train_test_split"
      ],
      "execution_count": 0,
      "outputs": []
    },
    {
      "cell_type": "code",
      "metadata": {
        "id": "sJc6qj5dho8Y",
        "colab_type": "code",
        "colab": {}
      },
      "source": [
        "X_train, X_test, y_train, y_test = train_test_split(X, y, test_size=0.4, random_state=101)"
      ],
      "execution_count": 0,
      "outputs": []
    },
    {
      "cell_type": "markdown",
      "metadata": {
        "id": "VQgNHewul7Qu",
        "colab_type": "text"
      },
      "source": [
        "## Model Training"
      ]
    },
    {
      "cell_type": "markdown",
      "metadata": {
        "id": "a6_wi5PLhrB2",
        "colab_type": "text"
      },
      "source": [
        "**Create & Train Model**"
      ]
    },
    {
      "cell_type": "code",
      "metadata": {
        "id": "hhLIWLYmhvj9",
        "colab_type": "code",
        "colab": {}
      },
      "source": [
        "from sklearn.linear_model import LinearRegression"
      ],
      "execution_count": 0,
      "outputs": []
    },
    {
      "cell_type": "code",
      "metadata": {
        "id": "0ikrHcyFhxvw",
        "colab_type": "code",
        "colab": {}
      },
      "source": [
        "lm = LinearRegression()"
      ],
      "execution_count": 0,
      "outputs": []
    },
    {
      "cell_type": "code",
      "metadata": {
        "id": "kOw3yYCkhzWt",
        "colab_type": "code",
        "outputId": "f40beb5e-e3c5-46a5-a3cd-5163f573a60e",
        "colab": {
          "base_uri": "https://localhost:8080/",
          "height": 34
        }
      },
      "source": [
        "lm.fit(X_train,y_train)"
      ],
      "execution_count": 0,
      "outputs": [
        {
          "output_type": "execute_result",
          "data": {
            "text/plain": [
              "LinearRegression(copy_X=True, fit_intercept=True, n_jobs=None, normalize=False)"
            ]
          },
          "metadata": {
            "tags": []
          },
          "execution_count": 52
        }
      ]
    },
    {
      "cell_type": "markdown",
      "metadata": {
        "id": "yCXi1rvgiArs",
        "colab_type": "text"
      },
      "source": [
        "**Evaluate Model**"
      ]
    },
    {
      "cell_type": "code",
      "metadata": {
        "id": "kvP_gQ3hiEI0",
        "colab_type": "code",
        "outputId": "9bf54bea-e4d2-444f-bea0-d5e17b9cf791",
        "colab": {
          "base_uri": "https://localhost:8080/",
          "height": 34
        }
      },
      "source": [
        "# print the intercept\n",
        "print(lm.intercept_)"
      ],
      "execution_count": 0,
      "outputs": [
        {
          "output_type": "stream",
          "text": [
            "-2640159.796853739\n"
          ],
          "name": "stdout"
        }
      ]
    },
    {
      "cell_type": "code",
      "metadata": {
        "id": "bxAPgZbKiHMg",
        "colab_type": "code",
        "outputId": "aa169d29-83d2-4b6d-91fd-3cc5b14ea7ed",
        "colab": {
          "base_uri": "https://localhost:8080/",
          "height": 201
        }
      },
      "source": [
        "coeff_df = pd.DataFrame(lm.coef_,X.columns,columns=['Coefficient'])\n",
        "coeff_df"
      ],
      "execution_count": 0,
      "outputs": [
        {
          "output_type": "execute_result",
          "data": {
            "text/html": [
              "<div>\n",
              "<style scoped>\n",
              "    .dataframe tbody tr th:only-of-type {\n",
              "        vertical-align: middle;\n",
              "    }\n",
              "\n",
              "    .dataframe tbody tr th {\n",
              "        vertical-align: top;\n",
              "    }\n",
              "\n",
              "    .dataframe thead th {\n",
              "        text-align: right;\n",
              "    }\n",
              "</style>\n",
              "<table border=\"1\" class=\"dataframe\">\n",
              "  <thead>\n",
              "    <tr style=\"text-align: right;\">\n",
              "      <th></th>\n",
              "      <th>Coefficient</th>\n",
              "    </tr>\n",
              "  </thead>\n",
              "  <tbody>\n",
              "    <tr>\n",
              "      <th>Avg. Area Income</th>\n",
              "      <td>21.528276</td>\n",
              "    </tr>\n",
              "    <tr>\n",
              "      <th>Avg. Area House Age</th>\n",
              "      <td>164883.282027</td>\n",
              "    </tr>\n",
              "    <tr>\n",
              "      <th>Avg. Area Number of Rooms</th>\n",
              "      <td>122368.678027</td>\n",
              "    </tr>\n",
              "    <tr>\n",
              "      <th>Avg. Area Number of Bedrooms</th>\n",
              "      <td>2233.801864</td>\n",
              "    </tr>\n",
              "    <tr>\n",
              "      <th>Area Population</th>\n",
              "      <td>15.150420</td>\n",
              "    </tr>\n",
              "  </tbody>\n",
              "</table>\n",
              "</div>"
            ],
            "text/plain": [
              "                                Coefficient\n",
              "Avg. Area Income                  21.528276\n",
              "Avg. Area House Age           164883.282027\n",
              "Avg. Area Number of Rooms     122368.678027\n",
              "Avg. Area Number of Bedrooms    2233.801864\n",
              "Area Population                   15.150420"
            ]
          },
          "metadata": {
            "tags": []
          },
          "execution_count": 54
        }
      ]
    },
    {
      "cell_type": "markdown",
      "metadata": {
        "id": "VSElh3udiLdu",
        "colab_type": "text"
      },
      "source": [
        "Interpreting the coefficients:\n",
        "\n",
        "- Holding all other features fixed, a 1 unit increase in **Avg. Area Income** is associated with an **increase of \\$21.52 **.\n",
        "- Holding all other features fixed, a 1 unit increase in **Avg. Area House Age** is associated with an **increase of \\$164883.28 **.\n",
        "- Holding all other features fixed, a 1 unit increase in **Avg. Area Number of Rooms** is associated with an **increase of \\$122368.67 **.\n",
        "- Holding all other features fixed, a 1 unit increase in **Avg. Area Number of Bedrooms** is associated with an **increase of \\$2233.80 **.\n",
        "- Holding all other features fixed, a 1 unit increase in **Area Population** is associated with an **increase of \\$15.15 **."
      ]
    },
    {
      "cell_type": "markdown",
      "metadata": {
        "id": "_-MkoKDuiUci",
        "colab_type": "text"
      },
      "source": [
        "**Run predictions from model**"
      ]
    },
    {
      "cell_type": "code",
      "metadata": {
        "id": "YVVgcdcKiW7p",
        "colab_type": "code",
        "colab": {}
      },
      "source": [
        "predictions = lm.predict(X_test)"
      ],
      "execution_count": 0,
      "outputs": []
    },
    {
      "cell_type": "code",
      "metadata": {
        "id": "LpyABZHUiYuh",
        "colab_type": "code",
        "outputId": "4743afae-d273-493f-b5af-2c998edc47c5",
        "colab": {
          "base_uri": "https://localhost:8080/",
          "height": 285
        }
      },
      "source": [
        "plt.scatter(y_test,predictions)"
      ],
      "execution_count": 0,
      "outputs": [
        {
          "output_type": "execute_result",
          "data": {
            "text/plain": [
              "<matplotlib.collections.PathCollection at 0x7f1df2bdfa58>"
            ]
          },
          "metadata": {
            "tags": []
          },
          "execution_count": 56
        },
        {
          "output_type": "display_data",
          "data": {
            "image/png": "[encoded data removed]",
            "text/plain": [
              "<Figure size 936x288 with 1 Axes>"
            ]
          },
          "metadata": {
            "tags": []
          }
        }
      ]
    },
    {
      "cell_type": "markdown",
      "metadata": {
        "id": "bVMOJbzRi6iH",
        "colab_type": "text"
      },
      "source": [
        "**Regression Evaluation Metrics**"
      ]
    },
    {
      "cell_type": "code",
      "metadata": {
        "id": "A1TnAOQji26x",
        "colab_type": "code",
        "colab": {}
      },
      "source": [
        "from sklearn import metrics"
      ],
      "execution_count": 0,
      "outputs": []
    },
    {
      "cell_type": "code",
      "metadata": {
        "id": "enEkHEExi4X-",
        "colab_type": "code",
        "outputId": "bbb12390-17e9-4d59-874d-45346723fdd3",
        "colab": {
          "base_uri": "https://localhost:8080/",
          "height": 69
        }
      },
      "source": [
        "print('MAE:', metrics.mean_absolute_error(y_test, predictions))\n",
        "print('MSE:', metrics.mean_squared_error(y_test, predictions))\n",
        "print('RMSE:', np.sqrt(metrics.mean_squared_error(y_test, predictions)))"
      ],
      "execution_count": 0,
      "outputs": [
        {
          "output_type": "stream",
          "text": [
            "MAE: 82288.22251914928\n",
            "MSE: 10460958907.208244\n",
            "RMSE: 102278.82922290538\n"
          ],
          "name": "stdout"
        }
      ]
    },
    {
      "cell_type": "markdown",
      "metadata": {
        "id": "K-4hVERpo5bp",
        "colab_type": "text"
      },
      "source": [
        "# Residuals Analysis"
      ]
    },
    {
      "cell_type": "markdown",
      "metadata": {
        "id": "m8LnhblbmPp0",
        "colab_type": "text"
      },
      "source": [
        "**Define residuals**"
      ]
    },
    {
      "cell_type": "code",
      "metadata": {
        "id": "F2zzeaBAjxQ_",
        "colab_type": "code",
        "colab": {}
      },
      "source": [
        "residuals = (y_test-predictions)"
      ],
      "execution_count": 0,
      "outputs": []
    },
    {
      "cell_type": "markdown",
      "metadata": {
        "id": "lO8Fmi04jDFM",
        "colab_type": "text"
      },
      "source": [
        "## Distribution Tests"
      ]
    },
    {
      "cell_type": "markdown",
      "metadata": {
        "id": "MEKby3j2n_Ht",
        "colab_type": "text"
      },
      "source": [
        "If residuals are not normally distributed, one has to take this into consideration in the prediction windows."
      ]
    },
    {
      "cell_type": "markdown",
      "metadata": {
        "id": "9xt6Ga-GCX6x",
        "colab_type": "text"
      },
      "source": [
        "**Distribution Plot**"
      ]
    },
    {
      "cell_type": "code",
      "metadata": {
        "id": "gl7dQ_MUixoR",
        "colab_type": "code",
        "outputId": "44c6c06b-4018-4be8-a3b3-16b6134f55b7",
        "colab": {
          "base_uri": "https://localhost:8080/",
          "height": 285
        }
      },
      "source": [
        "sns.distplot((residuals),bins=50);"
      ],
      "execution_count": 0,
      "outputs": [
        {
          "output_type": "display_data",
          "data": {
            "image/png": "[encoded data removed]",
            "text/plain": [
              "<Figure size 936x288 with 1 Axes>"
            ]
          },
          "metadata": {
            "tags": []
          }
        }
      ]
    },
    {
      "cell_type": "markdown",
      "metadata": {
        "id": "pKGQByzEmTIW",
        "colab_type": "text"
      },
      "source": [
        "Visual inspection of distribution: looks very much normally distributed."
      ]
    },
    {
      "cell_type": "markdown",
      "metadata": {
        "id": "Le_QvpHqCUC-",
        "colab_type": "text"
      },
      "source": [
        "**Quantile Quantile Plot**"
      ]
    },
    {
      "cell_type": "code",
      "metadata": {
        "id": "68iuRJHQlkv9",
        "colab_type": "code",
        "outputId": "51903bdd-ffea-43c2-969e-9f84830a3f35",
        "colab": {
          "base_uri": "https://localhost:8080/",
          "height": 301
        }
      },
      "source": [
        "stats.probplot(residuals, dist=\"norm\", plot=plt)\n",
        "plt.title('Residuals - QQ Plot - Normal Distribution')\n",
        "plt.show()"
      ],
      "execution_count": 0,
      "outputs": [
        {
          "output_type": "display_data",
          "data": {
            "image/png": "[encoded data removed]",
            "text/plain": [
              "<Figure size 936x288 with 1 Axes>"
            ]
          },
          "metadata": {
            "tags": []
          }
        }
      ]
    },
    {
      "cell_type": "markdown",
      "metadata": {
        "id": "PTTJCWKAmYhs",
        "colab_type": "text"
      },
      "source": [
        "Almost perfect in line with normal distribution."
      ]
    },
    {
      "cell_type": "markdown",
      "metadata": {
        "id": "fFmj7o7_CcTD",
        "colab_type": "text"
      },
      "source": [
        "**Anderson-Darling Test**"
      ]
    },
    {
      "cell_type": "code",
      "metadata": {
        "id": "4tIqjsvWjTaY",
        "colab_type": "code",
        "outputId": "3425c433-49d6-4139-d9b6-7b5a4344c1f0",
        "colab": {
          "base_uri": "https://localhost:8080/",
          "height": 54
        }
      },
      "source": [
        "# Anderson-Darling Test for Normal Distribution\n",
        "stats.anderson(residuals)"
      ],
      "execution_count": 0,
      "outputs": [
        {
          "output_type": "execute_result",
          "data": {
            "text/plain": [
              "AndersonResult(statistic=0.3481433493629993, critical_values=array([0.575, 0.655, 0.785, 0.916, 1.09 ]), significance_level=array([15. , 10. ,  5. ,  2.5,  1. ]))"
            ]
          },
          "metadata": {
            "tags": []
          },
          "execution_count": 33
        }
      ]
    },
    {
      "cell_type": "markdown",
      "metadata": {
        "id": "cC43AsjQCf7n",
        "colab_type": "text"
      },
      "source": [
        "**Jarque-Bera Test**"
      ]
    },
    {
      "cell_type": "code",
      "metadata": {
        "id": "4Wrhl9HqjoUC",
        "colab_type": "code",
        "outputId": "3dc6d466-e94c-4f7b-cebd-0fc730aaa733",
        "colab": {
          "base_uri": "https://localhost:8080/",
          "height": 34
        }
      },
      "source": [
        "# Jarque-Bera test tests whether the sample data has the skewness and kurtosis matching a normal distribution\n",
        "# Null hypothesis: sample is normal distributed. JB(PValue<0.05)= Reject Ho (Non-Normal Distribution)\n",
        "stats.jarque_bera(residuals)"
      ],
      "execution_count": 0,
      "outputs": [
        {
          "output_type": "execute_result",
          "data": {
            "text/plain": [
              "(0.9246681153093295, 0.6298119113062501)"
            ]
          },
          "metadata": {
            "tags": []
          },
          "execution_count": 34
        }
      ]
    },
    {
      "cell_type": "markdown",
      "metadata": {
        "id": "SgCCxnGlmhf-",
        "colab_type": "text"
      },
      "source": [
        "P-Value not smaller than 0.05. Do not reject H0 that data is normallz distributed."
      ]
    },
    {
      "cell_type": "markdown",
      "metadata": {
        "id": "ljj8O7a3CjW0",
        "colab_type": "text"
      },
      "source": [
        "**Kolmogorov-Smirnov Test**"
      ]
    },
    {
      "cell_type": "code",
      "metadata": {
        "id": "0pQeJCqxkOjU",
        "colab_type": "code",
        "outputId": "7d573d3f-d148-4115-ad05-90f741227b3a",
        "colab": {
          "base_uri": "https://localhost:8080/",
          "height": 34
        }
      },
      "source": [
        "# Kolmogorov-Smirnov Test\n",
        "stats.kstest(residuals, 'norm')"
      ],
      "execution_count": 0,
      "outputs": [
        {
          "output_type": "execute_result",
          "data": {
            "text/plain": [
              "KstestResult(statistic=0.512, pvalue=0.0)"
            ]
          },
          "metadata": {
            "tags": []
          },
          "execution_count": 35
        }
      ]
    },
    {
      "cell_type": "markdown",
      "metadata": {
        "id": "ZTOIPoOGkCfo",
        "colab_type": "text"
      },
      "source": [
        "\n",
        "---\n",
        "## Stationary Tests\n",
        "\n"
      ]
    },
    {
      "cell_type": "markdown",
      "metadata": {
        "id": "kxH13JceoLwF",
        "colab_type": "text"
      },
      "source": [
        "This is important because..."
      ]
    },
    {
      "cell_type": "markdown",
      "metadata": {
        "id": "mpTuoOPMDKCZ",
        "colab_type": "text"
      },
      "source": [
        "**Augmented Dickey Fuller Test**"
      ]
    },
    {
      "cell_type": "code",
      "metadata": {
        "id": "SPGrIf73kCG0",
        "colab_type": "code",
        "outputId": "6a97dfc4-222b-4dde-da9c-e77e29af5d3e",
        "colab": {
          "base_uri": "https://localhost:8080/",
          "height": 157
        }
      },
      "source": [
        "# Augmented Dickey Fuller Test\n",
        "# H0: There is a unit root for the series (non stationary)\n",
        "# Test for no constant, no trend. Reject H0 if p-value of less than 5%.\n",
        "statsmodels.tsa.stattools.adfuller(residuals, maxlag=None, regression='nc', autolag='AIC', store=False, regresults=False)"
      ],
      "execution_count": 0,
      "outputs": [
        {
          "output_type": "execute_result",
          "data": {
            "text/plain": [
              "(-44.07845744172575,\n",
              " 0.0,\n",
              " 0,\n",
              " 1999,\n",
              " {'1%': -2.566859366887045,\n",
              "  '10%': -1.616687809570532,\n",
              "  '5%': -1.9411352053667381},\n",
              " 51115.547357172356)"
            ]
          },
          "metadata": {
            "tags": []
          },
          "execution_count": 36
        }
      ]
    },
    {
      "cell_type": "markdown",
      "metadata": {
        "id": "miTUBN1-mwj_",
        "colab_type": "text"
      },
      "source": [
        "P-value is zero. Reject H0. Residuals are not non-stationary."
      ]
    },
    {
      "cell_type": "markdown",
      "metadata": {
        "id": "OGrOTtmJDMWB",
        "colab_type": "text"
      },
      "source": [
        "**KPSS - Trend Stationary Test**"
      ]
    },
    {
      "cell_type": "code",
      "metadata": {
        "id": "rlkB_LNTkoIp",
        "colab_type": "code",
        "outputId": "1fc95add-d404-4632-fcdf-3aeebcda340c",
        "colab": {
          "base_uri": "https://localhost:8080/",
          "height": 177
        }
      },
      "source": [
        "# KPSS - Trend Stationary Test\n",
        "# H0 = Deterministic Trend. H1 = Non-Stationary (Unit Root). Reject H0 if p-value of less than 5% \n",
        "statsmodels.tsa.stattools.kpss(residuals, regression='ct', store=False)"
      ],
      "execution_count": 0,
      "outputs": [
        {
          "output_type": "stream",
          "text": [
            "/usr/local/lib/python3.6/dist-packages/statsmodels/tsa/stattools.py:1685: FutureWarning: The behavior of using lags=None will change in the next release. Currently lags=None is the same as lags='legacy', and so a sample-size lag length is used. After the next release, the default will change to be the same as lags='auto' which uses an automatic lag length selection method. To silence this warning, either use 'auto' or 'legacy'\n",
            "  warn(msg, FutureWarning)\n",
            "/usr/local/lib/python3.6/dist-packages/statsmodels/tsa/stattools.py:1711: InterpolationWarning: p-value is greater than the indicated p-value\n",
            "  warn(\"p-value is greater than the indicated p-value\", InterpolationWarning)\n"
          ],
          "name": "stderr"
        },
        {
          "output_type": "execute_result",
          "data": {
            "text/plain": [
              "(0.03511892458901076,\n",
              " 0.1,\n",
              " 26,\n",
              " {'1%': 0.216, '10%': 0.119, '2.5%': 0.176, '5%': 0.146})"
            ]
          },
          "metadata": {
            "tags": []
          },
          "execution_count": 37
        }
      ]
    },
    {
      "cell_type": "markdown",
      "metadata": {
        "id": "VH6LTrv_nEGK",
        "colab_type": "text"
      },
      "source": [
        "P-value larger than 0.05. Do not reject H0. Residuals are not non-stationary."
      ]
    },
    {
      "cell_type": "markdown",
      "metadata": {
        "id": "Cfbd20i6D4Z9",
        "colab_type": "text"
      },
      "source": [
        "**KPSS - Level Stationary Test**"
      ]
    },
    {
      "cell_type": "code",
      "metadata": {
        "id": "K8HddmFbksls",
        "colab_type": "code",
        "outputId": "0a2f6d9d-a8ec-4639-bdde-9a45cb5aaae3",
        "colab": {
          "base_uri": "https://localhost:8080/",
          "height": 177
        }
      },
      "source": [
        "# KPSS - Level Stationary Test\n",
        "# H0 = Stationary (Stochastic Trend). H1 = Non-Stationary (Unit Root). Reject H0 if p-value of less than 5%\n",
        "statsmodels.tsa.stattools.kpss(residuals, regression='c', store=False)"
      ],
      "execution_count": 0,
      "outputs": [
        {
          "output_type": "stream",
          "text": [
            "/usr/local/lib/python3.6/dist-packages/statsmodels/tsa/stattools.py:1685: FutureWarning: The behavior of using lags=None will change in the next release. Currently lags=None is the same as lags='legacy', and so a sample-size lag length is used. After the next release, the default will change to be the same as lags='auto' which uses an automatic lag length selection method. To silence this warning, either use 'auto' or 'legacy'\n",
            "  warn(msg, FutureWarning)\n",
            "/usr/local/lib/python3.6/dist-packages/statsmodels/tsa/stattools.py:1711: InterpolationWarning: p-value is greater than the indicated p-value\n",
            "  warn(\"p-value is greater than the indicated p-value\", InterpolationWarning)\n"
          ],
          "name": "stderr"
        },
        {
          "output_type": "execute_result",
          "data": {
            "text/plain": [
              "(0.0485181093370111,\n",
              " 0.1,\n",
              " 26,\n",
              " {'1%': 0.739, '10%': 0.347, '2.5%': 0.574, '5%': 0.463})"
            ]
          },
          "metadata": {
            "tags": []
          },
          "execution_count": 43
        }
      ]
    },
    {
      "cell_type": "markdown",
      "metadata": {
        "id": "KPbKLNc-ng2t",
        "colab_type": "text"
      },
      "source": [
        "P-value larger than 0.05. Do not reject H0. Residuals are not non-stationary."
      ]
    },
    {
      "cell_type": "markdown",
      "metadata": {
        "id": "9jKX5wn5kfRO",
        "colab_type": "text"
      },
      "source": [
        "---\n",
        "## Autocorrelation Tests"
      ]
    },
    {
      "cell_type": "markdown",
      "metadata": {
        "id": "e6NSdMp3oN0b",
        "colab_type": "text"
      },
      "source": [
        "This is importane because.."
      ]
    },
    {
      "cell_type": "markdown",
      "metadata": {
        "id": "nfqB6JtLDigR",
        "colab_type": "text"
      },
      "source": [
        "**Lag Plot**"
      ]
    },
    {
      "cell_type": "code",
      "metadata": {
        "id": "jB22ezC0k7F9",
        "colab_type": "code",
        "outputId": "6e867a2e-9ea1-443d-c85d-04cb09f12763",
        "colab": {
          "base_uri": "https://localhost:8080/",
          "height": 339
        }
      },
      "source": [
        "lag_plot(residuals)\n",
        "plt.title('Residuals - Autocorrelation Lag Plot')\n",
        "plt.show()"
      ],
      "execution_count": 0,
      "outputs": [
        {
          "output_type": "stream",
          "text": [
            "'c' argument looks like a single numeric RGB or RGBA sequence, which should be avoided as value-mapping will have precedence in case its length matches with 'x' & 'y'.  Please use a 2-D array with a single row if you really want to specify the same RGB or RGBA value for all points.\n"
          ],
          "name": "stderr"
        },
        {
          "output_type": "display_data",
          "data": {
            "image/png": "[encoded data removed]",
            "text/plain": [
              "<Figure size 936x288 with 1 Axes>"
            ]
          },
          "metadata": {
            "tags": []
          }
        }
      ]
    },
    {
      "cell_type": "markdown",
      "metadata": {
        "id": "g8DEOI7-DwJY",
        "colab_type": "text"
      },
      "source": [
        "**Autocorrelation Plot**"
      ]
    },
    {
      "cell_type": "code",
      "metadata": {
        "id": "A99vXKkBk_7S",
        "colab_type": "code",
        "outputId": "1298c8c0-4764-4d2f-d3d1-755ff94a73a8",
        "colab": {
          "base_uri": "https://localhost:8080/",
          "height": 284
        }
      },
      "source": [
        "sns.set(rc={'figure.figsize':(13, 4)})\n",
        "sm.graphics.tsa.plot_acf(residuals.squeeze(), lags=15)\n",
        "plt.title('Residuals - Autocorrelation')\n",
        "plt.show()"
      ],
      "execution_count": 0,
      "outputs": [
        {
          "output_type": "display_data",
          "data": {
            "image/png": "[encoded data removed]",
            "text/plain": [
              "<Figure size 936x288 with 1 Axes>"
            ]
          },
          "metadata": {
            "tags": []
          }
        }
      ]
    },
    {
      "cell_type": "markdown",
      "metadata": {
        "id": "ztVMtV3bDyeZ",
        "colab_type": "text"
      },
      "source": [
        "**Partial Autocorrelation Plot**"
      ]
    },
    {
      "cell_type": "code",
      "metadata": {
        "id": "sSUMlG_IlUkA",
        "colab_type": "code",
        "outputId": "10f39335-47b2-4167-80e8-de97cbe5df83",
        "colab": {
          "base_uri": "https://localhost:8080/",
          "height": 284
        }
      },
      "source": [
        "# Partial Autocorrelation Plot\n",
        "plot_pacf(residuals)\n",
        "plt.title('Residuals - Partial Autocorrelation')\n",
        "plt.show()"
      ],
      "execution_count": 0,
      "outputs": [
        {
          "output_type": "display_data",
          "data": {
            "image/png": "[encoded data removed]",
            "text/plain": [
              "<Figure size 936x288 with 1 Axes>"
            ]
          },
          "metadata": {
            "tags": []
          }
        }
      ]
    },
    {
      "cell_type": "markdown",
      "metadata": {
        "id": "8fXjRoN-J3_w",
        "colab_type": "text"
      },
      "source": [
        "**Durbin-Watson Test**"
      ]
    },
    {
      "cell_type": "code",
      "metadata": {
        "id": "c5uLkvCgJ3Cq",
        "colab_type": "code",
        "outputId": "5056fc7b-40e7-439f-9a4f-82a10f6c77ac",
        "colab": {
          "base_uri": "https://localhost:8080/",
          "height": 34
        }
      },
      "source": [
        "# Durbin-Watson test to assess autocorrelation\n",
        "# The null hypothesis of the test is that there is no serial correlation\n",
        "# This statistic will always be between 0 and 4. \n",
        "# The closer to 0 the statistic, the more evidence for positive serial correlation. \n",
        "# The closer to 4, the more evidence for negative serial correlation.\n",
        "statsmodels.stats.stattools.durbin_watson(residuals, axis=0)"
      ],
      "execution_count": 0,
      "outputs": [
        {
          "output_type": "execute_result",
          "data": {
            "text/plain": [
              "1.9720340796089788"
            ]
          },
          "metadata": {
            "tags": []
          },
          "execution_count": 62
        }
      ]
    },
    {
      "cell_type": "markdown",
      "metadata": {
        "id": "IL8ab1X_Krvx",
        "colab_type": "text"
      },
      "source": [
        "Almost at r=2, which means no serial autocorrelation."
      ]
    },
    {
      "cell_type": "markdown",
      "metadata": {
        "id": "akD8U-zbY8rJ",
        "colab_type": "text"
      },
      "source": [
        "\n",
        "\n",
        "---\n",
        "\n"
      ]
    },
    {
      "cell_type": "markdown",
      "metadata": {
        "id": "qMnB8nYsHmiu",
        "colab_type": "text"
      },
      "source": [
        "## / Correlatio (Covariance?) Tests"
      ]
    },
    {
      "cell_type": "markdown",
      "metadata": {
        "id": "3mDr2OL3Hlkw",
        "colab_type": "text"
      },
      "source": [
        "The residuals are uncorrelated. If there are correlations between residuals, then there is information left in the residuals which should be used in computing forecasts."
      ]
    },
    {
      "cell_type": "markdown",
      "metadata": {
        "id": "NnC7FWdrHrUG",
        "colab_type": "text"
      },
      "source": [
        "## / Mean different from zero?\n",
        "\n",
        "\n",
        "t test\n",
        "\n",
        "https://towardsdatascience.com/inferential-statistics-series-t-test-using-numpy-2718f8f9bf2f\n",
        "\n",
        "https://pythonfordatascience.org/independent-t-test-python/"
      ]
    },
    {
      "cell_type": "markdown",
      "metadata": {
        "id": "wjHYZ0RUH0Ie",
        "colab_type": "text"
      },
      "source": [
        "## / constant variance test"
      ]
    }
  ]
}