{
  "nbformat": 4,
  "nbformat_minor": 0,
  "metadata": {
    "colab": {
      "name": "qr.ipynb",
      "provenance": [],
      "collapsed_sections": [],
      "include_colab_link": true
    },
    "kernelspec": {
      "name": "python3",
      "display_name": "Python 3"
    }
  },
  "cells": [
    {
      "cell_type": "markdown",
      "metadata": {
        "id": "view-in-github",
        "colab_type": "text"
      },
      "source": [
        "<a href=\"https://colab.research.google.com/github/deltorobarba/machinelearning/blob/master/qr.ipynb\" target=\"_parent\"><img src=\"https://colab.research.google.com/assets/colab-badge.svg\" alt=\"Open In Colab\"/></a>"
      ]
    },
    {
      "cell_type": "markdown",
      "metadata": {
        "id": "SIMbMaUDHB3j",
        "colab_type": "text"
      },
      "source": [
        "# **QR Decomposition**"
      ]
    },
    {
      "cell_type": "code",
      "metadata": {
        "id": "uMCcff-NHGgt",
        "colab_type": "code",
        "colab": {}
      },
      "source": [
        "import numpy as np\n",
        "import pandas as pd\n",
        "import seaborn as sns\n",
        "import matplotlib.pyplot as plt"
      ],
      "execution_count": null,
      "outputs": []
    },
    {
      "cell_type": "markdown",
      "metadata": {
        "id": "91NVXqSfFlBt",
        "colab_type": "text"
      },
      "source": [
        "* The QR decomposition is for m x n matrices (not limited to square matrices) and decomposes a matrix into Q and R components.\n",
        "\n",
        "> A = Q R\n",
        "\n",
        "* Where A is the matrix that we wish to decompose, Q a matrix with the size m x m, and R is an upper triangle matrix with the size m x n.\n",
        "\n",
        "* **Q is an orthogonal (Q<sup>T</sup> Q = I) or unitary matrix** (Q ∗ Q = I) and **R is an upper triangular matrix**. The QR decomposition is a special case of the [Iwasawa decomposition](https://en.m.wikipedia.org/wiki/Iwasawa_decomposition).\n",
        "\n",
        "* The QR decomposition is found using an iterative numerical method that can fail for those matrices that cannot be decomposed, or decomposed easily.\n",
        "\n",
        "* Like the LU decomposition, the QR decomposition is often used to solve systems of linear equations, although is not limited to square matrices.\n",
        "\n",
        "* By default, the qr function returns the Q and R matrices with smaller or ‘reduced’ dimensions that is more economical. We can change this to return the expected sizes of m x m for Q and m x n for R by specifying the mode argument as ‘complete’, although this is not required for most applications."
      ]
    },
    {
      "cell_type": "markdown",
      "metadata": {
        "id": "yOhv-GS8xXZ4",
        "colab_type": "text"
      },
      "source": [
        "Such a decomposition always exists and can be calculated using various algorithms. The best known are\n",
        "\n",
        "* [Householder transformations](https://de.m.wikipedia.org/wiki/Householdertransformation)\n",
        "* [Givens rotations](https://de.m.wikipedia.org/wiki/Givens-Rotation)\n",
        "* [Gram-Schmidtsch's orthogonalization method](https://de.m.wikipedia.org/wiki/Gram-Schmidtsches_Orthogonalisierungsverfahren)"
      ]
    },
    {
      "cell_type": "markdown",
      "metadata": {
        "id": "f1JvWMjiJHYY",
        "colab_type": "text"
      },
      "source": [
        "**Define Matrix**"
      ]
    },
    {
      "cell_type": "code",
      "metadata": {
        "id": "rfu-RgIXFxTL",
        "colab_type": "code",
        "colab": {
          "base_uri": "https://localhost:8080/",
          "height": 71
        },
        "outputId": "5bf6a6ef-59d2-44ba-f418-a2925cdc3400"
      },
      "source": [
        "from numpy import array\n",
        "\n",
        "# define a 3x2 matrix\n",
        "A = array([[1, 2], [3, 4], [5, 6]])\n",
        "print(A)"
      ],
      "execution_count": 1,
      "outputs": [
        {
          "output_type": "stream",
          "text": [
            "[[1 2]\n",
            " [3 4]\n",
            " [5 6]]\n"
          ],
          "name": "stdout"
        }
      ]
    },
    {
      "cell_type": "markdown",
      "metadata": {
        "id": "o8VzIv_nJJhw",
        "colab_type": "text"
      },
      "source": [
        "**Decompose**"
      ]
    },
    {
      "cell_type": "code",
      "metadata": {
        "id": "ca1KWNdgFyXz",
        "colab_type": "code",
        "colab": {}
      },
      "source": [
        "# QR decomposition\n",
        "from numpy.linalg import qr\n",
        "Q, R = qr(A, 'complete')"
      ],
      "execution_count": 3,
      "outputs": []
    },
    {
      "cell_type": "code",
      "metadata": {
        "id": "S7deKMpRJCsX",
        "colab_type": "code",
        "colab": {
          "base_uri": "https://localhost:8080/",
          "height": 71
        },
        "outputId": "2c85ca61-1303-4ce9-ba8e-62a5279d64bc"
      },
      "source": [
        "print(Q)"
      ],
      "execution_count": 4,
      "outputs": [
        {
          "output_type": "stream",
          "text": [
            "[[-0.16903085  0.89708523  0.40824829]\n",
            " [-0.50709255  0.27602622 -0.81649658]\n",
            " [-0.84515425 -0.34503278  0.40824829]]\n"
          ],
          "name": "stdout"
        }
      ]
    },
    {
      "cell_type": "code",
      "metadata": {
        "id": "VNw-k4UBI-oo",
        "colab_type": "code",
        "colab": {
          "base_uri": "https://localhost:8080/",
          "height": 71
        },
        "outputId": "58fe955f-07c2-4213-c87a-9a2257bd4808"
      },
      "source": [
        "print(R)"
      ],
      "execution_count": 5,
      "outputs": [
        {
          "output_type": "stream",
          "text": [
            "[[-5.91607978 -7.43735744]\n",
            " [ 0.          0.82807867]\n",
            " [ 0.          0.        ]]\n"
          ],
          "name": "stdout"
        }
      ]
    },
    {
      "cell_type": "markdown",
      "metadata": {
        "id": "V3DercV9JMmm",
        "colab_type": "text"
      },
      "source": [
        "**Reconstruct**"
      ]
    },
    {
      "cell_type": "code",
      "metadata": {
        "id": "bjR2dwOdF1cS",
        "colab_type": "code",
        "colab": {
          "base_uri": "https://localhost:8080/",
          "height": 71
        },
        "outputId": "ca36248c-b4c2-43d2-bd53-9e94e4a5f8a1"
      },
      "source": [
        "B = Q.dot(R)\n",
        "print(B)"
      ],
      "execution_count": 6,
      "outputs": [
        {
          "output_type": "stream",
          "text": [
            "[[1. 2.]\n",
            " [3. 4.]\n",
            " [5. 6.]]\n"
          ],
          "name": "stdout"
        }
      ]
    }
  ]
}