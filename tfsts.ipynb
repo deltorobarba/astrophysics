{
  "nbformat": 4,
  "nbformat_minor": 0,
  "metadata": {
    "colab": {
      "name": "tfsts.ipynb",
      "provenance": [],
      "collapsed_sections": [],
      "include_colab_link": true
    },
    "kernelspec": {
      "name": "python3",
      "display_name": "Python 3"
    }
  },
  "cells": [
    {
      "cell_type": "markdown",
      "metadata": {
        "id": "view-in-github",
        "colab_type": "text"
      },
      "source": [
        "<a href=\"https://colab.research.google.com/github/deltorobarba/machinelearning/blob/master/tfsts.ipynb\" target=\"_parent\"><img src=\"https://colab.research.google.com/assets/colab-badge.svg\" alt=\"Open In Colab\"/></a>"
      ]
    },
    {
      "cell_type": "markdown",
      "metadata": {
        "id": "9n0-469qA0YV",
        "colab_type": "text"
      },
      "source": [
        "# **TF.Prob Structured Time Series**"
      ]
    },
    {
      "cell_type": "markdown",
      "metadata": {
        "id": "5Rrfjlcj_bnu",
        "colab_type": "text"
      },
      "source": [
        "**Import Libraries**"
      ]
    },
    {
      "cell_type": "code",
      "metadata": {
        "id": "ZubGN8OfrB92",
        "colab_type": "code",
        "colab": {
          "base_uri": "https://localhost:8080/",
          "height": 73
        },
        "outputId": "46aab019-520e-4ff1-c258-8ce960af22e9"
      },
      "source": [
        "import pandas as pd\n",
        "import seaborn as sns\n",
        "import matplotlib.pyplot as plt\n",
        "import statsmodels\n",
        "import statsmodels.api as sm\n",
        "from pandas import read_csv\n",
        "from pandas import datetime\n",
        "from pandas import DataFrame\n",
        "from pandas import concat\n",
        "from matplotlib import pyplot\n",
        "from sklearn.metrics import mean_squared_error\n",
        "from statsmodels.graphics.tsaplots import plot_pacf\n",
        "from pandas.plotting import lag_plot\n",
        "import scipy\n",
        "from statsmodels.tsa.stattools import adfuller\n",
        "from functools import reduce\n",
        "from scipy import stats\n",
        "import tensorflow as tf\n",
        "import tensorflow_probability as tfp\n",
        "%matplotlib inline\n",
        "import matplotlib as mpl\n",
        "from matplotlib import pylab as plt\n",
        "import matplotlib.dates as mdates\n",
        "import collections\n",
        "import numpy as np\n",
        "import tensorflow.compat.v2 as tf\n",
        "from tensorflow_probability import distributions as tfd\n",
        "from tensorflow_probability import sts"
      ],
      "execution_count": 1,
      "outputs": [
        {
          "output_type": "stream",
          "text": [
            "/usr/local/lib/python3.6/dist-packages/statsmodels/tools/_testing.py:19: FutureWarning: pandas.util.testing is deprecated. Use the functions in the public API at pandas.testing instead.\n",
            "  import pandas.util.testing as tm\n"
          ],
          "name": "stderr"
        }
      ]
    },
    {
      "cell_type": "markdown",
      "metadata": {
        "id": "5sacj7bj_K2o",
        "colab_type": "text"
      },
      "source": [
        "# **Import & Preprocess**"
      ]
    },
    {
      "cell_type": "markdown",
      "metadata": {
        "id": "ijZdyTwL_pIP",
        "colab_type": "text"
      },
      "source": [
        "**Import data**"
      ]
    },
    {
      "cell_type": "code",
      "metadata": {
        "id": "ECy_yzkXJrZw",
        "colab_type": "code",
        "outputId": "1be0ad11-cf65-4da8-cc9d-db2383beffbb",
        "colab": {
          "base_uri": "https://localhost:8080/",
          "height": 204
        }
      },
      "source": [
        "url = 'https://raw.githubusercontent.com/deltorobarba/repo/master/google.csv'\n",
        "data = pd.read_csv(url)\n",
        "data.head()"
      ],
      "execution_count": 2,
      "outputs": [
        {
          "output_type": "execute_result",
          "data": {
            "text/html": [
              "<div>\n",
              "<style scoped>\n",
              "    .dataframe tbody tr th:only-of-type {\n",
              "        vertical-align: middle;\n",
              "    }\n",
              "\n",
              "    .dataframe tbody tr th {\n",
              "        vertical-align: top;\n",
              "    }\n",
              "\n",
              "    .dataframe thead th {\n",
              "        text-align: right;\n",
              "    }\n",
              "</style>\n",
              "<table border=\"1\" class=\"dataframe\">\n",
              "  <thead>\n",
              "    <tr style=\"text-align: right;\">\n",
              "      <th></th>\n",
              "      <th>Date</th>\n",
              "      <th>Open</th>\n",
              "      <th>High</th>\n",
              "      <th>Low</th>\n",
              "      <th>Close</th>\n",
              "      <th>Adj Close</th>\n",
              "      <th>Volume</th>\n",
              "    </tr>\n",
              "  </thead>\n",
              "  <tbody>\n",
              "    <tr>\n",
              "      <th>0</th>\n",
              "      <td>2010-02-01</td>\n",
              "      <td>266.301849</td>\n",
              "      <td>266.904572</td>\n",
              "      <td>264.159851</td>\n",
              "      <td>265.514771</td>\n",
              "      <td>265.514771</td>\n",
              "      <td>4518400</td>\n",
              "    </tr>\n",
              "    <tr>\n",
              "      <th>1</th>\n",
              "      <td>2010-02-02</td>\n",
              "      <td>266.481171</td>\n",
              "      <td>266.481171</td>\n",
              "      <td>262.819885</td>\n",
              "      <td>264.568329</td>\n",
              "      <td>264.568329</td>\n",
              "      <td>8223000</td>\n",
              "    </tr>\n",
              "    <tr>\n",
              "      <th>2</th>\n",
              "      <td>2010-02-03</td>\n",
              "      <td>263.347900</td>\n",
              "      <td>270.037842</td>\n",
              "      <td>263.128723</td>\n",
              "      <td>269.400208</td>\n",
              "      <td>269.400208</td>\n",
              "      <td>6020500</td>\n",
              "    </tr>\n",
              "    <tr>\n",
              "      <th>3</th>\n",
              "      <td>2010-02-04</td>\n",
              "      <td>267.497345</td>\n",
              "      <td>267.995483</td>\n",
              "      <td>261.798706</td>\n",
              "      <td>262.406433</td>\n",
              "      <td>262.406433</td>\n",
              "      <td>6780600</td>\n",
              "    </tr>\n",
              "    <tr>\n",
              "      <th>4</th>\n",
              "      <td>2010-02-05</td>\n",
              "      <td>263.213409</td>\n",
              "      <td>265.753876</td>\n",
              "      <td>260.254517</td>\n",
              "      <td>264.653015</td>\n",
              "      <td>264.653015</td>\n",
              "      <td>6335600</td>\n",
              "    </tr>\n",
              "  </tbody>\n",
              "</table>\n",
              "</div>"
            ],
            "text/plain": [
              "         Date        Open        High  ...       Close   Adj Close   Volume\n",
              "0  2010-02-01  266.301849  266.904572  ...  265.514771  265.514771  4518400\n",
              "1  2010-02-02  266.481171  266.481171  ...  264.568329  264.568329  8223000\n",
              "2  2010-02-03  263.347900  270.037842  ...  269.400208  269.400208  6020500\n",
              "3  2010-02-04  267.497345  267.995483  ...  262.406433  262.406433  6780600\n",
              "4  2010-02-05  263.213409  265.753876  ...  264.653015  264.653015  6335600\n",
              "\n",
              "[5 rows x 7 columns]"
            ]
          },
          "metadata": {
            "tags": []
          },
          "execution_count": 2
        }
      ]
    },
    {
      "cell_type": "markdown",
      "metadata": {
        "id": "oVTCNPABAyb5",
        "colab_type": "text"
      },
      "source": [
        "**Create tidy table** (just for fun)"
      ]
    },
    {
      "cell_type": "code",
      "metadata": {
        "id": "yL2eqJa_BAeR",
        "colab_type": "code",
        "outputId": "fb931871-1701-4ae4-f6aa-cf2836e8fc03",
        "colab": {
          "base_uri": "https://localhost:8080/",
          "height": 232
        }
      },
      "source": [
        "tidy = pd.melt(data, id_vars=['Date'], value_vars=['Open', 'High', 'Low'],\n",
        "              var_name='record_type', value_name='price')\n",
        "tidy = tidy.set_index('Date')\n",
        "tidy.head()"
      ],
      "execution_count": 0,
      "outputs": [
        {
          "output_type": "execute_result",
          "data": {
            "text/html": [
              "<div>\n",
              "<style scoped>\n",
              "    .dataframe tbody tr th:only-of-type {\n",
              "        vertical-align: middle;\n",
              "    }\n",
              "\n",
              "    .dataframe tbody tr th {\n",
              "        vertical-align: top;\n",
              "    }\n",
              "\n",
              "    .dataframe thead th {\n",
              "        text-align: right;\n",
              "    }\n",
              "</style>\n",
              "<table border=\"1\" class=\"dataframe\">\n",
              "  <thead>\n",
              "    <tr style=\"text-align: right;\">\n",
              "      <th></th>\n",
              "      <th>record_type</th>\n",
              "      <th>price</th>\n",
              "    </tr>\n",
              "    <tr>\n",
              "      <th>Date</th>\n",
              "      <th></th>\n",
              "      <th></th>\n",
              "    </tr>\n",
              "  </thead>\n",
              "  <tbody>\n",
              "    <tr>\n",
              "      <th>2010-02-01</th>\n",
              "      <td>Open</td>\n",
              "      <td>266.301849</td>\n",
              "    </tr>\n",
              "    <tr>\n",
              "      <th>2010-02-02</th>\n",
              "      <td>Open</td>\n",
              "      <td>266.481171</td>\n",
              "    </tr>\n",
              "    <tr>\n",
              "      <th>2010-02-03</th>\n",
              "      <td>Open</td>\n",
              "      <td>263.347900</td>\n",
              "    </tr>\n",
              "    <tr>\n",
              "      <th>2010-02-04</th>\n",
              "      <td>Open</td>\n",
              "      <td>267.497345</td>\n",
              "    </tr>\n",
              "    <tr>\n",
              "      <th>2010-02-05</th>\n",
              "      <td>Open</td>\n",
              "      <td>263.213409</td>\n",
              "    </tr>\n",
              "  </tbody>\n",
              "</table>\n",
              "</div>"
            ],
            "text/plain": [
              "           record_type       price\n",
              "Date                              \n",
              "2010-02-01        Open  266.301849\n",
              "2010-02-02        Open  266.481171\n",
              "2010-02-03        Open  263.347900\n",
              "2010-02-04        Open  267.497345\n",
              "2010-02-05        Open  263.213409"
            ]
          },
          "metadata": {
            "tags": []
          },
          "execution_count": 69
        }
      ]
    },
    {
      "cell_type": "code",
      "metadata": {
        "id": "wtW9ZRAHBjFm",
        "colab_type": "code",
        "outputId": "7e6dc36d-ec23-4850-da56-7884ac011839",
        "colab": {
          "base_uri": "https://localhost:8080/",
          "height": 355
        }
      },
      "source": [
        "sns.set(rc={'figure.figsize':(10, 5)})\n",
        "sns.lineplot(data=tidy.reset_index(), x='Date', y='price', hue='record_type', ci=None)\n",
        "plt.legend(loc='center left', bbox_to_anchor=(1, 0.5))\n",
        "plt.title('Google Stock')\n",
        "plt.show()"
      ],
      "execution_count": 0,
      "outputs": [
        {
          "output_type": "display_data",
          "data": {
            "image/png": "[encoded data removed]",
            "text/plain": [
              "<Figure size 720x360 with 1 Axes>"
            ]
          },
          "metadata": {
            "tags": []
          }
        }
      ]
    },
    {
      "cell_type": "markdown",
      "metadata": {
        "id": "Kqn9tMaE_miY",
        "colab_type": "text"
      },
      "source": [
        "**Preprocess Series**"
      ]
    },
    {
      "cell_type": "code",
      "metadata": {
        "id": "vBniAvm_Jn9J",
        "colab_type": "code",
        "outputId": "26c6731e-7de7-46eb-8acd-1b03c8c1b5dc",
        "colab": {
          "base_uri": "https://localhost:8080/",
          "height": 235
        }
      },
      "source": [
        "series = data.drop(columns=['Open', 'High', 'Low', 'Adj Close', 'Volume'])\n",
        "series = series.rename(columns={\"Date\": \"date\", \"Close\": \"price\"})\n",
        "series = series.set_index('date')\n",
        "series.head()"
      ],
      "execution_count": 3,
      "outputs": [
        {
          "output_type": "execute_result",
          "data": {
            "text/html": [
              "<div>\n",
              "<style scoped>\n",
              "    .dataframe tbody tr th:only-of-type {\n",
              "        vertical-align: middle;\n",
              "    }\n",
              "\n",
              "    .dataframe tbody tr th {\n",
              "        vertical-align: top;\n",
              "    }\n",
              "\n",
              "    .dataframe thead th {\n",
              "        text-align: right;\n",
              "    }\n",
              "</style>\n",
              "<table border=\"1\" class=\"dataframe\">\n",
              "  <thead>\n",
              "    <tr style=\"text-align: right;\">\n",
              "      <th></th>\n",
              "      <th>price</th>\n",
              "    </tr>\n",
              "    <tr>\n",
              "      <th>date</th>\n",
              "      <th></th>\n",
              "    </tr>\n",
              "  </thead>\n",
              "  <tbody>\n",
              "    <tr>\n",
              "      <th>2010-02-01</th>\n",
              "      <td>265.514771</td>\n",
              "    </tr>\n",
              "    <tr>\n",
              "      <th>2010-02-02</th>\n",
              "      <td>264.568329</td>\n",
              "    </tr>\n",
              "    <tr>\n",
              "      <th>2010-02-03</th>\n",
              "      <td>269.400208</td>\n",
              "    </tr>\n",
              "    <tr>\n",
              "      <th>2010-02-04</th>\n",
              "      <td>262.406433</td>\n",
              "    </tr>\n",
              "    <tr>\n",
              "      <th>2010-02-05</th>\n",
              "      <td>264.653015</td>\n",
              "    </tr>\n",
              "  </tbody>\n",
              "</table>\n",
              "</div>"
            ],
            "text/plain": [
              "                 price\n",
              "date                  \n",
              "2010-02-01  265.514771\n",
              "2010-02-02  264.568329\n",
              "2010-02-03  269.400208\n",
              "2010-02-04  262.406433\n",
              "2010-02-05  264.653015"
            ]
          },
          "metadata": {
            "tags": []
          },
          "execution_count": 3
        }
      ]
    },
    {
      "cell_type": "markdown",
      "metadata": {
        "id": "UQ0cpamM_jqo",
        "colab_type": "text"
      },
      "source": [
        "**Adding first difference in case of unit root**"
      ]
    },
    {
      "cell_type": "code",
      "metadata": {
        "id": "BNyphQB9-mNy",
        "colab_type": "code",
        "outputId": "c8c61dc3-3daa-4103-e506-4f7527e0e136",
        "colab": {
          "base_uri": "https://localhost:8080/",
          "height": 235
        }
      },
      "source": [
        "series['difference'] = ((series.price) - (series.price).shift(1))\n",
        "series = series.dropna()\n",
        "series.head()"
      ],
      "execution_count": 4,
      "outputs": [
        {
          "output_type": "execute_result",
          "data": {
            "text/html": [
              "<div>\n",
              "<style scoped>\n",
              "    .dataframe tbody tr th:only-of-type {\n",
              "        vertical-align: middle;\n",
              "    }\n",
              "\n",
              "    .dataframe tbody tr th {\n",
              "        vertical-align: top;\n",
              "    }\n",
              "\n",
              "    .dataframe thead th {\n",
              "        text-align: right;\n",
              "    }\n",
              "</style>\n",
              "<table border=\"1\" class=\"dataframe\">\n",
              "  <thead>\n",
              "    <tr style=\"text-align: right;\">\n",
              "      <th></th>\n",
              "      <th>price</th>\n",
              "      <th>difference</th>\n",
              "    </tr>\n",
              "    <tr>\n",
              "      <th>date</th>\n",
              "      <th></th>\n",
              "      <th></th>\n",
              "    </tr>\n",
              "  </thead>\n",
              "  <tbody>\n",
              "    <tr>\n",
              "      <th>2010-02-02</th>\n",
              "      <td>264.568329</td>\n",
              "      <td>-0.946442</td>\n",
              "    </tr>\n",
              "    <tr>\n",
              "      <th>2010-02-03</th>\n",
              "      <td>269.400208</td>\n",
              "      <td>4.831879</td>\n",
              "    </tr>\n",
              "    <tr>\n",
              "      <th>2010-02-04</th>\n",
              "      <td>262.406433</td>\n",
              "      <td>-6.993775</td>\n",
              "    </tr>\n",
              "    <tr>\n",
              "      <th>2010-02-05</th>\n",
              "      <td>264.653015</td>\n",
              "      <td>2.246582</td>\n",
              "    </tr>\n",
              "    <tr>\n",
              "      <th>2010-02-08</th>\n",
              "      <td>265.738953</td>\n",
              "      <td>1.085938</td>\n",
              "    </tr>\n",
              "  </tbody>\n",
              "</table>\n",
              "</div>"
            ],
            "text/plain": [
              "                 price  difference\n",
              "date                              \n",
              "2010-02-02  264.568329   -0.946442\n",
              "2010-02-03  269.400208    4.831879\n",
              "2010-02-04  262.406433   -6.993775\n",
              "2010-02-05  264.653015    2.246582\n",
              "2010-02-08  265.738953    1.085938"
            ]
          },
          "metadata": {
            "tags": []
          },
          "execution_count": 4
        }
      ]
    },
    {
      "cell_type": "code",
      "metadata": {
        "id": "I-KJBvKXANOQ",
        "colab_type": "code",
        "outputId": "4347cbe8-7801-4abd-9383-8dbc23da6268",
        "colab": {
          "base_uri": "https://localhost:8080/",
          "height": 35
        }
      },
      "source": [
        "# How many times went the stock up of all movement?\n",
        "\"%s%% of rows have a delta > 0\" % (len(series.loc[series.difference > 0]) / len((series.difference)) * 100)"
      ],
      "execution_count": 5,
      "outputs": [
        {
          "output_type": "execute_result",
          "data": {
            "text/plain": [
              "'52.32604373757456% of rows have a delta > 0'"
            ]
          },
          "metadata": {
            "tags": []
          },
          "execution_count": 5
        }
      ]
    },
    {
      "cell_type": "markdown",
      "metadata": {
        "id": "1SO0nt6KAh5L",
        "colab_type": "text"
      },
      "source": [
        "Seems like almost in the equal mount of time the stock price went up and down."
      ]
    },
    {
      "cell_type": "markdown",
      "metadata": {
        "id": "oP_2ekOXHr7E",
        "colab_type": "text"
      },
      "source": [
        "**Create Lagged Time Series**"
      ]
    },
    {
      "cell_type": "code",
      "metadata": {
        "id": "-_Px5pZfH1lT",
        "colab_type": "code",
        "colab": {
          "base_uri": "https://localhost:8080/",
          "height": 143
        },
        "outputId": "43c0997e-98e6-4aca-cdba-a0682b3b4af7"
      },
      "source": [
        "lagged = concat([series.price.shift(1), series.price], axis=1)\n",
        "lagged.columns = ['present', 'past']\n",
        "lagged = lagged.dropna()\n",
        "print(lagged.head(5))"
      ],
      "execution_count": 7,
      "outputs": [
        {
          "output_type": "stream",
          "text": [
            "               present        past\n",
            "date                              \n",
            "2010-02-03  264.568329  269.400208\n",
            "2010-02-04  269.400208  262.406433\n",
            "2010-02-05  262.406433  264.653015\n",
            "2010-02-08  264.653015  265.738953\n",
            "2010-02-09  265.738953  267.218414\n"
          ],
          "name": "stdout"
        }
      ]
    },
    {
      "cell_type": "markdown",
      "metadata": {
        "id": "agwY9Ar3XsWs",
        "colab_type": "text"
      },
      "source": [
        "*(Be aware: normally data preprocessing is normally a much larger step)*"
      ]
    },
    {
      "cell_type": "markdown",
      "metadata": {
        "id": "ETRE-nCMJLfY",
        "colab_type": "text"
      },
      "source": [
        "# **Exploratory Data Analysis**"
      ]
    },
    {
      "cell_type": "markdown",
      "metadata": {
        "id": "zYHNRkIQJPCo",
        "colab_type": "text"
      },
      "source": [
        "* Is there a seasonality?\n",
        "* Is there a trend?\n",
        "* Is there autocorrelation present?"
      ]
    },
    {
      "cell_type": "markdown",
      "metadata": {
        "id": "2cZf8IZZ3myb",
        "colab_type": "text"
      },
      "source": [
        "**Time Series Summary**"
      ]
    },
    {
      "cell_type": "code",
      "metadata": {
        "id": "A7mTkXma9JMM",
        "colab_type": "code",
        "outputId": "aa3cc473-d87c-4d06-e8e4-283c43478c45",
        "colab": {
          "base_uri": "https://localhost:8080/",
          "height": 319
        }
      },
      "source": [
        "sns.set(rc={'figure.figsize':(13, 4)})\n",
        "series.plot(linewidth=1.0,title='Google Stock Price Daily')"
      ],
      "execution_count": 0,
      "outputs": [
        {
          "output_type": "execute_result",
          "data": {
            "text/plain": [
              "<matplotlib.axes._subplots.AxesSubplot at 0x7efd5fcd7cf8>"
            ]
          },
          "metadata": {
            "tags": []
          },
          "execution_count": 5
        },
        {
          "output_type": "display_data",
          "data": {
            "image/png": "[encoded data removed]",
            "text/plain": [
              "<Figure size 936x288 with 1 Axes>"
            ]
          },
          "metadata": {
            "tags": []
          }
        }
      ]
    },
    {
      "cell_type": "code",
      "metadata": {
        "id": "XnUS_S4vJ4BH",
        "colab_type": "code",
        "outputId": "f5ad7325-ebd5-4307-ca8f-b8d8c40850ab",
        "colab": {
          "base_uri": "https://localhost:8080/",
          "height": 293
        }
      },
      "source": [
        "series.describe(percentiles=[0.05, 0.95])"
      ],
      "execution_count": 0,
      "outputs": [
        {
          "output_type": "execute_result",
          "data": {
            "text/html": [
              "<div>\n",
              "<style scoped>\n",
              "    .dataframe tbody tr th:only-of-type {\n",
              "        vertical-align: middle;\n",
              "    }\n",
              "\n",
              "    .dataframe tbody tr th {\n",
              "        vertical-align: top;\n",
              "    }\n",
              "\n",
              "    .dataframe thead th {\n",
              "        text-align: right;\n",
              "    }\n",
              "</style>\n",
              "<table border=\"1\" class=\"dataframe\">\n",
              "  <thead>\n",
              "    <tr style=\"text-align: right;\">\n",
              "      <th></th>\n",
              "      <th>Close</th>\n",
              "    </tr>\n",
              "  </thead>\n",
              "  <tbody>\n",
              "    <tr>\n",
              "      <th>count</th>\n",
              "      <td>2516.000000</td>\n",
              "    </tr>\n",
              "    <tr>\n",
              "      <th>mean</th>\n",
              "      <td>652.587282</td>\n",
              "    </tr>\n",
              "    <tr>\n",
              "      <th>std</th>\n",
              "      <td>331.360307</td>\n",
              "    </tr>\n",
              "    <tr>\n",
              "      <th>min</th>\n",
              "      <td>217.220810</td>\n",
              "    </tr>\n",
              "    <tr>\n",
              "      <th>5%</th>\n",
              "      <td>258.210923</td>\n",
              "    </tr>\n",
              "    <tr>\n",
              "      <th>50%</th>\n",
              "      <td>567.298034</td>\n",
              "    </tr>\n",
              "    <tr>\n",
              "      <th>95%</th>\n",
              "      <td>1216.795044</td>\n",
              "    </tr>\n",
              "    <tr>\n",
              "      <th>max</th>\n",
              "      <td>1486.650024</td>\n",
              "    </tr>\n",
              "  </tbody>\n",
              "</table>\n",
              "</div>"
            ],
            "text/plain": [
              "             Close\n",
              "count  2516.000000\n",
              "mean    652.587282\n",
              "std     331.360307\n",
              "min     217.220810\n",
              "5%      258.210923\n",
              "50%     567.298034\n",
              "95%    1216.795044\n",
              "max    1486.650024"
            ]
          },
          "metadata": {
            "tags": []
          },
          "execution_count": 7
        }
      ]
    },
    {
      "cell_type": "markdown",
      "metadata": {
        "id": "x9Imn9M93qDm",
        "colab_type": "text"
      },
      "source": [
        "**Missing Values or Zeros**"
      ]
    },
    {
      "cell_type": "code",
      "metadata": {
        "id": "RhRgHyKrKpWb",
        "colab_type": "code",
        "outputId": "15d4cd8a-4586-4623-dc05-16c0d05a14d9",
        "colab": {
          "base_uri": "https://localhost:8080/",
          "height": 52
        }
      },
      "source": [
        "# Check for missing values\n",
        "series.isnull().sum()"
      ],
      "execution_count": 0,
      "outputs": [
        {
          "output_type": "execute_result",
          "data": {
            "text/plain": [
              "Close    0\n",
              "dtype: int64"
            ]
          },
          "metadata": {
            "tags": []
          },
          "execution_count": 9
        }
      ]
    },
    {
      "cell_type": "code",
      "metadata": {
        "id": "JsjGtyw53Jnp",
        "colab_type": "code",
        "outputId": "c281a4e4-6044-4666-f601-5ba55f6d325a",
        "colab": {
          "base_uri": "https://localhost:8080/",
          "height": 269
        }
      },
      "source": [
        "# Check for missing values\n",
        "sns.set(rc={'figure.figsize':(4, 4)})\n",
        "sns.heatmap(series.isnull(),xticklabels=False,cbar=False,cmap='viridis')"
      ],
      "execution_count": 0,
      "outputs": [
        {
          "output_type": "execute_result",
          "data": {
            "text/plain": [
              "<matplotlib.axes._subplots.AxesSubplot at 0x7efd1d6eae80>"
            ]
          },
          "metadata": {
            "tags": []
          },
          "execution_count": 11
        },
        {
          "output_type": "display_data",
          "data": {
            "image/png": "[encoded data removed]",
            "text/plain": [
              "<Figure size 288x288 with 1 Axes>"
            ]
          },
          "metadata": {
            "tags": []
          }
        }
      ]
    },
    {
      "cell_type": "code",
      "metadata": {
        "id": "l0LPc-Jy3TCy",
        "colab_type": "code",
        "outputId": "c65e2573-0cd5-4bc0-9462-789e350a0e00",
        "colab": {
          "base_uri": "https://localhost:8080/",
          "height": 52
        }
      },
      "source": [
        "# Check for zeros\n",
        "(series[series == 0]).count()"
      ],
      "execution_count": 0,
      "outputs": [
        {
          "output_type": "execute_result",
          "data": {
            "text/plain": [
              "Close    0\n",
              "dtype: int64"
            ]
          },
          "metadata": {
            "tags": []
          },
          "execution_count": 18
        }
      ]
    },
    {
      "cell_type": "markdown",
      "metadata": {
        "id": "OowuUxAwLaqy",
        "colab_type": "text"
      },
      "source": [
        "**Is the series normally distributed?**\n",
        "\n",
        "Hypothesis: no."
      ]
    },
    {
      "cell_type": "code",
      "metadata": {
        "id": "KO06ZDeu9Poy",
        "colab_type": "code",
        "outputId": "ccc10f79-6421-466d-a1d2-c27bb9d4ba03",
        "colab": {
          "base_uri": "https://localhost:8080/",
          "height": 284
        }
      },
      "source": [
        "\n",
        "sns.set(rc={'figure.figsize':(13, 4)})\n",
        "sns.distplot((series), hist=True, rug=True).set_title('Time Series - Distribution Plot (incl. KDE & Rug Plot)')\n",
        "plt.show()"
      ],
      "execution_count": 0,
      "outputs": [
        {
          "output_type": "display_data",
          "data": {
            "image/png": "[encoded data removed]",
            "text/plain": [
              "<Figure size 936x288 with 1 Axes>"
            ]
          },
          "metadata": {
            "tags": []
          }
        }
      ]
    },
    {
      "cell_type": "code",
      "metadata": {
        "id": "-eS-2WcxKE6t",
        "colab_type": "code",
        "outputId": "ded1a1c4-6807-4603-c5e1-436691609e49",
        "colab": {
          "base_uri": "https://localhost:8080/",
          "height": 302
        }
      },
      "source": [
        "sns.boxplot(series).set_title('White Noise Process - Boxplot')"
      ],
      "execution_count": 0,
      "outputs": [
        {
          "output_type": "execute_result",
          "data": {
            "text/plain": [
              "Text(0.5, 1.0, 'White Noise Process - Boxplot')"
            ]
          },
          "metadata": {
            "tags": []
          },
          "execution_count": 12
        },
        {
          "output_type": "display_data",
          "data": {
            "image/png": "[encoded data removed]",
            "text/plain": [
              "<Figure size 936x288 with 1 Axes>"
            ]
          },
          "metadata": {
            "tags": []
          }
        }
      ]
    },
    {
      "cell_type": "markdown",
      "metadata": {
        "id": "46le_FuuLED9",
        "colab_type": "text"
      },
      "source": [
        "**Is there an autocorrelation?**\n",
        "\n",
        "Hypothesis: Yes, with lag 1. Most financial time series are similar to markov processes with a dependency on one lag."
      ]
    },
    {
      "cell_type": "code",
      "metadata": {
        "id": "NzoXCfu69Sl4",
        "colab_type": "code",
        "outputId": "7882dc75-4722-42b6-b126-7eacdf20c7c9",
        "colab": {
          "base_uri": "https://localhost:8080/",
          "height": 284
        }
      },
      "source": [
        "plot_pacf(series)\n",
        "plt.title('Time Series - Partial Autocorrelation Lag Plot')\n",
        "plt.show()"
      ],
      "execution_count": 0,
      "outputs": [
        {
          "output_type": "display_data",
          "data": {
            "image/png": "[encoded data removed]",
            "text/plain": [
              "<Figure size 936x288 with 1 Axes>"
            ]
          },
          "metadata": {
            "tags": []
          }
        }
      ]
    },
    {
      "cell_type": "code",
      "metadata": {
        "id": "wAOs6crV9WcV",
        "colab_type": "code",
        "outputId": "cfdf49eb-9f80-43ab-815e-878217ca7d1b",
        "colab": {
          "base_uri": "https://localhost:8080/",
          "height": 325
        }
      },
      "source": [
        "lag_plot(series)\n",
        "plt.title('Time Series - Autocorrelation Lag Plot')\n",
        "plt.show()"
      ],
      "execution_count": 0,
      "outputs": [
        {
          "output_type": "stream",
          "text": [
            "'c' argument looks like a single numeric RGB or RGBA sequence, which should be avoided as value-mapping will have precedence in case its length matches with 'x' & 'y'.  Please use a 2-D array with a single row if you really want to specify the same RGB or RGBA value for all points.\n"
          ],
          "name": "stderr"
        },
        {
          "output_type": "display_data",
          "data": {
            "image/png": "[encoded data removed]",
            "text/plain": [
              "<Figure size 936x288 with 1 Axes>"
            ]
          },
          "metadata": {
            "tags": []
          }
        }
      ]
    },
    {
      "cell_type": "markdown",
      "metadata": {
        "id": "98FfM8EVKt0O",
        "colab_type": "text"
      },
      "source": [
        "**Is the time series stationary?**\n",
        "\n",
        "Hypohesis: It isn't. Most financial time series exhibit a unit root and need to be differenced once. Additionally they demonstrate a trend upward ('random walk with drift'). Also there might some seasonality."
      ]
    },
    {
      "cell_type": "code",
      "metadata": {
        "id": "cTFgJ2CoKOT8",
        "colab_type": "code",
        "outputId": "5f2e1b1b-d1e8-4010-d8d9-6188cf11d38b",
        "colab": {
          "base_uri": "https://localhost:8080/",
          "height": 157
        }
      },
      "source": [
        "# Augmented Dickery Fuller (H0: No stationarity)\n",
        "df = series.price\n",
        "statsmodels.tsa.stattools.adfuller(df, maxlag=None, regression='nc', autolag='AIC', store=False, regresults=False)"
      ],
      "execution_count": 0,
      "outputs": [
        {
          "output_type": "execute_result",
          "data": {
            "text/plain": [
              "(2.9224506092809115,\n",
              " 0.9997106586717946,\n",
              " 20,\n",
              " 2495,\n",
              " {'1%': -2.5666366948727113,\n",
              "  '10%': -1.6167139814432983,\n",
              "  '5%': -1.9411081938603896},\n",
              " 18866.08557404916)"
            ]
          },
          "metadata": {
            "tags": []
          },
          "execution_count": 36
        }
      ]
    },
    {
      "cell_type": "markdown",
      "metadata": {
        "id": "4fecGCuS5N1w",
        "colab_type": "text"
      },
      "source": [
        "Don't reject H0. Data is stationary and needs to be differenced."
      ]
    },
    {
      "cell_type": "code",
      "metadata": {
        "id": "jGCLcwVm_PG1",
        "colab_type": "code",
        "outputId": "5fc70c20-d313-488f-b39d-c0be7b6a70eb",
        "colab": {
          "base_uri": "https://localhost:8080/",
          "height": 157
        }
      },
      "source": [
        "# Run ADF test again on differenced time series\n",
        "statsmodels.tsa.stattools.adfuller(series.difference, maxlag=None, regression='nc', autolag='AIC', store=False, regresults=False)"
      ],
      "execution_count": 0,
      "outputs": [
        {
          "output_type": "execute_result",
          "data": {
            "text/plain": [
              "(-11.310406161579278,\n",
              " 1.6526363287747393e-20,\n",
              " 17,\n",
              " 2497,\n",
              " {'1%': -2.566635976188647,\n",
              "  '10%': -1.6167140660137316,\n",
              "  '5%': -1.941108106771906},\n",
              " 18865.78928513774)"
            ]
          },
          "metadata": {
            "tags": []
          },
          "execution_count": 62
        }
      ]
    },
    {
      "cell_type": "markdown",
      "metadata": {
        "id": "zf5prS0U6Mwp",
        "colab_type": "text"
      },
      "source": [
        "Reject H0. Data is now stationary. Differencing once is called unit root, a typical characteristica of financial time series."
      ]
    },
    {
      "cell_type": "markdown",
      "metadata": {
        "id": "gOEIhQRbW5bT",
        "colab_type": "text"
      },
      "source": [
        "# **Base Model**"
      ]
    },
    {
      "cell_type": "markdown",
      "metadata": {
        "id": "vDYh7NWEXeM8",
        "colab_type": "text"
      },
      "source": [
        "Let's run a simple base model to compare against."
      ]
    },
    {
      "cell_type": "code",
      "metadata": {
        "id": "W-WENEgRXMph",
        "colab_type": "code",
        "outputId": "ce1a38cf-3ca6-4d55-899d-dcc16fc035a4",
        "colab": {
          "base_uri": "https://localhost:8080/",
          "height": 35
        }
      },
      "source": [
        "# Train and Test Set\n",
        "X = lagged.values\n",
        "train_size = int(len(X) * 0.66)\n",
        "train, test = X[1:train_size], X[train_size:]\n",
        "train_X, train_y = train[:,0], train[:,1]\n",
        "test_X, test_y = test[:,0], test[:,1]\n",
        "\n",
        "# persistence model\n",
        "def model_persistence(x):\n",
        "\treturn x\n",
        "\n",
        "# walk-forward validation\n",
        "predictions = list()\n",
        "for x in test_X:\n",
        "\tyhat = model_persistence(x)\n",
        "\tpredictions.append(yhat)\n",
        "test_score = mean_squared_error(test_y, predictions)\n",
        "print('Test MSE: %.3f' % test_score)"
      ],
      "execution_count": 9,
      "outputs": [
        {
          "output_type": "stream",
          "text": [
            "Test MSE: 238.908\n"
          ],
          "name": "stdout"
        }
      ]
    },
    {
      "cell_type": "markdown",
      "metadata": {
        "id": "eDtLjCoLX8eh",
        "colab_type": "text"
      },
      "source": [
        "There is still space for improvement, but let's run first a residual analysis."
      ]
    },
    {
      "cell_type": "markdown",
      "metadata": {
        "id": "gjJ_pATVW8Xw",
        "colab_type": "text"
      },
      "source": [
        "# **Residual Analysis**"
      ]
    },
    {
      "cell_type": "markdown",
      "metadata": {
        "id": "jflKXhlC6wCF",
        "colab_type": "text"
      },
      "source": [
        "**What are residuals?**\n",
        "\n",
        "For most (time series) models, the residuals are difference between observation and its corresponding estimated (fitted) value:\n",
        "\n",
        "$e_{t} = y_{t} - \\hat{y}_{t}$\n",
        "\n",
        "**Why is it important to analyze residuals?**\n",
        "\n",
        "Residuals are useful in checking whether a model has adequately captured the information in the data. In a good model the residuals are stationary. However one can classify the stationarity criteria in two distinct groups for residual analysis:\n",
        "\n",
        "A good forecasting method will yield residuals with the following properties:\n",
        "\n",
        "1. The residuals are uncorrelated. If there are correlations between residuals, then there is information left in the residuals which should be used in computing forecasts.\n",
        "\n",
        "2. The residuals have zero mean. If the residuals have a mean other than zero, then the forecasts are biased.\n",
        "\n",
        "Any forecasting method that does not satisfy these properties can be improved. However, that does not mean that forecasting methods that satisfy these properties cannot be improved. It is possible to have several different forecasting methods for the same data set, all of which satisfy these properties. Checking these properties is important in order to see whether a method is using all of the available information, but it is not a good way to select a forecasting method.\n",
        "\n",
        "If either of these properties is not satisfied, then the forecasting method can be modified to give better forecasts. Adjusting for bias is easy: if the residuals have mean m, then simply add m to all forecasts and the bias problem is solved. Fixing the correlation problem is harder, and we will not address it until Chapter 9.\n",
        "\n",
        "In addition to these essential properties, it is useful (but not necessary) for the residuals to also have the following two properties.\n",
        "\n",
        "3. The residuals have constant variance.\n",
        "\n",
        "4. The residuals are normally distributed.\n",
        "\n",
        "These two properties make the calculation of prediction intervals easier (see Section 3.5 for an example). However, a forecasting method that does not satisfy these properties cannot necessarily be improved. Sometimes applying a Box-Cox transformation may assist with these properties, but otherwise there is usually little that you can do to ensure that your residuals have constant variance and a normal distribution. Instead, an alternative approach to obtaining prediction intervals is necessary. Again, we will not address how to do this until later in the book.\n",
        "\n",
        "[Source 1](https://otexts.com/fpp2/residuals.html)\n",
        "\n",
        "[Source2 ](https://otexts.com/fpp2/prediction-intervals.html)"
      ]
    },
    {
      "cell_type": "code",
      "metadata": {
        "id": "HsldK2V9XP5x",
        "colab_type": "code",
        "outputId": "09ab0a30-744b-46fd-fa25-ed57251783ad",
        "colab": {
          "base_uri": "https://localhost:8080/",
          "height": 204
        }
      },
      "source": [
        "# Define residuals\n",
        "residuals = (test_y - predictions)\n",
        "\n",
        "# Convert from numpy.ndarray into pandas.DataFrame\n",
        "residuals = pd.DataFrame(residuals,\n",
        "                         columns=['res'])\n",
        "residuals.head()"
      ],
      "execution_count": 10,
      "outputs": [
        {
          "output_type": "execute_result",
          "data": {
            "text/html": [
              "<div>\n",
              "<style scoped>\n",
              "    .dataframe tbody tr th:only-of-type {\n",
              "        vertical-align: middle;\n",
              "    }\n",
              "\n",
              "    .dataframe tbody tr th {\n",
              "        vertical-align: top;\n",
              "    }\n",
              "\n",
              "    .dataframe thead th {\n",
              "        text-align: right;\n",
              "    }\n",
              "</style>\n",
              "<table border=\"1\" class=\"dataframe\">\n",
              "  <thead>\n",
              "    <tr style=\"text-align: right;\">\n",
              "      <th></th>\n",
              "      <th>res</th>\n",
              "    </tr>\n",
              "  </thead>\n",
              "  <tbody>\n",
              "    <tr>\n",
              "      <th>0</th>\n",
              "      <td>8.619995</td>\n",
              "    </tr>\n",
              "    <tr>\n",
              "      <th>1</th>\n",
              "      <td>0.269959</td>\n",
              "    </tr>\n",
              "    <tr>\n",
              "      <th>2</th>\n",
              "      <td>-5.029969</td>\n",
              "    </tr>\n",
              "    <tr>\n",
              "      <th>3</th>\n",
              "      <td>-15.660034</td>\n",
              "    </tr>\n",
              "    <tr>\n",
              "      <th>4</th>\n",
              "      <td>9.360047</td>\n",
              "    </tr>\n",
              "  </tbody>\n",
              "</table>\n",
              "</div>"
            ],
            "text/plain": [
              "         res\n",
              "0   8.619995\n",
              "1   0.269959\n",
              "2  -5.029969\n",
              "3 -15.660034\n",
              "4   9.360047"
            ]
          },
          "metadata": {
            "tags": []
          },
          "execution_count": 10
        }
      ]
    },
    {
      "cell_type": "code",
      "metadata": {
        "id": "BD419njmakM7",
        "colab_type": "code",
        "outputId": "68d46707-1227-4136-d421-b5aa81c1401e",
        "colab": {
          "base_uri": "https://localhost:8080/",
          "height": 297
        }
      },
      "source": [
        "residuals.describe()"
      ],
      "execution_count": 11,
      "outputs": [
        {
          "output_type": "execute_result",
          "data": {
            "text/html": [
              "<div>\n",
              "<style scoped>\n",
              "    .dataframe tbody tr th:only-of-type {\n",
              "        vertical-align: middle;\n",
              "    }\n",
              "\n",
              "    .dataframe tbody tr th {\n",
              "        vertical-align: top;\n",
              "    }\n",
              "\n",
              "    .dataframe thead th {\n",
              "        text-align: right;\n",
              "    }\n",
              "</style>\n",
              "<table border=\"1\" class=\"dataframe\">\n",
              "  <thead>\n",
              "    <tr style=\"text-align: right;\">\n",
              "      <th></th>\n",
              "      <th>res</th>\n",
              "    </tr>\n",
              "  </thead>\n",
              "  <tbody>\n",
              "    <tr>\n",
              "      <th>count</th>\n",
              "      <td>855.000000</td>\n",
              "    </tr>\n",
              "    <tr>\n",
              "      <th>mean</th>\n",
              "      <td>0.803708</td>\n",
              "    </tr>\n",
              "    <tr>\n",
              "      <th>std</th>\n",
              "      <td>15.444773</td>\n",
              "    </tr>\n",
              "    <tr>\n",
              "      <th>min</th>\n",
              "      <td>-99.099976</td>\n",
              "    </tr>\n",
              "    <tr>\n",
              "      <th>25%</th>\n",
              "      <td>-5.709961</td>\n",
              "    </tr>\n",
              "    <tr>\n",
              "      <th>50%</th>\n",
              "      <td>0.920044</td>\n",
              "    </tr>\n",
              "    <tr>\n",
              "      <th>75%</th>\n",
              "      <td>8.654999</td>\n",
              "    </tr>\n",
              "    <tr>\n",
              "      <th>max</th>\n",
              "      <td>118.290039</td>\n",
              "    </tr>\n",
              "  </tbody>\n",
              "</table>\n",
              "</div>"
            ],
            "text/plain": [
              "              res\n",
              "count  855.000000\n",
              "mean     0.803708\n",
              "std     15.444773\n",
              "min    -99.099976\n",
              "25%     -5.709961\n",
              "50%      0.920044\n",
              "75%      8.654999\n",
              "max    118.290039"
            ]
          },
          "metadata": {
            "tags": []
          },
          "execution_count": 11
        }
      ]
    },
    {
      "cell_type": "code",
      "metadata": {
        "id": "oaTxGSX_XTvy",
        "colab_type": "code",
        "outputId": "fa8ff477-0a6c-444d-ea0b-b2b485015baa",
        "colab": {
          "base_uri": "https://localhost:8080/",
          "height": 305
        }
      },
      "source": [
        "sns.set(rc={'figure.figsize':(13, 4)})\n",
        "residuals.plot(linewidth=1.0,title='Residuals of Time Series Model')\n",
        "plt.ylabel('Value')\n",
        "plt.xlabel('Time step')"
      ],
      "execution_count": 12,
      "outputs": [
        {
          "output_type": "execute_result",
          "data": {
            "text/plain": [
              "Text(0.5, 0, 'Time step')"
            ]
          },
          "metadata": {
            "tags": []
          },
          "execution_count": 12
        },
        {
          "output_type": "display_data",
          "data": {
            "image/png": "[encoded data removed]",
            "text/plain": [
              "<Figure size 936x288 with 1 Axes>"
            ]
          },
          "metadata": {
            "tags": []
          }
        }
      ]
    },
    {
      "cell_type": "markdown",
      "metadata": {
        "id": "xiDBYb6D7Xjb",
        "colab_type": "text"
      },
      "source": [
        "**Are the residuals normally distributed?**"
      ]
    },
    {
      "cell_type": "code",
      "metadata": {
        "id": "81vUA4HE69b1",
        "colab_type": "code",
        "outputId": "1bfe6ab9-7401-4842-af3c-d43a3b0dc82a",
        "colab": {
          "base_uri": "https://localhost:8080/",
          "height": 287
        }
      },
      "source": [
        "sns.set(rc={'figure.figsize':(13, 4)})\n",
        "stats.probplot(residuals.res, dist=\"norm\", plot=plt)\n",
        "plt.title('Residuals - QQ Plot - Normal Distribution')\n",
        "plt.show()"
      ],
      "execution_count": 13,
      "outputs": [
        {
          "output_type": "display_data",
          "data": {
            "image/png": "[encoded data removed]",
            "text/plain": [
              "<Figure size 936x288 with 1 Axes>"
            ]
          },
          "metadata": {
            "tags": []
          }
        }
      ]
    },
    {
      "cell_type": "code",
      "metadata": {
        "id": "m5WtoWxz7iLx",
        "colab_type": "code",
        "outputId": "6c3924a9-86b9-4a32-d800-12aab9e6e930",
        "colab": {
          "base_uri": "https://localhost:8080/",
          "height": 35
        }
      },
      "source": [
        "# Normal Test. H0: sample comes from a normal distribution\n",
        "scipy.stats.normaltest(residuals.res)"
      ],
      "execution_count": 14,
      "outputs": [
        {
          "output_type": "execute_result",
          "data": {
            "text/plain": [
              "NormaltestResult(statistic=140.19398076703737, pvalue=3.6079779807908435e-31)"
            ]
          },
          "metadata": {
            "tags": []
          },
          "execution_count": 14
        }
      ]
    },
    {
      "cell_type": "markdown",
      "metadata": {
        "id": "Qg6Ys7ee7rx_",
        "colab_type": "text"
      },
      "source": [
        "Reject H0, residuals are not normally distributed"
      ]
    },
    {
      "cell_type": "markdown",
      "metadata": {
        "id": "HbUOSQru9PEa",
        "colab_type": "text"
      },
      "source": [
        "**Are the residuals autocorrelated?**\n"
      ]
    },
    {
      "cell_type": "code",
      "metadata": {
        "id": "p9_NCoE29Jyb",
        "colab_type": "code",
        "outputId": "4382d908-3e7d-45a0-c0a6-4222db201129",
        "colab": {
          "base_uri": "https://localhost:8080/",
          "height": 280
        }
      },
      "source": [
        "plot_pacf(residuals.res)\n",
        "plt.title('Partial Autocorrelation Lag Plot')\n",
        "plt.show()"
      ],
      "execution_count": 15,
      "outputs": [
        {
          "output_type": "display_data",
          "data": {
            "image/png": "[encoded data removed]",
            "text/plain": [
              "<Figure size 936x288 with 1 Axes>"
            ]
          },
          "metadata": {
            "tags": []
          }
        }
      ]
    },
    {
      "cell_type": "code",
      "metadata": {
        "id": "BNoNc85H9Vif",
        "colab_type": "code",
        "outputId": "f8221826-7a60-4adb-da44-c0527b27368d",
        "colab": {
          "base_uri": "https://localhost:8080/",
          "height": 35
        }
      },
      "source": [
        "# Durban Watson. H0: there is no serial correlation\n",
        "statsmodels.stats.stattools.durbin_watson(residuals.res, axis=0)"
      ],
      "execution_count": 16,
      "outputs": [
        {
          "output_type": "execute_result",
          "data": {
            "text/plain": [
              "1.9872349081330745"
            ]
          },
          "metadata": {
            "tags": []
          },
          "execution_count": 16
        }
      ]
    },
    {
      "cell_type": "markdown",
      "metadata": {
        "id": "NLEf-nnV9gUs",
        "colab_type": "text"
      },
      "source": [
        "There is no autocorrelation present."
      ]
    },
    {
      "cell_type": "markdown",
      "metadata": {
        "id": "0FMB-FLU7RE1",
        "colab_type": "text"
      },
      "source": [
        "**Are the residuals stationary?**\n",
        "\n"
      ]
    },
    {
      "cell_type": "code",
      "metadata": {
        "id": "UT9IpPAmatwW",
        "colab_type": "code",
        "outputId": "3a77036e-ba43-4eca-8ab0-23b5a8bd802a",
        "colab": {
          "base_uri": "https://localhost:8080/",
          "height": 161
        }
      },
      "source": [
        "# Augmented Dickery Fuller (H0: No stationarity)\n",
        "statsmodels.tsa.stattools.adfuller(residuals.res, maxlag=None, regression='nc', autolag='AIC', store=False, regresults=False)"
      ],
      "execution_count": 17,
      "outputs": [
        {
          "output_type": "execute_result",
          "data": {
            "text/plain": [
              "(-10.637832666141769,\n",
              " 4.156197999474523e-19,\n",
              " 10,\n",
              " 844,\n",
              " {'1%': -2.568394143831001,\n",
              "  '10%': -1.6165090758685048,\n",
              "  '5%': -1.9413229184063758},\n",
              " 6927.474836138723)"
            ]
          },
          "metadata": {
            "tags": []
          },
          "execution_count": 17
        }
      ]
    },
    {
      "cell_type": "markdown",
      "metadata": {
        "id": "EgnPn3197OeX",
        "colab_type": "text"
      },
      "source": [
        "Residuals are stationary"
      ]
    },
    {
      "cell_type": "code",
      "metadata": {
        "id": "kbyC6ScM983X",
        "colab_type": "code",
        "outputId": "f61e59bb-2deb-4955-c531-c1117369aaf9",
        "colab": {
          "base_uri": "https://localhost:8080/",
          "height": 145
        }
      },
      "source": [
        "# KPSS - Trend Stationary Test\n",
        "# H0 = Deterministic Trend. H1 = Non-Stationary (Unit Root). Reject H0 if p-value of less than 5% \n",
        "statsmodels.tsa.stattools.kpss(residuals.res, regression='ct', lags='auto', store=False)"
      ],
      "execution_count": 18,
      "outputs": [
        {
          "output_type": "stream",
          "text": [
            "/usr/local/lib/python3.6/dist-packages/statsmodels/tsa/stattools.py:1711: InterpolationWarning: p-value is greater than the indicated p-value\n",
            "  warn(\"p-value is greater than the indicated p-value\", InterpolationWarning)\n"
          ],
          "name": "stderr"
        },
        {
          "output_type": "execute_result",
          "data": {
            "text/plain": [
              "(0.04989278272239876,\n",
              " 0.1,\n",
              " 5,\n",
              " {'1%': 0.216, '10%': 0.119, '2.5%': 0.176, '5%': 0.146})"
            ]
          },
          "metadata": {
            "tags": []
          },
          "execution_count": 18
        }
      ]
    },
    {
      "cell_type": "markdown",
      "metadata": {
        "id": "iahF0xIm-LvO",
        "colab_type": "text"
      },
      "source": [
        "There is a deterministic trend present."
      ]
    },
    {
      "cell_type": "code",
      "metadata": {
        "id": "voxfd3iY-Rnh",
        "colab_type": "code",
        "outputId": "e53a31cb-50b1-4b78-d171-2a6422f59a58",
        "colab": {
          "base_uri": "https://localhost:8080/",
          "height": 142
        }
      },
      "source": [
        "# KPSS - Level Stationary Test\n",
        "# H0 = Stationary (Stochastic Trend). H1 = Non-Stationary (Unit Root). Reject H0 if p-value of less than 5%\n",
        "statsmodels.tsa.stattools.kpss(residuals.res, regression='c', lags='auto', store=False)"
      ],
      "execution_count": 0,
      "outputs": [
        {
          "output_type": "stream",
          "text": [
            "/usr/local/lib/python3.6/dist-packages/statsmodels/tsa/stattools.py:1711: InterpolationWarning: p-value is greater than the indicated p-value\n",
            "  warn(\"p-value is greater than the indicated p-value\", InterpolationWarning)\n"
          ],
          "name": "stderr"
        },
        {
          "output_type": "execute_result",
          "data": {
            "text/plain": [
              "(0.05802612414321132,\n",
              " 0.1,\n",
              " 4,\n",
              " {'1%': 0.739, '10%': 0.347, '2.5%': 0.574, '5%': 0.463})"
            ]
          },
          "metadata": {
            "tags": []
          },
          "execution_count": 59
        }
      ]
    },
    {
      "cell_type": "markdown",
      "metadata": {
        "id": "lYADpV_hIY6a",
        "colab_type": "text"
      },
      "source": [
        "# **Model Building with TF.Prob STS**"
      ]
    },
    {
      "cell_type": "markdown",
      "metadata": {
        "id": "Ly2oRFTQW_4b",
        "colab_type": "text"
      },
      "source": [
        "Clearly still some signal left in the residuals. Model is not good enough yet."
      ]
    },
    {
      "cell_type": "markdown",
      "metadata": {
        "id": "Z_0hLlCCL6Zn",
        "colab_type": "text"
      },
      "source": [
        "This analysis is inspired by this example: \n",
        "[Atmospheric CO2 and Electricity Demand](https://medium.com/tensorflow/structural-time-series-modeling-in-tensorflow-probability-344edac24083) - ([Github](https://github.com/tensorflow/probability/blob/master/tensorflow_probability/examples/jupyter_notebooks/Structural_Time_Series_Modeling_Case_Studies_Atmospheric_CO2_and_Electricity_Demand.ipynb))"
      ]
    },
    {
      "cell_type": "code",
      "metadata": {
        "id": "uZ9Dk2ciIsdg",
        "colab_type": "code",
        "colab": {}
      },
      "source": [
        "observed_time_series = series"
      ],
      "execution_count": 0,
      "outputs": []
    },
    {
      "cell_type": "code",
      "metadata": {
        "id": "Tu-A0HGYImad",
        "colab_type": "code",
        "colab": {}
      },
      "source": [
        "holiday_indicators = np.zeros([31, 3])\n",
        "holiday_indicators[23, 0] = 1  # Christmas Eve\n",
        "holiday_indicators[24, 1] = 1  # Christmas Day\n",
        "holiday_indicators[30, 2] = 1  # New Year's Eve\n",
        "\n",
        "holidays = tfp.sts.LinearRegression(design_matrix=holiday_indicators,\n",
        "                                    name='holidays')\n",
        "day_of_week = tfp.sts.Seasonal(num_seasons=7,\n",
        "                               observed_time_series=observed_time_series,\n",
        "                               name='day_of_week')"
      ],
      "execution_count": 0,
      "outputs": []
    },
    {
      "cell_type": "code",
      "metadata": {
        "id": "iLEhMl00IX1q",
        "colab_type": "code",
        "colab": {}
      },
      "source": [
        "model = tfp.sts.Sum(components=[holidays, seasonal],\n",
        "                    observed_time_series=observed_time_series)"
      ],
      "execution_count": 0,
      "outputs": []
    }
  ]
}