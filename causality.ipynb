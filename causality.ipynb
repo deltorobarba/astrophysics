{
  "nbformat": 4,
  "nbformat_minor": 0,
  "metadata": {
    "colab": {
      "name": "causality.ipynb",
      "provenance": [],
      "collapsed_sections": [],
      "toc_visible": true,
      "include_colab_link": true
    },
    "kernelspec": {
      "name": "python3",
      "display_name": "Python 3"
    }
  },
  "cells": [
    {
      "cell_type": "markdown",
      "metadata": {
        "id": "view-in-github",
        "colab_type": "text"
      },
      "source": [
        "<a href=\"https://colab.research.google.com/github/deltorobarba/machinelearning/blob/master/causality.ipynb\" target=\"_parent\"><img src=\"https://colab.research.google.com/assets/colab-badge.svg\" alt=\"Open In Colab\"/></a>"
      ]
    },
    {
      "cell_type": "markdown",
      "metadata": {
        "id": "8chCbs1o_Iud",
        "colab_type": "text"
      },
      "source": [
        "# Causality in Time Series"
      ]
    },
    {
      "cell_type": "markdown",
      "metadata": {
        "id": "lz2D7pzTBD-m",
        "colab_type": "text"
      },
      "source": [
        "*Author: Alexander Del Toro Barba*"
      ]
    },
    {
      "cell_type": "markdown",
      "metadata": {
        "id": "Ayt2I86pl93E",
        "colab_type": "text"
      },
      "source": [
        "# Import Libraries"
      ]
    },
    {
      "cell_type": "code",
      "metadata": {
        "id": "mVoqiLSATtsG",
        "colab_type": "code",
        "outputId": "1ad5c97d-7326-4713-8f58-f7d7f67e0c47",
        "colab": {
          "base_uri": "https://localhost:8080/",
          "height": 63
        }
      },
      "source": [
        "# Import packages\n",
        "import numpy as np\n",
        "import sklearn\n",
        "from decimal import *\n",
        "from numpy import linalg as LA\n",
        "import matplotlib.pyplot as plt\n",
        "from mpl_toolkits.mplot3d import Axes3D\n",
        "\n",
        "import collections\n",
        "import datetime\n",
        "import matplotlib\n",
        "from scipy import stats\n",
        "import scipy.stats as stats\n",
        "import matplotlib.pylab as py\n",
        "import matplotlib.pyplot as plt\n",
        "from numpy import sqrt\n",
        "from copy import copy\n",
        "from pandas.plotting import lag_plot\n",
        "from pandas.plotting import autocorrelation_plot\n",
        "from statsmodels.graphics.tsaplots import plot_acf\n",
        "from statsmodels.graphics.tsaplots import plot_pacf\n",
        "import statsmodels.api as sm\n",
        "from statsmodels.tsa.arima_process import ArmaProcess\n",
        "from statsmodels.graphics.tsaplots import plot_pacf\n",
        "import matplotlib.dates as mdates\n",
        "import numpy as np\n",
        "import pandas as pd\n",
        "import seaborn as sns\n",
        "import tensorflow as tf\n",
        "import statsmodels\n",
        "from statsmodels.tsa.stattools import adfuller\n",
        "from numpy import log"
      ],
      "execution_count": 0,
      "outputs": [
        {
          "output_type": "display_data",
          "data": {
            "text/html": [
              "<p style=\"color: red;\">\n",
              "The default version of TensorFlow in Colab will soon switch to TensorFlow 2.x.<br>\n",
              "We recommend you <a href=\"https://www.tensorflow.org/guide/migrate\" target=\"_blank\">upgrade</a> now \n",
              "or ensure your notebook will continue to use TensorFlow 1.x via the <code>%tensorflow_version 1.x</code> magic:\n",
              "<a href=\"https://colab.research.google.com/notebooks/tensorflow_version.ipynb\" target=\"_blank\">more info</a>.</p>\n"
            ],
            "text/plain": [
              "<IPython.core.display.HTML object>"
            ]
          },
          "metadata": {
            "tags": []
          }
        }
      ]
    },
    {
      "cell_type": "markdown",
      "metadata": {
        "id": "FyEGJ08mlMSM",
        "colab_type": "text"
      },
      "source": [
        "# Import Data"
      ]
    },
    {
      "cell_type": "code",
      "metadata": {
        "id": "C6cGmuheZz-a",
        "colab_type": "code",
        "colab": {}
      },
      "source": [
        "# Import from https://webdav.tuebingen.mpg.de/cause-effect/"
      ],
      "execution_count": 0,
      "outputs": []
    },
    {
      "cell_type": "markdown",
      "metadata": {
        "id": "pBIaa7MTdhMx",
        "colab_type": "text"
      },
      "source": [
        "# Visualize Data"
      ]
    },
    {
      "cell_type": "markdown",
      "metadata": {
        "id": "zvWInTaONx1O",
        "colab_type": "text"
      },
      "source": [
        "# Stationarity & Unit Root Tests"
      ]
    },
    {
      "cell_type": "markdown",
      "metadata": {
        "id": "HKbRuIKbb7BB",
        "colab_type": "text"
      },
      "source": [
        "**Stationarity is a pre-requisite for Granger causality tests (but not for Johansen cointegration test - that is done on original, untransformed time series.**"
      ]
    },
    {
      "cell_type": "markdown",
      "metadata": {
        "id": "vT_Qur7udFbj",
        "colab_type": "text"
      },
      "source": [
        "## Johansen Cointegration\n",
        "\n",
        "Johansen Test for Cointegration on Original Time uses the augmented Engle-Granger two-step cointegration test\n",
        "\n",
        "Test for no-cointegration of a univariate equation. The null hypothesis is no cointegration. If two time series, X and Y, are cointegrated, there must exist Granger causality either from X to Y, or from Y to X, both in both directions. \n",
        "\n",
        "The presence of Granger causality in either or both directions between X and Y does not necessarily imply that the series will be cointegrated.\n",
        "\n",
        "The first value is cointegration score, second is p-value, rest is 1%, 5% and 10%."
      ]
    },
    {
      "cell_type": "code",
      "metadata": {
        "id": "a5D9A0cjdDj9",
        "colab_type": "code",
        "colab": {}
      },
      "source": [
        "statsmodels.tsa.stattools.coint(series, series2, trend='ct', method='aeg', autolag='aic')"
      ],
      "execution_count": 0,
      "outputs": []
    },
    {
      "cell_type": "markdown",
      "metadata": {
        "id": "oQS3yWE7Wu5A",
        "colab_type": "text"
      },
      "source": [
        "## KPSS Stationary Test"
      ]
    },
    {
      "cell_type": "markdown",
      "metadata": {
        "id": "Rh8l5PKPWG8I",
        "colab_type": "text"
      },
      "source": [
        "* Kwiatkowski-Phillips-Schmidt-Shin to test if time series is stationarity. Computes the Kwiatkowski-Phillips-Schmidt-Shin (KPSS) test for the null hypothesis that x is level or trend stationary. Stationarity Test: KPSS\n",
        "* H0: Series has no unit root (is stationary or a deterministic trend). Ha: Series is not stationary\n",
        "* Reject H0 if  p-value of less than 5% and test stats higher than provided critical values\n",
        "\n",
        "**Cautions**\n",
        "\n",
        "* A major disadvantage for the KPSS test is that it has a high rate of Type I errors (it tends to reject the null hypothesis too often). If attempts are made to control these errors (by having larger p-values), then that negatively impacts the test’s power.\n",
        "\n",
        "* One way to deal with the potential for high Type I errors is to combine the KPSS with an ADF test. If the result from both tests suggests that the time series in stationary, then it probably is.\n",
        "\n",
        "* https://www.statisticshowto.datasciencecentral.com/kpss-test/"
      ]
    },
    {
      "cell_type": "markdown",
      "metadata": {
        "id": "NmFFu9oHVxR2",
        "colab_type": "text"
      },
      "source": [
        "**KPSS - Level Stationarity Test**\n",
        "\n",
        "‘c’ : The data is stationary around a constant (default).\n",
        "\n",
        "H0 = Stationary (Stochastic Trend). H1 = Non-Stationary (Unit Root)\n",
        "\n",
        "Reject H0 if p-value of less than 5% and test stats higher than provided critical values"
      ]
    },
    {
      "cell_type": "code",
      "metadata": {
        "id": "XiUYh92dnaAO",
        "colab_type": "code",
        "colab": {}
      },
      "source": [
        "statsmodels.tsa.stattools.kpss(series, regression='c', store=False)"
      ],
      "execution_count": 0,
      "outputs": []
    },
    {
      "cell_type": "markdown",
      "metadata": {
        "id": "VTJVkLsacw65",
        "colab_type": "text"
      },
      "source": [
        "**KPSS Trend Stationary Test**"
      ]
    },
    {
      "cell_type": "markdown",
      "metadata": {
        "id": "F6ixj9ByV2Nb",
        "colab_type": "text"
      },
      "source": [
        "‘ct’ : The data is stationary around a trend.\n",
        "\n",
        "H0 = Deterministic Trend. H1 = Non-Stationary (Unit Root)\n",
        "\n",
        "Reject H0 if p-value of less than 5% and test stats higher than provided critical values"
      ]
    },
    {
      "cell_type": "code",
      "metadata": {
        "id": "dQYVjEA2WCk0",
        "colab_type": "code",
        "colab": {}
      },
      "source": [
        "statsmodels.tsa.stattools.kpss(series, regression='ct', store=False)"
      ],
      "execution_count": 0,
      "outputs": []
    },
    {
      "cell_type": "markdown",
      "metadata": {
        "id": "f4TxxUB7H97x",
        "colab_type": "text"
      },
      "source": [
        "## Augmented Dickey Fuller"
      ]
    },
    {
      "cell_type": "markdown",
      "metadata": {
        "id": "3cet7mDUVDUh",
        "colab_type": "text"
      },
      "source": [
        "The Augmented Dickey-Fuller test can be used to test for a unit root in a univariate process in the presence of serial correlation.\n",
        "\n",
        "H0: There is a unit root for the series (non stationary)\n",
        "\n",
        "Ha: There is no unit root for the series. The series is stationary.\n",
        "\n",
        "Reject H0 if p-value of less than 5% and test stats higher than provided critical values"
      ]
    },
    {
      "cell_type": "markdown",
      "metadata": {
        "id": "Av1LcQn8SlrV",
        "colab_type": "text"
      },
      "source": [
        "**Choose regression {‘c’,’ct’,’ctt’,’nc’} - Constant and trend order to include in regression.**\n",
        "\n",
        "* ‘c’ : constant only (default).\n",
        "* ‘ct’ : constant and trend.\n",
        "* ‘ctt’ : constant, and linear and quadratic trend.\n",
        "* ‘nc’ : no constant, no trend."
      ]
    },
    {
      "cell_type": "code",
      "metadata": {
        "id": "2X30vGlcSQ2U",
        "colab_type": "code",
        "colab": {}
      },
      "source": [
        "# no constant, no trend\n",
        "statsmodels.tsa.stattools.adfuller(series, maxlag=None, regression='nc', autolag='AIC', store=False, regresults=False)"
      ],
      "execution_count": 0,
      "outputs": []
    },
    {
      "cell_type": "markdown",
      "metadata": {
        "id": "At-lbdlFcK5R",
        "colab_type": "text"
      },
      "source": [
        "# Data Transformation"
      ]
    },
    {
      "cell_type": "markdown",
      "metadata": {
        "id": "vbAgKuxtNbFf",
        "colab_type": "text"
      },
      "source": [
        "# Granger Causality"
      ]
    },
    {
      "cell_type": "markdown",
      "metadata": {
        "id": "AuWmVO9WVkjj",
        "colab_type": "text"
      },
      "source": [
        "Granger causality means that past values of x2 have a statistically significant effect on the current value of x1, taking past values of x1 into account as regressors. \n",
        "\n",
        "* **Null hypothesis: x2 does NOT Granger cause x1**\n",
        "* **Reject null hypothesis if the p-values are below a desired size of the test**\n",
        "\n",
        "The null hypothesis for all four test is that the coefficients corresponding to past values of the second time series are zero.\n",
        "\n",
        "* If p > .10 → “not significant” \n",
        "* If p ≤ .10 → “marginally significant” \n",
        "* If p ≤ .05 → “significant” \n",
        "* If p ≤ .01 → “highly significant.”\n",
        "\n",
        "Explanation: With a large number of variables and lags (large number of lags may be assumed for this time series), the F-test can lose power. An alternative is the chi-square test, constructed with likelihood ratio or Wald tests. [nb: Although both versions give practically the same result, the F-test is much easier to run.] All values are computed automatically."
      ]
    },
    {
      "cell_type": "code",
      "metadata": {
        "id": "rSKlDs41qTO5",
        "colab_type": "code",
        "colab": {}
      },
      "source": [
        "# Granger Causality\n",
        "statsmodels.tsa.stattools.grangercausalitytests(master, maxlag = 10, addconst=True, verbose=True)"
      ],
      "execution_count": 0,
      "outputs": []
    }
  ]
}