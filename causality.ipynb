{
  "nbformat": 4,
  "nbformat_minor": 0,
  "metadata": {
    "colab": {
      "name": "causality.ipynb",
      "provenance": [],
      "collapsed_sections": [
        "Rko-nWYruhfr"
      ],
      "include_colab_link": true
    },
    "kernelspec": {
      "name": "python3",
      "display_name": "Python 3"
    }
  },
  "cells": [
    {
      "cell_type": "markdown",
      "metadata": {
        "id": "view-in-github",
        "colab_type": "text"
      },
      "source": [
        "<a href=\"https://colab.research.google.com/github/deltorobarba/machinelearning/blob/master/causality.ipynb\" target=\"_parent\"><img src=\"https://colab.research.google.com/assets/colab-badge.svg\" alt=\"Open In Colab\"/></a>"
      ]
    },
    {
      "cell_type": "markdown",
      "metadata": {
        "id": "9n0-469qA0YV",
        "colab_type": "text"
      },
      "source": [
        "# **Granger Causality**"
      ]
    },
    {
      "cell_type": "code",
      "metadata": {
        "id": "S269gsh-F_Ca",
        "colab_type": "code",
        "colab": {}
      },
      "source": [
        "import numpy as np\n",
        "import pandas as pd\n",
        "import seaborn as sns\n",
        "import matplotlib.pyplot as plt"
      ],
      "execution_count": 0,
      "outputs": []
    },
    {
      "cell_type": "markdown",
      "metadata": {
        "id": "GyUuO2kE9SSU",
        "colab_type": "text"
      },
      "source": [
        "In order to determine whether one time series causes another, the most common approach is the so-called **Granger causality test**.\n",
        "\n",
        "The Granger causality test is a statistical hypothesis test for determining whether one time series is useful in forecasting another, first proposed in 1969. Ordinarily, regressions reflect \"mere\" correlations, but Clive Granger argued that causality in economics could be tested for by measuring the ability to predict the future values of a time series using prior values of another time series.\n",
        "\n",
        "Granger defined the causality relationship based on two principles:\n",
        "\n",
        "* The cause happens prior to its effect.\n",
        "* The cause has unique information about the future values of its effect.\n",
        "\n",
        "\n",
        "A time series X is said to **Granger-cause** Y if it can be shown, usually through a series of t-tests and F-tests on lagged values of X (and with lagged values of Y also included), that those X values provide statistically significant information about future values of Y.\n",
        "\n",
        "If a time series is a **stationary process**, the test is performed using the level values of two (or more) variables. If the variables are non-stationary, then the test is done using first (or higher) differences. The number of lags to be included is usually chosen using an information criterion, such as the Akaike information criterion or the Schwarz information criterion. "
      ]
    },
    {
      "cell_type": "markdown",
      "metadata": {
        "id": "CAow_lMNCmEA",
        "colab_type": "text"
      },
      "source": [
        "**Import data**"
      ]
    },
    {
      "cell_type": "code",
      "metadata": {
        "id": "418QmbnS9BG_",
        "colab_type": "code",
        "outputId": "26769ee5-c4c2-4307-abfc-cf25e7853ff6",
        "colab": {
          "base_uri": "https://localhost:8080/",
          "height": 197
        }
      },
      "source": [
        "url = 'https://raw.githubusercontent.com/deltorobarba/machinelearning/master/google.csv'\n",
        "data = pd.read_csv(url)\n",
        "data.head()"
      ],
      "execution_count": 0,
      "outputs": [
        {
          "output_type": "execute_result",
          "data": {
            "text/html": [
              "<div>\n",
              "<style scoped>\n",
              "    .dataframe tbody tr th:only-of-type {\n",
              "        vertical-align: middle;\n",
              "    }\n",
              "\n",
              "    .dataframe tbody tr th {\n",
              "        vertical-align: top;\n",
              "    }\n",
              "\n",
              "    .dataframe thead th {\n",
              "        text-align: right;\n",
              "    }\n",
              "</style>\n",
              "<table border=\"1\" class=\"dataframe\">\n",
              "  <thead>\n",
              "    <tr style=\"text-align: right;\">\n",
              "      <th></th>\n",
              "      <th>Date</th>\n",
              "      <th>Open</th>\n",
              "      <th>High</th>\n",
              "      <th>Low</th>\n",
              "      <th>Close</th>\n",
              "      <th>Adj Close</th>\n",
              "      <th>Volume</th>\n",
              "    </tr>\n",
              "  </thead>\n",
              "  <tbody>\n",
              "    <tr>\n",
              "      <th>0</th>\n",
              "      <td>2010-02-01</td>\n",
              "      <td>266.301849</td>\n",
              "      <td>266.904572</td>\n",
              "      <td>264.159851</td>\n",
              "      <td>265.514771</td>\n",
              "      <td>265.514771</td>\n",
              "      <td>4518400</td>\n",
              "    </tr>\n",
              "    <tr>\n",
              "      <th>1</th>\n",
              "      <td>2010-02-02</td>\n",
              "      <td>266.481171</td>\n",
              "      <td>266.481171</td>\n",
              "      <td>262.819885</td>\n",
              "      <td>264.568329</td>\n",
              "      <td>264.568329</td>\n",
              "      <td>8223000</td>\n",
              "    </tr>\n",
              "    <tr>\n",
              "      <th>2</th>\n",
              "      <td>2010-02-03</td>\n",
              "      <td>263.347900</td>\n",
              "      <td>270.037842</td>\n",
              "      <td>263.128723</td>\n",
              "      <td>269.400208</td>\n",
              "      <td>269.400208</td>\n",
              "      <td>6020500</td>\n",
              "    </tr>\n",
              "    <tr>\n",
              "      <th>3</th>\n",
              "      <td>2010-02-04</td>\n",
              "      <td>267.497345</td>\n",
              "      <td>267.995483</td>\n",
              "      <td>261.798706</td>\n",
              "      <td>262.406433</td>\n",
              "      <td>262.406433</td>\n",
              "      <td>6780600</td>\n",
              "    </tr>\n",
              "    <tr>\n",
              "      <th>4</th>\n",
              "      <td>2010-02-05</td>\n",
              "      <td>263.213409</td>\n",
              "      <td>265.753876</td>\n",
              "      <td>260.254517</td>\n",
              "      <td>264.653015</td>\n",
              "      <td>264.653015</td>\n",
              "      <td>6335600</td>\n",
              "    </tr>\n",
              "  </tbody>\n",
              "</table>\n",
              "</div>"
            ],
            "text/plain": [
              "         Date        Open        High  ...       Close   Adj Close   Volume\n",
              "0  2010-02-01  266.301849  266.904572  ...  265.514771  265.514771  4518400\n",
              "1  2010-02-02  266.481171  266.481171  ...  264.568329  264.568329  8223000\n",
              "2  2010-02-03  263.347900  270.037842  ...  269.400208  269.400208  6020500\n",
              "3  2010-02-04  267.497345  267.995483  ...  262.406433  262.406433  6780600\n",
              "4  2010-02-05  263.213409  265.753876  ...  264.653015  264.653015  6335600\n",
              "\n",
              "[5 rows x 7 columns]"
            ]
          },
          "metadata": {
            "tags": []
          },
          "execution_count": 2
        }
      ]
    },
    {
      "cell_type": "markdown",
      "metadata": {
        "id": "CZ9csGUtCjxC",
        "colab_type": "text"
      },
      "source": [
        "**Preprocess Original Series**"
      ]
    },
    {
      "cell_type": "code",
      "metadata": {
        "id": "XnX3VCYXCUZm",
        "colab_type": "code",
        "outputId": "b6e6a70f-981d-445d-c937-af66c02ac7ca",
        "colab": {
          "base_uri": "https://localhost:8080/",
          "height": 226
        }
      },
      "source": [
        "# preprocess = data.drop(columns=['Open', 'High', 'Low', 'Adj Close', 'Volume']) # Alternative to select below\n",
        "preprocess = data[['Date', 'Close']].rename(columns={\"Date\": \"date\", \"Close\": \"price\"}).set_index('date')\n",
        "preprocess.index = pd.to_datetime(preprocess.index, utc=False)\n",
        "preprocess.head()"
      ],
      "execution_count": 0,
      "outputs": [
        {
          "output_type": "execute_result",
          "data": {
            "text/html": [
              "<div>\n",
              "<style scoped>\n",
              "    .dataframe tbody tr th:only-of-type {\n",
              "        vertical-align: middle;\n",
              "    }\n",
              "\n",
              "    .dataframe tbody tr th {\n",
              "        vertical-align: top;\n",
              "    }\n",
              "\n",
              "    .dataframe thead th {\n",
              "        text-align: right;\n",
              "    }\n",
              "</style>\n",
              "<table border=\"1\" class=\"dataframe\">\n",
              "  <thead>\n",
              "    <tr style=\"text-align: right;\">\n",
              "      <th></th>\n",
              "      <th>price</th>\n",
              "    </tr>\n",
              "    <tr>\n",
              "      <th>date</th>\n",
              "      <th></th>\n",
              "    </tr>\n",
              "  </thead>\n",
              "  <tbody>\n",
              "    <tr>\n",
              "      <th>2010-02-01</th>\n",
              "      <td>265.514771</td>\n",
              "    </tr>\n",
              "    <tr>\n",
              "      <th>2010-02-02</th>\n",
              "      <td>264.568329</td>\n",
              "    </tr>\n",
              "    <tr>\n",
              "      <th>2010-02-03</th>\n",
              "      <td>269.400208</td>\n",
              "    </tr>\n",
              "    <tr>\n",
              "      <th>2010-02-04</th>\n",
              "      <td>262.406433</td>\n",
              "    </tr>\n",
              "    <tr>\n",
              "      <th>2010-02-05</th>\n",
              "      <td>264.653015</td>\n",
              "    </tr>\n",
              "  </tbody>\n",
              "</table>\n",
              "</div>"
            ],
            "text/plain": [
              "                 price\n",
              "date                  \n",
              "2010-02-01  265.514771\n",
              "2010-02-02  264.568329\n",
              "2010-02-03  269.400208\n",
              "2010-02-04  262.406433\n",
              "2010-02-05  264.653015"
            ]
          },
          "metadata": {
            "tags": []
          },
          "execution_count": 3
        }
      ]
    },
    {
      "cell_type": "markdown",
      "metadata": {
        "id": "idpg7WyyCyrf",
        "colab_type": "text"
      },
      "source": [
        "**Create Additional Series for Granger Causality Test**\n",
        "\n",
        "* We are adding a series that is simply a copy of the original series but shifted by t-1. This is a 'ideal case' since in financial time series the previous time step determines to a strong degree the next one.\n",
        "* Let's also add some gaussian noise with standard deviation and a non-zero mean to the new time series, so that it's not exactly a 1:1 of the original time series"
      ]
    },
    {
      "cell_type": "code",
      "metadata": {
        "id": "1VTS_yTjkHWy",
        "colab_type": "code",
        "colab": {}
      },
      "source": [
        "# Define noise\n",
        "mean = 50 # mean of the distribution\n",
        "sigma = 7 # standard deviation of distribution\n",
        "sample = preprocess.price.count() # number of elements in array\n",
        "\n",
        "noise = (np.random.normal(mean,sigma,sample))"
      ],
      "execution_count": 0,
      "outputs": []
    },
    {
      "cell_type": "markdown",
      "metadata": {
        "id": "ZlZOi7Xv-7fO",
        "colab_type": "text"
      },
      "source": [
        "* *Fun fact*: 7 sigma (standard deviations) are chosen from the normal distribution. From the rules for normally distributed data for a daily event this corresponds to a [approximate frequency for daily events](https://en.wikipedia.org/wiki/68%E2%80%9395%E2%80%9399.7_rule#Table_of_numerical_values) every 1.07 billion years (four times in history of Earth)."
      ]
    },
    {
      "cell_type": "code",
      "metadata": {
        "id": "QiRpBH0Jltve",
        "colab_type": "code",
        "outputId": "5e981535-8c02-4b43-887a-dc156dfd92ef",
        "colab": {
          "base_uri": "https://localhost:8080/",
          "height": 226
        }
      },
      "source": [
        "# Create final table with additional series called 'past'\n",
        "series = preprocess.rename(columns={'price' : 'present'})\n",
        "series['past'] = ((series.present).shift(-1) + noise).dropna()\n",
        "series.head()"
      ],
      "execution_count": 0,
      "outputs": [
        {
          "output_type": "execute_result",
          "data": {
            "text/html": [
              "<div>\n",
              "<style scoped>\n",
              "    .dataframe tbody tr th:only-of-type {\n",
              "        vertical-align: middle;\n",
              "    }\n",
              "\n",
              "    .dataframe tbody tr th {\n",
              "        vertical-align: top;\n",
              "    }\n",
              "\n",
              "    .dataframe thead th {\n",
              "        text-align: right;\n",
              "    }\n",
              "</style>\n",
              "<table border=\"1\" class=\"dataframe\">\n",
              "  <thead>\n",
              "    <tr style=\"text-align: right;\">\n",
              "      <th></th>\n",
              "      <th>present</th>\n",
              "      <th>past</th>\n",
              "    </tr>\n",
              "    <tr>\n",
              "      <th>date</th>\n",
              "      <th></th>\n",
              "      <th></th>\n",
              "    </tr>\n",
              "  </thead>\n",
              "  <tbody>\n",
              "    <tr>\n",
              "      <th>2010-02-01</th>\n",
              "      <td>265.514771</td>\n",
              "      <td>319.690247</td>\n",
              "    </tr>\n",
              "    <tr>\n",
              "      <th>2010-02-02</th>\n",
              "      <td>264.568329</td>\n",
              "      <td>323.545016</td>\n",
              "    </tr>\n",
              "    <tr>\n",
              "      <th>2010-02-03</th>\n",
              "      <td>269.400208</td>\n",
              "      <td>321.002349</td>\n",
              "    </tr>\n",
              "    <tr>\n",
              "      <th>2010-02-04</th>\n",
              "      <td>262.406433</td>\n",
              "      <td>310.302324</td>\n",
              "    </tr>\n",
              "    <tr>\n",
              "      <th>2010-02-05</th>\n",
              "      <td>264.653015</td>\n",
              "      <td>321.664762</td>\n",
              "    </tr>\n",
              "  </tbody>\n",
              "</table>\n",
              "</div>"
            ],
            "text/plain": [
              "               present        past\n",
              "date                              \n",
              "2010-02-01  265.514771  319.690247\n",
              "2010-02-02  264.568329  323.545016\n",
              "2010-02-03  269.400208  321.002349\n",
              "2010-02-04  262.406433  310.302324\n",
              "2010-02-05  264.653015  321.664762"
            ]
          },
          "metadata": {
            "tags": []
          },
          "execution_count": 5
        }
      ]
    },
    {
      "cell_type": "markdown",
      "metadata": {
        "id": "YWogw1TFE5Ku",
        "colab_type": "text"
      },
      "source": [
        "**Difference both Series**\n",
        "\n",
        "Granger causality requires stationary time series as input"
      ]
    },
    {
      "cell_type": "code",
      "metadata": {
        "id": "1qVM1zqaGOYs",
        "colab_type": "code",
        "outputId": "7b37c7e8-6efa-45b0-8edf-a279efbd7110",
        "colab": {
          "base_uri": "https://localhost:8080/",
          "height": 157
        }
      },
      "source": [
        "# Augmented Dickey Fuller. H0: There is a unit root for the series (non stationary)\n",
        "from statsmodels.tsa.stattools import adfuller\n",
        "adfuller(series.present, maxlag=None, regression='ctt', autolag='AIC', store=False, regresults=False)"
      ],
      "execution_count": 0,
      "outputs": [
        {
          "output_type": "execute_result",
          "data": {
            "text/plain": [
              "(-4.062315034834605,\n",
              " 0.02630244592391451,\n",
              " 18,\n",
              " 2497,\n",
              " {'1%': -4.375776615294273,\n",
              "  '10%': -3.5547264517170936,\n",
              "  '5%': -3.8347571289440716},\n",
              " 18853.98361280409)"
            ]
          },
          "metadata": {
            "tags": []
          },
          "execution_count": 6
        }
      ]
    },
    {
      "cell_type": "code",
      "metadata": {
        "id": "UHdL4RC1ubhU",
        "colab_type": "code",
        "outputId": "250f631d-a8e4-4467-c22e-f0c6fedc7c60",
        "colab": {
          "base_uri": "https://localhost:8080/",
          "height": 226
        }
      },
      "source": [
        "differenced = series\n",
        "differenced = differenced.drop(columns=['present', 'past'])\n",
        "differenced['present'] = ((series.present) - ((series.present).shift(1)))\n",
        "differenced['past'] = ((series.past) - ((series.past).shift(1)))\n",
        "differenced = differenced.dropna()\n",
        "differenced.head()"
      ],
      "execution_count": 0,
      "outputs": [
        {
          "output_type": "execute_result",
          "data": {
            "text/html": [
              "<div>\n",
              "<style scoped>\n",
              "    .dataframe tbody tr th:only-of-type {\n",
              "        vertical-align: middle;\n",
              "    }\n",
              "\n",
              "    .dataframe tbody tr th {\n",
              "        vertical-align: top;\n",
              "    }\n",
              "\n",
              "    .dataframe thead th {\n",
              "        text-align: right;\n",
              "    }\n",
              "</style>\n",
              "<table border=\"1\" class=\"dataframe\">\n",
              "  <thead>\n",
              "    <tr style=\"text-align: right;\">\n",
              "      <th></th>\n",
              "      <th>present</th>\n",
              "      <th>past</th>\n",
              "    </tr>\n",
              "    <tr>\n",
              "      <th>date</th>\n",
              "      <th></th>\n",
              "      <th></th>\n",
              "    </tr>\n",
              "  </thead>\n",
              "  <tbody>\n",
              "    <tr>\n",
              "      <th>2010-02-02</th>\n",
              "      <td>-0.946442</td>\n",
              "      <td>3.854768</td>\n",
              "    </tr>\n",
              "    <tr>\n",
              "      <th>2010-02-03</th>\n",
              "      <td>4.831879</td>\n",
              "      <td>-2.542667</td>\n",
              "    </tr>\n",
              "    <tr>\n",
              "      <th>2010-02-04</th>\n",
              "      <td>-6.993775</td>\n",
              "      <td>-10.700025</td>\n",
              "    </tr>\n",
              "    <tr>\n",
              "      <th>2010-02-05</th>\n",
              "      <td>2.246582</td>\n",
              "      <td>11.362438</td>\n",
              "    </tr>\n",
              "    <tr>\n",
              "      <th>2010-02-08</th>\n",
              "      <td>1.085938</td>\n",
              "      <td>5.840977</td>\n",
              "    </tr>\n",
              "  </tbody>\n",
              "</table>\n",
              "</div>"
            ],
            "text/plain": [
              "             present       past\n",
              "date                           \n",
              "2010-02-02 -0.946442   3.854768\n",
              "2010-02-03  4.831879  -2.542667\n",
              "2010-02-04 -6.993775 -10.700025\n",
              "2010-02-05  2.246582  11.362438\n",
              "2010-02-08  1.085938   5.840977"
            ]
          },
          "metadata": {
            "tags": []
          },
          "execution_count": 7
        }
      ]
    },
    {
      "cell_type": "markdown",
      "metadata": {
        "id": "ImW8dvQJE_0m",
        "colab_type": "text"
      },
      "source": [
        "## **Correlation**"
      ]
    },
    {
      "cell_type": "code",
      "metadata": {
        "id": "AcOn76snLDFe",
        "colab_type": "code",
        "outputId": "5a3cf6b7-eccb-453a-a808-50758d39c47c",
        "colab": {
          "base_uri": "https://localhost:8080/",
          "height": 302
        }
      },
      "source": [
        "sns.set(rc={'figure.figsize':(13, 4)})\n",
        "series.plot(linewidth=1.5,title='Original Stock Price Series')"
      ],
      "execution_count": 0,
      "outputs": [
        {
          "output_type": "execute_result",
          "data": {
            "text/plain": [
              "<matplotlib.axes._subplots.AxesSubplot at 0x7f1acbb13fd0>"
            ]
          },
          "metadata": {
            "tags": []
          },
          "execution_count": 35
        },
        {
          "output_type": "display_data",
          "data": {
            "image/png": "[encoded data removed]",
            "text/plain": [
              "<Figure size 936x288 with 1 Axes>"
            ]
          },
          "metadata": {
            "tags": []
          }
        }
      ]
    },
    {
      "cell_type": "markdown",
      "metadata": {
        "id": "l6dIzXiHu8yP",
        "colab_type": "text"
      },
      "source": [
        "**Jointplot and Pairplot**"
      ]
    },
    {
      "cell_type": "code",
      "metadata": {
        "id": "ueWdQwcELE7u",
        "colab_type": "code",
        "outputId": "25c6481c-28d3-4a8c-97e1-c7c2557b6952",
        "colab": {
          "base_uri": "https://localhost:8080/",
          "height": 405
        }
      },
      "source": [
        "sns.set(rc={'figure.figsize':(13, 4)})\n",
        "sns.pairplot(series, diag_kind='kde')"
      ],
      "execution_count": 0,
      "outputs": [
        {
          "output_type": "execute_result",
          "data": {
            "text/plain": [
              "<seaborn.axisgrid.PairGrid at 0x7f1acbe14a20>"
            ]
          },
          "metadata": {
            "tags": []
          },
          "execution_count": 36
        },
        {
          "output_type": "display_data",
          "data": {
            "image/png": "[encoded data removed]",
            "text/plain": [
              "<Figure size 360x360 with 6 Axes>"
            ]
          },
          "metadata": {
            "tags": []
          }
        }
      ]
    },
    {
      "cell_type": "code",
      "metadata": {
        "id": "jgulvUjJLG-E",
        "colab_type": "code",
        "outputId": "e45cc4e9-1003-4a2d-a135-d925151c2dd1",
        "colab": {
          "base_uri": "https://localhost:8080/",
          "height": 437
        }
      },
      "source": [
        "sns.jointplot(x=\"past\", y=\"present\", data=series, alpha=0.1);"
      ],
      "execution_count": 0,
      "outputs": [
        {
          "output_type": "display_data",
          "data": {
            "image/png": "[encoded data removed]",
            "text/plain": [
              "<Figure size 432x432 with 3 Axes>"
            ]
          },
          "metadata": {
            "tags": []
          }
        }
      ]
    },
    {
      "cell_type": "markdown",
      "metadata": {
        "id": "1bBH3djjS9Y5",
        "colab_type": "text"
      },
      "source": [
        "**Bin & Group**"
      ]
    },
    {
      "cell_type": "code",
      "metadata": {
        "id": "GKlJ-BLUUVB8",
        "colab_type": "code",
        "outputId": "556eca74-02c2-4b70-fc3a-f8b4d088a263",
        "colab": {
          "base_uri": "https://localhost:8080/",
          "height": 284
        }
      },
      "source": [
        "df = series[['past']]\n",
        "sns.set(rc={'figure.figsize':(10, 4)})\n",
        "sns.distplot((df), hist=True, rug=False, bins=9).set_title('Wind Power')\n",
        "plt.axvline(x=0, color='red', linestyle='--', linewidth=1.0);\n",
        "plt.show()"
      ],
      "execution_count": 0,
      "outputs": [
        {
          "output_type": "display_data",
          "data": {
            "image/png": "[encoded data removed]",
            "text/plain": [
              "<Figure size 720x288 with 1 Axes>"
            ]
          },
          "metadata": {
            "tags": []
          }
        }
      ]
    },
    {
      "cell_type": "code",
      "metadata": {
        "id": "oyOfuYN2S7t0",
        "colab_type": "code",
        "outputId": "7b4ea41a-af1f-4bf0-ac4a-b85d073a46b8",
        "colab": {
          "base_uri": "https://localhost:8080/",
          "height": 340
        }
      },
      "source": [
        "# Select features and set limit (optional)\n",
        "df = series[['past', 'present']].where(series['past'] < 1600)\n",
        "\n",
        "# Determine bins based on distribution analysis\n",
        "bins = [200, 300, 400, 500, 600, 700, 800, 900, 1000, 1100, 1200, 1300, 1400]\n",
        "labels = [1,2,3,4,5,6,7,8,9,10,11,12]\n",
        "\n",
        "# Create bins based on bins and labels\n",
        "df['binned'] = pd.cut(df['past'], bins=bins, labels=labels)\n",
        "\n",
        "# Groupby bins, call mean value in each bin and display as scatterplot\n",
        "df.groupby(pd.cut(df['past'], bins=bins)).mean().plot.scatter('past', 'present')"
      ],
      "execution_count": 0,
      "outputs": [
        {
          "output_type": "stream",
          "text": [
            "'c' argument looks like a single numeric RGB or RGBA sequence, which should be avoided as value-mapping will have precedence in case its length matches with 'x' & 'y'.  Please use a 2-D array with a single row if you really want to specify the same RGB or RGBA value for all points.\n"
          ],
          "name": "stderr"
        },
        {
          "output_type": "execute_result",
          "data": {
            "text/plain": [
              "<matplotlib.axes._subplots.AxesSubplot at 0x7efeed220cf8>"
            ]
          },
          "metadata": {
            "tags": []
          },
          "execution_count": 10
        },
        {
          "output_type": "display_data",
          "data": {
            "image/png": "[encoded data removed]",
            "text/plain": [
              "<Figure size 720x288 with 1 Axes>"
            ]
          },
          "metadata": {
            "tags": []
          }
        }
      ]
    },
    {
      "cell_type": "code",
      "metadata": {
        "id": "8wj62wyoVrEZ",
        "colab_type": "code",
        "outputId": "169b5c34-3a69-4ed5-e9b6-f9f04df80894",
        "colab": {
          "base_uri": "https://localhost:8080/",
          "height": 245
        }
      },
      "source": [
        "# Show bins as table\n",
        "s = pd.cut(df['past'], bins=bins).value_counts()\n",
        "s"
      ],
      "execution_count": 0,
      "outputs": [
        {
          "output_type": "execute_result",
          "data": {
            "text/plain": [
              "(300, 400]      610\n",
              "(500, 600]      276\n",
              "(600, 700]      239\n",
              "(1100, 1200]    217\n",
              "(800, 900]      211\n",
              "(400, 500]      207\n",
              "(1200, 1300]    183\n",
              "(700, 800]      181\n",
              "(1000, 1100]    138\n",
              "(200, 300]       91\n",
              "(900, 1000]      84\n",
              "(1300, 1400]     50\n",
              "Name: past, dtype: int64"
            ]
          },
          "metadata": {
            "tags": []
          },
          "execution_count": 11
        }
      ]
    },
    {
      "cell_type": "markdown",
      "metadata": {
        "id": "Rko-nWYruhfr",
        "colab_type": "text"
      },
      "source": [
        "**(Robust) Regression**"
      ]
    },
    {
      "cell_type": "markdown",
      "metadata": {
        "id": "cYXPTRkrPvBF",
        "colab_type": "text"
      },
      "source": [
        "Visual confirmation that data is not normally distributed. Let's run another simple regression, but this time as **robust regression. This will de-weight outliers.** (Note that this is substantially more computationally intensive than standard linear regression, so you may wish to decrease the number of bootstrap resamples (n_boot) or set ci to None.)"
      ]
    },
    {
      "cell_type": "code",
      "metadata": {
        "id": "8l_AHfbyPnW4",
        "colab_type": "code",
        "outputId": "d8c35cfd-f903-45f5-e9f1-414977f59c4c",
        "colab": {
          "base_uri": "https://localhost:8080/",
          "height": 412
        }
      },
      "source": [
        "# Plot data and a robust regression model fit\n",
        "sns.set(rc={'figure.figsize':(6, 6)})\n",
        "sns.regplot(x=\"past\", y=\"present\", data=series, robust=True, ci=None)"
      ],
      "execution_count": 0,
      "outputs": [
        {
          "output_type": "execute_result",
          "data": {
            "text/plain": [
              "<matplotlib.axes._subplots.AxesSubplot at 0x7f1acba506a0>"
            ]
          },
          "metadata": {
            "tags": []
          },
          "execution_count": 38
        },
        {
          "output_type": "display_data",
          "data": {
            "image/png": "[encoded data removed]",
            "text/plain": [
              "<Figure size 432x432 with 1 Axes>"
            ]
          },
          "metadata": {
            "tags": []
          }
        }
      ]
    },
    {
      "cell_type": "markdown",
      "metadata": {
        "id": "SvttLVRHFCuA",
        "colab_type": "text"
      },
      "source": [
        "## **Covariance**"
      ]
    },
    {
      "cell_type": "markdown",
      "metadata": {
        "id": "rVnsiOSGFEOz",
        "colab_type": "text"
      },
      "source": [
        "## **Cointegration**"
      ]
    },
    {
      "cell_type": "markdown",
      "metadata": {
        "id": "BTR6E_og2-m8",
        "colab_type": "text"
      },
      "source": [
        "**Johansen Cointegration**"
      ]
    },
    {
      "cell_type": "markdown",
      "metadata": {
        "id": "zJPOxJq1IgKf",
        "colab_type": "text"
      },
      "source": [
        "Let's first run a **cointegration test**. If two time series, X and Y, are cointegrated, there must exist Granger causality either from X to Y, or from Y to X, both in both directions. (However note that the presence of Granger causality in either or both directions between X and Y does not necessarily imply that the series will be cointegrated.)"
      ]
    },
    {
      "cell_type": "markdown",
      "metadata": {
        "id": "vj4my2Y3qKQK",
        "colab_type": "text"
      },
      "source": [
        "**Cointegration between (artificial) previous day close value and current day close value?**"
      ]
    },
    {
      "cell_type": "code",
      "metadata": {
        "id": "1n66hrJ0zPOm",
        "colab_type": "code",
        "outputId": "cfaea806-21fc-4454-da71-16eb45e31e9e",
        "colab": {
          "base_uri": "https://localhost:8080/",
          "height": 71
        }
      },
      "source": [
        "# Johansen Cointegration. H0: There is no cointegration.\n",
        "import statsmodels.api as sm\n",
        "import statsmodels.tsa.stattools\n",
        "statsmodels.tsa.stattools.coint(differenced.past, differenced.present, trend='ct', method='aeg', autolag='aic')"
      ],
      "execution_count": 0,
      "outputs": [
        {
          "output_type": "execute_result",
          "data": {
            "text/plain": [
              "(-11.898685462661787,\n",
              " 8.516632504064017e-22,\n",
              " array([-4.33376918, -3.78435647, -3.49912914]))"
            ]
          },
          "metadata": {
            "tags": []
          },
          "execution_count": 39
        }
      ]
    },
    {
      "cell_type": "markdown",
      "metadata": {
        "id": "FKBcUjLezsax",
        "colab_type": "text"
      },
      "source": [
        "Very small p-value. Reject H0. Cointegration present. Granger causality must exit."
      ]
    },
    {
      "cell_type": "markdown",
      "metadata": {
        "id": "e9Vb-L7vw6N6",
        "colab_type": "text"
      },
      "source": [
        "## **Causality**"
      ]
    },
    {
      "cell_type": "markdown",
      "metadata": {
        "id": "czidQB2kuBKx",
        "colab_type": "text"
      },
      "source": [
        "**Granger Causality Test**"
      ]
    },
    {
      "cell_type": "markdown",
      "metadata": {
        "id": "92XOpkDHt9mr",
        "colab_type": "text"
      },
      "source": [
        "Ordinarily, regressions reflect \"mere\" correlations, but Clive Granger argued that causality in economics could be tested for by measuring the ability to predict the future values of a time series using prior values of another time series. The Granger causality test is a statistical hypothesis test for determining whether one time series is useful in forecasting another, first proposed in 1969.\n",
        "\n",
        "Granger defined the causality relationship based on two principles:\n",
        "\n",
        "* The cause happens prior to its effect.\n",
        "* The cause has unique information about the future values of its effect.\n",
        "\n",
        "\n",
        "A time series X is said to **Granger-cause** Y if it can be shown, usually through a series of t-tests and F-tests on lagged values of X (and with lagged values of Y also included), that those X values provide statistically significant information about future values of Y.\n",
        "\n",
        "If a time series is a **stationary process**, the test is performed using the level values of two (or more) variables. If the variables are non-stationary, then the test is done using first (or higher) differences. The number of lags to be included is usually chosen using an information criterion, such as the Akaike information criterion or the Schwarz information criterion. "
      ]
    },
    {
      "cell_type": "markdown",
      "metadata": {
        "id": "vZ5RfZw9tKdI",
        "colab_type": "text"
      },
      "source": [
        "Granger causality (1969) requires both series to be stationary, so let's test whether this is true for both time series, and difference them until they are stationary. (Toda-Yamamoto causality requies no such criteria, the test can be applied to both stationary and non stationary data).\n",
        "\n",
        "Most financial time series exhibit a unit root and need to be differenced once. Additionally they demonstrate a trend upward ('random walk with drift'). Also there might some seasonality."
      ]
    },
    {
      "cell_type": "markdown",
      "metadata": {
        "id": "sMByARBjxCnK",
        "colab_type": "text"
      },
      "source": [
        "**Stationarity Test (Past)**"
      ]
    },
    {
      "cell_type": "code",
      "metadata": {
        "id": "KTNXDhh1GSbZ",
        "colab_type": "code",
        "outputId": "7b9d1b7d-f9a8-4842-f3f5-a979e622971c",
        "colab": {
          "base_uri": "https://localhost:8080/",
          "height": 161
        }
      },
      "source": [
        "from statsmodels.tsa.stattools import adfuller\n",
        "adfuller(differenced.past, maxlag=None, regression='nc', autolag='AIC', store=False, regresults=False)"
      ],
      "execution_count": 0,
      "outputs": [
        {
          "output_type": "execute_result",
          "data": {
            "text/plain": [
              "(-11.432490487957478,\n",
              " 9.355431899618207e-21,\n",
              " 19,\n",
              " 2494,\n",
              " {'1%': -2.566637054647272,\n",
              "  '10%': -1.616713939107425,\n",
              "  '5%': -1.941108237457268},\n",
              " 20137.469622549997)"
            ]
          },
          "metadata": {
            "tags": []
          },
          "execution_count": 32
        }
      ]
    },
    {
      "cell_type": "markdown",
      "metadata": {
        "id": "6zWj87hmG0rU",
        "colab_type": "text"
      },
      "source": [
        "**Stationarity Test (Present)**"
      ]
    },
    {
      "cell_type": "code",
      "metadata": {
        "id": "K8UfW9IrHGZ2",
        "colab_type": "code",
        "outputId": "359e977a-dc4b-4279-f37e-b24d67efd2e9",
        "colab": {
          "base_uri": "https://localhost:8080/",
          "height": 161
        }
      },
      "source": [
        "from statsmodels.tsa.stattools import adfuller\n",
        "adfuller(differenced.present, maxlag=None, regression='nc', autolag='AIC', store=False, regresults=False)"
      ],
      "execution_count": 0,
      "outputs": [
        {
          "output_type": "execute_result",
          "data": {
            "text/plain": [
              "(-11.300247000508126,\n",
              " 1.7331869542573804e-20,\n",
              " 17,\n",
              " 2496,\n",
              " {'1%': -2.5666363353866184,\n",
              "  '10%': -1.616714023745387,\n",
              "  '5%': -1.9411081502986165},\n",
              " 18859.171083336038)"
            ]
          },
          "metadata": {
            "tags": []
          },
          "execution_count": 34
        }
      ]
    },
    {
      "cell_type": "markdown",
      "metadata": {
        "id": "-zPXu7jhHLIg",
        "colab_type": "text"
      },
      "source": [
        "Past & present series are stationary. They have been a unit root before, since it had to be differenced once only."
      ]
    },
    {
      "cell_type": "markdown",
      "metadata": {
        "id": "41Py0D71tsbF",
        "colab_type": "text"
      },
      "source": [
        "**Run Granger Causality Test**"
      ]
    },
    {
      "cell_type": "markdown",
      "metadata": {
        "id": "FiBoLPxm_vDt",
        "colab_type": "text"
      },
      "source": [
        "The Null hypothesis for grangercausalitytests is that the time series in the second column, x2, does NOT Granger cause the time series in the first column, x1. **Grange causality means that past values of x2 have a statistically significant effect on the current value of x1, taking past values of x1 into account as regressors**. We reject the null hypothesis that x2 does not Granger cause x1 if the pvalues are below a desired size of the test.\n",
        "\n",
        "However note that:\n",
        "* Granger causality cannot take into account third hidden factors affecting both series\n",
        "* Granger can also not differentiate no-linear relationships (when two factors cause each other). Please see CCM (Convergent Cross Mapping) as a more advanced approach for non-linear relationships.\n"
      ]
    },
    {
      "cell_type": "markdown",
      "metadata": {
        "id": "bq6kF0RspOcy",
        "colab_type": "text"
      },
      "source": [
        "**Hypothesis test**: Does the (artificial) previous day value cause the current day close value?"
      ]
    },
    {
      "cell_type": "code",
      "metadata": {
        "id": "KP-ksgs4fXGQ",
        "colab_type": "code",
        "colab": {}
      },
      "source": [
        "# Granger Causality\n",
        "# Null hypothesis: x2 does NOT Granger cause x1\n",
        "# Reject null hypothesis if the p-values are below 0.05\n",
        "import statsmodels.api as sm\n",
        "import statsmodels.tsa.stattools\n",
        "statsmodels.tsa.stattools.grangercausalitytests(differenced, maxlag = 5, addconst=True, verbose=True)"
      ],
      "execution_count": 0,
      "outputs": []
    },
    {
      "cell_type": "markdown",
      "metadata": {
        "id": "3Zs_RDuEwtPZ",
        "colab_type": "text"
      },
      "source": [
        "Excellent result: p-value is zero. Reject H0. It can be rejected that x2 (past values) does not Granger cause x1 (present values of same time series). Or in layman's terms: there is a strong indication that past price value cause the present price values."
      ]
    }
  ]
}