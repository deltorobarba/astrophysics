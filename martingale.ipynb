{
  "nbformat": 4,
  "nbformat_minor": 0,
  "metadata": {
    "colab": {
      "name": "martingale.ipynb",
      "provenance": [],
      "collapsed_sections": [],
      "include_colab_link": true
    },
    "kernelspec": {
      "name": "python3",
      "display_name": "Python 3"
    }
  },
  "cells": [
    {
      "cell_type": "markdown",
      "metadata": {
        "id": "view-in-github",
        "colab_type": "text"
      },
      "source": [
        "<a href=\"https://colab.research.google.com/github/deltorobarba/machinelearning/blob/master/martingale.ipynb\" target=\"_parent\"><img src=\"https://colab.research.google.com/assets/colab-badge.svg\" alt=\"Open In Colab\"/></a>"
      ]
    },
    {
      "cell_type": "markdown",
      "metadata": {
        "id": "2Aoj2PpxvDQV",
        "colab_type": "text"
      },
      "source": [
        "# **Martingale**"
      ]
    },
    {
      "cell_type": "code",
      "metadata": {
        "id": "1U5_6xH7tAQq",
        "colab_type": "code",
        "colab": {}
      },
      "source": [
        "import numpy as np\n",
        "import pandas as pd\n",
        "import seaborn as sns\n",
        "import matplotlib.pyplot as plt"
      ],
      "execution_count": null,
      "outputs": []
    },
    {
      "cell_type": "markdown",
      "metadata": {
        "id": "hVm0wdsHCuF4",
        "colab_type": "text"
      },
      "source": [
        "* In probability theory, a martingale is a sequence of random variables (for example **a stochastic process**) for which, at a particular time, the conditional expectation of the next value in the sequence, given all prior values, is equal to the present value.\n",
        "\n",
        "* A martingale is characterized by the fact that **it is fair on average**. Martingales arise naturally from the modeling of fair gambling.(In a fair game of chance, **the expected value of each win is zero**)\n",
        "\n",
        "* The closely related to the martingales are the super martingales, which are stochastic processes with an average loss and submartingales, which are stochastic processes with an average gain.\n",
        "\n",
        "* The property of being a (sub- / super-) martingale does not belong to stochastic processes alone, but always to a stochastic process **in combination with filtration**. Therefore, the filtration should always be specified."
      ]
    },
    {
      "cell_type": "markdown",
      "metadata": {
        "id": "rGAJkoPdEYPP",
        "colab_type": "text"
      },
      "source": [
        "A **basic definition** of a discrete-time martingale is a discrete-time stochastic process (i.e., a sequence of random variables) X1, X2, X3, ... that satisfies for any time n,\n",
        "\n",
        "\n",
        "> $\\begin{array}{l}\n",
        "\\mathbf{E}\\left(\\left|X_{n}\\right|\\right)<\\infty \\\\\n",
        "\\mathbf{E}\\left(X_{n+1} \\mid X_{1}, \\ldots, X_{n}\\right)=X_{n}\n",
        "\\end{array}$\n",
        "\n",
        "That is, the conditional expected value of the next observation, given all the past observations, is equal to the most recent observation.\n",
        "\n"
      ]
    },
    {
      "cell_type": "markdown",
      "metadata": {
        "id": "81ojmDb3FAgd",
        "colab_type": "text"
      },
      "source": [
        "A **continuous-time martingale** with respect to the stochastic process X<sub>t</sub> is a stochastic process Y<sub>t</sub> such that for all t\n",
        "\n",
        "> $\\begin{array}{l}\n",
        "\\mathbf{E}\\left(\\left|Y_{t}\\right|\\right)<\\infty \\\\\n",
        "\\mathbf{E}\\left(Y_{t} \\mid\\left\\{X_{\\tau}, \\tau \\leq s\\right\\}\\right)=Y_{s} \\quad \\forall s \\leq t\n",
        "\\end{array}$\n",
        "\n",
        "This expresses the property that the conditional expectation of an observation at time t, given all the observations up to time s, is equal to the observation at time s (of course, provided that s ≤ t). Note that the second property implies that Yn is measurable with respect to X1 … Xn."
      ]
    },
    {
      "cell_type": "markdown",
      "metadata": {
        "id": "Ol3oQEuuF1m4",
        "colab_type": "text"
      },
      "source": [
        "In **full generality**, a stochastic process Y : T × Ω → S taking value in a [Banach space](https://en.m.wikipedia.org/wiki/Banach_space) S is a martingale with respect to a filtration Σ∗ and probability measure P if"
      ]
    },
    {
      "cell_type": "markdown",
      "metadata": {
        "id": "0baox5ZIDMOV",
        "colab_type": "text"
      },
      "source": [
        "**Examples of martingales**"
      ]
    },
    {
      "cell_type": "markdown",
      "metadata": {
        "id": "UfXNIvJIDRFw",
        "colab_type": "text"
      },
      "source": [
        "* An unbiased random walk (in any number of dimensions)\n",
        "\n",
        "* A Wiener process Wt is a martingale, and for a Wiener process the processes W<sub>t</sub><sup>2</sup> - t and the geometric Brownian movement without drift are martingales.\n",
        "\n",
        "* Stopped Brownian motion, which can be used to model the trajectory of such games\n",
        "\n",
        "* A gambler's fortune (capital) is a martingale if all the betting games which the gambler plays are fair. To be more specific: suppose Xn is a gambler's fortune after n tosses of a fair coin, where the gambler wins USD 1 if the coin comes up heads and loses USD 1 if it comes up tails. The gambler's conditional expected fortune after the next trial, given the history, is equal to their present fortune. This sequence is thus a martingale.\n",
        "\n",
        "* If { Nt : t ≥ 0 } is a Poisson process with intensity λ, then the compensated Poisson process { Nt − λt : t ≥ 0 } is a continuous-time martingale with [right-continuous/left-limit](https://en.m.wikipedia.org/wiki/Classification_of_discontinuities) sample paths.\n",
        "\n",
        "* ([Likelihood-ratio testing](https://en.m.wikipedia.org/wiki/Likelihood-ratio_test) in statistics) A random variable X is thought to be distributed according either to probability density f or to a different probability density g. A random sample X1, ..., Xn is taken. Let Yn be the \"likelihood ratio\":\n",
        "\n",
        "> $Y_{n}=\\prod_{i=1}^{n} \\frac{g\\left(X_{i}\\right)}{f\\left(X_{i}\\right)}$\n",
        "\n",
        "If X is actually distributed according to the density f rather than according to g, then { Yn : n = 1, 2, 3, ... } is a martingale with respect to { Xn : n = 1, 2, 3, ... }."
      ]
    },
    {
      "cell_type": "markdown",
      "metadata": {
        "id": "otOVGvKFC-aW",
        "colab_type": "text"
      },
      "source": [
        "**Stopped Brownian Motion**"
      ]
    },
    {
      "cell_type": "markdown",
      "metadata": {
        "id": "u751ZHzkDWxB",
        "colab_type": "text"
      },
      "source": [
        "* a stopped process is a stochastic process that is forced to assume the same value after a prescribed (possibly random) time."
      ]
    },
    {
      "cell_type": "markdown",
      "metadata": {
        "id": "wzYj_bQNDDMt",
        "colab_type": "text"
      },
      "source": [
        "https://en.m.wikipedia.org/wiki/Stopped_process#Brownian_motion"
      ]
    }
  ]
}