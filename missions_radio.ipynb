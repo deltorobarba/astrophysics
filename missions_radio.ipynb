{
  "nbformat": 4,
  "nbformat_minor": 0,
  "metadata": {
    "colab": {
      "provenance": [],
      "collapsed_sections": [
        "cX_ks1SiqavT",
        "jYJ2UKGqixsa"
      ],
      "machine_shape": "hm",
      "authorship_tag": "ABX9TyMq1oGVKp3rcWkdzce12lYQ",
      "include_colab_link": true
    },
    "kernelspec": {
      "name": "python3",
      "display_name": "Python 3"
    },
    "language_info": {
      "name": "python"
    }
  },
  "cells": [
    {
      "cell_type": "markdown",
      "metadata": {
        "id": "view-in-github",
        "colab_type": "text"
      },
      "source": [
        "<a href=\"https://colab.research.google.com/github/deltorobarba/sciences/blob/master/missions_radio.ipynb\" target=\"_parent\"><img src=\"https://colab.research.google.com/assets/colab-badge.svg\" alt=\"Open In Colab\"/></a>"
      ]
    },
    {
      "cell_type": "markdown",
      "source": [
        "# **CASDA, NRAO, ATNF (Radio-wave)**"
      ],
      "metadata": {
        "id": "TGNiRS1ZyYCT"
      }
    },
    {
      "cell_type": "markdown",
      "source": [
        "![sciences](https://raw.githubusercontent.com/deltorobarba/repo/master/sciences_2000.png)"
      ],
      "metadata": {
        "id": "Dn77k_mLjlSd"
      }
    },
    {
      "cell_type": "code",
      "source": [
        "!pip install astropy astroquery requests reproject -q\n",
        "from astropy import units as u\n",
        "from astropy.coordinates import SkyCoord\n",
        "from astroquery.simbad import Simbad\n",
        "from astropy import coordinates\n",
        "from astropy.io import fits\n",
        "from astropy.nddata import Cutout2D\n",
        "from astropy.wcs import WCS\n",
        "import numpy as np\n",
        "import matplotlib.pyplot as plt\n",
        "from astropy import coordinates as coords\n",
        "from reproject import reproject_interp\n",
        "import matplotlib.pyplot as plt"
      ],
      "metadata": {
        "id": "Ao-8AhHowx7w"
      },
      "execution_count": null,
      "outputs": []
    },
    {
      "cell_type": "code",
      "source": [
        "# Some tasks like multi-wavelength astronomy require high memory to load data\n",
        "from psutil import virtual_memory\n",
        "ram_gb = virtual_memory().total / 1e9\n",
        "print('Runtime: {:.1f} gigabytes of available RAM (>20 GB ideal)\\n'.format(ram_gb))"
      ],
      "metadata": {
        "colab": {
          "base_uri": "https://localhost:8080/"
        },
        "id": "Ky-1SFgBy7UQ",
        "outputId": "fb99c6ec-75af-4951-c324-d02ab2e9c72c"
      },
      "execution_count": null,
      "outputs": [
        {
          "output_type": "stream",
          "name": "stdout",
          "text": [
            "Runtime: 54.8 gigabytes of available RAM (>20 GB ideal)\n",
            "\n"
          ]
        }
      ]
    },
    {
      "cell_type": "markdown",
      "source": [
        "#### **Define astronomical object and get skycoordinates**"
      ],
      "metadata": {
        "id": "cX_ks1SiqavT"
      }
    },
    {
      "cell_type": "code",
      "source": [
        "# Define object\n",
        "object_name = 'M51'"
      ],
      "metadata": {
        "id": "xL1TP3BJmyoE"
      },
      "execution_count": null,
      "outputs": []
    },
    {
      "cell_type": "markdown",
      "source": [
        "*e.g. M31 (Andromeda galaxy), M104 (Sombrero galaxy), M51 (Whirlpool galaxy), M42 (Orion nebula), NGC 3372 (Carina nebula)*"
      ],
      "metadata": {
        "id": "7SW5Qozr0h57"
      }
    },
    {
      "cell_type": "code",
      "source": [
        "# Get and set skycoordinates of object\n",
        "from astroquery.simbad import Simbad\n",
        "from astropy.coordinates import SkyCoord\n",
        "\n",
        "skyobject = Simbad.query_object(object_name)\n",
        "ra_hms = skyobject['RA'][0]\n",
        "dec_dms = skyobject['DEC'][0]\n",
        "coord = SkyCoord(ra=ra_hms, dec=dec_dms, unit=('hourangle', 'deg'), frame='icrs')\n",
        "print(skyobject)\n",
        "print(\"\\nCoordinates:\")\n",
        "print(\"RA (h:m:s):\", ra_hms)\n",
        "print(\"DEC (d:m:s):\", dec_dms)"
      ],
      "metadata": {
        "colab": {
          "base_uri": "https://localhost:8080/"
        },
        "id": "Rkl4u8RvoJ8E",
        "outputId": "cedf95ba-73a1-4a51-af21-5b9aac969529"
      },
      "execution_count": null,
      "outputs": [
        {
          "output_type": "stream",
          "name": "stdout",
          "text": [
            "MAIN_ID      RA          DEC      RA_PREC ... COO_WAVELENGTH     COO_BIBCODE     SCRIPT_NUMBER_ID\n",
            "          \"h:m:s\"      \"d:m:s\"            ...                                                    \n",
            "------- ------------ ------------ ------- ... -------------- ------------------- ----------------\n",
            "  M  51 13 29 52.698 +47 11 42.93       7 ...              I 2006AJ....131.1163S                1\n",
            "\n",
            "Coordinates:\n",
            "RA (h:m:s): 13 29 52.698\n",
            "DEC (d:m:s): +47 11 42.93\n"
          ]
        }
      ]
    },
    {
      "cell_type": "code",
      "source": [
        "# Convert from Right Ascension (RA) and Declination (DEC) to decimal degree\n",
        "coord = SkyCoord(ra=ra_hms, dec=dec_dms, unit=('hourangle', 'deg'), frame='icrs')\n",
        "ra_deg = coord.ra.deg # round(coord.ra.deg, 2)\n",
        "dec_deg = coord.dec.deg # round(coord.dec.deg, 2)\n",
        "\n",
        "print(\"RA in degrees:\", ra_deg)\n",
        "print(\"DEC in degrees:\", dec_deg)"
      ],
      "metadata": {
        "colab": {
          "base_uri": "https://localhost:8080/"
        },
        "id": "9Kk7HpYI1-JW",
        "outputId": "a381ac3d-b40a-4107-a261-0bb82a3720a5"
      },
      "execution_count": null,
      "outputs": [
        {
          "output_type": "stream",
          "name": "stdout",
          "text": [
            "RA in degrees: 202.46957499999996\n",
            "DEC in degrees: 47.19525833333333\n"
          ]
        }
      ]
    },
    {
      "cell_type": "code",
      "source": [
        "# Convert from decimal degree to Right Ascension (RA) and Declination (DEC)\n",
        "coord = SkyCoord(ra=ra_deg, dec=dec_deg, unit='deg', frame='icrs')\n",
        "\n",
        "# RA: hours, minutes, seconds. DEC: degrees, arcminutes, arcseconds\n",
        "ra_hms = coord.ra.to_string(unit='hour', sep=' ', precision=3, pad=True)\n",
        "dec_dms = coord.dec.to_string(unit='deg', sep=' ', precision=2, alwayssign=True, pad=True)\n",
        "\n",
        "print(\"RA (h:m:s):\", ra_hms)\n",
        "print(\"DEC (d:m:s):\", dec_dms)"
      ],
      "metadata": {
        "colab": {
          "base_uri": "https://localhost:8080/"
        },
        "id": "kCXustN52CaR",
        "outputId": "fc88967b-8a3f-402c-bba6-5fa06b58f6e5"
      },
      "execution_count": null,
      "outputs": [
        {
          "output_type": "stream",
          "name": "stdout",
          "text": [
            "RA (h:m:s): 13 29 52.698\n",
            "DEC (d:m:s): +47 11 42.93\n"
          ]
        }
      ]
    },
    {
      "cell_type": "code",
      "source": [
        "# Reverse check to see to which object the coordinates belong\n",
        "coord = SkyCoord(ra=ra_hms, dec=dec_dms, unit=('hourangle', 'deg'), frame='icrs')\n",
        "result = Simbad.query_region(coord, radius='0d0m5s')  # Search within a small radius (5 arcseconds)\n",
        "if result:\n",
        "    print(result['MAIN_ID'][0])  # Show main name of the object\n",
        "else:\n",
        "    print(\"No object found in SIMBAD at these coordinates.\")\n",
        "object_name = 'MAIN_ID'"
      ],
      "metadata": {
        "colab": {
          "base_uri": "https://localhost:8080/"
        },
        "id": "SWpSB9A-2Fd3",
        "outputId": "df6726e4-fa89-4d73-be63-6d6bbbf4cd33"
      },
      "execution_count": null,
      "outputs": [
        {
          "output_type": "stream",
          "name": "stdout",
          "text": [
            "M  51\n"
          ]
        }
      ]
    },
    {
      "cell_type": "markdown",
      "source": [
        "frame='icrs' refers to [International Celestial Ref. System](https://aa.usno.navy.mil/faq/ICRS_doc)\n",
        "*  Origin is barycenter of Solar System. This means ICRS origin is not fixed to Earth but moves with Solar System's center of mass.\n",
        "* Axes are defined by the positions of extragalactic sources, primarily quasars observed using Very Long Baseline Interferometry (VLBI). The primary plane is as close as possible to the mean equator at J2000.0 (January 1, 2000, 12:00 TT).  The origin of right ascension is close to the dynamical equinox of J2000.0.\n",
        "* Accuracy: The ICRF3 defines the ICRS axes with an accuracy of about 20 microarcseconds.\n",
        "* Realization: The International Celestial Reference Frame (ICRF) is a catalog of precise positions of extragalactic sources that provides a practical realization of the ICRS. The latest version, ICRF3, includes the positions of over 4000 extragalactic sources, mostly quasars. The ICRF is maintained by the International Earth Rotation and Reference Systems Service (IERS).\n",
        "* Relationship to other systems: ICRS is closely aligned with the J2000 equatorial coordinate system, but it's more accurate and stable. Transformations exist to convert coordinates between ICRS and other celestial reference systems"
      ],
      "metadata": {
        "id": "ftaS2cfm3Qnk"
      }
    },
    {
      "cell_type": "code",
      "source": [
        "# Set coordinates manually and verify correct object\n",
        "coord = SkyCoord('189.9976d -11.623054d', frame='icrs')\n",
        "result = Simbad.query_region(coord, radius='0d0m5s')  # Search within a small radius (5 arcseconds)\n",
        "if result:\n",
        "    print(result['MAIN_ID'][0])  # Show main name of the object\n",
        "else:\n",
        "    print(\"No object found in SIMBAD at these coordinates.\")\n",
        "object_name = 'MAIN_ID'"
      ],
      "metadata": {
        "id": "PRRdYduusf5q",
        "colab": {
          "base_uri": "https://localhost:8080/"
        },
        "outputId": "852e2884-db99-4a4c-9d7b-84c602ebc5e4"
      },
      "execution_count": null,
      "outputs": [
        {
          "output_type": "stream",
          "name": "stdout",
          "text": [
            "M 104\n"
          ]
        }
      ]
    },
    {
      "cell_type": "markdown",
      "source": [
        "#### **CASDA, NRAO, ATNF (Radio)**"
      ],
      "metadata": {
        "id": "jYJ2UKGqixsa"
      }
    },
    {
      "cell_type": "markdown",
      "source": [
        "CASDA Queries (astroquery.casda) - The CSIRO ASKAP Science Data Archive (CASDA) provides access to science-ready data products from observations at the [Australian Square Kilometre Array Pathfinder](https://casda.csiro.au/) (ASKAP) telescope. These data products include source catalogues, images, spectral line and polarisation cubes, spectra and visbilities. This package allows querying of the data products available in CASDA.\n",
        "\n",
        "The Australian Square Kilometre Array Pathfinder (ASKAP) is a radio telescope array located at the Murchison Radio-astronomy Observatory in Western Australia. Here are its key features:\n",
        "\n",
        "ASKAP consists of 36 identical antennas, each 12 meters in diameter, spread across a region 6 kilometers in diameter. What makes ASKAP particularly innovative is its use of phased array feed (PAF) technology - each antenna has a special receiver that can look at 36 different points on the sky simultaneously, dramatically increasing the telescope's survey speed.\n",
        "\n",
        "The telescope operates in the frequency range of 700-1800 MHz and is designed to be a survey instrument, capable of mapping large areas of the sky quickly. It's particularly good at:\n",
        "- Detecting and studying neutral hydrogen in galaxies\n",
        "- Finding radio transients (brief radio bursts)\n",
        "- Studying magnetic fields in space\n",
        "- Discovering new galaxies\n",
        "\n",
        "ASKAP is also significant because it's a precursor to the Square Kilometre Array (SKA), helping develop and test technologies that will be used in that larger project. It's already produced some important surveys like:\n",
        "- The Rapid ASKAP Continuum Survey (RACS)\n",
        "- The ASKAP Variables and Slow Transients (VAST) survey\n",
        "- The Evolutionary Map of the Universe (EMU) survey\n",
        "\n",
        "https://astroquery.readthedocs.io/en/latest/casda/casda.html"
      ],
      "metadata": {
        "id": "8-TmbsipJRId"
      }
    },
    {
      "cell_type": "code",
      "source": [
        "from astroquery.casda import Casda\n",
        "\n",
        "result_table = Casda.query_region(object_name, radius=30*u.arcmin) # SkyCoord.from_name('NGC 7232')\n",
        "print(result_table['obs_publisher_did','s_ra', 's_dec', 'obs_release_date'][:5])"
      ],
      "metadata": {
        "colab": {
          "base_uri": "https://localhost:8080/"
        },
        "id": "YVf2EOOCJAhi",
        "outputId": "509c03cc-6480-427c-857c-01de4c4877d0"
      },
      "execution_count": null,
      "outputs": [
        {
          "output_type": "stream",
          "name": "stdout",
          "text": [
            " obs_publisher_did         s_ra              s_dec            obs_release_date    \n",
            "                           deg                deg                                 \n",
            "------------------- ------------------ ------------------ ------------------------\n",
            " scan-391742-580173 10.684975329835696 41.486269663596545 2024-04-09T00:50:53.050Z\n",
            "scan-557636-3428863 10.178423343160535  41.22225071160026                         \n",
            "        cube-223628     10.42040693846     41.84135277084 2023-11-20T11:36:12.720Z\n",
            "        cube-105254    10.420406938445    41.841352770837 2023-04-26T10:48:27.911Z\n",
            "        cube-105255    10.420406938445    41.841352770837 2023-04-26T10:48:27.911Z\n"
          ]
        }
      ]
    },
    {
      "cell_type": "code",
      "source": [
        "from astropy import coordinates, units as u, wcs\n",
        "from astroquery.casda import Casda\n",
        "centre = coordinates.SkyCoord.from_name('2MASX J08161181-7039447')\n",
        "casda = Casda()\n",
        "casda.login(username='email@somewhere.edu.au')\n",
        "result = Casda.query_region(centre, radius=30*u.arcmin)\n",
        "public_data = Casda.filter_out_unreleased(result)\n",
        "subset = public_data[((public_data['obs_collection'] == 'The Rapid ASKAP Continuum Survey') & #\n",
        "                  (np.char.startswith(public_data['filename'], 'RACS-DR1_')) & #\n",
        "                  (np.char.endswith(public_data['filename'], 'A.fits'))\n",
        "                 )]\n",
        "url_list = casda.cutout(subset[:1], coordinates=centre, radius=14*u.arcmin)\n",
        "filelist = casda.download_files(url_list, savedir='/tmp')"
      ],
      "metadata": {
        "id": "tXTOk-mRJjEa"
      },
      "execution_count": null,
      "outputs": []
    },
    {
      "cell_type": "markdown",
      "source": [
        "NRAO (National Radio Astronomy Observatory) and ATNF (Australia Telescope National Facility)"
      ],
      "metadata": {
        "id": "qVcj121TITru"
      }
    },
    {
      "cell_type": "code",
      "source": [
        "from astroquery.vo_conesearch import ConeSearch\n",
        "from astropy.coordinates import SkyCoord\n",
        "import astropy.units as u\n",
        "\n",
        "# Query the NRAO VO service; catalog_db = 'https://archive.nrao.edu/vo/r2/NVSS'\n",
        "result = ConeSearch.query_region(coord, radius=0.1*u.deg)\n",
        "print(result)"
      ],
      "metadata": {
        "colab": {
          "base_uri": "https://localhost:8080/"
        },
        "id": "Razp-UyLGouw",
        "outputId": "3b9d0019-3246-473c-d627-784b3b5d7598"
      },
      "execution_count": null,
      "outputs": [
        {
          "output_type": "stream",
          "name": "stdout",
          "text": [
            "    objID           gsc2ID      gsc1ID   hstID    ... multipleFlag compassGSC2id   Mag  \n",
            "                                                  ...                              mag  \n",
            "-------------- ---------------- ------ ---------- ... ------------ ------------- -------\n",
            "23323175812944 00424433+4116085          2MJG1R2O ...            0 6453800072293   9.453\n",
            "23323175812948 00424403+4116069          2MJG1R2S ...            0 6453800072297   9.321\n",
            "23323175812933 00424455+4116103          2MJG1R2D ...            0 6453800072282  10.773\n",
            "23323175812939 00424464+4116092          2MJG1R2J ...            0 6453800072288   9.299\n",
            "23323175812930 00424403+4116108          2MJG1R2A ...            0 6453800072279  11.507\n",
            "23323175812931 00424464+4116106          2MJG1R2B ...            0 6453800072280   9.399\n",
            "23323175812973 00424446+4116016          2MJG1R3H ...            0 6453800072322   12.07\n",
            "23323175812966 00424398+4116028          2MJG1R3A ...            0 6453800072315  12.136\n",
            "23323175812979 00424420+4116009          2MJG1R3N ...            0 6453800072328  10.065\n",
            "           ...              ...    ...        ... ...          ...           ...     ...\n",
            " 1330012229027    N330012229027        NBVE029027 ...            0 6453800029027 20.3122\n",
            " 1330012247547    N330012247547        NBVE047547 ...            0 6453800047547 21.5449\n",
            " 1330012244072    N330012244072        NBVE044072 ...            0 6453800044072 20.9598\n",
            " 1330012248107    N330012248107        NBVE048107 ...            0 6453800048107 21.6947\n",
            "  133001227000     N33001227000        NBVE007000 ...            0 6453800007000 20.1382\n",
            " 1330012244001    N330012244001        NBVE044001 ...            0 6453800044001 21.8968\n",
            " 1330012228861    N330012228861        NBVE028861 ...            0 6453800028861 20.3572\n",
            " 1330012212014    N330012212014        NBVE012014 ...            0 6453800012014 16.5079\n",
            " 1330012231849    N330012231849        NBVE031849 ...            0 6453800031849 20.2869\n",
            " 1330012210212    N330012210212        NBVE010212 ...            0 6453800010212 20.2767\n",
            "Length = 4028 rows\n"
          ]
        }
      ]
    },
    {
      "cell_type": "code",
      "source": [
        "print(result.info)"
      ],
      "metadata": {
        "colab": {
          "base_uri": "https://localhost:8080/"
        },
        "id": "9bR8Iw-0HsgP",
        "outputId": "0e229987-86f1-4c68-b646-629bbdc7d8ec"
      },
      "execution_count": null,
      "outputs": [
        {
          "output_type": "stream",
          "name": "stdout",
          "text": [
            "<Table length=4028>\n",
            "     name      dtype    unit           description        \n",
            "------------- ------- -------- ---------------------------\n",
            "        objID   int64                          Database ID\n",
            "       gsc2ID  object                              GSC2 ID\n",
            "       gsc1ID  object                              GSC1 ID\n",
            "        hstID  object                       GSC2 Public ID\n",
            "           ra float64      deg      Right Ascension (ICRS)\n",
            "          dec float64      deg          Declination (ICRS)\n",
            "        epoch float32       yr         Epoch of coordinate\n",
            "    raEpsilon float32   arcsec                    RA error\n",
            "   decEpsilon float32   arcsec                   DEC error\n",
            "         rapm float32 mas / yr            RA proper motion\n",
            "        decpm float32 mas / yr           DEC proper motion\n",
            "      rapmErr float32 mas / yr                 RA pm error\n",
            "     decpmErr float32 mas / yr                DEC pm error\n",
            "   deltaEpoch float32       yr   Time interval used for PM\n",
            "       FpgMag float32      mag        Photographic Red mag\n",
            "    FpgMagErr float32      mag  Photographic Red mag error\n",
            "   FpgMagCode   int32           Photographic bandpass code\n",
            "       JpgMag float32      mag       Photographic Blue mag\n",
            "    JpgMagErr float32      mag Photographic Blue mag error\n",
            "   JpgMagCode   int32           Photographic bandpass code\n",
            "       NpgMag float32      mag        Photographic NIR mag\n",
            "    NpgMagErr float32      mag  Photographic NIR mag error\n",
            "   NpgMagCode   int32           Photographic bandpass code\n",
            "         UMag float32      mag                       U mag\n",
            "      UMagErr float32      mag                 U mag error\n",
            "     UMagCode   int32                        bandpass code\n",
            "         BMag float32      mag                       B mag\n",
            "      BMagErr float32      mag                 B mag error\n",
            "     BMagCode   int32                        bandpass code\n",
            "         VMag float32      mag                       V mag\n",
            "      VMagErr float32      mag                 V mag error\n",
            "     VMagCode   int32                        bandpass code\n",
            "         RMag float32      mag                       R mag\n",
            "      RMagErr float32      mag                 R mag error\n",
            "     RMagCode   int32                        bandpass code\n",
            "         IMag float32      mag                       I mag\n",
            "      IMagErr float32      mag                 I mag error\n",
            "     IMagCode   int32                        bandpass code\n",
            "         JMag float32      mag                 2MASS J mag\n",
            "      JMagErr float32      mag           2MASS J mag error\n",
            "     JMagCode   int32                        bandpass code\n",
            "         HMag float32      mag                 2MASS H mag\n",
            "      HMagErr float32      mag           2MASS H mag error\n",
            "     HMagCode   int32                        bandpass code\n",
            "         KMag float32      mag                 2MASS K mag\n",
            "      KMagErr float32      mag           2MASS K mag error\n",
            "     KMagCode   int32                        bandpass code\n",
            "        class   int32                  Classification code\n",
            "semiMajorAxis float32    pixel               GSC2 obj size\n",
            " eccentricity float32                GSC2 obj eccentricity\n",
            "positionAngle float32      deg      GSC2 obj positionangle\n",
            " sourceStatus   int64                  Object status codes\n",
            " variableFlag   int32                         variableFlag\n",
            " multipleFlag   int32                         multipleFlag\n",
            "compassGSC2id   int64                          Database ID\n",
            "          Mag float32      mag                 generic mag\n",
            "\n"
          ]
        }
      ]
    },
    {
      "cell_type": "code",
      "source": [
        "from astroquery.atnf import Atnf\n",
        "\n",
        "# Query the pulsar catalog\n",
        "# You can specify parameters like period, distance, etc.\n",
        "pulsar_table = Atnf.query_catalog(\n",
        "    params=['JNAME', 'RAJ', 'DECJ', 'P0', 'DM'],\n",
        "    condition='P0 < 0.1 && DM > 10'  # Example conditions\n",
        ")\n",
        "\n",
        "# Get info for a specific pulsar\n",
        "pulsar = Atnf.get_pulsar('J0534+2200')  # Crab Pulsar"
      ],
      "metadata": {
        "id": "w6Wf_fibjYNB"
      },
      "execution_count": null,
      "outputs": []
    }
  ]
}