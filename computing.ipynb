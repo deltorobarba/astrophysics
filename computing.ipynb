{
  "cells": [
    {
      "cell_type": "markdown",
      "metadata": {
        "id": "view-in-github",
        "colab_type": "text"
      },
      "source": [
        "<a href=\"https://colab.research.google.com/github/deltorobarba/sciences/blob/master/computing.ipynb\" target=\"_parent\"><img src=\"https://colab.research.google.com/assets/colab-badge.svg\" alt=\"Open In Colab\"/></a>"
      ]
    },
    {
      "cell_type": "markdown",
      "source": [
        "##### <font color=\"blue\">*Scientific Computing*"
      ],
      "metadata": {
        "id": "utryf_rC5-o5"
      }
    },
    {
      "cell_type": "code",
      "source": [
        "#@title\n",
        "import math\n",
        "import sympy\n",
        "import numpy as np\n",
        "import pandas as pd\n",
        "import seaborn as sns\n",
        "import matplotlib.pyplot as plt\n",
        "from tensorflow import keras\n",
        "import tensorflow as tf"
      ],
      "metadata": {
        "cellView": "form",
        "id": "t8AIbzBhdqYk"
      },
      "execution_count": null,
      "outputs": []
    },
    {
      "cell_type": "markdown",
      "source": [
        "https://www.spektrum.de/news/zehn-algorithmen-die-die-wissenschaft-veraendert-haben/1836355"
      ],
      "metadata": {
        "id": "uGfyfq3Idyb7"
      }
    },
    {
      "cell_type": "code",
      "source": [
        "# Define input\n",
        "x = 4\n",
        "y = 8\n",
        "z = 20\n",
        "\n",
        "# Define function\n",
        "def square_point(x, y, z):\n",
        "  x_squared = x * x\n",
        "  y_squared = y * y\n",
        "  z_squared = z * z\n",
        "  return x_squared, y_squared, z_squared\n",
        "\n",
        "# Run function\n",
        "data=square_point(x, y, z)\n",
        "print('Result:', square_point(x, y, z))\n",
        "\n",
        "# Visualize result\n",
        "sns.set(rc={'figure.figsize':(8, 4), \"lines.linewidth\": 1.0})\n",
        "table = pd.DataFrame(data, index=[x, y, z], columns=['Result'])\n",
        "table = table.reset_index().rename(columns={\"index\": \"Input\"})\n",
        "table.plot(x ='Input', y='Result', kind = 'bar')\t"
      ],
      "metadata": {
        "id": "7qbCgqImdz9O"
      },
      "execution_count": null,
      "outputs": []
    },
    {
      "cell_type": "code",
      "source": [
        "# Define input\n",
        "x = 25\n",
        "\n",
        "# Define functions - Returning multiple values for same function (Iterating through a list)\n",
        "def square(i):\n",
        " return (i**2)\n",
        "\n",
        "def my_function(x):\n",
        "  for i in range(10,x,5):  # Start, Stop, Steps\n",
        "    print(i, square(i))\n",
        "\n",
        "# Run function\n",
        "my_function(x)"
      ],
      "metadata": {
        "id": "k6g4snNQd12P"
      },
      "execution_count": null,
      "outputs": []
    },
    {
      "cell_type": "code",
      "source": [
        "# Simple function for one value and Add a conditional\n",
        "\n",
        "x = 10\n",
        "\n",
        "def my_function(x):\n",
        "  if x < (10):\n",
        "    return (int(math.sqrt(x + 2)), math.sqrt(x + 2))\n",
        "  else:\n",
        "    return x**3\n",
        "\n",
        "my_function(x)"
      ],
      "metadata": {
        "id": "-yxgzRckd3ly"
      },
      "execution_count": null,
      "outputs": []
    },
    {
      "cell_type": "code",
      "source": [
        "# For (Loop) with append function\n",
        "\n",
        "input_list = [1,4,9]\n",
        "result_list = []\n",
        "\n",
        "for n in input_list:\n",
        "    result_list.append(n**3)\n",
        "\n",
        "print(result_list)"
      ],
      "metadata": {
        "id": "BFCdu2vgd5Yc"
      },
      "execution_count": null,
      "outputs": []
    },
    {
      "cell_type": "code",
      "source": [
        "# For loop with range and as function\n",
        "\n",
        "x = 10\n",
        "\n",
        "def my_function(x):\n",
        "  for i in range(2,x,2):  # Start, Stop, Steps\n",
        "    print(i, i**2)\n",
        "\n",
        "my_function(x)"
      ],
      "metadata": {
        "id": "5HRJJ5eSd7Io"
      },
      "execution_count": null,
      "outputs": []
    },
    {
      "cell_type": "code",
      "source": [
        "# Print out the wavelengths of hydrogen lines\n",
        "R = 1.097e-2\n",
        "for m in range(1,4,2): # Start, Stop, Steps\n",
        "    print(\"Series for m =\",m)\n",
        "\n",
        "    for n in range(m+1,m+6):\n",
        "        invlambda = R*(1/m**2-1/n**2)\n",
        "        print(\"  \",1/invlambda,\"nm\")"
      ],
      "metadata": {
        "id": "ajCmqf6Xd-Pq"
      },
      "execution_count": null,
      "outputs": []
    },
    {
      "cell_type": "code",
      "source": [
        "# Yield and enumerate\n",
        "\n",
        "# Yield gives you a generator. You'd use it where you would normally use a return in a function.\n",
        "# yield\tgenerator: ends a function, returns a generator\n",
        "# When you have a function that returns a sequence and you want to iterate over that sequence, \n",
        "# but you do not need to have every value in memory at once.\n",
        "\n",
        "# Enumerate() method adds a counter to an iterable and returns it in a form of enumerating object\n",
        "\n",
        "def fibonacci():\n",
        "    a, b = 0, 1\n",
        "    while True:\n",
        "        yield a\n",
        "        a, b = b, a+b\n",
        "\n",
        "for i, f in enumerate(fibonacci()):\n",
        "    print(i, f)\n",
        "    if i >= 10: break"
      ],
      "metadata": {
        "id": "dyoAm5MdeHlz"
      },
      "execution_count": null,
      "outputs": []
    },
    {
      "cell_type": "code",
      "source": [
        "# Lambda Function: Add 10 to argument a, and return the result\n",
        "\n",
        "x = lambda a : a + 10\n",
        "print('Result 1:', x(5))\n",
        "\n",
        "# Multiply argument a with argument b and return the result:\n",
        "x = lambda a, b, c : (a * b) + c\n",
        "print('Result 2:', x(5, 6, 3))\n",
        "\n",
        "\n",
        "# function definition that takes one argument, and that argument will be multiplied with an unknown number:\n",
        "n = 3\n",
        "a = 12 \n",
        "def myfunc(n):\n",
        "  return lambda a : a * n\n",
        "\n",
        "mytripler = myfunc(n)\n",
        "\n",
        "print('Result 3:', mytripler(a))"
      ],
      "metadata": {
        "id": "6oVIv5QCeJTA"
      },
      "execution_count": null,
      "outputs": []
    },
    {
      "cell_type": "code",
      "source": [
        "# Lambda with filter, map, reduce, sorted etc\n",
        "# https://towardsdatascience.com/lambda-functions-in-python-15b60ff4207d\n",
        "\n",
        "# Calculate the squares of the elements in a given iterable:\n",
        "iterable = [1, 3, 5, 6, 9, 11, 15, 16, 21]\n",
        "list(map(lambda x: x ** 2, iterable))"
      ],
      "metadata": {
        "id": "0pFU_NlNeK-A"
      },
      "execution_count": null,
      "outputs": []
    },
    {
      "cell_type": "code",
      "source": [
        "# Create a class with a property x:\n",
        "class MyClass:\n",
        "  x = 5\n",
        "\n",
        "# Create an object p1 using the class MyClass, and print the value of x:\n",
        "p1 = MyClass()\n",
        "print(p1.x)\n",
        "\n",
        "# Create a class named Person, use the __init__() function to assign values for name and age:\n",
        "class Person:\n",
        "  def __init__(self, name, age):\n",
        "    self.name = name\n",
        "    self.age = age\n",
        "\n",
        "p1 = Person(\"John\", 36)\n",
        "\n",
        "print(p1.name)\n",
        "print(p1.age)"
      ],
      "metadata": {
        "id": "mNBwBkgoeOVR"
      },
      "execution_count": null,
      "outputs": []
    },
    {
      "cell_type": "code",
      "source": [
        "# __str__() function controls what should be returned when the class object is represented as a string\n",
        "class Person:\n",
        "  def __init__(my_object, name, age):    # Using \"my_object\" instead of \"self\"\n",
        "    my_object.name = name\n",
        "    my_object.age = age\n",
        "\n",
        "  def __str__(my_object):\n",
        "    return f\"{my_object.name}, {my_object.age}\"\n",
        "\n",
        "p1 = Person(\"John\", 36)\n",
        "print(p1)"
      ],
      "metadata": {
        "id": "MnxnmstjeQCe"
      },
      "execution_count": null,
      "outputs": []
    },
    {
      "cell_type": "code",
      "source": [
        "# Including object methods:\n",
        "class Person:\n",
        "  def __init__(self, name, age):\n",
        "    self.name = name\n",
        "    self.age = age\n",
        "\n",
        "  def myfunc(self):\n",
        "    print(\"Hello my name is \" + self.name)\n",
        "\n",
        "p1 = Person(\"John\", 36)\n",
        "p1.myfunc()"
      ],
      "metadata": {
        "id": "uaKAov6peRZe"
      },
      "execution_count": null,
      "outputs": []
    },
    {
      "cell_type": "markdown",
      "source": [
        "*Calculate complexity*"
      ],
      "metadata": {
        "id": "CtFnUPlheUKW"
      }
    },
    {
      "cell_type": "markdown",
      "source": [
        "https://towardsdatascience.com/space-and-time-complexity-in-computer-algorithms-a7fffe9e4683\n",
        "\n",
        "https://towardsdatascience.com/python-performance-and-gpus-1be860ffd58d\n",
        "\n",
        "https://urban-institute.medium.com/using-multiprocessing-to-make-python-code-faster-23ea5ef996ba\n",
        "\n",
        "> The VM used for Colaboratory appears to have 13GB RAM and 2 vCPU when checking using psutil (so a n1-highmem-2 instance)\n",
        "\n",
        "- 2-core Xeon 2.2GHz\n",
        "- 13GB RAM\n",
        "- 33GB HDD\n",
        "\n",
        "maximum lifetime of a VM is 12 hours. Idle VMs time out after 90m"
      ],
      "metadata": {
        "id": "DLubvtAOefxl"
      }
    },
    {
      "cell_type": "code",
      "source": [
        "# Compute and display complexity of Fibonacci\n",
        "\n",
        "import time\n",
        "\n",
        "def fibonacci(n):\n",
        "    if n <= 1:\n",
        "        return n\n",
        "    return fibonacci(n-1) + fibonacci(n-2)\n",
        "\n",
        "\n",
        "# My input data for the function\n",
        "my_tuple = 5,10,15,20,25\n",
        "\n",
        "# Define empty bucket\n",
        "rows_list = []\n",
        "\n",
        "for n in my_tuple:\n",
        "\n",
        "    # Begin tracking CPU time\n",
        "    st = time.process_time(),\n",
        "\n",
        "    # Run algorithms\n",
        "    result = fibonacci(n),\n",
        "    #result = math.factorial(n)\n",
        "    #result = n**2\n",
        "\n",
        "    # Finish tracking CPU time\n",
        "    et = time.process_time(),\n",
        "\n",
        "    # Calculate performance (end - begin)\n",
        "    performance = [x - y for x, y in zip(list(et), list(st))]\n",
        "\n",
        "    # Collect results in a list\n",
        "    rows_list.append(performance)\n",
        "\n",
        "# Write results in a table\n",
        "df = pd.DataFrame(rows_list, index=my_tuple, columns=['CPU Performance in sec']) \n",
        "print(df)\n",
        "\n",
        "# Visualize results in a graph\n",
        "df = df.reset_index().rename(columns={\"index\": \"Datasize\"})\n",
        "df.plot(x ='Datasize', y='CPU Performance in sec', kind = 'bar')\t"
      ],
      "metadata": {
        "id": "AutzcBQJezFv"
      },
      "execution_count": null,
      "outputs": []
    },
    {
      "cell_type": "markdown",
      "source": [
        "https://www.geeksforgeeks.org/running-python-script-on-gpu/\n",
        "\n",
        "* does it consider several CPUs? \n",
        "* how to check distribution of a process?\n",
        "* is it important to consider GPUs? \n",
        "\n",
        "**time.process_time()** function always returns the float value of time in seconds. \n",
        "* Return the value (in fractional seconds) of the sum of the system and user CPU time of the current process.\n",
        "* It does not include time elapsed during sleep. \n",
        "*The reference point of the returned value is undefined, so that only the difference between the results of consecutive calls is valid.\n",
        "\n",
        "Note: **process_time()** is very different from **pref_counter()**, as perf_counter() calculates the program time with sleep time and if any interrupt is there but process_counter only calculates the system and the CPU time during the process it not includes the sleep time.\n",
        "\n",
        "Advantages of **process_time()** :\n",
        "1. process_time() provides the system and user CPU time of the current process.\n",
        "2. We can calculate float and integer both values of time in seconds and nanoseconds.\n",
        "3. Used whenever there is a need to calculate the time taken by the CPU for the particular process."
      ],
      "metadata": {
        "id": "Nqs6OPRBe3KZ"
      }
    },
    {
      "cell_type": "markdown",
      "source": [
        "**%time**\n",
        "\n",
        "* Time execution of a Python statement or expression.\n",
        "\n",
        "* The CPU and wall clock times are printed, and the value of the expression (if any) is returned. Note that under Win32, system time is always reported as 0, since it can not be measured.\n",
        "\n",
        "* This function can be used both as a line and cell magic:\n",
        "\n",
        "  * In line mode you can time a single-line statement (though multiple ones can be chained with using semicolons).\n",
        "\n",
        "  * In cell mode, you can time the cell body (a directly following statement raises an error).\n",
        "\n",
        "* This function provides very basic timing functionality. Use the timeit magic for more control over the measurement.\n",
        "\n",
        "https://ipython.readthedocs.io/en/stable/interactive/magics.html"
      ],
      "metadata": {
        "id": "-q2srP_AfBIE"
      }
    },
    {
      "cell_type": "markdown",
      "source": [
        "![geometry](https://raw.githubusercontent.com/deltorobarba/repo/master/sciences_1217.png)\n"
      ],
      "metadata": {
        "id": "Lujstc4WfFpC"
      }
    },
    {
      "cell_type": "markdown",
      "source": [
        "Two ways:\n",
        "\n",
        "* **time.process_time()** function with start and stop\n",
        "\n",
        "* **%time** magic function\n",
        "\n",
        "Sources: \n",
        "\n",
        "* https://www.geeksforgeeks.org/time-process_time-function-in-python/\n",
        "\n",
        "* https://www.askpython.com/python/examples/python-wait-for-a-specific-time\n",
        "\n",
        "* https://pynative.com/python-get-execution-time-of-program/"
      ],
      "metadata": {
        "id": "ZsxXpJeOfHtT"
      }
    },
    {
      "cell_type": "markdown",
      "source": [
        "https://gertingold.github.io/tools4scicomp/profiling.html\n",
        "\n",
        "https://de.m.wikipedia.org/wiki/Landauer-Prinzip\n",
        "\n",
        "https://de.m.wikipedia.org/wiki/Bremermann-Grenze\n",
        "\n",
        "https://www.hri.res.in/~qipa13/QIPA/docu/7.12.2013/morning%20session/2-pjoag-Quantum%20Algorithm%20for%20LP--2007.pdf\n",
        "\n",
        "https://arxiv.org/pdf/2010.07852.pdf\n",
        "\n",
        "https://arxiv.org/pdf/2203.15421.pdf\n",
        "\n",
        "https://en.wikipedia.org/wiki/Time_complexity\n",
        "\n",
        "https://en.wikipedia.org/wiki/Karp%27s_21_NP-complete_problems\n",
        "\n",
        "https://en.wikipedia.org/wiki/Integer_programming\n",
        "\n",
        "https://en.wikipedia.org/wiki/COIN-OR\n",
        "\n",
        "Total CPU time vs Wallclock time:\n",
        "\n",
        "https://pythonspeed.com/articles/blocking-cpu-or-io/"
      ],
      "metadata": {
        "id": "3LpSP0JxfPi7"
      }
    }
  ],
  "metadata": {
    "colab": {
      "provenance": [],
      "include_colab_link": true
    },
    "kernelspec": {
      "display_name": "Python 3",
      "name": "python3"
    },
    "language_info": {
      "name": "python"
    }
  },
  "nbformat": 4,
  "nbformat_minor": 0
}