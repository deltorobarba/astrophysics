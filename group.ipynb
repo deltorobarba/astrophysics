{
  "nbformat": 4,
  "nbformat_minor": 0,
  "metadata": {
    "colab": {
      "name": "group.ipynb",
      "provenance": [],
      "collapsed_sections": [
        "FshTeU-rnp51",
        "Jx_LmlIGnDSa",
        "seDVqWVKnH7e",
        "rxdQVgZuzc8x",
        "iWCeLOJUyQTQ",
        "e_c49RceyU0S",
        "XM99PIHSxVpO",
        "dAtrm3obyX59",
        "uNAk72BxycQE",
        "CmuHEBHk6VsG",
        "aShRhfg5GrPX",
        "DYd95ZikPxG7",
        "IGPylM19Td9A",
        "I928UjHNKuZc",
        "QQSRFOXm2QgM",
        "37qnbx7d0X_q",
        "lk3AEOE_qVfO",
        "3K0iKodmxtTl",
        "yUpj7bMGBXEd",
        "SgHgS037zK0x",
        "a0VNbaA6iomm",
        "LJw8mSm3Esft",
        "tSc2sBCXjgUq",
        "TsjdHk_BB_39",
        "sO3gFnsGoDHp",
        "Td_9fFZ4kvXi",
        "qF8T8Eiak11U",
        "ZV0GhhALuWSO",
        "-eYfKvd1kEkY",
        "1ynBhMdIlrwJ",
        "nDnelMFcPS4y",
        "wRsJ0z5cM5b7",
        "3hhDeuYaa1BS",
        "hxwVmH9nbAII",
        "btfdeGWWkel1",
        "IsgGqRO1OE2b",
        "AnG5dzQVa8jV",
        "xy09IYpwElU3",
        "2zqOIuVM8E94",
        "OYLvRwHgT3FT",
        "IQ-yn71fgo_I",
        "E1E3vf4A6Y26",
        "G9sx1JsWOyQh",
        "d_Jf_ALONKEV",
        "UIPW4ZOnR07e",
        "0yFvFIvMQ2bS",
        "17JkJZKtVD9m",
        "en_F0jKMkORe",
        "6eBMRTBWR-CB",
        "xAjW1DVyevEU",
        "b0DTqfYINTxK"
      ],
      "include_colab_link": true
    },
    "kernelspec": {
      "name": "python3",
      "display_name": "Python 3"
    }
  },
  "cells": [
    {
      "cell_type": "markdown",
      "metadata": {
        "id": "view-in-github",
        "colab_type": "text"
      },
      "source": [
        "<a href=\"https://colab.research.google.com/github/deltorobarba/machinelearning/blob/master/group.ipynb\" target=\"_parent\"><img src=\"https://colab.research.google.com/assets/colab-badge.svg\" alt=\"Open In Colab\"/></a>"
      ]
    },
    {
      "cell_type": "markdown",
      "metadata": {
        "id": "2Aoj2PpxvDQV"
      },
      "source": [
        "# **Group Theory**"
      ]
    },
    {
      "cell_type": "code",
      "metadata": {
        "id": "1U5_6xH7tAQq"
      },
      "source": [
        "import numpy as np\n",
        "import pandas as pd\n",
        "import seaborn as sns\n",
        "import matplotlib.pyplot as plt"
      ],
      "execution_count": null,
      "outputs": []
    },
    {
      "cell_type": "markdown",
      "metadata": {
        "id": "1VhINBIVevs_"
      },
      "source": [
        "https://en.m.wikipedia.org/wiki/System_of_polynomial_equations"
      ]
    },
    {
      "cell_type": "markdown",
      "metadata": {
        "id": "FshTeU-rnp51"
      },
      "source": [
        "#### **Algebraic Operations**"
      ]
    },
    {
      "cell_type": "markdown",
      "metadata": {
        "id": "7fxw9DSyjiah"
      },
      "source": [
        "* Algebra ist das Lösen von Gleichungen.\n",
        "\n",
        "* **Eine [Algebraische Struktur](https://de.m.wikipedia.org/wiki/Algebraische_Struktur) & [Outline_of_algebraic_structures](https://en.m.wikipedia.org/wiki/Outline_of_algebraic_structures) ist eine Menge versehen mit Verknüpfungen auf dieser Menge**. Eine Vielzahl der in der abstrakten Algebra untersuchten Strukturen wie Gruppen, Ringe oder Körper sind spezielle algebraische Strukturen.\n",
        "\n",
        "* Algebraische Strukturen sind eine Form von [mathematischen Strukturen](https://de.m.wikipedia.org/wiki/Mathematische_Struktur) (neben topologischen Strukturen, geometrischen Strukturen und Zahlbereichen). Abstract algebra is the study of algebraic structures.\n",
        "\n",
        "* **Such a structure consists of a set together with one or more binary operations, which are required to satisfy certain axioms.**\n",
        "\n",
        "* The structures listed below are only a sample of the many algebraic structures of importance in mathematics. Many fields of mathematics involve their own special algebraic structures, and new algebraic structures are defined all the time. To give you a sense of scale, the online encyclopedia Wikipedia currently has articles on over a hundred different algebraic structures, and this represents only a small fraction of those that have been investigated in the mathematical literature.\n",
        "\n",
        "* **[Verknüpfungen](https://de.m.wikipedia.org/wiki/Verknüpfung_(Mathematik))**: Neben den arithmetischen Grundrechenarten (Addition, Subtraktion usw.) werden damit etwa auch geometrische Operationen (wie Spiegelung, Drehung u. a.) sowie weitere Rechenoperationen bzw. gelegentlich auch logische Operatoren erfasst. \n",
        "  * **Verknüpfungen dienen in der Algebra dazu, algebraische Strukturen zu definieren**. Die Verknüpfungen müssen dabei bestimmte Bedingungen (Axiome) erfüllen. Bei partiellen Algebren sind auch partielle Verknüpfungen zugelassen.\n",
        "  * Zum Beispiel ist eine Halbgruppe eine Menge mit einer inneren zweistelligen Verknüpfung, die das Assoziativgesetz erfüllt. Die Forderung, dass das Ergebnis der Verknüpfung wieder Element der gegebenen Menge sein soll (Abgeschlossenheit), ist bereits in der Definition der inneren Verknüpfung enthalten."
      ]
    },
    {
      "cell_type": "markdown",
      "metadata": {
        "id": "FaR8n8233mDW"
      },
      "source": [
        "**Elementare Algebra**"
      ]
    },
    {
      "cell_type": "markdown",
      "metadata": {
        "id": "siEahbLc3qLv"
      },
      "source": [
        "https://de.wikipedia.org/wiki/Elementare_Algebra"
      ]
    },
    {
      "cell_type": "markdown",
      "metadata": {
        "id": "5uRG5yT43ob5"
      },
      "source": [
        "https://de.wikipedia.org/wiki/Binomische_Formeln"
      ]
    },
    {
      "cell_type": "markdown",
      "metadata": {
        "id": "dr1iwDxKS8MN"
      },
      "source": [
        "**Regeln**"
      ]
    },
    {
      "cell_type": "markdown",
      "metadata": {
        "id": "H-pYZbqoo-Rz"
      },
      "source": [
        "**[Abgeschlossenheit](https://de.m.wikipedia.org/wiki/Abgeschlossenheit_(algebraische_Struktur))**\n",
        "\n",
        "* Closure laws: a + b and ab are unique elements in the field.\n",
        "\n",
        "* Manchmal findet man noch die Forderung der „Abgeschlossenheit“, dass \n",
        "x\n",
        "∗\n",
        "y\n",
        "wieder in \n",
        "G liegen soll, aber aus der Sicht eines Algebraikers beinhaltet der Begriff der „zweistelligen Verknüpfung“ diese Eigenschaft bereits."
      ]
    },
    {
      "cell_type": "markdown",
      "metadata": {
        "id": "aMr2jhDX0t-E"
      },
      "source": [
        "Manchmal findet man noch die Forderung der „Abgeschlossenheit“, dass x ∗ y wieder in G liegen soll, aber aus der Sicht eines Algebraikers beinhaltet der Begriff der „zweistelligen Verknüpfung“ diese Eigenschaft bereits."
      ]
    },
    {
      "cell_type": "markdown",
      "metadata": {
        "id": "Nc3n_XE6Dybo"
      },
      "source": [
        "*Nur Abgeschlossenheit gilt für Magma (Groupoid)*"
      ]
    },
    {
      "cell_type": "markdown",
      "metadata": {
        "id": "K64WJEKxT5Jb"
      },
      "source": [
        "**[Assoziativität](https://de.m.wikipedia.org/wiki/Assoziativgesetz)**\n",
        "\n",
        "* **Addition**. When three or more numbers are added, the sum is the same regardless of the way in which the numbers are grouped. (a + b) + c = a + (b + c)\n",
        "\n",
        "* **Multiplication**. When three or more numbers are multiplied, the product is the same regardless of the way in which the numbers are grouped. (a * b) * c = a * (b * c)"
      ]
    },
    {
      "cell_type": "markdown",
      "metadata": {
        "id": "yhsEqAv2WCyf"
      },
      "source": [
        "See also [**Associative_property**](https://en.wikipedia.org/wiki/Associative_property) and [**Non associative algebra** (or distributive algebra)](https://en.wikipedia.org/wiki/Non-associative_algebra). For example: \"Because matrices represent linear functions, and matrix multiplication represents function composition, one can immediately conclude that matrix multiplication is associative.\"\n",
        "\n",
        "* A non-associative algebra (or distributive algebra) is an algebra over a field where the binary multiplication operation is not assumed to be associative. That is, an algebraic structure A is a non-associative algebra over a field K if it is a vector space over K and is equipped with a K-bilinear binary multiplication operation A × A → A which may or may not be associative. \n",
        "\n",
        "* Examples include Lie algebras, Jordan algebras, the octonions, and three-dimensional Euclidean space equipped with the cross product operation. "
      ]
    },
    {
      "cell_type": "markdown",
      "metadata": {
        "id": "WyIE7Cjqs9SE"
      },
      "source": [
        "*Abgeschlossenheit und Assoziativität gilt für Halbgruppen*"
      ]
    },
    {
      "cell_type": "markdown",
      "metadata": {
        "id": "FIBq7GtBir5R"
      },
      "source": [
        "**[Identity Property](https://en.m.wikipedia.org/wiki/Identity_element) (Neutrales Element)**\n",
        "\n",
        "* **Additive identity**. The sum of any number and zero is that number. 12 + 0 = 12\n",
        "\n",
        "* **Multiplicatice identity**, The product of any number and one is that number. 18 x 1 = 18"
      ]
    },
    {
      "cell_type": "markdown",
      "metadata": {
        "id": "I7zmBMZLtT9F"
      },
      "source": [
        "*Zusätzlich Identity gilt für Monoid (Teiltyp Gruppe)*"
      ]
    },
    {
      "cell_type": "markdown",
      "metadata": {
        "id": "C04LXzIEpeGY"
      },
      "source": [
        "**[Inverse Elemente](https://de.m.wikipedia.org/wiki/Inverses_Element)**\n",
        "\n",
        "* **In Algebra you don't talk about substraction and division. It is additive inverse & multiplicative inverse!** This is important for fields (Korper)!\n",
        "\n",
        "* For each element a $\\in \\mathrm{G}$, there exists an element $\\mathrm{a}^{-1} \\in \\mathrm{G}$ such that $\\mathrm{a} \\cdot \\mathrm{a}^{-1}=\\mathrm{a}^{-1} \\cdot \\mathrm{a}=\\mathrm{e}$. (The element $\\mathrm{a}^{-1}$ is called the inverse of a.)\n",
        "\n",
        "* Wenn man ein beliebiges Element der Menge und sein Inverses mit der Rechenoperation verknüpft, erhält man immer das sogenannte neutrale Element $\\mathrm{e}$ als Ergebnis.\n",
        "\n",
        "* **Addition**: a+(-a) = a-a = 0 zB: 7 + (-7) = 0\n",
        "\n",
        "* **Multiplication**: Two elements of a set, A and A inverse, multiplied together to produce the identity element. Zahl a multipliziert mit seinem Kehrwert (1/a oder a<sup>-1</sup>) = 1"
      ]
    },
    {
      "cell_type": "markdown",
      "metadata": {
        "id": "vZnKN7JhvPn7"
      },
      "source": [
        "*Zusätzlich Inverse gilt für Gruppe*"
      ]
    },
    {
      "cell_type": "markdown",
      "metadata": {
        "id": "Ll09kLWiUUb-"
      },
      "source": [
        "**[Kommutativität](https://de.m.wikipedia.org/wiki/Kommutativgesetz)**\n",
        "\n",
        "* **Addition**. When two numbers are added, the sum is the same regardless of the order in which the numbers are added. a + b = b + a\n",
        "\n",
        "* **Multiplication**. When two numbers are multiplied together, the product is the same regardless of the order in which the numbers are multiplied. a * b = b * a"
      ]
    },
    {
      "cell_type": "markdown",
      "metadata": {
        "id": "exscwR8mtdxL"
      },
      "source": [
        "*Zusätzlich Kommutativität gilt für Abelian Group*"
      ]
    },
    {
      "cell_type": "markdown",
      "metadata": {
        "id": "xNPouI8c84_b"
      },
      "source": [
        "For more details on sub-types of groups, see Group-like structures: https://en.m.wikipedia.org/wiki/Category_(mathematics)"
      ]
    },
    {
      "cell_type": "markdown",
      "metadata": {
        "id": "NKq9om0BTe_4"
      },
      "source": [
        "**[Distributivgesetz](https://de.m.wikipedia.org/wiki/Distributivgesetz)**\n",
        "\n",
        "* The sum of two numbers times a third number is equal to the sum of each addend times the third number (Gilt für körper (fields), aber nicht gruppen oder ringe!). a * b + a * c = a * (b + c)"
      ]
    },
    {
      "cell_type": "markdown",
      "metadata": {
        "id": "tNBArCWBuSJo"
      },
      "source": [
        "*Gilt zusätzlich Distributivgesetz gilt für Ring (da man hier zwei Operationen benötigt)*"
      ]
    },
    {
      "cell_type": "markdown",
      "metadata": {
        "id": "SORuxSxYHKDC"
      },
      "source": [
        "**Zusammenfassung**"
      ]
    },
    {
      "cell_type": "markdown",
      "metadata": {
        "id": "KoVfPVtLVGzQ"
      },
      "source": [
        "$+$ $\\quad$ $-$ $\\quad$ is a Group\n",
        "\n",
        "$+$ $\\quad$ $-$ $\\quad$ $\\cdot$ $\\quad$ is a Ring\n",
        "\n",
        "$+$ $\\quad$ $-$ $\\quad$ $\\cdot$ $\\quad$ $÷$ $\\quad$ is a Field\n",
        "\n"
      ]
    },
    {
      "cell_type": "markdown",
      "metadata": {
        "id": "4XKF004At1qB"
      },
      "source": [
        "**The elements of a field (Körper) obey the following laws:**\n",
        "\n",
        "1. **Closure laws**: a + b and ab are unique elements in the field.\n",
        "\n",
        "2. **Commutative laws**: a + b = b + a and ab = ba.\n",
        "\n",
        "3. **Associative laws**: a + (b + c) = (a + b) + c and a(bc) = (ab)c.\n",
        "\n",
        "4. **Identity laws**: there exist elements 0 and 1 such that a + 0 = a and a × 1 = a.\n",
        "\n",
        "5. **Inverse laws**: for every a there exists an element - a such that a + (-a) = 0, and for every a ≠ 0 there exists an element a-1 such that a × a-1 = 1.\n",
        "\n",
        "6. **Distributive law**: a(b + c) = ab + ac.\n",
        "\n",
        "\n",
        "Read more: Field - Set, Laws, Elements, and Operations - JRank Articles https://science.jrank.org/pages/2709/Field.html#ixzz6UdPamPNB"
      ]
    },
    {
      "cell_type": "markdown",
      "metadata": {
        "id": "AZCpPDJAe3AK"
      },
      "source": [
        "* **Summary**: Aus einer Menge der Zahlen (N, Z, Q, R, C, H) eine algebraische Struktur basteln. Man kann mit der Gruppe anfangen (als einfachste algebraische Struktur), um erstmal einfach zu verknüpfen. Dann schickt man noch eine Verknüpfung rein und bastelt sich so einen Ring. Kommt dann zum Körper und kann spätestens bei den Körpern über komplexen Zahlen sämtliche Gleichungen lösen.\n",
        "\n",
        "* **Gruppe** zB schickt man die Menge natürliche Zahlen N in eine zweistellige Verknüpfung. Wobei abgestuft werden kann wie viele Axiome gelten, von Magma, über Halbgruppe (nur Assoziativität), Monoid (inkl. neutrales Element), Gruppe (inkl Inverse) und Abelsche Gruppe (inkl Kommutativität).\n",
        "\n",
        "* **Ringe** erlauben **zwei** zweistellige Verknüpfungen, üblicherweise der **ganzen Zahlen Z**, was aber kein Divisionsring ist / keine multiplikative Inverse für alle Elemente (gibt Probleme bei der Lösung mancher Gleichungen): Addition: (R, +) ist eine abelsche Gruppe, aber die Multiplikation: (R, ∙) ist eine Halbgruppe. **Kommutativität in der Multiplikation gilt dann erst bei Körpern!**\n",
        "\n",
        "* Divisionsring = Schiefkörper (hat alle Körpereigenschaften, aber die Multiplikation ist nicht notwendigerweise kommutativ). Anwendung bei Quaternions H.\n",
        "\n",
        "* **Körper** über rationale Zahlen Q, über reelle Zahlen R und über komplexe Zahlen C. Damit kann man praktisch alle Gleichungen lösen. Bei Körpern gilt die Kommutativität in der Multiplikation.\n",
        "\n",
        "* Für Operationen im mehrdimensionalen Raum erweitert man noch auf **Module** (für Ringe, zB ganze Zahlen Z<sup>n</sup>) und **Vektorräume** (für Körper, zB reelle Zahlen R<sup>n</sup>). Deshalb sagt man auch zB Vektorraum über einen Körper der reellen Zahlen. **Ein Modul ist ein n-dimensionaler Ring, und ein Vektorraum ist ein n-dimensionaler Körper.**"
      ]
    },
    {
      "cell_type": "markdown",
      "metadata": {
        "id": "DSDecWiLleDK"
      },
      "source": [
        "![alternativer Text](https://upload.wikimedia.org/wikipedia/commons/thumb/7/7a/Übersicht_Körper.svg/993px-Übersicht_Körper.svg.png)\n"
      ]
    },
    {
      "cell_type": "markdown",
      "metadata": {
        "id": "CoIy64C2tO4P"
      },
      "source": [
        "https://en.m.wikipedia.org/wiki/Vector_space"
      ]
    },
    {
      "cell_type": "markdown",
      "metadata": {
        "id": "C9dRal7LstQ8"
      },
      "source": [
        "https://en.m.wikipedia.org/wiki/Outline_of_algebraic_structures"
      ]
    },
    {
      "cell_type": "markdown",
      "metadata": {
        "id": "zbm3qTNcMybQ"
      },
      "source": [
        "<img src=\"https://raw.githubusercontent.com/deltorobarba/repo/master/algebragroups.jpg\" alt=\"algreba\">"
      ]
    },
    {
      "cell_type": "markdown",
      "metadata": {
        "id": "0n2NN_KyNEQb"
      },
      "source": [
        "https://youtu.be/Cq2m-MgczWU"
      ]
    },
    {
      "cell_type": "markdown",
      "metadata": {
        "id": "Jx_LmlIGnDSa"
      },
      "source": [
        "#### **Eigenschaften**"
      ]
    },
    {
      "cell_type": "markdown",
      "metadata": {
        "id": "uacbL0tqF2_Q"
      },
      "source": [
        "> **Gruppe hat immer was mit Symmetrie zu tun!**"
      ]
    },
    {
      "cell_type": "markdown",
      "metadata": {
        "id": "oCB4ra2VRdKJ"
      },
      "source": [
        "https://en.m.wikipedia.org/wiki/Cayley_graph"
      ]
    },
    {
      "cell_type": "markdown",
      "metadata": {
        "id": "7xj9iY8b8fyZ"
      },
      "source": [
        "https://www.math3ma.com/blog/a-group-and-its-center-intuitively"
      ]
    },
    {
      "cell_type": "markdown",
      "metadata": {
        "id": "8M8tVe2p8hxQ"
      },
      "source": [
        "https://www.math3ma.com/blog/ways-to-show-a-group-is-abelian"
      ]
    },
    {
      "cell_type": "markdown",
      "metadata": {
        "id": "VzITX6WSRL-t"
      },
      "source": [
        "https://en.m.wikipedia.org/wiki/Symmetry_(physics)"
      ]
    },
    {
      "cell_type": "markdown",
      "metadata": {
        "id": "YyT5QmQKmcRc"
      },
      "source": [
        "https://www.quantamagazine.org/mathematicians-prove-symmetry-of-phase-transitions-20210708/"
      ]
    },
    {
      "cell_type": "markdown",
      "metadata": {
        "id": "uTQvnnJH2c-Y"
      },
      "source": [
        "Group theory at the intersection of differential geometry: https://en.m.wikipedia.org/wiki/Gromov%27s_theorem_on_groups_of_polynomial_growth"
      ]
    },
    {
      "cell_type": "markdown",
      "metadata": {
        "id": "tgvvUdIJw3cu"
      },
      "source": [
        "A group is a set $G$ with an operation $*$ such that\n",
        "\n",
        "* **Closure**: If $x$ and $y$ are in $G$ then $x * y$ is in $\\mathrm{G}$\n",
        "  * until here it is a **Magma (Groupoid)**\n",
        "\n",
        "* **Associativity**: For all $x, y, z$ in $G$ $\\text { we have }(x * y) * z=x *(y * z)$\n",
        "  * until here it is a **Halbgruppe**\n",
        "\n",
        "* **Identity Element**: There is an element $e$ in $G$ such that $e * x=x * e=x$ for all $x$ in $G$\n",
        "  * until here it is a **Monoid**\n",
        "\n",
        "* **Inverse Elements**: For each element $x$ in $G,$ there is an element $x^{-1}$ such that $x * x^{-1}=x^{-1} * x=e$\n",
        "  * until here it is a **Group**\n",
        "\n",
        "* **Kommutative**: Für alle $a, b \\in G$ gilt: $a * b=b * a$\n",
        "  * until here it is an **Abel'sche Gruppe**"
      ]
    },
    {
      "cell_type": "markdown",
      "metadata": {
        "id": "7lu4pUUZUbRY"
      },
      "source": [
        "![xxx](https://upload.wikimedia.org/wikipedia/commons/thumb/2/20/Algebraische_Strukturen.svg/498px-Algebraische_Strukturen.svg.png)"
      ]
    },
    {
      "cell_type": "markdown",
      "metadata": {
        "id": "tvj5Lv5mbE0m"
      },
      "source": [
        "https://de.m.wikipedia.org/wiki/Gruppentheorie"
      ]
    },
    {
      "cell_type": "markdown",
      "metadata": {
        "id": "msM-kHmmBHXP"
      },
      "source": [
        "https://de.m.wikipedia.org/wiki/Gruppe_(Mathematik)"
      ]
    },
    {
      "cell_type": "markdown",
      "metadata": {
        "id": "0ZX6NbAykTKz"
      },
      "source": [
        "* Die fundamentalen algebraischen Strukturen besitzen eine oder zwei [zweistellige innere Verknüpfungen](https://de.m.wikipedia.org/wiki/Zweistellige_Verknüpfung). \n",
        "\n",
        "* Gruppen sind algebraische Strukturen mit einer inneren Verknüpfung\n",
        "\n",
        "* **A group is an algebraic structure with a single operation**. \n",
        "\n",
        "* Groups are closely associated with the idea of symmetry, and most groups that arise in mathematics are groups of symmetry transformations, with the operation being composition of functions.\n",
        "\n",
        "* **Groups are a particularly simple algebraic structure**, having only one operation and three axioms. Most algebraic structures have more than one operation, and are required to satisfy a long list of axioms."
      ]
    },
    {
      "cell_type": "markdown",
      "metadata": {
        "id": "O2YHCqA2omDH"
      },
      "source": [
        "A group is a set G together with a binary operation ∗ on G, satisfying the following axioms:\n",
        "\n",
        "1. **Abgeschlossenheit** (für **Magma**, ohne assoziativität, inverse, identity oder kommutativ)\n",
        "\n",
        "2. **Assoziativität**: The operation ∗ is associative. That is,\n",
        "a ∗ (b ∗ c) = (a ∗ b) ∗ c\n",
        "for all a,b,c ∈ G. (für **Halbgruppen**, ohne identity, inverse oder kommutativ)\n",
        "\n",
        "3. **Identity Element**: There exists an element e ∈ G with the property that\n",
        "a∗e=e∗a=a\n",
        "for all a ∈ G. (This element e is called the identity element of G.) für **Monoid** (ein Monoid ist eine Halbgruppe, die ein neutrales Element besitzt)\n",
        "\n",
        "4. **Inverse**: For each element a ∈ G, there exists an element a<sup>-1</sup> ∈ G such that a∗􏰁a<sup>-1</sup>􏰂 = 􏰁a<sup>-1</sup>􏰂∗a = e.\n",
        "(The element a<sup>-1</sup> is called the inverse of a.) für **Gruppe** (Eine Gruppe ist also ein Monoid, in dem jedes Element ein Inverses hat.)\n",
        "\n",
        "5. **Kommutativität**: für **Abelsche Gruppen**"
      ]
    },
    {
      "cell_type": "markdown",
      "metadata": {
        "id": "vTQu1Un1DJ4Z"
      },
      "source": [
        "**Von der Magma zur Abel'schen Gruppe**: Die Grundmenge ist unter einer inneren Verknüpfung per Definition abgeschlossen. Ansonsten muss ein Magma keine speziellen Eigenschaften haben. Durch Hinzunahme weiterer Bedingungen werden speziellere Strukturen definiert, die alle wiederum Magmen sind. Typische Beispiele sind:\n",
        "\n",
        "* Halbgruppe: ein Magma, dessen Verknüpfung assoziativ ist\n",
        "\n",
        "* Monoid: eine Halbgruppe mit einem neutralen Element\n",
        "\n",
        "* Quasigruppe: ein Magma, in dem alle Gleichungen der Form \n",
        "a\n",
        "x\n",
        "=\n",
        "b\n",
        "ax=b oder \n",
        "x\n",
        "a\n",
        "=\n",
        "b\n",
        "xa=b eindeutig nach \n",
        "x\n",
        "x auflösbar sind\n",
        "\n",
        "* Loop: eine Quasigruppe mit einem neutralen Element\n",
        "\n",
        "* Gruppe: ein Monoid, in dem jedes Element ein Inverses hat\n",
        "\n",
        "* Abelsche Gruppe: eine Gruppe, deren Verknüpfung kommutativ ist\n",
        "\n",
        "* Mediales Magma: ein Magma, in dem für alle Elemente die Gleichung \n",
        "(\n",
        "a\n",
        "⋆\n",
        "b\n",
        ")\n",
        "⋆\n",
        "(\n",
        "c\n",
        "⋆\n",
        "d\n",
        ")\n",
        "=\n",
        "(\n",
        "a\n",
        "⋆\n",
        "c\n",
        ")\n",
        "⋆\n",
        "(\n",
        "b\n",
        "⋆\n",
        "d\n",
        ")\n",
        "(a\\star b)\\star (c\\star d)=(a\\star c)\\star (b\\star d) gilt"
      ]
    },
    {
      "cell_type": "markdown",
      "metadata": {
        "id": "LNZni9ejYFxi"
      },
      "source": [
        "**Group Theory is all about Symmetrie, here better called Isomorphism!**"
      ]
    },
    {
      "cell_type": "markdown",
      "metadata": {
        "id": "JtUjF3lB9piz"
      },
      "source": [
        "https://en.wikipedia.org/wiki/Symmetry_in_quantum_mechanics"
      ]
    },
    {
      "cell_type": "markdown",
      "metadata": {
        "id": "ErLofdFZsi_0"
      },
      "source": [
        "Eulerformel und Gruppentheorie: https://youtu.be/mvmuCPvRoWQ"
      ]
    },
    {
      "cell_type": "markdown",
      "metadata": {
        "id": "dgggOqZNZHV7"
      },
      "source": [
        "**Applications of Group Theory**\n",
        "\n",
        "* Solutions to polynomial equations, like find 2 roots of a quadratic equation. there is also q cubic formula and a quartic for degree 4 polynomial. Find formula to solve degree 5 polynomial - group theory showed it doesnt exist. Has to do with permutation group S5.\n",
        "\n",
        "* Connection to Physics - Noether's theorem: Conservation law - symmetry. Momentum - translation in space. Energy - translation in time."
      ]
    },
    {
      "cell_type": "markdown",
      "metadata": {
        "id": "FT1pOUsswAjL"
      },
      "source": [
        "https://www.youtube.com/watch?v=mH0oCDa74tE"
      ]
    },
    {
      "cell_type": "markdown",
      "metadata": {
        "id": "UKjgP3r6bPHf"
      },
      "source": [
        "https://en.wikipedia.org/wiki/Monstrous_moonshine"
      ]
    },
    {
      "cell_type": "markdown",
      "metadata": {
        "id": "mqh25folEqEt"
      },
      "source": [
        "https://de.m.wikipedia.org/wiki/Geometrische_Gruppentheorie"
      ]
    },
    {
      "cell_type": "markdown",
      "metadata": {
        "id": "PoTJ9xlygSTZ"
      },
      "source": [
        "**Geometrische Gruppentheorie**"
      ]
    },
    {
      "cell_type": "markdown",
      "metadata": {
        "id": "SyN_82kigV5d"
      },
      "source": [
        "Die [geometrische Gruppentheorie](https://de.wikipedia.org/wiki/Geometrische_Gruppentheorie) ist derjenige Teil der Gruppentheorie, der besonderes Augenmerk auf das Zusammenspiel zwischen geometrischen Objekten und den auf ihnen operierenden Gruppen legt. Dabei geht es insbesondere um Gruppenoperationen auf Graphen und metrischen Räumen, letztlich werden die Gruppen selbst zu solchen geometrischen Objekten."
      ]
    },
    {
      "cell_type": "markdown",
      "metadata": {
        "id": "gEPwd88xg9da"
      },
      "source": [
        "* Ist $\\mathcal{C}$ eine Kategorie und ist $X$ ein Objekt dieser Kategorie, so ist die Menge $\\operatorname{Aut}_{\\mathcal{C}}(X)$ der Automorphismen $X \\rightarrow X$ eine Gruppe. Jeder Homomorphismus $G \\rightarrow \\operatorname{Aut}_{C}(X)$ einer Gruppe $G$ in diese Automorphismengruppe heißt dann eine Darstellung oder Operation von $G$ auf $X$. Ist zum Beispiel $\\mathcal{C}$ die Kategorie der Vektorräume mit den linearen Abbildungen, so erhält man die klassische Darstellungstheorie von Gruppen, in der man nach Wahl einer Vektorraumbasis jedes Gruppenelement auf eine reguläre Matrix abbildet. \n",
        "\n",
        "* Ist $\\mathcal{C}$ die Kategorie aller Mengen, so ist $\\operatorname{Aut}_{\\mathcal{C}}(X)$ nichts anderes als die Gruppe aller Permutationen auf der Menge $X$. Diese beiden Betrachtungsweisen, **Matrizengruppen und Permutationsgruppen, lagen am Beginn der Gruppentheorie**.\n",
        "\n",
        "\n",
        "* In der geometrischen Gruppentheorie verwendet man stattdessen Kategorien, deren Objekte einen eher geometrischen Charakter haben, nämlich Graphen und metrische Räume mit geeigneten Morphismen. Die Automorphismengruppen werden schon seit langer Zeit zur Untersuchung der Symmetrieeigenschaften der Objekte herangezogen. Umgekehrt können aber Gruppeneigenschaften durch ihre Operationen auf Objekten studiert werden und Gruppen selbst können zu geometrischen Objekten gemacht werden, sodass für diese Gruppen geometrische Begriffsbildungen sinnvoll werden."
      ]
    },
    {
      "cell_type": "markdown",
      "metadata": {
        "id": "HCZVrEOjxRMs"
      },
      "source": [
        "**Gruppenoperation**"
      ]
    },
    {
      "cell_type": "markdown",
      "metadata": {
        "id": "jfwusm1GxUEM"
      },
      "source": [
        "https://de.wikipedia.org/wiki/Gruppenoperation"
      ]
    },
    {
      "cell_type": "markdown",
      "metadata": {
        "id": "vPzgxxq-w6fH"
      },
      "source": [
        "**Topologische Gruppe**"
      ]
    },
    {
      "cell_type": "markdown",
      "metadata": {
        "id": "IwISugMJw9SX"
      },
      "source": [
        "https://de.wikipedia.org/wiki/Topologische_Gruppe"
      ]
    },
    {
      "cell_type": "markdown",
      "metadata": {
        "id": "W9iXAo7d6DQN"
      },
      "source": [
        "**Verknüpfungstafel**"
      ]
    },
    {
      "cell_type": "markdown",
      "metadata": {
        "id": "loTPhWs46GDT"
      },
      "source": [
        "https://de.wikipedia.org/wiki/Verknüpfungstafel"
      ]
    },
    {
      "cell_type": "markdown",
      "metadata": {
        "id": "RfjsHi4B23Jf"
      },
      "source": [
        "**Konjugation (Gruppentheorie)**"
      ]
    },
    {
      "cell_type": "markdown",
      "metadata": {
        "id": "XyIfC2_P25F6"
      },
      "source": [
        "https://de.m.wikipedia.org/wiki/Konjugation_(Gruppentheorie)"
      ]
    },
    {
      "cell_type": "markdown",
      "metadata": {
        "id": "PKhkd7JgWQ2L"
      },
      "source": [
        "**Präsentation einer Gruppe (Kombinatorische & Algorithmische Gruppentheorie)**"
      ]
    },
    {
      "cell_type": "markdown",
      "metadata": {
        "id": "4OTRXkf2WfKw"
      },
      "source": [
        "* Die Präsentation (oder Präsentierung) einer Gruppe gegeben durch eine Menge von Elementen, die die Gruppe erzeugen, und eine Menge von Relationen, die zwischen diesen Erzeugern bestehen. \n",
        "\n",
        "* Zum Beispiel wird die zyklische Gruppe der Ordnung $n$ erzeugt von einem Element $g$ mit der Relation $g^{n}=1$. Eine solche Präsentation nennt man daher auch Darstellung durch Erzeuger und Relationen. \n",
        "\n",
        "* Jede Gruppe lässt sich auf diese Weise präsentieren, und somit sind Präsentationen ein universelles Werkzeug, um Gruppen zu konstruieren und zu untersuchen. Viele unendliche Gruppen erlauben eine endliche Präsentation und damit eine effiziente Beschreibung. \n",
        "\n",
        "* Die **kombinatorische Gruppentheorie** untersucht Gruppen mit Hilfe ihrer Präsentationen und stellt hierzu umfangreiche Techniken zur Verfügung.\n"
      ]
    },
    {
      "cell_type": "markdown",
      "metadata": {
        "id": "JuaIYm4VZLHG"
      },
      "source": [
        "Wenn man sich beliebige Erzeuger $S$ und Relationen $R$ vorgibt, dann ist zunächst nicht klar, ob und wie dadurch eine Gruppe definiert werden kann. Die folgende Konstruktion löst dieses Problem, indem sie die dargestellte Gruppe $\\langle S \\mid R\\rangle$ als Quotienten einer freien Gruppe definiert:\n",
        "\n",
        "* Gegeben sei eine Menge $S$, deren Elemente wir im Folgenden als Erzeuger verwenden wollen.\n",
        "\n",
        "* Es sei $F=F(S)$ die freie Gruppe über $S$. Diese besteht aus allen reduzierten Wörtern $s_{1}^{e_{1}} s_{2}^{e_{2}} \\cdots s_{n}^{e_{n}}$ mit Faktoren $s_{1}, s_{2}, \\ldots, s_{n} \\in S$, wobei $s_{i} \\neq s_{i+1}$ für alle $i$, und Exponenten $e_{1}, e_{2}, \\ldots, e_{n} \\in \\mathbb{Z}$, wobei $e_{i} \\neq 0$ für alle $i$. \n",
        "\n",
        "* Ferner sei $R \\subset F$ eine Menge von solchen Wörtern über $S$. Wir bezeichnen mit $R^{F}$ die Menge aller konjugierten Elemente $r^{x}$ wobei $r \\in R$ und $x \\in F$. \n",
        "\n",
        "* Es sei $K=\\left\\langle R^{F}\\right\\rangle$ die von der Menge $R^{F}$ erzeugte Untergruppe von $F$. Man nennt $K$ die Menge aller Konsequenzen der Relationen $R$. \n",
        "\n",
        "* Sie lässt sich auch beschreiben als der von $R$ erzeugte Normalteiler, und dafür ist die Bezeichnung $K=\\langle\\langle R\\rangle\\rangle$ gebräuchlich.\n",
        "\n",
        "* Nach Konstruktion ist $K$ ein Normalteiler der freien Gruppe $F$. Wir\n",
        "erhalten demnach als Quotient eine Gruppe\n",
        "\n",
        ">$\n",
        "\\langle S \\mid R\\rangle:=F / K\n",
        "$\n",
        "\n",
        "* und nennen diese die Gruppe mit Erzeugern $S$ und Relationen $R$. Genauer nennt man das Paar $(S, R)$ die Präsentation, und $\\langle S \\mid R\\rangle$ die durch $(S, R)$ präsentierte Gruppe."
      ]
    },
    {
      "cell_type": "markdown",
      "metadata": {
        "id": "b0CqiI8TdcmR"
      },
      "source": [
        "**Beispiele**:\n",
        "\n",
        "* Ist $(G, \\cdot)$ eine [endliche Gruppe](https://de.m.wikipedia.org/wiki/Endliche_Gruppe) der Ordnung $n$, so können wir ihre [Verknüpfungstafel](https://de.m.wikipedia.org/wiki/Verknüpfungstafel) als eine Präsentation durch $n$ Erzeuger und $n^{2}$ Relationen interpretieren.  Die Erzeuger sind hierbei die Elemente $a, b, c, \\ldots$ der gegebenen Gruppe $G$, und jedes Produkt $a \\cdot b=c$ definiert eine Relation $a b c^{-1}$ in der freien Gruppe über $G$. Im Allgemeinen erlaubt $G$ jedoch auch viel kürzere Präsentationen.\n"
      ]
    },
    {
      "cell_type": "markdown",
      "metadata": {
        "id": "rXehuczXYScM"
      },
      "source": [
        "1911 formulierte Max Dehn **drei fundamentale algorithmische Probleme** in der (kombinatorischen) Gruppentheorie:\n",
        "\n",
        "* **Wortproblem**: Ist ein gegebenes Gruppenelement (als Wort in Erzeugern) das Einselement in der Gruppe?\n",
        "\n",
        "* **Konjugationsproblem**: Sind zwei Elemente konjugiert?\n",
        "\n",
        "* **Isomorphieproblem**: Definieren zwei gegebene Darstellungen isomorphe Gruppen?\n",
        "\n",
        "Im Allgemeinen sind alle diese Fragen unentscheidbar, also kann man positive Antworten nur in Spezialfällen erhalten. Die weitreichensten Ergebnisse liegen für das Wortproblem vor. Hier gibt es eine große Klasse von Gruppen, die in der Praxis auftreten und für die man sehr gute Algorithmen kennt."
      ]
    },
    {
      "cell_type": "markdown",
      "metadata": {
        "id": "prFn7mNokjHX"
      },
      "source": [
        "https://de.m.wikipedia.org/wiki/Präsentation_einer_Gruppe"
      ]
    },
    {
      "cell_type": "markdown",
      "metadata": {
        "id": "seDVqWVKnH7e"
      },
      "source": [
        "#### **Abstrakte Gruppen (Strukturen)**"
      ]
    },
    {
      "cell_type": "markdown",
      "metadata": {
        "id": "rxdQVgZuzc8x"
      },
      "source": [
        "##### <font color=\"blue\">**Gruppoid (Magma)**"
      ]
    },
    {
      "cell_type": "markdown",
      "metadata": {
        "id": "mUhMOWLAziQF"
      },
      "source": [
        "* ein Magma (neutrum, Mehrzahl Magmen) ist eine algebraische Struktur, bestehend aus einer Menge zusammen mit einer zweistelligen inneren Verknüpfung. \n",
        "\n",
        "* Es wird auch Gruppoid,manchmal Binar oder Operativ genannt.\n",
        "\n",
        "* Ist die Verknüpfung kommutativ, so heißt das Magma kommutativ oder abelsch; ist sie assoziativ, so heißt das Magma assoziativ oder Halbgruppe."
      ]
    },
    {
      "cell_type": "markdown",
      "metadata": {
        "id": "6hMH-SILCoVM"
      },
      "source": [
        "Die folgenden **Beispiele** sind Magmen, die keine Halbgruppen sind:\n",
        "\n",
        "* $(\\mathbb{Z},-):$ die ganzen Zahlen mit der Subtraktion\n",
        "\n",
        "* (R $\\backslash\\{0\\}, /)$ : die reellen Zahlen ungleich 0 mit der Division\n",
        "\n",
        "* Die natürlichen Zahlen mit der Exponentiation, also mit der Verknüpfung $a * b=a^{b}$\n",
        "\n",
        "* Die reellen Zahlen mit der Bildung des arithmetischen Mittels als Verknüpfung"
      ]
    },
    {
      "cell_type": "markdown",
      "metadata": {
        "id": "L3IgdRQpzrLT"
      },
      "source": [
        "https://de.m.wikipedia.org/wiki/Magma_(Mathematik)"
      ]
    },
    {
      "cell_type": "markdown",
      "metadata": {
        "id": "5911qy-T8r-t"
      },
      "source": [
        "Gruppoid (Kategorientheorie)"
      ]
    },
    {
      "cell_type": "markdown",
      "metadata": {
        "id": "QsWwWs1jEg6F"
      },
      "source": [
        "**Achtung:** Siehe Gruppoid in der Kategorientheorie: https://de.m.wikipedia.org/wiki/Gruppoid_(Kategorientheorie)"
      ]
    },
    {
      "cell_type": "markdown",
      "metadata": {
        "id": "Ab7LNFPL8hJ1"
      },
      "source": [
        "* Die drei Verträglichkeitsbedingungen gleichen den Gruppenaxiomen. Das ist kein Zufall. \n",
        "\n",
        "* **Ein Gruppoid mit genau einem Objekt ist nichts anderes als eine Gruppe**. In diesem Sinn stellt der Begriff Gruppoid also eine Verallgemeinerung des Begriffes Gruppe dar.\n",
        "\n",
        "* Die Kategorie aller Gruppoide mit Funktoren als Morphismen ist eine Subkategorie von Cat, der Kategorie aller kleinen Kategorien"
      ]
    },
    {
      "cell_type": "markdown",
      "metadata": {
        "id": "QE2eJSx60DaV"
      },
      "source": [
        "Infinity Groupoid\n"
      ]
    },
    {
      "cell_type": "markdown",
      "metadata": {
        "id": "p-LtDSuW0Goi"
      },
      "source": [
        "* The notion of ∞-groupoid is the generalization of that of group and groupoids to higher category theory:"
      ]
    },
    {
      "cell_type": "markdown",
      "metadata": {
        "id": "wrzK4KKJ0QIu"
      },
      "source": [
        "https://ncatlab.org/nlab/show/infinity-groupoid"
      ]
    },
    {
      "cell_type": "markdown",
      "metadata": {
        "id": "dCFE-DUSztRw"
      },
      "source": [
        "https://en.m.wikipedia.org/wiki/∞-groupoid"
      ]
    },
    {
      "cell_type": "markdown",
      "metadata": {
        "id": "iWCeLOJUyQTQ"
      },
      "source": [
        "##### <font color=\"blue\">**Halbgruppe**"
      ]
    },
    {
      "cell_type": "markdown",
      "metadata": {
        "id": "jMk7Z_FMinyX"
      },
      "source": [
        "* **Abgeschlossenheit** (https://de.m.wikipedia.org/wiki/Abgeschlossenheit_(algebraische_Struktur))\n",
        "\n",
        "* **Assoziativität**: The operation ∗ is associative. That is, a ∗ (b ∗ c) = (a ∗ b) ∗ c for all a,b,c ∈ G.\n",
        "\n",
        "Es wird **nicht** erfüllt: Neutral (identity element), inverse, kommunitativ  (Abel'sche Gruppe)"
      ]
    },
    {
      "cell_type": "markdown",
      "metadata": {
        "id": "bMyPE5FjzwTo"
      },
      "source": [
        "Beispiele: "
      ]
    },
    {
      "cell_type": "markdown",
      "metadata": {
        "id": "H3gSEyuf_2h6"
      },
      "source": [
        "* Die Menge $\\mathbb  N$ $_0$ = {0, 1, 2 ..} der natürlichen Zahlen bildet mit der gewöhnlichen Addition eine kommutative und kürzbare Halbgruppe ($\\mathbb  N$ $_0$,+), die keine Gruppe ist. Da hier die negativen Zahlen fehlen, also die „Hälfte“ der abelschen Gruppe ($\\mathbb Z,+$) der ganzen Zahlen, lag der Name Halbgruppe für diese mathematische Struktur nahe. \n",
        "\n",
        "* Tatsächlich wurde in der Vergangenheit der Begriff „Halbgruppe“ für ein nach den oben gegebenen Definitionen kommutatives, kürzbares Monoid verwendet, später setzte sich dann die obige Definition allgemein durch."
      ]
    },
    {
      "cell_type": "markdown",
      "metadata": {
        "id": "bm96oAJn_X6E"
      },
      "source": [
        "https://de.m.wikipedia.org/wiki/Halbgruppe"
      ]
    },
    {
      "cell_type": "markdown",
      "metadata": {
        "id": "e_c49RceyU0S"
      },
      "source": [
        "##### <font color=\"blue\">**Monoid**"
      ]
    },
    {
      "cell_type": "markdown",
      "metadata": {
        "id": "6bCnMt3UlUfm"
      },
      "source": [
        "* **Closure**: If $x$ and $y$ are in $G$ then $x * y$ is in $\\mathrm{G}$\n",
        "\n",
        "* **Associativity**: For all $x, y, z$ in $G$ $\\text { we have }(x * y) * z=x *(y * z)$\n",
        "\n",
        "* **Identity Element**: There is an element $e$ in $G$ such that $e * x=x * e=x$ for all $x$ in $G$\n",
        "\n",
        "Es wird **nicht** erfüllt: inverse Element (= Gruppe), kommunitativ (= Abel'sche Gruppe)"
      ]
    },
    {
      "cell_type": "markdown",
      "metadata": {
        "id": "W4bqgKaUmfvs"
      },
      "source": [
        "* ein Monoid ist eine algebraische Struktur bestehend aus einer Menge mit einer klammerfrei notierbaren (assoziativen) Verknüpfung und einem neutralen Element. \n",
        "\n",
        "* **Ein Beispiel sind die natürlichen Zahlen mit der Addition und der Zahl 0 als neutralem Element.** \n",
        "\n",
        "* Ein Monoid, in dem jedes Element invertierbar ist, heißt Gruppe.\n",
        "\n",
        "* Eigenschaften bezüglich der angegebenen Verknüpfung: Assoziativität der Verknüpfung und e ist ein neutrales Element.\n",
        "\n",
        "* **Ein Monoid ist also eine Halbgruppe mit neutralem Element.** Jede Gruppe ist ein Monoid, aber ein Monoid hat im Gegensatz zur Gruppe nicht notwendigerweise inverse Elemente.\n",
        "\n",
        "* in Kategorietheorie ein Monoid ist eine Kategorie mit nur einem Objekt (und Pfeile mit Richtung zu sich selbst als Elemente / das sind neutrale Elemente)\n"
      ]
    },
    {
      "cell_type": "markdown",
      "metadata": {
        "id": "Z4ksA9DHix5Y"
      },
      "source": [
        "https://de.m.wikipedia.org/wiki/Monoid"
      ]
    },
    {
      "cell_type": "markdown",
      "metadata": {
        "id": "XM99PIHSxVpO"
      },
      "source": [
        "##### <font color=\"blue\">**Gruppe**"
      ]
    },
    {
      "cell_type": "markdown",
      "metadata": {
        "id": "RABq0YZ_mNj2"
      },
      "source": [
        "A group is a set $G$ with an operation $*$ such that\n",
        "\n",
        "* **Closure**: If $x$ and $y$ are in $G$ then $x * y$ is in $\\mathrm{G}$\n",
        "\n",
        "* **Associativity**: For all $x, y, z$ in $G$ $\\text { we have }(x * y) * z=x *(y * z)$\n",
        "\n",
        "* **Identity Element**: There is an element $e$ in $G$ such that $e * x=x * e=x$ for all $x$ in $G$\n",
        "\n",
        "* **Inverse Elements**: For each element $x$ in $G,$ there is an element $x^{-1}$ such that $x * x^{-1}=x^{-1} * x=e$"
      ]
    },
    {
      "cell_type": "markdown",
      "metadata": {
        "id": "EorWgfm-xahc"
      },
      "source": [
        "* Demnach ist eine Gruppe eine Menge zusammen mit **einer zweistelligen inneren Verknüpfung** (durch die jedem geordneten Paar von Elementen eindeutig ein Element dieser Menge als Resultat zugeordnet wird), wenn diese **Verknüpfung assoziativ** ist und es ein **neutrales Element** gibt sowie zu jedem Element ein **Inverses**. \n",
        "\n",
        "**Ringe, Körper, Moduln und Vektorräume sind Gruppen mit zusätzlichen Strukturen und Eigenschaften**"
      ]
    },
    {
      "cell_type": "markdown",
      "metadata": {
        "id": "jdIUzYUXxeQ1"
      },
      "source": [
        "Beispiele"
      ]
    },
    {
      "cell_type": "markdown",
      "metadata": {
        "id": "2uN_TPCVxdSO"
      },
      "source": [
        "* So bildet zum Beispiel auch die Menge der ganzen Zahlen zusammen mit der Addition eine Gruppe.\n",
        "\n",
        "* Physik und Chemie treten Gruppen überall dort auf, wo Symmetrien eine Rolle spielen (z. B. Invarianz physikalischer Gesetze, Symmetrie von Molekülen und Kristallen)"
      ]
    },
    {
      "cell_type": "markdown",
      "metadata": {
        "id": "dAtrm3obyX59"
      },
      "source": [
        "##### <font color=\"blue\">**Abelian Group**"
      ]
    },
    {
      "cell_type": "markdown",
      "metadata": {
        "id": "66v6RcrHOR8g"
      },
      "source": [
        "https://www.math.uni-bielefeld.de/~sek/top/leit/alg2.htm"
      ]
    },
    {
      "cell_type": "markdown",
      "metadata": {
        "id": "e6YkN8oDc-nK"
      },
      "source": [
        "* Eine abelsche Gruppe ist eine Gruppe, für die zusätzlich das Kommutativgesetz gilt.\n",
        "\n",
        "Sei $G$ eine Menge. Jedem Paar $(a, b) \\in G \\times G$ sei genau ein Element $a * b \\in G$ zugeordnet. Das Paar $(G, *)$ heißt abelsche Gruppe, wenn die Verknüpfung $*: G \\times G \\rightarrow G,(a, b) \\mapsto a * b$ die folgenden Gesetze erfüllt:\n",
        "\n",
        "1. Assoziativgesetz: Für alle $a, b, c \\in G$ gilt: $a *(b * c)=(a * b) * c$\n",
        "2. Kommutativgesetz: Für alle $a, b \\in G$ gilt: $a * b=b * a$\n",
        "3. Neutrales Element: Es gibt ein Element $e \\in G,$ so dass für alle $a \\in G$ gilt: $a * e=a$\n",
        "4. Inverses Element: Zu jedem $a \\in G$ gibt es ein $a^{-1} \\in G$ mit $a * a^{-1}=e$.\n",
        "\n",
        "Eine Gruppe $(G, *)$ heißt nichtabelsch, wenn in ihr mindestens ein Paar $(a, b)$ existiert mit $a * b \\neq b * a$\n",
        "\n",
        "* $(\\mathbb {Z} ,+)$ ist die wichtigste abelsche Gruppe. Dabei ist Z die Menge der ganzen Zahlen und + die gewöhnliche Addition.\n",
        "\n",
        "* $(\\mathbb {Q} ^{*},\\cdot )$ ist eine abelsche Gruppe. Dabei ist $\\mathbb {Q} ^{*}$ die Menge der rationalen Zahlen ohne die \n",
        "0 und ⋅ ist die gewöhnliche Multiplikation. Die Null muss hierbei ausgeschlossen werden, da sie kein inverses Element besitzt: „1/0“ ist nicht definiert.\n",
        "\n",
        "* Die Menge der Verschiebungen in der euklidischen Ebene bilden eine abelsche Gruppe. Die Verknüpfung ist die Hintereinanderausführung der Verschiebungen.\n",
        "\n",
        "* Die Menge der Drehungen in einer Ebene um einen Punkt bilden eine abelsche Gruppe. Die Verknüpfung ist die Hintereinanderausführung der Drehungen.\n",
        "\n",
        "* Die Menge der Drehstreckungen in einer Ebene bilden eine abelsche Gruppe.\n",
        "\n",
        "* Die Menge der endlichen Dezimalzahlen sind bezüglich der Multiplikation keine abelsche Gruppe. Zum Beispiel hat die Zahl 3 kein Inverses bezüglich der Multiplikation. $\\displaystyle {\\frac {1}{3}}$ lässt sich nicht als endlicher Dezimalbruch schreiben. Bezüglich der normalen Addition bilden die endlichen Dezimalbrüche eine abelsche Gruppe.\n",
        "Die Menge der Verschiebungen in der euklidischen Ebene bilden eine abelsche Gruppe. Die Verknüpfung ist die Hintereinanderausführung der Verschiebungen.\n",
        "\n",
        "* usw.: https://de.m.wikipedia.org/wiki/Abelsche_Gruppe"
      ]
    },
    {
      "cell_type": "markdown",
      "metadata": {
        "id": "6WXdK8VmN4Nj"
      },
      "source": [
        "**Freie Abelsche Gruppe**"
      ]
    },
    {
      "cell_type": "markdown",
      "metadata": {
        "id": "Vd_T1OhlN-Z3"
      },
      "source": [
        "* In der Mathematik ist eine freie abelsche Gruppe eine abelsche Gruppe, die als $\\mathbb {Z}$-Modul eine Basis hat.\n",
        "\n",
        "* Im Gegensatz zu Vektorräumen hat nicht jede abelsche Gruppe eine Basis, deshalb gibt es den spezielleren Begriff der freien abelschen Gruppe.\n",
        "\n",
        "* Jede abelsche Gruppe ist auf natürliche Weise ein $\\mathbb {Z}$ -Modul. Freie abelsche Gruppen sind daher nichts anderes als freie Moduln über $\\mathbb {Z}$."
      ]
    },
    {
      "cell_type": "markdown",
      "metadata": {
        "id": "_9N4KXC5N7f0"
      },
      "source": [
        "https://de.m.wikipedia.org/wiki/Freie_abelsche_Gruppe"
      ]
    },
    {
      "cell_type": "markdown",
      "metadata": {
        "id": "MsBW7Mc9Or8w"
      },
      "source": [
        "https://de.m.wikipedia.org/wiki/Freier_Modul"
      ]
    },
    {
      "cell_type": "markdown",
      "metadata": {
        "id": "fnd2z0hNOOFi"
      },
      "source": [
        "**Bedeutung (freier) abelscher Gruppen**"
      ]
    },
    {
      "cell_type": "markdown",
      "metadata": {
        "id": "DkYuB7lZOVcv"
      },
      "source": [
        "* Kann man von einer irgendwo in natürlicher Weise auftretenden Gruppe G zeigen, dass G eine freie abelsche Gruppe ist, so freut man sich:  denn es zeigt, **dass G eine sehr übersichtliche Struktur besitzt, dass man in G recht unproblematisch rechnen kann.** \n",
        "\n",
        "* Beispiel:  Ist V ein k-Vektorraum, wobei k ein Körper der Charakteristik Null ist, so ist jede Untergruppe von V, die von endlich vielen Vektoren erzeugt wird, eine freie abelsche Gruppe. (Wenn wir von Untergruppen von V reden, so betrachten wir nur die additive Struktur von V: Jeder Vektorraum ist ja bezüglich der Addition eine abelsche Gruppe.) \n",
        "\n",
        "* Weiß man, dass G eine freie abelsche Gruppe ist, **so wird man eine Basis wählen und alle Elemente als Linearkombinationen von Elementen dieser Basis ausdrücken**. Allerdings sollte man betonen, dass es meist keine ausgezeichnete Basis geben wird. Man sucht also eine geeignete Basis, in der die Elemente, an denen man interessiert sind, eine besonders einfache Form haben..."
      ]
    },
    {
      "cell_type": "markdown",
      "metadata": {
        "id": "Tv28yiNHOSs4"
      },
      "source": [
        "https://www.math.uni-bielefeld.de/~sek/top/leit/alg2.htm"
      ]
    },
    {
      "cell_type": "markdown",
      "metadata": {
        "id": "uNAk72BxycQE"
      },
      "source": [
        "##### <font color=\"blue\">**Lie Gruppe**"
      ]
    },
    {
      "cell_type": "markdown",
      "metadata": {
        "id": "Wj5WrEkbe_A3"
      },
      "source": [
        "* eine Lie-Gruppe ist eine mathematische Struktur, die zur Beschreibung von kontinuierlichen Symmetrien verwendet wird. \n",
        "\n",
        "* Formal handelt es sich bei einer Lie-Gruppe um eine Gruppe, die als differenzierbare Mannigfaltigkeit aufgefasst werden kann, sodass die Gruppenverknüpfung und Inversenbildung kompatibel mit dieser glatten Struktur sind.\n",
        "\n",
        "* Eine Lie-Gruppe ist eine [glatte reelle Mannigfaltigkeit](https://de.m.wikipedia.org/wiki/Differenzierbare_Mannigfaltigkeit#Glatte_Mannigfaltigkeit), die zusätzlich die Struktur einer Gruppe besitzt, so dass die Gruppenverknüpfung und die Inversion beliebig oft differenzierbar sind. (*Glatte Funktion: Eine glatte Funktion ist eine mathematische Funktion, die unendlich oft differenzierbar (insbesondere stetig) ist. Die Bezeichnung „glatt“ ist durch die Anschauung motiviert: Der Graph einer glatten Funktion hat keine „Ecken“, also Stellen, an denen sie nicht differenzierbar ist.*)"
      ]
    },
    {
      "cell_type": "markdown",
      "metadata": {
        "id": "CzfgyBiS6QOn"
      },
      "source": [
        "https://de.m.wikipedia.org/wiki/Lie-Gruppe"
      ]
    },
    {
      "cell_type": "markdown",
      "metadata": {
        "id": "WA7xSdDWirTD"
      },
      "source": [
        "**Lie-Algebra**"
      ]
    },
    {
      "cell_type": "markdown",
      "metadata": {
        "id": "kkqO6HRr458d"
      },
      "source": [
        "* ist eine algebraische Struktur, die mit einer Lie-Klammer versehen ist, d. h. es existiert eine antisymmetrische Verknüpfung, die die Jacobi-Identität erfüllt. \n",
        "\n",
        "* Lie-Algebren werden hauptsächlich zum Studium geometrischer Objekte wie Lie-Gruppen und differenzierbarer Mannigfaltigkeiten eingesetzt."
      ]
    },
    {
      "cell_type": "markdown",
      "metadata": {
        "id": "ldvhBQDfivPt"
      },
      "source": [
        "https://de.m.wikipedia.org/wiki/Lie-Algebra"
      ]
    },
    {
      "cell_type": "markdown",
      "metadata": {
        "id": "CmuHEBHk6VsG"
      },
      "source": [
        "##### <font color=\"blue\">**Galoistheorie**"
      ]
    },
    {
      "cell_type": "markdown",
      "metadata": {
        "id": "qkicJ2s-6YiR"
      },
      "source": [
        "https://de.wikipedia.org/wiki/Galoistheorie"
      ]
    },
    {
      "cell_type": "markdown",
      "metadata": {
        "id": "NZ2UQhmS6J2m"
      },
      "source": [
        "#### **Quotient Groups & Homomorphiesatz**"
      ]
    },
    {
      "cell_type": "markdown",
      "metadata": {
        "id": "aShRhfg5GrPX"
      },
      "source": [
        "#### **'Fundamental' Groups**"
      ]
    },
    {
      "cell_type": "markdown",
      "metadata": {
        "id": "DYd95ZikPxG7"
      },
      "source": [
        "##### <font color=\"blue\">**Trivial Group (Zero Group)**"
      ]
    },
    {
      "cell_type": "markdown",
      "metadata": {
        "id": "DCaLVo_nP2aQ"
      },
      "source": [
        "Die [triviale Gruppe](https://de.m.wikipedia.org/wiki/Triviale_Gruppe) ist in der Gruppentheorie eine Gruppe, deren Trägermenge genau ein Element enthält. Die triviale Gruppe ist bis auf Isomorphie eindeutig bestimmt. **Jede Gruppe enthält die triviale Gruppe als Untergruppe**.\n",
        "\n",
        "Die triviale Gruppe $(\\{e\\}, *)$ ist eine Gruppe, die aus der einelementigen Menge $\\{e\\}$ besteht und versehen ist mit der einzig möglichen Gruppenoperation\n",
        "\n",
        "$\n",
        "e * e=e\n",
        "$\n",
        "\n",
        "Das Element $e$ ist damit das **neutrale Element** der Gruppe."
      ]
    },
    {
      "cell_type": "markdown",
      "metadata": {
        "id": "NoATSFAfQ9i7"
      },
      "source": [
        "Alle trivialen Gruppen sind zueinander isomorph. Beispiele für triviale Gruppen sind:\n",
        "\n",
        "* die zyklische Gruppe $C_{1}$ vom Grad 1\n",
        "\n",
        "* die alternierende Gruppe $A_{2}$ vom Grad 2\n",
        "\n",
        "* die symmetrische Gruppe $S_{1}$ einer einelementigen Menge\n"
      ]
    },
    {
      "cell_type": "markdown",
      "metadata": {
        "id": "8WkzsL3wguXw"
      },
      "source": [
        "*Eigenschaften trivialer Gruppen*:\n",
        "\n",
        "* Da die Gruppenoperation $\\ast$ kommutativ ist, ist die triviale Gruppe eine abelsche Gruppe.\n",
        "\n",
        "* Die einzige Untergruppe der trivialen Gruppe ist die triviale Gruppe selbst.\n",
        "\n",
        "* Die triviale Gruppe wird von der leeren Menge erzeugt: \n",
        "$\\{e\\}=\\langle \\emptyset \\rangle$ . Hierbei ergibt das leere Produkt nach üblicher Konvention das neutrale Element.\n",
        "\n",
        "* Jede Gruppe enthält die triviale Gruppe und sich selbst als (triviale) Normalteiler. **Die triviale Gruppe wird daher meistens nicht als einfache Gruppe angesehen**, die aus genau 2 Normalteilern besteht).\n",
        "\n",
        "* In der Kategorie der Gruppen Grp fungiert die triviale Gruppe als Nullobjekt."
      ]
    },
    {
      "cell_type": "markdown",
      "metadata": {
        "id": "IGPylM19Td9A"
      },
      "source": [
        "##### <font color=\"blue\">**Charakteristische Untergruppe**"
      ]
    },
    {
      "cell_type": "markdown",
      "metadata": {
        "id": "TmbikAU9TkZt"
      },
      "source": [
        "**Charakteristische Untergruppe**\n",
        "\n",
        "* In der Gruppentheorie ist eine [charakteristische Untergruppe](https://de.m.wikipedia.org/wiki/Charakteristische_Untergruppe) einer Gruppe $G$ eine Untergruppe $H$, die unter jedem Automorphismus von $G$ in sich abgebildet wird.\n",
        "\n",
        "* Eine Untergruppe $H$ von $G$ heißt charakteristisch, wenn für jeden Automorphismus, das heißt bijektiven Gruppenhomomorphismus $f: G \\rightarrow G$, stets $f(H) \\subset H$ gilt.\n",
        "\n"
      ]
    },
    {
      "cell_type": "markdown",
      "metadata": {
        "id": "SNU8gb_lT-8z"
      },
      "source": [
        "**Charakteristische einfache Untergruppe**\n",
        "\n",
        "* eine Gruppe [charakteristisch einfach](https://de.m.wikipedia.org/wiki/Charakteristisch_einfache_Gruppe), wenn sie außer sich selbst und der trivialen Untergruppe keine weiteren charakteristischen Untergruppen enthält. "
      ]
    },
    {
      "cell_type": "markdown",
      "metadata": {
        "id": "I928UjHNKuZc"
      },
      "source": [
        "##### <font color=\"blue\">**Simple Group**"
      ]
    },
    {
      "cell_type": "markdown",
      "metadata": {
        "id": "Ug8YBjUSuUw4"
      },
      "source": [
        "https://youtu.be/jhVMBXl5jTA"
      ]
    },
    {
      "cell_type": "markdown",
      "metadata": {
        "id": "FXVFg6eAKyF0"
      },
      "source": [
        "* [Simple Groups](https://en.wikipedia.org/wiki/Simple_group) bzw. [einfache Gruppen](https://de.wikipedia.org/wiki/Einfache_Gruppe_(Mathematik)) **are the fundamental building blocks of finite groups** (just like Prime numbers are fundamental building blocks in number theory)\n",
        "\n",
        "* Just as you can factor integers into prime numbers, you can break apart some groups into a direct product of simpler groups.\n",
        "\n",
        "*  **a simple group is a <u>nontrivial</u> group whose only normal subgroups are the trivial group and the group itself.**\n",
        "\n",
        "* **Jede Gruppe hat sich selbst und die nur das neutrale Element enthaltende Menge als Normalteiler.** \n",
        "\n",
        "Damit stellt sich die Frage, welche Gruppen keine weitere Normalteiler besitzen. Bei diesen handelt es sich per definitionem gerade um die einfachen Gruppen.\n",
        "\n",
        "  * Eine Gruppe $G$ heisst einfach, falls sie als Normalteiler nur $G$ und $\\{e\\}$ mit dem neutralen Element $e$ hat. \n",
        "  * Außerdem wird zusătzlich $G \\neq\\{e\\}$ gefordert, wonach man knapper sagen kann: \n",
        "  * **Eine Gruppe heißt einfach, wenn sie genau zwei Normalteiler besitzt.**\n",
        "\n",
        "* A group that is not simple can be broken into two smaller groups, namely a nontrivial [normal subgroup](https://en.wikipedia.org/wiki/Normal_subgroup) and the corresponding quotient group. This process can be repeated, and for finite groups one eventually arrives at uniquely determined simple groups, by the [Jordan–Hölder theorem (Composition series)](https://en.wikipedia.org/wiki/Composition_series).\n",
        "\n",
        "* The complete classification of finite simple groups, completed in 2004, is a major milestone in the history of mathematics."
      ]
    },
    {
      "cell_type": "markdown",
      "metadata": {
        "id": "3jFJaNelSJOs"
      },
      "source": [
        "**Seit 1982 sind die endlichen einfachen Gruppen vollständig klassifiziert, die Liste besteht aus**\n",
        "\n",
        "* den zyklischen Gruppen von Primzahlordnung,\n",
        "\n",
        "* den alternierenden Gruppen $A_{n}$ mit $n\\geq 5$,\n",
        "\n",
        "* den Gruppen vom Lie-Typ (16 jeweils unendliche Serien)\n",
        "\n",
        "* 26 sporadischen Gruppen (Es handelt sich um die endlichen einfachen Gruppen, die sich nicht in eine der (18) systematischen Familien mit unendlich vielen Mitgliedern (von endlichen einfachen Gruppen) einordnen lassen.)"
      ]
    },
    {
      "cell_type": "markdown",
      "metadata": {
        "id": "jUMV7zliLwZE"
      },
      "source": [
        "**Direct product of groups (from simple groups)**"
      ]
    },
    {
      "cell_type": "markdown",
      "metadata": {
        "id": "5LTu3bISLvNY"
      },
      "source": [
        "* You can piece them together to create larger, more complex groups. One way is the direct product of groups.\n",
        "\n",
        "* For example combine two groups G1 and G2 (no matter finite or infinite, abelian or non-abelian) into a larger group via the direct product. Operation is done component-wise.\n",
        "\n",
        "* If any Group is non abelian, then the direct product will be non abelian as well.\n",
        "\n",
        "* **The direct product is a useful tool for breaking some groups into simpler groups (not all!).** This is because there are many groups which are NOT direct products of simpler groups. But there are other tools for deconstructing groups."
      ]
    },
    {
      "cell_type": "markdown",
      "metadata": {
        "id": "Olpm27wcOUH_"
      },
      "source": [
        "https://www.youtube.com/watch?v=rXLz8TdckWo&list=PLi01XoE8jYoi3SgnnGorR_XOW3IcK-TP6&index=21"
      ]
    },
    {
      "cell_type": "markdown",
      "metadata": {
        "id": "QQSRFOXm2QgM"
      },
      "source": [
        "##### <font color=\"blue\">**Finite Groups**"
      ]
    },
    {
      "cell_type": "markdown",
      "metadata": {
        "id": "kQMqvjVP2dnP"
      },
      "source": [
        "* Eine Gruppe ($G$,*) heißt [endliche Gruppe](https://de.m.wikipedia.org/wiki/Endliche_Gruppe), wenn $G$ eine endliche Menge ist, also eine endliche Anzahl von Elementen hat.\n",
        "\n",
        "* Die Annahme der Endlichkeit ermöglicht ein vereinfachtes Axiomensystem"
      ]
    },
    {
      "cell_type": "markdown",
      "metadata": {
        "id": "IX5DziJq3l5S"
      },
      "source": [
        "Ein Paar $(G, *)$ mit einer endlichen Menge $G$ und einer inneren zweistelligen Verknüpfung $*: G \\times G \\rightarrow G$ heißt Gruppe, wenn folgende Axiome erfüllt sind:\n",
        "\n",
        "* Assoziativität: Für alle Gruppenelemente $a, b, c$ gilt $(a * b) * c=a *(b * c)$,\n",
        "\n",
        "* [Kürzungsregel](https://de.m.wikipedia.org/wiki/Kürzbarkeit): Aus $a * x=a * x^{\\prime}$ oder $x * a=x^{\\prime} * a$ folgt $x=x^{\\prime}$\n",
        "\n",
        "Aus der Kürzungsregel folgt, dass die Links- und Rechtsmultiplikationen $x \\mapsto a * x$ und $x \\mapsto x * a$\n",
        "injektiv sind, woraus wegen der Endlichkeit auch die Surjektivität folgt. Daher gibt es ein $x$ mit\n",
        "$a * x=a,$ was zur Existenz des neutralen Elementes $e$ führt, und dann ein $x$ mit $a * x=e$, was\n",
        "die Existenz der inversen Elemente zeigt."
      ]
    },
    {
      "cell_type": "markdown",
      "metadata": {
        "id": "37qnbx7d0X_q"
      },
      "source": [
        "##### <font color=\"blue\">**Finite Simple Groups**"
      ]
    },
    {
      "cell_type": "markdown",
      "metadata": {
        "id": "EhN_XWVc0s5p"
      },
      "source": [
        "* [Endliche einfache Gruppen](https://de.m.wikipedia.org/wiki/Endliche_einfache_Gruppe) gelten in der Gruppentheorie als die Bausteine der [endlichen Gruppen](https://de.m.wikipedia.org/wiki/Endliche_Gruppe).\n",
        "\n",
        "* Die endlichen einfachen Gruppen spielen für die endlichen Gruppen eine ähnliche Rolle wie die Primzahlen für die natürlichen Zahlen: Jede endliche Gruppe lässt sich in ihre einfachen Gruppen „zerteilen“ (für die Art der Eindeutigkeit siehe den Satz von Jordan-Hölder). \n",
        "\n",
        "* Die Rekonstruktion einer endlichen Gruppe aus diesen ihren „Faktoren“ ist aber nicht eindeutig. \n",
        "\n",
        "* Es gibt jedoch keine „noch einfacheren Gruppen“, aus denen sich die endlichen einfachen Gruppen konstruieren lassen.\n",
        "\n",
        "Obwohl die endlichen einfachen Gruppen seit 1982 als vollständig klassifiziert galten, schlossen Mathematiker um Aschbacher die Klassifikation erst im Jahre 2002 mit einem 1200 Seiten langen Beweis ab:\n",
        "\n",
        "* Fast alle dieser Gruppen lassen sich einer von 18 Familien endlicher einfacher Gruppen zuordnen.\n",
        "\n",
        "* Es existieren 26 Ausnahmen. Diese Gruppen werden als **sporadische Gruppen** bezeichnet (Zu den sporadischen Gruppen zählen die Conway-Gruppe, das Babymonster und die **Monstergruppe** (mit fast 1054 Elementen die größte sporadische Gruppe)."
      ]
    },
    {
      "cell_type": "markdown",
      "metadata": {
        "id": "bgW5cUZIWtGI"
      },
      "source": [
        "[2004: Classification of Quasithin group](https://en.wikipedia.org/wiki/Quasithin_group)"
      ]
    },
    {
      "cell_type": "markdown",
      "metadata": {
        "id": "F4yhi0WWnwnf"
      },
      "source": [
        "**Klassifikation der endlichen einfachen Gruppe**"
      ]
    },
    {
      "cell_type": "markdown",
      "metadata": {
        "id": "OHAET4UPn4W1"
      },
      "source": [
        "Die endlichen einfachen Gruppen [lassen sich einteilen in](https://de.m.wikipedia.org/wiki/Endliche_einfache_Gruppe#Klassifikation) bzw [Classification of finite simple groups](https://en.m.wikipedia.org/wiki/Classification_of_finite_simple_groups), Every finite simple group is isomorphic to one of the following groups:\n",
        "\n",
        "* a member of one of three infinite classes of such, namely:\n",
        "\n",
        "  * (1) [zyklische Gruppen](https://de.m.wikipedia.org/wiki/Zyklische_Gruppe) von Primzahlordnung,\n",
        "\n",
        "  * (1) [alternierende Gruppen](https://de.m.wikipedia.org/wiki/Alternierende_Gruppe) $A_{n}$ mit $n>4$,\n",
        "\n",
        "  * (16) [Gruppen vom Lie-Typ](https://de.m.wikipedia.org/wiki/Gruppe_vom_Lie-Typ) über einem [endlichen Körper](https://de.m.wikipedia.org/wiki/Endlicher_Körper) (16 jeweils unendliche Familien),\n",
        "\n",
        "* (26) one of 26 groups called the \"sporadic groups\" / [26 sporadische Gruppen](https://de.m.wikipedia.org/wiki/Sporadische_Gruppe).\n",
        "\n",
        "* (1) the [Tits group](https://en.m.wikipedia.org/wiki/Tits_group) (which is sometimes considered a 27th sporadic group)"
      ]
    },
    {
      "cell_type": "markdown",
      "metadata": {
        "id": "lk3AEOE_qVfO"
      },
      "source": [
        "##### <font color=\"blue\">**Kleine Gruppen (List of small groups)**"
      ]
    },
    {
      "cell_type": "markdown",
      "metadata": {
        "id": "NHEfqjlKqcYl"
      },
      "source": [
        "* The [List of small groups](https://en.wikipedia.org/wiki/List_of_small_groups) contains finite groups of small [order](https://en.wikipedia.org/wiki/Order_(group_theory)) [up to](https://en.wikipedia.org/wiki/Up_to) [group isomorphism](https://en.wikipedia.org/wiki/Group_isomorphism).\n",
        "\n",
        "* Die folgende Liste enthält eine Auswahl [endlicher Gruppen kleiner Ordnung](https://de.m.wikipedia.org/wiki/Liste_kleiner_Gruppen).\n",
        "\n",
        "  * Diese Liste kann benutzt werden, um herauszufinden, zu welchen bekannten endlichen Gruppen eine Gruppe G isomorph ist. \n",
        "  \n",
        "  * Als erstes bestimmt man die Ordnung von G und vergleicht sie mit den unten aufgelisteten Gruppen gleicher Ordnung. \n",
        "  \n",
        "  * Ist bekannt, ob G abelsch (kommutativ) ist, so kann man einige Gruppen ausschließen. Anschließend vergleicht man die Ordnung einzelner Elemente von G mit den Elementen der aufgelisteten Gruppen, wodurch man G bis auf Isomorphie eindeutig bestimmen kann."
      ]
    },
    {
      "cell_type": "markdown",
      "metadata": {
        "id": "XtCoGdoRduf1"
      },
      "source": [
        "In der nachfolgenden Liste werden folgende Bezeichnungen verwendet:\n",
        "\n",
        "- $\\mathbb{Z}_{n}$ ist die zyklische Gruppe der Ordnung $n$ (die auch als $C_{n}$ oder $\\mathbb{Z} / n \\mathbb{Z}$ geschrieben wird).\n",
        "\n",
        "- $D_{n}$ ist die Diedergruppe der Ordnung $2 n$.\n",
        "\n",
        "- $S_{n}$ ist die symmetrische Gruppe vom Grad $n$, mit $n !$ Permutationen von $n$ Elementen.\n",
        "\n",
        "- $A_{n}$ ist die alternierende Gruppe vom Grad $n$, mit $n ! / 2$ Permutationen von $n$ Elementen für $n \\geq 2$.\n",
        "\n",
        "- Dic $_{n}$ ist die dizyklische Gruppe der Ordnung $4 n$.\n",
        "\n",
        "- $V_{4}$ ist die Klein'sche Vierergruppe der Ordnung $4 .$\n",
        "\n",
        "- $Q_{4 n}$ ist die Quaternionengruppe der Ordnung $4 n$ fur $n \\geq 2$.\n",
        "\n",
        "[Liste aller Gruppen bis Ordnung 20](https://de.m.wikipedia.org/wiki/Liste_kleiner_Gruppen#Liste_aller_Gruppen_bis_Ordnung_20)"
      ]
    },
    {
      "cell_type": "markdown",
      "metadata": {
        "id": "3K0iKodmxtTl"
      },
      "source": [
        "##### <font color=\"blue\">**Sporadische Gruppe**"
      ]
    },
    {
      "cell_type": "markdown",
      "metadata": {
        "id": "CvSWtLptj9mh"
      },
      "source": [
        "**Sporadische Gruppe**"
      ]
    },
    {
      "cell_type": "markdown",
      "metadata": {
        "id": "9qg1GeNmkJOV"
      },
      "source": [
        "Die [sporadischen Gruppen](https://de.m.wikipedia.org/wiki/Sporadische_Gruppe) sind 26 spezielle Gruppen in der Gruppentheorie. Es handelt sich um die [endlichen einfachen Gruppen](https://de.m.wikipedia.org/wiki/Endliche_einfache_Gruppe), die sich nicht in eine der [(18) systematischen Familien mit unendlich vielen Mitgliedern](https://de.m.wikipedia.org/wiki/Endliche_einfache_Gruppe#Familien_endlicher_einfacher_Gruppen) (von endlichen einfachen Gruppen) einordnen lassen."
      ]
    },
    {
      "cell_type": "markdown",
      "metadata": {
        "id": "Y24vIanNkC8l"
      },
      "source": [
        "**Baby-Monstergruppe**"
      ]
    },
    {
      "cell_type": "markdown",
      "metadata": {
        "id": "W6FzJy-fkFcR"
      },
      "source": [
        "https://de.m.wikipedia.org/wiki/Baby-Monstergruppe"
      ]
    },
    {
      "cell_type": "markdown",
      "metadata": {
        "id": "CWoNyFDIkGby"
      },
      "source": [
        "**Monstergruppe**"
      ]
    },
    {
      "cell_type": "markdown",
      "metadata": {
        "id": "GNAgG_goe1bL"
      },
      "source": [
        "https://de.m.wikipedia.org/wiki/Monstergruppe"
      ]
    },
    {
      "cell_type": "markdown",
      "metadata": {
        "id": "flSwiuvZxvYs"
      },
      "source": [
        "https://www.quantamagazine.org/mathematicians-chase-moonshine-string-theory-connections-20150312/"
      ]
    },
    {
      "cell_type": "markdown",
      "metadata": {
        "id": "yUpj7bMGBXEd"
      },
      "source": [
        "#### **Symmetrische Gruppen**"
      ]
    },
    {
      "cell_type": "markdown",
      "metadata": {
        "id": "SgHgS037zK0x"
      },
      "source": [
        "##### <font color=\"blue\">**Symmetrische Gruppen $S_{n}$**"
      ]
    },
    {
      "cell_type": "markdown",
      "metadata": {
        "id": "1QtRXipnWyQL"
      },
      "source": [
        "https://www.youtube.com/watch?v=3aNeCWRjh8I&list=PLi01XoE8jYoi3SgnnGorR_XOW3IcK-TP6&index=16"
      ]
    },
    {
      "cell_type": "markdown",
      "metadata": {
        "id": "7HjrxKrmoHW7"
      },
      "source": [
        "* Die Symmetrische Gruppe besteht aus allen Permutationen einer n-elementigen Menge, heißt also hier **muss es kein Objekt aus der Geometrie sein!**\n",
        "\n",
        "* Symmetrische gruppen haben ordnung n! für ein n, und **permutationsgruppen sind untergruppen davon**"
      ]
    },
    {
      "cell_type": "markdown",
      "metadata": {
        "id": "ebzW--29T-16"
      },
      "source": [
        "1. S3 = Group of Permutations on a set with 3 elements like {1, 2, 3} = 1,2,3 and 2,3,1, and 3,1,2 etc.\n",
        "\n",
        "2. S3 has n! = 3! = 9 elements. A symmetric group is a finite group with n factorial elements\n",
        "\n",
        "3. The order of Sn is n factorial |Sn| = n!\n",
        "\n",
        "Every finite group is a subgroup of a symmetric group ! ([Cayley's theorem](https://en.wikipedia.org/wiki/Cayley%27s_theorem))"
      ]
    },
    {
      "cell_type": "markdown",
      "metadata": {
        "id": "l8VdbmRNXMD6"
      },
      "source": [
        "* How to combine 2 permutations? A permutation acts like a function, like 1, 2, 3 replaced with 2,3,1. \n",
        "* It's a bijection from the set f{1,2,3} $\\,\\to\\,$ {1,2,3} with\n",
        "  * f(1) = 2\n",
        "  * f(2) = 3\n",
        "  * f(3) = 1\n",
        "* Treating group as function allows to define group operation. for example multiplication and s3 is just function composition\n",
        "* **except for S1 and S2, all symmetric groups are non abelian, means they are not commutative**. This means if you multiply two permutations of a symmetric group in a reverse order, you get the reversed result, not the same."
      ]
    },
    {
      "cell_type": "markdown",
      "metadata": {
        "id": "Mn1H88XYX7Rk"
      },
      "source": [
        "Symmetry Groups of Triangles\n",
        "\n",
        "* We introduce the connection between geometric figures and abstract algebra by showing how you can associate a group with triangles.  \n",
        "* **The more symmetric the triangle, the larger the group.** \n",
        "* We illustrate this by finding the group of symmetries for equilateral, isosceles and scalene triangles.\n",
        "* for example take a trianle, do nothing (identity element) and do a couple of transformations (rotate, flip etc)\n",
        "  * **6 group elements**: identity e, r for rotate once, r<sup>2</sup> for rotate twice, f for flip, rf for rotate and flip, r<sup>2</sup>f rotate twice and flip.\n",
        "  * rotate three times gives same position, so it's identity element r<sup>3</sup> = e bzw. |r| = 3\n",
        "  * And flipping twice is also an identity f<sup>2</sup> = e bzw. |f| = 2\n",
        "  * rotate twice clockwise a triangle gives the same result as roatte once counterclockwise r<sup>-1</sup> = r<sup>2</sup>\n",
        "* Nimmt man hingegen kein gleichseitiges Dreieck, sondern Dreiecke, die gestreckt sind, ergeben sich weniger Moglichkeiten der Rotation und Flipping, so dass man das Dreieck wieder in die gleiche Form versetzen kann. Im aeussersten Fall nur noch das Identity Element.\n",
        "* Daher: The more symmetric the triangle, the larger the group. "
      ]
    },
    {
      "cell_type": "markdown",
      "metadata": {
        "id": "bBmqBQAUzOfk"
      },
      "source": [
        "https://de.m.wikipedia.org/wiki/Symmetrische_Gruppe"
      ]
    },
    {
      "cell_type": "markdown",
      "metadata": {
        "id": "a0VNbaA6iomm"
      },
      "source": [
        "##### <font color=\"blue\">**Permutationsgruppe**"
      ]
    },
    {
      "cell_type": "markdown",
      "metadata": {
        "id": "IAIvwL8kisSj"
      },
      "source": [
        "* Permutations on n objects for a group: the **symmetric group** (https://youtu.be/MpKG6FmcIHk)\n",
        "\n",
        "* In der Gruppentheorie nennt man eine Gruppe von Permutationen einer endlichen Menge $M$ mit der Hintereinanderausführung als Gruppenverknüpfung [Permutationsgruppe](https://de.wikipedia.org/wiki/Permutationsgruppe). Die Gruppe aller Permutationen von $M$ nennt man ihre symmetrische Gruppe $S(M)$. \n",
        "\n",
        "* **Die Permutationsgruppen sind in diesem Sinne genau die Untergruppen der symmetrischen Gruppen**.\n",
        "\n",
        "* Nach dem [Satz von Cayley](https://de.wikipedia.org/wiki/Satz_von_Cayley) ist jede endliche Gruppe zu einer Untergruppe der symmetrischen Gruppe, also zu einer Permutationsgruppe isomorph. Insofern „ist“ jede endliche Gruppe eine Permutationsgruppe. "
      ]
    },
    {
      "cell_type": "markdown",
      "metadata": {
        "id": "MZLd_VjqNxOD"
      },
      "source": [
        "Sei $(G, \\cdot)$ eine Gruppe mit dem neutralen Element $e . G$ operiert genau dann als Permutationsgruppe auf $M$, wenn gilt:\n",
        "\n",
        "1. $M$ ist eine endliche Menge.\n",
        "\n",
        "2. $G$ operiert auf $M$, das bedeutet, dass eine Abbildung $G \\times M \\rightarrow M,(g, m) \\mapsto g \\circ m \\in M$ existiert, die den Regeln\n",
        "$e \\circ m=m,(g \\cdot h) \\circ m=g \\circ(h \\circ m)$ für alle $m \\in M ; g, h \\in G$\n",
        "gehorcht.\n",
        "\n",
        "3. Die Operation o ist treu (engl.: faithful, das heißt, es gilt: Ist $g \\circ m=h \\circ m$ für alle $m \\in M$, dann folgt $g=h$. Oder es gilt gleichwertig: $g \\circ m=m$ für alle $m \\in M$, dann folgt $g=e$."
      ]
    },
    {
      "cell_type": "markdown",
      "metadata": {
        "id": "JpaiUPeYP9jl"
      },
      "source": [
        "Eine Gruppenoperation, die nur die 2 . und 3. Bedingung erfüllt, heißt treu. $G$ operiert also genau dann als Permutationsgruppe auf $M$, wenn die Operation treu und $M$ endlich ist. Eine Gruppenoperation, die nur die $1 .$ und $2 .$ Bedingung erfüllt, wird als Permutationsdarstellung (engl.: permutation representation) von $G$ bezeichnet. $G$ operiert also genau dann als Permutationsgruppe auf $M$, wenn die Gruppenoperation eine treue\n",
        "Permutationsdarstellung ist."
      ]
    },
    {
      "cell_type": "markdown",
      "metadata": {
        "id": "WRBanKz0yHbj"
      },
      "source": [
        "**Cycle notation and cycle decomposition of permutations**"
      ]
    },
    {
      "cell_type": "markdown",
      "metadata": {
        "id": "Q8iIp2gT4tPM"
      },
      "source": [
        "https://youtu.be/MpKG6FmcIHk"
      ]
    },
    {
      "cell_type": "markdown",
      "metadata": {
        "id": "yBC9QFEHypfO"
      },
      "source": [
        "$\n",
        "\\left(\\begin{array}{lllll}\n",
        "1 & 2 & 3 & 4 & 5 \\\\\n",
        "3 & 5 & 4 & 1 & 2\n",
        "\\end{array}\\right)=\n",
        "$\n",
        "\n",
        "$\\left(\\begin{array}{lll}\n",
        "1 & 3 & 4\n",
        "\\end{array}\\right)\\left(\\begin{array}{ll}\n",
        "2 & 5\n",
        "\\end{array}\\right)$"
      ]
    },
    {
      "cell_type": "markdown",
      "metadata": {
        "id": "zpgskyMezIVe"
      },
      "source": [
        "* The permutation (3 5 4 1 2) **(and any other permutation) can be written as a product of two cycle. This is called a \"cycle decomposition\"**\n",
        "\n",
        "* first part is called a  \"3 cycle\"\n",
        "\n",
        "* the second part is a \"2 cycle\", also called \" Transposition\"\n",
        "\n",
        "* Shortcuts: one-cycles can be left out (i.e. when 5 maps to 5), and the initial input row is also be left out)\n",
        "\n",
        "* You don't need to start with 1, you can also start with any other number. You will get different results depending on the number you start with, but they are all the same and you typically start with the smallest number.\n",
        "\n",
        "* Also the order of the cycles doesn't matter (**Cycles with no numbers in common commute with each other**)\n",
        "\n",
        "  * (1 3 4) (2 5)\n",
        "\n",
        "  * (2 5) (1 3 4)\n",
        "\n",
        "* Thta is NOT the case if you multiply 2 different permutations together, because then a given number may appear twice in the resulting permutations. Thn the order is important."
      ]
    },
    {
      "cell_type": "markdown",
      "metadata": {
        "id": "h6WvyZ3V4gf_"
      },
      "source": [
        "Example for a multiplication with 2 different permutations:"
      ]
    },
    {
      "cell_type": "markdown",
      "metadata": {
        "id": "_sI4RIwa3fLT"
      },
      "source": [
        "$\n",
        "\\begin{array}{ll}\n",
        "a=\\left(\\begin{array}{lll}\n",
        "1 & 2 & 3 \\\\\n",
        "3 & 1 & 2\n",
        "\\end{array}\\right) & b=\\left(\\begin{array}{lll}\n",
        "1 & 2 & 3 \\\\\n",
        "3 & 2 & 1\n",
        "\\end{array}\\right) \\\\\n",
        "a=\\left(\\begin{array}{lll}\n",
        "1 & 3 & 2\n",
        "\\end{array}\\right) & b=\\left(\\begin{array}{ll}\n",
        "1 & 3\n",
        "\\end{array}\\right)\n",
        "\\end{array}\n",
        "$"
      ]
    },
    {
      "cell_type": "markdown",
      "metadata": {
        "id": "GbYHASr94eNY"
      },
      "source": [
        "$\n",
        "\\begin{aligned}\n",
        "a \\cdot b &=\\left(\\begin{array}{lll}\n",
        "1 & 3 & 2\n",
        "\\end{array}\\right)\\left(\\begin{array}{ll}\n",
        "1 & 3\n",
        "\\end{array}\\right) \\\\\n",
        "&=(1 \\quad 2)\n",
        "\\end{aligned}\n",
        "$"
      ]
    },
    {
      "cell_type": "markdown",
      "metadata": {
        "id": "CMYfvR7438ro"
      },
      "source": [
        "$\n",
        "\\begin{aligned}\n",
        "b \\cdot a &=\\left(\\begin{array}{ll}\n",
        "1 & 3\n",
        "\\end{array}\\right)\\left(\\begin{array}{lll}\n",
        "1 & 3 & 2\n",
        "\\end{array}\\right) \\\\\n",
        "&=\\left(\\begin{array}{ll}\n",
        "2 & 3\n",
        "\\end{array}\\right)\n",
        "\\end{aligned}\n",
        "$"
      ]
    },
    {
      "cell_type": "markdown",
      "metadata": {
        "id": "CgJCe8ZM39Q5"
      },
      "source": [
        "$\n",
        "a \\cdot b \\neq b \\cdot a\n",
        "$"
      ]
    },
    {
      "cell_type": "markdown",
      "metadata": {
        "id": "LJw8mSm3Esft"
      },
      "source": [
        "##### <font color=\"blue\">**Symmetrische Gruppe $S_{3}$ (Dihedral group of order 6 / degree 3)**"
      ]
    },
    {
      "cell_type": "markdown",
      "metadata": {
        "id": "YGRc2jsu7zFm"
      },
      "source": [
        "* Die [symmetrische Gruppe $S_{3}$](https://de.m.wikipedia.org/wiki/S3_(Gruppe)) bezeichnet im mathematischen Teilgebiet der Gruppentheorie eine bestimmte Gruppe mit 6 Elementen. Sie lässt sich beschreiben als\n",
        "Gruppe der sechs Permutationen einer dreielementigen Menge. \n",
        "\n",
        "* Alternative Bezeichnungen sind $S_{3}$ und $\\mathrm{Sym}_{3}$. Sie ist isomorph mit der Diedergruppe $D_{3}$, der Gruppe der Kongruenzabbildungen des gleichseitigen Dreiecks auf sich. Verallgemeinert man diese Konstruktion, indem man das gleichseitige Dreieck durch ein\n",
        "regelmäßiges $n$ -Eck ersetzt, so kommt man zum Begriff der Diedergruppe. Daher wird die hier besprochene Gruppe $S_{3}$ auch mit $D_{3}$ bezeichnet."
      ]
    },
    {
      "cell_type": "markdown",
      "metadata": {
        "id": "64RtihgJ8VQc"
      },
      "source": [
        "Betrachtet man die Kongruenzabbildungen, die ein gleichseitiges Dreieck in sich selbst überführen, so findet man 6 Möglichkeiten: $^{[1]}$\n",
        "- die identische Abbildung $e_{1}$\n",
        "- die Drehung $d$ um $120^{\\circ}$ um den Mittelpunkt des Dreiecks,\n",
        "- die Drehung $d^{2}$ um $240^{\\circ}$ um den Mittelpunkt des Dreiecks,\n",
        "- die drei Spiegelungen $s_{1}, s_{2}$ und $s_{3}$ an den drei Mittelsenkrechten des Dreiecks.\n"
      ]
    },
    {
      "cell_type": "markdown",
      "metadata": {
        "id": "gsCjXVLt8dLM"
      },
      "source": [
        "![ggg](https://upload.wikimedia.org/wikipedia/commons/a/ab/S3_Dreieck.PNG)"
      ]
    },
    {
      "cell_type": "markdown",
      "metadata": {
        "id": "DCnd5Mna80IK"
      },
      "source": [
        "**Elemente der S3 als Permutationen**"
      ]
    },
    {
      "cell_type": "markdown",
      "metadata": {
        "id": "0AtE5N5O9UGV"
      },
      "source": [
        "Eine Kongruenzabbildung des gleichseitigen Dreiecks ist bereits dadurch eindeutig festgelegt, wie die mit 1,2 und 3 bezeichneten Ecken aufeinander abgebildet werden.\n",
        "Jedes Element der $S_{3}$ kann daher als Permutation der Menge $\\{1,2,3\\}$ aufgefasst werden. Im Folgenden ist zuerst die Zweizeilenform angegeben, dahinter die Zyklenschreibweise $^{[3]}$ der Elemente sowie deren Ordnungen:"
      ]
    },
    {
      "cell_type": "markdown",
      "metadata": {
        "id": "L8-GYVHE9W82"
      },
      "source": [
        "$\n",
        "\\begin{array}{l}\n",
        "e=\\left(\\begin{array}{lll}\n",
        "1 & 2 & 3 \\\\\n",
        "1 & 2 & 3\n",
        "\\end{array}\\right)=(1) \\quad \\operatorname{ord}(e)=1 \\\\\n",
        "d=\\left(\\begin{array}{lll}\n",
        "1 & 2 & 3 \\\\\n",
        "2 & 3 & 1\n",
        "\\end{array}\\right)=(123) \\quad & \\operatorname{ord}(d)=3 \\\\\n",
        "d^{2}=\\left(\\begin{array}{lll}\n",
        "1 & 2 & 3 \\\\\n",
        "3 & 1 & 2\n",
        "\\end{array}\\right)=\\left(\\begin{array}{ll}\n",
        "1 & 3 & 2\n",
        "\\end{array}\\right) & \\text { ord }\\left(d^{2}\\right)=3\n",
        "\\end{array}\n",
        "$"
      ]
    },
    {
      "cell_type": "markdown",
      "metadata": {
        "id": "xxDv3giC9YPS"
      },
      "source": [
        "$\n",
        "\\begin{array}{l}\n",
        "s_{1}=\\left(\\begin{array}{lll}\n",
        "1 & 2 & 3 \\\\\n",
        "1 & 3 & 2\n",
        "\\end{array}\\right)=(23) \\quad \\text { ord }\\left(s_{1}\\right)=2\\\\\n",
        "s_{2}=\\left(\\begin{array}{lll}\n",
        "1 & 2 & 3 \\\\\n",
        "3 & 2 & 1\n",
        "\\end{array}\\right)=(13) \\quad \\text { ord }\\left(s_{2}\\right)=2\\\\\n",
        "s_{3}=\\left(\\begin{array}{lll}\n",
        "1 & 2 & 3 \\\\\n",
        "2 & 1 & 3\n",
        "\\end{array}\\right)=(12) \\quad \\text { ord }\\left(s_{3}\\right)=2\n",
        "\\end{array}\n",
        "$"
      ]
    },
    {
      "cell_type": "markdown",
      "metadata": {
        "id": "tSc2sBCXjgUq"
      },
      "source": [
        "##### <font color=\"blue\">**Alternierende Gruppe $A_{n}$**"
      ]
    },
    {
      "cell_type": "markdown",
      "metadata": {
        "id": "2JCkRCpiiSv2"
      },
      "source": [
        "* Die [alternierende Gruppe](https://de.m.wikipedia.org/wiki/Alternierende_Gruppe) vom Grad $n$ besteht **aus allen geraden Permutationen einer $n$ elementigen Menge**. \n",
        "\n",
        "* Die Verknüpfung der Gruppe ist die Verkettung (Hintereinanderausführung) der Permutationen. Meist wird einfach von der alternierenden Gruppe $A_{n}$ gesprochen.\n",
        "\n",
        "* **Die alternierenden Gruppen sind Untergruppen der entsprechenden symmetrischen Gruppen $S_{n}$.**\n",
        "\n",
        "* Eine besondere Bedeutung kommt der alternierenden Gruppe $A_{5}$ zu. Dass sie der einzige nicht-triviale Normalteiler von $S_{5}$ ist, ist ein wichtiger Bestandteil des Beweises des Satzes von Abel-Ruffini. Dieser Satz aus dem beginnenden 19. Jahrhundert besagt, dass Polynomgleichungen fünften oder höheren Grades nicht durch Wurzelausdrücke lösbar sind.\n",
        "\n",
        "https://www.youtube.com/watch?v=tAZPjWYWkYA\n",
        "\n",
        "* wie viele Fehlstaende hat eine Permutation? Das Signum der Permutation, ist -1 oder 1"
      ]
    },
    {
      "cell_type": "markdown",
      "metadata": {
        "id": "aoOaQO5oEfN6"
      },
      "source": [
        "**Die Signumfunktion von Permutationen bildet die Permutationen der symmetrischen Gruppe $\\mathbf{S}_{\\mathbf{n}}$ in die multiplikative Gruppe $(\\{-1,+1\\}, \\cdot)$ ab.**\n",
        "\n",
        "* Nach Satz $5325 \\mathrm{~F}$ ist sie ein Gruppenhomomorphismus. Nach Satz $5213 \\mathrm{C}$ ist der Kern dieses Homomorphismus ein Normalteiler von $\\mathbf{S}_{\\mathbf{n}}$. \n",
        "\n",
        "* **Diese Untergruppe heißt alternierende Gruppe und wird mit $\\mathbf{A}_{\\mathbf{n}}$ bezeichnet.**\n",
        "\n",
        "* Es gilt ord $\\left(\\mathbf{A}_{\\mathbf{n}}\\right)=\\operatorname{ord} \\mathbf{S}_{\\mathbf{n}} / 2$\n",
        "\n",
        "* Die [alternierende Gruppe](https://mathepedia.de/Alternierende_Gruppe.html) besteht genau aus allen geraden Permutationen."
      ]
    },
    {
      "cell_type": "markdown",
      "metadata": {
        "id": "zlrnrjU3CsnX"
      },
      "source": [
        "**Zyklen von Permutationen**\n",
        "\n",
        "$\\left(\\begin{array}{llll}1 & 2 & 3 & 4 \\\\ 3 & 1 & 2 & 4\\end{array}\\right)$ liefert $1 \\rightarrow 3 \\rightarrow 2 \\rightarrow 1 \\ldots$\n",
        "\n",
        "https://mathepedia.de/Zyklen.html\n",
        "\n",
        "Cycle notation with Cycle decomposition: https://www.youtube.com/watch?v=MpKG6FmcIHk\n",
        "\n",
        "Oder hier: https://www.youtube.com/watch?v=t40QqRIXLRs\n",
        "\n",
        "  1. you leave out one-cycles (when 5 matches to 5 for example)\n",
        "\n",
        "  2. 2 cycles are called transpositions\n",
        "\n",
        "  3. each of the numbers appear in only one cycle\n",
        "\n",
        "  4. you can change the order (since it's only a bunch of functions, where the numbers are not altered by the other cycles)\n",
        "\n",
        "  5. this (=3 and 4) is not the case if you multiply two different permutations"
      ]
    },
    {
      "cell_type": "markdown",
      "metadata": {
        "id": "XzgYJjwiDO7K"
      },
      "source": [
        "**Signum von Permutationen**\n",
        "\n",
        "* Das [Signum](https://mathepedia.de/Signum.html) (\n",
        "sgn) ist eine Vorzeichenfunktion für Permutationen, vergleichbar dem Vorzeichen von reellen Zahlen.\n",
        "\n",
        "* Wegen Satz 5325E können wir jede Permutation als Produkt von Transpositionen darstellen. Die Anzahl dieser Transpositionen trotz der Mehrdeutigkeit dieser Produkte für eine feste Permutation immer gerade oder ungerade. \n",
        "\n",
        "* Wir definieren das Signum einer Permutation \n",
        "π als  + 1, wenn sich  π als Produkt einer geraden Anzahl von Transpositionen darstellen lässt und −1, wenn die Anzahl der Faktoren ungerade ist.\n",
        "\n",
        "* Nach Anzahl der Faktoren heißen die Permutationen auch gerade bzw. ungerade Permutationen.\n",
        "\n",
        "* **Das [Signum](https://de.wikipedia.org/wiki/Vorzeichen_(Permutation)) ist als Abbildung ein Gruppenhomomorphismus von der symmetrischen Gruppe der Permutationen in die multiplikative Gruppe** über der Menge $\\{ +1, -1 \\}$. Ein wichtiges Einsatzbeispiel des Signums ist die Leibniz-Formel für Determinanten.\n",
        "\n"
      ]
    },
    {
      "cell_type": "markdown",
      "metadata": {
        "id": "tDAqTgdUi-qq"
      },
      "source": [
        "**1. Möglichkeit zur Ermittlung des Signum von Permutationen (Fehlstände bzw. Inversionen)**\n",
        "\n",
        "Nutzung des Permutationsgraphen - [Quelle](https://www.youtube.com/watch?v=FVHKKa_ybV0)\n",
        "\n",
        "Mit Nutzung der Formel zur Ermittlung des Signum der Permutationen (Fehlstände):\n",
        "\n",
        "> $\\operatorname{sign}(\\sigma)=(-1)^{r(\\sigma)}$\n",
        "\n",
        "Im obigen Beispiel bei 10 Fehlständen:\n",
        "\n",
        "> $\\operatorname{sign}(\\sigma)=(-1)^{10}=+1$\n",
        "\n",
        "![gg](https://raw.githubusercontent.com/deltorobarba/repo/master/permutationsgraph.png)\n",
        "\n"
      ]
    },
    {
      "cell_type": "markdown",
      "metadata": {
        "id": "igOEvqSskqTa"
      },
      "source": [
        "**2. Möglichkeit zur Ermittlung des Signum von Permutationen (Fehlstände bzw. Inversionen)**\n",
        "\n",
        "i < j bezieht sich auf obere Reihe \n",
        "\n",
        "$\\sigma(i)>\\sigma(j)$ bezieht sich auf untere Reihe\n",
        "\n",
        "Ein Fehlstand liegt vor, wenn an einer Stelle oben i < j gilt sowie gleichzeitig darunter $\\sigma(i)>\\sigma(j)$\n",
        "\n",
        "Nehmen wir ein Beispiel:\n",
        "\n",
        "$\\sigma=\\left[\\begin{array}{llllll}1 & 2 & 3 & 4 & 5 & 6 \\\\ 4 & 3 & 6 & 2 & 5 & 1\\end{array}\\right]$\n",
        "\n",
        "* Hier ist der erste Fehlstand bei (1,2), da oben 1 < 2 ist sowie unten 4 > 3 gilt. \n",
        "\n",
        "* Naechster Schritt ist <u>kein</u> Fehlstand, da oben 1 < 3, aber darunter <u>nicht</u> gilt 4 > 6.\n",
        "\n",
        "* Im Bild unten ist nachster Fehlstand (1,4) da die Formel an dieser Stelle Gueltigkeit hat:\n",
        "\n",
        "![gg](https://raw.githubusercontent.com/deltorobarba/repo/master/permutationsgraph_02.png)"
      ]
    },
    {
      "cell_type": "markdown",
      "metadata": {
        "id": "OtouCZAMmvxQ"
      },
      "source": [
        "**Permutationen als Produkt von Transpositionen darstellen**"
      ]
    },
    {
      "cell_type": "markdown",
      "metadata": {
        "id": "AjF8mKLan3Av"
      },
      "source": [
        "https://www.youtube.com/watch?v=H11SAK2apjE"
      ]
    },
    {
      "cell_type": "markdown",
      "metadata": {
        "id": "FM17bRWhi91h"
      },
      "source": [
        "https://de.wikibooks.org/wiki/Mathe_für_Nicht-Freaks:_Permutationen\n",
        "\n",
        "- Permutationen können in Transpositionen (Zweierzyklen) zerlegt werden.\n",
        "- Vorgehensweise: Permutation in Zyklen zerlegen, anschließend jeden Zyklus in Zweierzyklen zerlegen mittels der Formel $(a b c d)=(a b) \\circ(c d) \\circ(d c)$\n",
        "- Die Zerlegung in Transpositionen ist nicht eindeutig\n",
        "- Jedoch braucht man in jeder Zerlegung immer entweder gerade viele oder ungerade viele Transposition\n",
        "- Definition: Signum einer Permutation (1 = gerade Permutation, $-1$ ungerade Permutation)\n",
        "\n",
        "> Produktormel für das Signum $\\operatorname{sgn}(\\pi)=\\prod_{(x, y)} \\frac{\\pi(x)-\\pi(y)}{x-y}$ mit $1 \\leq x<y \\leq n$\n",
        "\n",
        "> anders: $\\operatorname{sgn}(\\pi)=\\prod_{1 \\leq i<j \\leq n} \\frac{\\pi(j)-\\pi(i)}{j-i}$\n",
        "\n",
        "- Analogon zur Vorzeichen bei ganzen Zahlen (negativ \" negativ ist positiv)\n",
        "- Produktregel für das Signum $\\operatorname{sgn}(\\pi \\circ \\rho)=\\operatorname{sgn}(\\pi) \\cdot \\operatorname{sgn}(\\rho)$\n",
        "- Gerade Permutationen bilden eine Untergruppe, Signum ist ein Gruppenhomomorphismus\n",
        "- Signum lässt sich anhand der Zyklenstruktur gut ablesen"
      ]
    },
    {
      "cell_type": "markdown",
      "metadata": {
        "id": "XNQsy5K0AJIp"
      },
      "source": [
        "**Gruppe $A_{4}$**\n",
        "\n",
        "https://de.m.wikipedia.org/wiki/A4_(Gruppe)\n",
        "\n",
        "Geometrisch entsteht die $A_{4}$ als Gruppe der Drehungen des regelmäßigen Tetraeders auf sich."
      ]
    },
    {
      "cell_type": "markdown",
      "metadata": {
        "id": "8NRzFBixAG4u"
      },
      "source": [
        "**Gruppe $A_{5}$**\n",
        "\n",
        "https://de.m.wikipedia.org/wiki/A5_(Gruppe)\n",
        "\n",
        "Sie findet eine geometrische Realisierung als Gruppe der Rotationen des Ikosaeders."
      ]
    },
    {
      "cell_type": "markdown",
      "metadata": {
        "id": "TsjdHk_BB_39"
      },
      "source": [
        "#### **Symmetriegruppen**"
      ]
    },
    {
      "cell_type": "markdown",
      "metadata": {
        "id": "sO3gFnsGoDHp"
      },
      "source": [
        "##### <font color=\"blue\">**Symmetriegruppe $Sym_{n}$**"
      ]
    },
    {
      "cell_type": "markdown",
      "metadata": {
        "id": "s71OBHDLn_lM"
      },
      "source": [
        "**Unterschied: Symmetriegruppen, Symmetrische Gruppen & Permutationsgruppen**\n",
        "\n",
        "* Not to be confused with Symmetric group: https://en.m.wikipedia.org/wiki/Symmetric_group\n",
        "\n",
        "* Zum Beispiel ist die Symmetriegruppe des Quadrates die D4 mit 8 Elementen, welche eine Permutationsgruppe ist, doch keine Symmetrische Gruppe.\n",
        "\n",
        "* Eine Symmetriegruppe ist eine Permutionsgruppe, nämlich eine Untergruppe der Symmetrischen Gruppe (aller Permutationen).\n",
        "\n",
        "* eine Symmetriegruppe besteht aus allen Kongruenzabbildungen, die ein Objekt wieder auf sich selbst abbilden. Das heißt also, **dass es hier immer um geometrische Objekte geht**.\n",
        "\n",
        "* **Die Symmetrische Gruppe besteht aus allen Permutationen einer n-elementigen Menge, heißt also hier muss es kein Objekt aus der Geometrie sein!**\n",
        "\n",
        "* symmetrische gruppen haben ordnung n! für ein n, und permutationsgruppen sind untergruppen davon (nicht notwendig diese ordnung, insbesondere nicht als symmetrische gruppe realisierbar)."
      ]
    },
    {
      "cell_type": "markdown",
      "metadata": {
        "id": "lxa1KsVJkkgc"
      },
      "source": [
        "**Eigenschaften von Symmetriegruppen**\n",
        "\n",
        "* Idee der Invarianz eines Gebildes gegenüber einer Gruppe automorpher Transformationen\n",
        "\n",
        "* In der mathematischen Gruppentheorie ist die [Symmetriegruppe](https://en.m.wikipedia.org/wiki/Symmetry_group) eines geometrischen Objektes die Gruppe, die aus der **Menge aller [Kongruenzabbildungen](https://de.wikipedia.org/wiki/Kongruenzabbildung) besteht, die das Objekt auf sich selbst abbilden**, zusammen mit der Verkettung von Abbildungen als Gruppenoperation.\n",
        "\n",
        "* Beispiel: Ein **Kreis oder ein Kreisring** sind rotationssymmetrisch im engeren Sinne. Eine Drehung um jeden beliebigen Winkel bildet sie auf sich selbst ab.\n",
        "\n",
        "* [Reguläre (regelmäßige) **Polygone**](https://de.wikipedia.org/wiki/Regelmäßiges_Polygon) sind typische rotationssymmetrische Figuren. Die Symmetriegruppe eines regelmäßigen n-Ecks ist die [Diedergruppe \n",
        "$D_{n}$](https://de.wikipedia.org/wiki/Diedergruppe) (Dihedral Group), bestehend aus genau n Drehungen und n Spiegelungen. Die Diedergruppe weist die Ordnung $2n$ auf und besteht aus\n",
        "\n",
        "  * n Rotationen der [zyklischen Gruppe $C_{n}$](https://de.wikipedia.org/wiki/Zyklische_Gruppe) und n Spiegelungen an den Symmetrieachsen durch den Mittelpunkt des Polygons.\n",
        "\n",
        "  * Ist n gerade, dann verläuft die eine Hälfte der Symmetrieachsen durch zwei gegenüberliegende Ecken und die andere Hälfte durch zwei Mittelpunkte gegenüberliegender Seiten. \n",
        "  \n",
        "  * Ist n ungerade, dann verlaufen alle Symmetrieachsen durch eine Ecke und den Mittelpunkt der gegenüberliegenden Seite.\n",
        "Jedes regelmäßige Polygon mit gerader Eckenzahl ist auch [punktsymmetrisch](https://de.wikipedia.org/wiki/Punktsymmetrie) bezüglich seines Mittelpunkts (Eine Figur ist punktsymmetrisch, wenn sie durch die Spiegelung an einem Symmetriepunkt auf sich selbst abgebildet wird.).\n",
        "\n",
        "* Ein **homogenes Tetraeder** ist invariant gegenüber 12 verschiedenen Rotationen. Diese werden hier als [Zykel-Graph](https://de.wikipedia.org/wiki/Zykel-Graph) zusammen mit den Rotationen um die 180°-Kante (blaue Pfeile) und der 120°-Scheitelpunkte (rötliche Pfeile) dargestellt. Die 12 Umdrehungen bilden die Rotationsgruppe (Symmetriegruppe) der Figur. Die Einfärbung der Flächen dient dabei lediglich der Veranschaulichung der Symmetrieoperationen, denn ein Tetraeder, dessen Seitenflächen so wie in der Grafik eingefärbt sind, besitzt keine Symmetrien."
      ]
    },
    {
      "cell_type": "markdown",
      "metadata": {
        "id": "9_W_pVa5DrWd"
      },
      "source": [
        "![hh](https://upload.wikimedia.org/wikipedia/commons/9/98/Tetrahedral_group_2.svg)"
      ]
    },
    {
      "cell_type": "markdown",
      "metadata": {
        "id": "LCu15dk4Eavr"
      },
      "source": [
        "*Eigenschaften*\n",
        "\n",
        "* **Diskretheit**: Eine Symmetriegruppe weist dann eine **diskrete Topologie** auf, wenn es so etwas wie „kleinste Schritte“ gibt. Praktisch gesehen ist eine Symmetriegruppe genau dann diskret, wenn es eine **untere Schranke** gibt, sowohl für die Längen aller (von Null verschiedenen) Verschiebungen als auch für die Drehwinkel aller Drehsymmetrien.\n",
        "\n",
        "* **Periodizität**: \n",
        "\n",
        "  * Man betrachtet die Menge aller in der Gruppe enthaltenen (von Null verschiedenen) Verschiebungen (Translationen) und bestimmt, wie viele dieser Vektoren linear unabhängig voneinander sind, man bestimmt also die Dimension der [linearen Hülle](https://de.wikipedia.org/wiki/Lineare_Hülle) dieser Verschiebungsvektoren.\n",
        "\n",
        "  * Enthält die Gruppe überhaupt keine Verschiebungen, so gibt es mindestens einen Punkt, der Fixpunkt aller Abbildungen ist. Man spricht in diesem Fall von einer **Punktgruppe**. Punktgruppen sind genau dann endlich, wenn sie diskret sind.\n",
        "Sobald die Gruppe mindestens eine Verschiebung enthält, enthält sie zumindest in euklidischer Geometrie automatisch unendlich viele Elemente.\n",
        "\n",
        "  * Entspricht die Zahl der linear unabhängigen Verschiebungsvektoren der Dimension des Raumes, in den das Objekt eingebettet ist, so gibt es einen beschränkten Teil des Objekts (eine Zelle), deren Bilder den gesamten Raum ausfüllen. Ist die Gruppe zusätzlich auch noch diskret, so spricht man von einer **Raumgruppe** und nennt das Muster periodisch. In diesem Fall gibt es einen beschränkten Fundamentalbereich von gleicher Dimension wie der Raum, also beispielsweise in der Ebene eine entsprechende von Null verschiedene Fläche."
      ]
    },
    {
      "cell_type": "markdown",
      "metadata": {
        "id": "Hn1gVS0AF4ls"
      },
      "source": [
        "*Klassifikation in der zweidimensionalen euklidischen Geometrie*"
      ]
    },
    {
      "cell_type": "markdown",
      "metadata": {
        "id": "CUw8lZPtHOFE"
      },
      "source": [
        "Die Symmetriegruppen in der euklidischen Ebene lassen sich wie folgt klassifizieren:\n",
        "\n",
        "**Diskret**\n",
        "\n",
        "* **Ohne Verschiebungen**\n",
        "\n",
        "  * **Ohne Achsenspiegelungen**: Familie der endlichen [zyklischen Gruppen](https://de.wikipedia.org/wiki/Zyklische_Gruppe) $C_{n}$ (für $n=1,2,\\ldots$), das sind alle Drehungen um einen Punkt um Vielfache von $\\tfrac{360^\\circ}{n}$\n",
        "\n",
        "    * $C_{1}$: Symmetriegruppe eines komplett unsymmetrischen Objektes, mit der Identität als einzigem Element\n",
        "\n",
        "    * $C_{2}$: Symmetriegruppe einer Punktspiegelung\n",
        "\n",
        "    * $C_{3}$: Symmetriegruppe einer Triskele\n",
        "\n",
        "    * $C_{4}$: Symmetriegruppe einer Swastika\n",
        "\n",
        "  * **Mit Achsenspiegelungen**: Familie der [Diedergruppen](https://de.wikipedia.org/wiki/Diedergruppe) $D_{n}$ (für $n=1,2,\\ldots$), das sind Drehungen wie $C_{n}$ zusammen mit \n",
        "n\n",
        "n Spiegelachsen durch den Mittelpunkt\n",
        "\n",
        "    * $D_{1}$: Einzelne Achsenspiegelung\n",
        "\n",
        "    * $D_{2}$: Symmetriegruppe eines nicht quadratischen Rechtecks, einer nicht quadratischen Raute (D2 ist isomorph zur Kleinschen Vierergruppe)\n",
        "\n",
        "    * $D_{n}$: Symmetriegruppe eines regelmäßigen n-Ecks\n",
        "\n",
        "* **Mit Verschiebungen**, die alle kollinear sind (Span der Translationen hat Rang 1): 7 [Friesgruppen](https://de.wikipedia.org/wiki/Friesgruppe)\n",
        "\n",
        "* **Mit mindestens zwei linear unabhängigen Verschiebungen**: [17 ebene kristallographische Gruppen](https://de.wikipedia.org/wiki/Ebene_kristallographische_Gruppe)\n",
        "\n",
        "**Nicht diskret**\n",
        "\n",
        "  * Ohne Verschiebungen: [Orthogonale Gruppe](https://de.wikipedia.org/wiki/Orthogonale_Gruppe) $O(2)$, das sind alle Symmetrien eines Kreises, also alle Drehungen und alle Spiegelungen an Achsen, die durch den Mittelpunkt gehen"
      ]
    },
    {
      "cell_type": "markdown",
      "metadata": {
        "id": "Td_9fFZ4kvXi"
      },
      "source": [
        "##### <font color=\"blue\">**Punktgruppe (Symmetriegruppe)**"
      ]
    },
    {
      "cell_type": "markdown",
      "metadata": {
        "id": "XCYIfb8FK16h"
      },
      "source": [
        "* Eine [Punktgruppe](https://de.wikipedia.org/wiki/Punktgruppe) ist ein **spezieller Typus einer Symmetriegruppe** der euklidischen Geometrie, der die Symmetrie eines endlichen Körpers beschreibt. \n",
        "\n",
        "* Alle Punktgruppen zeichnen sich dadurch aus, dass es einen Punkt gibt, der durch alle Symmetrieoperationen der Punktgruppe wieder auf sich selbst abgebildet wird.\n",
        "\n",
        "* Die Symmetrie eines Körpers wird mathematisch als Menge aller möglichen Symmetrieoperationen beschrieben (Symmetriegruppe). Mit Symmetrieoperationen sind dabei euklidische Bewegungen gemeint, die den Körper auf sich abbilden. Zu unterscheiden sind dabei gerade Bewegungen, welche die Orientierung erhalten und ungerade, welche die Orientierung umkehren, z. B. Spiegelungen an Ebenen.\n",
        "\n",
        "* Mögliche Symmetrieoperationen in Punktgruppen im dreidimensionalen, euklidischen Vektorraum sind die Symmetrieoperationen, die mindestens einen Fixpunkt besitzen: \n",
        "\n",
        "  * **Identitätsabbildung**, \n",
        "  \n",
        "  * **Punktspiegelung** an einem Inversionszentrum, \n",
        "  \n",
        "  * **Spiegelung** an einer Spiegelebene, \n",
        "  \n",
        "  * **Drehung** um eine Drehachse, \n",
        "  \n",
        "  * sowie als **Kombination daraus Drehspiegelung bzw. die gleichwertige Drehinversion**. \n",
        "\n",
        "  * Nicht: Die **Translation, die Schraubung und die Gleitspiegelung** können keine Elemente einer Punktgruppe sein, da sie keinen Fixpunkt besitzen.\n",
        "\n",
        "\n",
        "* Wenn man das Hintereinanderausführen von Symmetrieoperationen als additive Verknüpfung auffasst, erkennt man, dass eine Menge von Symmetrieoperationen eine (in der Regel nicht kommutative) Gruppe ist.\n",
        "\n",
        "\n"
      ]
    },
    {
      "cell_type": "markdown",
      "metadata": {
        "id": "XrSgYJo8QkWj"
      },
      "source": [
        "* Aufgrund des [Neumannschen Prinzips](https://de.wikipedia.org/wiki/Neumannsches_Prinzip) bestimmt die Punktgruppe die makroskopischen Eigenschaften des Körpers. Weitere Aussagen lassen sich mit Hilfe der Darstellungstheorie gewinnen.\n",
        "\n",
        "  * **Das Neumannsche Prinzip ist ein Symmetrieprinzip. Es verknüpft die Struktur eines Kristalls mit seinen physikalischen Eigenschaften.**\n",
        "\n",
        "  * Das Neumannsche Prinzip besagt, dass die Symmetrie der physikalischen Eigenschaften eines Kristalls die Symmetrieelemente der Punktgruppe des Kristalls enthalten muss.\n",
        "  \n",
        "  * Die physikalischen Eigenschaften eines Kristalls sind im Allgemeinen anisotrop. Sie hängen sowohl von der Richtung der einwirkenden Kraft, als auch von der Richtung der untersuchten Wirkung ab. Daher werden diese Eigenschaften mit Hilfe von Tensoren beschrieben. Das Neumannsche Prinzip verlangt, dass jede Symmetrieabbildung des Kristalls auch eine Symmetrieabbildung dieses Tensors sein muss. \n",
        "\n",
        "* Verwendet werden die Punktgruppen in der [Molekülphysik](https://de.wikipedia.org/wiki/Molekülphysik) und der [Kristallographie](https://de.wikipedia.org/wiki/Kristallographie), wo die 32 kristallographischen Punktgruppen auch Kristallklassen genannt werden. Bezeichnet werden die Punktgruppen in der [Schoenflies-Notation](https://de.wikipedia.org/wiki/Schoenflies-Symbolik). \n",
        "\n",
        "* In der Kristallographie wird inzwischen hauptsächlich die [Hermann-Mauguin-Symbolik](https://de.wikipedia.org/wiki/Hermann-Mauguin-Symbolik) verwendet. (Ihr Hauptanwendungsgebiet ist die Beschreibung der 32 kristallographischen Punktgruppen und der 230 kristallographischen Raumgruppen.)\n",
        "\n",
        "* Siehe auch [Kristallsystem](https://de.wikipedia.org/wiki/Kristallsystem) und Beispiele triklin, monoklin, orthorhombisch etc."
      ]
    },
    {
      "cell_type": "markdown",
      "metadata": {
        "id": "oT8tI_uOMvVD"
      },
      "source": [
        "**In den drei Raumdimensionen ergeben sich 32 mögliche kristallographische Punktgruppen**. Sie werden gemäß Schoenflies in folgende Untergruppen eingeordnet.\n",
        "\n",
        "Die diskreten Punktgruppen mit maximal einer ausgezeichneten \n",
        "n-zähligen Drehachse können zusätzlich mit Spiegelebenen und zweizähligen Drehachsen kombiniert sein. Insgesamt gibt es folgende Möglichkeiten:\n",
        "\n",
        "* [Drehgruppen](https://de.wikipedia.org/wiki/Drehgruppe): C\n",
        "\n",
        "* [Drehspiegelgruppen](https://de.wikipedia.org/wiki/Drehspiegelgruppe): S\n",
        "\n",
        "* [Diedergruppen](https://de.wikipedia.org/wiki/Diedergruppe): D\n",
        "\n",
        "Die Punktgruppen, die mindestens zwei Drehachsen mit einer Zähligkeit größer zwei besitzen, entsprechen den Symmetriegruppen der platonischen Körper.\n",
        "\n",
        "\n",
        "* [Tetraedergruppen](https://de.wikipedia.org/wiki/Tetraedergruppe): T\n",
        "\n",
        "* [Oktaedergruppen](https://de.wikipedia.org/wiki/Oktaedergruppe): O\n",
        "\n",
        "* [Ikosaedergruppen](https://de.wikipedia.org/wiki/Ikosaedergruppe): I\n",
        "\n",
        "Die kontinuierlichen Punktgruppen werden auch Curie-Gruppen genannt. Sie bestehen aus den Zylindergruppen (mit einer unendlichzähligen Drehachse) und den Kugelgruppen (mit zwei unendlichzähligen Drehachsen).\n",
        "\n",
        "* [Kugelgruppen (Curie-Gruppen)](https://de.wikipedia.org/wiki/Curie-Gruppe): K"
      ]
    },
    {
      "cell_type": "markdown",
      "metadata": {
        "id": "lkRRFvUTO-S5"
      },
      "source": [
        "**Siehe hier die: [Die 32 kristallographischen Punktgruppen (Kristallklassen)](https://de.wikipedia.org/wiki/Punktgruppe#Die_32_kristallographischen_Punktgruppen_(Kristallklassen))** sowie zusatzlich die [Punktgruppen in der Molekülphysik](https://de.wikipedia.org/wiki/Punktgruppe#Punktgruppen_in_der_Molekülphysik)"
      ]
    },
    {
      "cell_type": "markdown",
      "metadata": {
        "id": "yxBdAnxzNkm4"
      },
      "source": [
        "*Beispiel (**Friesgruppen**): Eine Gruppe des Typs F1 enthält nur Translationen. **Gruppen des Typs F2 enthalten Translationen sowie Punktspiegelungen an Zentren**. Bandornamentgruppen dieses Typs enthalten Translationen sowie Spiegelungen an Achsen senkrecht zu Friesrichtung.*\n",
        "\n",
        "![fff](https://raw.githubusercontent.com/deltorobarba/repo/master/friesgruppe.png)"
      ]
    },
    {
      "cell_type": "markdown",
      "metadata": {
        "id": "qF8T8Eiak11U"
      },
      "source": [
        "##### <font color=\"blue\">**Raumgruppe (Symmetriegruppe)**"
      ]
    },
    {
      "cell_type": "markdown",
      "metadata": {
        "id": "Tl-B38VuQtSd"
      },
      "source": [
        "* Eine kristallographische [Raumgruppe](https://de.wikipedia.org/wiki/Raumgruppe) oder kurz Raumgruppe **beschreibt mathematisch die Symmetrie der Anordnung von Atomen, Ionen und Molekülen in einer Kristallstruktur**. Der Begriff „Gruppe“ stammt aus der Gruppentheorie.\n",
        "\n",
        "* Beispielsweise kann ein Bestandteil (etwa ein Sulfat-Ion) der Struktur durch Spiegelung oder Drehung eines anderen Bestandteils (in diesem Falle eines anderen Sulfations) erhalten werden. **Zur Beschreibung der kompletten Kristallstruktur ist dann nur die Beschreibung des ersten Ions notwendig**, das zweite Ion wird durch die Symmetrieoperation der Spiegelung oder Drehung erhalten.\n",
        "\n",
        "*  Die Abbildung unten zeigt das am Beispiel der Kristallstruktur von Eis. Der rechte Sechsring ist das Spiegelbild des linken Sechsrings; die Raumgruppe gibt (neben anderen) diese Symmetrieeigenschaft wieder."
      ]
    },
    {
      "cell_type": "markdown",
      "metadata": {
        "id": "XVaWcQRoQ6RI"
      },
      "source": [
        "*Spiegelsymmetrie in der Kristallstruktur von Eis*\n",
        "\n",
        "![hh](https://upload.wikimedia.org/wikipedia/commons/thumb/9/93/Mirror_plane_in_the_ice_structure.png/470px-Mirror_plane_in_the_ice_structure.png)"
      ]
    },
    {
      "cell_type": "markdown",
      "metadata": {
        "id": "5A0vdypkRdKz"
      },
      "source": [
        "* Die Raumgruppe ist eine diskrete Untergruppe der [euklidischen Bewegungsgruppe](https://de.wikipedia.org/wiki/Bewegung_(Mathematik)#Die_Bewegungsgruppe_(Euklidische_Gruppe)) eines euklidischen (affinen) Raums mit beschränktem Fundamentalbereich.\n",
        "\n",
        "* *Euklidischen Bewegungsgruppe: Die Hintereinanderausführung zweier Bewegungen ergibt wieder eine Bewegung. Die Bewegungen bilden also eine Gruppe, die Bewegungsgruppe oder euklidische Gruppe.*\n",
        "\n",
        "* Die Raumgruppen gehören zu den Symmetriegruppen und werden üblicherweise mithilfe der Hermann-Mauguin-Symbolik oder manchmal auch in der Schoenflies-Symbolik beschrieben.\n",
        "\n",
        "* Während sich die kristallographischen Punktgruppen aus nicht-translativen Symmetrieoperationen (z. B. Rotationen oder Spiegelungen) zusammensetzen, wird bei der Bestimmung der unterschiedlichen Raumgruppen diese Forderung aufgeweicht zugunsten translativer Symmetrieoperationen (daraus ergeben sich z. B. [Gleitspiegelebenen](https://de.wikipedia.org/wiki/Gleitspiegelung) und [Schraubenachsen](https://de.wikipedia.org/wiki/Schraubung)) und den Gittertranslationen. Daraus ergibt sich eine Vielzahl neuer Symmetriegruppen, die Raumgruppen."
      ]
    },
    {
      "cell_type": "markdown",
      "metadata": {
        "id": "iCXy1XplS8Ng"
      },
      "source": [
        "Die Isometriegruppe $\\operatorname{Isom}\\left(\\mathbb{R}^{n}\\right)$ des $n$ -dimensionalen euklidischen Raumes $\\mathbb{R}^{n}$ ist die Gruppe\n",
        "\n",
        ">$\n",
        "\\operatorname{Isom}\\left(\\mathbb{R}^{n}\\right)=O(n) \\ltimes \\mathbb{R}^{n},\n",
        "$\n",
        "\n",
        "wobei $O(n)$ die orthogonale Gruppe, bestehend aus Spiegelungen und Drehungen um den Nullpunkt ist und $\\mathbb{R}^{n}$ als Gruppe der Verschiebungen des $\\mathbb{R}^{n}$ aufgefasst wird.\n",
        "\n",
        "Eine kristallographische Gruppe vom Rang $n$ ist eine diskrete und kokompakte Untergruppe von $\\operatorname{Isom}\\left(\\mathbb{R}^{n}\\right)$. (Eine Untergruppe $\\Gamma \\subset \\operatorname{Isom}\\left(\\mathbb{R}^{n}\\right)$ heißt diskret, wenn es zu keinem $\\gamma \\in \\Gamma$ eine Folge $\\left(\\gamma_{n}\\right)_{n} \\subset \\Gamma$ mit $\\gamma_{n} \\neq \\gamma$ und $\\lim _{n \\rightarrow \\infty} \\gamma_{n}=\\gamma$ gibt. Sie heißt kokompakt, wenn der Quotientenraum $\\Gamma \\backslash \\mathbb{R}^{n}$ kompakt ist.)\n",
        "\n",
        "Eine Bieberbach-Gruppe ist eine torsionsfreie kristallographische Gruppe. (Eine Gruppe $\\Gamma$ mit neutralem Element $e$ heißt torsionsfrei, wenn aus $\\gamma \\neq e$ und $n \\neq 0$ stets $\\gamma^{n} \\neq e$ folgt.)"
      ]
    },
    {
      "cell_type": "markdown",
      "metadata": {
        "id": "Jh8K1nGATqiW"
      },
      "source": [
        "**Eine vollständige Liste der 230 dreidimensionalen Raumgruppen ist in der [Liste der Raumgruppen](https://de.wikipedia.org/wiki/Liste_der_Raumgruppen) zu finden.**\n",
        "\n",
        "* Liste der triklinen Raumgruppen\n",
        "*\tListe der monoklinen Raumgruppen\n",
        "*\tListe der orthorhombischen Raumgruppen\n",
        "*\tListe der tetragonalen Raumgruppen\n",
        "*\tListe der trigonalen Raumgruppen\n",
        "*\tListe der hexagonalen Raumgruppen\n",
        "* Liste der kubischen Raumgruppen"
      ]
    },
    {
      "cell_type": "markdown",
      "metadata": {
        "id": "ZV0GhhALuWSO"
      },
      "source": [
        "##### <font color=\"blue\">**Cyclic Groups $C_{n}$**"
      ]
    },
    {
      "cell_type": "markdown",
      "metadata": {
        "id": "yQnSIQtxU0K1"
      },
      "source": [
        "**All cyclic groups:** (es gibt nicht mehr!!)\n",
        "\n",
        "* Infinite: Z, +\n",
        "\n",
        "* Finite: Z / nZ, + with: Z, Z/2Z, Z/3Z, Z/4Z,..\n",
        "\n",
        "* Trivial group: {e}"
      ]
    },
    {
      "cell_type": "markdown",
      "metadata": {
        "id": "pOKWfpuAufDj"
      },
      "source": [
        "* Why are they so important? „Fundamental Theorem of Finitely Generated Abelian Groups“\n",
        "* Means: any abelian group, that is finitely generated can be broken apart into a finite number of cyclic groups\n",
        "* And every cyclic group is either integers, or integers mod N\n",
        "* So cyclic groups are fundamental building blocks for finitely generated abelian groups"
      ]
    },
    {
      "cell_type": "markdown",
      "metadata": {
        "id": "VU8_MgUbluNH"
      },
      "source": [
        "https://www.youtube.com/watch?v=8A84sA1YuPw"
      ]
    },
    {
      "cell_type": "markdown",
      "metadata": {
        "id": "TF4X4BeZmdlu"
      },
      "source": [
        "https://en.wikipedia.org/wiki/Cyclic_group"
      ]
    },
    {
      "cell_type": "markdown",
      "metadata": {
        "id": "ACunDDlyuapF"
      },
      "source": [
        "* A group G is cyclic if it‘s generated by a single element G = <x>\n",
        "* Let G be a group with operation * and pick x element G\n",
        "* What‘s the smallest subgroup of G that contains x ?\n",
        "    * Its inverse x -1\n",
        "    * It‘s identity element 1 (for multiplication)\n",
        "    * All powers of x (squared etc) and powers of inverse of c\n",
        "* <x> = { ..., x -4, x -3, x -2, x -1, 1, x, x 2, x 3,.. } DIE ziffern sind hier hochgestellt als potenzen !!\n",
        "* If G = <x> for some x, then we call G a cyclic group, or: if G contains an element ‚x‘ such that G equals the group generated by ‚x‘, then we say G is a cyclic group\n",
        "* And for group H under operation + pick y element of H, group generated by y = smallest subgroup of H containing y. <y> = {.., -3y, -2y, -y, 0, 2y, 3y, ..}\n",
        "* Examples: **Integers are a cyclic group!** (And specifically an infinite cyclic group)\n",
        "\n",
        "    * Gruppe kann durch ein Elemente komplett erstellt werden: 1, sein identity element 0, die inverse -1 und alle muptlicatives von 1 zB 2,3 4, sowie negativ -2, -3, -4 etc. Dann hat man die komplette Gruppe der Integers aus einem Element (der 1) abgeleitet. Dann ist es eine cyclic group :)\n",
        "    * Integers under addition,\n",
        "    * Claim: Z = <1>\n",
        "    * <1> = { .., -4, -3, -2, -1, 0, 1, 2, 3, ..}\n",
        "* Finite cyclic group: Integers mod n under addition\n",
        "    * Elements: {0, 1, 2, 3... , n -1}\n",
        "    * The group generated by 1 repeats itself. It cycles through the numbers 0 through N -1 over and over.\n",
        "    * It‘s written like this: Integers mod n: Z / n Z\n",
        "    * This will makes sense once studied quotient groups"
      ]
    },
    {
      "cell_type": "markdown",
      "metadata": {
        "id": "z0WJnTIEvpUa"
      },
      "source": [
        "![alternativer Text](https://raw.githubusercontent.com/deltorobarba/repo/master/finitecyclicgroups1.png)"
      ]
    },
    {
      "cell_type": "markdown",
      "metadata": {
        "id": "8tHQRgl9vz6r"
      },
      "source": [
        "![alternativer Text](https://raw.githubusercontent.com/deltorobarba/repo/master/finitecyclicgroups2.png)"
      ]
    },
    {
      "cell_type": "markdown",
      "metadata": {
        "id": "-eYfKvd1kEkY"
      },
      "source": [
        "##### <font color=\"blue\">**Didiergruppe D (Dihedral Group)**"
      ]
    },
    {
      "cell_type": "markdown",
      "metadata": {
        "id": "6iZ_jjAEVYfJ"
      },
      "source": [
        "![ff](https://upload.wikimedia.org/wikipedia/commons/9/93/Polygons.png)"
      ]
    },
    {
      "cell_type": "markdown",
      "metadata": {
        "id": "5K2ltcT_D9_D"
      },
      "source": [
        "* when the shape is a regular [polygon](https://de.wikipedia.org/wiki/Polygon), the group of symmetries is called the dihedral group bzw. [Didiergruppe](https://de.m.wikipedia.org/wiki/Diedergruppe)\n",
        "\n",
        "  * Ein Polygon ist ein zweidimensionales [Polytop](https://de.wikipedia.org/wiki/Polytop_(Geometrie))\n",
        "\n",
        "* dihedral means 'two faces' and is related to polyhedron which means 'many faces'\n",
        "\n",
        "* analysis of symmetries for a regular polygon with n sides\n",
        "\n",
        "* possible transformations:\n",
        "\n",
        "  * nothing, e for identity\n",
        "\n",
        "  * rotation (r) by $\\theta=(360 / \\mathrm{n})^{\\circ}$ bzw. $\\theta=2 \\pi / \\mathrm{n}$ radians\n",
        "\n",
        "  * reflection (f for flip)\n",
        "\n",
        "  * combination of R and F (i.e. first flip, then reflect)\n",
        "\n",
        "* in total of 2n different symmetries for a regular n-side polygon: \n",
        "\n",
        "  * $\\begin{array}{lllll}\\text { e, } & r, & r^{2}, & \\ldots, & r^{n-1}\\end{array}$ \n",
        "  \n",
        "  * $f, \\quad r \\cdot f, \\quad r^{2} \\cdot f, \\ldots, \\quad r^{n-1} \\cdot f$\n",
        "\n",
        "* it's non-abelian (non commutative), because results are different if you flip and rotate, or first rotate and then flip, r * f ≠ f * r\n",
        "\n",
        "* dihedral group is a finite group ! (because there is only a finite number of elements in this group)"
      ]
    },
    {
      "cell_type": "markdown",
      "metadata": {
        "id": "G4Iz1hZFvy_i"
      },
      "source": [
        "https://www.youtube.com/watch?v=rPh7EQPSaO4&list=PLi01XoE8jYoi3SgnnGorR_XOW3IcK-TP6&index=18"
      ]
    },
    {
      "cell_type": "markdown",
      "metadata": {
        "id": "4oNU5K5YPdbg"
      },
      "source": [
        "![cc](https://raw.githubusercontent.com/deltorobarba/repo/master/dihedral.png)"
      ]
    },
    {
      "cell_type": "markdown",
      "metadata": {
        "id": "1ynBhMdIlrwJ"
      },
      "source": [
        "##### <font color=\"blue\">**Coxeter Gruppe (inkl. Diedergruppe $D_{n}$)**"
      ]
    },
    {
      "cell_type": "markdown",
      "metadata": {
        "id": "yOnxYDjAlwvt"
      },
      "source": [
        "* A [Coxeter group](https://en.wikipedia.org/wiki/Coxeter_group), named after H. S. M. Coxeter, is an abstract group that admits a formal description in terms of reflections (or kaleidoscopic mirrors). \n",
        "\n",
        "* Indeed, the finite Coxeter groups are precisely the finite Euclidean reflection groups; the symmetry groups of regular polyhedra are an example. \n",
        "\n",
        "* However, not all Coxeter groups are finite, and not all can be described in terms of symmetries and Euclidean reflections. Coxeter groups were introduced in 1934 as abstractions of reflection groups (Coxeter 1934), and finite Coxeter groups were classified in 1935 (Coxeter 1935)."
      ]
    },
    {
      "cell_type": "markdown",
      "metadata": {
        "id": "nDnelMFcPS4y"
      },
      "source": [
        "##### <font color=\"blue\">**Friesgruppe**"
      ]
    },
    {
      "cell_type": "markdown",
      "metadata": {
        "id": "CSyqaRZ8PU1Q"
      },
      "source": [
        "https://de.wikipedia.org/wiki/Friesgruppe"
      ]
    },
    {
      "cell_type": "markdown",
      "metadata": {
        "id": "wRsJ0z5cM5b7"
      },
      "source": [
        "#### **Lie-Gruppen & Lie Algebra**"
      ]
    },
    {
      "cell_type": "markdown",
      "metadata": {
        "id": "FhAHCh1wOaYe"
      },
      "source": [
        "*Siehe auch Beispiele unter Tensoranalysis: \"Tangential-, Kotangential- & Normalvektor\". Insbesondere Tangential- und Kotangentialraum*."
      ]
    },
    {
      "cell_type": "markdown",
      "metadata": {
        "id": "ZTyTyb1b4nCo"
      },
      "source": [
        "Mit der Lie-Gruppe $\\mathrm{SO}(n)$ ist eine Lie-Algebra $\\mathfrak{s o}(n)$ verknüpft, ein Vektorraum mit einem bilinearen alternierenden Produkt (Lie-Klammer), wobei der Vektorraum bezüglich der Lie- Klammer abgeschlossen ist. \n",
        "\n",
        "* Dieser Vektorraum ist isomorph zum Tangentialraum am neutralen Element der $\\mathrm{SO}(n)$ (neutrales Element ist die Einheitsmatrix), sodass insbesondere $\\operatorname{dim}_\\mathfrak{s o}(n)=\\operatorname{dim} \\mathrm{SO}(n)$ gilt. \n",
        "\n",
        "* Die Lie-Algebra besteht aus allen schiefsymmetrischen $n \\times n$\n",
        "-Matrizen und ihre Basis sind die sog. Erzeugenden. \n",
        "\n",
        "* Die Exponentialabbildung verknüpft die Lie-Algebra mit der Lie-Gruppe:\n",
        "\n",
        "> $\\exp : \\mathfrak{s o}(n) \\rightarrow \\mathrm{SO}(n), J \\mapsto \\sum_{k=0}^{\\infty} \\frac{1}{k !} J^{k}$\n",
        "\n",
        "https://de.m.wikipedia.org/wiki/Drehmatrix"
      ]
    },
    {
      "cell_type": "markdown",
      "metadata": {
        "id": "3hhDeuYaa1BS"
      },
      "source": [
        "##### **Definition Lie-Gruppen & Lie Algebra**"
      ]
    },
    {
      "cell_type": "markdown",
      "metadata": {
        "id": "j87JV2XogATt"
      },
      "source": [
        "**Lie Group**\n",
        "\n",
        "* [Lie-Gruppe](https://de.m.wikipedia.org/wiki/Lie-Gruppe) ist eine mathematische Struktur, die zur Beschreibung von kontinuierlichen Symmetrien verwendet wird. Lie-Gruppen sind in fast allen Teilen der heutigen Mathematik sowie in der theoretischen Physik, vor allem der Teilchenphysik, wichtige Werkzeuge.\n",
        "\n",
        "* a [Lie group](https://en.wikipedia.org/wiki/Lie_group) is a group that is also a differentiable manifold. A manifold is a space that locally resembles Euclidean space, whereas groups define the abstract, generic concept of multiplication and the taking of inverses (division).\n",
        "\n",
        "* Combining these two ideas, one obtains a continuous group where points can be multiplied together, and their inverse can be taken. If, in addition, the multiplication and taking of inverses are defined to be smooth (differentiable), one obtains a Lie group.\n",
        "\n",
        "* Lie groups provide a natural model for the concept of continuous symmetry, a celebrated example of which is the rotational symmetry in three dimensions (given by the special orthogonal group ${\\text{SO}}(3)$). Lie groups are widely used in many parts of modern mathematics and physics.\n",
        "\n",
        "* Lie groups were first found by studying matrix subgroups \n",
        "G contained in ${\\text{GL}}_{n}(\\mathbb {R} )$ or ${\\text{GL}}_{n}(\\mathbb {C} )$, the groups of $n\\times n$ invertible matrices over $\\mathbb {R}$  or $\\mathbb {C}$ . \n",
        "\n",
        "  * These are now called the classical groups, as the concept has been extended far beyond these origins. Lie groups are named after Norwegian mathematician Sophus Lie (1842–1899), who laid the foundations of the theory of [continuous transformation groups](https://en.wikipedia.org/wiki/Automorphism_group). \n",
        "  \n",
        "  * Lie's original motivation for introducing Lie groups was to model the continuous symmetries of differential equations, in much the same way that finite groups are used in Galois theory to model the discrete symmetries of algebraic equations.\n",
        "\n",
        "* Jede Lie-Gruppe ist auch eine [topologische Gruppe](https://de.m.wikipedia.org/wiki/Topologische_Gruppe)\n",
        "\n",
        "  * = eine topologische Gruppe ist eine Gruppe, die eine mit der Gruppenstruktur „verträgliche“ Topologie hat. Die topologische Struktur erlaubt es zum Beispiel, Grenzwerte in dieser Gruppe zu betrachten, und von stetigen Homomorphismen zu sprechen.\n",
        "\n",
        "  * Die reellen Zahlen $\\mathbb {R}$ mit der Addition und der gewöhnlichen Topologie bilden eine topologische Gruppe. "
      ]
    },
    {
      "cell_type": "markdown",
      "metadata": {
        "id": "Z65s8olkh_2Q"
      },
      "source": [
        "**Lie Algebra**\n",
        "\n",
        "* a [Lie algebra](https://en.m.wikipedia.org/wiki/Lie_algebra) **is a vector space $g$ together with an operation called the Lie bracket**, an alternating bilinear map $\\mathfrak{g} \\times \\mathfrak{g} \\rightarrow \\mathfrak{g},(x, y) \\mapsto[x, y]$, that satisfies the Jacobi identity.\n",
        "\n",
        "* The vector space $\\mathfrak{g}$ together with this operation is a non-associative algebra, meaning that the Lie bracket is not necessarily associative.\n",
        "\n",
        "> **any Lie group gives rise to a Lie algebra, which is its tangent space at the identity.**\n",
        "\n",
        "* In physics, Lie groups appear as symmetry groups of physical systems, and their Lie algebras (tangent vectors near the identity) may be thought of as infinitesimal symmetry motions. Thus Lie algebras and their representations are used extensively in physics, notably in quantum mechanics and particle physics.\n",
        "\n"
      ]
    },
    {
      "cell_type": "markdown",
      "metadata": {
        "id": "LAoLIjmfRL8y"
      },
      "source": [
        "> “The essential phenomenon of Lie theory is that one may associate in a natural way to a Lie group $\\mathcal{G}$ its Lie algebra $\\mathfrak{g}$. The Lie algebra $\\mathfrak{g}$ is first of all a vector space and secondly is endowed with a bilinear nonassociative product called the Lie bracket [...]. **Amazingly, the group $\\mathcal{G}$ is almost completely determined by $\\mathfrak{g}$ and its Lie bracket**. Thus for many purposes **one can replace $\\mathcal{G}$ with $\\mathfrak{g}$. Since $\\mathcal{G}$ is a complicated nonlinear object and $\\mathfrak{g}$ is just a vector space, it is usually vastly simpler to work with $\\mathfrak{g}$**. [...] This is one source of the power of Lie theory.\" Stillwell: “the miracle of Lie theory”.\n",
        "\n",
        "(*https://arxiv.org/pdf/1812.01537.pdf*)"
      ]
    },
    {
      "cell_type": "markdown",
      "metadata": {
        "id": "bBKKATyGcDQA"
      },
      "source": [
        "* For example $\\mathcal{G}$ is all the operations on the surface of a ball (nonlinear): Lie Groups are Continuous Transformation Groups, like a 3D rotation vector on a curved surface. Very complicated to work with. (Lie Algebra SO(3)): $\n",
        "\\boldsymbol{W}^{\\wedge}=[\\boldsymbol{\\omega}]_{\\times}=\\left[\\begin{array}{ccc}\n",
        "0 & -\\omega_{z} & \\omega_{y} \\\\\n",
        "\\omega_{z} & 0 & -\\omega_{x} \\\\\n",
        "-\\omega_{y} & \\omega_{x} & 0\n",
        "\\end{array}\\right]\n",
        "$ \n",
        "\n",
        "* Meanwhile Lie Algebra $\\mathfrak{g}$ is at the origin of the tangent plane which is a linear vector space: Cartesian R3: $\n",
        "\\omega=\\left(\\omega_{x}, \\omega_{y}, \\omega_{z}\\right)\n",
        "$\n",
        "\n",
        "> **Tangent space at the origin is called the \"Lie Algebra\"**\n",
        "\n",
        "> Exponential map translates between both"
      ]
    },
    {
      "cell_type": "markdown",
      "metadata": {
        "id": "AVD9z2iKdzKF"
      },
      "source": [
        "**An elementary example is the space of three dimensional vectors $\\mathfrak{g}=\\mathbb{R}^{3}$** with the bracket operation defined by the cross product $[x, y]=x \\times y$. This is skew-symmetric since $x \\times y=-y \\times x$, and instead of associativity it satisfies the Jacobi identity:\n",
        "\n",
        "> $\n",
        "x \\times(y \\times z)=(x \\times y) \\times z+y \\times(x \\times z)\n",
        "$\n",
        "\n",
        "* **This is the Lie algebra of the Lie group of rotations of space**, and each vector $v \\in \\mathbb{R}^{3}$ may be pictured as an infinitesimal rotation around the axis $v$, with velocity equal to the magnitude of $v$.\n",
        "\n",
        "* The Lie bracket is a measure of the noncommutativity between two rotations: since a rotation commutes with itself, we have the alternating property $[x, x]=x \\times x=0$."
      ]
    },
    {
      "cell_type": "markdown",
      "metadata": {
        "id": "j2oOT58DeP7G"
      },
      "source": [
        "**Lie algebra & Lie Group representation**"
      ]
    },
    {
      "cell_type": "markdown",
      "metadata": {
        "id": "NSO2t78leRph"
      },
      "source": [
        "* In the mathematical field of representation theory, a [Lie algebra representation](https://en.m.wikipedia.org/wiki/Lie_algebra_representation) or representation of a Lie algebra is a way of writing a Lie algebra as a set of matrices (or endomorphisms of a vector space) in such a way that the Lie bracket is given by the commutator. In the language of physics, one looks for a vector space \n",
        "V together with a collection of operators on \n",
        "V satisfying some fixed set of commutation relations, such as the relations satisfied by the angular momentum operators.\n",
        "\n",
        "* In mathematics and theoretical physics, a [representation of a Lie group](https://en.m.wikipedia.org/wiki/Representation_of_a_Lie_group) is a linear action of a Lie group on a vector space. Equivalently, a representation is a smooth homomorphism of the group into the group of invertible operators on the vector space. Representations play an important role in the study of continuous symmetry. A great deal is known about such representations, a basic tool in their study being the use of the corresponding 'infinitesimal' representations of Lie algebras.\n",
        "\n",
        "* In the study of the representation theory of Lie groups, the study of [representations of SU(2)](https://en.m.wikipedia.org/wiki/Representation_theory_of_SU(2)) is fundamental to the study of representations of semisimple Lie groups. It is the first case of a Lie group that is both a compact group and a non-abelian group.\n",
        "\n",
        "  * SU(2) is the universal covering group of SO(3), and so its representation theory includes that of the latter, by dint of a surjective homomorphism to it. This underlies the significance of SU(2) for the description of non-relativistic spin in theoretical physics; see below for other physical and historical context."
      ]
    },
    {
      "cell_type": "markdown",
      "metadata": {
        "id": "3Q-USrERZuzJ"
      },
      "source": [
        "**Lie-Algebra der Lie-Gruppe**\n",
        "\n",
        "* Die Vektorfelder auf einer glatten Mannigfaltigkeit $M$ bilden mit der Lie-Klammer eine unendlich-dimensionale Lie-Algebra. Die zu einer Lie-Gruppe $G$ gehörende Lie-Algebra $\\mathfrak{g}$ besteht aus dem Unterraum der [links-invarianten](https://de.m.wikipedia.org/wiki/Translationsinvarianz) Vektorfelder auf $G$. \n",
        "\n",
        "* Dieser Vektorraum ist isomorph zum Tangentialraum $T_{e} G$ am neutralen Element $e$ von $G$. Insbesondere gilt also $\\operatorname{dim} G=\\operatorname{dim} \\mathfrak{g}$. Bezüglich der LieKlammer $[\\cdot, \\cdot]$ ist der Vektorraum $\\mathfrak{g}$ abgeschlossen. \n",
        "\n",
        "* **Somit ist der Tangentialraum einer Lie-Gruppe $G$ am neutralen Element eine Lie-Algebra. Diese Lie-Algebra nennt man die Lie-Algebra der Lie-Gruppe $G$.**\n",
        "\n",
        "* Zu jeder Lie-Gruppe $G$ mit Lie-Algebra $\\mathfrak{g}$ gibt es eine **Exponentialabbildung exp (exponential map)**: $\\mathfrak{g} \\rightarrow G$. Diese Exponentialabbildung kann man definieren durch $\\exp (A)=\\Phi_{1}(e)$, wobei $\\Phi_{t}$ der Fluss des links-invarianten Vektorfelds $A$ und $e \\in G$ das neutrale Element ist. Falls $G$ eine abgeschlossene Untergruppe der $\\mathrm{GL}(n, \\mathbb{R})$ oder $\\mathrm{GL}(n, \\mathbb{C})$ ist, so ist die so definierte Exponentialabbildung identisch mit der Matrixexponentialfunktion.\n",
        "\n",
        "\n",
        "* Jedes Skalarprodukt auf $T_{e} G=\\mathfrak{g}$ definiert eine $G$ -links-invariante Riemannsche Metrik auf $G$. Im Spezialfall, dass diese Metrik zusätzlich auch\n",
        "rechtsinvariant ist, stimmt die Exponentialabbildung der Riemannschen\n",
        "Mannigfaltigkeit $G$ am Punkt $e$ mit der Lie-Gruppen-Exponentialabbildung\n",
        "überein."
      ]
    },
    {
      "cell_type": "markdown",
      "metadata": {
        "id": "TnhFP74Xk5_s"
      },
      "source": [
        "**Simple Lie Groups**\n",
        "\n",
        "* a simple Lie group is a connected non-abelian Lie group G which does not have nontrivial connected normal subgroups.\n",
        "\n",
        "* The list of simple Lie groups can be used to read off the list of simple Lie algebras and [Riemannian symmetric spaces](https://en.wikipedia.org/wiki/Symmetric_space)."
      ]
    },
    {
      "cell_type": "markdown",
      "metadata": {
        "id": "NJKrdLOylilI"
      },
      "source": [
        "**Simple Lie Algebra**\n",
        "\n",
        "* a [simple Lie algebra](https://en.wikipedia.org/wiki/Simple_Lie_algebra) is a Lie algebra that is nonabelian and contains no nonzero proper ideals.\n",
        "\n",
        "* The classification of real simple Lie algebras is one of major achievements of Wilhelm Killing and Élie Cartan.\n",
        "\n",
        "* A direct sum of simple Lie algebras is called a semisimple Lie algebra.\n",
        "\n",
        "* A simple Lie group is a connected Lie group whose Lie algebra is simple."
      ]
    },
    {
      "cell_type": "markdown",
      "metadata": {
        "id": "GO5mmUVKmDnB"
      },
      "source": [
        "**Semisimple Lie algebra**\n",
        "\n",
        "* a [Lie algebra is semisimple](https://en.wikipedia.org/wiki/Semisimple_Lie_algebra) if it is a direct sum of simple Lie algebras (non-abelian Lie algebras without any non-zero proper ideals)."
      ]
    },
    {
      "cell_type": "markdown",
      "metadata": {
        "id": "1MeVfjBqlNs7"
      },
      "source": [
        "**Symmetric Space**\n",
        "\n",
        "* a [symmetric space](https://en.wikipedia.org/wiki/Symmetric_space) is a Riemannian manifold (or more generally, a pseudo-Riemannian manifold) whose group of symmetries contains an inversion symmetry about every point. \n",
        "\n",
        "* This can be studied with the tools of Riemannian geometry, leading to consequences in the theory of holonomy; or algebraically through Lie theory, which allowed Cartan to give a complete classification. \n",
        "\n",
        "* Symmetric spaces commonly occur in differential geometry, representation theory and harmonic analysis."
      ]
    },
    {
      "cell_type": "markdown",
      "metadata": {
        "id": "hxwVmH9nbAII"
      },
      "source": [
        "##### **Beispiele fur Lie-Gruppen**"
      ]
    },
    {
      "cell_type": "markdown",
      "metadata": {
        "id": "1sFZzVbxbVQK"
      },
      "source": [
        "* **Die Menge $\\mathbb{C}^{*}=\\mathbb{C} \\backslash\\{0\\}$ der komplexen Zahlen ungleich 0 bildet mit der gewöhnlichen Multiplikation eine Gruppe $\\left(\\mathbb{C}^{*}, \\cdot\\right)$**. Die Multiplikation ist eine differenzierbare Abbildung $m: \\mathbb{C}^{*} \\times \\mathbb{C}^{*} \\rightarrow \\mathbb{C}^{*}$ definiert durch $m(x, y)=x y_{i}$ auch die durch $i(z)=z^{-1}=\\frac{1}{z}$ definierte Inversion $i: \\mathbb{C}^{*} \\rightarrow \\mathbb{C}^{*}$ ist differenzierbar. Die Gruppenstruktur der komplexen Ebene (bzgl. Multiplikation) ist also ,mit der Differentialrechnung verträglich\". (Dasselbe würde auch für die Gruppe $(\\mathbb{C},+)$ mit der Addition als Verknüpfung gelten: Dort ist $m(x, y)=x+y$ und $i(x)=-x .$ )\n",
        "\n",
        "* **Der Einheitskreis in der komplexen Zahlenebene**, d. h. die Menge $S^{1}=\\{z \\in \\mathbb{C}:|z|=1\\}$ der komplexen Zahlen vom Betrag 1, ist eine Untergruppe von $\\left(\\mathbb{C}^{*}, \\cdot\\right)$, die sogenannte Kreisgruppe: Das Produkt zweier Zahlen vom Betrag 1 hat wieder Betrag 1, ebenso das Inverse. Auch hier hat man eine $_{n}$ mit der Differentialrechnung verträgliche Gruppenstruktur\", d. h. eine Lie-Gruppe.\n",
        "\n"
      ]
    },
    {
      "cell_type": "markdown",
      "metadata": {
        "id": "FLFwM3RuOTZy"
      },
      "source": [
        "[Beispiele fur Lie-Gruppen](https://de.wikipedia.org/wiki/Lie-Gruppe#Beispiele) sind: \n",
        "\n",
        "* allgemeine lineare Gruppe, \n",
        "\n",
        "* Orthogonale Gruppe, \n",
        "\n",
        "* Unitäre Gruppe & Spezielle Unitäre Gruppe, \n",
        "\n",
        "* Affine Gruppe\n",
        "\n",
        "* Poincaré-Gruppe, \n",
        "\n",
        "* Galilei-Gruppe"
      ]
    },
    {
      "cell_type": "markdown",
      "metadata": {
        "id": "zaoFEGvfEOME"
      },
      "source": [
        "They have the following correspondence for the Lie algebras associated to classical groups over the complex numbers:\n",
        "\n",
        "- $A_{n}: \\mathfrak{s l}_{n+1}$, the special linear Lie algebra.\n",
        "- $B_{n}: \\mathfrak{s o}_{2 n+1}$, the odd-dimensional special orthogonal Lie algebra.\n",
        "- $C_{n}: \\mathfrak{s p}_{2 n}$, the symplectic Lie algebra.\n",
        "- $D_{n}: \\mathfrak{s o}_{2 n}$, the even-dimensional special orthogonal Lie algebra $(n>1)$.\n",
        "\n",
        "https://en.wikipedia.org/wiki/Dynkin_diagram#Classification_of_semisimple_Lie_algebras"
      ]
    },
    {
      "cell_type": "markdown",
      "metadata": {
        "id": "iZdjNPQ6PD3Y"
      },
      "source": [
        "https://en.m.wikipedia.org/wiki/Simple_Lie_group"
      ]
    },
    {
      "cell_type": "markdown",
      "metadata": {
        "id": "OLMWbx40M0ck"
      },
      "source": [
        "https://de.wikipedia.org/wiki/Lie-Gruppe#Lie-Gruppe"
      ]
    },
    {
      "cell_type": "markdown",
      "metadata": {
        "id": "btfdeGWWkel1"
      },
      "source": [
        "##### **Beispiel: Lie Gruppen in Robotics**"
      ]
    },
    {
      "cell_type": "markdown",
      "metadata": {
        "id": "9DeiQJrjPWoq"
      },
      "source": [
        "* it appears very useful for uncertainty management in the kind of estimation problems we deal with in robotics (e.g. inertial pre-integration, odometry and SLAM, visual servoing, and the like), thus enabling elegant and rigorous designs of optimal optimizers. ([Source](https://arxiv.org/pdf/1812.01537.pdf))\n",
        "\n",
        "* Relying on the Lie theory (LT) we are able to construct a rigorous calculus corpus to handle uncertainties, derivatives and integrals with precision and ease. Typically, these works have focused on the well known manifolds of rotation SO(3) and rigid motion SE(3)."
      ]
    },
    {
      "cell_type": "markdown",
      "metadata": {
        "id": "71VKLW8P74b_"
      },
      "source": [
        "https://github.com/artivis/manif/blob/devel/paper/Lie_theory_cheat_sheet.pdf"
      ]
    },
    {
      "cell_type": "markdown",
      "metadata": {
        "id": "AIi5p4TL8JBW"
      },
      "source": [
        "https://github.com/artivis/manif/"
      ]
    },
    {
      "cell_type": "markdown",
      "metadata": {
        "id": "pJjuRcNJ8Ndn"
      },
      "source": [
        "https://arxiv.org/abs/1812.01537"
      ]
    },
    {
      "cell_type": "markdown",
      "metadata": {
        "id": "EhcMp06jkw5C"
      },
      "source": [
        "Lie theory for the roboticist: https://www.youtube.com/watch?v=nHOcoIyJj2o&t=3147s"
      ]
    },
    {
      "cell_type": "markdown",
      "metadata": {
        "id": "5c_Mt8XIU0rD"
      },
      "source": [
        "**The connection between the Lie group and its Lie algebra will not be made here as profound as it should. Our position is that, given the target application areas that we foresee, this material is often not necessary.**"
      ]
    },
    {
      "cell_type": "markdown",
      "metadata": {
        "id": "zzGC463dlauI"
      },
      "source": [
        "![gg](https://raw.githubusercontent.com/deltorobarba/repo/master/liegroup_01.png)"
      ]
    },
    {
      "cell_type": "markdown",
      "metadata": {
        "id": "fmRGzlOiicoZ"
      },
      "source": [
        "* **Lie Groups** were know as \"Continuous Transformation Groups\". **= a group that is also a smooth (differential) manifold** \n",
        "\n",
        "  * **a smooth manifold whose elements satisfy the group axioms**\n",
        "\n",
        "  * (so no singularities or breaks where differentiation or integration wouldn't work anymore)\n",
        "\n",
        "  * each point on a manifold represents one element of the Lie Group (i.e. 3d rotation matrix on the manifold)\n",
        "\n",
        "  * corresponding to it in the cartesian tangent space you can find a 3d rotation vector\n",
        "\n",
        "* **Lie Algebra** is the in origin point on manifold (https://www.youtube.com/watch?v=nHOcoIyJj2o&t=3147s)\n",
        "\n",
        "* **Exponential Map** from (cartesian) tangent space to manifold (i.e 3 D surface): \n",
        "\n",
        "  * from tangent space a to manifold ('**exponential of a**'), like the exponential of a rotation vector (on tangent space) is the 3d rotation matrix (on manifold)\n",
        "  \n",
        "  * and back: point on manifold x and its '**logarithm of x**' back on the tangent space\n",
        "\n",
        "  * it's an exact operation, and no approximation\n",
        "\n",
        "  * explanation and proof here: https://www.youtube.com/watch?v=nHOcoIyJj2o&t=3147s"
      ]
    },
    {
      "cell_type": "markdown",
      "metadata": {
        "id": "ML10YHB6-1tb"
      },
      "source": [
        "![gg](https://raw.githubusercontent.com/deltorobarba/repo/master/liegroup_07.png)"
      ]
    },
    {
      "cell_type": "markdown",
      "metadata": {
        "id": "37ephg2--_gJ"
      },
      "source": [
        "**Lie algebra is the origin point (= identity) on the tangent space!**\n",
        "\n",
        "> **Tangent space at the origin is called the \"Lie Algreba\"**"
      ]
    },
    {
      "cell_type": "markdown",
      "metadata": {
        "id": "pAqZkUEIP-JP"
      },
      "source": [
        "* **each time you take a derivative on the manifold, you are out of the manifold**, but you can stay on the tangent space for doing this operation (because there they are well defined)"
      ]
    },
    {
      "cell_type": "markdown",
      "metadata": {
        "id": "LpkBxRZEPxxs"
      },
      "source": [
        "![gg](https://raw.githubusercontent.com/deltorobarba/repo/master/liegroup_08.png)\n",
        "\n",
        "*https://arxiv.org/pdf/1812.01537.pdf*"
      ]
    },
    {
      "cell_type": "markdown",
      "metadata": {
        "id": "QH3WAo7EmaEH"
      },
      "source": [
        "* **antipodal point** to the origin: from origin point go half a turn around a 3d ball, you and up on the antipodal point, and there are many ways to go (any vector with length pie π)\n",
        "\n",
        "* The tangent space will cover the manifold multiple times !!\n",
        "\n",
        "  * \"**First cover of the manifold by the tangent space**\": all points on the tangent space will end up in the antipodal point when applying any vector with length pie π)\n",
        "\n",
        "  * there you can see relationship between Lie group and tangent space on manifold\n"
      ]
    },
    {
      "cell_type": "markdown",
      "metadata": {
        "id": "9p9u-lz3leLQ"
      },
      "source": [
        "![gg](https://raw.githubusercontent.com/deltorobarba/repo/master/liegroup_02.png)"
      ]
    },
    {
      "cell_type": "markdown",
      "metadata": {
        "id": "uwKSJsjJoWA7"
      },
      "source": [
        "* In the following image: $R^{m}$ and $T_{E} M$ are the same vector space but with different representations\n",
        "\n",
        "> **Lie Algebra $T_{E} M \\sim R_{m} \\text { (Cartesian Tangent Space) and } w \\sim w^{\\wedge}$**\n",
        "\n",
        "* This means that $T_{E} M$ is isomorph to $R_{m}$\n",
        "\n",
        "* Since you can always go to an $R_{m}$ space, any Lie Group will have an cartesian $R_{m}$ tangent space, which is a vector\n",
        "\n",
        "* you can alweays go from one to the other give the isomorphism"
      ]
    },
    {
      "cell_type": "markdown",
      "metadata": {
        "id": "pRJ_VHkToEBD"
      },
      "source": [
        "![gg](https://raw.githubusercontent.com/deltorobarba/repo/master/liegroup_03.png)"
      ]
    },
    {
      "cell_type": "markdown",
      "metadata": {
        "id": "subRMqOaqMXE"
      },
      "source": [
        "* SO(3): Lie group of rotation matrices in 3D\n",
        "\n",
        "* you can write [w]<sub>x</sub> as a linear combination of 3 base matrices $E$<sub>x, y, z</sub>, which facilitates the calculation / it's easier than working directly with [w]<sub>x</sub>\n",
        "\n",
        "* and since $T_{E} M \\sim R_{m}$ sowie $w \\sim w^{\\wedge}$ (Isomorphism), it's also an allowed (exact) operation\n",
        "\n",
        "* Let's write a tangent vector as a regular cartesian vector with 3 coordinates\n",
        "\n",
        "> $[\\omega]_{\\times}=\\omega_{x} \\mathbf{E}_{x}+\\omega_{y} \\mathbf{E}_{y}+\\omega_{z} \\mathbf{E}_{z}$\n",
        "\n",
        "* The matrix product $[\\omega]_{\\times}$ is equivalent to cross product of vectors $\\omega =\\omega_{x} \\mathbf +\\omega_{y} \\mathbf +\\omega_{z}$, isomorph, two ways of representing the same elemtn of the tangent space\n",
        "\n",
        "* looking at the previous slide: cartesian R<sup>m</sup> is easier to work with than Lie Algebra T<sub>E</sub>M"
      ]
    },
    {
      "cell_type": "markdown",
      "metadata": {
        "id": "av-1tAzcQWCp"
      },
      "source": [
        "> “The essential phenomenon of Lie theory is that one may associate in a natural way to a Lie group $\\mathcal{G}$ its Lie algebra $\\mathfrak{g}$. The Lie algebra $\\mathfrak{g}$ is first of all a vector space and secondly is endowed with a bilinear nonassociative product called the Lie bracket [...]. **Amazingly, the group $\\mathcal{G}$ is almost completely determined by $\\mathfrak{g}$ and its Lie bracket**. Thus for many purposes **one can replace $\\mathcal{G}$ with $\\mathfrak{g}$. Since $\\mathcal{G}$ is a complicated nonlinear object and $\\mathfrak{g}$ is just a vector space, it is usually vastly simpler to work with $\\mathfrak{g}$**. [...] This is one source of the power of Lie theory.\" Stillwell: “the miracle of Lie theory”.\n",
        "\n",
        "(*https://arxiv.org/pdf/1812.01537.pdf*)"
      ]
    },
    {
      "cell_type": "markdown",
      "metadata": {
        "id": "Ns847JXrqHZR"
      },
      "source": [
        "![gg](https://raw.githubusercontent.com/deltorobarba/repo/master/liegroup_04.png)"
      ]
    },
    {
      "cell_type": "markdown",
      "metadata": {
        "id": "-i9Q5F9h1CRo"
      },
      "source": [
        "![gg](https://raw.githubusercontent.com/deltorobarba/repo/master/liegroup_05.png)"
      ]
    },
    {
      "cell_type": "markdown",
      "metadata": {
        "id": "2UP4nQdY5wHC"
      },
      "source": [
        "![gg](https://raw.githubusercontent.com/deltorobarba/repo/master/liegroup_06.png)"
      ]
    },
    {
      "cell_type": "markdown",
      "metadata": {
        "id": "j6OKUNYrPMCx"
      },
      "source": [
        "https://en.m.wikipedia.org/wiki/Borel–de_Siebenthal_theory"
      ]
    },
    {
      "cell_type": "markdown",
      "metadata": {
        "id": "jJIUU9J3PPp_"
      },
      "source": [
        "https://en.m.wikipedia.org/wiki/Compact_group#Compact_Lie_groups"
      ]
    },
    {
      "cell_type": "markdown",
      "metadata": {
        "id": "kCDcxSYncnbs"
      },
      "source": [
        "https://en.wikipedia.org/wiki/Root_system"
      ]
    },
    {
      "cell_type": "markdown",
      "metadata": {
        "id": "X3CvHaDAclQE"
      },
      "source": [
        "https://en.wikipedia.org/wiki/Dynkin_diagram"
      ]
    },
    {
      "cell_type": "markdown",
      "metadata": {
        "id": "IsgGqRO1OE2b"
      },
      "source": [
        "#### **General Linear & Classical Groups**"
      ]
    },
    {
      "cell_type": "markdown",
      "metadata": {
        "id": "AnG5dzQVa8jV"
      },
      "source": [
        "##### <font color=\"blue\">**Matrixgruppen & General Linear Group**"
      ]
    },
    {
      "cell_type": "markdown",
      "metadata": {
        "id": "qc0q9v0C42xa"
      },
      "source": [
        "$\n",
        "\\begin{array}{|l|c|c|}\n",
        "\\hline & \\text { Finite Groups } & \\text { Infinite Groups } \\\\\n",
        "\\hline \\text { Abelian Groups } & \\text { Integers mod } n & \\mathbb{Z}, \\mathbb{Q}, \\mathbb{R}, \\mathbb{C} \\text { under }+ \\\\\n",
        "\\hline \\text { Non-Abelian Groups } & S_{n} \\text { for } n>2 & \\text { Matrices } \\\\\n",
        "\\hline\n",
        "\\end{array}\n",
        "$"
      ]
    },
    {
      "cell_type": "markdown",
      "metadata": {
        "id": "aE9aQGj45wox"
      },
      "source": [
        "* for example a 2x3 real Matrix under addition with the identity matrix (all zeros) form an infinite group that is also abelian\n",
        "\n",
        "* Non abelian: **Real** matrices under multiplication, n by n square matrices (for non square matrices you can find two elements that can not be multiplied together). Requirements of a group:\n",
        "  * **Identity**: I = nxn identity matrix\n",
        "  * **Associativity**: yes\n",
        "  * Just each matrix needs to have an **inverse** (a non-zero determinant: for M to have an inverse, det(M) ≠ 0\n",
        "  * This is a group, the general linear group!\n",
        "\n",
        "* This group is called **general linear group** = the group of invertible matrices\n",
        "\n",
        "* it's also non-commutative!\n",
        "\n",
        "$\n",
        "\\begin{aligned}\n",
        "\\mathrm{GL}_{\\mathrm{n}}(\\mathbb{R}) &=\\text { General Linear Group } \\\\\n",
        "&=n \\times n \\text { invertible matrices }\n",
        "\\end{aligned}\n",
        "$"
      ]
    },
    {
      "cell_type": "markdown",
      "metadata": {
        "id": "SfBlRmL3_HaO"
      },
      "source": [
        "Für $n \\geq 2$ ist die Gruppe $\\mathrm{GL}(n, K)$ nichtabelsch. Für $n=2$ gilt\n",
        "\n",
        "$\n",
        "\\left(\\begin{array}{ll}\n",
        "1 & 0 \\\\\n",
        "1 & 1\n",
        "\\end{array}\\right)\\left(\\begin{array}{ll}\n",
        "1 & 1 \\\\\n",
        "0 & 1\n",
        "\\end{array}\\right)=\\left(\\begin{array}{ll}\n",
        "1 & 1 \\\\\n",
        "1 & 2\n",
        "\\end{array}\\right)\n",
        "$\n",
        "\n",
        "aber\n",
        "\n",
        "$\n",
        "\\left(\\begin{array}{ll}\n",
        "1 & 1 \\\\\n",
        "0 & 1\n",
        "\\end{array}\\right)\\left(\\begin{array}{ll}\n",
        "1 & 0 \\\\\n",
        "1 & 1\n",
        "\\end{array}\\right)=\\left(\\begin{array}{ll}\n",
        "2 & 1 \\\\\n",
        "1 & 1\n",
        "\\end{array}\\right) .\n",
        "$"
      ]
    },
    {
      "cell_type": "markdown",
      "metadata": {
        "id": "WNHjjgzz5iF_"
      },
      "source": [
        "Matrix Groups: https://www.youtube.com/watch?v=AJTRwhSZJWw&t=105s"
      ]
    },
    {
      "cell_type": "markdown",
      "metadata": {
        "id": "x_DbrrJf-ijZ"
      },
      "source": [
        "* Die allgemeine lineare Gruppe und ihre Untergruppen finden Anwendung in der Darstellung von Gruppen sowie in der Untersuchung von Symmetrien.\n",
        "\n",
        "* Untergruppen der allgemeinen linearen Gruppe werden als Matrizengruppen bezeichnet.\n",
        "\n",
        "* **Jede Untergruppe von ${GL} (n,K)$ wird eine Matrizengruppe oder lineare Gruppe genannt**. "
      ]
    },
    {
      "cell_type": "markdown",
      "metadata": {
        "id": "w1kXKjplOJO2"
      },
      "source": [
        "https://de.wikipedia.org/wiki/Allgemeine_lineare_Gruppe"
      ]
    },
    {
      "cell_type": "markdown",
      "metadata": {
        "id": "yuFGYFoQAdG4"
      },
      "source": [
        "**Einige Untergruppen haben besondere Bedeutung**:"
      ]
    },
    {
      "cell_type": "markdown",
      "metadata": {
        "id": "U_qbDvyn_3Rz"
      },
      "source": [
        "* Die Untergruppe aller **Diagonalmatrizen**, deren Diagonalelemente alle ungleich 0 sind, beschreibt Reskalierungen des Raums.\n",
        "\n",
        "* Diagonalmatrizen, bei denen alle Diagonalelemente übereinstimmen und nicht 0 sind, beschreiben in der Geometrie **zentrische Streckungen**. Die Untergruppe dieser Matrizen ist das Zentrum von $\\mathrm{GL}(n, K)$. Nur im Trivialfall $n=1$ ist sie mit $\\mathrm{GL}(n, K)$ identisch.\n",
        "\n",
        "* Die **spezielle lineare Gruppe** $\\mathrm{SL}(n, K)$ besteht aus allen Matrizen mit der Determinante 1. $\\mathrm{SL}(n, K)$ ist ein Normalteiler von $\\mathrm{GL}(n, K)$, und die Faktorgruppe $\\mathrm{GL}(n, K) / \\mathrm{SL}(n, K)$ ist isomorph zu $K^{\\times}$, der Einheitengruppe von $K$ (ohne die 0).\n",
        "\n",
        "* Die **orthogonale Gruppe** $\\mathrm{O}(n, K)$ enthält alle orthogonalen Matrizen. Für $K=\\mathbb{R}$ beschreiben diese Matrizen Automorphismen des $\\mathbb{R}^{n}$, die die Euklidische Norm und das Skalarprodukt erhalten, also orthogonale Abbildungen.\n",
        "\n",
        "* Die **unitäre Gruppe** $\\mathrm{U}(n, \\mathbb{C})$ besteht aus allen unitären Matrizen, das heißt solcher Matrizen, deren Adjungierte gleich ihrer Inversen ist. Allgemeiner lässt sich die unitäre Gruppe als Untergruppe der linearen Abbildungen in einem Prähilbertraum definieren, ebenso wie die orthogonale Gruppe als Untergruppe der linearen Abbildungen in einem euklidischen Vektorraum aufgefasst werden kann.\n",
        "\n",
        "* Die **affine Gruppe** $\\mathrm{AGL}_{n}(K)$ ist eine Untergruppe von $\\mathrm{GL}(n+1, K)$"
      ]
    },
    {
      "cell_type": "markdown",
      "metadata": {
        "id": "xy09IYpwElU3"
      },
      "source": [
        "##### <font color=\"blue\">**Classical Group**"
      ]
    },
    {
      "cell_type": "markdown",
      "metadata": {
        "id": "pBKDFelGROwT"
      },
      "source": [
        "**The classical groups are exactly the general linear groups over R, C and H together with the automorphism groups of non-degenerate forms. These groups are usually additionally restricted to the subgroups whose elements have determinant 1, so that their centers are discrete.**"
      ]
    },
    {
      "cell_type": "markdown",
      "metadata": {
        "id": "dym9Ao9PE52P"
      },
      "source": [
        "* the classical groups are defined as **the special linear groups over the reals $\\mathbf{R}$, the complex numbers $\\mathbf{C}$ and the quaternions $\\mathbf{H}$** together with special automorphism groups of symmetric or skew-symmetric bilinear forms and Hermitian or skew-Hermitian sesquilinear forms defined on real, complex and quaternionic finitedimensional vector spaces. \n",
        "\n",
        "* Of these, the complex classical Lie groups are four infinite\n",
        "families of Lie groups that together with the exceptional groups exhaust the classification\n",
        "of simple Lie groups.\n",
        "\n",
        "* The compact classical groups are compact real forms of the\n",
        "complex classical groups. \n",
        "\n",
        "* The finite analogues of the classical groups are the classical\n",
        "groups of Lie type. The term \"classical group\" was coined by Hermann Weyl, it being the title of his 1939 monograph The Classical Groups."
      ]
    },
    {
      "cell_type": "markdown",
      "metadata": {
        "id": "8un-z4qDR_cl"
      },
      "source": [
        "![fff](https://raw.githubusercontent.com/deltorobarba/repo/master/classicalgroups.png)"
      ]
    },
    {
      "cell_type": "markdown",
      "metadata": {
        "id": "LOfwph2sEpLg"
      },
      "source": [
        "https://en.m.wikipedia.org/wiki/Classical_group"
      ]
    },
    {
      "cell_type": "markdown",
      "metadata": {
        "id": "2zqOIuVM8E94"
      },
      "source": [
        "##### <font color=\"blue\">**Special Linear Group**"
      ]
    },
    {
      "cell_type": "markdown",
      "metadata": {
        "id": "WMUuAyybT_e1"
      },
      "source": [
        "https://de.m.wikipedia.org/wiki/Spezielle_lineare_Gruppe"
      ]
    },
    {
      "cell_type": "markdown",
      "metadata": {
        "id": "_SWnYcyx8HB1"
      },
      "source": [
        "$\n",
        "\\begin{aligned}\n",
        "\\mathrm{SL}_{\\mathrm{n}}(\\mathbb{R}) &=\\text { Special Linear Group } \\\\\n",
        "&=n \\times n \\text { matrices with determinant = 1 }\n",
        "\\end{aligned}\n",
        "$"
      ]
    },
    {
      "cell_type": "markdown",
      "metadata": {
        "id": "Xi-SYCOIUvd-"
      },
      "source": [
        "* Die spezielle lineare Gruppe vom Grad $n$ über einem Körper $K$ (oder allgemeiner einem kommutativen, unitären Ring) ist die Gruppe aller $n \\times n$ Matrizen mit Koeffizienten aus $K$, deren Determinante 1 beträgt; diese werden auch unimodulare Matrizen genannt. Die\n",
        "Gruppenverknüpfung ist die Matrizenmultiplikation.\n",
        "\n",
        "* Die spezielle lineare Gruppe $\\mathrm{SL}(n, K)$ ist ein Normalteiler der allgemeinen linearen Gruppe $\\mathrm{GL}(n, K)$.\n",
        "\n",
        "* Wichtige Untergruppen der $\\mathrm{SL}(n, K)$ sind für $K=\\mathbb{R}$ die spezielle orthogonale Gruppe $\\mathrm{SO}(n)$ und für $K=\\mathbb{C}$ die spezielle unitäre Gruppe $\\mathrm{SU}(n)$.\n",
        "\n",
        "* Die spezielle lineare Gruppe $\\mathrm{SL}(n, K)$ über dem Körper $K=\\mathbb{R}$ oder $K=\\mathbb{C}$ ist eine Lie-Gruppe über $K$ der Dimension $n^{2}-1$.\n",
        "\n",
        "* Die speziellen linearen Gruppen sind [algebraische Gruppen](https://de.m.wikipedia.org/wiki/Algebraische_Gruppe), da die Bedingung, dass die Determinante gleich 1 sein muss, durch eine polynomiale Gleichung in den Matrix-Koeffizienten ausgedrückt werden kann.\n",
        "\n",
        "* Die spezielle lineare Gruppe $\\mathrm{SL}(n, K)$ beinhaltet alle orientierungstreuen und volumenerhaltenden linearen Abbildungen."
      ]
    },
    {
      "cell_type": "markdown",
      "metadata": {
        "id": "cmo0RyNGV8OV"
      },
      "source": [
        "Geometric Interpretation: The special linear group $\\operatorname{SL}(n, R)$ can be characterized as the group of volume and orientation preserving linear transformations of $\\mathbf{R}^{n}$; this corresponds to the interpretation of the determinant as measuring change in volume and orientation."
      ]
    },
    {
      "cell_type": "markdown",
      "metadata": {
        "id": "OYLvRwHgT3FT"
      },
      "source": [
        "##### <font color=\"blue\">**Orthogonal Groups $O_{n}$, Special Orthogonal Groups $SO_{n}$ & Spin Groups**"
      ]
    },
    {
      "cell_type": "markdown",
      "metadata": {
        "id": "k-MoWILqXcBf"
      },
      "source": [
        "**Orthogonale Gruppe**"
      ]
    },
    {
      "cell_type": "markdown",
      "metadata": {
        "id": "cQwH3JZGX2wE"
      },
      "source": [
        "* Die [orthogonale Gruppe](https://de.wikipedia.org/wiki/Orthogonale_Gruppe) $\\mathrm{O}(n)$ ist die Gruppe der orthogonalen $(n \\times n)$ Matrizen mit reellen Elementen. Die Verknüpfung der orthogonalen Gruppe ist die Matrizenmultiplikation. \n",
        "\n",
        "* **Bei der orthogonalen Gruppe handelt es sich um eine Lie-Gruppe der Dimension $\\frac{n(n-1)}{2}$**. \n",
        "\n",
        "* **The orthogonal group (2) is a subgroup of the general linear group with a set of 2 matrices** plus and additional structure\n",
        "\n",
        "* Da die Determinante einer orthogonalen Matrix nur die Werte $\\pm 1$ annehmen kann, zerfällt $\\mathrm{O}(n)$ in die beiden disjunkten Teilmengen (topologisch: Zusammenhangskomponenten)\n",
        "\n",
        "  * die Drehgruppe $\\mathrm{SO}(n)$ aller Drehungen (orthogonale Matrizen mit Determinante $+1$ ) \n",
        "  \n",
        "  * und $\\mathrm{O}(n) \\backslash \\mathrm{SO}(n)$ aller Drehspiegelungen (orthogonale Matrizen mit Determinante $-1$ ).\n",
        "\n",
        "* Die Untergruppe $\\mathrm{SO}(n)$ heißt die spezielle orthogonale Gruppe. Insbesondere ist die $\\mathrm{SO}(3)$ als die [Gruppe aller Drehungen](https://de.wikipedia.org/wiki/Drehgruppe) um eine durch den Koordinatenursprung verlaufende Achse im dreidimensionalen Raum von großer Bedeutung in zahlreichen Anwendungen, wie etwa der Computergraphik oder der Physik."
      ]
    },
    {
      "cell_type": "markdown",
      "metadata": {
        "id": "XR1eyqoQPjEb"
      },
      "source": [
        "Ausgehend von einem $n$ -dimensionalen euklidischen Vektorraum $V$ mit einem Skalarprodukt $\\langle\\cdot, \\cdot\\rangle: V \\times V \\rightarrow \\mathbb{R}$ definiert man:\n",
        "Ein Endomorphismus $f: V \\rightarrow V$ heißt orthogonal, falls $f$ das Skalarprodukt erhält, also falls für alle $u, v \\in V$ gilt:\n",
        "\n",
        ">$\n",
        "\\langle f(u), f(v)\\rangle=\\langle u, v\\rangle\n",
        "$\n",
        "\n",
        "Eine lineare Abbildung erhält genau dann das Skalarprodukt, wenn sie längen- und winkeltreu ist. \n",
        "\n",
        "**Die Menge aller orthogonalen Selbstabbildungen von $V$ heißt die orthogonale Gruppe von $V$, geschrieben als $\\mathrm{O}(V)$.**\n",
        "\n",
        "Bezüglich einer Orthonormalbasis von $V$ werden orthogonale Endomorphismen durch orthogonale Matrizen dargestellt. Gleichbedeutend hierzu ist folgende Formulierung: Versieht man den $\\mathbb{R}^{n}$ mit dem Standardskalarprodukt, so ist die Abbildung $\\mathbb{R}^{n} \\ni x \\mapsto A \\cdot x \\in \\mathbb{R}^{n}$ genau dann orthogonal, wenn die Matrix $A$ orthogonal ist."
      ]
    },
    {
      "cell_type": "markdown",
      "metadata": {
        "id": "e5y7_AZ9V6v0"
      },
      "source": [
        "**Special Orthogonal Group) $\\mathrm{SO}(2)$ (Drehgruppe / 2D rotation group)**"
      ]
    },
    {
      "cell_type": "markdown",
      "metadata": {
        "id": "2mfdpdztWwb7"
      },
      "source": [
        "* [Zweidimensionale Drehung](https://de.wikipedia.org/wiki/Drehgruppe#Zweidimensionale_Drehungen) / [Kreisgruppe](https://de.wikipedia.org/wiki/Kreisgruppe):\n",
        "\n",
        "* Die Kreisgruppe $SO(2)\\cong S^{1}$ oder Torusgruppe $\\mathbb{T}$  ist die Lie-Gruppe, die die Drehungen um einen festen Punkt im zweidimensionalen Raum (einer Ebene) zusammenfasst und die Hintereinanderausführung dieser Drehungen beschreibt. \n",
        "\n",
        "* Eine solche Drehung lässt sich eindeutig durch einen Winkel beschreiben, die Hintereinanderausführung zweier Drehungen entspricht gerade der Drehung um die Summe der beiden Winkel der einzelnen Drehungen. Eine volle Umdrehung wird dabei wiederum mit keiner Drehung identifiziert."
      ]
    },
    {
      "cell_type": "markdown",
      "metadata": {
        "id": "WWQXBG8xXVZD"
      },
      "source": [
        "*Die Hintereinanderausführung von Drehungen entspricht der Addition von Winkeln, hier: 150° + 270° = 420° = 60°*\n",
        "\n",
        "![ggg](https://upload.wikimedia.org/wikipedia/commons/a/aa/Circle-group.svg)"
      ]
    },
    {
      "cell_type": "markdown",
      "metadata": {
        "id": "dI5Kh05sTkX7"
      },
      "source": [
        "*Ebene Drehung*: Folgende $(2 \\times 2)$ -Matrizen $D\\left(\\varphi_{j}\\right) \\in \\mathrm{SO}(2)$ beschreiben zweidimensionale Drehungen um die Winkel $\\left.\\varphi_{j} \\in\\right] 0 ; \\pi[\\cup] \\pi ; 2 \\pi[$ der Form\n",
        "\n",
        "> $D(\\varphi)=\\left(\\begin{array}{cc}\\cos \\varphi & -\\sin \\varphi \\\\ \\sin \\varphi & \\cos \\varphi\\end{array}\\right)$\n",
        "\n",
        "Jedes $\\varphi_{j}$ gehört dabei zu einem Paar konjugiert komplexer Eigenwerte $\\mathrm{e}^{\\pm \\mathrm{i} \\cdot \\varphi_{j}}$. Dabei gilt natürlich $p+m+2 d=n$, falls $p$ die Anzahl der Diagonalelemente mit Wert $+1$ und $m$ die Anzahl der Diagonalelemente mit Wert $-1$ repräsentieren. Offenbar ist $A$ genau dann eine Drehung, wenn $m$, die geometrische wie auch algebraische Vielfachheit des Eigenwertes $-1$, eine gerade Zahl ist."
      ]
    },
    {
      "cell_type": "markdown",
      "metadata": {
        "id": "lQLqmR6fTUXs"
      },
      "source": [
        "*Ebene Drehspiegelung*: Neben den ebenen Drehungen, die den Matrizen $D(\\varphi) \\in \\mathrm{SO}(2)$ entsprechen, sind auch die Drehspiegelungen\n",
        "\n",
        "> $\n",
        "S(\\varphi)=\\left(\\begin{array}{cc}\n",
        "\\cos \\varphi & \\sin \\varphi \\\\\n",
        "\\sin \\varphi & -\\cos \\varphi\n",
        "\\end{array}\\right)\n",
        "$\n",
        "\n",
        "orthogonale Matrizen. Die Eigenwerte von $S$ sind 1 und $-1$; folglich handelt es sich um eine Achsenspiegelung die sich nach einer Drehung des Koordinatensystems um $\\frac{\\varphi}{2}$ als $\\left(\\begin{array}{cc}1 & 0 \\\\ 0 & -1\\end{array}\\right)$ schreiben lässt."
      ]
    },
    {
      "cell_type": "markdown",
      "metadata": {
        "id": "O_kK64geYCrR"
      },
      "source": [
        "**Special Orthogonal Group $\\mathrm{SO}(3)$ (Drehgruppe / 3D rotation group)**"
      ]
    },
    {
      "cell_type": "markdown",
      "metadata": {
        "id": "Fjm61K_jYe9x"
      },
      "source": [
        "* Die [Drehgruppe](https://de.wikipedia.org/wiki/Drehgruppe) bzw. [3D rotation group](https://en.wikipedia.org/wiki/3D_rotation_group) im engeren Sinn ist die spezielle orthogonale Gruppe $\\mathrm{SO}(n)$ oder auch $\\mathrm{SO}(n, \\mathbb{R})$ aller Drehungen im reellen dreidimensionalen Raum (falls $n=3$ ) oder in der reellen Ebene (falls $n=2$ ), in letzterem Fall heißt sie Kreisgruppe. \n",
        "\n",
        "* Ihre Elemente sind die [Drehmatrizen](https://de.wikipedia.org/wiki/Drehmatrix), also orthogonale Matrizen mit Determinante eins."
      ]
    },
    {
      "cell_type": "markdown",
      "metadata": {
        "id": "4LbQfMdXUuAQ"
      },
      "source": [
        "*Räumliche Drehung*: Nach der oben beschriebenen Normalform lässt sich jede\n",
        "Drehung im Raum durch Wahl einer geeigneten Orthonormalbasis durch eine Matrix\n",
        "\n",
        ">$\n",
        "D_{1}(\\varphi)=\\left(\\begin{array}{ccc}\n",
        "1 & 0 & 0 \\\\\n",
        "0 & \\cos \\varphi & -\\sin \\varphi \\\\\n",
        "0 & \\sin \\varphi & \\cos \\varphi\n",
        "\\end{array}\\right)\n",
        "$\n",
        "\n",
        "beschreiben, wobei mit $\\varphi \\in[0 ; 2 \\pi[$ auch alle Sonderfälle erfasst werden. Die genannte Matrix $D_{1}(\\varphi)$ beschreibt eine Drehung um die $x_{1}$ -Achse. Insbesondere verfügt jede echte räumliche Drehung über eine Drehachse. \n",
        "\n",
        "Fischer verdeutlicht dies am\n",
        "Beispiel eines Fußballes auf dem Anstoßpunkt: Nach dem ersten\n",
        "Tor gibt es zwei sich gegenüberliegende Punkte auf dem Ball, die jetzt exakt genauso zum Stadion ausgerichtet sind, wie zu Beginn des Spieles. Der Winkel $\\varphi$ ist aufgrund des orientierungserhaltenden Charakters der zugelassenen Transformationsmatrizen $P \\in \\mathrm{SO}(3)$ eindeutig festgelegt; dies geht mit der aus dem Alltag bekannten Erfahrung einher, dass es - zumindest theoretisch - stets feststeht, in welche Richtung man eine Schraube drehen muss, um diese fester anzuziehen."
      ]
    },
    {
      "cell_type": "markdown",
      "metadata": {
        "id": "33jdDfMbU_Vj"
      },
      "source": [
        "*Räumliche Drehspiegelung*: Nach der oben beschriebenen Normalform lässt sich jede\n",
        "Drehspiegelung im Raum durch Wahl einer geeigneten Orthonormalbasis durch eine Matrix\n",
        "\n",
        ">$\n",
        "\\left(\\begin{array}{ccc}\n",
        "-1 & 0 & 0 \\\\\n",
        "0 & \\cos \\varphi & -\\sin \\varphi \\\\\n",
        "0 & \\sin \\varphi & \\cos \\varphi\n",
        "\\end{array}\\right)\n",
        "$\n",
        "\n",
        "beschreiben, wobei mit $\\varphi \\in[0 ; 2 \\pi[$ auch alle Sonderfälle erfasst werden. Auch hier ist der Winkel $\\varphi$ eindeutig, sofern man die\n",
        "Orientierung des Raumes nicht umkehrt."
      ]
    },
    {
      "cell_type": "markdown",
      "metadata": {
        "id": "DD4ku9gqVpPx"
      },
      "source": [
        "**Special Orthogonal Group $\\mathrm{SO}(4)$**"
      ]
    },
    {
      "cell_type": "markdown",
      "metadata": {
        "id": "-9EWFZeTVNv7"
      },
      "source": [
        "*Eine doppelte Drehung im vierdimensionalen Raum*: Im vierdimensionalen Raum ist eine gleichzeitige Drehung mit zwei unabhängigen Drehwinkeln möglich:\n",
        "\n",
        ">$\n",
        "D(\\varphi, \\psi)=\\left(\\begin{array}{cc}\n",
        "D(\\varphi) & 0 \\\\\n",
        "0 & D(\\psi)\n",
        "\\end{array}\\right) \\in \\mathrm{SO}(4)\n",
        "$\n",
        "\n",
        "Vertauscht man bei einer zweidimensionalen Drehung $D(\\varphi)$ die beiden Basisvektoren, so erhält man die Drehung $D(2 \\pi-\\varphi)$. Das ist nicht verwunderlich, hat man doch gleichzeitig die Orientierung der Ebene verändert. Vertauscht man nun im vorliegenden Beispiel gleichzeitig den ersten mit dem zweiten wie auch den dritten mit dem vierten Basisvektor, so bleibt die Orientierung erhalten, aber aus $D(\\varphi, \\psi)$ wird $D(2 \\pi-\\varphi, 2 \\pi-\\psi)$"
      ]
    },
    {
      "cell_type": "markdown",
      "metadata": {
        "id": "z1UCLDxQXfb0"
      },
      "source": [
        "**Special Orthogonal Group $\\mathrm{SO}(8)$**"
      ]
    },
    {
      "cell_type": "markdown",
      "metadata": {
        "id": "jyLZjFQjZJ0O"
      },
      "source": [
        "* [SO(8)](https://en.wikipedia.org/wiki/SO(8)) is the special orthogonal group acting on eight-dimensional Euclidean space. It could be either a real or complex simple Lie group of rank 4 and dimension 28.\n",
        "\n",
        "* Like all special orthogonal groups of $n>2, \\mathrm{SO}(8)$ is not [simply connected](https://en.wikipedia.org/wiki/Simply_connected_space), having a [fundamental group](https://en.wikipedia.org/wiki/Fundamental_group) isomorphic to $\\mathrm{Z}_{2}$. The universal cover of $\\mathrm{SO}(8)$ is the spin group $\\operatorname{Spin}(8)$."
      ]
    },
    {
      "cell_type": "markdown",
      "metadata": {
        "id": "yMNvBMiPerMS"
      },
      "source": [
        "*SO(8) and Unit Octonions*\n",
        "\n",
        "* Elements of SO(8) can be described with unit octonions, analogously to how elements of SO(2) can be described with unit complex numbers and elements of SO(4) can be described with unit quaternions. \n",
        "\n",
        "* However the relationship is more complicated, partly due to the non-associativity of the octonions. A general element in SO(8) can be described as the product of 7 left-multiplications, 7 right-multiplications and also 7 bimultiplications by unit octonions (a bimultiplication being the composition of a left-multiplication and a right-multiplication by the same octonion and is unambiguously defined due to octonions obeying the Moufang identities).\n",
        "\n",
        "* It can be shown that an element of SO(8) can be constructed with bimultiplications, by first showing that pairs of reflections through the origin in 8-dimensional space correspond to pairs of bimultiplications by unit octonions. The triality automorphism of Spin(8) described below provides similar constructions with left multiplications and right multiplications."
      ]
    },
    {
      "cell_type": "markdown",
      "metadata": {
        "id": "lcJZaxaAdhTx"
      },
      "source": [
        "**Spin Group**"
      ]
    },
    {
      "cell_type": "markdown",
      "metadata": {
        "id": "1t-EwENrdmP8"
      },
      "source": [
        "* Die [Spin-Gruppe](https://de.wikipedia.org/wiki/Spin-Gruppe) bzw. [Spin group](https://en.wikipedia.org/wiki/Spin_group) ist ein Objekt aus der Mathematik und Physik, insbesondere aus den Bereichen der Spektralgeometrie und Quantenmechanik. \n",
        "\n",
        "* Eine zentrale Eigenschaft der Spin-Gruppe \n",
        "Spin $\\operatorname {Spin} (n)$ ist, dass sie eine 2-fache Überlagerung der Drehgruppe $SO(n)$ ist.\n",
        "\n",
        "* The spin group is used in physics to describe the symmetries of (electrically neutral, uncharged) fermions."
      ]
    },
    {
      "cell_type": "markdown",
      "metadata": {
        "id": "IQ-yn71fgo_I"
      },
      "source": [
        "##### <font color=\"blue\">**SO(3) und SU(2)**"
      ]
    },
    {
      "cell_type": "markdown",
      "metadata": {
        "id": "yzeDzO1fg-5G"
      },
      "source": [
        "https://de.m.wikipedia.org/wiki/SU(2)"
      ]
    },
    {
      "cell_type": "markdown",
      "metadata": {
        "id": "3UQVn2Dlgvdg"
      },
      "source": [
        "https://www.mat.univie.ac.at/~westra/so3su2.pdf"
      ]
    },
    {
      "cell_type": "markdown",
      "metadata": {
        "id": "E1E3vf4A6Y26"
      },
      "source": [
        "##### <font color=\"blue\">**Unitäre Gruppe $U (H)$ & Spezielle unitäre Gruppe $SU(n)$**"
      ]
    },
    {
      "cell_type": "markdown",
      "metadata": {
        "id": "efblXIfRhCEQ"
      },
      "source": [
        "* Die [unitäre Gruppe](https://de.m.wikipedia.org/wiki/Unitäre_Gruppe) $\\mathrm {U} (H)$ über einem komplexen Hilbertraum $H$ die Gruppe aller unitären komplex linearen Abbildungen über $H$. \n",
        "\n",
        "* Unitäre Gruppen und ihre Untergruppen spielen eine zentrale Rolle in der Quantenphysik, wo sie zur Beschreibung von Symmetrien der Wellenfunktion dienen."
      ]
    },
    {
      "cell_type": "markdown",
      "metadata": {
        "id": "6X-XO1Tu6fQC"
      },
      "source": [
        "https://de.m.wikipedia.org/wiki/Spezielle_unitäre_Gruppe"
      ]
    },
    {
      "cell_type": "markdown",
      "metadata": {
        "id": "G9sx1JsWOyQh"
      },
      "source": [
        "##### <font color=\"blue\">**E<sub>8</sub> (Lie Group)**"
      ]
    },
    {
      "cell_type": "markdown",
      "metadata": {
        "id": "1KNiqVtDO6IN"
      },
      "source": [
        "https://en.m.wikipedia.org/wiki/E8_(mathematics)"
      ]
    },
    {
      "cell_type": "markdown",
      "metadata": {
        "id": "d_Jf_ALONKEV"
      },
      "source": [
        "##### <font color=\"blue\">**Lorentz-Gruppe**"
      ]
    },
    {
      "cell_type": "markdown",
      "metadata": {
        "id": "6OR5KKx-NRoP"
      },
      "source": [
        "* Die [Lorentz-Gruppe](https://de.wikipedia.org/wiki/Lorentz-Gruppe) ist in der Physik und in der Mathematik die Gruppe aller [Lorentz-Transformationen](https://de.wikipedia.org/wiki/Lorentz-Transformation) der [Minkowski-Raumzeit](https://de.wikipedia.org/wiki/Minkowski-Raum).\n",
        "\n",
        "  * Die Lorentz-Transformationen bilden die Grundlage der Speziellen Relativitätstheorie von Albert Einstein.\n",
        "\n",
        "  * Das Äquivalent zu den Lorentz-Transformationen im dreidimensionalen euklidischen Raum sind die Galilei-Transformationen\n",
        "\n",
        "* Die Lorentz-Gruppe drückt die fundamentale Symmetrie (oder: die Automorphismen) vieler bekannter Naturgesetze dadurch aus, dass sie diese invariant lässt: so insbesondere die Bewegungsgleichungen der speziellen Relativitätstheorie, die Maxwellschen Feldgleichungen der Theorie des Elektromagnetismus, und die Dirac-Gleichung der Theorie des Elektrons."
      ]
    },
    {
      "cell_type": "markdown",
      "metadata": {
        "id": "UIPW4ZOnR07e"
      },
      "source": [
        "##### <font color=\"blue\">**Symplectic group $Sp(n)$**"
      ]
    },
    {
      "cell_type": "markdown",
      "metadata": {
        "id": "FaX7crtxFTKy"
      },
      "source": [
        "* The symplectic group is a classical group defined as the set of linear transformations of a 2n-dimensional vector space over the field F which preserve a non-degenerate skew-symmetric bilinear form. "
      ]
    },
    {
      "cell_type": "markdown",
      "metadata": {
        "id": "fJQhnQJzR6c5"
      },
      "source": [
        "https://en.m.wikipedia.org/wiki/Symplectic_group"
      ]
    },
    {
      "cell_type": "markdown",
      "metadata": {
        "id": "0yFvFIvMQ2bS"
      },
      "source": [
        "#### **Topological Group**"
      ]
    },
    {
      "cell_type": "markdown",
      "metadata": {
        "id": "ua2NhJSsQ6WR"
      },
      "source": [
        "https://en.m.wikipedia.org/wiki/Topological_group"
      ]
    },
    {
      "cell_type": "markdown",
      "metadata": {
        "id": "Rvz7HVx2RAZW"
      },
      "source": [
        "https://en.m.wikipedia.org/wiki/Harmonic_analysis"
      ]
    },
    {
      "cell_type": "markdown",
      "metadata": {
        "id": "sjRu4oEnRDG6"
      },
      "source": [
        "https://en.m.wikipedia.org/wiki/Automorphic_form"
      ]
    },
    {
      "cell_type": "markdown",
      "metadata": {
        "id": "17JkJZKtVD9m"
      },
      "source": [
        "#### **Miscellaneous**"
      ]
    },
    {
      "cell_type": "markdown",
      "metadata": {
        "id": "IOwF6ku6XB7L"
      },
      "source": [
        "https://de.wikipedia.org/wiki/Hyperbolische_Gruppe"
      ]
    },
    {
      "cell_type": "markdown",
      "metadata": {
        "id": "rLK1eXKkXPBy"
      },
      "source": [
        "https://de.m.wikipedia.org/wiki/Freie_Gruppe"
      ]
    },
    {
      "cell_type": "markdown",
      "metadata": {
        "id": "pIzAK34QXSLW"
      },
      "source": [
        "In Abwesenheit jeglicher Relationen spricht man auch von der freien Gruppe über den gegebenen Erzeugern. (source: https://de.m.wikipedia.org/wiki/Präsentation_einer_Gruppe)"
      ]
    },
    {
      "cell_type": "markdown",
      "metadata": {
        "id": "rtesPD5BjIT3"
      },
      "source": [
        "![cc](https://raw.githubusercontent.com/deltorobarba/repo/master/groups.png)"
      ]
    },
    {
      "cell_type": "markdown",
      "metadata": {
        "id": "a1FwUKmITETL"
      },
      "source": [
        "https://www.chemie.de/lexikon/Gruppentheorie.html"
      ]
    },
    {
      "cell_type": "markdown",
      "metadata": {
        "id": "en_F0jKMkORe"
      },
      "source": [
        "##### **Quaternionengruppe Q8**"
      ]
    },
    {
      "cell_type": "markdown",
      "metadata": {
        "id": "FvzzqaDckRiR"
      },
      "source": [
        "https://de.m.wikipedia.org/wiki/Quaternionengruppe"
      ]
    },
    {
      "cell_type": "markdown",
      "metadata": {
        "id": "6eBMRTBWR-CB"
      },
      "source": [
        "##### **Kleinsche Vierergruppe**"
      ]
    },
    {
      "cell_type": "markdown",
      "metadata": {
        "id": "kHSD2x7eSCAB"
      },
      "source": [
        "https://de.wikipedia.org/wiki/Kleinsche_Vierergruppe"
      ]
    },
    {
      "cell_type": "markdown",
      "metadata": {
        "id": "xAjW1DVyevEU"
      },
      "source": [
        "#### **Anwendungen in Physik, Chemie etc.**"
      ]
    },
    {
      "cell_type": "markdown",
      "metadata": {
        "id": "4YkK1CKxrsRK"
      },
      "source": [
        "**Festkörperchemie, Molekülphysik, Structural Biology & Kristallographie**\n",
        "\n",
        "* **Raumgruppen in der Kristallographie und Kristallstrukturanalyse**\n",
        "\n",
        "  * [Liste der Raumgruppen](https://de.wikipedia.org/wiki/Liste_der_Raumgruppen) mit dem [Bravais-Gitter](https://de.m.wikipedia.org/wiki/Bravais-Gitter) in der [Kristallographie](https://de.wikipedia.org/wiki/Kristallographie)\n",
        "\n",
        "  * Video [Die Welt der Werkstoffe](https://www.youtube.com/watch?v=l9HiwE4qXd4) und [Video Kristallstrukturen](https://www.youtube.com/watch?v=S4tS1g2Npvk)\n",
        "\n",
        "  * Interessantes Paper [ML for Learning Crystallography Diffraction Patterns (DeepFreak)](https://dawn.cs.stanford.edu/2019/04/23/deepfreak/)\n",
        "\n",
        "  * [X-ray crystallography](https://en.m.wikipedia.org/wiki/X-ray_crystallography) bzw. [Kristallstrukturanalyse](https://de.wikipedia.org/wiki/Kristallstrukturanalyse) in [Structural_biology](https://en.m.wikipedia.org/wiki/Structural_biology) for Protein crystallography\n",
        "\n",
        "* **Punktgruppen und Molekülsymmetrie in der Molekülphysik**\n",
        "\n",
        "  * [Punktgruppen in der Molekülphysik](https://de.wikipedia.org/wiki/Punktgruppe#Punktgruppen_in_der_Molekülphysik): zB [Benzol](https://de.wikipedia.org/wiki/Benzol) kann beschrieben werden durch die Diedergruppe mit horizontalen Spiegelebenen $D_{6h}$\n",
        "\n",
        "  * [Molecular symmetry](https://en.m.wikipedia.org/wiki/Molecular_symmetry)\n",
        "  \n",
        "    * is a fundamental concept in chemistry, as it can be used to predict or explain many of a molecule's chemical properties, such as its dipole moment and its allowed spectroscopic transitions.\n",
        "    \n",
        "    * The framework for the study of molecular symmetry is provided by group theory, and in particular irreducible representation theory. \n",
        "\n",
        "    * Many techniques for the practical assessment of molecular symmetry exist, including X-ray crystallography and various forms of spectroscopy. Spectroscopic notation is based on symmetry considerations.\n",
        "\n",
        "  * [Chiralität](https://de.m.wikipedia.org/wiki/Chiralität_(Chemie)) bzw. in der Kristallographie wird sie auch Enantiomorphie genannt."
      ]
    },
    {
      "cell_type": "markdown",
      "metadata": {
        "id": "caRJ4rvXe2YY"
      },
      "source": [
        "**Symmetrien (Invarianzen) in der Physik**\n",
        "\n",
        "* Punktsymmetrie und CP verletzung: https://de.m.wikipedia.org/wiki/CP-Verletzung\n",
        "* Drehsymmetrie und Nicht-Magnetismus: https://de.m.wikipedia.org/wiki/Symmetriebrechung\n",
        "\n",
        "* mathematische Beschreibung von Symmetrien erfolgt durch die Gruppentheorie:\n",
        "\n",
        "  * https://de.m.wikipedia.org/wiki/Symmetrie_(Physik)\n",
        "\n",
        "  * https://de.m.wikipedia.org/wiki/Noether-Theorem\n",
        "\n",
        "* [Große vereinheitlichte Theorie](https://de.m.wikipedia.org/wiki/Große_vereinheitlichte_Theorie): (SU(3)C der [Quantenchromodynamik](https://de.m.wikipedia.org/wiki/Quantenchromodynamik), SU(2)I × U(1)Y der elektroschwachen Wechselwirkung) in einer übergeordneten Eichgruppe. Viele solche Modelle, besonders SU(5) und SO(10), aber auch exotische [Liegruppen](https://de.m.wikipedia.org/wiki/Lie-Gruppe) bis zu E(8) wurden, beginnend mit der Durchsetzung des Standardmodells in den 1970er Jahren, untersucht. Dabei steht SU für die [spezielle unitäre Gruppe](https://de.m.wikipedia.org/wiki/Spezielle_unitäre_Gruppe), U für die [unitäre Gruppe](https://de.m.wikipedia.org/wiki/Unitäre_Gruppe), O für die [orthogonale Gruppe](https://de.m.wikipedia.org/wiki/Orthogonale_Gruppe) und SO für die spezielle orthogonale Gruppe. \n",
        "\n",
        "* [Supersymmetrie](https://de.m.wikipedia.org/wiki/Supersymmetrie): Supersymmetriealgebra, Die Supersymmetrietransformationen, die Fermionen und Bosonen ineinander umwandeln, erweitern die Raumzeitsymmetrie, die [Poincaré-Gruppe](https://de.m.wikipedia.org/wiki/Poincaré-Gruppe).\n",
        "* [Spiegelsymmetrie](https://en.m.wikipedia.org/wiki/Mirror_symmetry_(string_theory))\n"
      ]
    },
    {
      "cell_type": "markdown",
      "metadata": {
        "id": "JkJKPC4Ari2q"
      },
      "source": [
        "**Cryptographie**\n",
        "\n",
        "* Generalization to finite cyclic groups in [Diffie–Hellman_key_exchange](https://en.m.wikipedia.org/wiki/Diffie–Hellman_key_exchange#Generalization_to_finite_cyclic_groups)\n",
        "\n",
        "* [Ellyptic curve cryptography](https://de.m.wikipedia.org/wiki/Elliptic_Curve_Cryptography) (Auf elliptischen Kurven kann eine additive zyklische Gruppe definiert werden, die aus den Vielfachen eines Punktes auf der Kurve, des Erzeugers der Gruppe, besteht.)\n",
        "\n",
        "* Quantum Key Distribution: BB84 and E91"
      ]
    },
    {
      "cell_type": "markdown",
      "metadata": {
        "id": "Qwj5Nm1dQgzJ"
      },
      "source": [
        "**Ikosaeder**\n",
        "\n",
        "https://de.wikipedia.org/wiki/Ikosaeder"
      ]
    },
    {
      "cell_type": "markdown",
      "metadata": {
        "id": "3sruHKY7mf53"
      },
      "source": [
        "https://www.youtube.com/watch?v=UHZam0Zf1FQ"
      ]
    },
    {
      "cell_type": "markdown",
      "metadata": {
        "id": "b0DTqfYINTxK"
      },
      "source": [
        "#### **Representation Theory**"
      ]
    },
    {
      "cell_type": "markdown",
      "metadata": {
        "id": "MBeQaZDyagb6"
      },
      "source": [
        "https://www.quantamagazine.org/the-useless-perspective-that-transformed-mathematics-20200609/"
      ]
    },
    {
      "cell_type": "markdown",
      "metadata": {
        "id": "aLx7kLBuNV6I"
      },
      "source": [
        "**Darstellungstheorie**\n",
        "\n",
        "https://de.wikipedia.org/wiki/Darstellungstheorie"
      ]
    },
    {
      "cell_type": "markdown",
      "metadata": {
        "id": "8exxuyJ99-_f"
      },
      "source": [
        "https://de.m.wikipedia.org/wiki/Präsentation_einer_Gruppe"
      ]
    },
    {
      "cell_type": "markdown",
      "metadata": {
        "id": "uOYAsmA2amtS"
      },
      "source": [
        "**Group Representations**\n",
        "\n",
        "* [Representations of groups](https://en.wikipedia.org/wiki/Group_representation) bzw. [Darstellung (Gruppe)](https://de.wikipedia.org/wiki/Darstellung_(Gruppe)) are important because they allow many group-theoretic problems to be reduced to problems in linear algebra, which is well understood. \n",
        "\n",
        "* Die Grundidee ist, die Elemente einer Gruppe durch Transformationen bestimmter mathematischer Objekte darzustellen.\n",
        "\n",
        "* They are also important in physics because, for example, they describe how the symmetry group of a physical system affects the solutions of equations describing that system."
      ]
    },
    {
      "cell_type": "markdown",
      "metadata": {
        "id": "SlGY8OoabIdA"
      },
      "source": [
        "**Darstellungstheorie endlicher Gruppen**\n",
        "\n",
        "* In der [Darstellungstheorie endlicher Gruppen](https://de.wikipedia.org/wiki/Darstellungstheorie_endlicher_Gruppen) wird untersucht, wie Gruppen auf gegebenen Strukturen operieren.\n",
        "\n",
        "* Man betrachtet vor allem die Operationen von Gruppen auf Vektorräumen (lineare Darstellungen). Allerdings werden auch die Operationen von Gruppen auf anderen Gruppen oder auf Mengen ([Permutationsdarstellung](https://de.m.wikipedia.org/wiki/Permutationsgruppe#Permutationsdarstellung)) betrachtet."
      ]
    },
    {
      "cell_type": "markdown",
      "metadata": {
        "id": "TWmdU_2za1cu"
      },
      "source": [
        "**Irreducible representation**\n",
        "\n",
        "* In the representation theory of groups and algebras, an [irreducible representation](https://en.m.wikipedia.org/wiki/Irreducible_representation) $(\\rho, V)$ or irrep of an\n",
        "algebraic structure $A$ is a nonzero representation that has no proper nontrivial subrepresentation $\\left(\\left.\\rho\\right|_{W}, W\\right)$, with $W \\subset V$ closed under the action of $\\{\\rho(a): a \\in A\\}$."
      ]
    },
    {
      "cell_type": "markdown",
      "metadata": {
        "id": "5ekpi0Q18ba2"
      },
      "source": [
        "**Charakter (Mathematik)**\n",
        "\n",
        "* Im mathematischen Teilgebiet der Darstellungstheorie von Gruppen sind [Charaktere](https://de.m.wikipedia.org/wiki/Charakter_(Mathematik)) gewisse Abbildungen von der Gruppe in einen Körper, in der Regel in den Körper der komplexen Zahlen."
      ]
    },
    {
      "cell_type": "markdown",
      "metadata": {
        "id": "gBdBrItNa76q"
      },
      "source": [
        "Jim Simons: differential characters & characteristic classes"
      ]
    },
    {
      "cell_type": "markdown",
      "metadata": {
        "id": "iV6gKFRSbKhn"
      },
      "source": [
        "https://www.simonsfoundation.org/2012/09/28/simons-foundation-chair-jim-simons-on-his-career-in-mathematics/"
      ]
    },
    {
      "cell_type": "markdown",
      "metadata": {
        "id": "32ZEV8Yo8AZC"
      },
      "source": [
        "**Character Table**\n",
        "\n",
        "https://en.m.wikipedia.org/wiki/Character_table\n",
        "\n",
        "* Molecular symmetry is a fundamental concept in chemistry, as it can be used to predict or explain many of a molecule's chemical properties, such as its dipole moment and its allowed spectroscopic transitions. \n",
        "\n",
        "* To do this it is necessary to classify the states of the molecule **using the irreducible representations from the character table of the symmetry group of the molecule.**"
      ]
    }
  ]
}