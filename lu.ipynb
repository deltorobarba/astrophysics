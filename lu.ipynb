{
  "nbformat": 4,
  "nbformat_minor": 0,
  "metadata": {
    "colab": {
      "name": "lu.ipynb",
      "provenance": [],
      "collapsed_sections": [],
      "include_colab_link": true
    },
    "kernelspec": {
      "name": "python3",
      "display_name": "Python 3"
    }
  },
  "cells": [
    {
      "cell_type": "markdown",
      "metadata": {
        "id": "view-in-github",
        "colab_type": "text"
      },
      "source": [
        "<a href=\"https://colab.research.google.com/github/deltorobarba/machinelearning/blob/master/lu.ipynb\" target=\"_parent\"><img src=\"https://colab.research.google.com/assets/colab-badge.svg\" alt=\"Open In Colab\"/></a>"
      ]
    },
    {
      "cell_type": "markdown",
      "metadata": {
        "id": "SIMbMaUDHB3j",
        "colab_type": "text"
      },
      "source": [
        "# **LU Decomposition**"
      ]
    },
    {
      "cell_type": "code",
      "metadata": {
        "id": "uMCcff-NHGgt",
        "colab_type": "code",
        "colab": {}
      },
      "source": [
        "import numpy as np\n",
        "import pandas as pd\n",
        "import seaborn as sns\n",
        "import matplotlib.pyplot as plt"
      ],
      "execution_count": null,
      "outputs": []
    },
    {
      "cell_type": "markdown",
      "metadata": {
        "id": "06ms9XQkR0Ts",
        "colab_type": "text"
      },
      "source": [
        "## **Characteristics of an LU Decomposition**"
      ]
    },
    {
      "cell_type": "markdown",
      "metadata": {
        "id": "_uDrmirVPSXe",
        "colab_type": "text"
      },
      "source": [
        "The LU decomposition is often used to simplify the **solving of systems of linear equations**, such as **finding the coefficients in a linear regression**, as well as in **calculating the determinant and inverse** of a matrix.\n",
        "\n",
        "* Lower–upper (LU) decomposition or factorization factors a matrix as the product of a lower triangular matrix and an upper triangular matrix. \n",
        "\n",
        "* The product sometimes includes a permutation matrix as well. LU decomposition can be viewed as the matrix form of Gaussian elimination. \n",
        "\n",
        "* Computers usually solve square systems of linear equations using LU decomposition, and it is also a key step when inverting a matrix or computing the determinant of a matrix."
      ]
    },
    {
      "cell_type": "markdown",
      "metadata": {
        "id": "7fK7BDsnHRgk",
        "colab_type": "text"
      },
      "source": [
        "The **LU decomposition is for square matrices** and decomposes a matrix into L and U components. Let A be a square matrix. An LU factorization refers to the factorization of A, with proper row and/or column orderings or permutations, into two factors – a **lower triangular matrix L** and an **upper triangular matrix U**:\n",
        "\n",
        "> A = L U\n",
        "\n",
        "* The LU decomposition is found using an <u>iterative numerical process</u> and **can fail for those matrices that cannot be decomposed or decomposed easily**.\n",
        "\n",
        "* In the lower triangular matrix all elements above the diagonal are zero, in the upper triangular matrix, all the elements below the diagonal are zero. For example, for a 3 × 3 matrix A, its LU decomposition looks like this:"
      ]
    },
    {
      "cell_type": "markdown",
      "metadata": {
        "id": "P0NjEcfOQBFu",
        "colab_type": "text"
      },
      "source": [
        "> $\\left[\\begin{array}{lll}\n",
        "a_{11} & a_{12} & a_{13} \\\\\n",
        "a_{21} & a_{22} & a_{23} \\\\\n",
        "a_{31} & a_{32} & a_{33}\n",
        "\\end{array}\\right]=\\left[\\begin{array}{ccc}\n",
        "l_{11} & 0 & 0 \\\\\n",
        "l_{21} & l_{22} & 0 \\\\\n",
        "l_{31} & l_{32} & l_{33}\n",
        "\\end{array}\\right]\\left[\\begin{array}{ccc}\n",
        "u_{11} & u_{12} & u_{13} \\\\\n",
        "0 & u_{22} & u_{23} \\\\\n",
        "0 & 0 & u_{33}\n",
        "\\end{array}\\right]$"
      ]
    },
    {
      "cell_type": "markdown",
      "metadata": {
        "id": "PcKH3CXHSPTV",
        "colab_type": "text"
      },
      "source": [
        "**Underdeterminism & Unit Triangular Matrix**\n",
        "\n",
        "* Sometimes **equations is [underdetermined](https://en.m.wikipedia.org/wiki/Underdetermined_system)**. In this case any two non-zero elements of L and U matrices are parameters of the solution and can be set arbitrarily to any non-zero value. \n",
        "\n",
        "* Therefore, to find the unique LU decomposition, it is **necessary to put some restriction on L and U matrices**. For example, we can conveniently require the lower triangular matrix L to be a **unit triangular matrix** (i.e. set all the entries of its main diagonal to ones). "
      ]
    },
    {
      "cell_type": "markdown",
      "metadata": {
        "id": "7wrOC5iYU6jk",
        "colab_type": "text"
      },
      "source": [
        "**Square matrices**\n",
        "\n",
        "* Any square matrix A admits an LUP factorization. If A is [invertible](https://en.m.wikipedia.org/wiki/Invertible_matrix), then it admits an LU (or LDU) factorization if and only if all its leading principal [minors](https://en.m.wikipedia.org/wiki/Minor_(linear_algebra)) are nonzero. \n",
        "\n",
        "* If A is a singular matrix of rank k, then it admits an LU factorization if the first k leading principal minors are nonzero, although the converse is not true.\n",
        "\n",
        "* If a square, invertible matrix has an LDU (factorization with all diagonal entries of L and U equal to 1), then the factorization is unique. In that case, the LU factorization is also unique if we require that the diagonal of L (or U) consists of ones."
      ]
    },
    {
      "cell_type": "markdown",
      "metadata": {
        "id": "EdqfrMkFVmOO",
        "colab_type": "text"
      },
      "source": [
        "**Symmetric positive definite matrices**\n",
        "\n",
        "* If A is a symmetric (or [Hermitian](https://en.m.wikipedia.org/wiki/Hermitian_matrix), if A is complex) [positive definite](https://en.m.wikipedia.org/wiki/Definite_symmetric_matrix) matrix, we can arrange matters so that U is the [conjugate transpose](https://en.m.wikipedia.org/wiki/Conjugate_transpose) of L. That is, we can write A as\n",
        "\n",
        "> A = LL*\n",
        "\n",
        "* This decomposition is called the **Cholesky decomposition**. The Cholesky decomposition always exists and is unique — provided the matrix is positive definite. \n",
        "\n",
        "* Furthermore, computing the Cholesky decomposition is more efficient and [numerically more stable](https://en.m.wikipedia.org/wiki/Numerical_stability) than computing some other LU decompositions."
      ]
    },
    {
      "cell_type": "markdown",
      "metadata": {
        "id": "MoLAEHYLVf7q",
        "colab_type": "text"
      },
      "source": [
        "**General matrices**\n",
        "\n",
        "* For a (not necessarily invertible) matrix over any field, the exact necessary and sufficient conditions under which it has an LU factorization are known. \n",
        "\n",
        "* The conditions are expressed in terms of the ranks of certain submatrices. The Gaussian elimination algorithm for obtaining LU decomposition has also been extended to this most general case."
      ]
    },
    {
      "cell_type": "markdown",
      "metadata": {
        "id": "NScrUC_NTUqh",
        "colab_type": "text"
      },
      "source": [
        "## **Variations of LU Decomposition**"
      ]
    },
    {
      "cell_type": "markdown",
      "metadata": {
        "id": "ARKrYJtXUFV1",
        "colab_type": "text"
      },
      "source": [
        "**LU factorization with partial pivoting (LUP Decomposition)**"
      ]
    },
    {
      "cell_type": "markdown",
      "metadata": {
        "id": "6JJYuQ1qSz8n",
        "colab_type": "text"
      },
      "source": [
        "A variation of this decomposition that is numerically more stable to solve in practice is called the LUP decomposition, or the **LU decomposition with partial pivoting**.\n",
        "\n",
        "> A = P L U\n",
        "\n",
        "The rows of the parent matrix are re-ordered to simplify the decomposition process and the **additional P matrix specifies a way to permute the result or return the result to the original order**."
      ]
    },
    {
      "cell_type": "markdown",
      "metadata": {
        "id": "xvQWQRRBUYUL",
        "colab_type": "text"
      },
      "source": [
        "It turns out that a proper permutation in rows (or columns) is sufficient for LU factorization. LU factorization with partial pivoting (LUP) refers often to LU factorization with row permutations only:\n",
        "\n",
        "> PA = LU\n",
        "\n",
        "where L and U are again lower and upper triangular matrices, and P is a [permutation matrix](https://en.m.wikipedia.org/wiki/Permutation_matrix)*, which, when left-multiplied to A, reorders the rows of A. It turns out that all square matrices can be factorized in this form, and the factorization is numerically stable in practice. This makes LUP decomposition a useful technique in practice.\n",
        "\n",
        "*A permutation matrix is a square binary matrix that has exactly one entry of 1 in each row and each column and 0s elsewhere.*"
      ]
    },
    {
      "cell_type": "markdown",
      "metadata": {
        "id": "fHbBijklUI1_",
        "colab_type": "text"
      },
      "source": [
        "**LU factorization with full pivoting**"
      ]
    },
    {
      "cell_type": "markdown",
      "metadata": {
        "id": "sqpDBr0MUNdO",
        "colab_type": "text"
      },
      "source": [
        "An LU factorization with full pivoting involves both row and column permutations:\n",
        "\n",
        "> PAQ = LU\n",
        "\n",
        "where L, U and P are defined as before, and Q is a permutation matrix that reorders the columns of A."
      ]
    },
    {
      "cell_type": "markdown",
      "metadata": {
        "id": "wtM3ZbIRQ_ZV",
        "colab_type": "text"
      },
      "source": [
        "**LDU Decomposition**"
      ]
    },
    {
      "cell_type": "markdown",
      "metadata": {
        "id": "FVfgCceCRmCu",
        "colab_type": "text"
      },
      "source": [
        "An LDU decomposition is a decomposition of the form\n",
        "\n",
        "> A = LDU\n",
        "\n",
        "where D is a diagonal matrix, and L and U are unitriangular matrices, meaning that all the entries on the diagonals of L and U are one.\n",
        "\n",
        "Below we required that A be a square matrix, but these decompositions can all be generalized to rectangular matrices as well. In that case, **L and D are square matrices** both of which have the same number of rows as A, and U has exactly the same dimensions as A. Upper triangular should be interpreted as having only zero entries below the main diagonal, which starts at the upper left corner."
      ]
    },
    {
      "cell_type": "markdown",
      "metadata": {
        "id": "SgwgHKNRRCpn",
        "colab_type": "text"
      },
      "source": [
        "![LDU decomposition of a Walsh matrix](https://upload.wikimedia.org/wikipedia/commons/thumb/8/84/LDU_decomposition_of_Walsh_16.svg/640px-LDU_decomposition_of_Walsh_16.svg.png)\n",
        "\n",
        "*LDU decomposition of a [Walsh matrix](https://en.m.wikipedia.org/wiki/Walsh_matrix)*"
      ]
    },
    {
      "cell_type": "markdown",
      "metadata": {
        "id": "6TfIjoZITagA",
        "colab_type": "text"
      },
      "source": [
        "## **Example**"
      ]
    },
    {
      "cell_type": "markdown",
      "metadata": {
        "id": "UNuYRYpUJUHQ",
        "colab_type": "text"
      },
      "source": [
        "**Define Matrix**"
      ]
    },
    {
      "cell_type": "code",
      "metadata": {
        "id": "8LQILavQHeHI",
        "colab_type": "code",
        "colab": {
          "base_uri": "https://localhost:8080/",
          "height": 71
        },
        "outputId": "5a735802-2241-48c6-d9b4-c823c7c23562"
      },
      "source": [
        "# LU decomposition\n",
        "from numpy import array\n",
        "\n",
        "# define a square matrix\n",
        "A = array([[1, 2, 3], [4, 5, 6], [7, 8, 9]])\n",
        "print(A)"
      ],
      "execution_count": 2,
      "outputs": [
        {
          "output_type": "stream",
          "text": [
            "[[1 2 3]\n",
            " [4 5 6]\n",
            " [7 8 9]]\n"
          ],
          "name": "stdout"
        }
      ]
    },
    {
      "cell_type": "markdown",
      "metadata": {
        "id": "cxqLQ4E1JVHe",
        "colab_type": "text"
      },
      "source": [
        "**Decompose**"
      ]
    },
    {
      "cell_type": "code",
      "metadata": {
        "id": "ASjtKDTNHm7c",
        "colab_type": "code",
        "colab": {}
      },
      "source": [
        "# LU decomposition\n",
        "from scipy.linalg import lu\n",
        "P, L, U = lu(A)"
      ],
      "execution_count": 3,
      "outputs": []
    },
    {
      "cell_type": "code",
      "metadata": {
        "id": "ppDt7HJZJeP-",
        "colab_type": "code",
        "colab": {
          "base_uri": "https://localhost:8080/",
          "height": 71
        },
        "outputId": "0bed9c9d-a9aa-4e28-ffd0-5632b52d480d"
      },
      "source": [
        "print(P)"
      ],
      "execution_count": 4,
      "outputs": [
        {
          "output_type": "stream",
          "text": [
            "[[0. 1. 0.]\n",
            " [0. 0. 1.]\n",
            " [1. 0. 0.]]\n"
          ],
          "name": "stdout"
        }
      ]
    },
    {
      "cell_type": "code",
      "metadata": {
        "id": "yzlZ482zJdIj",
        "colab_type": "code",
        "colab": {
          "base_uri": "https://localhost:8080/",
          "height": 71
        },
        "outputId": "938b1824-57cc-410c-a7cf-df34b2781cf1"
      },
      "source": [
        "print(L)"
      ],
      "execution_count": 5,
      "outputs": [
        {
          "output_type": "stream",
          "text": [
            "[[1.         0.         0.        ]\n",
            " [0.14285714 1.         0.        ]\n",
            " [0.57142857 0.5        1.        ]]\n"
          ],
          "name": "stdout"
        }
      ]
    },
    {
      "cell_type": "code",
      "metadata": {
        "id": "opCE0DFbJcPk",
        "colab_type": "code",
        "colab": {
          "base_uri": "https://localhost:8080/",
          "height": 71
        },
        "outputId": "72e99785-677c-44c2-c0c5-f0a7021e9c7a"
      },
      "source": [
        "print(U)"
      ],
      "execution_count": 6,
      "outputs": [
        {
          "output_type": "stream",
          "text": [
            "[[7.         8.         9.        ]\n",
            " [0.         0.85714286 1.71428571]\n",
            " [0.         0.         0.        ]]\n"
          ],
          "name": "stdout"
        }
      ]
    },
    {
      "cell_type": "markdown",
      "metadata": {
        "id": "B3KZgBdoJXJO",
        "colab_type": "text"
      },
      "source": [
        "**Reconstruct**"
      ]
    },
    {
      "cell_type": "code",
      "metadata": {
        "id": "gcDSYwtgHtLo",
        "colab_type": "code",
        "colab": {
          "base_uri": "https://localhost:8080/",
          "height": 71
        },
        "outputId": "0fcbd662-6064-484a-8f25-38839552b4d6"
      },
      "source": [
        "B = P.dot(L).dot(U)\n",
        "print(B)"
      ],
      "execution_count": 7,
      "outputs": [
        {
          "output_type": "stream",
          "text": [
            "[[1. 2. 3.]\n",
            " [4. 5. 6.]\n",
            " [7. 8. 9.]]\n"
          ],
          "name": "stdout"
        }
      ]
    },
    {
      "cell_type": "code",
      "metadata": {
        "id": "gcfF-RJzpu1c",
        "colab_type": "code",
        "colab": {
          "base_uri": "https://localhost:8080/",
          "height": 71
        },
        "outputId": "f0313866-63ab-4653-b65d-8ee858fe8104"
      },
      "source": [
        "# Check for differences between both matrices\n",
        "X = B - A\n",
        "print(X)"
      ],
      "execution_count": 8,
      "outputs": [
        {
          "output_type": "stream",
          "text": [
            "[[0. 0. 0.]\n",
            " [0. 0. 0.]\n",
            " [0. 0. 0.]]\n"
          ],
          "name": "stdout"
        }
      ]
    }
  ]
}