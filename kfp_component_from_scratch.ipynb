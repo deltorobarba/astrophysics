{
  "nbformat": 4,
  "nbformat_minor": 0,
  "metadata": {
    "kernelspec": {
      "display_name": "Python 3",
      "language": "python",
      "name": "python3"
    },
    "language_info": {
      "codemirror_mode": {
        "name": "ipython",
        "version": 3
      },
      "file_extension": ".py",
      "mimetype": "text/x-python",
      "name": "python",
      "nbconvert_exporter": "python",
      "pygments_lexer": "ipython3",
      "version": "3.6.7"
    },
    "colab": {
      "name": "kfp_component_from_scratch.ipynb",
      "provenance": [],
      "include_colab_link": true
    }
  },
  "cells": [
    {
      "cell_type": "markdown",
      "metadata": {
        "id": "view-in-github",
        "colab_type": "text"
      },
      "source": [
        "<a href=\"https://colab.research.google.com/github/deltorobarba/machinelearning/blob/master/kfp_component_from_scratch.ipynb\" target=\"_parent\"><img src=\"https://colab.research.google.com/assets/colab-badge.svg\" alt=\"Open In Colab\"/></a>"
      ]
    },
    {
      "cell_type": "code",
      "metadata": {
        "id": "E9w6Vap8iMkU",
        "colab_type": "code",
        "colab": {}
      },
      "source": [
        "# Set your output and project. !!!Must Do before you can proceed!!!\n",
        "EXPERIMENT_NAME = 'Tutorial Comp from Scratch V2.51'\n",
        "PROJECT_NAME =  'erwinh-mldemo'                      #'Your-Gcp-Project-Name'"
      ],
      "execution_count": 0,
      "outputs": []
    },
    {
      "cell_type": "code",
      "metadata": {
        "id": "_WHG61KhiMkX",
        "colab_type": "code",
        "colab": {},
        "outputId": "639747cc-44bc-4819-c047-f95eebab4f78"
      },
      "source": [
        "import kfp\n",
        "from kfp import gcp\n",
        "import os\n",
        "client = kfp.Client()\n",
        "experiment = client.create_experiment(EXPERIMENT_NAME)\n",
        "# Load the component by calling load_component_from_file or load_component_from_url\n",
        "# To load the component, the pipeline author only needs to have access to the component.yaml file.\n",
        "# The Kubernetes cluster executing the pipeline needs access to the container image specified in the component."
      ],
      "execution_count": 0,
      "outputs": [
        {
          "output_type": "display_data",
          "data": {
            "text/html": [
              "Experiment link <a href=\"/pipeline/#/experiments/details/0d9e8c76-42c0-411c-9291-b89f9f79b97c\" target=\"_blank\" >here</a>"
            ],
            "text/plain": [
              "<IPython.core.display.HTML object>"
            ]
          },
          "metadata": {
            "tags": []
          }
        }
      ]
    },
    {
      "cell_type": "code",
      "metadata": {
        "id": "0blz2smKiMkZ",
        "colab_type": "code",
        "colab": {}
      },
      "source": [
        "component_url_prefix = 'https://raw.githubusercontent.com/Huize501/kfp/master/comp-from-scratch/kfp-test-component1/' \n"
      ],
      "execution_count": 0,
      "outputs": []
    },
    {
      "cell_type": "code",
      "metadata": {
        "id": "crPUqnpMiMkb",
        "colab_type": "code",
        "colab": {}
      },
      "source": [
        "dummy_op = kfp.components.load_component_from_url(component_url_prefix + 'component.yaml')# dummy_op = kfp.components.load_component_from_url('http://....../component.yaml')"
      ],
      "execution_count": 0,
      "outputs": []
    },
    {
      "cell_type": "code",
      "metadata": {
        "id": "A8DAVCwUiMkd",
        "colab_type": "code",
        "colab": {}
      },
      "source": [
        "component2_url_prefix = 'https://raw.githubusercontent.com/Huize501/kfp/master/comp-from-scratch/kfp-test-component2/'\n"
      ],
      "execution_count": 0,
      "outputs": []
    },
    {
      "cell_type": "code",
      "metadata": {
        "id": "I2_7GFHbiMkf",
        "colab_type": "code",
        "colab": {}
      },
      "source": [
        "dummy_op2 = kfp.components.load_component_from_url(component2_url_prefix + 'component2.yaml')"
      ],
      "execution_count": 0,
      "outputs": []
    },
    {
      "cell_type": "code",
      "metadata": {
        "id": "1rYCzWZriMkh",
        "colab_type": "code",
        "colab": {}
      },
      "source": [
        "from kfp import dsl\n",
        "\n",
        "# dummy_op is now a \"factory function\" that accepts the arguments for the component's inputs\n",
        "# and produces a task object (e.g. ContainerOp instance).\n",
        "# Inspect the dummy_op function in Jupyter Notebook by typing \"dummy_op(\" and pressing Shift+Tab\n",
        "# You can also get help by writing help(dummy_op) or dummy_op? or dummy_op??\n",
        "# The signature of the dummy_op function corresponds to the inputs section of the component.\n",
        "# Some tweaks are performed to make the signature valid and pythonic:\n",
        "# 1) All inputs with default values will come after the inputs without default values\n",
        "# 2) The input names are converted to pythonic names (spaces and symbols replaced\n",
        "#    with underscores and letters lowercased).\n",
        "\n",
        "# Define a pipeline and create a task from a component:\n",
        "@kfp.dsl.pipeline(name='KFP test erwinh', description='name')\n",
        "def my_pipeline(name = dsl.PipelineParam(name='name', value='Erwin')):\n",
        "    dummy1_task = dummy_op(\n",
        "        # Input name \"Input 1 URI\" is converted to pythonic parameter name \"input_1_uri\"\n",
        "        name = name,\n",
        "        gcsbucket ='', # set the gcs bucket\n",
        "        ).apply(kfp.gcp.use_gcp_secret('user-gcp-sa'))\n",
        "    \n",
        "    dummy2_task = dummy_op2(\n",
        "        gcspath=dummy1_task.outputs['output_path'],\n",
        "        ).apply(kfp.gcp.use_gcp_secret('user-gcp-sa'))"
      ],
      "execution_count": 0,
      "outputs": []
    },
    {
      "cell_type": "code",
      "metadata": {
        "id": "oppMNtiViMkj",
        "colab_type": "code",
        "colab": {}
      },
      "source": [
        "pipeline_func = my_pipeline\n",
        "pipeline_filename = pipeline_func.__name__ + '.pipeline.zip'\n",
        "import kfp.compiler as compiler\n",
        "compiler.Compiler().compile(pipeline_func, pipeline_filename)"
      ],
      "execution_count": 0,
      "outputs": []
    },
    {
      "cell_type": "code",
      "metadata": {
        "id": "KnwWMBQWiMkk",
        "colab_type": "code",
        "colab": {},
        "outputId": "737a01ca-11a0-4ffe-ff55-bf41fe5c7cbd"
      },
      "source": [
        "#Specify pipeline argument values\n",
        "arguments = {}\n",
        "\n",
        "#Submit a pipeline run\n",
        "run_name = pipeline_func.__name__ + ' run'\n",
        "run_result = client.run_pipeline(experiment.id, run_name, pipeline_filename, arguments)\n",
        "\n",
        "#This link leads to the run information page. \n",
        "#Note: There is a bug in JupyterLab that modifies the URL and makes the link stop working"
      ],
      "execution_count": 0,
      "outputs": [
        {
          "output_type": "display_data",
          "data": {
            "text/html": [
              "Run link <a href=\"/pipeline/#/runs/details/ad34d5b7-cb05-11e9-aec6-42010a8000ae\" target=\"_blank\" >here</a>"
            ],
            "text/plain": [
              "<IPython.core.display.HTML object>"
            ]
          },
          "metadata": {
            "tags": []
          }
        }
      ]
    },
    {
      "cell_type": "markdown",
      "metadata": {
        "id": "ylaD06qIiMkm",
        "colab_type": "raw"
      },
      "source": [
        "# Copyright 2019 Google Inc. All Rights Reserved.\n",
        "#\n",
        "# Licensed under the Apache License, Version 2.0 (the \"License\");\n",
        "# you may not use this file except in compliance with the License.\n",
        "# You may obtain a copy of the License at\n",
        "#\n",
        "#     http://www.apache.org/licenses/LICENSE-2.0\n",
        "#\n",
        "# Unless required by applicable law or agreed to in writing, software\n",
        "# distributed under the License is distributed on an \"AS IS\" BASIS,\n",
        "# WITHOUT WARRANTIES OR CONDITIONS OF ANY KIND, either express or implied.\n",
        "# See the License for the specific language governing permissions and\n",
        "# limitations under the License."
      ]
    }
  ]
}