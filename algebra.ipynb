{
  "nbformat": 4,
  "nbformat_minor": 0,
  "metadata": {
    "colab": {
      "name": "algebra.ipynb",
      "provenance": [],
      "collapsed_sections": [
        "HmCOFgKfs2ev",
        "dr1iwDxKS8MN",
        "5c1L66HH0mw5",
        "o5G2e0uRcUjy",
        "ZDqJB-vtXMJ1",
        "foYtNNmXXHhZ",
        "QdV8mAKugO06"
      ],
      "include_colab_link": true
    },
    "kernelspec": {
      "name": "python3",
      "display_name": "Python 3"
    }
  },
  "cells": [
    {
      "cell_type": "markdown",
      "metadata": {
        "id": "view-in-github",
        "colab_type": "text"
      },
      "source": [
        "<a href=\"https://colab.research.google.com/github/deltorobarba/machinelearning/blob/master/algebra.ipynb\" target=\"_parent\"><img src=\"https://colab.research.google.com/assets/colab-badge.svg\" alt=\"Open In Colab\"/></a>"
      ]
    },
    {
      "cell_type": "markdown",
      "metadata": {
        "id": "2Aoj2PpxvDQV",
        "colab_type": "text"
      },
      "source": [
        "# **Algebraic Structures**"
      ]
    },
    {
      "cell_type": "code",
      "metadata": {
        "id": "1U5_6xH7tAQq",
        "colab_type": "code",
        "colab": {}
      },
      "source": [
        "import numpy as np\n",
        "import pandas as pd\n",
        "import seaborn as sns\n",
        "import matplotlib.pyplot as plt"
      ],
      "execution_count": null,
      "outputs": []
    },
    {
      "cell_type": "markdown",
      "metadata": {
        "id": "HmCOFgKfs2ev",
        "colab_type": "text"
      },
      "source": [
        "#### **Summary of Algebraic Structures**"
      ]
    },
    {
      "cell_type": "markdown",
      "metadata": {
        "id": "sj5ZhZr1bdCL",
        "colab_type": "text"
      },
      "source": [
        "Algebra ist das Lösen von Gleichungen."
      ]
    },
    {
      "cell_type": "markdown",
      "metadata": {
        "id": "7fxw9DSyjiah",
        "colab_type": "text"
      },
      "source": [
        "* **Eine Algebraische Struktur ist eine Menge versehen mit Verknüpfungen auf dieser Menge**. Eine Vielzahl der in der abstrakten Algebra untersuchten Strukturen wie Gruppen, Ringe oder Körper sind spezielle algebraische Strukturen.\n",
        "\n",
        "* Algebraische Strukturen sind eine Form von [mathematischen Strukturen](https://de.m.wikipedia.org/wiki/Mathematische_Struktur) (neben topologischen Strukturen, geometrischen Strukturen und Zahlbereichen). Abstract algebra is the study of algebraic structures. \n",
        "\n",
        "* **Such a structure consists of a set together with one or more binary operations, which are required to satisfy certain axioms.**\n",
        "\n",
        "* The structures listed below are only a sample of the many algebraic structures of importance in mathematics. Many fields of mathematics involve their own special algebraic structures, and new algebraic structures are defined all the time. To give you a sense of scale, the online encyclopedia Wikipedia currently has articles on over a hundred different algebraic structures, and this represents only a small fraction of those that have been investigated in the mathematical literature."
      ]
    },
    {
      "cell_type": "markdown",
      "metadata": {
        "id": "a_Grie7TcA-J",
        "colab_type": "text"
      },
      "source": [
        "https://de.m.wikipedia.org/wiki/Universelle_Algebra"
      ]
    },
    {
      "cell_type": "markdown",
      "metadata": {
        "id": "pcE7T_Nvm94w",
        "colab_type": "text"
      },
      "source": [
        "https://de.m.wikipedia.org/wiki/Homologische_Algebra"
      ]
    },
    {
      "cell_type": "markdown",
      "metadata": {
        "id": "q7Q5VnhzpfGj",
        "colab_type": "text"
      },
      "source": [
        "https://en.m.wikipedia.org/wiki/Outline_of_algebraic_structures"
      ]
    },
    {
      "cell_type": "markdown",
      "metadata": {
        "id": "AZCpPDJAe3AK",
        "colab_type": "text"
      },
      "source": [
        "* **Summary**: Aus einer Menge der Zahlen (N, Z, Q, R, C, H) eine algebraische Struktur basteln. Man kann mit der Gruppe anfangen (als einfachste algebraische Struktur), um erstmal einfach zu verknüpfen. Dann schickt man noch eine Verknüpfung rein und bastelt sich so einen Ring. Kommt dann zum Körper und kann spätestens bei den Körpern über komplexen Zahlen sämtliche Gleichungen lösen.\n",
        "\n",
        "* Gruppe zB schickt man die Menge natürliche Zahlen N in eine zweistellige Verknüpfung. Wobei abgestuft werden kann wie viele Axiome gelten, von Magma, über Halbgruppe (nur Assoziativität), Monoid (inkl. neutrales Element), Gruppe (inkl Inverse) und Abelsche Gruppe (inkl Kommutativität).\n",
        "\n",
        "* Ringe erlauben **zwei** zweistellige Verknüpfungen, üblicherweise der **ganzen Zahlen Z**, was aber kein Divisionsring ist / keine multiplikative Inverse für alle Elemente (gibt Probleme bei der Lösung mancher Gleichungen): Addition: (R, +) ist eine abelsche Gruppe, aber die Multiplikation: (R, ∙) ist eine Halbgruppe. Kommutativität in der Multiplikation gilt dann erst bei Körpern!\n",
        "\n",
        "* Divisionsring = Schiefkörper (hat alle Körpereigenschaften, aber die Multiplikation ist nicht notwendigerweise kommutativ). Anwendung bei Quaternions H.\n",
        "\n",
        "* Körper über rationale Zahlen Q, über reelle Zahlen R und über komplexe Zahlen C. Damit kann man praktisch alle Gleichungen lösen.\n",
        "\n",
        "* Für Operationen im mehrdimensionalen Raum erweitert man noch auf Module (für Ringe, zB ganze Zahlen Z<sup>n</sup>) und Vektorräume (für Körper, zB reelle Zahlen R<sup>n</sup>). Deshalb sagt man auch zB Vektorraum über einen Körper der reellen Zahlen. **Ein Modul ist ein n-dimensionaler Ring, und ein Vektorraum ist ein n-dimensionaler Körper.**"
      ]
    },
    {
      "cell_type": "markdown",
      "metadata": {
        "id": "DSDecWiLleDK",
        "colab_type": "text"
      },
      "source": [
        "![alternativer Text](https://upload.wikimedia.org/wikipedia/commons/thumb/7/7a/Übersicht_Körper.svg/993px-Übersicht_Körper.svg.png)\n"
      ]
    },
    {
      "cell_type": "markdown",
      "metadata": {
        "id": "CoIy64C2tO4P",
        "colab_type": "text"
      },
      "source": [
        "https://en.m.wikipedia.org/wiki/Vector_space"
      ]
    },
    {
      "cell_type": "markdown",
      "metadata": {
        "id": "C9dRal7LstQ8",
        "colab_type": "text"
      },
      "source": [
        "https://en.m.wikipedia.org/wiki/Outline_of_algebraic_structures"
      ]
    },
    {
      "cell_type": "markdown",
      "metadata": {
        "id": "dr1iwDxKS8MN",
        "colab_type": "text"
      },
      "source": [
        "#### **Properties (Grundlegende Regeln der Algebra)**"
      ]
    },
    {
      "cell_type": "markdown",
      "metadata": {
        "id": "H-pYZbqoo-Rz",
        "colab_type": "text"
      },
      "source": [
        "##### **[Abgeschlossenheit](https://de.m.wikipedia.org/wiki/Abgeschlossenheit_(algebraische_Struktur))**\n",
        "\n",
        "* Closure laws: a + b and ab are unique elements in the field.\n",
        "\n",
        "* Manchmal findet man noch die Forderung der „Abgeschlossenheit“, dass \n",
        "x\n",
        "∗\n",
        "y\n",
        "wieder in \n",
        "G liegen soll, aber aus der Sicht eines Algebraikers beinhaltet der Begriff der „zweistelligen Verknüpfung“ diese Eigenschaft bereits."
      ]
    },
    {
      "cell_type": "markdown",
      "metadata": {
        "id": "aMr2jhDX0t-E",
        "colab_type": "text"
      },
      "source": [
        "Manchmal findet man noch die Forderung der „Abgeschlossenheit“, dass x ∗ y wieder in G liegen soll, aber aus der Sicht eines Algebraikers beinhaltet der Begriff der „zweistelligen Verknüpfung“ diese Eigenschaft bereits."
      ]
    },
    {
      "cell_type": "markdown",
      "metadata": {
        "id": "Nc3n_XE6Dybo",
        "colab_type": "text"
      },
      "source": [
        "*Nur Abgeschlossenheit gilt für Magma (Groupoid)*"
      ]
    },
    {
      "cell_type": "markdown",
      "metadata": {
        "id": "K64WJEKxT5Jb",
        "colab_type": "text"
      },
      "source": [
        "##### **[Assoziativität](https://de.m.wikipedia.org/wiki/Assoziativgesetz)**\n",
        "\n",
        "* **Addition**. When three or more numbers are added, the sum is the same regardless of the way in which the numbers are grouped. (a + b) + c = a + (b + c)\n",
        "\n",
        "* **Multiplication**. When three or more numbers are multiplied, the product is the same regardless of the way in which the numbers are grouped. (a * b) * c = a * (b * c)"
      ]
    },
    {
      "cell_type": "markdown",
      "metadata": {
        "id": "WyIE7Cjqs9SE",
        "colab_type": "text"
      },
      "source": [
        "*Abgeschlossenheit und Assoziativität gilt für Halbgruppen*"
      ]
    },
    {
      "cell_type": "markdown",
      "metadata": {
        "id": "FIBq7GtBir5R",
        "colab_type": "text"
      },
      "source": [
        "##### **[Identity Property](https://en.m.wikipedia.org/wiki/Identity_element) (Neutrales Element)**\n",
        "\n",
        "* **Additive identity**. The sum of any number and zero is that number. 12 + 0 = 12\n",
        "\n",
        "* **Multiplicatice identity**, The product of any number and one is that number. 18 x 1 = 18"
      ]
    },
    {
      "cell_type": "markdown",
      "metadata": {
        "id": "I7zmBMZLtT9F",
        "colab_type": "text"
      },
      "source": [
        "*Zusätzlich Identity gilt für Monoid (Teiltyp Gruppe)*"
      ]
    },
    {
      "cell_type": "markdown",
      "metadata": {
        "id": "C04LXzIEpeGY",
        "colab_type": "text"
      },
      "source": [
        "##### **[Inverse Elemente](https://de.m.wikipedia.org/wiki/Inverses_Element)**\n",
        "\n",
        "* For each element a $\\in \\mathrm{G}$, there exists an element $\\mathrm{a}^{-1} \\in \\mathrm{G}$ such that $\\mathrm{a} \\cdot \\mathrm{a}^{-1}=\\mathrm{a}^{-1} \\cdot \\mathrm{a}=\\mathrm{e}$. (The element $\\mathrm{a}^{-1}$ is called the inverse of a.)\n",
        "\n",
        "* Wenn man ein beliebiges Element der Menge und sein Inverses mit der Rechenoperation verknüpft, erhält man immer das sogenannte neutrale Element $\\mathrm{e}$ als Ergebnis.\n",
        "\n",
        "* **Addition**: a+(-a) = a-a = 0 zB: 7 + (-7) = 0\n",
        "\n",
        "* **Multiplication**: Two elements of a set, A and A inverse, multiplied together to produce the identity element. Zahl a multipliziert mit seinem Kehrwert (1/a oder a<sup>-1</sup>) = 1"
      ]
    },
    {
      "cell_type": "markdown",
      "metadata": {
        "id": "vZnKN7JhvPn7",
        "colab_type": "text"
      },
      "source": [
        "*Zusätzlich Inverse gilt für Gruppe*"
      ]
    },
    {
      "cell_type": "markdown",
      "metadata": {
        "id": "Ll09kLWiUUb-",
        "colab_type": "text"
      },
      "source": [
        "##### **[Kommutativität](https://de.m.wikipedia.org/wiki/Kommutativgesetz)**\n",
        "\n",
        "* **Addition**. When two numbers are added, the sum is the same regardless of the order in which the numbers are added. a + b = b + a\n",
        "\n",
        "* **Multiplication**. When two numbers are multiplied together, the product is the same regardless of the order in which the numbers are multiplied. a * b = b * a"
      ]
    },
    {
      "cell_type": "markdown",
      "metadata": {
        "id": "exscwR8mtdxL",
        "colab_type": "text"
      },
      "source": [
        "*Zusätzlich Kommutativität gilt für Abelian Group*"
      ]
    },
    {
      "cell_type": "markdown",
      "metadata": {
        "id": "xNPouI8c84_b",
        "colab_type": "text"
      },
      "source": [
        "For more details on sub-types of groups, see Group-like structures: https://en.m.wikipedia.org/wiki/Category_(mathematics)"
      ]
    },
    {
      "cell_type": "markdown",
      "metadata": {
        "id": "NKq9om0BTe_4",
        "colab_type": "text"
      },
      "source": [
        "##### **[Distributivgesetz](https://de.m.wikipedia.org/wiki/Distributivgesetz)**\n",
        "\n",
        "* The sum of two numbers times a third number is equal to the sum of each addend times the third number (Gilt für körper (fields), aber nicht gruppen oder ringe!). a * b + a * c = a * (b + c)"
      ]
    },
    {
      "cell_type": "markdown",
      "metadata": {
        "id": "tNBArCWBuSJo",
        "colab_type": "text"
      },
      "source": [
        "*Gilt zusätzlich Distributivgesetz gilt für Ring (da man hier zwei Operationen benötigt)*"
      ]
    },
    {
      "cell_type": "markdown",
      "metadata": {
        "id": "5c1L66HH0mw5",
        "colab_type": "text"
      },
      "source": [
        "##### **Summary**"
      ]
    },
    {
      "cell_type": "markdown",
      "metadata": {
        "id": "4XKF004At1qB",
        "colab_type": "text"
      },
      "source": [
        "**The elements of a field (Körper) obey the following laws:**\n",
        "\n",
        "1. **Closure laws**: a + b and ab are unique elements in the field.\n",
        "\n",
        "2. **Commutative laws**: a + b = b + a and ab = ba.\n",
        "\n",
        "3. **Associative laws**: a + (b + c) = (a + b) + c and a(bc) = (ab)c.\n",
        "\n",
        "4. **Identity laws**: there exist elements 0 and 1 such that a + 0 = a and a × 1 = a.\n",
        "\n",
        "5. **Inverse laws**: for every a there exists an element - a such that a + (-a) = 0, and for every a ≠ 0 there exists an element a-1 such that a × a-1 = 1.\n",
        "\n",
        "6. **Distributive law**: a(b + c) = ab + ac.\n",
        "\n",
        "\n",
        "Read more: Field - Set, Laws, Elements, and Operations - JRank Articles https://science.jrank.org/pages/2709/Field.html#ixzz6UdPamPNB"
      ]
    },
    {
      "cell_type": "markdown",
      "metadata": {
        "id": "o5G2e0uRcUjy",
        "colab_type": "text"
      },
      "source": [
        "#### **Gruppen**"
      ]
    },
    {
      "cell_type": "markdown",
      "metadata": {
        "id": "tvj5Lv5mbE0m",
        "colab_type": "text"
      },
      "source": [
        "https://de.m.wikipedia.org/wiki/Gruppentheorie"
      ]
    },
    {
      "cell_type": "markdown",
      "metadata": {
        "id": "msM-kHmmBHXP",
        "colab_type": "text"
      },
      "source": [
        "https://de.m.wikipedia.org/wiki/Gruppe_(Mathematik)"
      ]
    },
    {
      "cell_type": "markdown",
      "metadata": {
        "id": "0ZX6NbAykTKz",
        "colab_type": "text"
      },
      "source": [
        "* Die fundamentalen algebraischen Strukturen besitzen eine oder zwei [zweistellige innere Verknüpfungen](https://de.m.wikipedia.org/wiki/Zweistellige_Verknüpfung). \n",
        "\n",
        "* Gruppen sind algebraische Strukturen mit einer inneren Verknüpfung\n",
        "\n",
        "* **A group is an algebraic structure with a single operation**. \n",
        "\n",
        "* Groups are closely associated with the idea of symmetry, and most groups that arise in mathematics are groups of symmetry transformations, with the operation being composition of functions.\n",
        "\n",
        "* **Groups are a particularly simple algebraic structure**, having only one operation and three axioms. Most algebraic structures have more than one operation, and are required to satisfy a long list of axioms."
      ]
    },
    {
      "cell_type": "markdown",
      "metadata": {
        "id": "O2YHCqA2omDH",
        "colab_type": "text"
      },
      "source": [
        "A group is a set G together with a binary operation ∗ on G, satisfying the following axioms:\n",
        "\n",
        "1. **Abgeschlossenheit** (für **Magma**, ohne assoziativität, inverse, identity oder kommutativ)\n",
        "\n",
        "2. **Assoziativität**: The operation ∗ is associative. That is,\n",
        "a ∗ (b ∗ c) = (a ∗ b) ∗ c\n",
        "for all a,b,c ∈ G. (für **Halbgruppen**, ohne identity, inverse oder kommutativ)\n",
        "\n",
        "3. **Identity Element**: There exists an element e ∈ G with the property that\n",
        "a∗e=e∗a=a\n",
        "for all a ∈ G. (This element e is called the identity element of G.) für **Monoid** (ein Monoid ist eine Halbgruppe, die ein neutrales Element besitzt)\n",
        "\n",
        "4. **Inverse**: For each element a ∈ G, there exists an element a<sup>-1</sup> ∈ G such that a∗􏰁a<sup>-1</sup>􏰂 = 􏰁a<sup>-1</sup>􏰂∗a = e.\n",
        "(The element a<sup>-1</sup> is called the inverse of a.) für **Gruppe** (Eine Gruppe ist also ein Monoid, in dem jedes Element ein Inverses hat.)\n",
        "\n",
        "5. Kommutativität: für **Abelsche Gruppen**"
      ]
    },
    {
      "cell_type": "markdown",
      "metadata": {
        "id": "vTQu1Un1DJ4Z",
        "colab_type": "text"
      },
      "source": [
        "**Von der Magma zur Abel'schen Gruppe**: Die Grundmenge ist unter einer inneren Verknüpfung per Definition abgeschlossen. Ansonsten muss ein Magma keine speziellen Eigenschaften haben. Durch Hinzunahme weiterer Bedingungen werden speziellere Strukturen definiert, die alle wiederum Magmen sind. Typische Beispiele sind:\n",
        "\n",
        "* Halbgruppe: ein Magma, dessen Verknüpfung assoziativ ist\n",
        "\n",
        "* Monoid: eine Halbgruppe mit einem neutralen Element\n",
        "\n",
        "* Quasigruppe: ein Magma, in dem alle Gleichungen der Form \n",
        "a\n",
        "x\n",
        "=\n",
        "b\n",
        "ax=b oder \n",
        "x\n",
        "a\n",
        "=\n",
        "b\n",
        "xa=b eindeutig nach \n",
        "x\n",
        "x auflösbar sind\n",
        "\n",
        "* Loop: eine Quasigruppe mit einem neutralen Element\n",
        "\n",
        "* Gruppe: ein Monoid, in dem jedes Element ein Inverses hat\n",
        "\n",
        "* Abelsche Gruppe: eine Gruppe, deren Verknüpfung kommutativ ist\n",
        "\n",
        "* Mediales Magma: ein Magma, in dem für alle Elemente die Gleichung \n",
        "(\n",
        "a\n",
        "⋆\n",
        "b\n",
        ")\n",
        "⋆\n",
        "(\n",
        "c\n",
        "⋆\n",
        "d\n",
        ")\n",
        "=\n",
        "(\n",
        "a\n",
        "⋆\n",
        "c\n",
        ")\n",
        "⋆\n",
        "(\n",
        "b\n",
        "⋆\n",
        "d\n",
        ")\n",
        "(a\\star b)\\star (c\\star d)=(a\\star c)\\star (b\\star d) gilt"
      ]
    },
    {
      "cell_type": "markdown",
      "metadata": {
        "id": "Twr0Vfc7FkRw",
        "colab_type": "text"
      },
      "source": [
        "**Konzepte & Liste kleiner Gruppen**"
      ]
    },
    {
      "cell_type": "markdown",
      "metadata": {
        "id": "RtLio4Fr9pHy",
        "colab_type": "text"
      },
      "source": [
        "https://de.m.wikipedia.org/wiki/Liste_kleiner_Gruppen"
      ]
    },
    {
      "cell_type": "markdown",
      "metadata": {
        "id": "PB-iGLhnF0Kg",
        "colab_type": "text"
      },
      "source": [
        "Untergruppe"
      ]
    },
    {
      "cell_type": "markdown",
      "metadata": {
        "id": "ymmpU1rYGV6k",
        "colab_type": "text"
      },
      "source": [
        "* Beispiel: Die ganzen Zahlen $\\mathbb {Z} $ sind bezüglich der Addition eine Untergruppe der rationalen Zahlen $\\mathbb {Q} $."
      ]
    },
    {
      "cell_type": "markdown",
      "metadata": {
        "id": "j2cF3_L1F_Zj",
        "colab_type": "text"
      },
      "source": [
        "https://de.m.wikipedia.org/wiki/Untergruppe"
      ]
    },
    {
      "cell_type": "markdown",
      "metadata": {
        "id": "LzN7xF7FFuMM",
        "colab_type": "text"
      },
      "source": [
        "Faktorgruppe"
      ]
    },
    {
      "cell_type": "markdown",
      "metadata": {
        "id": "bQ-5YjxNGDEN",
        "colab_type": "text"
      },
      "source": [
        "https://de.m.wikipedia.org/wiki/Faktorgruppe"
      ]
    },
    {
      "cell_type": "markdown",
      "metadata": {
        "id": "QQSRFOXm2QgM",
        "colab_type": "text"
      },
      "source": [
        "Endliche Gruppe"
      ]
    },
    {
      "cell_type": "markdown",
      "metadata": {
        "id": "kQMqvjVP2dnP",
        "colab_type": "text"
      },
      "source": [
        "* Eine Gruppe ($G$,*) heißt endliche Gruppe, wenn $G$ eine endliche Menge ist, also eine endliche Anzahl von Elementen hat.\n",
        "\n",
        "* Die Annahme der Endlichkeit ermöglicht ein vereinfachtes Axiomensystem"
      ]
    },
    {
      "cell_type": "markdown",
      "metadata": {
        "id": "IX5DziJq3l5S",
        "colab_type": "text"
      },
      "source": [
        "Ein Paar $(G, *)$ mit einer endlichen Menge $G$ und einer inneren zweistelligen Verknüpfung $*: G \\times G \\rightarrow G$ heißt Gruppe, wenn folgende Axiome erfüllt sind:\n",
        "\n",
        "* Assoziativität: Für alle Gruppenelemente $a, b, c$ gilt $(a * b) * c=a *(b * c)$,\n",
        "\n",
        "* [Kürzungsregel](https://de.m.wikipedia.org/wiki/Kürzbarkeit): Aus $a * x=a * x^{\\prime}$ oder $x * a=x^{\\prime} * a$ folgt $x=x^{\\prime}$\n",
        "\n",
        "Aus der Kürzungsregel folgt, dass die Links- und Rechtsmultiplikationen $x \\mapsto a * x$ und $x \\mapsto x * a$\n",
        "injektiv sind, woraus wegen der Endlichkeit auch die Surjektivität folgt. Daher gibt es ein $x$ mit\n",
        "$a * x=a,$ was zur Existenz des neutralen Elementes $e$ führt, und dann ein $x$ mit $a * x=e$, was\n",
        "die Existenz der inversen Elemente zeigt."
      ]
    },
    {
      "cell_type": "markdown",
      "metadata": {
        "id": "DCgdGclT0pNy",
        "colab_type": "text"
      },
      "source": [
        "https://de.m.wikipedia.org/wiki/Endliche_Gruppe"
      ]
    },
    {
      "cell_type": "markdown",
      "metadata": {
        "id": "37qnbx7d0X_q",
        "colab_type": "text"
      },
      "source": [
        "Endliche einfache Gruppe"
      ]
    },
    {
      "cell_type": "markdown",
      "metadata": {
        "id": "EhN_XWVc0s5p",
        "colab_type": "text"
      },
      "source": [
        "* Endliche einfache Gruppen gelten in der Gruppentheorie als die Bausteine der [endlichen Gruppen](https://de.m.wikipedia.org/wiki/Endliche_Gruppe).\n",
        "\n",
        "* Die endlichen einfachen Gruppen spielen für die endlichen Gruppen eine ähnliche Rolle wie die Primzahlen für die natürlichen Zahlen: Jede endliche Gruppe lässt sich in ihre einfachen Gruppen „zerteilen“ (für die Art der Eindeutigkeit siehe den Satz von Jordan-Hölder). \n",
        "\n",
        "* Die Rekonstruktion einer endlichen Gruppe aus diesen ihren „Faktoren“ ist aber nicht eindeutig. \n",
        "\n",
        "* Es gibt jedoch keine „noch einfacheren Gruppen“, aus denen sich die endlichen einfachen Gruppen konstruieren lassen.\n",
        "\n",
        "Obwohl die endlichen einfachen Gruppen seit 1982 als vollständig klassifiziert galten, schlossen Mathematiker um Aschbacher die Klassifikation erst im Jahre 2002 mit einem 1200 Seiten langen Beweis ab:\n",
        "\n",
        "* Fast alle dieser Gruppen lassen sich einer von 18 Familien endlicher einfacher Gruppen zuordnen.\n",
        "\n",
        "* Es existieren 26 Ausnahmen. Diese Gruppen werden als **sporadische Gruppen** bezeichnet (Zu den sporadischen Gruppen zählen die Conway-Gruppe, das Babymonster und die **Monstergruppe** (mit fast 1054 Elementen die größte sporadische Gruppe)."
      ]
    },
    {
      "cell_type": "markdown",
      "metadata": {
        "id": "Qt_czR5Y0a9f",
        "colab_type": "text"
      },
      "source": [
        "https://de.m.wikipedia.org/wiki/Endliche_einfache_Gruppe"
      ]
    },
    {
      "cell_type": "markdown",
      "metadata": {
        "id": "hqnmqcp81ut1",
        "colab_type": "text"
      },
      "source": [
        "https://de.m.wikipedia.org/wiki/Monstergruppe"
      ]
    },
    {
      "cell_type": "markdown",
      "metadata": {
        "id": "Lb8-Nw2X1xZe",
        "colab_type": "text"
      },
      "source": [
        "https://de.m.wikipedia.org/wiki/Sporadische_Gruppe"
      ]
    },
    {
      "cell_type": "markdown",
      "metadata": {
        "id": "SgHgS037zK0x",
        "colab_type": "text"
      },
      "source": [
        "Symmetrische Gruppen"
      ]
    },
    {
      "cell_type": "markdown",
      "metadata": {
        "id": "bBmqBQAUzOfk",
        "colab_type": "text"
      },
      "source": [
        "https://de.m.wikipedia.org/wiki/Symmetrische_Gruppe"
      ]
    },
    {
      "cell_type": "markdown",
      "metadata": {
        "id": "HimWvLoZzsEd",
        "colab_type": "text"
      },
      "source": [
        "https://de.m.wikipedia.org/wiki/S3_(Gruppe)"
      ]
    },
    {
      "cell_type": "markdown",
      "metadata": {
        "id": "DYd95ZikPxG7",
        "colab_type": "text"
      },
      "source": [
        "Triviale Gruppe"
      ]
    },
    {
      "cell_type": "markdown",
      "metadata": {
        "id": "DCaLVo_nP2aQ",
        "colab_type": "text"
      },
      "source": [
        "* Die triviale Gruppe ist in der Gruppentheorie eine Gruppe, deren Trägermenge genau ein Element enthält. Die triviale Gruppe ist bis auf Isomorphie eindeutig bestimmt. Jede Gruppe enthält die triviale Gruppe als Untergruppe.\n",
        "\n",
        "Die triviale Gruppe $(\\{e\\}, *)$ ist eine Gruppe, die aus der einelementigen Menge $\\{e\\}$ besteht und versehen ist mit der einzig möglichen Gruppenoperation\n",
        "\n",
        "$\n",
        "e * e=e\n",
        "$\n",
        "\n",
        "Das Element $e$ ist damit das neutrale Element der Gruppe."
      ]
    },
    {
      "cell_type": "markdown",
      "metadata": {
        "id": "NoATSFAfQ9i7",
        "colab_type": "text"
      },
      "source": [
        "Alle trivialen Gruppen sind zueinander isomorph. Beispiele für triviale Gruppen sind:\n",
        "\n",
        "* die zyklische Gruppe $C_{1}$ vom Grad 1\n",
        "\n",
        "* die alternierende Gruppe $A_{2}$ vom Grad 2\n",
        "\n",
        "* die symmetrische Gruppe $S_{1}$ einer einelementigen Menge\n"
      ]
    },
    {
      "cell_type": "markdown",
      "metadata": {
        "id": "84dqdUp2PzJh",
        "colab_type": "text"
      },
      "source": [
        "https://de.m.wikipedia.org/wiki/Triviale_Gruppe"
      ]
    },
    {
      "cell_type": "markdown",
      "metadata": {
        "id": "mSKj2Ckr459f",
        "colab_type": "text"
      },
      "source": [
        "Normalteiler & Kern"
      ]
    },
    {
      "cell_type": "markdown",
      "metadata": {
        "id": "H2kk9FX25T6p",
        "colab_type": "text"
      },
      "source": [
        "1. Normalteiler N ist eine Untergruppe von G (N, $\\circ$ ) $\\subseteq$ (G, $\\circ$ ) (die Verknüpfung ist die gleiche)\n",
        "\n",
        "2. gN = Ng $\\forall$ g $\\in$ G"
      ]
    },
    {
      "cell_type": "markdown",
      "metadata": {
        "id": "ezpWKNmL8V_d",
        "colab_type": "text"
      },
      "source": [
        "Beispiel:\n",
        "\n",
        "N := (5 * $Z$, +) und G := ($Z$, +)\n",
        "\n",
        "g = 2\n",
        "\n",
        "dann: \n",
        "\n",
        "**Linksnebenklasse**: 2 * N := {..., 2+0, 2+5, 2+10,...)\n",
        "\n",
        "**Rechtsnebenklasse**: N * 2 := {..., 0+2, 5+2, 10+2,..}"
      ]
    },
    {
      "cell_type": "markdown",
      "metadata": {
        "id": "4dkhfF3I8PNs",
        "colab_type": "text"
      },
      "source": [
        "**In einer kommutativen Gruppe sind alle Untergruppen automatisch ein Normalteiler** (wenn ich aber eine andere Gruppe als $Z$ wähle, kann es sein, dass es nicht kommutativ ist.)"
      ]
    },
    {
      "cell_type": "markdown",
      "metadata": {
        "id": "4TqFWo9w9zMi",
        "colab_type": "text"
      },
      "source": [
        "Beispiel ohne kommutative Gruppe"
      ]
    },
    {
      "cell_type": "markdown",
      "metadata": {
        "id": "HKwsaJxk92dB",
        "colab_type": "text"
      },
      "source": [
        "N = Alt (3) - alternierende Gruppe 3 $\\subseteq$ Sym(3) - symmetrische Gruppe = {id, (12), (13), (23), (123), (132)}"
      ]
    },
    {
      "cell_type": "markdown",
      "metadata": {
        "id": "4c_fZl2M-h2d",
        "colab_type": "text"
      },
      "source": [
        "https://youtu.be/I5l91kkzA2s"
      ]
    },
    {
      "cell_type": "markdown",
      "metadata": {
        "id": "UaiUDY5W49i5",
        "colab_type": "text"
      },
      "source": [
        "https://de.m.wikipedia.org/wiki/Normalteiler"
      ]
    },
    {
      "cell_type": "markdown",
      "metadata": {
        "id": "rxdQVgZuzc8x",
        "colab_type": "text"
      },
      "source": [
        "**Gruppoid (Magma)**"
      ]
    },
    {
      "cell_type": "markdown",
      "metadata": {
        "id": "mUhMOWLAziQF",
        "colab_type": "text"
      },
      "source": [
        "* ein Magma (neutrum, Mehrzahl Magmen) ist eine algebraische Struktur, bestehend aus einer Menge zusammen mit einer zweistelligen inneren Verknüpfung. \n",
        "\n",
        "* Es wird auch Gruppoid,manchmal Binar oder Operativ genannt.\n",
        "\n",
        "* Ist die Verknüpfung kommutativ, so heißt das Magma kommutativ oder abelsch; ist sie assoziativ, so heißt das Magma assoziativ oder Halbgruppe."
      ]
    },
    {
      "cell_type": "markdown",
      "metadata": {
        "id": "6hMH-SILCoVM",
        "colab_type": "text"
      },
      "source": [
        "Die folgenden **Beispiele** sind Magmen, die keine Halbgruppen sind:\n",
        "\n",
        "* $(\\mathbb{Z},-):$ die ganzen Zahlen mit der Subtraktion\n",
        "\n",
        "* (R $\\backslash\\{0\\}, /)$ : die reellen Zahlen ungleich 0 mit der Division\n",
        "\n",
        "* Die natürlichen Zahlen mit der Exponentiation, also mit der Verknüpfung $a * b=a^{b}$\n",
        "\n",
        "* Die reellen Zahlen mit der Bildung des arithmetischen Mittels als Verknüpfung"
      ]
    },
    {
      "cell_type": "markdown",
      "metadata": {
        "id": "L3IgdRQpzrLT",
        "colab_type": "text"
      },
      "source": [
        "https://de.m.wikipedia.org/wiki/Magma_(Mathematik)"
      ]
    },
    {
      "cell_type": "markdown",
      "metadata": {
        "id": "5911qy-T8r-t",
        "colab_type": "text"
      },
      "source": [
        "Gruppoid (Kategorientheorie)"
      ]
    },
    {
      "cell_type": "markdown",
      "metadata": {
        "id": "QsWwWs1jEg6F",
        "colab_type": "text"
      },
      "source": [
        "**Achtung:** Siehe Gruppoid in der Kategorientheorie: https://de.m.wikipedia.org/wiki/Gruppoid_(Kategorientheorie)"
      ]
    },
    {
      "cell_type": "markdown",
      "metadata": {
        "id": "Ab7LNFPL8hJ1",
        "colab_type": "text"
      },
      "source": [
        "* Die drei Verträglichkeitsbedingungen gleichen den Gruppenaxiomen. Das ist kein Zufall. \n",
        "\n",
        "* **Ein Gruppoid mit genau einem Objekt ist nichts anderes als eine Gruppe**. In diesem Sinn stellt der Begriff Gruppoid also eine Verallgemeinerung des Begriffes Gruppe dar.\n",
        "\n",
        "* Die Kategorie aller Gruppoide mit Funktoren als Morphismen ist eine Subkategorie von Cat, der Kategorie aller kleinen Kategorien"
      ]
    },
    {
      "cell_type": "markdown",
      "metadata": {
        "id": "QE2eJSx60DaV",
        "colab_type": "text"
      },
      "source": [
        "Infinity Groupoid\n"
      ]
    },
    {
      "cell_type": "markdown",
      "metadata": {
        "id": "p-LtDSuW0Goi",
        "colab_type": "text"
      },
      "source": [
        "* The notion of ∞-groupoid is the generalization of that of group and groupoids to higher category theory:"
      ]
    },
    {
      "cell_type": "markdown",
      "metadata": {
        "id": "wrzK4KKJ0QIu",
        "colab_type": "text"
      },
      "source": [
        "https://ncatlab.org/nlab/show/infinity-groupoid"
      ]
    },
    {
      "cell_type": "markdown",
      "metadata": {
        "id": "dCFE-DUSztRw",
        "colab_type": "text"
      },
      "source": [
        "https://en.m.wikipedia.org/wiki/∞-groupoid"
      ]
    },
    {
      "cell_type": "markdown",
      "metadata": {
        "id": "iWCeLOJUyQTQ",
        "colab_type": "text"
      },
      "source": [
        "**Halbgruppe**"
      ]
    },
    {
      "cell_type": "markdown",
      "metadata": {
        "id": "jMk7Z_FMinyX",
        "colab_type": "text"
      },
      "source": [
        "* **Abgeschlossenheit** (https://de.m.wikipedia.org/wiki/Abgeschlossenheit_(algebraische_Struktur))\n",
        "\n",
        "* **Assoziativität**: The operation ∗ is associative. That is, a ∗ (b ∗ c) = (a ∗ b) ∗ c for all a,b,c ∈ G.\n",
        "\n",
        "Es wird **nicht** erfüllt: Neutral (identity element), inverse, kommunitativ"
      ]
    },
    {
      "cell_type": "markdown",
      "metadata": {
        "id": "bMyPE5FjzwTo",
        "colab_type": "text"
      },
      "source": [
        "Beispiele: "
      ]
    },
    {
      "cell_type": "markdown",
      "metadata": {
        "id": "H3gSEyuf_2h6",
        "colab_type": "text"
      },
      "source": [
        "* Die Menge $\\mathbb  N$ $_0$ = {0, 1, 2 ..} der natürlichen Zahlen bildet mit der gewöhnlichen Addition eine kommutative und kürzbare Halbgruppe ($\\mathbb  N$ $_0$,+), die keine Gruppe ist. Da hier die negativen Zahlen fehlen, also die „Hälfte“ der abelschen Gruppe ($\\mathbb Z,+$) der ganzen Zahlen, lag der Name Halbgruppe für diese mathematische Struktur nahe. Tatsächlich wurde in der Vergangenheit der Begriff „Halbgruppe“ für ein nach den oben gegebenen Definitionen kommutatives, kürzbares Monoid verwendet, später setzte sich dann die obige Definition allgemein durch."
      ]
    },
    {
      "cell_type": "markdown",
      "metadata": {
        "id": "bm96oAJn_X6E",
        "colab_type": "text"
      },
      "source": [
        "https://de.m.wikipedia.org/wiki/Halbgruppe"
      ]
    },
    {
      "cell_type": "markdown",
      "metadata": {
        "id": "e_c49RceyU0S",
        "colab_type": "text"
      },
      "source": [
        "**Monoid**"
      ]
    },
    {
      "cell_type": "markdown",
      "metadata": {
        "id": "W4bqgKaUmfvs",
        "colab_type": "text"
      },
      "source": [
        "* ein Monoid ist eine algebraische Struktur bestehend aus einer Menge mit einer klammerfrei notierbaren (assoziativen) Verknüpfung und einem neutralen Element. \n",
        "\n",
        "* Ein Beispiel sind die natürlichen Zahlen mit der Addition und der Zahl 0 als neutralem Element. Ein Monoid, in dem jedes Element invertierbar ist, heißt Gruppe.\n",
        "\n",
        "* Eigenschaften bezüglich der angegebenen Verknüpfung: Assoziativität der Verknüpfung und e ist ein neutrales Element.\n",
        "\n",
        "* **Ein Monoid ist also eine Halbgruppe mit neutralem Element.** Jede Gruppe ist ein Monoid, aber ein Monoid hat im Gegensatz zur Gruppe nicht notwendigerweise inverse Elemente.\n",
        "\n",
        "* in Kategorietheorie ein Monoid ist eine Kategorie mit nur einem Objekt (und Pfeile mit Richtung zu sich selbst als Elemente / das sind neutrale Elemente)\n",
        "\n",
        "https://de.m.wikipedia.org/wiki/Monoid\n"
      ]
    },
    {
      "cell_type": "markdown",
      "metadata": {
        "id": "XM99PIHSxVpO",
        "colab_type": "text"
      },
      "source": [
        "**Gruppe**"
      ]
    },
    {
      "cell_type": "markdown",
      "metadata": {
        "id": "EorWgfm-xahc",
        "colab_type": "text"
      },
      "source": [
        "* Demnach ist eine Gruppe eine Menge zusammen mit **einer zweistelligen inneren Verknüpfung** (durch die jedem geordneten Paar von Elementen eindeutig ein Element dieser Menge als Resultat zugeordnet wird), wenn diese **Verknüpfung assoziativ** ist und es ein **neutrales Element** gibt sowie zu jedem Element ein **Inverses**. \n",
        "\n",
        "* Ringe, Körper, Moduln und Vektorräume sind Gruppen mit zusätzlichen Strukturen und Eigenschaften"
      ]
    },
    {
      "cell_type": "markdown",
      "metadata": {
        "id": "jdIUzYUXxeQ1",
        "colab_type": "text"
      },
      "source": [
        "Beispiele"
      ]
    },
    {
      "cell_type": "markdown",
      "metadata": {
        "id": "2uN_TPCVxdSO",
        "colab_type": "text"
      },
      "source": [
        "* So bildet zum Beispiel auch die Menge der ganzen Zahlen zusammen mit der Addition eine Gruppe.\n",
        "\n",
        "* Physik und Chemie treten Gruppen überall dort auf, wo Symmetrien eine Rolle spielen (z. B. Invarianz physikalischer Gesetze, Symmetrie von Molekülen und Kristallen)"
      ]
    },
    {
      "cell_type": "markdown",
      "metadata": {
        "id": "dAtrm3obyX59",
        "colab_type": "text"
      },
      "source": [
        "**Abelian Group**"
      ]
    },
    {
      "cell_type": "markdown",
      "metadata": {
        "id": "e6YkN8oDc-nK",
        "colab_type": "text"
      },
      "source": [
        "* Eine abelsche Gruppe ist eine Gruppe, für die zusätzlich das Kommutativgesetz gilt.\n",
        "\n",
        "Sei $G$ eine Menge. Jedem Paar $(a, b) \\in G \\times G$ sei genau ein Element $a * b \\in G$ zugeordnet. Das Paar $(G, *)$ heißt abelsche Gruppe, wenn die Verknüpfung $*: G \\times G \\rightarrow G,(a, b) \\mapsto a * b$ die folgenden Gesetze erfüllt:\n",
        "\n",
        "1. Assoziativgesetz: Für alle $a, b, c \\in G$ gilt: $a *(b * c)=(a * b) * c$\n",
        "2. Kommutativgesetz: Für alle $a, b \\in G$ gilt: $a * b=b * a$\n",
        "3. Neutrales Element: Es gibt ein Element $e \\in G,$ so dass für alle $a \\in G$ gilt: $a * e=a$\n",
        "4. Inverses Element: Zu jedem $a \\in G$ gibt es ein $a^{-1} \\in G$ mit $a * a^{-1}=e$.\n",
        "\n",
        "Eine Gruppe $(G, *)$ heißt nichtabelsch, wenn in ihr mindestens ein Paar $(a, b)$ existiert mit $a * b \\neq b * a$\n",
        "\n",
        "* $(\\mathbb {Z} ,+)$ ist die wichtigste abelsche Gruppe. Dabei ist Z die Menge der ganzen Zahlen und + die gewöhnliche Addition.\n",
        "\n",
        "* $(\\mathbb {Q} ^{*},\\cdot )$ ist eine abelsche Gruppe. Dabei ist $\\mathbb {Q} ^{*}$ die Menge der rationalen Zahlen ohne die \n",
        "0 und ⋅ ist die gewöhnliche Multiplikation. Die Null muss hierbei ausgeschlossen werden, da sie kein inverses Element besitzt: „1/0“ ist nicht definiert.\n",
        "\n",
        "* Die Menge der Verschiebungen in der euklidischen Ebene bilden eine abelsche Gruppe. Die Verknüpfung ist die Hintereinanderausführung der Verschiebungen.\n",
        "\n",
        "* Die Menge der Drehungen in einer Ebene um einen Punkt bilden eine abelsche Gruppe. Die Verknüpfung ist die Hintereinanderausführung der Drehungen.\n",
        "\n",
        "* Die Menge der Drehstreckungen in einer Ebene bilden eine abelsche Gruppe.\n",
        "\n",
        "* Die Menge der endlichen Dezimalzahlen sind bezüglich der Multiplikation keine abelsche Gruppe. Zum Beispiel hat die Zahl 3 kein Inverses bezüglich der Multiplikation. $\\displaystyle {\\frac {1}{3}}$ lässt sich nicht als endlicher Dezimalbruch schreiben. Bezüglich der normalen Addition bilden die endlichen Dezimalbrüche eine abelsche Gruppe.\n",
        "Die Menge der Verschiebungen in der euklidischen Ebene bilden eine abelsche Gruppe. Die Verknüpfung ist die Hintereinanderausführung der Verschiebungen.\n",
        "\n",
        "* usw.: https://de.m.wikipedia.org/wiki/Abelsche_Gruppe"
      ]
    },
    {
      "cell_type": "markdown",
      "metadata": {
        "id": "uNAk72BxycQE",
        "colab_type": "text"
      },
      "source": [
        "**Lie Gruppe**"
      ]
    },
    {
      "cell_type": "markdown",
      "metadata": {
        "id": "Wj5WrEkbe_A3",
        "colab_type": "text"
      },
      "source": [
        "* eine Lie-Gruppe ist eine mathematische Struktur, die zur Beschreibung von kontinuierlichen Symmetrien verwendet wird. \n",
        "\n",
        "* Formal handelt es sich bei einer Lie-Gruppe um eine Gruppe, die als differenzierbare Mannigfaltigkeit aufgefasst werden kann, sodass die Gruppenverknüpfung und Inversenbildung kompatibel mit dieser glatten Struktur sind.\n",
        "\n",
        "* Eine Lie-Gruppe ist eine [glatte reelle Mannigfaltigkeit](https://de.m.wikipedia.org/wiki/Differenzierbare_Mannigfaltigkeit#Glatte_Mannigfaltigkeit), die zusätzlich die Struktur einer Gruppe besitzt, so dass die Gruppenverknüpfung und die Inversion beliebig oft differenzierbar sind. (*Glatte Funktion: Eine glatte Funktion ist eine mathematische Funktion, die unendlich oft differenzierbar (insbesondere stetig) ist. Die Bezeichnung „glatt“ ist durch die Anschauung motiviert: Der Graph einer glatten Funktion hat keine „Ecken“, also Stellen, an denen sie nicht differenzierbar ist.*)"
      ]
    },
    {
      "cell_type": "markdown",
      "metadata": {
        "id": "CzfgyBiS6QOn",
        "colab_type": "text"
      },
      "source": [
        "https://de.m.wikipedia.org/wiki/Lie-Gruppe"
      ]
    },
    {
      "cell_type": "markdown",
      "metadata": {
        "id": "WA7xSdDWirTD",
        "colab_type": "text"
      },
      "source": [
        "**Lie-Algebra**"
      ]
    },
    {
      "cell_type": "markdown",
      "metadata": {
        "id": "kkqO6HRr458d",
        "colab_type": "text"
      },
      "source": [
        "* ist eine algebraische Struktur, die mit einer Lie-Klammer versehen ist, d. h. es existiert eine antisymmetrische Verknüpfung, die die Jacobi-Identität erfüllt. \n",
        "\n",
        "* Lie-Algebren werden hauptsächlich zum Studium geometrischer Objekte wie Lie-Gruppen und differenzierbarer Mannigfaltigkeiten eingesetzt."
      ]
    },
    {
      "cell_type": "markdown",
      "metadata": {
        "id": "ldvhBQDfivPt",
        "colab_type": "text"
      },
      "source": [
        "https://de.m.wikipedia.org/wiki/Lie-Algebra"
      ]
    },
    {
      "cell_type": "markdown",
      "metadata": {
        "id": "ZDqJB-vtXMJ1",
        "colab_type": "text"
      },
      "source": [
        "#### **Ringe**"
      ]
    },
    {
      "cell_type": "markdown",
      "metadata": {
        "id": "ewHjxqYobJU4",
        "colab_type": "text"
      },
      "source": [
        "https://en.m.wikipedia.org/wiki/Ring_theory"
      ]
    },
    {
      "cell_type": "markdown",
      "metadata": {
        "id": "IhQhUv7dEfrU",
        "colab_type": "text"
      },
      "source": [
        "https://de.m.wikipedia.org/wiki/Ring_(Algebra)"
      ]
    },
    {
      "cell_type": "markdown",
      "metadata": {
        "id": "8HZucJQ2LK-z",
        "colab_type": "text"
      },
      "source": [
        "https://www.quora.com/What-are-the-differences-between-rings-and-fields"
      ]
    },
    {
      "cell_type": "markdown",
      "metadata": {
        "id": "-OTesLFXKrcu",
        "colab_type": "text"
      },
      "source": [
        "**Ring und kommutativer Ring**"
      ]
    },
    {
      "cell_type": "markdown",
      "metadata": {
        "id": "aU3_l3Z4nBmg",
        "colab_type": "text"
      },
      "source": [
        "Ein Ring ist eine Menge R mit zwei inneren binären Verknüpfungen „+“ und „∙“, sodass gilt:\n",
        "1. **Addition: (R, +) ist eine abelsche Gruppe**\n",
        "\n",
        "* Addition is associative and commutative;\n",
        "\n",
        "* There is an additive identity, zero;\n",
        "\n",
        "* Every element has an additive inverse;\n",
        "\n",
        "2. **Multiplikation: (R, ∙) ist eine Halbgruppe**, das bedeutet:\n",
        "\n",
        "* Halbgruppe in der Multiplikation im Ring: **nur nur die Assoziativität, aber keine Inverse, neutrales element oder kommutativität**) \n",
        "\n",
        "* Das bedeutet: -> Sowohl Ringe als auch Körper verlangen, dass bzgl. der Addition eine kommutative Gruppe vorliegt (abelsch!). Bei der Multiplikation erfolgt der Übergang vom Ring zum Körper durch die Verschärfung der Forderungen\n",
        "\n",
        "* Unlike a field, a ring is not required to have multiplicative inverses, and the multiplication is not required to be commutative. A good example of a ring is the set of all n×n matrices under the operations of matrix addition and matrix multiplication. The integers Z also form a ring under the operations of addition and multiplication.\n",
        "\n",
        "3. **Die Distributivgesetze a*(b+c)=a*b+a*c und (a+b)*c = a*c+b*c sind für alle a,b,c ε $R$ erfüllt.**\n",
        "\n",
        "4. **Das neutrale Element 0 von (R, +) heißt Nullelement von R.**\n",
        "\n",
        "**Ein Ring heißt kommutativ**, falls er bezüglich der Multiplikation kommutativ ist (Ein Ring heißt kommutativ, falls er bezüglich der Multiplikation kommutativ ist, ansonsten spricht man von einem nicht-kommutativen Ring.)"
      ]
    },
    {
      "cell_type": "markdown",
      "metadata": {
        "id": "aR14OZzRJUkG",
        "colab_type": "text"
      },
      "source": [
        "Beispiele:"
      ]
    },
    {
      "cell_type": "markdown",
      "metadata": {
        "id": "3ajn582YCTF0",
        "colab_type": "text"
      },
      "source": [
        "* 2×2 Real matrices.\n",
        "\n",
        "* Das wichtigste Beispiel eines Ringes sind die Integers / ist die Menge (􏰁$\\mathbb Z$,+,∙) der ganzen Zahlen mit der üblichen Addition und Multiplikation. Es handelt sich dabei um einen nullteilerfreien kommutativen Ring mit Einselement, also einen Integritätsring.\n",
        "\n",
        "* the Integers modulo some Natural number greater than one;\n",
        "\n",
        "* Ebenso bildet ($\\mathbb Q$,+,∙) der rationalen Zahlen mit der üblichen Addition und Multiplikation einen Ring. Da in diesem Fall nicht nur ($\\mathbb Q$,+), sondern auch ($\\mathbb Q$ \\ {0},∙) eine abelsche Gruppe bildet, liegt sogar ein Körper vor; es handelt sich dabei um den Quotientenkörper des Integritätsringes (􏰁$\\mathbb Z$,+,∙).\n",
        "\n",
        "* Kein Ring ist die Menge ($\\mathbb N$􏰀,+,∙) der natürlichen Zahlen mit der üblichen Addition und Multiplikation, da die Addition über den natürlichen Zahlen nicht invertierbar ist."
      ]
    },
    {
      "cell_type": "markdown",
      "metadata": {
        "id": "GC1gOJZOAcdm",
        "colab_type": "text"
      },
      "source": [
        "**Halbring und kommutativer Halbring**"
      ]
    },
    {
      "cell_type": "markdown",
      "metadata": {
        "id": "IbZlHiCiCY-F",
        "colab_type": "text"
      },
      "source": [
        "* Ein Halbring ist die Verallgemeinerung der algebraischen Struktur eines Ringes, in der die **Addition nicht mehr eine kommutative Gruppe, sondern nur noch eine kommutative Halbgruppe sein muss** (mit Abgeschlossenheit und Assoziativität, aber nicht: Neutral (identity element), inverse, kommunitativ).\n",
        "\n",
        "* Ein Halbring (engl.: Semiring) ist eine algebraische Struktur $(H,+, \\cdot)$ mit einer (nichtleeren) Menge $H$ und mit zwei zweistelligen Verknüpfungen $+: H \\times H \\rightarrow H$ (Addition) und $\\because H \\times H \\rightarrow H$ (Multiplikation), für die gilt:\n",
        "\n",
        "1. $(H,+)$ ist eine kommutative Halbgruppe.\n",
        "\n",
        "2. $(H, \\cdot)$ ist eine Halbgruppe.\n",
        "\n",
        "3. Es gelten die Distributivgesetze, d. h. für alle $a, b, c \\in H$ gilt $(a+b) \\cdot c=a \\cdot c+b \\cdot c \\quad$ sowie $\\quad c \\cdot(a+b)=c \\cdot a+c \\cdot b$\n",
        "\n",
        "Ist auch $(H, \\cdot)$ kommutativ, so spricht man von einem kommutativen Halbring."
      ]
    },
    {
      "cell_type": "markdown",
      "metadata": {
        "id": "354jDjhGCug7",
        "colab_type": "text"
      },
      "source": [
        "Beispiele"
      ]
    },
    {
      "cell_type": "markdown",
      "metadata": {
        "id": "Hw9olTD_Cw0-",
        "colab_type": "text"
      },
      "source": [
        "* $(\\mathbb{N},+, 0, \\cdot, 1)$ Die Menge der natürlichen Zahlen mit der Addition und der Multiplikation zusammen und mit einem Nullelement und einem Einselement als neutrale Elemente ist ein kommutativer Halbring.\n",
        "\n",
        "* $\\left(\\mathbb{Q}_{+},+, 0, \\cdot, 1\\right)$ ist sogar ein Halbkörper.\n",
        "\n",
        "* $(\\mathbb{R} \\cup\\{\\infty\\}, \\min , \\infty,+, 0),$ die sogenannte Min-Plus-Algebra (tropische Geometrie!!!) https://de.m.wikipedia.org/wiki/Max-Plus-Algebra\n",
        "\n",
        "* Für jede Menge $X$ ist die Potenzmenge $(\\mathcal{P}(X), \\cup, \\emptyset, \\cap, X)$ ein Halbring.\n",
        "\n",
        "* Allgemeiner ist jede Boolesche Algebra ein Halbring."
      ]
    },
    {
      "cell_type": "markdown",
      "metadata": {
        "id": "UizsbE6VAgA4",
        "colab_type": "text"
      },
      "source": [
        "https://de.m.wikipedia.org/wiki/Halbring_(Algebraische_Struktur)"
      ]
    },
    {
      "cell_type": "markdown",
      "metadata": {
        "id": "Ecy_MnaoAkhC",
        "colab_type": "text"
      },
      "source": [
        "**Ring mit Eins (unitärer Ring)**"
      ]
    },
    {
      "cell_type": "markdown",
      "metadata": {
        "id": "c2rLi8RzmGRG",
        "colab_type": "text"
      },
      "source": [
        "* Hat die Halbgruppe $R,\\cdot$ ein (beidseitiges) neutrales Element 1, ist also ein Monoid, dann nennt man $R,+,\\cdot$ einen Ring mit Eins oder unitären Ring. \n",
        "\n",
        "* Ringe mit nur links- oder nur rechtsneutralem Element gelten in der Ringtheorie nicht als unitär."
      ]
    },
    {
      "cell_type": "markdown",
      "metadata": {
        "id": "NoTycwruMDw5",
        "colab_type": "text"
      },
      "source": [
        "**Nullring**"
      ]
    },
    {
      "cell_type": "markdown",
      "metadata": {
        "id": "XTICEn4hMNS1",
        "colab_type": "text"
      },
      "source": [
        "* bis auf Isomorphie eindeutig bestimmter Ring, der nur aus dem Nullelement besteht\n",
        "\n",
        "* Der Nullring oder triviale Ring ist in der Mathematik der bis auf Isomorphie eindeutig bestimmte Ring, der nur aus dem Nullelement besteht. Das Nullelement ist damit zugleich das Einselement des Rings. \n",
        "\n",
        "* Der Nullring besitzt eine Reihe besonderer Eigenschaften, so ist er beispielsweise der einzige Ring, in dem jedes Element eine Einheit ist, und der einzige Ring mit Eins, in dem es kein maximales Ideal gibt. In der Kategorie der Ringe mit Eins ist der Nullring terminales Objekt und in der Kategorie aller Ringe das Nullobjekt."
      ]
    },
    {
      "cell_type": "markdown",
      "metadata": {
        "id": "uPmXRpptMjpU",
        "colab_type": "text"
      },
      "source": [
        "Der Nullring $(\\{0\\},+, \\cdot)$ ist ein Ring bestehend aus der einelementigen Menge \\{0\\} (Singleton) versehen mit der einzig möglichen Addition gegeben durch\n",
        "\n",
        "$\n",
        "0+0=0\n",
        "$\n",
        "\n",
        "und der einzig möglichen Multiplikation gegeben durch\n",
        "\n",
        "$\n",
        "0 \\cdot 0=0\n",
        "$\n",
        "\n",
        "Das Element 0 ist also zugleich das Nullelement und das Einselement des Rings."
      ]
    },
    {
      "cell_type": "markdown",
      "metadata": {
        "id": "nUOu50FmNM-7",
        "colab_type": "text"
      },
      "source": [
        "* In der Kategorie der Ringe mit Eins ist der Nullring terminales Objekt, das heißt von jedem Ring gibt es genau einen Morphismus in den Nullring. Weiterhin ist jeder Morphismus aus dem Nullring heraus bereits ein Isomorphismus.\n",
        "\n",
        "* In der Kategorie aller Ringe ist der Nullring sogar das Nullobjekt."
      ]
    },
    {
      "cell_type": "markdown",
      "metadata": {
        "id": "BGElOCjMMGr2",
        "colab_type": "text"
      },
      "source": [
        "https://de.m.wikipedia.org/wiki/Nullring"
      ]
    },
    {
      "cell_type": "markdown",
      "metadata": {
        "id": "foYtNNmXXHhZ",
        "colab_type": "text"
      },
      "source": [
        "#### **Körper (Field)**"
      ]
    },
    {
      "cell_type": "markdown",
      "metadata": {
        "id": "1_Jav3cJksAh",
        "colab_type": "text"
      },
      "source": [
        "https://de.m.wikipedia.org/wiki/Körper_(Algebra)"
      ]
    },
    {
      "cell_type": "markdown",
      "metadata": {
        "id": "isOcOrhbyk4J",
        "colab_type": "text"
      },
      "source": [
        "https://science.jrank.org/pages/2709/Field.html"
      ]
    },
    {
      "cell_type": "markdown",
      "metadata": {
        "id": "y16M1N2JRcwm",
        "colab_type": "text"
      },
      "source": [
        "**(Kommutative) Körper**"
      ]
    },
    {
      "cell_type": "markdown",
      "metadata": {
        "id": "Z055Lr2GWyMa",
        "colab_type": "text"
      },
      "source": [
        "Ein Tripel (K,+,•), bestehend aus einer Menge K und zwei binären Verknüpfungen „+“ und „•“ (die üblicherweise Addition und Multiplikation genannt werden), ist genau dann ein Körper, wenn folgende Eigenschaften erfüllt sind:\n",
        "\n",
        "* $(K,+)$ ist eine abelsche Gruppe (mit Neutralelement 0)\n",
        "\n",
        "* $(K \\backslash\\{0\\}, •)$ ist eine abelsche Gruppe (mit Neutralelement 1)\n",
        "\n",
        "* $a \\cdot(b+c)=a \\cdot b+a \\cdot c$ und $(a+b) \\cdot c=a \\cdot c+b \\cdot c$ (Distributivgesetz)"
      ]
    },
    {
      "cell_type": "markdown",
      "metadata": {
        "id": "itIiUgUNXWV7",
        "colab_type": "text"
      },
      "source": [
        "Additive Eigenschaften:\n",
        "\n",
        "* $a+(b+c)=(a+b)+c$ (Assoziativgesetz)\n",
        "\n",
        "* $a+b=b+a$ (Kommutativgesetz)\n",
        "\n",
        "* Es gibt ein Element $0 \\in K$ mit $0+a=a$ (neutrales Element)\n",
        "\n",
        "* Zu jedem $a \\in K$ existiert das additive Inverse $(-a)$ mit $(-a)+a=0$\n",
        "\n",
        "Multiplikative Eigenschaften:\n",
        "\n",
        "* $\\cdot a \\cdot(b \\cdot c)=(a \\cdot b) \\cdot c$ (Assoziativgesetz)\n",
        "\n",
        "* $a \\cdot b=b \\cdot a$ (Kommutativgesetz)\n",
        "\n",
        "* Es gibt ein Element $1 \\in K$ mit $1 \\cdot a=a$ (neutrales Element), und es ist $1 \\neq 0$.\n",
        "\n",
        "* Zu jedem $a \\in K \\backslash\\{0\\}$ existiert das multiplikative Inverse $a^{-1}$ mit $a^{-1} \\cdot a=1$\n",
        "\n",
        "Zusammenspiel von additiver und multiplikativer Struktur:\n",
        "\n",
        "* $a \\cdot(b+c)=a \\cdot b+a \\cdot c$ (Links-Distributivgesetz) \n",
        "\n",
        "* Das Rechts-Distributivgesetz $(a+b) \\cdot c=a \\cdot c+b \\cdot c$ folgt dann aus den übrigen Eigenschaften:\n",
        "$(a+b) \\cdot c=c \\cdot(a+b)=c \\cdot a+c \\cdot b=a \\cdot c+b \\cdot c$"
      ]
    },
    {
      "cell_type": "markdown",
      "metadata": {
        "id": "bBwQqNZan2sf",
        "colab_type": "text"
      },
      "source": [
        "**Ein Körper ist eine spezielle Form von Ring**: \n",
        "\n",
        "* Ein kommutativer unitärer Ring, der nicht der Nullring ist, heißt ein Körper, wenn in ihm jedes von Null verschiedene Element multiplikativ invertierbar ist.\n",
        "Anders formuliert, ist ein Körper ein kommutativer unitärer Ring K, in dem die Einheitengruppe K* gleich K \\ {0}, also maximal groß, ist.\n",
        "\n",
        "* Ein kommutativer unitärer Ring, der nicht der Nullring ist, ist ein Körper, wenn in ihm jedes von Null verschiedene Element ein Inverses bezüglich der Multiplikation besitzt. Anders formuliert, ist ein Körper ein kommutativer unitärer Ring $K$, in dem die Einheitengruppe $K^{*}$ gleich $K \\backslash\\{0\\}$ ist. \n",
        "\n",
        "* A Field is a Ring whose non-zero elements form a commutative Group under multiplication (In short a field is a commutative ring with unity with all its non zero elements having multiplicative inverse.)"
      ]
    },
    {
      "cell_type": "markdown",
      "metadata": {
        "id": "4_uA7fvHYWLx",
        "colab_type": "text"
      },
      "source": [
        "**Körper vs Schiefkörper**"
      ]
    },
    {
      "cell_type": "markdown",
      "metadata": {
        "id": "RBiSmFlRX_Mp",
        "colab_type": "text"
      },
      "source": [
        "* Eine Menge K mit zwei binären Operationen + und ⋅ heißt Schiefkörper, wenn K ein Ring ist und K∖{0} bzgl. der Multiplikation eine Gruppe bildet (Ringe sind normalerweise Halbgruppen, dh. bezüglich Multiplikation nur nur die Assoziativität zählt, aber keine Inverse, neutrales element oder kommutativität).\n",
        "\n",
        "* K heißt Körper, wenn K Schiefkörper ist und \n",
        "K∖{0} bzgl. der Multiplikation eine kommutative Gruppe (=Abelsch) bildet."
      ]
    },
    {
      "cell_type": "markdown",
      "metadata": {
        "id": "Msp6NBuJX0MO",
        "colab_type": "text"
      },
      "source": [
        "**Es gelten die folgenden Zusammenhänge:**\n",
        "\n",
        "* Jeder Körper ist ein Schiefkörper\n",
        "* Jeder Körper ist ein kommutativer Ring\n",
        "* Jeder Schiefkörper ist ein unitären Ring\n",
        "* Jeder unitäre Ring ist ein Ring"
      ]
    },
    {
      "cell_type": "markdown",
      "metadata": {
        "id": "tr5vXn8La6w7",
        "colab_type": "text"
      },
      "source": [
        "**Achtung**\n",
        "\n",
        "Man nennt die Elemente im Körper nicht Vektoren, sondern Skalare. Über dem Skalarkörper betrachtet man einen Vektorraum und dessen Elemente heißen Vektoren."
      ]
    },
    {
      "cell_type": "markdown",
      "metadata": {
        "id": "BfWRnNxZnrVT",
        "colab_type": "text"
      },
      "source": [
        "Eigenschaften (beginnend mit denen eines Ringes):\n",
        "\n",
        "* Addition is associative and commutative;\n",
        "\n",
        "* There is an additive identity, zero;\n",
        "\n",
        "* Every element has an additive inverse;\n",
        "\n",
        "* Multiplication is associative;\n",
        "\n",
        "* Multiplication distributes over addition.\n",
        "\n",
        "In addition a Field has:\n",
        "\n",
        "* Multiplication is commutative;\n",
        "\n",
        "* Every non-zero element has a multiplicative inverse."
      ]
    },
    {
      "cell_type": "markdown",
      "metadata": {
        "id": "al_7-hkwRl-J",
        "colab_type": "text"
      },
      "source": [
        "Beispiele:"
      ]
    },
    {
      "cell_type": "markdown",
      "metadata": {
        "id": "_M8xii4QnNCP",
        "colab_type": "text"
      },
      "source": [
        "* The most familiar form of algebra is the elementary algebra that you learned in high school, namely the algebra of the real numbers. From an abstract point of view, this is the algebra of fields.\n",
        "\n",
        "* Note that the axioms for a field are precisely the axioms for algebra on the real numbers. As a result, the real numbers R form a field under the usual operations of addition and multiplication. However, the real numbers are not the only possible field. Indeed, you are already familiar with a few other examples:\n",
        "\n",
        "* set of rational numbers under addition and multiplication. The rational numbers Q form a field under the usual operations of addition and multiplication. In particular, we can add or multiply two elements of Q to obtain another element of Q, and these operations obey all of the axioms listed above.\n",
        "\n",
        "* The complex numbers C form a field under the commonly defined operations of addition and multiplication. Complex numbers do obey all of the listed axioms for a field, which is why elementary algebra works as usual for complex numbers.\n",
        "\n",
        "* The Integers modulo a Prime number.\n",
        "\n",
        "*An example of a set of numbers that is **not a field** is the set of integers. It is an \"integral domain.\" It is not a field because it lacks multiplicative inverses. Without multiplicative inverses, division may be impossible.*\n",
        "\n",
        "* Both are algebraic objects with a notion of addition and multiplication, **but the multiplication in a field is more specialized**: it is necessarily commutative and every nonzero element has a multiplicative inverse."
      ]
    },
    {
      "cell_type": "markdown",
      "metadata": {
        "id": "JQdx1fH0RXv9",
        "colab_type": "text"
      },
      "source": [
        "**Schiefkörper (Divisionsring)**"
      ]
    },
    {
      "cell_type": "markdown",
      "metadata": {
        "id": "fiD4gEiPkpQq",
        "colab_type": "text"
      },
      "source": [
        "* Ein **Schiefkörper** oder Divisionsring ist eine algebraische Struktur, die alle Eigenschaften eines Körpers besitzt, außer dass die Multiplikation nicht notwendigerweise kommutativ ist.\n",
        "\n",
        "* Jeder Schiefkörper ist ein Alternativkörper"
      ]
    },
    {
      "cell_type": "markdown",
      "metadata": {
        "id": "otrMeqXtTBT2",
        "colab_type": "text"
      },
      "source": [
        "https://de.m.wikipedia.org/wiki/Schiefkörper"
      ]
    },
    {
      "cell_type": "markdown",
      "metadata": {
        "id": "WXOnmjfLS8Sz",
        "colab_type": "text"
      },
      "source": [
        "**Alternativkörper**"
      ]
    },
    {
      "cell_type": "markdown",
      "metadata": {
        "id": "JEtjLCOdmFUh",
        "colab_type": "text"
      },
      "source": [
        "* Octonions (Octave) sind [Alternativkörper](https://de.m.wikipedia.org/wiki/Alternativkörper) bei denen man auf das Kommutativgesetz und das Assoziativgesetz für die Multiplikation verzichtet.\n",
        "\n",
        "* Jeder Schiefkörper ist ein Alternativkörper, jeder Alternativkörper ist zugleich ein Links- und ein Rechtsquasikörper. Endliche Alternativkörper sind stets Körper. (→ Siehe dazu auch: Moufangebene).\n",
        "\n"
      ]
    },
    {
      "cell_type": "markdown",
      "metadata": {
        "id": "QdV8mAKugO06",
        "colab_type": "text"
      },
      "source": [
        "#### **Moduln und Vektorräume**"
      ]
    },
    {
      "cell_type": "markdown",
      "metadata": {
        "id": "Tk6qnMZUgGQw",
        "colab_type": "text"
      },
      "source": [
        "**Moduln**"
      ]
    },
    {
      "cell_type": "markdown",
      "metadata": {
        "id": "HSRPnBpNgMT4",
        "colab_type": "text"
      },
      "source": [
        "* Ein Modul ist ein n-dimensionaler Ring.\n",
        "\n",
        "* Ein Modul ist eine algebraische Struktur, die eine Verallgemeinerung eines Vektorraums darstellt.\n",
        "\n",
        "* **A module is similar to a vector space, except that the scalars are only required to be elements of a ring. (Gilt NICHT multiplikative Inverse und multiplikative Kommuntativität)**\n",
        "\n",
        "* For example, the set Zn of n-dimensional vectors with integer entries forms a module, where “scalar multiplication” refers to multiplication by integer scalars."
      ]
    },
    {
      "cell_type": "markdown",
      "metadata": {
        "id": "sMh1i2RczFjo",
        "colab_type": "text"
      },
      "source": [
        "Folgende Zahlenbereiche sind additive Gruppen und damit $\\mathbb {Z}$ -Moduln:\n",
        "\n",
        "* die ganzen Zahlen $\\mathbb {Z}$ selbst\n",
        "\n",
        "* die rationalen Zahlen $\\mathbb {Q}$ \n",
        "\n",
        "* die reellen Zahlen $\\mathbb {R}$ \n",
        "\n",
        "* die algebraischen Zahlen $\\mathbb A$ bzw. $\\mathbb A$ $\\cap$ $\\mathbb R$\n",
        "\n",
        "* die komplexen Zahlen $\\mathbb {C}$\n"
      ]
    },
    {
      "cell_type": "markdown",
      "metadata": {
        "id": "t8NSS1C9gIni",
        "colab_type": "text"
      },
      "source": [
        "https://de.m.wikipedia.org/wiki/Modul_(Mathematik)"
      ]
    },
    {
      "cell_type": "markdown",
      "metadata": {
        "id": "Y-1lpMAgXzD9",
        "colab_type": "text"
      },
      "source": [
        "**Vektorraum**"
      ]
    },
    {
      "cell_type": "markdown",
      "metadata": {
        "id": "o2boqiPmMgYa",
        "colab_type": "text"
      },
      "source": [
        "Ein Vektorraum u ̈ber einem Körper $\\mathbb K$ ist eine abelsche Gruppe mit der Eigenschaft, dass es zu jedem Element k von $\\mathbb K$ (”Skalar“) eine einstellige Operation (”Skalarmultiplikation“ )\n",
        "\n",
        "Oder anders: \n",
        "* Körper: Plus oder Mal im Körper: zwei Körperelemente, und dann kommt wieder Körperelement heraus\n",
        "* Vektorraum: (Mal heisst nur strecken und stauchen = Skalarmultiplikation: Vektor multipliziert mit Körperelement"
      ]
    },
    {
      "cell_type": "markdown",
      "metadata": {
        "id": "EoJghiU4s7Kt",
        "colab_type": "text"
      },
      "source": [
        "https://en.m.wikipedia.org/wiki/Algebra_over_a_field"
      ]
    },
    {
      "cell_type": "markdown",
      "metadata": {
        "id": "Ys1jH3-lXVrb",
        "colab_type": "text"
      },
      "source": [
        "https://de.m.wikipedia.org/wiki/Algebra_über_einem_Körper"
      ]
    },
    {
      "cell_type": "markdown",
      "metadata": {
        "id": "AHOR2paJnqE7",
        "colab_type": "text"
      },
      "source": [
        "* Ein Vektorraum ist ein n-dimensionaler Körper.\n",
        "\n",
        "* A vector space is an algebraic structure with operations of addition and multiplication by scalars. Gilt zusätzlich multiplikative Inverse und multiplikative Kommuntativität\n",
        "\n",
        "* The scalars are required to be elements of a field, such as the real numbers R. The basic example of a vector space is the set Rn of all vectors with n entries.\n",
        "\n",
        "* Ein Vektorraum oder linearer Raum ist eine algebraische Struktur, die in vielen Teilgebieten der Mathematik verwendet wird. \n",
        "\n",
        "* Vektorräume bilden den zentralen Untersuchungsgegenstand der linearen Algebra. \n",
        "\n",
        "* Die Elemente eines Vektorraums heißen Vektoren. \n",
        "\n",
        "* Sie können addiert oder mit Skalaren (Zahlen) multipliziert werden, das Ergebnis ist wieder ein Vektor desselben Vektorraums.\n",
        "\n",
        "* Die **Skalare, mit denen man einen Vektor multiplizieren kann, stammen aus einem Körper**. Deswegen ist ein Vektorraum immer ein Vektorraum über einem bestimmten Körper. Sehr oft handelt es sich dabei um den Körper \n",
        "$\\mathbb {R}$ der reellen Zahlen oder den Körper \n",
        "$\\mathbb {C}$ der komplexen Zahlen. Man spricht dann von einem reellen Vektorraum bzw. einem komplexen Vektorraum."
      ]
    },
    {
      "cell_type": "markdown",
      "metadata": {
        "id": "pOnSslb8gSWP",
        "colab_type": "text"
      },
      "source": [
        "https://de.m.wikipedia.org/wiki/Vektorraum"
      ]
    },
    {
      "cell_type": "markdown",
      "metadata": {
        "id": "Tr36ywoZin3h",
        "colab_type": "text"
      },
      "source": [
        "K-Algebra (Algebra über einem Körper)"
      ]
    },
    {
      "cell_type": "markdown",
      "metadata": {
        "id": "f8D2MAmd5Oiw",
        "colab_type": "text"
      },
      "source": [
        "* ist ein Vektorraum über einem Körper K, der um eine mit der Vektorraumstruktur verträgliche Multiplikation erweitert wurde. \n",
        "\n",
        "* Je nach Kontext wird dabei mitunter zusätzlich gefordert, dass die Multiplikation das Assoziativgesetz oder das Kommutativgesetz erfüllt oder dass die Algebra bezüglich der Multiplikation ein Einselement besitzt.\n",
        "\n",
        "* Allgemeiner kann K ein kommutativer Ring sein, dann ist „Vektorraum“ durch „Modul“ zu ersetzen, und man erhält eine [Algebra über einem kommutativen Ring](https://de.m.wikipedia.org/wiki/Algebra_über_einem_kommutativen_Ring)."
      ]
    },
    {
      "cell_type": "markdown",
      "metadata": {
        "id": "IgKqC3CHiqOz",
        "colab_type": "text"
      },
      "source": [
        "https://de.m.wikipedia.org/wiki/Algebra_über_einem_Körper"
      ]
    },
    {
      "cell_type": "markdown",
      "metadata": {
        "id": "f1za4JTVYpkR",
        "colab_type": "text"
      },
      "source": [
        "**Linear Algebra**"
      ]
    },
    {
      "cell_type": "markdown",
      "metadata": {
        "id": "cJ5JeAcWXYNu",
        "colab_type": "text"
      },
      "source": [
        "https://mathepedia.de/Lineare_Abbildungen.html"
      ]
    },
    {
      "cell_type": "markdown",
      "metadata": {
        "id": "x-jUXB20rykQ",
        "colab_type": "text"
      },
      "source": [
        "* Lineare Abbildung zwischen Vektorräumen\n",
        "\n",
        "* Erfüllt Bedingung der Homogenität und der Additivität (siehe unter Morphismen das Thema \"Vektorraumhomomorphismus\")"
      ]
    },
    {
      "cell_type": "markdown",
      "metadata": {
        "id": "YNTQDp0PYtjD",
        "colab_type": "text"
      },
      "source": [
        "https://en.m.wikipedia.org/wiki/Linear_algebra"
      ]
    },
    {
      "cell_type": "markdown",
      "metadata": {
        "id": "WVtm5vfsixu1",
        "colab_type": "text"
      },
      "source": [
        "**Assoziative Algebra**"
      ]
    },
    {
      "cell_type": "markdown",
      "metadata": {
        "id": "_7V1lvrE4GEn",
        "colab_type": "text"
      },
      "source": [
        "* Es handelt sich um eine algebraische Struktur, die den Begriff des Vektorraums bzw. des Moduls dahingehend erweitert, dass zusätzlich zur Vektoraddition eine **assoziative Multiplikation** als innere Verknüpfung definiert wird."
      ]
    },
    {
      "cell_type": "markdown",
      "metadata": {
        "id": "KMKDZOUxi0FP",
        "colab_type": "text"
      },
      "source": [
        "https://de.m.wikipedia.org/wiki/Assoziative_Algebra"
      ]
    },
    {
      "cell_type": "markdown",
      "metadata": {
        "id": "iBaF4uPUXeS-",
        "colab_type": "text"
      },
      "source": [
        "#### **Verband (Lattice) & Algebren**"
      ]
    },
    {
      "cell_type": "markdown",
      "metadata": {
        "id": "JD9PmKA4ODzn",
        "colab_type": "text"
      },
      "source": [
        "**Posets - Teilweise Geordnete Mengen**"
      ]
    },
    {
      "cell_type": "markdown",
      "metadata": {
        "id": "RkSnXjXBORCE",
        "colab_type": "text"
      },
      "source": [
        "Eine Menge $M$ heißt teilweise geordnet, oder\n",
        "halbgeordnet wenn sie mit einer Relation $\\leq$ versehen ist, die den folgenden Eigenschaften genügt:\n",
        "\n",
        "i. $x \\leq x$ für alle $x \\in M$ (Reflexivität)\n",
        "\n",
        "ii. Für alle $x, y \\in M$ gilt: Aus $x \\leq y$ und $y \\leq x$ folgt\n",
        "$x=y$ (Antisymmetrie)\n",
        "\n",
        "iii. Für alle $x, y, z \\in M$ gilt: Aus $x \\leq y$ und $y \\leq z$ folgt\n",
        "$x \\leq z$ (Transitivität)\n",
        "\n",
        "Im Englischen heißen teilweise geordnete Mengen auch Posets von Partially ordered set. Die Bezeichnung \"teilweise\" wird stellenweise auch weggelassen."
      ]
    },
    {
      "cell_type": "markdown",
      "metadata": {
        "id": "MvjT-dwsO1KT",
        "colab_type": "text"
      },
      "source": [
        "Gilt für zwei Elemente $x$ und $y$ weder $x \\leq y$ noch $y \\leq x,$ so\n",
        "heißen die Elemente unvergleichbar.\n",
        "\n",
        "Im allgemeinen müssen in einer teilweisen Ordnung zwei\n",
        "Elemente nicht vergleichbar sein. sind je zwei Elemente\n",
        "vergleichbar, so heißt die Ordnung linear.\n",
        "$\\leq$ ist linear: $\\Longleftrightarrow \\forall x, y: x R y \\vee y R x$\n",
        "\n",
        "Ist die Ordnung linear, so spricht man auch von einer\n",
        "totalen Ordnung oder einer kettengeordneten Menge (=Elemente auf einer Linie).\n",
        "\n",
        "Eine total geordnete Teilmenge von $M$ heißt auch Kette.\n",
        "Aus der Linearität folgt die Reflexivität."
      ]
    },
    {
      "cell_type": "markdown",
      "metadata": {
        "id": "6XU0GaxvO_sv",
        "colab_type": "text"
      },
      "source": [
        "https://mathepedia.de/Teilweise_geordnete_Mengen.html"
      ]
    },
    {
      "cell_type": "markdown",
      "metadata": {
        "id": "n7cJ5CYKPNYC",
        "colab_type": "text"
      },
      "source": [
        "**Prerequisite: Relation und Ordnungsrelation**"
      ]
    },
    {
      "cell_type": "markdown",
      "metadata": {
        "id": "m3npVcySPktS",
        "colab_type": "text"
      },
      "source": [
        "* transitiv,\n",
        "\n",
        "* reflexiv und irreflexiv,\n",
        "\n",
        "* asymmetrisch, antisymmetrisch"
      ]
    },
    {
      "cell_type": "markdown",
      "metadata": {
        "id": "CfIwOU5VPRNc",
        "colab_type": "text"
      },
      "source": [
        "https://de.m.wikipedia.org/wiki/Ordnungsrelation#"
      ]
    },
    {
      "cell_type": "markdown",
      "metadata": {
        "id": "hLqFt7FLPPIh",
        "colab_type": "text"
      },
      "source": [
        "https://de.m.wikipedia.org/wiki/Relation_(Mathematik)"
      ]
    },
    {
      "cell_type": "markdown",
      "metadata": {
        "id": "K0UpZzAKftF8",
        "colab_type": "text"
      },
      "source": [
        "**Verband (Lattice)**"
      ]
    },
    {
      "cell_type": "markdown",
      "metadata": {
        "id": "gnn7w0CKfvko",
        "colab_type": "text"
      },
      "source": [
        "https://de.m.wikipedia.org/wiki/Verband_(Mathematik)"
      ]
    },
    {
      "cell_type": "markdown",
      "metadata": {
        "id": "enrSGr1-bNY9",
        "colab_type": "text"
      },
      "source": [
        "https://en.m.wikipedia.org/wiki/Lattice_(order)"
      ]
    },
    {
      "cell_type": "markdown",
      "metadata": {
        "id": "ZaWMOhMSh5je",
        "colab_type": "text"
      },
      "source": [
        "Ordnungstheorie: https://mathepedia.de/Verbaende.html"
      ]
    },
    {
      "cell_type": "markdown",
      "metadata": {
        "id": "s2xBQMKOg1Ve",
        "colab_type": "text"
      },
      "source": [
        "* Ein Verband ist eine algebraische Struktur, **deren zwei innere Verknüpfungen im allgemeinen Fall nicht als Addition und Multiplikation aufgefasst werden können**\n",
        "\n",
        "* Als algebraische Struktur ist ein Verband dadurch gekennzeichnet, dass es zwei assoziative und kommutative Operationen gibt, für die die Absorptionsgesetze kennzeichnend sind: Für beliebige Elemente gilt u ∨ (u ∧ v) = u und u ∧ (u ∨ v) = u.\n",
        "\n",
        "* Für jede in der Verbandstheorie vorkommende algebraische Aussage gibt es eine direkte Übersetzung in eine Ordnungsaussage und umgekehrt."
      ]
    },
    {
      "cell_type": "markdown",
      "metadata": {
        "id": "YMZNsl4uKyXF",
        "colab_type": "text"
      },
      "source": [
        "Ein Verband $(V, \\vee, \\wedge)$ ist eine Menge $V$ mit zwei inneren binären Verknüpfungen $\\vee$ (Vereinigung, engl. join) und $\\wedge$ (Durchschnitt, engl. meet), die folgenden Bedingungen für alle $u, v, w$ aus $V$ genügen:\n",
        "\n",
        "Assoziativgesetze:\n",
        "\n",
        "$ u \\vee(v \\vee w)=(u \\vee v) \\vee w$\n",
        "\n",
        "$ u \\wedge(v \\wedge w)=(u \\wedge v) \\wedge w$\n",
        "\n",
        "Kommutativgesetze:\n",
        "\n",
        "$ u \\vee \\boldsymbol{v}=v \\vee u$\n",
        "\n",
        "$ u \\wedge v=v \\wedge u$\n",
        "\n",
        "Absorptionsgesetze:\n",
        "\n",
        "$ u \\vee(u \\wedge v)=u$\n",
        "\n",
        "$ u \\wedge(u \\vee v)=u$\n",
        "\n",
        "Aus diesen Bedingungen folgt die [Idempotenz](https://de.m.wikipedia.org/wiki/Idempotenz) beider Verknüpfungen:\n",
        "\n",
        "$ u \\vee \\boldsymbol{u}=u$\n",
        "\n",
        "$ u \\wedge u=u$\n",
        "\n",
        "$V$ ist also bezüglich jeder einzelnen Verknüpfung ein Halbverband, $d$. h. eine kommutative [Halbgruppe](https://de.m.wikipedia.org/wiki/Halbgruppe), der jedes Element idempotent ist. Die Verknüpfungen treten bei den Absorptionsgesetzen in\n",
        "Wechselwirkung."
      ]
    },
    {
      "cell_type": "markdown",
      "metadata": {
        "id": "suo2vIgK00Mr",
        "colab_type": "text"
      },
      "source": [
        "Beispiele für Verbände:\n",
        "\n",
        "* die z. B. in der Mengenlehre, der Logik und als Schaltalgebren auftretenden Booleschen Algebren sind Verbände.\n",
        "\n",
        "* [totale Ordnungen](https://de.m.wikipedia.org/wiki/Ordnungsrelation#Totalordnung), die z. B. in den verschiedenen Zahlbereichen wie N  (natürliche Zahlen), Z (ganze Zahlen), Q (rationale Zahlen) oder R (reelle Zahlen) auftreten, sind Verbände.\n",
        "\n",
        "* für jede beliebige natürliche Zahl ist die Menge der Teiler (durch die Teilbarkeit geordnet) ein Verband.\n",
        "\n",
        "* die Unterstrukturen einer beliebigen algebraischen oder sonstigen Struktur bilden einen Verband mit der Teilmengenrelation als Ordnung.\n",
        "\n",
        "* ALSO: Das Hasse-Diagramm zeigt die Teiler der Zahl 12, bezüglich der durch die Teilbarkeit gegebenen Ordnungsbeziehung (https://mathepedia.de/Hasse_Diagramme.html)"
      ]
    },
    {
      "cell_type": "markdown",
      "metadata": {
        "id": "QfmcVnYsJshi",
        "colab_type": "text"
      },
      "source": [
        "Absorption (Logik)"
      ]
    },
    {
      "cell_type": "markdown",
      "metadata": {
        "id": "2s51QFKzJ76J",
        "colab_type": "text"
      },
      "source": [
        "* Das Absorptionsgesetz der Aussagenlogik besagt, dass eine Aussage absorbiert wird, d. h., dass ihre Belegung für die Auswertung der Gesamtformel irrelevant ist, wenn sie hintereinander konjunktiv und disjunktiv mit einer anderen Aussage verknüpft wird, wobei die Reihenfolge der Verknüpfungen keine Rolle spielt.\n",
        "\n",
        "Absorptionsgesetze in der Verbandstheorie:\n",
        "\n",
        "$u \\vee(u \\wedge v)=u$\n",
        "\n",
        "$u \\wedge(u \\vee v)=u$"
      ]
    },
    {
      "cell_type": "markdown",
      "metadata": {
        "id": "rgHOEdfCJuhn",
        "colab_type": "text"
      },
      "source": [
        "https://de.m.wikipedia.org/wiki/Absorption_(Logik)"
      ]
    },
    {
      "cell_type": "markdown",
      "metadata": {
        "id": "t6_txpIWhm2L",
        "colab_type": "text"
      },
      "source": [
        "**Algebren**"
      ]
    },
    {
      "cell_type": "markdown",
      "metadata": {
        "id": "0XBejTPwhPaA",
        "colab_type": "text"
      },
      "source": [
        "https://mathepedia.de/Algebren.html"
      ]
    },
    {
      "cell_type": "markdown",
      "metadata": {
        "id": "1yoiK_Z2hS2b",
        "colab_type": "text"
      },
      "source": [
        "Eine Algebra (Plural: Algebren) ist eine Verallgemeinerung des Begriffes Ring.\n",
        "Es gibt zwei grundsätzlich verschiedene Arten von Algebren:\n",
        "\n",
        "1. Boolesche Algebren, insbesondere Mengenalgebren wie z.B. σ-Algebren\n",
        "\n",
        "2. Algebren über Ringen, die eine Art Synthese aus den Begriffen Vektorraum und Ring darstellen."
      ]
    },
    {
      "cell_type": "markdown",
      "metadata": {
        "id": "h3EItm12hE7r",
        "colab_type": "text"
      },
      "source": [
        "Boolsche Algebra"
      ]
    },
    {
      "cell_type": "markdown",
      "metadata": {
        "id": "sOC7zkQkhHlR",
        "colab_type": "text"
      },
      "source": [
        "* Eine Boolesche Algebra ist ein Verband, in dem die beiden Verknüpfungen je ein neutrales Element haben, a ∪ 0 = a und a ∩ 1 = a, und in dem jedes Element ein bezüglich beider Verknüpfungen übereinstimmendes Komplement h"
      ]
    },
    {
      "cell_type": "markdown",
      "metadata": {
        "id": "0p0KsPea3-pX",
        "colab_type": "text"
      },
      "source": [
        "https://de.m.wikipedia.org/wiki/Aussagenlogik"
      ]
    },
    {
      "cell_type": "markdown",
      "metadata": {
        "id": "k4Sp21V_hWFP",
        "colab_type": "text"
      },
      "source": [
        "https://de.m.wikipedia.org/wiki/Boolesche_Algebra"
      ]
    },
    {
      "cell_type": "markdown",
      "metadata": {
        "id": "QYMsn5TXf2Tz",
        "colab_type": "text"
      },
      "source": [
        "Mengenalgebra (Field of Sets)"
      ]
    },
    {
      "cell_type": "markdown",
      "metadata": {
        "id": "W6m2f_P1hdXY",
        "colab_type": "text"
      },
      "source": [
        "* **Mengenalgebra**: eine Boolesche Algebra, deren Elemente Mengen sind, nämlich Teilmengen einer Grundmenge X, mit den Mengenoperatoren ∪ und ∩ als Verknüpfungen, mit dem Nullelement ∅ und dem Einselement X.\n",
        "\n",
        "* **σ-Algebra**: eine bezüglich abzählbar-unendlicher Verknüpfungen abgeschlossene Mengenalgebra. **Messraum und Maßraum sind spezielle σ-Algebren.**\n",
        "\n",
        "* **Borel-Algebra** macht einen topologischen Raum zum Maßraum: sie ist die kleinste σ-Algebra, die eine gegebene Topologie enthält.\n",
        "\n",
        "* **Zweiwertige Boolesche Algebra**: hat nur die Elemente 0 und 1."
      ]
    },
    {
      "cell_type": "markdown",
      "metadata": {
        "id": "UtsldPtaf407",
        "colab_type": "text"
      },
      "source": [
        "https://de.m.wikipedia.org/wiki/Algebra_(Mengensystem)"
      ]
    }
  ]
}