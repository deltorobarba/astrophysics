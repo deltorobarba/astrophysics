{
  "nbformat": 4,
  "nbformat_minor": 0,
  "metadata": {
    "colab": {
      "name": "algebra.ipynb",
      "provenance": [],
      "collapsed_sections": [
        "Rov1qvfeYc4C",
        "mOuy0MaXYiYj",
        "dr1iwDxKS8MN",
        "HmCOFgKfs2ev",
        "zjgag_ipPzLJ",
        "o5G2e0uRcUjy",
        "QdV8mAKugO06",
        "iBaF4uPUXeS-",
        "X9_tFvqUii2z",
        "IRd6gnIaP5Yv"
      ],
      "include_colab_link": true
    },
    "kernelspec": {
      "name": "python3",
      "display_name": "Python 3"
    }
  },
  "cells": [
    {
      "cell_type": "markdown",
      "metadata": {
        "id": "view-in-github",
        "colab_type": "text"
      },
      "source": [
        "<a href=\"https://colab.research.google.com/github/deltorobarba/machinelearning/blob/master/algebra.ipynb\" target=\"_parent\"><img src=\"https://colab.research.google.com/assets/colab-badge.svg\" alt=\"Open In Colab\"/></a>"
      ]
    },
    {
      "cell_type": "markdown",
      "metadata": {
        "id": "2Aoj2PpxvDQV",
        "colab_type": "text"
      },
      "source": [
        "# **Algebraic Structures**"
      ]
    },
    {
      "cell_type": "code",
      "metadata": {
        "id": "1U5_6xH7tAQq",
        "colab_type": "code",
        "colab": {}
      },
      "source": [
        "import numpy as np\n",
        "import pandas as pd\n",
        "import seaborn as sns\n",
        "import matplotlib.pyplot as plt"
      ],
      "execution_count": null,
      "outputs": []
    },
    {
      "cell_type": "markdown",
      "metadata": {
        "id": "Rov1qvfeYc4C",
        "colab_type": "text"
      },
      "source": [
        "## **Overview**"
      ]
    },
    {
      "cell_type": "markdown",
      "metadata": {
        "id": "mOuy0MaXYiYj",
        "colab_type": "text"
      },
      "source": [
        "#### **Definition**"
      ]
    },
    {
      "cell_type": "markdown",
      "metadata": {
        "id": "7fxw9DSyjiah",
        "colab_type": "text"
      },
      "source": [
        "* **Eine Algebraische Struktur ist eine Menge versehen mit Verknüpfungen auf dieser Menge**. Eine Vielzahl der in der abstrakten Algebra untersuchten Strukturen wie Gruppen, Ringe oder Körper sind spezielle algebraische Strukturen.\n",
        "\n",
        "* Algebraische Strukturen sind eine Form von [mathematischen Strukturen](https://de.m.wikipedia.org/wiki/Mathematische_Struktur) (neben topologischen Strukturen, geometrischen Strukturen und Zahlbereichen). Abstract algebra is the study of algebraic structures. \n",
        "\n",
        "* **Such a structure consists of a set together with one or more binary operations, which are required to satisfy certain axioms.**\n",
        "\n",
        "* The structures listed below are only a sample of the many algebraic structures of importance in mathematics. Many fields of mathematics involve their own special algebraic structures, and new algebraic structures are defined all the time. To give you a sense of scale, the online encyclopedia Wikipedia currently has articles on over a hundred different algebraic structures, and this represents only a small fraction of those that have been investigated in the mathematical literature."
      ]
    },
    {
      "cell_type": "markdown",
      "metadata": {
        "id": "a_Grie7TcA-J",
        "colab_type": "text"
      },
      "source": [
        "https://de.m.wikipedia.org/wiki/Universelle_Algebra"
      ]
    },
    {
      "cell_type": "markdown",
      "metadata": {
        "id": "pcE7T_Nvm94w",
        "colab_type": "text"
      },
      "source": [
        "https://de.m.wikipedia.org/wiki/Homologische_Algebra"
      ]
    },
    {
      "cell_type": "markdown",
      "metadata": {
        "id": "dr1iwDxKS8MN",
        "colab_type": "text"
      },
      "source": [
        "#### **Properties (Grundlegende Regeln der Algebra)**"
      ]
    },
    {
      "cell_type": "markdown",
      "metadata": {
        "id": "H-pYZbqoo-Rz",
        "colab_type": "text"
      },
      "source": [
        "**Abgeschlossenheit**\n",
        "\n",
        "(https://de.m.wikipedia.org/wiki/Abgeschlossenheit_(algebraische_Struktur))"
      ]
    },
    {
      "cell_type": "markdown",
      "metadata": {
        "id": "K64WJEKxT5Jb",
        "colab_type": "text"
      },
      "source": [
        "**Assoziativität**\n",
        "\n",
        "(a * b) * c = a * (b * c)\n",
        "\n",
        "a. Addition. When three or more numbers are added, the sum is the same regardless of the way in which the numbers are grouped.\n",
        "\n",
        "6+(4+3)=13 or (6+4)+3=13\n",
        "\n",
        "b. Multiplication. When three or more numbers are multiplied, the product is the same regardless of\n",
        "the way in which the numbers are grouped.\n",
        "\n",
        "6x(4x3)=72 or (6x4)x3=72\n",
        "\n",
        "https://de.m.wikipedia.org/wiki/Assoziativgesetz"
      ]
    },
    {
      "cell_type": "markdown",
      "metadata": {
        "id": "FIBq7GtBir5R",
        "colab_type": "text"
      },
      "source": [
        "**Identity Property (Neutrales Element)**\n",
        "\n",
        "a. Additive identity. The sum of any number and zero is that number. 12 + 0 = 12\n",
        "\n",
        "b. Multiplicatice identity, The product of any number and one is that number. 18 x 1 = 18\n",
        "\n",
        "https://en.m.wikipedia.org/wiki/Identity_element"
      ]
    },
    {
      "cell_type": "markdown",
      "metadata": {
        "id": "C04LXzIEpeGY",
        "colab_type": "text"
      },
      "source": [
        "**Inverse Elemente**\n",
        "\n",
        "For each element a $\\in \\mathrm{G}$, there exists an element $\\mathrm{a}^{-1} \\in \\mathrm{G}$ such that $\\mathrm{a} \\cdot \\mathrm{a}^{-1}=\\mathrm{a}^{-1} \\cdot \\mathrm{a}=\\mathrm{e}$. (The element $\\mathrm{a}^{-1}$ is called the inverse of a.)"
      ]
    },
    {
      "cell_type": "markdown",
      "metadata": {
        "id": "Ll09kLWiUUb-",
        "colab_type": "text"
      },
      "source": [
        "**Kommutativität**\n",
        "\n",
        "a + b = b + a\n",
        "\n",
        "a * b = b * a\n",
        "\n",
        "a. Addition. When two numbers are added, the sum is the same regardless of the order in which the numbers are added.\n",
        "\n",
        "3+5=8 or 5+3=8\n",
        "\n",
        "b. Multiplication. When two numbers are multiplied together, the product is the same regardless of the order in which the numbers are multiplied.\n",
        "\n",
        "3 x 5 = 15 or 5 x 3 = 15\n",
        "\n",
        "https://de.m.wikipedia.org/wiki/Kommutativgesetz"
      ]
    },
    {
      "cell_type": "markdown",
      "metadata": {
        "id": "NKq9om0BTe_4",
        "colab_type": "text"
      },
      "source": [
        "**Distributivgesetz**\n",
        "\n",
        "Für körper (fields), aber nicht gruppen oder ringe!\n",
        "\n",
        "Distributivgesetzes für positive Zahlen:\n",
        " \n",
        " a * b + a * c = a * (b + c)\n",
        "\n",
        "The sum of two numbers times a third number is equal to the sum of each addend times the third number.\n",
        "5x(7+2)=45 or 5x7+5x2=45\n",
        "\n",
        "https://de.m.wikipedia.org/wiki/Distributivgesetz"
      ]
    },
    {
      "cell_type": "markdown",
      "metadata": {
        "id": "HmCOFgKfs2ev",
        "colab_type": "text"
      },
      "source": [
        "#### **Summary of Algebraic Structures**"
      ]
    },
    {
      "cell_type": "markdown",
      "metadata": {
        "id": "AZCpPDJAe3AK",
        "colab_type": "text"
      },
      "source": [
        "* **Summary**: Aus einer Menge der Zahlen (N, Z, Q, R, C, H) eine algebraische Struktur basteln. Man kann mit der Gruppe anfangen (als einfachste algebraische Struktur), um erstmal einfach zu verknüpfen. Dann schickt man noch eine Verknüpfung rein und bastelt sich so einen Ring. Kommt dann zum Körper und kann spätestens bei den Körpern über komplexen Zahlen sämtliche Gleichungen lösen.\n",
        "\n",
        "* Gruppe zB schickt man die Menge natürliche Zahlen N in eine zweistellige Verknüpfung.\n",
        "\n",
        "* Ringe erlauben **zwei** zweistellige Verknüpfungen, üblicherweise der **ganzen Zahlen Z**, was aber kein Divisionsring ist / keine multiplikative Inverse für alle Elemente (gibt Probleme bei der Lösung mancher Gleichungen)\n",
        "\n",
        "* Divisionsring = Schiefkörper (hat alle Körpereigenschaften, aber die Multiplikation ist nicht notwendigerweise kommutativ). Anwendung bei Quaternions H.\n",
        "\n",
        "* Körper über rationale Zahlen Q, über reelle Zahlen R und über komplexe Zahlen C. Damit kann man praktisch alle Gleichungen lösen.\n",
        "\n",
        "* Für Operationen im mehrdimensionalen Raum erweitert man noch auf Module (für Ringe, zB ganze Zahlen Z<sup>n</sup>) und Vektorräume (für Körper, zB reelle Zahlen R<sup>n</sup>). Deshalb sagt man auch zB Vektorraum über einen Körper der reellen Zahlen. Ein Modul ist ein n-dimensionaler Ring, und ein Vektorraum ist ein n-dimensionaler Körper."
      ]
    },
    {
      "cell_type": "markdown",
      "metadata": {
        "id": "CoIy64C2tO4P",
        "colab_type": "text"
      },
      "source": [
        "https://en.m.wikipedia.org/wiki/Vector_space"
      ]
    },
    {
      "cell_type": "markdown",
      "metadata": {
        "id": "C9dRal7LstQ8",
        "colab_type": "text"
      },
      "source": [
        "https://en.m.wikipedia.org/wiki/Outline_of_algebraic_structures"
      ]
    },
    {
      "cell_type": "markdown",
      "metadata": {
        "id": "zjgag_ipPzLJ",
        "colab_type": "text"
      },
      "source": [
        "## **Types of Algebraic Structures**"
      ]
    },
    {
      "cell_type": "markdown",
      "metadata": {
        "id": "o5G2e0uRcUjy",
        "colab_type": "text"
      },
      "source": [
        "#### **Strukturen mit <u>einer</u> inneren Verknüpfung: Gruppen & ähnliche**"
      ]
    },
    {
      "cell_type": "markdown",
      "metadata": {
        "id": "tvj5Lv5mbE0m",
        "colab_type": "text"
      },
      "source": [
        "https://de.m.wikipedia.org/wiki/Gruppentheorie"
      ]
    },
    {
      "cell_type": "markdown",
      "metadata": {
        "id": "0ZX6NbAykTKz",
        "colab_type": "text"
      },
      "source": [
        "* Die fundamentalen algebraischen Strukturen besitzen eine oder zwei [zweistellige innere Verknüpfungen](https://de.m.wikipedia.org/wiki/Zweistellige_Verknüpfung). \n",
        "\n",
        "* **A group is an algebraic structure with a single operation**. \n",
        "\n",
        "* Groups are closely associated with the idea of symmetry, and most groups that arise in mathematics are groups of symmetry transformations, with the operation being composition of functions.\n",
        "\n",
        "* **Groups are a particularly simple algebraic structure**, having only one operation and three axioms. Most algebraic structures have more than one operation, and are required to satisfy a long list of axioms."
      ]
    },
    {
      "cell_type": "markdown",
      "metadata": {
        "id": "O2YHCqA2omDH",
        "colab_type": "text"
      },
      "source": [
        "A group is a set G together with a binary operation ∗ on G, satisfying the following axioms:\n",
        "\n",
        "1. The operation ∗ is associative. That is,\n",
        "a ∗ (b ∗ c) = (a ∗ b) ∗ c\n",
        "for all a,b,c ∈ G.\n",
        "\n",
        "2. There exists an element e ∈ G with the property that\n",
        "a∗e=e∗a=a\n",
        "for all a ∈ G. (This element e is called the identity element of G.)\n",
        "\n",
        "3. For each element a ∈ G, there exists an element a<sup>-1</sup> ∈ G such that a∗􏰁a<sup>-1</sup>􏰂 = 􏰁a<sup>-1</sup>􏰂∗a = e.\n",
        "(The element a<sup>-1</sup> is called the inverse of a.)"
      ]
    },
    {
      "cell_type": "markdown",
      "metadata": {
        "id": "jMk7Z_FMinyX",
        "colab_type": "text"
      },
      "source": [
        "**Halbgruppe**\n",
        "\n",
        "* Es gilt die Abgeschlossenheit (https://de.m.wikipedia.org/wiki/Abgeschlossenheit_(algebraische_Struktur))\n",
        "\n",
        "* The operation ∗ is associative. That is, a ∗ (b ∗ c) = (a ∗ b) ∗ c for all a,b,c ∈ G.\n",
        "\n",
        "* Es wird **nicht** erfüllt: Neutral (identity element), inverse, kommunitativ"
      ]
    },
    {
      "cell_type": "markdown",
      "metadata": {
        "id": "W4bqgKaUmfvs",
        "colab_type": "text"
      },
      "source": [
        "**Monoid**\n",
        "\n",
        "* ein Monoid ist eine algebraische Struktur bestehend aus einer Menge mit einer klammerfrei notierbaren (assoziativen) Verknüpfung und einem neutralen Element. \n",
        "\n",
        "* Ein Beispiel sind die natürlichen Zahlen mit der Addition und der Zahl 0 als neutralem Element. Ein Monoid, in dem jedes Element invertierbar ist, heißt Gruppe.\n",
        "\n",
        "* Eigenschaften bezüglich der angegebenen Verknüpfung: Assoziativität der Verknüpfung und e ist ein neutrales Element.\n",
        "\n",
        "* Ein Monoid ist also eine Halbgruppe mit neutralem Element. Jede Gruppe ist ein Monoid, aber ein Monoid hat im Gegensatz zur Gruppe nicht notwendigerweise inverse Elemente.\n",
        "\n",
        "https://de.m.wikipedia.org/wiki/Monoid\n"
      ]
    },
    {
      "cell_type": "markdown",
      "metadata": {
        "id": "e6YkN8oDc-nK",
        "colab_type": "text"
      },
      "source": [
        "**Abelian Group**\n",
        "\n",
        "* Eine abelsche Gruppe ist eine Gruppe, für die zusätzlich das Kommutativgesetz gilt.\n",
        "\n",
        "Sei $G$ eine Menge. Jedem Paar $(a, b) \\in G \\times G$ sei genau ein Element $a * b \\in G$ zugeordnet. Das Paar $(G, *)$ heißt abelsche Gruppe, wenn die Verknüpfung $*: G \\times G \\rightarrow G,(a, b) \\mapsto a * b$ die folgenden Gesetze erfüllt:\n",
        "\n",
        "1. Assoziativgesetz: Für alle $a, b, c \\in G$ gilt: $a *(b * c)=(a * b) * c$\n",
        "2. Kommutativgesetz: Für alle $a, b \\in G$ gilt: $a * b=b * a$\n",
        "3. Neutrales Element: Es gibt ein Element $e \\in G,$ so dass für alle $a \\in G$ gilt: $a * e=a$\n",
        "4. Inverses Element: Zu jedem $a \\in G$ gibt es ein $a^{-1} \\in G$ mit $a * a^{-1}=e$.\n",
        "\n",
        "Eine Gruppe $(G, *)$ heißt nichtabelsch, wenn in ihr mindestens ein Paar $(a, b)$ existiert mit $a * b \\neq b * a$\n",
        "\n",
        "* $(\\mathbb {Z} ,+)$ ist die wichtigste abelsche Gruppe. Dabei ist Z die Menge der ganzen Zahlen und + die gewöhnliche Addition.\n",
        "\n",
        "* $(\\mathbb {Q} ^{*},\\cdot )$ ist eine abelsche Gruppe. Dabei ist $\\mathbb {Q} ^{*}$ die Menge der rationalen Zahlen ohne die \n",
        "0 und ⋅ ist die gewöhnliche Multiplikation.\n",
        "\n",
        "* Die Menge der endlichen Dezimalzahlen sind bezüglich der Multiplikation keine abelsche Gruppe. Zum Beispiel hat die Zahl 3 kein Inverses bezüglich der Multiplikation. $\\displaystyle {\\frac {1}{3}}$ lässt sich nicht als endlicher Dezimalbruch schreiben. Bezüglich der normalen Addition bilden die endlichen Dezimalbrüche eine abelsche Gruppe.\n",
        "Die Menge der Verschiebungen in der euklidischen Ebene bilden eine abelsche Gruppe. Die Verknüpfung ist die Hintereinanderausführung der Verschiebungen.\n",
        "\n",
        "* usw.: https://de.m.wikipedia.org/wiki/Abelsche_Gruppe"
      ]
    },
    {
      "cell_type": "markdown",
      "metadata": {
        "id": "Wj5WrEkbe_A3",
        "colab_type": "text"
      },
      "source": [
        "**Lie Group**\n",
        "\n",
        "* eine Lie-Gruppe ist eine mathematische Struktur, die zur Beschreibung von kontinuierlichen Symmetrien verwendet wird. \n",
        "\n",
        "* Formal handelt es sich bei einer Lie-Gruppe um eine Gruppe, die als differenzierbare Mannigfaltigkeit aufgefasst werden kann, sodass die Gruppenverknüpfung und Inversenbildung kompatibel mit dieser glatten Struktur sind.\n",
        "\n",
        "* Eine Lie-Gruppe ist eine [glatte reelle Mannigfaltigkeit](https://de.m.wikipedia.org/wiki/Differenzierbare_Mannigfaltigkeit#Glatte_Mannigfaltigkeit), die zusätzlich die Struktur einer Gruppe besitzt, so dass die Gruppenverknüpfung und die Inversion beliebig oft differenzierbar sind. (*Glatte Funktion: Eine glatte Funktion ist eine mathematische Funktion, die unendlich oft differenzierbar (insbesondere stetig) ist. Die Bezeichnung „glatt“ ist durch die Anschauung motiviert: Der Graph einer glatten Funktion hat keine „Ecken“, also Stellen, an denen sie nicht differenzierbar ist.*)"
      ]
    },
    {
      "cell_type": "markdown",
      "metadata": {
        "id": "ZDqJB-vtXMJ1",
        "colab_type": "text"
      },
      "source": [
        "#### **Strukturen mit zwei inneren Verknüpfungen: Ringe, Körper und ähnliche**"
      ]
    },
    {
      "cell_type": "markdown",
      "metadata": {
        "id": "ewHjxqYobJU4",
        "colab_type": "text"
      },
      "source": [
        "https://en.m.wikipedia.org/wiki/Ring_theory"
      ]
    },
    {
      "cell_type": "markdown",
      "metadata": {
        "id": "wlVtvTJcXQNy",
        "colab_type": "text"
      },
      "source": [
        "##### **Ringe**"
      ]
    },
    {
      "cell_type": "markdown",
      "metadata": {
        "id": "AEMyzgYIfe20",
        "colab_type": "text"
      },
      "source": [
        "* Der Name Ring bezieht sich nicht auf etwas anschaulich Ringförmiges, sondern auf einen organisierten Zusammenschluss von Elementen zu einem Ganzen.\n",
        "\n",
        "* In speziellen Situationen ist neben der Bezeichnung Ring auch die Bezeichnung Bereich geläufig. So findet man in der Literatur eher den Begriff Integritätsbereich statt Integritätsring.\n",
        "\n",
        "* A ring is a more general algebraic structure with addition and multiplication. Unlike a field, a ring is not required to have multiplicative inverses, and the multiplication is not required to be commutative. A good example of a ring is the set of all n×n matrices under the operations of matrix addition and matrix multiplication. The integers Z also form a ring under the operations of addition and multiplication.\n",
        "\n"
      ]
    },
    {
      "cell_type": "markdown",
      "metadata": {
        "id": "Xj4T5rz2mM1N",
        "colab_type": "text"
      },
      "source": [
        "A Ring is an algebraic structure with two binary operations,  + and  ×, that generalise the arithmetic operations of addition and multiplication. The key properties are:\n",
        "\n",
        "* Addition is associative and commutative;\n",
        "\n",
        "* There is an additive identity, zero;\n",
        "\n",
        "* Every element has an additive inverse;\n",
        "\n",
        "* Multiplication is associative; and\n",
        "\n",
        "* Multiplication distributes over addition.\n",
        "\n",
        "Classic examples of Rings are:\n",
        "\n",
        "* the Integers;\n",
        "\n",
        "* the Integers modulo some Natural number greater than one; and\n",
        "\n",
        "* 2×2 Real matrices.\n",
        "\n",
        "https://www.quora.com/What-are-the-differences-between-rings-and-fields"
      ]
    },
    {
      "cell_type": "markdown",
      "metadata": {
        "id": "Gmeys0u3kGgE",
        "colab_type": "text"
      },
      "source": [
        "Eigenschaften von Ringen:\n",
        "\n",
        "0. Es gilt die Abgeschlossenheit [(siehe Wiki)]((https://de.m.wikipedia.org/wiki/Abgeschlossenheit_(algebraische_Struktur)))\n",
        "\n",
        "1. Assoziativgesetz: Für alle $a, b, c \\in G$ gilt: $a *(b * c)=(a * b) * c$\n",
        "\n",
        "2. Kommutativgesetz: Für alle $a, b \\in G$ gilt: $a * b=b * a$\n",
        "\n",
        "3. Neutrales Element: Es gibt ein Element $e \\in G,$ so dass für alle $a \\in G$ gilt: $a * e=a$\n",
        "\n",
        "4. Inverses Element: Zu jedem $a \\in G$ gibt es ein $a^{-1} \\in G$ mit $a * a^{-1}=e$.\n",
        "\n",
        "sowie die Distributivgesetze\n",
        "\n",
        "$\\begin{array}{l}\n",
        "a \\cdot(b+c)=(a \\cdot b)+(a \\cdot c) \\text { und } \\\\\n",
        "(a+b) \\cdot c=(a \\cdot c)+(b \\cdot c)\n",
        "\\end{array}$\n",
        "\n",
        "für alle $a, b, c \\in R$ erfüllt sind."
      ]
    },
    {
      "cell_type": "markdown",
      "metadata": {
        "id": "ss8dhiRhlmDY",
        "colab_type": "text"
      },
      "source": [
        "**Kommutativer Ring**\n",
        "\n",
        "* Ein Ring heißt kommutativ, falls er bezüglich der Multiplikation kommutativ ist, ansonsten spricht man von einem nicht-kommutativen Ring."
      ]
    },
    {
      "cell_type": "markdown",
      "metadata": {
        "id": "c2rLi8RzmGRG",
        "colab_type": "text"
      },
      "source": [
        "**Ring mit Eins (unitärer Ring)**\n",
        "\n",
        "* Hat die Halbgruppe $R,\\cdot$ ein (beidseitiges) neutrales Element 1, ist also ein Monoid, dann nennt man $R,+,\\cdot$ einen Ring mit Eins oder unitären Ring. \n",
        "\n",
        "* Ringe mit nur links- oder nur rechtsneutralem Element gelten in der Ringtheorie nicht als unitär."
      ]
    },
    {
      "cell_type": "markdown",
      "metadata": {
        "id": "F3RI2yoCfc61",
        "colab_type": "text"
      },
      "source": [
        "https://de.m.wikipedia.org/wiki/Ring_(Algebra)"
      ]
    },
    {
      "cell_type": "markdown",
      "metadata": {
        "id": "foYtNNmXXHhZ",
        "colab_type": "text"
      },
      "source": [
        "##### **Körper (Field / Algebra of Fields)**"
      ]
    },
    {
      "cell_type": "markdown",
      "metadata": {
        "id": "lp8ramsLlfuA",
        "colab_type": "text"
      },
      "source": [
        "**A Field is a Ring whose non-zero elements form a commutative Group under multiplication.**\n",
        "\n",
        "In addition to the properties of a ring, a Field has:\n",
        "\n",
        "* Multiplication is commutative;\n",
        "\n",
        "* Every non-zero element has a multiplicative inverse.\n",
        "\n",
        "Classic examples of Fields are:\n",
        "\n",
        "* the Rationals;\n",
        "* The Reals;\n",
        "* Complex numbers; and\n",
        "* The Integers modulo a Prime number.\n",
        "\n",
        "Both Rings and Fields extend to more abstract algebraic objects that do not enter the mathematical curriculum until at least undergraduate level.\n",
        "\n",
        "\n",
        "8.4K viewsView UpvotersView Sharers\n",
        "44\n",
        "1\n",
        "4\n",
        "4 comments from Pedro Fernandez and more\n",
        "Related Spaces (More Answers Below)\n",
        "\n",
        "Coronavirus\n",
        "Shared knowledge and experiences regarding COVID-19\n",
        "\n",
        "Follow\n",
        "6.4M\n",
        "\n",
        "Number Theory\n",
        "Showcasing questions & answers about the fantastic field of number theory.\n",
        "\n",
        "Follow\n",
        "202.2K\n",
        "\n",
        "Mathematical Applications\n",
        "This is a place for explicit, understandable applications of mathematics.\n",
        "\n",
        "Follow\n",
        "49.8K\n",
        "\n",
        "Just Funny Links\n",
        "Funny topics\n",
        "\n",
        "Follow\n",
        "37\n",
        "\n",
        "Inversive Geometry\n",
        "Inversive geometry from the ground up\n",
        "\n",
        "Follow\n",
        "3K\n",
        "\n",
        "Math Worksheets\n",
        "Math problems, questions and answers ... POST YOUR REQUESTS or SOLUTIONS!!\n",
        "\n",
        "Follow\n",
        "74.1K\n",
        "\n",
        "Math Resources\n",
        "Math discussions and free resources for educators that can be used in lessons\n",
        "\n",
        "Follow\n",
        "7K\n",
        "\n",
        "The Beauty of Mathematics\n",
        "Beauty begins with symmetry, so is the Mathematics. Let’s find the beauty of mat\n",
        "\n",
        "Follow\n",
        "5K\n",
        "\n",
        "Made up maths.\n",
        "Add any new operators, functions or whatnot that you stubled acros and like.\n",
        "\n",
        "Follow\n",
        "12.7K\n",
        "\n",
        "Creative Algebra\n",
        "We share creative algebra problems and have fun letting each-other solve them.\n",
        "\n",
        "Follow\n",
        "65.6K\n",
        "\n",
        "Affine Mess\n",
        "Musings on Math.\n",
        "\n",
        "Follow\n",
        "1.6K\n",
        "\n",
        "Applied Mathematics\n",
        "We're moving from pure to applied mathematics that's applicable in real life.\n",
        "\n",
        "Follow\n",
        "34K\n",
        "\n",
        "Math of Games\n",
        "Mathematics about games and puzzles\n",
        "\n",
        "Follow\n",
        "8.1K\n",
        "\n",
        "Daily dose of mathematics\n",
        "A space to share math formulas and questions. Open to anyone interested in math!\n",
        "\n",
        "Follow\n",
        "307\n",
        "\n",
        "Mathematical Study\n",
        "A space about math that you may or may not learn!\n",
        "\n",
        "Follow\n",
        "2.8K\n",
        "\n",
        "Solve the Equation\n",
        "Let’s solve your equations and share those here. Everybody has equations to solve. Let’s share those here and enjoy solving those.\n",
        "\n",
        "Follow\n",
        "432\n",
        "\n",
        "Science and Math Geeks 2\n",
        "The real Science and Math Geeks is back up again and running well!\n",
        "\n",
        "Follow\n",
        "6.8K\n",
        "\n",
        "Donkeypedia World\n",
        "Wrong mathematics and dependent sciences\n",
        "\n",
        "Follow\n",
        "5.5K\n",
        "\n",
        "4D Art\n",
        "All Multi-Dimensional Art and Structures\n",
        "\n",
        "Follow\n",
        "1.6K\n",
        "\n",
        "Scientific Curiosity hub\n",
        "Let your curiosity loose and marvel at the elegant universe.\n",
        "\n",
        "Follow\n",
        "439\n",
        "\n",
        "Interesting Math&Science\n",
        "Follow us and check the \"Details\" section ---->\n",
        "\n",
        "Follow\n",
        "110.2K\n",
        "\n",
        "Answer aggregator\n",
        "Aggregating my answers on topics I write frequently about.\n",
        "\n",
        "Follow\n",
        "585\n",
        "\n",
        "The Educational Blog\n",
        "A great place to teach and learn from others\n",
        "\n",
        "Follow\n",
        "7.4K\n",
        "\n",
        "Ciphers and Secrets\n",
        "Codes, Ciphers, and Secrets. A corner for cryptology.\n",
        "\n",
        "Follow\n",
        "178\n",
        "\n",
        "The Science Space\n",
        "Science and all its branches\n",
        "\n",
        "Follow\n",
        "1.1M\n",
        "\n",
        "Roots of Science\n",
        "The place to show, discuss, and improve the very foundations of science.\n",
        "\n",
        "Follow\n",
        "27.7K\n",
        "\n",
        "Chemistry discussions\n",
        "We find solutions on different chemistry questions. Feel free to join\n",
        "\n",
        "Follow\n",
        "126\n",
        "\n",
        "Coder vs. Coder\n",
        "A new competitive programming link every day\n",
        "\n",
        "Follow\n",
        "31.3K\n",
        "\n",
        "Fundamental interactions\n",
        "Physical evidence of gravity and fundamental interactions\n",
        "\n",
        "Follow\n",
        "668\n",
        "\n",
        "Searching For Answers\n",
        "I guess my blog is a space now. I rarely post here, mostly random thoughts.\n",
        "\n",
        "Follow\n",
        "38\n",
        "\n",
        "Applied Electromagnetics\n",
        "Space is dedicated to engineering electromagnetics, antennas and propagation\n",
        "\n",
        "Follow\n",
        "826\n",
        "View More Spaces\n",
        "\n",
        "Tom McFarlane, M.S. Mathematics, University of Washington (1994)\n",
        "Updated May 10, 2016\n",
        "·\n",
        "Upvoted by\n",
        "David Joyce, Ph.D. Mathematics, University of Pennsylvania (1979)\n",
        "\n"
      ]
    },
    {
      "cell_type": "markdown",
      "metadata": {
        "id": "-jEKqCtnsY92",
        "colab_type": "text"
      },
      "source": [
        "* The most familiar form of algebra is the elementary algebra that you learned in high school, namely the algebra of the real numbers. From an abstract point of view, this is the algebra of fields.\n",
        "\n",
        "* A field is an algebraic structure with addition and multiplication, which obey all of the usual rules of elementary algebra. Examples of fields include the rational numbers Q, the real numbers R, and the complex numbers C."
      ]
    },
    {
      "cell_type": "markdown",
      "metadata": {
        "id": "7uh8pgC5kwPM",
        "colab_type": "text"
      },
      "source": [
        "* Ein Körper ist im mathematischen Teilgebiet der Algebra eine ausgezeichnete algebraische Struktur, in der die Addition, Subtraktion, Multiplikation und Division auf eine bestimmte Weise durchgeführt werden können.\n",
        "\n",
        "* Die wichtigsten Körper, die in fast allen Gebieten der Mathematik benutzt werden, sind der Körper $\\mathbb {Q}$ der rationalen Zahlen, der Körper $\\mathbb {R}$ der reellen Zahlen und der Körper $\\mathbb {C}$ der komplexen Zahlen."
      ]
    },
    {
      "cell_type": "markdown",
      "metadata": {
        "id": "fiD4gEiPkpQq",
        "colab_type": "text"
      },
      "source": [
        "* Ein **Schiefkörper** oder Divisionsring ist eine algebraische Struktur, die alle Eigenschaften eines Körpers besitzt, außer dass die Multiplikation nicht notwendigerweise kommutativ ist."
      ]
    },
    {
      "cell_type": "markdown",
      "metadata": {
        "id": "1_Jav3cJksAh",
        "colab_type": "text"
      },
      "source": [
        "https://de.m.wikipedia.org/wiki/Körper_(Algebra)"
      ]
    },
    {
      "cell_type": "markdown",
      "metadata": {
        "id": "tEFak7pNqvaP",
        "colab_type": "text"
      },
      "source": [
        "A field is a set F together with two binary operations + (the addition operation) and · (the multiplication operation), that satisfy the following axioms:\n",
        "\n",
        "1. The addition operation is **associative**. That is,\n",
        "a + (b + c) = (a + b) + c\n",
        "for all a,b,c ∈ F.\n",
        "\n",
        "2. The addition operation is **commutative**. That is,\n",
        "a+b=b+a\n",
        "for all a, b ∈ F .\n",
        "\n",
        "3. There exists a special element of F called the **additive identity**, denoted by\n",
        "the symbol 0. This element has the property that a+0=a\n",
        "for all a ∈ F.\n",
        "\n",
        "4. For each element a ∈ F, there is an element −a ∈ F, called the additive inverse of a, with the property that\n",
        "a + (−a) = 0.\n",
        "\n",
        "5. The multiplication operation is associative. That is,\n",
        "a · (b · c) = (a · b) · c\n",
        "for all a,b,c ∈ F.\n",
        "\n",
        "6. The multiplication operation is commutative. That is,\n",
        "a·b=b·a\n",
        "for all a, b ∈ F .\n",
        "\n",
        "7. There exists a special element of F called the multiplicative identity, de-\n",
        "noted by the symbol 1. This element has the property that a·1=a\n",
        "for all a ∈ F.\n",
        "\n",
        "8. For each element a ∈ F other than 0, there exists an element a−1 ∈ F , called\n",
        "the multiplicative inverse of a, with the property that a·􏰁a−1􏰂 = 1.\n",
        "\n",
        "9. The multiplication operation distributes over the addition operation. That is, a·(b+c) = (a·b)+(a·c)\n",
        "for all a,b,c ∈ F."
      ]
    },
    {
      "cell_type": "markdown",
      "metadata": {
        "id": "nEtpzB4orSJ7",
        "colab_type": "text"
      },
      "source": [
        "* Note that **the axioms for a field are precisely the axioms for algebra on the real numbers. As a result, the real numbers R form a field under the usual operations of addition and multiplication**. However, the real numbers are not the only possible field. Indeed, you are already familiar with a few other examples:\n",
        "\n",
        "* The rational numbers Q form a field under the usual operations of addition and multiplication. In particular, we can add or multiply two elements of Q to obtain another element of Q, and these operations obey all of the axioms listed above.\n",
        "\n",
        "* The complex numbers C form a field under the commonly defined operations of addition and multiplication. Complex numbers do obey all of the listed axioms for a field, which is why elementary algebra works as usual for complex numbers."
      ]
    },
    {
      "cell_type": "markdown",
      "metadata": {
        "id": "5ufRVBhus4R1",
        "colab_type": "text"
      },
      "source": [
        "**Algebra over a field (Algebra über einem Körper)**"
      ]
    },
    {
      "cell_type": "markdown",
      "metadata": {
        "id": "EoJghiU4s7Kt",
        "colab_type": "text"
      },
      "source": [
        "https://en.m.wikipedia.org/wiki/Algebra_over_a_field"
      ]
    },
    {
      "cell_type": "markdown",
      "metadata": {
        "id": "DSDecWiLleDK",
        "colab_type": "text"
      },
      "source": [
        "![alternativer Text](https://upload.wikimedia.org/wikipedia/commons/thumb/7/7a/Übersicht_Körper.svg/993px-Übersicht_Körper.svg.png)\n"
      ]
    },
    {
      "cell_type": "markdown",
      "metadata": {
        "id": "GuDPqT3Eljix",
        "colab_type": "text"
      },
      "source": [
        "*Körper im Zusammenhang mit ausgewählten mathematischen Teilgebieten*"
      ]
    },
    {
      "cell_type": "markdown",
      "metadata": {
        "id": "JEtjLCOdmFUh",
        "colab_type": "text"
      },
      "source": [
        "ps: Octonions (Octave) sind [Alternativkörper](https://de.m.wikipedia.org/wiki/Alternativkörper) bei denen man auf das Kommutativgesetz und das Assoziativgesetz für die Multiplikation verzichtet."
      ]
    },
    {
      "cell_type": "markdown",
      "metadata": {
        "id": "QdV8mAKugO06",
        "colab_type": "text"
      },
      "source": [
        "#### **Strukturen mit innerer und äußerer Verknüpfung: Moduln, Vektorräume und ähnliche**"
      ]
    },
    {
      "cell_type": "markdown",
      "metadata": {
        "id": "Tk6qnMZUgGQw",
        "colab_type": "text"
      },
      "source": [
        "**Modul**"
      ]
    },
    {
      "cell_type": "markdown",
      "metadata": {
        "id": "HSRPnBpNgMT4",
        "colab_type": "text"
      },
      "source": [
        "* Ein Modul ist ein n-dimensionaler Ring.\n",
        "\n",
        "* Ein Modul ist eine algebraische Struktur, die eine Verallgemeinerung eines Vektorraums darstellt.\n",
        "\n",
        "* **A module is similar to a vector space, except that the scalars are only required to be elements of a ring.**\n",
        "\n",
        "* For example, the set Zn of n-dimensional vectors with integer entries forms a module, where “scalar multiplication” refers to multiplication by integer scalars."
      ]
    },
    {
      "cell_type": "markdown",
      "metadata": {
        "id": "t8NSS1C9gIni",
        "colab_type": "text"
      },
      "source": [
        "https://de.m.wikipedia.org/wiki/Modul_(Mathematik)"
      ]
    },
    {
      "cell_type": "markdown",
      "metadata": {
        "id": "Y-1lpMAgXzD9",
        "colab_type": "text"
      },
      "source": [
        "**Vektorraum**"
      ]
    },
    {
      "cell_type": "markdown",
      "metadata": {
        "id": "AHOR2paJnqE7",
        "colab_type": "text"
      },
      "source": [
        "* Ein Vektorraum ist ein n-dimensionaler Körper.\n",
        "\n",
        "* A vector space is an algebraic structure with operations of addition and multiplication by scalars. \n",
        "\n",
        "* The scalars are required to be elements of a field, such as the real numbers R. The basic example of a vector space is the set Rn of all vectors with n entries."
      ]
    },
    {
      "cell_type": "markdown",
      "metadata": {
        "id": "pOnSslb8gSWP",
        "colab_type": "text"
      },
      "source": [
        "https://de.m.wikipedia.org/wiki/Vektorraum"
      ]
    },
    {
      "cell_type": "markdown",
      "metadata": {
        "id": "f1za4JTVYpkR",
        "colab_type": "text"
      },
      "source": [
        "**Linear Algebra**"
      ]
    },
    {
      "cell_type": "markdown",
      "metadata": {
        "id": "YNTQDp0PYtjD",
        "colab_type": "text"
      },
      "source": [
        "https://en.m.wikipedia.org/wiki/Linear_algebra"
      ]
    },
    {
      "cell_type": "markdown",
      "metadata": {
        "id": "iBaF4uPUXeS-",
        "colab_type": "text"
      },
      "source": [
        "#### **Strukturen mit zwei inneren Verknüpfungen: Verbände, Mengenalgebren und ähnliche**"
      ]
    },
    {
      "cell_type": "markdown",
      "metadata": {
        "id": "enrSGr1-bNY9",
        "colab_type": "text"
      },
      "source": [
        "https://en.m.wikipedia.org/wiki/Lattice_(order)"
      ]
    },
    {
      "cell_type": "markdown",
      "metadata": {
        "id": "K0UpZzAKftF8",
        "colab_type": "text"
      },
      "source": [
        "**Verband (Lattice)**"
      ]
    },
    {
      "cell_type": "markdown",
      "metadata": {
        "id": "s2xBQMKOg1Ve",
        "colab_type": "text"
      },
      "source": [
        "* Ein Verband ist eine algebraische Struktur, deren zwei innere Verknüpfungen im allgemeinen Fall nicht als Addition und Multiplikation aufgefasst werden können"
      ]
    },
    {
      "cell_type": "markdown",
      "metadata": {
        "id": "gnn7w0CKfvko",
        "colab_type": "text"
      },
      "source": [
        "https://de.m.wikipedia.org/wiki/Verband_(Mathematik)"
      ]
    },
    {
      "cell_type": "markdown",
      "metadata": {
        "id": "h3EItm12hE7r",
        "colab_type": "text"
      },
      "source": [
        "**Boolsche Algebra**"
      ]
    },
    {
      "cell_type": "markdown",
      "metadata": {
        "id": "sOC7zkQkhHlR",
        "colab_type": "text"
      },
      "source": [
        "* Eine Boolesche Algebra ist ein Verband, in dem die beiden Verknüpfungen je ein neutrales Element haben, a ∪ 0 = a und a ∩ 1 = a, und in dem jedes Element ein bezüglich beider Verknüpfungen übereinstimmendes Komplement h"
      ]
    },
    {
      "cell_type": "markdown",
      "metadata": {
        "id": "k4Sp21V_hWFP",
        "colab_type": "text"
      },
      "source": [
        "https://de.m.wikipedia.org/wiki/Boolesche_Algebra"
      ]
    },
    {
      "cell_type": "markdown",
      "metadata": {
        "id": "QYMsn5TXf2Tz",
        "colab_type": "text"
      },
      "source": [
        "**Mengenalgebra (Field of Sets)**"
      ]
    },
    {
      "cell_type": "markdown",
      "metadata": {
        "id": "W6m2f_P1hdXY",
        "colab_type": "text"
      },
      "source": [
        "* **Mengenalgebra**: eine Boolesche Algebra, deren Elemente Mengen sind, nämlich Teilmengen einer Grundmenge X, mit den Mengenoperatoren ∪ und ∩ als Verknüpfungen, mit dem Nullelement ∅ und dem Einselement X.\n",
        "\n",
        "* **σ-Algebra**: eine bezüglich abzählbar-unendlicher Verknüpfungen abgeschlossene Mengenalgebra. **Messraum und Maßraum sind spezielle σ-Algebren.**\n",
        "\n",
        "* **Borel-Algebra** macht einen topologischen Raum zum Maßraum: sie ist die kleinste σ-Algebra, die eine gegebene Topologie enthält.\n",
        "\n",
        "* **Zweiwertige Boolesche Algebra**: hat nur die Elemente 0 und 1."
      ]
    },
    {
      "cell_type": "markdown",
      "metadata": {
        "id": "UtsldPtaf407",
        "colab_type": "text"
      },
      "source": [
        "https://de.m.wikipedia.org/wiki/Algebra_(Mengensystem)"
      ]
    },
    {
      "cell_type": "markdown",
      "metadata": {
        "id": "X9_tFvqUii2z",
        "colab_type": "text"
      },
      "source": [
        "#### **Zusätzliche algebraische Struktur auf Vektorräumen**"
      ]
    },
    {
      "cell_type": "markdown",
      "metadata": {
        "id": "Tr36ywoZin3h",
        "colab_type": "text"
      },
      "source": [
        "**K-Algebra**"
      ]
    },
    {
      "cell_type": "markdown",
      "metadata": {
        "id": "IgKqC3CHiqOz",
        "colab_type": "text"
      },
      "source": [
        "https://de.m.wikipedia.org/wiki/Algebra_über_einem_Körper"
      ]
    },
    {
      "cell_type": "markdown",
      "metadata": {
        "id": "WA7xSdDWirTD",
        "colab_type": "text"
      },
      "source": [
        "**Lie-Algebra**"
      ]
    },
    {
      "cell_type": "markdown",
      "metadata": {
        "id": "ldvhBQDfivPt",
        "colab_type": "text"
      },
      "source": [
        "https://de.m.wikipedia.org/wiki/Lie-Algebra"
      ]
    },
    {
      "cell_type": "markdown",
      "metadata": {
        "id": "WVtm5vfsixu1",
        "colab_type": "text"
      },
      "source": [
        "**Assoziative Algebra**"
      ]
    },
    {
      "cell_type": "markdown",
      "metadata": {
        "id": "KMKDZOUxi0FP",
        "colab_type": "text"
      },
      "source": [
        "https://de.m.wikipedia.org/wiki/Assoziative_Algebra"
      ]
    },
    {
      "cell_type": "markdown",
      "metadata": {
        "id": "IRd6gnIaP5Yv",
        "colab_type": "text"
      },
      "source": [
        "## **Homomorphismus**"
      ]
    },
    {
      "cell_type": "markdown",
      "metadata": {
        "id": "KfNpzL1nQMpp",
        "colab_type": "text"
      },
      "source": [
        "#### **Definition**"
      ]
    },
    {
      "cell_type": "markdown",
      "metadata": {
        "id": "Jq7dlrQquZLg",
        "colab_type": "text"
      },
      "source": [
        "* Als Homomorphismus (zusammengesetzt aus altgriechisch ὁμός homós ‚gleich‘ oder ‚ähnlich‘, und altgriechisch μορφή morphé ‚Form‘; nicht zu verwechseln mit Homöomorphismus) werden in der Mathematik Abbildungen (=Funktionen) bezeichnet, die eine (oft algebraische) mathematische Struktur erhalten bzw. damit verträglich sind. \n",
        "\n",
        "* Ein Homomorphismus bildet die Elemente aus der einen Menge so in die andere Menge ab, dass sich ihre Bilder dort hinsichtlich der Struktur ebenso verhalten, wie sich deren Urbilder in der Ausgangsmenge verhalten."
      ]
    },
    {
      "cell_type": "markdown",
      "metadata": {
        "id": "xb9UQxzdRS4C",
        "colab_type": "text"
      },
      "source": [
        "https://de.m.wikipedia.org/wiki/Homomorphismus"
      ]
    },
    {
      "cell_type": "markdown",
      "metadata": {
        "id": "ypY_hbb0QSPX",
        "colab_type": "text"
      },
      "source": [
        "#### **Gruppenhomomorphismus**"
      ]
    },
    {
      "cell_type": "markdown",
      "metadata": {
        "id": "quHXje_VQWHH",
        "colab_type": "text"
      },
      "source": [
        "#### **Körperhomomorphismus**"
      ]
    },
    {
      "cell_type": "markdown",
      "metadata": {
        "id": "IFXyqXaLQQQw",
        "colab_type": "text"
      },
      "source": [
        "#### **Ringhomomorphismus**"
      ]
    },
    {
      "cell_type": "markdown",
      "metadata": {
        "id": "6qCyNILtQke3",
        "colab_type": "text"
      },
      "source": [
        "#### **Algebrenhomomorphismus**"
      ]
    },
    {
      "cell_type": "markdown",
      "metadata": {
        "id": "k5pob0z5Qrk3",
        "colab_type": "text"
      },
      "source": [
        "#### **Vektorraumhomomorphismus (Lineare Abbildung)**"
      ]
    },
    {
      "cell_type": "markdown",
      "metadata": {
        "id": "QPpM4ns_Qgke",
        "colab_type": "text"
      },
      "source": [
        "#### **Modulhomomorphismus**"
      ]
    },
    {
      "cell_type": "markdown",
      "metadata": {
        "id": "s2PvBbtlRBfm",
        "colab_type": "text"
      },
      "source": [
        "#### **Lie-Algebren-Homomorphismus**"
      ]
    }
  ]
}