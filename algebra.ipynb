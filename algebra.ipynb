{
  "nbformat": 4,
  "nbformat_minor": 0,
  "metadata": {
    "colab": {
      "name": "algebra.ipynb",
      "provenance": [],
      "collapsed_sections": [
        "FshTeU-rnp51",
        "HmCOFgKfs2ev",
        "dr1iwDxKS8MN",
        "o5G2e0uRcUjy",
        "Jx_LmlIGnDSa",
        "seDVqWVKnH7e",
        "rxdQVgZuzc8x",
        "iWCeLOJUyQTQ",
        "e_c49RceyU0S",
        "XM99PIHSxVpO",
        "dAtrm3obyX59",
        "uNAk72BxycQE",
        "CmuHEBHk6VsG",
        "aShRhfg5GrPX",
        "17JkJZKtVD9m",
        "DYd95ZikPxG7",
        "I928UjHNKuZc",
        "QQSRFOXm2QgM",
        "37qnbx7d0X_q",
        "lk3AEOE_qVfO",
        "ZV0GhhALuWSO",
        "SgHgS037zK0x",
        "a0VNbaA6iomm",
        "sO3gFnsGoDHp",
        "Td_9fFZ4kvXi",
        "qF8T8Eiak11U",
        "tSc2sBCXjgUq",
        "-eYfKvd1kEkY",
        "OYLvRwHgT3FT",
        "en_F0jKMkORe",
        "3K0iKodmxtTl",
        "wRsJ0z5cM5b7",
        "6eBMRTBWR-CB",
        "AnG5dzQVa8jV",
        "E1E3vf4A6Y26",
        "UIPW4ZOnR07e",
        "IsgGqRO1OE2b",
        "1ynBhMdIlrwJ",
        "xAjW1DVyevEU",
        "ZDqJB-vtXMJ1",
        "foYtNNmXXHhZ",
        "y16M1N2JRcwm",
        "4_uA7fvHYWLx",
        "JQdx1fH0RXv9",
        "WXOnmjfLS8Sz",
        "JMNe3IO_x1RW",
        "Myg7JFuLRgsr",
        "QdV8mAKugO06",
        "Tk6qnMZUgGQw",
        "Y-1lpMAgXzD9",
        "qNmzS2tf1nqK",
        "f1za4JTVYpkR",
        "PKnoH_tc2luZ",
        "67gIZXbG5db3",
        "C2RMiNq8MzzY",
        "16P02MVt5VFP",
        "Zppo7qtzowMx",
        "be1delop5C-L",
        "sZzSya6rSLjr",
        "VX4hU1-JSQFH",
        "hryEPtLGk31L",
        "rJynYy2j0olt",
        "xA0pXc2eO8EQ",
        "vy1c3rSRLsnY",
        "iBaF4uPUXeS-",
        "K0UpZzAKftF8",
        "b0DTqfYINTxK"
      ],
      "include_colab_link": true
    },
    "kernelspec": {
      "name": "python3",
      "display_name": "Python 3"
    }
  },
  "cells": [
    {
      "cell_type": "markdown",
      "metadata": {
        "id": "view-in-github",
        "colab_type": "text"
      },
      "source": [
        "<a href=\"https://colab.research.google.com/github/deltorobarba/machinelearning/blob/master/algebra.ipynb\" target=\"_parent\"><img src=\"https://colab.research.google.com/assets/colab-badge.svg\" alt=\"Open In Colab\"/></a>"
      ]
    },
    {
      "cell_type": "markdown",
      "metadata": {
        "id": "2Aoj2PpxvDQV"
      },
      "source": [
        "# **Algebraic Structures (Abstract Algebra)**"
      ]
    },
    {
      "cell_type": "code",
      "metadata": {
        "id": "1U5_6xH7tAQq"
      },
      "source": [
        "import numpy as np\n",
        "import pandas as pd\n",
        "import seaborn as sns\n",
        "import matplotlib.pyplot as plt"
      ],
      "execution_count": null,
      "outputs": []
    },
    {
      "cell_type": "markdown",
      "metadata": {
        "id": "FshTeU-rnp51"
      },
      "source": [
        "## **Algebraic Operations**"
      ]
    },
    {
      "cell_type": "markdown",
      "metadata": {
        "id": "HmCOFgKfs2ev"
      },
      "source": [
        "#### **Introduction**"
      ]
    },
    {
      "cell_type": "markdown",
      "metadata": {
        "id": "7fxw9DSyjiah"
      },
      "source": [
        "* Algebra ist das Lösen von Gleichungen.\n",
        "\n",
        "* **Eine [Algebraische Struktur](https://de.m.wikipedia.org/wiki/Algebraische_Struktur) & [Outline_of_algebraic_structures](https://en.m.wikipedia.org/wiki/Outline_of_algebraic_structures) ist eine Menge versehen mit Verknüpfungen auf dieser Menge**. Eine Vielzahl der in der abstrakten Algebra untersuchten Strukturen wie Gruppen, Ringe oder Körper sind spezielle algebraische Strukturen.\n",
        "\n",
        "* Algebraische Strukturen sind eine Form von [mathematischen Strukturen](https://de.m.wikipedia.org/wiki/Mathematische_Struktur) (neben topologischen Strukturen, geometrischen Strukturen und Zahlbereichen). Abstract algebra is the study of algebraic structures.\n",
        "\n",
        "* **Such a structure consists of a set together with one or more binary operations, which are required to satisfy certain axioms.**\n",
        "\n",
        "* The structures listed below are only a sample of the many algebraic structures of importance in mathematics. Many fields of mathematics involve their own special algebraic structures, and new algebraic structures are defined all the time. To give you a sense of scale, the online encyclopedia Wikipedia currently has articles on over a hundred different algebraic structures, and this represents only a small fraction of those that have been investigated in the mathematical literature.\n",
        "\n",
        "* **[Verknüpfungen](https://de.m.wikipedia.org/wiki/Verknüpfung_(Mathematik))**: Neben den arithmetischen Grundrechenarten (Addition, Subtraktion usw.) werden damit etwa auch geometrische Operationen (wie Spiegelung, Drehung u. a.) sowie weitere Rechenoperationen bzw. gelegentlich auch logische Operatoren erfasst. \n",
        "  * **Verknüpfungen dienen in der Algebra dazu, algebraische Strukturen zu definieren**. Die Verknüpfungen müssen dabei bestimmte Bedingungen (Axiome) erfüllen. Bei partiellen Algebren sind auch partielle Verknüpfungen zugelassen.\n",
        "  * Zum Beispiel ist eine Halbgruppe eine Menge mit einer inneren zweistelligen Verknüpfung, die das Assoziativgesetz erfüllt. Die Forderung, dass das Ergebnis der Verknüpfung wieder Element der gegebenen Menge sein soll (Abgeschlossenheit), ist bereits in der Definition der inneren Verknüpfung enthalten."
      ]
    },
    {
      "cell_type": "markdown",
      "metadata": {
        "id": "FaR8n8233mDW"
      },
      "source": [
        "**Elementare Algebra**"
      ]
    },
    {
      "cell_type": "markdown",
      "metadata": {
        "id": "siEahbLc3qLv"
      },
      "source": [
        "https://de.wikipedia.org/wiki/Elementare_Algebra"
      ]
    },
    {
      "cell_type": "markdown",
      "metadata": {
        "id": "5uRG5yT43ob5"
      },
      "source": [
        "https://de.wikipedia.org/wiki/Binomische_Formeln"
      ]
    },
    {
      "cell_type": "markdown",
      "metadata": {
        "id": "dr1iwDxKS8MN"
      },
      "source": [
        "#### **Regeln**"
      ]
    },
    {
      "cell_type": "markdown",
      "metadata": {
        "id": "H-pYZbqoo-Rz"
      },
      "source": [
        "**[Abgeschlossenheit](https://de.m.wikipedia.org/wiki/Abgeschlossenheit_(algebraische_Struktur))**\n",
        "\n",
        "* Closure laws: a + b and ab are unique elements in the field.\n",
        "\n",
        "* Manchmal findet man noch die Forderung der „Abgeschlossenheit“, dass \n",
        "x\n",
        "∗\n",
        "y\n",
        "wieder in \n",
        "G liegen soll, aber aus der Sicht eines Algebraikers beinhaltet der Begriff der „zweistelligen Verknüpfung“ diese Eigenschaft bereits."
      ]
    },
    {
      "cell_type": "markdown",
      "metadata": {
        "id": "aMr2jhDX0t-E"
      },
      "source": [
        "Manchmal findet man noch die Forderung der „Abgeschlossenheit“, dass x ∗ y wieder in G liegen soll, aber aus der Sicht eines Algebraikers beinhaltet der Begriff der „zweistelligen Verknüpfung“ diese Eigenschaft bereits."
      ]
    },
    {
      "cell_type": "markdown",
      "metadata": {
        "id": "Nc3n_XE6Dybo"
      },
      "source": [
        "*Nur Abgeschlossenheit gilt für Magma (Groupoid)*"
      ]
    },
    {
      "cell_type": "markdown",
      "metadata": {
        "id": "K64WJEKxT5Jb"
      },
      "source": [
        "**[Assoziativität](https://de.m.wikipedia.org/wiki/Assoziativgesetz)**\n",
        "\n",
        "* **Addition**. When three or more numbers are added, the sum is the same regardless of the way in which the numbers are grouped. (a + b) + c = a + (b + c)\n",
        "\n",
        "* **Multiplication**. When three or more numbers are multiplied, the product is the same regardless of the way in which the numbers are grouped. (a * b) * c = a * (b * c)"
      ]
    },
    {
      "cell_type": "markdown",
      "metadata": {
        "id": "yhsEqAv2WCyf"
      },
      "source": [
        "See also [**Associative_property**](https://en.wikipedia.org/wiki/Associative_property) and [**Non associative algebra** (or distributive algebra)](https://en.wikipedia.org/wiki/Non-associative_algebra). For example: \"Because matrices represent linear functions, and matrix multiplication represents function composition, one can immediately conclude that matrix multiplication is associative.\"\n",
        "\n",
        "* A non-associative algebra (or distributive algebra) is an algebra over a field where the binary multiplication operation is not assumed to be associative. That is, an algebraic structure A is a non-associative algebra over a field K if it is a vector space over K and is equipped with a K-bilinear binary multiplication operation A × A → A which may or may not be associative. \n",
        "\n",
        "* Examples include Lie algebras, Jordan algebras, the octonions, and three-dimensional Euclidean space equipped with the cross product operation. "
      ]
    },
    {
      "cell_type": "markdown",
      "metadata": {
        "id": "WyIE7Cjqs9SE"
      },
      "source": [
        "*Abgeschlossenheit und Assoziativität gilt für Halbgruppen*"
      ]
    },
    {
      "cell_type": "markdown",
      "metadata": {
        "id": "FIBq7GtBir5R"
      },
      "source": [
        "**[Identity Property](https://en.m.wikipedia.org/wiki/Identity_element) (Neutrales Element)**\n",
        "\n",
        "* **Additive identity**. The sum of any number and zero is that number. 12 + 0 = 12\n",
        "\n",
        "* **Multiplicatice identity**, The product of any number and one is that number. 18 x 1 = 18"
      ]
    },
    {
      "cell_type": "markdown",
      "metadata": {
        "id": "I7zmBMZLtT9F"
      },
      "source": [
        "*Zusätzlich Identity gilt für Monoid (Teiltyp Gruppe)*"
      ]
    },
    {
      "cell_type": "markdown",
      "metadata": {
        "id": "C04LXzIEpeGY"
      },
      "source": [
        "**[Inverse Elemente](https://de.m.wikipedia.org/wiki/Inverses_Element)**\n",
        "\n",
        "* **In Algebra you don't talk about substraction and division. It is additive inverse & multiplicative inverse!** This is important for fields (Korper)!\n",
        "\n",
        "* For each element a $\\in \\mathrm{G}$, there exists an element $\\mathrm{a}^{-1} \\in \\mathrm{G}$ such that $\\mathrm{a} \\cdot \\mathrm{a}^{-1}=\\mathrm{a}^{-1} \\cdot \\mathrm{a}=\\mathrm{e}$. (The element $\\mathrm{a}^{-1}$ is called the inverse of a.)\n",
        "\n",
        "* Wenn man ein beliebiges Element der Menge und sein Inverses mit der Rechenoperation verknüpft, erhält man immer das sogenannte neutrale Element $\\mathrm{e}$ als Ergebnis.\n",
        "\n",
        "* **Addition**: a+(-a) = a-a = 0 zB: 7 + (-7) = 0\n",
        "\n",
        "* **Multiplication**: Two elements of a set, A and A inverse, multiplied together to produce the identity element. Zahl a multipliziert mit seinem Kehrwert (1/a oder a<sup>-1</sup>) = 1"
      ]
    },
    {
      "cell_type": "markdown",
      "metadata": {
        "id": "vZnKN7JhvPn7"
      },
      "source": [
        "*Zusätzlich Inverse gilt für Gruppe*"
      ]
    },
    {
      "cell_type": "markdown",
      "metadata": {
        "id": "Ll09kLWiUUb-"
      },
      "source": [
        "**[Kommutativität](https://de.m.wikipedia.org/wiki/Kommutativgesetz)**\n",
        "\n",
        "* **Addition**. When two numbers are added, the sum is the same regardless of the order in which the numbers are added. a + b = b + a\n",
        "\n",
        "* **Multiplication**. When two numbers are multiplied together, the product is the same regardless of the order in which the numbers are multiplied. a * b = b * a"
      ]
    },
    {
      "cell_type": "markdown",
      "metadata": {
        "id": "exscwR8mtdxL"
      },
      "source": [
        "*Zusätzlich Kommutativität gilt für Abelian Group*"
      ]
    },
    {
      "cell_type": "markdown",
      "metadata": {
        "id": "xNPouI8c84_b"
      },
      "source": [
        "For more details on sub-types of groups, see Group-like structures: https://en.m.wikipedia.org/wiki/Category_(mathematics)"
      ]
    },
    {
      "cell_type": "markdown",
      "metadata": {
        "id": "NKq9om0BTe_4"
      },
      "source": [
        "**[Distributivgesetz](https://de.m.wikipedia.org/wiki/Distributivgesetz)**\n",
        "\n",
        "* The sum of two numbers times a third number is equal to the sum of each addend times the third number (Gilt für körper (fields), aber nicht gruppen oder ringe!). a * b + a * c = a * (b + c)"
      ]
    },
    {
      "cell_type": "markdown",
      "metadata": {
        "id": "tNBArCWBuSJo"
      },
      "source": [
        "*Gilt zusätzlich Distributivgesetz gilt für Ring (da man hier zwei Operationen benötigt)*"
      ]
    },
    {
      "cell_type": "markdown",
      "metadata": {
        "id": "SORuxSxYHKDC"
      },
      "source": [
        "**Zusammenfassung**"
      ]
    },
    {
      "cell_type": "markdown",
      "metadata": {
        "id": "KoVfPVtLVGzQ"
      },
      "source": [
        "$+$ $\\quad$ $-$ $\\quad$ is a Group\n",
        "\n",
        "$+$ $\\quad$ $-$ $\\quad$ $\\cdot$ $\\quad$ is a Ring\n",
        "\n",
        "$+$ $\\quad$ $-$ $\\quad$ $\\cdot$ $\\quad$ $÷$ $\\quad$ is a Field\n",
        "\n"
      ]
    },
    {
      "cell_type": "markdown",
      "metadata": {
        "id": "4XKF004At1qB"
      },
      "source": [
        "**The elements of a field (Körper) obey the following laws:**\n",
        "\n",
        "1. **Closure laws**: a + b and ab are unique elements in the field.\n",
        "\n",
        "2. **Commutative laws**: a + b = b + a and ab = ba.\n",
        "\n",
        "3. **Associative laws**: a + (b + c) = (a + b) + c and a(bc) = (ab)c.\n",
        "\n",
        "4. **Identity laws**: there exist elements 0 and 1 such that a + 0 = a and a × 1 = a.\n",
        "\n",
        "5. **Inverse laws**: for every a there exists an element - a such that a + (-a) = 0, and for every a ≠ 0 there exists an element a-1 such that a × a-1 = 1.\n",
        "\n",
        "6. **Distributive law**: a(b + c) = ab + ac.\n",
        "\n",
        "\n",
        "Read more: Field - Set, Laws, Elements, and Operations - JRank Articles https://science.jrank.org/pages/2709/Field.html#ixzz6UdPamPNB"
      ]
    },
    {
      "cell_type": "markdown",
      "metadata": {
        "id": "AZCpPDJAe3AK"
      },
      "source": [
        "* **Summary**: Aus einer Menge der Zahlen (N, Z, Q, R, C, H) eine algebraische Struktur basteln. Man kann mit der Gruppe anfangen (als einfachste algebraische Struktur), um erstmal einfach zu verknüpfen. Dann schickt man noch eine Verknüpfung rein und bastelt sich so einen Ring. Kommt dann zum Körper und kann spätestens bei den Körpern über komplexen Zahlen sämtliche Gleichungen lösen.\n",
        "\n",
        "* **Gruppe** zB schickt man die Menge natürliche Zahlen N in eine zweistellige Verknüpfung. Wobei abgestuft werden kann wie viele Axiome gelten, von Magma, über Halbgruppe (nur Assoziativität), Monoid (inkl. neutrales Element), Gruppe (inkl Inverse) und Abelsche Gruppe (inkl Kommutativität).\n",
        "\n",
        "* **Ringe** erlauben **zwei** zweistellige Verknüpfungen, üblicherweise der **ganzen Zahlen Z**, was aber kein Divisionsring ist / keine multiplikative Inverse für alle Elemente (gibt Probleme bei der Lösung mancher Gleichungen): Addition: (R, +) ist eine abelsche Gruppe, aber die Multiplikation: (R, ∙) ist eine Halbgruppe. **Kommutativität in der Multiplikation gilt dann erst bei Körpern!**\n",
        "\n",
        "* Divisionsring = Schiefkörper (hat alle Körpereigenschaften, aber die Multiplikation ist nicht notwendigerweise kommutativ). Anwendung bei Quaternions H.\n",
        "\n",
        "* **Körper** über rationale Zahlen Q, über reelle Zahlen R und über komplexe Zahlen C. Damit kann man praktisch alle Gleichungen lösen. Bei Körpern gilt die Kommutativität in der Multiplikation.\n",
        "\n",
        "* Für Operationen im mehrdimensionalen Raum erweitert man noch auf **Module** (für Ringe, zB ganze Zahlen Z<sup>n</sup>) und **Vektorräume** (für Körper, zB reelle Zahlen R<sup>n</sup>). Deshalb sagt man auch zB Vektorraum über einen Körper der reellen Zahlen. **Ein Modul ist ein n-dimensionaler Ring, und ein Vektorraum ist ein n-dimensionaler Körper.**"
      ]
    },
    {
      "cell_type": "markdown",
      "metadata": {
        "id": "DSDecWiLleDK"
      },
      "source": [
        "![alternativer Text](https://upload.wikimedia.org/wikipedia/commons/thumb/7/7a/Übersicht_Körper.svg/993px-Übersicht_Körper.svg.png)\n"
      ]
    },
    {
      "cell_type": "markdown",
      "metadata": {
        "id": "CoIy64C2tO4P"
      },
      "source": [
        "https://en.m.wikipedia.org/wiki/Vector_space"
      ]
    },
    {
      "cell_type": "markdown",
      "metadata": {
        "id": "C9dRal7LstQ8"
      },
      "source": [
        "https://en.m.wikipedia.org/wiki/Outline_of_algebraic_structures"
      ]
    },
    {
      "cell_type": "markdown",
      "metadata": {
        "id": "zbm3qTNcMybQ"
      },
      "source": [
        "<img src=\"https://raw.githubusercontent.com/deltorobarba/repo/master/algebragroups.jpg\" alt=\"algreba\">"
      ]
    },
    {
      "cell_type": "markdown",
      "metadata": {
        "id": "0n2NN_KyNEQb"
      },
      "source": [
        "https://youtu.be/Cq2m-MgczWU"
      ]
    },
    {
      "cell_type": "markdown",
      "metadata": {
        "id": "o5G2e0uRcUjy"
      },
      "source": [
        "## **Gruppen**"
      ]
    },
    {
      "cell_type": "markdown",
      "metadata": {
        "id": "Jx_LmlIGnDSa"
      },
      "source": [
        "#### **Eigenschaften**"
      ]
    },
    {
      "cell_type": "markdown",
      "metadata": {
        "id": "tgvvUdIJw3cu"
      },
      "source": [
        "A group is a set $G$ with an operation $*$ such that\n",
        "\n",
        "* **Closure**: If $x$ and $y$ are in $G$ then $x * y$ is in $\\mathrm{G}$\n",
        "  * until here it is a **Magma (Groupoid)**\n",
        "\n",
        "* **Associativity**: For all $x, y, z$ in $G$ $\\text { we have }(x * y) * z=x *(y * z)$\n",
        "  * until here it is a **Halbgruppe**\n",
        "\n",
        "* **Identity Element**: There is an element $e$ in $G$ such that $e * x=x * e=x$ for all $x$ in $G$\n",
        "  * until here it is a **Monoid**\n",
        "\n",
        "* **Inverse Elements**: For each element $x$ in $G,$ there is an element $x^{-1}$ such that $x * x^{-1}=x^{-1} * x=e$\n",
        "  * until here it is a **Group**\n",
        "\n",
        "* **Kommutative**: Für alle $a, b \\in G$ gilt: $a * b=b * a$\n",
        "  * until here it is an **Abel'sche Gruppe**"
      ]
    },
    {
      "cell_type": "markdown",
      "metadata": {
        "id": "7lu4pUUZUbRY"
      },
      "source": [
        "![xxx](https://upload.wikimedia.org/wikipedia/commons/thumb/2/20/Algebraische_Strukturen.svg/498px-Algebraische_Strukturen.svg.png)"
      ]
    },
    {
      "cell_type": "markdown",
      "metadata": {
        "id": "tvj5Lv5mbE0m"
      },
      "source": [
        "https://de.m.wikipedia.org/wiki/Gruppentheorie"
      ]
    },
    {
      "cell_type": "markdown",
      "metadata": {
        "id": "msM-kHmmBHXP"
      },
      "source": [
        "https://de.m.wikipedia.org/wiki/Gruppe_(Mathematik)"
      ]
    },
    {
      "cell_type": "markdown",
      "metadata": {
        "id": "0ZX6NbAykTKz"
      },
      "source": [
        "* Die fundamentalen algebraischen Strukturen besitzen eine oder zwei [zweistellige innere Verknüpfungen](https://de.m.wikipedia.org/wiki/Zweistellige_Verknüpfung). \n",
        "\n",
        "* Gruppen sind algebraische Strukturen mit einer inneren Verknüpfung\n",
        "\n",
        "* **A group is an algebraic structure with a single operation**. \n",
        "\n",
        "* Groups are closely associated with the idea of symmetry, and most groups that arise in mathematics are groups of symmetry transformations, with the operation being composition of functions.\n",
        "\n",
        "* **Groups are a particularly simple algebraic structure**, having only one operation and three axioms. Most algebraic structures have more than one operation, and are required to satisfy a long list of axioms."
      ]
    },
    {
      "cell_type": "markdown",
      "metadata": {
        "id": "O2YHCqA2omDH"
      },
      "source": [
        "A group is a set G together with a binary operation ∗ on G, satisfying the following axioms:\n",
        "\n",
        "1. **Abgeschlossenheit** (für **Magma**, ohne assoziativität, inverse, identity oder kommutativ)\n",
        "\n",
        "2. **Assoziativität**: The operation ∗ is associative. That is,\n",
        "a ∗ (b ∗ c) = (a ∗ b) ∗ c\n",
        "for all a,b,c ∈ G. (für **Halbgruppen**, ohne identity, inverse oder kommutativ)\n",
        "\n",
        "3. **Identity Element**: There exists an element e ∈ G with the property that\n",
        "a∗e=e∗a=a\n",
        "for all a ∈ G. (This element e is called the identity element of G.) für **Monoid** (ein Monoid ist eine Halbgruppe, die ein neutrales Element besitzt)\n",
        "\n",
        "4. **Inverse**: For each element a ∈ G, there exists an element a<sup>-1</sup> ∈ G such that a∗􏰁a<sup>-1</sup>􏰂 = 􏰁a<sup>-1</sup>􏰂∗a = e.\n",
        "(The element a<sup>-1</sup> is called the inverse of a.) für **Gruppe** (Eine Gruppe ist also ein Monoid, in dem jedes Element ein Inverses hat.)\n",
        "\n",
        "5. **Kommutativität**: für **Abelsche Gruppen**"
      ]
    },
    {
      "cell_type": "markdown",
      "metadata": {
        "id": "vTQu1Un1DJ4Z"
      },
      "source": [
        "**Von der Magma zur Abel'schen Gruppe**: Die Grundmenge ist unter einer inneren Verknüpfung per Definition abgeschlossen. Ansonsten muss ein Magma keine speziellen Eigenschaften haben. Durch Hinzunahme weiterer Bedingungen werden speziellere Strukturen definiert, die alle wiederum Magmen sind. Typische Beispiele sind:\n",
        "\n",
        "* Halbgruppe: ein Magma, dessen Verknüpfung assoziativ ist\n",
        "\n",
        "* Monoid: eine Halbgruppe mit einem neutralen Element\n",
        "\n",
        "* Quasigruppe: ein Magma, in dem alle Gleichungen der Form \n",
        "a\n",
        "x\n",
        "=\n",
        "b\n",
        "ax=b oder \n",
        "x\n",
        "a\n",
        "=\n",
        "b\n",
        "xa=b eindeutig nach \n",
        "x\n",
        "x auflösbar sind\n",
        "\n",
        "* Loop: eine Quasigruppe mit einem neutralen Element\n",
        "\n",
        "* Gruppe: ein Monoid, in dem jedes Element ein Inverses hat\n",
        "\n",
        "* Abelsche Gruppe: eine Gruppe, deren Verknüpfung kommutativ ist\n",
        "\n",
        "* Mediales Magma: ein Magma, in dem für alle Elemente die Gleichung \n",
        "(\n",
        "a\n",
        "⋆\n",
        "b\n",
        ")\n",
        "⋆\n",
        "(\n",
        "c\n",
        "⋆\n",
        "d\n",
        ")\n",
        "=\n",
        "(\n",
        "a\n",
        "⋆\n",
        "c\n",
        ")\n",
        "⋆\n",
        "(\n",
        "b\n",
        "⋆\n",
        "d\n",
        ")\n",
        "(a\\star b)\\star (c\\star d)=(a\\star c)\\star (b\\star d) gilt"
      ]
    },
    {
      "cell_type": "markdown",
      "metadata": {
        "id": "LNZni9ejYFxi"
      },
      "source": [
        "**Group Theory is all about Symmetrie, here better called Isomorphism!**"
      ]
    },
    {
      "cell_type": "markdown",
      "metadata": {
        "id": "JtUjF3lB9piz"
      },
      "source": [
        "https://en.wikipedia.org/wiki/Symmetry_in_quantum_mechanics"
      ]
    },
    {
      "cell_type": "markdown",
      "metadata": {
        "id": "ErLofdFZsi_0"
      },
      "source": [
        "Eulerformel und Gruppentheorie: https://youtu.be/mvmuCPvRoWQ"
      ]
    },
    {
      "cell_type": "markdown",
      "metadata": {
        "id": "dgggOqZNZHV7"
      },
      "source": [
        "**Applications of Group Theory**\n",
        "\n",
        "* Solutions to polynomial equations, like find 2 roots of a quadratic equation. there is also q cubic formula and a quartic for degree 4 polynomial. Find formula to solve degree 5 polynomial - group theory showed it doesnt exist. Has to do with permutation group S5.\n",
        "\n",
        "* Connection to Physics - Noether's theorem: Conservation law - symmetry. Momentum - translation in space. Energy - translation in time."
      ]
    },
    {
      "cell_type": "markdown",
      "metadata": {
        "id": "FT1pOUsswAjL"
      },
      "source": [
        "https://www.youtube.com/watch?v=mH0oCDa74tE"
      ]
    },
    {
      "cell_type": "markdown",
      "metadata": {
        "id": "UKjgP3r6bPHf"
      },
      "source": [
        "https://en.wikipedia.org/wiki/Monstrous_moonshine"
      ]
    },
    {
      "cell_type": "markdown",
      "metadata": {
        "id": "mqh25folEqEt"
      },
      "source": [
        "https://de.m.wikipedia.org/wiki/Geometrische_Gruppentheorie"
      ]
    },
    {
      "cell_type": "markdown",
      "metadata": {
        "id": "PoTJ9xlygSTZ"
      },
      "source": [
        "**Geometrische Gruppentheorie**"
      ]
    },
    {
      "cell_type": "markdown",
      "metadata": {
        "id": "SyN_82kigV5d"
      },
      "source": [
        "Die [geometrische Gruppentheorie](https://de.wikipedia.org/wiki/Geometrische_Gruppentheorie) ist derjenige Teil der Gruppentheorie, der besonderes Augenmerk auf das Zusammenspiel zwischen geometrischen Objekten und den auf ihnen operierenden Gruppen legt. Dabei geht es insbesondere um Gruppenoperationen auf Graphen und metrischen Räumen, letztlich werden die Gruppen selbst zu solchen geometrischen Objekten."
      ]
    },
    {
      "cell_type": "markdown",
      "metadata": {
        "id": "gEPwd88xg9da"
      },
      "source": [
        "* Ist $\\mathcal{C}$ eine Kategorie und ist $X$ ein Objekt dieser Kategorie, so ist die Menge $\\operatorname{Aut}_{\\mathcal{C}}(X)$ der Automorphismen $X \\rightarrow X$ eine Gruppe. Jeder Homomorphismus $G \\rightarrow \\operatorname{Aut}_{C}(X)$ einer Gruppe $G$ in diese Automorphismengruppe heißt dann eine Darstellung oder Operation von $G$ auf $X$. Ist zum Beispiel $\\mathcal{C}$ die Kategorie der Vektorräume mit den linearen Abbildungen, so erhält man die klassische Darstellungstheorie von Gruppen, in der man nach Wahl einer Vektorraumbasis jedes Gruppenelement auf eine reguläre Matrix abbildet. \n",
        "\n",
        "* Ist $\\mathcal{C}$ die Kategorie aller Mengen, so ist $\\operatorname{Aut}_{\\mathcal{C}}(X)$ nichts anderes als die Gruppe aller Permutationen auf der Menge $X$. Diese beiden Betrachtungsweisen, **Matrizengruppen und Permutationsgruppen, lagen am Beginn der Gruppentheorie**.\n",
        "\n",
        "\n",
        "* In der geometrischen Gruppentheorie verwendet man stattdessen Kategorien, deren Objekte einen eher geometrischen Charakter haben, nämlich Graphen und metrische Räume mit geeigneten Morphismen. Die Automorphismengruppen werden schon seit langer Zeit zur Untersuchung der Symmetrieeigenschaften der Objekte herangezogen. Umgekehrt können aber Gruppeneigenschaften durch ihre Operationen auf Objekten studiert werden und Gruppen selbst können zu geometrischen Objekten gemacht werden, sodass für diese Gruppen geometrische Begriffsbildungen sinnvoll werden."
      ]
    },
    {
      "cell_type": "markdown",
      "metadata": {
        "id": "HCZVrEOjxRMs"
      },
      "source": [
        "**Gruppenoperation**"
      ]
    },
    {
      "cell_type": "markdown",
      "metadata": {
        "id": "jfwusm1GxUEM"
      },
      "source": [
        "https://de.wikipedia.org/wiki/Gruppenoperation"
      ]
    },
    {
      "cell_type": "markdown",
      "metadata": {
        "id": "vPzgxxq-w6fH"
      },
      "source": [
        "**Topologische Gruppe**"
      ]
    },
    {
      "cell_type": "markdown",
      "metadata": {
        "id": "IwISugMJw9SX"
      },
      "source": [
        "https://de.wikipedia.org/wiki/Topologische_Gruppe"
      ]
    },
    {
      "cell_type": "markdown",
      "metadata": {
        "id": "W9iXAo7d6DQN"
      },
      "source": [
        "**Verknüpfungstafel**"
      ]
    },
    {
      "cell_type": "markdown",
      "metadata": {
        "id": "loTPhWs46GDT"
      },
      "source": [
        "https://de.wikipedia.org/wiki/Verknüpfungstafel"
      ]
    },
    {
      "cell_type": "markdown",
      "metadata": {
        "id": "RfjsHi4B23Jf"
      },
      "source": [
        "**Konjugation (Gruppentheorie)**"
      ]
    },
    {
      "cell_type": "markdown",
      "metadata": {
        "id": "XyIfC2_P25F6"
      },
      "source": [
        "https://de.m.wikipedia.org/wiki/Konjugation_(Gruppentheorie)"
      ]
    },
    {
      "cell_type": "markdown",
      "metadata": {
        "id": "PKhkd7JgWQ2L"
      },
      "source": [
        "**Präsentation einer Gruppe (Kombinatorische & Algorithmische Gruppentheorie)**"
      ]
    },
    {
      "cell_type": "markdown",
      "metadata": {
        "id": "4OTRXkf2WfKw"
      },
      "source": [
        "* Die Präsentation (oder Präsentierung) einer Gruppe gegeben durch eine Menge von Elementen, die die Gruppe erzeugen, und eine Menge von Relationen, die zwischen diesen Erzeugern bestehen. \n",
        "\n",
        "* Zum Beispiel wird die zyklische Gruppe der Ordnung $n$ erzeugt von einem Element $g$ mit der Relation $g^{n}=1$. Eine solche Präsentation nennt man daher auch Darstellung durch Erzeuger und Relationen. \n",
        "\n",
        "* Jede Gruppe lässt sich auf diese Weise präsentieren, und somit sind Präsentationen ein universelles Werkzeug, um Gruppen zu konstruieren und zu untersuchen. Viele unendliche Gruppen erlauben eine endliche Präsentation und damit eine effiziente Beschreibung. \n",
        "\n",
        "* Die **kombinatorische Gruppentheorie** untersucht Gruppen mit Hilfe ihrer Präsentationen und stellt hierzu umfangreiche Techniken zur Verfügung.\n"
      ]
    },
    {
      "cell_type": "markdown",
      "metadata": {
        "id": "JuaIYm4VZLHG"
      },
      "source": [
        "Wenn man sich beliebige Erzeuger $S$ und Relationen $R$ vorgibt, dann ist zunächst nicht klar, ob und wie dadurch eine Gruppe definiert werden kann. Die folgende Konstruktion löst dieses Problem, indem sie die dargestellte Gruppe $\\langle S \\mid R\\rangle$ als Quotienten einer freien Gruppe definiert:\n",
        "\n",
        "* Gegeben sei eine Menge $S$, deren Elemente wir im Folgenden als Erzeuger verwenden wollen.\n",
        "\n",
        "* Es sei $F=F(S)$ die freie Gruppe über $S$. Diese besteht aus allen reduzierten Wörtern $s_{1}^{e_{1}} s_{2}^{e_{2}} \\cdots s_{n}^{e_{n}}$ mit Faktoren $s_{1}, s_{2}, \\ldots, s_{n} \\in S$, wobei $s_{i} \\neq s_{i+1}$ für alle $i$, und Exponenten $e_{1}, e_{2}, \\ldots, e_{n} \\in \\mathbb{Z}$, wobei $e_{i} \\neq 0$ für alle $i$. \n",
        "\n",
        "* Ferner sei $R \\subset F$ eine Menge von solchen Wörtern über $S$. Wir bezeichnen mit $R^{F}$ die Menge aller konjugierten Elemente $r^{x}$ wobei $r \\in R$ und $x \\in F$. \n",
        "\n",
        "* Es sei $K=\\left\\langle R^{F}\\right\\rangle$ die von der Menge $R^{F}$ erzeugte Untergruppe von $F$. Man nennt $K$ die Menge aller Konsequenzen der Relationen $R$. \n",
        "\n",
        "* Sie lässt sich auch beschreiben als der von $R$ erzeugte Normalteiler, und dafür ist die Bezeichnung $K=\\langle\\langle R\\rangle\\rangle$ gebräuchlich.\n",
        "\n",
        "* Nach Konstruktion ist $K$ ein Normalteiler der freien Gruppe $F$. Wir\n",
        "erhalten demnach als Quotient eine Gruppe\n",
        "\n",
        ">$\n",
        "\\langle S \\mid R\\rangle:=F / K\n",
        "$\n",
        "\n",
        "* und nennen diese die Gruppe mit Erzeugern $S$ und Relationen $R$. Genauer nennt man das Paar $(S, R)$ die Präsentation, und $\\langle S \\mid R\\rangle$ die durch $(S, R)$ präsentierte Gruppe."
      ]
    },
    {
      "cell_type": "markdown",
      "metadata": {
        "id": "b0CqiI8TdcmR"
      },
      "source": [
        "**Beispiele**:\n",
        "\n",
        "* Ist $(G, \\cdot)$ eine [endliche Gruppe](https://de.m.wikipedia.org/wiki/Endliche_Gruppe) der Ordnung $n$, so können wir ihre [Verknüpfungstafel](https://de.m.wikipedia.org/wiki/Verknüpfungstafel) als eine Präsentation durch $n$ Erzeuger und $n^{2}$ Relationen interpretieren.  Die Erzeuger sind hierbei die Elemente $a, b, c, \\ldots$ der gegebenen Gruppe $G$, und jedes Produkt $a \\cdot b=c$ definiert eine Relation $a b c^{-1}$ in der freien Gruppe über $G$. Im Allgemeinen erlaubt $G$ jedoch auch viel kürzere Präsentationen.\n"
      ]
    },
    {
      "cell_type": "markdown",
      "metadata": {
        "id": "rXehuczXYScM"
      },
      "source": [
        "1911 formulierte Max Dehn **drei fundamentale algorithmische Probleme** in der (kombinatorischen) Gruppentheorie:\n",
        "\n",
        "* **Wortproblem**: Ist ein gegebenes Gruppenelement (als Wort in Erzeugern) das Einselement in der Gruppe?\n",
        "\n",
        "* **Konjugationsproblem**: Sind zwei Elemente konjugiert?\n",
        "\n",
        "* **Isomorphieproblem**: Definieren zwei gegebene Darstellungen isomorphe Gruppen?\n",
        "\n",
        "Im Allgemeinen sind alle diese Fragen unentscheidbar, also kann man positive Antworten nur in Spezialfällen erhalten. Die weitreichensten Ergebnisse liegen für das Wortproblem vor. Hier gibt es eine große Klasse von Gruppen, die in der Praxis auftreten und für die man sehr gute Algorithmen kennt."
      ]
    },
    {
      "cell_type": "markdown",
      "metadata": {
        "id": "prFn7mNokjHX"
      },
      "source": [
        "https://de.m.wikipedia.org/wiki/Präsentation_einer_Gruppe"
      ]
    },
    {
      "cell_type": "markdown",
      "metadata": {
        "id": "seDVqWVKnH7e"
      },
      "source": [
        "#### **Abstrakte Gruppen (Strukturen)**"
      ]
    },
    {
      "cell_type": "markdown",
      "metadata": {
        "id": "rxdQVgZuzc8x"
      },
      "source": [
        "##### **Gruppoid (Magma)**"
      ]
    },
    {
      "cell_type": "markdown",
      "metadata": {
        "id": "mUhMOWLAziQF"
      },
      "source": [
        "* ein Magma (neutrum, Mehrzahl Magmen) ist eine algebraische Struktur, bestehend aus einer Menge zusammen mit einer zweistelligen inneren Verknüpfung. \n",
        "\n",
        "* Es wird auch Gruppoid,manchmal Binar oder Operativ genannt.\n",
        "\n",
        "* Ist die Verknüpfung kommutativ, so heißt das Magma kommutativ oder abelsch; ist sie assoziativ, so heißt das Magma assoziativ oder Halbgruppe."
      ]
    },
    {
      "cell_type": "markdown",
      "metadata": {
        "id": "6hMH-SILCoVM"
      },
      "source": [
        "Die folgenden **Beispiele** sind Magmen, die keine Halbgruppen sind:\n",
        "\n",
        "* $(\\mathbb{Z},-):$ die ganzen Zahlen mit der Subtraktion\n",
        "\n",
        "* (R $\\backslash\\{0\\}, /)$ : die reellen Zahlen ungleich 0 mit der Division\n",
        "\n",
        "* Die natürlichen Zahlen mit der Exponentiation, also mit der Verknüpfung $a * b=a^{b}$\n",
        "\n",
        "* Die reellen Zahlen mit der Bildung des arithmetischen Mittels als Verknüpfung"
      ]
    },
    {
      "cell_type": "markdown",
      "metadata": {
        "id": "L3IgdRQpzrLT"
      },
      "source": [
        "https://de.m.wikipedia.org/wiki/Magma_(Mathematik)"
      ]
    },
    {
      "cell_type": "markdown",
      "metadata": {
        "id": "5911qy-T8r-t"
      },
      "source": [
        "Gruppoid (Kategorientheorie)"
      ]
    },
    {
      "cell_type": "markdown",
      "metadata": {
        "id": "QsWwWs1jEg6F"
      },
      "source": [
        "**Achtung:** Siehe Gruppoid in der Kategorientheorie: https://de.m.wikipedia.org/wiki/Gruppoid_(Kategorientheorie)"
      ]
    },
    {
      "cell_type": "markdown",
      "metadata": {
        "id": "Ab7LNFPL8hJ1"
      },
      "source": [
        "* Die drei Verträglichkeitsbedingungen gleichen den Gruppenaxiomen. Das ist kein Zufall. \n",
        "\n",
        "* **Ein Gruppoid mit genau einem Objekt ist nichts anderes als eine Gruppe**. In diesem Sinn stellt der Begriff Gruppoid also eine Verallgemeinerung des Begriffes Gruppe dar.\n",
        "\n",
        "* Die Kategorie aller Gruppoide mit Funktoren als Morphismen ist eine Subkategorie von Cat, der Kategorie aller kleinen Kategorien"
      ]
    },
    {
      "cell_type": "markdown",
      "metadata": {
        "id": "QE2eJSx60DaV"
      },
      "source": [
        "Infinity Groupoid\n"
      ]
    },
    {
      "cell_type": "markdown",
      "metadata": {
        "id": "p-LtDSuW0Goi"
      },
      "source": [
        "* The notion of ∞-groupoid is the generalization of that of group and groupoids to higher category theory:"
      ]
    },
    {
      "cell_type": "markdown",
      "metadata": {
        "id": "wrzK4KKJ0QIu"
      },
      "source": [
        "https://ncatlab.org/nlab/show/infinity-groupoid"
      ]
    },
    {
      "cell_type": "markdown",
      "metadata": {
        "id": "dCFE-DUSztRw"
      },
      "source": [
        "https://en.m.wikipedia.org/wiki/∞-groupoid"
      ]
    },
    {
      "cell_type": "markdown",
      "metadata": {
        "id": "iWCeLOJUyQTQ"
      },
      "source": [
        "##### **Halbgruppe**"
      ]
    },
    {
      "cell_type": "markdown",
      "metadata": {
        "id": "jMk7Z_FMinyX"
      },
      "source": [
        "* **Abgeschlossenheit** (https://de.m.wikipedia.org/wiki/Abgeschlossenheit_(algebraische_Struktur))\n",
        "\n",
        "* **Assoziativität**: The operation ∗ is associative. That is, a ∗ (b ∗ c) = (a ∗ b) ∗ c for all a,b,c ∈ G.\n",
        "\n",
        "Es wird **nicht** erfüllt: Neutral (identity element), inverse, kommunitativ  (Abel'sche Gruppe)"
      ]
    },
    {
      "cell_type": "markdown",
      "metadata": {
        "id": "bMyPE5FjzwTo"
      },
      "source": [
        "Beispiele: "
      ]
    },
    {
      "cell_type": "markdown",
      "metadata": {
        "id": "H3gSEyuf_2h6"
      },
      "source": [
        "* Die Menge $\\mathbb  N$ $_0$ = {0, 1, 2 ..} der natürlichen Zahlen bildet mit der gewöhnlichen Addition eine kommutative und kürzbare Halbgruppe ($\\mathbb  N$ $_0$,+), die keine Gruppe ist. Da hier die negativen Zahlen fehlen, also die „Hälfte“ der abelschen Gruppe ($\\mathbb Z,+$) der ganzen Zahlen, lag der Name Halbgruppe für diese mathematische Struktur nahe. \n",
        "\n",
        "* Tatsächlich wurde in der Vergangenheit der Begriff „Halbgruppe“ für ein nach den oben gegebenen Definitionen kommutatives, kürzbares Monoid verwendet, später setzte sich dann die obige Definition allgemein durch."
      ]
    },
    {
      "cell_type": "markdown",
      "metadata": {
        "id": "bm96oAJn_X6E"
      },
      "source": [
        "https://de.m.wikipedia.org/wiki/Halbgruppe"
      ]
    },
    {
      "cell_type": "markdown",
      "metadata": {
        "id": "e_c49RceyU0S"
      },
      "source": [
        "##### **Monoid**"
      ]
    },
    {
      "cell_type": "markdown",
      "metadata": {
        "id": "6bCnMt3UlUfm"
      },
      "source": [
        "* **Closure**: If $x$ and $y$ are in $G$ then $x * y$ is in $\\mathrm{G}$\n",
        "\n",
        "* **Associativity**: For all $x, y, z$ in $G$ $\\text { we have }(x * y) * z=x *(y * z)$\n",
        "\n",
        "* **Identity Element**: There is an element $e$ in $G$ such that $e * x=x * e=x$ for all $x$ in $G$\n",
        "\n",
        "Es wird **nicht** erfüllt: inverse Element (= Gruppe), kommunitativ (= Abel'sche Gruppe)"
      ]
    },
    {
      "cell_type": "markdown",
      "metadata": {
        "id": "W4bqgKaUmfvs"
      },
      "source": [
        "* ein Monoid ist eine algebraische Struktur bestehend aus einer Menge mit einer klammerfrei notierbaren (assoziativen) Verknüpfung und einem neutralen Element. \n",
        "\n",
        "* **Ein Beispiel sind die natürlichen Zahlen mit der Addition und der Zahl 0 als neutralem Element.** \n",
        "\n",
        "* Ein Monoid, in dem jedes Element invertierbar ist, heißt Gruppe.\n",
        "\n",
        "* Eigenschaften bezüglich der angegebenen Verknüpfung: Assoziativität der Verknüpfung und e ist ein neutrales Element.\n",
        "\n",
        "* **Ein Monoid ist also eine Halbgruppe mit neutralem Element.** Jede Gruppe ist ein Monoid, aber ein Monoid hat im Gegensatz zur Gruppe nicht notwendigerweise inverse Elemente.\n",
        "\n",
        "* in Kategorietheorie ein Monoid ist eine Kategorie mit nur einem Objekt (und Pfeile mit Richtung zu sich selbst als Elemente / das sind neutrale Elemente)\n"
      ]
    },
    {
      "cell_type": "markdown",
      "metadata": {
        "id": "Z4ksA9DHix5Y"
      },
      "source": [
        "https://de.m.wikipedia.org/wiki/Monoid"
      ]
    },
    {
      "cell_type": "markdown",
      "metadata": {
        "id": "XM99PIHSxVpO"
      },
      "source": [
        "##### **Gruppe**"
      ]
    },
    {
      "cell_type": "markdown",
      "metadata": {
        "id": "RABq0YZ_mNj2"
      },
      "source": [
        "A group is a set $G$ with an operation $*$ such that\n",
        "\n",
        "* **Closure**: If $x$ and $y$ are in $G$ then $x * y$ is in $\\mathrm{G}$\n",
        "\n",
        "* **Associativity**: For all $x, y, z$ in $G$ $\\text { we have }(x * y) * z=x *(y * z)$\n",
        "\n",
        "* **Identity Element**: There is an element $e$ in $G$ such that $e * x=x * e=x$ for all $x$ in $G$\n",
        "\n",
        "* **Inverse Elements**: For each element $x$ in $G,$ there is an element $x^{-1}$ such that $x * x^{-1}=x^{-1} * x=e$"
      ]
    },
    {
      "cell_type": "markdown",
      "metadata": {
        "id": "EorWgfm-xahc"
      },
      "source": [
        "* Demnach ist eine Gruppe eine Menge zusammen mit **einer zweistelligen inneren Verknüpfung** (durch die jedem geordneten Paar von Elementen eindeutig ein Element dieser Menge als Resultat zugeordnet wird), wenn diese **Verknüpfung assoziativ** ist und es ein **neutrales Element** gibt sowie zu jedem Element ein **Inverses**. \n",
        "\n",
        "**Ringe, Körper, Moduln und Vektorräume sind Gruppen mit zusätzlichen Strukturen und Eigenschaften**"
      ]
    },
    {
      "cell_type": "markdown",
      "metadata": {
        "id": "jdIUzYUXxeQ1"
      },
      "source": [
        "Beispiele"
      ]
    },
    {
      "cell_type": "markdown",
      "metadata": {
        "id": "2uN_TPCVxdSO"
      },
      "source": [
        "* So bildet zum Beispiel auch die Menge der ganzen Zahlen zusammen mit der Addition eine Gruppe.\n",
        "\n",
        "* Physik und Chemie treten Gruppen überall dort auf, wo Symmetrien eine Rolle spielen (z. B. Invarianz physikalischer Gesetze, Symmetrie von Molekülen und Kristallen)"
      ]
    },
    {
      "cell_type": "markdown",
      "metadata": {
        "id": "dAtrm3obyX59"
      },
      "source": [
        "##### **Abelian Group**"
      ]
    },
    {
      "cell_type": "markdown",
      "metadata": {
        "id": "66v6RcrHOR8g"
      },
      "source": [
        "https://www.math.uni-bielefeld.de/~sek/top/leit/alg2.htm"
      ]
    },
    {
      "cell_type": "markdown",
      "metadata": {
        "id": "e6YkN8oDc-nK"
      },
      "source": [
        "* Eine abelsche Gruppe ist eine Gruppe, für die zusätzlich das Kommutativgesetz gilt.\n",
        "\n",
        "Sei $G$ eine Menge. Jedem Paar $(a, b) \\in G \\times G$ sei genau ein Element $a * b \\in G$ zugeordnet. Das Paar $(G, *)$ heißt abelsche Gruppe, wenn die Verknüpfung $*: G \\times G \\rightarrow G,(a, b) \\mapsto a * b$ die folgenden Gesetze erfüllt:\n",
        "\n",
        "1. Assoziativgesetz: Für alle $a, b, c \\in G$ gilt: $a *(b * c)=(a * b) * c$\n",
        "2. Kommutativgesetz: Für alle $a, b \\in G$ gilt: $a * b=b * a$\n",
        "3. Neutrales Element: Es gibt ein Element $e \\in G,$ so dass für alle $a \\in G$ gilt: $a * e=a$\n",
        "4. Inverses Element: Zu jedem $a \\in G$ gibt es ein $a^{-1} \\in G$ mit $a * a^{-1}=e$.\n",
        "\n",
        "Eine Gruppe $(G, *)$ heißt nichtabelsch, wenn in ihr mindestens ein Paar $(a, b)$ existiert mit $a * b \\neq b * a$\n",
        "\n",
        "* $(\\mathbb {Z} ,+)$ ist die wichtigste abelsche Gruppe. Dabei ist Z die Menge der ganzen Zahlen und + die gewöhnliche Addition.\n",
        "\n",
        "* $(\\mathbb {Q} ^{*},\\cdot )$ ist eine abelsche Gruppe. Dabei ist $\\mathbb {Q} ^{*}$ die Menge der rationalen Zahlen ohne die \n",
        "0 und ⋅ ist die gewöhnliche Multiplikation. Die Null muss hierbei ausgeschlossen werden, da sie kein inverses Element besitzt: „1/0“ ist nicht definiert.\n",
        "\n",
        "* Die Menge der Verschiebungen in der euklidischen Ebene bilden eine abelsche Gruppe. Die Verknüpfung ist die Hintereinanderausführung der Verschiebungen.\n",
        "\n",
        "* Die Menge der Drehungen in einer Ebene um einen Punkt bilden eine abelsche Gruppe. Die Verknüpfung ist die Hintereinanderausführung der Drehungen.\n",
        "\n",
        "* Die Menge der Drehstreckungen in einer Ebene bilden eine abelsche Gruppe.\n",
        "\n",
        "* Die Menge der endlichen Dezimalzahlen sind bezüglich der Multiplikation keine abelsche Gruppe. Zum Beispiel hat die Zahl 3 kein Inverses bezüglich der Multiplikation. $\\displaystyle {\\frac {1}{3}}$ lässt sich nicht als endlicher Dezimalbruch schreiben. Bezüglich der normalen Addition bilden die endlichen Dezimalbrüche eine abelsche Gruppe.\n",
        "Die Menge der Verschiebungen in der euklidischen Ebene bilden eine abelsche Gruppe. Die Verknüpfung ist die Hintereinanderausführung der Verschiebungen.\n",
        "\n",
        "* usw.: https://de.m.wikipedia.org/wiki/Abelsche_Gruppe"
      ]
    },
    {
      "cell_type": "markdown",
      "metadata": {
        "id": "6WXdK8VmN4Nj"
      },
      "source": [
        "**Freie Abelsche Gruppe**"
      ]
    },
    {
      "cell_type": "markdown",
      "metadata": {
        "id": "Vd_T1OhlN-Z3"
      },
      "source": [
        "* In der Mathematik ist eine freie abelsche Gruppe eine abelsche Gruppe, die als $\\mathbb {Z}$-Modul eine Basis hat.\n",
        "\n",
        "* Im Gegensatz zu Vektorräumen hat nicht jede abelsche Gruppe eine Basis, deshalb gibt es den spezielleren Begriff der freien abelschen Gruppe.\n",
        "\n",
        "* Jede abelsche Gruppe ist auf natürliche Weise ein $\\mathbb {Z}$ -Modul. Freie abelsche Gruppen sind daher nichts anderes als freie Moduln über $\\mathbb {Z}$."
      ]
    },
    {
      "cell_type": "markdown",
      "metadata": {
        "id": "_9N4KXC5N7f0"
      },
      "source": [
        "https://de.m.wikipedia.org/wiki/Freie_abelsche_Gruppe"
      ]
    },
    {
      "cell_type": "markdown",
      "metadata": {
        "id": "MsBW7Mc9Or8w"
      },
      "source": [
        "https://de.m.wikipedia.org/wiki/Freier_Modul"
      ]
    },
    {
      "cell_type": "markdown",
      "metadata": {
        "id": "fnd2z0hNOOFi"
      },
      "source": [
        "**Bedeutung (freier) abelscher Gruppen**"
      ]
    },
    {
      "cell_type": "markdown",
      "metadata": {
        "id": "DkYuB7lZOVcv"
      },
      "source": [
        "* Kann man von einer irgendwo in natürlicher Weise auftretenden Gruppe G zeigen, dass G eine freie abelsche Gruppe ist, so freut man sich:  denn es zeigt, **dass G eine sehr übersichtliche Struktur besitzt, dass man in G recht unproblematisch rechnen kann.** \n",
        "\n",
        "* Beispiel:  Ist V ein k-Vektorraum, wobei k ein Körper der Charakteristik Null ist, so ist jede Untergruppe von V, die von endlich vielen Vektoren erzeugt wird, eine freie abelsche Gruppe. (Wenn wir von Untergruppen von V reden, so betrachten wir nur die additive Struktur von V: Jeder Vektorraum ist ja bezüglich der Addition eine abelsche Gruppe.) \n",
        "\n",
        "* Weiß man, dass G eine freie abelsche Gruppe ist, **so wird man eine Basis wählen und alle Elemente als Linearkombinationen von Elementen dieser Basis ausdrücken**. Allerdings sollte man betonen, dass es meist keine ausgezeichnete Basis geben wird. Man sucht also eine geeignete Basis, in der die Elemente, an denen man interessiert sind, eine besonders einfache Form haben..."
      ]
    },
    {
      "cell_type": "markdown",
      "metadata": {
        "id": "Tv28yiNHOSs4"
      },
      "source": [
        "https://www.math.uni-bielefeld.de/~sek/top/leit/alg2.htm"
      ]
    },
    {
      "cell_type": "markdown",
      "metadata": {
        "id": "uNAk72BxycQE"
      },
      "source": [
        "##### **Lie Gruppe**"
      ]
    },
    {
      "cell_type": "markdown",
      "metadata": {
        "id": "Wj5WrEkbe_A3"
      },
      "source": [
        "* eine Lie-Gruppe ist eine mathematische Struktur, die zur Beschreibung von kontinuierlichen Symmetrien verwendet wird. \n",
        "\n",
        "* Formal handelt es sich bei einer Lie-Gruppe um eine Gruppe, die als differenzierbare Mannigfaltigkeit aufgefasst werden kann, sodass die Gruppenverknüpfung und Inversenbildung kompatibel mit dieser glatten Struktur sind.\n",
        "\n",
        "* Eine Lie-Gruppe ist eine [glatte reelle Mannigfaltigkeit](https://de.m.wikipedia.org/wiki/Differenzierbare_Mannigfaltigkeit#Glatte_Mannigfaltigkeit), die zusätzlich die Struktur einer Gruppe besitzt, so dass die Gruppenverknüpfung und die Inversion beliebig oft differenzierbar sind. (*Glatte Funktion: Eine glatte Funktion ist eine mathematische Funktion, die unendlich oft differenzierbar (insbesondere stetig) ist. Die Bezeichnung „glatt“ ist durch die Anschauung motiviert: Der Graph einer glatten Funktion hat keine „Ecken“, also Stellen, an denen sie nicht differenzierbar ist.*)"
      ]
    },
    {
      "cell_type": "markdown",
      "metadata": {
        "id": "CzfgyBiS6QOn"
      },
      "source": [
        "https://de.m.wikipedia.org/wiki/Lie-Gruppe"
      ]
    },
    {
      "cell_type": "markdown",
      "metadata": {
        "id": "WA7xSdDWirTD"
      },
      "source": [
        "**Lie-Algebra**"
      ]
    },
    {
      "cell_type": "markdown",
      "metadata": {
        "id": "kkqO6HRr458d"
      },
      "source": [
        "* ist eine algebraische Struktur, die mit einer Lie-Klammer versehen ist, d. h. es existiert eine antisymmetrische Verknüpfung, die die Jacobi-Identität erfüllt. \n",
        "\n",
        "* Lie-Algebren werden hauptsächlich zum Studium geometrischer Objekte wie Lie-Gruppen und differenzierbarer Mannigfaltigkeiten eingesetzt."
      ]
    },
    {
      "cell_type": "markdown",
      "metadata": {
        "id": "ldvhBQDfivPt"
      },
      "source": [
        "https://de.m.wikipedia.org/wiki/Lie-Algebra"
      ]
    },
    {
      "cell_type": "markdown",
      "metadata": {
        "id": "CmuHEBHk6VsG"
      },
      "source": [
        "##### **Galoistheorie**"
      ]
    },
    {
      "cell_type": "markdown",
      "metadata": {
        "id": "qkicJ2s-6YiR"
      },
      "source": [
        "https://de.wikipedia.org/wiki/Galoistheorie"
      ]
    },
    {
      "cell_type": "markdown",
      "metadata": {
        "id": "aShRhfg5GrPX"
      },
      "source": [
        "#### **Konkrete Gruppen (Familien)**"
      ]
    },
    {
      "cell_type": "markdown",
      "metadata": {
        "id": "17JkJZKtVD9m"
      },
      "source": [
        "##### **Notes**"
      ]
    },
    {
      "cell_type": "markdown",
      "metadata": {
        "id": "IOwF6ku6XB7L"
      },
      "source": [
        "https://de.wikipedia.org/wiki/Hyperbolische_Gruppe"
      ]
    },
    {
      "cell_type": "markdown",
      "metadata": {
        "id": "rLK1eXKkXPBy"
      },
      "source": [
        "https://de.m.wikipedia.org/wiki/Freie_Gruppe"
      ]
    },
    {
      "cell_type": "markdown",
      "metadata": {
        "id": "pIzAK34QXSLW"
      },
      "source": [
        "In Abwesenheit jeglicher Relationen spricht man auch von der freien Gruppe über den gegebenen Erzeugern. (source: https://de.m.wikipedia.org/wiki/Präsentation_einer_Gruppe)"
      ]
    },
    {
      "cell_type": "markdown",
      "metadata": {
        "id": "rtesPD5BjIT3"
      },
      "source": [
        "![cc](https://raw.githubusercontent.com/deltorobarba/repo/master/groups.png)"
      ]
    },
    {
      "cell_type": "markdown",
      "metadata": {
        "id": "a1FwUKmITETL"
      },
      "source": [
        "https://www.chemie.de/lexikon/Gruppentheorie.html"
      ]
    },
    {
      "cell_type": "markdown",
      "metadata": {
        "id": "DYd95ZikPxG7"
      },
      "source": [
        "##### **Triviale Gruppe (Zero Group)**"
      ]
    },
    {
      "cell_type": "markdown",
      "metadata": {
        "id": "DCaLVo_nP2aQ"
      },
      "source": [
        "Die [triviale Gruppe](https://de.m.wikipedia.org/wiki/Triviale_Gruppe) ist in der Gruppentheorie eine Gruppe, deren Trägermenge genau ein Element enthält. Die triviale Gruppe ist bis auf Isomorphie eindeutig bestimmt. **Jede Gruppe enthält die triviale Gruppe als Untergruppe**.\n",
        "\n",
        "Die triviale Gruppe $(\\{e\\}, *)$ ist eine Gruppe, die aus der einelementigen Menge $\\{e\\}$ besteht und versehen ist mit der einzig möglichen Gruppenoperation\n",
        "\n",
        "$\n",
        "e * e=e\n",
        "$\n",
        "\n",
        "Das Element $e$ ist damit das **neutrale Element** der Gruppe."
      ]
    },
    {
      "cell_type": "markdown",
      "metadata": {
        "id": "NoATSFAfQ9i7"
      },
      "source": [
        "Alle trivialen Gruppen sind zueinander isomorph. Beispiele für triviale Gruppen sind:\n",
        "\n",
        "* die zyklische Gruppe $C_{1}$ vom Grad 1\n",
        "\n",
        "* die alternierende Gruppe $A_{2}$ vom Grad 2\n",
        "\n",
        "* die symmetrische Gruppe $S_{1}$ einer einelementigen Menge\n"
      ]
    },
    {
      "cell_type": "markdown",
      "metadata": {
        "id": "8WkzsL3wguXw"
      },
      "source": [
        "*Eigenschaften trivialer Gruppen*:\n",
        "\n",
        "* Da die Gruppenoperation $\\ast$ kommutativ ist, ist die triviale Gruppe eine abelsche Gruppe.\n",
        "\n",
        "* Die einzige Untergruppe der trivialen Gruppe ist die triviale Gruppe selbst.\n",
        "\n",
        "* Die triviale Gruppe wird von der leeren Menge erzeugt: \n",
        "$\\{e\\}=\\langle \\emptyset \\rangle$ . Hierbei ergibt das leere Produkt nach üblicher Konvention das neutrale Element.\n",
        "\n",
        "* Jede Gruppe enthält die triviale Gruppe und sich selbst als (triviale) Normalteiler. **Die triviale Gruppe wird daher meistens nicht als einfache Gruppe angesehen** 9die aus genau 2 Normalteilern besteht).\n",
        "\n",
        "* In der Kategorie der Gruppen Grp fungiert die triviale Gruppe als Nullobjekt."
      ]
    },
    {
      "cell_type": "markdown",
      "metadata": {
        "id": "I928UjHNKuZc"
      },
      "source": [
        "##### **Einfache Gruppe (Simple Group)**"
      ]
    },
    {
      "cell_type": "markdown",
      "metadata": {
        "id": "Ug8YBjUSuUw4"
      },
      "source": [
        "https://youtu.be/jhVMBXl5jTA"
      ]
    },
    {
      "cell_type": "markdown",
      "metadata": {
        "id": "FXVFg6eAKyF0"
      },
      "source": [
        "* [Simple Groups](https://en.wikipedia.org/wiki/Simple_group) bzw. [einfache Gruppen](https://de.wikipedia.org/wiki/Einfache_Gruppe_(Mathematik)) **are the fundamental building blocks of finite groups** (just like Prime numbers are fundamental building blocks in number theory)\n",
        "\n",
        "* Just as you can factor integers into prime numbers, you can break apart some groups into a direct product of simpler groups.\n",
        "\n",
        "*  **a simple group is a <u>nontrivial</u> group whose only normal subgroups are the trivial group and the group itself.**\n",
        "\n",
        "* **Jede Gruppe hat sich selbst und die nur das neutrale Element enthaltende Menge als Normalteiler.** \n",
        "\n",
        "Damit stellt sich die Frage, welche Gruppen keine weitere Normalteiler besitzen. Bei diesen handelt es sich per definitionem gerade um die einfachen Gruppen.\n",
        "\n",
        "  * Eine Gruppe $G$ heisst einfach, falls sie als Normalteiler nur $G$ und $\\{e\\}$ mit dem neutralen Element $e$ hat. \n",
        "  * Außerdem wird zusătzlich $G \\neq\\{e\\}$ gefordert, wonach man knapper sagen kann: \n",
        "  * **Eine Gruppe heißt einfach, wenn sie genau zwei Normalteiler besitzt.**\n",
        "\n",
        "* A group that is not simple can be broken into two smaller groups, namely a nontrivial [normal subgroup](https://en.wikipedia.org/wiki/Normal_subgroup) and the corresponding quotient group. This process can be repeated, and for finite groups one eventually arrives at uniquely determined simple groups, by the [Jordan–Hölder theorem (Composition series)](https://en.wikipedia.org/wiki/Composition_series).\n",
        "\n",
        "* The complete classification of finite simple groups, completed in 2004, is a major milestone in the history of mathematics."
      ]
    },
    {
      "cell_type": "markdown",
      "metadata": {
        "id": "jUMV7zliLwZE"
      },
      "source": [
        "**Direct product of groups (from simple groups)**"
      ]
    },
    {
      "cell_type": "markdown",
      "metadata": {
        "id": "5LTu3bISLvNY"
      },
      "source": [
        "* You can piece them together to create larger, more complex groups. One way is the direct product of groups.\n",
        "\n",
        "* For example combine two groups G1 and G2 (no matter finite or infinite, abelian or non-abelian) into a larger group via the direct product. Operation is done component-wise.\n",
        "\n",
        "* If any Group is non abelian, then the direct product will be non abelian as well.\n",
        "\n",
        "* **The direct product is a useful tool for breaking some groups into simpler groups (not all!).** This is because there are many groups which are NOT direct products of simpler groups. But there are other tools for deconstructing groups."
      ]
    },
    {
      "cell_type": "markdown",
      "metadata": {
        "id": "Olpm27wcOUH_"
      },
      "source": [
        "https://www.youtube.com/watch?v=rXLz8TdckWo&list=PLi01XoE8jYoi3SgnnGorR_XOW3IcK-TP6&index=21"
      ]
    },
    {
      "cell_type": "markdown",
      "metadata": {
        "id": "QQSRFOXm2QgM"
      },
      "source": [
        "##### **Endliche Gruppe (Finite Groups)**"
      ]
    },
    {
      "cell_type": "markdown",
      "metadata": {
        "id": "kQMqvjVP2dnP"
      },
      "source": [
        "* Eine Gruppe ($G$,*) heißt [endliche Gruppe](https://de.m.wikipedia.org/wiki/Endliche_Gruppe), wenn $G$ eine endliche Menge ist, also eine endliche Anzahl von Elementen hat.\n",
        "\n",
        "* Die Annahme der Endlichkeit ermöglicht ein vereinfachtes Axiomensystem"
      ]
    },
    {
      "cell_type": "markdown",
      "metadata": {
        "id": "IX5DziJq3l5S"
      },
      "source": [
        "Ein Paar $(G, *)$ mit einer endlichen Menge $G$ und einer inneren zweistelligen Verknüpfung $*: G \\times G \\rightarrow G$ heißt Gruppe, wenn folgende Axiome erfüllt sind:\n",
        "\n",
        "* Assoziativität: Für alle Gruppenelemente $a, b, c$ gilt $(a * b) * c=a *(b * c)$,\n",
        "\n",
        "* [Kürzungsregel](https://de.m.wikipedia.org/wiki/Kürzbarkeit): Aus $a * x=a * x^{\\prime}$ oder $x * a=x^{\\prime} * a$ folgt $x=x^{\\prime}$\n",
        "\n",
        "Aus der Kürzungsregel folgt, dass die Links- und Rechtsmultiplikationen $x \\mapsto a * x$ und $x \\mapsto x * a$\n",
        "injektiv sind, woraus wegen der Endlichkeit auch die Surjektivität folgt. Daher gibt es ein $x$ mit\n",
        "$a * x=a,$ was zur Existenz des neutralen Elementes $e$ führt, und dann ein $x$ mit $a * x=e$, was\n",
        "die Existenz der inversen Elemente zeigt."
      ]
    },
    {
      "cell_type": "markdown",
      "metadata": {
        "id": "37qnbx7d0X_q"
      },
      "source": [
        "##### **Endliche einfache Gruppe (Finite Simple Groups)**"
      ]
    },
    {
      "cell_type": "markdown",
      "metadata": {
        "id": "EhN_XWVc0s5p"
      },
      "source": [
        "* [Endliche einfache Gruppen](https://de.m.wikipedia.org/wiki/Endliche_einfache_Gruppe) gelten in der Gruppentheorie als die Bausteine der [endlichen Gruppen](https://de.m.wikipedia.org/wiki/Endliche_Gruppe).\n",
        "\n",
        "* Die endlichen einfachen Gruppen spielen für die endlichen Gruppen eine ähnliche Rolle wie die Primzahlen für die natürlichen Zahlen: Jede endliche Gruppe lässt sich in ihre einfachen Gruppen „zerteilen“ (für die Art der Eindeutigkeit siehe den Satz von Jordan-Hölder). \n",
        "\n",
        "* Die Rekonstruktion einer endlichen Gruppe aus diesen ihren „Faktoren“ ist aber nicht eindeutig. \n",
        "\n",
        "* Es gibt jedoch keine „noch einfacheren Gruppen“, aus denen sich die endlichen einfachen Gruppen konstruieren lassen.\n",
        "\n",
        "Obwohl die endlichen einfachen Gruppen seit 1982 als vollständig klassifiziert galten, schlossen Mathematiker um Aschbacher die Klassifikation erst im Jahre 2002 mit einem 1200 Seiten langen Beweis ab:\n",
        "\n",
        "* Fast alle dieser Gruppen lassen sich einer von 18 Familien endlicher einfacher Gruppen zuordnen.\n",
        "\n",
        "* Es existieren 26 Ausnahmen. Diese Gruppen werden als **sporadische Gruppen** bezeichnet (Zu den sporadischen Gruppen zählen die Conway-Gruppe, das Babymonster und die **Monstergruppe** (mit fast 1054 Elementen die größte sporadische Gruppe)."
      ]
    },
    {
      "cell_type": "markdown",
      "metadata": {
        "id": "bgW5cUZIWtGI"
      },
      "source": [
        "[2004: Classification of Quasithin group](https://en.wikipedia.org/wiki/Quasithin_group)"
      ]
    },
    {
      "cell_type": "markdown",
      "metadata": {
        "id": "F4yhi0WWnwnf"
      },
      "source": [
        "**Klassifikation der endlichen einfachen Gruppe**"
      ]
    },
    {
      "cell_type": "markdown",
      "metadata": {
        "id": "OHAET4UPn4W1"
      },
      "source": [
        "Die endlichen einfachen Gruppen [lassen sich einteilen in](https://de.m.wikipedia.org/wiki/Endliche_einfache_Gruppe#Klassifikation) bzw [Classification of finite simple groups](https://en.m.wikipedia.org/wiki/Classification_of_finite_simple_groups), Every finite simple group is isomorphic to one of the following groups:\n",
        "\n",
        "* a member of one of three infinite classes of such, namely:\n",
        "\n",
        "  * (1) [zyklische Gruppen](https://de.m.wikipedia.org/wiki/Zyklische_Gruppe) von Primzahlordnung,\n",
        "\n",
        "  * (1) [alternierende Gruppen](https://de.m.wikipedia.org/wiki/Alternierende_Gruppe) $A_{n}$ mit $n>4$,\n",
        "\n",
        "  * (16) [Gruppen vom Lie-Typ](https://de.m.wikipedia.org/wiki/Gruppe_vom_Lie-Typ) über einem [endlichen Körper](https://de.m.wikipedia.org/wiki/Endlicher_Körper) (16 jeweils unendliche Familien),\n",
        "\n",
        "* (26) one of 26 groups called the \"sporadic groups\" / [26 sporadische Gruppen](https://de.m.wikipedia.org/wiki/Sporadische_Gruppe).\n",
        "\n",
        "* (1) the [Tits group](https://en.m.wikipedia.org/wiki/Tits_group) (which is sometimes considered a 27th sporadic group)"
      ]
    },
    {
      "cell_type": "markdown",
      "metadata": {
        "id": "lk3AEOE_qVfO"
      },
      "source": [
        "##### **Kleine Gruppen (List of small groups)**"
      ]
    },
    {
      "cell_type": "markdown",
      "metadata": {
        "id": "NHEfqjlKqcYl"
      },
      "source": [
        "* The [List of small groups](https://en.wikipedia.org/wiki/List_of_small_groups) contains finite groups of small [order](https://en.wikipedia.org/wiki/Order_(group_theory)) [up to](https://en.wikipedia.org/wiki/Up_to) [group isomorphism](https://en.wikipedia.org/wiki/Group_isomorphism).\n",
        "\n",
        "* Die folgende Liste enthält eine Auswahl [endlicher Gruppen kleiner Ordnung](https://de.m.wikipedia.org/wiki/Liste_kleiner_Gruppen).\n",
        "\n",
        "  * Diese Liste kann benutzt werden, um herauszufinden, zu welchen bekannten endlichen Gruppen eine Gruppe G isomorph ist. \n",
        "  \n",
        "  * Als erstes bestimmt man die Ordnung von G und vergleicht sie mit den unten aufgelisteten Gruppen gleicher Ordnung. \n",
        "  \n",
        "  * Ist bekannt, ob G abelsch (kommutativ) ist, so kann man einige Gruppen ausschließen. Anschließend vergleicht man die Ordnung einzelner Elemente von G mit den Elementen der aufgelisteten Gruppen, wodurch man G bis auf Isomorphie eindeutig bestimmen kann."
      ]
    },
    {
      "cell_type": "markdown",
      "metadata": {
        "id": "XtCoGdoRduf1"
      },
      "source": [
        "In der nachfolgenden Liste werden folgende Bezeichnungen verwendet:\n",
        "\n",
        "- $\\mathbb{Z}_{n}$ ist die zyklische Gruppe der Ordnung $n$ (die auch als $C_{n}$ oder $\\mathbb{Z} / n \\mathbb{Z}$ geschrieben wird).\n",
        "\n",
        "- $D_{n}$ ist die Diedergruppe der Ordnung $2 n$.\n",
        "\n",
        "- $S_{n}$ ist die symmetrische Gruppe vom Grad $n$, mit $n !$ Permutationen von $n$ Elementen.\n",
        "\n",
        "- $A_{n}$ ist die alternierende Gruppe vom Grad $n$, mit $n ! / 2$ Permutationen von $n$ Elementen für $n \\geq 2$.\n",
        "\n",
        "- Dic $_{n}$ ist die dizyklische Gruppe der Ordnung $4 n$.\n",
        "\n",
        "- $V_{4}$ ist die Klein'sche Vierergruppe der Ordnung $4 .$\n",
        "\n",
        "- $Q_{4 n}$ ist die Quaternionengruppe der Ordnung $4 n$ fur $n \\geq 2$.\n",
        "\n",
        "[Liste aller Gruppen bis Ordnung 20](https://de.m.wikipedia.org/wiki/Liste_kleiner_Gruppen#Liste_aller_Gruppen_bis_Ordnung_20)"
      ]
    },
    {
      "cell_type": "markdown",
      "metadata": {
        "id": "ZV0GhhALuWSO"
      },
      "source": [
        "##### **Cyclic Groups $C_{n}$**"
      ]
    },
    {
      "cell_type": "markdown",
      "metadata": {
        "id": "VU8_MgUbluNH"
      },
      "source": [
        "https://www.youtube.com/watch?v=8A84sA1YuPw"
      ]
    },
    {
      "cell_type": "markdown",
      "metadata": {
        "id": "TF4X4BeZmdlu"
      },
      "source": [
        "https://en.wikipedia.org/wiki/Cyclic_group"
      ]
    },
    {
      "cell_type": "markdown",
      "metadata": {
        "id": "ACunDDlyuapF"
      },
      "source": [
        "* A group G is cyclic if it‘s generated by a single element G = <x>\n",
        "* Let G be a group with operation * and pick x element G\n",
        "* What‘s the smallest subgroup of G that contains x ?\n",
        "    * Its inverse x -1\n",
        "    * It‘s identity element 1 (for multiplication)\n",
        "    * All powers of x (squared etc) and powers of inverse of c\n",
        "* <x> = { ..., x -4, x -3, x -2, x -1, 1, x, x 2, x 3,.. } DIE ziffern sind hier hochgestellt als potenzen !!\n",
        "* If G = <x> for some x, then we call G a cyclic group, or: if G contains an element ‚x‘ such that G equals the group generated by ‚x‘, then we say G is a cyclic group\n",
        "* And for group H under operation + pick y element of H, group generated by y = smallest subgroup of H containing y. <y> = {.., -3y, -2y, -y, 0, 2y, 3y, ..}\n",
        "* Examples: Integers are a cyclic group! And specifically an infinite cyclic group\n",
        "    * Integers under addition,\n",
        "    * Claim: Z = <1>\n",
        "    * <1> = { .., -4, -3, -2, -1, 0, 1, 2, 3, ..}\n",
        "* Finite cyclic group: Integers mod n under addition\n",
        "    * Elements: {0, 1, 2, 3... , n -1}\n",
        "    * The group generated by 1 repeats itself. It cycles through the numbers 0 through N -1 over and over.\n",
        "    * It‘s written like this: Integers mod n: Z / n Z\n",
        "    * This will makes sense once studied quotient groups\n",
        "* All cyclic groups:\n",
        "    * Infinite: Z, +\n",
        "    * Finite: Z / nZ, + with: Z, Z/2Z, Z/3Z, Z/4Z,..\n",
        "    * Trivial group: {e}"
      ]
    },
    {
      "cell_type": "markdown",
      "metadata": {
        "id": "z0WJnTIEvpUa"
      },
      "source": [
        "![alternativer Text](https://raw.githubusercontent.com/deltorobarba/repo/master/finitecyclicgroups1.png)"
      ]
    },
    {
      "cell_type": "markdown",
      "metadata": {
        "id": "8tHQRgl9vz6r"
      },
      "source": [
        "![alternativer Text](https://raw.githubusercontent.com/deltorobarba/repo/master/finitecyclicgroups2.png)"
      ]
    },
    {
      "cell_type": "markdown",
      "metadata": {
        "id": "pOKWfpuAufDj"
      },
      "source": [
        "* Why are they so important? „Fundamental Theorem of Finitely Generated Abelian Groups“\n",
        "* Means: any abelian group, that is finitely generated can be broken apart into a finite number of cyclic groups\n",
        "* And every cyclic group is either integers, or integers mod N\n",
        "* So cyclic groups are fundamental building blocks for finitely generated abelian groups"
      ]
    },
    {
      "cell_type": "markdown",
      "metadata": {
        "id": "SgHgS037zK0x"
      },
      "source": [
        "##### **Symmetrische Gruppen $S_{n}$**"
      ]
    },
    {
      "cell_type": "markdown",
      "metadata": {
        "id": "1QtRXipnWyQL"
      },
      "source": [
        "https://www.youtube.com/watch?v=3aNeCWRjh8I&list=PLi01XoE8jYoi3SgnnGorR_XOW3IcK-TP6&index=16"
      ]
    },
    {
      "cell_type": "markdown",
      "metadata": {
        "id": "7HjrxKrmoHW7"
      },
      "source": [
        "* Die Symmetrische Gruppe besteht aus allen Permutationen einer n-elementigen Menge, heißt also hier **muss es kein Objekt aus der Geometrie sein!**\n",
        "\n",
        "* Symmetrische gruppen haben ordnung n! für ein n, und **permutationsgruppen sind untergruppen davon**"
      ]
    },
    {
      "cell_type": "markdown",
      "metadata": {
        "id": "ebzW--29T-16"
      },
      "source": [
        "1. S3 = Group of Permutations on a set with 3 elements like {1, 2, 3} = 1,2,3 and 2,3,1, and 3,1,2 etc.\n",
        "\n",
        "2. S3 has n! = 3! = 9 elements. A symmetric group is a finite group with n factorial elements\n",
        "\n",
        "3. The order of Sn is n factorial |Sn| = n!\n",
        "\n",
        "Every finite group is a subgroup of a symmetric group ! ([Cayley's theorem](https://en.wikipedia.org/wiki/Cayley%27s_theorem))"
      ]
    },
    {
      "cell_type": "markdown",
      "metadata": {
        "id": "l8VdbmRNXMD6"
      },
      "source": [
        "* How to combine 2 permutations? A permutation acts like a function, like 1, 2, 3 replaced with 2,3,1. \n",
        "* It's a bijection from the set f{1,2,3} $\\,\\to\\,$ {1,2,3} with\n",
        "  * f(1) = 2\n",
        "  * f(2) = 3\n",
        "  * f(3) = 1\n",
        "* Treating group as function allows to define group operation. for example multiplication and s3 is just function composition\n",
        "* **except for S1 and S2, all symmetric groups are non abelian, means they are not commutative**. This means if you multiply two permutations of a symmetric group in a reverse order, you get the reversed result, not the same."
      ]
    },
    {
      "cell_type": "markdown",
      "metadata": {
        "id": "Mn1H88XYX7Rk"
      },
      "source": [
        "Symmetry Groups of Triangles\n",
        "\n",
        "* We introduce the connection between geometric figures and abstract algebra by showing how you can associate a group with triangles.  \n",
        "* **The more symmetric the triangle, the larger the group.** \n",
        "* We illustrate this by finding the group of symmetries for equilateral, isosceles and scalene triangles.\n",
        "* for example take a trianle, do nothing (identity element) and do a couple of transformations (rotate, flip etc)\n",
        "  * **6 group elements**: identity e, r for rotate once, r<sup>2</sup> for rotate twice, f for flip, rf for rotate and flip, r<sup>2</sup>f rotate twice and flip.\n",
        "  * rotate three times gives same position, so it's identity element r<sup>3</sup> = e bzw. |r| = 3\n",
        "  * And flipping twice is also an identity f<sup>2</sup> = e bzw. |f| = 2\n",
        "  * rotate twice clockwise a triangle gives the same result as roatte once counterclockwise r<sup>-1</sup> = r<sup>2</sup>\n",
        "* Nimmt man hingegen kein gleichseitiges Dreieck, sondern Dreiecke, die gestreckt sind, ergeben sich weniger Moglichkeiten der Rotation und Flipping, so dass man das Dreieck wieder in die gleiche Form versetzen kann. Im aeussersten Fall nur noch das Identity Element.\n",
        "* Daher: The more symmetric the triangle, the larger the group. "
      ]
    },
    {
      "cell_type": "markdown",
      "metadata": {
        "id": "bBmqBQAUzOfk"
      },
      "source": [
        "https://de.m.wikipedia.org/wiki/Symmetrische_Gruppe"
      ]
    },
    {
      "cell_type": "markdown",
      "metadata": {
        "id": "LJw8mSm3Esft"
      },
      "source": [
        "**Symmetrische Gruppe S3 (Gruppe)**"
      ]
    },
    {
      "cell_type": "markdown",
      "metadata": {
        "id": "HimWvLoZzsEd"
      },
      "source": [
        "https://de.m.wikipedia.org/wiki/S3_(Gruppe)"
      ]
    },
    {
      "cell_type": "markdown",
      "metadata": {
        "id": "a0VNbaA6iomm"
      },
      "source": [
        "##### **Permutationsgruppe**"
      ]
    },
    {
      "cell_type": "markdown",
      "metadata": {
        "id": "IAIvwL8kisSj"
      },
      "source": [
        "* In der Gruppentheorie nennt man eine Gruppe von Permutationen einer endlichen Menge $M$ mit der Hintereinanderausführung als Gruppenverknüpfung [Permutationsgruppe](https://de.wikipedia.org/wiki/Permutationsgruppe). Die Gruppe aller Permutationen von $M$ nennt man ihre symmetrische Gruppe $S(M)$. \n",
        "\n",
        "* **Die Permutationsgruppen sind in diesem Sinne genau die Untergruppen der symmetrischen Gruppen**.\n",
        "\n",
        "* Nach dem [Satz von Cayley](https://de.wikipedia.org/wiki/Satz_von_Cayley) ist jede endliche Gruppe zu einer Untergruppe der symmetrischen Gruppe, also zu einer Permutationsgruppe isomorph. Insofern „ist“ jede endliche Gruppe eine Permutationsgruppe. "
      ]
    },
    {
      "cell_type": "markdown",
      "metadata": {
        "id": "MZLd_VjqNxOD"
      },
      "source": [
        "Sei $(G, \\cdot)$ eine Gruppe mit dem neutralen Element $e . G$ operiert genau dann als Permutationsgruppe auf $M$, wenn gilt:\n",
        "\n",
        "1. $M$ ist eine endliche Menge.\n",
        "\n",
        "2. $G$ operiert auf $M$, das bedeutet, dass eine Abbildung $G \\times M \\rightarrow M,(g, m) \\mapsto g \\circ m \\in M$ existiert, die den Regeln\n",
        "$e \\circ m=m,(g \\cdot h) \\circ m=g \\circ(h \\circ m)$ für alle $m \\in M ; g, h \\in G$\n",
        "gehorcht.\n",
        "\n",
        "3. Die Operation o ist treu (engl.: faithful, das heißt, es gilt: Ist $g \\circ m=h \\circ m$ für alle $m \\in M$, dann folgt $g=h$. Oder es gilt gleichwertig: $g \\circ m=m$ für alle $m \\in M$, dann folgt $g=e$."
      ]
    },
    {
      "cell_type": "markdown",
      "metadata": {
        "id": "JpaiUPeYP9jl"
      },
      "source": [
        "Eine Gruppenoperation, die nur die 2 . und 3. Bedingung erfüllt, heißt treu. $G$ operiert also genau dann als Permutationsgruppe auf $M$, wenn die Operation treu und $M$ endlich ist. Eine Gruppenoperation, die nur die $1 .$ und $2 .$ Bedingung erfüllt, wird als Permutationsdarstellung (engl.: permutation representation) von $G$ bezeichnet. $G$ operiert also genau dann als Permutationsgruppe auf $M$, wenn die Gruppenoperation eine treue\n",
        "Permutationsdarstellung ist."
      ]
    },
    {
      "cell_type": "markdown",
      "metadata": {
        "id": "sO3gFnsGoDHp"
      },
      "source": [
        "##### **Symmetriegruppe $Sym_{n}$**"
      ]
    },
    {
      "cell_type": "markdown",
      "metadata": {
        "id": "s71OBHDLn_lM"
      },
      "source": [
        "**Unterschied: Symmetriegruppen, Symmetrische Gruppen & Permutationsgruppen**\n",
        "\n",
        "* Not to be confused with Symmetric group: https://en.m.wikipedia.org/wiki/Symmetric_group\n",
        "\n",
        "* Zum Beispiel ist die Symmetriegruppe des Quadrates die D4 mit 8 Elementen, welche eine Permutationsgruppe ist, doch keine Symmetrische Gruppe.\n",
        "\n",
        "* Eine Symmetriegruppe ist eine Permutionsgruppe, nämlich eine Untergruppe der Symmetrischen Gruppe (aller Permutationen).\n",
        "\n",
        "* eine Symmetriegruppe besteht aus allen Kongruenzabbildungen, die ein Objekt wieder auf sich selbst abbilden. Das heißt also, **dass es hier immer um geometrische Objekte geht**.\n",
        "\n",
        "* **Die Symmetrische Gruppe besteht aus allen Permutationen einer n-elementigen Menge, heißt also hier muss es kein Objekt aus der Geometrie sein!**\n",
        "\n",
        "* symmetrische gruppen haben ordnung n! für ein n, und permutationsgruppen sind untergruppen davon (nicht notwendig diese ordnung, insbesondere nicht als symmetrische gruppe realisierbar)."
      ]
    },
    {
      "cell_type": "markdown",
      "metadata": {
        "id": "lxa1KsVJkkgc"
      },
      "source": [
        "**Eigenschaften von Symmetriegruppen**\n",
        "\n",
        "* Idee der Invarianz eines Gebildes gegenüber einer Gruppe automorpher Transformationen\n",
        "\n",
        "* In der mathematischen Gruppentheorie ist die [Symmetriegruppe](https://en.m.wikipedia.org/wiki/Symmetry_group) eines geometrischen Objektes die Gruppe, die aus der **Menge aller [Kongruenzabbildungen](https://de.wikipedia.org/wiki/Kongruenzabbildung) besteht, die das Objekt auf sich selbst abbilden**, zusammen mit der Verkettung von Abbildungen als Gruppenoperation.\n",
        "\n",
        "* Beispiel: Ein **Kreis oder ein Kreisring** sind rotationssymmetrisch im engeren Sinne. Eine Drehung um jeden beliebigen Winkel bildet sie auf sich selbst ab.\n",
        "\n",
        "* [Reguläre (regelmäßige) **Polygone**](https://de.wikipedia.org/wiki/Regelmäßiges_Polygon) sind typische rotationssymmetrische Figuren. Die Symmetriegruppe eines regelmäßigen n-Ecks ist die [Diedergruppe \n",
        "$D_{n}$](https://de.wikipedia.org/wiki/Diedergruppe) (Dihedral Group), bestehend aus genau n Drehungen und n Spiegelungen. Die Diedergruppe weist die Ordnung $2n$ auf und besteht aus\n",
        "\n",
        "  * n Rotationen der [zyklischen Gruppe $C_{n}$](https://de.wikipedia.org/wiki/Zyklische_Gruppe) und n Spiegelungen an den Symmetrieachsen durch den Mittelpunkt des Polygons.\n",
        "\n",
        "  * Ist n gerade, dann verläuft die eine Hälfte der Symmetrieachsen durch zwei gegenüberliegende Ecken und die andere Hälfte durch zwei Mittelpunkte gegenüberliegender Seiten. \n",
        "  \n",
        "  * Ist n ungerade, dann verlaufen alle Symmetrieachsen durch eine Ecke und den Mittelpunkt der gegenüberliegenden Seite.\n",
        "Jedes regelmäßige Polygon mit gerader Eckenzahl ist auch [punktsymmetrisch](https://de.wikipedia.org/wiki/Punktsymmetrie) bezüglich seines Mittelpunkts (Eine Figur ist punktsymmetrisch, wenn sie durch die Spiegelung an einem Symmetriepunkt auf sich selbst abgebildet wird.).\n",
        "\n",
        "* Ein **homogenes Tetraeder** ist invariant gegenüber 12 verschiedenen Rotationen. Diese werden hier als [Zykel-Graph](https://de.wikipedia.org/wiki/Zykel-Graph) zusammen mit den Rotationen um die 180°-Kante (blaue Pfeile) und der 120°-Scheitelpunkte (rötliche Pfeile) dargestellt. Die 12 Umdrehungen bilden die Rotationsgruppe (Symmetriegruppe) der Figur. Die Einfärbung der Flächen dient dabei lediglich der Veranschaulichung der Symmetrieoperationen, denn ein Tetraeder, dessen Seitenflächen so wie in der Grafik eingefärbt sind, besitzt keine Symmetrien."
      ]
    },
    {
      "cell_type": "markdown",
      "metadata": {
        "id": "9_W_pVa5DrWd"
      },
      "source": [
        "![hh](https://upload.wikimedia.org/wikipedia/commons/9/98/Tetrahedral_group_2.svg)"
      ]
    },
    {
      "cell_type": "markdown",
      "metadata": {
        "id": "LCu15dk4Eavr"
      },
      "source": [
        "*Eigenschaften*\n",
        "\n",
        "* **Diskretheit**: Eine Symmetriegruppe weist dann eine **diskrete Topologie** auf, wenn es so etwas wie „kleinste Schritte“ gibt. Praktisch gesehen ist eine Symmetriegruppe genau dann diskret, wenn es eine **untere Schranke** gibt, sowohl für die Längen aller (von Null verschiedenen) Verschiebungen als auch für die Drehwinkel aller Drehsymmetrien.\n",
        "\n",
        "* **Periodizität**: \n",
        "\n",
        "  * Man betrachtet die Menge aller in der Gruppe enthaltenen (von Null verschiedenen) Verschiebungen (Translationen) und bestimmt, wie viele dieser Vektoren linear unabhängig voneinander sind, man bestimmt also die Dimension der [linearen Hülle](https://de.wikipedia.org/wiki/Lineare_Hülle) dieser Verschiebungsvektoren.\n",
        "\n",
        "  * Enthält die Gruppe überhaupt keine Verschiebungen, so gibt es mindestens einen Punkt, der Fixpunkt aller Abbildungen ist. Man spricht in diesem Fall von einer **Punktgruppe**. Punktgruppen sind genau dann endlich, wenn sie diskret sind.\n",
        "Sobald die Gruppe mindestens eine Verschiebung enthält, enthält sie zumindest in euklidischer Geometrie automatisch unendlich viele Elemente.\n",
        "\n",
        "  * Entspricht die Zahl der linear unabhängigen Verschiebungsvektoren der Dimension des Raumes, in den das Objekt eingebettet ist, so gibt es einen beschränkten Teil des Objekts (eine Zelle), deren Bilder den gesamten Raum ausfüllen. Ist die Gruppe zusätzlich auch noch diskret, so spricht man von einer **Raumgruppe** und nennt das Muster periodisch. In diesem Fall gibt es einen beschränkten Fundamentalbereich von gleicher Dimension wie der Raum, also beispielsweise in der Ebene eine entsprechende von Null verschiedene Fläche."
      ]
    },
    {
      "cell_type": "markdown",
      "metadata": {
        "id": "Hn1gVS0AF4ls"
      },
      "source": [
        "*Klassifikation in der zweidimensionalen euklidischen Geometrie*"
      ]
    },
    {
      "cell_type": "markdown",
      "metadata": {
        "id": "CUw8lZPtHOFE"
      },
      "source": [
        "Die Symmetriegruppen in der euklidischen Ebene lassen sich wie folgt klassifizieren:\n",
        "\n",
        "**Diskret**\n",
        "\n",
        "* **Ohne Verschiebungen**\n",
        "\n",
        "  * **Ohne Achsenspiegelungen**: Familie der endlichen [zyklischen Gruppen](https://de.wikipedia.org/wiki/Zyklische_Gruppe) $C_{n}$ (für $n=1,2,\\ldots$), das sind alle Drehungen um einen Punkt um Vielfache von $\\tfrac{360^\\circ}{n}$\n",
        "\n",
        "    * $C_{1}$: Symmetriegruppe eines komplett unsymmetrischen Objektes, mit der Identität als einzigem Element\n",
        "\n",
        "    * $C_{2}$: Symmetriegruppe einer Punktspiegelung\n",
        "\n",
        "    * $C_{3}$: Symmetriegruppe einer Triskele\n",
        "\n",
        "    * $C_{4}$: Symmetriegruppe einer Swastika\n",
        "\n",
        "  * **Mit Achsenspiegelungen**: Familie der [Diedergruppen](https://de.wikipedia.org/wiki/Diedergruppe) $D_{n}$ (für $n=1,2,\\ldots$), das sind Drehungen wie $C_{n}$ zusammen mit \n",
        "n\n",
        "n Spiegelachsen durch den Mittelpunkt\n",
        "\n",
        "    * $D_{1}$: Einzelne Achsenspiegelung\n",
        "\n",
        "    * $D_{2}$: Symmetriegruppe eines nicht quadratischen Rechtecks, einer nicht quadratischen Raute (D2 ist isomorph zur Kleinschen Vierergruppe)\n",
        "\n",
        "    * $D_{n}$: Symmetriegruppe eines regelmäßigen n-Ecks\n",
        "\n",
        "* **Mit Verschiebungen**, die alle kollinear sind (Span der Translationen hat Rang 1): 7 [Friesgruppen](https://de.wikipedia.org/wiki/Friesgruppe)\n",
        "\n",
        "* **Mit mindestens zwei linear unabhängigen Verschiebungen**: [17 ebene kristallographische Gruppen](https://de.wikipedia.org/wiki/Ebene_kristallographische_Gruppe)\n",
        "\n",
        "**Nicht diskret**\n",
        "\n",
        "  * Ohne Verschiebungen: [Orthogonale Gruppe](https://de.wikipedia.org/wiki/Orthogonale_Gruppe) $O(2)$, das sind alle Symmetrien eines Kreises, also alle Drehungen und alle Spiegelungen an Achsen, die durch den Mittelpunkt gehen"
      ]
    },
    {
      "cell_type": "markdown",
      "metadata": {
        "id": "Td_9fFZ4kvXi"
      },
      "source": [
        "##### **Punktgruppe (Symmetriegruppe)**"
      ]
    },
    {
      "cell_type": "markdown",
      "metadata": {
        "id": "XCYIfb8FK16h"
      },
      "source": [
        "* Eine [Punktgruppe](https://de.wikipedia.org/wiki/Punktgruppe) ist ein **spezieller Typus einer Symmetriegruppe** der euklidischen Geometrie, der die Symmetrie eines endlichen Körpers beschreibt. \n",
        "\n",
        "* Alle Punktgruppen zeichnen sich dadurch aus, dass es einen Punkt gibt, der durch alle Symmetrieoperationen der Punktgruppe wieder auf sich selbst abgebildet wird.\n",
        "\n",
        "* Die Symmetrie eines Körpers wird mathematisch als Menge aller möglichen Symmetrieoperationen beschrieben (Symmetriegruppe). Mit Symmetrieoperationen sind dabei euklidische Bewegungen gemeint, die den Körper auf sich abbilden. Zu unterscheiden sind dabei gerade Bewegungen, welche die Orientierung erhalten und ungerade, welche die Orientierung umkehren, z. B. Spiegelungen an Ebenen.\n",
        "\n",
        "* Mögliche Symmetrieoperationen in Punktgruppen im dreidimensionalen, euklidischen Vektorraum sind die Symmetrieoperationen, die mindestens einen Fixpunkt besitzen: \n",
        "\n",
        "  * **Identitätsabbildung**, \n",
        "  \n",
        "  * **Punktspiegelung** an einem Inversionszentrum, \n",
        "  \n",
        "  * **Spiegelung** an einer Spiegelebene, \n",
        "  \n",
        "  * **Drehung** um eine Drehachse, \n",
        "  \n",
        "  * sowie als **Kombination daraus Drehspiegelung bzw. die gleichwertige Drehinversion**. \n",
        "\n",
        "  * Nicht: Die **Translation, die Schraubung und die Gleitspiegelung** können keine Elemente einer Punktgruppe sein, da sie keinen Fixpunkt besitzen.\n",
        "\n",
        "\n",
        "* Wenn man das Hintereinanderausführen von Symmetrieoperationen als additive Verknüpfung auffasst, erkennt man, dass eine Menge von Symmetrieoperationen eine (in der Regel nicht kommutative) Gruppe ist.\n",
        "\n",
        "\n"
      ]
    },
    {
      "cell_type": "markdown",
      "metadata": {
        "id": "XrSgYJo8QkWj"
      },
      "source": [
        "* Aufgrund des [Neumannschen Prinzips](https://de.wikipedia.org/wiki/Neumannsches_Prinzip) bestimmt die Punktgruppe die makroskopischen Eigenschaften des Körpers. Weitere Aussagen lassen sich mit Hilfe der Darstellungstheorie gewinnen.\n",
        "\n",
        "  * **Das Neumannsche Prinzip ist ein Symmetrieprinzip. Es verknüpft die Struktur eines Kristalls mit seinen physikalischen Eigenschaften.**\n",
        "\n",
        "  * Das Neumannsche Prinzip besagt, dass die Symmetrie der physikalischen Eigenschaften eines Kristalls die Symmetrieelemente der Punktgruppe des Kristalls enthalten muss.\n",
        "  \n",
        "  * Die physikalischen Eigenschaften eines Kristalls sind im Allgemeinen anisotrop. Sie hängen sowohl von der Richtung der einwirkenden Kraft, als auch von der Richtung der untersuchten Wirkung ab. Daher werden diese Eigenschaften mit Hilfe von Tensoren beschrieben. Das Neumannsche Prinzip verlangt, dass jede Symmetrieabbildung des Kristalls auch eine Symmetrieabbildung dieses Tensors sein muss. \n",
        "\n",
        "* Verwendet werden die Punktgruppen in der [Molekülphysik](https://de.wikipedia.org/wiki/Molekülphysik) und der [Kristallographie](https://de.wikipedia.org/wiki/Kristallographie), wo die 32 kristallographischen Punktgruppen auch Kristallklassen genannt werden. Bezeichnet werden die Punktgruppen in der [Schoenflies-Notation](https://de.wikipedia.org/wiki/Schoenflies-Symbolik). \n",
        "\n",
        "* In der Kristallographie wird inzwischen hauptsächlich die [Hermann-Mauguin-Symbolik](https://de.wikipedia.org/wiki/Hermann-Mauguin-Symbolik) verwendet. (Ihr Hauptanwendungsgebiet ist die Beschreibung der 32 kristallographischen Punktgruppen und der 230 kristallographischen Raumgruppen.)\n",
        "\n",
        "* Siehe auch [Kristallsystem](https://de.wikipedia.org/wiki/Kristallsystem) und Beispiele triklin, monoklin, orthorhombisch etc."
      ]
    },
    {
      "cell_type": "markdown",
      "metadata": {
        "id": "oT8tI_uOMvVD"
      },
      "source": [
        "**In den drei Raumdimensionen ergeben sich 32 mögliche kristallographische Punktgruppen**. Sie werden gemäß Schoenflies in folgende Untergruppen eingeordnet.\n",
        "\n",
        "Die diskreten Punktgruppen mit maximal einer ausgezeichneten \n",
        "n-zähligen Drehachse können zusätzlich mit Spiegelebenen und zweizähligen Drehachsen kombiniert sein. Insgesamt gibt es folgende Möglichkeiten:\n",
        "\n",
        "* [Drehgruppen](https://de.wikipedia.org/wiki/Drehgruppe): C\n",
        "\n",
        "* [Drehspiegelgruppen](https://de.wikipedia.org/wiki/Drehspiegelgruppe): S\n",
        "\n",
        "* [Diedergruppen](https://de.wikipedia.org/wiki/Diedergruppe): D\n",
        "\n",
        "Die Punktgruppen, die mindestens zwei Drehachsen mit einer Zähligkeit größer zwei besitzen, entsprechen den Symmetriegruppen der platonischen Körper.\n",
        "\n",
        "\n",
        "* [Tetraedergruppen](https://de.wikipedia.org/wiki/Tetraedergruppe): T\n",
        "\n",
        "* [Oktaedergruppen](https://de.wikipedia.org/wiki/Oktaedergruppe): O\n",
        "\n",
        "* [Ikosaedergruppen](https://de.wikipedia.org/wiki/Ikosaedergruppe): I\n",
        "\n",
        "Die kontinuierlichen Punktgruppen werden auch Curie-Gruppen genannt. Sie bestehen aus den Zylindergruppen (mit einer unendlichzähligen Drehachse) und den Kugelgruppen (mit zwei unendlichzähligen Drehachsen).\n",
        "\n",
        "* [Kugelgruppen (Curie-Gruppen)](https://de.wikipedia.org/wiki/Curie-Gruppe): K"
      ]
    },
    {
      "cell_type": "markdown",
      "metadata": {
        "id": "lkRRFvUTO-S5"
      },
      "source": [
        "**Siehe hier die: [Die 32 kristallographischen Punktgruppen (Kristallklassen)](https://de.wikipedia.org/wiki/Punktgruppe#Die_32_kristallographischen_Punktgruppen_(Kristallklassen))** sowie zusatzlich die [Punktgruppen in der Molekülphysik](https://de.wikipedia.org/wiki/Punktgruppe#Punktgruppen_in_der_Molekülphysik)"
      ]
    },
    {
      "cell_type": "markdown",
      "metadata": {
        "id": "yxBdAnxzNkm4"
      },
      "source": [
        "*Beispiel (**Friesgruppen**): Eine Gruppe des Typs F1 enthält nur Translationen. **Gruppen des Typs F2 enthalten Translationen sowie Punktspiegelungen an Zentren**. Bandornamentgruppen dieses Typs enthalten Translationen sowie Spiegelungen an Achsen senkrecht zu Friesrichtung.*\n",
        "\n",
        "![fff](https://raw.githubusercontent.com/deltorobarba/repo/master/friesgruppe.png)"
      ]
    },
    {
      "cell_type": "markdown",
      "metadata": {
        "id": "qF8T8Eiak11U"
      },
      "source": [
        "##### **Raumgruppe (Symmetriegruppe)**"
      ]
    },
    {
      "cell_type": "markdown",
      "metadata": {
        "id": "Tl-B38VuQtSd"
      },
      "source": [
        "* Eine kristallographische [Raumgruppe](https://de.wikipedia.org/wiki/Raumgruppe) oder kurz Raumgruppe **beschreibt mathematisch die Symmetrie der Anordnung von Atomen, Ionen und Molekülen in einer Kristallstruktur**. Der Begriff „Gruppe“ stammt aus der Gruppentheorie.\n",
        "\n",
        "* Beispielsweise kann ein Bestandteil (etwa ein Sulfat-Ion) der Struktur durch Spiegelung oder Drehung eines anderen Bestandteils (in diesem Falle eines anderen Sulfations) erhalten werden. **Zur Beschreibung der kompletten Kristallstruktur ist dann nur die Beschreibung des ersten Ions notwendig**, das zweite Ion wird durch die Symmetrieoperation der Spiegelung oder Drehung erhalten.\n",
        "\n",
        "*  Die Abbildung unten zeigt das am Beispiel der Kristallstruktur von Eis. Der rechte Sechsring ist das Spiegelbild des linken Sechsrings; die Raumgruppe gibt (neben anderen) diese Symmetrieeigenschaft wieder."
      ]
    },
    {
      "cell_type": "markdown",
      "metadata": {
        "id": "XVaWcQRoQ6RI"
      },
      "source": [
        "*Spiegelsymmetrie in der Kristallstruktur von Eis*\n",
        "\n",
        "![hh](https://upload.wikimedia.org/wikipedia/commons/thumb/9/93/Mirror_plane_in_the_ice_structure.png/470px-Mirror_plane_in_the_ice_structure.png)"
      ]
    },
    {
      "cell_type": "markdown",
      "metadata": {
        "id": "5A0vdypkRdKz"
      },
      "source": [
        "* Die Raumgruppe ist eine diskrete Untergruppe der [euklidischen Bewegungsgruppe](https://de.wikipedia.org/wiki/Bewegung_(Mathematik)#Die_Bewegungsgruppe_(Euklidische_Gruppe)) eines euklidischen (affinen) Raums mit beschränktem Fundamentalbereich.\n",
        "\n",
        "* *Euklidischen Bewegungsgruppe: Die Hintereinanderausführung zweier Bewegungen ergibt wieder eine Bewegung. Die Bewegungen bilden also eine Gruppe, die Bewegungsgruppe oder euklidische Gruppe.*\n",
        "\n",
        "* Die Raumgruppen gehören zu den Symmetriegruppen und werden üblicherweise mithilfe der Hermann-Mauguin-Symbolik oder manchmal auch in der Schoenflies-Symbolik beschrieben.\n",
        "\n",
        "* Während sich die kristallographischen Punktgruppen aus nicht-translativen Symmetrieoperationen (z. B. Rotationen oder Spiegelungen) zusammensetzen, wird bei der Bestimmung der unterschiedlichen Raumgruppen diese Forderung aufgeweicht zugunsten translativer Symmetrieoperationen (daraus ergeben sich z. B. [Gleitspiegelebenen](https://de.wikipedia.org/wiki/Gleitspiegelung) und [Schraubenachsen](https://de.wikipedia.org/wiki/Schraubung)) und den Gittertranslationen. Daraus ergibt sich eine Vielzahl neuer Symmetriegruppen, die Raumgruppen."
      ]
    },
    {
      "cell_type": "markdown",
      "metadata": {
        "id": "iCXy1XplS8Ng"
      },
      "source": [
        "Die Isometriegruppe $\\operatorname{Isom}\\left(\\mathbb{R}^{n}\\right)$ des $n$ -dimensionalen euklidischen Raumes $\\mathbb{R}^{n}$ ist die Gruppe\n",
        "\n",
        ">$\n",
        "\\operatorname{Isom}\\left(\\mathbb{R}^{n}\\right)=O(n) \\ltimes \\mathbb{R}^{n},\n",
        "$\n",
        "\n",
        "wobei $O(n)$ die orthogonale Gruppe, bestehend aus Spiegelungen und Drehungen um den Nullpunkt ist und $\\mathbb{R}^{n}$ als Gruppe der Verschiebungen des $\\mathbb{R}^{n}$ aufgefasst wird.\n",
        "\n",
        "Eine kristallographische Gruppe vom Rang $n$ ist eine diskrete und kokompakte Untergruppe von $\\operatorname{Isom}\\left(\\mathbb{R}^{n}\\right)$. (Eine Untergruppe $\\Gamma \\subset \\operatorname{Isom}\\left(\\mathbb{R}^{n}\\right)$ heißt diskret, wenn es zu keinem $\\gamma \\in \\Gamma$ eine Folge $\\left(\\gamma_{n}\\right)_{n} \\subset \\Gamma$ mit $\\gamma_{n} \\neq \\gamma$ und $\\lim _{n \\rightarrow \\infty} \\gamma_{n}=\\gamma$ gibt. Sie heißt kokompakt, wenn der Quotientenraum $\\Gamma \\backslash \\mathbb{R}^{n}$ kompakt ist.)\n",
        "\n",
        "Eine Bieberbach-Gruppe ist eine torsionsfreie kristallographische Gruppe. (Eine Gruppe $\\Gamma$ mit neutralem Element $e$ heißt torsionsfrei, wenn aus $\\gamma \\neq e$ und $n \\neq 0$ stets $\\gamma^{n} \\neq e$ folgt.)"
      ]
    },
    {
      "cell_type": "markdown",
      "metadata": {
        "id": "Jh8K1nGATqiW"
      },
      "source": [
        "**Eine vollständige Liste der 230 dreidimensionalen Raumgruppen ist in der [Liste der Raumgruppen](https://de.wikipedia.org/wiki/Liste_der_Raumgruppen) zu finden.**\n",
        "\n",
        "* Liste der triklinen Raumgruppen\n",
        "*\tListe der monoklinen Raumgruppen\n",
        "*\tListe der orthorhombischen Raumgruppen\n",
        "*\tListe der tetragonalen Raumgruppen\n",
        "*\tListe der trigonalen Raumgruppen\n",
        "*\tListe der hexagonalen Raumgruppen\n",
        "* Liste der kubischen Raumgruppen"
      ]
    },
    {
      "cell_type": "markdown",
      "metadata": {
        "id": "tSc2sBCXjgUq"
      },
      "source": [
        "##### **Alternierende Gruppe $A_{n}$**"
      ]
    },
    {
      "cell_type": "markdown",
      "metadata": {
        "id": "2JCkRCpiiSv2"
      },
      "source": [
        "* Die [alternierende Gruppe](https://de.m.wikipedia.org/wiki/Alternierende_Gruppe) vom Grad $n$ besteht aus allen geraden Permutationen einer $n$ elementigen Menge. Die Verknüpfung der Gruppe ist die Verkettung (Hintereinanderausführung) der Permutationen. Meist wird einfach von der alternierenden Gruppe $A_{n}$ gesprochen.\n",
        "\n",
        "* **Die alternierenden Gruppen sind Untergruppen der entsprechenden symmetrischen Gruppen $S_{n}$.**\n",
        "\n",
        "* Eine besondere Bedeutung kommt der alternierenden Gruppe $A_{5}$ zu. Dass sie der einzige nicht-triviale Normalteiler von $S_{5}$ ist, ist ein wichtiger Bestandteil des Beweises des Satzes von Abel-Ruffini. Dieser Satz aus dem beginnenden 19. Jahrhundert besagt, dass Polynomgleichungen fünften oder höheren Grades nicht durch Wurzelausdrücke\n",
        "lösbar sind."
      ]
    },
    {
      "cell_type": "markdown",
      "metadata": {
        "id": "-eYfKvd1kEkY"
      },
      "source": [
        "##### **Didiergruppe D (Dihedral Group)**"
      ]
    },
    {
      "cell_type": "markdown",
      "metadata": {
        "id": "5K2ltcT_D9_D"
      },
      "source": [
        "* when the shape is a regular [polygon](https://de.wikipedia.org/wiki/Polygon), the group of symmetries is called the dihedral group bzw. [Didiergruppe](https://de.m.wikipedia.org/wiki/Diedergruppe)\n",
        "\n",
        "  * Ein Polygon ist ein zweidimensionales [Polytop](https://de.wikipedia.org/wiki/Polytop_(Geometrie))\n",
        "\n",
        "* dihedral means 'two faces' and is related to polyhedron which means 'many faces'\n",
        "\n",
        "* analysis of symmetries for a regular polygon with n sides\n",
        "\n",
        "* possible transformations:\n",
        "\n",
        "  * nothing, e for identity\n",
        "\n",
        "  * rotation (r) by $\\theta=(360 / \\mathrm{n})^{\\circ}$ bzw. $\\theta=2 \\pi / \\mathrm{n}$ radians\n",
        "\n",
        "  * reflection (f for flip)\n",
        "\n",
        "  * combination of R and F (i.e. first flip, then reflect)\n",
        "\n",
        "* in total of 2n different symmetries for a regular n-side polygon: \n",
        "\n",
        "  * $\\begin{array}{lllll}\\text { e, } & r, & r^{2}, & \\ldots, & r^{n-1}\\end{array}$ \n",
        "  \n",
        "  * $f, \\quad r \\cdot f, \\quad r^{2} \\cdot f, \\ldots, \\quad r^{n-1} \\cdot f$\n",
        "\n",
        "* it's non-abelian (non commutative), because results are different if you flip and rotate, or first rotate and then flip, r * f ≠ f * r\n",
        "\n",
        "* dihedral group is a finite group ! (because there is only a finite number of elements in this group)"
      ]
    },
    {
      "cell_type": "markdown",
      "metadata": {
        "id": "G4Iz1hZFvy_i"
      },
      "source": [
        "https://www.youtube.com/watch?v=rPh7EQPSaO4&list=PLi01XoE8jYoi3SgnnGorR_XOW3IcK-TP6&index=18"
      ]
    },
    {
      "cell_type": "markdown",
      "metadata": {
        "id": "4oNU5K5YPdbg"
      },
      "source": [
        "![cc](https://raw.githubusercontent.com/deltorobarba/repo/master/dihedral.png)"
      ]
    },
    {
      "cell_type": "markdown",
      "metadata": {
        "id": "OYLvRwHgT3FT"
      },
      "source": [
        "##### **Orthogonal Groups $O_{n}$, $SO_{n}$ & Spin Groups**"
      ]
    },
    {
      "cell_type": "markdown",
      "metadata": {
        "id": "k-MoWILqXcBf"
      },
      "source": [
        "**Orthogonale Gruppe**"
      ]
    },
    {
      "cell_type": "markdown",
      "metadata": {
        "id": "cQwH3JZGX2wE"
      },
      "source": [
        "* Die [orthogonale Gruppe](https://de.wikipedia.org/wiki/Orthogonale_Gruppe) $\\mathrm{O}(n)$ ist die Gruppe der orthogonalen $(n \\times n)$ Matrizen mit reellen Elementen. Die Verknüpfung der orthogonalen Gruppe ist die Matrizenmultiplikation. \n",
        "\n",
        "* **Bei der orthogonalen Gruppe handelt es sich um eine Lie-Gruppe der Dimension $\\frac{n(n-1)}{2}$**. \n",
        "\n",
        "* Da die Determinante einer orthogonalen Matrix nur die Werte $\\pm 1$ annehmen kann, zerfällt $\\mathrm{O}(n)$ in die beiden disjunkten Teilmengen (topologisch: Zusammenhangskomponenten)\n",
        "\n",
        "  * die Drehgruppe $\\mathrm{SO}(n)$ aller Drehungen (orthogonale Matrizen mit Determinante $+1$ ) \n",
        "  \n",
        "  * und $\\mathrm{O}(n) \\backslash \\mathrm{SO}(n)$ aller Drehspiegelungen (orthogonale Matrizen mit Determinante $-1$ ).\n",
        "\n",
        "* Die Untergruppe $\\mathrm{SO}(n)$ heißt die spezielle orthogonale Gruppe. Insbesondere ist die $\\mathrm{SO}(3)$ als die [Gruppe aller Drehungen](https://de.wikipedia.org/wiki/Drehgruppe) um eine durch den Koordinatenursprung verlaufende Achse im dreidimensionalen Raum von großer Bedeutung in zahlreichen Anwendungen, wie etwa der Computergraphik oder der Physik."
      ]
    },
    {
      "cell_type": "markdown",
      "metadata": {
        "id": "XR1eyqoQPjEb"
      },
      "source": [
        "Ausgehend von einem $n$ -dimensionalen euklidischen Vektorraum $V$ mit einem Skalarprodukt $\\langle\\cdot, \\cdot\\rangle: V \\times V \\rightarrow \\mathbb{R}$ definiert man:\n",
        "Ein Endomorphismus $f: V \\rightarrow V$ heißt orthogonal, falls $f$ das Skalarprodukt erhält, also falls für alle $u, v \\in V$ gilt:\n",
        "\n",
        ">$\n",
        "\\langle f(u), f(v)\\rangle=\\langle u, v\\rangle\n",
        "$\n",
        "\n",
        "Eine lineare Abbildung erhält genau dann das Skalarprodukt, wenn sie längen- und winkeltreu ist. \n",
        "\n",
        "**Die Menge aller orthogonalen Selbstabbildungen von $V$ heißt die orthogonale Gruppe von $V$, geschrieben als $\\mathrm{O}(V)$.**\n",
        "\n",
        "Bezüglich einer Orthonormalbasis von $V$ werden orthogonale Endomorphismen durch orthogonale Matrizen dargestellt. Gleichbedeutend hierzu ist folgende Formulierung: Versieht man den $\\mathbb{R}^{n}$ mit dem Standardskalarprodukt, so ist die Abbildung $\\mathbb{R}^{n} \\ni x \\mapsto A \\cdot x \\in \\mathbb{R}^{n}$ genau dann orthogonal, wenn die Matrix $A$ orthogonal ist."
      ]
    },
    {
      "cell_type": "markdown",
      "metadata": {
        "id": "e5y7_AZ9V6v0"
      },
      "source": [
        "**Special Orthogonal Group) $\\mathrm{SO}(2)$ (Drehgruppe / 2D rotation group)**"
      ]
    },
    {
      "cell_type": "markdown",
      "metadata": {
        "id": "2mfdpdztWwb7"
      },
      "source": [
        "* [Zweidimensionale Drehung](https://de.wikipedia.org/wiki/Drehgruppe#Zweidimensionale_Drehungen) / [Kreisgruppe](https://de.wikipedia.org/wiki/Kreisgruppe):\n",
        "\n",
        "* Die Kreisgruppe $SO(2)\\cong S^{1}$ oder Torusgruppe $\\mathbb{T}$  ist die Lie-Gruppe, die die Drehungen um einen festen Punkt im zweidimensionalen Raum (einer Ebene) zusammenfasst und die Hintereinanderausführung dieser Drehungen beschreibt. \n",
        "\n",
        "* Eine solche Drehung lässt sich eindeutig durch einen Winkel beschreiben, die Hintereinanderausführung zweier Drehungen entspricht gerade der Drehung um die Summe der beiden Winkel der einzelnen Drehungen. Eine volle Umdrehung wird dabei wiederum mit keiner Drehung identifiziert."
      ]
    },
    {
      "cell_type": "markdown",
      "metadata": {
        "id": "WWQXBG8xXVZD"
      },
      "source": [
        "*Die Hintereinanderausführung von Drehungen entspricht der Addition von Winkeln, hier: 150° + 270° = 420° = 60°*\n",
        "\n",
        "![ggg](https://upload.wikimedia.org/wikipedia/commons/a/aa/Circle-group.svg)"
      ]
    },
    {
      "cell_type": "markdown",
      "metadata": {
        "id": "dI5Kh05sTkX7"
      },
      "source": [
        "*Ebene Drehung*: Folgende $(2 \\times 2)$ -Matrizen $D\\left(\\varphi_{j}\\right) \\in \\mathrm{SO}(2)$ beschreiben zweidimensionale Drehungen um die Winkel $\\left.\\varphi_{j} \\in\\right] 0 ; \\pi[\\cup] \\pi ; 2 \\pi[$ der Form\n",
        "\n",
        "> $D(\\varphi)=\\left(\\begin{array}{cc}\\cos \\varphi & -\\sin \\varphi \\\\ \\sin \\varphi & \\cos \\varphi\\end{array}\\right)$\n",
        "\n",
        "Jedes $\\varphi_{j}$ gehört dabei zu einem Paar konjugiert komplexer Eigenwerte $\\mathrm{e}^{\\pm \\mathrm{i} \\cdot \\varphi_{j}}$. Dabei gilt natürlich $p+m+2 d=n$, falls $p$ die Anzahl der Diagonalelemente mit Wert $+1$ und $m$ die Anzahl der Diagonalelemente mit Wert $-1$ repräsentieren. Offenbar ist $A$ genau dann eine Drehung, wenn $m$, die geometrische wie auch algebraische Vielfachheit des Eigenwertes $-1$, eine gerade Zahl ist."
      ]
    },
    {
      "cell_type": "markdown",
      "metadata": {
        "id": "lQLqmR6fTUXs"
      },
      "source": [
        "*Ebene Drehspiegelung*: Neben den ebenen Drehungen, die den Matrizen $D(\\varphi) \\in \\mathrm{SO}(2)$ entsprechen, sind auch die Drehspiegelungen\n",
        "\n",
        "> $\n",
        "S(\\varphi)=\\left(\\begin{array}{cc}\n",
        "\\cos \\varphi & \\sin \\varphi \\\\\n",
        "\\sin \\varphi & -\\cos \\varphi\n",
        "\\end{array}\\right)\n",
        "$\n",
        "\n",
        "orthogonale Matrizen. Die Eigenwerte von $S$ sind 1 und $-1$; folglich handelt es sich um eine Achsenspiegelung die sich nach einer Drehung des Koordinatensystems um $\\frac{\\varphi}{2}$ als $\\left(\\begin{array}{cc}1 & 0 \\\\ 0 & -1\\end{array}\\right)$ schreiben lässt."
      ]
    },
    {
      "cell_type": "markdown",
      "metadata": {
        "id": "O_kK64geYCrR"
      },
      "source": [
        "**Special Orthogonal Group $\\mathrm{SO}(3)$ (Drehgruppe / 3D rotation group)**"
      ]
    },
    {
      "cell_type": "markdown",
      "metadata": {
        "id": "Fjm61K_jYe9x"
      },
      "source": [
        "* Die [Drehgruppe](https://de.wikipedia.org/wiki/Drehgruppe) bzw. [3D rotation group](https://en.wikipedia.org/wiki/3D_rotation_group) im engeren Sinn ist die spezielle orthogonale Gruppe $\\mathrm{SO}(n)$ oder auch $\\mathrm{SO}(n, \\mathbb{R})$ aller Drehungen im reellen dreidimensionalen Raum (falls $n=3$ ) oder in der reellen Ebene (falls $n=2$ ), in letzterem Fall heißt sie Kreisgruppe. \n",
        "\n",
        "* Ihre Elemente sind die [Drehmatrizen](https://de.wikipedia.org/wiki/Drehmatrix), also orthogonale Matrizen mit Determinante eins."
      ]
    },
    {
      "cell_type": "markdown",
      "metadata": {
        "id": "4LbQfMdXUuAQ"
      },
      "source": [
        "*Räumliche Drehung*: Nach der oben beschriebenen Normalform lässt sich jede\n",
        "Drehung im Raum durch Wahl einer geeigneten Orthonormalbasis durch eine Matrix\n",
        "\n",
        ">$\n",
        "D_{1}(\\varphi)=\\left(\\begin{array}{ccc}\n",
        "1 & 0 & 0 \\\\\n",
        "0 & \\cos \\varphi & -\\sin \\varphi \\\\\n",
        "0 & \\sin \\varphi & \\cos \\varphi\n",
        "\\end{array}\\right)\n",
        "$\n",
        "\n",
        "beschreiben, wobei mit $\\varphi \\in[0 ; 2 \\pi[$ auch alle Sonderfälle erfasst werden. Die genannte Matrix $D_{1}(\\varphi)$ beschreibt eine Drehung um die $x_{1}$ -Achse. Insbesondere verfügt jede echte räumliche Drehung über eine Drehachse. \n",
        "\n",
        "Fischer verdeutlicht dies am\n",
        "Beispiel eines Fußballes auf dem Anstoßpunkt: Nach dem ersten\n",
        "Tor gibt es zwei sich gegenüberliegende Punkte auf dem Ball, die jetzt exakt genauso zum Stadion ausgerichtet sind, wie zu Beginn des Spieles. Der Winkel $\\varphi$ ist aufgrund des orientierungserhaltenden Charakters der zugelassenen Transformationsmatrizen $P \\in \\mathrm{SO}(3)$ eindeutig festgelegt; dies geht mit der aus dem Alltag bekannten Erfahrung einher, dass es - zumindest theoretisch - stets feststeht, in welche Richtung man eine Schraube drehen muss, um diese fester anzuziehen."
      ]
    },
    {
      "cell_type": "markdown",
      "metadata": {
        "id": "33jdDfMbU_Vj"
      },
      "source": [
        "*Räumliche Drehspiegelung*: Nach der oben beschriebenen Normalform lässt sich jede\n",
        "Drehspiegelung im Raum durch Wahl einer geeigneten Orthonormalbasis durch eine Matrix\n",
        "\n",
        ">$\n",
        "\\left(\\begin{array}{ccc}\n",
        "-1 & 0 & 0 \\\\\n",
        "0 & \\cos \\varphi & -\\sin \\varphi \\\\\n",
        "0 & \\sin \\varphi & \\cos \\varphi\n",
        "\\end{array}\\right)\n",
        "$\n",
        "\n",
        "beschreiben, wobei mit $\\varphi \\in[0 ; 2 \\pi[$ auch alle Sonderfälle erfasst werden. Auch hier ist der Winkel $\\varphi$ eindeutig, sofern man die\n",
        "Orientierung des Raumes nicht umkehrt."
      ]
    },
    {
      "cell_type": "markdown",
      "metadata": {
        "id": "DD4ku9gqVpPx"
      },
      "source": [
        "**Special Orthogonal Group $\\mathrm{SO}(4)$**"
      ]
    },
    {
      "cell_type": "markdown",
      "metadata": {
        "id": "-9EWFZeTVNv7"
      },
      "source": [
        "*Eine doppelte Drehung im vierdimensionalen Raum*: Im vierdimensionalen Raum ist eine gleichzeitige Drehung mit zwei unabhängigen Drehwinkeln möglich:\n",
        "\n",
        ">$\n",
        "D(\\varphi, \\psi)=\\left(\\begin{array}{cc}\n",
        "D(\\varphi) & 0 \\\\\n",
        "0 & D(\\psi)\n",
        "\\end{array}\\right) \\in \\mathrm{SO}(4)\n",
        "$\n",
        "\n",
        "Vertauscht man bei einer zweidimensionalen Drehung $D(\\varphi)$ die beiden Basisvektoren, so erhält man die Drehung $D(2 \\pi-\\varphi)$. Das ist nicht verwunderlich, hat man doch gleichzeitig die Orientierung der Ebene verändert. Vertauscht man nun im vorliegenden Beispiel gleichzeitig den ersten mit dem zweiten wie auch den dritten mit dem vierten Basisvektor, so bleibt die Orientierung erhalten, aber aus $D(\\varphi, \\psi)$ wird $D(2 \\pi-\\varphi, 2 \\pi-\\psi)$"
      ]
    },
    {
      "cell_type": "markdown",
      "metadata": {
        "id": "z1UCLDxQXfb0"
      },
      "source": [
        "**Special Orthogonal Group $\\mathrm{SO}(8)$**"
      ]
    },
    {
      "cell_type": "markdown",
      "metadata": {
        "id": "jyLZjFQjZJ0O"
      },
      "source": [
        "* [SO(8)](https://en.wikipedia.org/wiki/SO(8)) is the special orthogonal group acting on eight-dimensional Euclidean space. It could be either a real or complex simple Lie group of rank 4 and dimension 28.\n",
        "\n",
        "* Like all special orthogonal groups of $n>2, \\mathrm{SO}(8)$ is not [simply connected](https://en.wikipedia.org/wiki/Simply_connected_space), having a [fundamental group](https://en.wikipedia.org/wiki/Fundamental_group) isomorphic to $\\mathrm{Z}_{2}$. The universal cover of $\\mathrm{SO}(8)$ is the spin group $\\operatorname{Spin}(8)$."
      ]
    },
    {
      "cell_type": "markdown",
      "metadata": {
        "id": "yMNvBMiPerMS"
      },
      "source": [
        "*SO(8) and Unit Octonions*\n",
        "\n",
        "* Elements of SO(8) can be described with unit octonions, analogously to how elements of SO(2) can be described with unit complex numbers and elements of SO(4) can be described with unit quaternions. \n",
        "\n",
        "* However the relationship is more complicated, partly due to the non-associativity of the octonions. A general element in SO(8) can be described as the product of 7 left-multiplications, 7 right-multiplications and also 7 bimultiplications by unit octonions (a bimultiplication being the composition of a left-multiplication and a right-multiplication by the same octonion and is unambiguously defined due to octonions obeying the Moufang identities).\n",
        "\n",
        "* It can be shown that an element of SO(8) can be constructed with bimultiplications, by first showing that pairs of reflections through the origin in 8-dimensional space correspond to pairs of bimultiplications by unit octonions. The triality automorphism of Spin(8) described below provides similar constructions with left multiplications and right multiplications."
      ]
    },
    {
      "cell_type": "markdown",
      "metadata": {
        "id": "lcJZaxaAdhTx"
      },
      "source": [
        "**Spin Group**"
      ]
    },
    {
      "cell_type": "markdown",
      "metadata": {
        "id": "1t-EwENrdmP8"
      },
      "source": [
        "* Die [Spin-Gruppe](https://de.wikipedia.org/wiki/Spin-Gruppe) bzw. [Spin group](https://en.wikipedia.org/wiki/Spin_group) ist ein Objekt aus der Mathematik und Physik, insbesondere aus den Bereichen der Spektralgeometrie und Quantenmechanik. \n",
        "\n",
        "* Eine zentrale Eigenschaft der Spin-Gruppe \n",
        "Spin $\\operatorname {Spin} (n)$ ist, dass sie eine 2-fache Überlagerung der Drehgruppe $SO(n)$ ist.\n",
        "\n",
        "* The spin group is used in physics to describe the symmetries of (electrically neutral, uncharged) fermions."
      ]
    },
    {
      "cell_type": "markdown",
      "metadata": {
        "id": "en_F0jKMkORe"
      },
      "source": [
        "##### **Quaternionengruppe Q8**"
      ]
    },
    {
      "cell_type": "markdown",
      "metadata": {
        "id": "FvzzqaDckRiR"
      },
      "source": [
        "https://de.m.wikipedia.org/wiki/Quaternionengruppe"
      ]
    },
    {
      "cell_type": "markdown",
      "metadata": {
        "id": "3K0iKodmxtTl"
      },
      "source": [
        "##### **Sporadische Gruppe**"
      ]
    },
    {
      "cell_type": "markdown",
      "metadata": {
        "id": "CvSWtLptj9mh"
      },
      "source": [
        "**Sporadische Gruppe**"
      ]
    },
    {
      "cell_type": "markdown",
      "metadata": {
        "id": "9qg1GeNmkJOV"
      },
      "source": [
        "Die [sporadischen Gruppen](https://de.m.wikipedia.org/wiki/Sporadische_Gruppe) sind 26 spezielle Gruppen in der Gruppentheorie. Es handelt sich um die [endlichen einfachen Gruppen](https://de.m.wikipedia.org/wiki/Endliche_einfache_Gruppe), die sich nicht in eine der [(18) systematischen Familien mit unendlich vielen Mitgliedern](https://de.m.wikipedia.org/wiki/Endliche_einfache_Gruppe#Familien_endlicher_einfacher_Gruppen) (von endlichen einfachen Gruppen) einordnen lassen."
      ]
    },
    {
      "cell_type": "markdown",
      "metadata": {
        "id": "Y24vIanNkC8l"
      },
      "source": [
        "**Baby-Monstergruppe**"
      ]
    },
    {
      "cell_type": "markdown",
      "metadata": {
        "id": "W6FzJy-fkFcR"
      },
      "source": [
        "https://de.m.wikipedia.org/wiki/Baby-Monstergruppe"
      ]
    },
    {
      "cell_type": "markdown",
      "metadata": {
        "id": "CWoNyFDIkGby"
      },
      "source": [
        "**Monstergruppe**"
      ]
    },
    {
      "cell_type": "markdown",
      "metadata": {
        "id": "GNAgG_goe1bL"
      },
      "source": [
        "https://de.m.wikipedia.org/wiki/Monstergruppe"
      ]
    },
    {
      "cell_type": "markdown",
      "metadata": {
        "id": "flSwiuvZxvYs"
      },
      "source": [
        "https://www.quantamagazine.org/mathematicians-chase-moonshine-string-theory-connections-20150312/"
      ]
    },
    {
      "cell_type": "markdown",
      "metadata": {
        "id": "wRsJ0z5cM5b7"
      },
      "source": [
        "##### **Lie-Gruppen & Lorentz-Gruppe**"
      ]
    },
    {
      "cell_type": "markdown",
      "metadata": {
        "id": "kCDcxSYncnbs"
      },
      "source": [
        "https://en.wikipedia.org/wiki/Root_system"
      ]
    },
    {
      "cell_type": "markdown",
      "metadata": {
        "id": "X3CvHaDAclQE"
      },
      "source": [
        "https://en.wikipedia.org/wiki/Dynkin_diagram"
      ]
    },
    {
      "cell_type": "markdown",
      "metadata": {
        "id": "InLisD3oNLOE"
      },
      "source": [
        "**Lie-Gruppe**"
      ]
    },
    {
      "cell_type": "markdown",
      "metadata": {
        "id": "OLMWbx40M0ck"
      },
      "source": [
        "https://de.wikipedia.org/wiki/Lie-Gruppe#Lie-Gruppe"
      ]
    },
    {
      "cell_type": "markdown",
      "metadata": {
        "id": "FLFwM3RuOTZy"
      },
      "source": [
        "[Beispiele fur Lie-Gruppen](https://de.wikipedia.org/wiki/Lie-Gruppe#Beispiele) sind: allgemeine lineare Gruppe, Orthogonale Gruppe, Unitäre Gruppe, Poincaré-Gruppe, Galilei-Gruppe,  etc."
      ]
    },
    {
      "cell_type": "markdown",
      "metadata": {
        "id": "d_Jf_ALONKEV"
      },
      "source": [
        "**Lorentz-Gruppe**"
      ]
    },
    {
      "cell_type": "markdown",
      "metadata": {
        "id": "6OR5KKx-NRoP"
      },
      "source": [
        "* Die [Lorentz-Gruppe](https://de.wikipedia.org/wiki/Lorentz-Gruppe) ist in der Physik und in der Mathematik die Gruppe aller [Lorentz-Transformationen](https://de.wikipedia.org/wiki/Lorentz-Transformation) der [Minkowski-Raumzeit](https://de.wikipedia.org/wiki/Minkowski-Raum).\n",
        "\n",
        "  * Die Lorentz-Transformationen bilden die Grundlage der Speziellen Relativitätstheorie von Albert Einstein.\n",
        "\n",
        "  * Das Äquivalent zu den Lorentz-Transformationen im dreidimensionalen euklidischen Raum sind die Galilei-Transformationen\n",
        "\n",
        "* Die Lorentz-Gruppe drückt die fundamentale Symmetrie (oder: die Automorphismen) vieler bekannter Naturgesetze dadurch aus, dass sie diese invariant lässt: so insbesondere die Bewegungsgleichungen der speziellen Relativitätstheorie, die Maxwellschen Feldgleichungen der Theorie des Elektromagnetismus, und die Dirac-Gleichung der Theorie des Elektrons."
      ]
    },
    {
      "cell_type": "markdown",
      "metadata": {
        "id": "6eBMRTBWR-CB"
      },
      "source": [
        "##### **Kleinsche Vierergruppe**"
      ]
    },
    {
      "cell_type": "markdown",
      "metadata": {
        "id": "kHSD2x7eSCAB"
      },
      "source": [
        "https://de.wikipedia.org/wiki/Kleinsche_Vierergruppe"
      ]
    },
    {
      "cell_type": "markdown",
      "metadata": {
        "id": "AnG5dzQVa8jV"
      },
      "source": [
        "##### **Matrixgruppen**"
      ]
    },
    {
      "cell_type": "markdown",
      "metadata": {
        "id": "XAcD9u5bbwMS"
      },
      "source": [
        "$\n",
        "\\begin{array}{|l|c|c|}\n",
        "\\hline & \\text { Finite Groups } & \\text { Infinite Groups } \\\\\n",
        "\\hline \\text { Abelian Groups } & \\text { Integers mod } n & \\mathbb{Z}, \\mathbb{Q}, \\mathbb{R}, \\mathbb{C} \\text { under }+ \\\\\n",
        "\\hline \\text { Non-Abelian Groups } & S_{n} \\text { for } n>2 & \\text { Matrices } \\\\\n",
        "\\hline\n",
        "\\end{array}\n",
        "$"
      ]
    },
    {
      "cell_type": "markdown",
      "metadata": {
        "id": "fohpI4qlbAQv"
      },
      "source": [
        "* Matrices are a great example of infinite, nonabelian groups.  Here we introduce matrix groups with an emphasis on the general linear group and special linear group.  The general linear group is written as GLn(F), where F is the field used for the matrix elements.  The most common examples are GLn(R) and GLn(C).  Similarly, the special linear group is written as SLn.\n"
      ]
    },
    {
      "cell_type": "markdown",
      "metadata": {
        "id": "XcW-aJW-d2CZ"
      },
      "source": [
        "* Real matrices under multiplication, n by n square matrices (for non square matrices you can find two elements that can not be multiplied together). Requirements of a group:\n",
        "  * **Identity**: I = nxn identity matrix\n",
        "  * **Associativity**: yes\n",
        "  * Just each matrix needs to have an **inverse** (a non-zero determinant: for M to have an inverse, det(M) ≠ 0\n",
        "  * This is a group, the general linear group!"
      ]
    },
    {
      "cell_type": "markdown",
      "metadata": {
        "id": "UNP6zHMccW3w"
      },
      "source": [
        "https://www.youtube.com/watch?v=AJTRwhSZJWw&list=PLi01XoE8jYoi3SgnnGorR_XOW3IcK-TP6&index=20"
      ]
    },
    {
      "cell_type": "markdown",
      "metadata": {
        "id": "E1E3vf4A6Y26"
      },
      "source": [
        "##### **Unitäre Gruppe $U (H)$ & Spezielle unitäre Gruppe $SU(n)$**"
      ]
    },
    {
      "cell_type": "markdown",
      "metadata": {
        "id": "efblXIfRhCEQ"
      },
      "source": [
        "* Die [unitäre Gruppe](https://de.m.wikipedia.org/wiki/Unitäre_Gruppe) $\\mathrm {U} (H)$ über einem komplexen Hilbertraum $H$ die Gruppe aller unitären komplex linearen Abbildungen über $H$. \n",
        "\n",
        "* Unitäre Gruppen und ihre Untergruppen spielen eine zentrale Rolle in der Quantenphysik, wo sie zur Beschreibung von Symmetrien der Wellenfunktion dienen."
      ]
    },
    {
      "cell_type": "markdown",
      "metadata": {
        "id": "6X-XO1Tu6fQC"
      },
      "source": [
        "https://de.m.wikipedia.org/wiki/Spezielle_unitäre_Gruppe"
      ]
    },
    {
      "cell_type": "markdown",
      "metadata": {
        "id": "UIPW4ZOnR07e"
      },
      "source": [
        "##### **Symplectic group $Sp(n)$**"
      ]
    },
    {
      "cell_type": "markdown",
      "metadata": {
        "id": "fJQhnQJzR6c5"
      },
      "source": [
        "https://en.m.wikipedia.org/wiki/Symplectic_group"
      ]
    },
    {
      "cell_type": "markdown",
      "metadata": {
        "id": "IsgGqRO1OE2b"
      },
      "source": [
        "##### **Allgemeine lineare Gruppe**"
      ]
    },
    {
      "cell_type": "markdown",
      "metadata": {
        "id": "w1kXKjplOJO2"
      },
      "source": [
        "https://de.wikipedia.org/wiki/Allgemeine_lineare_Gruppe"
      ]
    },
    {
      "cell_type": "markdown",
      "metadata": {
        "id": "1ynBhMdIlrwJ"
      },
      "source": [
        "##### **Coxeter Gruppe (inkl. Diedergruppe $D_{n}$)**"
      ]
    },
    {
      "cell_type": "markdown",
      "metadata": {
        "id": "yOnxYDjAlwvt"
      },
      "source": [
        "A [Coxeter group](https://en.wikipedia.org/wiki/Coxeter_group), named after H. S. M. Coxeter, is an abstract group that admits a formal description in terms of reflections (or kaleidoscopic mirrors). Indeed, the finite Coxeter groups are precisely the finite Euclidean reflection groups; the symmetry groups of regular polyhedra are an example. However, not all Coxeter groups are finite, and not all can be described in terms of symmetries and Euclidean reflections. Coxeter groups were introduced in 1934 as abstractions of reflection groups (Coxeter 1934), and finite Coxeter groups were classified in 1935 (Coxeter 1935)."
      ]
    },
    {
      "cell_type": "markdown",
      "metadata": {
        "id": "xAjW1DVyevEU"
      },
      "source": [
        "#### **Anwendungen in Physik, Chemie etc.**"
      ]
    },
    {
      "cell_type": "markdown",
      "metadata": {
        "id": "caRJ4rvXe2YY"
      },
      "source": [
        "**Symmetrien (Invarianzen) in der Physik**\n",
        "\n",
        "* Punktsymmetrie und CP verletzung: https://de.m.wikipedia.org/wiki/CP-Verletzung\n",
        "* Drehsymmetrie und Nicht-Magnetismus: https://de.m.wikipedia.org/wiki/Symmetriebrechung\n",
        "\n",
        "* mathematische Beschreibung von Symmetrien erfolgt durch die Gruppentheorie: https://de.m.wikipedia.org/wiki/Symmetrie_(Physik)\n",
        "\n",
        "* [Große vereinheitlichte Theorie](https://de.m.wikipedia.org/wiki/Große_vereinheitlichte_Theorie): (SU(3)C der [Quantenchromodynamik](https://de.m.wikipedia.org/wiki/Quantenchromodynamik), SU(2)I × U(1)Y der elektroschwachen Wechselwirkung) in einer übergeordneten Eichgruppe. Viele solche Modelle, besonders SU(5) und SO(10), aber auch exotische [Liegruppen](https://de.m.wikipedia.org/wiki/Lie-Gruppe) bis zu E(8) wurden, beginnend mit der Durchsetzung des Standardmodells in den 1970er Jahren, untersucht. Dabei steht SU für die [spezielle unitäre Gruppe](https://de.m.wikipedia.org/wiki/Spezielle_unitäre_Gruppe), U für die [unitäre Gruppe](https://de.m.wikipedia.org/wiki/Unitäre_Gruppe), O für die [orthogonale Gruppe](https://de.m.wikipedia.org/wiki/Orthogonale_Gruppe) und SO für die spezielle orthogonale Gruppe. \n",
        "\n",
        "* [Supersymmetrie](https://de.m.wikipedia.org/wiki/Supersymmetrie): Supersymmetriealgebra, Die Supersymmetrietransformationen, die Fermionen und Bosonen ineinander umwandeln, erweitern die Raumzeitsymmetrie, die [Poincaré-Gruppe](https://de.m.wikipedia.org/wiki/Poincaré-Gruppe).\n",
        "* [Spiegelsymmetrie](https://en.m.wikipedia.org/wiki/Mirror_symmetry_(string_theory))\n"
      ]
    },
    {
      "cell_type": "markdown",
      "metadata": {
        "id": "4YkK1CKxrsRK"
      },
      "source": [
        "**Chemie & Molekülphysik**\n",
        "\n",
        "* https://de.wikipedia.org/wiki/Punktgruppe#Punktgruppen_in_der_Molekülphysik\n",
        "\n",
        "* zB [Benzol](https://de.wikipedia.org/wiki/Benzol) kann beschrieben werden durch die Diedergruppe mit horizontalen Spiegelebenen $D_{6h}$"
      ]
    },
    {
      "cell_type": "markdown",
      "metadata": {
        "id": "Qwj5Nm1dQgzJ"
      },
      "source": [
        "**Ikosaeder**\n",
        "\n",
        "https://de.wikipedia.org/wiki/Ikosaeder"
      ]
    },
    {
      "cell_type": "markdown",
      "metadata": {
        "id": "pfBpvbgiru6v"
      },
      "source": [
        "**Kristallographie**"
      ]
    },
    {
      "cell_type": "markdown",
      "metadata": {
        "id": "JkJKPC4Ari2q"
      },
      "source": [
        "**Cryptographie**\n",
        "\n",
        "* Generalization to finite cyclic groups in [Diffie–Hellman_key_exchange](https://en.m.wikipedia.org/wiki/Diffie–Hellman_key_exchange#Generalization_to_finite_cyclic_groups)"
      ]
    },
    {
      "cell_type": "markdown",
      "metadata": {
        "id": "3sruHKY7mf53"
      },
      "source": [
        "https://www.youtube.com/watch?v=UHZam0Zf1FQ"
      ]
    },
    {
      "cell_type": "markdown",
      "metadata": {
        "id": "ZDqJB-vtXMJ1"
      },
      "source": [
        "## **Ringe**"
      ]
    },
    {
      "cell_type": "markdown",
      "metadata": {
        "id": "VxmoaUOGsy25"
      },
      "source": [
        "https://youtu.be/_RTHvweHlhE"
      ]
    },
    {
      "cell_type": "markdown",
      "metadata": {
        "id": "OopbidMRxquB"
      },
      "source": [
        "Watch Polynomring: https://www.youtube.com/watch?v=9fh1QK2yR3g&t=756s"
      ]
    },
    {
      "cell_type": "markdown",
      "metadata": {
        "id": "-OTesLFXKrcu"
      },
      "source": [
        "##### **Ring und kommutativer Ring**"
      ]
    },
    {
      "cell_type": "markdown",
      "metadata": {
        "id": "IhQhUv7dEfrU"
      },
      "source": [
        "https://de.m.wikipedia.org/wiki/Ring_(Algebra)"
      ]
    },
    {
      "cell_type": "markdown",
      "metadata": {
        "id": "9oUnGjnLYGdF"
      },
      "source": [
        "https://en.m.wikipedia.org/wiki/Ring_(mathematics)"
      ]
    },
    {
      "cell_type": "markdown",
      "metadata": {
        "id": "aU3_l3Z4nBmg"
      },
      "source": [
        "Ein Ring ist eine Menge R mit **zwei inneren binären Verknüpfungen** „+“ und „∙“, sodass gilt:\n",
        "1. **Addition: (R, +) ist eine abelsche Gruppe**\n",
        "\n",
        "* Addition is associative and commutative;\n",
        "\n",
        "* There is an additive identity, zero;\n",
        "\n",
        "* Every element has an additive inverse;\n",
        "\n",
        "2. **Multiplikation: (R, ∙) ist eine Halbgruppe**, das bedeutet:\n",
        "\n",
        "* Halbgruppe in der Multiplikation im Ring: **nur nur die Assoziativität, aber keine Inverse, neutrales element oder kommutativität**) \n",
        "\n",
        "* Das bedeutet: -> Sowohl Ringe als auch Körper verlangen, dass bzgl. der Addition eine kommutative Gruppe vorliegt (abelsch!). Bei der Multiplikation erfolgt der Übergang vom Ring zum Körper durch die Verschärfung der Forderungen\n",
        "\n",
        "* Unlike a field, a ring is not required to have multiplicative inverses, and the multiplication is not required to be commutative. A good example of a ring is the set of all n×n matrices under the operations of matrix addition and matrix multiplication. The integers Z also form a ring under the operations of addition and multiplication.\n",
        "\n",
        "3. **Die Distributivgesetze a*(b+c)=a*b+a*c und (a+b)*c = a*c+b*c sind für alle a,b,c ε $R$ erfüllt.**\n",
        "\n",
        "4. **Das neutrale Element 0 von (R, +) heißt Nullelement von R.**\n",
        "\n",
        "**Ein Ring heißt kommutativ**, falls er bezüglich der Multiplikation kommutativ ist (Ein Ring heißt kommutativ, falls er bezüglich der Multiplikation kommutativ ist, ansonsten spricht man von einem nicht-kommutativen Ring.)"
      ]
    },
    {
      "cell_type": "markdown",
      "metadata": {
        "id": "aR14OZzRJUkG"
      },
      "source": [
        "Beispiele:"
      ]
    },
    {
      "cell_type": "markdown",
      "metadata": {
        "id": "3ajn582YCTF0"
      },
      "source": [
        "* 2×2 Real matrices.\n",
        "\n",
        "* Das wichtigste Beispiel eines Ringes sind die Integers / ist die Menge (􏰁$\\mathbb Z$,+,∙) der ganzen Zahlen mit der üblichen Addition und Multiplikation. Es handelt sich dabei um einen nullteilerfreien kommutativen Ring mit Einselement, also einen Integritätsring.\n",
        "\n",
        "* the Integers modulo some Natural number greater than one;\n",
        "\n",
        "* Ebenso bildet ($\\mathbb Q$,+,∙) der rationalen Zahlen mit der üblichen Addition und Multiplikation einen Ring. Da in diesem Fall nicht nur ($\\mathbb Q$,+), sondern auch ($\\mathbb Q$ \\ {0},∙) eine abelsche Gruppe bildet, liegt sogar ein Körper vor; es handelt sich dabei um den Quotientenkörper des Integritätsringes (􏰁$\\mathbb Z$,+,∙).\n",
        "\n",
        "* Kein Ring ist die Menge ($\\mathbb N$􏰀,+,∙) der natürlichen Zahlen mit der üblichen Addition und Multiplikation, da die Addition über den natürlichen Zahlen nicht invertierbar ist."
      ]
    },
    {
      "cell_type": "markdown",
      "metadata": {
        "id": "8HZucJQ2LK-z"
      },
      "source": [
        "https://www.quora.com/What-are-the-differences-between-rings-and-fields"
      ]
    },
    {
      "cell_type": "markdown",
      "metadata": {
        "id": "ewHjxqYobJU4"
      },
      "source": [
        "https://en.m.wikipedia.org/wiki/Ring_theory"
      ]
    },
    {
      "cell_type": "markdown",
      "metadata": {
        "id": "GC1gOJZOAcdm"
      },
      "source": [
        "##### **Halbring und kommutativer Halbring**"
      ]
    },
    {
      "cell_type": "markdown",
      "metadata": {
        "id": "IbZlHiCiCY-F"
      },
      "source": [
        "* Ein Halbring ist die Verallgemeinerung der algebraischen Struktur eines Ringes, in der die **Addition nicht mehr eine kommutative Gruppe, sondern nur noch eine kommutative Halbgruppe sein muss** (mit Abgeschlossenheit und Assoziativität, aber nicht: Neutral (identity element), inverse, kommunitativ).\n",
        "\n",
        "* Ein Halbring (engl.: Semiring) ist eine algebraische Struktur $(H,+, \\cdot)$ mit einer (nichtleeren) Menge $H$ und mit zwei zweistelligen Verknüpfungen $+: H \\times H \\rightarrow H$ (Addition) und $\\because H \\times H \\rightarrow H$ (Multiplikation), für die gilt:\n",
        "\n",
        "1. $(H,+)$ ist eine kommutative Halbgruppe.\n",
        "\n",
        "2. $(H, \\cdot)$ ist eine Halbgruppe.\n",
        "\n",
        "3. Es gelten die Distributivgesetze, d. h. für alle $a, b, c \\in H$ gilt $(a+b) \\cdot c=a \\cdot c+b \\cdot c \\quad$ sowie $\\quad c \\cdot(a+b)=c \\cdot a+c \\cdot b$\n",
        "\n",
        "Ist auch $(H, \\cdot)$ kommutativ, so spricht man von einem kommutativen Halbring."
      ]
    },
    {
      "cell_type": "markdown",
      "metadata": {
        "id": "354jDjhGCug7"
      },
      "source": [
        "Beispiele"
      ]
    },
    {
      "cell_type": "markdown",
      "metadata": {
        "id": "Hw9olTD_Cw0-"
      },
      "source": [
        "* $(\\mathbb{N},+, 0, \\cdot, 1)$ Die Menge der natürlichen Zahlen mit der Addition und der Multiplikation zusammen und mit einem Nullelement und einem Einselement als neutrale Elemente ist ein kommutativer Halbring.\n",
        "\n",
        "* $\\left(\\mathbb{Q}_{+},+, 0, \\cdot, 1\\right)$ ist sogar ein Halbkörper.\n",
        "\n",
        "* $(\\mathbb{R} \\cup\\{\\infty\\}, \\min , \\infty,+, 0),$ die sogenannte Min-Plus-Algebra (**tropische Geometrie!!!**) https://de.m.wikipedia.org/wiki/Max-Plus-Algebra bzw.https://de.wikipedia.org/wiki/Tropische_Geometrie#Tropischer_Halbring\n",
        "\n",
        "* Für jede Menge $X$ ist die Potenzmenge $(\\mathcal{P}(X), \\cup, \\emptyset, \\cap, X)$ ein Halbring.\n",
        "\n",
        "* Allgemeiner ist jede Boolesche Algebra ein Halbring."
      ]
    },
    {
      "cell_type": "markdown",
      "metadata": {
        "id": "UizsbE6VAgA4"
      },
      "source": [
        "https://de.m.wikipedia.org/wiki/Halbring_(Algebraische_Struktur)"
      ]
    },
    {
      "cell_type": "markdown",
      "metadata": {
        "id": "Ecy_MnaoAkhC"
      },
      "source": [
        "##### **Ring mit Eins (unitärer Ring)**"
      ]
    },
    {
      "cell_type": "markdown",
      "metadata": {
        "id": "c2rLi8RzmGRG"
      },
      "source": [
        "* Hat die Halbgruppe $R,\\cdot$ ein (beidseitiges) neutrales Element 1, ist also ein Monoid, dann nennt man $R,+,\\cdot$ einen Ring mit Eins oder unitären Ring. \n",
        "\n",
        "* Ringe mit nur links- oder nur rechtsneutralem Element gelten in der Ringtheorie nicht als unitär."
      ]
    },
    {
      "cell_type": "markdown",
      "metadata": {
        "id": "NoTycwruMDw5"
      },
      "source": [
        "##### **Nullring**"
      ]
    },
    {
      "cell_type": "markdown",
      "metadata": {
        "id": "XTICEn4hMNS1"
      },
      "source": [
        "* bis auf Isomorphie eindeutig bestimmter Ring, der nur aus dem Nullelement besteht\n",
        "\n",
        "* Der Nullring oder triviale Ring ist in der Mathematik der bis auf Isomorphie eindeutig bestimmte Ring, der nur aus dem Nullelement besteht. Das Nullelement ist damit zugleich das Einselement des Rings. \n",
        "\n",
        "* Der Nullring besitzt eine Reihe besonderer Eigenschaften, so ist er beispielsweise der einzige Ring, in dem jedes Element eine Einheit ist, und der einzige Ring mit Eins, in dem es kein maximales Ideal gibt. In der Kategorie der Ringe mit Eins ist der Nullring terminales Objekt und in der Kategorie aller Ringe das Nullobjekt."
      ]
    },
    {
      "cell_type": "markdown",
      "metadata": {
        "id": "uPmXRpptMjpU"
      },
      "source": [
        "Der Nullring $(\\{0\\},+, \\cdot)$ ist ein Ring bestehend aus der einelementigen Menge \\{0\\} (Singleton) versehen mit der einzig möglichen Addition gegeben durch\n",
        "\n",
        "$\n",
        "0+0=0\n",
        "$\n",
        "\n",
        "und der einzig möglichen Multiplikation gegeben durch\n",
        "\n",
        "$\n",
        "0 \\cdot 0=0\n",
        "$\n",
        "\n",
        "Das Element 0 ist also zugleich das Nullelement und das Einselement des Rings."
      ]
    },
    {
      "cell_type": "markdown",
      "metadata": {
        "id": "nUOu50FmNM-7"
      },
      "source": [
        "* In der Kategorie der Ringe mit Eins ist der Nullring terminales Objekt, das heißt von jedem Ring gibt es genau einen Morphismus in den Nullring. Weiterhin ist jeder Morphismus aus dem Nullring heraus bereits ein Isomorphismus.\n",
        "\n",
        "* In der Kategorie aller Ringe ist der Nullring sogar das Nullobjekt."
      ]
    },
    {
      "cell_type": "markdown",
      "metadata": {
        "id": "BGElOCjMMGr2"
      },
      "source": [
        "https://de.m.wikipedia.org/wiki/Nullring"
      ]
    },
    {
      "cell_type": "markdown",
      "metadata": {
        "id": "Kwaf_Yw5nosx"
      },
      "source": [
        "##### **Ideal**"
      ]
    },
    {
      "cell_type": "markdown",
      "metadata": {
        "id": "tJn81nCMnuU0"
      },
      "source": [
        "* In der abstrakten Algebra ist ein Ideal eine Teilmenge eines Rings, die das Nullelement enthält und abgeschlossen gegenüber Addition und Subtraktion von Elementen des Ideals sowie abgeschlossen gegenüber Multiplikation mit beliebigen Ringelementen ist. \n",
        "\n",
        "* Beispielsweise sind Summe und Differenz zweier gerader Zahlen wieder gerade und zudem ist das Produkt einer geraden Zahl mit einer beliebigen ganzen Zahl ebenfalls gerade. Zudem ist die 0 als additiv Neutrales gerade. Das heißt, die Menge der geraden Zahlen ist ein Ideal im Ring der ganzen Zahlen.\n",
        "\n",
        "* Es gibt auch für nichtkommutative Ringe sogenannte Links-, Rechtsideale und zweiseitige Idealen."
      ]
    },
    {
      "cell_type": "markdown",
      "metadata": {
        "id": "ltfOTi0unraE"
      },
      "source": [
        "https://de.m.wikipedia.org/wiki/Ideal_(Ringtheorie)"
      ]
    },
    {
      "cell_type": "markdown",
      "metadata": {
        "id": "CSgVEGLmZlz1"
      },
      "source": [
        "##### **Quotientenkörper**"
      ]
    },
    {
      "cell_type": "markdown",
      "metadata": {
        "id": "yKtAxEpdZqze"
      },
      "source": [
        "* In der Algebra ist der Quotientenkörper eines Rings (mit bestimmten Eigenschaften) eine **Obermenge dieses Rings**, auf welche die Addition und die Multiplikation des Rings fortgesetzt werden und in der jedes Element außer 0 ein multiplikatives Inverses besitzt. \n",
        "\n",
        "* Das prominenteste Beispiel ist der **Körper der rationalen Zahlen als Quotientenkörper des Rings der ganzen Zahlen**.\n",
        "\n",
        "* Eine Verallgemeinerung des Konzepts für nicht notwendigerweise nullteilerfreie Ringe ist durch die Lokalisierung gegeben."
      ]
    },
    {
      "cell_type": "markdown",
      "metadata": {
        "id": "MfXz0my6Zn_p"
      },
      "source": [
        "https://de.m.wikipedia.org/wiki/Quotientenkörper"
      ]
    },
    {
      "cell_type": "markdown",
      "metadata": {
        "id": "foYtNNmXXHhZ"
      },
      "source": [
        "## **Körper (Field)**"
      ]
    },
    {
      "cell_type": "markdown",
      "metadata": {
        "id": "sFf9AIX_stcH"
      },
      "source": [
        "https://youtu.be/KCSZ4QhOw0I"
      ]
    },
    {
      "cell_type": "markdown",
      "metadata": {
        "id": "qMwYFxJJ7xkI"
      },
      "source": [
        "https://de.m.wikipedia.org/wiki/Geordneter_Körper\n",
        "\n",
        "https://de.m.wikipedia.org/wiki/Körpererweiterung"
      ]
    },
    {
      "cell_type": "markdown",
      "metadata": {
        "id": "y16M1N2JRcwm"
      },
      "source": [
        "##### **(Kommutative) Körper**"
      ]
    },
    {
      "cell_type": "markdown",
      "metadata": {
        "id": "1rtdtF9PN0Ys"
      },
      "source": [
        "**Set $F$ with 2 operations: $+$**\n",
        "\n",
        "* $\\langle F,+\\rangle$ is a commutative group\n",
        "\n",
        "* $\\left\\langle F^{\\times}, \\cdot\\right\\rangle$ is a commutative group\n",
        "\n",
        "* $a \\cdot(b+c)=a \\cdot b+a \\cdot c$\n",
        "\n",
        "* $(b+c) \\cdot a=b \\cdot a+c \\cdot a$"
      ]
    },
    {
      "cell_type": "markdown",
      "metadata": {
        "id": "f7Fjy2o4Ncnn"
      },
      "source": [
        "Fields allow a multiplicative inverse (aka division)"
      ]
    },
    {
      "cell_type": "markdown",
      "metadata": {
        "id": "M_kHoI_XOGIF"
      },
      "source": [
        "https://www.youtube.com/watch?v=KCSZ4QhOw0I"
      ]
    },
    {
      "cell_type": "markdown",
      "metadata": {
        "id": "bBwQqNZan2sf"
      },
      "source": [
        "**Ein Körper ist eine spezielle Form von Ring**:\n",
        "\n",
        "* **A Field is a Ring whose non-zero elements form a commutative Group under multiplication (In short a field is a commutative ring with unity with all its non zero elements having multiplicative inverse.)**\n",
        "\n",
        "* Ein kommutativer unitärer Ring, der nicht der Nullring ist, heißt ein Körper, wenn in ihm jedes von Null verschiedene Element multiplikativ invertierbar ist.\n",
        "Anders formuliert, ist ein Körper ein kommutativer unitärer Ring K, in dem die Einheitengruppe K* gleich K \\ {0}, also maximal groß, ist.\n",
        "\n",
        "* Ein kommutativer unitärer Ring, der nicht der Nullring ist, ist ein Körper, wenn in ihm jedes von Null verschiedene Element ein Inverses bezüglich der Multiplikation besitzt. Anders formuliert, ist ein Körper ein kommutativer unitärer Ring $K$, in dem die Einheitengruppe $K^{*}$ gleich $K \\backslash\\{0\\}$ ist. \n"
      ]
    },
    {
      "cell_type": "markdown",
      "metadata": {
        "id": "1_Jav3cJksAh"
      },
      "source": [
        "https://de.m.wikipedia.org/wiki/Körper_(Algebra)"
      ]
    },
    {
      "cell_type": "markdown",
      "metadata": {
        "id": "isOcOrhbyk4J"
      },
      "source": [
        "https://science.jrank.org/pages/2709/Field.html"
      ]
    },
    {
      "cell_type": "markdown",
      "metadata": {
        "id": "Z055Lr2GWyMa"
      },
      "source": [
        "Ein Tripel (K,+,•), bestehend aus einer Menge K und zwei binären Verknüpfungen „+“ und „•“ (die üblicherweise Addition und Multiplikation genannt werden), ist genau dann ein Körper, wenn folgende Eigenschaften erfüllt sind:\n",
        "\n",
        "* $(K,+)$ ist eine abelsche Gruppe (mit Neutralelement 0)\n",
        "\n",
        "* $(K \\backslash\\{0\\}, •)$ ist eine abelsche Gruppe (mit Neutralelement 1)\n",
        "\n",
        "* $a \\cdot(b+c)=a \\cdot b+a \\cdot c$ und $(a+b) \\cdot c=a \\cdot c+b \\cdot c$ (Distributivgesetz)"
      ]
    },
    {
      "cell_type": "markdown",
      "metadata": {
        "id": "itIiUgUNXWV7"
      },
      "source": [
        "Additive Eigenschaften:\n",
        "\n",
        "* $a+(b+c)=(a+b)+c$ (Assoziativgesetz)\n",
        "\n",
        "* $a+b=b+a$ (Kommutativgesetz)\n",
        "\n",
        "* Es gibt ein Element $0 \\in K$ mit $0+a=a$ (neutrales Element)\n",
        "\n",
        "* Zu jedem $a \\in K$ existiert das additive Inverse $(-a)$ mit $(-a)+a=0$\n",
        "\n",
        "Multiplikative Eigenschaften:\n",
        "\n",
        "* $\\cdot a \\cdot(b \\cdot c)=(a \\cdot b) \\cdot c$ (Assoziativgesetz)\n",
        "\n",
        "* $a \\cdot b=b \\cdot a$ (Kommutativgesetz)\n",
        "\n",
        "* Es gibt ein Element $1 \\in K$ mit $1 \\cdot a=a$ (neutrales Element), und es ist $1 \\neq 0$.\n",
        "\n",
        "* Zu jedem $a \\in K \\backslash\\{0\\}$ existiert das multiplikative Inverse $a^{-1}$ mit $a^{-1} \\cdot a=1$\n",
        "\n",
        "Zusammenspiel von additiver und multiplikativer Struktur:\n",
        "\n",
        "* $a \\cdot(b+c)=a \\cdot b+a \\cdot c$ (Links-Distributivgesetz) \n",
        "\n",
        "* Das Rechts-Distributivgesetz $(a+b) \\cdot c=a \\cdot c+b \\cdot c$ folgt dann aus den übrigen Eigenschaften:\n",
        "$(a+b) \\cdot c=c \\cdot(a+b)=c \\cdot a+c \\cdot b=a \\cdot c+b \\cdot c$"
      ]
    },
    {
      "cell_type": "markdown",
      "metadata": {
        "id": "4_uA7fvHYWLx"
      },
      "source": [
        "##### **Körper vs Schiefkörper**"
      ]
    },
    {
      "cell_type": "markdown",
      "metadata": {
        "id": "RBiSmFlRX_Mp"
      },
      "source": [
        "* Eine Menge K mit zwei binären Operationen + und ⋅ heißt Schiefkörper, wenn K ein Ring ist und K∖{0} bzgl. der Multiplikation eine Gruppe bildet (Ringe sind normalerweise Halbgruppen, dh. bezüglich Multiplikation nur nur die Assoziativität zählt, aber keine Inverse, neutrales element oder kommutativität).\n",
        "\n",
        "* K heißt Körper, wenn K Schiefkörper ist und \n",
        "K∖{0} bzgl. der Multiplikation eine kommutative Gruppe (=Abelsch) bildet."
      ]
    },
    {
      "cell_type": "markdown",
      "metadata": {
        "id": "Msp6NBuJX0MO"
      },
      "source": [
        "**Es gelten die folgenden Zusammenhänge:**\n",
        "\n",
        "* Jeder Körper ist ein Schiefkörper\n",
        "* Jeder Körper ist ein kommutativer Ring\n",
        "* Jeder Schiefkörper ist ein unitären Ring\n",
        "* Jeder unitäre Ring ist ein Ring"
      ]
    },
    {
      "cell_type": "markdown",
      "metadata": {
        "id": "tr5vXn8La6w7"
      },
      "source": [
        "**Achtung**\n",
        "\n",
        "Man nennt die Elemente im Körper nicht Vektoren, sondern Skalare. Über dem Skalarkörper betrachtet man einen Vektorraum und dessen Elemente heißen Vektoren."
      ]
    },
    {
      "cell_type": "markdown",
      "metadata": {
        "id": "BfWRnNxZnrVT"
      },
      "source": [
        "Eigenschaften (beginnend mit denen eines Ringes):\n",
        "\n",
        "* Addition is associative and commutative;\n",
        "\n",
        "* There is an additive identity, zero;\n",
        "\n",
        "* Every element has an additive inverse;\n",
        "\n",
        "* Multiplication is associative;\n",
        "\n",
        "* Multiplication distributes over addition.\n",
        "\n",
        "In addition a Field has:\n",
        "\n",
        "* Multiplication is commutative;\n",
        "\n",
        "* Every non-zero element has a multiplicative inverse."
      ]
    },
    {
      "cell_type": "markdown",
      "metadata": {
        "id": "al_7-hkwRl-J"
      },
      "source": [
        "Beispiele:"
      ]
    },
    {
      "cell_type": "markdown",
      "metadata": {
        "id": "_M8xii4QnNCP"
      },
      "source": [
        "* The most familiar form of algebra is the elementary algebra that you learned in high school, namely the algebra of the real numbers. From an abstract point of view, this is the algebra of fields.\n",
        "\n",
        "* Note that the axioms for a field are precisely the axioms for algebra on the real numbers. As a result, the real numbers R form a field under the usual operations of addition and multiplication. However, the real numbers are not the only possible field. Indeed, you are already familiar with a few other examples:\n",
        "\n",
        "* set of rational numbers under addition and multiplication. The rational numbers Q form a field under the usual operations of addition and multiplication. In particular, we can add or multiply two elements of Q to obtain another element of Q, and these operations obey all of the axioms listed above.\n",
        "\n",
        "* The complex numbers C form a field under the commonly defined operations of addition and multiplication. Complex numbers do obey all of the listed axioms for a field, which is why elementary algebra works as usual for complex numbers.\n",
        "\n",
        "* The Integers modulo a Prime number.\n",
        "\n",
        "*An example of a set of numbers that is **not a field** is the set of integers. It is an \"integral domain.\" It is not a field because it lacks multiplicative inverses. Without multiplicative inverses, division may be impossible.*\n",
        "\n",
        "* Both are algebraic objects with a notion of addition and multiplication, **but the multiplication in a field is more specialized**: it is necessarily commutative and every nonzero element has a multiplicative inverse."
      ]
    },
    {
      "cell_type": "markdown",
      "metadata": {
        "id": "JQdx1fH0RXv9"
      },
      "source": [
        "##### **Schiefkörper (Divisionsring)**"
      ]
    },
    {
      "cell_type": "markdown",
      "metadata": {
        "id": "fiD4gEiPkpQq"
      },
      "source": [
        "* Ein **Schiefkörper** oder Divisionsring ist eine algebraische Struktur, die alle Eigenschaften eines Körpers besitzt, außer dass die Multiplikation nicht notwendigerweise kommutativ ist.\n",
        "\n",
        "* Jeder Schiefkörper ist ein Alternativkörper"
      ]
    },
    {
      "cell_type": "markdown",
      "metadata": {
        "id": "otrMeqXtTBT2"
      },
      "source": [
        "https://de.m.wikipedia.org/wiki/Schiefkörper"
      ]
    },
    {
      "cell_type": "markdown",
      "metadata": {
        "id": "WXOnmjfLS8Sz"
      },
      "source": [
        "##### **Alternativkörper**"
      ]
    },
    {
      "cell_type": "markdown",
      "metadata": {
        "id": "JEtjLCOdmFUh"
      },
      "source": [
        "* Octonions (Octave) sind [Alternativkörper](https://de.m.wikipedia.org/wiki/Alternativkörper) bei denen man auf das Kommutativgesetz und das Assoziativgesetz für die Multiplikation verzichtet.\n",
        "\n",
        "* Jeder Schiefkörper ist ein Alternativkörper, jeder Alternativkörper ist zugleich ein Links- und ein Rechtsquasikörper. Endliche Alternativkörper sind stets Körper. (→ Siehe dazu auch: Moufangebene).\n",
        "\n"
      ]
    },
    {
      "cell_type": "markdown",
      "metadata": {
        "id": "JMNe3IO_x1RW"
      },
      "source": [
        "##### **Körpererweiterung**"
      ]
    },
    {
      "cell_type": "markdown",
      "metadata": {
        "id": "AQocAiSmx3hC"
      },
      "source": [
        "https://de.wikipedia.org/wiki/K%C3%B6rpererweiterung"
      ]
    },
    {
      "cell_type": "markdown",
      "metadata": {
        "id": "Myg7JFuLRgsr"
      },
      "source": [
        "##### **Exkurs: Geordneter Körper**"
      ]
    },
    {
      "cell_type": "markdown",
      "metadata": {
        "id": "cAwPf6ifqUmM"
      },
      "source": [
        "* Ein geordneter Körper (auch angeordneter Körper genannt) ist ein Körper zusammen mit einer totalen Ordnung „≤“, die mit Addition und Multiplikation verträglich ist. Das bekannteste Beispiel ist der Körper der reellen Zahlen. \n",
        "\n",
        "* Körper der Charakteristik p>0 können nicht strukturverträglich angeordnet werden. \n",
        "\n",
        "* Ein wichtiges Beispiel für einen Körper der Charakteristik 0, der auch nicht strukturverträglich angeordnet werden kann, ist der Körper der komplexen Zahlen.\n",
        "\n",
        "* Ein geordneter Körper heißt ordnungsvollständig, wenn jede beschränkte Teilmenge des Körpers ein Infimum und Supremum hat."
      ]
    },
    {
      "cell_type": "markdown",
      "metadata": {
        "id": "gr5tpTU1qWOw"
      },
      "source": [
        "https://de.m.wikipedia.org/wiki/Geordneter_Körper"
      ]
    },
    {
      "cell_type": "markdown",
      "metadata": {
        "id": "QdV8mAKugO06"
      },
      "source": [
        "## **Moduln und Vektorräume**"
      ]
    },
    {
      "cell_type": "markdown",
      "metadata": {
        "id": "Tk6qnMZUgGQw"
      },
      "source": [
        "#### **Moduln**"
      ]
    },
    {
      "cell_type": "markdown",
      "metadata": {
        "id": "HSRPnBpNgMT4"
      },
      "source": [
        "* Ein Modul ist ein n-dimensionaler Ring.\n",
        "\n",
        "* Ein Modul ist eine algebraische Struktur, die eine Verallgemeinerung eines Vektorraums darstellt.\n",
        "\n",
        "* **A module is similar to a vector space, except that the scalars are only required to be elements of a ring. (Gilt NICHT multiplikative Inverse und multiplikative Kommuntativität)**\n",
        "\n",
        "* For example, the set Zn of n-dimensional vectors with integer entries forms a module, where “scalar multiplication” refers to multiplication by integer scalars."
      ]
    },
    {
      "cell_type": "markdown",
      "metadata": {
        "id": "sMh1i2RczFjo"
      },
      "source": [
        "Folgende Zahlenbereiche sind additive Gruppen und damit $\\mathbb {Z}$ -Moduln:\n",
        "\n",
        "* die ganzen Zahlen $\\mathbb {Z}$ selbst\n",
        "\n",
        "* die rationalen Zahlen $\\mathbb {Q}$ \n",
        "\n",
        "* die reellen Zahlen $\\mathbb {R}$ \n",
        "\n",
        "* die algebraischen Zahlen $\\mathbb A$ bzw. $\\mathbb A$ $\\cap$ $\\mathbb R$\n",
        "\n",
        "* die komplexen Zahlen $\\mathbb {C}$\n"
      ]
    },
    {
      "cell_type": "markdown",
      "metadata": {
        "id": "t8NSS1C9gIni"
      },
      "source": [
        "https://de.m.wikipedia.org/wiki/Modul_(Mathematik)"
      ]
    },
    {
      "cell_type": "markdown",
      "metadata": {
        "id": "zD4HgiwtO7x5"
      },
      "source": [
        "**Basis eines Modul**"
      ]
    },
    {
      "cell_type": "markdown",
      "metadata": {
        "id": "sneOVEwOPEXn"
      },
      "source": [
        "* Der Begriff der Basis eines Moduls ist im mathematischen Teilgebiet der Algebra eine Verallgemeinerung des Begriffes der Basis eines Vektorraumes. \n",
        "\n",
        "* Wie bei diesen wird eine Basis eines Moduls als linear unabhängiges Erzeugendensystem definiert; im Gegensatz zu Vektorräumen besitzt allerdings nicht jeder Modul eine Basis."
      ]
    },
    {
      "cell_type": "markdown",
      "metadata": {
        "id": "KKb22bUqO_ae"
      },
      "source": [
        "https://de.m.wikipedia.org/wiki/Basis_(Modul)"
      ]
    },
    {
      "cell_type": "markdown",
      "metadata": {
        "id": "2g3psQpbPHh5"
      },
      "source": [
        "https://de.m.wikipedia.org/wiki/Basis_(Vektorraum)"
      ]
    },
    {
      "cell_type": "markdown",
      "metadata": {
        "id": "Y-1lpMAgXzD9"
      },
      "source": [
        "#### **Vektorraum: Lineare Abbildungen zwischen endlichdimensionalen Vektorräumen**"
      ]
    },
    {
      "cell_type": "markdown",
      "metadata": {
        "id": "qNmzS2tf1nqK"
      },
      "source": [
        "###### **Module vs Vector Space**"
      ]
    },
    {
      "cell_type": "markdown",
      "metadata": {
        "id": "pa9LcQnP1rU5"
      },
      "source": [
        "1. Module = Vector Space with a **ring** of scalars\n",
        "\n",
        "2. Vector Space = Module with a **field** of scalars\n",
        "\n",
        "**Vector Space**\n",
        "\n",
        "* Abelian group $V$ of vectors\n",
        "\n",
        "* Field $F$ of \"scalars\"\n",
        "\n",
        "* $f \\cdot v$ is a \"scaled vector\"\n",
        "\n",
        "Distributive properties:\n",
        "$f \\cdot\\left(v_{1}+v_{2}\\right)=f \\cdot v_{1}+f \\cdot v_{2}$\n",
        "$\\left(f_{1}+f_{2}\\right) \\cdot v=f_{1} \\cdot v+f_{2} \\cdot v$\n",
        "\n",
        "Associative property:\n",
        "\n",
        "$\\left(f_{1} \\cdot f_{2}\\right) \\cdot v=f_{1} \\cdot\\left(f_{2} \\cdot v\\right)$\n",
        "$1 \\cdot v=v$\n",
        "\n",
        "**(Left or Right) Module**\n",
        "\n",
        "* Abelian group $M$ of \"elements\"\n",
        "\n",
        "* Ring $R$ of \"scalars\"\n",
        "\n",
        "* $r \\cdot m$ is a \"scaled element\"\n",
        "\n",
        "Distributive properties:\n",
        "\n",
        "$r \\cdot\\left(m_{1}+m_{2}\\right)=r \\cdot m_{1}+r \\cdot m_{2}$\n",
        "о $\\left(r_{1}+r_{2}\\right) \\cdot m=r_{1} \\cdot m+r_{2} \\cdot m$\n",
        "\n",
        "Associative property:\n",
        "\n",
        "$\\left(r_{1} \\cdot r_{2}\\right) \\cdot m=r_{1} \\cdot\\left(r_{2} \\cdot m\\right)$\n",
        "$1 \\cdot m=m$"
      ]
    },
    {
      "cell_type": "markdown",
      "metadata": {
        "id": "KXJcJtv13M2S"
      },
      "source": [
        "**Example of a Module:**"
      ]
    },
    {
      "cell_type": "markdown",
      "metadata": {
        "id": "4mC8z8gh3PYb"
      },
      "source": [
        "Group: $M=\\mathbb{R}^{3}=\\{(x, y, z) \\mid x, y, z \\in \\mathbb{R}\\}$ under $+$\n",
        "\n",
        "Scalar Ring: $R=\\left\\{\\left(\\begin{array}{lll}a_{11} & a_{12} & a_{13} \\\\ a_{21} & a_{22} & a_{23} \\\\ a_{31} & a_{32} & a_{33}\\end{array}\\right) \\mid a_{i j} \\in \\mathbb{R}\\right\\}$\n",
        "\n",
        "$R$ is not a field:\n",
        "* Not every matrix is invertible \n",
        "* Not commutative \n",
        "* Does have an identity: $\\left(\\begin{array}{cc}1 & 0 & 0 \\\\ 0 & 1 & 0 \\\\ 0 & 0 & 1\\end{array}\\right)$"
      ]
    },
    {
      "cell_type": "markdown",
      "metadata": {
        "id": "0Vz4R8zD2Wle"
      },
      "source": [
        "https://youtu.be/IvukAijXgLE"
      ]
    },
    {
      "cell_type": "markdown",
      "metadata": {
        "id": "f1za4JTVYpkR"
      },
      "source": [
        "###### **Lineare Abbildungen zwischen endlichdimensionalen Vektorräumen**"
      ]
    },
    {
      "cell_type": "markdown",
      "metadata": {
        "id": "MKEgG15rzrh1"
      },
      "source": [
        "https://www.mathe-online.at/lernpfade/lin_alg_glatz/?kapitel=1"
      ]
    },
    {
      "cell_type": "markdown",
      "metadata": {
        "id": "2oZz9KeCy6rM"
      },
      "source": [
        "**Lineare Algebra**"
      ]
    },
    {
      "cell_type": "markdown",
      "metadata": {
        "id": "IAL60hn09Lpe"
      },
      "source": [
        "* Konkrete form of vectors don't matter (matrices, vectors, functions, pie transforms etc). All what matters are the 8 axioms which define a vector space:\n",
        "\n",
        "![cc](https://raw.githubusercontent.com/deltorobarba/repo/master/vectorspace_axioms.png)\n",
        "\n",
        "https://www.youtube.com/watch?v=TgKwz5Ikpc8&list=WL&index=33&t=638s"
      ]
    },
    {
      "cell_type": "markdown",
      "metadata": {
        "id": "fQpZCVuqQuV_"
      },
      "source": [
        "3 most important pillars of linear algebra: https://www.youtube.com/watch?v=Ww_aQqWZhz8&t=194s"
      ]
    },
    {
      "cell_type": "markdown",
      "metadata": {
        "id": "bXEzBoJBps3s"
      },
      "source": [
        "https://de.m.wikipedia.org/wiki/Vektorraum"
      ]
    },
    {
      "cell_type": "markdown",
      "metadata": {
        "id": "1ebO3cJXpt8v"
      },
      "source": [
        "https://de.m.wikipedia.org/wiki/Lineare_Algebra"
      ]
    },
    {
      "cell_type": "markdown",
      "metadata": {
        "id": "yF8ttI2RpvT4"
      },
      "source": [
        "https://de.wikipedia.org/wiki/Lineare_Abbildung"
      ]
    },
    {
      "cell_type": "markdown",
      "metadata": {
        "id": "o2boqiPmMgYa"
      },
      "source": [
        "Ein Vektorraum u ̈ber einem Körper $\\mathbb K$ ist eine abelsche Gruppe mit der Eigenschaft, dass es zu jedem Element k von $\\mathbb K$ (”Skalar“) eine einstellige Operation (”Skalarmultiplikation“ )\n",
        "\n",
        "Oder anders: \n",
        "* Körper: Plus oder Mal im Körper: zwei Körperelemente, und dann kommt wieder Körperelement heraus\n",
        "* Vektorraum: (Mal heisst nur strecken und stauchen = Skalarmultiplikation: Vektor multipliziert mit Körperelement"
      ]
    },
    {
      "cell_type": "markdown",
      "metadata": {
        "id": "AHOR2paJnqE7"
      },
      "source": [
        "* Ein Vektorraum ist ein n-dimensionaler Körper.\n",
        "\n",
        "* A vector space is an algebraic structure with operations of addition and multiplication by scalars. Gilt zusätzlich multiplikative Inverse und multiplikative Kommuntativität\n",
        "\n",
        "* The scalars are required to be elements of a field, such as the real numbers R. The basic example of a vector space is the set Rn of all vectors with n entries.\n",
        "\n",
        "* Ein Vektorraum oder linearer Raum ist eine algebraische Struktur, die in vielen Teilgebieten der Mathematik verwendet wird. \n",
        "\n",
        "* Vektorräume bilden den zentralen Untersuchungsgegenstand der linearen Algebra. \n",
        "\n",
        "* Die Elemente eines Vektorraums heißen Vektoren. \n",
        "\n",
        "* Sie können addiert oder mit Skalaren (Zahlen) multipliziert werden, das Ergebnis ist wieder ein Vektor desselben Vektorraums.\n",
        "\n",
        "* Die **Skalare, mit denen man einen Vektor multiplizieren kann, stammen aus einem Körper**. Deswegen ist ein Vektorraum immer ein Vektorraum über einem bestimmten Körper. Sehr oft handelt es sich dabei um den Körper \n",
        "$\\mathbb {R}$ der reellen Zahlen oder den Körper \n",
        "$\\mathbb {C}$ der komplexen Zahlen. Man spricht dann von einem reellen Vektorraum bzw. einem komplexen Vektorraum."
      ]
    },
    {
      "cell_type": "markdown",
      "metadata": {
        "id": "pOnSslb8gSWP"
      },
      "source": [
        "https://de.m.wikipedia.org/wiki/Vektorraum"
      ]
    },
    {
      "cell_type": "markdown",
      "metadata": {
        "id": "Tr36ywoZin3h"
      },
      "source": [
        "**K-Algebra (Algebra über einem Körper)**"
      ]
    },
    {
      "cell_type": "markdown",
      "metadata": {
        "id": "f8D2MAmd5Oiw"
      },
      "source": [
        "* ist ein Vektorraum über einem Körper K, der um eine mit der Vektorraumstruktur verträgliche Multiplikation erweitert wurde. \n",
        "\n",
        "* Je nach Kontext wird dabei mitunter zusätzlich gefordert, dass die Multiplikation das Assoziativgesetz oder das Kommutativgesetz erfüllt oder dass die Algebra bezüglich der Multiplikation ein Einselement besitzt.\n",
        "\n",
        "* Allgemeiner kann K ein kommutativer Ring sein, dann ist „Vektorraum“ durch „Modul“ zu ersetzen, und man erhält eine [Algebra über einem kommutativen Ring](https://de.m.wikipedia.org/wiki/Algebra_über_einem_kommutativen_Ring)."
      ]
    },
    {
      "cell_type": "markdown",
      "metadata": {
        "id": "IgKqC3CHiqOz"
      },
      "source": [
        "https://de.m.wikipedia.org/wiki/Algebra_über_einem_Körper"
      ]
    },
    {
      "cell_type": "markdown",
      "metadata": {
        "id": "gd1eq64oyrkb"
      },
      "source": [
        "**Verallgemeinerung der K-Algebra**"
      ]
    },
    {
      "cell_type": "markdown",
      "metadata": {
        "id": "K9WU-I5tywp4"
      },
      "source": [
        "* Allgemeiner kann $K$ ein kommutativer Ring sein, dann ist „Vektorraum“ durch „Modul“ zu ersetzen, und man erhält eine [Algebra über einem kommutativen Ring](https://de.m.wikipedia.org/wiki/Algebra_%C3%BCber_einem_kommutativen_Ring)."
      ]
    },
    {
      "cell_type": "markdown",
      "metadata": {
        "id": "CN2HsENfPHt5"
      },
      "source": [
        "**Körpererweiterungen**"
      ]
    },
    {
      "cell_type": "markdown",
      "metadata": {
        "id": "qo0dCquzPPxB"
      },
      "source": [
        "https://de.m.wikipedia.org/wiki/Vektorraum#K%C3%B6rpererweiterungen"
      ]
    },
    {
      "cell_type": "markdown",
      "metadata": {
        "id": "95DgzdjZ3PTj"
      },
      "source": [
        "**Assoziative Algebra**"
      ]
    },
    {
      "cell_type": "markdown",
      "metadata": {
        "id": "rtSIIfVH3OI_"
      },
      "source": [
        "* [Assoziative Algebra](https://de.m.wikipedia.org/wiki/Assoziative_Algebra)\n",
        "\n",
        "* Es handelt sich um eine algebraische Struktur, die den Begriff des Vektorraums bzw. des Moduls dahingehend erweitert, dass zusätzlich zur Vektoraddition eine **assoziative Multiplikation** als innere Verknüpfung definiert wird."
      ]
    },
    {
      "cell_type": "markdown",
      "metadata": {
        "id": "t6K1nm6mJdv0"
      },
      "source": [
        "[Numerische Verfahren:](https://de.m.wikipedia.org/wiki/Liste_numerischer_Verfahren) lineare Gleichungssysteme, Eigenwerte etc"
      ]
    },
    {
      "cell_type": "markdown",
      "metadata": {
        "id": "x-jUXB20rykQ"
      },
      "source": [
        "* Lineare Abbildung zwischen Vektorräumen\n",
        "\n",
        "* Erfüllt Bedingung der Homogenität und der Additivität (siehe unter Morphismen das Thema \"Vektorraumhomomorphismus\")"
      ]
    },
    {
      "cell_type": "markdown",
      "metadata": {
        "id": "3VFhyOwKlduw"
      },
      "source": [
        "https://de.m.wikipedia.org/wiki/Lineares_Gleichungssystem#Matrixform"
      ]
    },
    {
      "cell_type": "markdown",
      "metadata": {
        "id": "4qGUprIALiYY"
      },
      "source": [
        "https://de.m.wikipedia.org/wiki/Lineare_Algebra#Wichtige_Sätze_und_Ergebnisse"
      ]
    },
    {
      "cell_type": "markdown",
      "metadata": {
        "id": "cJ5JeAcWXYNu"
      },
      "source": [
        "https://mathepedia.de/Lineare_Abbildungen.html"
      ]
    },
    {
      "cell_type": "markdown",
      "metadata": {
        "id": "VJZcYgLwNCNd"
      },
      "source": [
        "https://de.m.wikibooks.org/wiki/Mathematik:_Lineare_Algebra"
      ]
    },
    {
      "cell_type": "markdown",
      "metadata": {
        "id": "4BR0eKuy6FCt"
      },
      "source": [
        "https://de.m.wikipedia.org/wiki/Diagonalmatrix"
      ]
    },
    {
      "cell_type": "markdown",
      "metadata": {
        "id": "PKnoH_tc2luZ"
      },
      "source": [
        "###### **Basis & Orthonormalbasis**"
      ]
    },
    {
      "cell_type": "markdown",
      "metadata": {
        "id": "wQgmcQfC5qYe"
      },
      "source": [
        "*Basis*"
      ]
    },
    {
      "cell_type": "markdown",
      "metadata": {
        "id": "TTZNMFPf2koN"
      },
      "source": [
        "* Jeder Vektorraum hat mindestens eine [Basis](https://de.wikipedia.org/wiki/Basis_(Vektorraum))."
      ]
    },
    {
      "cell_type": "markdown",
      "metadata": {
        "id": "AucXY1NsAf6R"
      },
      "source": [
        "*Orthonormalbasis*"
      ]
    },
    {
      "cell_type": "markdown",
      "metadata": {
        "id": "rc1mdTTOAlfK"
      },
      "source": [
        "* **Orthogonalisieren**: zwei (oder mehr) Vektoren orthogonal zueinander bringen\n",
        "\n",
        "* **Orthonormalisieren**: diese auch noch auf Lange 1 zu normalisieren\n",
        "\n",
        "* Ziel: Vereinfachung des Rechnens mit Vektoren\n",
        "\n",
        "* Eine [Orthonormalbasis](https://de.wikipedia.org/wiki/Orthonormalbasis) (ONB) oder ein vollständiges Orthonormalsystem (VONS) in den mathematischen Gebieten lineare Algebra und Funktionalanalysis **ist eine Menge von Vektoren aus einem Vektorraum mit Skalarprodukt (Innenproduktraum), welche auf die Länge eins normiert und zueinander orthogonal sind** (daher Ortho-normal-basis) und deren lineare Hülle dicht im Vektorraum liegt. \n",
        "\n",
        "* Im endlichdimensionalen Fall ist dies eine Basis des Vektorraums. Im unendlichdimensionalen Fall handelt es sich nicht um eine Vektorraumbasis im Sinn der linearen Algebra.\n",
        "\n",
        "* Verzichtet man auf die Bedingung, dass die Vektoren auf die Länge eins normiert sind, so spricht man von einer **Orthogonalbasis**.\n",
        "\n",
        "* Der Begriff der Orthonormalbasis ist sowohl im Fall endlicher Dimension als auch für unendlichdimensionale Räume, insbesondere Hilberträume, von großer Bedeutung.\n",
        "\n",
        "* Siehe auch [Gram-Schmidtsches Orthogonalisierungsverfahren\n",
        "](https://de.wikipedia.org/wiki/Gram-Schmidtsches_Orthogonalisierungsverfahren) und [Video dazu](https://www.youtube.com/watch?v=SLEElig-C9w)"
      ]
    },
    {
      "cell_type": "markdown",
      "metadata": {
        "id": "67gIZXbG5db3"
      },
      "source": [
        "###### **Skalar, Determinante & Spur**"
      ]
    },
    {
      "cell_type": "markdown",
      "metadata": {
        "id": "s8I3t063LsOf"
      },
      "source": [
        "*Determinante*"
      ]
    },
    {
      "cell_type": "markdown",
      "metadata": {
        "id": "Y_RIOxr9LuLh"
      },
      "source": [
        "* Eine [Determinante](https://de.m.wikipedia.org/wiki/Determinante) ist eine spezielle Funktion, eine Zahl (ein [Skalar](https://de.m.wikipedia.org/wiki/Skalar_(Mathematik))), die einer quadratischen Matrix eine Zahl zuordnet.\n",
        "\n",
        "* Diese Zahl gibt Auskunft über einige Eigenschaften der Matrix:\n",
        "\n",
        "  * Sie gibt an, wie sich das **Volumen** bei der durch die Matrix beschriebenen linearen Abbildung ändert (**Faktor der Flachen- bzw. Volumenanderung**). det A = 4 bedeutet zB dass die Matrix den Flächeninhalt vervierfacht.\n",
        "\n",
        "  * **Ist die Determinante =0, so sind die Vektoren linear abhängig.**\n",
        "\n",
        "  * Mit Hilfe von Determinanten kann man beispielsweise feststellen, ob ein lineares Gleichungssystem eindeutig lösbar ist, und kann die Lösung mit Hilfe der [Cramerschen Regel](https://de.m.wikipedia.org/wiki/Cramersche_Regel) explizit angeben. **Das Gleichungssystem ist genau dann eindeutig lösbar, wenn die Determinante der Koeffizientenmatrix ungleich null ist**. \n",
        "\n",
        "    * Die Cramersche Regel oder Determinantenmethode ist eine mathematische Formel für die Lösung eines linearen Gleichungssystems. Sie ist bei der theoretischen Betrachtung linearer Gleichungssysteme hilfreich. \n",
        "    \n",
        "    * Für die Berechnung einer Lösung ist der Rechenaufwand jedoch in der Regel zu hoch, da dabei verhältnismäßig viele Determinanten auftreten. Deshalb kommen dazu andere [Verfahren aus der numerischen Mathematik](https://de.m.wikipedia.org/wiki/Liste_numerischer_Verfahren#Lineare_Gleichungssysteme) zum Einsatz.\n",
        "  \n",
        "  * Entsprechend ist eine quadratische Matrix mit Einträgen aus einem Körper genau dann **invertierbar**, wenn ihre Determinante ungleich null ist.\n",
        "\n",
        "  * Schreibt man $n$ Vektoren im $\\mathbb {R} ^{n}$ als Spalten einer quadratischen Matrix, so kann die Determinante dieser Matrix gebildet werden. Bilden bei dieser Festlegung die $n$ Vektoren eine Basis, so kann das Vorzeichen der Determinante dazu verwendet werden, die **Orientierung** von euklidischen Räumen zu definieren. Der Absolutbetrag dieser Determinante entspricht zugleich dem **Volumen** des n-Parallelotops (auch Spat genannt), das durch diese Vektoren aufgespannt wird.\n",
        "  \n",
        "  * Eine weitere wichtige Anwendung ist die Berechnung des charakteristischen Polynoms und damit der Eigenwerte der Matrix.\n",
        "\n",
        "  *  Allgemeiner kann man jeder linearen Selbstabbildung [(Endomorphismus) eine Determinante](https://de.m.wikipedia.org/wiki/Determinante#Determinante_eines_Endomorphismus) zuordnen. (Da ähnliche Matrizen die gleiche Determinante haben, kann man die Definition der Determinante von quadratischen Matrizen auf die durch diese Matrizen dargestellten linearen Selbstabbildungen (Endomorphismen) übertragen.)\n",
        "\n",
        "\n",
        "\n"
      ]
    },
    {
      "cell_type": "markdown",
      "metadata": {
        "id": "r1VS32wOn7V3"
      },
      "source": [
        "*Loesung*\n",
        "\n",
        "* Es gibt geschlossene Formeln zur Berechnung der Determinanten, wie den Laplace’schen Entwicklungssatz oder die [Leibniz-Formel](https://de.m.wikipedia.org/wiki/Determinante#Leibniz-Formel). Diese Formeln sind jedoch eher von theoretischem Wert, da ihr Aufwand bei größeren Matrizen stark ansteigt. \n",
        "\n",
        "* In der Praxis kann man Determinanten am leichtesten berechnen, indem man die Matrix mit Hilfe des [Gauß-Algorithmus](https://de.m.wikipedia.org/wiki/Gau%C3%9Fsches_Eliminationsverfahren) in obere oder untere Dreiecksform bringt, die Determinante ist dann einfach das Produkt der [Hauptdiagonalelemente](https://de.m.wikipedia.org/wiki/Hauptdiagonale).\n",
        "\n",
        "  * Will man das Lösen eines quadratischen eindeutig lösbaren Gleichungssystems Ax=b als Computerprogramm umsetzen, bietet es sich an, den Gaußalgorithmus als [LR-Zerlegung (auch LU-Zerlegung oder Dreieckszerlegung genannt)](https://de.m.wikipedia.org/wiki/Gau%C3%9Fsches_Eliminationsverfahren#LR-Zerlegung) zu interpretieren.\n",
        "\n",
        "* Eine Alternative hierzu ist der [Gauß-Jordan-Algorithmus](https://de.m.wikipedia.org/wiki/Gau%C3%9F-Jordan-Algorithmus), bei dem nicht nur die unteren Teile eliminiert werden, sondern auch die oberen, so dass eine Diagonalform entsteht, bei der dann der oben genannte zweite Schritt entfällt.\n",
        "\n"
      ]
    },
    {
      "cell_type": "markdown",
      "metadata": {
        "id": "DfD244DFkJ_U"
      },
      "source": [
        "*Schreibweisen*\n",
        "\n",
        "Übliche Schreibweisen für die Determinante einer quadratischen Matrix $A$ sind $\\operatorname{det}(A), \\operatorname{det} A$ oder $|A|$. Zum Beispiel kann die Determinante einer $2 \\times 2$ -Matrix\n",
        "\n",
        ">$\n",
        "A=\\left(\\begin{array}{ll}\n",
        "a & c \\\\\n",
        "b & d\n",
        "\\end{array}\\right)\n",
        "$\n",
        "\n",
        "mit der Formel berechnet werden:\n",
        "\n",
        ">$\n",
        "\\operatorname{det} A=\\left|\\begin{array}{ll}\n",
        "a & c \\\\\n",
        "b & d\n",
        "\\end{array}\\right|=a d-b c\n",
        "$"
      ]
    },
    {
      "cell_type": "markdown",
      "metadata": {
        "id": "AveT-GVHj_rK"
      },
      "source": [
        "*Die 2x2-Determinante **ist gleich dem orientierten Flächeninhalt** des von ihren Spaltenvektoren aufgespannten Parallelogramms*\n",
        "\n",
        "![ggg](https://upload.wikimedia.org/wikipedia/commons/thumb/a/ad/Area_parallellogram_as_determinant.svg/440px-Area_parallellogram_as_determinant.svg.png)"
      ]
    },
    {
      "cell_type": "markdown",
      "metadata": {
        "id": "4GqHv38Lh3z3"
      },
      "source": [
        "*Skalar*"
      ]
    },
    {
      "cell_type": "markdown",
      "metadata": {
        "id": "TkCe1kdth5cQ"
      },
      "source": [
        "https://de.m.wikipedia.org/wiki/Skalar_(Mathematik)"
      ]
    },
    {
      "cell_type": "markdown",
      "metadata": {
        "id": "BRkE9hezOndG"
      },
      "source": [
        "*Spur*"
      ]
    },
    {
      "cell_type": "markdown",
      "metadata": {
        "id": "cbHVy5KxOo8a"
      },
      "source": [
        "* Die [Spur](https://de.m.wikipedia.org/wiki/Spur_(Mathematik)) (Spurfunktion, Spurabbildung) ist ein Konzept in den mathematischen Teilgebieten der Linearen Algebra sowie der Funktionalanalysis und wird auch in der Theorie der Körper und Körpererweiterungen verwendet."
      ]
    },
    {
      "cell_type": "markdown",
      "metadata": {
        "id": "C2RMiNq8MzzY"
      },
      "source": [
        "###### **Eigenwertproblem**"
      ]
    },
    {
      "cell_type": "markdown",
      "metadata": {
        "id": "UE_1v9IbYk03"
      },
      "source": [
        "https://www.youtube.com/watch?v=PFDu9oVAE-g"
      ]
    },
    {
      "cell_type": "markdown",
      "metadata": {
        "id": "2Xs4wmtVZBYA"
      },
      "source": [
        "Some vectors are just stretched or squeezed out, but ramin on their span. they are called Eigenvectors, and the degree to which each of them got stretched during the transformation (=change of basis!) is called Eigenvalue."
      ]
    },
    {
      "cell_type": "markdown",
      "metadata": {
        "id": "ejJGgzLRZdpG"
      },
      "source": [
        "![ggg](https://raw.githubusercontent.com/deltorobarba/repo/master/eigenvalue_01.png)"
      ]
    },
    {
      "cell_type": "markdown",
      "metadata": {
        "id": "tAcjHNOhaJRQ"
      },
      "source": [
        "Useful for example to know the axis of rotation (where the Eigenvalue would be 1, since rotation is neither stretching nor squishing).\n",
        "\n",
        "> Rotate $30^{\\circ}$ around $\\left[\\begin{array}{l}2 \\\\ 3 \\\\ 1\\end{array}\\right]$ = $\\left[\\begin{array}{ccc}\\cos (\\theta) \\cos (\\phi) & -\\sin (\\phi) & \\cos (\\theta) \\sin (\\phi) \\\\ \\sin (\\theta) \\cos (\\phi) & \\cos (\\theta) & \\sin (\\theta) \\sin (\\phi) \\\\ -\\sin (\\phi) & 0 & \\cos (\\phi)\\end{array}\\right]$"
      ]
    },
    {
      "cell_type": "markdown",
      "metadata": {
        "id": "zcJPAwTAaIWF"
      },
      "source": [
        "![ggg](https://raw.githubusercontent.com/deltorobarba/repo/master/eigenvalue_02.png)"
      ]
    },
    {
      "cell_type": "markdown",
      "metadata": {
        "id": "UaTq38mLLTZQ"
      },
      "source": [
        "*Eigenwert & Eigenvektor*"
      ]
    },
    {
      "cell_type": "markdown",
      "metadata": {
        "id": "o3no_yfnKBxW"
      },
      "source": [
        "* Die Multiplikation einer Matrix  mit einem Vektor ergibt wieder einen Vektor. \n",
        "\n",
        "* **Für quadratische Matrizen gibt es bestimmte Vektoren, die man an die Matrix multiplizieren kann, sodass man den selben Vektor als Ergebnis erhält, nur mit einem Vorfaktor multipliziert**. \n",
        "\n",
        "* Einen solchen Vektor nennt man Eigenvektor  und der Vorfaktor heißt Eigenwert einer Matrix.\n"
      ]
    },
    {
      "cell_type": "markdown",
      "metadata": {
        "id": "OO6cp75wKQuS"
      },
      "source": [
        "Es sei eine quadratische Matrix $A$ gegeben. Die Suche nach einem Vektor $v \\neq 0$ und einer Zahl $\\lambda$\n",
        "sodass folgende Gleichung erfüllt ist, nennt man Eigenwertproblem:\n",
        "\n",
        ">$\n",
        "A \\cdot v=\\lambda \\cdot v\n",
        "$\n",
        "\n",
        "* $A$ is the matrix representing some transformation\n",
        "* Den Faktor $\\lambda$  nennt man dann den zugehörigen **Eigenwert** (reell oder komplex), \n",
        "* der Vektor $v$ heißt dann **Eigenvektor** (darf nicht der Nullvektor sein). \n",
        "* Die Menge der Eigenwerte einer Matrix wird als **Spektrum** der Matrix bezeichnet.\n",
        "\n",
        "Matrix-Vector-Multiplication $\n",
        "A \\cdot v$ gives same result as just scaling the Eigenvector $\\lambda \\cdot v$. \n",
        "\n",
        "Calculating via determinant: The tweaked transformation squishes space into a lower dimension."
      ]
    },
    {
      "cell_type": "markdown",
      "metadata": {
        "id": "hiHG7nEULRtj"
      },
      "source": [
        "*Berechnung der Eigenwerte*"
      ]
    },
    {
      "cell_type": "markdown",
      "metadata": {
        "id": "5QbDi3hDN8p4"
      },
      "source": [
        "Es sei die $n \\times n$ -Matrix $A$ vorgegeben und zu dieser wollen wir die Eigenwerte berechnen. Folgende Schritte musst du dabei durchführen. \n",
        "\n",
        "> Zum Beispiel fur die Matrix $A=\\left(\\begin{array}{lll}2 & 1 & 2 \\\\ 1 & 2 & 2 \\\\ 1 & 1 & 3\\end{array}\\right)$\n",
        "\n",
        "\n",
        "\n"
      ]
    },
    {
      "cell_type": "markdown",
      "metadata": {
        "id": "GUeaBBxAU734"
      },
      "source": [
        "1. Bilde die Matrix $\\left(A-\\lambda E_{n}\\right)$. $E_{n}$ steht für die **Einheitsmatrix**. Du musst also in der Matrix $A$ auf der Diagonalen immer den Wert $\\lambda$ abziehen.\n",
        "\n",
        "> $\\left(A-\\lambda E_{n}\\right)=\\left(\\begin{array}{lll}2 & 1 & 2 \\\\ 1 & 2 & 2 \\\\ 1 & 1 & 3\\end{array}\\right)-\\left(\\begin{array}{ccc}\\lambda & 0 & 0 \\\\ 0 & \\lambda & 0 \\\\ 0 & 0 & \\lambda\\end{array}\\right)=\\left(\\begin{array}{ccc}2-\\lambda & 1 & 2 \\\\ 1 & 2-\\lambda & 2 \\\\ 1 & 1 & 3-\\lambda\\end{array}\\right)$"
      ]
    },
    {
      "cell_type": "markdown",
      "metadata": {
        "id": "h67G6O08U4kZ"
      },
      "source": [
        "2. Berechne die **Determinante** dieser Matrix. Diese nennt man das **charakteristische Polynom** $\\chi_{A}(\\lambda)=\\operatorname{det}\\left(A-\\lambda E_{n}\\right)$ der Matrix $A .$ Es ist ein Ausdruck in Abhängigkeit von $\\lambda$.\n",
        "\n",
        "> $\\operatorname{det}\\left(A-\\lambda E_{n}\\right)=\\operatorname{det}\\left(\\begin{array}{ccc}2-\\lambda & 1 & 2 \\\\ 1 & 2-\\lambda & 2 \\\\ 1 & 1 & 3-\\lambda\\end{array}\\right)$\n",
        "$=(2-\\lambda)^{2} \\cdot(3-\\lambda)+2+2-2 \\cdot(2-\\lambda)-2 \\cdot(2-\\lambda)-(3-\\lambda)$\n",
        "$=-\\lambda^{3}+7 \\lambda^{2}-11 \\lambda+5$ **(=Polynom)**"
      ]
    },
    {
      "cell_type": "markdown",
      "metadata": {
        "id": "hOfq16Q1U2M_"
      },
      "source": [
        "3. Bestimme die Nullstellen des [**charakteristischen Polynoms**](https://de.m.wikipedia.org/wiki/Charakteristisches_Polynom) $\\chi_{A}(\\lambda)=0$. Das sind genau die gesuchten Eigenwerte der Matrix.\n",
        "\n",
        "> Durch Ausprobieren erhalten wir schnell die erste Nullstelle $\\lambda_{1}=1$. Klammern wir dann den Faktor $(\\lambda-1)$ aus, erhalten wir:\n",
        "$\n",
        "-\\lambda^{3}+7 \\lambda^{2}-11 \\lambda+5=(\\lambda-1) \\cdot\\left(-\\lambda^{2}+6 \\lambda-5\\right)\n",
        "$\n",
        "\n",
        "> Die restlichen Nullstellen sind also Nullstellen des Polynoms $-\\lambda^{2}+6 \\lambda-5 .$ Diese lassen sich mithilfe der [Mitternachtsformel](https://de.m.wikipedia.org/wiki/Quadratische_Gleichung#Lösungsformel_für_die_allgemeine_quadratische_Gleichung_(a-b-c-Formel)) bestimmen:\n",
        "$\n",
        "\\lambda_{2,3}=\\frac{-6 \\pm \\sqrt{36-20}}{-2}=3 \\mp 2\n",
        "$\n",
        "\n",
        "\n",
        "> Somit lauten die drei Eigenwerte der $3 \\times 3$ -Matrix $\\lambda_{1}=\\lambda_{2}=1, \\lambda_{3}=5$."
      ]
    },
    {
      "cell_type": "markdown",
      "metadata": {
        "id": "WZEOlivsWjMO"
      },
      "source": [
        "*Eigenschaften*"
      ]
    },
    {
      "cell_type": "markdown",
      "metadata": {
        "id": "4YWI1XmuWuvy"
      },
      "source": [
        "Will man Eigenwerte berechnen, so ist es häufig nützlich, wenn man ein paar Eigenschaften darüber kennt. Daher sollen im Folgenden ein paar derer aufgezählt werden. Mit Kenntnis dieser Eigenschaften lassen sich häufig Eigenwerte bestimmen, ohne dabei viel rechnen zu müssen.\n",
        "\n",
        "* Sei $\\lambda$ ein Eigenwert der invertierbaren Matrix $A$ mit dem Eigenvektor $v$. Dann ist auch $\\frac{1}{\\lambda}$ ein Eigenwert der inversen Matrix von A zum Eigenvektor $v$,\n",
        "\n",
        "* Seien $\\lambda_{i}$ die Eigenwerte der Matrix $A \\in \\mathbb{C}^{n \\times n}$. Dann gilt:\n",
        "\n",
        "  1. $\\sum_{i=1}^{n} \\lambda_{i}=\\operatorname{Spur}(A)$\n",
        "\n",
        "  2. $\\prod_{i=1}^{n} \\lambda_{i}=\\operatorname{det}(A)$\n",
        "\n",
        "* Ist $\\lambda$ ein Eigenwert einer Matrix $A$, so ist er auch ein Eigenwert der transponierten Matrix $A^{T}$ und umgekehrt. Das Spektrum von $A$ stimmt also mit dem Spektrum der Transponierten $A^{T}$ überein.\n",
        "\n",
        "* Jeder Eigenwert einer reellen symmetrischen Matrix ist reell. Im Allgemeinen können aber\n",
        "auch komplexe Eigenwerte durchaus auftreten."
      ]
    },
    {
      "cell_type": "markdown",
      "metadata": {
        "id": "7PI2V1PFPfSW"
      },
      "source": [
        "*Herleitung der Lösung des Eigenwertproblems*"
      ]
    },
    {
      "cell_type": "markdown",
      "metadata": {
        "id": "HteISTfaPgCj"
      },
      "source": [
        "Nun wollen wir zeigen, wie man zu dieser Berechnungsvorschrift gelangt. Dazu betrachten wir erst einmal das Eigenwertproblem, das es zu lösen gilt:\n",
        "\n",
        "$\n",
        "A \\cdot v=\\lambda \\cdot v\n",
        "$\n",
        "\n",
        "Diese Gleichung lässt sich mithilfe der Einheitsmatrix $E_{n}$ umformulieren:\n",
        "\n",
        "$\n",
        "\\begin{array}{l}\n",
        "A \\cdot v-\\lambda \\cdot v=0 \\\\\n",
        "\\left(A-\\lambda E_{n}\\right) \\cdot v=0\n",
        "\\end{array}\n",
        "$\n",
        "\n",
        "Gibt es nun eine Zahl $\\lambda$ und einen Vektor $v$, sodass dieser durch Multiplikation mit der Matrix\n",
        "$\\left(A-\\lambda E_{n}\\right)$ auf den Nullvektor abgebildet wird, so ist diese Matrix nicht von vollem Rang und die Multiplikation mit einem Vektor nicht injektiv. Dass die Matrix $\\left(A-\\lambda E_{n}\\right)$ keinen vollen Rang besitzt ist gleichbedeutend damit, dass ihre Determinante Null ist. Wenn es\n",
        "also eine Lösung des Eigenwertproblems gibt, muss gelten:\n",
        "\n",
        "$\n",
        "\\operatorname{det}\\left(A-\\lambda E_{n}\\right)=0\n",
        "$\n",
        "\n",
        "Um das Eigenwertproblem zu lösen, müssen also die Nullstellen des charakteristischen\n",
        "Polynoms\n",
        "\n",
        "$\n",
        "\\chi_{A}(\\lambda)=\\operatorname{det}\\left(A-\\lambda E_{n}\\right)\n",
        "$\n",
        "\n",
        "ermittelt werden, genau wie es der Algorithmus vorschreibt."
      ]
    },
    {
      "cell_type": "markdown",
      "metadata": {
        "id": "0jUCA24x5OuA"
      },
      "source": [
        "*Eigenvektor*"
      ]
    },
    {
      "cell_type": "markdown",
      "metadata": {
        "id": "EWe68ag2M2q1"
      },
      "source": [
        "* Ein [Eigenvektor](https://de.m.wikipedia.org/wiki/Eigenwertproblem) einer Abbildung ist in der linearen Algebra ein vom Nullvektor verschiedener Vektor, dessen Richtung durch die Abbildung nicht verändert wird. \n",
        "\n",
        "* Ein Eigenvektor wird also nur skaliert und man bezeichnet den Skalierungsfaktor als Eigenwert der Abbildung.\n",
        "\n",
        "* Eigenwerte charakterisieren wesentliche Eigenschaften linearer Abbildungen, etwa ob ein entsprechendes lineares Gleichungssystem eindeutig lösbar ist oder nicht. "
      ]
    },
    {
      "cell_type": "markdown",
      "metadata": {
        "id": "4jjZrNOiNC_V"
      },
      "source": [
        "*Eigenraum*"
      ]
    },
    {
      "cell_type": "markdown",
      "metadata": {
        "id": "mZKqOG0ANFqz"
      },
      "source": [
        "* [Eigenraum](https://de.m.wikipedia.org/wiki/Eigenraum) ist ein Begriff aus der linearen Algebra. Er bezeichnet die lineare Hülle der Eigenvektoren zu einem bestimmten Eigenwert eines Endomorphismus. Die Eigenvektoren spannen damit einen Untervektorraum auf.\n",
        "\n",
        "* Eine Verallgemeinerung des Eigenraums ist der Hauptraum. Hat ein Eigenwert die algebraische Vielfachheit 1, so sind für diesen Eigenwert Eigenraum und Hauptraum gleich."
      ]
    },
    {
      "cell_type": "markdown",
      "metadata": {
        "id": "16P02MVt5VFP"
      },
      "source": [
        "###### **Linear, Bilinear & Dual**"
      ]
    },
    {
      "cell_type": "markdown",
      "metadata": {
        "id": "RnYfeI8nbrHp"
      },
      "source": [
        "*Lineare Abbildung*"
      ]
    },
    {
      "cell_type": "markdown",
      "metadata": {
        "id": "mwC8xIKejbd5"
      },
      "source": [
        "https://www.youtube.com/watch?v=KK_fHodz-lQ&t=932s"
      ]
    },
    {
      "cell_type": "markdown",
      "metadata": {
        "id": "oVblE4wdcZeW"
      },
      "source": [
        "* Eine [lineare Abbildung](https://de.wikipedia.org/wiki/Lineare_Abbildung) ist ein Vektorraum-Homomorphismus"
      ]
    },
    {
      "cell_type": "markdown",
      "metadata": {
        "id": "G0DuPx0wb024"
      },
      "source": [
        "> $\\varphi: V \\longrightarrow \\omega$\n",
        "\n",
        "Eigenschaften:\n",
        "\n",
        "> $\\varphi\\left(v_{1}+v_{2}\\right)=\\varphi\\left(v_{c}\\right)+\\varphi\\left(v_{2}\\right)$\n",
        "\n",
        "> $\\varphi(\\lambda \\cdot v)=\\lambda \\cdot \\varphi(v)$"
      ]
    },
    {
      "cell_type": "markdown",
      "metadata": {
        "id": "T5An2CAZtGBO"
      },
      "source": [
        "* Eine lineare Abbildung $f\\colon V\\to V$ (also ein Endomorphismus) eines endlichdimensionalen Vektorraumes $V$ ist bereits invertierbar, wenn sie injektiv oder surjektiv ist. \n",
        "\n",
        "* Dies ist wiederum genau dann der Fall, wenn ihre Determinante ungleich null ist. \n",
        "\n",
        "* Hieraus folgt, dass die Eigenwerte eines Endomorphismus genau die Nullstellen seines charakteristischen Polynoms sind. \n",
        "\n",
        "* Eine weitere wichtige Aussage über das charakteristische Polynom ist der Satz von Cayley-Hamilton."
      ]
    },
    {
      "cell_type": "markdown",
      "metadata": {
        "id": "Z9HKc4DefUMp"
      },
      "source": [
        "*Linearform*"
      ]
    },
    {
      "cell_type": "markdown",
      "metadata": {
        "id": "wEQxy1PMfdz3"
      },
      "source": [
        "* Eine [Linearform](https://de.wikipedia.org/wiki/Linearform) ist ein Objekt aus dem mathematischen Teilgebiet der linearen Algebra. Es handelt sich dabei um eine lineare Abbildung von einem Vektorraum in den zugrundeliegenden Körper.\n",
        "\n",
        "* Es sei $K$ ein Körper und $V$ ein $K$ -Vektorraum. Eine Abbildung $f: V \\rightarrow K$ heißt Linearform, wenn für alle Vektoren $x, y \\in V$ und Skalare $\\alpha \\in K$ gilt:\n",
        "\n",
        "  1. $f(x+y)=f(x)+f(y)$ (**Additivität**);\n",
        "\n",
        "  2. $f(\\alpha x)=\\alpha f(x)$ (**Homogenität**).\n",
        "\n",
        "* Im Kontext der Funktionalanalysis, das heißt im Falle eines topologischen $\\mathbb {R}$ - oder $\\mathbb {C}$-Vektorraums, sind die betrachteten Linearformen meistens stetige lineare Funktionale.\n",
        "\n",
        "* Linearform als Tensor: Eine Linearform $f$ ist ein kovarianter Tensor erster Stufe; man nennt sie deshalb manchmal auch [1-Form (Pfaffsche Form)](https://de.wikipedia.org/wiki/Pfaffsche_Form). 1-Formen bilden die Grundlage für die Einführung von Differentialformen. Pfaffsche Formen sind die natürlichen Integranden für Wegintegrale.\n",
        "\n",
        "* \n",
        "Eine Abbildung, die linear oder semilinear in mehr als einem Argument ist, ist eine [Sesquilinearform](https://de.wikipedia.org/wiki/Sesquilinearform), eine [Bilinearform](https://de.wikipedia.org/wiki/Bilinearform), oder allgemein eine [Multilinearform](https://de.wikipedia.org/wiki/Multilinearform).\n",
        "\n",
        "* 'Linear form' is a more modern and abstract concept of 'functional'\n",
        "\n",
        "* Im Kontext der Funktionalanalysis, das heißt im Falle eines topologischen \n",
        "$\\mathbb {R}$ - oder $\\mathbb {C}$-Vektorraums, sind die betrachteten Linearformen meistens [stetige lineare Funktionale](https://de.m.wikipedia.org/wiki/Funktional#Stetige_lineare_Funktionale).\n",
        "\n",
        "* **Übergang zu Dualraum**: Die Menge aller Linearformen (= stetigen, linearen Abbildungen) über einem gegebenen Vektorraum $V$ bildet dessen Dualraum $V^{*}$ und damit selbst wieder in natürlicher Weise einen $K$ -Vektorraum."
      ]
    },
    {
      "cell_type": "markdown",
      "metadata": {
        "id": "UOy1jeecu7Vy"
      },
      "source": [
        "*Linearkombination*"
      ]
    },
    {
      "cell_type": "markdown",
      "metadata": {
        "id": "rZVoEQOZu9xJ"
      },
      "source": [
        "* Unter einer [Linearkombination](https://de.m.wikipedia.org/wiki/Linearkombination) versteht man in der linearen Algebra einen Vektor, der sich durch gegebene Vektoren unter Verwendung der Vektoraddition und der skalaren Multiplikation ausdrücken lässt.\n",
        "\n"
      ]
    },
    {
      "cell_type": "markdown",
      "metadata": {
        "id": "am14siVaZVod"
      },
      "source": [
        "*Bilineare Abbildung*"
      ]
    },
    {
      "cell_type": "markdown",
      "metadata": {
        "id": "_PBVIB0tZaE8"
      },
      "source": [
        "* Bilinear = gemischtes Assoziativgesetz & Distributivgesetz\n",
        "\n",
        "* [Bilineare Abbildungen](https://de.m.wikipedia.org/wiki/Bilineare_Abbildung) verallgemeinern die verschiedensten Begriffe von Produkten (im Sinne einer Multiplikation). \n",
        "\n",
        "* Die Bilinearität entspricht dem Distributivgesetz bei der normalen Multiplikation:\n",
        "\n",
        ">$\n",
        "a \\cdot(b+c)=a \\cdot b+a \\cdot c\n",
        "$\n",
        "\n",
        "* Beispiel: \n",
        "\n",
        "  * Sämtliche gemeinhin übliche Produkte sind bilineare Abbildungen: die Multiplikation in einem Körper (reelle, komplexe, rationale Zahlen) oder einem Ring (ganze Zahlen, Matrizen), \n",
        "  \n",
        "  * aber auch das Vektor- oder Kreuzprodukt, \n",
        "  \n",
        "  * und das Skalarprodukt auf einem reellen Vektorraum.\n"
      ]
    },
    {
      "cell_type": "markdown",
      "metadata": {
        "id": "J-xG4GXrbJBc"
      },
      "source": [
        "*Bilinearformen*"
      ]
    },
    {
      "cell_type": "markdown",
      "metadata": {
        "id": "YgRnyYJxi8Nf"
      },
      "source": [
        "https://www.youtube.com/watch?v=TjAFH6hWg1I"
      ]
    },
    {
      "cell_type": "markdown",
      "metadata": {
        "id": "KZ_Br1SeMgEs"
      },
      "source": [
        "* man kann Winkel nicht mit linearen Abbildungen beschreiben, weil es dafur 2 Vektoren braucht. Dafur hat man Bilinearform\n",
        "\n",
        "* **Ein Spezialfall der bilinearen Abbildungen sind die Bilinearformen (Winkel sind wichtiger Anwendungsfall dafur).** \n",
        "\n",
        "* **Jedes Skalarprodukt ist wiederum eine spezielle Bilinearform** (es gelten noch weitere Eigenschaften: symmetrisch <v,w> = <w,v>, und positiv definit). Genauso Integral.\n",
        "\n",
        "* Input sind zwei Vektoren (zB in R2 und in R3), aber Ziel ist nicht Vektorraum (wie bei linearen Abbildungen), sondern ein Koerper (zB reelle Zahlen R allgemein). Eine bilinearform ordnet praktisch zwei Vektoren ein Zahl zu (zB Winkel)\n",
        "\n",
        "* Bei diesen ist der Wertebereich $G$ mit dem Skalarkörper $K$ der Vektorräume $E$ und $F$ identisch.\n",
        "\n",
        "> $\n",
        "f: E \\times F \\rightarrow K\n",
        "$\n",
        "\n",
        "> $\\langle\\cdot, \\cdot \\rangle\\ : V \\times W \\longrightarrow K$\n",
        "\n",
        "$\\langle\\cdot, \\cdot \\rangle\\$ \n",
        "\n",
        "fur zwei Vektoren ist wie \n",
        "\n",
        "$\\varphi$\n",
        "\n",
        "bei einem Vektor.\n",
        "\n",
        "* Bilinearformen sind für die analytische Geometrie und [Dualitätstheorie](https://de.m.wikipedia.org/wiki/Dualität_(Mathematik)) wichtig.\n",
        "\n",
        "* Als [Bilinearform](https://de.m.wikipedia.org/wiki/Bilinearform#) bezeichnet man in der linearen Algebra eine Funktion, welche zwei Vektoren einen Skalarwert zuordnet und die linear in ihren beiden Argumenten ist."
      ]
    },
    {
      "cell_type": "markdown",
      "metadata": {
        "id": "Xn_GUomJiA7X"
      },
      "source": [
        "[Bilinearform](https://de.wikipedia.org/wiki/Bilinearform): cross product of two vectors, normal and tangent, see [Frenet–Serret_formulas](https://en.m.wikipedia.org/wiki/Frenet–Serret_formulas)."
      ]
    },
    {
      "cell_type": "markdown",
      "metadata": {
        "id": "3pcDMUh0W28v"
      },
      "source": [
        "*Projektion*"
      ]
    },
    {
      "cell_type": "markdown",
      "metadata": {
        "id": "-9FiTDIFU438"
      },
      "source": [
        "https://de.m.wikipedia.org/wiki/Projektion_(Lineare_Algebra)"
      ]
    },
    {
      "cell_type": "markdown",
      "metadata": {
        "id": "RnXE8yB5jgSI"
      },
      "source": [
        "*Dualraum*"
      ]
    },
    {
      "cell_type": "markdown",
      "metadata": {
        "id": "T_3nXUY3jiow"
      },
      "source": [
        "https://www.youtube.com/watch?v=2vvjrBbcTZU&t=480s"
      ]
    },
    {
      "cell_type": "markdown",
      "metadata": {
        "id": "lZucZX5uoQOG"
      },
      "source": [
        "###### **Faktorraum & Untervektorraum**"
      ]
    },
    {
      "cell_type": "markdown",
      "metadata": {
        "id": "Mu0xvRQ6p4xC"
      },
      "source": [
        "* Jeder Vektorraum hat mindestens eine Basis. Je zwei Basen eines Vektorraumes haben gleich viele Elemente; nur deshalb ist es sinnvoll, von der Dimension eines Vektorraumes zu sprechen. \n",
        "\n",
        "* Für Summen und Durchschnitte von [Untervektorräumen](https://de.wikipedia.org/wiki/Untervektorraum) gilt die Dimensionsformel und für die Dimensionen von [Faktorräumen](https://de.wikipedia.org/wiki/Faktorraum) die Formel $\\dim V/U=\\dim V-\\dim U$."
      ]
    },
    {
      "cell_type": "markdown",
      "metadata": {
        "id": "dJsY5Ba9E2P1"
      },
      "source": [
        "*Lineare Hülle (Span)*"
      ]
    },
    {
      "cell_type": "markdown",
      "metadata": {
        "id": "4AUkiDlBE4CB"
      },
      "source": [
        "https://de.wikipedia.org/wiki/Lineare_Hülle"
      ]
    },
    {
      "cell_type": "markdown",
      "metadata": {
        "id": "Zppo7qtzowMx"
      },
      "source": [
        "###### **Homomorphiesatz & Rangsatz**"
      ]
    },
    {
      "cell_type": "markdown",
      "metadata": {
        "id": "Tpn4OpISqDQ2"
      },
      "source": [
        "* Jede lineare Abbildung $f\\colon V\\to W$ ist durch die Angabe der Bilder einer Basis von $V$ eindeutig festgelegt. \n",
        "\n",
        "* Für lineare Abbildungen gelten der [Homomorphiesatz](https://de.wikipedia.org/wiki/Homomorphiesatz) und der [Rangsatz](https://de.wikipedia.org/wiki/Rangsatz). \n",
        "\n",
        "* Lineare Abbildungen können bezüglich fest gewählter Basen durch Matrizen dargestellt werden. Dabei entspricht der Hintereinanderausführung von linearen Abbildungen die Multiplikation ihrer Darstellungsmatrizen."
      ]
    },
    {
      "cell_type": "markdown",
      "metadata": {
        "id": "Km4QJ7cPpMd8"
      },
      "source": [
        "Eine weitreichende Verallgemeinerung des Rangsatzes ist die Aussage, dass die alternierende Summe der Dimensionen der einzelnen Komponenten eines [Kettenkomplexes](https://de.wikipedia.org/wiki/Kettenkomplex) gleich der alternierenden Summe der Dimensionen seiner Homologiegruppen ist. Siehe dazu die [Euler-Charakteristik eines Kettenkomplexes](https://de.wikipedia.org/wiki/Kettenkomplex#Euler-Charakteristik)."
      ]
    },
    {
      "cell_type": "markdown",
      "metadata": {
        "id": "be1delop5C-L"
      },
      "source": [
        "###### **Produkte**"
      ]
    },
    {
      "cell_type": "markdown",
      "metadata": {
        "id": "lP-7CmCaNZNN"
      },
      "source": [
        "*Skalarprodukt (Dot Product)*"
      ]
    },
    {
      "cell_type": "markdown",
      "metadata": {
        "id": "cL06JjQ0NcpH"
      },
      "source": [
        "* Das [Skalarprodukt](https://de.m.wikipedia.org/wiki/Skalarprodukt) (auch inneres Produkt oder Punktprodukt) ist eine mathematische Verknüpfung, die zwei Vektoren eine Zahl (Skalar) zuordnet.\n",
        "\n",
        "* Es ist Gegenstand der analytischen Geometrie und der linearen Algebra. Historisch wurde es zuerst im euklidischen Raum eingeführt. \n",
        "\n",
        "* Geometrisch berechnet man das Skalarprodukt zweier Vektoren $\\vec {a}$ und $\\vec {b}$ nach der Formel\n",
        "\n",
        ">$\n",
        "\\vec{a} \\cdot \\vec{b}=|\\vec{a}||\\vec{b}| \\cos \\triangleleft(\\vec{a}, \\vec{b})\n",
        "$\n",
        "\n",
        "* Dabei bezeichnen $|\\vec{a}|$ und $|\\vec{b}|$ jeweils die Längen (Beträge) der Vektoren. Mit $\\cos \\triangleleft(\\vec{a}, \\vec{b})=\\cos \\varphi$ wird der Kosinus des von den beiden Vektoren eingeschlossenen Winkels $\\varphi$ bezeichnet. Das Skalarprodukt zweier Vektoren gegebener Länge ist damit null, wenn sie senkrecht zueinander stehen, und maximal, wenn sie die gleiche Richtung haben."
      ]
    },
    {
      "cell_type": "markdown",
      "metadata": {
        "id": "Nre71ny4X6yj"
      },
      "source": [
        "In einem **kartesischen Koordinatensystem** berechnet sich das Skalarprodukt zweier Vektoren $\\vec{a}=\\left(a_{1}, a_{2}, a_{3}\\right)$ und $\\vec{b}=\\left(b_{1}, b_{2}, b_{3}\\right)$ als\n",
        "\n",
        ">$\n",
        "\\vec{a} \\cdot \\vec{b}=a_{1} b_{1}+a_{2} b_{2}+a_{3} b_{3}\n",
        "$\n",
        "\n",
        "Kennt man die kartesischen Koordinaten der Vektoren, so kann man mit dieser Formel das Skalarprodukt und daraufhin mit der Formel aus dem vorhergehenden Absatz den Winkel $\\varphi=\\alpha(\\vec{a}, \\vec{b})$ zwischen den beiden Vektoren ausrechnen, indem diese nach $\\varphi$ aufgelöst wird:\n",
        "\n",
        ">$\n",
        "\\varphi=\\arccos \\frac{\\vec{a} \\cdot \\vec{b}}{|\\vec{a}||\\vec{b}|}\n",
        "$"
      ]
    },
    {
      "cell_type": "markdown",
      "metadata": {
        "id": "Bl6h98WeW78L"
      },
      "source": [
        "*Das Skalarprodukt zweier Vektoren im euklidischen Anschauungsraum hängt von der Länge der Vektoren und dem eingeschlossenen Winkel ab.*\n",
        "\n",
        "![gg](https://upload.wikimedia.org/wikipedia/commons/thumb/f/fc/Dot-product-1.svg/440px-Dot-product-1.svg.png)"
      ]
    },
    {
      "cell_type": "markdown",
      "metadata": {
        "id": "8sHjrweRYsim"
      },
      "source": [
        "*In allen drei Beispielen gilt $|\\vec{a}|=5$ und $|\\vec{b}|=3 .$ Die Skalarprodukte ergeben sich mithilfe der speziellen Kosinuswerte $\\cos 0^{\\circ}=1, \\cos 60^{\\circ}=\\frac{1}{2}$ und $\\cos 90^{\\circ}=0$ :*"
      ]
    },
    {
      "cell_type": "markdown",
      "metadata": {
        "id": "twRZsFPBYgSd"
      },
      "source": [
        "![gg](https://raw.githubusercontent.com/deltorobarba/repo/master/skalarprodukt.png)"
      ]
    },
    {
      "cell_type": "markdown",
      "metadata": {
        "id": "ZaHcxvFjZCa0"
      },
      "source": [
        "Algebraische Eigenschaften des Skalarprodukt:\n",
        "\n",
        "1. Es ist symmetrisch (Kommutativgesetz):\n",
        "$\\vec{a} \\cdot \\vec{b}=\\vec{b} \\cdot \\vec{a}$ für alle Vektoren $\\vec{a}$ und $\\vec{b}$\n",
        "\n",
        "2. Es ist homogen in jedem Argument (gemischtes Assoziativgesetz):\n",
        "$(r \\vec{a}) \\cdot \\vec{b}=r(\\vec{a} \\cdot \\vec{b})=\\vec{a} \\cdot(r \\vec{b})$ für alle Vektoren $\\vec{a}$ und $\\vec{b}$ und alle Skalare $r \\in \\mathbb{R}$\n",
        "\n",
        "3. Es ist additiv in jedem Argument (Distributivgesetz):\n",
        "$\\vec{a} \\cdot(\\vec{b}+\\vec{c})=\\vec{a} \\cdot \\vec{b}+\\vec{a} \\cdot \\vec{c}$ und\n",
        "$(\\vec{a}+\\vec{b}) \\cdot \\vec{c}=\\vec{a} \\cdot \\vec{c}+\\vec{b} \\cdot \\vec{c}$ für alle Vektoren $\\vec{a}, \\vec{b}$ und $\\vec{c}$.\n",
        "\n",
        "Die Eigenschaften 2 und 3 fasst man auch zusammen zu: Das Skalarprodukt ist [bilinear](https://de.m.wikipedia.org/wiki/Bilineare_Abbildung)."
      ]
    },
    {
      "cell_type": "markdown",
      "metadata": {
        "id": "stqsZWzKN3Pm"
      },
      "source": [
        "*Kreuzprodukt*"
      ]
    },
    {
      "cell_type": "markdown",
      "metadata": {
        "id": "fz_aQ1w7N7F5"
      },
      "source": [
        "* Verknüpfung von zwei Vektoren, deren Ergebnis wieder ein Vektor ist\n",
        "\n",
        "* Das [Kreuzprodukt](https://de.m.wikipedia.org/wiki/Kreuzprodukt), auch Vektorprodukt, vektorielles Produkt oder äußeres Produkt, ist eine Verknüpfung im dreidimensionalen euklidischen Vektorraum, die zwei Vektoren wieder einen Vektor zuordnet. Um es von anderen Produkten, insbesondere vom Skalarprodukt, zu unterscheiden, wird es im deutsch- und englischsprachigen Raum mit einem Malkreuz \n",
        "×\n",
        "\\times  als Multiplikationszeichen geschrieben"
      ]
    },
    {
      "cell_type": "markdown",
      "metadata": {
        "id": "i2eTKpsqnW8l"
      },
      "source": [
        "*Spatprodukt*"
      ]
    },
    {
      "cell_type": "markdown",
      "metadata": {
        "id": "BY-notr2nZTh"
      },
      "source": [
        "* Das [Spatprodukt](https://de.m.wikipedia.org/wiki/Spatprodukt), auch gemischtes Produkt genannt, ist das Skalarprodukt aus dem Kreuzprodukt zweier Vektoren und einem dritten Vektor. \n",
        "\n",
        "* Siehe auch [Parallelepiped (Spat)](https://de.m.wikipedia.org/wiki/Parallelepiped)"
      ]
    },
    {
      "cell_type": "markdown",
      "metadata": {
        "id": "tOasbveIONjn"
      },
      "source": [
        "*Direktes Produkt*"
      ]
    },
    {
      "cell_type": "markdown",
      "metadata": {
        "id": "DMAHs_i5ORVZ"
      },
      "source": [
        "* ein [direktes Produkt](https://de.m.wikipedia.org/wiki/Direktes_Produkt) ist eine mathematische Struktur, die mit Hilfe des kartesischen Produkts aus vorhandenen mathematischen Strukturen gebildet wird. \n",
        "\n",
        "* Wichtige Beispiele sind das direkte Produkt von Gruppen, Ringen und anderen algebraischen Strukturen, sowie direkte Produkte von nichtalgebraischen Strukturen wie topologischen Räumen."
      ]
    },
    {
      "cell_type": "markdown",
      "metadata": {
        "id": "sZzSya6rSLjr"
      },
      "source": [
        "###### **Dünnbesetzte Matrix**"
      ]
    },
    {
      "cell_type": "markdown",
      "metadata": {
        "id": "6IhK7GBvSZrK"
      },
      "source": [
        "* In der [numerischen Mathematik](https://de.m.wikipedia.org/wiki/Numerische_Mathematik) bezeichnet man als [dünnbesetzte oder schwachbesetzte Matrix (englisch sparse matrix)](https://de.m.wikipedia.org/wiki/Dünnbesetzte_Matrix) eine Matrix, bei der so viele Einträge aus Nullen bestehen, dass man nach Möglichkeiten sucht, dies insbesondere hinsichtlich Algorithmen sowie Speicherung auszunutzen.\n",
        "\n",
        "* Die Diskretisierung von partiellen Differentialgleichungen führt meistens auf dünnbesetzte Matrizen, etwa auf Bandmatrizen, ebenfalls die Darstellung von vielen typischen Graphen (bei beschränktem Knotengrad, Planarität o. Ä.) über ihre Adjazenzmatrix. \n",
        "\n",
        "* Zu beachten ist, dass die Inverse einer dünnbesetzten Matrix im Regelfall vollbesetzt ist, ebenso wie die LR-Zerlegung. Eine Ausnahme bilden dabei die Bandmatrizen, bei denen eine solche Zerlegung ebenfalls dünnbesetzt sein kann.\n",
        "\n",
        "* Dünnbesetzte Matrizen haben die Eigenschaft, dass sie effizient abgespeichert werden können, indem man nur Position und Wert der Nicht-Null-Einträge abspeichert. Die Position der Nichtnulleinträge wird auch als Besetzungsstruktur oder Sparsity Pattern bezeichnet. Die Auswertung eines dünnbesetzten Matrix-Vektor-Produkts kann ebenfalls effizient erfolgen, indem die Nullen in der Berechnung des Produkts nicht berücksichtigt werden.\n",
        "\n"
      ]
    },
    {
      "cell_type": "markdown",
      "metadata": {
        "id": "G2gCNB1USNXq"
      },
      "source": [
        "https://de.m.wikipedia.org/wiki/Dünnbesetzte_Matrix"
      ]
    },
    {
      "cell_type": "markdown",
      "metadata": {
        "id": "VX4hU1-JSQFH"
      },
      "source": [
        "###### **Liste numerischer Verfahren fur lineare Gleichungssysteme**"
      ]
    },
    {
      "cell_type": "markdown",
      "metadata": {
        "id": "5XXr15dpSTlv"
      },
      "source": [
        "https://de.m.wikipedia.org/wiki/Liste_numerischer_Verfahren#Lineare_Gleichungssysteme"
      ]
    },
    {
      "cell_type": "markdown",
      "metadata": {
        "id": "9ncUJUElS0kc"
      },
      "source": [
        "* Gaußsches Eliminationsverfahren (bzw. LR-Zerlegung): Ein klassisches direktes Verfahren – für große Matrizen allerdings zu aufwändig.\n",
        "\n",
        "* Cholesky-Zerlegung: Für symmetrische positiv definite Matrizen kann ähnlich wie die LR-Zerlegung eine symmetrische Zerlegung erstellt werden bei halbem Aufwand.\n",
        "\n",
        "* QR-Zerlegung: Ebenfalls ein direktes Verfahren mit mindestens doppelter Laufzeit im Vergleich zum Gauß-Verfahren aber besseren Stabilitätseigenschaften. Umgesetzt mittels Householdertransformationen ist besonders für lineare [Ausgleichsprobleme (Ausgleichsrechnung)](https://de.m.wikipedia.org/wiki/Ausgleichungsrechnung) geeignet.\n",
        "\n",
        "* Splitting-Verfahren: Klassische iterative Verfahren.\n",
        "\n",
        "  * Gauß-Seidel-Verfahren: Wird auch als Einzelschrittverfahren bezeichnet.\n",
        "\n",
        "  * Jacobi-Verfahren: Wird auch als Gesamtschrittverfahren bezeichnet.\n",
        "\n",
        "  * Richardson-Verfahren\n",
        "\n",
        "  * Tschebyschow-Iteration: ein Splitting-Verfahren mit zusätzlicher Beschleunigung\n",
        "\n",
        "  * SOR-Verfahren\n",
        "\n",
        "  * SSOR-Verfahren\n",
        "\n",
        "* Iterative Refinement: Iterative Verbesserung eines direkten Verfahrens, Beziehung zur Grundidee der Krylow-Unterraum-Verfahren\n",
        "\n",
        "* Krylow-Unterraum-Verfahren: Moderne iterative Verfahren, die für große, dünnbesetzte Gleichungssysteme gedacht sind. Wichtiger Spezialfall für symmetrisch positiv definite Probleme ist das Verfahren der konjugierten Gradienten.\n",
        "\n",
        "* Mehrgitterverfahren: Ein modernes Verfahren mit linearer Komplexität speziell für Gleichungssysteme, die von partiellen Differentialgleichungen herrühren.\n",
        "\n",
        "* Vorkonditionierung: Eine Technik, die Kondition einer Matrix in Krylow-Unterraum-Verfahren zu verbessern.\n",
        "\n",
        "* ILU-Zerlegung: Ein wichtiges Vorkonditionierungsverfahren."
      ]
    },
    {
      "cell_type": "markdown",
      "metadata": {
        "id": "hryEPtLGk31L"
      },
      "source": [
        "###### **Beispiele fur Vektorraume**"
      ]
    },
    {
      "cell_type": "markdown",
      "metadata": {
        "id": "XWYh4UmExlqY"
      },
      "source": [
        "https://de.m.wikipedia.org/wiki/Vektorraum#Vektorr%C3%A4ume_mit_zus%C3%A4tzlicher_Struktur"
      ]
    },
    {
      "cell_type": "markdown",
      "metadata": {
        "id": "HbnBDi0xO2VA"
      },
      "source": [
        "**Funktionenraum**"
      ]
    },
    {
      "cell_type": "markdown",
      "metadata": {
        "id": "hPDqWrO6O55i"
      },
      "source": [
        "https://de.m.wikipedia.org/wiki/Funktionenraum"
      ]
    },
    {
      "cell_type": "markdown",
      "metadata": {
        "id": "gUY4T_QBO9Vj"
      },
      "source": [
        "**Folgenraum**"
      ]
    },
    {
      "cell_type": "markdown",
      "metadata": {
        "id": "YSO-Q01APAt4"
      },
      "source": [
        "https://de.m.wikipedia.org/wiki/Folgenraum"
      ]
    },
    {
      "cell_type": "markdown",
      "metadata": {
        "id": "aV02xQ1_PDzD"
      },
      "source": [
        "**Polynomräume**"
      ]
    },
    {
      "cell_type": "markdown",
      "metadata": {
        "id": "gRVrAArWPNOg"
      },
      "source": [
        "https://de.m.wikipedia.org/wiki/Vektorraum#Polynomr%C3%A4ume"
      ]
    },
    {
      "cell_type": "markdown",
      "metadata": {
        "id": "rJynYy2j0olt"
      },
      "source": [
        "#### **Vektorraum: Lineare Abbildungen zwischen unendlichdimensionalen Vektorräumen**"
      ]
    },
    {
      "cell_type": "markdown",
      "metadata": {
        "id": "tU118uUD00pd"
      },
      "source": [
        "* Insbesondere in der Funktionalanalysis betrachtet man [lineare Abbildungen zwischen unendlichdimensionalen Vektorräumen](https://de.m.wikipedia.org/wiki/Lineare_Abbildung#Lineare_Abbildungen_zwischen_unendlichdimensionalen_Vektorr%C3%A4umen). \n",
        "\n",
        "* In diesem Kontext nennt man die linearen Abbildungen meist [lineare Operatoren](https://de.m.wikipedia.org/wiki/Linearer_Operator). \n",
        "\n",
        "* Die betrachteten Vektorräume tragen meist noch die zusätzliche Struktur eines [normierten](https://de.m.wikipedia.org/wiki/Normierter_Raum) vollständigen Vektorraums. Solche Vektorräume heißen [Banachräume](https://de.m.wikipedia.org/wiki/Banachraum). \n",
        "\n",
        "* Im Gegensatz zum endlichdimensionalen Fall reicht es nicht, lineare Operatoren nur auf einer Basis zu untersuchen. Nach dem baireschen Kategoriensatz hat nämlich eine Basis eines unendlichdimensionalen Banachraums überabzählbar viele Elemente und die Existenz einer solchen Basis lässt sich nicht konstruktiv begründen, das heißt nur unter Verwendung des [Auswahlaxioms](https://de.m.wikipedia.org/wiki/Auswahlaxiom) (Zermelo-Fraenkel-Mengenlehre). \n",
        "\n",
        "* Man verwendet daher einen anderen Basisbegriff, etwa [Orthonormalbasen](https://de.m.wikipedia.org/wiki/Orthonormalbasis) oder allgemeiner [Schauderbasen](https://de.m.wikipedia.org/wiki/Schauderbasis). \n",
        "\n",
        "  * In der Funktionalanalysis wird eine Folge $\\left(b_{n}\\right)_{n \\in \\mathbb{N}}$ eines Banachraums als Schauderbasis bezeichnet, falls jeder Vektor bezüglich ihr eine eindeutige Darstellung als (unendliche) Linearkombination hat. \n",
        "  \n",
        "  * Sie ist zu unterscheiden von der [Hamelbasis](https://de.m.wikipedia.org/wiki/Basis_(Vektorraum)), von der verlangt wird, dass sich jeder Vektor als endliche Linearkombination der Basiselemente darstellen lässt.--\n",
        "\n",
        "* Damit können gewisse Operatoren wie zum Beispiel [Hilbert-Schmidt-Operatoren](https://de.m.wikipedia.org/wiki/Hilbert-Schmidt-Operator) mithilfe „unendlich großer Matrizen“ dargestellt werden, wobei dann auch unendliche Linearkombinationen zugelassen werden müssen.\n",
        "\n"
      ]
    },
    {
      "cell_type": "markdown",
      "metadata": {
        "id": "xA0pXc2eO8EQ"
      },
      "source": [
        "#### **Exterior Algebra (Grassmann Algebra)**"
      ]
    },
    {
      "cell_type": "markdown",
      "metadata": {
        "id": "C00Q8w5akdP3"
      },
      "source": [
        "Multilinear algebra, p-vectors / multivectors & Grassmann algebra (Exterior algebra)"
      ]
    },
    {
      "cell_type": "markdown",
      "metadata": {
        "id": "zperKT5CPLHF"
      },
      "source": [
        "* [multilinear algebra](https://en.m.wikipedia.org/wiki/Multilinear_algebra) extends the methods of linear algebra. Just as linear algebra is built on the concept of a vector and develops the theory of vector spaces, multilinear algebra builds on the concepts of [p-vectors and multivectors](https://en.m.wikipedia.org/wiki/Multivector) with [Exterior algebra](https://en.m.wikipedia.org/wiki/Exterior_algebra) bzw. [Grassmann-Algebra](https://de.m.wikipedia.org/wiki/Graßmann-Algebra)."
      ]
    },
    {
      "cell_type": "markdown",
      "metadata": {
        "id": "WbZakT_JTqO3"
      },
      "source": [
        "https://en.m.wikipedia.org/wiki/Vector_algebra"
      ]
    },
    {
      "cell_type": "markdown",
      "metadata": {
        "id": "cWkYX2SwTtOs"
      },
      "source": [
        "https://en.m.wikipedia.org/wiki/Multivector"
      ]
    },
    {
      "cell_type": "markdown",
      "metadata": {
        "id": "6LTIwlVeT2Cd"
      },
      "source": [
        "https://de.m.wikipedia.org/wiki/Tensorprodukt"
      ]
    },
    {
      "cell_type": "markdown",
      "metadata": {
        "id": "qZiwlF6bT9Dh"
      },
      "source": [
        "https://de.m.wikipedia.org/wiki/Tensorprodukt_von_Moduln"
      ]
    },
    {
      "cell_type": "markdown",
      "metadata": {
        "id": "2SnZ4pJ6fbbu"
      },
      "source": [
        "https://en.m.wikipedia.org/wiki/Grassmann–Cayley_algebra"
      ]
    },
    {
      "cell_type": "markdown",
      "metadata": {
        "id": "uuqGW4KpfiOM"
      },
      "source": [
        "**Multivector (Clifford Number)**"
      ]
    },
    {
      "cell_type": "markdown",
      "metadata": {
        "id": "AwulPE-Ufny6"
      },
      "source": [
        "https://en.m.wikipedia.org/wiki/Multivector"
      ]
    },
    {
      "cell_type": "markdown",
      "metadata": {
        "id": "RBsSuU53U5Fw"
      },
      "source": [
        "**Tensoralgebra**"
      ]
    },
    {
      "cell_type": "markdown",
      "metadata": {
        "id": "nvhTNRlSU7Uc"
      },
      "source": [
        "* Die [Tensoralgebra](https://de.m.wikipedia.org/wiki/Tensoralgebra) ist ein mathematischer Begriff, der in vielen Bereichen der Mathematik wie der linearen Algebra, der Algebra, der Differentialgeometrie sowie in der Physik verwendet wird. Sie fasst \"alle Tensoren\" über einem Vektorraum in der Struktur einer graduierten Algebra zusammen."
      ]
    },
    {
      "cell_type": "markdown",
      "metadata": {
        "id": "DXWQRItFVG4G"
      },
      "source": [
        "**Geometric algebra**"
      ]
    },
    {
      "cell_type": "markdown",
      "metadata": {
        "id": "QfeurdJUVNdv"
      },
      "source": [
        "* the [geometric algebra](https://en.m.wikipedia.org/wiki/Geometric_algebra) (GA) of a vector space with a quadratic form (usually the Euclidean metric or the Lorentz metric) is an algebra over a field, the Clifford algebra of a vector space with a quadratic form with its multiplication operation called the geometric product. \n",
        "\n",
        "* The algebra elements are called multivectors, which contains both the scalars F and the vector space V."
      ]
    },
    {
      "cell_type": "markdown",
      "metadata": {
        "id": "zhvMR1gITiev"
      },
      "source": [
        "https://en.m.wikipedia.org/wiki/Comparison_of_vector_algebra_and_geometric_algebra"
      ]
    },
    {
      "cell_type": "markdown",
      "metadata": {
        "id": "vy1c3rSRLsnY"
      },
      "source": [
        "#### **Matrix Factorization (Decomposition)**"
      ]
    },
    {
      "cell_type": "code",
      "metadata": {
        "id": "S71lUKl0Lsnf"
      },
      "source": [
        "import numpy as np\n",
        "import pandas as pd\n",
        "import seaborn as sns\n",
        "import matplotlib.pyplot as plt"
      ],
      "execution_count": null,
      "outputs": []
    },
    {
      "cell_type": "markdown",
      "metadata": {
        "id": "5YR_LxcFTz2Y"
      },
      "source": [
        "**Numerische Verfahren zur Berechnung von Eigenwerten**"
      ]
    },
    {
      "cell_type": "markdown",
      "metadata": {
        "id": "ibIFWCAST4PJ"
      },
      "source": [
        "https://de.m.wikipedia.org/wiki/Liste_numerischer_Verfahren#Berechnung_von_Eigenwerten"
      ]
    },
    {
      "cell_type": "markdown",
      "metadata": {
        "id": "WbQNnCKHTxCi"
      },
      "source": [
        "* QR-Algorithmus: Berechnung aller Eigenwerte, allerdings mit hohen Kosten verbunden.\n",
        "\n",
        "* LR-Algorithmus: Auch Treppeniteration genannt, Vorläufer des QR-Verfahrens, aber weniger zuverlässig.\n",
        "\n",
        "* Potenzmethode: Diese erlaubt die Berechnung des betragsgrößten Eigenwertes.\n",
        "\n",
        "* Unterraumiteration: Diese ist eine mehrdimensionale Erweiterung der Potenzmethode und erlaubt die gleichzeitige Berechnung mehrerer der betragsgrößten Eigenwerte.\n",
        "\n",
        "* Inverse Iteration: Diese erlaubt die schnelle Berechnung von Eigenwerten nahe einem Shift.\n",
        "\n",
        "* Rayleigh-Quotienten-Iteration: Eine spezielle sehr schnell konvergierende Variante der Inversen Iteration mit Shift.\n",
        "\n",
        "* Lanczos-Verfahren: Berechnung einiger Eigenwerte von großen dünnbesetzten Matrizen.\n",
        "\n",
        "* Arnoldi-Verfahren: Berechnung einiger Eigenwerte von großen dünnbesetzten Matrizen.\n",
        "\n",
        "* Jacobi-Verfahren: Berechnung aller Eigenwerte und Eigenvektoren von kleinen symmetrischen Matrizen.\n",
        "\n",
        "* Jacobi-Davidson-Verfahren: Berechnung einiger Eigenwerte von großen dünnbesetzten Matrizen.\n",
        "\n",
        "* Folded Spectrum Method (Spektrumsfaltung): Berechnung eines Eigenwertes und des zugehörigen Eigenvektors nahe einem Shift (aus der Mitte des Spektrums)."
      ]
    },
    {
      "cell_type": "markdown",
      "metadata": {
        "id": "dIzl9WIYrcoQ"
      },
      "source": [
        "##### **Overview**"
      ]
    },
    {
      "cell_type": "markdown",
      "metadata": {
        "id": "lBVQc-tOZXGu"
      },
      "source": [
        "* Not to be confused with Matrix factorization of a polynomial.\n",
        "* In the mathematical discipline of linear algebra, a matrix decomposition or matrix factorization is a factorization of a matrix into a product of matrices. \n",
        "\n",
        "* There are many different matrix decompositions; each finds use among a particular class of problems."
      ]
    },
    {
      "cell_type": "markdown",
      "metadata": {
        "id": "-dpiGjxIZYdt"
      },
      "source": [
        "https://en.wikipedia.org/wiki/Matrix_decomposition"
      ]
    },
    {
      "cell_type": "markdown",
      "metadata": {
        "id": "8ZVIu5FfZZuw"
      },
      "source": [
        "https://en.wikipedia.org/wiki/Matrix_factorization_of_a_polynomial"
      ]
    },
    {
      "cell_type": "markdown",
      "metadata": {
        "id": "SIMbMaUDHB3j"
      },
      "source": [
        "##### **LU Decomposition**"
      ]
    },
    {
      "cell_type": "markdown",
      "metadata": {
        "id": "06ms9XQkR0Ts"
      },
      "source": [
        "**Characteristics of an LU Decomposition**"
      ]
    },
    {
      "cell_type": "markdown",
      "metadata": {
        "id": "_uDrmirVPSXe"
      },
      "source": [
        "The LU decomposition is often used to simplify the **solving of systems of linear equations**, such as **finding the coefficients in a linear regression**, as well as in **calculating the determinant and inverse** of a matrix.\n",
        "\n",
        "* Lower–upper (LU) decomposition or factorization factors a matrix as the product of a lower triangular matrix and an upper triangular matrix. \n",
        "\n",
        "* The product sometimes includes a permutation matrix as well. LU decomposition can be viewed as the matrix form of Gaussian elimination. \n",
        "\n",
        "* Computers usually solve square systems of linear equations using LU decomposition, and it is also a key step when inverting a matrix or computing the determinant of a matrix."
      ]
    },
    {
      "cell_type": "markdown",
      "metadata": {
        "id": "7fK7BDsnHRgk"
      },
      "source": [
        "The **LU decomposition is for square matrices** and decomposes a matrix into L and U components. Let A be a square matrix. An LU factorization refers to the factorization of A, with proper row and/or column orderings or permutations, into two factors – a **lower triangular matrix L** and an **upper triangular matrix U**:\n",
        "\n",
        "> A = L U\n",
        "\n",
        "* The LU decomposition is found using an <u>iterative numerical process</u> and **can fail for those matrices that cannot be decomposed or decomposed easily**.\n",
        "\n",
        "* In the lower triangular matrix all elements above the diagonal are zero, in the upper triangular matrix, all the elements below the diagonal are zero. For example, for a 3 × 3 matrix A, its LU decomposition looks like this:"
      ]
    },
    {
      "cell_type": "markdown",
      "metadata": {
        "id": "P0NjEcfOQBFu"
      },
      "source": [
        "> $\\left[\\begin{array}{lll}\n",
        "a_{11} & a_{12} & a_{13} \\\\\n",
        "a_{21} & a_{22} & a_{23} \\\\\n",
        "a_{31} & a_{32} & a_{33}\n",
        "\\end{array}\\right]=\\left[\\begin{array}{ccc}\n",
        "l_{11} & 0 & 0 \\\\\n",
        "l_{21} & l_{22} & 0 \\\\\n",
        "l_{31} & l_{32} & l_{33}\n",
        "\\end{array}\\right]\\left[\\begin{array}{ccc}\n",
        "u_{11} & u_{12} & u_{13} \\\\\n",
        "0 & u_{22} & u_{23} \\\\\n",
        "0 & 0 & u_{33}\n",
        "\\end{array}\\right]$"
      ]
    },
    {
      "cell_type": "markdown",
      "metadata": {
        "id": "PcKH3CXHSPTV"
      },
      "source": [
        "**Underdeterminism & Unit Triangular Matrix**\n",
        "\n",
        "* Sometimes **equations is [underdetermined](https://en.m.wikipedia.org/wiki/Underdetermined_system)**. In this case any two non-zero elements of L and U matrices are parameters of the solution and can be set arbitrarily to any non-zero value. \n",
        "\n",
        "* Therefore, to find the unique LU decomposition, it is **necessary to put some restriction on L and U matrices**. For example, we can conveniently require the lower triangular matrix L to be a **unit triangular matrix** (i.e. set all the entries of its main diagonal to ones). "
      ]
    },
    {
      "cell_type": "markdown",
      "metadata": {
        "id": "7wrOC5iYU6jk"
      },
      "source": [
        "**Square matrices**\n",
        "\n",
        "* Any square matrix A admits an LUP factorization. If A is [invertible](https://en.m.wikipedia.org/wiki/Invertible_matrix), then it admits an LU (or LDU) factorization if and only if all its leading principal [minors](https://en.m.wikipedia.org/wiki/Minor_(linear_algebra)) are nonzero. \n",
        "\n",
        "* If A is a singular matrix of rank k, then it admits an LU factorization if the first k leading principal minors are nonzero, although the converse is not true.\n",
        "\n",
        "* If a square, invertible matrix has an LDU (factorization with all diagonal entries of L and U equal to 1), then the factorization is unique. In that case, the LU factorization is also unique if we require that the diagonal of L (or U) consists of ones."
      ]
    },
    {
      "cell_type": "markdown",
      "metadata": {
        "id": "EdqfrMkFVmOO"
      },
      "source": [
        "**Symmetric positive definite matrices**\n",
        "\n",
        "* If A is a symmetric (or [Hermitian](https://en.m.wikipedia.org/wiki/Hermitian_matrix), if A is complex) [positive definite](https://en.m.wikipedia.org/wiki/Definite_symmetric_matrix) matrix, we can arrange matters so that U is the [conjugate transpose](https://en.m.wikipedia.org/wiki/Conjugate_transpose) of L. That is, we can write A as\n",
        "\n",
        "> A = LL*\n",
        "\n",
        "* This decomposition is called the **Cholesky decomposition**. The Cholesky decomposition always exists and is unique — provided the matrix is positive definite. \n",
        "\n",
        "* Furthermore, computing the Cholesky decomposition is more efficient and [numerically more stable](https://en.m.wikipedia.org/wiki/Numerical_stability) than computing some other LU decompositions."
      ]
    },
    {
      "cell_type": "markdown",
      "metadata": {
        "id": "MoLAEHYLVf7q"
      },
      "source": [
        "**General matrices**\n",
        "\n",
        "* For a (not necessarily invertible) matrix over any field, the exact necessary and sufficient conditions under which it has an LU factorization are known. \n",
        "\n",
        "* The conditions are expressed in terms of the ranks of certain submatrices. The Gaussian elimination algorithm for obtaining LU decomposition has also been extended to this most general case."
      ]
    },
    {
      "cell_type": "markdown",
      "metadata": {
        "id": "NScrUC_NTUqh"
      },
      "source": [
        "**Variations of LU Decomposition**"
      ]
    },
    {
      "cell_type": "markdown",
      "metadata": {
        "id": "ARKrYJtXUFV1"
      },
      "source": [
        "**LU factorization with partial pivoting (LUP Decomposition)**"
      ]
    },
    {
      "cell_type": "markdown",
      "metadata": {
        "id": "6JJYuQ1qSz8n"
      },
      "source": [
        "A variation of this decomposition that is numerically more stable to solve in practice is called the LUP decomposition, or the **LU decomposition with partial pivoting**.\n",
        "\n",
        "> A = P L U\n",
        "\n",
        "The rows of the parent matrix are re-ordered to simplify the decomposition process and the **additional P matrix specifies a way to permute the result or return the result to the original order**."
      ]
    },
    {
      "cell_type": "markdown",
      "metadata": {
        "id": "xvQWQRRBUYUL"
      },
      "source": [
        "It turns out that a proper permutation in rows (or columns) is sufficient for LU factorization. LU factorization with partial pivoting (LUP) refers often to LU factorization with row permutations only:\n",
        "\n",
        "> PA = LU\n",
        "\n",
        "where L and U are again lower and upper triangular matrices, and P is a [permutation matrix](https://en.m.wikipedia.org/wiki/Permutation_matrix)*, which, when left-multiplied to A, reorders the rows of A. It turns out that all square matrices can be factorized in this form, and the factorization is numerically stable in practice. This makes LUP decomposition a useful technique in practice.\n",
        "\n",
        "*A permutation matrix is a square binary matrix that has exactly one entry of 1 in each row and each column and 0s elsewhere.*"
      ]
    },
    {
      "cell_type": "markdown",
      "metadata": {
        "id": "fHbBijklUI1_"
      },
      "source": [
        "**LU factorization with full pivoting**"
      ]
    },
    {
      "cell_type": "markdown",
      "metadata": {
        "id": "sqpDBr0MUNdO"
      },
      "source": [
        "An LU factorization with full pivoting involves both row and column permutations:\n",
        "\n",
        "> PAQ = LU\n",
        "\n",
        "where L, U and P are defined as before, and Q is a permutation matrix that reorders the columns of A."
      ]
    },
    {
      "cell_type": "markdown",
      "metadata": {
        "id": "wtM3ZbIRQ_ZV"
      },
      "source": [
        "**LDU Decomposition**"
      ]
    },
    {
      "cell_type": "markdown",
      "metadata": {
        "id": "FVfgCceCRmCu"
      },
      "source": [
        "An LDU decomposition is a decomposition of the form\n",
        "\n",
        "> A = LDU\n",
        "\n",
        "where D is a diagonal matrix, and L and U are unitriangular matrices, meaning that all the entries on the diagonals of L and U are one.\n",
        "\n",
        "Below we required that A be a square matrix, but these decompositions can all be generalized to rectangular matrices as well. In that case, **L and D are square matrices** both of which have the same number of rows as A, and U has exactly the same dimensions as A. Upper triangular should be interpreted as having only zero entries below the main diagonal, which starts at the upper left corner."
      ]
    },
    {
      "cell_type": "markdown",
      "metadata": {
        "id": "SgwgHKNRRCpn"
      },
      "source": [
        "![LDU decomposition of a Walsh matrix](https://upload.wikimedia.org/wikipedia/commons/thumb/8/84/LDU_decomposition_of_Walsh_16.svg/640px-LDU_decomposition_of_Walsh_16.svg.png)\n",
        "\n",
        "*LDU decomposition of a [Walsh matrix](https://en.m.wikipedia.org/wiki/Walsh_matrix)*"
      ]
    },
    {
      "cell_type": "markdown",
      "metadata": {
        "id": "6TfIjoZITagA"
      },
      "source": [
        "**Example**"
      ]
    },
    {
      "cell_type": "markdown",
      "metadata": {
        "id": "UNuYRYpUJUHQ"
      },
      "source": [
        "**Define Matrix**"
      ]
    },
    {
      "cell_type": "code",
      "metadata": {
        "id": "8LQILavQHeHI",
        "colab": {
          "base_uri": "https://localhost:8080/"
        },
        "outputId": "5341ad66-d2c7-4da8-b37a-b578d5ad81b6"
      },
      "source": [
        "# LU decomposition\n",
        "from numpy import array\n",
        "\n",
        "# define a square matrix\n",
        "A = array([[1, 2, 3], [4, 5, 6], [7, 8, 9]])\n",
        "print(A)"
      ],
      "execution_count": null,
      "outputs": [
        {
          "output_type": "stream",
          "text": [
            "[[1 2 3]\n",
            " [4 5 6]\n",
            " [7 8 9]]\n"
          ],
          "name": "stdout"
        }
      ]
    },
    {
      "cell_type": "markdown",
      "metadata": {
        "id": "cxqLQ4E1JVHe"
      },
      "source": [
        "**Decompose**"
      ]
    },
    {
      "cell_type": "code",
      "metadata": {
        "id": "ASjtKDTNHm7c"
      },
      "source": [
        "# LU decomposition\n",
        "from scipy.linalg import lu\n",
        "P, L, U = lu(A)"
      ],
      "execution_count": null,
      "outputs": []
    },
    {
      "cell_type": "code",
      "metadata": {
        "id": "ppDt7HJZJeP-",
        "colab": {
          "base_uri": "https://localhost:8080/"
        },
        "outputId": "59871b78-482c-4d17-ce94-ae4941026011"
      },
      "source": [
        "print(P)"
      ],
      "execution_count": null,
      "outputs": [
        {
          "output_type": "stream",
          "text": [
            "[[0. 1. 0.]\n",
            " [0. 0. 1.]\n",
            " [1. 0. 0.]]\n"
          ],
          "name": "stdout"
        }
      ]
    },
    {
      "cell_type": "code",
      "metadata": {
        "id": "yzlZ482zJdIj",
        "colab": {
          "base_uri": "https://localhost:8080/"
        },
        "outputId": "e192dc6c-3b26-42f0-a6ea-bdbde34877fe"
      },
      "source": [
        "print(L)"
      ],
      "execution_count": null,
      "outputs": [
        {
          "output_type": "stream",
          "text": [
            "[[1.         0.         0.        ]\n",
            " [0.14285714 1.         0.        ]\n",
            " [0.57142857 0.5        1.        ]]\n"
          ],
          "name": "stdout"
        }
      ]
    },
    {
      "cell_type": "code",
      "metadata": {
        "id": "opCE0DFbJcPk",
        "colab": {
          "base_uri": "https://localhost:8080/"
        },
        "outputId": "e8142a81-52e7-406a-bf90-d0daefce7b4f"
      },
      "source": [
        "print(U)"
      ],
      "execution_count": null,
      "outputs": [
        {
          "output_type": "stream",
          "text": [
            "[[7.         8.         9.        ]\n",
            " [0.         0.85714286 1.71428571]\n",
            " [0.         0.         0.        ]]\n"
          ],
          "name": "stdout"
        }
      ]
    },
    {
      "cell_type": "markdown",
      "metadata": {
        "id": "B3KZgBdoJXJO"
      },
      "source": [
        "**Reconstruct**"
      ]
    },
    {
      "cell_type": "code",
      "metadata": {
        "id": "gcDSYwtgHtLo",
        "colab": {
          "base_uri": "https://localhost:8080/"
        },
        "outputId": "7947fb18-8f6e-4ff9-bcc5-26196e7845fe"
      },
      "source": [
        "B = P.dot(L).dot(U)\n",
        "print(B)"
      ],
      "execution_count": null,
      "outputs": [
        {
          "output_type": "stream",
          "text": [
            "[[1. 2. 3.]\n",
            " [4. 5. 6.]\n",
            " [7. 8. 9.]]\n"
          ],
          "name": "stdout"
        }
      ]
    },
    {
      "cell_type": "code",
      "metadata": {
        "id": "gcfF-RJzpu1c",
        "colab": {
          "base_uri": "https://localhost:8080/"
        },
        "outputId": "9f9706c0-8a9c-4198-c294-a2cb9ee6db32"
      },
      "source": [
        "# Check for differences between both matrices\n",
        "X = B - A\n",
        "print(X)"
      ],
      "execution_count": null,
      "outputs": [
        {
          "output_type": "stream",
          "text": [
            "[[0. 0. 0.]\n",
            " [0. 0. 0.]\n",
            " [0. 0. 0.]]\n"
          ],
          "name": "stdout"
        }
      ]
    },
    {
      "cell_type": "markdown",
      "metadata": {
        "id": "HMmIn-HUEykz"
      },
      "source": [
        "##### **QR Decomposition**"
      ]
    },
    {
      "cell_type": "markdown",
      "metadata": {
        "id": "91NVXqSfFlBt"
      },
      "source": [
        "* The QR decomposition is for m x n matrices (not limited to square matrices) and decomposes a matrix into Q and R components.\n",
        "\n",
        "> A = Q R\n",
        "\n",
        "* Where A is the matrix that we wish to decompose, Q a matrix with the size m x m, and R is an upper triangle matrix with the size m x n.\n",
        "\n",
        "* **Q is an orthogonal (Q<sup>T</sup> Q = I) or unitary matrix** (Q ∗ Q = I) and **R is an upper triangular matrix**. The QR decomposition is a special case of the [Iwasawa decomposition](https://en.m.wikipedia.org/wiki/Iwasawa_decomposition).\n",
        "\n",
        "* The QR decomposition is found using an iterative numerical method that can fail for those matrices that cannot be decomposed, or decomposed easily.\n",
        "\n",
        "* Like the LU decomposition, the QR decomposition is often used to solve systems of linear equations, although is not limited to square matrices.\n",
        "\n",
        "* By default, the qr function returns the Q and R matrices with smaller or ‘reduced’ dimensions that is more economical. We can change this to return the expected sizes of m x m for Q and m x n for R by specifying the mode argument as ‘complete’, although this is not required for most applications."
      ]
    },
    {
      "cell_type": "markdown",
      "metadata": {
        "id": "yOhv-GS8xXZ4"
      },
      "source": [
        "Such a decomposition always exists and can be calculated using various algorithms. The best known are\n",
        "\n",
        "* [Householder transformations](https://de.m.wikipedia.org/wiki/Householdertransformation)\n",
        "* [Givens rotations](https://de.m.wikipedia.org/wiki/Givens-Rotation)\n",
        "* [Gram-Schmidtsch's orthogonalization method](https://de.m.wikipedia.org/wiki/Gram-Schmidtsches_Orthogonalisierungsverfahren)"
      ]
    },
    {
      "cell_type": "markdown",
      "metadata": {
        "id": "f1JvWMjiJHYY"
      },
      "source": [
        "**Define Matrix**"
      ]
    },
    {
      "cell_type": "code",
      "metadata": {
        "id": "rfu-RgIXFxTL",
        "colab": {
          "base_uri": "https://localhost:8080/",
          "height": 71
        },
        "outputId": "5bf6a6ef-59d2-44ba-f418-a2925cdc3400"
      },
      "source": [
        "from numpy import array\n",
        "\n",
        "# define a 3x2 matrix\n",
        "A = array([[1, 2], [3, 4], [5, 6]])\n",
        "print(A)"
      ],
      "execution_count": null,
      "outputs": [
        {
          "output_type": "stream",
          "text": [
            "[[1 2]\n",
            " [3 4]\n",
            " [5 6]]\n"
          ],
          "name": "stdout"
        }
      ]
    },
    {
      "cell_type": "markdown",
      "metadata": {
        "id": "o8VzIv_nJJhw"
      },
      "source": [
        "**Decompose**"
      ]
    },
    {
      "cell_type": "code",
      "metadata": {
        "id": "ca1KWNdgFyXz"
      },
      "source": [
        "# QR decomposition\n",
        "from numpy.linalg import qr\n",
        "Q, R = qr(A, 'complete')"
      ],
      "execution_count": null,
      "outputs": []
    },
    {
      "cell_type": "code",
      "metadata": {
        "id": "S7deKMpRJCsX",
        "colab": {
          "base_uri": "https://localhost:8080/",
          "height": 71
        },
        "outputId": "2c85ca61-1303-4ce9-ba8e-62a5279d64bc"
      },
      "source": [
        "print(Q)"
      ],
      "execution_count": null,
      "outputs": [
        {
          "output_type": "stream",
          "text": [
            "[[-0.16903085  0.89708523  0.40824829]\n",
            " [-0.50709255  0.27602622 -0.81649658]\n",
            " [-0.84515425 -0.34503278  0.40824829]]\n"
          ],
          "name": "stdout"
        }
      ]
    },
    {
      "cell_type": "code",
      "metadata": {
        "id": "VNw-k4UBI-oo",
        "colab": {
          "base_uri": "https://localhost:8080/",
          "height": 71
        },
        "outputId": "58fe955f-07c2-4213-c87a-9a2257bd4808"
      },
      "source": [
        "print(R)"
      ],
      "execution_count": null,
      "outputs": [
        {
          "output_type": "stream",
          "text": [
            "[[-5.91607978 -7.43735744]\n",
            " [ 0.          0.82807867]\n",
            " [ 0.          0.        ]]\n"
          ],
          "name": "stdout"
        }
      ]
    },
    {
      "cell_type": "markdown",
      "metadata": {
        "id": "V3DercV9JMmm"
      },
      "source": [
        "**Reconstruct**"
      ]
    },
    {
      "cell_type": "code",
      "metadata": {
        "id": "bjR2dwOdF1cS",
        "colab": {
          "base_uri": "https://localhost:8080/",
          "height": 71
        },
        "outputId": "ca36248c-b4c2-43d2-bd53-9e94e4a5f8a1"
      },
      "source": [
        "B = Q.dot(R)\n",
        "print(B)"
      ],
      "execution_count": null,
      "outputs": [
        {
          "output_type": "stream",
          "text": [
            "[[1. 2.]\n",
            " [3. 4.]\n",
            " [5. 6.]]\n"
          ],
          "name": "stdout"
        }
      ]
    },
    {
      "cell_type": "markdown",
      "metadata": {
        "id": "JigccOCnE4NL"
      },
      "source": [
        "##### **Cholesky Decomposition**"
      ]
    },
    {
      "cell_type": "markdown",
      "metadata": {
        "id": "oO44vtYNGQEG"
      },
      "source": [
        "The Cholesky decomposition is for square symmetric matrices where all eigenvalues are greater than zero, so-called [positive definite matrices](https://en.wikipedia.org/wiki/Definite_symmetric_matrix). For our interests in machine learning, we will focus on the Cholesky decomposition for real-valued matrices and ignore the cases when working with complex numbers."
      ]
    },
    {
      "cell_type": "markdown",
      "metadata": {
        "id": "AFeymed4KIyz"
      },
      "source": [
        "> A = LL^T\n",
        "\n",
        "Where A is the matrix being decomposed, L is the lower triangular matrix and L^T is the transpose of L."
      ]
    },
    {
      "cell_type": "markdown",
      "metadata": {
        "id": "dTrHPrDNKArW"
      },
      "source": [
        "The decompose can also be written as the product of the upper triangular matrix, for example:\n",
        "\n",
        "> A = U^T . U\n",
        "\n",
        "* Where U is the upper triangular matrix."
      ]
    },
    {
      "cell_type": "markdown",
      "metadata": {
        "id": "Cc8EITyoKDXA"
      },
      "source": [
        "* The Cholesky decomposition is used for solving linear least squares for linear regression, as well as simulation and optimization methods.\n",
        "\n",
        "* When decomposing symmetric matrices, the Cholesky decomposition is nearly twice as efficient as the LU decomposition and should be preferred in these cases.\n",
        "\n",
        "* While symmetric, positive definite matrices are rather special, they occur quite frequently in some applications, so their special factorization, called Cholesky decomposition, is good to know about. When you can use it, Cholesky decomposition is about a factor of two faster than alternative methods for solving linear equations."
      ]
    },
    {
      "cell_type": "markdown",
      "metadata": {
        "id": "wJ2IZ_HMJtd3"
      },
      "source": [
        "**Define Matrix**"
      ]
    },
    {
      "cell_type": "code",
      "metadata": {
        "id": "8xcgUf1YHGae",
        "colab": {
          "base_uri": "https://localhost:8080/",
          "height": 69
        },
        "outputId": "1c772a76-1052-456d-bf61-395929265ac4"
      },
      "source": [
        "from numpy import array\n",
        "\n",
        "# define a 3x3 matrix\n",
        "A = array([[2, 1, 1], [1, 2, 1], [1, 1, 2]])\n",
        "print(A)"
      ],
      "execution_count": null,
      "outputs": [
        {
          "output_type": "stream",
          "text": [
            "[[2 1 1]\n",
            " [1 2 1]\n",
            " [1 1 2]]\n"
          ],
          "name": "stdout"
        }
      ]
    },
    {
      "cell_type": "markdown",
      "metadata": {
        "id": "q_8K4pHHJpao"
      },
      "source": [
        "**Decompose**"
      ]
    },
    {
      "cell_type": "code",
      "metadata": {
        "id": "tXS0q5LGHHhe",
        "colab": {
          "base_uri": "https://localhost:8080/",
          "height": 69
        },
        "outputId": "2bb8881d-60de-4c4d-8fc5-cadc18f14cff"
      },
      "source": [
        "# Cholesky decomposition\n",
        "from numpy.linalg import cholesky\n",
        "L = cholesky(A)\n",
        "print(L)"
      ],
      "execution_count": null,
      "outputs": [
        {
          "output_type": "stream",
          "text": [
            "[[1.41421356 0.         0.        ]\n",
            " [0.70710678 1.22474487 0.        ]\n",
            " [0.70710678 0.40824829 1.15470054]]\n"
          ],
          "name": "stdout"
        }
      ]
    },
    {
      "cell_type": "markdown",
      "metadata": {
        "id": "jDSSrB8sJmZ4"
      },
      "source": [
        "**Reconstruct**"
      ]
    },
    {
      "cell_type": "code",
      "metadata": {
        "id": "YbmN6r5MHMIb",
        "colab": {
          "base_uri": "https://localhost:8080/",
          "height": 69
        },
        "outputId": "2dd37a0f-bb48-4694-c6e5-e3b418931ff8"
      },
      "source": [
        "B = L.dot(L.T)\n",
        "print(B)"
      ],
      "execution_count": null,
      "outputs": [
        {
          "output_type": "stream",
          "text": [
            "[[2. 1. 1.]\n",
            " [1. 2. 1.]\n",
            " [1. 1. 2.]]\n"
          ],
          "name": "stdout"
        }
      ]
    },
    {
      "cell_type": "markdown",
      "metadata": {
        "id": "XuNsKvz2FWMd"
      },
      "source": [
        "##### **Singular-Value Decomposition (SVD)**"
      ]
    },
    {
      "cell_type": "markdown",
      "metadata": {
        "id": "BE9_30u0HvKn"
      },
      "source": [
        "* Matrix decomposition, also known as matrix factorization, involves describing a given matrix using its constituent elements.\n",
        "\n",
        "* Perhaps the most known and widely used matrix decomposition method is the Singular-Value Decomposition, or SVD. All matrices have an SVD, which makes it more stable than other methods, such as the eigendecomposition. As such, it is often used in a wide array of applications including compressing, denoising, and data reduction.\n",
        "\n",
        "* The Singular-Value Decomposition, or SVD for short, is a matrix decomposition method for reducing a matrix to its constituent parts in order to make certain subsequent matrix calculations simpler.\n",
        "\n",
        "* For the case of simplicity we will focus on the SVD for real-valued matrices and ignore the case for complex numbers.\n",
        "\n",
        "> A = U . Sigma . V^T\n",
        "\n",
        "* Where A is the real m x n matrix that we wish to decompose, U is an m x m matrix, Sigma (often represented by the uppercase Greek letter Sigma) is an m x n diagonal matrix, and V^T is the  transpose of an n x n matrix where T is a superscript."
      ]
    },
    {
      "cell_type": "markdown",
      "metadata": {
        "id": "n5Ja69_DICya"
      },
      "source": [
        "* The diagonal values in the Sigma matrix are known as the singular values of the original matrix A. The columns of the U matrix are called the left-singular vectors of A, and the columns of V are called the right-singular vectors of A.\n",
        "\n",
        "* The SVD is calculated via iterative numerical methods. We will not go into the details of these methods. Every rectangular matrix has a singular value decomposition, although the resulting matrices may contain complex numbers and the limitations of floating point arithmetic may cause some matrices to fail to decompose neatly.\n",
        "\n",
        "* The singular value decomposition (SVD) provides another way to factorize a matrix, into singular vectors and singular values. The SVD allows us to discover some of the same kind of information as the eigendecomposition. However, the SVD is more generally applicable.\n",
        "\n",
        "* The SVD is used widely both in the calculation of other matrix operations, such as matrix inverse, but also as a data reduction method in machine learning. SVD can also be used in least squares linear regression, image compression, and denoising data.\n",
        "\n",
        "* The SVD can be calculated by calling the svd() function. The function takes a matrix and returns the U, Sigma and V^T elements. The Sigma diagonal matrix is returned as a vector of singular values. The V matrix is returned in a transposed form, e.g. V.T."
      ]
    },
    {
      "cell_type": "markdown",
      "metadata": {
        "id": "kspDVKumIjj0"
      },
      "source": [
        "**Define a Matrix**"
      ]
    },
    {
      "cell_type": "code",
      "metadata": {
        "id": "H0UN2E9NIUpX",
        "colab": {
          "base_uri": "https://localhost:8080/",
          "height": 69
        },
        "outputId": "5e9952aa-35ae-4a25-d3f9-245750abae97"
      },
      "source": [
        "from numpy import array\n",
        "A = array([[1, 2], [3, 4], [5, 6]])\n",
        "print(A)"
      ],
      "execution_count": null,
      "outputs": [
        {
          "output_type": "stream",
          "text": [
            "[[1 2]\n",
            " [3 4]\n",
            " [5 6]]\n"
          ],
          "name": "stdout"
        }
      ]
    },
    {
      "cell_type": "markdown",
      "metadata": {
        "id": "rwUy0XTnKjN4"
      },
      "source": [
        "**Decompose**"
      ]
    },
    {
      "cell_type": "code",
      "metadata": {
        "id": "HAOV_EhHIXpN"
      },
      "source": [
        "# Calculate Singular-Value Decomposition\n",
        "from scipy.linalg import svd\n",
        "U, s, VT = svd(A)"
      ],
      "execution_count": null,
      "outputs": []
    },
    {
      "cell_type": "code",
      "metadata": {
        "id": "GWbLmTykKr3P",
        "colab": {
          "base_uri": "https://localhost:8080/",
          "height": 69
        },
        "outputId": "13bd262e-ad31-4604-817e-a6c6d1cc7b1c"
      },
      "source": [
        "print(U)"
      ],
      "execution_count": null,
      "outputs": [
        {
          "output_type": "stream",
          "text": [
            "[[-0.2298477   0.88346102  0.40824829]\n",
            " [-0.52474482  0.24078249 -0.81649658]\n",
            " [-0.81964194 -0.40189603  0.40824829]]\n"
          ],
          "name": "stdout"
        }
      ]
    },
    {
      "cell_type": "code",
      "metadata": {
        "id": "Em-H1JnUKqjB",
        "colab": {
          "base_uri": "https://localhost:8080/",
          "height": 34
        },
        "outputId": "7b117372-77b1-4761-dd2e-47294ada0c88"
      },
      "source": [
        "print(s)"
      ],
      "execution_count": null,
      "outputs": [
        {
          "output_type": "stream",
          "text": [
            "[9.52551809 0.51430058]\n"
          ],
          "name": "stdout"
        }
      ]
    },
    {
      "cell_type": "code",
      "metadata": {
        "id": "8YCCCYlaKpOQ",
        "colab": {
          "base_uri": "https://localhost:8080/",
          "height": 52
        },
        "outputId": "af5df3cf-6081-4014-f196-16c1e64b01a7"
      },
      "source": [
        "print(VT)"
      ],
      "execution_count": null,
      "outputs": [
        {
          "output_type": "stream",
          "text": [
            "[[-0.61962948 -0.78489445]\n",
            " [-0.78489445  0.61962948]]\n"
          ],
          "name": "stdout"
        }
      ]
    },
    {
      "cell_type": "markdown",
      "metadata": {
        "id": "LDEvqFwaIl7k"
      },
      "source": [
        "**Reconstruct**"
      ]
    },
    {
      "cell_type": "markdown",
      "metadata": {
        "id": "hLPp9hJELNMv"
      },
      "source": [
        "* The original matrix can be reconstructed from the U, Sigma, and V^T elements.\n",
        "* The U, s, and V elements returned from the svd() cannot be multiplied directly.\n",
        "* The s vector must be converted into a diagonal matrix using the diag() function. By default, this function will create a square matrix that is n x n, relative to our original matrix. This causes a problem as the size of the matrices do not fit the rules of matrix multiplication, where the number of columns in a matrix must match the number of rows in the subsequent matrix.\n",
        "* After creating the square Sigma diagonal matrix, the sizes of the matrices are relative to the original m x n matrix that we are decomposing, as follows:\n",
        "\n",
        "> U (m x m) . Sigma (n x n) . V^T (n x n)\n",
        "\n",
        "* Where, in fact, we require:\n",
        "\n",
        "> U (m x m) . Sigma (m x n) . V^T (n x n)\n",
        "\n",
        "* We can achieve this by creating a new Sigma matrix of all zero values that is m x n (e.g. more rows) and populate the first n x n part of the matrix with the square diagonal matrix calculated via diag()."
      ]
    },
    {
      "cell_type": "code",
      "metadata": {
        "id": "2fWCag1TLzQv",
        "colab": {
          "base_uri": "https://localhost:8080/",
          "height": 69
        },
        "outputId": "7c546b29-8fcb-4f2b-a11c-0cec844b2245"
      },
      "source": [
        "from numpy import diag\n",
        "from numpy import dot\n",
        "from numpy import zeros\n",
        "\n",
        "# create m x n Sigma matrix\n",
        "Sigma = zeros((A.shape[0], A.shape[1]))\n",
        "\n",
        "# populate Sigma with n x n diagonal matrix\n",
        "Sigma[:A.shape[1], :A.shape[1]] = diag(s)\n",
        "\n",
        "# reconstruct matrix\n",
        "B = U.dot(Sigma.dot(VT))\n",
        "print(B)"
      ],
      "execution_count": null,
      "outputs": [
        {
          "output_type": "stream",
          "text": [
            "[[1. 2.]\n",
            " [3. 4.]\n",
            " [5. 6.]]\n"
          ],
          "name": "stdout"
        }
      ]
    },
    {
      "cell_type": "markdown",
      "metadata": {
        "id": "xjw_4ya7MAq6"
      },
      "source": [
        "The above complication with the Sigma diagonal only exists with the case where m and n are not equal. The diagonal matrix can be used directly when reconstructing a square matrix, as follows."
      ]
    },
    {
      "cell_type": "code",
      "metadata": {
        "id": "_VKgvTSqMKxt",
        "colab": {
          "base_uri": "https://localhost:8080/",
          "height": 122
        },
        "outputId": "8d37dec4-a2f2-4deb-8bbe-3ee89372ad6a"
      },
      "source": [
        "# Reconstruct SVD\n",
        "from numpy import array\n",
        "from numpy import diag\n",
        "from numpy import dot\n",
        "from scipy.linalg import svd\n",
        "\n",
        "# define a matrix\n",
        "A = array([[1, 2, 3], [4, 5, 6], [7, 8, 9]])\n",
        "print(A)\n",
        "# Singular-value decomposition\n",
        "U, s, VT = svd(A)\n",
        "# create n x n Sigma matrix\n",
        "Sigma = diag(s)\n",
        "# reconstruct matrix\n",
        "B = U.dot(Sigma.dot(VT))\n",
        "print(B)"
      ],
      "execution_count": null,
      "outputs": [
        {
          "output_type": "stream",
          "text": [
            "[[1 2 3]\n",
            " [4 5 6]\n",
            " [7 8 9]]\n",
            "[[1. 2. 3.]\n",
            " [4. 5. 6.]\n",
            " [7. 8. 9.]]\n"
          ],
          "name": "stdout"
        }
      ]
    },
    {
      "cell_type": "markdown",
      "metadata": {
        "id": "SlHP11vEMa98"
      },
      "source": [
        "**Appendix: SVD for Pseudoinverse**"
      ]
    },
    {
      "cell_type": "markdown",
      "metadata": {
        "id": "cbg2aHY0MfIk"
      },
      "source": [
        "* The pseudoinverse is the generalization of the matrix inverse for square matrices to rectangular matrices where the number of rows and columns are not equal.\n",
        "\n",
        "* It is also called the the Moore-Penrose Inverse after two independent discoverers of the method or the Generalized Inverse.\n",
        "\n",
        "* Matrix inversion is not defined for matrices that are not square. When A has more columns than rows, then solving a linear equation using the pseudoinverse provides one of the many possible solutions.\n",
        "\n",
        "* The pseudoinverse is denoted as A^+, where A is the matrix that is being inverted and + is a superscript. The pseudoinverse is calculated using the singular value decomposition of A:\n",
        "\n",
        "> A^+ = VD^+U^T\n",
        "\n",
        "Where A^+ is the pseudoinverse, D^+ is the pseudoinverse of the diagonal matrix Sigma and U^T is the transpose of U.\n",
        "\n",
        "We can get U and V from the SVD operation.\n",
        "\n",
        "> A = U . Sigma . V^T\n",
        "\n",
        "The D^+ can be calculated by creating a diagonal matrix from Sigma, calculating the reciprocal of each non-zero element in Sigma, and taking the transpose if the original matrix was rectangular.\n",
        "\n"
      ]
    },
    {
      "cell_type": "code",
      "metadata": {
        "id": "SVHOiaDOM_YE"
      },
      "source": [
        "#          s11,   0,   0\n",
        "# Sigma = (  0, s22,   0)\n",
        "#            0,   0, s33"
      ],
      "execution_count": null,
      "outputs": []
    },
    {
      "cell_type": "code",
      "metadata": {
        "id": "9W5wTVWQNGss"
      },
      "source": [
        "#        1/s11,     0,     0\n",
        "# D^+ = (    0, 1/s22,     0)\n",
        "#            0,     0, 1/s33"
      ],
      "execution_count": null,
      "outputs": []
    },
    {
      "cell_type": "markdown",
      "metadata": {
        "id": "aPUAqEstNMMS"
      },
      "source": [
        "The pseudoinverse provides one way of solving the linear regression equation, specifically when there are more rows than there are columns, which is often the case. \n",
        "\n",
        "NumPy provides the function pinv() for calculating the pseudoinverse of a rectangular matrix. The example below defines a 4×2 matrix and calculates the pseudoinverse."
      ]
    },
    {
      "cell_type": "code",
      "metadata": {
        "id": "kz-FzJLHNSWv",
        "colab": {
          "base_uri": "https://localhost:8080/",
          "height": 87
        },
        "outputId": "a83b8e52-c022-4bf4-8249-7449196cff07"
      },
      "source": [
        "# Pseudoinverse\n",
        "from numpy import array\n",
        "from numpy.linalg import pinv\n",
        "\n",
        "# define matrix\n",
        "A = array([\n",
        "\t[0.1, 0.2],\n",
        "\t[0.3, 0.4],\n",
        "\t[0.5, 0.6],\n",
        "\t[0.7, 0.8]])\n",
        "print(A)"
      ],
      "execution_count": null,
      "outputs": [
        {
          "output_type": "stream",
          "text": [
            "[[0.1 0.2]\n",
            " [0.3 0.4]\n",
            " [0.5 0.6]\n",
            " [0.7 0.8]]\n"
          ],
          "name": "stdout"
        }
      ]
    },
    {
      "cell_type": "code",
      "metadata": {
        "id": "LFzXXFwQNWlZ",
        "colab": {
          "base_uri": "https://localhost:8080/",
          "height": 52
        },
        "outputId": "02766498-1982-4382-de4c-d3d8f70dbbd5"
      },
      "source": [
        "# calculate pseudoinverse\n",
        "B = pinv(A)\n",
        "print(B)"
      ],
      "execution_count": null,
      "outputs": [
        {
          "output_type": "stream",
          "text": [
            "[[-1.00000000e+01 -5.00000000e+00  1.42385628e-14  5.00000000e+00]\n",
            " [ 8.50000000e+00  4.50000000e+00  5.00000000e-01 -3.50000000e+00]]\n"
          ],
          "name": "stdout"
        }
      ]
    },
    {
      "cell_type": "markdown",
      "metadata": {
        "id": "IbwJ8QbNvEbX"
      },
      "source": [
        "##### **Rank Factorization**"
      ]
    },
    {
      "cell_type": "markdown",
      "metadata": {
        "id": "isHJ8l3OR46n"
      },
      "source": [
        "* given an m × n matrix A of rank r, a rank decomposition or rank factorization of A is a factorization of A of the form A = C F, where C is an m × r matrix and F is an r × n matrix.\n",
        "\n",
        "* Every finite-dimensional matrix has a rank decomposition\n",
        "\n",
        "* One can also construct a full rank factorization of A by using its singular value decomposition"
      ]
    },
    {
      "cell_type": "markdown",
      "metadata": {
        "id": "qznCml3sFnUQ"
      },
      "source": [
        "##### **Eigendecomposition**"
      ]
    },
    {
      "cell_type": "markdown",
      "metadata": {
        "id": "sooWX-rgS12w"
      },
      "source": [
        "* Eigendecomposition or sometimes spectral decomposition is the factorization of a matrix into a canonical form, whereby the matrix is represented in terms of its eigenvalues and eigenvectors. Only diagonalizable matrices can be factorized in this way."
      ]
    },
    {
      "cell_type": "markdown",
      "metadata": {
        "id": "Bfkc_-jIFtmU"
      },
      "source": [
        "##### **Non-negative matrix factorization**"
      ]
    },
    {
      "cell_type": "markdown",
      "metadata": {
        "id": "f4c7lww5T_b8"
      },
      "source": [
        "* Non-negative matrix factorization (NMF or NNMF), also non-negative matrix approximation is a **group of algorithms** in multivariate analysis and linear algebra where a matrix V is factorized into (usually) two matrices W and H, with the property that all three matrices have no negative elements. \n",
        "\n",
        "* This non-negativity makes the resulting matrices easier to inspect. Also, in applications such as processing of audio spectrograms or muscular activity, non-negativity is inherent to the data being considered. \n",
        "\n",
        "* Since the problem is not exactly solvable in general, it is commonly approximated numerically."
      ]
    },
    {
      "cell_type": "markdown",
      "metadata": {
        "id": "SA_5AGX6UJJe"
      },
      "source": [
        "![NNMF](https://upload.wikimedia.org/wikipedia/commons/f/f9/NMF.png)"
      ]
    },
    {
      "cell_type": "markdown",
      "metadata": {
        "id": "gfuyK3-ZUtCQ"
      },
      "source": [
        "*Illustration of approximate non-negative matrix factorization: the matrix V is represented by the two smaller matrices W and H, which, when multiplied, approximately **reconstruct V**.*"
      ]
    },
    {
      "cell_type": "markdown",
      "metadata": {
        "id": "iBaF4uPUXeS-"
      },
      "source": [
        "## **Verband (Lattice) & Algebren**"
      ]
    },
    {
      "cell_type": "markdown",
      "metadata": {
        "id": "K0UpZzAKftF8"
      },
      "source": [
        "##### **Verband (Lattice)**"
      ]
    },
    {
      "cell_type": "markdown",
      "metadata": {
        "id": "uJxOdQZjRxmk"
      },
      "source": [
        "Ein Verband ist ein Tripel (V, ⊓, ⊔), bestehend aus einer nichtleeren Menge V und zwei Operationen ⊓ : V×V →V (lies: et)und ⊔ : V×V →V (lies:vel), fur die folgende Rechenregeln gelten:\n",
        "\n",
        "* Beide Operationen sind **kommutativ**, d. h., u⊓v = v⊓u und u⊔v = v⊔u f u ̈ r a l l e u , v ∈ V .\n",
        "\n",
        "* Beide Operationen sind **assoziativ**, d. h., (u ⊓ v) ⊓ w = u ⊓ (v ⊓ w) und ( u ⊔ v ) ⊔ w = u ⊔ ( v ⊔ w ) f u ̈ r a l l e u , v , w ∈ V .\n",
        "\n",
        "* Es gelten die **Verschmelzungsgesetze**, d. h., u⊓(u⊔v) = u und u⊔(u⊓v) = u f u ̈ r a l l e u , v ∈ V .\n",
        "\n",
        "Ein Verband (V,⊓,⊔) wird auch kuerzer V geschrieben, sofern klar ist, um welche Operationen es sich handelt. Ein Verband V heißt endlich, wenn die Menge V endlich ist."
      ]
    },
    {
      "cell_type": "markdown",
      "metadata": {
        "id": "s2xBQMKOg1Ve"
      },
      "source": [
        "* Ein Verband ist eine algebraische Struktur, **deren zwei innere Verknüpfungen im allgemeinen Fall nicht als Addition und Multiplikation aufgefasst werden können** (zB grösser gleich und kleiner gleich Relationen zwischen Mengenelementen)\n",
        "\n",
        "* Als algebraische Struktur ist ein Verband dadurch gekennzeichnet, dass es zwei assoziative und kommutative Operationen gibt, für die die Absorptionsgesetze kennzeichnend sind: Für beliebige Elemente gilt u ∨ (u ∧ v) = u und u ∧ (u ∨ v) = u.\n",
        "\n",
        "* Für jede in der Verbandstheorie vorkommende algebraische Aussage gibt es eine direkte Übersetzung in eine Ordnungsaussage und umgekehrt."
      ]
    },
    {
      "cell_type": "markdown",
      "metadata": {
        "id": "YMZNsl4uKyXF"
      },
      "source": [
        "Ein Verband $(V, \\vee, \\wedge)$ ist eine Menge $V$ mit zwei inneren binären Verknüpfungen $\\vee$ (Vereinigung, engl. join) und $\\wedge$ (Durchschnitt, engl. meet), die folgenden Bedingungen für alle $u, v, w$ aus $V$ genügen:\n",
        "\n",
        "**Assoziativgesetze**:\n",
        "\n",
        "$ u \\vee(v \\vee w)=(u \\vee v) \\vee w$\n",
        "\n",
        "$ u \\wedge(v \\wedge w)=(u \\wedge v) \\wedge w$\n",
        "\n",
        "**Kommutativgesetze**:\n",
        "\n",
        "$ u \\vee \\boldsymbol{v}=v \\vee u$\n",
        "\n",
        "$ u \\wedge v=v \\wedge u$\n",
        "\n",
        "**Absorptionsgesetze**:\n",
        "\n",
        "$ u \\vee(u \\wedge v)=u$\n",
        "\n",
        "$ u \\wedge(u \\vee v)=u$\n",
        "\n",
        "Aus diesen Bedingungen folgt die [**Idempotenz**](https://de.m.wikipedia.org/wiki/Idempotenz) beider Verknüpfungen:\n",
        "\n",
        "$ u \\vee \\boldsymbol{u}=u$\n",
        "\n",
        "$ u \\wedge u=u$\n",
        "\n",
        "**$V$ ist also bezüglich jeder einzelnen Verknüpfung ein Halbverband, $d$. h. eine kommutative [Halbgruppe](https://de.m.wikipedia.org/wiki/Halbgruppe),** der jedes Element idempotent ist. Die Verknüpfungen treten bei den Absorptionsgesetzen in\n",
        "Wechselwirkung."
      ]
    },
    {
      "cell_type": "markdown",
      "metadata": {
        "id": "suo2vIgK00Mr"
      },
      "source": [
        "**Beispiele für Verbände:**\n",
        "\n",
        "* Die Menge aller Aussagen bildet zusammen mit Konjunktion und Disjunktion nach Satz 1.9 einen Verband, den so genannten Aus- sagenverband.\n",
        "\n",
        "* Die Potenzmenge P (A) einer Menge A bildet zusammen mit Durchschnitt und Vereinigung nach Satz 3.7 den Potenzmengenverband von A.\n",
        "\n",
        "* Die Menge aller natuerlichen Zahlen N<sub>0</sub> bildet mit ggT und kgV nach Kap. 13 den so genannten natu ̈rlichen Teilerverband.\n",
        "\n",
        "* Die Menge aller Unterra ̈ume eines Vektorraums V bildet mit Durchschnitt und Summe den so genannten Unterraumverband von V , wobei die Summe durchU+W ={u+w|u∈U,w∈W}gegebenist.\n",
        "\n",
        "* die z. B. in der Mengenlehre, der Logik und als Schaltalgebren auftretenden Booleschen Algebren sind Verbände.\n",
        "\n",
        "* [totale Ordnungen](https://de.m.wikipedia.org/wiki/Ordnungsrelation#Totalordnung), die z. B. in den verschiedenen Zahlbereichen wie N  (natürliche Zahlen), Z (ganze Zahlen), Q (rationale Zahlen) oder R (reelle Zahlen) auftreten, sind Verbände.\n",
        "\n",
        "* für jede beliebige natürliche Zahl ist die Menge der Teiler (durch die Teilbarkeit geordnet) ein Verband.\n",
        "\n",
        "* die Unterstrukturen einer beliebigen algebraischen oder sonstigen Struktur bilden einen Verband mit der Teilmengenrelation als Ordnung.\n",
        "\n",
        "* ALSO: Das Hasse-Diagramm zeigt die Teiler der Zahl 12, bezüglich der durch die Teilbarkeit gegebenen Ordnungsbeziehung (https://mathepedia.de/Hasse_Diagramme.html)"
      ]
    },
    {
      "cell_type": "markdown",
      "metadata": {
        "id": "gnn7w0CKfvko"
      },
      "source": [
        "https://de.m.wikipedia.org/wiki/Verband_(Mathematik)"
      ]
    },
    {
      "cell_type": "markdown",
      "metadata": {
        "id": "enrSGr1-bNY9"
      },
      "source": [
        "https://en.m.wikipedia.org/wiki/Lattice_(order)"
      ]
    },
    {
      "cell_type": "markdown",
      "metadata": {
        "id": "ZaWMOhMSh5je"
      },
      "source": [
        "**Ordnungstheorie**: https://mathepedia.de/Verbaende.html"
      ]
    },
    {
      "cell_type": "markdown",
      "metadata": {
        "id": "5bdxlQbQBlwx"
      },
      "source": [
        "https://en.wikipedia.org/wiki/Algebraic_structure\n",
        "\n",
        "Check: Two sets with operations"
      ]
    },
    {
      "cell_type": "markdown",
      "metadata": {
        "id": "GqvDwx9rBoAR"
      },
      "source": [
        "https://de.m.wikipedia.org/wiki/Algebraische_Struktur"
      ]
    },
    {
      "cell_type": "markdown",
      "metadata": {
        "id": "QfmcVnYsJshi"
      },
      "source": [
        "**Absorption (Logik)**"
      ]
    },
    {
      "cell_type": "markdown",
      "metadata": {
        "id": "2s51QFKzJ76J"
      },
      "source": [
        "* Das Absorptionsgesetz der Aussagenlogik besagt, dass eine Aussage absorbiert wird, d. h., dass ihre Belegung für die Auswertung der Gesamtformel irrelevant ist, wenn sie hintereinander konjunktiv und disjunktiv mit einer anderen Aussage verknüpft wird, wobei die Reihenfolge der Verknüpfungen keine Rolle spielt.\n",
        "\n",
        "Absorptionsgesetze in der Verbandstheorie:\n",
        "\n",
        "$u \\vee(u \\wedge v)=u$\n",
        "\n",
        "$u \\wedge(u \\vee v)=u$"
      ]
    },
    {
      "cell_type": "markdown",
      "metadata": {
        "id": "rgHOEdfCJuhn"
      },
      "source": [
        "https://de.m.wikipedia.org/wiki/Absorption_(Logik)"
      ]
    },
    {
      "cell_type": "markdown",
      "metadata": {
        "id": "3E9FRg7kRfHs"
      },
      "source": [
        "**Hintergrund zu Verbaenden**"
      ]
    },
    {
      "cell_type": "markdown",
      "metadata": {
        "id": "l93P5wnr824U"
      },
      "source": [
        "* Das Verbandskonzept geht auf Dedekind und Schroeder zurueck (Ende des 19. Jahrhunderts).\n",
        "\n",
        "* Bei Dedekind heißen solche Strukturen Dualgruppen. Der Name Verband wurde von Fritz Klein (ca. 1930) gewaehlt. Garrett Birkhoff, der Begruender der modernen Verbandstheorie, praegte den englischen Begriff lattice.\n",
        "\n",
        "* Ein Verband ist **eine Struktur, die sowohl als [Ordnungsstruktur (Ordnungsrelation)](https://de.m.wikipedia.org/wiki/Ordnungsrelation) als auch als [algebraische Struktur](https://de.m.wikipedia.org/wiki/Algebraische_Struktur)** vollständig beschrieben werden kann. \n",
        "\n",
        "* Als Ordnungsstruktur ist ein Verband dadurch gekennzeichnet, dass es zu je zwei Elementen \n",
        "a, \n",
        "b ein Supremum \n",
        "a\n",
        "∨\n",
        "b gibt, d. h. ein eindeutig bestimmtes kleinstes Element, das größer oder gleich\n",
        "a und \n",
        "b ist, und umgekehrt ein Infimum \n",
        "a\n",
        "∧\n",
        "b, ein größtes Element, das kleiner oder gleich \n",
        "a und\n",
        "b ist. \n",
        "\n",
        "* Als algebraische Struktur ist ein Verband dadurch gekennzeichnet, dass es zwei assoziative und kommutative Operationen gibt, für die die Absorptionsgesetze kennzeichnend sind: Für beliebige Elemente gilt\n",
        "\n",
        "> $u \\vee(u \\wedge v)=u$ und $u \\wedge(u \\vee v)=u$\n",
        "\n",
        "* **Für jede in der Verbandstheorie vorkommende algebraische Aussage gibt es eine direkte Übersetzung in eine Ordnungsaussage und umgekehrt**. Diese Übersetzung ist in den meisten Fällen auch anschaulich nachzuvollziehen. \n",
        "\n",
        "* Die Möglichkeit, Ergebnisse doppelt zu interpretieren und dadurch besser zu verstehen, macht die Untersuchung und die Verwendung von Aussagen aus der Verbandstheorie so interessant. Der Begriff Verband wurde im hier beschriebenen Sinne von Fritz Klein-Barmen geprägt."
      ]
    },
    {
      "cell_type": "markdown",
      "metadata": {
        "id": "t6_txpIWhm2L"
      },
      "source": [
        "##### **Algebren**"
      ]
    },
    {
      "cell_type": "markdown",
      "metadata": {
        "id": "0XBejTPwhPaA"
      },
      "source": [
        "https://mathepedia.de/Algebren.html"
      ]
    },
    {
      "cell_type": "markdown",
      "metadata": {
        "id": "1yoiK_Z2hS2b"
      },
      "source": [
        "Eine Algebra (Plural: Algebren) **ist eine Verallgemeinerung des Begriffes Ring**.\n",
        "Es gibt zwei grundsätzlich verschiedene Arten von Algebren:\n",
        "\n",
        "1. Boolesche Algebren, insbesondere Mengenalgebren wie z.B. σ-Algebren\n",
        "\n",
        "2. Algebren über Ringen, die eine Art Synthese aus den Begriffen Vektorraum und Ring darstellen."
      ]
    },
    {
      "cell_type": "markdown",
      "metadata": {
        "id": "h3EItm12hE7r"
      },
      "source": [
        "**Boolsche Algebra**"
      ]
    },
    {
      "cell_type": "markdown",
      "metadata": {
        "id": "sOC7zkQkhHlR"
      },
      "source": [
        "* Eine **Boolesche Algebra (oder ein boolescher Verband) ist ein Verband**, bzw. eine spezielle algebraische Struktur, die die Eigenschaften der logischen Operatoren UND, ODER, NICHT sowie die Eigenschaften der mengentheoretischen Verknüpfungen Durchschnitt, Vereinigung, Komplement verallgemeinert. \n",
        "\n",
        "* Gleichwertig zu booleschen Algebren sind boolesche Ringe, die von UND und ENTWEDER-ODER (exklusiv-ODER) beziehungsweise Durchschnitt und symmetrischer Differenz ausgehen.\n",
        "\n",
        "* Die boolesche Algebra ist die Grundlage bei der Entwicklung von digitaler Elektronik und wird in allen modernen Programmiersprachen zur Verfügung gestellt. Sie wird auch in der Satztheorie und der Statistik verwendet.\n",
        "\n",
        "* Eine **Boolesche Algebra (oder ein boolescher Verband) ist ein Verband**, in dem die beiden Verknüpfungen je ein neutrales Element haben, a ∪ 0 = a und a ∩ 1 = a, und in dem jedes Element ein bezüglich beider Verknüpfungen übereinstimmendes Komplement h"
      ]
    },
    {
      "cell_type": "markdown",
      "metadata": {
        "id": "1Ea-fe4W_emT"
      },
      "source": [
        "**Definition der Boolschen Algebra als Verband:**\n",
        "\n",
        "* **Eine boolesche Algebra ist ein distributiver komplementärer Verband**. Diese Definition geht nur von den Verknüpfungen $\\wedge$ und $\\vee$ aus und umfasst die Existenz von 0,1 und $\\neg$ und die unabhängigen Axiome (1)$\\left(1^{\\prime}\\right)(2)$ $\\left(2^{\\prime}\\right)(11)\\left(11^{\\prime}\\right)(4)(9)\\left(9^{\\prime}\\right)$ des gleichwertigen Axiomensystems von Peano. \n",
        "\n",
        "* Auf einer booleschen Algebra ist wie in jedem Verband durch $a \\leq b \\Longleftrightarrow a=a \\wedge b$ eine partielle Ordnung definierbar; bei ihr haben je zwei Elemente ein Supremum und ein Infimum. \n",
        "\n",
        "* Bei der mengentheoretischen Interpretation ist $\\leq$ gleichbedeutend zur Teilmengenordnung $\\subseteq$"
      ]
    },
    {
      "cell_type": "markdown",
      "metadata": {
        "id": "GfcFvGUzAU4M"
      },
      "source": [
        "**Boolesche Ringe**\n",
        "\n",
        "* Eine andere Sichtweise auf boolesche Algebren besteht in sogenannten booleschen Ringen: Das sind Ringe mit Einselement, die zusätzlich idempotent sind, also das Idempotenzgesetz \n",
        "a\n",
        "⋅\n",
        "a\n",
        "=\n",
        "a erfüllen. \n",
        "\n",
        "* Jeder idempotente Ring ist kommutativ. Die Addition im booleschen Ring entspricht bei der mengentheoretischen Interpretation der symmetrischen Differenz und bei aussagenlogischer Interpretation der Alternative ENTWEDER-ODER (exclusiv-ODER, XOR); die Multiplikation entspricht der Durchschnittsbildung beziehungsweise der Konjunktion UND."
      ]
    },
    {
      "cell_type": "markdown",
      "metadata": {
        "id": "0p0KsPea3-pX"
      },
      "source": [
        "https://de.m.wikipedia.org/wiki/Aussagenlogik"
      ]
    },
    {
      "cell_type": "markdown",
      "metadata": {
        "id": "k4Sp21V_hWFP"
      },
      "source": [
        "https://de.m.wikipedia.org/wiki/Boolesche_Algebra"
      ]
    },
    {
      "cell_type": "markdown",
      "metadata": {
        "id": "QYMsn5TXf2Tz"
      },
      "source": [
        "**Mengenalgebra (Field of Sets)**"
      ]
    },
    {
      "cell_type": "markdown",
      "metadata": {
        "id": "jikzDMPXA51Q"
      },
      "source": [
        "Die Potenzmenge einer Menge $S$ wird mit Durchschnitt, Vereinigung und dem Komplement $A^{\\complement}:=\\{x \\mid(x \\in S) \\wedge(x \\notin A)\\}$ zu einer booleschen Algebra, bei der 0 die leere Menge $\\emptyset$ und 1 die ganze Menge $S$ ist. Der Sonderfall $S=\\emptyset$ ergibt die einelementige Potenzmenge mit $1=0 .$ \n",
        "\n",
        "Auch jeder $S$ enthaltende, bezüglich Vereinigung und Komplement abgeschlossene Teilbereich der Potenzmenge von $S$ ist eine boolesche Algebra, die als Teilmengenverband oder Mengenalgebra bezeichnet wird. Der Darstellungssatz von Stone besagt, dass jede boolesche Algebra isomorph (s. u.) zu einer Mengenalgebra ist. Daraus folgt, dass die Mächtigkeit jeder endlichen booleschen\n",
        "Algebra eine Zweierpotenz ist.\n",
        "\n",
        "Über die Venn-Diagramme veranschaulicht die Mengenalgebra boolesche Gesetze, beispielsweise Distributiv- und deMorgansche-Gesetze. Darüber hinaus basiert auf ihrer Form als KV-Diagramm eine bekannte Methode der systematischen Vereinfachung boolescher Ausdrücke in der Schaltalgebra.\n",
        "Weitere Beispiele für boolesche Mengenalgebren stammen aus der Topologie. \n",
        "\n",
        "Die Menge der abgeschlossenen offenen Mengen eines topologischen Raums bildet mit den üblichen Operationen für die Vereinigung, den Durchschnitt und das Komplement von Mengen eine boolesche Algebra. Die regulär abgeschlossenen Mengen und die regulär offenen Mengen stellen mit den jeweiligen regularisierten Mengenoperationen $\\cap^{*}, \\cup^{*}$ und $C^{*}$ ebenfalls boolesche Algebren dar."
      ]
    },
    {
      "cell_type": "markdown",
      "metadata": {
        "id": "W6m2f_P1hdXY"
      },
      "source": [
        "* **Mengenalgebra**: eine Boolesche Algebra, deren Elemente Mengen sind, nämlich Teilmengen einer Grundmenge X, mit den Mengenoperatoren ∪ und ∩ als Verknüpfungen, mit dem Nullelement ∅ und dem Einselement X.\n",
        "\n",
        "* **σ-Algebra**: eine bezüglich abzählbar-unendlicher Verknüpfungen abgeschlossene Mengenalgebra. **Messraum und Maßraum sind spezielle σ-Algebren.**\n",
        "\n",
        "* **Borel-Algebra** macht einen topologischen Raum zum Maßraum: sie ist die kleinste σ-Algebra, die eine gegebene Topologie enthält.\n",
        "\n",
        "* **Zweiwertige Boolesche Algebra**: hat nur die Elemente 0 und 1."
      ]
    },
    {
      "cell_type": "markdown",
      "metadata": {
        "id": "UtsldPtaf407"
      },
      "source": [
        "https://de.m.wikipedia.org/wiki/Algebra_(Mengensystem)"
      ]
    },
    {
      "cell_type": "markdown",
      "metadata": {
        "id": "b0DTqfYINTxK"
      },
      "source": [
        "## **Darstellungstheorie**"
      ]
    },
    {
      "cell_type": "markdown",
      "metadata": {
        "id": "aLx7kLBuNV6I"
      },
      "source": [
        "https://de.wikipedia.org/wiki/Darstellungstheorie"
      ]
    },
    {
      "cell_type": "markdown",
      "metadata": {
        "id": "zy8fXrwUNXUB"
      },
      "source": [
        "https://de.wikipedia.org/wiki/Darstellung_(Gruppe)"
      ]
    }
  ]
}