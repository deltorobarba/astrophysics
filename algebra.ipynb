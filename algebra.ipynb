{
  "nbformat": 4,
  "nbformat_minor": 0,
  "metadata": {
    "colab": {
      "name": "algebra.ipynb",
      "provenance": [],
      "collapsed_sections": [
        "jmVOBuwmjJTL",
        "FshTeU-rnp51",
        "Jx_LmlIGnDSa",
        "seDVqWVKnH7e",
        "rxdQVgZuzc8x",
        "iWCeLOJUyQTQ",
        "e_c49RceyU0S",
        "XM99PIHSxVpO",
        "dAtrm3obyX59",
        "uNAk72BxycQE",
        "CmuHEBHk6VsG",
        "aShRhfg5GrPX",
        "DYd95ZikPxG7",
        "IGPylM19Td9A",
        "I928UjHNKuZc",
        "QQSRFOXm2QgM",
        "37qnbx7d0X_q",
        "lk3AEOE_qVfO",
        "3K0iKodmxtTl",
        "yUpj7bMGBXEd",
        "SgHgS037zK0x",
        "a0VNbaA6iomm",
        "LJw8mSm3Esft",
        "tSc2sBCXjgUq",
        "TsjdHk_BB_39",
        "sO3gFnsGoDHp",
        "Td_9fFZ4kvXi",
        "qF8T8Eiak11U",
        "ZV0GhhALuWSO",
        "-eYfKvd1kEkY",
        "1ynBhMdIlrwJ",
        "nDnelMFcPS4y",
        "wRsJ0z5cM5b7",
        "3hhDeuYaa1BS",
        "hxwVmH9nbAII",
        "btfdeGWWkel1",
        "IsgGqRO1OE2b",
        "AnG5dzQVa8jV",
        "xy09IYpwElU3",
        "2zqOIuVM8E94",
        "OYLvRwHgT3FT",
        "IQ-yn71fgo_I",
        "E1E3vf4A6Y26",
        "G9sx1JsWOyQh",
        "d_Jf_ALONKEV",
        "UIPW4ZOnR07e",
        "0yFvFIvMQ2bS",
        "17JkJZKtVD9m",
        "en_F0jKMkORe",
        "6eBMRTBWR-CB",
        "xAjW1DVyevEU",
        "b0DTqfYINTxK",
        "ZDqJB-vtXMJ1",
        "foYtNNmXXHhZ",
        "txG8BfQyj0hb",
        "Tk6qnMZUgGQw",
        "WU52z34N2tbD",
        "TPO3O0LTlUVH",
        "IAEtyEp7j7wT",
        "H_qMVeTtrLls",
        "vy1c3rSRLsnY",
        "IbwJ8QbNvEbX",
        "JigccOCnE4NL",
        "HMmIn-HUEykz",
        "t88lRS-5rsqg",
        "EA2aVjJjsGop",
        "XuNsKvz2FWMd",
        "pyPv9Bs5smjo",
        "ZimudeCftX__",
        "3OQ7eTBayshC",
        "oaJIGJNzzymu",
        "Bfkc_-jIFtmU",
        "sZzSya6rSLjr",
        "P9f2lq9s4tJr",
        "67gIZXbG5db3",
        "C2RMiNq8MzzY",
        "O3mIl8Xj8Dfs",
        "Y-1lpMAgXzD9",
        "RJ7r2x6ubuF8",
        "PKnoH_tc2luZ",
        "U48kLNEgXDd7",
        "rJynYy2j0olt",
        "B2KpY8rLjVuA",
        "YAFw6Cb06NBg",
        "eR97kW5IMpWj",
        "pJsarOY4gRjI",
        "IeI64TKxQxAp",
        "BxkzH5jwlqiQ",
        "7I0Sj-e-6x6L",
        "u9B6KgbpAAMR",
        "IRd6gnIaP5Yv",
        "gLCSYbQCnvxo",
        "IPlwPUfSMCiu"
      ],
      "include_colab_link": true
    },
    "kernelspec": {
      "name": "python3",
      "display_name": "Python 3"
    }
  },
  "cells": [
    {
      "cell_type": "markdown",
      "metadata": {
        "id": "view-in-github",
        "colab_type": "text"
      },
      "source": [
        "<a href=\"https://colab.research.google.com/github/deltorobarba/machinelearning/blob/master/algebra.ipynb\" target=\"_parent\"><img src=\"https://colab.research.google.com/assets/colab-badge.svg\" alt=\"Open In Colab\"/></a>"
      ]
    },
    {
      "cell_type": "markdown",
      "metadata": {
        "id": "2Aoj2PpxvDQV"
      },
      "source": [
        "# **Abstract Algebra**"
      ]
    },
    {
      "cell_type": "code",
      "metadata": {
        "id": "1U5_6xH7tAQq"
      },
      "source": [
        "import numpy as np\n",
        "import pandas as pd\n",
        "import seaborn as sns\n",
        "import matplotlib.pyplot as plt"
      ],
      "execution_count": null,
      "outputs": []
    },
    {
      "cell_type": "markdown",
      "metadata": {
        "id": "jmVOBuwmjJTL"
      },
      "source": [
        "## **Group Theory**"
      ]
    },
    {
      "cell_type": "markdown",
      "source": [
        "Fundamental Theorem of Galois Theory: https://youtu.be/CwvuZ8aHyH4"
      ],
      "metadata": {
        "id": "MNnb7LYH7cVA"
      }
    },
    {
      "cell_type": "markdown",
      "metadata": {
        "id": "1VhINBIVevs_"
      },
      "source": [
        "https://en.m.wikipedia.org/wiki/System_of_polynomial_equations"
      ]
    },
    {
      "cell_type": "markdown",
      "metadata": {
        "id": "FshTeU-rnp51"
      },
      "source": [
        "#### **Algebraic Operations**"
      ]
    },
    {
      "cell_type": "markdown",
      "metadata": {
        "id": "7fxw9DSyjiah"
      },
      "source": [
        "* Algebra ist das Lösen von Gleichungen.\n",
        "\n",
        "* **Eine [Algebraische Struktur](https://de.m.wikipedia.org/wiki/Algebraische_Struktur) & [Outline_of_algebraic_structures](https://en.m.wikipedia.org/wiki/Outline_of_algebraic_structures) ist eine Menge versehen mit Verknüpfungen auf dieser Menge**. Eine Vielzahl der in der abstrakten Algebra untersuchten Strukturen wie Gruppen, Ringe oder Körper sind spezielle algebraische Strukturen.\n",
        "\n",
        "* Algebraische Strukturen sind eine Form von [mathematischen Strukturen](https://de.m.wikipedia.org/wiki/Mathematische_Struktur) (neben topologischen Strukturen, geometrischen Strukturen und Zahlbereichen). Abstract algebra is the study of algebraic structures.\n",
        "\n",
        "* **Such a structure consists of a set together with one or more binary operations, which are required to satisfy certain axioms.**\n",
        "\n",
        "* The structures listed below are only a sample of the many algebraic structures of importance in mathematics. Many fields of mathematics involve their own special algebraic structures, and new algebraic structures are defined all the time. To give you a sense of scale, the online encyclopedia Wikipedia currently has articles on over a hundred different algebraic structures, and this represents only a small fraction of those that have been investigated in the mathematical literature.\n",
        "\n",
        "* **[Verknüpfungen](https://de.m.wikipedia.org/wiki/Verknüpfung_(Mathematik))**: Neben den arithmetischen Grundrechenarten (Addition, Subtraktion usw.) werden damit etwa auch geometrische Operationen (wie Spiegelung, Drehung u. a.) sowie weitere Rechenoperationen bzw. gelegentlich auch logische Operatoren erfasst. \n",
        "  * **Verknüpfungen dienen in der Algebra dazu, algebraische Strukturen zu definieren**. Die Verknüpfungen müssen dabei bestimmte Bedingungen (Axiome) erfüllen. Bei partiellen Algebren sind auch partielle Verknüpfungen zugelassen.\n",
        "  * Zum Beispiel ist eine Halbgruppe eine Menge mit einer inneren zweistelligen Verknüpfung, die das Assoziativgesetz erfüllt. Die Forderung, dass das Ergebnis der Verknüpfung wieder Element der gegebenen Menge sein soll (Abgeschlossenheit), ist bereits in der Definition der inneren Verknüpfung enthalten."
      ]
    },
    {
      "cell_type": "markdown",
      "metadata": {
        "id": "FaR8n8233mDW"
      },
      "source": [
        "**Elementare Algebra**"
      ]
    },
    {
      "cell_type": "markdown",
      "metadata": {
        "id": "siEahbLc3qLv"
      },
      "source": [
        "https://de.wikipedia.org/wiki/Elementare_Algebra"
      ]
    },
    {
      "cell_type": "markdown",
      "metadata": {
        "id": "5uRG5yT43ob5"
      },
      "source": [
        "https://de.wikipedia.org/wiki/Binomische_Formeln"
      ]
    },
    {
      "cell_type": "markdown",
      "metadata": {
        "id": "dr1iwDxKS8MN"
      },
      "source": [
        "**Regeln**"
      ]
    },
    {
      "cell_type": "markdown",
      "metadata": {
        "id": "H-pYZbqoo-Rz"
      },
      "source": [
        "**[Abgeschlossenheit](https://de.m.wikipedia.org/wiki/Abgeschlossenheit_(algebraische_Struktur))**\n",
        "\n",
        "* Closure laws: a + b and ab are unique elements in the field.\n",
        "\n",
        "* Manchmal findet man noch die Forderung der „Abgeschlossenheit“, dass \n",
        "x\n",
        "∗\n",
        "y\n",
        "wieder in \n",
        "G liegen soll, aber aus der Sicht eines Algebraikers beinhaltet der Begriff der „zweistelligen Verknüpfung“ diese Eigenschaft bereits."
      ]
    },
    {
      "cell_type": "markdown",
      "metadata": {
        "id": "aMr2jhDX0t-E"
      },
      "source": [
        "Manchmal findet man noch die Forderung der „Abgeschlossenheit“, dass x ∗ y wieder in G liegen soll, aber aus der Sicht eines Algebraikers beinhaltet der Begriff der „zweistelligen Verknüpfung“ diese Eigenschaft bereits."
      ]
    },
    {
      "cell_type": "markdown",
      "metadata": {
        "id": "Nc3n_XE6Dybo"
      },
      "source": [
        "*Nur Abgeschlossenheit gilt für Magma (Groupoid)*"
      ]
    },
    {
      "cell_type": "markdown",
      "metadata": {
        "id": "K64WJEKxT5Jb"
      },
      "source": [
        "**[Assoziativität](https://de.m.wikipedia.org/wiki/Assoziativgesetz)**\n",
        "\n",
        "* **Addition**. When three or more numbers are added, the sum is the same regardless of the way in which the numbers are grouped. (a + b) + c = a + (b + c)\n",
        "\n",
        "* **Multiplication**. When three or more numbers are multiplied, the product is the same regardless of the way in which the numbers are grouped. (a * b) * c = a * (b * c)"
      ]
    },
    {
      "cell_type": "markdown",
      "metadata": {
        "id": "yhsEqAv2WCyf"
      },
      "source": [
        "See also [**Associative_property**](https://en.wikipedia.org/wiki/Associative_property) and [**Non associative algebra** (or distributive algebra)](https://en.wikipedia.org/wiki/Non-associative_algebra). For example: \"Because matrices represent linear functions, and matrix multiplication represents function composition, one can immediately conclude that matrix multiplication is associative.\"\n",
        "\n",
        "* A non-associative algebra (or distributive algebra) is an algebra over a field where the binary multiplication operation is not assumed to be associative. That is, an algebraic structure A is a non-associative algebra over a field K if it is a vector space over K and is equipped with a K-bilinear binary multiplication operation A × A → A which may or may not be associative. \n",
        "\n",
        "* Examples include Lie algebras, Jordan algebras, the octonions, and three-dimensional Euclidean space equipped with the cross product operation. "
      ]
    },
    {
      "cell_type": "markdown",
      "metadata": {
        "id": "WyIE7Cjqs9SE"
      },
      "source": [
        "*Abgeschlossenheit und Assoziativität gilt für Halbgruppen*"
      ]
    },
    {
      "cell_type": "markdown",
      "metadata": {
        "id": "FIBq7GtBir5R"
      },
      "source": [
        "**[Identity Property](https://en.m.wikipedia.org/wiki/Identity_element) (Neutrales Element)**\n",
        "\n",
        "* **Additive identity**. The sum of any number and zero is that number. 12 + 0 = 12\n",
        "\n",
        "* **Multiplicatice identity**, The product of any number and one is that number. 18 x 1 = 18"
      ]
    },
    {
      "cell_type": "markdown",
      "metadata": {
        "id": "I7zmBMZLtT9F"
      },
      "source": [
        "*Zusätzlich Identity gilt für Monoid (Teiltyp Gruppe)*"
      ]
    },
    {
      "cell_type": "markdown",
      "metadata": {
        "id": "C04LXzIEpeGY"
      },
      "source": [
        "**[Inverse Elemente](https://de.m.wikipedia.org/wiki/Inverses_Element)**\n",
        "\n",
        "* **In Algebra you don't talk about substraction and division. It is additive inverse & multiplicative inverse!** This is important for fields (Korper)!\n",
        "\n",
        "* For each element a $\\in \\mathrm{G}$, there exists an element $\\mathrm{a}^{-1} \\in \\mathrm{G}$ such that $\\mathrm{a} \\cdot \\mathrm{a}^{-1}=\\mathrm{a}^{-1} \\cdot \\mathrm{a}=\\mathrm{e}$. (The element $\\mathrm{a}^{-1}$ is called the inverse of a.)\n",
        "\n",
        "* Wenn man ein beliebiges Element der Menge und sein Inverses mit der Rechenoperation verknüpft, erhält man immer das sogenannte neutrale Element $\\mathrm{e}$ als Ergebnis.\n",
        "\n",
        "* **Addition**: a+(-a) = a-a = 0 zB: 7 + (-7) = 0\n",
        "\n",
        "* **Multiplication**: Two elements of a set, A and A inverse, multiplied together to produce the identity element. Zahl a multipliziert mit seinem Kehrwert (1/a oder a<sup>-1</sup>) = 1"
      ]
    },
    {
      "cell_type": "markdown",
      "metadata": {
        "id": "vZnKN7JhvPn7"
      },
      "source": [
        "*Zusätzlich Inverse gilt für Gruppe*"
      ]
    },
    {
      "cell_type": "markdown",
      "metadata": {
        "id": "Ll09kLWiUUb-"
      },
      "source": [
        "**[Kommutativität](https://de.m.wikipedia.org/wiki/Kommutativgesetz)**\n",
        "\n",
        "* **Addition**. When two numbers are added, the sum is the same regardless of the order in which the numbers are added. a + b = b + a\n",
        "\n",
        "* **Multiplication**. When two numbers are multiplied together, the product is the same regardless of the order in which the numbers are multiplied. a * b = b * a"
      ]
    },
    {
      "cell_type": "markdown",
      "metadata": {
        "id": "exscwR8mtdxL"
      },
      "source": [
        "*Zusätzlich Kommutativität gilt für Abelian Group*"
      ]
    },
    {
      "cell_type": "markdown",
      "metadata": {
        "id": "xNPouI8c84_b"
      },
      "source": [
        "For more details on sub-types of groups, see Group-like structures: https://en.m.wikipedia.org/wiki/Category_(mathematics)"
      ]
    },
    {
      "cell_type": "markdown",
      "metadata": {
        "id": "NKq9om0BTe_4"
      },
      "source": [
        "**[Distributivgesetz](https://de.m.wikipedia.org/wiki/Distributivgesetz)**\n",
        "\n",
        "* The sum of two numbers times a third number is equal to the sum of each addend times the third number (Gilt für körper (fields), aber nicht gruppen oder ringe!). a * b + a * c = a * (b + c)"
      ]
    },
    {
      "cell_type": "markdown",
      "metadata": {
        "id": "tNBArCWBuSJo"
      },
      "source": [
        "*Gilt zusätzlich Distributivgesetz gilt für Ring (da man hier zwei Operationen benötigt)*"
      ]
    },
    {
      "cell_type": "markdown",
      "metadata": {
        "id": "SORuxSxYHKDC"
      },
      "source": [
        "**Zusammenfassung**"
      ]
    },
    {
      "cell_type": "markdown",
      "metadata": {
        "id": "KoVfPVtLVGzQ"
      },
      "source": [
        "$+$ $\\quad$ $-$ $\\quad$ is a Group\n",
        "\n",
        "$+$ $\\quad$ $-$ $\\quad$ $\\cdot$ $\\quad$ is a Ring\n",
        "\n",
        "$+$ $\\quad$ $-$ $\\quad$ $\\cdot$ $\\quad$ $÷$ $\\quad$ is a Field\n",
        "\n"
      ]
    },
    {
      "cell_type": "markdown",
      "metadata": {
        "id": "4XKF004At1qB"
      },
      "source": [
        "**The elements of a field (Körper) obey the following laws:**\n",
        "\n",
        "1. **Closure laws**: a + b and ab are unique elements in the field.\n",
        "\n",
        "2. **Commutative laws**: a + b = b + a and ab = ba.\n",
        "\n",
        "3. **Associative laws**: a + (b + c) = (a + b) + c and a(bc) = (ab)c.\n",
        "\n",
        "4. **Identity laws**: there exist elements 0 and 1 such that a + 0 = a and a × 1 = a.\n",
        "\n",
        "5. **Inverse laws**: for every a there exists an element - a such that a + (-a) = 0, and for every a ≠ 0 there exists an element a-1 such that a × a-1 = 1.\n",
        "\n",
        "6. **Distributive law**: a(b + c) = ab + ac.\n",
        "\n",
        "\n",
        "Read more: Field - Set, Laws, Elements, and Operations - JRank Articles https://science.jrank.org/pages/2709/Field.html#ixzz6UdPamPNB"
      ]
    },
    {
      "cell_type": "markdown",
      "metadata": {
        "id": "AZCpPDJAe3AK"
      },
      "source": [
        "* **Summary**: Aus einer Menge der Zahlen (N, Z, Q, R, C, H) eine algebraische Struktur basteln. Man kann mit der Gruppe anfangen (als einfachste algebraische Struktur), um erstmal einfach zu verknüpfen. Dann schickt man noch eine Verknüpfung rein und bastelt sich so einen Ring. Kommt dann zum Körper und kann spätestens bei den Körpern über komplexen Zahlen sämtliche Gleichungen lösen.\n",
        "\n",
        "* **Gruppe** zB schickt man die Menge natürliche Zahlen N in eine zweistellige Verknüpfung. Wobei abgestuft werden kann wie viele Axiome gelten, von Magma, über Halbgruppe (nur Assoziativität), Monoid (inkl. neutrales Element), Gruppe (inkl Inverse) und Abelsche Gruppe (inkl Kommutativität).\n",
        "\n",
        "* **Ringe** erlauben **zwei** zweistellige Verknüpfungen, üblicherweise der **ganzen Zahlen Z**, was aber kein Divisionsring ist / keine multiplikative Inverse für alle Elemente (gibt Probleme bei der Lösung mancher Gleichungen): Addition: (R, +) ist eine abelsche Gruppe, aber die Multiplikation: (R, ∙) ist eine Halbgruppe. **Kommutativität in der Multiplikation gilt dann erst bei Körpern!**\n",
        "\n",
        "* Divisionsring = Schiefkörper (hat alle Körpereigenschaften, aber die Multiplikation ist nicht notwendigerweise kommutativ). Anwendung bei Quaternions H.\n",
        "\n",
        "* **Körper** über rationale Zahlen Q, über reelle Zahlen R und über komplexe Zahlen C. Damit kann man praktisch alle Gleichungen lösen. Bei Körpern gilt die Kommutativität in der Multiplikation.\n",
        "\n",
        "* Für Operationen im mehrdimensionalen Raum erweitert man noch auf **Module** (für Ringe, zB ganze Zahlen Z<sup>n</sup>) und **Vektorräume** (für Körper, zB reelle Zahlen R<sup>n</sup>). Deshalb sagt man auch zB Vektorraum über einen Körper der reellen Zahlen. **Ein Modul ist ein n-dimensionaler Ring, und ein Vektorraum ist ein n-dimensionaler Körper.**"
      ]
    },
    {
      "cell_type": "markdown",
      "metadata": {
        "id": "DSDecWiLleDK"
      },
      "source": [
        "![alternativer Text](https://upload.wikimedia.org/wikipedia/commons/thumb/7/7a/Übersicht_Körper.svg/993px-Übersicht_Körper.svg.png)\n"
      ]
    },
    {
      "cell_type": "markdown",
      "metadata": {
        "id": "CoIy64C2tO4P"
      },
      "source": [
        "https://en.m.wikipedia.org/wiki/Vector_space"
      ]
    },
    {
      "cell_type": "markdown",
      "metadata": {
        "id": "C9dRal7LstQ8"
      },
      "source": [
        "https://en.m.wikipedia.org/wiki/Outline_of_algebraic_structures"
      ]
    },
    {
      "cell_type": "markdown",
      "metadata": {
        "id": "zbm3qTNcMybQ"
      },
      "source": [
        "<img src=\"https://raw.githubusercontent.com/deltorobarba/repo/master/algebragroups.jpg\" alt=\"algreba\">"
      ]
    },
    {
      "cell_type": "markdown",
      "metadata": {
        "id": "0n2NN_KyNEQb"
      },
      "source": [
        "https://youtu.be/Cq2m-MgczWU"
      ]
    },
    {
      "cell_type": "markdown",
      "metadata": {
        "id": "Jx_LmlIGnDSa"
      },
      "source": [
        "#### **Eigenschaften**"
      ]
    },
    {
      "cell_type": "markdown",
      "metadata": {
        "id": "uacbL0tqF2_Q"
      },
      "source": [
        "> **Gruppe hat immer was mit Symmetrie zu tun!**"
      ]
    },
    {
      "cell_type": "markdown",
      "metadata": {
        "id": "oCB4ra2VRdKJ"
      },
      "source": [
        "https://en.m.wikipedia.org/wiki/Cayley_graph"
      ]
    },
    {
      "cell_type": "markdown",
      "metadata": {
        "id": "7xj9iY8b8fyZ"
      },
      "source": [
        "https://www.math3ma.com/blog/a-group-and-its-center-intuitively"
      ]
    },
    {
      "cell_type": "markdown",
      "metadata": {
        "id": "8M8tVe2p8hxQ"
      },
      "source": [
        "https://www.math3ma.com/blog/ways-to-show-a-group-is-abelian"
      ]
    },
    {
      "cell_type": "markdown",
      "metadata": {
        "id": "VzITX6WSRL-t"
      },
      "source": [
        "https://en.m.wikipedia.org/wiki/Symmetry_(physics)"
      ]
    },
    {
      "cell_type": "markdown",
      "metadata": {
        "id": "YyT5QmQKmcRc"
      },
      "source": [
        "https://www.quantamagazine.org/mathematicians-prove-symmetry-of-phase-transitions-20210708/"
      ]
    },
    {
      "cell_type": "markdown",
      "metadata": {
        "id": "uTQvnnJH2c-Y"
      },
      "source": [
        "Group theory at the intersection of differential geometry: https://en.m.wikipedia.org/wiki/Gromov%27s_theorem_on_groups_of_polynomial_growth"
      ]
    },
    {
      "cell_type": "markdown",
      "metadata": {
        "id": "tgvvUdIJw3cu"
      },
      "source": [
        "A group is a set $G$ with an operation $*$ such that\n",
        "\n",
        "* **Closure**: If $x$ and $y$ are in $G$ then $x * y$ is in $\\mathrm{G}$\n",
        "  * until here it is a **Magma (Groupoid)**\n",
        "\n",
        "* **Associativity**: For all $x, y, z$ in $G$ $\\text { we have }(x * y) * z=x *(y * z)$\n",
        "  * until here it is a **Halbgruppe**\n",
        "\n",
        "* **Identity Element**: There is an element $e$ in $G$ such that $e * x=x * e=x$ for all $x$ in $G$\n",
        "  * until here it is a **Monoid**\n",
        "\n",
        "* **Inverse Elements**: For each element $x$ in $G,$ there is an element $x^{-1}$ such that $x * x^{-1}=x^{-1} * x=e$\n",
        "  * until here it is a **Group**\n",
        "\n",
        "* **Kommutative**: Für alle $a, b \\in G$ gilt: $a * b=b * a$\n",
        "  * until here it is an **Abel'sche Gruppe**"
      ]
    },
    {
      "cell_type": "markdown",
      "metadata": {
        "id": "7lu4pUUZUbRY"
      },
      "source": [
        "![xxx](https://upload.wikimedia.org/wikipedia/commons/thumb/2/20/Algebraische_Strukturen.svg/498px-Algebraische_Strukturen.svg.png)"
      ]
    },
    {
      "cell_type": "markdown",
      "metadata": {
        "id": "tvj5Lv5mbE0m"
      },
      "source": [
        "https://de.m.wikipedia.org/wiki/Gruppentheorie"
      ]
    },
    {
      "cell_type": "markdown",
      "metadata": {
        "id": "msM-kHmmBHXP"
      },
      "source": [
        "https://de.m.wikipedia.org/wiki/Gruppe_(Mathematik)"
      ]
    },
    {
      "cell_type": "markdown",
      "metadata": {
        "id": "0ZX6NbAykTKz"
      },
      "source": [
        "* Die fundamentalen algebraischen Strukturen besitzen eine oder zwei [zweistellige innere Verknüpfungen](https://de.m.wikipedia.org/wiki/Zweistellige_Verknüpfung). \n",
        "\n",
        "* Gruppen sind algebraische Strukturen mit einer inneren Verknüpfung\n",
        "\n",
        "* **A group is an algebraic structure with a single operation**. \n",
        "\n",
        "* Groups are closely associated with the idea of symmetry, and most groups that arise in mathematics are groups of symmetry transformations, with the operation being composition of functions.\n",
        "\n",
        "* **Groups are a particularly simple algebraic structure**, having only one operation and three axioms. Most algebraic structures have more than one operation, and are required to satisfy a long list of axioms."
      ]
    },
    {
      "cell_type": "markdown",
      "metadata": {
        "id": "O2YHCqA2omDH"
      },
      "source": [
        "A group is a set G together with a binary operation ∗ on G, satisfying the following axioms:\n",
        "\n",
        "1. **Abgeschlossenheit** (für **Magma**, ohne assoziativität, inverse, identity oder kommutativ)\n",
        "\n",
        "2. **Assoziativität**: The operation ∗ is associative. That is,\n",
        "a ∗ (b ∗ c) = (a ∗ b) ∗ c\n",
        "for all a,b,c ∈ G. (für **Halbgruppen**, ohne identity, inverse oder kommutativ)\n",
        "\n",
        "3. **Identity Element**: There exists an element e ∈ G with the property that\n",
        "a∗e=e∗a=a\n",
        "for all a ∈ G. (This element e is called the identity element of G.) für **Monoid** (ein Monoid ist eine Halbgruppe, die ein neutrales Element besitzt)\n",
        "\n",
        "4. **Inverse**: For each element a ∈ G, there exists an element a<sup>-1</sup> ∈ G such that a∗􏰁a<sup>-1</sup>􏰂 = 􏰁a<sup>-1</sup>􏰂∗a = e.\n",
        "(The element a<sup>-1</sup> is called the inverse of a.) für **Gruppe** (Eine Gruppe ist also ein Monoid, in dem jedes Element ein Inverses hat.)\n",
        "\n",
        "5. **Kommutativität**: für **Abelsche Gruppen**"
      ]
    },
    {
      "cell_type": "markdown",
      "metadata": {
        "id": "vTQu1Un1DJ4Z"
      },
      "source": [
        "**Von der Magma zur Abel'schen Gruppe**: Die Grundmenge ist unter einer inneren Verknüpfung per Definition abgeschlossen. Ansonsten muss ein Magma keine speziellen Eigenschaften haben. Durch Hinzunahme weiterer Bedingungen werden speziellere Strukturen definiert, die alle wiederum Magmen sind. Typische Beispiele sind:\n",
        "\n",
        "* Halbgruppe: ein Magma, dessen Verknüpfung assoziativ ist\n",
        "\n",
        "* Monoid: eine Halbgruppe mit einem neutralen Element\n",
        "\n",
        "* Quasigruppe: ein Magma, in dem alle Gleichungen der Form \n",
        "a\n",
        "x\n",
        "=\n",
        "b\n",
        "ax=b oder \n",
        "x\n",
        "a\n",
        "=\n",
        "b\n",
        "xa=b eindeutig nach \n",
        "x\n",
        "x auflösbar sind\n",
        "\n",
        "* Loop: eine Quasigruppe mit einem neutralen Element\n",
        "\n",
        "* Gruppe: ein Monoid, in dem jedes Element ein Inverses hat\n",
        "\n",
        "* Abelsche Gruppe: eine Gruppe, deren Verknüpfung kommutativ ist\n",
        "\n",
        "* Mediales Magma: ein Magma, in dem für alle Elemente die Gleichung \n",
        "(\n",
        "a\n",
        "⋆\n",
        "b\n",
        ")\n",
        "⋆\n",
        "(\n",
        "c\n",
        "⋆\n",
        "d\n",
        ")\n",
        "=\n",
        "(\n",
        "a\n",
        "⋆\n",
        "c\n",
        ")\n",
        "⋆\n",
        "(\n",
        "b\n",
        "⋆\n",
        "d\n",
        ")\n",
        "(a\\star b)\\star (c\\star d)=(a\\star c)\\star (b\\star d) gilt"
      ]
    },
    {
      "cell_type": "markdown",
      "metadata": {
        "id": "LNZni9ejYFxi"
      },
      "source": [
        "**Group Theory is all about Symmetrie, here better called Isomorphism!**"
      ]
    },
    {
      "cell_type": "markdown",
      "metadata": {
        "id": "JtUjF3lB9piz"
      },
      "source": [
        "https://en.wikipedia.org/wiki/Symmetry_in_quantum_mechanics"
      ]
    },
    {
      "cell_type": "markdown",
      "metadata": {
        "id": "ErLofdFZsi_0"
      },
      "source": [
        "Eulerformel und Gruppentheorie: https://youtu.be/mvmuCPvRoWQ"
      ]
    },
    {
      "cell_type": "markdown",
      "metadata": {
        "id": "dgggOqZNZHV7"
      },
      "source": [
        "**Applications of Group Theory**\n",
        "\n",
        "* Solutions to polynomial equations, like find 2 roots of a quadratic equation. there is also q cubic formula and a quartic for degree 4 polynomial. Find formula to solve degree 5 polynomial - group theory showed it doesnt exist. Has to do with permutation group S5.\n",
        "\n",
        "* Connection to Physics - Noether's theorem: Conservation law - symmetry. Momentum - translation in space. Energy - translation in time."
      ]
    },
    {
      "cell_type": "markdown",
      "metadata": {
        "id": "FT1pOUsswAjL"
      },
      "source": [
        "https://www.youtube.com/watch?v=mH0oCDa74tE"
      ]
    },
    {
      "cell_type": "markdown",
      "metadata": {
        "id": "UKjgP3r6bPHf"
      },
      "source": [
        "https://en.wikipedia.org/wiki/Monstrous_moonshine"
      ]
    },
    {
      "cell_type": "markdown",
      "metadata": {
        "id": "mqh25folEqEt"
      },
      "source": [
        "https://de.m.wikipedia.org/wiki/Geometrische_Gruppentheorie"
      ]
    },
    {
      "cell_type": "markdown",
      "metadata": {
        "id": "PoTJ9xlygSTZ"
      },
      "source": [
        "**Geometrische Gruppentheorie**"
      ]
    },
    {
      "cell_type": "markdown",
      "metadata": {
        "id": "SyN_82kigV5d"
      },
      "source": [
        "Die [geometrische Gruppentheorie](https://de.wikipedia.org/wiki/Geometrische_Gruppentheorie) ist derjenige Teil der Gruppentheorie, der besonderes Augenmerk auf das Zusammenspiel zwischen geometrischen Objekten und den auf ihnen operierenden Gruppen legt. Dabei geht es insbesondere um Gruppenoperationen auf Graphen und metrischen Räumen, letztlich werden die Gruppen selbst zu solchen geometrischen Objekten."
      ]
    },
    {
      "cell_type": "markdown",
      "metadata": {
        "id": "gEPwd88xg9da"
      },
      "source": [
        "* Ist $\\mathcal{C}$ eine Kategorie und ist $X$ ein Objekt dieser Kategorie, so ist die Menge $\\operatorname{Aut}_{\\mathcal{C}}(X)$ der Automorphismen $X \\rightarrow X$ eine Gruppe. Jeder Homomorphismus $G \\rightarrow \\operatorname{Aut}_{C}(X)$ einer Gruppe $G$ in diese Automorphismengruppe heißt dann eine Darstellung oder Operation von $G$ auf $X$. Ist zum Beispiel $\\mathcal{C}$ die Kategorie der Vektorräume mit den linearen Abbildungen, so erhält man die klassische Darstellungstheorie von Gruppen, in der man nach Wahl einer Vektorraumbasis jedes Gruppenelement auf eine reguläre Matrix abbildet. \n",
        "\n",
        "* Ist $\\mathcal{C}$ die Kategorie aller Mengen, so ist $\\operatorname{Aut}_{\\mathcal{C}}(X)$ nichts anderes als die Gruppe aller Permutationen auf der Menge $X$. Diese beiden Betrachtungsweisen, **Matrizengruppen und Permutationsgruppen, lagen am Beginn der Gruppentheorie**.\n",
        "\n",
        "\n",
        "* In der geometrischen Gruppentheorie verwendet man stattdessen Kategorien, deren Objekte einen eher geometrischen Charakter haben, nämlich Graphen und metrische Räume mit geeigneten Morphismen. Die Automorphismengruppen werden schon seit langer Zeit zur Untersuchung der Symmetrieeigenschaften der Objekte herangezogen. Umgekehrt können aber Gruppeneigenschaften durch ihre Operationen auf Objekten studiert werden und Gruppen selbst können zu geometrischen Objekten gemacht werden, sodass für diese Gruppen geometrische Begriffsbildungen sinnvoll werden."
      ]
    },
    {
      "cell_type": "markdown",
      "metadata": {
        "id": "HCZVrEOjxRMs"
      },
      "source": [
        "**Gruppenoperation**"
      ]
    },
    {
      "cell_type": "markdown",
      "metadata": {
        "id": "jfwusm1GxUEM"
      },
      "source": [
        "https://de.wikipedia.org/wiki/Gruppenoperation"
      ]
    },
    {
      "cell_type": "markdown",
      "metadata": {
        "id": "vPzgxxq-w6fH"
      },
      "source": [
        "**Topologische Gruppe**"
      ]
    },
    {
      "cell_type": "markdown",
      "metadata": {
        "id": "IwISugMJw9SX"
      },
      "source": [
        "https://de.wikipedia.org/wiki/Topologische_Gruppe"
      ]
    },
    {
      "cell_type": "markdown",
      "metadata": {
        "id": "W9iXAo7d6DQN"
      },
      "source": [
        "**Verknüpfungstafel**"
      ]
    },
    {
      "cell_type": "markdown",
      "metadata": {
        "id": "loTPhWs46GDT"
      },
      "source": [
        "https://de.wikipedia.org/wiki/Verknüpfungstafel"
      ]
    },
    {
      "cell_type": "markdown",
      "metadata": {
        "id": "RfjsHi4B23Jf"
      },
      "source": [
        "**Konjugation (Gruppentheorie)**"
      ]
    },
    {
      "cell_type": "markdown",
      "metadata": {
        "id": "XyIfC2_P25F6"
      },
      "source": [
        "https://de.m.wikipedia.org/wiki/Konjugation_(Gruppentheorie)"
      ]
    },
    {
      "cell_type": "markdown",
      "metadata": {
        "id": "PKhkd7JgWQ2L"
      },
      "source": [
        "**Präsentation einer Gruppe (Kombinatorische & Algorithmische Gruppentheorie)**"
      ]
    },
    {
      "cell_type": "markdown",
      "metadata": {
        "id": "4OTRXkf2WfKw"
      },
      "source": [
        "* Die Präsentation (oder Präsentierung) einer Gruppe gegeben durch eine Menge von Elementen, die die Gruppe erzeugen, und eine Menge von Relationen, die zwischen diesen Erzeugern bestehen. \n",
        "\n",
        "* Zum Beispiel wird die zyklische Gruppe der Ordnung $n$ erzeugt von einem Element $g$ mit der Relation $g^{n}=1$. Eine solche Präsentation nennt man daher auch Darstellung durch Erzeuger und Relationen. \n",
        "\n",
        "* Jede Gruppe lässt sich auf diese Weise präsentieren, und somit sind Präsentationen ein universelles Werkzeug, um Gruppen zu konstruieren und zu untersuchen. Viele unendliche Gruppen erlauben eine endliche Präsentation und damit eine effiziente Beschreibung. \n",
        "\n",
        "* Die **kombinatorische Gruppentheorie** untersucht Gruppen mit Hilfe ihrer Präsentationen und stellt hierzu umfangreiche Techniken zur Verfügung.\n"
      ]
    },
    {
      "cell_type": "markdown",
      "metadata": {
        "id": "JuaIYm4VZLHG"
      },
      "source": [
        "Wenn man sich beliebige Erzeuger $S$ und Relationen $R$ vorgibt, dann ist zunächst nicht klar, ob und wie dadurch eine Gruppe definiert werden kann. Die folgende Konstruktion löst dieses Problem, indem sie die dargestellte Gruppe $\\langle S \\mid R\\rangle$ als Quotienten einer freien Gruppe definiert:\n",
        "\n",
        "* Gegeben sei eine Menge $S$, deren Elemente wir im Folgenden als Erzeuger verwenden wollen.\n",
        "\n",
        "* Es sei $F=F(S)$ die freie Gruppe über $S$. Diese besteht aus allen reduzierten Wörtern $s_{1}^{e_{1}} s_{2}^{e_{2}} \\cdots s_{n}^{e_{n}}$ mit Faktoren $s_{1}, s_{2}, \\ldots, s_{n} \\in S$, wobei $s_{i} \\neq s_{i+1}$ für alle $i$, und Exponenten $e_{1}, e_{2}, \\ldots, e_{n} \\in \\mathbb{Z}$, wobei $e_{i} \\neq 0$ für alle $i$. \n",
        "\n",
        "* Ferner sei $R \\subset F$ eine Menge von solchen Wörtern über $S$. Wir bezeichnen mit $R^{F}$ die Menge aller konjugierten Elemente $r^{x}$ wobei $r \\in R$ und $x \\in F$. \n",
        "\n",
        "* Es sei $K=\\left\\langle R^{F}\\right\\rangle$ die von der Menge $R^{F}$ erzeugte Untergruppe von $F$. Man nennt $K$ die Menge aller Konsequenzen der Relationen $R$. \n",
        "\n",
        "* Sie lässt sich auch beschreiben als der von $R$ erzeugte Normalteiler, und dafür ist die Bezeichnung $K=\\langle\\langle R\\rangle\\rangle$ gebräuchlich.\n",
        "\n",
        "* Nach Konstruktion ist $K$ ein Normalteiler der freien Gruppe $F$. Wir\n",
        "erhalten demnach als Quotient eine Gruppe\n",
        "\n",
        ">$\n",
        "\\langle S \\mid R\\rangle:=F / K\n",
        "$\n",
        "\n",
        "* und nennen diese die Gruppe mit Erzeugern $S$ und Relationen $R$. Genauer nennt man das Paar $(S, R)$ die Präsentation, und $\\langle S \\mid R\\rangle$ die durch $(S, R)$ präsentierte Gruppe."
      ]
    },
    {
      "cell_type": "markdown",
      "metadata": {
        "id": "b0CqiI8TdcmR"
      },
      "source": [
        "**Beispiele**:\n",
        "\n",
        "* Ist $(G, \\cdot)$ eine [endliche Gruppe](https://de.m.wikipedia.org/wiki/Endliche_Gruppe) der Ordnung $n$, so können wir ihre [Verknüpfungstafel](https://de.m.wikipedia.org/wiki/Verknüpfungstafel) als eine Präsentation durch $n$ Erzeuger und $n^{2}$ Relationen interpretieren.  Die Erzeuger sind hierbei die Elemente $a, b, c, \\ldots$ der gegebenen Gruppe $G$, und jedes Produkt $a \\cdot b=c$ definiert eine Relation $a b c^{-1}$ in der freien Gruppe über $G$. Im Allgemeinen erlaubt $G$ jedoch auch viel kürzere Präsentationen.\n"
      ]
    },
    {
      "cell_type": "markdown",
      "metadata": {
        "id": "rXehuczXYScM"
      },
      "source": [
        "1911 formulierte Max Dehn **drei fundamentale algorithmische Probleme** in der (kombinatorischen) Gruppentheorie:\n",
        "\n",
        "* **Wortproblem**: Ist ein gegebenes Gruppenelement (als Wort in Erzeugern) das Einselement in der Gruppe?\n",
        "\n",
        "* **Konjugationsproblem**: Sind zwei Elemente konjugiert?\n",
        "\n",
        "* **Isomorphieproblem**: Definieren zwei gegebene Darstellungen isomorphe Gruppen?\n",
        "\n",
        "Im Allgemeinen sind alle diese Fragen unentscheidbar, also kann man positive Antworten nur in Spezialfällen erhalten. Die weitreichensten Ergebnisse liegen für das Wortproblem vor. Hier gibt es eine große Klasse von Gruppen, die in der Praxis auftreten und für die man sehr gute Algorithmen kennt."
      ]
    },
    {
      "cell_type": "markdown",
      "metadata": {
        "id": "prFn7mNokjHX"
      },
      "source": [
        "https://de.m.wikipedia.org/wiki/Präsentation_einer_Gruppe"
      ]
    },
    {
      "cell_type": "markdown",
      "metadata": {
        "id": "seDVqWVKnH7e"
      },
      "source": [
        "#### **Abstrakte Gruppen (Strukturen)**"
      ]
    },
    {
      "cell_type": "markdown",
      "metadata": {
        "id": "rxdQVgZuzc8x"
      },
      "source": [
        "##### <font color=\"blue\">**Gruppoid (Magma)**"
      ]
    },
    {
      "cell_type": "markdown",
      "metadata": {
        "id": "mUhMOWLAziQF"
      },
      "source": [
        "* ein Magma (neutrum, Mehrzahl Magmen) ist eine algebraische Struktur, bestehend aus einer Menge zusammen mit einer zweistelligen inneren Verknüpfung. \n",
        "\n",
        "* Es wird auch Gruppoid,manchmal Binar oder Operativ genannt.\n",
        "\n",
        "* Ist die Verknüpfung kommutativ, so heißt das Magma kommutativ oder abelsch; ist sie assoziativ, so heißt das Magma assoziativ oder Halbgruppe."
      ]
    },
    {
      "cell_type": "markdown",
      "metadata": {
        "id": "6hMH-SILCoVM"
      },
      "source": [
        "Die folgenden **Beispiele** sind Magmen, die keine Halbgruppen sind:\n",
        "\n",
        "* $(\\mathbb{Z},-):$ die ganzen Zahlen mit der Subtraktion\n",
        "\n",
        "* (R $\\backslash\\{0\\}, /)$ : die reellen Zahlen ungleich 0 mit der Division\n",
        "\n",
        "* Die natürlichen Zahlen mit der Exponentiation, also mit der Verknüpfung $a * b=a^{b}$\n",
        "\n",
        "* Die reellen Zahlen mit der Bildung des arithmetischen Mittels als Verknüpfung"
      ]
    },
    {
      "cell_type": "markdown",
      "metadata": {
        "id": "L3IgdRQpzrLT"
      },
      "source": [
        "https://de.m.wikipedia.org/wiki/Magma_(Mathematik)"
      ]
    },
    {
      "cell_type": "markdown",
      "metadata": {
        "id": "5911qy-T8r-t"
      },
      "source": [
        "Gruppoid (Kategorientheorie)"
      ]
    },
    {
      "cell_type": "markdown",
      "metadata": {
        "id": "QsWwWs1jEg6F"
      },
      "source": [
        "**Achtung:** Siehe Gruppoid in der Kategorientheorie: https://de.m.wikipedia.org/wiki/Gruppoid_(Kategorientheorie)"
      ]
    },
    {
      "cell_type": "markdown",
      "metadata": {
        "id": "Ab7LNFPL8hJ1"
      },
      "source": [
        "* Die drei Verträglichkeitsbedingungen gleichen den Gruppenaxiomen. Das ist kein Zufall. \n",
        "\n",
        "* **Ein Gruppoid mit genau einem Objekt ist nichts anderes als eine Gruppe**. In diesem Sinn stellt der Begriff Gruppoid also eine Verallgemeinerung des Begriffes Gruppe dar.\n",
        "\n",
        "* Die Kategorie aller Gruppoide mit Funktoren als Morphismen ist eine Subkategorie von Cat, der Kategorie aller kleinen Kategorien"
      ]
    },
    {
      "cell_type": "markdown",
      "metadata": {
        "id": "QE2eJSx60DaV"
      },
      "source": [
        "Infinity Groupoid\n"
      ]
    },
    {
      "cell_type": "markdown",
      "metadata": {
        "id": "p-LtDSuW0Goi"
      },
      "source": [
        "* The notion of ∞-groupoid is the generalization of that of group and groupoids to higher category theory:"
      ]
    },
    {
      "cell_type": "markdown",
      "metadata": {
        "id": "wrzK4KKJ0QIu"
      },
      "source": [
        "https://ncatlab.org/nlab/show/infinity-groupoid"
      ]
    },
    {
      "cell_type": "markdown",
      "metadata": {
        "id": "dCFE-DUSztRw"
      },
      "source": [
        "https://en.m.wikipedia.org/wiki/∞-groupoid"
      ]
    },
    {
      "cell_type": "markdown",
      "metadata": {
        "id": "iWCeLOJUyQTQ"
      },
      "source": [
        "##### <font color=\"blue\">**Halbgruppe**"
      ]
    },
    {
      "cell_type": "markdown",
      "metadata": {
        "id": "jMk7Z_FMinyX"
      },
      "source": [
        "* **Abgeschlossenheit** (https://de.m.wikipedia.org/wiki/Abgeschlossenheit_(algebraische_Struktur))\n",
        "\n",
        "* **Assoziativität**: The operation ∗ is associative. That is, a ∗ (b ∗ c) = (a ∗ b) ∗ c for all a,b,c ∈ G.\n",
        "\n",
        "Es wird **nicht** erfüllt: Neutral (identity element), inverse, kommunitativ  (Abel'sche Gruppe)"
      ]
    },
    {
      "cell_type": "markdown",
      "metadata": {
        "id": "bMyPE5FjzwTo"
      },
      "source": [
        "Beispiele: "
      ]
    },
    {
      "cell_type": "markdown",
      "metadata": {
        "id": "H3gSEyuf_2h6"
      },
      "source": [
        "* Die Menge $\\mathbb  N$ $_0$ = {0, 1, 2 ..} der natürlichen Zahlen bildet mit der gewöhnlichen Addition eine kommutative und kürzbare Halbgruppe ($\\mathbb  N$ $_0$,+), die keine Gruppe ist. Da hier die negativen Zahlen fehlen, also die „Hälfte“ der abelschen Gruppe ($\\mathbb Z,+$) der ganzen Zahlen, lag der Name Halbgruppe für diese mathematische Struktur nahe. \n",
        "\n",
        "* Tatsächlich wurde in der Vergangenheit der Begriff „Halbgruppe“ für ein nach den oben gegebenen Definitionen kommutatives, kürzbares Monoid verwendet, später setzte sich dann die obige Definition allgemein durch."
      ]
    },
    {
      "cell_type": "markdown",
      "metadata": {
        "id": "bm96oAJn_X6E"
      },
      "source": [
        "https://de.m.wikipedia.org/wiki/Halbgruppe"
      ]
    },
    {
      "cell_type": "markdown",
      "metadata": {
        "id": "e_c49RceyU0S"
      },
      "source": [
        "##### <font color=\"blue\">**Monoid**"
      ]
    },
    {
      "cell_type": "markdown",
      "metadata": {
        "id": "6bCnMt3UlUfm"
      },
      "source": [
        "* **Closure**: If $x$ and $y$ are in $G$ then $x * y$ is in $\\mathrm{G}$\n",
        "\n",
        "* **Associativity**: For all $x, y, z$ in $G$ $\\text { we have }(x * y) * z=x *(y * z)$\n",
        "\n",
        "* **Identity Element**: There is an element $e$ in $G$ such that $e * x=x * e=x$ for all $x$ in $G$\n",
        "\n",
        "Es wird **nicht** erfüllt: inverse Element (= Gruppe), kommunitativ (= Abel'sche Gruppe)"
      ]
    },
    {
      "cell_type": "markdown",
      "metadata": {
        "id": "W4bqgKaUmfvs"
      },
      "source": [
        "* ein Monoid ist eine algebraische Struktur bestehend aus einer Menge mit einer klammerfrei notierbaren (assoziativen) Verknüpfung und einem neutralen Element. \n",
        "\n",
        "* **Ein Beispiel sind die natürlichen Zahlen mit der Addition und der Zahl 0 als neutralem Element.** \n",
        "\n",
        "* Ein Monoid, in dem jedes Element invertierbar ist, heißt Gruppe.\n",
        "\n",
        "* Eigenschaften bezüglich der angegebenen Verknüpfung: Assoziativität der Verknüpfung und e ist ein neutrales Element.\n",
        "\n",
        "* **Ein Monoid ist also eine Halbgruppe mit neutralem Element.** Jede Gruppe ist ein Monoid, aber ein Monoid hat im Gegensatz zur Gruppe nicht notwendigerweise inverse Elemente.\n",
        "\n",
        "* in Kategorietheorie ein Monoid ist eine Kategorie mit nur einem Objekt (und Pfeile mit Richtung zu sich selbst als Elemente / das sind neutrale Elemente)\n"
      ]
    },
    {
      "cell_type": "markdown",
      "metadata": {
        "id": "Z4ksA9DHix5Y"
      },
      "source": [
        "https://de.m.wikipedia.org/wiki/Monoid"
      ]
    },
    {
      "cell_type": "markdown",
      "metadata": {
        "id": "XM99PIHSxVpO"
      },
      "source": [
        "##### <font color=\"blue\">**Gruppe**"
      ]
    },
    {
      "cell_type": "markdown",
      "metadata": {
        "id": "RABq0YZ_mNj2"
      },
      "source": [
        "A group is a set $G$ with an operation $*$ such that\n",
        "\n",
        "* **Closure**: If $x$ and $y$ are in $G$ then $x * y$ is in $\\mathrm{G}$\n",
        "\n",
        "* **Associativity**: For all $x, y, z$ in $G$ $\\text { we have }(x * y) * z=x *(y * z)$\n",
        "\n",
        "* **Identity Element**: There is an element $e$ in $G$ such that $e * x=x * e=x$ for all $x$ in $G$\n",
        "\n",
        "* **Inverse Elements**: For each element $x$ in $G,$ there is an element $x^{-1}$ such that $x * x^{-1}=x^{-1} * x=e$"
      ]
    },
    {
      "cell_type": "markdown",
      "metadata": {
        "id": "EorWgfm-xahc"
      },
      "source": [
        "* Demnach ist eine Gruppe eine Menge zusammen mit **einer zweistelligen inneren Verknüpfung** (durch die jedem geordneten Paar von Elementen eindeutig ein Element dieser Menge als Resultat zugeordnet wird), wenn diese **Verknüpfung assoziativ** ist und es ein **neutrales Element** gibt sowie zu jedem Element ein **Inverses**. \n",
        "\n",
        "**Ringe, Körper, Moduln und Vektorräume sind Gruppen mit zusätzlichen Strukturen und Eigenschaften**"
      ]
    },
    {
      "cell_type": "markdown",
      "metadata": {
        "id": "jdIUzYUXxeQ1"
      },
      "source": [
        "Beispiele"
      ]
    },
    {
      "cell_type": "markdown",
      "metadata": {
        "id": "2uN_TPCVxdSO"
      },
      "source": [
        "* So bildet zum Beispiel auch die Menge der ganzen Zahlen zusammen mit der Addition eine Gruppe.\n",
        "\n",
        "* Physik und Chemie treten Gruppen überall dort auf, wo Symmetrien eine Rolle spielen (z. B. Invarianz physikalischer Gesetze, Symmetrie von Molekülen und Kristallen)"
      ]
    },
    {
      "cell_type": "markdown",
      "metadata": {
        "id": "dAtrm3obyX59"
      },
      "source": [
        "##### <font color=\"blue\">**Abelian Group**"
      ]
    },
    {
      "cell_type": "markdown",
      "metadata": {
        "id": "66v6RcrHOR8g"
      },
      "source": [
        "https://www.math.uni-bielefeld.de/~sek/top/leit/alg2.htm"
      ]
    },
    {
      "cell_type": "markdown",
      "metadata": {
        "id": "e6YkN8oDc-nK"
      },
      "source": [
        "* Eine abelsche Gruppe ist eine Gruppe, für die zusätzlich das Kommutativgesetz gilt.\n",
        "\n",
        "Sei $G$ eine Menge. Jedem Paar $(a, b) \\in G \\times G$ sei genau ein Element $a * b \\in G$ zugeordnet. Das Paar $(G, *)$ heißt abelsche Gruppe, wenn die Verknüpfung $*: G \\times G \\rightarrow G,(a, b) \\mapsto a * b$ die folgenden Gesetze erfüllt:\n",
        "\n",
        "1. Assoziativgesetz: Für alle $a, b, c \\in G$ gilt: $a *(b * c)=(a * b) * c$\n",
        "2. Kommutativgesetz: Für alle $a, b \\in G$ gilt: $a * b=b * a$\n",
        "3. Neutrales Element: Es gibt ein Element $e \\in G,$ so dass für alle $a \\in G$ gilt: $a * e=a$\n",
        "4. Inverses Element: Zu jedem $a \\in G$ gibt es ein $a^{-1} \\in G$ mit $a * a^{-1}=e$.\n",
        "\n",
        "Eine Gruppe $(G, *)$ heißt nichtabelsch, wenn in ihr mindestens ein Paar $(a, b)$ existiert mit $a * b \\neq b * a$\n",
        "\n",
        "* $(\\mathbb {Z} ,+)$ ist die wichtigste abelsche Gruppe. Dabei ist Z die Menge der ganzen Zahlen und + die gewöhnliche Addition.\n",
        "\n",
        "* $(\\mathbb {Q} ^{*},\\cdot )$ ist eine abelsche Gruppe. Dabei ist $\\mathbb {Q} ^{*}$ die Menge der rationalen Zahlen ohne die \n",
        "0 und ⋅ ist die gewöhnliche Multiplikation. Die Null muss hierbei ausgeschlossen werden, da sie kein inverses Element besitzt: „1/0“ ist nicht definiert.\n",
        "\n",
        "* Die Menge der Verschiebungen in der euklidischen Ebene bilden eine abelsche Gruppe. Die Verknüpfung ist die Hintereinanderausführung der Verschiebungen.\n",
        "\n",
        "* Die Menge der Drehungen in einer Ebene um einen Punkt bilden eine abelsche Gruppe. Die Verknüpfung ist die Hintereinanderausführung der Drehungen.\n",
        "\n",
        "* Die Menge der Drehstreckungen in einer Ebene bilden eine abelsche Gruppe.\n",
        "\n",
        "* Die Menge der endlichen Dezimalzahlen sind bezüglich der Multiplikation keine abelsche Gruppe. Zum Beispiel hat die Zahl 3 kein Inverses bezüglich der Multiplikation. $\\displaystyle {\\frac {1}{3}}$ lässt sich nicht als endlicher Dezimalbruch schreiben. Bezüglich der normalen Addition bilden die endlichen Dezimalbrüche eine abelsche Gruppe.\n",
        "Die Menge der Verschiebungen in der euklidischen Ebene bilden eine abelsche Gruppe. Die Verknüpfung ist die Hintereinanderausführung der Verschiebungen.\n",
        "\n",
        "* usw.: https://de.m.wikipedia.org/wiki/Abelsche_Gruppe"
      ]
    },
    {
      "cell_type": "markdown",
      "metadata": {
        "id": "6WXdK8VmN4Nj"
      },
      "source": [
        "**Freie Abelsche Gruppe**"
      ]
    },
    {
      "cell_type": "markdown",
      "metadata": {
        "id": "Vd_T1OhlN-Z3"
      },
      "source": [
        "* In der Mathematik ist eine freie abelsche Gruppe eine abelsche Gruppe, die als $\\mathbb {Z}$-Modul eine Basis hat.\n",
        "\n",
        "* Im Gegensatz zu Vektorräumen hat nicht jede abelsche Gruppe eine Basis, deshalb gibt es den spezielleren Begriff der freien abelschen Gruppe.\n",
        "\n",
        "* Jede abelsche Gruppe ist auf natürliche Weise ein $\\mathbb {Z}$ -Modul. Freie abelsche Gruppen sind daher nichts anderes als freie Moduln über $\\mathbb {Z}$."
      ]
    },
    {
      "cell_type": "markdown",
      "metadata": {
        "id": "_9N4KXC5N7f0"
      },
      "source": [
        "https://de.m.wikipedia.org/wiki/Freie_abelsche_Gruppe"
      ]
    },
    {
      "cell_type": "markdown",
      "metadata": {
        "id": "MsBW7Mc9Or8w"
      },
      "source": [
        "https://de.m.wikipedia.org/wiki/Freier_Modul"
      ]
    },
    {
      "cell_type": "markdown",
      "metadata": {
        "id": "fnd2z0hNOOFi"
      },
      "source": [
        "**Bedeutung (freier) abelscher Gruppen**"
      ]
    },
    {
      "cell_type": "markdown",
      "metadata": {
        "id": "DkYuB7lZOVcv"
      },
      "source": [
        "* Kann man von einer irgendwo in natürlicher Weise auftretenden Gruppe G zeigen, dass G eine freie abelsche Gruppe ist, so freut man sich:  denn es zeigt, **dass G eine sehr übersichtliche Struktur besitzt, dass man in G recht unproblematisch rechnen kann.** \n",
        "\n",
        "* Beispiel:  Ist V ein k-Vektorraum, wobei k ein Körper der Charakteristik Null ist, so ist jede Untergruppe von V, die von endlich vielen Vektoren erzeugt wird, eine freie abelsche Gruppe. (Wenn wir von Untergruppen von V reden, so betrachten wir nur die additive Struktur von V: Jeder Vektorraum ist ja bezüglich der Addition eine abelsche Gruppe.) \n",
        "\n",
        "* Weiß man, dass G eine freie abelsche Gruppe ist, **so wird man eine Basis wählen und alle Elemente als Linearkombinationen von Elementen dieser Basis ausdrücken**. Allerdings sollte man betonen, dass es meist keine ausgezeichnete Basis geben wird. Man sucht also eine geeignete Basis, in der die Elemente, an denen man interessiert sind, eine besonders einfache Form haben..."
      ]
    },
    {
      "cell_type": "markdown",
      "metadata": {
        "id": "Tv28yiNHOSs4"
      },
      "source": [
        "https://www.math.uni-bielefeld.de/~sek/top/leit/alg2.htm"
      ]
    },
    {
      "cell_type": "markdown",
      "metadata": {
        "id": "uNAk72BxycQE"
      },
      "source": [
        "##### <font color=\"blue\">**Lie Gruppe**"
      ]
    },
    {
      "cell_type": "markdown",
      "metadata": {
        "id": "Wj5WrEkbe_A3"
      },
      "source": [
        "* eine Lie-Gruppe ist eine mathematische Struktur, die zur Beschreibung von kontinuierlichen Symmetrien verwendet wird. \n",
        "\n",
        "* Formal handelt es sich bei einer Lie-Gruppe um eine Gruppe, die als differenzierbare Mannigfaltigkeit aufgefasst werden kann, sodass die Gruppenverknüpfung und Inversenbildung kompatibel mit dieser glatten Struktur sind.\n",
        "\n",
        "* Eine Lie-Gruppe ist eine [glatte reelle Mannigfaltigkeit](https://de.m.wikipedia.org/wiki/Differenzierbare_Mannigfaltigkeit#Glatte_Mannigfaltigkeit), die zusätzlich die Struktur einer Gruppe besitzt, so dass die Gruppenverknüpfung und die Inversion beliebig oft differenzierbar sind. (*Glatte Funktion: Eine glatte Funktion ist eine mathematische Funktion, die unendlich oft differenzierbar (insbesondere stetig) ist. Die Bezeichnung „glatt“ ist durch die Anschauung motiviert: Der Graph einer glatten Funktion hat keine „Ecken“, also Stellen, an denen sie nicht differenzierbar ist.*)"
      ]
    },
    {
      "cell_type": "markdown",
      "metadata": {
        "id": "CzfgyBiS6QOn"
      },
      "source": [
        "https://de.m.wikipedia.org/wiki/Lie-Gruppe"
      ]
    },
    {
      "cell_type": "markdown",
      "metadata": {
        "id": "WA7xSdDWirTD"
      },
      "source": [
        "**Lie-Algebra**"
      ]
    },
    {
      "cell_type": "markdown",
      "metadata": {
        "id": "kkqO6HRr458d"
      },
      "source": [
        "* ist eine algebraische Struktur, die mit einer Lie-Klammer versehen ist, d. h. es existiert eine antisymmetrische Verknüpfung, die die Jacobi-Identität erfüllt. \n",
        "\n",
        "* Lie-Algebren werden hauptsächlich zum Studium geometrischer Objekte wie Lie-Gruppen und differenzierbarer Mannigfaltigkeiten eingesetzt."
      ]
    },
    {
      "cell_type": "markdown",
      "metadata": {
        "id": "ldvhBQDfivPt"
      },
      "source": [
        "https://de.m.wikipedia.org/wiki/Lie-Algebra"
      ]
    },
    {
      "cell_type": "markdown",
      "metadata": {
        "id": "CmuHEBHk6VsG"
      },
      "source": [
        "##### <font color=\"blue\">**Galoistheorie**"
      ]
    },
    {
      "cell_type": "markdown",
      "metadata": {
        "id": "qkicJ2s-6YiR"
      },
      "source": [
        "https://de.wikipedia.org/wiki/Galoistheorie"
      ]
    },
    {
      "cell_type": "markdown",
      "metadata": {
        "id": "NZ2UQhmS6J2m"
      },
      "source": [
        "#### **Quotient Groups & Homomorphiesatz**"
      ]
    },
    {
      "cell_type": "markdown",
      "metadata": {
        "id": "aShRhfg5GrPX"
      },
      "source": [
        "#### **'Fundamental' Groups**"
      ]
    },
    {
      "cell_type": "markdown",
      "metadata": {
        "id": "DYd95ZikPxG7"
      },
      "source": [
        "##### <font color=\"blue\">**Trivial Group (Zero Group)**"
      ]
    },
    {
      "cell_type": "markdown",
      "metadata": {
        "id": "DCaLVo_nP2aQ"
      },
      "source": [
        "Die [triviale Gruppe](https://de.m.wikipedia.org/wiki/Triviale_Gruppe) ist in der Gruppentheorie eine Gruppe, deren Trägermenge genau ein Element enthält. Die triviale Gruppe ist bis auf Isomorphie eindeutig bestimmt. **Jede Gruppe enthält die triviale Gruppe als Untergruppe**.\n",
        "\n",
        "Die triviale Gruppe $(\\{e\\}, *)$ ist eine Gruppe, die aus der einelementigen Menge $\\{e\\}$ besteht und versehen ist mit der einzig möglichen Gruppenoperation\n",
        "\n",
        "$\n",
        "e * e=e\n",
        "$\n",
        "\n",
        "Das Element $e$ ist damit das **neutrale Element** der Gruppe."
      ]
    },
    {
      "cell_type": "markdown",
      "metadata": {
        "id": "NoATSFAfQ9i7"
      },
      "source": [
        "Alle trivialen Gruppen sind zueinander isomorph. Beispiele für triviale Gruppen sind:\n",
        "\n",
        "* die zyklische Gruppe $C_{1}$ vom Grad 1\n",
        "\n",
        "* die alternierende Gruppe $A_{2}$ vom Grad 2\n",
        "\n",
        "* die symmetrische Gruppe $S_{1}$ einer einelementigen Menge\n"
      ]
    },
    {
      "cell_type": "markdown",
      "metadata": {
        "id": "8WkzsL3wguXw"
      },
      "source": [
        "*Eigenschaften trivialer Gruppen*:\n",
        "\n",
        "* Da die Gruppenoperation $\\ast$ kommutativ ist, ist die triviale Gruppe eine abelsche Gruppe.\n",
        "\n",
        "* Die einzige Untergruppe der trivialen Gruppe ist die triviale Gruppe selbst.\n",
        "\n",
        "* Die triviale Gruppe wird von der leeren Menge erzeugt: \n",
        "$\\{e\\}=\\langle \\emptyset \\rangle$ . Hierbei ergibt das leere Produkt nach üblicher Konvention das neutrale Element.\n",
        "\n",
        "* Jede Gruppe enthält die triviale Gruppe und sich selbst als (triviale) Normalteiler. **Die triviale Gruppe wird daher meistens nicht als einfache Gruppe angesehen**, die aus genau 2 Normalteilern besteht).\n",
        "\n",
        "* In der Kategorie der Gruppen Grp fungiert die triviale Gruppe als Nullobjekt."
      ]
    },
    {
      "cell_type": "markdown",
      "metadata": {
        "id": "IGPylM19Td9A"
      },
      "source": [
        "##### <font color=\"blue\">**Charakteristische Untergruppe**"
      ]
    },
    {
      "cell_type": "markdown",
      "metadata": {
        "id": "TmbikAU9TkZt"
      },
      "source": [
        "**Charakteristische Untergruppe**\n",
        "\n",
        "* In der Gruppentheorie ist eine [charakteristische Untergruppe](https://de.m.wikipedia.org/wiki/Charakteristische_Untergruppe) einer Gruppe $G$ eine Untergruppe $H$, die unter jedem Automorphismus von $G$ in sich abgebildet wird.\n",
        "\n",
        "* Eine Untergruppe $H$ von $G$ heißt charakteristisch, wenn für jeden Automorphismus, das heißt bijektiven Gruppenhomomorphismus $f: G \\rightarrow G$, stets $f(H) \\subset H$ gilt.\n",
        "\n"
      ]
    },
    {
      "cell_type": "markdown",
      "metadata": {
        "id": "SNU8gb_lT-8z"
      },
      "source": [
        "**Charakteristische einfache Untergruppe**\n",
        "\n",
        "* eine Gruppe [charakteristisch einfach](https://de.m.wikipedia.org/wiki/Charakteristisch_einfache_Gruppe), wenn sie außer sich selbst und der trivialen Untergruppe keine weiteren charakteristischen Untergruppen enthält. "
      ]
    },
    {
      "cell_type": "markdown",
      "metadata": {
        "id": "I928UjHNKuZc"
      },
      "source": [
        "##### <font color=\"blue\">**Simple Group**"
      ]
    },
    {
      "cell_type": "markdown",
      "metadata": {
        "id": "Ug8YBjUSuUw4"
      },
      "source": [
        "https://youtu.be/jhVMBXl5jTA"
      ]
    },
    {
      "cell_type": "markdown",
      "metadata": {
        "id": "FXVFg6eAKyF0"
      },
      "source": [
        "* [Simple Groups](https://en.wikipedia.org/wiki/Simple_group) bzw. [einfache Gruppen](https://de.wikipedia.org/wiki/Einfache_Gruppe_(Mathematik)) **are the fundamental building blocks of finite groups** (just like Prime numbers are fundamental building blocks in number theory)\n",
        "\n",
        "* Just as you can factor integers into prime numbers, you can break apart some groups into a direct product of simpler groups.\n",
        "\n",
        "*  **a simple group is a <u>nontrivial</u> group whose only normal subgroups are the trivial group and the group itself.**\n",
        "\n",
        "* **Jede Gruppe hat sich selbst und die nur das neutrale Element enthaltende Menge als Normalteiler.** \n",
        "\n",
        "Damit stellt sich die Frage, welche Gruppen keine weitere Normalteiler besitzen. Bei diesen handelt es sich per definitionem gerade um die einfachen Gruppen.\n",
        "\n",
        "  * Eine Gruppe $G$ heisst einfach, falls sie als Normalteiler nur $G$ und $\\{e\\}$ mit dem neutralen Element $e$ hat. \n",
        "  * Außerdem wird zusătzlich $G \\neq\\{e\\}$ gefordert, wonach man knapper sagen kann: \n",
        "  * **Eine Gruppe heißt einfach, wenn sie genau zwei Normalteiler besitzt.**\n",
        "\n",
        "* A group that is not simple can be broken into two smaller groups, namely a nontrivial [normal subgroup](https://en.wikipedia.org/wiki/Normal_subgroup) and the corresponding quotient group. This process can be repeated, and for finite groups one eventually arrives at uniquely determined simple groups, by the [Jordan–Hölder theorem (Composition series)](https://en.wikipedia.org/wiki/Composition_series).\n",
        "\n",
        "* The complete classification of finite simple groups, completed in 2004, is a major milestone in the history of mathematics."
      ]
    },
    {
      "cell_type": "markdown",
      "metadata": {
        "id": "3jFJaNelSJOs"
      },
      "source": [
        "**Seit 1982 sind die endlichen einfachen Gruppen vollständig klassifiziert, die Liste besteht aus**\n",
        "\n",
        "* den zyklischen Gruppen von Primzahlordnung,\n",
        "\n",
        "* den alternierenden Gruppen $A_{n}$ mit $n\\geq 5$,\n",
        "\n",
        "* den Gruppen vom Lie-Typ (16 jeweils unendliche Serien)\n",
        "\n",
        "* 26 sporadischen Gruppen (Es handelt sich um die endlichen einfachen Gruppen, die sich nicht in eine der (18) systematischen Familien mit unendlich vielen Mitgliedern (von endlichen einfachen Gruppen) einordnen lassen.)"
      ]
    },
    {
      "cell_type": "markdown",
      "metadata": {
        "id": "jUMV7zliLwZE"
      },
      "source": [
        "**Direct product of groups (from simple groups)**"
      ]
    },
    {
      "cell_type": "markdown",
      "metadata": {
        "id": "5LTu3bISLvNY"
      },
      "source": [
        "* You can piece them together to create larger, more complex groups. One way is the direct product of groups.\n",
        "\n",
        "* For example combine two groups G1 and G2 (no matter finite or infinite, abelian or non-abelian) into a larger group via the direct product. Operation is done component-wise.\n",
        "\n",
        "* If any Group is non abelian, then the direct product will be non abelian as well.\n",
        "\n",
        "* **The direct product is a useful tool for breaking some groups into simpler groups (not all!).** This is because there are many groups which are NOT direct products of simpler groups. But there are other tools for deconstructing groups."
      ]
    },
    {
      "cell_type": "markdown",
      "metadata": {
        "id": "Olpm27wcOUH_"
      },
      "source": [
        "https://www.youtube.com/watch?v=rXLz8TdckWo&list=PLi01XoE8jYoi3SgnnGorR_XOW3IcK-TP6&index=21"
      ]
    },
    {
      "cell_type": "markdown",
      "metadata": {
        "id": "QQSRFOXm2QgM"
      },
      "source": [
        "##### <font color=\"blue\">**Finite Groups**"
      ]
    },
    {
      "cell_type": "markdown",
      "metadata": {
        "id": "kQMqvjVP2dnP"
      },
      "source": [
        "* Eine Gruppe ($G$,*) heißt [endliche Gruppe](https://de.m.wikipedia.org/wiki/Endliche_Gruppe), wenn $G$ eine endliche Menge ist, also eine endliche Anzahl von Elementen hat.\n",
        "\n",
        "* Die Annahme der Endlichkeit ermöglicht ein vereinfachtes Axiomensystem"
      ]
    },
    {
      "cell_type": "markdown",
      "metadata": {
        "id": "IX5DziJq3l5S"
      },
      "source": [
        "Ein Paar $(G, *)$ mit einer endlichen Menge $G$ und einer inneren zweistelligen Verknüpfung $*: G \\times G \\rightarrow G$ heißt Gruppe, wenn folgende Axiome erfüllt sind:\n",
        "\n",
        "* Assoziativität: Für alle Gruppenelemente $a, b, c$ gilt $(a * b) * c=a *(b * c)$,\n",
        "\n",
        "* [Kürzungsregel](https://de.m.wikipedia.org/wiki/Kürzbarkeit): Aus $a * x=a * x^{\\prime}$ oder $x * a=x^{\\prime} * a$ folgt $x=x^{\\prime}$\n",
        "\n",
        "Aus der Kürzungsregel folgt, dass die Links- und Rechtsmultiplikationen $x \\mapsto a * x$ und $x \\mapsto x * a$\n",
        "injektiv sind, woraus wegen der Endlichkeit auch die Surjektivität folgt. Daher gibt es ein $x$ mit\n",
        "$a * x=a,$ was zur Existenz des neutralen Elementes $e$ führt, und dann ein $x$ mit $a * x=e$, was\n",
        "die Existenz der inversen Elemente zeigt."
      ]
    },
    {
      "cell_type": "markdown",
      "metadata": {
        "id": "37qnbx7d0X_q"
      },
      "source": [
        "##### <font color=\"blue\">**Finite Simple Groups**"
      ]
    },
    {
      "cell_type": "markdown",
      "metadata": {
        "id": "EhN_XWVc0s5p"
      },
      "source": [
        "* [Endliche einfache Gruppen](https://de.m.wikipedia.org/wiki/Endliche_einfache_Gruppe) gelten in der Gruppentheorie als die Bausteine der [endlichen Gruppen](https://de.m.wikipedia.org/wiki/Endliche_Gruppe).\n",
        "\n",
        "* Die endlichen einfachen Gruppen spielen für die endlichen Gruppen eine ähnliche Rolle wie die Primzahlen für die natürlichen Zahlen: Jede endliche Gruppe lässt sich in ihre einfachen Gruppen „zerteilen“ (für die Art der Eindeutigkeit siehe den Satz von Jordan-Hölder). \n",
        "\n",
        "* Die Rekonstruktion einer endlichen Gruppe aus diesen ihren „Faktoren“ ist aber nicht eindeutig. \n",
        "\n",
        "* Es gibt jedoch keine „noch einfacheren Gruppen“, aus denen sich die endlichen einfachen Gruppen konstruieren lassen.\n",
        "\n",
        "Obwohl die endlichen einfachen Gruppen seit 1982 als vollständig klassifiziert galten, schlossen Mathematiker um Aschbacher die Klassifikation erst im Jahre 2002 mit einem 1200 Seiten langen Beweis ab:\n",
        "\n",
        "* Fast alle dieser Gruppen lassen sich einer von 18 Familien endlicher einfacher Gruppen zuordnen.\n",
        "\n",
        "* Es existieren 26 Ausnahmen. Diese Gruppen werden als **sporadische Gruppen** bezeichnet (Zu den sporadischen Gruppen zählen die Conway-Gruppe, das Babymonster und die **Monstergruppe** (mit fast 1054 Elementen die größte sporadische Gruppe)."
      ]
    },
    {
      "cell_type": "markdown",
      "metadata": {
        "id": "bgW5cUZIWtGI"
      },
      "source": [
        "[2004: Classification of Quasithin group](https://en.wikipedia.org/wiki/Quasithin_group)"
      ]
    },
    {
      "cell_type": "markdown",
      "metadata": {
        "id": "F4yhi0WWnwnf"
      },
      "source": [
        "**Klassifikation der endlichen einfachen Gruppe**"
      ]
    },
    {
      "cell_type": "markdown",
      "metadata": {
        "id": "OHAET4UPn4W1"
      },
      "source": [
        "Die endlichen einfachen Gruppen [lassen sich einteilen in](https://de.m.wikipedia.org/wiki/Endliche_einfache_Gruppe#Klassifikation) bzw [Classification of finite simple groups](https://en.m.wikipedia.org/wiki/Classification_of_finite_simple_groups), Every finite simple group is isomorphic to one of the following groups:\n",
        "\n",
        "* a member of one of three infinite classes of such, namely:\n",
        "\n",
        "  * (1) [zyklische Gruppen](https://de.m.wikipedia.org/wiki/Zyklische_Gruppe) von Primzahlordnung,\n",
        "\n",
        "  * (1) [alternierende Gruppen](https://de.m.wikipedia.org/wiki/Alternierende_Gruppe) $A_{n}$ mit $n>4$,\n",
        "\n",
        "  * (16) [Gruppen vom Lie-Typ](https://de.m.wikipedia.org/wiki/Gruppe_vom_Lie-Typ) über einem [endlichen Körper](https://de.m.wikipedia.org/wiki/Endlicher_Körper) (16 jeweils unendliche Familien),\n",
        "\n",
        "* (26) one of 26 groups called the \"sporadic groups\" / [26 sporadische Gruppen](https://de.m.wikipedia.org/wiki/Sporadische_Gruppe).\n",
        "\n",
        "* (1) the [Tits group](https://en.m.wikipedia.org/wiki/Tits_group) (which is sometimes considered a 27th sporadic group)"
      ]
    },
    {
      "cell_type": "markdown",
      "metadata": {
        "id": "lk3AEOE_qVfO"
      },
      "source": [
        "##### <font color=\"blue\">**Kleine Gruppen (List of small groups)**"
      ]
    },
    {
      "cell_type": "markdown",
      "metadata": {
        "id": "NHEfqjlKqcYl"
      },
      "source": [
        "* The [List of small groups](https://en.wikipedia.org/wiki/List_of_small_groups) contains finite groups of small [order](https://en.wikipedia.org/wiki/Order_(group_theory)) [up to](https://en.wikipedia.org/wiki/Up_to) [group isomorphism](https://en.wikipedia.org/wiki/Group_isomorphism).\n",
        "\n",
        "* Die folgende Liste enthält eine Auswahl [endlicher Gruppen kleiner Ordnung](https://de.m.wikipedia.org/wiki/Liste_kleiner_Gruppen).\n",
        "\n",
        "  * Diese Liste kann benutzt werden, um herauszufinden, zu welchen bekannten endlichen Gruppen eine Gruppe G isomorph ist. \n",
        "  \n",
        "  * Als erstes bestimmt man die Ordnung von G und vergleicht sie mit den unten aufgelisteten Gruppen gleicher Ordnung. \n",
        "  \n",
        "  * Ist bekannt, ob G abelsch (kommutativ) ist, so kann man einige Gruppen ausschließen. Anschließend vergleicht man die Ordnung einzelner Elemente von G mit den Elementen der aufgelisteten Gruppen, wodurch man G bis auf Isomorphie eindeutig bestimmen kann."
      ]
    },
    {
      "cell_type": "markdown",
      "metadata": {
        "id": "XtCoGdoRduf1"
      },
      "source": [
        "In der nachfolgenden Liste werden folgende Bezeichnungen verwendet:\n",
        "\n",
        "- $\\mathbb{Z}_{n}$ ist die zyklische Gruppe der Ordnung $n$ (die auch als $C_{n}$ oder $\\mathbb{Z} / n \\mathbb{Z}$ geschrieben wird).\n",
        "\n",
        "- $D_{n}$ ist die Diedergruppe der Ordnung $2 n$.\n",
        "\n",
        "- $S_{n}$ ist die symmetrische Gruppe vom Grad $n$, mit $n !$ Permutationen von $n$ Elementen.\n",
        "\n",
        "- $A_{n}$ ist die alternierende Gruppe vom Grad $n$, mit $n ! / 2$ Permutationen von $n$ Elementen für $n \\geq 2$.\n",
        "\n",
        "- Dic $_{n}$ ist die dizyklische Gruppe der Ordnung $4 n$.\n",
        "\n",
        "- $V_{4}$ ist die Klein'sche Vierergruppe der Ordnung $4 .$\n",
        "\n",
        "- $Q_{4 n}$ ist die Quaternionengruppe der Ordnung $4 n$ fur $n \\geq 2$.\n",
        "\n",
        "[Liste aller Gruppen bis Ordnung 20](https://de.m.wikipedia.org/wiki/Liste_kleiner_Gruppen#Liste_aller_Gruppen_bis_Ordnung_20)"
      ]
    },
    {
      "cell_type": "markdown",
      "metadata": {
        "id": "3K0iKodmxtTl"
      },
      "source": [
        "##### <font color=\"blue\">**Sporadische Gruppe**"
      ]
    },
    {
      "cell_type": "markdown",
      "metadata": {
        "id": "CvSWtLptj9mh"
      },
      "source": [
        "**Sporadische Gruppe**"
      ]
    },
    {
      "cell_type": "markdown",
      "metadata": {
        "id": "9qg1GeNmkJOV"
      },
      "source": [
        "Die [sporadischen Gruppen](https://de.m.wikipedia.org/wiki/Sporadische_Gruppe) sind 26 spezielle Gruppen in der Gruppentheorie. Es handelt sich um die [endlichen einfachen Gruppen](https://de.m.wikipedia.org/wiki/Endliche_einfache_Gruppe), die sich nicht in eine der [(18) systematischen Familien mit unendlich vielen Mitgliedern](https://de.m.wikipedia.org/wiki/Endliche_einfache_Gruppe#Familien_endlicher_einfacher_Gruppen) (von endlichen einfachen Gruppen) einordnen lassen."
      ]
    },
    {
      "cell_type": "markdown",
      "metadata": {
        "id": "Y24vIanNkC8l"
      },
      "source": [
        "**Baby-Monstergruppe**"
      ]
    },
    {
      "cell_type": "markdown",
      "metadata": {
        "id": "W6FzJy-fkFcR"
      },
      "source": [
        "https://de.m.wikipedia.org/wiki/Baby-Monstergruppe"
      ]
    },
    {
      "cell_type": "markdown",
      "metadata": {
        "id": "CWoNyFDIkGby"
      },
      "source": [
        "**Monstergruppe**"
      ]
    },
    {
      "cell_type": "markdown",
      "metadata": {
        "id": "GNAgG_goe1bL"
      },
      "source": [
        "https://de.m.wikipedia.org/wiki/Monstergruppe"
      ]
    },
    {
      "cell_type": "markdown",
      "metadata": {
        "id": "flSwiuvZxvYs"
      },
      "source": [
        "https://www.quantamagazine.org/mathematicians-chase-moonshine-string-theory-connections-20150312/"
      ]
    },
    {
      "cell_type": "markdown",
      "metadata": {
        "id": "yUpj7bMGBXEd"
      },
      "source": [
        "#### **Symmetrische Gruppen**"
      ]
    },
    {
      "cell_type": "markdown",
      "metadata": {
        "id": "SgHgS037zK0x"
      },
      "source": [
        "##### <font color=\"blue\">**Symmetrische Gruppen $S_{n}$**"
      ]
    },
    {
      "cell_type": "markdown",
      "metadata": {
        "id": "1QtRXipnWyQL"
      },
      "source": [
        "https://www.youtube.com/watch?v=3aNeCWRjh8I&list=PLi01XoE8jYoi3SgnnGorR_XOW3IcK-TP6&index=16"
      ]
    },
    {
      "cell_type": "markdown",
      "metadata": {
        "id": "7HjrxKrmoHW7"
      },
      "source": [
        "* Die Symmetrische Gruppe besteht aus allen Permutationen einer n-elementigen Menge, heißt also hier **muss es kein Objekt aus der Geometrie sein!**\n",
        "\n",
        "* Symmetrische gruppen haben ordnung n! für ein n, und **permutationsgruppen sind untergruppen davon**"
      ]
    },
    {
      "cell_type": "markdown",
      "metadata": {
        "id": "ebzW--29T-16"
      },
      "source": [
        "1. S3 = Group of Permutations on a set with 3 elements like {1, 2, 3} = 1,2,3 and 2,3,1, and 3,1,2 etc.\n",
        "\n",
        "2. S3 has n! = 3! = 9 elements. A symmetric group is a finite group with n factorial elements\n",
        "\n",
        "3. The order of Sn is n factorial |Sn| = n!\n",
        "\n",
        "Every finite group is a subgroup of a symmetric group ! ([Cayley's theorem](https://en.wikipedia.org/wiki/Cayley%27s_theorem))"
      ]
    },
    {
      "cell_type": "markdown",
      "metadata": {
        "id": "l8VdbmRNXMD6"
      },
      "source": [
        "* How to combine 2 permutations? A permutation acts like a function, like 1, 2, 3 replaced with 2,3,1. \n",
        "* It's a bijection from the set f{1,2,3} $\\,\\to\\,$ {1,2,3} with\n",
        "  * f(1) = 2\n",
        "  * f(2) = 3\n",
        "  * f(3) = 1\n",
        "* Treating group as function allows to define group operation. for example multiplication and s3 is just function composition\n",
        "* **except for S1 and S2, all symmetric groups are non abelian, means they are not commutative**. This means if you multiply two permutations of a symmetric group in a reverse order, you get the reversed result, not the same."
      ]
    },
    {
      "cell_type": "markdown",
      "metadata": {
        "id": "Mn1H88XYX7Rk"
      },
      "source": [
        "Symmetry Groups of Triangles\n",
        "\n",
        "* We introduce the connection between geometric figures and abstract algebra by showing how you can associate a group with triangles.  \n",
        "* **The more symmetric the triangle, the larger the group.** \n",
        "* We illustrate this by finding the group of symmetries for equilateral, isosceles and scalene triangles.\n",
        "* for example take a trianle, do nothing (identity element) and do a couple of transformations (rotate, flip etc)\n",
        "  * **6 group elements**: identity e, r for rotate once, r<sup>2</sup> for rotate twice, f for flip, rf for rotate and flip, r<sup>2</sup>f rotate twice and flip.\n",
        "  * rotate three times gives same position, so it's identity element r<sup>3</sup> = e bzw. |r| = 3\n",
        "  * And flipping twice is also an identity f<sup>2</sup> = e bzw. |f| = 2\n",
        "  * rotate twice clockwise a triangle gives the same result as roatte once counterclockwise r<sup>-1</sup> = r<sup>2</sup>\n",
        "* Nimmt man hingegen kein gleichseitiges Dreieck, sondern Dreiecke, die gestreckt sind, ergeben sich weniger Moglichkeiten der Rotation und Flipping, so dass man das Dreieck wieder in die gleiche Form versetzen kann. Im aeussersten Fall nur noch das Identity Element.\n",
        "* Daher: The more symmetric the triangle, the larger the group. "
      ]
    },
    {
      "cell_type": "markdown",
      "metadata": {
        "id": "bBmqBQAUzOfk"
      },
      "source": [
        "https://de.m.wikipedia.org/wiki/Symmetrische_Gruppe"
      ]
    },
    {
      "cell_type": "markdown",
      "metadata": {
        "id": "a0VNbaA6iomm"
      },
      "source": [
        "##### <font color=\"blue\">**Permutationsgruppe**"
      ]
    },
    {
      "cell_type": "markdown",
      "metadata": {
        "id": "IAIvwL8kisSj"
      },
      "source": [
        "* Permutations on n objects for a group: the **symmetric group** (https://youtu.be/MpKG6FmcIHk)\n",
        "\n",
        "* In der Gruppentheorie nennt man eine Gruppe von Permutationen einer endlichen Menge $M$ mit der Hintereinanderausführung als Gruppenverknüpfung [Permutationsgruppe](https://de.wikipedia.org/wiki/Permutationsgruppe). Die Gruppe aller Permutationen von $M$ nennt man ihre symmetrische Gruppe $S(M)$. \n",
        "\n",
        "* **Die Permutationsgruppen sind in diesem Sinne genau die Untergruppen der symmetrischen Gruppen**.\n",
        "\n",
        "* Nach dem [Satz von Cayley](https://de.wikipedia.org/wiki/Satz_von_Cayley) ist jede endliche Gruppe zu einer Untergruppe der symmetrischen Gruppe, also zu einer Permutationsgruppe isomorph. Insofern „ist“ jede endliche Gruppe eine Permutationsgruppe. "
      ]
    },
    {
      "cell_type": "markdown",
      "metadata": {
        "id": "MZLd_VjqNxOD"
      },
      "source": [
        "Sei $(G, \\cdot)$ eine Gruppe mit dem neutralen Element $e . G$ operiert genau dann als Permutationsgruppe auf $M$, wenn gilt:\n",
        "\n",
        "1. $M$ ist eine endliche Menge.\n",
        "\n",
        "2. $G$ operiert auf $M$, das bedeutet, dass eine Abbildung $G \\times M \\rightarrow M,(g, m) \\mapsto g \\circ m \\in M$ existiert, die den Regeln\n",
        "$e \\circ m=m,(g \\cdot h) \\circ m=g \\circ(h \\circ m)$ für alle $m \\in M ; g, h \\in G$\n",
        "gehorcht.\n",
        "\n",
        "3. Die Operation o ist treu (engl.: faithful, das heißt, es gilt: Ist $g \\circ m=h \\circ m$ für alle $m \\in M$, dann folgt $g=h$. Oder es gilt gleichwertig: $g \\circ m=m$ für alle $m \\in M$, dann folgt $g=e$."
      ]
    },
    {
      "cell_type": "markdown",
      "metadata": {
        "id": "JpaiUPeYP9jl"
      },
      "source": [
        "Eine Gruppenoperation, die nur die 2 . und 3. Bedingung erfüllt, heißt treu. $G$ operiert also genau dann als Permutationsgruppe auf $M$, wenn die Operation treu und $M$ endlich ist. Eine Gruppenoperation, die nur die $1 .$ und $2 .$ Bedingung erfüllt, wird als Permutationsdarstellung (engl.: permutation representation) von $G$ bezeichnet. $G$ operiert also genau dann als Permutationsgruppe auf $M$, wenn die Gruppenoperation eine treue\n",
        "Permutationsdarstellung ist."
      ]
    },
    {
      "cell_type": "markdown",
      "metadata": {
        "id": "WRBanKz0yHbj"
      },
      "source": [
        "**Cycle notation and cycle decomposition of permutations**"
      ]
    },
    {
      "cell_type": "markdown",
      "metadata": {
        "id": "Q8iIp2gT4tPM"
      },
      "source": [
        "https://youtu.be/MpKG6FmcIHk"
      ]
    },
    {
      "cell_type": "markdown",
      "metadata": {
        "id": "yBC9QFEHypfO"
      },
      "source": [
        "$\n",
        "\\left(\\begin{array}{lllll}\n",
        "1 & 2 & 3 & 4 & 5 \\\\\n",
        "3 & 5 & 4 & 1 & 2\n",
        "\\end{array}\\right)=\n",
        "$\n",
        "\n",
        "$\\left(\\begin{array}{lll}\n",
        "1 & 3 & 4\n",
        "\\end{array}\\right)\\left(\\begin{array}{ll}\n",
        "2 & 5\n",
        "\\end{array}\\right)$"
      ]
    },
    {
      "cell_type": "markdown",
      "metadata": {
        "id": "zpgskyMezIVe"
      },
      "source": [
        "* The permutation (3 5 4 1 2) **(and any other permutation) can be written as a product of two cycle. This is called a \"cycle decomposition\"**\n",
        "\n",
        "* first part is called a  \"3 cycle\"\n",
        "\n",
        "* the second part is a \"2 cycle\", also called \" Transposition\"\n",
        "\n",
        "* Shortcuts: one-cycles can be left out (i.e. when 5 maps to 5), and the initial input row is also be left out)\n",
        "\n",
        "* You don't need to start with 1, you can also start with any other number. You will get different results depending on the number you start with, but they are all the same and you typically start with the smallest number.\n",
        "\n",
        "* Also the order of the cycles doesn't matter (**Cycles with no numbers in common commute with each other**)\n",
        "\n",
        "  * (1 3 4) (2 5)\n",
        "\n",
        "  * (2 5) (1 3 4)\n",
        "\n",
        "* Thta is NOT the case if you multiply 2 different permutations together, because then a given number may appear twice in the resulting permutations. Thn the order is important."
      ]
    },
    {
      "cell_type": "markdown",
      "metadata": {
        "id": "h6WvyZ3V4gf_"
      },
      "source": [
        "Example for a multiplication with 2 different permutations:"
      ]
    },
    {
      "cell_type": "markdown",
      "metadata": {
        "id": "_sI4RIwa3fLT"
      },
      "source": [
        "$\n",
        "\\begin{array}{ll}\n",
        "a=\\left(\\begin{array}{lll}\n",
        "1 & 2 & 3 \\\\\n",
        "3 & 1 & 2\n",
        "\\end{array}\\right) & b=\\left(\\begin{array}{lll}\n",
        "1 & 2 & 3 \\\\\n",
        "3 & 2 & 1\n",
        "\\end{array}\\right) \\\\\n",
        "a=\\left(\\begin{array}{lll}\n",
        "1 & 3 & 2\n",
        "\\end{array}\\right) & b=\\left(\\begin{array}{ll}\n",
        "1 & 3\n",
        "\\end{array}\\right)\n",
        "\\end{array}\n",
        "$"
      ]
    },
    {
      "cell_type": "markdown",
      "metadata": {
        "id": "GbYHASr94eNY"
      },
      "source": [
        "$\n",
        "\\begin{aligned}\n",
        "a \\cdot b &=\\left(\\begin{array}{lll}\n",
        "1 & 3 & 2\n",
        "\\end{array}\\right)\\left(\\begin{array}{ll}\n",
        "1 & 3\n",
        "\\end{array}\\right) \\\\\n",
        "&=(1 \\quad 2)\n",
        "\\end{aligned}\n",
        "$"
      ]
    },
    {
      "cell_type": "markdown",
      "metadata": {
        "id": "CMYfvR7438ro"
      },
      "source": [
        "$\n",
        "\\begin{aligned}\n",
        "b \\cdot a &=\\left(\\begin{array}{ll}\n",
        "1 & 3\n",
        "\\end{array}\\right)\\left(\\begin{array}{lll}\n",
        "1 & 3 & 2\n",
        "\\end{array}\\right) \\\\\n",
        "&=\\left(\\begin{array}{ll}\n",
        "2 & 3\n",
        "\\end{array}\\right)\n",
        "\\end{aligned}\n",
        "$"
      ]
    },
    {
      "cell_type": "markdown",
      "metadata": {
        "id": "CgJCe8ZM39Q5"
      },
      "source": [
        "$\n",
        "a \\cdot b \\neq b \\cdot a\n",
        "$"
      ]
    },
    {
      "cell_type": "markdown",
      "metadata": {
        "id": "LJw8mSm3Esft"
      },
      "source": [
        "##### <font color=\"blue\">**Symmetrische Gruppe $S_{3}$ (Dihedral group of order 6 / degree 3)**"
      ]
    },
    {
      "cell_type": "markdown",
      "metadata": {
        "id": "YGRc2jsu7zFm"
      },
      "source": [
        "* Die [symmetrische Gruppe $S_{3}$](https://de.m.wikipedia.org/wiki/S3_(Gruppe)) bezeichnet im mathematischen Teilgebiet der Gruppentheorie eine bestimmte Gruppe mit 6 Elementen. Sie lässt sich beschreiben als\n",
        "Gruppe der sechs Permutationen einer dreielementigen Menge. \n",
        "\n",
        "* Alternative Bezeichnungen sind $S_{3}$ und $\\mathrm{Sym}_{3}$. Sie ist isomorph mit der Diedergruppe $D_{3}$, der Gruppe der Kongruenzabbildungen des gleichseitigen Dreiecks auf sich. Verallgemeinert man diese Konstruktion, indem man das gleichseitige Dreieck durch ein\n",
        "regelmäßiges $n$ -Eck ersetzt, so kommt man zum Begriff der Diedergruppe. Daher wird die hier besprochene Gruppe $S_{3}$ auch mit $D_{3}$ bezeichnet."
      ]
    },
    {
      "cell_type": "markdown",
      "metadata": {
        "id": "64RtihgJ8VQc"
      },
      "source": [
        "Betrachtet man die Kongruenzabbildungen, die ein gleichseitiges Dreieck in sich selbst überführen, so findet man 6 Möglichkeiten: $^{[1]}$\n",
        "- die identische Abbildung $e_{1}$\n",
        "- die Drehung $d$ um $120^{\\circ}$ um den Mittelpunkt des Dreiecks,\n",
        "- die Drehung $d^{2}$ um $240^{\\circ}$ um den Mittelpunkt des Dreiecks,\n",
        "- die drei Spiegelungen $s_{1}, s_{2}$ und $s_{3}$ an den drei Mittelsenkrechten des Dreiecks.\n"
      ]
    },
    {
      "cell_type": "markdown",
      "metadata": {
        "id": "gsCjXVLt8dLM"
      },
      "source": [
        "![ggg](https://upload.wikimedia.org/wikipedia/commons/a/ab/S3_Dreieck.PNG)"
      ]
    },
    {
      "cell_type": "markdown",
      "metadata": {
        "id": "DCnd5Mna80IK"
      },
      "source": [
        "**Elemente der S3 als Permutationen**"
      ]
    },
    {
      "cell_type": "markdown",
      "metadata": {
        "id": "0AtE5N5O9UGV"
      },
      "source": [
        "Eine Kongruenzabbildung des gleichseitigen Dreiecks ist bereits dadurch eindeutig festgelegt, wie die mit 1,2 und 3 bezeichneten Ecken aufeinander abgebildet werden.\n",
        "Jedes Element der $S_{3}$ kann daher als Permutation der Menge $\\{1,2,3\\}$ aufgefasst werden. Im Folgenden ist zuerst die Zweizeilenform angegeben, dahinter die Zyklenschreibweise $^{[3]}$ der Elemente sowie deren Ordnungen:"
      ]
    },
    {
      "cell_type": "markdown",
      "metadata": {
        "id": "L8-GYVHE9W82"
      },
      "source": [
        "$\n",
        "\\begin{array}{l}\n",
        "e=\\left(\\begin{array}{lll}\n",
        "1 & 2 & 3 \\\\\n",
        "1 & 2 & 3\n",
        "\\end{array}\\right)=(1) \\quad \\operatorname{ord}(e)=1 \\\\\n",
        "d=\\left(\\begin{array}{lll}\n",
        "1 & 2 & 3 \\\\\n",
        "2 & 3 & 1\n",
        "\\end{array}\\right)=(123) \\quad & \\operatorname{ord}(d)=3 \\\\\n",
        "d^{2}=\\left(\\begin{array}{lll}\n",
        "1 & 2 & 3 \\\\\n",
        "3 & 1 & 2\n",
        "\\end{array}\\right)=\\left(\\begin{array}{ll}\n",
        "1 & 3 & 2\n",
        "\\end{array}\\right) & \\text { ord }\\left(d^{2}\\right)=3\n",
        "\\end{array}\n",
        "$"
      ]
    },
    {
      "cell_type": "markdown",
      "metadata": {
        "id": "xxDv3giC9YPS"
      },
      "source": [
        "$\n",
        "\\begin{array}{l}\n",
        "s_{1}=\\left(\\begin{array}{lll}\n",
        "1 & 2 & 3 \\\\\n",
        "1 & 3 & 2\n",
        "\\end{array}\\right)=(23) \\quad \\text { ord }\\left(s_{1}\\right)=2\\\\\n",
        "s_{2}=\\left(\\begin{array}{lll}\n",
        "1 & 2 & 3 \\\\\n",
        "3 & 2 & 1\n",
        "\\end{array}\\right)=(13) \\quad \\text { ord }\\left(s_{2}\\right)=2\\\\\n",
        "s_{3}=\\left(\\begin{array}{lll}\n",
        "1 & 2 & 3 \\\\\n",
        "2 & 1 & 3\n",
        "\\end{array}\\right)=(12) \\quad \\text { ord }\\left(s_{3}\\right)=2\n",
        "\\end{array}\n",
        "$"
      ]
    },
    {
      "cell_type": "markdown",
      "metadata": {
        "id": "tSc2sBCXjgUq"
      },
      "source": [
        "##### <font color=\"blue\">**Alternierende Gruppe $A_{n}$**"
      ]
    },
    {
      "cell_type": "markdown",
      "metadata": {
        "id": "2JCkRCpiiSv2"
      },
      "source": [
        "* Die [alternierende Gruppe](https://de.m.wikipedia.org/wiki/Alternierende_Gruppe) vom Grad $n$ besteht **aus allen geraden Permutationen einer $n$ elementigen Menge**. \n",
        "\n",
        "* Die Verknüpfung der Gruppe ist die Verkettung (Hintereinanderausführung) der Permutationen. Meist wird einfach von der alternierenden Gruppe $A_{n}$ gesprochen.\n",
        "\n",
        "* **Die alternierenden Gruppen sind Untergruppen der entsprechenden symmetrischen Gruppen $S_{n}$.**\n",
        "\n",
        "* Eine besondere Bedeutung kommt der alternierenden Gruppe $A_{5}$ zu. Dass sie der einzige nicht-triviale Normalteiler von $S_{5}$ ist, ist ein wichtiger Bestandteil des Beweises des Satzes von Abel-Ruffini. Dieser Satz aus dem beginnenden 19. Jahrhundert besagt, dass Polynomgleichungen fünften oder höheren Grades nicht durch Wurzelausdrücke lösbar sind.\n",
        "\n",
        "https://www.youtube.com/watch?v=tAZPjWYWkYA\n",
        "\n",
        "* wie viele Fehlstaende hat eine Permutation? Das Signum der Permutation, ist -1 oder 1"
      ]
    },
    {
      "cell_type": "markdown",
      "metadata": {
        "id": "aoOaQO5oEfN6"
      },
      "source": [
        "**Die Signumfunktion von Permutationen bildet die Permutationen der symmetrischen Gruppe $\\mathbf{S}_{\\mathbf{n}}$ in die multiplikative Gruppe $(\\{-1,+1\\}, \\cdot)$ ab.**\n",
        "\n",
        "* Nach Satz $5325 \\mathrm{~F}$ ist sie ein Gruppenhomomorphismus. Nach Satz $5213 \\mathrm{C}$ ist der Kern dieses Homomorphismus ein Normalteiler von $\\mathbf{S}_{\\mathbf{n}}$. \n",
        "\n",
        "* **Diese Untergruppe heißt alternierende Gruppe und wird mit $\\mathbf{A}_{\\mathbf{n}}$ bezeichnet.**\n",
        "\n",
        "* Es gilt ord $\\left(\\mathbf{A}_{\\mathbf{n}}\\right)=\\operatorname{ord} \\mathbf{S}_{\\mathbf{n}} / 2$\n",
        "\n",
        "* Die [alternierende Gruppe](https://mathepedia.de/Alternierende_Gruppe.html) besteht genau aus allen geraden Permutationen."
      ]
    },
    {
      "cell_type": "markdown",
      "metadata": {
        "id": "zlrnrjU3CsnX"
      },
      "source": [
        "**Zyklen von Permutationen**\n",
        "\n",
        "$\\left(\\begin{array}{llll}1 & 2 & 3 & 4 \\\\ 3 & 1 & 2 & 4\\end{array}\\right)$ liefert $1 \\rightarrow 3 \\rightarrow 2 \\rightarrow 1 \\ldots$\n",
        "\n",
        "https://mathepedia.de/Zyklen.html\n",
        "\n",
        "Cycle notation with Cycle decomposition: https://www.youtube.com/watch?v=MpKG6FmcIHk\n",
        "\n",
        "Oder hier: https://www.youtube.com/watch?v=t40QqRIXLRs\n",
        "\n",
        "  1. you leave out one-cycles (when 5 matches to 5 for example)\n",
        "\n",
        "  2. 2 cycles are called transpositions\n",
        "\n",
        "  3. each of the numbers appear in only one cycle\n",
        "\n",
        "  4. you can change the order (since it's only a bunch of functions, where the numbers are not altered by the other cycles)\n",
        "\n",
        "  5. this (=3 and 4) is not the case if you multiply two different permutations"
      ]
    },
    {
      "cell_type": "markdown",
      "metadata": {
        "id": "XzgYJjwiDO7K"
      },
      "source": [
        "**Signum von Permutationen**\n",
        "\n",
        "* Das [Signum](https://mathepedia.de/Signum.html) (\n",
        "sgn) ist eine Vorzeichenfunktion für Permutationen, vergleichbar dem Vorzeichen von reellen Zahlen.\n",
        "\n",
        "* Wegen Satz 5325E können wir jede Permutation als Produkt von Transpositionen darstellen. Die Anzahl dieser Transpositionen trotz der Mehrdeutigkeit dieser Produkte für eine feste Permutation immer gerade oder ungerade. \n",
        "\n",
        "* Wir definieren das Signum einer Permutation \n",
        "π als  + 1, wenn sich  π als Produkt einer geraden Anzahl von Transpositionen darstellen lässt und −1, wenn die Anzahl der Faktoren ungerade ist.\n",
        "\n",
        "* Nach Anzahl der Faktoren heißen die Permutationen auch gerade bzw. ungerade Permutationen.\n",
        "\n",
        "* **Das [Signum](https://de.wikipedia.org/wiki/Vorzeichen_(Permutation)) ist als Abbildung ein Gruppenhomomorphismus von der symmetrischen Gruppe der Permutationen in die multiplikative Gruppe** über der Menge $\\{ +1, -1 \\}$. Ein wichtiges Einsatzbeispiel des Signums ist die Leibniz-Formel für Determinanten.\n",
        "\n"
      ]
    },
    {
      "cell_type": "markdown",
      "metadata": {
        "id": "tDAqTgdUi-qq"
      },
      "source": [
        "**1. Möglichkeit zur Ermittlung des Signum von Permutationen (Fehlstände bzw. Inversionen)**\n",
        "\n",
        "Nutzung des Permutationsgraphen - [Quelle](https://www.youtube.com/watch?v=FVHKKa_ybV0)\n",
        "\n",
        "Mit Nutzung der Formel zur Ermittlung des Signum der Permutationen (Fehlstände):\n",
        "\n",
        "> $\\operatorname{sign}(\\sigma)=(-1)^{r(\\sigma)}$\n",
        "\n",
        "Im obigen Beispiel bei 10 Fehlständen:\n",
        "\n",
        "> $\\operatorname{sign}(\\sigma)=(-1)^{10}=+1$\n",
        "\n",
        "![gg](https://raw.githubusercontent.com/deltorobarba/repo/master/permutationsgraph.png)\n",
        "\n"
      ]
    },
    {
      "cell_type": "markdown",
      "metadata": {
        "id": "igOEvqSskqTa"
      },
      "source": [
        "**2. Möglichkeit zur Ermittlung des Signum von Permutationen (Fehlstände bzw. Inversionen)**\n",
        "\n",
        "i < j bezieht sich auf obere Reihe \n",
        "\n",
        "$\\sigma(i)>\\sigma(j)$ bezieht sich auf untere Reihe\n",
        "\n",
        "Ein Fehlstand liegt vor, wenn an einer Stelle oben i < j gilt sowie gleichzeitig darunter $\\sigma(i)>\\sigma(j)$\n",
        "\n",
        "Nehmen wir ein Beispiel:\n",
        "\n",
        "$\\sigma=\\left[\\begin{array}{llllll}1 & 2 & 3 & 4 & 5 & 6 \\\\ 4 & 3 & 6 & 2 & 5 & 1\\end{array}\\right]$\n",
        "\n",
        "* Hier ist der erste Fehlstand bei (1,2), da oben 1 < 2 ist sowie unten 4 > 3 gilt. \n",
        "\n",
        "* Naechster Schritt ist <u>kein</u> Fehlstand, da oben 1 < 3, aber darunter <u>nicht</u> gilt 4 > 6.\n",
        "\n",
        "* Im Bild unten ist nachster Fehlstand (1,4) da die Formel an dieser Stelle Gueltigkeit hat:\n",
        "\n",
        "![gg](https://raw.githubusercontent.com/deltorobarba/repo/master/permutationsgraph_02.png)"
      ]
    },
    {
      "cell_type": "markdown",
      "metadata": {
        "id": "OtouCZAMmvxQ"
      },
      "source": [
        "**Permutationen als Produkt von Transpositionen darstellen**"
      ]
    },
    {
      "cell_type": "markdown",
      "metadata": {
        "id": "AjF8mKLan3Av"
      },
      "source": [
        "https://www.youtube.com/watch?v=H11SAK2apjE"
      ]
    },
    {
      "cell_type": "markdown",
      "metadata": {
        "id": "FM17bRWhi91h"
      },
      "source": [
        "https://de.wikibooks.org/wiki/Mathe_für_Nicht-Freaks:_Permutationen\n",
        "\n",
        "- Permutationen können in Transpositionen (Zweierzyklen) zerlegt werden.\n",
        "- Vorgehensweise: Permutation in Zyklen zerlegen, anschließend jeden Zyklus in Zweierzyklen zerlegen mittels der Formel $(a b c d)=(a b) \\circ(c d) \\circ(d c)$\n",
        "- Die Zerlegung in Transpositionen ist nicht eindeutig\n",
        "- Jedoch braucht man in jeder Zerlegung immer entweder gerade viele oder ungerade viele Transposition\n",
        "- Definition: Signum einer Permutation (1 = gerade Permutation, $-1$ ungerade Permutation)\n",
        "\n",
        "> Produktormel für das Signum $\\operatorname{sgn}(\\pi)=\\prod_{(x, y)} \\frac{\\pi(x)-\\pi(y)}{x-y}$ mit $1 \\leq x<y \\leq n$\n",
        "\n",
        "> anders: $\\operatorname{sgn}(\\pi)=\\prod_{1 \\leq i<j \\leq n} \\frac{\\pi(j)-\\pi(i)}{j-i}$\n",
        "\n",
        "- Analogon zur Vorzeichen bei ganzen Zahlen (negativ \" negativ ist positiv)\n",
        "- Produktregel für das Signum $\\operatorname{sgn}(\\pi \\circ \\rho)=\\operatorname{sgn}(\\pi) \\cdot \\operatorname{sgn}(\\rho)$\n",
        "- Gerade Permutationen bilden eine Untergruppe, Signum ist ein Gruppenhomomorphismus\n",
        "- Signum lässt sich anhand der Zyklenstruktur gut ablesen"
      ]
    },
    {
      "cell_type": "markdown",
      "metadata": {
        "id": "XNQsy5K0AJIp"
      },
      "source": [
        "**Gruppe $A_{4}$**\n",
        "\n",
        "https://de.m.wikipedia.org/wiki/A4_(Gruppe)\n",
        "\n",
        "Geometrisch entsteht die $A_{4}$ als Gruppe der Drehungen des regelmäßigen Tetraeders auf sich."
      ]
    },
    {
      "cell_type": "markdown",
      "metadata": {
        "id": "8NRzFBixAG4u"
      },
      "source": [
        "**Gruppe $A_{5}$**\n",
        "\n",
        "https://de.m.wikipedia.org/wiki/A5_(Gruppe)\n",
        "\n",
        "Sie findet eine geometrische Realisierung als Gruppe der Rotationen des Ikosaeders."
      ]
    },
    {
      "cell_type": "markdown",
      "metadata": {
        "id": "TsjdHk_BB_39"
      },
      "source": [
        "#### **Symmetriegruppen**"
      ]
    },
    {
      "cell_type": "markdown",
      "metadata": {
        "id": "sO3gFnsGoDHp"
      },
      "source": [
        "##### <font color=\"blue\">**Symmetriegruppe $Sym_{n}$**"
      ]
    },
    {
      "cell_type": "markdown",
      "metadata": {
        "id": "s71OBHDLn_lM"
      },
      "source": [
        "**Unterschied: Symmetriegruppen, Symmetrische Gruppen & Permutationsgruppen**\n",
        "\n",
        "* Not to be confused with Symmetric group: https://en.m.wikipedia.org/wiki/Symmetric_group\n",
        "\n",
        "* Zum Beispiel ist die Symmetriegruppe des Quadrates die D4 mit 8 Elementen, welche eine Permutationsgruppe ist, doch keine Symmetrische Gruppe.\n",
        "\n",
        "* Eine Symmetriegruppe ist eine Permutionsgruppe, nämlich eine Untergruppe der Symmetrischen Gruppe (aller Permutationen).\n",
        "\n",
        "* eine Symmetriegruppe besteht aus allen Kongruenzabbildungen, die ein Objekt wieder auf sich selbst abbilden. Das heißt also, **dass es hier immer um geometrische Objekte geht**.\n",
        "\n",
        "* **Die Symmetrische Gruppe besteht aus allen Permutationen einer n-elementigen Menge, heißt also hier muss es kein Objekt aus der Geometrie sein!**\n",
        "\n",
        "* symmetrische gruppen haben ordnung n! für ein n, und permutationsgruppen sind untergruppen davon (nicht notwendig diese ordnung, insbesondere nicht als symmetrische gruppe realisierbar)."
      ]
    },
    {
      "cell_type": "markdown",
      "metadata": {
        "id": "lxa1KsVJkkgc"
      },
      "source": [
        "**Eigenschaften von Symmetriegruppen**\n",
        "\n",
        "* Idee der Invarianz eines Gebildes gegenüber einer Gruppe automorpher Transformationen\n",
        "\n",
        "* In der mathematischen Gruppentheorie ist die [Symmetriegruppe](https://en.m.wikipedia.org/wiki/Symmetry_group) eines geometrischen Objektes die Gruppe, die aus der **Menge aller [Kongruenzabbildungen](https://de.wikipedia.org/wiki/Kongruenzabbildung) besteht, die das Objekt auf sich selbst abbilden**, zusammen mit der Verkettung von Abbildungen als Gruppenoperation.\n",
        "\n",
        "* Beispiel: Ein **Kreis oder ein Kreisring** sind rotationssymmetrisch im engeren Sinne. Eine Drehung um jeden beliebigen Winkel bildet sie auf sich selbst ab.\n",
        "\n",
        "* [Reguläre (regelmäßige) **Polygone**](https://de.wikipedia.org/wiki/Regelmäßiges_Polygon) sind typische rotationssymmetrische Figuren. Die Symmetriegruppe eines regelmäßigen n-Ecks ist die [Diedergruppe \n",
        "$D_{n}$](https://de.wikipedia.org/wiki/Diedergruppe) (Dihedral Group), bestehend aus genau n Drehungen und n Spiegelungen. Die Diedergruppe weist die Ordnung $2n$ auf und besteht aus\n",
        "\n",
        "  * n Rotationen der [zyklischen Gruppe $C_{n}$](https://de.wikipedia.org/wiki/Zyklische_Gruppe) und n Spiegelungen an den Symmetrieachsen durch den Mittelpunkt des Polygons.\n",
        "\n",
        "  * Ist n gerade, dann verläuft die eine Hälfte der Symmetrieachsen durch zwei gegenüberliegende Ecken und die andere Hälfte durch zwei Mittelpunkte gegenüberliegender Seiten. \n",
        "  \n",
        "  * Ist n ungerade, dann verlaufen alle Symmetrieachsen durch eine Ecke und den Mittelpunkt der gegenüberliegenden Seite.\n",
        "Jedes regelmäßige Polygon mit gerader Eckenzahl ist auch [punktsymmetrisch](https://de.wikipedia.org/wiki/Punktsymmetrie) bezüglich seines Mittelpunkts (Eine Figur ist punktsymmetrisch, wenn sie durch die Spiegelung an einem Symmetriepunkt auf sich selbst abgebildet wird.).\n",
        "\n",
        "* Ein **homogenes Tetraeder** ist invariant gegenüber 12 verschiedenen Rotationen. Diese werden hier als [Zykel-Graph](https://de.wikipedia.org/wiki/Zykel-Graph) zusammen mit den Rotationen um die 180°-Kante (blaue Pfeile) und der 120°-Scheitelpunkte (rötliche Pfeile) dargestellt. Die 12 Umdrehungen bilden die Rotationsgruppe (Symmetriegruppe) der Figur. Die Einfärbung der Flächen dient dabei lediglich der Veranschaulichung der Symmetrieoperationen, denn ein Tetraeder, dessen Seitenflächen so wie in der Grafik eingefärbt sind, besitzt keine Symmetrien."
      ]
    },
    {
      "cell_type": "markdown",
      "metadata": {
        "id": "9_W_pVa5DrWd"
      },
      "source": [
        "![hh](https://upload.wikimedia.org/wikipedia/commons/9/98/Tetrahedral_group_2.svg)"
      ]
    },
    {
      "cell_type": "markdown",
      "metadata": {
        "id": "LCu15dk4Eavr"
      },
      "source": [
        "*Eigenschaften*\n",
        "\n",
        "* **Diskretheit**: Eine Symmetriegruppe weist dann eine **diskrete Topologie** auf, wenn es so etwas wie „kleinste Schritte“ gibt. Praktisch gesehen ist eine Symmetriegruppe genau dann diskret, wenn es eine **untere Schranke** gibt, sowohl für die Längen aller (von Null verschiedenen) Verschiebungen als auch für die Drehwinkel aller Drehsymmetrien.\n",
        "\n",
        "* **Periodizität**: \n",
        "\n",
        "  * Man betrachtet die Menge aller in der Gruppe enthaltenen (von Null verschiedenen) Verschiebungen (Translationen) und bestimmt, wie viele dieser Vektoren linear unabhängig voneinander sind, man bestimmt also die Dimension der [linearen Hülle](https://de.wikipedia.org/wiki/Lineare_Hülle) dieser Verschiebungsvektoren.\n",
        "\n",
        "  * Enthält die Gruppe überhaupt keine Verschiebungen, so gibt es mindestens einen Punkt, der Fixpunkt aller Abbildungen ist. Man spricht in diesem Fall von einer **Punktgruppe**. Punktgruppen sind genau dann endlich, wenn sie diskret sind.\n",
        "Sobald die Gruppe mindestens eine Verschiebung enthält, enthält sie zumindest in euklidischer Geometrie automatisch unendlich viele Elemente.\n",
        "\n",
        "  * Entspricht die Zahl der linear unabhängigen Verschiebungsvektoren der Dimension des Raumes, in den das Objekt eingebettet ist, so gibt es einen beschränkten Teil des Objekts (eine Zelle), deren Bilder den gesamten Raum ausfüllen. Ist die Gruppe zusätzlich auch noch diskret, so spricht man von einer **Raumgruppe** und nennt das Muster periodisch. In diesem Fall gibt es einen beschränkten Fundamentalbereich von gleicher Dimension wie der Raum, also beispielsweise in der Ebene eine entsprechende von Null verschiedene Fläche."
      ]
    },
    {
      "cell_type": "markdown",
      "metadata": {
        "id": "Hn1gVS0AF4ls"
      },
      "source": [
        "*Klassifikation in der zweidimensionalen euklidischen Geometrie*"
      ]
    },
    {
      "cell_type": "markdown",
      "metadata": {
        "id": "CUw8lZPtHOFE"
      },
      "source": [
        "Die Symmetriegruppen in der euklidischen Ebene lassen sich wie folgt klassifizieren:\n",
        "\n",
        "**Diskret**\n",
        "\n",
        "* **Ohne Verschiebungen**\n",
        "\n",
        "  * **Ohne Achsenspiegelungen**: Familie der endlichen [zyklischen Gruppen](https://de.wikipedia.org/wiki/Zyklische_Gruppe) $C_{n}$ (für $n=1,2,\\ldots$), das sind alle Drehungen um einen Punkt um Vielfache von $\\tfrac{360^\\circ}{n}$\n",
        "\n",
        "    * $C_{1}$: Symmetriegruppe eines komplett unsymmetrischen Objektes, mit der Identität als einzigem Element\n",
        "\n",
        "    * $C_{2}$: Symmetriegruppe einer Punktspiegelung\n",
        "\n",
        "    * $C_{3}$: Symmetriegruppe einer Triskele\n",
        "\n",
        "    * $C_{4}$: Symmetriegruppe einer Swastika\n",
        "\n",
        "  * **Mit Achsenspiegelungen**: Familie der [Diedergruppen](https://de.wikipedia.org/wiki/Diedergruppe) $D_{n}$ (für $n=1,2,\\ldots$), das sind Drehungen wie $C_{n}$ zusammen mit \n",
        "n\n",
        "n Spiegelachsen durch den Mittelpunkt\n",
        "\n",
        "    * $D_{1}$: Einzelne Achsenspiegelung\n",
        "\n",
        "    * $D_{2}$: Symmetriegruppe eines nicht quadratischen Rechtecks, einer nicht quadratischen Raute (D2 ist isomorph zur Kleinschen Vierergruppe)\n",
        "\n",
        "    * $D_{n}$: Symmetriegruppe eines regelmäßigen n-Ecks\n",
        "\n",
        "* **Mit Verschiebungen**, die alle kollinear sind (Span der Translationen hat Rang 1): 7 [Friesgruppen](https://de.wikipedia.org/wiki/Friesgruppe)\n",
        "\n",
        "* **Mit mindestens zwei linear unabhängigen Verschiebungen**: [17 ebene kristallographische Gruppen](https://de.wikipedia.org/wiki/Ebene_kristallographische_Gruppe)\n",
        "\n",
        "**Nicht diskret**\n",
        "\n",
        "  * Ohne Verschiebungen: [Orthogonale Gruppe](https://de.wikipedia.org/wiki/Orthogonale_Gruppe) $O(2)$, das sind alle Symmetrien eines Kreises, also alle Drehungen und alle Spiegelungen an Achsen, die durch den Mittelpunkt gehen"
      ]
    },
    {
      "cell_type": "markdown",
      "metadata": {
        "id": "Td_9fFZ4kvXi"
      },
      "source": [
        "##### <font color=\"blue\">**Punktgruppe (Symmetriegruppe)**"
      ]
    },
    {
      "cell_type": "markdown",
      "metadata": {
        "id": "XCYIfb8FK16h"
      },
      "source": [
        "* Eine [Punktgruppe](https://de.wikipedia.org/wiki/Punktgruppe) ist ein **spezieller Typus einer Symmetriegruppe** der euklidischen Geometrie, der die Symmetrie eines endlichen Körpers beschreibt. \n",
        "\n",
        "* Alle Punktgruppen zeichnen sich dadurch aus, dass es einen Punkt gibt, der durch alle Symmetrieoperationen der Punktgruppe wieder auf sich selbst abgebildet wird.\n",
        "\n",
        "* Die Symmetrie eines Körpers wird mathematisch als Menge aller möglichen Symmetrieoperationen beschrieben (Symmetriegruppe). Mit Symmetrieoperationen sind dabei euklidische Bewegungen gemeint, die den Körper auf sich abbilden. Zu unterscheiden sind dabei gerade Bewegungen, welche die Orientierung erhalten und ungerade, welche die Orientierung umkehren, z. B. Spiegelungen an Ebenen.\n",
        "\n",
        "* Mögliche Symmetrieoperationen in Punktgruppen im dreidimensionalen, euklidischen Vektorraum sind die Symmetrieoperationen, die mindestens einen Fixpunkt besitzen: \n",
        "\n",
        "  * **Identitätsabbildung**, \n",
        "  \n",
        "  * **Punktspiegelung** an einem Inversionszentrum, \n",
        "  \n",
        "  * **Spiegelung** an einer Spiegelebene, \n",
        "  \n",
        "  * **Drehung** um eine Drehachse, \n",
        "  \n",
        "  * sowie als **Kombination daraus Drehspiegelung bzw. die gleichwertige Drehinversion**. \n",
        "\n",
        "  * Nicht: Die **Translation, die Schraubung und die Gleitspiegelung** können keine Elemente einer Punktgruppe sein, da sie keinen Fixpunkt besitzen.\n",
        "\n",
        "\n",
        "* Wenn man das Hintereinanderausführen von Symmetrieoperationen als additive Verknüpfung auffasst, erkennt man, dass eine Menge von Symmetrieoperationen eine (in der Regel nicht kommutative) Gruppe ist.\n",
        "\n",
        "\n"
      ]
    },
    {
      "cell_type": "markdown",
      "metadata": {
        "id": "XrSgYJo8QkWj"
      },
      "source": [
        "* Aufgrund des [Neumannschen Prinzips](https://de.wikipedia.org/wiki/Neumannsches_Prinzip) bestimmt die Punktgruppe die makroskopischen Eigenschaften des Körpers. Weitere Aussagen lassen sich mit Hilfe der Darstellungstheorie gewinnen.\n",
        "\n",
        "  * **Das Neumannsche Prinzip ist ein Symmetrieprinzip. Es verknüpft die Struktur eines Kristalls mit seinen physikalischen Eigenschaften.**\n",
        "\n",
        "  * Das Neumannsche Prinzip besagt, dass die Symmetrie der physikalischen Eigenschaften eines Kristalls die Symmetrieelemente der Punktgruppe des Kristalls enthalten muss.\n",
        "  \n",
        "  * Die physikalischen Eigenschaften eines Kristalls sind im Allgemeinen anisotrop. Sie hängen sowohl von der Richtung der einwirkenden Kraft, als auch von der Richtung der untersuchten Wirkung ab. Daher werden diese Eigenschaften mit Hilfe von Tensoren beschrieben. Das Neumannsche Prinzip verlangt, dass jede Symmetrieabbildung des Kristalls auch eine Symmetrieabbildung dieses Tensors sein muss. \n",
        "\n",
        "* Verwendet werden die Punktgruppen in der [Molekülphysik](https://de.wikipedia.org/wiki/Molekülphysik) und der [Kristallographie](https://de.wikipedia.org/wiki/Kristallographie), wo die 32 kristallographischen Punktgruppen auch Kristallklassen genannt werden. Bezeichnet werden die Punktgruppen in der [Schoenflies-Notation](https://de.wikipedia.org/wiki/Schoenflies-Symbolik). \n",
        "\n",
        "* In der Kristallographie wird inzwischen hauptsächlich die [Hermann-Mauguin-Symbolik](https://de.wikipedia.org/wiki/Hermann-Mauguin-Symbolik) verwendet. (Ihr Hauptanwendungsgebiet ist die Beschreibung der 32 kristallographischen Punktgruppen und der 230 kristallographischen Raumgruppen.)\n",
        "\n",
        "* Siehe auch [Kristallsystem](https://de.wikipedia.org/wiki/Kristallsystem) und Beispiele triklin, monoklin, orthorhombisch etc."
      ]
    },
    {
      "cell_type": "markdown",
      "metadata": {
        "id": "oT8tI_uOMvVD"
      },
      "source": [
        "**In den drei Raumdimensionen ergeben sich 32 mögliche kristallographische Punktgruppen**. Sie werden gemäß Schoenflies in folgende Untergruppen eingeordnet.\n",
        "\n",
        "Die diskreten Punktgruppen mit maximal einer ausgezeichneten \n",
        "n-zähligen Drehachse können zusätzlich mit Spiegelebenen und zweizähligen Drehachsen kombiniert sein. Insgesamt gibt es folgende Möglichkeiten:\n",
        "\n",
        "* [Drehgruppen](https://de.wikipedia.org/wiki/Drehgruppe): C\n",
        "\n",
        "* [Drehspiegelgruppen](https://de.wikipedia.org/wiki/Drehspiegelgruppe): S\n",
        "\n",
        "* [Diedergruppen](https://de.wikipedia.org/wiki/Diedergruppe): D\n",
        "\n",
        "Die Punktgruppen, die mindestens zwei Drehachsen mit einer Zähligkeit größer zwei besitzen, entsprechen den Symmetriegruppen der platonischen Körper.\n",
        "\n",
        "\n",
        "* [Tetraedergruppen](https://de.wikipedia.org/wiki/Tetraedergruppe): T\n",
        "\n",
        "* [Oktaedergruppen](https://de.wikipedia.org/wiki/Oktaedergruppe): O\n",
        "\n",
        "* [Ikosaedergruppen](https://de.wikipedia.org/wiki/Ikosaedergruppe): I\n",
        "\n",
        "Die kontinuierlichen Punktgruppen werden auch Curie-Gruppen genannt. Sie bestehen aus den Zylindergruppen (mit einer unendlichzähligen Drehachse) und den Kugelgruppen (mit zwei unendlichzähligen Drehachsen).\n",
        "\n",
        "* [Kugelgruppen (Curie-Gruppen)](https://de.wikipedia.org/wiki/Curie-Gruppe): K"
      ]
    },
    {
      "cell_type": "markdown",
      "metadata": {
        "id": "lkRRFvUTO-S5"
      },
      "source": [
        "**Siehe hier die: [Die 32 kristallographischen Punktgruppen (Kristallklassen)](https://de.wikipedia.org/wiki/Punktgruppe#Die_32_kristallographischen_Punktgruppen_(Kristallklassen))** sowie zusatzlich die [Punktgruppen in der Molekülphysik](https://de.wikipedia.org/wiki/Punktgruppe#Punktgruppen_in_der_Molekülphysik)"
      ]
    },
    {
      "cell_type": "markdown",
      "metadata": {
        "id": "yxBdAnxzNkm4"
      },
      "source": [
        "*Beispiel (**Friesgruppen**): Eine Gruppe des Typs F1 enthält nur Translationen. **Gruppen des Typs F2 enthalten Translationen sowie Punktspiegelungen an Zentren**. Bandornamentgruppen dieses Typs enthalten Translationen sowie Spiegelungen an Achsen senkrecht zu Friesrichtung.*\n",
        "\n",
        "![fff](https://raw.githubusercontent.com/deltorobarba/repo/master/friesgruppe.png)"
      ]
    },
    {
      "cell_type": "markdown",
      "metadata": {
        "id": "qF8T8Eiak11U"
      },
      "source": [
        "##### <font color=\"blue\">**Raumgruppe (Symmetriegruppe)**"
      ]
    },
    {
      "cell_type": "markdown",
      "metadata": {
        "id": "Tl-B38VuQtSd"
      },
      "source": [
        "* Eine kristallographische [Raumgruppe](https://de.wikipedia.org/wiki/Raumgruppe) oder kurz Raumgruppe **beschreibt mathematisch die Symmetrie der Anordnung von Atomen, Ionen und Molekülen in einer Kristallstruktur**. Der Begriff „Gruppe“ stammt aus der Gruppentheorie.\n",
        "\n",
        "* Beispielsweise kann ein Bestandteil (etwa ein Sulfat-Ion) der Struktur durch Spiegelung oder Drehung eines anderen Bestandteils (in diesem Falle eines anderen Sulfations) erhalten werden. **Zur Beschreibung der kompletten Kristallstruktur ist dann nur die Beschreibung des ersten Ions notwendig**, das zweite Ion wird durch die Symmetrieoperation der Spiegelung oder Drehung erhalten.\n",
        "\n",
        "*  Die Abbildung unten zeigt das am Beispiel der Kristallstruktur von Eis. Der rechte Sechsring ist das Spiegelbild des linken Sechsrings; die Raumgruppe gibt (neben anderen) diese Symmetrieeigenschaft wieder."
      ]
    },
    {
      "cell_type": "markdown",
      "metadata": {
        "id": "XVaWcQRoQ6RI"
      },
      "source": [
        "*Spiegelsymmetrie in der Kristallstruktur von Eis*\n",
        "\n",
        "![hh](https://upload.wikimedia.org/wikipedia/commons/thumb/9/93/Mirror_plane_in_the_ice_structure.png/470px-Mirror_plane_in_the_ice_structure.png)"
      ]
    },
    {
      "cell_type": "markdown",
      "metadata": {
        "id": "5A0vdypkRdKz"
      },
      "source": [
        "* Die Raumgruppe ist eine diskrete Untergruppe der [euklidischen Bewegungsgruppe](https://de.wikipedia.org/wiki/Bewegung_(Mathematik)#Die_Bewegungsgruppe_(Euklidische_Gruppe)) eines euklidischen (affinen) Raums mit beschränktem Fundamentalbereich.\n",
        "\n",
        "* *Euklidischen Bewegungsgruppe: Die Hintereinanderausführung zweier Bewegungen ergibt wieder eine Bewegung. Die Bewegungen bilden also eine Gruppe, die Bewegungsgruppe oder euklidische Gruppe.*\n",
        "\n",
        "* Die Raumgruppen gehören zu den Symmetriegruppen und werden üblicherweise mithilfe der Hermann-Mauguin-Symbolik oder manchmal auch in der Schoenflies-Symbolik beschrieben.\n",
        "\n",
        "* Während sich die kristallographischen Punktgruppen aus nicht-translativen Symmetrieoperationen (z. B. Rotationen oder Spiegelungen) zusammensetzen, wird bei der Bestimmung der unterschiedlichen Raumgruppen diese Forderung aufgeweicht zugunsten translativer Symmetrieoperationen (daraus ergeben sich z. B. [Gleitspiegelebenen](https://de.wikipedia.org/wiki/Gleitspiegelung) und [Schraubenachsen](https://de.wikipedia.org/wiki/Schraubung)) und den Gittertranslationen. Daraus ergibt sich eine Vielzahl neuer Symmetriegruppen, die Raumgruppen."
      ]
    },
    {
      "cell_type": "markdown",
      "metadata": {
        "id": "iCXy1XplS8Ng"
      },
      "source": [
        "Die Isometriegruppe $\\operatorname{Isom}\\left(\\mathbb{R}^{n}\\right)$ des $n$ -dimensionalen euklidischen Raumes $\\mathbb{R}^{n}$ ist die Gruppe\n",
        "\n",
        ">$\n",
        "\\operatorname{Isom}\\left(\\mathbb{R}^{n}\\right)=O(n) \\ltimes \\mathbb{R}^{n},\n",
        "$\n",
        "\n",
        "wobei $O(n)$ die orthogonale Gruppe, bestehend aus Spiegelungen und Drehungen um den Nullpunkt ist und $\\mathbb{R}^{n}$ als Gruppe der Verschiebungen des $\\mathbb{R}^{n}$ aufgefasst wird.\n",
        "\n",
        "Eine kristallographische Gruppe vom Rang $n$ ist eine diskrete und kokompakte Untergruppe von $\\operatorname{Isom}\\left(\\mathbb{R}^{n}\\right)$. (Eine Untergruppe $\\Gamma \\subset \\operatorname{Isom}\\left(\\mathbb{R}^{n}\\right)$ heißt diskret, wenn es zu keinem $\\gamma \\in \\Gamma$ eine Folge $\\left(\\gamma_{n}\\right)_{n} \\subset \\Gamma$ mit $\\gamma_{n} \\neq \\gamma$ und $\\lim _{n \\rightarrow \\infty} \\gamma_{n}=\\gamma$ gibt. Sie heißt kokompakt, wenn der Quotientenraum $\\Gamma \\backslash \\mathbb{R}^{n}$ kompakt ist.)\n",
        "\n",
        "Eine Bieberbach-Gruppe ist eine torsionsfreie kristallographische Gruppe. (Eine Gruppe $\\Gamma$ mit neutralem Element $e$ heißt torsionsfrei, wenn aus $\\gamma \\neq e$ und $n \\neq 0$ stets $\\gamma^{n} \\neq e$ folgt.)"
      ]
    },
    {
      "cell_type": "markdown",
      "metadata": {
        "id": "Jh8K1nGATqiW"
      },
      "source": [
        "**Eine vollständige Liste der 230 dreidimensionalen Raumgruppen ist in der [Liste der Raumgruppen](https://de.wikipedia.org/wiki/Liste_der_Raumgruppen) zu finden.**\n",
        "\n",
        "* Liste der triklinen Raumgruppen\n",
        "*\tListe der monoklinen Raumgruppen\n",
        "*\tListe der orthorhombischen Raumgruppen\n",
        "*\tListe der tetragonalen Raumgruppen\n",
        "*\tListe der trigonalen Raumgruppen\n",
        "*\tListe der hexagonalen Raumgruppen\n",
        "* Liste der kubischen Raumgruppen"
      ]
    },
    {
      "cell_type": "markdown",
      "metadata": {
        "id": "ZV0GhhALuWSO"
      },
      "source": [
        "##### <font color=\"blue\">**Cyclic Groups $C_{n}$**"
      ]
    },
    {
      "cell_type": "markdown",
      "metadata": {
        "id": "yQnSIQtxU0K1"
      },
      "source": [
        "**All cyclic groups:** (es gibt nicht mehr!!)\n",
        "\n",
        "* Infinite: Z, +\n",
        "\n",
        "* Finite: Z / nZ, + with: Z, Z/2Z, Z/3Z, Z/4Z,..\n",
        "\n",
        "* Trivial group: {e}"
      ]
    },
    {
      "cell_type": "markdown",
      "metadata": {
        "id": "pOKWfpuAufDj"
      },
      "source": [
        "* Why are they so important? „Fundamental Theorem of Finitely Generated Abelian Groups“\n",
        "* Means: any abelian group, that is finitely generated can be broken apart into a finite number of cyclic groups\n",
        "* And every cyclic group is either integers, or integers mod N\n",
        "* So cyclic groups are fundamental building blocks for finitely generated abelian groups"
      ]
    },
    {
      "cell_type": "markdown",
      "metadata": {
        "id": "VU8_MgUbluNH"
      },
      "source": [
        "https://www.youtube.com/watch?v=8A84sA1YuPw"
      ]
    },
    {
      "cell_type": "markdown",
      "metadata": {
        "id": "TF4X4BeZmdlu"
      },
      "source": [
        "https://en.wikipedia.org/wiki/Cyclic_group"
      ]
    },
    {
      "cell_type": "markdown",
      "metadata": {
        "id": "ACunDDlyuapF"
      },
      "source": [
        "* A group G is cyclic if it‘s generated by a single element G = <x>\n",
        "* Let G be a group with operation * and pick x element G\n",
        "* What‘s the smallest subgroup of G that contains x ?\n",
        "    * Its inverse x -1\n",
        "    * It‘s identity element 1 (for multiplication)\n",
        "    * All powers of x (squared etc) and powers of inverse of c\n",
        "* <x> = { ..., x -4, x -3, x -2, x -1, 1, x, x 2, x 3,.. } DIE ziffern sind hier hochgestellt als potenzen !!\n",
        "* If G = <x> for some x, then we call G a cyclic group, or: if G contains an element ‚x‘ such that G equals the group generated by ‚x‘, then we say G is a cyclic group\n",
        "* And for group H under operation + pick y element of H, group generated by y = smallest subgroup of H containing y. <y> = {.., -3y, -2y, -y, 0, 2y, 3y, ..}\n",
        "* Examples: **Integers are a cyclic group!** (And specifically an infinite cyclic group)\n",
        "\n",
        "    * Gruppe kann durch ein Elemente komplett erstellt werden: 1, sein identity element 0, die inverse -1 und alle muptlicatives von 1 zB 2,3 4, sowie negativ -2, -3, -4 etc. Dann hat man die komplette Gruppe der Integers aus einem Element (der 1) abgeleitet. Dann ist es eine cyclic group :)\n",
        "    * Integers under addition,\n",
        "    * Claim: Z = <1>\n",
        "    * <1> = { .., -4, -3, -2, -1, 0, 1, 2, 3, ..}\n",
        "* Finite cyclic group: Integers mod n under addition\n",
        "    * Elements: {0, 1, 2, 3... , n -1}\n",
        "    * The group generated by 1 repeats itself. It cycles through the numbers 0 through N -1 over and over.\n",
        "    * It‘s written like this: Integers mod n: Z / n Z\n",
        "    * This will makes sense once studied quotient groups"
      ]
    },
    {
      "cell_type": "markdown",
      "metadata": {
        "id": "z0WJnTIEvpUa"
      },
      "source": [
        "![alternativer Text](https://raw.githubusercontent.com/deltorobarba/repo/master/finitecyclicgroups1.png)"
      ]
    },
    {
      "cell_type": "markdown",
      "metadata": {
        "id": "8tHQRgl9vz6r"
      },
      "source": [
        "![alternativer Text](https://raw.githubusercontent.com/deltorobarba/repo/master/finitecyclicgroups2.png)"
      ]
    },
    {
      "cell_type": "markdown",
      "metadata": {
        "id": "-eYfKvd1kEkY"
      },
      "source": [
        "##### <font color=\"blue\">**Didiergruppe D (Dihedral Group)**"
      ]
    },
    {
      "cell_type": "markdown",
      "metadata": {
        "id": "6iZ_jjAEVYfJ"
      },
      "source": [
        "![ff](https://upload.wikimedia.org/wikipedia/commons/9/93/Polygons.png)"
      ]
    },
    {
      "cell_type": "markdown",
      "metadata": {
        "id": "5K2ltcT_D9_D"
      },
      "source": [
        "* when the shape is a regular [polygon](https://de.wikipedia.org/wiki/Polygon), the group of symmetries is called the dihedral group bzw. [Didiergruppe](https://de.m.wikipedia.org/wiki/Diedergruppe)\n",
        "\n",
        "  * Ein Polygon ist ein zweidimensionales [Polytop](https://de.wikipedia.org/wiki/Polytop_(Geometrie))\n",
        "\n",
        "* dihedral means 'two faces' and is related to polyhedron which means 'many faces'\n",
        "\n",
        "* analysis of symmetries for a regular polygon with n sides\n",
        "\n",
        "* possible transformations:\n",
        "\n",
        "  * nothing, e for identity\n",
        "\n",
        "  * rotation (r) by $\\theta=(360 / \\mathrm{n})^{\\circ}$ bzw. $\\theta=2 \\pi / \\mathrm{n}$ radians\n",
        "\n",
        "  * reflection (f for flip)\n",
        "\n",
        "  * combination of R and F (i.e. first flip, then reflect)\n",
        "\n",
        "* in total of 2n different symmetries for a regular n-side polygon: \n",
        "\n",
        "  * $\\begin{array}{lllll}\\text { e, } & r, & r^{2}, & \\ldots, & r^{n-1}\\end{array}$ \n",
        "  \n",
        "  * $f, \\quad r \\cdot f, \\quad r^{2} \\cdot f, \\ldots, \\quad r^{n-1} \\cdot f$\n",
        "\n",
        "* it's non-abelian (non commutative), because results are different if you flip and rotate, or first rotate and then flip, r * f ≠ f * r\n",
        "\n",
        "* dihedral group is a finite group ! (because there is only a finite number of elements in this group)"
      ]
    },
    {
      "cell_type": "markdown",
      "metadata": {
        "id": "G4Iz1hZFvy_i"
      },
      "source": [
        "https://www.youtube.com/watch?v=rPh7EQPSaO4&list=PLi01XoE8jYoi3SgnnGorR_XOW3IcK-TP6&index=18"
      ]
    },
    {
      "cell_type": "markdown",
      "metadata": {
        "id": "4oNU5K5YPdbg"
      },
      "source": [
        "![cc](https://raw.githubusercontent.com/deltorobarba/repo/master/dihedral.png)"
      ]
    },
    {
      "cell_type": "markdown",
      "metadata": {
        "id": "1ynBhMdIlrwJ"
      },
      "source": [
        "##### <font color=\"blue\">**Coxeter Gruppe (inkl. Diedergruppe $D_{n}$)**"
      ]
    },
    {
      "cell_type": "markdown",
      "metadata": {
        "id": "yOnxYDjAlwvt"
      },
      "source": [
        "* A [Coxeter group](https://en.wikipedia.org/wiki/Coxeter_group), named after H. S. M. Coxeter, is an abstract group that admits a formal description in terms of reflections (or kaleidoscopic mirrors). \n",
        "\n",
        "* Indeed, the finite Coxeter groups are precisely the finite Euclidean reflection groups; the symmetry groups of regular polyhedra are an example. \n",
        "\n",
        "* However, not all Coxeter groups are finite, and not all can be described in terms of symmetries and Euclidean reflections. Coxeter groups were introduced in 1934 as abstractions of reflection groups (Coxeter 1934), and finite Coxeter groups were classified in 1935 (Coxeter 1935)."
      ]
    },
    {
      "cell_type": "markdown",
      "metadata": {
        "id": "nDnelMFcPS4y"
      },
      "source": [
        "##### <font color=\"blue\">**Friesgruppe**"
      ]
    },
    {
      "cell_type": "markdown",
      "metadata": {
        "id": "CSyqaRZ8PU1Q"
      },
      "source": [
        "https://de.wikipedia.org/wiki/Friesgruppe"
      ]
    },
    {
      "cell_type": "markdown",
      "metadata": {
        "id": "wRsJ0z5cM5b7"
      },
      "source": [
        "#### **Lie-Gruppen & Lie Algebra**"
      ]
    },
    {
      "cell_type": "markdown",
      "metadata": {
        "id": "FhAHCh1wOaYe"
      },
      "source": [
        "*Siehe auch Beispiele unter Tensoranalysis: \"Tangential-, Kotangential- & Normalvektor\". Insbesondere Tangential- und Kotangentialraum*."
      ]
    },
    {
      "cell_type": "markdown",
      "metadata": {
        "id": "ZTyTyb1b4nCo"
      },
      "source": [
        "Mit der Lie-Gruppe $\\mathrm{SO}(n)$ ist eine Lie-Algebra $\\mathfrak{s o}(n)$ verknüpft, ein Vektorraum mit einem bilinearen alternierenden Produkt (Lie-Klammer), wobei der Vektorraum bezüglich der Lie- Klammer abgeschlossen ist. \n",
        "\n",
        "* Dieser Vektorraum ist isomorph zum Tangentialraum am neutralen Element der $\\mathrm{SO}(n)$ (neutrales Element ist die Einheitsmatrix), sodass insbesondere $\\operatorname{dim}_\\mathfrak{s o}(n)=\\operatorname{dim} \\mathrm{SO}(n)$ gilt. \n",
        "\n",
        "* Die Lie-Algebra besteht aus allen schiefsymmetrischen $n \\times n$\n",
        "-Matrizen und ihre Basis sind die sog. Erzeugenden. \n",
        "\n",
        "* Die Exponentialabbildung verknüpft die Lie-Algebra mit der Lie-Gruppe:\n",
        "\n",
        "> $\\exp : \\mathfrak{s o}(n) \\rightarrow \\mathrm{SO}(n), J \\mapsto \\sum_{k=0}^{\\infty} \\frac{1}{k !} J^{k}$\n",
        "\n",
        "https://de.m.wikipedia.org/wiki/Drehmatrix"
      ]
    },
    {
      "cell_type": "markdown",
      "metadata": {
        "id": "3hhDeuYaa1BS"
      },
      "source": [
        "##### **Definition Lie-Gruppen & Lie Algebra**"
      ]
    },
    {
      "cell_type": "markdown",
      "metadata": {
        "id": "j87JV2XogATt"
      },
      "source": [
        "**Lie Group**\n",
        "\n",
        "* [Lie-Gruppe](https://de.m.wikipedia.org/wiki/Lie-Gruppe) ist eine mathematische Struktur, die zur Beschreibung von kontinuierlichen Symmetrien verwendet wird. Lie-Gruppen sind in fast allen Teilen der heutigen Mathematik sowie in der theoretischen Physik, vor allem der Teilchenphysik, wichtige Werkzeuge.\n",
        "\n",
        "* a [Lie group](https://en.wikipedia.org/wiki/Lie_group) is a group that is also a differentiable manifold. A manifold is a space that locally resembles Euclidean space, whereas groups define the abstract, generic concept of multiplication and the taking of inverses (division).\n",
        "\n",
        "* Combining these two ideas, one obtains a continuous group where points can be multiplied together, and their inverse can be taken. If, in addition, the multiplication and taking of inverses are defined to be smooth (differentiable), one obtains a Lie group.\n",
        "\n",
        "* Lie groups provide a natural model for the concept of continuous symmetry, a celebrated example of which is the rotational symmetry in three dimensions (given by the special orthogonal group ${\\text{SO}}(3)$). Lie groups are widely used in many parts of modern mathematics and physics.\n",
        "\n",
        "* Lie groups were first found by studying matrix subgroups \n",
        "G contained in ${\\text{GL}}_{n}(\\mathbb {R} )$ or ${\\text{GL}}_{n}(\\mathbb {C} )$, the groups of $n\\times n$ invertible matrices over $\\mathbb {R}$  or $\\mathbb {C}$ . \n",
        "\n",
        "  * These are now called the classical groups, as the concept has been extended far beyond these origins. Lie groups are named after Norwegian mathematician Sophus Lie (1842–1899), who laid the foundations of the theory of [continuous transformation groups](https://en.wikipedia.org/wiki/Automorphism_group). \n",
        "  \n",
        "  * Lie's original motivation for introducing Lie groups was to model the continuous symmetries of differential equations, in much the same way that finite groups are used in Galois theory to model the discrete symmetries of algebraic equations.\n",
        "\n",
        "* Jede Lie-Gruppe ist auch eine [topologische Gruppe](https://de.m.wikipedia.org/wiki/Topologische_Gruppe)\n",
        "\n",
        "  * = eine topologische Gruppe ist eine Gruppe, die eine mit der Gruppenstruktur „verträgliche“ Topologie hat. Die topologische Struktur erlaubt es zum Beispiel, Grenzwerte in dieser Gruppe zu betrachten, und von stetigen Homomorphismen zu sprechen.\n",
        "\n",
        "  * Die reellen Zahlen $\\mathbb {R}$ mit der Addition und der gewöhnlichen Topologie bilden eine topologische Gruppe. "
      ]
    },
    {
      "cell_type": "markdown",
      "metadata": {
        "id": "Z65s8olkh_2Q"
      },
      "source": [
        "**Lie Algebra**\n",
        "\n",
        "* a [Lie algebra](https://en.m.wikipedia.org/wiki/Lie_algebra) **is a vector space $g$ together with an operation called the Lie bracket**, an alternating bilinear map $\\mathfrak{g} \\times \\mathfrak{g} \\rightarrow \\mathfrak{g},(x, y) \\mapsto[x, y]$, that satisfies the Jacobi identity.\n",
        "\n",
        "* The vector space $\\mathfrak{g}$ together with this operation is a non-associative algebra, meaning that the Lie bracket is not necessarily associative.\n",
        "\n",
        "> **any Lie group gives rise to a Lie algebra, which is its tangent space at the identity.**\n",
        "\n",
        "* In physics, Lie groups appear as symmetry groups of physical systems, and their Lie algebras (tangent vectors near the identity) may be thought of as infinitesimal symmetry motions. Thus Lie algebras and their representations are used extensively in physics, notably in quantum mechanics and particle physics.\n",
        "\n"
      ]
    },
    {
      "cell_type": "markdown",
      "metadata": {
        "id": "LAoLIjmfRL8y"
      },
      "source": [
        "> “The essential phenomenon of Lie theory is that one may associate in a natural way to a Lie group $\\mathcal{G}$ its Lie algebra $\\mathfrak{g}$. The Lie algebra $\\mathfrak{g}$ is first of all a vector space and secondly is endowed with a bilinear nonassociative product called the Lie bracket [...]. **Amazingly, the group $\\mathcal{G}$ is almost completely determined by $\\mathfrak{g}$ and its Lie bracket**. Thus for many purposes **one can replace $\\mathcal{G}$ with $\\mathfrak{g}$. Since $\\mathcal{G}$ is a complicated nonlinear object and $\\mathfrak{g}$ is just a vector space, it is usually vastly simpler to work with $\\mathfrak{g}$**. [...] This is one source of the power of Lie theory.\" Stillwell: “the miracle of Lie theory”.\n",
        "\n",
        "(*https://arxiv.org/pdf/1812.01537.pdf*)"
      ]
    },
    {
      "cell_type": "markdown",
      "metadata": {
        "id": "bBKKATyGcDQA"
      },
      "source": [
        "* For example $\\mathcal{G}$ is all the operations on the surface of a ball (nonlinear): Lie Groups are Continuous Transformation Groups, like a 3D rotation vector on a curved surface. Very complicated to work with. (Lie Algebra SO(3)): $\n",
        "\\boldsymbol{W}^{\\wedge}=[\\boldsymbol{\\omega}]_{\\times}=\\left[\\begin{array}{ccc}\n",
        "0 & -\\omega_{z} & \\omega_{y} \\\\\n",
        "\\omega_{z} & 0 & -\\omega_{x} \\\\\n",
        "-\\omega_{y} & \\omega_{x} & 0\n",
        "\\end{array}\\right]\n",
        "$ \n",
        "\n",
        "* Meanwhile Lie Algebra $\\mathfrak{g}$ is at the origin of the tangent plane which is a linear vector space: Cartesian R3: $\n",
        "\\omega=\\left(\\omega_{x}, \\omega_{y}, \\omega_{z}\\right)\n",
        "$\n",
        "\n",
        "> **Tangent space at the origin is called the \"Lie Algebra\"**\n",
        "\n",
        "> Exponential map translates between both"
      ]
    },
    {
      "cell_type": "markdown",
      "metadata": {
        "id": "AVD9z2iKdzKF"
      },
      "source": [
        "**An elementary example is the space of three dimensional vectors $\\mathfrak{g}=\\mathbb{R}^{3}$** with the bracket operation defined by the cross product $[x, y]=x \\times y$. This is skew-symmetric since $x \\times y=-y \\times x$, and instead of associativity it satisfies the Jacobi identity:\n",
        "\n",
        "> $\n",
        "x \\times(y \\times z)=(x \\times y) \\times z+y \\times(x \\times z)\n",
        "$\n",
        "\n",
        "* **This is the Lie algebra of the Lie group of rotations of space**, and each vector $v \\in \\mathbb{R}^{3}$ may be pictured as an infinitesimal rotation around the axis $v$, with velocity equal to the magnitude of $v$.\n",
        "\n",
        "* The Lie bracket is a measure of the noncommutativity between two rotations: since a rotation commutes with itself, we have the alternating property $[x, x]=x \\times x=0$."
      ]
    },
    {
      "cell_type": "markdown",
      "metadata": {
        "id": "j2oOT58DeP7G"
      },
      "source": [
        "**Lie algebra & Lie Group representation**"
      ]
    },
    {
      "cell_type": "markdown",
      "metadata": {
        "id": "NSO2t78leRph"
      },
      "source": [
        "* In the mathematical field of representation theory, a [Lie algebra representation](https://en.m.wikipedia.org/wiki/Lie_algebra_representation) or representation of a Lie algebra is a way of writing a Lie algebra as a set of matrices (or endomorphisms of a vector space) in such a way that the Lie bracket is given by the commutator. In the language of physics, one looks for a vector space \n",
        "V together with a collection of operators on \n",
        "V satisfying some fixed set of commutation relations, such as the relations satisfied by the angular momentum operators.\n",
        "\n",
        "* In mathematics and theoretical physics, a [representation of a Lie group](https://en.m.wikipedia.org/wiki/Representation_of_a_Lie_group) is a linear action of a Lie group on a vector space. Equivalently, a representation is a smooth homomorphism of the group into the group of invertible operators on the vector space. Representations play an important role in the study of continuous symmetry. A great deal is known about such representations, a basic tool in their study being the use of the corresponding 'infinitesimal' representations of Lie algebras.\n",
        "\n",
        "* In the study of the representation theory of Lie groups, the study of [representations of SU(2)](https://en.m.wikipedia.org/wiki/Representation_theory_of_SU(2)) is fundamental to the study of representations of semisimple Lie groups. It is the first case of a Lie group that is both a compact group and a non-abelian group.\n",
        "\n",
        "  * SU(2) is the universal covering group of SO(3), and so its representation theory includes that of the latter, by dint of a surjective homomorphism to it. This underlies the significance of SU(2) for the description of non-relativistic spin in theoretical physics; see below for other physical and historical context."
      ]
    },
    {
      "cell_type": "markdown",
      "metadata": {
        "id": "3Q-USrERZuzJ"
      },
      "source": [
        "**Lie-Algebra der Lie-Gruppe**\n",
        "\n",
        "* Die Vektorfelder auf einer glatten Mannigfaltigkeit $M$ bilden mit der Lie-Klammer eine unendlich-dimensionale Lie-Algebra. Die zu einer Lie-Gruppe $G$ gehörende Lie-Algebra $\\mathfrak{g}$ besteht aus dem Unterraum der [links-invarianten](https://de.m.wikipedia.org/wiki/Translationsinvarianz) Vektorfelder auf $G$. \n",
        "\n",
        "* Dieser Vektorraum ist isomorph zum Tangentialraum $T_{e} G$ am neutralen Element $e$ von $G$. Insbesondere gilt also $\\operatorname{dim} G=\\operatorname{dim} \\mathfrak{g}$. Bezüglich der LieKlammer $[\\cdot, \\cdot]$ ist der Vektorraum $\\mathfrak{g}$ abgeschlossen. \n",
        "\n",
        "* **Somit ist der Tangentialraum einer Lie-Gruppe $G$ am neutralen Element eine Lie-Algebra. Diese Lie-Algebra nennt man die Lie-Algebra der Lie-Gruppe $G$.**\n",
        "\n",
        "* Zu jeder Lie-Gruppe $G$ mit Lie-Algebra $\\mathfrak{g}$ gibt es eine **Exponentialabbildung exp (exponential map)**: $\\mathfrak{g} \\rightarrow G$. Diese Exponentialabbildung kann man definieren durch $\\exp (A)=\\Phi_{1}(e)$, wobei $\\Phi_{t}$ der Fluss des links-invarianten Vektorfelds $A$ und $e \\in G$ das neutrale Element ist. Falls $G$ eine abgeschlossene Untergruppe der $\\mathrm{GL}(n, \\mathbb{R})$ oder $\\mathrm{GL}(n, \\mathbb{C})$ ist, so ist die so definierte Exponentialabbildung identisch mit der Matrixexponentialfunktion.\n",
        "\n",
        "\n",
        "* Jedes Skalarprodukt auf $T_{e} G=\\mathfrak{g}$ definiert eine $G$ -links-invariante Riemannsche Metrik auf $G$. Im Spezialfall, dass diese Metrik zusätzlich auch\n",
        "rechtsinvariant ist, stimmt die Exponentialabbildung der Riemannschen\n",
        "Mannigfaltigkeit $G$ am Punkt $e$ mit der Lie-Gruppen-Exponentialabbildung\n",
        "überein."
      ]
    },
    {
      "cell_type": "markdown",
      "metadata": {
        "id": "TnhFP74Xk5_s"
      },
      "source": [
        "**Simple Lie Groups**\n",
        "\n",
        "* a simple Lie group is a connected non-abelian Lie group G which does not have nontrivial connected normal subgroups.\n",
        "\n",
        "* The list of simple Lie groups can be used to read off the list of simple Lie algebras and [Riemannian symmetric spaces](https://en.wikipedia.org/wiki/Symmetric_space)."
      ]
    },
    {
      "cell_type": "markdown",
      "metadata": {
        "id": "NJKrdLOylilI"
      },
      "source": [
        "**Simple Lie Algebra**\n",
        "\n",
        "* a [simple Lie algebra](https://en.wikipedia.org/wiki/Simple_Lie_algebra) is a Lie algebra that is nonabelian and contains no nonzero proper ideals.\n",
        "\n",
        "* The classification of real simple Lie algebras is one of major achievements of Wilhelm Killing and Élie Cartan.\n",
        "\n",
        "* A direct sum of simple Lie algebras is called a semisimple Lie algebra.\n",
        "\n",
        "* A simple Lie group is a connected Lie group whose Lie algebra is simple."
      ]
    },
    {
      "cell_type": "markdown",
      "metadata": {
        "id": "GO5mmUVKmDnB"
      },
      "source": [
        "**Semisimple Lie algebra**\n",
        "\n",
        "* a [Lie algebra is semisimple](https://en.wikipedia.org/wiki/Semisimple_Lie_algebra) if it is a direct sum of simple Lie algebras (non-abelian Lie algebras without any non-zero proper ideals)."
      ]
    },
    {
      "cell_type": "markdown",
      "metadata": {
        "id": "1MeVfjBqlNs7"
      },
      "source": [
        "**Symmetric Space**\n",
        "\n",
        "* a [symmetric space](https://en.wikipedia.org/wiki/Symmetric_space) is a Riemannian manifold (or more generally, a pseudo-Riemannian manifold) whose group of symmetries contains an inversion symmetry about every point. \n",
        "\n",
        "* This can be studied with the tools of Riemannian geometry, leading to consequences in the theory of holonomy; or algebraically through Lie theory, which allowed Cartan to give a complete classification. \n",
        "\n",
        "* Symmetric spaces commonly occur in differential geometry, representation theory and harmonic analysis."
      ]
    },
    {
      "cell_type": "markdown",
      "metadata": {
        "id": "hxwVmH9nbAII"
      },
      "source": [
        "##### **Beispiele fur Lie-Gruppen**"
      ]
    },
    {
      "cell_type": "markdown",
      "metadata": {
        "id": "1sFZzVbxbVQK"
      },
      "source": [
        "* **Die Menge $\\mathbb{C}^{*}=\\mathbb{C} \\backslash\\{0\\}$ der komplexen Zahlen ungleich 0 bildet mit der gewöhnlichen Multiplikation eine Gruppe $\\left(\\mathbb{C}^{*}, \\cdot\\right)$**. Die Multiplikation ist eine differenzierbare Abbildung $m: \\mathbb{C}^{*} \\times \\mathbb{C}^{*} \\rightarrow \\mathbb{C}^{*}$ definiert durch $m(x, y)=x y_{i}$ auch die durch $i(z)=z^{-1}=\\frac{1}{z}$ definierte Inversion $i: \\mathbb{C}^{*} \\rightarrow \\mathbb{C}^{*}$ ist differenzierbar. Die Gruppenstruktur der komplexen Ebene (bzgl. Multiplikation) ist also ,mit der Differentialrechnung verträglich\". (Dasselbe würde auch für die Gruppe $(\\mathbb{C},+)$ mit der Addition als Verknüpfung gelten: Dort ist $m(x, y)=x+y$ und $i(x)=-x .$ )\n",
        "\n",
        "* **Der Einheitskreis in der komplexen Zahlenebene**, d. h. die Menge $S^{1}=\\{z \\in \\mathbb{C}:|z|=1\\}$ der komplexen Zahlen vom Betrag 1, ist eine Untergruppe von $\\left(\\mathbb{C}^{*}, \\cdot\\right)$, die sogenannte Kreisgruppe: Das Produkt zweier Zahlen vom Betrag 1 hat wieder Betrag 1, ebenso das Inverse. Auch hier hat man eine $_{n}$ mit der Differentialrechnung verträgliche Gruppenstruktur\", d. h. eine Lie-Gruppe.\n",
        "\n"
      ]
    },
    {
      "cell_type": "markdown",
      "metadata": {
        "id": "FLFwM3RuOTZy"
      },
      "source": [
        "[Beispiele fur Lie-Gruppen](https://de.wikipedia.org/wiki/Lie-Gruppe#Beispiele) sind: \n",
        "\n",
        "* allgemeine lineare Gruppe, \n",
        "\n",
        "* Orthogonale Gruppe, \n",
        "\n",
        "* Unitäre Gruppe & Spezielle Unitäre Gruppe, \n",
        "\n",
        "* Affine Gruppe\n",
        "\n",
        "* Poincaré-Gruppe, \n",
        "\n",
        "* Galilei-Gruppe"
      ]
    },
    {
      "cell_type": "markdown",
      "metadata": {
        "id": "zaoFEGvfEOME"
      },
      "source": [
        "They have the following correspondence for the Lie algebras associated to classical groups over the complex numbers:\n",
        "\n",
        "- $A_{n}: \\mathfrak{s l}_{n+1}$, the special linear Lie algebra.\n",
        "- $B_{n}: \\mathfrak{s o}_{2 n+1}$, the odd-dimensional special orthogonal Lie algebra.\n",
        "- $C_{n}: \\mathfrak{s p}_{2 n}$, the symplectic Lie algebra.\n",
        "- $D_{n}: \\mathfrak{s o}_{2 n}$, the even-dimensional special orthogonal Lie algebra $(n>1)$.\n",
        "\n",
        "https://en.wikipedia.org/wiki/Dynkin_diagram#Classification_of_semisimple_Lie_algebras"
      ]
    },
    {
      "cell_type": "markdown",
      "metadata": {
        "id": "iZdjNPQ6PD3Y"
      },
      "source": [
        "https://en.m.wikipedia.org/wiki/Simple_Lie_group"
      ]
    },
    {
      "cell_type": "markdown",
      "metadata": {
        "id": "OLMWbx40M0ck"
      },
      "source": [
        "https://de.wikipedia.org/wiki/Lie-Gruppe#Lie-Gruppe"
      ]
    },
    {
      "cell_type": "markdown",
      "metadata": {
        "id": "btfdeGWWkel1"
      },
      "source": [
        "##### **Beispiel: Lie Gruppen in Robotics**"
      ]
    },
    {
      "cell_type": "markdown",
      "metadata": {
        "id": "9DeiQJrjPWoq"
      },
      "source": [
        "* it appears very useful for uncertainty management in the kind of estimation problems we deal with in robotics (e.g. inertial pre-integration, odometry and SLAM, visual servoing, and the like), thus enabling elegant and rigorous designs of optimal optimizers. ([Source](https://arxiv.org/pdf/1812.01537.pdf))\n",
        "\n",
        "* Relying on the Lie theory (LT) we are able to construct a rigorous calculus corpus to handle uncertainties, derivatives and integrals with precision and ease. Typically, these works have focused on the well known manifolds of rotation SO(3) and rigid motion SE(3)."
      ]
    },
    {
      "cell_type": "markdown",
      "metadata": {
        "id": "71VKLW8P74b_"
      },
      "source": [
        "https://github.com/artivis/manif/blob/devel/paper/Lie_theory_cheat_sheet.pdf"
      ]
    },
    {
      "cell_type": "markdown",
      "metadata": {
        "id": "AIi5p4TL8JBW"
      },
      "source": [
        "https://github.com/artivis/manif/"
      ]
    },
    {
      "cell_type": "markdown",
      "metadata": {
        "id": "pJjuRcNJ8Ndn"
      },
      "source": [
        "https://arxiv.org/abs/1812.01537"
      ]
    },
    {
      "cell_type": "markdown",
      "metadata": {
        "id": "EhcMp06jkw5C"
      },
      "source": [
        "Lie theory for the roboticist: https://www.youtube.com/watch?v=nHOcoIyJj2o&t=3147s"
      ]
    },
    {
      "cell_type": "markdown",
      "metadata": {
        "id": "5c_Mt8XIU0rD"
      },
      "source": [
        "**The connection between the Lie group and its Lie algebra will not be made here as profound as it should. Our position is that, given the target application areas that we foresee, this material is often not necessary.**"
      ]
    },
    {
      "cell_type": "markdown",
      "metadata": {
        "id": "zzGC463dlauI"
      },
      "source": [
        "![gg](https://raw.githubusercontent.com/deltorobarba/repo/master/liegroup_01.png)"
      ]
    },
    {
      "cell_type": "markdown",
      "metadata": {
        "id": "fmRGzlOiicoZ"
      },
      "source": [
        "* **Lie Groups** were know as \"Continuous Transformation Groups\". **= a group that is also a smooth (differential) manifold** \n",
        "\n",
        "  * **a smooth manifold whose elements satisfy the group axioms**\n",
        "\n",
        "  * (so no singularities or breaks where differentiation or integration wouldn't work anymore)\n",
        "\n",
        "  * each point on a manifold represents one element of the Lie Group (i.e. 3d rotation matrix on the manifold)\n",
        "\n",
        "  * corresponding to it in the cartesian tangent space you can find a 3d rotation vector\n",
        "\n",
        "* **Lie Algebra** is the in origin point on manifold (https://www.youtube.com/watch?v=nHOcoIyJj2o&t=3147s)\n",
        "\n",
        "* **Exponential Map** from (cartesian) tangent space to manifold (i.e 3 D surface): \n",
        "\n",
        "  * from tangent space a to manifold ('**exponential of a**'), like the exponential of a rotation vector (on tangent space) is the 3d rotation matrix (on manifold)\n",
        "  \n",
        "  * and back: point on manifold x and its '**logarithm of x**' back on the tangent space\n",
        "\n",
        "  * it's an exact operation, and no approximation\n",
        "\n",
        "  * explanation and proof here: https://www.youtube.com/watch?v=nHOcoIyJj2o&t=3147s"
      ]
    },
    {
      "cell_type": "markdown",
      "metadata": {
        "id": "ML10YHB6-1tb"
      },
      "source": [
        "![gg](https://raw.githubusercontent.com/deltorobarba/repo/master/liegroup_07.png)"
      ]
    },
    {
      "cell_type": "markdown",
      "metadata": {
        "id": "37ephg2--_gJ"
      },
      "source": [
        "**Lie algebra is the origin point (= identity) on the tangent space!**\n",
        "\n",
        "> **Tangent space at the origin is called the \"Lie Algreba\"**"
      ]
    },
    {
      "cell_type": "markdown",
      "metadata": {
        "id": "pAqZkUEIP-JP"
      },
      "source": [
        "* **each time you take a derivative on the manifold, you are out of the manifold**, but you can stay on the tangent space for doing this operation (because there they are well defined)"
      ]
    },
    {
      "cell_type": "markdown",
      "metadata": {
        "id": "LpkBxRZEPxxs"
      },
      "source": [
        "![gg](https://raw.githubusercontent.com/deltorobarba/repo/master/liegroup_08.png)\n",
        "\n",
        "*https://arxiv.org/pdf/1812.01537.pdf*"
      ]
    },
    {
      "cell_type": "markdown",
      "metadata": {
        "id": "QH3WAo7EmaEH"
      },
      "source": [
        "* **antipodal point** to the origin: from origin point go half a turn around a 3d ball, you and up on the antipodal point, and there are many ways to go (any vector with length pie π)\n",
        "\n",
        "* The tangent space will cover the manifold multiple times !!\n",
        "\n",
        "  * \"**First cover of the manifold by the tangent space**\": all points on the tangent space will end up in the antipodal point when applying any vector with length pie π)\n",
        "\n",
        "  * there you can see relationship between Lie group and tangent space on manifold\n"
      ]
    },
    {
      "cell_type": "markdown",
      "metadata": {
        "id": "9p9u-lz3leLQ"
      },
      "source": [
        "![gg](https://raw.githubusercontent.com/deltorobarba/repo/master/liegroup_02.png)"
      ]
    },
    {
      "cell_type": "markdown",
      "metadata": {
        "id": "uwKSJsjJoWA7"
      },
      "source": [
        "* In the following image: $R^{m}$ and $T_{E} M$ are the same vector space but with different representations\n",
        "\n",
        "> **Lie Algebra $T_{E} M \\sim R_{m} \\text { (Cartesian Tangent Space) and } w \\sim w^{\\wedge}$**\n",
        "\n",
        "* This means that $T_{E} M$ is isomorph to $R_{m}$\n",
        "\n",
        "* Since you can always go to an $R_{m}$ space, any Lie Group will have an cartesian $R_{m}$ tangent space, which is a vector\n",
        "\n",
        "* you can alweays go from one to the other give the isomorphism"
      ]
    },
    {
      "cell_type": "markdown",
      "metadata": {
        "id": "pRJ_VHkToEBD"
      },
      "source": [
        "![gg](https://raw.githubusercontent.com/deltorobarba/repo/master/liegroup_03.png)"
      ]
    },
    {
      "cell_type": "markdown",
      "metadata": {
        "id": "subRMqOaqMXE"
      },
      "source": [
        "* SO(3): Lie group of rotation matrices in 3D\n",
        "\n",
        "* you can write [w]<sub>x</sub> as a linear combination of 3 base matrices $E$<sub>x, y, z</sub>, which facilitates the calculation / it's easier than working directly with [w]<sub>x</sub>\n",
        "\n",
        "* and since $T_{E} M \\sim R_{m}$ sowie $w \\sim w^{\\wedge}$ (Isomorphism), it's also an allowed (exact) operation\n",
        "\n",
        "* Let's write a tangent vector as a regular cartesian vector with 3 coordinates\n",
        "\n",
        "> $[\\omega]_{\\times}=\\omega_{x} \\mathbf{E}_{x}+\\omega_{y} \\mathbf{E}_{y}+\\omega_{z} \\mathbf{E}_{z}$\n",
        "\n",
        "* The matrix product $[\\omega]_{\\times}$ is equivalent to cross product of vectors $\\omega =\\omega_{x} \\mathbf +\\omega_{y} \\mathbf +\\omega_{z}$, isomorph, two ways of representing the same elemtn of the tangent space\n",
        "\n",
        "* looking at the previous slide: cartesian R<sup>m</sup> is easier to work with than Lie Algebra T<sub>E</sub>M"
      ]
    },
    {
      "cell_type": "markdown",
      "metadata": {
        "id": "av-1tAzcQWCp"
      },
      "source": [
        "> “The essential phenomenon of Lie theory is that one may associate in a natural way to a Lie group $\\mathcal{G}$ its Lie algebra $\\mathfrak{g}$. The Lie algebra $\\mathfrak{g}$ is first of all a vector space and secondly is endowed with a bilinear nonassociative product called the Lie bracket [...]. **Amazingly, the group $\\mathcal{G}$ is almost completely determined by $\\mathfrak{g}$ and its Lie bracket**. Thus for many purposes **one can replace $\\mathcal{G}$ with $\\mathfrak{g}$. Since $\\mathcal{G}$ is a complicated nonlinear object and $\\mathfrak{g}$ is just a vector space, it is usually vastly simpler to work with $\\mathfrak{g}$**. [...] This is one source of the power of Lie theory.\" Stillwell: “the miracle of Lie theory”.\n",
        "\n",
        "(*https://arxiv.org/pdf/1812.01537.pdf*)"
      ]
    },
    {
      "cell_type": "markdown",
      "metadata": {
        "id": "Ns847JXrqHZR"
      },
      "source": [
        "![gg](https://raw.githubusercontent.com/deltorobarba/repo/master/liegroup_04.png)"
      ]
    },
    {
      "cell_type": "markdown",
      "metadata": {
        "id": "-i9Q5F9h1CRo"
      },
      "source": [
        "![gg](https://raw.githubusercontent.com/deltorobarba/repo/master/liegroup_05.png)"
      ]
    },
    {
      "cell_type": "markdown",
      "metadata": {
        "id": "2UP4nQdY5wHC"
      },
      "source": [
        "![gg](https://raw.githubusercontent.com/deltorobarba/repo/master/liegroup_06.png)"
      ]
    },
    {
      "cell_type": "markdown",
      "metadata": {
        "id": "j6OKUNYrPMCx"
      },
      "source": [
        "https://en.m.wikipedia.org/wiki/Borel–de_Siebenthal_theory"
      ]
    },
    {
      "cell_type": "markdown",
      "metadata": {
        "id": "jJIUU9J3PPp_"
      },
      "source": [
        "https://en.m.wikipedia.org/wiki/Compact_group#Compact_Lie_groups"
      ]
    },
    {
      "cell_type": "markdown",
      "metadata": {
        "id": "kCDcxSYncnbs"
      },
      "source": [
        "https://en.wikipedia.org/wiki/Root_system"
      ]
    },
    {
      "cell_type": "markdown",
      "metadata": {
        "id": "X3CvHaDAclQE"
      },
      "source": [
        "https://en.wikipedia.org/wiki/Dynkin_diagram"
      ]
    },
    {
      "cell_type": "markdown",
      "metadata": {
        "id": "IsgGqRO1OE2b"
      },
      "source": [
        "#### **General Linear & Classical Groups**"
      ]
    },
    {
      "cell_type": "markdown",
      "metadata": {
        "id": "AnG5dzQVa8jV"
      },
      "source": [
        "##### <font color=\"blue\">**Matrixgruppen & General Linear Group**"
      ]
    },
    {
      "cell_type": "markdown",
      "metadata": {
        "id": "qc0q9v0C42xa"
      },
      "source": [
        "$\n",
        "\\begin{array}{|l|c|c|}\n",
        "\\hline & \\text { Finite Groups } & \\text { Infinite Groups } \\\\\n",
        "\\hline \\text { Abelian Groups } & \\text { Integers mod } n & \\mathbb{Z}, \\mathbb{Q}, \\mathbb{R}, \\mathbb{C} \\text { under }+ \\\\\n",
        "\\hline \\text { Non-Abelian Groups } & S_{n} \\text { for } n>2 & \\text { Matrices } \\\\\n",
        "\\hline\n",
        "\\end{array}\n",
        "$"
      ]
    },
    {
      "cell_type": "markdown",
      "metadata": {
        "id": "aE9aQGj45wox"
      },
      "source": [
        "* for example a 2x3 real Matrix under addition with the identity matrix (all zeros) form an infinite group that is also abelian\n",
        "\n",
        "* Non abelian: **Real** matrices under multiplication, n by n square matrices (for non square matrices you can find two elements that can not be multiplied together). Requirements of a group:\n",
        "  * **Identity**: I = nxn identity matrix\n",
        "  * **Associativity**: yes\n",
        "  * Just each matrix needs to have an **inverse** (a non-zero determinant: for M to have an inverse, det(M) ≠ 0\n",
        "  * This is a group, the general linear group!\n",
        "\n",
        "* This group is called **general linear group** = the group of invertible matrices\n",
        "\n",
        "* it's also non-commutative!\n",
        "\n",
        "$\n",
        "\\begin{aligned}\n",
        "\\mathrm{GL}_{\\mathrm{n}}(\\mathbb{R}) &=\\text { General Linear Group } \\\\\n",
        "&=n \\times n \\text { invertible matrices }\n",
        "\\end{aligned}\n",
        "$"
      ]
    },
    {
      "cell_type": "markdown",
      "metadata": {
        "id": "SfBlRmL3_HaO"
      },
      "source": [
        "Für $n \\geq 2$ ist die Gruppe $\\mathrm{GL}(n, K)$ nichtabelsch. Für $n=2$ gilt\n",
        "\n",
        "$\n",
        "\\left(\\begin{array}{ll}\n",
        "1 & 0 \\\\\n",
        "1 & 1\n",
        "\\end{array}\\right)\\left(\\begin{array}{ll}\n",
        "1 & 1 \\\\\n",
        "0 & 1\n",
        "\\end{array}\\right)=\\left(\\begin{array}{ll}\n",
        "1 & 1 \\\\\n",
        "1 & 2\n",
        "\\end{array}\\right)\n",
        "$\n",
        "\n",
        "aber\n",
        "\n",
        "$\n",
        "\\left(\\begin{array}{ll}\n",
        "1 & 1 \\\\\n",
        "0 & 1\n",
        "\\end{array}\\right)\\left(\\begin{array}{ll}\n",
        "1 & 0 \\\\\n",
        "1 & 1\n",
        "\\end{array}\\right)=\\left(\\begin{array}{ll}\n",
        "2 & 1 \\\\\n",
        "1 & 1\n",
        "\\end{array}\\right) .\n",
        "$"
      ]
    },
    {
      "cell_type": "markdown",
      "metadata": {
        "id": "WNHjjgzz5iF_"
      },
      "source": [
        "Matrix Groups: https://www.youtube.com/watch?v=AJTRwhSZJWw&t=105s"
      ]
    },
    {
      "cell_type": "markdown",
      "metadata": {
        "id": "x_DbrrJf-ijZ"
      },
      "source": [
        "* Die allgemeine lineare Gruppe und ihre Untergruppen finden Anwendung in der Darstellung von Gruppen sowie in der Untersuchung von Symmetrien.\n",
        "\n",
        "* Untergruppen der allgemeinen linearen Gruppe werden als Matrizengruppen bezeichnet.\n",
        "\n",
        "* **Jede Untergruppe von ${GL} (n,K)$ wird eine Matrizengruppe oder lineare Gruppe genannt**. "
      ]
    },
    {
      "cell_type": "markdown",
      "metadata": {
        "id": "w1kXKjplOJO2"
      },
      "source": [
        "https://de.wikipedia.org/wiki/Allgemeine_lineare_Gruppe"
      ]
    },
    {
      "cell_type": "markdown",
      "metadata": {
        "id": "yuFGYFoQAdG4"
      },
      "source": [
        "**Einige Untergruppen haben besondere Bedeutung**:"
      ]
    },
    {
      "cell_type": "markdown",
      "metadata": {
        "id": "U_qbDvyn_3Rz"
      },
      "source": [
        "* Die Untergruppe aller **Diagonalmatrizen**, deren Diagonalelemente alle ungleich 0 sind, beschreibt Reskalierungen des Raums.\n",
        "\n",
        "* Diagonalmatrizen, bei denen alle Diagonalelemente übereinstimmen und nicht 0 sind, beschreiben in der Geometrie **zentrische Streckungen**. Die Untergruppe dieser Matrizen ist das Zentrum von $\\mathrm{GL}(n, K)$. Nur im Trivialfall $n=1$ ist sie mit $\\mathrm{GL}(n, K)$ identisch.\n",
        "\n",
        "* Die **spezielle lineare Gruppe** $\\mathrm{SL}(n, K)$ besteht aus allen Matrizen mit der Determinante 1. $\\mathrm{SL}(n, K)$ ist ein Normalteiler von $\\mathrm{GL}(n, K)$, und die Faktorgruppe $\\mathrm{GL}(n, K) / \\mathrm{SL}(n, K)$ ist isomorph zu $K^{\\times}$, der Einheitengruppe von $K$ (ohne die 0).\n",
        "\n",
        "* Die **orthogonale Gruppe** $\\mathrm{O}(n, K)$ enthält alle orthogonalen Matrizen. Für $K=\\mathbb{R}$ beschreiben diese Matrizen Automorphismen des $\\mathbb{R}^{n}$, die die Euklidische Norm und das Skalarprodukt erhalten, also orthogonale Abbildungen.\n",
        "\n",
        "* Die **unitäre Gruppe** $\\mathrm{U}(n, \\mathbb{C})$ besteht aus allen unitären Matrizen, das heißt solcher Matrizen, deren Adjungierte gleich ihrer Inversen ist. Allgemeiner lässt sich die unitäre Gruppe als Untergruppe der linearen Abbildungen in einem Prähilbertraum definieren, ebenso wie die orthogonale Gruppe als Untergruppe der linearen Abbildungen in einem euklidischen Vektorraum aufgefasst werden kann.\n",
        "\n",
        "* Die **affine Gruppe** $\\mathrm{AGL}_{n}(K)$ ist eine Untergruppe von $\\mathrm{GL}(n+1, K)$"
      ]
    },
    {
      "cell_type": "markdown",
      "metadata": {
        "id": "xy09IYpwElU3"
      },
      "source": [
        "##### <font color=\"blue\">**Classical Group**"
      ]
    },
    {
      "cell_type": "markdown",
      "metadata": {
        "id": "pBKDFelGROwT"
      },
      "source": [
        "**The classical groups are exactly the general linear groups over R, C and H together with the automorphism groups of non-degenerate forms. These groups are usually additionally restricted to the subgroups whose elements have determinant 1, so that their centers are discrete.**"
      ]
    },
    {
      "cell_type": "markdown",
      "metadata": {
        "id": "dym9Ao9PE52P"
      },
      "source": [
        "* the classical groups are defined as **the special linear groups over the reals $\\mathbf{R}$, the complex numbers $\\mathbf{C}$ and the quaternions $\\mathbf{H}$** together with special automorphism groups of symmetric or skew-symmetric bilinear forms and Hermitian or skew-Hermitian sesquilinear forms defined on real, complex and quaternionic finitedimensional vector spaces. \n",
        "\n",
        "* Of these, the complex classical Lie groups are four infinite\n",
        "families of Lie groups that together with the exceptional groups exhaust the classification\n",
        "of simple Lie groups.\n",
        "\n",
        "* The compact classical groups are compact real forms of the\n",
        "complex classical groups. \n",
        "\n",
        "* The finite analogues of the classical groups are the classical\n",
        "groups of Lie type. The term \"classical group\" was coined by Hermann Weyl, it being the title of his 1939 monograph The Classical Groups."
      ]
    },
    {
      "cell_type": "markdown",
      "metadata": {
        "id": "8un-z4qDR_cl"
      },
      "source": [
        "![fff](https://raw.githubusercontent.com/deltorobarba/repo/master/classicalgroups.png)"
      ]
    },
    {
      "cell_type": "markdown",
      "metadata": {
        "id": "LOfwph2sEpLg"
      },
      "source": [
        "https://en.m.wikipedia.org/wiki/Classical_group"
      ]
    },
    {
      "cell_type": "markdown",
      "metadata": {
        "id": "2zqOIuVM8E94"
      },
      "source": [
        "##### <font color=\"blue\">**Special Linear Group**"
      ]
    },
    {
      "cell_type": "markdown",
      "metadata": {
        "id": "WMUuAyybT_e1"
      },
      "source": [
        "https://de.m.wikipedia.org/wiki/Spezielle_lineare_Gruppe"
      ]
    },
    {
      "cell_type": "markdown",
      "metadata": {
        "id": "_SWnYcyx8HB1"
      },
      "source": [
        "$\n",
        "\\begin{aligned}\n",
        "\\mathrm{SL}_{\\mathrm{n}}(\\mathbb{R}) &=\\text { Special Linear Group } \\\\\n",
        "&=n \\times n \\text { matrices with determinant = 1 }\n",
        "\\end{aligned}\n",
        "$"
      ]
    },
    {
      "cell_type": "markdown",
      "metadata": {
        "id": "Xi-SYCOIUvd-"
      },
      "source": [
        "* Die spezielle lineare Gruppe vom Grad $n$ über einem Körper $K$ (oder allgemeiner einem kommutativen, unitären Ring) ist die Gruppe aller $n \\times n$ Matrizen mit Koeffizienten aus $K$, deren Determinante 1 beträgt; diese werden auch unimodulare Matrizen genannt. Die\n",
        "Gruppenverknüpfung ist die Matrizenmultiplikation.\n",
        "\n",
        "* Die spezielle lineare Gruppe $\\mathrm{SL}(n, K)$ ist ein Normalteiler der allgemeinen linearen Gruppe $\\mathrm{GL}(n, K)$.\n",
        "\n",
        "* Wichtige Untergruppen der $\\mathrm{SL}(n, K)$ sind für $K=\\mathbb{R}$ die spezielle orthogonale Gruppe $\\mathrm{SO}(n)$ und für $K=\\mathbb{C}$ die spezielle unitäre Gruppe $\\mathrm{SU}(n)$.\n",
        "\n",
        "* Die spezielle lineare Gruppe $\\mathrm{SL}(n, K)$ über dem Körper $K=\\mathbb{R}$ oder $K=\\mathbb{C}$ ist eine Lie-Gruppe über $K$ der Dimension $n^{2}-1$.\n",
        "\n",
        "* Die speziellen linearen Gruppen sind [algebraische Gruppen](https://de.m.wikipedia.org/wiki/Algebraische_Gruppe), da die Bedingung, dass die Determinante gleich 1 sein muss, durch eine polynomiale Gleichung in den Matrix-Koeffizienten ausgedrückt werden kann.\n",
        "\n",
        "* Die spezielle lineare Gruppe $\\mathrm{SL}(n, K)$ beinhaltet alle orientierungstreuen und volumenerhaltenden linearen Abbildungen."
      ]
    },
    {
      "cell_type": "markdown",
      "metadata": {
        "id": "cmo0RyNGV8OV"
      },
      "source": [
        "Geometric Interpretation: The special linear group $\\operatorname{SL}(n, R)$ can be characterized as the group of volume and orientation preserving linear transformations of $\\mathbf{R}^{n}$; this corresponds to the interpretation of the determinant as measuring change in volume and orientation."
      ]
    },
    {
      "cell_type": "markdown",
      "metadata": {
        "id": "OYLvRwHgT3FT"
      },
      "source": [
        "##### <font color=\"blue\">**Orthogonal Groups $O_{n}$, Special Orthogonal Groups $SO_{n}$ & Spin Groups**"
      ]
    },
    {
      "cell_type": "markdown",
      "metadata": {
        "id": "k-MoWILqXcBf"
      },
      "source": [
        "**Orthogonale Gruppe**"
      ]
    },
    {
      "cell_type": "markdown",
      "metadata": {
        "id": "cQwH3JZGX2wE"
      },
      "source": [
        "* Die [orthogonale Gruppe](https://de.wikipedia.org/wiki/Orthogonale_Gruppe) $\\mathrm{O}(n)$ ist die Gruppe der orthogonalen $(n \\times n)$ Matrizen mit reellen Elementen. Die Verknüpfung der orthogonalen Gruppe ist die Matrizenmultiplikation. \n",
        "\n",
        "* **Bei der orthogonalen Gruppe handelt es sich um eine Lie-Gruppe der Dimension $\\frac{n(n-1)}{2}$**. \n",
        "\n",
        "* **The orthogonal group (2) is a subgroup of the general linear group with a set of 2 matrices** plus and additional structure\n",
        "\n",
        "* Da die Determinante einer orthogonalen Matrix nur die Werte $\\pm 1$ annehmen kann, zerfällt $\\mathrm{O}(n)$ in die beiden disjunkten Teilmengen (topologisch: Zusammenhangskomponenten)\n",
        "\n",
        "  * die Drehgruppe $\\mathrm{SO}(n)$ aller Drehungen (orthogonale Matrizen mit Determinante $+1$ ) \n",
        "  \n",
        "  * und $\\mathrm{O}(n) \\backslash \\mathrm{SO}(n)$ aller Drehspiegelungen (orthogonale Matrizen mit Determinante $-1$ ).\n",
        "\n",
        "* Die Untergruppe $\\mathrm{SO}(n)$ heißt die spezielle orthogonale Gruppe. Insbesondere ist die $\\mathrm{SO}(3)$ als die [Gruppe aller Drehungen](https://de.wikipedia.org/wiki/Drehgruppe) um eine durch den Koordinatenursprung verlaufende Achse im dreidimensionalen Raum von großer Bedeutung in zahlreichen Anwendungen, wie etwa der Computergraphik oder der Physik."
      ]
    },
    {
      "cell_type": "markdown",
      "metadata": {
        "id": "XR1eyqoQPjEb"
      },
      "source": [
        "Ausgehend von einem $n$ -dimensionalen euklidischen Vektorraum $V$ mit einem Skalarprodukt $\\langle\\cdot, \\cdot\\rangle: V \\times V \\rightarrow \\mathbb{R}$ definiert man:\n",
        "Ein Endomorphismus $f: V \\rightarrow V$ heißt orthogonal, falls $f$ das Skalarprodukt erhält, also falls für alle $u, v \\in V$ gilt:\n",
        "\n",
        ">$\n",
        "\\langle f(u), f(v)\\rangle=\\langle u, v\\rangle\n",
        "$\n",
        "\n",
        "Eine lineare Abbildung erhält genau dann das Skalarprodukt, wenn sie längen- und winkeltreu ist. \n",
        "\n",
        "**Die Menge aller orthogonalen Selbstabbildungen von $V$ heißt die orthogonale Gruppe von $V$, geschrieben als $\\mathrm{O}(V)$.**\n",
        "\n",
        "Bezüglich einer Orthonormalbasis von $V$ werden orthogonale Endomorphismen durch orthogonale Matrizen dargestellt. Gleichbedeutend hierzu ist folgende Formulierung: Versieht man den $\\mathbb{R}^{n}$ mit dem Standardskalarprodukt, so ist die Abbildung $\\mathbb{R}^{n} \\ni x \\mapsto A \\cdot x \\in \\mathbb{R}^{n}$ genau dann orthogonal, wenn die Matrix $A$ orthogonal ist."
      ]
    },
    {
      "cell_type": "markdown",
      "metadata": {
        "id": "e5y7_AZ9V6v0"
      },
      "source": [
        "**Special Orthogonal Group) $\\mathrm{SO}(2)$ (Drehgruppe / 2D rotation group)**"
      ]
    },
    {
      "cell_type": "markdown",
      "metadata": {
        "id": "2mfdpdztWwb7"
      },
      "source": [
        "* [Zweidimensionale Drehung](https://de.wikipedia.org/wiki/Drehgruppe#Zweidimensionale_Drehungen) / [Kreisgruppe](https://de.wikipedia.org/wiki/Kreisgruppe):\n",
        "\n",
        "* Die Kreisgruppe $SO(2)\\cong S^{1}$ oder Torusgruppe $\\mathbb{T}$  ist die Lie-Gruppe, die die Drehungen um einen festen Punkt im zweidimensionalen Raum (einer Ebene) zusammenfasst und die Hintereinanderausführung dieser Drehungen beschreibt. \n",
        "\n",
        "* Eine solche Drehung lässt sich eindeutig durch einen Winkel beschreiben, die Hintereinanderausführung zweier Drehungen entspricht gerade der Drehung um die Summe der beiden Winkel der einzelnen Drehungen. Eine volle Umdrehung wird dabei wiederum mit keiner Drehung identifiziert."
      ]
    },
    {
      "cell_type": "markdown",
      "metadata": {
        "id": "WWQXBG8xXVZD"
      },
      "source": [
        "*Die Hintereinanderausführung von Drehungen entspricht der Addition von Winkeln, hier: 150° + 270° = 420° = 60°*\n",
        "\n",
        "![ggg](https://upload.wikimedia.org/wikipedia/commons/a/aa/Circle-group.svg)"
      ]
    },
    {
      "cell_type": "markdown",
      "metadata": {
        "id": "dI5Kh05sTkX7"
      },
      "source": [
        "*Ebene Drehung*: Folgende $(2 \\times 2)$ -Matrizen $D\\left(\\varphi_{j}\\right) \\in \\mathrm{SO}(2)$ beschreiben zweidimensionale Drehungen um die Winkel $\\left.\\varphi_{j} \\in\\right] 0 ; \\pi[\\cup] \\pi ; 2 \\pi[$ der Form\n",
        "\n",
        "> $D(\\varphi)=\\left(\\begin{array}{cc}\\cos \\varphi & -\\sin \\varphi \\\\ \\sin \\varphi & \\cos \\varphi\\end{array}\\right)$\n",
        "\n",
        "Jedes $\\varphi_{j}$ gehört dabei zu einem Paar konjugiert komplexer Eigenwerte $\\mathrm{e}^{\\pm \\mathrm{i} \\cdot \\varphi_{j}}$. Dabei gilt natürlich $p+m+2 d=n$, falls $p$ die Anzahl der Diagonalelemente mit Wert $+1$ und $m$ die Anzahl der Diagonalelemente mit Wert $-1$ repräsentieren. Offenbar ist $A$ genau dann eine Drehung, wenn $m$, die geometrische wie auch algebraische Vielfachheit des Eigenwertes $-1$, eine gerade Zahl ist."
      ]
    },
    {
      "cell_type": "markdown",
      "metadata": {
        "id": "lQLqmR6fTUXs"
      },
      "source": [
        "*Ebene Drehspiegelung*: Neben den ebenen Drehungen, die den Matrizen $D(\\varphi) \\in \\mathrm{SO}(2)$ entsprechen, sind auch die Drehspiegelungen\n",
        "\n",
        "> $\n",
        "S(\\varphi)=\\left(\\begin{array}{cc}\n",
        "\\cos \\varphi & \\sin \\varphi \\\\\n",
        "\\sin \\varphi & -\\cos \\varphi\n",
        "\\end{array}\\right)\n",
        "$\n",
        "\n",
        "orthogonale Matrizen. Die Eigenwerte von $S$ sind 1 und $-1$; folglich handelt es sich um eine Achsenspiegelung die sich nach einer Drehung des Koordinatensystems um $\\frac{\\varphi}{2}$ als $\\left(\\begin{array}{cc}1 & 0 \\\\ 0 & -1\\end{array}\\right)$ schreiben lässt."
      ]
    },
    {
      "cell_type": "markdown",
      "metadata": {
        "id": "O_kK64geYCrR"
      },
      "source": [
        "**Special Orthogonal Group $\\mathrm{SO}(3)$ (Drehgruppe / 3D rotation group)**"
      ]
    },
    {
      "cell_type": "markdown",
      "metadata": {
        "id": "Fjm61K_jYe9x"
      },
      "source": [
        "* Die [Drehgruppe](https://de.wikipedia.org/wiki/Drehgruppe) bzw. [3D rotation group](https://en.wikipedia.org/wiki/3D_rotation_group) im engeren Sinn ist die spezielle orthogonale Gruppe $\\mathrm{SO}(n)$ oder auch $\\mathrm{SO}(n, \\mathbb{R})$ aller Drehungen im reellen dreidimensionalen Raum (falls $n=3$ ) oder in der reellen Ebene (falls $n=2$ ), in letzterem Fall heißt sie Kreisgruppe. \n",
        "\n",
        "* Ihre Elemente sind die [Drehmatrizen](https://de.wikipedia.org/wiki/Drehmatrix), also orthogonale Matrizen mit Determinante eins."
      ]
    },
    {
      "cell_type": "markdown",
      "metadata": {
        "id": "4LbQfMdXUuAQ"
      },
      "source": [
        "*Räumliche Drehung*: Nach der oben beschriebenen Normalform lässt sich jede\n",
        "Drehung im Raum durch Wahl einer geeigneten Orthonormalbasis durch eine Matrix\n",
        "\n",
        ">$\n",
        "D_{1}(\\varphi)=\\left(\\begin{array}{ccc}\n",
        "1 & 0 & 0 \\\\\n",
        "0 & \\cos \\varphi & -\\sin \\varphi \\\\\n",
        "0 & \\sin \\varphi & \\cos \\varphi\n",
        "\\end{array}\\right)\n",
        "$\n",
        "\n",
        "beschreiben, wobei mit $\\varphi \\in[0 ; 2 \\pi[$ auch alle Sonderfälle erfasst werden. Die genannte Matrix $D_{1}(\\varphi)$ beschreibt eine Drehung um die $x_{1}$ -Achse. Insbesondere verfügt jede echte räumliche Drehung über eine Drehachse. \n",
        "\n",
        "Fischer verdeutlicht dies am\n",
        "Beispiel eines Fußballes auf dem Anstoßpunkt: Nach dem ersten\n",
        "Tor gibt es zwei sich gegenüberliegende Punkte auf dem Ball, die jetzt exakt genauso zum Stadion ausgerichtet sind, wie zu Beginn des Spieles. Der Winkel $\\varphi$ ist aufgrund des orientierungserhaltenden Charakters der zugelassenen Transformationsmatrizen $P \\in \\mathrm{SO}(3)$ eindeutig festgelegt; dies geht mit der aus dem Alltag bekannten Erfahrung einher, dass es - zumindest theoretisch - stets feststeht, in welche Richtung man eine Schraube drehen muss, um diese fester anzuziehen."
      ]
    },
    {
      "cell_type": "markdown",
      "metadata": {
        "id": "33jdDfMbU_Vj"
      },
      "source": [
        "*Räumliche Drehspiegelung*: Nach der oben beschriebenen Normalform lässt sich jede\n",
        "Drehspiegelung im Raum durch Wahl einer geeigneten Orthonormalbasis durch eine Matrix\n",
        "\n",
        ">$\n",
        "\\left(\\begin{array}{ccc}\n",
        "-1 & 0 & 0 \\\\\n",
        "0 & \\cos \\varphi & -\\sin \\varphi \\\\\n",
        "0 & \\sin \\varphi & \\cos \\varphi\n",
        "\\end{array}\\right)\n",
        "$\n",
        "\n",
        "beschreiben, wobei mit $\\varphi \\in[0 ; 2 \\pi[$ auch alle Sonderfälle erfasst werden. Auch hier ist der Winkel $\\varphi$ eindeutig, sofern man die\n",
        "Orientierung des Raumes nicht umkehrt."
      ]
    },
    {
      "cell_type": "markdown",
      "metadata": {
        "id": "DD4ku9gqVpPx"
      },
      "source": [
        "**Special Orthogonal Group $\\mathrm{SO}(4)$**"
      ]
    },
    {
      "cell_type": "markdown",
      "metadata": {
        "id": "-9EWFZeTVNv7"
      },
      "source": [
        "*Eine doppelte Drehung im vierdimensionalen Raum*: Im vierdimensionalen Raum ist eine gleichzeitige Drehung mit zwei unabhängigen Drehwinkeln möglich:\n",
        "\n",
        ">$\n",
        "D(\\varphi, \\psi)=\\left(\\begin{array}{cc}\n",
        "D(\\varphi) & 0 \\\\\n",
        "0 & D(\\psi)\n",
        "\\end{array}\\right) \\in \\mathrm{SO}(4)\n",
        "$\n",
        "\n",
        "Vertauscht man bei einer zweidimensionalen Drehung $D(\\varphi)$ die beiden Basisvektoren, so erhält man die Drehung $D(2 \\pi-\\varphi)$. Das ist nicht verwunderlich, hat man doch gleichzeitig die Orientierung der Ebene verändert. Vertauscht man nun im vorliegenden Beispiel gleichzeitig den ersten mit dem zweiten wie auch den dritten mit dem vierten Basisvektor, so bleibt die Orientierung erhalten, aber aus $D(\\varphi, \\psi)$ wird $D(2 \\pi-\\varphi, 2 \\pi-\\psi)$"
      ]
    },
    {
      "cell_type": "markdown",
      "metadata": {
        "id": "z1UCLDxQXfb0"
      },
      "source": [
        "**Special Orthogonal Group $\\mathrm{SO}(8)$**"
      ]
    },
    {
      "cell_type": "markdown",
      "metadata": {
        "id": "jyLZjFQjZJ0O"
      },
      "source": [
        "* [SO(8)](https://en.wikipedia.org/wiki/SO(8)) is the special orthogonal group acting on eight-dimensional Euclidean space. It could be either a real or complex simple Lie group of rank 4 and dimension 28.\n",
        "\n",
        "* Like all special orthogonal groups of $n>2, \\mathrm{SO}(8)$ is not [simply connected](https://en.wikipedia.org/wiki/Simply_connected_space), having a [fundamental group](https://en.wikipedia.org/wiki/Fundamental_group) isomorphic to $\\mathrm{Z}_{2}$. The universal cover of $\\mathrm{SO}(8)$ is the spin group $\\operatorname{Spin}(8)$."
      ]
    },
    {
      "cell_type": "markdown",
      "metadata": {
        "id": "yMNvBMiPerMS"
      },
      "source": [
        "*SO(8) and Unit Octonions*\n",
        "\n",
        "* Elements of SO(8) can be described with unit octonions, analogously to how elements of SO(2) can be described with unit complex numbers and elements of SO(4) can be described with unit quaternions. \n",
        "\n",
        "* However the relationship is more complicated, partly due to the non-associativity of the octonions. A general element in SO(8) can be described as the product of 7 left-multiplications, 7 right-multiplications and also 7 bimultiplications by unit octonions (a bimultiplication being the composition of a left-multiplication and a right-multiplication by the same octonion and is unambiguously defined due to octonions obeying the Moufang identities).\n",
        "\n",
        "* It can be shown that an element of SO(8) can be constructed with bimultiplications, by first showing that pairs of reflections through the origin in 8-dimensional space correspond to pairs of bimultiplications by unit octonions. The triality automorphism of Spin(8) described below provides similar constructions with left multiplications and right multiplications."
      ]
    },
    {
      "cell_type": "markdown",
      "metadata": {
        "id": "lcJZaxaAdhTx"
      },
      "source": [
        "**Spin Group**"
      ]
    },
    {
      "cell_type": "markdown",
      "metadata": {
        "id": "1t-EwENrdmP8"
      },
      "source": [
        "* Die [Spin-Gruppe](https://de.wikipedia.org/wiki/Spin-Gruppe) bzw. [Spin group](https://en.wikipedia.org/wiki/Spin_group) ist ein Objekt aus der Mathematik und Physik, insbesondere aus den Bereichen der Spektralgeometrie und Quantenmechanik. \n",
        "\n",
        "* Eine zentrale Eigenschaft der Spin-Gruppe \n",
        "Spin $\\operatorname {Spin} (n)$ ist, dass sie eine 2-fache Überlagerung der Drehgruppe $SO(n)$ ist.\n",
        "\n",
        "* The spin group is used in physics to describe the symmetries of (electrically neutral, uncharged) fermions."
      ]
    },
    {
      "cell_type": "markdown",
      "metadata": {
        "id": "IQ-yn71fgo_I"
      },
      "source": [
        "##### <font color=\"blue\">**SO(3) und SU(2)**"
      ]
    },
    {
      "cell_type": "markdown",
      "metadata": {
        "id": "yzeDzO1fg-5G"
      },
      "source": [
        "https://de.m.wikipedia.org/wiki/SU(2)"
      ]
    },
    {
      "cell_type": "markdown",
      "metadata": {
        "id": "3UQVn2Dlgvdg"
      },
      "source": [
        "https://www.mat.univie.ac.at/~westra/so3su2.pdf"
      ]
    },
    {
      "cell_type": "markdown",
      "metadata": {
        "id": "E1E3vf4A6Y26"
      },
      "source": [
        "##### <font color=\"blue\">**Unitäre Gruppe $U (H)$ & Spezielle unitäre Gruppe $SU(n)$**"
      ]
    },
    {
      "cell_type": "markdown",
      "metadata": {
        "id": "efblXIfRhCEQ"
      },
      "source": [
        "* Die [unitäre Gruppe](https://de.m.wikipedia.org/wiki/Unitäre_Gruppe) $\\mathrm {U} (H)$ über einem komplexen Hilbertraum $H$ die Gruppe aller unitären komplex linearen Abbildungen über $H$. \n",
        "\n",
        "* Unitäre Gruppen und ihre Untergruppen spielen eine zentrale Rolle in der Quantenphysik, wo sie zur Beschreibung von Symmetrien der Wellenfunktion dienen."
      ]
    },
    {
      "cell_type": "markdown",
      "metadata": {
        "id": "6X-XO1Tu6fQC"
      },
      "source": [
        "https://de.m.wikipedia.org/wiki/Spezielle_unitäre_Gruppe"
      ]
    },
    {
      "cell_type": "markdown",
      "metadata": {
        "id": "G9sx1JsWOyQh"
      },
      "source": [
        "##### <font color=\"blue\">**E<sub>8</sub> (Lie Group)**"
      ]
    },
    {
      "cell_type": "markdown",
      "metadata": {
        "id": "1KNiqVtDO6IN"
      },
      "source": [
        "https://en.m.wikipedia.org/wiki/E8_(mathematics)"
      ]
    },
    {
      "cell_type": "markdown",
      "metadata": {
        "id": "d_Jf_ALONKEV"
      },
      "source": [
        "##### <font color=\"blue\">**Lorentz-Gruppe**"
      ]
    },
    {
      "cell_type": "markdown",
      "metadata": {
        "id": "6OR5KKx-NRoP"
      },
      "source": [
        "* Die [Lorentz-Gruppe](https://de.wikipedia.org/wiki/Lorentz-Gruppe) ist in der Physik und in der Mathematik die Gruppe aller [Lorentz-Transformationen](https://de.wikipedia.org/wiki/Lorentz-Transformation) der [Minkowski-Raumzeit](https://de.wikipedia.org/wiki/Minkowski-Raum).\n",
        "\n",
        "  * Die Lorentz-Transformationen bilden die Grundlage der Speziellen Relativitätstheorie von Albert Einstein.\n",
        "\n",
        "  * Das Äquivalent zu den Lorentz-Transformationen im dreidimensionalen euklidischen Raum sind die Galilei-Transformationen\n",
        "\n",
        "* Die Lorentz-Gruppe drückt die fundamentale Symmetrie (oder: die Automorphismen) vieler bekannter Naturgesetze dadurch aus, dass sie diese invariant lässt: so insbesondere die Bewegungsgleichungen der speziellen Relativitätstheorie, die Maxwellschen Feldgleichungen der Theorie des Elektromagnetismus, und die Dirac-Gleichung der Theorie des Elektrons."
      ]
    },
    {
      "cell_type": "markdown",
      "metadata": {
        "id": "UIPW4ZOnR07e"
      },
      "source": [
        "##### <font color=\"blue\">**Symplectic group $Sp(n)$**"
      ]
    },
    {
      "cell_type": "markdown",
      "metadata": {
        "id": "FaX7crtxFTKy"
      },
      "source": [
        "* The symplectic group is a classical group defined as the set of linear transformations of a 2n-dimensional vector space over the field F which preserve a non-degenerate skew-symmetric bilinear form. "
      ]
    },
    {
      "cell_type": "markdown",
      "metadata": {
        "id": "fJQhnQJzR6c5"
      },
      "source": [
        "https://en.m.wikipedia.org/wiki/Symplectic_group"
      ]
    },
    {
      "cell_type": "markdown",
      "metadata": {
        "id": "0yFvFIvMQ2bS"
      },
      "source": [
        "#### **Topological Group**"
      ]
    },
    {
      "cell_type": "markdown",
      "metadata": {
        "id": "ua2NhJSsQ6WR"
      },
      "source": [
        "https://en.m.wikipedia.org/wiki/Topological_group"
      ]
    },
    {
      "cell_type": "markdown",
      "metadata": {
        "id": "Rvz7HVx2RAZW"
      },
      "source": [
        "https://en.m.wikipedia.org/wiki/Harmonic_analysis"
      ]
    },
    {
      "cell_type": "markdown",
      "metadata": {
        "id": "sjRu4oEnRDG6"
      },
      "source": [
        "https://en.m.wikipedia.org/wiki/Automorphic_form"
      ]
    },
    {
      "cell_type": "markdown",
      "metadata": {
        "id": "17JkJZKtVD9m"
      },
      "source": [
        "#### **Miscellaneous**"
      ]
    },
    {
      "cell_type": "markdown",
      "metadata": {
        "id": "IOwF6ku6XB7L"
      },
      "source": [
        "https://de.wikipedia.org/wiki/Hyperbolische_Gruppe"
      ]
    },
    {
      "cell_type": "markdown",
      "metadata": {
        "id": "rLK1eXKkXPBy"
      },
      "source": [
        "https://de.m.wikipedia.org/wiki/Freie_Gruppe"
      ]
    },
    {
      "cell_type": "markdown",
      "metadata": {
        "id": "pIzAK34QXSLW"
      },
      "source": [
        "In Abwesenheit jeglicher Relationen spricht man auch von der freien Gruppe über den gegebenen Erzeugern. (source: https://de.m.wikipedia.org/wiki/Präsentation_einer_Gruppe)"
      ]
    },
    {
      "cell_type": "markdown",
      "metadata": {
        "id": "rtesPD5BjIT3"
      },
      "source": [
        "![cc](https://raw.githubusercontent.com/deltorobarba/repo/master/groups.png)"
      ]
    },
    {
      "cell_type": "markdown",
      "metadata": {
        "id": "a1FwUKmITETL"
      },
      "source": [
        "https://www.chemie.de/lexikon/Gruppentheorie.html"
      ]
    },
    {
      "cell_type": "markdown",
      "metadata": {
        "id": "en_F0jKMkORe"
      },
      "source": [
        "##### **Quaternionengruppe Q8**"
      ]
    },
    {
      "cell_type": "markdown",
      "metadata": {
        "id": "FvzzqaDckRiR"
      },
      "source": [
        "https://de.m.wikipedia.org/wiki/Quaternionengruppe"
      ]
    },
    {
      "cell_type": "markdown",
      "metadata": {
        "id": "6eBMRTBWR-CB"
      },
      "source": [
        "##### **Kleinsche Vierergruppe**"
      ]
    },
    {
      "cell_type": "markdown",
      "metadata": {
        "id": "kHSD2x7eSCAB"
      },
      "source": [
        "https://de.wikipedia.org/wiki/Kleinsche_Vierergruppe"
      ]
    },
    {
      "cell_type": "markdown",
      "metadata": {
        "id": "xAjW1DVyevEU"
      },
      "source": [
        "#### **Anwendungen in Physik, Chemie etc.**"
      ]
    },
    {
      "cell_type": "markdown",
      "metadata": {
        "id": "4YkK1CKxrsRK"
      },
      "source": [
        "**Festkörperchemie, Molekülphysik, Structural Biology & Kristallographie**\n",
        "\n",
        "* **Raumgruppen in der Kristallographie und Kristallstrukturanalyse**\n",
        "\n",
        "  * [Liste der Raumgruppen](https://de.wikipedia.org/wiki/Liste_der_Raumgruppen) mit dem [Bravais-Gitter](https://de.m.wikipedia.org/wiki/Bravais-Gitter) in der [Kristallographie](https://de.wikipedia.org/wiki/Kristallographie)\n",
        "\n",
        "  * Video [Die Welt der Werkstoffe](https://www.youtube.com/watch?v=l9HiwE4qXd4) und [Video Kristallstrukturen](https://www.youtube.com/watch?v=S4tS1g2Npvk)\n",
        "\n",
        "  * Interessantes Paper [ML for Learning Crystallography Diffraction Patterns (DeepFreak)](https://dawn.cs.stanford.edu/2019/04/23/deepfreak/)\n",
        "\n",
        "  * [X-ray crystallography](https://en.m.wikipedia.org/wiki/X-ray_crystallography) bzw. [Kristallstrukturanalyse](https://de.wikipedia.org/wiki/Kristallstrukturanalyse) in [Structural_biology](https://en.m.wikipedia.org/wiki/Structural_biology) for Protein crystallography\n",
        "\n",
        "* **Punktgruppen und Molekülsymmetrie in der Molekülphysik**\n",
        "\n",
        "  * [Punktgruppen in der Molekülphysik](https://de.wikipedia.org/wiki/Punktgruppe#Punktgruppen_in_der_Molekülphysik): zB [Benzol](https://de.wikipedia.org/wiki/Benzol) kann beschrieben werden durch die Diedergruppe mit horizontalen Spiegelebenen $D_{6h}$\n",
        "\n",
        "  * [Molecular symmetry](https://en.m.wikipedia.org/wiki/Molecular_symmetry)\n",
        "  \n",
        "    * is a fundamental concept in chemistry, as it can be used to predict or explain many of a molecule's chemical properties, such as its dipole moment and its allowed spectroscopic transitions.\n",
        "    \n",
        "    * The framework for the study of molecular symmetry is provided by group theory, and in particular irreducible representation theory. \n",
        "\n",
        "    * Many techniques for the practical assessment of molecular symmetry exist, including X-ray crystallography and various forms of spectroscopy. Spectroscopic notation is based on symmetry considerations.\n",
        "\n",
        "  * [Chiralität](https://de.m.wikipedia.org/wiki/Chiralität_(Chemie)) bzw. in der Kristallographie wird sie auch Enantiomorphie genannt."
      ]
    },
    {
      "cell_type": "markdown",
      "metadata": {
        "id": "caRJ4rvXe2YY"
      },
      "source": [
        "**Symmetrien (Invarianzen) in der Physik**\n",
        "\n",
        "* Punktsymmetrie und CP verletzung: https://de.m.wikipedia.org/wiki/CP-Verletzung\n",
        "* Drehsymmetrie und Nicht-Magnetismus: https://de.m.wikipedia.org/wiki/Symmetriebrechung\n",
        "\n",
        "* mathematische Beschreibung von Symmetrien erfolgt durch die Gruppentheorie:\n",
        "\n",
        "  * https://de.m.wikipedia.org/wiki/Symmetrie_(Physik)\n",
        "\n",
        "  * https://de.m.wikipedia.org/wiki/Noether-Theorem\n",
        "\n",
        "* [Große vereinheitlichte Theorie](https://de.m.wikipedia.org/wiki/Große_vereinheitlichte_Theorie): (SU(3)C der [Quantenchromodynamik](https://de.m.wikipedia.org/wiki/Quantenchromodynamik), SU(2)I × U(1)Y der elektroschwachen Wechselwirkung) in einer übergeordneten Eichgruppe. Viele solche Modelle, besonders SU(5) und SO(10), aber auch exotische [Liegruppen](https://de.m.wikipedia.org/wiki/Lie-Gruppe) bis zu E(8) wurden, beginnend mit der Durchsetzung des Standardmodells in den 1970er Jahren, untersucht. Dabei steht SU für die [spezielle unitäre Gruppe](https://de.m.wikipedia.org/wiki/Spezielle_unitäre_Gruppe), U für die [unitäre Gruppe](https://de.m.wikipedia.org/wiki/Unitäre_Gruppe), O für die [orthogonale Gruppe](https://de.m.wikipedia.org/wiki/Orthogonale_Gruppe) und SO für die spezielle orthogonale Gruppe. \n",
        "\n",
        "* [Supersymmetrie](https://de.m.wikipedia.org/wiki/Supersymmetrie): Supersymmetriealgebra, Die Supersymmetrietransformationen, die Fermionen und Bosonen ineinander umwandeln, erweitern die Raumzeitsymmetrie, die [Poincaré-Gruppe](https://de.m.wikipedia.org/wiki/Poincaré-Gruppe).\n",
        "* [Spiegelsymmetrie](https://en.m.wikipedia.org/wiki/Mirror_symmetry_(string_theory))\n"
      ]
    },
    {
      "cell_type": "markdown",
      "metadata": {
        "id": "JkJKPC4Ari2q"
      },
      "source": [
        "**Cryptographie**\n",
        "\n",
        "* Generalization to finite cyclic groups in [Diffie–Hellman_key_exchange](https://en.m.wikipedia.org/wiki/Diffie–Hellman_key_exchange#Generalization_to_finite_cyclic_groups)\n",
        "\n",
        "* [Ellyptic curve cryptography](https://de.m.wikipedia.org/wiki/Elliptic_Curve_Cryptography) (Auf elliptischen Kurven kann eine additive zyklische Gruppe definiert werden, die aus den Vielfachen eines Punktes auf der Kurve, des Erzeugers der Gruppe, besteht.)\n",
        "\n",
        "* Quantum Key Distribution: BB84 and E91"
      ]
    },
    {
      "cell_type": "markdown",
      "metadata": {
        "id": "Qwj5Nm1dQgzJ"
      },
      "source": [
        "**Ikosaeder**\n",
        "\n",
        "https://de.wikipedia.org/wiki/Ikosaeder"
      ]
    },
    {
      "cell_type": "markdown",
      "metadata": {
        "id": "3sruHKY7mf53"
      },
      "source": [
        "https://www.youtube.com/watch?v=UHZam0Zf1FQ"
      ]
    },
    {
      "cell_type": "markdown",
      "metadata": {
        "id": "b0DTqfYINTxK"
      },
      "source": [
        "#### **Representation Theory**"
      ]
    },
    {
      "cell_type": "markdown",
      "metadata": {
        "id": "MBeQaZDyagb6"
      },
      "source": [
        "https://www.quantamagazine.org/the-useless-perspective-that-transformed-mathematics-20200609/"
      ]
    },
    {
      "cell_type": "markdown",
      "metadata": {
        "id": "aLx7kLBuNV6I"
      },
      "source": [
        "**Darstellungstheorie**\n",
        "\n",
        "https://de.wikipedia.org/wiki/Darstellungstheorie"
      ]
    },
    {
      "cell_type": "markdown",
      "metadata": {
        "id": "8exxuyJ99-_f"
      },
      "source": [
        "https://de.m.wikipedia.org/wiki/Präsentation_einer_Gruppe"
      ]
    },
    {
      "cell_type": "markdown",
      "metadata": {
        "id": "uOYAsmA2amtS"
      },
      "source": [
        "**Group Representations**\n",
        "\n",
        "* [Representations of groups](https://en.wikipedia.org/wiki/Group_representation) bzw. [Darstellung (Gruppe)](https://de.wikipedia.org/wiki/Darstellung_(Gruppe)) are important because they allow many group-theoretic problems to be reduced to problems in linear algebra, which is well understood. \n",
        "\n",
        "* Die Grundidee ist, die Elemente einer Gruppe durch Transformationen bestimmter mathematischer Objekte darzustellen.\n",
        "\n",
        "* They are also important in physics because, for example, they describe how the symmetry group of a physical system affects the solutions of equations describing that system."
      ]
    },
    {
      "cell_type": "markdown",
      "metadata": {
        "id": "SlGY8OoabIdA"
      },
      "source": [
        "**Darstellungstheorie endlicher Gruppen**\n",
        "\n",
        "* In der [Darstellungstheorie endlicher Gruppen](https://de.wikipedia.org/wiki/Darstellungstheorie_endlicher_Gruppen) wird untersucht, wie Gruppen auf gegebenen Strukturen operieren.\n",
        "\n",
        "* Man betrachtet vor allem die Operationen von Gruppen auf Vektorräumen (lineare Darstellungen). Allerdings werden auch die Operationen von Gruppen auf anderen Gruppen oder auf Mengen ([Permutationsdarstellung](https://de.m.wikipedia.org/wiki/Permutationsgruppe#Permutationsdarstellung)) betrachtet."
      ]
    },
    {
      "cell_type": "markdown",
      "metadata": {
        "id": "TWmdU_2za1cu"
      },
      "source": [
        "**Irreducible representation**\n",
        "\n",
        "* In the representation theory of groups and algebras, an [irreducible representation](https://en.m.wikipedia.org/wiki/Irreducible_representation) $(\\rho, V)$ or irrep of an\n",
        "algebraic structure $A$ is a nonzero representation that has no proper nontrivial subrepresentation $\\left(\\left.\\rho\\right|_{W}, W\\right)$, with $W \\subset V$ closed under the action of $\\{\\rho(a): a \\in A\\}$."
      ]
    },
    {
      "cell_type": "markdown",
      "metadata": {
        "id": "5ekpi0Q18ba2"
      },
      "source": [
        "**Charakter (Mathematik)**\n",
        "\n",
        "* Im mathematischen Teilgebiet der Darstellungstheorie von Gruppen sind [Charaktere](https://de.m.wikipedia.org/wiki/Charakter_(Mathematik)) gewisse Abbildungen von der Gruppe in einen Körper, in der Regel in den Körper der komplexen Zahlen."
      ]
    },
    {
      "cell_type": "markdown",
      "metadata": {
        "id": "gBdBrItNa76q"
      },
      "source": [
        "Jim Simons: differential characters & characteristic classes"
      ]
    },
    {
      "cell_type": "markdown",
      "metadata": {
        "id": "iV6gKFRSbKhn"
      },
      "source": [
        "https://www.simonsfoundation.org/2012/09/28/simons-foundation-chair-jim-simons-on-his-career-in-mathematics/"
      ]
    },
    {
      "cell_type": "markdown",
      "metadata": {
        "id": "32ZEV8Yo8AZC"
      },
      "source": [
        "**Character Table**\n",
        "\n",
        "https://en.m.wikipedia.org/wiki/Character_table\n",
        "\n",
        "* Molecular symmetry is a fundamental concept in chemistry, as it can be used to predict or explain many of a molecule's chemical properties, such as its dipole moment and its allowed spectroscopic transitions. \n",
        "\n",
        "* To do this it is necessary to classify the states of the molecule **using the irreducible representations from the character table of the symmetry group of the molecule.**"
      ]
    },
    {
      "cell_type": "markdown",
      "metadata": {
        "id": "ZDqJB-vtXMJ1"
      },
      "source": [
        "## **Ringe**"
      ]
    },
    {
      "cell_type": "markdown",
      "metadata": {
        "id": "VxmoaUOGsy25"
      },
      "source": [
        "https://youtu.be/_RTHvweHlhE"
      ]
    },
    {
      "cell_type": "markdown",
      "metadata": {
        "id": "OopbidMRxquB"
      },
      "source": [
        "Watch Polynomring: https://www.youtube.com/watch?v=9fh1QK2yR3g&t=756s"
      ]
    },
    {
      "cell_type": "markdown",
      "metadata": {
        "id": "-OTesLFXKrcu"
      },
      "source": [
        "##### **Ring und kommutativer Ring**"
      ]
    },
    {
      "cell_type": "markdown",
      "metadata": {
        "id": "aU3_l3Z4nBmg"
      },
      "source": [
        "Ein Ring ist eine Menge R mit **zwei inneren binären Verknüpfungen** „+“ und „∙“, sodass gilt:\n",
        "1. **Addition: (R, +) ist eine abelsche Gruppe**\n",
        "\n",
        "* Addition is associative and commutative;\n",
        "\n",
        "* There is an additive identity, zero;\n",
        "\n",
        "* Every element has an additive inverse;\n",
        "\n",
        "2. **Multiplikation: (R, ∙) ist eine Halbgruppe**, das bedeutet:\n",
        "\n",
        "* Halbgruppe in der Multiplikation im Ring: **nur nur die Assoziativität, aber keine Inverse, neutrales element oder kommutativität**) \n",
        "\n",
        "> **Das bedeutet: -> Sowohl Ringe als auch Körper verlangen, dass bzgl. der Addition eine kommutative Gruppe vorliegt (abelsch!). Bei der Multiplikation erfolgt der Übergang vom Ring zum Körper durch die Verschärfung der Forderungen**\n",
        "\n",
        "* Unlike a field, a ring is not required to have multiplicative inverses, and the multiplication is not required to be commutative. \n",
        "\n",
        "> **A good example of a ring is the set of all n×n matrices under the operations of matrix addition and matrix multiplication.** [Matrix-Multiplication is non-commutative!](https://en.m.wikipedia.org/wiki/Matrix_multiplication#Non-commutativity)\n",
        "\n",
        "$\\mathbf{A B} \\neq \\mathbf{B A}$\n",
        "For example\n",
        "\n",
        "$\n",
        "\\left(\\begin{array}{ll}\n",
        "0 & 1 \\\\\n",
        "0 & 0\n",
        "\\end{array}\\right)\\left(\\begin{array}{ll}\n",
        "0 & 0 \\\\\n",
        "1 & 0\n",
        "\\end{array}\\right)=\\left(\\begin{array}{ll}\n",
        "1 & 0 \\\\\n",
        "0 & 0\n",
        "\\end{array}\\right)\n",
        "$\n",
        "\n",
        "but\n",
        "\n",
        "$\n",
        "\\left(\\begin{array}{ll}\n",
        "0 & 0 \\\\\n",
        "1 & 0\n",
        "\\end{array}\\right)\\left(\\begin{array}{ll}\n",
        "0 & 1 \\\\\n",
        "0 & 0\n",
        "\\end{array}\\right)=\\left(\\begin{array}{ll}\n",
        "0 & 0 \\\\\n",
        "0 & 1\n",
        "\\end{array}\\right)\n",
        "$\n",
        "\n",
        "> **The integers Z also form a ring under the operations of addition and multiplication.**\n",
        "\n",
        "3. **Die Distributivgesetze a*(b+c)=a*b+a*c und (a+b)*c = a*c+b*c sind für alle a,b,c ε $R$ erfüllt.**\n",
        "\n",
        "4. **Das neutrale Element 0 von (R, +) heißt Nullelement von R.**\n",
        "\n",
        "**Ein Ring heißt kommutativ**, falls er bezüglich der Multiplikation kommutativ ist (Ein Ring heißt kommutativ, falls er bezüglich der Multiplikation kommutativ ist, ansonsten spricht man von einem nicht-kommutativen Ring.)"
      ]
    },
    {
      "cell_type": "markdown",
      "metadata": {
        "id": "IhQhUv7dEfrU"
      },
      "source": [
        "https://de.m.wikipedia.org/wiki/Ring_(Algebra)"
      ]
    },
    {
      "cell_type": "markdown",
      "metadata": {
        "id": "9oUnGjnLYGdF"
      },
      "source": [
        "https://en.m.wikipedia.org/wiki/Ring_(mathematics)"
      ]
    },
    {
      "cell_type": "markdown",
      "metadata": {
        "id": "aR14OZzRJUkG"
      },
      "source": [
        "Beispiele:"
      ]
    },
    {
      "cell_type": "markdown",
      "metadata": {
        "id": "3ajn582YCTF0"
      },
      "source": [
        "* 2×2 Real matrices.\n",
        "\n",
        "* Das wichtigste Beispiel eines Ringes sind die Integers / ist die Menge (􏰁$\\mathbb Z$,+,∙) der ganzen Zahlen mit der üblichen Addition und Multiplikation. Es handelt sich dabei um einen nullteilerfreien kommutativen Ring mit Einselement, also einen Integritätsring.\n",
        "\n",
        "* the Integers modulo some Natural number greater than one;\n",
        "\n",
        "* Ebenso bildet ($\\mathbb Q$,+,∙) der rationalen Zahlen mit der üblichen Addition und Multiplikation einen Ring. Da in diesem Fall nicht nur ($\\mathbb Q$,+), sondern auch ($\\mathbb Q$ \\ {0},∙) eine abelsche Gruppe bildet, liegt sogar ein Körper vor; es handelt sich dabei um den Quotientenkörper des Integritätsringes (􏰁$\\mathbb Z$,+,∙).\n",
        "\n",
        "* Kein Ring ist die Menge ($\\mathbb N$􏰀,+,∙) der natürlichen Zahlen mit der üblichen Addition und Multiplikation, da die Addition über den natürlichen Zahlen nicht invertierbar ist."
      ]
    },
    {
      "cell_type": "markdown",
      "metadata": {
        "id": "8HZucJQ2LK-z"
      },
      "source": [
        "https://www.quora.com/What-are-the-differences-between-rings-and-fields"
      ]
    },
    {
      "cell_type": "markdown",
      "metadata": {
        "id": "ewHjxqYobJU4"
      },
      "source": [
        "https://en.m.wikipedia.org/wiki/Ring_theory"
      ]
    },
    {
      "cell_type": "markdown",
      "metadata": {
        "id": "GC1gOJZOAcdm"
      },
      "source": [
        "##### **Halbring und kommutativer Halbring**"
      ]
    },
    {
      "cell_type": "markdown",
      "metadata": {
        "id": "IbZlHiCiCY-F"
      },
      "source": [
        "* Ein Halbring ist die Verallgemeinerung der algebraischen Struktur eines Ringes, in der die **Addition nicht mehr eine kommutative Gruppe, sondern nur noch eine kommutative Halbgruppe sein muss** (mit Abgeschlossenheit und Assoziativität, aber nicht: Neutral (identity element), inverse, kommunitativ).\n",
        "\n",
        "* Ein Halbring (engl.: Semiring) ist eine algebraische Struktur $(H,+, \\cdot)$ mit einer (nichtleeren) Menge $H$ und mit zwei zweistelligen Verknüpfungen $+: H \\times H \\rightarrow H$ (Addition) und $\\because H \\times H \\rightarrow H$ (Multiplikation), für die gilt:\n",
        "\n",
        "1. $(H,+)$ ist eine kommutative Halbgruppe.\n",
        "\n",
        "2. $(H, \\cdot)$ ist eine Halbgruppe.\n",
        "\n",
        "3. Es gelten die Distributivgesetze, d. h. für alle $a, b, c \\in H$ gilt $(a+b) \\cdot c=a \\cdot c+b \\cdot c \\quad$ sowie $\\quad c \\cdot(a+b)=c \\cdot a+c \\cdot b$\n",
        "\n",
        "Ist auch $(H, \\cdot)$ kommutativ, so spricht man von einem kommutativen Halbring."
      ]
    },
    {
      "cell_type": "markdown",
      "metadata": {
        "id": "354jDjhGCug7"
      },
      "source": [
        "Beispiele"
      ]
    },
    {
      "cell_type": "markdown",
      "metadata": {
        "id": "Hw9olTD_Cw0-"
      },
      "source": [
        "* $(\\mathbb{N},+, 0, \\cdot, 1)$ Die Menge der natürlichen Zahlen mit der Addition und der Multiplikation zusammen und mit einem Nullelement und einem Einselement als neutrale Elemente ist ein kommutativer Halbring.\n",
        "\n",
        "* $\\left(\\mathbb{Q}_{+},+, 0, \\cdot, 1\\right)$ ist sogar ein Halbkörper.\n",
        "\n",
        "* $(\\mathbb{R} \\cup\\{\\infty\\}, \\min , \\infty,+, 0),$ die sogenannte Min-Plus-Algebra (**tropische Geometrie!!!**) https://de.m.wikipedia.org/wiki/Max-Plus-Algebra bzw.https://de.wikipedia.org/wiki/Tropische_Geometrie#Tropischer_Halbring\n",
        "\n",
        "* Für jede Menge $X$ ist die Potenzmenge $(\\mathcal{P}(X), \\cup, \\emptyset, \\cap, X)$ ein Halbring.\n",
        "\n",
        "* Allgemeiner ist jede Boolesche Algebra ein Halbring."
      ]
    },
    {
      "cell_type": "markdown",
      "metadata": {
        "id": "UizsbE6VAgA4"
      },
      "source": [
        "https://de.m.wikipedia.org/wiki/Halbring_(Algebraische_Struktur)"
      ]
    },
    {
      "cell_type": "markdown",
      "metadata": {
        "id": "Ecy_MnaoAkhC"
      },
      "source": [
        "##### **Ring mit Eins (unitärer Ring)**"
      ]
    },
    {
      "cell_type": "markdown",
      "metadata": {
        "id": "c2rLi8RzmGRG"
      },
      "source": [
        "* Hat die Halbgruppe $R,\\cdot$ ein (beidseitiges) neutrales Element 1, ist also ein Monoid, dann nennt man $R,+,\\cdot$ einen Ring mit Eins oder unitären Ring. \n",
        "\n",
        "* Ringe mit nur links- oder nur rechtsneutralem Element gelten in der Ringtheorie nicht als unitär."
      ]
    },
    {
      "cell_type": "markdown",
      "metadata": {
        "id": "NoTycwruMDw5"
      },
      "source": [
        "##### **Nullring**"
      ]
    },
    {
      "cell_type": "markdown",
      "metadata": {
        "id": "XTICEn4hMNS1"
      },
      "source": [
        "* bis auf Isomorphie eindeutig bestimmter Ring, der nur aus dem Nullelement besteht\n",
        "\n",
        "* Der Nullring oder triviale Ring ist in der Mathematik der bis auf Isomorphie eindeutig bestimmte Ring, der nur aus dem Nullelement besteht. Das Nullelement ist damit zugleich das Einselement des Rings. \n",
        "\n",
        "* Der Nullring besitzt eine Reihe besonderer Eigenschaften, so ist er beispielsweise der einzige Ring, in dem jedes Element eine Einheit ist, und der einzige Ring mit Eins, in dem es kein maximales Ideal gibt. In der Kategorie der Ringe mit Eins ist der Nullring terminales Objekt und in der Kategorie aller Ringe das Nullobjekt."
      ]
    },
    {
      "cell_type": "markdown",
      "metadata": {
        "id": "uPmXRpptMjpU"
      },
      "source": [
        "Der Nullring $(\\{0\\},+, \\cdot)$ ist ein Ring bestehend aus der einelementigen Menge \\{0\\} (Singleton) versehen mit der einzig möglichen Addition gegeben durch\n",
        "\n",
        "$\n",
        "0+0=0\n",
        "$\n",
        "\n",
        "und der einzig möglichen Multiplikation gegeben durch\n",
        "\n",
        "$\n",
        "0 \\cdot 0=0\n",
        "$\n",
        "\n",
        "Das Element 0 ist also zugleich das Nullelement und das Einselement des Rings."
      ]
    },
    {
      "cell_type": "markdown",
      "metadata": {
        "id": "nUOu50FmNM-7"
      },
      "source": [
        "* In der Kategorie der Ringe mit Eins ist der Nullring terminales Objekt, das heißt von jedem Ring gibt es genau einen Morphismus in den Nullring. Weiterhin ist jeder Morphismus aus dem Nullring heraus bereits ein Isomorphismus.\n",
        "\n",
        "* In der Kategorie aller Ringe ist der Nullring sogar das Nullobjekt."
      ]
    },
    {
      "cell_type": "markdown",
      "metadata": {
        "id": "BGElOCjMMGr2"
      },
      "source": [
        "https://de.m.wikipedia.org/wiki/Nullring"
      ]
    },
    {
      "cell_type": "markdown",
      "metadata": {
        "id": "Kwaf_Yw5nosx"
      },
      "source": [
        "##### **Ideal**"
      ]
    },
    {
      "cell_type": "markdown",
      "metadata": {
        "id": "tJn81nCMnuU0"
      },
      "source": [
        "* In der abstrakten Algebra ist ein Ideal eine Teilmenge eines Rings, die das Nullelement enthält und abgeschlossen gegenüber Addition und Subtraktion von Elementen des Ideals sowie abgeschlossen gegenüber Multiplikation mit beliebigen Ringelementen ist. \n",
        "\n",
        "* Beispielsweise sind Summe und Differenz zweier gerader Zahlen wieder gerade und zudem ist das Produkt einer geraden Zahl mit einer beliebigen ganzen Zahl ebenfalls gerade. Zudem ist die 0 als additiv Neutrales gerade. Das heißt, die Menge der geraden Zahlen ist ein Ideal im Ring der ganzen Zahlen.\n",
        "\n",
        "* Es gibt auch für nichtkommutative Ringe sogenannte Links-, Rechtsideale und zweiseitige Idealen."
      ]
    },
    {
      "cell_type": "markdown",
      "metadata": {
        "id": "ltfOTi0unraE"
      },
      "source": [
        "https://de.m.wikipedia.org/wiki/Ideal_(Ringtheorie)"
      ]
    },
    {
      "cell_type": "markdown",
      "metadata": {
        "id": "CSgVEGLmZlz1"
      },
      "source": [
        "##### **Quotientenkörper eines Rings**"
      ]
    },
    {
      "cell_type": "markdown",
      "metadata": {
        "id": "yKtAxEpdZqze"
      },
      "source": [
        "* In der Algebra ist der Quotientenkörper eines Rings (mit bestimmten Eigenschaften) eine **Obermenge dieses Rings**, auf welche die Addition und die Multiplikation des Rings fortgesetzt werden und in der jedes Element außer 0 ein multiplikatives Inverses besitzt. \n",
        "\n",
        "* Das prominenteste Beispiel ist der **Körper der rationalen Zahlen als Quotientenkörper des Rings der ganzen Zahlen**.\n",
        "\n",
        "* Eine Verallgemeinerung des Konzepts für nicht notwendigerweise nullteilerfreie Ringe ist durch die Lokalisierung gegeben."
      ]
    },
    {
      "cell_type": "markdown",
      "metadata": {
        "id": "MfXz0my6Zn_p"
      },
      "source": [
        "https://de.m.wikipedia.org/wiki/Quotientenkörper"
      ]
    },
    {
      "cell_type": "markdown",
      "metadata": {
        "id": "foYtNNmXXHhZ"
      },
      "source": [
        "## **Körper (Field)**"
      ]
    },
    {
      "cell_type": "markdown",
      "metadata": {
        "id": "OgmPJQxVeAyy"
      },
      "source": [
        "https://en.m.wikipedia.org/wiki/Algebraically_closed_field"
      ]
    },
    {
      "cell_type": "markdown",
      "metadata": {
        "id": "MEWyxxYiUPov"
      },
      "source": [
        "https://de.m.wikipedia.org/wiki/P-adische_Zahl"
      ]
    },
    {
      "cell_type": "markdown",
      "metadata": {
        "id": "jvXRpmAJVeWr"
      },
      "source": [
        "https://de.m.wikipedia.org/wiki/Vollkommener_Körper"
      ]
    },
    {
      "cell_type": "markdown",
      "metadata": {
        "id": "sFf9AIX_stcH"
      },
      "source": [
        "https://youtu.be/KCSZ4QhOw0I"
      ]
    },
    {
      "cell_type": "markdown",
      "metadata": {
        "id": "AtRNSdl66frD"
      },
      "source": [
        "##### **Endlicher Körper (Galoiskörper)**"
      ]
    },
    {
      "cell_type": "markdown",
      "metadata": {
        "id": "u0jbHiiR6n5Q"
      },
      "source": [
        "* ein Körper mit einer endlichen Anzahl von Elementen, d. h. eine endliche Menge, auf der zwei als Addition und Multiplikation verstandene Grundoperationen definiert sind, sodass die Menge zusammen mit diesen Operationen alle Anforderungen eines Körpers erfüllt."
      ]
    },
    {
      "cell_type": "markdown",
      "metadata": {
        "id": "Jdmy_oLN6cOs"
      },
      "source": [
        "https://de.m.wikipedia.org/wiki/Endlicher_Körper"
      ]
    },
    {
      "cell_type": "markdown",
      "metadata": {
        "id": "y16M1N2JRcwm"
      },
      "source": [
        "##### **(Kommutative) Körper**"
      ]
    },
    {
      "cell_type": "markdown",
      "metadata": {
        "id": "Kx2S2mCUUQR4"
      },
      "source": [
        "* Reelle oder komplexe Zahlen sind ein Körper!"
      ]
    },
    {
      "cell_type": "markdown",
      "metadata": {
        "id": "1rtdtF9PN0Ys"
      },
      "source": [
        "**Set $F$ with 2 operations: $+$**\n",
        "\n",
        "* $\\langle F,+\\rangle$ is a commutative group\n",
        "\n",
        "* $\\left\\langle F^{\\times}, \\cdot\\right\\rangle$ is a commutative group\n",
        "\n",
        "* $a \\cdot(b+c)=a \\cdot b+a \\cdot c$\n",
        "\n",
        "* $(b+c) \\cdot a=b \\cdot a+c \\cdot a$"
      ]
    },
    {
      "cell_type": "markdown",
      "metadata": {
        "id": "f7Fjy2o4Ncnn"
      },
      "source": [
        "Fields allow a multiplicative inverse (aka division)"
      ]
    },
    {
      "cell_type": "markdown",
      "metadata": {
        "id": "M_kHoI_XOGIF"
      },
      "source": [
        "https://www.youtube.com/watch?v=KCSZ4QhOw0I"
      ]
    },
    {
      "cell_type": "markdown",
      "metadata": {
        "id": "bBwQqNZan2sf"
      },
      "source": [
        "**Ein Körper ist eine spezielle Form von Ring**:\n",
        "\n",
        "* **A Field is a Ring whose non-zero elements form a commutative Group under multiplication (In short a field is a commutative ring with unity with all its non zero elements having multiplicative inverse.)**\n",
        "\n",
        "* Ein kommutativer unitärer Ring, der nicht der Nullring ist, heißt ein Körper, wenn in ihm jedes von Null verschiedene Element multiplikativ invertierbar ist.\n",
        "Anders formuliert, ist ein Körper ein kommutativer unitärer Ring K, in dem die Einheitengruppe K* gleich K \\ {0}, also maximal groß, ist.\n",
        "\n",
        "* Ein kommutativer unitärer Ring, der nicht der Nullring ist, ist ein Körper, wenn in ihm jedes von Null verschiedene Element ein Inverses bezüglich der Multiplikation besitzt. Anders formuliert, ist ein Körper ein kommutativer unitärer Ring $K$, in dem die Einheitengruppe $K^{*}$ gleich $K \\backslash\\{0\\}$ ist. \n"
      ]
    },
    {
      "cell_type": "markdown",
      "metadata": {
        "id": "_M8xii4QnNCP"
      },
      "source": [
        "**Beispiele**\n",
        "\n",
        "* The most familiar form of algebra is the elementary algebra that you learned in high school, namely the algebra of the real numbers. From an abstract point of view, this is the algebra of fields.\n",
        "\n",
        "* Note that the axioms for a field are precisely the axioms for algebra on the real numbers. As a result, the real numbers R form a field under the usual operations of addition and multiplication. However, the real numbers are not the only possible field. Indeed, you are already familiar with a few other examples:\n",
        "\n",
        "* set of rational numbers under addition and multiplication. The rational numbers Q form a field under the usual operations of addition and multiplication. In particular, we can add or multiply two elements of Q to obtain another element of Q, and these operations obey all of the axioms listed above.\n",
        "\n",
        "* The complex numbers C form a field under the commonly defined operations of addition and multiplication. Complex numbers do obey all of the listed axioms for a field, which is why elementary algebra works as usual for complex numbers.\n",
        "\n",
        "* The Integers modulo a Prime number.\n",
        "\n",
        "*An example of a set of numbers that is **not a field** is the set of integers. It is an \"integral domain.\" It is not a field because it lacks multiplicative inverses. Without multiplicative inverses, division may be impossible.*\n",
        "\n",
        "* Both are algebraic objects with a notion of addition and multiplication, **but the multiplication in a field is more specialized**: it is necessarily commutative and every nonzero element has a multiplicative inverse."
      ]
    },
    {
      "cell_type": "markdown",
      "metadata": {
        "id": "1_Jav3cJksAh"
      },
      "source": [
        "https://de.m.wikipedia.org/wiki/Körper_(Algebra)"
      ]
    },
    {
      "cell_type": "markdown",
      "metadata": {
        "id": "isOcOrhbyk4J"
      },
      "source": [
        "https://science.jrank.org/pages/2709/Field.html"
      ]
    },
    {
      "cell_type": "markdown",
      "metadata": {
        "id": "Z055Lr2GWyMa"
      },
      "source": [
        "Ein Tripel (K,+,•), bestehend aus einer Menge K und zwei binären Verknüpfungen „+“ und „•“ (die üblicherweise Addition und Multiplikation genannt werden), ist genau dann ein Körper, wenn folgende Eigenschaften erfüllt sind:\n",
        "\n",
        "* $(K,+)$ ist eine abelsche Gruppe (mit Neutralelement 0)\n",
        "\n",
        "* $(K \\backslash\\{0\\}, •)$ ist eine abelsche Gruppe (mit Neutralelement 1)\n",
        "\n",
        "* $a \\cdot(b+c)=a \\cdot b+a \\cdot c$ und $(a+b) \\cdot c=a \\cdot c+b \\cdot c$ (Distributivgesetz)"
      ]
    },
    {
      "cell_type": "markdown",
      "metadata": {
        "id": "itIiUgUNXWV7"
      },
      "source": [
        "Additive Eigenschaften:\n",
        "\n",
        "* $a+(b+c)=(a+b)+c$ (Assoziativgesetz)\n",
        "\n",
        "* $a+b=b+a$ (Kommutativgesetz)\n",
        "\n",
        "* Es gibt ein Element $0 \\in K$ mit $0+a=a$ (neutrales Element)\n",
        "\n",
        "* Zu jedem $a \\in K$ existiert das additive Inverse $(-a)$ mit $(-a)+a=0$\n",
        "\n",
        "Multiplikative Eigenschaften:\n",
        "\n",
        "* $\\cdot a \\cdot(b \\cdot c)=(a \\cdot b) \\cdot c$ (Assoziativgesetz)\n",
        "\n",
        "* $a \\cdot b=b \\cdot a$ (Kommutativgesetz)\n",
        "\n",
        "* Es gibt ein Element $1 \\in K$ mit $1 \\cdot a=a$ (neutrales Element), und es ist $1 \\neq 0$.\n",
        "\n",
        "* Zu jedem $a \\in K \\backslash\\{0\\}$ existiert das multiplikative Inverse $a^{-1}$ mit $a^{-1} \\cdot a=1$\n",
        "\n",
        "Zusammenspiel von additiver und multiplikativer Struktur:\n",
        "\n",
        "* $a \\cdot(b+c)=a \\cdot b+a \\cdot c$ (Links-Distributivgesetz) \n",
        "\n",
        "* Das Rechts-Distributivgesetz $(a+b) \\cdot c=a \\cdot c+b \\cdot c$ folgt dann aus den übrigen Eigenschaften:\n",
        "$(a+b) \\cdot c=c \\cdot(a+b)=c \\cdot a+c \\cdot b=a \\cdot c+b \\cdot c$"
      ]
    },
    {
      "cell_type": "markdown",
      "metadata": {
        "id": "tr5vXn8La6w7"
      },
      "source": [
        "**Achtung**\n",
        "\n",
        "Man nennt die Elemente im Körper nicht Vektoren, sondern Skalare. Über dem Skalarkörper betrachtet man einen Vektorraum und dessen Elemente heißen Vektoren."
      ]
    },
    {
      "cell_type": "markdown",
      "metadata": {
        "id": "BfWRnNxZnrVT"
      },
      "source": [
        "Eigenschaften (beginnend mit denen eines Ringes):\n",
        "\n",
        "* Addition is associative and commutative;\n",
        "\n",
        "* There is an additive identity, zero;\n",
        "\n",
        "* Every element has an additive inverse;\n",
        "\n",
        "* Multiplication is associative;\n",
        "\n",
        "* Multiplication distributes over addition.\n",
        "\n",
        "In addition a Field has:\n",
        "\n",
        "* Multiplication is commutative;\n",
        "\n",
        "* Every non-zero element has a multiplicative inverse."
      ]
    },
    {
      "cell_type": "markdown",
      "metadata": {
        "id": "JQdx1fH0RXv9"
      },
      "source": [
        "##### **Schiefkörper (Divisionsring)**"
      ]
    },
    {
      "cell_type": "markdown",
      "metadata": {
        "id": "RBiSmFlRX_Mp"
      },
      "source": [
        "* Eine Menge K mit zwei binären Operationen + und ⋅ heißt Schiefkörper, wenn K ein Ring ist und K∖{0} bzgl. der Multiplikation eine Gruppe bildet (Ringe sind normalerweise Halbgruppen, dh. bezüglich Multiplikation nur nur die Assoziativität zählt, aber keine Inverse, neutrales element oder kommutativität).\n",
        "\n",
        "* K heißt Körper, wenn K Schiefkörper ist und \n",
        "K∖{0} bzgl. der Multiplikation eine kommutative Gruppe (=Abelsch) bildet."
      ]
    },
    {
      "cell_type": "markdown",
      "metadata": {
        "id": "Msp6NBuJX0MO"
      },
      "source": [
        "**Es gelten die folgenden Zusammenhänge:**\n",
        "\n",
        "* Jeder Körper ist ein Schiefkörper\n",
        "* Jeder Körper ist ein kommutativer Ring\n",
        "* Jeder Schiefkörper ist ein unitären Ring\n",
        "* Jeder unitäre Ring ist ein Ring"
      ]
    },
    {
      "cell_type": "markdown",
      "metadata": {
        "id": "fiD4gEiPkpQq"
      },
      "source": [
        "* Ein **Schiefkörper** oder Divisionsring ist eine algebraische Struktur, die alle Eigenschaften eines Körpers besitzt, außer dass die Multiplikation nicht notwendigerweise kommutativ ist.\n",
        "\n",
        "* Jeder Schiefkörper ist ein Alternativkörper"
      ]
    },
    {
      "cell_type": "markdown",
      "metadata": {
        "id": "otrMeqXtTBT2"
      },
      "source": [
        "https://de.m.wikipedia.org/wiki/Schiefkörper"
      ]
    },
    {
      "cell_type": "markdown",
      "metadata": {
        "id": "WXOnmjfLS8Sz"
      },
      "source": [
        "##### **Alternativkörper**"
      ]
    },
    {
      "cell_type": "markdown",
      "metadata": {
        "id": "JEtjLCOdmFUh"
      },
      "source": [
        "* Octonions (Octave) sind [Alternativkörper](https://de.m.wikipedia.org/wiki/Alternativkörper) bei denen man auf das Kommutativgesetz und das Assoziativgesetz für die Multiplikation verzichtet.\n",
        "\n",
        "* Jeder Schiefkörper ist ein Alternativkörper, jeder Alternativkörper ist zugleich ein Links- und ein Rechtsquasikörper. Endliche Alternativkörper sind stets Körper. (→ Siehe dazu auch: Moufangebene).\n",
        "\n"
      ]
    },
    {
      "cell_type": "markdown",
      "metadata": {
        "id": "JMNe3IO_x1RW"
      },
      "source": [
        "##### **Körpererweiterung**"
      ]
    },
    {
      "cell_type": "markdown",
      "metadata": {
        "id": "AQocAiSmx3hC"
      },
      "source": [
        "https://de.wikipedia.org/wiki/K%C3%B6rpererweiterung"
      ]
    },
    {
      "cell_type": "markdown",
      "metadata": {
        "id": "Myg7JFuLRgsr"
      },
      "source": [
        "##### **Exkurs: Geordneter Körper**"
      ]
    },
    {
      "cell_type": "markdown",
      "metadata": {
        "id": "cAwPf6ifqUmM"
      },
      "source": [
        "* Ein geordneter Körper (auch angeordneter Körper genannt) ist ein Körper zusammen mit einer totalen Ordnung „≤“, die mit Addition und Multiplikation verträglich ist. Das bekannteste Beispiel ist der Körper der reellen Zahlen. \n",
        "\n",
        "* Körper der Charakteristik p>0 können nicht strukturverträglich angeordnet werden. \n",
        "\n",
        "* Ein wichtiges Beispiel für einen Körper der Charakteristik 0, der auch nicht strukturverträglich angeordnet werden kann, ist der Körper der komplexen Zahlen.\n",
        "\n",
        "* Ein geordneter Körper heißt ordnungsvollständig, wenn jede beschränkte Teilmenge des Körpers ein Infimum und Supremum hat."
      ]
    },
    {
      "cell_type": "markdown",
      "metadata": {
        "id": "gr5tpTU1qWOw"
      },
      "source": [
        "https://de.m.wikipedia.org/wiki/Geordneter_Körper"
      ]
    },
    {
      "cell_type": "markdown",
      "metadata": {
        "id": "txG8BfQyj0hb"
      },
      "source": [
        "## **Moduln and Vector Spaces (Linear Algebra)**"
      ]
    },
    {
      "cell_type": "markdown",
      "metadata": {
        "id": "Tk6qnMZUgGQw"
      },
      "source": [
        "#### **Moduln**"
      ]
    },
    {
      "cell_type": "markdown",
      "metadata": {
        "id": "HSRPnBpNgMT4"
      },
      "source": [
        "* Ein Modul ist ein n-dimensionaler Ring.\n",
        "\n",
        "* Ein Modul ist eine algebraische Struktur, die eine Verallgemeinerung eines Vektorraums darstellt.\n",
        "\n",
        "* **A module is similar to a vector space, except that the scalars are only required to be elements of a ring. (Gilt NICHT multiplikative Inverse und multiplikative Kommuntativität)**\n",
        "\n",
        "* For example, the set Zn of n-dimensional vectors with integer entries forms a module, where “scalar multiplication” refers to multiplication by integer scalars."
      ]
    },
    {
      "cell_type": "markdown",
      "metadata": {
        "id": "sMh1i2RczFjo"
      },
      "source": [
        "Folgende Zahlenbereiche sind additive Gruppen und damit $\\mathbb {Z}$ -Moduln:\n",
        "\n",
        "* die ganzen Zahlen $\\mathbb {Z}$ selbst\n",
        "\n",
        "* die rationalen Zahlen $\\mathbb {Q}$ \n",
        "\n",
        "* die reellen Zahlen $\\mathbb {R}$ \n",
        "\n",
        "* die algebraischen Zahlen $\\mathbb A$ bzw. $\\mathbb A$ $\\cap$ $\\mathbb R$\n",
        "\n",
        "* die komplexen Zahlen $\\mathbb {C}$\n"
      ]
    },
    {
      "cell_type": "markdown",
      "metadata": {
        "id": "t8NSS1C9gIni"
      },
      "source": [
        "https://de.m.wikipedia.org/wiki/Modul_(Mathematik)"
      ]
    },
    {
      "cell_type": "markdown",
      "metadata": {
        "id": "zD4HgiwtO7x5"
      },
      "source": [
        "**Basis eines Modul**"
      ]
    },
    {
      "cell_type": "markdown",
      "metadata": {
        "id": "sneOVEwOPEXn"
      },
      "source": [
        "* Der Begriff der Basis eines Moduls ist im mathematischen Teilgebiet der Algebra eine Verallgemeinerung des Begriffes der Basis eines Vektorraumes. \n",
        "\n",
        "* Wie bei diesen wird eine Basis eines Moduls als linear unabhängiges Erzeugendensystem definiert; im Gegensatz zu Vektorräumen besitzt allerdings nicht jeder Modul eine Basis."
      ]
    },
    {
      "cell_type": "markdown",
      "metadata": {
        "id": "KKb22bUqO_ae"
      },
      "source": [
        "https://de.m.wikipedia.org/wiki/Basis_(Modul)"
      ]
    },
    {
      "cell_type": "markdown",
      "metadata": {
        "id": "2g3psQpbPHh5"
      },
      "source": [
        "https://de.m.wikipedia.org/wiki/Basis_(Vektorraum)"
      ]
    },
    {
      "cell_type": "markdown",
      "metadata": {
        "id": "yHDbqYQahc-z"
      },
      "source": [
        "#### **Numerische lineare Algebra**"
      ]
    },
    {
      "cell_type": "markdown",
      "metadata": {
        "id": "alPE_R99yVQF"
      },
      "source": [
        "https://www.quantamagazine.org/new-algorithm-breaks-speed-limit-for-solving-linear-equations-20210308/"
      ]
    },
    {
      "cell_type": "markdown",
      "metadata": {
        "id": "cVgBeSXhna8t"
      },
      "source": [
        "Die [numerische lineare Algebra](https://de.m.wikipedia.org/wiki/Numerische_lineare_Algebra) ist ein zentrales Teilgebiet der numerischen Mathematik. Sie beschäftigt sich mit der Entwicklung und der Analyse von Rechenverfahren (Algorithmen) für Problemstellungen der linearen Algebra, insbesondere der Lösung von [linearen Gleichungssystemen](https://de.m.wikipedia.org/wiki/Lineares_Gleichungssystem) und [Eigenwertproblemen](https://de.m.wikipedia.org/wiki/Eigenwertproblem). "
      ]
    },
    {
      "cell_type": "markdown",
      "metadata": {
        "id": "xHrBkfoD4nwD"
      },
      "source": [
        "1. Lösung linearer Gleichungen / Matrizen\n",
        "\n",
        "2. Berechnung von Eigenwerten\n",
        "\n",
        "3. Reduzierung der Grösse von Matrizen (für Recommender zB)"
      ]
    },
    {
      "cell_type": "markdown",
      "metadata": {
        "id": "mGksDOvKkFom"
      },
      "source": [
        "https://de.m.wikipedia.org/wiki/Zufallsmatrix"
      ]
    },
    {
      "cell_type": "markdown",
      "metadata": {
        "id": "WU52z34N2tbD"
      },
      "source": [
        "###### <font color=\"blue\">**Overview**"
      ]
    },
    {
      "cell_type": "markdown",
      "metadata": {
        "id": "vUp1jC-6t1Je"
      },
      "source": [
        "https://en.m.wikipedia.org/wiki/System_of_linear_equations#Matrix_solution"
      ]
    },
    {
      "cell_type": "markdown",
      "metadata": {
        "id": "B8kfpHWeyQMO"
      },
      "source": [
        "https://de.m.wikipedia.org/wiki/Numerische_lineare_Algebra"
      ]
    },
    {
      "cell_type": "markdown",
      "metadata": {
        "id": "f7eQdTcMB0gp"
      },
      "source": [
        "* **Inverse: benutzt man als [Matrix Solution](https://en.m.wikipedia.org/wiki/System_of_linear_equations#Matrix_solution) zur Lösung linearer Gleichungssysteme**. man kann hier die Pseudoinverse [Moore-Penrose](https://en.m.wikipedia.org/wiki/Moore–Penrose_inverse) nutzen (QR, Cholesky, Rank decomposition, Singular Value decomposition). 'The pseudoinverse provides a least squares solution to a system of linear equations.' Siehe auch [Linear Least Squares](https://en.m.wikipedia.org/wiki/Linear_least_squares) in bezug auf Moore-Penrose.\n",
        "\n",
        "* **Other methods to solve linear equations**: While systems of three or four equations can be readily solved by hand (see Cracovian), computers are often used for larger systems. The standard algorithm for solving a system of linear equations is based on Gaussian elimination with some modifications. \n",
        "  \n",
        "  * Firstly, it is essential to avoid division by small numbers, which may lead to inaccurate results. This can be done by reordering the equations if necessary, a process known as [pivoting](https://en.m.wikipedia.org/wiki/Pivot_element). \n",
        "  \n",
        "  * Secondly, the algorithm does not exactly do Gaussian elimination, but it computes the [LU decomposition](https://en.m.wikipedia.org/wiki/LU_decomposition) of the matrix A.\n",
        "\n",
        "  * If the matrix A has some special structure, this can be exploited to obtain faster or more accurate algorithms. For instance, systems with a symmetric positive definite matrix can be solved twice as fast with the [Cholesky decomposition](https://en.m.wikipedia.org/wiki/Cholesky_decomposition). [Levinson recursion](https://en.m.wikipedia.org/wiki/Levinson_recursion) is a fast method for Toeplitz matrices. Special methods exist also for matrices with many zero elements (so-called [sparse matrices](https://en.m.wikipedia.org/wiki/Sparse_matrix)), which appear often in applications.\n",
        "  \n",
        "  * A completely different approach is often taken for very large systems, which would otherwise take too much time or memory. The idea is to start with an initial approximation to the solution (which does not have to be accurate at all), and to change this approximation in several steps to bring it closer to the true solution. Once the approximation is sufficiently accurate, this is taken to be the solution to the system. This leads to the class of [iterative methods](https://en.m.wikipedia.org/wiki/Iterative_method). For some sparse matrices, the introduction of randomness improves the speed of the iterative methods.\n",
        "  \n",
        "  * There is also a [quantum algorithm for linear systems of equations](https://en.m.wikipedia.org/wiki/Quantum_algorithm_for_linear_systems_of_equations).\n",
        "\n",
        "* **Matrix Factorization**: sehr grosse Matrizen kleiner machen (unter möglichen Verlust von Informationen). zum Beispiel uber PCA. sehr häufig genutzt bei Recommender Systems.\n",
        "\n",
        "* **Eigenwertberechnung**: "
      ]
    },
    {
      "cell_type": "markdown",
      "metadata": {
        "id": "Mmz1SzUkinQK"
      },
      "source": [
        "https://m.youtube.com/watch?v=e50Bj7jn9IQ"
      ]
    },
    {
      "cell_type": "markdown",
      "metadata": {
        "id": "W-hoOe8hipfW"
      },
      "source": [
        "https://m.youtube.com/watch?v=PFDu9oVAE-g"
      ]
    },
    {
      "cell_type": "markdown",
      "metadata": {
        "id": "E-O3ZtinirtN"
      },
      "source": [
        "https://m.youtube.com/watch?v=eJWgKvrhDmE"
      ]
    },
    {
      "cell_type": "markdown",
      "metadata": {
        "id": "YVGuT-N3i2oc"
      },
      "source": [
        "https://en.m.wikipedia.org/wiki/Time_complexity#Polylogarithmic_time"
      ]
    },
    {
      "cell_type": "markdown",
      "metadata": {
        "id": "wGhOHqtZi4bX"
      },
      "source": [
        "https://en.m.wikipedia.org/wiki/Ewin_Tang"
      ]
    },
    {
      "cell_type": "markdown",
      "metadata": {
        "id": "YEAydbXD25-F"
      },
      "source": [
        "https://en.m.wikipedia.org/wiki/Low-rank_matrix_approximations"
      ]
    },
    {
      "cell_type": "markdown",
      "metadata": {
        "id": "nPWQVNzQ21BS"
      },
      "source": [
        "https://de.m.wikipedia.org/wiki/Normalform"
      ]
    },
    {
      "cell_type": "markdown",
      "metadata": {
        "id": "_65XrtjC2zJR"
      },
      "source": [
        "https://de.m.wikipedia.org/wiki/Potenzmethode"
      ]
    },
    {
      "cell_type": "markdown",
      "metadata": {
        "id": "VX4hU1-JSQFH"
      },
      "source": [
        "**Liste numerischer Verfahren fur lineare Gleichungssysteme**"
      ]
    },
    {
      "cell_type": "markdown",
      "metadata": {
        "id": "5XXr15dpSTlv"
      },
      "source": [
        "https://de.m.wikipedia.org/wiki/Liste_numerischer_Verfahren#Lineare_Gleichungssysteme"
      ]
    },
    {
      "cell_type": "markdown",
      "metadata": {
        "id": "9ncUJUElS0kc"
      },
      "source": [
        "* Gaußsches Eliminationsverfahren (bzw. LR-Zerlegung): Ein klassisches direktes Verfahren – für große Matrizen allerdings zu aufwändig.\n",
        "\n",
        "* Cholesky-Zerlegung: Für symmetrische positiv definite Matrizen kann ähnlich wie die LR-Zerlegung eine symmetrische Zerlegung erstellt werden bei halbem Aufwand.\n",
        "\n",
        "* QR-Zerlegung: Ebenfalls ein direktes Verfahren mit mindestens doppelter Laufzeit im Vergleich zum Gauß-Verfahren aber besseren Stabilitätseigenschaften. Umgesetzt mittels Householdertransformationen ist besonders für lineare [Ausgleichsprobleme (Ausgleichsrechnung)](https://de.m.wikipedia.org/wiki/Ausgleichungsrechnung) geeignet.\n",
        "\n",
        "* Splitting-Verfahren: Klassische iterative Verfahren.\n",
        "\n",
        "  * Gauß-Seidel-Verfahren: Wird auch als Einzelschrittverfahren bezeichnet.\n",
        "\n",
        "  * Jacobi-Verfahren: Wird auch als Gesamtschrittverfahren bezeichnet.\n",
        "\n",
        "  * Richardson-Verfahren\n",
        "\n",
        "  * Tschebyschow-Iteration: ein Splitting-Verfahren mit zusätzlicher Beschleunigung\n",
        "\n",
        "  * SOR-Verfahren\n",
        "\n",
        "  * SSOR-Verfahren\n",
        "\n",
        "* Iterative Refinement: Iterative Verbesserung eines direkten Verfahrens, Beziehung zur Grundidee der Krylow-Unterraum-Verfahren\n",
        "\n",
        "* Krylow-Unterraum-Verfahren: Moderne iterative Verfahren, die für große, dünnbesetzte Gleichungssysteme gedacht sind. Wichtiger Spezialfall für symmetrisch positiv definite Probleme ist das Verfahren der konjugierten Gradienten.\n",
        "\n",
        "* Mehrgitterverfahren: Ein modernes Verfahren mit linearer Komplexität speziell für Gleichungssysteme, die von partiellen Differentialgleichungen herrühren.\n",
        "\n",
        "* Vorkonditionierung: Eine Technik, die Kondition einer Matrix in Krylow-Unterraum-Verfahren zu verbessern.\n",
        "\n",
        "* ILU-Zerlegung: Ein wichtiges Vorkonditionierungsverfahren."
      ]
    },
    {
      "cell_type": "markdown",
      "metadata": {
        "id": "TPO3O0LTlUVH"
      },
      "source": [
        "###### <font color=\"blue\">**Prerequisites: Inverse Matrix, Diagonalmatrix & Jordan Normalform**"
      ]
    },
    {
      "cell_type": "markdown",
      "metadata": {
        "id": "h33dxdyuvkWf"
      },
      "source": [
        "**Diagonalmatrix**"
      ]
    },
    {
      "cell_type": "markdown",
      "metadata": {
        "id": "PxmwHSpnoRY4"
      },
      "source": [
        "https://de.m.wikipedia.org/wiki/Diagonalmatrix"
      ]
    },
    {
      "cell_type": "markdown",
      "metadata": {
        "id": "DkzHv1nEE3zx"
      },
      "source": [
        "**Jordan Normalform**"
      ]
    },
    {
      "cell_type": "markdown",
      "metadata": {
        "id": "KT-CwWcQGvzs"
      },
      "source": [
        "> Für jede lineare Abbildung eines endlichdimensionalen Vektorraums, deren charakteristisches Polynom vollständig in Linearfaktoren zerfällt, kann eine Vektorraumbasis gewählt werden, so dass die Abbildungsmatrix, die die Abbildung bezüglich dieser Basis beschreibt, [jordansche Normalform](https://de.m.wikipedia.org/wiki/Jordansche_Normalform) hat.\n",
        "\n",
        "* Die jordansche Normalform ist ein einfacher Vertreter der Äquivalenzklasse der zu einer trigonalisierbaren Matrix ähnlichen Matrizen. Die Trigonalisierbarkeit ist gleichbedeutend damit, dass das charakteristische Polynom der Matrix vollständig in Linearfaktoren zerfällt. \n",
        "\n",
        "* Matrizen über einem algebraisch abgeschlossenen Körper sind immer trigonalisierbar und daher immer ähnlich einer jordanschen Normalform.\n",
        "\n",
        "* Genutzt u.a. in der Lösung linearer Differentialgleichungen\n",
        "\n",
        "* Die [Diagonalisierung (Diagonalmatrix)](https://de.m.wikipedia.org/wiki/Diagonalmatrix) ist ein Spezialfall der jordanschen Normalform, während die jordansche Normalform ein Spezialfall der [Weierstraß-Normalform (Frobenius-Normalform)](https://de.m.wikipedia.org/wiki/Frobenius-Normalform) ist."
      ]
    },
    {
      "cell_type": "markdown",
      "metadata": {
        "id": "AOPL22AlE7kJ"
      },
      "source": [
        "Voraussetzungen: \n",
        "\n",
        "* Diagonalmatrix, charakteristisches Polynom, Eigenwerte & Eigenräume, geometrische und algebraische Vielfachheit, Transformationsmatrix, Basiswechsel\n",
        "\n",
        "* Algebraische Vielfachheit: Anzahl gleicher Eigenwerte\n",
        "\n",
        "Herangehensweise:\n",
        "\n",
        "1. Eigenwerte bestimmen\n",
        "\n",
        "2. Eigenräume bestimmen Kern (A - λ * I)\n",
        "\n",
        "3. Hauptvektoren bestimmen\n",
        "\n",
        "4. Transformationsmatrix"
      ]
    },
    {
      "cell_type": "markdown",
      "metadata": {
        "id": "_E-A5mnjE6EH"
      },
      "source": [
        "https://youtu.be/83SgQJekeuk"
      ]
    },
    {
      "cell_type": "markdown",
      "metadata": {
        "id": "nmX7ZGSoF4n-"
      },
      "source": [
        "https://youtu.be/hPAQdmEPU_k"
      ]
    },
    {
      "cell_type": "markdown",
      "metadata": {
        "id": "5dUwHXhovJSr"
      },
      "source": [
        "**Inverse Matrix**"
      ]
    },
    {
      "cell_type": "markdown",
      "metadata": {
        "id": "yjk8t7RClXmn"
      },
      "source": [
        "https://de.m.wikipedia.org/wiki/Inverse_Matrix"
      ]
    },
    {
      "cell_type": "markdown",
      "metadata": {
        "id": "SlHP11vEMa98"
      },
      "source": [
        "**Pseudoinverse (Moore-Penrose Inverse)**"
      ]
    },
    {
      "cell_type": "markdown",
      "metadata": {
        "id": "Lf8iDGk5vQpY"
      },
      "source": [
        "* The term generalized inverse is sometimes used as a synonym for pseudoinverse.\n",
        "\n",
        "* A common use of the pseudoinverse is to compute a \"best fit\" (least squares) solution to a system of linear equations that lacks a solution (see below under § Applications). Another use is to find the minimum (Euclidean) norm solution to a system of linear equations with multiple solutions. The pseudoinverse facilitates the statement and proof of results in linear algebra.\n",
        "\n",
        "* The pseudoinverse is defined and unique for all matrices whose entries are real or complex numbers. It can be computed using the singular value decomposition."
      ]
    },
    {
      "cell_type": "markdown",
      "metadata": {
        "id": "bvnODBx_k5vh"
      },
      "source": [
        "https://en.m.wikipedia.org/wiki/Generalized_inverse"
      ]
    },
    {
      "cell_type": "markdown",
      "metadata": {
        "id": "9aYCDBu3k4LR"
      },
      "source": [
        "https://en.m.wikipedia.org/wiki/Moore–Penrose_inverse"
      ]
    },
    {
      "cell_type": "markdown",
      "metadata": {
        "id": "cbg2aHY0MfIk"
      },
      "source": [
        "* The pseudoinverse is the generalization of the matrix inverse for square matrices to rectangular matrices where the number of rows and columns are not equal.\n",
        "\n",
        "* It is also called the the Moore-Penrose Inverse after two independent discoverers of the method or the Generalized Inverse.\n",
        "\n",
        "* Matrix inversion is not defined for matrices that are not square. When A has more columns than rows, then solving a linear equation using the pseudoinverse provides one of the many possible solutions.\n",
        "\n",
        "* The pseudoinverse is denoted as A^+, where A is the matrix that is being inverted and + is a superscript. The pseudoinverse is calculated using the singular value decomposition of A:\n",
        "\n",
        "> A^+ = VD^+U^T\n",
        "\n",
        "Where A^+ is the pseudoinverse, D^+ is the pseudoinverse of the diagonal matrix Sigma and U^T is the transpose of U.\n",
        "\n",
        "We can get U and V from the SVD operation.\n",
        "\n",
        "> A = U . Sigma . V^T\n",
        "\n",
        "The D^+ can be calculated by creating a diagonal matrix from Sigma, calculating the reciprocal of each non-zero element in Sigma, and taking the transpose if the original matrix was rectangular.\n",
        "\n"
      ]
    },
    {
      "cell_type": "code",
      "metadata": {
        "id": "SVHOiaDOM_YE"
      },
      "source": [
        "#          s11,   0,   0\n",
        "# Sigma = (  0, s22,   0)\n",
        "#            0,   0, s33"
      ],
      "execution_count": null,
      "outputs": []
    },
    {
      "cell_type": "code",
      "metadata": {
        "id": "9W5wTVWQNGss"
      },
      "source": [
        "#        1/s11,     0,     0\n",
        "# D^+ = (    0, 1/s22,     0)\n",
        "#            0,     0, 1/s33"
      ],
      "execution_count": null,
      "outputs": []
    },
    {
      "cell_type": "markdown",
      "metadata": {
        "id": "aPUAqEstNMMS"
      },
      "source": [
        "The pseudoinverse provides one way of solving the linear regression equation, specifically when there are more rows than there are columns, which is often the case. \n",
        "\n",
        "NumPy provides the function pinv() for calculating the pseudoinverse of a rectangular matrix. The example below defines a 4×2 matrix and calculates the pseudoinverse."
      ]
    },
    {
      "cell_type": "code",
      "metadata": {
        "id": "kz-FzJLHNSWv",
        "colab": {
          "base_uri": "https://localhost:8080/",
          "height": 87
        },
        "outputId": "a83b8e52-c022-4bf4-8249-7449196cff07"
      },
      "source": [
        "# Pseudoinverse\n",
        "from numpy import array\n",
        "from numpy.linalg import pinv\n",
        "\n",
        "# define matrix\n",
        "A = array([\n",
        "\t[0.1, 0.2],\n",
        "\t[0.3, 0.4],\n",
        "\t[0.5, 0.6],\n",
        "\t[0.7, 0.8]])\n",
        "print(A)"
      ],
      "execution_count": null,
      "outputs": [
        {
          "output_type": "stream",
          "text": [
            "[[0.1 0.2]\n",
            " [0.3 0.4]\n",
            " [0.5 0.6]\n",
            " [0.7 0.8]]\n"
          ],
          "name": "stdout"
        }
      ]
    },
    {
      "cell_type": "code",
      "metadata": {
        "id": "LFzXXFwQNWlZ",
        "colab": {
          "base_uri": "https://localhost:8080/",
          "height": 52
        },
        "outputId": "02766498-1982-4382-de4c-d3d8f70dbbd5"
      },
      "source": [
        "# calculate pseudoinverse\n",
        "B = pinv(A)\n",
        "print(B)"
      ],
      "execution_count": null,
      "outputs": [
        {
          "output_type": "stream",
          "text": [
            "[[-1.00000000e+01 -5.00000000e+00  1.42385628e-14  5.00000000e+00]\n",
            " [ 8.50000000e+00  4.50000000e+00  5.00000000e-01 -3.50000000e+00]]\n"
          ],
          "name": "stdout"
        }
      ]
    },
    {
      "cell_type": "markdown",
      "metadata": {
        "id": "IAEtyEp7j7wT"
      },
      "source": [
        "###### <font color=\"blue\">**Klassische Row Reduction (Gaußverfahren, Gauß-Jordan-Algorithmus, Pivotisierung) & Cramer's Rule**</font>"
      ]
    },
    {
      "cell_type": "markdown",
      "metadata": {
        "id": "SOJ_tst-oau4"
      },
      "source": [
        "For kleine lineare Gleichungssysteme / Matrizen"
      ]
    },
    {
      "cell_type": "markdown",
      "metadata": {
        "id": "Z-IQ_Et5mXQ7"
      },
      "source": [
        "**Gaußsches Eliminationsverfahren**"
      ]
    },
    {
      "cell_type": "markdown",
      "metadata": {
        "id": "ZK9p-GuskJtM"
      },
      "source": [
        "* Das [gaußsche Eliminationsverfahren](https://de.m.wikipedia.org/wiki/Gaußsches_Eliminationsverfahren) oder einfach Gauß-Verfahren (nach Carl Friedrich Gauß) ist ein Algorithmus aus den mathematischen Teilgebieten der linearen Algebra und der Numerik. \n",
        "\n",
        "* Es ist ein wichtiges Verfahren zum Lösen von linearen Gleichungssystemen und beruht darauf, dass elementare Umformungen zwar das Gleichungssystem ändern, aber die Lösung erhalten. \n",
        "\n",
        "* Dies erlaubt es, jedes eindeutig lösbare Gleichungssystem auf Stufenform zu bringen, an der die Lösung durch sukzessive Elimination der Unbekannten leicht ermittelt oder die Lösungsmenge abgelesen werden kann.\n",
        "\n"
      ]
    },
    {
      "cell_type": "markdown",
      "metadata": {
        "id": "PpooYugQofby"
      },
      "source": [
        "**Pivotisierung**"
      ]
    },
    {
      "cell_type": "markdown",
      "metadata": {
        "id": "V1dNR_F0olVB"
      },
      "source": [
        "* Das [Pivotelement](https://de.m.wikipedia.org/wiki/Pivotelement) (vom Französischen pivot ‚Dreh-/Angelpunkt‘; im Militärjargon bezeichnet Pivot den Flügelmann einer Formation bei einem Wendemanöver) ist dasjenige Element einer Zahlenmenge, das als Erstes von einem Algorithmus (z. B. gaußsche Eliminationsverfahren, Quicksort oder Basisaustauschverfahren) ausgewählt wird, um bestimmte Berechnungen durchzuführen."
      ]
    },
    {
      "cell_type": "markdown",
      "metadata": {
        "id": "e-rluszgmUOz"
      },
      "source": [
        "**Gauß-Jordan-Algorithmus**"
      ]
    },
    {
      "cell_type": "markdown",
      "metadata": {
        "id": "jJ8S8CIEmcVY"
      },
      "source": [
        "* Der [Gauß-Jordan-Algorithmus](https://de.m.wikipedia.org/wiki/Gauß-Jordan-Algorithmus) ist ein Algorithmus aus den mathematischen Teilgebieten der linearen Algebra und Numerik. Mit dem Verfahren lässt sich die Lösung eines linearen Gleichungssystems berechnen. \n",
        "\n",
        "* Es ist eine Erweiterung des gaußschen Eliminationsverfahrens, bei dem in einem zusätzlichen Schritt das Gleichungssystem bzw. dessen erweiterte Koeffizientenmatrix auf die reduzierte Stufenform gebracht wird. \n",
        "\n",
        "* Daraus lässt sich dann die Lösung direkt ablesen. Außerdem kann der Gauß-Jordan-Algorithmus zur Berechnung der Inversen einer Matrix verwendet werden."
      ]
    },
    {
      "cell_type": "markdown",
      "metadata": {
        "id": "yaSk-ZB8uHCW"
      },
      "source": [
        "**Cramer's rule**"
      ]
    },
    {
      "cell_type": "markdown",
      "metadata": {
        "id": "JP3Dhyg9uKmD"
      },
      "source": [
        "Though Cramer's rule is important theoretically, it has little practical value for large matrices, since the computation of large determinants is somewhat cumbersome. (Indeed, large determinants are most easily computed using row reduction.) "
      ]
    },
    {
      "cell_type": "markdown",
      "metadata": {
        "id": "STnZ9j2SuQzU"
      },
      "source": [
        "https://en.m.wikipedia.org/wiki/System_of_linear_equations#Cramer's_rule"
      ]
    },
    {
      "cell_type": "markdown",
      "metadata": {
        "id": "U2yydnhyuNXo"
      },
      "source": [
        "https://en.m.wikipedia.org/wiki/Cramer%27s_rule"
      ]
    },
    {
      "cell_type": "markdown",
      "metadata": {
        "id": "H_qMVeTtrLls"
      },
      "source": [
        "###### <font color=\"blue\">**Factorization (Matrix Decomposition): Overview (Linear Equations & Eigenvalues)**"
      ]
    },
    {
      "cell_type": "markdown",
      "metadata": {
        "id": "WTrwO2W3rUmd"
      },
      "source": [
        "In the mathematical discipline of linear algebra, a [matrix decomposition](https://en.m.wikipedia.org/wiki/Matrix_decomposition) or matrix factorization is a factorization of a matrix into a product of matrices. There are many different matrix decompositions; each finds use among a particular class of problems."
      ]
    },
    {
      "cell_type": "markdown",
      "metadata": {
        "id": "vy1c3rSRLsnY"
      },
      "source": [
        "###### <font color=\"blue\">**Factorization (Matrix Decomposition) for Linear Equations: LU Decomposition**"
      ]
    },
    {
      "cell_type": "markdown",
      "metadata": {
        "id": "06ms9XQkR0Ts"
      },
      "source": [
        "**Characteristics of an LU Decomposition**"
      ]
    },
    {
      "cell_type": "markdown",
      "metadata": {
        "id": "_uDrmirVPSXe"
      },
      "source": [
        "The LU decomposition is often used to simplify the **solving of systems of linear equations**, such as **finding the coefficients in a linear regression**, as well as in **calculating the determinant and inverse** of a matrix.\n",
        "\n",
        "* Lower–upper (LU) decomposition or factorization factors a matrix as the product of a lower triangular matrix and an upper triangular matrix. \n",
        "\n",
        "* The product sometimes includes a permutation matrix as well. LU decomposition can be viewed as the matrix form of Gaussian elimination. \n",
        "\n",
        "* Computers usually solve square systems of linear equations using LU decomposition, and it is also a key step when inverting a matrix or computing the determinant of a matrix."
      ]
    },
    {
      "cell_type": "markdown",
      "metadata": {
        "id": "7fK7BDsnHRgk"
      },
      "source": [
        "The **LU decomposition is for square matrices** and decomposes a matrix into L and U components. Let A be a square matrix. An LU factorization refers to the factorization of A, with proper row and/or column orderings or permutations, into two factors – a **lower triangular matrix L** and an **upper triangular matrix U**:\n",
        "\n",
        "> A = L U\n",
        "\n",
        "* The LU decomposition is found using an <u>iterative numerical process</u> and **can fail for those matrices that cannot be decomposed or decomposed easily**.\n",
        "\n",
        "* In the lower triangular matrix all elements above the diagonal are zero, in the upper triangular matrix, all the elements below the diagonal are zero. For example, for a 3 × 3 matrix A, its LU decomposition looks like this:"
      ]
    },
    {
      "cell_type": "markdown",
      "metadata": {
        "id": "P0NjEcfOQBFu"
      },
      "source": [
        "> $\\left[\\begin{array}{lll}\n",
        "a_{11} & a_{12} & a_{13} \\\\\n",
        "a_{21} & a_{22} & a_{23} \\\\\n",
        "a_{31} & a_{32} & a_{33}\n",
        "\\end{array}\\right]=\\left[\\begin{array}{ccc}\n",
        "l_{11} & 0 & 0 \\\\\n",
        "l_{21} & l_{22} & 0 \\\\\n",
        "l_{31} & l_{32} & l_{33}\n",
        "\\end{array}\\right]\\left[\\begin{array}{ccc}\n",
        "u_{11} & u_{12} & u_{13} \\\\\n",
        "0 & u_{22} & u_{23} \\\\\n",
        "0 & 0 & u_{33}\n",
        "\\end{array}\\right]$"
      ]
    },
    {
      "cell_type": "markdown",
      "metadata": {
        "id": "PcKH3CXHSPTV"
      },
      "source": [
        "**Underdeterminism & Unit Triangular Matrix**\n",
        "\n",
        "* Sometimes **equations is [underdetermined](https://en.m.wikipedia.org/wiki/Underdetermined_system)**. In this case any two non-zero elements of L and U matrices are parameters of the solution and can be set arbitrarily to any non-zero value. \n",
        "\n",
        "* Therefore, to find the unique LU decomposition, it is **necessary to put some restriction on L and U matrices**. For example, we can conveniently require the lower triangular matrix L to be a **unit triangular matrix** (i.e. set all the entries of its main diagonal to ones). "
      ]
    },
    {
      "cell_type": "markdown",
      "metadata": {
        "id": "7wrOC5iYU6jk"
      },
      "source": [
        "**Square matrices**\n",
        "\n",
        "* Any square matrix A admits an LUP factorization. If A is [invertible](https://en.m.wikipedia.org/wiki/Invertible_matrix), then it admits an LU (or LDU) factorization if and only if all its leading principal [minors](https://en.m.wikipedia.org/wiki/Minor_(linear_algebra)) are nonzero. \n",
        "\n",
        "* If A is a singular matrix of rank k, then it admits an LU factorization if the first k leading principal minors are nonzero, although the converse is not true.\n",
        "\n",
        "* If a square, invertible matrix has an LDU (factorization with all diagonal entries of L and U equal to 1), then the factorization is unique. In that case, the LU factorization is also unique if we require that the diagonal of L (or U) consists of ones."
      ]
    },
    {
      "cell_type": "markdown",
      "metadata": {
        "id": "EdqfrMkFVmOO"
      },
      "source": [
        "**Symmetric positive definite matrices**\n",
        "\n",
        "* If A is a symmetric (or [Hermitian](https://en.m.wikipedia.org/wiki/Hermitian_matrix), if A is complex) [positive definite](https://en.m.wikipedia.org/wiki/Definite_symmetric_matrix) matrix, we can arrange matters so that U is the [conjugate transpose](https://en.m.wikipedia.org/wiki/Conjugate_transpose) of L. That is, we can write A as\n",
        "\n",
        "> A = LL*\n",
        "\n",
        "* This decomposition is called the **Cholesky decomposition**. The Cholesky decomposition always exists and is unique — provided the matrix is positive definite. \n",
        "\n",
        "* Furthermore, computing the Cholesky decomposition is more efficient and [numerically more stable](https://en.m.wikipedia.org/wiki/Numerical_stability) than computing some other LU decompositions."
      ]
    },
    {
      "cell_type": "markdown",
      "metadata": {
        "id": "MoLAEHYLVf7q"
      },
      "source": [
        "**General matrices**\n",
        "\n",
        "* For a (not necessarily invertible) matrix over any field, the exact necessary and sufficient conditions under which it has an LU factorization are known. \n",
        "\n",
        "* The conditions are expressed in terms of the ranks of certain submatrices. The Gaussian elimination algorithm for obtaining LU decomposition has also been extended to this most general case."
      ]
    },
    {
      "cell_type": "markdown",
      "metadata": {
        "id": "NScrUC_NTUqh"
      },
      "source": [
        "**Variations of LU Decomposition**"
      ]
    },
    {
      "cell_type": "markdown",
      "metadata": {
        "id": "ARKrYJtXUFV1"
      },
      "source": [
        "**LU factorization with partial pivoting (LUP Decomposition)**"
      ]
    },
    {
      "cell_type": "markdown",
      "metadata": {
        "id": "6JJYuQ1qSz8n"
      },
      "source": [
        "A variation of this decomposition that is numerically more stable to solve in practice is called the LUP decomposition, or the **LU decomposition with partial pivoting**.\n",
        "\n",
        "> A = P L U\n",
        "\n",
        "The rows of the parent matrix are re-ordered to simplify the decomposition process and the **additional P matrix specifies a way to permute the result or return the result to the original order**."
      ]
    },
    {
      "cell_type": "markdown",
      "metadata": {
        "id": "xvQWQRRBUYUL"
      },
      "source": [
        "It turns out that a proper permutation in rows (or columns) is sufficient for LU factorization. LU factorization with partial pivoting (LUP) refers often to LU factorization with row permutations only:\n",
        "\n",
        "> PA = LU\n",
        "\n",
        "where L and U are again lower and upper triangular matrices, and P is a [permutation matrix](https://en.m.wikipedia.org/wiki/Permutation_matrix)*, which, when left-multiplied to A, reorders the rows of A. It turns out that all square matrices can be factorized in this form, and the factorization is numerically stable in practice. This makes LUP decomposition a useful technique in practice.\n",
        "\n",
        "*A permutation matrix is a square binary matrix that has exactly one entry of 1 in each row and each column and 0s elsewhere.*"
      ]
    },
    {
      "cell_type": "markdown",
      "metadata": {
        "id": "fHbBijklUI1_"
      },
      "source": [
        "**LU factorization with full pivoting**"
      ]
    },
    {
      "cell_type": "markdown",
      "metadata": {
        "id": "sqpDBr0MUNdO"
      },
      "source": [
        "An LU factorization with full pivoting involves both row and column permutations:\n",
        "\n",
        "> PAQ = LU\n",
        "\n",
        "where L, U and P are defined as before, and Q is a permutation matrix that reorders the columns of A."
      ]
    },
    {
      "cell_type": "markdown",
      "metadata": {
        "id": "wtM3ZbIRQ_ZV"
      },
      "source": [
        "**LDU Decomposition**"
      ]
    },
    {
      "cell_type": "markdown",
      "metadata": {
        "id": "FVfgCceCRmCu"
      },
      "source": [
        "An LDU decomposition is a decomposition of the form\n",
        "\n",
        "> A = LDU\n",
        "\n",
        "where D is a diagonal matrix, and L and U are unitriangular matrices, meaning that all the entries on the diagonals of L and U are one.\n",
        "\n",
        "Below we required that A be a square matrix, but these decompositions can all be generalized to rectangular matrices as well. In that case, **L and D are square matrices** both of which have the same number of rows as A, and U has exactly the same dimensions as A. Upper triangular should be interpreted as having only zero entries below the main diagonal, which starts at the upper left corner."
      ]
    },
    {
      "cell_type": "markdown",
      "metadata": {
        "id": "SgwgHKNRRCpn"
      },
      "source": [
        "![LDU decomposition of a Walsh matrix](https://upload.wikimedia.org/wikipedia/commons/thumb/8/84/LDU_decomposition_of_Walsh_16.svg/640px-LDU_decomposition_of_Walsh_16.svg.png)\n",
        "\n",
        "*LDU decomposition of a [Walsh matrix](https://en.m.wikipedia.org/wiki/Walsh_matrix)*"
      ]
    },
    {
      "cell_type": "markdown",
      "metadata": {
        "id": "6TfIjoZITagA"
      },
      "source": [
        "**Example**"
      ]
    },
    {
      "cell_type": "markdown",
      "metadata": {
        "id": "UNuYRYpUJUHQ"
      },
      "source": [
        "**Define Matrix**"
      ]
    },
    {
      "cell_type": "code",
      "metadata": {
        "id": "8LQILavQHeHI",
        "colab": {
          "base_uri": "https://localhost:8080/"
        },
        "outputId": "5341ad66-d2c7-4da8-b37a-b578d5ad81b6"
      },
      "source": [
        "# LU decomposition\n",
        "from numpy import array\n",
        "\n",
        "# define a square matrix\n",
        "A = array([[1, 2, 3], [4, 5, 6], [7, 8, 9]])\n",
        "print(A)"
      ],
      "execution_count": null,
      "outputs": [
        {
          "output_type": "stream",
          "text": [
            "[[1 2 3]\n",
            " [4 5 6]\n",
            " [7 8 9]]\n"
          ],
          "name": "stdout"
        }
      ]
    },
    {
      "cell_type": "markdown",
      "metadata": {
        "id": "cxqLQ4E1JVHe"
      },
      "source": [
        "**Decompose**"
      ]
    },
    {
      "cell_type": "code",
      "metadata": {
        "id": "ASjtKDTNHm7c"
      },
      "source": [
        "# LU decomposition\n",
        "from scipy.linalg import lu\n",
        "P, L, U = lu(A)"
      ],
      "execution_count": null,
      "outputs": []
    },
    {
      "cell_type": "code",
      "metadata": {
        "id": "ppDt7HJZJeP-",
        "colab": {
          "base_uri": "https://localhost:8080/"
        },
        "outputId": "59871b78-482c-4d17-ce94-ae4941026011"
      },
      "source": [
        "print(P)"
      ],
      "execution_count": null,
      "outputs": [
        {
          "output_type": "stream",
          "text": [
            "[[0. 1. 0.]\n",
            " [0. 0. 1.]\n",
            " [1. 0. 0.]]\n"
          ],
          "name": "stdout"
        }
      ]
    },
    {
      "cell_type": "code",
      "metadata": {
        "id": "yzlZ482zJdIj",
        "colab": {
          "base_uri": "https://localhost:8080/"
        },
        "outputId": "e192dc6c-3b26-42f0-a6ea-bdbde34877fe"
      },
      "source": [
        "print(L)"
      ],
      "execution_count": null,
      "outputs": [
        {
          "output_type": "stream",
          "text": [
            "[[1.         0.         0.        ]\n",
            " [0.14285714 1.         0.        ]\n",
            " [0.57142857 0.5        1.        ]]\n"
          ],
          "name": "stdout"
        }
      ]
    },
    {
      "cell_type": "code",
      "metadata": {
        "id": "opCE0DFbJcPk",
        "colab": {
          "base_uri": "https://localhost:8080/"
        },
        "outputId": "e8142a81-52e7-406a-bf90-d0daefce7b4f"
      },
      "source": [
        "print(U)"
      ],
      "execution_count": null,
      "outputs": [
        {
          "output_type": "stream",
          "text": [
            "[[7.         8.         9.        ]\n",
            " [0.         0.85714286 1.71428571]\n",
            " [0.         0.         0.        ]]\n"
          ],
          "name": "stdout"
        }
      ]
    },
    {
      "cell_type": "markdown",
      "metadata": {
        "id": "B3KZgBdoJXJO"
      },
      "source": [
        "**Reconstruct**"
      ]
    },
    {
      "cell_type": "code",
      "metadata": {
        "id": "gcDSYwtgHtLo",
        "colab": {
          "base_uri": "https://localhost:8080/"
        },
        "outputId": "7947fb18-8f6e-4ff9-bcc5-26196e7845fe"
      },
      "source": [
        "B = P.dot(L).dot(U)\n",
        "print(B)"
      ],
      "execution_count": null,
      "outputs": [
        {
          "output_type": "stream",
          "text": [
            "[[1. 2. 3.]\n",
            " [4. 5. 6.]\n",
            " [7. 8. 9.]]\n"
          ],
          "name": "stdout"
        }
      ]
    },
    {
      "cell_type": "code",
      "metadata": {
        "id": "gcfF-RJzpu1c",
        "colab": {
          "base_uri": "https://localhost:8080/"
        },
        "outputId": "9f9706c0-8a9c-4198-c294-a2cb9ee6db32"
      },
      "source": [
        "# Check for differences between both matrices\n",
        "X = B - A\n",
        "print(X)"
      ],
      "execution_count": null,
      "outputs": [
        {
          "output_type": "stream",
          "text": [
            "[[0. 0. 0.]\n",
            " [0. 0. 0.]\n",
            " [0. 0. 0.]]\n"
          ],
          "name": "stdout"
        }
      ]
    },
    {
      "cell_type": "markdown",
      "metadata": {
        "id": "IbwJ8QbNvEbX"
      },
      "source": [
        "###### <font color=\"blue\">**Factorization (Matrix Decomposition) for Linear Equations: Rank Factorization**"
      ]
    },
    {
      "cell_type": "markdown",
      "metadata": {
        "id": "isHJ8l3OR46n"
      },
      "source": [
        "* given an m × n matrix A of rank r, a rank decomposition or rank factorization of A is a factorization of A of the form A = C F, where C is an m × r matrix and F is an r × n matrix.\n",
        "\n",
        "* Every finite-dimensional matrix has a rank decomposition\n",
        "\n",
        "* One can also construct a full rank factorization of A by using its singular value decomposition"
      ]
    },
    {
      "cell_type": "markdown",
      "metadata": {
        "id": "JigccOCnE4NL"
      },
      "source": [
        "###### <font color=\"blue\">**Factorization (Matrix Decomposition) for Linear Equations: Cholesky Decomposition**"
      ]
    },
    {
      "cell_type": "markdown",
      "metadata": {
        "id": "5KPidT29-G8L"
      },
      "source": [
        "https://en.m.wikipedia.org/wiki/Cholesky_decomposition"
      ]
    },
    {
      "cell_type": "markdown",
      "metadata": {
        "id": "oO44vtYNGQEG"
      },
      "source": [
        "The Cholesky decomposition is for square symmetric matrices where all eigenvalues are greater than zero, so-called [positive definite matrices](https://en.wikipedia.org/wiki/Definite_symmetric_matrix). For our interests in machine learning, we will focus on the Cholesky decomposition for real-valued matrices and ignore the cases when working with complex numbers."
      ]
    },
    {
      "cell_type": "markdown",
      "metadata": {
        "id": "AFeymed4KIyz"
      },
      "source": [
        "> A = LL^T\n",
        "\n",
        "Where A is the matrix being decomposed, L is the lower triangular matrix and L^T is the transpose of L."
      ]
    },
    {
      "cell_type": "markdown",
      "metadata": {
        "id": "dTrHPrDNKArW"
      },
      "source": [
        "The decompose can also be written as the product of the upper triangular matrix, for example:\n",
        "\n",
        "> A = U^T . U\n",
        "\n",
        "* Where U is the upper triangular matrix."
      ]
    },
    {
      "cell_type": "markdown",
      "metadata": {
        "id": "Cc8EITyoKDXA"
      },
      "source": [
        "* The Cholesky decomposition is used for solving linear least squares for linear regression, as well as simulation and optimization methods.\n",
        "\n",
        "* When decomposing symmetric matrices, the Cholesky decomposition is nearly twice as efficient as the LU decomposition and should be preferred in these cases.\n",
        "\n",
        "* While symmetric, positive definite matrices are rather special, they occur quite frequently in some applications, so their special factorization, called Cholesky decomposition, is good to know about. When you can use it, Cholesky decomposition is about a factor of two faster than alternative methods for solving linear equations."
      ]
    },
    {
      "cell_type": "markdown",
      "metadata": {
        "id": "wJ2IZ_HMJtd3"
      },
      "source": [
        "**Define Matrix**"
      ]
    },
    {
      "cell_type": "code",
      "metadata": {
        "id": "8xcgUf1YHGae",
        "colab": {
          "base_uri": "https://localhost:8080/",
          "height": 69
        },
        "outputId": "1c772a76-1052-456d-bf61-395929265ac4"
      },
      "source": [
        "from numpy import array\n",
        "\n",
        "# define a 3x3 matrix\n",
        "A = array([[2, 1, 1], [1, 2, 1], [1, 1, 2]])\n",
        "print(A)"
      ],
      "execution_count": null,
      "outputs": [
        {
          "output_type": "stream",
          "text": [
            "[[2 1 1]\n",
            " [1 2 1]\n",
            " [1 1 2]]\n"
          ],
          "name": "stdout"
        }
      ]
    },
    {
      "cell_type": "markdown",
      "metadata": {
        "id": "q_8K4pHHJpao"
      },
      "source": [
        "**Decompose**"
      ]
    },
    {
      "cell_type": "code",
      "metadata": {
        "id": "tXS0q5LGHHhe",
        "colab": {
          "base_uri": "https://localhost:8080/",
          "height": 69
        },
        "outputId": "2bb8881d-60de-4c4d-8fc5-cadc18f14cff"
      },
      "source": [
        "# Cholesky decomposition\n",
        "from numpy.linalg import cholesky\n",
        "L = cholesky(A)\n",
        "print(L)"
      ],
      "execution_count": null,
      "outputs": [
        {
          "output_type": "stream",
          "text": [
            "[[1.41421356 0.         0.        ]\n",
            " [0.70710678 1.22474487 0.        ]\n",
            " [0.70710678 0.40824829 1.15470054]]\n"
          ],
          "name": "stdout"
        }
      ]
    },
    {
      "cell_type": "markdown",
      "metadata": {
        "id": "jDSSrB8sJmZ4"
      },
      "source": [
        "**Reconstruct**"
      ]
    },
    {
      "cell_type": "code",
      "metadata": {
        "id": "YbmN6r5MHMIb",
        "colab": {
          "base_uri": "https://localhost:8080/",
          "height": 69
        },
        "outputId": "2dd37a0f-bb48-4694-c6e5-e3b418931ff8"
      },
      "source": [
        "B = L.dot(L.T)\n",
        "print(B)"
      ],
      "execution_count": null,
      "outputs": [
        {
          "output_type": "stream",
          "text": [
            "[[2. 1. 1.]\n",
            " [1. 2. 1.]\n",
            " [1. 1. 2.]]\n"
          ],
          "name": "stdout"
        }
      ]
    },
    {
      "cell_type": "markdown",
      "metadata": {
        "id": "HMmIn-HUEykz"
      },
      "source": [
        "###### <font color=\"blue\">**Factorization (Matrix Decomposition) for Linear Equations: QR Decomposition**"
      ]
    },
    {
      "cell_type": "markdown",
      "metadata": {
        "id": "N597Z0rc93t1"
      },
      "source": [
        "https://de.m.wikipedia.org/wiki/QR-Algorithmus"
      ]
    },
    {
      "cell_type": "markdown",
      "metadata": {
        "id": "91NVXqSfFlBt"
      },
      "source": [
        "* The QR decomposition is for m x n matrices (not limited to square matrices) and decomposes a matrix into Q and R components.\n",
        "\n",
        "> A = Q R\n",
        "\n",
        "* Where A is the matrix that we wish to decompose, Q a matrix with the size m x m, and R is an upper triangle matrix with the size m x n.\n",
        "\n",
        "* **Q is an orthogonal (Q<sup>T</sup> Q = I) or unitary matrix** (Q ∗ Q = I) and **R is an upper triangular matrix**. The QR decomposition is a special case of the [Iwasawa decomposition](https://en.m.wikipedia.org/wiki/Iwasawa_decomposition).\n",
        "\n",
        "* The QR decomposition is found using an iterative numerical method that can fail for those matrices that cannot be decomposed, or decomposed easily.\n",
        "\n",
        "* Like the LU decomposition, the QR decomposition is often used to solve systems of linear equations, although is not limited to square matrices.\n",
        "\n",
        "* By default, the qr function returns the Q and R matrices with smaller or ‘reduced’ dimensions that is more economical. We can change this to return the expected sizes of m x m for Q and m x n for R by specifying the mode argument as ‘complete’, although this is not required for most applications."
      ]
    },
    {
      "cell_type": "markdown",
      "metadata": {
        "id": "yOhv-GS8xXZ4"
      },
      "source": [
        "Such a decomposition always exists and can be calculated using various algorithms. The best known are\n",
        "\n",
        "* [Householder transformations](https://de.m.wikipedia.org/wiki/Householdertransformation)\n",
        "* [Givens rotations](https://de.m.wikipedia.org/wiki/Givens-Rotation)\n",
        "* [Gram-Schmidtsch's orthogonalization method](https://de.m.wikipedia.org/wiki/Gram-Schmidtsches_Orthogonalisierungsverfahren)"
      ]
    },
    {
      "cell_type": "markdown",
      "metadata": {
        "id": "f1JvWMjiJHYY"
      },
      "source": [
        "**Define Matrix**"
      ]
    },
    {
      "cell_type": "code",
      "metadata": {
        "id": "rfu-RgIXFxTL",
        "colab": {
          "base_uri": "https://localhost:8080/",
          "height": 71
        },
        "outputId": "5bf6a6ef-59d2-44ba-f418-a2925cdc3400"
      },
      "source": [
        "from numpy import array\n",
        "\n",
        "# define a 3x2 matrix\n",
        "A = array([[1, 2], [3, 4], [5, 6]])\n",
        "print(A)"
      ],
      "execution_count": null,
      "outputs": [
        {
          "output_type": "stream",
          "text": [
            "[[1 2]\n",
            " [3 4]\n",
            " [5 6]]\n"
          ],
          "name": "stdout"
        }
      ]
    },
    {
      "cell_type": "markdown",
      "metadata": {
        "id": "o8VzIv_nJJhw"
      },
      "source": [
        "**Decompose**"
      ]
    },
    {
      "cell_type": "code",
      "metadata": {
        "id": "ca1KWNdgFyXz"
      },
      "source": [
        "# QR decomposition\n",
        "from numpy.linalg import qr\n",
        "Q, R = qr(A, 'complete')"
      ],
      "execution_count": null,
      "outputs": []
    },
    {
      "cell_type": "code",
      "metadata": {
        "id": "S7deKMpRJCsX",
        "colab": {
          "base_uri": "https://localhost:8080/",
          "height": 71
        },
        "outputId": "2c85ca61-1303-4ce9-ba8e-62a5279d64bc"
      },
      "source": [
        "print(Q)"
      ],
      "execution_count": null,
      "outputs": [
        {
          "output_type": "stream",
          "text": [
            "[[-0.16903085  0.89708523  0.40824829]\n",
            " [-0.50709255  0.27602622 -0.81649658]\n",
            " [-0.84515425 -0.34503278  0.40824829]]\n"
          ],
          "name": "stdout"
        }
      ]
    },
    {
      "cell_type": "code",
      "metadata": {
        "id": "VNw-k4UBI-oo",
        "colab": {
          "base_uri": "https://localhost:8080/",
          "height": 71
        },
        "outputId": "58fe955f-07c2-4213-c87a-9a2257bd4808"
      },
      "source": [
        "print(R)"
      ],
      "execution_count": null,
      "outputs": [
        {
          "output_type": "stream",
          "text": [
            "[[-5.91607978 -7.43735744]\n",
            " [ 0.          0.82807867]\n",
            " [ 0.          0.        ]]\n"
          ],
          "name": "stdout"
        }
      ]
    },
    {
      "cell_type": "markdown",
      "metadata": {
        "id": "V3DercV9JMmm"
      },
      "source": [
        "**Reconstruct**"
      ]
    },
    {
      "cell_type": "code",
      "metadata": {
        "id": "bjR2dwOdF1cS",
        "colab": {
          "base_uri": "https://localhost:8080/",
          "height": 71
        },
        "outputId": "ca36248c-b4c2-43d2-bd53-9e94e4a5f8a1"
      },
      "source": [
        "B = Q.dot(R)\n",
        "print(B)"
      ],
      "execution_count": null,
      "outputs": [
        {
          "output_type": "stream",
          "text": [
            "[[1. 2.]\n",
            " [3. 4.]\n",
            " [5. 6.]]\n"
          ],
          "name": "stdout"
        }
      ]
    },
    {
      "cell_type": "markdown",
      "metadata": {
        "id": "t88lRS-5rsqg"
      },
      "source": [
        "###### <font color=\"blue\">**Factorization (Matrix Decomposition) for Eigenvalues: Eigendecomposition (spectral decomposition)**"
      ]
    },
    {
      "cell_type": "markdown",
      "metadata": {
        "id": "MfzdfQ14r647"
      },
      "source": [
        "[Summary of Eigendecomposition](https://en.m.wikipedia.org/wiki/Matrix_decomposition#Decompositions_based_on_eigenvalues_and_related_concepts)"
      ]
    },
    {
      "cell_type": "markdown",
      "metadata": {
        "id": "LdIT2n59wsir"
      },
      "source": [
        "See also article about [Eigenvalue algorithms (Overview & List)](https://en.m.wikipedia.org/wiki/Eigenvalue_algorithm) and [List of Eigenvalue Algorithms](https://en.m.wikipedia.org/wiki/List_of_numerical_analysis_topics#Eigenvalue_algorithms)"
      ]
    },
    {
      "cell_type": "markdown",
      "metadata": {
        "id": "sooWX-rgS12w"
      },
      "source": [
        "* [Eigendecomposition](https://en.m.wikipedia.org/wiki/Eigendecomposition_of_a_matrix) or sometimes spectral decomposition is the factorization of a matrix into a canonical form, whereby the matrix is represented in terms of its eigenvalues and eigenvectors. Only diagonalizable matrices can be factorized in this way.\n",
        "\n",
        "* Suppose that we want to compute the eigenvalues of a given matrix. If the matrix is small, we can compute them symbolically using the characteristic polynomial. However, this is often impossible for larger matrices, in which case we must use a numerical method. In practice, eigenvalues of large matrices are not computed using the characteristic polynomial. Therefore, general algorithms to find eigenvectors and eigenvalues are iterative.\n",
        "\n",
        "  * Iterative numerical algorithms for approximating roots of polynomials exist, such as **Newton's method**, but in general it is impractical to compute the characteristic polynomial and then apply these methods. One reason is that small round-off errors in the coefficients of the characteristic polynomial can lead to large errors in the eigenvalues and eigenvectors: the roots are an extremely ill-conditioned function of the coefficients.\n",
        "\n",
        "  * A simple and accurate iterative method is the [power iteration method](https://en.m.wikipedia.org/wiki/Power_iteration): a random vector v is chosen and a sequence of unit vectors is computed as $\\frac{\\mathbf{A} \\mathbf{v}}{\\|\\mathbf{A} \\mathbf{v}\\|}, \\frac{\\mathbf{A}^{2} \\mathbf{v}}{\\left\\|\\mathbf{A}^{2} \\mathbf{v}\\right\\|}, \\frac{\\mathbf{A}^{3} \\mathbf{v}}{\\left\\|\\mathbf{A}^{3} \\mathbf{v}\\right\\|}, \\ldots$. This sequence will almost always converge to an eigenvector corresponding to the eigenvalue of greatest magnitude, provided that v has a nonzero component of this eigenvector in the eigenvector basis (and also provided that there is only one eigenvalue of greatest magnitude). **This simple algorithm is useful in some practical applications; for example, Google uses it to calculate the page rank of documents in their search engine.**\n",
        "  \n",
        "  * Also, the power method is the starting point for many more sophisticated algorithms. For instance, by keeping not just the last vector in the sequence, but instead looking at the span of all the vectors in the sequence, one can get a better (faster converging) approximation for the eigenvector, and this idea is the basis of Arnoldi iteration. Alternatively, the important QR algorithm is also based on a subtle transformation of a power method.\n",
        "\n",
        "  * Once the eigenvalues are computed, the eigenvectors could be calculated by solving the equation $\\left(\\mathbf{A}-\\lambda_{i} \\mathbf{I}\\right) \\mathbf{v}_{i, j}=\\mathbf{0}$ using Gaussian elimination or any other method for solving matrix equations.\n",
        "\n",
        "* However, in practical large-scale eigenvalue methods, the eigenvectors are usually computed in other ways, as a byproduct of the eigenvalue computation. In power iteration, for example, the eigenvector is actually computed before the eigenvalue (which is typically computed by the Rayleigh quotient of the eigenvector). In the QR algorithm for a Hermitian matrix (or any normal matrix), the orthonormal eigenvectors are obtained as a product of the Q matrices from the steps in the algorithm. (For more general matrices, the QR algorithm yields the Schur decomposition first, from which the eigenvectors can be obtained by a backsubstitution procedure.) For Hermitian matrices, the Divide-and-conquer eigenvalue algorithm is more efficient than the QR algorithm if both eigenvectors and eigenvalues are desired."
      ]
    },
    {
      "cell_type": "markdown",
      "metadata": {
        "id": "dbHJxGY00hK1"
      },
      "source": [
        "https://en.m.wikipedia.org/wiki/Iterative_method"
      ]
    },
    {
      "cell_type": "markdown",
      "metadata": {
        "id": "4mDiA89Z0W9J"
      },
      "source": [
        "https://en.m.wikipedia.org/wiki/Power_iteration"
      ]
    },
    {
      "cell_type": "markdown",
      "metadata": {
        "id": "4c4SFfsI1In0"
      },
      "source": [
        "* The power iteration method is especially suitable for sparse matrices\n",
        "\n",
        "* Some of the more advanced eigenvalue algorithms can be understood as variations of the power iteration. For instance, the inverse iteration method applies power iteration to the matrix $A^{-1}$"
      ]
    },
    {
      "cell_type": "markdown",
      "metadata": {
        "id": "-JXbEVje0YnI"
      },
      "source": [
        "https://en.m.wikipedia.org/wiki/PageRank"
      ]
    },
    {
      "cell_type": "markdown",
      "metadata": {
        "id": "EA2aVjJjsGop"
      },
      "source": [
        "###### <font color=\"blue\">**Factorization (Matrix Decomposition) for Eigenvalues: Schur Decomposition**"
      ]
    },
    {
      "cell_type": "markdown",
      "metadata": {
        "id": "ek4RzwAasN8c"
      },
      "source": [
        "Schur decomposition"
      ]
    },
    {
      "cell_type": "markdown",
      "metadata": {
        "id": "luGhrlcj9xb1"
      },
      "source": [
        "https://de.m.wikipedia.org/wiki/Schur-Zerlegung"
      ]
    },
    {
      "cell_type": "markdown",
      "metadata": {
        "id": "2T-LX0vGsQZh"
      },
      "source": [
        "Real Schur decomposition"
      ]
    },
    {
      "cell_type": "markdown",
      "metadata": {
        "id": "nkITqyuosTTP"
      },
      "source": [
        "QZ decomposition (Generalized Schur)"
      ]
    },
    {
      "cell_type": "markdown",
      "metadata": {
        "id": "PN-uIAcCsYBz"
      },
      "source": [
        "https://en.m.wikipedia.org/wiki/Matrix_decomposition#Schur_decomposition"
      ]
    },
    {
      "cell_type": "markdown",
      "metadata": {
        "id": "XuNsKvz2FWMd"
      },
      "source": [
        "###### <font color=\"blue\">**Factorization (Matrix Decomposition) for Eigenvalues: Singular-Value Decomposition (SVD)**"
      ]
    },
    {
      "cell_type": "markdown",
      "metadata": {
        "id": "04Q-0RQL-Mw8"
      },
      "source": [
        "https://towardsdatascience.com/understanding-singular-value-decomposition-and-its-application-in-data-science-388a54be95d"
      ]
    },
    {
      "cell_type": "markdown",
      "metadata": {
        "id": "FBhAyNBEvZP1"
      },
      "source": [
        "singular value decomposition can be used to compute the moore-penrose-inverse (to solvw linear equations)"
      ]
    },
    {
      "cell_type": "markdown",
      "metadata": {
        "id": "BE9_30u0HvKn"
      },
      "source": [
        "* Matrix decomposition, also known as matrix factorization, involves describing a given matrix using its constituent elements.\n",
        "\n",
        "* Perhaps the most known and widely used matrix decomposition method is the Singular-Value Decomposition, or SVD. All matrices have an SVD, which makes it more stable than other methods, such as the eigendecomposition. As such, it is often used in a wide array of applications including compressing, denoising, and data reduction.\n",
        "\n",
        "* **The Singular-Value Decomposition, or SVD for short, is a matrix decomposition method for reducing a matrix to its constituent parts in order to make certain subsequent matrix calculations simpler.**\n",
        "\n",
        "* For the case of simplicity we will focus on the SVD for real-valued matrices and ignore the case for complex numbers.\n",
        "\n",
        "> A = U . Sigma . V^T\n",
        "\n",
        "* Where A is the real m x n matrix that we wish to decompose, U is an m x m matrix, Sigma (often represented by the uppercase Greek letter Sigma) is an m x n diagonal matrix, and V^T is the  transpose of an n x n matrix where T is a superscript."
      ]
    },
    {
      "cell_type": "markdown",
      "metadata": {
        "id": "n5Ja69_DICya"
      },
      "source": [
        "* The diagonal values in the Sigma matrix are known as the singular values of the original matrix A. The columns of the U matrix are called the left-singular vectors of A, and the columns of V are called the right-singular vectors of A.\n",
        "\n",
        "* The SVD is calculated via iterative numerical methods. We will not go into the details of these methods. Every rectangular matrix has a singular value decomposition, although the resulting matrices may contain complex numbers and the limitations of floating point arithmetic may cause some matrices to fail to decompose neatly.\n",
        "\n",
        "* The singular value decomposition (SVD) provides another way to factorize a matrix, into singular vectors and singular values. The SVD allows us to discover some of the same kind of information as the eigendecomposition. However, the SVD is more generally applicable.\n",
        "\n",
        "* The SVD is used widely both in the calculation of other matrix operations, such as matrix inverse, but also as a data reduction method in machine learning. SVD can also be used in least squares linear regression, image compression, and denoising data.\n",
        "\n",
        "* The SVD can be calculated by calling the svd() function. The function takes a matrix and returns the U, Sigma and V^T elements. The Sigma diagonal matrix is returned as a vector of singular values. The V matrix is returned in a transposed form, e.g. V.T."
      ]
    },
    {
      "cell_type": "markdown",
      "metadata": {
        "id": "kspDVKumIjj0"
      },
      "source": [
        "**Define a Matrix**"
      ]
    },
    {
      "cell_type": "code",
      "metadata": {
        "id": "H0UN2E9NIUpX",
        "colab": {
          "base_uri": "https://localhost:8080/",
          "height": 69
        },
        "outputId": "5e9952aa-35ae-4a25-d3f9-245750abae97"
      },
      "source": [
        "from numpy import array\n",
        "A = array([[1, 2], [3, 4], [5, 6]])\n",
        "print(A)"
      ],
      "execution_count": null,
      "outputs": [
        {
          "output_type": "stream",
          "text": [
            "[[1 2]\n",
            " [3 4]\n",
            " [5 6]]\n"
          ],
          "name": "stdout"
        }
      ]
    },
    {
      "cell_type": "markdown",
      "metadata": {
        "id": "rwUy0XTnKjN4"
      },
      "source": [
        "**Decompose**"
      ]
    },
    {
      "cell_type": "code",
      "metadata": {
        "id": "HAOV_EhHIXpN"
      },
      "source": [
        "# Calculate Singular-Value Decomposition\n",
        "from scipy.linalg import svd\n",
        "U, s, VT = svd(A)"
      ],
      "execution_count": null,
      "outputs": []
    },
    {
      "cell_type": "code",
      "metadata": {
        "id": "GWbLmTykKr3P",
        "colab": {
          "base_uri": "https://localhost:8080/",
          "height": 69
        },
        "outputId": "13bd262e-ad31-4604-817e-a6c6d1cc7b1c"
      },
      "source": [
        "print(U)"
      ],
      "execution_count": null,
      "outputs": [
        {
          "output_type": "stream",
          "text": [
            "[[-0.2298477   0.88346102  0.40824829]\n",
            " [-0.52474482  0.24078249 -0.81649658]\n",
            " [-0.81964194 -0.40189603  0.40824829]]\n"
          ],
          "name": "stdout"
        }
      ]
    },
    {
      "cell_type": "code",
      "metadata": {
        "id": "Em-H1JnUKqjB",
        "colab": {
          "base_uri": "https://localhost:8080/",
          "height": 34
        },
        "outputId": "7b117372-77b1-4761-dd2e-47294ada0c88"
      },
      "source": [
        "print(s)"
      ],
      "execution_count": null,
      "outputs": [
        {
          "output_type": "stream",
          "text": [
            "[9.52551809 0.51430058]\n"
          ],
          "name": "stdout"
        }
      ]
    },
    {
      "cell_type": "code",
      "metadata": {
        "id": "8YCCCYlaKpOQ",
        "colab": {
          "base_uri": "https://localhost:8080/",
          "height": 52
        },
        "outputId": "af5df3cf-6081-4014-f196-16c1e64b01a7"
      },
      "source": [
        "print(VT)"
      ],
      "execution_count": null,
      "outputs": [
        {
          "output_type": "stream",
          "text": [
            "[[-0.61962948 -0.78489445]\n",
            " [-0.78489445  0.61962948]]\n"
          ],
          "name": "stdout"
        }
      ]
    },
    {
      "cell_type": "markdown",
      "metadata": {
        "id": "LDEvqFwaIl7k"
      },
      "source": [
        "**Reconstruct**"
      ]
    },
    {
      "cell_type": "markdown",
      "metadata": {
        "id": "hLPp9hJELNMv"
      },
      "source": [
        "* The original matrix can be reconstructed from the U, Sigma, and V^T elements.\n",
        "* The U, s, and V elements returned from the svd() cannot be multiplied directly.\n",
        "* The s vector must be converted into a diagonal matrix using the diag() function. By default, this function will create a square matrix that is n x n, relative to our original matrix. This causes a problem as the size of the matrices do not fit the rules of matrix multiplication, where the number of columns in a matrix must match the number of rows in the subsequent matrix.\n",
        "* After creating the square Sigma diagonal matrix, the sizes of the matrices are relative to the original m x n matrix that we are decomposing, as follows:\n",
        "\n",
        "> U (m x m) . Sigma (n x n) . V^T (n x n)\n",
        "\n",
        "* Where, in fact, we require:\n",
        "\n",
        "> U (m x m) . Sigma (m x n) . V^T (n x n)\n",
        "\n",
        "* We can achieve this by creating a new Sigma matrix of all zero values that is m x n (e.g. more rows) and populate the first n x n part of the matrix with the square diagonal matrix calculated via diag()."
      ]
    },
    {
      "cell_type": "code",
      "metadata": {
        "id": "2fWCag1TLzQv",
        "colab": {
          "base_uri": "https://localhost:8080/",
          "height": 69
        },
        "outputId": "7c546b29-8fcb-4f2b-a11c-0cec844b2245"
      },
      "source": [
        "from numpy import diag\n",
        "from numpy import dot\n",
        "from numpy import zeros\n",
        "\n",
        "# create m x n Sigma matrix\n",
        "Sigma = zeros((A.shape[0], A.shape[1]))\n",
        "\n",
        "# populate Sigma with n x n diagonal matrix\n",
        "Sigma[:A.shape[1], :A.shape[1]] = diag(s)\n",
        "\n",
        "# reconstruct matrix\n",
        "B = U.dot(Sigma.dot(VT))\n",
        "print(B)"
      ],
      "execution_count": null,
      "outputs": [
        {
          "output_type": "stream",
          "text": [
            "[[1. 2.]\n",
            " [3. 4.]\n",
            " [5. 6.]]\n"
          ],
          "name": "stdout"
        }
      ]
    },
    {
      "cell_type": "markdown",
      "metadata": {
        "id": "xjw_4ya7MAq6"
      },
      "source": [
        "The above complication with the Sigma diagonal only exists with the case where m and n are not equal. The diagonal matrix can be used directly when reconstructing a square matrix, as follows."
      ]
    },
    {
      "cell_type": "code",
      "metadata": {
        "id": "_VKgvTSqMKxt",
        "colab": {
          "base_uri": "https://localhost:8080/",
          "height": 122
        },
        "outputId": "8d37dec4-a2f2-4deb-8bbe-3ee89372ad6a"
      },
      "source": [
        "# Reconstruct SVD\n",
        "from numpy import array\n",
        "from numpy import diag\n",
        "from numpy import dot\n",
        "from scipy.linalg import svd\n",
        "\n",
        "# define a matrix\n",
        "A = array([[1, 2, 3], [4, 5, 6], [7, 8, 9]])\n",
        "print(A)\n",
        "# Singular-value decomposition\n",
        "U, s, VT = svd(A)\n",
        "# create n x n Sigma matrix\n",
        "Sigma = diag(s)\n",
        "# reconstruct matrix\n",
        "B = U.dot(Sigma.dot(VT))\n",
        "print(B)"
      ],
      "execution_count": null,
      "outputs": [
        {
          "output_type": "stream",
          "text": [
            "[[1 2 3]\n",
            " [4 5 6]\n",
            " [7 8 9]]\n",
            "[[1. 2. 3.]\n",
            " [4. 5. 6.]\n",
            " [7. 8. 9.]]\n"
          ],
          "name": "stdout"
        }
      ]
    },
    {
      "cell_type": "markdown",
      "metadata": {
        "id": "pyPv9Bs5smjo"
      },
      "source": [
        "###### <font color=\"blue\">**Factorization (Matrix Decomposition) for Eigenvalues: Weitere Verfahren**"
      ]
    },
    {
      "cell_type": "markdown",
      "metadata": {
        "id": "19UDRHausu5O"
      },
      "source": [
        "*Numerische Verfahren zur Berechnung von Eigenwerten*"
      ]
    },
    {
      "cell_type": "markdown",
      "metadata": {
        "id": "ibIFWCAST4PJ"
      },
      "source": [
        "https://de.m.wikipedia.org/wiki/Liste_numerischer_Verfahren#Berechnung_von_Eigenwerten"
      ]
    },
    {
      "cell_type": "markdown",
      "metadata": {
        "id": "WbQNnCKHTxCi"
      },
      "source": [
        "* QR-Algorithmus: Berechnung aller Eigenwerte, allerdings mit hohen Kosten verbunden.\n",
        "\n",
        "* LU-Algorithmus: Auch Treppeniteration genannt, Vorläufer des QR-Verfahrens, aber weniger zuverlässig.\n",
        "\n",
        "* Potenzmethode: Diese erlaubt die Berechnung des betragsgrößten Eigenwertes.\n",
        "\n",
        "* Unterraumiteration: Diese ist eine mehrdimensionale Erweiterung der Potenzmethode und erlaubt die gleichzeitige Berechnung mehrerer der betragsgrößten Eigenwerte.\n",
        "\n",
        "* Inverse Iteration: Diese erlaubt die schnelle Berechnung von Eigenwerten nahe einem Shift.\n",
        "\n",
        "* Rayleigh-Quotienten-Iteration: Eine spezielle sehr schnell konvergierende Variante der Inversen Iteration mit Shift.\n",
        "\n",
        "* Lanczos-Verfahren: Berechnung einiger Eigenwerte von großen dünnbesetzten Matrizen.\n",
        "\n",
        "* Arnoldi-Verfahren: Berechnung einiger Eigenwerte von großen dünnbesetzten Matrizen.\n",
        "\n",
        "* Jacobi-Verfahren: Berechnung aller Eigenwerte und Eigenvektoren von kleinen symmetrischen Matrizen.\n",
        "\n",
        "* Jacobi-Davidson-Verfahren: Berechnung einiger Eigenwerte von großen dünnbesetzten Matrizen.\n",
        "\n",
        "* Folded Spectrum Method (Spektrumsfaltung): Berechnung eines Eigenwertes und des zugehörigen Eigenvektors nahe einem Shift (aus der Mitte des Spektrums)."
      ]
    },
    {
      "cell_type": "markdown",
      "metadata": {
        "id": "dIzl9WIYrcoQ"
      },
      "source": [
        "**Overview**"
      ]
    },
    {
      "cell_type": "markdown",
      "metadata": {
        "id": "lBVQc-tOZXGu"
      },
      "source": [
        "* Not to be confused with Matrix factorization of a polynomial.\n",
        "* In the mathematical discipline of linear algebra, a matrix decomposition or matrix factorization is a factorization of a matrix into a product of matrices. \n",
        "\n",
        "* There are many different matrix decompositions; each finds use among a particular class of problems."
      ]
    },
    {
      "cell_type": "markdown",
      "metadata": {
        "id": "ZimudeCftX__"
      },
      "source": [
        "###### <font color=\"blue\">**Factorization (Matrix Decomposition) for other decompositions**"
      ]
    },
    {
      "cell_type": "markdown",
      "metadata": {
        "id": "-xLi2ykptka5"
      },
      "source": [
        "https://en.m.wikipedia.org/wiki/Matrix_decomposition#Other_decompositions"
      ]
    },
    {
      "cell_type": "markdown",
      "metadata": {
        "id": "3OQ7eTBayshC"
      },
      "source": [
        "###### <font color=\"blue\">**Factorization (Matrix Decomposition) for Recommender Systems (large matrices)**"
      ]
    },
    {
      "cell_type": "markdown",
      "metadata": {
        "id": "h8k0cwD1_QbC"
      },
      "source": [
        "There are plenty of papers and articles out there talking about the use of matrix factorization for collaborative filtering. We can use Principal Component Analysis (PCA), Probabilistic Matrix Factorization (PMF), SVD, or NMF matrix decomposition techniques, depending on the specific use case. (https://heartbeat.fritz.ai/applications-of-matrix-decompositions-for-machine-learning-f1986d03571a)"
      ]
    },
    {
      "cell_type": "markdown",
      "metadata": {
        "id": "x1lrlUPj_Zap"
      },
      "source": [
        "https://towardsdatascience.com/various-implementations-of-collaborative-filtering-100385c6dfe0"
      ]
    },
    {
      "cell_type": "markdown",
      "metadata": {
        "id": "wvRk9Ckry2wq"
      },
      "source": [
        "https://en.m.wikipedia.org/wiki/Matrix_factorization_(recommender_systems)"
      ]
    },
    {
      "cell_type": "markdown",
      "metadata": {
        "id": "KMxvRtwLzBcs"
      },
      "source": [
        "https://en.m.wikipedia.org/wiki/Collaborative_filtering"
      ]
    },
    {
      "cell_type": "markdown",
      "metadata": {
        "id": "4NsYKvLPzOjV"
      },
      "source": [
        "In recent years a number of neural and deep-learning techniques have been proposed. **Some generalize traditional Matrix factorization algorithms via a non-linear neural architecture,** or leverage new model types like Variational Autoencoders."
      ]
    },
    {
      "cell_type": "markdown",
      "metadata": {
        "id": "1AMIWt_tzIno"
      },
      "source": [
        "Neural Collaborative Filtering: https://dl.acm.org/doi/10.1145/3038912.3052569"
      ]
    },
    {
      "cell_type": "markdown",
      "metadata": {
        "id": "oaJIGJNzzymu"
      },
      "source": [
        "###### <font color=\"blue\">**Principal component analysis**"
      ]
    },
    {
      "cell_type": "markdown",
      "metadata": {
        "id": "qa862jnTz4FK"
      },
      "source": [
        "https://en.m.wikipedia.org/wiki/Principal_component_analysis"
      ]
    },
    {
      "cell_type": "markdown",
      "metadata": {
        "id": "Bfkc_-jIFtmU"
      },
      "source": [
        "###### <font color=\"blue\">**Non-negative matrix factorization**"
      ]
    },
    {
      "cell_type": "markdown",
      "metadata": {
        "id": "dsefRffQ-5Er"
      },
      "source": [
        "SVD vs NMF (In SVD, we decompose our matrices with the constraint that resultant matrices are orthogonal. Rather than constraining our factors to be orthogonal, another idea would be to constrain them to be non-negative): https://heartbeat.fritz.ai/applications-of-matrix-decompositions-for-machine-learning-f1986d03571a"
      ]
    },
    {
      "cell_type": "markdown",
      "metadata": {
        "id": "f4c7lww5T_b8"
      },
      "source": [
        "* [Non-negative matrix factorization](https://en.m.wikipedia.org/wiki/Non-negative_matrix_factorization) (NMF or NNMF), also non-negative matrix approximation is a **group of algorithms** in multivariate analysis and linear algebra where a matrix V is factorized into (usually) two matrices W and H, with the property that all three matrices have no negative elements. \n",
        "\n",
        "* This non-negativity makes the resulting matrices easier to inspect. Also, in applications such as processing of audio spectrograms or muscular activity, non-negativity is inherent to the data being considered. \n",
        "\n",
        "* Since the problem is not exactly solvable in general, it is commonly approximated numerically."
      ]
    },
    {
      "cell_type": "markdown",
      "metadata": {
        "id": "SA_5AGX6UJJe"
      },
      "source": [
        "![NNMF](https://upload.wikimedia.org/wikipedia/commons/f/f9/NMF.png)"
      ]
    },
    {
      "cell_type": "markdown",
      "metadata": {
        "id": "gfuyK3-ZUtCQ"
      },
      "source": [
        "*Illustration of approximate non-negative matrix factorization: the matrix V is represented by the two smaller matrices W and H, which, when multiplied, approximately **reconstruct V**.*"
      ]
    },
    {
      "cell_type": "markdown",
      "metadata": {
        "id": "sZzSya6rSLjr"
      },
      "source": [
        "###### <font color=\"blue\">**Sehr grosse, dünnbesetzte Matrizen**"
      ]
    },
    {
      "cell_type": "markdown",
      "metadata": {
        "id": "6IhK7GBvSZrK"
      },
      "source": [
        "* In der [numerischen Mathematik](https://de.m.wikipedia.org/wiki/Numerische_Mathematik) bezeichnet man als [dünnbesetzte oder schwachbesetzte Matrix (englisch sparse matrix)](https://de.m.wikipedia.org/wiki/Dünnbesetzte_Matrix) eine Matrix, bei der so viele Einträge aus Nullen bestehen, dass man nach Möglichkeiten sucht, dies insbesondere hinsichtlich Algorithmen sowie Speicherung auszunutzen.\n",
        "\n",
        "* Die Diskretisierung von partiellen Differentialgleichungen führt meistens auf dünnbesetzte Matrizen, etwa auf Bandmatrizen, ebenfalls die Darstellung von vielen typischen Graphen (bei beschränktem Knotengrad, Planarität o. Ä.) über ihre Adjazenzmatrix. \n",
        "\n",
        "* Zu beachten ist, dass die Inverse einer dünnbesetzten Matrix im Regelfall vollbesetzt ist, ebenso wie die LR-Zerlegung. Eine Ausnahme bilden dabei die Bandmatrizen, bei denen eine solche Zerlegung ebenfalls dünnbesetzt sein kann.\n",
        "\n",
        "* Dünnbesetzte Matrizen haben die Eigenschaft, dass sie effizient abgespeichert werden können, indem man nur Position und Wert der Nicht-Null-Einträge abspeichert. Die Position der Nichtnulleinträge wird auch als Besetzungsstruktur oder Sparsity Pattern bezeichnet. Die Auswertung eines dünnbesetzten Matrix-Vektor-Produkts kann ebenfalls effizient erfolgen, indem die Nullen in der Berechnung des Produkts nicht berücksichtigt werden.\n",
        "\n"
      ]
    },
    {
      "cell_type": "markdown",
      "metadata": {
        "id": "G2gCNB1USNXq"
      },
      "source": [
        "https://de.m.wikipedia.org/wiki/Dünnbesetzte_Matrix"
      ]
    },
    {
      "cell_type": "markdown",
      "metadata": {
        "id": "u0d2DUb7xpAN"
      },
      "source": [
        "[Krylow-Unterraum-Verfahren](https://de.m.wikipedia.org/wiki/Krylow-Unterraum-Verfahren): Moderne iterative Verfahren, die für große, dünnbesetzte Gleichungssysteme gedacht sind. Wichtiger Spezialfall für symmetrisch positiv definite Probleme ist das Verfahren der [konjugierten Gradienten](https://de.m.wikipedia.org/wiki/CG-Verfahren). Krylow-Unterraum-Verfahren sind iterative Verfahren zum Lösen großer, dünnbesetzter linearer Gleichungssysteme, wie sie bei der Diskretisierung von partiellen Differentialgleichungen entstehen, oder von Eigenwertproblemen."
      ]
    },
    {
      "cell_type": "markdown",
      "metadata": {
        "id": "P9f2lq9s4tJr"
      },
      "source": [
        "#### **Eigenwertproblem**"
      ]
    },
    {
      "cell_type": "markdown",
      "metadata": {
        "id": "67gIZXbG5db3"
      },
      "source": [
        "###### <font color=\"blue\">**Skalar & Determinante**"
      ]
    },
    {
      "cell_type": "markdown",
      "metadata": {
        "id": "s8I3t063LsOf"
      },
      "source": [
        "*Determinante*"
      ]
    },
    {
      "cell_type": "markdown",
      "metadata": {
        "id": "lQ3mRESjREgW"
      },
      "source": [
        "* **Die Determinante ist das Produkt der Eigenwerte** (und Hauptdiagonalelemente / spur ist die summe der eigenwerte)\n",
        "\n",
        "* nur für quadratische Matrizen"
      ]
    },
    {
      "cell_type": "markdown",
      "metadata": {
        "id": "Y_RIOxr9LuLh"
      },
      "source": [
        "**Lineare Abhängigkeit von Vektoren = kein Volumen oder Fläche = Determinante gleich Null = Eigenwert existiert**\n",
        "\n",
        "  * lineare Abhängigkeit: **die Determinante ist null, wenn die beiden Vektoren  v  und  w  linear abhängig sind**. Es kann zB keine Flache zwischen den Vektoren aufgespannt werden, weil sie sich auf derselben Linie befinden. Es existiert dann minestens ein Eigenwert und Rand < n.\n",
        "  \n",
        "  (daher gleich null fur eigenwerte, weil die eigenvektoren orthogonal zueinander sind)\n",
        "\n",
        "  * Rang kleiner n (kein voller Rang - eine Zeile/Spalte nur aus Nullen besteht): Es gilt, dass die Determinante einer Matrix genau dann 0 ist, wenn ihr Rang kleiner n ist. Hat eine Matrix Determinante 0, so hat sie nicht vollen Rang.\n",
        "\n",
        "  * Eine **quadratische Matrix A besitzt einen Kern, wenn ihre Determinante gleich Null ist**. Wäre die Determinante der quadratischen Matrix A ungleich Null, so enthielte der Kern der Matrix nur den Nullvektor.\n",
        "\n",
        "  * zwei Zeilen/Spalten gleich sind\n",
        "\n",
        "  * es existieren Eigenwerte (eine Zeile/Spalte ist eine Linearkombination anderer Zeilen/Spalten)\n",
        "\n",
        "\n",
        "\n",
        "\n",
        "\n",
        "\n"
      ]
    },
    {
      "cell_type": "markdown",
      "metadata": {
        "id": "aGmxNJ_WF-_V"
      },
      "source": [
        "**Determinante nicht gleich Null**\n",
        "\n",
        "  * Matrix invertierbar: Die Determinante einer Matrix A ist genau dann ungleich Null, wenn A invertierbar ist (“invertierbar” und “regulär” ist äquivalent)\n",
        "\n",
        "  *  Gleichungssystem ist  eindeutig lösbar (wenn die Determinante der Koeffizientenmatrix ungleich null ist).\n",
        "\n",
        "  * es gibt keine Eigenwerte"
      ]
    },
    {
      "cell_type": "markdown",
      "metadata": {
        "id": "tkd8yABPSO2q"
      },
      "source": [
        "**Determinanten, Rang & Eigenwert**\n",
        "\n",
        "* Ausführliches zur Rangberechnung gibt es hier (link), kurz zusammengefasst noch einmal, der Rang ist die Anzahl linear unabhängiger Zeilen- oder Spaltenvektoren einer Matrix. Bei einer quadratischen (n×n)-Matrix bedeutet dies, er ist höchstens n. \n",
        "\n",
        "* **Es gilt, dass die Determinante einer Matrix genau dann 0 ist, wenn ihr Rang kleiner n ist.**\n",
        "\n",
        "* Im Zwei- oder Dreidimensionalen haben wir sogar eine anschauliche Begründung aus dem vorigen Abschnitt, **hier berechnet die Determinante die Fläche des aufgespannten Parallelogramms beziehungsweise das Volumen des Parallelpetids**. \n",
        "\n",
        "> **Sind im ℝ2 die zwei Vektoren linear abhängig, so spannen diese eben keine Fläche auf (sondern nur eine Linie).**\n",
        "\n",
        "* Ebenso fehlt bei drei Vektoren umgangssprachlich gesagt, zum Beispiel \"die Höhe\" (in die dritte Dimension), das Volumen des aufgespannten Parallelpetids ist daher Null.\n",
        "\n",
        "* Determinanten und Eigenwerte\n",
        "In der linearen Algebra gibt es den Satz, dass die Determinante einer Matrix A genau das Produkt der Eigenwerte λi beträgt. \n",
        "\n",
        "> Eng verwandt mit der vorigen Aussage ist die folgende: **Hat eine Matrix Determinante 0 so ist mindestens ein Eigenwert 0 und umgekehrt**. Das hat natürlich zur Folge, dass in Kombination mit dem Begriff des Ranges gilt, ist der Rang einer (n×n)-Matrix kleiner n so hat sie mindestens einen Eigenwert gleich 0 und umgekehrt."
      ]
    },
    {
      "cell_type": "markdown",
      "metadata": {
        "id": "pqltxX_WUgbi"
      },
      "source": [
        "![ggg](https://raw.githubusercontent.com/deltorobarba/repo/master/eigenwert_determinante.png)"
      ]
    },
    {
      "cell_type": "markdown",
      "metadata": {
        "id": "CKMNI6rQUn45"
      },
      "source": [
        "https://www.mathematik.de/algebra/74-erste-hilfe/algebra/matrizen/2427-folgerungen-aus-und-folgerungen-für-die-determinante"
      ]
    },
    {
      "cell_type": "markdown",
      "metadata": {
        "id": "LapPO_gURBOX"
      },
      "source": [
        "* zB Flächeninhalt bestimmen: zwei positiv orientierte Vektoren  ( v , w ) erzeugen das Dreieck  0 ,  v ,  w  mit dem Flächeninhalt  F = 1\n",
        "\n",
        "* Eine [Determinante](https://de.m.wikipedia.org/wiki/Determinante) ist eine spezielle Funktion, eine Zahl (ein [Skalar](https://de.m.wikipedia.org/wiki/Skalar_(Mathematik))), die einer **quadratischen Matrix** eine Zahl zuordnet.\n",
        "\n",
        "* Diese Zahl gibt Auskunft über einige Eigenschaften der Matrix:\n",
        "\n",
        "  * Sie gibt an, wie sich das **Volumen** bei der durch die Matrix beschriebenen linearen Abbildung ändert (**Faktor der Flachen- bzw. Volumenanderung**).\n",
        "  \n",
        "  * <u>**det A = 4 bedeutet zB dass die Matrix den Flächeninhalt stets vervierfacht** (angefangen bei der Orthonormal-Basis</u>.\n",
        "  \n",
        "  * Die Determinante einer Matrix ( oder ) gibt an, wie sich das Volumen einer aus Eckpunkten zusammengesetzten Geometrie skaliert, wenn diese durch die Matrix abgebildet wird. Ist die Determinante negativ, so ändert sich zusätzlich die Orientierung der Eckpunkte.\n",
        "\n",
        "  * Mit Hilfe von Determinanten kann man beispielsweise feststellen, ob ein lineares Gleichungssystem eindeutig lösbar ist, und kann die Lösung mit Hilfe der [Cramerschen Regel](https://de.m.wikipedia.org/wiki/Cramersche_Regel) explizit angeben. **Das Gleichungssystem ist genau dann eindeutig lösbar, wenn die Determinante der Koeffizientenmatrix ungleich null ist**. \n",
        "\n",
        "    * Die Cramersche Regel oder Determinantenmethode ist eine mathematische Formel für die Lösung eines linearen Gleichungssystems. Sie ist bei der theoretischen Betrachtung linearer Gleichungssysteme hilfreich. \n",
        "    \n",
        "    * Für die Berechnung einer Lösung ist der Rechenaufwand jedoch in der Regel zu hoch, da dabei verhältnismäßig viele Determinanten auftreten. Deshalb kommen dazu andere [Verfahren aus der numerischen Mathematik](https://de.m.wikipedia.org/wiki/Liste_numerischer_Verfahren#Lineare_Gleichungssysteme) zum Einsatz.\n",
        "  \n",
        "  * Entsprechend ist eine quadratische Matrix mit Einträgen aus einem Körper genau dann **invertierbar**, wenn ihre Determinante ungleich null ist.\n",
        "\n",
        "  * Schreibt man $n$ Vektoren im $\\mathbb {R} ^{n}$ als Spalten einer quadratischen Matrix, so kann die Determinante dieser Matrix gebildet werden. Bilden bei dieser Festlegung die $n$ Vektoren eine Basis, so kann das Vorzeichen der Determinante dazu verwendet werden, die **Orientierung** von euklidischen Räumen zu definieren. Der Absolutbetrag dieser Determinante entspricht zugleich dem **Volumen** des n-Parallelotops (auch Spat genannt), das durch diese Vektoren aufgespannt wird.\n",
        "  \n",
        "  * Eine weitere wichtige Anwendung ist die Berechnung des charakteristischen Polynoms und damit der Eigenwerte der Matrix.\n",
        "\n",
        "  *  Allgemeiner kann man jeder linearen Selbstabbildung [(Endomorphismus) eine Determinante](https://de.m.wikipedia.org/wiki/Determinante#Determinante_eines_Endomorphismus) zuordnen. (Da ähnliche Matrizen die gleiche Determinante haben, kann man die Definition der Determinante von quadratischen Matrizen auf die durch diese Matrizen dargestellten linearen Selbstabbildungen (Endomorphismen) übertragen.)\n"
      ]
    },
    {
      "cell_type": "markdown",
      "metadata": {
        "id": "r1VS32wOn7V3"
      },
      "source": [
        "*Loesung*\n",
        "\n",
        "* Es gibt geschlossene Formeln zur Berechnung der Determinanten, wie den Laplace’schen Entwicklungssatz oder die [Leibniz-Formel](https://de.m.wikipedia.org/wiki/Determinante#Leibniz-Formel). Diese Formeln sind jedoch eher von theoretischem Wert, da ihr Aufwand bei größeren Matrizen stark ansteigt. \n",
        "\n",
        "* In der Praxis kann man Determinanten am leichtesten berechnen, indem man die Matrix mit Hilfe des [Gauß-Algorithmus](https://de.m.wikipedia.org/wiki/Gau%C3%9Fsches_Eliminationsverfahren) in obere oder untere Dreiecksform bringt, die Determinante ist dann einfach das Produkt der [Hauptdiagonalelemente](https://de.m.wikipedia.org/wiki/Hauptdiagonale).\n",
        "\n",
        "  * Will man das Lösen eines quadratischen eindeutig lösbaren Gleichungssystems Ax=b als Computerprogramm umsetzen, bietet es sich an, den Gaußalgorithmus als [LR-Zerlegung (auch LU-Zerlegung oder Dreieckszerlegung genannt)](https://de.m.wikipedia.org/wiki/Gau%C3%9Fsches_Eliminationsverfahren#LR-Zerlegung) zu interpretieren.\n",
        "\n",
        "* Eine Alternative hierzu ist der [Gauß-Jordan-Algorithmus](https://de.m.wikipedia.org/wiki/Gau%C3%9F-Jordan-Algorithmus), bei dem nicht nur die unteren Teile eliminiert werden, sondern auch die oberen, so dass eine Diagonalform entsteht, bei der dann der oben genannte zweite Schritt entfällt.\n",
        "\n"
      ]
    },
    {
      "cell_type": "markdown",
      "metadata": {
        "id": "DfD244DFkJ_U"
      },
      "source": [
        "*Schreibweisen*\n",
        "\n",
        "Übliche Schreibweisen für die Determinante einer quadratischen Matrix $A$ sind $\\operatorname{det}(A), \\operatorname{det} A$ oder $|A|$. Zum Beispiel kann die Determinante einer $2 \\times 2$ -Matrix\n",
        "\n",
        ">$\n",
        "A=\\left(\\begin{array}{ll}\n",
        "a & c \\\\\n",
        "b & d\n",
        "\\end{array}\\right)\n",
        "$\n",
        "\n",
        "mit der Formel berechnet werden:\n",
        "\n",
        ">$\n",
        "\\operatorname{det} A=\\left|\\begin{array}{ll}\n",
        "a & c \\\\\n",
        "b & d\n",
        "\\end{array}\\right|=a d-b c\n",
        "$"
      ]
    },
    {
      "cell_type": "markdown",
      "metadata": {
        "id": "AveT-GVHj_rK"
      },
      "source": [
        "*Die 2x2-Determinante **ist gleich dem orientierten Flächeninhalt** des von ihren Spaltenvektoren aufgespannten Parallelogramms*\n",
        "\n",
        "![ggg](https://upload.wikimedia.org/wikipedia/commons/thumb/a/ad/Area_parallellogram_as_determinant.svg/440px-Area_parallellogram_as_determinant.svg.png)"
      ]
    },
    {
      "cell_type": "markdown",
      "metadata": {
        "id": "4GqHv38Lh3z3"
      },
      "source": [
        "*Skalar*"
      ]
    },
    {
      "cell_type": "markdown",
      "metadata": {
        "id": "TkCe1kdth5cQ"
      },
      "source": [
        "https://de.m.wikipedia.org/wiki/Skalar_(Mathematik)"
      ]
    },
    {
      "cell_type": "markdown",
      "metadata": {
        "id": "C2RMiNq8MzzY"
      },
      "source": [
        "###### <font color=\"blue\">**Eigenwertproblem**"
      ]
    },
    {
      "cell_type": "markdown",
      "metadata": {
        "id": "rmPiMmbg-SBF"
      },
      "source": [
        "**Eigenwertproblem & charakteristisches Polynom (\"Eigen~\" hat immer was mit Stabilität zu tun)**"
      ]
    },
    {
      "cell_type": "markdown",
      "metadata": {
        "id": "OO6cp75wKQuS"
      },
      "source": [
        "Es sei eine quadratische Matrix $A$ gegeben. Die Suche nach einem Vektor $v \\neq 0$ und einer Zahl $\\lambda$\n",
        "sodass folgende Gleichung erfüllt ist, nennt man Eigenwertproblem:\n",
        "\n",
        ">$\n",
        "A \\cdot v=\\lambda \\cdot v\n",
        "$\n",
        "\n",
        "*Man wendet eine Matrix als Transformation an einen Vektor an, und dieser Vektor wird nur verlangert und verkurzt (und bleibt gleich), aber verandert nicht seine Richtung. Z.B. die Hauptachse bei einer Rotation*.\n",
        "\n",
        "* $A$ is the matrix representing some transformation\n",
        "* Den Faktor $\\lambda$  nennt man dann den zugehörigen **Eigenwert** (reell oder komplex), \n",
        "* der Vektor $v$ heißt dann **Eigenvektor** (darf nicht der Nullvektor sein). \n",
        "* Die Menge der Eigenwerte einer Matrix wird als **Spektrum** der Matrix bezeichnet.\n",
        "\n",
        "Matrix-Vector-Multiplication $\n",
        "A \\cdot v$ gives same result as just scaling the Eigenvector $\\lambda \\cdot v$. \n",
        "\n",
        "**Calculating via determinant: The tweaked transformation squishes space into a lower dimension.** (Daher muss rang < n sein)!)"
      ]
    },
    {
      "cell_type": "markdown",
      "metadata": {
        "id": "UbMo9Qo6Hp5f"
      },
      "source": [
        "![ggg](https://raw.githubusercontent.com/deltorobarba/repo/master/eigenwert_determinante.png)"
      ]
    },
    {
      "cell_type": "markdown",
      "metadata": {
        "id": "2Xs4wmtVZBYA"
      },
      "source": [
        "**Charakteristika von Eigenwerten**\n",
        "\n",
        "* Die Multiplikation einer Matrix  mit einem Vektor ergibt wieder einen Vektor. **Für quadratische Matrizen gibt es bestimmte Vektoren, die man an die Matrix multiplizieren kann, sodass man den selben Vektor als Ergebnis erhält, nur mit einem Vorfaktor multipliziert**. Einen solchen Vektor nennt man Eigenvektor  und der Vorfaktor heißt Eigenwert einer Matrix.\n",
        "\n",
        "* Ein rotierender Körper ohne äußere Kräfte verbleibt in seiner Bewegung, wenn er um seine **Symmetrieachse** rotiert\n",
        "\n",
        "* Some vectors are just stretched or squeezed out, but ramin on their span. they are called Eigenvectors, and the degree to which each of them got stretched during the transformation (=change of basis!) is called Eigenvalue.\n",
        "\n",
        "* Wenn eine Basis aus Eigenvektoren existiert, so ist die Darstellungsmatrix bezüglich dieser Basis eine **Diagonalmatrix**\n",
        "\n",
        "* im Fall des Trägheitstensors sind die Hauptträgheitsachsen dann eine **Basis aus Eigenvektoren**\n",
        "\n",
        "* Aber nicht zu jeder Matrix existiert eine Basis aus Eigenvektoren\n",
        "\n",
        "* eine solche Basis aus Eigenvektoren stets dann existiert, wenn die Matrix symmetrisch ist\n",
        "\n",
        "* der nullvektor ist kein Eigenvektor, Null darf hingegen ein Eigenwert sein.\n",
        "\n",
        "* Der **Eigenraum** zu einem Eigenwert besteht aus allen Eigenvektoren plus dem Nullvektor\n"
      ]
    },
    {
      "cell_type": "markdown",
      "metadata": {
        "id": "wi-oqmd-IzDz"
      },
      "source": [
        "Will man Eigenwerte berechnen, so ist es häufig nützlich, wenn man ein paar Eigenschaften darüber kennt. Daher sollen im Folgenden ein paar derer aufgezählt werden. Mit Kenntnis dieser Eigenschaften lassen sich häufig Eigenwerte bestimmen, ohne dabei viel rechnen zu müssen.\n",
        "\n",
        "* Sei $\\lambda$ ein Eigenwert der invertierbaren Matrix $A$ mit dem Eigenvektor $v$. Dann ist auch $\\frac{1}{\\lambda}$ ein Eigenwert der inversen Matrix von A zum Eigenvektor $v$,\n",
        "\n",
        "* Seien $\\lambda_{i}$ die Eigenwerte der Matrix $A \\in \\mathbb{C}^{n \\times n}$. Dann gilt:\n",
        "\n",
        "  1. $\\sum_{i=1}^{n} \\lambda_{i}=\\operatorname{Spur}(A)$ (die Summe aller Eigenwerte ist die Spur)\n",
        "\n",
        "  2. $\\prod_{i=1}^{n} \\lambda_{i}=\\operatorname{det}(A)$ (das Produkt aller Eigenwerte ist die Determinante)\n",
        "\n",
        "* Ist $\\lambda$ ein Eigenwert einer Matrix $A$, so ist er auch ein Eigenwert der transponierten Matrix $A^{T}$ und umgekehrt. Das Spektrum von $A$ stimmt also mit dem Spektrum der Transponierten $A^{T}$ überein.\n",
        "\n",
        "* Jeder Eigenwert einer reellen symmetrischen Matrix ist reell. Im Allgemeinen können aber\n",
        "auch komplexe Eigenwerte durchaus auftreten."
      ]
    },
    {
      "cell_type": "markdown",
      "metadata": {
        "id": "8u4X4yvODwnN"
      },
      "source": [
        "**Praktische Beispiele fur Eigenvektoren** (aus [diesem Video](https://www.youtube.com/watch?app=desktop&v=9P__qyOAPCg))\n",
        "\n",
        "Eigenvektor: Vektoren, die bei einer Transformation mit einer Matrix ihre Richtung nicht ändern. \n",
        "\n",
        "* Z.B. Rotationen um eine Achse = Achse bleibt fest und ist Eigenvektor (bei einfachen Rotationen Eigenwert = 1). \n",
        "\n",
        "* in mechanik: trägheitsmoment gegenüber rotationen. Hauptachsen mit Tensorrechnung. die hauptachsen sind diejenigen richtungen, in die die drehungen stabile verlaufen. drehimpuls und winkelgeschwindigkeit haben gleiche richtung. keine schwankungen der drehachsen, sie sind stabil. (https://www.grund-wissen.de/physik/mechanik/kinematik/kreisfoermige-bewegungen.html)\n",
        "\n",
        "* In der Theorie der elastischen Körper gibt es die Möglichkeit die Deformationen von Körpern aufzuteilen in Scherungen und Schubspannungen und Streckungen, und das fuhrt auch zu einer Hauptachsentransformation.\n",
        "\n",
        "* Oder Hauptachsentransformation (=entlang derer die Eigenvektoren liegen) bei Bildbearbeitung: wenn Bild in eine Richtung verzerrt ist, kann man es entzerren., wenn man Verzerrungsrichtung findet.\n",
        "\n",
        "Wenn man die Transformation auf diese Hauptachsen macht, dann ist die ganze Abbildung nur noch eine Diagonalmatrix (und keine Nebendiagonalelemente mehr). Mit solchen Matrizen kann man sehr einfach rechnen. Nennt man dann Hauptachsentransformation (=Hauptachsen sind Eigenvektorrichtungen). \n",
        "\n",
        "* Stabilitätsprobleme: suche nach Eigenwerten (wirschaftssysteme, wettervorhersage). Zw 2 geschäften wandern kunden hin und her. Will man verhindern dass kunden komplett abwandern in ein geschäft, sucht man eigenwerte. \n",
        "\n",
        "* Physik: kopplung von schwingungen bei 2 objekten. Eigenschwingung des systems wenn bei parallel oder antiparallel schwingen.\n",
        "\n",
        "* Quantenmechanik: hermetische Operatoren. Diese führen zu Eigenwerten und Eigenvektoren. \n",
        "\n",
        "\t* Interessant ist bei solchen Operatoren bzw. bei den linearen Abbildungen bei den symmetrischen Matrizen im Reellen: Eigenvektoren stehen im reellen senkrecht aufeinander. (Bilden eine Orthonormalbasis). \n",
        "\n",
        "\t* Man kann Vektorraum mit diesen Eigenvektoren aufspannen und jeden Vektor als Linearkombination dieser Eigenvektoren darstellen.\n",
        "\n",
        "\t* **Dann ist das Verhalten der Abbildungen quasi reduziert auf das Verhalten der Eigenvektoren mit ihren entsprechenden Eigenwerten, so dass dann jeder Vektor wenn man ihn in die Basis der Eigenvektoren schreibt, relativ einfach transformiert werden kann**, indem man einfach die entsprechenden Eigenvektor-Skalierungen beachtet und später die Summe immer wieder bildet (ist ja alles linear).\n",
        "\n",
        "Spezielle Vektoren der Quantenmechanik:\n",
        "\n",
        "* Hamilton-Operator (Energie-Operator): Die Eigenzustaende dieses Energieoperators sind dann die Energiezustaende, die stabil sind. In der Atomphysik sind das dann die Zustande, die die Elektronen in den Orbitalen beschreiben\n",
        "\n",
        "* Genauso gibt es Eigenvektoren zu den Drehimpuls-Operatoren (und zu anderen Dingen). Hier kommt Eigenwert-Theorie zum blühen. Die entsprechende Orthonormal-Basis ist dann auch die Basis in der man jede beliebigen Zustand des Systems beschreiben kann. "
      ]
    },
    {
      "cell_type": "markdown",
      "metadata": {
        "id": "4v2hT8WO-ryw"
      },
      "source": [
        "**Beispiele, warum man Eigenvektoren und Eigenwerte in der Praxis braucht:**\n",
        "\n",
        "> eigenvektoren = orthonormalbasis, man kann alle andere vektoren (und damit lösungen) daraus rekonstruieren (ist das so korrekt??)\n",
        "\n",
        "> Zum Beispiel: A complex-valued square matrix $\\mathrm{A}$ is normal (meaning $\\mathrm{A}^{*} \\mathrm{~A}=\\mathrm{AA}^{*}$, where $\\mathrm{A}^{*}$ is the conjugate transpose) if and only if it can be decomposed as $\n",
        "\\mathbf{A}=\\mathbf{U} \\mathbf{\\Lambda} \\mathbf{U}^{*}\n",
        "$ where $\\mathrm{U}$ is a unitary matrix (meaning $\\mathrm{U}^{*}=\\mathrm{U}^{-1}$ ) and $\\boldsymbol{\\Lambda}=\\operatorname{diag}\\left(\\lambda_{1}, \\ldots, \\lambda_{n}\\right)$ is a diagonal matrix. **The columns $\\mathrm{u}_{1}, \\ldots, \\mathrm{u}_{n}$ of $\\mathrm{U}$ form an orthonormal basis and are eigenvectors of $\\mathrm{A}$ with corresponding eigenvalues $\\lambda_{1}, \\ldots, \\lambda_{n}$.**\n",
        "\n",
        "Wie berechnet man am einfachsten, den Zustand des Systems zu einem vorgegebenen Zeitpunkt $t_{k}$ in der ferneren Zukunft; sagen wir $k=1000 ?$\n",
        "\n",
        "* Wir nehmen an, dass der Anfangszustand $\\boldsymbol{v}_{0}$ ein Eigenvektor von $A$ zum Eigenwert $\\lambda$ ist, d. h., es gilt $\\boldsymbol{v}_{1}=A \\boldsymbol{v}_{0}=\\lambda \\boldsymbol{v}_{0}$ \n",
        "\n",
        "* Erklarung: die Transformation (Multiplikation) eines Zustands mit dem Vektors ${v}_{0}$ mit einer Transition-Matrix $A$ in einen neuen Zustand ${v}_{1}$ ist das gleiche wie die Multiplikation des Vektors ${v}_{0}$ mit dem Eigenwert.\n",
        "\n",
        "* Daraus ergibt sich $\\boldsymbol{v}_{2}=A \\boldsymbol{v}_{1}=\\lambda A \\boldsymbol{v}_{0}=\\lambda^{2} \\boldsymbol{v}_{0}$ und allgemein $\n",
        "\\boldsymbol{v}_{k}=A^{k} \\boldsymbol{v}_{0}=\\lambda^{k} \\boldsymbol{v}_{0} \\text { . }\n",
        "$\n",
        "\n",
        "* Wir haben damit eine geschlossene Formel für den Zustand $\\boldsymbol{v}_{k}$, damit können wir also den Zustand des Systems zum Zeitpunkt $t_{k}=1000$ leicht bestimmen, $\n",
        "v_{1000}=\\lambda^{1000} v_{0}\n",
        "$\n",
        "\n",
        "Welches Langzeitverhalten hat das System? Beispielsweise erhebt sich die Frage, ob der komponentenweise zu verstehende Grenzwert $\\lim _{k \\rightarrow \\infty} v_{k}$ existiert, ob die Einträge von $v_{k}$ über alle Grenzen wachsen, ob sie periodisch oszillieren, usw.\n",
        "\n",
        "* Auch die zweite Frage wird dadurch beantwortet: Ist $|\\lambda|<1$, so konvergiert $v_{k}$ komponentenweise gegen $\\mathbf{0}=(0, \\ldots, 0 .$ Ist $|\\lambda|>1$, so wachsen die Komponenten von $v_{k}$ über alle Grenzen, wenn die entsprechende Komponente von $v_{0}$ nicht gerade gleich null ist. \n",
        "\n",
        "* $\\operatorname{Im}$ Fall $\\lambda=1$ ist die Folge stationär: $\\boldsymbol{v}_{k}=\\boldsymbol{v}_{0}$ für alle $k \\in \\mathbb{N}_{0} . \\operatorname{Im}$ Fall $\\lambda=-1$ oszilliert sie:\n",
        "$v_{2 k}=v_{0}$ und $v_{2 k+1}=-v_{0}$."
      ]
    },
    {
      "cell_type": "markdown",
      "metadata": {
        "id": "lQQKdBUmBB1w"
      },
      "source": [
        "**Kriterien fur die Existenz von Eigenwerten**\n",
        "\n",
        "(*Wenn eine dieser Aussagen wahr ist, dann alle. Und wenn eine falsch, dann sind alle falsch*)\n",
        "\n",
        "1. $\\operatorname{rg}(B) < n$\n",
        "\n",
        "2. $\\operatorname{det}(B) = 0$ -> dieses Kriterium zu prufen ist am einfachsten und daher am haufigsten!\n",
        "\n",
        "3. $B^{-1}$ existiert nicht\n",
        "\n",
        "4. $B \\vec{X}$ = 0 hat mehr als nur die Losung $\\vec{x}$ = 0\n",
        "\n",
        "5. $\\lambda$ = 0 ist ein Eigenwert von $B$"
      ]
    },
    {
      "cell_type": "markdown",
      "metadata": {
        "id": "yFPn1kkwE2od"
      },
      "source": [
        "**Die Determinante ist das Produkt der Eigenwerte, die Spur die Summe der Eigenwerte** \n",
        "\n",
        "(die Determinante ist null, wenn die beiden Vektoren  v  und  w  linear abhängig sind).\n",
        "\n",
        "Der Zusammenhang zwischen Spur, Determinante und den Eigenwerten einer Matrix: \n",
        "\n",
        "Ist $A \\in \\mathbb{K}^{n \\times n}$ und zerfällt das charakteristische Polynom von $A$ in seine $n$ Linearfaktoren, d. h.\n",
        "\n",
        "* $\n",
        "\\chi_{A}=\\left(\\lambda_{1}-X\\right) \\cdots\\left(\\lambda_{n}-X\\right)\n",
        "$\n",
        "\n",
        "* So gilt: $\n",
        "\\text { Sp } A=\\lambda_{1}+\\cdots+\\lambda_{n}, \\quad \\text { det } A=\\lambda_{1} \\cdots \\lambda_{n}\n",
        "$\n",
        "\n"
      ]
    },
    {
      "cell_type": "markdown",
      "metadata": {
        "id": "HteISTfaPgCj"
      },
      "source": [
        "**Herleitung der Lösung des Eigenwertproblems**\n",
        "\n",
        "Wie gelangt man zu dieser Berechnungsvorschrift? Dazu betrachten wir erst einmal das Eigenwertproblem, das es zu lösen gilt:\n",
        "\n",
        "$\n",
        "A \\cdot v=\\lambda \\cdot v\n",
        "$\n",
        "\n",
        "Diese Gleichung lässt sich mithilfe der Einheitsmatrix $E_{n}$ umformulieren:\n",
        "\n",
        "> $\n",
        "\\begin{array}{l}\n",
        "A \\cdot v-\\lambda \\cdot v=0 \\\\\n",
        "\\left(A-\\lambda\\right) \\cdot v=0\n",
        "\\end{array}\n",
        "$\n",
        "\n",
        "**Problem: Man kann eine Matrix A nicht mit einer Zahl verknupfen, daher benutzt man die Einheitsmatrix $E_{n}$**\n",
        "\n",
        "> $(A-\\lambda E_{n}) \\cdot v=0$\n",
        "\n",
        "Gibt es nun eine Zahl $\\lambda$ und einen Vektor $v$, sodass dieser durch Multiplikation mit der Matrix\n",
        "$\\left(A-\\lambda E_{n}\\right)$ auf den Nullvektor abgebildet wird, so ist diese Matrix nicht von vollem Rang und die Multiplikation mit einem Vektor nicht injektiv. Dass die Matrix $\\left(A-\\lambda E_{n}\\right)$ keinen vollen Rang besitzt ist gleichbedeutend damit, dass ihre Determinante Null ist. Wenn es\n",
        "also eine Lösung des Eigenwertproblems gibt, muss gelten:\n",
        "\n",
        "$\n",
        "\\operatorname{det}\\left(A-\\lambda E_{n}\\right)=0\n",
        "$\n",
        "\n",
        "Um das Eigenwertproblem zu lösen, müssen also die Nullstellen des charakteristischen\n",
        "Polynoms\n",
        "\n",
        "$\n",
        "\\chi_{A}(\\lambda)=\\operatorname{det}\\left(A-\\lambda E_{n}\\right)\n",
        "$\n",
        "\n",
        "ermittelt werden, genau wie es der Algorithmus vorschreibt."
      ]
    },
    {
      "cell_type": "markdown",
      "metadata": {
        "id": "gewOoWIREvwy"
      },
      "source": [
        "**Berechnung der Eigenwerte, Eigenräume und Eigenvektoren**"
      ]
    },
    {
      "cell_type": "markdown",
      "metadata": {
        "id": "5QbDi3hDN8p4"
      },
      "source": [
        "Es sei die $n \\times n$ -Matrix $A$ vorgegeben und zu dieser wollen wir die Eigenwerte berechnen. Folgende Schritte musst du dabei durchführen. \n",
        "\n",
        "> Zum Beispiel fur die Matrix $A=\\left(\\begin{array}{lll}2 & 1 & 2 \\\\ 1 & 2 & 2 \\\\ 1 & 1 & 3\\end{array}\\right)$\n",
        "\n",
        "\n",
        "\n"
      ]
    },
    {
      "cell_type": "markdown",
      "metadata": {
        "id": "GUeaBBxAU734"
      },
      "source": [
        "1. Bilde die Matrix $\\left(A-\\lambda E_{n}\\right)$. $E_{n}$ steht für die **Einheitsmatrix**. Du musst also in der Matrix $A$ auf der Diagonalen immer den Wert $\\lambda$ abziehen.\n",
        "\n",
        "> $\\left(A-\\lambda E_{n}\\right)=\\left(\\begin{array}{lll}2 & 1 & 2 \\\\ 1 & 2 & 2 \\\\ 1 & 1 & 3\\end{array}\\right)-\\left(\\begin{array}{ccc}\\lambda & 0 & 0 \\\\ 0 & \\lambda & 0 \\\\ 0 & 0 & \\lambda\\end{array}\\right)=\\left(\\begin{array}{ccc}2-\\lambda & 1 & 2 \\\\ 1 & 2-\\lambda & 2 \\\\ 1 & 1 & 3-\\lambda\\end{array}\\right)$"
      ]
    },
    {
      "cell_type": "markdown",
      "metadata": {
        "id": "h67G6O08U4kZ"
      },
      "source": [
        "2. Berechne die **Determinante** dieser Matrix. Diese nennt man das **charakteristische Polynom** $\\chi_{A}(\\lambda)=\\operatorname{det}\\left(A-\\lambda E_{n}\\right)$ der Matrix $A .$ Es ist ein Ausdruck in Abhängigkeit von $\\lambda$.\n",
        "\n",
        "> $\\operatorname{det}\\left(A-\\lambda E_{n}\\right)=\\operatorname{det}\\left(\\begin{array}{ccc}2-\\lambda & 1 & 2 \\\\ 1 & 2-\\lambda & 2 \\\\ 1 & 1 & 3-\\lambda\\end{array}\\right)$\n",
        "$=(2-\\lambda)^{2} \\cdot(3-\\lambda)+2+2-2 \\cdot(2-\\lambda)-2 \\cdot(2-\\lambda)-(3-\\lambda)$\n",
        "$=-\\lambda^{3}+7 \\lambda^{2}-11 \\lambda+5$ **(=Polynom)**"
      ]
    },
    {
      "cell_type": "markdown",
      "metadata": {
        "id": "hOfq16Q1U2M_"
      },
      "source": [
        "3. Bestimme die Nullstellen des [**charakteristischen Polynoms**](https://de.m.wikipedia.org/wiki/Charakteristisches_Polynom) $\\chi_{A}(\\lambda)=0$. Das sind genau die gesuchten Eigenwerte der Matrix. (**weil dann die Determinante oben Null wird, und das ist was wir wollen**)\n",
        "\n",
        "> Durch Ausprobieren erhalten wir schnell die erste Nullstelle $\\lambda_{1}=1$. Klammern wir dann den Faktor $(\\lambda-1)$ aus, erhalten wir:\n",
        "$\n",
        "-\\lambda^{3}+7 \\lambda^{2}-11 \\lambda+5=(\\lambda-1) \\cdot\\left(-\\lambda^{2}+6 \\lambda-5\\right)\n",
        "$\n",
        "\n",
        "> Die restlichen Nullstellen sind also Nullstellen des Polynoms $-\\lambda^{2}+6 \\lambda-5 .$ Diese lassen sich mithilfe der [Mitternachtsformel](https://de.m.wikipedia.org/wiki/Quadratische_Gleichung#Lösungsformel_für_die_allgemeine_quadratische_Gleichung_(a-b-c-Formel)) bestimmen:\n",
        "$\n",
        "\\lambda_{2,3}=\\frac{-6 \\pm \\sqrt{36-20}}{-2}=3 \\mp 2\n",
        "$\n",
        "\n",
        "\n",
        "> Somit lauten die drei Eigenwerte der $3 \\times 3$ -Matrix $\\lambda_{1}=\\lambda_{2}=1, \\lambda_{3}=5$."
      ]
    },
    {
      "cell_type": "markdown",
      "metadata": {
        "id": "3O6EyJi3CeCW"
      },
      "source": [
        "Berechnung der Eigenwerte, Eigenräume und Eigenvektoren mit dem charakterischen Polynom, dass man wiederum mit der Determinante erklären kann\n",
        "\n",
        "* Hat eine Matrix A nicht gerade Dreiecks- oder Diagonalgestalt, so bestimmt man im Allgemeinen die Eigenwerte von $A$ systematisch durch Berechnen der Nullstellen des charakteristischen Polynoms $\\chi_{A}$ von $A$.\n",
        "\n",
        "* Eigenwerte sind Nullstellen des charakteristischen Polynoms\n",
        "\n",
        "* Eine Matrix $A \\in \\mathbb{K}^{n \\times n}$ hat genau dann den Eigenwert $\\lambda$, wenn das homogene lineare Gleichungssystem $\\left(A-\\lambda \\mathbf{E}_{n}\\right) v=\\mathbf{0}$ eine Lösung $\\boldsymbol{v} \\neq \\mathbf{0}$ besitzt.\n",
        "\n",
        "* Achtung Das homogene lineare Gleichungssystem $\\left(A-\\lambda \\mathrm{E}_{n}\\right) v=0$ mit $\\lambda \\in \\mathbb{K}$ hat auf jeder Fall die Lösung $v=0$ - unabhängig von $\\lambda$. Wir sind aber gerade an den nichttrivialer Lösungen $v \\neq 0$ interessiert. Wir suchen also die $\\lambda \\in \\mathbb{K}$, für die solche nichttrivialer Lösungen existieren. Hierzu ist die Determinante das Mittel der Wahl.\n",
        "\n",
        "* das homogene lineare Gleichungssystem  ( A - λ E n ) v = 0  genau dann eine Lösung  v ≠ 0, **wenn die Determinante der folgenden Koeffizientenmatrix des homogen linearen Gleichungssystems den Wert  0  hat. Und die Determinante ist null, wenn zwei Vektoren v und w linear abhängig sind**.\n",
        "  \n",
        "> $\n",
        "\\begin{array}{rcccc} \n",
        "& a_{11}-\\lambda & a_{12} & \\cdots & a_{1 n} \\\\\n",
        "\\left|\\boldsymbol{A}-\\lambda \\mathbf{E}_{n}\\right|=\\mid & a_{21} & a_{22}-\\lambda & & \\vdots \\\\\n",
        "& \\vdots & & \\ddots & \\\\\n",
        "& a_{n 1} & \\cdots & & a_{n n}-\\lambda\n",
        "\\end{array}\n",
        "$\n",
        "\n",
        "\n",
        "\n"
      ]
    },
    {
      "cell_type": "markdown",
      "metadata": {
        "id": "yO7Mz5cMF_gO"
      },
      "source": [
        "Durch sukzessives Entwickeln dieser Determinante nach den ersten\n",
        "Spalten und Zusammenfassen aller Terme mit der gleichen $\\lambda$ -Potenz erhält man daraus eine Gleichung $n$ -ten Grades für $\\lambda$,\n",
        "\n",
        "$\n",
        "\\left(-1 \\lambda^{n}+c_{n-1} \\lambda^{n-1}+\\ldots+c_{1} \\lambda+c_{0}=0\\right.\n",
        "$ mit $c_{0}, c_{1}, \\ldots, c_{n-1} \\in \\mathbb{K}$\n",
        "\n",
        "Das Polynom\n",
        "\n",
        "$\n",
        "\\begin{array}{rlr}\n",
        "\\chi_{A} & := & \\left|A-X \\mathbf{E}_{n}\\right| \\\\\n",
        "& =\\left(-1 X^{n}+c_{n-1} X^{n-1}+\\cdots+c_{1} X+c_{0} \\in \\mathbb{K}[X]\\right.\n",
        "\\end{array}\n",
        "$\n",
        "\n",
        "vom Grad $n$ heißt charakteristisches Polynom der Matrix $A \\in \\mathbb{K}^{n \\times n} .$ Es gilt:\n",
        "\n",
        "$\n",
        "\\lambda \\in \\mathbb{K} \\text { ist ein Eigenwert von } A \\Leftrightarrow \\chi_{A}(\\lambda)=0 .\n",
        "$\n",
        "\n",
        "Die Matrix $A$ hat höchstens $n$ Eigenwerte."
      ]
    },
    {
      "cell_type": "markdown",
      "metadata": {
        "id": "h-5FB4sQ_XI0"
      },
      "source": [
        "**Eigenwerte sind eng mit Diagonalisierbarkeit und Matrizen  verbunden**\n",
        "\n",
        "Kriterium für Diagonalisierbarkeit : \n",
        "\n",
        "Eine Matrix $A \\in \\mathbb{K}^{n \\times n}$ ist genau dann diagonalisierbar, wenn es eine Basis $B$ des $\\mathbb{K}^{n}$ aus Eigenvektoren von $A$ gibt.\n",
        "\n",
        "Ist $B=\\left(b_{1}, \\ldots, b_{n}\\right)$ eine geordnete Basis des $\\mathbb{K}^{n}$ aus Eigenvektoren der Matrix $A$, so ist die Matrix\n",
        "\n",
        "$\n",
        "D=S^{-1} A S\n",
        "$\n",
        "\n",
        "mit $S=\\left(\\left(b_{1}, \\ldots, b_{n}\\right)\\right)$ eine Diagonalmatrix."
      ]
    },
    {
      "cell_type": "markdown",
      "metadata": {
        "id": "KWuE-EYRAl5F"
      },
      "source": [
        "Eigenwertproblem einfach erklart: https://www.youtube.com/watch?v=eJWgKvrhDmE"
      ]
    },
    {
      "cell_type": "markdown",
      "metadata": {
        "id": "UE_1v9IbYk03"
      },
      "source": [
        "https://www.youtube.com/watch?v=PFDu9oVAE-g"
      ]
    },
    {
      "cell_type": "markdown",
      "metadata": {
        "id": "ejJGgzLRZdpG"
      },
      "source": [
        "![ggg](https://raw.githubusercontent.com/deltorobarba/repo/master/eigenvalue_01.png)"
      ]
    },
    {
      "cell_type": "markdown",
      "metadata": {
        "id": "tAcjHNOhaJRQ"
      },
      "source": [
        "Useful for example to know the axis of rotation (where the Eigenvalue would be 1, since rotation is neither stretching nor squishing).\n",
        "\n",
        "> Rotate $30^{\\circ}$ around $\\left[\\begin{array}{l}2 \\\\ 3 \\\\ 1\\end{array}\\right]$ = $\\left[\\begin{array}{ccc}\\cos (\\theta) \\cos (\\phi) & -\\sin (\\phi) & \\cos (\\theta) \\sin (\\phi) \\\\ \\sin (\\theta) \\cos (\\phi) & \\cos (\\theta) & \\sin (\\theta) \\sin (\\phi) \\\\ -\\sin (\\phi) & 0 & \\cos (\\phi)\\end{array}\\right]$"
      ]
    },
    {
      "cell_type": "markdown",
      "metadata": {
        "id": "zcJPAwTAaIWF"
      },
      "source": [
        "![ggg](https://raw.githubusercontent.com/deltorobarba/repo/master/eigenvalue_02.png)"
      ]
    },
    {
      "cell_type": "markdown",
      "metadata": {
        "id": "0jUCA24x5OuA"
      },
      "source": [
        "*Eigenvektor*"
      ]
    },
    {
      "cell_type": "markdown",
      "metadata": {
        "id": "EWe68ag2M2q1"
      },
      "source": [
        "* Ein [Eigenvektor](https://de.m.wikipedia.org/wiki/Eigenwertproblem) einer Abbildung ist in der linearen Algebra ein vom Nullvektor verschiedener Vektor, dessen Richtung durch die Abbildung nicht verändert wird. \n",
        "\n",
        "* Ein Eigenvektor wird also nur skaliert und man bezeichnet den Skalierungsfaktor als Eigenwert der Abbildung.\n",
        "\n",
        "* Eigenwerte charakterisieren wesentliche Eigenschaften linearer Abbildungen, etwa ob ein entsprechendes lineares Gleichungssystem eindeutig lösbar ist oder nicht. "
      ]
    },
    {
      "cell_type": "markdown",
      "metadata": {
        "id": "4jjZrNOiNC_V"
      },
      "source": [
        "*Eigenraum*"
      ]
    },
    {
      "cell_type": "markdown",
      "metadata": {
        "id": "mZKqOG0ANFqz"
      },
      "source": [
        "* [Eigenraum](https://de.m.wikipedia.org/wiki/Eigenraum) ist ein Begriff aus der linearen Algebra. Er bezeichnet die lineare Hülle der Eigenvektoren zu einem bestimmten Eigenwert eines Endomorphismus. Die Eigenvektoren spannen damit einen Untervektorraum auf.\n",
        "\n",
        "* Eine Verallgemeinerung des Eigenraums ist der Hauptraum. Hat ein Eigenwert die algebraische Vielfachheit 1, so sind für diesen Eigenwert Eigenraum und Hauptraum gleich."
      ]
    },
    {
      "cell_type": "markdown",
      "metadata": {
        "id": "O3mIl8Xj8Dfs"
      },
      "source": [
        "###### <font color=\"blue\">**Spur & Spektrum**"
      ]
    },
    {
      "cell_type": "markdown",
      "metadata": {
        "id": "qtQ3y65LJX43"
      },
      "source": [
        "**Spur**"
      ]
    },
    {
      "cell_type": "markdown",
      "metadata": {
        "id": "zyK6KVjUJKnQ"
      },
      "source": [
        "* Die Spur einer Matrix ist die Summe ihrer Eigenwerte\n",
        "\n",
        "* Die [Spur](https://de.m.wikipedia.org/wiki/Spur_(Mathematik)) (Spurfunktion, Spurabbildung) ist ein Konzept in den mathematischen Teilgebieten der Linearen Algebra sowie der Funktionalanalysis und wird auch in der Theorie der Körper und Körpererweiterungen verwendet.\n",
        "\n",
        "* In der linearen Algebra bezeichnet man als die Spur einer quadratischen $n\\times n$ Matrix A über einem Körper K die Summe der Hauptdiagonalelemente dieser Matrix"
      ]
    },
    {
      "cell_type": "markdown",
      "metadata": {
        "id": "AVw9YGcYJMoI"
      },
      "source": [
        "$\n",
        "A=\\left(\\begin{array}{cccc}\n",
        "a_{11} & a_{12} & \\cdots & a_{1 n} \\\\\n",
        "a_{21} & a_{22} & \\cdots & a_{2 n} \\\\\n",
        "\\vdots & \\vdots & \\ddots & \\vdots \\\\\n",
        "a_{n 1} & a_{n 2} & \\cdots & a_{n n}\n",
        "\\end{array}\\right)\n",
        "$"
      ]
    },
    {
      "cell_type": "markdown",
      "metadata": {
        "id": "_vZ_NNVFJOxf"
      },
      "source": [
        "$\n",
        "\\operatorname{Spur}(A)=\\sum_{j=1}^{n} a_{j j}=a_{11}+a_{22}+\\cdots+a_{n n} \\in K\n",
        "$"
      ]
    },
    {
      "cell_type": "markdown",
      "metadata": {
        "id": "4D-RILUhJQlc"
      },
      "source": [
        "\n",
        "$\n",
        "\\text { Gilt Spur }(A)=0 \\text { , so bezeichnet man die Matrix } A \\text { als spurfrei. }\n",
        "$"
      ]
    },
    {
      "cell_type": "markdown",
      "metadata": {
        "id": "aeE-pNAcJSkW"
      },
      "source": [
        "Die Spur einer Matrix ist die **Summe ihrer Eigenwerte** (mit algebraischer Vielfachheit). Für diagonalisierbare Matrizen sind algebraische Vielfachheit und geometrische Vielfachheit identisch, so dass die Vielfachheit eines Eigenwertes der Anzahl seiner zugehörigen (linear unabhängigen) Eigenvektoren entspricht.\n",
        "\n",
        "Unter der Spur dürfen Matrizen vertauscht werden.\n",
        "\n",
        "Zwei zueinander ähnliche Matrizen haben die gleiche Spur. Die Spur ist somit invariant unter Basistransformationen."
      ]
    },
    {
      "cell_type": "markdown",
      "metadata": {
        "id": "vYKq5brzfV_l"
      },
      "source": [
        "https://de.m.wikipedia.org/wiki/Spektralsatz"
      ]
    },
    {
      "cell_type": "markdown",
      "metadata": {
        "id": "pHunpyf1dvm7"
      },
      "source": [
        "https://de.m.wikipedia.org/wiki/Spurklasseoperator"
      ]
    },
    {
      "cell_type": "markdown",
      "metadata": {
        "id": "P96ciYgRW9yL"
      },
      "source": [
        "https://en.m.wikipedia.org/wiki/Spectrum_(functional_analysis)"
      ]
    },
    {
      "cell_type": "markdown",
      "metadata": {
        "id": "g5fh3J1_XAhl"
      },
      "source": [
        "https://en.m.wikipedia.org/wiki/Spectral_theory"
      ]
    },
    {
      "cell_type": "markdown",
      "metadata": {
        "id": "0IcSwwqWW4X7"
      },
      "source": [
        "https://en.m.wikipedia.org/wiki/Operator_(physics)#Operators_in_quantum_mechanics"
      ]
    },
    {
      "cell_type": "markdown",
      "metadata": {
        "id": "3HEUDDUKW7W8"
      },
      "source": [
        "https://en.m.wikipedia.org/wiki/Mathematical_formulation_of_quantum_mechanics"
      ]
    },
    {
      "cell_type": "markdown",
      "metadata": {
        "id": "VTyvm_3XXCzx"
      },
      "source": [
        "https://de.m.wikipedia.org/wiki/Selbstadjungierter_Operator"
      ]
    },
    {
      "cell_type": "markdown",
      "metadata": {
        "id": "TvPf0jxIWz_O"
      },
      "source": [
        "https://de.m.wikipedia.org/wiki/Eigenmode"
      ]
    },
    {
      "cell_type": "markdown",
      "metadata": {
        "id": "S93NclS3W1yh"
      },
      "source": [
        "https://de.m.wikipedia.org/wiki/Resonanz"
      ]
    },
    {
      "cell_type": "markdown",
      "metadata": {
        "id": "dm-2jM0tXHLW"
      },
      "source": [
        "https://en.m.wikipedia.org/wiki/Hearing_the_shape_of_a_drum"
      ]
    },
    {
      "cell_type": "markdown",
      "metadata": {
        "id": "_CZKqHZKXI8W"
      },
      "source": [
        "https://en.m.wikipedia.org/wiki/Dirichlet_eigenvalue"
      ]
    },
    {
      "cell_type": "markdown",
      "metadata": {
        "id": "glNtHGj8poRr"
      },
      "source": [
        "https://youtu.be/Mx75Kiqyaik"
      ]
    },
    {
      "cell_type": "markdown",
      "metadata": {
        "id": "Lu_f_gIaJan7"
      },
      "source": [
        "**Spurklasseoperator (Spur in der Funktionalanalysis)**"
      ]
    },
    {
      "cell_type": "markdown",
      "metadata": {
        "id": "1xRqNvYWJcX0"
      },
      "source": [
        "Das Konzept der Spur in der linearen Algebra kann auch auf unendlichdimensionale Räume ausgedehnt werden. Falls diese existiert. Die Endlichkeit dieser Summe ist abhängig von der Wahl der Orthonormalbasis. Operatoren, für die dies immer der Fall ist (diese sind immer kompakt), also deren Spur über alle Orthonormalbasen endlich ist, werden Spurklasseoperatoren genannt."
      ]
    },
    {
      "cell_type": "markdown",
      "metadata": {
        "id": "_D8F4FdJJd-q"
      },
      "source": [
        "In der Quantenmechanik beziehungsweise der Quantenstatistik verallgemeinert man den Begriff der Spur so, dass auch Operatoren erfasst werden, die keine Spurklasseoperatoren sind. Und zwar brauchen diese Operatoren, wie zum Beispiel der grundlegende Hamiltonoperator (Energie-Operator) $\\mathcal {H}$ des Systems, nur selbstadjungiert zu sein. Sie besitzen dann eine [Spektraldarstellung](https://de.m.wikipedia.org/wiki/Spektralsatz) (Der Name leitet sich vom „Spektrum“ der Eigenwerte her).\n",
        "\n",
        "* In der Quantenmechanik hat der Spektralsatz („Entwicklungssatz“) eine zentrale Bedeutung, da messbare physikalische Größen, sogenannte „Observablen“, durch selbstadjungierte Operatoren auf einem Hilbertraum dargestellt werden.\n",
        "\n",
        "* Die möglichen Messwerte einer Observablen entsprechen ihrem Spektrum, welches in Punktspektrum (oder ${ }_{n}$ diskretes Spektrum\") und kontinuierliches Spektrum zerfällt. Die Elemente des Punktspektrums werden auch Eigenwerte genannt. \n",
        "\n",
        "* Für eine diskrete Observable, d. h. eine Observable ohne kontinuierliches Spektrum, ist die Wahrscheinlichkeit, für einen gegebenen quantenmechanischen Zustand $|\\psi\\rangle$ den Messwert $\\lambda_{j}$ zu erhalten, gegeben durch das Betragsquadrat des Skalarproduktes $\\left\\langle\\phi_{j} \\mid \\psi\\right\\rangle$, wobei $\\phi_{j}$ die Eigenfunktion zum Eigenwert $\\lambda_{j}$ ist.\n",
        "\n"
      ]
    },
    {
      "cell_type": "markdown",
      "metadata": {
        "id": "jEgearjQJjKX"
      },
      "source": [
        "https://de.m.wikipedia.org/wiki/Spurklasseoperator"
      ]
    },
    {
      "cell_type": "markdown",
      "metadata": {
        "id": "AaGRQxP8Jgsw"
      },
      "source": [
        "https://de.m.wikipedia.org/wiki/Spektralsatz"
      ]
    },
    {
      "cell_type": "markdown",
      "metadata": {
        "id": "eOjC8w7_JlPT"
      },
      "source": [
        "**Definition Spektrum**"
      ]
    },
    {
      "cell_type": "markdown",
      "metadata": {
        "id": "Q6m56NkK3cuG"
      },
      "source": [
        "[Spektraldarstellung](https://de.m.wikipedia.org/wiki/Spektralsatz): Der Name leitet sich vom „Spektrum“ der Eigenwerte her).\n",
        "\n",
        "Das Spektrum eines Operators $T$ ist die Menge aller Elemente $\\lambda$ des Zahlenkörpers (meistens die komplexen Zahlen), für die die Differenz des Operators mit dem $\\lambda$ -fachen der identischen Abbildung\n",
        "\n",
        "> $T-\\lambda$ id\n",
        "\n",
        "nicht beschränkt-invertierbar ist, das heißt, dass es keine Inverse gibt oder diese nicht beschränkt sind.\n",
        "Das Spektrum des Operators wird mit $\\sigma(T)$ bezeichnet und die Elemente des Spektrums heißen Spektralwerte."
      ]
    },
    {
      "cell_type": "markdown",
      "metadata": {
        "id": "Zv6ohvyV6XhD"
      },
      "source": [
        "**Beispiel: Matrixen in der linearen Algebra**\n",
        "\n",
        "In der linearen Algebra bilden die nxn-Matrizen mit komplexen Einträgen eine Algebra bezüglich der üblichen Addition und Skalarmultiplikation (komponentenweise) sowie der Matrizenmultiplikation. Die $(n \\times n)$ -Matrizen können daher sowohl als Beispiel für eigentliche Operatoren in ihrer Eigenschaft als lineare Abbildungen des $\\mathbb{C}^{n} \\rightarrow \\mathbb{C}^{n}$ angesehen werden, als auch als Beispiel einer Operatoralgebra, wobei es in diesem Kontext unerheblich ist, welche Operatornorm für die Matrizen gewählt wird. Da alle linearen Abbildungen eines endlichdimensionalen Raumes auf sich automatisch beschränkt sind, kann dieser Begriff in der Definition hier außer Acht gelassen werden.\n",
        "\n",
        "* Eine Matrix $A$ ist invertierbar, wenn es eine Matrix $B$ gibt, so dass $A \\cdot B=B \\cdot A=I$ ([Einheitsmatrix](https://de.wikipedia.org/wiki/Einheitsmatrix)) ist. Dies ist genau dann der Fall, wenn die Determinante nicht verschwindet: det $A \\neq 0$. \n",
        "\n",
        "  * Sei $\n",
        "A=\\left(\\begin{array}{ll}\n",
        "a & b \\\\\n",
        "c & d\n",
        "\\end{array}\\right)\n",
        "$ ist eine $2 \\times 2$ -Matrix.\n",
        "\n",
        "  * Die Determinante $D(A)$ (bzw. $\\operatorname{det}(A)$ oder $\\operatorname{Det}(A)$ ) von $A$ ist gleich $a d-b c$ also:\n",
        "\n",
        "  * $\n",
        "\\operatorname{Det}(A)=\\left|\\begin{array}{cc}\n",
        "a & b \\\\\n",
        "c & d\n",
        "\\end{array}\\right|=a d-b c\n",
        "$\n",
        "\n",
        "* **Daher ist eine Zahl $z \\in \\mathbb{C}$ dann ein Spektralwert, wenn $\\operatorname{det}(A-z I)=0$ gilt, also wenn die Determinante verschwindet, was bedeutet, dass keine Invertierbarkeit vorliegt.**\n",
        "\n",
        "* Da dies aber gerade das charakteristische Polynom der Matrix $A$ in $z$ ist, ist $z$ genau dann ein Spektralwert, wenn $z$ ein Eigenwert der Matrix ist. \n",
        "\n",
        "* **In der linearen Algebra bezeichnet das Spektrum einer Matrix daher die Menge der Eigenwerte.**"
      ]
    },
    {
      "cell_type": "markdown",
      "metadata": {
        "id": "OT7QeqIZ7XXu"
      },
      "source": [
        "**Beispiel: Funktionen**\n",
        "\n",
        "Die stetigen Funktionen auf dem Intervall [0,1] mit Werten in den komplexen Zahlen ( C bilden (z. B. mit der Supremumsnorm als Norm, die hier aber nicht von\n",
        "Belang ist) eine Banachalgebra, wobei die Summe zweier Funktionen und das\n",
        "Produkt zweier Funktionen punktweise definiert wird:\n",
        "\n",
        "$\n",
        "(f+g)(x)=f(x)+g(x) \\quad(f \\cdot g)(x)=f(x) \\cdot g(x)\n",
        "$\n",
        "\n",
        "Eine Funktion $f$ heißt dann in dieser Algebra invertierbar, wenn es eine andere Funktion $g$ gibt, so dass $f \\cdot g(=g \\cdot f)=1$ (Einsfunktion) ist, das heißt, wenn es\n",
        "eine Funktion $g$ gibt, deren Werte gerade die Kehrwerte von $f$ sind. Man sieht nun schnell ein, dass **eine Funktion genau dann invertierbar ist, wenn sie nicht den\n",
        "Funktionswert 0 besitzt** und die Inverse in diesem Fall punktweise die inversen\n",
        "Funktionswerte (Kehrwerte) der ursprünglichen Funktion besitzt:\n",
        "\n",
        "> $\n",
        "f^{-1}(x)=(f(x))^{-1}=1 / f(x), \\text { wenn } f(x) \\neq 0 \\text { überall. }\n",
        "$\n",
        "\n",
        "**Eine Zahl $z \\in \\mathbb{C}$ ist also ein Spektralwert, wenn die Funktion $f-z$ nicht invertierbar ist, also den Funktionswert 0 besitzt**. Dies ist natürlich genau dann der Fall, wenn $z$ ein Funktionswert von $f$ ist. **Das Spektrum einer Funktion ist daher\n",
        "genau ihr Bild.**"
      ]
    },
    {
      "cell_type": "markdown",
      "metadata": {
        "id": "w8seR9FL2hAy"
      },
      "source": [
        "**Die Spektraltheorie linearer Operatoren aus der Funktionalanalysis ist eine Verallgemeinerung der [Eigenwerttheorie](https://de.wikipedia.org/wiki/Eigenwertproblem) aus der linearen Algebra.**"
      ]
    },
    {
      "cell_type": "markdown",
      "metadata": {
        "id": "O_uHYcseDMNq"
      },
      "source": [
        "* Das [Spektrum](https://de.wikipedia.org/wiki/Spektrum_(Operatortheorie)) eines linearen Operators ist ein Begriff aus der Funktionalanalysis, einem Teilgebiet der Mathematik. \n",
        "\n",
        "* In der endlichdimensionalen linearen Algebra betrachtet man Endomorphismen, die durch Matrizen dargestellt werden, und ihre Eigenwerte. Die Verallgemeinerung ins Unendlichdimensionale wird in der Funktionalanalysis betrachtet. \n",
        "\n",
        "* **Das Spektrum eines Operators kann man sich als Menge verallgemeinerter Eigenwerte vorstellen. Diese werden Spektralwerte genannt.**"
      ]
    },
    {
      "cell_type": "markdown",
      "metadata": {
        "id": "av1H5O1y1snw"
      },
      "source": [
        "Sei $A \\in \\mathcal{L}(\\mathcal{H})$. Eine Zahl $\\lambda \\in \\mathbb{C}$ heißt ein **Eigenwert** von $A$, wenn es einen Vektor $x$ $\\in$ $\\mathcal{H} \\backslash\\{0\\}$ gibt mit\n",
        "\n",
        "$\n",
        "A x=\\lambda x\n",
        "$\n",
        "\n",
        "Der Vektor $x$ heißt dann **Eigenvektor** von $A$ zum Eigenwert $\\lambda$. \n",
        "\n",
        "Der Vektorraum $N(A-\\lambda I)$ heißt der Eigenraum von A zum Eigenwert $\\lambda$,\n",
        "\n",
        "> $\n",
        "P_{\\{\\lambda\\}}:=P_{N(A-\\lambda I)}\n",
        "$\n",
        "\n",
        "die zu $\\lambda$ gehörende **Eigenprojektion**."
      ]
    },
    {
      "cell_type": "markdown",
      "metadata": {
        "id": "AmVA59p82Qqs"
      },
      "source": [
        "https://www.uni-math.gwdg.de/mkohlma/Documents/VL_WS16_17.pdf"
      ]
    },
    {
      "cell_type": "markdown",
      "metadata": {
        "id": "ldllxRzY3N3H"
      },
      "source": [
        "**Zusammenhang der Spektraltheorie mit der Eigenwerttheorie**\n",
        "\n",
        "* Die Spektraltheorie linearer Operatoren aus der Funktionalanalysis ist eine Verallgemeinerung der Eigenwerttheorie aus der linearen Algebra. \n",
        "\n",
        "* In der linearen Algebra werden Endomorphismen auf endlichdimensionalen Vektorräumen betrachtet. Die Zahlen $\\lambda \\in \\mathbb{C},$ für die die Gleichung\n",
        "\n",
        "> $\n",
        "A x=\\lambda x\n",
        "$\n",
        "\n",
        "Lösungen $x \\neq 0,$ also ungleich dem Nullvektor, hat, werden Eigenwerte genannt, wobei $A$ eine Darstellungsmatrix des gewählten Endomorphismus ist. \n",
        "\n",
        "* Eigenwerte sind also Zahlen $\\lambda,$ für die das Inverse $(A-\\lambda I)^{-1}$ mit der Einheitsmatrix $I$ nicht existiert, das heißt, die Matrix $A-\\lambda I$ nicht bijektiv ist. Das ist im Endlichdimensionalen damit gleichzusetzen, dass der Endomorphismus nicht injektiv und damit auch nicht surjektiv sind. \n",
        "\n",
        "* Betrachtet man jedoch unendlichdimensionale Räume, so ist es notwendig zu unterscheiden, ob der Operator $(A-\\lambda I)$ invertierbar, nicht iniektiv und/oder nicht suriektiv ist. Im unendlichdimensionalen Fall folgt aus der Injektivität eines Endomorphismus nicht automatisch die Suriektivität, wie dies im endlichdimensionalen Fall ist. Im Folgenden wird der Begriff Spektrum in der Funktionalanalysis erlăutert."
      ]
    },
    {
      "cell_type": "markdown",
      "metadata": {
        "id": "Y-1lpMAgXzD9"
      },
      "source": [
        "#### **Vektorraum: Lineare Abbildungen zwischen endlichdimensionalen Vektorräumen**"
      ]
    },
    {
      "cell_type": "markdown",
      "metadata": {
        "id": "RJ7r2x6ubuF8"
      },
      "source": [
        "###### **Properties of Vector Spaces & Scalars**"
      ]
    },
    {
      "cell_type": "markdown",
      "metadata": {
        "id": "Vf4Ftp_LWjJm"
      },
      "source": [
        "**Properties of Vector Spaces : Vector Spaces form a commutative group under addition**\n",
        "\n",
        "$\n",
        "\\begin{array}{l}\n",
        "\\text { Addition: } \\quad \\vec{v}, \\vec{w} \\text { are vectors } \\Longrightarrow \\vec{v}+\\vec{w} \\text { is a vector }\\\\\n",
        "\\text { Commutativity: } \\quad \\vec{v}+\\vec{w}=\\vec{w}+\\vec{v}\\\\\n",
        "\\text { Zero vector: } \\quad 0\\\\\n",
        "\\text { Identity element: } \\quad \\mathbf{0}+\\vec{v}=\\vec{v}+\\mathbf{0}=\\vec{v}\\\\\n",
        "\\text { Inverses: } \\quad \\vec{v}+(-\\vec{v})=(-\\vec{v})+\\vec{v}=0\\\\\n",
        "\\text { Associativity: } \\quad \\vec{v}+(\\vec{w}+\\vec{z})=(\\vec{v}+\\vec{w})+\\vec{z}\n",
        "\\end{array}\n",
        "$\n",
        "\n"
      ]
    },
    {
      "cell_type": "markdown",
      "metadata": {
        "id": "QpN6m6NCXFUW"
      },
      "source": [
        "**Properties of Scalars**\n",
        "\n",
        "Distributive Properties:\n",
        "\n",
        "$\n",
        "\\begin{array}{l}\n",
        "c \\cdot(\\vec{v}+\\vec{w})=c \\cdot \\vec{v}+c \\cdot \\vec{w} \\\\\n",
        "(c+d) \\cdot \\vec{v}=c \\cdot \\vec{v}+d \\cdot \\vec{v}\n",
        "\\end{array}\n",
        "$\n",
        "\n",
        "Associative Property:\n",
        "\n",
        "$\n",
        "c \\cdot(d \\cdot \\vec{v})=(c \\times d) \\cdot \\vec{v}\n",
        "$\n",
        "\n",
        "Action of 1: \n",
        "\n",
        "$\\quad 1 \\cdot \\vec{v}=\\vec{v}$"
      ]
    },
    {
      "cell_type": "markdown",
      "metadata": {
        "id": "F_VCqDq0ZlKb"
      },
      "source": [
        "Polynome vom Grad 5 zB sind auch Vektorraume !!"
      ]
    },
    {
      "cell_type": "markdown",
      "metadata": {
        "id": "qNmzS2tf1nqK"
      },
      "source": [
        "**Module Space vs Vector Space**"
      ]
    },
    {
      "cell_type": "markdown",
      "metadata": {
        "id": "pa9LcQnP1rU5"
      },
      "source": [
        "1. Module = Vector Space with a **ring** of scalars\n",
        "\n",
        "2. Vector Space = Module with a **field** of scalars (commutative under multiplication)\n",
        "\n",
        "Remember: A Field is a Ring whose non-zero elements form a commutative Group under multiplication (In short a field is a commutative ring with unity with all its non zero elements having multiplicative inverse.)\n",
        "\n",
        "**Vector Space**\n",
        "\n",
        "* Abelian group $V$ of vectors\n",
        "\n",
        "* Field $F$ of \"scalars\"\n",
        "\n",
        "* $f \\cdot v$ is a \"scaled vector\"\n",
        "\n",
        "Distributive properties:\n",
        "$f \\cdot\\left(v_{1}+v_{2}\\right)=f \\cdot v_{1}+f \\cdot v_{2}$\n",
        "$\\left(f_{1}+f_{2}\\right) \\cdot v=f_{1} \\cdot v+f_{2} \\cdot v$\n",
        "\n",
        "Associative property:\n",
        "\n",
        "$\\left(f_{1} \\cdot f_{2}\\right) \\cdot v=f_{1} \\cdot\\left(f_{2} \\cdot v\\right)$\n",
        "$1 \\cdot v=v$\n",
        "\n",
        "**(Left or Right) Module**\n",
        "\n",
        "* Abelian group $M$ of \"elements\"\n",
        "\n",
        "* Ring $R$ of \"scalars\"\n",
        "\n",
        "* $r \\cdot m$ is a \"scaled element\"\n",
        "\n",
        "Distributive properties:\n",
        "\n",
        "$r \\cdot\\left(m_{1}+m_{2}\\right)=r \\cdot m_{1}+r \\cdot m_{2}$\n",
        "о $\\left(r_{1}+r_{2}\\right) \\cdot m=r_{1} \\cdot m+r_{2} \\cdot m$\n",
        "\n",
        "Associative property:\n",
        "\n",
        "$\\left(r_{1} \\cdot r_{2}\\right) \\cdot m=r_{1} \\cdot\\left(r_{2} \\cdot m\\right)$\n",
        "$1 \\cdot m=m$"
      ]
    },
    {
      "cell_type": "markdown",
      "metadata": {
        "id": "KXJcJtv13M2S"
      },
      "source": [
        "**Example of a Module:**"
      ]
    },
    {
      "cell_type": "markdown",
      "metadata": {
        "id": "4mC8z8gh3PYb"
      },
      "source": [
        "Group: $M=\\mathbb{R}^{3}=\\{(x, y, z) \\mid x, y, z \\in \\mathbb{R}\\}$ under $+$\n",
        "\n",
        "Scalar Ring: $R=\\left\\{\\left(\\begin{array}{lll}a_{11} & a_{12} & a_{13} \\\\ a_{21} & a_{22} & a_{23} \\\\ a_{31} & a_{32} & a_{33}\\end{array}\\right) \\mid a_{i j} \\in \\mathbb{R}\\right\\}$\n",
        "\n",
        "$R$ is not a field:\n",
        "* Not every matrix is invertible \n",
        "* Not commutative \n",
        "* Does have an identity: $\\left(\\begin{array}{cc}1 & 0 & 0 \\\\ 0 & 1 & 0 \\\\ 0 & 0 & 1\\end{array}\\right)$"
      ]
    },
    {
      "cell_type": "markdown",
      "metadata": {
        "id": "0Vz4R8zD2Wle"
      },
      "source": [
        "https://youtu.be/IvukAijXgLE"
      ]
    },
    {
      "cell_type": "markdown",
      "metadata": {
        "id": "MKEgG15rzrh1"
      },
      "source": [
        "https://www.mathe-online.at/lernpfade/lin_alg_glatz/?kapitel=1"
      ]
    },
    {
      "cell_type": "markdown",
      "metadata": {
        "id": "2oZz9KeCy6rM"
      },
      "source": [
        "**Lineare Algebra**"
      ]
    },
    {
      "cell_type": "markdown",
      "metadata": {
        "id": "IAL60hn09Lpe"
      },
      "source": [
        "* Konkrete form of vectors don't matter (matrices, vectors, functions, pie transforms etc). All what matters are the 8 axioms which define a vector space:\n",
        "\n",
        "![cc](https://raw.githubusercontent.com/deltorobarba/repo/master/vectorspace_axioms.png)\n",
        "\n",
        "https://www.youtube.com/watch?v=TgKwz5Ikpc8&list=WL&index=33&t=638s"
      ]
    },
    {
      "cell_type": "markdown",
      "metadata": {
        "id": "fQpZCVuqQuV_"
      },
      "source": [
        "3 most important pillars of linear algebra: https://www.youtube.com/watch?v=Ww_aQqWZhz8&t=194s"
      ]
    },
    {
      "cell_type": "markdown",
      "metadata": {
        "id": "bXEzBoJBps3s"
      },
      "source": [
        "https://de.m.wikipedia.org/wiki/Vektorraum"
      ]
    },
    {
      "cell_type": "markdown",
      "metadata": {
        "id": "1ebO3cJXpt8v"
      },
      "source": [
        "https://de.m.wikipedia.org/wiki/Lineare_Algebra"
      ]
    },
    {
      "cell_type": "markdown",
      "metadata": {
        "id": "yF8ttI2RpvT4"
      },
      "source": [
        "https://de.wikipedia.org/wiki/Lineare_Abbildung"
      ]
    },
    {
      "cell_type": "markdown",
      "metadata": {
        "id": "o2boqiPmMgYa"
      },
      "source": [
        "Ein Vektorraum u ̈ber einem Körper $\\mathbb K$ ist eine abelsche Gruppe mit der Eigenschaft, dass es zu jedem Element k von $\\mathbb K$ (”Skalar“) eine einstellige Operation (”Skalarmultiplikation“ )\n",
        "\n",
        "Oder anders: \n",
        "* Körper: Plus oder Mal im Körper: zwei Körperelemente, und dann kommt wieder Körperelement heraus\n",
        "* Vektorraum: (Mal heisst nur strecken und stauchen = Skalarmultiplikation: Vektor multipliziert mit Körperelement"
      ]
    },
    {
      "cell_type": "markdown",
      "metadata": {
        "id": "AHOR2paJnqE7"
      },
      "source": [
        "* Ein Vektorraum ist ein n-dimensionaler Körper.\n",
        "\n",
        "* A vector space is an algebraic structure with operations of addition and multiplication by scalars. Gilt zusätzlich multiplikative Inverse und multiplikative Kommuntativität\n",
        "\n",
        "* The scalars are required to be elements of a field, such as the real numbers R. The basic example of a vector space is the set Rn of all vectors with n entries.\n",
        "\n",
        "* Ein Vektorraum oder linearer Raum ist eine algebraische Struktur, die in vielen Teilgebieten der Mathematik verwendet wird. \n",
        "\n",
        "* Vektorräume bilden den zentralen Untersuchungsgegenstand der linearen Algebra. \n",
        "\n",
        "* Die Elemente eines Vektorraums heißen Vektoren. \n",
        "\n",
        "* Sie können addiert oder mit Skalaren (Zahlen) multipliziert werden, das Ergebnis ist wieder ein Vektor desselben Vektorraums.\n",
        "\n",
        "* Die **Skalare, mit denen man einen Vektor multiplizieren kann, stammen aus einem Körper**. Deswegen ist ein Vektorraum immer ein Vektorraum über einem bestimmten Körper. Sehr oft handelt es sich dabei um den Körper \n",
        "$\\mathbb {R}$ der reellen Zahlen oder den Körper \n",
        "$\\mathbb {C}$ der komplexen Zahlen. Man spricht dann von einem reellen Vektorraum bzw. einem komplexen Vektorraum."
      ]
    },
    {
      "cell_type": "markdown",
      "metadata": {
        "id": "pOnSslb8gSWP"
      },
      "source": [
        "https://de.m.wikipedia.org/wiki/Vektorraum"
      ]
    },
    {
      "cell_type": "markdown",
      "metadata": {
        "id": "Tr36ywoZin3h"
      },
      "source": [
        "**K-Algebra (Algebra über einem Körper) & Algebra über einem kommutativen Ring.**"
      ]
    },
    {
      "cell_type": "markdown",
      "metadata": {
        "id": "f8D2MAmd5Oiw"
      },
      "source": [
        "* ist ein Vektorraum über einem Körper K, der um eine mit der Vektorraumstruktur verträgliche Multiplikation erweitert wurde. \n",
        "\n",
        "* Je nach Kontext wird dabei mitunter zusätzlich gefordert, dass die Multiplikation das Assoziativgesetz oder das Kommutativgesetz erfüllt oder dass die Algebra bezüglich der Multiplikation ein Einselement besitzt.\n",
        "\n",
        "* Allgemeiner kann K ein kommutativer Ring sein, dann ist „Vektorraum“ durch „Modul“ zu ersetzen, und man erhält eine [Algebra über einem kommutativen Ring](https://de.m.wikipedia.org/wiki/Algebra_über_einem_kommutativen_Ring)."
      ]
    },
    {
      "cell_type": "markdown",
      "metadata": {
        "id": "IgKqC3CHiqOz"
      },
      "source": [
        "https://de.m.wikipedia.org/wiki/Algebra_über_einem_Körper"
      ]
    },
    {
      "cell_type": "markdown",
      "metadata": {
        "id": "gd1eq64oyrkb"
      },
      "source": [
        "**Verallgemeinerung der K-Algebra**"
      ]
    },
    {
      "cell_type": "markdown",
      "metadata": {
        "id": "K9WU-I5tywp4"
      },
      "source": [
        "* Allgemeiner kann $K$ ein kommutativer Ring sein, dann ist „Vektorraum“ durch „Modul“ zu ersetzen, und man erhält eine [Algebra über einem kommutativen Ring](https://de.m.wikipedia.org/wiki/Algebra_%C3%BCber_einem_kommutativen_Ring)."
      ]
    },
    {
      "cell_type": "markdown",
      "metadata": {
        "id": "CN2HsENfPHt5"
      },
      "source": [
        "**Körpererweiterungen**"
      ]
    },
    {
      "cell_type": "markdown",
      "metadata": {
        "id": "qo0dCquzPPxB"
      },
      "source": [
        "https://de.m.wikipedia.org/wiki/Vektorraum#K%C3%B6rpererweiterungen"
      ]
    },
    {
      "cell_type": "markdown",
      "metadata": {
        "id": "95DgzdjZ3PTj"
      },
      "source": [
        "**Assoziative Algebra**"
      ]
    },
    {
      "cell_type": "markdown",
      "metadata": {
        "id": "rtSIIfVH3OI_"
      },
      "source": [
        "* [Assoziative Algebra](https://de.m.wikipedia.org/wiki/Assoziative_Algebra)\n",
        "\n",
        "* Es handelt sich um eine algebraische Struktur, die den Begriff des Vektorraums bzw. des Moduls dahingehend erweitert, dass zusätzlich zur Vektoraddition eine **assoziative Multiplikation** als innere Verknüpfung definiert wird."
      ]
    },
    {
      "cell_type": "markdown",
      "metadata": {
        "id": "t6K1nm6mJdv0"
      },
      "source": [
        "[Numerische Verfahren:](https://de.m.wikipedia.org/wiki/Liste_numerischer_Verfahren) lineare Gleichungssysteme, Eigenwerte etc"
      ]
    },
    {
      "cell_type": "markdown",
      "metadata": {
        "id": "x-jUXB20rykQ"
      },
      "source": [
        "* Lineare Abbildung zwischen Vektorräumen\n",
        "\n",
        "* Erfüllt Bedingung der Homogenität und der Additivität (siehe unter Morphismen das Thema \"Vektorraumhomomorphismus\")"
      ]
    },
    {
      "cell_type": "markdown",
      "metadata": {
        "id": "3VFhyOwKlduw"
      },
      "source": [
        "https://de.m.wikipedia.org/wiki/Lineares_Gleichungssystem#Matrixform"
      ]
    },
    {
      "cell_type": "markdown",
      "metadata": {
        "id": "4qGUprIALiYY"
      },
      "source": [
        "https://de.m.wikipedia.org/wiki/Lineare_Algebra#Wichtige_Sätze_und_Ergebnisse"
      ]
    },
    {
      "cell_type": "markdown",
      "metadata": {
        "id": "cJ5JeAcWXYNu"
      },
      "source": [
        "https://mathepedia.de/Lineare_Abbildungen.html"
      ]
    },
    {
      "cell_type": "markdown",
      "metadata": {
        "id": "VJZcYgLwNCNd"
      },
      "source": [
        "https://de.m.wikibooks.org/wiki/Mathematik:_Lineare_Algebra"
      ]
    },
    {
      "cell_type": "markdown",
      "metadata": {
        "id": "4BR0eKuy6FCt"
      },
      "source": [
        "https://de.m.wikipedia.org/wiki/Diagonalmatrix"
      ]
    },
    {
      "cell_type": "markdown",
      "metadata": {
        "id": "PKnoH_tc2luZ"
      },
      "source": [
        "###### **Basis, Orthonormalbasis & Orthogonalprojektion**"
      ]
    },
    {
      "cell_type": "markdown",
      "metadata": {
        "id": "wQgmcQfC5qYe"
      },
      "source": [
        "*Basis*"
      ]
    },
    {
      "cell_type": "markdown",
      "metadata": {
        "id": "TTZNMFPf2koN"
      },
      "source": [
        "* Jeder Vektorraum hat mindestens eine [Basis](https://de.wikipedia.org/wiki/Basis_(Vektorraum))."
      ]
    },
    {
      "cell_type": "markdown",
      "metadata": {
        "id": "AucXY1NsAf6R"
      },
      "source": [
        "*Orthonormalbasis*"
      ]
    },
    {
      "cell_type": "markdown",
      "metadata": {
        "id": "rc1mdTTOAlfK"
      },
      "source": [
        "* **Orthogonalisieren**: zwei (oder mehr) Vektoren orthogonal zueinander bringen\n",
        "\n",
        "* **Orthonormalisieren**: diese auch noch auf Lange 1 zu normalisieren\n",
        "\n",
        "* Ziel: Vereinfachung des Rechnens mit Vektoren\n",
        "\n",
        "* Eine [Orthonormalbasis](https://de.wikipedia.org/wiki/Orthonormalbasis) (ONB) oder ein vollständiges Orthonormalsystem (VONS) in den mathematischen Gebieten lineare Algebra und Funktionalanalysis **ist eine Menge von Vektoren aus einem Vektorraum mit Skalarprodukt (Innenproduktraum), welche auf die Länge eins normiert und zueinander orthogonal sind** (daher Ortho-normal-basis) und deren lineare Hülle dicht im Vektorraum liegt. \n",
        "\n",
        "* Im endlichdimensionalen Fall ist dies eine Basis des Vektorraums. Im unendlichdimensionalen Fall handelt es sich nicht um eine Vektorraumbasis im Sinn der linearen Algebra.\n",
        "\n",
        "* Verzichtet man auf die Bedingung, dass die Vektoren auf die Länge eins normiert sind, so spricht man von einer **Orthogonalbasis**.\n",
        "\n",
        "* Der Begriff der Orthonormalbasis ist sowohl im Fall endlicher Dimension als auch für unendlichdimensionale Räume, insbesondere Hilberträume, von großer Bedeutung.\n",
        "\n",
        "* Siehe auch [Gram-Schmidtsches Orthogonalisierungsverfahren\n",
        "](https://de.wikipedia.org/wiki/Gram-Schmidtsches_Orthogonalisierungsverfahren) und [Video dazu](https://www.youtube.com/watch?v=SLEElig-C9w)"
      ]
    },
    {
      "cell_type": "markdown",
      "metadata": {
        "id": "VRKOu3NaxflF"
      },
      "source": [
        "*Orthogonalprojektion*"
      ]
    },
    {
      "cell_type": "markdown",
      "metadata": {
        "id": "n8z7Ust4xjck"
      },
      "source": [
        "* Eine [Orthogonalprojektion](https://de.m.wikipedia.org/wiki/Orthogonalprojektion) bzw. orthogonale Projektion oder senkrechte Projektion ist eine Abbildung eines Punkts auf eine Gerade oder eine Ebene, sodass die Verbindungslinie zwischen dem Punkt und seinem Abbild mit dieser Gerade oder Ebene einen rechten Winkel bildet\n",
        "\n",
        "* Das Abbild hat dann von allen Punkten der Gerade oder Ebene den kürzesten Abstand zum Ausgangspunkt. \n",
        "\n",
        "* Eine Orthogonalprojektion ist damit ein Spezialfall einer Parallelprojektion, bei der die Projektionsrichtung gleich der Normalenrichtung der Gerade oder Ebene ist."
      ]
    },
    {
      "cell_type": "markdown",
      "metadata": {
        "id": "AGddk9ZLxwUR"
      },
      "source": [
        "*Orthogonalprojektion eines Punkts P auf eine Ebene E: Der Verbindungsvektor zwischen dem Punkt und seinem Abbild $P'$ bildet mit der Ebene einen rechten Winkel.*\n",
        "\n",
        "![ggg](https://upload.wikimedia.org/wikipedia/commons/thumb/d/da/Orthogonal_Projection_qtl3.svg/440px-Orthogonal_Projection_qtl3.svg.png)"
      ]
    },
    {
      "cell_type": "markdown",
      "metadata": {
        "id": "U48kLNEgXDd7"
      },
      "source": [
        "###### **Reelle Matrizen**"
      ]
    },
    {
      "cell_type": "markdown",
      "metadata": {
        "id": "D35xO7FqWkIf"
      },
      "source": [
        "**Singuläre & reguläre Matrix**\n",
        "\n",
        "* Eine [reguläre, invertierbare oder nichtsinguläre Matrix](https://de.m.wikipedia.org/wiki/Reguläre_Matrix) ist in der Mathematik eine quadratische Matrix, die eine Inverse besitzt\n",
        "\n",
        "* Singuläre Matrizen besitzen keine inverse"
      ]
    },
    {
      "cell_type": "markdown",
      "metadata": {
        "id": "Kyf5VgyKW_kM"
      },
      "source": [
        "**Transponierte Matrix**\n",
        "\n",
        "* bijektive, selbstinverse Abbildung einer reellen Matrix\n",
        "\n",
        "* Die [transponierte Matrix](https://de.m.wikipedia.org/wiki/Transponierte_Matrix), gespiegelte Matrix oder gestürzte Matrix ist in der Mathematik diejenige Matrix, die durch Vertauschen der Rollen von Zeilen und Spalten einer gegebenen Matrix entsteht.\n",
        "\n",
        "* die transponierte Matrix entsteht also durch Spiegelung der Ausgangsmatrix an ihrer Hauptdiagonale. \n",
        "\n",
        "* Unterschied zu symmetrischen Matrizen: diese sind quadratisch, transponierte Matrizen koennen auch zB 2x3 Matrizen sein, und symmetrische haben die gleiche Werte in der quadratischen Matrix auf den gegenuberliegenden Seiten (wahrend transponierte Matrizen auch quadratisch sein koennen, aber jeweils andere Werte bei der Speigelung)\n",
        "\n",
        "  * **Eine symmetrische Matrix ist eine quadratische Matrix, die gleich ihrer Transponierten ist**\n",
        "\n",
        "  * **Eine orthogonale Matrix ist eine quadratische Matrix, deren Transponierte gleich ihrer Inversen ist**\n",
        "\n",
        "* Viele Kenngrößen von Matrizen, wie Spur, Rang, Determinante und Eigenwerte, bleiben unter Transponierung erhalten. (zB der Rang und die Spur der transponierten Matrix gleich dem der Ausgangsmatrix)"
      ]
    },
    {
      "cell_type": "markdown",
      "metadata": {
        "id": "s_B9P7BhtCks"
      },
      "source": [
        "![ggg](https://upload.wikimedia.org/wikipedia/commons/e/e4/Matrix_transpose.gif)"
      ]
    },
    {
      "cell_type": "markdown",
      "metadata": {
        "id": "N9LUFzmxp3P0"
      },
      "source": [
        "**Symmetrische Matrix**\n",
        "\n",
        "* sehr wichtig in Naturwissenschaften\n",
        "\n",
        "* [Symmetrische Matrizen](https://de.m.wikipedia.org/wiki/Symmetrische_Matrix) ist eine quadratische Matrix, deren **Einträge spiegelsymmetrisch bezüglich der Hauptdiagonale sind**. \n",
        "\n",
        "* Eine symmetrische Matrix stimmt demnach mit ihrer transponierten Matrix überein (ändern sich nicht durch Transponieren)\n",
        "\n",
        "* symmetrische Matrizen muessen nicht unbedingt invertierbar sein (So ist etwa jede Nullmatrix symmetrisch, aber keinesfalls invertierbar.)\n",
        "\n",
        "* Reelle symmetrische Matrizen weisen eine Reihe weiterer besonderer Eigenschaften auf:\n",
        "\n",
        "  * So ist eine reelle symmetrische Matrix **stets selbstadjungiert** (mit sich selbst  transponiert + conjugiert (=alle Vorzeichen umgekehrt)), sie besitzt nur reelle Eigenwerte und sie ist **stets orthogonal diagonalisierbar**. \n",
        "  \n",
        "  * Für komplexe symmetrische Matrizen gelten diese Eigenschaften im Allgemeinen nicht; das entsprechende Gegenstück sind dort **hermitesche Matrizen**. "
      ]
    },
    {
      "cell_type": "markdown",
      "metadata": {
        "id": "oI49jyDlsCl3"
      },
      "source": [
        "*Symmetriemuster einer symmetrischen (5×5)-Matrix:*\n",
        "\n",
        "![gg](https://upload.wikimedia.org/wikipedia/commons/thumb/3/32/Matrix_symmetry_qtl1.svg/220px-Matrix_symmetry_qtl1.svg.png)"
      ]
    },
    {
      "cell_type": "markdown",
      "metadata": {
        "id": "G9lzUq1qXNSQ"
      },
      "source": [
        "**Inverse Matrix (Invertierbarkeit)**\n",
        "\n",
        "* Die [inverse Matrix](https://de.m.wikipedia.org/wiki/Inverse_Matrix), Kehrmatrix oder kurz Inverse einer quadratischen Matrix ist eine ebenfalls **quadratische Matrix**, die **mit der Ausgangsmatrix multipliziert die Einheitsmatrix ergibt**. \n",
        "\n",
        "  * Aber: nicht jede quadratische Matrix besitzt eine Inverse; \n",
        "\n",
        "  * Allgemeiner ist jede Matrix, die eine Nullzeile enthält, nicht invertierbar.\n",
        "\n",
        "  * Allgemeiner sind Matrizen mit zwei gleichen Zeilen niemals invertierbar.\n",
        "\n",
        "* die invertierbaren Matrizen werden **reguläre Matrizen** genannt. Matrizen, die nicht invertierbar sind, heißen **singulär** .\n",
        "\n",
        "* Ist eine Matrix invertierbar, gibt es eine Lösung\n",
        "\n",
        "  * So ist etwa  A genau dann invertierbar, wenn  det⁡ A ≠ 0  gilt (Determinante)\n",
        "\n",
        "  * Matrix ist invertierbar (=regulär), wenn [Rang](https://de.m.wikipedia.org/wiki/Rang_(Mathematik)) = n (Dimension der Matrix ohne Nullzeile ist)\n",
        "\n",
        "  * Bestimmung der Inversen einer invertierbaren Matrix: Algorithmus von Gauß und Jordan zur Lösung von Gleichungssystemen"
      ]
    },
    {
      "cell_type": "markdown",
      "metadata": {
        "id": "19DuDbQ90GlY"
      },
      "source": [
        "Die Inverse der reellen $(2 \\times 2)$ -Matrix\n",
        "\n",
        "$\n",
        "A=\\left(\\begin{array}{ll}\n",
        "2 & 1 \\\\\n",
        "6 & 4\n",
        "\\end{array}\\right)\n",
        "$\n",
        "\n",
        "ist\n",
        "\n",
        "$\n",
        "A^{-1}=\\left(\\begin{array}{cc}\n",
        "2 & -0,5 \\\\\n",
        "-3 & 1\n",
        "\\end{array}\\right)\n",
        "$\n",
        "\n",
        "denn es gilt\n",
        "\n",
        "$\n",
        "A \\cdot A^{-1}=\\left(\\begin{array}{ll}\n",
        "2 & 1 \\\\\n",
        "6 & 4\n",
        "\\end{array}\\right) \\cdot\\left(\\begin{array}{cc}\n",
        "2 & -0,5 \\\\\n",
        "-3 & 1\n",
        "\\end{array}\\right)=\\left(\\begin{array}{cc}\n",
        "4-3 & -1+1 \\\\\n",
        "12-12 & -3+4\n",
        "\\end{array}\\right)=\\left(\\begin{array}{ll}\n",
        "1 & 0 \\\\\n",
        "0 & 1\n",
        "\\end{array}\\right)=I\n",
        "$"
      ]
    },
    {
      "cell_type": "markdown",
      "metadata": {
        "id": "N3ctFO4Lp4_Y"
      },
      "source": [
        "**Orthogonale Matrix**\n",
        "\n",
        "* sehr wichtig in Naturwissenschaften\n",
        "\n",
        "* Eine [orthogonale Matrix](https://de.m.wikipedia.org/wiki/Orthogonale_Matrix) ist eine quadratische, reelle Matrix, deren Zeilen- und Spaltenvektoren orthonormal bezüglich des Standardskalarprodukts sind. **Damit ist die Inverse einer orthogonalen Matrix gleichzeitig ihre Transponierte**.\n",
        "\n",
        "> Eine reelle quadratische Matrix $Q \\in \\mathbb{R}^{n \\times n}$ heißt orthogonal, wenn das Produkt mit ihrer transponierten Matrix $Q^{T}$ die Einheitsmatrix $I$ ergibt, also $Q^{T} \\cdot Q=I$\n",
        "\n",
        "* sind invertierbar, symmetrische nicht unbedingt (So ist etwa jede Nullmatrix symmetrisch, aber keinesfalls invertierbar.)\n",
        "\n",
        "* stellen Kongruenzabbildungen im euklidischen Raum, also Drehungen, Spiegelungen und Kombinationen daraus, dar.\n",
        "\n",
        "  * [Drehmatrizen](https://de.m.wikipedia.org/wiki/Drehmatrix), also Matrizen, die eine Drehung um den Koordinatenursprung in der euklidischen Ebene beschreiben, sind orthogonal. \n",
        "\n",
        "  * [Spiegelungsmatrizen](https://de.m.wikipedia.org/wiki/Spiegelungsmatrix), also Matrizen, die eine (senkrechte) Spiegelung an einer Ursprungsgerade in der euklidischen Ebene beschreiben, sind orthogonal.\n",
        "\n",
        "  * [Permutationsmatrizen](https://de.m.wikipedia.org/wiki/Permutationsmatrix), also Matrizen, bei denen genau ein Eintrag pro Zeile und Spalte gleich eins ist und alle anderen Einträge null sind, sind orthogonal. \n",
        "\n",
        "* werden beispielsweise bei der numerischen Lösung linearer Gleichungssysteme oder Eigenwertprobleme eingesetzt\n",
        "\n",
        "* Der analoge Begriff bei komplexen Matrizen ist die unitäre Matrix."
      ]
    },
    {
      "cell_type": "markdown",
      "metadata": {
        "id": "lu2GqSJp1IvH"
      },
      "source": [
        "*Durch Multiplikation mit einer orthogonalen Matrix Q können Vektoren gedreht (links) oder gespiegelt (rechts) werden. Die Länge der Vektoren und der Winkel zwischen den Vektoren bleiben dabei erhalten*\n",
        "\n",
        "![gg](https://upload.wikimedia.org/wikipedia/commons/thumb/d/de/Orthogonal_transformation_qtl1.svg/240px-Orthogonal_transformation_qtl1.svg.png)\n",
        "![gg](https://upload.wikimedia.org/wikipedia/commons/thumb/b/b5/Orthogonal_transformation_qtl2.svg/240px-Orthogonal_transformation_qtl2.svg.png)"
      ]
    },
    {
      "cell_type": "markdown",
      "metadata": {
        "id": "0CMV87xM2TG0"
      },
      "source": [
        "Die Matrix\n",
        "\n",
        "$\n",
        "Q=\\left(\\begin{array}{ll}\n",
        "0 & 1 \\\\\n",
        "1 & 0\n",
        "\\end{array}\\right)\n",
        "$\n",
        "\n",
        "ist orthogonal, denn es gilt\n",
        "\n",
        "$\n",
        "Q^{T} Q=\\left(\\begin{array}{ll}\n",
        "0 & 1 \\\\\n",
        "1 & 0\n",
        "\\end{array}\\right) \\cdot\\left(\\begin{array}{ll}\n",
        "0 & 1 \\\\\n",
        "1 & 0\n",
        "\\end{array}\\right)=\\left(\\begin{array}{ll}\n",
        "0 \\cdot 0+1 \\cdot 1 & 0 \\cdot 1+1 \\cdot 0 \\\\\n",
        "1 \\cdot 0+0 \\cdot 1 & 1 \\cdot 1+0 \\cdot 0\n",
        "\\end{array}\\right)=\\left(\\begin{array}{ll}\n",
        "1 & 0 \\\\\n",
        "0 & 1\n",
        "\\end{array}\\right)=I \\text { . }\n",
        "$"
      ]
    },
    {
      "cell_type": "markdown",
      "metadata": {
        "id": "vG8TSW4f2lbv"
      },
      "source": [
        "Auch die Matrix\n",
        "\n",
        "$\n",
        "Q=\\frac{1}{5}\\left(\\begin{array}{cc}\n",
        "3 & 4 \\\\\n",
        "-4 & 3\n",
        "\\end{array}\\right)\n",
        "$\n",
        "\n",
        "ist orthogonal, denn es gilt\n",
        "\n",
        "$\n",
        "Q^{T} Q=\\frac{1}{5}\\left(\\begin{array}{cc}\n",
        "3 & -4 \\\\\n",
        "4 & 3\n",
        "\\end{array}\\right) \\cdot \\frac{1}{5}\\left(\\begin{array}{cc}\n",
        "3 & 4 \\\\\n",
        "-4 & 3\n",
        "\\end{array}\\right)=\\frac{1}{25}\\left(\\begin{array}{cc}\n",
        "9+16 & 12-12 \\\\\n",
        "12-12 & 16+9\n",
        "\\end{array}\\right)=\\frac{1}{25}\\left(\\begin{array}{cc}\n",
        "25 & 0 \\\\\n",
        "0 & 25\n",
        "\\end{array}\\right)=\\left(\\begin{array}{ll}\n",
        "1 & 0 \\\\\n",
        "0 & 1\n",
        "\\end{array}\\right)=I\n",
        "$"
      ]
    },
    {
      "cell_type": "markdown",
      "metadata": {
        "id": "a_g3slk7tOuT"
      },
      "source": [
        "**Selbstadjungierte Matrix**\n",
        "\n",
        "* Eine [selbstadjungierte Matrix](https://de.m.wikipedia.org/wiki/Selbstadjungierte_Matrix) ist eine spezielle Art von **quadratischen Matrizen.**\n",
        "\n",
        "* Sind die Koeffizienten reell, so ist sie gerade eine **symmetrische Matrix**\n",
        "\n",
        "  * Eine reelle Matrix ist genau dann selbstadjungiert, wenn sie symmetrisch ist, also wenn $A=A^{T}$\n",
        "\n",
        "* Sind die Koeffizienten komplex, so ist sie eine **hermitesche Matrix.**\n",
        "\n",
        "  * eine komplexe Matrix genau dann selbstadjungiert, wenn sie hermitesch ist, also wenn $A=A^{*}$\n",
        "\n",
        "  * Die [Pauli-Matrizen](https://de.m.wikipedia.org/wiki/Pauli-Matrizen) sind selbstadjungiert (zur Beschreibung des Spins, Basis des 4-dimensionalen komplexen Vektorraums aller komplexen & hermetischen 2×2-Matrizen)\n",
        "\n",
        "* Jede selbstadjungierte Matrix ist auch normal, das heißt, es gilt $A^{{*}}\\cdot A=A\\cdot A^{{*}}$. Die Umkehrung gilt im Allgemeinen nicht."
      ]
    },
    {
      "cell_type": "markdown",
      "metadata": {
        "id": "AMNh-cF9ut-j"
      },
      "source": [
        "**Normale Matrix**\n",
        "\n",
        "* eine [normale Matrix](https://de.m.wikipedia.org/wiki/Normale_Matrix) ist eine Matrix, die mit ihrer adjungierten Matrix kommutiert\n",
        "\n",
        "  * eine komplexe Matrix $A\\in {\\mathbb  {C}}^{{n\\times n}}$ ist normal, wenn $A^{{*}}\\cdot A=A\\cdot A^{{*}}$\n",
        "\n",
        "  * eine reelle Matrix $B\\in {\\mathbb  {R}}^{{n\\times n}}$ ist normal, wenn $B^{{T}}\\cdot B=B\\cdot B^{{T}}$\n",
        "\n",
        "* Der [Spektralsatz](https://de.m.wikipedia.org/wiki/Spektralsatz) besagt, dass eine Matrix A genau dann normal ist, wenn es eine unitäre Matrix U gibt (orthogonal in komplex), so dass $A=UDU^{{{\\rm {*}}}}$, wobei D eine Diagonalmatrix ist. \n",
        "\n",
        "* Normale Matrizen haben also die Eigenschaft, dass sie unitär diagonalisierbar sind. Es existiert daher eine Orthonormalbasis aus Eigenvektoren von A. Die Hauptdiagonalelemente von D sind genau die Eigenwerte von A. \n",
        "\n",
        "* Insbesondere sind jede reelle symmetrische Matrix und jede komplexe hermitesche Matrix normal. Zudem ist jede unitäre Matrix normal.\n",
        "\n",
        "* [**Normaler Operator**](https://de.m.wikipedia.org/wiki/Normaler_Operator): Verallgemeinerung der normalen Matrix. Ein \"normaler Operator\" ist basisunabhängig definiert und im unendlichdimensionalen Raum."
      ]
    },
    {
      "cell_type": "markdown",
      "metadata": {
        "id": "4Bu4c3RgXHan"
      },
      "source": [
        "###### **Komplexwertige Matrizen**"
      ]
    },
    {
      "cell_type": "markdown",
      "metadata": {
        "id": "XfFwNW2kqZqi"
      },
      "source": [
        "**Conjugierte Matrizen**\n",
        "\n",
        "* Vertauschen der Vorzeichen"
      ]
    },
    {
      "cell_type": "markdown",
      "metadata": {
        "id": "A4xVuXrtNMP1"
      },
      "source": [
        "**Adjungierte Matrix** \n",
        "\n",
        "* = transponiert + conjugiert\n",
        "\n",
        "* komplexwertige Matrix, die transponiert + (komplex) conjugiert ist (Vorzeichen umgekehrt)\n",
        "\n",
        "* Eine adjungierte Matrix muss nicht quadratisch sein (kann also zB auch 2x3 Matrix sein) und auch nicht symmetrisch sein\n",
        "\n",
        "$\n",
        "\\begin{aligned}\n",
        "B=\\left(\\begin{array}{ll}\n",
        "0 & i \\\\\n",
        "0 & 0\n",
        "\\end{array}\\right)\n",
        "\\\\\n",
        "B^{T}=\\left(\\begin{array}{ll}\n",
        "0 & 0 \\\\\n",
        "i & 0\n",
        "\\end{array}\\right) \\\\\n",
        "B^{*} &=\\left(\\begin{array}{cc}\n",
        "0 & 0 \\\\\n",
        "-i & 0\n",
        "\\end{array}\\right)\n",
        "\\end{aligned}\n",
        "$"
      ]
    },
    {
      "cell_type": "markdown",
      "metadata": {
        "id": "Lo3VtMb_QQYS"
      },
      "source": [
        "**Hermetisch**\n",
        "\n",
        "* selbstadjunktiert = symmetrisch\n",
        "\n",
        "* also wenn man die adjunktierte von A* bildet, kommt wieder A raus: A* = A\n",
        "\n",
        "* Spiegelung an der Diagonalen. Matrix muss quadratisch sein\n",
        "\n",
        "* im reellen ist es die Symmetrie"
      ]
    },
    {
      "cell_type": "markdown",
      "metadata": {
        "id": "EvJQeE2vR-iD"
      },
      "source": [
        "**Normal**\n",
        "\n",
        "* A* A = A A*\n",
        "\n",
        "* Einheitsmatrix"
      ]
    },
    {
      "cell_type": "markdown",
      "metadata": {
        "id": "4y8k2HKIQpCC"
      },
      "source": [
        "**Unitär**\n",
        "\n",
        "* Orthogonalität\n",
        "\n",
        "* Eine Matrix die invertierbar ist, ist durch die adjunktierte Matrix gegeben: A<sup>-1</sup> = A*\n",
        "\n",
        "* eine unitäre Matrix ändert nichts an den Längen / Abständen / Winkeln von Vektoren zB bei Rotationen im Raum\n",
        "\n",
        "* Verallgemeinerung von orthogonalen Matrizen in der komplexen Welt"
      ]
    },
    {
      "cell_type": "markdown",
      "metadata": {
        "id": "SZGRjIQPxQaI"
      },
      "source": [
        "**Polarzerlegung**\n",
        "\n",
        "* Die [Polarzerlegung](https://de.m.wikipedia.org/wiki/Polarzerlegung) ist eine spezielle Zerlegung in ein Produkt von Matrizen mit reellen oder komplexen Einträgen, und in Verallgemeinerung von linearen Operatoren auf einem Hilbert-Raum. "
      ]
    },
    {
      "cell_type": "markdown",
      "metadata": {
        "id": "ndztinshThYu"
      },
      "source": [
        "https://youtu.be/uf-rooMdDME"
      ]
    },
    {
      "cell_type": "markdown",
      "metadata": {
        "id": "16P02MVt5VFP"
      },
      "source": [
        "###### **Linear, Bilinear & Dual**"
      ]
    },
    {
      "cell_type": "markdown",
      "metadata": {
        "id": "RnYfeI8nbrHp"
      },
      "source": [
        "*Lineare Abbildung*"
      ]
    },
    {
      "cell_type": "markdown",
      "metadata": {
        "id": "mwC8xIKejbd5"
      },
      "source": [
        "https://www.youtube.com/watch?v=KK_fHodz-lQ&t=932s"
      ]
    },
    {
      "cell_type": "markdown",
      "metadata": {
        "id": "oVblE4wdcZeW"
      },
      "source": [
        "* Eine [lineare Abbildung](https://de.wikipedia.org/wiki/Lineare_Abbildung) ist ein Vektorraum-Homomorphismus"
      ]
    },
    {
      "cell_type": "markdown",
      "metadata": {
        "id": "G0DuPx0wb024"
      },
      "source": [
        "> $\\varphi: V \\longrightarrow \\omega$\n",
        "\n",
        "Eigenschaften:\n",
        "\n",
        "> $\\varphi\\left(v_{1}+v_{2}\\right)=\\varphi\\left(v_{c}\\right)+\\varphi\\left(v_{2}\\right)$\n",
        "\n",
        "> $\\varphi(\\lambda \\cdot v)=\\lambda \\cdot \\varphi(v)$"
      ]
    },
    {
      "cell_type": "markdown",
      "metadata": {
        "id": "T5An2CAZtGBO"
      },
      "source": [
        "* Eine lineare Abbildung $f\\colon V\\to V$ (also ein Endomorphismus) eines endlichdimensionalen Vektorraumes $V$ ist bereits invertierbar, wenn sie injektiv oder surjektiv ist. \n",
        "\n",
        "* Dies ist wiederum genau dann der Fall, wenn ihre Determinante ungleich null ist. \n",
        "\n",
        "* Hieraus folgt, dass die Eigenwerte eines Endomorphismus genau die Nullstellen seines charakteristischen Polynoms sind. \n",
        "\n",
        "* Eine weitere wichtige Aussage über das charakteristische Polynom ist der Satz von Cayley-Hamilton."
      ]
    },
    {
      "cell_type": "markdown",
      "metadata": {
        "id": "Z9HKc4DefUMp"
      },
      "source": [
        "*Linearform (= Funktional im endlichdimensionale Vektorraum)*"
      ]
    },
    {
      "cell_type": "markdown",
      "metadata": {
        "id": "wEQxy1PMfdz3"
      },
      "source": [
        "* Eine [Linearform](https://de.wikipedia.org/wiki/Linearform) ist ein Objekt aus dem mathematischen Teilgebiet der linearen Algebra. Es handelt sich dabei um eine lineare Abbildung von einem Vektorraum in den zugrundeliegenden Körper.\n",
        "\n",
        "* Es sei $K$ ein Körper und $V$ ein $K$ -Vektorraum. Eine Abbildung $f: V \\rightarrow K$ heißt Linearform, wenn für alle Vektoren $x, y \\in V$ und Skalare $\\alpha \\in K$ gilt:\n",
        "\n",
        "  1. $f(x+y)=f(x)+f(y)$ (**Additivität**);\n",
        "\n",
        "  2. $f(\\alpha x)=\\alpha f(x)$ (**Homogenität**).\n",
        "\n",
        "* Im Kontext der Funktionalanalysis, das heißt im Falle eines topologischen $\\mathbb {R}$ - oder $\\mathbb {C}$-Vektorraums, sind die betrachteten Linearformen meistens stetige lineare Funktionale.\n",
        "\n",
        "* Linearform als Tensor: Eine Linearform $f$ ist ein kovarianter Tensor erster Stufe; man nennt sie deshalb manchmal auch [1-Form (Pfaffsche Form)](https://de.wikipedia.org/wiki/Pfaffsche_Form). 1-Formen bilden die Grundlage für die Einführung von Differentialformen. **Pfaffsche Formen sind die natürlichen Integranden für Wegintegrale**.\n",
        "\n",
        "* \n",
        "Eine Abbildung, die linear oder semilinear in mehr als einem Argument ist, ist eine [Sesquilinearform](https://de.wikipedia.org/wiki/Sesquilinearform), eine [Bilinearform](https://de.wikipedia.org/wiki/Bilinearform), oder allgemein eine [Multilinearform](https://de.wikipedia.org/wiki/Multilinearform) (zB kann man Winkel nicht mit linearen Abbildungen beschreiben, weil es dafur 2 Vektoren braucht. Dafur hat man Bilinearform! Eine bilinearform ordnet praktisch zwei Vektoren ein Zahl zu (zB Winkel).\n",
        "\n",
        "* 'Linear form' is a more modern and abstract concept of 'functional'\n",
        "\n",
        "* Im Kontext der Funktionalanalysis, das heißt im Falle eines topologischen \n",
        "$\\mathbb {R}$ - oder $\\mathbb {C}$-Vektorraums, sind die betrachteten Linearformen meistens [stetige lineare Funktionale](https://de.m.wikipedia.org/wiki/Funktional#Stetige_lineare_Funktionale).\n",
        "\n",
        "* **Übergang zu Dualraum**: Die Menge aller Linearformen (= stetigen, linearen Abbildungen) über einem gegebenen Vektorraum $V$ bildet dessen Dualraum $V^{*}$ und damit selbst wieder in natürlicher Weise einen $K$ -Vektorraum."
      ]
    },
    {
      "cell_type": "markdown",
      "metadata": {
        "id": "UOy1jeecu7Vy"
      },
      "source": [
        "*Linearkombination*"
      ]
    },
    {
      "cell_type": "markdown",
      "metadata": {
        "id": "rZVoEQOZu9xJ"
      },
      "source": [
        "* Unter einer [Linearkombination](https://de.m.wikipedia.org/wiki/Linearkombination) versteht man in der linearen Algebra einen Vektor, der sich durch gegebene Vektoren unter Verwendung der Vektoraddition und der skalaren Multiplikation ausdrücken lässt.\n",
        "\n"
      ]
    },
    {
      "cell_type": "markdown",
      "metadata": {
        "id": "am14siVaZVod"
      },
      "source": [
        "*Bilineare Abbildung*"
      ]
    },
    {
      "cell_type": "markdown",
      "metadata": {
        "id": "_PBVIB0tZaE8"
      },
      "source": [
        "* Bilinear = gemischtes Assoziativgesetz & Distributivgesetz\n",
        "\n",
        "* [Bilineare Abbildungen](https://de.m.wikipedia.org/wiki/Bilineare_Abbildung) verallgemeinern die verschiedensten Begriffe von Produkten (im Sinne einer Multiplikation). \n",
        "\n",
        "* Die Bilinearität entspricht dem Distributivgesetz bei der normalen Multiplikation:\n",
        "\n",
        ">$\n",
        "a \\cdot(b+c)=a \\cdot b+a \\cdot c\n",
        "$\n",
        "\n",
        "* Beispiel: \n",
        "\n",
        "  * Sämtliche gemeinhin übliche Produkte sind bilineare Abbildungen: die Multiplikation in einem Körper (reelle, komplexe, rationale Zahlen) oder einem Ring (ganze Zahlen, Matrizen), \n",
        "  \n",
        "  * aber auch das Vektor- oder Kreuzprodukt, \n",
        "  \n",
        "  * und das Skalarprodukt auf einem reellen Vektorraum.\n"
      ]
    },
    {
      "cell_type": "markdown",
      "metadata": {
        "id": "J-xG4GXrbJBc"
      },
      "source": [
        "*Bilinearformen*"
      ]
    },
    {
      "cell_type": "markdown",
      "metadata": {
        "id": "YgRnyYJxi8Nf"
      },
      "source": [
        "https://www.youtube.com/watch?v=TjAFH6hWg1I"
      ]
    },
    {
      "cell_type": "markdown",
      "metadata": {
        "id": "KZ_Br1SeMgEs"
      },
      "source": [
        "* man kann Winkel nicht mit linearen Abbildungen beschreiben, weil es dafur 2 Vektoren braucht. Dafur hat man Bilinearform\n",
        "\n",
        "* **Ein Spezialfall der bilinearen Abbildungen sind die Bilinearformen (Winkel sind wichtiger Anwendungsfall dafur).** \n",
        "\n",
        "* **Jedes Skalarprodukt ist wiederum eine spezielle Bilinearform** (es gelten noch weitere Eigenschaften: symmetrisch <v,w> = <w,v>, und positiv definit). Genauso Integral.\n",
        "\n",
        "* Input sind zwei Vektoren (zB in R2 und in R3), aber Ziel ist nicht Vektorraum (wie bei linearen Abbildungen), sondern ein Koerper (zB reelle Zahlen R allgemein). Eine bilinearform ordnet praktisch zwei Vektoren ein Zahl zu (zB Winkel)\n",
        "\n",
        "* Bei diesen ist der Wertebereich $G$ mit dem Skalarkörper $K$ der Vektorräume $E$ und $F$ identisch.\n",
        "\n",
        "> $\n",
        "f: E \\times F \\rightarrow K\n",
        "$\n",
        "\n",
        "> $\\langle\\cdot, \\cdot \\rangle\\ : V \\times W \\longrightarrow K$\n",
        "\n",
        "$\\langle\\cdot, \\cdot \\rangle\\$ \n",
        "\n",
        "fur zwei Vektoren ist wie \n",
        "\n",
        "$\\varphi$\n",
        "\n",
        "bei einem Vektor.\n",
        "\n",
        "* Bilinearformen sind für die analytische Geometrie und [Dualitätstheorie](https://de.m.wikipedia.org/wiki/Dualität_(Mathematik)) wichtig.\n",
        "\n",
        "* Als [Bilinearform](https://de.m.wikipedia.org/wiki/Bilinearform#) bezeichnet man in der linearen Algebra eine Funktion, welche zwei Vektoren einen Skalarwert zuordnet und die linear in ihren beiden Argumenten ist."
      ]
    },
    {
      "cell_type": "markdown",
      "metadata": {
        "id": "Xn_GUomJiA7X"
      },
      "source": [
        "[Bilinearform](https://de.wikipedia.org/wiki/Bilinearform): cross product of two vectors, normal and tangent, see [Frenet–Serret_formulas](https://en.m.wikipedia.org/wiki/Frenet–Serret_formulas)."
      ]
    },
    {
      "cell_type": "markdown",
      "metadata": {
        "id": "3pcDMUh0W28v"
      },
      "source": [
        "*Projektion*"
      ]
    },
    {
      "cell_type": "markdown",
      "metadata": {
        "id": "-9FiTDIFU438"
      },
      "source": [
        "https://de.m.wikipedia.org/wiki/Projektion_(Lineare_Algebra)"
      ]
    },
    {
      "cell_type": "markdown",
      "metadata": {
        "id": "RnXE8yB5jgSI"
      },
      "source": [
        "*Dualraum*"
      ]
    },
    {
      "cell_type": "markdown",
      "metadata": {
        "id": "T_3nXUY3jiow"
      },
      "source": [
        "https://www.youtube.com/watch?v=2vvjrBbcTZU&t=480s"
      ]
    },
    {
      "cell_type": "markdown",
      "metadata": {
        "id": "lZucZX5uoQOG"
      },
      "source": [
        "###### **Faktorraum & Untervektorraum**"
      ]
    },
    {
      "cell_type": "markdown",
      "metadata": {
        "id": "Mu0xvRQ6p4xC"
      },
      "source": [
        "* Jeder Vektorraum hat mindestens eine Basis. Je zwei Basen eines Vektorraumes haben gleich viele Elemente; nur deshalb ist es sinnvoll, von der Dimension eines Vektorraumes zu sprechen. \n",
        "\n",
        "* Für Summen und Durchschnitte von [Untervektorräumen](https://de.wikipedia.org/wiki/Untervektorraum) gilt die Dimensionsformel und für die Dimensionen von [Faktorräumen](https://de.wikipedia.org/wiki/Faktorraum) die Formel $\\dim V/U=\\dim V-\\dim U$."
      ]
    },
    {
      "cell_type": "markdown",
      "metadata": {
        "id": "dJsY5Ba9E2P1"
      },
      "source": [
        "*Lineare Hülle (Span)*"
      ]
    },
    {
      "cell_type": "markdown",
      "metadata": {
        "id": "4AUkiDlBE4CB"
      },
      "source": [
        "https://de.wikipedia.org/wiki/Lineare_Hülle"
      ]
    },
    {
      "cell_type": "markdown",
      "metadata": {
        "id": "Zppo7qtzowMx"
      },
      "source": [
        "###### **Homomorphiesatz & Rangsatz**"
      ]
    },
    {
      "cell_type": "markdown",
      "metadata": {
        "id": "Tpn4OpISqDQ2"
      },
      "source": [
        "* Jede lineare Abbildung $f\\colon V\\to W$ ist durch die Angabe der Bilder einer Basis von $V$ eindeutig festgelegt. \n",
        "\n",
        "* Für lineare Abbildungen gelten der [Homomorphiesatz](https://de.wikipedia.org/wiki/Homomorphiesatz) und der [Rangsatz](https://de.wikipedia.org/wiki/Rangsatz). \n",
        "\n",
        "* Lineare Abbildungen können bezüglich fest gewählter Basen durch Matrizen dargestellt werden. Dabei entspricht der Hintereinanderausführung von linearen Abbildungen die Multiplikation ihrer Darstellungsmatrizen."
      ]
    },
    {
      "cell_type": "markdown",
      "metadata": {
        "id": "Km4QJ7cPpMd8"
      },
      "source": [
        "Eine weitreichende Verallgemeinerung des Rangsatzes ist die Aussage, dass die alternierende Summe der Dimensionen der einzelnen Komponenten eines [Kettenkomplexes](https://de.wikipedia.org/wiki/Kettenkomplex) gleich der alternierenden Summe der Dimensionen seiner Homologiegruppen ist. Siehe dazu die [Euler-Charakteristik eines Kettenkomplexes](https://de.wikipedia.org/wiki/Kettenkomplex#Euler-Charakteristik)."
      ]
    },
    {
      "cell_type": "markdown",
      "metadata": {
        "id": "be1delop5C-L"
      },
      "source": [
        "###### **Produkte**"
      ]
    },
    {
      "cell_type": "markdown",
      "metadata": {
        "id": "lP-7CmCaNZNN"
      },
      "source": [
        "*Skalarprodukt (Dot Product)*"
      ]
    },
    {
      "cell_type": "markdown",
      "metadata": {
        "id": "cL06JjQ0NcpH"
      },
      "source": [
        "* Das [Skalarprodukt](https://de.m.wikipedia.org/wiki/Skalarprodukt) (auch inneres Produkt oder Punktprodukt) ist eine mathematische Verknüpfung, die zwei Vektoren eine Zahl (Skalar) zuordnet.\n",
        "\n",
        "* Es ist Gegenstand der analytischen Geometrie und der linearen Algebra. Historisch wurde es zuerst im euklidischen Raum eingeführt. \n",
        "\n",
        "* Geometrisch berechnet man das Skalarprodukt zweier Vektoren $\\vec {a}$ und $\\vec {b}$ nach der Formel\n",
        "\n",
        ">$\n",
        "\\vec{a} \\cdot \\vec{b}=|\\vec{a}||\\vec{b}| \\cos \\triangleleft(\\vec{a}, \\vec{b})\n",
        "$\n",
        "\n",
        "* Dabei bezeichnen $|\\vec{a}|$ und $|\\vec{b}|$ jeweils die Längen (Beträge) der Vektoren. Mit $\\cos \\triangleleft(\\vec{a}, \\vec{b})=\\cos \\varphi$ wird der Kosinus des von den beiden Vektoren eingeschlossenen Winkels $\\varphi$ bezeichnet. Das Skalarprodukt zweier Vektoren gegebener Länge ist damit null, wenn sie senkrecht zueinander stehen, und maximal, wenn sie die gleiche Richtung haben."
      ]
    },
    {
      "cell_type": "markdown",
      "metadata": {
        "id": "Nre71ny4X6yj"
      },
      "source": [
        "In einem **kartesischen Koordinatensystem** berechnet sich das Skalarprodukt zweier Vektoren $\\vec{a}=\\left(a_{1}, a_{2}, a_{3}\\right)$ und $\\vec{b}=\\left(b_{1}, b_{2}, b_{3}\\right)$ als\n",
        "\n",
        ">$\n",
        "\\vec{a} \\cdot \\vec{b}=a_{1} b_{1}+a_{2} b_{2}+a_{3} b_{3}\n",
        "$\n",
        "\n",
        "Kennt man die kartesischen Koordinaten der Vektoren, so kann man mit dieser Formel das Skalarprodukt und daraufhin mit der Formel aus dem vorhergehenden Absatz den Winkel $\\varphi=\\alpha(\\vec{a}, \\vec{b})$ zwischen den beiden Vektoren ausrechnen, indem diese nach $\\varphi$ aufgelöst wird:\n",
        "\n",
        ">$\n",
        "\\varphi=\\arccos \\frac{\\vec{a} \\cdot \\vec{b}}{|\\vec{a}||\\vec{b}|}\n",
        "$"
      ]
    },
    {
      "cell_type": "markdown",
      "metadata": {
        "id": "Bl6h98WeW78L"
      },
      "source": [
        "*Das Skalarprodukt zweier Vektoren im euklidischen Anschauungsraum hängt von der Länge der Vektoren und dem eingeschlossenen Winkel ab.*\n",
        "\n",
        "![gg](https://upload.wikimedia.org/wikipedia/commons/thumb/f/fc/Dot-product-1.svg/440px-Dot-product-1.svg.png)"
      ]
    },
    {
      "cell_type": "markdown",
      "metadata": {
        "id": "8sHjrweRYsim"
      },
      "source": [
        "*In allen drei Beispielen gilt $|\\vec{a}|=5$ und $|\\vec{b}|=3 .$ Die Skalarprodukte ergeben sich mithilfe der speziellen Kosinuswerte $\\cos 0^{\\circ}=1, \\cos 60^{\\circ}=\\frac{1}{2}$ und $\\cos 90^{\\circ}=0$ :*"
      ]
    },
    {
      "cell_type": "markdown",
      "metadata": {
        "id": "twRZsFPBYgSd"
      },
      "source": [
        "![gg](https://raw.githubusercontent.com/deltorobarba/repo/master/skalarprodukt.png)"
      ]
    },
    {
      "cell_type": "markdown",
      "metadata": {
        "id": "ZaHcxvFjZCa0"
      },
      "source": [
        "Algebraische Eigenschaften des Skalarprodukt:\n",
        "\n",
        "1. Es ist symmetrisch (Kommutativgesetz):\n",
        "$\\vec{a} \\cdot \\vec{b}=\\vec{b} \\cdot \\vec{a}$ für alle Vektoren $\\vec{a}$ und $\\vec{b}$\n",
        "\n",
        "2. Es ist homogen in jedem Argument (gemischtes Assoziativgesetz):\n",
        "$(r \\vec{a}) \\cdot \\vec{b}=r(\\vec{a} \\cdot \\vec{b})=\\vec{a} \\cdot(r \\vec{b})$ für alle Vektoren $\\vec{a}$ und $\\vec{b}$ und alle Skalare $r \\in \\mathbb{R}$\n",
        "\n",
        "3. Es ist additiv in jedem Argument (Distributivgesetz):\n",
        "$\\vec{a} \\cdot(\\vec{b}+\\vec{c})=\\vec{a} \\cdot \\vec{b}+\\vec{a} \\cdot \\vec{c}$ und\n",
        "$(\\vec{a}+\\vec{b}) \\cdot \\vec{c}=\\vec{a} \\cdot \\vec{c}+\\vec{b} \\cdot \\vec{c}$ für alle Vektoren $\\vec{a}, \\vec{b}$ und $\\vec{c}$.\n",
        "\n",
        "Die Eigenschaften 2 und 3 fasst man auch zusammen zu: Das Skalarprodukt ist [bilinear](https://de.m.wikipedia.org/wiki/Bilineare_Abbildung)."
      ]
    },
    {
      "cell_type": "markdown",
      "metadata": {
        "id": "stqsZWzKN3Pm"
      },
      "source": [
        "*Kreuzprodukt*"
      ]
    },
    {
      "cell_type": "markdown",
      "metadata": {
        "id": "fz_aQ1w7N7F5"
      },
      "source": [
        "* Verknüpfung von zwei Vektoren, deren Ergebnis wieder ein Vektor ist\n",
        "\n",
        "* Das [Kreuzprodukt](https://de.m.wikipedia.org/wiki/Kreuzprodukt), auch Vektorprodukt, vektorielles Produkt oder äußeres Produkt, ist eine Verknüpfung im dreidimensionalen euklidischen Vektorraum, die zwei Vektoren wieder einen Vektor zuordnet. Um es von anderen Produkten, insbesondere vom Skalarprodukt, zu unterscheiden, wird es im deutsch- und englischsprachigen Raum mit einem Malkreuz \n",
        "×\n",
        "\\times  als Multiplikationszeichen geschrieben"
      ]
    },
    {
      "cell_type": "markdown",
      "metadata": {
        "id": "i2eTKpsqnW8l"
      },
      "source": [
        "*Spatprodukt*"
      ]
    },
    {
      "cell_type": "markdown",
      "metadata": {
        "id": "BY-notr2nZTh"
      },
      "source": [
        "* Das [Spatprodukt](https://de.m.wikipedia.org/wiki/Spatprodukt), auch gemischtes Produkt genannt, ist das Skalarprodukt aus dem Kreuzprodukt zweier Vektoren und einem dritten Vektor. \n",
        "\n",
        "* Siehe auch [Parallelepiped (Spat)](https://de.m.wikipedia.org/wiki/Parallelepiped)"
      ]
    },
    {
      "cell_type": "markdown",
      "metadata": {
        "id": "tOasbveIONjn"
      },
      "source": [
        "*Direktes Produkt*"
      ]
    },
    {
      "cell_type": "markdown",
      "metadata": {
        "id": "DMAHs_i5ORVZ"
      },
      "source": [
        "* ein [direktes Produkt](https://de.m.wikipedia.org/wiki/Direktes_Produkt) ist eine mathematische Struktur, die mit Hilfe des kartesischen Produkts aus vorhandenen mathematischen Strukturen gebildet wird. \n",
        "\n",
        "* Wichtige Beispiele sind das direkte Produkt von Gruppen, Ringen und anderen algebraischen Strukturen, sowie direkte Produkte von nichtalgebraischen Strukturen wie topologischen Räumen."
      ]
    },
    {
      "cell_type": "markdown",
      "metadata": {
        "id": "hryEPtLGk31L"
      },
      "source": [
        "###### **Beispiele fur Vektorraume**"
      ]
    },
    {
      "cell_type": "markdown",
      "metadata": {
        "id": "XWYh4UmExlqY"
      },
      "source": [
        "https://de.m.wikipedia.org/wiki/Vektorraum#Vektorr%C3%A4ume_mit_zus%C3%A4tzlicher_Struktur"
      ]
    },
    {
      "cell_type": "markdown",
      "metadata": {
        "id": "HbnBDi0xO2VA"
      },
      "source": [
        "**Funktionenraum**"
      ]
    },
    {
      "cell_type": "markdown",
      "metadata": {
        "id": "hPDqWrO6O55i"
      },
      "source": [
        "https://de.m.wikipedia.org/wiki/Funktionenraum"
      ]
    },
    {
      "cell_type": "markdown",
      "metadata": {
        "id": "gUY4T_QBO9Vj"
      },
      "source": [
        "**Folgenraum**"
      ]
    },
    {
      "cell_type": "markdown",
      "metadata": {
        "id": "YSO-Q01APAt4"
      },
      "source": [
        "https://de.m.wikipedia.org/wiki/Folgenraum"
      ]
    },
    {
      "cell_type": "markdown",
      "metadata": {
        "id": "aV02xQ1_PDzD"
      },
      "source": [
        "**Polynomräume**"
      ]
    },
    {
      "cell_type": "markdown",
      "metadata": {
        "id": "gRVrAArWPNOg"
      },
      "source": [
        "https://de.m.wikipedia.org/wiki/Vektorraum#Polynomr%C3%A4ume"
      ]
    },
    {
      "cell_type": "markdown",
      "metadata": {
        "id": "rJynYy2j0olt"
      },
      "source": [
        "#### **Vektorraum: Lineare Abbildungen zwischen unendlichdimensionalen Vektorräumen**"
      ]
    },
    {
      "cell_type": "markdown",
      "metadata": {
        "id": "tU118uUD00pd"
      },
      "source": [
        "* Insbesondere in der Funktionalanalysis betrachtet man [lineare Abbildungen zwischen unendlichdimensionalen Vektorräumen](https://de.m.wikipedia.org/wiki/Lineare_Abbildung#Lineare_Abbildungen_zwischen_unendlichdimensionalen_Vektorr%C3%A4umen). \n",
        "\n",
        "* In diesem Kontext nennt man die linearen Abbildungen meist [lineare Operatoren](https://de.m.wikipedia.org/wiki/Linearer_Operator). \n",
        "\n",
        "* Die betrachteten Vektorräume tragen meist noch die zusätzliche Struktur eines [normierten](https://de.m.wikipedia.org/wiki/Normierter_Raum) vollständigen Vektorraums. Solche Vektorräume heißen [Banachräume](https://de.m.wikipedia.org/wiki/Banachraum). \n",
        "\n",
        "* Im Gegensatz zum endlichdimensionalen Fall reicht es nicht, lineare Operatoren nur auf einer Basis zu untersuchen. Nach dem baireschen Kategoriensatz hat nämlich eine Basis eines unendlichdimensionalen Banachraums überabzählbar viele Elemente und die Existenz einer solchen Basis lässt sich nicht konstruktiv begründen, das heißt nur unter Verwendung des [Auswahlaxioms](https://de.m.wikipedia.org/wiki/Auswahlaxiom) (Zermelo-Fraenkel-Mengenlehre). \n",
        "\n",
        "* Man verwendet daher einen anderen Basisbegriff, etwa [Orthonormalbasen](https://de.m.wikipedia.org/wiki/Orthonormalbasis) oder allgemeiner [Schauderbasen](https://de.m.wikipedia.org/wiki/Schauderbasis). \n",
        "\n",
        "  * In der Funktionalanalysis wird eine Folge $\\left(b_{n}\\right)_{n \\in \\mathbb{N}}$ eines Banachraums als Schauderbasis bezeichnet, falls jeder Vektor bezüglich ihr eine eindeutige Darstellung als (unendliche) Linearkombination hat. \n",
        "  \n",
        "  * Sie ist zu unterscheiden von der [Hamelbasis](https://de.m.wikipedia.org/wiki/Basis_(Vektorraum)), von der verlangt wird, dass sich jeder Vektor als endliche Linearkombination der Basiselemente darstellen lässt.--\n",
        "\n",
        "* Damit können gewisse Operatoren wie zum Beispiel [Hilbert-Schmidt-Operatoren](https://de.m.wikipedia.org/wiki/Hilbert-Schmidt-Operator) mithilfe „unendlich großer Matrizen“ dargestellt werden, wobei dann auch unendliche Linearkombinationen zugelassen werden müssen.\n",
        "\n"
      ]
    },
    {
      "cell_type": "markdown",
      "metadata": {
        "id": "B2KpY8rLjVuA"
      },
      "source": [
        "## **Verband (Lattice) & Order Theory**"
      ]
    },
    {
      "cell_type": "markdown",
      "metadata": {
        "id": "ZRoriGq7GVJl"
      },
      "source": [
        "#### **Verband / Lattice (Abstract Algebra)**"
      ]
    },
    {
      "cell_type": "markdown",
      "metadata": {
        "id": "K0UpZzAKftF8"
      },
      "source": [
        "##### **Verband (Lattice)**"
      ]
    },
    {
      "cell_type": "markdown",
      "metadata": {
        "id": "g7DVt8p93YNw"
      },
      "source": [
        "https://de.m.wikipedia.org/wiki/Verband_(Mathematik)"
      ]
    },
    {
      "cell_type": "markdown",
      "metadata": {
        "id": "uJxOdQZjRxmk"
      },
      "source": [
        "Ein Verband ist ein Tripel (V, ⊓, ⊔), bestehend aus einer nichtleeren Menge V und zwei Operationen ⊓ : V×V →V (lies: et)und ⊔ : V×V →V (lies:vel), fur die folgende Rechenregeln gelten:\n",
        "\n",
        "* Beide Operationen sind **kommutativ**, d. h., u⊓v = v⊓u und u⊔v = v⊔u f u ̈ r a l l e u , v ∈ V .\n",
        "\n",
        "* Beide Operationen sind **assoziativ**, d. h., (u ⊓ v) ⊓ w = u ⊓ (v ⊓ w) und ( u ⊔ v ) ⊔ w = u ⊔ ( v ⊔ w ) f u ̈ r a l l e u , v , w ∈ V .\n",
        "\n",
        "* Es gelten die **Verschmelzungsgesetze**, d. h., u⊓(u⊔v) = u und u⊔(u⊓v) = u f u ̈ r a l l e u , v ∈ V .\n",
        "\n",
        "Ein Verband (V,⊓,⊔) wird auch kuerzer V geschrieben, sofern klar ist, um welche Operationen es sich handelt. Ein Verband V heißt endlich, wenn die Menge V endlich ist."
      ]
    },
    {
      "cell_type": "markdown",
      "metadata": {
        "id": "s2xBQMKOg1Ve"
      },
      "source": [
        "* Ein Verband ist eine algebraische Struktur, **deren zwei innere Verknüpfungen im allgemeinen Fall nicht als Addition und Multiplikation aufgefasst werden können** (zB grösser gleich und kleiner gleich Relationen zwischen Mengenelementen)\n",
        "\n",
        "* Als algebraische Struktur ist ein Verband dadurch gekennzeichnet, dass es zwei assoziative und kommutative Operationen gibt, für die die Absorptionsgesetze kennzeichnend sind: Für beliebige Elemente gilt u ∨ (u ∧ v) = u und u ∧ (u ∨ v) = u.\n",
        "\n",
        "* Für jede in der Verbandstheorie vorkommende algebraische Aussage gibt es eine direkte Übersetzung in eine Ordnungsaussage und umgekehrt."
      ]
    },
    {
      "cell_type": "markdown",
      "metadata": {
        "id": "YMZNsl4uKyXF"
      },
      "source": [
        "Ein Verband $(V, \\vee, \\wedge)$ ist eine Menge $V$ mit zwei inneren binären Verknüpfungen $\\vee$ (Vereinigung, engl. join) und $\\wedge$ (Durchschnitt, engl. meet), die folgenden Bedingungen für alle $u, v, w$ aus $V$ genügen:\n",
        "\n",
        "**Assoziativgesetze**:\n",
        "\n",
        "$ u \\vee(v \\vee w)=(u \\vee v) \\vee w$\n",
        "\n",
        "$ u \\wedge(v \\wedge w)=(u \\wedge v) \\wedge w$\n",
        "\n",
        "**Kommutativgesetze**:\n",
        "\n",
        "$ u \\vee \\boldsymbol{v}=v \\vee u$\n",
        "\n",
        "$ u \\wedge v=v \\wedge u$\n",
        "\n",
        "**Absorptionsgesetze**:\n",
        "\n",
        "$ u \\vee(u \\wedge v)=u$\n",
        "\n",
        "$ u \\wedge(u \\vee v)=u$\n",
        "\n",
        "Aus diesen Bedingungen folgt die [**Idempotenz**](https://de.m.wikipedia.org/wiki/Idempotenz) beider Verknüpfungen:\n",
        "\n",
        "$ u \\vee \\boldsymbol{u}=u$\n",
        "\n",
        "$ u \\wedge u=u$\n",
        "\n",
        "**$V$ ist also bezüglich jeder einzelnen Verknüpfung ein Halbverband, $d$. h. eine kommutative [Halbgruppe](https://de.m.wikipedia.org/wiki/Halbgruppe),** der jedes Element idempotent ist. Die Verknüpfungen treten bei den Absorptionsgesetzen in\n",
        "Wechselwirkung."
      ]
    },
    {
      "cell_type": "markdown",
      "metadata": {
        "id": "suo2vIgK00Mr"
      },
      "source": [
        "**Beispiele für Verbände:**\n",
        "\n",
        "* Die Menge aller Aussagen bildet zusammen mit Konjunktion und Disjunktion nach Satz 1.9 einen Verband, den so genannten Aus- sagenverband.\n",
        "\n",
        "* Die Potenzmenge P (A) einer Menge A bildet zusammen mit Durchschnitt und Vereinigung nach Satz 3.7 den Potenzmengenverband von A.\n",
        "\n",
        "* Die Menge aller natuerlichen Zahlen N<sub>0</sub> bildet mit ggT und kgV nach Kap. 13 den so genannten natu ̈rlichen Teilerverband.\n",
        "\n",
        "* Die Menge aller Unterra ̈ume eines Vektorraums V bildet mit Durchschnitt und Summe den so genannten Unterraumverband von V , wobei die Summe durchU+W ={u+w|u∈U,w∈W}gegebenist.\n",
        "\n",
        "* die z. B. in der Mengenlehre, der Logik und als Schaltalgebren auftretenden Booleschen Algebren sind Verbände.\n",
        "\n",
        "* [totale Ordnungen](https://de.m.wikipedia.org/wiki/Ordnungsrelation#Totalordnung), die z. B. in den verschiedenen Zahlbereichen wie N  (natürliche Zahlen), Z (ganze Zahlen), Q (rationale Zahlen) oder R (reelle Zahlen) auftreten, sind Verbände.\n",
        "\n",
        "* für jede beliebige natürliche Zahl ist die Menge der Teiler (durch die Teilbarkeit geordnet) ein Verband.\n",
        "\n",
        "* die Unterstrukturen einer beliebigen algebraischen oder sonstigen Struktur bilden einen Verband mit der Teilmengenrelation als Ordnung.\n",
        "\n",
        "* ALSO: Das Hasse-Diagramm zeigt die Teiler der Zahl 12, bezüglich der durch die Teilbarkeit gegebenen Ordnungsbeziehung (https://mathepedia.de/Hasse_Diagramme.html)"
      ]
    },
    {
      "cell_type": "markdown",
      "metadata": {
        "id": "gnn7w0CKfvko"
      },
      "source": [
        "https://de.m.wikipedia.org/wiki/Verband_(Mathematik)"
      ]
    },
    {
      "cell_type": "markdown",
      "metadata": {
        "id": "enrSGr1-bNY9"
      },
      "source": [
        "https://en.m.wikipedia.org/wiki/Lattice_(order)"
      ]
    },
    {
      "cell_type": "markdown",
      "metadata": {
        "id": "ZaWMOhMSh5je"
      },
      "source": [
        "**Ordnungstheorie**: https://mathepedia.de/Verbaende.html"
      ]
    },
    {
      "cell_type": "markdown",
      "metadata": {
        "id": "5bdxlQbQBlwx"
      },
      "source": [
        "https://en.wikipedia.org/wiki/Algebraic_structure\n",
        "\n",
        "Check: Two sets with operations"
      ]
    },
    {
      "cell_type": "markdown",
      "metadata": {
        "id": "GqvDwx9rBoAR"
      },
      "source": [
        "https://de.m.wikipedia.org/wiki/Algebraische_Struktur"
      ]
    },
    {
      "cell_type": "markdown",
      "metadata": {
        "id": "QfmcVnYsJshi"
      },
      "source": [
        "**Absorption (Logik)**"
      ]
    },
    {
      "cell_type": "markdown",
      "metadata": {
        "id": "2s51QFKzJ76J"
      },
      "source": [
        "* Das Absorptionsgesetz der Aussagenlogik besagt, dass eine Aussage absorbiert wird, d. h., dass ihre Belegung für die Auswertung der Gesamtformel irrelevant ist, wenn sie hintereinander konjunktiv und disjunktiv mit einer anderen Aussage verknüpft wird, wobei die Reihenfolge der Verknüpfungen keine Rolle spielt.\n",
        "\n",
        "Absorptionsgesetze in der Verbandstheorie:\n",
        "\n",
        "$u \\vee(u \\wedge v)=u$\n",
        "\n",
        "$u \\wedge(u \\vee v)=u$"
      ]
    },
    {
      "cell_type": "markdown",
      "metadata": {
        "id": "rgHOEdfCJuhn"
      },
      "source": [
        "https://de.m.wikipedia.org/wiki/Absorption_(Logik)"
      ]
    },
    {
      "cell_type": "markdown",
      "metadata": {
        "id": "3E9FRg7kRfHs"
      },
      "source": [
        "**Hintergrund zu Verbaenden**"
      ]
    },
    {
      "cell_type": "markdown",
      "metadata": {
        "id": "l93P5wnr824U"
      },
      "source": [
        "* Das Verbandskonzept geht auf Dedekind und Schroeder zurueck (Ende des 19. Jahrhunderts).\n",
        "\n",
        "* Bei Dedekind heißen solche Strukturen Dualgruppen. Der Name Verband wurde von Fritz Klein (ca. 1930) gewaehlt. Garrett Birkhoff, der Begruender der modernen Verbandstheorie, praegte den englischen Begriff lattice.\n",
        "\n",
        "* Ein Verband ist **eine Struktur, die sowohl als [Ordnungsstruktur (Ordnungsrelation)](https://de.m.wikipedia.org/wiki/Ordnungsrelation) als auch als [algebraische Struktur](https://de.m.wikipedia.org/wiki/Algebraische_Struktur)** vollständig beschrieben werden kann. \n",
        "\n",
        "* Als Ordnungsstruktur ist ein Verband dadurch gekennzeichnet, dass es zu je zwei Elementen \n",
        "a, \n",
        "b ein Supremum \n",
        "a\n",
        "∨\n",
        "b gibt, d. h. ein eindeutig bestimmtes kleinstes Element, das größer oder gleich\n",
        "a und \n",
        "b ist, und umgekehrt ein Infimum \n",
        "a\n",
        "∧\n",
        "b, ein größtes Element, das kleiner oder gleich \n",
        "a und\n",
        "b ist. \n",
        "\n",
        "* Als algebraische Struktur ist ein Verband dadurch gekennzeichnet, dass es zwei assoziative und kommutative Operationen gibt, für die die Absorptionsgesetze kennzeichnend sind: Für beliebige Elemente gilt\n",
        "\n",
        "> $u \\vee(u \\wedge v)=u$ und $u \\wedge(u \\vee v)=u$\n",
        "\n",
        "* **Für jede in der Verbandstheorie vorkommende algebraische Aussage gibt es eine direkte Übersetzung in eine Ordnungsaussage und umgekehrt**. Diese Übersetzung ist in den meisten Fällen auch anschaulich nachzuvollziehen. \n",
        "\n",
        "* Die Möglichkeit, Ergebnisse doppelt zu interpretieren und dadurch besser zu verstehen, macht die Untersuchung und die Verwendung von Aussagen aus der Verbandstheorie so interessant. Der Begriff Verband wurde im hier beschriebenen Sinne von Fritz Klein-Barmen geprägt."
      ]
    },
    {
      "cell_type": "markdown",
      "metadata": {
        "id": "t6_txpIWhm2L"
      },
      "source": [
        "##### **Beispiel: Boolesche Algebra**"
      ]
    },
    {
      "cell_type": "markdown",
      "metadata": {
        "id": "W_X5DTD42oU9"
      },
      "source": [
        "> In der Mathematik ist eine boolesche Algebra (oder ein boolescher Verband) eine spezielle algebraische Struktur, die die Eigenschaften der logischen Operatoren UND, ODER, NICHT sowie die Eigenschaften der mengentheoretischen Verknüpfungen Durchschnitt, Vereinigung, Komplement verallgemeinert. Gleichwertig zu booleschen Algebren sind boolesche Ringe, die von UND und ENTWEDER-ODER (exklusiv-ODER) beziehungsweise Durchschnitt und symmetrischer Differenz ausgehen.\n",
        "\n",
        "Die boolesche Algebra ist die Grundlage bei der Entwicklung von digitaler Elektronik und wird in allen modernen Programmiersprachen zur Verfügung gestellt. Sie wird auch in der Satztheorie und der Statistik verwendet."
      ]
    },
    {
      "cell_type": "markdown",
      "metadata": {
        "id": "k4Sp21V_hWFP"
      },
      "source": [
        "https://de.m.wikipedia.org/wiki/Boolesche_Algebra"
      ]
    },
    {
      "cell_type": "markdown",
      "metadata": {
        "id": "1yoiK_Z2hS2b"
      },
      "source": [
        "Eine Algebra (Plural: Algebren) **ist eine Verallgemeinerung des Begriffes Ring**.\n",
        "Es gibt zwei grundsätzlich verschiedene Arten von Algebren:\n",
        "\n",
        "1. Boolesche Algebren, insbesondere Mengenalgebren wie z.B. σ-Algebren\n",
        "\n",
        "2. Algebren über Ringen, die eine Art Synthese aus den Begriffen Vektorraum und Ring darstellen."
      ]
    },
    {
      "cell_type": "markdown",
      "metadata": {
        "id": "0XBejTPwhPaA"
      },
      "source": [
        "https://mathepedia.de/Algebren.html"
      ]
    },
    {
      "cell_type": "markdown",
      "metadata": {
        "id": "h3EItm12hE7r"
      },
      "source": [
        "**Boolsche Algebra**"
      ]
    },
    {
      "cell_type": "markdown",
      "metadata": {
        "id": "sOC7zkQkhHlR"
      },
      "source": [
        "* Eine **Boolesche Algebra (oder ein boolescher Verband) ist ein Verband**, bzw. eine spezielle algebraische Struktur, die die Eigenschaften der logischen Operatoren UND, ODER, NICHT sowie die Eigenschaften der mengentheoretischen Verknüpfungen Durchschnitt, Vereinigung, Komplement verallgemeinert. \n",
        "\n",
        "* Gleichwertig zu booleschen Algebren sind boolesche Ringe, die von UND und ENTWEDER-ODER (exklusiv-ODER) beziehungsweise Durchschnitt und symmetrischer Differenz ausgehen.\n",
        "\n",
        "* Die boolesche Algebra ist die Grundlage bei der Entwicklung von digitaler Elektronik und wird in allen modernen Programmiersprachen zur Verfügung gestellt. Sie wird auch in der Satztheorie und der Statistik verwendet.\n",
        "\n",
        "* Eine **Boolesche Algebra (oder ein boolescher Verband) ist ein Verband**, in dem die beiden Verknüpfungen je ein neutrales Element haben, a ∪ 0 = a und a ∩ 1 = a, und in dem jedes Element ein bezüglich beider Verknüpfungen übereinstimmendes Komplement h"
      ]
    },
    {
      "cell_type": "markdown",
      "metadata": {
        "id": "1Ea-fe4W_emT"
      },
      "source": [
        "**Definition der Boolschen Algebra als Verband:**\n",
        "\n",
        "* **Eine boolesche Algebra ist ein distributiver komplementärer Verband**. Diese Definition geht nur von den Verknüpfungen $\\wedge$ und $\\vee$ aus und umfasst die Existenz von 0,1 und $\\neg$ und die unabhängigen Axiome (1)$\\left(1^{\\prime}\\right)(2)$ $\\left(2^{\\prime}\\right)(11)\\left(11^{\\prime}\\right)(4)(9)\\left(9^{\\prime}\\right)$ des gleichwertigen Axiomensystems von Peano. \n",
        "\n",
        "* Auf einer booleschen Algebra ist wie in jedem Verband durch $a \\leq b \\Longleftrightarrow a=a \\wedge b$ eine partielle Ordnung definierbar; bei ihr haben je zwei Elemente ein Supremum und ein Infimum. \n",
        "\n",
        "* Bei der mengentheoretischen Interpretation ist $\\leq$ gleichbedeutend zur Teilmengenordnung $\\subseteq$"
      ]
    },
    {
      "cell_type": "markdown",
      "metadata": {
        "id": "GfcFvGUzAU4M"
      },
      "source": [
        "**Boolesche Ringe**\n",
        "\n",
        "* Eine andere Sichtweise auf boolesche Algebren besteht in sogenannten booleschen Ringen: Das sind Ringe mit Einselement, die zusätzlich idempotent sind, also das Idempotenzgesetz \n",
        "a\n",
        "⋅\n",
        "a\n",
        "=\n",
        "a erfüllen. \n",
        "\n",
        "* Jeder idempotente Ring ist kommutativ. Die Addition im booleschen Ring entspricht bei der mengentheoretischen Interpretation der symmetrischen Differenz und bei aussagenlogischer Interpretation der Alternative ENTWEDER-ODER (exclusiv-ODER, XOR); die Multiplikation entspricht der Durchschnittsbildung beziehungsweise der Konjunktion UND."
      ]
    },
    {
      "cell_type": "markdown",
      "metadata": {
        "id": "0p0KsPea3-pX"
      },
      "source": [
        "https://de.m.wikipedia.org/wiki/Aussagenlogik"
      ]
    },
    {
      "cell_type": "markdown",
      "metadata": {
        "id": "QYMsn5TXf2Tz"
      },
      "source": [
        "##### **Beispiel: Mengenalgebra (Field of Sets) wie Sigma-Algebra**"
      ]
    },
    {
      "cell_type": "markdown",
      "metadata": {
        "id": "_GOi9QJC2KKM"
      },
      "source": [
        "> In der Mathematik ist (Mengen-)Algebra ein Grundbegriff der Maßtheorie. Er beschreibt ein nicht-leeres Mengensystem, das vereinigungs- und komplementstabil ist."
      ]
    },
    {
      "cell_type": "markdown",
      "metadata": {
        "id": "UtsldPtaf407"
      },
      "source": [
        "https://de.m.wikipedia.org/wiki/Algebra_(Mengensystem)"
      ]
    },
    {
      "cell_type": "markdown",
      "metadata": {
        "id": "jikzDMPXA51Q"
      },
      "source": [
        "Die Potenzmenge einer Menge $S$ wird mit Durchschnitt, Vereinigung und dem Komplement $A^{\\complement}:=\\{x \\mid(x \\in S) \\wedge(x \\notin A)\\}$ zu einer booleschen Algebra, bei der 0 die leere Menge $\\emptyset$ und 1 die ganze Menge $S$ ist. Der Sonderfall $S=\\emptyset$ ergibt die einelementige Potenzmenge mit $1=0 .$ \n",
        "\n",
        "Auch jeder $S$ enthaltende, bezüglich Vereinigung und Komplement abgeschlossene Teilbereich der Potenzmenge von $S$ ist eine boolesche Algebra, die als Teilmengenverband oder Mengenalgebra bezeichnet wird. Der Darstellungssatz von Stone besagt, dass jede boolesche Algebra isomorph (s. u.) zu einer Mengenalgebra ist. Daraus folgt, dass die Mächtigkeit jeder endlichen booleschen\n",
        "Algebra eine Zweierpotenz ist.\n",
        "\n",
        "Über die Venn-Diagramme veranschaulicht die Mengenalgebra boolesche Gesetze, beispielsweise Distributiv- und deMorgansche-Gesetze. Darüber hinaus basiert auf ihrer Form als KV-Diagramm eine bekannte Methode der systematischen Vereinfachung boolescher Ausdrücke in der Schaltalgebra.\n",
        "Weitere Beispiele für boolesche Mengenalgebren stammen aus der Topologie. \n",
        "\n",
        "Die Menge der abgeschlossenen offenen Mengen eines topologischen Raums bildet mit den üblichen Operationen für die Vereinigung, den Durchschnitt und das Komplement von Mengen eine boolesche Algebra. Die regulär abgeschlossenen Mengen und die regulär offenen Mengen stellen mit den jeweiligen regularisierten Mengenoperationen $\\cap^{*}, \\cup^{*}$ und $C^{*}$ ebenfalls boolesche Algebren dar."
      ]
    },
    {
      "cell_type": "markdown",
      "metadata": {
        "id": "W6m2f_P1hdXY"
      },
      "source": [
        "* **Mengenalgebra**: eine Boolesche Algebra, deren Elemente Mengen sind, nämlich Teilmengen einer Grundmenge X, mit den Mengenoperatoren ∪ und ∩ als Verknüpfungen, mit dem Nullelement ∅ und dem Einselement X.\n",
        "\n",
        "* **σ-Algebra**: eine bezüglich abzählbar-unendlicher Verknüpfungen abgeschlossene Mengenalgebra. **Messraum und Maßraum sind spezielle σ-Algebren.**\n",
        "\n",
        "* **Borel-Algebra** macht einen topologischen Raum zum Maßraum: sie ist die kleinste σ-Algebra, die eine gegebene Topologie enthält.\n",
        "\n",
        "* **Zweiwertige Boolesche Algebra**: hat nur die Elemente 0 und 1."
      ]
    },
    {
      "cell_type": "markdown",
      "metadata": {
        "id": "ravlJlNS2SVC"
      },
      "source": [
        "##### **Beispiel: Totale Ordnungen**"
      ]
    },
    {
      "cell_type": "markdown",
      "metadata": {
        "id": "p8inHVjG2a_y"
      },
      "source": [
        "https://de.m.wikipedia.org/wiki/Ordnungsrelation#Totalordnung"
      ]
    },
    {
      "cell_type": "markdown",
      "metadata": {
        "id": "Rn7ymwco2X4v"
      },
      "source": [
        "totale Ordnungen, die z. B. in den verschiedenen Zahlbereichen wie \n",
        "N\n",
        "\\mathbb {N}  (natürliche Zahlen), \n",
        "Z\n",
        "\\mathbb {Z} (ganze Zahlen), \n",
        "Q\n",
        "\\mathbb {Q}  (rationale Zahlen) oder \n",
        "R\n",
        "\\mathbb {R}  (reelle Zahlen) auftreten, sind Verbände."
      ]
    },
    {
      "cell_type": "markdown",
      "metadata": {
        "id": "WyUKo3xGerMv"
      },
      "source": [
        "#### **Order Theory**"
      ]
    },
    {
      "cell_type": "markdown",
      "metadata": {
        "id": "Rh7gHNwQks0n"
      },
      "source": [
        "##### **Ordnungsstrukturen (Relation und Ordnungsrelation)**"
      ]
    },
    {
      "cell_type": "markdown",
      "metadata": {
        "id": "zjER7DXlkvqX"
      },
      "source": [
        "Eng verwandt mit dem Begriff der relationalen Struktur ist der des [Graphen](https://de.m.wikipedia.org/wiki/Graph_(Graphentheorie)) im graphentheoretischen Sinn. Die Trägermenge wird dort als Knotenmenge bezeichnet, die Stelle der Relation nimmt die Kantenmenge ein. Graphen sind, wenn nicht anders gesagt, finit.\n",
        "\n",
        "In der Mathematik sind Ordnungsrelationen Verallgemeinerungen der „kleiner-gleich“-Beziehung. Sie erlauben es, Elemente einer Menge miteinander zu vergleichen."
      ]
    },
    {
      "cell_type": "markdown",
      "metadata": {
        "id": "SdL_BQ5us8eL"
      },
      "source": [
        "https://de.m.wikipedia.org/wiki/Mathematische_Struktur"
      ]
    },
    {
      "cell_type": "markdown",
      "metadata": {
        "id": "W-LdGQP7OTVg"
      },
      "source": [
        "https://en.m.wikipedia.org/wiki/Order_theory"
      ]
    },
    {
      "cell_type": "markdown",
      "metadata": {
        "id": "dhbPcgNTOQ7f"
      },
      "source": [
        "https://mathepedia.de/Ordnungstheorie.html"
      ]
    },
    {
      "cell_type": "markdown",
      "metadata": {
        "id": "OmdUiXQe_BIj"
      },
      "source": [
        "**Ordnungsrelationen: Overview**"
      ]
    },
    {
      "cell_type": "markdown",
      "metadata": {
        "id": "fcwSBGRmVO-v"
      },
      "source": [
        "* Eigenschaft jeweils zweier Elemente einer Menge\n",
        "\n",
        "* Ordnungsrelationen sind Verallgemeinerungen der „kleiner-gleich“-Beziehung. Sie erlauben es, Elemente einer Menge miteinander zu vergleichen.\n",
        "\n",
        "* Eine Ordnungsrelation ist formal eine [zweistellige Relation](https://de.m.wikipedia.org/wiki/Relation_(Mathematik)#Zweistellige_Relation) $R \\subseteq M \\times M$ auf einer Menge $M$ mit bestimmten unten aufgeführten Eigenschaften, worunter immer die Transitivität ist.\n",
        "\n",
        "* *Exkurs: Eine zweistellige Relation $R$ (auch binäre Relation genannt) zwischen zwei Mengen $A$ und $B$ ist eine Teilmenge des kartesischen Produkts $A \\times B=\\{(a, b) \\mid a \\in A, b \\in B\\}:$ $R \\subseteq A \\times B$. Die Menge $A$ wird als Quellmenge (englisch: set of departure) der Relation $R$ bezeichnet, die Menge $B$ als Zielmenge (englisch: set of destination).*"
      ]
    },
    {
      "cell_type": "markdown",
      "metadata": {
        "id": "KHUP6XJrWzDF"
      },
      "source": [
        "**(Schwache) Totalordnung (lineare Ordnung)**\n",
        "\n",
        "Eine Relation $\\leq$ auf einer Menge $M$ wird (schwache) Totalordnung oder totale Ordnung oder einfach (schwache) Ordnung genannt, wenn die Forderungen\n",
        "\n",
        "* $x \\leq x$ \t(**Reflexivität**)\n",
        "\n",
        "* $x \\leq y \\wedge y \\leq x \\Rightarrow x=y$\n",
        "(**Antisymmetrie** - In der Äquivalenzrelation ist das hier die **Symmetrie**)\n",
        "\n",
        "* $x \\leq y \\wedge y \\leq z \\Rightarrow x \\leq z$ (**Transitivität**)\n",
        "\n",
        "* $x \\leq y \\vee y \\leq x$ (**Totalität**)\n",
        "\n",
        "für alle $x, y, z \\in M$ erfült sind. \n",
        "\n",
        "Da dies bei der Zahlengeraden, der , Linie\", der Fall ist, wird eine Totalordnung auch lineare Ordnung genannt. Ferner gibt es für totalgeordnete Untermengen von partiell geordneten Mengen die Bezeichnung Kette."
      ]
    },
    {
      "cell_type": "markdown",
      "metadata": {
        "id": "3N5AXsDypR-Z"
      },
      "source": [
        "a ≤ a (reflexivity)\n",
        "\n",
        "if a ≤ b and b ≤ a then a = b (antisymmetry)\n",
        "\n",
        "if a ≤ b and b ≤ c then a ≤ c (transitivity)."
      ]
    },
    {
      "cell_type": "markdown",
      "metadata": {
        "id": "CLpjn67jpVMX"
      },
      "source": [
        "https://en.m.wikipedia.org/wiki/Order_theory"
      ]
    },
    {
      "cell_type": "markdown",
      "metadata": {
        "id": "Gx2gPD8DXwrf"
      },
      "source": [
        "Beispiel und Gegenbeispiel:\n",
        "\n",
        "* Ein Beispiel ist die Relation $\\leq($, kleinergleich\") auf den ganzen Zahlen $\\mathbb{Z}$.\n",
        "\n",
        "* Ein Gegenbeispiel ist die Teilmengenbeziehung $\\subseteq$ auf der Potenzmenge von $\\mathbb{Z}:$ sie ist nicht total, denn es gilt weder \\{1,2\\}$\\subseteq\\{2,3\\}$ noch \\{2,3\\}$\\subseteq\\{1,2\\}$."
      ]
    },
    {
      "cell_type": "markdown",
      "metadata": {
        "id": "iUQFcFxdYpSL"
      },
      "source": [
        "**(Strenge) Totalordnung**\n",
        "\n",
        "Eine Relation $<$ auf $M$ heißt strenge (oder auch starke) Totalordnung, wenn\n",
        "\n",
        "* $x<y \\wedge y<z \\Rightarrow x<z$ (**Transitivität**)\n",
        "\n",
        "* entweder $x<y$ oder $x=y$ oder $y<x$\n",
        "(**Trichotomie**)\n",
        "\n",
        "für alle $x, y, z \\in M$ gilt.\n",
        "\n",
        "(In der Mathematik ist die Einteilung der reellen Zahlen in positive und negative Zahlen und die Null eine Trichotomie im strengen Sinne. Eine Verallgemeinerung davon ist die Trichotomie der Ordnung: Für reelle Zahlen a und b gilt genau eine der Beziehungen:\n",
        "\n",
        "a < b\n",
        "\n",
        "a = b\n",
        "\n",
        "a > b\n",
        "\n",
        "Diese Eigenschaft gilt in jeder total geordneten Menge.)"
      ]
    },
    {
      "cell_type": "markdown",
      "metadata": {
        "id": "Yoh8FDTcVMWY"
      },
      "source": [
        "https://de.m.wikipedia.org/wiki/Ordnungsrelation"
      ]
    },
    {
      "cell_type": "markdown",
      "metadata": {
        "id": "BRoSqoTrlB3H"
      },
      "source": [
        "##### **Properties von Ordnungsrelationen**"
      ]
    },
    {
      "cell_type": "markdown",
      "metadata": {
        "id": "E_8Aplyixw01"
      },
      "source": [
        "In der Mathematik sind Ordnungsrelationen Verallgemeinerungen der „kleiner-gleich“-Beziehung. Sie erlauben es, Elemente einer Menge miteinander zu vergleichen. Eine Ordnungsrelation ist formal eine zweistellige Relation\n",
        "$R\\subseteq M\\times M$\n",
        "auf einer Menge M.\n",
        "\n",
        "A binary relation R on a set X is a subset of the product X×X. Very often instead of writing, say, (x, y)∈R we write xRy.\n",
        "A binary relation may have many properties; the ones of interest for the definition of order are listed below (I'll omit the expression \"for all x\" or \"for all y\". The properties listed are assumed to hold for all elements from X):"
      ]
    },
    {
      "cell_type": "markdown",
      "metadata": {
        "id": "bzsc7JOwlEMJ"
      },
      "source": [
        "1. **Reflexivity**: xRx, z.B. $x \\leq x$\n",
        "\n",
        "2. **Symmetry**: if xRy then yRx\n",
        "\n",
        "3. **Antisymmetry**: if xRy and yRx then x = y, zB $x \\leq y \\wedge y \\leq x \\Rightarrow x=y$\n",
        "\n",
        "4. **Asymmetry**: if xRy then not yRx\n",
        "\n",
        "5. **Transitivity**: if xRy and yRz then xRz, zB $x \\leq y \\wedge y \\leq z \\Rightarrow x \\leq z$\n",
        "\n",
        "6. **Totality (Comparability, Trichotomy)**: either xRy or yRx, zB $x \\leq y \\vee y \\leq x$\n",
        "\n",
        "7. **Density**: xRy implies existence of z such that xRz and zRy"
      ]
    },
    {
      "cell_type": "markdown",
      "metadata": {
        "id": "tvBtuc6v3TgY"
      },
      "source": [
        "Eigenschaften der Typen an Ordnungsrelationen:\n",
        "\n",
        "* **Equivalence**: Reflexivität, Transitivität, Symmetrie\n",
        "* **Quasiordnung**: Reflexivität, Transitivität\n",
        "* *Totale Quasiordnung*: Reflexivität, Transitivität, Totalität\n",
        "* **Halbordnung**: Reflexivität, Transivity, Antisymmetrie\n",
        "* **Totalordnung**: Reflexivität, Transitivität, Antisymmetrie, Totalität\n",
        "* *Strenge Totalordnung*: Transitivität, Antisymmetrie, Totalität (keine Totalordnung, da Reflexivität fehlt)"
      ]
    },
    {
      "cell_type": "markdown",
      "metadata": {
        "id": "xpjlksU0w_20"
      },
      "source": [
        "https://www.cut-the-knot.org/WhatIs/Infinity/Order.shtml"
      ]
    },
    {
      "cell_type": "markdown",
      "metadata": {
        "id": "rSvXDKVRlJVL"
      },
      "source": [
        "https://de.m.wikipedia.org/wiki/Ordnungsrelation#"
      ]
    },
    {
      "cell_type": "markdown",
      "metadata": {
        "id": "xFcBkFrZOVJt"
      },
      "source": [
        "https://de.m.wikipedia.org/wiki/Relation_(Mathematik)"
      ]
    },
    {
      "cell_type": "markdown",
      "metadata": {
        "id": "byScNHDJOiWR"
      },
      "source": [
        "https://youtu.be/u9eZh-i6hgU"
      ]
    },
    {
      "cell_type": "markdown",
      "metadata": {
        "id": "r1j37YBsueUq"
      },
      "source": [
        "Hasse Diagramme: https://en.m.wikipedia.org/wiki/Hasse_diagram"
      ]
    },
    {
      "cell_type": "markdown",
      "metadata": {
        "id": "M11uiWZt6sKJ"
      },
      "source": [
        "##### **Typen von Ordnungsrelationen**"
      ]
    },
    {
      "cell_type": "markdown",
      "metadata": {
        "id": "W3lxKIbGww7T"
      },
      "source": [
        "**Equivalence Relation**"
      ]
    },
    {
      "cell_type": "markdown",
      "metadata": {
        "id": "SjyZL1lg0U-8"
      },
      "source": [
        "* In der Mathematik werden Objekte, die sich in einem bestimmten Zusammenhang gleichen, als gleichwertig bzw. äquivalent angesehen.\n",
        "\n",
        "* Ein solcher Zusammenhang lässt sich für alle Elemente einer nichtleeren Menge $A$ stets durch eine Funktion $f: A \\rightarrow B$ herstellen, indem man genau dann zwei Elemente $a, b \\in A$ als zueinander äquivalent\" bezeichnet und diese Beziehung durch $a \\sim b$ symbolisiert, wenn deren Bilder gleich sind:\n",
        "\n",
        "$\n",
        "a \\sim b: \\Longleftrightarrow f(a)=f(b)\n",
        "$\n",
        "\n",
        "Diese Beziehung bzw. Relation hat die folgenden drei Eigenschaften:\n",
        "1. **Reflexivity**: xRx - Jedes Objekt $a$ ist zu sich selbst äquivalent: $a \\sim a$\n",
        "2. **Symmetry**: if xRy then yRx - Wenn $a$ äquivalent zu $b$ ist, dann ist auch $b$ äquivalent zu $a: a \\sim b \\Rightarrow b \\sim a$\n",
        "3. **Transitivity**: if xRy and yRz then xRz - Wenn a äquivalent zu $b$ und $b$ äquivalent zu $c$ ist, dann ist auch $a$ äquivalent zu $c: a \\sim b$ und\n",
        "$b \\sim c \\Rightarrow a \\sim c$\n",
        "\n",
        "X together with the relation ~ is called a setoid. The equivalence class of a under ~, denoted [a], is defined as [a] = \n",
        "{\n",
        "x\n",
        "∈\n",
        "X\n",
        "∣\n",
        "x\n",
        "∼\n",
        "a\n",
        "}\n",
        "\n",
        "* a setoid (X, ~) is a set (or type) X equipped with an equivalence relation ~.\n",
        "* A Setoid may also be called E-set, Bishop set, or extensional set.\n",
        "* Setoids are studied especially in proof theory and in type-theoretic foundations of mathematics."
      ]
    },
    {
      "cell_type": "markdown",
      "metadata": {
        "id": "00WB6D3s0KFm"
      },
      "source": [
        "https://en.m.wikipedia.org/wiki/Setoid"
      ]
    },
    {
      "cell_type": "markdown",
      "metadata": {
        "id": "RpNi53IM1GnX"
      },
      "source": [
        "*Relations that are equivalences*"
      ]
    },
    {
      "cell_type": "markdown",
      "metadata": {
        "id": "JsFV681M1MkP"
      },
      "source": [
        "* \"Is equal to\" on the set of numbers. For example, $\\tfrac {1}{2}$ is equal to $\\tfrac {4}{8}$\n",
        "* \"Has the same birthday as\" on the set of all people.\n",
        "* \"Is similar to\" on the set of all triangles.\n",
        "* \"Is congruent to\" on the set of all triangles."
      ]
    },
    {
      "cell_type": "markdown",
      "metadata": {
        "id": "oqjP_L-K1Aq0"
      },
      "source": [
        "*Relations that are not equivalences*"
      ]
    },
    {
      "cell_type": "markdown",
      "metadata": {
        "id": "pxGjKwRw0-Wo"
      },
      "source": [
        "* The relation \"≥\" between real numbers is reflexive and transitive, but not symmetric. For example, 7 ≥ 5 does not imply that 5 ≥ 7. It is, however, a total order.\n",
        "\n",
        "* The empty relation R (defined so that aRb is never true) on a non-empty set X is vacuously symmetric and transitive, but not reflexive. (If X is also empty then R is reflexive.)\n"
      ]
    },
    {
      "cell_type": "markdown",
      "metadata": {
        "id": "Tx4wWAw6z3hX"
      },
      "source": [
        "https://en.m.wikipedia.org/wiki/Equivalence_relation"
      ]
    },
    {
      "cell_type": "markdown",
      "metadata": {
        "id": "wU4pMuz4w1di"
      },
      "source": [
        "https://www.cut-the-knot.org/blue/equi.shtml"
      ]
    },
    {
      "cell_type": "markdown",
      "metadata": {
        "id": "610yy8I71fy9"
      },
      "source": [
        "**Quasiordnung (Preorder)**"
      ]
    },
    {
      "cell_type": "markdown",
      "metadata": {
        "id": "tp5ctAZe1kgr"
      },
      "source": [
        "* abgeschwächte Variante einer Halbordnung\n",
        "\n",
        "* Eine Quasiordnung ist eine transitive und reflexive Relation.\n",
        "\n",
        "* die Antisymmetrie muss nicht erfüllt sein (es möglich ist, dass verschiedene Elemente in beiden Richtungen vergleichbar sind. )\n",
        "\n",
        "* die totalen Quasiordnungen treten in praktischen Anwendungen beim Anordnen von Objekten in Sortierverfahren, Tabellenkalkulationsprogrammen oder Datenbanken auf."
      ]
    },
    {
      "cell_type": "markdown",
      "metadata": {
        "id": "1P4JgcD71mky"
      },
      "source": [
        "https://de.m.wikipedia.org/wiki/Quasiordnung"
      ]
    },
    {
      "cell_type": "markdown",
      "metadata": {
        "id": "dg0auX5Z4992"
      },
      "source": [
        "*Totale Quasiordnung (Präferenzordnung, total preorder)*"
      ]
    },
    {
      "cell_type": "markdown",
      "metadata": {
        "id": "kPNWEQCR5Ibi"
      },
      "source": [
        "* Eine Quasiordnung heißt total, auch Präferenzordnung, (englisch total preorder), wenn je zwei Elemente immer vergleichbar sind. Für alle \n",
        "a\n",
        ",\n",
        "b\n",
        "∈\n",
        "M\n",
        "muss also gelten:\n",
        "\n",
        "> $a \\lesssim b \\vee b \\lesssim a$ (Totalität)"
      ]
    },
    {
      "cell_type": "markdown",
      "metadata": {
        "id": "xoPxEQWw5GBx"
      },
      "source": [
        "https://de.m.wikipedia.org/wiki/Präferenzrelation"
      ]
    },
    {
      "cell_type": "markdown",
      "metadata": {
        "id": "joclIzhwkkyN"
      },
      "source": [
        "**Halbordnung (Partially Ordered Set / Poset)**"
      ]
    },
    {
      "cell_type": "markdown",
      "metadata": {
        "id": "IPA1er3TJMGv"
      },
      "source": [
        "* a partially ordered set (also poset) formalizes and generalizes the intuitive concept of an ordering, sequencing, or arrangement of the elements of a set. \n",
        "\n",
        "* A poset consists of a set together with a binary relation indicating that, for certain pairs of elements in the set, **one of the elements precedes the other in the ordering.**\n",
        "\n",
        "* The relation itself is called a \"partial order.\" \n",
        "\n",
        "* The word partial in the names \"partial order\" and \"partially ordered set\" is used as an indication that not every pair of elements needs to be comparable. That is, there may be pairs of elements for which neither element precedes the other in the poset.\n",
        "\n",
        "* **Partial orders thus generalize total orders, in which every pair is comparable.**"
      ]
    },
    {
      "cell_type": "markdown",
      "metadata": {
        "id": "M0mMnC7_kqw_"
      },
      "source": [
        "Eine Menge $M$ heißt teilweise geordnet, oder halbgeordnet wenn sie mit einer Relation $\\leq$ versehen ist, die den folgenden Eigenschaften genügt:\n",
        "\n",
        "1. $x \\leq x$ für alle $x \\in M$ (**Reflexivität**)\n",
        "\n",
        "2. Für alle $x, y \\in M$ gilt: Aus $x \\leq y$ und $y \\leq x$ folgt $x=y$ (**Antisymmetrie**)\n",
        "\n",
        "3. Für alle $x, y, z \\in M$ gilt: Aus $x \\leq y$ und $y \\leq z$ folgt $x \\leq z$ (**Transitivität**)\n",
        "\n",
        "Im Englischen heißen teilweise geordnete Mengen auch Posets von Partially ordered set. Die Bezeichnung\n",
        "\"teilweise\" wird stellenweise auch weggelassen.\n",
        "\n",
        "* Gilt für zwei Elemente $x$ und $y$ weder $x \\leq y$ noch $y \\leq x,$ so heißen die Elemente unvergleichbar.\n",
        "\n",
        "* Im allgemeinen, in einer teilweisen Ordnung **müssen zwei Elemente <u>nicht</u> vergleichbar sein**. sind je zwei Elemente vergleichbar, so heißt die Ordnung linear. $\\leq$ ist linear: $\\Longleftrightarrow \\forall x, y: x R y \\vee y R x$\n",
        "\n",
        "* Ist die Ordnung linear, so spricht man auch von einer totalen Ordnung oder einer kettengeordneten Menge (=Elemente auf einer Linie).\n",
        "\n",
        "* Eine total geordnete Teilmenge von $M$ heißt auch Kette. Aus der Linearität folgt die Reflexivität."
      ]
    },
    {
      "cell_type": "markdown",
      "metadata": {
        "id": "cB9WrIdTTmgq"
      },
      "source": [
        "Examples"
      ]
    },
    {
      "cell_type": "markdown",
      "metadata": {
        "id": "WjDT-2BOTn4l"
      },
      "source": [
        "* The real numbers ordered by the standard less-than-or-equal relation ≤ (a totally ordered set as well).\n",
        "\n",
        "* The set of subsets of a given set (its power set) ordered by inclusion (see the figure on top-right). Similarly, the set of sequences ordered by subsequence, and the set of strings ordered by substring.\n",
        "\n",
        "* The set of natural numbers equipped with the relation of divisibility.\n",
        "\n",
        "* The vertex set of a directed acyclic graph ordered by reachability.\n",
        "\n",
        "* The set of subspaces of a vector space ordered by inclusion."
      ]
    },
    {
      "cell_type": "markdown",
      "metadata": {
        "id": "YXFyjQgkMOXJ"
      },
      "source": [
        "https://en.m.wikipedia.org/wiki/Ideal_(order_theory)"
      ]
    },
    {
      "cell_type": "markdown",
      "metadata": {
        "id": "D4pwOEVPMRb2"
      },
      "source": [
        "https://en.m.wikipedia.org/wiki/Filter_(mathematics)"
      ]
    },
    {
      "cell_type": "markdown",
      "metadata": {
        "id": "TU5ytZNfMXJt"
      },
      "source": [
        "https://en.m.wikipedia.org/wiki/Upper_set"
      ]
    },
    {
      "cell_type": "markdown",
      "metadata": {
        "id": "mrzOZyooTurc"
      },
      "source": [
        "https://en.m.wikipedia.org/wiki/Partially_ordered_set"
      ]
    },
    {
      "cell_type": "markdown",
      "metadata": {
        "id": "8Z8HzMmrkzdL"
      },
      "source": [
        "https://mathepedia.de/Teilweise_geordnete_Mengen.html"
      ]
    },
    {
      "cell_type": "markdown",
      "metadata": {
        "id": "UONLerqHJn6L"
      },
      "source": [
        "**Totalordnung (Totally Ordered Set, Lineare Ordnung)**"
      ]
    },
    {
      "cell_type": "markdown",
      "metadata": {
        "id": "e9cuLQMsJuk2"
      },
      "source": [
        "A total order (or \"totally ordered set,\" or \"linearly ordered set\") is a set plus a relation on the set (called a total order) that satisfies the conditions for a partial order plus an additional condition known as the comparability condition. A relation <= is a total order on a set S (\"<= totally orders  S\") if the following properties hold.\n",
        "\n"
      ]
    },
    {
      "cell_type": "markdown",
      "metadata": {
        "id": "G4cfj8BQJ6GB"
      },
      "source": [
        "1. Reflexivity: a<=a for all a in S.\n",
        "\n",
        "2. Antisymmetry: a<=b and b<=a implies  a=b.\n",
        "\n",
        "3. Transitivity: a<=b and b<=c implies  a<=c.\n",
        "\n",
        "4. **Comparability (trichotomy law, Totality): For any a,b in S, either a<=b or b<=a** (either xRy or yRx)\n",
        "\n",
        "The first three are the axioms of a partial order, while addition of the trichotomy law defines a total order.\n",
        "\n",
        "Every finite totally ordered set is well ordered. Any two totally ordered sets with k elements (for k a nonnegative integer) are order isomorphic, and therefore have the same order type (which is also an ordinal number)."
      ]
    },
    {
      "cell_type": "markdown",
      "metadata": {
        "id": "SRNsIl11NaSm"
      },
      "source": [
        "The term chain is a synonym for a totally ordered set, in particular, the term is often used to mean a totally ordered subset of some partially ordered set, for example in Zorn's lemma"
      ]
    },
    {
      "cell_type": "markdown",
      "metadata": {
        "id": "B9N_eiFRL8eJ"
      },
      "source": [
        "Examples"
      ]
    },
    {
      "cell_type": "markdown",
      "metadata": {
        "id": "wLXKt5VUL-Nj"
      },
      "source": [
        "* The letters of the alphabet ordered by the standard dictionary order, e.g., A < B < C etc.\n",
        "\n",
        "* Any subset of a totally ordered set X is totally ordered for the restriction of the order on X.\n",
        "\n",
        "* The unique order on the empty set, ∅, is a total order.\n",
        "\n",
        "* Any set of cardinal numbers or ordinal numbers (more strongly, these are well-orders)."
      ]
    },
    {
      "cell_type": "markdown",
      "metadata": {
        "id": "zxpLRCeFJ2hA"
      },
      "source": [
        "https://en.m.wikipedia.org/wiki/Total_order"
      ]
    },
    {
      "cell_type": "markdown",
      "metadata": {
        "id": "zQvleYHXJrYR"
      },
      "source": [
        "https://mathworld.wolfram.com/TotallyOrderedSet.html"
      ]
    },
    {
      "cell_type": "markdown",
      "metadata": {
        "id": "BbDMT6HRMJjW"
      },
      "source": [
        "https://en.m.wikipedia.org/wiki/Trichotomy_(mathematics)"
      ]
    },
    {
      "cell_type": "markdown",
      "metadata": {
        "id": "UjZ8oR8aKFLE"
      },
      "source": [
        "**Well Ordered Set**"
      ]
    },
    {
      "cell_type": "markdown",
      "metadata": {
        "id": "xWeiNFO_K4fr"
      },
      "source": [
        "* A totally ordered set (A,<=) is said to be well ordered (or have a well-founded order) iff every nonempty subset of **A has a least element** (Ciesielski 1997, p. 38; Moore 1982, p. 2; Rubin 1967, p. 159; Suppes 1972, p. 75). \n",
        "\n",
        "* Every finite totally ordered set is well ordered. The set of integers Z, which has no least element, is an example of a set that is not well ordered.\n",
        "\n",
        "* An ordinal number is the order type of a well ordered set."
      ]
    },
    {
      "cell_type": "markdown",
      "metadata": {
        "id": "dlpsxAcGzxaR"
      },
      "source": [
        "https://en.m.wikipedia.org/wiki/Well-order"
      ]
    },
    {
      "cell_type": "markdown",
      "metadata": {
        "id": "0HyKBp6BKtHN"
      },
      "source": [
        "https://mathworld.wolfram.com/WellOrderedSet.html"
      ]
    },
    {
      "cell_type": "markdown",
      "metadata": {
        "id": "wUvO9RwJybJa"
      },
      "source": [
        "https://www.cut-the-knot.org/WhatIs/Infinity/Order.shtml"
      ]
    },
    {
      "cell_type": "markdown",
      "metadata": {
        "id": "4x7aQkzzlQyy"
      },
      "source": [
        "**Ordnungstopologie**"
      ]
    },
    {
      "cell_type": "markdown",
      "metadata": {
        "id": "KraoQ8RBlTL4"
      },
      "source": [
        "* an order topology is a certain topology that **can be defined on any totally ordered set**. It is a natural generalization of the topology of the real numbers to arbitrary totally ordered sets.\n",
        "\n",
        "* Auf einer total geordneten Menge kann man in natürlicher Weise eine Topologie einführen, die mit der Ordnung verträglich ist. Diese Topologie wird Ordnungstopologie genannt. Einige Begriffe aus Topologie und Metrik wie diskret, dicht und vollständig lassen sich so auf Ordnungen übertragen."
      ]
    },
    {
      "cell_type": "markdown",
      "metadata": {
        "id": "RnsXkjSXlVDf"
      },
      "source": [
        "https://de.m.wikipedia.org/wiki/Ordnungstopologie"
      ]
    },
    {
      "cell_type": "markdown",
      "metadata": {
        "id": "N234_tIJ7CBJ"
      },
      "source": [
        "##### **Components of Posets**"
      ]
    },
    {
      "cell_type": "markdown",
      "metadata": {
        "id": "YrI9d8CV2YfV"
      },
      "source": [
        "**Praktische Prüffaktoren**"
      ]
    },
    {
      "cell_type": "markdown",
      "metadata": {
        "id": "Ni_GiBVj9_nW"
      },
      "source": [
        "* Sind Elemente vergleichbar? (falls nicht, kann es möglicherweise keine greatest or least elements geben). Achtung: es kann dann aber trotzdem ein oder mehrere maximale (bzw. minimale) Elemente geben, weil bei diesen nicht verlangt wird vergleichbar mit dem ganzen Rest aller Elemente zu sein (zB 'Verästelungen' im Hesse-Diagramm)\n",
        "\n",
        "* Sind Elemente infinite? (falls ja, dann gibt es kein maximales oder minimales element)\n",
        "\n",
        "* In welchem Zahlenbereich befinden sich Grundmenge, Subset und die definierten Grenzen? - Sind Grundmenge und Subset-Menge zB nur $\\in \\mathbb {Q}$, aber alle Elemente des Subset sind definiert als kleiner oder gleich $\\sqrt{2}$, was eine irrationale Zahl ist, dann gibt es kein Supremum und kein greatest Element.\n",
        "\n",
        "* Infimum und Supremum können auch ausserhalb der definierten Menge liegen (aber müssen nicht) - zB positive real numbers ℝ but without the zero. Then there is no minimal element, but an infimum (the zero), as the infimum can lay outside the subset, but not the mimimal or least element"
      ]
    },
    {
      "cell_type": "markdown",
      "metadata": {
        "id": "Jbq9LXccWAwS"
      },
      "source": [
        "**Maximal and minimal elements**"
      ]
    },
    {
      "cell_type": "markdown",
      "metadata": {
        "id": "7L8MPiXy_g9f"
      },
      "source": [
        "* a maximal element of a subset S of some partially ordered set (poset) is an element of S that is not smaller than any other element in S (An element g in a poset P is a maximal element if there is no element a in P such that a > g.)\n",
        "\n",
        "* A minimal element of a subset S of some partially ordered set is defined dually as an element of S that is not greater than any other element in S.\n",
        "\n",
        "* **The notions of maximal and minimal elements are weaker than those of greatest element and least element** which are also known, respectively, as maximum and minimum.\n",
        "\n",
        "* maxima and minima must be members of the subset that is under consideration\n",
        "\n",
        "* A set can have several maximal (minimal) elements (but only one greatest / least element)\n",
        "\n",
        "* The greatest element has to be comparable to all of the rest of the elements, but a maximal does not.\n",
        "\n",
        "* In a <u>**totally ordered set**</u> the **maximal element and the greatest element coincide**; and it is also called maximum"
      ]
    },
    {
      "cell_type": "markdown",
      "metadata": {
        "id": "Hg4LQguZWC5_"
      },
      "source": [
        "https://en.m.wikipedia.org/wiki/Maximal_and_minimal_elements"
      ]
    },
    {
      "cell_type": "markdown",
      "metadata": {
        "id": "sMtydC_vETAL"
      },
      "source": [
        "**Greatest element and least element**"
      ]
    },
    {
      "cell_type": "markdown",
      "metadata": {
        "id": "ExXM_fvaEV2b"
      },
      "source": [
        "* An element g in a poset P is a greatest element if for every element a in P, a ≤ g. \n",
        "\n",
        "* An element m in P is a least element if for every element a in P, a ≥ m. \n",
        "\n",
        "* A poset can only have one greatest or least element.\n",
        "\n",
        "* The greatest element has to be comparable to all of the rest of the elements, but a maximal does not.\n",
        "\n",
        "* **As defined in set theory, the maximum and minimum of a set are the greatest and least elements in the set, respectively.**\n",
        "\n",
        "* **The greatest element of a partially ordered subset must not be confused with maximal elements** of the set, which are elements that are not smaller than any other element in the set. \n",
        "\n",
        "* maxima and minima must be members of the subset that is under consideration\n",
        "\n",
        "* **A set can have several maximal elements without having a greatest element**. Like upper bounds and maximal elements, greatest elements may fail to exist."
      ]
    },
    {
      "cell_type": "markdown",
      "metadata": {
        "id": "Bd3aTFL428hn"
      },
      "source": [
        "https://en.m.wikipedia.org/wiki/Greatest_element_and_least_element"
      ]
    },
    {
      "cell_type": "markdown",
      "metadata": {
        "id": "wngEyYz4uOic"
      },
      "source": [
        "**Infimum and Supremum**"
      ]
    },
    {
      "cell_type": "markdown",
      "metadata": {
        "id": "_hjSJfUO0jK2"
      },
      "source": [
        "* The **infimum** (plural infima) of a subset S of a partially ordered set T, denoted $ \\operatorname {inf} S$ is **the greatest element in T** that is less than or equal to all elements of S, if such an element exists. Consequently, the term greatest lower bound (abbreviated as GLB) is also commonly used.\n",
        "\n",
        "* The **supremum** (plural suprema) of a subset S of a partially ordered set T , denoted $ \\operatorname {sup} S$ is the least element in T that is greater than or equal to all elements of S, if such an element exists.Consequently, the supremum is also referred to as the least upper bound (or LUB). \n",
        "\n",
        "* **The concepts of infimum and supremum are similar to minimum and maximum, but are more useful in analysis** because they better characterize special sets which may have no minimum or maximum. For instance, the positive real numbers ℝ+ (not including 0) does not have a minimum, because any given element of ℝ+ could simply be divided in half, resulting in a smaller number that is still in ℝ+. There is, however, exactly one infimum of the positive real numbers: 0, which is smaller than all the positive real numbers, and greater than any other real number **which could be used as a lower bound**.\n",
        "\n",
        "\n",
        "Definition supremum:\n",
        "\n",
        "1. The smallest number greater than or equal to all the numbers in the set. **When the set of numbers is finite, supremum is just the same as a maximum**\n",
        "\n",
        "2. **When the set of numbers has no upper limit, the supremum is infinity: sup({1,2,..}) = ∞**\n",
        "\n",
        "3. **When the set of numbers is empty, any number is an upper bound. So the supremum is minus infinity: sup({}) = -∞**\n",
        "\n",
        "* The infimum is in a precise sense **dual** to the concept of a supremum. Infima and suprema of real numbers are common special cases that are important in analysis, and especially in Lebesgue integration. However, the general definitions remain valid in the more abstract setting of order theory, where arbitrary partially ordered sets are considered.\n",
        "\n",
        "* **Whereas maxima and minima must be members of the subset that is under consideration, the infimum and supremum of a subset need not be members of that subset themselves.**"
      ]
    },
    {
      "cell_type": "markdown",
      "metadata": {
        "id": "zye5Mkhw2lUN"
      },
      "source": [
        "![xx](https://upload.wikimedia.org/wikipedia/commons/thumb/8/82/Illustration_of_supremum.svg/320px-Illustration_of_supremum.svg.png)"
      ]
    },
    {
      "cell_type": "markdown",
      "metadata": {
        "id": "QmGSkFXR2inj"
      },
      "source": [
        "*supremum = least upper bound*"
      ]
    },
    {
      "cell_type": "markdown",
      "metadata": {
        "id": "wvjOR4wh2TcY"
      },
      "source": [
        "![xx](https://upload.wikimedia.org/wikipedia/commons/thumb/0/0a/Infimum_illustration.svg/320px-Infimum_illustration.svg.png)"
      ]
    },
    {
      "cell_type": "markdown",
      "metadata": {
        "id": "HT65AuSk2RaM"
      },
      "source": [
        "*A set T of real numbers (hollow and filled circles), a subset S of T (filled circles), and the infimum of S.* Note that **for finite, <u>totally ordered</u> sets the infimum and the minimum are equal.**"
      ]
    },
    {
      "cell_type": "markdown",
      "metadata": {
        "id": "td9CpxWt2b4B"
      },
      "source": [
        "![xx](https://upload.wikimedia.org/wikipedia/commons/thumb/c/ce/Supremum_illustration.svg/320px-Supremum_illustration.svg.png)"
      ]
    },
    {
      "cell_type": "markdown",
      "metadata": {
        "id": "lqYyIsXP2ZAQ"
      },
      "source": [
        "*A set A of real numbers (blue circles), a set of upper bounds of A (red diamond and circles), and the smallest such upper bound, that is, the supremum of A (red diamond).*"
      ]
    },
    {
      "cell_type": "markdown",
      "metadata": {
        "id": "zeMDtRkIrk8V"
      },
      "source": [
        "Relation to maximum and minimum elements"
      ]
    },
    {
      "cell_type": "markdown",
      "metadata": {
        "id": "4UBo1dc1renu"
      },
      "source": [
        "* The infimum of a subset S of a partially ordered set P, assuming it exists, does not necessarily belong to S. If it does, it is a minimum or least element of S. \n",
        "\n",
        "* Similarly, if the supremum of S belongs to S, it is a maximum or greatest element of S.\n",
        "\n"
      ]
    },
    {
      "cell_type": "markdown",
      "metadata": {
        "id": "D0S7FQI5uQr4"
      },
      "source": [
        "https://en.m.wikipedia.org/wiki/Infimum_and_supremum"
      ]
    },
    {
      "cell_type": "markdown",
      "metadata": {
        "id": "_tENbAsGuXT3"
      },
      "source": [
        "**Upper and lower bounds (Majoranten und Minoranten)**"
      ]
    },
    {
      "cell_type": "markdown",
      "metadata": {
        "id": "7ka3QJpC5bop"
      },
      "source": [
        "Consider a linearly ordered set $(X, \\leq)$ and a subset $S \\subseteq X$. Let's recall some definitions:\n",
        "\n",
        "1. S is **bounded above** if there exists an element $k \\in X$ such that $k \\geq s$ for all $s \\in S$\n",
        "\n",
        "2. $g$ is a **greatest element** of $S$ is $g \\in S$ and $g \\geq s$ for all $s \\in S . l$ is a lowest element of $S$ is $l \\in S$ and $l \\leq s$ for all $s \\in S$.\n",
        "\n",
        "3. $a$ is an **supremum** of $S$ if it is the least element in $X$ that is greater\n",
        "than or equal to all elements of $S$."
      ]
    },
    {
      "cell_type": "markdown",
      "metadata": {
        "id": "ssCqHPRP0xWE"
      },
      "source": [
        "* **Tight bounds**: An upper bound is said to be a tight upper bound, a least upper bound, **or a supremum**, if no smaller value is an upper bound. Similarly, a lower bound is said to be a tight lower bound, a greatest lower bound, or an infimum, if no greater value is a lower bound.\n",
        "\n",
        "* Upper and lower bounds: For a subset A of a poset P, an element x in P is an upper bound of A if a ≤ x, for each element a in A. In particular, x need not be in A to be an upper bound of A. Similarly, an element x in P is a lower bound of A if a ≥ x, for each element a in A. A greatest element of P is an upper bound of P itself, and a least element is a lower bound of P."
      ]
    },
    {
      "cell_type": "markdown",
      "metadata": {
        "id": "Cnrcr_mT8mTE"
      },
      "source": [
        "**Examples**"
      ]
    },
    {
      "cell_type": "markdown",
      "metadata": {
        "id": "QbCXE7rt22fV"
      },
      "source": [
        "* Sei $T$ eine Teilmenge einer halbgeordneten Menge $P$.\n",
        "\n",
        "* **Minimal Element**: Wenn $m \\in T$ die Eigenschaft hat, dass es kein $x \\in T$ mit $x<m$ gibt, dann heißt $m$ minimales Element von $T$. \n",
        "\n",
        "* **Least Element**: Falls es ein Element $m \\in T$ gibt, das $\\leq$ allen anderen Elementen von $T$ ist, dann heißt $m$ das kleinste Element von $T$. \n",
        "\n",
        "* Ein kleinstes Element von $T$ (wenn es das gibt; z. B. hat die Menge der ganzen Zahlen kein kleinstes Element) ist immer eindeutig bestimmt (wegen der Antisymmetrie) und natürlich auch minimal. \n",
        "\n",
        "* In einer Totalordnung bedeutet $_{n}$ kleinstes Element\" und minimales Element\" dasselbe, aber in allgemeinen Halbordnungen kann eine Menge mehrere minimale Elemente haben, von denen dann keines das kleinste ist.\n",
        "\n",
        "* Es kann sogar vorkommen, dass eine (unendliche) Menge $T$ zwar ein einziges minimales Element hat, dieses aber nicht das kleinste Element der Menge ist (dann hat $T$ kein kleinstes Element). \n",
        "\n",
        "* Beispiel:\n",
        "Für $M:=\\{[0, a] \\mid 0<a<1\\} \\cup\\{\\{2\\}\\}$, versehen mit $\\subseteq$ als Halbordnung, ist \\{2\\} zwar das einzige minimale Element, aber nicht das kleinste, da \\{2\\}$\\subseteq A$ nicht für alle $A$ aus $M$ gilt.\n",
        "\n",
        "* **Lower Bound & Infimum**: Wenn $T$ eine Teilmenge von $P$ ist und $p \\in P$ die Eigenschaft hat, dass für alle $t \\in T$ die Beziehung $p \\leq t$ gilt, dann heißt $p$ eine untere Schranke von $T .(p$ kann, muss aber nicht Element von $T$ sein.) Wenn es eine größte untere Schranke der Menge $T$ gibt, dann nennt man diese auch die untere Grenze oder das Infimum von $T$. Eine untere Schranke ist also kleiner als das oder gleich dem\n",
        "Infimum.\n",
        "Analog sind die Begriffe maximales Element, größtes Element, obere Schranke und obere Grenze\n",
        "bzw. Supremum definiert.\n",
        "\n",
        "Eine Menge, die sowohl eine obere als auch eine untere Schranke hat, heißt beschränkt. (Analog sind ${ }_{n}$ nach oben beschränkt\" und ${ }_{n}$ nach unten beschränkt\" definiert.)\n",
        "\n",
        "Man nennt eine Funktion $f$, die eine beliebige Menge $X$ in eine halb- oder total geordnete Menge\n",
        "(siehe unten) $P$ abbildet, beschränkt, wenn die Menge der Funktionswerte beschränkt ist, also wenn es ein $p$ und ein $q \\in P$ gibt, sodass für alle $x \\in X$\n",
        "$p \\leq f(x) \\leq q$\n",
        "gilt."
      ]
    },
    {
      "cell_type": "markdown",
      "metadata": {
        "id": "yeM_RpVBAEGT"
      },
      "source": [
        "https://de.m.wikipedia.org/wiki/Ordnungsrelation#Minimale,_maximale_und_andere_Elemente"
      ]
    },
    {
      "cell_type": "markdown",
      "metadata": {
        "id": "QeIbB2ls_zza"
      },
      "source": [
        "*Greatest Element vs Maximal Element*"
      ]
    },
    {
      "cell_type": "markdown",
      "metadata": {
        "id": "76BMSPq5AzFG"
      },
      "source": [
        "* The greatest element has to be comparable to all of the rest of the elements, but a maximal does not.\n",
        "\n",
        "An element $m \\in X$ is maximal if there does not exist $x \\in X$ such that $x>m$. An element $g \\in X$ is greatest if for all $x \\in X, g \\geq x$.\n",
        "\n",
        "1. A set may have **no greatest elements and no maximal elements**: for example, any open interval of real numbers.\n",
        "\n",
        "2. If a set has a greatest element, that element is also maximal. Prove this carefully.\n",
        "\n",
        "3. A set with **two maximal elements and no greatest element**: $X=\\{a, b, c\\},$ where $a \\leq b, a \\leq c$ and **$b$ and $c$ are incomparable**. Check carefully according to the definition that each of $b$ and $c$ are maximal, and none of the elements of this set are greatest.\n",
        "\n",
        "4. A set can have exactly **one maximal element but no greatest element**: Modify the \"V-shaped\" example in the last point so that instead of the left arm being the two elements $\\{a, b\\},$ it is the **infinitely many points** $\\{a+q \\mid 0 \\leq q<1\\}$, i.e. a copy of the half-open unit interval of the real numbers. Then $c$ is still maximal, but no element on the left arm is maximal, and the set overall has no greatest element."
      ]
    },
    {
      "cell_type": "markdown",
      "metadata": {
        "id": "6-4rEZ6nAZsh"
      },
      "source": [
        "https://www.quora.com/Whats-the-difference-between-the-greatest-element-and-the-maximal-elements-of-a-set"
      ]
    },
    {
      "cell_type": "markdown",
      "metadata": {
        "id": "hExcs8FG85RO"
      },
      "source": [
        "*Subsets with several maximal elements, and one least element*"
      ]
    },
    {
      "cell_type": "markdown",
      "metadata": {
        "id": "Jfpr9cO_5gh2"
      },
      "source": [
        "![xx](https://upload.wikimedia.org/wikipedia/commons/thumb/2/2d/Lattice_of_the_divisibility_of_60_narrow_1%2C2%2C3%2C4.svg/198px-Lattice_of_the_divisibility_of_60_narrow_1%2C2%2C3%2C4.svg.png)"
      ]
    },
    {
      "cell_type": "markdown",
      "metadata": {
        "id": "qKvVoqCn5bY5"
      },
      "source": [
        "* Hasse diagram of the set P of divisors of 60, partially ordered by the relation \"x divides y\". \n",
        "\n",
        "* The red subset S = {1,2,3,4} has two maximal elements, viz. 3 and 4, and one minimal element, viz. 1, which is also its least element."
      ]
    },
    {
      "cell_type": "markdown",
      "metadata": {
        "id": "qSGeKJKT77Km"
      },
      "source": [
        "*Subsets with a supremum but no greatest element*"
      ]
    },
    {
      "cell_type": "markdown",
      "metadata": {
        "id": "Wo1CcM_p7_gJ"
      },
      "source": [
        "* First consider the ordered set $(\\mathbb{R}, \\leq)$ and the subset $S=\\{q \\in \\mathbb{Q} ; q \\leq \\sqrt{2}\\}$ \n",
        "\n",
        "* $S$ is bounded above by $2$\n",
        "\n",
        "* $\\sqrt{2}$ is a supremum of $S$ as we have $q \\leq \\sqrt{2}$ for all $q \\in S$ and as for $b<\\sqrt{2}$, it exists $q \\in \\mathbb{Q}$ such that $b<q<\\sqrt{2}$ because $\\mathbb{Q}$ is dense in $\\mathbb{R}$. \n",
        "\n",
        "* However $S$ doesn't have a greatest element because $\\sqrt{2}$ is an **irrational number.**"
      ]
    },
    {
      "cell_type": "markdown",
      "metadata": {
        "id": "MIDeMTVq8Oxm"
      },
      "source": [
        "*Bounded above subsets with no supremum*"
      ]
    },
    {
      "cell_type": "markdown",
      "metadata": {
        "id": "8D0qCCqc8ZA-"
      },
      "source": [
        "* Leveraging the examples above, we take $(X, \\leq)=(\\mathbb{Q}, \\leq)$ and $S=\\{q \\in \\mathbb{Q} ; q \\leq \\sqrt{2}\\}$\n",
        "\n",
        "* $S$ is bounded above, by 2 for example. \n",
        "\n",
        "* However $S$ doesn't have a supremum because $\\sqrt{2} \\notin \\mathbb{Q}$ "
      ]
    },
    {
      "cell_type": "markdown",
      "metadata": {
        "id": "9w_XI_2_9ngn"
      },
      "source": [
        "*Subsets with an infimum but no minimum*"
      ]
    },
    {
      "cell_type": "markdown",
      "metadata": {
        "id": "5DEhAvG_9lDv"
      },
      "source": [
        "* For instance, the positive real numbers ℝ+ (**not including 0**) does not have a minimum, because any given element of ℝ+ could simply be divided in half, resulting in a smaller number that is still in ℝ+. \n",
        "\n",
        "* There is, however, exactly one infimum of the positive real numbers: 0, which is smaller than all the positive real numbers, and greater than any other real number which could be used as a lower bound."
      ]
    },
    {
      "cell_type": "markdown",
      "metadata": {
        "id": "NIfq1ZUM9SAO"
      },
      "source": [
        "*Subsets with both supremum and infimum*"
      ]
    },
    {
      "cell_type": "markdown",
      "metadata": {
        "id": "nBqpco4T4PNj"
      },
      "source": [
        "* a lattice is a partially ordered set in which all nonempty finite subsets have both a supremum and an infimum, and a complete lattice is a partially ordered set in which all subsets have both a supremum and an infimum. \n",
        "\n",
        "* More information on the various classes of partially ordered sets that arise from such considerations are found in the article on completeness properties."
      ]
    },
    {
      "cell_type": "markdown",
      "metadata": {
        "id": "4RPa3qNz8gZd"
      },
      "source": [
        "**Sources**"
      ]
    },
    {
      "cell_type": "markdown",
      "metadata": {
        "id": "DQclA1TC8jK6"
      },
      "source": [
        "https://www.mathcounterexamples.net/around-bounded-sets-greatest-element-and-supremum/"
      ]
    },
    {
      "cell_type": "markdown",
      "metadata": {
        "id": "wX2vmsQSbzio"
      },
      "source": [
        "https://en.m.wikipedia.org/wiki/Upper_and_lower_bounds"
      ]
    },
    {
      "cell_type": "markdown",
      "metadata": {
        "id": "EoYu2SsGuZst"
      },
      "source": [
        "https://mathepedia.de/Majoranten_und_Minoranten.html"
      ]
    },
    {
      "cell_type": "markdown",
      "metadata": {
        "id": "Kf784FrZLYsu"
      },
      "source": [
        "##### **Duality, Order Isomorphism, Order Embedding & Galois Verbindung**"
      ]
    },
    {
      "cell_type": "markdown",
      "metadata": {
        "id": "MnYdVFa6tenF"
      },
      "source": [
        "**Order Isomorphism (Ordnungsisomorphismus)**"
      ]
    },
    {
      "cell_type": "markdown",
      "metadata": {
        "id": "heWA-Xu366vC"
      },
      "source": [
        "* Sind zwei Halbordnungen $(G, \\leq G)$ und $\\left(H, \\leq_{H}\\right)$ gegeben, so heißt eine Abbildung\n",
        "\n",
        "> $\n",
        "\\psi: G \\rightarrow H\n",
        "$\n",
        "\n",
        "* ein Ordnungsisomorphismus, wenn $\\psi$ eine **bijektive isotone Abbildung** ist, deren Umkehrabbildung $\\psi^{-1}$ ebenfalls eine isotone Abbildung ist.\n",
        "\n",
        "* Existiert zwischen $G$ und $H$ ein Ordnungsisomorphismus, so lässt sich die Existenz auch mit\n",
        "$G \\cong H$ ausdrücken und $G$ und $H$ werden als ordnungsisomorph bezeichnet. \n",
        "\n",
        "* Bildet ein\n",
        "Ordnungsisomorphismus eine Menge auf sich selbst ab, so ist er ein Automorphismus und wird auch Ordnungsautomorphismus genannt."
      ]
    },
    {
      "cell_type": "markdown",
      "metadata": {
        "id": "CsyduyQD6-L0"
      },
      "source": [
        "https://de.m.wikipedia.org/wiki/Ordnungsisomorphismus"
      ]
    },
    {
      "cell_type": "markdown",
      "metadata": {
        "id": "JtTg9cMpE3xh"
      },
      "source": [
        "* an order isomorphism is a special kind of monotone function that constitutes a suitable notion of isomorphism for partially ordered sets (posets). \n",
        "\n",
        "* Whenever two posets are order isomorphic, they can be considered to be \"essentially the same\" in the sense that either of the orders can be obtained from the other just by renaming of elements. \n",
        "\n",
        "* Two strictly weaker notions that relate to order isomorphisms are order embeddings and Galois connections."
      ]
    },
    {
      "cell_type": "markdown",
      "metadata": {
        "id": "wJRh0DQzIEGK"
      },
      "source": [
        "Formally, given two posets $\\left(S, \\leq_{S}\\right)$ and $\\left(T, \\leq_{T}\\right),$ an order isomorphism from $(S, \\leq s)$ to $\\left(T, \\leq_{T}\\right)$ is a bijective function $f$ from $S$ to $T$ with the property that, for every $x$ and $y$ in $S, x \\leq_{S} y$ if and only if $f(x) \\leq_{T} f(y)$. That is, it is a bijective order-embedding."
      ]
    },
    {
      "cell_type": "markdown",
      "metadata": {
        "id": "I2HUCHBaFs9l"
      },
      "source": [
        "* A bijection is an isomorphism if both f and f-1 are order-preserving. \n",
        "\n",
        "* A self-isomorphism is an automorphism.\n",
        "\n",
        "* A partial ordering is a well-ordering if every non-empty subset has a least element."
      ]
    },
    {
      "cell_type": "markdown",
      "metadata": {
        "id": "T0OWcMrgtjkc"
      },
      "source": [
        "https://en.m.wikipedia.org/wiki/Order_isomorphism"
      ]
    },
    {
      "cell_type": "markdown",
      "metadata": {
        "id": "LU6kfjzCucGu"
      },
      "source": [
        "**Isotone Abbildungen / Monotone Funktion (Ordnungshomomorphismus)**"
      ]
    },
    {
      "cell_type": "markdown",
      "metadata": {
        "id": "F5jlSysKuh6Q"
      },
      "source": [
        "* Eine monotone Abbildung ist eine Abbildung zwischen zwei halbgeordneten Mengen (Posets), bei der aus der Ordnung zweier Elemente der Definitionsmenge auf die Ordnung der jeweiligen Bildelemente der Zielmenge geschlossen werden kann. \n",
        "\n",
        "* Bleibt die Ordnung der Elemente erhalten, spricht man von einer isotonen oder ordnungserhaltenden Abbildung oder auch von einem Ordnungshomomorphismus. \n",
        "\n",
        "* Kehrt sich die Ordnung um, spricht man von einer antitonen oder ordnungsumkehrenden Abbildung."
      ]
    },
    {
      "cell_type": "markdown",
      "metadata": {
        "id": "zM-75C0q40SV"
      },
      "source": [
        "Seien $X$ und $X^{\\prime}$ geordnete Mengen. Eine Abbildung $\\varphi: X \\rightarrow X^{\\prime}$ heißt isoton, ordnungserhaltend, ordnungstreu oder Ordnungshomomorphismus, wenn $x \\leq y \\Rightarrow \\varphi(x) \\leq \\varphi(y)$ für alle $x, y \\in X$\n",
        "gilt."
      ]
    },
    {
      "cell_type": "markdown",
      "metadata": {
        "id": "ysSXSJuT44Qj"
      },
      "source": [
        "https://de.m.wikipedia.org/wiki/Ordnungsrelation#Homomorphismen"
      ]
    },
    {
      "cell_type": "markdown",
      "metadata": {
        "id": "XC0wsLmAuu2l"
      },
      "source": [
        "https://de.m.wikipedia.org/wiki/Monotone_Abbildung"
      ]
    },
    {
      "cell_type": "markdown",
      "metadata": {
        "id": "MHXKzYOEu9Zx"
      },
      "source": [
        "https://mathepedia.de/Isotone_Abbildungen.html"
      ]
    },
    {
      "cell_type": "markdown",
      "metadata": {
        "id": "EXPPrr64F5qd"
      },
      "source": [
        "**Order Embedding**"
      ]
    },
    {
      "cell_type": "markdown",
      "metadata": {
        "id": "ZnDbp-K0GAec"
      },
      "source": [
        "* an order embedding is a **special kind of monotone function (spezielle Form von isotoner Abbildung)**, which provides a way to include one partially ordered set into another. \n",
        "\n",
        "* Like Galois connections, order embeddings constitute a notion which is **strictly weaker than the concept of an order isomorphism**. Both of these weakenings may be understood in terms of category theory."
      ]
    },
    {
      "cell_type": "markdown",
      "metadata": {
        "id": "s0IHeXIEGkn3"
      },
      "source": [
        "Formally, given two partially ordered sets (posets) $(S, \\leq)$ and $(T, \\preceq),$ a function $f: S \\rightarrow T$ is an order embedding if $f$ is both order-preserving and order-reflecting, i.e. for all $x$ and $y$ in $S$, one has\n",
        "\n",
        "> $x \\leq y$ if and only if $f(x) \\preceq f(y) .$\n",
        "\n",
        "Such a function is necessarily injective, since $f(x)=f(y)$ implies $x \\leq y$ and $y \\leq x$. embedding between two posets $S$ and $T$ exists, one says that $S$ can be embedded into $T$."
      ]
    },
    {
      "cell_type": "markdown",
      "metadata": {
        "id": "NsErplH5FsSB"
      },
      "source": [
        "Posets can straightforwardly be viewed from many perspectives, and order embeddings are basic enough that they tend to be visible from everywhere. For example:\n",
        "\n",
        "* (Model theoretically) A poset is a set equipped with a (reflexive, antisymmetric, transitive) binary relation. An order embedding A -> B is an isomorphism from A to an elementary substructure of B.\n",
        "\n",
        "* (Graph theoretically) A poset is a (transitive, acyclic, directed, reflexive) graph. An order embedding A -> B is a graph isomorphism from A to an induced subgraph of B.\n",
        "\n",
        "* (Category theoretically) A poset is a (small, thin, and skeletal) category such that each homset has at most one element. An order embedding A -> B is a full and faithful functor from A to B which is injective on objects, or equivalently an isomorphism from A to a full subcategory of B."
      ]
    },
    {
      "cell_type": "markdown",
      "metadata": {
        "id": "GfsYGWUoF8y6"
      },
      "source": [
        "https://en.m.wikipedia.org/wiki/Order_embedding"
      ]
    },
    {
      "cell_type": "markdown",
      "metadata": {
        "id": "CYH-35wsCn5c"
      },
      "source": [
        "*Are embedding and an injective homomorphism (Isotone Abbildungen / Ordnungshomomorphismus) the same thing?*"
      ]
    },
    {
      "cell_type": "markdown",
      "metadata": {
        "id": "mM7zhP4WDmul"
      },
      "source": [
        "* For groups they are the same thing. For topological spaces, they are not. There can be an injective continuous map $f: X \\rightarrow Y$ where the image $f(X)$ is not homeomorphic to $X$. A quick example is $X=[0,2 \\pi), Y=S^{1}, f(x)=e^{i x}$\n",
        "\n",
        "* Embedding is a term used for the underlying set of space, for instance we may embed the set of integers $\\mathbb{Z}$ by a list of distinct points $\\left\\{x_{n}\\right\\} \\in \\mathbb{R} .$ Homomorphism is used for maps that preserve addition and multiplication. For instance we only have two homomorphism $f: \\mathbb{Z} \\rightarrow \\mathbb{R}$, i.e. zero map and identity map. But we can construct many embeddings $g: \\mathbb{Z} \\mapsto \\mathbb{R}$ by choosing different lists $\\left\\{x_{n}\\right\\}$"
      ]
    },
    {
      "cell_type": "markdown",
      "metadata": {
        "id": "zinPRYz8Cs1A"
      },
      "source": [
        "https://math.stackexchange.com/questions/3053264/do-embedding-and-injective-homomorphism-mean-the-same-thing"
      ]
    },
    {
      "cell_type": "markdown",
      "metadata": {
        "id": "sniDMo1itn-T"
      },
      "source": [
        "**Galois connection**"
      ]
    },
    {
      "cell_type": "markdown",
      "metadata": {
        "id": "cbLiilkjFtyU"
      },
      "source": [
        "* a Galois connection is a particular correspondence (typically) between two partially ordered sets (posets). \n",
        "\n",
        "* The same notion can also be defined on preordered sets or classes; this article presents the common case of posets. \n",
        "\n",
        "* Galois connections generalize the correspondence between subgroups and subfields investigated in Galois theory.\n",
        "\n",
        "* A Galois connection is rather weak compared to an order isomorphism between the involved posets, but every Galois connection gives rise to an isomorphism of certain sub-posets, as will be explained below.\n",
        "\n",
        "* The term Galois correspondence is sometimes used to mean bijective Galois connection; this is simply an order isomorphism (or dual order isomorphism, depending on whether we take monotone or antitone Galois connections)."
      ]
    },
    {
      "cell_type": "markdown",
      "metadata": {
        "id": "u7427KkwtrFE"
      },
      "source": [
        "https://en.m.wikipedia.org/wiki/Galois_connection"
      ]
    },
    {
      "cell_type": "markdown",
      "metadata": {
        "id": "bbR0rJVGuCDO"
      },
      "source": [
        "**Duality**"
      ]
    },
    {
      "cell_type": "markdown",
      "metadata": {
        "id": "P00hsr21Knno"
      },
      "source": [
        "* In the mathematical area of order theory, every partially ordered set $P$ gives rise to a dual (or opposite) partially ordered set which is often denoted by $P^\\mathrm{op}$ or $P^{d} .$ This dual order $\\mathrm{P}^{\\mathrm{op}}$ is defined to\n",
        "be the same set, but with the inverse order, i.e. $x \\leq y$ holds in $P^{\\text {op }}$ if and only if $y \\leq x$ holds in $P$. \n",
        "\n",
        "* It is\n",
        "easy to see that this construction, which can be depicted by flipping the Hasse diagram for $P$ upside\n",
        "down, will indeed yield a partially ordered set. In a broader sense, two partially ordered sets are also\n",
        "said to be duals if they are dually isomorphic, i.e. if one poset is order isomorphic to the dual of the\n",
        "other."
      ]
    },
    {
      "cell_type": "markdown",
      "metadata": {
        "id": "dKz76PxHuEnf"
      },
      "source": [
        "https://en.m.wikipedia.org/wiki/Duality_(order_theory)"
      ]
    },
    {
      "cell_type": "markdown",
      "metadata": {
        "id": "KledNeG6L6xF"
      },
      "source": [
        "https://en.m.wikipedia.org/wiki/Dual_(category_theory)"
      ]
    },
    {
      "cell_type": "markdown",
      "metadata": {
        "id": "M8hKdaaq47YJ"
      },
      "source": [
        "**Completeness**"
      ]
    },
    {
      "cell_type": "markdown",
      "metadata": {
        "id": "R1UimNcSHuXW"
      },
      "source": [
        "* In the mathematical area of order theory, completeness properties assert the existence of certain infima or suprema of a given partially ordered set (poset). The most familiar example is the completeness of the real numbers. A special use of the term refers to complete partial orders or complete lattices. However, many other interesting notions of completeness exist.\n",
        "\n",
        "* The motivation for considering completeness properties derives from the great importance of suprema (least upper bounds, joins, \"$\\vee$\") and infima (greatest lower bounds, meets, \"$\\wedge$\") to the theory of partial orders. \n",
        "\n",
        "* Finding a supremum means to single out one distinguished least element from the set of upper bounds.\n",
        "\n"
      ]
    },
    {
      "cell_type": "markdown",
      "metadata": {
        "id": "93mJ-3FJLDS2"
      },
      "source": [
        "Naturally, there are a great number of examples for concepts that are dual:\n",
        "\n",
        "* Greatest elements and least elements\n",
        "* Maximal elements and minimal elements\n",
        "* Least upper bounds (suprema, ∨) and greatest lower bounds (infima, ∧)\n",
        "* Upper sets and lower sets\n",
        "* Ideals and filters\n",
        "* Closure operators and kernel operators.\n",
        "\n",
        "Examples of notions which are self-dual include:\n",
        "\n",
        "* Being a (complete) lattice\n",
        "* Monotonicity of functions\n",
        "* Distributivity of lattices, i.e. the lattices for which ∀x,y,z: x ∧ (y ∨ z) = (x ∧ y) ∨ (x ∧ z) holds are exactly those for which the dual statement ∀x,y,z: x ∨ (y ∧ z) = (x ∨ y) ∧ (x ∨ z) holds[1]\n",
        "* Being a Boolean algebra\n",
        "* Being an order isomorphism.\n",
        "\n",
        "Since partial orders are antisymmetric, the only ones that are self-dual are the equivalence relations (=Reflexivität, Transitivität, Symmetrie)."
      ]
    },
    {
      "cell_type": "markdown",
      "metadata": {
        "id": "-gXchxGz4-fE"
      },
      "source": [
        "https://en.m.wikipedia.org/wiki/Completeness_(order_theory)"
      ]
    },
    {
      "cell_type": "markdown",
      "metadata": {
        "id": "1eKPHlZtIh3q"
      },
      "source": [
        "*Completeness of Real Numbers*"
      ]
    },
    {
      "cell_type": "markdown",
      "metadata": {
        "id": "tebo4HB9HyjN"
      },
      "source": [
        "https://en.m.wikipedia.org/wiki/Completeness_of_the_real_numbers"
      ]
    },
    {
      "cell_type": "markdown",
      "metadata": {
        "id": "zUT_1mJSIbKY"
      },
      "source": [
        "*Complete Partial Order*"
      ]
    },
    {
      "cell_type": "markdown",
      "metadata": {
        "id": "D_jPPnfAIRqf"
      },
      "source": [
        "A complete partial order abbreviated cpo can, depending on context, refer to any of the following concepts.\n",
        "\n",
        "1. A partially ordered set is a directed-complete partial order (dcpo) if each of its directed subsets has a supremum. A subset of a partial order is directed if it is non-empty and every pair of elements has an upper bound in the subset. In the literature, dcpos sometimes also appear under the label up-complete poset.\n",
        "\n",
        "2. A partially ordered set is a pointed directed-complete partial order if it is a dcpo with a least element. They are sometimes abbreviated cppos.\n",
        "\n",
        "3. A partially ordered set is a ω-complete partial order (ω-cpo) if it is a poset in which every ω-chain (x1≤x2≤x3≤x4≤...) has a supremum that belongs to the underlying set of the poset. Every dcpo is an ω-cpo, since every ω-chain is a directed set, but the converse is not true. However, every ω-cpo with a basis is also a dcpo (with the same basis).[1] An ω-cpo (dcpo) with a basis is also called a continuous ω-cpo (continuous dcpo).\n",
        "\n",
        "Note that complete partial order is never used to mean a poset in which all subsets have suprema; the terminology complete lattice is used for this concept."
      ]
    },
    {
      "cell_type": "markdown",
      "metadata": {
        "id": "JPgN9DqrH1AW"
      },
      "source": [
        "https://en.m.wikipedia.org/wiki/Complete_partial_order"
      ]
    },
    {
      "cell_type": "markdown",
      "metadata": {
        "id": "FbAwLzUBIedG"
      },
      "source": [
        "*Complete Lattice*"
      ]
    },
    {
      "cell_type": "markdown",
      "metadata": {
        "id": "icz6c1OiH-6s"
      },
      "source": [
        "* a complete lattice is a partially ordered set **in which all subsets have both a supremum (join) and an infimum (meet)**\n",
        "\n",
        "* Complete lattices appear in many applications in mathematics and computer science. Being a special instance of lattices, they are studied both in order theory and universal algebra.\n",
        "\n",
        "* Complete lattices must not be confused with complete partial orders (cpos), which constitute a strictly more general class of partially ordered sets. More specific complete lattices are complete Boolean algebras and complete Heyting algebras (locales)."
      ]
    },
    {
      "cell_type": "markdown",
      "metadata": {
        "id": "Jjj9RQ9VH3Ye"
      },
      "source": [
        "https://en.m.wikipedia.org/wiki/Complete_lattice"
      ]
    },
    {
      "cell_type": "markdown",
      "metadata": {
        "id": "YAFw6Cb06NBg"
      },
      "source": [
        "## **(Algebraic) Topology**"
      ]
    },
    {
      "cell_type": "markdown",
      "metadata": {
        "id": "eR97kW5IMpWj"
      },
      "source": [
        "### **Point-Set Topology**"
      ]
    },
    {
      "cell_type": "markdown",
      "metadata": {
        "id": "Tl-pRfAKUEFL"
      },
      "source": [
        "https://jeremykun.com/2013/01/12/the-fundamental-group-a-primer/"
      ]
    },
    {
      "cell_type": "markdown",
      "metadata": {
        "id": "q4_Q2efO9L9p"
      },
      "source": [
        "https://en.m.wikipedia.org/wiki/Hodge_theory"
      ]
    },
    {
      "cell_type": "markdown",
      "metadata": {
        "id": "s6YCIs78bVg2"
      },
      "source": [
        "https://www.math3ma.com/blog/comparing-topologies"
      ]
    },
    {
      "cell_type": "markdown",
      "metadata": {
        "id": "iTJWGDESa97k"
      },
      "source": [
        "[Faserbündel](https://de.m.wikipedia.org/wiki/Faserbündel) & [Produkttopologie](https://de.m.wikipedia.org/wiki/Produkttopologie)"
      ]
    },
    {
      "cell_type": "markdown",
      "metadata": {
        "id": "u5GzFn12U-dQ"
      },
      "source": [
        "https://de.wikipedia.org/wiki/Parakompakter_Raum"
      ]
    },
    {
      "cell_type": "markdown",
      "metadata": {
        "id": "F7pFIzs5K4qo"
      },
      "source": [
        "https://de.wikipedia.org/wiki/Gebiet_(Mathematik)\n",
        "\n",
        "https://de.wikipedia.org/wiki/Sterngebiet"
      ]
    },
    {
      "cell_type": "markdown",
      "metadata": {
        "id": "lUAWQ5z7zQ2i"
      },
      "source": [
        "https://en.m.wikipedia.org/wiki/Topological_quantum_field_theory"
      ]
    },
    {
      "cell_type": "markdown",
      "metadata": {
        "id": "u8xLQTYlzTSZ"
      },
      "source": [
        "https://en.m.wikipedia.org/wiki/Supersymmetric_theory_of_stochastic_dynamics"
      ]
    },
    {
      "cell_type": "markdown",
      "metadata": {
        "id": "dFQ_t558NrJA"
      },
      "source": [
        "https://de.m.wikipedia.org/wiki/Lebesguesche_%C3%9Cberdeckungsdimension"
      ]
    },
    {
      "cell_type": "markdown",
      "metadata": {
        "id": "iyg8hSWHtLwY"
      },
      "source": [
        "#### **Trennungsaxiom & Types of Topological Spaces**"
      ]
    },
    {
      "cell_type": "markdown",
      "metadata": {
        "id": "0ywgr3AvtWH4"
      },
      "source": [
        "https://de.m.wikipedia.org/wiki/Trennungsaxiom"
      ]
    },
    {
      "cell_type": "markdown",
      "metadata": {
        "id": "2JSAId5-LHuB"
      },
      "source": [
        "**Topologische Strukturen**\n",
        "\n",
        "* Der geometrische Begriff des Abstands (der Metrik) ermöglicht es, in metrischen Räumen das grundlegende Konzept der modernen Analysis, die **Konvergenz**, zu handhaben.\n",
        "\n",
        "* Topologische Räume sind aus dem Bemühen hervorgegangen, die Konvergenz in einem allgemeinen Sinne zu behandeln (jeder metrische Raum ist ein topologischer Raum mit der Topologie, die durch die Metrik induziert wird).\n",
        "\n",
        "* Die verschiedenen topologischen Räume, sie lassen sich durch ihre möglichen lokalen Strukturen klassifizieren, erhalten ihre Struktur durch die Auszeichnung bestimmter Teilmengen als offen oder, äquivalent dazu, als abgeschlossen (Strukturen zweiter Stufe).\n",
        "\n",
        "**Siehe auch**: [Topologie](https://de.m.wikipedia.org/wiki/Topologie_(Mathematik)), [topologischer Raum](https://de.m.wikipedia.org/wiki/Topologischer_Raum) und [Trennungsaxiom](https://de.m.wikipedia.org/wiki/Trennungsaxiom) (Mengentheoretische Topologie) und [Ordnungstopologie](https://de.m.wikipedia.org/wiki/Ordnungstopologie)."
      ]
    },
    {
      "cell_type": "markdown",
      "metadata": {
        "id": "QAHgQ1drLjYv"
      },
      "source": [
        "**Separation_axiom**\n",
        "\n",
        "* **Ausgangspunkt:** It's not enough for elements of a topological space to be distinct (that is, unequal); we may want them to be topologically distinguishable. Similarly, it's not enough for subsets of a topological space to be disjoint; we may want them to be separated (in any of various ways).\n",
        "\n",
        "* **Distinguishable (vs Distinct Elements)**: Let X be a topological space. Then two points x and y in X **are topologically distinguishable if they do not have exactly the same [neighbourhoods](https://en.m.wikipedia.org/wiki/Neighbourhood_(mathematics)) (Umgebung)** (or equivalently the same open neighbourhoods); that is, at least one of them has a neighbourhood that is not a neighbourhood of the other (or equivalently there is an open set that one point belongs to but the other point does not).\n",
        "\n",
        "* **Separated (vs Disjoint Subsets):** Two points x and y are **separated if each of them has a neighbourhood that is not a neighbourhood of the other**; that is, neither belongs to the other's closure. More generally, two subsets A and B of X are separated if each is disjoint from the other's closure. (The closures themselves do not have to be disjoint.) \n",
        "\n",
        "\n",
        "https://en.m.wikipedia.org/wiki/Separation_axiom\n",
        "\n",
        "https://ncatlab.org/nlab/show/separation+axioms\n",
        "\n",
        "https://de.m.wikipedia.org/wiki/Trennungsaxiom\n",
        "\n",
        "https://en.m.wikipedia.org/wiki/History_of_the_separation_axioms"
      ]
    },
    {
      "cell_type": "markdown",
      "metadata": {
        "id": "RaijUqJrMNTl"
      },
      "source": [
        "**Types of Topological Spaces**\n",
        "\n",
        "**Kolmogorov Space (T<sub>0</sub>)**\n",
        "\n",
        "A space is Kolmogorov if for every pair of distinct points x and y in the space, there is at least either an open set containing x but not y, or an open set containing y but not x.\n",
        "\n",
        "If for every pair of distinct points of X, at least one of them has a neighborhood not containing the other. In a T0 space, all points are topologically distinguishable.\n",
        "\n",
        "https://en.m.wikipedia.org/wiki/Kolmogorov_space\n",
        "\n",
        "**Fréchet Space (T<sub>1</sub>)**\n",
        "\n",
        "Fréchet spaces are generalizations of Banach spaces (normed vector spaces that are complete with respect to the metric induced by the norm).\n",
        "\n",
        "Instead, with the topology of compact convergence, C(a, b) can be given the structure of a Fréchet space: a locally convex topological vector space whose topology can be induced by a complete translation-invariant metric.\n",
        "\n",
        "https://en.m.wikipedia.org/wiki/Fréchet_space\n",
        "\n",
        "**Haussdorf Spaces (T<sub>2</sub>)**\n",
        "\n",
        "* A topological space is Hausdorff if and only if it is both preregular (i.e. topologically distinguishable points are separated by neighbourhoods) and Kolmogorov (i.e. distinct points are topologically distinguishable). A topological space is preregular if and only if its Kolmogorov quotient is Hausdorff.\n",
        "\n",
        "* Almost all spaces encountered in analysis are Hausdorff; most importantly, the real numbers (under the standard metric topology on real numbers) are a Hausdorff space. More generally, all metric spaces are Hausdorff. In fact, many spaces of use in analysis, such as topological groups and topological manifolds, have the Hausdorff condition explicitly stated in their definitions.\n",
        "\n",
        "https://en.m.wikipedia.org/wiki/Hausdorff_space"
      ]
    },
    {
      "cell_type": "markdown",
      "metadata": {
        "id": "_mU93JRZtGw_"
      },
      "source": [
        "#### **Überdeckung & Überlagerung**"
      ]
    },
    {
      "cell_type": "markdown",
      "metadata": {
        "id": "XTvDyN3OMqpX"
      },
      "source": [
        "**Überdeckung**\n",
        "\n",
        "* Überdeckung ein grundlegendes Konzept aus der Mengenlehre. \n",
        "\n",
        "* Offene Überdeckungen spielen insbesondere bei der Kompaktheit von topologischen Räumen eine wichtige Rolle.\n",
        "\n",
        "Eine [(Mengen-)Familie](https://de.m.wikipedia.org/wiki/Mengenfamilie) $\\left(A_{i}\\right)_{i \\in I}$ von Teilmengen von $A$ heißt Überdeckung von $B \\subset A,$ wenn gilt:\n",
        "\n",
        "$\n",
        "B \\subset \\bigcup_{i \\in I} A_{i}\n",
        "$\n",
        "\n",
        "Die Überdeckung $\\left(A_{i}\\right)_{i \\in I}$ heißt endlich (oder abzählbar), wenn die Indexmenge $I$ endlich (bzw abzählbar) ist.\n",
        "\n",
        "https://de.m.wikipedia.org/wiki/%C3%9Cberdeckung_(Mathematik)#Offene/abgeschlossene_%C3%9Cberdeckung"
      ]
    },
    {
      "cell_type": "markdown",
      "metadata": {
        "id": "1TpwhcFFM3sL"
      },
      "source": [
        "**Überlagerung**\n",
        "\n",
        "https://de.m.wikipedia.org/wiki/Überlagerung_(Topologie)\n",
        "\n",
        "https://de.m.wikipedia.org/wiki/Drehgruppe"
      ]
    },
    {
      "cell_type": "markdown",
      "metadata": {
        "id": "KZfecRZKNAjn"
      },
      "source": [
        "**Neighourhood (Umgebung)**\n",
        "\n",
        "* a [neighbourhood](https://en.m.wikipedia.org/wiki/Neighbourhood_(mathematics)), or neighborhood, [Umgebung](https://de.m.wikipedia.org/wiki/Umgebung_(Mathematik))  is one of the basic concepts in a topological space. It is closely related to the concepts of open set and interior. \n",
        "\n",
        "* Intuitively speaking, a neighbourhood of a point is a set of points containing that point where one can move some amount in any direction away from that point without leaving the set.\n",
        "\n",
        "* In einem topologischen Raum hat jeder Punkt x einen **Filter U(x) von Umgebungen**. Damit lässt sich der intuitive Begriff von „Nähe“ mathematisch fassen. Auch dieser Begriff kann einer Definition des Topologischen Raums zugrunde gelegt werden.\n",
        "\n",
        "https://en.m.wikipedia.org/wiki/Locally_connected_space"
      ]
    },
    {
      "cell_type": "markdown",
      "metadata": {
        "id": "YuPKWjQzNJBd"
      },
      "source": [
        "**Gröbere und feinere Topologien**\n",
        "\n",
        "https://de.m.wikipedia.org/wiki/Gröbere_und_feinere_Topologien"
      ]
    },
    {
      "cell_type": "markdown",
      "metadata": {
        "id": "m3bdWJpM3RnP"
      },
      "source": [
        "#### **(Null-) Umgebungsbasis**"
      ]
    },
    {
      "cell_type": "markdown",
      "metadata": {
        "id": "7ptyjil83ZSk"
      },
      "source": [
        "* [(Null-) Umgebungsbasis](https://de.wikipedia.org/wiki/Umgebungsbasis)\n",
        "\n",
        "* Als Umgebungsbasis bezeichnet man in der Topologie, einem Teilgebiet der Mathematik, ein spezielles Mengensystem. \n",
        "\n",
        "* Über die Eigenschaften von Umgebungsbasen lassen sich spezielle Klassen von topologischen Räumen wie lokalkompakte Räume und lokalkonvexe Räume definieren. Außerdem greift das erste Abzählbarkeitsaxiom auf die Mächtigkeit der Umgebungsbasis zurück und impliziert damit grundlegende strukturelle topologische Eigenschaften. Wichtiger Spezialfall von Umgebungsbasen sind Nullumgebungsbasen."
      ]
    },
    {
      "cell_type": "markdown",
      "metadata": {
        "id": "_T69EkwIJkwO"
      },
      "source": [
        "Gegeben sei ein Topologischer Raum $(X, \\tau)$ und darin ein $x \\in X$. Dann heißt eine Familie $\\mathcal{U}_{x}:=\\left(U_{x, i}\\right)_{i \\in I}$ von Umgebungen von $x$ eine Umgebungsbasis von $x,$ wenn jede Umgebung von $x$ Obermenge einer der Mengen $U_{x, i}$ für mindestens ein $i \\in I$ ist."
      ]
    },
    {
      "cell_type": "markdown",
      "metadata": {
        "id": "5l336sX5J9vd"
      },
      "source": [
        "**Spezialfall Nullumgebungsbasis**"
      ]
    },
    {
      "cell_type": "markdown",
      "metadata": {
        "id": "5yFDL4YYK5PU"
      },
      "source": [
        "Liegt ein topologischer Vektorraum $X$ vor, so wird eine aus Umgebungen von $0 \\in X$ bestehende Umgebungsbasis $\\mathcal{U}_{0}=\\left(U_{0, i}\\right)_{i \\in I}$ auch als Nullumgebungsbasis bezeichnet. \n",
        "\n",
        "Für jeden Punkt $x \\in X$ und jede derartige Nullumgebungsbasis $\\mathcal{U}_{0}$ gewinnt man eine Umgebungsbasis $\\mathcal{U}_{x}$ von $x$ durch Translation:\n",
        "$\n",
        "\\mathcal{U}_{x}:=x+\\mathcal{U}_{0}:=\\left(x+U_{0, i}\\right)_{i \\in I}\n",
        "$"
      ]
    },
    {
      "cell_type": "markdown",
      "metadata": {
        "id": "__3fgNzDLT6j"
      },
      "source": [
        "#### **Abzählbarkeitsaxiom (Kleine Räume)**"
      ]
    },
    {
      "cell_type": "markdown",
      "metadata": {
        "id": "l0YwjMDhLmLQ"
      },
      "source": [
        "* Im mathematischen Teilgebiet der Topologie gibt es zwei Endlichkeitsbedingungen an die betrachteten Räume, die als erstes bzw. zweites Abzählbarkeitsaxiom bezeichnet werden. \n",
        "\n",
        "* Räume, die ein Abzählbarkeitsaxiom erfüllen, können aus topologischer Sicht als „klein“ gelten."
      ]
    },
    {
      "cell_type": "markdown",
      "metadata": {
        "id": "d7PbaRFDLYga"
      },
      "source": [
        "https://de.wikipedia.org/wiki/Abzählbarkeitsaxiom"
      ]
    },
    {
      "cell_type": "markdown",
      "metadata": {
        "id": "sef3vFPZCbBH"
      },
      "source": [
        "#### **Point-Set Topology (Mengentheoretische Topologie)**"
      ]
    },
    {
      "cell_type": "markdown",
      "metadata": {
        "id": "3f92e2-6-Jar"
      },
      "source": [
        "General topology is the branch of topology that deals with the basic set-theoretic definitions and constructions used in topology. It is the foundation of most other branches of topology, including differential topology, geometric topology, and algebraic topology. **Another name for general topology is point-set topology**."
      ]
    },
    {
      "cell_type": "markdown",
      "metadata": {
        "id": "Vy5f4vGA-Llx"
      },
      "source": [
        "The fundamental concepts in point-set topology are continuity, compactness, and connectedness:\n",
        "\n",
        "* **Continuous functions**, intuitively, take nearby points to nearby points.\n",
        "\n",
        "* **Compact sets** are those that can be covered by finitely many sets of arbitrarily small size.\n",
        "\n",
        "* **Connected sets** are sets that cannot be divided into two pieces that are far apart."
      ]
    },
    {
      "cell_type": "markdown",
      "metadata": {
        "id": "f-8bUzrQ_-Kw"
      },
      "source": [
        "**Once a choice of open sets is made, the properties of continuity, connectedness, and compactness, which use notions of nearness, can be defined using these open sets.**"
      ]
    },
    {
      "cell_type": "markdown",
      "metadata": {
        "id": "MN_C88QdNgEA"
      },
      "source": [
        "* **Point-Set Topology**: The low-level language of topology, which is not really considered a separate \"branch\" of topology. \n",
        "\n",
        "* Point-set topology, also called set-theoretic topology or general topology, is the study of the general abstract nature of continuity or \"closeness\" on spaces. \n",
        "\n",
        "* Basic point-set topological notions are ones like **continuity, dimension, compactness, and connectedness**. The intermediate value theorem (which states that if a path in the real line connects two numbers, then it passes over every point between the two) is a basic topological result. Others are that Euclidean n-space is homeomorphic to Euclidean m-space iff m=n, and that real valued functions achieve maxima and minima on compact sets.\n",
        "\n",
        "* **Foundational point-set topological questions are ones like \"when can a topology on a space be derived from a metric?\" Point-set topology deals with differing notions of continuity and compares them, as well as dealing with their properties.** \n",
        "\n",
        "* Point-set topology is also the ground-level of inquiry into the geometrical properties of spaces and continuous functions between them, and in that sense, it is the foundation on which the remainder of topology (algebraic, differential, and low-dimensional) stands."
      ]
    },
    {
      "cell_type": "markdown",
      "metadata": {
        "id": "w0flO2bUN65p"
      },
      "source": [
        "https://mathworld.wolfram.com/Point-SetTopology.html"
      ]
    },
    {
      "cell_type": "markdown",
      "metadata": {
        "id": "ak2HBZOH8xiT"
      },
      "source": [
        "#### **Convergence**"
      ]
    },
    {
      "cell_type": "markdown",
      "metadata": {
        "id": "pnloY_L3u7dt"
      },
      "source": [
        "![xxx](https://upload.wikimedia.org/wikipedia/commons/thumb/c/c9/Archimedes_pi.svg/320px-Archimedes_pi.svg.png)"
      ]
    },
    {
      "cell_type": "markdown",
      "metadata": {
        "id": "U71W4bwfvBT_"
      },
      "source": [
        "The sequence given by the perimeters of regular n-sided polygons that circumscribe the unit circle has a limit equal to the perimeter of the circle, i.e. \n",
        "2\n",
        "π\n",
        "r. The corresponding sequence for inscribed polygons has the same limit."
      ]
    },
    {
      "cell_type": "markdown",
      "metadata": {
        "id": "uf9QAjQxvSMZ"
      },
      "source": [
        "* In mathematics, the limit of a sequence is the value that the terms of a sequence \"tend to\", and is often denoted using the lim symbol (e.g., $\\left.\\lim _{n \\rightarrow \\infty} a_{n}\\right)$. \n",
        "\n",
        "* If such a limit exists, the sequence is called convergent. A sequence that does not converge is said to be divergent. The limit of a sequence is said to be the fundamental notion on which the whole of [mathematical analysis](https://en.m.wikipedia.org/wiki/Mathematical_analysis) ultimately rests.\n",
        "\n",
        "* Limits can be defined in any metric or topological space, but are usually first encountered in the real numbers.\n",
        "\n",
        "* **Limits of sequences behave well with respect to the usual [arithmetic operations](https://en.m.wikipedia.org/wiki/Arithmetic#Arithmetic_operations).**\n",
        "\n",
        "* **If a sequence is bounded and monotonic, then it is convergent.**\n",
        "\n",
        "* **Der Grenzwert einer Folge ist nicht nur für Zahlenfolgen definiert**, sondern ganz genau so für Folgen, deren Glieder einem metrischen Raum angehören, d. h. dass zwischen ihnen ein reellwertiger Abstand definiert ist. In einer weiteren Verallgemeinerung genügt auch ein topologischer Raum; dort lässt sich auch ohne Metrik der Begriff Umgebung definieren, der hier gebraucht wird. Siehe dazu die Abschnitte Grenzwert einer Folge von Elementen eines metrischen Raumes und eines topologischen Raumes."
      ]
    },
    {
      "cell_type": "markdown",
      "metadata": {
        "id": "xwV5ocLV85FJ"
      },
      "source": [
        "[Limit_of_a_sequence](https://en.m.wikipedia.org/wiki/Limit_of_a_sequence) bzw. [Grenzwert einer Folge](https://de.wikipedia.org/wiki/Grenzwert_(Folge))"
      ]
    },
    {
      "cell_type": "markdown",
      "metadata": {
        "id": "5GPhQeqQO0TJ"
      },
      "source": [
        "https://en.m.wikipedia.org/wiki/Monotone_convergence_theorem"
      ]
    },
    {
      "cell_type": "markdown",
      "metadata": {
        "id": "8nWZjSX_vIA9"
      },
      "source": [
        "**[Cauchy-Folge](https://de.wikipedia.org/wiki/Cauchy-Folge)** \n",
        "\n",
        "* bzw. Fundamentalfolge ist eine Folge, bei der der Abstand der Folgenglieder im Verlauf der Folge beliebig klein wird.\n",
        "\n",
        "* wichtig in Banach-Raumen: Ein Banachraum ist ein vollständiger normierter Raum $\n",
        "(X,\\|\\cdot\\|)$ das heißt ein Vektorraum $X$ über dem Körper $\\mathbb{K}$ der reellen oder komplexen Zahlen mit einer Norm $\\|\\cdot\\|,$ **in dem jede Cauchy-Folge** aus Elementen von $X$ in der von der Norm induzierten Metrik $d(x, y)=\\|x-y\\|$ konvergiert. (Ein normierter Raum ist genau dann ein Banachraum, wenn in ihm jede absolut konvergente Reihe konvergiert.)"
      ]
    },
    {
      "cell_type": "markdown",
      "metadata": {
        "id": "9zeKm32B9J-r"
      },
      "source": [
        "#### **Continuity**"
      ]
    },
    {
      "cell_type": "markdown",
      "metadata": {
        "id": "5ONGWYjK-qv4"
      },
      "source": [
        "**Stetigkeit (allgemein)**"
      ]
    },
    {
      "cell_type": "markdown",
      "metadata": {
        "id": "Etw-ro6fjQvA"
      },
      "source": [
        "* A continuous function is a function that does not have any abrupt changes in value, known as discontinuities. \n",
        "\n",
        "* More precisely, sufficiently small changes in the input of a continuous function result in arbitrarily small changes in its output."
      ]
    },
    {
      "cell_type": "markdown",
      "metadata": {
        "id": "KBOrGjnQ9P-J"
      },
      "source": [
        "https://en.m.wikipedia.org/wiki/Continuous_function"
      ]
    },
    {
      "cell_type": "markdown",
      "metadata": {
        "id": "YqHOySqM-sLL"
      },
      "source": [
        "* eine stetige Abbildung oder stetige Funktion eine Funktion, bei der hinreichend **kleine Änderungen des Arguments nur beliebig kleine Änderungen des Funktionswerts nach sich ziehen**. Formalisieren kann man diese Eigenschaft mit der Vertauschbarkeit der Funktion mit Grenzwerten oder mit dem \n",
        "$\\varepsilon$-$\\delta$-Kriterium. (Zeichen:\n",
        "ε und δ)\n",
        "\n",
        "* Viele in der Praxis der reellen Analysis verwendete Funktionen sind stetig, insbesondere ist das für alle **differenzierbaren Funktionen** der Fall.\n",
        "\n",
        "* Für stetige Funktionen können eine Reihe nützlicher Eigenschaften bewiesen werden. Exemplarisch seien der [Zwischenwertsatz](https://de.m.wikipedia.org/wiki/Zwischenwertsatz), der [Satz vom Minimum und Maximum](https://de.m.wikipedia.org/wiki/Satz_vom_Minimum_und_Maximum) und der [Fundamentalsatz der Analysis](https://de.m.wikipedia.org/wiki/Fundamentalsatz_der_Analysis) genannt.\n",
        "\n",
        "* Allgemeiner ist das Konzept der Stetigkeit von Abbildungen in der Mathematik vor allem in den Teilgebieten der Analysis und der Topologie von zentraler Bedeutung. **Es ist möglich, Stetigkeit durch eine Bedingung zu charakterisieren, die nur Begriffe der Topologie benutzt**. Somit kann der Begriff der Stetigkeit auch auf Funktionen zwischen topologischen Räumen ausgedehnt werden. Diese allgemeine Sichtweise erweist sich aus mathematischer Sicht als der „natürlichste“ Zugang zum Stetigkeitsbegriff: **Stetige Funktionen sind diejenigen Funktionen zwischen topologischen Räumen, die mit deren Strukturen „verträglich“ sind**. Stetige Funktionen spielen also in Topologie und Analysis eine ähnliche Rolle wie Homomorphismen in der Algebra.\n",
        "\n",
        "\n"
      ]
    },
    {
      "cell_type": "markdown",
      "metadata": {
        "id": "Xqj4cjp1-ugm"
      },
      "source": [
        "https://de.m.wikipedia.org/wiki/Stetige_Funktion"
      ]
    },
    {
      "cell_type": "markdown",
      "metadata": {
        "id": "lPkWBrGP-wcB"
      },
      "source": [
        "**Morphismen: Stetige Abbildungen**"
      ]
    },
    {
      "cell_type": "markdown",
      "metadata": {
        "id": "VzhPzxZf-y6-"
      },
      "source": [
        "* Wie bei jeder mathematischen Struktur gibt es auch bei den topologischen Räumen\n",
        "strukturerhaltende Abbildungen (Morphismen). Hier sind es die stetigen Abbildungen: Eine Abbildung $f:(X, S) \\rightarrow(Y, T)$ ist (global) stetig, wenn das Urbild jeder offenen Teilmenge $O$ von $Y$ eine offene Menge in $X$ ist, formal: $O \\in T \\Longrightarrow f^{-1}(O) \\in S$.\n",
        "\n",
        "* Die Isomorphismen heißen hier Homöomorphismen, dies sind bijektive stetige Abbildungen, deren Umkehrung ebenfalls stetig ist. Strukturell gleichartige (isomorphe) topologische Räume nennt man homöomorph."
      ]
    },
    {
      "cell_type": "markdown",
      "metadata": {
        "id": "jnf6EJrp8kCL"
      },
      "source": [
        "#### **Connectedness**"
      ]
    },
    {
      "cell_type": "markdown",
      "metadata": {
        "id": "pwl_xdMOMlQb"
      },
      "source": [
        "* In topology and related branches of mathematics, **a connected space is a topological space that cannot be represented as the union of two or more disjoint non-empty open subsets**. \n",
        "\n",
        "* Connectedness is one of the principal topological properties that are used to distinguish topological spaces.\n",
        "\n",
        "* **A subset of a topological space X is a connected set if it is a connected space when viewed as a subspace of X.**\n",
        "\n",
        "* A topological space X is said to be disconnected if it is the union of two disjoint non-empty open sets. Otherwise, X is said to be connected. \n",
        "\n",
        "* A subset of a topological space is said to be connected if it is connected under its subspace topology. Some authors exclude the empty set (with its unique topology) as a connected space, but this article does not follow that practice."
      ]
    },
    {
      "cell_type": "markdown",
      "metadata": {
        "id": "sIADllodyMbf"
      },
      "source": [
        "**Connected and disconnected subspaces of R²**"
      ]
    },
    {
      "cell_type": "markdown",
      "metadata": {
        "id": "MkJfHSbtx5wY"
      },
      "source": [
        "![xx](https://upload.wikimedia.org/wikipedia/commons/thumb/1/16/Simply_connected%2C_connected%2C_and_non-connected_spaces.svg/192px-Simply_connected%2C_connected%2C_and_non-connected_spaces.svg.png)"
      ]
    },
    {
      "cell_type": "markdown",
      "metadata": {
        "id": "roboDYeix90I"
      },
      "source": [
        "* **Connected**: red space A, pink space B, yellow space C and orange space D\n",
        "* **Disconnected**: green space E (made of subsets E1, E2, E3, and E4) \n",
        "* **Simply connected**: A and B (genus 0), \n",
        "* **Not simply connected**: C and D: C has genus 1 and D has genus 4.\n",
        "\n",
        "Genus (Geschlecht): Anzahl der Löcher in einer Fläche (https://de.m.wikipedia.org/wiki/Geschlecht_(Fläche))"
      ]
    },
    {
      "cell_type": "markdown",
      "metadata": {
        "id": "XeEEjEU58mZk"
      },
      "source": [
        "https://en.m.wikipedia.org/wiki/Connected_space"
      ]
    },
    {
      "cell_type": "markdown",
      "metadata": {
        "id": "KVfJxtw_faJK"
      },
      "source": [
        "#### **Compactness**"
      ]
    },
    {
      "cell_type": "markdown",
      "metadata": {
        "id": "bkZcyD7ispT2"
      },
      "source": [
        "###### **Offene & abgeschlossene Mengen**"
      ]
    },
    {
      "cell_type": "markdown",
      "metadata": {
        "id": "r7nlcTMs9m3u"
      },
      "source": [
        "**Open & Closed Sets**\n",
        "\n",
        "* In mathematics, particularly in topology, an open set is an abstract concept generalizing the idea of an open interval in the real line.\n",
        "\n",
        "* **An open interval does not include its endpoints, and is indicated with parentheses**. For example, (0,1) means greater than 0 and less than 1. This means (0,1) = {x | 0 < x < 1}. (*\"(0,1) is the set of all numbers x, such that x is an integer in the range greater than 0 to 1 exclusive\"*)\n",
        "\n",
        "* A closed interval is an interval which includes all its limit points, and is denoted with square brackets. For example, [0,1] means greater than or equal to 0 and less than or equal to 1. \n",
        "\n",
        "* A half-open interval includes only one of its endpoints, and is denoted by mixing the notations for open and closed intervals. (0,1] means greater than 0 and less than or equal to 1, while [0,1) means greater than or equal to 0 and less than 1.\n",
        "\n",
        "* Once a choice of open sets is made, the properties of continuity, connectedness, and compactness, which use notions of nearness, can be defined using these open sets."
      ]
    },
    {
      "cell_type": "markdown",
      "metadata": {
        "id": "veKZRhxK9ixo"
      },
      "source": [
        "https://en.m.wikipedia.org/wiki/Open_set"
      ]
    },
    {
      "cell_type": "markdown",
      "metadata": {
        "id": "Z1P-S-WicOoa"
      },
      "source": [
        "https://en.m.wikipedia.org/wiki/Interval_(mathematics)#Terminology"
      ]
    },
    {
      "cell_type": "markdown",
      "metadata": {
        "id": "qLkwdvLcqQoD"
      },
      "source": [
        "**[Offene Menge](https://de.wikipedia.org/wiki/Offene_Menge)**\n",
        "\n",
        "* In dem Teilgebiet Topologie der Mathematik ist eine offene Menge eine Menge mit einer genau definierten Eigenschaft. \n",
        "\n",
        "* Anschaulich ist eine Menge offen, wenn ihre Elemente nur von Elementen dieser Menge umgeben sind, mit anderen Worten, wenn kein Element der Menge auf ihrem Rand liegt. Die Komplementärmenge einer offenen Menge nennt man abgeschlossene Menge. Diese Mengen sind dadurch charakterisiert, dass sie alle ihre Häufungspunkte enthalten.\n"
      ]
    },
    {
      "cell_type": "markdown",
      "metadata": {
        "id": "h1tq8qZ1qsSj"
      },
      "source": [
        "**Offenes Intervall**\n",
        "\n",
        ">$(a, b)=] a, b[:=\\{x \\in \\mathbb{R} \\mid a<x<b\\}$\n",
        "\n",
        "Das Intervall enthält weder $a$ noch $b$. Die Notation $(a, b)$ ist die traditionell verwendete, während ] $a, b\\left[\\text { auf Bourbaki zurückgeht. }^{[3]}\\right.$\n",
        "Halboffenes (genauer rechtsoffenes) Intervall\n",
        "\n",
        ">$[a, b)=[a, b[:=\\{x \\in \\mathbb{R} \\mid a \\leq x<b\\}$\n",
        "\n",
        "Das Intervall enthält $a$, aber nicht $b$.\n",
        "Halboffenes (genauer linksoffenes) Intervall\n",
        "\n",
        "> $(a, b]=\\mid a, b]:=\\{x \\in \\mathbb{R} \\mid a<x \\leq b\\}$\n",
        "\n",
        "Das Intervall enthält nicht $a,$ wohl aber $b$\n",
        "Im Fall von $a=0$ und $b=1$ heißt $(a, b)$ das offene Einheitsintervall und $[a, b]$ das abgeschlossene Einheitsintervall."
      ]
    },
    {
      "cell_type": "markdown",
      "metadata": {
        "id": "0MY8GfGbFHno"
      },
      "source": [
        "**Abgeschlossene Menge**"
      ]
    },
    {
      "cell_type": "markdown",
      "metadata": {
        "id": "Aah6Ybt3BFAo"
      },
      "source": [
        "* **A closed set is a set whose complement is an open set.**\n",
        "\n",
        "* In a topological space, a closed set can be defined as a set which contains all its limit points. In a complete metric space, a closed set is a set which is closed under the limit operation.\n",
        "\n",
        "* In a topological space, a set is closed if and only if it coincides with its closure. Equivalently, **a set is closed if and only if it contains all of its limit points**. Yet another equivalent definition is that a set is closed if and only **if it contains all of its boundary points**."
      ]
    },
    {
      "cell_type": "markdown",
      "metadata": {
        "id": "yCZfDmljAwZH"
      },
      "source": [
        "https://en.m.wikipedia.org/wiki/Closed_set"
      ]
    },
    {
      "cell_type": "markdown",
      "metadata": {
        "id": "tkOpwVYRqwNU"
      },
      "source": [
        "**Abgeschlossenes Intervall**"
      ]
    },
    {
      "cell_type": "markdown",
      "metadata": {
        "id": "RV0s9Fa7FNdj"
      },
      "source": [
        "Ein einfaches Beispiel ist das Intervall [0,1] in den reellen Zahlen (mit der Standardtopologie, erzeugt durch die Metrik $d_{x y}=|x-y|$. \n",
        "\n",
        "* Das Komplement von [0,1] ist die Vereinigung $(-\\infty, 0) \\cup(1, \\infty)$ zweier offener Intervalle, also eine offene Menge, also ist [0,1] eine abgeschlossene Menge. \n",
        "\n",
        "* Deshalb nennt man das Intervall [0,1] ein abgeschlossenes Intervall. \n",
        "\n",
        "* **Dagegen ist das Intervall (0,1] nicht abgeschlossen, denn das Komplement $(-\\infty, 0] \\cup(1, \\infty)$ ist\n",
        "nicht offen.**"
      ]
    },
    {
      "cell_type": "markdown",
      "metadata": {
        "id": "uqLz8vEXFUMM"
      },
      "source": [
        "https://de.m.wikipedia.org/wiki/Abgeschlossene_Menge"
      ]
    },
    {
      "cell_type": "markdown",
      "metadata": {
        "id": "y29Lv8RzDsKQ"
      },
      "source": [
        "**Abgeschlossenes Intervall**\n",
        "\n",
        ">$[a, b]:=\\{x \\in \\mathbb{R} \\mid a \\leq x \\leq b\\}$\n",
        "\n",
        "Das Intervall enthält sowohl $a$ als auch $b$.\n",
        "\n",
        "**Ein Intervall ist genau dann kompakt, wenn es abgeschlossen und beschränkt ist.**"
      ]
    },
    {
      "cell_type": "markdown",
      "metadata": {
        "id": "IRb13Big9a34"
      },
      "source": [
        "###### **Beschränkte und unbeschränkte Mengen**"
      ]
    },
    {
      "cell_type": "markdown",
      "metadata": {
        "id": "2GSt0Y7hCytg"
      },
      "source": [
        "**Bounded & Unbounded Set**\n",
        "\n",
        "Sei a < b. \n",
        "* Ein beschränktes Intervall mit der unteren Grenze a und der oberen Grenze b ist abgeschlossen, wenn es beide Grenzen enthält, und offen, wenn beide Grenzen nicht enthalten sind. \n",
        "* Ein beschränktes Intervall heißt halboffen, wenn es genau eine der beiden Intervallgrenzen enthält."
      ]
    },
    {
      "cell_type": "markdown",
      "metadata": {
        "id": "7TFsQujX_SVR"
      },
      "source": [
        "* A set is called bounded if it is, in a certain sense, of finite size. Conversely, a set which is not bounded is called unbounded. \n",
        "\n",
        "* The word 'bounded' makes no sense in a general topological space without a corresponding metric."
      ]
    },
    {
      "cell_type": "markdown",
      "metadata": {
        "id": "PB-Yp0cW_KEa"
      },
      "source": [
        "https://en.m.wikipedia.org/wiki/Bounded_set"
      ]
    },
    {
      "cell_type": "markdown",
      "metadata": {
        "id": "Au_7lJVfD9TW"
      },
      "source": [
        "**Unbeschränktes Intervall**"
      ]
    },
    {
      "cell_type": "markdown",
      "metadata": {
        "id": "PhkazI_KEAOB"
      },
      "source": [
        "* Wenn auf einer Seite die Intervallgrenze fehlt, es dort also keine Schranke geben soll, spricht man von einem (auf dieser Seite) unbeschränkten Intervall. \n",
        "\n",
        "* Meist werden hierfür die bekannten Symbole −∞ und ∞ als „Ersatz“-Intervallgrenzen verwendet, die selbst nie zum Intervall gehören (deshalb die Schreibung mit runder Klammer). In mancher Literatur werden beschränkte Intervalle auch als eigentlich, unbeschränkte als uneigentlich bezeichnet."
      ]
    },
    {
      "cell_type": "markdown",
      "metadata": {
        "id": "Dj_I9xztugys"
      },
      "source": [
        "**Infimum und Supremum**"
      ]
    },
    {
      "cell_type": "markdown",
      "metadata": {
        "id": "0Axl62MJubON"
      },
      "source": [
        "Die Begriffe obere und untere Schranke werden im Artikel Supremum ausführlich beschrieben."
      ]
    },
    {
      "cell_type": "markdown",
      "metadata": {
        "id": "otWtwaTGufLC"
      },
      "source": [
        "https://de.m.wikipedia.org/wiki/Infimum_und_Supremum"
      ]
    },
    {
      "cell_type": "markdown",
      "metadata": {
        "id": "QNeiHqg7xI1l"
      },
      "source": [
        "**// = Compactness (Closed & Bounded / Abgeschlossen & Beschränkt)**"
      ]
    },
    {
      "cell_type": "markdown",
      "metadata": {
        "id": "R7FCyYP7ARwP"
      },
      "source": [
        "![alternativer Text](https://upload.wikimedia.org/wikipedia/commons/thumb/7/7c/Compact.svg/512px-Compact.svg.png)"
      ]
    },
    {
      "cell_type": "markdown",
      "metadata": {
        "id": "WuKJS_xH8UhE"
      },
      "source": [
        "Per the compactness criteria for Euclidean space (endlich dimensional!) as stated in the Heine-Borel Theorem:\n",
        "\n",
        "* the interval A = (−∞, −2] is not compact because it is not bounded (but it's closed right side). \n",
        "\n",
        "* The interval C = (2, 4) is not compact because it is not closed (but it's bounded). \n",
        "\n",
        "* The interval B = [0, 1] is compact because it is both closed and bounded."
      ]
    },
    {
      "cell_type": "markdown",
      "metadata": {
        "id": "JC4--mmzfgd7"
      },
      "source": [
        "Compactness is a property that generalizes the notion of a subset of Euclidean space **being closed** (i.e., containing all its limit points) and **bounded** (i.e., having all its points lie within some fixed distance of each other).\n",
        "\n",
        "* Examples include a closed interval, a rectangle, or a finite set of points. This notion is defined for more general topological spaces than Euclidean space in various ways.\n",
        "\n",
        "* importance of including the boundary points of the interval, since the limit points must be in the space itself — an open (or half-open) interval of the real numbers is not compact. \n",
        "\n",
        "* It is also crucial that the interval be bounded, since in the interval [0,∞), one could choose the sequence of points 0, 1, 2, 3, ..., of which no sub-sequence ultimately gets arbitrarily close to any given real number."
      ]
    },
    {
      "cell_type": "markdown",
      "metadata": {
        "id": "QiFHTX3Riln9"
      },
      "source": [
        "Nur in endlich dimensionale Räume?"
      ]
    },
    {
      "cell_type": "markdown",
      "metadata": {
        "id": "HBeD_rrUfvQR"
      },
      "source": [
        "https://en.m.wikipedia.org/wiki/Compact_space"
      ]
    },
    {
      "cell_type": "markdown",
      "metadata": {
        "id": "CgHoYv4w0CKY"
      },
      "source": [
        "**Links**"
      ]
    },
    {
      "cell_type": "markdown",
      "metadata": {
        "id": "Fec5gqyE0CKY"
      },
      "source": [
        "https://m0nads.wordpress.com/tag/persistent-homology/"
      ]
    },
    {
      "cell_type": "markdown",
      "metadata": {
        "id": "mkRM7hQR0CKY"
      },
      "source": [
        "https://bastian.rieck.me/blog/posts/2020/icml_topology_roundup/"
      ]
    },
    {
      "cell_type": "markdown",
      "metadata": {
        "id": "aNf7YByC0CKY"
      },
      "source": [
        "https://en.wikipedia.org/wiki/Group_homomorphism"
      ]
    },
    {
      "cell_type": "markdown",
      "metadata": {
        "id": "IhBDxvic0CKY"
      },
      "source": [
        "https://en.wikipedia.org/wiki/Kernel_(algebra)"
      ]
    },
    {
      "cell_type": "markdown",
      "metadata": {
        "id": "x9Q45Q6-0CKY"
      },
      "source": [
        "https://en.wikipedia.org/wiki/Kernel_(linear_algebra)"
      ]
    },
    {
      "cell_type": "markdown",
      "metadata": {
        "id": "fPSvD2jP0CKY"
      },
      "source": [
        "https://en.wikipedia.org/wiki/Kernel_(category_theory)"
      ]
    },
    {
      "cell_type": "markdown",
      "metadata": {
        "id": "mXOXOKtk0CKY"
      },
      "source": [
        "https://en.wikipedia.org/wiki/Homological_algebra"
      ]
    },
    {
      "cell_type": "markdown",
      "metadata": {
        "id": "t0X0TPC_0CKY"
      },
      "source": [
        "https://en.wikipedia.org/wiki/Induced_homomorphism"
      ]
    },
    {
      "cell_type": "markdown",
      "metadata": {
        "id": "tiQM1_Ub0CKY"
      },
      "source": [
        "https://en.wikipedia.org/wiki/Pushforward_(homology)"
      ]
    },
    {
      "cell_type": "markdown",
      "metadata": {
        "id": "G609y3gD0CKY"
      },
      "source": [
        "http://slideplayer.com/slide/17272227/"
      ]
    },
    {
      "cell_type": "markdown",
      "metadata": {
        "id": "pJsarOY4gRjI"
      },
      "source": [
        "### **Homology**"
      ]
    },
    {
      "cell_type": "markdown",
      "metadata": {
        "id": "FZE8UPB9uAPl"
      },
      "source": [
        "Fundamentl group: https://youtu.be/t5dA_QWN_20"
      ]
    },
    {
      "cell_type": "markdown",
      "metadata": {
        "id": "E6X1o8IYuJIs"
      },
      "source": [
        "chain complexs: https://youtu.be/oCRE-kvw3k0"
      ]
    },
    {
      "cell_type": "markdown",
      "metadata": {
        "id": "SNZ0K9xYDE5V"
      },
      "source": [
        "#### **Bijection, Injection, Surjection, Kern & Image**"
      ]
    },
    {
      "cell_type": "markdown",
      "metadata": {
        "id": "BmiM-28bz2C6"
      },
      "source": [
        "**Bijection, injection and surjection**"
      ]
    },
    {
      "cell_type": "markdown",
      "metadata": {
        "id": "ZzY0F9jWCpZr"
      },
      "source": [
        "In the category of sets, injections, surjections, and bijections correspond precisely to monomorphisms, epimorphisms, and isomorphisms, respectively"
      ]
    },
    {
      "cell_type": "markdown",
      "metadata": {
        "id": "FUmGWqFmz0dP"
      },
      "source": [
        "https://en.m.wikipedia.org/wiki/Bijection,_injection_and_surjection"
      ]
    },
    {
      "cell_type": "markdown",
      "metadata": {
        "id": "RFgQPMjQ_2QB"
      },
      "source": [
        "![alternativer Text](https://upload.wikimedia.org/wikipedia/commons/thumb/0/02/Injection.svg/240px-Injection.svg.png)"
      ]
    },
    {
      "cell_type": "markdown",
      "metadata": {
        "id": "AZ_sMORDL_Ai"
      },
      "source": [
        "* Jedes Element von Y hat höchstens ein Urbild: A, B, D je eines, C keines.\n",
        "\n",
        "* Die Zielmenge kann daher nicht weniger mächtig als die Definitionsmenge sein, d. h., sie kann nicht weniger Elemente enthalten.\n",
        "\n",
        "* injektiv, wenn es zu jedem Element y der Zielmenge Y höchstens ein (also eventuell gar kein) Element x der Ausgangs- oder Definitionsmenge X gibt, das darauf zielt, wenn also **nie zwei verschiedene Elemente der Definitionsmenge auf dasselbe Element der Zielmenge abgebildet werden**"
      ]
    },
    {
      "cell_type": "markdown",
      "metadata": {
        "id": "spo-zVLSLUsq"
      },
      "source": [
        "https://de.m.wikipedia.org/wiki/Injektive_Funktion"
      ]
    },
    {
      "cell_type": "markdown",
      "metadata": {
        "id": "EsAaO511Ln_G"
      },
      "source": [
        "![alternativer Text](https://upload.wikimedia.org/wikipedia/commons/thumb/6/6c/Surjection.svg/240px-Surjection.svg.png)"
      ]
    },
    {
      "cell_type": "markdown",
      "metadata": {
        "id": "SpROKRjkLzec"
      },
      "source": [
        "jedes Element der Zielmenge hat mindestens ein Urbild (rechtstotalen Funktionen)"
      ]
    },
    {
      "cell_type": "markdown",
      "metadata": {
        "id": "oECpC2jOLWnI"
      },
      "source": [
        "https://de.m.wikipedia.org/wiki/Surjektive_Funktion"
      ]
    },
    {
      "cell_type": "markdown",
      "metadata": {
        "id": "_lQ2nNu6Ljv4"
      },
      "source": [
        "![alternativer Text](https://upload.wikimedia.org/wikipedia/commons/thumb/a/a5/Bijection.svg/240px-Bijection.svg.png)"
      ]
    },
    {
      "cell_type": "markdown",
      "metadata": {
        "id": "4TEi36wZLYis"
      },
      "source": [
        "https://de.m.wikipedia.org/wiki/Bijektive_Funktion"
      ]
    },
    {
      "cell_type": "markdown",
      "metadata": {
        "id": "0SSy_8X9uwn9"
      },
      "source": [
        "**Kern & Image**"
      ]
    },
    {
      "cell_type": "markdown",
      "metadata": {
        "id": "Y1jLxj1l98EQ"
      },
      "source": [
        "https://de.m.wikipedia.org/wiki/Bild_(Mathematik)"
      ]
    },
    {
      "cell_type": "markdown",
      "metadata": {
        "id": "oi6tDHyz9-it"
      },
      "source": [
        "https://de.m.wikipedia.org/wiki/Kern_(Algebra)"
      ]
    },
    {
      "cell_type": "markdown",
      "metadata": {
        "id": "urXv_rFuy6tf"
      },
      "source": [
        "Thema: Abbildungen (zB lineare Abbildungen in Vektorräumen)\n",
        "\n",
        "* **Definitionsmenge**: zB Vektorraum V (mit Funktionsargument)\n",
        "\n",
        "* **Zielmenge**: zB Vektorraum W (mit Funktionswert)\n",
        "\n",
        "* **Urbild**: Das Urbild von der Teilmenge N in der Zielmenge W sind alle Elemente aus der Definitionsmenge V (original), für die gilt, wenn man sie in die Funktion einsetzt, dann liegt der Funktionswert in den Teilmenge N der Zielmenge W.\n",
        "\n",
        "> $f^{-1}(N)=\\{x \\in V \\mid f(x) \\in N\\}$\n",
        "\n",
        "* **Faser**: Urbild von einem Element (\"Faser der Abbildung über einem Element\")\n",
        "\n",
        "* **Funktionswerte**: Element im Bild in der Zielmenge, der zu einem Element im Urbild gehört. Alle Funktionswerte, die überhauot rauskommen können, sind das Bild bzw. die Bildmenge. \n",
        "\n",
        "* **[Bild](https://ncatlab.org/nlab/show/image) bzw [Img](https://en.m.wikipedia.org/wiki/Image_(mathematics))**: Menge in der Zielmenge. Ist immer in der Zielmenge, muss aber nicht alle Elemente in der Zielmenge umfassen\n",
        "\n",
        ">$\\operatorname{Bild}(f)=f(V):=\\{f(x) \\mid x \\in V\\}$ = im(f)\n",
        "\n",
        "* **Kern**: Nullvektor / das neutrale Element der Addition. Alle Elemente in der Definitionsmenge V, für die der Funktionswert der Nullvektor ist (d.h. bei denen Null in der Zielmenge rauskommt). [Kern](https://de.wikipedia.org/wiki/Kern_(Algebra)): Elemente, die auf Null verweisen. Anders gesagt: Ist die Lösungsmenge der homogenen linearen Gleichung f(x) = 0. Der Kern ist das Urbild des neutralen Elements e. Der Kern einer Abbildung dient in der Algebra dazu, anzugeben, wie stark die Abbildung von der Injektivität abweicht.\n",
        "\n",
        ">ker(f) = $\\{x \\in V \\mid f(x)=0 \\in W\\}$"
      ]
    },
    {
      "cell_type": "markdown",
      "metadata": {
        "id": "QyxuA5Ah3re0"
      },
      "source": [
        "Beachte fur Kerne auch die analytische Bedeutung von Nullstellen in der Zielmenge: https://de.wikipedia.org/wiki/Nullstelle"
      ]
    },
    {
      "cell_type": "markdown",
      "metadata": {
        "id": "VlpJJK1F979M"
      },
      "source": [
        "https://de.m.wikipedia.org/wiki/Urbild_(Mathematik)#Definition"
      ]
    },
    {
      "cell_type": "markdown",
      "metadata": {
        "id": "qviTkXXmSu5-"
      },
      "source": [
        "![ccc](https://upload.wikimedia.org/wikipedia/commons/thumb/6/64/Codomain2.SVG/320px-Codomain2.SVG.png)"
      ]
    },
    {
      "cell_type": "markdown",
      "metadata": {
        "id": "es-yj6rXSyq8"
      },
      "source": [
        "*f is a function from domain X to codomain Y. The yellow oval inside Y is the image of f.* \n",
        "\n",
        "The image of a function is the set of all output values it may produce. ([Source](https://en.m.wikipedia.org/wiki/Image_(mathematics)))"
      ]
    },
    {
      "cell_type": "markdown",
      "metadata": {
        "id": "vS2RznRQGeCU"
      },
      "source": [
        "![ccc](https://upload.wikimedia.org/wikipedia/commons/thumb/4/4c/KerIm_2015Joz_L2.png/640px-KerIm_2015Joz_L2.png)"
      ]
    },
    {
      "cell_type": "markdown",
      "metadata": {
        "id": "zI-JGTHpGima"
      },
      "source": [
        "*Kernel and image of a map L ([Source](https://en.m.wikipedia.org/wiki/Kernel_(linear_algebra)))*"
      ]
    },
    {
      "cell_type": "markdown",
      "metadata": {
        "id": "rbYzNcTJGmIH"
      },
      "source": [
        "* The kernel of L is a linear subspace of the domain V.\n",
        "\n",
        "* Exkurs: the image of a function is the set of all output values it may produce.\n",
        "\n",
        "* Exkurs: the kernel of a homomorphism (function that preserves the structure) is generally the inverse image of 0 (except for groups whose operation is denoted multiplicatively, where the kernel is the inverse image of 1). kern -> identity! (0 unter Addition, 1 unter Multiplikation)\n",
        "\n",
        "* In the linear map L : V → W, two elements of V have the same image in W if and only if their difference lies in the kernel of L:\n",
        "\n",
        "> L ( v 1 ) = L ( v 2 ) ⇔ L ( v 1 − v 2 ) = 0\n",
        "\n",
        "* From this, it follows that the image of L is isomorphic to the quotient of V by the kernel:\n",
        "\n",
        "> im ⁡ ( L ) ≅ V / ker ⁡ ( L ) \n",
        "\n",
        "* Der Kern von L ein Normalteiler von V und daher kann die Faktorgruppe V/ ker(L) gebildet werden.\n",
        "\n",
        "* Nach dem Homomorphiesatz für Gruppen ist diese Faktorgruppe isomorph zum Bild von  L,  das eine Untergruppe von  W  ist."
      ]
    },
    {
      "cell_type": "markdown",
      "metadata": {
        "id": "i-Hh2MCGHSZr"
      },
      "source": [
        "*When V is an inner product space, the quotient V / ker(L) can be identified with the orthogonal complement in V of ker(L). This is the generalization to linear operators of the row space, or coimage, of a matrix.*"
      ]
    },
    {
      "cell_type": "markdown",
      "metadata": {
        "id": "uxUqAZjXXTtt"
      },
      "source": [
        "Als Bild (img) des Gruppenhomomorphismus $f: G \\rightarrow H$ bezeichnet man die Bildmenge von $G$ unter $f:$\n",
        "\n",
        "> $\n",
        "f(G)=\\operatorname{Bild}(f)=\\operatorname{im}(f):=\\{f(u) \\mid u \\in G\\}\n",
        "$\n",
        "\n",
        "**Der Kern von $f$ ist das Urbild des neutralen Elements $e_{H}:$**\n",
        "\n",
        "> $\n",
        "f^{-1}\\left(e_{H}\\right)=\\operatorname{Kern}(f)=\\operatorname{ker}(f):=\\left\\{u \\in G \\mid f(u)=e_{H}\\right\\}\n",
        "$\n",
        "\n",
        "Genau dann, wenn $\\operatorname{Kern}(f)=\\left\\{e_{G}\\right\\}$ gilt (der Kern von $f$ also nur das neutrale Element von $G$ enthält, das immer im Kern liegt), ist $f$ injektiv. Ein injektiver Gruppenhomomorphismus wird auch GruppenMonomorphismus genannt.\n",
        "\n",
        "**Der Kern von $f$ ist stets ein Normalteiler von $G$ und das Bild von $f$ ist eine Untergruppe von $H$. Nach dem Homomorphiesatz ist die Faktorgruppe $G / \\operatorname{Kern}(f)$ isomorph zu Bild $(f)$.**"
      ]
    },
    {
      "cell_type": "markdown",
      "metadata": {
        "id": "5ge-vdc7XW3E"
      },
      "source": [
        "https://de.m.wikipedia.org/wiki/Gruppenhomomorphismus#Bild_und_Kern"
      ]
    },
    {
      "cell_type": "markdown",
      "metadata": {
        "id": "mhawUapXlFtE"
      },
      "source": [
        "https://en.m.wikipedia.org/wiki/Kernel_(algebra)"
      ]
    },
    {
      "cell_type": "markdown",
      "metadata": {
        "id": "fQSYBeN2lH23"
      },
      "source": [
        "https://en.m.wikipedia.org/wiki/Kernel_(linear_algebra)"
      ]
    },
    {
      "cell_type": "markdown",
      "metadata": {
        "id": "4JzWb5yLlKPK"
      },
      "source": [
        "https://en.m.wikipedia.org/wiki/Kernel_(category_theory)"
      ]
    },
    {
      "cell_type": "markdown",
      "metadata": {
        "id": "YDualhq0eJBf"
      },
      "source": [
        "**Umfangreichere Differenzierung**"
      ]
    },
    {
      "cell_type": "markdown",
      "metadata": {
        "id": "63hmjERjeHzh"
      },
      "source": [
        "* **In der Analysis spricht man heute häufig noch von Funktionen, während man in der Algebra und in der Geometrie von Abbildungen spricht.**\n",
        "\n",
        "* Einige Mathematiker unterscheiden auch heute noch streng zwischen einer Abbildung und einer Funktion. Diese verstehen unter einer Funktion eine Abbildung in den reellen oder komplexen Zahlenkörper.\n",
        "\n",
        "* Weitere Synonyme in spezielleren Zusammenhängen sind unter anderem **Operation in der Analysis, Verknüpfung und Morphismus in der Algebra**."
      ]
    },
    {
      "cell_type": "markdown",
      "metadata": {
        "id": "nkOB9acDedLP"
      },
      "source": [
        "Eine Funktion f ordnet jedem Element x einer Definitionsmenge D genau ein Element y einer Zielmenge Z zu.\n",
        "Schreibweise:\n",
        "\n",
        "**f: D ⟶ Z, x ↦ y**\n",
        "\n",
        "Anmerkungen:\n",
        "* Die Umkehrung gilt nicht: Ein Element der Zielmenge muss (wenn überhaupt) nicht nur einem Element des Definitionsbereiches zugeordnet worden sein.\n",
        "\n",
        "* Oft ist an Stelle der Definitionsmenge zunächst eine Quellmenge Q gegeben. Wenn f als Rechenvorschrift gegeben ist, erhält man die Definitionsmenge D<sub>f</sub>, indem man von Q diejenigen Elemente ausschließt, für die f nicht definiert ist."
      ]
    },
    {
      "cell_type": "markdown",
      "metadata": {
        "id": "35B4DcKge1AB"
      },
      "source": [
        "**Mengentheoretische Definition**\n",
        "\n",
        "Mengentheoretisch ist eine Funktion eine spezielle Relation: Eine Funktion von der Menge D in die Menge Z ist eine Menge f, die die folgenden Eigenschaften hat: \n",
        "\n",
        "* f ist eine Teilmenge des kartesischen Produkts D􏰞xZ von D und Z, d. h. f eine Relation.\n",
        "\n",
        "* Für jedes Element x aus D existiert (mindestens) ein Element y in Z, so dass das geordnete Paar (x,y) Element der Relation f ist. f ist also linkstotal.\n",
        "\n",
        "* Zu jedem Element x von D gibt es höchstens ein Element y von Z, so dass das Paar (x,y) in f liegt. f ist damit rechtseindeutig bzw. funktional.\n",
        "\n",
        "* Die letzten beiden Eigenschaften lassen sich auch wie folgt zusammenfassen:\n",
        "Zu jedem Element x von D gibt es genau ein Element y von Z, so dass das Paar (x,y) Element der Relation f ist.\n",
        "\n",
        "\n",
        "Oft möchte man aber auch die Zielmenge explizit zu einem Teil der Funktion machen, zum Beispiel um Aussagen zur Surjektivität anstellen zu können:\n",
        "\n",
        "* Ein Paar f = (G<sub>f</sub>,Z), bestehend aus einer Relation G<sub>f</sub> und einer Menge Z, heißt Funktion von der Menge D nach Z, wenn gilt: G<sub>f</sub> ⊆ D􏰞Z und zu jedem Element x von D gibt es genau ein Element y von Z (geschrieben y = f(x)), so dass das Paar (x,y) Element von G<sub>f</sub> ist.\n",
        "\n",
        "* G<sub>f</sub> wird auch der Graph der Funktion f genannt. Die Definitionsmenge D der Funktion ist dabei durch ihren Graphen eindeutig bestimmt und besteht aus den ersten Komponenten aller Elemente des Graphen. Stimmen zwei Funktionen in ihren Graphen überein, so sagt man auch, sie seien im We‐ sentlichen gleich.\n",
        "\n",
        "* Man kann jedoch auch noch die Definitionsmenge hinzunehmen und eine Funktion entsprechend als ein Tripel f = (Gf,D,Z), G<sub>f</sub> wie oben, definieren."
      ]
    },
    {
      "cell_type": "markdown",
      "metadata": {
        "id": "L9dWfLfey6I0"
      },
      "source": [
        "https://youtu.be/Q52laFrARek"
      ]
    },
    {
      "cell_type": "markdown",
      "metadata": {
        "id": "UDNzWru2eKpK"
      },
      "source": [
        "#### **Quotient Groups**"
      ]
    },
    {
      "cell_type": "markdown",
      "metadata": {
        "id": "wjRyNk0htcO0"
      },
      "source": [
        "**Division mit Rest & Modulo Operation (Restklassenrechnung)**"
      ]
    },
    {
      "cell_type": "markdown",
      "metadata": {
        "id": "nn-uZBpHqhaM"
      },
      "source": [
        "* **Division mit Rest** (Divisionsalgorithmus) besagt, dass es zu zwei Zahlen $n$ und $m \\neq 0$ eindeutig bestimmte Zahlen $a$ und $b$ gibt, für die $n=m \\cdot a+b, \\quad 0 \\leq b<|m|$ gilt. ZB 17 = 3 * 5 + 2 (b ist hierbei die Restklasse und a der Quotient). Sources: [Division_mit_Rest](https://de.wikipedia.org/wiki/Division_mit_Rest) & [Euclidean_division](https://en.wikipedia.org/wiki/Euclidean_division)\n",
        "\n",
        "* **Modulo (Restklassenrechnung) berechnet den Rest b der Division n geteilt durch m ('Modular arithmetic')**. Source: [Modulo Operation](https://en.m.wikipedia.org/wiki/Modulo_operation) & [Division_mit_Rest#Modulo](https://de.m.wikipedia.org/wiki/Division_mit_Rest#Modulo). Beispiel: 7 mod 2 (sprich 7modulo2) ist beispielsweise 1, denn 7 geteilt durch 2 lässt den Rest 1.\n",
        "  * Zwei Zahlen sind kongruent (modulo der natürlichen Zahl n), wenn ihre Differenz durch n teilbar ist.\n",
        "  * Zwei Zahlen sind kongruent (modulo des Moduls m), wenn ihre Differenz durch m teilbar ist.\n",
        "  * Die ganzen Zahlen zerfallen mit der Kongruenz also in Äquivalenzklassen, die Restklassen modulo m.\n",
        "\n",
        "* **Äquivalenzklassen**: The result of the modulo operation is an equivalence class (Äquivalenzklassen). Any member of the class may be chosen as representative. However, the usual representative is the least positive residue, the smallest non-negative integer that belongs to that class (i.e., the remainder of the [Euclidean division](https://en.wikipedia.org/wiki/Euclidean_division) / Division mit Rest) & [Equivalence_class](https://en.m.wikipedia.org/wiki/Equivalence_class)\n",
        "\n",
        "* **[Restklassen](https://de.wikipedia.org/wiki/Restklasse)** sind die Äquivalenzklassen in der Kongruenzrelation. Eine Zahl a modulo einer Zahl m die Menge aller Zahlen, die bei Division durch m denselben Rest lassen wie a. Jede Menge $\\bar{a}=\\{x \\in \\mathbb{Z} \\mid x \\equiv a$ mod $m\\}$ nennt man eine **Restklasse\n",
        "modulo $m .$** Jedes Element $x \\in \\bar{a}$ heißt **Repräsentant** der Restklasse $\\bar{a}$. Die Menge aller Restklassen modulo m bezeichnet man mit $\\mathrm{R}_{\\mathrm{m}}$. Rechnen mit Restklassen: Mit Hilfe der **[Rechengesetze für Kongruenzen](https://de.wikipedia.org/wiki/Kongruenz_(Zahlentheorie)#Rechenregeln)** können wir nun überlegen, ob wir auf einfache Weise auch die Summe zweier Zahlen einer Restklasse zuordnen können. Zum Beispiel direkt über die Addition der Restklassen. In der Gruppentheorie werden Äquivalenzklassen als [Nebenklassen (Cosets)](https://de.m.wikipedia.org/wiki/Gruppentheorie#Nebenklassen) bezeichnet"
      ]
    },
    {
      "cell_type": "markdown",
      "metadata": {
        "id": "ZCdiVqMkqKSG"
      },
      "source": [
        "**Äquivalenz & Kongruenz**"
      ]
    },
    {
      "cell_type": "markdown",
      "metadata": {
        "id": "Z9mqCCRXcrGN"
      },
      "source": [
        "* **Äquivalenz**: Objekte, die sich in einem bestimmten Zusammenhang gleichen, als gleichwertig bzw. äquivalent angesehen. Ein solcher Zusammenhang lässt sich für alle Elemente einer nichtleeren Menge $A$ stets durch eine Funktion $f: A \\rightarrow B$ herstellen, indem man genau dann zwei Elemente $a, b \\in A$ als zueinander $_{n}$ äquivalent $^{\\prime \\prime}$ bezeichnet und diese Beziehung durch $a \\sim b$ symbolisiert, wenn deren Bilder gleich sind: $\n",
        "a \\sim b: \\Longleftrightarrow f(a)=f(b)\n",
        "$. Diese Beziehung bzw. Relation hat die folgenden drei Eigenschaften:\n",
        "  1. Jedes Objekt $a$ ist zu sich selbst äquivalent: $a \\sim a$.\n",
        "  2. Wenn $a$ äquivalent zu $b$ ist, dann ist auch $b$ äquivalent zu $a: a \\sim b \\Longrightarrow b \\sim a$.\n",
        "  3. Wenn $a$ äquivalent zu $b$ und $b$ äquivalent zu $c$ ist, dann ist auch $a$ äquivalent zu $c: a \\sim b$ und $b \\sim c \\Longrightarrow a \\sim c$.\n",
        "  \n",
        "* **Kongruenz**: ([Kongruenz (Geometrie)](https://de.m.wikipedia.org/wiki/Kongruenz_(Geometrie)) bzw. [Kongruenz (Zahlentheorie)](https://de.m.wikipedia.org/wiki/Kongruenz_(Zahlentheorie))) Die Kongruenz zwischen zwei ganzen Zahlen ist in Bezug auf einen Teiler definiert. **Der Teiler heißt in diesem Zusammenhang Modul.** Gegeben sei ein Modul $m \\in \\mathbb{N}$. Zwei ganze Zahlen $a$ und $b$ heißen kongruent modulo $m$, **wenn die Division von $a$ und $b$ durch $m$ den gleichen Rest $r$ lässt**. Kongruenz ist eine Art Erweiterung der Modulorechnung:\n",
        "  * Modulorechnung: 17 mod 3 = 2. \n",
        "  * **Kongruenz: 11 $\\equiv$ 17 mod 3 (weil bei beiden der Rest 2 ist - beide sind in der der gleichen Restklasse)**\n",
        "  * Man kann alternativ zur Restklassenermittlung auch sagen, dass zwei Zahlen kongruent sind (modulo der natürlichen Zahl n), wenn ihre Differenz (hier: h(e) - t(e) ) durch n teilbar ist. Hier: 17 - 11 = 6, ist teilbar durch 3.\n",
        "  * $\n",
        "a \\equiv b \\quad(\\bmod m) \\quad \\Leftrightarrow \\quad(a \\bmod m)=(b \\bmod m) \\quad \\Leftrightarrow \\quad(a-b) \\bmod m=0\n",
        "$\n",
        "  * $a \\equiv b \\bmod m \\Leftrightarrow \\exists t_{a}, t_{b}, r \\in \\mathbb{Z}: a=t_{a} m+r$ und $b=t_{b} m+r$ und $0 \\leq r<m$\n",
        "  * Jede Kongruenz modulo einer ganzen Zahl ist eine Kongruenzrelation auf dem Ring der ganzen Zahlen.\n",
        "  * **15 is congruent to 3 modulo 12**, so \"15:00\" on a 24-hour clock is displayed \"3:00\" on a 12-hour clock.\n",
        "\n",
        "* **Rechengesetze für Kongruenzen**: Kongruenzen darf man wie Gleichungen mit Rechnungen kombinieren. Dabei ist allerdings die Division nicht zulässig, man muss sich auf +, – und · beschränken.\n",
        "\n",
        "  * Sei $m \\in \\mathbb{N}$ ein Modul und seien $a, b, c, d \\in \\mathbb{Z}$ $a \\equiv b \\bmod m$ und $c \\equiv d \\bmod m \\Rightarrow\\left\\{\\begin{array}{l}a+c \\equiv b+d \\bmod m \\\\ a-c \\equiv b-d \\bmod m \\\\ a \\cdot c \\equiv b \\cdot d \\bmod m\\end{array}\\right.$"
      ]
    },
    {
      "cell_type": "markdown",
      "metadata": {
        "id": "486kSieLeRzl"
      },
      "source": [
        "**Äquivalenz- & Kongruenzrelation**"
      ]
    },
    {
      "cell_type": "markdown",
      "metadata": {
        "id": "Bs_5tDGJxHu3"
      },
      "source": [
        "* Siehe auch: Ordnungstheorie -> Typen von Ordnungsrelationen\n",
        "\n",
        "* Eine **Äquivalenzrelation** auf einer Menge $A \\neq \\emptyset$ ist eine zweistellige Relation $\\sim \\subseteq A \\times A,$ die folgende Bedingungen erfüllt:\n",
        "  * **Reflexivität**\n",
        "$\n",
        "(a, a) \\in \\sim \\text { für alle } a \\in A\n",
        "$\n",
        "  * **Symmetrie** $(a, b) \\in \\sim \\Longrightarrow(b, a) \\in \\sim$ für alle $a, b \\in A$\n",
        "  * **Transitivität** $(a, b) \\in \\sim$ und $(b, c) \\in \\sim \\Longrightarrow(a, c) \\in \\sim$ für alle $a, b, c \\in A$\n",
        "* Wie bei zweistelligen Relationen üblich, schreibt man statt $(a, b) \\in \\sim$ auch einfacher $a \\sim b,$ dann nehtnen diese Eigenschaften die oben genannte Form an. Das geordnete Paar $(A, \\sim)$ nennt man in diesem Fall auch Setoid oder E-set (englische Bezeichnung: extensional set, auch Bishop set). Eine Äquivalenzrelation ist somit eine zweistellige Relation, die **reflexiv, symmetrisch und transitiv** ist. **Eine Äquivalenzrelation teilt eine Menge restlos in disjunkte (elementfremde) Untermengen**, Äquivalenzklassen genannt. Die Klassenbildung mit Hilfe des Äquivalenzbegriffes ist grundlegend für viele mathematische Begriffsbildungen.\n",
        "* **Die [Kongruenzrelation](https://de.m.wikipedia.org/wiki/Kongruenzrelation) {[Algebraische_Struktur#Kongruenzrelationen](https://de.m.wikipedia.org/wiki/Algebraische_Struktur#Kongruenzrelationen) } ist für alle Modulo m auf der Menge $Z$ eine Äquivalenzrelation.** Die Kongruenzrelation ist letztlich deshalb eine Äquivalenzrelation, weil die grundlegende Eigenschaft „haben den gleichen Teilungsrest“ auf die Gleichheit zurückgreift, die eine Äquivalenzrelation ist. \n",
        "* In der Algebra **nennt man eine Äquivalenzrelation auf einer algebraischen Struktur eine Kongruenzrelation**, wenn die fundamentalen Operationen der algebraischen Struktur mit dieser Äquivalenzrelation verträglich sind. Eine Kongruenzrelation ist daher eine spezielle Äquivalenzrelation. Sie hat also die folgenden Eigenschaften:\n",
        "  1. Reflexivität\n",
        "$a \\equiv a \\quad(\\bmod m)$ für alle $a \\in \\mathbb{Z}$\n",
        "  2. Symmetrie $a \\equiv b \\quad(\\bmod m) \\Rightarrow b \\equiv a \\quad(\\bmod m)$ für alle $a, b \\in \\mathbb{Z}$\n",
        "  3. Transitivität\n",
        "$a \\equiv b \\quad(\\bmod m)$ und $b \\equiv c \\quad(\\bmod m) \\Rightarrow a \\equiv c \\quad(\\bmod m)$ für alle $a, b, c \\in \\mathbb{Z}$\n",
        "* Eine **Äquivalenzrelation auf einer Menge $A$ hat nicht notwendigerweise etwas mit der Struktur zu tun**, die darauf definiert ist. Von besonderem Interesse sind jedoch solche Äquivalenzrelationen $\\equiv$ , deren Quotientenabbildung $\n",
        "\\mathrm{q}_{\\mathrm{z}}: A \\rightarrow A / \\equiv, a \\mapsto[a]_{\\equiv}\n",
        "$ **mit der Struktur auf $A$ verträglich bzw. ein Homomorphismus ist**, weil dann die von $\\mathrm{q}_{=}$ erzeugte Struktur auf der [Quotientenmenge](https://de.wikipedia.org/wiki/Äquivalenzrelation#Quotientenmenge_und_Partition) $A / \\equiv$ von der gleichen Art ist wie die von $A$. **Eine solche Äquivalenzrelation $\\equiv$ nennt man eine Kongruenzrelation auf der strukturierten Menge $A$.**\n",
        "  * Die Quotientengruppe G/N ist homomorph zur Gruppe G ( ??? )\n",
        "* Insbesondere sind dann auch alle zur Struktur gehörenden Funktionen mit $\\equiv$ verträglich."
      ]
    },
    {
      "cell_type": "markdown",
      "metadata": {
        "id": "SmN4RyEJfHcj"
      },
      "source": [
        "**Groups & Subgroups**"
      ]
    },
    {
      "cell_type": "markdown",
      "metadata": {
        "id": "Gfs10URbe-RG"
      },
      "source": [
        "* Sei $\\mathbb{Z}$ die Gruppe der ganzen Zahlen mit der Addition als Gruppenoperation.\n",
        "\n",
        "* Man kann fur diese Gruppe verschiedene (unendlich viele) **[Untergruppen](https://de.m.wikipedia.org/wiki/Untergruppe) (Subgroups)** bilden: 2$\\mathbb{Z}$, 3$\\mathbb{Z}$, 4$\\mathbb{Z}$, 5$\\mathbb{Z}$, 6$\\mathbb{Z}$, 7$\\mathbb{Z}$, ..\n",
        "\n",
        "* Additional Information:\n",
        "\n",
        "  * A subgroup is a subset that‘s also a group, like H $\\leq$ G. And a \"proper subset\" is: H < G. (Beispiel: Die ganzen Zahlen $\\mathbb {Z} $ sind bezüglich der Addition eine Untergruppe der rationalen Zahlen $\\mathbb {Q} $.)\n",
        "\n",
        "  * Two standard subgroups of G are G itself and the Trivial Group = {e} with one element only, which is the identity element. Every group has at least 2 sub groups: the identity element {e} and the entire group G (**these are technically normal subgroups / Normalteiler, but aren't very interesting**). If a group has no other normal subgroups then these two, than it's called a **simple group**. A simple group does not have any factor (quotient) groups, but they are the building blocks of other groups.\n",
        "\n",
        "  * **Langrange‘s theorem**: order of G is the number of elements in G, or: if H $\\leq$ G, then the order of H divides the order of G = |G|. Nebenklassen werden benutzt, um den [Satz von Lagrange](https://de.m.wikipedia.org/wiki/Satz_von_Lagrange) zu beweisen, um die Begriffe [Normalteiler](https://de.m.wikipedia.org/wiki/Normalteiler) und [Faktorgruppe](https://de.m.wikipedia.org/wiki/Faktorgruppe) zu erklären und um Gruppenoperationen zu studieren."
      ]
    },
    {
      "cell_type": "markdown",
      "metadata": {
        "id": "xPLl5-EjjzXT"
      },
      "source": [
        "**Normal Subgroups (Normalteiler)**"
      ]
    },
    {
      "cell_type": "markdown",
      "metadata": {
        "id": "JR_H2Wihj1zF"
      },
      "source": [
        "* Die Gruppe $\\mathbb{Z}$ ist **abelsch** (kommutativ) und somit ist jede Untergruppe auch ein **[Normalteiler](https://de.wikipedia.org/wiki/Normalteiler) bzw. [Normal Subgroup](https://en.wikipedia.org/wiki/Normal_subgroup)**.\n",
        "\n",
        "* WICHTIG: Normalteiler sind spezielle Untergruppen, und ihre Bedeutung liegt vor allem darin, **dass sie genau die Kerne von Gruppenhomomorphismen sind** (=Losungsmenge ist Null, also Null als Rest !). Normal Subgroups heissen auch \"invariant or self-conjugate subgroups\".\n",
        "\n",
        "  * Kern: Lösungsmenge der homogenen linearen Gleichung f(x) = 0.\n",
        "\n",
        "  * die Äquivalenzklasse hast den Rest Null, alles anderen sind Nebenklassen, aber diese spezifische Untergruppe ist der Normalteiler\n",
        "\n",
        "* Additional Information:\n",
        "\n",
        "  * Ein Normalteiler N < G ist eine Untergruppe mit der speziellen Eigenschaft aN=Na für alle a in G.\n",
        "\n",
        "  * Normal subgroups and quotient groups are among the most useful devices in abstract algebra. **Normal subgroups determine what kinds of homomorphisms are possible from a group G to other groups (f : G -> H)**\n",
        "\n",
        "  * Die Bezeichnung „…teiler“ in Normalteiler bezieht sich darauf, dass sich aus einer Gruppe G und jedem ihrer Normalteiler N eine Faktorgruppe G/N bilden lässt. Diese [Faktorgruppen](https://de.wikipedia.org/wiki/Faktorgruppe) sind homomorphe Bilder von G, **und jedes homomorphe Bild von G ist zu einer solchen Faktorgruppe G/N isomorph**.\n",
        "\n",
        "    *  ( ?? ) See fundamental theorem on homomorphisms of groups as \"**Every homomorphic image of a group is isomorphic to a quotient group**\". [Source](https://en.m.wikipedia.org/wiki/Fundamental_theorem_on_homomorphisms)\n",
        "\n",
        "    * ![Image](https://upload.wikimedia.org/wikipedia/commons/thumb/3/30/Fundamental_Homomorphism_Theorem.svg/210px-Fundamental_Homomorphism_Theorem.svg.png)\n",
        "\n",
        "  * And for finite groups you can find a chain of normal subgroups called a \"composition series\" which acts as a kind of 'prime factorization' of the group (1 ◃ N1, ◃ N2 ◃ ... ◃ Nr ◃ G ). Normal subgroups can also be used to study fields (Körper), i.e. in Galois theory (Field extension K / F)"
      ]
    },
    {
      "cell_type": "markdown",
      "metadata": {
        "id": "tBvAVvl7fMms"
      },
      "source": [
        "**Congruence Classes & Cosets (Nebenklassen)**"
      ]
    },
    {
      "cell_type": "markdown",
      "metadata": {
        "id": "O08cPooCfDoz"
      },
      "source": [
        "* Nehmen wir jetzt die Untergruppe 5$\\mathbb{Z}$ von $\\mathbb{Z}$ (integers mod 5), die aus allen Vielfachen von 5 besteht (the subgroup of the multiples of 5).\n",
        "\n",
        "* Wir bilden jetzt die **Congruence Classes** (Äquivalenzklassen) aus den 5 Sets der Reste (remainders) when dividing by 5 (remainder 0, 1, 2, 3, 4). Technically we use the normal subgroup to divide a group into **cosets**:\n",
        "\n",
        "  * 5$\\mathbb{Z}$ + Rest 0 = $\\overline{0} : \\{\\ldots-10,-5,0,5,10 \\ldots\\}$ **(Normal) Subgroup**, which is technically also a Coset 0+ 5 $\\mathbb{Z}$\n",
        "\n",
        "  * 5 $\\mathbb{Z}$ + Rest 1 = $\\overline{1} : \\{\\ldots-9,-4,1,6,11 \\ldots\\}$ **Coset 1+ 5 $\\mathbb{Z}$**\n",
        "\n",
        "  * 5 $\\mathbb{Z}$ + Rest 2 = $\\overline{2} : \\{\\ldots-8,-3,2,7,12 \\ldots\\}$ **Coset 2+ 5 $\\mathbb{Z}$**\n",
        "\n",
        "  * 5 $\\mathbb{Z}$ + Rest 3 = $\\overline{3} : \\{\\ldots-7,-2,3,8,13 \\ldots\\}$ **Coset 3+ 5 $\\mathbb{Z}$**\n",
        "\n",
        "  * 5 $\\mathbb{Z}$ + Rest 4 = $\\overline{4} : \\{\\ldots-6,-1,4,9,14 \\ldots\\}$ **Coset 4+ 5 $\\mathbb{Z}$**\n",
        "\n",
        "* Die Congruence Classes mit einem Rest anders als 0 (also 1, 2, 3 und 4), sind **keine Subgroups**, sondern nur **Coset (Nebenklasse)**, weil: it's not closed under addition, has no inverse and doesn't contain the identity element. (**Difference between Subgroup and subset: Subgroup has the idenity element**)\n",
        "\n",
        "* Additional Information:\n",
        "  * Cosets are there to define how many (finite) possible subgroup exist in a group\n",
        "  * There are **two types of cosets**: left cosets and right cosets (linke und rechte Nebenklasse). Cosets (of either type) have the same number of elements (cardinality) as does H. \n",
        "  * Furthermore, H itself is a coset, which is both a left coset and a right coset. The number of left cosets of H in G is equal to the number of right cosets of H in G. The common value is called the index of H in G and is usually denoted by [G : H]."
      ]
    },
    {
      "cell_type": "markdown",
      "metadata": {
        "id": "xkZyUUzbfTJN"
      },
      "source": [
        "**Quotient Group (Faktorgruppe)**"
      ]
    },
    {
      "cell_type": "markdown",
      "metadata": {
        "id": "7tLdl_QVInUz"
      },
      "source": [
        " * If we treat the 5 sets of remainders (the Congruence classes) **as if they were numbers**, then we have **a group with 5 elements**, the **Quotient Group** (Faktorgruppe)\n",
        "\n",
        "  * $\\mathbb{Z}$ mod 5 = {$\\overline{0}$, $\\overline{1}$, $\\overline{2}$, $\\overline{3}$, $\\overline{4}$}\n",
        "\n",
        "* Quotient Group besteht die aus allen **Nebenklassen (Cosets)** der Untergruppe 5$\\mathbb{Z}$. Man sagt auch: The group of cosets form the quotient group, and we can treat these cosets as elements in a new group: the **coset group**.\n",
        "\n",
        "* Diese Quotient Group bildet wiederum selbst eine **group under addition**.\n",
        " * The set of the multiples of 5 act as the idenityt element = $\\overline{0}$ \n",
        " * and each set has an inverse\n",
        " * Each set is closed under +\n",
        "\n",
        "* However, the quotient group is not a subgroup of $\\mathbb{Z}$. It's an entirely different group.\n",
        "\n",
        "* Additional Information:\n",
        "\n",
        "  * **Die Faktorgruppe oder Quotientengruppe ist eine Gruppe, die mittels einer Standardkonstruktion aus einer gegebenen Gruppe $G$ unter Zuhilfenahme eines Normalteilers $N \\leq G$ gebildet wird. Sie wird mit $G / N$ bezeichnet und ist die Menge der Nebenklassen (Cosets).** Sie unterteilt eine Menge in Äquivalenzklassen bzw. eine Gruppe in Restklassen / Nebenklassen.\n",
        "\n",
        "  * Die **Menge der Restklassen (Äquivalenzklassen) heisst Quotientenmenge bzw. Faktormenge**. In der Gruppentheorie heissen Restklassen 'Nebenklassen' (Cosets) und die Menge der Nebenklassen zu einer Gruppe heißt Faktorgruppe oder Quotientengruppe\n",
        "\n",
        "  * Der Faktorraum ist die Menge all dieser Äquivalenzklassen (Nebenklassen). Siehe auch: \n",
        "   * [Quotient Set](https://ncatlab.org/nlab/show/quotient+set) bzw. [Quotientenmenge](https://de.wikipedia.org/wiki/Äquivalenzrelation#Quotientenmenge_und_Partition)\n",
        "   * [Quotient Space](https://en.m.wikipedia.org/wiki/Quotient_space_(topology) bzw. [Faktorraum](https://de.wikipedia.org/wiki/Faktorraum)\n",
        "   * Quotient Topology bzw. ([Quotiententopologie](https://de.wikipedia.org/wiki/Quotiententopologie) \n",
        "   * [Quotient Category](https://en.m.wikipedia.org/wiki/Quotient_category)"
      ]
    },
    {
      "cell_type": "markdown",
      "metadata": {
        "id": "1qR1zSPuanDX"
      },
      "source": [
        "**Mathematische Definition der Nebenklasse**"
      ]
    },
    {
      "cell_type": "markdown",
      "metadata": {
        "id": "CNr_N7UVamHT"
      },
      "source": [
        "Definiert man auf der Gruppe $(G, *)$ mit einer Untergruppe $(H, *)$ die Relation $\\sim$ durch\n",
        "\n",
        "$\n",
        "b \\sim a: \\Longleftrightarrow \\exists h \\in H: b=a * h\n",
        "$\n",
        "\n",
        "erhält man eine Äquivalenzrelation auf $G,$ die die Menge $G$ partitioniert. Die Äquivalenzklasse (englisch: coset) zu einem Element $a \\in G$ (d. h. die Menge aller Elemente $b$, die zu $a$ in der Relation $b \\sim a$ stehen), ist die Menge\n",
        "\n",
        "$\n",
        "\\{b \\in G \\mid b \\sim a\\}=\\{a * h \\mid h \\in H\\}\n",
        "$\n",
        "\n",
        "Für diese Menge schreibt man $a * H, a H$ oder auch kurz $\\bar{a},$ wenn klar ist, durch welchen Vorgang die Nebenklassen gebildet werden. Da diese Menge alle Elemente von $G$ enthäit, die dadurch entstehen, dass die Elemente aus $H$ links mit dem Element $a$ verknüpft werden, heißt sie (genauer) die Linksnebenklasse, Alternativbezeichnung Linksrest klasse, von $H$ nach dem Element $a$.\n",
        "\n",
        "Wenn man andererseits eine Relation $\\sim$ durch\n",
        "\n",
        "$\n",
        "b \\sim a: \\Longleftrightarrow \\exists h \\in H: b=h * a\n",
        "$\n",
        "\n",
        "definiert, dann ist dies im Allgemeinen eine andere Äquivalenzrelation und die Menge der zu a àquivalenten Elemente in $G$ jetzt\n",
        "\n",
        "$\n",
        "H a:=\\{h * a \\mid h \\in H\\}\n",
        "$\n",
        "\n",
        "die durch Rechtsverknüpfung der Elemente aus $H$ mit dem Element $a$ entsteht. Sie wird mit $H * a$ oder $H a$ bezeichnet und Rechtsnebenklasse, Alternativbezeichnung Rechtsrestklasse, von $H$ nach dem Element $a$\n",
        "genannt.\n",
        "\n",
        "Für die Menge aller Links- bzw. Rechtsnebenklassen wird die Notation\n",
        "\n",
        "$\n",
        "G / H:=\\{g H \\mid g \\in G\\}\n",
        "$\n",
        "\n",
        "bzw.\n",
        "\n",
        "$\n",
        "H \\backslash G:=\\{H g \\mid g \\in G\\}\n",
        "$\n",
        "\n",
        "verwendet."
      ]
    },
    {
      "cell_type": "markdown",
      "metadata": {
        "id": "bGrSztFwaURh"
      },
      "source": [
        "**Rechenbeispiel**"
      ]
    },
    {
      "cell_type": "markdown",
      "metadata": {
        "id": "y-EqF-NFaN0s"
      },
      "source": [
        "Dies sind alle **[Nebenklassen](https://de.wikipedia.org/wiki/Gruppentheorie#Nebenklassen)** von $6 \\mathbb{Z},$ wie man leicht sehen kann, da sie die Gruppe $\\mathbb{Z}$ partitionieren und:\n",
        "\n",
        "$6 \\mathbb{Z}+6=6 \\mathbb{Z}+0$,\n",
        "\n",
        "$6 \\mathbb{Z}+7=6 \\mathbb{Z}+1$,\n",
        "\n",
        "$6 \\mathbb{Z}+8=6 \\mathbb{Z}+2$\n",
        "\n",
        "und so weiter. \n",
        "\n",
        "Da die Operation in $\\mathbb{Z}$ die Addition ist, nennt man die Addition der Nebenklassen auch Addition und es gilt beispielsweise $(6 \\mathbb{Z}+3)+(6 \\mathbb{Z}+4)=6 \\mathbb{Z}+7=6 \\mathbb{Z}+1 .$\n",
        "\n",
        "1. Normalteiler N ist eine Untergruppe von G (N, $\\circ$ ) $\\subseteq$ (G, $\\circ$ ) (die Verknüpfung ist die gleiche)\n",
        "\n",
        "2. gN = Ng $\\forall$ g $\\in$ G\n",
        "\n",
        "\n",
        "Beispiel:\n",
        "\n",
        "N := (5 * $Z$, +) und G := ($Z$, +)\n",
        "\n",
        "g = 2\n",
        "\n",
        "dann: \n",
        "\n",
        "**Linksnebenklasse**: 2 * N := {..., 2+0, 2+5, 2+10,...)\n",
        "\n",
        "**Rechtsnebenklasse**: N * 2 := {..., 0+2, 5+2, 10+2,..}\n",
        "\n",
        "**In einer kommutativen Gruppe sind alle Untergruppen automatisch ein Normalteiler** (wenn ich aber eine andere Gruppe als $Z$ wähle, kann es sein, dass es nicht kommutativ ist.)\n",
        "\n",
        "Beispiel ohne kommutative Gruppe: \n",
        "\n",
        "N = Alt (3) - alternierende Gruppe 3 $\\subseteq$ Sym(3) - symmetrische Gruppe = {id, (12), (13), (23), (123), (132)}"
      ]
    },
    {
      "cell_type": "markdown",
      "metadata": {
        "id": "kJ6FHLskwKZj"
      },
      "source": [
        "![alternativer Text](https://raw.githubusercontent.com/deltorobarba/repo/master/integersmod5b.png)"
      ]
    },
    {
      "cell_type": "markdown",
      "metadata": {
        "id": "BI5EL0fQwLuK"
      },
      "source": [
        "![alternativer Text](https://raw.githubusercontent.com/deltorobarba/repo/master/integersmod5c.png)"
      ]
    },
    {
      "cell_type": "markdown",
      "metadata": {
        "id": "k7wrFx7Nmvvi"
      },
      "source": [
        "#### **Homomorphiesatz**"
      ]
    },
    {
      "cell_type": "markdown",
      "metadata": {
        "id": "35B6lF4hR7zq"
      },
      "source": [
        "**Homomorphiesatz (Fundamental Theorem on Homomorphism)**: Ist $f:(G, \\circ) \\rightarrow(H, \\star)$ ein Gruppenhomomorphismus, dann ist der Kern $N:=\\operatorname{ker}(f)$ ein Normalteiler von $G$ (Rest ist Null) und die Faktorgruppe $G / N$ ist isomorph zum Bild $f(G)$. Ein entsprechender isomorphismus ist gegeben durch $\\tilde{f}: G / N \\rightarrow f(G) ; g N \\mapsto f(g)$. [Source](https://de.wikipedia.org/wiki/Homomorphiesatz).\n",
        "\n",
        "**The image of a homomorphism is isomorphic to the quotient by the kernel.** [Source](https://en.m.wikipedia.org/wiki/Kernel_(algebra))"
      ]
    },
    {
      "cell_type": "markdown",
      "metadata": {
        "id": "DkGD0Vtcjgyg"
      },
      "source": [
        "**Normalteiler sind Kerne eines Gruppenhomorphismus**"
      ]
    },
    {
      "cell_type": "markdown",
      "metadata": {
        "id": "Hdj2HFEoJpaj"
      },
      "source": [
        "\n",
        "\n",
        "![cc](https://raw.githubusercontent.com/deltorobarba/repo/master/homomorphy.jpg)"
      ]
    },
    {
      "cell_type": "markdown",
      "metadata": {
        "id": "K8h4nrV7VpvU"
      },
      "source": [
        "**Faktorgruppe nach Kernen von Homomorphismen**"
      ]
    },
    {
      "cell_type": "markdown",
      "metadata": {
        "id": "bs78AK36ySEe"
      },
      "source": [
        "![Image](https://upload.wikimedia.org/wikipedia/commons/thumb/3/30/Fundamental_Homomorphism_Theorem.svg/210px-Fundamental_Homomorphism_Theorem.svg.png)\n",
        "\n",
        "If K = ker(f) we get the [first isomorphism theorem](https://en.m.wikipedia.org/wiki/Isomorphism_theorems) = der Normalteiler K ist der Kern ker(f) des Gruppenhomomorphismus. \"**Every homomorphic image of a group is isomorphic to a quotient group**\". [Source](https://en.m.wikipedia.org/wiki/Fundamental_theorem_on_homomorphisms)"
      ]
    },
    {
      "cell_type": "markdown",
      "metadata": {
        "id": "YoY8jEdpspp6"
      },
      "source": [
        "**Bedingungen:**\n",
        "\n",
        "* Let $G$ and $H$ be two groups.\n",
        "* and let $f$ : $G \\rightarrow H$ be a group homomorphism ([Gruppenhomomorphismus](https://de.wikipedia.org/wiki/Gruppenhomomorphismus)).\n",
        "* and let $K$ be a normal subgroup (Normalteiler) in $G$ and $\\varphi$ the natural surjective homomorphism $G \\rightarrow G / K$ (where $G / K$ is a quotient group). Diese Faktorgruppen sind homomorphe Bilder von G und **jedes homomorphe Bild von G ist zu einer solchen Faktorgruppe G/K isomorph**."
      ]
    },
    {
      "cell_type": "markdown",
      "metadata": {
        "id": "cvJh7PTbSHjV"
      },
      "source": [
        "**Then:**\n",
        "\n",
        "1. **Dann ist der Kern von $f$ ein Normalteiler von $G$.**\n",
        "  * Normalteiler sind die [Kerne](https://de.m.wikipedia.org/wiki/Kern_(Algebra)) von Gruppenhomomorphismen, weshalb dann klar ist, dass umgekehrt der Kern von $f$ ein Normalteiler von $G$ ist.\n",
        "\n",
        "  * If $K$ is a **subset** of ker $(f)$ then there exists a unique homomorphism $h: G / K \\rightarrow H$ such that $f=h$ $\\varphi$. In other words, the natural projection $\\varphi$ is universal among homomorphisms on $G$ that map $K$ to the identity element.\n",
        "\n",
        "2. **und daher kann die Faktorgruppe $G /$ ker $f$ gebildet werden.** \n",
        "\n",
        "3. **Nach dem [Homomorphiesatz](https://de.wikipedia.org/wiki/Homomorphiesatz) ist diese Faktorgruppe $G /$ ker $f$ isomorph zum Bild von $f$, das eine Untergruppe von $H$ ist.** \n",
        "  * The image of $f$ is isomorphic to the quotient group $G /$ ker ($f$). And in particular, if $f$ is surjective then $H$ is isomorphic to $G$ / ker $(f)$. [Source](https://en.m.wikipedia.org/wiki/Isomorphism_theorems#First_Isomorphism_Theorem_4)\n",
        "  * The image of $f$ is hierbei a subgroup of $H$."
      ]
    },
    {
      "cell_type": "markdown",
      "metadata": {
        "id": "rbfSWZ_CTu9b"
      },
      "source": [
        "![cc](https://upload.wikimedia.org/wikipedia/commons/thumb/7/7d/Group_homomorphism_ver.2.svg/500px-Group_homomorphism_ver.2.svg.png)\n",
        "\n",
        "*Image of a group homomorphism (h) from G (left) to H (right).*\n",
        "\n",
        "*The smaller oval inside H is the image of h. N is the kernel of h and aN is a coset of N.* [Source](https://en.m.wikipedia.org/wiki/Group_homomorphism)"
      ]
    },
    {
      "cell_type": "markdown",
      "metadata": {
        "id": "6D1hSxtNH_94"
      },
      "source": [
        "See also: https://mathepedia.de/Kern_und_Bild_Homomorphismus.html"
      ]
    },
    {
      "cell_type": "markdown",
      "metadata": {
        "id": "aHhiMrLVxXlQ"
      },
      "source": [
        "**Homomorphiesatz (allgemein)**: \n",
        "\n",
        "* Aus einer Abbildung $f$ zwischen zwei Gruppen $G$ und $H$, die weder injektiv noch surjektiv ist, wollen wir eine bijektive Abbildung herleiten.\n",
        "\n",
        "* Schritt 1: Das macht man, indem man zuerst auf der rechten Seite alle Elemente ausschliesst, die nicht Teil der Zielmenge sind, und sich nur auf die 'getroffenen' Elemente fokussiert (The image of $f$ is hierbei a subgroup of $H$.)\n",
        "\n",
        "* Schritt 2: Jetzt hat man nur noch das Problem auf der linken Seite, dass mehrere Startelemente in $G$ auf ein und dasselbe Zielelement in $H$ verweisen. Man betrachtet die Startelemente dann einfach als identisch. Das macht man in dem man $G$ umwandelt in $G$ / Kern ($f$) (man bildet die Faktorgruppe, und spricht aus: modulo Kern von f. Der Quotientenvektorraum von $G$ nach kern von $f$. \n",
        "  * Das geht, weil $f$ ein Homomorphismus ist\n",
        "  * Das bedeutet, wenn zwei Elemente a und b im Start auf ein Element im Ziel verweisen, dann unterscheiden sie sich um ein Kernelement. Heisst, a minus b ist ein Element, das auf 0 geschickt wird, und damit ein Kernelement.\n",
        "  * Und wenn ich jetzt modulo des kerns rechne, dann tue ich so, als ob es die Differenz nicht gibt. Weil es bedeutet a =b. Der Quotientenraum ist ein kunstlich geschaffener Raum, wo a und b identisch gemacht wurden (kongruent).\n",
        "  * Remember aus Modulorechnung: Zwei Zahlen sind kongruent (modulo des Moduls m), wenn ihre Differenz durch m teilbar ist. Hier ist das Modulo der Kern. Also Rest muss 0 sein.\n",
        "  * Modulo n (Reste berechnen, hierbei 0): die Differenz zweier Elemente ist teilbar durch n. Die beiden Elemente sind dann kongruent (identisch).\n",
        "  * $G$ modulo Kern $f$ ist isomorph (identisch =bijektiv und homomorph)) zu Bild $f$, das in $H$ liegt."
      ]
    },
    {
      "cell_type": "markdown",
      "metadata": {
        "id": "WOZ2IYx2MNnz"
      },
      "source": [
        "Jäger & Hasen: https://youtu.be/QA9rrDMlaHc"
      ]
    },
    {
      "cell_type": "markdown",
      "metadata": {
        "id": "bvH3TA1fnRkM"
      },
      "source": [
        "**Important basis: What is a Kernel of a Group homomorphism?**: \n",
        "\n",
        "* A homomorphism between two groups does not have to be a one-to-one function. \n",
        "\n",
        "* If it's not a one-to-one function, then **there's a group associated with the homomorphism which measures the degree to which the function is not an injection. This group is called the kernel**. (See video [The Kernel of a Group Homomorphism](https://www.youtube.com/watch?v=TngePpJ_x-I&list=WL&index=23))\n",
        "\n",
        "* Homomorphisms send identity elements from one group to identity elements of another, and same with inverses (a 1 - 1 relationship)\n",
        "\n",
        "* Now suppose f: $G$ -> $H$ is not 1-1. Then there are at least two elements in G which map to the same element in H, like: x1, x1, .. $\\mapsto$ y\n",
        "\n",
        "> Suppose $f: G \\rightarrow H$ is not $1-1$\n",
        "$x_{1}, x_{2}, \\ldots \\rightarrow y$\n",
        "\n",
        "* This means f(x1) = y and f(x2) = y as well. Now watch what happens if we multiply all of these equalities by f(x1) inverses. \n",
        "\n",
        "> $f\\left(x_{1}\\right)=y \\Rightarrow f\\left(x_{1}\\right) \\diamond f\\left(x_{1}^{-1}\\right)=y \\diamond f\\left(x_{1}^{-1}\\right)$\n",
        "\n",
        "> $f\\left(x_{2}\\right)=y \\Rightarrow f\\left(x_{2}\\right) \\diamond f\\left(x_{1}^{-1}\\right)=y^{\\wedge} f\\left(x_{1}^{-1}\\right)$\n",
        "\n",
        "* Since homomorphisms send inverses to inverses, f(x1) inverse equals y inverse. This allows us to simplify the right hand sides:\n",
        "\n",
        "> $f\\left(x_{1}\\right)=y \\Rightarrow f\\left(x_{1}\\right) \\diamond f\\left(x_{1}^{-1}\\right)=y^{\\diamond} y^{-1}$\n",
        "\n",
        "> $f\\left(x_{2}\\right)=y \\Rightarrow f\\left(x_{2}\\right) \\diamond f\\left(x_{1}^{-1}\\right)=y^{\\diamond} y^{-1}$\n",
        "\n",
        "* Next we can combine the left hand sides, because F is a homomorphism.\n",
        "\n",
        "> $f\\left(x_{1}\\right)=y \\Rightarrow f\\left(x_{1}\\right) \\diamond f\\left(x_{1}^{-1}\\right)$ = 1 $_{H}$\n",
        "\n",
        "> $f\\left(x_{2}\\right)=y \\Rightarrow f\\left(x_{2}\\right) \\diamond f\\left(x_{1}^{-1}\\right)$ = 1 $_{H}$\n",
        "\n",
        "* This shows that there are multiple elements in G which all map to the identity in H. These elements are called the Kernel of f:\n",
        "\n",
        "> $\\operatorname{ker}(f)=\\left\\{x \\in G \\mid f(x)=1_{H}\\right\\}$"
      ]
    },
    {
      "cell_type": "markdown",
      "metadata": {
        "id": "9rdqCbukXVeb"
      },
      "source": [
        "*Diagram of the fundamental theorem on homomorphisms where f is a homomorphism, N is a normal subgroup of G and e is the identity element of G.*\n",
        "\n",
        "![Image](https://upload.wikimedia.org/wikipedia/commons/thumb/2/25/Diagram_of_the_fundamental_theorem_on_homomorphisms.svg/440px-Diagram_of_the_fundamental_theorem_on_homomorphisms.svg.png)"
      ]
    },
    {
      "cell_type": "markdown",
      "metadata": {
        "id": "a46tUa1NSliV"
      },
      "source": [
        "![Image](https://upload.wikimedia.org/wikipedia/commons/thumb/3/30/Fundamental_Homomorphism_Theorem.svg/210px-Fundamental_Homomorphism_Theorem.svg.png)\n",
        "\n",
        "The situation is described by this commutative diagram. By setting K = ker(f) we immediately get the [first isomorphism theorem](https://en.m.wikipedia.org/wiki/Isomorphism_theorems). We can write the statement of the fundamental theorem on homomorphisms of groups as \"**Every homomorphic image of a group is isomorphic to a quotient group**\".\n",
        "\n",
        "[Source](https://en.m.wikipedia.org/wiki/Fundamental_theorem_on_homomorphisms)"
      ]
    },
    {
      "cell_type": "markdown",
      "metadata": {
        "id": "suVaLAsuRUln"
      },
      "source": [
        "Sources: [Fundamental theorem on homomorphisms](https://en.m.wikipedia.org/wiki/Fundamental_theorem_on_homomorphisms) & [Homomorphiesatz](https://de.wikipedia.org/wiki/Homomorphiesatz) & [Quotient (universal algebra)](https://en.m.wikipedia.org/wiki/Quotient_(universal_algebra)) & [Exact sequence](https://en.m.wikipedia.org/wiki/Exact_sequence) & [Isomorphism theorems](https://en.m.wikipedia.org/wiki/Isomorphism_theorems#First_Isomorphism_Theorem_4)"
      ]
    },
    {
      "cell_type": "markdown",
      "metadata": {
        "id": "AyQ5Nu-KajRC"
      },
      "source": [
        "#### **Exact Sequences**\n",
        "\n"
      ]
    },
    {
      "cell_type": "markdown",
      "metadata": {
        "id": "X_4zz-p654J7"
      },
      "source": [
        "In the context of group theory, a sequence\n",
        "\n",
        "$\n",
        "G_{0} \\stackrel{f_{1}}{\\longrightarrow} G_{1} \\stackrel{f_{2}}{\\longrightarrow} G_{2} \\stackrel{f_{3}}{\\longrightarrow} \\cdots \\stackrel{f_{n}}{\\longrightarrow} G_{n}\n",
        "$\n",
        "\n",
        "of groups and group homomorphisms is called exact if the image of each homomorphism is equal to the kernel of the next:\n",
        "\n",
        "$\n",
        "\\operatorname{im}\\left(f_{k}\\right)=\\operatorname{ker}\\left(f_{k+1}\\right)\n",
        "$\n",
        "\n",
        "The sequence of groups and homomorphisms may be either finite or infinite."
      ]
    },
    {
      "cell_type": "markdown",
      "metadata": {
        "id": "ap7AlevTlXx5"
      },
      "source": [
        "![ccc](https://upload.wikimedia.org/wikipedia/commons/thumb/b/bc/Illustration_of_an_Exact_Sequence_of_Groups.svg/1066px-Illustration_of_an_Exact_Sequence_of_Groups.svg.png)"
      ]
    },
    {
      "cell_type": "markdown",
      "metadata": {
        "id": "gA046uzEavah"
      },
      "source": [
        "Img (g) = Ker (f)"
      ]
    },
    {
      "cell_type": "markdown",
      "metadata": {
        "id": "W7G_37Vg3lw0"
      },
      "source": [
        "https://en.wikipedia.org/wiki/Exact_sequence"
      ]
    },
    {
      "cell_type": "markdown",
      "metadata": {
        "id": "17e4W4wJliiW"
      },
      "source": [
        "Illustration of an exact sequence of groups $G_{i}$ using Venn diagrams. Each group homomorphism $f_{i}: G_{i-1} \\rightarrow G_{i}$ maps $G_{i-1}$ to the kernel of the next homomorphism. This is depicted by the reduction of the subgroups from left to right. [Source](https://en.m.wikipedia.org/wiki/Exact_sequence)"
      ]
    },
    {
      "cell_type": "markdown",
      "metadata": {
        "id": "OKIhgJWRan1c"
      },
      "source": [
        "https://youtu.be/rXEiJhBHJsU"
      ]
    },
    {
      "cell_type": "markdown",
      "metadata": {
        "id": "LH1j8Uf6bSsb"
      },
      "source": [
        "https://youtu.be/AZnJFyDOq3E"
      ]
    },
    {
      "cell_type": "markdown",
      "metadata": {
        "id": "smn_5J7gbVg7"
      },
      "source": [
        "https://youtu.be/kCPYALlpECk"
      ]
    },
    {
      "cell_type": "markdown",
      "metadata": {
        "id": "8cZ5qO4OUyyX"
      },
      "source": [
        "#### **Homology**"
      ]
    },
    {
      "cell_type": "markdown",
      "metadata": {
        "id": "PqL7MmR9uT7x"
      },
      "source": [
        "##### **Overview**"
      ]
    },
    {
      "cell_type": "markdown",
      "metadata": {
        "id": "Nx0d35JJVfAr"
      },
      "source": [
        "![bb](https://raw.githubusercontent.com/deltorobarba/repo/master/simplicial_homology_04.png)"
      ]
    },
    {
      "cell_type": "markdown",
      "metadata": {
        "id": "IXK-wChzU990"
      },
      "source": [
        "Vergleich mit paper von Krishna 2017\n",
        "\n",
        "5 kongruent 11 modulo 3, weil 3 * 1 + 2 = 5, und 3 * 3 + 2 + 11, Reste müssen identisch sein, sowie 17 etc.\n",
        "\n",
        "- drei Basiselemente: 0, 1 und 2\n",
        "- 3 ist wie Bp, also Image (element des vektorraums, und ist linear, weil zB multiplizier mit Skala bleibt im vektorraum)\n",
        "- Rest ware Hp, also 2 (das Loch)\n",
        "- 5 und 11 und 17 sind Zp (Kern)\n",
        "- Berate alle Objekte aus der Filtration\n",
        "- Ein element aus Zp was plus ein Element aus Bp"
      ]
    },
    {
      "cell_type": "markdown",
      "metadata": {
        "id": "FRJfMbNAxXJd"
      },
      "source": [
        "[Vergleich mit paper von Krishna 2017]\n",
        "\n",
        "5 kongruent 11 und 17 etc. modulo 3, weil (3 * 1) + 2 = 5, und (3 * 3) + 2 = 11. Reste müssen identisch sein.\n",
        "* **Zp (Kern)**: 5, 11, 17 etc. (alle Objekte aus einer Filtration zB in Cp, die kongruent zueinander sind, **weil deren Differenz ein ganzzahliges Vielfaches von Bp (modulo) ist)**.\n",
        "* **Hp (Hom)**: 2 (= das Loch)\n",
        "* **Bp (Img)**: 3 (modulo)\n",
        "- drei Basiselemente: 0, 1 und 2 (?)"
      ]
    },
    {
      "cell_type": "markdown",
      "metadata": {
        "id": "mBKyi-SgU2Bd"
      },
      "source": [
        "![bb](https://raw.githubusercontent.com/deltorobarba/repo/master/simplicial_homology_01.png)"
      ]
    },
    {
      "cell_type": "markdown",
      "metadata": {
        "id": "kPr5RgCXVHOM"
      },
      "source": [
        "* Zp (Ker): 5, 11, 17 etc. (alle Objekte aus einer Filtration zB in Cp, die kongruent zueinander sind, weil deren Differenz ein ganzzahliges Vielfaches von Bp (modulo) ist).\n",
        "* Hp (Hom): 2 (= das Loch)\n",
        "* Bp (Img): 3 (modulo)"
      ]
    },
    {
      "cell_type": "markdown",
      "metadata": {
        "id": "5uljR-n38GsX"
      },
      "source": [
        "**Vergleich mit exact sequence: im⁡( f k ) = ker( f k + 1 ) bzw. Zp = Bp mit Hp = 0**"
      ]
    },
    {
      "cell_type": "markdown",
      "metadata": {
        "id": "ZFDP2ORM8EGQ"
      },
      "source": [
        "![cc](https://upload.wikimedia.org/wikipedia/commons/thumb/b/bc/Illustration_of_an_Exact_Sequence_of_Groups.svg/640px-Illustration_of_an_Exact_Sequence_of_Groups.svg.png)"
      ]
    },
    {
      "cell_type": "markdown",
      "metadata": {
        "id": "Y4ATLZTOVJj5"
      },
      "source": [
        "* **Äquivalenzklassen**: überflüssige Elemente entfernen, die sonst alle zum gleichen Ergebnis führen"
      ]
    },
    {
      "cell_type": "markdown",
      "metadata": {
        "id": "H41nnlD7VQwj"
      },
      "source": [
        "![bb](https://raw.githubusercontent.com/deltorobarba/repo/master/simplicial_homology_02.png)"
      ]
    },
    {
      "cell_type": "markdown",
      "metadata": {
        "id": "wSFW1CEnVOwR"
      },
      "source": [
        "Boundary von boundary is Null wegen Orienting: vertices gleiche sich aus (Orientierung)"
      ]
    },
    {
      "cell_type": "markdown",
      "metadata": {
        "id": "FXU0G-3UVTox"
      },
      "source": [
        "![bb](https://raw.githubusercontent.com/deltorobarba/repo/master/simplicial_homology_03.png)"
      ]
    },
    {
      "cell_type": "markdown",
      "metadata": {
        "id": "AZe2hvjoVX5F"
      },
      "source": [
        "**Homology**\n",
        "- Simplex: https://en.wikipedia.org/wiki/Simplex \n",
        "- Simplicial Complex: https://en.wikipedia.org/wiki/Simplicial_complex \n",
        "- Chain Complex: https://en.wikipedia.org/wiki/Chain_complex\n",
        "- Homology: Associated to a chain complex is its homology, which describes how the images are included in the kernels.\n",
        "- Homological Algebra: https://en.wikipedia.org/wiki/Homological_algebra \n",
        "- Boundary operator = boundary homomorphism"
      ]
    },
    {
      "cell_type": "markdown",
      "metadata": {
        "id": "UDTWysZ_VasB"
      },
      "source": [
        "Since Bn is a subgroup of Zn, we may form the quotient group Hn = Zn/Bn -> so Modulo (=Restwerte) ist dann die Dimension der Löcher (=invarianten)?"
      ]
    },
    {
      "cell_type": "markdown",
      "metadata": {
        "id": "NeX5czO1VjRi"
      },
      "source": [
        "![bb](https://raw.githubusercontent.com/deltorobarba/repo/master/simplicial_homology_06.png)"
      ]
    },
    {
      "cell_type": "markdown",
      "metadata": {
        "id": "O20ErgwyVnJu"
      },
      "source": [
        "![bb](https://raw.githubusercontent.com/deltorobarba/repo/master/simplicial_homology_05.png)"
      ]
    },
    {
      "cell_type": "markdown",
      "metadata": {
        "id": "5yWOKJlRVqLx"
      },
      "source": [
        "https://youtu.be/QA9rrDMlaHc (Homomorphiesatz)\n",
        "\n",
        "https://youtu.be/390eRzVSC2k (Homomorphie mit Modulo und kommutativen Diagramm)"
      ]
    },
    {
      "cell_type": "markdown",
      "metadata": {
        "id": "DEnzBDs6VtrY"
      },
      "source": [
        "![bb](https://raw.githubusercontent.com/deltorobarba/repo/master/simplicial_homology_07.png)"
      ]
    },
    {
      "cell_type": "markdown",
      "metadata": {
        "id": "yNkHxcGyWDh4"
      },
      "source": [
        "![bb](https://raw.githubusercontent.com/deltorobarba/repo/master/simplicial_homology_10.png)"
      ]
    },
    {
      "cell_type": "markdown",
      "metadata": {
        "id": "-6lq-ysaVx_T"
      },
      "source": [
        "![bb](https://raw.githubusercontent.com/deltorobarba/repo/master/simplicial_homology_08.png)"
      ]
    },
    {
      "cell_type": "markdown",
      "metadata": {
        "id": "9DuCVEpTV1Np"
      },
      "source": [
        "![bb](https://raw.githubusercontent.com/deltorobarba/repo/master/simplicial_homology_09.png)"
      ]
    },
    {
      "cell_type": "markdown",
      "metadata": {
        "id": "Zu6D9yy7FclU"
      },
      "source": [
        "**Simplicial Homology Groups**"
      ]
    },
    {
      "cell_type": "markdown",
      "metadata": {
        "id": "Ol-uANf7Ou4B"
      },
      "source": [
        "**Homology**"
      ]
    },
    {
      "cell_type": "markdown",
      "metadata": {
        "id": "-FhQOJufFMx0"
      },
      "source": [
        "* Homology counts components, holds, voids etc.\n",
        "\n",
        "* In topology we define something called homology for simplicial complexes.\n",
        "\n",
        "* Homology of a simplicial complex is computable via linear algebra.\n",
        "\n",
        "* Die Homologie ist ein mathematischer Ansatz, die Existenz von Löchern zu formalisieren.\n",
        "\n",
        "* Gewisse „sehr feine“ Löcher sind für die Homologie unsichtbar; hier kann u. U. auf die schwerer zu bestimmenden Homotopiegruppen zurückgegriffen werden."
      ]
    },
    {
      "cell_type": "markdown",
      "metadata": {
        "id": "IUPEk8srNcmZ"
      },
      "source": [
        "**Simplicial Homology**"
      ]
    },
    {
      "cell_type": "markdown",
      "metadata": {
        "id": "Xy2QyWUKNiGr"
      },
      "source": [
        "* Die Simpliziale Homologie ist in der Algebraischen Topologie, einem Teilgebiet der Mathematik, eine Methode, die einem beliebigen Simplizialkomplex **eine Folge [abelscher Gruppen](https://de.m.wikipedia.org/wiki/Abelsche_Gruppe) zuordnet**. \n",
        "\n",
        "* Anschaulich gesprochen zählt sie die Löcher unterschiedlicher Dimension des zugrunde liegenden Raumes."
      ]
    },
    {
      "cell_type": "markdown",
      "metadata": {
        "id": "1fus_PDENf8z"
      },
      "source": [
        "https://de.m.wikipedia.org/wiki/Simpliziale_Homologie"
      ]
    },
    {
      "cell_type": "markdown",
      "metadata": {
        "id": "FKsWI8Zwt0oK"
      },
      "source": [
        "https://en.m.wikipedia.org/wiki/Simplicial_homology"
      ]
    },
    {
      "cell_type": "markdown",
      "metadata": {
        "id": "0kHgQlDLMNGn"
      },
      "source": [
        "Homology is a general way of associating a sequence of algebraic objects, such as abelian groups or modules, to other mathematical objects such as topological spaces."
      ]
    },
    {
      "cell_type": "markdown",
      "metadata": {
        "id": "FFJjLdBBHTg_"
      },
      "source": [
        "In homology we want to Linearize the equivalence relation! Homology and cohomology are linear theories (easier to compute, and methods of linear algebra applicable) (though in the process you loose a bit information"
      ]
    },
    {
      "cell_type": "markdown",
      "metadata": {
        "id": "8gFoVhU3HZZA"
      },
      "source": [
        "1. define set of vertices V0 (=vector space V0 with basis given by the set of vertices) and set of edges V1\n",
        "\n",
        "2. linearize equivalence relation: instead of looking at „tail of edge is equivalent to head of edge“, we consider the difference between these two\n",
        "    * **e $\\mapsto$ h(e) - t(e)** is the linear combination of two vertices, and hence an element of e zero! e wird abgebildet auf dem Element (h(e) - t(e))\n",
        "    * **h(e) $\\equiv$ t(e) mod (im d)** das heisst: h(e) ist identisch zu t(e) modulo dem Bild von d"
      ]
    },
    {
      "cell_type": "markdown",
      "metadata": {
        "id": "DQKkmPYELLzr"
      },
      "source": [
        "* The linear map d : V1 -> V0 sends an edge e to (h(e) - t(e))\n",
        "* e is an edge which is a basis element inside V1\n",
        "* So the image of d (difference) is just the supspace of V0 generated by these elements\n",
        "* Generate equivalence relation: impose reflexivity, symmetry and transivity. \n",
        "* So: to get the image of d you look at the subspace generated by e |—> h(e) - t(e)\n",
        "    * Closure under addition more or less corresponds to transitivity, \n",
        "    * closure under negation corresponds to symmetry, and \n",
        "    * closure under zero corresponds to reflexivity. \n",
        "    * So this precisely linearizes the equivalence relation from before. \n",
        "* Now we have one linear map. But we need two linear maps which composes 0 to get homology or cohomology. There are two ways you can get a composite to get 0 very easily. \n",
        "    * Either start from zero and map to V1 and then go to V0, or \n",
        "    * start at V1 and use d to get to V0 and then go to 0 with the zero map there.\n",
        "* Modular the image of this map which is zero"
      ]
    },
    {
      "cell_type": "markdown",
      "metadata": {
        "id": "5KJSnkLILTJ0"
      },
      "source": [
        "https://ncatlab.org/nlab/show/homology"
      ]
    },
    {
      "cell_type": "markdown",
      "metadata": {
        "id": "PFNErztxLVw-"
      },
      "source": [
        "https://en.m.wikipedia.org/wiki/Homology_(mathematics)"
      ]
    },
    {
      "cell_type": "markdown",
      "metadata": {
        "id": "aQLoLSdtySVs"
      },
      "source": [
        "**Homology Groups**"
      ]
    },
    {
      "cell_type": "markdown",
      "metadata": {
        "id": "nxcLbwRBzNiD"
      },
      "source": [
        "* Homology is a general way of associating a sequence of algebraic objects, such as abelian groups or modules, to other mathematical objects such as topological spaces.\n",
        "\n",
        "* In homology we want to Linearize the equivalence relation! Homology and cohomology are linear theories (easier to compute, and methods of linear algebra applicable) (though in the process you loose a bit information"
      ]
    },
    {
      "cell_type": "markdown",
      "metadata": {
        "id": "OMUHsCYZr6g-"
      },
      "source": [
        "**Cycles (and its Kern)**"
      ]
    },
    {
      "cell_type": "markdown",
      "metadata": {
        "id": "BhJwB-KXPT_v"
      },
      "source": [
        "A cycle is a closed submanifold, a boundary is a cycle which is also the boundary of a submanifold."
      ]
    },
    {
      "cell_type": "markdown",
      "metadata": {
        "id": "IGxW6_WDzgz-"
      },
      "source": [
        "**Boundary operator on chains (and its image)**"
      ]
    },
    {
      "cell_type": "markdown",
      "metadata": {
        "id": "JxM73xmFzr9U"
      },
      "source": [
        "The boundary of a chain is the linear combination of boundaries of the simplices in the chain. The boundary of a k-chain is a (k−1)-chain. Note that the boundary of a simplex is not a simplex, but a chain with coefficients 1 or −1 – thus chains are the closure of simplices under the boundary operator."
      ]
    },
    {
      "cell_type": "markdown",
      "metadata": {
        "id": "8zHXzDhGzxq7"
      },
      "source": [
        "![cc](https://upload.wikimedia.org/wikipedia/commons/thumb/7/7f/Chainline.svg/320px-Chainline.svg.png)"
      ]
    },
    {
      "cell_type": "markdown",
      "metadata": {
        "id": "mEwEPEGRzt9R"
      },
      "source": [
        "*The boundary of a polygonal curve is a linear combination of its nodes; in this case, some linear combination of A1 through A6. Assuming the segments all are oriented left-to-right (in increasing order from Ak to Ak+1), the boundary is A6 − A1.*"
      ]
    },
    {
      "cell_type": "markdown",
      "metadata": {
        "id": "Z4D0PHsi00BF"
      },
      "source": [
        "If the 1 -chain $c=t_{1}+t_{2}+t_{3}$ is a path from point $v_{1}$ to point $v_{4},$ where $t_{1}=\\left[v_{1}, v_{2}\\right], t_{2}=\\left[v_{2}, v_{3}\\right]$ and $t_{3}=\\left[v_{3}, v_{4}\\right]$ are its\n",
        "constituent 1 -simplices, then\n",
        "$$\n",
        "\\begin{aligned}\n",
        "\\partial_{1} c &=\\partial_{1}\\left(t_{1}+t_{2}+t_{3}\\right) \\\\\n",
        "&=\\partial_{1}\\left(t_{1}\\right)+\\partial_{1}\\left(t_{2}\\right)+\\partial_{1}\\left(t_{3}\\right) \\\\\n",
        "&=\\partial_{1}\\left(\\left[v_{1}, v_{2}\\right]\\right)+\\partial_{1}\\left(\\left[v_{2}, v_{3}\\right]\\right)+\\partial_{1}\\left(\\left[v_{3}, v_{4}\\right]\\right) \\\\\n",
        "&=\\left(\\left[v_{2}\\right]-\\left[v_{1}\\right]\\right)+\\left(\\left[v_{3}\\right]-\\left[v_{2}\\right]\\right)+\\left(\\left[v_{4}\\right]-\\left[v_{3}\\right]\\right) \\\\\n",
        "&=\\left[v_{4}\\right]-\\left[v_{1}\\right]\n",
        "\\end{aligned}\n",
        "$$"
      ]
    },
    {
      "cell_type": "markdown",
      "metadata": {
        "id": "Cd_HncSMz82d"
      },
      "source": [
        "![cc](https://upload.wikimedia.org/wikipedia/commons/thumb/0/02/Closed_polygonal_line.svg/320px-Closed_polygonal_line.svg.png)"
      ]
    },
    {
      "cell_type": "markdown",
      "metadata": {
        "id": "qiScBAQBz6DM"
      },
      "source": [
        "*A closed polygonal curve, assuming consistent orientation, has null boundary. (deswegen führt der boundary operator δ1 alle Werte immer in Null, zumindest bei geschlossenen objekten)*"
      ]
    },
    {
      "cell_type": "markdown",
      "metadata": {
        "id": "Ddn_KB3O2HL2"
      },
      "source": [
        "* Example 2: The boundary of the triangle is a formal sum of its edges with signs arranged to make the traversal of the boundary counterclockwise.\n",
        "\n",
        "   * Cycle: **A chain is called a cycle when its boundary is zero**. \n",
        "   \n",
        "   * Boundary: A chain that is the boundary of another chain is called a boundary. \n",
        "\n",
        "   * **Boundaries are cycles**, so chains form a chain complex, whose homology groups (cycles modulo boundaries) are called simplicial homology groups.\n",
        "\n",
        "* Example 3: A 0-cycle is a linear combination of points such that the sum of all the coefficients is 0. Thus, the 0-homology group measures the number of path connected components of the space.\n",
        "\n",
        "* Example 4: The plane punctured at the origin has nontrivial 1-homology group **since the unit circle is a cycle, but not a boundary.**"
      ]
    },
    {
      "cell_type": "markdown",
      "metadata": {
        "id": "B72crCcO7pQo"
      },
      "source": [
        "https://m0nads.wordpress.com/tag/persistent-homology/"
      ]
    },
    {
      "cell_type": "markdown",
      "metadata": {
        "id": "CZZFrxQY7UFo"
      },
      "source": [
        "https://en.m.wikipedia.org/wiki/Chain_(algebraic_topology)"
      ]
    },
    {
      "cell_type": "markdown",
      "metadata": {
        "id": "tbuG6fv_Vdc8"
      },
      "source": [
        "**Homology Group & Betti Number**"
      ]
    },
    {
      "cell_type": "markdown",
      "metadata": {
        "id": "7oP2QkFIRXLX"
      },
      "source": [
        "Let $\\sigma=\\left(v_{0}, \\ldots, v_{k}\\right)$ be an oriented $k$ -simplex, viewed as a basis element of $C_{k}$. The boundary operator\n",
        "\n",
        "$\n",
        "\\partial_{k}: C_{k} \\rightarrow C_{k-1}\n",
        "$\n",
        "\n",
        "is the homomorphism defined by:\n",
        "\n",
        "$\n",
        "\\partial_{k}(\\sigma)=\\sum_{i=0}^{k}(-1)^{i}\\left(v_{0}, \\ldots, \\widehat{v_{i}}, \\ldots, v_{k}\\right)\n",
        "$\n",
        "\n",
        "where the oriented simplex\n",
        "\n",
        "$\n",
        "\\left(v_{0}, \\ldots, \\widehat{v_{i}}, \\ldots, v_{k}\\right)\n",
        "$\n",
        "\n",
        "is the $I^{\\text {th }}$ face of $\\sigma,$ obtained by deleting its $i^{\\text {th }}$ vertex.\n",
        "In $C_{k},$ elements of the subgroup\n",
        "\n",
        "$\n",
        "Z_{k}:=\\operatorname{ker} \\partial_{k}\n",
        "$\n",
        "\n",
        "are referred to as cycles, and the subgroup\n",
        "\n",
        "$\n",
        "B_{k}:=\\operatorname{im} \\partial_{k+1}\n",
        "$\n",
        "\n",
        "is said to consist of boundaries."
      ]
    },
    {
      "cell_type": "markdown",
      "metadata": {
        "id": "LdENpsCGVbEA"
      },
      "source": [
        "The $k^{\\text {th }}$ homology group $H_{k}$ of $S$ is defined to be the [quotient abelian group](https://en.m.wikipedia.org/wiki/Quotient_group)\n",
        "\n",
        "$\n",
        "H_{k}(S)=Z_{k} / B_{k}\n",
        "$\n",
        "\n",
        "* It follows that the **homology group $H_{k}(S)$ is nonzero exactly when there are $k-$\n",
        "cycles on $S$ which are not boundaries**. In a sense, this means that there are $k$ -\n",
        "dimensional holes in the complex. \n",
        "\n",
        "* For example, consider the complex $S$ obtained by gluing two triangles (with no interior) along one edge, shown in the image. The edges of each triangle can be oriented so as to form a cycle. These two cycles are by construction not boundaries (since every 2 -chain is zero). \n",
        "\n",
        "* One can compute that the homology group $\\mathrm{H}_{1}(\\mathrm{S})$ is isomorphic to $\\mathrm{Z}^{2}$, with a basis given by the two cycles mentioned. This makes precise the informal idea that $S$ has two \"1-\n",
        "dimensional holes\".\n",
        "\n",
        "* Holes can be of different dimensions. The rank of the $k$ th homology group, the\n",
        "number\n",
        "\n",
        "$\n",
        "\\beta_{k}=\\operatorname{rank}\\left(H_{k}(S)\\right)\n",
        "$\n",
        "\n",
        "is called the $k$ th Betti number of $S$. It gives a measure of the number of $k$ -\n",
        "dimensional holes in $S$."
      ]
    },
    {
      "cell_type": "markdown",
      "metadata": {
        "id": "J5DkJGhzGju1"
      },
      "source": [
        "**A homology class is thus represented by a cycle which is not the boundary of any submanifold: the cycle represents a hole, namely a hypothetical manifold whose boundary would be that cycle, but which is \"not there\".**"
      ]
    },
    {
      "cell_type": "markdown",
      "metadata": {
        "id": "EIXZuQbNGtCR"
      },
      "source": [
        "* An homology class Hn (which represents a hole) is an [equivalence class](https://en.m.wikipedia.org/wiki/Equivalence_class) of \n",
        "    * [cycles](https://en.m.wikipedia.org/wiki/Simplicial_homology#Boundaries_and_cycles) Ker(δ) modulo boundaries Im(δ) bzw. \n",
        "    * h(e) $\\equiv$ t(e) mod (im d)\n",
        "\n",
        "* Ker(δ) kann beschrieben werden: h(e) $\\equiv$ t(e) bzw. e $\\mapsto$ h(e) - t(e) or: ∂n−1 ◦ ∂n = 0\n",
        "\n",
        "* This is the linear combination of two vertices, and hence an element of e zero\n",
        "\n",
        "* Get the image of d bzw. Im(δ) when you look at the subspace generated by e $\\mapsto$ h(e) - t(e)\n",
        "\n",
        "*  Im(δ): boundaries?"
      ]
    },
    {
      "cell_type": "markdown",
      "metadata": {
        "id": "68xBo9fPHDQQ"
      },
      "source": [
        "A sequence of groups that is not a chain complex: a map consists of multiplication by 2 in each step! This is not a chain complex, since 2·2=4, i.e., ∂n−1 ◦∂n = 4 = not 0.\n",
        "* So does this mean that Ker(δ) bzw. h(e) =congruent= t(e) bzw. e|—> h(e) - t(e) beschreibt einen Chain Complex?\n",
        "* und in Verbindung mit Im(δ) (boundaries?) beschreibt es eine Homology?"
      ]
    },
    {
      "cell_type": "markdown",
      "metadata": {
        "id": "bXs8xGoDQJJa"
      },
      "source": [
        "https://en.m.wikipedia.org/wiki/Simplicial_homology#Boundaries_and_cycles"
      ]
    },
    {
      "cell_type": "markdown",
      "metadata": {
        "id": "ipFCcQ0uLt_1"
      },
      "source": [
        "https://ncatlab.org/nlab/show/boundary+of+a+simplex"
      ]
    },
    {
      "cell_type": "markdown",
      "metadata": {
        "id": "ZLtT6qNdOjdO"
      },
      "source": [
        "https://ncatlab.org/nlab/show/chain+map"
      ]
    },
    {
      "cell_type": "markdown",
      "metadata": {
        "id": "s9Yj-c4WES3C"
      },
      "source": [
        "https://en.m.wikipedia.org/wiki/Spectral_sequence"
      ]
    },
    {
      "cell_type": "markdown",
      "metadata": {
        "id": "dLDGg7CmD4o8"
      },
      "source": [
        "##### **Homological Algebra**"
      ]
    },
    {
      "cell_type": "markdown",
      "metadata": {
        "id": "p8dih3cUEDEp"
      },
      "source": [
        "* Why using Homological Algebra: **translate a problem of interest into a sequence of „higher“ (=homological algebra) linear algebra problems**\n",
        "\n",
        "* homological algebra is the **study of homological functors** and the intricate algebraic structures that they entail. \n",
        "\n",
        "* One quite useful and ubiquitous concept in mathematics is that of **chain complexes**, which can be studied through both their homology and cohomology.\n",
        "\n",
        "* Homological algebra affords the means to **extract information contained in these complexes and present it in the form of homological invariants of rings, modules, topological spaces**, and other 'tangible' mathematical objects. A powerful tool for doing this is provided by spectral sequences."
      ]
    },
    {
      "cell_type": "markdown",
      "metadata": {
        "id": "DTNtQ5DFD8jE"
      },
      "source": [
        "https://en.m.wikipedia.org/wiki/Homological_algebra"
      ]
    },
    {
      "cell_type": "markdown",
      "metadata": {
        "id": "DGHqqXo9QU9s"
      },
      "source": [
        "##### **Simplicial Complex & Triangulation**"
      ]
    },
    {
      "cell_type": "markdown",
      "metadata": {
        "id": "T1DJp4Q9IsAx"
      },
      "source": [
        "![vvv](https://raw.githubusercontent.com/deltorobarba/repo/master/homology_03.jpg)"
      ]
    },
    {
      "cell_type": "markdown",
      "metadata": {
        "id": "tE1eIlyirr9-"
      },
      "source": [
        "**Simplices**"
      ]
    },
    {
      "cell_type": "markdown",
      "metadata": {
        "id": "JUBxbK8_C5Lv"
      },
      "source": [
        "A simplex consists of 3 components: vertices, edges and faces\n",
        "\n",
        "* 0-simplex: point\n",
        "* 1-simplex: edge (line)\n",
        "* 2-simplex: 3 connected points\n",
        "* 3-simplex: solid (3 dimensions)\n",
        "\n",
        "k-simplex is k-dimensional is formed using (k+1) vertices ('convex hull')\n",
        "\n",
        "* Complete graphs (every vertice is connected to all others) can be interpreted as simplices\n",
        "\n",
        "* you can interpret any graph as simplicial complex"
      ]
    },
    {
      "cell_type": "markdown",
      "metadata": {
        "id": "tkABJX_prq2B"
      },
      "source": [
        "https://de.m.wikipedia.org/wiki/Simplex_(Mathematik)"
      ]
    },
    {
      "cell_type": "markdown",
      "metadata": {
        "id": "iclzztmdL4m5"
      },
      "source": [
        "**Simplicial Complexes**"
      ]
    },
    {
      "cell_type": "markdown",
      "metadata": {
        "id": "5jbqQuo7L2du"
      },
      "source": [
        "* Mit einem Simplizialkomplex können die entscheidenden Eigenschaften von triangulierbar topologischen Räumen algebraisch charakterisiert werden können\n",
        "\n",
        "* Warum? Definition von Invarianten im topologischen Raum. Simplicial complexes can be seen as higher dimensional generalizations of neighboring graphs.\n",
        "\n",
        "* Wie? Untersuchung eines topologischen Raums durch Zusammenfügen von Simplizes womit eine Menge im d-dimensionalen euklidischen Raum konstruiert wird, die [homöomorph](https://de.m.wikipedia.org/wiki/Homöomorphismus) ist zum gegebenen topologischen Raum. \n",
        "\n",
        "* Die „Anleitung zum Zusammenbau“ der Simplizes, das heißt die Angaben darüber, wie die Simplizes zusammengefügt sind, wird dann in Form einer Sequenz von [Gruppenhomomorphismen](https://de.m.wikipedia.org/wiki/Gruppenhomomorphismus) rein algebraisch charakterisiert.\n",
        "\n",
        "* Cells can have various dimensions: vertices, edges, triangles, tetrahedra and their higher dimensional analogues. complexes reflect the correct topology of the data\n",
        "\n",
        "* If we glue many simplices together in such a way that the intersection is also a simplex (along an edge for example), we obtain a simplicial complex. If we see three points connected by edges that form a triangle, we fill in the triangle with a 2-dimensional face. Any four points that are all pairwise connected get filled in with a 3-simplex etc. The resulting simplicial complex is called (Vietoris) Rips complex.\n",
        "\n",
        "* The persistence diagram is not computed directly from L􏰑ε. Instead, one forms an object called a Cech complex. Simplicial and cubical complexes are examples of cell complexes. Cech complex is an example of a simplicial complex. - in practice, often used Vietoris-Rips complex Vε - the persistent homology defined by Vε approximates the persistent homology defined by Cε.\n"
      ]
    },
    {
      "cell_type": "markdown",
      "metadata": {
        "id": "71aGIlFGS-nz"
      },
      "source": [
        "**Čech complex**"
      ]
    },
    {
      "cell_type": "markdown",
      "metadata": {
        "id": "9UXtazmkS8PL"
      },
      "source": [
        "* Subform of (Abstract) Cell complex: Simplicial Complex: Vietoris Rips Complex: Čech complex\n",
        "\n",
        "* Other Simplicial Complexes besides Vietoris Rips Complex are witness complex, Clique complexes, flag complexes, and conformal hypergraphs.\n",
        "\n",
        "* Other abstract cell complexes besides Simplicial Complexes is the Cubical Complex\n",
        "\n",
        "* Čech complex is an abstract simplicial complex constructed from a point cloud in any metric space which is meant to capture topological information about the point cloud or the distribution it is drawn from. Given a finite point cloud X and an ε > 0, we construct the Čech complex C if the set of ε-balls centered at points of σ has a nonempty intersection. In other words, the Čech complex is the nerve of the set of ε-balls centered at points of X. By the nerve lemma, the Čech complex is homotopy equivalent to the union of the balls."
      ]
    },
    {
      "cell_type": "markdown",
      "metadata": {
        "id": "G55EgsRBtCOT"
      },
      "source": [
        "**Abstract Simplicial Complex**"
      ]
    },
    {
      "cell_type": "markdown",
      "metadata": {
        "id": "C7D4aFbqtFi1"
      },
      "source": [
        "https://en.m.wikipedia.org/wiki/Abstract_simplicial_complex"
      ]
    },
    {
      "cell_type": "markdown",
      "metadata": {
        "id": "A89sUMu7v5rx"
      },
      "source": [
        "**n-skeleton**"
      ]
    },
    {
      "cell_type": "markdown",
      "metadata": {
        "id": "bxmvNtJ5wG-_"
      },
      "source": [
        "![vvv](https://upload.wikimedia.org/wikipedia/commons/thumb/f/f8/Hypercubestar.svg/240px-Hypercubestar.svg.png)"
      ]
    },
    {
      "cell_type": "markdown",
      "metadata": {
        "id": "PCbgUra-wA0_"
      },
      "source": [
        "https://en.m.wikipedia.org/wiki/N-skeleton"
      ]
    },
    {
      "cell_type": "markdown",
      "metadata": {
        "id": "wUr-B03yLZQ4"
      },
      "source": [
        "**Triangulation**"
      ]
    },
    {
      "cell_type": "markdown",
      "metadata": {
        "id": "8hSqsZ5LLdvz"
      },
      "source": [
        "* In der Topologie ist eine Triangulierung oder Triangulation eine **Zerlegung eines Raumes in Simplizes** (Dreiecke, Tetraeder oder deren höher-dimensionale Verallgemeinerungen).\n",
        "\n",
        "* Mannigfaltigkeiten bis zur dritten Dimension sind stets triangulierbar. \n",
        "\n",
        "* Ursprüngliche Motivation für die Hauptvermutung war der Beweis der topologischen Invarianz kombinatorisch definierter Invarianten wie der [simplizialen Homologie](https://de.m.wikipedia.org/wiki/Simpliziale_Homologie). Trotz des Scheiterns der Hauptvermutung lassen sich Fragen dieser Art oftmals mit dem [simplizialen Approximationssatz](https://de.m.wikipedia.org/wiki/Simpliziale_Approximation) beantworten.\n",
        "\n",
        "* Triangulation ist eine Zerlegung eines Raumes in Simplizes (Dreiecke, Tetraeder oder höher-dimensionale Verallgemeinerungen) to tease out properties of manifolds\n",
        "\n",
        "* **A triangulation of a topological space X is a simplicial complex K, homeomorphic to X, together with a homeomorphism h: K → X**\n",
        "\n",
        "* triangulation offers a concrete way of visualizing spaces that are difficult to see, and helps computing an invariant.\n",
        "\n",
        "* Ist gegeben durch einen (abstrakten) Simplizialkomplex K und Homöomorphismus h : | K | → X der geometrischen Realisierung | K | auf X. \n",
        "https://en.wikipedia.org/wiki/Triangulation_(topology) \n",
        "\n",
        "* a two-dimensional sphere (surface of a solid ball) can be approximated by gluing together two-dimensional triangles, and a three-dimensional sphere can be approximated by gluing together three-dimensional tetrahedra. \n",
        "\n",
        "* Triangles and tetrahedra are examples of more general shapes called simplices, which can be defined in any dimension.\n",
        "\n",
        "\n"
      ]
    },
    {
      "cell_type": "markdown",
      "metadata": {
        "id": "Eg4mqC8fvobq"
      },
      "source": [
        "https://en.m.wikipedia.org/wiki/Triangulation_(topology)"
      ]
    },
    {
      "cell_type": "markdown",
      "metadata": {
        "id": "3m7dcaHiLbPs"
      },
      "source": [
        "https://de.m.wikipedia.org/wiki/Triangulierung_(Topologie)"
      ]
    },
    {
      "cell_type": "markdown",
      "metadata": {
        "id": "zLDOeHD8N2hc"
      },
      "source": [
        "##### **Chain Complex**"
      ]
    },
    {
      "cell_type": "markdown",
      "metadata": {
        "id": "XazhAwJAFmL-"
      },
      "source": [
        "Chain Complex is a sequence of homomorphism of abelian groups"
      ]
    },
    {
      "cell_type": "markdown",
      "metadata": {
        "id": "I64cVrPRN4zc"
      },
      "source": [
        "A chain complex $V$. is a sequence $\\left\\{V_{n}\\right\\}_{n \\in \\mathbb{Z}}$ of abelian groups or modules (for instance yector spaces) or similar equipped with linear maps $\\left\\{d_{n}: V_{n+1} \\rightarrow V_{n}\\right\\}$ such that $d^{2}=0,$ i.e. the composite of two consecutive such maps is the zero morphism $d_{n} \\circ d_{n+1}=0$"
      ]
    },
    {
      "cell_type": "markdown",
      "metadata": {
        "id": "u-q_PVfCN6_I"
      },
      "source": [
        "https://ncatlab.org/nlab/show/chain+complex"
      ]
    },
    {
      "cell_type": "markdown",
      "metadata": {
        "id": "Cj46zGOZOfFQ"
      },
      "source": [
        "https://ncatlab.org/nlab/show/zero+morphism"
      ]
    },
    {
      "cell_type": "markdown",
      "metadata": {
        "id": "7cnwiyYGgXuK"
      },
      "source": [
        "https://m0nads.wordpress.com/tag/persistent-homology/"
      ]
    },
    {
      "cell_type": "markdown",
      "metadata": {
        "id": "pTLZN5iwwa2W"
      },
      "source": [
        "![vv](https://upload.wikimedia.org/wikipedia/commons/thumb/d/d1/Simplicial_homology_-_exactness_of_boundary_maps.svg/384px-Simplicial_homology_-_exactness_of_boundary_maps.svg.png)"
      ]
    },
    {
      "cell_type": "markdown",
      "metadata": {
        "id": "vCLAL1OtweUA"
      },
      "source": [
        "* The boundary of a boundary of a 2-simplex (left) and the boundary of a 1-chain (right) are taken. \n",
        "\n",
        "* Both are 0, being sums in which both the positive and negative of a 0-simplex occur once. The boundary of a boundary is always 0. \n",
        "\n",
        "* A nontrivial cycle is something that closes up like the boundary of a simplex, in that its boundary sums to 0, but which isn't actually the boundary of a simplex or chain. \n",
        "\n",
        "* Because trivial 1-cycles are equivalent to 0 in H1, the 1-cycle at right-middle is homologous to its sum with the boundary of the 2-simplex at left."
      ]
    },
    {
      "cell_type": "markdown",
      "metadata": {
        "id": "ALfBBiVwD_Qr"
      },
      "source": [
        "https://en.m.wikipedia.org/wiki/Chain_complex"
      ]
    },
    {
      "cell_type": "markdown",
      "metadata": {
        "id": "buZRRNBNNwvO"
      },
      "source": [
        "https://www.math3ma.com/blog/open-sets-are-everything"
      ]
    },
    {
      "cell_type": "markdown",
      "metadata": {
        "id": "IUijHs8JN1FM"
      },
      "source": [
        "https://www.math.uni-bielefeld.de/~sek/top/leit/leit8.htm"
      ]
    },
    {
      "cell_type": "markdown",
      "metadata": {
        "id": "Y_9042hmOI3v"
      },
      "source": [
        "https://www.math.uni-bielefeld.de/~sek/top/leit/alg2.htm"
      ]
    },
    {
      "cell_type": "markdown",
      "metadata": {
        "id": "q5jWfiRUOdRB"
      },
      "source": [
        "https://github.com/GUDHI/TDA-tutorial/blob/master/Tuto-GUDHI-optimization.ipynb"
      ]
    },
    {
      "cell_type": "markdown",
      "metadata": {
        "id": "GfmQS89UOiKP"
      },
      "source": [
        "https://tda-in-ml.github.io"
      ]
    },
    {
      "cell_type": "markdown",
      "metadata": {
        "id": "4oLioc7oOlSb"
      },
      "source": [
        "https://bastian.rieck.me/blog/posts/2020/topology_graphs/"
      ]
    },
    {
      "cell_type": "markdown",
      "metadata": {
        "id": "_7vj1M0QOpc5"
      },
      "source": [
        "https://m0nads.wordpress.com/tag/persistent-homology/"
      ]
    },
    {
      "cell_type": "markdown",
      "metadata": {
        "id": "_JG-6POAO06Q"
      },
      "source": [
        "https://colab.research.google.com/github/lewtun/hepml/blob/master/notebooks/lesson06_persistent-homology.ipynb"
      ]
    },
    {
      "cell_type": "markdown",
      "metadata": {
        "id": "tECGEScAO7mo"
      },
      "source": [
        "https://colab.research.google.com/github/lewtun/hepml/blob/master/notebooks/lesson07_topological-time-series.ipynb"
      ]
    },
    {
      "cell_type": "markdown",
      "metadata": {
        "id": "yPqeWSNExuG7"
      },
      "source": [
        "##### **Topological Data Analysis**"
      ]
    },
    {
      "cell_type": "markdown",
      "metadata": {
        "id": "Y3pjdD_O2saB"
      },
      "source": [
        "![xxx](https://raw.githubusercontent.com/deltorobarba/repo/master/tda_01.jpg)"
      ]
    },
    {
      "cell_type": "markdown",
      "metadata": {
        "id": "qaB7ECSbQgHa"
      },
      "source": [
        "**Connected Components**"
      ]
    },
    {
      "cell_type": "markdown",
      "metadata": {
        "id": "bgO45hovFfpL"
      },
      "source": [
        "How the graph can be used to capture connected component\n",
        "\n",
        "* Any graph gives us a topological space (like joining a square as a connected component)\n",
        "* Graph can capture connected components via putting an equivalence relation on the set of vertices.\n",
        "* equivalence relation is genersted by tail of an edge (vertex 1) is equivalent to a head of an edge (vertex 2) / between the vertices of an edge (which together forms a connected component). \n",
        "* To generate equivalence relation we have to make sure that we enforce reflexivity, symmetry and transivity.\n",
        "* You get equivalence classes"
      ]
    },
    {
      "cell_type": "markdown",
      "metadata": {
        "id": "j3fdZ2biFCHX"
      },
      "source": [
        "https://en.m.wikipedia.org/wiki/Component_(graph_theory)"
      ]
    },
    {
      "cell_type": "markdown",
      "metadata": {
        "id": "jITo7xwSFH3A"
      },
      "source": [
        "https://en.m.wikipedia.org/wiki/Connected_space"
      ]
    },
    {
      "cell_type": "markdown",
      "metadata": {
        "id": "ZkMg0l_8GMvO"
      },
      "source": [
        "**Filtration & Inclusion Maps**"
      ]
    },
    {
      "cell_type": "markdown",
      "metadata": {
        "id": "AS9TpoyGEmjj"
      },
      "source": [
        "![ccc](https://raw.githubusercontent.com/deltorobarba/repo/master/homology_01.jpg)"
      ]
    },
    {
      "cell_type": "markdown",
      "metadata": {
        "id": "dRA0yDZJGOjK"
      },
      "source": [
        "* With increasing size of d, we are dealing with a sequence of simplicial complexes, each a sub-complex of the next. That is, a simplicial complex constructed from data for some small distance is a subset of the simplicial complex constructed for a larger distance.\n",
        "\n",
        "* Equally there is an **inclusion map from each simplicial complex to the next**. \n",
        "\n",
        "* **This sequence of simplicial complexes, with inclusion maps, is called a filtration**. \n",
        "\n",
        "* When we apply homology to a filtration, we obtain an algebraic structure called persistent modul.\n",
        "\n",
        "* So if we want to compute **ith homology with coefficients from a field k**. \n",
        "\n",
        "* The **homology of any complex Cj is a vector space**, and the **inclusion maps between complexes induce linear maps between homology vector spaces**. \n",
        "\n",
        "* The direct sum of the homology vector spaces is an algebraic module - in fact a **graded module over the polynomial ring** k[x]. The variable x acts as a **shift map**, taking each homology generator to its image in the next vector space.\n",
        "\n",
        "* Furthermore, a structure theorem tells us that **a persistent module decomposes nicely into a direct sum of simple modules**, each corresponding to a bar in the barcode. This means: a barcode reall is an algebraic structure."
      ]
    },
    {
      "cell_type": "markdown",
      "metadata": {
        "id": "XTkqeZsmEvCz"
      },
      "source": [
        "![cscsvs](https://raw.githubusercontent.com/deltorobarba/repo/master/homology_02.jpg)"
      ]
    },
    {
      "cell_type": "markdown",
      "metadata": {
        "id": "Q2Zv-XD8Lq6F"
      },
      "source": [
        "**Persistent Homology**"
      ]
    },
    {
      "cell_type": "markdown",
      "metadata": {
        "id": "OIoQotHWFX0z"
      },
      "source": [
        "* Persistent Homology is an algebraic method for discerning topological features of data\n",
        "\n",
        "* Topological features can be: components, clusters, holes, graph structures).\n",
        "\n",
        "* Data can be: for example set of discrete points with a metric that gives distance between pairs of points."
      ]
    },
    {
      "cell_type": "markdown",
      "metadata": {
        "id": "Dbk4SYDWIxlh"
      },
      "source": [
        "![vvv](https://raw.githubusercontent.com/deltorobarba/repo/master/homology_04.jpg)"
      ]
    },
    {
      "cell_type": "markdown",
      "metadata": {
        "id": "02Ap2h1zIzNo"
      },
      "source": [
        "![vvv](https://raw.githubusercontent.com/deltorobarba/repo/master/homology_05.jpg)"
      ]
    },
    {
      "cell_type": "markdown",
      "metadata": {
        "id": "aYDfzoQTMKPr"
      },
      "source": [
        "1. Choose a distance d and draw a ball of diameter d around each point.\n",
        "\n",
        "2. Simplices: Two balls intersect exactly when two points are no further apart than distance d, in which case we connect the two points with an edge. This creates a graph whose vertices are the original points. Problem: The graph shows us that the points form a single cluster at scale parameter d, but it doesn‘t tell us about higher-order feature, like holes. For example, this groph has many cycles, but the graph doesn‘t help us identify the central hole in data.\n",
        "\n",
        "3. Fill in complete simplices to obtain the Vietoris Rips complex \n",
        "\n",
        "4. We then apply homology to this complex, which reveals the presence of holes."
      ]
    },
    {
      "cell_type": "markdown",
      "metadata": {
        "id": "_mXMibKEKfBP"
      },
      "source": [
        "**Persistent Barcode, Diagram & Landscape**"
      ]
    },
    {
      "cell_type": "markdown",
      "metadata": {
        "id": "ZAh4XJMHLDp9"
      },
      "source": [
        "* What is the ideal size of d? - Consider all distances d between d1 min (to connect two balls) and d2 max size (all are connected). Each hole appears at a particular value of d and disappears at anotjer value of d. We can represent the persistence of this hole as a pair (d1, d2).\n",
        "* Out of this distance we get a bar. Several holes result in a barcode. Short bars represent noise. Long bars are features.\n",
        "* Persistent barcodes are stable with respect to pertubations if data (Edelsbrunner 2007).\n",
        "* Barcode is computable via linear algebra. Runtime is O (n3), it‘s cubic, where n is the number of simplices (Carlsson 2005).\n",
        "* A barcode is a visualization of an algebraic structure."
      ]
    },
    {
      "cell_type": "markdown",
      "metadata": {
        "id": "UkGmJxmQI0-h"
      },
      "source": [
        "![vvv](https://raw.githubusercontent.com/deltorobarba/repo/master/homology_06.jpg)"
      ]
    },
    {
      "cell_type": "markdown",
      "metadata": {
        "id": "JKlohrnSI2hy"
      },
      "source": [
        "![vvv](https://raw.githubusercontent.com/deltorobarba/repo/master/homology_07.jpg)"
      ]
    },
    {
      "cell_type": "markdown",
      "metadata": {
        "id": "IeI64TKxQxAp"
      },
      "source": [
        "### **Homotopy**"
      ]
    },
    {
      "cell_type": "markdown",
      "metadata": {
        "id": "AJRIFwlDt6rp"
      },
      "source": [
        "https://youtu.be/Ir-DiecNUmA"
      ]
    },
    {
      "cell_type": "markdown",
      "metadata": {
        "id": "0JXllrDdN7j2"
      },
      "source": [
        "https://en.m.wikipedia.org/wiki/Homotopy_theory"
      ]
    },
    {
      "cell_type": "markdown",
      "metadata": {
        "id": "VOxeQe48mu8m"
      },
      "source": [
        "##### **Differentiation**"
      ]
    },
    {
      "cell_type": "markdown",
      "metadata": {
        "id": "FTqOe0lLST3w"
      },
      "source": [
        "**Measure Theory vs General Topology**"
      ]
    },
    {
      "cell_type": "markdown",
      "metadata": {
        "id": "lxfdJGGFSO5S"
      },
      "source": [
        "* Although there are superficial similarities, measure theory and general topology have quite different purposes.\n",
        "\n",
        "\n",
        "* The aim in topology is to define structures that permit us to **define what we mean by a continuous function**. The most common way to do this is to **define a family of subsets of a set which we regard as being open**. The family of open sets must obey two axioms: the union of any set of open sets is open, the intersection of a finite collection of open sets is open. I'll also define a neighbourhood of a point as any superset of any open set containing the point. Then we can say **a function from a space X to a space Y is continuous at x if the inverse image of any neighbourhood of f(x) is a neighbourhood of x**. (Try to see how this generalises epsilon delta definitions.)\n",
        "\n",
        "* The aim in measure theory is to **study measures of the size of a set such as length, area or volume (for example in vector spaces, or probability in probability spaces)**. Measures must obey certain axioms, the most important one being that the measure of the union of a finite number of disjoint sets is the sum of the measures. Mostly this is also extended to countable unions. It turns out that **it is not usually possible to define a measure on every subset so we define a class of measurable sets**. These obey superficially similar axioms to open sets. A countable union of measurable sets is measurable and the intersection and difference of two measurable sets is measurable. But notice the different restrictions on the number of sets. (It is quite possible, and frequently happens, that a measure is defined on a topological space. Vector spaces are an example.)\n",
        "\n",
        "* **In measure theory there is a focus on σ-algebras**, i.e. non-empty subcollections of the powerset of a fixed set Ω that are closed under countable unions and complements. **In general topology there is a focus on topologies, i.e. subcollections of the powerset of a fixed set 𝑋 that are closed under finite intersections and arbitrary unions**. They “come together” if you are dealing with σ-algebras that are generated by topologies. Then we meet the **Borel σ-algebras**. If you study general topology then you can do completely without measure theory. If you study measure theory then some (not much) knowledge of topology is required. This especially when the Borel σ-algebras are on the menu.\n",
        "\n",
        "* Measures deal with metrics and sets, which are commonly defined within a topology. General topology deals with properties of topological spaces, including the behavior of sets and sequences."
      ]
    },
    {
      "cell_type": "markdown",
      "metadata": {
        "id": "il_CbdwRSZde"
      },
      "source": [
        "https://www.quora.com/What-are-the-main-similarities-and-differences-between-measure-theory-and-general-topology"
      ]
    },
    {
      "cell_type": "markdown",
      "metadata": {
        "id": "uEw5VnuVVy_F"
      },
      "source": [
        "**Geometry, Topology & Algebraic Topology**"
      ]
    },
    {
      "cell_type": "markdown",
      "metadata": {
        "id": "vUNECYk8ZI8G"
      },
      "source": [
        "*Geometry*\n",
        "\n",
        "* The central object of study in plane geometry is congruence. Two shapes are congruent when one can be mapped to the other via a rigid motion: sliding it along, rotating it, or reflecting it. \n",
        "\n",
        "* No deformations, expansions, or other twists are allowed. So in geometry we can talk about angles, for example, since angles don't change when you slide and rotate. Congruent triangles are ones that are the same except for a possible translation (sliding), rotation and maybe reflection (taking a mirror image)."
      ]
    },
    {
      "cell_type": "markdown",
      "metadata": {
        "id": "bo496rEsV6ce"
      },
      "source": [
        "*Topology*\n",
        "\n",
        "* First, we're not limited to simple polygonal shapes in the plane - we're dealing with any \"shape\" (topological space) for which we have a notion of \"nearness\". Intuitively it's fine to think of familiar shapes in the plane, space or (if your imagination is up to it) 4 dimensions and beyond. In fact, topology is a lot more permissive than this, and allows for spaces that look like nothing that fits into any number of dimensions.\n",
        "\n",
        "* The second way topology differs from plane geometry is that the notion of \"being the same thing\", instead of congruence, is called topological invariance, which is formally defined as a bi-directional mapping of one shape to another which preserves this notion of points being near each other. It's ok to stretch and twist, it's ok to tear and paste back, but it's not ok to make a hole and keep it there, or to otherwise break things apart.\n",
        "\n",
        "* If you have a rubber band, you can use it to form a circle, an ellipse, or a square. Those are very different shapes geometrically, but from the topological perspective they are the same."
      ]
    },
    {
      "cell_type": "markdown",
      "metadata": {
        "id": "ZAlxfSbMY5-n"
      },
      "source": [
        "*Algebraic Topology*\n",
        "\n",
        "* in many ways the permissive nature of topology makes it hard to tell things apart. It's not entirely easy to show that the plane and 3d space are different topologically, which sounds a bit silly but it's a fact. Showing that 3d space isn't 4d space is even harder.\n",
        "\n",
        "* One of the ways people found to deal with those difficulties is to create gadgets (officially called functors) that map topological spaces into objects that are easier to handle - algebraic objects like vector spaces and groups. If our layperson doesn't know what those are, we can get some headway by just declaring that our gadgets map topological spaces into numbers, or lists of numbers.\n",
        "\n",
        "* We then show that if two topological spaces are the same (topologically), they will get the same numbers attached to them. Contrariwise, if two spaces are tagged with different numbers, they cannot be the same.\n",
        "\n",
        "* Defining those gadgets isn't entirely trivial. Classically this was done via things called \"homology\" and \"homotopy\" groups. The latter ones can be roughly described as counting the number of distinct ways you can put a closed rubber band inside your space. Two such rubber bands aren't considered distinct if one can be deformed into the other inside your space.\n",
        "\n"
      ]
    },
    {
      "cell_type": "markdown",
      "metadata": {
        "id": "64dgcd3jt5VQ"
      },
      "source": [
        "##### **Homotopy Theory**"
      ]
    },
    {
      "cell_type": "markdown",
      "metadata": {
        "id": "bsxLn04pnZux"
      },
      "source": [
        "Eine Homotopie zwischen zwei stetigen Abbildungen $f, g: X \\rightarrow Y$\n",
        "ist eine stetige Abbildung\n",
        "\n",
        ">$\n",
        "H: X \\times[0,1] \\rightarrow Y\n",
        "$\n",
        "\n",
        "mit der Eigenschaft\n",
        "\n",
        ">$\n",
        "H(x, 0)=f(x) \\text { und } H(x, 1)=g(x)\n",
        "$\n",
        "\n",
        "wobei [0,1] das Einheitsintervall ist. Der erste Parameter [0] entspricht also dem der ursprünglichen Abbildungen und der **zweite Parameter [1] gibt den Grad der Deformation an**. Besonders anschaulich wird die Definition, wenn man sich den zweiten Parameter als \"Zeit\" vorstellt.\n",
        "\n",
        "Man sagt, $f$ sei homotop zu $g$ und schreibt $f \\sim g$. Homotopie ist eine **Äquivalenzrelation auf der Menge der stetigen Abbildungen $X \\rightarrow Y$**, die zugehörigen Äquivalenzklassen heißen Homotopieklassen, die Menge dieser Äquivalenzklassen wird häufig mit $[X, Y]$ bezeichnet.\n",
        "Eine stetige Abbildung $f: X \\rightarrow Y$ heißt nullhomotop, wenn sie homotop zu einer konstanten Abbildung ist."
      ]
    },
    {
      "cell_type": "markdown",
      "metadata": {
        "id": "nMT8333esfi4"
      },
      "source": [
        "**Beispiel**"
      ]
    },
    {
      "cell_type": "markdown",
      "metadata": {
        "id": "yUGy-wSOshJB"
      },
      "source": [
        "![xxx](https://upload.wikimedia.org/wikipedia/commons/2/21/Homotopie_Bsp.png)\n",
        "\n",
        "*Homotopie eines Kreises in R² auf einen Punkt*"
      ]
    },
    {
      "cell_type": "markdown",
      "metadata": {
        "id": "FbdUikbvsyhy"
      },
      "source": [
        "Sei $X=S^{1} \\subset \\mathbb{R}^{2}$ der Einheitskreis in der Ebene und $Y=\\mathbb{R}^{2}$ die ganze\n",
        "Ebene. Die Abbildung $f$ sei die Einbettung von $X$ in $Y$, und $g$ sei die Abbildung, die ganz $X$ auf den Ursprung abbildet, also\n",
        "\n",
        ">$\n",
        "f: X \\rightarrow Y, f(x)=x \\text { und } g: X \\rightarrow Y, g(x)=0\n",
        "$\n",
        "\n",
        "Dann sind $f$ und $g$ zueinander homotop. Denn $H: X \\times[0,1] \\rightarrow \\mathbb{R}^{2}$ mit $H(x, t)=(1-t) \\cdot f(x)$\n",
        "ist stetig und erfüllt\n",
        "* $H(x, 0)=1 \\cdot f(x)=f(x)$,\n",
        "* $H(x, 1)=0 \\cdot f(x)=0=g(x)$"
      ]
    },
    {
      "cell_type": "markdown",
      "metadata": {
        "id": "4BpKAqVKXw6d"
      },
      "source": [
        "https://de.m.wikipedia.org/wiki/Homotopie"
      ]
    },
    {
      "cell_type": "markdown",
      "metadata": {
        "id": "bqCqDSxlgP2h"
      },
      "source": [
        "##### **Homotopy Groups (incl. Fundamental Group)**"
      ]
    },
    {
      "cell_type": "markdown",
      "metadata": {
        "id": "0ATb0M51c2y9"
      },
      "source": [
        "* Homotopy groups are used in algebraic topology to classify topological spaces. \n",
        "\n",
        "* The first and simplest homotopy group is the fundamental group, which records information about loops in a space. Intuitively, homotopy groups record information about the basic shape, or holes, of a topological space.\n",
        "\n",
        "* In modern mathematics it is common to study a category by associating to every object of this category a simpler object that still retains sufficient information about the object of interest.\n",
        "\n",
        "* **Homotopy groups are such a way of associating <u>groups</u> to topological spaces.**"
      ]
    },
    {
      "cell_type": "markdown",
      "metadata": {
        "id": "rvlDx7ocofjq"
      },
      "source": [
        "https://de.m.wikipedia.org/wiki/Homotopiegruppe"
      ]
    },
    {
      "cell_type": "markdown",
      "metadata": {
        "id": "fvfZ0VtDdbqT"
      },
      "source": [
        "**Fundamental Group**"
      ]
    },
    {
      "cell_type": "markdown",
      "metadata": {
        "id": "Xg49E-nDdkHj"
      },
      "source": [
        "* **first and simplest homotopy group** is the fundamental group, which records information about loops in a space. Intuitively, homotopy groups record information about the basic shape, or holes, of a topological space.\n",
        "\n",
        "* The fundamental group of a topological space is the group of the equivalence classes under homotopy of the loops contained in the space. It records information about the basic shape, or holes, of the topological space. \n",
        "\n",
        "* The fundamental group is the first and simplest homotopy group. The fundamental group is a homotopy invariant—topological spaces that are homotopy equivalent (or the stronger case of homeomorphic) have isomorphic fundamental groups."
      ]
    },
    {
      "cell_type": "markdown",
      "metadata": {
        "id": "2evCzaPrMp_c"
      },
      "source": [
        "https://en.m.wikipedia.org/wiki/Fundamental_group"
      ]
    },
    {
      "cell_type": "markdown",
      "metadata": {
        "id": "DA3lQL-ZqnFB"
      },
      "source": [
        "##### **Invariants ('Topological Properties')**"
      ]
    },
    {
      "cell_type": "markdown",
      "metadata": {
        "id": "er_vSQ6qM0G2"
      },
      "source": [
        "**Allgemeine Invarianten in der Mathematik**"
      ]
    },
    {
      "cell_type": "markdown",
      "metadata": {
        "id": "znh05OTeM34W"
      },
      "source": [
        "https://de.m.wikipedia.org/wiki/Invariante_(Mathematik)"
      ]
    },
    {
      "cell_type": "markdown",
      "metadata": {
        "id": "ga5daDEOM4uL"
      },
      "source": [
        "**Topologische Invarianten**"
      ]
    },
    {
      "cell_type": "markdown",
      "metadata": {
        "id": "PGR8LhnyPxbp"
      },
      "source": [
        "* Topological invariants are numbers that we assign to a shape, or a simplicial complex in this case, to learn something about its global structure.\n",
        "\n",
        "* For example Euler characteristic of a simplicial complex in any dimension\n",
        "\n",
        "* a topological property or topological invariant is a property of a topological space which is invariant under homeomorphisms. \n",
        "\n",
        "* That is, a property of spaces is a topological property if whenever a space X possesses that property every space homeomorphic to X possesses that property. Informally, a topological property is a property of the space that can be expressed using open sets."
      ]
    },
    {
      "cell_type": "markdown",
      "metadata": {
        "id": "LUneyXe7fsjP"
      },
      "source": [
        "1. Anzahl der Zusammenhangs-Komponenten (connected components)\n",
        "\n",
        "2. Isomorphie-Klasse der Fundamentalgruppe\n",
        "\n",
        "3. Euler-Charakteristik (älter, wurden später durch Betti verallgemeinert)\n",
        "\n",
        "4. Geschlecht einer Fläche (Genus)\n",
        "\n",
        "5. Bettizahlen eines topologischen Raumes"
      ]
    },
    {
      "cell_type": "markdown",
      "metadata": {
        "id": "Yuztyo8Jf1I1"
      },
      "source": [
        "Siehe [deutsche Definition](https://de.m.wikipedia.org/wiki/Topologische_Invariante) und [englische Definition](https://en.m.wikipedia.org/wiki/Topological_property) auf Wikipedia"
      ]
    },
    {
      "cell_type": "markdown",
      "metadata": {
        "id": "bVzT40YQxA15"
      },
      "source": [
        "**Geschlecht einer Fläche (Genus)**"
      ]
    },
    {
      "cell_type": "markdown",
      "metadata": {
        "id": "ffVZaB1kxGQA"
      },
      "source": [
        "https://de.m.wikipedia.org/wiki/Geschlecht_(Fläche)"
      ]
    },
    {
      "cell_type": "markdown",
      "metadata": {
        "id": "FIQ6ycWZSPfJ"
      },
      "source": [
        "##### **Homöomorphismus**"
      ]
    },
    {
      "cell_type": "markdown",
      "metadata": {
        "id": "7sf-9mNYEj-h"
      },
      "source": [
        "* Isomorphism in Topology (in Set it's bijections, in hTop it's called homotopy equivalences)"
      ]
    },
    {
      "cell_type": "markdown",
      "metadata": {
        "id": "yrlFyfU0SSvR"
      },
      "source": [
        "https://de.m.wikipedia.org/wiki/Homöomorphismus"
      ]
    },
    {
      "cell_type": "markdown",
      "metadata": {
        "id": "dR2XNAI_sjG3"
      },
      "source": [
        "##### **Weiterführende Links**"
      ]
    },
    {
      "cell_type": "markdown",
      "metadata": {
        "id": "2MFfv9vbohWg"
      },
      "source": [
        "https://de.m.wikipedia.org/wiki/Homotopie"
      ]
    },
    {
      "cell_type": "markdown",
      "metadata": {
        "id": "MbhXTREKocM8"
      },
      "source": [
        "https://en.m.wikipedia.org/wiki/Regular_homotopy"
      ]
    },
    {
      "cell_type": "markdown",
      "metadata": {
        "id": "jS3foHAzoace"
      },
      "source": [
        "https://en.m.wikipedia.org/wiki/Homotopy_principle"
      ]
    },
    {
      "cell_type": "markdown",
      "metadata": {
        "id": "cYu_HhBuoYzM"
      },
      "source": [
        "https://en.m.wikipedia.org/wiki/Sphere_eversion"
      ]
    },
    {
      "cell_type": "markdown",
      "metadata": {
        "id": "xHL1YJFSoWy4"
      },
      "source": [
        "https://en.m.wikipedia.org/wiki/Immersion_(mathematics)"
      ]
    },
    {
      "cell_type": "markdown",
      "metadata": {
        "id": "54IvLrfFtqz_"
      },
      "source": [
        "https://de.m.wikipedia.org/wiki/Geometrische_Topologie"
      ]
    },
    {
      "cell_type": "markdown",
      "metadata": {
        "id": "k2KxMXRNx2t3"
      },
      "source": [
        "https://en.m.wikipedia.org/wiki/Ambient_isotopy"
      ]
    },
    {
      "cell_type": "markdown",
      "metadata": {
        "id": "p0eAEQsZKRrM"
      },
      "source": [
        "**Dual: abgeschlossen**"
      ]
    },
    {
      "cell_type": "markdown",
      "metadata": {
        "id": "ta5nEiqJKVDD"
      },
      "source": [
        "* Eine Teilmenge des topologischen Raums X, deren Komplement eine offene Menge ist, heißt abgeschlossen. \n",
        "\n",
        "* Wenn man die oben formulierte Definition dualisiert und das Wort „offen“ durch „abgeschlossen“ ersetzt (sowie Schnitt und Vereinigung vertauscht), ergibt sich eine gleichwertige Definition des Begriffs „topologischer Raum“ über dessen System abgeschlossener Mengen."
      ]
    },
    {
      "cell_type": "markdown",
      "metadata": {
        "id": "AfSW7_VGEDLz"
      },
      "source": [
        "https://de.m.wikipedia.org/wiki/Netz_(Topologie)"
      ]
    },
    {
      "cell_type": "markdown",
      "metadata": {
        "id": "P_HlXEdMHy4c"
      },
      "source": [
        "https://de.m.wikipedia.org/wiki/Topologische_Algebra"
      ]
    },
    {
      "cell_type": "markdown",
      "metadata": {
        "id": "yeOP-VsOAOAv"
      },
      "source": [
        "https://en.m.wikipedia.org/wiki/Fibration"
      ]
    },
    {
      "cell_type": "markdown",
      "metadata": {
        "id": "-252wtN4AQXx"
      },
      "source": [
        "https://en.m.wikipedia.org/wiki/Cofibration"
      ]
    },
    {
      "cell_type": "markdown",
      "metadata": {
        "id": "cynrfVxSDZdF"
      },
      "source": [
        "https://de.m.wikipedia.org/wiki/Grothendieck-Topologie"
      ]
    },
    {
      "cell_type": "markdown",
      "metadata": {
        "id": "RhAfY9_j8TPM"
      },
      "source": [
        "https://de.m.wikipedia.org/wiki/Algebraische_Topologie"
      ]
    },
    {
      "cell_type": "markdown",
      "metadata": {
        "id": "1QBjG7HTbqbM"
      },
      "source": [
        "https://en.m.wikipedia.org/wiki/Characterizations_of_the_category_of_topological_spaces"
      ]
    },
    {
      "cell_type": "markdown",
      "metadata": {
        "id": "-Fr1deJIbsji"
      },
      "source": [
        "https://en.m.wikipedia.org/wiki/Category_of_topological_spaces"
      ]
    },
    {
      "cell_type": "markdown",
      "metadata": {
        "id": "oG-ZTRuUbwd-"
      },
      "source": [
        "https://en.m.wikipedia.org/wiki/Topological_space"
      ]
    },
    {
      "cell_type": "markdown",
      "metadata": {
        "id": "4dIwN9kA5LPy"
      },
      "source": [
        "https://de.m.wikipedia.org/wiki/Triviale_Topologie"
      ]
    },
    {
      "cell_type": "markdown",
      "metadata": {
        "id": "Dfq1dEjg5QZN"
      },
      "source": [
        "https://de.m.wikipedia.org/wiki/Diskrete_Topologie"
      ]
    },
    {
      "cell_type": "markdown",
      "metadata": {
        "id": "OnckX_yuNrkZ"
      },
      "source": [
        "https://de.m.wikipedia.org/wiki/Geometrisierung_von_3-Mannigfaltigkeiten"
      ]
    },
    {
      "cell_type": "markdown",
      "metadata": {
        "id": "yDwfENtWNuAh"
      },
      "source": [
        "https://de.m.wikipedia.org/wiki/Differentialtopologie"
      ]
    },
    {
      "cell_type": "markdown",
      "metadata": {
        "id": "ONv4GJU7G4VG"
      },
      "source": [
        "https://de.m.wikipedia.org/wiki/Gr%C3%B6bere_und_feinere_Topologien"
      ]
    },
    {
      "cell_type": "markdown",
      "metadata": {
        "id": "ZqtXEniYzJOs"
      },
      "source": [
        "https://de.m.wikipedia.org/wiki/Axiomatische_Homologie"
      ]
    },
    {
      "cell_type": "markdown",
      "metadata": {
        "id": "iqw9D7ljXi4J"
      },
      "source": [
        "https://de.m.wikipedia.org/wiki/Simpliziale_Homologie"
      ]
    },
    {
      "cell_type": "markdown",
      "metadata": {
        "id": "Jhj-FCBHXl9i"
      },
      "source": [
        "https://de.m.wikipedia.org/wiki/Homologietheorie"
      ]
    },
    {
      "cell_type": "markdown",
      "metadata": {
        "id": "x9RTOit8XoJg"
      },
      "source": [
        "https://de.m.wikipedia.org/wiki/Singuläre_Homologie"
      ]
    },
    {
      "cell_type": "markdown",
      "metadata": {
        "id": "uQrnXdVStuhN"
      },
      "source": [
        "https://mathoverflow.net/questions/24671/why-do-the-homology-groups-capture-holes-in-a-space-better-than-the-homotopy-gro"
      ]
    },
    {
      "cell_type": "markdown",
      "metadata": {
        "id": "PaYQ7cJLhJof"
      },
      "source": [
        "https://de.m.wikipedia.org/wiki/Homologietheorie"
      ]
    },
    {
      "cell_type": "markdown",
      "metadata": {
        "id": "BxkzH5jwlqiQ"
      },
      "source": [
        "## **Category Theory (Morphismen)**"
      ]
    },
    {
      "cell_type": "markdown",
      "metadata": {
        "id": "kViLkRKFhD5O"
      },
      "source": [
        "https://www.quantamagazine.org/with-category-theory-mathematics-escapes-from-equality-20191010/"
      ]
    },
    {
      "cell_type": "markdown",
      "metadata": {
        "id": "qOUNoXqvIn2s"
      },
      "source": [
        "https://en.m.wikipedia.org/wiki/Universal_property (from clifford algebra)"
      ]
    },
    {
      "cell_type": "markdown",
      "metadata": {
        "id": "7I0Sj-e-6x6L"
      },
      "source": [
        "### **Morphismen**"
      ]
    },
    {
      "cell_type": "markdown",
      "metadata": {
        "id": "vjqkrrOb9mMR"
      },
      "source": [
        "https://en.m.wikipedia.org/wiki/Morphism"
      ]
    },
    {
      "cell_type": "markdown",
      "metadata": {
        "id": "u9B6KgbpAAMR"
      },
      "source": [
        "#### **Summary**"
      ]
    },
    {
      "cell_type": "markdown",
      "metadata": {
        "id": "tCnN4xXj_30Q"
      },
      "source": [
        "![alternativer Text](https://raw.githubusercontent.com/deltorobarba/repo/master/morphismen.jpg)"
      ]
    },
    {
      "cell_type": "markdown",
      "metadata": {
        "id": "rKuWVM1ZAHlK"
      },
      "source": [
        "Source: [Morphismen Übersicht](https://youtu.be/KngDroAqUT0)"
      ]
    },
    {
      "cell_type": "markdown",
      "metadata": {
        "id": "uwsmc7LDx_K-"
      },
      "source": [
        "![xxx](https://raw.githubusercontent.com/deltorobarba/repo/master/morphismus2.jpg)"
      ]
    },
    {
      "cell_type": "markdown",
      "metadata": {
        "id": "otRmtiHsyVkp"
      },
      "source": [
        "Source: [Morphismen](https://youtu.be/0wKsFNLR15g)"
      ]
    },
    {
      "cell_type": "markdown",
      "metadata": {
        "id": "-x4GjB7R60YJ"
      },
      "source": [
        "* ist eine Funktion in Kategorientheorie\n",
        "\n",
        "* In der Kategorientheorie (einem Teilgebiet der Mathematik) betrachtet man sogenannte (abstrakte) Kategorien, die jeweils gegeben sind durch eine Klasse von Objekten und für je zwei Objekte X und Y eine Klasse von Morphismen von X nach Y (auch als Pfeile bezeichnet).\n",
        "\n",
        "* Man schreibt: 𝑓:𝑋→𝑌\n",
        "\n",
        "* Zu der Kategorie gehört noch eine partielle Verknüpfung der Morphismen, die bestimmte Bedingungen erfüllen muss.\n",
        "\n",
        "* Interpretiert man Mengen mit gleicher Struktur als Objekte und die Funktionen zwischen den zugrunde liegenden Mengen, die mit deren Struktur verträglich sind, als zugehörige Morphismen, so spricht man von einer konkreten Kategorie. Die Verknüpfung der Morphismen entspricht dann der gewöhnlichen Hintereinanderausführung von Funktionen.\n",
        "\n",
        "* Es gibt aber auch ganz anders gebildete konkrete Kategorien, in denen Morphismen nicht als Funktionen zwischen den Objekten auftreten, etwa die Kategorie Toph, deren Objekte topologische Räume und deren Morphismen Homotopieklassen stetiger Funktionen sind, oder die Kategorie Rel, deren Objekte Mengen und deren Morphismen Relationen sind."
      ]
    },
    {
      "cell_type": "markdown",
      "metadata": {
        "id": "mUT_FWsZ6_9G"
      },
      "source": [
        "https://de.m.wikipedia.org/wiki/Morphismus"
      ]
    },
    {
      "cell_type": "markdown",
      "metadata": {
        "id": "IRd6gnIaP5Yv"
      },
      "source": [
        "#### **Homomorphismus**"
      ]
    },
    {
      "cell_type": "markdown",
      "metadata": {
        "id": "vrvr-3x8ooDF"
      },
      "source": [
        "**Overview**"
      ]
    },
    {
      "cell_type": "markdown",
      "metadata": {
        "id": "Jq7dlrQquZLg"
      },
      "source": [
        "* strukturerhaltende Abbildungen (gleiche Gestalt von Original auf Bild)\n",
        "\n",
        "* Als Homomorphismus (zusammengesetzt aus altgriechisch ὁμός homós ‚gleich‘ oder ‚ähnlich‘, und altgriechisch μορφή morphé ‚Form‘; nicht zu verwechseln mit Homöomorphismus) werden in der Mathematik Abbildungen (=Funktionen) bezeichnet, die eine (oft algebraische) mathematische Struktur erhalten bzw. damit verträglich sind. \n",
        "\n",
        "* Ein Homomorphismus bildet die Elemente aus der einen Menge so in die andere Menge ab, dass sich ihre Bilder dort hinsichtlich der Struktur ebenso verhalten, wie sich deren Urbilder in der Ausgangsmenge verhalten."
      ]
    },
    {
      "cell_type": "markdown",
      "metadata": {
        "id": "eglIHPiIHjqn"
      },
      "source": [
        "* ein Homomorphismus ist strukturerhaltend, d.h. zB die originale 2D Ebene ist im neuen Vektorraum nur verschoben, oder auf eine Linie gezogen (aber mit Nullpunkt) oder sogar nur ein Punkt (alle Punkte vom Original 2D konzentrieren sich auf einen Punkt in der Abbildung\n",
        "\n",
        "* kein Homomorphismus ist eine Gruppe (zB 2D Ebene), wenn alle entsprechenden Punkte in der Abbildung in einer Dimension größer liegen, oder total verteilt sind, oder die Ebene identisch ist aber ein Loch in der Abbildung aber nicht im Original existiert."
      ]
    },
    {
      "cell_type": "markdown",
      "metadata": {
        "id": "X1RwTzZgIVMk"
      },
      "source": [
        "https://youtu.be/KK_fHodz-lQ"
      ]
    },
    {
      "cell_type": "markdown",
      "metadata": {
        "id": "jCNkozbcHgYo"
      },
      "source": [
        "Ein (Vektorraum-) Homomorphismus ist eine Abbildung $\\varphi: V \\rightarrow W$ zwischen $K$ -Vektorräumen $V$ und $W$ mit den folgenden Eigenschaften:\n",
        "\n",
        "1. $\\varphi(v+u)=\\varphi(v)+\\varphi(u)$ für alle $u$ und $v \\in V$\n",
        "\n",
        "2. $\\varphi(\\lambda \\cdot v)=\\lambda \\cdot \\varphi(v) \\quad$ für alle $\\lambda \\in K$ und $v \\in V$ (Skalarmultiplikation)"
      ]
    },
    {
      "cell_type": "markdown",
      "metadata": {
        "id": "5MfN_h3GkOjN"
      },
      "source": [
        "https://de.m.wikipedia.org/wiki/Homomorphismus"
      ]
    },
    {
      "cell_type": "markdown",
      "metadata": {
        "id": "ypY_hbb0QSPX"
      },
      "source": [
        "##### **Gruppenhomomorphismus**"
      ]
    },
    {
      "cell_type": "markdown",
      "metadata": {
        "id": "xnUDHhWr-XCF"
      },
      "source": [
        "Gegeben seien zwei Gruppen $(G, *)$ und $(H, \\star) .$ Eine Funktion $\\phi: G \\rightarrow H$ heißt Gruppenhomomorphismus, wenn für alle Elemente $g_{1}, g_{2} \\in G$ gilt:\n",
        "\n",
        "> $\\phi\\left(g_{1} * g_{2}\\right)=\\phi\\left(g_{1}\\right) \\star \\phi\\left(g_{2}\\right)$\n",
        "\n",
        "Aus dieser Bedingung folgt unmittelbar, dass\n",
        "\n",
        "> $\\phi\\left(e_{G}\\right)=e_{H}$\n",
        "\n",
        "für die neutralen Elemente $e_{G} \\in G, e_{H} \\in H$ und dann\n",
        "\n",
        "> $\\phi\\left(g^{-1}\\right)=\\phi(g)^{-1}$\n",
        "\n",
        "für alle $g \\in G$ gelten muss sowie, mittels vollständiger Induktion, dass $\\phi\\left(g_{1} * \\ldots * g_{n}\\right)=\\phi\\left(g_{1}\\right) \\star \\ldots \\star \\phi\\left(g_{n}\\right)$ für eine beliebige endliche Anzahl von Faktoren gilt."
      ]
    },
    {
      "cell_type": "markdown",
      "metadata": {
        "id": "4Lpj_kMm_Ngc"
      },
      "source": [
        "**Beispiel**"
      ]
    },
    {
      "cell_type": "markdown",
      "metadata": {
        "id": "BvzLRIz6_Po4"
      },
      "source": [
        "* **Gegeben** seien zwei Gruppen: \n",
        "  * G reelle Zahlen mit Addition (R, +) und \n",
        "  * H reelle Zahlen mit Multiplikation (R, *). \n",
        "  * Neutrales Element in G ist Null, und in H ist 1.\n",
        "\n",
        "* **Aufgabe**: prüfen ob ein Homomorphismus zwischen diesen algebraischen Gruppen besteht\n",
        "\n",
        "* **Funktion / Abbildung zum Testen**: f (x) = e <sup>x</sup> bzw. f : x -> e <sup>x</sup>\n",
        "\n",
        "**Test** \n",
        "\n",
        "* Kriterium: $\\phi\\left(n_{G}\\right)=n_{H}$ (n steht für neutrales Element, man kann auch e schreiben)\n",
        "\n",
        "* Proof: e<sup>0</sup> (die Funktion 𝜙 = e hoch dem neutralen Element der ersten Gruppe) = 1 (neutrales Element der zweiten Gruppe)"
      ]
    },
    {
      "cell_type": "markdown",
      "metadata": {
        "id": "_UEBw5Z0ogl3"
      },
      "source": [
        "https://de.m.wikipedia.org/wiki/Gruppenhomomorphismus"
      ]
    },
    {
      "cell_type": "markdown",
      "metadata": {
        "id": "quHXje_VQWHH"
      },
      "source": [
        "##### **Körperhomomorphismus**"
      ]
    },
    {
      "cell_type": "markdown",
      "metadata": {
        "id": "fKXlGe0DEXeS"
      },
      "source": [
        "Seien $\\left(K ;+K ; *_{K}\\right)$ und $\\left(L ;+_{L} ; *_{L}\\right)$ zwei Körper.\n",
        "\n",
        "Eine Funktion $f: K \\rightarrow L$ heißt Körperhomomorphismus, falls sie folgende Axiome erfüllen:\n",
        "\n",
        "1. $f\\left(0_{K}\\right)=0_{L}$ sowie $f\\left(1_{K}\\right)=1_{L}$\n",
        "\n",
        "2. $\\forall a ; b \\in K: f(a+\\kappa b)=f(a)+_{L} f(b)$\n",
        "\n",
        "3. $\\forall a ; b \\in K: f\\left(a *_{K} b\\right)=f(a) *_{L} f(b)$"
      ]
    },
    {
      "cell_type": "markdown",
      "metadata": {
        "id": "76R5eWlAD5tL"
      },
      "source": [
        "https://de.m.wikipedia.org/wiki/Körperhomomorphismus"
      ]
    },
    {
      "cell_type": "markdown",
      "metadata": {
        "id": "IFXyqXaLQQQw"
      },
      "source": [
        "##### **Ringhomomorphismus**"
      ]
    },
    {
      "cell_type": "markdown",
      "metadata": {
        "id": "WY71AyVvlbsL"
      },
      "source": [
        "Gegeben seien zwei Ringe $(R,+, \\cdot)$ und $(S, \\oplus, \\otimes)$. Eine Funktion $\\varphi: R \\rightarrow S$ heißt Ringhomomorphismus, wenn für alle Elemente $a, b$ von $R$ gilt:\n",
        "\n",
        "$$\n",
        "\\varphi(a+b)=\\varphi(a) \\oplus \\varphi(b) \\text { und } \\varphi(a \\cdot b)=\\varphi(a) \\otimes \\varphi(b)\n",
        "$$\n",
        "\n",
        "Die Gleichung besagt, dass der Homomorphismus strukturerhaltend ist: Es ist egal, ob man erst zwei Elemente verknüpft, und das Ergebnis abbildet, oder erst die zwei Elemente abbildet, und dann\n",
        "die Bilder verknüpft."
      ]
    },
    {
      "cell_type": "markdown",
      "metadata": {
        "id": "5FQ6_W7HlIEl"
      },
      "source": [
        "https://de.m.wikipedia.org/wiki/Ringhomomorphismus"
      ]
    },
    {
      "cell_type": "markdown",
      "metadata": {
        "id": "6qCyNILtQke3"
      },
      "source": [
        "##### **Algebrenhomomorphismus**"
      ]
    },
    {
      "cell_type": "markdown",
      "metadata": {
        "id": "1R1Rxx85nwHq"
      },
      "source": [
        "Eine Abbildung $f: A \\rightarrow B$ zwischen zwei $K$ -Algebren ist ein Homomorphismus, falls folgendes gilt:\n",
        "\n",
        "* $(\\lambda x)=\\lambda f(x)$ für alle $\\lambda \\in K, x \\in A$\n",
        "\n",
        "* $f(x+y)=f(x)+f(y)$ für alle $x, y \\in A$\n",
        "\n",
        "* $(x \\cdot y)=f(x) \\cdot f(y)$ für alle $x, y \\in A$\n",
        "\n",
        "* Gegebenenfalls $f(1)=1$, wobei mit 1 die Einselemente in den Algebren bezeichnet seien."
      ]
    },
    {
      "cell_type": "markdown",
      "metadata": {
        "id": "dBkWP9hNnbDI"
      },
      "source": [
        "https://de.m.wikipedia.org/wiki/Algebra_über_einem_Körper#Algebrenhomomorphismen"
      ]
    },
    {
      "cell_type": "markdown",
      "metadata": {
        "id": "k5pob0z5Qrk3"
      },
      "source": [
        "##### **Vektorraumhomomorphismus (Lineare Abbildung)**"
      ]
    },
    {
      "cell_type": "markdown",
      "metadata": {
        "id": "YF_VVnMsq1Qj"
      },
      "source": [
        "Seien $V$ und $W$ Vektorräume über einem gemeinsamen Grundkörper $K .$ Eine Abbildung $f: V \\rightarrow W$ heißt lineare Abbildung, wenn für alle $x, y \\in V$ und $a \\in K$ die folgenden Bedingungen\n",
        "gelten:\n",
        "\n",
        "* $\\boldsymbol{f}$ ist homogen (**Homogenität**):\n",
        "\n",
        "> $\n",
        "f(a x)=a f(x)\n",
        "$\n",
        "\n",
        "* $\\boldsymbol{f}$ ist additiv (**Additivität**):\n",
        "\n",
        "> $\n",
        "f(x+y)=f(x)+f(y)\n",
        "$\n",
        "\n",
        "Die zwei obigen Bedingungen kann man auch zusammenfassen:\n",
        "\n",
        "> $\n",
        "f(a x+y)=a f(x)+f(y)\n",
        "$\n",
        "\n",
        "Für $y=0_{V}$ geht diese in die Bedingung für die Homogenität und für $a=1_{K}$ in diejenige für die Additivität über. Eine weitere, gleichwertige Bedingung ist die Forderung, dass der Graph der Abbildung $f$ ein Untervektorraum der Summe der Vektorräume $V$ und $W$ ist."
      ]
    },
    {
      "cell_type": "markdown",
      "metadata": {
        "id": "eovWfQe3pBQN"
      },
      "source": [
        "* Lineare Abbildung: homogene und additive Abbildung\n",
        "\n",
        "* Eine lineare Abbildung (auch lineare Transformation oder Vektorraumhomomorphismus genannt) ist in der linearen Algebra ein wichtiger Typ von Abbildung zwischen zwei Vektorräumen über demselben Körper. \n",
        "\n",
        "* Bei einer linearen Abbildung ist es unerheblich, ob man zwei Vektoren zuerst addiert und dann deren Summe abbildet oder zuerst die Vektoren abbildet und dann die Summe der Bilder bildet. Gleiches gilt für die Multiplikation mit einem Skalar aus dem Grundkörper."
      ]
    },
    {
      "cell_type": "markdown",
      "metadata": {
        "id": "p_75qVqkpwzD"
      },
      "source": [
        "![xyz](https://upload.wikimedia.org/wikipedia/commons/thumb/3/33/Reflection_of_a_triangle_about_the_y_axis.svg/320px-Reflection_of_a_triangle_about_the_y_axis.svg.png)"
      ]
    },
    {
      "cell_type": "markdown",
      "metadata": {
        "id": "h6-PQJIIp_NL"
      },
      "source": [
        "*Achsenspiegelung als Beispiel einer linearen Abbildung*"
      ]
    },
    {
      "cell_type": "markdown",
      "metadata": {
        "id": "tOgfgrz8psEB"
      },
      "source": [
        "* Das abgebildete Beispiel einer Spiegelung an der Y-Achse verdeutlicht dies. Der Vektor $c$ ist die Summe der Vektoren $a$ und $b$ und sein Bild ist der Vektor $c^{\\prime} .$ Man erhält $c^{\\prime}$ aber auch, wenn man die Bilder $a^{\\prime}$ und $b^{\\prime}$ der Vektoren $a$ und $b$ addiert.\n",
        "\n",
        "* Man sagt dann, dass eine lineare Abbildung mit den Verknüpfungen Vektoraddition und skalarer\n",
        "Multiplikation verträglich ist. Es handelt sich somit bei der linearen Abbildung um einen\n",
        "Homomorphismus (strukturerhaltende Abbildung) zwischen Vektorräumen."
      ]
    },
    {
      "cell_type": "markdown",
      "metadata": {
        "id": "WOPz-c8iuDa5"
      },
      "source": [
        "![xxx](https://upload.wikimedia.org/wikipedia/commons/thumb/a/a6/Compatibility_of_linear_map_with_addition_1.svg/640px-Compatibility_of_linear_map_with_addition_1.svg.png)"
      ]
    },
    {
      "cell_type": "markdown",
      "metadata": {
        "id": "cW32LF3luQmE"
      },
      "source": [
        "*Visualisierung der Verträglichkeit mit der Vektoraddition: Jedes durch $v_{1}$, $v_{2}$ und $v_{3}=v_{1}+v_{2}$ gegebene Additions dreieck bleibt durch die lineare Abbildung $f$ erhalten. Auch $f\\left(v_{1}\\right), f\\left(v_{2}\\right)$ und $f\\left(v_{1}+v_{2}\\right)$ bildet ein Additionsdreieck und es gilt $f\\left(v_{1}+v_{2}\\right)=f\\left(v_{1}\\right)+f\\left(v_{2}\\right)$*"
      ]
    },
    {
      "cell_type": "markdown",
      "metadata": {
        "id": "An-atfdpuWr6"
      },
      "source": [
        "![xxx](https://upload.wikimedia.org/wikipedia/commons/thumb/4/4e/Compatibility_of_linear_map_with_addition_2.svg/640px-Compatibility_of_linear_map_with_addition_2.svg.png)"
      ]
    },
    {
      "cell_type": "markdown",
      "metadata": {
        "id": "7e9iDwKduhT-"
      },
      "source": [
        "*Bei Abbildungen, die sich nicht mit der Addition vertragen, gibt es Vektoren $v_{1}, v_{2}$ und $v_{3}=v_{1}+v_{2},$ sodass $f\\left(v_{1}\\right), f\\left(v_{2}\\right)$ und $f\\left(v_{1}+v_{2}\\right)$ kein Additionsdreieck bilden, weil $f\\left(v_{1}+v_{2}\\right) \\neq f\\left(v_{1}\\right)+f\\left(v_{2}\\right)$ ist. Eine solche Abbildung ist nicht linear.*"
      ]
    },
    {
      "cell_type": "markdown",
      "metadata": {
        "id": "M_HrnzymuzzS"
      },
      "source": [
        "**Beispiele für Vektorraumhomomorphismus**\n",
        "\n",
        "* Für $V=W=\\mathbb{R}$ hat jede lineare Abbildung die Gestalt $f(x)=m x$ mit $m \\in \\mathbb{R}$\n",
        "\n",
        "* Es sei $V=\\mathbb{R}^{n}$ und $W=\\mathbb{R}^{m}$. Dann wird für jede $m \\times n$ -Matrix $A$ mit Hilfe der Matrizenmultiplikation eine lineare Abbildung $f: \\mathbb{R}^{n} \\rightarrow \\mathbb{R}^{m}$ durch\n",
        "\n",
        "$f(x)=A x=\\left(\\begin{array}{ccc}a_{11} & \\cdots & a_{1 n} \\\\ \\vdots & & \\vdots \\\\ a_{m 1} & \\cdots & a_{m n}\\end{array}\\right)\\left(\\begin{array}{c}x_{1} \\\\ \\vdots \\\\ x_{n}\\end{array}\\right)$\n",
        "definiert. \n",
        "\n",
        "Jede lineare Abbildung von $\\mathbb{R}^{n}$ nach $\\mathbb{R}^{m}$ kann so dargestellt werden."
      ]
    },
    {
      "cell_type": "markdown",
      "metadata": {
        "id": "sTIBq-jaqJnb"
      },
      "source": [
        "**Vektorraumhomomorphismus in der Funktionalanalyse**\n",
        "\n",
        "* In der Funktionalanalysis, bei der Betrachtung unendlichdimensionaler Vektorräume, die eine Topologie tragen, spricht man meist von linearen Operatoren statt von linearen Abbildungen. \n",
        "\n",
        "* Formal gesehen sind die Begriffe gleichbedeutend. Bei unendlichdimensionalen Vektorräumen ist jedoch die Frage der Stetigkeit bedeutsam, während Stetigkeit immer vorliegt bei linearen Abbildungen zwischen endlichdimensionalen reellen Vektorräumen (jeweils mit der euklidischen Norm) oder allgemeiner zwischen endlichdimensionalen [hausdorffschen](https://de.m.wikipedia.org/wiki/Hausdorff-Raum) [topologischen Vektorräumen.](https://de.m.wikipedia.org/wiki/Topologischer_Vektorraum)"
      ]
    },
    {
      "cell_type": "markdown",
      "metadata": {
        "id": "5Nlu00vko2v9"
      },
      "source": [
        "https://de.m.wikipedia.org/wiki/Lineare_Abbildung"
      ]
    },
    {
      "cell_type": "markdown",
      "metadata": {
        "id": "QPpM4ns_Qgke"
      },
      "source": [
        "##### **Modulhomomorphismus**"
      ]
    },
    {
      "cell_type": "markdown",
      "metadata": {
        "id": "3HFYjRz6wJC2"
      },
      "source": [
        "* Ersetzt man in der Definition der linearen Abbildung zwischen Vektorräumen den Körper durch einen Ring, erhält man einen Modulhomomorphismus. Der Ring braucht nicht kommutativ zu sein."
      ]
    },
    {
      "cell_type": "markdown",
      "metadata": {
        "id": "zy7dUfigwexj"
      },
      "source": [
        "Es seien zwei Rechtsmoduln $M, N$ über einem Ring $R$ gegeben. Eine Abbildung $f: M \\rightarrow N$ heißt Homomorphismus von $M$ nach $N$, wenn für alle $m_{1}, m_{2} \\in M$ und alle $r \\in R$ gilt:\n",
        "\n",
        "> $\n",
        "f\\left(m_{1}+m_{2}\\right)=f\\left(m_{1}\\right)+f\\left(m_{2}\\right) \\text { und } f\\left(m_{1} \\cdot r\\right)=f\\left(m_{1}\\right) \\cdot r\n",
        "$"
      ]
    },
    {
      "cell_type": "markdown",
      "metadata": {
        "id": "MANsKCUYozN5"
      },
      "source": [
        "https://de.m.wikipedia.org/wiki/Modulhomomorphismus"
      ]
    },
    {
      "cell_type": "markdown",
      "metadata": {
        "id": "s2PvBbtlRBfm"
      },
      "source": [
        "##### **Lie-Algebren-Homomorphismus**"
      ]
    },
    {
      "cell_type": "markdown",
      "metadata": {
        "id": "E_r-ToqU0H4a"
      },
      "source": [
        "#### **Endomorphismus**"
      ]
    },
    {
      "cell_type": "markdown",
      "metadata": {
        "id": "8H7Ywty_D3VV"
      },
      "source": [
        "* **Endomorphismus : Definitionsmenge = Zielmenge** (zB lineare Abbildung auf sich selbst). Die Bildmenge muss aber nicht der ganze Vektorraum sein (d.h. Ziele können weniger sein als Usprünge innerhalb einer Menge). Beispiel: lineare Funktionen von reellen Zahlen in die reellen Zahlen.\n",
        "\n",
        "* In der universellen Algebra ist ein Endomorphismus ein Homomorphismus $f: A \\rightarrow A$ einer mathematischen Struktur $A$ in sich selbst. \n",
        "\n",
        "* Ist $f$ zusätzlich ein Isomorphismus, wird er auch Automorphismus genannt.\n",
        "\n",
        "* In der Kategorientheorie heißt jeder Morphismus, dessen Quelle und Ziel übereinstimmen, ein Endomorphismus des fraglichen Objektes\n",
        "\n",
        "* Die Gesamtheit der Endomorphismen eines Objektes $A$ wird mit End $(A)$ bezeichnet und bildet stets ein Monoid (das Endomorphismenmonoid oder die Endomorphismenhalbgruppe), in additiven Kategorien sogar einen (unitären) Ring.\n"
      ]
    },
    {
      "cell_type": "markdown",
      "metadata": {
        "id": "ekAvH_5qFSI0"
      },
      "source": [
        "**Algebraische Strukturen**"
      ]
    },
    {
      "cell_type": "markdown",
      "metadata": {
        "id": "dwWAzuVqFXu4"
      },
      "source": [
        "Sei $\\left(A,\\left(f_{i}\\right)\\right)$ eine algebraische Struktur, also eine nichtleere Menge $A$ zusammen mit einer endlichen Anzahl an Verknüpfungen $f_{i}$ mit entsprechenden Stelligkeiten $\\sigma_{i} .$ **Eine solche algebraische Struktur könnte beispielsweise ein Vektorraum $(A,(+, \\cdot)),$ eine Gruppe $(A, *)$ oder ein Ring $(A,(+, *))$ sein**. Dann versteht man in der Algebra unter einem Endomorphismus $\\phi: A \\rightarrow A$ eine Abbildung der Menge $A$ auf sich selbst, die ein Homomorphismus ist, das heißt, es gilt\n",
        "\n",
        "$\n",
        "\\phi\\left(f_{i}\\left(a_{1}, \\ldots, a_{\\sigma_{i}}\\right)\\right)=f_{i}\\left(\\phi\\left(a_{1}\\right), \\ldots, \\phi\\left(a_{\\sigma_{i}}\\right)\\right)\n",
        "$\n",
        "\n",
        "für alle $i$ und alle $a_{1}, \\ldots, a_{\\sigma_{i}} \\in A$"
      ]
    },
    {
      "cell_type": "markdown",
      "metadata": {
        "id": "tolOgpYJFnko"
      },
      "source": [
        "**Kategorientheorie**"
      ]
    },
    {
      "cell_type": "markdown",
      "metadata": {
        "id": "3Fw1LGDMFx-E"
      },
      "source": [
        "Sei $X$ ein Objekt einer Kategorie. Ein Morphismus $f: X \\rightarrow X$, der auf einem Objekt $X$ operiert, heißt Endomorphismus.\n",
        "\n",
        "Für Kategorien von Homomorphismen zwischen algebraischen Strukturen ist die Definition äquivalent zu der im vorherigen Abschnitt."
      ]
    },
    {
      "cell_type": "markdown",
      "metadata": {
        "id": "Q-QqbBc4KtGu"
      },
      "source": [
        "https://de.m.wikipedia.org/wiki/Endomorphismus"
      ]
    },
    {
      "cell_type": "markdown",
      "metadata": {
        "id": "98qpJfBQK2qu"
      },
      "source": [
        "https://de.m.wikipedia.org/wiki/Automorphismus"
      ]
    },
    {
      "cell_type": "markdown",
      "metadata": {
        "id": "Mny8a5t4-wOE"
      },
      "source": [
        "#### **Monomorphismus**"
      ]
    },
    {
      "cell_type": "markdown",
      "metadata": {
        "id": "dsPbGNdovJDR"
      },
      "source": [
        "* wenn eine Abbildung injektiv ist (jedes Element des Usprungs hat ein exklusives Element in der Zielmenge das nicht mit anderen geteilt wird, und nicht alle Elemente in der Zielmenge haben eine Faser im Usprungsbild)\n",
        "\n",
        "* Gegenteil ist Epimorphismus (Abbildungs ist surjektiv)"
      ]
    },
    {
      "cell_type": "markdown",
      "metadata": {
        "id": "4x8yPcRVKx8U"
      },
      "source": [
        "https://de.m.wikipedia.org/wiki/Monomorphismus"
      ]
    },
    {
      "cell_type": "markdown",
      "metadata": {
        "id": "PmM2fIh3-rfG"
      },
      "source": [
        "#### **Epimorphismus**"
      ]
    },
    {
      "cell_type": "markdown",
      "metadata": {
        "id": "ueXKkkkcvrNW"
      },
      "source": [
        "* Abbildung ist surjektiv (die Bildmenge ist die komplette Zielmenge, dh jedes Element im Ziel ist mind 1 mal getroffen\n",
        "\n",
        "* Gegenteil von Monomorphismus"
      ]
    },
    {
      "cell_type": "markdown",
      "metadata": {
        "id": "tw7_nIcxK8hI"
      },
      "source": [
        "https://de.m.wikipedia.org/wiki/Epimorphismus"
      ]
    },
    {
      "cell_type": "markdown",
      "metadata": {
        "id": "C8MxT7kh0K_V"
      },
      "source": [
        "#### **Isomorphismus**"
      ]
    },
    {
      "cell_type": "markdown",
      "metadata": {
        "id": "ZEoPo1-lD_iN"
      },
      "source": [
        "https://en.m.wikipedia.org/wiki/Isomorphism_of_categories"
      ]
    },
    {
      "cell_type": "markdown",
      "metadata": {
        "id": "wSCCYbc9BpgA"
      },
      "source": [
        "##### **Overview**"
      ]
    },
    {
      "cell_type": "markdown",
      "metadata": {
        "id": "sh67DIapwCIg"
      },
      "source": [
        "* Abbildung ist bijektiv (injektiv und surjektiv gleichzeitig)\n",
        "\n",
        "* ein Isomorphismus ist damit gleichzeit auch ein Epi- und Monomorphismus"
      ]
    },
    {
      "cell_type": "markdown",
      "metadata": {
        "id": "w10AMUu-AT3A"
      },
      "source": [
        "![xx](https://raw.githubusercontent.com/deltorobarba/repo/master/isomorphismus.JPG)"
      ]
    },
    {
      "cell_type": "markdown",
      "metadata": {
        "id": "wp5JI4Ft4VDr"
      },
      "source": [
        "**In der universellen Algebra**"
      ]
    },
    {
      "cell_type": "markdown",
      "metadata": {
        "id": "q_nd7gb00Ona"
      },
      "source": [
        "* ist ein bijektiver Homomorphismus\n",
        "\n",
        "* eine Abbildung zwischen zwei mathematischen Strukturen, durch die Teile einer Struktur auf bedeutungsgleiche Teile einer anderen Struktur umkehrbar eindeutig (bijektiv) abgebildet werden.\n",
        "\n",
        "* siehe auch [Bijektive Funktion](https://de.m.wikipedia.org/wiki/Bijektive_Funktion) - eigene Namen wie Isomorphismus, Diffeomorphismus, Homöomorphismus, Spiegelung oder Ähnliches. Hier sind dann in der Regel noch zusätzliche Forderungen in Hinblick auf die Erhaltung der jeweils betrachteten Struktur zu erfüllen.\n",
        "\n",
        "In der universellen Algebra heißt eine Funktion φ ([phi](https://de.m.wikipedia.org/wiki/Phi)) zwischen zwei algebraischen Strukturen (zum Beispiel Gruppen, Ringen, Körpern oder Vektorräumen) ein Isomorphismus, wenn:\n",
        "\n",
        "* $\\varphi$ bijektiv ist,\n",
        "\n",
        "* $\\varphi$ ein Homomorphismus ist.\n",
        "\n",
        "Isomorphe Strukturen sind in gewisser Weise „das gleiche“, nämlich dann, wenn man von der Darstellung der Elemente der zugrundeliegenden Mengen und den Namen der Relationen und Verknüpfungen absieht."
      ]
    },
    {
      "cell_type": "markdown",
      "metadata": {
        "id": "sJDvkS_BTWTn"
      },
      "source": [
        "* Gibt es einen Isomorphismus zwischen zwei algebraischen Strukturen, dann heißen die beiden Strukturen zueinander isomorph. Isomorphe Strukturen sind in gewisser Weise „das gleiche“, nämlich dann, wenn man von der Darstellung der Elemente der zugrundeliegenden Mengen und den Namen der Relationen und Verknüpfungen absieht.\n",
        "\n",
        "* Die Aussage ${ }_{n} X$ und $Y$ sind isomorph\" wird üblicherweise durch $\\simeq$ oder durch $X \\cong Y$ notiert.\n",
        "\n",
        "* Ist $\\varphi$ ein bijektiver Homomorphismus zwischen zwei algebraischen Strukturen, dann ist immer auch $\\varphi^{-1}$ ein bijektiver Homomorphismus."
      ]
    },
    {
      "cell_type": "markdown",
      "metadata": {
        "id": "T0gDL3Hz4X6e"
      },
      "source": [
        "**In der Kategorientheorie**"
      ]
    },
    {
      "cell_type": "markdown",
      "metadata": {
        "id": "S6RtRWI_10iv"
      },
      "source": [
        "* Der oben in der universellen Algebra definierte Isomorphismus ist ein Spezialfall des in der Kategorientheorie definierten Isomorphismus: In der Kategorientheorie definiert man einen Isomorphismus allgemein als einen Morphismus f : X → Y, der ein beidseitiges Inverses f<sup>-1</sup> : Y → X besitzt: f ∘ f<sup>-1</sup> = id <sub>Y</sub> und f<sup>-1</sup> ∘ f = id <sub>X</sub>.\n",
        "\n",
        "* Weitere Spezialfälle dieses Isomorphiebegriffes sind beispielsweise [Homöomorphismen](https://de.m.wikipedia.org/wiki/Homöomorphismus) als Isomorphismen in der Kategorie der topologischen Räume und stetige Abbildungen oder [Homotopieäquivalenzen](https://de.m.wikipedia.org/wiki/Homotopie#Homotopieäquivalenz) als Isomorphismen in der Kategorie der topologischen Räume mit den [Homotopieklassen](https://de.m.wikipedia.org/wiki/Homotopie) von Abbildungen als Morphismen.\n",
        "\n",
        "* In der Kategorientheorie ist von entscheidender Bedeutung, dass die Eigenschaft Isomorphismus unter jedem Funktor erhalten bleibt, d. $\\mathrm{h}$. ist $f: X \\rightarrow Y$ ein Isomorphismus in einer Kategorie $C$ und $F: C \\rightarrow D$ ein Funktor, dann ist $F(f): F(X) \\rightarrow F(Y)$ ebenfalls ein Isomorphismus, in der Kategorie $D$. \n",
        "\n",
        "* In der algebraischen Topologie wird diese Eigenschaft häufig festgestellt, um Räume in Relation bringen zu können: sind beispielsweise die Fundamentalgruppen zweier Räume isomorph, so sind die Räume homöomorph."
      ]
    },
    {
      "cell_type": "markdown",
      "metadata": {
        "id": "Zvn1CCA80RT2"
      },
      "source": [
        "https://de.m.wikipedia.org/wiki/Isomorphismus"
      ]
    },
    {
      "cell_type": "markdown",
      "metadata": {
        "id": "JLMn2lws52Su"
      },
      "source": [
        "**Sonderfall: Homöomorphismus**"
      ]
    },
    {
      "cell_type": "markdown",
      "metadata": {
        "id": "eBG_pS8655o1"
      },
      "source": [
        "* In der algebraischen Topologie wird die Eigenschaft des Isomorphismus häufig festgestellt, um Räume in Relation bringen zu können: **Sind (beispielsweise) die [Fundamentalgruppen](https://de.m.wikipedia.org/wiki/Fundamentalgruppe) zweier Räume isomorph, so sind die Räume homöomorph.**\n",
        "\n",
        "* Homöomorphismus ist eine umkehrbare Abbildung zwischen zwei topologischen Räumen"
      ]
    },
    {
      "cell_type": "markdown",
      "metadata": {
        "id": "HK1PwhI-57sy"
      },
      "source": [
        "https://de.m.wikipedia.org/wiki/Homöomorphismus"
      ]
    },
    {
      "cell_type": "markdown",
      "metadata": {
        "id": "NBeTqOWvBtBg"
      },
      "source": [
        "##### **Beispiele**"
      ]
    },
    {
      "cell_type": "markdown",
      "metadata": {
        "id": "_RIuKIu3Bxhy"
      },
      "source": [
        "**Gruppenisomorphismus**\n",
        "\n",
        "Sind die Strukturen Gruppen, dann heißt ein solcher Isomorphismus Gruppenisomorphismus. Meist meint man mit Isomorphismen solche zwischen algebraischen Strukturen wie Gruppen, Ringen, Körpern oder Vektorräumen."
      ]
    },
    {
      "cell_type": "markdown",
      "metadata": {
        "id": "UaP1GEvrB5Zd"
      },
      "source": [
        "**Isometrischer Isomorphismus**"
      ]
    },
    {
      "cell_type": "markdown",
      "metadata": {
        "id": "eLCPM1LGB-jb"
      },
      "source": [
        "**Ordnungsisomorphismus**"
      ]
    },
    {
      "cell_type": "markdown",
      "metadata": {
        "id": "pacCQAp--ldC"
      },
      "source": [
        "#### **Automorphismus**"
      ]
    },
    {
      "cell_type": "markdown",
      "metadata": {
        "id": "XTzQJlUNwjkP"
      },
      "source": [
        "* Sonderart des Isomomorphismus und Endomorphismus und speziellester Morphismus den es gibt\n",
        "\n",
        "* Ist wie Endomorphismus dass Definitionsmenge = Zielmenge ist, aber im Unterschied dazu noch bijektiv (alle Elemente sind 1:1 miteinander verknüpft)"
      ]
    },
    {
      "cell_type": "markdown",
      "metadata": {
        "id": "gLCSYbQCnvxo"
      },
      "source": [
        "### **Category Theory**"
      ]
    },
    {
      "cell_type": "markdown",
      "metadata": {
        "id": "A7SZI7YGoWcY"
      },
      "source": [
        "https://de.m.wikipedia.org/wiki/Faserprodukt"
      ]
    },
    {
      "cell_type": "markdown",
      "metadata": {
        "id": "efsHSl4GzCD5"
      },
      "source": [
        "https://de.m.wikipedia.org/wiki/Produkt_und_Koprodukt"
      ]
    },
    {
      "cell_type": "markdown",
      "metadata": {
        "id": "OsrR7e6XzN-V"
      },
      "source": [
        "kovariant: https://de.m.wikipedia.org/wiki/Funktor_(Mathematik)"
      ]
    },
    {
      "cell_type": "markdown",
      "metadata": {
        "id": "Hl_3aoFItdLv"
      },
      "source": [
        "https://youtu.be/vZMPobB-NhU"
      ]
    },
    {
      "cell_type": "markdown",
      "metadata": {
        "id": "W7GvjhlBtgiC"
      },
      "source": [
        "https://youtu.be/P6DvIfTJhx8"
      ]
    },
    {
      "cell_type": "markdown",
      "metadata": {
        "id": "yXsVUyxUYbAY"
      },
      "source": [
        "Here are a couple of interesting applied category theory courses that could be a good source of examples:\n",
        "https://www.azimuthproject.org/azimuth/show/Applied+Category+Theory+Course#idea\n",
        "https://applied-compositional-thinking.engineering/lectures/\n",
        "In particular, the following page has an interesting discussion where a database schema is a category and particular instances are functors from that category to Set:\n",
        "https://forum.azimuthproject.org/discussion/2213/lecture-38-chapter-3-databases-as-functors/p1"
      ]
    },
    {
      "cell_type": "markdown",
      "metadata": {
        "id": "K8EieKv5NidD"
      },
      "source": [
        "https://golem.ph.utexas.edu/category/2007/09/category_theory_in_machine_lea.html"
      ]
    },
    {
      "cell_type": "markdown",
      "metadata": {
        "id": "wAM4BlposTkf"
      },
      "source": [
        "##### **Outline of Category Theory**"
      ]
    },
    {
      "cell_type": "markdown",
      "metadata": {
        "id": "J3k3TPd_MX35"
      },
      "source": [
        "https://en.m.wikipedia.org/wiki/Outline_of_category_theory"
      ]
    },
    {
      "cell_type": "markdown",
      "metadata": {
        "id": "HRKbXX2SHCtR"
      },
      "source": [
        "https://en.m.wikipedia.org/wiki/Glossary_of_category_theory"
      ]
    },
    {
      "cell_type": "markdown",
      "metadata": {
        "id": "EJE7T6A_MZbw"
      },
      "source": [
        "https://de.m.wikipedia.org/wiki/Vertr%C3%A4glichkeit_(Mathematik)"
      ]
    },
    {
      "cell_type": "markdown",
      "metadata": {
        "id": "G_tUPl_VAxbI"
      },
      "source": [
        "##### **Objects**"
      ]
    },
    {
      "cell_type": "markdown",
      "metadata": {
        "id": "NyXuaJ3V-YZ-"
      },
      "source": [
        "* A category consists of a collection of objects together with morphisms between these objects. Thus, naively, we may think of objects as the ‘elements’ of a category.\n",
        "\n",
        "* In the category Set, the objects are sets; in Vect the objects are vector spaces; in Top the objects are topological spaces, etc."
      ]
    },
    {
      "cell_type": "markdown",
      "metadata": {
        "id": "VktkIIFfDU6z"
      },
      "source": [
        "**Examples**"
      ]
    },
    {
      "cell_type": "markdown",
      "metadata": {
        "id": "5eLPSGAeDW0j"
      },
      "source": [
        "* If a set is regarded as a discrete category (with no nontrivial morphisms) then the objects of that category are precisely the elements of the set.\n",
        "\n",
        "* In the fundamental groupoid \n",
        "Π\n",
        "1\n",
        "(\n",
        "X\n",
        ")\n",
        " of a topological space \n",
        "X\n",
        ", the objects are the points of \n",
        "X\n",
        ".\n",
        "\n",
        "* **In the category Set, the objects are sets; in Vect the objects are vector spaces; in Top the objects are topological spaces, etc.**\n",
        "\n",
        "* If a simplicial set that is a Kan complex is regarded as an ∞-groupoid, then its vertices are the objects of that ∞-groupoid.\n",
        "\n",
        "* Similarly if a simplicial set that is a quasi-category is regarded as an (∞,1)-category, then its vertices are the objects of that (∞,1)-category.\n",
        "\n",
        "* If a globular set is equipped with the structure of a strict ∞-category, then its \n",
        "0-cells are the objects of that ∞-category."
      ]
    },
    {
      "cell_type": "markdown",
      "metadata": {
        "id": "I3bjOlrE-bAl"
      },
      "source": [
        "https://ncatlab.org/nlab/show/object"
      ]
    },
    {
      "cell_type": "markdown",
      "metadata": {
        "id": "tyvBJrE3-uA9"
      },
      "source": [
        "https://ncatlab.org/nlab/show/category"
      ]
    },
    {
      "cell_type": "markdown",
      "metadata": {
        "id": "p5ndDsbXneH4"
      },
      "source": [
        "##### **Product und Coproduct**"
      ]
    },
    {
      "cell_type": "markdown",
      "metadata": {
        "id": "aZvmelY1BHvW"
      },
      "source": [
        "* Das Produkt entsteht aus einer Verallgemeinerung des kartesischen Produkts und das Koprodukt aus einer Verallgemeinerung der (äußeren) disjunkten Vereinigung von Mengen. \n",
        "\n",
        "* Das Produkt und Koprodukt decken das kartesische Produkt und die disjunkte Vereinigung als Spezialfälle auf der Kategorie der Mengen ab."
      ]
    },
    {
      "cell_type": "markdown",
      "metadata": {
        "id": "0qp1rlSQC8aj"
      },
      "source": [
        "Erläuterung \"Produkt\" anhand der Verallgemeinerung des kartesischen Produkts zweier Mengen:\n",
        "\n",
        "* A **categorical product** is an object (called a **candidate**) that has an arrow into A (category, or set) and and arrow into B (this is important !! - diese pfeile sind sowas wie reverse engineer das kartesische produkt), and for any other object (another potential candidate for being a product) with its arrows f and g there is going to be a **unique arrow h** which has the property that **it makes the diagram commute.**\n",
        "\n",
        "* The categorical product is a candidate A x B, $\\phi$<sub>1</sub> : A x B $\\rightarrow$ A, $\\phi$<sub>2</sub> : A x B $\\rightarrow$ B such that for any other candidate X, f : X $\\rightarrow$ A, g : X $\\rightarrow$ B there exists a unique h : X $\\rightarrow$ A x B such that $\\phi$<sub>1</sub> ∗ h = f, $\\phi$<sub>2</sub> ∗ h = g\n"
      ]
    },
    {
      "cell_type": "markdown",
      "metadata": {
        "id": "HSwhbeLQngrK"
      },
      "source": [
        "https://de.m.wikipedia.org/wiki/Produkt_und_Koprodukt"
      ]
    },
    {
      "cell_type": "markdown",
      "metadata": {
        "id": "C1qiFnOmnRoB"
      },
      "source": [
        "##### **Anfangsobjekt (initiales), Endobjekt (terminales, finales) und Nullobjekt**"
      ]
    },
    {
      "cell_type": "markdown",
      "metadata": {
        "id": "dsxv-mg2rpg1"
      },
      "source": [
        "1. Ein Objekt $X$ heißt Anfangsobjekt, wenn es für jedes Objekt $Y$ der Kategorie genau einen Morphismus $X \\rightarrow Y$ gibt.\n",
        "\n",
        "2. Ein Objekt $X$ heißt Endobjekt, wenn es für jedes Objekt $Y$ der Kategorie genau einen Morphismus $Y \\rightarrow X$ gibt.\n",
        "\n",
        "3. Ein Objekt heißt Nullobjekt, wenn es gleichzeitig Anfangs- und Endobjekt ist.\n",
        "\n",
        "* in Anfangsobjekt ist ein spezieller Fall des Koprodukts, ein Endobjekt ein spezieller Fall des Produkts in Kategorien.\n",
        "\n",
        "* Je zwei Anfangsobjekte, Endobjekte und Nullobjekte sind isomorph. Ist ein Anfangsobjekt zu einem Endobjekt isomorph, dann handelt es sich um ein Nullobjekt.\n",
        "\n",
        "* Die in all diesen Fällen auftretenden Isomorphismen sind jeweils eindeutig bestimmt. Zusammenfassend bedeutet dies: Anfangs-, End- und Nullobjekte sind (sofern sie existieren) jeweils eindeutig bis auf eindeutigen Isomorphismus.\n",
        "\n",
        "* Das Anfangsobjekt ist ein Sonderfall des Koprodukts, nämlich für die leere Familie von Objekten. Das Endobjekt ist ein Sonderfall des Produkts, nämlich für die leere Familie von Objekten."
      ]
    },
    {
      "cell_type": "markdown",
      "metadata": {
        "id": "N21bN-3jtF9p"
      },
      "source": [
        "*Beispiele*"
      ]
    },
    {
      "cell_type": "markdown",
      "metadata": {
        "id": "I5JtZlzGtPPC"
      },
      "source": [
        "* In der Kategorie der Mengen ist die leere Menge das Anfangsobjekt und jede einelementige Menge ein Endobjekt. Diese Kategorie hat kein Nullobjekt.\n",
        "\n",
        "* In der Kategorie der Gruppen oder der abelschen Gruppen ist die triviale Gruppe (die nur aus dem neutralen Element besteht) Nullobjekt.\n",
        "\n",
        "* In der Kategorie der nichtleeren Halbgruppen gibt es kein Anfangsobjekt. Lässt man die leere Halbgruppe zu, so ist diese das Anfangsobjekt. In beiden Fällen ist jede einelementige Halbgruppe Endobjekt.\n",
        "\n",
        "* In der Kategorie der Vektorräume über einem Körper (oder allgemeiner der Moduln über einem Ring) ist der Nullvektorraum (bzw. der Nullmodul) Nullobjekt.\n",
        "\n",
        "* In der Kategorie der kommutativen Ringe mit Einselement ist der Ring Z der ganzen Zahlen Anfangsobjekt und der Nullring Endobjekt.\n",
        "\n",
        "* In der Kategorie beliebiger Ringe ist der Nullring Nullobjekt.\n",
        "\n",
        "* In der Kategorie der punktierten topologischen Räume sind die einpunktigen Räume Nullobjekte.\n",
        "\n",
        "* Man kann jede partielle Ordnung als Kategorie auffassen indem man festlegt, dass genau dann ein Pfeil von \n",
        "x nach y geht, wenn \n",
        "x\n",
        "≤\n",
        "y\n",
        "gilt. Ein Anfangsobjekt entspricht dann dem kleinsten Element der Ordnung (falls es existiert). Ein Endobjekt entspricht dem größten Element."
      ]
    },
    {
      "cell_type": "markdown",
      "metadata": {
        "id": "raAcLUVWnb26"
      },
      "source": [
        "https://de.m.wikipedia.org/wiki/Anfangsobjekt,_Endobjekt_und_Nullobjekt"
      ]
    },
    {
      "cell_type": "markdown",
      "metadata": {
        "id": "PI2PKFV2271a"
      },
      "source": [
        "##### **Functor**"
      ]
    },
    {
      "cell_type": "markdown",
      "metadata": {
        "id": "x4yBGQGHN6fi"
      },
      "source": [
        "**A homomorphism between categories is a functor.**"
      ]
    },
    {
      "cell_type": "markdown",
      "metadata": {
        "id": "aT7i4YeZ90wt"
      },
      "source": [
        "A functor \n",
        "F\n",
        " from a category \n",
        "C\n",
        " to a category \n",
        "D\n",
        " is a map sending each object \n",
        "x\n",
        "∈\n",
        "C\n",
        " to an object \n",
        "F\n",
        "(\n",
        "x\n",
        ")\n",
        "∈\n",
        "D\n",
        "and each morphism \n",
        "f\n",
        ":\n",
        "x\n",
        "→\n",
        "y\n",
        " in \n",
        "C\n",
        " to morphism \n",
        "F\n",
        "(\n",
        "f\n",
        ")\n",
        ":\n",
        "F\n",
        "(\n",
        "x\n",
        ")\n",
        "→\n",
        "F\n",
        "(\n",
        "y\n",
        ")\n",
        " in \n",
        "D\n",
        ", such that\n",
        "\n",
        "* F\n",
        " preserves composition: \n",
        "F\n",
        "(\n",
        "g\n",
        "∘\n",
        "f\n",
        ")\n",
        "=\n",
        "F\n",
        "(\n",
        "g\n",
        ")\n",
        "∘\n",
        "F\n",
        "(\n",
        "f\n",
        ")\n",
        " whenever the left-hand side is well-defined,\n",
        "\n",
        "* F\n",
        " preserves identity morphisms: for each object \n",
        "x\n",
        "∈\n",
        "C\n",
        ", \n",
        "F\n",
        "(\n",
        "1\n",
        "x\n",
        ")\n",
        "=\n",
        "1\n",
        "F\n",
        "(\n",
        "x\n",
        ")\n",
        "."
      ]
    },
    {
      "cell_type": "markdown",
      "metadata": {
        "id": "hHkuwKUqEbyn"
      },
      "source": [
        "Remember: one object in one category can be a whole set from the category Sets, so within this set (=object of a category), you can define morphisms within the set"
      ]
    },
    {
      "cell_type": "markdown",
      "metadata": {
        "id": "FVqo4Egq-AkR"
      },
      "source": [
        "https://ncatlab.org/nlab/show/functor"
      ]
    },
    {
      "cell_type": "markdown",
      "metadata": {
        "id": "mZt_7I_P6YQi"
      },
      "source": [
        "* strukturerhaltende Abbildung (in Analysis: Funktion) zwischen zwei Kategorien\n",
        "\n",
        "* Funktoren sind ein zentrales Grundkonzept des mathematischen Teilgebiets der Kategorientheorie. **Ein Funktor ist eine strukturerhaltende Abbildung zwischen zwei Kategorien**. Konkrete Funktoren haben in vielen Teilgebieten der Mathematik eine besondere Bedeutung.\n",
        "\n",
        "* Funktoren werden auch Diagramme genannt (mitunter nur in bestimmten Kontexten), da sie eine formale Abstraktion [kommutativer Diagramme](https://de.m.wikipedia.org/wiki/Kommutatives_Diagramm) darstellen."
      ]
    },
    {
      "cell_type": "markdown",
      "metadata": {
        "id": "Ut6apBYkBFvk"
      },
      "source": [
        "**Funktoren: Zuordnungen zwischen zwei Kategorien**\n",
        "\n",
        "* Kategorie besteht aus Objekten und Morphismen. Man möchte jedem Objekt in einer Kategorie ein Objekt in der anderen Kategorie zuordnen, **und das gleiche mit den Morphismen zwischen den Objekten**.\n",
        "\n",
        "* **Kovarianter Funktor**: der Morphismus zwischen Objekten in einer Menge soll identisch sein zum Morphismus zwischen den entsprechenden Objekten im Bild. Der Funktor schickt diese Objekte von einer Kategorie in eine andere, wobei die obige Eigenschaft zwischen den Morphismen zwischen den Objekten eingehalten wird.\n",
        "\n",
        "* **Kontravarianter Funktor**: da wird die Richtung einfach versteht"
      ]
    },
    {
      "cell_type": "markdown",
      "metadata": {
        "id": "VHpPmeE-9o-l"
      },
      "source": [
        "Let $C$ and $D$ be categories. A functor $F$ from $C$ to $D$ is a mapping that\n",
        "\n",
        "1. associates to each object $X$ in $C$ an object $F(X)$ in $D$,\n",
        "\n",
        "2. associates to each morphism $f: X \\rightarrow Y$ in $C$ a morphism $F(f): F(X) \\rightarrow F(Y)$ in $D$ such that the following two conditions hold:\n",
        "\n",
        "* $F(\\mathrm{id} x)=\\operatorname{id}_{F(X)}$ for every object $X$ in $\\mathrm{C}$\n",
        "* $F(g \\circ f)=F(g) \\circ F(f)$ for all morphisms $f: X \\rightarrow Y$ and $g: Y \\rightarrow Z$ in $C$\n",
        "\n",
        "That is, functors must preserve [identity morphisms](https://en.m.wikipedia.org/wiki/Morphism#Definition) and [composition of morphisms](https://en.m.wikipedia.org/wiki/Function_composition)"
      ]
    },
    {
      "cell_type": "markdown",
      "metadata": {
        "id": "86-A0BcCBMjy"
      },
      "source": [
        "Ein Funktor von einer Kategorie auf sich selbst $(F: \\mathcal{C} \\rightarrow \\mathcal{C})$ heißt Endofunktor.\n",
        "\n",
        "Ein kovarianter Funktor auf der dualen Kategorie, $F: \\mathcal{C}^{O \\mathrm{P}} \\rightarrow \\mathcal{D},$ wird als kontravarianter Funktor (oder Kofunktor) $F: \\mathcal{C} \\rightarrow \\mathcal{D}$ bezeichnet und kann als Abbildung von $\\mathcal{C}$ nach $\\mathcal{D}$ angesehen werden, indem man die Morphismen in $\\mathcal{C}$ und $\\mathcal{C}^{\\mathrm{OP}}$ miteinander identifiziert."
      ]
    },
    {
      "cell_type": "markdown",
      "metadata": {
        "id": "fJE_pk6RBtTj"
      },
      "source": [
        "**Beispiele**"
      ]
    },
    {
      "cell_type": "markdown",
      "metadata": {
        "id": "Pn6dtBk8Bvjg"
      },
      "source": [
        "* Der identische Funktor $i d: \\mathcal{C} \\rightarrow \\mathcal{C}$, der jedem Morphismus sich selbst zuordnet, ist ein kovarianter Funktor.\n",
        "\n",
        "* Ist $\\mathcal{C}$ die Kategorie der Vektorräume mit den linearen Abbildungen als Morphismen und ordnet $F: \\mathcal{C} \\rightarrow \\mathcal{C}$ jedem Vektorraum $V$ seinen Dualraum $V^{*}$ zu und jeder linearen Abbildung $f: V \\rightarrow W$ die duale Abbildung $f^{*}: W^{*} \\rightarrow V^{*} z u,$ so ist $F$ ein kontravarianter Funktor."
      ]
    },
    {
      "cell_type": "markdown",
      "metadata": {
        "id": "kIwT21wm6cks"
      },
      "source": [
        "https://de.m.wikipedia.org/wiki/Funktor_(Mathematik)"
      ]
    },
    {
      "cell_type": "markdown",
      "metadata": {
        "id": "IIAlSlRt6sSJ"
      },
      "source": [
        "https://en.m.wikipedia.org/wiki/Functor"
      ]
    },
    {
      "cell_type": "markdown",
      "metadata": {
        "id": "aIEaPwl_6n_a"
      },
      "source": [
        "https://en.m.wikipedia.org/wiki/Forgetful_functor"
      ]
    },
    {
      "cell_type": "markdown",
      "metadata": {
        "id": "A_edQIMKvAyx"
      },
      "source": [
        "**Homfunctor & Tensorfunctor**"
      ]
    },
    {
      "cell_type": "markdown",
      "metadata": {
        "id": "SeRIL_uyu_XP"
      },
      "source": [
        "* Die Homologische Algebra ist ein Werkzeug für die Algebraische Topologie, für die Gruppentheorie, für die Kommutative Algebra etc. Technisch gesprochen ist die Homologische Algebra die Lehre der abelschen Kategorien und der additiven Funktoren zwischen diesen. Zunächst wird also der Begriff der abelschen Kategorie einzuführen sein. Es bilden e.g. die abelschen Gruppen eine solche abelsche Kategorie – und daher entlehnt sich auch der Name.\n",
        "\n",
        "* Die meisten der in der Natur auftretenden **additiven Funktoren** zwischen solchen abelschen Kategorien haben Defekte; sie sind teils nur **linksexakt, wie etwa Homfunktoren**; teils nur **rechtsexakt, wie etwa Tensorfunktoren**. Diese Defekte versucht man aufzufangen, indem man die gegebenen Funktoren ableitet und die gegebenen und die abgeleiteten Funktoren u ̈ber eine lang exakte Sequenz verbindet."
      ]
    },
    {
      "cell_type": "markdown",
      "metadata": {
        "id": "dBHwL9bAmkjt"
      },
      "source": [
        "##### **Adjoint functors (Adjunktion)**"
      ]
    },
    {
      "cell_type": "markdown",
      "metadata": {
        "id": "gJjHBAT2m9la"
      },
      "source": [
        "* Isomorphie entspricht Isotopie, \n",
        "* natürliche Äquivalenz entspricht Homöomorphie und \n",
        "* Adjungiertheit entspricht Homotopie."
      ]
    },
    {
      "cell_type": "markdown",
      "metadata": {
        "id": "r8OZifPyv12I"
      },
      "source": [
        "Adjunktion ist ein Begriff aus dem mathematischen Teilgebiet der Kategorientheorie. Zwei\n",
        "Funktoren $F: \\mathcal{C} \\rightarrow \\mathcal{D}$ und $G: \\mathcal{D} \\rightarrow \\mathcal{C}$ zwischen Kategorien $\\mathcal{C}$ und $\\mathcal{D}$ heißen adjungiert, wenn sie\n",
        "eine gewisse Beziehung zwischen Morphismenmengen vermitteln. Dieser Begriff wurde von D. M.\n",
        "Kan eingeführt."
      ]
    },
    {
      "cell_type": "markdown",
      "metadata": {
        "id": "PTqqhHlZu48A"
      },
      "source": [
        "Zwei Funktoren $F: \\mathcal{C} \\rightarrow \\mathcal{D}$ und $G: \\mathcal{D} \\rightarrow \\mathcal{C}$ zwischen Kategorien $\\mathcal{C}$ und $\\mathcal{D}$ bilden ein adjungiertes\n",
        "Funktorpaar, wenn die Funktoren\n",
        "\n",
        "$\n",
        "(X, Y) \\mapsto \\operatorname{Mor}_{\\mathcal{D}}(X, F Y)\n",
        "$\n",
        "\n",
        "und\n",
        "\n",
        "$\n",
        "(X, Y) \\mapsto \\operatorname{Mor}_{\\mathcal{C}}(G X, Y)\n",
        "$\n",
        "\n",
        "von $\\mathcal{D}^{\\text {op }} \\times \\mathcal{C}$ in die Kategorie der Mengen Set natürlich äquivalent sind. (Zusammen mit den beiden Kategorien und den beiden Funktoren bildet die natürliche Äquivalenz eine Adjunktion.)\n",
        "\n",
        "$F$ heißt rechtsadjungiert zu $G, G$ heißt linksadjungiert zu $F$."
      ]
    },
    {
      "cell_type": "markdown",
      "metadata": {
        "id": "ePDJb9Q3vQ4e"
      },
      "source": [
        "*Einheit und Koeinheit der Adjunktion*"
      ]
    },
    {
      "cell_type": "markdown",
      "metadata": {
        "id": "7gk1GysyEWxc"
      },
      "source": [
        "https://de.m.wikipedia.org/wiki/Adjunktion_(Kategorientheorie)"
      ]
    },
    {
      "cell_type": "markdown",
      "metadata": {
        "id": "J9aCKzO2HdFZ"
      },
      "source": [
        "https://en.m.wikipedia.org/wiki/Adjoint_functors"
      ]
    },
    {
      "cell_type": "markdown",
      "metadata": {
        "id": "V_-MkFSbBIQo"
      },
      "source": [
        "##### **Natural Transformations**"
      ]
    },
    {
      "cell_type": "markdown",
      "metadata": {
        "id": "g3pE09gQBTi5"
      },
      "source": [
        "* Maps between functors (and functors are maps between categories)\n",
        "\n",
        "* beschreibt Beziehung zwischen zwei Funktoren (während zwei Funktoren die Beziehung zwei zwei Kategorien beschreibt, also eine Ebene tiefer)\n",
        "\n",
        "* A natural transformation provides a way of **transforming one functor into another while respecting the internal structure** (i.e., the composition of morphisms) of the categories involved. \n",
        "\n",
        "* Hence, a natural transformation can be considered to be a \"**morphism of functors**\". Indeed, this intuition can be formalized to define so-called functor categories. \n",
        "\n",
        "* Natural transformations are, **after categories and functors, one of the most fundamental notions** of category theory and consequently appear in the majority of its applications."
      ]
    },
    {
      "cell_type": "markdown",
      "metadata": {
        "id": "5iwUwVkAG49d"
      },
      "source": [
        "If $F$ and $G$ are functors between the categories $C$ and $D,$ then a natural transformation $\\eta$ from $F$ to $G$\n",
        "is a family of morphisms that satisfies two requirements:\n",
        "\n",
        "1. **The natural transformation must associate**, to every object $X$ in $C$, a morphism $\\eta_{X}: F(X) \\rightarrow G(X)$ between objects of $D .$ The morphism $\\eta_{X}$ is called the component of $\\eta$ at $X .$\n",
        "\n",
        "2. Components must be such that for every morphism $f: X \\rightarrow Y$ in $C$ we have:\n",
        "$\\eta_{Y} \\circ F(f)=G(f) \\circ \\eta_{X}$\n",
        "\n",
        "The last equation can conveniently be expressed by the **commutative diagram**"
      ]
    },
    {
      "cell_type": "markdown",
      "metadata": {
        "id": "nkbXRdmTBNdQ"
      },
      "source": [
        "https://en.m.wikipedia.org/wiki/Natural_transformation"
      ]
    },
    {
      "cell_type": "markdown",
      "metadata": {
        "id": "2SoIAK0sR_W3"
      },
      "source": [
        "**Natural tranformations are basically homotopies**"
      ]
    },
    {
      "cell_type": "markdown",
      "metadata": {
        "id": "fYRsSrwRSDBF"
      },
      "source": [
        "https://math.stackexchange.com/questions/9890/morphisms-in-the-category-of-natural-transformations/29869"
      ]
    },
    {
      "cell_type": "markdown",
      "metadata": {
        "id": "-tdzhBEuK90l"
      },
      "source": [
        "**Examples**"
      ]
    },
    {
      "cell_type": "markdown",
      "metadata": {
        "id": "5i9sUDpaK_3k"
      },
      "source": [
        "* Determinant of a matrix in linear algebra is a \"natural transformation\""
      ]
    },
    {
      "cell_type": "markdown",
      "metadata": {
        "id": "FgQp5gTymy4z"
      },
      "source": [
        "##### **Duality**"
      ]
    },
    {
      "cell_type": "markdown",
      "metadata": {
        "id": "PSj_44Cn8GvP"
      },
      "source": [
        "* duality is a correspondence between the properties of a category C and the dual properties of the opposite category C<sup>op</sup>. \n",
        "\n",
        "* Given a statement regarding the category C, by interchanging the source and target of each morphism as well as interchanging the order of composing two morphisms, a corresponding dual statement is obtained regarding the opposite category C<sup>op</sup>. \n",
        "\n",
        "* Duality, as such, is the assertion that truth is invariant under this operation on statements. In other words, if a statement is true about C, then its dual statement is true about C<sup>op</sup>. Also, if a statement is false about C, then its dual has to be false about C<sup>op</sup>.\n",
        "\n",
        "* Given a concrete category C, it is often the case that the opposite category C<sup>op</sup> per se is abstract. C<sup>op</sup> need not be a category that arises from mathematical practice. In this case, another category D is also termed to be in duality with C if D and C<sup>op</sup> are equivalent as categories.\n",
        "\n",
        "* In the case when C and its opposite C<sup>op</sup> are equivalent, such a category is self-dual."
      ]
    },
    {
      "cell_type": "markdown",
      "metadata": {
        "id": "h4GPdDdy9UuT"
      },
      "source": [
        "**Definition**"
      ]
    },
    {
      "cell_type": "markdown",
      "metadata": {
        "id": "4hIwP9SS9X7f"
      },
      "source": [
        "We define the elementary language of category theory as the two-sorted [first order language](https://en.m.wikipedia.org/wiki/First-order_logic) with objects and morphisms as distinct sorts, together with the relations of an object being the source or target of a morphism and a symbol for composing two morphisms.\n",
        "\n",
        "Let $\\sigma$ be any statement in this language. We form the dual $\\sigma$<sup>op</sup> as follows:\n",
        "\n",
        "1. Interchange each occurrence of \"source\" in $\\sigma$ with \"target\".\n",
        "2. Interchange the order of composing morphisms. That is, replace each occurrence of $g \\circ f$ with $f \\circ g$\n",
        "\n",
        "Informally, these conditions state that the dual of a statement is formed by reversing arrows and compositions.\n",
        "\n",
        "Duality is the observation that $\\sigma$ is true for some category $C$ if and only if $\\sigma$<sup>op</sup> is true for $\\mathrm{C}$<sup>op</sup>. \n"
      ]
    },
    {
      "cell_type": "markdown",
      "metadata": {
        "id": "w6aLx1N8_v3m"
      },
      "source": [
        "**Beispiele**"
      ]
    },
    {
      "cell_type": "markdown",
      "metadata": {
        "id": "lv8Ax8kH_x_E"
      },
      "source": [
        "* the property of being a monomorphism is dual to the property of being an epimorphism. Applying duality, this means that a morphism in some category C is a monomorphism if and only if the reverse morphism in the opposite category C<sup>op</sup> is an epimorphism.\n",
        "."
      ]
    },
    {
      "cell_type": "markdown",
      "metadata": {
        "id": "RNth1EUOL8tp"
      },
      "source": [
        "https://en.m.wikipedia.org/wiki/Dual_(category_theory)"
      ]
    },
    {
      "cell_type": "markdown",
      "metadata": {
        "id": "zkP1E-QL-PqM"
      },
      "source": [
        "##### **Types of Categories**"
      ]
    },
    {
      "cell_type": "markdown",
      "metadata": {
        "id": "ymTd9h4j7GQb"
      },
      "source": [
        "* Die Kategorientheorie lässt sich, ähnlich wie die universelle Algebra, als allgemeine Theorie mathematischer Strukturen auffassen (klassische Strukturen sind z. B. Gruppen, Ringe, Moduln und topologische Räume).\n",
        "\n",
        "* Dabei werden Eigenschaften mathematischer Strukturen allerdings nicht über Relationen zwischen Elementen der Trägermenge(n) definiert, sondern mittels Morphismen und Funktoren quasi über Vergleiche sowohl innerhalb von als auch zwischen Kategorien."
      ]
    },
    {
      "cell_type": "markdown",
      "metadata": {
        "id": "YOZ8-EPR8Ke1"
      },
      "source": [
        "https://en.m.wikipedia.org/wiki/Category_(mathematics)"
      ]
    },
    {
      "cell_type": "markdown",
      "metadata": {
        "id": "SHe-6JFB7JLx"
      },
      "source": [
        "https://de.m.wikipedia.org/wiki/Kategorientheorie"
      ]
    },
    {
      "cell_type": "markdown",
      "metadata": {
        "id": "VBs3-BFKAKbO"
      },
      "source": [
        "Grp: https://en.m.wikipedia.org/wiki/Category_of_groups"
      ]
    },
    {
      "cell_type": "markdown",
      "metadata": {
        "id": "mdlSlCspAQmw"
      },
      "source": [
        "Set: https://en.m.wikipedia.org/wiki/Category_of_sets"
      ]
    },
    {
      "cell_type": "markdown",
      "metadata": {
        "id": "D-3wpkFiAZBn"
      },
      "source": [
        "Top: https://en.m.wikipedia.org/wiki/Topological_space"
      ]
    },
    {
      "cell_type": "markdown",
      "metadata": {
        "id": "faJU6NV-AlIP"
      },
      "source": [
        "Uni: https://en.m.wikipedia.org/wiki/Uniform_space"
      ]
    },
    {
      "cell_type": "markdown",
      "metadata": {
        "id": "V4KFp9ynqCEA"
      },
      "source": [
        "##### **Topos**"
      ]
    },
    {
      "cell_type": "markdown",
      "metadata": {
        "id": "X5hqj6Zdp_gP"
      },
      "source": [
        "https://en.m.wikipedia.org/wiki/Topos"
      ]
    },
    {
      "cell_type": "markdown",
      "metadata": {
        "id": "S8irMSs4tpfM"
      },
      "source": [
        "* Category theorists have proposed [topos theory](https://en.m.wikipedia.org/wiki/Topos) as an alternative to traditional [axiomatic set theory](https://de.m.wikipedia.org/wiki/Axiomatische_Mengenlehre). Topos theory can interpret various alternatives to that theory, such as constructivism, finite set theory, and computable set theory.\n",
        "\n",
        "* Topoi also give a natural setting for forcing and discussions of the independence of choice from ZF, as well as providing the framework for pointless topology and Stone spaces."
      ]
    },
    {
      "cell_type": "markdown",
      "metadata": {
        "id": "cySVKDTU9k9j"
      },
      "source": [
        "##### **Monoidal Category**"
      ]
    },
    {
      "cell_type": "markdown",
      "metadata": {
        "id": "Y38i3Hxj9qvO"
      },
      "source": [
        "https://en.m.wikipedia.org/wiki/Monoid_(category_theory)"
      ]
    },
    {
      "cell_type": "markdown",
      "metadata": {
        "id": "EBpAeC129omB"
      },
      "source": [
        "https://en.m.wikipedia.org/wiki/Monoidal_category"
      ]
    },
    {
      "cell_type": "markdown",
      "metadata": {
        "id": "IPlwPUfSMCiu"
      },
      "source": [
        "### **Higher Category Theory**"
      ]
    },
    {
      "cell_type": "markdown",
      "metadata": {
        "id": "wA_0251JNp6A"
      },
      "source": [
        "https://en.m.wikipedia.org/wiki/Emily_Riehl"
      ]
    },
    {
      "cell_type": "markdown",
      "metadata": {
        "id": "XxYtn5vdNt-5"
      },
      "source": [
        "https://en.m.wikipedia.org/wiki/Higher_category_theory"
      ]
    },
    {
      "cell_type": "markdown",
      "metadata": {
        "id": "sN7dYfaMkqx3"
      },
      "source": [
        "https://en.m.wikipedia.org/wiki/Homotopy_theory\n",
        "\n"
      ]
    },
    {
      "cell_type": "markdown",
      "metadata": {
        "id": "IxaLhC6cNz1e"
      },
      "source": [
        "https://en.m.wikipedia.org/wiki/Quasi-category"
      ]
    },
    {
      "cell_type": "markdown",
      "metadata": {
        "id": "Xl_mGCd_Z4L5"
      },
      "source": [
        "https://ncatlab.org/nlab/show/infinity-category"
      ]
    },
    {
      "cell_type": "markdown",
      "metadata": {
        "id": "2BnUdgawZ6eT"
      },
      "source": [
        "https://ncatlab.org/nlab/show/applications+of+%28higher%29+category+theory#related_pages"
      ]
    },
    {
      "cell_type": "markdown",
      "metadata": {
        "id": "D-FhLzO4l5ww"
      },
      "source": [
        "**Motivation**\n",
        "\n",
        "0) A category is a collection of objects and morphisms between those objects that satisfy some rules.\n",
        "\n",
        "1) A functor is a morphism in the category of categories.\n",
        "\n",
        "2) A natural transformation is a morphism in the category of functors.\n",
        "\n",
        "But they all stop right there. What about:\n",
        "\n",
        "3) the morphisms in the category of natural transformations?\n",
        "\n",
        "4) Or the \"morphisms in the category of the morphisms in the category of natural transformations\""
      ]
    },
    {
      "cell_type": "markdown",
      "metadata": {
        "id": "zRG-6235l9Nd"
      },
      "source": [
        "**Definition**"
      ]
    },
    {
      "cell_type": "markdown",
      "metadata": {
        "id": "5ozuOxvjOpiu"
      },
      "source": [
        "* higher category theory is the part of category theory at a higher order, which means that some equalities are replaced by explicit arrows in order to be able to explicitly study the structure behind those equalities. \n",
        "\n",
        "* Higher category theory is often applied in algebraic topology (especially in homotopy theory), where one studies algebraic invariants of spaces, such as their fundamental weak ∞-groupoid."
      ]
    },
    {
      "cell_type": "markdown",
      "metadata": {
        "id": "fhMIqZ1GOjnU"
      },
      "source": [
        "https://en.m.wikipedia.org/wiki/Higher_category_theory"
      ]
    },
    {
      "cell_type": "markdown",
      "metadata": {
        "id": "DNLmUp4BMFrb"
      },
      "source": [
        "https://ncatlab.org/nlab/show/higher+category+theory"
      ]
    },
    {
      "cell_type": "markdown",
      "metadata": {
        "id": "2-GapRimmNDj"
      },
      "source": [
        "**From 2-category to Higher Order Category**"
      ]
    },
    {
      "cell_type": "markdown",
      "metadata": {
        "id": "c01H3a09mSyp"
      },
      "source": [
        "* The concept of 2-category generalizes further in higher category theory to n-categories, which have k-morphisms for all \n",
        "k\n",
        "≤\n",
        "n\n",
        ".\n",
        "\n",
        "* The morphisms can be composed along the objects, while the 2-morphisms can be composed in two different directions: along objects – called horizontal composition – and along morphisms – called vertical composition. The composition of morphisms is allowed to be associative only up to coherent associator 2-morphisms.\n",
        "\n",
        "Allowed operations:\n",
        "\n",
        "* [Dot Operation](https://de.m.wikipedia.org/wiki/Produkt_(Mathematik)#Funktionenringe) • between two morphismens\n",
        "\n",
        "* [Composition operation](https://de.m.wikipedia.org/wiki/Komposition_(Mathematik)) $\\circ$ between two morphisms (like: g $\\circ$ f means: g after f, or g composed f)"
      ]
    },
    {
      "cell_type": "markdown",
      "metadata": {
        "id": "7J6dknT8wv0b"
      },
      "source": [
        "https://ncatlab.org/nlab/show/horizontal+composition"
      ]
    },
    {
      "cell_type": "markdown",
      "metadata": {
        "id": "O5wTJeaBws_r"
      },
      "source": [
        "Cat is a name for the category or 2-category of all categories.\n",
        "\n",
        "This is also the archetypical 2-topos."
      ]
    },
    {
      "cell_type": "markdown",
      "metadata": {
        "id": "efS69T7TmH7-"
      },
      "source": [
        "https://ncatlab.org/nlab/show/2-category"
      ]
    },
    {
      "cell_type": "markdown",
      "metadata": {
        "id": "XajKu3aAxQBg"
      },
      "source": [
        "**∞-groupoid**"
      ]
    },
    {
      "cell_type": "markdown",
      "metadata": {
        "id": "FS4JGAM4xdGQ"
      },
      "source": [
        "* an ∞-groupoid is an abstract homotopical model for topological spaces. One model uses Kan complexes which are fibrant objects in the category of simplicial sets (with the standard model structure).\n",
        "\n",
        "* It is an ∞-category generalization of a groupoid, a category in which every morphism is an isomorphism.\n",
        "\n",
        "* The homotopy hypothesis states that ∞-groupoids are spaces."
      ]
    },
    {
      "cell_type": "markdown",
      "metadata": {
        "id": "1JP71umRxrHg"
      },
      "source": [
        "* The notion of ∞-groupoid is the generalization of that of group and groupoids to higher category theory"
      ]
    },
    {
      "cell_type": "markdown",
      "metadata": {
        "id": "q8mrEF-qxSMi"
      },
      "source": [
        "https://en.m.wikipedia.org/wiki/∞-groupoid"
      ]
    },
    {
      "cell_type": "markdown",
      "metadata": {
        "id": "CbJLVvvsxT9Y"
      },
      "source": [
        "https://ncatlab.org/nlab/show/infinity-groupoid"
      ]
    },
    {
      "cell_type": "markdown",
      "metadata": {
        "id": "_KQRJeCRPNXG"
      },
      "source": [
        "https://en.m.wikipedia.org/wiki/Enriched_category"
      ]
    },
    {
      "cell_type": "markdown",
      "metadata": {
        "id": "Z9_SFmqf9raT"
      },
      "source": [
        "**Cosmoi**"
      ]
    },
    {
      "cell_type": "markdown",
      "metadata": {
        "id": "vFVW-nHj9tdI"
      },
      "source": [
        "https://youtu.be/QpDTcefoWEQ"
      ]
    }
  ]
}