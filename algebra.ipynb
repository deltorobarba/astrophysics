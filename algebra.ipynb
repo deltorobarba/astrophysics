{
  "nbformat": 4,
  "nbformat_minor": 0,
  "metadata": {
    "colab": {
      "name": "algebra.ipynb",
      "provenance": [],
      "collapsed_sections": [
        "dZ-CImaKCoCr",
        "W7xhaOnBFAU0",
        "3_SCquGEo5by",
        "hwX-v1nkFF_O",
        "o5G2e0uRcUjy",
        "d8lFDeMxkny1",
        "C4SxpdgzfbOA",
        "K0UpZzAKftF8",
        "QYMsn5TXf2Tz",
        "QdV8mAKugO06",
        "Tk6qnMZUgGQw",
        "X9_tFvqUii2z",
        "c0PyO_OabSa1"
      ],
      "include_colab_link": true
    },
    "kernelspec": {
      "name": "python3",
      "display_name": "Python 3"
    }
  },
  "cells": [
    {
      "cell_type": "markdown",
      "metadata": {
        "id": "view-in-github",
        "colab_type": "text"
      },
      "source": [
        "<a href=\"https://colab.research.google.com/github/deltorobarba/machinelearning/blob/master/algebra.ipynb\" target=\"_parent\"><img src=\"https://colab.research.google.com/assets/colab-badge.svg\" alt=\"Open In Colab\"/></a>"
      ]
    },
    {
      "cell_type": "markdown",
      "metadata": {
        "id": "2Aoj2PpxvDQV",
        "colab_type": "text"
      },
      "source": [
        "# **Space, Algebra & Category**"
      ]
    },
    {
      "cell_type": "code",
      "metadata": {
        "id": "1U5_6xH7tAQq",
        "colab_type": "code",
        "colab": {}
      },
      "source": [
        "import numpy as np\n",
        "import pandas as pd\n",
        "import seaborn as sns\n",
        "import matplotlib.pyplot as plt"
      ],
      "execution_count": null,
      "outputs": []
    },
    {
      "cell_type": "markdown",
      "metadata": {
        "id": "dZ-CImaKCoCr",
        "colab_type": "text"
      },
      "source": [
        "## **Space**"
      ]
    },
    {
      "cell_type": "markdown",
      "metadata": {
        "id": "W7xhaOnBFAU0",
        "colab_type": "text"
      },
      "source": [
        "#### **Definition**"
      ]
    },
    {
      "cell_type": "markdown",
      "metadata": {
        "id": "yTfvRjedfXZ_",
        "colab_type": "text"
      },
      "source": [
        "**What constitutes a 'space'?**\n",
        "\n",
        "* **A space is a [set](https://en.m.wikipedia.org/wiki/Set_(mathematics)) - (sometimes called a [universe - Grundmenge](https://en.m.wikipedia.org/wiki/Universe_(mathematics))) with some added structure.**\n",
        "\n",
        "* A space consists of selected **mathematical objects that are treated as points**, and selected **relationships between these points**. \n",
        "\n",
        "* The nature of the points can vary widely: for example, the **points can be elements of a set, functions on another space, or subspaces of another space.**\n",
        "\n",
        "* While modern mathematics uses many types of spaces, such as Euclidean spaces, linear spaces, topological spaces, Hilbert spaces, or probability spaces, **it does not define the notion of \"space\" itself.**\n",
        "\n",
        "* **It is the relationships that define the nature of the space**. More precisely, isomorphic spaces are considered identical, where an isomorphism between two spaces is a one-to-one correspondence between their points that preserves the relationships. For example, the relationships between the points of a three-dimensional Euclidean space are uniquely determined by Euclid's axioms, and all three-dimensional Euclidean spaces are considered identical."
      ]
    },
    {
      "cell_type": "markdown",
      "metadata": {
        "id": "Vg5O5znmDfS5",
        "colab_type": "text"
      },
      "source": [
        "* They are frequently described as different types of [manifolds](https://en.m.wikipedia.org/wiki/Manifold), which are **spaces that locally approximate to Euclidean space**, and where the properties are defined largely on local connectedness of points that lie on the manifold. \n",
        "\n",
        "* There are however, many diverse mathematical objects that are called spaces. For example, [vector spaces](https://en.m.wikipedia.org/wiki/Vector_space) such as [function spaces](https://en.m.wikipedia.org/wiki/Function_space) may have infinite numbers of independent dimensions and a notion of distance very different from Euclidean space, and [topological spaces](https://en.m.wikipedia.org/wiki/Topological_space) replace the concept of distance with a more abstract idea of nearness."
      ]
    },
    {
      "cell_type": "markdown",
      "metadata": {
        "id": "QR_tzirCcLNv",
        "colab_type": "text"
      },
      "source": [
        "https://en.m.wikipedia.org/wiki/Space_(mathematics)"
      ]
    },
    {
      "cell_type": "markdown",
      "metadata": {
        "id": "hMgVoh0aDiZw",
        "colab_type": "text"
      },
      "source": [
        "* **Infinite-dimensional vector spaces arise naturally in mathematical analysis, as function spaces**, whose vectors are functions. These vector spaces are generally endowed with additional structure, which may be a topology, allowing the consideration of issues of proximity and continuity. \n",
        "\n",
        "* Among these topologies, those that are defined by a norm or inner product are more commonly used, as having a notion of distance between two vectors. This is particularly the case of **Banach spaces and Hilbert spaces**, which are fundamental in mathematical analysis."
      ]
    },
    {
      "cell_type": "markdown",
      "metadata": {
        "id": "3_SCquGEo5by",
        "colab_type": "text"
      },
      "source": [
        "#### **Difference between Space & Algebraic Structure**"
      ]
    },
    {
      "cell_type": "markdown",
      "metadata": {
        "id": "KOlRuCp4pSHZ",
        "colab_type": "text"
      },
      "source": [
        "* If we take \"algebraic structure\" to be a synonym for \"algebra\" (in the sense of universal algebra), then an algebraic structure is a set $X$, together with a family of operations on $X$.\n",
        "\n",
        "* Recall that given a set $X,$ an \"operation\" on $X$ is a function $X^{\\alpha} \\rightarrow X$, where $\\alpha$ is an ordinal. Such a function is called an $\\alpha$ -ary operation; when $\\alpha$ is a natural number, the operation is said to be \"finitary\" (takes only finitely many arguments).\n",
        "\n",
        "* Sometimes, algebraic structures are further enriched with (i) \"partial operations\" (functions defined on a subset $A \\subseteq X^{\\alpha}$ rather than all of $X^{\\alpha}$ ), or (ii) $\\beta$ -ary relations (subsetes of $A^{\\beta}$ ). We can also impose identities (requires that the operations/relations satisfy certain properties such as commutativity, etc).\n",
        "In this sense, vector spaces, groups, rings, fields, etc. are all (enriched) \"algebras\"; metric spaces are not."
      ]
    },
    {
      "cell_type": "markdown",
      "metadata": {
        "id": "V8t-z9pgpVKI",
        "colab_type": "text"
      },
      "source": [
        "* \"Space\" is a bit fuzzier; I would not put \"vector spaces\" in the class, restricting it rather to things like topological spaces, manifolds, metric spaces, normed spaces, etc.\n",
        "\n",
        "* Now, one should realize that you this does not have to be a dichotomy: you can have structures that include both kinds of data: a topological group is both an algebraic structure (a group) and a space (topological space), in a way that makes both structures interact with one another \"nicely\". Normed vector spaces are both algebraic structures (vector spaces), and \"spaces\" (normed spaces, hence metric, hence topological), where, again, we ask that the two structures interact nicely.\n",
        "\n",
        "* In fact, there is a lot of interesting stuff that can be obtained by having the two kinds of structures and \"playing them off against one another.\" For example, Stone Duality and Priestley Duality exploit this kind of \"structured topological space\" (a topological space that also has operations, partial operations, and relations that interact well with the topology)."
      ]
    },
    {
      "cell_type": "markdown",
      "metadata": {
        "id": "3xlf4fIkpW7r",
        "colab_type": "text"
      },
      "source": [
        "https://math.stackexchange.com/questions/174108/difference-between-space-and-algebraic-structure"
      ]
    },
    {
      "cell_type": "markdown",
      "metadata": {
        "id": "hwX-v1nkFF_O",
        "colab_type": "text"
      },
      "source": [
        "#### **Differentiations**"
      ]
    },
    {
      "cell_type": "markdown",
      "metadata": {
        "id": "CAjzcfrmD5PY",
        "colab_type": "text"
      },
      "source": [
        "![Normed Vector Space](https://upload.wikimedia.org/wikipedia/en/7/74/Mathematical_Spaces.png)"
      ]
    },
    {
      "cell_type": "markdown",
      "metadata": {
        "id": "NdEAjm5bD7_N",
        "colab_type": "text"
      },
      "source": [
        "Quelle: [Mathematical Spaces](https://en.m.wikipedia.org/wiki/Space_(mathematics))"
      ]
    },
    {
      "cell_type": "markdown",
      "metadata": {
        "id": "17_VZZJ2DlEy",
        "colab_type": "text"
      },
      "source": [
        "Topologischer Raum |  | dazugehörige Struktur\n",
        "--- | --- | ---\n",
        "[Euklidischer Raum](https://de.m.wikipedia.org/wiki/Euklidischer_Raum) | hat | Skalarprodukt\n",
        "[Normierter Raum](https://de.m.wikipedia.org/wiki/Normierter_Raum) | hat | Norm\n",
        "[Metrischer Raum](https://de.m.wikipedia.org/wiki/Metrischer_Raum) | hat | Metrik\n",
        "[Uniformer Raum](https://de.m.wikipedia.org/wiki/Uniformer_Raum) | hat | Uniforme Struktur\n",
        "[Topologischer Raum](https://de.m.wikipedia.org/wiki/Topologischer_Raum) | hat | Topologie"
      ]
    },
    {
      "cell_type": "markdown",
      "metadata": {
        "id": "2IaYmlO-DoF8",
        "colab_type": "text"
      },
      "source": [
        "Quelle: [Einordnung in die Hierarchie mathematischer Strukturen](https://de.m.wikipedia.org/wiki/Metrischer_Raum#Einordnung_in_die_Hierarchie_mathematischer_Strukturen) sowie [Topologische Räume](https://de.m.wikipedia.org/wiki/Topologischer_Raum#Beispiele)"
      ]
    },
    {
      "cell_type": "markdown",
      "metadata": {
        "id": "VxUD9vT9Dq2A",
        "colab_type": "text"
      },
      "source": [
        "![alternativer Text](https://upload.wikimedia.org/wikipedia/commons/thumb/d/dc/Mathematical_implication_diagram-alt-large-print.svg/640px-Mathematical_implication_diagram-alt-large-print.svg.png)"
      ]
    },
    {
      "cell_type": "markdown",
      "metadata": {
        "id": "OySsyz7YDtiE",
        "colab_type": "text"
      },
      "source": [
        "Quelle: [Overview of types of abstract spaces](https://en.m.wikipedia.org/wiki/Space_(mathematics))"
      ]
    },
    {
      "cell_type": "markdown",
      "metadata": {
        "id": "fqZht-ZpDv_D",
        "colab_type": "text"
      },
      "source": [
        "Topologische Räume können weiter [klassifiziert werden nach Kolmogorov](https://en.m.wikipedia.org/wiki/History_of_the_separation_axioms)."
      ]
    },
    {
      "cell_type": "markdown",
      "metadata": {
        "id": "pdsAlXSAbh_A",
        "colab_type": "text"
      },
      "source": [
        "#### **Taxonomy of Spaces**"
      ]
    },
    {
      "cell_type": "markdown",
      "metadata": {
        "id": "QnwOEXgPbsfu",
        "colab_type": "text"
      },
      "source": [
        "https://en.m.wikipedia.org/wiki/Space_(mathematics)#Taxonomy_of_spaces"
      ]
    },
    {
      "cell_type": "markdown",
      "metadata": {
        "id": "DIgySGBtaMWh",
        "colab_type": "text"
      },
      "source": [
        "## **Algebraic Structures**"
      ]
    },
    {
      "cell_type": "markdown",
      "metadata": {
        "id": "3oIStp-bE5eY",
        "colab_type": "text"
      },
      "source": [
        "#### **Overview**"
      ]
    },
    {
      "cell_type": "markdown",
      "metadata": {
        "id": "7fxw9DSyjiah",
        "colab_type": "text"
      },
      "source": [
        "* Algebraische Strukturen sind eine Form von [mathematischen Strukturen](https://de.m.wikipedia.org/wiki/Mathematische_Struktur) (neben topologischen Strukturen, geometrischen Strukturen und Zahlbereichen). Abstract algebra is the study of algebraic structures. \n",
        "\n",
        "* **Such a structure consists of a set together with one or more binary operations, which are required to satisfy certain axioms.**\n",
        "\n",
        "* The structures listed below are only a sample of the many algebraic structures of importance in mathematics. Many fields of mathematics involve their own special algebraic structures, and new algebraic structures are defined all the time. To give you a sense of scale, the online encyclopedia Wikipedia currently has articles on over a hundred different algebraic structures, and this represents only a small fraction of those that have been investigated in the mathematical literature."
      ]
    },
    {
      "cell_type": "markdown",
      "metadata": {
        "id": "a_Grie7TcA-J",
        "colab_type": "text"
      },
      "source": [
        "https://de.m.wikipedia.org/wiki/Universelle_Algebra"
      ]
    },
    {
      "cell_type": "markdown",
      "metadata": {
        "id": "hiN5Hs61cHOB",
        "colab_type": "text"
      },
      "source": [
        "https://de.m.wikipedia.org/wiki/Algebraische_Struktur"
      ]
    },
    {
      "cell_type": "markdown",
      "metadata": {
        "id": "u935jivwwoyZ",
        "colab_type": "text"
      },
      "source": [
        "weitere Links:"
      ]
    },
    {
      "cell_type": "markdown",
      "metadata": {
        "id": "pcE7T_Nvm94w",
        "colab_type": "text"
      },
      "source": [
        "https://de.m.wikipedia.org/wiki/Homologische_Algebra"
      ]
    },
    {
      "cell_type": "markdown",
      "metadata": {
        "id": "d7JgV171dZ8x",
        "colab_type": "text"
      },
      "source": [
        "https://de.m.wikipedia.org/wiki/Mathematische_Struktur"
      ]
    },
    {
      "cell_type": "markdown",
      "metadata": {
        "id": "mHcN_omucERh",
        "colab_type": "text"
      },
      "source": [
        "https://de.m.wikipedia.org/wiki/Abstrakte_Algebra"
      ]
    },
    {
      "cell_type": "markdown",
      "metadata": {
        "id": "cRicJmd-b6Kh",
        "colab_type": "text"
      },
      "source": [
        "https://de.m.wikipedia.org/wiki/Algebra_über_einem_Körper"
      ]
    },
    {
      "cell_type": "markdown",
      "metadata": {
        "id": "FqZ56YNZDbmL",
        "colab_type": "text"
      },
      "source": [
        "Generische Einführung in das Thema (weitere algebraische Strukturen \"neben\" Vector Spaces  wie zB Moduln, Ringe, Körper oder Gruppen):\n",
        "\n",
        "https://de.m.wikipedia.org/wiki/Mathematische_Struktur\n",
        "\n",
        "https://de.m.wikipedia.org/wiki/Abstrakte_Algebra\n",
        "\n",
        "https://de.m.wikipedia.org/wiki/Universelle_Algebra\n",
        "\n",
        "https://de.m.wikipedia.org/wiki/Algebraische_Struktur\n",
        "\n",
        "https://de.m.wikipedia.org/wiki/Funktionalanalysis#Normierte_Räume,_Banachräume\n",
        "\n",
        "https://en.m.wikipedia.org/wiki/Space_(mathematics)"
      ]
    },
    {
      "cell_type": "markdown",
      "metadata": {
        "id": "V6sUIaJPD0kb",
        "colab_type": "text"
      },
      "source": [
        "https://de.m.wikipedia.org/wiki/Raum_(Mathematik)#Klassifikation\n",
        "\n",
        "https://en.m.wikipedia.org/wiki/Vector_space\n",
        "\n",
        "https://de.m.wikipedia.org/wiki/Topologischer_Raum\n",
        "\n",
        "https://de.m.wikipedia.org/wiki/Algebraische_Struktur"
      ]
    },
    {
      "cell_type": "markdown",
      "metadata": {
        "id": "o5G2e0uRcUjy",
        "colab_type": "text"
      },
      "source": [
        "#### **Gruppen**"
      ]
    },
    {
      "cell_type": "markdown",
      "metadata": {
        "id": "0ZX6NbAykTKz",
        "colab_type": "text"
      },
      "source": [
        "* **A group is an algebraic structure with a single operation**. \n",
        "\n",
        "* Groups are closely associated with the idea of symmetry, and most groups that arise in mathematics are groups of symmetry transformations, with the operation being composition of functions.\n",
        "\n",
        "* **Groups are a particularly simple algebraic structure**, having only one operation and three axioms. Most algebraic structures have more than one operation, and are required to satisfy a long list of axioms."
      ]
    },
    {
      "cell_type": "markdown",
      "metadata": {
        "id": "yUWBA62mdc9Z",
        "colab_type": "text"
      },
      "source": [
        "* Sind Strukturen mit einer inneren Verknüpfung"
      ]
    },
    {
      "cell_type": "markdown",
      "metadata": {
        "id": "O2YHCqA2omDH",
        "colab_type": "text"
      },
      "source": [
        "A group is a set G together with a binary operation ∗ on G, satisfying the following axioms:\n",
        "\n",
        "1. The operation ∗ is associative. That is,\n",
        "a ∗ (b ∗ c) = (a ∗ b) ∗ c\n",
        "for all a,b,c ∈ G.\n",
        "\n",
        "2. There exists an element e ∈ G with the property that\n",
        "a∗e=e∗a=a\n",
        "for all a ∈ G. (This element e is called the identity element of G.)\n",
        "\n",
        "3. For each element a ∈ G, there exists an element a<sup>-1</sup> ∈ G such that a∗􏰁a<sup>-1</sup>􏰂 = 􏰁a<sup>-1</sup>􏰂∗a = e.\n",
        "(The element a<sup>-1</sup> is called the inverse of a.)"
      ]
    },
    {
      "cell_type": "markdown",
      "metadata": {
        "id": "d8lFDeMxkny1",
        "colab_type": "text"
      },
      "source": [
        "#### **Körper (Field)**"
      ]
    },
    {
      "cell_type": "markdown",
      "metadata": {
        "id": "-jEKqCtnsY92",
        "colab_type": "text"
      },
      "source": [
        "* The most familiar form of algebra is the elementary algebra that you learned in high school, namely the algebra of the real numbers. From an abstract point of view, this is the algebra of fields.\n",
        "\n",
        "* A field is an algebraic structure with addition and multiplication, which obey all of the usual rules of elementary algebra. Examples of fields include the rational numbers Q, the real numbers R, and the complex numbers C."
      ]
    },
    {
      "cell_type": "markdown",
      "metadata": {
        "id": "7uh8pgC5kwPM",
        "colab_type": "text"
      },
      "source": [
        "* Ein Körper ist im mathematischen Teilgebiet der Algebra eine ausgezeichnete algebraische Struktur, in der die Addition, Subtraktion, Multiplikation und Division auf eine bestimmte Weise durchgeführt werden können.\n",
        "\n",
        "* Die wichtigsten Körper, die in fast allen Gebieten der Mathematik benutzt werden, sind der Körper $\\mathbb {Q}$ der rationalen Zahlen, der Körper $\\mathbb {R}$ der reellen Zahlen und der Körper $\\mathbb {C}$ der komplexen Zahlen."
      ]
    },
    {
      "cell_type": "markdown",
      "metadata": {
        "id": "fiD4gEiPkpQq",
        "colab_type": "text"
      },
      "source": [
        "* Ein **Schiefkörper** oder Divisionsring ist eine algebraische Struktur, die alle Eigenschaften eines Körpers besitzt, außer dass die Multiplikation nicht notwendigerweise kommutativ ist."
      ]
    },
    {
      "cell_type": "markdown",
      "metadata": {
        "id": "1_Jav3cJksAh",
        "colab_type": "text"
      },
      "source": [
        "https://de.m.wikipedia.org/wiki/Körper_(Algebra)"
      ]
    },
    {
      "cell_type": "markdown",
      "metadata": {
        "id": "tEFak7pNqvaP",
        "colab_type": "text"
      },
      "source": [
        "A field is a set F together with two binary operations + (the addition operation) and · (the multiplication operation), that satisfy the following axioms:\n",
        "\n",
        "1. The addition operation is **associative**. That is,\n",
        "a + (b + c) = (a + b) + c\n",
        "for all a,b,c ∈ F.\n",
        "\n",
        "2. The addition operation is **commutative**. That is,\n",
        "a+b=b+a\n",
        "for all a, b ∈ F .\n",
        "\n",
        "3. There exists a special element of F called the **additive identity**, denoted by\n",
        "the symbol 0. This element has the property that a+0=a\n",
        "for all a ∈ F.\n",
        "\n",
        "4. For each element a ∈ F, there is an element −a ∈ F, called the additive inverse of a, with the property that\n",
        "a + (−a) = 0.\n",
        "\n",
        "5. The multiplication operation is associative. That is,\n",
        "a · (b · c) = (a · b) · c\n",
        "for all a,b,c ∈ F.\n",
        "\n",
        "6. The multiplication operation is commutative. That is,\n",
        "a·b=b·a\n",
        "for all a, b ∈ F .\n",
        "\n",
        "7. There exists a special element of F called the multiplicative identity, de-\n",
        "noted by the symbol 1. This element has the property that a·1=a\n",
        "for all a ∈ F.\n",
        "\n",
        "8. For each element a ∈ F other than 0, there exists an element a−1 ∈ F , called\n",
        "the multiplicative inverse of a, with the property that a·􏰁a−1􏰂 = 1.\n",
        "\n",
        "9. The multiplication operation distributes over the addition operation. That is, a·(b+c) = (a·b)+(a·c)\n",
        "for all a,b,c ∈ F."
      ]
    },
    {
      "cell_type": "markdown",
      "metadata": {
        "id": "nEtpzB4orSJ7",
        "colab_type": "text"
      },
      "source": [
        "* Note that the axioms for a field are precisely the axioms for algebra on the real numbers. As a result, the real numbers R form a field under the usual operations of addition and multiplication. However, the real numbers are not the only possible field. Indeed, you are already familiar with a few other examples:\n",
        "\n",
        "* The rational numbers Q form a field under the usual operations of addition and multiplication. In particular, we can add or multiply two elements of Q to obtain another element of Q, and these operations obey all of the axioms listed above.\n",
        "\n",
        "* The complex numbers C form a field under the commonly defined operations of addition and multiplication. Complex numbers do obey all of the listed axioms for a field, which is why elementary algebra works as usual for complex numbers."
      ]
    },
    {
      "cell_type": "markdown",
      "metadata": {
        "id": "5ufRVBhus4R1",
        "colab_type": "text"
      },
      "source": [
        "**Algebra over a field**"
      ]
    },
    {
      "cell_type": "markdown",
      "metadata": {
        "id": "EoJghiU4s7Kt",
        "colab_type": "text"
      },
      "source": [
        "https://en.m.wikipedia.org/wiki/Algebra_over_a_field"
      ]
    },
    {
      "cell_type": "markdown",
      "metadata": {
        "id": "DSDecWiLleDK",
        "colab_type": "text"
      },
      "source": [
        "![alternativer Text](https://upload.wikimedia.org/wikipedia/commons/thumb/7/7a/Übersicht_Körper.svg/993px-Übersicht_Körper.svg.png)\n"
      ]
    },
    {
      "cell_type": "markdown",
      "metadata": {
        "id": "GuDPqT3Eljix",
        "colab_type": "text"
      },
      "source": [
        "*Körper im Zusammenhang mit ausgewählten mathematischen Teilgebieten*"
      ]
    },
    {
      "cell_type": "markdown",
      "metadata": {
        "id": "JEtjLCOdmFUh",
        "colab_type": "text"
      },
      "source": [
        "ps: Octonions (Octave) sind [Alternativkörper](https://de.m.wikipedia.org/wiki/Alternativkörper) bei denen man auf das Kommutativgesetz und das Assoziativgesetz für die Multiplikation verzichtet."
      ]
    },
    {
      "cell_type": "markdown",
      "metadata": {
        "id": "C4SxpdgzfbOA",
        "colab_type": "text"
      },
      "source": [
        "#### **Ringe**"
      ]
    },
    {
      "cell_type": "markdown",
      "metadata": {
        "id": "AEMyzgYIfe20",
        "colab_type": "text"
      },
      "source": [
        "* Der Name Ring bezieht sich nicht auf etwas anschaulich Ringförmiges, sondern auf einen organisierten Zusammenschluss von Elementen zu einem Ganzen.\n",
        "\n",
        "* In speziellen Situationen ist neben der Bezeichnung Ring auch die Bezeichnung Bereich geläufig. So findet man in der Literatur eher den Begriff Integritätsbereich statt Integritätsring.\n",
        "\n",
        "* A ring is a more general algebraic structure with addition and multiplication. Unlike a field, a ring is not required to have multiplicative inverses, and the multiplication is not required to be commutative. A good example of a ring is the set of all n×n matrices under the operations of matrix addition and matrix multiplication. The integers Z also form a ring under the operations of addition and multiplication.\n",
        "\n"
      ]
    },
    {
      "cell_type": "markdown",
      "metadata": {
        "id": "1IEmNtK3dk3A",
        "colab_type": "text"
      },
      "source": [
        "* Sind Strukturen mit zwei inneren Verknüpfungen"
      ]
    },
    {
      "cell_type": "markdown",
      "metadata": {
        "id": "F3RI2yoCfc61",
        "colab_type": "text"
      },
      "source": [
        "https://de.m.wikipedia.org/wiki/Ring_(Algebra)"
      ]
    },
    {
      "cell_type": "markdown",
      "metadata": {
        "id": "K0UpZzAKftF8",
        "colab_type": "text"
      },
      "source": [
        "#### **Verband (Lattice)**"
      ]
    },
    {
      "cell_type": "markdown",
      "metadata": {
        "id": "s2xBQMKOg1Ve",
        "colab_type": "text"
      },
      "source": [
        "* Ein Verband ist eine algebraische Struktur, deren zwei innere Verknüpfungen im allgemeinen Fall nicht als Addition und Multiplikation aufgefasst werden können"
      ]
    },
    {
      "cell_type": "markdown",
      "metadata": {
        "id": "lh-hWzCveiz8",
        "colab_type": "text"
      },
      "source": [
        "* Sind Strukturen mit zwei inneren Verknüpfungen"
      ]
    },
    {
      "cell_type": "markdown",
      "metadata": {
        "id": "gnn7w0CKfvko",
        "colab_type": "text"
      },
      "source": [
        "https://de.m.wikipedia.org/wiki/Verband_(Mathematik)"
      ]
    },
    {
      "cell_type": "markdown",
      "metadata": {
        "id": "h3EItm12hE7r",
        "colab_type": "text"
      },
      "source": [
        "**Boolsche Algebra**"
      ]
    },
    {
      "cell_type": "markdown",
      "metadata": {
        "id": "sOC7zkQkhHlR",
        "colab_type": "text"
      },
      "source": [
        "* Eine Boolesche Algebra ist ein Verband, in dem die beiden Verknüpfungen je ein neutrales Element haben, a ∪ 0 = a und a ∩ 1 = a, und in dem jedes Element ein bezüglich beider Verknüpfungen übereinstimmendes Komplement h"
      ]
    },
    {
      "cell_type": "markdown",
      "metadata": {
        "id": "k4Sp21V_hWFP",
        "colab_type": "text"
      },
      "source": [
        "https://de.m.wikipedia.org/wiki/Boolesche_Algebra"
      ]
    },
    {
      "cell_type": "markdown",
      "metadata": {
        "id": "QYMsn5TXf2Tz",
        "colab_type": "text"
      },
      "source": [
        "#### **Mengenalgebra (Field of Sets)**"
      ]
    },
    {
      "cell_type": "markdown",
      "metadata": {
        "id": "W6m2f_P1hdXY",
        "colab_type": "text"
      },
      "source": [
        "* **Mengenalgebra**: eine Boolesche Algebra, deren Elemente Mengen sind, nämlich Teilmengen einer Grundmenge X, mit den Mengenoperatoren ∪ und ∩ als Verknüpfungen, mit dem Nullelement ∅ und dem Einselement X.\n",
        "\n",
        "* **σ-Algebra**: eine bezüglich abzählbar-unendlicher Verknüpfungen abgeschlossene Mengenalgebra. **Messraum und Maßraum sind spezielle σ-Algebren.**\n",
        "\n",
        "* **Borel-Algebra** macht einen topologischen Raum zum Maßraum: sie ist die kleinste σ-Algebra, die eine gegebene Topologie enthält.\n",
        "\n",
        "* **Zweiwertige Boolesche Algebra**: hat nur die Elemente 0 und 1."
      ]
    },
    {
      "cell_type": "markdown",
      "metadata": {
        "id": "UtsldPtaf407",
        "colab_type": "text"
      },
      "source": [
        "https://de.m.wikipedia.org/wiki/Algebra_(Mengensystem)"
      ]
    },
    {
      "cell_type": "markdown",
      "metadata": {
        "id": "QdV8mAKugO06",
        "colab_type": "text"
      },
      "source": [
        "#### **Vektorraum**"
      ]
    },
    {
      "cell_type": "markdown",
      "metadata": {
        "id": "AHOR2paJnqE7",
        "colab_type": "text"
      },
      "source": [
        "* A vector space is an algebraic structure with operations of addition and multiplication by scalars. \n",
        "\n",
        "* The scalars are required to be elements of a field, such as the real numbers R. The basic example of a vector space is the set Rn of all vectors with n entries."
      ]
    },
    {
      "cell_type": "markdown",
      "metadata": {
        "id": "s_U72lldeSCr",
        "colab_type": "text"
      },
      "source": [
        "* Sind Strukturen mit innerer und äußerer Verknüpfung"
      ]
    },
    {
      "cell_type": "markdown",
      "metadata": {
        "id": "pOnSslb8gSWP",
        "colab_type": "text"
      },
      "source": [
        "https://de.m.wikipedia.org/wiki/Vektorraum"
      ]
    },
    {
      "cell_type": "markdown",
      "metadata": {
        "id": "Tk6qnMZUgGQw",
        "colab_type": "text"
      },
      "source": [
        "#### **Modul**"
      ]
    },
    {
      "cell_type": "markdown",
      "metadata": {
        "id": "HSRPnBpNgMT4",
        "colab_type": "text"
      },
      "source": [
        "* Ein Modul ist eine algebraische Struktur, die eine Verallgemeinerung eines Vektorraums darstellt.\n",
        "\n",
        "* A module is similar to a vector space, except that the scalars are only required to be elements of a ring. For example, the set Zn of n-dimensional vectors with integer entries forms a module, where “scalar multiplication” refers to multiplication by integer scalars."
      ]
    },
    {
      "cell_type": "markdown",
      "metadata": {
        "id": "t8NSS1C9gIni",
        "colab_type": "text"
      },
      "source": [
        "https://de.m.wikipedia.org/wiki/Modul_(Mathematik)"
      ]
    },
    {
      "cell_type": "markdown",
      "metadata": {
        "id": "X9_tFvqUii2z",
        "colab_type": "text"
      },
      "source": [
        "#### **Zusätzliche algebraische Struktur auf Vektorräumen**"
      ]
    },
    {
      "cell_type": "markdown",
      "metadata": {
        "id": "Tr36ywoZin3h",
        "colab_type": "text"
      },
      "source": [
        "**K-Algebra**"
      ]
    },
    {
      "cell_type": "markdown",
      "metadata": {
        "id": "IgKqC3CHiqOz",
        "colab_type": "text"
      },
      "source": [
        "https://de.m.wikipedia.org/wiki/Algebra_über_einem_Körper"
      ]
    },
    {
      "cell_type": "markdown",
      "metadata": {
        "id": "WA7xSdDWirTD",
        "colab_type": "text"
      },
      "source": [
        "**Lie-Algebra**"
      ]
    },
    {
      "cell_type": "markdown",
      "metadata": {
        "id": "ldvhBQDfivPt",
        "colab_type": "text"
      },
      "source": [
        "https://de.m.wikipedia.org/wiki/Lie-Algebra"
      ]
    },
    {
      "cell_type": "markdown",
      "metadata": {
        "id": "WVtm5vfsixu1",
        "colab_type": "text"
      },
      "source": [
        "**Assoziative Algebra**"
      ]
    },
    {
      "cell_type": "markdown",
      "metadata": {
        "id": "KMKDZOUxi0FP",
        "colab_type": "text"
      },
      "source": [
        "https://de.m.wikipedia.org/wiki/Assoziative_Algebra"
      ]
    },
    {
      "cell_type": "markdown",
      "metadata": {
        "id": "c0PyO_OabSa1",
        "colab_type": "text"
      },
      "source": [
        "## **Category Theory**"
      ]
    },
    {
      "cell_type": "markdown",
      "metadata": {
        "id": "zmhzXNK8ub2B",
        "colab_type": "text"
      },
      "source": [
        "* Die Kategorientheorie lässt sich, ähnlich wie die universelle Algebra, als allgemeine Theorie mathematischer Strukturen auffassen (klassische Strukturen sind z. B. Gruppen, Ringe, Moduln und topologische Räume). \n",
        "\n",
        "* Dabei werden Eigenschaften mathematischer Strukturen allerdings nicht über Relationen zwischen Elementen der Trägermenge(n) definiert, **sondern mittels [Morphismen](https://de.m.wikipedia.org/wiki/Morphismus) und [Funktoren](https://de.m.wikipedia.org/wiki/Funktor_(Mathematik)) quasi über Vergleiche sowohl innerhalb von als auch zwischen Kategorien.**"
      ]
    },
    {
      "cell_type": "markdown",
      "metadata": {
        "id": "-fnxKbWPbXDP",
        "colab_type": "text"
      },
      "source": [
        "https://de.m.wikipedia.org/wiki/Kategorientheorie"
      ]
    },
    {
      "cell_type": "markdown",
      "metadata": {
        "id": "cJRX0LJeu60H",
        "colab_type": "text"
      },
      "source": [
        "**Morphismus**"
      ]
    },
    {
      "cell_type": "markdown",
      "metadata": {
        "id": "Eivuxel5u9y5",
        "colab_type": "text"
      },
      "source": [
        "* Funktion in Kategorientheorie\n",
        "\n",
        "* In der Kategorientheorie (einem Teilgebiet der Mathematik) betrachtet man sogenannte (abstrakte) Kategorien, die jeweils gegeben sind durch eine Klasse von Objekten und für je zwei Objekte X und Y eine Klasse von Morphismen von X nach Y (auch als Pfeile bezeichnet).\n",
        "\n",
        "Man schreibt: $f\\colon X\\to Y$\n",
        "\n",
        "* Zu der Kategorie gehört noch eine partielle Verknüpfung der Morphismen, die bestimmte Bedingungen erfüllen muss.\n",
        "\n",
        "* Interpretiert man Mengen mit gleicher Struktur als Objekte und die Funktionen zwischen den zugrunde liegenden Mengen, die mit deren Struktur verträglich sind, als zugehörige Morphismen, so spricht man von einer konkreten Kategorie. Die Verknüpfung der Morphismen entspricht dann der gewöhnlichen Hintereinanderausführung von Funktionen. \n",
        "\n",
        "* Es gibt aber auch ganz anders gebildete konkrete Kategorien, in denen Morphismen nicht als Funktionen zwischen den Objekten auftreten, etwa die Kategorie Toph, deren Objekte topologische Räume und deren Morphismen Homotopieklassen stetiger Funktionen sind, oder die Kategorie Rel, deren Objekte Mengen und deren Morphismen Relationen sind."
      ]
    },
    {
      "cell_type": "markdown",
      "metadata": {
        "id": "2WpulmgYvXpo",
        "colab_type": "text"
      },
      "source": [
        "https://de.m.wikipedia.org/wiki/Morphismus"
      ]
    },
    {
      "cell_type": "markdown",
      "metadata": {
        "id": "gEFAqv6QuwN7",
        "colab_type": "text"
      },
      "source": [
        "**Funktoren**"
      ]
    },
    {
      "cell_type": "markdown",
      "metadata": {
        "id": "MKgR9R1buyc7",
        "colab_type": "text"
      },
      "source": [
        "* strukturerhaltende Abbildung zwischen zwei Kategorien\n",
        "\n",
        "* Funktoren sind ein zentrales Grundkonzept des mathematischen Teilgebiets der Kategorientheorie. Ein Funktor ist eine strukturerhaltende Abbildung zwischen zwei Kategorien. Konkrete Funktoren haben in vielen Teilgebieten der Mathematik eine besondere Bedeutung. \n",
        "\n",
        "* Funktoren werden auch Diagramme genannt (mitunter nur in bestimmten Kontexten), da sie eine formale Abstraktion kommutativer Diagramme darstellen."
      ]
    },
    {
      "cell_type": "markdown",
      "metadata": {
        "id": "OLa4Iogyvb8d",
        "colab_type": "text"
      },
      "source": [
        "https://de.m.wikipedia.org/wiki/Funktor_(Mathematik)"
      ]
    }
  ]
}