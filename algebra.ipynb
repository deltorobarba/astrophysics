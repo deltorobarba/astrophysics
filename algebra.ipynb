{
  "nbformat": 4,
  "nbformat_minor": 0,
  "metadata": {
    "colab": {
      "name": "algebra.ipynb",
      "provenance": [],
      "collapsed_sections": [
        "dZ-CImaKCoCr",
        "W7xhaOnBFAU0",
        "hwX-v1nkFF_O",
        "pdsAlXSAbh_A",
        "DIgySGBtaMWh",
        "o5G2e0uRcUjy",
        "7MJKKWT0cXX3",
        "SWBfDlTmeaRb",
        "J747Vz6tcbl7",
        "X9_tFvqUii2z",
        "3oIStp-bE5eY",
        "c0PyO_OabSa1"
      ],
      "include_colab_link": true
    },
    "kernelspec": {
      "name": "python3",
      "display_name": "Python 3"
    }
  },
  "cells": [
    {
      "cell_type": "markdown",
      "metadata": {
        "id": "view-in-github",
        "colab_type": "text"
      },
      "source": [
        "<a href=\"https://colab.research.google.com/github/deltorobarba/machinelearning/blob/master/algebra.ipynb\" target=\"_parent\"><img src=\"https://colab.research.google.com/assets/colab-badge.svg\" alt=\"Open In Colab\"/></a>"
      ]
    },
    {
      "cell_type": "markdown",
      "metadata": {
        "id": "2Aoj2PpxvDQV",
        "colab_type": "text"
      },
      "source": [
        "# **Spaces, Algebraic Structures & Categories**"
      ]
    },
    {
      "cell_type": "code",
      "metadata": {
        "id": "1U5_6xH7tAQq",
        "colab_type": "code",
        "colab": {}
      },
      "source": [
        "import numpy as np\n",
        "import pandas as pd\n",
        "import seaborn as sns\n",
        "import matplotlib.pyplot as plt"
      ],
      "execution_count": null,
      "outputs": []
    },
    {
      "cell_type": "markdown",
      "metadata": {
        "id": "dZ-CImaKCoCr",
        "colab_type": "text"
      },
      "source": [
        "## **Raum**"
      ]
    },
    {
      "cell_type": "markdown",
      "metadata": {
        "id": "W7xhaOnBFAU0",
        "colab_type": "text"
      },
      "source": [
        "#### **Definition**"
      ]
    },
    {
      "cell_type": "markdown",
      "metadata": {
        "id": "QR_tzirCcLNv",
        "colab_type": "text"
      },
      "source": [
        "https://en.m.wikipedia.org/wiki/Space_(mathematics)"
      ]
    },
    {
      "cell_type": "markdown",
      "metadata": {
        "id": "Vg5O5znmDfS5",
        "colab_type": "text"
      },
      "source": [
        "* In mathematics, **a space is a [set](https://en.m.wikipedia.org/wiki/Set_(mathematics))   - (sometimes called a [universe - Grundmenge](https://en.m.wikipedia.org/wiki/Universe_(mathematics))) with some added structure.**\n",
        "\n",
        "* They are frequently described as different types of [manifolds](https://en.m.wikipedia.org/wiki/Manifold), which are **spaces that locally approximate to Euclidean space**, and where the properties are defined largely on local connectedness of points that lie on the manifold. \n",
        "\n",
        "* There are however, many diverse mathematical objects that are called spaces. For example, [vector spaces](https://en.m.wikipedia.org/wiki/Vector_space) such as [function spaces](https://en.m.wikipedia.org/wiki/Function_space) may have infinite numbers of independent dimensions and a notion of distance very different from Euclidean space, and [topological spaces](https://en.m.wikipedia.org/wiki/Topological_space) replace the concept of distance with a more abstract idea of nearness.\n",
        "\n",
        "* While modern mathematics uses many types of spaces, such as Euclidean spaces, linear spaces, topological spaces, Hilbert spaces, or probability spaces, it does not define the notion of \"space\" itself."
      ]
    },
    {
      "cell_type": "markdown",
      "metadata": {
        "id": "hMgVoh0aDiZw",
        "colab_type": "text"
      },
      "source": [
        "* **Infinite-dimensional vector spaces arise naturally in mathematical analysis, as function spaces**, whose vectors are functions. These vector spaces are generally endowed with additional structure, which may be a topology, allowing the consideration of issues of proximity and continuity. \n",
        "\n",
        "* Among these topologies, those that are defined by a norm or inner product are more commonly used, as having a notion of distance between two vectors. This is particularly the case of **Banach spaces and Hilbert spaces**, which are fundamental in mathematical analysis."
      ]
    },
    {
      "cell_type": "markdown",
      "metadata": {
        "id": "hwX-v1nkFF_O",
        "colab_type": "text"
      },
      "source": [
        "#### **Differentiations**"
      ]
    },
    {
      "cell_type": "markdown",
      "metadata": {
        "id": "CAjzcfrmD5PY",
        "colab_type": "text"
      },
      "source": [
        "![Normed Vector Space](https://upload.wikimedia.org/wikipedia/en/7/74/Mathematical_Spaces.png)"
      ]
    },
    {
      "cell_type": "markdown",
      "metadata": {
        "id": "NdEAjm5bD7_N",
        "colab_type": "text"
      },
      "source": [
        "Quelle: [Mathematical Spaces](https://en.m.wikipedia.org/wiki/Space_(mathematics))"
      ]
    },
    {
      "cell_type": "markdown",
      "metadata": {
        "id": "17_VZZJ2DlEy",
        "colab_type": "text"
      },
      "source": [
        "Topologischer Raum |  | dazugehörige Struktur\n",
        "--- | --- | ---\n",
        "[Euklidischer Raum](https://de.m.wikipedia.org/wiki/Euklidischer_Raum) | hat | Skalarprodukt\n",
        "[Normierter Raum](https://de.m.wikipedia.org/wiki/Normierter_Raum) | hat | Norm\n",
        "[Metrischer Raum](https://de.m.wikipedia.org/wiki/Metrischer_Raum) | hat | Metrik\n",
        "[Uniformer Raum](https://de.m.wikipedia.org/wiki/Uniformer_Raum) | hat | Uniforme Struktur\n",
        "[Topologischer Raum](https://de.m.wikipedia.org/wiki/Topologischer_Raum) | hat | Topologie"
      ]
    },
    {
      "cell_type": "markdown",
      "metadata": {
        "id": "2IaYmlO-DoF8",
        "colab_type": "text"
      },
      "source": [
        "Quelle: [Einordnung in die Hierarchie mathematischer Strukturen](https://de.m.wikipedia.org/wiki/Metrischer_Raum#Einordnung_in_die_Hierarchie_mathematischer_Strukturen) sowie [Topologische Räume](https://de.m.wikipedia.org/wiki/Topologischer_Raum#Beispiele)"
      ]
    },
    {
      "cell_type": "markdown",
      "metadata": {
        "id": "VxUD9vT9Dq2A",
        "colab_type": "text"
      },
      "source": [
        "![alternativer Text](https://upload.wikimedia.org/wikipedia/commons/thumb/d/dc/Mathematical_implication_diagram-alt-large-print.svg/640px-Mathematical_implication_diagram-alt-large-print.svg.png)"
      ]
    },
    {
      "cell_type": "markdown",
      "metadata": {
        "id": "OySsyz7YDtiE",
        "colab_type": "text"
      },
      "source": [
        "Quelle: [Overview of types of abstract spaces](https://en.m.wikipedia.org/wiki/Space_(mathematics))"
      ]
    },
    {
      "cell_type": "markdown",
      "metadata": {
        "id": "fqZht-ZpDv_D",
        "colab_type": "text"
      },
      "source": [
        "Topologische Räume können weiter [klassifiziert werden nach Kolmogorov](https://en.m.wikipedia.org/wiki/History_of_the_separation_axioms)."
      ]
    },
    {
      "cell_type": "markdown",
      "metadata": {
        "id": "pdsAlXSAbh_A",
        "colab_type": "text"
      },
      "source": [
        "#### **Taxonomy of Spaces**"
      ]
    },
    {
      "cell_type": "markdown",
      "metadata": {
        "id": "QnwOEXgPbsfu",
        "colab_type": "text"
      },
      "source": [
        "https://en.m.wikipedia.org/wiki/Space_(mathematics)#Taxonomy_of_spaces"
      ]
    },
    {
      "cell_type": "markdown",
      "metadata": {
        "id": "DIgySGBtaMWh",
        "colab_type": "text"
      },
      "source": [
        "## **Algebraische Strukturen**"
      ]
    },
    {
      "cell_type": "markdown",
      "metadata": {
        "id": "7fxw9DSyjiah",
        "colab_type": "text"
      },
      "source": [
        "Algebraische Strukturen sind eine Form von [mathematischen Strukturen](https://de.m.wikipedia.org/wiki/Mathematische_Struktur) (neben topologischen Strukturen, geometrischen Strukturen und Zahlbereichen)."
      ]
    },
    {
      "cell_type": "markdown",
      "metadata": {
        "id": "o5G2e0uRcUjy",
        "colab_type": "text"
      },
      "source": [
        "#### **Gruppen**"
      ]
    },
    {
      "cell_type": "markdown",
      "metadata": {
        "id": "yUWBA62mdc9Z",
        "colab_type": "text"
      },
      "source": [
        "* Sind Strukturen mit einer inneren Verknüpfung"
      ]
    },
    {
      "cell_type": "markdown",
      "metadata": {
        "id": "7MJKKWT0cXX3",
        "colab_type": "text"
      },
      "source": [
        "#### **Ringe & Körper**"
      ]
    },
    {
      "cell_type": "markdown",
      "metadata": {
        "id": "1IEmNtK3dk3A",
        "colab_type": "text"
      },
      "source": [
        "* Sind Strukturen mit zwei inneren Verknüpfungen"
      ]
    },
    {
      "cell_type": "markdown",
      "metadata": {
        "id": "C4SxpdgzfbOA",
        "colab_type": "text"
      },
      "source": [
        "**Ringe**"
      ]
    },
    {
      "cell_type": "markdown",
      "metadata": {
        "id": "AEMyzgYIfe20",
        "colab_type": "text"
      },
      "source": [
        "* Der Name Ring bezieht sich nicht auf etwas anschaulich Ringförmiges, sondern auf einen organisierten Zusammenschluss von Elementen zu einem Ganzen.\n",
        "\n",
        "* In speziellen Situationen ist neben der Bezeichnung Ring auch die Bezeichnung Bereich geläufig. So findet man in der Literatur eher den Begriff Integritätsbereich statt Integritätsring.\n",
        "\n"
      ]
    },
    {
      "cell_type": "markdown",
      "metadata": {
        "id": "F3RI2yoCfc61",
        "colab_type": "text"
      },
      "source": [
        "https://de.m.wikipedia.org/wiki/Ring_(Algebra)"
      ]
    },
    {
      "cell_type": "markdown",
      "metadata": {
        "id": "d8lFDeMxkny1",
        "colab_type": "text"
      },
      "source": [
        "**Körper**"
      ]
    },
    {
      "cell_type": "markdown",
      "metadata": {
        "id": "7uh8pgC5kwPM",
        "colab_type": "text"
      },
      "source": [
        "* Ein Körper ist im mathematischen Teilgebiet der Algebra eine ausgezeichnete algebraische Struktur, in der die Addition, Subtraktion, Multiplikation und Division auf eine bestimmte Weise durchgeführt werden können.\n",
        "\n",
        "* Die wichtigsten Körper, die in fast allen Gebieten der Mathematik benutzt werden, sind der Körper $\\mathbb {Q}$ der rationalen Zahlen, der Körper $\\mathbb {R}$ der reellen Zahlen und der Körper $\\mathbb {C}$ der komplexen Zahlen."
      ]
    },
    {
      "cell_type": "markdown",
      "metadata": {
        "id": "fiD4gEiPkpQq",
        "colab_type": "text"
      },
      "source": [
        "* Ein **Schiefkörper** oder Divisionsring ist eine algebraische Struktur, die alle Eigenschaften eines Körpers besitzt, außer dass die Multiplikation nicht notwendigerweise kommutativ ist."
      ]
    },
    {
      "cell_type": "markdown",
      "metadata": {
        "id": "1_Jav3cJksAh",
        "colab_type": "text"
      },
      "source": [
        "https://de.m.wikipedia.org/wiki/Körper_(Algebra)"
      ]
    },
    {
      "cell_type": "markdown",
      "metadata": {
        "id": "DSDecWiLleDK",
        "colab_type": "text"
      },
      "source": [
        "![alternativer Text](https://upload.wikimedia.org/wikipedia/commons/thumb/7/7a/Übersicht_Körper.svg/993px-Übersicht_Körper.svg.png)\n"
      ]
    },
    {
      "cell_type": "markdown",
      "metadata": {
        "id": "GuDPqT3Eljix",
        "colab_type": "text"
      },
      "source": [
        "*Körper im Zusammenhang mit ausgewählten mathematischen Teilgebieten*"
      ]
    },
    {
      "cell_type": "markdown",
      "metadata": {
        "id": "JEtjLCOdmFUh",
        "colab_type": "text"
      },
      "source": [
        "ps: Octonions (Octave) sind [Alternativkörper](https://de.m.wikipedia.org/wiki/Alternativkörper) bei denen man auf das Kommutativgesetz und das Assoziativgesetz für die Multiplikation verzichtet."
      ]
    },
    {
      "cell_type": "markdown",
      "metadata": {
        "id": "SWBfDlTmeaRb",
        "colab_type": "text"
      },
      "source": [
        "#### **Verbände und Mengenalgebren**"
      ]
    },
    {
      "cell_type": "markdown",
      "metadata": {
        "id": "lh-hWzCveiz8",
        "colab_type": "text"
      },
      "source": [
        "* Sind Strukturen mit zwei inneren Verknüpfungen"
      ]
    },
    {
      "cell_type": "markdown",
      "metadata": {
        "id": "K0UpZzAKftF8",
        "colab_type": "text"
      },
      "source": [
        "**Verband (Lattice)**"
      ]
    },
    {
      "cell_type": "markdown",
      "metadata": {
        "id": "s2xBQMKOg1Ve",
        "colab_type": "text"
      },
      "source": [
        "* Ein Verband ist eine algebraische Struktur, deren zwei innere Verknüpfungen im allgemeinen Fall nicht als Addition und Multiplikation aufgefasst werden können"
      ]
    },
    {
      "cell_type": "markdown",
      "metadata": {
        "id": "gnn7w0CKfvko",
        "colab_type": "text"
      },
      "source": [
        "https://de.m.wikipedia.org/wiki/Verband_(Mathematik)"
      ]
    },
    {
      "cell_type": "markdown",
      "metadata": {
        "id": "h3EItm12hE7r",
        "colab_type": "text"
      },
      "source": [
        "**Boolsche Algebra**"
      ]
    },
    {
      "cell_type": "markdown",
      "metadata": {
        "id": "sOC7zkQkhHlR",
        "colab_type": "text"
      },
      "source": [
        "* Eine Boolesche Algebra ist ein Verband, in dem die beiden Verknüpfungen je ein neutrales Element haben, a ∪ 0 = a und a ∩ 1 = a, und in dem jedes Element ein bezüglich beider Verknüpfungen übereinstimmendes Komplement h"
      ]
    },
    {
      "cell_type": "markdown",
      "metadata": {
        "id": "k4Sp21V_hWFP",
        "colab_type": "text"
      },
      "source": [
        "https://de.m.wikipedia.org/wiki/Boolesche_Algebra"
      ]
    },
    {
      "cell_type": "markdown",
      "metadata": {
        "id": "QYMsn5TXf2Tz",
        "colab_type": "text"
      },
      "source": [
        "**Mengenalgebra (Field of Sets)**"
      ]
    },
    {
      "cell_type": "markdown",
      "metadata": {
        "id": "W6m2f_P1hdXY",
        "colab_type": "text"
      },
      "source": [
        "* **Mengenalgebra**: eine Boolesche Algebra, deren Elemente Mengen sind, nämlich Teilmengen einer Grundmenge X, mit den Mengenoperatoren ∪ und ∩ als Verknüpfungen, mit dem Nullelement ∅ und dem Einselement X.\n",
        "\n",
        "* **σ-Algebra**: eine bezüglich abzählbar-unendlicher Verknüpfungen abgeschlossene Mengenalgebra.\n",
        "Messraum und Maßraum sind spezielle σ-Algebren.\n",
        "\n",
        "* **Borel-Algebra** macht einen topologischen Raum zum Maßraum: sie ist die kleinste σ-Algebra, die eine gegebene Topologie enthält.\n",
        "\n",
        "* **Zweiwertige Boolesche Algebra**: hat nur die Elemente 0 und 1."
      ]
    },
    {
      "cell_type": "markdown",
      "metadata": {
        "id": "UtsldPtaf407",
        "colab_type": "text"
      },
      "source": [
        "https://de.m.wikipedia.org/wiki/Algebra_(Mengensystem)"
      ]
    },
    {
      "cell_type": "markdown",
      "metadata": {
        "id": "J747Vz6tcbl7",
        "colab_type": "text"
      },
      "source": [
        "#### **Moduln & Vektorräume**"
      ]
    },
    {
      "cell_type": "markdown",
      "metadata": {
        "id": "s_U72lldeSCr",
        "colab_type": "text"
      },
      "source": [
        "* Sind Strukturen mit innerer und äußerer Verknüpfung"
      ]
    },
    {
      "cell_type": "markdown",
      "metadata": {
        "id": "Tk6qnMZUgGQw",
        "colab_type": "text"
      },
      "source": [
        "**Modul**"
      ]
    },
    {
      "cell_type": "markdown",
      "metadata": {
        "id": "HSRPnBpNgMT4",
        "colab_type": "text"
      },
      "source": [
        "* Ein Modul ist eine algebraische Struktur, die eine Verallgemeinerung eines Vektorraums darstellt."
      ]
    },
    {
      "cell_type": "markdown",
      "metadata": {
        "id": "t8NSS1C9gIni",
        "colab_type": "text"
      },
      "source": [
        "https://de.m.wikipedia.org/wiki/Modul_(Mathematik)"
      ]
    },
    {
      "cell_type": "markdown",
      "metadata": {
        "id": "QdV8mAKugO06",
        "colab_type": "text"
      },
      "source": [
        "**Vektorraum**"
      ]
    },
    {
      "cell_type": "markdown",
      "metadata": {
        "id": "pOnSslb8gSWP",
        "colab_type": "text"
      },
      "source": [
        "https://de.m.wikipedia.org/wiki/Vektorraum"
      ]
    },
    {
      "cell_type": "markdown",
      "metadata": {
        "id": "X9_tFvqUii2z",
        "colab_type": "text"
      },
      "source": [
        "#### **Zusätzliche algebraische Struktur auf Vektorräumen**"
      ]
    },
    {
      "cell_type": "markdown",
      "metadata": {
        "id": "Tr36ywoZin3h",
        "colab_type": "text"
      },
      "source": [
        "**K-Algebra**"
      ]
    },
    {
      "cell_type": "markdown",
      "metadata": {
        "id": "IgKqC3CHiqOz",
        "colab_type": "text"
      },
      "source": [
        "https://de.m.wikipedia.org/wiki/Algebra_über_einem_Körper"
      ]
    },
    {
      "cell_type": "markdown",
      "metadata": {
        "id": "WA7xSdDWirTD",
        "colab_type": "text"
      },
      "source": [
        "**Lie-Algebra**"
      ]
    },
    {
      "cell_type": "markdown",
      "metadata": {
        "id": "ldvhBQDfivPt",
        "colab_type": "text"
      },
      "source": [
        "https://de.m.wikipedia.org/wiki/Lie-Algebra"
      ]
    },
    {
      "cell_type": "markdown",
      "metadata": {
        "id": "WVtm5vfsixu1",
        "colab_type": "text"
      },
      "source": [
        "**Assoziative Algebra**"
      ]
    },
    {
      "cell_type": "markdown",
      "metadata": {
        "id": "KMKDZOUxi0FP",
        "colab_type": "text"
      },
      "source": [
        "https://de.m.wikipedia.org/wiki/Assoziative_Algebra"
      ]
    },
    {
      "cell_type": "markdown",
      "metadata": {
        "id": "3oIStp-bE5eY",
        "colab_type": "text"
      },
      "source": [
        "#### **Appendix**"
      ]
    },
    {
      "cell_type": "markdown",
      "metadata": {
        "id": "pcE7T_Nvm94w",
        "colab_type": "text"
      },
      "source": [
        "https://de.m.wikipedia.org/wiki/Homologische_Algebra"
      ]
    },
    {
      "cell_type": "markdown",
      "metadata": {
        "id": "d7JgV171dZ8x",
        "colab_type": "text"
      },
      "source": [
        "https://de.m.wikipedia.org/wiki/Mathematische_Struktur"
      ]
    },
    {
      "cell_type": "markdown",
      "metadata": {
        "id": "hiN5Hs61cHOB",
        "colab_type": "text"
      },
      "source": [
        "https://de.m.wikipedia.org/wiki/Algebraische_Struktur"
      ]
    },
    {
      "cell_type": "markdown",
      "metadata": {
        "id": "a_Grie7TcA-J",
        "colab_type": "text"
      },
      "source": [
        "https://de.m.wikipedia.org/wiki/Universelle_Algebra"
      ]
    },
    {
      "cell_type": "markdown",
      "metadata": {
        "id": "mHcN_omucERh",
        "colab_type": "text"
      },
      "source": [
        "https://de.m.wikipedia.org/wiki/Abstrakte_Algebra"
      ]
    },
    {
      "cell_type": "markdown",
      "metadata": {
        "id": "cRicJmd-b6Kh",
        "colab_type": "text"
      },
      "source": [
        "https://de.m.wikipedia.org/wiki/Algebra_über_einem_Körper"
      ]
    },
    {
      "cell_type": "markdown",
      "metadata": {
        "id": "FqZ56YNZDbmL",
        "colab_type": "text"
      },
      "source": [
        "Generische Einführung in das Thema (weitere algebraische Strukturen \"neben\" Vector Spaces  wie zB Moduln, Ringe, Körper oder Gruppen):\n",
        "\n",
        "https://de.m.wikipedia.org/wiki/Mathematische_Struktur\n",
        "\n",
        "https://de.m.wikipedia.org/wiki/Abstrakte_Algebra\n",
        "\n",
        "https://de.m.wikipedia.org/wiki/Universelle_Algebra\n",
        "\n",
        "https://de.m.wikipedia.org/wiki/Algebraische_Struktur\n",
        "\n",
        "https://de.m.wikipedia.org/wiki/Funktionalanalysis#Normierte_Räume,_Banachräume\n",
        "\n",
        "https://en.m.wikipedia.org/wiki/Space_(mathematics)"
      ]
    },
    {
      "cell_type": "markdown",
      "metadata": {
        "id": "V6sUIaJPD0kb",
        "colab_type": "text"
      },
      "source": [
        "https://de.m.wikipedia.org/wiki/Raum_(Mathematik)#Klassifikation\n",
        "\n",
        "https://en.m.wikipedia.org/wiki/Vector_space\n",
        "\n",
        "https://de.m.wikipedia.org/wiki/Topologischer_Raum\n",
        "\n",
        "https://de.m.wikipedia.org/wiki/Algebraische_Struktur"
      ]
    },
    {
      "cell_type": "markdown",
      "metadata": {
        "id": "c0PyO_OabSa1",
        "colab_type": "text"
      },
      "source": [
        "## **Category Theory (kategorielle Algebra)**"
      ]
    },
    {
      "cell_type": "markdown",
      "metadata": {
        "id": "-fnxKbWPbXDP",
        "colab_type": "text"
      },
      "source": [
        "https://de.m.wikipedia.org/wiki/Kategorientheorie"
      ]
    }
  ]
}