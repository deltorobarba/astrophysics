{
  "nbformat": 4,
  "nbformat_minor": 0,
  "metadata": {
    "colab": {
      "name": "algebra.ipynb",
      "provenance": [],
      "collapsed_sections": [
        "FshTeU-rnp51",
        "HmCOFgKfs2ev",
        "dr1iwDxKS8MN",
        "AyQ5Nu-KajRC",
        "o5G2e0uRcUjy",
        "ZDqJB-vtXMJ1",
        "foYtNNmXXHhZ",
        "QdV8mAKugO06",
        "iBaF4uPUXeS-"
      ],
      "toc_visible": true,
      "include_colab_link": true
    },
    "kernelspec": {
      "name": "python3",
      "display_name": "Python 3"
    }
  },
  "cells": [
    {
      "cell_type": "markdown",
      "metadata": {
        "id": "view-in-github",
        "colab_type": "text"
      },
      "source": [
        "<a href=\"https://colab.research.google.com/github/deltorobarba/machinelearning/blob/master/algebra.ipynb\" target=\"_parent\"><img src=\"https://colab.research.google.com/assets/colab-badge.svg\" alt=\"Open In Colab\"/></a>"
      ]
    },
    {
      "cell_type": "markdown",
      "metadata": {
        "id": "2Aoj2PpxvDQV"
      },
      "source": [
        "# **Algebraic Structures (Abstract Algebra)**"
      ]
    },
    {
      "cell_type": "code",
      "metadata": {
        "id": "1U5_6xH7tAQq"
      },
      "source": [
        "import numpy as np\n",
        "import pandas as pd\n",
        "import seaborn as sns\n",
        "import matplotlib.pyplot as plt"
      ],
      "execution_count": null,
      "outputs": []
    },
    {
      "cell_type": "markdown",
      "metadata": {
        "id": "FshTeU-rnp51"
      },
      "source": [
        "## **Einführung**"
      ]
    },
    {
      "cell_type": "markdown",
      "metadata": {
        "id": "HmCOFgKfs2ev"
      },
      "source": [
        "##### **Algebraische Strukturen**"
      ]
    },
    {
      "cell_type": "markdown",
      "metadata": {
        "id": "7fxw9DSyjiah"
      },
      "source": [
        "* Algebra ist das Lösen von Gleichungen.\n",
        "\n",
        "* **Eine[Algebraische Struktur](https://de.m.wikipedia.org/wiki/Algebraische_Struktur) & [Outline_of_algebraic_structures](https://en.m.wikipedia.org/wiki/Outline_of_algebraic_structures) ist eine Menge versehen mit Verknüpfungen auf dieser Menge**. Eine Vielzahl der in der abstrakten Algebra untersuchten Strukturen wie Gruppen, Ringe oder Körper sind spezielle algebraische Strukturen.\n",
        "\n",
        "* Algebraische Strukturen sind eine Form von [mathematischen Strukturen](https://de.m.wikipedia.org/wiki/Mathematische_Struktur) (neben topologischen Strukturen, geometrischen Strukturen und Zahlbereichen). Abstract algebra is the study of algebraic structures.\n",
        "\n",
        "* **Such a structure consists of a set together with one or more binary operations, which are required to satisfy certain axioms.**\n",
        "\n",
        "* The structures listed below are only a sample of the many algebraic structures of importance in mathematics. Many fields of mathematics involve their own special algebraic structures, and new algebraic structures are defined all the time. To give you a sense of scale, the online encyclopedia Wikipedia currently has articles on over a hundred different algebraic structures, and this represents only a small fraction of those that have been investigated in the mathematical literature.\n",
        "\n",
        "* **[Verknüpfungen](https://de.m.wikipedia.org/wiki/Verknüpfung_(Mathematik))**: Neben den arithmetischen Grundrechenarten (Addition, Subtraktion usw.) werden damit etwa auch geometrische Operationen (wie Spiegelung, Drehung u. a.) sowie weitere Rechenoperationen bzw. gelegentlich auch logische Operatoren erfasst. \n",
        "  * **Verknüpfungen dienen in der Algebra dazu, algebraische Strukturen zu definieren**. Die Verknüpfungen müssen dabei bestimmte Bedingungen (Axiome) erfüllen. Bei partiellen Algebren sind auch partielle Verknüpfungen zugelassen.\n",
        "  * Zum Beispiel ist eine Halbgruppe eine Menge mit einer inneren zweistelligen Verknüpfung, die das Assoziativgesetz erfüllt. Die Forderung, dass das Ergebnis der Verknüpfung wieder Element der gegebenen Menge sein soll (Abgeschlossenheit), ist bereits in der Definition der inneren Verknüpfung enthalten."
      ]
    },
    {
      "cell_type": "markdown",
      "metadata": {
        "id": "dr1iwDxKS8MN"
      },
      "source": [
        "##### **Regeln**"
      ]
    },
    {
      "cell_type": "markdown",
      "metadata": {
        "id": "H-pYZbqoo-Rz"
      },
      "source": [
        "**[Abgeschlossenheit](https://de.m.wikipedia.org/wiki/Abgeschlossenheit_(algebraische_Struktur))**\n",
        "\n",
        "* Closure laws: a + b and ab are unique elements in the field.\n",
        "\n",
        "* Manchmal findet man noch die Forderung der „Abgeschlossenheit“, dass \n",
        "x\n",
        "∗\n",
        "y\n",
        "wieder in \n",
        "G liegen soll, aber aus der Sicht eines Algebraikers beinhaltet der Begriff der „zweistelligen Verknüpfung“ diese Eigenschaft bereits."
      ]
    },
    {
      "cell_type": "markdown",
      "metadata": {
        "id": "aMr2jhDX0t-E"
      },
      "source": [
        "Manchmal findet man noch die Forderung der „Abgeschlossenheit“, dass x ∗ y wieder in G liegen soll, aber aus der Sicht eines Algebraikers beinhaltet der Begriff der „zweistelligen Verknüpfung“ diese Eigenschaft bereits."
      ]
    },
    {
      "cell_type": "markdown",
      "metadata": {
        "id": "Nc3n_XE6Dybo"
      },
      "source": [
        "*Nur Abgeschlossenheit gilt für Magma (Groupoid)*"
      ]
    },
    {
      "cell_type": "markdown",
      "metadata": {
        "id": "K64WJEKxT5Jb"
      },
      "source": [
        "**[Assoziativität](https://de.m.wikipedia.org/wiki/Assoziativgesetz)**\n",
        "\n",
        "* **Addition**. When three or more numbers are added, the sum is the same regardless of the way in which the numbers are grouped. (a + b) + c = a + (b + c)\n",
        "\n",
        "* **Multiplication**. When three or more numbers are multiplied, the product is the same regardless of the way in which the numbers are grouped. (a * b) * c = a * (b * c)"
      ]
    },
    {
      "cell_type": "markdown",
      "metadata": {
        "id": "WyIE7Cjqs9SE"
      },
      "source": [
        "*Abgeschlossenheit und Assoziativität gilt für Halbgruppen*"
      ]
    },
    {
      "cell_type": "markdown",
      "metadata": {
        "id": "FIBq7GtBir5R"
      },
      "source": [
        "**[Identity Property](https://en.m.wikipedia.org/wiki/Identity_element) (Neutrales Element)**\n",
        "\n",
        "* **Additive identity**. The sum of any number and zero is that number. 12 + 0 = 12\n",
        "\n",
        "* **Multiplicatice identity**, The product of any number and one is that number. 18 x 1 = 18"
      ]
    },
    {
      "cell_type": "markdown",
      "metadata": {
        "id": "I7zmBMZLtT9F"
      },
      "source": [
        "*Zusätzlich Identity gilt für Monoid (Teiltyp Gruppe)*"
      ]
    },
    {
      "cell_type": "markdown",
      "metadata": {
        "id": "C04LXzIEpeGY"
      },
      "source": [
        "**[Inverse Elemente](https://de.m.wikipedia.org/wiki/Inverses_Element)**\n",
        "\n",
        "* For each element a $\\in \\mathrm{G}$, there exists an element $\\mathrm{a}^{-1} \\in \\mathrm{G}$ such that $\\mathrm{a} \\cdot \\mathrm{a}^{-1}=\\mathrm{a}^{-1} \\cdot \\mathrm{a}=\\mathrm{e}$. (The element $\\mathrm{a}^{-1}$ is called the inverse of a.)\n",
        "\n",
        "* Wenn man ein beliebiges Element der Menge und sein Inverses mit der Rechenoperation verknüpft, erhält man immer das sogenannte neutrale Element $\\mathrm{e}$ als Ergebnis.\n",
        "\n",
        "* **Addition**: a+(-a) = a-a = 0 zB: 7 + (-7) = 0\n",
        "\n",
        "* **Multiplication**: Two elements of a set, A and A inverse, multiplied together to produce the identity element. Zahl a multipliziert mit seinem Kehrwert (1/a oder a<sup>-1</sup>) = 1"
      ]
    },
    {
      "cell_type": "markdown",
      "metadata": {
        "id": "vZnKN7JhvPn7"
      },
      "source": [
        "*Zusätzlich Inverse gilt für Gruppe*"
      ]
    },
    {
      "cell_type": "markdown",
      "metadata": {
        "id": "Ll09kLWiUUb-"
      },
      "source": [
        "**[Kommutativität](https://de.m.wikipedia.org/wiki/Kommutativgesetz)**\n",
        "\n",
        "* **Addition**. When two numbers are added, the sum is the same regardless of the order in which the numbers are added. a + b = b + a\n",
        "\n",
        "* **Multiplication**. When two numbers are multiplied together, the product is the same regardless of the order in which the numbers are multiplied. a * b = b * a"
      ]
    },
    {
      "cell_type": "markdown",
      "metadata": {
        "id": "exscwR8mtdxL"
      },
      "source": [
        "*Zusätzlich Kommutativität gilt für Abelian Group*"
      ]
    },
    {
      "cell_type": "markdown",
      "metadata": {
        "id": "xNPouI8c84_b"
      },
      "source": [
        "For more details on sub-types of groups, see Group-like structures: https://en.m.wikipedia.org/wiki/Category_(mathematics)"
      ]
    },
    {
      "cell_type": "markdown",
      "metadata": {
        "id": "NKq9om0BTe_4"
      },
      "source": [
        "**[Distributivgesetz](https://de.m.wikipedia.org/wiki/Distributivgesetz)**\n",
        "\n",
        "* The sum of two numbers times a third number is equal to the sum of each addend times the third number (Gilt für körper (fields), aber nicht gruppen oder ringe!). a * b + a * c = a * (b + c)"
      ]
    },
    {
      "cell_type": "markdown",
      "metadata": {
        "id": "tNBArCWBuSJo"
      },
      "source": [
        "*Gilt zusätzlich Distributivgesetz gilt für Ring (da man hier zwei Operationen benötigt)*"
      ]
    },
    {
      "cell_type": "markdown",
      "metadata": {
        "id": "zoyEe_nmjtNC"
      },
      "source": [
        "\n",
        "\n",
        "---\n",
        "\n"
      ]
    },
    {
      "cell_type": "markdown",
      "metadata": {
        "id": "ndTZ1y1Sju7J"
      },
      "source": [
        "**Summary**"
      ]
    },
    {
      "cell_type": "markdown",
      "metadata": {
        "id": "4XKF004At1qB"
      },
      "source": [
        "**The elements of a field (Körper) obey the following laws:**\n",
        "\n",
        "1. **Closure laws**: a + b and ab are unique elements in the field.\n",
        "\n",
        "2. **Commutative laws**: a + b = b + a and ab = ba.\n",
        "\n",
        "3. **Associative laws**: a + (b + c) = (a + b) + c and a(bc) = (ab)c.\n",
        "\n",
        "4. **Identity laws**: there exist elements 0 and 1 such that a + 0 = a and a × 1 = a.\n",
        "\n",
        "5. **Inverse laws**: for every a there exists an element - a such that a + (-a) = 0, and for every a ≠ 0 there exists an element a-1 such that a × a-1 = 1.\n",
        "\n",
        "6. **Distributive law**: a(b + c) = ab + ac.\n",
        "\n",
        "\n",
        "Read more: Field - Set, Laws, Elements, and Operations - JRank Articles https://science.jrank.org/pages/2709/Field.html#ixzz6UdPamPNB"
      ]
    },
    {
      "cell_type": "markdown",
      "metadata": {
        "id": "AZCpPDJAe3AK"
      },
      "source": [
        "* **Summary**: Aus einer Menge der Zahlen (N, Z, Q, R, C, H) eine algebraische Struktur basteln. Man kann mit der Gruppe anfangen (als einfachste algebraische Struktur), um erstmal einfach zu verknüpfen. Dann schickt man noch eine Verknüpfung rein und bastelt sich so einen Ring. Kommt dann zum Körper und kann spätestens bei den Körpern über komplexen Zahlen sämtliche Gleichungen lösen.\n",
        "\n",
        "* **Gruppe** zB schickt man die Menge natürliche Zahlen N in eine zweistellige Verknüpfung. Wobei abgestuft werden kann wie viele Axiome gelten, von Magma, über Halbgruppe (nur Assoziativität), Monoid (inkl. neutrales Element), Gruppe (inkl Inverse) und Abelsche Gruppe (inkl Kommutativität).\n",
        "\n",
        "* **Ringe** erlauben **zwei** zweistellige Verknüpfungen, üblicherweise der **ganzen Zahlen Z**, was aber kein Divisionsring ist / keine multiplikative Inverse für alle Elemente (gibt Probleme bei der Lösung mancher Gleichungen): Addition: (R, +) ist eine abelsche Gruppe, aber die Multiplikation: (R, ∙) ist eine Halbgruppe. **Kommutativität in der Multiplikation gilt dann erst bei Körpern!**\n",
        "\n",
        "* Divisionsring = Schiefkörper (hat alle Körpereigenschaften, aber die Multiplikation ist nicht notwendigerweise kommutativ). Anwendung bei Quaternions H.\n",
        "\n",
        "* **Körper** über rationale Zahlen Q, über reelle Zahlen R und über komplexe Zahlen C. Damit kann man praktisch alle Gleichungen lösen. Bei Körpern gilt die Kommutativität in der Multiplikation.\n",
        "\n",
        "* Für Operationen im mehrdimensionalen Raum erweitert man noch auf **Module** (für Ringe, zB ganze Zahlen Z<sup>n</sup>) und **Vektorräume** (für Körper, zB reelle Zahlen R<sup>n</sup>). Deshalb sagt man auch zB Vektorraum über einen Körper der reellen Zahlen. **Ein Modul ist ein n-dimensionaler Ring, und ein Vektorraum ist ein n-dimensionaler Körper.**"
      ]
    },
    {
      "cell_type": "markdown",
      "metadata": {
        "id": "DSDecWiLleDK"
      },
      "source": [
        "![alternativer Text](https://upload.wikimedia.org/wikipedia/commons/thumb/7/7a/Übersicht_Körper.svg/993px-Übersicht_Körper.svg.png)\n"
      ]
    },
    {
      "cell_type": "markdown",
      "metadata": {
        "id": "CoIy64C2tO4P"
      },
      "source": [
        "https://en.m.wikipedia.org/wiki/Vector_space"
      ]
    },
    {
      "cell_type": "markdown",
      "metadata": {
        "id": "C9dRal7LstQ8"
      },
      "source": [
        "https://en.m.wikipedia.org/wiki/Outline_of_algebraic_structures"
      ]
    },
    {
      "cell_type": "markdown",
      "metadata": {
        "id": "zbm3qTNcMybQ"
      },
      "source": [
        "<img src=\"https://raw.githubusercontent.com/deltorobarba/repo/master/algebragroups.jpg\" alt=\"algreba\">"
      ]
    },
    {
      "cell_type": "markdown",
      "metadata": {
        "id": "0n2NN_KyNEQb"
      },
      "source": [
        "https://youtu.be/Cq2m-MgczWU"
      ]
    },
    {
      "cell_type": "markdown",
      "metadata": {
        "id": "pJsarOY4gRjI"
      },
      "source": [
        "## **Quotient Groups & Fundamental Theorem on Homomorphisms**"
      ]
    },
    {
      "cell_type": "markdown",
      "metadata": {
        "id": "J9YEOKBugRjJ"
      },
      "source": [
        "#### **Grundlagen**"
      ]
    },
    {
      "cell_type": "markdown",
      "metadata": {
        "id": "npi3GPQuyXHu"
      },
      "source": [
        "**Abbildungen**"
      ]
    },
    {
      "cell_type": "markdown",
      "metadata": {
        "id": "RFgQPMjQ_2QB"
      },
      "source": [
        "![alternativer Text](https://upload.wikimedia.org/wikipedia/commons/thumb/0/02/Injection.svg/240px-Injection.svg.png)"
      ]
    },
    {
      "cell_type": "markdown",
      "metadata": {
        "id": "AZ_sMORDL_Ai"
      },
      "source": [
        "* Jedes Element von Y hat höchstens ein Urbild: A, B, D je eines, C keines.\n",
        "\n",
        "* Die Zielmenge kann daher nicht weniger mächtig als die Definitionsmenge sein, d. h., sie kann nicht weniger Elemente enthalten.\n",
        "\n",
        "* injektiv, wenn es zu jedem Element y der Zielmenge Y höchstens ein (also eventuell gar kein) Element x der Ausgangs- oder Definitionsmenge X gibt, das darauf zielt, wenn also **nie zwei verschiedene Elemente der Definitionsmenge auf dasselbe Element der Zielmenge abgebildet werden**"
      ]
    },
    {
      "cell_type": "markdown",
      "metadata": {
        "id": "spo-zVLSLUsq"
      },
      "source": [
        "https://de.m.wikipedia.org/wiki/Injektive_Funktion"
      ]
    },
    {
      "cell_type": "markdown",
      "metadata": {
        "id": "EsAaO511Ln_G"
      },
      "source": [
        "![alternativer Text](https://upload.wikimedia.org/wikipedia/commons/thumb/6/6c/Surjection.svg/240px-Surjection.svg.png)"
      ]
    },
    {
      "cell_type": "markdown",
      "metadata": {
        "id": "SpROKRjkLzec"
      },
      "source": [
        "jedes Element der Zielmenge hat mindestens ein Urbild (rechtstotalen Funktionen)"
      ]
    },
    {
      "cell_type": "markdown",
      "metadata": {
        "id": "oECpC2jOLWnI"
      },
      "source": [
        "https://de.m.wikipedia.org/wiki/Surjektive_Funktion"
      ]
    },
    {
      "cell_type": "markdown",
      "metadata": {
        "id": "_lQ2nNu6Ljv4"
      },
      "source": [
        "![alternativer Text](https://upload.wikimedia.org/wikipedia/commons/thumb/a/a5/Bijection.svg/240px-Bijection.svg.png)"
      ]
    },
    {
      "cell_type": "markdown",
      "metadata": {
        "id": "4TEi36wZLYis"
      },
      "source": [
        "https://de.m.wikipedia.org/wiki/Bijektive_Funktion"
      ]
    },
    {
      "cell_type": "markdown",
      "metadata": {
        "id": "0SSy_8X9uwn9"
      },
      "source": [
        "**Kernel, Urbild & Image of a Function**"
      ]
    },
    {
      "cell_type": "markdown",
      "metadata": {
        "id": "Y1jLxj1l98EQ"
      },
      "source": [
        "https://de.m.wikipedia.org/wiki/Bild_(Mathematik)"
      ]
    },
    {
      "cell_type": "markdown",
      "metadata": {
        "id": "oi6tDHyz9-it"
      },
      "source": [
        "https://de.m.wikipedia.org/wiki/Kern_(Algebra)"
      ]
    },
    {
      "cell_type": "markdown",
      "metadata": {
        "id": "urXv_rFuy6tf"
      },
      "source": [
        "Thema: Abbildungen (zB lineare Abbildungen in Vektorräumen)\n",
        "\n",
        "* **Definitionsmenge**: zB Vektorraum V (mit Funktionsargument)\n",
        "\n",
        "* **Zielmenge**: zB Vektorraum W (mit Funktionswert)\n",
        "\n",
        "* **Urbild**: Das Urbild von der Teilmenge N in der Zielmenge W sind alle Elemente aus der Definitionsmenge V (original), für die gilt, wenn man sie in die Funktion einsetzt, dann liegt der Funktionswert in den Teilmenge N der Zielmenge W.\n",
        "\n",
        "> $f^{-1}(N)=\\{x \\in V \\mid f(x) \\in N\\}$\n",
        "\n",
        "* **Faser**: Urbild von einem Element (\"Faser der Abbildung über einem Element\")\n",
        "\n",
        "* **Funktionswerte**: Element im Bild in der Zielmenge, der zu einem Element im Urbild gehört. Alle Funktionswerte, die überhauot rauskommen können, sind das Bild bzw. die Bildmenge. \n",
        "\n",
        "* **[Bild](https://ncatlab.org/nlab/show/image) bzw [Img](https://en.m.wikipedia.org/wiki/Image_(mathematics))**: Menge in der Zielmenge. Ist immer in der Zielmenge, muss aber nicht alle Elemente in der Zielmenge umfassen\n",
        "\n",
        ">$\\operatorname{Bild}(f)=f(V):=\\{f(x) \\mid x \\in V\\}$ = im(f)\n",
        "\n",
        "* **Kern**: Nullvektor / das neutrale Element der Addition. Alle Elemente in der Definitionsmenge V, für die der Funktionswert der Nullvektor ist (d.h. bei denen Null in der Zielmenge rauskommt). [Kern](https://de.wikipedia.org/wiki/Kern_(Algebra)): Elemente, die auf Null verweisen. Anders gesagt: Ist die Lösungsmenge der homogenen linearen Gleichung f(x) = 0. Der Kern ist das Urbild des neutralen Elements e. Der Kern einer Abbildung dient in der Algebra dazu, anzugeben, wie stark die Abbildung von der Injektivität abweicht.\n",
        "\n",
        ">ker(f) = $\\{x \\in V \\mid f(x)=0 \\in W\\}$"
      ]
    },
    {
      "cell_type": "markdown",
      "metadata": {
        "id": "VlpJJK1F979M"
      },
      "source": [
        "https://de.m.wikipedia.org/wiki/Urbild_(Mathematik)#Definition"
      ]
    },
    {
      "cell_type": "markdown",
      "metadata": {
        "id": "qviTkXXmSu5-"
      },
      "source": [
        "![ccc](https://upload.wikimedia.org/wikipedia/commons/thumb/6/64/Codomain2.SVG/320px-Codomain2.SVG.png)"
      ]
    },
    {
      "cell_type": "markdown",
      "metadata": {
        "id": "es-yj6rXSyq8"
      },
      "source": [
        "*f is a function from domain X to codomain Y. The yellow oval inside Y is the image of f.* \n",
        "\n",
        "The image of a function is the set of all output values it may produce. ([Source](https://en.m.wikipedia.org/wiki/Image_(mathematics)))"
      ]
    },
    {
      "cell_type": "markdown",
      "metadata": {
        "id": "vS2RznRQGeCU"
      },
      "source": [
        "![ccc](https://upload.wikimedia.org/wikipedia/commons/thumb/4/4c/KerIm_2015Joz_L2.png/640px-KerIm_2015Joz_L2.png)"
      ]
    },
    {
      "cell_type": "markdown",
      "metadata": {
        "id": "zI-JGTHpGima"
      },
      "source": [
        "*Kernel and image of a map L ([Source](https://en.m.wikipedia.org/wiki/Kernel_(linear_algebra)))*"
      ]
    },
    {
      "cell_type": "markdown",
      "metadata": {
        "id": "rbYzNcTJGmIH"
      },
      "source": [
        "* The kernel of L is a linear subspace of the domain V.\n",
        "\n",
        "* Exkurs: the image of a function is the set of all output values it may produce.\n",
        "\n",
        "* Exkurs: the kernel of a homomorphism (function that preserves the structure) is generally the inverse image of 0 (except for groups whose operation is denoted multiplicatively, where the kernel is the inverse image of 1). kern -> identity! (0 unter Addition, 1 unter Multiplikation)\n",
        "\n",
        "* In the linear map L : V → W, two elements of V have the same image in W if and only if their difference lies in the kernel of L:\n",
        "\n",
        "> L ( v 1 ) = L ( v 2 ) ⇔ L ( v 1 − v 2 ) = 0\n",
        "\n",
        "* From this, it follows that the image of L is isomorphic to the quotient of V by the kernel:\n",
        "\n",
        "> im ⁡ ( L ) ≅ V / ker ⁡ ( L ) \n",
        "\n",
        "* Der Kern von L ein Normalteiler von V und daher kann die Faktorgruppe V/ ker(L) gebildet werden.\n",
        "\n",
        "* Nach dem Homomorphiesatz für Gruppen ist diese Faktorgruppe isomorph zum Bild von  L,  das eine Untergruppe von  W  ist."
      ]
    },
    {
      "cell_type": "markdown",
      "metadata": {
        "id": "i-Hh2MCGHSZr"
      },
      "source": [
        "*When V is an inner product space, the quotient V / ker(L) can be identified with the orthogonal complement in V of ker(L). This is the generalization to linear operators of the row space, or coimage, of a matrix.*"
      ]
    },
    {
      "cell_type": "markdown",
      "metadata": {
        "id": "uxUqAZjXXTtt"
      },
      "source": [
        "Als Bild (img) des Gruppenhomomorphismus $f: G \\rightarrow H$ bezeichnet man die Bildmenge von $G$ unter $f:$\n",
        "\n",
        "> $\n",
        "f(G)=\\operatorname{Bild}(f)=\\operatorname{im}(f):=\\{f(u) \\mid u \\in G\\}\n",
        "$\n",
        "\n",
        "**Der Kern von $f$ ist das Urbild des neutralen Elements $e_{H}:$**\n",
        "\n",
        "> $\n",
        "f^{-1}\\left(e_{H}\\right)=\\operatorname{Kern}(f)=\\operatorname{ker}(f):=\\left\\{u \\in G \\mid f(u)=e_{H}\\right\\}\n",
        "$\n",
        "\n",
        "Genau dann, wenn $\\operatorname{Kern}(f)=\\left\\{e_{G}\\right\\}$ gilt (der Kern von $f$ also nur das neutrale Element von $G$ enthält, das immer im Kern liegt), ist $f$ injektiv. Ein injektiver Gruppenhomomorphismus wird auch GruppenMonomorphismus genannt.\n",
        "\n",
        "**Der Kern von $f$ ist stets ein Normalteiler von $G$ und das Bild von $f$ ist eine Untergruppe von $H$. Nach dem Homomorphiesatz ist die Faktorgruppe $G / \\operatorname{Kern}(f)$ isomorph zu Bild $(f)$.**"
      ]
    },
    {
      "cell_type": "markdown",
      "metadata": {
        "id": "5ge-vdc7XW3E"
      },
      "source": [
        "https://de.m.wikipedia.org/wiki/Gruppenhomomorphismus#Bild_und_Kern"
      ]
    },
    {
      "cell_type": "markdown",
      "metadata": {
        "id": "mhawUapXlFtE"
      },
      "source": [
        "https://en.m.wikipedia.org/wiki/Kernel_(algebra)"
      ]
    },
    {
      "cell_type": "markdown",
      "metadata": {
        "id": "fQSYBeN2lH23"
      },
      "source": [
        "https://en.m.wikipedia.org/wiki/Kernel_(linear_algebra)"
      ]
    },
    {
      "cell_type": "markdown",
      "metadata": {
        "id": "4JzWb5yLlKPK"
      },
      "source": [
        "https://en.m.wikipedia.org/wiki/Kernel_(category_theory)"
      ]
    },
    {
      "cell_type": "markdown",
      "metadata": {
        "id": "YDualhq0eJBf"
      },
      "source": [
        "**Umfangreichere Differenzierung**"
      ]
    },
    {
      "cell_type": "markdown",
      "metadata": {
        "id": "63hmjERjeHzh"
      },
      "source": [
        "* **In der Analysis spricht man heute häufig noch von Funktionen, während man in der Algebra und in der Geometrie von Abbildungen spricht.**\n",
        "\n",
        "* Einige Mathematiker unterscheiden auch heute noch streng zwischen einer Abbildung und einer Funktion. Diese verstehen unter einer Funktion eine Abbildung in den reellen oder komplexen Zahlenkörper.\n",
        "\n",
        "* Weitere Synonyme in spezielleren Zusammenhängen sind unter anderem **Operation in der Analysis, Verknüpfung und Morphismus in der Algebra**."
      ]
    },
    {
      "cell_type": "markdown",
      "metadata": {
        "id": "nkOB9acDedLP"
      },
      "source": [
        "Eine Funktion f ordnet jedem Element x einer Definitionsmenge D genau ein Element y einer Zielmenge Z zu.\n",
        "Schreibweise:\n",
        "\n",
        "**f: D ⟶ Z, x ↦ y**\n",
        "\n",
        "Anmerkungen:\n",
        "* Die Umkehrung gilt nicht: Ein Element der Zielmenge muss (wenn überhaupt) nicht nur einem Element des Definitionsbereiches zugeordnet worden sein.\n",
        "\n",
        "* Oft ist an Stelle der Definitionsmenge zunächst eine Quellmenge Q gegeben. Wenn f als Rechenvorschrift gegeben ist, erhält man die Definitionsmenge D<sub>f</sub>, indem man von Q diejenigen Elemente ausschließt, für die f nicht definiert ist."
      ]
    },
    {
      "cell_type": "markdown",
      "metadata": {
        "id": "35B4DcKge1AB"
      },
      "source": [
        "**Mengentheoretische Definition**\n",
        "\n",
        "Mengentheoretisch ist eine Funktion eine spezielle Relation: Eine Funktion von der Menge D in die Menge Z ist eine Menge f, die die folgenden Eigenschaften hat: \n",
        "\n",
        "* f ist eine Teilmenge des kartesischen Produkts D􏰞xZ von D und Z, d. h. f eine Relation.\n",
        "\n",
        "* Für jedes Element x aus D existiert (mindestens) ein Element y in Z, so dass das geordnete Paar (x,y) Element der Relation f ist. f ist also linkstotal.\n",
        "\n",
        "* Zu jedem Element x von D gibt es höchstens ein Element y von Z, so dass das Paar (x,y) in f liegt. f ist damit rechtseindeutig bzw. funktional.\n",
        "\n",
        "* Die letzten beiden Eigenschaften lassen sich auch wie folgt zusammenfassen:\n",
        "Zu jedem Element x von D gibt es genau ein Element y von Z, so dass das Paar (x,y) Element der Relation f ist.\n",
        "\n",
        "\n",
        "Oft möchte man aber auch die Zielmenge explizit zu einem Teil der Funktion machen, zum Beispiel um Aussagen zur Surjektivität anstellen zu können:\n",
        "\n",
        "* Ein Paar f = (G<sub>f</sub>,Z), bestehend aus einer Relation G<sub>f</sub> und einer Menge Z, heißt Funktion von der Menge D nach Z, wenn gilt: G<sub>f</sub> ⊆ D􏰞Z und zu jedem Element x von D gibt es genau ein Element y von Z (geschrieben y = f(x)), so dass das Paar (x,y) Element von G<sub>f</sub> ist.\n",
        "\n",
        "* G<sub>f</sub> wird auch der Graph der Funktion f genannt. Die Definitionsmenge D der Funktion ist dabei durch ihren Graphen eindeutig bestimmt und besteht aus den ersten Komponenten aller Elemente des Graphen. Stimmen zwei Funktionen in ihren Graphen überein, so sagt man auch, sie seien im We‐ sentlichen gleich.\n",
        "\n",
        "* Man kann jedoch auch noch die Definitionsmenge hinzunehmen und eine Funktion entsprechend als ein Tripel f = (Gf,D,Z), G<sub>f</sub> wie oben, definieren."
      ]
    },
    {
      "cell_type": "markdown",
      "metadata": {
        "id": "L9dWfLfey6I0"
      },
      "source": [
        "https://youtu.be/Q52laFrARek"
      ]
    },
    {
      "cell_type": "markdown",
      "metadata": {
        "id": "WBM6yfYfopZq"
      },
      "source": [
        "#### **Quotient Group**"
      ]
    },
    {
      "cell_type": "markdown",
      "metadata": {
        "id": "UDNzWru2eKpK"
      },
      "source": [
        "**Division mit Rest & Modulo (Restklassenrechnung)**"
      ]
    },
    {
      "cell_type": "markdown",
      "metadata": {
        "id": "nn-uZBpHqhaM"
      },
      "source": [
        "* **Division mit Rest** (Divisionsalgorithmus) besagt, dass es zu zwei Zahlen $n$ und $m \\neq 0$ eindeutig bestimmte Zahlen $a$ und $b$ gibt, für die $n=m \\cdot a+b, \\quad 0 \\leq b<|m|$ gilt. ZB 17 = 3 * 5 + 2 (b ist hierbei die Restklasse und a der Quotient). Sources: [Division_mit_Rest](https://de.wikipedia.org/wiki/Division_mit_Rest) & [Euclidean_division](https://en.wikipedia.org/wiki/Euclidean_division)\n",
        "\n",
        "* **Modulo (Restklassenrechnung) berechnet den Rest b der Division n geteilt durch m ('Modular arithmetic')**. Source: [Modulo Operation](https://en.m.wikipedia.org/wiki/Modulo_operation) & [Division_mit_Rest#Modulo](https://de.m.wikipedia.org/wiki/Division_mit_Rest#Modulo). Beispiel: 7 mod 2 (sprich 7modulo2) ist beispielsweise 1, denn 7 geteilt durch 2 lässt den Rest 1.\n",
        "  * Zwei Zahlen sind kongruent (modulo der natürlichen Zahl n), wenn ihre Differenz durch n teilbar ist.\n",
        "  * Zwei Zahlen sind kongruent (modulo des Moduls m), wenn ihre Differenz durch m teilbar ist.\n",
        "  * Die ganzen Zahlen zerfallen mit der Kongruenz also in Äquivalenzklassen, die Restklassen modulo m.\n",
        "\n",
        "* **Äquivalenzklassen**: The result of the modulo operation is an equivalence class (Äquivalenzklassen). Any member of the class may be chosen as representative. However, the usual representative is the least positive residue, the smallest non-negative integer that belongs to that class (i.e., the remainder of the [Euclidean division](https://en.wikipedia.org/wiki/Euclidean_division) / Division mit Rest) & [Equivalence_class](https://en.m.wikipedia.org/wiki/Equivalence_class)\n",
        "\n",
        "* **[Restklassen](https://de.wikipedia.org/wiki/Restklasse)** sind die Äquivalenzklassen in der Kongruenzrelation. Eine Zahl a modulo einer Zahl m die Menge aller Zahlen, die bei Division durch m denselben Rest lassen wie a. Jede Menge $\\bar{a}=\\{x \\in \\mathbb{Z} \\mid x \\equiv a$ mod $m\\}$ nennt man eine **Restklasse\n",
        "modulo $m .$** Jedes Element $x \\in \\bar{a}$ heißt **Repräsentant** der Restklasse $\\bar{a}$. Die Menge aller Restklassen modulo m bezeichnet man mit $\\mathrm{R}_{\\mathrm{m}}$. Rechnen mit Restklassen: Mit Hilfe der **[Rechengesetze für Kongruenzen](https://de.wikipedia.org/wiki/Kongruenz_(Zahlentheorie)#Rechenregeln)** können wir nun überlegen, ob wir auf einfache Weise auch die Summe zweier Zahlen einer Restklasse zuordnen können. Zum Beispiel direkt über die Addition der Restklassen. In der Gruppentheorie werden Äquivalenzklassen als [Nebenklassen (Cosets)](https://de.m.wikipedia.org/wiki/Gruppentheorie#Nebenklassen) bezeichnet"
      ]
    },
    {
      "cell_type": "markdown",
      "metadata": {
        "id": "ZCdiVqMkqKSG"
      },
      "source": [
        "**Äquivalenz & Kongruenz**"
      ]
    },
    {
      "cell_type": "markdown",
      "metadata": {
        "id": "Z9mqCCRXcrGN"
      },
      "source": [
        "* **Äquivalenz**: Objekte, die sich in einem bestimmten Zusammenhang gleichen, als gleichwertig bzw. äquivalent angesehen. Ein solcher Zusammenhang lässt sich für alle Elemente einer nichtleeren Menge $A$ stets durch eine Funktion $f: A \\rightarrow B$ herstellen, indem man genau dann zwei Elemente $a, b \\in A$ als zueinander $_{n}$ äquivalent $^{\\prime \\prime}$ bezeichnet und diese Beziehung durch $a \\sim b$ symbolisiert, wenn deren Bilder gleich sind: $\n",
        "a \\sim b: \\Longleftrightarrow f(a)=f(b)\n",
        "$. Diese Beziehung bzw. Relation hat die folgenden drei Eigenschaften:\n",
        "  1. Jedes Objekt $a$ ist zu sich selbst äquivalent: $a \\sim a$.\n",
        "  2. Wenn $a$ äquivalent zu $b$ ist, dann ist auch $b$ äquivalent zu $a: a \\sim b \\Longrightarrow b \\sim a$.\n",
        "  3. Wenn $a$ äquivalent zu $b$ und $b$ äquivalent zu $c$ ist, dann ist auch $a$ äquivalent zu $c: a \\sim b$ und $b \\sim c \\Longrightarrow a \\sim c$.\n",
        "  \n",
        "* **Kongruenz**: ([Kongruenz (Geometrie)](https://de.m.wikipedia.org/wiki/Kongruenz_(Geometrie)) bzw. [Kongruenz (Zahlentheorie)](https://de.m.wikipedia.org/wiki/Kongruenz_(Zahlentheorie))) Die Kongruenz zwischen zwei ganzen Zahlen ist in Bezug auf einen Teiler definiert. **Der Teiler heißt in diesem Zusammenhang Modul.** Gegeben sei ein Modul $m \\in \\mathbb{N}$. Zwei ganze Zahlen $a$ und $b$ heißen kongruent modulo $m$, **wenn die Division von $a$ und $b$ durch $m$ den gleichen Rest $r$ lässt**. Kongruenz ist eine Art Erweiterung der Modulorechnung:\n",
        "  * Modulorechnung: 17 mod 3 = 2. \n",
        "  * **Kongruenz: 11 $\\equiv$ 17 mod 3 (weil bei beiden der Rest 2 ist - beide sind in der der gleichen Restklasse)**\n",
        "  * Man kann alternativ zur Restklassenermittlung auch sagen, dass zwei Zahlen kongruent sind (modulo der natürlichen Zahl n), wenn ihre Differenz (hier: h(e) - t(e) ) durch n teilbar ist. Hier: 17 - 11 = 6, ist teilbar durch 3.\n",
        "  * $\n",
        "a \\equiv b \\quad(\\bmod m) \\quad \\Leftrightarrow \\quad(a \\bmod m)=(b \\bmod m) \\quad \\Leftrightarrow \\quad(a-b) \\bmod m=0\n",
        "$\n",
        "  * $a \\equiv b \\bmod m \\Leftrightarrow \\exists t_{a}, t_{b}, r \\in \\mathbb{Z}: a=t_{a} m+r$ und $b=t_{b} m+r$ und $0 \\leq r<m$\n",
        "  * Jede Kongruenz modulo einer ganzen Zahl ist eine Kongruenzrelation auf dem Ring der ganzen Zahlen.\n",
        "  * **15 is congruent to 3 modulo 12**, so \"15:00\" on a 24-hour clock is displayed \"3:00\" on a 12-hour clock.\n",
        "\n",
        "* **Rechengesetze für Kongruenzen**: Kongruenzen darf man wie Gleichungen mit Rechnungen kombinieren. Dabei ist allerdings die Division nicht zulässig, man muss sich auf +, – und · beschränken.\n",
        "\n",
        "  * Sei $m \\in \\mathbb{N}$ ein Modul und seien $a, b, c, d \\in \\mathbb{Z}$ $a \\equiv b \\bmod m$ und $c \\equiv d \\bmod m \\Rightarrow\\left\\{\\begin{array}{l}a+c \\equiv b+d \\bmod m \\\\ a-c \\equiv b-d \\bmod m \\\\ a \\cdot c \\equiv b \\cdot d \\bmod m\\end{array}\\right.$"
      ]
    },
    {
      "cell_type": "markdown",
      "metadata": {
        "id": "486kSieLeRzl"
      },
      "source": [
        "**Äquivalenz- & Kongruenzrelation**"
      ]
    },
    {
      "cell_type": "markdown",
      "metadata": {
        "id": "Bs_5tDGJxHu3"
      },
      "source": [
        "* Eine **Äquivalenzrelation** auf einer Menge $A \\neq \\emptyset$ ist eine zweistellige Relation $\\sim \\subseteq A \\times A,$ die folgende Bedingungen erfüllt:\n",
        "  * **Reflexivität**\n",
        "$\n",
        "(a, a) \\in \\sim \\text { für alle } a \\in A\n",
        "$\n",
        "  * **Symmetrie** $(a, b) \\in \\sim \\Longrightarrow(b, a) \\in \\sim$ für alle $a, b \\in A$\n",
        "  * **Transitivität** $(a, b) \\in \\sim$ und $(b, c) \\in \\sim \\Longrightarrow(a, c) \\in \\sim$ für alle $a, b, c \\in A$\n",
        "* Wie bei zweistelligen Relationen üblich, schreibt man statt $(a, b) \\in \\sim$ auch einfacher $a \\sim b,$ dann nehtnen diese Eigenschaften die oben genannte Form an. Das geordnete Paar $(A, \\sim)$ nennt man in diesem Fall auch Setoid oder E-set (englische Bezeichnung: extensional set, auch Bishop set). Eine Äquivalenzrelation ist somit eine zweistellige Relation, die **reflexiv, symmetrisch und transitiv** ist. **Eine Äquivalenzrelation teilt eine Menge restlos in disjunkte (elementfremde) Untermengen**, Äquivalenzklassen genannt. Die Klassenbildung mit Hilfe des Äquivalenzbegriffes ist grundlegend für viele mathematische Begriffsbildungen.\n",
        "* **Die [Kongruenzrelation](https://de.m.wikipedia.org/wiki/Kongruenzrelation) {[Algebraische_Struktur#Kongruenzrelationen](https://de.m.wikipedia.org/wiki/Algebraische_Struktur#Kongruenzrelationen) } ist für alle Modulo m auf der Menge $Z$ eine Äquivalenzrelation.** Die Kongruenzrelation ist letztlich deshalb eine Äquivalenzrelation, weil die grundlegende Eigenschaft „haben den gleichen Teilungsrest“ auf die Gleichheit zurückgreift, die eine Äquivalenzrelation ist. \n",
        "* In der Algebra **nennt man eine Äquivalenzrelation auf einer algebraischen Struktur eine Kongruenzrelation**, wenn die fundamentalen Operationen der algebraischen Struktur mit dieser Äquivalenzrelation verträglich sind. Eine Kongruenzrelation ist daher eine spezielle Äquivalenzrelation. Sie hat also die folgenden Eigenschaften:\n",
        "  1. Reflexivität\n",
        "$a \\equiv a \\quad(\\bmod m)$ für alle $a \\in \\mathbb{Z}$\n",
        "  2. Symmetrie $a \\equiv b \\quad(\\bmod m) \\Rightarrow b \\equiv a \\quad(\\bmod m)$ für alle $a, b \\in \\mathbb{Z}$\n",
        "  3. Transitivität\n",
        "$a \\equiv b \\quad(\\bmod m)$ und $b \\equiv c \\quad(\\bmod m) \\Rightarrow a \\equiv c \\quad(\\bmod m)$ für alle $a, b, c \\in \\mathbb{Z}$\n",
        "* Eine **Äquivalenzrelation auf einer Menge $A$ hat nicht notwendigerweise etwas mit der Struktur zu tun**, die darauf definiert ist. Von besonderem Interesse sind jedoch solche Äquivalenzrelationen $\\equiv$ , deren Quotientenabbildung $\n",
        "\\mathrm{q}_{\\mathrm{z}}: A \\rightarrow A / \\equiv, a \\mapsto[a]_{\\equiv}\n",
        "$ **mit der Struktur auf $A$ verträglich bzw. ein Homomorphismus ist**, weil dann die von $\\mathrm{q}_{=}$ erzeugte Struktur auf der [Quotientenmenge](https://de.wikipedia.org/wiki/Äquivalenzrelation#Quotientenmenge_und_Partition) $A / \\equiv$ von der gleichen Art ist wie die von $A$. **Eine solche Äquivalenzrelation $\\equiv$ nennt man eine Kongruenzrelation auf der strukturierten Menge $A$.**\n",
        "  * Die Quotientengruppe G/N ist homomorph zur Gruppe G ( ??? )\n",
        "* Insbesondere sind dann auch alle zur Struktur gehörenden Funktionen mit $\\equiv$ verträglich."
      ]
    },
    {
      "cell_type": "markdown",
      "metadata": {
        "id": "SmN4RyEJfHcj"
      },
      "source": [
        "**Groups & Subgroups**"
      ]
    },
    {
      "cell_type": "markdown",
      "metadata": {
        "id": "Gfs10URbe-RG"
      },
      "source": [
        "* Sei $\\mathbb{Z}$ die Gruppe der ganzen Zahlen mit der Addition als Gruppenoperation.\n",
        "\n",
        "* Man kann fur diese Gruppe verschiedene (unendlich viele) **[Untergruppen](https://de.m.wikipedia.org/wiki/Untergruppe) (Subgroups)** bilden: 2$\\mathbb{Z}$, 3$\\mathbb{Z}$, 4$\\mathbb{Z}$, 5$\\mathbb{Z}$, 6$\\mathbb{Z}$, 7$\\mathbb{Z}$, ..\n",
        "\n",
        "* Additional Information:\n",
        "\n",
        "  * A subgroup is a subset that‘s also a group, like H $\\leq$ G. And a \"proper subset\" is: H < G. (Beispiel: Die ganzen Zahlen $\\mathbb {Z} $ sind bezüglich der Addition eine Untergruppe der rationalen Zahlen $\\mathbb {Q} $.)\n",
        "\n",
        "  * Two standard subgroups of G are G itself and the Trivial Group = {e} with one element only, which is the identity element. Every group has at least 2 sub groups: the identity element {e} and the entire group G (these are technically normal subgroups, but aren't very interesting). If a group has no other normal subgroups then these two, than it's called a **simple group**. A simple group does not have any factor (quotient) groups, but they are the building blocks of other groups.\n",
        "\n",
        "  * **Langrange‘s theorem**: order of G is the number of elements in G, or: if H $\\leq$ G, then the order of H divides the order of G = |G|. Nebenklassen werden benutzt, um den [Satz von Lagrange](https://de.m.wikipedia.org/wiki/Satz_von_Lagrange) zu beweisen, um die Begriffe [Normalteiler](https://de.m.wikipedia.org/wiki/Normalteiler) und [Faktorgruppe](https://de.m.wikipedia.org/wiki/Faktorgruppe) zu erklären und um Gruppenoperationen zu studieren."
      ]
    },
    {
      "cell_type": "markdown",
      "metadata": {
        "id": "xPLl5-EjjzXT"
      },
      "source": [
        "**Normal Subgroups (Normalteiler)**"
      ]
    },
    {
      "cell_type": "markdown",
      "metadata": {
        "id": "JR_H2Wihj1zF"
      },
      "source": [
        "* Die Gruppe $\\mathbb{Z}$ ist **abelsch** (kommutativ) und somit ist jede Untergruppe auch ein **[Normalteiler](https://de.wikipedia.org/wiki/Normalteiler) bzw. [Normal Subgroup](https://en.wikipedia.org/wiki/Normal_subgroup)**.\n",
        "\n",
        "* WICHTIG: Normalteiler sind spezielle Untergruppen, und ihre Bedeutung liegt vor allem darin, **dass sie genau die Kerne von Gruppenhomomorphismen sind**. Normal Subgroups heissen auch \"invariant or self-conjugate subgroups\".\n",
        "\n",
        "  * Kern: Lösungsmenge der homogenen linearen Gleichung f(x) = 0.\n",
        "\n",
        "* Additional Information:\n",
        "\n",
        "  * Ein Normalteiler N < G ist eine Untergruppe mit der speziellen Eigenschaft aN=Na für alle a in G.\n",
        "\n",
        "  * Normal subgroups and quotient groups are among the most useful devices in abstract algebra. **Normal subgroups determine what kinds of homomorphisms are possible from a group G to other groups (f : G -> H)**\n",
        "\n",
        "  * Die Bezeichnung „…teiler“ in Normalteiler bezieht sich darauf, dass sich aus einer Gruppe G und jedem ihrer Normalteiler N eine Faktorgruppe G/N bilden lässt. Diese [Faktorgruppen](https://de.wikipedia.org/wiki/Faktorgruppe) sind homomorphe Bilder von G, **und jedes homomorphe Bild von G ist zu einer solchen Faktorgruppe G/N isomorph**.\n",
        "\n",
        "    *  ( ?? ) See fundamental theorem on homomorphisms of groups as \"**Every homomorphic image of a group is isomorphic to a quotient group**\". [Source](https://en.m.wikipedia.org/wiki/Fundamental_theorem_on_homomorphisms)\n",
        "\n",
        "    * ![Image](https://upload.wikimedia.org/wikipedia/commons/thumb/3/30/Fundamental_Homomorphism_Theorem.svg/210px-Fundamental_Homomorphism_Theorem.svg.png)\n",
        "\n",
        "  * And for finite groups you can find a chain of normal subgroups called a \"composition series\" which acts as a kind of 'prime factorization' of the group (1 ◃ N1, ◃ N2 ◃ ... ◃ Nr ◃ G ). Normal subgroups can also be used to study fields (Körper), i.e. in Galois theory (Field extension K / F)"
      ]
    },
    {
      "cell_type": "markdown",
      "metadata": {
        "id": "tBvAVvl7fMms"
      },
      "source": [
        "**Congruence Classes & Cosets (Nebenklassen)**"
      ]
    },
    {
      "cell_type": "markdown",
      "metadata": {
        "id": "O08cPooCfDoz"
      },
      "source": [
        "* Nehmen wir jetzt die Untergruppe 5$\\mathbb{Z}$ von $\\mathbb{Z}$ (integers mod 5), die aus allen Vielfachen von 5 besteht (the subgroup of the multiples of 5).\n",
        "\n",
        "* Wir bilden jetzt die **Congruence Classes** (Äquivalenzklassen) aus den 5 Sets der Reste (remainders) when dividing by 5 (remainder 0, 1, 2, 3, 4). Technically we use the normal subgroup to divide a group into **cosets**:\n",
        "\n",
        "  * 5$\\mathbb{Z}$ + Rest 0 = $\\overline{0} : \\{\\ldots-10,-5,0,5,10 \\ldots\\}$ **(Normal) Subgroup**, which is technically also a Coset 0+ 5 $\\mathbb{Z}$\n",
        "\n",
        "  * 5 $\\mathbb{Z}$ + Rest 1 = $\\overline{1} : \\{\\ldots-9,-4,1,6,11 \\ldots\\}$ **Coset 1+ 5 $\\mathbb{Z}$**\n",
        "\n",
        "  * 5 $\\mathbb{Z}$ + Rest 2 = $\\overline{2} : \\{\\ldots-8,-3,2,7,12 \\ldots\\}$ **Coset 2+ 5 $\\mathbb{Z}$**\n",
        "\n",
        "  * 5 $\\mathbb{Z}$ + Rest 3 = $\\overline{3} : \\{\\ldots-7,-2,3,8,13 \\ldots\\}$ **Coset 3+ 5 $\\mathbb{Z}$**\n",
        "\n",
        "  * 5 $\\mathbb{Z}$ + Rest 4 = $\\overline{4} : \\{\\ldots-6,-1,4,9,14 \\ldots\\}$ **Coset 4+ 5 $\\mathbb{Z}$**\n",
        "\n",
        "* Die Congruence Classes mit einem Rest anders als 0 (also 1, 2, 3 und 4), sind **keine Subgroups**, sondern nur **Coset (Nebenklasse)**, weil: it's not closed under addition, has no inverse and doesn't contain the identity element. (**Difference between Subgroup and subset: Subgroup has the idenity element**)\n",
        "\n",
        "* Additional Information:\n",
        "  * Cosets are there to define how many (finite) possible subgroup exist in a group\n",
        "  * There are **two types of cosets**: left cosets and right cosets (linke und rechte Nebenklasse). Cosets (of either type) have the same number of elements (cardinality) as does H. \n",
        "  * Furthermore, H itself is a coset, which is both a left coset and a right coset. The number of left cosets of H in G is equal to the number of right cosets of H in G. The common value is called the index of H in G and is usually denoted by [G : H]."
      ]
    },
    {
      "cell_type": "markdown",
      "metadata": {
        "id": "xkZyUUzbfTJN"
      },
      "source": [
        "**Quotient Group (Faktorgruppe)**"
      ]
    },
    {
      "cell_type": "markdown",
      "metadata": {
        "id": "7tLdl_QVInUz"
      },
      "source": [
        " * If we treat the 5 sets of remainders (the Congruence classes) **as if they were numbers**, then we have **a group with 5 elements**, the **Quotient Group** (Faktorgruppe)\r\n",
        "\r\n",
        "  * $\\mathbb{Z}$ mod 5 = {$\\overline{0}$, $\\overline{1}$, $\\overline{2}$, $\\overline{3}$, $\\overline{4}$}\r\n",
        "\r\n",
        "* Quotient Group besteht die aus allen **Nebenklassen (Cosets)** der Untergruppe 5$\\mathbb{Z}$. Man sagt auch: The group of cosets form the quotient group, and we can treat these cosets as elements in a new group: the **coset group**.\r\n",
        "\r\n",
        "* Diese Quotient Group bildet wiederum selbst eine **group under addition**.\r\n",
        " * The set of the multiples of 5 act as the idenityt element = $\\overline{0}$ \r\n",
        " * and each set has an inverse\r\n",
        " * Each set is closed under +\r\n",
        "\r\n",
        "* However, the quotient group is not a subgroup of $\\mathbb{Z}$. It's an entirely different group.\r\n",
        "\r\n",
        "* Additional Information:\r\n",
        "\r\n",
        "  * **Die Faktorgruppe oder Quotientengruppe ist eine Gruppe, die mittels einer Standardkonstruktion aus einer gegebenen Gruppe $G$ unter Zuhilfenahme eines Normalteilers $N \\leq G$ gebildet wird. Sie wird mit $G / N$ bezeichnet und ist die Menge der Nebenklassen (Cosets).** Sie unterteilt eine Menge in Äquivalenzklassen bzw. eine Gruppe in Restklassen / Nebenklassen.\r\n",
        "\r\n",
        "  * Die **Menge der Restklassen (Äquivalenzklassen) heisst Quotientenmenge bzw. Faktormenge**. In der Gruppentheorie heissen Restklassen 'Nebenklassen' (Cosets) und die Menge der Nebenklassen zu einer Gruppe heißt Faktorgruppe oder Quotientengruppe\r\n",
        "\r\n",
        "  * Der Faktorraum ist die Menge all dieser Äquivalenzklassen (Nebenklassen). Siehe auch: \r\n",
        "   * [Quotient Set](https://ncatlab.org/nlab/show/quotient+set) bzw. [Quotientenmenge](https://de.wikipedia.org/wiki/Äquivalenzrelation#Quotientenmenge_und_Partition)\r\n",
        "   * [Quotient Space](https://en.m.wikipedia.org/wiki/Quotient_space_(topology) bzw. [Faktorraum](https://de.wikipedia.org/wiki/Faktorraum)\r\n",
        "   * Quotient Topology bzw. ([Quotiententopologie](https://de.wikipedia.org/wiki/Quotiententopologie) \r\n",
        "   * [Quotient Category](https://en.m.wikipedia.org/wiki/Quotient_category)"
      ]
    },
    {
      "cell_type": "markdown",
      "metadata": {
        "id": "1qR1zSPuanDX"
      },
      "source": [
        "**Mathematische Definition der Nebenklasse**"
      ]
    },
    {
      "cell_type": "markdown",
      "metadata": {
        "id": "CNr_N7UVamHT"
      },
      "source": [
        "Definiert man auf der Gruppe $(G, *)$ mit einer Untergruppe $(H, *)$ die Relation $\\sim$ durch\n",
        "\n",
        "$\n",
        "b \\sim a: \\Longleftrightarrow \\exists h \\in H: b=a * h\n",
        "$\n",
        "\n",
        "erhält man eine Äquivalenzrelation auf $G,$ die die Menge $G$ partitioniert. Die Äquivalenzklasse (englisch: coset) zu einem Element $a \\in G$ (d. h. die Menge aller Elemente $b$, die zu $a$ in der Relation $b \\sim a$ stehen), ist die Menge\n",
        "\n",
        "$\n",
        "\\{b \\in G \\mid b \\sim a\\}=\\{a * h \\mid h \\in H\\}\n",
        "$\n",
        "\n",
        "Für diese Menge schreibt man $a * H, a H$ oder auch kurz $\\bar{a},$ wenn klar ist, durch welchen Vorgang die Nebenklassen gebildet werden. Da diese Menge alle Elemente von $G$ enthäit, die dadurch entstehen, dass die Elemente aus $H$ links mit dem Element $a$ verknüpft werden, heißt sie (genauer) die Linksnebenklasse, Alternativbezeichnung Linksrest klasse, von $H$ nach dem Element $a$.\n",
        "\n",
        "Wenn man andererseits eine Relation $\\sim$ durch\n",
        "\n",
        "$\n",
        "b \\sim a: \\Longleftrightarrow \\exists h \\in H: b=h * a\n",
        "$\n",
        "\n",
        "definiert, dann ist dies im Allgemeinen eine andere Äquivalenzrelation und die Menge der zu a àquivalenten Elemente in $G$ jetzt\n",
        "\n",
        "$\n",
        "H a:=\\{h * a \\mid h \\in H\\}\n",
        "$\n",
        "\n",
        "die durch Rechtsverknüpfung der Elemente aus $H$ mit dem Element $a$ entsteht. Sie wird mit $H * a$ oder $H a$ bezeichnet und Rechtsnebenklasse, Alternativbezeichnung Rechtsrestklasse, von $H$ nach dem Element $a$\n",
        "genannt.\n",
        "\n",
        "Für die Menge aller Links- bzw. Rechtsnebenklassen wird die Notation\n",
        "\n",
        "$\n",
        "G / H:=\\{g H \\mid g \\in G\\}\n",
        "$\n",
        "\n",
        "bzw.\n",
        "\n",
        "$\n",
        "H \\backslash G:=\\{H g \\mid g \\in G\\}\n",
        "$\n",
        "\n",
        "verwendet."
      ]
    },
    {
      "cell_type": "markdown",
      "metadata": {
        "id": "bGrSztFwaURh"
      },
      "source": [
        "**Rechenbeispiel**"
      ]
    },
    {
      "cell_type": "markdown",
      "metadata": {
        "id": "y-EqF-NFaN0s"
      },
      "source": [
        "Dies sind alle **[Nebenklassen](https://de.wikipedia.org/wiki/Gruppentheorie#Nebenklassen)** von $6 \\mathbb{Z},$ wie man leicht sehen kann, da sie die Gruppe $\\mathbb{Z}$ partitionieren und:\n",
        "\n",
        "$6 \\mathbb{Z}+6=6 \\mathbb{Z}+0$,\n",
        "\n",
        "$6 \\mathbb{Z}+7=6 \\mathbb{Z}+1$,\n",
        "\n",
        "$6 \\mathbb{Z}+8=6 \\mathbb{Z}+2$\n",
        "\n",
        "und so weiter. \n",
        "\n",
        "Da die Operation in $\\mathbb{Z}$ die Addition ist, nennt man die Addition der Nebenklassen auch Addition und es gilt beispielsweise $(6 \\mathbb{Z}+3)+(6 \\mathbb{Z}+4)=6 \\mathbb{Z}+7=6 \\mathbb{Z}+1 .$\n",
        "\n",
        "1. Normalteiler N ist eine Untergruppe von G (N, $\\circ$ ) $\\subseteq$ (G, $\\circ$ ) (die Verknüpfung ist die gleiche)\n",
        "\n",
        "2. gN = Ng $\\forall$ g $\\in$ G\n",
        "\n",
        "\n",
        "Beispiel:\n",
        "\n",
        "N := (5 * $Z$, +) und G := ($Z$, +)\n",
        "\n",
        "g = 2\n",
        "\n",
        "dann: \n",
        "\n",
        "**Linksnebenklasse**: 2 * N := {..., 2+0, 2+5, 2+10,...)\n",
        "\n",
        "**Rechtsnebenklasse**: N * 2 := {..., 0+2, 5+2, 10+2,..}\n",
        "\n",
        "**In einer kommutativen Gruppe sind alle Untergruppen automatisch ein Normalteiler** (wenn ich aber eine andere Gruppe als $Z$ wähle, kann es sein, dass es nicht kommutativ ist.)\n",
        "\n",
        "Beispiel ohne kommutative Gruppe: \n",
        "\n",
        "N = Alt (3) - alternierende Gruppe 3 $\\subseteq$ Sym(3) - symmetrische Gruppe = {id, (12), (13), (23), (123), (132)}"
      ]
    },
    {
      "cell_type": "markdown",
      "metadata": {
        "id": "kJ6FHLskwKZj"
      },
      "source": [
        "![alternativer Text](https://raw.githubusercontent.com/deltorobarba/repo/master/integersmod5b.png)"
      ]
    },
    {
      "cell_type": "markdown",
      "metadata": {
        "id": "BI5EL0fQwLuK"
      },
      "source": [
        "![alternativer Text](https://raw.githubusercontent.com/deltorobarba/repo/master/integersmod5c.png)"
      ]
    },
    {
      "cell_type": "markdown",
      "metadata": {
        "id": "k7wrFx7Nmvvi"
      },
      "source": [
        "#### **Homomorphiesatz**"
      ]
    },
    {
      "cell_type": "markdown",
      "metadata": {
        "id": "K8h4nrV7VpvU"
      },
      "source": [
        "**Faktorgruppe nach Kernen von Homomorphismen**"
      ]
    },
    {
      "cell_type": "markdown",
      "metadata": {
        "id": "bs78AK36ySEe"
      },
      "source": [
        "![Image](https://upload.wikimedia.org/wikipedia/commons/thumb/3/30/Fundamental_Homomorphism_Theorem.svg/210px-Fundamental_Homomorphism_Theorem.svg.png)\n",
        "\n",
        "The situation is described by this commutative diagram. By setting K = ker(f) we get the [first isomorphism theorem](https://en.m.wikipedia.org/wiki/Isomorphism_theorems) = der Normalteiler K ist der Kern ker(f) des Gruppenhomomorphismus. We can write the statement of the fundamental theorem on homomorphisms of groups as \"**Every homomorphic image of a group is isomorphic to a quotient group**\".\n",
        "\n",
        "[Source](https://en.m.wikipedia.org/wiki/Fundamental_theorem_on_homomorphisms)"
      ]
    },
    {
      "cell_type": "markdown",
      "metadata": {
        "id": "FkTJsD4CV8Xe"
      },
      "source": [
        "* Bedingung: Seien $G$ und $H$ zwei Gruppen und $\\varphi: G \\rightarrow H$ ein [Gruppenhomomorphismus](https://de.wikipedia.org/wiki/Gruppenhomomorphismus). \n",
        "* Dann ist der Kern von $\\varphi$ (in der Graphik oben $f$) ein Normalteiler von $G$ - (WARUM?)\n",
        "  * Die Bedeutung der Normalteiler (Normal Subgroups) liegt darin, dass sie genau die Kerne von Gruppenhomomorphismen sind. - (WARUM?) nota bene: dann ist naturlich klar, dass umgekehrt der Kern von $\\varphi$ (in der Graphik oben $f$) ein Normalteiler von $G$ ist. \n",
        "* und daher kann die Faktorgruppe $G /$ ker $\\varphi$ gebildet werden. \n",
        "* Nach dem [Homomorphiesatz](https://de.wikipedia.org/wiki/Homomorphiesatz) für Gruppen ist diese Faktorgruppe, isomorph zum Bild von $\\varphi$, das eine Untergruppe von $H$ ist."
      ]
    },
    {
      "cell_type": "markdown",
      "metadata": {
        "id": "rbfSWZ_CTu9b"
      },
      "source": [
        "![cc](https://upload.wikimedia.org/wikipedia/commons/thumb/7/7d/Group_homomorphism_ver.2.svg/500px-Group_homomorphism_ver.2.svg.png)\n",
        "\n",
        "*Image of a group homomorphism (h) from G (left) to H (right).*\n",
        "\n",
        "*The smaller oval inside H is the image of h. N is the kernel of h and aN is a coset of N.* [Source](https://en.m.wikipedia.org/wiki/Group_homomorphism)"
      ]
    },
    {
      "cell_type": "markdown",
      "metadata": {
        "id": "cvJh7PTbSHjV"
      },
      "source": [
        "**Let $G$ and $H$ be two groups.**\n",
        "\n",
        "**Let $h$ bzw. $\\phi: G \\rightarrow H$ be a group homomorphism** (aber nicht notwendigerweise Isomorphismus)\n",
        "\n",
        "**Let $N$ be a normal subgroup in $G$ and $\\phi$ the natural surjective homomorphism $G \\rightarrow G / N$ (where $G / N$ is a quotient group).** Diese Faktorgruppen sind homomorphe Bilder von G und jedes homomorphe Bild von G ist zu einer solchen Faktorgruppe G/N isomorph.\n",
        "\n",
        "**Then:**\n",
        "\n",
        "1. **The kernel of $\\phi$ is a normal subgroup of $G$**.\n",
        "  * Der [Kern von](https://de.m.wikipedia.org/wiki/Kern_(Algebra)) $\\varphi$ ist ein Normalteiler von $G$ und daher kann die Faktorgruppe $G /$ ker $\\varphi$ gebildet werden.\n",
        "  * If $N$ is a **subset** of ker $(f)$ then there exists a unique homomorphism $h: G / N \\rightarrow H$ such that $f=h \\phi$. In other words, the natural projection $\\phi$ is universal among homomorphisms on $G$ that map $N$ to the identity element.\n",
        "  * **Der Kern ist das Urbild des neutralen Elements e**. Elemente, die auf Null verweisen (Lösungsmenge der homogenen linearen Gleichung f(x) = 0). Die Bedeutung der Normalteiler (Normal Subgroups) liegt vor allem darin, **dass sie genau die Kerne von Gruppenhomomorphismen sind**.\n",
        "\n",
        "2. **The image of $\\phi$ is a subgroup of $H$**\n",
        "\n",
        "3. **The image of $\\phi$ is isomorphic to the quotient group $G /$ ker $(\\phi)$.** \n",
        "  * Nach dem [Homomorphiesatz](https://de.m.wikipedia.org/wiki/Homomorphiesatz) für Gruppen ist diese Faktorgruppe [isomorph](https://de.m.wikipedia.org/wiki/Isomorphismus) zum [Bild von](https://de.m.wikipedia.org/wiki/Bild_(Mathematik)) $\\varphi,$ das eine Untergruppe von $H$ ist.\n",
        "\n",
        "In particular, if $\\phi$ is surjective then $H$ is isomorphic to $G / \\mathrm{ker}(\\phi)$. [Source](https://en.m.wikipedia.org/wiki/Isomorphism_theorems#First_Isomorphism_Theorem_4)"
      ]
    },
    {
      "cell_type": "markdown",
      "metadata": {
        "id": "9rdqCbukXVeb"
      },
      "source": [
        "*Diagram of the fundamental theorem on homomorphisms where f is a homomorphism, N is a normal subgroup of G and e is the identity element of G.*\n",
        "\n",
        "![Image](https://upload.wikimedia.org/wikipedia/commons/thumb/2/25/Diagram_of_the_fundamental_theorem_on_homomorphisms.svg/440px-Diagram_of_the_fundamental_theorem_on_homomorphisms.svg.png)"
      ]
    },
    {
      "cell_type": "markdown",
      "metadata": {
        "id": "a46tUa1NSliV"
      },
      "source": [
        "![Image](https://upload.wikimedia.org/wikipedia/commons/thumb/3/30/Fundamental_Homomorphism_Theorem.svg/210px-Fundamental_Homomorphism_Theorem.svg.png)\n",
        "\n",
        "The situation is described by this commutative diagram. By setting K = ker(f) we immediately get the [first isomorphism theorem](https://en.m.wikipedia.org/wiki/Isomorphism_theorems). We can write the statement of the fundamental theorem on homomorphisms of groups as \"**Every homomorphic image of a group is isomorphic to a quotient group**\".\n",
        "\n",
        "[Source](https://en.m.wikipedia.org/wiki/Fundamental_theorem_on_homomorphisms)"
      ]
    },
    {
      "cell_type": "markdown",
      "metadata": {
        "id": "35B6lF4hR7zq"
      },
      "source": [
        "**Homomorphiesatz**: Ist $f:(G, \\circ) \\rightarrow(H, \\star)$ ein Gruppenhomomorphismus, dann ist der Kern $N:=\\operatorname{ker}(f)$ ein Normalteiler von $G$ und die Faktorgruppe $G / N$ ist isomorph zum Bild $f(G)$. Ein entsprechender isomorphismus ist gegeben durch $\\tilde{f}: G / N \\rightarrow f(G) ; g N \\mapsto f(g)$. [Source](https://de.wikipedia.org/wiki/Homomorphiesatz).\r\n",
        "\r\n",
        "**The image of a homomorphism is isomorphic to the quotient by the kernel.** [Source](https://en.m.wikipedia.org/wiki/Kernel_(algebra))"
      ]
    },
    {
      "cell_type": "markdown",
      "metadata": {
        "id": "suVaLAsuRUln"
      },
      "source": [
        "Sources: [Fundamental theorem on homomorphisms](https://en.m.wikipedia.org/wiki/Fundamental_theorem_on_homomorphisms) & [Homomorphiesatz](https://de.wikipedia.org/wiki/Homomorphiesatz) & [Quotient (universal algebra)](https://en.m.wikipedia.org/wiki/Quotient_(universal_algebra)) & [Exact sequence](https://en.m.wikipedia.org/wiki/Exact_sequence) & [Isomorphism theorems](https://en.m.wikipedia.org/wiki/Isomorphism_theorems#First_Isomorphism_Theorem_4)"
      ]
    },
    {
      "cell_type": "markdown",
      "metadata": {
        "id": "9HUhPqyUe_uy"
      },
      "source": [
        "\n",
        "\n",
        "---\n",
        "\n"
      ]
    },
    {
      "cell_type": "markdown",
      "metadata": {
        "id": "_7HUYmAwwThg"
      },
      "source": [
        "https://de.m.wikipedia.org/wiki/Homomorphiesatz"
      ]
    },
    {
      "cell_type": "markdown",
      "metadata": {
        "id": "WOZ2IYx2MNnz"
      },
      "source": [
        "Jäger & Hasen: https://youtu.be/QA9rrDMlaHc"
      ]
    },
    {
      "cell_type": "markdown",
      "metadata": {
        "id": "rpKUQwO0QTCn"
      },
      "source": [
        "* Wenn zwei Elemente a und b auf dasselbe Elemente auf der rechten Seite geschickt werden, dann unterscheiden sie sich um ein Kernelement (=0) voneinander. \n",
        "* Dh. dann ist b-a ein Element, das auf Null geschickt wird.\n",
        "* Wenn ich Modulo des Kerns rechne, dann heisst das ich tue so, als gibt es diese Differenz nicht.\n",
        "* Rein rechnerisch bedeutet das a = b. Sie sind als identisch (kongruent).\n",
        "* Modulo n: die Differenz zweier Elemente ist teilbar durch n. Die beiden Elemente sind dann kongruent (identisch).\n",
        "* V modulo Kern alpha ist isomorph (identisch) zu Bild alpha (=bijektiv und homomorph).\n",
        "\n",
        "Modulo: rest berechnen (Kern bzw. Cycle aus Image ist entweder Null oder im Falle eines Lochs nicht Null, und damit ein Rest!)"
      ]
    },
    {
      "cell_type": "markdown",
      "metadata": {
        "id": "AyQ5Nu-KajRC"
      },
      "source": [
        "#### **Exact Short Sequences**\n",
        "\n"
      ]
    },
    {
      "cell_type": "markdown",
      "metadata": {
        "id": "gA046uzEavah"
      },
      "source": [
        "Img (g) = Ker (f)"
      ]
    },
    {
      "cell_type": "markdown",
      "metadata": {
        "id": "ap7AlevTlXx5"
      },
      "source": [
        "![ccc](https://upload.wikimedia.org/wikipedia/commons/thumb/b/bc/Illustration_of_an_Exact_Sequence_of_Groups.svg/1066px-Illustration_of_an_Exact_Sequence_of_Groups.svg.png)"
      ]
    },
    {
      "cell_type": "markdown",
      "metadata": {
        "id": "17e4W4wJliiW"
      },
      "source": [
        "Illustration of an exact sequence of groups $G_{i}$ using Venn diagrams. Each group homomorphism $f_{i}: G_{i-1} \\rightarrow G_{i}$ maps $G_{i-1}$ to the kernel of the next homomorphism. This is depicted by the reduction of the subgroups from left to right. [Source](https://en.m.wikipedia.org/wiki/Exact_sequence)"
      ]
    },
    {
      "cell_type": "markdown",
      "metadata": {
        "id": "OKIhgJWRan1c"
      },
      "source": [
        "https://youtu.be/rXEiJhBHJsU"
      ]
    },
    {
      "cell_type": "markdown",
      "metadata": {
        "id": "LH1j8Uf6bSsb"
      },
      "source": [
        "https://youtu.be/AZnJFyDOq3E"
      ]
    },
    {
      "cell_type": "markdown",
      "metadata": {
        "id": "smn_5J7gbVg7"
      },
      "source": [
        "https://youtu.be/kCPYALlpECk"
      ]
    },
    {
      "cell_type": "markdown",
      "metadata": {
        "id": "o5G2e0uRcUjy"
      },
      "source": [
        "## **Gruppen**"
      ]
    },
    {
      "cell_type": "markdown",
      "metadata": {
        "id": "Jx_LmlIGnDSa"
      },
      "source": [
        "#### **Properties**"
      ]
    },
    {
      "cell_type": "markdown",
      "metadata": {
        "id": "tgvvUdIJw3cu"
      },
      "source": [
        "A group is a set $G$ with an operation $*$ such that\n",
        "\n",
        "* **Closure**: If $x$ and $y$ are in $G$ then $x * y$ is in $\\mathrm{G}$\n",
        "  * until here it is a **Magma (Groupoid)**\n",
        "\n",
        "* **Associativity**: For all $x, y, z$ in $G$ $\\text { we have }(x * y) * z=x *(y * z)$\n",
        "  * until here it is a **Halbgruppe**\n",
        "\n",
        "* **Identity Element**: There is an element $e$ in $G$ such that $e * x=x * e=x$ for all $x$ in $G$\n",
        "  * until here it is a **Monoid**\n",
        "\n",
        "* **Inverse Elements**: For each element $x$ in $G,$ there is an element $x^{-1}$ such that $x * x^{-1}=x^{-1} * x=e$\n",
        "  * until here it is a **Group**\n",
        "\n",
        "* **Kommutative**: Für alle $a, b \\in G$ gilt: $a * b=b * a$\n",
        "  * until here it is an **Abel'sche Gruppe**"
      ]
    },
    {
      "cell_type": "markdown",
      "metadata": {
        "id": "7lu4pUUZUbRY"
      },
      "source": [
        "![xxx](https://upload.wikimedia.org/wikipedia/commons/thumb/2/20/Algebraische_Strukturen.svg/498px-Algebraische_Strukturen.svg.png)"
      ]
    },
    {
      "cell_type": "markdown",
      "metadata": {
        "id": "tvj5Lv5mbE0m"
      },
      "source": [
        "https://de.m.wikipedia.org/wiki/Gruppentheorie"
      ]
    },
    {
      "cell_type": "markdown",
      "metadata": {
        "id": "msM-kHmmBHXP"
      },
      "source": [
        "https://de.m.wikipedia.org/wiki/Gruppe_(Mathematik)"
      ]
    },
    {
      "cell_type": "markdown",
      "metadata": {
        "id": "0ZX6NbAykTKz"
      },
      "source": [
        "* Die fundamentalen algebraischen Strukturen besitzen eine oder zwei [zweistellige innere Verknüpfungen](https://de.m.wikipedia.org/wiki/Zweistellige_Verknüpfung). \n",
        "\n",
        "* Gruppen sind algebraische Strukturen mit einer inneren Verknüpfung\n",
        "\n",
        "* **A group is an algebraic structure with a single operation**. \n",
        "\n",
        "* Groups are closely associated with the idea of symmetry, and most groups that arise in mathematics are groups of symmetry transformations, with the operation being composition of functions.\n",
        "\n",
        "* **Groups are a particularly simple algebraic structure**, having only one operation and three axioms. Most algebraic structures have more than one operation, and are required to satisfy a long list of axioms."
      ]
    },
    {
      "cell_type": "markdown",
      "metadata": {
        "id": "O2YHCqA2omDH"
      },
      "source": [
        "A group is a set G together with a binary operation ∗ on G, satisfying the following axioms:\n",
        "\n",
        "1. **Abgeschlossenheit** (für **Magma**, ohne assoziativität, inverse, identity oder kommutativ)\n",
        "\n",
        "2. **Assoziativität**: The operation ∗ is associative. That is,\n",
        "a ∗ (b ∗ c) = (a ∗ b) ∗ c\n",
        "for all a,b,c ∈ G. (für **Halbgruppen**, ohne identity, inverse oder kommutativ)\n",
        "\n",
        "3. **Identity Element**: There exists an element e ∈ G with the property that\n",
        "a∗e=e∗a=a\n",
        "for all a ∈ G. (This element e is called the identity element of G.) für **Monoid** (ein Monoid ist eine Halbgruppe, die ein neutrales Element besitzt)\n",
        "\n",
        "4. **Inverse**: For each element a ∈ G, there exists an element a<sup>-1</sup> ∈ G such that a∗􏰁a<sup>-1</sup>􏰂 = 􏰁a<sup>-1</sup>􏰂∗a = e.\n",
        "(The element a<sup>-1</sup> is called the inverse of a.) für **Gruppe** (Eine Gruppe ist also ein Monoid, in dem jedes Element ein Inverses hat.)\n",
        "\n",
        "5. **Kommutativität**: für **Abelsche Gruppen**"
      ]
    },
    {
      "cell_type": "markdown",
      "metadata": {
        "id": "vTQu1Un1DJ4Z"
      },
      "source": [
        "**Von der Magma zur Abel'schen Gruppe**: Die Grundmenge ist unter einer inneren Verknüpfung per Definition abgeschlossen. Ansonsten muss ein Magma keine speziellen Eigenschaften haben. Durch Hinzunahme weiterer Bedingungen werden speziellere Strukturen definiert, die alle wiederum Magmen sind. Typische Beispiele sind:\n",
        "\n",
        "* Halbgruppe: ein Magma, dessen Verknüpfung assoziativ ist\n",
        "\n",
        "* Monoid: eine Halbgruppe mit einem neutralen Element\n",
        "\n",
        "* Quasigruppe: ein Magma, in dem alle Gleichungen der Form \n",
        "a\n",
        "x\n",
        "=\n",
        "b\n",
        "ax=b oder \n",
        "x\n",
        "a\n",
        "=\n",
        "b\n",
        "xa=b eindeutig nach \n",
        "x\n",
        "x auflösbar sind\n",
        "\n",
        "* Loop: eine Quasigruppe mit einem neutralen Element\n",
        "\n",
        "* Gruppe: ein Monoid, in dem jedes Element ein Inverses hat\n",
        "\n",
        "* Abelsche Gruppe: eine Gruppe, deren Verknüpfung kommutativ ist\n",
        "\n",
        "* Mediales Magma: ein Magma, in dem für alle Elemente die Gleichung \n",
        "(\n",
        "a\n",
        "⋆\n",
        "b\n",
        ")\n",
        "⋆\n",
        "(\n",
        "c\n",
        "⋆\n",
        "d\n",
        ")\n",
        "=\n",
        "(\n",
        "a\n",
        "⋆\n",
        "c\n",
        ")\n",
        "⋆\n",
        "(\n",
        "b\n",
        "⋆\n",
        "d\n",
        ")\n",
        "(a\\star b)\\star (c\\star d)=(a\\star c)\\star (b\\star d) gilt"
      ]
    },
    {
      "cell_type": "markdown",
      "metadata": {
        "id": "iHf9_7Ne2zVX"
      },
      "source": [
        "**Gruppenoperation**"
      ]
    },
    {
      "cell_type": "markdown",
      "metadata": {
        "id": "AI3ynzpo21R1"
      },
      "source": [
        "https://de.m.wikipedia.org/wiki/Gruppenoperation"
      ]
    },
    {
      "cell_type": "markdown",
      "metadata": {
        "id": "RfjsHi4B23Jf"
      },
      "source": [
        "**Konjugation (Gruppentheorie)**"
      ]
    },
    {
      "cell_type": "markdown",
      "metadata": {
        "id": "XyIfC2_P25F6"
      },
      "source": [
        "https://de.m.wikipedia.org/wiki/Konjugation_(Gruppentheorie)"
      ]
    },
    {
      "cell_type": "markdown",
      "metadata": {
        "id": "seDVqWVKnH7e"
      },
      "source": [
        "#### **Standard Types of Groups**"
      ]
    },
    {
      "cell_type": "markdown",
      "metadata": {
        "id": "rxdQVgZuzc8x"
      },
      "source": [
        "##### **Gruppoid (Magma)**"
      ]
    },
    {
      "cell_type": "markdown",
      "metadata": {
        "id": "mUhMOWLAziQF"
      },
      "source": [
        "* ein Magma (neutrum, Mehrzahl Magmen) ist eine algebraische Struktur, bestehend aus einer Menge zusammen mit einer zweistelligen inneren Verknüpfung. \n",
        "\n",
        "* Es wird auch Gruppoid,manchmal Binar oder Operativ genannt.\n",
        "\n",
        "* Ist die Verknüpfung kommutativ, so heißt das Magma kommutativ oder abelsch; ist sie assoziativ, so heißt das Magma assoziativ oder Halbgruppe."
      ]
    },
    {
      "cell_type": "markdown",
      "metadata": {
        "id": "6hMH-SILCoVM"
      },
      "source": [
        "Die folgenden **Beispiele** sind Magmen, die keine Halbgruppen sind:\n",
        "\n",
        "* $(\\mathbb{Z},-):$ die ganzen Zahlen mit der Subtraktion\n",
        "\n",
        "* (R $\\backslash\\{0\\}, /)$ : die reellen Zahlen ungleich 0 mit der Division\n",
        "\n",
        "* Die natürlichen Zahlen mit der Exponentiation, also mit der Verknüpfung $a * b=a^{b}$\n",
        "\n",
        "* Die reellen Zahlen mit der Bildung des arithmetischen Mittels als Verknüpfung"
      ]
    },
    {
      "cell_type": "markdown",
      "metadata": {
        "id": "L3IgdRQpzrLT"
      },
      "source": [
        "https://de.m.wikipedia.org/wiki/Magma_(Mathematik)"
      ]
    },
    {
      "cell_type": "markdown",
      "metadata": {
        "id": "5911qy-T8r-t"
      },
      "source": [
        "Gruppoid (Kategorientheorie)"
      ]
    },
    {
      "cell_type": "markdown",
      "metadata": {
        "id": "QsWwWs1jEg6F"
      },
      "source": [
        "**Achtung:** Siehe Gruppoid in der Kategorientheorie: https://de.m.wikipedia.org/wiki/Gruppoid_(Kategorientheorie)"
      ]
    },
    {
      "cell_type": "markdown",
      "metadata": {
        "id": "Ab7LNFPL8hJ1"
      },
      "source": [
        "* Die drei Verträglichkeitsbedingungen gleichen den Gruppenaxiomen. Das ist kein Zufall. \n",
        "\n",
        "* **Ein Gruppoid mit genau einem Objekt ist nichts anderes als eine Gruppe**. In diesem Sinn stellt der Begriff Gruppoid also eine Verallgemeinerung des Begriffes Gruppe dar.\n",
        "\n",
        "* Die Kategorie aller Gruppoide mit Funktoren als Morphismen ist eine Subkategorie von Cat, der Kategorie aller kleinen Kategorien"
      ]
    },
    {
      "cell_type": "markdown",
      "metadata": {
        "id": "QE2eJSx60DaV"
      },
      "source": [
        "Infinity Groupoid\n"
      ]
    },
    {
      "cell_type": "markdown",
      "metadata": {
        "id": "p-LtDSuW0Goi"
      },
      "source": [
        "* The notion of ∞-groupoid is the generalization of that of group and groupoids to higher category theory:"
      ]
    },
    {
      "cell_type": "markdown",
      "metadata": {
        "id": "wrzK4KKJ0QIu"
      },
      "source": [
        "https://ncatlab.org/nlab/show/infinity-groupoid"
      ]
    },
    {
      "cell_type": "markdown",
      "metadata": {
        "id": "dCFE-DUSztRw"
      },
      "source": [
        "https://en.m.wikipedia.org/wiki/∞-groupoid"
      ]
    },
    {
      "cell_type": "markdown",
      "metadata": {
        "id": "iWCeLOJUyQTQ"
      },
      "source": [
        "##### **Halbgruppe**"
      ]
    },
    {
      "cell_type": "markdown",
      "metadata": {
        "id": "jMk7Z_FMinyX"
      },
      "source": [
        "* **Abgeschlossenheit** (https://de.m.wikipedia.org/wiki/Abgeschlossenheit_(algebraische_Struktur))\n",
        "\n",
        "* **Assoziativität**: The operation ∗ is associative. That is, a ∗ (b ∗ c) = (a ∗ b) ∗ c for all a,b,c ∈ G.\n",
        "\n",
        "Es wird **nicht** erfüllt: Neutral (identity element), inverse, kommunitativ  (Abel'sche Gruppe)"
      ]
    },
    {
      "cell_type": "markdown",
      "metadata": {
        "id": "bMyPE5FjzwTo"
      },
      "source": [
        "Beispiele: "
      ]
    },
    {
      "cell_type": "markdown",
      "metadata": {
        "id": "H3gSEyuf_2h6"
      },
      "source": [
        "* Die Menge $\\mathbb  N$ $_0$ = {0, 1, 2 ..} der natürlichen Zahlen bildet mit der gewöhnlichen Addition eine kommutative und kürzbare Halbgruppe ($\\mathbb  N$ $_0$,+), die keine Gruppe ist. Da hier die negativen Zahlen fehlen, also die „Hälfte“ der abelschen Gruppe ($\\mathbb Z,+$) der ganzen Zahlen, lag der Name Halbgruppe für diese mathematische Struktur nahe. \n",
        "\n",
        "* Tatsächlich wurde in der Vergangenheit der Begriff „Halbgruppe“ für ein nach den oben gegebenen Definitionen kommutatives, kürzbares Monoid verwendet, später setzte sich dann die obige Definition allgemein durch."
      ]
    },
    {
      "cell_type": "markdown",
      "metadata": {
        "id": "bm96oAJn_X6E"
      },
      "source": [
        "https://de.m.wikipedia.org/wiki/Halbgruppe"
      ]
    },
    {
      "cell_type": "markdown",
      "metadata": {
        "id": "e_c49RceyU0S"
      },
      "source": [
        "##### **Monoid**"
      ]
    },
    {
      "cell_type": "markdown",
      "metadata": {
        "id": "6bCnMt3UlUfm"
      },
      "source": [
        "* **Closure**: If $x$ and $y$ are in $G$ then $x * y$ is in $\\mathrm{G}$\n",
        "\n",
        "* **Associativity**: For all $x, y, z$ in $G$ $\\text { we have }(x * y) * z=x *(y * z)$\n",
        "\n",
        "* **Identity Element**: There is an element $e$ in $G$ such that $e * x=x * e=x$ for all $x$ in $G$\n",
        "\n",
        "Es wird **nicht** erfüllt: inverse Element (= Gruppe), kommunitativ (= Abel'sche Gruppe)"
      ]
    },
    {
      "cell_type": "markdown",
      "metadata": {
        "id": "W4bqgKaUmfvs"
      },
      "source": [
        "* ein Monoid ist eine algebraische Struktur bestehend aus einer Menge mit einer klammerfrei notierbaren (assoziativen) Verknüpfung und einem neutralen Element. \n",
        "\n",
        "* **Ein Beispiel sind die natürlichen Zahlen mit der Addition und der Zahl 0 als neutralem Element.** \n",
        "\n",
        "* Ein Monoid, in dem jedes Element invertierbar ist, heißt Gruppe.\n",
        "\n",
        "* Eigenschaften bezüglich der angegebenen Verknüpfung: Assoziativität der Verknüpfung und e ist ein neutrales Element.\n",
        "\n",
        "* **Ein Monoid ist also eine Halbgruppe mit neutralem Element.** Jede Gruppe ist ein Monoid, aber ein Monoid hat im Gegensatz zur Gruppe nicht notwendigerweise inverse Elemente.\n",
        "\n",
        "* in Kategorietheorie ein Monoid ist eine Kategorie mit nur einem Objekt (und Pfeile mit Richtung zu sich selbst als Elemente / das sind neutrale Elemente)\n"
      ]
    },
    {
      "cell_type": "markdown",
      "metadata": {
        "id": "Z4ksA9DHix5Y"
      },
      "source": [
        "https://de.m.wikipedia.org/wiki/Monoid"
      ]
    },
    {
      "cell_type": "markdown",
      "metadata": {
        "id": "XM99PIHSxVpO"
      },
      "source": [
        "##### **Gruppe**"
      ]
    },
    {
      "cell_type": "markdown",
      "metadata": {
        "id": "RABq0YZ_mNj2"
      },
      "source": [
        "A group is a set $G$ with an operation $*$ such that\n",
        "\n",
        "* **Closure**: If $x$ and $y$ are in $G$ then $x * y$ is in $\\mathrm{G}$\n",
        "\n",
        "* **Associativity**: For all $x, y, z$ in $G$ $\\text { we have }(x * y) * z=x *(y * z)$\n",
        "\n",
        "* **Identity Element**: There is an element $e$ in $G$ such that $e * x=x * e=x$ for all $x$ in $G$\n",
        "\n",
        "* **Inverse Elements**: For each element $x$ in $G,$ there is an element $x^{-1}$ such that $x * x^{-1}=x^{-1} * x=e$"
      ]
    },
    {
      "cell_type": "markdown",
      "metadata": {
        "id": "EorWgfm-xahc"
      },
      "source": [
        "* Demnach ist eine Gruppe eine Menge zusammen mit **einer zweistelligen inneren Verknüpfung** (durch die jedem geordneten Paar von Elementen eindeutig ein Element dieser Menge als Resultat zugeordnet wird), wenn diese **Verknüpfung assoziativ** ist und es ein **neutrales Element** gibt sowie zu jedem Element ein **Inverses**. \n",
        "\n",
        "**Ringe, Körper, Moduln und Vektorräume sind Gruppen mit zusätzlichen Strukturen und Eigenschaften**"
      ]
    },
    {
      "cell_type": "markdown",
      "metadata": {
        "id": "jdIUzYUXxeQ1"
      },
      "source": [
        "Beispiele"
      ]
    },
    {
      "cell_type": "markdown",
      "metadata": {
        "id": "2uN_TPCVxdSO"
      },
      "source": [
        "* So bildet zum Beispiel auch die Menge der ganzen Zahlen zusammen mit der Addition eine Gruppe.\n",
        "\n",
        "* Physik und Chemie treten Gruppen überall dort auf, wo Symmetrien eine Rolle spielen (z. B. Invarianz physikalischer Gesetze, Symmetrie von Molekülen und Kristallen)"
      ]
    },
    {
      "cell_type": "markdown",
      "metadata": {
        "id": "dAtrm3obyX59"
      },
      "source": [
        "##### **Abelian Group**"
      ]
    },
    {
      "cell_type": "markdown",
      "metadata": {
        "id": "66v6RcrHOR8g"
      },
      "source": [
        "https://www.math.uni-bielefeld.de/~sek/top/leit/alg2.htm"
      ]
    },
    {
      "cell_type": "markdown",
      "metadata": {
        "id": "e6YkN8oDc-nK"
      },
      "source": [
        "* Eine abelsche Gruppe ist eine Gruppe, für die zusätzlich das Kommutativgesetz gilt.\n",
        "\n",
        "Sei $G$ eine Menge. Jedem Paar $(a, b) \\in G \\times G$ sei genau ein Element $a * b \\in G$ zugeordnet. Das Paar $(G, *)$ heißt abelsche Gruppe, wenn die Verknüpfung $*: G \\times G \\rightarrow G,(a, b) \\mapsto a * b$ die folgenden Gesetze erfüllt:\n",
        "\n",
        "1. Assoziativgesetz: Für alle $a, b, c \\in G$ gilt: $a *(b * c)=(a * b) * c$\n",
        "2. Kommutativgesetz: Für alle $a, b \\in G$ gilt: $a * b=b * a$\n",
        "3. Neutrales Element: Es gibt ein Element $e \\in G,$ so dass für alle $a \\in G$ gilt: $a * e=a$\n",
        "4. Inverses Element: Zu jedem $a \\in G$ gibt es ein $a^{-1} \\in G$ mit $a * a^{-1}=e$.\n",
        "\n",
        "Eine Gruppe $(G, *)$ heißt nichtabelsch, wenn in ihr mindestens ein Paar $(a, b)$ existiert mit $a * b \\neq b * a$\n",
        "\n",
        "* $(\\mathbb {Z} ,+)$ ist die wichtigste abelsche Gruppe. Dabei ist Z die Menge der ganzen Zahlen und + die gewöhnliche Addition.\n",
        "\n",
        "* $(\\mathbb {Q} ^{*},\\cdot )$ ist eine abelsche Gruppe. Dabei ist $\\mathbb {Q} ^{*}$ die Menge der rationalen Zahlen ohne die \n",
        "0 und ⋅ ist die gewöhnliche Multiplikation. Die Null muss hierbei ausgeschlossen werden, da sie kein inverses Element besitzt: „1/0“ ist nicht definiert.\n",
        "\n",
        "* Die Menge der Verschiebungen in der euklidischen Ebene bilden eine abelsche Gruppe. Die Verknüpfung ist die Hintereinanderausführung der Verschiebungen.\n",
        "\n",
        "* Die Menge der Drehungen in einer Ebene um einen Punkt bilden eine abelsche Gruppe. Die Verknüpfung ist die Hintereinanderausführung der Drehungen.\n",
        "\n",
        "* Die Menge der Drehstreckungen in einer Ebene bilden eine abelsche Gruppe.\n",
        "\n",
        "* Die Menge der endlichen Dezimalzahlen sind bezüglich der Multiplikation keine abelsche Gruppe. Zum Beispiel hat die Zahl 3 kein Inverses bezüglich der Multiplikation. $\\displaystyle {\\frac {1}{3}}$ lässt sich nicht als endlicher Dezimalbruch schreiben. Bezüglich der normalen Addition bilden die endlichen Dezimalbrüche eine abelsche Gruppe.\n",
        "Die Menge der Verschiebungen in der euklidischen Ebene bilden eine abelsche Gruppe. Die Verknüpfung ist die Hintereinanderausführung der Verschiebungen.\n",
        "\n",
        "* usw.: https://de.m.wikipedia.org/wiki/Abelsche_Gruppe"
      ]
    },
    {
      "cell_type": "markdown",
      "metadata": {
        "id": "6WXdK8VmN4Nj"
      },
      "source": [
        "**Freie Abelsche Gruppe**"
      ]
    },
    {
      "cell_type": "markdown",
      "metadata": {
        "id": "Vd_T1OhlN-Z3"
      },
      "source": [
        "* In der Mathematik ist eine freie abelsche Gruppe eine abelsche Gruppe, die als $\\mathbb {Z}$-Modul eine Basis hat.\n",
        "\n",
        "* Im Gegensatz zu Vektorräumen hat nicht jede abelsche Gruppe eine Basis, deshalb gibt es den spezielleren Begriff der freien abelschen Gruppe.\n",
        "\n",
        "* Jede abelsche Gruppe ist auf natürliche Weise ein $\\mathbb {Z}$ -Modul. Freie abelsche Gruppen sind daher nichts anderes als freie Moduln über $\\mathbb {Z}$."
      ]
    },
    {
      "cell_type": "markdown",
      "metadata": {
        "id": "_9N4KXC5N7f0"
      },
      "source": [
        "https://de.m.wikipedia.org/wiki/Freie_abelsche_Gruppe"
      ]
    },
    {
      "cell_type": "markdown",
      "metadata": {
        "id": "MsBW7Mc9Or8w"
      },
      "source": [
        "https://de.m.wikipedia.org/wiki/Freier_Modul"
      ]
    },
    {
      "cell_type": "markdown",
      "metadata": {
        "id": "fnd2z0hNOOFi"
      },
      "source": [
        "**Bedeutung (freier) abelscher Gruppen**"
      ]
    },
    {
      "cell_type": "markdown",
      "metadata": {
        "id": "DkYuB7lZOVcv"
      },
      "source": [
        "* Kann man von einer irgendwo in natürlicher Weise auftretenden Gruppe G zeigen, dass G eine freie abelsche Gruppe ist, so freut man sich:  denn es zeigt, **dass G eine sehr übersichtliche Struktur besitzt, dass man in G recht unproblematisch rechnen kann.** \n",
        "\n",
        "* Beispiel:  Ist V ein k-Vektorraum, wobei k ein Körper der Charakteristik Null ist, so ist jede Untergruppe von V, die von endlich vielen Vektoren erzeugt wird, eine freie abelsche Gruppe. (Wenn wir von Untergruppen von V reden, so betrachten wir nur die additive Struktur von V: Jeder Vektorraum ist ja bezüglich der Addition eine abelsche Gruppe.) \n",
        "\n",
        "* Weiß man, dass G eine freie abelsche Gruppe ist, **so wird man eine Basis wählen und alle Elemente als Linearkombinationen von Elementen dieser Basis ausdrücken**. Allerdings sollte man betonen, dass es meist keine ausgezeichnete Basis geben wird. Man sucht also eine geeignete Basis, in der die Elemente, an denen man interessiert sind, eine besonders einfache Form haben..."
      ]
    },
    {
      "cell_type": "markdown",
      "metadata": {
        "id": "Tv28yiNHOSs4"
      },
      "source": [
        "https://www.math.uni-bielefeld.de/~sek/top/leit/alg2.htm"
      ]
    },
    {
      "cell_type": "markdown",
      "metadata": {
        "id": "uNAk72BxycQE"
      },
      "source": [
        "##### **Lie Gruppe**"
      ]
    },
    {
      "cell_type": "markdown",
      "metadata": {
        "id": "Wj5WrEkbe_A3"
      },
      "source": [
        "* eine Lie-Gruppe ist eine mathematische Struktur, die zur Beschreibung von kontinuierlichen Symmetrien verwendet wird. \n",
        "\n",
        "* Formal handelt es sich bei einer Lie-Gruppe um eine Gruppe, die als differenzierbare Mannigfaltigkeit aufgefasst werden kann, sodass die Gruppenverknüpfung und Inversenbildung kompatibel mit dieser glatten Struktur sind.\n",
        "\n",
        "* Eine Lie-Gruppe ist eine [glatte reelle Mannigfaltigkeit](https://de.m.wikipedia.org/wiki/Differenzierbare_Mannigfaltigkeit#Glatte_Mannigfaltigkeit), die zusätzlich die Struktur einer Gruppe besitzt, so dass die Gruppenverknüpfung und die Inversion beliebig oft differenzierbar sind. (*Glatte Funktion: Eine glatte Funktion ist eine mathematische Funktion, die unendlich oft differenzierbar (insbesondere stetig) ist. Die Bezeichnung „glatt“ ist durch die Anschauung motiviert: Der Graph einer glatten Funktion hat keine „Ecken“, also Stellen, an denen sie nicht differenzierbar ist.*)"
      ]
    },
    {
      "cell_type": "markdown",
      "metadata": {
        "id": "CzfgyBiS6QOn"
      },
      "source": [
        "https://de.m.wikipedia.org/wiki/Lie-Gruppe"
      ]
    },
    {
      "cell_type": "markdown",
      "metadata": {
        "id": "WA7xSdDWirTD"
      },
      "source": [
        "**Lie-Algebra**"
      ]
    },
    {
      "cell_type": "markdown",
      "metadata": {
        "id": "kkqO6HRr458d"
      },
      "source": [
        "* ist eine algebraische Struktur, die mit einer Lie-Klammer versehen ist, d. h. es existiert eine antisymmetrische Verknüpfung, die die Jacobi-Identität erfüllt. \n",
        "\n",
        "* Lie-Algebren werden hauptsächlich zum Studium geometrischer Objekte wie Lie-Gruppen und differenzierbarer Mannigfaltigkeiten eingesetzt."
      ]
    },
    {
      "cell_type": "markdown",
      "metadata": {
        "id": "ldvhBQDfivPt"
      },
      "source": [
        "https://de.m.wikipedia.org/wiki/Lie-Algebra"
      ]
    },
    {
      "cell_type": "markdown",
      "metadata": {
        "id": "qe3hukbYo--e"
      },
      "source": [
        "#### **Kleine Gruppen**"
      ]
    },
    {
      "cell_type": "markdown",
      "metadata": {
        "id": "I928UjHNKuZc"
      },
      "source": [
        "##### **Simple Group**"
      ]
    },
    {
      "cell_type": "markdown",
      "metadata": {
        "id": "FXVFg6eAKyF0"
      },
      "source": [
        "* Simple Groups are the fundamental building blocks of finite groups (just like Prime numbers are fundamental building blocks in number theory)\n",
        "\n",
        "* Just as you can factor integers into prime numbers, you can break apart some groups into a direct product of simpler groups.\n",
        "\n",
        "*  **a simple group is a nontrivial group whose only normal subgroups are the trivial group and the group itself.**\n",
        "\n",
        "* **Jede Gruppe hat sich selbst und die nur das neutrale Element enthaltende Menge als Normalteiler.** Damit stellt sich die Frage, welche Gruppen keine weitere Normalteiler besitzen. Bei diesen handelt es sich per definitionem gerade um die einfachen Gruppen.\n",
        "\n",
        "  * Eine Gruppe $G$ heisst einfach, falls sie als Normalteiler nur $G$ und $\\{e\\}$ mit dem neutralen Element $e$ hat. \n",
        "  * Außerdem wird zusătzlich $G \\neq\\{e\\}$ gefordert, wonach man knapper sagen kann: \n",
        "  * **Eine Gruppe heißt einfach, wenn sie genau zwei Normalteiler besitzt.**\n",
        "\n",
        "* A group that is not simple can be broken into two smaller groups, namely a nontrivial [normal subgroup](https://en.wikipedia.org/wiki/Normal_subgroup) and the corresponding quotient group. This process can be repeated, and for finite groups one eventually arrives at uniquely determined simple groups, by the [Jordan–Hölder theorem (Composition series)](https://en.wikipedia.org/wiki/Composition_series).\n",
        "\n",
        "* The complete classification of finite simple groups, completed in 2004, is a major milestone in the history of mathematics."
      ]
    },
    {
      "cell_type": "markdown",
      "metadata": {
        "id": "qp7CLhOGLkIA"
      },
      "source": [
        "https://en.wikipedia.org/wiki/Simple_group"
      ]
    },
    {
      "cell_type": "markdown",
      "metadata": {
        "id": "HZw2sHfAMlBx"
      },
      "source": [
        "https://de.wikipedia.org/wiki/Einfache_Gruppe_(Mathematik)"
      ]
    },
    {
      "cell_type": "markdown",
      "metadata": {
        "id": "QQSRFOXm2QgM"
      },
      "source": [
        "##### **Finite Groups**"
      ]
    },
    {
      "cell_type": "markdown",
      "metadata": {
        "id": "kQMqvjVP2dnP"
      },
      "source": [
        "* Eine Gruppe ($G$,*) heißt endliche Gruppe, wenn $G$ eine endliche Menge ist, also eine endliche Anzahl von Elementen hat.\n",
        "\n",
        "* Die Annahme der Endlichkeit ermöglicht ein vereinfachtes Axiomensystem"
      ]
    },
    {
      "cell_type": "markdown",
      "metadata": {
        "id": "IX5DziJq3l5S"
      },
      "source": [
        "Ein Paar $(G, *)$ mit einer endlichen Menge $G$ und einer inneren zweistelligen Verknüpfung $*: G \\times G \\rightarrow G$ heißt Gruppe, wenn folgende Axiome erfüllt sind:\n",
        "\n",
        "* Assoziativität: Für alle Gruppenelemente $a, b, c$ gilt $(a * b) * c=a *(b * c)$,\n",
        "\n",
        "* [Kürzungsregel](https://de.m.wikipedia.org/wiki/Kürzbarkeit): Aus $a * x=a * x^{\\prime}$ oder $x * a=x^{\\prime} * a$ folgt $x=x^{\\prime}$\n",
        "\n",
        "Aus der Kürzungsregel folgt, dass die Links- und Rechtsmultiplikationen $x \\mapsto a * x$ und $x \\mapsto x * a$\n",
        "injektiv sind, woraus wegen der Endlichkeit auch die Surjektivität folgt. Daher gibt es ein $x$ mit\n",
        "$a * x=a,$ was zur Existenz des neutralen Elementes $e$ führt, und dann ein $x$ mit $a * x=e$, was\n",
        "die Existenz der inversen Elemente zeigt."
      ]
    },
    {
      "cell_type": "markdown",
      "metadata": {
        "id": "DCgdGclT0pNy"
      },
      "source": [
        "https://de.m.wikipedia.org/wiki/Endliche_Gruppe"
      ]
    },
    {
      "cell_type": "markdown",
      "metadata": {
        "id": "37qnbx7d0X_q"
      },
      "source": [
        "##### **Finite Simple Groups**"
      ]
    },
    {
      "cell_type": "markdown",
      "metadata": {
        "id": "EhN_XWVc0s5p"
      },
      "source": [
        "* Endliche einfache Gruppen gelten in der Gruppentheorie als die Bausteine der [endlichen Gruppen](https://de.m.wikipedia.org/wiki/Endliche_Gruppe).\n",
        "\n",
        "* Die endlichen einfachen Gruppen spielen für die endlichen Gruppen eine ähnliche Rolle wie die Primzahlen für die natürlichen Zahlen: Jede endliche Gruppe lässt sich in ihre einfachen Gruppen „zerteilen“ (für die Art der Eindeutigkeit siehe den Satz von Jordan-Hölder). \n",
        "\n",
        "* Die Rekonstruktion einer endlichen Gruppe aus diesen ihren „Faktoren“ ist aber nicht eindeutig. \n",
        "\n",
        "* Es gibt jedoch keine „noch einfacheren Gruppen“, aus denen sich die endlichen einfachen Gruppen konstruieren lassen.\n",
        "\n",
        "Obwohl die endlichen einfachen Gruppen seit 1982 als vollständig klassifiziert galten, schlossen Mathematiker um Aschbacher die Klassifikation erst im Jahre 2002 mit einem 1200 Seiten langen Beweis ab:\n",
        "\n",
        "* Fast alle dieser Gruppen lassen sich einer von 18 Familien endlicher einfacher Gruppen zuordnen.\n",
        "\n",
        "* Es existieren 26 Ausnahmen. Diese Gruppen werden als **sporadische Gruppen** bezeichnet (Zu den sporadischen Gruppen zählen die Conway-Gruppe, das Babymonster und die **Monstergruppe** (mit fast 1054 Elementen die größte sporadische Gruppe)."
      ]
    },
    {
      "cell_type": "markdown",
      "metadata": {
        "id": "Qt_czR5Y0a9f"
      },
      "source": [
        "https://de.m.wikipedia.org/wiki/Endliche_einfache_Gruppe"
      ]
    },
    {
      "cell_type": "markdown",
      "metadata": {
        "id": "hqnmqcp81ut1"
      },
      "source": [
        "https://de.m.wikipedia.org/wiki/Monstergruppe"
      ]
    },
    {
      "cell_type": "markdown",
      "metadata": {
        "id": "Lb8-Nw2X1xZe"
      },
      "source": [
        "https://de.m.wikipedia.org/wiki/Sporadische_Gruppe"
      ]
    },
    {
      "cell_type": "markdown",
      "metadata": {
        "id": "DYd95ZikPxG7"
      },
      "source": [
        "##### **Trivial Group**"
      ]
    },
    {
      "cell_type": "markdown",
      "metadata": {
        "id": "RtLio4Fr9pHy"
      },
      "source": [
        "https://de.m.wikipedia.org/wiki/Liste_kleiner_Gruppen"
      ]
    },
    {
      "cell_type": "markdown",
      "metadata": {
        "id": "DCaLVo_nP2aQ"
      },
      "source": [
        "* Die triviale Gruppe ist in der Gruppentheorie eine Gruppe, deren Trägermenge genau ein Element enthält. Die triviale Gruppe ist bis auf Isomorphie eindeutig bestimmt. Jede Gruppe enthält die triviale Gruppe als Untergruppe.\n",
        "\n",
        "Die triviale Gruppe $(\\{e\\}, *)$ ist eine Gruppe, die aus der einelementigen Menge $\\{e\\}$ besteht und versehen ist mit der einzig möglichen Gruppenoperation\n",
        "\n",
        "$\n",
        "e * e=e\n",
        "$\n",
        "\n",
        "Das Element $e$ ist damit das neutrale Element der Gruppe."
      ]
    },
    {
      "cell_type": "markdown",
      "metadata": {
        "id": "NoATSFAfQ9i7"
      },
      "source": [
        "Alle trivialen Gruppen sind zueinander isomorph. Beispiele für triviale Gruppen sind:\n",
        "\n",
        "* die zyklische Gruppe $C_{1}$ vom Grad 1\n",
        "\n",
        "* die alternierende Gruppe $A_{2}$ vom Grad 2\n",
        "\n",
        "* die symmetrische Gruppe $S_{1}$ einer einelementigen Menge\n"
      ]
    },
    {
      "cell_type": "markdown",
      "metadata": {
        "id": "84dqdUp2PzJh"
      },
      "source": [
        "https://de.m.wikipedia.org/wiki/Triviale_Gruppe"
      ]
    },
    {
      "cell_type": "markdown",
      "metadata": {
        "id": "7xuR1yklPbFD"
      },
      "source": [
        "##### **Dihedral Group**"
      ]
    },
    {
      "cell_type": "markdown",
      "metadata": {
        "id": "4oNU5K5YPdbg"
      },
      "source": [
        "text"
      ]
    },
    {
      "cell_type": "markdown",
      "metadata": {
        "id": "ZV0GhhALuWSO"
      },
      "source": [
        "##### **Cyclic Groups**"
      ]
    },
    {
      "cell_type": "markdown",
      "metadata": {
        "id": "ACunDDlyuapF"
      },
      "source": [
        "* A group G is cyclic if it‘s generated by a single element G = <x>\n",
        "* Let G be a group with operation * and pick x element G\n",
        "* What‘s the smallest subgroup of G that contains x ?\n",
        "    * Its inverse x -1\n",
        "    * It‘s identity element 1 (for multiplication)\n",
        "    * All powers of x (squared etc) and powers of inverse of c\n",
        "* <x> = { ..., x -4, x -3, x -2, x -1, 1, x, x 2, x 3,.. } DIE ziffern sind hier hochgestellt als potenzen !!\n",
        "* If G = <x> for some x, then we call G a cyclic group, or: if G contains an element ‚x‘ such that G equals the group generated by ‚x‘, then we say G is a cyclic group\n",
        "* And for group H under operation + pick y element of H, group generated by y = smallest subgroup of H containing y. <y> = {.., -3y, -2y, -y, 0, 2y, 3y, ..}\n",
        "* Examples: Integers are a cyclic group! And specifically an infinite cyclic group\n",
        "    * Integers under addition,\n",
        "    * Claim: Z = <1>\n",
        "    * <1> = { .., -4, -3, -2, -1, 0, 1, 2, 3, ..}\n",
        "* Finite cyclic group: Integers mod n under addition\n",
        "    * Elements: {0, 1, 2, 3... , n -1}\n",
        "    * The group generated by 1 repeats itself. It cycles through the numbers 0 through N -1 over and over.\n",
        "    * It‘s written like this: Integers mod n: Z / n Z\n",
        "    * This will makes sense once studied quotient groups\n",
        "* All cyclic groups:\n",
        "    * Infinite: Z, +\n",
        "    * Finite: Z / nZ, + with: Z, Z/2Z, Z/3Z, Z/4Z,..\n",
        "    * Trivial group: {e}"
      ]
    },
    {
      "cell_type": "markdown",
      "metadata": {
        "id": "z0WJnTIEvpUa"
      },
      "source": [
        "![alternativer Text](https://raw.githubusercontent.com/deltorobarba/repo/master/finitecyclicgroups1.png)"
      ]
    },
    {
      "cell_type": "markdown",
      "metadata": {
        "id": "8tHQRgl9vz6r"
      },
      "source": [
        "![alternativer Text](https://raw.githubusercontent.com/deltorobarba/repo/master/finitecyclicgroups2.png)"
      ]
    },
    {
      "cell_type": "markdown",
      "metadata": {
        "id": "pOKWfpuAufDj"
      },
      "source": [
        "* Why are they so important? „Fundamental Theorem of Finitely Generated Abelian Groups“\n",
        "* Means: any abelian group, that is finitely generated can be broken apart into a finite number of cyclic groups\n",
        "* And every cyclic group is either integers, or integers mod N\n",
        "* So cyclic groups are fundamental building blocks for finitely generated abelian groups"
      ]
    },
    {
      "cell_type": "markdown",
      "metadata": {
        "id": "SgHgS037zK0x"
      },
      "source": [
        "##### **Symmetrische Gruppen**"
      ]
    },
    {
      "cell_type": "markdown",
      "metadata": {
        "id": "ebzW--29T-16"
      },
      "source": [
        "1. S3 = Group of Permutations on a set with 3 elements like {1, 2, 3} = 1,2,3 and 2,3,1, and 3,1,2 etc.\n",
        "\n",
        "2. S3 has n! = 3! = 9 elements. A symmetric group is a finite group with n factorial elements\n",
        "\n",
        "3. The order of Sn is n factorial |Sn| = n!\n",
        "\n",
        "Every finite group is a subgroup of a symmetric group ! ([Cayley's theorem](https://en.wikipedia.org/wiki/Cayley%27s_theorem))"
      ]
    },
    {
      "cell_type": "markdown",
      "metadata": {
        "id": "l8VdbmRNXMD6"
      },
      "source": [
        "* How to combine 2 permutations? A permutation acts like a function, like 1, 2, 3 replaced with 2,3,1. \n",
        "* It's a bijection from the set f{1,2,3} $\\,\\to\\,$ {1,2,3} with\n",
        "  * f(1) = 2\n",
        "  * f(2) = 3\n",
        "  * f(3) = 1\n",
        "* Treating group as function allows to define group operation. for example multiplication and s3 is just function composition\n",
        "* **except for S1 and S2, all symmetric groups are non abelian, means they are not commutative**. This means if you multiply two permutations of a symmetric group in a reverse order, you get the reversed result, not the same."
      ]
    },
    {
      "cell_type": "markdown",
      "metadata": {
        "id": "Mn1H88XYX7Rk"
      },
      "source": [
        "Symmetry Groups of Triangles\n",
        "\n",
        "* We introduce the connection between geometric figures and abstract algebra by showing how you can associate a group with triangles.  \n",
        "* **The more symmetric the triangle, the larger the group. ** \n",
        "* We illustrate this by finding the group of symmetries for equilateral, isosceles and scalene triangles.\n",
        "* for example take a trianle, do nothing (identity element) and do a couple of transformations (rotate, flip etc)\n",
        "  * **6 group elements**: identity e, r for rotate once, r<sup>2</sup> for rotate twice, f for flip, rf for rotate and flip, r<sup>2</sup>f rotate twice and flip.\n",
        "  * rotate three times gives same position, so it's identity element r<sup>3</sup> = e bzw. |r| = 3\n",
        "  * And flipping twice is also an identity f<sup>2</sup> = e bzw. |f| = 2\n",
        "  * rotate twice clockwise a triangle gives the same result as roatte once counterclockwise r<sup>-1</sup> = r<sup>2</sup>\n",
        "* Nimmt man hingegen kein gleichseitiges Dreieck, sondern Dreiecke, die gestreckt sind, ergeben sich weniger Moglichkeiten der Rotation und Flipping, so dass man das Dreieck wieder in die gleiche Form versetzen kann. Im aeussersten Fall nur noch das Identity Element.\n",
        "* Daher: The more symmetric the triangle, the larger the group. "
      ]
    },
    {
      "cell_type": "markdown",
      "metadata": {
        "id": "1QtRXipnWyQL"
      },
      "source": [
        "https://www.youtube.com/watch?v=3aNeCWRjh8I&list=PLi01XoE8jYoi3SgnnGorR_XOW3IcK-TP6&index=16"
      ]
    },
    {
      "cell_type": "markdown",
      "metadata": {
        "id": "bBmqBQAUzOfk"
      },
      "source": [
        "https://de.m.wikipedia.org/wiki/Symmetrische_Gruppe"
      ]
    },
    {
      "cell_type": "markdown",
      "metadata": {
        "id": "HimWvLoZzsEd"
      },
      "source": [
        "https://de.m.wikipedia.org/wiki/S3_(Gruppe)"
      ]
    },
    {
      "cell_type": "markdown",
      "metadata": {
        "id": "AnG5dzQVa8jV"
      },
      "source": [
        "##### **Matrix Groups**"
      ]
    },
    {
      "cell_type": "markdown",
      "metadata": {
        "id": "XAcD9u5bbwMS"
      },
      "source": [
        "$\n",
        "\\begin{array}{|l|c|c|}\n",
        "\\hline & \\text { Finite Groups } & \\text { Infinite Groups } \\\\\n",
        "\\hline \\text { Abelian Groups } & \\text { Integers mod } n & \\mathbb{Z}, \\mathbb{Q}, \\mathbb{R}, \\mathbb{C} \\text { under }+ \\\\\n",
        "\\hline \\text { Non-Abelian Groups } & S_{n} \\text { for } n>2 & \\text { Matrices } \\\\\n",
        "\\hline\n",
        "\\end{array}\n",
        "$"
      ]
    },
    {
      "cell_type": "markdown",
      "metadata": {
        "id": "fohpI4qlbAQv"
      },
      "source": [
        "* Matrices are a great example of infinite, nonabelian groups.  Here we introduce matrix groups with an emphasis on the general linear group and special linear group.  The general linear group is written as GLn(F), where F is the field used for the matrix elements.  The most common examples are GLn(R) and GLn(C).  Similarly, the special linear group is written as SLn.\n"
      ]
    },
    {
      "cell_type": "markdown",
      "metadata": {
        "id": "XcW-aJW-d2CZ"
      },
      "source": [
        "* Real matrices under multiplication, n by n square matrices (for non square matrices you can find two elements that can not be multiplied together). Requirements of a group:\n",
        "  * **Identity**: I = nxn identity matrix\n",
        "  * **Associativity**: yes\n",
        "  * Just each matrix needs to have an **inverse** (a non-zero determinant: for M to have an inverse, det(M) ≠ 0\n",
        "  * This is a group, the general linear group!"
      ]
    },
    {
      "cell_type": "markdown",
      "metadata": {
        "id": "UNP6zHMccW3w"
      },
      "source": [
        "https://www.youtube.com/watch?v=AJTRwhSZJWw&list=PLi01XoE8jYoi3SgnnGorR_XOW3IcK-TP6&index=20"
      ]
    },
    {
      "cell_type": "markdown",
      "metadata": {
        "id": "jUMV7zliLwZE"
      },
      "source": [
        "##### **Direct product of groups (from simple groups)**"
      ]
    },
    {
      "cell_type": "markdown",
      "metadata": {
        "id": "5LTu3bISLvNY"
      },
      "source": [
        "* You can piece them together to create larger, more complex groups. One way is the direct product of groups.\n",
        "\n",
        "* For example combine two groups G1 and G2 (no matter finite or infinite, abelian or non-abelian) into a larger group via the direct product. Operation is done component-wise.\n",
        "\n",
        "* If any Group is non abelian, then the direct product will be non abelian as well.\n",
        "\n",
        "* **The direct product is a useful tool for breaking some groups into simpler groups (not all!).** This is because there are many groups which are NOT direct products of simpler groups. But there are other tools for deconstructing groups."
      ]
    },
    {
      "cell_type": "markdown",
      "metadata": {
        "id": "Olpm27wcOUH_"
      },
      "source": [
        "https://www.youtube.com/watch?v=rXLz8TdckWo&list=PLi01XoE8jYoi3SgnnGorR_XOW3IcK-TP6&index=21"
      ]
    },
    {
      "cell_type": "markdown",
      "metadata": {
        "id": "ZDqJB-vtXMJ1"
      },
      "source": [
        "## **Ringe**"
      ]
    },
    {
      "cell_type": "markdown",
      "metadata": {
        "id": "-OTesLFXKrcu"
      },
      "source": [
        "##### **Ring und kommutativer Ring**"
      ]
    },
    {
      "cell_type": "markdown",
      "metadata": {
        "id": "aU3_l3Z4nBmg"
      },
      "source": [
        "Ein Ring ist eine Menge R mit **zwei inneren binären Verknüpfungen** „+“ und „∙“, sodass gilt:\n",
        "1. **Addition: (R, +) ist eine abelsche Gruppe**\n",
        "\n",
        "* Addition is associative and commutative;\n",
        "\n",
        "* There is an additive identity, zero;\n",
        "\n",
        "* Every element has an additive inverse;\n",
        "\n",
        "2. **Multiplikation: (R, ∙) ist eine Halbgruppe**, das bedeutet:\n",
        "\n",
        "* Halbgruppe in der Multiplikation im Ring: **nur nur die Assoziativität, aber keine Inverse, neutrales element oder kommutativität**) \n",
        "\n",
        "* Das bedeutet: -> Sowohl Ringe als auch Körper verlangen, dass bzgl. der Addition eine kommutative Gruppe vorliegt (abelsch!). Bei der Multiplikation erfolgt der Übergang vom Ring zum Körper durch die Verschärfung der Forderungen\n",
        "\n",
        "* Unlike a field, a ring is not required to have multiplicative inverses, and the multiplication is not required to be commutative. A good example of a ring is the set of all n×n matrices under the operations of matrix addition and matrix multiplication. The integers Z also form a ring under the operations of addition and multiplication.\n",
        "\n",
        "3. **Die Distributivgesetze a*(b+c)=a*b+a*c und (a+b)*c = a*c+b*c sind für alle a,b,c ε $R$ erfüllt.**\n",
        "\n",
        "4. **Das neutrale Element 0 von (R, +) heißt Nullelement von R.**\n",
        "\n",
        "**Ein Ring heißt kommutativ**, falls er bezüglich der Multiplikation kommutativ ist (Ein Ring heißt kommutativ, falls er bezüglich der Multiplikation kommutativ ist, ansonsten spricht man von einem nicht-kommutativen Ring.)"
      ]
    },
    {
      "cell_type": "markdown",
      "metadata": {
        "id": "aR14OZzRJUkG"
      },
      "source": [
        "Beispiele:"
      ]
    },
    {
      "cell_type": "markdown",
      "metadata": {
        "id": "3ajn582YCTF0"
      },
      "source": [
        "* 2×2 Real matrices.\n",
        "\n",
        "* Das wichtigste Beispiel eines Ringes sind die Integers / ist die Menge (􏰁$\\mathbb Z$,+,∙) der ganzen Zahlen mit der üblichen Addition und Multiplikation. Es handelt sich dabei um einen nullteilerfreien kommutativen Ring mit Einselement, also einen Integritätsring.\n",
        "\n",
        "* the Integers modulo some Natural number greater than one;\n",
        "\n",
        "* Ebenso bildet ($\\mathbb Q$,+,∙) der rationalen Zahlen mit der üblichen Addition und Multiplikation einen Ring. Da in diesem Fall nicht nur ($\\mathbb Q$,+), sondern auch ($\\mathbb Q$ \\ {0},∙) eine abelsche Gruppe bildet, liegt sogar ein Körper vor; es handelt sich dabei um den Quotientenkörper des Integritätsringes (􏰁$\\mathbb Z$,+,∙).\n",
        "\n",
        "* Kein Ring ist die Menge ($\\mathbb N$􏰀,+,∙) der natürlichen Zahlen mit der üblichen Addition und Multiplikation, da die Addition über den natürlichen Zahlen nicht invertierbar ist."
      ]
    },
    {
      "cell_type": "markdown",
      "metadata": {
        "id": "8HZucJQ2LK-z"
      },
      "source": [
        "https://www.quora.com/What-are-the-differences-between-rings-and-fields"
      ]
    },
    {
      "cell_type": "markdown",
      "metadata": {
        "id": "ewHjxqYobJU4"
      },
      "source": [
        "https://en.m.wikipedia.org/wiki/Ring_theory"
      ]
    },
    {
      "cell_type": "markdown",
      "metadata": {
        "id": "IhQhUv7dEfrU"
      },
      "source": [
        "https://de.m.wikipedia.org/wiki/Ring_(Algebra)"
      ]
    },
    {
      "cell_type": "markdown",
      "metadata": {
        "id": "GC1gOJZOAcdm"
      },
      "source": [
        "##### **Halbring und kommutativer Halbring**"
      ]
    },
    {
      "cell_type": "markdown",
      "metadata": {
        "id": "IbZlHiCiCY-F"
      },
      "source": [
        "* Ein Halbring ist die Verallgemeinerung der algebraischen Struktur eines Ringes, in der die **Addition nicht mehr eine kommutative Gruppe, sondern nur noch eine kommutative Halbgruppe sein muss** (mit Abgeschlossenheit und Assoziativität, aber nicht: Neutral (identity element), inverse, kommunitativ).\n",
        "\n",
        "* Ein Halbring (engl.: Semiring) ist eine algebraische Struktur $(H,+, \\cdot)$ mit einer (nichtleeren) Menge $H$ und mit zwei zweistelligen Verknüpfungen $+: H \\times H \\rightarrow H$ (Addition) und $\\because H \\times H \\rightarrow H$ (Multiplikation), für die gilt:\n",
        "\n",
        "1. $(H,+)$ ist eine kommutative Halbgruppe.\n",
        "\n",
        "2. $(H, \\cdot)$ ist eine Halbgruppe.\n",
        "\n",
        "3. Es gelten die Distributivgesetze, d. h. für alle $a, b, c \\in H$ gilt $(a+b) \\cdot c=a \\cdot c+b \\cdot c \\quad$ sowie $\\quad c \\cdot(a+b)=c \\cdot a+c \\cdot b$\n",
        "\n",
        "Ist auch $(H, \\cdot)$ kommutativ, so spricht man von einem kommutativen Halbring."
      ]
    },
    {
      "cell_type": "markdown",
      "metadata": {
        "id": "354jDjhGCug7"
      },
      "source": [
        "Beispiele"
      ]
    },
    {
      "cell_type": "markdown",
      "metadata": {
        "id": "Hw9olTD_Cw0-"
      },
      "source": [
        "* $(\\mathbb{N},+, 0, \\cdot, 1)$ Die Menge der natürlichen Zahlen mit der Addition und der Multiplikation zusammen und mit einem Nullelement und einem Einselement als neutrale Elemente ist ein kommutativer Halbring.\n",
        "\n",
        "* $\\left(\\mathbb{Q}_{+},+, 0, \\cdot, 1\\right)$ ist sogar ein Halbkörper.\n",
        "\n",
        "* $(\\mathbb{R} \\cup\\{\\infty\\}, \\min , \\infty,+, 0),$ die sogenannte Min-Plus-Algebra (**tropische Geometrie!!!**) https://de.m.wikipedia.org/wiki/Max-Plus-Algebra bzw.https://de.wikipedia.org/wiki/Tropische_Geometrie#Tropischer_Halbring\n",
        "\n",
        "* Für jede Menge $X$ ist die Potenzmenge $(\\mathcal{P}(X), \\cup, \\emptyset, \\cap, X)$ ein Halbring.\n",
        "\n",
        "* Allgemeiner ist jede Boolesche Algebra ein Halbring."
      ]
    },
    {
      "cell_type": "markdown",
      "metadata": {
        "id": "UizsbE6VAgA4"
      },
      "source": [
        "https://de.m.wikipedia.org/wiki/Halbring_(Algebraische_Struktur)"
      ]
    },
    {
      "cell_type": "markdown",
      "metadata": {
        "id": "Ecy_MnaoAkhC"
      },
      "source": [
        "##### **Ring mit Eins (unitärer Ring)**"
      ]
    },
    {
      "cell_type": "markdown",
      "metadata": {
        "id": "c2rLi8RzmGRG"
      },
      "source": [
        "* Hat die Halbgruppe $R,\\cdot$ ein (beidseitiges) neutrales Element 1, ist also ein Monoid, dann nennt man $R,+,\\cdot$ einen Ring mit Eins oder unitären Ring. \n",
        "\n",
        "* Ringe mit nur links- oder nur rechtsneutralem Element gelten in der Ringtheorie nicht als unitär."
      ]
    },
    {
      "cell_type": "markdown",
      "metadata": {
        "id": "NoTycwruMDw5"
      },
      "source": [
        "##### **Nullring**"
      ]
    },
    {
      "cell_type": "markdown",
      "metadata": {
        "id": "XTICEn4hMNS1"
      },
      "source": [
        "* bis auf Isomorphie eindeutig bestimmter Ring, der nur aus dem Nullelement besteht\n",
        "\n",
        "* Der Nullring oder triviale Ring ist in der Mathematik der bis auf Isomorphie eindeutig bestimmte Ring, der nur aus dem Nullelement besteht. Das Nullelement ist damit zugleich das Einselement des Rings. \n",
        "\n",
        "* Der Nullring besitzt eine Reihe besonderer Eigenschaften, so ist er beispielsweise der einzige Ring, in dem jedes Element eine Einheit ist, und der einzige Ring mit Eins, in dem es kein maximales Ideal gibt. In der Kategorie der Ringe mit Eins ist der Nullring terminales Objekt und in der Kategorie aller Ringe das Nullobjekt."
      ]
    },
    {
      "cell_type": "markdown",
      "metadata": {
        "id": "uPmXRpptMjpU"
      },
      "source": [
        "Der Nullring $(\\{0\\},+, \\cdot)$ ist ein Ring bestehend aus der einelementigen Menge \\{0\\} (Singleton) versehen mit der einzig möglichen Addition gegeben durch\n",
        "\n",
        "$\n",
        "0+0=0\n",
        "$\n",
        "\n",
        "und der einzig möglichen Multiplikation gegeben durch\n",
        "\n",
        "$\n",
        "0 \\cdot 0=0\n",
        "$\n",
        "\n",
        "Das Element 0 ist also zugleich das Nullelement und das Einselement des Rings."
      ]
    },
    {
      "cell_type": "markdown",
      "metadata": {
        "id": "nUOu50FmNM-7"
      },
      "source": [
        "* In der Kategorie der Ringe mit Eins ist der Nullring terminales Objekt, das heißt von jedem Ring gibt es genau einen Morphismus in den Nullring. Weiterhin ist jeder Morphismus aus dem Nullring heraus bereits ein Isomorphismus.\n",
        "\n",
        "* In der Kategorie aller Ringe ist der Nullring sogar das Nullobjekt."
      ]
    },
    {
      "cell_type": "markdown",
      "metadata": {
        "id": "BGElOCjMMGr2"
      },
      "source": [
        "https://de.m.wikipedia.org/wiki/Nullring"
      ]
    },
    {
      "cell_type": "markdown",
      "metadata": {
        "id": "Kwaf_Yw5nosx"
      },
      "source": [
        "##### **Ideal**"
      ]
    },
    {
      "cell_type": "markdown",
      "metadata": {
        "id": "tJn81nCMnuU0"
      },
      "source": [
        "* In der abstrakten Algebra ist ein Ideal eine Teilmenge eines Rings, die das Nullelement enthält und abgeschlossen gegenüber Addition und Subtraktion von Elementen des Ideals sowie abgeschlossen gegenüber Multiplikation mit beliebigen Ringelementen ist. \n",
        "\n",
        "* Beispielsweise sind Summe und Differenz zweier gerader Zahlen wieder gerade und zudem ist das Produkt einer geraden Zahl mit einer beliebigen ganzen Zahl ebenfalls gerade. Zudem ist die 0 als additiv Neutrales gerade. Das heißt, die Menge der geraden Zahlen ist ein Ideal im Ring der ganzen Zahlen.\n",
        "\n",
        "* Es gibt auch für nichtkommutative Ringe sogenannte Links-, Rechtsideale und zweiseitige Idealen."
      ]
    },
    {
      "cell_type": "markdown",
      "metadata": {
        "id": "ltfOTi0unraE"
      },
      "source": [
        "https://de.m.wikipedia.org/wiki/Ideal_(Ringtheorie)"
      ]
    },
    {
      "cell_type": "markdown",
      "metadata": {
        "id": "CSgVEGLmZlz1"
      },
      "source": [
        "##### **Quotientenkörper**"
      ]
    },
    {
      "cell_type": "markdown",
      "metadata": {
        "id": "yKtAxEpdZqze"
      },
      "source": [
        "* In der Algebra ist der Quotientenkörper eines Rings (mit bestimmten Eigenschaften) eine **Obermenge dieses Rings**, auf welche die Addition und die Multiplikation des Rings fortgesetzt werden und in der jedes Element außer 0 ein multiplikatives Inverses besitzt. \n",
        "\n",
        "* Das prominenteste Beispiel ist der **Körper der rationalen Zahlen als Quotientenkörper des Rings der ganzen Zahlen**.\n",
        "\n",
        "* Eine Verallgemeinerung des Konzepts für nicht notwendigerweise nullteilerfreie Ringe ist durch die Lokalisierung gegeben."
      ]
    },
    {
      "cell_type": "markdown",
      "metadata": {
        "id": "MfXz0my6Zn_p"
      },
      "source": [
        "https://de.m.wikipedia.org/wiki/Quotientenkörper"
      ]
    },
    {
      "cell_type": "markdown",
      "metadata": {
        "id": "foYtNNmXXHhZ"
      },
      "source": [
        "## **Körper (Field)**"
      ]
    },
    {
      "cell_type": "markdown",
      "metadata": {
        "id": "y16M1N2JRcwm"
      },
      "source": [
        "##### **(Kommutative) Körper**"
      ]
    },
    {
      "cell_type": "markdown",
      "metadata": {
        "id": "bBwQqNZan2sf"
      },
      "source": [
        "**Ein Körper ist eine spezielle Form von Ring**:\n",
        "\n",
        "* **A Field is a Ring whose non-zero elements form a commutative Group under multiplication (In short a field is a commutative ring with unity with all its non zero elements having multiplicative inverse.)**\n",
        "\n",
        "* Ein kommutativer unitärer Ring, der nicht der Nullring ist, heißt ein Körper, wenn in ihm jedes von Null verschiedene Element multiplikativ invertierbar ist.\n",
        "Anders formuliert, ist ein Körper ein kommutativer unitärer Ring K, in dem die Einheitengruppe K* gleich K \\ {0}, also maximal groß, ist.\n",
        "\n",
        "* Ein kommutativer unitärer Ring, der nicht der Nullring ist, ist ein Körper, wenn in ihm jedes von Null verschiedene Element ein Inverses bezüglich der Multiplikation besitzt. Anders formuliert, ist ein Körper ein kommutativer unitärer Ring $K$, in dem die Einheitengruppe $K^{*}$ gleich $K \\backslash\\{0\\}$ ist. \n"
      ]
    },
    {
      "cell_type": "markdown",
      "metadata": {
        "id": "1_Jav3cJksAh"
      },
      "source": [
        "https://de.m.wikipedia.org/wiki/Körper_(Algebra)"
      ]
    },
    {
      "cell_type": "markdown",
      "metadata": {
        "id": "isOcOrhbyk4J"
      },
      "source": [
        "https://science.jrank.org/pages/2709/Field.html"
      ]
    },
    {
      "cell_type": "markdown",
      "metadata": {
        "id": "Z055Lr2GWyMa"
      },
      "source": [
        "Ein Tripel (K,+,•), bestehend aus einer Menge K und zwei binären Verknüpfungen „+“ und „•“ (die üblicherweise Addition und Multiplikation genannt werden), ist genau dann ein Körper, wenn folgende Eigenschaften erfüllt sind:\n",
        "\n",
        "* $(K,+)$ ist eine abelsche Gruppe (mit Neutralelement 0)\n",
        "\n",
        "* $(K \\backslash\\{0\\}, •)$ ist eine abelsche Gruppe (mit Neutralelement 1)\n",
        "\n",
        "* $a \\cdot(b+c)=a \\cdot b+a \\cdot c$ und $(a+b) \\cdot c=a \\cdot c+b \\cdot c$ (Distributivgesetz)"
      ]
    },
    {
      "cell_type": "markdown",
      "metadata": {
        "id": "itIiUgUNXWV7"
      },
      "source": [
        "Additive Eigenschaften:\n",
        "\n",
        "* $a+(b+c)=(a+b)+c$ (Assoziativgesetz)\n",
        "\n",
        "* $a+b=b+a$ (Kommutativgesetz)\n",
        "\n",
        "* Es gibt ein Element $0 \\in K$ mit $0+a=a$ (neutrales Element)\n",
        "\n",
        "* Zu jedem $a \\in K$ existiert das additive Inverse $(-a)$ mit $(-a)+a=0$\n",
        "\n",
        "Multiplikative Eigenschaften:\n",
        "\n",
        "* $\\cdot a \\cdot(b \\cdot c)=(a \\cdot b) \\cdot c$ (Assoziativgesetz)\n",
        "\n",
        "* $a \\cdot b=b \\cdot a$ (Kommutativgesetz)\n",
        "\n",
        "* Es gibt ein Element $1 \\in K$ mit $1 \\cdot a=a$ (neutrales Element), und es ist $1 \\neq 0$.\n",
        "\n",
        "* Zu jedem $a \\in K \\backslash\\{0\\}$ existiert das multiplikative Inverse $a^{-1}$ mit $a^{-1} \\cdot a=1$\n",
        "\n",
        "Zusammenspiel von additiver und multiplikativer Struktur:\n",
        "\n",
        "* $a \\cdot(b+c)=a \\cdot b+a \\cdot c$ (Links-Distributivgesetz) \n",
        "\n",
        "* Das Rechts-Distributivgesetz $(a+b) \\cdot c=a \\cdot c+b \\cdot c$ folgt dann aus den übrigen Eigenschaften:\n",
        "$(a+b) \\cdot c=c \\cdot(a+b)=c \\cdot a+c \\cdot b=a \\cdot c+b \\cdot c$"
      ]
    },
    {
      "cell_type": "markdown",
      "metadata": {
        "id": "4_uA7fvHYWLx"
      },
      "source": [
        "##### **Körper vs Schiefkörper**"
      ]
    },
    {
      "cell_type": "markdown",
      "metadata": {
        "id": "RBiSmFlRX_Mp"
      },
      "source": [
        "* Eine Menge K mit zwei binären Operationen + und ⋅ heißt Schiefkörper, wenn K ein Ring ist und K∖{0} bzgl. der Multiplikation eine Gruppe bildet (Ringe sind normalerweise Halbgruppen, dh. bezüglich Multiplikation nur nur die Assoziativität zählt, aber keine Inverse, neutrales element oder kommutativität).\n",
        "\n",
        "* K heißt Körper, wenn K Schiefkörper ist und \n",
        "K∖{0} bzgl. der Multiplikation eine kommutative Gruppe (=Abelsch) bildet."
      ]
    },
    {
      "cell_type": "markdown",
      "metadata": {
        "id": "Msp6NBuJX0MO"
      },
      "source": [
        "**Es gelten die folgenden Zusammenhänge:**\n",
        "\n",
        "* Jeder Körper ist ein Schiefkörper\n",
        "* Jeder Körper ist ein kommutativer Ring\n",
        "* Jeder Schiefkörper ist ein unitären Ring\n",
        "* Jeder unitäre Ring ist ein Ring"
      ]
    },
    {
      "cell_type": "markdown",
      "metadata": {
        "id": "tr5vXn8La6w7"
      },
      "source": [
        "**Achtung**\n",
        "\n",
        "Man nennt die Elemente im Körper nicht Vektoren, sondern Skalare. Über dem Skalarkörper betrachtet man einen Vektorraum und dessen Elemente heißen Vektoren."
      ]
    },
    {
      "cell_type": "markdown",
      "metadata": {
        "id": "BfWRnNxZnrVT"
      },
      "source": [
        "Eigenschaften (beginnend mit denen eines Ringes):\n",
        "\n",
        "* Addition is associative and commutative;\n",
        "\n",
        "* There is an additive identity, zero;\n",
        "\n",
        "* Every element has an additive inverse;\n",
        "\n",
        "* Multiplication is associative;\n",
        "\n",
        "* Multiplication distributes over addition.\n",
        "\n",
        "In addition a Field has:\n",
        "\n",
        "* Multiplication is commutative;\n",
        "\n",
        "* Every non-zero element has a multiplicative inverse."
      ]
    },
    {
      "cell_type": "markdown",
      "metadata": {
        "id": "al_7-hkwRl-J"
      },
      "source": [
        "Beispiele:"
      ]
    },
    {
      "cell_type": "markdown",
      "metadata": {
        "id": "_M8xii4QnNCP"
      },
      "source": [
        "* The most familiar form of algebra is the elementary algebra that you learned in high school, namely the algebra of the real numbers. From an abstract point of view, this is the algebra of fields.\n",
        "\n",
        "* Note that the axioms for a field are precisely the axioms for algebra on the real numbers. As a result, the real numbers R form a field under the usual operations of addition and multiplication. However, the real numbers are not the only possible field. Indeed, you are already familiar with a few other examples:\n",
        "\n",
        "* set of rational numbers under addition and multiplication. The rational numbers Q form a field under the usual operations of addition and multiplication. In particular, we can add or multiply two elements of Q to obtain another element of Q, and these operations obey all of the axioms listed above.\n",
        "\n",
        "* The complex numbers C form a field under the commonly defined operations of addition and multiplication. Complex numbers do obey all of the listed axioms for a field, which is why elementary algebra works as usual for complex numbers.\n",
        "\n",
        "* The Integers modulo a Prime number.\n",
        "\n",
        "*An example of a set of numbers that is **not a field** is the set of integers. It is an \"integral domain.\" It is not a field because it lacks multiplicative inverses. Without multiplicative inverses, division may be impossible.*\n",
        "\n",
        "* Both are algebraic objects with a notion of addition and multiplication, **but the multiplication in a field is more specialized**: it is necessarily commutative and every nonzero element has a multiplicative inverse."
      ]
    },
    {
      "cell_type": "markdown",
      "metadata": {
        "id": "JQdx1fH0RXv9"
      },
      "source": [
        "##### **Schiefkörper (Divisionsring)**"
      ]
    },
    {
      "cell_type": "markdown",
      "metadata": {
        "id": "fiD4gEiPkpQq"
      },
      "source": [
        "* Ein **Schiefkörper** oder Divisionsring ist eine algebraische Struktur, die alle Eigenschaften eines Körpers besitzt, außer dass die Multiplikation nicht notwendigerweise kommutativ ist.\n",
        "\n",
        "* Jeder Schiefkörper ist ein Alternativkörper"
      ]
    },
    {
      "cell_type": "markdown",
      "metadata": {
        "id": "otrMeqXtTBT2"
      },
      "source": [
        "https://de.m.wikipedia.org/wiki/Schiefkörper"
      ]
    },
    {
      "cell_type": "markdown",
      "metadata": {
        "id": "WXOnmjfLS8Sz"
      },
      "source": [
        "##### **Alternativkörper**"
      ]
    },
    {
      "cell_type": "markdown",
      "metadata": {
        "id": "JEtjLCOdmFUh"
      },
      "source": [
        "* Octonions (Octave) sind [Alternativkörper](https://de.m.wikipedia.org/wiki/Alternativkörper) bei denen man auf das Kommutativgesetz und das Assoziativgesetz für die Multiplikation verzichtet.\n",
        "\n",
        "* Jeder Schiefkörper ist ein Alternativkörper, jeder Alternativkörper ist zugleich ein Links- und ein Rechtsquasikörper. Endliche Alternativkörper sind stets Körper. (→ Siehe dazu auch: Moufangebene).\n",
        "\n"
      ]
    },
    {
      "cell_type": "markdown",
      "metadata": {
        "id": "Myg7JFuLRgsr"
      },
      "source": [
        "##### **Exkurs: Geordneter Körper**"
      ]
    },
    {
      "cell_type": "markdown",
      "metadata": {
        "id": "cAwPf6ifqUmM"
      },
      "source": [
        "* Ein geordneter Körper (auch angeordneter Körper genannt) ist ein Körper zusammen mit einer totalen Ordnung „≤“, die mit Addition und Multiplikation verträglich ist. Das bekannteste Beispiel ist der Körper der reellen Zahlen. \n",
        "\n",
        "* Körper der Charakteristik p>0 können nicht strukturverträglich angeordnet werden. \n",
        "\n",
        "* Ein wichtiges Beispiel für einen Körper der Charakteristik 0, der auch nicht strukturverträglich angeordnet werden kann, ist der Körper der komplexen Zahlen.\n",
        "\n",
        "* Ein geordneter Körper heißt ordnungsvollständig, wenn jede beschränkte Teilmenge des Körpers ein Infimum und Supremum hat."
      ]
    },
    {
      "cell_type": "markdown",
      "metadata": {
        "id": "gr5tpTU1qWOw"
      },
      "source": [
        "https://de.m.wikipedia.org/wiki/Geordneter_Körper"
      ]
    },
    {
      "cell_type": "markdown",
      "metadata": {
        "id": "QdV8mAKugO06"
      },
      "source": [
        "## **Moduln und Vektorräume**"
      ]
    },
    {
      "cell_type": "markdown",
      "metadata": {
        "id": "Tk6qnMZUgGQw"
      },
      "source": [
        "##### **Moduln**"
      ]
    },
    {
      "cell_type": "markdown",
      "metadata": {
        "id": "HSRPnBpNgMT4"
      },
      "source": [
        "* Ein Modul ist ein n-dimensionaler Ring.\n",
        "\n",
        "* Ein Modul ist eine algebraische Struktur, die eine Verallgemeinerung eines Vektorraums darstellt.\n",
        "\n",
        "* **A module is similar to a vector space, except that the scalars are only required to be elements of a ring. (Gilt NICHT multiplikative Inverse und multiplikative Kommuntativität)**\n",
        "\n",
        "* For example, the set Zn of n-dimensional vectors with integer entries forms a module, where “scalar multiplication” refers to multiplication by integer scalars."
      ]
    },
    {
      "cell_type": "markdown",
      "metadata": {
        "id": "sMh1i2RczFjo"
      },
      "source": [
        "Folgende Zahlenbereiche sind additive Gruppen und damit $\\mathbb {Z}$ -Moduln:\n",
        "\n",
        "* die ganzen Zahlen $\\mathbb {Z}$ selbst\n",
        "\n",
        "* die rationalen Zahlen $\\mathbb {Q}$ \n",
        "\n",
        "* die reellen Zahlen $\\mathbb {R}$ \n",
        "\n",
        "* die algebraischen Zahlen $\\mathbb A$ bzw. $\\mathbb A$ $\\cap$ $\\mathbb R$\n",
        "\n",
        "* die komplexen Zahlen $\\mathbb {C}$\n"
      ]
    },
    {
      "cell_type": "markdown",
      "metadata": {
        "id": "t8NSS1C9gIni"
      },
      "source": [
        "https://de.m.wikipedia.org/wiki/Modul_(Mathematik)"
      ]
    },
    {
      "cell_type": "markdown",
      "metadata": {
        "id": "zD4HgiwtO7x5"
      },
      "source": [
        "**Basis eines Modul**"
      ]
    },
    {
      "cell_type": "markdown",
      "metadata": {
        "id": "sneOVEwOPEXn"
      },
      "source": [
        "* Der Begriff der Basis eines Moduls ist im mathematischen Teilgebiet der Algebra eine Verallgemeinerung des Begriffes der Basis eines Vektorraumes. \n",
        "\n",
        "* Wie bei diesen wird eine Basis eines Moduls als linear unabhängiges Erzeugendensystem definiert; im Gegensatz zu Vektorräumen besitzt allerdings nicht jeder Modul eine Basis."
      ]
    },
    {
      "cell_type": "markdown",
      "metadata": {
        "id": "KKb22bUqO_ae"
      },
      "source": [
        "https://de.m.wikipedia.org/wiki/Basis_(Modul)"
      ]
    },
    {
      "cell_type": "markdown",
      "metadata": {
        "id": "2g3psQpbPHh5"
      },
      "source": [
        "https://de.m.wikipedia.org/wiki/Basis_(Vektorraum)"
      ]
    },
    {
      "cell_type": "markdown",
      "metadata": {
        "id": "qNmzS2tf1nqK"
      },
      "source": [
        "##### **Module vs Vector Space**"
      ]
    },
    {
      "cell_type": "markdown",
      "metadata": {
        "id": "pa9LcQnP1rU5"
      },
      "source": [
        "1. Module = Vector Space with a **ring** of scalars\n",
        "\n",
        "2. Vector Space = Module with a **field** of scalars\n",
        "\n",
        "**Vector Space**\n",
        "\n",
        "* Abelian group $V$ of vectors\n",
        "\n",
        "* Field $F$ of \"scalars\"\n",
        "\n",
        "* $f \\cdot v$ is a \"scaled vector\"\n",
        "\n",
        "Distributive properties:\n",
        "$f \\cdot\\left(v_{1}+v_{2}\\right)=f \\cdot v_{1}+f \\cdot v_{2}$\n",
        "$\\left(f_{1}+f_{2}\\right) \\cdot v=f_{1} \\cdot v+f_{2} \\cdot v$\n",
        "\n",
        "Associative property:\n",
        "\n",
        "$\\left(f_{1} \\cdot f_{2}\\right) \\cdot v=f_{1} \\cdot\\left(f_{2} \\cdot v\\right)$\n",
        "$1 \\cdot v=v$\n",
        "\n",
        "**(Left or Right) Module**\n",
        "\n",
        "* Abelian group $M$ of \"elements\"\n",
        "\n",
        "* Ring $R$ of \"scalars\"\n",
        "\n",
        "* $r \\cdot m$ is a \"scaled element\"\n",
        "\n",
        "Distributive properties:\n",
        "\n",
        "$r \\cdot\\left(m_{1}+m_{2}\\right)=r \\cdot m_{1}+r \\cdot m_{2}$\n",
        "о $\\left(r_{1}+r_{2}\\right) \\cdot m=r_{1} \\cdot m+r_{2} \\cdot m$\n",
        "\n",
        "Associative property:\n",
        "\n",
        "$\\left(r_{1} \\cdot r_{2}\\right) \\cdot m=r_{1} \\cdot\\left(r_{2} \\cdot m\\right)$\n",
        "$1 \\cdot m=m$"
      ]
    },
    {
      "cell_type": "markdown",
      "metadata": {
        "id": "KXJcJtv13M2S"
      },
      "source": [
        "**Example of a Module:**"
      ]
    },
    {
      "cell_type": "markdown",
      "metadata": {
        "id": "4mC8z8gh3PYb"
      },
      "source": [
        "Group: $M=\\mathbb{R}^{3}=\\{(x, y, z) \\mid x, y, z \\in \\mathbb{R}\\}$ under $+$\n",
        "\n",
        "Scalar Ring: $R=\\left\\{\\left(\\begin{array}{lll}a_{11} & a_{12} & a_{13} \\\\ a_{21} & a_{22} & a_{23} \\\\ a_{31} & a_{32} & a_{33}\\end{array}\\right) \\mid a_{i j} \\in \\mathbb{R}\\right\\}$\n",
        "\n",
        "$R$ is not a field:\n",
        "* Not every matrix is invertible \n",
        "* Not commutative \n",
        "* Does have an identity: $\\left(\\begin{array}{cc}1 & 0 & 0 \\\\ 0 & 1 & 0 \\\\ 0 & 0 & 1\\end{array}\\right)$"
      ]
    },
    {
      "cell_type": "markdown",
      "metadata": {
        "id": "0Vz4R8zD2Wle"
      },
      "source": [
        "https://youtu.be/IvukAijXgLE"
      ]
    },
    {
      "cell_type": "markdown",
      "metadata": {
        "id": "Y-1lpMAgXzD9"
      },
      "source": [
        "##### **Vektorraum**"
      ]
    },
    {
      "cell_type": "markdown",
      "metadata": {
        "id": "EC0m68dkSQkc"
      },
      "source": [
        "https://de.m.wikipedia.org/wiki/Basis_(Vektorraum)"
      ]
    },
    {
      "cell_type": "markdown",
      "metadata": {
        "id": "o2boqiPmMgYa"
      },
      "source": [
        "Ein Vektorraum u ̈ber einem Körper $\\mathbb K$ ist eine abelsche Gruppe mit der Eigenschaft, dass es zu jedem Element k von $\\mathbb K$ (”Skalar“) eine einstellige Operation (”Skalarmultiplikation“ )\n",
        "\n",
        "Oder anders: \n",
        "* Körper: Plus oder Mal im Körper: zwei Körperelemente, und dann kommt wieder Körperelement heraus\n",
        "* Vektorraum: (Mal heisst nur strecken und stauchen = Skalarmultiplikation: Vektor multipliziert mit Körperelement"
      ]
    },
    {
      "cell_type": "markdown",
      "metadata": {
        "id": "EoJghiU4s7Kt"
      },
      "source": [
        "https://en.m.wikipedia.org/wiki/Algebra_over_a_field"
      ]
    },
    {
      "cell_type": "markdown",
      "metadata": {
        "id": "Ys1jH3-lXVrb"
      },
      "source": [
        "https://de.m.wikipedia.org/wiki/Algebra_über_einem_Körper"
      ]
    },
    {
      "cell_type": "markdown",
      "metadata": {
        "id": "AHOR2paJnqE7"
      },
      "source": [
        "* Ein Vektorraum ist ein n-dimensionaler Körper.\n",
        "\n",
        "* A vector space is an algebraic structure with operations of addition and multiplication by scalars. Gilt zusätzlich multiplikative Inverse und multiplikative Kommuntativität\n",
        "\n",
        "* The scalars are required to be elements of a field, such as the real numbers R. The basic example of a vector space is the set Rn of all vectors with n entries.\n",
        "\n",
        "* Ein Vektorraum oder linearer Raum ist eine algebraische Struktur, die in vielen Teilgebieten der Mathematik verwendet wird. \n",
        "\n",
        "* Vektorräume bilden den zentralen Untersuchungsgegenstand der linearen Algebra. \n",
        "\n",
        "* Die Elemente eines Vektorraums heißen Vektoren. \n",
        "\n",
        "* Sie können addiert oder mit Skalaren (Zahlen) multipliziert werden, das Ergebnis ist wieder ein Vektor desselben Vektorraums.\n",
        "\n",
        "* Die **Skalare, mit denen man einen Vektor multiplizieren kann, stammen aus einem Körper**. Deswegen ist ein Vektorraum immer ein Vektorraum über einem bestimmten Körper. Sehr oft handelt es sich dabei um den Körper \n",
        "$\\mathbb {R}$ der reellen Zahlen oder den Körper \n",
        "$\\mathbb {C}$ der komplexen Zahlen. Man spricht dann von einem reellen Vektorraum bzw. einem komplexen Vektorraum."
      ]
    },
    {
      "cell_type": "markdown",
      "metadata": {
        "id": "pOnSslb8gSWP"
      },
      "source": [
        "https://de.m.wikipedia.org/wiki/Vektorraum"
      ]
    },
    {
      "cell_type": "markdown",
      "metadata": {
        "id": "Tr36ywoZin3h"
      },
      "source": [
        "**K-Algebra (Algebra über einem Körper)**"
      ]
    },
    {
      "cell_type": "markdown",
      "metadata": {
        "id": "f8D2MAmd5Oiw"
      },
      "source": [
        "* ist ein Vektorraum über einem Körper K, der um eine mit der Vektorraumstruktur verträgliche Multiplikation erweitert wurde. \n",
        "\n",
        "* Je nach Kontext wird dabei mitunter zusätzlich gefordert, dass die Multiplikation das Assoziativgesetz oder das Kommutativgesetz erfüllt oder dass die Algebra bezüglich der Multiplikation ein Einselement besitzt.\n",
        "\n",
        "* Allgemeiner kann K ein kommutativer Ring sein, dann ist „Vektorraum“ durch „Modul“ zu ersetzen, und man erhält eine [Algebra über einem kommutativen Ring](https://de.m.wikipedia.org/wiki/Algebra_über_einem_kommutativen_Ring)."
      ]
    },
    {
      "cell_type": "markdown",
      "metadata": {
        "id": "IgKqC3CHiqOz"
      },
      "source": [
        "https://de.m.wikipedia.org/wiki/Algebra_über_einem_Körper"
      ]
    },
    {
      "cell_type": "markdown",
      "metadata": {
        "id": "f1za4JTVYpkR"
      },
      "source": [
        "**Linear Algebra**"
      ]
    },
    {
      "cell_type": "markdown",
      "metadata": {
        "id": "cJ5JeAcWXYNu"
      },
      "source": [
        "https://mathepedia.de/Lineare_Abbildungen.html"
      ]
    },
    {
      "cell_type": "markdown",
      "metadata": {
        "id": "x-jUXB20rykQ"
      },
      "source": [
        "* Lineare Abbildung zwischen Vektorräumen\n",
        "\n",
        "* Erfüllt Bedingung der Homogenität und der Additivität (siehe unter Morphismen das Thema \"Vektorraumhomomorphismus\")"
      ]
    },
    {
      "cell_type": "markdown",
      "metadata": {
        "id": "YNTQDp0PYtjD"
      },
      "source": [
        "https://en.m.wikipedia.org/wiki/Linear_algebra"
      ]
    },
    {
      "cell_type": "markdown",
      "metadata": {
        "id": "UOy1jeecu7Vy"
      },
      "source": [
        "**Linearkombination**"
      ]
    },
    {
      "cell_type": "markdown",
      "metadata": {
        "id": "rZVoEQOZu9xJ"
      },
      "source": [
        "https://de.m.wikipedia.org/wiki/Linearkombination"
      ]
    },
    {
      "cell_type": "markdown",
      "metadata": {
        "id": "WVtm5vfsixu1"
      },
      "source": [
        "**Assoziative Algebra**"
      ]
    },
    {
      "cell_type": "markdown",
      "metadata": {
        "id": "_7V1lvrE4GEn"
      },
      "source": [
        "* Es handelt sich um eine algebraische Struktur, die den Begriff des Vektorraums bzw. des Moduls dahingehend erweitert, dass zusätzlich zur Vektoraddition eine **assoziative Multiplikation** als innere Verknüpfung definiert wird."
      ]
    },
    {
      "cell_type": "markdown",
      "metadata": {
        "id": "KMKDZOUxi0FP"
      },
      "source": [
        "https://de.m.wikipedia.org/wiki/Assoziative_Algebra"
      ]
    },
    {
      "cell_type": "markdown",
      "metadata": {
        "id": "iBaF4uPUXeS-"
      },
      "source": [
        "## **Verband (Lattice) & Algebren**"
      ]
    },
    {
      "cell_type": "markdown",
      "metadata": {
        "id": "K0UpZzAKftF8"
      },
      "source": [
        "##### **Verband (Lattice)**"
      ]
    },
    {
      "cell_type": "markdown",
      "metadata": {
        "id": "uJxOdQZjRxmk"
      },
      "source": [
        "Ein Verband ist ein Tripel (V, ⊓, ⊔), bestehend aus einer nichtleeren Menge V und zwei Operationen ⊓ : V×V →V (lies: et)und ⊔ : V×V →V (lies:vel), fur die folgende Rechenregeln gelten:\n",
        "\n",
        "* Beide Operationen sind **kommutativ**, d. h., u⊓v = v⊓u und u⊔v = v⊔u f u ̈ r a l l e u , v ∈ V .\n",
        "\n",
        "* Beide Operationen sind **assoziativ**, d. h., (u ⊓ v) ⊓ w = u ⊓ (v ⊓ w) und ( u ⊔ v ) ⊔ w = u ⊔ ( v ⊔ w ) f u ̈ r a l l e u , v , w ∈ V .\n",
        "\n",
        "* Es gelten die **Verschmelzungsgesetze**, d. h., u⊓(u⊔v) = u und u⊔(u⊓v) = u f u ̈ r a l l e u , v ∈ V .\n",
        "\n",
        "Ein Verband (V,⊓,⊔) wird auch kuerzer V geschrieben, sofern klar ist, um welche Operationen es sich handelt. Ein Verband V heißt endlich, wenn die Menge V endlich ist."
      ]
    },
    {
      "cell_type": "markdown",
      "metadata": {
        "id": "s2xBQMKOg1Ve"
      },
      "source": [
        "* Ein Verband ist eine algebraische Struktur, **deren zwei innere Verknüpfungen im allgemeinen Fall nicht als Addition und Multiplikation aufgefasst werden können** (zB grösser gleich und kleiner gleich Relationen zwischen Mengenelementen)\n",
        "\n",
        "* Als algebraische Struktur ist ein Verband dadurch gekennzeichnet, dass es zwei assoziative und kommutative Operationen gibt, für die die Absorptionsgesetze kennzeichnend sind: Für beliebige Elemente gilt u ∨ (u ∧ v) = u und u ∧ (u ∨ v) = u.\n",
        "\n",
        "* Für jede in der Verbandstheorie vorkommende algebraische Aussage gibt es eine direkte Übersetzung in eine Ordnungsaussage und umgekehrt."
      ]
    },
    {
      "cell_type": "markdown",
      "metadata": {
        "id": "YMZNsl4uKyXF"
      },
      "source": [
        "Ein Verband $(V, \\vee, \\wedge)$ ist eine Menge $V$ mit zwei inneren binären Verknüpfungen $\\vee$ (Vereinigung, engl. join) und $\\wedge$ (Durchschnitt, engl. meet), die folgenden Bedingungen für alle $u, v, w$ aus $V$ genügen:\n",
        "\n",
        "**Assoziativgesetze**:\n",
        "\n",
        "$ u \\vee(v \\vee w)=(u \\vee v) \\vee w$\n",
        "\n",
        "$ u \\wedge(v \\wedge w)=(u \\wedge v) \\wedge w$\n",
        "\n",
        "**Kommutativgesetze**:\n",
        "\n",
        "$ u \\vee \\boldsymbol{v}=v \\vee u$\n",
        "\n",
        "$ u \\wedge v=v \\wedge u$\n",
        "\n",
        "**Absorptionsgesetze**:\n",
        "\n",
        "$ u \\vee(u \\wedge v)=u$\n",
        "\n",
        "$ u \\wedge(u \\vee v)=u$\n",
        "\n",
        "Aus diesen Bedingungen folgt die [**Idempotenz**](https://de.m.wikipedia.org/wiki/Idempotenz) beider Verknüpfungen:\n",
        "\n",
        "$ u \\vee \\boldsymbol{u}=u$\n",
        "\n",
        "$ u \\wedge u=u$\n",
        "\n",
        "**$V$ ist also bezüglich jeder einzelnen Verknüpfung ein Halbverband, $d$. h. eine kommutative [Halbgruppe](https://de.m.wikipedia.org/wiki/Halbgruppe),** der jedes Element idempotent ist. Die Verknüpfungen treten bei den Absorptionsgesetzen in\n",
        "Wechselwirkung."
      ]
    },
    {
      "cell_type": "markdown",
      "metadata": {
        "id": "suo2vIgK00Mr"
      },
      "source": [
        "**Beispiele für Verbände:**\n",
        "\n",
        "* Die Menge aller Aussagen bildet zusammen mit Konjunktion und Disjunktion nach Satz 1.9 einen Verband, den so genannten Aus- sagenverband.\n",
        "\n",
        "* Die Potenzmenge P (A) einer Menge A bildet zusammen mit Durchschnitt und Vereinigung nach Satz 3.7 den Potenzmengenverband von A.\n",
        "\n",
        "* Die Menge aller natuerlichen Zahlen N<sub>0</sub> bildet mit ggT und kgV nach Kap. 13 den so genannten natu ̈rlichen Teilerverband.\n",
        "\n",
        "* Die Menge aller Unterra ̈ume eines Vektorraums V bildet mit Durchschnitt und Summe den so genannten Unterraumverband von V , wobei die Summe durchU+W ={u+w|u∈U,w∈W}gegebenist.\n",
        "\n",
        "* die z. B. in der Mengenlehre, der Logik und als Schaltalgebren auftretenden Booleschen Algebren sind Verbände.\n",
        "\n",
        "* [totale Ordnungen](https://de.m.wikipedia.org/wiki/Ordnungsrelation#Totalordnung), die z. B. in den verschiedenen Zahlbereichen wie N  (natürliche Zahlen), Z (ganze Zahlen), Q (rationale Zahlen) oder R (reelle Zahlen) auftreten, sind Verbände.\n",
        "\n",
        "* für jede beliebige natürliche Zahl ist die Menge der Teiler (durch die Teilbarkeit geordnet) ein Verband.\n",
        "\n",
        "* die Unterstrukturen einer beliebigen algebraischen oder sonstigen Struktur bilden einen Verband mit der Teilmengenrelation als Ordnung.\n",
        "\n",
        "* ALSO: Das Hasse-Diagramm zeigt die Teiler der Zahl 12, bezüglich der durch die Teilbarkeit gegebenen Ordnungsbeziehung (https://mathepedia.de/Hasse_Diagramme.html)"
      ]
    },
    {
      "cell_type": "markdown",
      "metadata": {
        "id": "gnn7w0CKfvko"
      },
      "source": [
        "https://de.m.wikipedia.org/wiki/Verband_(Mathematik)"
      ]
    },
    {
      "cell_type": "markdown",
      "metadata": {
        "id": "enrSGr1-bNY9"
      },
      "source": [
        "https://en.m.wikipedia.org/wiki/Lattice_(order)"
      ]
    },
    {
      "cell_type": "markdown",
      "metadata": {
        "id": "ZaWMOhMSh5je"
      },
      "source": [
        "**Ordnungstheorie**: https://mathepedia.de/Verbaende.html"
      ]
    },
    {
      "cell_type": "markdown",
      "metadata": {
        "id": "5bdxlQbQBlwx"
      },
      "source": [
        "https://en.wikipedia.org/wiki/Algebraic_structure\n",
        "\n",
        "Check: Two sets with operations"
      ]
    },
    {
      "cell_type": "markdown",
      "metadata": {
        "id": "GqvDwx9rBoAR"
      },
      "source": [
        "https://de.m.wikipedia.org/wiki/Algebraische_Struktur"
      ]
    },
    {
      "cell_type": "markdown",
      "metadata": {
        "id": "QfmcVnYsJshi"
      },
      "source": [
        "**Absorption (Logik)**"
      ]
    },
    {
      "cell_type": "markdown",
      "metadata": {
        "id": "2s51QFKzJ76J"
      },
      "source": [
        "* Das Absorptionsgesetz der Aussagenlogik besagt, dass eine Aussage absorbiert wird, d. h., dass ihre Belegung für die Auswertung der Gesamtformel irrelevant ist, wenn sie hintereinander konjunktiv und disjunktiv mit einer anderen Aussage verknüpft wird, wobei die Reihenfolge der Verknüpfungen keine Rolle spielt.\n",
        "\n",
        "Absorptionsgesetze in der Verbandstheorie:\n",
        "\n",
        "$u \\vee(u \\wedge v)=u$\n",
        "\n",
        "$u \\wedge(u \\vee v)=u$"
      ]
    },
    {
      "cell_type": "markdown",
      "metadata": {
        "id": "rgHOEdfCJuhn"
      },
      "source": [
        "https://de.m.wikipedia.org/wiki/Absorption_(Logik)"
      ]
    },
    {
      "cell_type": "markdown",
      "metadata": {
        "id": "3E9FRg7kRfHs"
      },
      "source": [
        "**Hintergrund zu Verbaenden**"
      ]
    },
    {
      "cell_type": "markdown",
      "metadata": {
        "id": "l93P5wnr824U"
      },
      "source": [
        "* Das Verbandskonzept geht auf Dedekind und Schroeder zurueck (Ende des 19. Jahrhunderts).\n",
        "\n",
        "* Bei Dedekind heißen solche Strukturen Dualgruppen. Der Name Verband wurde von Fritz Klein (ca. 1930) gewaehlt. Garrett Birkhoff, der Begruender der modernen Verbandstheorie, praegte den englischen Begriff lattice.\n",
        "\n",
        "* Ein Verband ist **eine Struktur, die sowohl als [Ordnungsstruktur (Ordnungsrelation)](https://de.m.wikipedia.org/wiki/Ordnungsrelation) als auch als [algebraische Struktur](https://de.m.wikipedia.org/wiki/Algebraische_Struktur)** vollständig beschrieben werden kann. \n",
        "\n",
        "* Als Ordnungsstruktur ist ein Verband dadurch gekennzeichnet, dass es zu je zwei Elementen \n",
        "a, \n",
        "b ein Supremum \n",
        "a\n",
        "∨\n",
        "b gibt, d. h. ein eindeutig bestimmtes kleinstes Element, das größer oder gleich\n",
        "a und \n",
        "b ist, und umgekehrt ein Infimum \n",
        "a\n",
        "∧\n",
        "b, ein größtes Element, das kleiner oder gleich \n",
        "a und\n",
        "b ist. \n",
        "\n",
        "* Als algebraische Struktur ist ein Verband dadurch gekennzeichnet, dass es zwei assoziative und kommutative Operationen gibt, für die die Absorptionsgesetze kennzeichnend sind: Für beliebige Elemente gilt\n",
        "\n",
        "> $u \\vee(u \\wedge v)=u$ und $u \\wedge(u \\vee v)=u$\n",
        "\n",
        "* **Für jede in der Verbandstheorie vorkommende algebraische Aussage gibt es eine direkte Übersetzung in eine Ordnungsaussage und umgekehrt**. Diese Übersetzung ist in den meisten Fällen auch anschaulich nachzuvollziehen. \n",
        "\n",
        "* Die Möglichkeit, Ergebnisse doppelt zu interpretieren und dadurch besser zu verstehen, macht die Untersuchung und die Verwendung von Aussagen aus der Verbandstheorie so interessant. Der Begriff Verband wurde im hier beschriebenen Sinne von Fritz Klein-Barmen geprägt."
      ]
    },
    {
      "cell_type": "markdown",
      "metadata": {
        "id": "t6_txpIWhm2L"
      },
      "source": [
        "##### **Algebren**"
      ]
    },
    {
      "cell_type": "markdown",
      "metadata": {
        "id": "0XBejTPwhPaA"
      },
      "source": [
        "https://mathepedia.de/Algebren.html"
      ]
    },
    {
      "cell_type": "markdown",
      "metadata": {
        "id": "1yoiK_Z2hS2b"
      },
      "source": [
        "Eine Algebra (Plural: Algebren) **ist eine Verallgemeinerung des Begriffes Ring**.\n",
        "Es gibt zwei grundsätzlich verschiedene Arten von Algebren:\n",
        "\n",
        "1. Boolesche Algebren, insbesondere Mengenalgebren wie z.B. σ-Algebren\n",
        "\n",
        "2. Algebren über Ringen, die eine Art Synthese aus den Begriffen Vektorraum und Ring darstellen."
      ]
    },
    {
      "cell_type": "markdown",
      "metadata": {
        "id": "h3EItm12hE7r"
      },
      "source": [
        "**Boolsche Algebra**"
      ]
    },
    {
      "cell_type": "markdown",
      "metadata": {
        "id": "sOC7zkQkhHlR"
      },
      "source": [
        "* Eine **Boolesche Algebra (oder ein boolescher Verband) ist ein Verband**, bzw. eine spezielle algebraische Struktur, die die Eigenschaften der logischen Operatoren UND, ODER, NICHT sowie die Eigenschaften der mengentheoretischen Verknüpfungen Durchschnitt, Vereinigung, Komplement verallgemeinert. \n",
        "\n",
        "* Gleichwertig zu booleschen Algebren sind boolesche Ringe, die von UND und ENTWEDER-ODER (exklusiv-ODER) beziehungsweise Durchschnitt und symmetrischer Differenz ausgehen.\n",
        "\n",
        "* Die boolesche Algebra ist die Grundlage bei der Entwicklung von digitaler Elektronik und wird in allen modernen Programmiersprachen zur Verfügung gestellt. Sie wird auch in der Satztheorie und der Statistik verwendet.\n",
        "\n",
        "* Eine **Boolesche Algebra (oder ein boolescher Verband) ist ein Verband**, in dem die beiden Verknüpfungen je ein neutrales Element haben, a ∪ 0 = a und a ∩ 1 = a, und in dem jedes Element ein bezüglich beider Verknüpfungen übereinstimmendes Komplement h"
      ]
    },
    {
      "cell_type": "markdown",
      "metadata": {
        "id": "1Ea-fe4W_emT"
      },
      "source": [
        "**Definition der Boolschen Algebra als Verband:**\n",
        "\n",
        "* **Eine boolesche Algebra ist ein distributiver komplementärer Verband**. Diese Definition geht nur von den Verknüpfungen $\\wedge$ und $\\vee$ aus und umfasst die Existenz von 0,1 und $\\neg$ und die unabhängigen Axiome (1)$\\left(1^{\\prime}\\right)(2)$ $\\left(2^{\\prime}\\right)(11)\\left(11^{\\prime}\\right)(4)(9)\\left(9^{\\prime}\\right)$ des gleichwertigen Axiomensystems von Peano. \n",
        "\n",
        "* Auf einer booleschen Algebra ist wie in jedem Verband durch $a \\leq b \\Longleftrightarrow a=a \\wedge b$ eine partielle Ordnung definierbar; bei ihr haben je zwei Elemente ein Supremum und ein Infimum. \n",
        "\n",
        "* Bei der mengentheoretischen Interpretation ist $\\leq$ gleichbedeutend zur Teilmengenordnung $\\subseteq$"
      ]
    },
    {
      "cell_type": "markdown",
      "metadata": {
        "id": "GfcFvGUzAU4M"
      },
      "source": [
        "**Boolesche Ringe**\n",
        "\n",
        "* Eine andere Sichtweise auf boolesche Algebren besteht in sogenannten booleschen Ringen: Das sind Ringe mit Einselement, die zusätzlich idempotent sind, also das Idempotenzgesetz \n",
        "a\n",
        "⋅\n",
        "a\n",
        "=\n",
        "a erfüllen. \n",
        "\n",
        "* Jeder idempotente Ring ist kommutativ. Die Addition im booleschen Ring entspricht bei der mengentheoretischen Interpretation der symmetrischen Differenz und bei aussagenlogischer Interpretation der Alternative ENTWEDER-ODER (exclusiv-ODER, XOR); die Multiplikation entspricht der Durchschnittsbildung beziehungsweise der Konjunktion UND."
      ]
    },
    {
      "cell_type": "markdown",
      "metadata": {
        "id": "0p0KsPea3-pX"
      },
      "source": [
        "https://de.m.wikipedia.org/wiki/Aussagenlogik"
      ]
    },
    {
      "cell_type": "markdown",
      "metadata": {
        "id": "k4Sp21V_hWFP"
      },
      "source": [
        "https://de.m.wikipedia.org/wiki/Boolesche_Algebra"
      ]
    },
    {
      "cell_type": "markdown",
      "metadata": {
        "id": "QYMsn5TXf2Tz"
      },
      "source": [
        "**Mengenalgebra (Field of Sets)**"
      ]
    },
    {
      "cell_type": "markdown",
      "metadata": {
        "id": "jikzDMPXA51Q"
      },
      "source": [
        "Die Potenzmenge einer Menge $S$ wird mit Durchschnitt, Vereinigung und dem Komplement $A^{\\complement}:=\\{x \\mid(x \\in S) \\wedge(x \\notin A)\\}$ zu einer booleschen Algebra, bei der 0 die leere Menge $\\emptyset$ und 1 die ganze Menge $S$ ist. Der Sonderfall $S=\\emptyset$ ergibt die einelementige Potenzmenge mit $1=0 .$ \n",
        "\n",
        "Auch jeder $S$ enthaltende, bezüglich Vereinigung und Komplement abgeschlossene Teilbereich der Potenzmenge von $S$ ist eine boolesche Algebra, die als Teilmengenverband oder Mengenalgebra bezeichnet wird. Der Darstellungssatz von Stone besagt, dass jede boolesche Algebra isomorph (s. u.) zu einer Mengenalgebra ist. Daraus folgt, dass die Mächtigkeit jeder endlichen booleschen\n",
        "Algebra eine Zweierpotenz ist.\n",
        "\n",
        "Über die Venn-Diagramme veranschaulicht die Mengenalgebra boolesche Gesetze, beispielsweise Distributiv- und deMorgansche-Gesetze. Darüber hinaus basiert auf ihrer Form als KV-Diagramm eine bekannte Methode der systematischen Vereinfachung boolescher Ausdrücke in der Schaltalgebra.\n",
        "Weitere Beispiele für boolesche Mengenalgebren stammen aus der Topologie. \n",
        "\n",
        "Die Menge der abgeschlossenen offenen Mengen eines topologischen Raums bildet mit den üblichen Operationen für die Vereinigung, den Durchschnitt und das Komplement von Mengen eine boolesche Algebra. Die regulär abgeschlossenen Mengen und die regulär offenen Mengen stellen mit den jeweiligen regularisierten Mengenoperationen $\\cap^{*}, \\cup^{*}$ und $C^{*}$ ebenfalls boolesche Algebren dar."
      ]
    },
    {
      "cell_type": "markdown",
      "metadata": {
        "id": "W6m2f_P1hdXY"
      },
      "source": [
        "* **Mengenalgebra**: eine Boolesche Algebra, deren Elemente Mengen sind, nämlich Teilmengen einer Grundmenge X, mit den Mengenoperatoren ∪ und ∩ als Verknüpfungen, mit dem Nullelement ∅ und dem Einselement X.\n",
        "\n",
        "* **σ-Algebra**: eine bezüglich abzählbar-unendlicher Verknüpfungen abgeschlossene Mengenalgebra. **Messraum und Maßraum sind spezielle σ-Algebren.**\n",
        "\n",
        "* **Borel-Algebra** macht einen topologischen Raum zum Maßraum: sie ist die kleinste σ-Algebra, die eine gegebene Topologie enthält.\n",
        "\n",
        "* **Zweiwertige Boolesche Algebra**: hat nur die Elemente 0 und 1."
      ]
    },
    {
      "cell_type": "markdown",
      "metadata": {
        "id": "UtsldPtaf407"
      },
      "source": [
        "https://de.m.wikipedia.org/wiki/Algebra_(Mengensystem)"
      ]
    }
  ]
}