{
  "nbformat": 4,
  "nbformat_minor": 0,
  "metadata": {
    "colab": {
      "name": "distribution.ipynb",
      "provenance": [],
      "collapsed_sections": [],
      "include_colab_link": true
    },
    "kernelspec": {
      "name": "python3",
      "display_name": "Python 3"
    }
  },
  "cells": [
    {
      "cell_type": "markdown",
      "metadata": {
        "id": "view-in-github",
        "colab_type": "text"
      },
      "source": [
        "<a href=\"https://colab.research.google.com/github/deltorobarba/machinelearning/blob/master/distribution.ipynb\" target=\"_parent\"><img src=\"https://colab.research.google.com/assets/colab-badge.svg\" alt=\"Open In Colab\"/></a>"
      ]
    },
    {
      "cell_type": "markdown",
      "metadata": {
        "id": "StJ3WnFwEyVd",
        "colab_type": "text"
      },
      "source": [
        "# **Distribution**"
      ]
    },
    {
      "cell_type": "code",
      "metadata": {
        "id": "xrXmPOP_8bq2",
        "colab_type": "code",
        "colab": {}
      },
      "source": [
        "import numpy as np\n",
        "import pandas as pd\n",
        "import seaborn as sns\n",
        "import matplotlib.pyplot as plt"
      ],
      "execution_count": 0,
      "outputs": []
    },
    {
      "cell_type": "markdown",
      "metadata": {
        "id": "ZToJ0S6EcB4J",
        "colab_type": "text"
      },
      "source": [
        "Create Example Data"
      ]
    },
    {
      "cell_type": "code",
      "metadata": {
        "id": "C6cGmuheZz-a",
        "colab_type": "code",
        "outputId": "a8c932a3-52d7-4359-e334-f49471630831",
        "colab": {
          "base_uri": "https://localhost:8080/",
          "height": 235
        }
      },
      "source": [
        "# Set seed for reproducibility and hyperparameter\n",
        "\n",
        "from random import gauss\n",
        "from random import seed\n",
        "from pandas import Series\n",
        "\n",
        "seed(1)\n",
        "mean = 0.0\n",
        "sigma = 1.0\n",
        "periods = 5000\n",
        "\n",
        "# Create White Noise\n",
        "whitenoise = [gauss(mean, sigma) for i in range(periods)]\n",
        "whitenoise = pd.DataFrame(data=Series(whitenoise), columns=['whitenoise'])\n",
        "\n",
        "# Create Time Series\n",
        "ts = pd.date_range('2010-01-01', periods=periods, freq='D')\n",
        "ts = pd.DataFrame(data=ts, columns=['ts'])\n",
        "\n",
        "# Merge and Set Index\n",
        "series = pd.concat([ts, whitenoise], axis=1).set_index('ts')\n",
        "series.head()"
      ],
      "execution_count": 0,
      "outputs": [
        {
          "output_type": "execute_result",
          "data": {
            "text/html": [
              "<div>\n",
              "<style scoped>\n",
              "    .dataframe tbody tr th:only-of-type {\n",
              "        vertical-align: middle;\n",
              "    }\n",
              "\n",
              "    .dataframe tbody tr th {\n",
              "        vertical-align: top;\n",
              "    }\n",
              "\n",
              "    .dataframe thead th {\n",
              "        text-align: right;\n",
              "    }\n",
              "</style>\n",
              "<table border=\"1\" class=\"dataframe\">\n",
              "  <thead>\n",
              "    <tr style=\"text-align: right;\">\n",
              "      <th></th>\n",
              "      <th>whitenoise</th>\n",
              "    </tr>\n",
              "    <tr>\n",
              "      <th>ts</th>\n",
              "      <th></th>\n",
              "    </tr>\n",
              "  </thead>\n",
              "  <tbody>\n",
              "    <tr>\n",
              "      <th>2010-01-01</th>\n",
              "      <td>1.288185</td>\n",
              "    </tr>\n",
              "    <tr>\n",
              "      <th>2010-01-02</th>\n",
              "      <td>1.449446</td>\n",
              "    </tr>\n",
              "    <tr>\n",
              "      <th>2010-01-03</th>\n",
              "      <td>0.066336</td>\n",
              "    </tr>\n",
              "    <tr>\n",
              "      <th>2010-01-04</th>\n",
              "      <td>-0.764544</td>\n",
              "    </tr>\n",
              "    <tr>\n",
              "      <th>2010-01-05</th>\n",
              "      <td>-1.092173</td>\n",
              "    </tr>\n",
              "  </tbody>\n",
              "</table>\n",
              "</div>"
            ],
            "text/plain": [
              "            whitenoise\n",
              "ts                    \n",
              "2010-01-01    1.288185\n",
              "2010-01-02    1.449446\n",
              "2010-01-03    0.066336\n",
              "2010-01-04   -0.764544\n",
              "2010-01-05   -1.092173"
            ]
          },
          "metadata": {
            "tags": []
          },
          "execution_count": 2
        }
      ]
    },
    {
      "cell_type": "code",
      "metadata": {
        "id": "jroFqXn6lSmO",
        "colab_type": "code",
        "outputId": "d35c57bb-af98-4bdc-8fcb-34676cb7f8bb",
        "colab": {
          "base_uri": "https://localhost:8080/",
          "height": 299
        }
      },
      "source": [
        "# Visualize Series\n",
        "sns.set(rc={'figure.figsize':(13, 4), \"lines.linewidth\": 1.0})\n",
        "whitenoise.plot(title='White Noise Process')\n",
        "plt.axhline(y=1, color='red', linestyle='--', linewidth=1.0)\n",
        "plt.axhline(y=-1, color='red', linestyle='--', linewidth=1.0)\n",
        "plt.axhline(y=0, color='yellow', linestyle='--', linewidth=1.0)"
      ],
      "execution_count": 0,
      "outputs": [
        {
          "output_type": "execute_result",
          "data": {
            "text/plain": [
              "<matplotlib.lines.Line2D at 0x7f17fafc0320>"
            ]
          },
          "metadata": {
            "tags": []
          },
          "execution_count": 3
        },
        {
          "output_type": "display_data",
          "data": {
            "image/png": "[encoded data removed]",
            "text/plain": [
              "<Figure size 936x288 with 1 Axes>"
            ]
          },
          "metadata": {
            "tags": []
          }
        }
      ]
    },
    {
      "cell_type": "markdown",
      "metadata": {
        "id": "cJSBQ3cfej9T",
        "colab_type": "text"
      },
      "source": [
        "## **Relevance**"
      ]
    },
    {
      "cell_type": "markdown",
      "metadata": {
        "id": "ozk08hOnwlm-",
        "colab_type": "text"
      },
      "source": [
        "* Gaussian White Noise Processes are drawn from a normal distribution. This should be reflected in distribution plots and goodness of fit nests.\n",
        "* Generally it is good to know the underlying distribution of processes for example when constructing a better (custom) activation function or cost function."
      ]
    },
    {
      "cell_type": "code",
      "metadata": {
        "id": "xaBiwmdglRD0",
        "colab_type": "code",
        "outputId": "8c5c90b4-357c-404b-929d-3a1db24e7213",
        "colab": {
          "base_uri": "https://localhost:8080/",
          "height": 297
        }
      },
      "source": [
        "series.describe(percentiles=[0.05, 0.95])"
      ],
      "execution_count": 0,
      "outputs": [
        {
          "output_type": "execute_result",
          "data": {
            "text/html": [
              "<div>\n",
              "<style scoped>\n",
              "    .dataframe tbody tr th:only-of-type {\n",
              "        vertical-align: middle;\n",
              "    }\n",
              "\n",
              "    .dataframe tbody tr th {\n",
              "        vertical-align: top;\n",
              "    }\n",
              "\n",
              "    .dataframe thead th {\n",
              "        text-align: right;\n",
              "    }\n",
              "</style>\n",
              "<table border=\"1\" class=\"dataframe\">\n",
              "  <thead>\n",
              "    <tr style=\"text-align: right;\">\n",
              "      <th></th>\n",
              "      <th>whitenoise</th>\n",
              "    </tr>\n",
              "  </thead>\n",
              "  <tbody>\n",
              "    <tr>\n",
              "      <th>count</th>\n",
              "      <td>5000.000000</td>\n",
              "    </tr>\n",
              "    <tr>\n",
              "      <th>mean</th>\n",
              "      <td>-0.000236</td>\n",
              "    </tr>\n",
              "    <tr>\n",
              "      <th>std</th>\n",
              "      <td>0.991748</td>\n",
              "    </tr>\n",
              "    <tr>\n",
              "      <th>min</th>\n",
              "      <td>-3.149965</td>\n",
              "    </tr>\n",
              "    <tr>\n",
              "      <th>5%</th>\n",
              "      <td>-1.663347</td>\n",
              "    </tr>\n",
              "    <tr>\n",
              "      <th>50%</th>\n",
              "      <td>-0.006930</td>\n",
              "    </tr>\n",
              "    <tr>\n",
              "      <th>95%</th>\n",
              "      <td>1.656811</td>\n",
              "    </tr>\n",
              "    <tr>\n",
              "      <th>max</th>\n",
              "      <td>3.400552</td>\n",
              "    </tr>\n",
              "  </tbody>\n",
              "</table>\n",
              "</div>"
            ],
            "text/plain": [
              "        whitenoise\n",
              "count  5000.000000\n",
              "mean     -0.000236\n",
              "std       0.991748\n",
              "min      -3.149965\n",
              "5%       -1.663347\n",
              "50%      -0.006930\n",
              "95%       1.656811\n",
              "max       3.400552"
            ]
          },
          "metadata": {
            "tags": []
          },
          "execution_count": 4
        }
      ]
    },
    {
      "cell_type": "markdown",
      "metadata": {
        "id": "qIXO9TGoHy3y",
        "colab_type": "text"
      },
      "source": [
        "Mean is nearly 0.0 and the standard deviation is nearly 1.0. Some variance is expected given the small size of the sample. If we had more data, it might be more interesting to split the series in half and calculate and compare the summary statistics for each half. We would expect to see a similar mean and standard deviation for each sub-series."
      ]
    },
    {
      "cell_type": "code",
      "metadata": {
        "id": "gYvL_48d1_3d",
        "colab_type": "code",
        "outputId": "ee30e6f2-e566-4c15-ac29-1a4f2104a87e",
        "colab": {
          "base_uri": "https://localhost:8080/",
          "height": 53
        }
      },
      "source": [
        "# First central moment: Mean\n",
        "series.mean()"
      ],
      "execution_count": 0,
      "outputs": [
        {
          "output_type": "execute_result",
          "data": {
            "text/plain": [
              "whitenoise   -0.000236\n",
              "dtype: float64"
            ]
          },
          "metadata": {
            "tags": []
          },
          "execution_count": 5
        }
      ]
    },
    {
      "cell_type": "code",
      "metadata": {
        "id": "7yI_8ay21Egr",
        "colab_type": "code",
        "outputId": "9e3e09fd-5a67-4dc6-d275-e921b47aef09",
        "colab": {
          "base_uri": "https://localhost:8080/",
          "height": 53
        }
      },
      "source": [
        "# Second central moment: Variance\n",
        "series.var()"
      ],
      "execution_count": 0,
      "outputs": [
        {
          "output_type": "execute_result",
          "data": {
            "text/plain": [
              "whitenoise    0.983565\n",
              "dtype: float64"
            ]
          },
          "metadata": {
            "tags": []
          },
          "execution_count": 6
        }
      ]
    },
    {
      "cell_type": "code",
      "metadata": {
        "id": "el8-4HA0oMpg",
        "colab_type": "code",
        "outputId": "9bde8033-a669-4163-ff1b-093352e7cdd1",
        "colab": {
          "base_uri": "https://localhost:8080/",
          "height": 53
        }
      },
      "source": [
        "# Third central moment: Skewness ('Higher moment')\n",
        "series.skew()"
      ],
      "execution_count": 0,
      "outputs": [
        {
          "output_type": "execute_result",
          "data": {
            "text/plain": [
              "whitenoise   -0.001609\n",
              "dtype: float64"
            ]
          },
          "metadata": {
            "tags": []
          },
          "execution_count": 7
        }
      ]
    },
    {
      "cell_type": "code",
      "metadata": {
        "id": "yzoXEHaXoPt3",
        "colab_type": "code",
        "outputId": "b0006e2f-10a0-4922-86ea-4b65af35d954",
        "colab": {
          "base_uri": "https://localhost:8080/",
          "height": 53
        }
      },
      "source": [
        "# Forth central moment: Kurtosis ('Higher moment')\n",
        "series.kurt()"
      ],
      "execution_count": 0,
      "outputs": [
        {
          "output_type": "execute_result",
          "data": {
            "text/plain": [
              "whitenoise   -0.090712\n",
              "dtype: float64"
            ]
          },
          "metadata": {
            "tags": []
          },
          "execution_count": 8
        }
      ]
    },
    {
      "cell_type": "code",
      "metadata": {
        "id": "9SuCmYsk2Glf",
        "colab_type": "code",
        "outputId": "35f4d815-3566-4065-c707-292d17a3792f",
        "colab": {
          "base_uri": "https://localhost:8080/",
          "height": 53
        }
      },
      "source": [
        "# Compute specific percentiles\n",
        "series.quantile(0.75)"
      ],
      "execution_count": 0,
      "outputs": [
        {
          "output_type": "execute_result",
          "data": {
            "text/plain": [
              "whitenoise    0.667429\n",
              "Name: 0.75, dtype: float64"
            ]
          },
          "metadata": {
            "tags": []
          },
          "execution_count": 9
        }
      ]
    },
    {
      "cell_type": "markdown",
      "metadata": {
        "id": "-KaUnlSlnNBc",
        "colab_type": "text"
      },
      "source": [
        "## **Distribution Plots**"
      ]
    },
    {
      "cell_type": "markdown",
      "metadata": {
        "id": "YIfpevhUvmo1",
        "colab_type": "text"
      },
      "source": [
        "**Distribution Plot**"
      ]
    },
    {
      "cell_type": "code",
      "metadata": {
        "id": "jr1H6kTTXkaq",
        "colab_type": "code",
        "outputId": "fa6f9ae5-9313-4ac4-c2e9-6cd3113b0982",
        "colab": {
          "base_uri": "https://localhost:8080/",
          "height": 278
        }
      },
      "source": [
        "sns.set(rc={'figure.figsize':(13, 4)})\n",
        "sns.distplot((series), hist=True, rug=True).set_title('White Noise Process - Distribution Plot (incl. KDE & Rug Plot)')\n",
        "plt.show()"
      ],
      "execution_count": 0,
      "outputs": [
        {
          "output_type": "display_data",
          "data": {
            "image/png": "[encoded data removed]",
            "text/plain": [
              "<Figure size 936x288 with 1 Axes>"
            ]
          },
          "metadata": {
            "tags": []
          }
        }
      ]
    },
    {
      "cell_type": "markdown",
      "metadata": {
        "id": "CsvthpoyIcq4",
        "colab_type": "text"
      },
      "source": [
        "**KDE Plot**"
      ]
    },
    {
      "cell_type": "code",
      "metadata": {
        "id": "ZjAHRStNIdGw",
        "colab_type": "code",
        "outputId": "964fc0c6-43bd-45ef-bd7e-be96b854db35",
        "colab": {
          "base_uri": "https://localhost:8080/",
          "height": 278
        }
      },
      "source": [
        "sns.set(rc={'figure.figsize':(13, 4)})\n",
        "sns.kdeplot(series.whitenoise, shade=True).set_title('White Noise Process - KDE Plot')\n",
        "plt.show()"
      ],
      "execution_count": 0,
      "outputs": [
        {
          "output_type": "display_data",
          "data": {
            "image/png": "[encoded data removed]",
            "text/plain": [
              "<Figure size 936x288 with 1 Axes>"
            ]
          },
          "metadata": {
            "tags": []
          }
        }
      ]
    },
    {
      "cell_type": "markdown",
      "metadata": {
        "id": "xoriH_HuvWr0",
        "colab_type": "text"
      },
      "source": [
        "**Boxplot**"
      ]
    },
    {
      "cell_type": "code",
      "metadata": {
        "id": "pF0zTMqivVvA",
        "colab_type": "code",
        "outputId": "a9c0a364-e819-4112-cb22-d0c3cbbe7efc",
        "colab": {
          "base_uri": "https://localhost:8080/",
          "height": 302
        }
      },
      "source": [
        "sns.boxplot(series).set_title('White Noise Process - Boxplot')"
      ],
      "execution_count": 0,
      "outputs": [
        {
          "output_type": "execute_result",
          "data": {
            "text/plain": [
              "Text(0.5, 1.0, 'White Noise Process - Boxplot')"
            ]
          },
          "metadata": {
            "tags": []
          },
          "execution_count": 12
        },
        {
          "output_type": "display_data",
          "data": {
            "image/png": "[encoded data removed]",
            "text/plain": [
              "<Figure size 936x288 with 1 Axes>"
            ]
          },
          "metadata": {
            "tags": []
          }
        }
      ]
    },
    {
      "cell_type": "markdown",
      "metadata": {
        "id": "uWjYXu3Yvc0q",
        "colab_type": "text"
      },
      "source": [
        "**QQ Plot**"
      ]
    },
    {
      "cell_type": "code",
      "metadata": {
        "id": "VM0C9U0bvcP-",
        "colab_type": "code",
        "outputId": "6d9aaff0-e325-4779-f000-e1f59a0c54e5",
        "colab": {
          "base_uri": "https://localhost:8080/",
          "height": 291
        }
      },
      "source": [
        "import scipy\n",
        "from scipy import stats\n",
        "stats.probplot(series.whitenoise, dist=\"norm\", plot=plt)\n",
        "plt.title('White Noise Process - QQ Plot - Normal Distribution')\n",
        "plt.show()"
      ],
      "execution_count": 0,
      "outputs": [
        {
          "output_type": "display_data",
          "data": {
            "image/png": "[encoded data removed]",
            "text/plain": [
              "<Figure size 936x288 with 1 Axes>"
            ]
          },
          "metadata": {
            "tags": []
          }
        }
      ]
    },
    {
      "cell_type": "markdown",
      "metadata": {
        "id": "F0-1t_hqm5lx",
        "colab_type": "text"
      },
      "source": [
        "## **Statistical Tests (Goodness of Fit)**"
      ]
    },
    {
      "cell_type": "markdown",
      "metadata": {
        "id": "PeHO0W3NHl7t",
        "colab_type": "text"
      },
      "source": [
        "**Normal Test**\n",
        "\n",
        "* Test whether a sample differs from a normal distribution.\n",
        "* This function tests the null hypothesis that a sample comes from a normal distribution. \n",
        "* It is based on D’Agostino and Pearson’s test that combines skew and kurtosis to produce an omnibus test of normality.\n",
        "* Historically, the third and fourth standardized moments (skewness and kurtosis) were some of the earliest tests for normality."
      ]
    },
    {
      "cell_type": "code",
      "metadata": {
        "id": "Tgew2_DwHN-C",
        "colab_type": "code",
        "outputId": "26feae41-55e7-4210-d160-b931d3f01551",
        "colab": {
          "base_uri": "https://localhost:8080/",
          "height": 35
        }
      },
      "source": [
        "# Normal Test. H0: sample comes from a normal distribution\n",
        "import scipy\n",
        "from scipy import stats\n",
        "stats.normaltest(series)"
      ],
      "execution_count": 0,
      "outputs": [
        {
          "output_type": "execute_result",
          "data": {
            "text/plain": [
              "NormaltestResult(statistic=array([1.7988695]), pvalue=array([0.40679954]))"
            ]
          },
          "metadata": {
            "tags": []
          },
          "execution_count": 14
        }
      ]
    },
    {
      "cell_type": "markdown",
      "metadata": {
        "id": "B-tmz8INFU3H",
        "colab_type": "text"
      },
      "source": [
        "**Shapiro–Wilk Test**\n",
        "\n",
        "* tests the null hypothesis that the data was drawn from a normal distribution.\n",
        "* Monte Carlo simulation has found that Shapiro–Wilk has the best power for a given significance, followed closely by Anderson–Darling when comparing the Shapiro–Wilk, Kolmogorov–Smirnov, Lilliefors and Anderson–Darling tests.\n",
        "* For N > 5000 the W test statistic is accurate but the p-value may not be.\n",
        "* The chance of rejecting the null hypothesis when it is true is close to 5% regardless of sample size."
      ]
    },
    {
      "cell_type": "code",
      "metadata": {
        "id": "cRZI7G1oFMCP",
        "colab_type": "code",
        "outputId": "c7cb6979-982e-49bb-a75a-24b5a3e65b7b",
        "colab": {
          "base_uri": "https://localhost:8080/",
          "height": 35
        }
      },
      "source": [
        "# Shapiro–Wilk Test. H0: data was drawn from a normal distribution\n",
        "import scipy\n",
        "from scipy import stats\n",
        "stats.shapiro(series.whitenoise)"
      ],
      "execution_count": 0,
      "outputs": [
        {
          "output_type": "execute_result",
          "data": {
            "text/plain": [
              "(0.9996960163116455, 0.6947302222251892)"
            ]
          },
          "metadata": {
            "tags": []
          },
          "execution_count": 15
        }
      ]
    },
    {
      "cell_type": "markdown",
      "metadata": {
        "id": "HMCsUvcnOQpS",
        "colab_type": "text"
      },
      "source": [
        "**Anderson-Darling Test**\n",
        "\n",
        "* Anderson Darling tests the null hypothesis whether the sample from the population follows a particular distribution (default: normal).\n",
        "* For the Anderson-Darling test, the critical values depend on which distribution is being tested against. \n",
        "* This function works for normal, exponential, logistic, or Gumbel (Extreme Value Type I) distributions.\n",
        "\n"
      ]
    },
    {
      "cell_type": "code",
      "metadata": {
        "id": "jo5FOnl-OVwa",
        "colab_type": "code",
        "outputId": "ffebed3b-226a-438f-efff-e20ec55bd2a9",
        "colab": {
          "base_uri": "https://localhost:8080/",
          "height": 55
        }
      },
      "source": [
        "# Anderson-Darling Test. H0: sample from the population follows a particular distribution (default: normal)\n",
        "import scipy\n",
        "from scipy import stats\n",
        "stats.anderson(series.whitenoise)"
      ],
      "execution_count": 0,
      "outputs": [
        {
          "output_type": "execute_result",
          "data": {
            "text/plain": [
              "AndersonResult(statistic=0.17225517577207938, critical_values=array([0.576, 0.655, 0.786, 0.917, 1.091]), significance_level=array([15. , 10. ,  5. ,  2.5,  1. ]))"
            ]
          },
          "metadata": {
            "tags": []
          },
          "execution_count": 16
        }
      ]
    },
    {
      "cell_type": "markdown",
      "metadata": {
        "id": "6YQ7E2DuN-t7",
        "colab_type": "text"
      },
      "source": [
        "**Kolmogorov-Smirnov Test**\n",
        "\n",
        "* Test of the distribution G(x) of an observed random variable against a given distribution F(x) (quantifies a distance between the empirical distribution function of the sample and the cumulative distribution function of the reference distribution, or between the empirical distribution functions of two samples.)\n",
        "* Under null hypothesis the two distributions are identical, G(x)=F(x).\n",
        "* Only works if the mean and the variance of the normal are assumed known under the null hypothesis"
      ]
    },
    {
      "cell_type": "code",
      "metadata": {
        "id": "zy-2evfKODAo",
        "colab_type": "code",
        "outputId": "9af5acf6-73e4-4c1c-e0f3-aad0feb0ccba",
        "colab": {
          "base_uri": "https://localhost:8080/",
          "height": 35
        }
      },
      "source": [
        "# Kolmogorov-Smirnov Test. H0: The two distributions are identical (e.g. against normal)\n",
        "import scipy\n",
        "from scipy import stats\n",
        "stats.kstest(series, 'norm')"
      ],
      "execution_count": 0,
      "outputs": [
        {
          "output_type": "execute_result",
          "data": {
            "text/plain": [
              "KstestResult(statistic=0.9996637501786144, pvalue=0.0)"
            ]
          },
          "metadata": {
            "tags": []
          },
          "execution_count": 17
        }
      ]
    },
    {
      "cell_type": "markdown",
      "metadata": {
        "id": "V5i1dx06OHuK",
        "colab_type": "text"
      },
      "source": [
        "**Jarque-Bera Test**\n",
        "\n",
        "* Compares sample skewness and kurtosis to 0 and 3, their values under normality.\n",
        "* This test only works for a large enough number of data samples (>2000) as the test statistic asymptotically has a Chi-squared distribution with 2 degrees of freedom.\n",
        "* Null hypothesis: sample is normal distributed.\n",
        "* The test has weakness. In particular, the test has low power for distributions with short tails, especially for bimodal distributions. Some authors have declined to include its results in their studies because of its poor overall performance"
      ]
    },
    {
      "cell_type": "code",
      "metadata": {
        "id": "Z4H4V6SVOS6l",
        "colab_type": "code",
        "outputId": "eeebc402-67c6-458c-fbf5-3273361ea799",
        "colab": {
          "base_uri": "https://localhost:8080/",
          "height": 35
        }
      },
      "source": [
        "# Jarque-Bera Test. H0: sample is normal distributed\n",
        "import scipy\n",
        "from scipy import stats\n",
        "stats.jarque_bera(series)"
      ],
      "execution_count": 0,
      "outputs": [
        {
          "output_type": "execute_result",
          "data": {
            "text/plain": [
              "(1.7586207168611774, 0.41506906187895287)"
            ]
          },
          "metadata": {
            "tags": []
          },
          "execution_count": 18
        }
      ]
    },
    {
      "cell_type": "markdown",
      "metadata": {
        "id": "FTVejfH_Hues",
        "colab_type": "text"
      },
      "source": [
        "All P-values > 0.05. Don't reject any HO. Distribution is normal"
      ]
    }
  ]
}