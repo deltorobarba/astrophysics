{
  "nbformat": 4,
  "nbformat_minor": 0,
  "metadata": {
    "colab": {
      "name": "fourier.ipynb",
      "provenance": [],
      "collapsed_sections": [
        "oB_uPKNk3k-L",
        "mpKTsYI87t9u",
        "wjrQ4nkpntd0",
        "xh6UdmsnMYv6",
        "0opsvi1_LeCH",
        "NE0F8WKOLpWz",
        "bbnzkqNwQ_xU",
        "7mbLlEbFgAZs"
      ],
      "include_colab_link": true
    },
    "kernelspec": {
      "name": "python3",
      "display_name": "Python 3"
    }
  },
  "cells": [
    {
      "cell_type": "markdown",
      "metadata": {
        "id": "view-in-github",
        "colab_type": "text"
      },
      "source": [
        "<a href=\"https://colab.research.google.com/github/deltorobarba/machinelearning/blob/master/fourier.ipynb\" target=\"_parent\"><img src=\"https://colab.research.google.com/assets/colab-badge.svg\" alt=\"Open In Colab\"/></a>"
      ]
    },
    {
      "cell_type": "markdown",
      "metadata": {
        "id": "46nztkAR5VJE"
      },
      "source": [
        "### <font color=\"blue\">**Quantum Fourier Transform**"
      ]
    },
    {
      "cell_type": "code",
      "source": [
        "import sympy\n",
        "import math\n",
        "import numpy as np\n",
        "import pandas as pd\n",
        "import seaborn as sns\n",
        "import matplotlib.pyplot as plt"
      ],
      "metadata": {
        "id": "8XeJK4sXpSkS"
      },
      "execution_count": null,
      "outputs": []
    },
    {
      "cell_type": "code",
      "source": [
        "!pip install cirq -q\n",
        "import cirq\n",
        "from cirq.contrib.svg import SVGCircuit\n",
        "print(cirq.__version__)"
      ],
      "metadata": {
        "id": "qEl9kLwLpVQv"
      },
      "execution_count": null,
      "outputs": []
    },
    {
      "cell_type": "markdown",
      "metadata": {
        "id": "oB_uPKNk3k-L"
      },
      "source": [
        "###### <font color=\"blue\">*Introduction & Formula*"
      ]
    },
    {
      "cell_type": "markdown",
      "source": [
        "> **Quantum Fourier Transform is the change from one basis (computational) to another (Fourier basis)**\n",
        "\n",
        "* Quantum Fourier Transform is the inverse Discrete Fourier Transform)"
      ],
      "metadata": {
        "id": "Z2m9pi4SHO1l"
      }
    },
    {
      "cell_type": "markdown",
      "metadata": {
        "id": "gQPMbMPuET0l"
      },
      "source": [
        "**General formula**\n",
        "\n",
        "* Remember: <font color=\"blue\">$e^{2\\pi i}$ = 1</font> (identity operation), and see why $e^{\\pi i}$ = -1 in [this video](https://youtu.be/-AyE1Wpgo3Q) \n",
        "\n",
        "\n",
        "* In QFT we change the <font color=\"blue\">$\\theta$ = phase in $e^{2\\pi i \\theta}$</font> = Eigenvalue of Oracle function $U$ associated with an eigenvector |u⟩\n",
        "\n",
        "* The phase $\\theta$ is expressed as: <font color=\"blue\">$\\theta$ = $\\frac{x_n}{2^{k}}$</font> with:\n",
        "\n",
        "  * <font color=\"blue\">$x_n$ = 0 or 1</font> state\n",
        "  \n",
        "  * <font color=\"blue\">$k_n$</font> number of Qubits\n",
        "\n",
        "* This is expressed in a so-called \"controlled-R quantum gate\" that **applies a relative phase change to |1>**\n",
        "\n",
        "* The matrix form of this operator is: <font color=\"blue\">$\\hat{R}_{k}=\\left(\\begin{array}{cc}1 & 0 \\\\ 0 & e^{2 \\pi i \\frac{x_n}{ 2^{k_n}}}\\end{array}\\right)$</font>"
      ]
    },
    {
      "cell_type": "markdown",
      "metadata": {
        "id": "OQkr4N9XyBqc"
      },
      "source": [
        "> **Achtung**: In $\\frac{1}{\\sqrt{2}}\\left(|0\\rangle+\\mathrm{e}^{2 \\pi \\mathrm{i}\\left(\\frac{\\mathrm{x}_{1}}{2}+\\frac{x_{2}}{4}+\\frac{x_{3}}{8}\\right)}|1\\rangle\\right)$ this part is the **Phase $\\theta$** = $(\\frac{\\mathrm{x}_{1}}{2}+\\frac{x_{2}}{4}+\\frac{x_{3}}{8})$ und $\\mathrm{e}^{2 \\pi \\mathrm{i}}$ = 1 (later impprtant for Phase Estimation)."
      ]
    },
    {
      "cell_type": "markdown",
      "source": [
        "###### <font color=\"blue\">*How does QFT move around Bloch sphere & how does it work in a circuit?*"
      ],
      "metadata": {
        "id": "mpKTsYI87t9u"
      }
    },
    {
      "cell_type": "markdown",
      "source": [
        "https://javafxpert.github.io/grok-bloch/\n"
      ],
      "metadata": {
        "id": "cy0N7m3FQ22j"
      }
    },
    {
      "cell_type": "markdown",
      "source": [
        "https://www.st-andrews.ac.uk/physics/quvis/simulations_html5/sims/blochsphere/blochsphere.html"
      ],
      "metadata": {
        "id": "FVah4TFPQ3zh"
      }
    },
    {
      "cell_type": "markdown",
      "source": [
        "> **Two important things to remember with QFT:**"
      ],
      "metadata": {
        "id": "6aaoEfe-ZkEA"
      }
    },
    {
      "cell_type": "markdown",
      "source": [
        "**Depending on how many qubits I have, I have the following applications:**\n",
        "  \n",
        "* For my first qubit I always apply an Hadamard-gate, \n",
        "\n",
        "  * for computational basis = 1, then additionally apply Z-gate = $\\pi$\n",
        "  \n",
        "* if I have a second qubit, then then I apply an S-gate ($\\frac{\\pi}{2}$), \n",
        "  \n",
        "* if I have a third qubit, then then I apply an T-gate ($\\frac{\\pi}{4}$), \n",
        "  \n",
        "* if I have a forth qubit, then then I apply ($\\frac{\\pi}{8}$) etc."
      ],
      "metadata": {
        "id": "BdAkzn5vZmuv"
      }
    },
    {
      "cell_type": "markdown",
      "source": [
        "**In order to represent the above mentioned movement, you need to build the circuit in the following way: If I have more than one qubit, please notice the shift between the denominator (bottom - which remains fixed) and numerator (top - which is shifted by one qubit more)**. See here an example for Quantum Fourier Transform on three qubits:\n",
        "\n",
        "* <font color=\"blue\">$\\tilde{x_1}$ = $\\frac{1}{\\sqrt{2}}\\left(|0\\rangle+\\mathrm{e}^{2 \\pi \\mathrm{i}\\left(\\frac{\\mathrm{x}_{1}}{2^{n_{x_1}}}+\\frac{x_{2}}{2^{n_{x_2}}}+\\frac{x_{3}}{2^{n_{x_3}}}\\right)}|1\\rangle\\right)$</font>\n",
        "\n",
        "* <font color=\"blue\">$\\tilde{x_2}$ = $\\frac{1}{\\sqrt{2}}\\left(|0\\rangle+\\mathrm{e}^{2 \\pi \\mathrm{i}\\left(\\frac{x_2}{2^{n_{x_1}}}+\\frac{x_3}{2^{n_{x_2}}}\\right)}|1\\rangle\\right)$</font>\n",
        "\n",
        "* <font color=\"blue\">$\\tilde{x_3}$ = $\\frac{1}{\\sqrt{2}}\\left(|0\\rangle+\\mathrm{e}^{2 \\pi \\mathrm{i}\\left(\\frac{x_3}{2^{n_{x_1}}}\\right)}|1\\rangle\\right)$</font>\n",
        "\n",
        "* etc."
      ],
      "metadata": {
        "id": "3Upezo6JYAsq"
      }
    },
    {
      "cell_type": "markdown",
      "source": [
        "*Berechnung eines QFT in 3 Qubits im Computational State |011>:*\n",
        "\n",
        "![gg](https://raw.githubusercontent.com/deltorobarba/repo/master/quantum_114.jpg)\n"
      ],
      "metadata": {
        "id": "khax4YuOMREW"
      }
    },
    {
      "cell_type": "markdown",
      "source": [
        "> **Let's take as an example a three qubit with 001 in the computational basis**"
      ],
      "metadata": {
        "id": "aIeO0IQloriL"
      }
    },
    {
      "cell_type": "markdown",
      "source": [
        "**This is what we get in the Fourier basis visually:**"
      ],
      "metadata": {
        "id": "qVNXZ-9RoagP"
      }
    },
    {
      "cell_type": "markdown",
      "source": [
        "\n",
        "![ggg](https://raw.githubusercontent.com/deltorobarba/repo/master/quantum_051.png)"
      ],
      "metadata": {
        "id": "59Hs0HnqoKss"
      }
    },
    {
      "cell_type": "markdown",
      "source": [
        "**This is what we get in the Fourier basis mathematically:**"
      ],
      "metadata": {
        "id": "83CumrhXofBh"
      }
    },
    {
      "cell_type": "markdown",
      "source": [
        "Quantum States: <font color=\"blue\">$\\tilde{x_1}$ = 0</font>, <font color=\"blue\">$\\tilde{x_2}$ = 0</font>, <font color=\"blue\">$\\tilde{x_3}$ = 1</font>\n",
        "\n",
        "> <font color=\"blue\">$\\tilde{x_1}$</font> = $\\frac{1}{\\sqrt{2}}\\left(|0\\rangle+\\mathrm{e}^{2 \\pi \\mathrm{i}\\left(\\frac{\\mathrm{x}_{1}}{2}+\\frac{x_{2}}{4}+\\frac{x_{3}}{8}\\right)}|1\\rangle\\right)$ = $\\frac{1}{\\sqrt{2}}\\left(|0\\rangle+\\mathrm{e}^{2 \\pi \\mathrm{i}\\left(\\frac{0}{2}+\\frac{0}{4}+\\frac{1}{8}\\right)}|1\\rangle\\right)$ = $\\mathrm{e}^{\\pi \\mathrm{i}/2}$ for qubit 0\n",
        "\n",
        "> <font color=\"blue\">$\\tilde{x_2}$</font> = $\\frac{1}{\\sqrt{2}}\\left(|0\\rangle+\\mathrm{e}^{2 \\pi \\mathrm{i}\\left(\\frac{0}{2}+\\frac{1}{4}\\right)}|1\\rangle\\right)$ = $e^{\\pi i 0,25} = -1 $ for qubit 1\n",
        "\n",
        "> <font color=\"blue\">$\\tilde{x_3}$</font> = $\\frac{1}{\\sqrt{2}}\\left(|0\\rangle+\\mathrm{e}^{\\pi \\mathrm{i} 1}|1\\rangle\\right)$ = $e^{\\pi i} = -1$ for qubit 2"
      ],
      "metadata": {
        "id": "At0t3UPWoXwK"
      }
    },
    {
      "cell_type": "markdown",
      "source": [
        "**This is what we get in the Fourier basis with a circuit:**"
      ],
      "metadata": {
        "id": "HniVygE2ol4d"
      }
    },
    {
      "cell_type": "markdown",
      "metadata": {
        "id": "2YS8WU-x2bSA"
      },
      "source": [
        "![ggg](https://raw.githubusercontent.com/deltorobarba/repo/master/quantum_076.jpg)\n",
        "\n",
        "https://www.cl.cam.ac.uk/teaching/1920/QuantComp/Quantum_Computing_Lecture_9.pdf"
      ]
    },
    {
      "cell_type": "code",
      "metadata": {
        "id": "ToIvGgZA0np3"
      },
      "source": [
        "\"\"\"Visually check the QFT circuit.\"\"\"\n",
        "qubits = cirq.LineQubit.range(3)\n",
        "qft = cirq.Circuit(make_qft(qubits))\n",
        "print(qft)"
      ],
      "execution_count": null,
      "outputs": []
    },
    {
      "cell_type": "markdown",
      "metadata": {
        "id": "0hjkvW3MytXm"
      },
      "source": [
        "In die Formel oben eingegeben für ein 3 Qubit mit $x_1=0, x_2=0$ und $x_3=1$ ergibt sich folgendes in umgekehrter Reihenfolge (deswegen muss das Swap-Gate machträglich angewandt werden):\n",
        "\n",
        "* Qubit $x_1$ (=ohne Swap-Gate wie oben $x_3$): $e^{\\frac{2 * \\pi * i * 1}{2^{1}}}=-1$ (Z-Gate, weil negativ Hadamard)\n",
        "\n",
        "* Qubit $x_2$: $e^{\\frac{2 * \\pi * i * 1}{2^{2}}}=e^{\\frac{2 * \\pi * i * 1}{4}}=\\mathrm{i}$ (=S-Gate)\n",
        "\n",
        "* Qubit $x_3$ (=$x_1$ im circuit oben): $e^{\\frac{2 * \\pi * i * 1}{2^{3}}}=e^{\\frac{2 * \\pi * i * 1}{8}}=e^{\\frac{\\pi i}{4}}$ (=T-Gate transform)\n",
        "\n",
        "> <font color=\"blue\">We use a Controlled U-ROT Gate: every time, where a control qubit is a 1, the according rotation will be executed. In. ase of 0 nothing happens.</font>\n",
        "\n",
        "> Das stimmt überein mit der folgenden geometrischen Darstellung (*3 Qubit Quantum Fourier transformation with 001 in computational state: first state is 180 degree rotated, secind by 90 degree, third by 45 degree from Hadamard + Superposition state - Rotationen werden durch UROT gates bestimmt, und aktiviert überall do, wo control =1 ist*):\n"
      ]
    },
    {
      "cell_type": "markdown",
      "metadata": {
        "id": "pX9RQCdstBN1"
      },
      "source": [
        "![ggg](https://raw.githubusercontent.com/deltorobarba/repo/master/quantum_116.png)"
      ]
    },
    {
      "cell_type": "markdown",
      "metadata": {
        "id": "Ecb9-K-qDVbT"
      },
      "source": [
        "* The number we want to store dictates the angle at which each qubit is rotated around the Z-axis. \n",
        "\n",
        "* In the state $|\\tilde{0}\\rangle$, all qubits are in the state $|+\\rangle$. \n",
        "\n",
        "* In the example above, to encode the state $|\\tilde{5}\\rangle$ (=101) on n=3 qubits, we rotated the leftmost qubit by $\\frac{5}{2^{n}}=\\frac{5}{8}$ full turns $\\left(\\frac{5}{8} \\times 2 \\pi\\right.$ radians). \n",
        "\n",
        "* The next qubit is turned double this $\\left(\\frac{10}{8} \\times 2 \\pi\\right.$ radians, or $\\frac{10}{8}$ full turns), this angle is then doubled for the qubit after, and so on.\n",
        "\n",
        "* **Note the frequency with which each qubit changes. The leftmost qubit (qubit 0 ) in this case has the lowest frequency, and the rightmost the highest.**"
      ]
    },
    {
      "cell_type": "markdown",
      "metadata": {
        "id": "fQ7tCZRetUEX"
      },
      "source": [
        "* In the Fourier basis the topmost qubit completes one full rotation when counting between 0 and $2^{t}$ .\n",
        "\n",
        "* To count to a number, $x$ between 0 and $2^{t}$ (t = qubits), we rotate this qubit by $\\frac{x}{2^{t}}$ around the z-axis. \n",
        "\n",
        "* For the next qubit we rotate by $\\frac{2 x}{2^{t}}$, then $\\frac{4 x}{2^{t}}$ for the third qubit. In this case x is not 0 or 1, but the decimal number = 5 !!!"
      ]
    },
    {
      "cell_type": "markdown",
      "metadata": {
        "id": "nTD0YHtHuRtG"
      },
      "source": [
        "> x1 = $\\frac{1}{\\sqrt{2}}\\left(|0\\rangle+\\mathrm{e}^{2 \\pi \\mathrm{i}\\left(\\frac{\\mathrm{x}_{1}}{2}+\\frac{x_{2}}{4}+\\frac{x_{3}}{8}\\right)}|1\\rangle\\right)$ = $\\frac{1}{\\sqrt{2}}\\left(|0\\rangle+\\mathrm{e}^{2 \\pi \\mathrm{i}\\left(\\frac{1}{2}+\\frac{0}{4}+\\frac{1}{8}\\right)}|1\\rangle\\right)$ = $\\frac{1}{\\sqrt{2}}\\left(|0\\rangle+\\mathrm{e}^{2 \\pi \\mathrm{i}\\left(\\frac{1}{2}+\\frac{1}{8}\\right)}|1\\rangle\\right)$ \n",
        "\n",
        "> = $\\frac{1}{\\sqrt{2}}\\left(|0\\rangle+\\mathrm{e}^{2 \\pi \\mathrm{i}\\left(\\frac{4}{8}+\\frac{1}{8}\\right)}|1\\rangle\\right)$ = $\\frac{1}{\\sqrt{2}}\\left(|0\\rangle+\\mathrm{e}^{2 \\pi \\mathrm{i}\\left(\\frac{5}{8}\\right)}|1\\rangle\\right)$= $\\mathrm{e}^{1,25 * \\pi \\mathrm{i}}$ fur qubit 0 (roter Pfeil ist dann zwischen -1 und -i)\n"
      ]
    },
    {
      "cell_type": "markdown",
      "source": [
        "**Cirq Code for QFT**"
      ],
      "metadata": {
        "id": "180-OuvxK1Yp"
      }
    },
    {
      "cell_type": "code",
      "source": [
        "def make_qft(qubits):\n",
        "\n",
        "    # Generate list of qubits\n",
        "    qreg = list(qubits)\n",
        "    \n",
        "    # Make sure list is longer than 0 qubits:\n",
        "    while len(qreg) > 0:\n",
        "    \n",
        "    # Remove first qubit from list and return its value (set as head-qubit):\n",
        "        q_head = qreg.pop(0)\n",
        "    \n",
        "    # Apply Hadamard superposition to this head-qubit\n",
        "        yield cirq.H(q_head)\n",
        "\n",
        "    # Enumerate through list with i (index position) and corresponding qubit value (0 or 1)\n",
        "        for i, qubit in enumerate(qreg):\n",
        "\n",
        "    # Apply Controlled-Z * Theta-Phase-Shift on target ('q-head') if control-qubit ('qubit') is in state 1\n",
        "            yield (cirq.CZ ** (1 / 2 ** (i + 1)))(qubit, q_head)\n",
        "\n",
        "    # Iterating through until \"while len(qreg) = 0\", then processes stops\n",
        "\n",
        "\"\"\"Visually check the QFT circuit.\"\"\"\n",
        "qubits = cirq.LineQubit.range(2)\n",
        "qft = cirq.Circuit(make_qft(qubits))\n",
        "print(qft)"
      ],
      "metadata": {
        "id": "frIuNSu2K0ii"
      },
      "execution_count": null,
      "outputs": []
    },
    {
      "cell_type": "markdown",
      "source": [
        "**Difference QFT and inverse QFT:**"
      ],
      "metadata": {
        "id": "5vO1FNVESDVx"
      }
    },
    {
      "cell_type": "code",
      "source": [
        "# Difference QFT and inverse QFT:\n",
        "# yield (cirq.CZ ** (1 / 2 ** (i + 1)))(qubit, q_head)\n",
        "# yield (cirq.CZ ** (-1 / 2 ** (i + 1)))(qubit, q_head)\n",
        "# Dagger is a complex conjugate operation!"
      ],
      "metadata": {
        "id": "0-YMNmN-SB8o"
      },
      "execution_count": null,
      "outputs": []
    },
    {
      "cell_type": "markdown",
      "metadata": {
        "id": "B-fvz--23UBh"
      },
      "source": [
        "$C R_{j}=C Z^{1 / 2^{j-1}}$\n",
        "\n",
        "* $Z$ entspricht $\\pi$ (ein halber Kreis, zB von +1 zu -1 auf X-Achse) \n",
        "\n",
        "* $S$ entspricht $\\frac{\\pi}{2}$, also wenn qubit 1 = 1, dann bei qubit 0 das $S$ transform anwenden (0,5)\n",
        "\n",
        "  * S: The square root of Z gate, equivalent to cirq.Z ** 0.5\n",
        "\n",
        "  * See: https://quantumai.google/cirq/gates\n",
        "\n",
        "* $T$ entspricht $\\frac{\\pi}{4}$"
      ]
    },
    {
      "cell_type": "code",
      "metadata": {
        "colab": {
          "base_uri": "https://localhost:8080/"
        },
        "id": "D7s60RrUgWEH",
        "outputId": "3d08c1e2-ab70-4b8f-9495-dee601e5974a"
      },
      "source": [
        "\"\"\"Visually check the QFT circuit.\"\"\"\n",
        "qubits = cirq.LineQubit.range(4)\n",
        "qft = cirq.Circuit(make_qft(qubits))\n",
        "print(qft)"
      ],
      "execution_count": null,
      "outputs": [
        {
          "output_type": "stream",
          "name": "stdout",
          "text": [
            "                  ┌───────┐   ┌────────────┐   ┌───────┐\n",
            "0: ───H───@────────@───────────@───────────────────────────────────────\n",
            "          │        │           │\n",
            "1: ───────@^0.5────┼─────H─────┼──────@─────────@──────────────────────\n",
            "                   │           │      │         │\n",
            "2: ────────────────@^0.25──────┼──────@^0.5─────┼─────H────@───────────\n",
            "                               │                │          │\n",
            "3: ────────────────────────────@^(1/8)──────────@^0.25─────@^0.5───H───\n",
            "                  └───────┘   └────────────┘   └───────┘\n"
          ]
        }
      ]
    },
    {
      "cell_type": "code",
      "metadata": {
        "colab": {
          "base_uri": "https://localhost:8080/"
        },
        "id": "eYSQlnJT8xw9",
        "outputId": "09b7075b-d954-45dc-f68f-f0cdf365e895"
      },
      "source": [
        "qreg = list(qubits)\n",
        "qreg"
      ],
      "execution_count": null,
      "outputs": [
        {
          "output_type": "execute_result",
          "data": {
            "text/plain": [
              "[cirq.LineQubit(0), cirq.LineQubit(1), cirq.LineQubit(2)]"
            ]
          },
          "metadata": {},
          "execution_count": 4
        }
      ]
    },
    {
      "cell_type": "markdown",
      "metadata": {
        "id": "uWp3l3bZtNjL"
      },
      "source": [
        "https://www.mlq.ai/quantum-programming-google-cirq/"
      ]
    },
    {
      "cell_type": "markdown",
      "metadata": {
        "id": "OatV0_6z06Aj"
      },
      "source": [
        "https://quantumai.google/cirq/tutorials/educators/textbook_algorithms"
      ]
    },
    {
      "cell_type": "markdown",
      "metadata": {
        "id": "pq9iZuED9nT5"
      },
      "source": [
        "https://realpython.com/python-enumerate/"
      ]
    },
    {
      "cell_type": "markdown",
      "metadata": {
        "id": "a2P7AWGVFixc"
      },
      "source": [
        "**Inverse Quantum Fourier Transform ('QFT Dagger' - Dagger is a complex conjugate operation!)**"
      ]
    },
    {
      "cell_type": "code",
      "source": [
        "def make_qft_inverse(qubits):\n",
        "    \"\"\"Generator for the inverse QFT on a list of qubits.\"\"\"\n",
        "    qreg = list(qubits)[::-1]\n",
        "    while len(qreg) > 0:\n",
        "        q_head = qreg.pop(0)\n",
        "        yield cirq.H(q_head)\n",
        "        for i, qubit in enumerate(qreg):\n",
        "            yield (cirq.CZ ** (-1 / 2 ** (i + 1)))(qubit, q_head)\n",
        "\n",
        "# Syntax explanation for list(qubits)[::-1]: list[<start>:<stop>:<step>]\n",
        "# So, when you do a[::-1], it starts from the end towards the first taking each element. \n",
        "# So it reverses a. This is applicable for lists/tuples as well.\n",
        "# Example: >>> a = '1234' >>> a[::-1] will get you: '4321'\n",
        "\n",
        "\"\"\"Build the last part of the circuit (inverse QFT) for phase estimation.\"\"\"\n",
        "\n",
        "# Do the inverse QFT as subroutine in quantum phase estimation\n",
        "phase_estimator.append(make_qft_inverse(qubits[::-1]))"
      ],
      "metadata": {
        "id": "ZqK3JA_6G0Hr"
      },
      "execution_count": null,
      "outputs": []
    },
    {
      "cell_type": "code",
      "source": [
        "# Difference QFT and inverse QFT:\n",
        "# yield (cirq.CZ ** (1 / 2 ** (i + 1)))(qubit, q_head)\n",
        "# yield (cirq.CZ ** (-1 / 2 ** (i + 1)))(qubit, q_head)"
      ],
      "metadata": {
        "id": "BNMOqMi3HPPe"
      },
      "execution_count": null,
      "outputs": []
    },
    {
      "cell_type": "markdown",
      "metadata": {
        "id": "t_v2zVb4FlJi"
      },
      "source": [
        "Reminder of QFT:\n",
        "\n",
        "* $QFT\\,\\,|x\\rangle=|\\tilde{x}\\rangle=$ $\\frac{1}{\\sqrt{N}} \\sum_{y=0}^{N-1} e^{\\frac{2 \\pi i}{N} x y} |y\\rangle$\n",
        "\n",
        "**Remember: Dagger is a complex conjugate operation!**\n",
        "\n",
        "QFT inverse (see -2 turning i in -i which is a complex conjugate operation):\n",
        "\n",
        "* $QFT^{\\dagger}|\\tilde{x}\\rangle=|x\\rangle=$ $\\frac{1}{\\sqrt{N}} \\sum_{y=0}^{N-1} e^{\\frac{-2 \\pi i}{N} x y} |y\\rangle$ \n",
        "\n",
        "\n",
        "The operator is then (\n",
        "We have already seen that the Hadamard gate is self-inverse, and the same is clearly true for the SWAP gate; the inverse of the rotations gate $R_k$ is given by):\n",
        "\n",
        "> The matrix form of inverse QFT operator is: <font color=\"blue\">${R^{\\dagger}}_{k}=\\left(\\begin{array}{cc}1 & 0 \\\\ 0 & e^{-2 \\pi i / 2^{k}}\\end{array}\\right)$</font> and compare with QFT operator:  <font color=\"blue\">$\\hat{R}_{k}=\\left(\\begin{array}{cc}1 & 0 \\\\ 0 & e^{2 \\pi i / 2^{k}}\\end{array}\\right)$\n",
        "\n",
        "https://www.cl.cam.ac.uk/teaching/1920/QuantComp/Quantum_Computing_Lecture_9.pdf"
      ]
    },
    {
      "cell_type": "markdown",
      "source": [
        "###### <font color=\"blue\">*Summary: Example of QFT for 1, 2 and 3 Qubits*"
      ],
      "metadata": {
        "id": "xh6UdmsnMYv6"
      }
    },
    {
      "cell_type": "markdown",
      "source": [
        "Understanding the previous chapter: How the qubit moves in the fourier basis when I add more qubits. Here the example is always computational states are = 1"
      ],
      "metadata": {
        "id": "Axxyrtlq8TNS"
      }
    },
    {
      "cell_type": "markdown",
      "source": [
        "![gg](https://raw.githubusercontent.com/deltorobarba/repo/master/sciences_0775.png)\n"
      ],
      "metadata": {
        "id": "uCkzsj_a73ZF"
      }
    },
    {
      "cell_type": "markdown",
      "source": [
        "![gg](https://raw.githubusercontent.com/deltorobarba/repo/master/sciences_0776.png)\n"
      ],
      "metadata": {
        "id": "X_Zqljf8752V"
      }
    },
    {
      "cell_type": "markdown",
      "source": [
        "> <font color=\"blue\">For $x_1$ = 1 $\\Rightarrow$ $\\tilde{x_1}$</font> = $\\frac{1}{\\sqrt{2}}\\left(|0\\rangle+\\mathrm{e}^{2 \\pi \\mathrm{i}\\left(\\frac{x_1}{2^1}\\right)}|1\\rangle\\right)$ $\\Rightarrow$ $\\mathrm{e}^{2 \\pi \\mathrm{i}\\left(\\frac{1}{2}\\right)}$ = $\\mathrm{e}^{\\pi \\mathrm{i}}$ = Z-Rotation to -1"
      ],
      "metadata": {
        "id": "kw-6Jhev8Q7V"
      }
    },
    {
      "cell_type": "markdown",
      "source": [
        "![gg](https://raw.githubusercontent.com/deltorobarba/repo/master/sciences_0777.png)\n"
      ],
      "metadata": {
        "id": "FcYOVUYX76oT"
      }
    },
    {
      "cell_type": "markdown",
      "source": [
        "*Results for: $x_1$ = 1, $x_2$ = 1*\n",
        "\n",
        "* <font color=\"blue\">$\\tilde{x_1}$ =</font> $\\frac{1}{\\sqrt{2}}\\left(|0\\rangle+\\mathrm{e}^{2 \\pi \\mathrm{i}\\left(\\frac{x_1}{2}+\\frac{x_2}{4}\\right)}|1\\rangle\\right)$ = $\\frac{1}{\\sqrt{2}}\\left(|0\\rangle+\\mathrm{e}^{2 \\pi \\mathrm{i}\\left(\\frac{1}{2}+\\frac{1}{4}\\right)}|1\\rangle\\right)$ = $\\mathrm{e}^{2 \\pi \\mathrm{i}\\left(\\frac{2}{4}+\\frac{1}{4}\\right)}$  = $\\mathrm{e}^{1,5 \\pi \\mathrm{i}}$ Rotation = -i\n",
        "\n",
        "* <font color=\"blue\">$\\tilde{x_2}$ = </font>$\\frac{1}{\\sqrt{2}}\\left(|0\\rangle+\\mathrm{e}^{\\pi \\mathrm{i}x_2}|1\\rangle\\right)$ = $\\frac{1}{\\sqrt{2}}\\left(|0\\rangle+\\mathrm{e}^{\\pi \\mathrm{i}1}|1\\rangle\\right)$ = $\\mathrm{e}^{\\pi \\mathrm{i}}$ Rotation = -1"
      ],
      "metadata": {
        "id": "xJPB07zH8Jkm"
      }
    },
    {
      "cell_type": "markdown",
      "source": [
        "![gg](https://raw.githubusercontent.com/deltorobarba/repo/master/sciences_0778.png)\n"
      ],
      "metadata": {
        "id": "YcyxhLkC77sa"
      }
    },
    {
      "cell_type": "markdown",
      "source": [
        "**Quantum States:** <font color=\"blue\">$\\tilde{x_1}$ = 1</font>, <font color=\"blue\">$\\tilde{x_2}$ = 1</font>, <font color=\"blue\">$\\tilde{x_3}$ = 1</font>. \n",
        "\n",
        "And Qubits always: $k_1$ = 1 qubit, $k_2$ = 2 qubits, $k_3$ = 3 qubits\n",
        "\n",
        "> <font color=\"blue\">Qubit 0 = $\\tilde{x_1}$</font> = $\\frac{1}{\\sqrt{2}}\\left(|0\\rangle+\\mathrm{e}^{2 \\pi \\mathrm{i}\\left(\\frac{\\mathrm{x}_{1}}{2^{k_1}}+\\frac{x_{2}}{2^{k_2}}+\\frac{x_{3}}{2^{k_3}}\\right)}|1\\rangle\\right)$ = $\\frac{1}{\\sqrt{2}}\\left(|0\\rangle+\\mathrm{e}^{2 \\pi \\mathrm{i}\\left(\\frac{1}{2}+\\frac{1}{4}+\\frac{1}{8}\\right)}|1\\rangle\\right)$ = $\\mathrm{e}^{2 \\pi i 0.875} = \\mathrm{e}^{\\pi i 1.75}$\n",
        "\n",
        "> <font color=\"blue\">Qubit 1 = $\\tilde{x_2}$</font> = $\\frac{1}{\\sqrt{2}}\\left(|0\\rangle+\\mathrm{e}^{2 \\pi \\mathrm{i}\\left(\\frac{\\mathrm{x}_{2}}{2^{k_1}}+\\frac{x_{3}}{2^{k_2}}\\right)}|1\\rangle\\right)$ = $\\frac{1}{\\sqrt{2}}\\left(|0\\rangle+\\mathrm{e}^{2 \\pi \\mathrm{i}\\left(\\frac{1}{2}+\\frac{1}{4}\\right)}|1\\rangle\\right)$ = $e^{\\pi i 1.5} =$ <font color=\"blue\">$-i$</font>\n",
        "\n",
        "> <font color=\"blue\">Qubit 2 = $\\tilde{x_3}$</font> = $\\frac{1}{\\sqrt{2}}\\left(|0\\rangle+\\mathrm{e}^{2 \\pi \\mathrm{i}\\left(\\frac{\\mathrm{x}_{3}}{2^{k_1}}\\right)}|1\\rangle\\right)$ = $\\frac{1}{\\sqrt{2}}\\left(|0\\rangle+\\mathrm{e}^{2 \\pi \\mathrm{i} \\frac{1}{2}}|1\\rangle\\right)$ = $e^{\\pi i 1} =$ <font color=\"blue\">$-1$</font>"
      ],
      "metadata": {
        "id": "_xknocdc8AaA"
      }
    },
    {
      "cell_type": "markdown",
      "source": [
        "*Compare the calculation results now with the according rotation gates in each step:*\n",
        "\n",
        "![ggg](https://raw.githubusercontent.com/deltorobarba/repo/master/quantum_076.jpg)\n",
        "\n",
        "https://www.cl.cam.ac.uk/teaching/1920/QuantComp/Quantum_Computing_Lecture_9.pdf"
      ],
      "metadata": {
        "id": "89ga1nadrljc"
      }
    },
    {
      "cell_type": "markdown",
      "source": [
        "###### <font color=\"blue\">*Quantum Fourier Transform with 1 Qubit*"
      ],
      "metadata": {
        "id": "0opsvi1_LeCH"
      }
    },
    {
      "cell_type": "markdown",
      "source": [
        "\n",
        "> <font color=\"blue\">$\\tilde{x_1}$ = $\\frac{1}{\\sqrt{2}}\\left(|0\\rangle+\\mathrm{e}^{2 \\pi \\mathrm{i}\\left(\\frac{x_1}{2^{n_{x_1}}}\\right)}|1\\rangle\\right)$</font> \n",
        "\n",
        "* where qubit state <font color=\"blue\">$x_1$ = state 0</font> or <font color=\"blue\">state 1</font> and number of Qubits <font color=\"blue\">$n_{x_1}$ = 1</font> so that $2^{n_{x_1}} = 2^1 = 2$\n",
        "\n",
        "\n"
      ],
      "metadata": {
        "id": "PhROEs3YHU4C"
      }
    },
    {
      "cell_type": "markdown",
      "source": [
        "> <font color=\"blue\">For $x_1$ = 0 $\\Rightarrow$ $\\tilde{x_1}$</font> = $\\frac{1}{\\sqrt{2}}\\left(|0\\rangle+\\mathrm{e}^{2 \\pi \\mathrm{i}\\left(\\frac{x_1}{2^1}\\right)}|1\\rangle\\right)$  $\\Rightarrow$ $\\mathrm{e}^{2 \\pi \\mathrm{i}\\left(\\frac{0}{2}\\right)}$ = $\\mathrm{e}^{2 \\pi \\mathrm{i} 0}$  = $\\mathrm{e}^{0}$ = 1 (no rotation away from original H superposition)"
      ],
      "metadata": {
        "id": "jBN5_JVHcC8R"
      }
    },
    {
      "cell_type": "markdown",
      "source": [
        "> <font color=\"blue\">For $x_1$ = 1 $\\Rightarrow$ $\\tilde{x_1}$</font> = $\\frac{1}{\\sqrt{2}}\\left(|0\\rangle+\\mathrm{e}^{2 \\pi \\mathrm{i}\\left(\\frac{x_1}{2^1}\\right)}|1\\rangle\\right)$ $\\Rightarrow$ $\\mathrm{e}^{2 \\pi \\mathrm{i}\\left(\\frac{1}{2}\\right)}$ = $\\mathrm{e}^{\\pi \\mathrm{i}}$ = Z-Rotation to -1"
      ],
      "metadata": {
        "id": "yTzi20SUcEoM"
      }
    },
    {
      "cell_type": "markdown",
      "source": [
        "**Quantum Fourier Transform on 1 Qubit = a Hadamard transform!**"
      ],
      "metadata": {
        "id": "WTsjP2ILL4-K"
      }
    },
    {
      "cell_type": "markdown",
      "source": [
        "*This is how the linear transformation from a computation basis state to a Fourier state with 1 qubit looks like:*\n",
        "\n",
        "![ggg](https://raw.githubusercontent.com/deltorobarba/repo/master/quantum_049.png)"
      ],
      "metadata": {
        "id": "SYiaaShMLuqd"
      }
    },
    {
      "cell_type": "markdown",
      "metadata": {
        "id": "pq1iWq1zdZ34"
      },
      "source": [
        "**Quantum Fourier Transform with 1 Qubit is a Hadamard transform!**"
      ]
    },
    {
      "cell_type": "markdown",
      "metadata": {
        "id": "x5kWr5Au0Rf-"
      },
      "source": [
        "*1 Qubit QFT that does this? - Hadamard gate:*"
      ]
    },
    {
      "cell_type": "markdown",
      "metadata": {
        "id": "Apm_2RVZrUTD"
      },
      "source": [
        "**One qubit QFT matrix**: $\\frac{1}{\\sqrt{2}}\\left(\\begin{array}{ll}1 & 1 \\\\ 1 & \\mathrm{e}^{\\pi i}\\end{array}\\right)$, where $\\mathrm{e}^{\\pi \\mathrm{i}}$ = -1. So it is: <font color=\"blue\"> QFT für x=1 = $\\frac{1}{\\sqrt{2}}\\left(\\begin{array}{ll}1 & 1 \\\\ 1 & -1\\end{array}\\right)$\n",
        "\n",
        "**Compare with Hadamard transform matrix:** \n",
        "\n",
        "In quantum computing, the Hadamard gate is a one-qubit rotation, mapping the qubitbasis states $|0\\rangle$ and $|1\\rangle$ to two **superposition** states with **equal weight of the computational basis** states $|0\\rangle$ and $|1\\rangle$. Usually the phases are chosen so that\n",
        "\n",
        ">$\n",
        "H=\\frac{|0\\rangle+|1\\rangle}{\\sqrt{2}}\\langle 0|+\\frac{|0\\rangle-|1\\rangle}{\\sqrt{2}}\\langle 1|\n",
        "$\n",
        "\n",
        "in Dirac notation. This corresponds to the transformation matrix\n",
        "\n",
        "> <font color=\"blue\">$\n",
        "H_{1}=\\frac{1}{\\sqrt{2}}\\left(\\begin{array}{cc}\n",
        "1 & 1 \\\\\n",
        "1 & -1\n",
        "\\end{array}\\right)\n",
        "$\n",
        "\n",
        "in the $|0\\rangle,|1\\rangle$ basis, also known as the computational basis. The states $\\frac{|0\\rangle+|1\\rangle}{\\sqrt{2}}$ and $\\frac{|0\\rangle-|1\\rangle}{\\sqrt{2}}$ are known as $|+\\rangle$ and $|-\\rangle$ respectively, and together constitute the polar basis in quantum computing."
      ]
    },
    {
      "cell_type": "markdown",
      "metadata": {
        "id": "hWPlZI5_0GFZ"
      },
      "source": [
        "![ggg](https://raw.githubusercontent.com/deltorobarba/repo/master/quantum_049.png)"
      ]
    },
    {
      "cell_type": "markdown",
      "metadata": {
        "id": "5DTee1BBuWBb"
      },
      "source": [
        "Follow and try movement here for 0: H Gate. For 1: X gate followed bz H gate:\n",
        "\n",
        "* https://javafxpert.github.io/grok-bloch/\n",
        "\n",
        "* https://www.st-andrews.ac.uk/physics/quvis/simulations_html5/sims/blochsphere/blochsphere.html"
      ]
    },
    {
      "cell_type": "markdown",
      "metadata": {
        "id": "i83SjI5NV8vq"
      },
      "source": [
        "![ggg](https://raw.githubusercontent.com/deltorobarba/repo/master/quantum_073.jpg)\n",
        "\n",
        "https://demonstrations.wolfram.com/QuantumFourierTransformCircuit/"
      ]
    },
    {
      "cell_type": "markdown",
      "metadata": {
        "id": "-LpKkI-GcJEl"
      },
      "source": [
        "Reminder: QFT Formel:\n",
        "\n",
        "![ggg](https://raw.githubusercontent.com/deltorobarba/repo/master/quantum_047.png)"
      ]
    },
    {
      "cell_type": "markdown",
      "metadata": {
        "id": "kaeJVJrb2EFU"
      },
      "source": [
        "**Why Hadamard transform is exactly a 1 qubit Quantum Fourier Transform:** (see result of + for 0 state and - for 1 state)"
      ]
    },
    {
      "cell_type": "markdown",
      "metadata": {
        "id": "8u4NwBOOwNgn"
      },
      "source": [
        "Siehe oben unter 'Mathermatik\": Matrix-Vector-Multiplication (Single Qubit)\n",
        "\n",
        "> <font color=\"blue\">$H |0\\rangle$</font> $ = \\frac{1}{\\sqrt{2}}\\left(\\begin{array}{cc}1 & 1 \\\\ 1 & -1\\end{array}\\right)\\left[\\begin{array}{l}1 \\\\ 0\\end{array}\\right] =\\frac{1}{\\sqrt{2}}\\left[\\begin{array}{c}1 \\\\ 1\\end{array}\\right]$ <font color=\"blue\">$ \\,\\,= |+\\rangle$ = $\\frac{1}{\\sqrt{2}}(|0\\rangle+|1\\rangle)$\n",
        "\n",
        "> <font color=\"blue\">$H |1\\rangle$</font>$ = \\frac{1}{\\sqrt{2}}\\left(\\begin{array}{cc}1 & 1 \\\\ 1 & -1\\end{array}\\right)\\left[\\begin{array}{l}0 \\\\ 1\\end{array}\\right]=\\frac{1}{\\sqrt{2}}\\left[\\begin{array}{c}1 \\\\ -1\\end{array}\\right]$ <font color=\"blue\">$ = |-\\rangle$ = $\\frac{1}{\\sqrt{2}}(|0\\rangle-|1\\rangle)$\n",
        "\n",
        "$|+\\rangle=\\frac{1}{\\sqrt{2}}(|0\\rangle+|1\\rangle)$ weil <font color=\"gray\">wegen $|0\\rangle=\\left[\\begin{array}{l}1 \\\\ 0\\end{array}\\right]$ und $|1\\rangle=\\left[\\begin{array}{l}0 \\\\ 1\\end{array}\\right]$ daher:</font> $\\frac{1}{\\sqrt{2}}\\left[\\begin{array}{ll}1 + 0 \\\\ 0 + 1\\end{array}\\right]=\\frac{1}{\\sqrt{2}}\\left[\\begin{array}{c}1 \\\\ 1\\end{array}\\right]$\n",
        "\n",
        "$|-\\rangle=\\frac{1}{\\sqrt{2}}(|0\\rangle-|1\\rangle)$ weil: $\\frac{1}{\\sqrt{2}}\\left[\\begin{array}{ll}1 - 0 \\\\ 0 - 1\\end{array}\\right]=\\frac{1}{\\sqrt{2}}\\left[\\begin{array}{c}1 \\\\ -1\\end{array}\\right]$"
      ]
    },
    {
      "cell_type": "markdown",
      "metadata": {
        "id": "kxOMDIlC2Cwx"
      },
      "source": [
        "![ggg](https://raw.githubusercontent.com/deltorobarba/repo/master/quantum_045.png)"
      ]
    },
    {
      "cell_type": "markdown",
      "metadata": {
        "id": "LxcZhaiAdcXr"
      },
      "source": [
        "2 im denominator verschwindet hier. 2^n für n=1 qubit. mit 2 oben und unten verschwinden beide."
      ]
    },
    {
      "cell_type": "markdown",
      "source": [
        "###### <font color=\"blue\">*Quantum Fourier Transform with 2 Qubits*"
      ],
      "metadata": {
        "id": "NE0F8WKOLpWz"
      }
    },
    {
      "cell_type": "markdown",
      "source": [
        "**For 2 qubits we have 2 different formulas each for $\\tilde{x_1}$ and for $\\tilde{x_2}$:**\n"
      ],
      "metadata": {
        "id": "AJMFA5KROnFU"
      }
    },
    {
      "cell_type": "markdown",
      "source": [
        "\n",
        "> For <font color=\"blue\">$\\tilde{x_1}$ = $\\frac{1}{\\sqrt{2}}\\left(|0\\rangle+\\mathrm{e}^{2 \\pi \\mathrm{i}\\left(\\frac{x_1}{2^{n_{x_1}}}+\\frac{x_2}{2^{n_{x_2}}}\\right)}|1\\rangle\\right)$</font> = $\\frac{1}{\\sqrt{2}}\\left(|0\\rangle+\\mathrm{e}^{2 \\pi \\mathrm{i}\\left(\\frac{x_1}{2^1}+\\frac{x_2}{2^2}\\right)}|1\\rangle\\right)$ = $\\frac{1}{\\sqrt{2}}\\left(|0\\rangle+\\mathrm{e}^{2 \\pi \\mathrm{i}\\left(\\frac{x_1}{2}+\\frac{x_2}{4}\\right)}|1\\rangle\\right)$\n",
        "\n",
        "* If only $\\tilde{x_1}$ is activated = 1, then it is a Z-Rotation in the value of $\\pi$ = -1\n",
        "\n",
        "* If only $\\tilde{x_2}$ activated = 1, then it is a S-Rotation in the value of $\\frac{\\pi}{2}$ = i\n",
        "\n",
        "* If both $\\tilde{x_1}$ and $\\tilde{x_2}$ are activated = 1, then it is a  Rotation $\\pi$ + $\\frac{\\pi}{2}$, in the value of -i\n",
        "\n",
        "\n",
        "\n"
      ],
      "metadata": {
        "id": "j8znuQ8mKX-w"
      }
    },
    {
      "cell_type": "markdown",
      "source": [
        "> For <font color=\"blue\">$\\tilde{x_2}$ = $\\frac{1}{\\sqrt{2}}\\left(|0\\rangle+\\mathrm{e}^{2 \\pi \\mathrm{i}\\left(\\frac{x_2}{2^{n_{x_1}}}\\right)}|1\\rangle\\right)$</font> = $\\frac{1}{\\sqrt{2}}\\left(|0\\rangle+\\mathrm{e}^{2 \\pi \\mathrm{i}\\left(\\frac{x_2}{2^1}\\right)}|1\\rangle\\right)$ = $\\frac{1}{\\sqrt{2}}\\left(|0\\rangle+\\mathrm{e}^{\\pi \\mathrm{i}x_2}|1\\rangle\\right)$\n",
        "\n",
        "* Falls aktiviert, dann ist $\\tilde{x_2}$ immer eine Z-Rotation im Wert von $\\pi$.\n"
      ],
      "metadata": {
        "id": "iO6CYrEVOpTr"
      }
    },
    {
      "cell_type": "markdown",
      "source": [
        "**See here the quantum fourier transform calculation for each qubit in different computational states:**"
      ],
      "metadata": {
        "id": "dLL7YqWbZ93y"
      }
    },
    {
      "cell_type": "markdown",
      "metadata": {
        "id": "CrAP7muZY6PM"
      },
      "source": [
        "*Results for 0: $x_1$ = 0, $x_2$ = 0*\n",
        "\n",
        "* <font color=\"blue\">$\\tilde{x_1}$ =</font> $\\frac{1}{\\sqrt{2}}\\left(|0\\rangle+\\mathrm{e}^{2 \\pi \\mathrm{i}\\left(\\frac{x_1}{2}+\\frac{x_2}{4}\\right)}|1\\rangle\\right)$ = $\\frac{1}{\\sqrt{2}}\\left(|0\\rangle+\\mathrm{e}^{2 \\pi \\mathrm{i}\\left(\\frac{0}{2}+\\frac{0}{4}\\right)}|1\\rangle\\right)$  = $\\mathrm{e}^{2 \\pi \\mathrm{i} 0}$ = $\\mathrm{e}^{0}$ = 1 (no rotation away from original H superposition)\n",
        "\n",
        "* <font color=\"blue\">$\\tilde{x_2}$ = </font>$\\frac{1}{\\sqrt{2}}\\left(|0\\rangle+\\mathrm{e}^{\\pi \\mathrm{i}x_2}|1\\rangle\\right)$ = $\\frac{1}{\\sqrt{2}}\\left(|0\\rangle+\\mathrm{e}^{\\pi \\mathrm{i}0}|1\\rangle\\right)$ = $\\mathrm{e}^{0}$ = 1 (no rotation away from original H superposition)"
      ]
    },
    {
      "cell_type": "markdown",
      "metadata": {
        "id": "-GjFcdiVaHnK"
      },
      "source": [
        "*Results for 1: $x_1$ = 0, $x_2$ = 1*\n",
        "\n",
        "* <font color=\"blue\">$\\tilde{x_1}$ =</font> $\\frac{1}{\\sqrt{2}}\\left(|0\\rangle+\\mathrm{e}^{2 \\pi \\mathrm{i}\\left(\\frac{x_1}{2}+\\frac{x_2}{4}\\right)}|1\\rangle\\right)$ = $\\frac{1}{\\sqrt{2}}\\left(|0\\rangle+\\mathrm{e}^{2 \\pi \\mathrm{i}\\left(\\frac{0}{2}+\\frac{1}{4}\\right)}|1\\rangle\\right)$ = $\\mathrm{e}^{2 \\pi \\mathrm{i}\\left(\\frac{1}{4}\\right)}$  = $\\mathrm{e}^{\\frac{\\pi }{2}\\mathrm{i}}$ Rotation = i\n",
        "\n",
        "* <font color=\"blue\">$\\tilde{x_2}$ = </font>$\\frac{1}{\\sqrt{2}}\\left(|0\\rangle+\\mathrm{e}^{\\pi \\mathrm{i}x_2}|1\\rangle\\right)$ = $\\frac{1}{\\sqrt{2}}\\left(|0\\rangle+\\mathrm{e}^{\\pi \\mathrm{i}1}|1\\rangle\\right)$ = $\\mathrm{e}^{\\pi \\mathrm{i}}$ Rotation = -1"
      ]
    },
    {
      "cell_type": "markdown",
      "metadata": {
        "id": "z7kKULRCbwEm"
      },
      "source": [
        "*Results for 2: $x_1$ = 1, $x_2$ = 0*\n",
        "\n",
        "* <font color=\"blue\">$\\tilde{x_1}$ =</font> $\\frac{1}{\\sqrt{2}}\\left(|0\\rangle+\\mathrm{e}^{2 \\pi \\mathrm{i}\\left(\\frac{x_1}{2}+\\frac{x_2}{4}\\right)}|1\\rangle\\right)$ = $\\frac{1}{\\sqrt{2}}\\left(|0\\rangle+\\mathrm{e}^{2 \\pi \\mathrm{i}\\left(\\frac{1}{2}+\\frac{0}{4}\\right)}|1\\rangle\\right)$ = $\\mathrm{e}^{2 \\pi \\mathrm{i}\\left(\\frac{1}{2}\\right)}$  = $\\mathrm{e}^{\\pi \\mathrm{i}}$ Rotation = -1\n",
        "\n",
        "* <font color=\"blue\">$\\tilde{x_2}$ = </font>$\\frac{1}{\\sqrt{2}}\\left(|0\\rangle+\\mathrm{e}^{\\pi \\mathrm{i}x_2}|1\\rangle\\right)$ = $\\frac{1}{\\sqrt{2}}\\left(|0\\rangle+\\mathrm{e}^{\\pi \\mathrm{i}1}|1\\rangle\\right)$ = $\\mathrm{e}^{\\pi \\mathrm{i}}$ Rotation = -1"
      ]
    },
    {
      "cell_type": "markdown",
      "metadata": {
        "id": "IdQm-1FyUCv7"
      },
      "source": [
        "*Results for 3: $x_1$ = 1, $x_2$ = 1*\n",
        "\n",
        "* <font color=\"blue\">$\\tilde{x_1}$ =</font> $\\frac{1}{\\sqrt{2}}\\left(|0\\rangle+\\mathrm{e}^{2 \\pi \\mathrm{i}\\left(\\frac{x_1}{2}+\\frac{x_2}{4}\\right)}|1\\rangle\\right)$ = $\\frac{1}{\\sqrt{2}}\\left(|0\\rangle+\\mathrm{e}^{2 \\pi \\mathrm{i}\\left(\\frac{1}{2}+\\frac{1}{4}\\right)}|1\\rangle\\right)$ = $\\mathrm{e}^{2 \\pi \\mathrm{i}\\left(\\frac{2}{4}+\\frac{1}{4}\\right)}$  = $\\mathrm{e}^{1,5 \\pi \\mathrm{i}}$ Rotation = -i\n",
        "\n",
        "* <font color=\"blue\">$\\tilde{x_2}$ = </font>$\\frac{1}{\\sqrt{2}}\\left(|0\\rangle+\\mathrm{e}^{\\pi \\mathrm{i}x_2}|1\\rangle\\right)$ = $\\frac{1}{\\sqrt{2}}\\left(|0\\rangle+\\mathrm{e}^{\\pi \\mathrm{i}1}|1\\rangle\\right)$ = $\\mathrm{e}^{\\pi \\mathrm{i}}$ Rotation = -1"
      ]
    },
    {
      "cell_type": "markdown",
      "source": [
        "![ggg](https://raw.githubusercontent.com/deltorobarba/repo/master/sciences_0774.png)\n"
      ],
      "metadata": {
        "id": "nWRVldK2MA0y"
      }
    },
    {
      "cell_type": "markdown",
      "source": [
        "###### <font color=\"blue\">*Quantum Fourier Transform with 3 Qubits*"
      ],
      "metadata": {
        "id": "bbnzkqNwQ_xU"
      }
    },
    {
      "cell_type": "markdown",
      "source": [
        "**For 3 qubits we have 3 different formulas each for $\\tilde{x_1}$, for $\\tilde{x_2}$ and for $\\tilde{x_3}$:**\n"
      ],
      "metadata": {
        "id": "PBpXpiRsREWS"
      }
    },
    {
      "cell_type": "markdown",
      "source": [
        "> <font color=\"blue\">$\\tilde{x_1}$ = $\\frac{1}{\\sqrt{2}}\\left(|0\\rangle+\\mathrm{e}^{2 \\pi \\mathrm{i}\\left(\\frac{\\mathrm{x}_{1}}{2^{n_{x_1}}}+\\frac{x_{2}}{2^{n_{x_2}}}+\\frac{x_{3}}{2^{n_{x_3}}}\\right)}|1\\rangle\\right)$</font> = $\\frac{1}{\\sqrt{2}}\\left(|0\\rangle+\\mathrm{e}^{2 \\pi \\mathrm{i}\\left(\\frac{\\mathrm{x}_{1}}{2^1}+\\frac{x_{2}}{2^2}+\\frac{x_{3}}{2^3}\\right)}|1\\rangle\\right)$  = $\\frac{1}{\\sqrt{2}}\\left(|0\\rangle+\\mathrm{e}^{2 \\pi \\mathrm{i}\\left(\\frac{\\mathrm{x}_{1}}{2}+\\frac{x_{2}}{4}+\\frac{x_{3}}{8}\\right)}|1\\rangle\\right)$\n",
        "\n",
        "* Falls nur $\\tilde{x_1}$ aktiviert, dann ist es eine Z-Rotation im Wert von $\\pi$ = -1\n",
        "\n",
        "* Falls nur $\\tilde{x_2}$ aktiviert, dann ist es eine S-Rotation im Wert von $\\frac{\\pi}{2}$ = i\n",
        "\n",
        "* Falls nur $\\tilde{x_3}$ aktiviert, dann ist es eine T-Rotation im Wert von $\\frac{\\pi}{4}$ = zwischen 1 und i\n"
      ],
      "metadata": {
        "id": "rdFVVjVqQ8JK"
      }
    },
    {
      "cell_type": "markdown",
      "source": [
        "> <font color=\"blue\">$\\tilde{x_2}$ = $\\frac{1}{\\sqrt{2}}\\left(|0\\rangle+\\mathrm{e}^{2 \\pi \\mathrm{i}\\left(\\frac{x_2}{2^{n_{x_1}}}+\\frac{x_3}{2^{n_{x_2}}}\\right)}|1\\rangle\\right)$</font> = $\\frac{1}{\\sqrt{2}}\\left(|0\\rangle+\\mathrm{e}^{2 \\pi \\mathrm{i}\\left(\\frac{x_2}{2^1}+\\frac{x_3}{2^2}\\right)}|1\\rangle\\right)$ = $\\frac{1}{\\sqrt{2}}\\left(|0\\rangle+\\mathrm{e}^{2 \\pi \\mathrm{i}\\left(\\frac{x_2}{2}+\\frac{x_3}{4}\\right)}|1\\rangle\\right)$\n",
        "\n",
        "* Falls nur $\\tilde{x_2}$ aktiviert, dann ist es eine Z-Rotation im Wert von $\\pi$ = -1\n",
        "\n",
        "* Falls nur $\\tilde{x_3}$ aktiviert, dann ist es eine S-Rotation im Wert von $\\frac{\\pi}{2}$ = i\n",
        "\n",
        "* Falls beide $\\tilde{x_2}$ und $\\tilde{x_3}$ aktiviert, dann ist es eine Rotation $\\pi$ + $\\frac{\\pi}{2}$ = -i"
      ],
      "metadata": {
        "id": "2FQ-is0hRPHq"
      }
    },
    {
      "cell_type": "markdown",
      "source": [
        "> <font color=\"blue\">$\\tilde{x_3}$ = $\\frac{1}{\\sqrt{2}}\\left(|0\\rangle+\\mathrm{e}^{2 \\pi \\mathrm{i}\\left(\\frac{x_3}{2^{n_{x_1}}}\\right)}|1\\rangle\\right)$</font> = $\\frac{1}{\\sqrt{2}}\\left(|0\\rangle+\\mathrm{e}^{2 \\pi \\mathrm{i}\\left(\\frac{x_3}{2^1}\\right)}|1\\rangle\\right)$ = $\\frac{1}{\\sqrt{2}}\\left(|0\\rangle+\\mathrm{e}^{\\pi \\mathrm{i}x_3}|1\\rangle\\right)$\n",
        "\n",
        "* Falls aktiviert, dann ist $\\tilde{x_3}$ immer eine Z-Rotation im Wert von $\\pi$."
      ],
      "metadata": {
        "id": "ymL4nmOKRNM7"
      }
    },
    {
      "cell_type": "markdown",
      "metadata": {
        "id": "Vtk6rwPMzvBs"
      },
      "source": [
        "![ggg](https://raw.githubusercontent.com/deltorobarba/repo/master/quantum_075.jpg)"
      ]
    },
    {
      "cell_type": "markdown",
      "source": [
        "**See here the quantum fourier transform calculation for each qubit in different computational states:**"
      ],
      "metadata": {
        "id": "_2k99rSUaGQY"
      }
    },
    {
      "cell_type": "markdown",
      "metadata": {
        "id": "JIpnDOQD0M8V"
      },
      "source": [
        "![ggg](https://raw.githubusercontent.com/deltorobarba/repo/master/quantum_050.png)"
      ]
    },
    {
      "cell_type": "markdown",
      "metadata": {
        "id": "Qz0azdIL3W5N"
      },
      "source": [
        "![ggg](https://raw.githubusercontent.com/deltorobarba/repo/master/quantum_069.png)"
      ]
    },
    {
      "cell_type": "markdown",
      "source": [
        "**Quantum States:** <font color=\"blue\">$\\tilde{x_1}$ = 0</font>, <font color=\"blue\">$\\tilde{x_2}$ = 0</font>, <font color=\"blue\">$\\tilde{x_3}$ = 0</font>. \n",
        "\n",
        "And Qubits always: $k_1$ = 1 qubit, $k_2$ = 2 qubits, $k_3$ = 3 qubits\n",
        "\n",
        "> <font color=\"blue\">Qubit 0 = $\\tilde{x_1}$</font> = $\\frac{1}{\\sqrt{2}}\\left(|0\\rangle+\\mathrm{e}^{2 \\pi \\mathrm{i}\\left(\\frac{\\mathrm{x}_{1}}{2^{k_1}}+\\frac{x_{2}}{2^{k_2}}+\\frac{x_{3}}{2^{k_3}}\\right)}|1\\rangle\\right)$ = $\\frac{1}{\\sqrt{2}}\\left(|0\\rangle+\\mathrm{e}^{2 \\pi \\mathrm{i}\\left(\\frac{0}{2}+\\frac{0}{4}+\\frac{0}{8}\\right)}|1\\rangle\\right)$ = $\\mathrm{e}^{\\pi i 0} =$ <font color=\"blue\">$1$</font>\n",
        "\n",
        "> <font color=\"blue\">Qubit 1 = $\\tilde{x_2}$</font> = $\\frac{1}{\\sqrt{2}}\\left(|0\\rangle+\\mathrm{e}^{2 \\pi \\mathrm{i}\\left(\\frac{\\mathrm{x}_{2}}{2^{k_1}}+\\frac{x_{3}}{2^{k_2}}\\right)}|1\\rangle\\right)$ = $\\frac{1}{\\sqrt{2}}\\left(|0\\rangle+\\mathrm{e}^{2 \\pi \\mathrm{i}\\left(\\frac{0}{2}+\\frac{0}{4}\\right)}|1\\rangle\\right)$ = $e^{\\pi i 0} =$ <font color=\"blue\">$1$</font>\n",
        "\n",
        "> <font color=\"blue\">Qubit 2 = $\\tilde{x_3}$</font> = $\\frac{1}{\\sqrt{2}}\\left(|0\\rangle+\\mathrm{e}^{2 \\pi \\mathrm{i}\\left(\\frac{\\mathrm{x}_{3}}{2^{k_1}}\\right)}|1\\rangle\\right)$ = $\\frac{1}{\\sqrt{2}}\\left(|0\\rangle+\\mathrm{e}^{2 \\pi \\mathrm{i} \\frac{0}{2}}|1\\rangle\\right)$ = $e^{\\pi i 0} =$ <font color=\"blue\">$1$</font>"
      ],
      "metadata": {
        "id": "Gq-hryv1Xc2L"
      }
    },
    {
      "cell_type": "markdown",
      "metadata": {
        "id": "RPai3gA7zQmV"
      },
      "source": [
        "![ggg](https://raw.githubusercontent.com/deltorobarba/repo/master/quantum_051.png)"
      ]
    },
    {
      "cell_type": "markdown",
      "metadata": {
        "id": "L9RtUh5w3Z6j"
      },
      "source": [
        "![ggg](https://raw.githubusercontent.com/deltorobarba/repo/master/quantum_070.png)"
      ]
    },
    {
      "cell_type": "markdown",
      "source": [
        "**Quantum States:** <font color=\"blue\">$\\tilde{x_1}$ = 0</font>, <font color=\"blue\">$\\tilde{x_2}$ = 0</font>, <font color=\"blue\">$\\tilde{x_3}$ = 1</font>\n",
        "\n",
        "> <font color=\"blue\">$\\tilde{x_1}$</font> = $\\frac{1}{\\sqrt{2}}\\left(|0\\rangle+\\mathrm{e}^{2 \\pi \\mathrm{i}\\left(\\frac{\\mathrm{x}_{1}}{2}+\\frac{x_{2}}{4}+\\frac{x_{3}}{8}\\right)}|1\\rangle\\right)$ = $\\frac{1}{\\sqrt{2}}\\left(|0\\rangle+\\mathrm{e}^{2 \\pi \\mathrm{i}\\left(\\frac{0}{2}+\\frac{0}{4}+\\frac{1}{8}\\right)}|1\\rangle\\right)$ = $\\mathrm{e}^{\\pi \\mathrm{i}/2}$ for qubit 0\n",
        "\n",
        "> <font color=\"blue\">$\\tilde{x_2}$</font> = $\\frac{1}{\\sqrt{2}}\\left(|0\\rangle+\\mathrm{e}^{2 \\pi \\mathrm{i}\\left(\\frac{0}{2}+\\frac{1}{4}\\right)}|1\\rangle\\right)$ = $e^{\\pi i 0,25} = -1 $ for qubit 1\n",
        "\n",
        "> <font color=\"blue\">$\\tilde{x_3}$</font> = $\\frac{1}{\\sqrt{2}}\\left(|0\\rangle+\\mathrm{e}^{\\pi \\mathrm{i} 1}|1\\rangle\\right)$ = $e^{\\pi i} = -1$ for qubit 2"
      ],
      "metadata": {
        "id": "22rQkfWHW7G-"
      }
    },
    {
      "cell_type": "markdown",
      "metadata": {
        "id": "CAjSjT0B3baV"
      },
      "source": [
        "![ggg](https://raw.githubusercontent.com/deltorobarba/repo/master/quantum_071.png)"
      ]
    },
    {
      "cell_type": "markdown",
      "metadata": {
        "id": "mv4JG6CpgZx9"
      },
      "source": [
        "**Quantum States:** <font color=\"blue\">$\\tilde{x_1}$ = 0</font>, <font color=\"blue\">$\\tilde{x_2}$ = 1</font>, <font color=\"blue\">$\\tilde{x_3}$ = 0</font>\n",
        "\n",
        "> <font color=\"blue\">$\\tilde{x_1}$</font> = $\\frac{1}{\\sqrt{2}}\\left(|0\\rangle+\\mathrm{e}^{2 \\pi \\mathrm{i}\\left(\\frac{\\mathrm{x}_{1}}{2}+\\frac{x_{2}}{4}+\\frac{x_{3}}{8}\\right)}|1\\rangle\\right)$ = $\\frac{1}{\\sqrt{2}}\\left(|0\\rangle+\\mathrm{e}^{2 \\pi \\mathrm{i}\\left(\\frac{0}{2}+\\frac{1}{4}+\\frac{0}{8}\\right)}|1\\rangle\\right)$ = $\\mathrm{e}^{\\pi \\mathrm{i}/2}$ = qubit 0\n",
        "\n",
        "> <font color=\"blue\">$\\tilde{x_2}$</font> = $\\frac{1}{\\sqrt{2}}\\left(|0\\rangle+\\mathrm{e}^{2 \\pi \\mathrm{i}\\left(\\frac{1}{2}+\\frac{0}{4}\\right)}|1\\rangle\\right)$ = $e^{\\pi i} = -1 $ = qubit 1\n",
        "\n",
        "> <font color=\"blue\">$\\tilde{x_3}$</font> = $\\frac{1}{\\sqrt{2}}\\left(|0\\rangle+\\mathrm{e}^{\\pi \\mathrm{i} 0}|1\\rangle\\right)$ = $e^{\\pi i 0} = 1$ = qubit 2"
      ]
    },
    {
      "cell_type": "markdown",
      "metadata": {
        "id": "SOibyHr_3crV"
      },
      "source": [
        "![ggg](https://raw.githubusercontent.com/deltorobarba/repo/master/quantum_072.png)"
      ]
    },
    {
      "cell_type": "markdown",
      "metadata": {
        "id": "8ryBG3pd0GiR"
      },
      "source": [
        "**Quantum States:** <font color=\"blue\">$\\tilde{x_1}$ = 0</font>, <font color=\"blue\">$\\tilde{x_2}$ = 1</font>, <font color=\"blue\">$\\tilde{x_3}$ = 1</font>\n",
        "\n",
        "> <font color=\"blue\">$\\tilde{x_1}$</font> = $\\frac{1}{\\sqrt{2}}\\left(|0\\rangle+\\mathrm{e}^{2 \\pi i\\left(\\frac{x_{1}}{2}+\\frac{x_{2}}{4}+\\frac{x_{3}}{8}\\right)}|1\\rangle\\right)$ = $e^{2* \\pi i (1/4 + 1/8)}$ = $e^{0,75 \\pi i}$ = qubit 0\n",
        "\n",
        "> <font color=\"blue\">$\\tilde{x_2}$</font> = $\\frac{1}{\\sqrt{2}}\\left(|0\\rangle+\\mathrm{e}^{2 \\pi i\\left(\\frac{x_{2}}{2}+\\frac{x_{3}}{4}\\right)}|1\\rangle\\right)$ = $e^{1,5* \\pi i}$ = $e^{i 3*\\pi/2}$ =  -i = qubit 1\n",
        "\n",
        "> <font color=\"blue\">$\\tilde{x_3}$</font> = $\\frac{1}{\\sqrt{2}}\\left(|0\\rangle+\\mathrm{e}^{\\pi i x_3}|1\\rangle\\right)$ = $e^{\\pi i 1}$ = -1 (Hadamard negativ) fur qubit 2"
      ]
    },
    {
      "cell_type": "markdown",
      "source": [
        "For computational state = 111:\n",
        "\n",
        "![gg](https://raw.githubusercontent.com/deltorobarba/repo/master/sciences_0778.png)\n"
      ],
      "metadata": {
        "id": "NjmJuXse849E"
      }
    },
    {
      "cell_type": "markdown",
      "source": [
        "**Quantum States:** <font color=\"blue\">$\\tilde{x_1}$ = 1</font>, <font color=\"blue\">$\\tilde{x_2}$ = 1</font>, <font color=\"blue\">$\\tilde{x_3}$ = 1</font>. \n",
        "\n",
        "And Qubits always: $k_1$ = 1 qubit, $k_2$ = 2 qubits, $k_3$ = 3 qubits\n",
        "\n",
        "> <font color=\"blue\">Qubit 0 = $\\tilde{x_1}$</font> = $\\frac{1}{\\sqrt{2}}\\left(|0\\rangle+\\mathrm{e}^{2 \\pi \\mathrm{i}\\left(\\frac{\\mathrm{x}_{1}}{2^{k_1}}+\\frac{x_{2}}{2^{k_2}}+\\frac{x_{3}}{2^{k_3}}\\right)}|1\\rangle\\right)$ = $\\frac{1}{\\sqrt{2}}\\left(|0\\rangle+\\mathrm{e}^{2 \\pi \\mathrm{i}\\left(\\frac{1}{2}+\\frac{1}{4}+\\frac{1}{8}\\right)}|1\\rangle\\right)$ = $\\mathrm{e}^{2 \\pi i 0.875} = \\mathrm{e}^{\\pi i 1.75}$\n",
        "\n",
        "> <font color=\"blue\">Qubit 1 = $\\tilde{x_2}$</font> = $\\frac{1}{\\sqrt{2}}\\left(|0\\rangle+\\mathrm{e}^{2 \\pi \\mathrm{i}\\left(\\frac{\\mathrm{x}_{2}}{2^{k_1}}+\\frac{x_{3}}{2^{k_2}}\\right)}|1\\rangle\\right)$ = $\\frac{1}{\\sqrt{2}}\\left(|0\\rangle+\\mathrm{e}^{2 \\pi \\mathrm{i}\\left(\\frac{1}{2}+\\frac{1}{4}\\right)}|1\\rangle\\right)$ = $e^{\\pi i 1.5} =$ <font color=\"blue\">$-i$</font>\n",
        "\n",
        "> <font color=\"blue\">Qubit 2 = $\\tilde{x_3}$</font> = $\\frac{1}{\\sqrt{2}}\\left(|0\\rangle+\\mathrm{e}^{2 \\pi \\mathrm{i}\\left(\\frac{\\mathrm{x}_{3}}{2^{k_1}}\\right)}|1\\rangle\\right)$ = $\\frac{1}{\\sqrt{2}}\\left(|0\\rangle+\\mathrm{e}^{2 \\pi \\mathrm{i} \\frac{1}{2}}|1\\rangle\\right)$ = $e^{\\pi i 1} =$ <font color=\"blue\">$-1$</font>"
      ],
      "metadata": {
        "id": "91oxP_BC29Mp"
      }
    },
    {
      "cell_type": "markdown",
      "metadata": {
        "id": "7mbLlEbFgAZs"
      },
      "source": [
        "###### *Compactify Original formula for Quantum Fourier Transform*"
      ]
    },
    {
      "cell_type": "markdown",
      "source": [
        "https://jonathan-hui.medium.com/qc-quantum-fourier-transform-45436f90a43"
      ],
      "metadata": {
        "id": "uFabANRwbDwx"
      }
    },
    {
      "cell_type": "markdown",
      "source": [
        "![ggg](https://raw.githubusercontent.com/deltorobarba/repo/master/quantum_041.JPG)"
      ],
      "metadata": {
        "id": "Rut1VGrL2Qim"
      }
    },
    {
      "cell_type": "markdown",
      "source": [
        "https://qiskit.org/textbook/ch-algorithms/quantum-fourier-transform.html"
      ],
      "metadata": {
        "id": "6f3uqFx1435c"
      }
    },
    {
      "cell_type": "markdown",
      "metadata": {
        "id": "ATRazkgUWDMc"
      },
      "source": [
        "* the [quantum Fourier transform](https://en.m.wikipedia.org/wiki/Quantum_Fourier_transform) (for short: QFT) is a linear transformation on quantum bits, and is the quantum analogue of the inverse discrete Fourier transform.\n",
        "\n",
        "> The quantum Fourier transform is the classical discrete Fourier transform applied to the vector of amplitudes of a quantum state\n",
        "\n",
        "* The quantum Fourier transform is a part of many quantum algorithms, notably Shor's algorithm for factoring and computing the discrete logarithm, the quantum phase estimation algorithm for estimating the eigenvalues of a unitary operator, and algorithms for the hidden subgroup problem. \n",
        "\n",
        "* The quantum Fourier transform was invented by Don Coppersmith.\n",
        "\n",
        "* The quantum Fourier transform can be performed efficiently on a quantum computer, with a particular decomposition into a product of simpler unitary matrices. \n",
        "\n",
        "* However, the quantum Fourier transform acts on a quantum state, whereas the classical Fourier transform acts on a vector, so not every task that uses the classical Fourier transform can take advantage of this exponential speedup."
      ]
    },
    {
      "cell_type": "markdown",
      "metadata": {
        "id": "d7o0zqlNE2GS"
      },
      "source": [
        "**Prerequisite (Update)**"
      ]
    },
    {
      "cell_type": "markdown",
      "metadata": {
        "id": "pjpCeYCKp8vb"
      },
      "source": [
        "![ggg](https://raw.githubusercontent.com/deltorobarba/repo/master/quantum_046.png)"
      ]
    },
    {
      "cell_type": "markdown",
      "metadata": {
        "id": "eLwk5kVIqSPq"
      },
      "source": [
        "**Formula for Quantum Fourier Transform:**"
      ]
    },
    {
      "cell_type": "markdown",
      "metadata": {
        "id": "Au75iji5p-ny"
      },
      "source": [
        "![ggg](https://raw.githubusercontent.com/deltorobarba/repo/master/quantum_047.png)"
      ]
    },
    {
      "cell_type": "markdown",
      "metadata": {
        "id": "ElE7SA05X5sL"
      },
      "source": [
        "So the QFT can be implemented with a series of the controlled-R gate as below:\n",
        "\n",
        "![ggg](https://raw.githubusercontent.com/deltorobarba/repo/master/quantum_041.JPG)"
      ]
    },
    {
      "cell_type": "markdown",
      "metadata": {
        "id": "Fu2VPPLHXubR"
      },
      "source": [
        "A controlled-R quantum gate applies a relative phase change to |1>. The matrix form of this operator is:\n",
        "\n",
        "> $\\hat{R}_{k}=\\left(\\begin{array}{cc}1 & 0 \\\\ 0 & e^{2 \\pi i / 2^{k}}\\end{array}\\right)$\n",
        "\n",
        "Please note that $e^{2 \\pi i}$ = 1"
      ]
    },
    {
      "cell_type": "markdown",
      "metadata": {
        "id": "GNZs9Z41uDwI"
      },
      "source": [
        "y ist fur die computational states, und n=4 zB ist dann 100 der computation state in binary form"
      ]
    },
    {
      "cell_type": "markdown",
      "metadata": {
        "id": "eHsiTy9AdD3w"
      },
      "source": [
        "y = 0 oder 1. bei 0 verschwindet der ganze term"
      ]
    },
    {
      "cell_type": "markdown",
      "metadata": {
        "id": "YfTVXA3KdxrA"
      },
      "source": [
        "**Quantum Fourier Transform: Compactify for Circuit Representation**"
      ]
    },
    {
      "cell_type": "markdown",
      "metadata": {
        "id": "n3WzmRpH7pQQ"
      },
      "source": [
        "https://www.youtube.com/watch?v=mAHC1dWKNYE"
      ]
    },
    {
      "cell_type": "markdown",
      "metadata": {
        "id": "Z5s9m0mxshhD"
      },
      "source": [
        "**Notationshinweise:**"
      ]
    },
    {
      "cell_type": "markdown",
      "metadata": {
        "id": "F0x0xV_1s0_s"
      },
      "source": [
        "4 ist: 100, 3 ist 11 etc."
      ]
    },
    {
      "cell_type": "markdown",
      "metadata": {
        "id": "6_v07tBCszMN"
      },
      "source": [
        "![ggg](https://raw.githubusercontent.com/deltorobarba/repo/master/quantum_048.png)"
      ]
    },
    {
      "cell_type": "markdown",
      "source": [
        "> *Compactify writing y (note on top how N in the denominator cancels out with new way of writing y)*"
      ],
      "metadata": {
        "id": "TfmTaZfV0eey"
      }
    },
    {
      "cell_type": "markdown",
      "source": [
        "*Formula for Quantum Fourier Transform:*\n",
        "\n",
        "![ggg](https://raw.githubusercontent.com/deltorobarba/repo/master/quantum_047.png)"
      ],
      "metadata": {
        "id": "42TfPqy8RiD9"
      }
    },
    {
      "cell_type": "markdown",
      "source": [
        "**We need to compactify the original formula, because it doesn't tell us how to build the circuit**"
      ],
      "metadata": {
        "id": "iflcZRrDbIF-"
      }
    },
    {
      "cell_type": "markdown",
      "source": [
        "![ggg](https://raw.githubusercontent.com/deltorobarba/repo/master/quantum_041.JPG)"
      ],
      "metadata": {
        "id": "Y0v8blIsbPa1"
      }
    },
    {
      "cell_type": "markdown",
      "metadata": {
        "id": "REQZzRzz9WlW"
      },
      "source": [
        "Problem: this notation doesn't say much on how to build the quantum circuit:\n",
        "\n",
        "> $\\frac{1}{\\sqrt{N}} \\sum_{y=0}^{N-1} e^{\\frac{2 \\pi i x y}{N}}|y\\rangle$\n"
      ]
    },
    {
      "cell_type": "markdown",
      "metadata": {
        "id": "kh2L8go696PF"
      },
      "source": [
        "![ggg](https://raw.githubusercontent.com/deltorobarba/repo/master/quantum_047.png)"
      ]
    },
    {
      "cell_type": "markdown",
      "metadata": {
        "id": "XzSQjBim98a4"
      },
      "source": [
        "We need a bit of manipulation y:"
      ]
    },
    {
      "cell_type": "markdown",
      "metadata": {
        "id": "TarOBBgo8dZL"
      },
      "source": [
        "![ggg](https://raw.githubusercontent.com/deltorobarba/repo/master/quantum_054.png)"
      ]
    },
    {
      "cell_type": "markdown",
      "metadata": {
        "id": "6SyZdgUf_qPK"
      },
      "source": [
        "https://www.youtube.com/watch?v=pq2jkfJlLmY&t=1784s"
      ]
    },
    {
      "cell_type": "markdown",
      "metadata": {
        "id": "jtLzXV7n-NDj"
      },
      "source": [
        "So, aus \n",
        "\n",
        "<font color=\"red\"> $|\\tilde{x}\\rangle = \\frac{1}{\\sqrt{N}} \\sum_{y=0}^{N-1} e^{\\frac{2 \\pi i x y}{N}}|y\\rangle$ \n",
        "\n",
        "wird dann: \n",
        "\n",
        "<font color=\"blue\"> $|\\tilde{x}\\rangle = \\frac{1}{\\sqrt{N}} \\sum_{y=0}^{N-1} e^{\\frac{2 \\pi i \\sum_{k=1}^{n} y^{k}}{2^k}}|y_1,y_2,..y_n\\rangle$ \n",
        "\n",
        "bzw.:\n",
        "\n",
        "<font color=\"blue\"> $=\\frac{1}{\\sqrt{N}} \\sum_{y=0}^{N-1} \\prod_{k=1}^{n} e^{\\frac{2 \\pi i x y k}{2^k}}|y_1,y_2,..y_n\\rangle$ \n"
      ]
    },
    {
      "cell_type": "markdown",
      "metadata": {
        "id": "TNu3a97ODZ_b"
      },
      "source": [
        "Doing this for $y_1$ and $y_2$ etc, here you can build a circuit from (and without the fraction it looks like a Hadamard transform):"
      ]
    },
    {
      "cell_type": "markdown",
      "metadata": {
        "id": "Afirc5ZmEBrX"
      },
      "source": [
        "![ggg](https://raw.githubusercontent.com/deltorobarba/repo/master/quantum_055.png)"
      ]
    },
    {
      "cell_type": "markdown",
      "metadata": {
        "id": "MKjUppZDEdVl"
      },
      "source": [
        "Now you can see it boils down to the different phases when you transform from the computational basis to the Fourier basis: (the question is only how do you apply those phases in the circuit?)"
      ]
    },
    {
      "cell_type": "markdown",
      "metadata": {
        "id": "Qc-aA6G4EpOC"
      },
      "source": [
        "![ggg](https://raw.githubusercontent.com/deltorobarba/repo/master/quantum_056.png)"
      ]
    },
    {
      "cell_type": "markdown",
      "metadata": {
        "id": "uhY9-cBcFlTd"
      },
      "source": [
        "Here with a concrete example:"
      ]
    },
    {
      "cell_type": "markdown",
      "metadata": {
        "id": "sFar4z6cFkAP"
      },
      "source": [
        "![ggg](https://raw.githubusercontent.com/deltorobarba/repo/master/quantum_057.png)"
      ]
    },
    {
      "cell_type": "markdown",
      "metadata": {
        "id": "ZaBg4IJ_n18k"
      },
      "source": [
        "* $e^{\\frac{2*\\pi*i*5}{2}}$ ist -1 =(e^((2*pi*i*5)/2))\n",
        "\n",
        "* (e^((2*pi*i*5)/4)) = i\n",
        "\n",
        "* =(e^((2*pi*i*5)/8)) = -0,707106781 - 0,707106781 i"
      ]
    },
    {
      "cell_type": "markdown",
      "metadata": {
        "id": "yG6ersF-nHgk"
      },
      "source": [
        "> =(e^((2*pi*i*5)/2)) gibt hierbei den Azimut an (Horizontale Phase), und (1/√ 8) die Höhe (fur Probability) ???"
      ]
    },
    {
      "cell_type": "markdown",
      "metadata": {
        "id": "OA5BJ16Al6Jm"
      },
      "source": [
        "Going back to the 1 Qubit case with the formula above:\n",
        "\n",
        "* =(e^((2*pi*i*1)/2)) = -1\n",
        "\n",
        "* =(e^((2*pi*i*2)/2)) = 1\n",
        "\n",
        "Siehe hier das Ergebnis (mit der unmodifizierten, alten Formel):"
      ]
    },
    {
      "cell_type": "markdown",
      "metadata": {
        "id": "2qIXmH2umkJL"
      },
      "source": [
        "![ddd](https://raw.githubusercontent.com/deltorobarba/repo/master/quantum_045.png)"
      ]
    },
    {
      "cell_type": "markdown",
      "metadata": {
        "id": "ruSnVepASrMB"
      },
      "source": [
        "**Observations before creating the QFT circuit**"
      ]
    },
    {
      "cell_type": "markdown",
      "metadata": {
        "id": "HpqwwZO5Sv09"
      },
      "source": [
        "First see the notation whenever there is a 1 with a phase. Please note the $2^{n-1 etc.}$ used before for each one:"
      ]
    },
    {
      "cell_type": "markdown",
      "metadata": {
        "id": "XFwk9kj9R1Vr"
      },
      "source": [
        "![ggg](https://raw.githubusercontent.com/deltorobarba/repo/master/quantum_062.jpg)"
      ]
    },
    {
      "cell_type": "markdown",
      "metadata": {
        "id": "QY1JwfwCSOa_"
      },
      "source": [
        "*Second observation: under (2) you can see the phase state of |1111>, which you can rewrite with the product of $e^{2 \\pi i[...]}$*"
      ]
    },
    {
      "cell_type": "markdown",
      "metadata": {
        "id": "ET2yQbjPR5e9"
      },
      "source": [
        "![ggg](https://raw.githubusercontent.com/deltorobarba/repo/master/quantum_063.jpg)"
      ]
    },
    {
      "cell_type": "markdown",
      "metadata": {
        "id": "dVRMr8_2R-0Z"
      },
      "source": [
        "**So what do you need to construct a QFT circuit?**"
      ]
    },
    {
      "cell_type": "markdown",
      "metadata": {
        "id": "3gOVJtKqSD8c"
      },
      "source": [
        "*First a Hamadard, which you can write in the notation below, making Hadamard looking similar to QFT: (please note that one normalization is missing at the last term)*"
      ]
    },
    {
      "cell_type": "markdown",
      "metadata": {
        "id": "_RZPfgX-RwP4"
      },
      "source": [
        "![ggg](https://raw.githubusercontent.com/deltorobarba/repo/master/quantum_061.jpg)"
      ]
    },
    {
      "cell_type": "markdown",
      "metadata": {
        "id": "fez8RD-nUV14"
      },
      "source": [
        "> <font color=\"blue\">*UROT is applying a phase (a unitary rotation)*"
      ]
    },
    {
      "cell_type": "markdown",
      "metadata": {
        "id": "GeQ68EDtVa5K"
      },
      "source": [
        "![ggg](https://raw.githubusercontent.com/deltorobarba/repo/master/quantum_064.jpg)"
      ]
    },
    {
      "cell_type": "markdown",
      "metadata": {
        "id": "ptDQBAkVXYMW"
      },
      "source": [
        "**Creating the QFT circuit**"
      ]
    },
    {
      "cell_type": "markdown",
      "metadata": {
        "id": "1r-qm4OBXcMs"
      },
      "source": [
        "*This is what you need only to create x1:*"
      ]
    },
    {
      "cell_type": "markdown",
      "metadata": {
        "id": "9nLkqgShXa_Y"
      },
      "source": [
        "![ggg](https://raw.githubusercontent.com/deltorobarba/repo/master/quantum_065.jpg)"
      ]
    },
    {
      "cell_type": "markdown",
      "metadata": {
        "id": "FE6XFNKuXoN5"
      },
      "source": [
        "*And this series of gates gives you exactly the terms that you get here (see black arrow). The expression $\\frac{x}{2^n}$ (=$\\theta$ as we will see later in quantum phase estimation). All of the rotations are applying different phases on to the first qubit.*"
      ]
    },
    {
      "cell_type": "markdown",
      "metadata": {
        "id": "8wRf6l3BYJU7"
      },
      "source": [
        "![ggg](https://raw.githubusercontent.com/deltorobarba/repo/master/quantum_066.jpg)"
      ]
    },
    {
      "cell_type": "markdown",
      "metadata": {
        "id": "tHba8THd2ZRF"
      },
      "source": [
        "**Komplettes Circuit**"
      ]
    },
    {
      "cell_type": "markdown",
      "metadata": {
        "id": "I18eE4Pt2Xs7"
      },
      "source": [
        "![ggg](https://raw.githubusercontent.com/deltorobarba/repo/master/quantum_067.png)"
      ]
    },
    {
      "cell_type": "markdown",
      "metadata": {
        "id": "M0nFi24F2vGz"
      },
      "source": [
        "![ggg](https://raw.githubusercontent.com/deltorobarba/repo/master/quantum_068.png)"
      ]
    },
    {
      "cell_type": "markdown",
      "metadata": {
        "id": "7ipOz4xfYR7f"
      },
      "source": [
        "* Blog Post: https://jonathan-hui.medium.com/qc-quantum-fourier-transform-45436f90a43\n",
        "\n",
        "* Qiskit: https://qiskit.org/textbook/ch-algorithms/quantum-fourier-transform.html\n",
        "\n",
        "* Cirq: https://quantumai.google/cirq/tutorials/educators/textbook_algorithms\n",
        "\n",
        "* Youtube: https://youtu.be/rRblvBZkz7A\n",
        "\n",
        "* IBM Youtube: https://youtu.be/mAHC1dWKNYE\n",
        "\n",
        "* Classical Discrete Fourier Transform : https://en.m.wikipedia.org/wiki/Discrete_Fourier_transform\n",
        "\n",
        "* https://physics.stackexchange.com/questions/219581/how-quantum-fourier-transform-equal-to-hadamard-transform-on-4-by-4-matrix\n",
        "\n",
        "* https://physics.stackexchange.com/questions/56510/how-to-write-the-matrices-for-hadamard-gates-acting-on-differen-qubits?rq=1"
      ]
    },
    {
      "cell_type": "markdown",
      "metadata": {
        "id": "pZDS9weZ9O67"
      },
      "source": [
        "https://jonathan-hui.medium.com/qc-quantum-fourier-transform-45436f90a43"
      ]
    },
    {
      "cell_type": "markdown",
      "metadata": {
        "id": "aNfJr0RePpZW"
      },
      "source": [
        "https://qiskit.org/textbook/ch-algorithms/quantum-fourier-transform.html"
      ]
    },
    {
      "cell_type": "markdown",
      "metadata": {
        "id": "fCwQAKLTTOfM"
      },
      "source": [
        "https://prod-edxapp.edx-cdn.org/assets/courseware/v1/8f101da9d14cfeec83df9e42a70562bf/c4x/BerkeleyX/CS-191x/asset/chap5.pdf"
      ]
    }
  ]
}