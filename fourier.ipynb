{
  "nbformat": 4,
  "nbformat_minor": 0,
  "metadata": {
    "colab": {
      "name": "fourier.ipynb",
      "provenance": [],
      "collapsed_sections": [
        "vD-Ot8CCdvyt",
        "4ddGwTPedvyu",
        "x7aU9iIqdvyu",
        "dtzR2YY2dvyw",
        "NWVSvFf7dvyz",
        "ZBYQPW46dvyz",
        "RRYmlpX9dvy0",
        "CA0bmoLgdvy1",
        "fMCczd5Sdvy2",
        "5fQJmfWsdvy3",
        "qX_gs7XQdvy3",
        "7v5-BDY-dvy4",
        "Xp8Ifo-Idvy5",
        "J_R81NBgdvy6",
        "eI51e9_Fdvy-"
      ],
      "include_colab_link": true
    },
    "kernelspec": {
      "name": "python3",
      "display_name": "Python 3"
    }
  },
  "cells": [
    {
      "cell_type": "markdown",
      "metadata": {
        "id": "view-in-github",
        "colab_type": "text"
      },
      "source": [
        "<a href=\"https://colab.research.google.com/github/deltorobarba/machinelearning/blob/master/fourier.ipynb\" target=\"_parent\"><img src=\"https://colab.research.google.com/assets/colab-badge.svg\" alt=\"Open In Colab\"/></a>"
      ]
    },
    {
      "cell_type": "markdown",
      "metadata": {
        "id": "UMSa4Pt2dvys"
      },
      "source": [
        "### <font color=\"blue\">**Quantum Fourier Transform**"
      ]
    },
    {
      "cell_type": "code",
      "source": [
        "import sympy\n",
        "import math\n",
        "import numpy as np\n",
        "import pandas as pd\n",
        "import seaborn as sns\n",
        "import matplotlib.pyplot as plt"
      ],
      "metadata": {
        "id": "8XeJK4sXpSkS"
      },
      "execution_count": null,
      "outputs": []
    },
    {
      "cell_type": "code",
      "source": [
        "!pip install cirq -q\n",
        "import cirq\n",
        "from cirq.contrib.svg import SVGCircuit\n",
        "print(cirq.__version__)"
      ],
      "metadata": {
        "id": "qEl9kLwLpVQv"
      },
      "execution_count": null,
      "outputs": []
    },
    {
      "cell_type": "markdown",
      "metadata": {
        "id": "vD-Ot8CCdvyt"
      },
      "source": [
        "###### <font color=\"blue\">*Introduction & Formula*"
      ]
    },
    {
      "cell_type": "markdown",
      "source": [
        "> **Quantum Fourier Transform is the change from one basis (computational) to another (Fourier basis)**\n",
        "\n",
        "* Quantum Fourier Transform is the inverse Discrete Fourier Transform)"
      ],
      "metadata": {
        "id": "I_dkpT8Cdvyt"
      }
    },
    {
      "cell_type": "markdown",
      "metadata": {
        "id": "9r2n0yc7dvyt"
      },
      "source": [
        "**General formula**\n",
        "\n",
        "* Remember: <font color=\"blue\">$e^{2\\pi i}$ = 1</font> (identity operation), and see why $e^{\\pi i}$ = -1 in [this video](https://youtu.be/-AyE1Wpgo3Q) \n",
        "\n",
        "\n",
        "* In QFT we change the <font color=\"blue\">$\\theta$ = phase in $e^{2\\pi i \\theta}$</font> = Eigenvalue of Oracle function $U$ associated with an eigenvector |u⟩\n",
        "\n",
        "* The phase $\\theta$ is expressed as: <font color=\"blue\">$\\theta$ = $\\frac{x_n}{2^{k_n}}$</font> with:\n",
        "\n",
        "  * <font color=\"blue\">$x_n$ = 0 or 1</font> state\n",
        "  \n",
        "  * <font color=\"blue\">$k_n$</font> number of Qubits\n",
        "\n",
        "* This is expressed in a so-called \"controlled-R quantum gate\" that **applies a relative phase change to |1>**\n",
        "\n",
        "* The matrix form of this operator is: <font color=\"blue\">$\\hat{R}_{k}=\\left(\\begin{array}{cc}1 & 0 \\\\ 0 & e^{2 \\pi i \\frac{x_n}{ 2^{k_n}}}\\end{array}\\right)$</font>"
      ]
    },
    {
      "cell_type": "markdown",
      "source": [
        "###### <font color=\"blue\">*Quantum Fourier Transform with 1 Qubit*"
      ],
      "metadata": {
        "id": "4ddGwTPedvyu"
      }
    },
    {
      "cell_type": "markdown",
      "source": [
        "**Computational Basis States:** <font color=\"blue\">$\\tilde{x_1}$ = 0 or 1</font>. Number of Qubits: <font color=\"blue\">$k_1$ = 1</font>\n"
      ],
      "metadata": {
        "id": "LL8a5aRZdvyu"
      }
    },
    {
      "cell_type": "markdown",
      "source": [
        "*Linear transformation of a qubit in the computational basis 0 and 1 each separately to the Fourier basis:*\n",
        "\n",
        "![ggg](https://raw.githubusercontent.com/deltorobarba/repo/master/sciences_0813.png)"
      ],
      "metadata": {
        "id": "hBqueHp-dvyu"
      }
    },
    {
      "cell_type": "markdown",
      "source": [
        "**Computational Basis in $|0\\rangle$**\n",
        "\n",
        "> <font color=\"blue\">For $x_1$ = 0 $\\Rightarrow$</font> <font color=\"blue\">$\\tilde{x_1}$ = $\\frac{1}{\\sqrt{2}}\\left(|0\\rangle+\\mathrm{e}^{2 \\pi \\mathrm{i}\\left(\\frac{x_1}{2^{k_1}}\\right)}|1\\rangle\\right)$</font> = $\\frac{1}{\\sqrt{2}}\\left(|0\\rangle+\\mathrm{e}^{2 \\pi \\mathrm{i}\\left(\\frac{x_1}{2^1}\\right)}|1\\rangle\\right)$  $\\Rightarrow$ $\\mathrm{e}^{2 \\pi \\mathrm{i}\\left(\\frac{0}{2}\\right)}$ = $\\mathrm{e}^{2 \\pi \\mathrm{i} 0}$  = $\\mathrm{e}^{0}$ = 1 (no rotation)\n",
        "\n",
        "![ggg](https://raw.githubusercontent.com/deltorobarba/repo/master/sciences_0810.png)"
      ],
      "metadata": {
        "id": "0zwAfVwVdvyu"
      }
    },
    {
      "cell_type": "markdown",
      "source": [
        "**Computational Basis in $|1\\rangle$**\n",
        "\n",
        "> <font color=\"blue\">For $x_1$ = 1 $\\Rightarrow$</font> <font color=\"blue\">$\\tilde{x_1}$ = $\\frac{1}{\\sqrt{2}}\\left(|0\\rangle+\\mathrm{e}^{2 \\pi \\mathrm{i}\\left(\\frac{x_1}{2^{k_1}}\\right)}|1\\rangle\\right)$</font> = $\\frac{1}{\\sqrt{2}}\\left(|0\\rangle+\\mathrm{e}^{2 \\pi \\mathrm{i}\\left(\\frac{x_1}{2^1}\\right)}|1\\rangle\\right)$ $\\Rightarrow$ $\\mathrm{e}^{2 \\pi \\mathrm{i}\\left(\\frac{1}{2}\\right)}$ = $e^{\\pi i 1} =$ <font color=\"blue\">$-1$</font> (180° Z-rotation)\n",
        "\n",
        "![ggg](https://raw.githubusercontent.com/deltorobarba/repo/master/sciences_0811.png)"
      ],
      "metadata": {
        "id": "dnP04E3ydvyu"
      }
    },
    {
      "cell_type": "markdown",
      "source": [
        "###### <font color=\"blue\">*Quantum Fourier Transform with 1 Qubit: Hadamard Explanation*"
      ],
      "metadata": {
        "id": "x7aU9iIqdvyu"
      }
    },
    {
      "cell_type": "markdown",
      "metadata": {
        "id": "9UKdcXzKdvyv"
      },
      "source": [
        "**Quantum Fourier Transform with 1 Qubit is a Hadamard transform!**"
      ]
    },
    {
      "cell_type": "markdown",
      "metadata": {
        "id": "PUP5QiGrdvyv"
      },
      "source": [
        "*1 Qubit QFT that does this? - Hadamard gate:*"
      ]
    },
    {
      "cell_type": "markdown",
      "metadata": {
        "id": "1D4Vdy6sdvyv"
      },
      "source": [
        "**One qubit QFT matrix**: $\\frac{1}{\\sqrt{2}}\\left(\\begin{array}{ll}1 & 1 \\\\ 1 & \\mathrm{e}^{\\pi i}\\end{array}\\right)$, where $\\mathrm{e}^{\\pi \\mathrm{i}}$ = -1. So it is: <font color=\"blue\"> QFT für x=1 = $\\frac{1}{\\sqrt{2}}\\left(\\begin{array}{ll}1 & 1 \\\\ 1 & -1\\end{array}\\right)$\n",
        "\n",
        "**Compare with Hadamard transform matrix:** \n",
        "\n",
        "In quantum computing, the Hadamard gate is a one-qubit rotation, mapping the qubitbasis states $|0\\rangle$ and $|1\\rangle$ to two **superposition** states with **equal weight of the computational basis** states $|0\\rangle$ and $|1\\rangle$. Usually the phases are chosen so that\n",
        "\n",
        ">$\n",
        "H=\\frac{|0\\rangle+|1\\rangle}{\\sqrt{2}}\\langle 0|+\\frac{|0\\rangle-|1\\rangle}{\\sqrt{2}}\\langle 1|\n",
        "$\n",
        "\n",
        "in Dirac notation. This corresponds to the transformation matrix\n",
        "\n",
        "> <font color=\"blue\">$\n",
        "H_{1}=\\frac{1}{\\sqrt{2}}\\left(\\begin{array}{cc}\n",
        "1 & 1 \\\\\n",
        "1 & -1\n",
        "\\end{array}\\right)\n",
        "$\n",
        "\n",
        "in the $|0\\rangle,|1\\rangle$ basis, also known as the computational basis. The states $\\frac{|0\\rangle+|1\\rangle}{\\sqrt{2}}$ and $\\frac{|0\\rangle-|1\\rangle}{\\sqrt{2}}$ are known as $|+\\rangle$ and $|-\\rangle$ respectively, and together constitute the polar basis in quantum computing."
      ]
    },
    {
      "cell_type": "markdown",
      "metadata": {
        "id": "Ec2Qf1_Vdvyv"
      },
      "source": [
        "Follow and try movement here for 0: H Gate. For 1: X gate followed bz H gate:\n",
        "\n",
        "* https://javafxpert.github.io/grok-bloch/\n",
        "\n",
        "* https://www.st-andrews.ac.uk/physics/quvis/simulations_html5/sims/blochsphere/blochsphere.html"
      ]
    },
    {
      "cell_type": "markdown",
      "metadata": {
        "id": "GNYdvNlJdvyv"
      },
      "source": [
        "![ggg](https://raw.githubusercontent.com/deltorobarba/repo/master/quantum_073.jpg)\n",
        "\n",
        "https://demonstrations.wolfram.com/QuantumFourierTransformCircuit/"
      ]
    },
    {
      "cell_type": "markdown",
      "metadata": {
        "id": "0jL9YeHpdvyv"
      },
      "source": [
        "Reminder: QFT Formel:\n",
        "\n",
        "![ggg](https://raw.githubusercontent.com/deltorobarba/repo/master/quantum_047.png)"
      ]
    },
    {
      "cell_type": "markdown",
      "metadata": {
        "id": "UThk8xP1dvyw"
      },
      "source": [
        "**Why Hadamard transform is exactly a 1 qubit Quantum Fourier Transform:** (see result of + for 0 state and - for 1 state)"
      ]
    },
    {
      "cell_type": "markdown",
      "metadata": {
        "id": "4zJhiyX4dvyw"
      },
      "source": [
        "Siehe oben unter 'Mathermatik\": Matrix-Vector-Multiplication (Single Qubit)\n",
        "\n",
        "> <font color=\"blue\">$H |0\\rangle$</font> $ = \\frac{1}{\\sqrt{2}}\\left(\\begin{array}{cc}1 & 1 \\\\ 1 & -1\\end{array}\\right)\\left[\\begin{array}{l}1 \\\\ 0\\end{array}\\right] =\\frac{1}{\\sqrt{2}}\\left[\\begin{array}{c}1 \\\\ 1\\end{array}\\right]$ <font color=\"blue\">$ \\,\\,= |+\\rangle$ = $\\frac{1}{\\sqrt{2}}(|0\\rangle+|1\\rangle)$\n",
        "\n",
        "> <font color=\"blue\">$H |1\\rangle$</font>$ = \\frac{1}{\\sqrt{2}}\\left(\\begin{array}{cc}1 & 1 \\\\ 1 & -1\\end{array}\\right)\\left[\\begin{array}{l}0 \\\\ 1\\end{array}\\right]=\\frac{1}{\\sqrt{2}}\\left[\\begin{array}{c}1 \\\\ -1\\end{array}\\right]$ <font color=\"blue\">$ = |-\\rangle$ = $\\frac{1}{\\sqrt{2}}(|0\\rangle-|1\\rangle)$\n",
        "\n",
        "$|+\\rangle=\\frac{1}{\\sqrt{2}}(|0\\rangle+|1\\rangle)$ weil <font color=\"gray\">wegen $|0\\rangle=\\left[\\begin{array}{l}1 \\\\ 0\\end{array}\\right]$ und $|1\\rangle=\\left[\\begin{array}{l}0 \\\\ 1\\end{array}\\right]$ daher:</font> $\\frac{1}{\\sqrt{2}}\\left[\\begin{array}{ll}1 + 0 \\\\ 0 + 1\\end{array}\\right]=\\frac{1}{\\sqrt{2}}\\left[\\begin{array}{c}1 \\\\ 1\\end{array}\\right]$\n",
        "\n",
        "$|-\\rangle=\\frac{1}{\\sqrt{2}}(|0\\rangle-|1\\rangle)$ weil: $\\frac{1}{\\sqrt{2}}\\left[\\begin{array}{ll}1 - 0 \\\\ 0 - 1\\end{array}\\right]=\\frac{1}{\\sqrt{2}}\\left[\\begin{array}{c}1 \\\\ -1\\end{array}\\right]$"
      ]
    },
    {
      "cell_type": "markdown",
      "metadata": {
        "id": "FE00m8cpdvyw"
      },
      "source": [
        "![ggg](https://raw.githubusercontent.com/deltorobarba/repo/master/quantum_045.png)"
      ]
    },
    {
      "cell_type": "markdown",
      "metadata": {
        "id": "MDxonilCdvyw"
      },
      "source": [
        "2 im denominator verschwindet hier. 2^n für n=1 qubit. mit 2 oben und unten verschwinden beide."
      ]
    },
    {
      "cell_type": "markdown",
      "source": [
        "###### <font color=\"blue\">*Quantum Fourier Transform with 2 Qubits*"
      ],
      "metadata": {
        "id": "dtzR2YY2dvyw"
      }
    },
    {
      "cell_type": "markdown",
      "source": [
        "**Computational Basis States:** <font color=\"blue\">$\\tilde{x_1}$ = 0 or 1</font>, <font color=\"blue\">$\\tilde{x_2}$ = 0 or 1</font>. Number of Qubits: <font color=\"blue\">$k_1$ = 1, $k_2$ = 2</font>\n"
      ],
      "metadata": {
        "id": "M_rkGa8vdvyw"
      }
    },
    {
      "cell_type": "markdown",
      "source": [
        "\n",
        "> For <font color=\"blue\">$\\tilde{x_1}$ = $\\frac{1}{\\sqrt{2}}\\left(|0\\rangle+\\mathrm{e}^{2 \\pi \\mathrm{i}\\left(\\frac{x_1}{2^{k_1}}+\\frac{x_2}{2^{k_2}}\\right)}|1\\rangle\\right)$</font> = $\\frac{1}{\\sqrt{2}}\\left(|0\\rangle+\\mathrm{e}^{2 \\pi \\mathrm{i}\\left(\\frac{x_1}{2^1}+\\frac{x_2}{2^2}\\right)}|1\\rangle\\right)$ = $\\frac{1}{\\sqrt{2}}\\left(|0\\rangle+\\mathrm{e}^{2 \\pi \\mathrm{i}\\left(\\frac{x_1}{2}+\\frac{x_2}{4}\\right)}|1\\rangle\\right)$\n",
        "\n",
        "* If only $\\tilde{x_1}$ is activated = 1, then it is a Z-Rotation in the value of $\\pi$ = -1\n",
        "\n",
        "* If only $\\tilde{x_2}$ activated = 1, then it is a S-Rotation in the value of $\\frac{\\pi}{2}$ = i\n",
        "\n",
        "* If both $\\tilde{x_1}$ and $\\tilde{x_2}$ are activated = 1, then it is a  Rotation $\\pi$ + $\\frac{\\pi}{2}$, in the value of -i\n",
        "\n",
        "\n",
        "\n"
      ],
      "metadata": {
        "id": "eZA-X57Wdvyw"
      }
    },
    {
      "cell_type": "markdown",
      "source": [
        "> For <font color=\"blue\">$\\tilde{x_2}$ = $\\frac{1}{\\sqrt{2}}\\left(|0\\rangle+\\mathrm{e}^{2 \\pi \\mathrm{i}\\left(\\frac{x_2}{2^{k_1}}\\right)}|1\\rangle\\right)$</font> = $\\frac{1}{\\sqrt{2}}\\left(|0\\rangle+\\mathrm{e}^{2 \\pi \\mathrm{i}\\left(\\frac{x_2}{2^1}\\right)}|1\\rangle\\right)$ = $\\frac{1}{\\sqrt{2}}\\left(|0\\rangle+\\mathrm{e}^{\\pi \\mathrm{i}x_2}|1\\rangle\\right)$\n",
        "\n",
        "* Falls aktiviert, dann ist $\\tilde{x_2}$ immer eine Z-Rotation im Wert von $\\pi$.\n"
      ],
      "metadata": {
        "id": "z1Ex1Ak8dvyx"
      }
    },
    {
      "cell_type": "markdown",
      "source": [
        "![ggg](https://raw.githubusercontent.com/deltorobarba/repo/master/sciences_0815.png)\n"
      ],
      "metadata": {
        "id": "28qIgm28dvyx"
      }
    },
    {
      "cell_type": "markdown",
      "source": [
        "**See here the quantum fourier transform calculation for each qubit in different computational states:**"
      ],
      "metadata": {
        "id": "FS_XDfWxdvyx"
      }
    },
    {
      "cell_type": "markdown",
      "metadata": {
        "id": "UBlPa-Jqdvyx"
      },
      "source": [
        "*Results for 0 (decimal): <font color=\"blue\">$x_1$ = 0, $x_2$ = 0*\n",
        "\n",
        "* <font color=\"blue\">$\\tilde{x_1}$ =</font> $\\frac{1}{\\sqrt{2}}\\left(|0\\rangle+\\mathrm{e}^{2 \\pi \\mathrm{i}\\left(\\frac{x_1}{2}+\\frac{x_2}{4}\\right)}|1\\rangle\\right)$ = $\\frac{1}{\\sqrt{2}}\\left(|0\\rangle+\\mathrm{e}^{2 \\pi \\mathrm{i}\\left(\\frac{0}{2}+\\frac{0}{4}\\right)}|1\\rangle\\right)$  = $\\mathrm{e}^{2 \\pi \\mathrm{i} 0}$ = $\\mathrm{e}^{0}$ = 1 (no rotation away from original H superposition)\n",
        "\n",
        "* <font color=\"blue\">$\\tilde{x_2}$ = </font>$\\frac{1}{\\sqrt{2}}\\left(|0\\rangle+\\mathrm{e}^{\\pi \\mathrm{i}x_2}|1\\rangle\\right)$ = $\\frac{1}{\\sqrt{2}}\\left(|0\\rangle+\\mathrm{e}^{\\pi \\mathrm{i}0}|1\\rangle\\right)$ = $\\mathrm{e}^{0}$ = 1 (no rotation away from original H superposition)"
      ]
    },
    {
      "cell_type": "markdown",
      "source": [
        "![ggg](https://raw.githubusercontent.com/deltorobarba/repo/master/sciences_0819.png)\n"
      ],
      "metadata": {
        "id": "anYkP6kLdvyx"
      }
    },
    {
      "cell_type": "markdown",
      "metadata": {
        "id": "QJzTYFWVdvyx"
      },
      "source": [
        "*Results for 1 (decimal): <font color=\"blue\">$x_1$ = 0, $x_2$ = 1*\n",
        "\n",
        "* <font color=\"blue\">$\\tilde{x_1}$ =</font> $\\frac{1}{\\sqrt{2}}\\left(|0\\rangle+\\mathrm{e}^{2 \\pi \\mathrm{i}\\left(\\frac{x_1}{2}+\\frac{x_2}{4}\\right)}|1\\rangle\\right)$ = $\\frac{1}{\\sqrt{2}}\\left(|0\\rangle+\\mathrm{e}^{2 \\pi \\mathrm{i}\\left(\\frac{0}{2}+\\frac{1}{4}\\right)}|1\\rangle\\right)$ = $\\mathrm{e}^{2 \\pi \\mathrm{i}\\left(\\frac{1}{4}\\right)}$  = $\\mathrm{e}^{\\frac{\\pi }{2}\\mathrm{i}}$ Rotation = i\n",
        "\n",
        "* <font color=\"blue\">$\\tilde{x_2}$ = </font>$\\frac{1}{\\sqrt{2}}\\left(|0\\rangle+\\mathrm{e}^{\\pi \\mathrm{i}x_2}|1\\rangle\\right)$ = $\\frac{1}{\\sqrt{2}}\\left(|0\\rangle+\\mathrm{e}^{\\pi \\mathrm{i}1}|1\\rangle\\right)$ = $\\mathrm{e}^{\\pi \\mathrm{i}}$ Rotation = -1"
      ]
    },
    {
      "cell_type": "markdown",
      "source": [
        "![ggg](https://raw.githubusercontent.com/deltorobarba/repo/master/sciences_0816.png)\n"
      ],
      "metadata": {
        "id": "HYSN2c_ydvyy"
      }
    },
    {
      "cell_type": "markdown",
      "metadata": {
        "id": "g0263NbYdvyy"
      },
      "source": [
        "*Results for 2 (decimal): <font color=\"blue\">$x_1$ = 1, $x_2$ = 0*\n",
        "\n",
        "* <font color=\"blue\">$\\tilde{x_1}$ =</font> $\\frac{1}{\\sqrt{2}}\\left(|0\\rangle+\\mathrm{e}^{2 \\pi \\mathrm{i}\\left(\\frac{x_1}{2}+\\frac{x_2}{4}\\right)}|1\\rangle\\right)$ = $\\frac{1}{\\sqrt{2}}\\left(|0\\rangle+\\mathrm{e}^{2 \\pi \\mathrm{i}\\left(\\frac{1}{2}+\\frac{0}{4}\\right)}|1\\rangle\\right)$ = $\\mathrm{e}^{2 \\pi \\mathrm{i}\\left(\\frac{1}{2}\\right)}$  = $\\mathrm{e}^{\\pi \\mathrm{i}}$ Rotation = -1\n",
        "\n",
        "* <font color=\"blue\">$\\tilde{x_2}$ = </font>$\\frac{1}{\\sqrt{2}}\\left(|0\\rangle+\\mathrm{e}^{\\pi \\mathrm{i}x_2}|1\\rangle\\right)$ = $\\frac{1}{\\sqrt{2}}\\left(|0\\rangle+\\mathrm{e}^{\\pi \\mathrm{i}1}|1\\rangle\\right)$ = $\\mathrm{e}^{\\pi \\mathrm{i}}$ Rotation = -1"
      ]
    },
    {
      "cell_type": "markdown",
      "source": [
        "![ggg](https://raw.githubusercontent.com/deltorobarba/repo/master/sciences_0817.png)"
      ],
      "metadata": {
        "id": "Y01h_Vfjdvyy"
      }
    },
    {
      "cell_type": "markdown",
      "metadata": {
        "id": "cmoc8tSBdvyy"
      },
      "source": [
        "*Results for 3 (decimal): <font color=\"blue\">$x_1$ = 1, $x_2$ = 1*\n",
        "\n",
        "* <font color=\"blue\">$\\tilde{x_1}$ =</font> $\\frac{1}{\\sqrt{2}}\\left(|0\\rangle+\\mathrm{e}^{2 \\pi \\mathrm{i}\\left(\\frac{x_1}{2}+\\frac{x_2}{4}\\right)}|1\\rangle\\right)$ = $\\frac{1}{\\sqrt{2}}\\left(|0\\rangle+\\mathrm{e}^{2 \\pi \\mathrm{i}\\left(\\frac{1}{2}+\\frac{1}{4}\\right)}|1\\rangle\\right)$ = $\\mathrm{e}^{2 \\pi \\mathrm{i}\\left(\\frac{2}{4}+\\frac{1}{4}\\right)}$  = $\\mathrm{e}^{1,5 \\pi \\mathrm{i}}$ Rotation = -i\n",
        "\n",
        "* <font color=\"blue\">$\\tilde{x_2}$ = </font>$\\frac{1}{\\sqrt{2}}\\left(|0\\rangle+\\mathrm{e}^{\\pi \\mathrm{i}x_2}|1\\rangle\\right)$ = $\\frac{1}{\\sqrt{2}}\\left(|0\\rangle+\\mathrm{e}^{\\pi \\mathrm{i}1}|1\\rangle\\right)$ = $\\mathrm{e}^{\\pi \\mathrm{i}}$ Rotation = -1"
      ]
    },
    {
      "cell_type": "markdown",
      "source": [
        "![ggg](https://raw.githubusercontent.com/deltorobarba/repo/master/sciences_0818.png)"
      ],
      "metadata": {
        "id": "qGZHyssvdvyy"
      }
    },
    {
      "cell_type": "markdown",
      "source": [
        "*Here the two-qubit QFT circuit including the full QFT matrix operator:*\n",
        "\n",
        "![ggg](https://raw.githubusercontent.com/deltorobarba/repo/master/sciences_0814.png)\n"
      ],
      "metadata": {
        "id": "ZnSOZQTidvyy"
      }
    },
    {
      "cell_type": "markdown",
      "source": [
        "###### <font color=\"blue\">*Quantum Fourier Transform with 3 Qubits: Introduction*"
      ],
      "metadata": {
        "id": "NWVSvFf7dvyz"
      }
    },
    {
      "cell_type": "markdown",
      "source": [
        "**Computational Basis States:** <font color=\"blue\">$\\tilde{x_1}$ = 0 or 1</font>, <font color=\"blue\">$\\tilde{x_2}$ = 0 or 1</font>, <font color=\"blue\">$\\tilde{x_3}$ = 0 or 1</font>. Number of Qubits: <font color=\"blue\">$k_1$ = 1, $k_2$ = 2, $k_3$ = 3</font>\n"
      ],
      "metadata": {
        "id": "xOBGPt6Pdvyz"
      }
    },
    {
      "cell_type": "markdown",
      "source": [
        "> <font color=\"blue\">$\\tilde{x_1}$ = $\\frac{1}{\\sqrt{2}}\\left(|0\\rangle+\\mathrm{e}^{2 \\pi \\mathrm{i}\\left(\\frac{\\mathrm{x}_{1}}{2^{k_1}}+\\frac{x_{2}}{2^{k_2}}+\\frac{x_{3}}{2^{k_3}}\\right)}|1\\rangle\\right)$</font> = $\\frac{1}{\\sqrt{2}}\\left(|0\\rangle+\\mathrm{e}^{2 \\pi \\mathrm{i}\\left(\\frac{\\mathrm{x}_{1}}{2^1}+\\frac{x_{2}}{2^2}+\\frac{x_{3}}{2^3}\\right)}|1\\rangle\\right)$  = $\\frac{1}{\\sqrt{2}}\\left(|0\\rangle+\\mathrm{e}^{2 \\pi \\mathrm{i}\\left(\\frac{\\mathrm{x}_{1}}{2}+\\frac{x_{2}}{4}+\\frac{x_{3}}{8}\\right)}|1\\rangle\\right)$\n",
        "\n",
        "* If only $\\tilde{x_1}$ is activated, then it is a 180° Z-rotation of $\\pi$ radians = -1\n",
        "\n",
        "* If only $\\tilde{x_2}$ is activated, then it is a 90° S-rotation of $\\frac{\\pi}{2}$ radians = i\n",
        "\n",
        "* If only $\\tilde{x_3}$ is activated, then it is a 45° T-rotation of $\\frac{\\pi}{4}$ radians = between 1 and i\n"
      ],
      "metadata": {
        "id": "d-jfdwNgdvyz"
      }
    },
    {
      "cell_type": "markdown",
      "source": [
        "> <font color=\"blue\">$\\tilde{x_2}$ = $\\frac{1}{\\sqrt{2}}\\left(|0\\rangle+\\mathrm{e}^{2 \\pi \\mathrm{i}\\left(\\frac{x_2}{2^{k_1}}+\\frac{x_3}{2^{k_2}}\\right)}|1\\rangle\\right)$</font> = $\\frac{1}{\\sqrt{2}}\\left(|0\\rangle+\\mathrm{e}^{2 \\pi \\mathrm{i}\\left(\\frac{x_2}{2^1}+\\frac{x_3}{2^2}\\right)}|1\\rangle\\right)$ = $\\frac{1}{\\sqrt{2}}\\left(|0\\rangle+\\mathrm{e}^{2 \\pi \\mathrm{i}\\left(\\frac{x_2}{2}+\\frac{x_3}{4}\\right)}|1\\rangle\\right)$\n",
        "\n",
        "* If only $\\tilde{x_2}$ is activated, then it is a 180° Z-rotation of $\\pi$ radians = -1\n",
        "\n",
        "* If only $\\tilde{x_3}$ is activated, then it is a 90° S-rotation of $\\frac{\\pi}{2}$ radians = i\n",
        "\n",
        "* If both $\\tilde{x_2}$ and $\\tilde{x_3}$ are activated, then it is a 180° + 90° = 170° rotation of $\\pi + \\frac{\\pi}{2}$ radians = -i"
      ],
      "metadata": {
        "id": "9X7qQkZjdvyz"
      }
    },
    {
      "cell_type": "markdown",
      "source": [
        "> <font color=\"blue\">$\\tilde{x_3}$ = $\\frac{1}{\\sqrt{2}}\\left(|0\\rangle+\\mathrm{e}^{2 \\pi \\mathrm{i}\\left(\\frac{x_3}{2^{k_1}}\\right)}|1\\rangle\\right)$</font> = $\\frac{1}{\\sqrt{2}}\\left(|0\\rangle+\\mathrm{e}^{2 \\pi \\mathrm{i}\\left(\\frac{x_3}{2^1}\\right)}|1\\rangle\\right)$ = $\\frac{1}{\\sqrt{2}}\\left(|0\\rangle+\\mathrm{e}^{\\pi \\mathrm{i}x_3}|1\\rangle\\right)$\n",
        "\n",
        "* If $\\tilde{x_3}$ is activated, then it is a 180° Z-rotation of $\\pi$ radians = -1\n"
      ],
      "metadata": {
        "id": "RezsPV23dvyz"
      }
    },
    {
      "cell_type": "markdown",
      "source": [
        "**Circuit Construction**\n",
        "\n",
        "*Compare the equations above with the circuit activations below (how a circuits computes the results). For example for the first qubit the operator / gate $S$ = 90° rotation is only activated if the second qubit $x_2$ is in state 1. Here it is activated because $x_2$ = 1:*\n",
        "\n",
        "![ggg](https://raw.githubusercontent.com/deltorobarba/repo/master/sciences_0812.png)"
      ],
      "metadata": {
        "id": "UXhMRh4mdvyz"
      }
    },
    {
      "cell_type": "markdown",
      "source": [
        "###### <font color=\"blue\">*Quantum Fourier Transform with 3 Qubits: QFT operator multiplied with three qubit tensor product (Ket)*"
      ],
      "metadata": {
        "id": "ZBYQPW46dvyz"
      }
    },
    {
      "cell_type": "markdown",
      "source": [
        "**Circuit Construction**\n",
        "\n",
        "*Compare the equations above with the circuit activations below (how a circuits computes the results). For example for the first qubit the operator / gate $S$ = 90° rotation is only activated if the second qubit $x_2$ is in state 1. Here it is activated because $x_2$ = 1:*\n",
        "\n",
        "![ggg](https://raw.githubusercontent.com/deltorobarba/repo/master/sciences_0812.png)"
      ],
      "metadata": {
        "id": "J8n3fjsedvyz"
      }
    },
    {
      "cell_type": "markdown",
      "source": [
        "*Here including the 8x8 matrix form for the complete operator:*\n",
        "\n",
        "![ggg](https://raw.githubusercontent.com/deltorobarba/repo/master/sciences_0801.png)"
      ],
      "metadata": {
        "id": "i2mHdCnXdvy0"
      }
    },
    {
      "cell_type": "markdown",
      "source": [
        "*This above mentioned operator would be multiplied with this (Ket) Quantum vector (tensor product of three individual qubit vectors):*"
      ],
      "metadata": {
        "id": "OAw48ZKzdvy0"
      }
    },
    {
      "cell_type": "code",
      "source": [
        "from sympy import Matrix\n",
        "import math\n",
        "from sympy.physics.quantum import TensorProduct\n",
        "\n",
        "m1 = Matrix([[1],[0]])\n",
        "m2 = Matrix([[1],[0]])\n",
        "m3 = Matrix([[1],[0]])\n",
        "\n",
        "matrix = TensorProduct(m1, m2, m3)\n",
        "matrix"
      ],
      "metadata": {
        "colab": {
          "base_uri": "https://localhost:8080/",
          "height": 180
        },
        "outputId": "00ef9e8f-a662-407f-e44c-8baded46525b",
        "id": "2c8VLdOBdvy0"
      },
      "execution_count": null,
      "outputs": [
        {
          "output_type": "execute_result",
          "data": {
            "text/plain": [
              "Matrix([\n",
              "[1],\n",
              "[0],\n",
              "[0],\n",
              "[0],\n",
              "[0],\n",
              "[0],\n",
              "[0],\n",
              "[0]])"
            ],
            "text/latex": "$\\displaystyle \\left[\\begin{matrix}1\\\\0\\\\0\\\\0\\\\0\\\\0\\\\0\\\\0\\end{matrix}\\right]$"
          },
          "metadata": {},
          "execution_count": 2
        }
      ]
    },
    {
      "cell_type": "markdown",
      "source": [
        "> **The QFT operator multiplied with the Ket vector in the computation basis will give a new quantum state vector in the Fourier basis**"
      ],
      "metadata": {
        "id": "8MHJrDXudvy0"
      }
    },
    {
      "cell_type": "markdown",
      "source": [
        "###### <font color=\"blue\">*Quantum Fourier Transform with 3 Qubits for $|000\\rangle$*"
      ],
      "metadata": {
        "id": "RRYmlpX9dvy0"
      }
    },
    {
      "cell_type": "markdown",
      "source": [
        "**Computational Basis in $|000\\rangle$**\n",
        "\n",
        "![ggg](https://raw.githubusercontent.com/deltorobarba/repo/master/sciences_0799.png)"
      ],
      "metadata": {
        "id": "6M4jtytxdvy1"
      }
    },
    {
      "cell_type": "markdown",
      "source": [
        "**Fourier Basis for $|000\\rangle$**\n",
        "\n",
        "![ggg](https://raw.githubusercontent.com/deltorobarba/repo/master/sciences_0800.png)"
      ],
      "metadata": {
        "id": "6c_vJh2Bdvy1"
      }
    },
    {
      "cell_type": "markdown",
      "source": [
        "**Computational States:** <font color=\"blue\">$\\tilde{x_1}$ = 0</font>, <font color=\"blue\">$\\tilde{x_2}$ = 0</font>, <font color=\"blue\">$\\tilde{x_3}$ = 0</font>. Number of Qubits: <font color=\"blue\">$k_1$ = 1 qubit, $k_2$ = 2 qubits, $k_3$ = 3 qubits</font>\n",
        "\n",
        "> <font color=\"blue\">Qubit 1 = $\\tilde{x_1}$</font> = $\\frac{1}{\\sqrt{2}}\\left(|0\\rangle+\\mathrm{e}^{2 \\pi \\mathrm{i}\\left(\\frac{\\mathrm{x}_{1}}{2^{k_1}}+\\frac{x_{2}}{2^{k_2}}+\\frac{x_{3}}{2^{k_3}}\\right)}|1\\rangle\\right)$ = $\\frac{1}{\\sqrt{2}}\\left(|0\\rangle+\\mathrm{e}^{2 \\pi \\mathrm{i}\\left(\\frac{0}{2}+\\frac{0}{4}+\\frac{0}{8}\\right)}|1\\rangle\\right)$ = $\\mathrm{e}^{\\pi i 0} =$ <font color=\"blue\">$1$</font>  (no rotation)\n",
        "\n",
        "> <font color=\"blue\">Qubit 2 = $\\tilde{x_2}$</font> = $\\frac{1}{\\sqrt{2}}\\left(|0\\rangle+\\mathrm{e}^{2 \\pi \\mathrm{i}\\left(\\frac{\\mathrm{x}_{2}}{2^{k_1}}+\\frac{x_{3}}{2^{k_2}}\\right)}|1\\rangle\\right)$ = $\\frac{1}{\\sqrt{2}}\\left(|0\\rangle+\\mathrm{e}^{2 \\pi \\mathrm{i}\\left(\\frac{0}{2}+\\frac{0}{4}\\right)}|1\\rangle\\right)$ = $e^{\\pi i 0} =$ <font color=\"blue\">$1$</font> (no rotation)\n",
        "\n",
        "> <font color=\"blue\">Qubit 3 = $\\tilde{x_3}$</font> = $\\frac{1}{\\sqrt{2}}\\left(|0\\rangle+\\mathrm{e}^{2 \\pi \\mathrm{i}\\left(\\frac{\\mathrm{x}_{3}}{2^{k_1}}\\right)}|1\\rangle\\right)$ = $\\frac{1}{\\sqrt{2}}\\left(|0\\rangle+\\mathrm{e}^{2 \\pi \\mathrm{i} \\frac{0}{2}}|1\\rangle\\right)$ = $e^{\\pi i 0} =$ <font color=\"blue\">$1$</font> (no rotation)"
      ],
      "metadata": {
        "id": "A1P1ofjqdvy1"
      }
    },
    {
      "cell_type": "markdown",
      "source": [
        "**Circuit Construction**\n",
        "\n",
        "*Compare the equations above with the circuit activations below (how a circuits computes the results). For example for the first qubit the operator / gate $S$ = 90° rotation is only activated if the second qubit $x_2$ is in state 1 (here it is NOT activated):*\n",
        "\n",
        "![ggg](https://raw.githubusercontent.com/deltorobarba/repo/master/sciences_0812.png)"
      ],
      "metadata": {
        "id": "dKIodF_4dvy1"
      }
    },
    {
      "cell_type": "markdown",
      "source": [
        "###### <font color=\"blue\">*Quantum Fourier Transform with 3 Qubits for $|111\\rangle$*"
      ],
      "metadata": {
        "id": "CA0bmoLgdvy1"
      }
    },
    {
      "cell_type": "markdown",
      "source": [
        "**Computational Basis in $|111\\rangle$**\n",
        "\n",
        "![ggg](https://raw.githubusercontent.com/deltorobarba/repo/master/sciences_0802.png)"
      ],
      "metadata": {
        "id": "qXRBmM0advy1"
      }
    },
    {
      "cell_type": "markdown",
      "source": [
        "**Fourier Basis for $|111\\rangle$**\n",
        "\n",
        "![ggg](https://raw.githubusercontent.com/deltorobarba/repo/master/sciences_0803.png)"
      ],
      "metadata": {
        "id": "Cel8JQg6dvy1"
      }
    },
    {
      "cell_type": "markdown",
      "source": [
        "**Computational States:** <font color=\"blue\">$\\tilde{x_1}$ = 1</font>, <font color=\"blue\">$\\tilde{x_2}$ = 1</font>, <font color=\"blue\">$\\tilde{x_3}$ = 1</font>. Number of Qubits: <font color=\"blue\">$k_1$ = 1 qubit, $k_2$ = 2 qubits, $k_3$ = 3 qubits</font>\n",
        "\n",
        "> <font color=\"blue\">Qubit 1 = $\\tilde{x_1}$</font> = $\\frac{1}{\\sqrt{2}}\\left(|0\\rangle+\\mathrm{e}^{2 \\pi \\mathrm{i}\\left(\\frac{\\mathrm{x}_{1}}{2^{k_1}}+\\frac{x_{2}}{2^{k_2}}+\\frac{x_{3}}{2^{k_3}}\\right)}|1\\rangle\\right)$ = $\\frac{1}{\\sqrt{2}}\\left(|0\\rangle+\\mathrm{e}^{2 \\pi \\mathrm{i}\\left(\\frac{1}{2}+\\frac{1}{4}+\\frac{1}{8}\\right)}|1\\rangle\\right)$ = $\\mathrm{e}^{2 \\pi i 0.875} = \\mathrm{e}^{\\pi i 1.75}$ (180° Z-rotation + 90° S-rotation + 45° T-rotation)\n",
        "\n",
        "> <font color=\"blue\">Qubit 2 = $\\tilde{x_2}$</font> = $\\frac{1}{\\sqrt{2}}\\left(|0\\rangle+\\mathrm{e}^{2 \\pi \\mathrm{i}\\left(\\frac{\\mathrm{x}_{2}}{2^{k_1}}+\\frac{x_{3}}{2^{k_2}}\\right)}|1\\rangle\\right)$ = $\\frac{1}{\\sqrt{2}}\\left(|0\\rangle+\\mathrm{e}^{2 \\pi \\mathrm{i}\\left(\\frac{1}{2}+\\frac{1}{4}\\right)}|1\\rangle\\right)$ = $e^{\\pi i 1.5} =$ <font color=\"blue\">$-i$</font> (180° Z-rotation + 90° S-rotation)\n",
        "\n",
        "> <font color=\"blue\">Qubit 3 = $\\tilde{x_3}$</font> = $\\frac{1}{\\sqrt{2}}\\left(|0\\rangle+\\mathrm{e}^{2 \\pi \\mathrm{i}\\left(\\frac{\\mathrm{x}_{3}}{2^{k_1}}\\right)}|1\\rangle\\right)$ = $\\frac{1}{\\sqrt{2}}\\left(|0\\rangle+\\mathrm{e}^{2 \\pi \\mathrm{i} \\frac{1}{2}}|1\\rangle\\right)$ = $e^{\\pi i 1} =$ <font color=\"blue\">$-1$</font> (180° Z-rotation)"
      ],
      "metadata": {
        "id": "yK9NUDVvdvy2"
      }
    },
    {
      "cell_type": "markdown",
      "source": [
        "**Circuit Construction**\n",
        "\n",
        "*Compare the equations above with the circuit activations below (how a circuits computes the results). For example for the first qubit the operator / gate $S$ = 90° rotation is only activated if the second qubit $x_2$ is in state 1. Here it is activated because $x_2$ = 1:*\n",
        "\n",
        "![ggg](https://raw.githubusercontent.com/deltorobarba/repo/master/sciences_0812.png)"
      ],
      "metadata": {
        "id": "HYY1eloedvy2"
      }
    },
    {
      "cell_type": "markdown",
      "source": [
        "###### <font color=\"blue\">*Quantum Fourier Transform with 3 Qubits for $|001\\rangle$*"
      ],
      "metadata": {
        "id": "fMCczd5Sdvy2"
      }
    },
    {
      "cell_type": "markdown",
      "source": [
        "**Computational Basis in $|001\\rangle$**\n",
        "\n",
        "![ggg](https://raw.githubusercontent.com/deltorobarba/repo/master/sciences_0804.png)"
      ],
      "metadata": {
        "id": "XH-LUgBzdvy2"
      }
    },
    {
      "cell_type": "markdown",
      "source": [
        "**Fourier Basis for $|001\\rangle$**\n",
        "\n",
        "![ggg](https://raw.githubusercontent.com/deltorobarba/repo/master/sciences_0805.png)"
      ],
      "metadata": {
        "id": "mmzy5V1Idvy2"
      }
    },
    {
      "cell_type": "markdown",
      "source": [
        "**Computational States:** <font color=\"blue\">$\\tilde{x_1}$ = 0</font>, <font color=\"blue\">$\\tilde{x_2}$ = 0</font>, <font color=\"blue\">$\\tilde{x_3}$ = 1</font>. Number of Qubits: <font color=\"blue\">$k_1$ = 1 qubit, $k_2$ = 2 qubits, $k_3$ = 3 qubits</font>\n",
        "\n",
        "> <font color=\"blue\">Qubit 1 = $\\tilde{x_1}$</font> = $\\frac{1}{\\sqrt{2}}\\left(|0\\rangle+\\mathrm{e}^{2 \\pi \\mathrm{i}\\left(\\frac{\\mathrm{x}_{1}}{2^{k_1}}+\\frac{x_{2}}{2^{k_2}}+\\frac{x_{3}}{2^{k_3}}\\right)}|1\\rangle\\right)$ = $\\frac{1}{\\sqrt{2}}\\left(|0\\rangle+\\mathrm{e}^{2 \\pi \\mathrm{i}\\left(\\frac{0}{2}+\\frac{0}{4}+\\frac{1}{8}\\right)}|1\\rangle\\right)$  = <font color=\"blue\">$\\frac{\\pi i}{4}$</font> (45° T-rotation)\n",
        "\n",
        "> <font color=\"blue\">Qubit 2 = $\\tilde{x_2}$</font> = $\\frac{1}{\\sqrt{2}}\\left(|0\\rangle+\\mathrm{e}^{2 \\pi \\mathrm{i}\\left(\\frac{\\mathrm{x}_{2}}{2^{k_1}}+\\frac{x_{3}}{2^{k_2}}\\right)}|1\\rangle\\right)$ = $\\frac{1}{\\sqrt{2}}\\left(|0\\rangle+\\mathrm{e}^{2 \\pi \\mathrm{i}\\left(\\frac{0}{2}+\\frac{1}{4}\\right)}|1\\rangle\\right)$ = <font color=\"blue\">$\\frac{\\pi i}{2}$</font> (90° S-rotation)\n",
        "\n",
        "> <font color=\"blue\">Qubit 3 = $\\tilde{x_3}$</font> = $\\frac{1}{\\sqrt{2}}\\left(|0\\rangle+\\mathrm{e}^{2 \\pi \\mathrm{i}\\left(\\frac{\\mathrm{x}_{3}}{2^{k_1}}\\right)}|1\\rangle\\right)$ = $\\frac{1}{\\sqrt{2}}\\left(|0\\rangle+\\mathrm{e}^{2 \\pi \\mathrm{i} \\frac{1}{2}}|1\\rangle\\right)$ = $e^{\\pi i 1} =$ <font color=\"blue\">$-1$</font> (180° Z-rotation)"
      ],
      "metadata": {
        "id": "Oa9lkCekdvy2"
      }
    },
    {
      "cell_type": "markdown",
      "source": [
        "**Circuit Construction**\n",
        "\n",
        "*Compare the equations above with the circuit activations below (how a circuits computes the results). For example for the first qubit the operator / gate $S$ = 90° rotation is only activated if the second qubit $x_2$ is in state 1. Here it is not activated because $x_2$ = 0:*\n",
        "\n",
        "![ggg](https://raw.githubusercontent.com/deltorobarba/repo/master/sciences_0812.png)"
      ],
      "metadata": {
        "id": "tAr5mMp3dvy2"
      }
    },
    {
      "cell_type": "markdown",
      "source": [
        "###### <font color=\"blue\">*Quantum Fourier Transform with 3 Qubits for $|010\\rangle$*"
      ],
      "metadata": {
        "id": "5fQJmfWsdvy3"
      }
    },
    {
      "cell_type": "markdown",
      "source": [
        "**Computational Basis in $|010\\rangle$**\n",
        "\n",
        "![ggg](https://raw.githubusercontent.com/deltorobarba/repo/master/sciences_0806.png)"
      ],
      "metadata": {
        "id": "S09omw9sdvy3"
      }
    },
    {
      "cell_type": "markdown",
      "source": [
        "**Fourier Basis for $|010\\rangle$**\n",
        "\n",
        "![ggg](https://raw.githubusercontent.com/deltorobarba/repo/master/sciences_0807.png)"
      ],
      "metadata": {
        "id": "NT_DOUd6dvy3"
      }
    },
    {
      "cell_type": "markdown",
      "source": [
        "**Computational States:** <font color=\"blue\">$\\tilde{x_1}$ = 0</font>, <font color=\"blue\">$\\tilde{x_2}$ = 1</font>, <font color=\"blue\">$\\tilde{x_3}$ = 0</font>. Number of Qubits: <font color=\"blue\">$k_1$ = 1 qubit, $k_2$ = 2 qubits, $k_3$ = 3 qubits</font>\n",
        "\n",
        "> <font color=\"blue\">Qubit 1 = $\\tilde{x_1}$</font> = $\\frac{1}{\\sqrt{2}}\\left(|0\\rangle+\\mathrm{e}^{2 \\pi \\mathrm{i}\\left(\\frac{\\mathrm{x}_{1}}{2^{k_1}}+\\frac{x_{2}}{2^{k_2}}+\\frac{x_{3}}{2^{k_3}}\\right)}|1\\rangle\\right)$ = $\\frac{1}{\\sqrt{2}}\\left(|0\\rangle+\\mathrm{e}^{2 \\pi \\mathrm{i}\\left(\\frac{0}{2}+\\frac{1}{4}+\\frac{0}{8}\\right)}|1\\rangle\\right)$  = <font color=\"blue\">$\\frac{\\pi i}{2}$</font> (90° S-rotation)\n",
        "\n",
        "> <font color=\"blue\">Qubit 2 = $\\tilde{x_2}$</font> = $\\frac{1}{\\sqrt{2}}\\left(|0\\rangle+\\mathrm{e}^{2 \\pi \\mathrm{i}\\left(\\frac{\\mathrm{x}_{2}}{2^{k_1}}+\\frac{x_{3}}{2^{k_2}}\\right)}|1\\rangle\\right)$ = $\\frac{1}{\\sqrt{2}}\\left(|0\\rangle+\\mathrm{e}^{2 \\pi \\mathrm{i}\\left(\\frac{1}{2}+\\frac{0}{4}\\right)}|1\\rangle\\right)$ = $e^{\\pi i 1} =$ <font color=\"blue\">$-1$</font> (180° Z-rotation)\n",
        "\n",
        "> <font color=\"blue\">Qubit 3 = $\\tilde{x_3}$</font> = $\\frac{1}{\\sqrt{2}}\\left(|0\\rangle+\\mathrm{e}^{2 \\pi \\mathrm{i}\\left(\\frac{\\mathrm{x}_{3}}{2^{k_1}}\\right)}|1\\rangle\\right)$ = $\\frac{1}{\\sqrt{2}}\\left(|0\\rangle+\\mathrm{e}^{2 \\pi \\mathrm{i} \\frac{0}{2}}|1\\rangle\\right)$ = $e^{\\pi i 0} =$ <font color=\"blue\">$1$</font> (no rotation)"
      ],
      "metadata": {
        "id": "XVCUWh3Ldvy3"
      }
    },
    {
      "cell_type": "markdown",
      "source": [
        "**Circuit Construction**\n",
        "\n",
        "*Compare the equations above with the circuit activations below (how a circuits computes the results). For example for the first qubit the operator / gate $S$ = 90° rotation is only activated if the second qubit $x_2$ is in state 1. Here it is activated because $x_2$ = 1:*\n",
        "\n",
        "![ggg](https://raw.githubusercontent.com/deltorobarba/repo/master/sciences_0812.png)"
      ],
      "metadata": {
        "id": "8bTKN9hAdvy3"
      }
    },
    {
      "cell_type": "markdown",
      "source": [
        "###### <font color=\"blue\">*Quantum Fourier Transform with 3 Qubits for $|011\\rangle$*"
      ],
      "metadata": {
        "id": "qX_gs7XQdvy3"
      }
    },
    {
      "cell_type": "markdown",
      "source": [
        "**Computational Basis in $|011\\rangle$**\n",
        "\n",
        "![ggg](https://raw.githubusercontent.com/deltorobarba/repo/master/sciences_0808.png)"
      ],
      "metadata": {
        "id": "_OaSJ7U5dvy3"
      }
    },
    {
      "cell_type": "markdown",
      "source": [
        "**Fourier Basis for $|011\\rangle$**\n",
        "\n",
        "![ggg](https://raw.githubusercontent.com/deltorobarba/repo/master/sciences_0809.png)"
      ],
      "metadata": {
        "id": "6PmwPpE0dvy3"
      }
    },
    {
      "cell_type": "markdown",
      "source": [
        "**Computational States:** <font color=\"blue\">$\\tilde{x_1}$ = 0</font>, <font color=\"blue\">$\\tilde{x_2}$ = 1</font>, <font color=\"blue\">$\\tilde{x_3}$ = 1</font>. Number of Qubits: <font color=\"blue\">$k_1$ = 1 qubit, $k_2$ = 2 qubits, $k_3$ = 3 qubits</font>\n",
        "\n",
        "> <font color=\"blue\">Qubit 1 = $\\tilde{x_1}$</font> = $\\frac{1}{\\sqrt{2}}\\left(|0\\rangle+\\mathrm{e}^{2 \\pi \\mathrm{i}\\left(\\frac{\\mathrm{x}_{1}}{2^{k_1}}+\\frac{x_{2}}{2^{k_2}}+\\frac{x_{3}}{2^{k_3}}\\right)}|1\\rangle\\right)$ = $\\frac{1}{\\sqrt{2}}\\left(|0\\rangle+\\mathrm{e}^{2 \\pi \\mathrm{i}\\left(\\frac{0}{2}+\\frac{1}{4}+\\frac{1}{8}\\right)}|1\\rangle\\right)$  = <font color=\"blue\">$\\frac{3 \\pi i}{8}$</font> (90° S-rotation + 45° T-rotation)\n",
        "\n",
        "> <font color=\"blue\">Qubit 2 = $\\tilde{x_2}$</font> = $\\frac{1}{\\sqrt{2}}\\left(|0\\rangle+\\mathrm{e}^{2 \\pi \\mathrm{i}\\left(\\frac{\\mathrm{x}_{2}}{2^{k_1}}+\\frac{x_{3}}{2^{k_2}}\\right)}|1\\rangle\\right)$ = $\\frac{1}{\\sqrt{2}}\\left(|0\\rangle+\\mathrm{e}^{2 \\pi \\mathrm{i}\\left(\\frac{1}{2}+\\frac{1}{4}\\right)}|1\\rangle\\right)$ = $e^{\\pi i 1.5} =$ <font color=\"blue\">$-i$</font> (180° Z-rotation + 90° S-rotation)\n",
        "\n",
        "> <font color=\"blue\">Qubit 3 = $\\tilde{x_3}$</font> = $\\frac{1}{\\sqrt{2}}\\left(|0\\rangle+\\mathrm{e}^{2 \\pi \\mathrm{i}\\left(\\frac{\\mathrm{x}_{3}}{2^{k_1}}\\right)}|1\\rangle\\right)$ = $\\frac{1}{\\sqrt{2}}\\left(|0\\rangle+\\mathrm{e}^{2 \\pi \\mathrm{i} \\frac{1}{2}}|1\\rangle\\right)$ = $e^{\\pi i 1} =$ <font color=\"blue\">$-1$</font> (180° Z-rotation)"
      ],
      "metadata": {
        "id": "VRrbDiCLdvy4"
      }
    },
    {
      "cell_type": "markdown",
      "source": [
        "**Circuit Construction**\n",
        "\n",
        "*Compare the equations above with the circuit activations below (how a circuits computes the results). For example for the first qubit the operator / gate $S$ = 90° rotation is only activated if the second qubit $x_2$ is in state 1. Here it is activated because $x_2$ = 1:*\n",
        "\n",
        "![ggg](https://raw.githubusercontent.com/deltorobarba/repo/master/sciences_0812.png)"
      ],
      "metadata": {
        "id": "3Ok3nsoxdvy4"
      }
    },
    {
      "cell_type": "markdown",
      "source": [
        "###### <font color=\"blue\">*Cirq Code for Quantum Fourier Transform*"
      ],
      "metadata": {
        "id": "7v5-BDY-dvy4"
      }
    },
    {
      "cell_type": "code",
      "source": [
        "def make_qft(qubits):\n",
        "\n",
        "    # Generate list of qubits\n",
        "    qreg = list(qubits)\n",
        "    \n",
        "    # Make sure list is longer than 0 qubits:\n",
        "    while len(qreg) > 0:\n",
        "    \n",
        "    # Remove first qubit from list and return its value (set as head-qubit):\n",
        "        q_head = qreg.pop(0)\n",
        "    \n",
        "    # Apply Hadamard superposition to this head-qubit\n",
        "        yield cirq.H(q_head)\n",
        "\n",
        "    # Enumerate through list with i (index position) and corresponding qubit value (0 or 1)\n",
        "        for i, qubit in enumerate(qreg):\n",
        "\n",
        "    # Apply Controlled-Z * Theta-Phase-Shift on target ('q-head') if control-qubit ('qubit') is in state 1\n",
        "            yield (cirq.CZ ** (1 / 2 ** (i + 1)))(qubit, q_head)\n",
        "\n",
        "    # Iterating through until \"while len(qreg) = 0\", then processes stops\n",
        "\n",
        "\"\"\"Visually check the QFT circuit.\"\"\"\n",
        "qubits = cirq.LineQubit.range(3)\n",
        "qft = cirq.Circuit(make_qft(qubits))\n",
        "print(qft)"
      ],
      "metadata": {
        "colab": {
          "base_uri": "https://localhost:8080/"
        },
        "outputId": "90ecbfb0-50a6-44d7-ee8b-6b1d2ba240c3",
        "id": "myOgAQXddvy4"
      },
      "execution_count": null,
      "outputs": [
        {
          "output_type": "stream",
          "name": "stdout",
          "text": [
            "                  ┌───────┐\n",
            "0: ───H───@────────@──────────────────────\n",
            "          │        │\n",
            "1: ───────@^0.5────┼─────H────@───────────\n",
            "                   │          │\n",
            "2: ────────────────@^0.25─────@^0.5───H───\n",
            "                  └───────┘\n"
          ]
        }
      ]
    },
    {
      "cell_type": "markdown",
      "source": [
        "*Compare the code above with the circuit activations below (how a circuits computes the results):* \n",
        "\n",
        "* $H$ gate = bring qubit in superposition. \n",
        "\n",
        "  * *For $x=0$, no further rotation*\n",
        "  \n",
        "  * *For $x=1$, then appy additional *$Z$ gate = 180° rotation = $\\pi$**\n",
        "\n",
        "* *$S$ gate = 90° rotation = $\\frac{\\pi}{2}$*\n",
        "\n",
        "* *$T$ gate = 45° rotation = $\\frac{\\pi}{4}$*"
      ],
      "metadata": {
        "id": "lWJ2Oz2Ydvy4"
      }
    },
    {
      "cell_type": "markdown",
      "metadata": {
        "id": "i7Kf_eYqdvy4"
      },
      "source": [
        "$C R_{j}=C Z^{1 / 2^{j-1}}$\n",
        "\n",
        "* $Z$ entspricht $\\pi$ (ein halber Kreis, zB von +1 zu -1 auf X-Achse) \n",
        "\n",
        "* $S$ entspricht $\\frac{\\pi}{2}$, also wenn qubit 1 = 1, dann bei qubit 0 das $S$ transform anwenden (0,5)\n",
        "\n",
        "  * S: The square root of Z gate, equivalent to cirq.Z ** 0.5\n",
        "\n",
        "  * See: [Cirq Gates](https://quantumai.google/cirq/gates)\n",
        "\n",
        "* $T$ entspricht $\\frac{\\pi}{4}$"
      ]
    },
    {
      "cell_type": "markdown",
      "source": [
        "![ggg](https://raw.githubusercontent.com/deltorobarba/repo/master/sciences_0815.png)"
      ],
      "metadata": {
        "id": "mzHIk-hJdvy5"
      }
    },
    {
      "cell_type": "markdown",
      "source": [
        "![ggg](https://raw.githubusercontent.com/deltorobarba/repo/master/sciences_0812.png)"
      ],
      "metadata": {
        "id": "hrQWmHHydvy5"
      }
    },
    {
      "cell_type": "markdown",
      "metadata": {
        "id": "H5UWTvo2dvy5"
      },
      "source": [
        "https://www.mlq.ai/quantum-programming-google-cirq/"
      ]
    },
    {
      "cell_type": "markdown",
      "metadata": {
        "id": "BC7-lHcCdvy5"
      },
      "source": [
        "https://quantumai.google/cirq/tutorials/educators/textbook_algorithms"
      ]
    },
    {
      "cell_type": "markdown",
      "source": [
        "###### <font color=\"blue\">*Cirq Code for Inverse Quantum Fourier Transform (QFT Dagger)*"
      ],
      "metadata": {
        "id": "Xp8Ifo-Idvy5"
      }
    },
    {
      "cell_type": "code",
      "source": [
        "# Difference QFT and inverse QFT:\n",
        "# yield (cirq.CZ ** (1 / 2 ** (i + 1)))(qubit, q_head)\n",
        "# yield (cirq.CZ ** (-1 / 2 ** (i + 1)))(qubit, q_head)\n",
        "# Dagger is a complex conjugate operation!"
      ],
      "metadata": {
        "id": "eR7vQ82Qdvy5"
      },
      "execution_count": null,
      "outputs": []
    },
    {
      "cell_type": "markdown",
      "metadata": {
        "id": "o4L1ebJQdvy5"
      },
      "source": [
        "**Inverse Quantum Fourier Transform ('QFT Dagger' - Dagger is a complex conjugate operation!)**"
      ]
    },
    {
      "cell_type": "code",
      "source": [
        "def make_qft_inverse(qubits):\n",
        "    \"\"\"Generator for the inverse QFT on a list of qubits.\"\"\"\n",
        "    qreg = list(qubits)[::-1]\n",
        "    while len(qreg) > 0:\n",
        "        q_head = qreg.pop(0)\n",
        "        yield cirq.H(q_head)\n",
        "        for i, qubit in enumerate(qreg):\n",
        "            yield (cirq.CZ ** (-1 / 2 ** (i + 1)))(qubit, q_head)\n",
        "\n",
        "# Syntax explanation for list(qubits)[::-1]: list[<start>:<stop>:<step>]\n",
        "# So, when you do a[::-1], it starts from the end towards the first taking each element. \n",
        "# So it reverses a. This is applicable for lists/tuples as well.\n",
        "# Example: >>> a = '1234' >>> a[::-1] will get you: '4321'\n",
        "\n",
        "\"\"\"Build the last part of the circuit (inverse QFT) for phase estimation.\"\"\"\n",
        "\n",
        "# Do the inverse QFT as subroutine in quantum phase estimation\n",
        "phase_estimator.append(make_qft_inverse(qubits[::-1]))"
      ],
      "metadata": {
        "id": "zcDIYy0Ydvy5"
      },
      "execution_count": null,
      "outputs": []
    },
    {
      "cell_type": "code",
      "source": [
        "# Difference QFT and inverse QFT:\n",
        "# yield (cirq.CZ ** (1 / 2 ** (i + 1)))(qubit, q_head)\n",
        "# yield (cirq.CZ ** (-1 / 2 ** (i + 1)))(qubit, q_head)"
      ],
      "metadata": {
        "id": "oHfvQXTKdvy6"
      },
      "execution_count": null,
      "outputs": []
    },
    {
      "cell_type": "markdown",
      "metadata": {
        "id": "6oTg0Uyudvy6"
      },
      "source": [
        "Reminder of QFT:\n",
        "\n",
        "* $QFT\\,\\,|x\\rangle=|\\tilde{x}\\rangle=$ $\\frac{1}{\\sqrt{N}} \\sum_{y=0}^{N-1} e^{\\frac{2 \\pi i}{N} x y} |y\\rangle$\n",
        "\n",
        "**Remember: Dagger is a complex conjugate operation!**\n",
        "\n",
        "QFT inverse (see -2 turning i in -i which is a complex conjugate operation):\n",
        "\n",
        "* $QFT^{\\dagger}|\\tilde{x}\\rangle=|x\\rangle=$ $\\frac{1}{\\sqrt{N}} \\sum_{y=0}^{N-1} e^{\\frac{-2 \\pi i}{N} x y} |y\\rangle$ \n",
        "\n",
        "\n",
        "The operator is then (\n",
        "We have already seen that the Hadamard gate is self-inverse, and the same is clearly true for the SWAP gate; the inverse of the rotations gate $R_k$ is given by):\n",
        "\n",
        "> The matrix form of inverse QFT operator is: <font color=\"blue\">${R^{\\dagger}}_{k}=\\left(\\begin{array}{cc}1 & 0 \\\\ 0 & e^{-2 \\pi i / 2^{k}}\\end{array}\\right)$</font> and compare with QFT operator:  <font color=\"blue\">$\\hat{R}_{k}=\\left(\\begin{array}{cc}1 & 0 \\\\ 0 & e^{2 \\pi i / 2^{k}}\\end{array}\\right)$\n",
        "\n",
        "https://www.cl.cam.ac.uk/teaching/1920/QuantComp/Quantum_Computing_Lecture_9.pdf"
      ]
    },
    {
      "cell_type": "markdown",
      "source": [
        "###### <font color=\"blue\">*Summary: Example how QFT adds another smaller rotation increasing number of qubits*"
      ],
      "metadata": {
        "id": "J_R81NBgdvy6"
      }
    },
    {
      "cell_type": "markdown",
      "source": [
        "https://javafxpert.github.io/grok-bloch/\n"
      ],
      "metadata": {
        "id": "9oR4iYOOdvy6"
      }
    },
    {
      "cell_type": "markdown",
      "source": [
        "https://www.st-andrews.ac.uk/physics/quvis/simulations_html5/sims/blochsphere/blochsphere.html"
      ],
      "metadata": {
        "id": "aPor14GSdvy6"
      }
    },
    {
      "cell_type": "markdown",
      "source": [
        "> **Two important things to remember with QFT:**"
      ],
      "metadata": {
        "id": "KYelEBZ3dvy6"
      }
    },
    {
      "cell_type": "markdown",
      "source": [
        "**Depending on how many qubits I have, I have the following applications:**\n",
        "  \n",
        "* For my first qubit I always apply an Hadamard-gate, \n",
        "\n",
        "  * for computational basis = 1, then additionally apply Z-gate = $\\pi$\n",
        "  \n",
        "* if I have a second qubit, then then I apply an S-gate ($\\frac{\\pi}{2}$), \n",
        "  \n",
        "* if I have a third qubit, then then I apply an T-gate ($\\frac{\\pi}{4}$), \n",
        "  \n",
        "* if I have a forth qubit, then then I apply ($\\frac{\\pi}{8}$) etc."
      ],
      "metadata": {
        "id": "VFsvOtu-dvy6"
      }
    },
    {
      "cell_type": "markdown",
      "source": [
        "**In order to represent the above mentioned movement, you need to build the circuit in the following way: If I have more than one qubit, please notice the shift between the denominator (bottom - which remains fixed) and numerator (top - which is shifted by one qubit more)**. See here an example for Quantum Fourier Transform on three qubits:\n",
        "\n",
        "* <font color=\"blue\">$\\tilde{x_1}$ = $\\frac{1}{\\sqrt{2}}\\left(|0\\rangle+\\mathrm{e}^{2 \\pi \\mathrm{i}\\left(\\frac{\\mathrm{x}_{1}}{2^{n_{x_1}}}+\\frac{x_{2}}{2^{n_{x_2}}}+\\frac{x_{3}}{2^{n_{x_3}}}\\right)}|1\\rangle\\right)$</font>\n",
        "\n",
        "* <font color=\"blue\">$\\tilde{x_2}$ = $\\frac{1}{\\sqrt{2}}\\left(|0\\rangle+\\mathrm{e}^{2 \\pi \\mathrm{i}\\left(\\frac{x_2}{2^{n_{x_1}}}+\\frac{x_3}{2^{n_{x_2}}}\\right)}|1\\rangle\\right)$</font>\n",
        "\n",
        "* <font color=\"blue\">$\\tilde{x_3}$ = $\\frac{1}{\\sqrt{2}}\\left(|0\\rangle+\\mathrm{e}^{2 \\pi \\mathrm{i}\\left(\\frac{x_3}{2^{n_{x_1}}}\\right)}|1\\rangle\\right)$</font>\n",
        "\n",
        "* etc."
      ],
      "metadata": {
        "id": "An9aaAYpdvy6"
      }
    },
    {
      "cell_type": "markdown",
      "source": [
        "Understanding the previous chapter: How the qubit moves in the fourier basis when I add more qubits. Here the example is always computational states are = 1"
      ],
      "metadata": {
        "id": "-hBhe3I_dvy7"
      }
    },
    {
      "cell_type": "markdown",
      "source": [
        "![gg](https://raw.githubusercontent.com/deltorobarba/repo/master/sciences_0775.png)\n"
      ],
      "metadata": {
        "id": "hmYqpSFJdvy7"
      }
    },
    {
      "cell_type": "markdown",
      "source": [
        "![gg](https://raw.githubusercontent.com/deltorobarba/repo/master/sciences_0776.png)\n"
      ],
      "metadata": {
        "id": "n1uy3QlSdvy7"
      }
    },
    {
      "cell_type": "markdown",
      "source": [
        "> <font color=\"blue\">For $x_1$ = 1 $\\Rightarrow$ $\\tilde{x_1}$</font> = $\\frac{1}{\\sqrt{2}}\\left(|0\\rangle+\\mathrm{e}^{2 \\pi \\mathrm{i}\\left(\\frac{x_1}{2^1}\\right)}|1\\rangle\\right)$ $\\Rightarrow$ $\\mathrm{e}^{2 \\pi \\mathrm{i}\\left(\\frac{1}{2}\\right)}$ = $\\mathrm{e}^{\\pi \\mathrm{i}}$ = Z-Rotation to -1"
      ],
      "metadata": {
        "id": "SijX3d5udvy7"
      }
    },
    {
      "cell_type": "markdown",
      "source": [
        "![gg](https://raw.githubusercontent.com/deltorobarba/repo/master/sciences_0777.png)\n"
      ],
      "metadata": {
        "id": "vxHCyb8udvy7"
      }
    },
    {
      "cell_type": "markdown",
      "source": [
        "*Results for: $x_1$ = 1, $x_2$ = 1*\n",
        "\n",
        "* <font color=\"blue\">$\\tilde{x_1}$ =</font> $\\frac{1}{\\sqrt{2}}\\left(|0\\rangle+\\mathrm{e}^{2 \\pi \\mathrm{i}\\left(\\frac{x_1}{2}+\\frac{x_2}{4}\\right)}|1\\rangle\\right)$ = $\\frac{1}{\\sqrt{2}}\\left(|0\\rangle+\\mathrm{e}^{2 \\pi \\mathrm{i}\\left(\\frac{1}{2}+\\frac{1}{4}\\right)}|1\\rangle\\right)$ = $\\mathrm{e}^{2 \\pi \\mathrm{i}\\left(\\frac{2}{4}+\\frac{1}{4}\\right)}$  = $\\mathrm{e}^{1,5 \\pi \\mathrm{i}}$ Rotation = -i\n",
        "\n",
        "* <font color=\"blue\">$\\tilde{x_2}$ = </font>$\\frac{1}{\\sqrt{2}}\\left(|0\\rangle+\\mathrm{e}^{\\pi \\mathrm{i}x_2}|1\\rangle\\right)$ = $\\frac{1}{\\sqrt{2}}\\left(|0\\rangle+\\mathrm{e}^{\\pi \\mathrm{i}1}|1\\rangle\\right)$ = $\\mathrm{e}^{\\pi \\mathrm{i}}$ Rotation = -1"
      ],
      "metadata": {
        "id": "lo5V53HJdvy7"
      }
    },
    {
      "cell_type": "markdown",
      "source": [
        "![gg](https://raw.githubusercontent.com/deltorobarba/repo/master/sciences_0778.png)\n"
      ],
      "metadata": {
        "id": "nvL2B1Msdvy7"
      }
    },
    {
      "cell_type": "markdown",
      "source": [
        "**Quantum States:** <font color=\"blue\">$\\tilde{x_1}$ = 1</font>, <font color=\"blue\">$\\tilde{x_2}$ = 1</font>, <font color=\"blue\">$\\tilde{x_3}$ = 1</font>. \n",
        "\n",
        "And Qubits always: $k_1$ = 1 qubit, $k_2$ = 2 qubits, $k_3$ = 3 qubits\n",
        "\n",
        "> <font color=\"blue\">Qubit 0 = $\\tilde{x_1}$</font> = $\\frac{1}{\\sqrt{2}}\\left(|0\\rangle+\\mathrm{e}^{2 \\pi \\mathrm{i}\\left(\\frac{\\mathrm{x}_{1}}{2^{k_1}}+\\frac{x_{2}}{2^{k_2}}+\\frac{x_{3}}{2^{k_3}}\\right)}|1\\rangle\\right)$ = $\\frac{1}{\\sqrt{2}}\\left(|0\\rangle+\\mathrm{e}^{2 \\pi \\mathrm{i}\\left(\\frac{1}{2}+\\frac{1}{4}+\\frac{1}{8}\\right)}|1\\rangle\\right)$ = $\\mathrm{e}^{2 \\pi i 0.875} = \\mathrm{e}^{\\pi i 1.75}$\n",
        "\n",
        "> <font color=\"blue\">Qubit 1 = $\\tilde{x_2}$</font> = $\\frac{1}{\\sqrt{2}}\\left(|0\\rangle+\\mathrm{e}^{2 \\pi \\mathrm{i}\\left(\\frac{\\mathrm{x}_{2}}{2^{k_1}}+\\frac{x_{3}}{2^{k_2}}\\right)}|1\\rangle\\right)$ = $\\frac{1}{\\sqrt{2}}\\left(|0\\rangle+\\mathrm{e}^{2 \\pi \\mathrm{i}\\left(\\frac{1}{2}+\\frac{1}{4}\\right)}|1\\rangle\\right)$ = $e^{\\pi i 1.5} =$ <font color=\"blue\">$-i$</font>\n",
        "\n",
        "> <font color=\"blue\">Qubit 2 = $\\tilde{x_3}$</font> = $\\frac{1}{\\sqrt{2}}\\left(|0\\rangle+\\mathrm{e}^{2 \\pi \\mathrm{i}\\left(\\frac{\\mathrm{x}_{3}}{2^{k_1}}\\right)}|1\\rangle\\right)$ = $\\frac{1}{\\sqrt{2}}\\left(|0\\rangle+\\mathrm{e}^{2 \\pi \\mathrm{i} \\frac{1}{2}}|1\\rangle\\right)$ = $e^{\\pi i 1} =$ <font color=\"blue\">$-1$</font>"
      ],
      "metadata": {
        "id": "L0EPitQTdvy7"
      }
    },
    {
      "cell_type": "markdown",
      "source": [
        "*Berechnung eines QFT in 3 Qubits im Computational State |011>:*\n",
        "\n",
        "![gg](https://raw.githubusercontent.com/deltorobarba/repo/master/quantum_114.jpg)\n"
      ],
      "metadata": {
        "id": "1DnBul_Wdvy9"
      }
    },
    {
      "cell_type": "markdown",
      "source": [
        "*Compare the calculation results now with the according rotation gates in each step:*\n",
        "\n",
        "![ggg](https://raw.githubusercontent.com/deltorobarba/repo/master/quantum_076.jpg)\n",
        "\n",
        "https://www.cl.cam.ac.uk/teaching/1920/QuantComp/Quantum_Computing_Lecture_9.pdf"
      ],
      "metadata": {
        "id": "uliyZRhbdvy9"
      }
    },
    {
      "cell_type": "markdown",
      "metadata": {
        "id": "eI51e9_Fdvy-"
      },
      "source": [
        "###### *Compactify Original formula for Quantum Fourier Transform*"
      ]
    },
    {
      "cell_type": "markdown",
      "source": [
        "https://jonathan-hui.medium.com/qc-quantum-fourier-transform-45436f90a43"
      ],
      "metadata": {
        "id": "w5BfocT8dvy-"
      }
    },
    {
      "cell_type": "markdown",
      "source": [
        "![ggg](https://raw.githubusercontent.com/deltorobarba/repo/master/quantum_041.JPG)"
      ],
      "metadata": {
        "id": "kBMnQAy4dvy-"
      }
    },
    {
      "cell_type": "markdown",
      "source": [
        "https://qiskit.org/textbook/ch-algorithms/quantum-fourier-transform.html"
      ],
      "metadata": {
        "id": "MvQf63p0dvy-"
      }
    },
    {
      "cell_type": "markdown",
      "metadata": {
        "id": "SpsqY602dvy-"
      },
      "source": [
        "* the [quantum Fourier transform](https://en.m.wikipedia.org/wiki/Quantum_Fourier_transform) (for short: QFT) is a linear transformation on quantum bits, and is the quantum analogue of the inverse discrete Fourier transform.\n",
        "\n",
        "> The quantum Fourier transform is the classical discrete Fourier transform applied to the vector of amplitudes of a quantum state\n",
        "\n",
        "* The quantum Fourier transform is a part of many quantum algorithms, notably Shor's algorithm for factoring and computing the discrete logarithm, the quantum phase estimation algorithm for estimating the eigenvalues of a unitary operator, and algorithms for the hidden subgroup problem. \n",
        "\n",
        "* The quantum Fourier transform was invented by Don Coppersmith.\n",
        "\n",
        "* The quantum Fourier transform can be performed efficiently on a quantum computer, with a particular decomposition into a product of simpler unitary matrices. \n",
        "\n",
        "* However, the quantum Fourier transform acts on a quantum state, whereas the classical Fourier transform acts on a vector, so not every task that uses the classical Fourier transform can take advantage of this exponential speedup."
      ]
    },
    {
      "cell_type": "markdown",
      "metadata": {
        "id": "6mI7xBzNdvy-"
      },
      "source": [
        "**Prerequisite (Update)**"
      ]
    },
    {
      "cell_type": "markdown",
      "metadata": {
        "id": "E1tniAo9dvy-"
      },
      "source": [
        "![ggg](https://raw.githubusercontent.com/deltorobarba/repo/master/quantum_046.png)"
      ]
    },
    {
      "cell_type": "markdown",
      "metadata": {
        "id": "xsXKIbsidvy-"
      },
      "source": [
        "**Formula for Quantum Fourier Transform:**"
      ]
    },
    {
      "cell_type": "markdown",
      "metadata": {
        "id": "Gpgq-P9Qdvy-"
      },
      "source": [
        "![ggg](https://raw.githubusercontent.com/deltorobarba/repo/master/quantum_047.png)"
      ]
    },
    {
      "cell_type": "markdown",
      "metadata": {
        "id": "B2yS-ClQdvy-"
      },
      "source": [
        "So the QFT can be implemented with a series of the controlled-R gate as below:\n",
        "\n",
        "![ggg](https://raw.githubusercontent.com/deltorobarba/repo/master/quantum_041.JPG)"
      ]
    },
    {
      "cell_type": "markdown",
      "metadata": {
        "id": "RYqWsgXtdvy_"
      },
      "source": [
        "A controlled-R quantum gate applies a relative phase change to |1>. The matrix form of this operator is:\n",
        "\n",
        "> $\\hat{R}_{k}=\\left(\\begin{array}{cc}1 & 0 \\\\ 0 & e^{2 \\pi i / 2^{k}}\\end{array}\\right)$\n",
        "\n",
        "Please note that $e^{2 \\pi i}$ = 1"
      ]
    },
    {
      "cell_type": "markdown",
      "metadata": {
        "id": "qPBSkVv1dvy_"
      },
      "source": [
        "y ist fur die computational states, und n=4 zB ist dann 100 der computation state in binary form"
      ]
    },
    {
      "cell_type": "markdown",
      "metadata": {
        "id": "O36SXXvodvy_"
      },
      "source": [
        "y = 0 oder 1. bei 0 verschwindet der ganze term"
      ]
    },
    {
      "cell_type": "markdown",
      "metadata": {
        "id": "jb8pJzBtdvy_"
      },
      "source": [
        "**Quantum Fourier Transform: Compactify for Circuit Representation**"
      ]
    },
    {
      "cell_type": "markdown",
      "metadata": {
        "id": "qKsNsJOFdvy_"
      },
      "source": [
        "https://www.youtube.com/watch?v=mAHC1dWKNYE"
      ]
    },
    {
      "cell_type": "markdown",
      "metadata": {
        "id": "VGPU7Xu_dvy_"
      },
      "source": [
        "**Notationshinweise:**"
      ]
    },
    {
      "cell_type": "markdown",
      "metadata": {
        "id": "nXwy-4nbdvy_"
      },
      "source": [
        "4 ist: 100, 3 ist 11 etc."
      ]
    },
    {
      "cell_type": "markdown",
      "metadata": {
        "id": "VzL-tR8_dvy_"
      },
      "source": [
        "![ggg](https://raw.githubusercontent.com/deltorobarba/repo/master/quantum_048.png)"
      ]
    },
    {
      "cell_type": "markdown",
      "source": [
        "> *Compactify writing y (note on top how N in the denominator cancels out with new way of writing y)*"
      ],
      "metadata": {
        "id": "aqelH8_Hdvy_"
      }
    },
    {
      "cell_type": "markdown",
      "source": [
        "*Formula for Quantum Fourier Transform:*\n",
        "\n",
        "![ggg](https://raw.githubusercontent.com/deltorobarba/repo/master/quantum_047.png)"
      ],
      "metadata": {
        "id": "fQa0Ix-Odvy_"
      }
    },
    {
      "cell_type": "markdown",
      "source": [
        "**We need to compactify the original formula, because it doesn't tell us how to build the circuit**"
      ],
      "metadata": {
        "id": "LXMmddPbdvzA"
      }
    },
    {
      "cell_type": "markdown",
      "source": [
        "![ggg](https://raw.githubusercontent.com/deltorobarba/repo/master/quantum_041.JPG)"
      ],
      "metadata": {
        "id": "1PxX0oMrdvzA"
      }
    },
    {
      "cell_type": "markdown",
      "metadata": {
        "id": "tZhTeN0VdvzA"
      },
      "source": [
        "Problem: this notation doesn't say much on how to build the quantum circuit:\n",
        "\n",
        "> $\\frac{1}{\\sqrt{N}} \\sum_{y=0}^{N-1} e^{\\frac{2 \\pi i x y}{N}}|y\\rangle$\n"
      ]
    },
    {
      "cell_type": "markdown",
      "metadata": {
        "id": "EM4B-N9-dvzA"
      },
      "source": [
        "![ggg](https://raw.githubusercontent.com/deltorobarba/repo/master/quantum_047.png)"
      ]
    },
    {
      "cell_type": "markdown",
      "metadata": {
        "id": "p9QiVrBRdvzA"
      },
      "source": [
        "We need a bit of manipulation y:"
      ]
    },
    {
      "cell_type": "markdown",
      "metadata": {
        "id": "pqUxt8VrdvzA"
      },
      "source": [
        "![ggg](https://raw.githubusercontent.com/deltorobarba/repo/master/quantum_054.png)"
      ]
    },
    {
      "cell_type": "markdown",
      "metadata": {
        "id": "kHmMHArjdvzA"
      },
      "source": [
        "https://www.youtube.com/watch?v=pq2jkfJlLmY&t=1784s"
      ]
    },
    {
      "cell_type": "markdown",
      "metadata": {
        "id": "fBl7yBRmdvzA"
      },
      "source": [
        "So, aus \n",
        "\n",
        "<font color=\"red\"> $|\\tilde{x}\\rangle = \\frac{1}{\\sqrt{N}} \\sum_{y=0}^{N-1} e^{\\frac{2 \\pi i x y}{N}}|y\\rangle$ \n",
        "\n",
        "wird dann: \n",
        "\n",
        "<font color=\"blue\"> $|\\tilde{x}\\rangle = \\frac{1}{\\sqrt{N}} \\sum_{y=0}^{N-1} e^{\\frac{2 \\pi i \\sum_{k=1}^{n} y^{k}}{2^k}}|y_1,y_2,..y_n\\rangle$ \n",
        "\n",
        "bzw.:\n",
        "\n",
        "<font color=\"blue\"> $=\\frac{1}{\\sqrt{N}} \\sum_{y=0}^{N-1} \\prod_{k=1}^{n} e^{\\frac{2 \\pi i x y k}{2^k}}|y_1,y_2,..y_n\\rangle$ \n"
      ]
    },
    {
      "cell_type": "markdown",
      "metadata": {
        "id": "ILIsVcuKdvzB"
      },
      "source": [
        "Doing this for $y_1$ and $y_2$ etc, here you can build a circuit from (and without the fraction it looks like a Hadamard transform):"
      ]
    },
    {
      "cell_type": "markdown",
      "metadata": {
        "id": "JQ2b-mEndvzB"
      },
      "source": [
        "![ggg](https://raw.githubusercontent.com/deltorobarba/repo/master/quantum_055.png)"
      ]
    },
    {
      "cell_type": "markdown",
      "metadata": {
        "id": "K4jwikHSdvzB"
      },
      "source": [
        "Now you can see it boils down to the different phases when you transform from the computational basis to the Fourier basis: (the question is only how do you apply those phases in the circuit?)"
      ]
    },
    {
      "cell_type": "markdown",
      "metadata": {
        "id": "aaXibNncdvzB"
      },
      "source": [
        "![ggg](https://raw.githubusercontent.com/deltorobarba/repo/master/quantum_056.png)"
      ]
    },
    {
      "cell_type": "markdown",
      "metadata": {
        "id": "vm4ZFabAdvzB"
      },
      "source": [
        "Here with a concrete example:"
      ]
    },
    {
      "cell_type": "markdown",
      "metadata": {
        "id": "fhhyy9eZdvzB"
      },
      "source": [
        "![ggg](https://raw.githubusercontent.com/deltorobarba/repo/master/quantum_057.png)"
      ]
    },
    {
      "cell_type": "markdown",
      "metadata": {
        "id": "BqEldHCjdvzB"
      },
      "source": [
        "* $e^{\\frac{2*\\pi*i*5}{2}}$ ist -1 =(e^((2*pi*i*5)/2))\n",
        "\n",
        "* (e^((2*pi*i*5)/4)) = i\n",
        "\n",
        "* =(e^((2*pi*i*5)/8)) = -0,707106781 - 0,707106781 i"
      ]
    },
    {
      "cell_type": "markdown",
      "metadata": {
        "id": "7JL8D2tXdvzB"
      },
      "source": [
        "> =(e^((2*pi*i*5)/2)) gibt hierbei den Azimut an (Horizontale Phase), und (1/√ 8) die Höhe (fur Probability) ???"
      ]
    },
    {
      "cell_type": "markdown",
      "metadata": {
        "id": "jIGf1qqxdvzB"
      },
      "source": [
        "Going back to the 1 Qubit case with the formula above:\n",
        "\n",
        "* =(e^((2*pi*i*1)/2)) = -1\n",
        "\n",
        "* =(e^((2*pi*i*2)/2)) = 1\n",
        "\n",
        "Siehe hier das Ergebnis (mit der unmodifizierten, alten Formel):"
      ]
    },
    {
      "cell_type": "markdown",
      "metadata": {
        "id": "HecgcKtodvzB"
      },
      "source": [
        "![ddd](https://raw.githubusercontent.com/deltorobarba/repo/master/quantum_045.png)"
      ]
    },
    {
      "cell_type": "markdown",
      "metadata": {
        "id": "d2zXq7lcdvzC"
      },
      "source": [
        "**Observations before creating the QFT circuit**"
      ]
    },
    {
      "cell_type": "markdown",
      "metadata": {
        "id": "4fFgiAOwdvzC"
      },
      "source": [
        "First see the notation whenever there is a 1 with a phase. Please note the $2^{n-1 etc.}$ used before for each one:"
      ]
    },
    {
      "cell_type": "markdown",
      "metadata": {
        "id": "EcoVaIyadvzC"
      },
      "source": [
        "![ggg](https://raw.githubusercontent.com/deltorobarba/repo/master/quantum_062.jpg)"
      ]
    },
    {
      "cell_type": "markdown",
      "metadata": {
        "id": "6zM2kZBXdvzC"
      },
      "source": [
        "*Second observation: under (2) you can see the phase state of |1111>, which you can rewrite with the product of $e^{2 \\pi i[...]}$*"
      ]
    },
    {
      "cell_type": "markdown",
      "metadata": {
        "id": "afC-kWOtdvzC"
      },
      "source": [
        "![ggg](https://raw.githubusercontent.com/deltorobarba/repo/master/quantum_063.jpg)"
      ]
    },
    {
      "cell_type": "markdown",
      "metadata": {
        "id": "T4jRM2aJdvzC"
      },
      "source": [
        "**So what do you need to construct a QFT circuit?**"
      ]
    },
    {
      "cell_type": "markdown",
      "metadata": {
        "id": "-zx8LDQDdvzC"
      },
      "source": [
        "*First a Hamadard, which you can write in the notation below, making Hadamard looking similar to QFT: (please note that one normalization is missing at the last term)*"
      ]
    },
    {
      "cell_type": "markdown",
      "metadata": {
        "id": "WqTVKejKdvzC"
      },
      "source": [
        "![ggg](https://raw.githubusercontent.com/deltorobarba/repo/master/quantum_061.jpg)"
      ]
    },
    {
      "cell_type": "markdown",
      "metadata": {
        "id": "2vY7VilhdvzC"
      },
      "source": [
        "> <font color=\"blue\">*UROT is applying a phase (a unitary rotation)*"
      ]
    },
    {
      "cell_type": "markdown",
      "metadata": {
        "id": "Ax3CQ8h8dvzC"
      },
      "source": [
        "![ggg](https://raw.githubusercontent.com/deltorobarba/repo/master/quantum_064.jpg)"
      ]
    },
    {
      "cell_type": "markdown",
      "metadata": {
        "id": "SbQCUJu7dvzC"
      },
      "source": [
        "**Creating the QFT circuit**"
      ]
    },
    {
      "cell_type": "markdown",
      "metadata": {
        "id": "cuFL4zXcdvzD"
      },
      "source": [
        "*This is what you need only to create x1:*"
      ]
    },
    {
      "cell_type": "markdown",
      "metadata": {
        "id": "ppzqtuMFdvzD"
      },
      "source": [
        "![ggg](https://raw.githubusercontent.com/deltorobarba/repo/master/quantum_065.jpg)"
      ]
    },
    {
      "cell_type": "markdown",
      "metadata": {
        "id": "2P0FuDXcdvzD"
      },
      "source": [
        "*And this series of gates gives you exactly the terms that you get here (see black arrow). The expression $\\frac{x}{2^n}$ (=$\\theta$ as we will see later in quantum phase estimation). All of the rotations are applying different phases on to the first qubit.*"
      ]
    },
    {
      "cell_type": "markdown",
      "metadata": {
        "id": "uDB2yvMPdvzD"
      },
      "source": [
        "![ggg](https://raw.githubusercontent.com/deltorobarba/repo/master/quantum_066.jpg)"
      ]
    },
    {
      "cell_type": "markdown",
      "metadata": {
        "id": "VmhqpRBOdvzD"
      },
      "source": [
        "**Komplettes Circuit**"
      ]
    },
    {
      "cell_type": "markdown",
      "metadata": {
        "id": "nChR8WYudvzD"
      },
      "source": [
        "![ggg](https://raw.githubusercontent.com/deltorobarba/repo/master/quantum_067.png)"
      ]
    },
    {
      "cell_type": "markdown",
      "metadata": {
        "id": "VPUhmZVxdvzD"
      },
      "source": [
        "![ggg](https://raw.githubusercontent.com/deltorobarba/repo/master/quantum_068.png)"
      ]
    },
    {
      "cell_type": "markdown",
      "metadata": {
        "id": "oiO7pSQudvzD"
      },
      "source": [
        "* Blog Post: https://jonathan-hui.medium.com/qc-quantum-fourier-transform-45436f90a43\n",
        "\n",
        "* Qiskit: https://qiskit.org/textbook/ch-algorithms/quantum-fourier-transform.html\n",
        "\n",
        "* Cirq: https://quantumai.google/cirq/tutorials/educators/textbook_algorithms\n",
        "\n",
        "* Youtube: https://youtu.be/rRblvBZkz7A\n",
        "\n",
        "* IBM Youtube: https://youtu.be/mAHC1dWKNYE\n",
        "\n",
        "* Classical Discrete Fourier Transform : https://en.m.wikipedia.org/wiki/Discrete_Fourier_transform\n",
        "\n",
        "* https://physics.stackexchange.com/questions/219581/how-quantum-fourier-transform-equal-to-hadamard-transform-on-4-by-4-matrix\n",
        "\n",
        "* https://physics.stackexchange.com/questions/56510/how-to-write-the-matrices-for-hadamard-gates-acting-on-differen-qubits?rq=1"
      ]
    },
    {
      "cell_type": "markdown",
      "metadata": {
        "id": "bo0Swg1fdvzD"
      },
      "source": [
        "https://jonathan-hui.medium.com/qc-quantum-fourier-transform-45436f90a43"
      ]
    },
    {
      "cell_type": "markdown",
      "metadata": {
        "id": "bP6hyz4jdvzD"
      },
      "source": [
        "https://qiskit.org/textbook/ch-algorithms/quantum-fourier-transform.html"
      ]
    },
    {
      "cell_type": "markdown",
      "metadata": {
        "id": "XY04L_nvdvzD"
      },
      "source": [
        "https://prod-edxapp.edx-cdn.org/assets/courseware/v1/8f101da9d14cfeec83df9e42a70562bf/c4x/BerkeleyX/CS-191x/asset/chap5.pdf"
      ]
    },
    {
      "cell_type": "markdown",
      "source": [
        "*How does QFT move around Bloch sphere & how does it work in a circuit?*"
      ],
      "metadata": {
        "id": "OHvBg-6CdvzE"
      }
    },
    {
      "cell_type": "markdown",
      "source": [
        "Quantum States: <font color=\"blue\">$\\tilde{x_1}$ = 0</font>, <font color=\"blue\">$\\tilde{x_2}$ = 0</font>, <font color=\"blue\">$\\tilde{x_3}$ = 1</font>\n",
        "\n",
        "> <font color=\"blue\">$\\tilde{x_1}$</font> = $\\frac{1}{\\sqrt{2}}\\left(|0\\rangle+\\mathrm{e}^{2 \\pi \\mathrm{i}\\left(\\frac{\\mathrm{x}_{1}}{2}+\\frac{x_{2}}{4}+\\frac{x_{3}}{8}\\right)}|1\\rangle\\right)$ = $\\frac{1}{\\sqrt{2}}\\left(|0\\rangle+\\mathrm{e}^{2 \\pi \\mathrm{i}\\left(\\frac{0}{2}+\\frac{0}{4}+\\frac{1}{8}\\right)}|1\\rangle\\right)$ = $\\mathrm{e}^{\\pi \\mathrm{i}/2}$ for qubit 0\n",
        "\n",
        "> <font color=\"blue\">$\\tilde{x_2}$</font> = $\\frac{1}{\\sqrt{2}}\\left(|0\\rangle+\\mathrm{e}^{2 \\pi \\mathrm{i}\\left(\\frac{0}{2}+\\frac{1}{4}\\right)}|1\\rangle\\right)$ = $e^{\\pi i 0,25} = -1 $ for qubit 1\n",
        "\n",
        "> <font color=\"blue\">$\\tilde{x_3}$</font> = $\\frac{1}{\\sqrt{2}}\\left(|0\\rangle+\\mathrm{e}^{\\pi \\mathrm{i} 1}|1\\rangle\\right)$ = $e^{\\pi i} = -1$ for qubit 2"
      ],
      "metadata": {
        "id": "o2OPSosWdvzE"
      }
    },
    {
      "cell_type": "markdown",
      "source": [
        "**This is what we get in the Fourier basis with a circuit:**"
      ],
      "metadata": {
        "id": "twikkpUxdvzE"
      }
    },
    {
      "cell_type": "markdown",
      "metadata": {
        "id": "koUk0LsLdvzE"
      },
      "source": [
        "![ggg](https://raw.githubusercontent.com/deltorobarba/repo/master/quantum_076.jpg)\n",
        "\n",
        "https://www.cl.cam.ac.uk/teaching/1920/QuantComp/Quantum_Computing_Lecture_9.pdf"
      ]
    },
    {
      "cell_type": "code",
      "metadata": {
        "id": "ixQMV7OAdvzG"
      },
      "source": [
        "\"\"\"Visually check the QFT circuit.\"\"\"\n",
        "qubits = cirq.LineQubit.range(3)\n",
        "qft = cirq.Circuit(make_qft(qubits))\n",
        "print(qft)"
      ],
      "execution_count": null,
      "outputs": []
    },
    {
      "cell_type": "markdown",
      "metadata": {
        "id": "FaCiruYadvzG"
      },
      "source": [
        "In die Formel oben eingegeben für ein 3 Qubit mit $x_1=0, x_2=0$ und $x_3=1$ ergibt sich folgendes in umgekehrter Reihenfolge (deswegen muss das Swap-Gate machträglich angewandt werden):\n",
        "\n",
        "* Qubit $x_1$ (=ohne Swap-Gate wie oben $x_3$): $e^{\\frac{2 * \\pi * i * 1}{2^{1}}}=-1$ (Z-Gate, weil negativ Hadamard)\n",
        "\n",
        "* Qubit $x_2$: $e^{\\frac{2 * \\pi * i * 1}{2^{2}}}=e^{\\frac{2 * \\pi * i * 1}{4}}=\\mathrm{i}$ (=S-Gate)\n",
        "\n",
        "* Qubit $x_3$ (=$x_1$ im circuit oben): $e^{\\frac{2 * \\pi * i * 1}{2^{3}}}=e^{\\frac{2 * \\pi * i * 1}{8}}=e^{\\frac{\\pi i}{4}}$ (=T-Gate transform)\n",
        "\n",
        "> <font color=\"blue\">We use a Controlled U-ROT Gate: every time, where a control qubit is a 1, the according rotation will be executed. In. ase of 0 nothing happens.</font>\n",
        "\n",
        "> Das stimmt überein mit der folgenden geometrischen Darstellung (*3 Qubit Quantum Fourier transformation with 001 in computational state: first state is 180 degree rotated, secind by 90 degree, third by 45 degree from Hadamard + Superposition state - Rotationen werden durch UROT gates bestimmt, und aktiviert überall do, wo control =1 ist*):\n"
      ]
    },
    {
      "cell_type": "markdown",
      "metadata": {
        "id": "2RYh0c20dvzG"
      },
      "source": [
        "![ggg](https://raw.githubusercontent.com/deltorobarba/repo/master/quantum_116.png)"
      ]
    },
    {
      "cell_type": "markdown",
      "metadata": {
        "id": "EQKbxcCBdvzG"
      },
      "source": [
        "* The number we want to store dictates the angle at which each qubit is rotated around the Z-axis. \n",
        "\n",
        "* In the state $|\\tilde{0}\\rangle$, all qubits are in the state $|+\\rangle$. \n",
        "\n",
        "* In the example above, to encode the state $|\\tilde{5}\\rangle$ (=101) on n=3 qubits, we rotated the leftmost qubit by $\\frac{5}{2^{n}}=\\frac{5}{8}$ full turns $\\left(\\frac{5}{8} \\times 2 \\pi\\right.$ radians). \n",
        "\n",
        "* The next qubit is turned double this $\\left(\\frac{10}{8} \\times 2 \\pi\\right.$ radians, or $\\frac{10}{8}$ full turns), this angle is then doubled for the qubit after, and so on.\n",
        "\n",
        "* **Note the frequency with which each qubit changes. The leftmost qubit (qubit 0 ) in this case has the lowest frequency, and the rightmost the highest.**"
      ]
    },
    {
      "cell_type": "markdown",
      "metadata": {
        "id": "lhLGylrbdvzG"
      },
      "source": [
        "* In the Fourier basis the topmost qubit completes one full rotation when counting between 0 and $2^{t}$ .\n",
        "\n",
        "* To count to a number, $x$ between 0 and $2^{t}$ (t = qubits), we rotate this qubit by $\\frac{x}{2^{t}}$ around the z-axis. \n",
        "\n",
        "* For the next qubit we rotate by $\\frac{2 x}{2^{t}}$, then $\\frac{4 x}{2^{t}}$ for the third qubit. In this case x is not 0 or 1, but the decimal number = 5 !!!"
      ]
    },
    {
      "cell_type": "markdown",
      "metadata": {
        "id": "bDjdwyLidvzG"
      },
      "source": [
        "> x1 = $\\frac{1}{\\sqrt{2}}\\left(|0\\rangle+\\mathrm{e}^{2 \\pi \\mathrm{i}\\left(\\frac{\\mathrm{x}_{1}}{2}+\\frac{x_{2}}{4}+\\frac{x_{3}}{8}\\right)}|1\\rangle\\right)$ = $\\frac{1}{\\sqrt{2}}\\left(|0\\rangle+\\mathrm{e}^{2 \\pi \\mathrm{i}\\left(\\frac{1}{2}+\\frac{0}{4}+\\frac{1}{8}\\right)}|1\\rangle\\right)$ = $\\frac{1}{\\sqrt{2}}\\left(|0\\rangle+\\mathrm{e}^{2 \\pi \\mathrm{i}\\left(\\frac{1}{2}+\\frac{1}{8}\\right)}|1\\rangle\\right)$ \n",
        "\n",
        "> = $\\frac{1}{\\sqrt{2}}\\left(|0\\rangle+\\mathrm{e}^{2 \\pi \\mathrm{i}\\left(\\frac{4}{8}+\\frac{1}{8}\\right)}|1\\rangle\\right)$ = $\\frac{1}{\\sqrt{2}}\\left(|0\\rangle+\\mathrm{e}^{2 \\pi \\mathrm{i}\\left(\\frac{5}{8}\\right)}|1\\rangle\\right)$= $\\mathrm{e}^{1,25 * \\pi \\mathrm{i}}$ fur qubit 0 (roter Pfeil ist dann zwischen -1 und -i)\n"
      ]
    }
  ]
}