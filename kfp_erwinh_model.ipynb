{
  "nbformat": 4,
  "nbformat_minor": 0,
  "metadata": {
    "kernelspec": {
      "display_name": "Python 3",
      "language": "python",
      "name": "python3"
    },
    "language_info": {
      "codemirror_mode": {
        "name": "ipython",
        "version": 3
      },
      "file_extension": ".py",
      "mimetype": "text/x-python",
      "name": "python",
      "nbconvert_exporter": "python",
      "pygments_lexer": "ipython3",
      "version": "3.7.0"
    },
    "colab": {
      "name": "kfp_erwinh_model.ipynb",
      "provenance": [],
      "include_colab_link": true
    }
  },
  "cells": [
    {
      "cell_type": "markdown",
      "metadata": {
        "id": "view-in-github",
        "colab_type": "text"
      },
      "source": [
        "<a href=\"https://colab.research.google.com/github/deltorobarba/machinelearning/blob/master/kfp_erwinh_model.ipynb\" target=\"_parent\"><img src=\"https://colab.research.google.com/assets/colab-badge.svg\" alt=\"Open In Colab\"/></a>"
      ]
    },
    {
      "cell_type": "code",
      "metadata": {
        "id": "aN9Rol19iU0v",
        "colab_type": "code",
        "colab": {}
      },
      "source": [
        "#KFP_PACKAGE = 'https://storage.googleapis.com/ml-pipeline/release/0.1.20/kfp.tar.gz'\n",
        "#!pip3 install $KFP_PACKAGE --upgrade"
      ],
      "execution_count": 0,
      "outputs": []
    },
    {
      "cell_type": "markdown",
      "metadata": {
        "id": "k0VvOPw4iU0y",
        "colab_type": "text"
      },
      "source": [
        "# Hello world with KubeFlow Pipelines \n",
        "\n",
        "Welcome to your first step with KubeFlow Pipelines (KFP). This demo focusses on: \n",
        "\n",
        "* Creating a KubeFlow pipeline using the KFP SDK\n",
        "* Creating your first experiment and submitting the pipeline to KFP run time enviroment using the SDK \n",
        "\n",
        "Run this notebook on your Jupyter Hub environment on Kubeflow.\n",
        "\n",
        "Reference documentation: \n",
        "* https://www.kubeflow.org/docs/pipelines/sdk/build-component/\n",
        "* https://www.kubeflow.org/docs/pipelines/sdk/sdk-overview/"
      ]
    },
    {
      "cell_type": "markdown",
      "metadata": {
        "id": "OyM-plaJiU0y",
        "colab_type": "text"
      },
      "source": [
        "## Setup"
      ]
    },
    {
      "cell_type": "markdown",
      "metadata": {
        "id": "6WbA9xTriU0z",
        "colab_type": "text"
      },
      "source": [
        "Change the following constants in the code to make sure it maches your project + bucket: \n",
        "\n",
        "- PROJECT_NAME\n",
        "- OUTPUT_DIR"
      ]
    },
    {
      "cell_type": "code",
      "metadata": {
        "id": "XTJna7vXiU0z",
        "colab_type": "code",
        "colab": {}
      },
      "source": [
        "# Set your output and project. !!!Must Do before you can proceed!!!\n",
        "EXPERIMENT_NAME = 'Data-Science'\n",
        "PROJECT_NAME =  'lunar-demo' #'your-gcp-project-name'\n",
        "OUTPUT_DIR = 'gs://lunar-demo/' # 'path-to-your-gcp'\n",
        "BASE_IMAGE='tensorflow/tensorflow:1.11.0-py3'  # Based image used in various steps of the pipeline\n",
        "TARGET_IMAGE='gcr.io/%s/pusher:latest' % PROJECT_NAME # Target image that will include our final code"
      ],
      "execution_count": 0,
      "outputs": []
    },
    {
      "cell_type": "code",
      "metadata": {
        "id": "pnhxzoY_iU01",
        "colab_type": "code",
        "colab": {}
      },
      "source": [
        "# Let's import the libraries needed\n",
        "import kfp\n",
        "import kfp.dsl as dsl\n",
        "from kfp.gcp import use_gcp_secret\n",
        "from kubernetes import client as k8s_client\n",
        "from kfp import compiler\n",
        "from kfp import notebook\n",
        "from kfp import components as comp"
      ],
      "execution_count": 0,
      "outputs": []
    },
    {
      "cell_type": "markdown",
      "metadata": {
        "id": "5eTPLT7giU03",
        "colab_type": "text"
      },
      "source": [
        "## Create a function that we will turn in a component"
      ]
    },
    {
      "cell_type": "markdown",
      "metadata": {
        "id": "yEwe8De1iU04",
        "colab_type": "text"
      },
      "source": [
        "Here you need to implement a python function that takes two arguments, uses Numpy to multiply the two arguments and then returns the results. Later we will use this function to create a KFP component. We will first create a function that will use Numpy Add to add two integers. "
      ]
    },
    {
      "cell_type": "code",
      "metadata": {
        "id": "YUppuQCOiU04",
        "colab_type": "code",
        "colab": {}
      },
      "source": [
        "@dsl.python_component(\n",
        "    name='mult_opp',\n",
        "    description='component that takes two arguments and ads them',\n",
        "    base_image=BASE_IMAGE  # note you can define the base image here, or during build time. \n",
        "    )\n",
        "\n",
        "def computation(a: int, b: int) -> int:\n",
        "    '''Multiply two arguments'''\n",
        "    \n",
        "    import numpy as np\n",
        "    \n",
        "    c = np.array(a)\n",
        "    d = np.array(b)\n",
        "    total = np.multiply(c, d)\n",
        "\n",
        "    return total"
      ],
      "execution_count": 0,
      "outputs": []
    },
    {
      "cell_type": "code",
      "metadata": {
        "id": "4GySWSr-iU06",
        "colab_type": "code",
        "colab": {},
        "outputId": "09b9cbac-3b59-419d-b5a5-de061d89e329"
      },
      "source": [
        "# simpel test for our function\n",
        "\n",
        "a = 2, 4\n",
        "b = 2, 4\n",
        "\n",
        "z = computation(a, b)\n",
        "\n",
        "print (z)"
      ],
      "execution_count": 0,
      "outputs": [
        {
          "output_type": "stream",
          "text": [
            "[ 4 16]\n"
          ],
          "name": "stdout"
        }
      ]
    },
    {
      "cell_type": "markdown",
      "metadata": {
        "id": "iwEZSydfiU08",
        "colab_type": "text"
      },
      "source": [
        "## Build a Pipeline Step With the Above Function"
      ]
    },
    {
      "cell_type": "markdown",
      "metadata": {
        "id": "ofHHScRYiU08",
        "colab_type": "text"
      },
      "source": [
        "#### Option One: Specify the dependency directly"
      ]
    },
    {
      "cell_type": "markdown",
      "metadata": {
        "id": "ct7SHwSBiU09",
        "colab_type": "text"
      },
      "source": [
        "First we create our component using the python function. Build_component automatically builds a container image for the component_func based on the base_image and pushes to the target_image."
      ]
    },
    {
      "cell_type": "code",
      "metadata": {
        "id": "yeGGPF3liU09",
        "colab_type": "code",
        "colab": {},
        "outputId": "bff3fd87-6002-452e-ea6f-16259e8d9205"
      },
      "source": [
        "# Build Python Component\n",
        "\n",
        "from kfp import compiler\n",
        "\n",
        "mult_opp = compiler.build_python_component(\n",
        "          component_func=computation, # here we refer to function we created\n",
        "          staging_gcs_path=OUTPUT_DIR, # staging directory\n",
        "          dependency=[kfp.compiler.VersionedDependency(name='google-api-python-client', version='1.7.0')],\n",
        "          base_image=BASE_IMAGE, # specify base image\n",
        "          target_image=TARGET_IMAGE # target image\n",
        "          )"
      ],
      "execution_count": 0,
      "outputs": [
        {
          "output_type": "stream",
          "text": [
            "2019-10-16 15:28:45:INFO:Build an image that is based on tensorflow/tensorflow:1.11.0-py3 and push the image to gcr.io/lunar-demo/pusher:latest\n",
            "2019-10-16 15:28:45:INFO:Checking path: gs://lunar-demo/...\n",
            "2019-10-16 15:28:45:INFO:Generate entrypoint and serialization codes.\n",
            "2019-10-16 15:28:45:INFO:Generate build files.\n"
          ],
          "name": "stdout"
        },
        {
          "output_type": "stream",
          "text": [
            "/anaconda3/lib/python3.7/site-packages/google/auth/_default.py:66: UserWarning: Your application has authenticated using end user credentials from Google Cloud SDK. We recommend that most server applications use service accounts instead. If your application continues to use end user credentials from Cloud SDK, you might receive a \"quota exceeded\" or \"API not enabled\" error. For more information about service accounts, see https://cloud.google.com/docs/authentication/\n",
            "  warnings.warn(_CLOUD_SDK_CREDENTIALS_WARNING)\n",
            "2019-10-16 15:28:45:WARNING:No project ID could be determined. Consider running `gcloud config set project` or setting the GOOGLE_CLOUD_PROJECT environment variable\n"
          ],
          "name": "stderr"
        },
        {
          "output_type": "error",
          "ename": "OSError",
          "evalue": "Project was not passed and could not be determined from the environment.",
          "traceback": [
            "\u001b[0;31m---------------------------------------------------------------------------\u001b[0m",
            "\u001b[0;31mOSError\u001b[0m                                   Traceback (most recent call last)",
            "\u001b[0;32m<ipython-input-10-4b034afd98e5>\u001b[0m in \u001b[0;36m<module>\u001b[0;34m()\u001b[0m\n\u001b[1;32m      8\u001b[0m           \u001b[0mdependency\u001b[0m\u001b[0;34m=\u001b[0m\u001b[0;34m[\u001b[0m\u001b[0mkfp\u001b[0m\u001b[0;34m.\u001b[0m\u001b[0mcompiler\u001b[0m\u001b[0;34m.\u001b[0m\u001b[0mVersionedDependency\u001b[0m\u001b[0;34m(\u001b[0m\u001b[0mname\u001b[0m\u001b[0;34m=\u001b[0m\u001b[0;34m'google-api-python-client'\u001b[0m\u001b[0;34m,\u001b[0m \u001b[0mversion\u001b[0m\u001b[0;34m=\u001b[0m\u001b[0;34m'1.7.0'\u001b[0m\u001b[0;34m)\u001b[0m\u001b[0;34m]\u001b[0m\u001b[0;34m,\u001b[0m\u001b[0;34m\u001b[0m\u001b[0m\n\u001b[1;32m      9\u001b[0m           \u001b[0mbase_image\u001b[0m\u001b[0;34m=\u001b[0m\u001b[0mBASE_IMAGE\u001b[0m\u001b[0;34m,\u001b[0m \u001b[0;31m# specify base image\u001b[0m\u001b[0;34m\u001b[0m\u001b[0m\n\u001b[0;32m---> 10\u001b[0;31m           \u001b[0mtarget_image\u001b[0m\u001b[0;34m=\u001b[0m\u001b[0mTARGET_IMAGE\u001b[0m \u001b[0;31m# target image\u001b[0m\u001b[0;34m\u001b[0m\u001b[0m\n\u001b[0m\u001b[1;32m     11\u001b[0m           )\n",
            "\u001b[0;32m/anaconda3/lib/python3.7/site-packages/kfp/compiler/_component_builder.py\u001b[0m in \u001b[0;36mbuild_python_component\u001b[0;34m(component_func, target_image, base_image, dependency, staging_gcs_path, build_image, timeout, namespace, target_component_file)\u001b[0m\n\u001b[1;32m    487\u001b[0m     \u001b[0mbuilder\u001b[0m \u001b[0;34m=\u001b[0m \u001b[0mImageBuilder\u001b[0m\u001b[0;34m(\u001b[0m\u001b[0mgcs_base\u001b[0m\u001b[0;34m=\u001b[0m\u001b[0mstaging_gcs_path\u001b[0m\u001b[0;34m,\u001b[0m \u001b[0mtarget_image\u001b[0m\u001b[0;34m=\u001b[0m\u001b[0mtarget_image\u001b[0m\u001b[0;34m)\u001b[0m\u001b[0;34m\u001b[0m\u001b[0m\n\u001b[1;32m    488\u001b[0m     builder.build_image_from_func(component_func, namespace=namespace,\n\u001b[0;32m--> 489\u001b[0;31m                                   base_image=base_image, timeout=timeout, dependency=dependency)\n\u001b[0m\u001b[1;32m    490\u001b[0m     \u001b[0mlogging\u001b[0m\u001b[0;34m.\u001b[0m\u001b[0minfo\u001b[0m\u001b[0;34m(\u001b[0m\u001b[0;34m'Build component complete.'\u001b[0m\u001b[0;34m)\u001b[0m\u001b[0;34m\u001b[0m\u001b[0m\n\u001b[1;32m    491\u001b[0m   \u001b[0;32mreturn\u001b[0m \u001b[0m_generate_pythonop\u001b[0m\u001b[0;34m(\u001b[0m\u001b[0mcomponent_func\u001b[0m\u001b[0;34m,\u001b[0m \u001b[0mtarget_image\u001b[0m\u001b[0;34m,\u001b[0m \u001b[0mtarget_component_file\u001b[0m\u001b[0;34m)\u001b[0m\u001b[0;34m\u001b[0m\u001b[0m\n",
            "\u001b[0;32m/anaconda3/lib/python3.7/site-packages/kfp/compiler/_component_builder.py\u001b[0m in \u001b[0;36mbuild_image_from_func\u001b[0;34m(self, component_func, namespace, base_image, timeout, dependency)\u001b[0m\n\u001b[1;32m    378\u001b[0m                                                    \u001b[0mlocal_tarball_path\u001b[0m\u001b[0;34m=\u001b[0m\u001b[0mlocal_tarball_path\u001b[0m\u001b[0;34m,\u001b[0m\u001b[0;34m\u001b[0m\u001b[0m\n\u001b[1;32m    379\u001b[0m                                                    dependency=dependency)\n\u001b[0;32m--> 380\u001b[0;31m       \u001b[0mself\u001b[0m\u001b[0;34m.\u001b[0m\u001b[0m_build_image_from_tarball\u001b[0m\u001b[0;34m(\u001b[0m\u001b[0mlocal_tarball_path\u001b[0m\u001b[0;34m,\u001b[0m \u001b[0mnamespace\u001b[0m\u001b[0;34m,\u001b[0m \u001b[0mtimeout\u001b[0m\u001b[0;34m)\u001b[0m\u001b[0;34m\u001b[0m\u001b[0m\n\u001b[0m\u001b[1;32m    381\u001b[0m \u001b[0;34m\u001b[0m\u001b[0m\n\u001b[1;32m    382\u001b[0m   \u001b[0;32mdef\u001b[0m \u001b[0mbuild_image_from_dockerfile\u001b[0m\u001b[0;34m(\u001b[0m\u001b[0mself\u001b[0m\u001b[0;34m,\u001b[0m \u001b[0mdockerfile_path\u001b[0m\u001b[0;34m,\u001b[0m \u001b[0mtimeout\u001b[0m\u001b[0;34m,\u001b[0m \u001b[0mnamespace\u001b[0m\u001b[0;34m)\u001b[0m\u001b[0;34m:\u001b[0m\u001b[0;34m\u001b[0m\u001b[0m\n",
            "\u001b[0;32m/anaconda3/lib/python3.7/site-packages/kfp/compiler/_component_builder.py\u001b[0m in \u001b[0;36m_build_image_from_tarball\u001b[0;34m(self, local_tarball_path, namespace, timeout)\u001b[0m\n\u001b[1;32m    344\u001b[0m \u001b[0;34m\u001b[0m\u001b[0m\n\u001b[1;32m    345\u001b[0m   \u001b[0;32mdef\u001b[0m \u001b[0m_build_image_from_tarball\u001b[0m\u001b[0;34m(\u001b[0m\u001b[0mself\u001b[0m\u001b[0;34m,\u001b[0m \u001b[0mlocal_tarball_path\u001b[0m\u001b[0;34m,\u001b[0m \u001b[0mnamespace\u001b[0m\u001b[0;34m,\u001b[0m \u001b[0mtimeout\u001b[0m\u001b[0;34m)\u001b[0m\u001b[0;34m:\u001b[0m\u001b[0;34m\u001b[0m\u001b[0m\n\u001b[0;32m--> 346\u001b[0;31m     \u001b[0mGCSHelper\u001b[0m\u001b[0;34m.\u001b[0m\u001b[0mupload_gcs_file\u001b[0m\u001b[0;34m(\u001b[0m\u001b[0mlocal_tarball_path\u001b[0m\u001b[0;34m,\u001b[0m \u001b[0mself\u001b[0m\u001b[0;34m.\u001b[0m\u001b[0m_gcs_path\u001b[0m\u001b[0;34m)\u001b[0m\u001b[0;34m\u001b[0m\u001b[0m\n\u001b[0m\u001b[1;32m    347\u001b[0m     kaniko_spec = self._generate_kaniko_spec(namespace=namespace,\n\u001b[1;32m    348\u001b[0m                                              \u001b[0marc_dockerfile_name\u001b[0m\u001b[0;34m=\u001b[0m\u001b[0mself\u001b[0m\u001b[0;34m.\u001b[0m\u001b[0m_arc_dockerfile_name\u001b[0m\u001b[0;34m,\u001b[0m\u001b[0;34m\u001b[0m\u001b[0m\n",
            "\u001b[0;32m/anaconda3/lib/python3.7/site-packages/kfp/compiler/_component_builder.py\u001b[0m in \u001b[0;36mupload_gcs_file\u001b[0;34m(local_path, gcs_path)\u001b[0m\n\u001b[1;32m     41\u001b[0m   \u001b[0;34m@\u001b[0m\u001b[0mstaticmethod\u001b[0m\u001b[0;34m\u001b[0m\u001b[0m\n\u001b[1;32m     42\u001b[0m   \u001b[0;32mdef\u001b[0m \u001b[0mupload_gcs_file\u001b[0m\u001b[0;34m(\u001b[0m\u001b[0mlocal_path\u001b[0m\u001b[0;34m,\u001b[0m \u001b[0mgcs_path\u001b[0m\u001b[0;34m)\u001b[0m\u001b[0;34m:\u001b[0m\u001b[0;34m\u001b[0m\u001b[0m\n\u001b[0;32m---> 43\u001b[0;31m     \u001b[0mblob\u001b[0m \u001b[0;34m=\u001b[0m \u001b[0mGCSHelper\u001b[0m\u001b[0;34m.\u001b[0m\u001b[0mget_blob_from_gcs_uri\u001b[0m\u001b[0;34m(\u001b[0m\u001b[0mgcs_path\u001b[0m\u001b[0;34m)\u001b[0m\u001b[0;34m\u001b[0m\u001b[0m\n\u001b[0m\u001b[1;32m     44\u001b[0m     \u001b[0mblob\u001b[0m\u001b[0;34m.\u001b[0m\u001b[0mupload_from_filename\u001b[0m\u001b[0;34m(\u001b[0m\u001b[0mlocal_path\u001b[0m\u001b[0;34m)\u001b[0m\u001b[0;34m\u001b[0m\u001b[0m\n\u001b[1;32m     45\u001b[0m \u001b[0;34m\u001b[0m\u001b[0m\n",
            "\u001b[0;32m/anaconda3/lib/python3.7/site-packages/kfp/compiler/_component_builder.py\u001b[0m in \u001b[0;36mget_blob_from_gcs_uri\u001b[0;34m(gcs_path)\u001b[0m\n\u001b[1;32m     34\u001b[0m     \u001b[0mgcs_bucket\u001b[0m \u001b[0;34m=\u001b[0m \u001b[0mpure_path\u001b[0m\u001b[0;34m.\u001b[0m\u001b[0mparts\u001b[0m\u001b[0;34m[\u001b[0m\u001b[0;36m1\u001b[0m\u001b[0;34m]\u001b[0m\u001b[0;34m\u001b[0m\u001b[0m\n\u001b[1;32m     35\u001b[0m     \u001b[0mgcs_blob\u001b[0m \u001b[0;34m=\u001b[0m \u001b[0;34m'/'\u001b[0m\u001b[0;34m.\u001b[0m\u001b[0mjoin\u001b[0m\u001b[0;34m(\u001b[0m\u001b[0mpure_path\u001b[0m\u001b[0;34m.\u001b[0m\u001b[0mparts\u001b[0m\u001b[0;34m[\u001b[0m\u001b[0;36m2\u001b[0m\u001b[0;34m:\u001b[0m\u001b[0;34m]\u001b[0m\u001b[0;34m)\u001b[0m\u001b[0;34m\u001b[0m\u001b[0m\n\u001b[0;32m---> 36\u001b[0;31m     \u001b[0mclient\u001b[0m \u001b[0;34m=\u001b[0m \u001b[0mstorage\u001b[0m\u001b[0;34m.\u001b[0m\u001b[0mClient\u001b[0m\u001b[0;34m(\u001b[0m\u001b[0;34m)\u001b[0m\u001b[0;34m\u001b[0m\u001b[0m\n\u001b[0m\u001b[1;32m     37\u001b[0m     \u001b[0mbucket\u001b[0m \u001b[0;34m=\u001b[0m \u001b[0mclient\u001b[0m\u001b[0;34m.\u001b[0m\u001b[0mget_bucket\u001b[0m\u001b[0;34m(\u001b[0m\u001b[0mgcs_bucket\u001b[0m\u001b[0;34m)\u001b[0m\u001b[0;34m\u001b[0m\u001b[0m\n\u001b[1;32m     38\u001b[0m     \u001b[0mblob\u001b[0m \u001b[0;34m=\u001b[0m \u001b[0mbucket\u001b[0m\u001b[0;34m.\u001b[0m\u001b[0mblob\u001b[0m\u001b[0;34m(\u001b[0m\u001b[0mgcs_blob\u001b[0m\u001b[0;34m)\u001b[0m\u001b[0;34m\u001b[0m\u001b[0m\n",
            "\u001b[0;32m/anaconda3/lib/python3.7/site-packages/google/cloud/storage/client.py\u001b[0m in \u001b[0;36m__init__\u001b[0;34m(self, project, credentials, _http)\u001b[0m\n\u001b[1;32m     69\u001b[0m             \u001b[0mproject\u001b[0m \u001b[0;34m=\u001b[0m \u001b[0;32mNone\u001b[0m\u001b[0;34m\u001b[0m\u001b[0m\n\u001b[1;32m     70\u001b[0m         super(Client, self).__init__(project=project, credentials=credentials,\n\u001b[0;32m---> 71\u001b[0;31m                                      _http=_http)\n\u001b[0m\u001b[1;32m     72\u001b[0m         \u001b[0;32mif\u001b[0m \u001b[0mno_project\u001b[0m\u001b[0;34m:\u001b[0m\u001b[0;34m\u001b[0m\u001b[0m\n\u001b[1;32m     73\u001b[0m             \u001b[0mself\u001b[0m\u001b[0;34m.\u001b[0m\u001b[0mproject\u001b[0m \u001b[0;34m=\u001b[0m \u001b[0;32mNone\u001b[0m\u001b[0;34m\u001b[0m\u001b[0m\n",
            "\u001b[0;32m/anaconda3/lib/python3.7/site-packages/google/cloud/client.py\u001b[0m in \u001b[0;36m__init__\u001b[0;34m(self, project, credentials, _http)\u001b[0m\n\u001b[1;32m    213\u001b[0m \u001b[0;34m\u001b[0m\u001b[0m\n\u001b[1;32m    214\u001b[0m     \u001b[0;32mdef\u001b[0m \u001b[0m__init__\u001b[0m\u001b[0;34m(\u001b[0m\u001b[0mself\u001b[0m\u001b[0;34m,\u001b[0m \u001b[0mproject\u001b[0m\u001b[0;34m=\u001b[0m\u001b[0;32mNone\u001b[0m\u001b[0;34m,\u001b[0m \u001b[0mcredentials\u001b[0m\u001b[0;34m=\u001b[0m\u001b[0;32mNone\u001b[0m\u001b[0;34m,\u001b[0m \u001b[0m_http\u001b[0m\u001b[0;34m=\u001b[0m\u001b[0;32mNone\u001b[0m\u001b[0;34m)\u001b[0m\u001b[0;34m:\u001b[0m\u001b[0;34m\u001b[0m\u001b[0m\n\u001b[0;32m--> 215\u001b[0;31m         \u001b[0m_ClientProjectMixin\u001b[0m\u001b[0;34m.\u001b[0m\u001b[0m__init__\u001b[0m\u001b[0;34m(\u001b[0m\u001b[0mself\u001b[0m\u001b[0;34m,\u001b[0m \u001b[0mproject\u001b[0m\u001b[0;34m=\u001b[0m\u001b[0mproject\u001b[0m\u001b[0;34m)\u001b[0m\u001b[0;34m\u001b[0m\u001b[0m\n\u001b[0m\u001b[1;32m    216\u001b[0m         \u001b[0mClient\u001b[0m\u001b[0;34m.\u001b[0m\u001b[0m__init__\u001b[0m\u001b[0;34m(\u001b[0m\u001b[0mself\u001b[0m\u001b[0;34m,\u001b[0m \u001b[0mcredentials\u001b[0m\u001b[0;34m=\u001b[0m\u001b[0mcredentials\u001b[0m\u001b[0;34m,\u001b[0m \u001b[0m_http\u001b[0m\u001b[0;34m=\u001b[0m\u001b[0m_http\u001b[0m\u001b[0;34m)\u001b[0m\u001b[0;34m\u001b[0m\u001b[0m\n",
            "\u001b[0;32m/anaconda3/lib/python3.7/site-packages/google/cloud/client.py\u001b[0m in \u001b[0;36m__init__\u001b[0;34m(self, project)\u001b[0m\n\u001b[1;32m    169\u001b[0m         \u001b[0mproject\u001b[0m \u001b[0;34m=\u001b[0m \u001b[0mself\u001b[0m\u001b[0;34m.\u001b[0m\u001b[0m_determine_default\u001b[0m\u001b[0;34m(\u001b[0m\u001b[0mproject\u001b[0m\u001b[0;34m)\u001b[0m\u001b[0;34m\u001b[0m\u001b[0m\n\u001b[1;32m    170\u001b[0m         \u001b[0;32mif\u001b[0m \u001b[0mproject\u001b[0m \u001b[0;32mis\u001b[0m \u001b[0;32mNone\u001b[0m\u001b[0;34m:\u001b[0m\u001b[0;34m\u001b[0m\u001b[0m\n\u001b[0;32m--> 171\u001b[0;31m             raise EnvironmentError('Project was not passed and could not be '\n\u001b[0m\u001b[1;32m    172\u001b[0m                                    'determined from the environment.')\n\u001b[1;32m    173\u001b[0m         \u001b[0;32mif\u001b[0m \u001b[0misinstance\u001b[0m\u001b[0;34m(\u001b[0m\u001b[0mproject\u001b[0m\u001b[0;34m,\u001b[0m \u001b[0msix\u001b[0m\u001b[0;34m.\u001b[0m\u001b[0mbinary_type\u001b[0m\u001b[0;34m)\u001b[0m\u001b[0;34m:\u001b[0m\u001b[0;34m\u001b[0m\u001b[0m\n",
            "\u001b[0;31mOSError\u001b[0m: Project was not passed and could not be determined from the environment."
          ]
        }
      ]
    },
    {
      "cell_type": "markdown",
      "metadata": {
        "id": "Ow1Ag4WUiU0_",
        "colab_type": "text"
      },
      "source": [
        "## Build a pipeline using the component"
      ]
    },
    {
      "cell_type": "markdown",
      "metadata": {
        "id": "EX3Je9f9iU0_",
        "colab_type": "text"
      },
      "source": [
        "Now we can create a pipeline"
      ]
    },
    {
      "cell_type": "code",
      "metadata": {
        "id": "WntDUF79iU1A",
        "colab_type": "code",
        "colab": {}
      },
      "source": [
        "import kfp.dsl as dsl\n",
        "\n",
        "@dsl.pipeline(\n",
        "   name='Numpy multiply pipeline',\n",
        "   description='A toy pipeline that performs numpy calculations.'\n",
        "   )\n",
        "\n",
        "def calc_pipeline(a, b, c):\n",
        "    \n",
        "    #Passing pipeline parameter and a constant value as operation arguments\n",
        "    add_task_1 = mult_opp(a, b) #Returns a dsl.ContainerOp class instance. \n",
        "    \n",
        "    #You can create explicit dependancy between the tasks using xyz_task.after(abc_task)\n",
        "    add_task_2 = mult_opp(a, c)\n",
        "    \n",
        "    add_task_total = mult_opp(add_task_1.output, add_task_2.output)\n"
      ],
      "execution_count": 0,
      "outputs": []
    },
    {
      "cell_type": "markdown",
      "metadata": {
        "id": "yaAE8HQ9iU1B",
        "colab_type": "text"
      },
      "source": [
        "### Compile the pipeline"
      ]
    },
    {
      "cell_type": "code",
      "metadata": {
        "id": "y7LVxG5riU1C",
        "colab_type": "code",
        "colab": {},
        "outputId": "450e4384-9f3a-4ce3-852e-da277053c85c"
      },
      "source": [
        "pipeline_func = calc_pipeline\n",
        "pipeline_filename = pipeline_func.__name__ + '.pipeline.zip'\n",
        "import kfp.compiler as compiler\n",
        "compiler.Compiler().compile(pipeline_func, pipeline_filename)"
      ],
      "execution_count": 0,
      "outputs": [
        {
          "output_type": "error",
          "ename": "NameError",
          "evalue": "name 'mult_opp' is not defined",
          "traceback": [
            "\u001b[0;31m---------------------------------------------------------------------------\u001b[0m",
            "\u001b[0;31mNameError\u001b[0m                                 Traceback (most recent call last)",
            "\u001b[0;32m<ipython-input-12-38a3934fc535>\u001b[0m in \u001b[0;36m<module>\u001b[0;34m()\u001b[0m\n\u001b[1;32m      2\u001b[0m \u001b[0mpipeline_filename\u001b[0m \u001b[0;34m=\u001b[0m \u001b[0mpipeline_func\u001b[0m\u001b[0;34m.\u001b[0m\u001b[0m__name__\u001b[0m \u001b[0;34m+\u001b[0m \u001b[0;34m'.pipeline.zip'\u001b[0m\u001b[0;34m\u001b[0m\u001b[0m\n\u001b[1;32m      3\u001b[0m \u001b[0;32mimport\u001b[0m \u001b[0mkfp\u001b[0m\u001b[0;34m.\u001b[0m\u001b[0mcompiler\u001b[0m \u001b[0;32mas\u001b[0m \u001b[0mcompiler\u001b[0m\u001b[0;34m\u001b[0m\u001b[0m\n\u001b[0;32m----> 4\u001b[0;31m \u001b[0mcompiler\u001b[0m\u001b[0;34m.\u001b[0m\u001b[0mCompiler\u001b[0m\u001b[0;34m(\u001b[0m\u001b[0;34m)\u001b[0m\u001b[0;34m.\u001b[0m\u001b[0mcompile\u001b[0m\u001b[0;34m(\u001b[0m\u001b[0mpipeline_func\u001b[0m\u001b[0;34m,\u001b[0m \u001b[0mpipeline_filename\u001b[0m\u001b[0;34m)\u001b[0m\u001b[0;34m\u001b[0m\u001b[0m\n\u001b[0m",
            "\u001b[0;32m/anaconda3/lib/python3.7/site-packages/kfp/compiler/compiler.py\u001b[0m in \u001b[0;36mcompile\u001b[0;34m(self, pipeline_func, package_path)\u001b[0m\n\u001b[1;32m    570\u001b[0m       \u001b[0mpackage_path\u001b[0m\u001b[0;34m:\u001b[0m \u001b[0mthe\u001b[0m \u001b[0moutput\u001b[0m \u001b[0mworkflow\u001b[0m \u001b[0mtar\u001b[0m\u001b[0;34m.\u001b[0m\u001b[0mgz\u001b[0m \u001b[0mfile\u001b[0m \u001b[0mpath\u001b[0m\u001b[0;34m.\u001b[0m \u001b[0;32mfor\u001b[0m \u001b[0mexample\u001b[0m\u001b[0;34m,\u001b[0m \u001b[0;34m\"~/a.tar.gz\"\u001b[0m\u001b[0;34m\u001b[0m\u001b[0m\n\u001b[1;32m    571\u001b[0m     \"\"\"\n\u001b[0;32m--> 572\u001b[0;31m     \u001b[0mworkflow\u001b[0m \u001b[0;34m=\u001b[0m \u001b[0mself\u001b[0m\u001b[0;34m.\u001b[0m\u001b[0m_compile\u001b[0m\u001b[0;34m(\u001b[0m\u001b[0mpipeline_func\u001b[0m\u001b[0;34m)\u001b[0m\u001b[0;34m\u001b[0m\u001b[0m\n\u001b[0m\u001b[1;32m    573\u001b[0m     \u001b[0myaml\u001b[0m\u001b[0;34m.\u001b[0m\u001b[0mDumper\u001b[0m\u001b[0;34m.\u001b[0m\u001b[0mignore_aliases\u001b[0m \u001b[0;34m=\u001b[0m \u001b[0;32mlambda\u001b[0m \u001b[0;34m*\u001b[0m\u001b[0margs\u001b[0m \u001b[0;34m:\u001b[0m \u001b[0;32mTrue\u001b[0m\u001b[0;34m\u001b[0m\u001b[0m\n\u001b[1;32m    574\u001b[0m     \u001b[0myaml_text\u001b[0m \u001b[0;34m=\u001b[0m \u001b[0myaml\u001b[0m\u001b[0;34m.\u001b[0m\u001b[0mdump\u001b[0m\u001b[0;34m(\u001b[0m\u001b[0mworkflow\u001b[0m\u001b[0;34m,\u001b[0m \u001b[0mdefault_flow_style\u001b[0m\u001b[0;34m=\u001b[0m\u001b[0;32mFalse\u001b[0m\u001b[0;34m)\u001b[0m\u001b[0;34m\u001b[0m\u001b[0m\n",
            "\u001b[0;32m/anaconda3/lib/python3.7/site-packages/kfp/compiler/compiler.py\u001b[0m in \u001b[0;36m_compile\u001b[0;34m(self, pipeline_func)\u001b[0m\n\u001b[1;32m    524\u001b[0m                  for arg_name in argspec.args]\n\u001b[1;32m    525\u001b[0m     \u001b[0;32mwith\u001b[0m \u001b[0mdsl\u001b[0m\u001b[0;34m.\u001b[0m\u001b[0mPipeline\u001b[0m\u001b[0;34m(\u001b[0m\u001b[0mpipeline_name\u001b[0m\u001b[0;34m)\u001b[0m \u001b[0;32mas\u001b[0m \u001b[0mp\u001b[0m\u001b[0;34m:\u001b[0m\u001b[0;34m\u001b[0m\u001b[0m\n\u001b[0;32m--> 526\u001b[0;31m       \u001b[0mpipeline_func\u001b[0m\u001b[0;34m(\u001b[0m\u001b[0;34m*\u001b[0m\u001b[0margs_list\u001b[0m\u001b[0;34m)\u001b[0m\u001b[0;34m\u001b[0m\u001b[0m\n\u001b[0m\u001b[1;32m    527\u001b[0m \u001b[0;34m\u001b[0m\u001b[0m\n\u001b[1;32m    528\u001b[0m     \u001b[0;31m# Remove when argo supports local exit handler.\u001b[0m\u001b[0;34m\u001b[0m\u001b[0;34m\u001b[0m\u001b[0m\n",
            "\u001b[0;32m<ipython-input-11-be14556e53dd>\u001b[0m in \u001b[0;36mcalc_pipeline\u001b[0;34m(a, b, c)\u001b[0m\n\u001b[1;32m      9\u001b[0m \u001b[0;34m\u001b[0m\u001b[0m\n\u001b[1;32m     10\u001b[0m     \u001b[0;31m#Passing pipeline parameter and a constant value as operation arguments\u001b[0m\u001b[0;34m\u001b[0m\u001b[0;34m\u001b[0m\u001b[0m\n\u001b[0;32m---> 11\u001b[0;31m     \u001b[0madd_task_1\u001b[0m \u001b[0;34m=\u001b[0m \u001b[0mmult_opp\u001b[0m\u001b[0;34m(\u001b[0m\u001b[0ma\u001b[0m\u001b[0;34m,\u001b[0m \u001b[0mb\u001b[0m\u001b[0;34m)\u001b[0m \u001b[0;31m#Returns a dsl.ContainerOp class instance.\u001b[0m\u001b[0;34m\u001b[0m\u001b[0m\n\u001b[0m\u001b[1;32m     12\u001b[0m \u001b[0;34m\u001b[0m\u001b[0m\n\u001b[1;32m     13\u001b[0m     \u001b[0;31m#You can create explicit dependancy between the tasks using xyz_task.after(abc_task)\u001b[0m\u001b[0;34m\u001b[0m\u001b[0;34m\u001b[0m\u001b[0m\n",
            "\u001b[0;31mNameError\u001b[0m: name 'mult_opp' is not defined"
          ]
        }
      ]
    },
    {
      "cell_type": "markdown",
      "metadata": {
        "id": "3a16B4rIiU1E",
        "colab_type": "text"
      },
      "source": [
        "### Create experiment"
      ]
    },
    {
      "cell_type": "code",
      "metadata": {
        "id": "jp3Rh4jFiU1E",
        "colab_type": "code",
        "colab": {},
        "outputId": "7a11d6df-87c0-4be8-b47d-fbb6a0b55814"
      },
      "source": [
        "import kfp\n",
        "client = kfp.Client()\n",
        "experiment = client.create_experiment(EXPERIMENT_NAME)"
      ],
      "execution_count": 0,
      "outputs": [
        {
          "output_type": "display_data",
          "data": {
            "text/html": [
              "Experiment link <a href=\"/pipeline/#/experiments/details/35308732-3880-4ed5-8a5c-7d98f7c2aeb1\" target=\"_blank\" >here</a>"
            ],
            "text/plain": [
              "<IPython.core.display.HTML object>"
            ]
          },
          "metadata": {
            "tags": []
          }
        }
      ]
    },
    {
      "cell_type": "markdown",
      "metadata": {
        "id": "1fwEyudUiU1G",
        "colab_type": "text"
      },
      "source": [
        "### Submit Pipeline"
      ]
    },
    {
      "cell_type": "code",
      "metadata": {
        "id": "HqBC3orGiU1G",
        "colab_type": "code",
        "colab": {},
        "outputId": "1b669c7c-40d2-40ff-b8bc-ecb88bfbb40e"
      },
      "source": [
        "import time\n",
        "\n",
        "#Specify pipeline argument values\n",
        "arguments = {'a': '2', 'b': '4', 'c': '8'}\n",
        "\n",
        "#Submit a pipeline run\n",
        "run_name = pipeline_func.__name__ + ' run-%s' % (int(time.time()))\n",
        "run_result = client.run_pipeline(experiment.id, run_name, pipeline_filename, arguments)\n",
        "\n",
        "#This link leads to the run information page. \n",
        "#Note: There is a bug in JupyterLab that modifies the URL and makes the link stop working"
      ],
      "execution_count": 0,
      "outputs": [
        {
          "output_type": "display_data",
          "data": {
            "text/html": [
              "Run link <a href=\"/pipeline/#/runs/details/aac3b99c-ca55-11e9-aec6-42010a8000ae\" target=\"_blank\" >here</a>"
            ],
            "text/plain": [
              "<IPython.core.display.HTML object>"
            ]
          },
          "metadata": {
            "tags": []
          }
        }
      ]
    },
    {
      "cell_type": "markdown",
      "metadata": {
        "id": "U3uOtTzHiU1I",
        "colab_type": "raw"
      },
      "source": [
        "# Copyright 2019 Google Inc. All Rights Reserved.\n",
        "#\n",
        "# Licensed under the Apache License, Version 2.0 (the \"License\");\n",
        "# you may not use this file except in compliance with the License.\n",
        "# You may obtain a copy of the License at\n",
        "#\n",
        "#     http://www.apache.org/licenses/LICENSE-2.0\n",
        "#\n",
        "# Unless required by applicable law or agreed to in writing, software\n",
        "# distributed under the License is distributed on an \"AS IS\" BASIS,\n",
        "# WITHOUT WARRANTIES OR CONDITIONS OF ANY KIND, either express or implied.\n",
        "# See the License for the specific language governing permissions and\n",
        "# limitations under the License."
      ]
    }
  ]
}