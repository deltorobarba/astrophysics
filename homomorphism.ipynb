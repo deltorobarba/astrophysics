{
  "nbformat": 4,
  "nbformat_minor": 0,
  "metadata": {
    "colab": {
      "name": "homomorphism.ipynb",
      "provenance": [],
      "collapsed_sections": [
        "FshTeU-rnp51",
        "Twr0Vfc7FkRw"
      ],
      "toc_visible": true,
      "include_colab_link": true
    },
    "kernelspec": {
      "name": "python3",
      "display_name": "Python 3"
    }
  },
  "cells": [
    {
      "cell_type": "markdown",
      "metadata": {
        "id": "view-in-github",
        "colab_type": "text"
      },
      "source": [
        "<a href=\"https://colab.research.google.com/github/deltorobarba/machinelearning/blob/master/homomorphism.ipynb\" target=\"_parent\"><img src=\"https://colab.research.google.com/assets/colab-badge.svg\" alt=\"Open In Colab\"/></a>"
      ]
    },
    {
      "cell_type": "markdown",
      "metadata": {
        "id": "2Aoj2PpxvDQV"
      },
      "source": [
        "# **Fundamental Theorem on Homomorphisms**"
      ]
    },
    {
      "cell_type": "code",
      "metadata": {
        "id": "1U5_6xH7tAQq"
      },
      "source": [
        "import numpy as np\n",
        "import pandas as pd\n",
        "import seaborn as sns\n",
        "import matplotlib.pyplot as plt"
      ],
      "execution_count": null,
      "outputs": []
    },
    {
      "cell_type": "markdown",
      "metadata": {
        "id": "FshTeU-rnp51"
      },
      "source": [
        "## **Einführung**"
      ]
    },
    {
      "cell_type": "markdown",
      "metadata": {
        "id": "5KT8_ZnOvxyS"
      },
      "source": [
        "##### **Algebra**"
      ]
    },
    {
      "cell_type": "markdown",
      "metadata": {
        "id": "2rnIZcyEryEc"
      },
      "source": [
        "**Algebra**"
      ]
    },
    {
      "cell_type": "markdown",
      "metadata": {
        "id": "ATEv9jPHqnzz"
      },
      "source": [
        "Nach dem Zweiten Weltkrieg begann der Siegeszug einer weiteren Abstraktionsstufe (**[homologische Algebra](https://de.m.wikipedia.org/wiki/Homologische_Algebra), Kategorientheorie**), sowohl in **algebraischer Topologie** (Samuel Eilenberg, Norman Steenrod, Saunders MacLane) als auch in algebraischer Geometrie (Alexander Grothendieck)."
      ]
    },
    {
      "cell_type": "markdown",
      "metadata": {
        "id": "akEpW1oHri7f"
      },
      "source": [
        "Die homologische Algebra beinhaltet Methoden, mit denen ursprünglich Fragestellungen der Topologie im Rahmen der algebraischen Topologie auf algebraische Sachverhalte zurückgeführt wurden."
      ]
    },
    {
      "cell_type": "markdown",
      "metadata": {
        "id": "9F2uiPmdqt4Q"
      },
      "source": [
        "https://de.m.wikipedia.org/wiki/Algebra"
      ]
    },
    {
      "cell_type": "markdown",
      "metadata": {
        "id": "QDB7d2npr0My"
      },
      "source": [
        "**Homologische Algebra als Teilgebiet der Algebra, ursprünglich aus der Algebra**"
      ]
    },
    {
      "cell_type": "markdown",
      "metadata": {
        "id": "rGWNFKyArD_1"
      },
      "source": [
        "Die homologische Algebra ist ein Teilgebiet der Mathematik, das seine Ursprünge in der [algebraischen Topologie](https://de.m.wikipedia.org/wiki/Algebraische_Topologie) hat. Die dort verwendeten Methoden lassen sich wesentlich verallgemeinern und auch in anderen mathematischen Gebieten einsetzen. "
      ]
    },
    {
      "cell_type": "markdown",
      "metadata": {
        "id": "OMcQ0ktSrOiR"
      },
      "source": [
        "https://de.m.wikipedia.org/wiki/Homologische_Algebra"
      ]
    },
    {
      "cell_type": "markdown",
      "metadata": {
        "id": "QpghdWK8r-93"
      },
      "source": [
        "**Algebraische Topologie als Teil der Topologie**"
      ]
    },
    {
      "cell_type": "markdown",
      "metadata": {
        "id": "CiVd2ORLrvzS"
      },
      "source": [
        "Die algebraische Topologie ist ein Teilgebiet der Mathematik, das topologische Räume (oder auch Lagebeziehungen im Raum wie zum Beispiel in der Knotentheorie) mit Hilfe von algebraischen Strukturen untersucht. Sie ist eine Teildisziplin der Topologie."
      ]
    },
    {
      "cell_type": "markdown",
      "metadata": {
        "id": "jsUOAeSZrL7X"
      },
      "source": [
        "https://de.m.wikipedia.org/wiki/Algebraische_Topologie"
      ]
    },
    {
      "cell_type": "markdown",
      "metadata": {
        "id": "HmCOFgKfs2ev"
      },
      "source": [
        "##### **Algebraische Strukturen**"
      ]
    },
    {
      "cell_type": "markdown",
      "metadata": {
        "id": "EYnnHqyEnvQ5"
      },
      "source": [
        "https://de.m.wikipedia.org/wiki/Algebraische_Struktur"
      ]
    },
    {
      "cell_type": "markdown",
      "metadata": {
        "id": "sj5ZhZr1bdCL"
      },
      "source": [
        "Algebra ist das Lösen von Gleichungen."
      ]
    },
    {
      "cell_type": "markdown",
      "metadata": {
        "id": "7fxw9DSyjiah"
      },
      "source": [
        "* **Eine Algebraische Struktur ist eine Menge versehen mit Verknüpfungen auf dieser Menge**. Eine Vielzahl der in der abstrakten Algebra untersuchten Strukturen wie Gruppen, Ringe oder Körper sind spezielle algebraische Strukturen.\n",
        "\n",
        "* Algebraische Strukturen sind eine Form von [mathematischen Strukturen](https://de.m.wikipedia.org/wiki/Mathematische_Struktur) (neben topologischen Strukturen, geometrischen Strukturen und Zahlbereichen). Abstract algebra is the study of algebraic structures. \n",
        "\n",
        "* **Such a structure consists of a set together with one or more binary operations, which are required to satisfy certain axioms.**\n",
        "\n",
        "* The structures listed below are only a sample of the many algebraic structures of importance in mathematics. Many fields of mathematics involve their own special algebraic structures, and new algebraic structures are defined all the time. To give you a sense of scale, the online encyclopedia Wikipedia currently has articles on over a hundred different algebraic structures, and this represents only a small fraction of those that have been investigated in the mathematical literature."
      ]
    },
    {
      "cell_type": "markdown",
      "metadata": {
        "id": "a_Grie7TcA-J"
      },
      "source": [
        "https://de.m.wikipedia.org/wiki/Universelle_Algebra"
      ]
    },
    {
      "cell_type": "markdown",
      "metadata": {
        "id": "pcE7T_Nvm94w"
      },
      "source": [
        "https://de.m.wikipedia.org/wiki/Homologische_Algebra"
      ]
    },
    {
      "cell_type": "markdown",
      "metadata": {
        "id": "q7Q5VnhzpfGj"
      },
      "source": [
        "https://en.m.wikipedia.org/wiki/Outline_of_algebraic_structures"
      ]
    },
    {
      "cell_type": "markdown",
      "metadata": {
        "id": "5c1L66HH0mw5"
      },
      "source": [
        "##### **Summary**"
      ]
    },
    {
      "cell_type": "markdown",
      "metadata": {
        "id": "4XKF004At1qB"
      },
      "source": [
        "**The elements of a field (Körper) obey the following laws:**\n",
        "\n",
        "1. **Closure laws**: a + b and ab are unique elements in the field.\n",
        "\n",
        "2. **Commutative laws**: a + b = b + a and ab = ba.\n",
        "\n",
        "3. **Associative laws**: a + (b + c) = (a + b) + c and a(bc) = (ab)c.\n",
        "\n",
        "4. **Identity laws**: there exist elements 0 and 1 such that a + 0 = a and a × 1 = a.\n",
        "\n",
        "5. **Inverse laws**: for every a there exists an element - a such that a + (-a) = 0, and for every a ≠ 0 there exists an element a-1 such that a × a-1 = 1.\n",
        "\n",
        "6. **Distributive law**: a(b + c) = ab + ac.\n",
        "\n",
        "\n",
        "Read more: Field - Set, Laws, Elements, and Operations - JRank Articles https://science.jrank.org/pages/2709/Field.html#ixzz6UdPamPNB"
      ]
    },
    {
      "cell_type": "markdown",
      "metadata": {
        "id": "AZCpPDJAe3AK"
      },
      "source": [
        "* **Summary**: Aus einer Menge der Zahlen (N, Z, Q, R, C, H) eine algebraische Struktur basteln. Man kann mit der Gruppe anfangen (als einfachste algebraische Struktur), um erstmal einfach zu verknüpfen. Dann schickt man noch eine Verknüpfung rein und bastelt sich so einen Ring. Kommt dann zum Körper und kann spätestens bei den Körpern über komplexen Zahlen sämtliche Gleichungen lösen.\n",
        "\n",
        "* **Gruppe** zB schickt man die Menge natürliche Zahlen N in eine zweistellige Verknüpfung. Wobei abgestuft werden kann wie viele Axiome gelten, von Magma, über Halbgruppe (nur Assoziativität), Monoid (inkl. neutrales Element), Gruppe (inkl Inverse) und Abelsche Gruppe (inkl Kommutativität).\n",
        "\n",
        "* **Ringe** erlauben **zwei** zweistellige Verknüpfungen, üblicherweise der **ganzen Zahlen Z**, was aber kein Divisionsring ist / keine multiplikative Inverse für alle Elemente (gibt Probleme bei der Lösung mancher Gleichungen): Addition: (R, +) ist eine abelsche Gruppe, aber die Multiplikation: (R, ∙) ist eine Halbgruppe. **Kommutativität in der Multiplikation gilt dann erst bei Körpern!**\n",
        "\n",
        "* Divisionsring = Schiefkörper (hat alle Körpereigenschaften, aber die Multiplikation ist nicht notwendigerweise kommutativ). Anwendung bei Quaternions H.\n",
        "\n",
        "* **Körper** über rationale Zahlen Q, über reelle Zahlen R und über komplexe Zahlen C. Damit kann man praktisch alle Gleichungen lösen. Bei Körpern gilt die Kommutativität in der Multiplikation.\n",
        "\n",
        "* Für Operationen im mehrdimensionalen Raum erweitert man noch auf **Module** (für Ringe, zB ganze Zahlen Z<sup>n</sup>) und **Vektorräume** (für Körper, zB reelle Zahlen R<sup>n</sup>). Deshalb sagt man auch zB Vektorraum über einen Körper der reellen Zahlen. **Ein Modul ist ein n-dimensionaler Ring, und ein Vektorraum ist ein n-dimensionaler Körper.**"
      ]
    },
    {
      "cell_type": "markdown",
      "metadata": {
        "id": "DSDecWiLleDK"
      },
      "source": [
        "![alternativer Text](https://upload.wikimedia.org/wikipedia/commons/thumb/7/7a/Übersicht_Körper.svg/993px-Übersicht_Körper.svg.png)\n"
      ]
    },
    {
      "cell_type": "markdown",
      "metadata": {
        "id": "CoIy64C2tO4P"
      },
      "source": [
        "https://en.m.wikipedia.org/wiki/Vector_space"
      ]
    },
    {
      "cell_type": "markdown",
      "metadata": {
        "id": "C9dRal7LstQ8"
      },
      "source": [
        "https://en.m.wikipedia.org/wiki/Outline_of_algebraic_structures"
      ]
    },
    {
      "cell_type": "markdown",
      "metadata": {
        "id": "zbm3qTNcMybQ"
      },
      "source": [
        "<img src=\"https://raw.githubusercontent.com/deltorobarba/repo/master/algebragroups.jpg\" alt=\"algreba\">"
      ]
    },
    {
      "cell_type": "markdown",
      "metadata": {
        "id": "0n2NN_KyNEQb"
      },
      "source": [
        "https://youtu.be/Cq2m-MgczWU"
      ]
    },
    {
      "cell_type": "markdown",
      "metadata": {
        "id": "dr1iwDxKS8MN"
      },
      "source": [
        "##### **Regeln**"
      ]
    },
    {
      "cell_type": "markdown",
      "metadata": {
        "id": "H-pYZbqoo-Rz"
      },
      "source": [
        "**[Abgeschlossenheit](https://de.m.wikipedia.org/wiki/Abgeschlossenheit_(algebraische_Struktur))**\n",
        "\n",
        "* Closure laws: a + b and ab are unique elements in the field.\n",
        "\n",
        "* Manchmal findet man noch die Forderung der „Abgeschlossenheit“, dass \n",
        "x\n",
        "∗\n",
        "y\n",
        "wieder in \n",
        "G liegen soll, aber aus der Sicht eines Algebraikers beinhaltet der Begriff der „zweistelligen Verknüpfung“ diese Eigenschaft bereits."
      ]
    },
    {
      "cell_type": "markdown",
      "metadata": {
        "id": "aMr2jhDX0t-E"
      },
      "source": [
        "Manchmal findet man noch die Forderung der „Abgeschlossenheit“, dass x ∗ y wieder in G liegen soll, aber aus der Sicht eines Algebraikers beinhaltet der Begriff der „zweistelligen Verknüpfung“ diese Eigenschaft bereits."
      ]
    },
    {
      "cell_type": "markdown",
      "metadata": {
        "id": "Nc3n_XE6Dybo"
      },
      "source": [
        "*Nur Abgeschlossenheit gilt für Magma (Groupoid)*"
      ]
    },
    {
      "cell_type": "markdown",
      "metadata": {
        "id": "K64WJEKxT5Jb"
      },
      "source": [
        "**[Assoziativität](https://de.m.wikipedia.org/wiki/Assoziativgesetz)**\n",
        "\n",
        "* **Addition**. When three or more numbers are added, the sum is the same regardless of the way in which the numbers are grouped. (a + b) + c = a + (b + c)\n",
        "\n",
        "* **Multiplication**. When three or more numbers are multiplied, the product is the same regardless of the way in which the numbers are grouped. (a * b) * c = a * (b * c)"
      ]
    },
    {
      "cell_type": "markdown",
      "metadata": {
        "id": "WyIE7Cjqs9SE"
      },
      "source": [
        "*Abgeschlossenheit und Assoziativität gilt für Halbgruppen*"
      ]
    },
    {
      "cell_type": "markdown",
      "metadata": {
        "id": "FIBq7GtBir5R"
      },
      "source": [
        "**[Identity Property](https://en.m.wikipedia.org/wiki/Identity_element) (Neutrales Element)**\n",
        "\n",
        "* **Additive identity**. The sum of any number and zero is that number. 12 + 0 = 12\n",
        "\n",
        "* **Multiplicatice identity**, The product of any number and one is that number. 18 x 1 = 18"
      ]
    },
    {
      "cell_type": "markdown",
      "metadata": {
        "id": "I7zmBMZLtT9F"
      },
      "source": [
        "*Zusätzlich Identity gilt für Monoid (Teiltyp Gruppe)*"
      ]
    },
    {
      "cell_type": "markdown",
      "metadata": {
        "id": "C04LXzIEpeGY"
      },
      "source": [
        "**[Inverse Elemente](https://de.m.wikipedia.org/wiki/Inverses_Element)**\n",
        "\n",
        "* For each element a $\\in \\mathrm{G}$, there exists an element $\\mathrm{a}^{-1} \\in \\mathrm{G}$ such that $\\mathrm{a} \\cdot \\mathrm{a}^{-1}=\\mathrm{a}^{-1} \\cdot \\mathrm{a}=\\mathrm{e}$. (The element $\\mathrm{a}^{-1}$ is called the inverse of a.)\n",
        "\n",
        "* Wenn man ein beliebiges Element der Menge und sein Inverses mit der Rechenoperation verknüpft, erhält man immer das sogenannte neutrale Element $\\mathrm{e}$ als Ergebnis.\n",
        "\n",
        "* **Addition**: a+(-a) = a-a = 0 zB: 7 + (-7) = 0\n",
        "\n",
        "* **Multiplication**: Two elements of a set, A and A inverse, multiplied together to produce the identity element. Zahl a multipliziert mit seinem Kehrwert (1/a oder a<sup>-1</sup>) = 1"
      ]
    },
    {
      "cell_type": "markdown",
      "metadata": {
        "id": "vZnKN7JhvPn7"
      },
      "source": [
        "*Zusätzlich Inverse gilt für Gruppe*"
      ]
    },
    {
      "cell_type": "markdown",
      "metadata": {
        "id": "Ll09kLWiUUb-"
      },
      "source": [
        "**[Kommutativität](https://de.m.wikipedia.org/wiki/Kommutativgesetz)**\n",
        "\n",
        "* **Addition**. When two numbers are added, the sum is the same regardless of the order in which the numbers are added. a + b = b + a\n",
        "\n",
        "* **Multiplication**. When two numbers are multiplied together, the product is the same regardless of the order in which the numbers are multiplied. a * b = b * a"
      ]
    },
    {
      "cell_type": "markdown",
      "metadata": {
        "id": "exscwR8mtdxL"
      },
      "source": [
        "*Zusätzlich Kommutativität gilt für Abelian Group*"
      ]
    },
    {
      "cell_type": "markdown",
      "metadata": {
        "id": "xNPouI8c84_b"
      },
      "source": [
        "For more details on sub-types of groups, see Group-like structures: https://en.m.wikipedia.org/wiki/Category_(mathematics)"
      ]
    },
    {
      "cell_type": "markdown",
      "metadata": {
        "id": "NKq9om0BTe_4"
      },
      "source": [
        "**[Distributivgesetz](https://de.m.wikipedia.org/wiki/Distributivgesetz)**\n",
        "\n",
        "* The sum of two numbers times a third number is equal to the sum of each addend times the third number (Gilt für körper (fields), aber nicht gruppen oder ringe!). a * b + a * c = a * (b + c)"
      ]
    },
    {
      "cell_type": "markdown",
      "metadata": {
        "id": "tNBArCWBuSJo"
      },
      "source": [
        "*Gilt zusätzlich Distributivgesetz gilt für Ring (da man hier zwei Operationen benötigt)*"
      ]
    },
    {
      "cell_type": "markdown",
      "metadata": {
        "id": "POC0tLKrlRUg"
      },
      "source": [
        "##### **Verknüpfungen**"
      ]
    },
    {
      "cell_type": "markdown",
      "metadata": {
        "id": "AJqX4ZdulhXo"
      },
      "source": [
        "* Neben den arithmetischen Grundrechenarten (Addition, Subtraktion usw.) werden damit etwa auch geometrische Operationen (wie Spiegelung, Drehung u. a.) sowie weitere Rechenoperationen bzw. gelegentlich auch logische Operatoren erfasst. \n",
        "\n",
        "* **Verknüpfungen dienen in der Algebra dazu, algebraische Strukturen zu definieren**. Die Verknüpfungen müssen dabei bestimmte Bedingungen (Axiome) erfüllen. Bei partiellen Algebren sind auch partielle Verknüpfungen zugelassen.\n",
        "\n",
        "* Zum Beispiel ist eine Halbgruppe eine Menge mit einer inneren zweistelligen Verknüpfung, die das Assoziativgesetz erfüllt. Die Forderung, dass das Ergebnis der Verknüpfung wieder Element der gegebenen Menge sein soll (Abgeschlossenheit), ist bereits in der Definition der inneren Verknüpfung enthalten."
      ]
    },
    {
      "cell_type": "markdown",
      "metadata": {
        "id": "NbCMQyzylTr-"
      },
      "source": [
        "https://de.m.wikipedia.org/wiki/Verknüpfung_(Mathematik)"
      ]
    },
    {
      "cell_type": "markdown",
      "metadata": {
        "id": "DLGBt1p-x6ZJ"
      },
      "source": [
        "https://de.m.wikibooks.org/wiki/Mathe_für_Nicht-Freaks:_Verknüpfung"
      ]
    },
    {
      "cell_type": "markdown",
      "metadata": {
        "id": "KGfUnNzNls3z"
      },
      "source": [
        "https://de.m.wikipedia.org/wiki/Grundrechenart"
      ]
    },
    {
      "cell_type": "markdown",
      "metadata": {
        "id": "Hv4zVMbKlqVb"
      },
      "source": [
        "https://de.m.wikipedia.org/wiki/Operator_(Mathematik)"
      ]
    },
    {
      "cell_type": "markdown",
      "metadata": {
        "id": "t80NqBZklmkV"
      },
      "source": [
        "https://de.m.wikipedia.org/wiki/Logischer_Operator"
      ]
    },
    {
      "cell_type": "markdown",
      "metadata": {
        "id": "npi3GPQuyXHu"
      },
      "source": [
        "##### **Abbildungen (Funktionen)**"
      ]
    },
    {
      "cell_type": "markdown",
      "metadata": {
        "id": "c9UY_fpc-dAF"
      },
      "source": [
        "**Injektive, surjektive & bijektive Abbildungen**"
      ]
    },
    {
      "cell_type": "markdown",
      "metadata": {
        "id": "RFgQPMjQ_2QB"
      },
      "source": [
        "![alternativer Text](https://upload.wikimedia.org/wikipedia/commons/thumb/0/02/Injection.svg/240px-Injection.svg.png)"
      ]
    },
    {
      "cell_type": "markdown",
      "metadata": {
        "id": "AZ_sMORDL_Ai"
      },
      "source": [
        "* Jedes Element von Y hat höchstens ein Urbild: A, B, D je eines, C keines.\n",
        "\n",
        "* Die Zielmenge kann daher nicht weniger mächtig als die Definitionsmenge sein, d. h., sie kann nicht weniger Elemente enthalten.\n",
        "\n",
        "* injektiv, wenn es zu jedem Element y der Zielmenge Y höchstens ein (also eventuell gar kein) Element x der Ausgangs- oder Definitionsmenge X gibt, das darauf zielt, wenn also **nie zwei verschiedene Elemente der Definitionsmenge auf dasselbe Element der Zielmenge abgebildet werden**"
      ]
    },
    {
      "cell_type": "markdown",
      "metadata": {
        "id": "spo-zVLSLUsq"
      },
      "source": [
        "https://de.m.wikipedia.org/wiki/Injektive_Funktion"
      ]
    },
    {
      "cell_type": "markdown",
      "metadata": {
        "id": "EsAaO511Ln_G"
      },
      "source": [
        "![alternativer Text](https://upload.wikimedia.org/wikipedia/commons/thumb/6/6c/Surjection.svg/240px-Surjection.svg.png)"
      ]
    },
    {
      "cell_type": "markdown",
      "metadata": {
        "id": "SpROKRjkLzec"
      },
      "source": [
        "jedes Element der Zielmenge hat mindestens ein Urbild (rechtstotalen Funktionen)"
      ]
    },
    {
      "cell_type": "markdown",
      "metadata": {
        "id": "oECpC2jOLWnI"
      },
      "source": [
        "https://de.m.wikipedia.org/wiki/Surjektive_Funktion"
      ]
    },
    {
      "cell_type": "markdown",
      "metadata": {
        "id": "_lQ2nNu6Ljv4"
      },
      "source": [
        "![alternativer Text](https://upload.wikimedia.org/wikipedia/commons/thumb/a/a5/Bijection.svg/240px-Bijection.svg.png)"
      ]
    },
    {
      "cell_type": "markdown",
      "metadata": {
        "id": "4TEi36wZLYis"
      },
      "source": [
        "https://de.m.wikipedia.org/wiki/Bijektive_Funktion"
      ]
    },
    {
      "cell_type": "markdown",
      "metadata": {
        "id": "0SSy_8X9uwn9"
      },
      "source": [
        "**Bild (Img), Urbild & Kern**"
      ]
    },
    {
      "cell_type": "markdown",
      "metadata": {
        "id": "Y1jLxj1l98EQ"
      },
      "source": [
        "https://de.m.wikipedia.org/wiki/Bild_(Mathematik)"
      ]
    },
    {
      "cell_type": "markdown",
      "metadata": {
        "id": "oi6tDHyz9-it"
      },
      "source": [
        "https://de.m.wikipedia.org/wiki/Kern_(Algebra)"
      ]
    },
    {
      "cell_type": "markdown",
      "metadata": {
        "id": "urXv_rFuy6tf"
      },
      "source": [
        "Thema: Abbildungen (zB lineare Abbildungen in Vektorräumen)\n",
        "\n",
        "* **Definitionsmenge**: zB Vektorraum V (mit Funktionsargument)\n",
        "\n",
        "* **Zielmenge**: zB Vektorraum W (mit Funktionswert)\n",
        "\n",
        "* **Urbild**: Das Urbild von der Teilmenge N in der Zielmenge W sind alle Elemente aus der Definitionsmenge V (original), für die gilt, wenn man sie in die Funktion einsetzt, dann liegt der Funktionswert in den Teilmenge N der Zielmenge W.\n",
        "\n",
        "> $f^{-1}(N)=\\{x \\in V \\mid f(x) \\in N\\}$\n",
        "\n",
        "* **Faser**: Urbild von einem Element (\"Faser der Abbildung über einem Element\")\n",
        "\n",
        "* **Funktionswerte**: Element im Bild in der Zielmenge, der zu einem Element im Urbild gehört. Alle Funktionswerte, die überhauot rauskommen können, sind das Bild bzw. die Bildmenge. \n",
        "\n",
        "* **[Bild](https://ncatlab.org/nlab/show/image) bzw [Img](https://en.m.wikipedia.org/wiki/Image_(mathematics))**: Menge in der Zielmenge. Ist immer in der Zielmenge, muss aber nicht alle Elemente in der Zielmenge umfassen\n",
        "\n",
        ">$\\operatorname{Bild}(f)=f(V):=\\{f(x) \\mid x \\in V\\}$ = im(f)\n",
        "\n",
        "* **Kern**: Nullvektor / das neutrale Element der Addition. Alle Elemente in der Definitionsmenge V, für die der Funktionswert der Nullvektor ist (d.h. bei denen Null in der Zielmenge rauskommt).\n",
        "\n",
        ">ker(f) = $\\{x \\in V \\mid f(x)=0 \\in W\\}$"
      ]
    },
    {
      "cell_type": "markdown",
      "metadata": {
        "id": "VlpJJK1F979M"
      },
      "source": [
        "https://de.m.wikipedia.org/wiki/Urbild_(Mathematik)#Definition"
      ]
    },
    {
      "cell_type": "markdown",
      "metadata": {
        "id": "YDualhq0eJBf"
      },
      "source": [
        "**Umfangreichere Differenzierung**"
      ]
    },
    {
      "cell_type": "markdown",
      "metadata": {
        "id": "63hmjERjeHzh"
      },
      "source": [
        "* **In der Analysis spricht man heute häufig noch von Funktionen, während man in der Algebra und in der Geometrie von Abbildungen spricht.**\n",
        "\n",
        "* Einige Mathematiker unterscheiden auch heute noch streng zwischen einer Abbildung und einer Funktion. Diese verstehen unter einer Funktion eine Abbildung in den reellen oder komplexen Zahlenkörper.\n",
        "\n",
        "* Weitere Synonyme in spezielleren Zusammenhängen sind unter anderem **Operation in der Analysis, Verknüpfung und Morphismus in der Algebra**."
      ]
    },
    {
      "cell_type": "markdown",
      "metadata": {
        "id": "nkOB9acDedLP"
      },
      "source": [
        "Eine Funktion f ordnet jedem Element x einer Definitionsmenge D genau ein Element y einer Zielmenge Z zu.\n",
        "Schreibweise:\n",
        "\n",
        "**f: D ⟶ Z, x ↦ y**\n",
        "\n",
        "Anmerkungen:\n",
        "* Die Umkehrung gilt nicht: Ein Element der Zielmenge muss (wenn überhaupt) nicht nur einem Element des Definitionsbereiches zugeordnet worden sein.\n",
        "\n",
        "* Oft ist an Stelle der Definitionsmenge zunächst eine Quellmenge Q gegeben. Wenn f als Rechenvorschrift gegeben ist, erhält man die Definitionsmenge D<sub>f</sub>, indem man von Q diejenigen Elemente ausschließt, für die f nicht definiert ist."
      ]
    },
    {
      "cell_type": "markdown",
      "metadata": {
        "id": "35B4DcKge1AB"
      },
      "source": [
        "**Mengentheoretische Definition**\n",
        "\n",
        "Mengentheoretisch ist eine Funktion eine spezielle Relation: Eine Funktion von der Menge D in die Menge Z ist eine Menge f, die die folgenden Eigenschaften hat: \n",
        "\n",
        "* f ist eine Teilmenge des kartesischen Produkts D􏰞xZ von D und Z, d. h. f eine Relation.\n",
        "\n",
        "* Für jedes Element x aus D existiert (mindestens) ein Element y in Z, so dass das geordnete Paar (x,y) Element der Relation f ist. f ist also linkstotal.\n",
        "\n",
        "* Zu jedem Element x von D gibt es höchstens ein Element y von Z, so dass das Paar (x,y) in f liegt. f ist damit rechtseindeutig bzw. funktional.\n",
        "\n",
        "* Die letzten beiden Eigenschaften lassen sich auch wie folgt zusammenfassen:\n",
        "Zu jedem Element x von D gibt es genau ein Element y von Z, so dass das Paar (x,y) Element der Relation f ist.\n",
        "\n",
        "\n",
        "Oft möchte man aber auch die Zielmenge explizit zu einem Teil der Funktion machen, zum Beispiel um Aussagen zur Surjektivität anstellen zu können:\n",
        "\n",
        "* Ein Paar f = (G<sub>f</sub>,Z), bestehend aus einer Relation G<sub>f</sub> und einer Menge Z, heißt Funktion von der Menge D nach Z, wenn gilt: G<sub>f</sub> ⊆ D􏰞Z und zu jedem Element x von D gibt es genau ein Element y von Z (geschrieben y = f(x)), so dass das Paar (x,y) Element von G<sub>f</sub> ist.\n",
        "\n",
        "* G<sub>f</sub> wird auch der Graph der Funktion f genannt. Die Definitionsmenge D der Funktion ist dabei durch ihren Graphen eindeutig bestimmt und besteht aus den ersten Komponenten aller Elemente des Graphen. Stimmen zwei Funktionen in ihren Graphen überein, so sagt man auch, sie seien im We‐ sentlichen gleich.\n",
        "\n",
        "* Man kann jedoch auch noch die Definitionsmenge hinzunehmen und eine Funktion entsprechend als ein Tripel f = (Gf,D,Z), G<sub>f</sub> wie oben, definieren."
      ]
    },
    {
      "cell_type": "markdown",
      "metadata": {
        "id": "L9dWfLfey6I0"
      },
      "source": [
        "https://youtu.be/Q52laFrARek"
      ]
    },
    {
      "cell_type": "markdown",
      "metadata": {
        "id": "Twr0Vfc7FkRw"
      },
      "source": [
        "## **Quotientenalgebra**"
      ]
    },
    {
      "cell_type": "markdown",
      "metadata": {
        "id": "iQ5I0S_Gxbcp"
      },
      "source": [
        "#### **Division mit Rest und Modulorechnung**"
      ]
    },
    {
      "cell_type": "markdown",
      "metadata": {
        "id": "d2tNVGNx8geM"
      },
      "source": [
        "###### **Division mit Rest**"
      ]
    },
    {
      "cell_type": "markdown",
      "metadata": {
        "id": "1afwhBv8yMIz"
      },
      "source": [
        "* Die Division mit Rest oder der Divisionsalgorithmus ist ein mathematischer Satz aus der Algebra und der Zahlentheorie. Er besagt, dass es zu zwei Zahlen $n$ und $m \\neq 0$ eindeutig bestimmte Zahlen $a$ und $b$ gibt, für die\n",
        "$\n",
        "n=m \\cdot a+b, \\quad 0 \\leq b<|m|\n",
        "$\n",
        "gilt.\n",
        "\n",
        "* zB 17 = 3 * 5 + 2 (b ist hierbei die Restklasse und a der Quotient) \n",
        "\n",
        "* Die Zahlen $a$ und $b$ lassen sich durch die schriftliche Division ermitteln.\n",
        "\n",
        "* Die Division mit Rest ist auch für Polynome definiert. Die allgemeinste mathematische Struktur, in der es eine Division mit Rest gibt, ist der [euklidische Ring](https://de.wikipedia.org/wiki/Euklidischer_Ring)."
      ]
    },
    {
      "cell_type": "markdown",
      "metadata": {
        "id": "PpTQtJFWzQ0V"
      },
      "source": [
        "*Division mit Rest bei naturlichen Zahlen*\n",
        "\n",
        "* Wenn zwei natürliche Zahlen, der Dividend $n$ und der Divisor $m$ (ungleich 0 ), mit Rest dividiert werden sollen,\n",
        "wenn also\n",
        "\n",
        "  * $n: m$\n",
        "\n",
        "* berechnet werden soll, so wird gefragt, wie man die Zahl $n$ als Vielfaches von $m$ und einem \"kleinen Rest\"\n",
        "darstellen kann:\n",
        "\n",
        "  * $\n",
        "n=m \\cdot a+b\n",
        "$\n",
        "\n",
        "* Hier ist **$a$ der so genannte Ganzzahlquotient und $b$ der Rest**. Entscheidende Nebenbedingung ist, dass $b$ eine Zahl in $\\{0,1, \\ldots, m-1\\}$ ist. Hierdurch wird $b$ eindeutig bestimmt.\n",
        "\n",
        "* Der Rest ist also die Differenz zwischen dem Dividenden und dem größten Vielfachen des Divisors, das höchstens so groß ist wie der Dividend. Ein Rest ungleich 0 ergibt sich folglich genau dann, wenn der Dividend kein Vielfaches des Divisors ist. Man sagt auch: Der Dividend ist nicht durch den Divisor teilbar, weshalb ein Rest übrigbleibt."
      ]
    },
    {
      "cell_type": "markdown",
      "metadata": {
        "id": "bQ4DCA3T8i_y"
      },
      "source": [
        "*Sources: [Division_mit_Rest](https://de.wikipedia.org/wiki/Division_mit_Rest) & [Euclidean_division](https://en.wikipedia.org/wiki/Euclidean_division)*"
      ]
    },
    {
      "cell_type": "markdown",
      "metadata": {
        "id": "wrSUIZdE0JOn"
      },
      "source": [
        "###### **Modulo (Rest)**"
      ]
    },
    {
      "cell_type": "markdown",
      "metadata": {
        "id": "axJeTPmk0NTp"
      },
      "source": [
        "* **Modulo (Restklassenrechnung) berechnet den Rest b der Division n geteilt durch m ('Modular arithmetic')**\n",
        "\n",
        "* Man kann eine Funktion definieren, die jedem Zahlenpaar (n, m) einen eindeutigen Teilerrest b zuordnet. Diese nennt man Modulo (von lat. modulus, Kasus Ablativ, also: ‚(gemessen) mit dem (kleinen) Maß (des …)‘) und kürzt sie meistens mit mod ab.\n",
        "\n",
        "* Modulo: mathematische Operation, Restklassenrechnung: äquivalent in Bezug auf das Ergebnis."
      ]
    },
    {
      "cell_type": "markdown",
      "metadata": {
        "id": "xFJXBsMLuVZ6"
      },
      "source": [
        "*Beispiele:*\n",
        "\n",
        "* 7 mod 2 (sprich 7modulo2) ist beispielsweise 1, denn 7 geteilt durch 2 lässt den Rest 1.\n",
        "\n",
        "* Zwei Zahlen sind kongruent (modulo der natürlichen Zahl n), wenn ihre Differenz durch n teilbar ist.\n",
        "\n",
        "* Zwei Zahlen sind kongruent (modulo des Moduls m), wenn ihre Differenz durch m teilbar ist.\n",
        "\n",
        "* Die ganzen Zahlen zerfallen mit der Kongruenz also in Äquivalenzklassen, die Restklassen modulo m.\n",
        "\n",
        "A familiar use of [modular arithmetic](https://en.m.wikipedia.org/wiki/Modular_arithmetic) is in the 12-hour clock, in which the day is divided into two 12-hour periods.\n",
        "\n",
        "* If the time is 7:00 now, then 8 hours later it will be 3:00. \n",
        "\n",
        "* Simple addition would result in 7 + 8 = 15, but clocks \"wrap around\" every 12 hours. \n",
        "\n",
        "* Because the hour number starts over after it reaches 12, this is arithmetic modulo 12."
      ]
    },
    {
      "cell_type": "markdown",
      "metadata": {
        "id": "mL7hjXQ32Hum"
      },
      "source": [
        "*Mathematische Variante*\n",
        "\n",
        "> Funktion: $\\bmod : \\mathbb{Z} \\times(\\mathbb{Z} \\backslash\\{0\\}) \\rightarrow \\mathbb{Z}, \\quad(a, m) \\mapsto a \\bmod m:=a-\\left\\lfloor\\frac{a}{m}\\right\\rfloor \\cdot m$\n",
        "\n",
        "* Die Gaußklammer $\\lfloor\\cdot\\rfloor$ bezeichnet **die größte ganze Zahl, die nicht größer als die Zahl in der Gaußklammer** ist, also, falls positiv, der ganze Anteil ohne die Nachkommastellen. Hier gilt stets \n",
        "\n",
        "> $(a+k m) \\bmod m=a \\bmod m$ für alle $k \\in \\mathbb{Z}$\n",
        "\n",
        "* aber im Allgemeinen ist \n",
        "\n",
        "> $(-a) \\bmod m \\neq-(a \\bmod m),$ z. B. $(-2) \\bmod 3=1 \\neq-2=-(2 \\bmod 3)$\n",
        "\n",
        "* Ist $m$ positiv, so ist $a \\bmod m \\geq 0$ für alle $a$."
      ]
    },
    {
      "cell_type": "markdown",
      "metadata": {
        "id": "e45GkJku2KW-"
      },
      "source": [
        "*Symmetrische Variante*\n",
        "\n",
        "* Neben dieser „mathematischen Variante“ wird oft auch eine ähnliche Funktion als Modulo bezeichnet, die für negative Argumente unterschiedliche Ergebnisse liefert und „symmetrische Variante“ genannt wird:\n",
        "\n",
        "> $\n",
        "(a \\bmod m):=a-m \\cdot(a \\operatorname{div} m)\n",
        "$\n",
        "\n",
        "* Dabei bezeichnet $a$ div $m$ den zur Null hin gerundeten Quotienten $a / m$, gegeben durch $a$ div $m=\\operatorname{sgn}(a) \\operatorname{sgn}(m)\\left\\lfloor\\frac{|a|}{|m|}\\right\\rfloor,$ wobei $\\operatorname{sgn}(x)$ die Vorzeichenfunktion bezeichnet. Für diese Variante gilt\n",
        "\n",
        "> $\n",
        "(-a) \\bmod m=-(a \\bmod m)\n",
        "$\n",
        "\n",
        "* aber im Allgemeinen \n",
        "\n",
        "> $(a+k m) \\bmod m \\neq a \\bmod m,$ z. B. $(1-3) \\bmod 3=(-2) \\bmod 3=-2 \\neq 1=1 \\bmod 3$\n",
        "\n",
        "* $a \\bmod m$ hat stets dasselbe Vorzeichen wie $a$, oder es gilt $a \\bmod m=0$."
      ]
    },
    {
      "cell_type": "markdown",
      "metadata": {
        "id": "OluQIuRD6i3k"
      },
      "source": [
        "*Beispiele*\n",
        "\n",
        "* $17 \\bmod 3=2,$ da $17=5 \\cdot 3+2\\left (3\\right.$ passt fünfmal in 17 und es bleiben 2 übrig - der Rest ist also 2)\n",
        "\n",
        "* $2 \\bmod 3=2,$ da $2=0 \\cdot 3+2$\n",
        "\n",
        "* $3 \\bmod 3=0,$ da $3=1 \\cdot 3+0$\n",
        "\n",
        "* $-8 \\bmod 6=-8-\\left\\lfloor\\frac{-8}{6}\\right\\rfloor \\cdot 6=-8-(-2) \\cdot 6=-8+12=4$"
      ]
    },
    {
      "cell_type": "markdown",
      "metadata": {
        "id": "ERft546W35pp"
      },
      "source": [
        "Aus $a$ mod $m=b$ mod $m$ folgt nicht $a=b$, sondern nur, dass sich $a$ und $b$ um ein ganzzahliges Vielfaches von $m$ unterscheiden, also: \n",
        "\n",
        "> $a=b+(k \\cdot m)$ mit $k \\in \\mathbb{Z}$. \n",
        "\n",
        "Eine derartige Gleichung kann auch einfacher mit Hilfe der **in der Zahlentheorie verbreiteten Kongruenzrelation** geschrieben werden:\n",
        "\n",
        "> $a \\equiv b \\quad$ mod $m$ oder auch $a \\equiv_{m} b$\n",
        "\n",
        "Üblich ist auch die Schreibweise\n",
        "\n",
        "> $\n",
        "a=b \\quad(\\bmod m)\n",
        "$\n",
        "\n",
        "sowohl mit als auch ohne die Klammer, und zwar nicht nur, wo dies ohne die Klammer bei Betrachtung als Restoperator stimmen würde, etwa \n",
        "\n",
        "> $1=11 \\quad(\\bmod 10),$ \n",
        "\n",
        "sondern auch sonst:\n",
        "\n",
        "> $11=1 \\quad(\\bmod 10)$ oder gar\n",
        "\n",
        "> $11=21 \\quad(\\bmod 10)$\n",
        "\n",
        "Hintergrund ist hier, dass man dann die durch den Repräsentanten 1 eindeutig bestimmte [Äquivalenzklasse](https://de.wikipedia.org/wiki/Äquivalenzrelation#Äquivalenzklassen) der zu 1 modulo $\\mathrm{m}$ kongruenten Zahlen als ein Element des [Restklassenrings](https://de.wikipedia.org/wiki/Restklassenring) $\\mathbb{Z}_{m}$ versteht; in diesem Sinne sind die beiden Ausdrücke als verschiedene Repräsentanten derselben Äquivalenzklasse tatsächlich gleich. In der Praxis ergibt sich kein Unterschied zur Verwendung des Kongruenzsymbols."
      ]
    },
    {
      "cell_type": "markdown",
      "metadata": {
        "id": "qIO9pOUX_pe8"
      },
      "source": [
        "*Source: [Modulo Operation](https://en.m.wikipedia.org/wiki/Modulo_operation) & [Division_mit_Rest#Modulo](https://de.m.wikipedia.org/wiki/Division_mit_Rest#Modulo) & [Youtube Modulorechnung](https://youtu.be/zWcegz6rwxg)*"
      ]
    },
    {
      "cell_type": "markdown",
      "metadata": {
        "id": "NJQwHXu96ZGY"
      },
      "source": [
        "#### **Äquivalenz & Kongruenz**"
      ]
    },
    {
      "cell_type": "markdown",
      "metadata": {
        "id": "qSn4aNAJIwdg"
      },
      "source": [
        "###### **Äquivalenz**"
      ]
    },
    {
      "cell_type": "markdown",
      "metadata": {
        "id": "YdOV5rVHIuRA"
      },
      "source": [
        "In der Mathematik werden Objekte, die sich in einem bestimmten Zusammenhang gleichen, als gleichwertig bzw. äquivalent angesehen.\n",
        "\n",
        "* Ein solcher Zusammenhang lässt sich für alle Elemente einer nichtleeren Menge $A$ stets durch eine Funktion $f: A \\rightarrow B$ herstellen, indem man genau dann zwei Elemente $a, b \\in A$ als zueinander $_{n}$ äquivalent $^{\\prime \\prime}$ bezeichnet und diese Beziehung durch $a \\sim b$ symbolisiert, wenn deren Bilder gleich sind:\n",
        "\n",
        "* $\n",
        "a \\sim b: \\Longleftrightarrow f(a)=f(b)\n",
        "$\n",
        "\n",
        "Diese Beziehung bzw. Relation hat die folgenden drei Eigenschaften:\n",
        "1. Jedes Objekt $a$ ist zu sich selbst äquivalent: $a \\sim a$.\n",
        "2. Wenn $a$ äquivalent zu $b$ ist, dann ist auch $b$ äquivalent zu $a: a \\sim b \\Longrightarrow b \\sim a$.\n",
        "3. Wenn $a$ äquivalent zu $b$ und $b$ äquivalent zu $c$ ist, dann ist auch $a$ äquivalent zu $c: a \\sim b$ und $b \\sim c \\Longrightarrow a \\sim c$."
      ]
    },
    {
      "cell_type": "markdown",
      "metadata": {
        "id": "IMMQvpk2IyWA"
      },
      "source": [
        "###### **Kongruenz**"
      ]
    },
    {
      "cell_type": "markdown",
      "metadata": {
        "id": "qzWVLKMSus5V"
      },
      "source": [
        "* Kongruenz ist eine Art Erweiterung der Modulorechnung:\n",
        "  * Modulorechnung: 17 mod 3 = 2. \n",
        "  * **Kongruenz: 11 $\\equiv$ 17 mod 3 (weil bei beiden der Rest 2 ist - beide sind in der der gleichen Restklasse)**\n",
        "  * Man kann alternativ zur Restklassenermittlung auch sagen, dass zwei Zahlen kongruent sind (modulo der natürlichen Zahl n), wenn ihre Differenz (hier: h(e) - t(e) ) durch n teilbar ist. Hier: 17 - 11 = 6, ist teilbar durch 3.\n",
        "\n",
        "Die Kongruenz zwischen zwei ganzen Zahlen ist in Bezug auf einen Teiler definiert. \n",
        "\n",
        "**Der Teiler heißt in diesem Zusammenhang Modul.**\n",
        "\n",
        "> **Gegeben sei ein Modul $m \\in \\mathbb{N}$. Zwei ganze Zahlen $a$ und $b$ heißen kongruent modulo $m$, wenn die Division von $a$ und $b$ durch $m$ den gleichen Rest $r$ lässt.** \n",
        "\n",
        "Formal:\n",
        "\n",
        "> $a \\equiv b \\bmod m \\Leftrightarrow \\exists t_{a}, t_{b}, r \\in \\mathbb{Z}: a=t_{a} m+r$ und $b=t_{b} m+r$ und $0 \\leq r<m$\n",
        "\n",
        "* Die Kongruenz ist in der Zahlentheorie eine Beziehung zwischen ganzen Zahlen. Man nennt zwei ganze\n",
        "Zahlen $a$ und $b$ kongruent modulo $m$ (= eine weitere Zahl), wenn sie bei der Division durch $m$ beide\n",
        "denselben Rest haben. \n",
        "\n",
        "* Das ist genau dann der Fall, wenn sie sich um ein ganzzahliges Vielfaches von $m$\n",
        "unterscheiden. Stimmen die Reste hingegen nicht überein, so nennt man die Zahlen inkongruent modulo\n",
        "$m$. \n",
        "\n",
        "* Jede Kongruenz modulo einer ganzen Zahl ist eine Kongruenzrelation auf dem Ring der ganzen Zahlen.\n",
        "\n",
        "* [Kongruenz (Geometrie)](https://de.m.wikipedia.org/wiki/Kongruenz_(Geometrie)) bzw. [Kongruenz (Zahlentheorie)](https://de.m.wikipedia.org/wiki/Kongruenz_(Zahlentheorie))"
      ]
    },
    {
      "cell_type": "markdown",
      "metadata": {
        "id": "plqt19Z57gE_"
      },
      "source": [
        "Beispiele:\n",
        "\n",
        "* Bezogen auf das Beispiel der Zeitberechnung: **15 is congruent to 3 modulo 12**, so \"15:00\" on a 24-hour clock is displayed \"3:00\" on a 12-hour clock.\n",
        "\n",
        "* Beispielsweise ist 5 kongruent 11 modulo $3,$ da $5: 3=1$ Rest 2 und $11: 3=3$ Rest $2,$ die beiden Reste (2) sind also gleich, bzw. da $11-5=6=2 \\cdot 3$, die Differenz ist also ein\n",
        "ganzzahliges Vielfaches (2) von 3 .\n",
        "\n",
        "* Hingegen ist 5 inkongruent 11 modulo $4,$ da $5: 4=1$ Rest 1 und $11: 4=2$ Rest $3 ;$ die beiden\n",
        "Reste sind hier nicht gleich."
      ]
    },
    {
      "cell_type": "markdown",
      "metadata": {
        "id": "dI1Egv4F4F2g"
      },
      "source": [
        "**Beziehung zur Modulo-Funktion**\n",
        "\n",
        "Mit $a, b, m \\in \\mathbb{Z}, m \\neq 0,$ gilt allgemein:\n",
        "\n",
        "$\n",
        "a \\equiv b \\quad(\\bmod m) \\quad \\Leftrightarrow \\quad(a \\bmod m)=(b \\bmod m) \\quad \\Leftrightarrow \\quad(a-b) \\bmod m=0\n",
        "$"
      ]
    },
    {
      "cell_type": "markdown",
      "metadata": {
        "id": "TrdTH_kU-lS7"
      },
      "source": [
        "###### **Rechengesetze für Kongruenzen**"
      ]
    },
    {
      "cell_type": "markdown",
      "metadata": {
        "id": "YAjZK9af-o3B"
      },
      "source": [
        "* Für die Verwendung von Kongruenzen für Aussagen über Zahlen und deren Beweise ist es günstig, einige Rechenregeln für Kongruenzen zu kennen.\n",
        "\n",
        "* Kongruenzen darf man wie Gleichungen mit Rechnungen kombinieren. Dabei ist allerdings die Division nicht zulässig, man muss sich auf +, – und · beschränken.\n",
        "\n",
        "> Sei $m \\in \\mathbb{N}$ ein Modul und seien $a, b, c, d \\in \\mathbb{Z}$ $a \\equiv b \\bmod m$ und $c \\equiv d \\bmod m \\Rightarrow\\left\\{\\begin{array}{l}a+c \\equiv b+d \\bmod m \\\\ a-c \\equiv b-d \\bmod m \\\\ a \\cdot c \\equiv b \\cdot d \\bmod m\\end{array}\\right.$"
      ]
    },
    {
      "cell_type": "markdown",
      "metadata": {
        "id": "XavNTyN7Odad"
      },
      "source": [
        "Also zB in der Zeitberechnung:\n",
        "\n",
        "* 15 $\\equiv$ 3 mod 12 (Rest 3) und \n",
        "* 14 $\\equiv$ 2 mod 12 (Rest 2)\n",
        "* 15 + 14 $\\equiv$ 3+ 2 mod 12 \n",
        "* = 29 $\\equiv$ 5 mod 12 (weil jeweils Rest 5)\n",
        "* Restklassen wurden also addiert !"
      ]
    },
    {
      "cell_type": "markdown",
      "metadata": {
        "id": "i6o_W6wd_Zzw"
      },
      "source": [
        "$a \\equiv b \\bmod m$ und $c \\equiv d \\bmod m \\Rightarrow a-b=t_{1} m$ und $c-d=t_{2} m(*)$\n",
        ",\n",
        "\n",
        "**für + Addition beider Gleichungen**\n",
        "\n",
        "$\\Rightarrow a-b+c-d=\\left(t_{1}+t_{2}\\right) m \\quad$ Umordnen\n",
        "\n",
        "$\\Rightarrow a+c-(b+d)=\\left(t_{1}+t_{2}\\right) m \\quad$ Da $t_{1}+t_{2} \\in \\mathbb{Z},$ gilt nach Satz 1\n",
        "\n",
        "$\\Rightarrow a+c \\equiv b+d \\bmod m$\n",
        ",\n",
        "\n",
        "**für - Subtraktion beider Gleichungen**\n",
        "\n",
        "$\\Rightarrow a-b-(c-d)=\\left(t_{1}-t_{2}\\right) m \\quad$ Umordnen\n",
        "\n",
        "$\\Rightarrow a-c-(b-d)=\\left(t_{1}-t_{2}\\right) m \\quad$ Da $t_{1}-t_{2} \\in \\mathbb{Z},$ gilt nach $\\operatorname{Satz} 1$\n",
        "\n",
        "$\\Rightarrow a-c \\equiv b-d \\bmod m$\n",
        "\n",
        "**für  · (Multiplikation)**\n",
        "\n",
        "$a \\equiv b \\bmod m$ und $c \\equiv d \\bmod m$\n",
        "\n",
        "$\\Rightarrow a=t_{a} m+r_{1}$ und $b=t_{b} m+r_{1}$ und $c=t_{c} m+r_{2}$ und $d=t_{d} m+r_{2}$\n",
        "\n",
        "$\\Rightarrow a c=\\left(t_{a} m+r_{1}\\right)\\left(t_{c} m+r_{2}\\right)$ und $b d=\\left(t_{b} m+r_{1}\\right)\\left(t_{d} m+r_{2}\\right)$ Ausmultipl.\n",
        "\n",
        "$\\Rightarrow a c=t_{a} t_{c} m^{2}+t_{a} r_{2} m+t_{c} r_{1} m+r_{1} r_{2}$ und $b d=t_{b} t_{d} m^{2}+t_{b} r_{2} m+t_{d} r_{1} m+r_{1} r_{2}$\n",
        "\n",
        "In drei Summanden lässt sich jeweils  ausklammern. Der Teilungsrest modulo $m$ wird demzufolge allein von $r_{1} r_{2}$ bestimmt. Der ist damit für $a c$ und $b d$ gleich. Also gilt:\n",
        "$a c \\equiv b d \\bmod m$"
      ]
    },
    {
      "cell_type": "markdown",
      "metadata": {
        "id": "mZ-lb0BbAx40"
      },
      "source": [
        "Diese einfachen Rechenregeln habe eine praktische Anwendung bei der Berechnung von Potenzen. Ein einfaches Beispiel hierfür ist die Berechnung des Teilungsrestes von Zehnerpotenzen.\n",
        "\n",
        "So ist z.B. $10 \\equiv 3 \\bmod 7 .$ Folglich ist $100=10^{2} \\equiv 3^{2}=9 \\equiv 2 \\bmod 7$\n",
        "\n",
        "Für 1000 rechnen Sie dann ähnlich:\n",
        "$1000=100 \\cdot 10 \\equiv 2 \\cdot 3=6 \\bmod 7$\n",
        "\n",
        "Und weiter:\n",
        "\n",
        "$10.000=100 \\cdot 100 \\equiv 2 \\cdot 2=4 \\bmod 7$\n",
        "\n",
        "Das ist natürlich erheblich einfacher als die Division tatsächlich durchzuführen: $10.000=1428 \\cdot 7+4$"
      ]
    },
    {
      "cell_type": "markdown",
      "metadata": {
        "id": "RdO7TYxZvqWm"
      },
      "source": [
        "#### **Äquivalenzrelation & Kongruenzrelation**"
      ]
    },
    {
      "cell_type": "markdown",
      "metadata": {
        "id": "S_TZcGnO8yY6"
      },
      "source": [
        "###### **Äquivalenzrelation**"
      ]
    },
    {
      "cell_type": "markdown",
      "metadata": {
        "id": "Bs_5tDGJxHu3"
      },
      "source": [
        "Eine Äquivalenzrelation auf einer Menge $A \\neq \\emptyset$ ist eine zweistellige Relation $\\sim \\subseteq A \\times A,$ die folgende Bedingungen erfüllt:\n",
        "\n",
        "* **Reflexivität**\n",
        "$\n",
        "(a, a) \\in \\sim \\text { für alle } a \\in A\n",
        "$\n",
        "\n",
        "* **Symmetrie** $(a, b) \\in \\sim \\Longrightarrow(b, a) \\in \\sim$ für alle $a, b \\in A$\n",
        "\n",
        "* **Transitivität** $(a, b) \\in \\sim$ und $(b, c) \\in \\sim \\Longrightarrow(a, c) \\in \\sim$ für alle $a, b, c \\in A$\n",
        "\n",
        "* Wie bei zweistelligen Relationen üblich, schreibt man statt $(a, b) \\in \\sim$ auch einfacher $a \\sim b,$ dann nehtnen diese Eigenschaften die oben genannte Form an. Das geordnete Paar $(A, \\sim)$ nennt man in diesem Fall auch Setoid oder E-set (englische Bezeichnung: extensional set, auch Bishop set).\n",
        "\n",
        "Eine Äquivalenzrelation ist somit eine zweistellige Relation, die **reflexiv, symmetrisch und transitiv** ist. Eine Äquivalenzrelation teilt eine Menge restlos in disjunkte (elementfremde) Untermengen, Äquivalenzklassen genannt. Die Klassenbildung mit Hilfe des Äquivalenzbegriffes ist grundlegend für viele mathematische Begriffsbildungen."
      ]
    },
    {
      "cell_type": "markdown",
      "metadata": {
        "id": "Jk50-Umr7xw2"
      },
      "source": [
        "* In den beiden Beispielen waren viele Begriffe nur bis auf eine Homotopie gegeben. In der Tat ist es eine wichtige Frage der Kategorientheorie, welche A ̈quivalenzrelationen ”richtig” sind. So ist es z.B. fu ̈r Objekte Isomorphie, fu ̈r Funktoren ist es natu ̈rliche A ̈quivalenz und fu ̈r Kategorien ist es A ̈quivalenz.\n",
        "\n",
        "* Auf der Grundlage der Menge der natürlichen Zahlen ℕ = { 0, 1, 2, 3, 4, ... } lassen sich weitere Zahlenmengen, nämlich ℤ, ℚ, u.s.w. auf eine ganz eigentümliche Art konstruieren. Der zentrale Begriff, mit dessen Hilfe diese Konstruktionen möglich sind, ist der Begriff Äquivalenzrelation. Auch in anderen Zusammenhängen ist dieser Begriff wichtig.\n",
        "\n",
        "* Eine Relation ~ ⊂ M x M auf einer Menge M heißt Äquivalenzrelation auf M, falls ~ transitiv, symmetrisch und reflexiv ist, das heißt, falls für alle x, y, z ∈ M das Folgende gilt:\n",
        "\n",
        "* Eine Menge M, auf der eine Äqivalenzrelation definiert ist, zerfällt sozusagen von selbst in Teilmengen Mi, und zwar so, dass für je zwei Elemente x und y einer Teilmenge Mi stets x ~ y gilt. Das Umgekehrte ist ebenfalls richtig: Jede Klasseneinteilung einer Menge M induziert in natürlicher Weise eine Äquivalenzrelation auf M.\n",
        "\n",
        "Hierbei versteht man unter einer Zerlegung einer nichtleeren Menge M eine Menge $\\mathscr{M}=\\left\\{\\mathrm{M}_{1}, \\mathrm{M}_{2}, \\mathrm{M}_{3}, \\ldots\\right\\}$ von Teilmengen von M mit den zwei Eigenschaften:\n",
        "\n",
        "(I) $\\mathrm{M}_{1} \\cup \\mathrm{M}_{2} \\cup \\mathrm{M}_{3} \\cup \\ldots=\\mathrm{M}$\n",
        "\n",
        "(II) $\\mathrm{M}_{\\mathrm{i}} \\cap \\mathrm{M}_{\\mathrm{k}}=\\{\\} \\Leftrightarrow \\mathrm{M}_{\\mathrm{i}} \\neq \\mathrm{M}_{\\mathrm{k}}$\n",
        "\n",
        "Die so definierten Teilmengen von $\\mathrm{M}$ sind also paarweise disjunkt und jedes Element von M ist in genau einer dieser Teilmengen von M enthalten. Das\n",
        "bedeutet, dass jedes Element $M_{i} \\in \\mathscr{M}$ eindeutig bestimmt und repräsentiert ist durch irgendein $\\mathrm{m} \\in \\mathrm{M}_{\\mathrm{i}}$. Jede Zerlegung induziert eine Äquivalenzrelation.\n",
        "\n",
        "Sei $\\mathscr{M}$ eine Zerlegung einer nichtleeren Menge M. Dann ist die Relation\n",
        "$\\sim \\subset M \\times M,$ definiert durch\n",
        "$x \\sim y \\Leftrightarrow x, y \\in M_{i}$ für ein $M_{i} \\in \\mathscr{A}$\n",
        "eine Äquivalenzrelation auf M.\n"
      ]
    },
    {
      "cell_type": "markdown",
      "metadata": {
        "id": "HJ95pZwhJJjg"
      },
      "source": [
        "###### **Kongruenzrelation**"
      ]
    },
    {
      "cell_type": "markdown",
      "metadata": {
        "id": "5HBmPglWBqkY"
      },
      "source": [
        "**Die Kongruenzrelation ist für alle Modulo m auf der Menge $Z$ eine Äquivalenzrelation.**\n",
        "\n",
        "Die Kongruenzrelation ist letztlich deshalb eine Äquivalenzrelation, weil die grundlegende Eigenschaft „haben den gleichen Teilungsrest“ auf die Gleichheit zurückgreift, die eine Äquivalenzrelation ist. Gehen wir die drei Eigenschaften einzeln durch.\n",
        "\n",
        "1. **Reflexivität**: Jede Zahl hat zu sich selbst den gleichen Teilungsrest.\n",
        "2. **Symmetrie**: $\\quad$ Hat $a$ den gleichen Teilungsrest wie $b$, so auch $b$ wie $a$.\n",
        "3. **Transitivität**: $\\quad$ Hat $a$ den gleichen Teilungsrest wie $b$ und $b$ den gleichen Teilungsrest wie $c,$ so hat auch $a$ den gleichen Teilungsrest wie $c .$"
      ]
    },
    {
      "cell_type": "markdown",
      "metadata": {
        "id": "bz-qenX9wDRb"
      },
      "source": [
        "In der Algebra **nennt man eine Äquivalenzrelation auf einer algebraischen Struktur eine Kongruenzrelation**, wenn die fundamentalen Operationen der algebraischen Struktur mit dieser Äquivalenzrelation verträglich sind.\n",
        "\n",
        "Eine Kongruenzrelation ist eine spezielle Äquivalenzrelation. Sie hat also die folgenden Eigenschaften:\n",
        "\n",
        "1. Reflexivität\n",
        "$a \\equiv a \\quad(\\bmod m)$ für alle $a \\in \\mathbb{Z}$\n",
        "\n",
        "2. Symmetrie $a \\equiv b \\quad(\\bmod m) \\Rightarrow b \\equiv a \\quad(\\bmod m)$ für alle $a, b \\in \\mathbb{Z}$\n",
        "\n",
        "3. Transitivität\n",
        "$a \\equiv b \\quad(\\bmod m)$ und $b \\equiv c \\quad(\\bmod m) \\Rightarrow a \\equiv c \\quad(\\bmod m)$ für alle $a, b, c \\in \\mathbb{Z}$\n",
        "\n",
        "Eine Äquivalenzrelation auf einer Menge $A$ hat nicht notwendigerweise etwas mit der Struktur zu tun, die darauf definiert ist. Von besonderem Interesse sind jedoch solche Äquivalenzrelationen \n",
        "≡\n",
        "\\equiv , deren Quotientenabbildung\n",
        "\n",
        "> $\n",
        "\\mathrm{q}_{\\mathrm{z}}: A \\rightarrow A / \\equiv, a \\mapsto[a]_{\\equiv}\n",
        "$\n",
        "\n",
        "* mit der Struktur auf $A$ verträglich bzw. ein Homomorphismus ist, weil dann die von $\\mathrm{q}_{=}$ erzeugte Struktur auf der Quotientenmenge $A / \\equiv$ von der gleichen Art ist wie die von $A$. \n",
        "\n",
        "* **Eine solche Äquivalenzrelation $\\equiv$ nennt man eine Kongruenzrelation auf der strukturierten Menge $A$.**\n",
        "\n",
        "* Insbesondere sind dann auch alle zur Struktur gehörenden Funktionen mit $\\equiv$ verträglich."
      ]
    },
    {
      "cell_type": "markdown",
      "metadata": {
        "id": "R-VfS0p_plWW"
      },
      "source": [
        "*Sources: [Kongruenzrelation](https://de.m.wikipedia.org/wiki/Kongruenzrelation) & [Algebraische_Struktur#Kongruenzrelationen](https://de.m.wikipedia.org/wiki/Algebraische_Struktur#Kongruenzrelationen)*"
      ]
    },
    {
      "cell_type": "markdown",
      "metadata": {
        "id": "PO5m5Hap-num"
      },
      "source": [
        "#### **Äquivalenzklasse, Restklasse & Nebenklasse (& Normalteiler)**"
      ]
    },
    {
      "cell_type": "markdown",
      "metadata": {
        "id": "rfBIu7m6A3Sr"
      },
      "source": [
        "###### **Äquivalenzklassen und ihre Vertreter**"
      ]
    },
    {
      "cell_type": "markdown",
      "metadata": {
        "id": "icM0oukyxRcn"
      },
      "source": [
        "* The **result of the modulo operation is an equivalence class** (Äquivalenzklassen)\n",
        "\n",
        "* and any member of the class may be chosen as **representative**.\n",
        "\n",
        "* However, the **usual representative is the least positive residue**, the smallest non-negative integer that belongs to that class (i.e., the remainder of the [Euclidean division](https://en.wikipedia.org/wiki/Euclidean_division) / Division mit Rest).\n",
        "\n",
        "https://en.m.wikipedia.org/wiki/Equivalence_class\n",
        "\n",
        "https://en.wikipedia.org/wiki/Euclidean_division"
      ]
    },
    {
      "cell_type": "markdown",
      "metadata": {
        "id": "XOP0-wxfQmpT"
      },
      "source": [
        "* Ist $\\sim$ eine Äquivalenzrelation auf einer Menge ([Klasse](https://de.m.wikipedia.org/wiki/Klasse_(Mengenlehre))) $A \\neq \\emptyset,$ so nennt man die Teilmenge (bzw. Teilklasse)\n",
        "\n",
        "* $\n",
        "[a]_{\\sim}:=\\{b \\in A \\mid b \\sim a\\}\n",
        "$\n",
        "\n",
        "* aller zu $a \\in A$ äquivalenten Elemente, die $\\sim$-Äquivalenzklasse von $a$.\n",
        "Ist aus dem Kontext klar, dass Äquivalenzklassen bezüglich $\\sim$ gebildet werden, lässt man den Zusatz $\\sim$ weg:\n",
        "\n",
        "* $[a]$\n",
        "andere Schreibweisen sind\n",
        "$a / \\sim$ sowie\n",
        "$\\bar{a}$.\n",
        "\n",
        "*Exkurs Klasse: Als Klasse gilt in der Mathematik, Klassenlogik und Mengenlehre eine Zusammenfassung beliebiger Objekte, definiert durch eine logische Eigenschaft, die alle Objekte der Klasse erfüllen. Vom Klassenbegriff ist der Mengenbegriff zu unterscheiden. Nicht alle Klassen sind automatisch auch Mengen, weil Mengen zusätzliche Bedingungen erfüllen müssen. Mengen sind aber stets Klassen und werden daher auch in der Praxis in Klassenschreibweise notiert.*\n",
        "\n",
        "*Vertreter & Repräsentantensysteme in Äquivalenzklassen*\n",
        "\n",
        "* Elemente einer Äquivalenzklasse werden ihre Vertreter oder Repräsentanten genannt. \n",
        "\n",
        "* Jedes Element von $A$ ist in genau einer Äquivalenzklasse enthalten. Die Äquivalenzklassen zu je zwei Elementen $a, b \\in A$ sind entweder gleich oder disjunkt. \n",
        "\n",
        "* Ersteres genau dann, wenn die Elemente äquivalent sind:\n",
        "$\n",
        "[a]=[b] \\Longleftrightarrow a \\in[b] \\Longleftrightarrow a \\sim b \\Longleftrightarrow b \\in[a]\n",
        "$\n",
        "\n",
        "* Eine Teilmenge $S \\subseteq A$ nennt man ein (vollständiges) Vertreter- oder Repräsentantensystem von $\\sim$, wenn es für jede Äquivalenzklasse $[a]$ genau ein $s \\in S$ gibt mit $s \\in[a]$\n",
        "\n",
        "* Für jede Äquivalenzrelation $\\sim$ auf einer Menge $A$ lässt sich zu jedem Repräsentantensystem $S$ von $\\sim$ eine Funktion $f_{S}: A \\rightarrow A$ definieren, indem man $\n",
        "f_{S}(a):=s \\Longleftrightarrow a \\sim s \\quad \\text { fùr alle } a \\in A, s \\in S\n",
        "$ setzt."
      ]
    },
    {
      "cell_type": "markdown",
      "metadata": {
        "id": "FbDYiZ5067Tz"
      },
      "source": [
        "###### **Restklassen als Äquivalenzklassen in der Kongruenzrelation**"
      ]
    },
    {
      "cell_type": "markdown",
      "metadata": {
        "id": "AZUJ0WWO6_E6"
      },
      "source": [
        "* Äquivalenzklassen werden auch als [Nebenklassen](https://de.m.wikipedia.org/wiki/Gruppentheorie#Nebenklassen) bezeichnet (dieser Begriff stammt aus der Gruppentheorie).\n",
        "\n",
        "* Im allgemeinen spricht man bei Gruppen, Untergruppen, Normalteilern von Nebenklassen. \n",
        "\n",
        "* **Im Spezialfall ℤ/mℤ spricht man von Restklassen.**\n",
        "\n",
        "* Im mathematischen Teilgebiet der Zahlentheorie ist die **Restklasse** einer Zahl a modulo einer Zahl m die Menge aller Zahlen, die bei Division durch m denselben Rest lassen wie a.\n",
        "\n",
        "* Nun wird die Menge, auf der die Äquivalenzrelation definiert ist, von ihr in Klassen aufgeteilt, d.h. wir können jedes Element der Menge genau einer Klasse zuordnen. Da wir uns mit der Kongruenzrelation beschäftigen, sprechen wir im folgenden nicht nur von Klassen, sondern von Restklassen.\n",
        "\n",
        "* **Die Äquivalenzklassen der Kongruenzrelation heißen Restklassen**. Will man auch $m$ angeben, so spricht man von Restklassen $(\\bmod m)$. Eine Restklasse, die das Element $a$ enthält, wird oft mit $[a]$ bezeichnet.\n",
        "\n",
        "* **Wie jede Äquivalenzrelation definiert eine Kongruenzrelation eine Partition ihrer Trägermenge**: Die Restklassen zu zwei Elementen sind entweder gleich oder disjunkt, ersteres genau dann, wenn die Elemente kongruent sind:\n",
        "$\n",
        "[a]=[b] \\quad \\Longleftrightarrow \\quad a \\equiv b \\quad(\\bmod m) \\quad \\Longleftrightarrow \\quad a \\in[b] \\quad \\Longleftrightarrow \\quad b \\in[a]\n",
        "$\n",
        "\n",
        "* Ausgestattet mit den von $\\mathbb{Z}(+, \\cdot)$ induzierten Verknüpfungen bilden die Restklassen einen Ring, den sogenannten Restklassenring. Er wird für $m$ mit $\\mathbb{Z} / m \\mathbb{Z}$ bezeichnet."
      ]
    },
    {
      "cell_type": "markdown",
      "metadata": {
        "id": "3pfHuxpQC0Q9"
      },
      "source": [
        "Jede Menge $\\bar{a}=\\{x \\in \\mathbb{Z} \\mid x \\equiv a$ mod $m\\}$ nennt man eine **Restklasse\n",
        "modulo $m .$** Jedes Element $x \\in \\bar{a}$ heißt **Repräsentant** der Restklasse $\\bar{a}$. Die Menge aller Restklassen modulo m bezeichnet man mit $\\mathrm{R}_{\\mathrm{m}}$.\n",
        "\n",
        "**Wir zerlegen also $\\mathbb{Z}$ bei gegebenem $m \\in \\square$ so in Restklassen, dass alle Zahlen, die beim Teilen durch m denselben Rest lassen, in einer Klasse zusammengefasst werden.**\n",
        "\n",
        "Zum Beispiel wird für das Modul $\\mathrm{m}=5 \\mathbb{Z}$ in 5 Klassen zerlegt, wobei die Klasse $\\overline{0}$ alle Zahlen enthält, die durch 5 teilbar sind, die Klasse $\\overline{1}$ umfasst alle Zahlen, die beim Teilen durch 5 den Rest 1 lassen usw.:\n",
        "\n",
        "$\\overline{0}=\\{\\ldots,-15,-10,-5,0,5,10,15, \\ldots\\}$\n",
        "\n",
        "$\\overline{1}=\\{\\ldots,-14,-9,-4,1,6,11,16, \\ldots\\}$\n",
        "\n",
        "$\\overline{2}=\\{\\ldots,-13,-8,-3,2,7,12,17, \\ldots\\}$\n",
        "\n",
        "$\\overline{3}=\\{\\ldots,-12,-7,-2,3,8,13,18, \\ldots\\}$\n",
        "\n",
        "$\\overline{4}=\\{\\ldots,-11,-6,-1,4,9,14,19, \\ldots\\}$\n",
        "\n",
        "-8 und 7 wären beispielsweise bei diesem Modul Repräsentanten für die Restklasse $\\overline{2}$, da -8 $\\in \\overline{2}$ & 7 $\\in \\overline{2}$ (-8 $\\equiv$ 2 mod 5 & 7 $\\equiv$ 2 mod 5)."
      ]
    },
    {
      "cell_type": "markdown",
      "metadata": {
        "id": "Ijp72DhJEXFy"
      },
      "source": [
        "*Rechnen mit Restklassen*\n",
        "\n",
        "Mit Hilfe der Rechengesetze für Kongruenzen können wir nun überlegen, ob wir auf einfache Weise auch die Summe zweier Zahlen einer Restklasse zuordnen können. Nehmen wir mal das Beispiel:\n",
        "\n",
        "* In welcher Restklasse modulo 10 liegt die Summe von 134 und $235 ?$\n",
        "\n",
        "* Zunächst bestimmen wir die Restklassen der einzelnen Summanden:\n",
        "\n",
        "* $134 \\equiv 4 \\bmod 10$\n",
        "\n",
        "* $\n",
        "\\Rightarrow 134 \\in \\overline{4}\n",
        "$\n",
        "\n",
        "* $235 \\equiv 5 \\bmod 10$\n",
        "\n",
        "* $\n",
        "\\Rightarrow 235 \\in \\overline{5}\n",
        "$\n",
        "\n",
        "* Nun addieren wir die beiden Zahlen und bestimmen die Restklasse:\n",
        "\n",
        "* $134+235=369 \\equiv 9 \\bmod 10 \\quad \\Rightarrow 369 \\in \\overline{9}$\n",
        "\n",
        "**Nun können wir uns überlegen, ob man direkt über die Addition der Restklassen auch zu einem Ergebnis kommen könnte.** \n",
        "\n",
        "Nach den Rechengesetzen für Kongruenzen (Addition, Substraktion, Multiplikation) können wir, wenn wir einmal den zweiten Fall erneut als Beispiel nehmen, rechnen:\n",
        "\n",
        "$\n",
        "346+38 \\equiv 6+8 \\bmod 10\n",
        "$\n",
        "\n",
        "also $\\quad 346+38 \\equiv 14 \\bmod 10$.\n",
        "\n",
        "Da $14 \\equiv 4 \\bmod 10$ gilt, folgt $346+38 \\equiv 4 \\bmod 10$\n",
        "\n",
        "also $\\quad 346+38 \\in \\overline{4}=\\overline{14}$\n",
        "\n",
        "**Wir hätten also auch gleich die beiden Repräsentanten der Restklassen addieren können, um zu unserem Ergebnis zu gelangen.**"
      ]
    },
    {
      "cell_type": "markdown",
      "metadata": {
        "id": "-_xHb6JYxg9c"
      },
      "source": [
        "https://de.wikipedia.org/wiki/Restklasse"
      ]
    },
    {
      "cell_type": "markdown",
      "metadata": {
        "id": "iB4ujlODBJtW"
      },
      "source": [
        "###### **Nebenklassen (Cosets) als Äquivalenzklassen bzw. Restklassen in der Gruppentheorie**"
      ]
    },
    {
      "cell_type": "markdown",
      "metadata": {
        "id": "Z3p94zVJKrJX"
      },
      "source": [
        "**Ubersicht**"
      ]
    },
    {
      "cell_type": "markdown",
      "metadata": {
        "id": "LNYi1ED1DjJ-"
      },
      "source": [
        "* Äquivalenzklassen werden in der Gruppentheorie als [Nebenklassen (Cosets)](https://de.m.wikipedia.org/wiki/Gruppentheorie#Nebenklassen) bezeichnet\n",
        "\n",
        "* **Cosets sind alle Klassen, wo ein Rest nach der Modulorechnung ubrig bleibt (1,2,3 ..). Die Subgroup ist jene Restklasse, bei der 0 der Rest ist.**\n",
        "\n",
        "* Ein Normalteiler N < G ist eine Untergruppe mit der speziellen Eigenschaft aN=Na für alle a in G. **Dafür wird die Menge der Nebenklassen zu einer Gruppe, diese heißt Faktorgruppe oder Quotientengruppe.** Der Spezialfall ℤ/mℤ hat mit modulo-Rechnung zu tun\n",
        "\n",
        "* Cosets are there to define how many (finite) possible subgroups exist in a group\n",
        "\n",
        "* a subgroup H of a group G may be used to decompose the underlying set of G into disjoint equal-size pieces called cosets. \n",
        "\n",
        "* There are two types of cosets: left cosets and right cosets (linke und rechte Nebenklasse). Cosets (of either type) have the same number of elements (cardinality) as does H. \n",
        "\n",
        "* Furthermore, H itself is a coset, which is both a left coset and a right coset. The number of left cosets of H in G is equal to the number of right cosets of H in G. The common value is called the index of H in G and is usually denoted by [G : H].\n",
        "\n",
        "* **Cosets of a particular type of subgroup (normal subgroup) can be used as the elements of another group called a quotient group or factor group**. \n",
        "\n",
        "* Cosets also appear in other areas of mathematics such as vector spaces and error-correcting codes."
      ]
    },
    {
      "cell_type": "markdown",
      "metadata": {
        "id": "S74u6WJZKtSc"
      },
      "source": [
        "**Definition Nebenklasse**"
      ]
    },
    {
      "cell_type": "markdown",
      "metadata": {
        "id": "MjxwLmPPKDNj"
      },
      "source": [
        "Definiert man auf der Gruppe $(G, *)$ mit einer Untergruppe $(H, *)$ die Relation $\\sim$ durch\n",
        "\n",
        "$\n",
        "b \\sim a: \\Longleftrightarrow \\exists h \\in H: b=a * h\n",
        "$\n",
        "\n",
        "erhält man eine Äquivalenzrelation auf $G,$ die die Menge $G$ partitioniert. Die Äquivalenzklasse (englisch: coset) zu einem Element $a \\in G$ (d. h. die Menge aller Elemente $b$, die zu $a$ in der Relation $b \\sim a$ stehen), ist die Menge\n",
        "\n",
        "$\n",
        "\\{b \\in G \\mid b \\sim a\\}=\\{a * h \\mid h \\in H\\}\n",
        "$\n",
        "\n",
        "Für diese Menge schreibt man $a * H, a H$ oder auch kurz $\\bar{a},$ wenn klar ist, durch welchen Vorgang die Nebenklassen gebildet werden. Da diese Menge alle Elemente von $G$ enthäit, die dadurch entstehen, dass die Elemente aus $H$ links mit dem Element $a$ verknüpft werden, heißt sie (genauer) die Linksnebenklasse, Alternativbezeichnung Linksrest klasse, von $H$ nach dem Element $a$.\n",
        "\n",
        "Wenn man andererseits eine Relation $\\sim$ durch\n",
        "\n",
        "$\n",
        "b \\sim a: \\Longleftrightarrow \\exists h \\in H: b=h * a\n",
        "$\n",
        "\n",
        "definiert, dann ist dies im Allgemeinen eine andere Äquivalenzrelation und die Menge der zu a àquivalenten Elemente in $G$ jetzt\n",
        "\n",
        "$\n",
        "H a:=\\{h * a \\mid h \\in H\\}\n",
        "$\n",
        "\n",
        "die durch Rechtsverknüpfung der Elemente aus $H$ mit dem Element $a$ entsteht. Sie wird mit $H * a$ oder $H a$ bezeichnet und Rechtsnebenklasse, Alternativbezeichnung Rechtsrestklasse, von $H$ nach dem Element $a$\n",
        "genannt.\n",
        "\n",
        "Für die Menge aller Links- bzw. Rechtsnebenklassen wird die Notation\n",
        "\n",
        "$\n",
        "G / H:=\\{g H \\mid g \\in G\\}\n",
        "$\n",
        "\n",
        "bzw.\n",
        "\n",
        "$\n",
        "H \\backslash G:=\\{H g \\mid g \\in G\\}\n",
        "$\n",
        "\n",
        "verwendet.\n",
        "\n",
        "Nebenklassen werden benutzt, um den [Satz von Lagrange](https://de.m.wikipedia.org/wiki/Satz_von_Lagrange) zu beweisen, um die Begriffe [Normalteiler](https://de.m.wikipedia.org/wiki/Normalteiler) und [Faktorgruppe](https://de.m.wikipedia.org/wiki/Faktorgruppe) zu erklären und um Gruppenoperationen zu studieren."
      ]
    },
    {
      "cell_type": "markdown",
      "metadata": {
        "id": "ih_G7BulKwOf"
      },
      "source": [
        "**Beispiel**"
      ]
    },
    {
      "cell_type": "markdown",
      "metadata": {
        "id": "0UACAC0G0KXU"
      },
      "source": [
        "Dies sind alle **Nebenklassen** von $6 \\mathbb{Z},$ wie man leicht sehen kann, da sie die Gruppe $\\mathbb{Z}$ partitionieren und:\n",
        "\n",
        "$6 \\mathbb{Z}+6=6 \\mathbb{Z}+0$,\n",
        "\n",
        "$6 \\mathbb{Z}+7=6 \\mathbb{Z}+1$,\n",
        "\n",
        "$6 \\mathbb{Z}+8=6 \\mathbb{Z}+2$\n",
        "\n",
        "und so weiter. \n",
        "\n",
        "Da die Operation in $\\mathbb{Z}$ die Addition ist, nennt man die Addition der Nebenklassen auch Addition und es gilt beispielsweise $(6 \\mathbb{Z}+3)+(6 \\mathbb{Z}+4)=6 \\mathbb{Z}+7=6 \\mathbb{Z}+1 .$\n",
        "\n",
        "1. Normalteiler N ist eine Untergruppe von G (N, $\\circ$ ) $\\subseteq$ (G, $\\circ$ ) (die Verknüpfung ist die gleiche)\n",
        "\n",
        "2. gN = Ng $\\forall$ g $\\in$ G\n",
        "\n",
        "\n",
        "Beispiel:\n",
        "\n",
        "N := (5 * $Z$, +) und G := ($Z$, +)\n",
        "\n",
        "g = 2\n",
        "\n",
        "dann: \n",
        "\n",
        "**Linksnebenklasse**: 2 * N := {..., 2+0, 2+5, 2+10,...)\n",
        "\n",
        "**Rechtsnebenklasse**: N * 2 := {..., 0+2, 5+2, 10+2,..}\n",
        "\n",
        "**In einer kommutativen Gruppe sind alle Untergruppen automatisch ein Normalteiler** (wenn ich aber eine andere Gruppe als $Z$ wähle, kann es sein, dass es nicht kommutativ ist.)\n",
        "\n",
        "Beispiel ohne kommutative Gruppe: \n",
        "\n",
        "N = Alt (3) - alternierende Gruppe 3 $\\subseteq$ Sym(3) - symmetrische Gruppe = {id, (12), (13), (23), (123), (132)}"
      ]
    },
    {
      "cell_type": "markdown",
      "metadata": {
        "id": "0gNYiSdvDMBV"
      },
      "source": [
        "https://de.wikipedia.org/wiki/Gruppentheorie#Nebenklassen"
      ]
    },
    {
      "cell_type": "markdown",
      "metadata": {
        "id": "M1QF2fTdDNt_"
      },
      "source": [
        "https://en.m.wikipedia.org/wiki/Coset"
      ]
    },
    {
      "cell_type": "markdown",
      "metadata": {
        "id": "07XoxTj-MTSU"
      },
      "source": [
        "###### **Subgroups & Normal Subgroup (Normalteiler)**"
      ]
    },
    {
      "cell_type": "markdown",
      "metadata": {
        "id": "Wn2AJcfgt7dv"
      },
      "source": [
        "**Subgroups (Untergruppe, die die Null als Rest hat)**"
      ]
    },
    {
      "cell_type": "markdown",
      "metadata": {
        "id": "zyYrtWeXt_JI"
      },
      "source": [
        "* Subgroup is a subset that‘s also a group, like H <= G\n",
        "* btw: proper subset is: H < G\n",
        "* Two standard subgroups of G are 1. G and 2. Trivial Grouo = {e} with one element only, which is the identity element\n",
        "* **Cosets are there to define how many (finite) possible subgroup exist in a group**\n",
        "* **Langrange‘s theorem**: order of G is the number of elements in G, or: if H<= G, then the order of H divides the order of G = |G|\n",
        "* H <= G -> |H| divides |G|\n",
        "* **Difference between Subgroup and subset: Subgroup has the idenity element**\n",
        "\n",
        "* Beispiel: Die ganzen Zahlen $\\mathbb {Z} $ sind bezüglich der Addition eine Untergruppe der rationalen Zahlen $\\mathbb {Q} $."
      ]
    },
    {
      "cell_type": "markdown",
      "metadata": {
        "id": "j2cF3_L1F_Zj"
      },
      "source": [
        "https://de.m.wikipedia.org/wiki/Untergruppe"
      ]
    },
    {
      "cell_type": "markdown",
      "metadata": {
        "id": "x82X2gFfAejp"
      },
      "source": [
        "**Normal Subgroup - Normalteiler (invariant or self-conjugate subgroup)**"
      ]
    },
    {
      "cell_type": "markdown",
      "metadata": {
        "id": "Q_LsD4y7QcbX"
      },
      "source": [
        "* sind spezielle Untergruppen, sie heißen auch normale Untergruppen.\n",
        "\n",
        "* Ihre Bedeutung liegt vor allem darin, **dass sie genau die Kerne von Gruppenhomomorphismen sind**. \n",
        "  * [Kern](https://de.wikipedia.org/wiki/Kern_(Algebra)): Elemente, die auf Null verweisen. Anders gesagt: Ist die Lösungsmenge der homogenen linearen Gleichung f(x) = 0. Der Kern ist das Urbild des neutralen Elements e. Der Kern einer Abbildung dient in der Algebra dazu, anzugeben, wie stark die Abbildung von der Injektivität abweicht.\n",
        "\n",
        "* Diese Abbildungen zwischen Gruppen ermöglichen es, einzelne Aspekte der Struktur einer Gruppe zu isolieren, um sie an der Bildgruppe in Reinform leichter studieren zu können.\n",
        "\n",
        "* Die Bezeichnung „…teiler“ bezieht sich darauf, dass sich aus einer Gruppe G und jedem ihrer Normalteiler N eine Faktorgruppe G/N bilden lässt. Diese [Faktorgruppen](https://de.wikipedia.org/wiki/Faktorgruppe) sind homomorphe Bilder von G, und jedes homomorphe Bild von G ist zu einer solchen Faktorgruppe G/N isomorph."
      ]
    },
    {
      "cell_type": "markdown",
      "metadata": {
        "id": "IVHGjsd8UuAt"
      },
      "source": [
        "https://de.wikipedia.org/wiki/Normalteiler"
      ]
    },
    {
      "cell_type": "markdown",
      "metadata": {
        "id": "wmgUXDqwCLfN"
      },
      "source": [
        "Sei $\\mathbb{Z}$ die Gruppe der ganzen Zahlen mit der Addition als Gruppenoperation und sei $6 \\mathbb{Z}$ die Untergruppe von $\\mathbb{Z}$, die aus allen Vielfachen von 6 besteht (=Normalteiler). \n",
        "\n",
        "Die Gruppe $\\mathbb{Z}$ ist abelsch und somit ist jede Untergruppe ein **Normalteiler**. \n",
        "\n",
        "Die **Faktorgruppe** $\\mathbb{Z} / 6 \\mathbb{Z}$ besteht nun aus allen Nebenklassen (Cosets) der Untergruppe $6 \\mathbb{Z}$, diese sind:\n",
        "\n",
        "$6 \\mathbb{Z}+0=\\{\\ldots,-18,-12,-6,0,6,12,18, \\ldots\\}$\n",
        "\n",
        "$6 \\mathbb{Z}+1=\\{\\ldots,-17,-11,-5,1,7,13,19, \\ldots\\}$\n",
        "\n",
        "$6 \\mathbb{Z}+2=\\{\\ldots,-16,-10,-4,2,8,14,20, \\ldots\\}$\n",
        "\n",
        "$62+3=\\{\\ldots,-15,-9,-3,3,9,15,21, \\ldots\\}$\n",
        "\n",
        "$6 \\mathbb{Z}+4=\\{\\ldots,-14,-8,-2,4,10,16,22, \\ldots\\}$\n",
        "\n",
        "$6 \\mathbb{Z}+5=\\{\\ldots,-13,-7,-1,5,11,17,23, \\ldots\\}$"
      ]
    },
    {
      "cell_type": "markdown",
      "metadata": {
        "id": "o-MmNShpNCam"
      },
      "source": [
        "https://de.wikipedia.org/wiki/Normalteiler"
      ]
    },
    {
      "cell_type": "markdown",
      "metadata": {
        "id": "J0MkROgSMVwA"
      },
      "source": [
        "https://en.wikipedia.org/wiki/Normal_subgroup"
      ]
    },
    {
      "cell_type": "markdown",
      "metadata": {
        "id": "k4x0NaD6B7vl"
      },
      "source": [
        "Normalteiler: https://youtu.be/I5l91kkzA2s"
      ]
    },
    {
      "cell_type": "markdown",
      "metadata": {
        "id": "uE9HwaStuTI5"
      },
      "source": [
        "* Modular arithmetic applied to Group theory (https://en.m.wikipedia.org/wiki/Modular_arithmetic and https://de.m.wikipedia.org/wiki/Division_mit_Rest)\n",
        "* Integers mod 5 = divide Integers into 5 sets. \n",
        "    * Remainders are 0, 1, 2, 3, 4.\n",
        "    * If you take a number of one set and add it to any number of the second set, the sum will be in tje third set\n",
        "    * **Congruence classes are the 5 sets of remainders**\n",
        "    * If we treat the sets as if they were numbers, then we have a group with 5 elements: \n",
        "    * the integers mod 5: Z mod 5 = {0, 1, 2, 3, 4}\n",
        "    * They form a group under addition\n",
        "    * If 2 elements a and b are in the same congruence class we say: a == b (mod n), means: a is congruent to b mod n, means they have the same remainder when divided by n"
      ]
    },
    {
      "cell_type": "markdown",
      "metadata": {
        "id": "D51FCw7i-sYc"
      },
      "source": [
        "#### **Quotienten Set, Group, Space, Topology & Category**"
      ]
    },
    {
      "cell_type": "markdown",
      "metadata": {
        "id": "fHh-CSm0dyHh"
      },
      "source": [
        "* die **Menge der Restklassen (Äquivalenzklassen) heisst Quotientenmenge bzw. Faktormenge**\r\n",
        "\r\n",
        "* in der Gruppentheorie heissen Restklassen 'Nebenklassen' (Cosets) und die Menge der Nebenklassen zu einer Gruppe heißt Faktorgruppe oder Quotientengruppe\r\n",
        "\r\n",
        "* Ein Normalteiler N < G ist eine Untergruppe mit der speziellen Eigenschaft aN=Na für alle a in G. **Dafür wird die Menge der Nebenklassen zu einer Gruppe, diese heißt Faktorgruppe oder Quotientengruppe**. Der Spezialfall ℤ/mℤ hat mit modulo-Rechnung zu tun"
      ]
    },
    {
      "cell_type": "markdown",
      "metadata": {
        "id": "fs6jJ44FDeeo"
      },
      "source": [
        "###### **Quotient Set (Faktormenge)**"
      ]
    },
    {
      "cell_type": "markdown",
      "metadata": {
        "id": "gQPSGjNY0PMQ"
      },
      "source": [
        "* Die Faktor- oder Quotientenmenge einer Äquivalenzrelation $\\sim$ auf der Menge $A$ ist die Menge aller Äquivalenzklassen:\n",
        "$\n",
        "A / \\sim:=\\left\\{[a]_{\\sim} \\mid a \\in A\\right\\}\n",
        "$\n",
        "\n",
        "* Sie bildet eine Zerlegung oder Partition von $A$.\n",
        "Ist umgekehrt $\\mathcal{P}$ eine Partition von $A,$ dann ist durch\n",
        "$\n",
        "a \\sim b: \\Longleftrightarrow \\exists B \\in \\mathcal{P}: a, b \\in B\n",
        "$ eine Äquivalenzrelation gegeben.\n",
        "\n",
        "* Die Mächtigkeit (Kardinalität) $|A / \\sim|$ wird manchmal auch als der Index der Äquivalenzrelation $\\sim$ bezeichnet. Ein Spezialfall ist der Index einer Untergruppe.\n",
        "\n",
        "*Exkurs Partition: In der Mengenlehre ist eine Partition (auch Zerlegung oder Klasseneinteilung) einer Menge M eine Menge P, deren Elemente nichtleere Teilmengen von M sind, sodass jedes Element von M in genau einem Element von P enthalten ist. Anders gesagt: Eine Partition einer Menge ist eine Zerlegung dieser Menge in nichtleere paarweise disjunkte Teilmengen. Insbesondere ist jede Partition einer Menge auch eine Überdeckung der Menge.*\n",
        "\n",
        "* Quotientenabbildung\n",
        "  * Die surjektive Funktion\n",
        "$\n",
        "\\mathrm{q}_{\\sim}: A \\rightarrow A / \\sim, a \\mapsto[a]_{\\sim}\n",
        "$\n",
        "die jedem Element seine Äquivalenzklasse zuordnet, heißt kanonische Abbildung oder Quotientenabbildung.\n",
        "  * Diese Abbildung ist nur dann injektiv, wenn es sich bei der Äquivalenzrelation auf $A$ um die Identitätsrelation $\\mathrm{I}_{A}$ handelt.\n",
        "\n",
        "* Kern einer Funktion\n",
        "  * Man nennt die durch die Funktion $f: A \\rightarrow B$ gegebene Äquivalenzrelation $\\sim$ auch den Kern von $f$\n",
        "$\n",
        "\\text { ker } f:=f^{-1} \\circ f=\\{(a, b) \\in A \\times A \\mid f(a)=f(b)\\}=\\sim\n",
        "$\n",
        "  * Insbesondere ist die Äquivalenzklasse von jedem $a \\in A$ das Urbild von dessen Bild $f(a) \\in B$ :\n",
        "$\n",
        "[a]_{\\sim}=f^{-1}(\\{f(a)\\})=f^{-1}(f(\\{a\\}))=\\operatorname{ker} f(\\{a\\})\n",
        "$\n",
        "  * $f$ lässt sich dann wie folgt in eine surjektive, eine bijektive sowie eine injektive Funktion zerlegen:\n",
        "$f=\\mathrm{i}_{f} \\circ f^{\\sim} \\circ \\mathrm{q}$\n",
        "mit $f^{\\sim}: A / \\sim \\mapsto f(A),[a]_{\\sim} \\mapsto f(a),$ und der inklusionsabbildung $i_{f}: f(A) \\mapsto B, f(a) \\mapsto f(a)$\n",
        "\n",
        "* Beispiele\n",
        "  * Hilbertraum der L2-integrierbaren Funktionen\n",
        "  * Topologische Äquivalenz von Metriken"
      ]
    },
    {
      "cell_type": "markdown",
      "metadata": {
        "id": "Fum6EhpC8AOc"
      },
      "source": [
        "https://www.henked.de/begriffe/aequivalenzrelation.htm\n",
        "\n",
        "https://de.m.wikipedia.org/wiki/Äquivalenzrelation\n",
        "\n",
        "https://en.m.wikipedia.org/wiki/Equivalence_relation"
      ]
    },
    {
      "cell_type": "markdown",
      "metadata": {
        "id": "V_x0p9jQDfmd"
      },
      "source": [
        "###### **Quotientengruppe (Faktorgruppe)**"
      ]
    },
    {
      "cell_type": "markdown",
      "metadata": {
        "id": "jZpQXnClIPiS"
      },
      "source": [
        "* **Die Faktorgruppe oder Quotientengruppe ist eine Gruppe, die mittels einer Standardkonstruktion aus einer gegebenen Gruppe $G$ unter Zuhilfenahme eines Normalteilers $N \\leq G$ gebildet wird. Sie wird mit $G / N$ bezeichnet und ist die Menge der Nebenklassen (Cosets).**\n",
        "\n",
        "* Vergröberung des Raumes mittels einer Äquivalenzrelation (symmetrisch, transitiv, reflexiv)\n",
        "\n",
        "* **unterteilt Menge in Äquivalenzklassen**\n",
        "\n",
        "* überflüssige Elemente entfernen, die sonst alle zum gleichen Ergebnis führen\n",
        "\n",
        "* U (Unterraum, zB Y-Achse) $\\subseteq$ V (Vektorraum, zB X und Y Raum in $\\mathbb{R}$<sup>2</sup>). Vectoren x und y auf V heissen äquivalent (~), wenn der Vektor x - y im Unterraum $\\in$ U liegt. (zwei Vektoren sind äquivalent, wenn ihre Differenz im Unterraum liegt)\n",
        "\n",
        "* Der Faktorraum ist die Menge all dieser Äquivalenzklassen\n",
        "\n",
        "* V / U\n",
        "\n",
        "* The [quotient group or factor group](https://en.m.wikipedia.org/wiki/Quotient_group) is a mathematical group obtained by aggregating similar elements of a larger group using an equivalence relation that preserves some of the group structure (the rest of the structure is \"factored\" out). \n",
        "\n",
        "* For example, the cyclic group of addition modulo n can be obtained from the group of integers under addition by identifying elements that differ by a multiple of n and defining a group structure that operates on each such class (known as a congruence class) as a single entity."
      ]
    },
    {
      "cell_type": "markdown",
      "metadata": {
        "id": "UWVF53f64gUd"
      },
      "source": [
        "http://www.math.uni-bremen.de/~michaelh/Lehrveranstaltungen/MathInfI_WS10/Material/Nebenklassen%20und%20Quotienten%20von%20Gruppen.pdf"
      ]
    },
    {
      "cell_type": "markdown",
      "metadata": {
        "id": "EhB-eKkBRqhp"
      },
      "source": [
        "https://de.wikipedia.org/wiki/Faktorgruppe"
      ]
    },
    {
      "cell_type": "markdown",
      "metadata": {
        "id": "2Oy99nolCR2_"
      },
      "source": [
        "https://en.wikipedia.org/wiki/Quotient_group"
      ]
    },
    {
      "cell_type": "markdown",
      "metadata": {
        "id": "fx_h2UgktP2L"
      },
      "source": [
        "###### **Quotient Space (Faktorraum)**"
      ]
    },
    {
      "cell_type": "markdown",
      "metadata": {
        "id": "7hMKMg7LviNG"
      },
      "source": [
        "https://de.wikipedia.org/wiki/Faktorraum"
      ]
    },
    {
      "cell_type": "markdown",
      "metadata": {
        "id": "dXvQFHGTyC6A"
      },
      "source": [
        "https://en.m.wikipedia.org/wiki/Quotient_space_(topology)"
      ]
    },
    {
      "cell_type": "markdown",
      "metadata": {
        "id": "lozsYta2Cac5"
      },
      "source": [
        "###### **Quotient Topology (Quotiententopologie)**"
      ]
    },
    {
      "cell_type": "markdown",
      "metadata": {
        "id": "vjKxp9gO1M45"
      },
      "source": [
        "* the quotient space of a topological space under a given equivalence relation is a new topological space constructed by endowing the quotient set of the original topological space with the quotient topology, \n",
        "\n",
        "* that is, with the finest topology that makes continuous the canonical projection map (the function that maps points to their equivalence classes). \n",
        "\n",
        "* In other words, a subset of a quotient space is open if and only if its preimage under the canonical projection map is open in the original topological space."
      ]
    },
    {
      "cell_type": "markdown",
      "metadata": {
        "id": "qMFugwEDCZaw"
      },
      "source": [
        "https://de.wikipedia.org/wiki/Quotiententopologie"
      ]
    },
    {
      "cell_type": "markdown",
      "metadata": {
        "id": "S_0qHCn0Ebj1"
      },
      "source": [
        "###### **Quotient Category**"
      ]
    },
    {
      "cell_type": "markdown",
      "metadata": {
        "id": "DpDk9wL1yFGP"
      },
      "source": [
        "https://en.m.wikipedia.org/wiki/Quotient_category"
      ]
    },
    {
      "cell_type": "markdown",
      "metadata": {
        "id": "Jd7GFCNk2yq7"
      },
      "source": [
        "https://youtu.be/F_8q7leL7q4"
      ]
    },
    {
      "cell_type": "markdown",
      "metadata": {
        "id": "0cotYrRK3gNV"
      },
      "source": [
        "https://youtu.be/aO9l7zteKlE"
      ]
    },
    {
      "cell_type": "markdown",
      "metadata": {
        "id": "jC2nmEdmK7Kn"
      },
      "source": [
        "Quotientenraum: https://youtu.be/yQDS1w8NodY"
      ]
    },
    {
      "cell_type": "markdown",
      "metadata": {
        "id": "QC4HE-3TLICu"
      },
      "source": [
        "Homomorphiesatz: https://youtu.be/QA9rrDMlaHc"
      ]
    },
    {
      "cell_type": "markdown",
      "metadata": {
        "id": "BymTXKDKLRA4"
      },
      "source": [
        "Normalteiler: https://youtu.be/I5l91kkzA2s"
      ]
    },
    {
      "cell_type": "markdown",
      "metadata": {
        "id": "0HXPSHkSKLms"
      },
      "source": [
        "https://youtu.be/Pxoanj5tV40"
      ]
    },
    {
      "cell_type": "markdown",
      "metadata": {
        "id": "kXQwUTXJS_GG"
      },
      "source": [
        "#### **Master: Normalteiler (Normal Subgroup), Nebenklassen (Cosets) und Faktorgruppen (Quotient Groups)**"
      ]
    },
    {
      "cell_type": "markdown",
      "metadata": {
        "id": "0FZDaWd_Kwz1"
      },
      "source": [
        "Example: **Integers mod 5**. We can create the set of each remainder 0, 1, 2, 3, 4 when dividing by 5 (those **5 sets of remainders are called Congruence classes**):\n",
        "\n",
        "\n",
        "> r = $\\overline{0} : \\{\\ldots-10,-5,0,5,10 \\ldots\\}$ **Subgroup**\n",
        "\n",
        "> r = $\\overline{1} : \\{\\ldots-9,-4,1,6,11 \\ldots\\}$ **Coset 1+ 5 $\\mathbb{Z}$**\n",
        "\n",
        "> r = $\\overline{2} : \\{\\ldots-8,-3,2,7,12 \\ldots\\}$ **Coset 2+ 5 $\\mathbb{Z}$**\n",
        "\n",
        "> r = $\\overline{3} : \\{\\ldots-7,-2,3,8,13 \\ldots\\}$ **Coset 3+ 5 $\\mathbb{Z}$**\n",
        "\n",
        "> r = $\\overline{4} : \\{\\ldots-6,-1,4,9,14 \\ldots\\}$ **Coset 4+ 5 $\\mathbb{Z}$**\n",
        "\n",
        "* If you take a number of one set and add it to any number of the second set, the sum will be in the third set\n",
        "\n",
        "* If we treat the 5 sets of remainders (the Congruence classes) **as if they were numbers**, then we have a **group with 5 elements**: \n",
        "\n",
        "> $\\mathbb{Z} \\bmod 5=\\{\\overline{0}, \\overline{1}, \\overline{2}, \\overline{3}, \\overline{4}\\}$\n",
        "\n",
        "* They form a **group under addition**\n",
        "\n",
        "  * For example the set of the multiples of 5 act as the idenityt element = $\\overline{0}$ \n",
        "  * and each set has an inverse\n",
        "  * BTW: If 2 elements a and b are in the same congruence class we say: a ≡ b (mod n), means: a is congruent to b mod n, means they have the same remainder when divided by n"
      ]
    },
    {
      "cell_type": "markdown",
      "metadata": {
        "id": "kJ6FHLskwKZj"
      },
      "source": [
        "![alternativer Text](https://raw.githubusercontent.com/deltorobarba/repo/master/integersmod5b.png)"
      ]
    },
    {
      "cell_type": "markdown",
      "metadata": {
        "id": "tr-h8ov5VYRV"
      },
      "source": [
        "**In language of group theory (see image below):**\n",
        "\n",
        "* Integers Z under addition + has an infinite number of subgroups, but we look at the subgroup of the multiples of 5, which we'll write as 5 $\\mathbb{Z}$\n",
        "\n",
        "* **There is an infinite number of SUBGROUPS for the group Integers $\\mathbb{Z}$ under addition**: Subgroup $\\mathbb{Z}$, 2$\\mathbb{Z}$, 3$\\mathbb{Z}$, 4$\\mathbb{Z}$, 5$\\mathbb{Z}$, 6$\\mathbb{Z}$, 7$\\mathbb{Z}$, .. etc.\n",
        "\n",
        "* Now we only pick subgroup 5 $\\mathbb{Z}$ which has a remainder of 0 when divided by 5: r = $\\overline{0} : \\{\\ldots-10,-5,0,5,10 \\ldots\\}$\n",
        "\n",
        "* The number 1 (remainder of 1) **is not a subgroup** (r = $\\overline{1} : \\{\\ldots-9,-4,1,6,11 \\ldots\\}$). \n",
        "  * If you add 1 to every number in the subgroup, **you get a new set** - a set of integers with the remainder of 1 when divided by 5. \n",
        "  * We'll denote this set by 1+ 5 $\\mathbb{Z}$ = $\\overline{0} : \\{\\ldots-9,-4,1,6,11 \\ldots\\}$.\n",
        "  * This is called a **Coset (Nebenklasse), and it's not a subgroup!**. Because it's not closed under addition, has no inverse and doesn't contain the identity element.\n",
        "\n",
        "* If you continue this until remainder 4, the original group is now covered completely by one subgroup 5 $\\mathbb{Z}$ and 4 cosets.\n",
        "\n",
        "* BTW: the subgroup is also a coset: 0 + 5 $\\mathbb{Z}$ (but as said: the other cosets with remainder other than 0 are no subgroups!)"
      ]
    },
    {
      "cell_type": "markdown",
      "metadata": {
        "id": "BI5EL0fQwLuK"
      },
      "source": [
        "![alternativer Text](https://raw.githubusercontent.com/deltorobarba/repo/master/integersmod5c.png)"
      ]
    },
    {
      "cell_type": "markdown",
      "metadata": {
        "id": "fedxhBcRVUJX"
      },
      "source": [
        "**Normal Subgroup & Quotient Group**\n",
        "\n",
        "* We used the subgroup 5-Z to partition the group Z into cosets! \n",
        "* Because the cosets form a group, we call **5-Z a NORMAL SUBGROUP**. \n",
        "* And the group of cosets is called a **Quotient Group, written: $\\mathbb{Z}$ / 5$\\mathbb{Z}$** (the subgroup is used to divide the group into cosets. And when you divide one thing by another, you get a quotient).\n",
        "\n",
        "For group of $\\mathbb{Z}$:\n",
        "\n",
        "5 $\\mathbb{Z}$ (Normal Subgroup)\n",
        "\n",
        "1 + 5 $\\mathbb{Z}$ (Coset)\n",
        "\n",
        "2 + 5 $\\mathbb{Z}$ (Coset)\n",
        "\n",
        "3 + 5 $\\mathbb{Z}$ (Coset)\n",
        "\n",
        "4 + 5 $\\mathbb{Z}$ (Coset)\n",
        "\n",
        "The critical insight in this process was the observation that you can treat these cosets as elements in a new group: a coset group!\n",
        "\n",
        "**Achtung, one more thing: we started with a group $\\mathbb{Z}$, then took a subgroup 5$\\mathbb{Z}$ (the normal subgroup / Normalteiler), and used these two to create a quotient group out of the cosets. The quotient group however is NOT a subgroup of $\\mathbb{Z}$. It's an entirely different group.**"
      ]
    },
    {
      "cell_type": "markdown",
      "metadata": {
        "id": "wFjmJAZCXVeg"
      },
      "source": [
        "* Every group has at least 2 sub groups: the identity element {e} and the entire group G (these are technically normal subgroups, but aren't very interesting). If a group has no other normal subgroups then these two, than it's called a **simple group**\n",
        "* A simple group does not have any factor (quotient) groups, but they are the building blocks of other groups.\n",
        "* Normal subgroups and quotient groups are among the most useful devices in abstract algebra\n",
        "* **Normal subgroups determine what kinds of homomorphisms are possible from a group G to other groups (f : G -> H)**\n",
        "* And for finite groups you can find a chain of normal subgroups called a \"composition series\" which acts as a kind of 'prime factorization' of the group (1 ◃ N1, ◃ N2 ◃ ... ◃ Nr ◃ G )\n",
        "* Normal subgroups can also be used to study fields (Körper), i.e. in Galois theory (Field extension K / F)"
      ]
    },
    {
      "cell_type": "markdown",
      "metadata": {
        "id": "0zVOrZDXWA0R"
      },
      "source": [
        "Summary: **Die Faktorgruppe oder Quotientengruppe ist eine Gruppe, die mittels einer Standardkonstruktion aus einer gegebenen Gruppe $G$ unter Zuhilfenahme eines Normalteilers $N \\leq G$ gebildet wird. Sie wird mit $G / N$ bezeichnet und ist die Menge der Nebenklassen (Cosets).**"
      ]
    },
    {
      "cell_type": "markdown",
      "metadata": {
        "id": "FTjDaMI-MChz"
      },
      "source": [
        "Source: https://www.youtube.com/watch?v=vYKdh5oQ4Zw"
      ]
    },
    {
      "cell_type": "markdown",
      "metadata": {
        "id": "7dqzB_heZILt"
      },
      "source": [
        "Watch simple groups!: https://www.youtube.com/watch?v=jhVMBXl5jTA&t=58s"
      ]
    },
    {
      "cell_type": "markdown",
      "metadata": {
        "id": "v415undWWzPd"
      },
      "source": [
        "https://www.youtube.com/watch?v=yQDS1w8NodY"
      ]
    },
    {
      "cell_type": "markdown",
      "metadata": {
        "id": "K8h4nrV7VpvU"
      },
      "source": [
        "**Faktorgruppe nach Kernen von Homomorphismen**"
      ]
    },
    {
      "cell_type": "markdown",
      "metadata": {
        "id": "FkTJsD4CV8Xe"
      },
      "source": [
        "Seien $G$ und $H$ zwei Gruppen und $\\varphi: G \\rightarrow H$ ein [Gruppenhomomorphismus](https://de.wikipedia.org/wiki/Gruppenhomomorphismus). Dann ist der Kern von $\\varphi$ ein Normalteiler von $G$ und daher kann die Faktorgruppe $G /$ ker $\\varphi$ gebildet werden. Nach dem [Homomorphiesatz](https://de.wikipedia.org/wiki/Homomorphiesatz) für Gruppen ist diese Faktorgruppe, isomorph zum Bild von $\\varphi$, das eine Untergruppe von $H$ ist."
      ]
    },
    {
      "cell_type": "markdown",
      "metadata": {
        "id": "QUDZbOhUVsOG"
      },
      "source": [
        "https://de.wikipedia.org/wiki/Faktorgruppe"
      ]
    },
    {
      "cell_type": "markdown",
      "metadata": {
        "id": "bKJ6f-NZaM5w"
      },
      "source": [
        "https://de.wikipedia.org/wiki/Normalteiler (siehe hier: Kerne als Normalteiler)"
      ]
    },
    {
      "cell_type": "markdown",
      "metadata": {
        "id": "RtneyTDQLpG6"
      },
      "source": [
        "\n",
        "\n",
        "---\n",
        "\n"
      ]
    },
    {
      "cell_type": "markdown",
      "metadata": {
        "id": "k7wrFx7Nmvvi"
      },
      "source": [
        "#### **Homomorphiesatz (Algebra)**"
      ]
    },
    {
      "cell_type": "markdown",
      "metadata": {
        "id": "NGyJ0LodAfuq"
      },
      "source": [
        "###### **Fundamental theorem on homomorphisms**"
      ]
    },
    {
      "cell_type": "markdown",
      "metadata": {
        "id": "QHUly20xhm7H"
      },
      "source": [
        "Homomorphiesatz & Faktorgruppe (Quotient Group) nach Kernen von Homomorphismen"
      ]
    },
    {
      "cell_type": "markdown",
      "metadata": {
        "id": "35B6lF4hR7zq"
      },
      "source": [
        "Ist $f:(G, \\circ) \\rightarrow(H, \\star)$ ein Gruppenhomomorphismus, dann ist der Kern $N:=\\operatorname{ker}(f)$ ein Normalteiler von $G$ und die Faktorgruppe $G / N$ ist isomorph zum Bild $f(G)$. Ein entsprechender isomorphismus ist gegeben durch $\\tilde{f}: G / N \\rightarrow f(G) ; g N \\mapsto f(g)$. [Source](https://de.wikipedia.org/wiki/Homomorphiesatz). Anders gesagt: The image of a homomorphism is isomorphic to the quotient by the kernel. [Source](https://en.m.wikipedia.org/wiki/Kernel_(algebra))"
      ]
    },
    {
      "cell_type": "markdown",
      "metadata": {
        "id": "9rdqCbukXVeb"
      },
      "source": [
        "*Diagram of the fundamental theorem on homomorphisms where f is a homomorphism, N is a normal subgroup of G and e is the identity element of G.*\n",
        "\n",
        "![Image](https://upload.wikimedia.org/wikipedia/commons/thumb/2/25/Diagram_of_the_fundamental_theorem_on_homomorphisms.svg/440px-Diagram_of_the_fundamental_theorem_on_homomorphisms.svg.png)"
      ]
    },
    {
      "cell_type": "markdown",
      "metadata": {
        "id": "cvJh7PTbSHjV"
      },
      "source": [
        "**Let $G$ and $H$ be two groups.**\n",
        "\n",
        "**Let $\\phi: G \\rightarrow H$ be a group homomorphism** (aber nicht notwendigerweise Isomorphismus)\n",
        "\n",
        "**Let $N$ be a normal subgroup in $G$ and $\\phi$ the natural surjective homomorphism $G \\rightarrow G / N$ (where $G / N$ is a quotient group).** Diese Faktorgruppen sind homomorphe Bilder von G und jedes homomorphe Bild von G ist zu einer solchen Faktorgruppe G/N isomorph.\n",
        "\n",
        "**Then:**\n",
        "\n",
        "1. **The kernel of $\\phi$ is a normal subgroup $N$ of $G$**.\n",
        "  * Der [Kern von](https://de.m.wikipedia.org/wiki/Kern_(Algebra)) $\\varphi$ ist ein Normalteiler von $G$ und daher kann die Faktorgruppe $G /$ ker $\\varphi$ gebildet werden.\n",
        "  * If $N$ is a **subset** of ker $(f)$ then there exists a unique homomorphism $h: G / N \\rightarrow H$ such that $f=h \\phi$. In other words, the natural projection $\\phi$ is universal among homomorphisms on $G$ that map $N$ to the identity element.\n",
        "  * **Der Kern ist das Urbild des neutralen Elements e**. Elemente, die auf Null verweisen (Lösungsmenge der homogenen linearen Gleichung f(x) = 0). Die Bedeutung der Normalteiler (Normal Subgroups) liegt vor allem darin, **dass sie genau die Kerne von Gruppenhomomorphismen sind**.\n",
        "\n",
        "2. The image of $\\phi$ is a subgroup of $H,$\n",
        "\n",
        "3. **The image of $\\phi$ is isomorphic to the quotient group $G /$ ker $(\\phi)$.** \n",
        "  * Nach dem [Homomorphiesatz](https://de.m.wikipedia.org/wiki/Homomorphiesatz) für Gruppen ist diese Faktorgruppe [isomorph](https://de.m.wikipedia.org/wiki/Isomorphismus) zum [Bild von](https://de.m.wikipedia.org/wiki/Bild_(Mathematik)) $\\varphi,$ das eine Untergruppe von $H$ ist.\n",
        "\n",
        "In particular, if $\\phi$ is surjective then $H$ is isomorphic to $G / \\mathrm{ker}(\\phi)$. [Source](https://en.m.wikipedia.org/wiki/Isomorphism_theorems#First_Isomorphism_Theorem_4)"
      ]
    },
    {
      "cell_type": "markdown",
      "metadata": {
        "id": "a46tUa1NSliV"
      },
      "source": [
        "![Image](https://upload.wikimedia.org/wikipedia/commons/thumb/3/30/Fundamental_Homomorphism_Theorem.svg/210px-Fundamental_Homomorphism_Theorem.svg.png)\n",
        "\n",
        "The situation is described by this commutative diagram. By setting K = ker(f) we immediately get the [first isomorphism theorem](https://en.m.wikipedia.org/wiki/Isomorphism_theorems). We can write the statement of the fundamental theorem on homomorphisms of groups as \"**Every homomorphic image of a group is isomorphic to a quotient group**\".\n",
        "\n",
        "[Source](https://en.m.wikipedia.org/wiki/Fundamental_theorem_on_homomorphisms)"
      ]
    },
    {
      "cell_type": "markdown",
      "metadata": {
        "id": "rbfSWZ_CTu9b"
      },
      "source": [
        "![cc](https://upload.wikimedia.org/wikipedia/commons/thumb/7/7d/Group_homomorphism_ver.2.svg/500px-Group_homomorphism_ver.2.svg.png)\n",
        "\n",
        "*Image of a group homomorphism (h) from G (left) to H (right). The smaller oval inside H is the image of h. N is the kernel of h and aN is a coset of N.* [Source](https://en.m.wikipedia.org/wiki/Group_homomorphism)"
      ]
    },
    {
      "cell_type": "markdown",
      "metadata": {
        "id": "suVaLAsuRUln"
      },
      "source": [
        "Sources: [Fundamental theorem on homomorphisms](https://en.m.wikipedia.org/wiki/Fundamental_theorem_on_homomorphisms) & [Homomorphiesatz](https://de.wikipedia.org/wiki/Homomorphiesatz) & [Quotient (universal algebra)](https://en.m.wikipedia.org/wiki/Quotient_(universal_algebra)) & [Exact sequence](https://en.m.wikipedia.org/wiki/Exact_sequence) & [Isomorphism theorems](https://en.m.wikipedia.org/wiki/Isomorphism_theorems#First_Isomorphism_Theorem_4)"
      ]
    },
    {
      "cell_type": "markdown",
      "metadata": {
        "id": "9HUhPqyUe_uy"
      },
      "source": [
        "\n",
        "\n",
        "---\n",
        "\n"
      ]
    },
    {
      "cell_type": "markdown",
      "metadata": {
        "id": "nNqB_bW7VM8r"
      },
      "source": [
        "https://en.m.wikipedia.org/wiki/Kernel_(algebra)"
      ]
    },
    {
      "cell_type": "markdown",
      "metadata": {
        "id": "YiHFSmK_VIP8"
      },
      "source": [
        "https://en.m.wikipedia.org/wiki/Kernel_(linear_algebra)"
      ]
    },
    {
      "cell_type": "markdown",
      "metadata": {
        "id": "v9pp3jpbVKF9"
      },
      "source": [
        "https://en.m.wikipedia.org/wiki/Kernel_(category_theory)"
      ]
    },
    {
      "cell_type": "markdown",
      "metadata": {
        "id": "ywZDsPJIVO4A"
      },
      "source": [
        "https://en.m.wikipedia.org/wiki/Group_homomorphism"
      ]
    },
    {
      "cell_type": "markdown",
      "metadata": {
        "id": "fPXQuf7cheBC"
      },
      "source": [
        "###### **Kernel & Image of a Function**"
      ]
    },
    {
      "cell_type": "markdown",
      "metadata": {
        "id": "qviTkXXmSu5-"
      },
      "source": [
        "![ccc](https://upload.wikimedia.org/wikipedia/commons/thumb/6/64/Codomain2.SVG/320px-Codomain2.SVG.png)"
      ]
    },
    {
      "cell_type": "markdown",
      "metadata": {
        "id": "es-yj6rXSyq8"
      },
      "source": [
        "*f is a function from domain X to codomain Y. The yellow oval inside Y is the image of f.* \n",
        "\n",
        "The image of a function is the set of all output values it may produce. ([Source](https://en.m.wikipedia.org/wiki/Image_(mathematics)))"
      ]
    },
    {
      "cell_type": "markdown",
      "metadata": {
        "id": "vS2RznRQGeCU"
      },
      "source": [
        "![ccc](https://upload.wikimedia.org/wikipedia/commons/thumb/4/4c/KerIm_2015Joz_L2.png/640px-KerIm_2015Joz_L2.png)"
      ]
    },
    {
      "cell_type": "markdown",
      "metadata": {
        "id": "zI-JGTHpGima"
      },
      "source": [
        "*Kernel and image of a map L ([Source](https://en.m.wikipedia.org/wiki/Kernel_(linear_algebra)))*"
      ]
    },
    {
      "cell_type": "markdown",
      "metadata": {
        "id": "rbYzNcTJGmIH"
      },
      "source": [
        "* The kernel of L is a linear subspace of the domain V.\n",
        "\n",
        "* Exkurs: the image of a function is the set of all output values it may produce.\n",
        "\n",
        "* Exkurs: the kernel of a homomorphism (function that preserves the structure) is generally the inverse image of 0 (except for groups whose operation is denoted multiplicatively, where the kernel is the inverse image of 1). kern -> identity! (0 unter Addition, 1 unter Multiplikation)\n",
        "\n",
        "* In the linear map L : V → W, two elements of V have the same image in W if and only if their difference lies in the kernel of L:\n",
        "\n",
        "> L ( v 1 ) = L ( v 2 ) ⇔ L ( v 1 − v 2 ) = 0\n",
        "\n",
        "* From this, it follows that the image of L is isomorphic to the quotient of V by the kernel:\n",
        "\n",
        "> im ⁡ ( L ) ≅ V / ker ⁡ ( L ) \n",
        "\n",
        "* Der Kern von L ein Normalteiler von V und daher kann die Faktorgruppe V/ ker(L) gebildet werden.\n",
        "\n",
        "* Nach dem Homomorphiesatz für Gruppen ist diese Faktorgruppe isomorph zum Bild von  L,  das eine Untergruppe von  W  ist."
      ]
    },
    {
      "cell_type": "markdown",
      "metadata": {
        "id": "i-Hh2MCGHSZr"
      },
      "source": [
        "*When V is an inner product space, the quotient V / ker(L) can be identified with the orthogonal complement in V of ker(L). This is the generalization to linear operators of the row space, or coimage, of a matrix.*"
      ]
    },
    {
      "cell_type": "markdown",
      "metadata": {
        "id": "uxUqAZjXXTtt"
      },
      "source": [
        "Als Bild (img) des Gruppenhomomorphismus $f: G \\rightarrow H$ bezeichnet man die Bildmenge von $G$ unter $f:$\n",
        "\n",
        "> $\n",
        "f(G)=\\operatorname{Bild}(f)=\\operatorname{im}(f):=\\{f(u) \\mid u \\in G\\}\n",
        "$\n",
        "\n",
        "**Der Kern von $f$ ist das Urbild des neutralen Elements $e_{H}:$**\n",
        "\n",
        "> $\n",
        "f^{-1}\\left(e_{H}\\right)=\\operatorname{Kern}(f)=\\operatorname{ker}(f):=\\left\\{u \\in G \\mid f(u)=e_{H}\\right\\}\n",
        "$\n",
        "\n",
        "Genau dann, wenn $\\operatorname{Kern}(f)=\\left\\{e_{G}\\right\\}$ gilt (der Kern von $f$ also nur das neutrale Element von $G$ enthält, das immer im Kern liegt), ist $f$ injektiv. Ein injektiver Gruppenhomomorphismus wird auch GruppenMonomorphismus genannt.\n",
        "\n",
        "**Der Kern von $f$ ist stets ein Normalteiler von $G$ und das Bild von $f$ ist eine Untergruppe von $H$. Nach dem Homomorphiesatz ist die Faktorgruppe $G / \\operatorname{Kern}(f)$ isomorph zu Bild $(f)$.**"
      ]
    },
    {
      "cell_type": "markdown",
      "metadata": {
        "id": "5ge-vdc7XW3E"
      },
      "source": [
        "https://de.m.wikipedia.org/wiki/Gruppenhomomorphismus#Bild_und_Kern"
      ]
    },
    {
      "cell_type": "markdown",
      "metadata": {
        "id": "AyQ5Nu-KajRC"
      },
      "source": [
        "###### **Exact Short Sequences**"
      ]
    },
    {
      "cell_type": "markdown",
      "metadata": {
        "id": "gA046uzEavah"
      },
      "source": [
        "Img (g) = Ker (f)"
      ]
    },
    {
      "cell_type": "markdown",
      "metadata": {
        "id": "OKIhgJWRan1c"
      },
      "source": [
        "https://youtu.be/rXEiJhBHJsU"
      ]
    },
    {
      "cell_type": "markdown",
      "metadata": {
        "id": "LH1j8Uf6bSsb"
      },
      "source": [
        "https://youtu.be/AZnJFyDOq3E"
      ]
    },
    {
      "cell_type": "markdown",
      "metadata": {
        "id": "smn_5J7gbVg7"
      },
      "source": [
        "https://youtu.be/kCPYALlpECk"
      ]
    },
    {
      "cell_type": "markdown",
      "metadata": {
        "id": "WOZ2IYx2MNnz"
      },
      "source": [
        "https://youtu.be/QA9rrDMlaHc"
      ]
    },
    {
      "cell_type": "markdown",
      "metadata": {
        "id": "rpKUQwO0QTCn"
      },
      "source": [
        "* Wenn zwei Elemente a und b auf dasselbe Elemente auf der rechten Seite geschickt werden, dann unterscheiden sie sich um ein Kernelement (=0) voneinander. \n",
        "* Dh. dann ist b-a ein Element, das auf Null geschickt wird.\n",
        "* Wenn ich Modulo des Kerns rechne, dann heisst das ich tue so, als gibt es diese Differenz nicht.\n",
        "* Rein rechnerisch bedeutet das a = b. Sie sind als identisch (kongruent).\n",
        "* Modulo n: die Differenz zweier Elemente ist teilbar durch n. Die beiden Elemente sind dann kongruent (identisch).\n",
        "* V modulo Kern alpha ist isomorph (identisch) zu Bild alpha (=bijektiv und homomorph).\n",
        "\n",
        "Modulo: rest berechnen (Kern bzw. Cycle aus Image ist entweder Null oder im Falle eines Lochs nicht Null, und damit ein Rest!)"
      ]
    },
    {
      "cell_type": "markdown",
      "metadata": {
        "id": "_7HUYmAwwThg"
      },
      "source": [
        "https://de.m.wikipedia.org/wiki/Homomorphiesatz"
      ]
    }
  ]
}