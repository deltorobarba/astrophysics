{
  "nbformat": 4,
  "nbformat_minor": 0,
  "metadata": {
    "colab": {
      "name": "taylor.ipynb",
      "provenance": [],
      "authorship_tag": "ABX9TyNf72JYbRr+VeLJR8P7eMqs",
      "include_colab_link": true
    },
    "kernelspec": {
      "name": "python3",
      "display_name": "Python 3"
    }
  },
  "cells": [
    {
      "cell_type": "markdown",
      "metadata": {
        "id": "view-in-github",
        "colab_type": "text"
      },
      "source": [
        "<a href=\"https://colab.research.google.com/github/deltorobarba/machinelearning/blob/master/taylor.ipynb\" target=\"_parent\"><img src=\"https://colab.research.google.com/assets/colab-badge.svg\" alt=\"Open In Colab\"/></a>"
      ]
    },
    {
      "cell_type": "markdown",
      "metadata": {
        "id": "YWRcT954gnhQ",
        "colab_type": "text"
      },
      "source": [
        "# **Taylor Series**"
      ]
    },
    {
      "cell_type": "markdown",
      "metadata": {
        "id": "b19DLAG2jDnY",
        "colab_type": "text"
      },
      "source": [
        "take non-polynomial function (e^x) & find näherungsweise Polynom. Ableitungen Polynome = Ableitungen der Funktion. Ziel: vereinfachen das rechnen, derivate & integral."
      ]
    },
    {
      "cell_type": "markdown",
      "metadata": {
        "id": "Tx87L-GOhWb-",
        "colab_type": "text"
      },
      "source": [
        "## **Code Taylor Series**"
      ]
    },
    {
      "cell_type": "markdown",
      "metadata": {
        "id": "Segj_vpehbe-",
        "colab_type": "text"
      },
      "source": [
        "*The following code examples are taken from ['Python for Undergraduate Engineers'](https://pythonforundergradengineers.com/creating-taylor-series-functions-with-python.html)*"
      ]
    },
    {
      "cell_type": "markdown",
      "metadata": {
        "id": "KynUOJM5g31R",
        "colab_type": "text"
      },
      "source": [
        "**Code the Taylor Series by writing out each term individually**\n",
        "\n",
        "We can combine these terms in a line of Python code to estimate e<sup>2</sup>\n",
        ". The code below calculates the sum of the first five terms of the Taylor Series expansion of e<sup>x</sup>\n",
        ", where x=2."
      ]
    },
    {
      "cell_type": "code",
      "metadata": {
        "id": "JOFDWH4Og0J9",
        "colab_type": "code",
        "colab": {
          "base_uri": "https://localhost:8080/",
          "height": 35
        },
        "outputId": "df5d3e1b-2673-4f41-94cc-1d0388ec3963"
      },
      "source": [
        "import math\n",
        "\n",
        "x = 2\n",
        "e_to_2 = x**0/math.factorial(0) + x**1/math.factorial(1) + x**2/math.factorial(2) + x**3/math.factorial(3) + x**4/math.factorial(4)\n",
        "print(e_to_2)"
      ],
      "execution_count": 1,
      "outputs": [
        {
          "output_type": "stream",
          "text": [
            "7.0\n"
          ],
          "name": "stdout"
        }
      ]
    },
    {
      "cell_type": "markdown",
      "metadata": {
        "id": "BIcs2jzFhuoT",
        "colab_type": "text"
      },
      "source": [
        "Our Taylor Series approximation of e<sup>2</sup>\n",
        " was calculated as 7.0. Let's compare our Taylor Series approximation to Python's math.exp() function. Python's math.exp() function raises e\n",
        " to any power. In our case, we want to use math.exp(2) because we want to calculate e2\n",
        "."
      ]
    },
    {
      "cell_type": "code",
      "metadata": {
        "id": "HXtQHwl9h39R",
        "colab_type": "code",
        "colab": {
          "base_uri": "https://localhost:8080/",
          "height": 35
        },
        "outputId": "6f902aaf-49c5-458e-df57-baecbe8bf28b"
      },
      "source": [
        "print(math.exp(2))"
      ],
      "execution_count": 2,
      "outputs": [
        {
          "output_type": "stream",
          "text": [
            "7.38905609893065\n"
          ],
          "name": "stdout"
        }
      ]
    },
    {
      "cell_type": "markdown",
      "metadata": {
        "id": "1GG1wfJUiCMX",
        "colab_type": "text"
      },
      "source": [
        "**Use a for loop to calculate a Taylor Series**\n",
        "\n",
        "If we want to get closer to the value of ex\n",
        ", we need to add more terms to our Taylor Series. The problem is coding each individual term is time-consuming and repetitive. Instead of coding each term individually, we can use a for loop. A for loop is a repetition structure in Python that runs a section of code a specified number of times. The syntax for coding a for loop in Python using the range() function is below:"
      ]
    },
    {
      "cell_type": "code",
      "metadata": {
        "id": "TZJ8oXViiEEk",
        "colab_type": "code",
        "colab": {}
      },
      "source": [
        "for <var> in range(<num>):\n",
        "    <code>"
      ],
      "execution_count": 0,
      "outputs": []
    },
    {
      "cell_type": "markdown",
      "metadata": {
        "id": "KFTv2daMiVEX",
        "colab_type": "text"
      },
      "source": [
        "Where 'var' is any valid Python variable name and 'num' is an integer to determines how many times the 'code' in the loop runs.\n",
        "\n",
        "We can recreate our approximation of e<sup>2</sup>\n",
        " with 5 terms using a for loop. Note we need to set the variable e_to_2 to 0 before the loop starts. The mathematical operator += in the line e_to_2 += x**i/math.factorial(i) is equivalent to e_to_2 = e_to_2 + x**i/math.factorial(i)."
      ]
    },
    {
      "cell_type": "code",
      "metadata": {
        "id": "LTgqzziHitg2",
        "colab_type": "code",
        "colab": {
          "base_uri": "https://localhost:8080/",
          "height": 35
        },
        "outputId": "7c05cd4d-1f4d-4f29-f45a-e9d5a1f42cb4"
      },
      "source": [
        "import math\n",
        "\n",
        "x = 2\n",
        "e_to_2 = 0\n",
        "for i in range(5):\n",
        "    e_to_2 += x**i/math.factorial(i)\n",
        "    \n",
        "print(e_to_2)"
      ],
      "execution_count": 5,
      "outputs": [
        {
          "output_type": "stream",
          "text": [
            "7.0\n"
          ],
          "name": "stdout"
        }
      ]
    },
    {
      "cell_type": "markdown",
      "metadata": {
        "id": "m3E58kGFi0qC",
        "colab_type": "text"
      },
      "source": [
        "The result 7.0 is the same as the result we calculated when we wrote out each term of the Taylor Series individually.\n",
        "\n",
        "An advantage of using a for loop is that we can easily increase the number of terms. If we increase the number of times the for loop runs, we increase the number of terms in the Taylor Series expansion. Let's try 10 terms. Note how the line for i in range(10): now includes 10 passed to the range() function."
      ]
    },
    {
      "cell_type": "code",
      "metadata": {
        "id": "FDPHcutei3gm",
        "colab_type": "code",
        "colab": {
          "base_uri": "https://localhost:8080/",
          "height": 35
        },
        "outputId": "26137a89-3559-44d3-cc70-8c2f7c88cd28"
      },
      "source": [
        "import math\n",
        "\n",
        "x = 2\n",
        "e_to_2 = 0\n",
        "for i in range(10):\n",
        "    e_to_2 += x**i/math.factorial(i)\n",
        "    \n",
        "print(e_to_2)"
      ],
      "execution_count": 6,
      "outputs": [
        {
          "output_type": "stream",
          "text": [
            "7.3887125220458545\n"
          ],
          "name": "stdout"
        }
      ]
    },
    {
      "cell_type": "markdown",
      "metadata": {
        "id": "ZF_xOwWRjJ0c",
        "colab_type": "text"
      },
      "source": [
        "**Refactor the for loop into a function**\n",
        "\n",
        "Next, let's refactor the code above that contained a for loop (which calculated e2\n",
        ") into a function that can compute e\n",
        " raised to any power estimated with any number of terms in the Taylor Series. The general syntax to define a function in Python is below."
      ]
    },
    {
      "cell_type": "code",
      "metadata": {
        "id": "VHJT6PEYjLyO",
        "colab_type": "code",
        "colab": {}
      },
      "source": [
        "def <func name>(<arg 1>, <arg 2>, ...):\n",
        "    <code>\n",
        "    return <output>"
      ],
      "execution_count": 0,
      "outputs": []
    },
    {
      "cell_type": "markdown",
      "metadata": {
        "id": "p5Hv3ivFjR9-",
        "colab_type": "text"
      },
      "source": [
        "Where def is the Python keyword that defines a function, 'func name' is a valid Python variable name, and 'arg 1', 'arg 2' are the input arguments passed to the function. 'code' that runs when the function is called must be indented (the standard indentation is 4 spaces). The keyword return denotes the 'output' of the function."
      ]
    },
    {
      "cell_type": "code",
      "metadata": {
        "id": "99r8mEyqjdUq",
        "colab_type": "code",
        "colab": {}
      },
      "source": [
        "import math\n",
        "\n",
        "def func_e_to_2(n):\n",
        "    x = 2\n",
        "    e_to_2 = 0\n",
        "    for i in range(n):\n",
        "        e_to_2 += x**i/math.factorial(i)\n",
        "    \n",
        "    return e_to_2"
      ],
      "execution_count": 0,
      "outputs": []
    },
    {
      "cell_type": "markdown",
      "metadata": {
        "id": "XkAUVYWKjgJT",
        "colab_type": "text"
      },
      "source": [
        "If we call our function func_e_to_2() with the input argument 10, the result is the same as when we ran the for loop 10 times."
      ]
    },
    {
      "cell_type": "code",
      "metadata": {
        "id": "GJ6fhbLLjiTy",
        "colab_type": "code",
        "colab": {
          "base_uri": "https://localhost:8080/",
          "height": 35
        },
        "outputId": "05f591a4-498f-429e-c8ab-0863562121bd"
      },
      "source": [
        "out = func_e_to_2(10)\n",
        "print(out)"
      ],
      "execution_count": 8,
      "outputs": [
        {
          "output_type": "stream",
          "text": [
            "7.3887125220458545\n"
          ],
          "name": "stdout"
        }
      ]
    },
    {
      "cell_type": "markdown",
      "metadata": {
        "id": "4zcd_qInj_ff",
        "colab_type": "text"
      },
      "source": [
        "**Generalize Function**\n",
        "\n",
        "We can make our function more general by setting x (the number that e\n",
        "gets raised to) as an input argument. Note how now there are two input arguments in the function definition (x, n). x is the number e\n",
        " is raised to, and n is the number of terms in the Taylor Series (which is the number of times the for loop runs on the inside of the function definition)."
      ]
    },
    {
      "cell_type": "code",
      "metadata": {
        "id": "hJh-7b1KkByb",
        "colab_type": "code",
        "colab": {}
      },
      "source": [
        "import math\n",
        "\n",
        "def func_e(x, n):\n",
        "    e_approx = 0\n",
        "    for i in range(n):\n",
        "        e_approx += x**i/math.factorial(i)\n",
        "    \n",
        "    return e_approx"
      ],
      "execution_count": 0,
      "outputs": []
    },
    {
      "cell_type": "markdown",
      "metadata": {
        "id": "XlZxAHxgkHWK",
        "colab_type": "text"
      },
      "source": [
        "Let's calculate e<sup>2</sup> using 10 terms with our new func_e() function."
      ]
    },
    {
      "cell_type": "code",
      "metadata": {
        "id": "L0YQXd1HkOAN",
        "colab_type": "code",
        "colab": {
          "base_uri": "https://localhost:8080/",
          "height": 35
        },
        "outputId": "a747979a-e88f-462d-9303-db0bafc2d544"
      },
      "source": [
        "out = func_e(2,10)\n",
        "print(out)"
      ],
      "execution_count": 10,
      "outputs": [
        {
          "output_type": "stream",
          "text": [
            "7.3887125220458545\n"
          ],
          "name": "stdout"
        }
      ]
    },
    {
      "cell_type": "markdown",
      "metadata": {
        "id": "XxyeZkyckXzN",
        "colab_type": "text"
      },
      "source": [
        "An advantage to writing our Taylor Series expansion in a function is that now the Taylor Series approximation calculation is reusable and can be called in one line of code. For instance, we can estimate the value of e5\n",
        "with 10 terms, by calling our func_e() function with the input arguments (5,10)."
      ]
    },
    {
      "cell_type": "code",
      "metadata": {
        "id": "DAxOg6MKkagM",
        "colab_type": "code",
        "colab": {
          "base_uri": "https://localhost:8080/",
          "height": 35
        },
        "outputId": "9bb76e5f-0f10-4856-9baa-a2f829da444a"
      },
      "source": [
        "out = func_e(5,10)\n",
        "print(out)"
      ],
      "execution_count": 11,
      "outputs": [
        {
          "output_type": "stream",
          "text": [
            "143.68945656966488\n"
          ],
          "name": "stdout"
        }
      ]
    },
    {
      "cell_type": "markdown",
      "metadata": {
        "id": "CCocNIUGkhGa",
        "colab_type": "text"
      },
      "source": [
        "The result is 143.68945.... Let's see how close this value is to Python's exp() function when we make the same calculation e<sup>5</sup>\n",
        "."
      ]
    },
    {
      "cell_type": "code",
      "metadata": {
        "id": "bOFMNQYukeQd",
        "colab_type": "code",
        "colab": {
          "base_uri": "https://localhost:8080/",
          "height": 35
        },
        "outputId": "a505fa44-6d46-4527-920d-881f2878886f"
      },
      "source": [
        "out = math.exp(5)\n",
        "print(out)"
      ],
      "execution_count": 12,
      "outputs": [
        {
          "output_type": "stream",
          "text": [
            "148.4131591025766\n"
          ],
          "name": "stdout"
        }
      ]
    },
    {
      "cell_type": "markdown",
      "metadata": {
        "id": "u1Z8RUFHkzyF",
        "colab_type": "text"
      },
      "source": [
        "**Use a for loop to calculate the difference between the Taylor Series expansion and Python's exp() function**"
      ]
    },
    {
      "cell_type": "markdown",
      "metadata": {
        "id": "QepmDGr7k3-Q",
        "colab_type": "text"
      },
      "source": [
        "Now let's use a for loop to calculate the difference between the Taylor Series expansion as calculated by our func_e() function compared to Python's exp() function. We'll calculate the difference between the two functions when we use between 1 and 10 terms in the Taylor Series expansion.\n",
        "\n",
        "The code below uses f-strings, which is a Python syntax for inserting the value of a variable in a string. The general syntax for an f-string in Python is below."
      ]
    },
    {
      "cell_type": "code",
      "metadata": {
        "id": "8e4E-Cp-k9lN",
        "colab_type": "code",
        "colab": {}
      },
      "source": [
        "f'string statment {<var>}'"
      ],
      "execution_count": 0,
      "outputs": []
    },
    {
      "cell_type": "markdown",
      "metadata": {
        "id": "gZvnYcX2lCwZ",
        "colab_type": "text"
      },
      "source": [
        "Where f denotes the beginning of an f-string, the f-string is surrounded by quotes ' ', and the variable 'var' is enclosed in curly braces { }. The value of 'var' will be printed out without the curly braces."
      ]
    },
    {
      "cell_type": "code",
      "metadata": {
        "id": "kgr-AwWilATC",
        "colab_type": "code",
        "colab": {
          "base_uri": "https://localhost:8080/",
          "height": 217
        },
        "outputId": "b6398824-2a40-460c-9a5e-07da685e36d7"
      },
      "source": [
        "import math\n",
        "\n",
        "x = 5\n",
        "for i in range(1,11):\n",
        "    e_approx = func_e(x,i)\n",
        "    e_exp = math.exp(x)\n",
        "    e_error = abs(e_approx - e_exp)\n",
        "    print(f'{i} terms: Taylor Series approx= {e_approx}, exp calc= {e_exp}, error = {e_error}')"
      ],
      "execution_count": 13,
      "outputs": [
        {
          "output_type": "stream",
          "text": [
            "1 terms: Taylor Series approx= 1.0, exp calc= 148.4131591025766, error = 147.4131591025766\n",
            "2 terms: Taylor Series approx= 6.0, exp calc= 148.4131591025766, error = 142.4131591025766\n",
            "3 terms: Taylor Series approx= 18.5, exp calc= 148.4131591025766, error = 129.9131591025766\n",
            "4 terms: Taylor Series approx= 39.33333333333333, exp calc= 148.4131591025766, error = 109.07982576924327\n",
            "5 terms: Taylor Series approx= 65.375, exp calc= 148.4131591025766, error = 83.0381591025766\n",
            "6 terms: Taylor Series approx= 91.41666666666667, exp calc= 148.4131591025766, error = 56.99649243590993\n",
            "7 terms: Taylor Series approx= 113.11805555555556, exp calc= 148.4131591025766, error = 35.29510354702104\n",
            "8 terms: Taylor Series approx= 128.61904761904762, exp calc= 148.4131591025766, error = 19.79411148352898\n",
            "9 terms: Taylor Series approx= 138.30716765873015, exp calc= 148.4131591025766, error = 10.105991443846449\n",
            "10 terms: Taylor Series approx= 143.68945656966488, exp calc= 148.4131591025766, error = 4.723702532911716\n"
          ],
          "name": "stdout"
        }
      ]
    },
    {
      "cell_type": "markdown",
      "metadata": {
        "id": "KImorNkqlRHI",
        "colab_type": "text"
      },
      "source": [
        "Note how the error decreases as we add terms to the Taylor Series. When the Taylor Series only has 1 term, the error is 147.41.... When 10 terms are used in the Taylor Series, the error goes down to 4.7237...."
      ]
    },
    {
      "cell_type": "markdown",
      "metadata": {
        "id": "LTj_hxTklT7Z",
        "colab_type": "text"
      },
      "source": [
        "**Use a break statement to exit a for loop early**"
      ]
    },
    {
      "cell_type": "markdown",
      "metadata": {
        "id": "Oh3AbK6_lX0k",
        "colab_type": "text"
      },
      "source": [
        "How many terms would it take to produce an error of less than 1? We can use a break statement to drop out of the for loop when the error is less than 1. The code below calculates how many terms are needed in the Taylor Series, when e<sup>5</sup> is calculated, to keep the error less than 1."
      ]
    },
    {
      "cell_type": "code",
      "metadata": {
        "id": "Ig1NbJgJle5-",
        "colab_type": "code",
        "colab": {
          "base_uri": "https://localhost:8080/",
          "height": 55
        },
        "outputId": "63071a1c-d791-46c2-90e8-c6587fc9e0cb"
      },
      "source": [
        "import math\n",
        "\n",
        "x = 5\n",
        "for i in range(1,20):\n",
        "    e_approx = func_e(x,i)\n",
        "    e_exp = math.exp(x)\n",
        "    e_error = abs(e_approx - e_exp)\n",
        "    if e_error < 1:\n",
        "        break\n",
        "        \n",
        "print(f'{i} terms: Taylor Series approx= {e_approx}, exp calc= {e_exp}, error = {e_error}')"
      ],
      "execution_count": 14,
      "outputs": [
        {
          "output_type": "stream",
          "text": [
            "12 terms: Taylor Series approx= 147.60384850489015, exp calc= 148.4131591025766, error = 0.8093105976864479\n"
          ],
          "name": "stdout"
        }
      ]
    },
    {
      "cell_type": "markdown",
      "metadata": {
        "id": "M0eEUG8xliuv",
        "colab_type": "text"
      },
      "source": [
        "The output shows that it takes 12 terms in the Taylor Series to drop the error below 1."
      ]
    },
    {
      "cell_type": "markdown",
      "metadata": {
        "id": "n3QOyKV6llLn",
        "colab_type": "text"
      },
      "source": [
        "**Create a function to estimate the value of cos(x) using a Taylor Series**"
      ]
    },
    {
      "cell_type": "markdown",
      "metadata": {
        "id": "TCD71ucQlqAv",
        "colab_type": "text"
      },
      "source": [
        "Next, let's calculate the value of the cosine function using a Taylor Series. The Taylor Series expansion for cos(x)\n",
        " is below."
      ]
    },
    {
      "cell_type": "markdown",
      "metadata": {
        "id": "lfbALSfilqkI",
        "colab_type": "text"
      },
      "source": [
        "$\\cos (x) \\approx \\sum_{n=0}^{\\infty}(-1)^{n} \\frac{x^{2 n}}{(2 n) !} \\approx 1-\\frac{x^{2}}{2 !}+\\frac{x^{4}}{4 !}-\\frac{x^{6}}{6 !}+\\frac{x^{8}}{8 !}-\\frac{x^{10}}{10 !}+\\ldots$\n",
        "\n"
      ]
    },
    {
      "cell_type": "markdown",
      "metadata": {
        "id": "uFW_KCaxmHs2",
        "colab_type": "text"
      },
      "source": [
        "We can code this formula into a function that contains a for loop. Note the variable x is the value we are trying to find the cosine of, the variable n is the number of terms in the Taylor Series, and the variable i is the loop index which is also the Taylor Series term number. We are using a separate variable for the coefficient coef which is equal to (−1)<sup>i</sup>\n",
        ", the numerator num which is equal to x<sup>2i</sup>\n",
        " and the denominator denom which is equal to (2i!)\n",
        ". Breaking the Taylor Series formula into three parts can cut down on coding errors."
      ]
    },
    {
      "cell_type": "code",
      "metadata": {
        "id": "JyTZDqa0mcLP",
        "colab_type": "code",
        "colab": {}
      },
      "source": [
        "import math\n",
        "\n",
        "def func_cos(x, n):\n",
        "    cos_approx = 0\n",
        "    for i in range(n):\n",
        "        coef = (-1)**i\n",
        "        num = x**(2*i)\n",
        "        denom = math.factorial(2*i)\n",
        "        cos_approx += ( coef ) * ( (num)/(denom) )\n",
        "    \n",
        "    return cos_approx"
      ],
      "execution_count": 0,
      "outputs": []
    },
    {
      "cell_type": "markdown",
      "metadata": {
        "id": "sozWpPVamffR",
        "colab_type": "text"
      },
      "source": [
        "Let's use our func_cos() function to estimate the cosine of 45 degrees. Note that func_cos() function computes the cosine of an angle in radians. If we want to calculate the cosine of 45 degrees using our function, we first have to convert 45 degrees into radians. Luckily, Python's math module has a function called radians() that makes the angle conversion early."
      ]
    },
    {
      "cell_type": "code",
      "metadata": {
        "id": "GgR1ehFhmhe6",
        "colab_type": "code",
        "colab": {
          "base_uri": "https://localhost:8080/",
          "height": 35
        },
        "outputId": "abc06505-526c-497e-fcbf-741cb4af1fa2"
      },
      "source": [
        "angle_rad = (math.radians(45))\n",
        "out = func_cos(angle_rad,5)\n",
        "print(out)"
      ],
      "execution_count": 16,
      "outputs": [
        {
          "output_type": "stream",
          "text": [
            "0.7071068056832942\n"
          ],
          "name": "stdout"
        }
      ]
    },
    {
      "cell_type": "markdown",
      "metadata": {
        "id": "evCxeqiAmnZG",
        "colab_type": "text"
      },
      "source": [
        "Using our func_cos() function and 5 terms in the Taylor Series approximation, we estimate the cosine of 45 degrees is 0.707106805.... Let's check our func_cos() function compared to Python's cos() function from the math module."
      ]
    },
    {
      "cell_type": "code",
      "metadata": {
        "id": "rbncvdx9mpLZ",
        "colab_type": "code",
        "colab": {
          "base_uri": "https://localhost:8080/",
          "height": 35
        },
        "outputId": "397bbe47-942a-4945-8843-d0090ab32667"
      },
      "source": [
        "out = math.cos(angle_rad)\n",
        "print(out)"
      ],
      "execution_count": 17,
      "outputs": [
        {
          "output_type": "stream",
          "text": [
            "0.7071067811865476\n"
          ],
          "name": "stdout"
        }
      ]
    },
    {
      "cell_type": "markdown",
      "metadata": {
        "id": "c-FbetYfmrws",
        "colab_type": "text"
      },
      "source": [
        "Using Python's cos() function, the cosine of 45 degrees returns 0.707106781... This value is very close to the approximation calculated using our func_cos() function."
      ]
    },
    {
      "cell_type": "markdown",
      "metadata": {
        "id": "ADSK39FNmuMv",
        "colab_type": "text"
      },
      "source": [
        "**Build a plot to compare the Taylor Series approximation to Python's cos() function**"
      ]
    },
    {
      "cell_type": "markdown",
      "metadata": {
        "id": "am5nuPzOmy_y",
        "colab_type": "text"
      },
      "source": [
        "In the last part of this post, we are going to build a plot that shows how the Taylor Series approximation calculated by our func_cos() function compares to Python's cos() function.\n",
        "\n",
        "The idea is to make a plot that has one line for Python's cos() function and lines for the Taylor Series approximation based on different numbers of terms.\n",
        "\n",
        "For instance, if we use 3 terms in the Taylor Series approximation, our plot has two lines. One line for Python's cos() function and one line for our func_cos() function with three terms in the Taylor series approximation. We'll calculate the cosine using both functions for angles between −2π\n",
        "radians and 2π\n",
        " radians."
      ]
    },
    {
      "cell_type": "code",
      "metadata": {
        "id": "QHt4EcR_m32_",
        "colab_type": "code",
        "colab": {
          "base_uri": "https://localhost:8080/",
          "height": 377
        },
        "outputId": "84e63962-dac2-485b-e603-7d920559cffb"
      },
      "source": [
        "import math\n",
        "import numpy as np\n",
        "import matplotlib.pyplot as plt\n",
        "import seaborn as sns\n",
        "# if using a Jupyter notebook, include:\n",
        "%matplotlib inline\n",
        "\n",
        "sns.set(rc={'figure.figsize':(8, 6), \"lines.linewidth\": 1.0})\n",
        "\n",
        "angles = np.arange(-2*np.pi,2*np.pi,0.1)\n",
        "p_cos = np.cos(angles)\n",
        "t_cos = [func_cos(angle,3) for angle in angles]\n",
        "\n",
        "fig, ax = plt.subplots()\n",
        "ax.plot(angles,p_cos)\n",
        "ax.plot(angles,t_cos)\n",
        "ax.set_ylim([-5,5])\n",
        "ax.legend(['cos() function','Taylor Series - 3 terms'])\n",
        "\n",
        "plt.show()"
      ],
      "execution_count": 22,
      "outputs": [
        {
          "output_type": "display_data",
          "data": {
            "image/png": "[encoded data removed]",
            "text/plain": [
              "<Figure size 576x432 with 1 Axes>"
            ]
          },
          "metadata": {
            "tags": []
          }
        }
      ]
    },
    {
      "cell_type": "markdown",
      "metadata": {
        "id": "ndke4hyEnB7q",
        "colab_type": "text"
      },
      "source": [
        "We can use a for loop to see how much better adding additional terms to our Taylor Series approximation compares to Python's cos() function."
      ]
    },
    {
      "cell_type": "code",
      "metadata": {
        "id": "Dpd-dHAtnEcd",
        "colab_type": "code",
        "colab": {
          "base_uri": "https://localhost:8080/",
          "height": 381
        },
        "outputId": "7ffee9b1-5bac-4e96-c4da-a3660075e788"
      },
      "source": [
        "import math\n",
        "import numpy as np\n",
        "import matplotlib.pyplot as plt\n",
        "import seaborn as sns\n",
        "# if using a Jupyter notebook, include:\n",
        "%matplotlib inline\n",
        "\n",
        "sns.set(rc={'figure.figsize':(8, 6), \"lines.linewidth\": 1.0})\n",
        "\n",
        "angles = np.arange(-2*np.pi,2*np.pi,0.1)\n",
        "p_cos = np.cos(angles)\n",
        "\n",
        "fig, ax = plt.subplots()\n",
        "ax.plot(angles,p_cos)\n",
        "\n",
        "# add lines for between 1 and 6 terms in the Taylor Series\n",
        "for i in range(1,6):\n",
        "    t_cos = [func_cos(angle,i) for angle in angles]\n",
        "    ax.plot(angles,t_cos)\n",
        "\n",
        "ax.set_ylim([-7,4])\n",
        "\n",
        "# set up legend\n",
        "legend_lst = ['cos() function']\n",
        "for i in range(1,6):\n",
        "    legend_lst.append(f'Taylor Series - {i} terms')\n",
        "ax.legend(legend_lst, loc=3)\n",
        "\n",
        "plt.show()"
      ],
      "execution_count": 23,
      "outputs": [
        {
          "output_type": "display_data",
          "data": {
            "image/png": "[encoded data removed]",
            "text/plain": [
              "<Figure size 576x432 with 1 Axes>"
            ]
          },
          "metadata": {
            "tags": []
          }
        }
      ]
    },
    {
      "cell_type": "markdown",
      "metadata": {
        "id": "h2ntB8WRnH9z",
        "colab_type": "text"
      },
      "source": [
        "We see the Taylor Series with 5 terms (the brown line) comes closest to approximating Python's cos() function. The Taylor Series with 5 terms is a good approximation of the cosine of angles between about −π\n",
        " and π\n",
        "radians. The Taylor Series with 5 terms is a worse approximation for angles less than −π\n",
        " or greater than π\n",
        ". As the angle gets further away from zero radians, the estimate of the cosine using a Taylor Series gets worse and worse."
      ]
    }
  ]
}