{
  "nbformat": 4,
  "nbformat_minor": 0,
  "metadata": {
    "colab": {
      "name": "order.ipynb",
      "provenance": [],
      "collapsed_sections": [
        "Rh7gHNwQks0n",
        "BRoSqoTrlB3H",
        "M11uiWZt6sKJ",
        "N234_tIJ7CBJ",
        "Kf784FrZLYsu"
      ],
      "include_colab_link": true
    },
    "kernelspec": {
      "name": "python3",
      "display_name": "Python 3"
    }
  },
  "cells": [
    {
      "cell_type": "markdown",
      "metadata": {
        "id": "view-in-github",
        "colab_type": "text"
      },
      "source": [
        "<a href=\"https://colab.research.google.com/github/deltorobarba/machinelearning/blob/master/order.ipynb\" target=\"_parent\"><img src=\"https://colab.research.google.com/assets/colab-badge.svg\" alt=\"Open In Colab\"/></a>"
      ]
    },
    {
      "cell_type": "markdown",
      "metadata": {
        "id": "2Aoj2PpxvDQV"
      },
      "source": [
        "# **Ordnungstheorie**"
      ]
    },
    {
      "cell_type": "code",
      "metadata": {
        "id": "1U5_6xH7tAQq"
      },
      "source": [
        "import numpy as np\n",
        "import pandas as pd\n",
        "import seaborn as sns\n",
        "import matplotlib.pyplot as plt"
      ],
      "execution_count": null,
      "outputs": []
    },
    {
      "cell_type": "markdown",
      "metadata": {
        "id": "Rh7gHNwQks0n"
      },
      "source": [
        "##### **Ordnungsstrukturen (Relation und Ordnungsrelation)**"
      ]
    },
    {
      "cell_type": "markdown",
      "metadata": {
        "id": "zjER7DXlkvqX"
      },
      "source": [
        "Eng verwandt mit dem Begriff der relationalen Struktur ist der des [Graphen](https://de.m.wikipedia.org/wiki/Graph_(Graphentheorie)) im graphentheoretischen Sinn. Die Trägermenge wird dort als Knotenmenge bezeichnet, die Stelle der Relation nimmt die Kantenmenge ein. Graphen sind, wenn nicht anders gesagt, finit.\n",
        "\n",
        "In der Mathematik sind Ordnungsrelationen Verallgemeinerungen der „kleiner-gleich“-Beziehung. Sie erlauben es, Elemente einer Menge miteinander zu vergleichen."
      ]
    },
    {
      "cell_type": "markdown",
      "metadata": {
        "id": "SdL_BQ5us8eL"
      },
      "source": [
        "https://de.m.wikipedia.org/wiki/Mathematische_Struktur"
      ]
    },
    {
      "cell_type": "markdown",
      "metadata": {
        "id": "W-LdGQP7OTVg"
      },
      "source": [
        "https://en.m.wikipedia.org/wiki/Order_theory"
      ]
    },
    {
      "cell_type": "markdown",
      "metadata": {
        "id": "dhbPcgNTOQ7f"
      },
      "source": [
        "https://mathepedia.de/Ordnungstheorie.html"
      ]
    },
    {
      "cell_type": "markdown",
      "metadata": {
        "id": "BRoSqoTrlB3H"
      },
      "source": [
        "##### **Properties von Ordnungsrelationen**"
      ]
    },
    {
      "cell_type": "markdown",
      "metadata": {
        "id": "E_8Aplyixw01"
      },
      "source": [
        "In der Mathematik sind Ordnungsrelationen Verallgemeinerungen der „kleiner-gleich“-Beziehung. Sie erlauben es, Elemente einer Menge miteinander zu vergleichen. Eine Ordnungsrelation ist formal eine zweistellige Relation\n",
        "$R\\subseteq M\\times M$\n",
        "auf einer Menge M.\n",
        "\n",
        "A binary relation R on a set X is a subset of the product X×X. Very often instead of writing, say, (x, y)∈R we write xRy.\n",
        "A binary relation may have many properties; the ones of interest for the definition of order are listed below (I'll omit the expression \"for all x\" or \"for all y\". The properties listed are assumed to hold for all elements from X):"
      ]
    },
    {
      "cell_type": "markdown",
      "metadata": {
        "id": "bzsc7JOwlEMJ"
      },
      "source": [
        "1. **Reflexivity**: xRx, z.B. $x \\leq x$\n",
        "\n",
        "2. **Symmetry**: if xRy then yRx\n",
        "\n",
        "3. **Antisymmetry**: if xRy and yRx then x = y, zB $x \\leq y \\wedge y \\leq x \\Rightarrow x=y$\n",
        "\n",
        "4. **Asymmetry**: if xRy then not yRx\n",
        "\n",
        "5. **Transitivity**: if xRy and yRz then xRz, zB $x \\leq y \\wedge y \\leq z \\Rightarrow x \\leq z$\n",
        "\n",
        "6. **Totality (Comparability, Trichotomy)**: either xRy or yRx, zB $x \\leq y \\vee y \\leq x$\n",
        "\n",
        "7. **Density**: xRy implies existence of z such that xRz and zRy"
      ]
    },
    {
      "cell_type": "markdown",
      "metadata": {
        "id": "tvBtuc6v3TgY"
      },
      "source": [
        "Eigenschaften der Typen an Ordnungsrelationen:\n",
        "\n",
        "* **Equivalence**: Reflexivität, Transitivität, Symmetrie\n",
        "* **Quasiordnung**: Reflexivität, Transitivität\n",
        "* *Totale Quasiordnung*: Reflexivität, Transitivität, Totalität\n",
        "* **Halbordnung**: Reflexivität, Transivity, Antisymmetrie\n",
        "* **Totalordnung**: Reflexivität, Transitivität, Antisymmetrie, Totalität\n",
        "* *Strenge Totalordnung*: Transitivität, Antisymmetrie, Totalität (keine Totalordnung, da Reflexivität fehlt)"
      ]
    },
    {
      "cell_type": "markdown",
      "metadata": {
        "id": "xpjlksU0w_20"
      },
      "source": [
        "https://www.cut-the-knot.org/WhatIs/Infinity/Order.shtml"
      ]
    },
    {
      "cell_type": "markdown",
      "metadata": {
        "id": "rSvXDKVRlJVL"
      },
      "source": [
        "https://de.m.wikipedia.org/wiki/Ordnungsrelation#"
      ]
    },
    {
      "cell_type": "markdown",
      "metadata": {
        "id": "xFcBkFrZOVJt"
      },
      "source": [
        "https://de.m.wikipedia.org/wiki/Relation_(Mathematik)"
      ]
    },
    {
      "cell_type": "markdown",
      "metadata": {
        "id": "byScNHDJOiWR"
      },
      "source": [
        "https://youtu.be/u9eZh-i6hgU"
      ]
    },
    {
      "cell_type": "markdown",
      "metadata": {
        "id": "r1j37YBsueUq"
      },
      "source": [
        "Hasse Diagramme: https://en.m.wikipedia.org/wiki/Hasse_diagram"
      ]
    },
    {
      "cell_type": "markdown",
      "metadata": {
        "id": "M11uiWZt6sKJ"
      },
      "source": [
        "##### **Typen von Ordnungsrelationen**"
      ]
    },
    {
      "cell_type": "markdown",
      "metadata": {
        "id": "W3lxKIbGww7T"
      },
      "source": [
        "**Equivalence Relation**"
      ]
    },
    {
      "cell_type": "markdown",
      "metadata": {
        "id": "SjyZL1lg0U-8"
      },
      "source": [
        "* In der Mathematik werden Objekte, die sich in einem bestimmten Zusammenhang gleichen, als gleichwertig bzw. äquivalent angesehen.\n",
        "\n",
        "* Ein solcher Zusammenhang lässt sich für alle Elemente einer nichtleeren Menge $A$ stets durch eine Funktion $f: A \\rightarrow B$ herstellen, indem man genau dann zwei Elemente $a, b \\in A$ als zueinander äquivalent\" bezeichnet und diese Beziehung durch $a \\sim b$ symbolisiert, wenn deren Bilder gleich sind:\n",
        "\n",
        "$\n",
        "a \\sim b: \\Longleftrightarrow f(a)=f(b)\n",
        "$\n",
        "\n",
        "Diese Beziehung bzw. Relation hat die folgenden drei Eigenschaften:\n",
        "1. **Reflexivity**: xRx - Jedes Objekt $a$ ist zu sich selbst äquivalent: $a \\sim a$\n",
        "2. **Symmetry**: if xRy then yRx - Wenn $a$ äquivalent zu $b$ ist, dann ist auch $b$ äquivalent zu $a: a \\sim b \\Rightarrow b \\sim a$\n",
        "3. **Transitivity**: if xRy and yRz then xRz - Wenn a äquivalent zu $b$ und $b$ äquivalent zu $c$ ist, dann ist auch $a$ äquivalent zu $c: a \\sim b$ und\n",
        "$b \\sim c \\Rightarrow a \\sim c$\n",
        "\n",
        "X together with the relation ~ is called a setoid. The equivalence class of a under ~, denoted [a], is defined as [a] = \n",
        "{\n",
        "x\n",
        "∈\n",
        "X\n",
        "∣\n",
        "x\n",
        "∼\n",
        "a\n",
        "}\n",
        "\n",
        "* a setoid (X, ~) is a set (or type) X equipped with an equivalence relation ~.\n",
        "* A Setoid may also be called E-set, Bishop set, or extensional set.\n",
        "* Setoids are studied especially in proof theory and in type-theoretic foundations of mathematics."
      ]
    },
    {
      "cell_type": "markdown",
      "metadata": {
        "id": "00WB6D3s0KFm"
      },
      "source": [
        "https://en.m.wikipedia.org/wiki/Setoid"
      ]
    },
    {
      "cell_type": "markdown",
      "metadata": {
        "id": "RpNi53IM1GnX"
      },
      "source": [
        "*Relations that are equivalences*"
      ]
    },
    {
      "cell_type": "markdown",
      "metadata": {
        "id": "JsFV681M1MkP"
      },
      "source": [
        "* \"Is equal to\" on the set of numbers. For example, $\\tfrac {1}{2}$ is equal to $\\tfrac {4}{8}$\n",
        "* \"Has the same birthday as\" on the set of all people.\n",
        "* \"Is similar to\" on the set of all triangles.\n",
        "* \"Is congruent to\" on the set of all triangles."
      ]
    },
    {
      "cell_type": "markdown",
      "metadata": {
        "id": "oqjP_L-K1Aq0"
      },
      "source": [
        "*Relations that are not equivalences*"
      ]
    },
    {
      "cell_type": "markdown",
      "metadata": {
        "id": "pxGjKwRw0-Wo"
      },
      "source": [
        "* The relation \"≥\" between real numbers is reflexive and transitive, but not symmetric. For example, 7 ≥ 5 does not imply that 5 ≥ 7. It is, however, a total order.\n",
        "\n",
        "* The empty relation R (defined so that aRb is never true) on a non-empty set X is vacuously symmetric and transitive, but not reflexive. (If X is also empty then R is reflexive.)\n"
      ]
    },
    {
      "cell_type": "markdown",
      "metadata": {
        "id": "Tx4wWAw6z3hX"
      },
      "source": [
        "https://en.m.wikipedia.org/wiki/Equivalence_relation"
      ]
    },
    {
      "cell_type": "markdown",
      "metadata": {
        "id": "wU4pMuz4w1di"
      },
      "source": [
        "https://www.cut-the-knot.org/blue/equi.shtml"
      ]
    },
    {
      "cell_type": "markdown",
      "metadata": {
        "id": "610yy8I71fy9"
      },
      "source": [
        "**Quasiordnung (Preorder)**"
      ]
    },
    {
      "cell_type": "markdown",
      "metadata": {
        "id": "tp5ctAZe1kgr"
      },
      "source": [
        "* abgeschwächte Variante einer Halbordnung\n",
        "\n",
        "* Eine Quasiordnung ist eine transitive und reflexive Relation.\n",
        "\n",
        "* die Antisymmetrie muss nicht erfüllt sein (es möglich ist, dass verschiedene Elemente in beiden Richtungen vergleichbar sind. )\n",
        "\n",
        "* die totalen Quasiordnungen treten in praktischen Anwendungen beim Anordnen von Objekten in Sortierverfahren, Tabellenkalkulationsprogrammen oder Datenbanken auf."
      ]
    },
    {
      "cell_type": "markdown",
      "metadata": {
        "id": "1P4JgcD71mky"
      },
      "source": [
        "https://de.m.wikipedia.org/wiki/Quasiordnung"
      ]
    },
    {
      "cell_type": "markdown",
      "metadata": {
        "id": "dg0auX5Z4992"
      },
      "source": [
        "*Totale Quasiordnung (Präferenzordnung, total preorder)*"
      ]
    },
    {
      "cell_type": "markdown",
      "metadata": {
        "id": "kPNWEQCR5Ibi"
      },
      "source": [
        "* Eine Quasiordnung heißt total, auch Präferenzordnung, (englisch total preorder), wenn je zwei Elemente immer vergleichbar sind. Für alle \n",
        "a\n",
        ",\n",
        "b\n",
        "∈\n",
        "M\n",
        "muss also gelten:\n",
        "\n",
        "> $a \\lesssim b \\vee b \\lesssim a$ (Totalität)"
      ]
    },
    {
      "cell_type": "markdown",
      "metadata": {
        "id": "xoPxEQWw5GBx"
      },
      "source": [
        "https://de.m.wikipedia.org/wiki/Präferenzrelation"
      ]
    },
    {
      "cell_type": "markdown",
      "metadata": {
        "id": "joclIzhwkkyN"
      },
      "source": [
        "**Halbordnung (Partially Ordered Set / Poset)**"
      ]
    },
    {
      "cell_type": "markdown",
      "metadata": {
        "id": "IPA1er3TJMGv"
      },
      "source": [
        "* a partially ordered set (also poset) formalizes and generalizes the intuitive concept of an ordering, sequencing, or arrangement of the elements of a set. \n",
        "\n",
        "* A poset consists of a set together with a binary relation indicating that, for certain pairs of elements in the set, **one of the elements precedes the other in the ordering.**\n",
        "\n",
        "* The relation itself is called a \"partial order.\" \n",
        "\n",
        "* The word partial in the names \"partial order\" and \"partially ordered set\" is used as an indication that not every pair of elements needs to be comparable. That is, there may be pairs of elements for which neither element precedes the other in the poset.\n",
        "\n",
        "* **Partial orders thus generalize total orders, in which every pair is comparable.**"
      ]
    },
    {
      "cell_type": "markdown",
      "metadata": {
        "id": "M0mMnC7_kqw_"
      },
      "source": [
        "Eine Menge $M$ heißt teilweise geordnet, oder halbgeordnet wenn sie mit einer Relation $\\leq$ versehen ist, die den folgenden Eigenschaften genügt:\n",
        "\n",
        "1. $x \\leq x$ für alle $x \\in M$ (**Reflexivität**)\n",
        "\n",
        "2. Für alle $x, y \\in M$ gilt: Aus $x \\leq y$ und $y \\leq x$ folgt $x=y$ (**Antisymmetrie**)\n",
        "\n",
        "3. Für alle $x, y, z \\in M$ gilt: Aus $x \\leq y$ und $y \\leq z$ folgt $x \\leq z$ (**Transitivität**)\n",
        "\n",
        "Im Englischen heißen teilweise geordnete Mengen auch Posets von Partially ordered set. Die Bezeichnung\n",
        "\"teilweise\" wird stellenweise auch weggelassen.\n",
        "\n",
        "* Gilt für zwei Elemente $x$ und $y$ weder $x \\leq y$ noch $y \\leq x,$ so heißen die Elemente unvergleichbar.\n",
        "\n",
        "* Im allgemeinen, in einer teilweisen Ordnung **müssen zwei Elemente <u>nicht</u> vergleichbar sein**. sind je zwei Elemente vergleichbar, so heißt die Ordnung linear. $\\leq$ ist linear: $\\Longleftrightarrow \\forall x, y: x R y \\vee y R x$\n",
        "\n",
        "* Ist die Ordnung linear, so spricht man auch von einer totalen Ordnung oder einer kettengeordneten Menge (=Elemente auf einer Linie).\n",
        "\n",
        "* Eine total geordnete Teilmenge von $M$ heißt auch Kette. Aus der Linearität folgt die Reflexivität."
      ]
    },
    {
      "cell_type": "markdown",
      "metadata": {
        "id": "cB9WrIdTTmgq"
      },
      "source": [
        "Examples"
      ]
    },
    {
      "cell_type": "markdown",
      "metadata": {
        "id": "WjDT-2BOTn4l"
      },
      "source": [
        "* The real numbers ordered by the standard less-than-or-equal relation ≤ (a totally ordered set as well).\n",
        "\n",
        "* The set of subsets of a given set (its power set) ordered by inclusion (see the figure on top-right). Similarly, the set of sequences ordered by subsequence, and the set of strings ordered by substring.\n",
        "\n",
        "* The set of natural numbers equipped with the relation of divisibility.\n",
        "\n",
        "* The vertex set of a directed acyclic graph ordered by reachability.\n",
        "\n",
        "* The set of subspaces of a vector space ordered by inclusion."
      ]
    },
    {
      "cell_type": "markdown",
      "metadata": {
        "id": "YXFyjQgkMOXJ"
      },
      "source": [
        "https://en.m.wikipedia.org/wiki/Ideal_(order_theory)"
      ]
    },
    {
      "cell_type": "markdown",
      "metadata": {
        "id": "D4pwOEVPMRb2"
      },
      "source": [
        "https://en.m.wikipedia.org/wiki/Filter_(mathematics)"
      ]
    },
    {
      "cell_type": "markdown",
      "metadata": {
        "id": "TU5ytZNfMXJt"
      },
      "source": [
        "https://en.m.wikipedia.org/wiki/Upper_set"
      ]
    },
    {
      "cell_type": "markdown",
      "metadata": {
        "id": "mrzOZyooTurc"
      },
      "source": [
        "https://en.m.wikipedia.org/wiki/Partially_ordered_set"
      ]
    },
    {
      "cell_type": "markdown",
      "metadata": {
        "id": "8Z8HzMmrkzdL"
      },
      "source": [
        "https://mathepedia.de/Teilweise_geordnete_Mengen.html"
      ]
    },
    {
      "cell_type": "markdown",
      "metadata": {
        "id": "UONLerqHJn6L"
      },
      "source": [
        "**Totalordnung (Totally Ordered Set, Lineare Ordnung)**"
      ]
    },
    {
      "cell_type": "markdown",
      "metadata": {
        "id": "e9cuLQMsJuk2"
      },
      "source": [
        "A total order (or \"totally ordered set,\" or \"linearly ordered set\") is a set plus a relation on the set (called a total order) that satisfies the conditions for a partial order plus an additional condition known as the comparability condition. A relation <= is a total order on a set S (\"<= totally orders  S\") if the following properties hold.\n",
        "\n"
      ]
    },
    {
      "cell_type": "markdown",
      "metadata": {
        "id": "G4cfj8BQJ6GB"
      },
      "source": [
        "1. Reflexivity: a<=a for all a in S.\n",
        "\n",
        "2. Antisymmetry: a<=b and b<=a implies  a=b.\n",
        "\n",
        "3. Transitivity: a<=b and b<=c implies  a<=c.\n",
        "\n",
        "4. **Comparability (trichotomy law, Totality): For any a,b in S, either a<=b or b<=a** (either xRy or yRx)\n",
        "\n",
        "The first three are the axioms of a partial order, while addition of the trichotomy law defines a total order.\n",
        "\n",
        "Every finite totally ordered set is well ordered. Any two totally ordered sets with k elements (for k a nonnegative integer) are order isomorphic, and therefore have the same order type (which is also an ordinal number)."
      ]
    },
    {
      "cell_type": "markdown",
      "metadata": {
        "id": "SRNsIl11NaSm"
      },
      "source": [
        "The term chain is a synonym for a totally ordered set, in particular, the term is often used to mean a totally ordered subset of some partially ordered set, for example in Zorn's lemma"
      ]
    },
    {
      "cell_type": "markdown",
      "metadata": {
        "id": "B9N_eiFRL8eJ"
      },
      "source": [
        "Examples"
      ]
    },
    {
      "cell_type": "markdown",
      "metadata": {
        "id": "wLXKt5VUL-Nj"
      },
      "source": [
        "* The letters of the alphabet ordered by the standard dictionary order, e.g., A < B < C etc.\n",
        "\n",
        "* Any subset of a totally ordered set X is totally ordered for the restriction of the order on X.\n",
        "\n",
        "* The unique order on the empty set, ∅, is a total order.\n",
        "\n",
        "* Any set of cardinal numbers or ordinal numbers (more strongly, these are well-orders)."
      ]
    },
    {
      "cell_type": "markdown",
      "metadata": {
        "id": "zxpLRCeFJ2hA"
      },
      "source": [
        "https://en.m.wikipedia.org/wiki/Total_order"
      ]
    },
    {
      "cell_type": "markdown",
      "metadata": {
        "id": "zQvleYHXJrYR"
      },
      "source": [
        "https://mathworld.wolfram.com/TotallyOrderedSet.html"
      ]
    },
    {
      "cell_type": "markdown",
      "metadata": {
        "id": "BbDMT6HRMJjW"
      },
      "source": [
        "https://en.m.wikipedia.org/wiki/Trichotomy_(mathematics)"
      ]
    },
    {
      "cell_type": "markdown",
      "metadata": {
        "id": "UjZ8oR8aKFLE"
      },
      "source": [
        "**Well Ordered Set**"
      ]
    },
    {
      "cell_type": "markdown",
      "metadata": {
        "id": "xWeiNFO_K4fr"
      },
      "source": [
        "* A totally ordered set (A,<=) is said to be well ordered (or have a well-founded order) iff every nonempty subset of **A has a least element** (Ciesielski 1997, p. 38; Moore 1982, p. 2; Rubin 1967, p. 159; Suppes 1972, p. 75). \n",
        "\n",
        "* Every finite totally ordered set is well ordered. The set of integers Z, which has no least element, is an example of a set that is not well ordered.\n",
        "\n",
        "* An ordinal number is the order type of a well ordered set."
      ]
    },
    {
      "cell_type": "markdown",
      "metadata": {
        "id": "dlpsxAcGzxaR"
      },
      "source": [
        "https://en.m.wikipedia.org/wiki/Well-order"
      ]
    },
    {
      "cell_type": "markdown",
      "metadata": {
        "id": "0HyKBp6BKtHN"
      },
      "source": [
        "https://mathworld.wolfram.com/WellOrderedSet.html"
      ]
    },
    {
      "cell_type": "markdown",
      "metadata": {
        "id": "wUvO9RwJybJa"
      },
      "source": [
        "https://www.cut-the-knot.org/WhatIs/Infinity/Order.shtml"
      ]
    },
    {
      "cell_type": "markdown",
      "metadata": {
        "id": "4x7aQkzzlQyy"
      },
      "source": [
        "**Ordnungstopologie**"
      ]
    },
    {
      "cell_type": "markdown",
      "metadata": {
        "id": "KraoQ8RBlTL4"
      },
      "source": [
        "* an order topology is a certain topology that **can be defined on any totally ordered set**. It is a natural generalization of the topology of the real numbers to arbitrary totally ordered sets.\n",
        "\n",
        "* Auf einer total geordneten Menge kann man in natürlicher Weise eine Topologie einführen, die mit der Ordnung verträglich ist. Diese Topologie wird Ordnungstopologie genannt. Einige Begriffe aus Topologie und Metrik wie diskret, dicht und vollständig lassen sich so auf Ordnungen übertragen."
      ]
    },
    {
      "cell_type": "markdown",
      "metadata": {
        "id": "RnsXkjSXlVDf"
      },
      "source": [
        "https://de.m.wikipedia.org/wiki/Ordnungstopologie"
      ]
    },
    {
      "cell_type": "markdown",
      "metadata": {
        "id": "N234_tIJ7CBJ"
      },
      "source": [
        "##### **Components of Posets**"
      ]
    },
    {
      "cell_type": "markdown",
      "metadata": {
        "id": "YrI9d8CV2YfV"
      },
      "source": [
        "**Praktische Prüffaktoren**"
      ]
    },
    {
      "cell_type": "markdown",
      "metadata": {
        "id": "Ni_GiBVj9_nW"
      },
      "source": [
        "* Sind Elemente vergleichbar? (falls nicht, kann es möglicherweise keine greatest or least elements geben). Achtung: es kann dann aber trotzdem ein oder mehrere maximale (bzw. minimale) Elemente geben, weil bei diesen nicht verlangt wird vergleichbar mit dem ganzen Rest aller Elemente zu sein (zB 'Verästelungen' im Hesse-Diagramm)\n",
        "\n",
        "* Sind Elemente infinite? (falls ja, dann gibt es kein maximales oder minimales element)\n",
        "\n",
        "* In welchem Zahlenbereich befinden sich Grundmenge, Subset und die definierten Grenzen? - Sind Grundmenge und Subset-Menge zB nur $\\in \\mathbb {Q}$, aber alle Elemente des Subset sind definiert als kleiner oder gleich $\\sqrt{2}$, was eine irrationale Zahl ist, dann gibt es kein Supremum und kein greatest Element.\n",
        "\n",
        "* Infimum und Supremum können auch ausserhalb der definierten Menge liegen (aber müssen nicht) - zB positive real numbers ℝ but without the zero. Then there is no minimal element, but an infimum (the zero), as the infimum can lay outside the subset, but not the mimimal or least element"
      ]
    },
    {
      "cell_type": "markdown",
      "metadata": {
        "id": "Jbq9LXccWAwS"
      },
      "source": [
        "**Maximal and minimal elements**"
      ]
    },
    {
      "cell_type": "markdown",
      "metadata": {
        "id": "7L8MPiXy_g9f"
      },
      "source": [
        "* a maximal element of a subset S of some partially ordered set (poset) is an element of S that is not smaller than any other element in S (An element g in a poset P is a maximal element if there is no element a in P such that a > g.)\n",
        "\n",
        "* A minimal element of a subset S of some partially ordered set is defined dually as an element of S that is not greater than any other element in S.\n",
        "\n",
        "* **The notions of maximal and minimal elements are weaker than those of greatest element and least element** which are also known, respectively, as maximum and minimum.\n",
        "\n",
        "* maxima and minima must be members of the subset that is under consideration\n",
        "\n",
        "* A set can have several maximal (minimal) elements (but only one greatest / least element)\n",
        "\n",
        "* The greatest element has to be comparable to all of the rest of the elements, but a maximal does not.\n",
        "\n",
        "* In a <u>**totally ordered set**</u> the **maximal element and the greatest element coincide**; and it is also called maximum"
      ]
    },
    {
      "cell_type": "markdown",
      "metadata": {
        "id": "Hg4LQguZWC5_"
      },
      "source": [
        "https://en.m.wikipedia.org/wiki/Maximal_and_minimal_elements"
      ]
    },
    {
      "cell_type": "markdown",
      "metadata": {
        "id": "sMtydC_vETAL"
      },
      "source": [
        "**Greatest element and least element**"
      ]
    },
    {
      "cell_type": "markdown",
      "metadata": {
        "id": "ExXM_fvaEV2b"
      },
      "source": [
        "* An element g in a poset P is a greatest element if for every element a in P, a ≤ g. \n",
        "\n",
        "* An element m in P is a least element if for every element a in P, a ≥ m. \n",
        "\n",
        "* A poset can only have one greatest or least element.\n",
        "\n",
        "* The greatest element has to be comparable to all of the rest of the elements, but a maximal does not.\n",
        "\n",
        "* **As defined in set theory, the maximum and minimum of a set are the greatest and least elements in the set, respectively.**\n",
        "\n",
        "* **The greatest element of a partially ordered subset must not be confused with maximal elements** of the set, which are elements that are not smaller than any other element in the set. \n",
        "\n",
        "* maxima and minima must be members of the subset that is under consideration\n",
        "\n",
        "* **A set can have several maximal elements without having a greatest element**. Like upper bounds and maximal elements, greatest elements may fail to exist."
      ]
    },
    {
      "cell_type": "markdown",
      "metadata": {
        "id": "Bd3aTFL428hn"
      },
      "source": [
        "https://en.m.wikipedia.org/wiki/Greatest_element_and_least_element"
      ]
    },
    {
      "cell_type": "markdown",
      "metadata": {
        "id": "wngEyYz4uOic"
      },
      "source": [
        "**Infimum and Supremum**"
      ]
    },
    {
      "cell_type": "markdown",
      "metadata": {
        "id": "_hjSJfUO0jK2"
      },
      "source": [
        "* The **infimum** (plural infima) of a subset S of a partially ordered set T, denoted $ \\operatorname {inf} S$ is **the greatest element in T** that is less than or equal to all elements of S, if such an element exists. Consequently, the term greatest lower bound (abbreviated as GLB) is also commonly used.\n",
        "\n",
        "* The **supremum** (plural suprema) of a subset S of a partially ordered set T , denoted $ \\operatorname {sup} S$ is the least element in T that is greater than or equal to all elements of S, if such an element exists.Consequently, the supremum is also referred to as the least upper bound (or LUB). \n",
        "\n",
        "* **The concepts of infimum and supremum are similar to minimum and maximum, but are more useful in analysis** because they better characterize special sets which may have no minimum or maximum. For instance, the positive real numbers ℝ+ (not including 0) does not have a minimum, because any given element of ℝ+ could simply be divided in half, resulting in a smaller number that is still in ℝ+. There is, however, exactly one infimum of the positive real numbers: 0, which is smaller than all the positive real numbers, and greater than any other real number **which could be used as a lower bound**.\n",
        "\n",
        "\n",
        "Definition supremum:\n",
        "\n",
        "1. The smallest number greater than or equal to all the numbers in the set. **When the set of numbers is finite, supremum is just the same as a maximum**\n",
        "\n",
        "2. **When the set of numbers has no upper limit, the supremum is infinity: sup({1,2,..}) = ∞**\n",
        "\n",
        "3. **When the set of numbers is empty, any number is an upper bound. So the supremum is minus infinity: sup({}) = -∞**\n",
        "\n",
        "* The infimum is in a precise sense **dual** to the concept of a supremum. Infima and suprema of real numbers are common special cases that are important in analysis, and especially in Lebesgue integration. However, the general definitions remain valid in the more abstract setting of order theory, where arbitrary partially ordered sets are considered.\n",
        "\n",
        "* **Whereas maxima and minima must be members of the subset that is under consideration, the infimum and supremum of a subset need not be members of that subset themselves.**"
      ]
    },
    {
      "cell_type": "markdown",
      "metadata": {
        "id": "zye5Mkhw2lUN"
      },
      "source": [
        "![xx](https://upload.wikimedia.org/wikipedia/commons/thumb/8/82/Illustration_of_supremum.svg/320px-Illustration_of_supremum.svg.png)"
      ]
    },
    {
      "cell_type": "markdown",
      "metadata": {
        "id": "QmGSkFXR2inj"
      },
      "source": [
        "*supremum = least upper bound*"
      ]
    },
    {
      "cell_type": "markdown",
      "metadata": {
        "id": "wvjOR4wh2TcY"
      },
      "source": [
        "![xx](https://upload.wikimedia.org/wikipedia/commons/thumb/0/0a/Infimum_illustration.svg/320px-Infimum_illustration.svg.png)"
      ]
    },
    {
      "cell_type": "markdown",
      "metadata": {
        "id": "HT65AuSk2RaM"
      },
      "source": [
        "*A set T of real numbers (hollow and filled circles), a subset S of T (filled circles), and the infimum of S.* Note that **for finite, <u>totally ordered</u> sets the infimum and the minimum are equal.**"
      ]
    },
    {
      "cell_type": "markdown",
      "metadata": {
        "id": "td9CpxWt2b4B"
      },
      "source": [
        "![xx](https://upload.wikimedia.org/wikipedia/commons/thumb/c/ce/Supremum_illustration.svg/320px-Supremum_illustration.svg.png)"
      ]
    },
    {
      "cell_type": "markdown",
      "metadata": {
        "id": "lqYyIsXP2ZAQ"
      },
      "source": [
        "*A set A of real numbers (blue circles), a set of upper bounds of A (red diamond and circles), and the smallest such upper bound, that is, the supremum of A (red diamond).*"
      ]
    },
    {
      "cell_type": "markdown",
      "metadata": {
        "id": "zeMDtRkIrk8V"
      },
      "source": [
        "Relation to maximum and minimum elements"
      ]
    },
    {
      "cell_type": "markdown",
      "metadata": {
        "id": "4UBo1dc1renu"
      },
      "source": [
        "* The infimum of a subset S of a partially ordered set P, assuming it exists, does not necessarily belong to S. If it does, it is a minimum or least element of S. \n",
        "\n",
        "* Similarly, if the supremum of S belongs to S, it is a maximum or greatest element of S.\n",
        "\n"
      ]
    },
    {
      "cell_type": "markdown",
      "metadata": {
        "id": "D0S7FQI5uQr4"
      },
      "source": [
        "https://en.m.wikipedia.org/wiki/Infimum_and_supremum"
      ]
    },
    {
      "cell_type": "markdown",
      "metadata": {
        "id": "_tENbAsGuXT3"
      },
      "source": [
        "**Upper and lower bounds (Majoranten und Minoranten)**"
      ]
    },
    {
      "cell_type": "markdown",
      "metadata": {
        "id": "7ka3QJpC5bop"
      },
      "source": [
        "Consider a linearly ordered set $(X, \\leq)$ and a subset $S \\subseteq X$. Let's recall some definitions:\n",
        "\n",
        "1. S is **bounded above** if there exists an element $k \\in X$ such that $k \\geq s$ for all $s \\in S$\n",
        "\n",
        "2. $g$ is a **greatest element** of $S$ is $g \\in S$ and $g \\geq s$ for all $s \\in S . l$ is a lowest element of $S$ is $l \\in S$ and $l \\leq s$ for all $s \\in S$.\n",
        "\n",
        "3. $a$ is an **supremum** of $S$ if it is the least element in $X$ that is greater\n",
        "than or equal to all elements of $S$."
      ]
    },
    {
      "cell_type": "markdown",
      "metadata": {
        "id": "ssCqHPRP0xWE"
      },
      "source": [
        "* **Tight bounds**: An upper bound is said to be a tight upper bound, a least upper bound, **or a supremum**, if no smaller value is an upper bound. Similarly, a lower bound is said to be a tight lower bound, a greatest lower bound, or an infimum, if no greater value is a lower bound.\n",
        "\n",
        "* Upper and lower bounds: For a subset A of a poset P, an element x in P is an upper bound of A if a ≤ x, for each element a in A. In particular, x need not be in A to be an upper bound of A. Similarly, an element x in P is a lower bound of A if a ≥ x, for each element a in A. A greatest element of P is an upper bound of P itself, and a least element is a lower bound of P."
      ]
    },
    {
      "cell_type": "markdown",
      "metadata": {
        "id": "Cnrcr_mT8mTE"
      },
      "source": [
        "**Examples**"
      ]
    },
    {
      "cell_type": "markdown",
      "metadata": {
        "id": "QbCXE7rt22fV"
      },
      "source": [
        "* Sei $T$ eine Teilmenge einer halbgeordneten Menge $P$.\n",
        "\n",
        "* **Minimal Element**: Wenn $m \\in T$ die Eigenschaft hat, dass es kein $x \\in T$ mit $x<m$ gibt, dann heißt $m$ minimales Element von $T$. \n",
        "\n",
        "* **Least Element**: Falls es ein Element $m \\in T$ gibt, das $\\leq$ allen anderen Elementen von $T$ ist, dann heißt $m$ das kleinste Element von $T$. \n",
        "\n",
        "* Ein kleinstes Element von $T$ (wenn es das gibt; z. B. hat die Menge der ganzen Zahlen kein kleinstes Element) ist immer eindeutig bestimmt (wegen der Antisymmetrie) und natürlich auch minimal. \n",
        "\n",
        "* In einer Totalordnung bedeutet $_{n}$ kleinstes Element\" und minimales Element\" dasselbe, aber in allgemeinen Halbordnungen kann eine Menge mehrere minimale Elemente haben, von denen dann keines das kleinste ist.\n",
        "\n",
        "* Es kann sogar vorkommen, dass eine (unendliche) Menge $T$ zwar ein einziges minimales Element hat, dieses aber nicht das kleinste Element der Menge ist (dann hat $T$ kein kleinstes Element). \n",
        "\n",
        "* Beispiel:\n",
        "Für $M:=\\{[0, a] \\mid 0<a<1\\} \\cup\\{\\{2\\}\\}$, versehen mit $\\subseteq$ als Halbordnung, ist \\{2\\} zwar das einzige minimale Element, aber nicht das kleinste, da \\{2\\}$\\subseteq A$ nicht für alle $A$ aus $M$ gilt.\n",
        "\n",
        "* **Lower Bound & Infimum**: Wenn $T$ eine Teilmenge von $P$ ist und $p \\in P$ die Eigenschaft hat, dass für alle $t \\in T$ die Beziehung $p \\leq t$ gilt, dann heißt $p$ eine untere Schranke von $T .(p$ kann, muss aber nicht Element von $T$ sein.) Wenn es eine größte untere Schranke der Menge $T$ gibt, dann nennt man diese auch die untere Grenze oder das Infimum von $T$. Eine untere Schranke ist also kleiner als das oder gleich dem\n",
        "Infimum.\n",
        "Analog sind die Begriffe maximales Element, größtes Element, obere Schranke und obere Grenze\n",
        "bzw. Supremum definiert.\n",
        "\n",
        "Eine Menge, die sowohl eine obere als auch eine untere Schranke hat, heißt beschränkt. (Analog sind ${ }_{n}$ nach oben beschränkt\" und ${ }_{n}$ nach unten beschränkt\" definiert.)\n",
        "\n",
        "Man nennt eine Funktion $f$, die eine beliebige Menge $X$ in eine halb- oder total geordnete Menge\n",
        "(siehe unten) $P$ abbildet, beschränkt, wenn die Menge der Funktionswerte beschränkt ist, also wenn es ein $p$ und ein $q \\in P$ gibt, sodass für alle $x \\in X$\n",
        "$p \\leq f(x) \\leq q$\n",
        "gilt."
      ]
    },
    {
      "cell_type": "markdown",
      "metadata": {
        "id": "yeM_RpVBAEGT"
      },
      "source": [
        "https://de.m.wikipedia.org/wiki/Ordnungsrelation#Minimale,_maximale_und_andere_Elemente"
      ]
    },
    {
      "cell_type": "markdown",
      "metadata": {
        "id": "QeIbB2ls_zza"
      },
      "source": [
        "*Greatest Element vs Maximal Element*"
      ]
    },
    {
      "cell_type": "markdown",
      "metadata": {
        "id": "76BMSPq5AzFG"
      },
      "source": [
        "* The greatest element has to be comparable to all of the rest of the elements, but a maximal does not.\n",
        "\n",
        "An element $m \\in X$ is maximal if there does not exist $x \\in X$ such that $x>m$. An element $g \\in X$ is greatest if for all $x \\in X, g \\geq x$.\n",
        "\n",
        "1. A set may have **no greatest elements and no maximal elements**: for example, any open interval of real numbers.\n",
        "\n",
        "2. If a set has a greatest element, that element is also maximal. Prove this carefully.\n",
        "\n",
        "3. A set with **two maximal elements and no greatest element**: $X=\\{a, b, c\\},$ where $a \\leq b, a \\leq c$ and **$b$ and $c$ are incomparable**. Check carefully according to the definition that each of $b$ and $c$ are maximal, and none of the elements of this set are greatest.\n",
        "\n",
        "4. A set can have exactly **one maximal element but no greatest element**: Modify the \"V-shaped\" example in the last point so that instead of the left arm being the two elements $\\{a, b\\},$ it is the **infinitely many points** $\\{a+q \\mid 0 \\leq q<1\\}$, i.e. a copy of the half-open unit interval of the real numbers. Then $c$ is still maximal, but no element on the left arm is maximal, and the set overall has no greatest element."
      ]
    },
    {
      "cell_type": "markdown",
      "metadata": {
        "id": "6-4rEZ6nAZsh"
      },
      "source": [
        "https://www.quora.com/Whats-the-difference-between-the-greatest-element-and-the-maximal-elements-of-a-set"
      ]
    },
    {
      "cell_type": "markdown",
      "metadata": {
        "id": "hExcs8FG85RO"
      },
      "source": [
        "*Subsets with several maximal elements, and one least element*"
      ]
    },
    {
      "cell_type": "markdown",
      "metadata": {
        "id": "Jfpr9cO_5gh2"
      },
      "source": [
        "![xx](https://upload.wikimedia.org/wikipedia/commons/thumb/2/2d/Lattice_of_the_divisibility_of_60_narrow_1%2C2%2C3%2C4.svg/198px-Lattice_of_the_divisibility_of_60_narrow_1%2C2%2C3%2C4.svg.png)"
      ]
    },
    {
      "cell_type": "markdown",
      "metadata": {
        "id": "qKvVoqCn5bY5"
      },
      "source": [
        "* Hasse diagram of the set P of divisors of 60, partially ordered by the relation \"x divides y\". \n",
        "\n",
        "* The red subset S = {1,2,3,4} has two maximal elements, viz. 3 and 4, and one minimal element, viz. 1, which is also its least element."
      ]
    },
    {
      "cell_type": "markdown",
      "metadata": {
        "id": "qSGeKJKT77Km"
      },
      "source": [
        "*Subsets with a supremum but no greatest element*"
      ]
    },
    {
      "cell_type": "markdown",
      "metadata": {
        "id": "Wo1CcM_p7_gJ"
      },
      "source": [
        "* First consider the ordered set $(\\mathbb{R}, \\leq)$ and the subset $S=\\{q \\in \\mathbb{Q} ; q \\leq \\sqrt{2}\\}$ \n",
        "\n",
        "* $S$ is bounded above by $2$\n",
        "\n",
        "* $\\sqrt{2}$ is a supremum of $S$ as we have $q \\leq \\sqrt{2}$ for all $q \\in S$ and as for $b<\\sqrt{2}$, it exists $q \\in \\mathbb{Q}$ such that $b<q<\\sqrt{2}$ because $\\mathbb{Q}$ is dense in $\\mathbb{R}$. \n",
        "\n",
        "* However $S$ doesn't have a greatest element because $\\sqrt{2}$ is an **irrational number.**"
      ]
    },
    {
      "cell_type": "markdown",
      "metadata": {
        "id": "MIDeMTVq8Oxm"
      },
      "source": [
        "*Bounded above subsets with no supremum*"
      ]
    },
    {
      "cell_type": "markdown",
      "metadata": {
        "id": "8D0qCCqc8ZA-"
      },
      "source": [
        "* Leveraging the examples above, we take $(X, \\leq)=(\\mathbb{Q}, \\leq)$ and $S=\\{q \\in \\mathbb{Q} ; q \\leq \\sqrt{2}\\}$\n",
        "\n",
        "* $S$ is bounded above, by 2 for example. \n",
        "\n",
        "* However $S$ doesn't have a supremum because $\\sqrt{2} \\notin \\mathbb{Q}$ "
      ]
    },
    {
      "cell_type": "markdown",
      "metadata": {
        "id": "9w_XI_2_9ngn"
      },
      "source": [
        "*Subsets with an infimum but no minimum*"
      ]
    },
    {
      "cell_type": "markdown",
      "metadata": {
        "id": "5DEhAvG_9lDv"
      },
      "source": [
        "* For instance, the positive real numbers ℝ+ (**not including 0**) does not have a minimum, because any given element of ℝ+ could simply be divided in half, resulting in a smaller number that is still in ℝ+. \n",
        "\n",
        "* There is, however, exactly one infimum of the positive real numbers: 0, which is smaller than all the positive real numbers, and greater than any other real number which could be used as a lower bound."
      ]
    },
    {
      "cell_type": "markdown",
      "metadata": {
        "id": "NIfq1ZUM9SAO"
      },
      "source": [
        "*Subsets with both supremum and infimum*"
      ]
    },
    {
      "cell_type": "markdown",
      "metadata": {
        "id": "nBqpco4T4PNj"
      },
      "source": [
        "* a lattice is a partially ordered set in which all nonempty finite subsets have both a supremum and an infimum, and a complete lattice is a partially ordered set in which all subsets have both a supremum and an infimum. \n",
        "\n",
        "* More information on the various classes of partially ordered sets that arise from such considerations are found in the article on completeness properties."
      ]
    },
    {
      "cell_type": "markdown",
      "metadata": {
        "id": "4RPa3qNz8gZd"
      },
      "source": [
        "**Sources**"
      ]
    },
    {
      "cell_type": "markdown",
      "metadata": {
        "id": "DQclA1TC8jK6"
      },
      "source": [
        "https://www.mathcounterexamples.net/around-bounded-sets-greatest-element-and-supremum/"
      ]
    },
    {
      "cell_type": "markdown",
      "metadata": {
        "id": "wX2vmsQSbzio"
      },
      "source": [
        "https://en.m.wikipedia.org/wiki/Upper_and_lower_bounds"
      ]
    },
    {
      "cell_type": "markdown",
      "metadata": {
        "id": "EoYu2SsGuZst"
      },
      "source": [
        "https://mathepedia.de/Majoranten_und_Minoranten.html"
      ]
    },
    {
      "cell_type": "markdown",
      "metadata": {
        "id": "Kf784FrZLYsu"
      },
      "source": [
        "##### **Duality, Order Isomorphism, Order Embedding & Galois Verbindung**"
      ]
    },
    {
      "cell_type": "markdown",
      "metadata": {
        "id": "MnYdVFa6tenF"
      },
      "source": [
        "**Order Isomorphism (Ordnungsisomorphismus)**"
      ]
    },
    {
      "cell_type": "markdown",
      "metadata": {
        "id": "heWA-Xu366vC"
      },
      "source": [
        "* Sind zwei Halbordnungen $(G, \\leq G)$ und $\\left(H, \\leq_{H}\\right)$ gegeben, so heißt eine Abbildung\n",
        "\n",
        "> $\n",
        "\\psi: G \\rightarrow H\n",
        "$\n",
        "\n",
        "* ein Ordnungsisomorphismus, wenn $\\psi$ eine **bijektive isotone Abbildung** ist, deren Umkehrabbildung $\\psi^{-1}$ ebenfalls eine isotone Abbildung ist.\n",
        "\n",
        "* Existiert zwischen $G$ und $H$ ein Ordnungsisomorphismus, so lässt sich die Existenz auch mit\n",
        "$G \\cong H$ ausdrücken und $G$ und $H$ werden als ordnungsisomorph bezeichnet. \n",
        "\n",
        "* Bildet ein\n",
        "Ordnungsisomorphismus eine Menge auf sich selbst ab, so ist er ein Automorphismus und wird auch Ordnungsautomorphismus genannt."
      ]
    },
    {
      "cell_type": "markdown",
      "metadata": {
        "id": "CsyduyQD6-L0"
      },
      "source": [
        "https://de.m.wikipedia.org/wiki/Ordnungsisomorphismus"
      ]
    },
    {
      "cell_type": "markdown",
      "metadata": {
        "id": "JtTg9cMpE3xh"
      },
      "source": [
        "* an order isomorphism is a special kind of monotone function that constitutes a suitable notion of isomorphism for partially ordered sets (posets). \n",
        "\n",
        "* Whenever two posets are order isomorphic, they can be considered to be \"essentially the same\" in the sense that either of the orders can be obtained from the other just by renaming of elements. \n",
        "\n",
        "* Two strictly weaker notions that relate to order isomorphisms are order embeddings and Galois connections."
      ]
    },
    {
      "cell_type": "markdown",
      "metadata": {
        "id": "wJRh0DQzIEGK"
      },
      "source": [
        "Formally, given two posets $\\left(S, \\leq_{S}\\right)$ and $\\left(T, \\leq_{T}\\right),$ an order isomorphism from $(S, \\leq s)$ to $\\left(T, \\leq_{T}\\right)$ is a bijective function $f$ from $S$ to $T$ with the property that, for every $x$ and $y$ in $S, x \\leq_{S} y$ if and only if $f(x) \\leq_{T} f(y)$. That is, it is a bijective order-embedding."
      ]
    },
    {
      "cell_type": "markdown",
      "metadata": {
        "id": "I2HUCHBaFs9l"
      },
      "source": [
        "* A bijection is an isomorphism if both f and f-1 are order-preserving. \n",
        "\n",
        "* A self-isomorphism is an automorphism.\n",
        "\n",
        "* A partial ordering is a well-ordering if every non-empty subset has a least element."
      ]
    },
    {
      "cell_type": "markdown",
      "metadata": {
        "id": "T0OWcMrgtjkc"
      },
      "source": [
        "https://en.m.wikipedia.org/wiki/Order_isomorphism"
      ]
    },
    {
      "cell_type": "markdown",
      "metadata": {
        "id": "LU6kfjzCucGu"
      },
      "source": [
        "**Isotone Abbildungen / Monotone Funktion (Ordnungshomomorphismus)**"
      ]
    },
    {
      "cell_type": "markdown",
      "metadata": {
        "id": "F5jlSysKuh6Q"
      },
      "source": [
        "* Eine monotone Abbildung ist eine Abbildung zwischen zwei halbgeordneten Mengen (Posets), bei der aus der Ordnung zweier Elemente der Definitionsmenge auf die Ordnung der jeweiligen Bildelemente der Zielmenge geschlossen werden kann. \n",
        "\n",
        "* Bleibt die Ordnung der Elemente erhalten, spricht man von einer isotonen oder ordnungserhaltenden Abbildung oder auch von einem Ordnungshomomorphismus. \n",
        "\n",
        "* Kehrt sich die Ordnung um, spricht man von einer antitonen oder ordnungsumkehrenden Abbildung."
      ]
    },
    {
      "cell_type": "markdown",
      "metadata": {
        "id": "zM-75C0q40SV"
      },
      "source": [
        "Seien $X$ und $X^{\\prime}$ geordnete Mengen. Eine Abbildung $\\varphi: X \\rightarrow X^{\\prime}$ heißt isoton, ordnungserhaltend, ordnungstreu oder Ordnungshomomorphismus, wenn $x \\leq y \\Rightarrow \\varphi(x) \\leq \\varphi(y)$ für alle $x, y \\in X$\n",
        "gilt."
      ]
    },
    {
      "cell_type": "markdown",
      "metadata": {
        "id": "ysSXSJuT44Qj"
      },
      "source": [
        "https://de.m.wikipedia.org/wiki/Ordnungsrelation#Homomorphismen"
      ]
    },
    {
      "cell_type": "markdown",
      "metadata": {
        "id": "XC0wsLmAuu2l"
      },
      "source": [
        "https://de.m.wikipedia.org/wiki/Monotone_Abbildung"
      ]
    },
    {
      "cell_type": "markdown",
      "metadata": {
        "id": "MHXKzYOEu9Zx"
      },
      "source": [
        "https://mathepedia.de/Isotone_Abbildungen.html"
      ]
    },
    {
      "cell_type": "markdown",
      "metadata": {
        "id": "EXPPrr64F5qd"
      },
      "source": [
        "**Order Embedding**"
      ]
    },
    {
      "cell_type": "markdown",
      "metadata": {
        "id": "ZnDbp-K0GAec"
      },
      "source": [
        "* an order embedding is a **special kind of monotone function (spezielle Form von isotoner Abbildung)**, which provides a way to include one partially ordered set into another. \n",
        "\n",
        "* Like Galois connections, order embeddings constitute a notion which is **strictly weaker than the concept of an order isomorphism**. Both of these weakenings may be understood in terms of category theory."
      ]
    },
    {
      "cell_type": "markdown",
      "metadata": {
        "id": "s0IHeXIEGkn3"
      },
      "source": [
        "Formally, given two partially ordered sets (posets) $(S, \\leq)$ and $(T, \\preceq),$ a function $f: S \\rightarrow T$ is an order embedding if $f$ is both order-preserving and order-reflecting, i.e. for all $x$ and $y$ in $S$, one has\n",
        "\n",
        "> $x \\leq y$ if and only if $f(x) \\preceq f(y) .$\n",
        "\n",
        "Such a function is necessarily injective, since $f(x)=f(y)$ implies $x \\leq y$ and $y \\leq x$. embedding between two posets $S$ and $T$ exists, one says that $S$ can be embedded into $T$."
      ]
    },
    {
      "cell_type": "markdown",
      "metadata": {
        "id": "NsErplH5FsSB"
      },
      "source": [
        "Posets can straightforwardly be viewed from many perspectives, and order embeddings are basic enough that they tend to be visible from everywhere. For example:\n",
        "\n",
        "* (Model theoretically) A poset is a set equipped with a (reflexive, antisymmetric, transitive) binary relation. An order embedding A -> B is an isomorphism from A to an elementary substructure of B.\n",
        "\n",
        "* (Graph theoretically) A poset is a (transitive, acyclic, directed, reflexive) graph. An order embedding A -> B is a graph isomorphism from A to an induced subgraph of B.\n",
        "\n",
        "* (Category theoretically) A poset is a (small, thin, and skeletal) category such that each homset has at most one element. An order embedding A -> B is a full and faithful functor from A to B which is injective on objects, or equivalently an isomorphism from A to a full subcategory of B."
      ]
    },
    {
      "cell_type": "markdown",
      "metadata": {
        "id": "GfsYGWUoF8y6"
      },
      "source": [
        "https://en.m.wikipedia.org/wiki/Order_embedding"
      ]
    },
    {
      "cell_type": "markdown",
      "metadata": {
        "id": "CYH-35wsCn5c"
      },
      "source": [
        "*Are embedding and an injective homomorphism (Isotone Abbildungen / Ordnungshomomorphismus) the same thing?*"
      ]
    },
    {
      "cell_type": "markdown",
      "metadata": {
        "id": "mM7zhP4WDmul"
      },
      "source": [
        "* For groups they are the same thing. For topological spaces, they are not. There can be an injective continuous map $f: X \\rightarrow Y$ where the image $f(X)$ is not homeomorphic to $X$. A quick example is $X=[0,2 \\pi), Y=S^{1}, f(x)=e^{i x}$\n",
        "\n",
        "* Embedding is a term used for the underlying set of space, for instance we may embed the set of integers $\\mathbb{Z}$ by a list of distinct points $\\left\\{x_{n}\\right\\} \\in \\mathbb{R} .$ Homomorphism is used for maps that preserve addition and multiplication. For instance we only have two homomorphism $f: \\mathbb{Z} \\rightarrow \\mathbb{R}$, i.e. zero map and identity map. But we can construct many embeddings $g: \\mathbb{Z} \\mapsto \\mathbb{R}$ by choosing different lists $\\left\\{x_{n}\\right\\}$"
      ]
    },
    {
      "cell_type": "markdown",
      "metadata": {
        "id": "zinPRYz8Cs1A"
      },
      "source": [
        "https://math.stackexchange.com/questions/3053264/do-embedding-and-injective-homomorphism-mean-the-same-thing"
      ]
    },
    {
      "cell_type": "markdown",
      "metadata": {
        "id": "sniDMo1itn-T"
      },
      "source": [
        "**Galois connection**"
      ]
    },
    {
      "cell_type": "markdown",
      "metadata": {
        "id": "cbLiilkjFtyU"
      },
      "source": [
        "* a Galois connection is a particular correspondence (typically) between two partially ordered sets (posets). \n",
        "\n",
        "* The same notion can also be defined on preordered sets or classes; this article presents the common case of posets. \n",
        "\n",
        "* Galois connections generalize the correspondence between subgroups and subfields investigated in Galois theory.\n",
        "\n",
        "* A Galois connection is rather weak compared to an order isomorphism between the involved posets, but every Galois connection gives rise to an isomorphism of certain sub-posets, as will be explained below.\n",
        "\n",
        "* The term Galois correspondence is sometimes used to mean bijective Galois connection; this is simply an order isomorphism (or dual order isomorphism, depending on whether we take monotone or antitone Galois connections)."
      ]
    },
    {
      "cell_type": "markdown",
      "metadata": {
        "id": "u7427KkwtrFE"
      },
      "source": [
        "https://en.m.wikipedia.org/wiki/Galois_connection"
      ]
    },
    {
      "cell_type": "markdown",
      "metadata": {
        "id": "bbR0rJVGuCDO"
      },
      "source": [
        "**Duality**"
      ]
    },
    {
      "cell_type": "markdown",
      "metadata": {
        "id": "P00hsr21Knno"
      },
      "source": [
        "* In the mathematical area of order theory, every partially ordered set $P$ gives rise to a dual (or opposite) partially ordered set which is often denoted by $P^\\mathrm{op}$ or $P^{d} .$ This dual order $\\mathrm{P}^{\\mathrm{op}}$ is defined to\n",
        "be the same set, but with the inverse order, i.e. $x \\leq y$ holds in $P^{\\text {op }}$ if and only if $y \\leq x$ holds in $P$. \n",
        "\n",
        "* It is\n",
        "easy to see that this construction, which can be depicted by flipping the Hasse diagram for $P$ upside\n",
        "down, will indeed yield a partially ordered set. In a broader sense, two partially ordered sets are also\n",
        "said to be duals if they are dually isomorphic, i.e. if one poset is order isomorphic to the dual of the\n",
        "other."
      ]
    },
    {
      "cell_type": "markdown",
      "metadata": {
        "id": "dKz76PxHuEnf"
      },
      "source": [
        "https://en.m.wikipedia.org/wiki/Duality_(order_theory)"
      ]
    },
    {
      "cell_type": "markdown",
      "metadata": {
        "id": "KledNeG6L6xF"
      },
      "source": [
        "https://en.m.wikipedia.org/wiki/Dual_(category_theory)"
      ]
    },
    {
      "cell_type": "markdown",
      "metadata": {
        "id": "M8hKdaaq47YJ"
      },
      "source": [
        "**Completeness**"
      ]
    },
    {
      "cell_type": "markdown",
      "metadata": {
        "id": "R1UimNcSHuXW"
      },
      "source": [
        "* In the mathematical area of order theory, completeness properties assert the existence of certain infima or suprema of a given partially ordered set (poset). The most familiar example is the completeness of the real numbers. A special use of the term refers to complete partial orders or complete lattices. However, many other interesting notions of completeness exist.\n",
        "\n",
        "* The motivation for considering completeness properties derives from the great importance of suprema (least upper bounds, joins, \"$\\vee$\") and infima (greatest lower bounds, meets, \"$\\wedge$\") to the theory of partial orders. \n",
        "\n",
        "* Finding a supremum means to single out one distinguished least element from the set of upper bounds.\n",
        "\n"
      ]
    },
    {
      "cell_type": "markdown",
      "metadata": {
        "id": "93mJ-3FJLDS2"
      },
      "source": [
        "Naturally, there are a great number of examples for concepts that are dual:\n",
        "\n",
        "* Greatest elements and least elements\n",
        "* Maximal elements and minimal elements\n",
        "* Least upper bounds (suprema, ∨) and greatest lower bounds (infima, ∧)\n",
        "* Upper sets and lower sets\n",
        "* Ideals and filters\n",
        "* Closure operators and kernel operators.\n",
        "\n",
        "Examples of notions which are self-dual include:\n",
        "\n",
        "* Being a (complete) lattice\n",
        "* Monotonicity of functions\n",
        "* Distributivity of lattices, i.e. the lattices for which ∀x,y,z: x ∧ (y ∨ z) = (x ∧ y) ∨ (x ∧ z) holds are exactly those for which the dual statement ∀x,y,z: x ∨ (y ∧ z) = (x ∨ y) ∧ (x ∨ z) holds[1]\n",
        "* Being a Boolean algebra\n",
        "* Being an order isomorphism.\n",
        "\n",
        "Since partial orders are antisymmetric, the only ones that are self-dual are the equivalence relations (=Reflexivität, Transitivität, Symmetrie)."
      ]
    },
    {
      "cell_type": "markdown",
      "metadata": {
        "id": "-gXchxGz4-fE"
      },
      "source": [
        "https://en.m.wikipedia.org/wiki/Completeness_(order_theory)"
      ]
    },
    {
      "cell_type": "markdown",
      "metadata": {
        "id": "1eKPHlZtIh3q"
      },
      "source": [
        "*Completeness of Real Numbers*"
      ]
    },
    {
      "cell_type": "markdown",
      "metadata": {
        "id": "tebo4HB9HyjN"
      },
      "source": [
        "https://en.m.wikipedia.org/wiki/Completeness_of_the_real_numbers"
      ]
    },
    {
      "cell_type": "markdown",
      "metadata": {
        "id": "zUT_1mJSIbKY"
      },
      "source": [
        "*Complete Partial Order*"
      ]
    },
    {
      "cell_type": "markdown",
      "metadata": {
        "id": "D_jPPnfAIRqf"
      },
      "source": [
        "A complete partial order abbreviated cpo can, depending on context, refer to any of the following concepts.\n",
        "\n",
        "1. A partially ordered set is a directed-complete partial order (dcpo) if each of its directed subsets has a supremum. A subset of a partial order is directed if it is non-empty and every pair of elements has an upper bound in the subset. In the literature, dcpos sometimes also appear under the label up-complete poset.\n",
        "\n",
        "2. A partially ordered set is a pointed directed-complete partial order if it is a dcpo with a least element. They are sometimes abbreviated cppos.\n",
        "\n",
        "3. A partially ordered set is a ω-complete partial order (ω-cpo) if it is a poset in which every ω-chain (x1≤x2≤x3≤x4≤...) has a supremum that belongs to the underlying set of the poset. Every dcpo is an ω-cpo, since every ω-chain is a directed set, but the converse is not true. However, every ω-cpo with a basis is also a dcpo (with the same basis).[1] An ω-cpo (dcpo) with a basis is also called a continuous ω-cpo (continuous dcpo).\n",
        "\n",
        "Note that complete partial order is never used to mean a poset in which all subsets have suprema; the terminology complete lattice is used for this concept."
      ]
    },
    {
      "cell_type": "markdown",
      "metadata": {
        "id": "JPgN9DqrH1AW"
      },
      "source": [
        "https://en.m.wikipedia.org/wiki/Complete_partial_order"
      ]
    },
    {
      "cell_type": "markdown",
      "metadata": {
        "id": "FbAwLzUBIedG"
      },
      "source": [
        "*Complete Lattice*"
      ]
    },
    {
      "cell_type": "markdown",
      "metadata": {
        "id": "icz6c1OiH-6s"
      },
      "source": [
        "* a complete lattice is a partially ordered set **in which all subsets have both a supremum (join) and an infimum (meet)**\n",
        "\n",
        "* Complete lattices appear in many applications in mathematics and computer science. Being a special instance of lattices, they are studied both in order theory and universal algebra.\n",
        "\n",
        "* Complete lattices must not be confused with complete partial orders (cpos), which constitute a strictly more general class of partially ordered sets. More specific complete lattices are complete Boolean algebras and complete Heyting algebras (locales)."
      ]
    },
    {
      "cell_type": "markdown",
      "metadata": {
        "id": "Jjj9RQ9VH3Ye"
      },
      "source": [
        "https://en.m.wikipedia.org/wiki/Complete_lattice"
      ]
    }
  ]
}