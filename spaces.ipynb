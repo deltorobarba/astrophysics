{
  "nbformat": 4,
  "nbformat_minor": 0,
  "metadata": {
    "colab": {
      "name": "spaces.ipynb",
      "provenance": [],
      "collapsed_sections": [
        "hCG3iyLo1jcj",
        "mYX8BpsE7IqC",
        "_5hGVjnLSAkh",
        "qFvoziMo_NSM",
        "uNK_XbmJ-v4D",
        "n4mp5NAZ3lL-",
        "YS9MF5krQw-y",
        "1f3hd9w12Kqi",
        "qYW5u_0Oi7l5",
        "GCXP396NF0kv",
        "ifQwelOJdlPO",
        "00B-3E6wT_WN",
        "BzwsYyJMZkys",
        "F1l9_Erf5T5S"
      ],
      "toc_visible": true,
      "include_colab_link": true
    },
    "kernelspec": {
      "name": "python3",
      "display_name": "Python 3"
    }
  },
  "cells": [
    {
      "cell_type": "markdown",
      "metadata": {
        "id": "view-in-github",
        "colab_type": "text"
      },
      "source": [
        "<a href=\"https://colab.research.google.com/github/deltorobarba/machinelearning/blob/master/spaces.ipynb\" target=\"_parent\"><img src=\"https://colab.research.google.com/assets/colab-badge.svg\" alt=\"Open In Colab\"/></a>"
      ]
    },
    {
      "cell_type": "markdown",
      "metadata": {
        "id": "2Aoj2PpxvDQV"
      },
      "source": [
        "# **Spaces (Funktional Analysis)**"
      ]
    },
    {
      "cell_type": "code",
      "metadata": {
        "id": "1U5_6xH7tAQq"
      },
      "source": [
        "import numpy as np\n",
        "import pandas as pd\n",
        "import seaborn as sns\n",
        "import matplotlib.pyplot as plt"
      ],
      "execution_count": null,
      "outputs": []
    },
    {
      "cell_type": "markdown",
      "metadata": {
        "id": "ostHcxEvNZ5r"
      },
      "source": [
        "![Normed Vector Space](https://upload.wikimedia.org/wikipedia/en/7/74/Mathematical_Spaces.png)"
      ]
    },
    {
      "cell_type": "markdown",
      "metadata": {
        "id": "BXxHvgntFDSt"
      },
      "source": [
        "Quelle: [Mathematical Spaces](https://en.m.wikipedia.org/wiki/Space_(mathematics))"
      ]
    },
    {
      "cell_type": "markdown",
      "metadata": {
        "id": "Ew0Gfkwt2CBu"
      },
      "source": [
        "## **Spaces**"
      ]
    },
    {
      "cell_type": "markdown",
      "metadata": {
        "id": "mYX8BpsE7IqC"
      },
      "source": [
        "#### **What constitutes a 'space'?**"
      ]
    },
    {
      "cell_type": "markdown",
      "metadata": {
        "id": "zqI_Wvvlu5y7"
      },
      "source": [
        "* **A space is a [set](https://en.m.wikipedia.org/wiki/Set_(mathematics)) - (sometimes called a [universe - Grundmenge](https://en.m.wikipedia.org/wiki/Universe_(mathematics))) with some added structure.**\n",
        "\n",
        "* A space consists of selected **mathematical objects that are treated as points**, and selected **relationships between these points**. \n",
        "\n",
        "* The nature of the points can vary widely: for example, the **points can be elements of a set, functions on another space, or subspaces of another space.**\n",
        "\n",
        "* While modern mathematics uses many types of spaces, such as Euclidean spaces, linear spaces, topological spaces, Hilbert spaces, or probability spaces, **it does not define the notion of \"space\" itself.**\n",
        "\n",
        "* **It is the relationships that define the nature of the space**. More precisely, isomorphic spaces are considered identical, where an isomorphism between two spaces is a one-to-one correspondence between their points that preserves the relationships. For example, the relationships between the points of a three-dimensional Euclidean space are uniquely determined by Euclid's axioms, and all three-dimensional Euclidean spaces are considered identical.\n",
        "\n",
        "* They are frequently described as different types of [manifolds](https://en.m.wikipedia.org/wiki/Manifold), which are **spaces that locally approximate to Euclidean space**, and where the properties are defined largely on local connectedness of points that lie on the manifold. "
      ]
    },
    {
      "cell_type": "markdown",
      "metadata": {
        "id": "aBTpG-ygvTqz"
      },
      "source": [
        "**[Taxonomy of Spaces](https://en.m.wikipedia.org/wiki/Space_(mathematics)#Taxonomy_of_spaces)**: While each type of space has its own definition, the general idea of \"space\" evades formalization."
      ]
    },
    {
      "cell_type": "markdown",
      "metadata": {
        "id": "hGnYcuJFS_Ab"
      },
      "source": [
        "**Important Spaces**"
      ]
    },
    {
      "cell_type": "markdown",
      "metadata": {
        "id": "tdKlLJIbEuW2"
      },
      "source": [
        "* Vektorräume und topologische Räume\n",
        "\n",
        "* Metrische und uniforme Räume\n",
        "\n",
        "* Normierte Räume und Skalarprodukträume\n",
        "\n",
        "* Affine und projektive Räume\n",
        "\n",
        "* Differenzierbare und Riemannsche Mannigfaltigkeiten\n",
        "\n",
        "* Messräume, Maßräume und Wahrscheinlichkeitsräume"
      ]
    },
    {
      "cell_type": "markdown",
      "metadata": {
        "id": "fNEJIQ7kElb0"
      },
      "source": [
        "#### **(Topological) Vector Spaces & Lokalkonvexer Raum**"
      ]
    },
    {
      "cell_type": "markdown",
      "metadata": {
        "id": "fvJpmDEA26ZG"
      },
      "source": [
        "**Vector Spaces**"
      ]
    },
    {
      "cell_type": "markdown",
      "metadata": {
        "id": "hbITYPNHEkj5"
      },
      "source": [
        "* There are however, many diverse mathematical objects that are called spaces. For example, [vector spaces](https://en.m.wikipedia.org/wiki/Vector_space) such as [function spaces](https://en.m.wikipedia.org/wiki/Function_space) may have infinite numbers of independent dimensions and a notion of distance very different from Euclidean space, and [topological spaces](https://en.m.wikipedia.org/wiki/Topological_space) replace the concept of distance with a more abstract idea of nearness.\n",
        "\n",
        "* **Infinite-dimensional vector spaces arise naturally in mathematical analysis, as function spaces**, whose vectors are functions. These vector spaces are generally endowed with additional structure, which may be a topology, allowing the consideration of issues of proximity and continuity. \n",
        "\n",
        "* Among these topologies, those that are defined by a norm or inner product are more commonly used, as having a notion of distance between two vectors. This is particularly the case of **Banach spaces and Hilbert spaces**, which are fundamental in mathematical analysis."
      ]
    },
    {
      "cell_type": "markdown",
      "metadata": {
        "id": "r_epA_T-VlyU"
      },
      "source": [
        "**Topological Vector Space**"
      ]
    },
    {
      "cell_type": "markdown",
      "metadata": {
        "id": "8F99OAcmVhmA"
      },
      "source": [
        "Ein **[topologischer Vektorraum](https://de.m.wikipedia.org/wiki/Topologischer_Vektorraum)** / [Topological Vector Space](https://en.m.wikipedia.org/wiki/Topological_vector_space) ist ein Vektorraum, auf dem neben seiner algebraischen auch noch eine damit verträgliche topologische Struktur definiert ist.\n",
        "\n",
        "Sei $\\mathbb{K} \\in\\{\\mathbb{R}, \\mathbb{C}\\}$. Ein $\\mathbb{K}$ -Vektorraum $E$, der zugleich topologischer Raum ist, heißt topologischer Vektorraum, wenn folgende Verträglichkeitsaxiome gelten:\n",
        "* Die Vektoraddition $E \\times E \\rightarrow E$ ist stetig,\n",
        "* Die Skalarmultiplikation $\\mathbb{K} \\times E \\rightarrow E$ ist stetig.\n"
      ]
    },
    {
      "cell_type": "markdown",
      "metadata": {
        "id": "xYYiKui5ACRL"
      },
      "source": [
        "**Lokalkonvexer Raum**"
      ]
    },
    {
      "cell_type": "markdown",
      "metadata": {
        "id": "O-isaBjt3BH1"
      },
      "source": [
        "* genauer: lokalkonvexe topologische Vektorräume\n",
        "\n",
        "* in der Funktionalanalysis untersuchte topologische Vektorräume mit zusätzlichen Eigenschaften. Es handelt sich dabei **um topologische Vektorräume, in denen jeder Punkt über „beliebig kleine“ [konvexe](https://de.wikipedia.org/wiki/Konvexe_Menge) Umgebungen verfügt**. \n",
        "\n",
        "  * konvex heisst eine Teilmenge eines euklidischen Raums konvex, wenn für je zwei beliebige Punkte, die zur Menge gehören, auch stets deren Verbindungsstrecke ganz in der Menge liegt. Dies garantiert, dass die Menge an keiner Stelle eine (konkave) Einbuchtung hat.\n",
        "\n",
        "  * Beispiele: Jeder Vektorraum, der $\\mathbb {R}$  enthält, ist konvex, ebenso Halbebenen und Halbräume. Strecken und Geraden sind konvexe Mengen. Jede Dreiecksfläche ist konvex. Kreisscheiben und Kugeln sind konvex, sogar streng konvex. Die für die Theorie der normierten Räume wichtigste konvexe Menge ist die Einheitskugel.\n",
        "\n",
        "* Alternativ können lokalkonvexe Räume auch als Vektorräume definiert werden, deren Topologie durch eine Familie von Halbnormen erzeugt wird.\n",
        "\n",
        "* Ein lokalkonvexer Raum kann als eine **Verallgemeinerung eines normierten Vektorraumes** bzw. eines normierbaren Vektorraumes betrachtet werden, denn die Normkugeln um 0 sind konvexe Umgebungen des Nullpunktes.\n"
      ]
    },
    {
      "cell_type": "markdown",
      "metadata": {
        "id": "YZA7yQ8uID-W"
      },
      "source": [
        "Ein topologischer Vektorraum $V$ (über dem Körper $\\mathbb {R}$ der reellen Zahlen oder dem Körper $\\mathbb {C}$ der komplexen Zahlen) heißt lokalkonvex, wenn jede Nullumgebung U (d. h. Umgebung des Nullpunktes) eine offene Teilmenge T mit den folgenden drei Eigenschaften enthält:\n",
        "\n",
        "1. **T ist konvex**.\n",
        "2. **T ist absorbierend** \n",
        "  * Eine Teilmenge $T$ eines reellen oder komplexen Vektorraumes $V$ heißt dabei absorbierend, wenn es zu jedem Vektor $x$ in $V$ eine positive Zahl $r$ gibt, so dass $\\alpha x$ für jede reelle bzw. komplexe Zahl $\\alpha$ mit |$\\alpha$| < r ein Element von $T$ ist.\n",
        "  * Eine absorbierende Menge bezeichnet eine Teilmenge eines Vektorraumes, die anschaulich so mit Skalaren vergrößert werden kann, dass irgendwann jeder Punkt in ihr enthalten ist und dieser bei weiterer Vergrößerung die Menge auch nicht mehr verlässt.\n",
        "  * Die Menge $T$ wird also durch $\\alpha$ so vergrößert, bis sie jedes Element des Vektorraumes absorbiert.\n",
        "\n",
        "3. **T ist ausgewogen**. \n",
        "  * Eine ausgewogene Menge bezeichnet in der Funktionalanalysis eine Teilmenge eines Vektorraumes, die sich dadurch auszeichnet, dass zu jedem Element der Menge auch das negative dieses Elementes in der Menge enthalten ist und die gesamte Verbindungsstrecke zwischen diesen beiden Elementen.\n",
        "  * Eine Teilmenge $T$ eines reellen oder komplexen Vektorraumes $V$ heißt ausgewogen, wenn zu jedem Vektor $x$ in $T$ und jeder Zahl $r$ mit $|r| \\leq 1$ der Vektor $r x$ ebenfalls in $T$ liegt. Im Fall eines reellen Vektorraums bedeutet dies, dass die Strecke von $-x$ nach $x$ in $T$ liegt; bei einem komplexen Vektorraum bedeutet es, dass $T$ die $_{n}$ Kreisscheibe\" $\\{r x|r \\in \\mathbb{C},| r \\mid \\leq 1\\}$ enthält. Aufgrund dieser geometrischen Bedeutung werden solche Mengen manchmal auch kreisförmig genannt."
      ]
    },
    {
      "cell_type": "markdown",
      "metadata": {
        "id": "7aWdmt9l2pAd"
      },
      "source": [
        "**Beispiele**\n",
        "\n",
        "* Alle normierten Räume (insb. alle Banachräume) sind lokalkonvex, wobei die Familie $\\mathcal{P}$ nur die (echte) Norm enthält.\n",
        "\n",
        "* Alle topologischen Vektorräume mit der schwachen Topologie."
      ]
    },
    {
      "cell_type": "markdown",
      "metadata": {
        "id": "n_pjXfQ9AFCP"
      },
      "source": [
        "https://de.wikipedia.org/wiki/Lokalkonvexer_Raum"
      ]
    },
    {
      "cell_type": "markdown",
      "metadata": {
        "id": "iZYdAtj6IGTk"
      },
      "source": [
        "\n",
        "\n",
        "https://de.m.wikipedia.org/wiki/Lokalkonvexer_Raum\n",
        "\n",
        "https://matheplanet.com/default3.html?call=article.php?sid=1159&ref=https%3A%2F%2Fwww.google.com%2F\n",
        "\n",
        "https://en.m.wikipedia.org/wiki/Locally_convex_topological_vector_space\n",
        "\n",
        "https://en.m.wikipedia.org/wiki/Geometric_measure_theory"
      ]
    },
    {
      "cell_type": "markdown",
      "metadata": {
        "id": "_5hGVjnLSAkh"
      },
      "source": [
        "#### **Banachraum**"
      ]
    },
    {
      "cell_type": "markdown",
      "metadata": {
        "id": "0dQ7i9hH-2Pp"
      },
      "source": [
        "* Ein **[Banachraum](https://en.m.wikipedia.org/wiki/Banach_space)** ist ein vollständiger normierter (Vektor-)Raum. Ein vollständiger normierter Vektorraum (complete normed vector space) heißt Banachraum. \n",
        "\n",
        "  * A Banach space is a vector space X over any scalar field K that is equipped with a norm ‖⋅‖ <sub>X</sub> and that is complete with respect to the distance function induced by the norm\n",
        "\n",
        "  * Basic examples of Banach spaces include: the $L^{p}$ spaces and their special cases, the sequence spaces\n",
        "$\\ell^{p}$ that consist of scalar sequences indexed by $\\mathrm{N} ;$ among them, the space $\\ell^{1}$ of absolutely summable sequences and the space $\\ell^{2}$ of square summable sequences; the space $c_{0}$ of sequences tending to zero and the space $\\ell^{\\infty}$ of bounded sequences; the space $C(K)$ of continuous scalar functions on a compact\n",
        "Hausdorff space $K$, equipped with the max norm\n",
        "\n",
        "* Viele **Folgenräume $\\ell$** oder **Funktionenräume $L$** sind unendlichdimensionale Banachräume. Function Spaces $L$ are a type of infinite vector space. \n",
        "\n",
        "  * **Lp spaces are function spaces defined using a natural generalization of the p-norm for finite-dimensional vector spaces**. They are sometimes called Lebesgue spaces. Lp spaces form an important class of Banach spaces in functional analysis, and of topological vector spaces.\n",
        "\n",
        "  * Infinite-dimensional **vector spaces arise naturally in mathematical analysis, as function spaces**, whose vectors are functions. These vector spaces are generally endowed with additional structure, which may be a topology, allowing the consideration of issues of proximity and continuity. Among these topologies, those that are defined by a norm or inner product are more commonly used, as having a notion of distance between two vectors. This is particularly the case of Banach spaces and Hilbert spaces, which are fundamental in mathematical analysis."
      ]
    },
    {
      "cell_type": "markdown",
      "metadata": {
        "id": "qFvoziMo_NSM"
      },
      "source": [
        "#### **Hilbertraum**"
      ]
    },
    {
      "cell_type": "markdown",
      "metadata": {
        "id": "XhkALCD-_LXD"
      },
      "source": [
        "* Ein Banachraum, dessen Norm durch ein Skalarprodukt induziert ist, heißt **[Hilbertraum](https://de.wikipedia.org/wiki/Hilbertraum)**. (z.B. p2-Norm (Euklidische Norm). Lässt man die Bedingung der Vollständigkeit fallen, spricht man von einem Prähilbertraum.)\n",
        "\n",
        "  * Die Struktur eines Hilbertraums ist eindeutig festgelegt durch seine Hilbertraumdimension. Diese kann eine beliebige Kardinalzahl sein. Ist die Dimension endlich und betrachtet man als Körper die reellen Zahlen, so handelt es sich um einen euklidischen Raum.\n",
        "\n",
        "  * Hilberträume tragen durch ihr Skalarprodukt eine topologische Struktur. Dadurch sind hier im Gegensatz zu allgemeinen Vektorräumen Grenzwertprozesse möglich. "
      ]
    },
    {
      "cell_type": "markdown",
      "metadata": {
        "id": "uNK_XbmJ-v4D"
      },
      "source": [
        "#### **Frechet-Räume**"
      ]
    },
    {
      "cell_type": "markdown",
      "metadata": {
        "id": "Z3CcYe4h-BMp"
      },
      "source": [
        "* Es handelt sich um einen **topologischen Vektorraum** mit speziellen Eigenschaften, die ihn als **Verallgemeinerung des Banachraums** charakterisieren.\n",
        "\n",
        "* Die Hauptvertreter von [Fréchet-Spaces](https://de.m.wikipedia.org/wiki/Fréchet-Raum) sind Vektorräume von [glatten Funktionen](https://de.wikipedia.org/wiki/Glatte_Funktion). \n",
        "  * Eine glatte Funktion ist eine mathematische Funktion, die unendlich oft differenzierbar (insbesondere stetig) ist.\n",
        "\n",
        "* Diese Räume lassen sich zwar mit verschiedenen Normen ausstatten, **sind aber bezüglich keiner Norm vollständig**, also keine Banachräume. Man kann auf ihnen aber eine Topologie definieren, sodass viele Sätze, die in Banachräumen gelten, ihre Gültigkeit behalten."
      ]
    },
    {
      "cell_type": "markdown",
      "metadata": {
        "id": "AfvH5COhIpgM"
      },
      "source": [
        "#### **Sobolev-Raum**"
      ]
    },
    {
      "cell_type": "markdown",
      "metadata": {
        "id": "y3KMHPgCIs5e"
      },
      "source": [
        "* Ein [Sobolev-Raum](https://de.wikipedia.org/wiki/Sobolev-Raum), ist ein **Funktionenraum** von schwach differenzierbaren Funktionen, der **zugleich ein Banachraum ist.** \n",
        "\n",
        "* Sobolevräume sind ein grundlegendes Werkzeug bei der Behandlung von PDG (rein und angewandt).\n",
        "\n",
        "* Das Konzept wurde durch die systematische Theorie der Variationsrechnung zu Anfang des 20. Jahrhunderts wesentlich vorangetrieben. Diese minimiert Funktionale über Funktionen. Heute bilden Sobolev-Räume die Grundlage der Lösungstheorie partieller Differentialgleichungen."
      ]
    },
    {
      "cell_type": "markdown",
      "metadata": {
        "id": "n4mp5NAZ3lL-"
      },
      "source": [
        "#### **L<sup>p</sup>-Raum**"
      ]
    },
    {
      "cell_type": "markdown",
      "metadata": {
        "id": "x9KHXWLY3qxk"
      },
      "source": [
        "https://de.m.wikipedia.org/wiki/Lp-Raum"
      ]
    },
    {
      "cell_type": "markdown",
      "metadata": {
        "id": "YS9MF5krQw-y"
      },
      "source": [
        "#### **Uniform Spaces**"
      ]
    },
    {
      "cell_type": "markdown",
      "metadata": {
        "id": "HApl8WeCQvS_"
      },
      "source": [
        "* **Uniforme Räume erlauben es zwar nicht Abstände einzuführen**, aber trotzdem Begriffe wie gleichmäßige Stetigkeit, Cauchy-Folgen, Vollständigkeit und Vervollständigung zu definieren. Jeder uniforme Raum ist auch ein topologischer Raum. \n",
        "\n",
        "* **Jeder topologische Vektorraum (egal ob metrisierbar oder nicht) ist auch ein uniformer Raum**. Allgemeiner ist jede kommutative topologische Gruppe ein uniformer Raum. Eine nichtkommutative topologische Gruppe trägt jedoch zwei uniforme Strukturen, eine links-invariante und eine rechts-invariante. Topologische Vektorräume sind in endlichen Dimensionen vollständig, in unendlichen Dimensionen im Allgemeinen aber nicht.\n",
        "\n",
        "https://de.m.wikipedia.org/wiki/Uniformer_Raum"
      ]
    },
    {
      "cell_type": "markdown",
      "metadata": {
        "id": "1f3hd9w12Kqi"
      },
      "source": [
        "#### **Summary: From Norm to Norm Topology**"
      ]
    },
    {
      "cell_type": "markdown",
      "metadata": {
        "id": "QIrHsDg12uK6"
      },
      "source": [
        "Eine [Normtopologie](https://de.m.wikipedia.org/wiki/Normtopologie) ist eine Topologie auf einem normierten Vektorraum, die durch die Norm des Vektorraums induziert wurde."
      ]
    },
    {
      "cell_type": "markdown",
      "metadata": {
        "id": "VdbhSogUTX9R"
      },
      "source": [
        "1. Ist $(V,\\|\\cdot\\|)$ ein normierter Vektorraum, so induziert die Norm des Raums durch Differenzenbildung zweier Vektoren $x, y \\in V$ eine Metrik\n",
        "$\n",
        "d(x, y):=\\|x-y\\| .\n",
        "$\n",
        "auf $V$. Mit dieser Metrik wird der Vektorraum zu einem metrischen Raum $(V, d)$. \n",
        "\n",
        "2. Eine Metrik kann nun verwendet werden, um eine $\\varepsilon$ -Umgebung um einen Vektor $x \\in V$ durch\n",
        "$\n",
        "U_{\\varepsilon}(x):=\\{y \\in V, d(x, y)<\\varepsilon\\}\n",
        "$\n",
        "zu definieren. Damit heißt dann eine Teilmenge $M \\subset V$ offen, falls\n",
        "$\n",
        "\\forall x \\in M \\exists \\varepsilon>0: U_{\\varepsilon}(x) \\subset M\n",
        "$\n",
        "gilt. Über diese offenen Mengen induziert die Metrik nun auf $V$ eine Topologie\n",
        "$\n",
        "\\mathcal{T}:=\\{M \\subset V, M \\text { offen }\\}\n",
        "$.\n",
        "\n",
        "3. Mit dieser Topologie wird der Vektorraum zu einem topologischen Vektorraum ($\\mathcal {V}$ , $\\mathcal {T}$) und diese letztendlich von der Norm induzierte Topologie heißt Normtopologie."
      ]
    },
    {
      "cell_type": "markdown",
      "metadata": {
        "id": "69ctNRHBvHbg"
      },
      "source": [
        "Topologischer Raum |  | dazugehörige Struktur\n",
        "--- | --- | ---\n",
        "[Euklidischer Raum](https://de.m.wikipedia.org/wiki/Euklidischer_Raum) | hat | Skalarprodukt\n",
        "[Normierter Raum](https://de.m.wikipedia.org/wiki/Normierter_Raum) | hat | Norm\n",
        "[Metrischer Raum](https://de.m.wikipedia.org/wiki/Metrischer_Raum) | hat | Metrik\n",
        "[Uniformer Raum](https://de.m.wikipedia.org/wiki/Uniformer_Raum) | hat | Uniforme Struktur\n",
        "[Topologischer Raum](https://de.m.wikipedia.org/wiki/Topologischer_Raum) | hat | Topologie"
      ]
    },
    {
      "cell_type": "markdown",
      "metadata": {
        "id": "Ze2qB8fEjkSP"
      },
      "source": [
        "https://de.m.wikipedia.org/wiki/Norm_(Mathematik)#Normierte_Räume"
      ]
    },
    {
      "cell_type": "markdown",
      "metadata": {
        "id": "mEWNHFTs3MuK"
      },
      "source": [
        "![xxx](https://upload.wikimedia.org/wikipedia/commons/thumb/a/a2/Beziehungen_zwischen_mathematischen_Räumen.svg/220px-Beziehungen_zwischen_mathematischen_Räumen.svg.png)"
      ]
    },
    {
      "cell_type": "markdown",
      "metadata": {
        "id": "cvQVBTIz3Af2"
      },
      "source": [
        "*Beziehungen zwischen Norm, Metrik und Topologie*"
      ]
    },
    {
      "cell_type": "markdown",
      "metadata": {
        "id": "fdqbIVwZrhhX"
      },
      "source": [
        "**Be careful**: A [vector space](https://en.m.wikipedia.org/wiki/Vector_space) is an [algebraic structure](https://en.m.wikipedia.org/wiki/Outline_of_algebraic_structures), meanwhile a [normed vector space](https://en.m.wikipedia.org/wiki/Normed_vector_space) is a type of [abstract (topological) space](https://en.m.wikipedia.org/wiki/Space_(mathematics)#Taxonomy_of_spaces) (a normed vector space is a vector space over the real or complex numbers, on which a norm is defined)."
      ]
    },
    {
      "cell_type": "markdown",
      "metadata": {
        "id": "Fx8aeY4qt-I4"
      },
      "source": [
        "https://en.m.wikipedia.org/wiki/Topological_vector_space"
      ]
    },
    {
      "cell_type": "markdown",
      "metadata": {
        "id": "yqbQ5Z6RvAyF"
      },
      "source": [
        "**Differentiations**"
      ]
    },
    {
      "cell_type": "markdown",
      "metadata": {
        "id": "EX3MWnkavJSo"
      },
      "source": [
        "Quelle: [Einordnung in die Hierarchie mathematischer Strukturen](https://de.m.wikipedia.org/wiki/Metrischer_Raum#Einordnung_in_die_Hierarchie_mathematischer_Strukturen) sowie [Topologische Räume](https://de.m.wikipedia.org/wiki/Topologischer_Raum#Beispiele)"
      ]
    },
    {
      "cell_type": "markdown",
      "metadata": {
        "id": "z7g61tVkvMXM"
      },
      "source": [
        "![alternativer Text](https://upload.wikimedia.org/wikipedia/commons/thumb/d/dc/Mathematical_implication_diagram-alt-large-print.svg/640px-Mathematical_implication_diagram-alt-large-print.svg.png)"
      ]
    },
    {
      "cell_type": "markdown",
      "metadata": {
        "id": "KgAkdiOavOOH"
      },
      "source": [
        "Quelle: [Overview of types of abstract spaces](https://en.m.wikipedia.org/wiki/Space_(mathematics))"
      ]
    },
    {
      "cell_type": "markdown",
      "metadata": {
        "id": "zOwDmSKjvQHz"
      },
      "source": [
        "Topologische Räume können weiter [klassifiziert werden nach Kolmogorov](https://en.m.wikipedia.org/wiki/History_of_the_separation_axioms)."
      ]
    },
    {
      "cell_type": "markdown",
      "metadata": {
        "id": "qYW5u_0Oi7l5"
      },
      "source": [
        "## **Inner Product Space**"
      ]
    },
    {
      "cell_type": "markdown",
      "metadata": {
        "id": "cWHItjSFIB5K"
      },
      "source": [
        "**Inner Product (Skalarprodukt / inneres Produkt / Produktpunkt)**"
      ]
    },
    {
      "cell_type": "markdown",
      "metadata": {
        "id": "A-3TsP_aDsFR"
      },
      "source": [
        "> **Das innere Produkt stellt quasi eine Geometrie im Vektorraum her, wir können dadurch definieren, welche Vektoren orthogonal, und welche parallel zueinander sind.**\n",
        "\n",
        "* **Das Skalarprodukt benötigt man**, um die Lange von Vektoren zu berechnen, den Winkel zwischen Vektoren zu berechnen (uber Cosinus von Alpha) und ob zwei Vektoren senkrecht zueinander stehen.\n",
        "\n",
        "* Das **Dot Product / Scalar Product / [Skalarprodukt](https://de.wikipedia.org/wiki/Skalarprodukt)** (auch inneres Produkt oder Punktprodukt) ist eine [mathematische Verknüpfung](https://de.wikipedia.org/wiki/Verknüpfung_(Mathematik)), die zwei Vektoren eine Zahl (Skalar) zuordnet. \n",
        "\n",
        "* Geometrisch berechnet man das Skalarprodukt zweier Vektoren $\\vec{a}$ und $\\vec{b}$ nach der Formel:\n",
        "\n",
        "> $\n",
        "\\vec{a} \\cdot \\vec{b}=|\\vec{a}||\\vec{b}| \\cos \\alpha(\\vec{a}, \\vec{b})\n",
        "$\n",
        "\n",
        "* Null, wenn sie senkrecht zueinander stehen, und maximal, wenn sie die gleiche Richtung haben.\n",
        "\n",
        "* **A common special case of the inner product is the scalar product or dot product, is written with a centered dot a ⋅ b.**\n",
        "\n",
        "* In [Inner product spaces](https://en.m.wikipedia.org/wiki/Inner_product_space) the inner product is the dot product, also known as the scalar product. (They generalize Euclidean spaces to vector spaces of any (possibly infinite) dimension.)\n",
        "\n",
        "* Ist das Skalarprodukt von zwei Vektoren $\n",
        "\\vec{a} \\cdot \\vec{b}= 0$, dann folgt daraus, dass diese orthogonal zueinander stehen.\n",
        "\n",
        "* Examples:\n",
        "\n",
        "  * A simple example is the real numbers $\\mathbb{R}$ with the standard multiplication as the inner product $\\langle x, y\\rangle:=x y$"
      ]
    },
    {
      "cell_type": "markdown",
      "metadata": {
        "id": "ni2T7njZIGAc"
      },
      "source": [
        "**Inner Product Space**"
      ]
    },
    {
      "cell_type": "markdown",
      "metadata": {
        "id": "iyW3AAhLNlya"
      },
      "source": [
        "Formally, an inner product space is a vector space $V$ over the field $\\mathbb{F}$ together with a map\n",
        "\n",
        "$\n",
        "\\langle\\cdot, \\cdot\\rangle: V \\times V \\rightarrow \\mathbb{F}\n",
        "$\n",
        "\n",
        "called an inner product that satisfies the following conditions $(1),(2),$ and $(3)$ for all vectors $x, y, z \\in V$ and all scalars $a \\in \\mathbb{F}:$ [see here](https://en.m.wikipedia.org/wiki/Inner_product_space)"
      ]
    },
    {
      "cell_type": "markdown",
      "metadata": {
        "id": "gtcOpkYQjFKx"
      },
      "source": [
        "* Der **[Inner Product Space](https://en.m.wikipedia.org/wiki/Inner_product_space)** (Prähilbertraum bzw. Skalarprodukt) ist ein **Vektorraum**, auf dem ein **inneres Produkt definiert ist**. \n",
        "\n",
        "* An [inner product space](https://en.m.wikipedia.org/wiki/Inner_product_space) is a normed space, **where the norm of a vector is the square root of the inner product of the vector by itself**: $\\sqrt{\\vec{x} \\cdot \\vec{x}} = \\sqrt{{x}^{2}}$\n",
        "\n",
        "* [Inner product spaces](https://en.m.wikipedia.org/wiki/Inner_product_space) generalize **Euclidean spaces (in which the inner product is the dot product, also known as the scalar product**) to vector spaces of any (possibly infinite) dimension.\n",
        "\n",
        "* In linear algebra, **an inner product space is a vector space with an additional structure called an inner product**. This additional structure associates each pair of vectors in the space with a scalar quantity known as the inner product of the vectors. Geometric interpretation of the angle between two vectors defined using an inner product.\n",
        "\n",
        "> **Inner products allow the rigorous introduction of intuitive geometrical notions such as the length of a vector or the angle between two vectors**. They also provide the means of defining orthogonality between vectors (**zero inner product**). \n",
        "\n",
        "* **Inner product spaces generalize Euclidean spaces** (in which the inner product is the **dot product**, also known as the scalar product) to vector spaces of any (possibly infinite) dimension, and are studied in functional analysis. \n",
        "\n",
        "> An inner product **naturally induces an associated norm**, (|x| and |y| are the norms of x and y, in the picture) thus an inner product space is also a normed vector space. A complete space with an inner product is called a Hilbert space. \n",
        "\n",
        "* An (incomplete) space with an inner product is called a pre-Hilbert space, since its completion with respect to the norm induced by the inner product is a Hilbert space. Inner product spaces over the field of complex numbers are sometimes referred to as unitary spaces."
      ]
    },
    {
      "cell_type": "markdown",
      "metadata": {
        "id": "2RQe4cYsguhp"
      },
      "source": [
        "https://de.wikipedia.org/wiki/Euklidischer_Raum"
      ]
    },
    {
      "cell_type": "markdown",
      "metadata": {
        "id": "_Syw4dL96u31"
      },
      "source": [
        "## **Normed Vector Space**"
      ]
    },
    {
      "cell_type": "markdown",
      "metadata": {
        "id": "GCXP396NF0kv"
      },
      "source": [
        "#### **Norm**"
      ]
    },
    {
      "cell_type": "markdown",
      "metadata": {
        "id": "mhAD7kvd3uuL"
      },
      "source": [
        "> **Eine Norm gibt die Größe eines Elements in einem Vektorraum an.**\n",
        "\n",
        "* Eine Norm kann aus einem inneren Produkt abgeleitet werden, muss aber nicht.\n",
        "\n",
        "Eine **[Norm](https://de.wikipedia.org/wiki/Norm_(Mathematik)) $\\|\\cdot\\|$ ist eine Abbildung**, welche einem Element des Vektorraums eine **nicht-negative reelle Zahl** zuordnet und folgende Eigenschaften besitzt. \n",
        "\n",
        "Eine Norm ist eine Abbildung/Funktion von einem reellen oder komplexen Vektorraum V in die positiven reellen Zahlen $\\mathbb{R}^{\\geq \\ 0 }$. [Source](https://www.mathematik.de/algebra/187-erste-hilfe/algebra/vektorräume/2422-norm,-metrik-und-skalarprodukt-im-vektorraum)\n",
        "\n",
        "$\\|\\cdot\\|: V \\rightarrow \\mathbb{R}_{0}^{+}$ ist eine Norm, wenn für alle $x, y$ aus dem $\\mathbb{K}$ Vektorraum und alle $\\lambda$ aus $\\mathbb{K}$ gilt:\n",
        "\n",
        "1. **[Definitheit](https://de.m.wikipedia.org/wiki/Definitheit)**: \n",
        "  * It is **nonnegative**, that is for every vector x, one has ‖x‖ ≥ 0. AND \n",
        "  * It is **positive on nonzero vectors**, that is, ‖x‖ = 0 ⟺ x = 0.\n",
        "\n",
        "2. **[Absolute Homogenität](https://de.m.wikipedia.org/wiki/Homogene_Funktion)**: For every vector x, and every **scalar α**, one has ‖ α x ‖ = | α | ‖ x ‖.\n",
        "\n",
        "3. **[Subadditivität, Dreiecksungleichung](https://de.m.wikipedia.org/wiki/Additive_Funktion#Sub-_und_Superadditivität)**: for every vectors x and y, one has ‖ x+y ‖ ≤ ‖ x ‖ + ‖ y ‖.\n",
        "\n",
        "A norm is the generalization to real vector spaces of the intuitive notion of \"length\" in the real world.\n",
        "\n",
        "Eine Norm kann (muss aber nicht) von einem [Skalarprodukt](https://de.wikipedia.org/wiki/Skalarprodukt) abgeleitet werden (eine sogenannte ['Skalarproduktnorm'](https://de.m.wikipedia.org/wiki/Skalarproduktnorm)). In diesem Fall is **the norm of a vector the square root of the inner product of the vector by itself**. \n",
        "\n",
        "Das gleiche gilt fur Metriken: Jede Norm induziert eine Metrik, aber nicht jede Metrik wird durch eine Norm induziert.\n",
        "\n",
        "> An inner product **naturally induces an associated norm**, (|x| and |y| are the norms of x and y, in the picture) thus an inner product space is also a normed vector space. A complete space with an inner product is called a Hilbert space.\n",
        "\n",
        "> **Distance & Metric: A norm induces a distance by the formula d (x,y) = ‖ y-x ‖.**"
      ]
    },
    {
      "cell_type": "markdown",
      "metadata": {
        "id": "ODRYMRLBEiXy"
      },
      "source": [
        "**Halbnorm**"
      ]
    },
    {
      "cell_type": "markdown",
      "metadata": {
        "id": "-S0X3B0bE6_6"
      },
      "source": [
        "* die Halbnorm (oder unter einer Seminorm) ist ein Funktional, das sowohl absolut homogen als auch subadditiv ist.\n",
        "\n",
        "* Mit dem Konzept der Halbnorm wird das Konzept der Norm verallgemeinert, **indem auf die Eigenschaft der positiven Definitheit verzichtet wird**. \n",
        "\n",
        "* Jede Halbnorm ist nichtnegativ, symmetrisch bezüglich Vorzeichenumkehr, sublinear und konvex. \n",
        "\n",
        "* Aus jeder Halbnorm kann durch Restklassenbildung eine zugehörige Norm abgeleitet werden. \n",
        "\n",
        "* Mit Hilfe von Familien von Halbnormen können auch lokalkonvexe Vektorräume definiert werden. Halbnormen werden insbesondere in der linearen Algebra und in der Funktionalanalysis studiert. Eng verwandt mit dem Konzept der Halbnorm ist das Konzept des Minkowski-Funktionals.\n",
        "\n",
        "Sei $V$ ein Vektorraum über dem Kōrper $\\mathbb{K} \\in\\{\\mathbb{R}, \\mathbb{C}\\}$. Eine Halbnorm auf $V$ ist eine Abbildung $p: V \\rightarrow \\mathbb{R}_{0}^{+}$ mit den Eigenschaften **absolute Homogenität und Subadditivität**,  das heißt fur alle $\\lambda \\in \\mathbb{K}$ und für alle $x, y \\in V$ qelten $p(\\lambda x)=|\\lambda| p(x) \\quad$ (absolute Homogenitãt) und $ p(x+y) \\leq p(x)+p(y) \\quad \\text { (Subadditivität), }$ wobei | : | den Betrag des Skalars darstelit. Ein Vektorraum zusammen mit einer Halbnorm heißt halbnormierter Raum $(V, p)$\n",
        "\n",
        "Beispiele: \n",
        "\n",
        "* Jede Norm ist eine Halbnorm, die zudem auch positiv definit ist.\n",
        "\n",
        "* Die Nullfunktion $p\\equiv 0$, die jedes Element des Vektorraums auf Null abbildet, ist eine Halbnorm."
      ]
    },
    {
      "cell_type": "markdown",
      "metadata": {
        "id": "IQIA_wHKF7Ag"
      },
      "source": [
        "![xxx](https://upload.wikimedia.org/wikipedia/commons/thumb/7/72/Seminorm_qtl1.svg/440px-Seminorm_qtl1.svg.png)\n",
        "\n",
        "*Die Funktion $p(x, y)=|x-y|$ ist eine Halbnorm im Raum $\\mathbb{R}^{2}$*"
      ]
    },
    {
      "cell_type": "markdown",
      "metadata": {
        "id": "GnkKgag1Em4c"
      },
      "source": [
        "https://de.wikipedia.org/wiki/Halbnorm"
      ]
    },
    {
      "cell_type": "markdown",
      "metadata": {
        "id": "7a5FB39zFXSB"
      },
      "source": [
        "**Minkowski-Funktional**"
      ]
    },
    {
      "cell_type": "markdown",
      "metadata": {
        "id": "o4T_37ruFaG2"
      },
      "source": [
        "* das Minkowski-Funktional, oft auch Eichfunktional genannt, ist eine Verallgemeinerung des Normbegriffes."
      ]
    },
    {
      "cell_type": "markdown",
      "metadata": {
        "id": "RwhQtcIgFV1J"
      },
      "source": [
        "https://de.wikipedia.org/wiki/Minkowski-Funktional"
      ]
    },
    {
      "cell_type": "markdown",
      "metadata": {
        "id": "ifQwelOJdlPO"
      },
      "source": [
        "#### **Normen auf endlichdimensionalen Vektorräumen**"
      ]
    },
    {
      "cell_type": "markdown",
      "metadata": {
        "id": "qygj95-xb7Eu"
      },
      "source": [
        "**Zahlnormen (z.B. Betragsnorm)**\n",
        "\n",
        "* Beispiel fur eine [Zahlnorm](https://de.m.wikipedia.org/wiki/Norm_(Mathematik)#Zahlnormen) ist die [Betragsnorm](https://de.m.wikipedia.org/wiki/Betragsfunktion)\n",
        "* Der Betrag einer reellen Zahl $z \\in \\mathbb{R}$ ist ein einfaches Beispiel für eine Norm. \n",
        "\n",
        "* Man erhält die Retragsnorm durch Weglassen des Vorzeichens der Zahl, also\n",
        "\n",
        "> $\n",
        "\\|z\\|=|z|=\\sqrt{z^{2}}=\\left\\{\\begin{array}{cl}\n",
        "z & \\text { für } z \\geq 0 \\\\\n",
        "-z & \\text { für } z<0 .\n",
        "\\end{array}\\right.$\n",
        "\n",
        "* Die Betragsnorm ist induziert vom Standardskalarprodukt zweier reeller bzw. komplexen Zahlen\n",
        "\n",
        "> $\\langle w, z\\rangle=w \\cdot z$ für $w, z \\in \\mathbb{R}$ bzw. $\\langle w, z\\rangle=w \\cdot \\bar{z}$ für $w, z \\in \\mathbb{C}$\n",
        "\n",
        "* Die Betragsfunktion erfüllt die drei Normaxiome Definitheit, absolute Homogenität und Subadditivität und ist damit eine Norm, genannt Betragsnorm, auf dem Vektorraum der reellen oder komplexen Zahlen. "
      ]
    },
    {
      "cell_type": "markdown",
      "metadata": {
        "id": "GxfyGnZ1b2md"
      },
      "source": [
        "**Matrixnorm**\n",
        "\n",
        "https://de.m.wikipedia.org/wiki/Norm_(Mathematik)#Matrixnormen\n",
        "\n",
        "https://de.m.wikipedia.org/wiki/Matrixnorm"
      ]
    },
    {
      "cell_type": "markdown",
      "metadata": {
        "id": "BbWvef0ICoOU"
      },
      "source": [
        "**Vektornormen (z.B. p-Normen)**"
      ]
    },
    {
      "cell_type": "markdown",
      "metadata": {
        "id": "6b38PYiNL6LO"
      },
      "source": [
        "* Die $p$ -Normen sind in der Mathematik eine Klasse von Vektornormen, die für reelle Zahlen $p \\geq 1$ definiert sind. \n",
        "\n",
        "* Die $p$ -Norm eines reellen oder komplexen Vektors $x=\\left(x_{1}, \\ldots, x_{n}\\right) \\in \\mathbb{K}^{n}$ mit $\\mathbb{K}=\\mathbb{R}$ oder $\\mathbb{K}=\\mathbb{C}$ ist für reelles\n",
        "$1 \\leq p<\\infty$ definiert durch:\n",
        "\n",
        "> **$\\|x\\|_{p}:=\\left(\\sum_{i=1}^{n}\\left|x_{i}\\right|^{p}\\right)^{1 / p}$**\n",
        "\n",
        "* **Wichtige Spezialfälle sind dabei die Summennorm $(p=1)$, die euklidische Norm $(p=2)$ und als Grenzwert für $p \\rightarrow \\infty$ die Maximumsnorm.**\n",
        "\n",
        "* Alle $p$ -Normen sind zueinander aquivalent, für wachsendes $p$ monoton fallend und erfüllen die Minkowski-Ungleichung sowie die Hölder-Ungleichung. Die Mengen konstanter $p$ -Norm (Einheitssphären) besitzen allgemein die Form von Superellipsoiden oder Subellipsoiden. \n",
        "\n",
        "* Die $p$ -Normen bilden den Grundbaustein für Normen weiterer mathematischer Objekte, wie Folgen, Funktionen, Matrizen und Operatoren.\n",
        "\n",
        "For all p ≥ 1, the p-norms and maximum norm as defined above indeed satisfy the properties of a \"**length function**\" (or norm), which are that:\n",
        "\n",
        "1. only the zero vector has zero length,\n",
        "\n",
        "2. lhe length of the vector is positive homogeneous with respect to multiplication by a scalar (positive homogeneity), and\n",
        "\n",
        "3. the length of the sum of two vectors is no larger than the sum of lengths of the vectors (triangle inequality).\n",
        "\n",
        "Abstractly speaking, this means that **$\\mathbb{R}$<sup>n</sup> together with the p-norm is a [Banach space](https://de.wikipedia.org/wiki/Banachraum) = ein vollständiger normierter Vektorraum**. This Banach space is the Lp-space over Rn. \n",
        "\n",
        "**Any normed vector space is a metric space** by defining d(x, y) = ‖ y - x ‖, see also metrics on vector spaces. (If such a space is complete, we call it a Banach space.) "
      ]
    },
    {
      "cell_type": "markdown",
      "metadata": {
        "id": "yMXH_RxXRDkr"
      },
      "source": [
        "![alternativer Text](https://upload.wikimedia.org/wikipedia/commons/thumb/d/d4/Vector-p-Norms_qtl1.svg/480px-Vector-p-Norms_qtl1.svg.png)\n",
        "\n",
        "*Illustrations of unit circles (see also superellipse) in different p-norms (**every vector from the origin to the unit circle has a length of one**, the length being calculated with length-formula of the corresponding p).*"
      ]
    },
    {
      "cell_type": "markdown",
      "metadata": {
        "id": "qYyGrBGJiGny"
      },
      "source": [
        "https://de.wikipedia.org/wiki/Banachraum"
      ]
    },
    {
      "cell_type": "markdown",
      "metadata": {
        "id": "I3Dm5x99DH4f"
      },
      "source": [
        "https://de.wikipedia.org/wiki/Norm_(Mathematik)#Vektornormen"
      ]
    },
    {
      "cell_type": "markdown",
      "metadata": {
        "id": "2nYiTfHqDKAw"
      },
      "source": [
        "https://de.wikipedia.org/wiki/Norm_(Mathematik)#p-Normen"
      ]
    },
    {
      "cell_type": "markdown",
      "metadata": {
        "id": "GeSMyh0-FK2I"
      },
      "source": [
        "https://de.m.wikipedia.org/wiki/P-Norm"
      ]
    },
    {
      "cell_type": "markdown",
      "metadata": {
        "id": "OQlHR9FKyapX"
      },
      "source": [
        "https://de.m.wikipedia.org/wiki/Norm_(Mathematik)#Vektornormen"
      ]
    },
    {
      "cell_type": "markdown",
      "metadata": {
        "id": "1k-wmgpkP8lv"
      },
      "source": [
        "**Spezialfall p1-Norm (Summennorm)**"
      ]
    },
    {
      "cell_type": "markdown",
      "metadata": {
        "id": "AqKbtCMiB61r"
      },
      "source": [
        "> $\\|x\\|_{1}=\\sum_{i=1}^{n}\\left|x_{i}\\right|$"
      ]
    },
    {
      "cell_type": "markdown",
      "metadata": {
        "id": "Q4dl2ZASP_kc"
      },
      "source": [
        "* Summennorm, Betragssummennorm oder 1-Norm ist in der Mathematik eine **Vektornorm**. Sie ist definiert als die Summe der Beträge der Vektorkomponenten und ist eine spezielle p-Norm für die Wahl von p=1.\n",
        "\n",
        "* **Die Summennorm benutzt man zB wenn man nicht jeden Weg im Raum gehen kann**, also zB Taxis in Manhattan koennen sich nur in senkrechten und waagerechten Abschnitten bewegen (daher auch Manhattan-Metrik oder Taxi-Metrik, da sie den Abstand zweier Punkte wie die Fahrtstrecke auf einem gitterförmigen Stadtplan misst).\n",
        "\n",
        "* Die Einheitssphäre der reellen Summennorm ist ein Kreuzpolytop mit minimalem Volumen über alle p-Normen. **Daher ergibt die Summennorm für einen gegebenen Vektor den größten Wert aller p-Normen**. (zB 3 + (-2) + 6 = 11 in Summennorm, aber = 7 in euklidischer Norm fur p=2)\n",
        "\n",
        "* Die von der Summennorm abgeleitete Metrik ist die Manhattan-Metrik / Taxi Metrik (also die Distance zwischen zwei Punkten)\n",
        "\n",
        "* Die Summennorm ist im Gegensatz zur euklidischen Norm (2-Norm) **nicht von einem Skalarprodukt induziert.**\n",
        "\n",
        "* Die von der Summennorm [induzierte Matrixnorm](https://de.m.wikipedia.org/wiki/Natürliche_Matrixnorm) ist die [Spaltensummennorm](https://de.m.wikipedia.org/wiki/Spaltensummennorm).\n",
        "\n",
        "* Techniques which use an L1 penalty, like LASSO, encourage solutions where many parameters are zero. \n",
        "\n",
        "* The Manhattan norm gives rise to the Manhattan distance, where the distance between any two points, or vectors, is the sum of the differences between corresponding coordinates.\n",
        "\n",
        "* https://en.m.wikipedia.org/wiki/Taxicab_geometry\n",
        "\n",
        "* https://en.m.wikipedia.org/wiki/Lasso_(statistics)"
      ]
    },
    {
      "cell_type": "markdown",
      "metadata": {
        "id": "5v2FUVhEND-B"
      },
      "source": [
        "![alternativer Text](https://upload.wikimedia.org/wikipedia/commons/thumb/d/d9/Euclid_Octahedron_3.svg/240px-Euclid_Octahedron_3.svg.png)"
      ]
    },
    {
      "cell_type": "markdown",
      "metadata": {
        "id": "69gd5KqRNHzc"
      },
      "source": [
        "*Kreuzpolytop: Der Einheitssphäre der Summennorm ist in drei Dimensionen ein Oktaeder*"
      ]
    },
    {
      "cell_type": "markdown",
      "metadata": {
        "id": "f4MyKCvxQKCl"
      },
      "source": [
        "**Beispiel (reeller Vektor):**\n",
        "\n",
        "Die Summennorm des reellen Vektors $x=(3,-2,6) \\in \\mathbb{R}^{3}$ ist gegeben als\n",
        "\n",
        "$\\|x\\|_{1}=|3|+|-2|+|6|=11$"
      ]
    },
    {
      "cell_type": "markdown",
      "metadata": {
        "id": "HQOMzI3RBEU2"
      },
      "source": [
        "https://de.m.wikipedia.org/wiki/Summennorm"
      ]
    },
    {
      "cell_type": "markdown",
      "metadata": {
        "id": "SHXnaFUeQBL6"
      },
      "source": [
        "**Spezialfall p2-Norm (Euklidische Norm)**"
      ]
    },
    {
      "cell_type": "markdown",
      "metadata": {
        "id": "O3yL08xkQGbj"
      },
      "source": [
        "* Die euklidische Norm, Standardnorm oder 2-Norm ist eine in der Mathematik häufig verwendete Vektornorm. \n",
        "\n",
        "* Im zwei- und dreidimensionalen euklidischen Raum **entspricht die euklidische Norm der anschaulichen Länge (oder dem Betrag) eines Vektors** und kann mit dem Satz des Pythagoras berechnet werden. \n",
        "\n",
        "* Die euklidische Norm ist eine **von einem Skalarprodukt induzierte Norm** (im Ggs zur p1-Norm). Siehe: https://de.m.wikipedia.org/wiki/Skalarproduktnorm (In einem endlichdimensionalen reellen oder komplexen Vektorraum mit dem Standardskalarprodukt entspricht die Skalarproduktnorm gerade der euklidischen Norm.)\n",
        "\n",
        "* Techniques which use an L2 penalty, like ridge regression, encourage solutions where most parameter values are small.\n",
        "\n",
        "* Exkurs: [Elastic Net](https://en.m.wikipedia.org/wiki/Elastic_net_regularization) regularization uses a penalty term that is a combination of the L1 norm and the L2 norm of the parameter vector.\n",
        "\n",
        "* The length of a vector x = (x1, x2, ..., xn) in the n-dimensional real vector space Rn is usually given by the **Euclidean norm**:\n",
        "\n",
        "> $\\|x\\|_{2}=\\left(x_{1}^{2}+x_{2}^{2}+\\cdots+x_{n}^{2}\\right)^{1 / 2}$"
      ]
    },
    {
      "cell_type": "markdown",
      "metadata": {
        "id": "eSVhAEwxB_hW"
      },
      "source": [
        "> $\\|x\\|_{2}=\\sqrt{\\sum_{i=1}^{n}\\left|x_{i}\\right|^{2}}$"
      ]
    },
    {
      "cell_type": "markdown",
      "metadata": {
        "id": "H4u2sHf11vdf"
      },
      "source": [
        "Die Euclidean Norm besitzt als eine von einem Skalarprodukt [induzierte Norm](https://de.m.wikipedia.org/wiki/Skalarproduktnorm) **neben den [drei Normaxiomen](https://de.m.wikipedia.org/wiki/Norm_(Mathematik)#Definition) eine Reihe weiterer Eigenschaften**:\n",
        "\n",
        "* die Gültigkeit der [Cauchy-Schwarz-Ungleichung](https://de.m.wikipedia.org/wiki/Cauchy-Schwarzsche_Ungleichung)\n",
        "* der [Parallelogrammgleichung](https://de.m.wikipedia.org/wiki/Parallelogrammgleichung)\n",
        "* sowie eine Invarianz unter unitären Transformationen (Die euklidische Norm ändert sich also unter unitären Transformationen nicht. Für reelle Vektoren sind solche Transformationen beispielsweise Drehungen des Vektors um den Nullpunkt. Diese Eigenschaft wird zum Beispiel bei der numerischen Lösung linearer Ausgleichsprobleme über die **Methode der kleinsten Quadrate mittels QR-Zerlegungen genutzt**.)\n",
        "\n",
        "Für orthogonale Vektoren erfüllt die euklidische Norm selbst eine allgemeinere Form des Satzes des Pythagoras."
      ]
    },
    {
      "cell_type": "markdown",
      "metadata": {
        "id": "lbyU4goN2tS_"
      },
      "source": [
        "* Von der euklidischen Norm werden Begriffe wie der euklidische Abstand und die euklidische Topologie abgeleitet. \n",
        "\n",
        "* Sie **kann auf unendlichdimensionale Vektorräume verallgemeinert werden**, beispielsweise auf **Folgenräume durch die ℓ2-Norm** und auf **Funktionenräume durch die [L2-Norm](https://de.m.wikipedia.org/wiki/Lp-Raum#Der_Hilbertraum_L2) (Hilbertraum L2)**.\n",
        "\n",
        "* Sieht man eine Matrix mit reellen oder komplexen Einträgen als entsprechend langen Vektor an, so kann die euklidische Norm auch für Matrizen definiert werden und heißt dann [**Frobeniusnorm**](https://de.m.wikipedia.org/wiki/Frobeniusnorm). Die euklidische Norm kann auch auf unendlichdimensionale Vektorräume über den reellen oder komplexen Zahlen verallgemeinert werden und hat dann zum Teil eigene Namen."
      ]
    },
    {
      "cell_type": "markdown",
      "metadata": {
        "id": "r6av7qXO0_rf"
      },
      "source": [
        "https://de.m.wikipedia.org/wiki/Euklidische_Norm"
      ]
    },
    {
      "cell_type": "markdown",
      "metadata": {
        "id": "ewZ2VXEjESYA"
      },
      "source": [
        "See also: https://en.m.wikipedia.org/wiki/Non-Euclidean_geometry"
      ]
    },
    {
      "cell_type": "markdown",
      "metadata": {
        "id": "xU32us9ZQouN"
      },
      "source": [
        "**Spezialfall p∞-Norm (Maximumsnorm bzw. Unendlich-Norm)**"
      ]
    },
    {
      "cell_type": "markdown",
      "metadata": {
        "id": "dwl3Y9ZtTUDj"
      },
      "source": [
        "* Die Maximumsnorm, Maximumnorm oder Tschebyschew-Norm ist eine spezielle Norm für Funktionen beziehungsweise für Vektoren oder Matrizen. Sie ist ein Spezialfall der [Supremumsnorm](https://de.m.wikipedia.org/wiki/Supremumsnorm).\n",
        "\n",
        "* Anschaulich gesprochen ist **der aus der Maximumsnorm abgeleitete Abstand immer dann relevant, wenn man sich in einem mehrdimensionalen Raum in alle Dimensionen gleichzeitig und unabhängig voneinander gleich schnell bewegen kann**. (zB Rochade beim Schach)\n",
        "\n",
        "* Allgemeiner kann die Maximumsnorm benutzt werden, um zu bestimmen, wie schnell man sich in einem zwei- oder dreidimensionalen Raum bewegen kann, wenn angenommen wird, dass die Bewegungen in x-, y- (und z-)Richtung unabhängig, gleichzeitig und mit gleicher Geschwindigkeit erfolgen.\n",
        "\n",
        "\n",
        "* Noch allgemeiner kann man ein System betrachten, dessen Zustand durch n unabhängige Parameter bestimmt wird. An allen Parametern können gleichzeitig und ohne gegenseitige Beeinflussung Änderungen vorgenommen werden. **Dann „misst“ die Maximumsnorm in Rn die Zeit, die man benötigt, um das System von einem Zustand in einen anderen zu überführen**. Voraussetzung hierfür ist allerdings, dass man die Parameter so normiert hat, dass gleiche Abstände zwischen den Werten auch gleichen Änderungszeiten entsprechen. Andernfalls müsste man eine gewichtete Version der Maximumsnorm verwenden, die die unterschiedlichen Änderungsgeschwindigkeiten der Parameter berücksichtigt.\n"
      ]
    },
    {
      "cell_type": "markdown",
      "metadata": {
        "id": "Y3CFgJHJVYZO"
      },
      "source": [
        "Für einen Vektor $x=\\left(x_{1}, \\ldots, x_{n}\\right) \\in \\mathbb{R}^{n}$ nennt man\n",
        "\n",
        "> $\\|x\\|_{\\max }:=\\max \\left(\\left|x_{1}\\right|, \\ldots,\\left|x_{n}\\right|\\right)$ \n",
        "\n",
        "die Maximumsnorm von x. \n",
        "\n",
        "* Die **Maximumsnorm kann auch als Grenzfall der $p$ -Normen** $\\|x\\|_{p}:=\\left(\\sum_{i=1}^{n}\\left|x_{i}\\right|^{p}\\right)^{1 / p}$ aufgefasst werden. Lässt man $p$ gegen unendlich laufen, so erhält man\n",
        "aus der $p$ -Norm die Maximumsnorm.\n",
        "\n",
        "* **Aus diesem Grund wird die Maximumsnorm für Vektoren auch als $\\infty$ -Norm (Unendlich-Norm) bezeichnet.**"
      ]
    },
    {
      "cell_type": "markdown",
      "metadata": {
        "id": "Ar8qLNfnCi8_"
      },
      "source": [
        "Für den Grenzwert p→ ∞ erhält man die ∞-Norm (Unendlich-Norm), die oft auch zu den p-Normen gezählt wird. Sie wird auch **Maximumsnorm oder Tschebyschow-Norm** genannt und ist definiert durch"
      ]
    },
    {
      "cell_type": "markdown",
      "metadata": {
        "id": "ioRBlq9ICFf6"
      },
      "source": [
        "> $\\|x\\|_{\\infty}=\\max _{i=1, \\ldots, n}\\left|x_{i}\\right|$"
      ]
    },
    {
      "cell_type": "markdown",
      "metadata": {
        "id": "2hpZp3hzCXku"
      },
      "source": [
        "Dass die Maximumsnorm tatsächlich als Grenzwert der $p$ -Normen für $p \\rightarrow \\infty$ entsteht, folgt für $x \\neq 0$\n",
        "aus\n",
        "\n",
        "> $\\lim _{p \\rightarrow \\infty}\\|x\\|_{p}=\\lim _{p \\rightarrow \\infty}\\left(\\sum_{i=1}^{n}\\left|x_{i}\\right|^{p}\\right)^{1 / p}=\\|x\\|_{\\infty} \\cdot \\lim _{p \\rightarrow \\infty}\\left(\\sum_{i=1}^{n}\\left(\\frac{\\left|x_{i}\\right|}{\\|x\\|_{\\infty}}\\right)^{p}\\right)^{1 / p}=\\|x\\|_{\\infty} \\cdot \\lim _{p \\rightarrow \\infty} S^{1 / p}=\\|x\\|_{\\infty}$"
      ]
    },
    {
      "cell_type": "markdown",
      "metadata": {
        "id": "BIA4-xLTSKoB"
      },
      "source": [
        "* For a real number p ≥ 1, the p-norm or Lp-norm of x is defined by\n",
        "\n",
        "> $\\|x\\|_{p}=\\left(\\left|x_{1}\\right|^{p}+\\left|x_{2}\\right|^{p}+\\cdots+\\left|x_{n}\\right|^{p}\\right)^{1 / p}$\n",
        "\n",
        "* The absolute value bars are unnecessary when p is a rational number and, in reduced form, has an even numerator.\n",
        "\n",
        "* The L∞-norm or maximum norm (or uniform norm) is the limit of the Lp-norms for p → ∞. It turns out that this limit is equivalent to the following definition:\n",
        "\n",
        "> $\\|x\\|_{\\infty}=\\max \\left\\{\\left|x_{1}\\right|,\\left|x_{2}\\right|, \\ldots,\\left|x_{n}\\right|\\right\\}$"
      ]
    },
    {
      "cell_type": "markdown",
      "metadata": {
        "id": "SbrnlkWOBNEE"
      },
      "source": [
        "https://de.m.wikipedia.org/wiki/Maximumsnorm"
      ]
    },
    {
      "cell_type": "markdown",
      "metadata": {
        "id": "PNebzB5PeTep"
      },
      "source": [
        "#### **Normen auf unendlichdimensionalen Vektorräumen**"
      ]
    },
    {
      "cell_type": "markdown",
      "metadata": {
        "id": "2KesWFfaTmuu"
      },
      "source": [
        "**Supremumsnorm**"
      ]
    },
    {
      "cell_type": "markdown",
      "metadata": {
        "id": "X0mN6eYZT6rC"
      },
      "source": [
        "* Im Gegensatz zur Maximumsnorm wird die Supremumsnorm $\\|f\\|_{\\text {sup }}:=\\sup _{t \\in X}|f(t)|$ nicht für stetige, sondern für beschränkte Funktionen $f$ definiert. \n",
        "\n",
        "* In diesem Fall ist es nicht notwendig, dass $X$ kompakt ist; $X$ kann eine beliebige Menge sein. \n",
        "\n",
        "* **Da stetige Funktionen auf kompakten Räumen beschränkt sind, ist die Maximumsnorm ein Spezialfall der Supremumsnorm**.\n",
        "\n",
        "* Die Supremumsnorm (auch Unendlich-Norm genannt) ist in der Mathematik eine Norm auf dem Funktionenraum der beschränkten Funktionen. Im einfachsten Fall einer reell- oder komplexwertigen beschränkten Funktion ist die Supremumsnorm das Supremum der Beträge der Funktionswerte. Allgemeiner betrachtet man Funktionen, deren Zielmenge ein normierter Raum ist, und die Supremumsnorm ist dann das Supremum der Normen der Funktionswerte. \n",
        "\n",
        "* **Für stetige Funktionen auf einer kompakten Menge ist die Maximumsnorm ein wichtiger Spezialfall der Supremumsnorm.**"
      ]
    },
    {
      "cell_type": "markdown",
      "metadata": {
        "id": "FrQFlg6EWE26"
      },
      "source": [
        "![alternativer Text](https://upload.wikimedia.org/wikipedia/commons/thumb/6/66/Graf_arctg.svg/260px-Graf_arctg.svg.png)"
      ]
    },
    {
      "cell_type": "markdown",
      "metadata": {
        "id": "q9WdCWwbWJVf"
      },
      "source": [
        "*Die Supremumsnorm der reellen Arkustangens-Funktion ist π/2. Auch wenn die Funktion diesen Wert betragsmäßig nirgendwo annimmt, so bildet er dennoch die kleinste obere Schranke.*"
      ]
    },
    {
      "cell_type": "markdown",
      "metadata": {
        "id": "QIHI-jmUWwUr"
      },
      "source": [
        "Supremumsnorm vs Maximumsnorm:\n",
        "\n",
        "* So ist etwa die **Supremumsnorm** der linearen Funktion $f(x)=x$ in diesem Intervall gleich $1 .$ Die Funktion nimmt diesen Wert zwar innerhalb des Intervalls nicht an, kommt inm jedoch beliebig nahe. \n",
        "\n",
        "* Wählt man stattdessen das abgeschlossene Einheitsintervall $M=[0,1]$, dann wird der Wert 1 angenommen und die Supremumsnorm entspricht der **Maximumsnorm**."
      ]
    },
    {
      "cell_type": "markdown",
      "metadata": {
        "id": "fDKcUEhwTZKC"
      },
      "source": [
        "https://de.m.wikipedia.org/wiki/Supremumsnorm"
      ]
    },
    {
      "cell_type": "markdown",
      "metadata": {
        "id": "U3OOjvbpXuEt"
      },
      "source": [
        "https://de.m.wikipedia.org/wiki/Wesentliches_Supremum"
      ]
    },
    {
      "cell_type": "markdown",
      "metadata": {
        "id": "T7WmLvFSen-z"
      },
      "source": [
        "**Folgennormen im Folgenraum**"
      ]
    },
    {
      "cell_type": "markdown",
      "metadata": {
        "id": "FEBTrzWdmp1Y"
      },
      "source": [
        "Siehe auch: Folgenraum https://de.m.wikipedia.org/wiki/Folgenraum"
      ]
    },
    {
      "cell_type": "markdown",
      "metadata": {
        "id": "o5vA04__k9hN"
      },
      "source": [
        "Die $\\ell^{p}$ -Normen sind die Verallgemeinerung der $p$ -Normen auf Folgenräume, wobei lediglich die endliche Summe durch eine unendliche ersetzt wird. Die $\\ell^{p}$ -Norm einer in $p$ -ter Potenz betragsweise summierbaren Folge ist für reelles $1 \\leq p<\\infty$ dann definiert als\n",
        "\n",
        "> $\\left\\|\\left(a_{n}\\right)\\right\\|_{\\ell^{p}}=\\left(\\sum_{n=1}^{\\infty}\\left|a_{n}\\right|^{p}\\right)^{1 / p}$\n",
        "\n",
        "Versehen mit diesen Normen werden die $\\ell$ - Räume jeweils zu vollständigen normierten Räumen. ${ }^{[6]}$ Für den Grenzwert $p \\rightarrow \\infty$ ergibt sich der Raum der beschränkten Folgen $\\ell^{\\infty}$ mit der Supremumsnorm. "
      ]
    },
    {
      "cell_type": "markdown",
      "metadata": {
        "id": "3T_E2UeNOdOW"
      },
      "source": [
        "$\\ell^{1}-$ Norm (**Folgenraum**)\n",
        "\n",
        "* Die $\\ell^{1}$ -Norm ist die Verallgemeinerung der Summennorm auf den Folgenraum $\\ell^{1}$ der **betragsweise summierbaren Folgen** $\\left(a_{n}\\right)_{n} \\in \\mathbb{K}^{N} .$ \n",
        "\n",
        "* Hierbei wird lediglich **die endliche Summe durch eine unendliche ersetzt** und die $\\ell^{\\text {t }}$ -Norm ist dann gegeben als\n",
        "\n",
        "> $\\left\\|\\left(a_{n}\\right)\\right\\|_{\\ell^{1}}=\\sum_{n=1}^{\\infty}\\left|a_{n}\\right|$"
      ]
    },
    {
      "cell_type": "markdown",
      "metadata": {
        "id": "MRax0LTq5PpT"
      },
      "source": [
        "$\\ell^{2}-$ Norm (**Folgenraum**)\n",
        "\n",
        "* Die $\\ell^{2}-$ Norm ist die Verallgemeinerung der euklidischen Norm auf den [Folgenraum](https://de.m.wikipedia.org/wiki/Folgenraum) $\\ell^{2}$ der quadratisch summierbaren Folgen $\\left(a_{n}\\right)_{n} \\in \\mathbb{K}^{\\mathrm{N}} .$ Hierbei wird lediglich die endliche Summe durch eine unendliche ersetzt und die $\\ell^{2}$ -Norm ist dann gegeben als\n",
        "\n",
        "> $\\left\\|\\left(a_{n}\\right)\\right\\|_{\\ell^{2}}=\\left(\\sum_{n=1}^{\\infty}\\left|a_{n}\\right|^{2}\\right)^{1 / 2}$\n",
        "\n",
        "* Die ℓ-p -Räume sind ein Spezialfall der allgemeineren Lp-Räume, wenn man das Zählmaß auf dem Raum N betrachtet."
      ]
    },
    {
      "cell_type": "markdown",
      "metadata": {
        "id": "q4x8mIupEplw"
      },
      "source": [
        "$\\ell^{∞}$ -Norm (**Folgenraum**)\n",
        "\n",
        "* The vector space ℓ∞ is a **sequence space** (Folgenraum) whose elements are the bounded sequences. The vector space operations, addition and scalar multiplication, are applied coordinate by coordinate.\n",
        "\n",
        "* $\\ell^{\\infty},$ the (real or complex) vector space of bounded sequences with the **[supremum norm](https://de.m.wikipedia.org/wiki/Supremumsnorm)**, and $L^{\\infty}=L^{\\infty}(X, \\Sigma, \\mu)$, the vector space of essentially bounded measurable functions with the **[essential supremum norm](https://de.m.wikipedia.org/wiki/Wesentliches_Supremum)**, are two closely related Banach spaces. \n",
        "\n",
        "* In fact the former is a special case of the latter. As a Banach space they are the continuous dual of the Banach spaces $\\ell_{1}$ of absolutely summable sequences, and $L^{1}=L^{1}(X, \\Sigma, \\mu)$ of absolutely integrable measurable functions (if the measure space fulfills the conditions of being localizable and therefore\n",
        "semifinite). \n",
        "\n",
        "* Pointwise multiplication gives them the structure of a Banach algebra, and in fact they are the standard examples of abelian Von Neumann algebras."
      ]
    },
    {
      "cell_type": "markdown",
      "metadata": {
        "id": "HHSE1UbcYFEP"
      },
      "source": [
        "**The sequence space (Folgenraum) is a special case of the function space (Funktionenraum): $\\ell_{\\infty}=L_{\\infty}(\\mathbb{N})$ where the natural numbers are equipped with the counting measure.**"
      ]
    },
    {
      "cell_type": "markdown",
      "metadata": {
        "id": "NGbGWZcDesxh"
      },
      "source": [
        "**Funktionennormen im Funktionenraum**"
      ]
    },
    {
      "cell_type": "markdown",
      "metadata": {
        "id": "rQkUf4jxmXjv"
      },
      "source": [
        "Siehe auch L-p-Raum: https://de.m.wikipedia.org/wiki/Lp-Raum"
      ]
    },
    {
      "cell_type": "markdown",
      "metadata": {
        "id": "oE7-MOw4l_FH"
      },
      "source": [
        "Die $\\mathcal{L}^{p}$ -Normen einer in $p$ -ter Potenz **Lebesgue-integrierbaren Funktion** mit $1<p<\\infty$ sind in Analogie zu den $\\ell^{p}$ -Normen definiert als\n",
        "\n",
        "> $\n",
        "\\|f\\|_{\\mathcal{L}^{P}(\\Omega)}=\\left(\\int_{\\Omega}|f(x)|^{p} d x\\right)^{1 / p}\n",
        "$\n",
        "\n",
        "**wobei die Summe durch ein Integral ersetzt wurde**. Ebenso wie bei der wesentlichen Supremumsnorm sind diese Narmen zunächst nur Halbnormen, da nicht nur die Nullfunktion, sondern auch alle Funktionen, die sich nur an einer Menge mit Maß Null II von der Nullfunktion unterscheiden, zu Null integriert werden. Daher betrachtet man wieder die Menge der Äauivalenzklassen unnn Funktionen $[f] \\in L^{p}(\\Omega)$, die fast überall gleich sind, und definiert auf diesen $L^{p}$ -Räumen die $L^{p}$ -Normen durch\n",
        "$\\|[f]\\|_{L P(\\Omega)}=\\|f\\|_{\\mathcal{L}^{p}(\\Omega)}$"
      ]
    },
    {
      "cell_type": "markdown",
      "metadata": {
        "id": "TpfpULLzPBb8"
      },
      "source": [
        "$L^{1}$ -Norm (**Funktionenraum**)\n",
        "\n",
        "* Weiter kann die Summennorm auf den Funktionenraum $L^{1}(\\Omega)$ der auf einer Menge $\\Omega$ betragsweise integrierbaren Funktionen verallgemeinert werden, was in zwei Schritten geschieht. Zunächst wird die $\\mathcal{L}^{1}$ Norm einer **betragsweise Lebesgue-integrierbaren Funktion** $f: \\Omega \\rightarrow \\mathbb{K}$ als\n",
        "\n",
        "> $\\|f\\|_{\\mathcal{L}^{1}(\\Omega)}=\\int_{\\Omega}|f(x)| d x$\n",
        "\n",
        "* definiert, wobei im Vergleich zur $\\ell^{1}$ -Norm lediglich die Summe durch ein Integral ersetzt wurde. Dies ist zunächst nur eine Halbnorm, da nicht nur die Nullfunktion, sondern auch alle Funktionen, die sich nur an einer Menge mit Lebesgue-Maß Null von der Nullfunktion unterscheiden, zu Null integriert werden. \n",
        "\n",
        "* Daher betrachtet man die Menge der Äquivalenzklassen von Funktionen $[f] \\in L^{1}(\\Omega)$, die fast überall gleich sind, und erhält auf diesem $L^{1}$ -Raum die $L^{1}$ -Norm durch\n",
        "\n",
        "> $\\|[f]\\|_{L^{1}(\\Omega)}=\\|f\\|_{\\mathcal{L}^{1}(\\Omega)}$"
      ]
    },
    {
      "cell_type": "markdown",
      "metadata": {
        "id": "Peq0MPwB6WKs"
      },
      "source": [
        "$L^{2}-$ Norm (**Funktionenraum**)\n",
        "\n",
        "* Weiter kann die euklidische Norm auf den [Funktionenraum](https://de.m.wikipedia.org/wiki/Funktionenraum) $L^{2}(\\Omega)$ der auf einer Menge $\\Omega$ quadratisch integrierbaren Funktionen verallgemeinert werden, was in zwei Schritten geschieht. Zunächst wird die $\\mathcal{L}^{2}$ Norm einer quadratisch Lebesgue-integrierbaren Funktion $f: \\Omega \\rightarrow \\mathbb{K}$ als\n",
        "\n",
        "> $\\|f\\|_{\\mathcal{L}^{2}(\\Omega)}=\\left(\\int_{\\Omega}|f(x)|^{2} d x\\right)^{1 / 2}$\n",
        "\n",
        "* definiert, wobei im Vergleich zur $\\ell^{2}$ -Norm lediglich die Summe durch ein Integral ersetzt wurde. Dies ist zunächst nur eine Halbnorm, da nicht nur die Nullfunktion, sondern auch alle Funktionen, die sich nur an einer Menge mit Lebesgue-Maß Null von der Nullfunktion unterscheiden, zu Null integriert werden. Daher betrachtet man die Menge der Äquivalenzklassen von Funktionen $[f] \\in L^{2}(\\Omega),$ die fast überall gleich sind, und erhält auf diesem $L^{2}$ -Raum die $L^{2}$ -Norm durch\n",
        "\n",
        "> $\\|[f]\\|_{L^{2}(\\Omega)}=\\|f\\|_{\\mathcal{L}^{2}(\\Omega)}$\n",
        "\n",
        "* Der Raum $L^{2}(\\Omega)$ ist ein Hilbertraum mit dem Skalarprodukt zweier Funktionen\n",
        "\n",
        "> $\\langle f, g\\rangle_{L_{2}(\\Omega)}=\\int_{\\Omega} \\overline{f(x)} \\cdot g(x) d x$\n",
        "\n",
        "* Er lässt sich von dem Lebesgue-Maß auch auf allgemeine Maße verallgemeinern."
      ]
    },
    {
      "cell_type": "markdown",
      "metadata": {
        "id": "n_06FIa0fPaB"
      },
      "source": [
        "$L^{∞}$ -Norm (**Funktionenraum**)\n",
        "\n",
        "* L∞ is a **function space** (Funktionenraum). Its elements are the essentially bounded measurable functions. More precisely, L∞ is defined based on an underlying measure space, (S, Σ, μ). Start with the set of all measurable functions from S to R which are essentially bounded, i.e. bounded up to a set of measure zero. Two such functions are identified if they are equal almost everywhere. Denote the resulting set by L∞(S, μ)."
      ]
    },
    {
      "cell_type": "markdown",
      "metadata": {
        "id": "00B-3E6wT_WN"
      },
      "source": [
        "#### **Exkurs: Units Vector, Circle & Sphere**"
      ]
    },
    {
      "cell_type": "markdown",
      "metadata": {
        "id": "OufqT-Z6E9fS"
      },
      "source": [
        "**Einheitsvektor (Unit Vector)**"
      ]
    },
    {
      "cell_type": "markdown",
      "metadata": {
        "id": "OMv1seK6E7fo"
      },
      "source": [
        "* Ein Vektor der Einheitssphäre heißt [Einheitsvektor](https://de.wikipedia.org/wiki/Einheitsvektor) bzw. [Unit Vector](https://en.wikipedia.org/wiki/Unit_vector). \n",
        "\n",
        "* Zu jedem Vektor $x \\neq 0$ erhält man durch Normierung $\\frac{x}{\\|x\\|}$ den zugehörigen Einheitsvektor.\n",
        "\n",
        "* Ein Einheitsvektor ist in der analytischen Geometrie ein Vektor der Länge Eins. **In der linearen Algebra und der Funktionalanalysis wird der Begriff der Länge auf allgemeine Vektorräume zum Begriff der Norm verallgemeinert**. \n",
        "\n",
        "* Ein Vektor in einem normierten Vektorraum, das heißt einem Vektorraum, auf dem eine Norm definiert ist, heißt Einheitsvektor oder normierter Vektor, **wenn seine Norm Eins beträgt** (fur euklidisch, Summennorm und Maximumsnorm??)"
      ]
    },
    {
      "cell_type": "markdown",
      "metadata": {
        "id": "fdWVU2YRYZ0t"
      },
      "source": [
        "**Einheitskreis (Unit Circle)**"
      ]
    },
    {
      "cell_type": "markdown",
      "metadata": {
        "id": "TC_GtMMcwt1e"
      },
      "source": [
        "* Der [Einheitskreis](https://de.wikipedia.org/wiki/Einheitskreis) bzw. [unit circle](https://en.wikipedia.org/wiki/Unit_circle) ist der Kreis (**im zweidimensionalen reellen Vektorraum**), dessen Radius die Länge 1 hat (Skalar $r \\in \\mathbb{K}$ mit $r>0$ ) und dessen Mittelpunkt ($x_{0} \\in V$) mit dem Koordinatenursprung eines kartesischen Koordinatensystems der Ebene übereinstimmt. \n",
        "\n",
        "* **Der Einheitskreis besteht aus den Punkten (x, y) der Ebene, für die $x^{2}+y^{2}$ = 1 gilt.** (bzw. $x_{1}^{2}$ + $x_{2}^{2}$ = 1)\n",
        "\n",
        "* In der Einheitskugel wendet man dann Betrag + Wurzel (**euklidische Norm**), oder die Summe der Beträge (**Summennorm**) oder das Maximum aller Beträge (**Maximumsnorm**) an. \n",
        "\n",
        "* Zur Normalisierung (??) siehe p-Norm: $\n",
        "\\|x\\|_{p}:=\\left(\\sum_{i=1}^{n}\\left|x_{i}\\right|^{p}\\right)^{1 / p}\n",
        "$"
      ]
    },
    {
      "cell_type": "markdown",
      "metadata": {
        "id": "tPTYbbpvYcnL"
      },
      "source": [
        "**Einheitskugel (Unit Sphere) unter verschiedenen Normen**"
      ]
    },
    {
      "cell_type": "markdown",
      "metadata": {
        "id": "jjtKryVdQp82"
      },
      "source": [
        "![xx](https://upload.wikimedia.org/wikipedia/commons/thumb/2/2c/Unit_disc_2-norm_qtl1.svg/240px-Unit_disc_2-norm_qtl1.svg.png)\n",
        "\n",
        "*Einheitskugel (rot) und -sphäre (blau) für die euklidische Norm in zwei Dimensionen* ([Source](https://de.wikipedia.org/wiki/Einheitskugel))"
      ]
    },
    {
      "cell_type": "markdown",
      "metadata": {
        "id": "IgWu5QWpYVqR"
      },
      "source": [
        "* **Wählt man in der Definition $x_{0}=0$ und $r=1,$ so nennt man die entstehenden Mengen Einheitskugel bzw. Einheitssphäre.** Das bedeutet, die [Einheitskugel](https://de.wikipedia.org/wiki/Einheitskugel) ist die Kugel mit Radius eins um den Nullpunkt eines Vektorraums. \n",
        "\n",
        "* Die Begriffe $_{n}$ Kugel\" bzw. Sphäre\" sind dabei sehr allgemein zu sehen - beispielsweise kann eine Normkugel auch Ecken und Kanten besitzen - und **fallen nur im Spezialfall der euklidischen Vektornorm mit dem aus der Geometrie bekannten Kugelbegriff zusammen**. \n",
        "\n",
        "* **Wird eine andere Norm als die euklidische Norm zur Abstandsmessung benutzt, so ist die Form des Einheitskreises im kartesischen Koordinatensystem eine andere**. Die geometrische Gestalt der Einheitskugel hängt von der gewählten Norm ab und ist nur mit der euklidischen Norm tatsächlich kugelförmig. Einheitskugeln können alternativ im $\\mathbb{R}^{n}$ bezüglich anderer Normen definiert werden.\n",
        "\n",
        "  * Der Einheitskreis fur die **euklidische Norm** ist eine Kugel. Im Falle des euklidischen Raumes $\\mathbb{R}^{n}$ definiert man die abgeschlossene Einheitskugel bezüglich der **euklidischen Norm** $\\|x\\|_{2}=\\sqrt{x_{1}^{2}+x_{2}^{2}+\\cdots+x_{n}^{2}}$ mittels $\\overline{B_{R^{n}}}:=\\left\\{x \\in \\mathbb{R}^{n}:\\|x\\|_{2} \\leq 1\\right\\}$. \n",
        "\n",
        "  * Der Einheitskreis fur die **Summennorm** ist ein Quadrat mit den Ecken (±1,0) und (0,±1). Die Einheitskugel der **Summennorm** (1-Norm) ist definiert $\\|x\\|_{1}=\\left|x_{1}\\right|+\\left|x_{2}\\right|+\\cdots+\\left|x_{n}\\right|$. \n",
        "\n",
        "  * Der Einheitskreis fur die Maximumsnorm ist ein Quadrat mit den Ecken (±1,±1). Die Einheitskugel der  **Maximumsnorm** ist definiert $\\|x\\|_{\\infty}=\\max \\left\\{\\left|x_{1}\\right|,\\left|x_{2}\\right|, \\ldots,\\left|x_{n}\\right|\\right\\} .$\n",
        "\n",
        "  * Siehe p-Norm: $\n",
        "\\|x\\|_{p}:=\\left(\\sum_{i=1}^{n}\\left|x_{i}\\right|^{p}\\right)^{1 / p}\n",
        "$\n",
        "\n",
        "* Bei der Betrachtung von [Umgebungen](https://de.wikipedia.org/wiki/Umgebung_(Mathematik)) (in Topologie) wird die Einheitskugel auch als 1-Kugel oder 1-Ball bezeichnet."
      ]
    },
    {
      "cell_type": "markdown",
      "metadata": {
        "id": "-IBw1G4RYqKN"
      },
      "source": [
        "**Normkugel bzw. Normsphäre**"
      ]
    },
    {
      "cell_type": "markdown",
      "metadata": {
        "id": "aKTnPyITYtdA"
      },
      "source": [
        "* Für einen gegebenen Vektor $x_{0} \\in V$ und einen Skalar $r \\in \\mathbb{K}$ mit $r>0$\n",
        "\n",
        "> heißt die Menge $\\left\\{x \\in V:\\left\\|x-x_{0}\\right\\|<r\\right\\}$ bzw. $\\left\\{x \\in V:\\left\\|x-x_{0}\\right\\| \\leq r\\right\\}$ [offene](https://de.wikipedia.org/wiki/Offene_Menge) bzw. [abgeschlossene](https://de.wikipedia.org/wiki/Abgeschlossene_Menge) **Normkugel** und \n",
        "\n",
        "> heißt die Menge $\\left\\{x \\in V:\\left\\|x-x_{0}\\right\\|=r\\right\\}$ heißt **Normsphäre** um $x_{0}$ mit Radius $r .$ \n",
        "\n",
        "* Jede [Normkugel](https://de.m.wikipedia.org/wiki/Norm_(Mathematik)#Normkugeln) bzw. Normsphäre **entsteht aus der entsprechenden Einheitskugel bzw. Einheitssphäre** durch Skalierung mit dem Faktor $r$ und Translation um den Vektor $x_{0}$.\n",
        "\n",
        "* **Norm = 1**: Diese [Einheitssphäre](https://de.wikipedia.org/wiki/Sphäre_(Mathematik)) (Oberflache der Kugel) ist der Rand der Einheitskugel, **im zweidimensionalen reellen Vektorraum mit der euklidischen Norm ist dies der [Einheitskreis](https://de.wikipedia.org/wiki/Einheitskreis)**. Die Einheitssphäre bildet somit den Rand der Einheitskugel.\n",
        "\n",
        "* **Norm < 1**: Die Menge der Vektoren **mit Norm kleiner als eins wird Einheitskugel des normierten Raums genannt**. Sie ist eine konvexe und zentralsymmetrische Menge, im Allgemeinen aber kein Ellipsoid, beispielsweise kann sie auch ein konvexer Polyeder sein. Die Parallelogrammgleichung ist in normierten Räumen im Allgemeinen nicht erfüllt, sie gilt aber für Vektoren in euklidischen Räumen, was daraus folgt, dass das Quadrat der euklidischen Norm eines Vektors dem Skalarprodukt mit sich selbst entspricht."
      ]
    },
    {
      "cell_type": "markdown",
      "metadata": {
        "id": "BzwsYyJMZkys"
      },
      "source": [
        "#### **Normed Vector Space**"
      ]
    },
    {
      "cell_type": "markdown",
      "metadata": {
        "id": "0MpcxqCJZoQT"
      },
      "source": [
        "\n",
        "**A [normed vector space](https://en.m.wikipedia.org/wiki/Normed_vector_space) or normed space is a vector space over the real or complex numbers, on which a norm is defined**. \n",
        "\n",
        "> Ist $V$ ein [Vektorraum](https://de.m.wikipedia.org/wiki/Vektorraum) über dem Körper $\\mathbb{K}$ der reellen oder der komplexen Zahlen und $\\|\\cdot\\|: V \\rightarrow \\mathbb{R}_{0}^{+}$ eine Norm auf $V,$ dann nennt man das Paar $(V,\\|\\cdot\\|)$ einen **normierten Vektorraum**. "
      ]
    },
    {
      "cell_type": "markdown",
      "metadata": {
        "id": "JaI_o7GUFVgk"
      },
      "source": [
        "**Beispiele fur Normed Vector Spaces**"
      ]
    },
    {
      "cell_type": "markdown",
      "metadata": {
        "id": "6eDo1PKD94-e"
      },
      "source": [
        "* Ein **[Banachraum](https://en.m.wikipedia.org/wiki/Banach_space)** ist ein vollständiger normierter (Vektor-)Raum. Ein vollständiger normierter Vektorraum (complete normed vector space) heißt Banachraum. \n",
        "\n",
        "  * A Banach space is a vector space X over any scalar field K that is equipped with a norm ‖⋅‖ <sub>X</sub> and that is complete with respect to the distance function induced by the norm\n",
        "\n",
        "  * Basic examples of Banach spaces include: the $L^{p}$ spaces and their special cases, the sequence spaces\n",
        "$\\ell^{p}$ that consist of scalar sequences indexed by $\\mathrm{N} ;$ among them, the space $\\ell^{1}$ of absolutely summable sequences and the space $\\ell^{2}$ of square summable sequences; the space $c_{0}$ of sequences tending to zero and the space $\\ell^{\\infty}$ of bounded sequences; the space $C(K)$ of continuous scalar functions on a compact\n",
        "Hausdorff space $K$, equipped with the max norm,\n",
        "\n",
        "* Ein Banachraum, dessen Norm durch ein Skalarprodukt induziert ist, heißt **[Hilbertraum](https://de.wikipedia.org/wiki/Hilbertraum)**. (z.B. p2-Norm (Euklidische Norm). Lässt man die Bedingung der Vollständigkeit fallen, spricht man von einem Prähilbertraum.)\n",
        "\n",
        "  * Die Struktur eines Hilbertraums ist eindeutig festgelegt durch seine Hilbertraumdimension. Diese kann eine beliebige Kardinalzahl sein. Ist die Dimension endlich und betrachtet man als Körper die reellen Zahlen, so handelt es sich um einen euklidischen Raum.\n",
        "\n",
        "  * Hilberträume tragen durch ihr Skalarprodukt eine topologische Struktur. Dadurch sind hier im Gegensatz zu allgemeinen Vektorräumen Grenzwertprozesse möglich. \n",
        "\n",
        "* Viele **Folgenräume $\\ell$** oder **Funktionenräume $L$** sind unendlichdimensionale Banachräume. Function Spaces $L$ are a type of infinite vector space. \n",
        "\n",
        "  * **Lp spaces are function spaces defined using a natural generalization of the p-norm for finite-dimensional vector spaces**. They are sometimes called Lebesgue spaces. Lp spaces form an important class of Banach spaces in functional analysis, and of topological vector spaces.\n",
        "\n",
        "  * Infinite-dimensional **vector spaces arise naturally in mathematical analysis, as function spaces**, whose vectors are functions. These vector spaces are generally endowed with additional structure, which may be a topology, allowing the consideration of issues of proximity and continuity. Among these topologies, those that are defined by a norm or inner product are more commonly used, as having a notion of distance between two vectors. This is particularly the case of Banach spaces and Hilbert spaces, which are fundamental in mathematical analysis.\n",
        "\n",
        "* [Fréchet-Spaces](https://de.m.wikipedia.org/wiki/Fréchet-Raum) sind Verallgemeinerungen des Banachraums und topologische Vektorraumemit speziellen Eigenschaften. Die Hauptvertreter von Fréchet-Räumen sind Vektorräume von glatten Funktionen. Diese Räume lassen sich zwar mit verschiedenen Normen ausstatten, **sind aber bezüglich keiner Norm vollständig**, also keine Banachräume. Man kann auf ihnen aber eine Topologie definieren, sodass viele Sätze, die in Banachräumen gelten, ihre Gültigkeit behalten."
      ]
    },
    {
      "cell_type": "markdown",
      "metadata": {
        "id": "4-F4FsRP0mB4"
      },
      "source": [
        "**Folgenraum (Sequence Space)**"
      ]
    },
    {
      "cell_type": "markdown",
      "metadata": {
        "id": "LrzUZWDm0mB4"
      },
      "source": [
        "* **Ein [Folgenraum](https://de.m.wikipedia.org/wiki/Folgenraum) ist ein in der Mathematik betrachteter Vektorraum**, dessen Elemente Zahlenfolgen sind. \n",
        "\n",
        "* Viele in der Funktionalanalysis auftretende Vektorräume sind Folgenräume oder können durch solche repräsentiert werden. Zu den Beispielen zählen u. a. die wichtigen Räume wie ℓ∞ aller beschränkten Folgen oder c0 aller gegen 0 konvergenten Folgen.\n",
        "\n",
        "* **Werden Normen bzw. Systeme von Normen oder Halbnormen auf Folgenräumen definiert, erhält man normierte Räume bzw. lokalkonvexe Räume.**\n",
        "\n",
        "* A **sequence space** (Folgenraum) is a vector space whose elements are infinite sequences of real or complex numbers. \n",
        "\n",
        "* Equivalently, it is a **function space** (Funktionenraum) whose elements are functions from the natural numbers to the field K of real or complex numbers. \n",
        "\n",
        "* The set of all such functions is naturally identified with the set of all possible infinite sequences with elements in K, and **can be turned into a vector space** under the operations of pointwise addition of functions and pointwise scalar multiplication. All sequence spaces are linear subspaces of this space. Sequence spaces are typically equipped with a norm, or at least the structure of a topological vector space.\n",
        "\n",
        "* The **most important sequence spaces in analysis are the ℓp spaces**, consisting of the p-power summable sequences, with the p-norm. These are special cases of Lp spaces for the counting measure on the set of natural numbers. \n",
        "\n",
        "* Other important classes of sequences like convergent sequences or null sequences (Nullfolgen) form sequence spaces, respectively denoted c and c0, with the sup norm. Any sequence space can also be equipped with the topology of pointwise convergence, under which it becomes a special kind of Fréchet space called FK-space.\n",
        "\n",
        "* The vector space ℓ∞ is a **sequence space** (Folgenraum) whose elements are the bounded sequences. The vector space operations, addition and scalar multiplication, are applied coordinate by coordinate. \n",
        "\n",
        "* $\\ell^{\\infty},$ the (real or complex) vector space of bounded sequences with the **[supremum norm](https://de.m.wikipedia.org/wiki/Supremumsnorm)**, and $L^{\\infty}=L^{\\infty}(X, \\Sigma, \\mu)$, the vector space of essentially bounded measurable functions with the **[essential supremum norm](https://de.m.wikipedia.org/wiki/Wesentliches_Supremum)**, are two closely related Banach spaces. \n",
        "\n",
        "* In fact the former is a special case of the latter. As a Banach space they are the continuous dual of the Banach spaces $\\ell_{1}$ of absolutely summable sequences, and $L^{1}=L^{1}(X, \\Sigma, \\mu)$ of absolutely integrable measurable functions (if the measure space fulfills the conditions of being localizable and therefore\n",
        "semifinite). \n",
        "\n",
        "* Pointwise multiplication gives them the structure of a Banach algebra, and in fact they are the standard examples of abelian Von Neumann algebras."
      ]
    },
    {
      "cell_type": "markdown",
      "metadata": {
        "id": "OpbXQrk-0mB4"
      },
      "source": [
        "**Funktionenraum (Function Space)**"
      ]
    },
    {
      "cell_type": "markdown",
      "metadata": {
        "id": "DOJta5Vm0mB4"
      },
      "source": [
        "* **Von den L<sup>p</sup> Normen zu den L<sup>p</sup> Spaces (Banachraum)**\n",
        "\n",
        "* **The sequence space (Folgenraum) is a special case of the [function space](https://en.m.wikipedia.org/wiki/Function_space) / [Funktionenraum](https://de.m.wikipedia.org/wiki/Funktionenraum): $\\ell_{\\infty}=L_{\\infty}(\\mathbb{N})$ where the natural numbers are equipped with the counting measure.** [source](https://en.m.wikipedia.org/wiki/L-infinity)\n",
        "\n",
        "* L∞ is a **function space** (Funktionenraum). Its elements are the essentially bounded measurable functions. \n",
        "\n",
        "* More precisely, L∞ is defined based on an underlying measure space, (S, Σ, μ). Start with the set of all measurable functions from S to R which are essentially bounded, i.e. bounded up to a set of measure zero. Two such functions are identified if they are equal almost everywhere. Denote the resulting set by L∞(S, μ)."
      ]
    },
    {
      "cell_type": "markdown",
      "metadata": {
        "id": "diVqOYFUpRJ_"
      },
      "source": [
        "* Der **normierte Vektorraum** $L^{p}$ ist [vollständig](https://de.m.wikipedia.org/wiki/Vollständiger_Raum) und damit ein [Banachraum](https://de.m.wikipedia.org/wiki/Banachraum), die Norm $\\|\\cdot\\|_{L} p$ wird **$L^{p}$ Norm** genannt.\n",
        "\n",
        "* Auch wenn man von sogenannten $L^{p}$ -Funktionen spricht, handelt es sich dabei um die gesamte Äquivalenzklasse einer klassischen Funktion. Allerdings liegen im Falle des Lebesgue-Maßes auf dem $\\mathbb{R}^{n}$ zwei verschiedene stetige Funktionen nie in der gleichen Äquivalenzklasse, so dass der $L^{p}$\n",
        "-Begriff eine natürliche Erweiterung des Begriffs stetiger Funktionen darstellt.\n",
        "\n",
        "* The [**Lp spaces**](https://de.m.wikipedia.org/wiki/Lp-Raum) are [function spaces](https://en.m.wikipedia.org/wiki/Function_space) defined using a natural **generalization of the p-norm for finite-dimensional vector spaces**. They are sometimes called **Lebesgue spaces**.\n",
        "\n",
        "* A normed vector space is automatically a metric space, by defining the metric in terms of the norm in the natural way. But a metric space may have no algebraic (vector) structure — i.e., it may not be a vector space — so the concept of a **metric space is a generalization of the concept of a normed vector space**.\n",
        "\n",
        "* Lp spaces form an important class of [Banach spaces](https://en.m.wikipedia.org/wiki/Banach_space) in functional analysis, and of topological vector spaces.\n",
        "\n",
        "* In statistics, measures of central tendency and statistical dispersion, such as the mean, median, and standard deviation, are defined in terms of Lp metrics, and measures of central tendency can be characterized as [solutions to variational problems](https://en.m.wikipedia.org/wiki/Central_tendency#Solutions_to_variational_problems)\n",
        "\n",
        "* An Lp space may be defined as a space of measurable functions for which the p-th power of the absolute value is Lebesgue integrable, where functions which agree almost everywhere are identified. \n",
        "\n",
        "* More generally, let 1 ≤ p < ∞ and (S, Σ, μ) be a [measure space](https://en.m.wikipedia.org/wiki/Measure_space). Consider the set of all measurable functions from S to C or R whose absolute value raised to the p-th power has a finite integral, or equivalently, that\n",
        "\n",
        "> $\\|f\\|_{p} \\equiv\\left(\\int_{S}|f|^{p} \\mathrm{d} \\mu\\right)^{1 / p}<\\infty$\n",
        "\n",
        "* The **space Lp for 0 < p < 1 is an [F-space](https://en.m.wikipedia.org/wiki/F-space)**: it admits a complete translation-invariant metric with respect to which the vector space operations are continuous. It is also locally bounded, much like the case p ≥ 1."
      ]
    },
    {
      "cell_type": "markdown",
      "metadata": {
        "id": "4SpYIJ602L38"
      },
      "source": [
        "## **Metric Space**"
      ]
    },
    {
      "cell_type": "markdown",
      "metadata": {
        "id": "5s1Gly-C2tfd"
      },
      "source": [
        "> **Eine Metrik definiert Abstände zwischen Elementen des Vektorraumes.**\n",
        "\n",
        "Sei M eine Menge. Eine Metrik ist eine Abbildung d: $M \\times M \\rightarrow \\mathbb{R}$ auf $M \\times M$ wenn folgende drei Axiome erfüllt sind:\n",
        "\n",
        "1. Beide zusammen bilde Positive Definitheit (**positive definiteness**):\n",
        "  * $d(x, y) \\geq 0$ (**non-negativity**) sowie \n",
        "  * $d(x, y)=0$ if and only if $x=y$ (Gleichheit gilt genau dann, wenn $x=y$, **identity of indiscernibles**) für alle $x, y \\in M$.  \n",
        "\n",
        "2. $d(x, y)=d(y, x)$ (**symmetry**) Symmetrie\n",
        "$d(x, y)=d(y, x) \\forall x, y \\in M$\n",
        "\n",
        "4. $d(x, z) \\leq d(x, y)+d(y, z)$ (**Dreiecksungleichung / subadditivity / triangle inequality**) $\\forall x, y, z \\in M$\n",
        "\n",
        "Das Paar $(M, d)$ nennt man einen **metrischen Raum (metric space)**."
      ]
    },
    {
      "cell_type": "markdown",
      "metadata": {
        "id": "hD4AYCcdH3it"
      },
      "source": [
        "https://de.m.wikipedia.org/wiki/Metrischer_Raum"
      ]
    },
    {
      "cell_type": "markdown",
      "metadata": {
        "id": "_gcLfqnPX33L"
      },
      "source": [
        "> **A norm induces a distance by the formula d (x,y) = ‖ y-x ‖.**\n",
        "\n",
        "Jede Norm auf einem Vektorraum induziert durch die Festlegung\n",
        "\n",
        "> $d(x, y) \\equiv\\|x-y\\|$\n",
        "\n",
        "eine Metrik. Somit ist jeder normierte Vektorraum (und erst recht jeder Innenproduktraum, Banachraum oder Hilbertraum) ein metrischer Raum."
      ]
    },
    {
      "cell_type": "markdown",
      "metadata": {
        "id": "06COtKq5HS-E"
      },
      "source": [
        "**Differentiation:**"
      ]
    },
    {
      "cell_type": "markdown",
      "metadata": {
        "id": "YZLAEDth49rq"
      },
      "source": [
        "* **Divergence** fullfills property of positive definiteness (1 + 2)\n",
        "\n",
        "* **Distance** fullfills property of positive definiteness and symmetrie (1 + 2+ 3)\n",
        "\n",
        "* **Metric** fullfills property of positive definiteness, symmetrie and triangle inequality (1 + 2 + 3 + 4). Häufig wird auch eine Metrik als [Distanzfunktion](https://de.m.wikipedia.org/wiki/Distanzfunktion) bezeichnet.\n",
        "\n",
        "* **Metric Space**: Together with the set, a metric makes up a metric space.\n",
        "\n",
        "* Difference Metric to Norm: **Instead of distance between points, a norm gives us the length of a vector, as measured from the origin.** Jede Norm induziert eine Metrik, aber nicht umgekehrt."
      ]
    },
    {
      "cell_type": "markdown",
      "metadata": {
        "id": "AbyK2erJfiMZ"
      },
      "source": [
        "Given a set $X$ of points, a distance function on $X$ is a map $d: X \\times X \\rightarrow \\mathbb{R}_{+}$ that is symmetric, and satisfies $d(i, i)=0$ for all $i \\in X .$ \n",
        "\n",
        "* Eine Metrik (auch Abstandsfunktion) ist eine Funktion, die je zwei Elementen des Raums einen nicht negativen reellen Wert zuordnet, der als Abstand der beiden Elemente voneinander aufgefasst werden kann. \n",
        "\n",
        "* The metric is a function that defines a concept of distance between any two members of the set, which are usually called points. The metric satisfies a few simple properties.\n",
        "\n",
        "* Unter einem [metrischen Raum](https://de.m.wikipedia.org/wiki/Metrischer_Raum) (metric space) versteht man in der Mathematik eine Menge, auf der eine Metrik definiert ist. \n",
        "\n",
        "* A metric on a space induces topological properties like open and closed sets, which lead to the study of more abstract topological spaces. Der Begriff „topologischer Raum“ verallgemeinert den Begriff „metrischer Raum“: Jeder metrische Raum ist ein topologischer Raum mit der Topologie, die durch die Metrik induziert wird (siehe dazu [Umgebung](https://de.m.wikipedia.org/wiki/Umgebung_(Mathematik))). Jeder metrische Raum ist ein [Hausdorff-Raum](https://de.m.wikipedia.org/wiki/Hausdorff-Raum).\n",
        "\n",
        "* Metriken geben einem Raum eine globale und eine lokale mathematische Struktur. Die globale Struktur kommt in geometrischen Eigenschaften wie der Kongruenz von Figuren zum Ausdruck. Die lokale metrische Struktur, also die Definition kleiner Abstände, ermöglicht unter bestimmten zusätzlichen Voraussetzungen die Einführung von Differentialoperationen.\n",
        "\n",
        "* In einem metrischen Raum werden Abstände zwischen Punkten definiert. Jeder metrische Raum ist auch ein topologischer Raum. In einem metrischen Raum (aber nicht direkt in einem topologischen Raum) sind beschränkte Mengen und Cauchy-Folgen definiert. Isomorphismen zwischen metrischen Räumen heißen Isometrien. Ein metrischer Raum heißt vollständig, falls alle Cauchy-Folgen konvergieren. Jeder nicht vollständige Raum ist isometrisch in seine Vervollständigung eingebettet. Jeder kompakte metrische Raum ist vollständig; die reelle Zahlengerade ist nicht kompakt aber vollständig; das offene Intervall ( 0 , 1 ) (0,1) ist nicht vollständig."
      ]
    },
    {
      "cell_type": "markdown",
      "metadata": {
        "id": "21FF45m84ep2"
      },
      "source": [
        "Beispiele:\n",
        "\n",
        "* Die Menge der reellen Zahlen $\\mathbb{R}$ mit der Abstandsmetrik $d(x, y):=|x-y|$ bilden einen metrischen Raum."
      ]
    },
    {
      "cell_type": "markdown",
      "metadata": {
        "id": "qEzdckJipzyi"
      },
      "source": [
        "**Isometrie**"
      ]
    },
    {
      "cell_type": "markdown",
      "metadata": {
        "id": "c1zsesz3sQZl"
      },
      "source": [
        "Eine [Isometrie](https://de.m.wikipedia.org/wiki/Isometrie) ist eine Abbildung, die zwei metrische Räume aufeinander abbildet und dabei die Metrik – also die Abstände zwischen je zwei Punkten – erhält. ps: [Isometrische Isomorphie](https://de.m.wikipedia.org/wiki/Isometrische_Isomorphie) beschreibt in der Funktionalanalysis einen Zusammenhang zwischen zwei unterschiedlichen Räumen, die geometrisch identisch sind."
      ]
    },
    {
      "cell_type": "markdown",
      "metadata": {
        "id": "4_Tq_VZxqPPE"
      },
      "source": [
        "Sind zwei metrische Räume $\\left(M_{1}, d_{1}\\right),\\left(M_{2}, d_{2}\\right)$ gegeben, und ist $f: M_{1} \\rightarrow M_{2}$ eine Abbildung mit der Eigenschaft\n",
        "\n",
        "> $d_{2}(f(x), f(y))=d_{1}(x, y)$ für alle $x, y \\in M_{1}$\n",
        "\n",
        "dann heißt $f$ Isometrie von $M_{1}$ nach $M_{2}$. Eine solche Abbildung ist stets injektiv. \n",
        "\n",
        "Ist $f$ sogar bijektiv, dann heißt $f$ **isometrischer Isomorphismus**, und die Räume $M_{1}$ und $M_{2}$ heißen is isometrische Einbettung von $M_{1}$ in $M_{2}$"
      ]
    },
    {
      "cell_type": "markdown",
      "metadata": {
        "id": "CXylGv101ZwI"
      },
      "source": [
        "https://de.m.wikipedia.org/wiki/Metrisierbarer_Raum"
      ]
    },
    {
      "cell_type": "markdown",
      "metadata": {
        "id": "7NfzTtMmJl9E"
      },
      "source": [
        "https://en.m.wikipedia.org/wiki/Cauchy_space"
      ]
    },
    {
      "cell_type": "markdown",
      "metadata": {
        "id": "n7d7_An6wMZW"
      },
      "source": [
        "https://en.m.wikipedia.org/wiki/Continuous_function#Continuous_functions_between_metric_spaces"
      ]
    },
    {
      "cell_type": "markdown",
      "metadata": {
        "id": "9A0RiFz6sHZ-"
      },
      "source": [
        "https://en.m.wikipedia.org/wiki/Distance#General_metric"
      ]
    },
    {
      "cell_type": "markdown",
      "metadata": {
        "id": "O1hoL_o6Zh_H"
      },
      "source": [
        "**Minkowski-Metrik (L<sup>p</sup> Distances)**"
      ]
    },
    {
      "cell_type": "markdown",
      "metadata": {
        "id": "hBQAQ6GOZlg7"
      },
      "source": [
        "\n",
        "\n",
        "**Eine Metrik, die aus einer $p$ -Norm abgeleitet ist, heißt auch Minkowski-Metrik**. Wichtige Spezialfälle sind die\n",
        "\n",
        "* Manhattan-Metrik zu $p=1$, \n",
        "* euklidische Metrik zu $p=2$\n",
        "* Maximum-Metrik zu $p=\\infty$\n",
        "\n",
        "Weitere Beispiele für Normen (und damit auch für Metriken) finden sich im Artikel [Norm (Mathematik)](https://de.m.wikipedia.org/wiki/Norm_(Mathematik)). Aus einer $p$ -Norm abgeleitet sind zum Beispiel die Metriken der folgenden wichtigen Räume:\n",
        "der eindimensionale Raum der reellen oder komplexen Zahlen mit dem absoluten Betrag als Norm (mit beliebigem $p$ ) und der dadurch gegebenen Betragsmetrik\n",
        "\n",
        "> $d(x, y)=|x-y|$\n",
        "\n",
        "or euklidische Raum mit seiner durch den Satz des Pythagoras gegebenen euklidischen Metrik (zur euklidischen Norm für $p=2$ )\n",
        "\n",
        "> $d(x, y)=\\sqrt{\\left(x_{1}-y_{1}\\right)^{2}+\\cdots+\\left(x_{n}-y_{n}\\right)^{2}}$\n",
        "\n",
        "Als eine [**Fréchet-Metrik**](https://de.m.wikipedia.org/wiki/Fréchet-Metrik) wird gelegentlich eine Metrik\n",
        "\n",
        "> $d(x, y)=\\rho(x-y)$\n",
        "\n",
        "bezeichnet, die von einer Funktion $\\rho$ induziert wird, welche die meisten Eigenschaften einer Norm besitzt, aber nicht homogen ist. **Sie stellt eine Verbindung zwischen Metrik und Norm her.**"
      ]
    },
    {
      "cell_type": "markdown",
      "metadata": {
        "id": "HD52xBoRhcMz"
      },
      "source": [
        "https://en.m.wikipedia.org/wiki/Euclidean_distance#Generalizations"
      ]
    },
    {
      "cell_type": "markdown",
      "metadata": {
        "id": "HbZOslj1eRla"
      },
      "source": [
        "**L<sup>p</sup> Distances (Minkowski Distances / Metrics)**"
      ]
    },
    {
      "cell_type": "markdown",
      "metadata": {
        "id": "i7Sd3MWyW5V6"
      },
      "source": [
        "* **The Minkowski distance is a metric in a normed vector space** which can be considered as a generalization of both the Euclidean distance and the Manhattan distance.\n",
        "\n",
        "* Minkowski distance is typically used with p being 1 or 2, which correspond to the **Manhattan distance and the Euclidean distance**, respectively. In the limiting case of p reaching infinity, we obtain the **Chebyshev distance**\n",
        "\n",
        "* **p need not be an integer, but it cannot be less than 1, because otherwise the triangle inequality does not hold (which is possible, but then it's not a metric anymore)**\n",
        "\n",
        "* In physical space the Euclidean distance is in a way the most natural one, because in this case the length of a rigid body does not change with rotation."
      ]
    },
    {
      "cell_type": "markdown",
      "metadata": {
        "id": "CqKAYkW2oE2Z"
      },
      "source": [
        "![alternativer Text](https://upload.wikimedia.org/wikipedia/commons/thumb/0/00/2D_unit_balls.svg/800px-2D_unit_balls.svg.png)"
      ]
    },
    {
      "cell_type": "markdown",
      "metadata": {
        "id": "nRP4WSD9oLvm"
      },
      "source": [
        "*The figure shows unit circles (the set of all points that are at the unit distance from the centre) with various values of p*"
      ]
    },
    {
      "cell_type": "markdown",
      "metadata": {
        "id": "2t8p1rGbdPx1"
      },
      "source": [
        "https://en.m.wikipedia.org/wiki/Minkowski_distance"
      ]
    },
    {
      "cell_type": "markdown",
      "metadata": {
        "id": "fFzrPn6HYJt9"
      },
      "source": [
        "**L1 - Manhattan Distance**"
      ]
    },
    {
      "cell_type": "markdown",
      "metadata": {
        "id": "iO0nqUI8m_fA"
      },
      "source": [
        "* **ist eine topologische Distanz**\n",
        "\n",
        "* The Manhattan norm gives rise to the Manhattan distance, where the distance between any two points, or vectors, is the sum of the differences between corresponding coordinates.\n",
        "\n",
        "* **Die Manhattan-Metrik ist die von der Summennorm (1-Norm) eines Vektorraums erzeugte Metrik.**\n",
        "\n",
        "* **Aber: Die Summennorm ist nicht von einem Skalarprodukt induziert.**\n",
        "\n",
        "* Die Manhattan-Metrik (auch Manhattan-Distanz, Mannheimer Metrik, Taxi- oder Cityblock-Metrik) ist eine Metrik, in der die Distanz d zwischen zwei Punkten a und b als die Summe der absoluten Differenzen ihrer Einzelkoordinaten definiert wird:\n"
      ]
    },
    {
      "cell_type": "markdown",
      "metadata": {
        "id": "5oL_J1fZIqT8"
      },
      "source": [
        "> $d(a, b)=\\sum_{i}\\left|a_{i}-b_{i}\\right|$"
      ]
    },
    {
      "cell_type": "markdown",
      "metadata": {
        "id": "G0_E7Gu4IbbP"
      },
      "source": [
        "https://de.m.wikipedia.org/wiki/Manhattan-Metrik"
      ]
    },
    {
      "cell_type": "markdown",
      "metadata": {
        "id": "rZlz94XCYE8Q"
      },
      "source": [
        "**L2 - Euclidean Distance**"
      ]
    },
    {
      "cell_type": "markdown",
      "metadata": {
        "id": "c1bl59wtmyYn"
      },
      "source": [
        "* The **euclidean distance** is the L2-norm of the difference, **a special case of the Minkowski distance with p=2**. It is the natural distance in a geometric interpretation.\n",
        "\n",
        "> $d_{2}:(x, y) \\mapsto\\|x-y\\|_{2}=\\sqrt{d_{\\mathrm{SSD}}}=\\sqrt{\\sum_{i=1}^{n}\\left(x_{i}-y_{i}\\right)^{2}}$\n",
        "\n",
        "* Together with the Euclidean distance the Euclidean space is a metric space (x element R, d). http://theanalysisofdata.com/probability/B_4.html\n",
        "\n",
        "* https://en.m.wikipedia.org/wiki/Euclidean_distance\n",
        "\n",
        "* https://en.m.wikipedia.org/wiki/Tikhonov_regularization"
      ]
    },
    {
      "cell_type": "markdown",
      "metadata": {
        "id": "ug1sNzCsdMGh"
      },
      "source": [
        "**L ∞ - Chebyshev Distance**"
      ]
    },
    {
      "cell_type": "markdown",
      "metadata": {
        "id": "8QdrlGVRmlmx"
      },
      "source": [
        "* The maximum norm gives rise to the **Chebyshev distance** or chessboard distance, the minimal number of moves a chess king would take to travel from x to y. The Chebyshev distance is the L∞-norm of the difference, a special case of the Minkowski distance where p goes to infinity. It is also known as Chessboard distance.\n",
        "\n",
        "> $d_{\\infty}:(x, y) \\mapsto\\|x-y\\|_{\\infty}=\\lim _{p \\rightarrow \\infty}\\left(\\sum_{i=1}^{n}\\left|x_{i}-y_{i}\\right|^{p}\\right)^{\\frac{1}{p}}=\\max _{i}\\left|x_{i}-y_{i}\\right|$"
      ]
    },
    {
      "cell_type": "markdown",
      "metadata": {
        "id": "jjWVKu82npHV"
      },
      "source": [
        "https://en.m.wikipedia.org/wiki/Chebyshev_distance"
      ]
    },
    {
      "cell_type": "markdown",
      "metadata": {
        "id": "D1mImehPm69J"
      },
      "source": [
        "**Nicht durch Normen erzeugte Metriken**"
      ]
    },
    {
      "cell_type": "markdown",
      "metadata": {
        "id": "bUnISc3anLSR"
      },
      "source": [
        "* Auf jeder Menge lässt sich eine triviale Metrik, die sogenannte gleichmäßig diskrete Metrik (die sogar eine Ultrametrik ist) definieren durch \n",
        "\n",
        "> $d(x, y)=\\left\\{\\begin{array}{ll}0 & \\text { für } x=y \\\\ 1 & \\text { für } x \\neq y\\end{array}\\right.$\n",
        "\n",
        "Sie induziert die diskrete Topologie.\n",
        "\n",
        "* Auf $\\mathbb{R}$ wird durch $\\delta(x, y)=|\\arctan (x)-\\arctan (y)|$ eine Metrik definiert. Bezüglich dieser Metrik ist $\\mathbb{R}$ nicht vollständig. So ist $z .$ B. die Folge $(n)_{n \\in \\mathbb{N}}$ eine $\\delta$ -Cauchy-Folge, die nicht in $\\mathbb{R}$ konvergiert. Die von dieser Metrik erzeugte Topologie stimmt zwar mit der Standardtopologie auf IR überein, aber die von den beiden Metriken induzierten uniformen Strukturen sind offensichtlich\n",
        "verschieden.\n",
        "\n",
        "Im Allgemeinen **nicht durch eine Norm induziert ist die riemannsche Metrik**, die aus einer differenzierbaren Mannigfaltigkeit eine [riemannsche Mannigfaltigkeit](https://en.m.wikipedia.org/wiki/Riemannian_manifold) macht.\n",
        "\n",
        "  * Eine riemannsche Mannigfaltigkeit oder ein riemannscher Raum ist ein Objekt aus dem mathematischen Teilgebiet der riemannschen Geometrie. Diese Mannigfaltigkeiten haben die zusätzliche Eigenschaft, dass sie eine Metrik ähnlich wie ein **Prähilbertraum** besitzen.\n",
        "\n",
        "  * Mit Hilfe dieser riemannschen Metrik lassen sich dann die wesentlichen geometrischen Eigenschaften der Mannigfaltigkeit beschreiben. So gelten auf jeder riemannschen Mannigfaltigkeit die folgenden, teilweise äquivalenten, Eigenschaften:\n",
        "\n",
        "  * Die kürzesten Strecken zwischen unterschiedlichen Punkten (die sogenannten Geodäten) sind nicht zwingend Geradenstücke, sondern können gekrümmte Kurven sein.\n",
        "\n",
        "  * Die Winkelsumme von Dreiecken kann, im Gegensatz zur Ebene, auch größer (z. B. Kugel) oder kleiner (hyperbolische Räume) als 180° sein.\n",
        "  * Die Parallelverschiebung von Tangentialvektoren entlang geschlossener Kurven kann die Richtung des Vektors ändern.\n",
        "Das Ergebnis einer Parallelverschiebung eines Tangentialvektors hängt auch vom Weg ab, entlang dessen der Tangentialvektor verschoben wird.\n",
        "  * Die Krümmung ist im Allgemeinen eine Funktion des Ortes auf der Mannigfaltigkeit.\n",
        "Abstandsmessungen zwischen unterschiedlichen Punkten sind nur mit Hilfe einer Metrik möglich, die vom Ort auf der Mannigfaltigkeit abhängen kann.\n",
        "\n",
        "**Beispiele dafür**:\n",
        "\n",
        "* die natürliche Metrik auf einer Kugeloberfläche, in der der Großkreis die kürzeste Verbindung ([Geodäte](https://en.m.wikipedia.org/wiki/Geodesic)) zwischen zwei Punkten ist;\n",
        "\n",
        "* die uneigentliche Metrik im Minkowski-Raum $\\mathbb{R} \\times \\mathbb{R}^{3}$ der speziellen Relativitätstheorie, in der zeitähnliche Abstände durch $\\left[(\\Delta t)^{2}-(\\Delta x / c)^{2}-(\\Delta y / c)^{2}-(\\Delta z / c)^{2}\\right]^{1 / 2}$ und ortsähnliche Abstände $\\operatorname{durch}\\left[(\\Delta x)^{2}+(\\Delta y)^{2}+(\\Delta z)^{2}-(\\Delta c t)^{2}\\right]^{1 / 2}$ gegeben sind\n",
        "\n",
        "* die von der Materieverteilung abhängige Verallgemeinerung dieser Metrik in der allgemeinen Relativitätstheorie."
      ]
    },
    {
      "cell_type": "markdown",
      "metadata": {
        "id": "zbhUmt563M6H"
      },
      "source": [
        "Die riemannsche Metrik ist keine Metrik im Sinne der Theorie der metrischen Räume, sondern ein Skalarprodukt. Man kann jedoch ähnlich wie in der Theorie der Skalarprodukträume aus dem Skalarprodukt eine Metrik gewinnen. Somit können riemannsche Mannigfaltigkeiten als metrische Räume verstanden werden. Auf riemannschen Mannigfaltigkeiten sind also im Gegensatz zu differenzierbaren Mannigfaltigen Begriffe wie Abstand, Durchmesser oder Vollständigkeit definiert."
      ]
    },
    {
      "cell_type": "markdown",
      "metadata": {
        "id": "EUzTHdhL3PTo"
      },
      "source": [
        "https://de.m.wikipedia.org/wiki/Riemannsche_Mannigfaltigkeit"
      ]
    },
    {
      "cell_type": "markdown",
      "metadata": {
        "id": "taLU82-Xn0xm"
      },
      "source": [
        "* Die [französische Eisenbahnmetrik](https://de.m.wikipedia.org/wiki/Französische_Eisenbahnmetrik) ist ein beliebtes Übungsbeispiel für eine nicht durch eine Norm induzierte Metrik. Sie wird unter Bezugnahme auf einen ausgezeichneten Punkt $P($, Paris\") wie folgt definiert: Der Abstand zweier verschiedener Punkte, deren Verbindungsgerade durch $P$ verläuft, ist inr Abstand unter der gewöhnlichen euklidischen Metrik. Der Abstand zweier\n",
        "verschiedener Punkte, deren Verbindungsgerade nicht durch $P$ verläuft, ist die Summe ihrer Abstände von $P$\n",
        "\n",
        "* Die [Hausdorff-Metrik](https://de.m.wikipedia.org/wiki/Hausdorff-Metrik) misst den **Abstand zwischen Teilmengen, nicht Elementen, eines metrischen Raums**; man könnte sie als Metrik zweiten Grades bezeichnen, denn sie greift auf eine Metrik ersten Grades zwischen den Elementen des metrischen Raums zurück.\n",
        "\n",
        "* Der [Hamming-Abstand](https://de.m.wikipedia.org/wiki/Hamming-Abstand) ist eine Metrik auf dem Coderaum, die die Unterschiedlichkeit von (gleich langen) Zeichenketten angibt. Siehe auch [Levenshetin Distance](https://de.m.wikipedia.org/wiki/Levenshtein-Distanz) - Die Levenshtein-Distanz kann als Erweiterung des Hamming-Abstands angesehen werden, welcher sich auf Ersetzungen beschränkt und daher nur Zeichenketten gleicher Länge bemessen kann. Eine Phonetische Suche kann die Levenshtein-Distanz verwenden, um Fehler zu erlauben. [Dynamic Time Warpening](https://de.m.wikipedia.org/wiki/Dynamic-Time-Warping). Die Levenshtein-Distanz kann als Sonderform der Dynamic-Time-Warping-Distanz (DTW) betrachtet werden."
      ]
    },
    {
      "cell_type": "markdown",
      "metadata": {
        "id": "xh03tQ74ulO-"
      },
      "source": [
        "In computer science, there is the notion of the \"edit distance\" between two strings. For example, the words \"dog\" and \"dot\", which vary by only one letter, are closer than \"dog\" and \"cat\", which differ by three letters. This idea is used in spell checkers and in coding theory, and is mathematically formalized in several different ways, such as:\n",
        "\n",
        "[Levenshtein distance](https://en.m.wikipedia.org/wiki/Levenshtein_distance)\n",
        "\n",
        "[Hamming distance](https://en.m.wikipedia.org/wiki/Hamming_distance)\n",
        "\n",
        "[Lee distance](https://en.m.wikipedia.org/wiki/Lee_distance)\n",
        "\n",
        "[Jaro–Winkler distance](https://en.m.wikipedia.org/wiki/Jaro–Winkler_distance)"
      ]
    },
    {
      "cell_type": "markdown",
      "metadata": {
        "id": "oJpF7K2iugN3"
      },
      "source": [
        "https://en.m.wikipedia.org/wiki/Edit_distance"
      ]
    },
    {
      "cell_type": "markdown",
      "metadata": {
        "id": "F1l9_Erf5T5S"
      },
      "source": [
        "## **Topological Space**"
      ]
    },
    {
      "cell_type": "markdown",
      "metadata": {
        "id": "zCU-DP5e7sX7"
      },
      "source": [
        "**Definition 'Topologischer Raum': Eine Topologie ist ein Mengensystem T bestehend aus Teilmengen einer Grundmenge \n",
        "X, die offen oder offene Mengen genannt werden, und die die folgenden Axiome erfüllen:**\n",
        "\n",
        "1. Die leere Menge und die Grundmenge X sind offen.\n",
        "2. Der Durchschnitt endlich vieler offener Mengen ist offen. (Es genügt zu fordern, dass der Durchschnitt von zwei offenen Mengen offen ist.)\n",
        "3. Die Vereinigung beliebig vieler offener Mengen ist offen.\n",
        "\n",
        "**Man nennt dann $T$ eine Topologie auf $X$, und das Paar ($X$,$T$) einen topologischen Raum.**"
      ]
    },
    {
      "cell_type": "markdown",
      "metadata": {
        "id": "QRmV20DK5TCp"
      },
      "source": [
        "Sei M eine Menge und $O \\subset \\wp(M)$ ein System von Teilmengen von M. $O$ heigt eine Topologie auf $\\mathrm{M}$ und das Paar $(\\mathrm{M}, O)$ ein topologischer Raum, wenn folgende Axiome erfüllt sind:\n",
        "\n",
        "1. $\\varnothing, M \\in O$ (Die leere Menge und Menge selbst gehören zur Topologie)\n",
        "\n",
        "2. $\\Omega_{1}, \\Omega_{2} \\in O \\Rightarrow \\Omega_{1} \\cap \\Omega_{2} \\in O$. D. h. wenn zwei Mengen zur Topologie gehören, dann auch deren Durchschnitt.\n",
        "\n",
        "3. Ist $I$ eine beliebige Indexmenge und sind $\\left(\\Omega_{i}\\right)_{i \\in I}$ Elemente von $O$ ,\n",
        "dann ist auch $\\bigcup_{i \\in \\mathrm{I}} \\Omega_{i} \\in O$\n",
        "\n",
        "Das bedeutet nichts anderes als dass die Vereinigung von beliebig vielen offenen Mengen wieder offen ist."
      ]
    },
    {
      "cell_type": "markdown",
      "metadata": {
        "id": "j5ZCFeL8ULuv"
      },
      "source": [
        "**Topologische Räume können weiter [klassifiziert werden nach Kolmogorov](https://en.m.wikipedia.org/wiki/History_of_the_separation_axioms).**"
      ]
    },
    {
      "cell_type": "markdown",
      "metadata": {
        "id": "ixMvjCdbLiBj"
      },
      "source": [
        "* a topological space ([Topologischer Raum](https://de.m.wikipedia.org/wiki/Topologischer_Raum)) may be defined as a set of points, along with a set of **neighbourhoods** for each point, satisfying a set of **axioms** relating points and neighbourhoods.\n",
        "\n",
        "* The definition of a topological space **relies only upon set theory** and is the most general notion of a mathematical space that allows for the definition of concepts such as **[continuity](https://en.m.wikipedia.org/wiki/Continuous_function#Continuous_functions_between_topological_spaces), [connectedness](https://en.m.wikipedia.org/wiki/Connected_space), and [convergence](https://en.m.wikipedia.org/wiki/Limit_of_a_sequence)**.\n",
        "\n",
        "* **Other spaces, such as manifolds and metric spaces, are specializations of topological spaces with extra structures or constraints.**\n",
        "\n",
        "* Topological spaces are **studied in Point-Set Topology** (General Topology)\n",
        "\n",
        "* ein topologischer Raum ist ein elementarer Gegenstand der Topologie\n",
        "\n",
        "* Durch die Einführung einer topologischen Struktur auf einer Menge lassen sich intuitive Lagebeziehungen wie **„Nähe“ und „Streben gegen“** aus dem [Anschauungsraum (Euklidischer Raum)](https://de.m.wikipedia.org/wiki/Euklidischer_Raum) auf sehr viele und sehr allgemeine Strukturen übertragen und mit präziser Bedeutung versehen."
      ]
    },
    {
      "cell_type": "markdown",
      "metadata": {
        "id": "mMhlhwMT6hcE"
      },
      "source": [
        "**Beispiele:**\n",
        "\n",
        "* Das einfachste Beispiel eines topologischen Raumes ist die Menge der reellen Zahlen. Dabei ist die Topologie, also das System der offenen Teilmengen so erklärt, dass wir eine Menge $\\Omega$ C $\\mathbb{R}$ offen nennen, wenn sie sich als Vereinigung von offenen Intervallen darstellen lässt."
      ]
    }
  ]
}