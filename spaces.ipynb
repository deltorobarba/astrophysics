{
  "nbformat": 4,
  "nbformat_minor": 0,
  "metadata": {
    "colab": {
      "name": "spaces.ipynb",
      "provenance": [],
      "collapsed_sections": [],
      "include_colab_link": true
    },
    "kernelspec": {
      "name": "python3",
      "display_name": "Python 3"
    }
  },
  "cells": [
    {
      "cell_type": "markdown",
      "metadata": {
        "id": "view-in-github",
        "colab_type": "text"
      },
      "source": [
        "<a href=\"https://colab.research.google.com/github/deltorobarba/machinelearning/blob/master/spaces.ipynb\" target=\"_parent\"><img src=\"https://colab.research.google.com/assets/colab-badge.svg\" alt=\"Open In Colab\"/></a>"
      ]
    },
    {
      "cell_type": "markdown",
      "metadata": {
        "id": "2Aoj2PpxvDQV",
        "colab_type": "text"
      },
      "source": [
        "# **Spaces**"
      ]
    },
    {
      "cell_type": "code",
      "metadata": {
        "id": "1U5_6xH7tAQq",
        "colab_type": "code",
        "colab": {}
      },
      "source": [
        "import numpy as np\n",
        "import pandas as pd\n",
        "import seaborn as sns\n",
        "import matplotlib.pyplot as plt"
      ],
      "execution_count": null,
      "outputs": []
    },
    {
      "cell_type": "markdown",
      "metadata": {
        "id": "ostHcxEvNZ5r",
        "colab_type": "text"
      },
      "source": [
        "![Normed Vector Space](https://upload.wikimedia.org/wikipedia/en/7/74/Mathematical_Spaces.png)"
      ]
    },
    {
      "cell_type": "markdown",
      "metadata": {
        "id": "tQRaw6wfNOpR",
        "colab_type": "text"
      },
      "source": [
        "## **Norm & Normed Vector Space**"
      ]
    },
    {
      "cell_type": "markdown",
      "metadata": {
        "id": "B-LnUvriVm4a",
        "colab_type": "text"
      },
      "source": [
        "A normed vector space or normed space is a vector space over the real or complex numbers, on which a norm is defined. A norm is the formalization and the generalization to real vector spaces of the intuitive notion of \"length\" in the real world. A norm is a real-valued function defined on the vector space that is commonly denoted x ↦ ‖ x ‖, and has the **following properties**:\n",
        "\n",
        "1. It is nonnegative, that is for every vector x, one has ‖x‖ ≥ 0.\n",
        "\n",
        "2. It is positive on nonzero vectors, that is, ‖x‖ = 0 ⟺ x = 0.\n",
        "\n",
        "3. For every vector x, and every scalar α, one has ‖ α x ‖ = | α | ‖ x ‖.\n",
        "\n",
        "4. The triangle inequality holds; that is, for every vectors x and y, one has ‖ x+y ‖ ≤ ‖ x ‖ + ‖ y ‖.\n",
        "\n",
        "A norm induces a distance by the formula d (x,y) = ‖ y-x ‖.\n",
        "\n",
        "Therefore, a normed vector space is a metric space, and thus a topological vector space. An [inner product space](https://en.m.wikipedia.org/wiki/Inner_product_space) is a normed space, where the norm of a vector is the square root of the inner product of the vector by itself. "
      ]
    },
    {
      "cell_type": "markdown",
      "metadata": {
        "id": "Y23TBwgQXJuY",
        "colab_type": "text"
      },
      "source": [
        "https://en.m.wikipedia.org/wiki/Norm_(mathematics)"
      ]
    },
    {
      "cell_type": "markdown",
      "metadata": {
        "id": "lUGbZ9CqNRHn",
        "colab_type": "text"
      },
      "source": [
        "https://en.m.wikipedia.org/wiki/Normed_vector_space"
      ]
    },
    {
      "cell_type": "markdown",
      "metadata": {
        "id": "GFf8p5SVJn2V",
        "colab_type": "text"
      },
      "source": [
        "**P-Norm & L<sub>p</sub> Spaces**"
      ]
    },
    {
      "cell_type": "markdown",
      "metadata": {
        "id": "S725bXUeKYmW",
        "colab_type": "text"
      },
      "source": [
        "* The Lp spaces are [function spaces](https://en.m.wikipedia.org/wiki/Function_space) defined using a natural **generalization of the p-norm for finite-dimensional vector spaces**. They are sometimes called **Lebesgue spaces**.\n",
        "\n",
        "* Lp spaces form an important class of [Banach spaces](https://en.m.wikipedia.org/wiki/Banach_space) in functional analysis, and of topological vector spaces.\n",
        "\n",
        "* In statistics, measures of central tendency and statistical dispersion, such as the mean, median, and standard deviation, are defined in terms of Lp metrics, and measures of central tendency can be characterized as [solutions to variational problems](https://en.m.wikipedia.org/wiki/Central_tendency#Solutions_to_variational_problems)\n",
        "\n",
        "* An Lp space may be defined as a space of measurable functions for which the p-th power of the absolute value is Lebesgue integrable, where functions which agree almost everywhere are identified. More generally, let 1 ≤ p < ∞ and (S, Σ, μ) be a measure space. Consider the set of all measurable functions from S to C or R whose absolute value raised to the p-th power has a finite integral, or equivalently, that\n",
        "\n",
        "> $\\|f\\|_{p} \\equiv\\left(\\int_{S}|f|^{p} \\mathrm{d} \\mu\\right)^{1 / p}<\\infty$"
      ]
    },
    {
      "cell_type": "markdown",
      "metadata": {
        "id": "Yib4ihDuTMWQ",
        "colab_type": "text"
      },
      "source": [
        "**Properties**"
      ]
    },
    {
      "cell_type": "markdown",
      "metadata": {
        "id": "AUReq39VTPQM",
        "colab_type": "text"
      },
      "source": [
        "For all p ≥ 1, the p-norms and maximum norm as defined above indeed satisfy the properties of a \"length function\" (or norm), which are that:\n",
        "\n",
        "1. only the zero vector has zero length,\n",
        "\n",
        "2. lhe length of the vector is positive homogeneous with respect to multiplication by a scalar (positive homogeneity), and\n",
        "\n",
        "3. the length of the sum of two vectors is no larger than the sum of lengths of the vectors (triangle inequality).\n",
        "\n",
        "Abstractly speaking, this means that Rn together with the p-norm is a Banach space. This Banach space is the Lp-space over Rn. Any normed vector space is a metric space by defining d(x, y) = ‖ y - x ‖, see also metrics on vector spaces. (If such a space is complete, we call it a Banach space.) "
      ]
    },
    {
      "cell_type": "markdown",
      "metadata": {
        "id": "yMXH_RxXRDkr",
        "colab_type": "text"
      },
      "source": [
        "![alternativer Text](https://upload.wikimedia.org/wikipedia/commons/thumb/d/d4/Vector-p-Norms_qtl1.svg/480px-Vector-p-Norms_qtl1.svg.png)\n",
        "\n",
        "*Illustrations of unit circles (see also superellipse) in different p-norms (every vector from the origin to the unit circle has a length of one, the length being calculated with length-formula of the corresponding p).*"
      ]
    },
    {
      "cell_type": "markdown",
      "metadata": {
        "id": "1k-wmgpkP8lv",
        "colab_type": "text"
      },
      "source": [
        "**L1 Norm**"
      ]
    },
    {
      "cell_type": "markdown",
      "metadata": {
        "id": "Q4dl2ZASP_kc",
        "colab_type": "text"
      },
      "source": [
        "* Techniques which use an L1 penalty, like LASSO, encourage solutions where many parameters are zero. \n",
        "\n",
        "* The Manhattan norm gives rise to the Manhattan distance, where the distance between any two points, or vectors, is the sum of the differences between corresponding coordinates.\n",
        "\n",
        "* https://en.m.wikipedia.org/wiki/Taxicab_geometry\n",
        "\n",
        "* https://en.m.wikipedia.org/wiki/Lasso_(statistics)"
      ]
    },
    {
      "cell_type": "markdown",
      "metadata": {
        "id": "SHXnaFUeQBL6",
        "colab_type": "text"
      },
      "source": [
        "**L2 Norm**"
      ]
    },
    {
      "cell_type": "markdown",
      "metadata": {
        "id": "O3yL08xkQGbj",
        "colab_type": "text"
      },
      "source": [
        "* Techniques which use an L2 penalty, like ridge regression, encourage solutions where most parameter values are small.\n",
        "\n",
        "* Exkurs: [Elastic Net](https://en.m.wikipedia.org/wiki/Elastic_net_regularization) regularization uses a penalty term that is a combination of the L1 norm and the L2 norm of the parameter vector.\n",
        "\n",
        "* The length of a vector x = (x1, x2, ..., xn) in the n-dimensional real vector space Rn is usually given by the **Euclidean norm**:\n",
        "\n",
        "> $\\|x\\|_{2}=\\left(x_{1}^{2}+x_{2}^{2}+\\cdots+x_{n}^{2}\\right)^{1 / 2}$\n",
        "\n",
        "* The **euclidean distance** is the L2-norm of the difference, a special case of the Minkowski distance with p=2. It is the natural distance in a geometric interpretation.\n",
        "\n",
        "> $d_{2}:(x, y) \\mapsto\\|x-y\\|_{2}=\\sqrt{d_{\\mathrm{SSD}}}=\\sqrt{\\sum_{i=1}^{n}\\left(x_{i}-y_{i}\\right)^{2}}$\n",
        "\n",
        "https://en.m.wikipedia.org/wiki/Euclidean_distance\n",
        "\n",
        "* https://en.m.wikipedia.org/wiki/Tikhonov_regularization"
      ]
    },
    {
      "cell_type": "markdown",
      "metadata": {
        "id": "xU32us9ZQouN",
        "colab_type": "text"
      },
      "source": [
        "**L ∞ Norm**"
      ]
    },
    {
      "cell_type": "markdown",
      "metadata": {
        "id": "BIA4-xLTSKoB",
        "colab_type": "text"
      },
      "source": [
        "* For a real number p ≥ 1, the p-norm or Lp-norm of x is defined by\n",
        "\n",
        "> $\\|x\\|_{p}=\\left(\\left|x_{1}\\right|^{p}+\\left|x_{2}\\right|^{p}+\\cdots+\\left|x_{n}\\right|^{p}\\right)^{1 / p}$\n",
        "\n",
        "* The absolute value bars are unnecessary when p is a rational number and, in reduced form, has an even numerator.\n",
        "\n",
        "* The L∞-norm or maximum norm (or uniform norm) is the limit of the Lp-norms for p → ∞. It turns out that this limit is equivalent to the following definition:\n",
        "\n",
        "> $\\|x\\|_{\\infty}=\\max \\left\\{\\left|x_{1}\\right|,\\left|x_{2}\\right|, \\ldots,\\left|x_{n}\\right|\\right\\}$\n",
        "\n",
        "* The maximum norm gives rise to the **Chebyshev distance** or chessboard distance, the minimal number of moves a chess king would take to travel from x to y. The Chebyshev distance is the L∞-norm of the difference, a special case of the Minkowski distance where p goes to infinity. It is also known as Chessboard distance.\n",
        "\n",
        "> $d_{\\infty}:(x, y) \\mapsto\\|x-y\\|_{\\infty}=\\lim _{p \\rightarrow \\infty}\\left(\\sum_{i=1}^{n}\\left|x_{i}-y_{i}\\right|^{p}\\right)^{\\frac{1}{p}}=\\max _{i}\\left|x_{i}-y_{i}\\right|$"
      ]
    },
    {
      "cell_type": "markdown",
      "metadata": {
        "id": "trPSIZzFS6uw",
        "colab_type": "text"
      },
      "source": [
        "https://en.m.wikipedia.org/wiki/L-infinity"
      ]
    },
    {
      "cell_type": "markdown",
      "metadata": {
        "id": "ug1sNzCsdMGh",
        "colab_type": "text"
      },
      "source": [
        "**Minkowski Distance**"
      ]
    },
    {
      "cell_type": "markdown",
      "metadata": {
        "id": "2t8p1rGbdPx1",
        "colab_type": "text"
      },
      "source": [
        "https://en.m.wikipedia.org/wiki/Minkowski_distance"
      ]
    },
    {
      "cell_type": "markdown",
      "metadata": {
        "id": "L7u1GiAGVvzL",
        "colab_type": "text"
      },
      "source": [
        "## **Metric Spaces**"
      ]
    },
    {
      "cell_type": "markdown",
      "metadata": {
        "id": "tTksZM6IX2wW",
        "colab_type": "text"
      },
      "source": [
        "A metric space is a set together with a metric on the set. The metric is a function that defines a concept of distance between any two members of the set, which are usually called points. The metric satisfies a few simple properties. Informally:\n",
        "\n",
        "1. the distance from a point to itself is zero,\n",
        "2. the distance between two distinct points is positive,\n",
        "3. the distance from A to B is the same as the distance from B to A, and\n",
        "4. the distance from A to B (directly) is less than or equal to the distance from A to B via any third point C.\n",
        "\n",
        "A metric on a space induces topological properties like open and closed sets, which lead to the study of more abstract topological spaces."
      ]
    },
    {
      "cell_type": "markdown",
      "metadata": {
        "id": "FXr1VBescJV4",
        "colab_type": "text"
      },
      "source": [
        "1. d(x, y) ≥ 0 (non-negativity)\n",
        "2. d(x, y) = 0 if and only if x = y (identity of indiscernibles. Note that condition 1 and 2 together produce positive definiteness)\n",
        "3. d(x, y) = d(y, x) (symmetry)\n",
        "4. d(x, z) ≤ d(x, y) + d(y, z) (subadditivity / triangle inequality).\n",
        "\n",
        "Then we call d a metric or distancd function"
      ]
    },
    {
      "cell_type": "markdown",
      "metadata": {
        "id": "zMMYN7ReV1TC",
        "colab_type": "text"
      },
      "source": [
        "https://en.m.wikipedia.org/wiki/Metric_space"
      ]
    },
    {
      "cell_type": "markdown",
      "metadata": {
        "id": "DdCUxO4ZJvgu",
        "colab_type": "text"
      },
      "source": [
        "## **Topological Vector Spaces**"
      ]
    },
    {
      "cell_type": "markdown",
      "metadata": {
        "id": "rF3JibKfNEUU",
        "colab_type": "text"
      },
      "source": [
        "https://en.m.wikipedia.org/wiki/Topological_vector_space"
      ]
    },
    {
      "cell_type": "markdown",
      "metadata": {
        "id": "THQQyoXwEDFm",
        "colab_type": "text"
      },
      "source": [
        "https://en.m.wikipedia.org/wiki/Hausdorff_space"
      ]
    },
    {
      "cell_type": "markdown",
      "metadata": {
        "id": "nFe6UN6aEEBH",
        "colab_type": "text"
      },
      "source": [
        "## **Miscellaneous**"
      ]
    },
    {
      "cell_type": "markdown",
      "metadata": {
        "id": "IdxkIxB1NIQV",
        "colab_type": "text"
      },
      "source": [
        "https://en.m.wikipedia.org/wiki/Functional_analysis"
      ]
    },
    {
      "cell_type": "markdown",
      "metadata": {
        "id": "JJccWn6RVMmD",
        "colab_type": "text"
      },
      "source": [
        "https://en.m.wikipedia.org/wiki/Geometric_measure_theory"
      ]
    }
  ]
}