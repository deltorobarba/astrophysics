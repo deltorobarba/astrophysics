{
  "nbformat": 4,
  "nbformat_minor": 0,
  "metadata": {
    "colab": {
      "name": "spaces.ipynb",
      "provenance": [],
      "collapsed_sections": [],
      "include_colab_link": true
    },
    "kernelspec": {
      "name": "python3",
      "display_name": "Python 3"
    }
  },
  "cells": [
    {
      "cell_type": "markdown",
      "metadata": {
        "id": "view-in-github",
        "colab_type": "text"
      },
      "source": [
        "<a href=\"https://colab.research.google.com/github/deltorobarba/machinelearning/blob/master/spaces.ipynb\" target=\"_parent\"><img src=\"https://colab.research.google.com/assets/colab-badge.svg\" alt=\"Open In Colab\"/></a>"
      ]
    },
    {
      "cell_type": "markdown",
      "metadata": {
        "id": "2Aoj2PpxvDQV",
        "colab_type": "text"
      },
      "source": [
        "# **Spaces**"
      ]
    },
    {
      "cell_type": "code",
      "metadata": {
        "id": "1U5_6xH7tAQq",
        "colab_type": "code",
        "colab": {}
      },
      "source": [
        "import numpy as np\n",
        "import pandas as pd\n",
        "import seaborn as sns\n",
        "import matplotlib.pyplot as plt"
      ],
      "execution_count": null,
      "outputs": []
    },
    {
      "cell_type": "markdown",
      "metadata": {
        "id": "ostHcxEvNZ5r",
        "colab_type": "text"
      },
      "source": [
        "![Normed Vector Space](https://upload.wikimedia.org/wikipedia/en/7/74/Mathematical_Spaces.png)"
      ]
    },
    {
      "cell_type": "markdown",
      "metadata": {
        "id": "_jWah3WbSoUc",
        "colab_type": "text"
      },
      "source": [
        "https://de.m.wikipedia.org/wiki/Raum_(Mathematik)"
      ]
    },
    {
      "cell_type": "markdown",
      "metadata": {
        "id": "gubkDELEFgrU",
        "colab_type": "text"
      },
      "source": [
        "Siehe auch als Grundlage: https://de.m.wikipedia.org/wiki/Algebraische_Struktur"
      ]
    },
    {
      "cell_type": "markdown",
      "metadata": {
        "id": "jZ_7Tax5FsoE",
        "colab_type": "text"
      },
      "source": [
        "und: https://de.m.wikipedia.org/wiki/Umgebung_(Mathematik)"
      ]
    },
    {
      "cell_type": "markdown",
      "metadata": {
        "id": "g4kL9Ou2F96n",
        "colab_type": "text"
      },
      "source": [
        "https://de.m.wikipedia.org/wiki/Funktionenraum"
      ]
    },
    {
      "cell_type": "markdown",
      "metadata": {
        "id": "MjLtpPWtF_p5",
        "colab_type": "text"
      },
      "source": [
        "https://de.m.wikipedia.org/wiki/Folgenraum"
      ]
    },
    {
      "cell_type": "markdown",
      "metadata": {
        "id": "qYW5u_0Oi7l5",
        "colab_type": "text"
      },
      "source": [
        "## **Inner product space (Prähilbertraum)**"
      ]
    },
    {
      "cell_type": "markdown",
      "metadata": {
        "id": "gtcOpkYQjFKx",
        "colab_type": "text"
      },
      "source": [
        "* Vektorraum, auf dem ein inneres Produkt definiert ist\n",
        "\n",
        "* In linear algebra, an inner product space is a vector space with an additional structure called an inner product. This additional structure associates each pair of vectors in the space with a scalar quantity known as the inner product of the vectors\n",
        "\n",
        "* Geometric interpretation of the angle between two vectors defined using an inner product. Inner products allow the rigorous introduction of intuitive geometrical notions such as the length of a vector or the angle between two vectors. They also provide the means of defining orthogonality between vectors (**zero inner product**). \n",
        "\n",
        "* Inner product spaces generalize Euclidean spaces (in which the inner product is the **dot product**, also known as the scalar product) to vector spaces of any (possibly infinite) dimension, and are studied in functional analysis. \n",
        "\n",
        "* An inner product **naturally induces an associated norm**, (|x| and |y| are the norms of x and y, in the picture) thus an inner product space is also a normed vector space. A complete space with an inner product is called a Hilbert space. \n",
        "\n",
        "* An (incomplete) space with an inner product is called a pre-Hilbert space, since its completion with respect to the norm induced by the inner product is a Hilbert space. Inner product spaces over the field of complex numbers are sometimes referred to as unitary spaces."
      ]
    },
    {
      "cell_type": "markdown",
      "metadata": {
        "id": "U1QQh9gFi-WB",
        "colab_type": "text"
      },
      "source": [
        "https://en.m.wikipedia.org/wiki/Inner_product_space"
      ]
    },
    {
      "cell_type": "markdown",
      "metadata": {
        "id": "tQRaw6wfNOpR",
        "colab_type": "text"
      },
      "source": [
        "## **Normed Vector Spaces**"
      ]
    },
    {
      "cell_type": "markdown",
      "metadata": {
        "id": "R3Ek_c4p1Ldn",
        "colab_type": "text"
      },
      "source": [
        "https://de.m.wikipedia.org/wiki/Norm_(Mathematik)#Vektornormen"
      ]
    },
    {
      "cell_type": "markdown",
      "metadata": {
        "id": "Y23TBwgQXJuY",
        "colab_type": "text"
      },
      "source": [
        "https://en.m.wikipedia.org/wiki/Norm_(mathematics)"
      ]
    },
    {
      "cell_type": "markdown",
      "metadata": {
        "id": "lUGbZ9CqNRHn",
        "colab_type": "text"
      },
      "source": [
        "https://en.m.wikipedia.org/wiki/Normed_vector_space"
      ]
    },
    {
      "cell_type": "markdown",
      "metadata": {
        "id": "CjAjWAj3nhBE",
        "colab_type": "text"
      },
      "source": [
        "**Overview**"
      ]
    },
    {
      "cell_type": "markdown",
      "metadata": {
        "id": "B-LnUvriVm4a",
        "colab_type": "text"
      },
      "source": [
        "A normed vector space or normed space is a vector space over the real or complex numbers, on which a norm is defined. A norm is the formalization and the generalization to real vector spaces of the intuitive notion of \"length\" in the real world. A norm is a real-valued function defined on the vector space that is commonly denoted x ↦ ‖ x ‖, and has the **following properties**:\n",
        "\n",
        "1. It is **nonnegative**, that is for every vector x, one has ‖x‖ ≥ 0.\n",
        "\n",
        "2. It is **positive on nonzero vectors**, that is, ‖x‖ = 0 ⟺ x = 0.\n",
        "\n",
        "3. For every vector x, and every **scalar α**, one has ‖ α x ‖ = | α | ‖ x ‖.\n",
        "\n",
        "4. The **triangle inequality** holds; that is, for every vectors x and y, one has ‖ x+y ‖ ≤ ‖ x ‖ + ‖ y ‖.\n",
        "\n",
        "A norm induces a distance by the formula d (x,y) = ‖ y-x ‖.\n",
        "\n",
        "Therefore, a normed vector space is a metric space, and thus a topological vector space. An [inner product space](https://en.m.wikipedia.org/wiki/Inner_product_space) is a normed space, where the norm of a vector is the square root of the inner product of the vector by itself. "
      ]
    },
    {
      "cell_type": "markdown",
      "metadata": {
        "id": "qA-NMLwW9cMJ",
        "colab_type": "text"
      },
      "source": [
        "**Matrixnorm**"
      ]
    },
    {
      "cell_type": "markdown",
      "metadata": {
        "id": "U_AGvxsw-HqD",
        "colab_type": "text"
      },
      "source": [
        "* Eine Matrixnorm ist in der Mathematik eine Norm auf dem Vektorraum der reellen oder komplexen Matrizen. \n",
        "\n",
        "* Neben den drei Normaxiomen Definitheit, absolute Homogenität und Subadditivität wird bei Matrixnormen teilweise die Submultiplikativität als vierte definierende Eigenschaft gefordert. Submultiplikative Matrixnormen besitzen einige nützliche Eigenschaften, so ist beispielsweise der Spektralradius einer quadratischen Matrix, also der Betrag des betragsgrößten Eigenwerts, niemals größer als ihre Matrixnorm.\n",
        "\n",
        "* Es gibt mehrere Möglichkeiten, Matrixnormen zu definieren, unter anderem direkt über eine Vektornorm, als Operatornorm oder über die Singulärwerte der Matrix. Matrixnormen werden insbesondere in der linearen Algebra und der numerischen Mathematik verwendet."
      ]
    },
    {
      "cell_type": "markdown",
      "metadata": {
        "id": "lrzEr3LY90O8",
        "colab_type": "text"
      },
      "source": [
        "Wichtige Matrixnormen:\n",
        "\n",
        "* Über Vektornormen definierte Matrixnormen\n",
        "\n",
        "* Über Operatornormen definierte Matrixnormen\n",
        "\n",
        "* Über Singulärwerte definierte Matrixnormen"
      ]
    },
    {
      "cell_type": "markdown",
      "metadata": {
        "id": "qMqhHG409eUr",
        "colab_type": "text"
      },
      "source": [
        "https://de.m.wikipedia.org/wiki/Matrixnorm"
      ]
    },
    {
      "cell_type": "markdown",
      "metadata": {
        "id": "GFf8p5SVJn2V",
        "colab_type": "text"
      },
      "source": [
        "**P-Norm & L<sub>p</sub> Spaces**"
      ]
    },
    {
      "cell_type": "markdown",
      "metadata": {
        "id": "GeSMyh0-FK2I",
        "colab_type": "text"
      },
      "source": [
        "https://de.m.wikipedia.org/wiki/P-Norm"
      ]
    },
    {
      "cell_type": "markdown",
      "metadata": {
        "id": "JBiUY8nL3CPW",
        "colab_type": "text"
      },
      "source": [
        "https://de.m.wikipedia.org/wiki/Lp-Raum"
      ]
    },
    {
      "cell_type": "markdown",
      "metadata": {
        "id": "S725bXUeKYmW",
        "colab_type": "text"
      },
      "source": [
        "* The Lp spaces are [function spaces](https://en.m.wikipedia.org/wiki/Function_space) defined using a natural **generalization of the p-norm for finite-dimensional vector spaces**. They are sometimes called **Lebesgue spaces**.\n",
        "\n",
        "* A normed vector space is automatically a metric space, by defining the metric in terms of the norm in the natural way. But a metric space may have no algebraic (vector) structure — i.e., it may not be a vector space — so the concept of a **metric space is a generalization of the concept of a normed vector space**.\n",
        "\n",
        "* Lp spaces form an important class of [Banach spaces](https://en.m.wikipedia.org/wiki/Banach_space) in functional analysis, and of topological vector spaces.\n",
        "\n",
        "* In statistics, measures of central tendency and statistical dispersion, such as the mean, median, and standard deviation, are defined in terms of Lp metrics, and measures of central tendency can be characterized as [solutions to variational problems](https://en.m.wikipedia.org/wiki/Central_tendency#Solutions_to_variational_problems)\n",
        "\n",
        "* An Lp space may be defined as a space of measurable functions for which the p-th power of the absolute value is Lebesgue integrable, where functions which agree almost everywhere are identified. \n",
        "\n",
        "* More generally, let 1 ≤ p < ∞ and (S, Σ, μ) be a [measure space](https://en.m.wikipedia.org/wiki/Measure_space). Consider the set of all measurable functions from S to C or R whose absolute value raised to the p-th power has a finite integral, or equivalently, that\n",
        "\n",
        "> $\\|f\\|_{p} \\equiv\\left(\\int_{S}|f|^{p} \\mathrm{d} \\mu\\right)^{1 / p}<\\infty$"
      ]
    },
    {
      "cell_type": "markdown",
      "metadata": {
        "id": "AUReq39VTPQM",
        "colab_type": "text"
      },
      "source": [
        "For all p ≥ 1, the p-norms and maximum norm as defined above indeed satisfy the properties of a \"length function\" (or norm), which are that:\n",
        "\n",
        "1. only the zero vector has zero length,\n",
        "\n",
        "2. lhe length of the vector is positive homogeneous with respect to multiplication by a scalar (positive homogeneity), and\n",
        "\n",
        "3. the length of the sum of two vectors is no larger than the sum of lengths of the vectors (triangle inequality).\n",
        "\n",
        "Abstractly speaking, this means that **Rn together with the p-norm is a Banach space**. This Banach space is the Lp-space over Rn. **Any normed vector space is a metric space** by defining d(x, y) = ‖ y - x ‖, see also metrics on vector spaces. (If such a space is complete, we call it a Banach space.) "
      ]
    },
    {
      "cell_type": "markdown",
      "metadata": {
        "id": "yMXH_RxXRDkr",
        "colab_type": "text"
      },
      "source": [
        "![alternativer Text](https://upload.wikimedia.org/wikipedia/commons/thumb/d/d4/Vector-p-Norms_qtl1.svg/480px-Vector-p-Norms_qtl1.svg.png)\n",
        "\n",
        "*Illustrations of unit circles (see also superellipse) in different p-norms (every vector from the origin to the unit circle has a length of one, the length being calculated with length-formula of the corresponding p).*"
      ]
    },
    {
      "cell_type": "markdown",
      "metadata": {
        "id": "1k-wmgpkP8lv",
        "colab_type": "text"
      },
      "source": [
        "**L1 Norm**"
      ]
    },
    {
      "cell_type": "markdown",
      "metadata": {
        "id": "HQOMzI3RBEU2",
        "colab_type": "text"
      },
      "source": [
        "https://de.m.wikipedia.org/wiki/Summennorm"
      ]
    },
    {
      "cell_type": "markdown",
      "metadata": {
        "id": "AqKbtCMiB61r",
        "colab_type": "text"
      },
      "source": [
        "> $\\|x\\|_{1}=\\sum_{i=1}^{n}\\left|x_{i}\\right|$"
      ]
    },
    {
      "cell_type": "markdown",
      "metadata": {
        "id": "Q4dl2ZASP_kc",
        "colab_type": "text"
      },
      "source": [
        "* Techniques which use an L1 penalty, like LASSO, encourage solutions where many parameters are zero. \n",
        "\n",
        "* The Manhattan norm gives rise to the Manhattan distance, where the distance between any two points, or vectors, is the sum of the differences between corresponding coordinates.\n",
        "\n",
        "* https://en.m.wikipedia.org/wiki/Taxicab_geometry\n",
        "\n",
        "* https://en.m.wikipedia.org/wiki/Lasso_(statistics)"
      ]
    },
    {
      "cell_type": "markdown",
      "metadata": {
        "id": "SHXnaFUeQBL6",
        "colab_type": "text"
      },
      "source": [
        "**L2 Norm**"
      ]
    },
    {
      "cell_type": "markdown",
      "metadata": {
        "id": "eSVhAEwxB_hW",
        "colab_type": "text"
      },
      "source": [
        "> $\\|x\\|_{2}=\\sqrt{\\sum_{i=1}^{n}\\left|x_{i}\\right|^{2}}$"
      ]
    },
    {
      "cell_type": "markdown",
      "metadata": {
        "id": "r6av7qXO0_rf",
        "colab_type": "text"
      },
      "source": [
        "https://de.m.wikipedia.org/wiki/Euklidische_Norm"
      ]
    },
    {
      "cell_type": "markdown",
      "metadata": {
        "id": "ewZ2VXEjESYA",
        "colab_type": "text"
      },
      "source": [
        "See also: https://en.m.wikipedia.org/wiki/Non-Euclidean_geometry"
      ]
    },
    {
      "cell_type": "markdown",
      "metadata": {
        "id": "O3yL08xkQGbj",
        "colab_type": "text"
      },
      "source": [
        "* Techniques which use an L2 penalty, like ridge regression, encourage solutions where most parameter values are small.\n",
        "\n",
        "* Exkurs: [Elastic Net](https://en.m.wikipedia.org/wiki/Elastic_net_regularization) regularization uses a penalty term that is a combination of the L1 norm and the L2 norm of the parameter vector.\n",
        "\n",
        "* The length of a vector x = (x1, x2, ..., xn) in the n-dimensional real vector space Rn is usually given by the **Euclidean norm**:\n",
        "\n",
        "> $\\|x\\|_{2}=\\left(x_{1}^{2}+x_{2}^{2}+\\cdots+x_{n}^{2}\\right)^{1 / 2}$"
      ]
    },
    {
      "cell_type": "markdown",
      "metadata": {
        "id": "H4u2sHf11vdf",
        "colab_type": "text"
      },
      "source": [
        "Die Euclidean Norm besitzt als eine von einem Skalarprodukt [induzierte Norm](https://de.m.wikipedia.org/wiki/Skalarproduktnorm) **neben den [drei Normaxiomen](https://de.m.wikipedia.org/wiki/Norm_(Mathematik)#Definition) eine Reihe weiterer Eigenschaften**:\n",
        "\n",
        "* die Gültigkeit der [Cauchy-Schwarz-Ungleichung](https://de.m.wikipedia.org/wiki/Cauchy-Schwarzsche_Ungleichung)\n",
        "* der [Parallelogrammgleichung](https://de.m.wikipedia.org/wiki/Parallelogrammgleichung)\n",
        "* sowie eine Invarianz unter unitären Transformationen (Die euklidische Norm ändert sich also unter unitären Transformationen nicht. Für reelle Vektoren sind solche Transformationen beispielsweise Drehungen des Vektors um den Nullpunkt. Diese Eigenschaft wird zum Beispiel bei der numerischen Lösung linearer Ausgleichsprobleme über die **Methode der kleinsten Quadrate mittels QR-Zerlegungen genutzt**.)\n",
        "\n",
        "Für orthogonale Vektoren erfüllt die euklidische Norm selbst eine allgemeinere Form des Satzes des Pythagoras."
      ]
    },
    {
      "cell_type": "markdown",
      "metadata": {
        "id": "lbyU4goN2tS_",
        "colab_type": "text"
      },
      "source": [
        "* Von der euklidischen Norm werden Begriffe wie der euklidische Abstand und die euklidische Topologie abgeleitet. \n",
        "\n",
        "* Sie kann auf unendlichdimensionale Vektorräume verallgemeinert werden, beispielsweise auf Folgenräume durch die ℓ2-Norm und auf Funktionenräume durch die [L2-Norm](https://de.m.wikipedia.org/wiki/Lp-Raum#Der_Hilbertraum_L2) (Hilbertraum L2).\n",
        "\n",
        "* Sieht man eine Matrix mit reellen oder komplexen Einträgen als entsprechend langen Vektor an, so kann die euklidische Norm auch für Matrizen definiert werden und heißt dann [**Frobeniusnorm**](https://de.m.wikipedia.org/wiki/Frobeniusnorm). Die euklidische Norm kann auch auf unendlichdimensionale Vektorräume über den reellen oder komplexen Zahlen verallgemeinert werden und hat dann zum Teil eigene Namen."
      ]
    },
    {
      "cell_type": "markdown",
      "metadata": {
        "id": "TsTnah-j5XPW",
        "colab_type": "text"
      },
      "source": [
        "Die wichtigsten Verallgemeinerungen der Euklidischen Norm:"
      ]
    },
    {
      "cell_type": "markdown",
      "metadata": {
        "id": "MRax0LTq5PpT",
        "colab_type": "text"
      },
      "source": [
        "$\\ell^{2}-$ Norm (**Folgenraum**)\n",
        "\n",
        "* Die $\\ell^{2}-$ Norm ist die Verallgemeinerung der euklidischen Norm auf den [Folgenraum](https://de.m.wikipedia.org/wiki/Folgenraum) $\\ell^{2}$ der quadratisch summierbaren Folgen $\\left(a_{n}\\right)_{n} \\in \\mathbb{K}^{\\mathrm{N}} .$ Hierbei wird lediglich die endliche Summe durch eine unendliche ersetzt und die $\\ell^{2}$ -Norm ist dann gegeben als\n",
        "\n",
        "> $\\left\\|\\left(a_{n}\\right)\\right\\|_{\\ell^{2}}=\\left(\\sum_{n=1}^{\\infty}\\left|a_{n}\\right|^{2}\\right)^{1 / 2}$\n",
        "\n",
        "* Die ℓ-p -Räume sind ein Spezialfall der allgemeineren Lp-Räume, wenn man das Zählmaß auf dem Raum N betrachtet."
      ]
    },
    {
      "cell_type": "markdown",
      "metadata": {
        "id": "Peq0MPwB6WKs",
        "colab_type": "text"
      },
      "source": [
        "$L^{2}-$ Norm (**Funktionenraum**)\n",
        "\n",
        "* Weiter kann die euklidische Norm auf den [Funktionenraum](https://de.m.wikipedia.org/wiki/Funktionenraum) $L^{2}(\\Omega)$ der auf einer Menge $\\Omega$ quadratisch integrierbaren Funktionen verallgemeinert werden, was in zwei Schritten geschieht. Zunächst wird die $\\mathcal{L}^{2}$ Norm einer quadratisch Lebesgue-integrierbaren Funktion $f: \\Omega \\rightarrow \\mathbb{K}$ als\n",
        "\n",
        "> $\\|f\\|_{\\mathcal{L}^{2}(\\Omega)}=\\left(\\int_{\\Omega}|f(x)|^{2} d x\\right)^{1 / 2}$\n",
        "\n",
        "* definiert, wobei im Vergleich zur $\\ell^{2}$ -Norm lediglich die Summe durch ein Integral ersetzt wurde. Dies ist zunächst nur eine Halbnorm, da nicht nur die Nullfunktion, sondern auch alle Funktionen, die sich nur an einer Menge mit Lebesgue-Maß Null von der Nullfunktion unterscheiden, zu Null integriert werden. Daher betrachtet man die Menge der Äquivalenzklassen von Funktionen $[f] \\in L^{2}(\\Omega),$ die fast überall gleich sind, und erhält auf diesem $L^{2}$ -Raum die $L^{2}$ -Norm durch\n",
        "\n",
        "> $\\|[f]\\|_{L^{2}(\\Omega)}=\\|f\\|_{\\mathcal{L}^{2}(\\Omega)}$\n",
        "\n",
        "* Der Raum $L^{2}(\\Omega)$ ist ein Hilbertraum mit dem Skalarprodukt zweier Funktionen\n",
        "\n",
        "> $\\langle f, g\\rangle_{L_{2}(\\Omega)}=\\int_{\\Omega} \\overline{f(x)} \\cdot g(x) d x$\n",
        "\n",
        "* Er lässt sich von dem Lebesgue-Maß auch auf allgemeine Maße verallgemeinern."
      ]
    },
    {
      "cell_type": "markdown",
      "metadata": {
        "id": "zI1toWT6AZet",
        "colab_type": "text"
      },
      "source": [
        "**Exkurs: Sequence Space vs Function Space**"
      ]
    },
    {
      "cell_type": "markdown",
      "metadata": {
        "id": "HEBy-NHOAgJ_",
        "colab_type": "text"
      },
      "source": [
        "* Ein Folgenraum ist ein in der Mathematik betrachteter Vektorraum, dessen Elemente Zahlenfolgen sind. Viele in der Funktionalanalysis auftretende Vektorräume sind Folgenräume oder können durch solche repräsentiert werden. Zu den Beispielen zählen u. a. die wichtigen Räume wie ℓ∞ aller beschränkten Folgen oder c0 aller gegen 0 konvergenten Folgen.\n",
        "\n",
        "* **Werden Normen bzw. Systeme von Normen oder Halbnormen auf Folgenräumen definiert, erhält man normierte Räume bzw. lokalkonvexe Räume.**\n",
        "\n",
        "* A **sequence space** (Folgenraum) is a vector space whose elements are infinite sequences of real or complex numbers. \n",
        "\n",
        "* Equivalently, it is a **function space** (Funktionenraum) whose elements are functions from the natural numbers to the field K of real or complex numbers. \n",
        "\n",
        "* The set of all such functions is naturally identified with the set of all possible infinite sequences with elements in K, and can be turned into a vector space under the operations of pointwise addition of functions and pointwise scalar multiplication. All sequence spaces are linear subspaces of this space. Sequence spaces are typically equipped with a norm, or at least the structure of a topological vector space.\n",
        "\n",
        "* The **most important sequence spaces in analysis are the ℓp spaces**, consisting of the p-power summable sequences, with the p-norm. These are special cases of Lp spaces for the counting measure on the set of natural numbers. \n",
        "\n",
        "* Other important classes of sequences like convergent sequences or null sequences (Nullfolgen) form sequence spaces, respectively denoted c and c0, with the sup norm. Any sequence space can also be equipped with the topology of pointwise convergence, under which it becomes a special kind of Fréchet space called FK-space."
      ]
    },
    {
      "cell_type": "markdown",
      "metadata": {
        "id": "3O9pC39wDsQ4",
        "colab_type": "text"
      },
      "source": [
        "https://de.m.wikipedia.org/wiki/Folgenraum"
      ]
    },
    {
      "cell_type": "markdown",
      "metadata": {
        "id": "Bmbh-1CIDuKZ",
        "colab_type": "text"
      },
      "source": [
        "https://de.m.wikipedia.org/wiki/Funktionenraum"
      ]
    },
    {
      "cell_type": "markdown",
      "metadata": {
        "id": "xU32us9ZQouN",
        "colab_type": "text"
      },
      "source": [
        "**L ∞ Norm**"
      ]
    },
    {
      "cell_type": "markdown",
      "metadata": {
        "id": "q4x8mIupEplw",
        "colab_type": "text"
      },
      "source": [
        "* The vector space ℓ∞ is a **sequence space** whose elements are the bounded sequences. The vector space operations, addition and scalar multiplication, are applied coordinate by coordinate. \n",
        "\n",
        "* L∞ is a **function space**. Its elements are the essentially bounded measurable functions. More precisely, L∞ is defined based on an underlying measure space, (S, Σ, μ). Start with the set of all measurable functions from S to R which are essentially bounded, i.e. bounded up to a set of measure zero. Two such functions are identified if they are equal almost everywhere. Denote the resulting set by L∞(S, μ)."
      ]
    },
    {
      "cell_type": "markdown",
      "metadata": {
        "id": "trPSIZzFS6uw",
        "colab_type": "text"
      },
      "source": [
        "https://en.m.wikipedia.org/wiki/L-infinity"
      ]
    },
    {
      "cell_type": "markdown",
      "metadata": {
        "id": "Ar8qLNfnCi8_",
        "colab_type": "text"
      },
      "source": [
        "Für den Grenzwert p→ ∞ erhält man die ∞-Norm (Unendlich-Norm), die oft auch zu den p-Normen gezählt wird. Sie wird auch **Maximumsnorm oder Tschebyschow-Norm** genannt und ist definiert durch"
      ]
    },
    {
      "cell_type": "markdown",
      "metadata": {
        "id": "ioRBlq9ICFf6",
        "colab_type": "text"
      },
      "source": [
        "> $\\|x\\|_{\\infty}=\\max _{i=1, \\ldots, n}\\left|x_{i}\\right|$"
      ]
    },
    {
      "cell_type": "markdown",
      "metadata": {
        "id": "2hpZp3hzCXku",
        "colab_type": "text"
      },
      "source": [
        "Dass die Maximumsnorm tatsächlich als Grenzwert der $p$ -Normen für $p \\rightarrow \\infty$ entsteht, folgt für $x \\neq 0$\n",
        "aus\n",
        "\n",
        "> $\\lim _{p \\rightarrow \\infty}\\|x\\|_{p}=\\lim _{p \\rightarrow \\infty}\\left(\\sum_{i=1}^{n}\\left|x_{i}\\right|^{p}\\right)^{1 / p}=\\|x\\|_{\\infty} \\cdot \\lim _{p \\rightarrow \\infty}\\left(\\sum_{i=1}^{n}\\left(\\frac{\\left|x_{i}\\right|}{\\|x\\|_{\\infty}}\\right)^{p}\\right)^{1 / p}=\\|x\\|_{\\infty} \\cdot \\lim _{p \\rightarrow \\infty} S^{1 / p}=\\|x\\|_{\\infty}$"
      ]
    },
    {
      "cell_type": "markdown",
      "metadata": {
        "id": "SbrnlkWOBNEE",
        "colab_type": "text"
      },
      "source": [
        "https://de.m.wikipedia.org/wiki/Maximumsnorm"
      ]
    },
    {
      "cell_type": "markdown",
      "metadata": {
        "id": "BIA4-xLTSKoB",
        "colab_type": "text"
      },
      "source": [
        "* For a real number p ≥ 1, the p-norm or Lp-norm of x is defined by\n",
        "\n",
        "> $\\|x\\|_{p}=\\left(\\left|x_{1}\\right|^{p}+\\left|x_{2}\\right|^{p}+\\cdots+\\left|x_{n}\\right|^{p}\\right)^{1 / p}$\n",
        "\n",
        "* The absolute value bars are unnecessary when p is a rational number and, in reduced form, has an even numerator.\n",
        "\n",
        "* The L∞-norm or maximum norm (or uniform norm) is the limit of the Lp-norms for p → ∞. It turns out that this limit is equivalent to the following definition:\n",
        "\n",
        "> $\\|x\\|_{\\infty}=\\max \\left\\{\\left|x_{1}\\right|,\\left|x_{2}\\right|, \\ldots,\\left|x_{n}\\right|\\right\\}$"
      ]
    },
    {
      "cell_type": "markdown",
      "metadata": {
        "id": "MvRUEB0WDriC",
        "colab_type": "text"
      },
      "source": [
        "**Exkurs: Distance**"
      ]
    },
    {
      "cell_type": "markdown",
      "metadata": {
        "id": "ZVLYU7qbDyCl",
        "colab_type": "text"
      },
      "source": [
        "https://en.m.wikipedia.org/wiki/Distance"
      ]
    },
    {
      "cell_type": "markdown",
      "metadata": {
        "id": "6sUWQemQDt3_",
        "colab_type": "text"
      },
      "source": [
        "The 2-norm distance is the Euclidean distance, a generalization of the Pythagorean theorem to more than two coordinates. It is what would be obtained if the distance between two points were measured with a ruler: the \"intuitive\" idea of distance.\n",
        "\n",
        "The 1-norm distance is more colourfully called the taxicab norm or Manhattan distance, because it is the distance a car would drive in a city laid out in square blocks (if there are no one-way streets).\n",
        "\n",
        "The infinity norm distance is also called Chebyshev distance. In 2D, it is the minimum number of moves kings require to travel between two squares on a chessboard.\n",
        "\n",
        "The p-norm is rarely used for values of p other than 1, 2, and infinity, but see super ellipse.\n",
        "\n",
        "In physical space the Euclidean distance is in a way the most natural one, because in this case the length of a rigid body does not change with rotation."
      ]
    },
    {
      "cell_type": "markdown",
      "metadata": {
        "id": "NQ32qNn2D_Gk",
        "colab_type": "text"
      },
      "source": [
        "**Statistical Distance (Divergence)**\n",
        "\n",
        "In statistics and information geometry, there are many kinds of statistical distances, notably divergences, especially Bregman divergences and f-divergences. These include and generalize many of the notions of \"difference between two probability distributions\", and allow them to be studied geometrically, as statistical manifolds. The most elementary is the squared Euclidean distance, which forms the basis of least squares; this is the most basic Bregman divergence. The most important in information theory is the relative entropy (Kullback–Leibler divergence), which allows one to analogously study maximum likelihood estimation geometrically; this is the most basic f-divergence, and is also a Bregman divergence (and is the only divergence that is both). Statistical manifolds corresponding to Bregman divergences are flat manifolds in the corresponding geometry, allowing an analog of the Pythagorean theorem (which is traditionally true for squared Euclidean distance) to be used for linear inverse problems in inference by optimization theory.\n",
        "\n",
        "Other important statistical distances include the Mahalanobis distance, the energy distance, and many others."
      ]
    },
    {
      "cell_type": "markdown",
      "metadata": {
        "id": "sSf1EypWEKH6",
        "colab_type": "text"
      },
      "source": [
        "https://en.m.wikipedia.org/wiki/Statistical_distance"
      ]
    },
    {
      "cell_type": "markdown",
      "metadata": {
        "id": "L7u1GiAGVvzL",
        "colab_type": "text"
      },
      "source": [
        "## **Metric Spaces**"
      ]
    },
    {
      "cell_type": "markdown",
      "metadata": {
        "id": "VHtKKxiw9D18",
        "colab_type": "text"
      },
      "source": [
        "https://en.m.wikipedia.org/wiki/Distance"
      ]
    },
    {
      "cell_type": "markdown",
      "metadata": {
        "id": "Tz1R8B2k80-M",
        "colab_type": "text"
      },
      "source": [
        "https://de.m.wikipedia.org/wiki/Metrischer_Raum"
      ]
    },
    {
      "cell_type": "markdown",
      "metadata": {
        "id": "4cKPMWyZXvZV",
        "colab_type": "text"
      },
      "source": [
        "**Overview**"
      ]
    },
    {
      "cell_type": "markdown",
      "metadata": {
        "id": "qGhMzqBwwH8n",
        "colab_type": "text"
      },
      "source": [
        "A metric space is a set X equipped with a function (called metric) d<sub>X</sub>, that can be thought of as a measurement of the distance of any two elements in X. Formally, the metric is a function\n",
        "\n",
        "> $d_{X}: X \\times X \\rightarrow \\mathbf{R}$"
      ]
    },
    {
      "cell_type": "markdown",
      "metadata": {
        "id": "n7d7_An6wMZW",
        "colab_type": "text"
      },
      "source": [
        "https://en.m.wikipedia.org/wiki/Continuous_function#Continuous_functions_between_metric_spaces"
      ]
    },
    {
      "cell_type": "markdown",
      "metadata": {
        "id": "tTksZM6IX2wW",
        "colab_type": "text"
      },
      "source": [
        "A metric space is a set together with a metric on the set. The metric is a function that defines a concept of distance between any two members of the set, which are usually called points. The metric satisfies a few simple properties. Informally:\n",
        "\n",
        "1. the distance from a point to itself is zero,\n",
        "2. the distance between two distinct points is positive,\n",
        "3. the distance from A to B is the same as the distance from B to A, and\n",
        "4. the distance from A to B (directly) is less than or equal to the distance from A to B via any third point C.\n",
        "\n",
        "A metric on a space induces topological properties like open and closed sets, which lead to the study of more abstract topological spaces."
      ]
    },
    {
      "cell_type": "markdown",
      "metadata": {
        "id": "FXr1VBescJV4",
        "colab_type": "text"
      },
      "source": [
        "1. d(x, y) ≥ 0 (non-negativity)\n",
        "2. d(x, y) = 0 if and only if x = y (identity of indiscernibles. Note that condition 1 and 2 together produce positive definiteness)\n",
        "3. d(x, y) = d(y, x) (symmetry)\n",
        "4. d(x, z) ≤ d(x, y) + d(y, z) (subadditivity / triangle inequality).\n",
        "\n",
        "Then we call d a metric or distancd function"
      ]
    },
    {
      "cell_type": "markdown",
      "metadata": {
        "id": "zMMYN7ReV1TC",
        "colab_type": "text"
      },
      "source": [
        "https://en.m.wikipedia.org/wiki/Metric_space"
      ]
    },
    {
      "cell_type": "markdown",
      "metadata": {
        "id": "fFzrPn6HYJt9",
        "colab_type": "text"
      },
      "source": [
        "**L1 - Manhattan Distance**"
      ]
    },
    {
      "cell_type": "markdown",
      "metadata": {
        "id": "iO0nqUI8m_fA",
        "colab_type": "text"
      },
      "source": [
        "* The Manhattan norm gives rise to the Manhattan distance, where the distance between any two points, or vectors, is the sum of the differences between corresponding coordinates.\n"
      ]
    },
    {
      "cell_type": "markdown",
      "metadata": {
        "id": "rZlz94XCYE8Q",
        "colab_type": "text"
      },
      "source": [
        "**L2 - Euclidean Distance**"
      ]
    },
    {
      "cell_type": "markdown",
      "metadata": {
        "id": "c1bl59wtmyYn",
        "colab_type": "text"
      },
      "source": [
        "* The **euclidean distance** is the L2-norm of the difference, a special case of the Minkowski distance with p=2. It is the natural distance in a geometric interpretation.\n",
        "\n",
        "> $d_{2}:(x, y) \\mapsto\\|x-y\\|_{2}=\\sqrt{d_{\\mathrm{SSD}}}=\\sqrt{\\sum_{i=1}^{n}\\left(x_{i}-y_{i}\\right)^{2}}$\n",
        "\n",
        "* https://en.m.wikipedia.org/wiki/Euclidean_distance\n",
        "\n",
        "* https://en.m.wikipedia.org/wiki/Tikhonov_regularization"
      ]
    },
    {
      "cell_type": "markdown",
      "metadata": {
        "id": "ug1sNzCsdMGh",
        "colab_type": "text"
      },
      "source": [
        "**L ∞ - Minkowski / Chebyshev Distance**"
      ]
    },
    {
      "cell_type": "markdown",
      "metadata": {
        "id": "i7Sd3MWyW5V6",
        "colab_type": "text"
      },
      "source": [
        "* The Minkowski distance is a metric in a normed vector space which can be considered as a generalization of both the Euclidean distance and the Manhattan distance.\n",
        "\n",
        "* Minkowski distance is typically used with p being 1 or 2, which correspond to the Manhattan distance and the Euclidean distance, respectively. In the limiting case of p reaching infinity, we obtain the **Chebyshev distance**:"
      ]
    },
    {
      "cell_type": "markdown",
      "metadata": {
        "id": "8QdrlGVRmlmx",
        "colab_type": "text"
      },
      "source": [
        "* The maximum norm gives rise to the **Chebyshev distance** or chessboard distance, the minimal number of moves a chess king would take to travel from x to y. The Chebyshev distance is the L∞-norm of the difference, a special case of the Minkowski distance where p goes to infinity. It is also known as Chessboard distance.\n",
        "\n",
        "> $d_{\\infty}:(x, y) \\mapsto\\|x-y\\|_{\\infty}=\\lim _{p \\rightarrow \\infty}\\left(\\sum_{i=1}^{n}\\left|x_{i}-y_{i}\\right|^{p}\\right)^{\\frac{1}{p}}=\\max _{i}\\left|x_{i}-y_{i}\\right|$"
      ]
    },
    {
      "cell_type": "markdown",
      "metadata": {
        "id": "2t8p1rGbdPx1",
        "colab_type": "text"
      },
      "source": [
        "https://en.m.wikipedia.org/wiki/Minkowski_distance"
      ]
    },
    {
      "cell_type": "markdown",
      "metadata": {
        "id": "7pdUxKjtgFkR",
        "colab_type": "text"
      },
      "source": [
        "**Metrics vs Norms**\n",
        "\n",
        "Metrics and norms are related, and they can both convey a notion of distance.\n",
        "\n",
        "If we have a set 𝑋, then we say that the function  𝑑:𝑋×𝑋→ℝ≥0 is a metric on 𝑋 if it satisfies the following for all points  𝑥,𝑦,𝑧∈𝑋: \n",
        "\n",
        "*  𝑑(𝑥,𝑦)=0⟹𝑥=𝑦\n",
        "* 𝑑(𝑥,𝑦)=𝑑(𝑦,𝑥) \n",
        "* 𝑑(𝑥,𝑦)≤𝑑(𝑥,𝑧)+𝑑(𝑦,𝑧).\n",
        "\n",
        "We call the function 𝑑 a metric or distance function. What do these properties say though? First, if the distance between two points is 0, then they are actually the same point. Second, the distance doesn't change if you swap where you start and end. The third property is called the triangle inequality, and is motivated by the corresponding property for real numbers.\n",
        "\n",
        "The problem with a metric is that sometimes, they can be too general.\n",
        "\n",
        "For example, take  𝑋=ℚ  and let  𝑑(𝑥,𝑦)=0 if  𝑥=𝑦, and  𝑑(𝑥,𝑦)=1 if  𝑥≠𝑦. I'll let you check it is indeed a metric. This metric sucks. I mean, it doesn't give you any geometrical interpretation of “distance”, and our metric space (ℚ,𝑑) is very hard to visualize, even though ℚ is a nice and familiar set. On a graph (the combinatorial object) this metric may be useful, but I digress.\n",
        "\n",
        "On the other hand, a norm must be defined on a vector space, which inherently have a lot of structure!\n",
        "\n",
        "Let  𝑉 be a vector space over the field  𝑘. A norm is a function  ‖•‖:𝑉→ℝ≥0 that satsfies the following for all 𝜆∈𝑘 and 𝑥,𝑦∈𝑉:\n",
        "\n",
        "* ‖𝑥‖=0⟹𝑥=0\n",
        "* ‖𝜆𝑥‖=|𝜆|‖𝑥‖\n",
        "* ‖𝑥+𝑦‖≤‖𝑥‖+‖𝑦‖\n",
        " \n",
        "Instead of distance between points, a norm gives us the length of a vector, as measured from the origin. Property 3 is also called the triangle inequality, but now it has a nice geometric interpretation (unlike in a general metric space). Also you can give necessary and sufficient conditions on when the triangle inequality is actually an equailty. Not so in a metric space.\n",
        "\n",
        "It is easy to see that a norm is a metric on  𝑉, because length is the same as “distance from 0.” To check, simply replace  𝑥 by  𝑣−𝑤 in the definition of a norm and say  ‖𝑣−𝑤‖=𝑑(𝑣,𝑤). (Note that 𝑣−𝑤∈𝑉 because  𝑉 is a linear space, so we can take it's norm).\n",
        "\n",
        "This does not hold conversely because we may not even have addition of elements in a general set  𝑋.\n",
        "\n",
        "Okay, to sum up. All norms are metrics, and normed spaces (vector spaces with a norm) have a lot more structure than general metric spaces. Anything that holds in a metric space will also hold for a normed space. Metric spaces are more general, but can be ugly!\n",
        "\n",
        "[Source Quora](https://www.quora.com/What-is-the-difference-between-a-metric-and-a-norm)\n"
      ]
    },
    {
      "cell_type": "markdown",
      "metadata": {
        "id": "DdCUxO4ZJvgu",
        "colab_type": "text"
      },
      "source": [
        "## **Topological Vector Spaces**"
      ]
    },
    {
      "cell_type": "markdown",
      "metadata": {
        "id": "kGv_TVQthAjL",
        "colab_type": "text"
      },
      "source": [
        "**Kolmogorov Space (T<sub>0</sub>)**"
      ]
    },
    {
      "cell_type": "markdown",
      "metadata": {
        "id": "21sEOgvQhC3D",
        "colab_type": "text"
      },
      "source": [
        "**Fréchet Space (T<sub>1</sub>)**"
      ]
    },
    {
      "cell_type": "markdown",
      "metadata": {
        "id": "NCZgQhlfexLB",
        "colab_type": "text"
      },
      "source": [
        "**Haussdorf Spaces**"
      ]
    },
    {
      "cell_type": "markdown",
      "metadata": {
        "id": "yYSQRA5ye-FK",
        "colab_type": "text"
      },
      "source": [
        "* A topological space is Hausdorff if and only if it is both preregular (i.e. topologically distinguishable points are separated by neighbourhoods) and Kolmogorov (i.e. distinct points are topologically distinguishable). A topological space is preregular if and only if its Kolmogorov quotient is Hausdorff.\n",
        "\n",
        "* Almost all spaces encountered in analysis are Hausdorff; most importantly, the real numbers (under the standard metric topology on real numbers) are a Hausdorff space. More generally, all metric spaces are Hausdorff. In fact, many spaces of use in analysis, such as topological groups and topological manifolds, have the Hausdorff condition explicitly stated in their definitions."
      ]
    },
    {
      "cell_type": "markdown",
      "metadata": {
        "id": "rF3JibKfNEUU",
        "colab_type": "text"
      },
      "source": [
        "https://en.m.wikipedia.org/wiki/Topological_vector_space"
      ]
    },
    {
      "cell_type": "markdown",
      "metadata": {
        "id": "THQQyoXwEDFm",
        "colab_type": "text"
      },
      "source": [
        "https://en.m.wikipedia.org/wiki/Hausdorff_space"
      ]
    },
    {
      "cell_type": "markdown",
      "metadata": {
        "id": "nFe6UN6aEEBH",
        "colab_type": "text"
      },
      "source": [
        "## **Miscellaneous**"
      ]
    },
    {
      "cell_type": "markdown",
      "metadata": {
        "id": "IdxkIxB1NIQV",
        "colab_type": "text"
      },
      "source": [
        "https://en.m.wikipedia.org/wiki/Functional_analysis"
      ]
    },
    {
      "cell_type": "markdown",
      "metadata": {
        "id": "JJccWn6RVMmD",
        "colab_type": "text"
      },
      "source": [
        "https://en.m.wikipedia.org/wiki/Geometric_measure_theory"
      ]
    }
  ]
}