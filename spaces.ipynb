{
  "nbformat": 4,
  "nbformat_minor": 0,
  "metadata": {
    "colab": {
      "name": "spaces.ipynb",
      "provenance": [],
      "collapsed_sections": [
        "hCG3iyLo1jcj",
        "xYYiKui5ACRL",
        "AucXY1NsAf6R",
        "Ew0Gfkwt2CBu",
        "1f3hd9w12Kqi",
        "qYW5u_0Oi7l5",
        "00B-3E6wT_WN",
        "4SpYIJ602L38",
        "LZZJtKXrF3_P",
        "O1hoL_o6Zh_H",
        "D1mImehPm69J",
        "fTS5ewejIuzX",
        "iyg8hSWHtLwY",
        "_mU93JRZtGw_",
        "sef3vFPZCbBH",
        "ak2HBZOH8xiT",
        "9zeKm32B9J-r",
        "jnf6EJrp8kCL",
        "KVfJxtw_faJK"
      ],
      "toc_visible": true,
      "include_colab_link": true
    },
    "kernelspec": {
      "name": "python3",
      "display_name": "Python 3"
    }
  },
  "cells": [
    {
      "cell_type": "markdown",
      "metadata": {
        "id": "view-in-github",
        "colab_type": "text"
      },
      "source": [
        "<a href=\"https://colab.research.google.com/github/deltorobarba/machinelearning/blob/master/spaces.ipynb\" target=\"_parent\"><img src=\"https://colab.research.google.com/assets/colab-badge.svg\" alt=\"Open In Colab\"/></a>"
      ]
    },
    {
      "cell_type": "markdown",
      "metadata": {
        "id": "2Aoj2PpxvDQV"
      },
      "source": [
        "# **Spaces (Funktional Analysis)**"
      ]
    },
    {
      "cell_type": "code",
      "metadata": {
        "id": "1U5_6xH7tAQq"
      },
      "source": [
        "import numpy as np\n",
        "import pandas as pd\n",
        "import seaborn as sns\n",
        "import matplotlib.pyplot as plt"
      ],
      "execution_count": null,
      "outputs": []
    },
    {
      "cell_type": "markdown",
      "metadata": {
        "id": "ostHcxEvNZ5r"
      },
      "source": [
        "![Normed Vector Space](https://upload.wikimedia.org/wikipedia/en/7/74/Mathematical_Spaces.png)"
      ]
    },
    {
      "cell_type": "markdown",
      "metadata": {
        "id": "BXxHvgntFDSt"
      },
      "source": [
        "Quelle: [Mathematical Spaces](https://en.m.wikipedia.org/wiki/Space_(mathematics))"
      ]
    },
    {
      "cell_type": "markdown",
      "metadata": {
        "id": "aXtkYuCrMR-l"
      },
      "source": [
        "## **Grundlegende Begriffe**"
      ]
    },
    {
      "cell_type": "markdown",
      "metadata": {
        "id": "UlZ1wwQ-_kDU"
      },
      "source": [
        "#### **Funktionalanalysis**"
      ]
    },
    {
      "cell_type": "markdown",
      "metadata": {
        "id": "m_PWlqHc1iRr"
      },
      "source": [
        "In der Funktionalanalysis betrachtet man topologische Vektorräume, d. h. Vektorräume, auf denen man von Konvergenz sprechen und dementsprechend auch unendliche Summen bilden kann. Good overview [here](https://matheplanet.com/default3.html?call=article.php?sid=1192&ref=https%3A%2F%2Fwww.google.de%2F)\n",
        "\n",
        "Functional analysis is organized around adequate techniques to bring function spaces as topological vector spaces within reach of the ideas that would apply to normed spaces of finite dimension. "
      ]
    },
    {
      "cell_type": "markdown",
      "metadata": {
        "id": "syMDia1r2w89"
      },
      "source": [
        "* Die historischen Wurzeln der Funktionalanalysis liegen im Studium der **Fouriertransformation** und aahnlicher Transformationen sowie der Untersuchung von Differential- und Integralgleichungen. \n",
        "\n",
        "* Der Wortbestandteil ”funktional“ geht auf die **Variationsrechnung** zuru ̈ck.\n",
        "\n",
        "* Grundlage der Funktionalanalysis sind Vektorräume über den reellen oder komplexen Zahlen. Der Grundbegriff ist hier der topologische Vektorraum, der dadurch gekennzeichnet ist, **dass die Vektorraumverknüpfungen stetig sind**, etwas konkreter werden auch lokalkonvexe topologische Vektorräume und Fréchet-Räume untersucht. \n",
        "\n",
        "* Wichtige Aussagen sind dabei der Satz von Hahn-Banach, der Satz von Baire und der Satz von Banach-Steinhaus. Insbesondere in der Lösungstheorie partieller Differentialgleichungen spielen diese eine wichtige Rolle, darüber hinaus in der Fredholm-Theorie.\n",
        "\n",
        "* Der wichtigste Spezialfall **lokalkonvexer topologischer Vektorräume** sind **normierte Vektorräume**. Sind diese zusätzlich vollständig, dann heißen sie **Banachräume**. Noch spezieller betrachtet man **Hilberträume**, bei denen die Norm von einem Skalarprodukt erzeugt wird. Diese Räume sind von grundlegender Bedeutung für die mathematische Formulierung der Quantenmechanik. Ein wichtiger Untersuchungsgegenstand sind stetige lineare Operatoren auf Banach- oder Hilberträumen.\n",
        "\n"
      ]
    },
    {
      "cell_type": "markdown",
      "metadata": {
        "id": "NV5j--Nm5XWi"
      },
      "source": [
        "#### **Funktionenraum**"
      ]
    },
    {
      "cell_type": "markdown",
      "metadata": {
        "id": "7SaeXgZM5beC"
      },
      "source": [
        "**A function space is a set of functions between two fixed sets.** \n",
        "\n",
        "Often, the domain and/or codomain will have additional structure which is inherited by the function space. For example, the set of functions from any set X into a vector space has a natural vector space structure given by pointwise addition and scalar multiplication. In other scenarios, the function space might inherit a topological or metric structure, hence the name function space.\n",
        "\n",
        "* Ein [Funktionenraum](https://de.wikipedia.org/wiki/Funktionenraum) ist **eine Menge von Funktionen, die alle denselben Definitionsbereich besitzen**. Allerdings kann der Begriff Funktionenraum ähnlich wie der mathematische Begriff Raum nicht scharf abgegrenzt werden.\n",
        "\n",
        "* Meist ist ein Funktionenraum mit einer **Vektoraddition und Skalarmultiplikation** versehen, so dass er einen Vektorraum bildet, dann spricht man von einem linearen Funktionenraum\n",
        "\n",
        "* Viele wichtige lineare Funktionenräume sind unendlichdimensional. Diese bilden einen wichtigen Untersuchungsgegenstand der Funktionalanalysis. \n",
        "\n",
        "* Lineare Funktionenräume werden häufig mit einer Norm versehen, sodass ein normierter Raum oder – im Falle der Vollständigkeit – sogar ein Banachraum entsteht. In anderen Fällen werden lineare Funktionenräume durch Definition einer Topologie zu einem topologischen Vektorraum oder einem lokalkonvexen Raum.\n",
        "\n",
        "* Funktionenräume sind im Bereich der linearen Algebra Vektorräume, deren Elemente als Funktionen aufgefasst werden. Hauptsächlich werden Funktionenräume allerdings im Bereich der Funktionalanalysis betrachtet. Hier wird unter einem Funktionenraum ein Vektorraum mit einer topologischen Struktur verstanden, dessen Elemente als Funktionen aufgefasst werden.\n",
        "\n"
      ]
    },
    {
      "cell_type": "markdown",
      "metadata": {
        "id": "QyBc99P47hHM"
      },
      "source": [
        "**In der linearen Algebra**: Sei $D$ eine nichtleere Menge und $V$ ein Vektorraum über einem Körper $K$, dann bezeichnet $V^{D}$ (auch $\\mathrm{Abb}(D, V)$ oder $F(D, V)$ ) die Menge aller Funktionen von $D$ nach $V$. Die Menge $V^{D}$ wird für $f, g \\in V^{D}$ und für Skalare $\\lambda \\in K$ durch die folgenden beiden Verknüpfungen zu einem Vektorraum:\n",
        "Addition: $(f+g): D \\rightarrow V, x \\mapsto f(x)+g(x)$\n",
        "Skalarmultiplikation $\\lambda f: D \\rightarrow V, x \\mapsto \\lambda \\cdot f(x)$\n",
        "Dieser Vektorraum $V^{D}$ und die Untervektorrăume von $V^{D}$ werden im Bereich der linearen Algebra als Funktionenraum bezeichnet.\n",
        "\n",
        "\n",
        "**In der Funktionalanalysis:** Sei $D$ eine nichtleere Menge, $V$ ein topologischer Vektorraum (oftmals ein Banachraum oder lokalkonvexer Vektorraum) und $V^{D}$ der Vektorraum aller Abbildungen von $D$ nach $V$. Ein linearer Funktionenraum im Bereich der Funktionalanalysis ist ein Untervektorraum von $V^{D},$ der mit einer von $V$ abgeleiteten topologischen Struktur versehen ist.\n",
        "\n",
        "**In der Topologie**: In der Topologie versteht man unter einem Funktionenraum einen topologischen Raum, dessen Elemente Funktionen von einer Menge oder einem topologischen Raum $X$ in einen topologischen Raum $Y$ sind und dessen Topologie von der Topologie von $X$ und $Y$ und eventuellen Zusatzstrukturen, wie zum Beispiel einer Metrik oder einer uniformen Struktur, abgeleitet ist. Häufig wird die Kompakt-Offen-Topologie verwendet."
      ]
    },
    {
      "cell_type": "markdown",
      "metadata": {
        "id": "hCG3iyLo1jcj"
      },
      "source": [
        "#### **Operator**"
      ]
    },
    {
      "cell_type": "markdown",
      "metadata": {
        "id": "Jk36BF1D1w6k"
      },
      "source": [
        "* Ein [Operator](https://de.wikipedia.org/wiki/Operator_(Mathematik)) ist eine mathematische Vorschrift, durch die man aus mathematischen Objekten neue Objekte bilden kann.\n",
        "\n",
        "* Er kann eine standardisierte Funktion oder eine Vorschrift über Funktionen sein. \n",
        "\n",
        "* In der Funktionalanalysis hat man es mit Vektorräumen zu tun, deren Elemente selbst Funktionen sind. Diese Räume nennt man auch [Funktionenräume](https://de.wikipedia.org/wiki/Funktionenraum). Um die Elemente dieser Vektorräume besser von den Abbildungen zwischen solchen Vektorräumen zu unterscheiden, nennt man letztere auch Operatoren. (Abbildungen zwischen solchen Vektorräumen bezeichnet man auch als Operatoren.)\n",
        "\n",
        "* Beispiele für Operatoren sind:\n",
        "\n",
        "  * Operatoren für die Grundrechenarten: +, -, *, /\n",
        "\n",
        "  * Funktionaloperatoren (im Sinne der Funktionalanalysis): $\\frac{d}{d x} \\int \\nabla$ grad div rot"
      ]
    },
    {
      "cell_type": "markdown",
      "metadata": {
        "id": "q1A4i4rhFaBn"
      },
      "source": [
        "**Unterschied Operator und Funktion**: Was den mathematischen Formalismus angeht, gibt es keinen Unterschied zwischen einem Operator und einer Funktion (und einer Abbildung). Allerdings gibt es einen 'philosophischen' Unterschied: Operatoren werden meistens für zwei Typen von Funktionen verwendet: a) Grundlegende Rechenoperationen. b) Funktionen, deren Argumente ebenfalls Funktionen sind. c) Funktionen in der Meta-Ebene. Mehr dazu steht im bereits verlinkten Wikipedia-Artikel."
      ]
    },
    {
      "cell_type": "markdown",
      "metadata": {
        "id": "_BMwC_7ev16S"
      },
      "source": [
        "#### **Funktional**"
      ]
    },
    {
      "cell_type": "markdown",
      "metadata": {
        "id": "Z2gaucfCv5BP"
      },
      "source": [
        "* **Ein [Funktional](https://de.m.wikipedia.org/wiki/Funktional) bzw. [functional](https://en.m.wikipedia.org/wiki/Functional_(mathematics)) J[y] bildet eine <u>Funktion</u> y(x) auf eine <u>Zahl</u> ab.**\n",
        "\n",
        "> Sei $V$ ein $\\mathbb{K}$ -Vektorraum mit $\\mathbb{K} \\in\\{\\mathbb{R}, \\mathbb{C}\\} .$ Ein Funktional $T$ ist eine Abbildung $T: V \\rightarrow \\mathbb{K} .$\n",
        "\n",
        "* eine Funktion, deren Definitionsmenge (Urbilder) als Teilmenge in einem Vektorraum V enthalten ist, während ihre Zielmenge in dem zugehörigen Skalarkörper liegt (zB von einer Fläche R<sup>2</sup> in eine Linie R)\n",
        "\n",
        "* Exkurs Funktionalanalyse: Hier ist der untersuchte Vektorraum V zumeist ein Funktionenraum, also ein Vektorraum, dessen Elemente reell- oder komplexwertige Funktionen sind, wobei diesen durch Funktionale Skalare zugeordnet werden. Als bedeutendes Beispiel eines solchen Funktionals kann etwa das [Lebesgue-Integral](https://de.m.wikipedia.org/wiki/Lebesgue-Integral) gelten."
      ]
    },
    {
      "cell_type": "markdown",
      "metadata": {
        "id": "KX8x82Y91lKD"
      },
      "source": [
        "![cc](https://raw.githubusercontent.com/deltorobarba/repo/master/operator.png)\n",
        "\n",
        "[Image Source](https://me-lrt.de/operator-linear-beschrankt)"
      ]
    },
    {
      "cell_type": "markdown",
      "metadata": {
        "id": "L9pDmvzc27ag"
      },
      "source": [
        "**Unterschied zwischen Funktion und Funktional:**\n",
        "\n",
        "* Eine Funktion bildet Elemente eines Körpers auf andere ab, zum Beispiel. $f: \\mathbb{R}^{3} \\rightarrow \\mathbb{R}^{2}$\n",
        "\n",
        "* Ein Funktional hingegen ist ein Operator, der Elemente eines Vektorraumes $V$ auf den Skalarkörper\n",
        "$K$ abbildet, über dem $V$ modelliert ist. Diese Elemente können zum Beispiel selber Funktionen sein\n",
        "(wenn der Vektorraum ein Funktionenraum ist)"
      ]
    },
    {
      "cell_type": "markdown",
      "metadata": {
        "id": "eU75x1wPLJhq"
      },
      "source": [
        "**Example of Linear functional**"
      ]
    },
    {
      "cell_type": "markdown",
      "metadata": {
        "id": "Gd2SrNflLO4Z"
      },
      "source": [
        "**Example of Non-linear functional**"
      ]
    },
    {
      "cell_type": "markdown",
      "metadata": {
        "id": "W8l9oubJL290"
      },
      "source": [
        "[**Functional derivative**](https://en.m.wikipedia.org/wiki/Functional_derivative)"
      ]
    },
    {
      "cell_type": "markdown",
      "metadata": {
        "id": "-evrFl9ZJ8c1"
      },
      "source": [
        "* Functional derivatives are used in Lagrangian mechanics. They are derivatives of functionals: i.e. they carry information on how a functional changes when the input function changes by a small amount."
      ]
    },
    {
      "cell_type": "markdown",
      "metadata": {
        "id": "ZBGRXzCzHdHm"
      },
      "source": [
        "[**Functional integration**](https://en.m.wikipedia.org/wiki/Functional_integration)"
      ]
    },
    {
      "cell_type": "markdown",
      "metadata": {
        "id": "UdfJLCj5J-sg"
      },
      "source": [
        "* Richard Feynman used functional integrals as the central idea in his sum over the histories formulation of quantum mechanics. This usage implies an integral taken over some function space."
      ]
    },
    {
      "cell_type": "markdown",
      "metadata": {
        "id": "gQTz9Ux4z3fz"
      },
      "source": [
        "#### **Linearform**"
      ]
    },
    {
      "cell_type": "markdown",
      "metadata": {
        "id": "EqayuDxZz-0m"
      },
      "source": [
        "* 'Linear form' is a more modern and abstract concept of 'functional': In modern linear algebra, functional refers to a linear mapping from a vector space $V$ into its field of scalars, i.e., it refers to an element of the dual space $V^{*}$. \n",
        "\n",
        "* Die Linearform ist ein Begriff aus dem mathematischen Teilgebiet der linearen Algebra. Man bezeichnet damit eine lineare Abbildung von einem Vektorraum in den zugrundeliegenden Körper.\n",
        "\n",
        "* Im Kontext der Funktionalanalysis, das heißt im Falle eines topologischen \n",
        "$\\mathbb {R}$ - oder $\\mathbb {C}$-Vektorraums, sind die betrachteten Linearformen meistens [stetige lineare Funktionale](https://de.m.wikipedia.org/wiki/Funktional#Stetige_lineare_Funktionale).\n",
        "\n",
        "* Es sei $K$ ein Körper und $V$ ein $K$ -Vektorraum. Eine Abbildung $f: V \\rightarrow K$ heißt Linearform, wenn für alle Vektoren $x, y \\in V$ und Skalare $\\alpha \\in K$ gilt:\n",
        "\n",
        "1. $f(x+y)=f(x)+f(y)$ (**Additivität**);\n",
        "\n",
        "2. $f(\\alpha x)=\\alpha f(x)$ (**Homogenität**).\n",
        "\n",
        "* **Übergang zu Dualraum**: Die Menge aller Linearformen über einem gegebenen Vektorraum $V$ bildet dessen Dualraum $V^{*}$ und damit selbst wieder in natürlicher Weise einen $K$ -Vektorraum."
      ]
    },
    {
      "cell_type": "markdown",
      "metadata": {
        "id": "aGaeM-nnz7Ee"
      },
      "source": [
        "https://de.m.wikipedia.org/wiki/Linearform"
      ]
    },
    {
      "cell_type": "markdown",
      "metadata": {
        "id": "S1eZVDyEJxky"
      },
      "source": [
        "https://en.m.wikipedia.org/wiki/Linear_form"
      ]
    },
    {
      "cell_type": "markdown",
      "metadata": {
        "id": "sjqKk4EMJh4k"
      },
      "source": [
        "#### **One-form (Pfaffsche Form)**"
      ]
    },
    {
      "cell_type": "markdown",
      "metadata": {
        "id": "R-w5V3nEJlTN"
      },
      "source": [
        "https://en.m.wikipedia.org/wiki/One-form"
      ]
    },
    {
      "cell_type": "markdown",
      "metadata": {
        "id": "n7txO-4l254v"
      },
      "source": [
        "#### **Dualraum**"
      ]
    },
    {
      "cell_type": "markdown",
      "metadata": {
        "id": "GtI4LdT4BWYX"
      },
      "source": [
        "Beim Studium normierter Räume ist die Untersuchung des Dualraumes wichtig. Der Dualraum besteht aus allen stetigen linearen Funktionen vom normierten Raum in seinen Skalarkörper, also in die reellen oder komplexen Zahlen. Der Bidual, also der Dualraum des Dualraums, muss nicht isomorph zum ursprünglichen Raum sein, aber es gibt stets einen natürlichen Monomorphismus von einem Raum in seinen Bidual. Ist dieser spezielle Monomorphismus auch surjektiv, dann spricht man von einem reflexiven Banachraum.\n",
        "\n"
      ]
    },
    {
      "cell_type": "markdown",
      "metadata": {
        "id": "2IWExb4pLbRI"
      },
      "source": [
        "Dualraum: https://youtu.be/2vvjrBbcTZU"
      ]
    },
    {
      "cell_type": "markdown",
      "metadata": {
        "id": "0dayuxImzTOv"
      },
      "source": [
        "* In den meisten Bereichen der Funktionalanalysis, etwa in der Theorie der [topologischen\n",
        "Vektorräume](https://de.m.wikipedia.org/wiki/Topologischer_Vektorraum), wird der Begriff Funktional (ohne weiteren Zusatz) als Synonym für lineare Funktionale\n",
        "benutzt. \n",
        "\n",
        "* Ein solches Funktional ist also definitionsgemäß eine [Linearform](https://de.m.wikipedia.org/wiki/Linearform), also eine lineare\n",
        "Abbildung des Vektorraumes $V$ in seinen Skalarkörper $\\mathbb{K}$. \n",
        "\n",
        "* Die Menge all dieser Funktionale ist\n",
        "wiederum in natürlicher Form ein Vektorraum über dem gleichen Körper $\\mathbb{K}$, indem man für zwei\n",
        "Funktionale $f$ und $g$ über $V$ die Addition und Skalarmultiplikation punktweise definiert, d. h.\n",
        "\n",
        "\n",
        "> $\n",
        "(f+g)(x):=f(x)+g(x) \\quad(\\lambda f)(x):=\\lambda(f(x)), x \\in V\n",
        "$\n",
        "\n",
        "Der Vektorraum der linearen Funktionale auf dem Vektorraum $V$ wird der algebraische Dualraum genannt und oft mit $V^{*}$ bezeichnet."
      ]
    },
    {
      "cell_type": "markdown",
      "metadata": {
        "id": "VWv2DHm71k_n"
      },
      "source": [
        "Beispiele von Dualräumen"
      ]
    },
    {
      "cell_type": "markdown",
      "metadata": {
        "id": "QPIQCssA1-w-"
      },
      "source": [
        "Für den Vektorraum $V=\\mathbb{R}^{n}$ ist der Dualraum kanonisch isomorph zum Vektorraum selbst, $\\mathrm{d} .$ h. $V \\cong V$ Der kanonische Isomorphismus $I: \\mathbb{R}^{n} \\rightarrow\\left(\\mathbb{R}^{n}\\right)^{*}$ wird dabei über das [Standardskalarprodukt](https://de.m.wikipedia.org/wiki/Standardskalarprodukt) vermittelt:\n",
        "$$\n",
        "(I(x))(y):=\\langle x, y\\rangle=\\sum_{i=1}^{n} x_{i} \\cdot y_{i}\n",
        "$$\n",
        "Für den Vektorraum $V=\\mathbb{C}^{n}$ gilt ähnliches wie im ersten Fall, allerdings ist die kanonische Abbildung $I: \\mathbb{C}^{n} \\rightarrow\\left(\\mathbb{C}^{n}\\right)^{*}$ in diesem Fall semilinear:\n",
        "$$\n",
        "(I(x))(y):=\\langle x, y\\rangle=\\sum_{i=1}^{n} \\overline{x_{i}} \\cdot y_{i}\n",
        "$$\n",
        "Der Dualraum ist in diesem Fall also gleich groB, hat aber bezüglich der kanonischen Abbildung eine\n",
        "andere Skalarmultiplikation. Im Sinne der linearen Algebra sagt man auch: Der Dualraum ist kanonisch\n",
        "isomorph zum komplex konjugierten Vektorraum."
      ]
    },
    {
      "cell_type": "markdown",
      "metadata": {
        "id": "iWM3n5Ib2v94"
      },
      "source": [
        "*Beispiele topologischer Dualräume*"
      ]
    },
    {
      "cell_type": "markdown",
      "metadata": {
        "id": "OuJVFzQ22tcK"
      },
      "source": [
        "Für endlichdimensionale Vektorräume gibt es eine natürliche Topologie ([Normtopologie](https://de.m.wikipedia.org/wiki/Normtopologie)), die aus der euklidischen Norm hervorgeht (genauer gesagt: aus einer beliebigen euklidischen Norm, wenn man eine Basis wählt). Dies ist gerade die Topologie, die der normalen Standard-Analysis zugrunde liegt, und in dieser ist jedes lineare Funktional stetig. Das heißt, der algebraische Dualraum ist gleich dem topologischen Dualraum.\n",
        "\n",
        "Im unendlichdimensionalen Fall ist der topologische Dualraum (fast) immer ein echter Teilraum des algebraischen Dualraumes.\n",
        "\n",
        "In normierten Vektorräumen ist ein Funktional \n",
        "f\n",
        "f genau dann stetig, wenn es beschränkt ist, das heißt"
      ]
    },
    {
      "cell_type": "markdown",
      "metadata": {
        "id": "Ml2Bs7ti3F-d"
      },
      "source": [
        "> $\\sup _{\\|x\\| \\leq 1}|f(x)|<\\infty$"
      ]
    },
    {
      "cell_type": "markdown",
      "metadata": {
        "id": "qcdQxuE022UR"
      },
      "source": [
        "Der topologische Dualraum ist dann automatisch ein Banachraum mit der oben angegebenen Supremumsnorm.\n",
        "\n",
        "In Hilberträumen ist der topologische Dualraum kanonisch mit dem Ursprungsraum identifizierbar (Darstellungssatz von Fréchet-Riesz). Die Identifikation erfolgt wie im endlichdimensionalen Fall über das Skalarprodukt:"
      ]
    },
    {
      "cell_type": "markdown",
      "metadata": {
        "id": "e_kmVm_s3LJ2"
      },
      "source": [
        "> $(I(y)):=\\langle\\cdot, y\\rangle$"
      ]
    },
    {
      "cell_type": "markdown",
      "metadata": {
        "id": "_jMuxa_W33ho"
      },
      "source": [
        "Der topologische Dualraum des Raumes der unendlich oft stetig differenzierbaren Funktionen mit kompaktem Träger auf der reellen Achse (die so genannten Testfunktionen) mit einer bestimmten (hier nicht näher erklärten) Topologie wird als Raum der [Distributionen](https://de.m.wikipedia.org/wiki/Distribution_(Mathematik)) bezeichnet. In diesem Raum liegt auch das weiter oben genannte Beispiel des Dirac-Delta-Funktionals."
      ]
    },
    {
      "cell_type": "markdown",
      "metadata": {
        "id": "NToOT7Yn2J9q"
      },
      "source": [
        "Weitere Defintion Dualraum"
      ]
    },
    {
      "cell_type": "markdown",
      "metadata": {
        "id": "4LAkpsz829WH"
      },
      "source": [
        "* ist ein Vektorraum, der die Abbildungen als Elemente umfasst\n",
        "\n",
        "* Menge (Objekte) sind verbunden mit Abbildungen ('Funktionen') von einer Menge X1 in eine andere Menge X2\n",
        "\n",
        "* Sei V ein K-Vektorraum (zB K als reelle Zahlen R und V als R<sup>2</sup>)\n",
        "\n",
        "* V* = {f : V -> K | f linear}, das ist ein Homomorphismus (eine strukturerhaltende Abbildung)\n",
        "\n",
        "* Um Menge V besser zu verstehen, definiert man eine \"Partnermenge\" V*, die als Elemente alle Abbildungen von V nach K enthaelt"
      ]
    },
    {
      "cell_type": "markdown",
      "metadata": {
        "id": "9KeiejPyBYvZ"
      },
      "source": [
        "**Others**"
      ]
    },
    {
      "cell_type": "markdown",
      "metadata": {
        "id": "O61EoJrcMT9A"
      },
      "source": [
        "Isometrie"
      ]
    },
    {
      "cell_type": "markdown",
      "metadata": {
        "id": "cstW_ynAMYoM"
      },
      "source": [
        "Shift Operator"
      ]
    },
    {
      "cell_type": "markdown",
      "metadata": {
        "id": "-nMqL6-FMfyJ"
      },
      "source": [
        "Folgengrenzwert"
      ]
    },
    {
      "cell_type": "markdown",
      "metadata": {
        "id": "gZaXsolZMhuy"
      },
      "source": [
        "Stetigkeit"
      ]
    },
    {
      "cell_type": "markdown",
      "metadata": {
        "id": "xYYiKui5ACRL"
      },
      "source": [
        "#### **Lokalkonvexer Raum**"
      ]
    },
    {
      "cell_type": "markdown",
      "metadata": {
        "id": "n_pjXfQ9AFCP"
      },
      "source": [
        "https://de.wikipedia.org/wiki/Lokalkonvexer_Raum"
      ]
    },
    {
      "cell_type": "markdown",
      "metadata": {
        "id": "AucXY1NsAf6R"
      },
      "source": [
        "#### **Orthonormalbasis**"
      ]
    },
    {
      "cell_type": "markdown",
      "metadata": {
        "id": "rc1mdTTOAlfK"
      },
      "source": [
        "* Eine Orthonormalbasis (ONB) oder ein vollständiges Orthonormalsystem (VONS) ist in den mathematischen Gebieten lineare Algebra und Funktionalanalysis **eine Menge von Vektoren aus einem Vektorraum mit Skalarprodukt (Innenproduktraum), welche auf die Länge eins normiert und zueinander orthogonal sind** (daher Ortho-normal-basis) und deren lineare Hülle dicht im Vektorraum liegt. Im endlichdimensionalen Fall ist dies eine Basis des Vektorraums. Im unendlichdimensionalen Fall handelt es sich nicht um eine Vektorraumbasis im Sinn der linearen Algebra.\n",
        "\n",
        "* Verzichtet man auf die Bedingung, dass die Vektoren auf die Länge eins normiert sind, so spricht man von einer **Orthogonalbasis**.\n",
        "\n",
        "* Der Begriff der Orthonormalbasis ist sowohl im Fall endlicher Dimension als auch für unendlichdimensionale Räume, insbesondere Hilberträume, von großer Bedeutung."
      ]
    },
    {
      "cell_type": "markdown",
      "metadata": {
        "id": "ZxpXHUk0AiDL"
      },
      "source": [
        "https://de.wikipedia.org/wiki/Orthonormalbasis"
      ]
    },
    {
      "cell_type": "markdown",
      "metadata": {
        "id": "Ew0Gfkwt2CBu"
      },
      "source": [
        "#### **Space**"
      ]
    },
    {
      "cell_type": "markdown",
      "metadata": {
        "id": "mYX8BpsE7IqC"
      },
      "source": [
        "**What constitutes a 'space'?**"
      ]
    },
    {
      "cell_type": "markdown",
      "metadata": {
        "id": "zqI_Wvvlu5y7"
      },
      "source": [
        "* **A space is a [set](https://en.m.wikipedia.org/wiki/Set_(mathematics)) - (sometimes called a [universe - Grundmenge](https://en.m.wikipedia.org/wiki/Universe_(mathematics))) with some added structure.**\n",
        "\n",
        "* A space consists of selected **mathematical objects that are treated as points**, and selected **relationships between these points**. \n",
        "\n",
        "* The nature of the points can vary widely: for example, the **points can be elements of a set, functions on another space, or subspaces of another space.**\n",
        "\n",
        "* While modern mathematics uses many types of spaces, such as Euclidean spaces, linear spaces, topological spaces, Hilbert spaces, or probability spaces, **it does not define the notion of \"space\" itself.**\n",
        "\n",
        "* **It is the relationships that define the nature of the space**. More precisely, isomorphic spaces are considered identical, where an isomorphism between two spaces is a one-to-one correspondence between their points that preserves the relationships. For example, the relationships between the points of a three-dimensional Euclidean space are uniquely determined by Euclid's axioms, and all three-dimensional Euclidean spaces are considered identical.\n",
        "\n",
        "* They are frequently described as different types of [manifolds](https://en.m.wikipedia.org/wiki/Manifold), which are **spaces that locally approximate to Euclidean space**, and where the properties are defined largely on local connectedness of points that lie on the manifold. "
      ]
    },
    {
      "cell_type": "markdown",
      "metadata": {
        "id": "Z0mvW1MTEwFC"
      },
      "source": [
        "**Wichtige Räume**"
      ]
    },
    {
      "cell_type": "markdown",
      "metadata": {
        "id": "tdKlLJIbEuW2"
      },
      "source": [
        "* Vektorräume und topologische Räume\n",
        "\n",
        "* Metrische und uniforme Räume\n",
        "\n",
        "* Normierte Räume und Skalarprodukträume\n",
        "\n",
        "* Affine und projektive Räume\n",
        "\n",
        "* Differenzierbare und Riemannsche Mannigfaltigkeiten\n",
        "\n",
        "* Messräume, Maßräume und Wahrscheinlichkeitsräume"
      ]
    },
    {
      "cell_type": "markdown",
      "metadata": {
        "id": "fNEJIQ7kElb0"
      },
      "source": [
        "**Vector Spaces**"
      ]
    },
    {
      "cell_type": "markdown",
      "metadata": {
        "id": "hbITYPNHEkj5"
      },
      "source": [
        "* There are however, many diverse mathematical objects that are called spaces. For example, [vector spaces](https://en.m.wikipedia.org/wiki/Vector_space) such as [function spaces](https://en.m.wikipedia.org/wiki/Function_space) may have infinite numbers of independent dimensions and a notion of distance very different from Euclidean space, and [topological spaces](https://en.m.wikipedia.org/wiki/Topological_space) replace the concept of distance with a more abstract idea of nearness.\n",
        "\n",
        "* **Infinite-dimensional vector spaces arise naturally in mathematical analysis, as function spaces**, whose vectors are functions. These vector spaces are generally endowed with additional structure, which may be a topology, allowing the consideration of issues of proximity and continuity. \n",
        "\n",
        "* Among these topologies, those that are defined by a norm or inner product are more commonly used, as having a notion of distance between two vectors. This is particularly the case of **Banach spaces and Hilbert spaces**, which are fundamental in mathematical analysis."
      ]
    },
    {
      "cell_type": "markdown",
      "metadata": {
        "id": "1xPv_bzg7N80"
      },
      "source": [
        "https://en.m.wikipedia.org/wiki/Space_(mathematics)"
      ]
    },
    {
      "cell_type": "markdown",
      "metadata": {
        "id": "aBTpG-ygvTqz"
      },
      "source": [
        "**Taxonomy of Spaces**"
      ]
    },
    {
      "cell_type": "markdown",
      "metadata": {
        "id": "rm4pHBIUFS4E"
      },
      "source": [
        "While each type of space has its own definition, the general idea of \"space\" evades formalization. "
      ]
    },
    {
      "cell_type": "markdown",
      "metadata": {
        "id": "54_dk0VtvVNR"
      },
      "source": [
        "https://en.m.wikipedia.org/wiki/Space_(mathematics)#Taxonomy_of_spaces"
      ]
    },
    {
      "cell_type": "markdown",
      "metadata": {
        "id": "1f3hd9w12Kqi"
      },
      "source": [
        "#### **Norm Topology**"
      ]
    },
    {
      "cell_type": "markdown",
      "metadata": {
        "id": "QIrHsDg12uK6"
      },
      "source": [
        "Eine Normtopologie ist eine Topologie auf einem normierten Vektorraum, die durch die Norm des Vektorraums induziert wurde."
      ]
    },
    {
      "cell_type": "markdown",
      "metadata": {
        "id": "K-ckkWbP2Ny_"
      },
      "source": [
        "https://de.m.wikipedia.org/wiki/Normtopologie"
      ]
    },
    {
      "cell_type": "markdown",
      "metadata": {
        "id": "Ze2qB8fEjkSP"
      },
      "source": [
        "https://de.m.wikipedia.org/wiki/Norm_(Mathematik)#Normierte_Räume"
      ]
    },
    {
      "cell_type": "markdown",
      "metadata": {
        "id": "mEWNHFTs3MuK"
      },
      "source": [
        "![xxx](https://upload.wikimedia.org/wikipedia/commons/thumb/a/a2/Beziehungen_zwischen_mathematischen_Räumen.svg/220px-Beziehungen_zwischen_mathematischen_Räumen.svg.png)"
      ]
    },
    {
      "cell_type": "markdown",
      "metadata": {
        "id": "cvQVBTIz3Af2"
      },
      "source": [
        "*Beziehungen zwischen Norm, Metrik und Topologie*"
      ]
    },
    {
      "cell_type": "markdown",
      "metadata": {
        "id": "fdqbIVwZrhhX"
      },
      "source": [
        "**Be careful**: A [vector space](https://en.m.wikipedia.org/wiki/Vector_space) is an [algebraic structure](https://en.m.wikipedia.org/wiki/Outline_of_algebraic_structures), meanwhile a [normed vector space](https://en.m.wikipedia.org/wiki/Normed_vector_space) is a type of [abstract (topological) space](https://en.m.wikipedia.org/wiki/Space_(mathematics)#Taxonomy_of_spaces) (a normed vector space is a vector space over the real or complex numbers, on which a norm is defined)."
      ]
    },
    {
      "cell_type": "markdown",
      "metadata": {
        "id": "_2I8_SW5t1TO"
      },
      "source": [
        "https://en.m.wikipedia.org/wiki/Functional_analysis"
      ]
    },
    {
      "cell_type": "markdown",
      "metadata": {
        "id": "Fx8aeY4qt-I4"
      },
      "source": [
        "https://en.m.wikipedia.org/wiki/Topological_vector_space"
      ]
    },
    {
      "cell_type": "markdown",
      "metadata": {
        "id": "yqbQ5Z6RvAyF"
      },
      "source": [
        "**Differentiations**"
      ]
    },
    {
      "cell_type": "markdown",
      "metadata": {
        "id": "69ctNRHBvHbg"
      },
      "source": [
        "Topologischer Raum |  | dazugehörige Struktur\n",
        "--- | --- | ---\n",
        "[Euklidischer Raum](https://de.m.wikipedia.org/wiki/Euklidischer_Raum) | hat | Skalarprodukt\n",
        "[Normierter Raum](https://de.m.wikipedia.org/wiki/Normierter_Raum) | hat | Norm\n",
        "[Metrischer Raum](https://de.m.wikipedia.org/wiki/Metrischer_Raum) | hat | Metrik\n",
        "[Uniformer Raum](https://de.m.wikipedia.org/wiki/Uniformer_Raum) | hat | Uniforme Struktur\n",
        "[Topologischer Raum](https://de.m.wikipedia.org/wiki/Topologischer_Raum) | hat | Topologie"
      ]
    },
    {
      "cell_type": "markdown",
      "metadata": {
        "id": "EX3MWnkavJSo"
      },
      "source": [
        "Quelle: [Einordnung in die Hierarchie mathematischer Strukturen](https://de.m.wikipedia.org/wiki/Metrischer_Raum#Einordnung_in_die_Hierarchie_mathematischer_Strukturen) sowie [Topologische Räume](https://de.m.wikipedia.org/wiki/Topologischer_Raum#Beispiele)"
      ]
    },
    {
      "cell_type": "markdown",
      "metadata": {
        "id": "z7g61tVkvMXM"
      },
      "source": [
        "![alternativer Text](https://upload.wikimedia.org/wikipedia/commons/thumb/d/dc/Mathematical_implication_diagram-alt-large-print.svg/640px-Mathematical_implication_diagram-alt-large-print.svg.png)"
      ]
    },
    {
      "cell_type": "markdown",
      "metadata": {
        "id": "KgAkdiOavOOH"
      },
      "source": [
        "Quelle: [Overview of types of abstract spaces](https://en.m.wikipedia.org/wiki/Space_(mathematics))"
      ]
    },
    {
      "cell_type": "markdown",
      "metadata": {
        "id": "zOwDmSKjvQHz"
      },
      "source": [
        "Topologische Räume können weiter [klassifiziert werden nach Kolmogorov](https://en.m.wikipedia.org/wiki/History_of_the_separation_axioms)."
      ]
    },
    {
      "cell_type": "markdown",
      "metadata": {
        "id": "qYW5u_0Oi7l5"
      },
      "source": [
        "## **Inner Product Space**"
      ]
    },
    {
      "cell_type": "markdown",
      "metadata": {
        "id": "cWHItjSFIB5K"
      },
      "source": [
        "**Inner Product (Skalarprodukt / inneres Produkt / Produktpunkt)**"
      ]
    },
    {
      "cell_type": "markdown",
      "metadata": {
        "id": "A-3TsP_aDsFR"
      },
      "source": [
        "> **Das innere Produkt stellt quasi eine Geometrie im Vektorraum her, wir können dadurch definieren, welche Vektoren orthogonal, und welche parallel zueinander sind.**\n",
        "\n",
        "* **Das Skalarprodukt benötigt man**, um die Lange von Vektoren zu berechnen, den Winkel zwischen Vektoren zu berechnen (uber Cosinus von Alpha) und ob zwei Vektoren senkrecht zueinander stehen.\n",
        "\n",
        "* Das **Dot Product / Scalar Product / [Skalarprodukt](https://de.wikipedia.org/wiki/Skalarprodukt)** (auch inneres Produkt oder Punktprodukt) ist eine [mathematische Verknüpfung](https://de.wikipedia.org/wiki/Verknüpfung_(Mathematik)), die zwei Vektoren eine Zahl (Skalar) zuordnet. \n",
        "\n",
        "* Geometrisch berechnet man das Skalarprodukt zweier Vektoren $\\vec{a}$ und $\\vec{b}$ nach der Formel:\n",
        "\n",
        "> $\n",
        "\\vec{a} \\cdot \\vec{b}=|\\vec{a}||\\vec{b}| \\cos \\alpha(\\vec{a}, \\vec{b})\n",
        "$\n",
        "\n",
        "* Null, wenn sie senkrecht zueinander stehen, und maximal, wenn sie die gleiche Richtung haben.\n",
        "\n",
        "* **A common special case of the inner product is the scalar product or dot product, is written with a centered dot a ⋅ b.**\n",
        "\n",
        "* In [Inner product spaces](https://en.m.wikipedia.org/wiki/Inner_product_space) the inner product is the dot product, also known as the scalar product. (They generalize Euclidean spaces to vector spaces of any (possibly infinite) dimension.)\n",
        "\n",
        "* Ist das Skalarprodukt von zwei Vektoren $\n",
        "\\vec{a} \\cdot \\vec{b}= 0$, dann folgt daraus, dass diese orthogonal zueinander stehen.\n",
        "\n",
        "* Examples:\n",
        "\n",
        "  * A simple example is the real numbers $\\mathbb{R}$ with the standard multiplication as the inner product $\\langle x, y\\rangle:=x y$"
      ]
    },
    {
      "cell_type": "markdown",
      "metadata": {
        "id": "ni2T7njZIGAc"
      },
      "source": [
        "**Inner Product Space**"
      ]
    },
    {
      "cell_type": "markdown",
      "metadata": {
        "id": "iyW3AAhLNlya"
      },
      "source": [
        "Formally, an inner product space is a vector space $V$ over the field $\\mathbb{F}$ together with a map\n",
        "\n",
        "$\n",
        "\\langle\\cdot, \\cdot\\rangle: V \\times V \\rightarrow \\mathbb{F}\n",
        "$\n",
        "\n",
        "called an inner product that satisfies the following conditions $(1),(2),$ and $(3)$ for all vectors $x, y, z \\in V$ and all scalars $a \\in \\mathbb{F}:$ [see here](https://en.m.wikipedia.org/wiki/Inner_product_space)"
      ]
    },
    {
      "cell_type": "markdown",
      "metadata": {
        "id": "gtcOpkYQjFKx"
      },
      "source": [
        "* Der **[Inner Product Space](https://en.m.wikipedia.org/wiki/Inner_product_space)** (Prähilbertraum bzw. Skalarprodukt) ist ein **Vektorraum**, auf dem ein **inneres Produkt definiert ist**. \n",
        "\n",
        "* An [inner product space](https://en.m.wikipedia.org/wiki/Inner_product_space) is a normed space, **where the norm of a vector is the square root of the inner product of the vector by itself**: $\\sqrt{\\vec{x} \\cdot \\vec{x}} = \\sqrt{{x}^{2}}$\n",
        "\n",
        "* [Inner product spaces](https://en.m.wikipedia.org/wiki/Inner_product_space) generalize **Euclidean spaces (in which the inner product is the dot product, also known as the scalar product**) to vector spaces of any (possibly infinite) dimension.\n",
        "\n",
        "* In linear algebra, **an inner product space is a vector space with an additional structure called an inner product**. This additional structure associates each pair of vectors in the space with a scalar quantity known as the inner product of the vectors. Geometric interpretation of the angle between two vectors defined using an inner product.\n",
        "\n",
        "> **Inner products allow the rigorous introduction of intuitive geometrical notions such as the length of a vector or the angle between two vectors**. They also provide the means of defining orthogonality between vectors (**zero inner product**). \n",
        "\n",
        "* **Inner product spaces generalize Euclidean spaces** (in which the inner product is the **dot product**, also known as the scalar product) to vector spaces of any (possibly infinite) dimension, and are studied in functional analysis. \n",
        "\n",
        "> An inner product **naturally induces an associated norm**, (|x| and |y| are the norms of x and y, in the picture) thus an inner product space is also a normed vector space. A complete space with an inner product is called a Hilbert space. \n",
        "\n",
        "* An (incomplete) space with an inner product is called a pre-Hilbert space, since its completion with respect to the norm induced by the inner product is a Hilbert space. Inner product spaces over the field of complex numbers are sometimes referred to as unitary spaces."
      ]
    },
    {
      "cell_type": "markdown",
      "metadata": {
        "id": "2RQe4cYsguhp"
      },
      "source": [
        "https://de.wikipedia.org/wiki/Euklidischer_Raum"
      ]
    },
    {
      "cell_type": "markdown",
      "metadata": {
        "id": "_Syw4dL96u31"
      },
      "source": [
        "## **Normed Vector Space**"
      ]
    },
    {
      "cell_type": "markdown",
      "metadata": {
        "id": "GCXP396NF0kv"
      },
      "source": [
        "#### **Norm**"
      ]
    },
    {
      "cell_type": "markdown",
      "metadata": {
        "id": "mhAD7kvd3uuL"
      },
      "source": [
        "> **Eine Norm gibt die Größe eines Elements in einem Vektorraum an.**\n",
        "\n",
        "* Eine Norm kann aus einem inneren Produkt abgeleitet werden, muss aber nicht.\n",
        "\n",
        "Eine **[Norm](https://de.wikipedia.org/wiki/Norm_(Mathematik)) $\\|\\cdot\\|$ ist eine Abbildung**, welche einem Element des Vektorraums eine **nicht-negative reelle Zahl** zuordnet und folgende Eigenschaften besitzt. \n",
        "\n",
        "Eine Norm ist eine Abbildung/Funktion von einem reellen oder komplexen Vektorraum V in die positiven reellen Zahlen $\\mathbb{R}^{\\geq \\ 0 }$. [Source](https://www.mathematik.de/algebra/187-erste-hilfe/algebra/vektorräume/2422-norm,-metrik-und-skalarprodukt-im-vektorraum)\n",
        "\n",
        "$\\|\\cdot\\|: V \\rightarrow \\mathbb{R}_{0}^{+}$ ist eine Norm, wenn für alle $x, y$ aus dem $\\mathbb{K}$ Vektorraum und alle $\\lambda$ aus $\\mathbb{K}$ gilt:\n",
        "\n",
        "1. **[Definitheit](https://de.m.wikipedia.org/wiki/Definitheit)**: It is **nonnegative**, that is for every vector x, one has ‖x‖ ≥ 0. AND It is **positive on nonzero vectors**, that is, ‖x‖ = 0 ⟺ x = 0.\n",
        "\n",
        "2. **[Absolute Homogenität](https://de.m.wikipedia.org/wiki/Homogene_Funktion)**: For every vector x, and every **scalar α**, one has ‖ α x ‖ = | α | ‖ x ‖.\n",
        "\n",
        "3. **[Subadditivität, Dreiecksungleichung](https://de.m.wikipedia.org/wiki/Additive_Funktion#Sub-_und_Superadditivität)**: for every vectors x and y, one has ‖ x+y ‖ ≤ ‖ x ‖ + ‖ y ‖.\n",
        "\n",
        "A norm is the generalization to real vector spaces of the intuitive notion of \"length\" in the real world.\n",
        "\n",
        "Eine Norm kann (muss aber nicht) von einem [Skalarprodukt](https://de.wikipedia.org/wiki/Skalarprodukt) abgeleitet werden (eine sogenannte ['Skalarproduktnorm'](https://de.m.wikipedia.org/wiki/Skalarproduktnorm)). In diesem Fall is **the norm of a vector the square root of the inner product of the vector by itself**. \n",
        "\n",
        "Das gleiche gilt fur Metriken: Jede Norm induziert eine Metrik, aber nicht jede Metrik wird durch eine Norm induziert.\n",
        "\n",
        "> An inner product **naturally induces an associated norm**, (|x| and |y| are the norms of x and y, in the picture) thus an inner product space is also a normed vector space. A complete space with an inner product is called a Hilbert space.\n",
        "\n",
        "> **Distance & Metric: A norm induces a distance by the formula d (x,y) = ‖ y-x ‖.**"
      ]
    },
    {
      "cell_type": "markdown",
      "metadata": {
        "id": "ifQwelOJdlPO"
      },
      "source": [
        "#### **Normen auf endlichdimensionalen Vektorräumen**"
      ]
    },
    {
      "cell_type": "markdown",
      "metadata": {
        "id": "qygj95-xb7Eu"
      },
      "source": [
        "**Zahlnormen (z.B. Betragsnorm)**\n",
        "\n",
        "* Beispiel fur eine [Zahlnorm](https://de.m.wikipedia.org/wiki/Norm_(Mathematik)#Zahlnormen) ist die [Betragsnorm](https://de.m.wikipedia.org/wiki/Betragsfunktion)\n",
        "* Der Betrag einer reellen Zahl $z \\in \\mathbb{R}$ ist ein einfaches Beispiel für eine Norm. \n",
        "\n",
        "* Man erhält die Retragsnorm durch Weglassen des Vorzeichens der Zahl, also\n",
        "\n",
        "> $\n",
        "\\|z\\|=|z|=\\sqrt{z^{2}}=\\left\\{\\begin{array}{cl}\n",
        "z & \\text { für } z \\geq 0 \\\\\n",
        "-z & \\text { für } z<0 .\n",
        "\\end{array}\\right.$\n",
        "\n",
        "* Die Betragsnorm ist induziert vom Standardskalarprodukt zweier reeller bzw. komplexen Zahlen\n",
        "\n",
        "> $\\langle w, z\\rangle=w \\cdot z$ für $w, z \\in \\mathbb{R}$ bzw. $\\langle w, z\\rangle=w \\cdot \\bar{z}$ für $w, z \\in \\mathbb{C}$\n",
        "\n",
        "* Die Betragsfunktion erfüllt die drei Normaxiome Definitheit, absolute Homogenität und Subadditivität und ist damit eine Norm, genannt Betragsnorm, auf dem Vektorraum der reellen oder komplexen Zahlen. "
      ]
    },
    {
      "cell_type": "markdown",
      "metadata": {
        "id": "GxfyGnZ1b2md"
      },
      "source": [
        "**Matrixnorm**\n",
        "\n",
        "https://de.m.wikipedia.org/wiki/Norm_(Mathematik)#Matrixnormen\n",
        "\n",
        "https://de.m.wikipedia.org/wiki/Matrixnorm"
      ]
    },
    {
      "cell_type": "markdown",
      "metadata": {
        "id": "BbWvef0ICoOU"
      },
      "source": [
        "**Vektornormen (z.B. p-Normen)**"
      ]
    },
    {
      "cell_type": "markdown",
      "metadata": {
        "id": "6b38PYiNL6LO"
      },
      "source": [
        "* Die $p$ -Normen sind in der Mathematik eine Klasse von Vektornormen, die für reelle Zahlen $p \\geq 1$ definiert sind. \n",
        "\n",
        "* Die $p$ -Norm eines reellen oder komplexen Vektors $x=\\left(x_{1}, \\ldots, x_{n}\\right) \\in \\mathbb{K}^{n}$ mit $\\mathbb{K}=\\mathbb{R}$ oder $\\mathbb{K}=\\mathbb{C}$ ist für reelles\n",
        "$1 \\leq p<\\infty$ definiert durch:\n",
        "\n",
        "> **$\\|x\\|_{p}:=\\left(\\sum_{i=1}^{n}\\left|x_{i}\\right|^{p}\\right)^{1 / p}$**\n",
        "\n",
        "* **Wichtige Spezialfälle sind dabei die Summennorm $(p=1)$, die euklidische Norm $(p=2)$ und als Grenzwert für $p \\rightarrow \\infty$ die Maximumsnorm.**\n",
        "\n",
        "* Alle $p$ -Normen sind zueinander aquivalent, für wachsendes $p$ monoton fallend und erfüllen die Minkowski-Ungleichung sowie die Hölder-Ungleichung. Die Mengen konstanter $p$ -Norm (Einheitssphären) besitzen allgemein die Form von Superellipsoiden oder Subellipsoiden. \n",
        "\n",
        "* Die $p$ -Normen bilden den Grundbaustein für Normen weiterer mathematischer Objekte, wie Folgen, Funktionen, Matrizen und Operatoren.\n",
        "\n",
        "For all p ≥ 1, the p-norms and maximum norm as defined above indeed satisfy the properties of a \"**length function**\" (or norm), which are that:\n",
        "\n",
        "1. only the zero vector has zero length,\n",
        "\n",
        "2. lhe length of the vector is positive homogeneous with respect to multiplication by a scalar (positive homogeneity), and\n",
        "\n",
        "3. the length of the sum of two vectors is no larger than the sum of lengths of the vectors (triangle inequality).\n",
        "\n",
        "Abstractly speaking, this means that **$\\mathbb{R}$<sup>n</sup> together with the p-norm is a [Banach space](https://de.wikipedia.org/wiki/Banachraum) = ein vollständiger normierter Vektorraum**. This Banach space is the Lp-space over Rn. \n",
        "\n",
        "**Any normed vector space is a metric space** by defining d(x, y) = ‖ y - x ‖, see also metrics on vector spaces. (If such a space is complete, we call it a Banach space.) "
      ]
    },
    {
      "cell_type": "markdown",
      "metadata": {
        "id": "yMXH_RxXRDkr"
      },
      "source": [
        "![alternativer Text](https://upload.wikimedia.org/wikipedia/commons/thumb/d/d4/Vector-p-Norms_qtl1.svg/480px-Vector-p-Norms_qtl1.svg.png)\n",
        "\n",
        "*Illustrations of unit circles (see also superellipse) in different p-norms (**every vector from the origin to the unit circle has a length of one**, the length being calculated with length-formula of the corresponding p).*"
      ]
    },
    {
      "cell_type": "markdown",
      "metadata": {
        "id": "qYyGrBGJiGny"
      },
      "source": [
        "https://de.wikipedia.org/wiki/Banachraum"
      ]
    },
    {
      "cell_type": "markdown",
      "metadata": {
        "id": "I3Dm5x99DH4f"
      },
      "source": [
        "https://de.wikipedia.org/wiki/Norm_(Mathematik)#Vektornormen"
      ]
    },
    {
      "cell_type": "markdown",
      "metadata": {
        "id": "2nYiTfHqDKAw"
      },
      "source": [
        "https://de.wikipedia.org/wiki/Norm_(Mathematik)#p-Normen"
      ]
    },
    {
      "cell_type": "markdown",
      "metadata": {
        "id": "GeSMyh0-FK2I"
      },
      "source": [
        "https://de.m.wikipedia.org/wiki/P-Norm"
      ]
    },
    {
      "cell_type": "markdown",
      "metadata": {
        "id": "OQlHR9FKyapX"
      },
      "source": [
        "https://de.m.wikipedia.org/wiki/Norm_(Mathematik)#Vektornormen"
      ]
    },
    {
      "cell_type": "markdown",
      "metadata": {
        "id": "1k-wmgpkP8lv"
      },
      "source": [
        "**Spezialfall p1-Norm (Summennorm)**"
      ]
    },
    {
      "cell_type": "markdown",
      "metadata": {
        "id": "AqKbtCMiB61r"
      },
      "source": [
        "> $\\|x\\|_{1}=\\sum_{i=1}^{n}\\left|x_{i}\\right|$"
      ]
    },
    {
      "cell_type": "markdown",
      "metadata": {
        "id": "Q4dl2ZASP_kc"
      },
      "source": [
        "* Summennorm, Betragssummennorm oder 1-Norm ist in der Mathematik eine **Vektornorm**. Sie ist definiert als die Summe der Beträge der Vektorkomponenten und ist eine spezielle p-Norm für die Wahl von p=1.\n",
        "\n",
        "* **Die Summennorm benutzt man zB wenn man nicht jeden Weg im Raum gehen kann**, also zB Taxis in Manhattan koennen sich nur in senkrechten und waagerechten Abschnitten bewegen (daher auch Manhattan-Metrik oder Taxi-Metrik, da sie den Abstand zweier Punkte wie die Fahrtstrecke auf einem gitterförmigen Stadtplan misst).\n",
        "\n",
        "* Die Einheitssphäre der reellen Summennorm ist ein Kreuzpolytop mit minimalem Volumen über alle p-Normen. **Daher ergibt die Summennorm für einen gegebenen Vektor den größten Wert aller p-Normen**. (zB 3 + (-2) + 6 = 11 in Summennorm, aber = 7 in euklidischer Norm fur p=2)\n",
        "\n",
        "* Die von der Summennorm abgeleitete Metrik ist die Manhattan-Metrik / Taxi Metrik (also die Distance zwischen zwei Punkten)\n",
        "\n",
        "* Die Summennorm ist im Gegensatz zur euklidischen Norm (2-Norm) **nicht von einem Skalarprodukt induziert.**\n",
        "\n",
        "* Die von der Summennorm [induzierte Matrixnorm](https://de.m.wikipedia.org/wiki/Natürliche_Matrixnorm) ist die [Spaltensummennorm](https://de.m.wikipedia.org/wiki/Spaltensummennorm).\n",
        "\n",
        "* Techniques which use an L1 penalty, like LASSO, encourage solutions where many parameters are zero. \n",
        "\n",
        "* The Manhattan norm gives rise to the Manhattan distance, where the distance between any two points, or vectors, is the sum of the differences between corresponding coordinates.\n",
        "\n",
        "* https://en.m.wikipedia.org/wiki/Taxicab_geometry\n",
        "\n",
        "* https://en.m.wikipedia.org/wiki/Lasso_(statistics)"
      ]
    },
    {
      "cell_type": "markdown",
      "metadata": {
        "id": "5v2FUVhEND-B"
      },
      "source": [
        "![alternativer Text](https://upload.wikimedia.org/wikipedia/commons/thumb/d/d9/Euclid_Octahedron_3.svg/240px-Euclid_Octahedron_3.svg.png)"
      ]
    },
    {
      "cell_type": "markdown",
      "metadata": {
        "id": "69gd5KqRNHzc"
      },
      "source": [
        "*Kreuzpolytop: Der Einheitssphäre der Summennorm ist in drei Dimensionen ein Oktaeder*"
      ]
    },
    {
      "cell_type": "markdown",
      "metadata": {
        "id": "f4MyKCvxQKCl"
      },
      "source": [
        "**Beispiel (reeller Vektor):**\n",
        "\n",
        "Die Summennorm des reellen Vektors $x=(3,-2,6) \\in \\mathbb{R}^{3}$ ist gegeben als\n",
        "\n",
        "$\\|x\\|_{1}=|3|+|-2|+|6|=11$"
      ]
    },
    {
      "cell_type": "markdown",
      "metadata": {
        "id": "HQOMzI3RBEU2"
      },
      "source": [
        "https://de.m.wikipedia.org/wiki/Summennorm"
      ]
    },
    {
      "cell_type": "markdown",
      "metadata": {
        "id": "SHXnaFUeQBL6"
      },
      "source": [
        "**Spezialfall p2-Norm (Euklidische Norm)**"
      ]
    },
    {
      "cell_type": "markdown",
      "metadata": {
        "id": "O3yL08xkQGbj"
      },
      "source": [
        "* Die euklidische Norm, Standardnorm oder 2-Norm ist eine in der Mathematik häufig verwendete Vektornorm. \n",
        "\n",
        "* Im zwei- und dreidimensionalen euklidischen Raum **entspricht die euklidische Norm der anschaulichen Länge (oder dem Betrag) eines Vektors** und kann mit dem Satz des Pythagoras berechnet werden. \n",
        "\n",
        "* Die euklidische Norm ist eine **von einem Skalarprodukt induzierte Norm** (im Ggs zur p1-Norm). Siehe: https://de.m.wikipedia.org/wiki/Skalarproduktnorm (In einem endlichdimensionalen reellen oder komplexen Vektorraum mit dem Standardskalarprodukt entspricht die Skalarproduktnorm gerade der euklidischen Norm.)\n",
        "\n",
        "* Techniques which use an L2 penalty, like ridge regression, encourage solutions where most parameter values are small.\n",
        "\n",
        "* Exkurs: [Elastic Net](https://en.m.wikipedia.org/wiki/Elastic_net_regularization) regularization uses a penalty term that is a combination of the L1 norm and the L2 norm of the parameter vector.\n",
        "\n",
        "* The length of a vector x = (x1, x2, ..., xn) in the n-dimensional real vector space Rn is usually given by the **Euclidean norm**:\n",
        "\n",
        "> $\\|x\\|_{2}=\\left(x_{1}^{2}+x_{2}^{2}+\\cdots+x_{n}^{2}\\right)^{1 / 2}$"
      ]
    },
    {
      "cell_type": "markdown",
      "metadata": {
        "id": "eSVhAEwxB_hW"
      },
      "source": [
        "> $\\|x\\|_{2}=\\sqrt{\\sum_{i=1}^{n}\\left|x_{i}\\right|^{2}}$"
      ]
    },
    {
      "cell_type": "markdown",
      "metadata": {
        "id": "H4u2sHf11vdf"
      },
      "source": [
        "Die Euclidean Norm besitzt als eine von einem Skalarprodukt [induzierte Norm](https://de.m.wikipedia.org/wiki/Skalarproduktnorm) **neben den [drei Normaxiomen](https://de.m.wikipedia.org/wiki/Norm_(Mathematik)#Definition) eine Reihe weiterer Eigenschaften**:\n",
        "\n",
        "* die Gültigkeit der [Cauchy-Schwarz-Ungleichung](https://de.m.wikipedia.org/wiki/Cauchy-Schwarzsche_Ungleichung)\n",
        "* der [Parallelogrammgleichung](https://de.m.wikipedia.org/wiki/Parallelogrammgleichung)\n",
        "* sowie eine Invarianz unter unitären Transformationen (Die euklidische Norm ändert sich also unter unitären Transformationen nicht. Für reelle Vektoren sind solche Transformationen beispielsweise Drehungen des Vektors um den Nullpunkt. Diese Eigenschaft wird zum Beispiel bei der numerischen Lösung linearer Ausgleichsprobleme über die **Methode der kleinsten Quadrate mittels QR-Zerlegungen genutzt**.)\n",
        "\n",
        "Für orthogonale Vektoren erfüllt die euklidische Norm selbst eine allgemeinere Form des Satzes des Pythagoras."
      ]
    },
    {
      "cell_type": "markdown",
      "metadata": {
        "id": "lbyU4goN2tS_"
      },
      "source": [
        "* Von der euklidischen Norm werden Begriffe wie der euklidische Abstand und die euklidische Topologie abgeleitet. \n",
        "\n",
        "* Sie **kann auf unendlichdimensionale Vektorräume verallgemeinert werden**, beispielsweise auf **Folgenräume durch die ℓ2-Norm** und auf **Funktionenräume durch die [L2-Norm](https://de.m.wikipedia.org/wiki/Lp-Raum#Der_Hilbertraum_L2) (Hilbertraum L2)**.\n",
        "\n",
        "* Sieht man eine Matrix mit reellen oder komplexen Einträgen als entsprechend langen Vektor an, so kann die euklidische Norm auch für Matrizen definiert werden und heißt dann [**Frobeniusnorm**](https://de.m.wikipedia.org/wiki/Frobeniusnorm). Die euklidische Norm kann auch auf unendlichdimensionale Vektorräume über den reellen oder komplexen Zahlen verallgemeinert werden und hat dann zum Teil eigene Namen."
      ]
    },
    {
      "cell_type": "markdown",
      "metadata": {
        "id": "r6av7qXO0_rf"
      },
      "source": [
        "https://de.m.wikipedia.org/wiki/Euklidische_Norm"
      ]
    },
    {
      "cell_type": "markdown",
      "metadata": {
        "id": "ewZ2VXEjESYA"
      },
      "source": [
        "See also: https://en.m.wikipedia.org/wiki/Non-Euclidean_geometry"
      ]
    },
    {
      "cell_type": "markdown",
      "metadata": {
        "id": "xU32us9ZQouN"
      },
      "source": [
        "**Spezialfall p∞-Norm (Maximumsnorm bzw. Unendlich-Norm)**"
      ]
    },
    {
      "cell_type": "markdown",
      "metadata": {
        "id": "dwl3Y9ZtTUDj"
      },
      "source": [
        "* Die Maximumsnorm, Maximumnorm oder Tschebyschew-Norm ist eine spezielle Norm für Funktionen beziehungsweise für Vektoren oder Matrizen. Sie ist ein Spezialfall der [Supremumsnorm](https://de.m.wikipedia.org/wiki/Supremumsnorm).\n",
        "\n",
        "* Anschaulich gesprochen ist **der aus der Maximumsnorm abgeleitete Abstand immer dann relevant, wenn man sich in einem mehrdimensionalen Raum in alle Dimensionen gleichzeitig und unabhängig voneinander gleich schnell bewegen kann**. (zB Rochade beim Schach)\n",
        "\n",
        "* Allgemeiner kann die Maximumsnorm benutzt werden, um zu bestimmen, wie schnell man sich in einem zwei- oder dreidimensionalen Raum bewegen kann, wenn angenommen wird, dass die Bewegungen in x-, y- (und z-)Richtung unabhängig, gleichzeitig und mit gleicher Geschwindigkeit erfolgen.\n",
        "\n",
        "\n",
        "* Noch allgemeiner kann man ein System betrachten, dessen Zustand durch n unabhängige Parameter bestimmt wird. An allen Parametern können gleichzeitig und ohne gegenseitige Beeinflussung Änderungen vorgenommen werden. **Dann „misst“ die Maximumsnorm in Rn die Zeit, die man benötigt, um das System von einem Zustand in einen anderen zu überführen**. Voraussetzung hierfür ist allerdings, dass man die Parameter so normiert hat, dass gleiche Abstände zwischen den Werten auch gleichen Änderungszeiten entsprechen. Andernfalls müsste man eine gewichtete Version der Maximumsnorm verwenden, die die unterschiedlichen Änderungsgeschwindigkeiten der Parameter berücksichtigt.\n"
      ]
    },
    {
      "cell_type": "markdown",
      "metadata": {
        "id": "Y3CFgJHJVYZO"
      },
      "source": [
        "Für einen Vektor $x=\\left(x_{1}, \\ldots, x_{n}\\right) \\in \\mathbb{R}^{n}$ nennt man\n",
        "\n",
        "> $\\|x\\|_{\\max }:=\\max \\left(\\left|x_{1}\\right|, \\ldots,\\left|x_{n}\\right|\\right)$ \n",
        "\n",
        "die Maximumsnorm von x. \n",
        "\n",
        "* Die **Maximumsnorm kann auch als Grenzfall der $p$ -Normen** $\\|x\\|_{p}:=\\left(\\sum_{i=1}^{n}\\left|x_{i}\\right|^{p}\\right)^{1 / p}$ aufgefasst werden. Lässt man $p$ gegen unendlich laufen, so erhält man\n",
        "aus der $p$ -Norm die Maximumsnorm.\n",
        "\n",
        "* **Aus diesem Grund wird die Maximumsnorm für Vektoren auch als $\\infty$ -Norm (Unendlich-Norm) bezeichnet.**"
      ]
    },
    {
      "cell_type": "markdown",
      "metadata": {
        "id": "Ar8qLNfnCi8_"
      },
      "source": [
        "Für den Grenzwert p→ ∞ erhält man die ∞-Norm (Unendlich-Norm), die oft auch zu den p-Normen gezählt wird. Sie wird auch **Maximumsnorm oder Tschebyschow-Norm** genannt und ist definiert durch"
      ]
    },
    {
      "cell_type": "markdown",
      "metadata": {
        "id": "ioRBlq9ICFf6"
      },
      "source": [
        "> $\\|x\\|_{\\infty}=\\max _{i=1, \\ldots, n}\\left|x_{i}\\right|$"
      ]
    },
    {
      "cell_type": "markdown",
      "metadata": {
        "id": "2hpZp3hzCXku"
      },
      "source": [
        "Dass die Maximumsnorm tatsächlich als Grenzwert der $p$ -Normen für $p \\rightarrow \\infty$ entsteht, folgt für $x \\neq 0$\n",
        "aus\n",
        "\n",
        "> $\\lim _{p \\rightarrow \\infty}\\|x\\|_{p}=\\lim _{p \\rightarrow \\infty}\\left(\\sum_{i=1}^{n}\\left|x_{i}\\right|^{p}\\right)^{1 / p}=\\|x\\|_{\\infty} \\cdot \\lim _{p \\rightarrow \\infty}\\left(\\sum_{i=1}^{n}\\left(\\frac{\\left|x_{i}\\right|}{\\|x\\|_{\\infty}}\\right)^{p}\\right)^{1 / p}=\\|x\\|_{\\infty} \\cdot \\lim _{p \\rightarrow \\infty} S^{1 / p}=\\|x\\|_{\\infty}$"
      ]
    },
    {
      "cell_type": "markdown",
      "metadata": {
        "id": "BIA4-xLTSKoB"
      },
      "source": [
        "* For a real number p ≥ 1, the p-norm or Lp-norm of x is defined by\n",
        "\n",
        "> $\\|x\\|_{p}=\\left(\\left|x_{1}\\right|^{p}+\\left|x_{2}\\right|^{p}+\\cdots+\\left|x_{n}\\right|^{p}\\right)^{1 / p}$\n",
        "\n",
        "* The absolute value bars are unnecessary when p is a rational number and, in reduced form, has an even numerator.\n",
        "\n",
        "* The L∞-norm or maximum norm (or uniform norm) is the limit of the Lp-norms for p → ∞. It turns out that this limit is equivalent to the following definition:\n",
        "\n",
        "> $\\|x\\|_{\\infty}=\\max \\left\\{\\left|x_{1}\\right|,\\left|x_{2}\\right|, \\ldots,\\left|x_{n}\\right|\\right\\}$"
      ]
    },
    {
      "cell_type": "markdown",
      "metadata": {
        "id": "SbrnlkWOBNEE"
      },
      "source": [
        "https://de.m.wikipedia.org/wiki/Maximumsnorm"
      ]
    },
    {
      "cell_type": "markdown",
      "metadata": {
        "id": "PNebzB5PeTep"
      },
      "source": [
        "#### **Normen auf unendlichdimensionalen Vektorräumen**"
      ]
    },
    {
      "cell_type": "markdown",
      "metadata": {
        "id": "2KesWFfaTmuu"
      },
      "source": [
        "**Supremumsnorm**"
      ]
    },
    {
      "cell_type": "markdown",
      "metadata": {
        "id": "X0mN6eYZT6rC"
      },
      "source": [
        "* Im Gegensatz zur Maximumsnorm wird die Supremumsnorm $\\|f\\|_{\\text {sup }}:=\\sup _{t \\in X}|f(t)|$ nicht für stetige, sondern für beschränkte Funktionen $f$ definiert. \n",
        "\n",
        "* In diesem Fall ist es nicht notwendig, dass $X$ kompakt ist; $X$ kann eine beliebige Menge sein. \n",
        "\n",
        "* **Da stetige Funktionen auf kompakten Räumen beschränkt sind, ist die Maximumsnorm ein Spezialfall der Supremumsnorm**.\n",
        "\n",
        "* Die Supremumsnorm (auch Unendlich-Norm genannt) ist in der Mathematik eine Norm auf dem Funktionenraum der beschränkten Funktionen. Im einfachsten Fall einer reell- oder komplexwertigen beschränkten Funktion ist die Supremumsnorm das Supremum der Beträge der Funktionswerte. Allgemeiner betrachtet man Funktionen, deren Zielmenge ein normierter Raum ist, und die Supremumsnorm ist dann das Supremum der Normen der Funktionswerte. \n",
        "\n",
        "* **Für stetige Funktionen auf einer kompakten Menge ist die Maximumsnorm ein wichtiger Spezialfall der Supremumsnorm.**"
      ]
    },
    {
      "cell_type": "markdown",
      "metadata": {
        "id": "FrQFlg6EWE26"
      },
      "source": [
        "![alternativer Text](https://upload.wikimedia.org/wikipedia/commons/thumb/6/66/Graf_arctg.svg/260px-Graf_arctg.svg.png)"
      ]
    },
    {
      "cell_type": "markdown",
      "metadata": {
        "id": "q9WdCWwbWJVf"
      },
      "source": [
        "*Die Supremumsnorm der reellen Arkustangens-Funktion ist π/2. Auch wenn die Funktion diesen Wert betragsmäßig nirgendwo annimmt, so bildet er dennoch die kleinste obere Schranke.*"
      ]
    },
    {
      "cell_type": "markdown",
      "metadata": {
        "id": "QIHI-jmUWwUr"
      },
      "source": [
        "Supremumsnorm vs Maximumsnorm:\n",
        "\n",
        "* So ist etwa die **Supremumsnorm** der linearen Funktion $f(x)=x$ in diesem Intervall gleich $1 .$ Die Funktion nimmt diesen Wert zwar innerhalb des Intervalls nicht an, kommt inm jedoch beliebig nahe. \n",
        "\n",
        "* Wählt man stattdessen das abgeschlossene Einheitsintervall $M=[0,1]$, dann wird der Wert 1 angenommen und die Supremumsnorm entspricht der **Maximumsnorm**."
      ]
    },
    {
      "cell_type": "markdown",
      "metadata": {
        "id": "fDKcUEhwTZKC"
      },
      "source": [
        "https://de.m.wikipedia.org/wiki/Supremumsnorm"
      ]
    },
    {
      "cell_type": "markdown",
      "metadata": {
        "id": "U3OOjvbpXuEt"
      },
      "source": [
        "https://de.m.wikipedia.org/wiki/Wesentliches_Supremum"
      ]
    },
    {
      "cell_type": "markdown",
      "metadata": {
        "id": "T7WmLvFSen-z"
      },
      "source": [
        "**Folgennormen im Folgenraum**"
      ]
    },
    {
      "cell_type": "markdown",
      "metadata": {
        "id": "FEBTrzWdmp1Y"
      },
      "source": [
        "Siehe auch: Folgenraum https://de.m.wikipedia.org/wiki/Folgenraum"
      ]
    },
    {
      "cell_type": "markdown",
      "metadata": {
        "id": "o5vA04__k9hN"
      },
      "source": [
        "Die $\\ell^{p}$ -Normen sind die Verallgemeinerung der $p$ -Normen auf Folgenräume, wobei lediglich die endliche Summe durch eine unendliche ersetzt wird. Die $\\ell^{p}$ -Norm einer in $p$ -ter Potenz betragsweise summierbaren Folge ist für reelles $1 \\leq p<\\infty$ dann definiert als\n",
        "\n",
        "> $\\left\\|\\left(a_{n}\\right)\\right\\|_{\\ell^{p}}=\\left(\\sum_{n=1}^{\\infty}\\left|a_{n}\\right|^{p}\\right)^{1 / p}$\n",
        "\n",
        "Versehen mit diesen Normen werden die $\\ell$ - Räume jeweils zu vollständigen normierten Räumen. ${ }^{[6]}$ Für den Grenzwert $p \\rightarrow \\infty$ ergibt sich der Raum der beschränkten Folgen $\\ell^{\\infty}$ mit der Supremumsnorm. "
      ]
    },
    {
      "cell_type": "markdown",
      "metadata": {
        "id": "3T_E2UeNOdOW"
      },
      "source": [
        "$\\ell^{1}-$ Norm (**Folgenraum**)\n",
        "\n",
        "* Die $\\ell^{1}$ -Norm ist die Verallgemeinerung der Summennorm auf den Folgenraum $\\ell^{1}$ der **betragsweise summierbaren Folgen** $\\left(a_{n}\\right)_{n} \\in \\mathbb{K}^{N} .$ \n",
        "\n",
        "* Hierbei wird lediglich **die endliche Summe durch eine unendliche ersetzt** und die $\\ell^{\\text {t }}$ -Norm ist dann gegeben als\n",
        "\n",
        "> $\\left\\|\\left(a_{n}\\right)\\right\\|_{\\ell^{1}}=\\sum_{n=1}^{\\infty}\\left|a_{n}\\right|$"
      ]
    },
    {
      "cell_type": "markdown",
      "metadata": {
        "id": "MRax0LTq5PpT"
      },
      "source": [
        "$\\ell^{2}-$ Norm (**Folgenraum**)\n",
        "\n",
        "* Die $\\ell^{2}-$ Norm ist die Verallgemeinerung der euklidischen Norm auf den [Folgenraum](https://de.m.wikipedia.org/wiki/Folgenraum) $\\ell^{2}$ der quadratisch summierbaren Folgen $\\left(a_{n}\\right)_{n} \\in \\mathbb{K}^{\\mathrm{N}} .$ Hierbei wird lediglich die endliche Summe durch eine unendliche ersetzt und die $\\ell^{2}$ -Norm ist dann gegeben als\n",
        "\n",
        "> $\\left\\|\\left(a_{n}\\right)\\right\\|_{\\ell^{2}}=\\left(\\sum_{n=1}^{\\infty}\\left|a_{n}\\right|^{2}\\right)^{1 / 2}$\n",
        "\n",
        "* Die ℓ-p -Räume sind ein Spezialfall der allgemeineren Lp-Räume, wenn man das Zählmaß auf dem Raum N betrachtet."
      ]
    },
    {
      "cell_type": "markdown",
      "metadata": {
        "id": "q4x8mIupEplw"
      },
      "source": [
        "$\\ell^{∞}$ -Norm (**Folgenraum**)\n",
        "\n",
        "* The vector space ℓ∞ is a **sequence space** (Folgenraum) whose elements are the bounded sequences. The vector space operations, addition and scalar multiplication, are applied coordinate by coordinate.\n",
        "\n",
        "* $\\ell^{\\infty},$ the (real or complex) vector space of bounded sequences with the **[supremum norm](https://de.m.wikipedia.org/wiki/Supremumsnorm)**, and $L^{\\infty}=L^{\\infty}(X, \\Sigma, \\mu)$, the vector space of essentially bounded measurable functions with the **[essential supremum norm](https://de.m.wikipedia.org/wiki/Wesentliches_Supremum)**, are two closely related Banach spaces. \n",
        "\n",
        "* In fact the former is a special case of the latter. As a Banach space they are the continuous dual of the Banach spaces $\\ell_{1}$ of absolutely summable sequences, and $L^{1}=L^{1}(X, \\Sigma, \\mu)$ of absolutely integrable measurable functions (if the measure space fulfills the conditions of being localizable and therefore\n",
        "semifinite). \n",
        "\n",
        "* Pointwise multiplication gives them the structure of a Banach algebra, and in fact they are the standard examples of abelian Von Neumann algebras."
      ]
    },
    {
      "cell_type": "markdown",
      "metadata": {
        "id": "HHSE1UbcYFEP"
      },
      "source": [
        "**The sequence space (Folgenraum) is a special case of the function space (Funktionenraum): $\\ell_{\\infty}=L_{\\infty}(\\mathbb{N})$ where the natural numbers are equipped with the counting measure.**"
      ]
    },
    {
      "cell_type": "markdown",
      "metadata": {
        "id": "NGbGWZcDesxh"
      },
      "source": [
        "**Funktionennormen im Funktionenraum**"
      ]
    },
    {
      "cell_type": "markdown",
      "metadata": {
        "id": "rQkUf4jxmXjv"
      },
      "source": [
        "Siehe auch L-p-Raum: https://de.m.wikipedia.org/wiki/Lp-Raum"
      ]
    },
    {
      "cell_type": "markdown",
      "metadata": {
        "id": "oE7-MOw4l_FH"
      },
      "source": [
        "Die $\\mathcal{L}^{p}$ -Normen einer in $p$ -ter Potenz **Lebesgue-integrierbaren Funktion** mit $1<p<\\infty$ sind in Analogie zu den $\\ell^{p}$ -Normen definiert als\n",
        "\n",
        "> $\n",
        "\\|f\\|_{\\mathcal{L}^{P}(\\Omega)}=\\left(\\int_{\\Omega}|f(x)|^{p} d x\\right)^{1 / p}\n",
        "$\n",
        "\n",
        "**wobei die Summe durch ein Integral ersetzt wurde**. Ebenso wie bei der wesentlichen Supremumsnorm sind diese Narmen zunächst nur Halbnormen, da nicht nur die Nullfunktion, sondern auch alle Funktionen, die sich nur an einer Menge mit Maß Null II von der Nullfunktion unterscheiden, zu Null integriert werden. Daher betrachtet man wieder die Menge der Äauivalenzklassen unnn Funktionen $[f] \\in L^{p}(\\Omega)$, die fast überall gleich sind, und definiert auf diesen $L^{p}$ -Räumen die $L^{p}$ -Normen durch\n",
        "$\\|[f]\\|_{L P(\\Omega)}=\\|f\\|_{\\mathcal{L}^{p}(\\Omega)}$"
      ]
    },
    {
      "cell_type": "markdown",
      "metadata": {
        "id": "TpfpULLzPBb8"
      },
      "source": [
        "$L^{1}$ -Norm (**Funktionenraum**)\n",
        "\n",
        "* Weiter kann die Summennorm auf den Funktionenraum $L^{1}(\\Omega)$ der auf einer Menge $\\Omega$ betragsweise integrierbaren Funktionen verallgemeinert werden, was in zwei Schritten geschieht. Zunächst wird die $\\mathcal{L}^{1}$ Norm einer **betragsweise Lebesgue-integrierbaren Funktion** $f: \\Omega \\rightarrow \\mathbb{K}$ als\n",
        "\n",
        "> $\\|f\\|_{\\mathcal{L}^{1}(\\Omega)}=\\int_{\\Omega}|f(x)| d x$\n",
        "\n",
        "* definiert, wobei im Vergleich zur $\\ell^{1}$ -Norm lediglich die Summe durch ein Integral ersetzt wurde. Dies ist zunächst nur eine Halbnorm, da nicht nur die Nullfunktion, sondern auch alle Funktionen, die sich nur an einer Menge mit Lebesgue-Maß Null von der Nullfunktion unterscheiden, zu Null integriert werden. \n",
        "\n",
        "* Daher betrachtet man die Menge der Äquivalenzklassen von Funktionen $[f] \\in L^{1}(\\Omega)$, die fast überall gleich sind, und erhält auf diesem $L^{1}$ -Raum die $L^{1}$ -Norm durch\n",
        "\n",
        "> $\\|[f]\\|_{L^{1}(\\Omega)}=\\|f\\|_{\\mathcal{L}^{1}(\\Omega)}$"
      ]
    },
    {
      "cell_type": "markdown",
      "metadata": {
        "id": "Peq0MPwB6WKs"
      },
      "source": [
        "$L^{2}-$ Norm (**Funktionenraum**)\n",
        "\n",
        "* Weiter kann die euklidische Norm auf den [Funktionenraum](https://de.m.wikipedia.org/wiki/Funktionenraum) $L^{2}(\\Omega)$ der auf einer Menge $\\Omega$ quadratisch integrierbaren Funktionen verallgemeinert werden, was in zwei Schritten geschieht. Zunächst wird die $\\mathcal{L}^{2}$ Norm einer quadratisch Lebesgue-integrierbaren Funktion $f: \\Omega \\rightarrow \\mathbb{K}$ als\n",
        "\n",
        "> $\\|f\\|_{\\mathcal{L}^{2}(\\Omega)}=\\left(\\int_{\\Omega}|f(x)|^{2} d x\\right)^{1 / 2}$\n",
        "\n",
        "* definiert, wobei im Vergleich zur $\\ell^{2}$ -Norm lediglich die Summe durch ein Integral ersetzt wurde. Dies ist zunächst nur eine Halbnorm, da nicht nur die Nullfunktion, sondern auch alle Funktionen, die sich nur an einer Menge mit Lebesgue-Maß Null von der Nullfunktion unterscheiden, zu Null integriert werden. Daher betrachtet man die Menge der Äquivalenzklassen von Funktionen $[f] \\in L^{2}(\\Omega),$ die fast überall gleich sind, und erhält auf diesem $L^{2}$ -Raum die $L^{2}$ -Norm durch\n",
        "\n",
        "> $\\|[f]\\|_{L^{2}(\\Omega)}=\\|f\\|_{\\mathcal{L}^{2}(\\Omega)}$\n",
        "\n",
        "* Der Raum $L^{2}(\\Omega)$ ist ein Hilbertraum mit dem Skalarprodukt zweier Funktionen\n",
        "\n",
        "> $\\langle f, g\\rangle_{L_{2}(\\Omega)}=\\int_{\\Omega} \\overline{f(x)} \\cdot g(x) d x$\n",
        "\n",
        "* Er lässt sich von dem Lebesgue-Maß auch auf allgemeine Maße verallgemeinern."
      ]
    },
    {
      "cell_type": "markdown",
      "metadata": {
        "id": "n_06FIa0fPaB"
      },
      "source": [
        "$L^{∞}$ -Norm (**Funktionenraum**)\n",
        "\n",
        "* L∞ is a **function space** (Funktionenraum). Its elements are the essentially bounded measurable functions. More precisely, L∞ is defined based on an underlying measure space, (S, Σ, μ). Start with the set of all measurable functions from S to R which are essentially bounded, i.e. bounded up to a set of measure zero. Two such functions are identified if they are equal almost everywhere. Denote the resulting set by L∞(S, μ)."
      ]
    },
    {
      "cell_type": "markdown",
      "metadata": {
        "id": "00B-3E6wT_WN"
      },
      "source": [
        "#### **Exkurs: Units Vector, Circle & Sphere**"
      ]
    },
    {
      "cell_type": "markdown",
      "metadata": {
        "id": "OufqT-Z6E9fS"
      },
      "source": [
        "**Einheitsvektor (Unit Vector)**"
      ]
    },
    {
      "cell_type": "markdown",
      "metadata": {
        "id": "OMv1seK6E7fo"
      },
      "source": [
        "* Ein Vektor der Einheitssphäre heißt [Einheitsvektor](https://de.wikipedia.org/wiki/Einheitsvektor) bzw. [Unit Vector](https://en.wikipedia.org/wiki/Unit_vector). \n",
        "\n",
        "* Zu jedem Vektor $x \\neq 0$ erhält man durch Normierung $\\frac{x}{\\|x\\|}$ den zugehörigen Einheitsvektor.\n",
        "\n",
        "* Ein Einheitsvektor ist in der analytischen Geometrie ein Vektor der Länge Eins. **In der linearen Algebra und der Funktionalanalysis wird der Begriff der Länge auf allgemeine Vektorräume zum Begriff der Norm verallgemeinert**. \n",
        "\n",
        "* Ein Vektor in einem normierten Vektorraum, das heißt einem Vektorraum, auf dem eine Norm definiert ist, heißt Einheitsvektor oder normierter Vektor, **wenn seine Norm Eins beträgt** (fur euklidisch, Summennorm und Maximumsnorm??)"
      ]
    },
    {
      "cell_type": "markdown",
      "metadata": {
        "id": "fdWVU2YRYZ0t"
      },
      "source": [
        "**Einheitskreis (Unit Circle)**"
      ]
    },
    {
      "cell_type": "markdown",
      "metadata": {
        "id": "TC_GtMMcwt1e"
      },
      "source": [
        "* Der [Einheitskreis](https://de.wikipedia.org/wiki/Einheitskreis) bzw. [unit circle](https://en.wikipedia.org/wiki/Unit_circle) ist der Kreis (**im zweidimensionalen reellen Vektorraum**), dessen Radius die Länge 1 hat (Skalar $r \\in \\mathbb{K}$ mit $r>0$ ) und dessen Mittelpunkt ($x_{0} \\in V$) mit dem Koordinatenursprung eines kartesischen Koordinatensystems der Ebene übereinstimmt. \n",
        "\n",
        "* **Der Einheitskreis besteht aus den Punkten (x, y) der Ebene, für die $x^{2}+y^{2}$ = 1 gilt.** (bzw. $x_{1}^{2}$ + $x_{2}^{2}$ = 1)\n",
        "\n",
        "* In der Einheitskugel wendet man dann Betrag + Wurzel (**euklidische Norm**), oder die Summe der Beträge (**Summennorm**) oder das Maximum aller Beträge (**Maximumsnorm**) an. \n",
        "\n",
        "* Zur Normalisierung (??) siehe p-Norm: $\n",
        "\\|x\\|_{p}:=\\left(\\sum_{i=1}^{n}\\left|x_{i}\\right|^{p}\\right)^{1 / p}\n",
        "$"
      ]
    },
    {
      "cell_type": "markdown",
      "metadata": {
        "id": "tPTYbbpvYcnL"
      },
      "source": [
        "**Einheitskugel (Unit Sphere) unter verschiedenen Normen**"
      ]
    },
    {
      "cell_type": "markdown",
      "metadata": {
        "id": "jjtKryVdQp82"
      },
      "source": [
        "![xx](https://upload.wikimedia.org/wikipedia/commons/thumb/2/2c/Unit_disc_2-norm_qtl1.svg/240px-Unit_disc_2-norm_qtl1.svg.png)\n",
        "\n",
        "*Einheitskugel (rot) und -sphäre (blau) für die euklidische Norm in zwei Dimensionen* ([Source](https://de.wikipedia.org/wiki/Einheitskugel))"
      ]
    },
    {
      "cell_type": "markdown",
      "metadata": {
        "id": "IgWu5QWpYVqR"
      },
      "source": [
        "* **Wählt man in der Definition $x_{0}=0$ und $r=1,$ so nennt man die entstehenden Mengen Einheitskugel bzw. Einheitssphäre.** Das bedeutet, die [Einheitskugel](https://de.wikipedia.org/wiki/Einheitskugel) ist die Kugel mit Radius eins um den Nullpunkt eines Vektorraums. \n",
        "\n",
        "* Die Begriffe $_{n}$ Kugel\" bzw. Sphäre\" sind dabei sehr allgemein zu sehen - beispielsweise kann eine Normkugel auch Ecken und Kanten besitzen - und **fallen nur im Spezialfall der euklidischen Vektornorm mit dem aus der Geometrie bekannten Kugelbegriff zusammen**. \n",
        "\n",
        "* **Wird eine andere Norm als die euklidische Norm zur Abstandsmessung benutzt, so ist die Form des Einheitskreises im kartesischen Koordinatensystem eine andere**. Die geometrische Gestalt der Einheitskugel hängt von der gewählten Norm ab und ist nur mit der euklidischen Norm tatsächlich kugelförmig. Einheitskugeln können alternativ im $\\mathbb{R}^{n}$ bezüglich anderer Normen definiert werden.\n",
        "\n",
        "  * Der Einheitskreis fur die **euklidische Norm** ist eine Kugel. Im Falle des euklidischen Raumes $\\mathbb{R}^{n}$ definiert man die abgeschlossene Einheitskugel bezüglich der **euklidischen Norm** $\\|x\\|_{2}=\\sqrt{x_{1}^{2}+x_{2}^{2}+\\cdots+x_{n}^{2}}$ mittels $\\overline{B_{R^{n}}}:=\\left\\{x \\in \\mathbb{R}^{n}:\\|x\\|_{2} \\leq 1\\right\\}$. \n",
        "\n",
        "  * Der Einheitskreis fur die **Summennorm** ist ein Quadrat mit den Ecken (±1,0) und (0,±1). Die Einheitskugel der **Summennorm** (1-Norm) ist definiert $\\|x\\|_{1}=\\left|x_{1}\\right|+\\left|x_{2}\\right|+\\cdots+\\left|x_{n}\\right|$. \n",
        "\n",
        "  * Der Einheitskreis fur die Maximumsnorm ist ein Quadrat mit den Ecken (±1,±1). Die Einheitskugel der  **Maximumsnorm** ist definiert $\\|x\\|_{\\infty}=\\max \\left\\{\\left|x_{1}\\right|,\\left|x_{2}\\right|, \\ldots,\\left|x_{n}\\right|\\right\\} .$\n",
        "\n",
        "  * Siehe p-Norm: $\n",
        "\\|x\\|_{p}:=\\left(\\sum_{i=1}^{n}\\left|x_{i}\\right|^{p}\\right)^{1 / p}\n",
        "$\n",
        "\n",
        "* Bei der Betrachtung von [Umgebungen](https://de.wikipedia.org/wiki/Umgebung_(Mathematik)) (in Topologie) wird die Einheitskugel auch als 1-Kugel oder 1-Ball bezeichnet."
      ]
    },
    {
      "cell_type": "markdown",
      "metadata": {
        "id": "-IBw1G4RYqKN"
      },
      "source": [
        "**Normkugel bzw. Normsphäre**"
      ]
    },
    {
      "cell_type": "markdown",
      "metadata": {
        "id": "aKTnPyITYtdA"
      },
      "source": [
        "* Für einen gegebenen Vektor $x_{0} \\in V$ und einen Skalar $r \\in \\mathbb{K}$ mit $r>0$\n",
        "\n",
        "> heißt die Menge $\\left\\{x \\in V:\\left\\|x-x_{0}\\right\\|<r\\right\\}$ bzw. $\\left\\{x \\in V:\\left\\|x-x_{0}\\right\\| \\leq r\\right\\}$ [offene](https://de.wikipedia.org/wiki/Offene_Menge) bzw. [abgeschlossene](https://de.wikipedia.org/wiki/Abgeschlossene_Menge) **Normkugel** und \n",
        "\n",
        "> heißt die Menge $\\left\\{x \\in V:\\left\\|x-x_{0}\\right\\|=r\\right\\}$ heißt **Normsphäre** um $x_{0}$ mit Radius $r .$ \n",
        "\n",
        "* Jede [Normkugel](https://de.m.wikipedia.org/wiki/Norm_(Mathematik)#Normkugeln) bzw. Normsphäre **entsteht aus der entsprechenden Einheitskugel bzw. Einheitssphäre** durch Skalierung mit dem Faktor $r$ und Translation um den Vektor $x_{0}$.\n",
        "\n",
        "* **Norm = 1**: Diese [Einheitssphäre](https://de.wikipedia.org/wiki/Sphäre_(Mathematik)) (Oberflache der Kugel) ist der Rand der Einheitskugel, **im zweidimensionalen reellen Vektorraum mit der euklidischen Norm ist dies der [Einheitskreis](https://de.wikipedia.org/wiki/Einheitskreis)**. Die Einheitssphäre bildet somit den Rand der Einheitskugel.\n",
        "\n",
        "* **Norm < 1**: Die Menge der Vektoren **mit Norm kleiner als eins wird Einheitskugel des normierten Raums genannt**. Sie ist eine konvexe und zentralsymmetrische Menge, im Allgemeinen aber kein Ellipsoid, beispielsweise kann sie auch ein konvexer Polyeder sein. Die Parallelogrammgleichung ist in normierten Räumen im Allgemeinen nicht erfüllt, sie gilt aber für Vektoren in euklidischen Räumen, was daraus folgt, dass das Quadrat der euklidischen Norm eines Vektors dem Skalarprodukt mit sich selbst entspricht."
      ]
    },
    {
      "cell_type": "markdown",
      "metadata": {
        "id": "BzwsYyJMZkys"
      },
      "source": [
        "#### **Normed Vector Space**"
      ]
    },
    {
      "cell_type": "markdown",
      "metadata": {
        "id": "0MpcxqCJZoQT"
      },
      "source": [
        "\n",
        "**A [normed vector space](https://en.m.wikipedia.org/wiki/Normed_vector_space) or normed space is a vector space over the real or complex numbers, on which a norm is defined**. \n",
        "\n",
        "> Ist $V$ ein [Vektorraum](https://de.m.wikipedia.org/wiki/Vektorraum) über dem Körper $\\mathbb{K}$ der reellen oder der komplexen Zahlen und $\\|\\cdot\\|: V \\rightarrow \\mathbb{R}_{0}^{+}$ eine Norm auf $V,$ dann nennt man das Paar $(V,\\|\\cdot\\|)$ einen **normierten Vektorraum**. "
      ]
    },
    {
      "cell_type": "markdown",
      "metadata": {
        "id": "JaI_o7GUFVgk"
      },
      "source": [
        "**Beispiele fur Normed Vector Spaces**"
      ]
    },
    {
      "cell_type": "markdown",
      "metadata": {
        "id": "6eDo1PKD94-e"
      },
      "source": [
        "* Ein **[Banachraum](https://en.m.wikipedia.org/wiki/Banach_space)** ist ein vollständiger normierter (Vektor-)Raum. Ein vollständiger normierter Vektorraum (complete normed vector space) heißt Banachraum. \n",
        "\n",
        "  * A Banach space is a vector space X over any scalar field K that is equipped with a norm ‖⋅‖ <sub>X</sub> and that is complete with respect to the distance function induced by the norm\n",
        "\n",
        "  * Basic examples of Banach spaces include: the $L^{p}$ spaces and their special cases, the sequence spaces\n",
        "$\\ell^{p}$ that consist of scalar sequences indexed by $\\mathrm{N} ;$ among them, the space $\\ell^{1}$ of absolutely summable sequences and the space $\\ell^{2}$ of square summable sequences; the space $c_{0}$ of sequences tending to zero and the space $\\ell^{\\infty}$ of bounded sequences; the space $C(K)$ of continuous scalar functions on a compact\n",
        "Hausdorff space $K$, equipped with the max norm,\n",
        "\n",
        "* Ein Banachraum, dessen Norm durch ein Skalarprodukt induziert ist, heißt **[Hilbertraum](https://de.wikipedia.org/wiki/Hilbertraum)**. (z.B. p2-Norm (Euklidische Norm). Lässt man die Bedingung der Vollständigkeit fallen, spricht man von einem Prähilbertraum.)\n",
        "\n",
        "  * Die Struktur eines Hilbertraums ist eindeutig festgelegt durch seine Hilbertraumdimension. Diese kann eine beliebige Kardinalzahl sein. Ist die Dimension endlich und betrachtet man als Körper die reellen Zahlen, so handelt es sich um einen euklidischen Raum.\n",
        "\n",
        "  * Hilberträume tragen durch ihr Skalarprodukt eine topologische Struktur. Dadurch sind hier im Gegensatz zu allgemeinen Vektorräumen Grenzwertprozesse möglich. \n",
        "\n",
        "* Viele **Folgenräume $\\ell$** oder **Funktionenräume $L$** sind unendlichdimensionale Banachräume. Function Spaces $L$ are a type of infinite vector space. \n",
        "\n",
        "  * **Lp spaces are function spaces defined using a natural generalization of the p-norm for finite-dimensional vector spaces**. They are sometimes called Lebesgue spaces. Lp spaces form an important class of Banach spaces in functional analysis, and of topological vector spaces.\n",
        "\n",
        "  * Infinite-dimensional **vector spaces arise naturally in mathematical analysis, as function spaces**, whose vectors are functions. These vector spaces are generally endowed with additional structure, which may be a topology, allowing the consideration of issues of proximity and continuity. Among these topologies, those that are defined by a norm or inner product are more commonly used, as having a notion of distance between two vectors. This is particularly the case of Banach spaces and Hilbert spaces, which are fundamental in mathematical analysis.\n",
        "\n",
        "* [Fréchet-Spaces](https://de.m.wikipedia.org/wiki/Fréchet-Raum) sind Verallgemeinerungen des Banachraums und topologische Vektorraumemit speziellen Eigenschaften. Die Hauptvertreter von Fréchet-Räumen sind Vektorräume von glatten Funktionen. Diese Räume lassen sich zwar mit verschiedenen Normen ausstatten, **sind aber bezüglich keiner Norm vollständig**, also keine Banachräume. Man kann auf ihnen aber eine Topologie definieren, sodass viele Sätze, die in Banachräumen gelten, ihre Gültigkeit behalten."
      ]
    },
    {
      "cell_type": "markdown",
      "metadata": {
        "id": "4-F4FsRP0mB4"
      },
      "source": [
        "**Folgenraum (Sequence Space)**"
      ]
    },
    {
      "cell_type": "markdown",
      "metadata": {
        "id": "LrzUZWDm0mB4"
      },
      "source": [
        "* **Ein [Folgenraum](https://de.m.wikipedia.org/wiki/Folgenraum) ist ein in der Mathematik betrachteter Vektorraum**, dessen Elemente Zahlenfolgen sind. \n",
        "\n",
        "* Viele in der Funktionalanalysis auftretende Vektorräume sind Folgenräume oder können durch solche repräsentiert werden. Zu den Beispielen zählen u. a. die wichtigen Räume wie ℓ∞ aller beschränkten Folgen oder c0 aller gegen 0 konvergenten Folgen.\n",
        "\n",
        "* **Werden Normen bzw. Systeme von Normen oder Halbnormen auf Folgenräumen definiert, erhält man normierte Räume bzw. lokalkonvexe Räume.**\n",
        "\n",
        "* A **sequence space** (Folgenraum) is a vector space whose elements are infinite sequences of real or complex numbers. \n",
        "\n",
        "* Equivalently, it is a **function space** (Funktionenraum) whose elements are functions from the natural numbers to the field K of real or complex numbers. \n",
        "\n",
        "* The set of all such functions is naturally identified with the set of all possible infinite sequences with elements in K, and **can be turned into a vector space** under the operations of pointwise addition of functions and pointwise scalar multiplication. All sequence spaces are linear subspaces of this space. Sequence spaces are typically equipped with a norm, or at least the structure of a topological vector space.\n",
        "\n",
        "* The **most important sequence spaces in analysis are the ℓp spaces**, consisting of the p-power summable sequences, with the p-norm. These are special cases of Lp spaces for the counting measure on the set of natural numbers. \n",
        "\n",
        "* Other important classes of sequences like convergent sequences or null sequences (Nullfolgen) form sequence spaces, respectively denoted c and c0, with the sup norm. Any sequence space can also be equipped with the topology of pointwise convergence, under which it becomes a special kind of Fréchet space called FK-space.\n",
        "\n",
        "* The vector space ℓ∞ is a **sequence space** (Folgenraum) whose elements are the bounded sequences. The vector space operations, addition and scalar multiplication, are applied coordinate by coordinate. \n",
        "\n",
        "* $\\ell^{\\infty},$ the (real or complex) vector space of bounded sequences with the **[supremum norm](https://de.m.wikipedia.org/wiki/Supremumsnorm)**, and $L^{\\infty}=L^{\\infty}(X, \\Sigma, \\mu)$, the vector space of essentially bounded measurable functions with the **[essential supremum norm](https://de.m.wikipedia.org/wiki/Wesentliches_Supremum)**, are two closely related Banach spaces. \n",
        "\n",
        "* In fact the former is a special case of the latter. As a Banach space they are the continuous dual of the Banach spaces $\\ell_{1}$ of absolutely summable sequences, and $L^{1}=L^{1}(X, \\Sigma, \\mu)$ of absolutely integrable measurable functions (if the measure space fulfills the conditions of being localizable and therefore\n",
        "semifinite). \n",
        "\n",
        "* Pointwise multiplication gives them the structure of a Banach algebra, and in fact they are the standard examples of abelian Von Neumann algebras."
      ]
    },
    {
      "cell_type": "markdown",
      "metadata": {
        "id": "OpbXQrk-0mB4"
      },
      "source": [
        "**Funktionenraum (Function Space)**"
      ]
    },
    {
      "cell_type": "markdown",
      "metadata": {
        "id": "DOJta5Vm0mB4"
      },
      "source": [
        "* **Von den L<sup>p</sup> Normen zu den L<sup>p</sup> Spaces (Banachraum)**\n",
        "\n",
        "* **The sequence space (Folgenraum) is a special case of the [function space](https://en.m.wikipedia.org/wiki/Function_space) / [Funktionenraum](https://de.m.wikipedia.org/wiki/Funktionenraum): $\\ell_{\\infty}=L_{\\infty}(\\mathbb{N})$ where the natural numbers are equipped with the counting measure.** [source](https://en.m.wikipedia.org/wiki/L-infinity)\n",
        "\n",
        "* L∞ is a **function space** (Funktionenraum). Its elements are the essentially bounded measurable functions. \n",
        "\n",
        "* More precisely, L∞ is defined based on an underlying measure space, (S, Σ, μ). Start with the set of all measurable functions from S to R which are essentially bounded, i.e. bounded up to a set of measure zero. Two such functions are identified if they are equal almost everywhere. Denote the resulting set by L∞(S, μ)."
      ]
    },
    {
      "cell_type": "markdown",
      "metadata": {
        "id": "diVqOYFUpRJ_"
      },
      "source": [
        "* Der **normierte Vektorraum** $L^{p}$ ist [vollständig](https://de.m.wikipedia.org/wiki/Vollständiger_Raum) und damit ein [Banachraum](https://de.m.wikipedia.org/wiki/Banachraum), die Norm $\\|\\cdot\\|_{L} p$ wird **$L^{p}$ Norm** genannt.\n",
        "\n",
        "* Auch wenn man von sogenannten $L^{p}$ -Funktionen spricht, handelt es sich dabei um die gesamte Äquivalenzklasse einer klassischen Funktion. Allerdings liegen im Falle des Lebesgue-Maßes auf dem $\\mathbb{R}^{n}$ zwei verschiedene stetige Funktionen nie in der gleichen Äquivalenzklasse, so dass der $L^{p}$\n",
        "-Begriff eine natürliche Erweiterung des Begriffs stetiger Funktionen darstellt.\n",
        "\n",
        "* The [**Lp spaces**](https://de.m.wikipedia.org/wiki/Lp-Raum) are [function spaces](https://en.m.wikipedia.org/wiki/Function_space) defined using a natural **generalization of the p-norm for finite-dimensional vector spaces**. They are sometimes called **Lebesgue spaces**.\n",
        "\n",
        "* A normed vector space is automatically a metric space, by defining the metric in terms of the norm in the natural way. But a metric space may have no algebraic (vector) structure — i.e., it may not be a vector space — so the concept of a **metric space is a generalization of the concept of a normed vector space**.\n",
        "\n",
        "* Lp spaces form an important class of [Banach spaces](https://en.m.wikipedia.org/wiki/Banach_space) in functional analysis, and of topological vector spaces.\n",
        "\n",
        "* In statistics, measures of central tendency and statistical dispersion, such as the mean, median, and standard deviation, are defined in terms of Lp metrics, and measures of central tendency can be characterized as [solutions to variational problems](https://en.m.wikipedia.org/wiki/Central_tendency#Solutions_to_variational_problems)\n",
        "\n",
        "* An Lp space may be defined as a space of measurable functions for which the p-th power of the absolute value is Lebesgue integrable, where functions which agree almost everywhere are identified. \n",
        "\n",
        "* More generally, let 1 ≤ p < ∞ and (S, Σ, μ) be a [measure space](https://en.m.wikipedia.org/wiki/Measure_space). Consider the set of all measurable functions from S to C or R whose absolute value raised to the p-th power has a finite integral, or equivalently, that\n",
        "\n",
        "> $\\|f\\|_{p} \\equiv\\left(\\int_{S}|f|^{p} \\mathrm{d} \\mu\\right)^{1 / p}<\\infty$\n",
        "\n",
        "* The **space Lp for 0 < p < 1 is an [F-space](https://en.m.wikipedia.org/wiki/F-space)**: it admits a complete translation-invariant metric with respect to which the vector space operations are continuous. It is also locally bounded, much like the case p ≥ 1."
      ]
    },
    {
      "cell_type": "markdown",
      "metadata": {
        "id": "4SpYIJ602L38"
      },
      "source": [
        "## **Metric Space**"
      ]
    },
    {
      "cell_type": "markdown",
      "metadata": {
        "id": "LZZJtKXrF3_P"
      },
      "source": [
        "#### **Metric & Metric Space**"
      ]
    },
    {
      "cell_type": "markdown",
      "metadata": {
        "id": "5s1Gly-C2tfd"
      },
      "source": [
        "> **Eine Metrik definiert Abstände zwischen Elementen des Vektorraumes.**\n",
        "\n",
        "Sei M eine Menge. Eine Metrik ist eine Abbildung d: $M \\times M \\rightarrow \\mathbb{R}$ auf $M \\times M$ wenn folgende drei Axiome erfüllt sind:\n",
        "\n",
        "1. $d(x, y) \\geq 0$ (**non-negativity**) sowie $d(x, y)=0$ if and only if $x=y$ (Gleichheit gilt genau dann, wenn $x=y$, **identity of indiscernibles**) für alle $x, y \\in M$. Beide zusammen bilde Positive Definitheit (**positive definiteness**). \n",
        "\n",
        "2. $d(x, y)=d(y, x)$ (**symmetry**) Symmetrie\n",
        "$d(x, y)=d(y, x) \\forall x, y \\in M$\n",
        "\n",
        "4. $d(x, z) \\leq d(x, y)+d(y, z)$ (**Dreiecksungleichung / subadditivity / triangle inequality**) $\\forall x, y, z \\in M$\n",
        "\n",
        "Das Paar $(M, d)$ nennt man einen **metrischen Raum (metric space)**."
      ]
    },
    {
      "cell_type": "markdown",
      "metadata": {
        "id": "hD4AYCcdH3it"
      },
      "source": [
        "https://de.m.wikipedia.org/wiki/Metrischer_Raum"
      ]
    },
    {
      "cell_type": "markdown",
      "metadata": {
        "id": "_gcLfqnPX33L"
      },
      "source": [
        "> **A norm induces a distance by the formula d (x,y) = ‖ y-x ‖.**\n",
        "\n",
        "Jede Norm auf einem Vektorraum induziert durch die Festlegung\n",
        "\n",
        "> $d(x, y) \\equiv\\|x-y\\|$\n",
        "\n",
        "eine Metrik. Somit ist jeder normierte Vektorraum (und erst recht jeder Innenproduktraum, Banachraum oder Hilbertraum) ein metrischer Raum."
      ]
    },
    {
      "cell_type": "markdown",
      "metadata": {
        "id": "06COtKq5HS-E"
      },
      "source": [
        "**Differentiation:**"
      ]
    },
    {
      "cell_type": "markdown",
      "metadata": {
        "id": "YZLAEDth49rq"
      },
      "source": [
        "* **Divergence** fullfills property of positive definiteness (1 + 2)\n",
        "\n",
        "* **Distance** fullfills property of positive definiteness and symmetrie (1 + 2+ 3)\n",
        "\n",
        "* **Metric** fullfills property of positive definiteness, symmetrie and triangle inequality (1 + 2 + 3 + 4). Häufig wird auch eine Metrik als [Distanzfunktion](https://de.m.wikipedia.org/wiki/Distanzfunktion) bezeichnet.\n",
        "\n",
        "* **Metric Space**: Together with the set, a metric makes up a metric space.\n",
        "\n",
        "* Difference Metric to Norm: **Instead of distance between points, a norm gives us the length of a vector, as measured from the origin.** Jede Norm induziert eine Metrik, aber nicht umgekehrt."
      ]
    },
    {
      "cell_type": "markdown",
      "metadata": {
        "id": "AbyK2erJfiMZ"
      },
      "source": [
        "Given a set $X$ of points, a distance function on $X$ is a map $d: X \\times X \\rightarrow \\mathbb{R}_{+}$ that is symmetric, and satisfies $d(i, i)=0$ for all $i \\in X .$ \n",
        "\n",
        "* Eine Metrik (auch Abstandsfunktion) ist eine Funktion, die je zwei Elementen des Raums einen nicht negativen reellen Wert zuordnet, der als Abstand der beiden Elemente voneinander aufgefasst werden kann. \n",
        "\n",
        "* The metric is a function that defines a concept of distance between any two members of the set, which are usually called points. The metric satisfies a few simple properties.\n",
        "\n",
        "* Unter einem [metrischen Raum](https://de.m.wikipedia.org/wiki/Metrischer_Raum) (metric space) versteht man in der Mathematik eine Menge, auf der eine Metrik definiert ist. \n",
        "\n",
        "* A metric on a space induces topological properties like open and closed sets, which lead to the study of more abstract topological spaces. Der Begriff „topologischer Raum“ verallgemeinert den Begriff „metrischer Raum“: Jeder metrische Raum ist ein topologischer Raum mit der Topologie, die durch die Metrik induziert wird (siehe dazu [Umgebung](https://de.m.wikipedia.org/wiki/Umgebung_(Mathematik))). Jeder metrische Raum ist ein [Hausdorff-Raum](https://de.m.wikipedia.org/wiki/Hausdorff-Raum).\n",
        "\n",
        "* Metriken geben einem Raum eine globale und eine lokale mathematische Struktur. Die globale Struktur kommt in geometrischen Eigenschaften wie der Kongruenz von Figuren zum Ausdruck. Die lokale metrische Struktur, also die Definition kleiner Abstände, ermöglicht unter bestimmten zusätzlichen Voraussetzungen die Einführung von Differentialoperationen.\n",
        "\n",
        "* In einem metrischen Raum werden Abstände zwischen Punkten definiert. Jeder metrische Raum ist auch ein topologischer Raum. In einem metrischen Raum (aber nicht direkt in einem topologischen Raum) sind beschränkte Mengen und Cauchy-Folgen definiert. Isomorphismen zwischen metrischen Räumen heißen Isometrien. Ein metrischer Raum heißt vollständig, falls alle Cauchy-Folgen konvergieren. Jeder nicht vollständige Raum ist isometrisch in seine Vervollständigung eingebettet. Jeder kompakte metrische Raum ist vollständig; die reelle Zahlengerade ist nicht kompakt aber vollständig; das offene Intervall ( 0 , 1 ) (0,1) ist nicht vollständig."
      ]
    },
    {
      "cell_type": "markdown",
      "metadata": {
        "id": "21FF45m84ep2"
      },
      "source": [
        "Beispiele:\n",
        "\n",
        "* Die Menge der reellen Zahlen $\\mathbb{R}$ mit der Abstandsmetrik $d(x, y):=|x-y|$ bilden einen metrischen Raum."
      ]
    },
    {
      "cell_type": "markdown",
      "metadata": {
        "id": "qEzdckJipzyi"
      },
      "source": [
        "**Isometrie**"
      ]
    },
    {
      "cell_type": "markdown",
      "metadata": {
        "id": "c1zsesz3sQZl"
      },
      "source": [
        "Eine [Isometrie](https://de.m.wikipedia.org/wiki/Isometrie) ist eine Abbildung, die zwei metrische Räume aufeinander abbildet und dabei die Metrik – also die Abstände zwischen je zwei Punkten – erhält. ps: [Isometrische Isomorphie](https://de.m.wikipedia.org/wiki/Isometrische_Isomorphie) beschreibt in der Funktionalanalysis einen Zusammenhang zwischen zwei unterschiedlichen Räumen, die geometrisch identisch sind."
      ]
    },
    {
      "cell_type": "markdown",
      "metadata": {
        "id": "4_Tq_VZxqPPE"
      },
      "source": [
        "Sind zwei metrische Räume $\\left(M_{1}, d_{1}\\right),\\left(M_{2}, d_{2}\\right)$ gegeben, und ist $f: M_{1} \\rightarrow M_{2}$ eine Abbildung mit der Eigenschaft\n",
        "\n",
        "> $d_{2}(f(x), f(y))=d_{1}(x, y)$ für alle $x, y \\in M_{1}$\n",
        "\n",
        "dann heißt $f$ Isometrie von $M_{1}$ nach $M_{2}$. Eine solche Abbildung ist stets injektiv. \n",
        "\n",
        "Ist $f$ sogar bijektiv, dann heißt $f$ **isometrischer Isomorphismus**, und die Räume $M_{1}$ und $M_{2}$ heißen is isometrische Einbettung von $M_{1}$ in $M_{2}$"
      ]
    },
    {
      "cell_type": "markdown",
      "metadata": {
        "id": "CXylGv101ZwI"
      },
      "source": [
        "https://de.m.wikipedia.org/wiki/Metrisierbarer_Raum"
      ]
    },
    {
      "cell_type": "markdown",
      "metadata": {
        "id": "7NfzTtMmJl9E"
      },
      "source": [
        "https://en.m.wikipedia.org/wiki/Cauchy_space"
      ]
    },
    {
      "cell_type": "markdown",
      "metadata": {
        "id": "n7d7_An6wMZW"
      },
      "source": [
        "https://en.m.wikipedia.org/wiki/Continuous_function#Continuous_functions_between_metric_spaces"
      ]
    },
    {
      "cell_type": "markdown",
      "metadata": {
        "id": "9A0RiFz6sHZ-"
      },
      "source": [
        "https://en.m.wikipedia.org/wiki/Distance#General_metric"
      ]
    },
    {
      "cell_type": "markdown",
      "metadata": {
        "id": "O1hoL_o6Zh_H"
      },
      "source": [
        "#### **Minkowski-Metrik (L<sup>p</sup> Distances)**"
      ]
    },
    {
      "cell_type": "markdown",
      "metadata": {
        "id": "hBQAQ6GOZlg7"
      },
      "source": [
        "\n",
        "\n",
        "**Eine Metrik, die aus einer $p$ -Norm abgeleitet ist, heißt auch Minkowski-Metrik**. Wichtige Spezialfälle sind die\n",
        "\n",
        "* Manhattan-Metrik zu $p=1$, \n",
        "* euklidische Metrik zu $p=2$\n",
        "* Maximum-Metrik zu $p=\\infty$\n",
        "\n",
        "Weitere Beispiele für Normen (und damit auch für Metriken) finden sich im Artikel [Norm (Mathematik)](https://de.m.wikipedia.org/wiki/Norm_(Mathematik)). Aus einer $p$ -Norm abgeleitet sind zum Beispiel die Metriken der folgenden wichtigen Räume:\n",
        "der eindimensionale Raum der reellen oder komplexen Zahlen mit dem absoluten Betrag als Norm (mit beliebigem $p$ ) und der dadurch gegebenen Betragsmetrik\n",
        "\n",
        "> $d(x, y)=|x-y|$\n",
        "\n",
        "or euklidische Raum mit seiner durch den Satz des Pythagoras gegebenen euklidischen Metrik (zur euklidischen Norm für $p=2$ )\n",
        "\n",
        "> $d(x, y)=\\sqrt{\\left(x_{1}-y_{1}\\right)^{2}+\\cdots+\\left(x_{n}-y_{n}\\right)^{2}}$\n",
        "\n",
        "Als eine [**Fréchet-Metrik**](https://de.m.wikipedia.org/wiki/Fréchet-Metrik) wird gelegentlich eine Metrik\n",
        "\n",
        "> $d(x, y)=\\rho(x-y)$\n",
        "\n",
        "bezeichnet, die von einer Funktion $\\rho$ induziert wird, welche die meisten Eigenschaften einer Norm besitzt, aber nicht homogen ist. **Sie stellt eine Verbindung zwischen Metrik und Norm her.**"
      ]
    },
    {
      "cell_type": "markdown",
      "metadata": {
        "id": "HD52xBoRhcMz"
      },
      "source": [
        "https://en.m.wikipedia.org/wiki/Euclidean_distance#Generalizations"
      ]
    },
    {
      "cell_type": "markdown",
      "metadata": {
        "id": "HbZOslj1eRla"
      },
      "source": [
        "**L<sup>p</sup> Distances (Minkowski Distances / Metrics)**"
      ]
    },
    {
      "cell_type": "markdown",
      "metadata": {
        "id": "i7Sd3MWyW5V6"
      },
      "source": [
        "* **The Minkowski distance is a metric in a normed vector space** which can be considered as a generalization of both the Euclidean distance and the Manhattan distance.\n",
        "\n",
        "* Minkowski distance is typically used with p being 1 or 2, which correspond to the **Manhattan distance and the Euclidean distance**, respectively. In the limiting case of p reaching infinity, we obtain the **Chebyshev distance**\n",
        "\n",
        "* **p need not be an integer, but it cannot be less than 1, because otherwise the triangle inequality does not hold (which is possible, but then it's not a metric anymore)**\n",
        "\n",
        "* In physical space the Euclidean distance is in a way the most natural one, because in this case the length of a rigid body does not change with rotation."
      ]
    },
    {
      "cell_type": "markdown",
      "metadata": {
        "id": "CqKAYkW2oE2Z"
      },
      "source": [
        "![alternativer Text](https://upload.wikimedia.org/wikipedia/commons/thumb/0/00/2D_unit_balls.svg/800px-2D_unit_balls.svg.png)"
      ]
    },
    {
      "cell_type": "markdown",
      "metadata": {
        "id": "nRP4WSD9oLvm"
      },
      "source": [
        "*The figure shows unit circles (the set of all points that are at the unit distance from the centre) with various values of p*"
      ]
    },
    {
      "cell_type": "markdown",
      "metadata": {
        "id": "2t8p1rGbdPx1"
      },
      "source": [
        "https://en.m.wikipedia.org/wiki/Minkowski_distance"
      ]
    },
    {
      "cell_type": "markdown",
      "metadata": {
        "id": "fFzrPn6HYJt9"
      },
      "source": [
        "**L1 - Manhattan Distance**"
      ]
    },
    {
      "cell_type": "markdown",
      "metadata": {
        "id": "iO0nqUI8m_fA"
      },
      "source": [
        "* **ist eine topologische Distanz**\n",
        "\n",
        "* The Manhattan norm gives rise to the Manhattan distance, where the distance between any two points, or vectors, is the sum of the differences between corresponding coordinates.\n",
        "\n",
        "* **Die Manhattan-Metrik ist die von der Summennorm (1-Norm) eines Vektorraums erzeugte Metrik.**\n",
        "\n",
        "* **Aber: Die Summennorm ist nicht von einem Skalarprodukt induziert.**\n",
        "\n",
        "* Die Manhattan-Metrik (auch Manhattan-Distanz, Mannheimer Metrik, Taxi- oder Cityblock-Metrik) ist eine Metrik, in der die Distanz d zwischen zwei Punkten a und b als die Summe der absoluten Differenzen ihrer Einzelkoordinaten definiert wird:\n"
      ]
    },
    {
      "cell_type": "markdown",
      "metadata": {
        "id": "5oL_J1fZIqT8"
      },
      "source": [
        "> $d(a, b)=\\sum_{i}\\left|a_{i}-b_{i}\\right|$"
      ]
    },
    {
      "cell_type": "markdown",
      "metadata": {
        "id": "G0_E7Gu4IbbP"
      },
      "source": [
        "https://de.m.wikipedia.org/wiki/Manhattan-Metrik"
      ]
    },
    {
      "cell_type": "markdown",
      "metadata": {
        "id": "rZlz94XCYE8Q"
      },
      "source": [
        "**L2 - Euclidean Distance**"
      ]
    },
    {
      "cell_type": "markdown",
      "metadata": {
        "id": "c1bl59wtmyYn"
      },
      "source": [
        "* The **euclidean distance** is the L2-norm of the difference, **a special case of the Minkowski distance with p=2**. It is the natural distance in a geometric interpretation.\n",
        "\n",
        "> $d_{2}:(x, y) \\mapsto\\|x-y\\|_{2}=\\sqrt{d_{\\mathrm{SSD}}}=\\sqrt{\\sum_{i=1}^{n}\\left(x_{i}-y_{i}\\right)^{2}}$\n",
        "\n",
        "* Together with the Euclidean distance the Euclidean space is a metric space (x element R, d). http://theanalysisofdata.com/probability/B_4.html\n",
        "\n",
        "* https://en.m.wikipedia.org/wiki/Euclidean_distance\n",
        "\n",
        "* https://en.m.wikipedia.org/wiki/Tikhonov_regularization"
      ]
    },
    {
      "cell_type": "markdown",
      "metadata": {
        "id": "ug1sNzCsdMGh"
      },
      "source": [
        "**L ∞ - Chebyshev Distance**"
      ]
    },
    {
      "cell_type": "markdown",
      "metadata": {
        "id": "8QdrlGVRmlmx"
      },
      "source": [
        "* The maximum norm gives rise to the **Chebyshev distance** or chessboard distance, the minimal number of moves a chess king would take to travel from x to y. The Chebyshev distance is the L∞-norm of the difference, a special case of the Minkowski distance where p goes to infinity. It is also known as Chessboard distance.\n",
        "\n",
        "> $d_{\\infty}:(x, y) \\mapsto\\|x-y\\|_{\\infty}=\\lim _{p \\rightarrow \\infty}\\left(\\sum_{i=1}^{n}\\left|x_{i}-y_{i}\\right|^{p}\\right)^{\\frac{1}{p}}=\\max _{i}\\left|x_{i}-y_{i}\\right|$"
      ]
    },
    {
      "cell_type": "markdown",
      "metadata": {
        "id": "jjWVKu82npHV"
      },
      "source": [
        "https://en.m.wikipedia.org/wiki/Chebyshev_distance"
      ]
    },
    {
      "cell_type": "markdown",
      "metadata": {
        "id": "D1mImehPm69J"
      },
      "source": [
        "#### **Nicht durch Normen erzeugte Metriken**"
      ]
    },
    {
      "cell_type": "markdown",
      "metadata": {
        "id": "bUnISc3anLSR"
      },
      "source": [
        "* Auf jeder Menge lässt sich eine triviale Metrik, die sogenannte gleichmäßig diskrete Metrik (die sogar eine Ultrametrik ist) definieren durch \n",
        "\n",
        "> $d(x, y)=\\left\\{\\begin{array}{ll}0 & \\text { für } x=y \\\\ 1 & \\text { für } x \\neq y\\end{array}\\right.$\n",
        "\n",
        "Sie induziert die diskrete Topologie.\n",
        "\n",
        "* Auf $\\mathbb{R}$ wird durch $\\delta(x, y)=|\\arctan (x)-\\arctan (y)|$ eine Metrik definiert. Bezüglich dieser Metrik ist $\\mathbb{R}$ nicht vollständig. So ist $z .$ B. die Folge $(n)_{n \\in \\mathbb{N}}$ eine $\\delta$ -Cauchy-Folge, die nicht in $\\mathbb{R}$ konvergiert. Die von dieser Metrik erzeugte Topologie stimmt zwar mit der Standardtopologie auf IR überein, aber die von den beiden Metriken induzierten uniformen Strukturen sind offensichtlich\n",
        "verschieden.\n",
        "\n",
        "Im Allgemeinen **nicht durch eine Norm induziert ist die riemannsche Metrik**, die aus einer differenzierbaren Mannigfaltigkeit eine [riemannsche Mannigfaltigkeit](https://en.m.wikipedia.org/wiki/Riemannian_manifold) macht.\n",
        "\n",
        "  * Eine riemannsche Mannigfaltigkeit oder ein riemannscher Raum ist ein Objekt aus dem mathematischen Teilgebiet der riemannschen Geometrie. Diese Mannigfaltigkeiten haben die zusätzliche Eigenschaft, dass sie eine Metrik ähnlich wie ein **Prähilbertraum** besitzen.\n",
        "\n",
        "  * Mit Hilfe dieser riemannschen Metrik lassen sich dann die wesentlichen geometrischen Eigenschaften der Mannigfaltigkeit beschreiben. So gelten auf jeder riemannschen Mannigfaltigkeit die folgenden, teilweise äquivalenten, Eigenschaften:\n",
        "\n",
        "  * Die kürzesten Strecken zwischen unterschiedlichen Punkten (die sogenannten Geodäten) sind nicht zwingend Geradenstücke, sondern können gekrümmte Kurven sein.\n",
        "\n",
        "  * Die Winkelsumme von Dreiecken kann, im Gegensatz zur Ebene, auch größer (z. B. Kugel) oder kleiner (hyperbolische Räume) als 180° sein.\n",
        "  * Die Parallelverschiebung von Tangentialvektoren entlang geschlossener Kurven kann die Richtung des Vektors ändern.\n",
        "Das Ergebnis einer Parallelverschiebung eines Tangentialvektors hängt auch vom Weg ab, entlang dessen der Tangentialvektor verschoben wird.\n",
        "  * Die Krümmung ist im Allgemeinen eine Funktion des Ortes auf der Mannigfaltigkeit.\n",
        "Abstandsmessungen zwischen unterschiedlichen Punkten sind nur mit Hilfe einer Metrik möglich, die vom Ort auf der Mannigfaltigkeit abhängen kann.\n",
        "\n",
        "**Beispiele dafür**:\n",
        "\n",
        "* die natürliche Metrik auf einer Kugeloberfläche, in der der Großkreis die kürzeste Verbindung ([Geodäte](https://en.m.wikipedia.org/wiki/Geodesic)) zwischen zwei Punkten ist;\n",
        "\n",
        "* die uneigentliche Metrik im Minkowski-Raum $\\mathbb{R} \\times \\mathbb{R}^{3}$ der speziellen Relativitätstheorie, in der zeitähnliche Abstände durch $\\left[(\\Delta t)^{2}-(\\Delta x / c)^{2}-(\\Delta y / c)^{2}-(\\Delta z / c)^{2}\\right]^{1 / 2}$ und ortsähnliche Abstände $\\operatorname{durch}\\left[(\\Delta x)^{2}+(\\Delta y)^{2}+(\\Delta z)^{2}-(\\Delta c t)^{2}\\right]^{1 / 2}$ gegeben sind\n",
        "\n",
        "* die von der Materieverteilung abhängige Verallgemeinerung dieser Metrik in der allgemeinen Relativitätstheorie."
      ]
    },
    {
      "cell_type": "markdown",
      "metadata": {
        "id": "zbhUmt563M6H"
      },
      "source": [
        "Die riemannsche Metrik ist keine Metrik im Sinne der Theorie der metrischen Räume, sondern ein Skalarprodukt. Man kann jedoch ähnlich wie in der Theorie der Skalarprodukträume aus dem Skalarprodukt eine Metrik gewinnen. Somit können riemannsche Mannigfaltigkeiten als metrische Räume verstanden werden. Auf riemannschen Mannigfaltigkeiten sind also im Gegensatz zu differenzierbaren Mannigfaltigen Begriffe wie Abstand, Durchmesser oder Vollständigkeit definiert."
      ]
    },
    {
      "cell_type": "markdown",
      "metadata": {
        "id": "EUzTHdhL3PTo"
      },
      "source": [
        "https://de.m.wikipedia.org/wiki/Riemannsche_Mannigfaltigkeit"
      ]
    },
    {
      "cell_type": "markdown",
      "metadata": {
        "id": "taLU82-Xn0xm"
      },
      "source": [
        "* Die [französische Eisenbahnmetrik](https://de.m.wikipedia.org/wiki/Französische_Eisenbahnmetrik) ist ein beliebtes Übungsbeispiel für eine nicht durch eine Norm induzierte Metrik. Sie wird unter Bezugnahme auf einen ausgezeichneten Punkt $P($, Paris\") wie folgt definiert: Der Abstand zweier verschiedener Punkte, deren Verbindungsgerade durch $P$ verläuft, ist inr Abstand unter der gewöhnlichen euklidischen Metrik. Der Abstand zweier\n",
        "verschiedener Punkte, deren Verbindungsgerade nicht durch $P$ verläuft, ist die Summe ihrer Abstände von $P$\n",
        "\n",
        "* Die [Hausdorff-Metrik](https://de.m.wikipedia.org/wiki/Hausdorff-Metrik) misst den **Abstand zwischen Teilmengen, nicht Elementen, eines metrischen Raums**; man könnte sie als Metrik zweiten Grades bezeichnen, denn sie greift auf eine Metrik ersten Grades zwischen den Elementen des metrischen Raums zurück.\n",
        "\n",
        "* Der [Hamming-Abstand](https://de.m.wikipedia.org/wiki/Hamming-Abstand) ist eine Metrik auf dem Coderaum, die die Unterschiedlichkeit von (gleich langen) Zeichenketten angibt. Siehe auch [Levenshetin Distance](https://de.m.wikipedia.org/wiki/Levenshtein-Distanz) - Die Levenshtein-Distanz kann als Erweiterung des Hamming-Abstands angesehen werden, welcher sich auf Ersetzungen beschränkt und daher nur Zeichenketten gleicher Länge bemessen kann. Eine Phonetische Suche kann die Levenshtein-Distanz verwenden, um Fehler zu erlauben. [Dynamic Time Warpening](https://de.m.wikipedia.org/wiki/Dynamic-Time-Warping). Die Levenshtein-Distanz kann als Sonderform der Dynamic-Time-Warping-Distanz (DTW) betrachtet werden."
      ]
    },
    {
      "cell_type": "markdown",
      "metadata": {
        "id": "xh03tQ74ulO-"
      },
      "source": [
        "In computer science, there is the notion of the \"edit distance\" between two strings. For example, the words \"dog\" and \"dot\", which vary by only one letter, are closer than \"dog\" and \"cat\", which differ by three letters. This idea is used in spell checkers and in coding theory, and is mathematically formalized in several different ways, such as:\n",
        "\n",
        "[Levenshtein distance](https://en.m.wikipedia.org/wiki/Levenshtein_distance)\n",
        "\n",
        "[Hamming distance](https://en.m.wikipedia.org/wiki/Hamming_distance)\n",
        "\n",
        "[Lee distance](https://en.m.wikipedia.org/wiki/Lee_distance)\n",
        "\n",
        "[Jaro–Winkler distance](https://en.m.wikipedia.org/wiki/Jaro–Winkler_distance)"
      ]
    },
    {
      "cell_type": "markdown",
      "metadata": {
        "id": "oJpF7K2iugN3"
      },
      "source": [
        "https://en.m.wikipedia.org/wiki/Edit_distance"
      ]
    },
    {
      "cell_type": "markdown",
      "metadata": {
        "id": "F1l9_Erf5T5S"
      },
      "source": [
        "## **Topological Space**"
      ]
    },
    {
      "cell_type": "markdown",
      "metadata": {
        "id": "PkRPPJjtDQIg"
      },
      "source": [
        "https://de.m.wikipedia.org/wiki/Lebesguesche_Überdeckungsdimension"
      ]
    },
    {
      "cell_type": "markdown",
      "metadata": {
        "id": "fTS5ewejIuzX"
      },
      "source": [
        "#### **Definition Topological Space**"
      ]
    },
    {
      "cell_type": "markdown",
      "metadata": {
        "id": "zCU-DP5e7sX7"
      },
      "source": [
        "**Definition 'Topologischer Raum': Eine Topologie ist ein Mengensystem T bestehend aus Teilmengen einer Grundmenge \n",
        "X, die offen oder offene Mengen genannt werden, und die die folgenden Axiome erfüllen:**\n",
        "\n",
        "1. Die leere Menge und die Grundmenge X sind offen.\n",
        "2. Der Durchschnitt endlich vieler offener Mengen ist offen. (Es genügt zu fordern, dass der Durchschnitt von zwei offenen Mengen offen ist.)\n",
        "3. Die Vereinigung beliebig vieler offener Mengen ist offen.\n",
        "\n",
        "**Man nennt dann $T$ eine Topologie auf $X$, und das Paar ($X$,$T$) einen topologischen Raum.**"
      ]
    },
    {
      "cell_type": "markdown",
      "metadata": {
        "id": "QRmV20DK5TCp"
      },
      "source": [
        "Sei M eine Menge und $O \\subset \\wp(M)$ ein System von Teilmengen von M. $O$ heigt eine Topologie auf $\\mathrm{M}$ und das Paar $(\\mathrm{M}, O)$ ein topologischer Raum, wenn folgende Axiome erfüllt sind:\n",
        "\n",
        "1. $\\varnothing, M \\in O$ (Die leere Menge und Menge selbst gehören zur Topologie)\n",
        "\n",
        "2. $\\Omega_{1}, \\Omega_{2} \\in O \\Rightarrow \\Omega_{1} \\cap \\Omega_{2} \\in O$. D. h. wenn zwei Mengen zur Topologie gehören, dann auch deren Durchschnitt.\n",
        "\n",
        "3. Ist $I$ eine beliebige Indexmenge und sind $\\left(\\Omega_{i}\\right)_{i \\in I}$ Elemente von $O$ ,\n",
        "dann ist auch $\\bigcup_{i \\in \\mathrm{I}} \\Omega_{i} \\in O$\n",
        "\n",
        "Das bedeutet nichts anderes als dass die Vereinigung von beliebig vielen offenen Mengen wieder offen ist."
      ]
    },
    {
      "cell_type": "markdown",
      "metadata": {
        "id": "q61w9fluLka9"
      },
      "source": [
        "**Definition Topological Space**"
      ]
    },
    {
      "cell_type": "markdown",
      "metadata": {
        "id": "ixMvjCdbLiBj"
      },
      "source": [
        "* a topological space ([Topologischer Raum](https://de.m.wikipedia.org/wiki/Topologischer_Raum)) may be defined as a set of points, along with a set of **neighbourhoods** for each point, satisfying a set of **axioms** relating points and neighbourhoods.\n",
        "\n",
        "* The definition of a topological space **relies only upon set theory** and is the most general notion of a mathematical space that allows for the definition of concepts such as **[continuity](https://en.m.wikipedia.org/wiki/Continuous_function#Continuous_functions_between_topological_spaces), [connectedness](https://en.m.wikipedia.org/wiki/Connected_space), and [convergence](https://en.m.wikipedia.org/wiki/Limit_of_a_sequence)**.\n",
        "\n",
        "* **Other spaces, such as manifolds and metric spaces, are specializations of topological spaces with extra structures or constraints.**\n",
        "\n",
        "* Topological spaces are **studied in Point-Set Topology** (General Topology)\n",
        "\n",
        "* ein topologischer Raum ist ein elementarer Gegenstand der Topologie\n",
        "\n",
        "* Durch die Einführung einer topologischen Struktur auf einer Menge lassen sich intuitive Lagebeziehungen wie **„Nähe“ und „Streben gegen“** aus dem [Anschauungsraum (Euklidischer Raum)](https://de.m.wikipedia.org/wiki/Euklidischer_Raum) auf sehr viele und sehr allgemeine Strukturen übertragen und mit präziser Bedeutung versehen."
      ]
    },
    {
      "cell_type": "markdown",
      "metadata": {
        "id": "5bfZdPkQLuKX"
      },
      "source": [
        "https://de.m.wikipedia.org/wiki/Topologischer_Raum"
      ]
    },
    {
      "cell_type": "markdown",
      "metadata": {
        "id": "mMhlhwMT6hcE"
      },
      "source": [
        "**Beispiele:**\n",
        "\n",
        "* Das einfachste Beispiel eines topologischen Raumes ist die Menge der reellen Zahlen. Dabei ist die Topologie, also das System der offenen Teilmengen so erklärt, dass wir eine Menge $\\Omega$ C $\\mathbb{R}$ offen nennen, wenn sie sich als Vereinigung von offenen Intervallen darstellen lässt."
      ]
    },
    {
      "cell_type": "markdown",
      "metadata": {
        "id": "-6p7_SnLJvkK"
      },
      "source": [
        "**Uniform Spaces**\n",
        "\n",
        "* **Uniforme Räume erlauben es zwar nicht Abstände einzuführen**, aber trotzdem Begriffe wie gleichmäßige Stetigkeit, Cauchy-Folgen, Vollständigkeit und Vervollständigung zu definieren. Jeder uniforme Raum ist auch ein topologischer Raum. \n",
        "\n",
        "* **Jeder topologische Vektorraum (egal ob metrisierbar oder nicht) ist auch ein uniformer Raum**. Allgemeiner ist jede kommutative topologische Gruppe ein uniformer Raum. Eine nichtkommutative topologische Gruppe trägt jedoch zwei uniforme Strukturen, eine links-invariante und eine rechts-invariante. Topologische Vektorräume sind in endlichen Dimensionen vollständig, in unendlichen Dimensionen im Allgemeinen aber nicht.\n",
        "\n",
        "https://de.m.wikipedia.org/wiki/Uniformer_Raum"
      ]
    },
    {
      "cell_type": "markdown",
      "metadata": {
        "id": "uYClTj7GK82h"
      },
      "source": [
        "Ein **[topologischer Vektorraum](https://de.m.wikipedia.org/wiki/Topologischer_Vektorraum)** / [Topological Vector Space](https://en.m.wikipedia.org/wiki/Topological_vector_space) ist ein Vektorraum, auf dem neben seiner algebraischen auch noch eine damit verträgliche topologische Struktur definiert ist.\n",
        "\n",
        "Sei $\\mathbb{K} \\in\\{\\mathbb{R}, \\mathbb{C}\\}$. Ein $\\mathbb{K}$ -Vektorraum $E$, der zugleich topologischer Raum ist, heißt topologischer Vektorraum, wenn folgende Verträglichkeitsaxiome gelten:\n",
        "* Die Vektoraddition $E \\times E \\rightarrow E$ ist stetig,\n",
        "* Die Skalarmultiplikation $\\mathbb{K} \\times E \\rightarrow E$ ist stetig.\n"
      ]
    },
    {
      "cell_type": "markdown",
      "metadata": {
        "id": "iyg8hSWHtLwY"
      },
      "source": [
        "#### **Trennungsaxiom & Types of Topological Spaces**"
      ]
    },
    {
      "cell_type": "markdown",
      "metadata": {
        "id": "0ywgr3AvtWH4"
      },
      "source": [
        "https://de.m.wikipedia.org/wiki/Trennungsaxiom"
      ]
    },
    {
      "cell_type": "markdown",
      "metadata": {
        "id": "2JSAId5-LHuB"
      },
      "source": [
        "**Topologische Strukturen**\n",
        "\n",
        "* Der geometrische Begriff des Abstands (der Metrik) ermöglicht es, in metrischen Räumen das grundlegende Konzept der modernen Analysis, die **Konvergenz**, zu handhaben.\n",
        "\n",
        "* Topologische Räume sind aus dem Bemühen hervorgegangen, die Konvergenz in einem allgemeinen Sinne zu behandeln (jeder metrische Raum ist ein topologischer Raum mit der Topologie, die durch die Metrik induziert wird).\n",
        "\n",
        "* Die verschiedenen topologischen Räume, sie lassen sich durch ihre möglichen lokalen Strukturen klassifizieren, erhalten ihre Struktur durch die Auszeichnung bestimmter Teilmengen als offen oder, äquivalent dazu, als abgeschlossen (Strukturen zweiter Stufe).\n",
        "\n",
        "**Siehe auch**: [Topologie](https://de.m.wikipedia.org/wiki/Topologie_(Mathematik)), [topologischer Raum](https://de.m.wikipedia.org/wiki/Topologischer_Raum) und [Trennungsaxiom](https://de.m.wikipedia.org/wiki/Trennungsaxiom) (Mengentheoretische Topologie) und [Ordnungstopologie](https://de.m.wikipedia.org/wiki/Ordnungstopologie)."
      ]
    },
    {
      "cell_type": "markdown",
      "metadata": {
        "id": "QAHgQ1drLjYv"
      },
      "source": [
        "**Separation_axiom**\n",
        "\n",
        "* **Ausgangspunkt:** It's not enough for elements of a topological space to be distinct (that is, unequal); we may want them to be topologically distinguishable. Similarly, it's not enough for subsets of a topological space to be disjoint; we may want them to be separated (in any of various ways).\n",
        "\n",
        "* **Distinguishable (vs Distinct Elements)**: Let X be a topological space. Then two points x and y in X **are topologically distinguishable if they do not have exactly the same [neighbourhoods](https://en.m.wikipedia.org/wiki/Neighbourhood_(mathematics)) (Umgebung)** (or equivalently the same open neighbourhoods); that is, at least one of them has a neighbourhood that is not a neighbourhood of the other (or equivalently there is an open set that one point belongs to but the other point does not).\n",
        "\n",
        "* **Separated (vs Disjoint Subsets):** Two points x and y are **separated if each of them has a neighbourhood that is not a neighbourhood of the other**; that is, neither belongs to the other's closure. More generally, two subsets A and B of X are separated if each is disjoint from the other's closure. (The closures themselves do not have to be disjoint.) \n",
        "\n",
        "\n",
        "https://en.m.wikipedia.org/wiki/Separation_axiom\n",
        "\n",
        "https://ncatlab.org/nlab/show/separation+axioms\n",
        "\n",
        "https://de.m.wikipedia.org/wiki/Trennungsaxiom\n",
        "\n",
        "https://en.m.wikipedia.org/wiki/History_of_the_separation_axioms"
      ]
    },
    {
      "cell_type": "markdown",
      "metadata": {
        "id": "RaijUqJrMNTl"
      },
      "source": [
        "**Types of Topological Spaces**\n",
        "\n",
        "**Kolmogorov Space (T<sub>0</sub>)**\n",
        "\n",
        "A space is Kolmogorov if for every pair of distinct points x and y in the space, there is at least either an open set containing x but not y, or an open set containing y but not x.\n",
        "\n",
        "If for every pair of distinct points of X, at least one of them has a neighborhood not containing the other. In a T0 space, all points are topologically distinguishable.\n",
        "\n",
        "https://en.m.wikipedia.org/wiki/Kolmogorov_space\n",
        "\n",
        "**Fréchet Space (T<sub>1</sub>)**\n",
        "\n",
        "Fréchet spaces are generalizations of Banach spaces (normed vector spaces that are complete with respect to the metric induced by the norm).\n",
        "\n",
        "Instead, with the topology of compact convergence, C(a, b) can be given the structure of a Fréchet space: a locally convex topological vector space whose topology can be induced by a complete translation-invariant metric.\n",
        "\n",
        "https://en.m.wikipedia.org/wiki/Fréchet_space\n",
        "\n",
        "**Haussdorf Spaces (T<sub>2</sub>)**\n",
        "\n",
        "* A topological space is Hausdorff if and only if it is both preregular (i.e. topologically distinguishable points are separated by neighbourhoods) and Kolmogorov (i.e. distinct points are topologically distinguishable). A topological space is preregular if and only if its Kolmogorov quotient is Hausdorff.\n",
        "\n",
        "* Almost all spaces encountered in analysis are Hausdorff; most importantly, the real numbers (under the standard metric topology on real numbers) are a Hausdorff space. More generally, all metric spaces are Hausdorff. In fact, many spaces of use in analysis, such as topological groups and topological manifolds, have the Hausdorff condition explicitly stated in their definitions.\n",
        "\n",
        "https://en.m.wikipedia.org/wiki/Hausdorff_space"
      ]
    },
    {
      "cell_type": "markdown",
      "metadata": {
        "id": "_mU93JRZtGw_"
      },
      "source": [
        "#### **Topologische Begriffe**"
      ]
    },
    {
      "cell_type": "markdown",
      "metadata": {
        "id": "XTvDyN3OMqpX"
      },
      "source": [
        "**Überdeckung**\n",
        "\n",
        "* Überdeckung ein grundlegendes Konzept aus der Mengenlehre. \n",
        "\n",
        "* Offene Überdeckungen spielen insbesondere bei der Kompaktheit von topologischen Räumen eine wichtige Rolle.\n",
        "\n",
        "Eine [(Mengen-)Familie](https://de.m.wikipedia.org/wiki/Mengenfamilie) $\\left(A_{i}\\right)_{i \\in I}$ von Teilmengen von $A$ heißt Überdeckung von $B \\subset A,$ wenn gilt:\n",
        "\n",
        "$\n",
        "B \\subset \\bigcup_{i \\in I} A_{i}\n",
        "$\n",
        "\n",
        "Die Überdeckung $\\left(A_{i}\\right)_{i \\in I}$ heißt endlich (oder abzählbar), wenn die Indexmenge $I$ endlich (bzw abzählbar) ist.\n",
        "\n",
        "https://de.m.wikipedia.org/wiki/%C3%9Cberdeckung_(Mathematik)#Offene/abgeschlossene_%C3%9Cberdeckung"
      ]
    },
    {
      "cell_type": "markdown",
      "metadata": {
        "id": "1TpwhcFFM3sL"
      },
      "source": [
        "**Überlagerung**\n",
        "\n",
        "https://de.m.wikipedia.org/wiki/Überlagerung_(Topologie)\n",
        "\n",
        "https://de.m.wikipedia.org/wiki/Drehgruppe"
      ]
    },
    {
      "cell_type": "markdown",
      "metadata": {
        "id": "KZfecRZKNAjn"
      },
      "source": [
        "**Neighourhood (Umgebung)**\n",
        "\n",
        "* a [neighbourhood](https://en.m.wikipedia.org/wiki/Neighbourhood_(mathematics)), or neighborhood, [Umgebung](https://de.m.wikipedia.org/wiki/Umgebung_(Mathematik))  is one of the basic concepts in a topological space. It is closely related to the concepts of open set and interior. \n",
        "\n",
        "* Intuitively speaking, a neighbourhood of a point is a set of points containing that point where one can move some amount in any direction away from that point without leaving the set.\n",
        "\n",
        "* In einem topologischen Raum hat jeder Punkt x einen **Filter U(x) von Umgebungen**. Damit lässt sich der intuitive Begriff von „Nähe“ mathematisch fassen. Auch dieser Begriff kann einer Definition des Topologischen Raums zugrunde gelegt werden.\n",
        "\n",
        "https://en.m.wikipedia.org/wiki/Locally_connected_space"
      ]
    },
    {
      "cell_type": "markdown",
      "metadata": {
        "id": "YuPKWjQzNJBd"
      },
      "source": [
        "**Gröbere und feinere Topologien**\n",
        "\n",
        "https://de.m.wikipedia.org/wiki/Gröbere_und_feinere_Topologien"
      ]
    },
    {
      "cell_type": "markdown",
      "metadata": {
        "id": "ZgKF-usvNbfd"
      },
      "source": [
        "**Lokalkonvexer Raum**\n",
        "\n",
        "* genauer: lokalkonvexe topologische Vektorräume\n",
        "\n",
        "* in der Funktionalanalysis untersuchte topologische Vektorräume mit zusätzlichen Eigenschaften. Es handelt sich dabei um topologische Vektorräume, in denen jeder Punkt über „beliebig kleine“ konvexe Umgebungen verfügt. \n",
        "\n",
        "* Alternativ können lokalkonvexe Räume auch als Vektorräume definiert werden, deren Topologie durch eine Familie von Halbnormen erzeugt wird.\n",
        "\n",
        "* Ein lokalkonvexer Raum kann als eine Verallgemeinerung eines normierten Vektorraumes bzw. eines normierbaren Vektorraumes betrachtet werden, denn die Normkugeln um 0 sind konvexe Umgebungen des Nullpunktes.\n",
        "\n",
        "Ein topologischer Vektorraum V (über dem Körper $\\mathbb {R}$ der reellen Zahlen oder dem Körper $\\mathbb {C}$ der komplexen Zahlen) heißt lokalkonvex, wenn jede Nullumgebung U (d. h. Umgebung des Nullpunktes) eine offene Teilmenge T mit den folgenden drei Eigenschaften enthält:\n",
        "\n",
        "1. T ist konvex.\n",
        "2. T ist absorbierend (Eine Teilmenge $T$ eines reellen oder komplexen Vektorraumes $V$ heißt dabei absorbierend, wenn es zu jedem Vektor $x$ in $V$ eine positive Zahl $r$ gibt, so dass $\\alpha x$ für jede reelle bzw. komplexe Zahl $\\alpha$ mit |$\\alpha$| < r ein Element von $T$ ist.)\n",
        "3. T ist ausgewogen. (Eine Teilmenge $T$ eines reellen oder komplexen Vektorraumes $V$ heißt ausgewogen, wenn zu jedem Vektor $x$ in $T$ und jeder Zahl $r$ mit $|r| \\leq 1$ der Vektor $r x$ ebenfalls in $T$ liegt. Im Fall eines reellen Vektorraums bedeutet dies, dass die Strecke von $-x$ nach $x$ in $T$ liegt; bei einem komplexen Vektorraum bedeutet es, dass $T$ die $_{n}$ Kreisscheibe\" $\\{r x|r \\in \\mathbb{C},| r \\mid \\leq 1\\}$ enthält. Aufgrund dieser geometrischen Bedeutung werden solche Mengen manchmal auch kreisförmig genannt.)\n",
        "\n",
        "https://de.m.wikipedia.org/wiki/Lokalkonvexer_Raum\n",
        "\n",
        "https://en.m.wikipedia.org/wiki/Locally_convex_topological_vector_space\n",
        "\n",
        "https://en.m.wikipedia.org/wiki/Functional_analysis\n",
        "\n",
        "https://en.m.wikipedia.org/wiki/Geometric_measure_theory"
      ]
    },
    {
      "cell_type": "markdown",
      "metadata": {
        "id": "sef3vFPZCbBH"
      },
      "source": [
        "#### **Point-Set Topology (Mengentheoretische Topologie)**"
      ]
    },
    {
      "cell_type": "markdown",
      "metadata": {
        "id": "3f92e2-6-Jar"
      },
      "source": [
        "General topology is the branch of topology that deals with the basic set-theoretic definitions and constructions used in topology. It is the foundation of most other branches of topology, including differential topology, geometric topology, and algebraic topology. **Another name for general topology is point-set topology**."
      ]
    },
    {
      "cell_type": "markdown",
      "metadata": {
        "id": "Vy5f4vGA-Llx"
      },
      "source": [
        "The fundamental concepts in point-set topology are continuity, compactness, and connectedness:\n",
        "\n",
        "* **Continuous functions**, intuitively, take nearby points to nearby points.\n",
        "\n",
        "* **Compact sets** are those that can be covered by finitely many sets of arbitrarily small size.\n",
        "\n",
        "* **Connected sets** are sets that cannot be divided into two pieces that are far apart."
      ]
    },
    {
      "cell_type": "markdown",
      "metadata": {
        "id": "f-8bUzrQ_-Kw"
      },
      "source": [
        "**Once a choice of open sets is made, the properties of continuity, connectedness, and compactness, which use notions of nearness, can be defined using these open sets.**"
      ]
    },
    {
      "cell_type": "markdown",
      "metadata": {
        "id": "MN_C88QdNgEA"
      },
      "source": [
        "* **Point-Set Topology**: The low-level language of topology, which is not really considered a separate \"branch\" of topology. \n",
        "\n",
        "* Point-set topology, also called set-theoretic topology or general topology, is the study of the general abstract nature of continuity or \"closeness\" on spaces. \n",
        "\n",
        "* Basic point-set topological notions are ones like **continuity, dimension, compactness, and connectedness**. The intermediate value theorem (which states that if a path in the real line connects two numbers, then it passes over every point between the two) is a basic topological result. Others are that Euclidean n-space is homeomorphic to Euclidean m-space iff m=n, and that real valued functions achieve maxima and minima on compact sets.\n",
        "\n",
        "* **Foundational point-set topological questions are ones like \"when can a topology on a space be derived from a metric?\" Point-set topology deals with differing notions of continuity and compares them, as well as dealing with their properties.** \n",
        "\n",
        "* Point-set topology is also the ground-level of inquiry into the geometrical properties of spaces and continuous functions between them, and in that sense, it is the foundation on which the remainder of topology (algebraic, differential, and low-dimensional) stands."
      ]
    },
    {
      "cell_type": "markdown",
      "metadata": {
        "id": "w0flO2bUN65p"
      },
      "source": [
        "https://mathworld.wolfram.com/Point-SetTopology.html"
      ]
    },
    {
      "cell_type": "markdown",
      "metadata": {
        "id": "ak2HBZOH8xiT"
      },
      "source": [
        "#### **Convergence**"
      ]
    },
    {
      "cell_type": "markdown",
      "metadata": {
        "id": "pnloY_L3u7dt"
      },
      "source": [
        "![xxx](https://upload.wikimedia.org/wikipedia/commons/thumb/c/c9/Archimedes_pi.svg/320px-Archimedes_pi.svg.png)"
      ]
    },
    {
      "cell_type": "markdown",
      "metadata": {
        "id": "U71W4bwfvBT_"
      },
      "source": [
        "The sequence given by the perimeters of regular n-sided polygons that circumscribe the unit circle has a limit equal to the perimeter of the circle, i.e. \n",
        "2\n",
        "π\n",
        "r. The corresponding sequence for inscribed polygons has the same limit."
      ]
    },
    {
      "cell_type": "markdown",
      "metadata": {
        "id": "uf9QAjQxvSMZ"
      },
      "source": [
        "* In mathematics, the limit of a sequence is the value that the terms of a sequence \"tend to\", and is often denoted using the lim symbol (e.g., $\\left.\\lim _{n \\rightarrow \\infty} a_{n}\\right)$. \n",
        "\n",
        "* If such a limit exists, the sequence is called convergent. A sequence that does not converge is said to be divergent. The limit of a sequence is said to be the fundamental notion on which the whole of [mathematical analysis](https://en.m.wikipedia.org/wiki/Mathematical_analysis) ultimately rests.\n",
        "\n",
        "* Limits can be defined in any metric or topological space, but are usually first encountered in the real numbers.\n",
        "\n",
        "* **Limits of sequences behave well with respect to the usual [arithmetic operations](https://en.m.wikipedia.org/wiki/Arithmetic#Arithmetic_operations).**\n",
        "\n",
        "* **If a sequence is bounded and monotonic, then it is convergent.**\n",
        "\n",
        "* **Der Grenzwert einer Folge ist nicht nur für Zahlenfolgen definiert**, sondern ganz genau so für Folgen, deren Glieder einem metrischen Raum angehören, d. h. dass zwischen ihnen ein reellwertiger Abstand definiert ist. In einer weiteren Verallgemeinerung genügt auch ein topologischer Raum; dort lässt sich auch ohne Metrik der Begriff Umgebung definieren, der hier gebraucht wird. Siehe dazu die Abschnitte Grenzwert einer Folge von Elementen eines metrischen Raumes und eines topologischen Raumes."
      ]
    },
    {
      "cell_type": "markdown",
      "metadata": {
        "id": "xwV5ocLV85FJ"
      },
      "source": [
        "[Limit_of_a_sequence](https://en.m.wikipedia.org/wiki/Limit_of_a_sequence) bzw. [Grenzwert einer Folge](https://de.wikipedia.org/wiki/Grenzwert_(Folge))"
      ]
    },
    {
      "cell_type": "markdown",
      "metadata": {
        "id": "5GPhQeqQO0TJ"
      },
      "source": [
        "https://en.m.wikipedia.org/wiki/Monotone_convergence_theorem"
      ]
    },
    {
      "cell_type": "markdown",
      "metadata": {
        "id": "8nWZjSX_vIA9"
      },
      "source": [
        "**[Cauchy-Folge](https://de.wikipedia.org/wiki/Cauchy-Folge)** \n",
        "\n",
        "* bzw. Fundamentalfolge ist eine Folge, bei der der Abstand der Folgenglieder im Verlauf der Folge beliebig klein wird.\n",
        "\n",
        "* wichtig in Banach-Raumen: Ein Banachraum ist ein vollständiger normierter Raum $\n",
        "(X,\\|\\cdot\\|)$ das heißt ein Vektorraum $X$ über dem Körper $\\mathbb{K}$ der reellen oder komplexen Zahlen mit einer Norm $\\|\\cdot\\|,$ **in dem jede Cauchy-Folge** aus Elementen von $X$ in der von der Norm induzierten Metrik $d(x, y)=\\|x-y\\|$ konvergiert. (Ein normierter Raum ist genau dann ein Banachraum, wenn in ihm jede absolut konvergente Reihe konvergiert.)"
      ]
    },
    {
      "cell_type": "markdown",
      "metadata": {
        "id": "9zeKm32B9J-r"
      },
      "source": [
        "#### **Continuity**"
      ]
    },
    {
      "cell_type": "markdown",
      "metadata": {
        "id": "5ONGWYjK-qv4"
      },
      "source": [
        "**Stetigkeit (allgemein)**"
      ]
    },
    {
      "cell_type": "markdown",
      "metadata": {
        "id": "Etw-ro6fjQvA"
      },
      "source": [
        "* A continuous function is a function that does not have any abrupt changes in value, known as discontinuities. \n",
        "\n",
        "* More precisely, sufficiently small changes in the input of a continuous function result in arbitrarily small changes in its output."
      ]
    },
    {
      "cell_type": "markdown",
      "metadata": {
        "id": "KBOrGjnQ9P-J"
      },
      "source": [
        "https://en.m.wikipedia.org/wiki/Continuous_function"
      ]
    },
    {
      "cell_type": "markdown",
      "metadata": {
        "id": "YqHOySqM-sLL"
      },
      "source": [
        "* eine stetige Abbildung oder stetige Funktion eine Funktion, bei der hinreichend **kleine Änderungen des Arguments nur beliebig kleine Änderungen des Funktionswerts nach sich ziehen**. Formalisieren kann man diese Eigenschaft mit der Vertauschbarkeit der Funktion mit Grenzwerten oder mit dem \n",
        "$\\varepsilon$-$\\delta$-Kriterium. (Zeichen:\n",
        "ε und δ)\n",
        "\n",
        "* Viele in der Praxis der reellen Analysis verwendete Funktionen sind stetig, insbesondere ist das für alle **differenzierbaren Funktionen** der Fall.\n",
        "\n",
        "* Für stetige Funktionen können eine Reihe nützlicher Eigenschaften bewiesen werden. Exemplarisch seien der [Zwischenwertsatz](https://de.m.wikipedia.org/wiki/Zwischenwertsatz), der [Satz vom Minimum und Maximum](https://de.m.wikipedia.org/wiki/Satz_vom_Minimum_und_Maximum) und der [Fundamentalsatz der Analysis](https://de.m.wikipedia.org/wiki/Fundamentalsatz_der_Analysis) genannt.\n",
        "\n",
        "* Allgemeiner ist das Konzept der Stetigkeit von Abbildungen in der Mathematik vor allem in den Teilgebieten der Analysis und der Topologie von zentraler Bedeutung. **Es ist möglich, Stetigkeit durch eine Bedingung zu charakterisieren, die nur Begriffe der Topologie benutzt**. Somit kann der Begriff der Stetigkeit auch auf Funktionen zwischen topologischen Räumen ausgedehnt werden. Diese allgemeine Sichtweise erweist sich aus mathematischer Sicht als der „natürlichste“ Zugang zum Stetigkeitsbegriff: **Stetige Funktionen sind diejenigen Funktionen zwischen topologischen Räumen, die mit deren Strukturen „verträglich“ sind**. Stetige Funktionen spielen also in Topologie und Analysis eine ähnliche Rolle wie Homomorphismen in der Algebra.\n",
        "\n",
        "\n"
      ]
    },
    {
      "cell_type": "markdown",
      "metadata": {
        "id": "Xqj4cjp1-ugm"
      },
      "source": [
        "https://de.m.wikipedia.org/wiki/Stetige_Funktion"
      ]
    },
    {
      "cell_type": "markdown",
      "metadata": {
        "id": "lPkWBrGP-wcB"
      },
      "source": [
        "**Morphismen: Stetige Abbildungen**"
      ]
    },
    {
      "cell_type": "markdown",
      "metadata": {
        "id": "VzhPzxZf-y6-"
      },
      "source": [
        "* Wie bei jeder mathematischen Struktur gibt es auch bei den topologischen Räumen\n",
        "strukturerhaltende Abbildungen (Morphismen). Hier sind es die stetigen Abbildungen: Eine Abbildung $f:(X, S) \\rightarrow(Y, T)$ ist (global) stetig, wenn das Urbild jeder offenen Teilmenge $O$ von $Y$ eine offene Menge in $X$ ist, formal: $O \\in T \\Longrightarrow f^{-1}(O) \\in S$.\n",
        "\n",
        "* Die Isomorphismen heißen hier Homöomorphismen, dies sind bijektive stetige Abbildungen, deren Umkehrung ebenfalls stetig ist. Strukturell gleichartige (isomorphe) topologische Räume nennt man homöomorph."
      ]
    },
    {
      "cell_type": "markdown",
      "metadata": {
        "id": "jnf6EJrp8kCL"
      },
      "source": [
        "#### **Connectedness**"
      ]
    },
    {
      "cell_type": "markdown",
      "metadata": {
        "id": "pwl_xdMOMlQb"
      },
      "source": [
        "* In topology and related branches of mathematics, **a connected space is a topological space that cannot be represented as the union of two or more disjoint non-empty open subsets**. \n",
        "\n",
        "* Connectedness is one of the principal topological properties that are used to distinguish topological spaces.\n",
        "\n",
        "* **A subset of a topological space X is a connected set if it is a connected space when viewed as a subspace of X.**\n",
        "\n",
        "* A topological space X is said to be disconnected if it is the union of two disjoint non-empty open sets. Otherwise, X is said to be connected. \n",
        "\n",
        "* A subset of a topological space is said to be connected if it is connected under its subspace topology. Some authors exclude the empty set (with its unique topology) as a connected space, but this article does not follow that practice."
      ]
    },
    {
      "cell_type": "markdown",
      "metadata": {
        "id": "sIADllodyMbf"
      },
      "source": [
        "**Connected and disconnected subspaces of R²**"
      ]
    },
    {
      "cell_type": "markdown",
      "metadata": {
        "id": "MkJfHSbtx5wY"
      },
      "source": [
        "![xx](https://upload.wikimedia.org/wikipedia/commons/thumb/1/16/Simply_connected%2C_connected%2C_and_non-connected_spaces.svg/192px-Simply_connected%2C_connected%2C_and_non-connected_spaces.svg.png)"
      ]
    },
    {
      "cell_type": "markdown",
      "metadata": {
        "id": "roboDYeix90I"
      },
      "source": [
        "* **Connected**: red space A, pink space B, yellow space C and orange space D\n",
        "* **Disconnected**: green space E (made of subsets E1, E2, E3, and E4) \n",
        "* **Simply connected**: A and B (genus 0), \n",
        "* **Not simply connected**: C and D: C has genus 1 and D has genus 4.\n",
        "\n",
        "Genus (Geschlecht): Anzahl der Löcher in einer Fläche (https://de.m.wikipedia.org/wiki/Geschlecht_(Fläche))"
      ]
    },
    {
      "cell_type": "markdown",
      "metadata": {
        "id": "XeEEjEU58mZk"
      },
      "source": [
        "https://en.m.wikipedia.org/wiki/Connected_space"
      ]
    },
    {
      "cell_type": "markdown",
      "metadata": {
        "id": "KVfJxtw_faJK"
      },
      "source": [
        "#### **Compactness**"
      ]
    },
    {
      "cell_type": "markdown",
      "metadata": {
        "id": "bkZcyD7ispT2"
      },
      "source": [
        "**// Open & Closed Sets (Abgeschlossen)**"
      ]
    },
    {
      "cell_type": "markdown",
      "metadata": {
        "id": "r7nlcTMs9m3u"
      },
      "source": [
        "* In mathematics, particularly in topology, an open set is an abstract concept generalizing the idea of an open interval in the real line.\n",
        "\n",
        "* **An open interval does not include its endpoints, and is indicated with parentheses**. For example, (0,1) means greater than 0 and less than 1. This means (0,1) = {x | 0 < x < 1}. (*\"(0,1) is the set of all numbers x, such that x is an integer in the range greater than 0 to 1 exclusive\"*)\n",
        "\n",
        "* A closed interval is an interval which includes all its limit points, and is denoted with square brackets. For example, [0,1] means greater than or equal to 0 and less than or equal to 1. \n",
        "\n",
        "* A half-open interval includes only one of its endpoints, and is denoted by mixing the notations for open and closed intervals. (0,1] means greater than 0 and less than or equal to 1, while [0,1) means greater than or equal to 0 and less than 1.\n",
        "\n",
        "* Once a choice of open sets is made, the properties of continuity, connectedness, and compactness, which use notions of nearness, can be defined using these open sets."
      ]
    },
    {
      "cell_type": "markdown",
      "metadata": {
        "id": "veKZRhxK9ixo"
      },
      "source": [
        "https://en.m.wikipedia.org/wiki/Open_set"
      ]
    },
    {
      "cell_type": "markdown",
      "metadata": {
        "id": "Z1P-S-WicOoa"
      },
      "source": [
        "https://en.m.wikipedia.org/wiki/Interval_(mathematics)#Terminology"
      ]
    },
    {
      "cell_type": "markdown",
      "metadata": {
        "id": "0MY8GfGbFHno"
      },
      "source": [
        "**Abgeschlossene Menge / Intervall**"
      ]
    },
    {
      "cell_type": "markdown",
      "metadata": {
        "id": "Aah6Ybt3BFAo"
      },
      "source": [
        "* **A closed set is a set whose complement is an open set.**\n",
        "\n",
        "* In a topological space, a closed set can be defined as a set which contains all its limit points. In a complete metric space, a closed set is a set which is closed under the limit operation.\n",
        "\n",
        "* In a topological space, a set is closed if and only if it coincides with its closure. Equivalently, **a set is closed if and only if it contains all of its limit points**. Yet another equivalent definition is that a set is closed if and only **if it contains all of its boundary points**."
      ]
    },
    {
      "cell_type": "markdown",
      "metadata": {
        "id": "yCZfDmljAwZH"
      },
      "source": [
        "https://en.m.wikipedia.org/wiki/Closed_set"
      ]
    },
    {
      "cell_type": "markdown",
      "metadata": {
        "id": "RV0s9Fa7FNdj"
      },
      "source": [
        "Ein einfaches Beispiel ist das Intervall [0,1] in den reellen Zahlen (mit der Standardtopologie, erzeugt durch die Metrik $d_{x y}=|x-y|$. \n",
        "\n",
        "* Das Komplement von [0,1] ist die Vereinigung $(-\\infty, 0) \\cup(1, \\infty)$ zweier offener Intervalle, also eine offene Menge, also ist [0,1] eine abgeschlossene Menge. \n",
        "\n",
        "* Deshalb nennt man das Intervall [0,1] ein abgeschlossenes Intervall. \n",
        "\n",
        "* **Dagegen ist das Intervall (0,1] nicht abgeschlossen, denn das Komplement $(-\\infty, 0] \\cup(1, \\infty)$ ist\n",
        "nicht offen.**"
      ]
    },
    {
      "cell_type": "markdown",
      "metadata": {
        "id": "uqLz8vEXFUMM"
      },
      "source": [
        "https://de.m.wikipedia.org/wiki/Abgeschlossene_Menge"
      ]
    },
    {
      "cell_type": "markdown",
      "metadata": {
        "id": "y29Lv8RzDsKQ"
      },
      "source": [
        "**Abgeschlossenes Intervall**\n",
        "\n",
        ">$[a, b]:=\\{x \\in \\mathbb{R} \\mid a \\leq x \\leq b\\}$\n",
        "\n",
        "Das Intervall enthält sowohl $a$ als auch $b$.\n",
        "\n",
        "**Ein Intervall ist genau dann kompakt, wenn es abgeschlossen und beschränkt ist.**\n",
        "\n",
        "<br>\n",
        "\n",
        "**Offenes Intervall**\n",
        "\n",
        ">$(a, b)=] a, b[:=\\{x \\in \\mathbb{R} \\mid a<x<b\\}$\n",
        "\n",
        "Das Intervall enthält weder $a$ noch $b$. Die Notation $(a, b)$ ist die traditionell verwendete, während ] $a, b\\left[\\text { auf Bourbaki zurückgeht. }^{[3]}\\right.$\n",
        "Halboffenes (genauer rechtsoffenes) Intervall\n",
        "\n",
        ">$[a, b)=[a, b[:=\\{x \\in \\mathbb{R} \\mid a \\leq x<b\\}$\n",
        "\n",
        "Das Intervall enthält $a$, aber nicht $b$.\n",
        "Halboffenes (genauer linksoffenes) Intervall\n",
        "\n",
        "> $(a, b]=\\mid a, b]:=\\{x \\in \\mathbb{R} \\mid a<x \\leq b\\}$\n",
        "\n",
        "Das Intervall enthält nicht $a,$ wohl aber $b$\n",
        "Im Fall von $a=0$ und $b=1$ heißt $(a, b)$ das offene Einheitsintervall und $[a, b]$ das abgeschlossene Einheitsintervall."
      ]
    },
    {
      "cell_type": "markdown",
      "metadata": {
        "id": "IRb13Big9a34"
      },
      "source": [
        "**// Bounded & Unbounded Set (Beschränkt)**"
      ]
    },
    {
      "cell_type": "markdown",
      "metadata": {
        "id": "2GSt0Y7hCytg"
      },
      "source": [
        "* **Bounded Set = Beschränkte Menge**\n",
        "\n",
        "Sei a < b. \n",
        "* Ein beschränktes Intervall mit der unteren Grenze a und der oberen Grenze b ist abgeschlossen, wenn es beide Grenzen enthält, und offen, wenn beide Grenzen nicht enthalten sind. \n",
        "* Ein beschränktes Intervall heißt halboffen, wenn es genau eine der beiden Intervallgrenzen enthält."
      ]
    },
    {
      "cell_type": "markdown",
      "metadata": {
        "id": "7TFsQujX_SVR"
      },
      "source": [
        "* A set is called bounded if it is, in a certain sense, of finite size. Conversely, a set which is not bounded is called unbounded. \n",
        "\n",
        "* The word 'bounded' makes no sense in a general topological space without a corresponding metric."
      ]
    },
    {
      "cell_type": "markdown",
      "metadata": {
        "id": "PB-Yp0cW_KEa"
      },
      "source": [
        "https://en.m.wikipedia.org/wiki/Bounded_set"
      ]
    },
    {
      "cell_type": "markdown",
      "metadata": {
        "id": "Au_7lJVfD9TW"
      },
      "source": [
        "**Unbeschränktes Intervall**"
      ]
    },
    {
      "cell_type": "markdown",
      "metadata": {
        "id": "PhkazI_KEAOB"
      },
      "source": [
        "* Wenn auf einer Seite die Intervallgrenze fehlt, es dort also keine Schranke geben soll, spricht man von einem (auf dieser Seite) unbeschränkten Intervall. \n",
        "\n",
        "* Meist werden hierfür die bekannten Symbole −∞ und ∞ als „Ersatz“-Intervallgrenzen verwendet, die selbst nie zum Intervall gehören (deshalb die Schreibung mit runder Klammer). In mancher Literatur werden beschränkte Intervalle auch als eigentlich, unbeschränkte als uneigentlich bezeichnet."
      ]
    },
    {
      "cell_type": "markdown",
      "metadata": {
        "id": "Dj_I9xztugys"
      },
      "source": [
        "**Infimum und Supremum**"
      ]
    },
    {
      "cell_type": "markdown",
      "metadata": {
        "id": "0Axl62MJubON"
      },
      "source": [
        "Die Begriffe obere und untere Schranke werden im Artikel Supremum ausführlich beschrieben."
      ]
    },
    {
      "cell_type": "markdown",
      "metadata": {
        "id": "otWtwaTGufLC"
      },
      "source": [
        "https://de.m.wikipedia.org/wiki/Infimum_und_Supremum"
      ]
    },
    {
      "cell_type": "markdown",
      "metadata": {
        "id": "QNeiHqg7xI1l"
      },
      "source": [
        "**// = Compactness (Closed & Bounded / Abgeschlossen & Beschränkt)**"
      ]
    },
    {
      "cell_type": "markdown",
      "metadata": {
        "id": "R7FCyYP7ARwP"
      },
      "source": [
        "![alternativer Text](https://upload.wikimedia.org/wikipedia/commons/thumb/7/7c/Compact.svg/512px-Compact.svg.png)"
      ]
    },
    {
      "cell_type": "markdown",
      "metadata": {
        "id": "WuKJS_xH8UhE"
      },
      "source": [
        "Per the compactness criteria for Euclidean space (endlich dimensional!) as stated in the Heine-Borel Theorem:\n",
        "\n",
        "* the interval A = (−∞, −2] is not compact because it is not bounded (but it's closed right side). \n",
        "\n",
        "* The interval C = (2, 4) is not compact because it is not closed (but it's bounded). \n",
        "\n",
        "* The interval B = [0, 1] is compact because it is both closed and bounded."
      ]
    },
    {
      "cell_type": "markdown",
      "metadata": {
        "id": "JC4--mmzfgd7"
      },
      "source": [
        "Compactness is a property that generalizes the notion of a subset of Euclidean space **being closed** (i.e., containing all its limit points) and **bounded** (i.e., having all its points lie within some fixed distance of each other).\n",
        "\n",
        "* Examples include a closed interval, a rectangle, or a finite set of points. This notion is defined for more general topological spaces than Euclidean space in various ways.\n",
        "\n",
        "* importance of including the boundary points of the interval, since the limit points must be in the space itself — an open (or half-open) interval of the real numbers is not compact. \n",
        "\n",
        "* It is also crucial that the interval be bounded, since in the interval [0,∞), one could choose the sequence of points 0, 1, 2, 3, ..., of which no sub-sequence ultimately gets arbitrarily close to any given real number."
      ]
    },
    {
      "cell_type": "markdown",
      "metadata": {
        "id": "QiFHTX3Riln9"
      },
      "source": [
        "Nur in endlich dimensionale Räume?"
      ]
    },
    {
      "cell_type": "markdown",
      "metadata": {
        "id": "HBeD_rrUfvQR"
      },
      "source": [
        "https://en.m.wikipedia.org/wiki/Compact_space"
      ]
    },
    {
      "cell_type": "markdown",
      "metadata": {
        "id": "CgHoYv4w0CKY"
      },
      "source": [
        "**Links**"
      ]
    },
    {
      "cell_type": "markdown",
      "metadata": {
        "id": "Fec5gqyE0CKY"
      },
      "source": [
        "https://m0nads.wordpress.com/tag/persistent-homology/"
      ]
    },
    {
      "cell_type": "markdown",
      "metadata": {
        "id": "mkRM7hQR0CKY"
      },
      "source": [
        "https://bastian.rieck.me/blog/posts/2020/icml_topology_roundup/"
      ]
    },
    {
      "cell_type": "markdown",
      "metadata": {
        "id": "aNf7YByC0CKY"
      },
      "source": [
        "https://en.wikipedia.org/wiki/Group_homomorphism"
      ]
    },
    {
      "cell_type": "markdown",
      "metadata": {
        "id": "IhBDxvic0CKY"
      },
      "source": [
        "https://en.wikipedia.org/wiki/Kernel_(algebra)"
      ]
    },
    {
      "cell_type": "markdown",
      "metadata": {
        "id": "x9Q45Q6-0CKY"
      },
      "source": [
        "https://en.wikipedia.org/wiki/Kernel_(linear_algebra)"
      ]
    },
    {
      "cell_type": "markdown",
      "metadata": {
        "id": "fPSvD2jP0CKY"
      },
      "source": [
        "https://en.wikipedia.org/wiki/Kernel_(category_theory)"
      ]
    },
    {
      "cell_type": "markdown",
      "metadata": {
        "id": "mXOXOKtk0CKY"
      },
      "source": [
        "https://en.wikipedia.org/wiki/Homological_algebra"
      ]
    },
    {
      "cell_type": "markdown",
      "metadata": {
        "id": "t0X0TPC_0CKY"
      },
      "source": [
        "https://en.wikipedia.org/wiki/Induced_homomorphism"
      ]
    },
    {
      "cell_type": "markdown",
      "metadata": {
        "id": "tiQM1_Ub0CKY"
      },
      "source": [
        "https://en.wikipedia.org/wiki/Pushforward_(homology)"
      ]
    },
    {
      "cell_type": "markdown",
      "metadata": {
        "id": "G609y3gD0CKY"
      },
      "source": [
        "http://slideplayer.com/slide/17272227/"
      ]
    }
  ]
}