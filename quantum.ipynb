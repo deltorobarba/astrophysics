{
  "nbformat": 4,
  "nbformat_minor": 0,
  "metadata": {
    "colab": {
      "provenance": [],
      "collapsed_sections": [
        "CPH5gAEE0-Fo",
        "wYD2JfWPBVu2",
        "S315mwWk2BN0",
        "SubmHxtmBGL4",
        "-GMWbh-0abs-",
        "iptu2LVks6If",
        "Dc4_NJOgMN95",
        "JOaZtVt6Lvmp",
        "jBh1Tr-vn_4f",
        "cqdowsM5oHEP",
        "1fAAZcgWoiJB",
        "cyrUknMLo8bl",
        "M0kD-s4t82ez",
        "9GXuS8c94Iay",
        "gXZXzSSsrrUL",
        "RscthBMzOLUM",
        "7sf5tauFtttx",
        "jdJ5yNTZibYy",
        "AZ-w7Fv4O91T",
        "fuo8a8CROAN5",
        "DR19SnhS8Poy",
        "kFsEBZ9lRojQ",
        "NK9YupxAozfU",
        "FVj3KAarTD-3",
        "JKPZ3BgSWGpA",
        "D_tjP2YmUlaa",
        "_ywvnMs4ZFF1",
        "XFxhMEfyzVCn",
        "sn4LwsmviwZx",
        "MZO0odc6qWrf",
        "vxftXa35oKkB",
        "rs29mGrUqi_-",
        "ocVJfp-tqdyb",
        "3aoRKTTAkZx5",
        "F_3QftqpEmsd",
        "Etz7GFSqKGw7",
        "uwad0OnHJwo_",
        "KEpc9rMfxC7l",
        "xxW3BUetjgJc",
        "jZsI8tEJE71Z",
        "rKgoHa655aMo",
        "tyVjijNZ6z6d",
        "CtZBdM2s9PDV",
        "wjgKrqlN0xl_",
        "XZjV1v3A9UtY",
        "cmZCm3nZ-u8S",
        "VSeiR7bE-02t",
        "tJ1OtOUIG3h9",
        "lcs4JpYP6mS_",
        "yChG8voKEFhh",
        "HGsztEvz3BlY",
        "nXwjEGszU0va",
        "d77LDd8UVTQV",
        "834Tcd0HK8bL",
        "hcM48NkednfR",
        "SDccc3jSdvty",
        "2oBK3eCLeYOU",
        "G49WY_hUe1MI",
        "fti3RLaPfAv6"
      ],
      "include_colab_link": true
    },
    "kernelspec": {
      "name": "python3",
      "display_name": "Python 3"
    },
    "language_info": {
      "name": "python"
    }
  },
  "cells": [
    {
      "cell_type": "markdown",
      "metadata": {
        "id": "view-in-github",
        "colab_type": "text"
      },
      "source": [
        "<a href=\"https://colab.research.google.com/github/deltorobarba/sciences/blob/master/quantum.ipynb\" target=\"_parent\"><img src=\"https://colab.research.google.com/assets/colab-badge.svg\" alt=\"Open In Colab\"/></a>"
      ]
    },
    {
      "cell_type": "markdown",
      "source": [
        "# <font color=\"blue\">**Quantum**"
      ],
      "metadata": {
        "id": "xEVSiuftty-3"
      }
    },
    {
      "cell_type": "markdown",
      "source": [
        "![sciences](https://raw.githubusercontent.com/deltorobarba/repo/master/sciences_0000.png)\n"
      ],
      "metadata": {
        "id": "YiqcrmGetjeG"
      }
    },
    {
      "cell_type": "markdown",
      "source": [
        "##### <font color=\"blue\">*Quantum Mechanics*"
      ],
      "metadata": {
        "id": "CPH5gAEE0-Fo"
      }
    },
    {
      "cell_type": "markdown",
      "source": [
        "Video Course: [PHY361 Quantum Mechanics:\n",
        "Spin And Discrete Systems](https://youtube.com/playlist?list=PLIKpuUo6d5pLdaGlx355xdH_RCZXRuWLK&si=2U2Uixe14tr1hIMm)"
      ],
      "metadata": {
        "id": "XYdI7iAlVnm3"
      }
    },
    {
      "cell_type": "markdown",
      "source": [
        "###### ***Entanglement***"
      ],
      "metadata": {
        "id": "wYD2JfWPBVu2"
      }
    },
    {
      "cell_type": "markdown",
      "source": [
        "https://esut.de/2025/01/meldungen/56362/hensoldt-und-das-dlr-arbeiten-an-quantencomputing-forschungsprojekt-zur-optimierung-der-radarfernerkundung/\n",
        "\n",
        "Phasephase polarization https://chatgpt.com/share/6787934c-b680-8013-a2e6-e3f62493697a"
      ],
      "metadata": {
        "id": "zrz6GmdlArnX"
      }
    },
    {
      "cell_type": "markdown",
      "source": [
        "**Pairwise Bell-state entangling** is a technique used in quantum computing to establish quantum entanglement between pairs of qubits in a system. A Bell state is a specific type of maximally entangled quantum state involving two qubits. These states are foundational to quantum mechanics and have many applications in quantum communication, quantum cryptography, and quantum algorithms.\n",
        "\n",
        "The Four Bell States\n",
        "\n",
        "The four Bell states, often represented in the computational basis $|0\\rangle$ and $|1\\rangle$, are:\n",
        "1. $|\\Phi^+\\rangle = \\frac{1}{\\sqrt{2}} (|00\\rangle + |11\\rangle)$\n",
        "2. $|\\Phi^-\\rangle = \\frac{1}{\\sqrt{2}} (|00\\rangle - |11\\rangle)$\n",
        "3. $|\\Psi^+\\rangle = \\frac{1}{\\sqrt{2}} (|01\\rangle + |10\\rangle)$\n",
        "4. $|\\Psi^-\\rangle = \\frac{1}{\\sqrt{2}} (|01\\rangle - |10\\rangle)$\n",
        "\n",
        "\n",
        "How Pairwise Bell-State Entangling Works\n",
        "\n",
        "To create a pairwise Bell state between two qubits:\n",
        "1. **Initialize the qubits:** Both qubits are typically initialized to the \\(|0\\rangle\\) state.\n",
        "2. **Apply a Hadamard gate:** Apply a Hadamard gate to the first qubit, creating a superposition:\n",
        "   $\n",
        "   H|0\\rangle = \\frac{1}{\\sqrt{2}}(|0\\rangle + |1\\rangle)\n",
        "   $\n",
        "3. **Apply a Controlled-NOT (CNOT) gate:** Use the first qubit as the control and the second qubit as the target. This entangles the qubits, resulting in a Bell state.\n",
        "\n",
        "\n",
        "Example: Generating the $|\\Phi^+\\rangle$ State\n",
        "- Start with $|00\\rangle$.\n",
        "- Apply a Hadamard gate to the first qubit:\n",
        "  $\n",
        "  \\frac{1}{\\sqrt{2}}(|0\\rangle + |1\\rangle) \\otimes |0\\rangle = \\frac{1}{\\sqrt{2}}(|00\\rangle + |10\\rangle).\n",
        "  $\n",
        "- Apply a CNOT gate (with the first qubit as control and the second as target):\n",
        "  $\n",
        "  \\frac{1}{\\sqrt{2}}(|00\\rangle + |11\\rangle).\n",
        "  $\n",
        "\n",
        "This is the $|\\Phi^+\\rangle$ Bell state.\n",
        "\n",
        "Applications of Pairwise Bell-State Entangling\n",
        "1. **Quantum Error Correction:** Bell pairs are used to detect and correct errors in quantum states.\n",
        "2. **Quantum Cryptography:** Protocols like Quantum Key Distribution (e.g., BB84 and E91) rely on Bell states for secure communication.\n",
        "3. **Quantum Networks:** Entanglement swapping, a process central to quantum repeaters, uses Bell states to link distant nodes in a quantum network.\n",
        "4. **Quantum Machine Learning:** Pairwise entanglement reduces the dimensionality of quantum systems while preserving correlations, making it useful for tasks like image generation and feature mapping.\n",
        "\n",
        "In the context of **Quantum Diffusion Models**, pairwise Bell-state entangling is used to establish quantum correlations between qubits, enabling efficient representation of high-dimensional structures. It reduces space complexity and ensures the quantum state captures meaningful dependencies, which is essential for tasks like image or data generation."
      ],
      "metadata": {
        "id": "HPZUPre6BYGa"
      }
    },
    {
      "cell_type": "markdown",
      "source": [
        "Why is Only the First Qubit Put in a Hadamard Superposition?\n",
        "\n",
        "In **Pairwise Bell-State Entangling**, only the first qubit is put into a Hadamard superposition because this creates the necessary entanglement when followed by a **Controlled-NOT (CNOT) gate**. Here's the reasoning:\n",
        "\n",
        "1. **Creating Superposition with Hadamard**:\n",
        "   - The Hadamard gate applied to the first qubit creates a superposition:\n",
        "     \\[\n",
        "     H|0\\rangle = \\frac{1}{\\sqrt{2}}(|0\\rangle + |1\\rangle).\n",
        "     \\]\n",
        "   - At this stage, the first qubit exists in a superposition of its basis states.\n",
        "\n",
        "2. **Entanglement via CNOT**:\n",
        "   - The **CNOT gate** uses the first qubit (control) to modify the state of the second qubit (target). If the first qubit is in a superposition, the CNOT gate spreads this superposition to the second qubit:\n",
        "     \\[\n",
        "     \\text{Input: } \\frac{1}{\\sqrt{2}}(|0\\rangle + |1\\rangle) \\otimes |0\\rangle.\n",
        "     \\]\n",
        "     \\[\n",
        "     \\text{Output: } \\frac{1}{\\sqrt{2}}(|00\\rangle + |11\\rangle).\n",
        "     \\]\n",
        "   - This state is now entangled. The key is that the superposition created by the Hadamard gate on the first qubit propagates through the CNOT to the second qubit, generating the Bell state.\n",
        "\n",
        "3. **Simplicity and Efficiency**:\n",
        "   - Applying a Hadamard to the second qubit as well would be unnecessary because the desired entangled state can be achieved without it.\n",
        "   - Only one qubit needs to start in a superposition to create the entanglement when the CNOT gate is applied.\n"
      ],
      "metadata": {
        "id": "fqMs21CRBtIy"
      }
    },
    {
      "cell_type": "markdown",
      "source": [
        "**Can There Be Pairwise Bell-State Entanglements Between More Than Two Qubits?**\n",
        "\n",
        "https://en.m.wikipedia.org/wiki/W_state\n",
        "\n",
        "https://en.m.wikipedia.org/wiki/Multipartite_entanglement\n",
        "\n",
        "https://en.m.wikipedia.org/wiki/Greenberger%E2%80%93Horne%E2%80%93Zeilinger_state: The N-qubit Greenberger-Horne-Zeilinger (GHZ) states are the maximally entangled states of N qubits, which have had many important applications in quantum information processing, such as quantum key distribution and quantum secret sharing, https://arxiv.org/abs/2106.01550\n",
        "\n",
        "The term **Pairwise Bell-State Entangling** typically refers to two-qubit entanglement, but the concept of **entanglement** can be extended to systems of more than two qubits. However, there are some differences to consider:\n",
        "\n",
        "1. **Extending Bell-State-Like Entanglement**:\n",
        "   - Bell states are inherently two-qubit states, and creating entanglement between more than two qubits involves **multipartite entangled states**, such as:\n",
        "     - **GHZ States** (Greenberger-Horne-Zeilinger states):\n",
        "       \\[\n",
        "       |\\text{GHZ}\\rangle = \\frac{1}{\\sqrt{2}}(|000\\rangle + |111\\rangle).\n",
        "       \\]\n",
        "     - **W States**:\n",
        "       \\[\n",
        "       |\\text{W}\\rangle = \\frac{1}{\\sqrt{3}}(|001\\rangle + |010\\rangle + |100\\rangle).\n",
        "       \\]\n",
        "\n",
        "2. **Pairwise Entanglement Between Multiple Qubits**:\n",
        "   - Pairwise entanglement between different pairs of qubits in a larger system is possible. For example, in a four-qubit system, you could entangle:\n",
        "     - Qubits 1 and 2 into a Bell state.\n",
        "     - Qubits 3 and 4 into another Bell state.\n",
        "   - This creates **independent pairs** of Bell-state entanglements.\n",
        "\n",
        "3. **Challenges of Full Multipartite Entanglement**:\n",
        "   - Extending pairwise entanglement to encompass all qubits in a fully entangled state introduces complexity.\n",
        "   - The resulting entanglement structure (like GHZ or W states) requires additional gates and careful control of phase relationships between the qubits."
      ],
      "metadata": {
        "id": "1qxGoGBiBvWs"
      }
    },
    {
      "cell_type": "markdown",
      "source": [
        "###### ***Expectation Value $\\langle Q \\rangle_\\psi$ = $\\langle \\psi | Q | \\psi \\rangle$***"
      ],
      "metadata": {
        "id": "S315mwWk2BN0"
      }
    },
    {
      "cell_type": "code",
      "source": [
        "import pennylane as qml\n",
        "import numpy as np\n",
        "\n",
        "# Define the number of qubits and the quantum device\n",
        "n_qubits = 2\n",
        "dev = qml.device(\"default.qubit\", wires=n_qubits)\n",
        "\n",
        "# Define an observable (this is Q in your equation)\n",
        "obs = qml.Hermitian(np.array([[1, 0], [0, -1]]), wires=0)\n",
        "\n",
        "# Define a quantum state (this is |ψ⟩ in your equation)\n",
        "@qml.qnode(dev)\n",
        "def circuit():\n",
        "    qml.RY(np.pi / 4, wires=0)  # Example state preparation (rotation)\n",
        "    return qml.state()  # Returning the state vector |ψ⟩\n",
        "\n",
        "# Retrieve the quantum state\n",
        "state = circuit()\n",
        "\n",
        "# Calculate the expectation value of the observable\n",
        "@qml.qnode(dev)\n",
        "def expectation_value():\n",
        "    qml.RY(np.pi / 4, wires=0)  # Same state preparation as before\n",
        "    return qml.expval(obs)  # Calculate the expectation value of Q\n",
        "\n",
        "exp_val = expectation_value()\n",
        "\n",
        "# Print the results\n",
        "print(f\"Quantum State: {state}\")\n",
        "print(f\"Expectation Value of the observable: {exp_val}\")"
      ],
      "metadata": {
        "colab": {
          "base_uri": "https://localhost:8080/"
        },
        "id": "HbIoj5ZU1F4T",
        "outputId": "c8665cd2-42af-411d-aade-8d8ddda4dc07"
      },
      "execution_count": null,
      "outputs": [
        {
          "output_type": "stream",
          "name": "stdout",
          "text": [
            "Quantum State: [0.92387953+0.j 0.        +0.j 0.38268343+0.j 0.        +0.j]\n",
            "Expectation Value of the observable: 0.7071067811865475\n"
          ]
        }
      ]
    },
    {
      "cell_type": "markdown",
      "source": [
        "The expectation value of $0.7071067811865475$ corresponds to the observable $Q$ in a specific quantum state.\n",
        "\n",
        "Observable $Q$ (Pauli-Z or Hermitian matrix)\n",
        "In the example, you have an observable defined as:\n",
        "\n",
        "$$\n",
        "Q = \\begin{pmatrix} 1 & 0 \\\\ 0 & -1 \\end{pmatrix}\n",
        "$$\n",
        "\n",
        "This matrix is the Pauli-Z operator, which has eigenvalues $+1$ and $-1$.\n",
        "\n",
        "State $|\\psi\\rangle$\n",
        "The quantum state is prepared using the rotation $RY(\\theta)$ gate:\n",
        "\n",
        "$$\n",
        "|\\psi\\rangle = RY\\left(\\frac{\\pi}{4}\\right) |0\\rangle\n",
        "$$\n",
        "\n",
        "The $RY(\\theta)$ gate rotates the qubit state around the Y-axis of the Bloch sphere. Specifically, when $\\theta = \\frac{\\pi}{4}$, the state $|\\psi\\rangle$ becomes:\n",
        "\n",
        "$$\n",
        "|\\psi\\rangle = \\cos\\left(\\frac{\\pi}{8}\\right) |0\\rangle + \\sin\\left(\\frac{\\pi}{8}\\right) |1\\rangle\n",
        "$$\n",
        "\n",
        "Numerically, this is:\n",
        "\n",
        "$$\n",
        "|\\psi\\rangle = \\cos\\left(22.5^\\circ\\right) |0\\rangle + \\sin\\left(22.5^\\circ\\right) |1\\rangle \\approx 0.9239 |0\\rangle + 0.3827 |1\\rangle\n",
        "$$\n",
        "\n",
        "Expectation Value Calculation\n",
        "\n",
        "The expectation value of an observable $Q$ in a quantum state $|\\psi\\rangle$ is given by:\n",
        "\n",
        "$$\n",
        "\\langle Q \\rangle_\\psi = \\langle \\psi | Q | \\psi \\rangle\n",
        "$$\n",
        "\n",
        "Substitute $|\\psi\\rangle$:\n",
        "\n",
        "$$\n",
        "\\langle Q \\rangle_\\psi = \\left(0.9239^* \\langle 0| + 0.3827^* \\langle 1|\\right) \\begin{pmatrix} 1 & 0 \\\\ 0 & -1 \\end{pmatrix} \\left( 0.9239 |0\\rangle + 0.3827 |1\\rangle \\right)\n",
        "$$\n",
        "\n",
        "Simplifying:\n",
        "\n",
        "$$\n",
        "\\langle Q \\rangle_\\psi = 0.9239^2 \\cdot 1 + 0.3827^2 \\cdot (-1)\n",
        "$$\n",
        "\n",
        "This becomes:\n",
        "\n",
        "$$\n",
        "\\langle Q \\rangle_\\psi = (0.9239)^2 - (0.3827)^2 = 0.8536 - 0.1464 = 0.7071\n",
        "$$\n",
        "\n",
        "The expectation value of the observable $Q$ is $0.7071$ because it depends on the overlap between the eigenstates of the Pauli-Z matrix (the computational basis states $|0\\rangle$ and $|1\\rangle$) and the rotated state $|\\psi\\rangle$. The specific angle $\\pi/4$ for the rotation gate produces a superposition state that results in this non-trivial expectation value."
      ],
      "metadata": {
        "id": "CnwOVi-A3pH8"
      }
    },
    {
      "cell_type": "code",
      "source": [
        "import pennylane as qml\n",
        "import numpy as np\n",
        "from qutip import Bloch\n",
        "\n",
        "# Define the quantum device with one qubit\n",
        "dev = qml.device(\"default.qubit\", wires=1)\n",
        "\n",
        "# Define the quantum circuit\n",
        "@qml.qnode(dev)\n",
        "def circuit():\n",
        "    qml.RY(np.pi / 4, wires=0)  # Apply a rotation gate to prepare a state\n",
        "    return qml.state()\n",
        "\n",
        "# Get the quantum state (|ψ⟩)\n",
        "state = circuit()\n",
        "\n",
        "# Calculate Bloch sphere coordinates\n",
        "def bloch_coords(state):\n",
        "    # Expectation values of Pauli-X, Pauli-Y, Pauli-Z\n",
        "    x = 2 * np.real(state[0] * np.conj(state[1]))\n",
        "    y = 2 * np.imag(state[0] * np.conj(state[1]))\n",
        "    z = np.abs(state[0])**2 - np.abs(state[1])**2\n",
        "    return [x, y, z]\n",
        "\n",
        "# Get the Bloch sphere coordinates from the state\n",
        "coords = bloch_coords(state)\n",
        "\n",
        "# Create a Bloch sphere and add the state vector\n",
        "b = Bloch()\n",
        "b.add_vectors(coords)\n",
        "b.show()"
      ],
      "metadata": {
        "colab": {
          "base_uri": "https://localhost:8080/",
          "height": 536
        },
        "id": "_egFXuNn2gM6",
        "outputId": "dfbc9e07-e0f5-4d28-e63e-45afee5e7312"
      },
      "execution_count": null,
      "outputs": [
        {
          "output_type": "display_data",
          "data": {
            "text/plain": [
              "<Figure size 500x500 with 1 Axes>"
            ],
            "image/png": "[encoded data removed]"
          },
          "metadata": {}
        }
      ]
    },
    {
      "cell_type": "markdown",
      "source": [
        "###### ***Quantum Channel $\\operatorname{tr}(O \\mathcal{E}(|x\\rangle\\langle x|))$***"
      ],
      "metadata": {
        "id": "SubmHxtmBGL4"
      }
    },
    {
      "cell_type": "markdown",
      "source": [
        "**A quantum channel is a mathematical description of quantum operations that can include both unitary evolution and non-unitary effects like noise.** [Quantum channels](https://en.m.wikipedia.org/wiki/Quantum_channel) are described mathematically as completely positive trace-preserving maps (CPTP). This ensures that they preserve the properties of quantum states.\n",
        "\n",
        "**Each of the following quantum channels models different types of noise and decoherence that occur in real quantum systems:**\n",
        "\n",
        "* Amplitude damping represents energy loss\n",
        "* Phase damping represents loss of quantum information\n",
        "* Bit/Phase flips represent discrete errors\n",
        "* Thermal effects represent interaction with finite-temperature environments"
      ],
      "metadata": {
        "id": "MyYr5tV94XDw"
      }
    },
    {
      "cell_type": "markdown",
      "source": [
        "**There's a very strong connection between quantum channels and quantum error correction (QEC). QEC is all about designing strategies to mitigate the negative effects of quantum channels**\n",
        "\n",
        "* **Quantum channels introduce noise:**  Quantum channels are susceptible to noise. This noise can cause errors in the quantum information being transmitted, such as flipping the state of a qubit (bit-flip error) or changing its phase (phase-flip error).\n",
        "* **QEC protects against noise:** Quantum error correction is a set of techniques designed to protect quantum information from the noise introduced by quantum channels. It does this by encoding the quantum information in a redundant way, spreading it across multiple physical qubits. This redundancy allows errors to be detected and corrected without disturbing the encoded quantum information.\n",
        "\n",
        "A concrete example:\n",
        "\n",
        "* [The Shor code:](https://learning.quantum.ibm.com/course/foundations-of-quantum-error-correction/correcting-quantum-errors) is a famous QEC code that can protect against both bit-flip and phase-flip errors. It encodes a single logical qubit into nine physical qubits, allowing it to detect and correct any single-qubit error. This code is designed to counteract the effects of a noisy quantum channel that can cause these types of errors.\n",
        "\n",
        "**QEC is about designing codes that can effectively combat the noise introduced by quantum channels. By understanding the properties of different quantum channels, we can develop tailored QEC codes to protect quantum information and enable reliable quantum computation and communication.**\n"
      ],
      "metadata": {
        "id": "T8Gl4MV8DDJy"
      }
    },
    {
      "cell_type": "markdown",
      "source": [
        "**Super-operators** are a type of operator that acts on other operators, rather than on state vectors. Examples are quantum channels, CPTP map and Kraus operator. Super-operators are important to **describe the dynamics of quantum systems, particularly in the presence of noise or other forms of quantum decoherence**.\n",
        "\n",
        "**Quantum channels** are a type of superoperator that describes the evolution of a quantum state interacting with a noisy or decohering environment. Mathematically, quantum channels are linear maps between operators spaces with the additional properties of being completely positive and trace-preserving maps, the CPTP maps $\\mathcal{E}$. CPTP maps can be represented as a superoperator acting on the density matrix $\\rho$ of a quantum state. Quantum machine learning applications involve the use of quantum channels $\\mathcal{E}$, such as learning the function \\eq{cptp} or its final state, where $x$ is a classical input, such as a chemical in a reaction.\n",
        "\n",
        "$\n",
        "f(x)=\\operatorname{tr}(O \\mathcal{E}(|x\\rangle\\langle x|))\n",
        "$\n",
        "\n",
        "**Kraus operators** provide a concrete way to represent quantum channels and describe \\textit{discrete} time evolutions of quantum systems. Kraus operators are particularly useful for modeling noise in an open quantum system with effects that cannot be described by simple unitary evolution. \\textit{Kraus's theorem} states that a linear map $\\Lambda$ from the Hilbert space $\\mathcal{H}$ to $\\mathcal{G}$, denoted as $\\Lambda: \\mathcal{H} \\rightarrow \\mathcal{G}$ is CPTP if it can be expressed as the Kraus representation of the linear map $\\Lambda$ given by \\eq{kraus} where $\\left\\{K_\\alpha\\right\\}$ are the Kraus operators.\n",
        "\n",
        "$\n",
        "\\Lambda[\\rho]=\\sum_\\alpha K_\\alpha \\rho K_\\alpha^{\\dagger},\n",
        "$\n",
        "\n",
        "**Lindblad operators** are another type of quantum operators used to model the effects of a system's interaction with its environment, leading to dissipation and decoherence in an open quantum system. In contrast to Kraus operators, who are used for discrete cases, Lindblad operators are applied to continuous time evolution. The time evolution of the density matrix (representing the state of a quantum system) under environmental influences is governed by the Lindblad master equation \\eq{lindblad}, where $H$ is the system's Hamiltonian that describes its internal energy, $L_{i}$ are Lindblad operators that represent different environmental interactions, and $\\rho$ is the density matrix of the system. The Lindblad master equation is also CPTP.\n",
        "\n",
        "$\n",
        "{\\dot {\\rho }}=- \\frac{i}{\\hbar} [H,\\rho] + \\sum _{i}^{}\\gamma _{i}\\left(L_{i}\\rho L_{i}^{\\dagger }-{\\frac {1}{2}}\\left\\{L_{i}^{\\dagger }L_{i},\\rho \\right\\}\\right)\n",
        "$\n",
        "\n",
        "The Lindblad master equations can be derived from the evolution described by Kraus operators in a continuous-time limit. Essentially, you break down a continuous evolution into tiny time steps, each described by Kraus operators, and then take the limit as the time steps become infinitesimally small. Furthermore, Lindblad operators offer a way to model specific types of system-environment interactions that are common in open quantum systems (like dephasing, energy relaxation, etc.).\n"
      ],
      "metadata": {
        "id": "1GnibEvwDwVd"
      }
    },
    {
      "cell_type": "code",
      "source": [
        "################################\n",
        "# Depolarizing Channel\n",
        "################################\n",
        "\n",
        "# Create a device with 1 qubit\n",
        "dev = qml.device('default.mixed', wires=1)\n",
        "\n",
        "# Define Quantum Channel\n",
        "@qml.qnode(dev)\n",
        "def depolarizing_circuit(prob):\n",
        "    qml.Hadamard(wires=0)\n",
        "    qml.DepolarizingChannel(prob, wires=0)\n",
        "    return qml.density_matrix(wires=0)\n",
        "\n",
        "# Test Quantum Channel\n",
        "print(\"\\nDepolarizing Channel:\")\n",
        "for p in [0.0, 0.5, 1.0]:\n",
        "    result = depolarizing_circuit(p)\n",
        "    print(f\"\\nProb {p}:\")\n",
        "    print(result)"
      ],
      "metadata": {
        "colab": {
          "base_uri": "https://localhost:8080/"
        },
        "id": "67DGx45h4_1W",
        "outputId": "98103b23-a0c9-469d-91ce-bd52ff0c79a7"
      },
      "execution_count": null,
      "outputs": [
        {
          "output_type": "stream",
          "name": "stdout",
          "text": [
            "\n",
            "Depolarizing Channel:\n",
            "\n",
            "Prob 0.0:\n",
            "[[0.5+0.j 0.5+0.j]\n",
            " [0.5+0.j 0.5+0.j]]\n",
            "\n",
            "Prob 0.5:\n",
            "[[0.5       +0.j 0.16666667+0.j]\n",
            " [0.16666667+0.j 0.5       +0.j]]\n",
            "\n",
            "Prob 1.0:\n",
            "[[ 0.5       +0.j -0.16666667+0.j]\n",
            " [-0.16666667+0.j  0.5       +0.j]]\n"
          ]
        }
      ]
    },
    {
      "cell_type": "markdown",
      "source": [
        "Here's a basic example that implements a depolarizing channel:\n",
        "1. Creates a mixed-state quantum device\n",
        "2. Implements a depolarizing channel that randomly applies Pauli gates with probability `prob`\n",
        "3. Creates a quantum circuit that prepares a |+⟩ state and applies the channel\n",
        "4. Returns the resulting density matrix\n",
        "\n",
        "You can experiment with different probability values to see how the noise affects the quantum state. For a noiseless channel (prob=0), you should get the pure |+⟩ state, while for higher probabilities, the state becomes increasingly mixed. You should see different density matrices for different probabilities:\n",
        "- When prob = 0.0, you'll get the pure |+⟩ state\n",
        "- When prob = 1.0, you'll get the completely mixed state\n",
        "- For probabilities in between, you'll get partially mixed states"
      ],
      "metadata": {
        "id": "PnCGVsGh0-T9"
      }
    },
    {
      "cell_type": "code",
      "source": [
        "################################\n",
        "# Bit Flip Channel\n",
        "################################\n",
        "\n",
        "# Randomly flips the computational basis states (like classical bit errors)\n",
        "\n",
        "# Create a device with 1 qubit\n",
        "dev = qml.device('default.mixed', wires=1)\n",
        "\n",
        "# Define Quantum Channel\n",
        "@qml.qnode(dev)\n",
        "def bit_flip_circuit(prob):\n",
        "    qml.Hadamard(wires=0)\n",
        "    qml.BitFlip(prob, wires=0)\n",
        "    return qml.density_matrix(wires=0)\n",
        "\n",
        "# Test Quantum Channel\n",
        "print(\"\\nBit Flip Channel:\")\n",
        "for p in [0.0, 0.5, 1.0]:\n",
        "    result = bit_flip_circuit(p)\n",
        "    print(f\"\\nProb {p}:\")\n",
        "    print(result)"
      ],
      "metadata": {
        "colab": {
          "base_uri": "https://localhost:8080/"
        },
        "id": "A5fiObVK93vf",
        "outputId": "3f000792-1ca4-48ae-fb7b-37a273d8e4a2"
      },
      "execution_count": null,
      "outputs": [
        {
          "output_type": "stream",
          "name": "stdout",
          "text": [
            "\n",
            "Bit Flip Channel:\n",
            "\n",
            "Prob 0.0:\n",
            "[[0.5+0.j 0.5+0.j]\n",
            " [0.5+0.j 0.5+0.j]]\n",
            "\n",
            "Prob 0.5:\n",
            "[[0.5+0.j 0.5+0.j]\n",
            " [0.5+0.j 0.5+0.j]]\n",
            "\n",
            "Prob 1.0:\n",
            "[[0.5+0.j 0.5+0.j]\n",
            " [0.5+0.j 0.5+0.j]]\n"
          ]
        }
      ]
    },
    {
      "cell_type": "code",
      "source": [
        "################################\n",
        "# Phase Flip Channel\n",
        "################################\n",
        "\n",
        "# Randomly applies phase flips (Z gates)\n",
        "\n",
        "# Create a device with 1 qubit\n",
        "dev = qml.device('default.mixed', wires=1)\n",
        "\n",
        "# Define Quantum Channel\n",
        "@qml.qnode(dev)\n",
        "def phase_flip_circuit(prob):\n",
        "    qml.Hadamard(wires=0)\n",
        "    qml.PhaseFlip(prob, wires=0)\n",
        "    return qml.density_matrix(wires=0)\n",
        "\n",
        "# Test Quantum Channel\n",
        "print(\"\\nPhase Flip Channel:\")\n",
        "for p in [0.0, 0.5, 1.0]:\n",
        "    result = phase_flip_circuit(p)\n",
        "    print(f\"\\nProb {p}:\")\n",
        "    print(result)"
      ],
      "metadata": {
        "colab": {
          "base_uri": "https://localhost:8080/"
        },
        "id": "Lbw6KfmX5MBS",
        "outputId": "3464d3d6-6c06-4e21-afd8-a4905a564780"
      },
      "execution_count": null,
      "outputs": [
        {
          "output_type": "stream",
          "name": "stdout",
          "text": [
            "\n",
            "Phase Flip Channel:\n",
            "\n",
            "Prob 0.0:\n",
            "[[0.5+0.j 0.5+0.j]\n",
            " [0.5+0.j 0.5+0.j]]\n",
            "\n",
            "Prob 0.5:\n",
            "[[0.5+0.j 0. +0.j]\n",
            " [0. +0.j 0.5+0.j]]\n",
            "\n",
            "Prob 1.0:\n",
            "[[ 0.5+0.j -0.5+0.j]\n",
            " [-0.5+0.j  0.5+0.j]]\n"
          ]
        }
      ]
    },
    {
      "cell_type": "code",
      "source": [
        "################################\n",
        "# Amplitude Dampening\n",
        "################################\n",
        "\n",
        "# This models energy dissipation in quantum systems, like when a qubit spontaneously decays from |1⟩ to |0⟩\n",
        "# https://docs.pennylane.ai/en/stable/code/api/pennylane.AmplitudeDamping.html\n",
        "# At gamma = 0, you'll see the pure state after the Hadamard gate\n",
        "# As gamma increases, the state will decay towards the ground state |0⟩\n",
        "#  At gamma = 1, you should see complete decay to the ground state\n",
        "\n",
        "# Create a device with 1 qubit\n",
        "dev = qml.device('default.mixed', wires=1)\n",
        "\n",
        "# Define Quantum Channel\n",
        "@qml.qnode(dev)\n",
        "def amplitude_damping_circuit(gamma):\n",
        "    qml.Hadamard(wires=0)\n",
        "    qml.AmplitudeDamping(gamma, wires=0)\n",
        "    return qml.density_matrix(wires=0)\n",
        "\n",
        "# Test Quantum Channel\n",
        "print(\"\\nAmplitude Dampening Channel:\")\n",
        "for p in [0.0, 0.5, 1.0]:\n",
        "    result = amplitude_damping_circuit(p)\n",
        "    print(f\"\\nProb {p}:\")\n",
        "    print(result)"
      ],
      "metadata": {
        "colab": {
          "base_uri": "https://localhost:8080/"
        },
        "id": "vop5_jXQ5JFB",
        "outputId": "de57a493-b350-4ea0-8d48-4d5cfcbd648c"
      },
      "execution_count": null,
      "outputs": [
        {
          "output_type": "stream",
          "name": "stdout",
          "text": [
            "\n",
            "Amplitude Dampening Channel:\n",
            "\n",
            "Prob 0.0:\n",
            "[[0.5+0.j 0.5+0.j]\n",
            " [0.5+0.j 0.5+0.j]]\n",
            "\n",
            "Prob 0.5:\n",
            "[[0.75      +0.j 0.35355339+0.j]\n",
            " [0.35355339+0.j 0.25      +0.j]]\n",
            "\n",
            "Prob 1.0:\n",
            "[[1.e+00+0.j 5.e-08+0.j]\n",
            " [5.e-08+0.j 5.e-15+0.j]]\n"
          ]
        }
      ]
    },
    {
      "cell_type": "code",
      "source": [
        "################################\n",
        "# Phase Damping Channel\n",
        "################################\n",
        "\n",
        "# This represents pure decoherence without energy loss - quantum information is lost to the environment while preserving energy\n",
        "# https://docs.pennylane.ai/en/stable/code/api/pennylane.PhaseDamping.html\n",
        "\n",
        "# Create a device with 1 qubit\n",
        "dev = qml.device('default.mixed', wires=1)\n",
        "\n",
        "# Define Quantum Channel\n",
        "@qml.qnode(dev)\n",
        "def phase_damping_circuit(gamma):\n",
        "    qml.Hadamard(wires=0)\n",
        "    qml.PhaseDamping(gamma, wires=0)\n",
        "    return qml.density_matrix(wires=0)\n",
        "\n",
        "# Test Quantum Channel\n",
        "print(\"\\nPhase Damping Channel:\")\n",
        "for p in [0.0, 0.5, 1.0]:\n",
        "    result = phase_damping_circuit(p)\n",
        "    print(f\"\\nProb {p}:\")\n",
        "    print(result)"
      ],
      "metadata": {
        "colab": {
          "base_uri": "https://localhost:8080/"
        },
        "id": "gGKEp9Ft5J_n",
        "outputId": "7e8dec0a-6f1a-493d-9397-7102133f7e24"
      },
      "execution_count": null,
      "outputs": [
        {
          "output_type": "stream",
          "name": "stdout",
          "text": [
            "\n",
            "Phase Damping Channel:\n",
            "\n",
            "Prob 0.0:\n",
            "[[0.5+0.j 0.5+0.j]\n",
            " [0.5+0.j 0.5+0.j]]\n",
            "\n",
            "Prob 0.5:\n",
            "[[0.5       +0.j 0.35355339+0.j]\n",
            " [0.35355339+0.j 0.5       +0.j]]\n",
            "\n",
            "Prob 1.0:\n",
            "[[5.e-01+0.j 5.e-08+0.j]\n",
            " [5.e-08+0.j 5.e-01+0.j]]\n"
          ]
        }
      ]
    },
    {
      "cell_type": "code",
      "source": [
        "################################\n",
        "# Generalized Amplitude Damping\n",
        "################################\n",
        "\n",
        "# Similar to amplitude damping but models systems at non-zero temperature\n",
        "# https://docs.pennylane.ai/en/stable/code/api/pennylane.GeneralizedAmplitudeDamping.html\n",
        "# The generalized amplitude damping channel models:\n",
        "  # Energy dissipation (like regular amplitude damping) through gamma\n",
        "  # Finite temperature effects through p (where p=0 reduces to regular amplitude damping)\n",
        "\n",
        "# Create a device with 1 qubit\n",
        "dev = qml.device('default.mixed', wires=1)\n",
        "\n",
        "# Define Quantum Channel\n",
        "@qml.qnode(dev)\n",
        "def gen_amplitude_circuit(gamma, p):\n",
        "    qml.Hadamard(wires=0)\n",
        "    qml.GeneralizedAmplitudeDamping(gamma, p, wires=0)\n",
        "    return qml.density_matrix(wires=0)\n",
        "\n",
        "# Test Quantum Channel\n",
        "print(\"\\nGeneralized Amplitude Damping:\")\n",
        "# Test with different combinations of gamma and p\n",
        "test_params = [\n",
        "    (0.0, 0.0),  # No damping, no excitation\n",
        "    (0.5, 0.3),  # Partial damping, some excitation\n",
        "    (1.0, 0.5)   # Full damping, balanced excitation\n",
        "]\n",
        "\n",
        "for gamma, p in test_params:\n",
        "    result = gen_amplitude_circuit(gamma, p)\n",
        "    print(f\"\\nGamma={gamma}, p={p}:\")\n",
        "    print(result)"
      ],
      "metadata": {
        "colab": {
          "base_uri": "https://localhost:8080/"
        },
        "id": "ip5BTzUe-ugr",
        "outputId": "0411570e-4035-4311-e882-be606ed2470e"
      },
      "execution_count": null,
      "outputs": [
        {
          "output_type": "stream",
          "name": "stdout",
          "text": [
            "\n",
            "Generalized Amplitude Damping:\n",
            "\n",
            "Gamma=0.0, p=0.0:\n",
            "[[0.5+0.j 0.5+0.j]\n",
            " [0.5+0.j 0.5+0.j]]\n",
            "\n",
            "Gamma=0.5, p=0.3:\n",
            "[[0.4       +0.j 0.35355339+0.j]\n",
            " [0.35355339+0.j 0.6       +0.j]]\n",
            "\n",
            "Gamma=1.0, p=0.5:\n",
            "[[5.e-01+0.j 5.e-08+0.j]\n",
            " [5.e-08+0.j 5.e-01+0.j]]\n"
          ]
        }
      ]
    },
    {
      "cell_type": "code",
      "source": [
        "################################\n",
        "# Reset Channel\n",
        "################################\n",
        "\n",
        "# Resets qubit to the |0⟩ state, modeling measurement and reset operations\n",
        "# https://docs.pennylane.ai/en/stable/code/api/pennylane.ResetError.html\n",
        "\n",
        "# --> ResetError is an error class, not a quantum channel operation <--\n",
        "# We can simulate a reset channel using amplitude damping with gamma=1, which will reset the qubit to the |0⟩ state\n",
        "  # 1. The reset operation doesn't need a probability parameter - it just resets the qubit\n",
        "  # 2. We simulate it using amplitude damping with gamma=1\n",
        "  # 3. We don't need a loop since the reset operation always does the same thing: forces the qubit to |0⟩\n",
        "\n",
        "# Create a device with 1 qubit\n",
        "dev = qml.device('default.mixed', wires=1)\n",
        "\n",
        "# Define Quantum Channel that simulates reset\n",
        "@qml.qnode(dev)\n",
        "def reset_circuit():\n",
        "    qml.Hadamard(wires=0)\n",
        "    # Use AmplitudeDamping with gamma=1 to reset to |0⟩\n",
        "    qml.AmplitudeDamping(1.0, wires=0)\n",
        "    return qml.density_matrix(wires=0)\n",
        "\n",
        "# Test Quantum Channel\n",
        "print(\"\\nTest Reset Channel:\")\n",
        "result = reset_circuit()\n",
        "print(\"\\nDensity matrix after reset:\")\n",
        "print(result)\n",
        "\n",
        "# When running this, you should see the density matrix corresponding to the |0⟩ state,\n",
        "# regardless of what state the qubit was in before the reset (in this case, after the Hadamard gate)."
      ],
      "metadata": {
        "colab": {
          "base_uri": "https://localhost:8080/"
        },
        "id": "6t6XNcGr5NKf",
        "outputId": "a9342cb6-415e-47d2-acc5-7dbe2483fa66"
      },
      "execution_count": null,
      "outputs": [
        {
          "output_type": "stream",
          "name": "stdout",
          "text": [
            "\n",
            "Test Reset Channel:\n",
            "\n",
            "Density matrix after reset:\n",
            "[[1.e+00+0.j 5.e-08+0.j]\n",
            " [5.e-08+0.j 5.e-15+0.j]]\n"
          ]
        }
      ]
    },
    {
      "cell_type": "code",
      "source": [
        "################################\n",
        "# Thermal Relaxation Channel\n",
        "################################\n",
        "\n",
        "# Models both amplitude and phase damping with characteristic T1 and T2 times, common in real quantum hardware\n",
        "# https://docs.pennylane.ai/en/stable/code/api/pennylane.ThermalRelaxationError.html\n",
        "\n",
        "# --> ThermalRelaxationError is an error class, not a quantum channel operation <--\n",
        "# We can simulate thermal relaxation using the basic quantum channels that are available in PennyLane\n",
        "# We can combine amplitude and phase damping effects\n",
        "\n",
        "# Create a device with 1 qubit\n",
        "dev = qml.device('default.mixed', wires=1)\n",
        "\n",
        "# Thermal Relaxation simulation using amplitude and phase damping\n",
        "@qml.qnode(dev)\n",
        "def thermal_circuit(t1, t2, time):\n",
        "    # Calculate damping probabilities\n",
        "    gamma_amp = 1 - np.exp(-time/t1)  # Amplitude damping parameter\n",
        "    gamma_phase = 1 - np.exp(-time/t2)  # Phase damping parameter\n",
        "\n",
        "    qml.Hadamard(wires=0)\n",
        "    # Apply amplitude damping\n",
        "    qml.AmplitudeDamping(gamma_amp, wires=0)\n",
        "    # Apply additional dephasing\n",
        "    qml.DepolarizingChannel(gamma_phase, wires=0)\n",
        "    return qml.density_matrix(wires=0)\n",
        "\n",
        "# Test with different parameters\n",
        "print(\"\\nThermal Relaxation Error:\")\n",
        "test_params = [\n",
        "    (50, 30, 0),    # No evolution time\n",
        "    (50, 30, 25),   # Half the T1 time\n",
        "    (50, 30, 50)    # Full T1 time\n",
        "]\n",
        "\n",
        "for t1, t2, t in test_params:\n",
        "    result = thermal_circuit(t1, t2, t)\n",
        "    print(f\"\\nT1={t1}, T2={t2}, time={t}:\")\n",
        "    print(result)"
      ],
      "metadata": {
        "colab": {
          "base_uri": "https://localhost:8080/"
        },
        "id": "4IQT0oPx2kn3",
        "outputId": "4888f6c1-11e0-45f2-c869-765ffb2d0ce2"
      },
      "execution_count": null,
      "outputs": [
        {
          "output_type": "stream",
          "name": "stdout",
          "text": [
            "\n",
            "Test:\n",
            "\n",
            "T1=50, T2=30, time=0:\n",
            "[[0.5+0.j 0.5+0.j]\n",
            " [0.5+0.j 0.5+0.j]]\n",
            "\n",
            "T1=50, T2=30, time=25:\n",
            "[[0.54842249+0.j 0.09584349+0.j]\n",
            " [0.09584349+0.j 0.45157751+0.j]]\n",
            "\n",
            "T1=50, T2=30, time=50:\n",
            "[[ 0.47424134+0.j -0.02471588+0.j]\n",
            " [-0.02471588+0.j  0.52575866+0.j]]\n"
          ]
        }
      ]
    },
    {
      "cell_type": "markdown",
      "source": [
        "ThermalRelaxationError is actually an error class, not a quantum channel operation. I apologize for my mistake earlier. We simulate thermal relaxation using the basic quantum channels that are available in PennyLane. We can combine amplitude and phase damping effects.\n",
        "\n",
        "This code simulates thermal relaxation by:\n",
        "1. Converting T1 and T2 times into damping probabilities using exponential decay\n",
        "2. Applying amplitude damping for energy relaxation (T1)\n",
        "3. Using a depolarizing channel to approximate phase damping (T2)\n",
        "\n",
        "While this isn't exactly the same as a true thermal relaxation channel, it captures the main physical effects of both energy relaxation and decoherence. Let me know if you'd like to explore how different parameters affect the quantum state!\n",
        "\n",
        "Important notes:\n",
        "* Used more realistic test values (T1, T2 times are typically in microseconds)\n",
        "* T2 must be less than or equal to T1 (this is a physical constraint)\n",
        "\n",
        "The parameters represent:\n",
        "- t1: amplitude damping time (T1 relaxation time)\n",
        "- t2: dephasing time (T2 coherence time)\n",
        "- time: evolution time"
      ],
      "metadata": {
        "id": "UnjL7-2N8vZG"
      }
    },
    {
      "cell_type": "markdown",
      "source": [
        "###### *Quantum Mechanics (Article)*"
      ],
      "metadata": {
        "id": "-GMWbh-0abs-"
      }
    },
    {
      "cell_type": "markdown",
      "source": [
        "**Quantum States**\n",
        "\n",
        "Quantum mechanics uses the Dirac notation, also known as \"bra-ket\",  introduced by Paul Dirac in the 1930s. This notation is a standard and efficient way of representing quantum states and operations, and is essential for understanding quantum computing.\n",
        "\n",
        "\\textbf{Hilbert spaces} are a crucial mathematical concept in quantum mechanics, providing the framework to describe systems with infinitely-many possible states and the operations performed upon them. Hilbert spaces allow for the description of quantum systems that can exist in superpositions, which often involve infinitely many possible states, unlike classical systems with their finitely-limited possibilities. Importantly, Hilbert spaces possess properties crucial for quantum mechanics: inner products allow us to calculate the probability of finding a system in a particular state, as well as expectation values of observables (like position or momentum). Completeness ensures that any valid quantum state can be represented within the Hilbert space and described by its mathematical framework. With these properties, Hilbert spaces provide the mathematical foundation to rigorously model quantum states and their evolution.\n",
        "\n",
        "\\textbf{Quantum states} encapsulate all the physically measurable information about a quantum system and probabilities related to its potential measurement outcomes. One way to describe a quantum state is the \\textbf{wave function}, symbolized by the Greek letter $\\psi$. It's a complex-valued function that encapsulates all conceivable information about a quantum system. This information is probabilistic rather than deterministic, marking a departure from classical mechanics by not specifying exact positions or momenta. Instead, it offers the probability densities for locating a particle in various positions or states of motion, with the square of the wavefunction's magnitude ($|\\psi|^2$) representing the likelihood of finding the particle at a specific point in space and time.\n",
        "\n",
        "\n",
        "\n",
        "Wavefunctions embody the principle of superposition, blending all potential states a system might inhabit. Through this, it communicates possible quantum states, observables (like position, momentum, and energy), and how these states evolve over time. To glean insights on observables, one applies corresponding mathematical operators to the wavefunction. Its temporal evolution is dictated by the Schrödinger equation, enabling predictions about the system's future behavior. However, the wavefunction itself isn't directly observable; we only infer its characteristics through the probability outcomes of measurements. In numerous quantum interpretations, the act of measurement forces the wavefunction to \"collapse,\" narrowing the system down to a single possible state from the many it potentially occupied. This aspect of quantum mechanics, central yet subject to diverse interpretations, underscores the stark contrast between quantum and classical physics in conceptualizing reality.\n",
        "\n",
        "\n",
        "Quantum states can exist in \\textbf{superpositions} and become \\textbf{entangled}. There are two main ways to represent quantum states. \\textbf{Pure States} are represented by a ket-state $| \\psi \\rangle $, these describe systems where we know the exact superposition. \\textbf{Mixed States} are represented by a density matrix $\\rho$, these describe situations where there's uncertainty about the exact superposition a system is in.\n",
        "\n",
        "A \\textbf{pure state} $| \\psi \\rangle $ is an eigenstate of an observable, like spin up or spin down, meaning its measurement will always yield a specific value. It can be represented as a single ket vector $|\\psi\\rangle$. Kets are elements of a complex vector space called a Hilbert space, and they mathematically represent the system's wave function $\\Psi$. A ket state is a vector whose elements represent the probability amplitudes associated with a quantum system's possible states. For example, a qubit in a superposition of its two basis states $|0\\rangle$ and $|1\\rangle$ can be represented by a general ket state $|\\psi\\rangle = \\alpha |0\\rangle + \\beta |1\\rangle$, where $\\alpha$ and $\\beta$ are complex numbers representing probability amplitudes that satisfy the normalization condition: $|\\alpha|^2$ +  $|\\beta|^2$ = 1. Suppose $|\\psi\\rangle$ is an n-dimensional complex vector. It can be written in column form in \\eq{bra2} for the two states spin up and spin down. We have chosen a basis in such a way that the Pauli Z matrix is diagonal. Here are its basis vectors, the spin up with $|\\psi_0\\rangle$ in the z direction and the spin down with $|\\psi_1\\rangle$  direction, written as column vectors.\n",
        "\n",
        "\n",
        "$|\\psi_0\\rangle =\n",
        "|\\uparrow \\rangle=\\left(\\begin{array}{l}1 \\\\ 0\\end{array}\\right) \\quad |\\psi_1\\rangle =|\\downarrow \\rangle=\\left(\\begin{array}{l}0 \\\\ 1\\end{array}\\right)\n",
        "$\n",
        "\n",
        "A \\textbf{mixed state} $\\rho$ represents a quantum state when there is an unknown quantum system where you lack knowledge about the state, or decoherence due to hardware defects, or quantum systems that interact with the environment.  We need the concept of \\textbf{density matrix} to represent mixed states. The density matrix $\\rho$ contains all statistical information of a mixed state, such that it represents a statistical ensemble of several different possible states, rather than a single definite state. If a quantum system is in a state \\( |\\psi_i\\rangle \\) with probability \\( p_i \\), where \\( \\sum_i p_i = 1 \\), the density matrix \\( \\rho \\) of the mixed state is:\n",
        "\n",
        "$\n",
        "\\rho = \\sum_i p_i |\\psi_i\\rangle\\langle\\psi_i|  = p_1 |\\psi_1\\rangle\\langle\\psi_1| + p_2 |\\psi_2\\rangle\\langle\\psi_2| \\, ... + p_i |\\psi_i\\rangle\\langle\\psi_i|\n",
        "$\n",
        "\n",
        "The \\textbf{tensor product} $\\otimes$, also called the Kronecker product, is used to combine quantum states. It is essential for representing both superposition and entanglement in quantum computing. The tensor product generates a new vector in a larger Hilbert space that contains all pairwise products of the elements, unlike the dot product, which collapses vectors into a scalar, representing the degree of their parallelism. For example, if we have two qubits such that one qubit is in state $|0\\rangle$ and the second qubit is in state $|1\\rangle$, their combined state is represented by \\eq{tensorproduct}. This combined state can represent both superpositions of separable states and entangled states, which are crucial for quantum computation.\n",
        "\n",
        "$\n",
        "|0\\rangle \\otimes|1\\rangle=\\left[\\begin{array}{l}1 \\\\ 0\\end{array}\\right] \\otimes\\left[\\begin{array}{l}0 \\\\ 1\\end{array}\\right]=\\left[\\begin{array}{l}1 \\otimes \\left[\\begin{array}{l}0 \\\\ 1\\end{array}\\right] \\\\\n",
        "0 \\otimes \\left[\\begin{array}{l}0 \\\\ 1\\end{array}\\right]\\end{array}\\right]=\\left[\\begin{array}{l}1 \\otimes 0 \\\\ 1 \\otimes 1 \\\\ 0 \\otimes 0 \\\\ 0 \\otimes 1\\end{array}\\right]=\\left[\\begin{array}{l}0 \\\\ 1 \\\\ 0 \\\\ 0\\end{array}\\right]\n",
        "$\n",
        "\n",
        "A \\textbf{product state} is is a particular type of pure state $| \\psi \\rangle $. It describes the combination of multiple \\textit{separate} quantum systems where the subsystems are not entangled and can be described independently. This means that there is a precisely defined state for each subsystem. The overall state can be expressed as a tensor product $\\otimes$ of the states of its individual subsystems. For example, if you have two quantum systems A and B, and the state of A is represented by \\(|\\psi_A\\rangle\\) and the state of B is represented by \\(|\\psi_B\\rangle\\), then the product state of the composite system would be \\(|\\psi_A\\rangle \\otimes |\\psi_B\\rangle\\). Not all quantum states are product states, since most quantum states involve entanglement. Product states are often used as initial states in quantum algorithms since they are relatively easy to prepare. Quantum operations and measurements then create more complex, entangled states.\n",
        "\n",
        "\n",
        "\\textbf{Quantum observables} $\\mathcal{A}$ represent measurable properties of a quantum system, like position, momentum, or spin of a particle. The \\textbf{Hamiltonian} $\\mathcal{H}$ is an important observable representing the total energy of the system. Its lowest eigenvalue describes the ground state, the most stable configuration a quantum system naturally tends toward. \\textbf{Quantum operators} $\\hat{A}$ mathematically represented quantum observables, or transformations in the quantum state space. These operators are 'Hermitian' and have real eigenvalues, which correspond to the possible physical solutions of a measurement. For example the eigenvalues of the momentum operator correspond to the possible momenta, or for a spin that is inherently quantized, taking on discrete values.\n",
        "\n",
        "When a quantum observable is measured, the system collapses into an eigenstate of that observable, yielding the corresponding eigenvalue as the measurement result. Eigenstates are descriptions of physical states in quantum systems. The probability of collapsing into a particular eigenstate upon measurement is determined by the inner product between the system's quantum state and the corresponding eigenvector of the observable. Operators can change the state of a qubit, entangle multiple qubits, or perform other quantum manipulations. There are \\textbf{discrete operators}, like the spin, (angular) momentum, ladder and projection operator, and \\textbf{continuous quantum operators}, like the position and momentum operator.\n",
        "\n",
        "\\textbf{Super-operators} are a type of operator that acts on other operators, rather than on state vectors. Examples are quantum channels, CPTP map and Kraus operator. Super-operators are important to \\textit{describe the dynamics of quantum systems, particularly in the presence of noise or other forms of quantum decoherence}. \\textbf{Quantum channels} are a type of superoperator that describes the evolution of a quantum state interacting with a noisy or decohering environment. Mathematically, quantum channels are linear maps between operators spaces with the additional properties of being completely positive and trace-preserving maps, the \\textbf{CPTP maps} $\\mathcal{E}$. CPTP maps can be represented as a superoperator acting on the density matrix $\\rho$ of a quantum state. Quantum machine learning applications involve the use of quantum channels $\\mathcal{E}$, such as learning the function \\eq{cptp} or its final state, where $x$ is a classical input, such as a chemical in a reaction.\n",
        "\n",
        "$\n",
        "f(x)=\\operatorname{tr}(O \\mathcal{E}(|x\\rangle\\langle x|))\n",
        "$\n",
        "\n",
        "\\textbf{Kraus operators} provide a concrete way to represent quantum channels and describe \\textit{discrete} time evolutions of quantum systems. Kraus operators are particularly useful for modeling noise in an open quantum system with effects that cannot be described by simple unitary evolution. \\textit{Kraus's theorem} states that a linear map $\\Lambda$ from the Hilbert space $\\mathcal{H}$ to $\\mathcal{G}$, denoted as $\\Lambda: \\mathcal{H} \\rightarrow \\mathcal{G}$ is CPTP if it can be expressed as the Kraus representation of the linear map $\\Lambda$ given by \\eq{kraus} where $\\left\\{K_\\alpha\\right\\}$ are the Kraus operators.\n",
        "\n",
        "$\n",
        "\\Lambda[\\rho]=\\sum_\\alpha K_\\alpha \\rho K_\\alpha^{\\dagger},\n",
        "$\n",
        "\n",
        "\\textbf{Lindblad operators} are another type of quantum operators used to model the effects of a system's interaction with its environment, leading to dissipation and decoherence in an open quantum system. In contrast to Kraus operators, who are used for discrete cases, Lindblad operators are applied to continuous time evolution. The time evolution of the density matrix (representing the state of a quantum system) under environmental influences is governed by the Lindblad master equation \\eq{lindblad}, where $H$ is the system's Hamiltonian that describes its internal energy, $L_{i}$ are Lindblad operators that represent different environmental interactions, and $\\rho$ is the density matrix of the system. The Lindblad master equation is also CPTP.\n",
        "\n",
        "$\n",
        "{\\dot {\\rho }}=- \\frac{i}{\\hbar} [H,\\rho] + \\sum _{i}^{}\\gamma _{i}\\left(L_{i}\\rho L_{i}^{\\dagger }-{\\frac {1}{2}}\\left\\{L_{i}^{\\dagger }L_{i},\\rho \\right\\}\\right)\n",
        "$\n",
        "\n",
        "The Lindblad master equations can be derived from the evolution described by Kraus operators in a continuous-time limit. Essentially, you break down a continuous evolution into tiny time steps, each described by Kraus operators, and then take the limit as the time steps become infinitesimally small. Furthermore, Lindblad operators offer a way to model specific types of system-environment interactions that are common in open quantum systems (like dephasing, energy relaxation, etc.)."
      ],
      "metadata": {
        "id": "7MAsHhkepahS"
      }
    },
    {
      "cell_type": "markdown",
      "source": [
        "\n",
        "\n",
        "\n",
        "**Quantum Measurements**\n",
        "\n",
        "\\textbf{Quantum measurement} is a fundamental tool for understanding and manipulating quantum systems. Measuring quantum systems is used to verify the presence of desired states, determine values of observables (like position, energy, or momentum, compare theoretical predictions with experimental outcomes, or reconstruct the full quantum state of a system through tomography.  There are different measurement techniques.\n",
        "\n",
        "The \\textit{Bra-ket} notation is used to calculate state similarity. \\textit{Density matrices} are essential for calculating expectation values (average results of many measurements). \\textit{Projective measurements} are a type of quantum measurement that collapse the wavefunction of a system into one of the eigenstates of the measured observable. This results in a measurement outcome that corresponds to one of the possible eigenvalues (outcomes) of that observable. \\textit{POVMs} generalize measurements for situations where projective measurements are too restrictive. They allow for non-orthogonal outcomes that aren't strictly exclusive. \\textit{Shadow tomography} is a technique that combines repeated measurements with classical machine learning to estimate the density matrix. Additionally there is the weak measurement, square root measurement, separable measurement, random clifford measurement, two-copy Bell basis measurement and more.\n",
        "\n",
        "\n",
        "The \\textit{Bra-Ket sandwich for State Overlap} is the simplest method for measuring quantum systems is the computing the similarity between two quantum states. This involves calculating their inner product, which is done using the \\textbf{Bra-Ket} notation. A Bra $\\langle \\psi |$ is a row vector, specifically a special type of row vector used in quantum mechanics (a \\textit{covector} or linear functional from the dual space $V^{*}$), and represents the conjugate transpose of a Ket $|\\psi\\rangle$. The conjugate transpose means taking the complex conjugate of each element in the original Ket $|\\psi\\rangle$: $\\langle\\psi| = \\begin{pmatrix} a_1^* & a_2^* & \\cdots & a_n^* \\end{pmatrix}$.\n",
        "\n",
        "$\n",
        "\\langle\\psi|\\psi\\rangle = \\begin{pmatrix} a_1^* & a_2^* & \\cdots & a_n^* \\end{pmatrix} \\begin{pmatrix} a_1 \\\\ a_2 \\\\ \\vdots \\\\ a_n \\end{pmatrix} = a_1^*a_1 + a_2^*a_2 + \\cdots + a_n^*a_n = 1\n",
        "$\n",
        "\n",
        "Combining a bra and a ket, such as $\\langle\\psi|\\psi\\rangle$ for identical states, or $\\langle\\phi|\\psi\\rangle$ for different states, creates a Bra-Ket, as denoted in \\eq{braket} for a n-dimensional complex vector, where the quantum state vector is normalized, meaning:\n",
        "$\\langle\\psi|\\psi\\rangle$ = 1. This forms an \\textit{inner product}, which yields a scalar (a single number) that measures the similarity between quantum states. It can be either the 'self-overlap' of a quantum state $|\\psi\\rangle$ with itself $|\\psi\\rangle$, or the similarity between two different states $|\\psi\\rangle$ and $|\\phi\\rangle$. When the bra \\(\\langle \\phi |\\) and ket \\(|\\psi\\rangle\\) represent the same state, the bra-ket sandwich essentially calculates the inner product of the state with itself.\n",
        "\n",
        "$\n",
        "\\langle \\phi | A | \\psi\\rangle\n",
        "$\n",
        "\n",
        "The \\textit{bra-ket sandwich} is an important key concept in quantum measurements and refers to a specific operation that is used to calculate the inner product and expectation values. It consists of three components: Bra, denoted as  \\(\\langle \\phi | \\), that represents the conjugate transpose (Hermitian adjoint) of a quantum state (ket). Ket, denoted as \\( | \\psi \\rangle \\), represents a quantum state itself. An operator $A$ that corresponds to the observable you want to measure and that is placed between the bra-ket \\eq{braketsandwich}. In case of computing the similarity (overlap) between two quantum states, the operator would be the identity operator \\(\\langle \\phi | I | \\psi\\rangle \\). The identity operator is often omitted because it acts like a scalar 1 multiplying everything, but it is technically still implied. Practically, the Swap-test is used to determine the similarity, or overlap, between two quantum states \\cite{10.1137/S0097539796302452, 10.1103/PhysRevLett.87.167902}.\n",
        "\n",
        "$\n",
        "|\\langle \\phi | \\psi \\rangle|^2\n",
        "$\n",
        "\n",
        "Using Bra-Ket notation to calculate the probability of finding a quantum system in state \\(|\\phi\\rangle\\) if it was initially prepared in state \\(|\\psi\\rangle\\) is given by the squared magnitude of the inner product between the two states as denoted in \\eq{overlap}. It is used to calculate the \\textit{state overlap}, expressing the degree to which one quantum state lies 'within' another. It is a bra-ket sandwich with the identity operator $I$ implied in the middle.\n",
        "\n",
        "\\textit{Bra-Ket sandwich for Expectation Values of Pure States}: If we generalize the bra-ket sandwich from \\eq{overlap} by placing a specific operator $P$, corresponding to a desired observable, within it, we can calculate the \\textit{expectation value} of that operator in a specific quantum state $|\\psi\\rangle$. This \\textbf{expectation value}, denoted as  \\eq{expectationvalue}, represents the average value you would expect to obtain over many repeated measurements of the quantity associated with operator $P$, when the system is prepared in the state $|\\psi\\rangle$. For example, if $P$ represents the momentum operator, then $\\langle \\psi | P | \\psi \\rangle$ gives us the average momentum of a particle in state $|\\psi\\rangle$.\n",
        "\n",
        "$\n",
        "\\langle P \\rangle = \\langle \\psi | P | \\psi\\rangle\n",
        "$\n",
        "\n",
        "To calculate the expectation value of a projection operator $P_i$ in the state $|\\phi \\rangle$, we use the expression $\\langle P_i \\rangle = \\langle \\psi | P_i | \\psi\\rangle$. This calculates the probability of finding the system in the state that the projector $P_i$ projects onto. The operator $P_i$ is represented as a projection operator $P_i = |\\phi \\rangle \\langle \\phi|$, and the probability is calculated by $\\langle\\psi| \\phi\\rangle\\langle\\phi|\\psi\\rangle = |\\langle \\phi | \\psi \\rangle|^2$. The expectation value of a projection operator corresponds to this probability. In the specific case where $P_i$ projects into the state $|\\phi \\rangle$ itself, this expectation value will always be 1, because $\\langle\\phi| \\phi\\rangle\\langle\\phi|\\phi\\rangle = |\\langle \\phi | \\phi \\rangle|^2$. This reflects the certainty of finding the system in state $|\\phi \\rangle$ upon measurement if it is already prepared in that state.\n",
        "\n",
        "\n",
        "\n",
        "\\textit{Density Matrix Formulation for Expectation Values of Mixed States}: Now we want to expand to \\textit{mixed states}. The expression \\eq{expectationvalue} assumes the system is in a well-defined \\textit{pure state} represented by the ket $|\\psi\\rangle$. Now we expand $\\langle P \\rangle = \\langle \\psi | P | \\psi\\rangle$ to include also \\textit{mixed states}. A mixed state represents a statistical mixture of several possible pure states, each with a corresponding probability.\n",
        "\n",
        "To calculate the expectation value in a mixed state, you need to use the \\textbf{density matrix formulation}, where a mixed state is represented by a density matrix $\\rho$. This is an operator that contains the probabilities of finding the system in various pure states. The density matrix \\( \\rho \\)  is a weighted sum of outer products of state vectors \\( |\\psi_i\\rangle \\) with their corresponding dual vectors \\( \\langle\\psi_i| \\), where each weight \\( p_i \\) is the probability of the system being in the state \\( |\\psi_i\\rangle \\). The projection operator \\( P_i \\) projects any state onto a particular state \\( |\\phi\\rangle \\). It is defined as \\( P_i = |\\phi\\rangle\\langle\\phi| \\). The expectation value of an operator $P_i$ in a mixed state described by the density matrix \\( \\rho \\) is calculated as $\\langle P \\rangle = \\text{Tr}(\\rho P_i)$, where Tr(...) is the trace of the matrix.\n",
        "\n",
        "\n",
        "Expanding the density operator \\( \\rho \\) as \\( \\sum_i p_i |\\psi_i\\rangle\\langle\\psi_i| \\) and using the projection operator \\( P_i = |\\phi\\rangle\\langle\\phi| \\) becomes \\eq{probabilitytrace}. It describes a quantum system that is in a probabilistic mixture of pure states $|\\psi_i\\rangle$, each with probability $p_i$. The trace is the sum of all Eigenvalues of an operator and corresponds to the possible measurement results of the observable that is represented by the operator. Now calculating the trace ($\\text{Tr}$) of ($\\rho P_i$) gives the total probability of finding the system in the state \\( |\\phi\\rangle \\) when you sum all states \\( |\\psi_i\\rangle \\) the system might be in, weighted by their respective probabilities \\( p_i \\), to get the average expectation value, denoted in \\eq{probabilitytrace}.\n",
        "\n",
        "$\n",
        "\\langle P \\rangle = \\text{Tr}(\\rho P_i) = \\text{Tr}\\left(\\sum_i p_i |\\psi_i\\rangle\\langle\\psi_i|\\phi\\rangle\\langle\\phi|\\right)\n",
        "$\n",
        "\n",
        "This means that the expression $\\langle P \\rangle = \\langle\\phi|P_i|\\phi\\rangle$ from the Bra-Ket sandwich in \\eq{expectationvalue} is a specific instance of the more general density matrix formulation for expectation values for a particular \\textit{pure state} $ |\\phi\\rangle$. If the projection operator $P_i$ is projected onto the state $|\\phi\\rangle$, then $P_i = |\\phi\\rangle\\langle\\phi|$, and the density matrix can be written simply as $\\rho =  |\\phi\\rangle\\langle\\phi|$, which results in $\\langle\\phi| \\phi\\rangle\\langle\\phi|\\phi\\rangle = |\\langle \\phi | \\phi \\rangle|^2 = 1$ if you would use the density matrix formulation $\\langle P \\rangle = \\text{Tr}(\\rho P_i)$ for the a system in \\textit{pure states}.\n",
        "\n",
        "\\( \\text{Tr}(\\rho P_i) \\) from \\eq{probabilitytrace} generalizes this concept to a \\textit{mixed state} represented by the density matrix \\( \\rho \\). The expectation value of mixed states is the trace of the product of the density matrix and the observable $\\langle P \\rangle = \\text{Tr}(\\rho P_i)$. The density matrix allows us to handle mixed states, but it reduces to the simple pure state form when the system is in a well-defined single state. In both cases \\eq{expectationvalue} and \\eq{probabilitytrace}, the focus is on calculating the probability of observing the system in a particular quantum state after a measurement.\n",
        "\n",
        "\n",
        "\\textit{Expectation Values of Observables under Unitary Transformations}: If you go a step further and want to measure the \\textbf{expectation value} of an observable $B$, which undergoes a \\textbf{(unitary) transformation $U(x)$}, you would use the expression \\eq{expectedoutcome}. This often represents a single element within a larger parameterized quantum circuit. The value $(x)$ dictates the specific form of the unitary transformation, influencing the expectation value.\n",
        "\n",
        "$\n",
        "\\langle B \\rangle = \\langle \\psi | U^{\\dagger}(x) B U(x) | \\psi \\rangle\n",
        "$\n",
        "\n",
        "The system starts in state $|\\psi \\rangle$, and the unitary operator $U(x)$ transforms the state. The observable of interest, represented by the operator $B$, acts on the transformed state $U(x) |\\psi \\rangle$. The final step involves taking the expectation value of this transformed state with respect to the initial state $|\\psi \\rangle$. This is achieved by the \\textit{bra-ket sandwich} and results in the expectation value $\\langle B \\rangle$ of the observable $B$ after the transformation. The bra-ket sandwich uses the reverse transformation $U^{\\dagger}(x)$, which is the Hermitian adjoint (conjugate transpose) of $U(x)$.\n",
        "\n",
        "How can equation \\eq{expectedoutcome} be solved? There are two main approaches to calculating the eigenvalues of a Hermitian operator $B$: Either via \\textit{Diagonalization}, which involves finding an orthonormal basis of eigenvectors of $B$. The eigenvalues of $B$ are then the corresponding eigenvalues of the Hermitian matrix representing $B$ in this basis. Or via \\textit{Eigenvalue Solvers}, where there are various numerical methods for calculating eigenvalues of Hermitian operators, such as the Rayleigh-Ritz quotient, the Lanczos algorithm, and the Arnoldi algorithm. These methods can be used to calculate eigenvalues for large Hermitian matrices that cannot be diagonalized directly.\n",
        "\n",
        "Since in $E(x) =\\langle\\psi| U^{\\dagger}(x) B U(x) | \\psi\\rangle$, the observable $B$ is sandwiched between the unitary operator $U(x)$ and its conjugate transpose $U^{\\dagger}(x)$, it means that $B$ can be expressed as a combination of powers of $U(x)$ and $U^{\\dagger}(x)$. If we can find the eigenvalues of this combination of operators $U(x)$ and $U^{\\dagger}(x)$, then we can calculate the eigenvalues of $E(x)$. The diagonalization method is accurate and but computational expensive. This involves finding a suitable basis for the Hilbert space of quantum states, and representing $U(x)$ and $U^{\\dagger}(x)$ in this basis. The eigenvalues of $B$ can then be calculated by diagonalizing the matrix representing $B$ in this basis. On the other side, using an eigenvalue solver - efficient, but not super accurate. This involves choosing an appropriate numerical method, and applying it to the matrix representing B in the basis defined by $U(x)$ and $U^{\\dagger}(x)$. The eigenvalues of $B$ can then be calculated by using the numerical method.\n",
        "\n",
        "$\n",
        "O' = U * O * U^{\\dagger}\n",
        "$\n",
        "\n",
        "When a quantum observable undergoes a unitary transformation, the mathematical expression describing \\eq{unitarytransformation}, where $O'$ represents the observable after the unitary transformation.\n",
        "$O$ represents the original observable.\n",
        "$U$ is the unitary operator describing the transformation, and $U^{\\dagger}$ denotes the Hermitian adjoint (complex conjugate transpose) of $U$. You may noticed that the dagger placement is reversed in comparison to \\eq{expectedoutcome}. The dagger placement depends on whether you are transforming the observable itself or calculating the expectation value of a transformed observable. In both cases, the unitary transformation plays a crucial role in understanding how quantum systems evolve. If you are simply describing the transformation of a physical object (observable) in space, the dagger on the second $U$ in \\eq{unitarytransformation} ensures that the object is rotated or stretched consistently. When calculating the expectation value, we are essentially taking an average over the transformed object using a specific probability distribution (the state vector). The dagger on the first U achieves the correct conjugation for this averaging process.\n",
        "\n",
        "$\n",
        "\\langle B \\rangle = Tr(\\rho U^{(\\dagger)}(x) B U(x))\n",
        "$\n",
        "\n",
        "To calculate expectation values in \\textit{mixed states}, where the system is in a probabilistic combination of pure states, you need the density matrix ($\\rho$) formalism as denoted in \\eq{expectedoutcome2}. Tr represents the trace operation, which sums the diagonal elements of the resulting matrix after the transformation.\n",
        "\n",
        "\n",
        "\\textit{Bra-Ket sandwich for Projective Measurements}: Another application of the bra-ket sandwich is calculating measurement probabilities in quantum systems using \\textbf{projective measurement}. Imagine we have a quantum system in an unknown state represented by the wavefunction $|\\psi\\rangle$.  Our goal is to measure a specific observable $\\mathcal{O}$ and determine the probability of finding it in a particular eigenstate, $|\\phi\\rangle$. To do this, we use the \\textbf{corresponding projection operator} $P = |\\phi \\rangle\\langle \\phi |$, represented using \\textbf{Ket-Bra notation} (outer products), which corresponds to one of the possible outcomes of the measurement. This operator acts like a filter.  When applied to the unknown quantum state $|\\psi\\rangle$, it extracts the component of $|\\psi\\rangle$ that aligns with the subspace spanned by the eigenstate $|\\phi\\rangle$, denoted in \\eq{projection}.\n",
        "\n",
        "\\begin{equation}\\label{eq:projection}\n",
        "P |\\psi \\rangle = |{\\phi}\\rangle \\langle{\\phi}|{\\psi}\\rangle\n",
        "\\end{equation}\n",
        "\n",
        "This projection, $| \\phi \\rangle\\langle \\phi |\\psi \\rangle$, holds information about the part of the unknown state $|\\psi\\rangle$ that overlaps with $|\\phi\\rangle$. To extract the probability of finding the system in this state, we take the inner product of this projection with itself. This is where the Bra-Ket sandwich comes in. It lets us calculate the magnitude squared of the resulting vector after the projection, which is the probability of finding the system in that eigenstate. Importantly, the act of measurement also causes the quantum state to collapse into the measured eigenstate. This means that we take the $|\\phi\\rangle$ component of $|\\psi\\rangle$, project it again onto $|\\phi\\rangle$, and calculate the length squared of this resulting vector. This length squared is the probability of finding the system in the state $|\\phi\\rangle$ after the measurement, denoted in \\eq{projectivemeasurement}, where $P_i$ is the projector for this outcome, which is  $|\\phi \\rangle\\langle \\phi |$.\n",
        "\n",
        "\\begin{equation}\\label{eq:projectivemeasurement}\n",
        "P({\\phi}) = \\langle{\\phi} | {\\phi}\\rangle \\langle{\\phi}| {\\psi}\\rangle |{\\phi}\\rangle = |\\langle{\\phi}|{\\psi}\\rangle|^2    = \\langle{\\phi} | P_i |{\\phi}\\rangle\n",
        "\\end{equation}\n",
        "\n",
        "For a system with multiple possible measurement outcomes, each associated with a different eigenstate $ |\\phi_i\\rangle$, the overall projection operator can be expressed as a sum of individual projection operators: $\\sum_i |\\phi_i\\rangle\\langle\\phi_i|$, where the sum is over all possible outcomes.  A projective basis is a set of projectors $\\{ P_i \\}$ that span the space of quantum states and are used for calculating outcomes of quantum measurements. Each $P_i$ projects onto a different one-dimensional subspace, and they satisfy the completeness relation $\\sum_i P_i = I$, where $I$ is the identity operator. This means any quantum state can be expressed as a combination of these projectors.\n",
        "\n",
        "As an example, the equation \\eq{projectivemeasurement2} represents the probability of a specific measurement outcome '$\\phi$' when the system could collapse into multiple possible eigenstates. $P(\\phi)$ is the probability of finding the system in eigenstate $|\\phi \\rangle$ after the measurement. $P_j$ is the projection operator specifically corresponding to the outcome $|\\phi\\rangle$, i.e., $P_i = |\\phi\\rangle \\langle \\phi|$. The summation $\\sum_i |\\phi_i\\rangle \\langle \\phi_i|$ represents the decomposition of the total measurement operator into projectors onto each potential outcome state $|\\phi_i \\rangle$.  Isolating $P_j = |\\phi\\rangle \\langle\\phi|$ within the overall measurement ensures that we calculate the probability specifically for the outcome '$\\phi$'. The right-hand side of the equation demonstrates how the total measurement operator can be expressed as a sum of projection operators, each corresponding to a possible outcome. By using the projector $P_j$, we select the component of the summation that specifically corresponds to the probability of the outcome '$\\phi$'.\n",
        "\n",
        "$\n",
        "P(\\phi) = \\langle \\phi|P_j|\\phi\\rangle = \\langle \\phi| \\sum_i |\\phi_i\\rangle \\langle \\phi_i| \\phi\\rangle\n",
        "$\n",
        "\n",
        "\\textit{POVM (Positive Operator-Valued Measure)} is a more general framework for quantum measurements compared to projective measurements. It extends beyond the limitations of projective measurements, which are restricted to \\textbf{orthogonal outcomes} and induce \\textbf{state collapse}. POVMs allow for a wider range of measurement processes, including \\textbf{non-orthogonal outcomes} and even those that cannot be described by simple state collapse. This makes them particularly useful in quantum information theory and for dealing with systems where you have partial or incomplete knowledge.\n",
        "\n",
        "To obtain classical information from a quantum state represented by density matrix $\\rho$, one can apply a POVM measurement. An $m$-outcome POVM is described by a set of positive semi-definite matrices $\\left\\{M_i\\right\\}_{i \\in[m]}$, where $i$ iterates over the possible outcomes $i \\in [m]$. These matrices satisfy the completeness relation $\\sum_i M_i=\\mathrm{Id}$ (identity). When measuring $\\rho$ using this POVM, the probability of outcome $j$ is given by $\\operatorname{Tr}\\left(M_j \\rho\\right)$, where $Tr$ denotes the trace operation - essentially a sum over the diagonal elements of matrix $M_j$.  It's important to note that unlike projective measurements, some POVMs may not necessarily cause the system to collapse into a specific state after the measurement.\n",
        "\n",
        "\\textbf{Weak measurements} are a type of quantum measurement that partially collapse the quantum state, providing limited information while minimizing disturbance. This contrasts with strong measurements, which fully collapse the state.  Weak measurements are achieved by intentionally making the interaction between the system and the measuring device very weak. The measurement process transfers only a small amount of information from the system to the device, and the wave function of the quantum system is only slightly disturbed. This allows for extracting some information without significantly altering the system.\n",
        "\n",
        "$\n",
        "A_w = \\frac{( \\langle \\phi_f | A |\\psi_i \\rangle )}{ ( \\langle \\phi_f | \\psi_i \\rangle )}\n",
        "$\n",
        "\n",
        "A weak measurement performed on a single qubit, where the observable being measured is the Pauli Z operator, where $\\alpha$ and $\\beta$ are complex numbers that represent the weights of the two terms in the sum. The value of $\\alpha$ is related to the probability of measuring the outcome 0, while the value of $\\beta$ is related to the probability of measuring the outcome 1. The magnitudes of $\\alpha$ and $\\beta$ represent the amount of information gained from the measurement. The weak value of an operator $A$ is often given by \\eq{weakmeasurement}, where $|\\psi_i \\rangle$ is the initial pre-selected state, $|\\phi_f \\rangle$ is the final post-selected state, and $A$ is the operator corresponding to the observable being measured.\n",
        "\n",
        "\n"
      ],
      "metadata": {
        "id": "1KyeWJp3bKJa"
      }
    },
    {
      "cell_type": "markdown",
      "source": [
        "**Holevo's Bound**\n",
        "\n",
        "Holevo's theorem (or Holevo's bound) is a fundamental principle in quantum information theory that reveals a crucial distinction: while a quantum system can exist in a superposition of many states (potentially encoding a vast amount of information), a single measurement can only reveal a limited amount of classical information. Specifically, Holevo's bound states that the maximum amount of classical information accessible from a single qubit is one bit, even if the qubit was initially prepared in a complex superposition \\cite{621.391.1:535.14}. This emphasizes the difference between the potential information encoded within a quantum system and the information we can practically extract through classical measurements.\n",
        "\n",
        "\n",
        "Holevo's theorem tells us that, despite the potentially vast information capacity of quantum systems, there is a strict upper limit on the amount of classical information that can be obtained from measuring those quantum systems. This means that you cannot always fully convert the rich information of quantum states into classical information."
      ],
      "metadata": {
        "id": "OSAA_16bpWwZ"
      }
    },
    {
      "cell_type": "markdown",
      "source": [
        "###### ***Mathematical Formulation & Postulates of Quantum Mechanics***"
      ],
      "metadata": {
        "id": "iptu2LVks6If"
      }
    },
    {
      "cell_type": "markdown",
      "source": [
        "![sciences](https://raw.githubusercontent.com/deltorobarba/repo/master/sciences_1698.jpg)"
      ],
      "metadata": {
        "id": "76nXvHNKhJtN"
      }
    },
    {
      "cell_type": "markdown",
      "source": [
        "https://en.m.wikipedia.org/wiki/Bra–ket_notation\n",
        "\n",
        "https://en.m.wikipedia.org/wiki/Quantum_state\n",
        "\n",
        "https://en.m.wikipedia.org/wiki/Measurement_in_quantum_mechanics\n",
        "\n",
        "https://en.m.wikipedia.org/wiki/Wave_function"
      ],
      "metadata": {
        "id": "g5_S-_U6lMXY"
      }
    },
    {
      "cell_type": "markdown",
      "source": [
        "https://www.linkedin.com/pulse/math-quantum-computing-hard-concept-simple-terms-teddy-porfiris/"
      ],
      "metadata": {
        "id": "VyXbQKw2Ktpw"
      }
    },
    {
      "cell_type": "markdown",
      "source": [
        "\"There are (at least) two possible ways to formulate precisely (i.e. mathematically) elementary\n",
        "QM. The eldest one, historically speaking, is due to von Neumann in essence, and is formulated using the language of Hilbert spaces and the spectral theory of unbounded operators. A more recent and mature formulation was developed by several authors in the attempt to solve quantum field theory problems in mathematical physics. It relies on the theory of abstract algebras (*-algebras and C* -algebras) that are built mimicking the operator algebras defined and studied, again, by von Neumann (nowadays known as W* -algebras or von Neumann algebras), but freed from the Hilbert-space structure. The core result is the celebrated GNS theorem (after Gelfand, Najmark and Segal), that we will prove in Chap. 14. The newer formulation can be considered an extension of the former one, in a very precise sense that we shall not go into here, also by virtue of the novel physical context it introduces and by the possibility of treating physical systems with infinitely many degrees of freedom, i.e. quantum fields. In particular, this second formulation makes precise sense of the demand for locality and covariance of relativistic quantum field theories, and allows to extend quantum field theories to a curved spacetime.\"\n",
        "-Valter Moretti"
      ],
      "metadata": {
        "id": "VNk-lacMqzQJ"
      }
    },
    {
      "cell_type": "markdown",
      "source": [
        "https://www.cs.cmu.edu/~odonnell/quantum15/lecture17.pdf\n",
        "\n",
        "https://quantum.phys.cmu.edu/QCQI/qitd463.pdf\n",
        "\n",
        "https://quantum.phys.cmu.edu/QCQI/qitd412.pdf"
      ],
      "metadata": {
        "id": "oQDonJmr5Q6o"
      }
    },
    {
      "cell_type": "markdown",
      "source": [
        "*Ehrenfest and the Liouville correspondence*\n",
        "\n",
        "* The Ehrenfest theorem and the Liouville's theorem provide important connections between the microscopic (quantum) and the macroscopic (classical) descriptions of physical systems.\n",
        "\n",
        "* **Ehrenfest Theorem**: In quantum mechanics, the Ehrenfest theorem provides a link between the quantum mechanical description of the motion of particles and the classical motion as described by Newton's laws. Named after Paul Ehrenfest, who proved it in 1927, it demonstrates how the expectation values (average values) of quantum observables (like position and momentum) evolve with time. **Under some circumstances, when quantum effects are small, these expectation values follow trajectories similar to classical mechanics.**\n",
        "\n",
        "* Mathematically, the Ehrenfest theorem states that the time derivative of the expectation value of an operator equals the expectation value of the time derivative of the operator. For position (x) and momentum (p), it can be written as:\n",
        "\n",
        "* d〈x〉/dt = 〈p〉/m  (Ehrenfest's first theorem, analogous to velocity = momentum/mass)\n",
        "d〈p〉/dt = -〈dV/dx〉  (Ehrenfest's second theorem, analogous to Newton's second law)\n",
        "\n",
        "* where V is the potential energy and m is the mass of the particle.\n",
        "\n",
        "* **Liouville's Theorem**: In classical statistical mechanics, Liouville's theorem describes the time evolution of phase space distribution function (a function that gives the probability of the system to be in a certain state with given position and momentum) in a Hamiltonian system (a system governed by Hamilton's equations). The theorem states that the distribution function is constant along the trajectories of the system. That is, the total phase space volume is conserved.\n",
        "\n",
        "* This provides a bridge between microscopic (individual particle trajectories) and macroscopic (bulk or average behavior) properties of the system. The Liouville's theorem is a cornerstone in the development of statistical mechanics and the concept of entropy.\n",
        "\n",
        "* Both of these theorems provide important links between classical and quantum descriptions of physics. They show that in certain limits, classical and quantum mechanical descriptions become similar, providing a physical intuition for the correspondence principle, which states that quantum mechanics must reproduce classical physics in the limit of large quantum numbers."
      ],
      "metadata": {
        "id": "PN6ALFTxu9-0"
      }
    },
    {
      "cell_type": "markdown",
      "source": [
        "https://phys.org/news/2023-01-scientists-quantum-harmonic-oscillator-room.html"
      ],
      "metadata": {
        "id": "6VMJ5J0fVOgM"
      }
    },
    {
      "cell_type": "markdown",
      "source": [
        "> Video: [Map of Quantum Physics](https://youtu.be/gAFAj3pzvAA)"
      ],
      "metadata": {
        "id": "OEoP77S6dgsE"
      }
    },
    {
      "cell_type": "markdown",
      "source": [
        "https://phys.org/news/2022-11-common-misconceptions-quantum-physics.html\n",
        "\n",
        "https://www.derstandard.de/story/2000140294674/wie-die-quantenphysik-mit-unserer-vorstellung-von-realitaet-aufraeumt\n",
        "\n",
        "https://physicsworld.com/a/how-the-stern-gerlach-experiment-made-physicists-believe-in-quantum-mechanics/"
      ],
      "metadata": {
        "id": "eT_D-OhRlWtg"
      }
    },
    {
      "cell_type": "markdown",
      "source": [
        "[Korrespondenzprinzip](https://de.m.wikipedia.org/wiki/Korrespondenzprinzip): Klassische Größen werden durch Operatoren ersetzt. Die quantenmechanische Aufenthaltswahrscheinlichkeitsdichte eines Teilchens ist proportional zum Quadrat der Wellenfunktion der Materiewelle an jener Stelle. Für große Quantenzahlen geht die quantenmechanische Wahrscheinlichkeitsdichte asymptotisch in die klassische über.\n",
        "\n",
        "![ggg](https://upload.wikimedia.org/wikipedia/commons/thumb/0/05/Korrespondenzprinzip.svg/640px-Korrespondenzprinzip.svg.png)\n"
      ],
      "metadata": {
        "id": "MSQgI9GjQAv7"
      }
    },
    {
      "cell_type": "markdown",
      "metadata": {
        "id": "MKKG0DSv8FhZ"
      },
      "source": [
        "*Postulate der Quantenmechanik (Kopenhagener Interpretation)*\n",
        "\n",
        "1. **Zustand**: Der Zustand eines physikalischen Systems zu einem Zeitpunkt $t_{0}$ wird durch die Angabe eines zum Zustandsraum $\\mathcal{H}$ gehörenden komplexen Zustandsvektors $\\left|\\psi\\left(t_{0}\\right)\\right\\rangle$ definiert. Vektoren, die sich nur um einen von 0 verschiedenen Faktor $c \\in \\mathbb{C}$ unterscheiden, beschreiben denselben Zustand. Der Zustandsraum des Systems ist ein Hilbertraum.\n",
        "\n",
        "2. **Observable**: Jede Größe $A$, die physikalisch , gemessen\" werden kann, ist durch einen im Zustandsraum wirkenden hermiteschen Operator $\\hat{A}$ beschrieben. Dieser Operator wird als Observable bezeichnet und hat ein reelles Spektrum mit einer vollständigen sogenannten Spektralschar, bestehend aus einem , diskreten\" Anteil mit Eigenvektoren und Eigenwerten (Punktspektrum) und aus einem Kontinuum.\n",
        "\n",
        "3. **Messresultat**: Resultat der Messung einer physikalischen Größe $A$ kann nur einer der Eigenwerte der entsprechenden Observablen $\\hat{A}$ sein oder bei kontinuierlichem Spektrum des Operators eine messbare Menge aus dem Kontinuum.\n",
        "\n",
        "4. **Messwahrscheinlichkeit im Fall eines diskreten nichtentarteten Spektrums**: Wenn die physikalische Größe $A$ an einem System im Zustand $|\\psi\\rangle$ gemessen wird, ist die Wahrscheinlichkeit $P\\left(a_{n}\\right)$, den nichtentarteten Eigenwert $a_{n}$ der entsprechenden Observable $\\hat{A}$ zu erhalten (mit dem zugehörigen Eigenvektor $\\left|u_{n}\\right\\rangle$ ) $P\\left(a_{n}\\right)=\\left|\\left\\langle u_{n} \\mid \\psi\\right\\rangle\\right|^{2}$. Dabei seien $\\psi$ und $u_{n}$ normiert.\n",
        "\n",
        "5. **Die Zeitentwicklung des Zustandsvektors** $|\\psi(t)\\rangle$ ist gegeben durch die folgende Schrödingergleichung, wobei $\\hat{H}(t)$ die der totalen Energie des Systems zugeordnete Observable ist:\n",
        "\n",
        ">$\\mathrm{i} \\hbar \\frac{\\partial}{\\partial t}|\\psi(t)\\rangle=\\hat{H}(t)|\\psi(t)\\rangle$\n",
        "\n",
        "http://vergil.chemistry.gatech.edu/notes/quantrev/node20.html"
      ]
    },
    {
      "cell_type": "markdown",
      "source": [
        "* [Mathematical_formulation_of_quantum_mechanics](https://en.m.wikipedia.org/wiki/Mathematical_formulation_of_quantum_mechanics)\n",
        "* [C*-algebra](https://en.m.wikipedia.org/wiki/C*-algebra)\n",
        "* [Quantum_geometry](https://en.m.wikipedia.org/wiki/Quantum_geometry)\n",
        "* [Noncommutative_geometry](https://en.m.wikipedia.org/wiki/Noncommutative_geometry)\n",
        "* [Geometric_quantization](https://en.m.wikipedia.org/wiki/Geometric_quantization)"
      ],
      "metadata": {
        "id": "wGmG22vunC0E"
      }
    },
    {
      "cell_type": "markdown",
      "source": [
        "![ggg](https://raw.githubusercontent.com/deltorobarba/repo/master/quantum_209.png)\n"
      ],
      "metadata": {
        "id": "q8MuXUSiqRrJ"
      }
    },
    {
      "cell_type": "markdown",
      "source": [
        "###### *Video: Crash course in density matrices*"
      ],
      "metadata": {
        "id": "Dc4_NJOgMN95"
      }
    },
    {
      "cell_type": "markdown",
      "metadata": {
        "id": "cE--P8idzoP-"
      },
      "source": [
        "**Video: [Crash course in density matrices](https://www.youtube.com/watch?v=1tserF6VGqI)**"
      ]
    },
    {
      "cell_type": "markdown",
      "metadata": {
        "id": "xWlXYxSBzPS3"
      },
      "source": [
        "**Single spin one half particle, focus on spin degrees of freedom & Pauli-matrices**\n",
        "\n",
        "* when the spin degrees of freedom interact with an electromagnetic field, the Pauli matrices come into play:\n",
        "\n",
        "> $\\sigma^{Z}=\\left(\\begin{array}{cc}1 & 0 \\\\ 0 & -1\\end{array}\\right) \\quad \\sigma^{X}=\\left(\\begin{array}{ll}0 & 1 \\\\ 1 & 0\\end{array}\\right) \\quad \\sigma^{Y}=\\left(\\begin{array}{cc}0 & -i \\\\ i & 0\\end{array}\\right)$\n",
        "\n",
        "* we have chosen a basis in such a way that the Pauli Z matrix is diagonal. Here are its basis vectors, the spin up in the z direction and the spin down direction, written as column vectors:\n",
        "\n",
        "> $|\\uparrow\\rangle=\\left(\\begin{array}{l}1 \\\\ 0\\end{array}\\right) \\quad |\\downarrow\\rangle=\\left(\\begin{array}{l}0 \\\\ 1\\end{array}\\right)$\n",
        "\n",
        "* we can re-express the basis vectors for the Pauli X matrix in either direction in terms of these vectors, but in the positive direction we can write it in the following way:\n",
        "\n",
        "> $|\\rightarrow\\rangle=\\frac{1}{\\sqrt{2}}(|\\uparrow\\rangle+|\\downarrow\\rangle)$"
      ]
    },
    {
      "cell_type": "markdown",
      "metadata": {
        "id": "yvOyiyJtzRtd"
      },
      "source": [
        "**States we are used to use in quantum mechanics are called 'pure states'.**\n",
        "\n",
        "* Any state can be written as the linear combination of the up and down vectors in the z-direction\n",
        "\n",
        "> $|\\psi\\rangle=a|\\uparrow\\rangle+b|\\downarrow\\rangle$\n",
        "\n",
        "* a and b are complex numbers whose modulus squared sum to 1\n",
        "\n",
        "> $\\langle\\psi \\mid \\psi\\rangle=|a|^{2}+|b|^{2}$\n",
        "\n",
        "* a and b can be referred to as the probability amplitudes, where their modulus squared are the probabilities that the system is in a particular configuration.\n",
        "\n",
        "* If we perform an ensemble of measurements on the system, we will find that the mean or expected value, for example of the Pauli-Z matrix, will be given by:\n",
        "\n",
        "> $\\left\\langle\\sigma^{Z}\\right\\rangle=\\left\\langle\\psi\\left|\\sigma^{Z}\\right| \\psi\\right\\rangle$"
      ]
    },
    {
      "cell_type": "markdown",
      "metadata": {
        "id": "uZoOoevVzUPa"
      },
      "source": [
        "**Dynamics: if we want to study how a quantum system changes in time, we usually refer to the Schroedinger equation.**\n",
        "\n",
        "> $i \\frac{d}{d t}|\\psi(t)\\rangle=\\hat{H}|\\psi\\rangle$\n",
        "\n",
        "* the operator $\\hat{H}$ is called the Hamiltonian and it tells us about the total energy in a system, and how things in a system interact with each other.\n",
        "\n",
        "* the easiest way to solve this problem is to first solve the Eigenvalue problem, which involves finding the Eigenvectors and the Eigenvalues of the hamiltonian. We are able the different values of the Eigenvalues and Eigenvectors with the label k:\n",
        "\n",
        "> $\\hat{H}\\left|E_{k}\\right\\rangle=E_{k}\\left|E_{k}\\right\\rangle$\n",
        "\n",
        "* This allows us to know that the Eigenvectors, when plugged into the Schroedinger equation ...\n",
        "\n",
        "> $i \\frac{d}{d t}\\left|E_{k}\\right\\rangle=\\hat{H}\\left|E_{k}\\right\\rangle=E_{k}\\left|E_{k}\\right\\rangle$\n",
        "\n",
        "* ... just pick up a phase in time depending on the energy they correspond to:\n",
        "\n",
        "> $\\left|E_{k}(t)\\right\\rangle=e^{-i E_{k} t}\\left|E_{k}\\right\\rangle$"
      ]
    },
    {
      "cell_type": "markdown",
      "metadata": {
        "id": "jitINkMkzWk-"
      },
      "source": [
        "**Now to sum more general situation with some generic state $\\psi$**\n",
        "\n",
        "* we can decompose $\\psi$ in terms of energy Eigenbasis:\n",
        "\n",
        "> $|\\psi\\rangle=\\sum_{m} c_{m}\\left|E_{m}\\right\\rangle$\n",
        "\n",
        "* where $c_{m}$ is given by the inner product of the energy Eigenvector labelled by m and $\\psi$ itself:\n",
        "\n",
        "> $c_{m}=\\left\\langle E_{m} \\mid \\psi\\right\\rangle$\n",
        "\n",
        "* We can then time-evolve the state by simply time-evolving the energy Eigen-Kets:\n",
        "\n",
        "> $|\\psi(t)\\rangle=\\sum_{m} c_{m} e^{-i E_{m} t}\\left|E_{m}\\right\\rangle$\n",
        "\n",
        "* Tracking the expectation value of an observable is quite easy: Simply applying the state vector in time to both sides of the matrix gives the following equation:\n",
        "\n",
        "> $\\langle A(t)\\rangle=\\sum_{m, n} \\bar{c}_{n} c_{m} A_{n, m} e^{i\\left(E_{n}-E_{m}\\right) t}$\n",
        "\n",
        "* Where we have labelled the matrix entries of a by the energy Eigenbasis in the following way:\n",
        "\n",
        "> $A_{n, m}=\\left\\langle E_{n}|A| E_{m}\\right\\rangle$"
      ]
    },
    {
      "cell_type": "markdown",
      "metadata": {
        "id": "utZdbq6QzZD9"
      },
      "source": [
        "**Propeties of the trace of a matrix**\n",
        "\n",
        "* We have a basis of states labeled by j $|j\\rangle, j=1,2$.. N that form a complete orthonormal basis. Then I write the trace of a matrix in the following way:\n",
        "\n",
        "> $\\operatorname{Tr}(A)=\\sum_{j}\\langle j|A| j\\rangle$\n",
        "\n",
        "* the trace is a linear mapping which tells us that we can separate the trace of the sum of two matrices apart like this, and we can also pull scalar multiples outside of the trace:\n",
        "\n",
        "> $\\operatorname{Tr}(A+B)=\\operatorname{Tr} A+\\operatorname{Tr} B$ with $\\operatorname{Tr}(c A)=c \\operatorname{Tr} A$\n",
        "\n",
        "* When we take the trace of two matrices multiplied by each other, the trace is invariant under swapping the two matrices inside of the trace.\n",
        "\n",
        "> $\\operatorname{Tr}(A B)=\\operatorname{Tr}(B A)$"
      ]
    },
    {
      "cell_type": "markdown",
      "metadata": {
        "id": "9Om09eqlza4O"
      },
      "source": [
        "**Density Matrices**\n",
        "\n",
        "* Going from a pure state represented by a Ket we can introduce the density matrix which is a completely equivalent way to represent the state of a quantum system\n",
        "\n",
        "* the density matrix in this context is just the outer product of the state with itself:\n",
        "\n",
        "> $\\rho=|\\psi\\rangle\\langle\\psi|$\n",
        "\n",
        "* the expectation value is rewritten in terms of a trace, but it is mathematically equivalent to the earlier expression:\n",
        "\n",
        "> $\\left\\langle\\sigma^{Z}\\right\\rangle=\\operatorname{Tr}\\left(\\rho \\sigma^{2}\\right)=\\left\\langle\\psi\\left|\\sigma^{Z}\\right| \\psi\\right\\rangle$\n",
        "\n",
        "* the density matrix has two fundamental properties: it's trace is 1 in the context of a pure state:\n",
        "\n",
        "> $\\operatorname{Tr} \\rho=1$\n",
        "\n",
        "> $\\operatorname{Tr}|\\psi\\rangle\\left\\langle\\left.\\psi|=|\\langle\\psi \\mid \\psi\\rangle\\right|^{2}=1\\right.$\n",
        "\n",
        "* and it's a positive operator:\n",
        "\n",
        "> $\\rho \\geq 0$\n",
        "\n",
        "* If I take any state vector our state space and perform the following operation, then the result is always greater than or equal to zero:\n",
        "\n",
        "> $\\langle\\phi|\\rho| \\phi\\rangle=|\\langle\\phi \\mid \\psi\\rangle|^{2} \\geq 0$"
      ]
    },
    {
      "cell_type": "markdown",
      "metadata": {
        "id": "wuLO_P1u6FBJ"
      },
      "source": [
        "**Dynamics: von Neumann equation of time evolution**\n",
        "\n",
        "* show from the Schroedinger equation we can derive the von Neumann equation of time evolution:\n",
        "\n",
        "> $i \\frac{\\partial \\rho}{\\partial t}=[\\hat{H}, \\rho]$\n",
        "\n",
        "* It features the commutation relationship between the Hamiltonian and the density matrix itself\n",
        "\n",
        "* then the expectation value for an observable in time can be rewritten in the following way:\n",
        "\n",
        "> $\\langle A(t)\\rangle=\\operatorname{Tr}(\\rho(t) A)$\n",
        "\n",
        "* where the density matrix $\\rho$ evolves with the Hamiltonian being applied to it in time:\n",
        "\n",
        "> $\\rho(t)=e^{-i \\hat{H} t} \\rho e^{i \\hat{H} t}$\n",
        "\n",
        "*  similarly re-expressed in the basis of the energy Eigenvalues\n",
        "\n",
        "> $\\rho(t)=\\sum_{m, n} \\rho_{m, n} e^{-i\\left(E_{m}-E_{n}\\right) t}\\left|E_{m}\\right\\rangle\\left\\langle E_{n}\\right|$\n",
        "\n",
        "* where $\\rho_{m,n}$ can be written in the following way, where we have re-expressed its entries in terms of the energy Eigenbasis:\n",
        "\n",
        "> $\\rho_{m, n}=\\left\\langle E_{m}|\\rho| E_{n}\\right\\rangle$\n"
      ]
    },
    {
      "cell_type": "markdown",
      "metadata": {
        "id": "Xmo42wRj8v6C"
      },
      "source": [
        "**Mixed States**\n",
        "\n",
        "* what if we are unsure of what pure state our system is in? (We are somehow ignorant / unwissend to what pure state we are in)\n",
        "\n",
        "* then we can describe a statistical ensemble of pure states which we call a mixed states\n",
        "\n",
        "> $\\rho=\\sum_{j} p_{j}\\left|\\psi_{j}\\right\\rangle\\left\\langle\\psi_{j}\\right|$\n",
        "\n",
        "* the ensemble is written as a sum of pure states with probabilities $p_j$ and the probabilities are greater than zero and sum up to one:\n",
        "\n",
        "> $p_{j} \\geq 0 \\quad \\sum_{j} p_{j}=1$\n",
        "\n",
        "* Mixed states are also trace 1 and are positive operators:\n",
        "\n",
        "> $\\operatorname{Tr} \\rho=1, \\quad \\rho \\geq 0$\n",
        "\n",
        "* Dynamics and the expectation values work in an identical way"
      ]
    },
    {
      "cell_type": "markdown",
      "metadata": {
        "id": "NUFROLA7BPGU"
      },
      "source": [
        "**Non-uniqueness of mixed states decomposition**\n",
        "\n",
        "* Interestingly it's not completely correct to interpret $p_j$ as the probability of being in a particular state labeled by j.\n",
        "\n",
        "* To see this consider the following example let $\\rho$ be a mixed state written in the following way:\n",
        "\n",
        "> $\\rho=\\frac{4}{5}|\\downarrow\\rangle\\left\\langle\\downarrow\\left|+\\frac{1}{5}\\right| \\uparrow\\right\\rangle\\langle\\uparrow|$\n",
        "\n",
        "* we say the system is in state down with probability 4/5 and in state up with 1/5.\n",
        "\n",
        "* What if I prepared two other states with the following new state vectors a and b with the following probability amplitudes of being in down or up state:\n",
        "\n",
        "> $|a\\rangle=\\sqrt{\\frac{4}{5}}|\\downarrow\\rangle+\\frac{1}{\\sqrt{5}}|\\uparrow\\rangle$\n",
        "\n",
        "> $|b\\rangle=\\sqrt{\\frac{4}{5}}|\\downarrow\\rangle-\\frac{1}{\\sqrt{5}}|\\uparrow\\rangle$\n",
        "\n",
        "* Then if we prepare these states with probability one-half:\n",
        "\n",
        "> $\\rho=\\frac{1}{2}|a\\rangle\\left\\langle a\\left|+\\frac{1}{2}\\right| b\\right\\rangle\\langle b|$\n",
        "\n",
        "* We see that we get the same density matrix as before working this out expanding the definitions of a and b allows us to arrive at our original density matrix:\n",
        "\n",
        "> $\\rho=\\frac{4}{5}|\\downarrow\\rangle\\left\\langle\\downarrow\\left|+\\frac{1}{5}\\right| \\uparrow\\right\\rangle\\langle\\uparrow|$\n",
        "\n",
        "* Therefore two different ensembles of pure states can give rise to the same mixed state and we must be careful when we interpret $p_j$ as strictly probabilities of a particular system being strictly in its associated pure state in the sum.\n",
        "\n",
        "* Finally, if you get a matrix how could you tell if it's pure or mixed? Mathematically quite simple way to check: square the matrix and take its trace. If the trace is still 1, we say that the density matrix is pure if it is less than one then we say it's mixed. This is actually independent of the time evolution.\n",
        "\n",
        "> $\\operatorname{Tr}\\left(\\rho^{2}\\right) \\leq 1$"
      ]
    },
    {
      "cell_type": "markdown",
      "source": [
        "###### *Video: Two qubit state: Separable vs Entangled vs Bell states*"
      ],
      "metadata": {
        "id": "JOaZtVt6Lvmp"
      }
    },
    {
      "cell_type": "markdown",
      "source": [
        "Video: [Two qubit state: Separable vs Entangled vs Bell states](https://www.youtube.com/watch?v=4BRQsrh4oGw)\n",
        "\n",
        "Suppose we have a composite quantum system made up of two qubits, how do we describe its state? In this video, we discuss how to describe such composite system in terms of its tensor product. We define the concept of separable versus entangled states in such composite two qubit system. We also explain how one can define a reduced density matrix for the subsystems, and from which a measure for the degree of entanglement can be established. We introduced the Bell states, which are two qubit states with maximum entanglement."
      ],
      "metadata": {
        "id": "PH5fchRGLyf3"
      }
    },
    {
      "cell_type": "markdown",
      "source": [
        "![sciences](https://raw.githubusercontent.com/deltorobarba/repo/master/sciences_1798.png)"
      ],
      "metadata": {
        "id": "JD4HBY4yMDKp"
      }
    },
    {
      "cell_type": "markdown",
      "source": [
        "![sciences](https://raw.githubusercontent.com/deltorobarba/repo/master/sciences_1799.png)"
      ],
      "metadata": {
        "id": "Qt-CyO_KMGIQ"
      }
    },
    {
      "cell_type": "markdown",
      "source": [
        "![sciences](https://raw.githubusercontent.com/deltorobarba/repo/master/sciences_1800.png)"
      ],
      "metadata": {
        "id": "Hld1cAQNMHVg"
      }
    },
    {
      "cell_type": "markdown",
      "source": [
        "The following equation an example of bilinearity, because the first operator acts on the first quantum state and the second on the second and ignoring the other in both cases\n",
        "\n",
        "Yes, this equation is an example of bilinearity. In this case, the tensor product axiom demonstrates how two operators A and B act independently on two separate quantum states ∣ψ⟩ and ∣ϕ⟩. This is a bilinear operation because: A⊗B acts on the combined state ∣ψ⟩⊗∣ϕ⟩.\n",
        "\n",
        "A acts only on ∣ψ⟩, and B acts only on ∣ϕ⟩, ignoring the other state in each case. Thus, the operator on one system does not affect the other system, and the action is linear in each argument independently, which is the definition of bilinearity in this context."
      ],
      "metadata": {
        "id": "gs1rCKMqNoP3"
      }
    },
    {
      "cell_type": "markdown",
      "source": [
        "![sciences](https://raw.githubusercontent.com/deltorobarba/repo/master/sciences_1801.png)"
      ],
      "metadata": {
        "id": "WC3bpFs4MJPU"
      }
    },
    {
      "cell_type": "markdown",
      "source": [
        "![sciences](https://raw.githubusercontent.com/deltorobarba/repo/master/sciences_1802.png)"
      ],
      "metadata": {
        "id": "Pc4TQ2fIMJ9z"
      }
    },
    {
      "cell_type": "markdown",
      "source": [
        "![sciences](https://raw.githubusercontent.com/deltorobarba/repo/master/sciences_1803.png)"
      ],
      "metadata": {
        "id": "4o1KN5pGMLtk"
      }
    },
    {
      "cell_type": "markdown",
      "source": [
        "![sciences](https://raw.githubusercontent.com/deltorobarba/repo/master/sciences_1804.png)"
      ],
      "metadata": {
        "id": "KrQQ1gGRMMkF"
      }
    },
    {
      "cell_type": "markdown",
      "source": [
        "![sciences](https://raw.githubusercontent.com/deltorobarba/repo/master/sciences_1805.png)"
      ],
      "metadata": {
        "id": "btYoS7vzMNV9"
      }
    },
    {
      "cell_type": "markdown",
      "source": [
        "![sciences](https://raw.githubusercontent.com/deltorobarba/repo/master/sciences_1806.png)"
      ],
      "metadata": {
        "id": "Yc5PWWPrMOZ4"
      }
    },
    {
      "cell_type": "markdown",
      "source": [
        "![sciences](https://raw.githubusercontent.com/deltorobarba/repo/master/sciences_1807.png)"
      ],
      "metadata": {
        "id": "rW6OG55lMPh0"
      }
    },
    {
      "cell_type": "markdown",
      "source": [
        "![sciences](https://raw.githubusercontent.com/deltorobarba/repo/master/sciences_1808.png)"
      ],
      "metadata": {
        "id": "1P1q4xUJMQde"
      }
    },
    {
      "cell_type": "markdown",
      "source": [
        "![sciences](https://raw.githubusercontent.com/deltorobarba/repo/master/sciences_1818.png)"
      ],
      "metadata": {
        "id": "YFFdaWs9VrtK"
      }
    },
    {
      "cell_type": "markdown",
      "source": [
        "How would the formula for the expectation value ⟨P⟩=Tr(ρPᵢ)  look like on the previous example with j and k, instead of computing the partial trace?\n",
        "\n",
        "![sciences](https://raw.githubusercontent.com/deltorobarba/repo/master/sciences_1817.png)"
      ],
      "metadata": {
        "id": "mJ48VoJAUQkD"
      }
    },
    {
      "cell_type": "markdown",
      "source": [
        "![sciences](https://raw.githubusercontent.com/deltorobarba/repo/master/sciences_1809.png)"
      ],
      "metadata": {
        "id": "O_-ev_MpMRX3"
      }
    },
    {
      "cell_type": "markdown",
      "source": [
        "![sciences](https://raw.githubusercontent.com/deltorobarba/repo/master/sciences_1810.png)"
      ],
      "metadata": {
        "id": "VU0qI9DFMSZn"
      }
    },
    {
      "cell_type": "markdown",
      "source": [
        "![sciences](https://raw.githubusercontent.com/deltorobarba/repo/master/sciences_1811.png)"
      ],
      "metadata": {
        "id": "o11FWsc9MTxw"
      }
    },
    {
      "cell_type": "markdown",
      "source": [
        "All separable states have trace rho squared = 1. (At 'zero entanglement' slide)\n",
        "\n",
        "A separable state has a reduced density that can be written as a single outer product."
      ],
      "metadata": {
        "id": "-6fbyYZPMc85"
      }
    },
    {
      "cell_type": "markdown",
      "source": [
        "![sciences](https://raw.githubusercontent.com/deltorobarba/repo/master/sciences_1812.png)"
      ],
      "metadata": {
        "id": "SEsosu_cMUmh"
      }
    },
    {
      "cell_type": "markdown",
      "source": [
        "![sciences](https://raw.githubusercontent.com/deltorobarba/repo/master/sciences_1813.png)"
      ],
      "metadata": {
        "id": "U7SB8NmUMVpQ"
      }
    },
    {
      "cell_type": "markdown",
      "source": [
        "When a reduced density matrix is in a perfectly mixed state then its density matrix is proportional to the identity matrix. Means there is equal likelihood for the quantum state to be in nay of the basis states."
      ],
      "metadata": {
        "id": "EtTR-K2EMheH"
      }
    },
    {
      "cell_type": "markdown",
      "source": [
        "![sciences](https://raw.githubusercontent.com/deltorobarba/repo/master/sciences_1814.png)"
      ],
      "metadata": {
        "id": "gFv9mva6MWyG"
      }
    },
    {
      "cell_type": "markdown",
      "source": [
        "![sciences](https://raw.githubusercontent.com/deltorobarba/repo/master/sciences_1815.png)"
      ],
      "metadata": {
        "id": "TYVy_ngcMXrc"
      }
    },
    {
      "cell_type": "markdown",
      "source": [
        "![sciences](https://raw.githubusercontent.com/deltorobarba/repo/master/sciences_1816.png)"
      ],
      "metadata": {
        "id": "zTpqhU-IMYpH"
      }
    },
    {
      "cell_type": "markdown",
      "source": [
        "###### ***Ket $|\\psi\\rangle$ - State Space $V$(Vector)*** *- also: Wave Function (Pure State, Postulate I)*"
      ],
      "metadata": {
        "id": "jBh1Tr-vn_4f"
      }
    },
    {
      "cell_type": "markdown",
      "metadata": {
        "id": "XtcIVsSgCSld"
      },
      "source": [
        "> <font color=\"blue\">**<u>Postulate I of Quantum Mechanics</u>: The state of a physical system is characterized by a state vector that belongs to a complex vector space $\\mathcal{V}$, called the state space of the system**\n",
        "\n",
        "* State Space Formalism: unification of Schrodinger wave mechanics and matrix mechanics (Heisenberg, Born, Jordan), both are equivalent.\n",
        "\n",
        "* **Matrix mechanics ('matrix formulation'): Most useful when we deal with finite, discrete bases (like spin). Then it reduces to the rules of simple matrix multiplication**. Kronecker delta\n",
        "\n",
        "* **Schrodinger wave mechanics: for continuous basis (like position)** Dirac delta function\n",
        "\n",
        "* State Space: the vector space in which quantum systems live\n",
        "\n",
        "  * Euclidean space: classical physics, 3D, real, inner product (Hilbert Space)\n",
        "\n",
        "  * State space: quantum physics, infinite dimensions, complex numbers, inner product (Hilbert Space)\n",
        "\n",
        "Video: [Dirac notation: state space and dual space](https://www.youtube.com/watch?v=hJoWM9jf0gU)"
      ]
    },
    {
      "cell_type": "markdown",
      "metadata": {
        "id": "WlC5y6Hpsj_E"
      },
      "source": [
        "<font color=\"blue\">*Ket Algebra - Quantum State Vector*\n",
        "\n",
        "**A Ket $|\\psi\\rangle$ $\\doteq$ $\\left[\\begin{array}{l}a_{0} \\\\ a_{1}\\end{array}\\right]$, also called 'quantum state', <u>represents</u> the wave function of a quantum system (\"Psi\")**, consisting of **probability amplitudes**. This Quantum state is a **stochastic vector**, written as a column vector.\n",
        "\n",
        "> **A Ket is technically a pure quantum state**.\n",
        "\n",
        "* Wave function notation to describe superposition of Pure States.\n",
        "\n",
        "So, you have an (orthonormal) basis with 3 vectors and coefficients, to describe a vector in space (in Hilbert space):\n",
        "\n",
        "> $\\vec{v}=$<font color='blue'>$2$</font>$\\left(\\begin{array}{l}1 \\\\ 0 \\\\ 0\\end{array}\\right)$<font color='blue'>$+3$</font>$\\left(\\begin{array}{l}0 \\\\ 1 \\\\ 0\\end{array}\\right)$<font color='blue'>$+0$</font>$\\left(\\begin{array}{l}0 \\\\ 0 \\\\ 1\\end{array}\\right)$\n",
        "\n",
        "The basis vectors will all entries in 0 and only one with 1 correspond to possibe measurement outcomes (spin up or down).\n",
        "\n",
        "The coefficients can be collected in one vector and are complex numbers:\n",
        "\n",
        "> $\\vec{v}=$<font color='blue'>$\\left(\\begin{array}{l}2 \\\\ 3 \\\\ 0\\end{array}\\right)$</font>\n",
        "\n",
        "An arbitrary state for a qubit can be written as a linear combination of the Pauli matrices, which provide a basis for $2 \\times 2$ self-adjoint matrices:\n",
        "\n",
        "> $\n",
        "\\rho=\\frac{1}{2}\\left(I+r_{x} \\sigma_{x}+r_{y} \\sigma_{y}+r_{z} \\sigma_{z}\\right)\n",
        "$\n",
        "\n",
        "* where the real numbers $\\left(r_{x}, r_{y}, r_{z}\\right)$ are the coordinates of a point within the unit ball and\n",
        "\n",
        "> $\n",
        "\\sigma_{x}=\\left(\\begin{array}{ll}\n",
        "0 & 1 \\\\\n",
        "1 & 0\n",
        "\\end{array}\\right), \\quad \\sigma_{y}=\\left(\\begin{array}{cc}\n",
        "0 & -i \\\\\n",
        "i & 0\n",
        "\\end{array}\\right), \\quad \\sigma_{z}=\\left(\\begin{array}{cc}\n",
        "1 & 0 \\\\\n",
        "0 & -1\n",
        "\\end{array}\\right)\n",
        "$\n"
      ]
    },
    {
      "cell_type": "markdown",
      "source": [
        "Siehe auch: [Projective Hilbert Space](https://en.m.wikipedia.org/wiki/Projective_Hilbert_space) with rays or projective rays"
      ],
      "metadata": {
        "id": "_sFD45vxEg5a"
      }
    },
    {
      "cell_type": "markdown",
      "metadata": {
        "id": "GgSzA4IwURCu"
      },
      "source": [
        "<font color=\"blue\">*Multiply Ket with a Scalar: Vector-Scalar-Multiplication*\n",
        "\n",
        "Vector-Scalar:\n",
        "\n",
        "$\\left[\\begin{array}{l}x_{0} \\\\ x_{1}\\end{array}\\right] \\otimes\\left[y_{0}\\right]=\\left[\\begin{array}{l}x_{0}\\left[y_{0}\\right] \\\\ x_{1}\\left[y_{0}\\right]\\end{array}\\right]=\\left[\\begin{array}{l}x_{0} y_{0} \\\\ x_{1} y_{0}\\end{array}\\right]$\n",
        "\n",
        "\n",
        "<font color=\"blue\">*Multiply Ket with another Ket: Ket - Tensor Product (Vector-Vector-Multiplication, Kronecker Product)*\n",
        "\n",
        "> $\\mathbf{uv}$ = $\\left[\\begin{array}{c}u_{1} \\\\ u_{2}\\end{array}\\right]$ $\\otimes$ $\\left[\\begin{array}{c}v_{1} \\\\ v_{2} \\end{array}\\right]$ = $\\left[\\begin{array}{l}u_{1}\\left[\\begin{array}{l}v_{1} \\\\ v_{2}\\end{array}\\right] \\\\ u_{2}\\left[\\begin{array}{l}v_{1} \\\\ v_{2}\\end{array}\\right]\\end{array}\\right]$=  $\\left[\\begin{array}{c}u_{1} v_{1} \\\\ u_{1} v_{2}\\\\ u_{2} v_{1} \\\\ u_{2} v_{2}\\end{array}\\right]$\n",
        "\n",
        "*Zur Kombination von Quantum States:*\n",
        "\n",
        "> $\\left[\\begin{array}{l}1 \\\\ 0\\end{array}\\right]=|0\\rangle, \\quad\\left[\\begin{array}{l}0 \\\\ 1\\end{array}\\right]=|1\\rangle$.\n",
        "\n",
        "We choose two qubits in state $|0\\rangle$:\n",
        "\n",
        "> $|0\\rangle \\otimes|0\\rangle = \\left[\\begin{array}{l}1 \\\\ 0\\end{array}\\right] \\otimes\\left[\\begin{array}{l}1 \\\\ 0\\end{array}\\right]=$</font> $\\left[\\begin{array}{l}1\\left[\\begin{array}{l}1 \\\\ 0\\end{array}\\right] \\\\ 0\\left[\\begin{array}{l}1 \\\\ 0\\end{array}\\right]\\end{array}\\right]=$ $\\left [\\begin{array}{l}11 \\\\ 10 \\\\ 01 \\\\ 00\\end{array}\\right]$ = <font color=\"gray\">$\\left [\\begin{array}{l}3 \\\\ 2 \\\\ 1 \\\\ 0\\end{array}\\right]$</font> = <font color=\"blue\">$\\left [\\begin{array}{l}1 \\\\ 0 \\\\ 0 \\\\ 0\\end{array}\\right]$\n",
        "\n",
        "Quits in two different states:\n",
        "\n",
        "> $|0\\rangle \\otimes|1\\rangle = \\left[\\begin{array}{l}1 \\\\ 0\\end{array}\\right] \\otimes\\left[\\begin{array}{l}0 \\\\ 1\\end{array}\\right]=\\left[\\begin{array}{l}1\\left[\\begin{array}{l}0 \\\\ 1\\end{array}\\right] \\\\ 0\\left[\\begin{array}{l}0 \\\\ 1\\end{array}\\right]\\end{array}\\right]=\\left[\\begin{array}{l}0 \\\\ 1 \\\\ 0 \\\\ 0\\end{array}\\right]$"
      ]
    },
    {
      "cell_type": "markdown",
      "metadata": {
        "id": "LH8JeO4mW4q6"
      },
      "source": [
        "**How do we represent Ket's in a particular basis?**\n",
        "\n",
        "> <font color=\"blue\">$|\\psi\\rangle=\\sum_{i} c_{i}\\left|u_{i}\\right\\rangle \\quad$ where: $c_{i}=\\left\\langle u_{i} \\mid \\psi\\right\\rangle$\n",
        "\n",
        "Video: [Representations in quantum mechanics](https://www.youtube.com/watch?v=rp2k2oR5ZQ8)\n",
        "\n",
        "\n",
        "> $\\left\\{c_{i}\\right\\}$ are the representation of $|\\psi\\rangle$ in the $\\left\\{\\left|u_{i}\\right\\rangle\\right\\}$ basis\n",
        "\n",
        "![ggg](https://raw.githubusercontent.com/deltorobarba/repo/master/quantum_210.png)\n",
        "\n",
        "![ggg](https://raw.githubusercontent.com/deltorobarba/repo/master/quantum_211.png)\n",
        "\n",
        "* a und b coefficients in euclidean space sind wie $u_i$ coefficients in quantum state space. (difference is bra-ket, wo bra das conjugate complex ist als dot product mit ket: es ist im erstem argument antilinear!).\n",
        "\n",
        "* expansion coefficients c are given by projection of the Ket onto the basis states u:\n",
        "\n",
        "![ggg](https://raw.githubusercontent.com/deltorobarba/repo/master/quantum_212.png)\n",
        "\n",
        "* Here we can take out $|\\Psi\\rangle$ because it doesnt explicitely depend on $_i$:\n",
        "\n",
        "![ggg](https://raw.githubusercontent.com/deltorobarba/repo/master/quantum_213.png)"
      ]
    },
    {
      "cell_type": "markdown",
      "metadata": {
        "id": "P0xfgmufRt0W"
      },
      "source": [
        "**Additional Ket-Algebra**\n",
        "\n",
        "![ggg](https://raw.githubusercontent.com/deltorobarba/repo/master/quantum_202.png)\n",
        "\n",
        "![ggg](https://raw.githubusercontent.com/deltorobarba/repo/master/quantum_203.png)\n",
        "\n",
        "For euclidean space: the scalar product is linear both in first and second argument:\n",
        "\n",
        "![ggg](https://raw.githubusercontent.com/deltorobarba/repo/master/quantum_204.png)\n",
        "\n",
        "For state space: the scalar product is only linear in the second argument (and antilinear in the first argument):\n",
        "\n",
        "![ggg](https://raw.githubusercontent.com/deltorobarba/repo/master/quantum_205.png)"
      ]
    },
    {
      "cell_type": "markdown",
      "source": [
        "###### ***Bra $\\langle \\psi |$ - Dual Space $V^{*}$ (Covector)***"
      ],
      "metadata": {
        "id": "cqdowsM5oHEP"
      }
    },
    {
      "cell_type": "markdown",
      "source": [
        "1. **$|\\psi\\rangle$**: This is a quantum state, often called a 'ket' in the Dirac notation. It represents the state of a quantum system, which could be a single qubit or a system of multiple qubits.\n",
        "* **|ψ⟩:** This is the quantum state of the system. The state represents the configuration of the system's components, and it can be represented by a complex vector in a Hilbert space.\n",
        "\n",
        "2. **$\\langle\\psi|$**: This is the bra corresponding to the ket $|\\psi\\rangle $. In Dirac notation, $\\langle\\psi|$) represents the conjugate transpose of $|\\psi\\rangle$.\n",
        "\n",
        "* **⟨ψ|:** This denotes the inner product of the quantum state |ψ⟩ with itself. This inner product represents the overlap between the two states |ψ⟩ and |ψ⟩, which is a measure of their similarity.\n"
      ],
      "metadata": {
        "id": "_g5-XOuYVQ1X"
      }
    },
    {
      "cell_type": "markdown",
      "metadata": {
        "id": "8NOxv3yFtjD1"
      },
      "source": [
        "**How do we represent Bra's in a particular basis?**\n",
        "\n",
        "* Bra $\\langle \\Psi|$ is an element of the dual vector space $V^*$\n",
        "\n",
        "* Bra Psi times the identity operator ($\\langle \\Psi| * \\mathbb{I}$), and then write the identity operator out (its resolution in the u basis)\n",
        "\n",
        "* psi doesnt explicitylt depend on i, so we can write it into the summation, which brings us to this expression\n",
        "\n",
        "> $\\sum_{i}\\left\\langle\\psi \\mid u_{i}\\right\\rangle\\left\\langle u_{i}\\right|$\n",
        "\n",
        "* This is an expression for the bra psi in terms of the basis bra's u, and then the expansion coefficients are the brackets between psi and u $\\left\\langle\\psi \\mid u_{i}\\right\\rangle$\n",
        "\n",
        "\n",
        "If we look at these expansion coefficients $\\left\\langle\\psi \\mid u_{i}\\right\\rangle$, we can use the conjugation property of the scalar product to rewrite them like this:\n",
        "\n",
        "> $\\left\\langle\\psi \\mid u_{i}\\right\\rangle$ = $\\left\\langle u_{i} \\mid \\psi \\right\\rangle^*$ = $c_i^*$\n",
        "\n",
        "**The expansion coefficients are the complex conjugates of the expansion coefficients of the Ket**\n",
        "\n",
        "![ggg](https://raw.githubusercontent.com/deltorobarba/repo/master/quantum_214.png)"
      ]
    },
    {
      "cell_type": "markdown",
      "source": [
        "###### ***Bra-Ket $\\langle \\psi |\\psi\\rangle = c$ - Linear Form (Covector-Vector)*** *- also: Projective Measurement*"
      ],
      "metadata": {
        "id": "1fAAZcgWoiJB"
      }
    },
    {
      "cell_type": "markdown",
      "metadata": {
        "id": "0A6siRC6YyVY"
      },
      "source": [
        "> **Bra-Ket - Projective Measurement (Kovector-Vector-Multiplication, Born Rule)**\n",
        "\n",
        "* Dirac delta function (a distribution!) = quantum measurement\n",
        "\n",
        "* See also [wiki: Bra–ket notation](https://en.m.wikipedia.org/wiki/Bra–ket_notation)\n",
        "\n",
        "* From 'Exterior algebra' $\\rightarrow$ 'Multilinear Forms':\n",
        "\n",
        "  * **A row vector can be thought of as a function (as a form), rather than a row vector, that acts on another vector.**\n",
        "\n",
        "  * In Quantum mechanics: Linear functionals are particularly important in quantum mechanics. Quantum mechanical systems are represented by Hilbert spaces, which are [anti–isomorphic](https://en.m.wikipedia.org/wiki/Antiisomorphism) to their own dual spaces. A state of a quantum mechanical system can be identified with a linear functional. For more information see bra–ket notation.\n",
        "\n",
        "  * Bra-Ket $\\langle\\psi \\mid \\psi\\rangle$: **Kovector-Vector-Multiplication**, Born Rule (Projective Measurement)\n",
        "\n",
        "  * ⟨0∣1⟩ und ⟨1∣0⟩ ergeben inner product 0 (orthogonal zueinander), zB $\\langle 0 \\mid 1\\rangle=[1,0]\\left[\\begin{array}{l}0 \\\\ 1\\end{array}\\right] = 0$. Und ⟨0∣0⟩ und ⟨1∣1⟩ = 1.\n",
        "\n",
        "*See also: [dot product between a covector and a vector is a scalar, after all!](https://cafephysics35698708.wordpress.com/2017/12/23/moving-away-from-ortho-land-vectors-covectors-and-all-that/) but read also why [There are a couple ways to view a dot product as a linear map by changing your view slightly](https://math.stackexchange.com/questions/2856198/is-dot-product-a-kind-of-linear-transformation)*\n",
        "\n",
        "* Inner Product / Bra-Ket, conjugate transpose of Ket.\n",
        "You get a scalar as output.\n",
        "\n",
        "* The Bra-Ket $\\langle\\psi \\mid \\psi\\rangle$  represents the inner product in the Hilbert space\n",
        "\n",
        "* Zur Messung von Zustaenden in einer Basis (zB ich will die Probability wissen, mit der man den State=1 erhält)\n",
        "\n",
        "* Quantum mechanical systems are represented by Hilbert spaces, which are anti–isomorphic to their own dual spaces.\n",
        "\n",
        "* **A state of a quantum mechanical system can be identified with a linear functional**.\n",
        "\n",
        "> $\\mathbf{u}^{\\top} \\mathbf{v}=\\left[\\begin{array}{llll}u_{1} & u_{2} & \\cdots & u_{n}\\end{array}\\right]\\left[\\begin{array}{c}v_{1} \\\\ v_{2} \\\\ \\vdots \\\\ v_{n}\\end{array}\\right]=\\left[u_{1} v_{1}+u_{2} v_{2}+\\cdots+u_{n} v_{n}\\right]$ = scalar\n",
        "\n",
        "![ggg](https://raw.githubusercontent.com/deltorobarba/repo/master/quantum_248.png)\n",
        "\n",
        "\n",
        "\n"
      ]
    },
    {
      "cell_type": "markdown",
      "source": [
        "\n",
        "**Case 1: Inner product of two basis vectors**:\n",
        "\n",
        "\n",
        "* ⟨0∣1⟩ und ⟨1∣0⟩ ergeben inner product 0 (orthogonal zueinander), im Detail fur $\\langle 0 \\mid 1\\rangle=[1,0]\\left[\\begin{array}{l}0 \\\\ 1\\end{array}\\right] = 0$\n",
        "\n",
        "* ⟨0∣0⟩ und ⟨1∣1⟩ ergeben inner product 1 (mit sich selbst multipliziert / die beiden Berechnungsbasisvektoren sind orthonormal)\n",
        "\n",
        "**Case 2: Berechne Wahrscheinlichkeit fur Messung eines Eigenstates (Born's Rule)**\n",
        "\n",
        "* Die orthonormalen Eigenschaften sind im folgenden Beispiel nützlich\n",
        "\n",
        "* Es gibt einen Zustand mit der Wave Function / Wahrscheinlichkeit fur beide Zustaende $|\\psi\\rangle=\\frac{3}{5}|1\\rangle+\\frac{4}{5}|0\\rangle$\n",
        "\n",
        "* die Wahrscheinlichkeit des Messens 1 ist dann (1 ist hierbei die basis, weil ich es messen will) [Source](https://docs.microsoft.com/de-de/azure/quantum/concepts-dirac-notation):\n",
        "\n",
        ">$\n",
        "|\\langle 1 \\mid \\psi\\rangle|^{2}=\\left|\\frac{3}{5}\\langle 1 \\mid 1\\rangle+\\frac{4}{5}\\langle 1 \\mid 0\\rangle\\right|^{2}=\\frac{9}{25}\n",
        "$\n",
        "\n",
        "* weil $\\langle 1 \\mid 0\\rangle=0$ faellt der zweite Term weg: $\\frac{4}{5}\\langle 1 \\mid 0\\rangle$ = $\\frac{4}{5} * 0$\n",
        "\n",
        "* Another example: $\\left[\\begin{array}{ll}2 & 1\\end{array}\\right]\\left(\\left[\\begin{array}{l}x \\\\ y\\end{array}\\right]\\right)=2 x+1 y$. **The covector [2, 1] can be thought of as a function, rather than a row vector, that acts on another vector.**\n",
        "\n",
        "> <font color=\"red\">*The probability of a particular measurement is then the absolute square of the scalar product with the basis vector that corresponds to the outcome (probability of measuring $X$ is). This is <u>Born's Rule</u>. This scalar product of the wave function with a basis vector is also sometimes called a <u>projection</u> on that basis vector:*\n",
        "\n",
        "> $|\\langle X \\mid \\Psi\\rangle|^{2}=a_{1} a_{1}^{*}$\n",
        "\n",
        "* where $\\mid \\Psi\\rangle$ is the wavefunction of the probability superposition and $\\langle X \\mid$ is the basis vector of one outcome.\n",
        "\n",
        "**Case 3: Sum over all basis vectors**\n",
        "\n",
        "> $\\langle\\Psi^* |\\Psi\\rangle$ = $ (a{_1}^*, a{_2}^*, a{_3}^*) \\left(\\begin{array}{l}a_{1} \\\\ a_{2} \\\\ a_{3}\\end{array}\\right)$ = $(a{_1}^*a_1 + a{_2}^*a_2 + a{_2}^*a_2)$\n",
        "\n",
        "**The probability to get ANY measurement outcome is equal to one, which means that the sum over the squared scalar products with all basis vectors has to be one. Which is just the length of the vector (all wave functions have length 1)**:\n",
        "\n",
        "> $1=a_{1} a_{1}^{*}+a_{2} a_{2}^{*}+a_{3} a_{3}^{*}=|\\langle \\Psi \\mid \\Psi\\rangle|^{2}$\n",
        "\n",
        "* With this bra-ket notation it's now very easy to write dot products = the **inner product between Bra and Ket which is $\\langle\\psi \\mid \\psi\\rangle$ = 1**, and it is normalized the result is 1(it's a particular way of writing the 2-norm when using complex inputs).\n",
        "\n",
        "* With the dot product of bra and ket you will get a **scalar as a result**, like total probability is 1, here for the coefficients (probability amplitudes):\n",
        "\n",
        "> $\\langle\\psi^* \\mid \\psi\\rangle = \\left|a_{0}\\right|^{2}+\\left|a_{1}\\right|^{2}= 1$\n",
        "\n",
        "* **We expand the Ket $\\psi$ in the basis u**, where the expansion coefficients c are given by the Braket between u and psi:\n",
        "\n",
        "> $|\\psi\\rangle=\\sum_{i} c_{i}\\left|u_{i}\\right\\rangle = c_{1} * u_{1} + c_{2} * u_{2} .. + c_{i}* u_{i} = c_{1}\\left(\\begin{array}{l}1 \\\\ 0 \\\\ 0\\end{array}\\right)+{c_{2}}\\left(\\begin{array}{l}0 \\\\ 1 \\\\ 0\\end{array}\\right)+.. c_{i}\\left(\\begin{array}{l}0 \\\\ 0 \\\\ i\\end{array}\\right) \\quad =\\left\\langle u_{i} \\mid \\psi\\right\\rangle$\n",
        "\n",
        "* <font color=\"red\">This c cofficients are what we call **representation of the Ket psi in the u basis**.\n",
        "\n",
        "> $\\left(\\begin{array}{c}\\langle u_{1} \\mid \\psi\\rangle \\\\ \\left\\langle u_{2} \\mid \\psi\\right\\rangle \\\\ \\vdots \\\\ \\left\\langle u_{i} \\mid \\psi\\right\\rangle \\\\ \\vdots\\end{array}\\right)=\\left(\\begin{array}{c}c_{1} \\\\ c_{2} \\\\ \\vdots \\\\ c_{i} \\\\ \\vdots \\\\ \\end{array}\\right)$"
      ],
      "metadata": {
        "id": "JhSZ3kxevCQv"
      }
    },
    {
      "cell_type": "markdown",
      "source": [
        "> **Quantum Measurements from an Observable (via its Operator) - Use Case: What is the most likely Eigenvalue of an Observable like Momentum or Position?**\n",
        "\n",
        "Video: [Measurements in quantum mechanics || Concepts](https://www.youtube.com/watch?v=u1R3kRWh1ek)\n",
        "\n",
        "> **$\\hat{A}\\left|u_{n}\\right\\rangle=\\lambda_{n}\\left|u_{n}\\right\\rangle \\longrightarrow P\\left(\\lambda_{n}\\right)=\\left|\\left\\langle u_{n} \\mid \\psi\\right\\rangle\\right|^{2}=\\left|c_{n}\\right|^{2}$**\n",
        "\n",
        "> <font color=\"blue\">**<u>Postulate II of quantum mechanics</u>: a physical quantity $\\mathcal{A}$ is associated with a hermitian operator $\\hat{A}$, that is called an observable.**\n",
        "\n",
        "* Physical quantity $\\mathcal{A} \\longrightarrow$ Observable $\\hat{A}$\n",
        "\n",
        "* To understand what it means to measure $\\hat{A}$ in quantum mechanics, the key equation to consider is the Eigenvalue equation of the operator $\\hat{A}$ here:\n",
        "\n",
        "> $\n",
        "\\hat{A}\\left|u_{n}\\right\\rangle=\\lambda_{n}\\left|u_{n}\\right\\rangle\n",
        "$\n",
        "\n",
        "<font color =\"blue\">*$\\rightarrow$ When you apply a measurement operator in an Eigenstate, you will measure /get the Eigenvalue of this Eigenstate (postulate III of quantum mechanics). Challenge: we just dont know in which Eigenstate our system $|\\Psi\\rangle$ is.*</font>\n",
        "\n",
        "* with $\\lambda_{n}$ Eigenvalues and $u_{n}$ Eigenstates\n",
        "\n",
        "> <font color=\"blue\">**<u>Postulate III of quantum mechanics</u>: The result of a measurement of a physical quantity is one of the Eigenvalues of the associated observable.**\n",
        "\n",
        "\n",
        "* This means: when we want to measure property $\\hat{A}$ we first need to solve the corresponding Eigenvalue equation, which allows us to find all Eigenvalues $\\lambda_{1}$, $\\lambda_{2}$, .. $\\lambda_{n}$\n",
        "\n",
        "* So the operator $\\hat{A}$ encodes all the possible outcomes of the measurement, irrespective of what the state of the system is.\n",
        "\n",
        "* **So the question is: if we measure $\\hat{A}$ in state $|\\Psi\\rangle$: which Eigenvalue will we get?** (Postulate III will tell us we will get one of the Eigenvalues $\\lambda_{n}$, but not which one)\n",
        "\n",
        "> <font color=\"blue\">**<u>Postulate VI of quantum mechanics</u>: The measurement of $\\mathcal{A}$ in a system in normalized state $|\\psi\\rangle$ gives eigenvalue $\\lambda_{n}$ with probability:**\n",
        "\n",
        "\n",
        "> $\n",
        "P\\left(\\lambda_{n}\\right)=\\left|\\left\\langle u_{n} \\mid \\psi\\right\\rangle\\right|^{2}\n",
        "$ $\\quad (= \\left|c_{n}\\right|^{2})$\n",
        "\n",
        "<font color =\"blue\">*$\\rightarrow$ $u_n$ are the possible Eigenstates to which we project our actual system state $|\\Psi\\rangle$. We square its norm and then see which one has the highest value = highest probability that the state is in this Eigenstate (with a givne Eigenvalue $\\lambda_{n}$). For example we will get $\\lambda_{1}$ with probability $\\left|\\left\\langle u_{1} \\mid \\psi\\right\\rangle\\right|^{2}$*</font>\n",
        "\n",
        "\n",
        "* This means: for an operator $\\hat{A}$ we have a list of Eigenvalues, where each of them corresponds to an Eigenstate:\n",
        "\n",
        "  * $\\lambda_{1}$ for $|u_1\\rangle$,\n",
        "\n",
        "  * $\\lambda_{2}$ for $|u_2\\rangle$,\n",
        "\n",
        "  * ...\n",
        "\n",
        "  * $\\lambda_{n}$ for $|u_n\\rangle$\n",
        "\n",
        "* these relations and values come from the Eigenvalue equation of the specific operator $\\mathcal{A}$ and are independent of the state of our system.\n",
        "\n",
        "* **But when we measure $\\mathcal{A}$, we measure it in a specific state $|\\Psi\\rangle$**. We will get $\\lambda_{1}$ with $\\left|\\left\\langle u_{1} \\mid \\psi\\right\\rangle\\right|^{2}$\n",
        "\n",
        "* So what we get as result depends (1) on the intrinsic properties $\\mathcal{A}$ with its Eigenvalues and Eigenstates,  and (b) on the specific state $|\\Psi\\rangle$ in which our system is.\n",
        "\n",
        "* So with postulate 4: rather then telling us the precise outcome of a measurement it tells us the probability associated with any given outcome\n",
        "\n",
        "> $\\begin{array}{cccccc} \\hat{A}: \\quad  & \\lambda_{1} & \\lambda_2 & \\lambda_3 & \\lambda_{n} \\\\ & \\left|u_{1}\\right\\rangle & \\left|u_{2}\\right\\rangle & \\left|u_{3}\\right\\rangle & \\left|u_{n}\\right\\rangle \\\\ |\\psi\\rangle: & \\left|\\left\\langle u_{1} \\mid \\psi\\right\\rangle\\right|^{2} & \\left|\\left\\langle u_{2} \\mid \\psi\\right\\rangle\\right|^{2} & \\left|\\left\\langle u_{3} \\mid \\psi\\right\\rangle\\right|^{2} & \\left|\\left\\langle u_{n} \\mid \\psi\\right\\rangle\\right|^{2}\\end{array}$\n",
        "\n",
        "\n",
        "**How does the state $|\\Psi\\rangle$ of a system encodes the possible outcomes of a measurement?**\n",
        "\n",
        "> <font color =\"blue\">$\\hat{A}\\left|u_{n}\\right\\rangle=\\lambda_{n}\\left|u_{n}\\right\\rangle \\longrightarrow P\\left(\\lambda_{n}\\right)=\\left|\\left\\langle u_{n} \\mid \\psi\\right\\rangle\\right|^{2}$</font>\n",
        "\n",
        "* We can write the state $|\\Psi\\rangle$ in a complete basis of our state space and the Eigenstates $u_n$ over Hermitian operator like $\\hat{A}$ provide such a basis\n",
        "\n",
        "* this means we can write $|\\Psi\\rangle$ in the u-Basis (Eigenstates) like this:\n",
        "\n",
        "> $|\\psi\\rangle=\\sum_{n} c_{n}\\left|u_{n}\\right\\rangle$\n",
        "\n",
        "<font color =\"blue\">$\\rightarrow$ $\\left|c_{m}\\right|^{2}$ is the probability and hence $c_n$ the squared root of the probability of a given Eigenvalue for each Eigenstate $\\left|u_{n}\\right\\rangle$ from this part here above:\n",
        "\n",
        "> $\\begin{array}{cccccc} \\hat{A}: \\quad  & \\lambda_{1} & \\lambda_2 & \\lambda_3 & \\lambda_{n} \\\\ & \\left|u_{1}\\right\\rangle & \\left|u_{2}\\right\\rangle & \\left|u_{3}\\right\\rangle & \\left|u_{n}\\right\\rangle \\\\ |\\psi\\rangle: & \\left|\\left\\langle u_{1} \\mid \\psi\\right\\rangle\\right|^{2} & \\left|\\left\\langle u_{2} \\mid \\psi\\right\\rangle\\right|^{2} & \\left|\\left\\langle u_{3} \\mid \\psi\\right\\rangle\\right|^{2} & \\left|\\left\\langle u_{n} \\mid \\psi\\right\\rangle\\right|^{2}\\end{array}$\n",
        "\n",
        "* and these expansion coefficients c which we call **the representation of $|\\Psi\\rangle$ in the u-Basis**, are given by the projection of $|\\Psi\\rangle$ onto the u-Basis states:\n",
        "\n",
        "> $c_{n}=\\left\\langle u_{n} \\mid \\psi\\right\\rangle$\n",
        "\n",
        "* This means we can rewrite the probability p of measuring Eigenvalue $\\lambda_n$ as also equal to absolute value of $c_n$ squared:\n",
        "\n",
        "> $P\\left(\\lambda_{m}\\right)=\\left|\\left\\langle u_{m} \\mid \\psi\\right\\rangle\\right|^{2}=\\left|c_{m}\\right|^{2}$\n",
        "\n",
        "<font color =\"blue\">$\\rightarrow$ For example we will get $\\lambda_{1}$ with probability $\\left|\\left\\langle u_{1} \\mid \\psi\\right\\rangle\\right|^{2}$\n",
        "\n",
        "**What does this mean?**\n",
        "\n",
        "* imagine our system is in state $\\Psi\\rangle$ and we want to measure a property $|\\Psi\\rangle$\n",
        "\n",
        "> $|\\psi\\rangle \\longrightarrow \\hat{A} \\longrightarrow ?$\n",
        "\n",
        "* Then what we do is to write the state $|\\Psi\\rangle$ in the basis of Eigenstates of $\\hat{A}$, and <font color =\"blue\">the expansion coefficient $c_n$ tell us the relative contribution of Eigenstate $|u_n\\rangle$ to state $|\\Psi\\rangle$, which in turn tell us how likely it is to measure the associated Eigenvalue $\\lambda_n$</font>\n",
        "\n",
        "> $|\\psi\\rangle=\\sum_{m} c_{m}\\left|u_{m}\\right\\rangle$\n",
        "\n",
        "* mit $c_{m}=\\left\\langle u_{m} \\mid \\psi\\right\\rangle$\n",
        "\n",
        "> $|\\psi\\rangle=\\sum_{m} \\left\\langle u_{m} \\mid \\psi\\right\\rangle\\left|u_{m}\\right\\rangle$\n",
        "\n",
        "* <font color=\"red\">here you can re-arrange and get an outer product (is this true???)\n",
        "\n",
        "> $|\\psi\\rangle=\\sum_{m} |u_{m}\\rangle \\langle u_{m}| \\psi\\rangle$\n",
        "\n",
        "= create outer product of a certain eigenvector to take a measurement of it\n",
        "\n",
        "Passt zu weiter unten (video prof m mit projection operators):\n",
        "\n",
        "> $(|\\varphi\\rangle\\langle\\psi|)|x\\rangle=|\\varphi\\rangle(\\langle\\psi \\mid x\\rangle)=a|\\varphi\\rangle$\n",
        "\n",
        "![ggg](https://raw.githubusercontent.com/deltorobarba/repo/master/quantum_199.png)\n",
        "\n",
        "Imagine we have n copies of the state $|\\Psi\\rangle$ and measure each. We get an Eigenvalue from the Eigenvalue equation, but with different probabilities. As p approaches $\\infty$ with N copies (= $p_n$), we will reach the most probable Eigenvalue P($\\lambda_m$) (postulates 4):\n",
        "\n",
        "![ggg](https://raw.githubusercontent.com/deltorobarba/repo/master/quantum_200.png)\n",
        "\n",
        "**A special case if our system with state $|\\Psi\\rangle$ is in an Eigenstate of the property that we are measuring (the operator $\\hat{A}$, for example momentum, positon etc), say $|u_m\\rangle$**:\n",
        "\n",
        "> $|\\psi\\rangle=\\left|u_{m}\\right\\rangle$\n",
        "\n",
        "* This corresponds to the expansion coefficient $c_m$ = 1, while all other coefficients vanish.\n",
        "\n",
        "* In this particular case we do know with absolute certainty what the outcome of the measurement will be. Probability = 1:\n",
        "\n",
        "> $P\\left(\\lambda_{m}\\right)=\\left|c_{m}\\right|^{2}=1$\n",
        "\n",
        "**This means: If the system is in an Eigenstate of the property that we are measuring (=momentum, position etc, measured by an operator), then the outcome of the measurement is the associated Eigenvalue with probability 1.**\n",
        "\n",
        "![ggg](https://raw.githubusercontent.com/deltorobarba/repo/master/quantum_287.png)"
      ],
      "metadata": {
        "id": "nKVQn725YOeT"
      }
    },
    {
      "cell_type": "markdown",
      "source": [
        "###### ***Ket-Bra $|\\psi\\rangle \\langle \\psi | = P$ - Linear Map (Vector-Covector) - Projection Operator***"
      ],
      "metadata": {
        "id": "cyrUknMLo8bl"
      }
    },
    {
      "cell_type": "markdown",
      "source": [
        "**Use Case 1: Projection Operator (Outer Product)**"
      ],
      "metadata": {
        "id": "vmUk0nAHzPCb"
      }
    },
    {
      "cell_type": "markdown",
      "source": [
        "**A measurement outcome is actually a projection (to the first basis vector)**\n",
        "\n",
        "* So if we want to model that we get the outcome 0, then we take the corresponding projection | 0 X 0 | and we apply it on the quantum state: | 0 X 0 | $\\Phi$> bzw. | 0 > < 0 | $\\Phi$ >\n",
        "\n",
        "* this is how you pull out samples from a quantum state and how you apply measurement to this particular probability distribution\n",
        "\n",
        "> The probability of measuring a value with probability amplitude $\\phi$ is $1 \\geq|\\phi|^{2} \\geq 0$, where $|\\cdot|$ is the [modulus](https://en.m.wikipedia.org/wiki/Absolute_value#Complex_numbers).\n",
        "\n",
        "**Ket-Bra (also: Projection Operator, Outer Product or Density Matrix)**\n",
        "\n",
        "* Use Case 1: used for mixed states\n",
        "\n",
        "* Use Case 2: used when I want to measure a specific Eigenstate / Eigenvector to get its probability.\n",
        "\n",
        "* Is a pair: Vector-Covector\n",
        "\n",
        "> $\\mathbf{u v}^{T}=\\left[\\begin{array}{c}u_{1} \\\\ u_{2} \\\\ \\vdots \\\\ u_{n}\\end{array}\\right]\\left[\\begin{array}{llll}v_{1} & v_{2} & \\cdots & v_{n}\\end{array}\\right]$= $\\left[\\left[\\begin{array}{c}u_{1} \\\\ u_{2} \\\\ \\vdots \\\\ u_{n}\\end{array}\\right] v_{1}\\left[\\begin{array}{c}u_{1} \\\\ u_{2} \\\\ \\vdots \\\\ u_{n}\\end{array}\\right] v_{2} \\ldots \\left[\\begin{array}{c}u_{1} \\\\ u_{2} \\\\ \\vdots \\\\ u_{n}\\end{array}\\right] v_{2} \\right]$ = $\\left[\\begin{array}{cccc}u_{1} v_{1} & u_{1} v_{2} & \\cdots & u_{1} v_{n} \\\\ u_{2} v_{1} & u_{2} v_{2} & \\cdots & u_{2} v_{n} \\\\ \\vdots & \\vdots & & \\vdots \\\\ u_{n} v_{1} & u_{n} v_{2} & \\cdots & u_{n} v_{n}\\end{array}\\right]$\n",
        "\n",
        "> $|0\\rangle\\langle 0| =$ $\\left[\\begin{array}{l}1 \\\\ 0\\end{array}\\right]\\left[\\begin{array}{ll}1 & 0\\end{array}\\right]=\\left[\\begin{array}{ll}1 & 0 \\\\ 0 & 0\\end{array}\\right]$\n",
        "\n",
        "* A measurement outcome is actually a projection (to the first basis vector)\n",
        "\n",
        "* If we want to model that we get the outcome 0, then we take the corresponding projection | 0 X 0 | and we apply it on the quantum state: | 0 X 0 | $\\Phi$>. This is how you pull out samples from a quantum state and how you apply measurement to this particular probability distribution\n",
        "\n",
        "![ggg](https://raw.githubusercontent.com/deltorobarba/repo/master/quantum_307.jpg)\n",
        "\n",
        "From this video: https://youtu.be/U6fn5LvevEE\n",
        "\n",
        "**Example: if you want to measure with which probability the quantum system is in state 0, you apply $|0\\rangle \\langle0|$ operator which is $\\hat{P}=\\left(\\begin{array}{ll}1 & 0 \\\\ 0 & 0\\end{array}\\right)$, because: $|0\\rangle\\langle 0|=\\left[\\begin{array}{l}1 \\\\ 0\\end{array}\\right]\\left[\\begin{array}{ll}1 & 0\\end{array}\\right]=\\left[\\begin{array}{ll}1 & 0 \\\\ 0 & 0\\end{array}\\right]$**\n",
        "\n",
        "* \"Projector\", \"projection\" and \"projection operator\" are the same thing. In quantum mechanics, one usually defines a projection operator as\n",
        "\n",
        "> $\n",
        "\\hat{P}=|\\psi\\rangle\\langle\\psi|\n",
        "$\n",
        "\n",
        "This operator then acts on quantum states (vectors) $|\\Psi\\rangle$ as\n",
        "\n",
        "> $\n",
        "\\hat{P}|\\Psi\\rangle=|\\psi\\rangle\\langle\\psi \\mid \\Psi\\rangle=\\langle\\psi \\mid \\Psi\\rangle|\\psi\\rangle\n",
        "$\n",
        "\n",
        "This is exactly the same as the projector you defined in matrix form, since we can think of $|\\psi\\rangle\\langle\\psi|$ as the diagonal components of a matrix. For example, if $|\\Psi\\rangle=\\alpha|0\\rangle+\\beta|1\\rangle$ and $|\\psi\\rangle=|0\\rangle$, we would find that the projector projects out a particular state\n",
        "\n",
        "> $\n",
        "\\hat{P}|\\Psi\\rangle=\\alpha|0\\rangle\n",
        "$\n",
        "\n",
        "In matrix form this would be exactly the same as what you defined, since now\n",
        "\n",
        "> $\n",
        "\\hat{P}=\\left(\\begin{array}{ll}\n",
        "1 & 0 \\\\\n",
        "0 & 0\n",
        "\\end{array}\\right), \\quad|\\Psi\\rangle=\\left(\\begin{array}{l}\n",
        "\\alpha \\\\\n",
        "\\beta\n",
        "\\end{array}\\right)\n",
        "$\n",
        "\n",
        "And now\n",
        "\n",
        "> $\n",
        "\\hat{P}|\\Psi\\rangle=\\left(\\begin{array}{ll}\n",
        "1 & 0 \\\\\n",
        "0 & 0\n",
        "\\end{array}\\right)\\left(\\begin{array}{l}\n",
        "\\alpha \\\\\n",
        "\\beta\n",
        "\\end{array}\\right)=\\left(\\begin{array}{l}\n",
        "\\alpha \\\\\n",
        "0\n",
        "\\end{array}\\right)\n",
        "$\n",
        "\n",
        "\"Projector\", \"projection\" and \"projection operator\" are the same thing. In quantum mechanics, one usually defines a projection operator as\n",
        "\n",
        "> $\n",
        "\\hat{P}=|\\psi\\rangle\\langle\\psi|\n",
        "$\n",
        "\n",
        "This operator then acts on quantum states (vectors) $|\\Psi\\rangle$ as\n",
        "\n",
        "> $\n",
        "\\hat{P}|\\Psi\\rangle=|\\psi\\rangle\\langle\\psi \\mid \\Psi\\rangle=\\langle\\psi \\mid \\Psi\\rangle|\\psi\\rangle\n",
        "$\n",
        "\n",
        "This is exactly the same as the projector you defined in matrix form, since **we can think of $|\\psi\\rangle\\langle\\psi|$ as the diagonal components of a matrix**. For example, if $|\\Psi\\rangle=\\alpha|0\\rangle+\\beta|1\\rangle$ and $|\\psi\\rangle=|0\\rangle$, we would find that the projector projects out a particular state\n",
        "\n",
        "> $\n",
        "\\hat{P}|\\Psi\\rangle=\\alpha|0\\rangle\n",
        "$\n",
        "\n",
        "In matrix form this would be exactly the same as what you defined, since now\n",
        "\n",
        "> $\n",
        "\\hat{P}=\\left(\\begin{array}{ll}\n",
        "1 & 0 \\\\\n",
        "0 & 0\n",
        "\\end{array}\\right), \\quad|\\Psi\\rangle=\\left(\\begin{array}{l}\n",
        "\\alpha \\\\\n",
        "\\beta\n",
        "\\end{array}\\right)\n",
        "$\n",
        "\n",
        "And now\n",
        "\n",
        "> $\n",
        "\\hat{P}|\\Psi\\rangle=\\left(\\begin{array}{ll}\n",
        "1 & 0 \\\\\n",
        "0 & 0\n",
        "\\end{array}\\right)\\left(\\begin{array}{l}\n",
        "\\alpha \\\\\n",
        "\\beta\n",
        "\\end{array}\\right)=\\left(\\begin{array}{l}\n",
        "\\alpha \\\\\n",
        "0\n",
        "\\end{array}\\right)\n",
        "$\n",
        "\n",
        "https://physics.stackexchange.com/questions/394258/what-is-the-standard-definition-of-projector-projection-and-projection-ope\n",
        "\n",
        "The density matrix is a representation of a linear operator called the density operator. The density matrix is obtained from the density operator by choice of basis in the underlying space. In practice, the terms density matrix and density operator are often used interchangeably.\n",
        "\n",
        "In operator language, a density operator for a system is a positive semidefinite, Hermitian operator of trace one acting on the Hilbert space of the system. This definition can be motivated by considering a situation where a pure state $\\left|\\psi_{j}\\right\\rangle$ is prepared with probability $p_{j}$, known as an ensemble. The probability of obtaining projective measurement result $m$ when using projectors $\\Pi_{m}$ is given by\n",
        "\n",
        "> $\n",
        "p(m)=\\sum_{j} p_{j}\\left\\langle\\psi_{j}\\left|\\Pi_{m}\\right| \\psi_{j}\\right\\rangle=\\operatorname{tr}\\left[\\Pi_{m}\\left(\\sum_{j} p_{j}\\left|\\psi_{j}\\right\\rangle\\left\\langle\\psi_{j}\\right|\\right)\\right]\n",
        "$\n",
        "\n",
        "which makes the density operator, defined as\n",
        "\n",
        "> <font color=\"red\">$\n",
        "\\rho=\\sum_{j} p_{j}\\left|\\psi_{j}\\right\\rangle\\left\\langle\\psi_{j}\\right|\n",
        "$\n",
        "\n",
        "= probability of getting a state |0> for example with outer product / density matrix $\\hat{P}=\\left(\\begin{array}{ll}1 & 0 \\\\ 0 & 0\\end{array}\\right)$ PLUS probability of getting state |1> etc."
      ],
      "metadata": {
        "id": "5bWbx2kRFnsl"
      }
    },
    {
      "cell_type": "markdown",
      "source": [
        "<font color=\"red\">*Projection Operator (Outer Product) & Eigenvalues in Systems of Linear Equations (HHL)*\n",
        "\n",
        "Problem Statement:\n",
        "\n",
        "> $A|x\\rangle=|b\\rangle \\quad$ (System of linear equations in a quantum state)\n",
        "\n",
        "And we want to find this:\n",
        "\n",
        ">$\n",
        "|x\\rangle=A^{-1}|b\\rangle \\quad \\text { (the solution is: }|x\\rangle=\\sum_{j=0}^{N-1} \\lambda_{j}^{-1} b_{j}\\left|u_{j}\\right\\rangle \\text { ) }\n",
        "$\n",
        "\n",
        "We need to find the inverse matrix $A^{-1}$. We can get the matrix inverse via eigendecomposition. Since $A$ is Hermitian (normal!), it has a spectral decomposition:\n",
        "\n",
        "> <font color=\"blue\">$\n",
        "A=\\sum_{j=0}^{N-1} \\lambda_{j}\\left|u_{j}\\right\\rangle\\left\\langle u_{j}\\right|, \\quad \\lambda_{j} \\in \\mathbb{R}\n",
        "$\n",
        "\n",
        "(if I want to know get the Eigenvector from a measurement, I create the outer product / density matrix of the Eigenvector like above. this is like a measurement)\n",
        "\n",
        "where $\\left|u_{j}\\right\\rangle$ is the $j^{t h}$ eigenvector of $A$ with respective eigenvalue $\\lambda_{j}$. Then,\n",
        "\n",
        "> $\n",
        "A^{-1}=\\sum_{j=0}^{N-1} \\lambda_{j}^{-1}\\left|u_{j}\\right\\rangle\\left\\langle u_{j}\\right|\n",
        "$"
      ],
      "metadata": {
        "id": "MXGA0EYlF9iP"
      }
    },
    {
      "cell_type": "markdown",
      "source": [
        "<font color=\"blue\">**Case 1 - Bra-Ket (Inner Product)**: *I want to know the Eigenvalue of an observable (but I don't know which is the most probable Eigenvector)? Then I apply an operator to the quantum state (position operator, momentum operator etc). I will get the most probable Eigenvector / Eigenstate with an according Eigenvalue*\n",
        "\n",
        "> $\\hat{A}\\left|u_{n}\\right\\rangle=\\lambda_{n}\\left|u_{n}\\right\\rangle \\longrightarrow P\\left(\\lambda_{n}\\right)=\\left|\\left\\langle u_{n} \\mid \\psi\\right\\rangle\\right|^{2}=\\left|c_{n}\\right|^{2}$\n",
        "\n",
        "= apply a certain operator (=observable) on a quantum state and you get the Eigenvalue of this state (here u can also be considered the eigenstate / eigenvector)\n",
        "\n",
        "<font color=\"blue\">**Case 2 - Ket-Bra (Outer Product)**: *I want to measure a specific Eigenstate / Eigenvector to get its probability? Then I take the outer product / density matrix of the desired outcome and make a measurement on the quantum state / system (=project it onto the desired Eigenvector)*\n",
        "\n",
        "> $|\\psi\\rangle=\\sum_{m} c_{m}\\left|u_{m}\\right\\rangle$\n",
        "\n",
        "*  mit $c_{m}=\\left\\langle u_{m} \\mid \\psi\\right\\rangle$\n",
        "\n",
        "> $|\\psi\\rangle=\\sum_{m}\\left\\langle u_{m} \\mid \\psi\\right\\rangle\\left|u_{m}\\right\\rangle$\n",
        "\n",
        "* here you can re-arrange and get an outer product (true?):\n",
        "\n",
        "> $\n",
        "|\\psi\\rangle=\\sum_{m}\\left|u_{m}\\right\\rangle\\left\\langle u_{m} \\mid \\psi\\right\\rangle$\n",
        "\n",
        "= create outer product of a certain eigenvector to take a measurement of it\n",
        "\n",
        "\n",
        "* Passt zu weiter unten (video prof $m$ mit projection operators):\n",
        "\n",
        "> $\n",
        "(|\\varphi\\rangle\\langle\\psi|)|x\\rangle=|\\varphi\\rangle(\\langle\\psi \\mid x\\rangle)=a|\\varphi\\rangle\n",
        "$\n",
        "\n",
        "![ggg](https://raw.githubusercontent.com/deltorobarba/repo/master/quantum_250.png)\n",
        "\n",
        "Video: [Projection operators in quantum mechanics](https://www.youtube.com/watch?v=M9V4hhqyrKQ)\n",
        "\n",
        "> **Projection Operators project one quantum state on another or onto a subspace of the state space**\n",
        "\n",
        "* for example: when we measure a property of a quantum particle, then the state of the particle collapses onto a different state\n",
        "\n",
        "* the projection operator mathematically describes this collapse\n",
        "\n",
        "> **projection operator associated with a Ket Psi: $| \\Psi \\rangle$ is the outer product of psi with itself: $|\\Psi\\rangle \\langle \\Psi|$**\n",
        "\n",
        "* then we check what it does on an arbirary state phi\n",
        "\n",
        "* the projection operator projects an arbitrary state (here Phi) onto the reference state (here Psi).\n",
        "\n",
        "* the proportionality constant C is given by the overlap between the initial state phi and the state psi that defines the projection operator\n",
        "\n",
        "![ggg](https://raw.githubusercontent.com/deltorobarba/repo/master/quantum_264.png)\n",
        "\n",
        "Properties of the projection operator:\n",
        "\n",
        "![ggg](https://raw.githubusercontent.com/deltorobarba/repo/master/quantum_265.png)\n",
        "\n",
        "Eigenvalues and Eigenstates of Projection operator:\n",
        "\n",
        "![ggg](https://raw.githubusercontent.com/deltorobarba/repo/master/quantum_266.png)\n",
        "\n",
        "The Projection operator allows us to write any Ket as a sum of two other Kets:\n",
        "\n",
        "![ggg](https://raw.githubusercontent.com/deltorobarba/repo/master/quantum_267.png)\n",
        "\n",
        "![ggg](https://raw.githubusercontent.com/deltorobarba/repo/master/quantum_268.png)\n",
        "\n",
        "One common way in which the projection operator is used in quantum mechanics is to project onto a subspace of the whole state space.\n",
        "\n",
        "* Most convenient way to write this down is in terms of basis states of our state space.\n",
        "\n",
        "* For a basis u we consider a subset of basis states u1, to un which soon an n-dimensional subspace of the full state space.\n",
        "\n",
        "* We then write the projection operator onto this n-dimensional subspace as pn\n",
        "\n",
        "![ggg](https://raw.githubusercontent.com/deltorobarba/repo/master/quantum_269.png)\n",
        "\n",
        "Summary:\n",
        "\n",
        "![ggg](https://raw.githubusercontent.com/deltorobarba/repo/master/quantum_270.png)\n",
        "\n",
        "**Projective measurement (PVM - Projection-valued measure)**\n",
        "\n",
        "* See [this article](https://en.m.wikipedia.org/wiki/Measurement_in_quantum_mechanics#Projective_measurement) and longer article on [PVM](https://en.m.wikipedia.org/wiki/Projection-valued_measure)\n",
        "\n",
        "* The eigenvectors of a von Neumann observable form an orthonormal basis for the Hilbert space, and each possible outcome of that measurement corresponds to one of the vectors comprising the basis. A density operator is a positive-semidefinite operator on the Hilbert space whose trace is equal to 1.\n",
        "\n",
        "> <font color =\"red\">**For each measurement that can be defined, the probability distribution over the outcomes of that measurement can be computed from the density operator. The procedure for doing so is the Born rule, which states that**</font>\n",
        "\n",
        "> $\n",
        "P\\left(x_{i}\\right)=\\operatorname{tr}\\left(\\Pi_{i} \\rho\\right)\n",
        "$\n",
        "\n",
        "* where $\\rho$ is the density operator, and $\\Pi_{i}$ is the [projection operator](https://en.m.wikipedia.org/wiki/Projection_(linear_algebra)) onto the basis vector corresponding to the measurement outcome $x_{i}$.\n",
        "\n",
        "* The average of the eigenvalues of a von Neumann observable, weighted by the Born-rule probabilities, is the [expectation value](https://en.m.wikipedia.org/wiki/Expectation_value_(quantum_mechanics)) of that observable. For an observable $A$, the expectation value given a quantum state $\\rho$ is\n",
        "\n",
        ">$\n",
        "\\langle A\\rangle=\\operatorname{tr}(A \\rho)\n",
        "$\n",
        "\n",
        "* A density operator that is a rank-1 projection is known as a pure quantum state, and all quantum states that are not pure are designated mixed. Pure states are also known as wavefunctions."
      ],
      "metadata": {
        "id": "qy0sjtMGU9XY"
      }
    },
    {
      "cell_type": "markdown",
      "metadata": {
        "id": "M0kD-s4t82ez"
      },
      "source": [
        "###### ***Ket-Bra $|\\psi\\rangle \\langle \\psi |$ - Mixed States (Density Matrix)***"
      ]
    },
    {
      "cell_type": "markdown",
      "source": [
        "***Use Case 2: Mixed States (Density Matrix)***\n",
        "\n",
        "Die [Quantenstatistik](https://de.m.wikipedia.org/wiki/Quantenstatistik) wendet zur Untersuchung makroskopischer Systeme die Methoden und Begriffe der klassischen statistischen Physik an und berücksichtigt zusätzlich die quantenmechanischen Besonderheiten im Verhalten der Teilchen.\n",
        "\n",
        "Wie die Quantenmechanik berücksichtigt auch die Quantenstatistik die folgende doppelte Unkenntnis:\n",
        "\n",
        "> 1. Kennt man den Zustand eines Systems genau – liegt also ein **reiner Zustand (pure state)** vor – und ist dieser kein Eigenzustand der Observablen, so kann man den Messwert einer Einzelmessung dennoch nicht exakt vorhersagen.\n",
        "\n",
        "* A pure state can be written in terms of a Ket state $|\\psi\\rangle$ $\\doteq$ $\\left[\\begin{array}{l}a_{0} \\\\ a_{1}\\end{array}\\right]$\n",
        "\n",
        "  * <font color =\"blue\">$|\\psi\\rangle$</font> $=\\sum_{i} c_{i}\\left|\\varphi_{i}\\right\\rangle$\n",
        "\n",
        "  * Spin up or spin down = **pure states**, can be written as a single wave function $\\mid \\psi\\rangle$.\n",
        "\n",
        "> 2. Kennt man den Zustand des Systems nicht genau, so muss von einem **gemischten Zustand (mixed state)** ausgegangen werden. Ebenso: when one wants to describe a physical system which is entangled with another, as its state can not be described by a pure state. For mixed states with noise in qubits.\n",
        "\n",
        "* A mixed state can be described with a density matrix:\n",
        "\n",
        "  * <font color =\"blue\">$\\rho$ </font>$=\\sum_{i} p_{i}\\left|\\varphi_{i} \\times \\varphi_{i}\\right|$\n",
        "  * Sum over probabilities times the corresponding projection operators onto certain basis states $\\varphi_{i}$\n",
        "\n",
        "  * It allows for the calculation of the probabilities of the outcomes of any measurement performed upon this system, using the Born rule.\n",
        "\n",
        "**There are two more ways to distinguish a pure state from a mixed state:**\n",
        "\n",
        "1. Take the trace of the square of the density matrix:\n",
        "\n",
        "  * $\\operatorname{Tr}\\left[\\rho^{2}\\right]=1 \\rightarrow$ Pure state (like Summe der Eigenwerte entlang der Spur: 1-0-0-0..)\n",
        "\n",
        "  * $\\operatorname{Tr}\\left[\\rho^{2}\\right]< 1 \\rightarrow$ Mixed state. <font color=\"red\">But in the examples below the trace is always = 1? (and some off-diagonal elements)</font>\n",
        "\n",
        "2. Geometricaly, pure states lie on the surface of the Blochsphere. Mixed states are confined within the Bloch sphere.\n",
        "\n",
        "> $\n",
        "\\begin{array}{c|c|c}\n",
        "& \\begin{array}{c}\n",
        "\\text { Pure } \\\\\n",
        "\\text { State }\n",
        "\\end{array} & \\begin{array}{c}\n",
        "\\text { Mixed } \\\\\n",
        "\\text { State }\n",
        "\\end{array} \\\\\n",
        "\\hline \\begin{array}{c}\n",
        "\\text { Density } \\\\\n",
        "\\text { Matrix } \\\\\n",
        "|\\psi\\rangle\\langle\\psi|\n",
        "\\end{array} & \\color{green} ✔ & \\color{green}✔ \\\\\n",
        "\\hline \\begin{array}{c}\n",
        "\\text { Wave } \\\\\n",
        "\\text { Function } \\\\\n",
        "|\\Psi\\rangle\n",
        "\\end{array} & \\color{green}✔ & \\color{red} ❌\n",
        "\\end{array}\n",
        "$\n",
        "\n",
        "**Why do we need this alternative formalism, these density matrices?**\n",
        "\n",
        "* To illustrate the difference, think about this Ket $|\\psi\\rangle$, which is the equal superposition of 0 and 1. We can write out the vector form $\\left[\\begin{array}{l}1 / \\sqrt{2} \\\\ 1 / \\sqrt{2}\\end{array}\\right]$. And if we write the corresponding $\\rho$, it will have 0.5 for every element in the matrix.\n",
        "\n",
        "> $|\\psi\\rangle=\\frac{1}{\\sqrt{2}}(|0\\rangle+(1\\rangle)=\\left[\\begin{array}{l}1 / \\sqrt{2} \\\\ 1 / \\sqrt{2}\\end{array}\\right] \\rightarrow $$\\rho=\\left[\\begin{array}{ll}0.5 & 0.5 \\\\ 0.5 & 0.5\\end{array}\\right]$\n",
        "\n",
        "* On the other hand if we create the uniform distribution over the density matrix corresponding to the 0-Ket and the density matrix corresponding to the 1-Ket, then this density matrix will be different:\n",
        "\n",
        "> $\\rho^{\\prime}=\\frac{1}{2}(|0 \\times 0|+|1 \\times 1|)=\\left[\\begin{array}{ll}0.5 & 0 \\\\ 0 & 0.5\\end{array}\\right]$\n",
        "\n",
        "* It doesn't have off-diagonal elements. These off-diagonal elements are critical for many quantum operations, sometimes also called 'coherences'. This is then called a maximally mixed state = equivalent of a uniform distribution in classical probability theory. This means we have absolutely no predictive power of what's going to happen next. Entropy of the state is maximal.\n",
        "\n",
        "* Ideally we want quantum states with a high coherence, but in reality noise affects, and these coherences disappear.\n",
        "\n",
        "https://www.youtube.com/watch?v=BE8RxAESx5I&list=PLBn8lN0Dcvpla6a6omBni1rjyQJ4CssTP&index=47\n"
      ],
      "metadata": {
        "id": "XKh8o95dlsKS"
      }
    },
    {
      "cell_type": "markdown",
      "metadata": {
        "id": "oiVIYzwp82e1"
      },
      "source": [
        "**Explanation 1: Density Matrix for Mixed States**\n",
        "\n",
        "*Source here point 2.1: https://qiskit.org/textbook/ch-quantum-hardware/density-matrix.html*\n",
        "\n",
        "* Let's consider the case where we initialize a qubit in the |0⟩ state, and then apply a Hadamard gate.\n",
        "\n",
        "* **Now, unlike the scenario we described for pure states, this Hadamard gate is not ideal: Due to errors in the quantum-computer hardware, only 80% of the times the state is prepared**, this Hadamard gate produces the desired state:\n",
        "\n",
        "> $\\left|\\psi_{1}\\right\\rangle=\\frac{1}{\\sqrt{2}}(|0\\rangle+|1\\rangle)$\n",
        "\n",
        "* The remaining $20 \\%$ of the times, the pulse applied to rotate the state is either too short or too long by $\\frac{\\pi}{6}$ radians about the $x$-axis. This means that when we use this Hadamard gate, we could end up with following two undesired outcome states:\n",
        "\n",
        ">$\n",
        "\\left|\\psi_{2}\\right\\rangle=\\frac{\\sqrt{3}}{2}|0\\rangle+\\frac{1}{2}|1\\rangle, \\quad\\left|\\psi_{3}\\right\\rangle=\\frac{1}{2}|0\\rangle+\\frac{\\sqrt{3}}{2}|1\\rangle\n",
        "$\n",
        "\n",
        "* The figure below shows the Bloch representation for the three possible states our qubit could take if the short pulse happens 10% of the time, and the long pulse the remaining 10% of the time:\n",
        "\n",
        "\n",
        "![ggg](https://raw.githubusercontent.com/deltorobarba/repo/master/quantum_198.png)\n",
        "\n",
        "* Since we do not know the outcome of our qubit everytime we prepare it, we can represent it as a mixed state of the form:\n",
        "\n",
        "**Step 1: how do we get the density matrix? - Take the column vector, turn it into a row vector, and then multiply them both:**\n",
        "\n",
        "> $(\\hat{\\rho})$ $=\\left(\\begin{array}{l}1 \\\\ 0\\end{array}\\right) \\times\\left(\\begin{array}{ll}1 & 0\\end{array}\\right)$ = $\\left(\\begin{array}{ll}1 & 0 \\\\ 0 & 0\\end{array}\\right)$\n",
        "\n",
        "in this case:\n",
        "\n",
        "> $\n",
        "\\rho_{H}=\\frac{4}{5}\\left|\\psi_{1}\\right\\rangle\\left\\langle\\psi_{1}\\left|+\\frac{1}{10}\\right| \\psi_{2}\\right\\rangle\\left\\langle\\psi_{2}\\left|+\\frac{1}{10}\\right| \\psi_{3}\\right\\rangle\\left\\langle\\psi_{3}\\right|$\n",
        "\n",
        "* Here, the factors $\\frac{4}{5}, \\frac{1}{10}$ and $\\frac{1}{10}$ correspond to the classical probabilities of obtaining the states $\\left|\\psi_{1}\\right\\rangle,\\left|\\psi_{2}\\right\\rangle$ and $\\left|\\psi_{3}\\right\\rangle$, respectively.\n",
        "\n",
        "**Step 2: Add the matrices together**: By replacing each of these three possible state vectors into  $\\rho$ , we can find the density matrix that represents this mixture:\n",
        "\n",
        "> $\\rho_{H}=\\frac{4}{5}\\left[\\begin{array}{ll}\\frac{1}{2} & \\frac{1}{2} \\\\ \\frac{1}{2} & \\frac{1}{2}\\end{array}\\right]+\\frac{1}{10}\\left[\\begin{array}{cc}\\frac{3}{4} & \\frac{\\sqrt{3}}{4} \\\\ \\frac{\\sqrt{3}}{4} & \\frac{1}{4}\\end{array}\\right]+\\frac{1}{10}\\left[\\begin{array}{cc}\\frac{1}{4} & \\frac{\\sqrt{3}}{4} \\\\ \\frac{\\sqrt{3}}{4} & \\frac{3}{4}\\end{array}\\right]$\n",
        "$\\rho_{H}=\\left[\\begin{array}{cc}\\frac{1}{2} & \\frac{\\sqrt{3}}{20}+\\frac{2}{5} \\\\ \\frac{\\sqrt{3}}{20}+\\frac{2}{5} & \\frac{1}{2}\\end{array}\\right]$"
      ]
    },
    {
      "cell_type": "markdown",
      "metadata": {
        "id": "2wWPEnYF82e2"
      },
      "source": [
        "**Explanation 2: Density Matrix for Mixed States**\n",
        "\n",
        "*Source: Parth G: https://www.youtube.com/watch?v=ZAOc4eMTQiw*\n",
        "\n",
        "* **Pain Point**:  when we see this notation for two states spin up and spin down: $|\\psi\\rangle=\\frac{1}{\\sqrt{2}}|\\uparrow\\rangle+\\frac{1}{\\sqrt{2}}|\\downarrow\\rangle$ we think of it as being in a superposition of both states. But sometimes we don't know if the system is actually in this superposition, or not already collapsed to one.\n",
        "\n",
        "* So, in practice before we measure a system, it can be in following three states, because we lack information about it. This is a mixed state:\n",
        "\n",
        "  * 33% probability: $|\\psi\\rangle=\\mid \\uparrow>$\n",
        "\n",
        "  * 33% probability: $|\\psi\\rangle=\\mid \\downarrow>$\n",
        "\n",
        "  * 33% probability: $|\\psi\\rangle=\\frac{1}{\\sqrt{2}}|\\uparrow\\rangle+\\frac{1}{\\sqrt{2}}|\\downarrow\\rangle$\n",
        "\n",
        "* **Mixed state**: lack of information about the system, hence for example giving equal probability to each possible outcome.\n",
        "\n",
        "* **When dealing with a mixed state we need to represent it with what's known as a density operator or density matrix**.\n",
        "\n",
        "* Wave function notation $|\\psi\\rangle$ can only be used to describe pure states. But density matrices $|\\psi\\rangle\\langle\\psi|$ can be used to describe mixed and pure states.\n",
        "\n",
        "* and how do we get the density matrix? - Take the column vector, turn it into a row vector, and then multiply them both:\n",
        "\n",
        "> $(\\hat{\\rho})$ $=\\left(\\begin{array}{l}1 \\\\ 0\\end{array}\\right) \\times\\left(\\begin{array}{ll}1 & 0\\end{array}\\right)$ = $\\left(\\begin{array}{ll}1 & 0 \\\\ 0 & 0\\end{array}\\right)$\n",
        "\n",
        "On top of that you can even add several mixed states to get one final mixed states. Mixed state: our knowledge of the system is limited. It could be either one of multiple psi states.\n",
        "\n",
        "* Image 1: We have to add up the density matrices of each possible spin state whilst making sure that we weight it with the probability of it being in that psi state\n",
        "\n",
        "* Image 2: That would give us the final density matrix, which is the mixture in the mixed state.\n",
        "\n",
        "* Image 3: it is for this reason that there is no way to write a mixed state as a single wave function or a single vector. We have to deal with matrices that represent the different pure states in which our system could be. And each of these density matrices has to be weighted by how likely it is that our system is on that pure that.\n",
        "\n",
        "![geometry](https://raw.githubusercontent.com/deltorobarba/repo/master/quantum_006a.png)"
      ]
    },
    {
      "cell_type": "markdown",
      "source": [
        "**what are 𝑘-body reduced density matrices?**\n",
        "\n",
        "see also video\n",
        "\n",
        "In quantum mechanics, the state of a system of particles can be represented by a density matrix, which is a complex, positive semi-definite matrix with a trace equal to 1.\n",
        "\n",
        "For a system of N particles, the full density matrix lives in a high-dimensional Hilbert space (the tensor product of the individual particle's Hilbert spaces), and contains complete information about the state of the system. However, it can often be difficult to work with such high-dimensional objects.\n",
        "\n",
        "A k-body reduced density matrix is a lower-dimensional object that contains information about only a subset of the particles in the system.\n",
        "\n",
        "Formally, the k-body reduced density matrix is obtained by taking the partial trace over N-k of the particles in the system. This process \"averages out\" the information about these N-k particles, leaving behind a density matrix that describes the remaining k particles.\n",
        "\n",
        "The k-body reduced density matrix is a useful tool in many areas of quantum physics, including quantum chemistry and quantum information theory. It allows us to study the behavior of small subsystems within a larger quantum system, even when we can't (or don't want to) keep track of the full state of all the particles. For example, the 1-body reduced density matrix (also known as the one-particle density matrix) is often used in quantum chemistry to describe electron behavior in molecular systems."
      ],
      "metadata": {
        "id": "780q8PXoJZja"
      }
    },
    {
      "cell_type": "markdown",
      "metadata": {
        "id": "9GXuS8c94Iay"
      },
      "source": [
        "###### ***Ket-Bra $|\\psi\\rangle \\langle \\psi |$ - Expectation Values***"
      ]
    },
    {
      "cell_type": "markdown",
      "source": [
        "**Expectation Value and Backpropagation**\n",
        "\n",
        "The average value (expectation value) of the measurement result is given by the\n",
        "Born rule: **bold text**\n",
        "\n",
        "> $\\langle B\\rangle=\\left\\langle\\psi\\left|U^{\\dagger}(\\theta) B U(\\theta)\\right| \\psi\\right\\rangle$\n",
        "\n",
        "Just linear algebra! Every step is a matrix-vector or matrix-matrix multiplication\n",
        "\n",
        "Expectation values depend continuously on the gate parameters\n",
        "\n",
        "**Backpropagating Through Quantum Circuits**\n",
        "\n",
        "However, as long as we don't \"zoom in\" to what is happening in the quantum circuit, backpropagation can treat the quantum circuit as a single indivisible function\n",
        "\n",
        "The expectation value of a quantum circuit is a differentiable function\n",
        "\n",
        "> $\n",
        "f(\\theta)=\\left\\langle\\psi\\left|U^{\\dagger}(\\theta) B U(\\theta)\\right| \\psi\\right\\rangle=\\langle B\\rangle$\n",
        "\n",
        "Running on hardware and using the parameter-shift rule, we can provide both ingredients needed by backpropagation\n",
        "\n",
        "> $\n",
        "\\left(\\langle B\\rangle, \\frac{\\partial}{\\partial \\theta}\\langle B\\rangle\\right)\n",
        "$"
      ],
      "metadata": {
        "id": "NOFPaQ7LDw1E"
      }
    },
    {
      "cell_type": "markdown",
      "source": [
        "An observable in quantum mechanics is represented by a Hermitian operator. The spectral norm (or operator norm) of a Hermitian operator is equal to its largest eigenvalue in absolute value."
      ],
      "metadata": {
        "id": "5cVUHgYvHoiG"
      }
    },
    {
      "cell_type": "markdown",
      "source": [
        "<font color=\"blue\">**<u>Density matrix formalism</u> to calculate Expectation Values**\n",
        "\n",
        "\n",
        "* [Expectation value](https://en.m.wikipedia.org/wiki/Expectation_value_(quantum_mechanics)): The average of the eigenvalues of a von Neumann observable, weighted by the Born-rule probabilities, is the expectation value of that observable. What is the average value of quantum measurement outcomes?\n",
        "\n",
        "* Large number of particle interactions when we are trying to measure a total effect from an aggregation of subatomic particles: run an experiment involving the observation of energy levels in a type of atom N times under fixed conditions. The expectation value e of the experiment turns out to be an illegitimate energy level for that atom, but E = Ne will give the correct total energy assuming N is large enough.\n",
        "\n",
        "* Expectation value of an observable $Q$ (like the momentum of a particle) in a (normalized) state $|\\Psi\\rangle$ gives the average of all possible values (weighted by their corresponding probabilities) that one may expect to observe in an experiment designed to measure $Q$ in state $|\\Psi\\rangle$ over many experiments where the average of all values of $Q$ will approach the expectation value $\\langle\\Psi|Q| \\Psi\\rangle$ (one set of measurement perturbs the system)"
      ],
      "metadata": {
        "id": "NWbNfdo0aS0a"
      }
    },
    {
      "cell_type": "markdown",
      "source": [
        "<font color=\"blue\">**First: The expectation value of an operator $Q$ is given by $\\langle Q\\rangle=\\langle\\psi|Q| \\psi\\rangle$ = $\\sum_{n} \\lambda_{n}\\left|\\left\\langle u_{n} \\mid \\psi\\right\\rangle\\right|^{2}$(spectral decomposition)**</font>\n",
        "\n",
        "* Given a state vector for a pure state $|s\\rangle$, with its complex-conjugate transpose is $\\langle s|$, the operator whose expectation value you are evaluating could be written $|A|$ and $|s\\rangle$ has a component which is a $\\lambda$-eigenstate for $A$.\n",
        "\n",
        "\n",
        "* A mixture of states is a weighted average of such operators, and its expectation value is the weighted average of the expectation values of the pure states.\n",
        "\n",
        "* Suppose, $\\left|\\psi_{1}\\right\\rangle,\\left|\\psi_{2}\\right\\rangle, \\ldots$ be the orthonormal basis of eigenstates of observable $Q$ with corresponding eigenvalues $\\lambda_{1}, \\lambda_{2}, \\ldots$ respectively. One can expand the given (normalized) state $|\\Psi\\rangle$ in the above basis as\n",
        "\n",
        "> $\n",
        "|\\Psi\\rangle=\\alpha_{1}\\left|\\psi_{1}\\right\\rangle+\\alpha_{2}\\left|\\psi_{2}\\right\\rangle+\\cdots+\\alpha_{n}\\left|\\psi_{n}\\right\\rangle+\\ldots\n",
        "$\n",
        "\n",
        "* According to a basic postulate of Quantum mechanics the above expansion implies that upon measuring $Q$ in state $|\\Psi\\rangle$ the outcome of the experiment will be eigenvalue $\\lambda_{1}$ with probability $\\left|\\alpha_{1}\\right|^{2}$, eigenvalue $\\lambda_{2}$ with probability $\\left|\\alpha_{2}\\right|^{2}$ and so on. The (weighted) average of all possible values of $Q$ that can be observed in state $|\\Psi\\rangle$ will be the expectation value of $Q$ in state $|\\Psi\\rangle$:\n",
        "\n",
        "> <font color=\"blue\">$\\sum_{n} \\lambda_{n}\\left|\\left\\langle u_{n} \\mid \\psi\\right\\rangle\\right|^{2}$ = $\\left|\\alpha_{1}\\right|^{2} \\lambda_{1}+\\left|\\alpha_{2}\\right|^{2} \\lambda_{2}+\\ldots =\\left\\langle\\alpha_{1} \\psi_{1}+\\alpha_{2} \\psi_{2}+\\ldots| \\, | \\lambda_{1} \\alpha_{1} \\psi_{1}+\\lambda_{2} \\alpha_{2} \\psi_{2}+\\ldots\\right\\rangle =\\left\\langle\\alpha_{1} \\psi_{1}+\\alpha_{2} \\psi_{2}+\\ldots|Q| \\alpha_{1} \\psi_{1}+\\alpha_{2} \\psi_{2}+\\ldots\\right\\rangle =\\langle\\Psi|Q| \\Psi\\rangle$\n",
        "\n",
        "* This is because operator $Q$ can be written as a sum over its Eigenvalues $a_i$ times projection operators onto its Eigenstates.\n",
        "\n",
        "> $Q=\\sum_{i} \\lambda_{n} \\left| u_{n} \\rangle \\langle \\ u_{n}\\right|$ $\\quad$ with $Q\\left| u_{n}\\right\\rangle= \\lambda_{n}\\left| u_{n}\\right\\rangle$\n",
        "\n",
        "* By using decomposition in the definition of the expectation value, we get this result:\n",
        "\n",
        "> $\\langle Q\\rangle_{\\psi}=\\langle\\psi|Q| \\psi\\rangle=$ $\\sum_{i} \\lambda_{n}\\langle\\psi| u_{n} \\rangle $ <font color =\"orange\">$\\langle u_{u}| \\psi \\rangle$</font> $=\\sum_{i} \\lambda_{n}$ <font color =\"blue\">$\\left|\\left\\langle u_{n} \\mid \\psi\\right\\rangle\\right|^{2}$</font>\n",
        "\n",
        "* We sum over all Eigenvalues, which are the possible outcomes of a measurement, weighted by the probabilities that this particular Eigenvalue occurs if we start in the state $\\Psi$.\n",
        "\n",
        "  * <font color =\"orange\">$\\langle u_{n} | \\psi\\rangle$</font> - this is called the **transition amplitude**\n",
        "\n",
        "  * <font color =\"blue\">$|\\langle u_{n} | \\psi\\rangle|^{2}$</font> - this is called the **transition probability** (absolute square of the transition amplitude)\n",
        "\n",
        "> $\\langle\\hat{A}\\rangle$ $=\\sum_{n} \\lambda_{n} P\\left(\\lambda_{n}\\right)$ and since: $P\\left(\\lambda_{n}\\right)=\\left|\\left\\langle u_{n} \\mid \\psi\\right\\rangle\\right|^{2}=\\left|c_{n}\\right|^{2}$:\n",
        "\n",
        "> $\\langle\\hat{A}\\rangle$ $=\\sum_{n} \\lambda_{n} \\left|c_{n}\\right|^{2}$</font>\n",
        "\n",
        "> $\\langle\\hat{A}\\rangle$ $=\\sum_{n} \\lambda_{n} \\left|\\left\\langle u_{n} \\mid \\psi\\right\\rangle\\right|^{2}$</font>\n",
        "\n",
        "\n",
        "> $|\\psi\\rangle \\longrightarrow\\langle\\hat{A}\\rangle_{\\psi}=\\langle\\hat{A}\\rangle=\\sum_{n} \\lambda_{n} P\\left(\\lambda_{n}\\right)$ <font color =\"blue\">$=\\sum_{n} \\lambda_{n}\\left|\\left\\langle u_{n} \\mid \\psi\\right\\rangle\\right|^{2}$\n",
        "\n",
        "* <font color =\"blue\">$\\rightarrow$ die Summe der Eigenwerte $\\lambda_{n}$ jeweils multipliziert mit der Wahrscheinlichkeit $P\\left(\\lambda_{n}\\right) = \\left|\\left\\langle u_{n} \\mid \\psi\\right\\rangle\\right|^{2}$, den jeweiligen Eigenwert zu erhalten = Expectation Value</font>\n",
        "\n",
        "* Beispielrechnung mit interessantem Ergebnis: Eigenwert -1 mit Amplitude 0.25 und Eigenwert +1 mit Amplitude 0.25\n",
        "\n",
        "  * = $(-1) * (0.25)^2$ + $(+1) * (0.25)^2$\n",
        "\n",
        "  * = $(-1) * (0,5)$ + $(+1) * (0.5)$ = -0.5 + 0.5\n",
        "\n",
        "  * = 0 $\\rightarrow$ Expectation value, aber kein erlaubtes physikalisches Ergebnis.\n",
        "\n",
        "\n",
        "\n"
      ],
      "metadata": {
        "id": "Im0HXIwpZSfq"
      }
    },
    {
      "cell_type": "markdown",
      "source": [
        "<font color=\"blue\">**Second: The expectation value $\\langle \\psi|A| \\psi\\rangle$ can be evaluated as the trace of $|\\psi\\rangle\\langle \\psi| A$.**</font>\n",
        "\n",
        "* The operator $|\\psi\\rangle\\langle \\psi|$ is an operator of trace 1, and the operator $|\\psi\\rangle\\langle \\psi|$ is an operator of trace 1.\n",
        "\n",
        "* $\\rho = |\\psi\\rangle \\langle \\psi|$ is an operator of trace=1. We can calculate the expectation value of $A$ by taking the trace over $\\rho$ times $A$:\n",
        "\n",
        "> **$\\langle A\\rangle_{\\rho}:= \\langle \\psi|A| \\psi\\rangle = \\operatorname{Tr}[\\rho A] =\\operatorname{Tr}[\\, |\\psi\\rangle \\langle \\psi| \\, A]$**</font>\n",
        "\n",
        "* Taking the trace over an operator means to sum over the matrix elements of that operator between states of a complete basis $\\operatorname{Tr}[B]=\\sum_{i}\\left\\langle\\eta_{i}|B| \\eta_{i}\\right\\rangle$. We are adding $\\rho = |\\psi\\rangle \\langle \\psi|$ and move the two complex numbers $\\eta$, since they are not operators:\n",
        "\n",
        "> $\\langle A\\rangle_{\\rho}:=\\operatorname{Tr}[\\rho A]$ = $\\sum_{i} {\\left\\langle\\eta_{i}\\right| \\psi \\rangle}{\\left\\langle\\psi|A| \\eta_{i}\\right\\rangle}$\n",
        "\n",
        "* We sum over the basis states. Since $| \\eta_{i} \\rangle \\langle \\eta_{i} |$ = 1, we get $\\langle\\psi|A| \\psi\\rangle$, which is the same result from working with density matrices:\n",
        "\n",
        "> $\\sum_{i}\\left\\langle\\psi|A| \\eta_{i} \\rangle \\langle \\eta_{i} | \\psi\\right\\rangle$ = $\\langle\\psi|A| \\psi\\rangle=\\langle A\\rangle_{\\psi}$\n"
      ],
      "metadata": {
        "id": "taewaWhtaMqW"
      }
    },
    {
      "cell_type": "markdown",
      "source": [
        "![ggg](https://raw.githubusercontent.com/deltorobarba/repo/master/quantum_195.png)"
      ],
      "metadata": {
        "id": "lX-bFe39aNwf"
      }
    },
    {
      "cell_type": "markdown",
      "source": [
        "![ggg](https://raw.githubusercontent.com/deltorobarba/repo/master/quantum_201.png)"
      ],
      "metadata": {
        "id": "RyU5akyieNvl"
      }
    },
    {
      "cell_type": "markdown",
      "source": [
        "###### *Eigenvalues, Observables & Operators*"
      ],
      "metadata": {
        "id": "gXZXzSSsrrUL"
      }
    },
    {
      "cell_type": "markdown",
      "metadata": {
        "id": "dpO0HLIBkdmU"
      },
      "source": [
        "> <font color=\"blue\">**<u>Postulate II of quantum mechanics</u>: a physical quantity $\\mathcal{A}$ is associated with a hermitian operator $\\hat{A}$, that is called an observable.**\n",
        "\n",
        "> <font color=\"blue\">**<u>Postulate III of quantum mechanics</u>: The result of a measurement of a physical quantity is one of the Eigenvalues of the associated observable.**\n",
        "\n",
        "Video: [Eigenvalues and eigenstates in quantum mechanics](https://www.youtube.com/watch?v=p1zg-c1nvwQ)\n",
        "\n",
        "> We consider the action of $\\hat{A}$ on a special Ket $|\\Psi\\rangle$ such that the only way in which $\\hat{A}$ changes $|\\Psi\\rangle$ is by scaling it by a constant and we obtain $\\lambda |\\Psi\\rangle$\n",
        "\n",
        "The Eigenvector of an operator are those special directions in the vector space which the operator doesn't change.\n",
        "\n",
        "The probability of each eigenvalue is related to the projection of the physical state on the subspace related to that eigenvalue.\n",
        "\n",
        "https://en.m.wikipedia.org/wiki/Operator_(physics)#Operators_in_quantum_mechanics\n",
        "\n",
        "![ggg](https://raw.githubusercontent.com/deltorobarba/repo/master/quantum_257.png)\n",
        "\n",
        "> [C$*$-algebras](https://en.m.wikipedia.org/wiki/C*-algebra) were first considered primarily for their use in quantum mechanics **to model algebras of physical observables**. This line of research began with Werner Heisenberg's matrix mechanics and in a more mathematically developed form with Pascual Jordan around 1933. See also [Quantum Group](https://en.m.wikipedia.org/wiki/Quantum_group).\n",
        "\n",
        "\n",
        "![ggg](https://raw.githubusercontent.com/deltorobarba/repo/master/quantum_251.png)\n"
      ]
    },
    {
      "cell_type": "markdown",
      "source": [
        "**(Anti-)Commutators, Quantum Numbers und \"Vollständiger Satz kommutierender Observablen\"**\n",
        "\n",
        "Um einen quantenmechanischen Zustand eindeutig zu charakterisieren, sind oft mehrere Observablen notwendig. Beispielsweise ist es beim Wasserstoffatom nicht ausreichend, nur die Energie anzugeben (mittels der Hauptquantenzahl n), sondern es sind zwei weitere Observablen notwendig: der Betrag des Drehimpulses (Quantenzahl l) und die z-Komponente des Drehimpuls (Quantenzahl m). Diese drei Größen bilden dann einen vollständigen Satz kommutierender Observablen.\n",
        "Eine Menge von Observablen A, B, C,... bildet einen v.S.k.O., wenn eine orthonormale Basis des Zustandsraums aus gemeinsamen Eigenvektoren der Observablen existiert, und diese Basis (bis auf einen Phasenfaktor) eindeutig ist.\n",
        "\n",
        "Solch ein Verhalten ist in der Quantenmechanik allerdings eher die Ausnahme. Die meisten Paare von Observablen lassen sich nicht gleichzeitig beliebig genau messen, was eine Konsequenz aus der heisenbergschen Unschärferelation ist. Man spricht dann auch von komplementären Observablen.\n",
        "\n",
        "https://de.m.wikipedia.org/wiki/Vollständiger_Satz_kommutierender_Observablen"
      ],
      "metadata": {
        "id": "rRJWyBvzCSAs"
      }
    },
    {
      "cell_type": "markdown",
      "metadata": {
        "id": "Wc9HeAnZvFPv"
      },
      "source": [
        "**Solving: How to find Eigenvalues and Eigenvectors?**\n",
        "\n",
        "* For an arbitrary operator (except the identity operator) it is generally not possible to figure out the eigenvalues and eigenstates simply by inspection of how the operator acts\n",
        "\n",
        "* More general approach needed:\n",
        "\n",
        "\t* consider basis u that is orthonormal.\n",
        "\n",
        "\t* Then we write the Eigenvalue equation in the u basis (just project both sides of the equation onto the basis states u).\n",
        "\n",
        "\t* next we insert the identity operator after the A operator on left and side\n",
        "\n",
        "\t* then write the resolution of the identity in the u basis\n",
        "\n",
        "\t* then take sum on the beginning\n",
        "\n",
        "![ggg](https://raw.githubusercontent.com/deltorobarba/repo/master/quantum_260.png)\n",
        "\n",
        "* the equation $\\sum_{j}\\left(A_{i j}-\\lambda \\delta_{i j}\\right) c_{j}=0$ is equivalent to the original Eigenvalue equation $\\hat{A}|\\psi\\rangle=\\lambda|\\psi\\rangle$, but now written in the u representation\n",
        "\n",
        "* finding the eigenvalues and eigenvectors now becomes finding the lambda and c in the new equation = \"matrix diagonalization\"\n",
        "\n",
        "![ggg](https://raw.githubusercontent.com/deltorobarba/repo/master/quantum_261.png)\n",
        "\n",
        "> **All we really need to do quantum mechanics is to get enough practice in diagonalizing matrices**\n",
        "\n",
        "* we have following operator A and state Psi\n",
        "\n",
        "* we want to find the eigenvalues and eigenvectors of the operator A\n",
        "\n",
        "![ggg](https://raw.githubusercontent.com/deltorobarba/repo/master/quantum_263.png)"
      ]
    },
    {
      "cell_type": "markdown",
      "metadata": {
        "id": "rYnM169ZFHeZ"
      },
      "source": [
        "<font color=\"blue\">**Operators acting on Quantum State Vectors: Matrix-Vector-Multiplication (Single Qubit)**\n",
        "\n",
        "*Applying a Hadamard gate to a single qubit (matrix-vector multiplication) - Simple dot product! You get a vector out.*\n",
        "\n",
        "$H |0\\rangle = \\frac{1}{\\sqrt{2}}\\left(\\begin{array}{cc}1 & 1 \\\\ 1 & -1\\end{array}\\right)\\left[\\begin{array}{l}1 \\\\ 0\\end{array}\\right]= \\frac{1}{\\sqrt{2}}\\left[\\begin{array}{ll}1 + 0 \\\\ 1 + 0\\end{array}\\right]=\\frac{1}{\\sqrt{2}}\\left[\\begin{array}{c}1 \\\\ 1\\end{array}\\right] = |+\\rangle$\n",
        "\n",
        "$H |1\\rangle = \\frac{1}{\\sqrt{2}}\\left(\\begin{array}{cc}1 & 1 \\\\ 1 & -1\\end{array}\\right)\\left[\\begin{array}{l}0 \\\\ 1\\end{array}\\right]= \\frac{1}{\\sqrt{2}}\\left[\\begin{array}{ll}0 + 1 \\\\ 0 -1\\end{array}\\right]=\\frac{1}{\\sqrt{2}}\\left[\\begin{array}{c}1 \\\\ -1\\end{array}\\right] = |-\\rangle$\n",
        "\n",
        "*Diese Zustände können auch mithilfe der Dirac-Notation als Summen von |0⟩ und |1⟩ erweitert werden:*\n",
        "\n",
        "$|+\\rangle=\\frac{1}{\\sqrt{2}}(|0\\rangle+|1\\rangle)$ weil <font color=\"gray\">wegen $|0\\rangle=\\left[\\begin{array}{l}1 \\\\ 0\\end{array}\\right]$ und $|1\\rangle=\\left[\\begin{array}{l}0 \\\\ 1\\end{array}\\right]$ daher:</font> $\\frac{1}{\\sqrt{2}}\\left[\\begin{array}{ll}1 + 0 \\\\ 0 + 1\\end{array}\\right]=\\frac{1}{\\sqrt{2}}\\left[\\begin{array}{c}1 \\\\ 1\\end{array}\\right]$\n",
        "\n",
        "$|-\\rangle=\\frac{1}{\\sqrt{2}}(|0\\rangle-|1\\rangle)$ weil: $\\frac{1}{\\sqrt{2}}\\left[\\begin{array}{ll}1 - 0 \\\\ 0 - 1\\end{array}\\right]=\\frac{1}{\\sqrt{2}}\\left[\\begin{array}{c}1 \\\\ -1\\end{array}\\right]$\n",
        "\n",
        "*Zusammenfassend, das ist alles das gleiche, sieht aber komplett anders aus:*\n",
        "\n",
        "<font color=\"blue\">$H |0\\rangle$</font> $ = \\frac{1}{\\sqrt{2}}\\left(\\begin{array}{cc}1 & 1 \\\\ 1 & -1\\end{array}\\right)\\left[\\begin{array}{l}1 \\\\ 0\\end{array}\\right] =\\frac{1}{\\sqrt{2}}\\left[\\begin{array}{c}1 \\\\ 1\\end{array}\\right]$ <font color=\"blue\">$ \\,\\,= |+\\rangle$ = $\\frac{1}{\\sqrt{2}}(|0\\rangle+|1\\rangle)$\n",
        "\n",
        "<font color=\"blue\">$H |1\\rangle$</font>$ = \\frac{1}{\\sqrt{2}}\\left(\\begin{array}{cc}1 & 1 \\\\ 1 & -1\\end{array}\\right)\\left[\\begin{array}{l}0 \\\\ 1\\end{array}\\right]=\\frac{1}{\\sqrt{2}}\\left[\\begin{array}{c}1 \\\\ -1\\end{array}\\right]$ <font color=\"blue\">$ = |-\\rangle$ = $\\frac{1}{\\sqrt{2}}(|0\\rangle-|1\\rangle)$\n",
        "\n",
        "*$|0\\rangle$ und $|1\\rangle$ stellen hier die Basis dar, in der die Quantenzustaende berechnet werden.* ***Man kann allerdings auch eine andere Basis waehlen, zB $|+\\rangle$ und $|-\\rangle$:***\n",
        "\n",
        "$|0\\rangle=\\frac{1}{\\sqrt{2}}(|+\\rangle+|-\\rangle)$ vergleiche: <font color=\"blue\">$|+\\rangle$ = $\\frac{1}{\\sqrt{2}}(|0\\rangle+|1\\rangle)$\n",
        "\n",
        "$|1\\rangle=\\frac{1}{\\sqrt{2}}(|+\\rangle-|-\\rangle)$ vergleiche: <font color=\"blue\">$|-\\rangle$ = $\\frac{1}{\\sqrt{2}}(|0\\rangle-|1\\rangle)$\n",
        "\n",
        "*Applying an Identity Operator:*\n",
        "\n",
        "$I |0\\rangle = \\left(\\begin{array}{cc}1 & 0 \\\\ 0 & 1\\end{array}\\right)\\left[\\begin{array}{l}1 \\\\ 0\\end{array}\\right]= \\left[\\begin{array}{ll}1 + 0 \\\\ 0 + 0\\end{array}\\right]=\\left[\\begin{array}{c}1 \\\\ 0\\end{array}\\right]$\n",
        "\n",
        "$I |1\\rangle = \\left(\\begin{array}{cc}1 & 0 \\\\ 0 & 1\\end{array}\\right)\\left[\\begin{array}{l}0 \\\\ 1\\end{array}\\right]= \\left[\\begin{array}{ll}0 + 0 \\\\ 0 + 1\\end{array}\\right]=\\left[\\begin{array}{c}0 \\\\ 1\\end{array}\\right]$\n",
        "\n",
        "*Applying a Pauli-X Operator:*\n",
        "\n",
        "$X|0\\rangle=\\left[\\begin{array}{ll}0 & 1 \\\\ 1 & 0\\end{array}\\right]\\left[\\begin{array}{l}1 \\\\ 0\\end{array}\\right]=\\left[\\begin{array}{ll}0 + 0 \\\\ 1 + 0\\end{array}\\right]=\\left[\\begin{array}{l}0 \\\\ 1\\end{array}\\right]$\n"
      ]
    },
    {
      "cell_type": "markdown",
      "metadata": {
        "id": "NTK-u1Q4nrGv"
      },
      "source": [
        "<font color=\"blue\">**Matrix-Vector-Multiplication (Multi Qubit)**\n",
        "\n",
        "> $A \\mathbf{x}=\\left[\\begin{array}{cccc}a_{11} & a_{12} & \\ldots & a_{1 n} \\\\ a_{21} & a_{22} & \\ldots & a_{2 n} \\\\ \\vdots & \\vdots & \\ddots & \\vdots \\\\ a_{m 1} & a_{m 2} & \\ldots & a_{m n}\\end{array}\\right]\\left[\\begin{array}{c}x_{1} \\\\ x_{2} \\\\ \\vdots \\\\ x_{n}\\end{array}\\right]=\\left[\\begin{array}{c}a_{11} x_{1}+a_{12} x_{2}+\\cdots+a_{1 n} x_{n} \\\\ a_{21} x_{1}+a_{22} x_{2}+\\cdots+a_{2 n} x_{n} \\\\ \\vdots \\\\ a_{m 1} x_{1}+a_{m 2} x_{2}+\\cdots+a_{m n} x_{n}\\end{array}\\right]$\n",
        "\n",
        "**First create the tensor product of two operators**: For construction of the desired two-qubit gate, you need the same tensor product operation as you used for the vectors. Here where $H_1$ is a one-qubit Hadamard gate in the two-qubit space $(\\hat{H} \\otimes \\mathbf{I})$, where Hadamard is applied only to one Qubit:\n",
        "\n",
        "> $H_{1} \\equiv H_{0} \\otimes I=\\frac{1}{\\sqrt{2}}\\left(\\begin{array}{ll}1\\left(\\begin{array}{ll}1 & 0 \\\\ 0 & 1\\end{array}\\right) & 1\\left(\\begin{array}{ll}1 & 0 \\\\ 0 & 1\\end{array}\\right) \\\\ 1\\left(\\begin{array}{ll}1 & 0 \\\\ 0 & 1\\end{array}\\right) & -1\\left(\\begin{array}{ll}1 & 0 \\\\ 0 & 1\\end{array}\\right)\\end{array}\\right)=\\frac{1}{\\sqrt{2}}\\left(\\begin{array}{cccc}1 & 0 & 1 & 0 \\\\ 0 & 1 & 0 & 1 \\\\ 1 & 0 & -1 & 0 \\\\ 0 & 1 & 0 & -1\\end{array}\\right)$\n",
        "\n",
        "**Second, apply the new 'tensored' operator on the tensor product of two state vectors**:\n",
        "\n",
        "See the tensor product of two vectors in state $|0\\rangle$:\n",
        "\n",
        "> $|0\\rangle \\otimes|0\\rangle = \\left[\\begin{array}{l}1 \\\\ 0\\end{array}\\right] \\otimes\\left[\\begin{array}{l}1 \\\\ 0\\end{array}\\right]=$</font> $\\left[\\begin{array}{l}1\\left[\\begin{array}{l}1 \\\\ 0\\end{array}\\right] \\\\ 0\\left[\\begin{array}{l}1 \\\\ 0\\end{array}\\right]\\end{array}\\right]=$ <font color=\"blue\">$\\left [\\begin{array}{l}1 \\\\ 0 \\\\ 0 \\\\ 0\\end{array}\\right]$\n",
        "\n",
        "Now applying $H_1$ you mix up the first qubit states and keep the second qubit state unchanged:\n",
        "\n",
        "> $H_{1}(|0\\rangle \\otimes|0\\rangle)=H_{1}\\left(\\begin{array}{l}1 \\\\ 0 \\\\ 0 \\\\ 0\\end{array}\\right)$= <font color=\"blue\">$\\frac{1}{\\sqrt{2}}\\left(\\begin{array}{cccc}1 & 0 & 1 & 0 \\\\ 0 & 1 & 0 & 1 \\\\ 1 & 0 & -1 & 0 \\\\ 0 & 1 & 0 & -1\\end{array}\\right) \\left(\\begin{array}{l}1 \\\\ 0 \\\\ 0 \\\\ 0\\end{array}\\right)$ = $\\frac{1}{\\sqrt{2}}\\left(\\begin{array}{l}1 \\\\ 0 \\\\ 1 \\\\ 0\\end{array}\\right)$</font>= $\\frac{1}{\\sqrt{2}}(|0\\rangle \\otimes|0\\rangle+|1\\rangle \\otimes|0\\rangle)$\n",
        "\n",
        "**Another way of writing this (=apply H to one qubit only in a 1 qubit in a 2 qubit system) for a joint state of two initialized qubits $\n",
        "|0\\rangle \\otimes|0\\rangle\n",
        "$ is:**\n",
        "\n",
        "> <font color=\"orange\">$\\hat{H}\\left|q_{0}\\right\\rangle \\otimes\\left|q_{1}\\right\\rangle$</font> = $\n",
        "\\mathbf{H}|0\\rangle \\otimes|0\\rangle=\\left(\\frac{1}{\\sqrt{2}}|0\\rangle+\\frac{1}{\\sqrt{2}}|1\\rangle\\right) \\otimes|0\\rangle\n",
        "$\n",
        "\n",
        "The tensor product is distributive, which in this case means it acts much like multiplication:\n",
        "\n",
        ">$\n",
        "\\mathbf{H}|0\\rangle \\otimes|0\\rangle=\\frac{1}{\\sqrt{2}}|0\\rangle \\otimes|0\\rangle+\\frac{1}{\\sqrt{2}}|1\\rangle \\otimes|0\\rangle\n",
        "$\n",
        "\n",
        "See [Tensor_product](https://en.wikipedia.org/wiki/Tensor_product)\n"
      ]
    },
    {
      "cell_type": "markdown",
      "metadata": {
        "id": "0z7cDFlh_eL1"
      },
      "source": [
        "<font color=\"blue\">**Matrix-Matrix-Multiplication (Kronecker / Tensor)**\n",
        "\n",
        "Zur Kombination von Operators in einem Timestep (zB H bei qubit 1 und I bei Qubit 2). Two systems being described as a joint system.\n",
        "\n",
        "> $\\left[\\begin{array}{ll}a & b \\\\ c & d\\end{array}\\right] \\otimes\\left[\\begin{array}{ll}e & f \\\\ g & h\\end{array}\\right]=\\left[\\begin{array}{lll}a\\left[\\begin{array}{ll}e & f \\\\ g & h\\end{array}\\right] & b\\left[\\begin{array}{ll}e & f \\\\ g & h\\end{array}\\right] \\\\ c\\left[\\begin{array}{ll}e & f \\\\ g & h\\end{array}\\right] & d\\left[\\begin{array}{llll}e & f \\\\ g & h\\end{array}\\right]\\end{array}\\right]=\\left[\\begin{array}{llll}a e & a f & \\text { be } & b f \\\\ a g & a h & b g & b h \\\\ c e & c f & d e & d f \\\\ c g & c h & d g & d h\\end{array}\\right]$\n",
        "\n",
        "$H \\otimes I=\\frac{1}{\\sqrt{2}}\\left(\\begin{array}{cc}1 & 1 \\\\ 1 & -1\\end{array}\\right) \\otimes\\left(\\begin{array}{ll}1 & 0 \\\\ 0 & 1\\end{array}\\right)=\\frac{1}{\\sqrt{2}}\\left(\\begin{array}{ll}1\\left(\\begin{array}{ll}1 & 0 \\\\ 0 & 1\\end{array}\\right) & 1\\left(\\begin{array}{ll}1 & 0 \\\\ 0 & 1\\end{array}\\right) \\\\ 1\\left(\\begin{array}{ll}1 & 0 \\\\ 0 & 1\\end{array}\\right) & -1\\left(\\begin{array}{ll}1 & 0 \\\\ 0 & 1\\end{array}\\right)\\end{array}\\right)=\\frac{1}{\\sqrt{2}}\\left(\\begin{array}{rrrr}1 & 0 & 1 & 0 \\\\ 0 & 1 & 0 & 1 \\\\ 1 & 0 & -1 & 0 \\\\ 0 & 1 & 0 & -1\\end{array}\\right)$\n",
        "\n",
        "$I \\otimes H=\\left(\\begin{array}{ll}1 & 0 \\\\ 0 & 1\\end{array}\\right) \\otimes \\frac{1}{\\sqrt{2}}\\left(\\begin{array}{cc}1 & 1 \\\\ 1 & -1\\end{array}\\right) = \\frac{1}{\\sqrt{2}}\\left(\\begin{array}{cc}1\\left(\\begin{array}{cc}1 & 1 \\\\ 1 & -1\\end{array}\\right) & 0\\left(\\begin{array}{cc}1 & 1 \\\\ 1 & -1\\end{array}\\right) \\\\ 0\\left(\\begin{array}{cc}1 & 1 \\\\ 1 & -1\\end{array}\\right) & 1\\left(\\begin{array}{cc}1 & 1 \\\\ 1 & -1\\end{array}\\right)\\end{array}\\right)=\\frac{1}{\\sqrt{2}}\\left(\\begin{array}{cccc}1 & 1 & 0 & 0 \\\\ 1 & -1 & 0 & 0 \\\\ 0 & 0 & 1 & 1 \\\\ 0 & 0 & 1 & -1\\end{array}\\right)$\n",
        "\n",
        "$Y \\otimes X=\\left[\\begin{array}{cc}0 & -i \\\\ i & 0\\end{array}\\right] \\otimes\\left[\\begin{array}{ll}0 & 1 \\\\ 1 & 0\\end{array}\\right]=\\left[\\begin{array}{ll}0\\left[\\begin{array}{ll}0 & 1 \\\\ 1 & 0\\end{array}\\right] & -i\\left[\\begin{array}{ll}0 & 1 \\\\ 1 & 0\\end{array}\\right] \\\\ i\\left[\\begin{array}{ll}0 & 1 \\\\ 1 & 0\\end{array}\\right] & 0\\left[\\begin{array}{ll}0 & 1 \\\\ 1 & 0\\end{array}\\right]\\end{array}\\right]=\\left[\\begin{array}{cccc}0 & 0 & 0 & -i \\\\ 0 & 0 & -i & 0 \\\\ 0 & i & 0 & 0 \\\\ i & 0 & 0 & 0\\end{array}\\right]$\n",
        "\n",
        "$X \\otimes H=\\left[\\begin{array}{ll}0 & 1 \\\\ 1 & 0\\end{array}\\right] \\otimes \\frac{1}{\\sqrt{2}}\\left[\\begin{array}{cc}1 & 1 \\\\ 1 & -1\\end{array}\\right]=\\frac{1}{\\sqrt{2}}\\left[\\begin{array}{cc}0 \\times\\left[\\begin{array}{cc}1 & 1 \\\\ 1 & -1\\end{array}\\right] & 1 \\times\\left[\\begin{array}{cc}1 & 1 \\\\ 1 & -1\\end{array}\\right] \\\\ 1 \\times\\left[\\begin{array}{cc}1 & 1 \\\\ 1 & -1\\end{array}\\right] & 0 \\times\\left[\\begin{array}{cc}1 & 1 \\\\ 1 & -1\\end{array}\\right]\\end{array}\\right]=\\frac{1}{\\sqrt{2}}\\left[\\begin{array}{cccc}0 & 0 & 1 & 1 \\\\ 0 & 0 & 1 & -1 \\\\ 1 & 1 & 0 & 0 \\\\ 1 & -1 & 0 & 0\\end{array}\\right] =\\left[\\begin{array}{cc}\n",
        "0 & H \\\\\n",
        "H & 0\n",
        "\\end{array}\\right]$\n"
      ]
    },
    {
      "cell_type": "markdown",
      "metadata": {
        "id": "ZnohitquaGyf"
      },
      "source": [
        "**<font color=\"blue\">Matrix-Matrix-Multiplication (Usual)**\n",
        "\n",
        "> Used in serially wired gates (so NOT gates in one time step - here we use tensor product to combine them, but serial gates!)\n",
        "\n",
        "A line in the circuit is considered as a quantum wire and basically represents a single qubit. The product of operators keeps the same dimension.\n",
        "\n",
        "\n",
        "![ggg](https://upload.wikimedia.org/wikipedia/commons/thumb/0/0a/Serially_wired_quantum_logic_gates.png/500px-Serially_wired_quantum_logic_gates.png)\n",
        "\n",
        "For example, putting the Pauli X gate after the Pauli Y gate, both of which act on a single qubit, can be described as a single combined gate C:\n",
        "\n",
        ">$\n",
        "C=X \\cdot Y=\\left[\\begin{array}{ll}\n",
        "0 & 1 \\\\\n",
        "1 & 0\n",
        "\\end{array}\\right] \\cdot\\left[\\begin{array}{cc}\n",
        "0 & -i \\\\\n",
        "i & 0\n",
        "\\end{array}\\right]=\\left[\\begin{array}{cc}\n",
        "i & 0 \\\\\n",
        "0 & -i\n",
        "\\end{array}\\right]\n",
        "$\n",
        "\n",
        ">$\n",
        "X \\cdot X=\\left(\\begin{array}{ll}\n",
        "0 & 1 \\\\\n",
        "1 & 0\n",
        "\\end{array}\\right)\\left(\\begin{array}{ll}\n",
        "0 & 1 \\\\\n",
        "1 & 0\n",
        "\\end{array}\\right)=\\left(\\begin{array}{ll}\n",
        "1 & 0 \\\\\n",
        "0 & 1\n",
        "\\end{array}\\right)=I\n",
        "$"
      ]
    },
    {
      "cell_type": "markdown",
      "metadata": {
        "id": "M89sYf-N0_6u"
      },
      "source": [
        "<font color=\"blue\">**Hamiltonian Operator $\\mathcal{H}$**\n",
        "\n",
        "> <font color=\"red\">**The sum of the possible outcomes of kinetic and potential energy of this entire system in quantum mechanics is referred to the Hamiltonian $\\mathcal{H}$ (to calculate the lowest total energy of a two atom system)**\n",
        "\n",
        "* der [Hamiltonoperator](https://de.m.wikipedia.org/wiki/Hamiltonoperator) (Energieoperator) ist in der Quantenmechanik ein Operator, **der (mögliche) Energiemesswerte und die Zeitentwicklung angibt = describes the total energy of a system or particle**. <font color=\"red\">Er liefert beispielsweise die Energieniveaus des Elektrons im Wasserstoffatom.</font>\n",
        "\n",
        "* In der Quantenmechanik wird jeder Zustand des betrachteten physikalischen Systems durch einen zugehörigen Vektor $\\psi$ im Hilbertraum angegeben. Seine Zeitentwicklung wird nach der Schrödingergleichung durch den Hamiltonoperator $\\hat{H}$ bestimmt:\n",
        "\n",
        ">$\n",
        "\\mathrm{i} \\hbar \\frac{\\partial}{\\partial t} \\psi(t)=\\hat{H} \\psi(t)\n",
        "$\n",
        "\n",
        "* **For every problem there is a different Hamiltonian and a different corresponding Eigenspectrum**. Spektrum: Bereich der möglichen Messwerte. Eigenvalues = stabile Energielevel = Zustande, die die Elektronen in den Orbitalen beschreiben. Siehe auch [Hamilton-Funktion](https://de.m.wikipedia.org/wiki/Hamilton-Funktion).\n",
        "\n"
      ]
    },
    {
      "cell_type": "markdown",
      "metadata": {
        "id": "7MwSGedvzNov"
      },
      "source": [
        "<font color=\"blue\">**Time Evolution Operator $\\mathcal{U}$ bzw. $\\mathcal{T}$**\n",
        "\n",
        "* Der [Zeitentwicklungsoperator](https://de.m.wikipedia.org/wiki/Zeitentwicklungsoperator) $\\mathcal{U}$ bzw. $\\mathcal{T}$ ist ein quantenmechanischer Operator, mit dem sich die zeitliche Entwicklung eines physikalischen Systems berechnen lässt. Siehe auch [Time evolution](https://en.m.wikipedia.org/wiki/Time_evolution)\n",
        "\n",
        "* Der quantenmechanische Operator ist eng verwandt mit dem [Propagator](https://de.m.wikipedia.org/wiki/Propagator) in der Quantenfeld- oder Vielteilchentheorie. Üblicherweise wird er als $U\\left(t, t_{0}\\right)$ geschrieben und bezeichnet die Entwicklung des Systems vom Zeitpunkt $t_{0}$ zum Zeitpunkt $t$.\n",
        "\n",
        "Der Zeitentwicklungsoperator $U\\left(t, t_{0}\\right)$ wird definiert über die Zeitentwicklung eines beliebigen Zustandes $|\\psi\\rangle$ zu einem Zeitpunkt $t_{0}$ bis zum Zeitpunkt $t$ :\n",
        "\n",
        ">$\n",
        "|\\psi(t)\\rangle=U\\left(t, t_{0}\\right)\\left|\\psi\\left(t_{0}\\right)\\right\\rangle \\quad \\forall|\\psi\\rangle\n",
        "$\n",
        "\n",
        "Einsetzen in die Schrödingergleichung liefert einen Satz gewöhnlicher Differentialgleichungen 1. Ordnung:\n",
        "\n",
        ">$\\mathrm{i} \\hbar \\frac{\\partial}{\\partial t} U\\left(t, t_{0}\\right)=H(t) U\\left(t, t_{0}\\right)$\n",
        "\n",
        "Diese Gleichungen sind zur Schrödingergleichung insofern äquivalent, als sie die Erweiterung des Zeitentwicklungsoperators um einen infinitesimalen Zeitschritt $\\delta t$ beschreiben:\n",
        "\n",
        ">$\n",
        "U\\left(t+\\delta t, t_{0}\\right)=\\left(1-\\frac{i}{\\hbar} H(t) \\delta t\\right) U\\left(t, t_{0}\\right)+O\\left(\\delta t^{2}\\right)\n",
        "$\n",
        "\n",
        "mit dem Hamiltonoperator $H$, der den Erzeuger der Zeitentwicklungen darstellt."
      ]
    },
    {
      "cell_type": "markdown",
      "metadata": {
        "id": "jOBWmyGiyVUq"
      },
      "source": [
        "<font color=\"blue\">**Position Operator $\\hat{x}$**\n",
        "\n",
        "Der [Ortsoperator](https://de.m.wikipedia.org/wiki/Ortsoperator) gehört in der Quantenmechanik zur Ortsmessung von Teilchen.\n",
        "\n",
        "* Der physikalische Zustand $\\Psi$ eines Teilchens ist in der Quantenmechanik mathematisch gegeben durch den zugehörigen Vektor eines Hilbertraumes $\\mathrm{H}$.\n",
        "\n",
        "* Dieser Zustand wird folglich in der Bra-Ket-Notation durch den Vektor $|\\Psi\\rangle$ beschrieben.\n",
        "\n",
        "* Die Observablen werden durch selbstadjungierte Operatoren auf $\\mathrm{H}$ dargestellt.\n",
        "\n",
        "Speziell ist der Ortsoperator die Zusammenfassung der drei Observablen $\\hat{\\mathbf{x}}=\\left(\\hat{x}_{1}, \\hat{x}_{2}, \\hat{x}_{3}\\right)$, so dass\n",
        "\n",
        ">$\n",
        "E\\left(\\hat{x}_{j}\\right)=\\left\\langle\\hat{x}_{j} \\Psi, \\Psi\\right\\rangle_{\\mathrm{H}}, \\quad j=1,2,3\n",
        "$\n",
        "\n",
        "der Mittelwert (Erwartungswert) der Messergebnisse der j-ten Ortskoordinate des Teilchens im Zustand $\\Psi$ ist."
      ]
    },
    {
      "cell_type": "markdown",
      "metadata": {
        "id": "A_j3K_Pef4GA"
      },
      "source": [
        "<font color=\"blue\">**Momentum Operator $\\hat{p}$**\n",
        "\n",
        "Video: [Why Momentum in Quantum Physics is Complex](https://www.youtube.com/watch?v=kG-iihrYCG4&list=WL&index=22)\n",
        "\n",
        "Classical Momentum\n",
        "\n",
        "> p = m * v\n",
        "\n",
        "Quantum Mechanics: apply a measurement operator on wave function (eigenvalue equation:)\n",
        "\n",
        "> $\\hat{p}|\\Psi\\rangle=\\lambda|\\Psi\\rangle$\n",
        "\n",
        "Momentum measurement operator\n",
        "\n",
        "> $\\hat{p}=-i \\hbar \\frac{\\partial}{\\partial x}$ $\\quad$ with: $\\, i=\\sqrt{-1}$\n",
        "\n",
        "Der [Impulsoperator](https://de.m.wikipedia.org/wiki/Impulsoperator) $\\hat{p}$ ist in der Quantenmechanik der Operator zur Impulsmessung von Teilchen. In der Ortsdarstellung ist der Impulsoperator in einer Dimension gegeben durch (mit $\\frac{\\partial}{\\partial x}$ die partielle Ableitung in Richtung der Ortskoordinate $x$):\n",
        "\n",
        ">$\n",
        "\\hat{p}_{x}=-\\mathrm{i} \\hbar \\frac{\\partial}{\\partial x}=\\frac{\\hbar}{i} \\frac{\\partial}{\\partial x}\n",
        "$\n",
        "\n",
        "Mit dem Nabla-Operator $\\nabla$ erhält man in drei Dimensionen den Vektor:\n",
        "\n",
        ">$\n",
        "\\hat{\\mathbf{p}}=-\\mathrm{i} \\hbar \\nabla\n",
        "$\n",
        "\n",
        "* Der physikalische Zustand $\\Psi$ eines Teilchens ist in der Quantenmechanik mathematisch durch einen zugehörigen Vektor eines Hilbertraumes $\\mathcal{H}$ gegeben. Dieser Zustand wird folglich in der Bra-Ket-Notation durch den Vektor $|\\Psi\\rangle$ beschrieben.\n",
        "\n",
        "* Die Observablen werden durch selbstadjungierte Operatoren auf $\\mathcal{H}$ dargestellt. Speziell ist der Impuls-Operator die Zusammenfassung der drei Observablen $\\hat{\\mathbf{p}}=\\left(\\hat{p}_{1}, \\hat{p}_{2}, \\hat{p}_{3}\\right)$, so dass\n",
        "\n",
        ">$\n",
        "E\\left(\\hat{p}_{j}\\right)=\\left\\langle\\Psi\\left|\\hat{p}_{j}\\right| \\Psi\\right\\rangle \\quad j=1,2,3\n",
        "$\n",
        "\n",
        "der Mittelwert (Erwartungswert) der Messergebnisse der $j$ -ten Komponente des Impulses des Teilchens im Zustand $\\Psi$ ist."
      ]
    },
    {
      "cell_type": "markdown",
      "source": [
        "<font color=\"blue\">**Translation Operator $\\hat{T}$**\n",
        "\n",
        "* the translation operator is the operator that allows us to move quantum states from one point to another\n",
        "\n",
        "* it allows us to understand many properties of wave functions:\n",
        "\n",
        "> **the wave function in real space is related to the wave function in momentum space by a Fourier transform**\n",
        "\n",
        "> $[\\hat{x}, \\hat{p}]=i \\hbar$\n",
        "\n",
        "* position $\\hat{x}$ and momentum $\\hat{p}$ operators. Their most important property is their commutator which is equal to $i \\hbar$\n",
        "\n",
        "* **Translation operator**:\n",
        "\n",
        "> $\\hat{T}(\\alpha)=e^{-i \\alpha \\hat{p} / \\hbar} \\quad \\alpha \\in \\mathbb{R}$\n",
        "\n",
        "* this is an operator that translates by an amount $\\alpha$\n",
        "\n",
        "* What does it mean to have a **function of an operator**, like the exponential function here: the function of an operator is defined by its Taylor expansion\n",
        "\n",
        "* adjoint of an operator: tells us about what the operator looks like in the dual space (NOT hermitian as you can see):\n",
        "\n",
        "> $\\begin{aligned} \\hat{T}^{t}(\\alpha)=& e^{i \\alpha \\hat{r}^{\\dagger} / \\hbar}=e^{i \\alpha \\hat{p} / \\hbar}=e^{-i(-\\alpha) \\hat{p} / \\hbar}=\\hat{T}(-\\alpha) \\\\ & \\hat{p}^{+}=\\hat{p} \\end{aligned}$\n",
        "\n",
        "* Let's look at the action of T dagger alpha on T alpha:\n",
        "\n",
        "> $\\hat{T}^{\\dagger}(\\alpha) \\hat{T}(\\alpha)=e^{i \\alpha \\hat{p} / \\hbar} e^{-i \\alpha \\hat{p} / \\hbar}=\\mathbb{1}$\n",
        "\n",
        "> $[\\hat{p}, \\hat{p}]=0$\n",
        "\n",
        "* remember: in general we cannot combine exponents of operators like if they were numbers, but here we can because the two exponents commute because the P operator commutes with itself\n",
        "\n",
        "* An operator whose adjoint is equal to its inverse is called a unitary operator\n",
        "\n",
        "> $\\left.\\begin{array}{l}\\hat{T}^{\\dagger}(\\alpha) \\hat{T}(\\alpha)=e^{i \\alpha \\hat{p} / \\hbar} e^{-i \\alpha \\hat{p} / \\hbar}=I \\\\ {[\\hat{p}, \\hat{p}]=0} \\\\ \\hat{T}(\\alpha) \\hat{T}^{\\dagger}(\\alpha)=e^{-i \\alpha \\hat{p} / \\hbar} e^{i \\alpha \\hat{p} / \\hbar}=I\\end{array}\\right\\} \\hat{T}^{\\dagger}(\\alpha)=\\hat{T}^{-1}(\\alpha)$\n",
        "\n",
        "* Overall:\n",
        "\n",
        "> $\\hat{T}^{\\dagger}(\\alpha)=\\hat{T}^{-1}(\\alpha)=\\hat{T}(-\\alpha)$"
      ],
      "metadata": {
        "id": "kHsMw4tA4gRv"
      }
    },
    {
      "cell_type": "markdown",
      "metadata": {
        "id": "FB17Qq-GLGBT"
      },
      "source": [
        "**Changing Basis (Map: Overlap Matrix)**\n",
        "\n",
        "* <font color=\"blue\">**For example: A particles position can be expressed as the superposition of momentum states**</font>\n",
        "\n",
        "* Goal: choose a 'good' basis that makes the maths as simple as possible\n",
        "\n",
        "Video: [Changing basis in quantum mechanics](https://www.youtube.com/watch?v=CDmXvPDMIFs)\n",
        "\n",
        "![ggg](https://raw.githubusercontent.com/deltorobarba/repo/master/quantum_252.png)\n",
        "\n",
        "If we go from one representation to another: we need to calculate the overlaps between the corresponding basis states, with the [overlap matrix](https://www.chemeurope.com/en/encyclopedia/Overlap_matrix.html):\n",
        "\n",
        "* The Overlap matrix is used to calculate the overlap integral, which is a measure of the similarity between two basis functions. The overlap integral is important in quantum chemistry because it is used to construct the Hamiltonian matrix, which is used to solve the Schrödinger equation.\n",
        "* The overlap matrix is a square matrix, used in quantum chemistry to describe the inter-relationship of a set of basis vectors of a quantum system.\n",
        "* **If the vectors are orthogonal to one another, the overlap matrix will be diagonal.**\n",
        "* In addition, if the basis vectors form an orthonormal set, the overlap matrix will be the identity matrix.\n",
        "* The overlap matrix is always n×n, where n is the number of basis functions used. It is a kind of Gramian matrix.\n",
        "\n",
        "![ggg](https://raw.githubusercontent.com/deltorobarba/repo/master/quantum_253.png)\n",
        "\n",
        "How do we get back from the new to the old basis?\n",
        "\n",
        "![ggg](https://raw.githubusercontent.com/deltorobarba/repo/master/quantum_254.png)\n",
        "\n",
        "How we do transform the representation of operators between basis? (resolve identities in the u basis)\n",
        "\n",
        "![ggg](https://raw.githubusercontent.com/deltorobarba/repo/master/quantum_255.png)\n",
        "\n",
        "Summary:\n",
        "\n",
        "![ggg](https://raw.githubusercontent.com/deltorobarba/repo/master/quantum_256.png)"
      ]
    },
    {
      "cell_type": "markdown",
      "source": [
        "**What are the eigenvalues of density matrix of quantum state?**\n",
        "\n",
        "The eigenvalues of the density matrix of a quantum state represent the probabilities of finding the system in the corresponding eigenstates. The sum of all the eigenvalues must be equal to 1, which reflects the fact that the system must be in one of the eigenstates.\n",
        "\n",
        "For a pure state, the density matrix is a projector onto the state vector, and therefore has only one eigenvalue of 1, with the rest being 0. This means that the system is certain to be in the corresponding eigenstate.\n",
        "\n",
        "For a mixed state, the density matrix has at least two non-zero eigenvalues, indicating that the system has a non-zero probability of being in either of the corresponding eigenstates.\n",
        "\n",
        "The eigenvalues of the density matrix can also be used to characterize the degree of mixedness of the state. A state with only one non-zero eigenvalue is a pure state, while a state with many non-zero eigenvalues is a highly mixed state.\n",
        "\n",
        "Here are some examples of the eigenvalues of the density matrix for different quantum states:\n",
        "\n",
        "* **Pure state:**\n",
        "    * Spin-up state of a qubit: $\\lambda_1 = 1, \\lambda_2 = 0$\n",
        "    * Ground state of a harmonic oscillator: $\\lambda_0 = 1, \\lambda_1 = 0, \\lambda_2 = 0, ...$\n",
        "* **Mixed state:**\n",
        "    * Equal mixture of spin-up and spin-down states of a qubit: $\\lambda_1 = \\lambda_2 = 1/2$\n",
        "    * Thermal state of a harmonic oscillator: $\\lambda_0 > \\lambda_1 > \\lambda_2 > ... > 0$\n",
        "\n",
        "The eigenvalues of the density matrix can be used to calculate the expectation values of observables, as well as the probabilities of different measurement outcomes. For example, the probability of measuring the outcome $a$ when measuring the observable $A$ is given by:\n",
        "\n",
        "> $P(a) = \\sum_i \\lambda_i |\\langle a | \\psi_i \\rangle|^2$\n",
        "\n",
        "where $\\lambda_i$ and $\\psi_i$ are the eigenvalues and eigenstates of the density matrix, respectively.\n",
        "\n",
        "The eigenvalues of the density matrix are an important tool for understanding and characterizing quantum states. They are used in a wide variety of quantum applications, including quantum information theory, quantum computation, and quantum statistical mechanics."
      ],
      "metadata": {
        "id": "xxcXDJqv7Ctb"
      }
    },
    {
      "cell_type": "markdown",
      "source": [
        "An $n$-dimensional **pure state** is $|\\psi\\rangle=\\sum_{i=1}^n \\alpha_i|i\\rangle$, where $|i\\rangle$ is the $n$-dimensional unit vector that has a 1 only at position $i$, the $\\alpha_i$ 's are complex numbers called the amplitudes, and $\\sum_{i \\in \\mid n]}\\left|\\alpha_i\\right|^2=1$.\n",
        "\n",
        "An $n$-dimensional **mixed state** (or density matrix) $\\rho=\\sum_{i=1}^n p_i\\left|\\psi_i\\right\\rangle \\psi_i \\mid$ is a mixture of pure states $\\left|\\psi_1\\right\\rangle, \\ldots,\\left|\\psi_n\\right\\rangle$ prepared with probabilities $p_1, \\ldots, p_n$, respectively. The eigenvalues $\\lambda_1, \\ldots, \\lambda_n$ of $\\rho$ are non-negative reals and satisfy $\\sum_{i \\in[n]} \\lambda_i=1$.\n",
        "\n",
        "If $\\rho$ is pure (i.e., $\\rho=|\\psi\\rangle \\psi \\mid$ for some $|\\psi\\rangle)$, then one of the eigenvalues is 1 and the others are 0 .\n",
        "\n",
        "To obtain classical information from $\\rho$, one could apply a **POVM (positive-operator-valued measure)** to the state $\\rho$. An $m$-outcome POVM is specified by a set of positive semidefinite matrices $\\left\\{M_i\\right\\}_{i \\in[m]}$ with the property $\\sum_i M_i=I d$. When this POVM is applied to the mixed state $\\rho$, the probability of the $j$-th outcome is given by $\\operatorname{Tr}\\left(M_j \\rho\\right)$."
      ],
      "metadata": {
        "id": "ce-HCRxhCNZK"
      }
    },
    {
      "cell_type": "markdown",
      "metadata": {
        "id": "RscthBMzOLUM"
      },
      "source": [
        "###### *Schrödinger Equation*"
      ]
    },
    {
      "cell_type": "markdown",
      "source": [
        "Video: [Hamiltonian Time Evolution](https://youtu.be/1zrtUmXR7Ew?si=bL-UX6NIPzbu1zV2)"
      ],
      "metadata": {
        "id": "IcfleABCelIy"
      }
    },
    {
      "cell_type": "markdown",
      "source": [
        "**Understand effects of environment (noise)**\n",
        "\n",
        "A spin does not indefinitely precess around the magnetic field (according to the Schrödinger equation), because it interacts with the environment (electrons, photons, nuclear spins from outside), which makes it stop. (Lots of noise = degrees of freedom that interact)\n",
        "\n",
        "[Universal Lindblad equation for open quantum systems - Frederik Nathan](https://www.youtube.com/watch?v=j5yW2MtOwwA&list=WL&index=10&t=294s)\n",
        "\n",
        "Impossible to track evolution of entire universe: If the universe is 10^26 degrees of freedom then we need 2^10^26 numbers to just keep track of the wave function.\n",
        "\n",
        "Impossible to solve the Schrodinger equation for an open quantum system\n",
        "\n",
        "> $\\begin{gathered}H=H_{\\mathrm{S}}+H_{\\mathrm{B}}+\\sqrt{\\gamma} X B \\\\ \\left|\\psi_0\\right\\rangle=\\left|\\psi_S\\right\\rangle \\times\\left|\\psi_B\\right\\rangle \\quad \\partial_t|\\psi(t)\\rangle=-i H|\\psi(t)\\rangle\\end{gathered}$\n",
        "\n",
        "instead: use reduced density matrix that encodes all information of the system:\n",
        "\n",
        "> $\\rho(t)=\\operatorname{Tr}_{\\mathrm{B}}|\\psi(t)\\rangle(\\psi(t) \\mid, \\quad\\langle(t))=\\operatorname{Tr}[O \\rho(t)]$"
      ],
      "metadata": {
        "id": "8FPtRRg90PbB"
      }
    },
    {
      "cell_type": "markdown",
      "metadata": {
        "id": "MIrMWsUSPKj2"
      },
      "source": [
        "> for fast moving electrons or electrons in electro-magnetic fields, the Schroedinger equation gives the wrong answers (see quantum field theory, spinor field)\n",
        "\n",
        "<font color=\"blue\">**From Newton's 2nd Law of Motion to the Schrödinger Equation**\n",
        "\n",
        "**Step 1: Starting with Newton's 2nd law of motion**\n",
        "\n",
        "* let's assume a particle is moving along an x-axis and we apply several forces on it $\\overrightarrow{F}_1$, $\\overrightarrow{F}_2$, .. $\\overrightarrow{F}_n$\n",
        "\n",
        "* these forces depend on the position $x$ of the particle and the time elapsed $t$\n",
        "\n",
        "Then we can find the particle's position $x$ as a function of time using **Newton's 2nd law**:\n",
        "\n",
        "> $\\vec{F}_{net}=\\sum \\vec{F}_{i}(x, t)=m \\vec{a}  \\quad(\\text { Newton's 2nd law })$\n",
        "\n",
        "But the law of acceleration $\\vec{a}$ can be also written as the second time derivative of position, so we end up with a [governing equation](https://en.wikipedia.org/wiki/Governing_equation) like this, the **Equation of Motion**:\n",
        "\n",
        "> $m \\frac{d^{2} x}{d t^{2}}=\\sum_{i=1}^{n} F_{i}(x, t) \\quad(\\text { Equation of Motion })$\n",
        "\n",
        "* (another way of writing it is: $m \\ddot x = -kx$, see Colab 'Variationsrechnung')\n",
        "\n",
        "* Once we solve this equation for the particle's position, we could infer many things about the particle's state, such as its velocity, kinetic energy etc.\n",
        "\n",
        "* *Exkurs: The governing equations of a mathematical model describe how the values of the unknown variables (i.e. the dependent variables) change when one or more of the known (i.e. independent) variables change*\n",
        "\n",
        "**Step 2: Schrödinger Equation & Operator /Functionals**\n",
        "* The goal of quantum mechanics is to solve the Schrödinger Equation, which is very similar conceptually\n",
        "\n",
        "> $i \\hbar \\frac{\\partial \\Psi}{\\partial t}=\\frac{-\\hbar^{2}}{2 m} \\frac{\\partial^{2} \\psi}{\\partial x^{2}}+V \\psi$\n",
        "\n",
        "\n",
        "* in contrast to classical equation of motion, where we solve for position and then get velocity, kinetic energy etc about particle's state, **in the Schrodinger equation we solve for wavefunction** $\\psi$! (because that is kind of it's position :)\n",
        "\n",
        "  * $\\frac{-\\hbar^{2}}{2 m} \\frac{\\partial^{2}}{\\partial x^{2}}$ this is the Kinetic energy operator $L$ on the wavefunction $\\psi$\n",
        "\n",
        "  * $V$ represents the potential energy operator\n",
        "\n",
        "<font color=\"red\">**In quantum mechanics we use the term operator because you generally don't get fixed numerical values for kinetic and potential energy.**</font>\n",
        "\n",
        "* Instead you need to perform operations on the wavefunction to extract those kinetic and potential energy values. That's what these operators do.\n",
        "\n",
        "* You can think of Schrodinger equation as a statement of energy conservation: kinetic energy + potential energy = total energy (which is on the left side of the v)\n",
        "\n",
        "**Step 3: Wavefunction & (Dirac) Delta Function**\n",
        "\n",
        "* the wavefunction represents the state of a system - related to the probability of finding a particle at a particular region in the domain which it occupies\n",
        "\n",
        "* the square of the norm of the wavefunction gives the probability density function of a particle.\n",
        "\n",
        "* if you integrate this norm squared over the entire domain you will get 1\n",
        "\n",
        "> $\\int_{-\\infty}^{\\infty}|\\Psi|^{2} d x=1$\n",
        "\n",
        "* you can't tell exactly where the position of a particle is before measurement, just a probability, same for velocity, momentum, kinetic energy etc.\n",
        "\n",
        "* But if you **apply the measurement operator, you change the wavefunction**! after one measurement, or further measurements will always get you the same result\n",
        "\n",
        "**So instead of being a probability distribution that covers multiple values, <font color=\"red\">by taking a measurement I change the wavefunction to a [delta function](https://de.wikipedia.org/wiki/Delta-Distribution) with one spike at what my measurement gave me. If I take more measurement on the same system, the delta function doesnt change.</font> This is called the wavefunction collapse.**\n",
        "\n",
        "![ggg](https://raw.githubusercontent.com/deltorobarba/repo/master/quantum_174.png)\n",
        "\n",
        "* However, if I let the system settle so that it eventually occupies its original wavefunction it had and then if I take my measurement, I might get something different according to the probability distribution corresponding to my original wavefunction\n",
        "\n",
        "![ggg](https://raw.githubusercontent.com/deltorobarba/repo/master/quantum_175.png)\n",
        "\n",
        "**Step 4: Partial Differential Equation**\n",
        "\n",
        "> $i \\hbar \\frac{\\partial \\Psi}{\\partial t}=\\frac{-\\hbar^{2}}{2 m} \\frac{\\partial^{2} \\psi}{\\partial x^{2}}+V \\psi$\n",
        "\n",
        "* when solving a partial differential equation we also need auxiliary conditions in order to determine the unknown constants that you get from the integration process that's inherent in solving a differential equation\n",
        "\n",
        "* auxiliary conditions = initial conditions and boundary conditions\n",
        "\n",
        "* however the Schrodinger equation doesn't come with your typical boundary conditions that you might be used to seeing\n",
        "\n",
        "**Instead,the auxiliary condition we have on our solution is the normalization constraint: $\\int_{-\\infty}^{\\infty}|\\Psi|^{2} d x=1$**\n",
        "\n",
        "* Solutions to the Schrodinger equation have two be normalizable because they are wavefunctions, and in a way they represent probability density functions\n",
        "\n",
        "\t* if the solutions to Schrodinger's equation are not normalizable, we can't use them to represent a physical system\n",
        "\n",
        "\t* the trivial solution $\\psi$ (x,t) = 0 is not normalizable, because its integral from negative infinity to infinity will always be 0, it can never be 1, which is why $\\psi$ (x,t) = 0 is an unphysical solution, because the particle has to be somewhere\n",
        "\n",
        "**Step 5: Solving Schrodinger's Equation under the normalization condition**\n",
        "\n",
        "Let's say we solve Schrodinger's equation and we get following solution:\n",
        "\n",
        "> $\\Psi (x,t) = A f(x,t)$ with $A$ being an arbitrary constant\n",
        "\n",
        "* The process of normalization is to find the value of the constant $A$ so that the solution obeys the normalization condition:\n",
        "\n",
        "> $\\int_{-\\infty}^{\\infty}|\\psi|^{2} d x=\\int_{-\\infty}^{\\infty}|A f|^{2} d x = 1$\n",
        "\n",
        "* we might end up with a difficult task if the wavefunction is dependent on time, which means it has a different shape for different times, then wouldn't the normalization constant change with time as well?\n",
        "\n",
        "* the answer is NO!\n",
        "\n",
        "**Theorem**: If you normalize the wavefunction once then you don't need to normalize for other times = the normalization stays preserved !\n",
        "\n",
        "**Proof**:\n",
        "\n",
        "* the norm squared of a wavefunction is just the complex conjugate of that wavefunction time the wavefunction: $|\\psi|^{2}=(\\psi)^{*} \\psi$\n",
        "\n",
        "* if we go back to the Schrodinger equation we would see that the complex conjugate of the equation would be something like this with all they size turned into their conjugates and all the imaginary terms with their signs switched:\n",
        "\n",
        "> $i \\hbar \\frac{\\partial \\Psi}{\\partial t}=\\frac{-\\hbar^{2}}{2 m} \\frac{\\partial^{2} \\psi}{\\partial x^{2}}+V \\psi$\n",
        "\n",
        "> $-i \\hbar \\frac{\\partial \\psi^{*}}{\\partial t}=\\frac{-\\hbar^{2}}{2 m} \\frac{\\partial^{2} \\psi^{*}}{\\partial x^{2}}+V \\psi^{*}$\n",
        "\n",
        "* the goal of the proof is to show that this normalization integral $\\int_{-\\infty}^{\\infty}|\\psi|^{2} d x=$ const doesn't change with time, it stays the same:\n",
        "\n",
        "* the way to do this is to take the time derivate: if we can show that the time derivative of the normalization integral is 0 then our proof is complete $\\frac{d}{a t}\\left[\\int_{-\\infty}^{\\infty}|\\varphi|^{2} d x\\right]=0$\n",
        "\n",
        "* see complete proof in [video](https://www.youtube.com/watch?v=kUm4q0UIpio&list=WL&index=72&t=651s)"
      ]
    },
    {
      "cell_type": "markdown",
      "metadata": {
        "id": "6HCh0gYIJv8x"
      },
      "source": [
        "<font color=\"blue\">**Schrödinger Equation (Time Independent / Eigenvalue Equation)**</font>\n",
        "\n",
        "Time independent = Total energy of a system does NOT change with time\n",
        "\n",
        "**The Schroedinger equation can be written as a type of Eigenvalue equation**\n",
        "\n",
        "> $\\hat{H}|\\psi\\rangle= -i \\hbar \\frac{d}{d t}|\\psi\\rangle =\\frac{\\hbar}{i} \\frac{d}{d t}|\\psi\\rangle$\n",
        "\n",
        "**Simplified (when system is not changing over time: time-independent Schroedinger equation):**\n",
        "\n",
        "> $\\hat{H}|\\psi\\rangle=E |\\psi\\rangle$\n",
        "\n",
        "![ggg](https://raw.githubusercontent.com/deltorobarba/repo/master/quantum_151.png)\n",
        "\n",
        "> $E \\Psi(x)=\\frac{-\\hbar^{2}}{2 m} \\frac{d^{2} \\Psi(x)}{d x^{2}}+V \\Psi(x)$\n",
        "\n",
        "* E = **Energy the electron** is allowed to have\n",
        "\n",
        "* $\\Psi$ = **Wavefunction** (most likely position of an electron)\n",
        "\n",
        "* **Kinetic energy**: $\\frac{-\\hbar^{2}}{2 m} \\frac{d^{2} \\Psi(x)}{d x^{2}}$ (klassische Form: $K E=\\frac{1}{2} m v^{2}$)\n",
        "\n",
        "* **Potential energy**: $V \\Psi(x)$\n"
      ]
    },
    {
      "cell_type": "markdown",
      "metadata": {
        "id": "9ELVzEm879_7"
      },
      "source": [
        "*What would a typical Schroedinger solution look like? - All the solutions to the wave function take these two forms:*\n",
        "\n",
        "> $\\Psi(x)=\\sqrt{\\frac{2}{L}} \\cos \\left(\\frac{\\pi n x}{L}\\right)$ when $n=1,3,5 \\ldots$ (is odd $)$\n",
        "\n",
        "> $\\Psi(x)=\\sqrt{\\frac{2}{L}} \\sin \\left(\\frac{\\pi n x}{L}\\right)$ when $n=2,4,6 \\ldots$ (is even)\n",
        "\n",
        "*Now looking at $\\psi$, the probable position of an electron:*\n",
        "\n",
        "* central question: where is the electron?\n",
        "\n",
        "* n is the energy state / level of an electron (look above at quantum numbers)\n",
        "\n",
        "* When an electron is state n=1 (its first energy state) we apply the first formula: $\\Psi(x)=\\sqrt{\\frac{2}{L}} \\cos \\left(\\frac{\\pi n x}{L}\\right)$\n",
        "\n",
        "* then we get wave function for the electron that is in a given box in this case:\n",
        "\n",
        "![ggg](https://raw.githubusercontent.com/deltorobarba/repo/master/quantum_147.png)\n",
        "\n",
        "* And if we square it, we get the probability distribution (the probable position of an electron):\n",
        "\n",
        "![ggg](https://raw.githubusercontent.com/deltorobarba/repo/master/quantum_148.png)\n",
        "\n",
        "\n",
        "* And here some wave functions and probability densities for other energy states:\n",
        "\n",
        "![ggg](https://raw.githubusercontent.com/deltorobarba/repo/master/quantum_149.png)\n",
        "\n",
        "*And the solution that popped out was this:*\n",
        "\n",
        "> $E=\\frac{\\hbar^{2} n^{2} \\pi^{2}}{2 m L^{2}}$\n",
        "\n",
        "* Everything is a constant ($\\hbar$, $\\pi$, 2, m, L) or a whole number (here: n, which stands for the different states of an electron)\n",
        "\n",
        "* which means that energy E can ony have certain discrete (=quantum) values\n",
        "\n"
      ]
    },
    {
      "cell_type": "markdown",
      "metadata": {
        "id": "iIv5tk_B7h9Q"
      },
      "source": [
        "<font color=\"blue\">**How to solve the Schrödinger Equation (Time Independent)**\n",
        "\n",
        "Assumption: particle is moving on one line between 0 and a and limited by infinite blocks left and right, where its probability is 0 and the potential energy infinite = this means that the particle can only be found on the line between 0 and a.\n",
        "\n",
        "[SOLVING the SCHRODINGER EQUATION | Quantum Physics by Parth G](https://www.youtube.com/watch?v=sPZWtZ8vt1w)\n",
        "\n",
        "**Step 1: Take Schrodinger Equation, remove $V$ and focus on differential equation of kinetic energy term**\n",
        "\n",
        "* now we want to compute the wavefunction of this particle with the (Time Independent) Schrödinger Equation\n",
        "\n",
        "> $\\frac{-\\hbar^{2}}{2 m} \\frac{d^{2} \\Psi}{d x^{2}}+V \\Psi=E \\Psi$\n",
        "\n",
        "* the potential energy V is zero between 0 and a because nothing influences the particle, so it becomes this **differential equation** that we need to solve:\n",
        "\n",
        "> $\\frac{-\\hbar^{2}}{2 m} \\frac{d^{2} \\Psi}{d x^{2}}=E \\Psi$\n",
        "\n",
        "* $\\frac{d^{2} \\Psi}{d x^{2}}$ is second derivative of $\\Psi$ with respect to x\n",
        "\n",
        "We want to solve this equation:\n",
        "\n",
        "> $\\frac{-\\hbar^{2}}{2 m}$ <font color=\"red\">$ \\frac{d^{2} \\Psi}{d x^{2}}$</font> $=E \\Psi$\n",
        "\n",
        "* Normally try to solve <font color=\"red\">$ \\frac{d^{2} \\Psi}{d x^{2}}$</font> which is second derivative of $\\Psi$ with respect to x, when you know what $\\Psi$ is,\n",
        "\n",
        "* but we don't. We want to go the other way around, which is trickier.\n",
        "\n",
        "**Step 2: Rearrange the constants**\n",
        "\n",
        "Luckily we have two constants in our equation (blue):\n",
        "\n",
        "> <font color=\"blue\">$\\frac{-\\hbar^{2}}{2 m}$</font> $ \\frac{d^{2} \\Psi}{d x^{2}}$ = <font color=\"blue\">$E$</font> $\\Psi$\n",
        "\n",
        "Which means we can rearrange the equation to this:\n",
        "\n",
        "> $ \\frac{d^{2} \\Psi}{d x^{2}}$ = <font color=\"blue\">$\\frac{-2m E}{\\hbar^{2}}$</font>  $\\Psi$\n",
        "\n",
        "Now we can combine all constants in one constant $-k^2$ = $\\frac{-2m E}{\\hbar^{2}}$\n",
        "\n",
        "> $ \\frac{d^{2} \\Psi}{d x^{2}}$ = <font color=\"blue\">$-k^2$</font>  $\\Psi$\n",
        "\n",
        "**Step 3: Identify suitable function for this equation**\n",
        "\n",
        "* So which type of function obeys this relation $ \\frac{d^{2} \\Psi}{d x^{2}}$ = <font color=\"blue\">$-k^2$</font>  $\\Psi$? - Would be a [sinusoid](https://de.wikipedia.org/wiki/Sinusoid)!\n",
        "\n",
        "* $\\frac{d^2 y}{d x^{2}}=-y$ - when you start with a sine and differentiate it twice you still end up with a sinusoidal term\n",
        "\n",
        "* so if we carefully account for the constants in our equation, our solution is going to look like a sinusoid:\n",
        "\n",
        "> $\\Psi$ = $\\sin \\left(\\frac{\\sqrt{2 m E}}{\\hbar} x\\right)$ and replacing <font color=\"blue\">$\\frac{\\sqrt{2 m E}}{\\hbar}$</font> with $k$ $\\rightarrow$ $\\Psi$ = $\\sin ($ <font color=\"blue\">$k$</font> $x)$\n",
        "\n",
        "*Compare this with before (above is no minus and root taken is first term):*\n",
        "\n",
        "> $ \\frac{d^{2} \\Psi}{d x^{2}}$ = <font color=\"blue\">$\\frac{-2m E}{\\hbar^{2}}$</font>  $\\Psi$ =  <font color=\"blue\">$-k^2$</font>  $\\Psi$\n",
        "\n",
        "![ggg](https://raw.githubusercontent.com/deltorobarba/repo/master/quantum_176.png)\n",
        "\n",
        "**Step 4: Work our the boundaries to solve the differential equation, which means to get wavefunction**\n",
        "\n",
        "\n",
        "**When x = 0 $\\rightarrow$ $\\Psi$ = 0**\n",
        "\n",
        "* so at the wall at point a $\\Psi$ = 0, so that we first derivative is not getting infinite!\n",
        "\n",
        "* this works quite nice with sinusoidal, since $\\Psi = sin(kx)$ $\\rightarrow$ 0 = sin(k(0)) = 0\n",
        "\n",
        "**When x = a $\\rightarrow$ $\\Psi$ = 0**\n",
        "\n",
        "* 0 = sin(k(a)) since $\\Psi$ = sin(kx) $\\rightarrow$ 0 = sin(k(a)) = 0\n",
        "\n",
        "* we essentially find a restriction on the kind of sine wave that we can have as a solution\n",
        "\n",
        "* for example half a sine wave is a possible solution\n",
        "\n",
        "  * it's y=0 at point x=0 and x=a (at the walls), so $sin(ka) = 0$\n",
        "\n",
        "  * so we went through half a sine wave which means that this part in brackets (ka) must be equal to 180 degrees (because that's half a sine wave) $y = \\frac{1}{2}sin(x)$\n",
        "\n",
        "  * and if we use radians instead of degrees, which is the other unit of measuring angles, and a much more natural unit of measuring angles, then 180 degrees is actually equal to <font color=\"blue\">$\\pi$ radians = (ka)</font>\n",
        "\n",
        "  * So: $y = \\frac{1}{2}sin(x) = \\pi$\n",
        "\n",
        "* this means that this equation holds true if our wavefunction is half a sine wave <font color=\"blue\">$(ka)$ = $\\pi$ = $\\frac{\\sqrt{2m E}}{\\hbar}a$</font> , recall: k = $\\frac{\\sqrt{2m E}}{\\hbar}$\n",
        "\n",
        "* from earlier: $\\Psi$ = $\\sin \\left(\\frac{\\sqrt{2 m E}}{\\hbar} x\\right)$ =  $\\sin ($ <font color=\"blue\">$k$</font> $x)$\n",
        "\n",
        "**Step 5: Rearrange that equation to get the energy value**\n",
        "\n",
        "\n",
        "* and if we rearrange that <font color=\"blue\">$(ka)$ = $\\frac{\\sqrt{2m E}}{\\hbar}a$ = $\\pi$ </font> we have something that tells us the value of the energy $E$:\n",
        "\n",
        "> $E=\\frac{h^{2} \\pi^{2}}{2 m a^{2}}$\n",
        "\n",
        "* (with reduced Planck constant: $\\hbar=\\frac{h}{2 \\pi} =1.054571817 \\ldots \\times 10^{-34} \\mathrm{~J} \\cdot \\mathrm{s}$)\n",
        "\n",
        "![ggg](https://raw.githubusercontent.com/deltorobarba/repo/master/quantum_178.png)\n",
        "\n",
        "* in other words: if our wavefunction looks like this (half a sine function), then the energy of our particle is this $E=\\frac{h^{2} \\pi^{2}}{2 m a^{2}}$\n",
        "\n",
        "* another possibe solution is a full sine wave fitting into this region, just that the value at the end of the wall is 360 degrees, because we went through the whole sine wave = 2*$\\pi$ radians\n",
        "\n",
        "  * if the wavefunction looks like a whole sine wave <font color=\"blue\">$\\frac{\\sqrt{2m E}}{\\hbar}a$</font> = 2*$\\pi$\n",
        "\n",
        "  * then the  energy of the particle is $E=\\frac{4h^{2} \\pi^{2}}{2 m a^{2}}$\n",
        "\n",
        "* We can continue doing this for lots of half sine waves, so we could have three or four half fine waves in our region - and in each case we can calculate the energy of a particle when its wavefunction looks like those sine waves.\n",
        "\n",
        "![ggg](https://raw.githubusercontent.com/deltorobarba/repo/master/quantum_177.png)\n",
        "\n",
        "* This phenomenom is called \"Quantization\".\n",
        "\n",
        "  * because we can only have specific wave functions, and they correspond to specific energies, a particle can therefore only have specific energies\n",
        "\n",
        "  * so it cannot be anyhting in between and it cannot be less than the minimum of half a sine wave $E_{1}=\\frac{h^{2} \\pi^{2}}{2 m a^{2}}$\n",
        "\n",
        "  * this is also why for this particular setup cosine doesnt work (normally it does though) $\\Psi=\\cos \\left(\\frac{\\sqrt{2 m E}}{\\hbar} x\\right)$\n",
        "\n",
        "**Step 6: Normalization to get probabilities**\n",
        "\n",
        "*Normalization of the wavefunction*\n",
        "\n",
        "* there is one more thing to consider when finding a solution to the Schrodinger equation: Normalization\n",
        "\n",
        "> $\\Psi = \\sqrt{\\frac{2}{a}} \\sin \\left(\\frac{\\sqrt{2 m E}}{\\hbar} x\\right)$\n",
        "\n",
        "* it adds a factor of $\\sqrt{\\frac{2}{a}}$ to our solution\n",
        "\n",
        "* physical meaning: if our particle is in the lowest energy level $E_1$. Then in our specific setup with the two walls the wavefunction looks like half a sine wave. And remember the wavefunction corresponds directly to the probability of us finding that particle at a particular point in space. And this relationshipn is if we square our wavefunction $|\\Psi|^2$ (we take the square modulus), then we get the probability"
      ]
    },
    {
      "cell_type": "markdown",
      "metadata": {
        "id": "LnCYfCNzqmG9"
      },
      "source": [
        "<font color=\"blue\">**Schrödinger Equation (Time Dependent)**\n",
        "\n",
        "**Consider: Difference of probability in the position basis (changes over time) and the energy basis (doesn't change):**\n",
        "\n",
        "> <font color=\"red\">**The electron is still in the same shell, represented by the principal quantum number for example, because if the electron changes the shell, energy needs to be added or removed from the overall system. however if energy stays the same, it means the electron is still in the same shell, but \"moving\" around = probability distribution of finding it somewhere in this shell changes over time which is represented by the rotation $e^{i \\frac{\\hat{H} * t}{\\hbar}}$**</font>\\\n",
        "\n",
        ">$\n",
        "\\left[-\\frac{\\hbar^{2}}{2 m} \\nabla^{2}+V(\\vec{r})\\right] \\psi(\\vec{r})=E \\psi(\\vec{r})\n",
        "$\n",
        "\n",
        "The object on the left that acts on $\\psi(x)$ is an example of an operator.\n",
        "\n",
        ">$\n",
        "\\left[-\\frac{\\hbar^{2}}{2 m} \\nabla^{2}+V(\\vec{r})\\right]\n",
        "$ = Operator\n",
        "\n",
        "In effect, what is says to do is \"take the second derivative of $\\psi(x)$, multiply the result by $-\\left(\\hbar^{2} / 2 m\\right)$ and then add $V(x) \\psi(x)$ to the result of that.\"\n",
        "\n",
        "Quantum mechanics involves many different types of operators. This one, however, plays a special role because it appears on the left side of the Schrödinger equation. **It is called the Hamiltonian operator and is denoted as**\n",
        "\n",
        "> $\n",
        "\\hat{H}=-\\frac{\\hbar^{2}}{2 m} \\nabla^{2}+V(\\vec{r})\n",
        "$\n",
        "\n",
        "**Therefore the time-dependent Schrödinger equation can be written as**:\n",
        "\n",
        "> $\n",
        "\\hat{H} \\psi(x, t)=i \\hbar \\frac{\\partial}{\\partial t} \\psi(x, t)\n",
        "$\n",
        "\n",
        "with $\\hat{H}$ = $(-\\frac{\\hbar^{2}}{2 m} \\nabla^{2}+V(\\vec{r}))$ will be:\n",
        "\n",
        "> $\n",
        "(-\\frac{\\hbar^{2}}{2 m} \\nabla^{2}+V(\\vec{r})) \\; \\psi(x, t)=i \\hbar \\frac{\\partial}{\\partial t} \\psi(x, t)\n",
        "$\n",
        "\n",
        "bzw. rewritten:\n",
        "\n",
        "> $\\left[-\\frac{\\hbar^{2}}{2 m} \\frac{\\partial^{2}}{\\partial x^{2}}+V(x, t)\\right] \\Psi(x, t) = i \\hbar \\frac{\\partial}{\\partial t} \\Psi(x, t)$\n",
        "\n",
        "bzw written in another way (single particle variant):\n",
        "\n",
        "> <font color=\"red\">$[-\\frac{\\hbar^{2}}{2 m} \\nabla^{2} $</font> + <font color=\"green\">$V(x, t)$</font> ]\n",
        " <font color=\"blue\">$|\\psi\\rangle$</font> = $i \\hbar \\frac{\\partial}{\\partial t}$ <font color=\"blue\">$|\\psi\\rangle$</font>\n",
        "\n",
        "* <font color=\"red\">$[-\\frac{\\hbar^{2}}{2 m} \\nabla^{2} $</font> Kinetic energy\n",
        "\n",
        "* <font color=\"green\">$V(x, t)$</font> Potential energy\n",
        "\n",
        "* <font color=\"blue\">$|\\psi\\rangle$</font>  the wave function\n",
        "\n",
        "<font color=\"blue\">*Schrodinger equation: Derivation and how to use it (in Time Evolution)*\n",
        "\n",
        "Important rules of physics:\n",
        "\n",
        "* Conservation of energy -> deeply integrated into Schrodinger equation\n",
        "* total energy doesn't change\n",
        "* you can't make of destroy energy\n",
        "\n",
        "**Since we can write a quantum state $|\\Psi \\rangle$ in whatever basis we want, we can choose the energy Eigenbasis**. <font color=\"red\">what is meant by that? is that the principle quantum number for example</font>\n",
        "\n",
        "* We can write a state as the superposition of different energies.\n",
        "\n",
        "* And if we measure the energy of the particle it will be one of these with their probability\n",
        "\n",
        "> $|\\Psi \\rangle$ = $\\alpha |\\Psi \\rangle + \\beta |\\Psi \\rangle + \\gamma |\\Psi \\rangle$\n",
        "\n",
        "* with probability for example $|\\beta|^2$ for measuring second state\n",
        "\n",
        "**Say the state evolves in time, in other words we apply the time evolution $U$ (or $T$) to $|\\Psi \\rangle$, so $T |\\Psi \\rangle$**\n",
        "\n",
        "* what condition do we want to impose on the new energies of the state?\n",
        "\n",
        "* In other words: how we want conservation of energy to look in quantum mechanics?\n",
        "\n",
        "**Let's start where a particle just has one energy $E$ when we start**\n",
        "\n",
        "* means: it is an energy Eigenstart !!\n",
        "\n",
        "* we evolve it forward in time and look at the energy of the new state. That energy should be also $E$, otherwise energy wouldn't be conserved (Like in classical mechanics).\n",
        "\n",
        "> $|\\Psi \\rangle$ = $|1 \\rangle$ $\\rightarrow$ $T|\\Psi \\rangle$\n",
        "\n",
        "* Now also the average energy shouldn't change after some time, otherwise the energy wouldn't be conserved either.\n",
        "\n",
        "> $|\\Psi \\rangle$ = $\\alpha |\\Psi \\rangle + \\beta |\\Psi \\rangle + \\gamma |\\Psi \\rangle$\n",
        "\n",
        "* if you measured athe particle's energy initially with a certain probability $|\\beta|^2$, and then after time evolution again, it should be the same probability to measure that energy!\n",
        "\n",
        "* this is so strong, it gives us the schroedinger equation\n",
        "\n",
        "\n",
        "**We need to how the coefficients have changed in the new equation after time evolution**:\n",
        "\n",
        "> $|\\Psi \\rangle$ = $\\alpha |\\Psi \\rangle + \\beta |\\Psi \\rangle + \\gamma |\\Psi \\rangle$ (before)\n",
        "\n",
        "> $T |\\Psi \\rangle$ = $\\alpha' |\\Psi \\rangle + \\beta' |\\Psi \\rangle + \\gamma' |\\Psi \\rangle$ (after)\n",
        "\n",
        "* We want the probability to be the same, but that probability is just the lenght of this compex number squared $|\\gamma|^2 = |\\gamma'|^2 = 1$\n",
        "\n",
        "> <font color=\"red\">**So each coefficient can be represented as an arrow with equal length $|\\gamma|^2$ and $|\\gamma'|^2$ (hence the probability of measuring that energy this state is still the same!!), BUT $|\\gamma'|^2$ may be rotated by an angle $\\phi$**. This angle is new vector = rotation * old vector:</font>\n",
        "\n",
        "> <font color=\"red\">$\\gamma' = e^{i\\phi}\\gamma$</font>\n",
        "\n",
        "Let's plug that rotation $e^{i\\phi}$ in to our previous equation:\n",
        "\n",
        "> <font color=\"red\">$T |\\Psi \\rangle$ = $e^{i\\phi_1}\\alpha |\\Psi \\rangle + e^{i\\phi_2}\\beta |\\Psi \\rangle + e^{i\\phi_3}\\gamma |\\Psi \\rangle$</font>\n",
        "\n",
        "* where the angles / rotations $e^{i\\phi}$ are different for every energy = they are all rotated by a different amount !! Otherwise the rotation can be brought out and present and future state would be the essentially same:\n",
        "\n",
        "> $T |\\Psi \\rangle$ = $e^{i\\phi}\\alpha |\\Psi \\rangle + e^{i\\phi}\\beta |\\Psi \\rangle + e^{i\\phi}\\gamma |\\Psi \\rangle$ = $e^{i\\phi} (\\alpha |\\Psi \\rangle + \\beta |\\Psi \\rangle + \\gamma |\\Psi \\rangle)$ (this is showing that it's wrong!)\n",
        "\n",
        "The overall rotation wouldn't affect any measurement outcomes. Means no matter in which crazy situation you brought the particle in, it does nothing, which can't be right.\n",
        "\n",
        "> $T |\\Psi \\rangle$ = $e^{i\\phi}|\\Psi \\rangle$ (this is showing that it's wrong!\n",
        "\n",
        "\n",
        "* also the amount of rotation depends on time (little going forwardf = little rotation). That suggests the right amount of angle to rotate is Energy x Time. Plus some constants to deal with units and scaling etc.\n",
        "\n",
        "> <font color=\"red\">$\\phi = \\frac{E * t}{\\hbar}$</font>\n",
        "\n",
        "* And that's what the Schroedinger equation will tell you will happen to the state:\n",
        "\n",
        "> $T |\\Psi \\rangle$ = $e^{i \\frac{E * t}{\\hbar}}\\alpha |\\Psi \\rangle + e^{i \\frac{E * t}{\\hbar}}\\beta |\\Psi \\rangle + e^{i \\frac{E * t}{\\hbar}}\\gamma |\\Psi \\rangle$\n",
        "\n",
        "* And that's the same: (with $\\hat{H}$ for energy measurement operator, Hamiltonian):\n",
        "\n",
        "> <font color=\"red\">$T(t) |\\Psi \\rangle = e^{i \\frac{\\hat{H} * t}{\\hbar}}|\\Psi \\rangle$</font>\n",
        "\n",
        "*Common result for 2 observations:*\n",
        "\n",
        "Time Evolution per each step, observer 1:\n",
        "\n",
        "> $| \\Psi \\rangle$ $\\rightarrow$ at $t_1$ = $e^{\\frac{i \\mathcal{H} t_1}{\\hbar}} | \\Psi \\rangle$ $\\rightarrow$ at $t_2$ = <font color=\"blue\">$e^{\\frac{i \\mathcal{H} t_2}{\\hbar}} (e^{\\frac{i \\mathcal{H} t_1}{\\hbar}} | \\Psi \\rangle)$</font>\n",
        "\n",
        "Time Evolution at the end for observer 2 (not seeing time step 1):\n",
        "\n",
        "\n",
        "> $| \\Psi \\rangle$ $\\rightarrow$ at $t_2$ = <font color=\"orange\">$e^{\\frac{i \\mathcal{H} (t_1 + t_2)}{\\hbar}} | \\Psi \\rangle$</font>\n",
        "\n",
        "Where:\n",
        "\n",
        "> <font color=\"orange\">$e^{\\frac{i \\mathcal{H} (t_1 + t_2)}{\\hbar}} | \\Psi \\rangle$</font> = <font color=\"blue\">$e^{\\frac{i \\mathcal{H} t_2}{\\hbar}} (e^{\\frac{i \\mathcal{H} t_1}{\\hbar}} | \\Psi \\rangle)$\n",
        "\n",
        "Why? - because our angle of rotation depends on $t$ (and not $t^2$ or anything): $T\\left(t_{1}+t_{2}\\right)=T\\left(t_{2}\\right) T\\left(t_{1}\\right)$\n",
        "\n",
        "Taken from [Schrodinger equation comment response and homework answers video](https://www.youtube.com/watch?v=M_2h5uQ0SIc)"
      ]
    },
    {
      "cell_type": "markdown",
      "source": [
        "**Harmonic Oscillator (Hamiltonians / Solution of Schrodinger equation)**\n",
        "\n",
        "* The nuclear motion Schrödinger equation can be solved in a space-fixed (laboratory) frame, **but then the translational and rotational (external) energies are not accounted for**. Only the (internal) atomic vibrations enter the problem.\n",
        "\n",
        "* Further, for molecules larger than triatomic ones, it is quite common to introduce the **harmonic approximation, which approximates the potential energy surface** as a [quadratic function](https://en.m.wikipedia.org/wiki/Quadratic_function) of the atomic displacements. **This gives the harmonic nuclear motion Hamiltonian**.\n",
        "\n",
        "* Making the harmonic approximation, we can **convert the Hamiltonian into a sum of uncoupled one-dimensional [harmonic oscillator](https://en.m.wikipedia.org/wiki/Harmonic_oscillator) Hamiltonians**.\n",
        "\n",
        "> **The one-dimensional harmonic oscillator is one of the few systems that allows an exact solution of the Schrödinger equation.**\n",
        "\n",
        "https://de.m.wikipedia.org/wiki/Nullpunktsenergie#Harmonischer_Oszillator\n",
        "\n",
        "https://de.m.wikipedia.org/wiki/Harmonischer_Oszillator_(Quantenmechanik)"
      ],
      "metadata": {
        "id": "EKeKuaJkf4Pw"
      }
    },
    {
      "cell_type": "markdown",
      "metadata": {
        "id": "7sf5tauFtttx"
      },
      "source": [
        "###### ***Matrix Mechanics*** *(Heisenberg, discrete basis, spin representation, Kronecker delta function)*"
      ]
    },
    {
      "cell_type": "markdown",
      "source": [
        "**Matrix Mechanics (spin representation - discrete basis) - (Heisenberg)**\n",
        "\n",
        "* Matrix Mechanics (spin representation - discrete basis)\n",
        "\n",
        "* Video: [Matrix formulation of quantum mechanics](https://www.youtube.com/watch?v=wIwnb1ldYTI)\n",
        "\n",
        "* **Matrix mechanics ('matrix formulation'): Most useful when we deal with finite, discrete bases (like spin representation).**\n",
        "\n",
        "* **Matrix formulation of quantum mechanics reduces to the rules of simple matrix multiplication.**\n",
        "\n",
        "> $\\hat{A}=\\sum_{i j} A_{i j}\\left|u_{i}\\right\\rangle\\left\\langle u_{j}\\right| \\quad A_{i j}=\\left\\langle u_{i}|\\hat{A}| u_{j}\\right\\rangle$\n",
        "\n",
        "* An operator A can be written in the u basis as the sum over the outer products of the basis states\n",
        "* And the expansion coefficients Aij are given by the matrix elements of A with respect to the basis states\n",
        "* The expansion coefficients for an operator are labeled by 2 indices, so we will arrange them in a form of a square matrix, with the first index denoting the row of the matrix and the second index the column of the matrix\n",
        "* There operators are written as matrices\n",
        "\n",
        "> $\\left(\\begin{array}{ccccc}A_{11} & A_{12} & \\cdots & A_{1 j} & \\cdots \\\\ A_{21} & A_{22} & \\cdots & A_{2 j} & \\cdots \\\\ \\vdots & \\vdots & & \\vdots & \\\\ A_{i 1} & A_{i 2} & \\cdots & A_{i j} & \\cdots \\\\ \\vdots & \\vdots & & \\vdots & \\end{array}\\right)$\n",
        "\n",
        "Kets are written as column vectors:\n",
        "\n",
        "![ggg](https://raw.githubusercontent.com/deltorobarba/repo/master/quantum_218.png)\n",
        "\n",
        "Matrix formulation of Bra's: re-arrange complex, conjugate coefficient as a row vector:\n",
        "\n",
        "![ggg](https://raw.githubusercontent.com/deltorobarba/repo/master/quantum_219.png)\n",
        "\n",
        "An operator A can be written in the u basis as the sum over the outer products of the basis states. An Aij are the expansion coefficient in this case. Operators are written as matrices:\n",
        "\n",
        "![ggg](https://raw.githubusercontent.com/deltorobarba/repo/master/quantum_220.png)\n",
        "\n",
        "Summary of the matrix formulation of quantum mechanics for kets, bras and operators:\n",
        "\n",
        "![ggg](https://raw.githubusercontent.com/deltorobarba/repo/master/quantum_221.png)\n",
        "\n",
        "We will see how simple matrix multiplication rules work for the following 4 operations:\n",
        "\n",
        "![ggg](https://raw.githubusercontent.com/deltorobarba/repo/master/quantum_222.png)\n",
        "\n",
        "First, in the matrix formulation of quantum mechanics, a bracket is the matrix product of a row vector with a column vector, and gives a scalar:\n",
        "\n",
        "![ggg](https://raw.githubusercontent.com/deltorobarba/repo/master/quantum_223.png)\n",
        "\n",
        "![ggg](https://raw.githubusercontent.com/deltorobarba/repo/master/quantum_224.png)\n",
        "\n",
        "Adjoint operator: describe the action of an operator in the dual space:\n",
        "\n",
        "![ggg](https://raw.githubusercontent.com/deltorobarba/repo/master/quantum_225.png)\n",
        "\n",
        "Write an operator as an outer product of two states:\n",
        "\n",
        "![ggg](https://raw.githubusercontent.com/deltorobarba/repo/master/quantum_226.png)\n",
        "\n",
        "Summary:\n",
        "\n",
        "![ggg](https://raw.githubusercontent.com/deltorobarba/repo/master/quantum_227.png)"
      ],
      "metadata": {
        "id": "FdyLdYgFeqFK"
      }
    },
    {
      "cell_type": "markdown",
      "metadata": {
        "id": "jdJ5yNTZibYy"
      },
      "source": [
        "###### ***Wave Mechanics*** *(Schrödinger, continuous basis, position representation, Dirac delta function)*"
      ]
    },
    {
      "cell_type": "markdown",
      "metadata": {
        "id": "kYIaQDNv0C1c"
      },
      "source": [
        "**First: let's go from discrete basis $u_i$ to continuous basis $v_{\\alpha}$**\n",
        "\n",
        "* Much used **discrete basis**: Spin of quantum particles\n",
        "\n",
        "* Much used **continuous basis**: position of quantum particles (this one leads to the idea of wave function)\n",
        "\n",
        "> **The generalization is straightforward: it amounts to replacing Kronecker delta functions $\\delta_{i j}$ of two discrete variables with the Dirac delta function $\\delta (\\alpha - \\beta)$ of two continuous variables and sum over these indices by integrals over continuous indices**.\n",
        "\n",
        "* first concept: we work with an orthonormal basis $\\left\\langle u_{i} \\mid u_{j}\\right\\rangle=\\delta_{i j}$. replacing Kronecker delta functions $\\delta_{i j}$ of two discrete variables with the Dirac delta function $\\delta (\\alpha - \\beta)$\n",
        "\n",
        "* then we look at the expansion of Ket in a particular basis: replacing a sum over i with an integral over alpha\n",
        "\n",
        "* in yellow: just a proof why we would write a Dirac delta function only under an integral sign\n",
        "\n",
        "* last part: representation of an operator in a particular basis (for continuous basis)\n",
        "\n",
        "![ggg](https://raw.githubusercontent.com/deltorobarba/repo/master/quantum_217.png)"
      ]
    },
    {
      "cell_type": "markdown",
      "metadata": {
        "id": "bWBTMFaxI7Ie"
      },
      "source": [
        "**Wave Mechanics (Schrödinger)**\n",
        "\n",
        "* Wave Mechanics: Wave Function (position representation - continuous basis)\n",
        "\n",
        "* Check also part under Operator: Translation Operators (**Wave Mechanics: Translation Operator**)\n",
        "\n",
        "* Video: [Wave functions in quantum mechanics](https://www.youtube.com/watch?v=2lr3aA4vaBs)\n",
        "\n",
        "* https://en.m.wikipedia.org/wiki/Wave_function\n",
        "\n",
        "* wave functions is one possible way looking at a quantum system\n",
        "\n",
        "* is the so called position representation of quantum mechanics\n",
        "\n",
        "* leads to wave mechanics (for continuous basis)\n",
        "\n",
        "![ggg](https://raw.githubusercontent.com/deltorobarba/repo/master/quantum_232.png)\n",
        "\n",
        "Computing scalar between two states and the normalization:\n",
        "\n",
        "![ggg](https://raw.githubusercontent.com/deltorobarba/repo/master/quantum_233.png)\n",
        "\n",
        "How to get from the position representation to the momentum representation (via a first order differential equation):\n",
        "\n",
        "![ggg](https://raw.githubusercontent.com/deltorobarba/repo/master/quantum_234.png)\n",
        "\n",
        "**Transformation matrix $\\langle x|p\\rangle$ to go from the position representation to the momentum representation**:\n",
        "\n",
        "![ggg](https://raw.githubusercontent.com/deltorobarba/repo/master/quantum_235.png)\n",
        "\n",
        "To change between both representations we use Fourier transform:\n",
        "\n",
        "![ggg](https://raw.githubusercontent.com/deltorobarba/repo/master/quantum_236.png)\n",
        "\n",
        "If we go to 3 dimensions:\n",
        "\n",
        "![ggg](https://raw.githubusercontent.com/deltorobarba/repo/master/quantum_237.png)\n",
        "\n",
        "Summary:\n",
        "\n",
        "![ggg](https://raw.githubusercontent.com/deltorobarba/repo/master/quantum_238.png)"
      ]
    },
    {
      "cell_type": "markdown",
      "metadata": {
        "id": "9XCE4EGuJJij"
      },
      "source": [
        "**Wave Mechanics: Position and momentum operators acting on wave functions**\n",
        "\n",
        "* Video: [Position and momentum operators acting on wave functions](https://www.youtube.com/watch?v=Yw2YrTLSq5U)\n",
        "\n",
        "* Action of position and momentum operators on wave functions\n",
        "\n",
        "* The action of the position operator: it multiplies a wave function by x:\n",
        "\n",
        "> $x \\psi(x)$\n",
        "\n",
        "* the action of a momentum operator: it acts by calculating the derivative of a wave function\n",
        "\n",
        "> $-i \\hbar \\frac{d \\psi(x)}{d x}$\n",
        "\n",
        "* First: describe the act of a position operator in the position basis, and the act of a momentum operator in the momentum basis:\n",
        "\n",
        "![ggg](https://raw.githubusercontent.com/deltorobarba/repo/master/quantum_239.png)\n",
        "\n",
        "Second: describe the act of the momentum operator on a state Psi when written in the position representation (=basis) is such that the momentum operator calculates the derivative of the wavefunction and then multiplies the result by minus i h-bar (we need the translation operator):\n",
        "\n",
        "![ggg](https://raw.githubusercontent.com/deltorobarba/repo/master/quantum_240.png)\n",
        "\n",
        "Third: what happens when we act with the position operator in the momentum basis (proof: the momentum space wavefunction is related to the real space wavefcunction by a Fourier transform):\n",
        "\n",
        "![ggg](https://raw.githubusercontent.com/deltorobarba/repo/master/quantum_241.png)\n",
        "\n",
        "Generalize this to 3 dimensions:\n",
        "\n",
        "![ggg](https://raw.githubusercontent.com/deltorobarba/repo/master/quantum_242.png)\n",
        "\n",
        "Summary: as you can see there are different representations for the same thing, but the maths is differently difficult. So the task is to find a representation that is easy for a certain problem:\n",
        "\n",
        "![ggg](https://raw.githubusercontent.com/deltorobarba/repo/master/quantum_243.png)"
      ]
    },
    {
      "cell_type": "markdown",
      "metadata": {
        "id": "AZ-w7Fv4O91T"
      },
      "source": [
        "###### *Wavefunction & Global Phase Difference (Why we factor it out and leave phase difference only)*"
      ]
    },
    {
      "cell_type": "markdown",
      "source": [
        "Video: [Mapping the qubit state onto the Bloch sphere](https://youtu.be/lqWSziZJsLs?si=awJysOES0ky6pOQL)"
      ],
      "metadata": {
        "id": "k_CvOYxXto2Q"
      }
    },
    {
      "cell_type": "markdown",
      "source": [
        "The global phase is irrelevant in quantum mechanics because it has no observable effects on the system's measurements. The reason for this is tied to how quantum measurements work: when we measure a quantum state, we are interested in the probabilities of different outcomes, which are derived from the squared magnitudes of the state's amplitude components.\n",
        "\n",
        "Consider the quantum state in the image, where the state \\(\\lvert \\psi \\rangle = a\\lvert 0 \\rangle + b\\lvert 1 \\rangle\\). When you apply a global phase factor, such as \\(\\lvert \\psi' \\rangle = e^{-i\\Phi_a} \\lvert \\psi \\rangle\\), the state becomes:\n",
        "\n",
        "\\[\n",
        "\\lvert \\psi' \\rangle = e^{-i\\Phi_a} (a\\lvert 0 \\rangle + b\\lvert 1 \\rangle)\n",
        "\\]\n",
        "\n",
        "This transformation only multiplies the entire state by a constant complex factor \\(e^{-i\\Phi_a}\\), which affects the phase of both components of the state. However, when we compute the probability amplitudes or expectation values for observables (as in the operator \\(\\mathcal{O}\\) case), these are obtained from inner products of states, such as:\n",
        "\n",
        "\\[\n",
        "\\langle \\psi' \\rvert \\mathcal{O} \\lvert \\psi' \\rangle = e^{i\\Phi_a} e^{-i\\Phi_a} \\langle \\psi \\rvert \\mathcal{O} \\lvert \\psi \\rangle = \\langle \\psi \\rvert \\mathcal{O} \\lvert \\psi \\rangle\n",
        "\\]\n",
        "\n",
        "The global phase cancels out, leaving the observable unchanged. This shows that the global phase does not affect the outcomes of measurements.\n",
        "\n",
        "On the other hand, the **relative phase** between the components of a quantum superposition (i.e., the difference between \\(\\Phi_b\\) and \\(\\Phi_a\\)) does influence the interference effects and thus the probabilities of measurement outcomes. For example, in a superposition like \\(\\lvert \\psi \\rangle = r_a e^{i\\Phi_a}\\lvert 0 \\rangle + r_b e^{i\\Phi_b}\\lvert 1 \\rangle\\), the relative phase \\(\\Phi_b - \\Phi_a\\) will affect the interference terms, influencing observable properties such as the probability of collapsing into state \\(\\lvert 0 \\rangle\\) or \\(\\lvert 1 \\rangle\\) upon measurement.\n",
        "\n",
        "Thus, the relative phase carries physical information relevant to quantum measurements, while the global phase does not."
      ],
      "metadata": {
        "id": "KvRFKWWhtzEl"
      }
    },
    {
      "cell_type": "markdown",
      "source": [
        "Maybe you have, but from where I stand it was the first time to see the global phase represented in a Bloch Sphere. Thanks Professor Ioannis G. Karafyllidis for this insight. ⬇\n",
        "\n",
        "☸ The global phase is actually an inclination of the Bloch Sphere.\n",
        "\n",
        "⚛ In quantum field theory, the concept of global phase in a one-qubit system can be understood in the context of symmetries, particularly the global U(1) phase symmetry. U(1) is a mathematical group that represents a continuous symmetry associated with global phase transformations. We can outline how quantum field theory incorporates this symmetry to explain the concept:\n",
        "\n",
        "✅ Global U(1) Phase Symmetry:\n",
        "In quantum field theory, we work with fields and operators that are often complex-valued. The global U(1) phase symmetry refers to the ability to multiply the entire quantum state by a complex phase factor without affecting the physical observables. Mathematically, for a one-qubit system, the global U(1) phase transformation can be represented as follows:\n",
        "|ψ⟩ → e^(iθ)|ψ⟩ where, θ is a real number representing the phase transformation.\n",
        "\n",
        "✅ No Observable Impact: The key feature of this global phase transformation is that it does not change the probabilities of measurement outcomes or any other physically observable quantities. The global phase is, in a sense, \"gauged out\" because it affects both the quantum state and its complex conjugate, so it cancels out in terms of probabilities.\n",
        "\n",
        "✅ Conservation of Probability: The conservation of probability is ensured by the U(1) phase symmetry. The probabilities of measuring a qubit in any state remain constant under global phase transformations. This property is closely related to the conservation of probability in quantum systems.\n",
        "\n",
        "✅ Interference and Relative Phases: While the global phase itself is not physically meaningful, relative phases between different quantum states are significant. Quantum field theory allows for interference effects, which arise from relative phases between states. This interference is crucial in understanding phenomena like quantum entanglement and quantum superposition.\n",
        "\n",
        "✴ In summary, quantum field theory incorporates the global U(1) phase symmetry to explain the concept of global phase in a one-qubit system. This symmetry allows for phase transformations that do not affect the probabilities of measurement outcomes, highlighting the importance of relative phases in quantum interference effects and quantum phenomena.\n"
      ],
      "metadata": {
        "id": "163At1BtkCqb"
      }
    },
    {
      "cell_type": "markdown",
      "metadata": {
        "id": "UIwU3Qnjifn-"
      },
      "source": [
        "**How does the Wavefunction (one type) look like?**\n",
        "\n",
        "> $\\psi=e^{\\frac{1}{\\hbar}(px - Et)}$\n",
        "\n",
        "* p = momentum in direction x, x = position along x direction, E = energy, t = time\n",
        "\n",
        "* e is the exponential function, normally it doesn't look like a wave, like $e^{-x}$ or $e^{x}$\n",
        "\n",
        "* but the imaginary number $i=\\sqrt{-1}$ turns an exponential function into a wave\n",
        "\n",
        "* sinoisdal functions (sine and cosine) can be written in terms of the exponential function with $i$ in the exponent\n",
        "\n",
        "![ggg](https://raw.githubusercontent.com/deltorobarba/repo/master/quantum_244.png)\n",
        "\n",
        "* we could take one complex wave function and break it down into simpler waves, then we apply same maths on the simpler waves:\n",
        "\n",
        "![ggg](https://raw.githubusercontent.com/deltorobarba/repo/master/quantum_245.png)"
      ]
    },
    {
      "cell_type": "markdown",
      "metadata": {
        "id": "HVcEGLc6rS9p"
      },
      "source": [
        "Global phase factor $e^{i\\theta}$:\n",
        "\n",
        "* Eigenvalues and Eigenvectors exist also in other vector spaces than state spaces, but because state space is a complex vector space there is one important extra subtlety compared to real vector spaces which has to do with the global phase factor $e^{i\\theta}$\n",
        "\n",
        "* after choosing alpha to make the length of an Eigenstate equal to 1, we still have some extra freedom in the Eigenstate\n",
        "\n",
        "* multiplying $|\\Psi\\rangle$ with a Global phase factor $e^{i\\theta}$ makes the length of the resulting $|\\Psi'\\rangle$ still = 1\n",
        "\n",
        "![ggg](https://raw.githubusercontent.com/deltorobarba/repo/master/quantum_258.png)"
      ]
    },
    {
      "cell_type": "markdown",
      "source": [
        "Let's see what happens when we square the wave function:\n",
        "* the function is an oscillation in quantum possibilities moving through space and time\n",
        "* but it's a complex wave with one real and one imaginary component\n",
        "* **the components oscillate in sync with each other - but they are offset, shifted in phase by a constant amount**\n",
        "> phase is just the wave's current state in its up-down oscillation\n",
        "\n",
        "![geometry](https://raw.githubusercontent.com/deltorobarba/repo/master/sciences_0964.png)"
      ],
      "metadata": {
        "id": "KiDe4HzbgNh5"
      }
    },
    {
      "cell_type": "markdown",
      "source": [
        "When we apply the Born rule we are squaring these two waves and adding them together\n",
        "* but it turns out that this value doesn't depend on phase. The magnitude squared of the real and imaginary components stays the same, even as those components move up and down\n",
        "* It is that magnitude squared that we can observe, it determines the particles position\n",
        "* the phase itself is fundamentally unobservable. You can shift phase by any amount and you wouldnt change the resulting position of the particle, as long as you do the same shift to both the real and the imaginary components.\n",
        "\n",
        "![geometry](https://raw.githubusercontent.com/deltorobarba/repo/master/sciences_0965.png)\n"
      ],
      "metadata": {
        "id": "T6Kn28ZZgUsT"
      }
    },
    {
      "cell_type": "markdown",
      "source": [
        "In fact as long as you make the same shift across the entire wave function, all the observables are unchanged.\n",
        "* We call this form of transformation a global phase shift, and it's analogous to transforming our altitude zero point up or down by the same amount everywhere.\n",
        "* the equations of quantum mechanics have what we call **global phase invariance**\n",
        "* **Global phase is a Gauge symmetry of the system**\n",
        "\n",
        "![geometry](https://raw.githubusercontent.com/deltorobarba/repo/master/sciences_0966.png)\n",
        "\n"
      ],
      "metadata": {
        "id": "70R04sWsgbFd"
      }
    },
    {
      "cell_type": "markdown",
      "source": [
        "Reminder: Trigonometrie:\n",
        "\n",
        "> $\\begin{aligned} \\mathrm{e}^{\\mathrm{i} x} &=\\sum_{k=0}^{\\infty} \\frac{(\\mathrm{i} x)^{k}}{k !}=\\sum_{l=0}^{\\infty} \\frac{(\\mathrm{i} x)^{2 l}}{(2 l) !}+\\sum_{l=0}^{\\infty} \\frac{(\\mathrm{i} x)^{2 l+1}}{(2 l+1) !} \\\\ &=\\underbrace{\\sum_{l=0}^{\\infty}(-1)^{l} \\frac{x^{2 l}}{(2 l) !}}_{\\cos x}+\\underbrace{\\mathrm{i} \\sum_{l=0}^{\\infty}(-1)^{l} \\frac{x^{2 l+1}}{(2 l+1) !}}_{\\sin x} \\\\  \\mathrm{e}^{\\mathrm{i} x}&=\\cos x+\\mathrm{i} \\sin x \\\\  \\mathrm{e}^{\\mathrm{i} x}&=\\cos \\varphi+\\mathrm{i} \\sin \\varphi \\\\ \\mathrm{e}^{\\mathrm{i} x}&=x+\\mathrm{i} y \\end{aligned}$ Das ist die sogenannte [Eulerformel](https://de.m.wikipedia.org/wiki/Eulersche_Formel)!\n",
        "\n",
        "\n",
        "![ggg](https://upload.wikimedia.org/wikipedia/commons/thumb/7/71/Sine_cosine_one_period.svg/600px-Sine_cosine_one_period.svg.png)\n",
        "\n",
        "![ggg](https://raw.githubusercontent.com/deltorobarba/repo/master/quantum_040.jpg)\n",
        "\n",
        "![ggg](https://upload.wikimedia.org/wikipedia/commons/3/3b/Circle_cos_sin.gif)"
      ],
      "metadata": {
        "id": "QX7SeO65gi0O"
      }
    },
    {
      "cell_type": "markdown",
      "metadata": {
        "id": "aBGbzlHLPGlp"
      },
      "source": [
        "* The only reason phase is important is because it brings about interference effects. And interference effects are only dependent on the difference in phase between the two waves (we will abstract basis states to waves for now).\n",
        "\n",
        "> **Therefore, we can say that it’s the difference that counts, and not the absolute value.**\n",
        "\n",
        "* For example, if the phase difference is π radians then the waves would cancel each other out.\n"
      ]
    },
    {
      "cell_type": "markdown",
      "metadata": {
        "id": "9Sd8WkT9PbZX"
      },
      "source": [
        "![ggg](https://raw.githubusercontent.com/deltorobarba/repo/master/quantum_179.jpg)"
      ]
    },
    {
      "cell_type": "markdown",
      "metadata": {
        "id": "j8WPjzqBPfSd"
      },
      "source": [
        "We can conclude that the absolute value of the phase shift for both waves is meaningless to the interference. For as long as they both retain the phase difference, then the interference effect will be constant, and that’s what matters!\n"
      ]
    },
    {
      "cell_type": "markdown",
      "metadata": {
        "id": "kOiHZhJKPkMX"
      },
      "source": [
        "**Why the global phase doesn’t matter**\n",
        "\n",
        "As observed above, what matters is the phase difference. So think about it, if you’re describing the phase of two waves, it’s redundant to state both phases. **The better approach is to just state the phase difference**."
      ]
    },
    {
      "cell_type": "markdown",
      "metadata": {
        "id": "AjLdM9G6PojT"
      },
      "source": [
        "* The global phase is the absolute value of the phase shift for both waves.\n",
        "\n",
        "* For example, wave one and two each have a phase of (π/2) radians and (3π/2) radians, respectively. In this case, the phase (π/2) is a global phase since the phase difference (what actually counts) is π radians → (3π/2 - π/2 ).\n",
        "\n",
        "* Using the same example, we can define the relative phase (also known as the local phase) as the phase difference (π rad)."
      ]
    },
    {
      "cell_type": "markdown",
      "metadata": {
        "id": "MCUI_HZzP43M"
      },
      "source": [
        "We’ve found a method to **bypass the need for a fourth dimension by factoring out the global phase** and replacing the second phase with the relative phase. We can represent this mathematically.\n",
        "\n",
        "A general qubit state can be written\n",
        "\n",
        "> $|\\psi\\rangle=\\alpha|0\\rangle+\\beta|1\\rangle$\n",
        "\n",
        "with complex numbers, α and β, and the normalization constraint require that:\n",
        "\n",
        "\n",
        "> $|\\alpha|^{2}+|\\beta|^{2}=1$\n",
        "\n",
        "As previously stated, we can express the amplitudes in polar coordinates as (General equation for a qubit state):\n",
        "\n",
        "> $|\\psi\\rangle=r_{\\alpha} e^{i \\phi_{\\alpha}}|0\\rangle+r_{\\beta} e^{i \\phi_{\\beta}}|1\\rangle$\n",
        "\n",
        "with four real parameters:\n",
        "\n",
        "> $r_{\\alpha}, \\phi_{\\alpha}, r_{\\beta}$ and $\\phi_{\\beta}$\n",
        "\n",
        "**However, the only measurable quantities are the probabilities |α|² and |β|², so multiplying the state by an arbitrary factor $e^{iγ}$ (global phase) has no observable consequences, because**:\n",
        "\n",
        "> $\\left|e^{i \\gamma} \\alpha\\right|^{2}=\\left(e^{i \\gamma} \\alpha\\right)^{*}\\left(e^{i \\gamma} \\alpha\\right)=\\left(e^{-i \\gamma} \\alpha^{*}\\right)\\left(e^{i \\gamma} \\alpha\\right)=\\alpha^{*} \\alpha=|\\alpha|^{2}$\n",
        "\n",
        "Therefore, we can factor out $e^{iΦ}$ from the general equation:\n",
        "\n",
        "> $|\\psi\\rangle=e^{i \\phi_{\\alpha}}\\left(r_{\\alpha}|0\\rangle+r_{\\beta} e^{i\\left(\\phi_{\\beta}-\\phi_{\\alpha}\\right)}|1\\rangle\\right)$\n",
        "\n",
        "Now, if you calculate the amplitude |ψ|², the factor ($e^{iΦ_α}$) in front will vanish by the argument above. This is why we called it the global phase. However, the relative phase is the phase difference noted as (Φ_α - Φ_β). This is an observable-ish quantity which manifests through interference effects.\n",
        "\n",
        "Let’s consolidate the above equation into:\n",
        "\n",
        "> $|\\psi\\rangle=r_{\\alpha}|0\\rangle+r_{\\beta} e^{i\\left(\\phi_{\\beta}-\\phi_{\\alpha}\\right)}|1\\rangle=r_{\\alpha}|0\\rangle+r_{\\beta} e^{i \\phi}|1\\rangle$\n",
        "\n",
        "> $r_{\\alpha} \\in \\mathbb{R}, r_{\\beta} \\in \\mathbb{R}, \\phi \\in \\mathbb{R} \\mid \\phi=\\phi_{\\beta}-\\phi_{\\alpha}$\n",
        "\n",
        "where r_α, r_β and Φ all real parameters.\n",
        "\n",
        "**Notice that this equation can be represented in 3-D, as the global phase is gone.**\n",
        "\n"
      ]
    },
    {
      "cell_type": "markdown",
      "metadata": {
        "id": "odWaJ8hJPDMa"
      },
      "source": [
        "https://pavanjayasinha.medium.com/but-what-is-a-quantum-phase-factor-d05c15c321fe"
      ]
    },
    {
      "cell_type": "markdown",
      "metadata": {
        "id": "P8P-evW3U0Vx"
      },
      "source": [
        "**Physical Meaning of Phase**"
      ]
    },
    {
      "cell_type": "markdown",
      "source": [
        "> Remember: $e^{2 \\pi i}$ = 1 (Identity)"
      ],
      "metadata": {
        "id": "lQpy1dj0iHji"
      }
    },
    {
      "cell_type": "markdown",
      "metadata": {
        "id": "xhNcqwo6R4lV"
      },
      "source": [
        "* In quantum mechanics, a phase factor is a complex coefficient $e^{i \\theta}$ that multiplies a ket $|\\psi\\rangle$ or bra $\\langle\\phi|$.\n",
        "\n",
        "* <font color=\"blue\">**It does not, in itself, have any physical meaning**, since the introduction of a phase factor does not change the expectation values of a Hermitian operator.\n",
        "\n",
        "> That is, the values of $\\langle\\phi|A| \\phi\\rangle$ and $\\left\\langle\\phi\\left|e^{-i \\theta} A e^{i \\theta}\\right| \\phi\\right\\rangle$ are the same.\n",
        "\n",
        "* <font color=\"red\">However, differences in phase factors between two interacting quantum states can sometimes be measurable (such as in the Berry phase) and this can have important consequences."
      ]
    },
    {
      "cell_type": "markdown",
      "metadata": {
        "id": "syr76IkvRoPD"
      },
      "source": [
        "https://en.wikipedia.org/wiki/Phase_factor"
      ]
    },
    {
      "cell_type": "markdown",
      "metadata": {
        "id": "T9T3nptBTPNo"
      },
      "source": [
        "* When people say that the phase doesn't matter, they mean the overall, \"global\" phase. In other words, the state $|0\\rangle$ is equivalent to $e^{i \\theta}|0\\rangle$, the state $|1\\rangle$ is equivalent to $e^{i \\theta^{\\prime}}|1\\rangle$, and the state $|0\\rangle+|1\\rangle$ is equivalent to $e^{i \\theta^{\\prime \\prime}}(|0\\rangle+|1\\rangle)$.\n",
        "\n",
        "> Siehe auch Eulersche Formel: $e^{i \\phi}$ https://mathepedia.de/Eulersche_Formel.html\n",
        "\n",
        "> Note that \"equivalence\" is not preserved under addition, since $e^{i \\theta}|0\\rangle+e^{i \\theta^{\\prime}}|1\\rangle$ is not equivalent to $|0\\rangle+|1\\rangle$, because there can be a relative phase $e^{i\\left(\\theta-\\theta^{\\prime}\\right)}$.\n",
        "\n",
        "* If we wanted to describe this very simple fact with unnecessarily big words, we could say something like \"the complex projective Hilbert space of rays, the set of equivalence classes of nonzero vectors in the Hilbert space under multiplication by complex phase, cannot be endowed with the structure of a vector space\".\n",
        "\n",
        "* Because the equivalence doesn't play nicely with addition, **it's best to just ignore the global phase ambiguity whenever you're doing real calculations**. Finally, when you're done with the entire calculation, and arrive at a state, you are free to multiply that final result by an overall phase."
      ]
    },
    {
      "cell_type": "markdown",
      "metadata": {
        "id": "BBLDuK4vRpXR"
      },
      "source": [
        "https://physics.stackexchange.com/questions/552796/the-importance-of-the-phase-in-quantum-mechanics"
      ]
    },
    {
      "cell_type": "markdown",
      "metadata": {
        "id": "9Hew4HucSHKJ"
      },
      "source": [
        "* Phase: Any one point or portion in a recurring series of changes, as in the changes of motion of one of the particles constituting a wave or vibration; one portion of a series of such changes, in distinction from a contrasted portion, as the portion on one side of a position of equilibrium, in contrast with that on the opposite side.\n"
      ]
    },
    {
      "cell_type": "markdown",
      "metadata": {
        "id": "nxiSY8ddRqi1"
      },
      "source": [
        "https://courses.lumenlearning.com/boundless-chemistry/chapter/orbital-shapes/"
      ]
    },
    {
      "cell_type": "markdown",
      "metadata": {
        "id": "CThWPZdFEXlO"
      },
      "source": [
        "In principle, we need four real numbers to describe a qubit, two for $\\alpha$ and two for $\\beta$. The constraint $|\\alpha|^{2}+|\\beta|^{2}=1$ reduces to three numbers.\n",
        "\n",
        "In quantum mechanics, two vectors that differ from a global phase factor are considered equivalent. A global phase factor is a complex number of unit modulus multiplying the state. By eliminating this factor, a qubit can be described by two real numbers $\\theta$ and $\\phi$ as follows:\n",
        "\n",
        ">$\n",
        "|\\psi\\rangle=\\cos \\frac{\\theta}{2}|0\\rangle+\\mathrm{e}^{\\mathrm{i} \\phi} \\sin \\frac{\\theta}{2}|1\\rangle\n",
        "$\n",
        "\n",
        "where $0 \\leq \\theta \\leq \\pi$ and $0 \\leq \\phi<2 \\pi .$ In the above notation, state $|\\psi\\rangle$ can be represented by a point on the surface of a sphere of unit radius, called Bloch sphere. Numbers $\\theta$ and $\\phi$ are spherical angles that locate the point that describes $|\\psi\\rangle$, as shown in Fig. A.1. The vector showed there is given by\n",
        "\n",
        "> $\\left[\\begin{array}{c}\\sin \\theta \\cos \\phi \\\\ \\sin \\theta \\sin \\phi \\\\ \\cos \\theta\\end{array}\\right]$\n",
        "\n",
        "When we disregard global phase factors, there is a one-to-one correspondence between the quantum states of a qubit and the points on the Bloch sphere. State $|0\\rangle$ is in the north pole of the sphere, because it is obtained by taking $\\theta=0 .$ State $|1\\rangle$ is in the south pole. States\n",
        "\n",
        "> $\n",
        "|\\pm\\rangle=\\frac{|0\\rangle \\pm|1\\rangle}{\\sqrt{2}}\n",
        "$\n",
        "\n",
        "are the intersection points of the $x$-axis and the sphere, and states $(|0\\rangle \\pm \\mathrm{i}|1\\rangle) / \\sqrt{2}$ are the intersection points of the $y$-axis with the sphere.\n",
        "\n",
        "The representation of classical bits in this context is given by the poles of the Bloch sphere and the representation of the probabilistic classical bit, that is, 0 with probability $p$ and 1 with probability $1-p$, is given by the point in $z$-axis with coordinate $2 p-1$. The interior of the Bloch sphere is used to describe the states of a qubit in the presence of decoherence."
      ]
    },
    {
      "cell_type": "markdown",
      "source": [
        "##### <font color=\"blue\">*Quantum Algorithms*"
      ],
      "metadata": {
        "id": "fuo8a8CROAN5"
      }
    },
    {
      "cell_type": "markdown",
      "source": [
        "###### ***Arithmetics***"
      ],
      "metadata": {
        "id": "DR19SnhS8Poy"
      }
    },
    {
      "cell_type": "markdown",
      "source": [
        "<font color=\"blue\">*Simple Addition & Multiplication with Qubits*"
      ],
      "metadata": {
        "id": "suDkPLFx9C0j"
      }
    },
    {
      "cell_type": "markdown",
      "source": [
        "https://summerofcode.withgoogle.com/programs/2022/projects/bYQLcqgf\n",
        "\n",
        "**Task 1: Addition of 1 + 0 + 0 = 1 (01 in binary): We flip q0 and q1 from 0 to 1 with Pauli-X**\n",
        "\n",
        "**Task 2: Addition of 1 + 1 + 0 = 2 (10 in binary): We flip q0 and q1 from 0 to 1 with Pauli-X**\n",
        "\n",
        "**Task 3: Addition of 1 + 1 + 1 = 3 (11 in binary): We flip q0, q1 and q2 from 0 to 1 with Pauli-X**\n",
        "\n",
        "\n"
      ],
      "metadata": {
        "id": "sZzksCzJ9IsC"
      }
    },
    {
      "cell_type": "markdown",
      "source": [
        "https://qiskit.org/textbook/ch-states/atoms-computation.html#adder\n",
        "\n"
      ],
      "metadata": {
        "id": "Ag36BugP9OzD"
      }
    },
    {
      "cell_type": "code",
      "source": [
        "import cirq\n",
        "\n",
        "# Create Circuit object\n",
        "circuit = cirq.Circuit()\n",
        "\n",
        "# Define 2 qubits - They start with 0 (if you measure no, you'll see a 0 in both)\n",
        "(q0, q1, q2, q3) = cirq.LineQubit.range(4)\n",
        "\n",
        "\n",
        "\n",
        "## Set up calculation:\n",
        "\n",
        "# We flip q0 from 0 to 1 with Pauli-X\n",
        "circuit.append([cirq.X(q0)])\n",
        "\n",
        "# We flip q1 from 0 to 1 with Pauli-X\n",
        "#circuit.append([cirq.X(q1)])\n",
        "\n",
        "# We flip q2 from 0 to 1 with Pauli-X\n",
        "#circuit.append([cirq.X(q2)])\n",
        "\n",
        "\n",
        "\n",
        "# CNOT (Controlled Pauli X) for input q2 and target q0 (0 is same, 1 if different for target)\n",
        "# since q2 is 0 and q0 is 1, result will stay 1\n",
        "circuit.append([cirq.CNOT(q0, q2)])\n",
        "\n",
        "# CNOT (Controlled Pauli X) for input q2 and target q1 (0 is same, 1 if different for target)\n",
        "# since q2 is 0 and q1 is 1, result will stay 1\n",
        "circuit.append([cirq.CNOT(q1, q2)])\n",
        "\n",
        "# Toffoli (CCNOT) gate on q3 (if both inputs are equal, write 1, else 0) (perform a NOT on target qubit when both controls are in state 1)\n",
        "circuit.append([cirq.CCX(q0, q1, q3)])\n",
        "\n",
        "# Measure output quantum bits q2 and q3\n",
        "circuit.append([cirq.measure(q2), cirq.measure(q3)])\n",
        "\n",
        "# See what circuit has been produced (optional)\n",
        "print(circuit)"
      ],
      "metadata": {
        "colab": {
          "base_uri": "https://localhost:8080/"
        },
        "id": "IMfe7u8j8tK5",
        "outputId": "e9690219-b70f-4810-8fd8-35d812b45ee0"
      },
      "execution_count": null,
      "outputs": [
        {
          "output_type": "stream",
          "name": "stdout",
          "text": [
            "                  ┌──┐\n",
            "0: ───X───@────────@─────────\n",
            "          │        │\n",
            "1: ───────┼───@────@─────────\n",
            "          │   │    │\n",
            "2: ───────X───X────┼M────────\n",
            "                   │\n",
            "3: ────────────────X─────M───\n",
            "                  └──┘\n"
          ]
        }
      ]
    },
    {
      "cell_type": "code",
      "source": [
        "# Step 6: Perform simulation of the circuit and read out result\n",
        "sim = cirq.Simulator()\n",
        "results = sim.run(circuit, repetitions=10)\n",
        "print(results)"
      ],
      "metadata": {
        "colab": {
          "base_uri": "https://localhost:8080/"
        },
        "id": "RsCNAOlO8xEE",
        "outputId": "26ba2552-a162-49bf-ac51-39b069da2cb4"
      },
      "execution_count": null,
      "outputs": [
        {
          "output_type": "stream",
          "name": "stdout",
          "text": [
            "q(2)=1111111111\n",
            "q(3)=0000000000\n"
          ]
        }
      ]
    },
    {
      "cell_type": "markdown",
      "source": [
        ">* Read from rightmost qubit first (q3) and then next left (q2): result is 10 (binary) = 2 in decimal"
      ],
      "metadata": {
        "id": "KObteRjZ81Ta"
      }
    },
    {
      "cell_type": "markdown",
      "source": [
        "<font color=\"blue\">*Simple Multiplication with Qubits*\n",
        "\n",
        "https://csferrie.medium.com/the-stupidest-most-technologically-and-resource-inefficient-way-to-multiply-by-two-fd6d0290f7b6"
      ],
      "metadata": {
        "id": "xNXnefxS85g9"
      }
    },
    {
      "cell_type": "markdown",
      "source": [
        "###### *Quantum Fourier Transform*"
      ],
      "metadata": {
        "id": "kFsEBZ9lRojQ"
      }
    },
    {
      "cell_type": "code",
      "source": [
        "!pip install pennylane qutip cirq -q\n",
        "import pennylane as qml\n",
        "import numpy as np\n",
        "import cirq"
      ],
      "metadata": {
        "id": "FiPUUV9XOk2b"
      },
      "execution_count": null,
      "outputs": []
    },
    {
      "cell_type": "markdown",
      "source": [
        "https://pennylane.ai/qml/demos/tutorial_expressivity_fourier_series"
      ],
      "metadata": {
        "id": "ZcRjnecFR2Q3"
      }
    },
    {
      "cell_type": "markdown",
      "source": [
        "> Momentum Space and Position Space with Quantum Fourier Transform\n",
        "\n",
        "https://youtu.be/W8QZ-yxebFA"
      ],
      "metadata": {
        "id": "zqSk2hMxR5kx"
      }
    },
    {
      "cell_type": "markdown",
      "source": [
        "> **Quantum Fourier Transform is the change from one basis (computational) to another (Fourier basis)**\n",
        "\n",
        "* Quantum Fourier Transform is the inverse Discrete Fourier Transform)\n",
        "\n",
        "\n",
        "![ggg](https://raw.githubusercontent.com/deltorobarba/repo/master/quantum_047.png)\n",
        "\n",
        "**General formula**\n",
        "\n",
        "* Remember: <font color=\"blue\">$e^{2\\pi i}$ = 1</font> (identity operation), and see why $e^{\\pi i}$ = -1 in [this video](https://youtu.be/-AyE1Wpgo3Q)\n",
        "\n",
        "\n",
        "* In QFT we change the <font color=\"blue\">$\\theta$ = phase in $e^{2\\pi i \\theta}$</font> = Eigenvalue of Oracle function $U$ associated with an eigenvector |u⟩\n",
        "\n",
        "* The phase $\\theta$ is expressed as: <font color=\"blue\">$\\theta$ = $\\frac{x_n}{2^{k_n}}$</font> with:\n",
        "\n",
        "  * <font color=\"blue\">$x_n$ = 0 or 1</font> state\n",
        "\n",
        "  * <font color=\"blue\">$k_n$</font> number of Qubits\n",
        "\n",
        "* This is expressed in a so-called \"controlled-R quantum gate\" that **applies a relative phase change to |1>**\n",
        "\n",
        "* The matrix form of this operator is: <font color=\"blue\">$\\hat{R}_{k}=\\left(\\begin{array}{cc}1 & 0 \\\\ 0 & e^{2 \\pi i \\frac{x_n}{ 2^{k_n}}}\\end{array}\\right)$</font>"
      ],
      "metadata": {
        "id": "do0mly_BR716"
      }
    },
    {
      "cell_type": "markdown",
      "source": [
        "*Quantum Fourier Transform with 3 Qubits: Introduction*\n",
        "\n",
        "**Computational Basis States:** <font color=\"blue\">$\\tilde{x_1}$ = 0 or 1</font>, <font color=\"blue\">$\\tilde{x_2}$ = 0 or 1</font>, <font color=\"blue\">$\\tilde{x_3}$ = 0 or 1</font>. Number of Qubits: <font color=\"blue\">$k_1$ = 1, $k_2$ = 2, $k_3$ = 3</font>\n",
        "\n",
        "> <font color=\"blue\">$\\tilde{x_1}$ = $\\frac{1}{\\sqrt{2}}\\left(|0\\rangle+\\mathrm{e}^{2 \\pi \\mathrm{i}\\left(\\frac{\\mathrm{x}_{1}}{2^{k_1}}+\\frac{x_{2}}{2^{k_2}}+\\frac{x_{3}}{2^{k_3}}\\right)}|1\\rangle\\right)$</font> = $\\frac{1}{\\sqrt{2}}\\left(|0\\rangle+\\mathrm{e}^{2 \\pi \\mathrm{i}\\left(\\frac{\\mathrm{x}_{1}}{2^1}+\\frac{x_{2}}{2^2}+\\frac{x_{3}}{2^3}\\right)}|1\\rangle\\right)$  = $\\frac{1}{\\sqrt{2}}\\left(|0\\rangle+\\mathrm{e}^{2 \\pi \\mathrm{i}\\left(\\frac{\\mathrm{x}_{1}}{2}+\\frac{x_{2}}{4}+\\frac{x_{3}}{8}\\right)}|1\\rangle\\right)$\n",
        "\n",
        "* If only $\\tilde{x_1}$ is activated, then it is a 180° Z-rotation of $\\pi$ radians = -1\n",
        "\n",
        "* If only $\\tilde{x_2}$ is activated, then it is a 90° S-rotation of $\\frac{\\pi}{2}$ radians = i\n",
        "\n",
        "* If only $\\tilde{x_3}$ is activated, then it is a 45° T-rotation of $\\frac{\\pi}{4}$ radians = between 1 and i\n",
        "\n",
        "> <font color=\"blue\">$\\tilde{x_2}$ = $\\frac{1}{\\sqrt{2}}\\left(|0\\rangle+\\mathrm{e}^{2 \\pi \\mathrm{i}\\left(\\frac{x_2}{2^{k_1}}+\\frac{x_3}{2^{k_2}}\\right)}|1\\rangle\\right)$</font> = $\\frac{1}{\\sqrt{2}}\\left(|0\\rangle+\\mathrm{e}^{2 \\pi \\mathrm{i}\\left(\\frac{x_2}{2^1}+\\frac{x_3}{2^2}\\right)}|1\\rangle\\right)$ = $\\frac{1}{\\sqrt{2}}\\left(|0\\rangle+\\mathrm{e}^{2 \\pi \\mathrm{i}\\left(\\frac{x_2}{2}+\\frac{x_3}{4}\\right)}|1\\rangle\\right)$\n",
        "\n",
        "* If only $\\tilde{x_2}$ is activated, then it is a 180° Z-rotation of $\\pi$ radians = -1\n",
        "\n",
        "* If only $\\tilde{x_3}$ is activated, then it is a 90° S-rotation of $\\frac{\\pi}{2}$ radians = i\n",
        "\n",
        "* If both $\\tilde{x_2}$ and $\\tilde{x_3}$ are activated, then it is a 180° + 90° = 170° rotation of $\\pi + \\frac{\\pi}{2}$ radians = -i\n",
        "\n",
        "> <font color=\"blue\">$\\tilde{x_3}$ = $\\frac{1}{\\sqrt{2}}\\left(|0\\rangle+\\mathrm{e}^{2 \\pi \\mathrm{i}\\left(\\frac{x_3}{2^{k_1}}\\right)}|1\\rangle\\right)$</font> = $\\frac{1}{\\sqrt{2}}\\left(|0\\rangle+\\mathrm{e}^{2 \\pi \\mathrm{i}\\left(\\frac{x_3}{2^1}\\right)}|1\\rangle\\right)$ = $\\frac{1}{\\sqrt{2}}\\left(|0\\rangle+\\mathrm{e}^{\\pi \\mathrm{i}x_3}|1\\rangle\\right)$\n",
        "\n",
        "* If $\\tilde{x_3}$ is activated, then it is a 180° Z-rotation of $\\pi$ radians = -1\n"
      ],
      "metadata": {
        "id": "siVEL1J1R90W"
      }
    },
    {
      "cell_type": "markdown",
      "source": [
        "**Circuit Construction**\n",
        "\n",
        "*Compare the equations above with the circuit activations below (how a circuits computes the results). For example for the first qubit the operator / gate $S$ = 90° rotation is only activated if the second qubit $x_2$ is in state 1. Here it is activated because $x_2$ = 1:*\n",
        "\n",
        "![ggg](https://raw.githubusercontent.com/deltorobarba/repo/master/sciences_0812.png)\n",
        "\n",
        "*Here including the 8x8 matrix form for the complete operator:*\n",
        "\n",
        "![ggg](https://raw.githubusercontent.com/deltorobarba/repo/master/sciences_0801.png)"
      ],
      "metadata": {
        "id": "1UFlmoOpR_fp"
      }
    },
    {
      "cell_type": "markdown",
      "source": [
        "*Quantum Fourier Transform with 1 Qubit*\n",
        "\n",
        "**Computational Basis States:** <font color=\"blue\">$\\tilde{x_1}$ = 0 or 1</font>. Number of Qubits: <font color=\"blue\">$k_1$ = 1</font>\n",
        "\n",
        "\n",
        "*Linear transformation of a qubit in the computational basis 0 and 1 each separately to the Fourier basis:*\n",
        "\n",
        "![ggg](https://raw.githubusercontent.com/deltorobarba/repo/master/sciences_0813.png)\n",
        "\n",
        "**Computational Basis in $|0\\rangle$**\n",
        "\n",
        "> <font color=\"blue\">For $x_1$ = 0 $\\Rightarrow$</font> <font color=\"blue\">$\\tilde{x_1}$ = $\\frac{1}{\\sqrt{2}}\\left(|0\\rangle+\\mathrm{e}^{2 \\pi \\mathrm{i}\\left(\\frac{x_1}{2^{k_1}}\\right)}|1\\rangle\\right)$</font> = $\\frac{1}{\\sqrt{2}}\\left(|0\\rangle+\\mathrm{e}^{2 \\pi \\mathrm{i}\\left(\\frac{x_1}{2^1}\\right)}|1\\rangle\\right)$  $\\Rightarrow$ $\\mathrm{e}^{2 \\pi \\mathrm{i}\\left(\\frac{0}{2}\\right)}$ = $\\mathrm{e}^{2 \\pi \\mathrm{i} 0}$  = $\\mathrm{e}^{0}$ = 1 (no rotation)\n",
        "\n",
        "![ggg](https://raw.githubusercontent.com/deltorobarba/repo/master/sciences_0810.png)\n",
        "\n",
        "**Computational Basis in $|1\\rangle$**\n",
        "\n",
        "> <font color=\"blue\">For $x_1$ = 1 $\\Rightarrow$</font> <font color=\"blue\">$\\tilde{x_1}$ = $\\frac{1}{\\sqrt{2}}\\left(|0\\rangle+\\mathrm{e}^{2 \\pi \\mathrm{i}\\left(\\frac{x_1}{2^{k_1}}\\right)}|1\\rangle\\right)$</font> = $\\frac{1}{\\sqrt{2}}\\left(|0\\rangle+\\mathrm{e}^{2 \\pi \\mathrm{i}\\left(\\frac{x_1}{2^1}\\right)}|1\\rangle\\right)$ $\\Rightarrow$ $\\mathrm{e}^{2 \\pi \\mathrm{i}\\left(\\frac{1}{2}\\right)}$ = $e^{\\pi i 1} =$ <font color=\"blue\">$-1$</font> (180° Z-rotation)\n",
        "\n",
        "![ggg](https://raw.githubusercontent.com/deltorobarba/repo/master/sciences_0811.png)"
      ],
      "metadata": {
        "id": "udSlZbAmSIS9"
      }
    },
    {
      "cell_type": "markdown",
      "source": [
        "*Quantum Fourier Transform with 1 Qubit is a Hadamard transform!*\n",
        "\n",
        "**One qubit QFT matrix**: $\\frac{1}{\\sqrt{2}}\\left(\\begin{array}{ll}1 & 1 \\\\ 1 & \\mathrm{e}^{\\pi i}\\end{array}\\right)$, where $\\mathrm{e}^{\\pi \\mathrm{i}}$ = -1. So it is: <font color=\"blue\"> QFT für x=1 = $\\frac{1}{\\sqrt{2}}\\left(\\begin{array}{ll}1 & 1 \\\\ 1 & -1\\end{array}\\right)$\n",
        "\n",
        "**Compare with Hadamard transform matrix:**\n",
        "\n",
        "In quantum computing, the Hadamard gate is a one-qubit rotation, mapping the qubitbasis states $|0\\rangle$ and $|1\\rangle$ to two **superposition** states with **equal weight of the computational basis** states $|0\\rangle$ and $|1\\rangle$. Usually the phases are chosen so that\n",
        "\n",
        ">$\n",
        "H=\\frac{|0\\rangle+|1\\rangle}{\\sqrt{2}}\\langle 0|+\\frac{|0\\rangle-|1\\rangle}{\\sqrt{2}}\\langle 1|\n",
        "$\n",
        "\n",
        "in Dirac notation. This corresponds to the transformation matrix\n",
        "\n",
        "> <font color=\"blue\">$\n",
        "H_{1}=\\frac{1}{\\sqrt{2}}\\left(\\begin{array}{cc}\n",
        "1 & 1 \\\\\n",
        "1 & -1\n",
        "\\end{array}\\right)\n",
        "$\n",
        "\n",
        "in the $|0\\rangle,|1\\rangle$ basis, also known as the computational basis. The states $\\frac{|0\\rangle+|1\\rangle}{\\sqrt{2}}$ and $\\frac{|0\\rangle-|1\\rangle}{\\sqrt{2}}$ are known as $|+\\rangle$ and $|-\\rangle$ respectively, and together constitute the polar basis in quantum computing.\n",
        "\n",
        "![ggg](https://raw.githubusercontent.com/deltorobarba/repo/master/quantum_073.jpg)\n"
      ],
      "metadata": {
        "id": "Uh_1dYT9SMzu"
      }
    },
    {
      "cell_type": "markdown",
      "source": [
        "**Why Hadamard transform is exactly a 1 qubit Quantum Fourier Transform:** (see result of + for 0 state and - for 1 state) - Matrix-Vector-Multiplication (Single Qubit)\n",
        "\n",
        "> <font color=\"blue\">$H |0\\rangle$</font> $ = \\frac{1}{\\sqrt{2}}\\left(\\begin{array}{cc}1 & 1 \\\\ 1 & -1\\end{array}\\right)\\left[\\begin{array}{l}1 \\\\ 0\\end{array}\\right] =\\frac{1}{\\sqrt{2}}\\left[\\begin{array}{c}1 \\\\ 1\\end{array}\\right]$ <font color=\"blue\">$ \\,\\,= |+\\rangle$ = $\\frac{1}{\\sqrt{2}}(|0\\rangle+|1\\rangle)$\n",
        "\n",
        "> <font color=\"blue\">$H |1\\rangle$</font>$ = \\frac{1}{\\sqrt{2}}\\left(\\begin{array}{cc}1 & 1 \\\\ 1 & -1\\end{array}\\right)\\left[\\begin{array}{l}0 \\\\ 1\\end{array}\\right]=\\frac{1}{\\sqrt{2}}\\left[\\begin{array}{c}1 \\\\ -1\\end{array}\\right]$ <font color=\"blue\">$ = |-\\rangle$ = $\\frac{1}{\\sqrt{2}}(|0\\rangle-|1\\rangle)$\n",
        "\n",
        "$|+\\rangle=\\frac{1}{\\sqrt{2}}(|0\\rangle+|1\\rangle)$ weil <font color=\"gray\">wegen $|0\\rangle=\\left[\\begin{array}{l}1 \\\\ 0\\end{array}\\right]$ und $|1\\rangle=\\left[\\begin{array}{l}0 \\\\ 1\\end{array}\\right]$ daher:</font> $\\frac{1}{\\sqrt{2}}\\left[\\begin{array}{ll}1 + 0 \\\\ 0 + 1\\end{array}\\right]=\\frac{1}{\\sqrt{2}}\\left[\\begin{array}{c}1 \\\\ 1\\end{array}\\right]$\n",
        "\n",
        "$|-\\rangle=\\frac{1}{\\sqrt{2}}(|0\\rangle-|1\\rangle)$ weil: $\\frac{1}{\\sqrt{2}}\\left[\\begin{array}{ll}1 - 0 \\\\ 0 - 1\\end{array}\\right]=\\frac{1}{\\sqrt{2}}\\left[\\begin{array}{c}1 \\\\ -1\\end{array}\\right]$\n",
        "\n",
        "![ggg](https://raw.githubusercontent.com/deltorobarba/repo/master/quantum_045.png)\n",
        "\n",
        "2 im denominator verschwindet hier. 2^n für n=1 qubit. mit 2 oben und unten verschwinden beide."
      ],
      "metadata": {
        "id": "f6wtCdybSPWv"
      }
    },
    {
      "cell_type": "markdown",
      "source": [
        "*Quantum Fourier Transform with 3 Qubits for $|001\\rangle$*\n",
        "\n",
        "**Computational Basis in $|001\\rangle$**\n",
        "\n",
        "![ggg](https://raw.githubusercontent.com/deltorobarba/repo/master/sciences_0804.png)\n",
        "\n",
        "**Fourier Basis for $|001\\rangle$**\n",
        "\n",
        "![ggg](https://raw.githubusercontent.com/deltorobarba/repo/master/sciences_0805.png)\n",
        "\n",
        "**Computational States:** <font color=\"blue\">$\\tilde{x_1}$ = 0</font>, <font color=\"blue\">$\\tilde{x_2}$ = 0</font>, <font color=\"blue\">$\\tilde{x_3}$ = 1</font>. Number of Qubits: <font color=\"blue\">$k_1$ = 1 qubit, $k_2$ = 2 qubits, $k_3$ = 3 qubits</font>\n",
        "\n",
        "> <font color=\"blue\">Qubit 1 = $\\tilde{x_1}$</font> = $\\frac{1}{\\sqrt{2}}\\left(|0\\rangle+\\mathrm{e}^{2 \\pi \\mathrm{i}\\left(\\frac{\\mathrm{x}_{1}}{2^{k_1}}+\\frac{x_{2}}{2^{k_2}}+\\frac{x_{3}}{2^{k_3}}\\right)}|1\\rangle\\right)$ = $\\frac{1}{\\sqrt{2}}\\left(|0\\rangle+\\mathrm{e}^{2 \\pi \\mathrm{i}\\left(\\frac{0}{2}+\\frac{0}{4}+\\frac{1}{8}\\right)}|1\\rangle\\right)$  = <font color=\"blue\">$\\frac{\\pi i}{4}$</font> (45° T-rotation)\n",
        "\n",
        "> <font color=\"blue\">Qubit 2 = $\\tilde{x_2}$</font> = $\\frac{1}{\\sqrt{2}}\\left(|0\\rangle+\\mathrm{e}^{2 \\pi \\mathrm{i}\\left(\\frac{\\mathrm{x}_{2}}{2^{k_1}}+\\frac{x_{3}}{2^{k_2}}\\right)}|1\\rangle\\right)$ = $\\frac{1}{\\sqrt{2}}\\left(|0\\rangle+\\mathrm{e}^{2 \\pi \\mathrm{i}\\left(\\frac{0}{2}+\\frac{1}{4}\\right)}|1\\rangle\\right)$ = <font color=\"blue\">$\\frac{\\pi i}{2}$</font> (90° S-rotation)\n",
        "\n",
        "> <font color=\"blue\">Qubit 3 = $\\tilde{x_3}$</font> = $\\frac{1}{\\sqrt{2}}\\left(|0\\rangle+\\mathrm{e}^{2 \\pi \\mathrm{i}\\left(\\frac{\\mathrm{x}_{3}}{2^{k_1}}\\right)}|1\\rangle\\right)$ = $\\frac{1}{\\sqrt{2}}\\left(|0\\rangle+\\mathrm{e}^{2 \\pi \\mathrm{i} \\frac{1}{2}}|1\\rangle\\right)$ = $e^{\\pi i 1} =$ <font color=\"blue\">$-1$</font> (180° Z-rotation)"
      ],
      "metadata": {
        "id": "6QLz5YfmSS5k"
      }
    },
    {
      "cell_type": "markdown",
      "source": [
        "**Circuit Construction**\n",
        "\n",
        "*Compare the equations above with the circuit activations below (how a circuits computes the results). For example for the first qubit the operator / gate $S$ = 90° rotation is only activated if the second qubit $x_2$ is in state 1. Here it is not activated because $x_2$ = 0:*\n",
        "\n",
        "![ggg](https://raw.githubusercontent.com/deltorobarba/repo/master/sciences_0812.png)"
      ],
      "metadata": {
        "id": "-WifJMIhSXfp"
      }
    },
    {
      "cell_type": "markdown",
      "source": [
        "*Quantum Fourier Transform with 3 Qubits for $|111\\rangle$*\n",
        "\n",
        "**Computational Basis in $|111\\rangle$**\n",
        "\n",
        "![ggg](https://raw.githubusercontent.com/deltorobarba/repo/master/sciences_0802.png)\n",
        "\n",
        "**Fourier Basis for $|111\\rangle$**\n",
        "\n",
        "![ggg](https://raw.githubusercontent.com/deltorobarba/repo/master/sciences_0803.png)\n",
        "\n",
        "**Computational States:** <font color=\"blue\">$\\tilde{x_1}$ = 1</font>, <font color=\"blue\">$\\tilde{x_2}$ = 1</font>, <font color=\"blue\">$\\tilde{x_3}$ = 1</font>. Number of Qubits: <font color=\"blue\">$k_1$ = 1 qubit, $k_2$ = 2 qubits, $k_3$ = 3 qubits</font>\n",
        "\n",
        "> <font color=\"blue\">Qubit 1 = $\\tilde{x_1}$</font> = $\\frac{1}{\\sqrt{2}}\\left(|0\\rangle+\\mathrm{e}^{2 \\pi \\mathrm{i}\\left(\\frac{\\mathrm{x}_{1}}{2^{k_1}}+\\frac{x_{2}}{2^{k_2}}+\\frac{x_{3}}{2^{k_3}}\\right)}|1\\rangle\\right)$ = $\\frac{1}{\\sqrt{2}}\\left(|0\\rangle+\\mathrm{e}^{2 \\pi \\mathrm{i}\\left(\\frac{1}{2}+\\frac{1}{4}+\\frac{1}{8}\\right)}|1\\rangle\\right)$ = $\\mathrm{e}^{2 \\pi i 0.875} = \\mathrm{e}^{\\pi i 1.75}$ (180° Z-rotation + 90° S-rotation + 45° T-rotation)\n",
        "\n",
        "> <font color=\"blue\">Qubit 2 = $\\tilde{x_2}$</font> = $\\frac{1}{\\sqrt{2}}\\left(|0\\rangle+\\mathrm{e}^{2 \\pi \\mathrm{i}\\left(\\frac{\\mathrm{x}_{2}}{2^{k_1}}+\\frac{x_{3}}{2^{k_2}}\\right)}|1\\rangle\\right)$ = $\\frac{1}{\\sqrt{2}}\\left(|0\\rangle+\\mathrm{e}^{2 \\pi \\mathrm{i}\\left(\\frac{1}{2}+\\frac{1}{4}\\right)}|1\\rangle\\right)$ = $e^{\\pi i 1.5} =$ <font color=\"blue\">$-i$</font> (180° Z-rotation + 90° S-rotation)\n",
        "\n",
        "> <font color=\"blue\">Qubit 3 = $\\tilde{x_3}$</font> = $\\frac{1}{\\sqrt{2}}\\left(|0\\rangle+\\mathrm{e}^{2 \\pi \\mathrm{i}\\left(\\frac{\\mathrm{x}_{3}}{2^{k_1}}\\right)}|1\\rangle\\right)$ = $\\frac{1}{\\sqrt{2}}\\left(|0\\rangle+\\mathrm{e}^{2 \\pi \\mathrm{i} \\frac{1}{2}}|1\\rangle\\right)$ = $e^{\\pi i 1} =$ <font color=\"blue\">$-1$</font> (180° Z-rotation)"
      ],
      "metadata": {
        "id": "YzOdD1g7SZ-g"
      }
    },
    {
      "cell_type": "markdown",
      "source": [
        "**Circuit Construction**\n",
        "\n",
        "*Compare the equations above with the circuit activations below (how a circuits computes the results). For example for the first qubit the operator / gate $S$ = 90° rotation is only activated if the second qubit $x_2$ is in state 1. Here it is activated because $x_2$ = 1:*\n",
        "\n",
        "![ggg](https://raw.githubusercontent.com/deltorobarba/repo/master/sciences_0812.png)"
      ],
      "metadata": {
        "id": "ciZ_WdWOSd3I"
      }
    },
    {
      "cell_type": "markdown",
      "source": [
        "*Cirq Code for Quantum Fourier Transform*\n",
        "\n",
        "*Compare the code above with the circuit activations below (how a circuits computes the results):*\n",
        "\n",
        "* $H$ gate = bring qubit in superposition.\n",
        "\n",
        "  * *For $x=0$, no further rotation*\n",
        "\n",
        "  * *For $x=1$, then appy additional *$Z$ gate = 180° rotation = $\\pi$**\n",
        "\n",
        "* *$S$ gate = 90° rotation = $\\frac{\\pi}{2}$*\n",
        "\n",
        "* *$T$ gate = 45° rotation = $\\frac{\\pi}{4}$*\n",
        "\n",
        "$C R_{j}=C Z^{1 / 2^{j-1}}$\n",
        "\n",
        "* $Z$ entspricht $\\pi$ (ein halber Kreis, zB von +1 zu -1 auf X-Achse)\n",
        "\n",
        "* $S$ entspricht $\\frac{\\pi}{2}$, also wenn qubit 1 = 1, dann bei qubit 0 das $S$ transform anwenden (0,5)\n",
        "\n",
        "  * S: The square root of Z gate, equivalent to cirq.Z ** 0.5\n",
        "\n",
        "  * See: [Cirq Gates](https://quantumai.google/cirq/gates)\n",
        "\n",
        "* $T$ entspricht $\\frac{\\pi}{4}$"
      ],
      "metadata": {
        "id": "WFOy-PZ6SgEW"
      }
    },
    {
      "cell_type": "code",
      "source": [
        "!pip install cirq -q\n",
        "import cirq\n",
        "\n",
        "def make_qft(qubits):\n",
        "\n",
        "    # Generate list of qubits\n",
        "    qreg = list(qubits)\n",
        "\n",
        "    # Make sure list is longer than 0 qubits:\n",
        "    while len(qreg) > 0:\n",
        "\n",
        "    # Remove first qubit from list and return its value (set as head-qubit):\n",
        "        q_head = qreg.pop(0)\n",
        "\n",
        "    # Apply Hadamard superposition to this head-qubit\n",
        "        yield cirq.H(q_head)\n",
        "\n",
        "    # Enumerate through list with i (index position) and corresponding qubit value (0 or 1)\n",
        "        for i, qubit in enumerate(qreg):\n",
        "\n",
        "    # Apply Controlled-Z * Theta-Phase-Shift on target ('q-head') if control-qubit ('qubit') is in state 1\n",
        "            yield (cirq.CZ ** (1 / 2 ** (i + 1)))(qubit, q_head)\n",
        "\n",
        "    # Do the inverse QFT as subroutine in quantum phase estimation\n",
        "    #        yield (cirq.CZ ** (-1 / 2 ** (i + 1)))(qubit, q_head)\n",
        "\n",
        "# Use inverse QFT as subroutine in quantum phase estimation\n",
        "# phase_estimator.append(make_qft_inverse(qubits[::-1]))\n",
        "\n",
        "    # Iterating through until \"while len(qreg) = 0\", then processes stops\n",
        "\n",
        "\"\"\"Visually check the QFT circuit.\"\"\"\n",
        "qubits = cirq.LineQubit.range(17)\n",
        "qft = cirq.Circuit(make_qft(qubits))\n",
        "print(qft)"
      ],
      "metadata": {
        "id": "cH_2YmN7SiLg"
      },
      "execution_count": null,
      "outputs": []
    },
    {
      "cell_type": "markdown",
      "source": [
        "![ggg](https://raw.githubusercontent.com/deltorobarba/repo/master/sciences_0815.png)\n",
        "\n",
        "![ggg](https://raw.githubusercontent.com/deltorobarba/repo/master/sciences_0812.png)"
      ],
      "metadata": {
        "id": "oTsRq_QMSk4V"
      }
    },
    {
      "cell_type": "markdown",
      "source": [
        "*Inverse Quantum Fourier Transform ('QFT Dagger' - Dagger is a complex conjugate operation!)*\n",
        "\n",
        "Reminder of QFT:\n",
        "\n",
        "* $QFT\\,\\,|x\\rangle=|\\tilde{x}\\rangle=$ $\\frac{1}{\\sqrt{N}} \\sum_{y=0}^{N-1} e^{\\frac{2 \\pi i}{N} x y} |y\\rangle$\n",
        "\n",
        "**Remember: Dagger is a complex conjugate operation!**\n",
        "\n",
        "QFT inverse (see -2 turning i in -i which is a complex conjugate operation):\n",
        "\n",
        "* $QFT^{\\dagger}|\\tilde{x}\\rangle=|x\\rangle=$ $\\frac{1}{\\sqrt{N}} \\sum_{y=0}^{N-1} e^{\\frac{-2 \\pi i}{N} x y} |y\\rangle$\n",
        "\n",
        "\n",
        "The operator is then (\n",
        "We have already seen that the Hadamard gate is self-inverse, and the same is clearly true for the SWAP gate; the inverse of the rotations gate $R_k$ is given by):\n",
        "\n",
        "> The matrix form of inverse QFT operator is: <font color=\"blue\">${R^{\\dagger}}_{k}=\\left(\\begin{array}{cc}1 & 0 \\\\ 0 & e^{-2 \\pi i / 2^{k}}\\end{array}\\right)$</font> and compare with QFT operator:  <font color=\"blue\">$\\hat{R}_{k}=\\left(\\begin{array}{cc}1 & 0 \\\\ 0 & e^{2 \\pi i / 2^{k}}\\end{array}\\right)$\n",
        "\n",
        "https://www.cl.cam.ac.uk/teaching/1920/QuantComp/Quantum_Computing_Lecture_9.pdf"
      ],
      "metadata": {
        "id": "gksz8icKSnRz"
      }
    },
    {
      "cell_type": "markdown",
      "source": [
        "###### *Quantum Phase Estimation*"
      ],
      "metadata": {
        "id": "NK9YupxAozfU"
      }
    },
    {
      "cell_type": "markdown",
      "source": [
        "*Exkurs: Quantum Phase Kickback*"
      ],
      "metadata": {
        "id": "T7Wu9UgEo1aK"
      }
    },
    {
      "cell_type": "markdown",
      "source": [
        "**CNOT Gate and Phase Kickback**\n",
        "\n",
        "<font color=\"blue\">*CNOT-Gate applied to the computational basis 0 and 1*\n",
        "\n",
        "* https://qiskit.org/textbook/ch-gates/phase-kickback.html\n",
        "\n",
        "* Main article about Phase Kickback: https://towardsdatascience.com/quantum-phase-kickback-bb83d976a448\n",
        "\n",
        "The CNOT-gate is a two-qubit gate. Thus, it transforms qubit states whose state we represent by a four-dimensional vector.\n",
        "\n",
        ">$\n",
        "|\\psi\\rangle=\\alpha|0\\rangle|0\\rangle+\\beta|0\\rangle|1\\rangle+\\gamma|1\\rangle|0\\rangle+\\delta|1\\rangle|1\\rangle=\\left[\\begin{array}{c}\n",
        "\\alpha \\\\\n",
        "\\beta \\\\\n",
        "\\gamma \\\\\n",
        "\\delta\n",
        "\\end{array}\\right]\n",
        "$\n",
        "\n",
        "Remember Vector-Vector-Multiplikation (Kronecker / tensor product):\n",
        "\n",
        "> $\\mathbf{uv}$ = $\\left[\\begin{array}{c}u_{1} \\\\ u_{2}\\end{array}\\right]$ $\\otimes$ $\\left[\\begin{array}{c}v_{1} \\\\ v_{2} \\end{array}\\right]$ = $\\left[\\begin{array}{l}u_{1}\\left[\\begin{array}{l}v_{1} \\\\ v_{2}\\end{array}\\right] \\\\ u_{2}\\left[\\begin{array}{l}v_{1} \\\\ v_{2}\\end{array}\\right]\\end{array}\\right]$=  $\\left[\\begin{array}{c}u_{1} v_{1} \\\\ u_{1} v_{2}\\\\ u_{2} v_{1} \\\\ u_{2} v_{2}\\end{array}\\right]$\n",
        "\n",
        "> $\\left[\\begin{array}{l}1 \\\\ 0\\end{array}\\right]=|0\\rangle, \\quad\\left[\\begin{array}{l}0 \\\\ 1\\end{array}\\right]=|1\\rangle$.\n",
        "\n",
        "We choose two qubits in state $|0\\rangle$:\n",
        "\n",
        "> $|0\\rangle \\otimes|0\\rangle = \\left[\\begin{array}{l}1 \\\\ 0\\end{array}\\right] \\otimes\\left[\\begin{array}{l}1 \\\\ 0\\end{array}\\right]=$</font> $\\left[\\begin{array}{l}1\\left[\\begin{array}{l}1 \\\\ 0\\end{array}\\right] \\\\ 0\\left[\\begin{array}{l}1 \\\\ 0\\end{array}\\right]\\end{array}\\right]=$ $\\left [\\begin{array}{l}11 \\\\ 10 \\\\ 01 \\\\ 00\\end{array}\\right]$ = <font color=\"gray\">$\\left [\\begin{array}{l}3 \\\\ 2 \\\\ 1 \\\\ 0\\end{array}\\right]$</font> = <font color=\"blue\">$\\left [\\begin{array}{l}1 \\\\ 0 \\\\ 0 \\\\ 0\\end{array}\\right]$\n",
        "\n",
        "Quits in two different states:\n",
        "\n",
        "> $|0\\rangle \\otimes|1\\rangle = \\left[\\begin{array}{l}1 \\\\ 0\\end{array}\\right] \\otimes\\left[\\begin{array}{l}0 \\\\ 1\\end{array}\\right]=\\left[\\begin{array}{l}1\\left[\\begin{array}{l}0 \\\\ 1\\end{array}\\right] \\\\ 0\\left[\\begin{array}{l}0 \\\\ 1\\end{array}\\right]\\end{array}\\right]=\\left[\\begin{array}{l}0 \\\\ 1 \\\\ 0 \\\\ 0\\end{array}\\right]$\n",
        "\n",
        "Accordingly, the CNOT-gate has a $4 \\times 4$ transformation matrix.\n",
        "\n",
        ">$\n",
        "C N O T=\\left[\\begin{array}{llll}\n",
        "1 & 0 & 0 & 0 \\\\\n",
        "0 & 1 & 0 & 0 \\\\\n",
        "0 & 0 & 0 & 1 \\\\\n",
        "0 & 0 & 1 & 0\n",
        "\\end{array}\\right]\n",
        "$\n",
        "\n",
        "There is no effect if the control qubit (at the left-hand position in the Dirac notation) is in state |0⟩, as in states |00⟩ and |01⟩.\n",
        "\n",
        "> CNOT $\\cdot|00\\rangle=\\left[\\begin{array}{llll}1 & 0 & 0 & 0 \\\\ 0 & 1 & 0 & 0 \\\\ 0 & 0 & 0 & 1 \\\\ 0 & 0 & 1 & 0\\end{array}\\right] \\cdot\\left[\\begin{array}{l}1 \\\\ 0 \\\\ 0 \\\\ 0\\end{array}\\right]=\\left[\\begin{array}{l}1 \\\\ 0 \\\\ 0 \\\\ 0\\end{array}\\right]=|00\\rangle$\n",
        "\n",
        "> CNOT $\\cdot|01\\rangle=\\left[\\begin{array}{llll}1 & 0 & 0 & 0 \\\\ 0 & 1 & 0 & 0 \\\\ 0 & 0 & 0 & 1 \\\\ 0 & 0 & 1 & 0\\end{array}\\right] \\cdot\\left[\\begin{array}{l}0 \\\\ 1 \\\\ 0 \\\\ 0\\end{array}\\right]=\\left[\\begin{array}{l}0 \\\\ 1 \\\\ 0 \\\\ 0\\end{array}\\right]=|01\\rangle$\n",
        "\n",
        "<font color=\"blue\">But if the control qubit is in state |1⟩, then the controlled (target) qubit switches from |0⟩ to |1⟩ and vice versa.</font>\n",
        "\n",
        "> CNOT $\\cdot|10\\rangle=\\left[\\begin{array}{llll}1 & 0 & 0 & 0 \\\\ 0 & 1 & 0 & 0 \\\\ 0 & 0 & 0 & 1 \\\\ 0 & 0 & 1 & 0\\end{array}\\right] \\cdot\\left[\\begin{array}{l}0 \\\\ 0 \\\\ 1 \\\\ 0\\end{array}\\right]=\\left[\\begin{array}{l}0 \\\\ 0 \\\\ 0 \\\\ 1\\end{array}\\right]=|11\\rangle$\n",
        "\n",
        "> CNOT $\\cdot|11\\rangle=\\left[\\begin{array}{llll}1 & 0 & 0 & 0 \\\\ 0 & 1 & 0 & 0 \\\\ 0 & 0 & 0 & 1 \\\\ 0 & 0 & 1 & 0\\end{array}\\right] \\cdot\\left[\\begin{array}{l}0 \\\\ 0 \\\\ 0 \\\\ 1\\end{array}\\right]=\\left[\\begin{array}{l}0 \\\\ 0 \\\\ 1 \\\\ 0\\end{array}\\right]=|10\\rangle$\n",
        "\n",
        "When we describe the quantum states and operations in terms of mathematical formulae, we use the vectors |0⟩ and |1⟩ as a basis. |0⟩ and |1⟩ denote the standard or computational basis states. These states correspond to the possible measurements we might obtain when looking at the qubit. We measure a qubit in state |0⟩ as 0 with absolute certainty. And, we measure a qubit in state |1⟩ as 1, accordingly. While the basis {|0⟩,|1⟩} is convenient to work with mathematically, it is just a representation of the underlying physics.\n"
      ],
      "metadata": {
        "id": "cc3s5jMZo3bj"
      }
    },
    {
      "cell_type": "markdown",
      "source": [
        "<font color=\"blue\">*CNOT-Gate applied to the superposition basis + and -*\n",
        "\n",
        "The mathematical basis we chose leads to a specific representation of the CNOT-transformation. But this is not the only possible representation. In fact, there are infinitely many other possible choices. Our qubits are not limited to these two states. Qubits can be in a superposition of both states. For instance, there are the states that result from applying the Hadamard-gate on the basis states:\n",
        "\n",
        "> $|+\\rangle=\\left[\\begin{array}{c}\\frac{1}{\\sqrt{2}} \\\\ \\frac{1}{\\sqrt{2}}\\end{array}\\right]$ and $|-\\rangle=\\left[\\begin{array}{c}\\frac{1}{\\sqrt{2}} \\\\ -\\frac{1}{\\sqrt{2}}\\end{array}\\right]$\n",
        "\n",
        "Remember: Apply Hadamard gate on a qubit that is in the |0> state:\n",
        "\n",
        "> $\\frac{1}{\\sqrt{2}}\\left(\\begin{array}{cc}1 & 1 \\\\ 1 & -1\\end{array}\\right)\\left[\\begin{array}{l}1 \\\\ 0\\end{array}\\right]=\\frac{1}{\\sqrt{2}}\\left[\\begin{array}{l}1 \\\\ 1\\end{array}\\right]$\n",
        "\n",
        "Now apply Hadamard gate on a qubit that is in the |1> state:\n",
        "\n",
        "> $\\frac{1}{\\sqrt{2}}\\left(\\begin{array}{cc}1 & 1 \\\\ 1 & -1\\end{array}\\right)\\left[\\begin{array}{l}0 \\\\ 1\\end{array}\\right]=\\frac{1}{\\sqrt{2}}\\left[\\begin{array}{l}1 \\\\ -1\\end{array}\\right]$\n",
        "\n",
        "Mathematically, the following matrix represents the application of Hadamard gates on each of the two qubits.\n",
        "\n",
        "> $H \\otimes H=\\frac{1}{\\sqrt{2}}\\left[\\begin{array}{cc}H & H \\\\ H & -H\\end{array}\\right]=\\frac{1}{2}\\left[\\begin{array}{cccc}1 & 1 & 1 & 1 \\\\ 1 & -1 & 1 & -1 \\\\ 1 & 1 & -1 & -1 \\\\ 1 & -1 & -1 & 1\\end{array}\\right]$\n",
        "\n",
        "So, if we apply this matrix on two qubits in state |00⟩, they end up in state |++⟩.\n",
        "\n",
        "> $\\begin{aligned} H \\otimes H(|00\\rangle) &=\\frac{1}{2}\\left[\\begin{array}{cccc}1 & 1 & 1 & 1 \\\\ 1 & -1 & 1 & -1 \\\\ 1 & 1 & -1 & -1 \\\\ 1 & -1 & -1 & 1\\end{array}\\right] \\cdot\\left[\\begin{array}{l}1 \\\\ 0 \\\\ 0 \\\\ 0\\end{array}\\right]=\\frac{1}{2}\\left[\\begin{array}{l}1 \\\\ 1 \\\\ 1 \\\\ 1\\end{array}\\right] \\\\ &=\\frac{1}{2}(|0\\rangle|0\\rangle+|0\\rangle|1\\rangle+|1\\rangle|0\\rangle+|1\\rangle|1\\rangle) \\\\ &=\\frac{1}{\\sqrt{2}}(|0\\rangle+|1\\rangle) \\otimes \\frac{1}{\\sqrt{2}}(|0\\rangle+|1\\rangle) \\\\ &=|++\\rangle \\end{aligned}$\n",
        "\n",
        "The input state |01⟩ results in state |+−⟩.\n",
        "\n",
        "> $\\begin{aligned} H \\otimes H(|01\\rangle) &=\\frac{1}{2}\\left[\\begin{array}{cccc}1 & 1 & 1 & 1 \\\\ 1 & -1 & 1 & -1 \\\\ 1 & 1 & -1 & -1 \\\\ 1 & -1 & -1 & 1\\end{array}\\right] \\cdot\\left[\\begin{array}{l}0 \\\\ 1 \\\\ 0 \\\\ 0\\end{array}\\right]=\\frac{1}{2}\\left[\\begin{array}{c}1 \\\\ -1 \\\\ 1 \\\\ -1\\end{array}\\right] \\\\ &=\\frac{1}{2}(|0\\rangle|0\\rangle-|0\\rangle|1\\rangle+|1\\rangle|0\\rangle-|1\\rangle|1\\rangle) \\\\ &=\\frac{1}{\\sqrt{2}}(|0\\rangle-|1\\rangle) \\otimes \\frac{1}{\\sqrt{2}}(|0\\rangle+|1\\rangle) \\\\ &=|+-\\rangle \\end{aligned}$\n",
        "\n",
        "The input state |10⟩ results in state |−+⟩.\n",
        "\n",
        "> $\\begin{aligned} H \\otimes H(|10\\rangle) &=\\frac{1}{2}\\left[\\begin{array}{cccc}1 & 1 & 1 & 1 \\\\ 1 & -1 & 1 & -1 \\\\ 1 & 1 & -1 & -1 \\\\ 1 & -1 & -1 & 1\\end{array}\\right] \\cdot\\left[\\begin{array}{l}0 \\\\ 0 \\\\ 1 \\\\ 0\\end{array}\\right]=\\frac{1}{2}\\left[\\begin{array}{c}1 \\\\ 1 \\\\ -1 \\\\ -1\\end{array}\\right] \\\\ &=\\frac{1}{2}(|0\\rangle|0\\rangle+|0\\rangle|1\\rangle-|1\\rangle|0\\rangle-|1\\rangle|1\\rangle) \\\\ &=\\frac{1}{\\sqrt{2}}(|0\\rangle+|1\\rangle) \\otimes \\frac{1}{\\sqrt{2}}(|0\\rangle-|1\\rangle) \\\\ &=|-+\\rangle \\end{aligned}$\n",
        "\n",
        "Finally, if we apply this transformation on two qubits in state |11⟩, we put them into state |−−⟩.\n",
        "\n",
        "> $\\begin{aligned} H \\otimes H(|11\\rangle) &=\\frac{1}{2}\\left[\\begin{array}{cccc}1 & 1 & 1 & 1 \\\\ 1 & -1 & 1 & -1 \\\\ 1 & 1 & -1 & -1 \\\\ 1 & -1 & -1 & 1\\end{array}\\right] \\cdot\\left[\\begin{array}{l}0 \\\\ 0 \\\\ 0 \\\\ 1\\end{array}\\right]=\\frac{1}{2}\\left[\\begin{array}{c}1 \\\\ -1 \\\\ -1 \\\\ 1\\end{array}\\right] \\\\ &=\\frac{1}{2}(|0\\rangle|0\\rangle-|0\\rangle|1\\rangle-|1\\rangle|0\\rangle+|1\\rangle|1\\rangle) \\\\ &=\\frac{1}{\\sqrt{2}}(|0\\rangle-|1\\rangle) \\otimes \\frac{1}{\\sqrt{2}}(|0\\rangle-|1\\rangle) \\\\ &=|--\\rangle \\end{aligned}$"
      ],
      "metadata": {
        "id": "OKxsKI8qo6Tv"
      }
    },
    {
      "cell_type": "markdown",
      "source": [
        "Now, let’s apply the CNOT-gate on qubits in superposition. We can calculate the overall transformation matrix by multiplying the matrices of the CNOT-gate and the H⊗H transformation. The CNOT-gate switches the second and fourth columns of the H⊗H-matrix.\n",
        "\n",
        "> $\\operatorname{CNOT}(H \\otimes H)=\\left[\\begin{array}{cccc}1 & 0 & 0 & 0 \\\\ 0 & 1 & 0 & 0 \\\\ 0 & 0 & 0 & 1 \\\\ 0 & 0 & 1 & 0\\end{array}\\right] \\cdot \\frac{1}{2}\\left[\\begin{array}{cccc}1 & 1 & 1 & 1 \\\\ 1 & -1 & 1 & -1 \\\\ 1 & 1 & -1 & -1 \\\\ 1 & -1 & -1 & 1\\end{array}\\right]=\\frac{1}{2}\\left[\\begin{array}{cccc}1 & 1 & 1 & 1 \\\\ 1 & -1 & 1 & -1 \\\\ 1 & -1 & -1 & 1 \\\\ 1 & 1 & -1 & -1\\end{array}\\right]$\n",
        "\n",
        "* And now, we apply this transformation to the four combinations of basis states.\n",
        "\n",
        "<font color=\"blue\">If the target qubit (at the right-hand side) is in state |1⟩, the state of the control qubit (at the left-hand side) flips from |+⟩ to |−⟩ and vice versa:\n",
        "\n",
        ">\n",
        "\n",
        "> $\\begin{aligned} \\operatorname{CNOT}(H \\otimes H(|00\\rangle)) &=\\frac{1}{2}\\left[\\begin{array}{cccc}1 & 1 & 1 & 1 \\\\ 1 & -1 & 1 & -1 \\\\ 1 & -1 & -1 & 1 \\\\ 1 & 1 & -1 & -1\\end{array}\\right] \\cdot\\left[\\begin{array}{l}1 \\\\ 0 \\\\ 0 \\\\ 0\\end{array}\\right]=\\frac{1}{2}\\left[\\begin{array}{l}1 \\\\ 1 \\\\ 1 \\\\ 1\\end{array}\\right] \\\\ &=\\frac{1}{2}(|0\\rangle|0\\rangle+|0\\rangle|1\\rangle+|1\\rangle|0\\rangle+|1\\rangle|1\\rangle) \\\\ &=\\frac{1}{\\sqrt{2}}(|0\\rangle+|1\\rangle) \\otimes \\frac{1}{\\sqrt{2}}(|0\\rangle+|1\\rangle) \\\\ &=|++\\rangle \\end{aligned}$\n",
        "\n",
        "> $\\begin{aligned} \\operatorname{CNOT}(H \\otimes H(|01\\rangle)) &=\\frac{1}{2}\\left[\\begin{array}{cccc}1 & 1 & 1 & 1 \\\\ 1 & -1 & 1 & -1 \\\\ 1 & -1 & -1 & 1 \\\\ 1 & 1 & -1 & -1\\end{array}\\right] \\cdot\\left[\\begin{array}{l}0 \\\\ 1 \\\\ 0 \\\\ 0\\end{array}\\right]=\\frac{1}{2}\\left[\\begin{array}{c}1 \\\\ -1 \\\\ -1 \\\\ 1\\end{array}\\right] \\\\ &=\\frac{1}{2}(|0\\rangle|0\\rangle-|0\\rangle|1\\rangle-|1\\rangle|0\\rangle+|1\\rangle|1\\rangle) \\\\ &=\\frac{1}{\\sqrt{2}}(|0\\rangle-|1\\rangle) \\otimes \\frac{1}{\\sqrt{2}}(|0\\rangle-|1\\rangle) \\\\ &=|--\\rangle \\end{aligned}$\n",
        "\n",
        "> $\\begin{aligned} \\operatorname{CNOT}(H \\otimes H(|10\\rangle)) &=\\frac{1}{2}\\left[\\begin{array}{cccc}1 & 1 & 1 & 1 \\\\ 1 & -1 & 1 & -1 \\\\ 1 & -1 & -1 & 1 \\\\ 1 & 1 & -1 & -1\\end{array}\\right] \\cdot\\left[\\begin{array}{l}0 \\\\ 0 \\\\ 1 \\\\ 0\\end{array}\\right]=\\frac{1}{2}\\left[\\begin{array}{c}1 \\\\ 1 \\\\ -1 \\\\ -1\\end{array}\\right] \\\\ &=\\frac{1}{2}(|0\\rangle|0\\rangle+|0\\rangle|1\\rangle-|1\\rangle|0\\rangle-|1\\rangle|1\\rangle) \\\\ &=\\frac{1}{\\sqrt{2}}(|0\\rangle-|1\\rangle) \\otimes \\frac{1}{\\sqrt{2}}(|0\\rangle+|1\\rangle) \\\\ &=|-+\\rangle \\end{aligned}$\n",
        "\n",
        "> $\\begin{aligned} \\operatorname{CNOT}(H \\otimes H(|11\\rangle)) &=\\frac{1}{2}\\left[\\begin{array}{cccc}1 & 1 & 1 & 1 \\\\ 1 & -1 & 1 & -1 \\\\ 1 & -1 & -1 & 1 \\\\ 1 & 1 & -1 & -1\\end{array}\\right] \\cdot\\left[\\begin{array}{l}0 \\\\ 0 \\\\ 0 \\\\ 1\\end{array}\\right]=\\frac{1}{2}\\left[\\begin{array}{c}1 \\\\ -1 \\\\ 1 \\\\ -1\\end{array}\\right] \\\\ &=\\frac{1}{2}(|0\\rangle|0\\rangle-|0\\rangle|1\\rangle+|1\\rangle|0\\rangle-|1\\rangle|1\\rangle) \\\\ &=\\frac{1}{\\sqrt{2}}(|0\\rangle+|1\\rangle) \\otimes \\frac{1}{\\sqrt{2}}(|0\\rangle-|1\\rangle) \\\\ &=|+-\\rangle \\end{aligned}$\n",
        "\n",
        "In short, we can say:\n",
        "\n",
        "> $\\operatorname{CNOT}(|++\\rangle)=|++\\rangle$\n",
        "\n",
        "> $\\operatorname{CNOT}(|+-\\rangle)=|--\\rangle$\n",
        "\n",
        "> $\\operatorname{CNOT}(|-+\\rangle)=|-+\\rangle$\n",
        "\n",
        "> $\\operatorname{CNOT}(|--\\rangle)=|+-\\rangle$\n",
        "\n",
        "The two states |+⟩ and |−⟩ have the same measurement probabilities of |0⟩ and |1⟩. They result in either value with a probability of 0.5. **So, the CNOT-gate does not have any directly measurable implications**. <font color=\"blue\">However, the control qubit switches its phase. It takes on the phase of the controlled (target) qubit.</font>\n",
        "\n",
        "> For the phase of the target qubit is kicked up to the control qubit, we call this phenomenon phase kickback.\n",
        "\n",
        "We learned the CNOT-gate is not a one-sided operation. It clearly has the potential to affect the state of the control qubit. Even though the phase is not directly measurable, there are ways to exploit differences in the phase between states. In fact, prominent algorithms, such as Grover’s search algorithm, exploit this effect.\n"
      ],
      "metadata": {
        "id": "JMSW_Jyfo-ty"
      }
    },
    {
      "cell_type": "markdown",
      "source": [
        "<font color=\"red\">**Phase Kickback: Control qubit changes:**\n",
        "* from 0 to 1 or from 1 to 0 if target qubit was in state 1,\n",
        "* from (+) to (-) or from (-) to (+) if the target was in (-)"
      ],
      "metadata": {
        "id": "4o1Y01GrpBp9"
      }
    },
    {
      "cell_type": "markdown",
      "source": [
        "**Quantum Phase Estimation**\n",
        "\n",
        "* algorithm for determining the eigenvalues of a unitary operator\n",
        "\n",
        "* the [quantum phase estimation algorithm](https://en.m.wikipedia.org/wiki/Quantum_phase_estimation_algorithm) (also referred to as quantum eigenvalue estimation algorithm), is a quantum algorithm to estimate the phase (or eigenvalue) of an eigenvector of a unitary operator.\n",
        "\n",
        "* More precisely, given a unitary matrix $U$ and a quantum state $|\\psi\\rangle$ such that $U|\\psi\\rangle=e^{2 \\pi i \\theta}|\\psi\\rangle$, the algorithm estimates the value of $\\theta$ with high probability within additive error $\\varepsilon$, using $O(\\log (1 / \\varepsilon))$ qubits (without counting the ones used to encode the eigenvector state) and $O(1 / \\varepsilon)$ controlled- $U$ operations.\n",
        "\n",
        "* The algorithm was initially introduced by Alexei Kitaev in 1995.\n",
        "\n",
        "* Phase estimation is frequently used as a subroutine in other quantum algorithms, such as Shor's algorithm and the quantum algorithm for linear systems of equations.\n",
        "\n",
        "<font color=\"blue\">*One Qubit Phase Estimation (with Hadamard Gate):*\n",
        "\n",
        "![gg](https://raw.githubusercontent.com/deltorobarba/repo/master/quantum_117.png)\n",
        "\n",
        "<font color=\"blue\">*Multi-Qubit Phase Estimation (with inverse Quantum Fourier Transform):*\n",
        "\n",
        "![gg](https://upload.wikimedia.org/wikipedia/commons/a/a5/PhaseCircuit-crop.svg)"
      ],
      "metadata": {
        "id": "u9p3omB_pEG3"
      }
    },
    {
      "cell_type": "markdown",
      "source": [
        "Remember in **Quantum Fourier Transform**:\n",
        "\n",
        "\n",
        "> x1 = $\\frac{1}{\\sqrt{2}}\\left(|0\\rangle+\\mathrm{e}^{2 \\pi \\mathrm{i}\\left(\\frac{\\mathrm{x}_{1}}{2}+\\frac{x_{2}}{4}+\\frac{x_{3}}{8}\\right)}|1\\rangle\\right)$\n",
        "\n",
        "* <font color=\"blue\">$e^{2\\pi i}$ = 1 = identity</font>\n",
        "\n",
        "* In Quantum Fourier Transform we change the phase <font color=\"blue\">$\\theta$ in $e^{2\\pi i}$</font> <font color=\"red\">$^{\\theta}$</font>\n",
        "\n",
        "  * <font color=\"red\">= Eigenvalue of Oracle function $U$ associated with an eigenvector |u⟩</font>\n",
        "\n",
        "* Phase <font color=\"blue\">$\\theta$ is $\\frac{x_n}{2^{k}}$ with $x_n$ 0 or 1</font> state and $k$ number of Qubits.\n",
        "\n",
        "* A controlled-R quantum gate applies a relative phase change to |1>. The matrix form of this operator is: <font color=\"blue\">$\\hat{R}_{k}=\\left(\\begin{array}{cc}1 & 0 \\\\ 0 & e^{2 \\pi i / 2^{k}}\\end{array}\\right)$\n",
        "\n",
        "**Now in Phase Estimation**:\n",
        "\n",
        "> In $\\frac{1}{\\sqrt{2}}\\left(|0\\rangle+\\mathrm{e}^{2 \\pi \\mathrm{i}\\left(\\frac{\\mathrm{x}_{1}}{2}+\\frac{x_{2}}{4}+\\frac{x_{3}}{8}\\right)}|1\\rangle\\right)$ dieser Teil ist die **Phase $\\theta$** = $(\\frac{\\mathrm{x}_{1}}{2}+\\frac{x_{2}}{4}+\\frac{x_{3}}{8})$ mit dem Operator: $U^{2^n} = \\phi$\n",
        "\n",
        "Quantum phase estimation addresses the following problem:\n",
        "* We have a $n$-qubit oracle function $U$, encoded in the form of a controlled- $U$ unitary.\n",
        "* **$U$ has an eigenvalue $e^{2 \\pi i \\phi}$, associated with an eigenvector $|u\\rangle$ which we can prepare.**\n",
        "* <font color=\"red\">**We wish to estimate the phase, $\\phi$, of the eigenvalue to $t$ bits of precision.**\n",
        "\n",
        "> <font color=\"blue\">**Given a unitary operator $U$, the algorithm estimates $\\theta$ in $U|\\psi\\rangle=e^{2 \\pi i \\theta}|\\psi\\rangle$** $\\quad$ (based on Eigenvalue equation)</font>\n",
        "\n",
        "* Here $|\\psi\\rangle$ is an eigenvector / eigenstate and $e^{2 \\pi i \\theta}$ is the corresponding eigenvalue.\n",
        "\n",
        "* <font color=\"red\">For example: the eigenvalues of X are −1 and 1 and have the eigenvectors |−⟩ and |+⟩ respectively.*</font>\n",
        "\n",
        "*Since $U$ is unitary, all of its eigenvalues have a norm of 1.*"
      ],
      "metadata": {
        "id": "F_-Fmr-TpGcB"
      }
    },
    {
      "cell_type": "markdown",
      "source": [
        "**Reminder: QFT**\n",
        "\n",
        "![ggg](https://raw.githubusercontent.com/deltorobarba/repo/master/quantum_084.png)\n",
        "\n",
        ">**See below: <font color=\"red\">Remember that a unitary matrix has eigenvalues of the form $e^{i \\theta_{\\psi}}$ (ohne $2 \\pi$ wie oben bei QFT) and that it has eigenvectors that form an orthonormal basis**\n",
        "\n",
        "![ggg](https://raw.githubusercontent.com/deltorobarba/repo/master/quantum_083.png)\n",
        "\n",
        "The problem: in both cases the probability is 0,5, just differs by the phase added: $=e^{\\frac{i \\pi}{2}}$\n",
        "\n",
        "![ggg](https://raw.githubusercontent.com/deltorobarba/repo/master/quantum_078.png)\n",
        "\n",
        "![ggg](https://raw.githubusercontent.com/deltorobarba/repo/master/quantum_079.png)\n",
        "\n",
        "![ggg](https://raw.githubusercontent.com/deltorobarba/repo/master/quantum_080.png)\n",
        "\n",
        "**The probability of measuring 0 and 1 is each 0,5, but there is a small factor that makes them differ from 0,5, depending on the phase (angle):**\n",
        "\n",
        "![ggg](https://raw.githubusercontent.com/deltorobarba/repo/master/quantum_081.png)\n",
        "\n",
        "> **In the different between the probability of measuring 0 or 1, you've encoded that phase! (In other words: you've taken that phase information and turned it into and amplitude that you can measure.**\n",
        "\n",
        "* How to do this experimentally: you do a million shots of the experiment, collect statistics and check what the statistics say. How many times did I get zero? How many times did I get one? The hope is that the difference between the statistics of zero and one would allow us to back out theta\n",
        "\n",
        "* Next level: now getting more precision with more qubits: (there is another circuit to prepare Psi yet, which is assumed to be given here)\n",
        "\n",
        "![ggg](https://raw.githubusercontent.com/deltorobarba/repo/master/quantum_082.png)\n",
        "\n",
        "writing out the calculation:\n",
        "\n",
        "![ggg](https://raw.githubusercontent.com/deltorobarba/repo/master/quantum_085.png)\n",
        "\n",
        "**Comparing QPE with QFT (QPE is the same as QFT with a different phase):**\n",
        "\n",
        "![ggg](https://raw.githubusercontent.com/deltorobarba/repo/master/quantum_086.png)\n",
        "\n",
        "It's like applying a QFT of something (of a special phase $\\frac{\\theta_{\\psi}}{2^{n}} 2 \\pi$, the green box above!), and in order to get back to the original state you need to apply an inverse QFT at the end:\n",
        "\n",
        "![ggg](https://raw.githubusercontent.com/deltorobarba/repo/master/quantum_087.png)"
      ],
      "metadata": {
        "id": "ZVsPT2vLqYIY"
      }
    },
    {
      "cell_type": "markdown",
      "source": [
        "*Step 1: Set up the unitary and number of bits to use in phase estimation*\n",
        "\n",
        "<font color=\"blue\">*Let's take as an example the T-gate, and use Quantum Phase Estimation to estimate its phase.*\n",
        "\n",
        "You will remember that the $T$-gate adds a phase of $e^{\\frac{i \\pi}{4}}$ to the state $|1\\rangle$ :\n",
        "\n",
        "$\n",
        "T|1\\rangle=\\left[\\begin{array}{ll}\n",
        "1 & 0 \\\\\n",
        "0 & e^{\\frac{i \\pi}{4}}\n",
        "\\end{array}\\right]\\left[\\begin{array}{l}\n",
        "0 \\\\\n",
        "1\n",
        "\\end{array}\\right]=e^{\\frac{i \\pi}{4}}|1\\rangle\n",
        "$\n",
        "\n",
        "Since QPE will give us $\\theta$ where: $\n",
        "T|1\\rangle=e^{2 i \\pi \\theta}|1\\rangle\n",
        "$\n",
        "\n",
        "<font color=\"red\">We expect to find theta: $\n",
        "\\theta=\\frac{1}{8}\n",
        "$\n",
        "\n",
        "We first perform a Hadamard gate on the first qubit to get the state\n",
        "\n",
        "  * Original state of both qubits: $|0\\rangle \\otimes|\\psi\\rangle$\n",
        "\n",
        "  * Hadamard on first qubit: $|+\\rangle \\otimes|\\psi\\rangle$ =\n",
        "\n",
        "  * <font color=\"red\">Distribute superposition: $|0\\rangle|\\psi\\rangle+|1\\rangle|\\psi\\rangle$</font>\n",
        "\n",
        "  * <font color=\"blue\">this part above is the rule from tensor products: If the state of the first particle is a superposition of two states, the state of the two-particle system is also a superposition: $\\left(v_{1}+v_{2}\\right) \\otimes w=v_{1} \\otimes w+v_{2} \\otimes w$\n",
        "</font>\n",
        "\n",
        "    * The Hadamard states ∣+⟩ and ∣−⟩ are considered superposition states because they are a combination of the two computational states:\n",
        "\n",
        "    * State: $|\\pm\\rangle=\\frac{1}{\\sqrt{2}}|0\\rangle \\pm \\frac{1}{\\sqrt{2}}|1\\rangle$ so for + it is: $|\\+\\rangle=\\frac{1}{\\sqrt{2}}|0\\rangle + \\frac{1}{\\sqrt{2}}|1\\rangle$\n",
        "\n",
        "  * we have intentionally omitted the normalization factor of 1/√2 for clarity\n",
        "\n",
        "> $|+\\rangle \\otimes|\\psi\\rangle = \\frac{1}{\\sqrt{2}}\\left[\\begin{array}{l}1 \\\\ 1\\end{array}\\right] \\otimes\\left[\\begin{array}{l}\\psi\\end{array}\\right]= \\frac{1}{\\sqrt{2}}\\left[\\begin{array}{l}1 \\, [\\psi] \\\\ 1 \\, [\\psi]\\end{array}\\right]$\n",
        "\n",
        "Remember: Apply Hadamard gate on a qubit that is in the |0> state:\n",
        "\n",
        "> $|+\\rangle$ = $\\frac{1}{\\sqrt{2}}\\left(\\begin{array}{cc}1 & 1 \\\\ 1 & -1\\end{array}\\right)\\left[\\begin{array}{l}1 \\\\ 0\\end{array}\\right]=\\frac{1}{\\sqrt{2}}\\left[\\begin{array}{l}1 \\\\ 1\\end{array}\\right]$ =  $\\frac{1}{\\sqrt{2}}|0\\rangle + \\frac{1}{\\sqrt{2}}|1\\rangle$"
      ],
      "metadata": {
        "id": "_ilw3Tw3qgJG"
      }
    },
    {
      "cell_type": "code",
      "source": [
        "# Value of θ which appears in the definition of the unitary U above.\n",
        "# Try different values.\n",
        "theta = 0.125\n",
        "\n",
        "# Define the unitary U-Gate:\n",
        "U = cirq.Z ** (2 * theta)\n",
        "\n",
        "# Accuracy of the estimate for theta. Try different values.\n",
        "n_bits = 3"
      ],
      "metadata": {
        "id": "jixJUKXYqifL"
      },
      "execution_count": null,
      "outputs": []
    },
    {
      "cell_type": "markdown",
      "source": [
        "Here details about unitary U-Gate:\n",
        "\n",
        "$U$ = $Z^{2^{n-n}}$\n",
        "\n",
        "Z = $e^{\\pi}$\n",
        "\n",
        "* $Z$ entspricht $\\pi$ (ein halber Kreis, zB von +1 zu -1 auf X-Achse)\n",
        "\n",
        "\n",
        "then:\n",
        "\n",
        "> <font color=\"blue\">$U$ = $e^{\\pi * 2^{n-n}}$\n"
      ],
      "metadata": {
        "id": "C6sGFDEOqkXz"
      }
    },
    {
      "cell_type": "markdown",
      "source": [
        "*Step 2: Build the first part of the circuit for phase estimation with controlled U-gate (Phase Kickback)*\n",
        "\n",
        "We then perform a controlled U operation, which we have written as $U^{2^0}$. Here applies the **Phase Kickback!**\n",
        "\n",
        "  * $|0\\rangle|\\psi\\rangle+|1\\rangle$ <font color=\"red\">$U$</font> $|\\psi\\rangle$ =\n",
        "\n",
        "  * $|0\\rangle|\\psi\\rangle+$ <font color=\"red\">$e^{2 \\pi i 0. \\phi_{1}}$</font> $|1\\rangle|\\psi\\rangle$ =\n",
        "\n",
        "  * $|0\\rangle+$ <font color=\"red\">$e^{2 \\pi i 0. \\phi_{1}}$</font> $|1\\rangle) \\otimes|\\psi\\rangle$\n",
        "\n",
        "* Here are 2 things very important:\n",
        "\n",
        "    * The second qubit register containing |ψ⟩ hasn’t changed. We shouldn’t expect it to, **since |ψ⟩ is an eigenstate of U (Remember: <font color=\"blue\">**Given a unitary operator $U$, the algorithm estimates $\\theta$ in $U|\\psi\\rangle=e^{2 \\pi i \\theta}|\\psi\\rangle$ based on the Eigenvalue equation**</font>). Thus, no matter how many times we apply U to this register, nothing happens to |ψ⟩**. But if we apply it more often it will 'amplify' the phase (Not in the sense of amplitude amplification) - we amplify it with adding more qubits and hence more $\\phi$ to get more precision\n",
        "\n",
        "    * what’s the point of applying U then? The effect was that **it wrote some information about the eigenvalue into the relative phase of the first qubit**. Namely, the entire effect was to\n",
        "map: $|0\\rangle+|1\\rangle \\mapsto|0\\rangle+e^{2 \\pi i 0. \\phi_{1}}|1\\rangle$"
      ],
      "metadata": {
        "id": "3CggzGkfqmG9"
      }
    },
    {
      "cell_type": "code",
      "source": [
        "# Get qubits for the phase estimation circuit.\n",
        "qubits = cirq.LineQubit.range(n_bits)\n",
        "u_bit = cirq.NamedQubit('u')\n",
        "\n",
        "# Build the first part of the phase estimation circuit.\n",
        "phase_estimator = cirq.Circuit(cirq.H.on_each(*qubits))\n",
        "\n",
        "# Set the input state of the eigenvalue register: Add gate to change initial state to |1>\n",
        "phase_estimator.insert(0, cirq.X(u_bit))\n",
        "\n",
        "# bit = cirq.LineQubit\n",
        "for i, bit in enumerate(qubits):\n",
        "    phase_estimator.append(cirq.ControlledGate(U).on(bit, u_bit) ** (2 ** (n_bits - i - 1)))\n",
        "    # explanation: U-rot control aktiviert wenn entsprechendes qubit in state 1 (??)\n",
        "    # dann aktiviere formel: U^2^(n-1) ...U^2^(n-2) ...U^2^(n-n)\n",
        "\n",
        "print(phase_estimator)"
      ],
      "metadata": {
        "id": "k4KJqKfVqozI"
      },
      "execution_count": null,
      "outputs": []
    },
    {
      "cell_type": "markdown",
      "source": [
        "> <font color=\"blue\">$U$ = $Z^{2^{n-n}}$ = $e^{\\pi * 2^{n-n}}$ fur das erste Gate: = $e^{\\pi * (-0.128)}$ ????\n",
        "\n",
        "\n",
        "*Why are we adding Pauli-X? The initial state for u_bit is the  state, but the phase for this state is trivial with the operator we chose. Inserting a Pauli  operator at the begining of the circuit changes this to the  state, which has the nontrivial  phase.*\n",
        "\n",
        "*The controlled u gate*:\n",
        "\n",
        "$|00\\rangle \\mapsto|00\\rangle$\n",
        "\n",
        "$|01\\rangle \\mapsto|01\\rangle$\n",
        "\n",
        "$|10\\rangle \\mapsto|1\\rangle \\otimes U|0\\rangle=|1\\rangle \\otimes\\left(u_{00}|0\\rangle+u_{10}|1\\rangle\\right)$\n",
        "\n",
        "$|11\\rangle \\mapsto|1\\rangle \\otimes U|1\\rangle=|1\\rangle \\otimes\\left(u_{01}|0\\rangle+u_{11}|1\\rangle\\right)$\n",
        "\n",
        "The matrix representing the controlled $U$ is\n",
        "\n",
        ">$\n",
        "\\mathrm{C} U=\\left[\\begin{array}{cccc}\n",
        "1 & 0 & 0 & 0 \\\\\n",
        "0 & 1 & 0 & 0 \\\\\n",
        "0 & 0 & u_{00} & u_{01} \\\\\n",
        "0 & 0 & u_{10} & u_{11}\n",
        "\\end{array}\\right]\n",
        "$\n",
        "\n",
        "**When U is one of the Pauli operators, X,Y, Z, the respective terms \"controlled-X\", \"controlled-Y\", or \"controlled-Z\" are sometimes used**.\n",
        "Sometimes this is shortened to just CX, CY and CZ."
      ],
      "metadata": {
        "id": "GUZMhizaqq0T"
      }
    },
    {
      "cell_type": "markdown",
      "source": [
        "<font color=\"blue\">*Why should we use more than one control Qubit?*\n",
        "\n",
        "**Remember from Eigenvalue problem: Ax = λx in our case with the unitary operator: Ux = λx**\n",
        "\n",
        "> $Ux =$ <font color=\"red\">$e^{2πi*0.\\varphi_{1} \\varphi_{2} \\cdots \\varphi_{n} }$</font> $x$\n",
        "\n",
        "> Beispiel: Wenn $0.\\varphi_{1} \\varphi_{2} \\cdots \\varphi_{n} = 0$, dann ist $e^{2πi*0}$ = λ = 1, so dass Ux = 1x. Damit ist λ = 1 ist der Eigenwert von f.\n",
        "\n",
        "* Since |λ| = 1, we can write it without loss of generality as λ = $e^{2πiφ}$, where <font color=\"red\">$e^{2πi}$ = 1 (= identity, if you insert 2*π*i into exponent at random, you will not change the result. Sometimes it can be a useful identity [Source](https://www.physicsforums.com/threads/e-2-pi-i-where-from.430393/), from Euler identity)</font> and **0 ≤ φ ≤ 1 is called the phase. This is what we want to estimate!**\n",
        "\n",
        "* We saw that in QFT, φ being between 0 and 1 $\\rightarrow$ $\\mathrm{e}^{2 \\pi \\mathrm{i}\\left(\\frac{\\mathrm{x}_{1}}{2}+\\frac{x_{2}}{4}+\\frac{x_{3}}{8}\\right)}$\n",
        "\n",
        "> **The term “estimation” comes about not from the fact that quantum computation is probabilistic, but rather in the degree of precision that we are going to compute, or estimate, the phase to.**\n",
        "\n",
        "* The phase φ is going to be between zero and one, so we can write it as a decimal in binary notation as follows: $φ = 0.φ_1 φ_2 ···φ_n$, where each φi is either zero or one\n",
        "\n",
        "  * The expression $\\phi=0 . \\phi_{1} \\phi_{2} \\cdots \\phi_{n}$ is equivalent to $\\phi=0 . \\phi_{1} \\phi_{2} \\cdots \\phi_{n} \\Longleftrightarrow \\phi=\\sum_{k=1}^{n} \\phi_{k} 2^{-k}$. Some numbers as binary decimals:\n",
        "\n",
        "    * <font color=\"blue\">The number 0.5 in decimal is 0.1 in binary, since 0.1 ≡ (1) · $2^{−1}$ = 1/2 = 0.5. So: $0.5_{10} = 0.1_2$. Note that 0.1 is the same as 0.100000....</font>\n",
        "\n",
        "    * <font color=\"blue\">The number 0.75 in decimal is 0.11 in binary, since 0.11 ≡ (1)·$2^{−1}$ +1·$2^{−2}$ = 1/2+1/4 = 3/4 = 0.75. To get this we need 2 Qubits. So we get more precision with more qubits</font>\n",
        "\n",
        "    * 0.111 = 0.875\n",
        "\n",
        "    * 0.1111 = 0.9375 in decimal, because: $0 \\cdot 2^{0}+1 \\cdot 2^{-1}+1 \\cdot 2^{-2}+1 \\cdot 2^{-3}+1 \\cdot 2^{-4}=0 \\cdot 1+1 \\cdot 0.5+1 \\cdot 0.25+1 \\cdot 0.125+1 \\cdot 0.0625=0+0.5+0.25+0.125+0.0625=0.937510$\n",
        "\n",
        "  * Check also what is the value of the infinitely repeating binary decimal 0.1111111...\n",
        "\n",
        "  * If it needed to be proved, the above exercise proves that 0 ≤ 0.φ1φ2 · · · ≤ 1\n",
        "\n",
        "\n",
        "*Operator $U^{2^n}$ in QPE*\n",
        "\n",
        "* $U^{2^0}$: 1 (decimal) = 00001\n",
        "\n",
        "* $U^{2^1}$: 2 (decimal) = 00010\n",
        "\n",
        "* $U^{2^2}$: 4 (decimal) = 00100\n",
        "\n",
        "* $U^{2^3}$: 8 (decimal) = 01000\n",
        "\n",
        "* $U^{2^4}$: 16 (decimal) = 10000\n",
        "\n",
        "\n",
        "**So for falls die Phase 0.111 ist, wuerde bei 3 Qubits QPE berechnen:**\n",
        "\n",
        "* $e^{2 \\pi i 0. \\varphi_{1} \\varphi_{2} \\varphi_{3}}$</font> = $e^{2 \\pi i 0.(U^{2^0} + U^{2^1} + U^{2^2})}$  = <font color=\"red\">$e^{2 \\pi i 0.001 + 010 + 100)}$</font>  = $e^{2 \\pi i 0.111}$\n",
        "\n",
        "  * $2^0$ = 1 in decimal = 001 in binary\n",
        "\n",
        "  * $2^1$ = 2 in decimal = 010 in binary\n",
        "\n",
        "  * $2^2$ = 4 in decimal = 100 in binary\n",
        "\n",
        "* in this case the phase $\\theta$ = 0.111\n",
        "\n",
        "\n",
        "**Compare that with Quantum Fourier Transform:**\n",
        "\n",
        "* In $\\frac{1}{\\sqrt{2}}\\left(|0\\rangle+\\mathrm{e}^{2 \\pi \\mathrm{i}\\left(\\frac{\\mathrm{x}_{1}}{2}+\\frac{x_{2}}{4}+\\frac{x_{3}}{8}\\right)}|1\\rangle\\right)$ dieser Teil ist die **Phase $\\theta$** = $(\\frac{\\mathrm{x}_{1}}{2}+\\frac{x_{2}}{4}+\\frac{x_{3}}{8})$\n",
        "\n",
        "* Let's say all $x_1, x_2$ and $x_3$ = 1 $\\rightarrow$ $\\mathrm{e}^{2 \\pi \\mathrm{i}\\left(\\frac{{1}}{2}+\\frac{1}{4}+\\frac{1}{8}\\right)}$ = $\\mathrm{e}^{2 \\pi \\mathrm{i}(0.5+0.25+0.125)}$ and in binary form: <font color=\"red\">$\\mathrm{e}^{2 \\pi \\mathrm{i}(0.100+0.010+0.001)}$</font>\n",
        "\n",
        "* **We see that in QFT and QPE it's the same (both in red)!**\n",
        "\n",
        "<font color=\"red\">Jedes $U^{2^n}$ wird immer dann aktiviert, wenn im Control-Qubit oben eine 1 gemessen wird (siehe Bild hier unten):"
      ],
      "metadata": {
        "id": "i1smDkmTqs4C"
      }
    },
    {
      "cell_type": "markdown",
      "source": [
        "![ggg](https://raw.githubusercontent.com/deltorobarba/repo/master/quantum_118.png)"
      ],
      "metadata": {
        "id": "dPmCGa8squ2q"
      }
    },
    {
      "cell_type": "markdown",
      "source": [
        "*Step 3: Perform the inverse QFT on the estimation qubits and measure them*\n",
        "\n",
        "\n",
        "How can we read out this information from the quantum state? Consider the effect of applying another Hadamard transformation on the first qubit (without another H we will always measure 50/50 % a 0 or 1), which will produce (ignoring the normalization factor of 1/2):\n",
        "\n",
        "  * $H(|0\\rangle+$ <font color=\"red\">$e^{2 \\pi i 0 \\cdot \\phi_{1}}$</font> $|1\\rangle)=$ $(1+$<font color=\"red\">$e^{2 \\pi i 0. \\phi_{1}}$</font>$)|0\\rangle$ + $(1-$<font color=\"red\">$e^{2 \\pi i 0 . \\phi_{1}}$</font>$)|1\\rangle$\n",
        "\n",
        "  * this shares the phase with the first Qubit and allows us to read it out\n",
        "\n",
        "  * Now, $\\phi_{1}$ can only be zero or one. In the case that $\\phi_{1}=0, e^{2 \\pi i 0 . \\phi_{1}}=1$, hence the state is exactly $|0\\rangle$: $(\\frac{1}{2}\\left(1+e^{2 \\pi i 0 . 0}\\right)|0\\rangle+\\frac{1}{2}\\left(1-e^{2 \\pi i 0 . 0}\\right)|1\\rangle$ = $\\frac{1}{2}\\left(1+1\\right)|0\\rangle+\\frac{1}{2}\\left(1-1\\right)|1\\rangle$ = $|0\\rangle$\n",
        "\n",
        "  * these values in front of $|0\\rangle$ and $|1\\rangle$ are probabilities (here 0 has probability of being measured = 1, but small differences her reveal the phase and hence the Eigenvalue in other cases. See here:\n",
        "\n",
        "![ggg](https://raw.githubusercontent.com/deltorobarba/repo/master/quantum_081.png)\n",
        "\n",
        "* **For 1 Qubit we can use a Hadamard Gate, and for more than 1 Qubit we use the inverse Fourier Transform**: on Quantum Phase Estimation $\\frac{1}{2^{\\frac{n}{2}}} \\sum_{k=0}^{2^{n}-1} e^{2 \\pi i \\theta k}$ then the inverse Quantum Fourier transform:  <font color=\"red\">$ \\frac{1}{2^{\\frac{n}{2}}} \\sum_{x=0}^{2^{n}-1} e^{\\frac{-2 \\pi i k x}{2^{n}}}|x\\rangle$</font> so that: $\\frac{1}{2^{\\frac{n}{2}}} \\sum_{k=0}^{2^{n}-1} e^{2 \\pi i \\theta k}$ <font color=\"red\">$ \\frac{1}{2^{\\frac{n}{2}}} \\sum_{x=0}^{2^{n}-1} e^{\\frac{-2 \\pi i k x}{2^{n}}}|x\\rangle$</font>\n",
        "\n",
        "  * inverse QFT for 1 Qubit is: $ \\frac{1}{2^{\\frac{1}{2}}} \\sum_{x=0}^{2^{1}-1} e^{\\frac{-2 \\pi i k x}{2^{1}}}|x\\rangle$ = $\\frac{1}{\\sqrt{2}} e^{-1 \\pi i k x}$ fur $k$ = $\\varphi$ = 0 and $x$ = 0. --> somehting is not right here yet!\n",
        "\n",
        "Thus, we measure with certainty (i.e., not probabilistically) a state that tells us exactly what the phase,\n",
        "and hence the eigenvalue, is."
      ],
      "metadata": {
        "id": "C-ElrnYcqw0K"
      }
    },
    {
      "cell_type": "code",
      "source": [
        "def make_qft_inverse(qubits):\n",
        "    \"\"\"Generator for the inverse QFT on a list of qubits.\"\"\"\n",
        "    qreg = list(qubits)[::-1]\n",
        "    while len(qreg) > 0:\n",
        "        q_head = qreg.pop(0)\n",
        "        yield cirq.H(q_head)\n",
        "        for i, qubit in enumerate(qreg):\n",
        "            yield (cirq.CZ ** (-1 / 2 ** (i + 1)))(qubit, q_head)\n",
        "\n",
        "# Do the inverse QFT\n",
        "phase_estimator.append(make_qft_inverse(qubits[::-1]))\n",
        "\n",
        "# Add measurements to the end of the circuit\n",
        "phase_estimator.append(cirq.measure(*qubits, key='m'))\n",
        "print(phase_estimator)"
      ],
      "metadata": {
        "id": "KKoOLV03qyxc"
      },
      "execution_count": null,
      "outputs": []
    },
    {
      "cell_type": "code",
      "source": [
        "# Syntax explanation for list(qubits)[::-1]: list[<start>:<stop>:<step>]\n",
        "# So, when you do a[::-1], it starts from the end towards the first taking each element.\n",
        "# So it reverses a. This is applicable for lists/tuples as well.\n",
        "# Example: >>> a = '1234' >>> a[::-1] will get you: '4321'"
      ],
      "metadata": {
        "id": "oupe6OJLq0rD"
      },
      "execution_count": null,
      "outputs": []
    },
    {
      "cell_type": "markdown",
      "source": [
        "*Step 4: Simulate the circuit and convert from measured bit values to estimated θ values*"
      ],
      "metadata": {
        "id": "ESJrfYA1q2lG"
      }
    },
    {
      "cell_type": "code",
      "source": [
        "# Simulate the circuit.\n",
        "sim = cirq.Simulator()\n",
        "result = sim.run(phase_estimator, repetitions=10)\n",
        "\n",
        "# Convert from output bitstrings to estimate θ values.\n",
        "theta_estimates = np.sum(2 ** np.arange(n_bits) * result.measurements['m'], axis=1) / 2**n_bits\n",
        "print(theta_estimates)"
      ],
      "metadata": {
        "id": "k0MpX2B4q5LD"
      },
      "execution_count": null,
      "outputs": []
    },
    {
      "cell_type": "code",
      "source": [
        "\"\"\"Plot the results.\"\"\"\n",
        "plt.style.use(\"seaborn-whitegrid\")\n",
        "\n",
        "plt.plot(theta_estimates, \"--o\", label=\"Phase estimation\")\n",
        "plt.axhline(theta, label=\"True value\", color=\"black\")\n",
        "\n",
        "plt.legend()\n",
        "plt.xlabel(\"Number of trials\")\n",
        "plt.ylabel(r\"$\\theta$\");"
      ],
      "metadata": {
        "id": "NUBNpjrAq6vm"
      },
      "execution_count": null,
      "outputs": []
    },
    {
      "cell_type": "code",
      "source": [
        "def phase_estimation(theta, n_bits, n_reps=10, prepare_eigenstate_gate=cirq.X):\n",
        "    # Define qubit registers.\n",
        "    qubits = cirq.LineQubit.range(n_bits)\n",
        "    u_bit = cirq.NamedQubit('u')\n",
        "\n",
        "    # Define the unitary U.\n",
        "    U = cirq.Z ** (2 * theta)\n",
        "\n",
        "    # Start with Hadamards on every qubit.\n",
        "    phase_estimator = cirq.Circuit(cirq.H.on_each(*qubits))\n",
        "\n",
        "    # Do the controlled powers of the unitary U.\n",
        "    for i, bit in enumerate(qubits):\n",
        "        phase_estimator.append(cirq.ControlledGate(U).on(bit, u_bit) ** (2 ** (n_bits - 1 - i)))\n",
        "\n",
        "    # Do the inverse QFT.\n",
        "    phase_estimator.append(make_qft_inverse(qubits[::-1]))\n",
        "\n",
        "    # Add measurements.\n",
        "    phase_estimator.append(cirq.measure(*qubits, key='m'))\n",
        "\n",
        "    # Gate to choose initial state for the u_bit. Placing X here chooses the |1> state.\n",
        "    phase_estimator.insert(0, prepare_eigenstate_gate.on(u_bit))\n",
        "\n",
        "    # Code to simulate measurements\n",
        "    sim = cirq.Simulator()\n",
        "    result = sim.run(phase_estimator, repetitions=n_reps)\n",
        "\n",
        "    # Convert measurements into estimates of theta\n",
        "    theta_estimates = np.sum(2**np.arange(n_bits)*result.measurements['m'], axis=1)/2**n_bits\n",
        "\n",
        "    return theta_estimates"
      ],
      "metadata": {
        "id": "RQriJsL4q8gG"
      },
      "execution_count": null,
      "outputs": []
    },
    {
      "cell_type": "code",
      "source": [
        "\"\"\"Analyze convergence vs n_bits.\"\"\"\n",
        "# Set the value of theta. Try different values.\n",
        "theta = 0.123456\n",
        "\n",
        "max_nvals = 16\n",
        "nvals = np.arange(1, max_nvals, step=1)\n",
        "\n",
        "# Get the estimates at each value of n.\n",
        "estimates = []\n",
        "for n in nvals:\n",
        "    estimate = phase_estimation(theta=theta, n_bits=n, n_reps=1)[0]\n",
        "    estimates.append(estimate)\n",
        "\n",
        "print(theta_estimates)\n",
        "print(estimates)\n",
        "\n",
        "\"\"\"Plot the results.\"\"\"\n",
        "plt.style.use(\"seaborn-whitegrid\")\n",
        "\n",
        "plt.plot(nvals, estimates, \"--o\", label=\"Phase estimation\")\n",
        "plt.axhline(theta, label=\"True value\", color=\"black\")\n",
        "\n",
        "plt.legend()\n",
        "plt.xlabel(\"Number of bits\")\n",
        "plt.ylabel(r\"$\\theta$\");"
      ],
      "metadata": {
        "id": "7WwvmvnEq-fF"
      },
      "execution_count": null,
      "outputs": []
    },
    {
      "cell_type": "markdown",
      "source": [
        "*Step 5: Compute the Eigenvalues from the theta value*\n",
        "\n",
        "Eigenvalue: $e^{2 \\pi i \\theta}$ is the corresponding eigenvalue, so for $\\theta$ = 0.125 $\\rightarrow$ $e^{2 * \\pi * i * 0.125}$ = <font color=\"blue\">0.707106781 + 0.707106781 i (Eigenvalue of T-gate)</font>\n",
        "\n",
        "* Verification: $\n",
        "T|1\\rangle=\\left[\\begin{array}{ll}\n",
        "1 & 0 \\\\\n",
        "0 & e^{\\frac{i \\pi}{4}}\n",
        "\\end{array}\\right]\\left[\\begin{array}{l}\n",
        "0 \\\\\n",
        "1\n",
        "\\end{array}\\right]=e^{\\frac{i \\pi}{4}}|1\\rangle\n",
        "$ $\\rightarrow$ <font color=\"blue\">$e^{\\frac{i \\pi}{4}}$ is the same as $e^{2 * \\pi * i * 0.125}$ bzw. $e^{\\frac{2 * \\pi * i}{8}}$</font>\n",
        "\n",
        "* $e^{2 \\pi i 0. \\varphi_{1} \\varphi_{2} \\varphi_{3}}$</font> = $e^{2 \\pi i 0.(U^{2^0} + U^{2^1} + U^{2^2})}$  = <font color=\"red\">$e^{2 \\pi i 0.001 + 010 + 100)}$</font>  = $e^{2 \\pi i 0.111}$\n",
        "\n",
        "* ps: $e^{2 \\pi i}$ =  1 (identity) - ohne theta, die phase\n",
        "\n",
        "* From Eigenvalue euqation: $Ux =$ <font color=\"red\">$e^{2πi*0.\\varphi_{1} \\varphi_{2} \\cdots \\varphi_{n} }$</font> $x$. Beispiel: Wenn $0.\\varphi_{1} \\varphi_{2} \\cdots \\varphi_{n} = 0$, dann ist $e^{2πi*0}$ = λ = 1, so dass Ux = 1x. Damit ist λ = 1 ist der Eigenwert von f.\n",
        "\n",
        "* https://quantumcomputing.stackexchange.com/questions/9577/how-to-find-eigenvalues-and-eigenvector-for-a-quantum-gate\n",
        "\n",
        "\n",
        "![ggg](https://raw.githubusercontent.com/deltorobarba/repo/master/quantum_115.png)\n"
      ],
      "metadata": {
        "id": "tHVLN6IerA_k"
      }
    },
    {
      "cell_type": "markdown",
      "source": [
        "###### *Grover Search*"
      ],
      "metadata": {
        "id": "FVj3KAarTD-3"
      }
    },
    {
      "cell_type": "markdown",
      "source": [
        "https://web.archive.org/web/20171221161408/http://twistedoakstudios.com/blog/Post2644_grovers-quantum-search-algorithm\n",
        "\n",
        "https://www.lesswrong.com/posts/5vZD32EynD9n94dhr/configurations-and-amplitude"
      ],
      "metadata": {
        "id": "aS0CEcRmTKi2"
      }
    },
    {
      "cell_type": "markdown",
      "source": [
        "> **[Grover’s algorithm](https://en.m.wikipedia.org/wiki/Grover's_algorithm) teaches us how we can search for an item in an unsorted list without needing to look at each item one by one but by looking at them all at once.**\n",
        "\n",
        "It accomplishes that using two techniques:\n",
        "\n",
        "  * First, it uses a quantum oracle to mark the searched state.\n",
        "\n",
        "  * Second, it uses a diffuser that amplifies the amplitude of the marked state to increase its measurement probability.\n",
        "\n",
        "Grover's Algorithm : Suche in grossen Datenbanken (Squared speedup: get result in the square root of time that on classical computers)\n",
        "\n",
        "* Auf einem klassischen Computer ist der prinzipiell schnellstmögliche Suchalgorithmus in einer unsortierten Datenbank die [lineare Suche](https://de.m.wikipedia.org/wiki/Lineare_Suche), die ${\\mathcal {O}}\\left(N\\right)$ Rechenschritte erfordert (Der Suchaufwand wächst linear mit der Anzahl der Elemente in der Liste.)\n",
        "\n",
        "* Die effizientere [Binäre Suche](https://de.m.wikipedia.org/wiki/Binäre_Suche) kann nur bei geordneten Listen benutzt werden. Die Binäre Suche ist deutlich schneller als die lineare Suche, welche allerdings den Vorteil hat, auch in unsortierten Feldern zu funktionieren. In Spezialfällen kann die [Interpolationssuche](https://de.m.wikipedia.org/wiki/Interpolationssuche) schneller sein als die binäre Suche.\n",
        "\n",
        "* Makes use of Amplitude Amplification, Quantum Walk & Quantum Counting"
      ],
      "metadata": {
        "id": "dq3gXIDJTPVq"
      }
    },
    {
      "cell_type": "markdown",
      "source": [
        "> Grover's Algorithm uses a phase shift to increase the amplitude of the favorable state and to decrease the amplitudes of all other states (=Phase Flip of Desired Outcome + Probability Amplitudes Inversion about the Mean to Amplify)\n",
        "\n",
        "Grover’s algorithm solves oracles that **add a negative phase to the solution states**. I.e. for any state |x⟩ in the computational basis:\n",
        "\n",
        "> $U_{\\omega}|x\\rangle=\\left\\{\\begin{aligned}|x\\rangle & \\text { if } x \\neq \\omega \\\\-|x\\rangle & \\text { if } x=\\omega \\end{aligned}\\right.$\n",
        "\n",
        "We create a function $f$ that takes a proposed solution $x$, and returns\n",
        "\n",
        "* $f(x)=0$ if $x$ is not a solution ( $x \\neq \\omega)$\n",
        "\n",
        "* $f(x)=1$ for a valid solution $(x=\\omega)$.\n",
        "\n",
        "The oracle can then be described as:\n",
        "\n",
        "> $U_{\\omega}|x\\rangle=(-1)^{f(x)}|x\\rangle$\n",
        "\n",
        "* you can see this is an Eigenvalue equation\n",
        "\n",
        "The oracle's matrix will be a diagonal matrix of the form:\n",
        "\n",
        "> $U_{\\omega}=\\left[\\begin{array}{cccc}(-1)^{f(0)} & 0 & \\cdots & 0 \\\\ 0 & (-1)^{f(1)} & \\cdots & 0 \\\\ \\vdots & 0 & \\ddots & \\vdots \\\\ 0 & 0 & \\cdots & (-1)^{f\\left(2^{n}-1\\right)}\\end{array}\\right]$\n",
        "\n",
        "*Source: https://qiskit.org/textbook/ch-algorithms/grover.html*"
      ],
      "metadata": {
        "id": "hivc1HYITRx6"
      }
    },
    {
      "cell_type": "markdown",
      "source": [
        "![ggg](https://raw.githubusercontent.com/deltorobarba/repo/master/quantum_105.jpg)"
      ],
      "metadata": {
        "id": "x_fYcIZ3TUcw"
      }
    },
    {
      "cell_type": "markdown",
      "source": [
        "![ggg](https://raw.githubusercontent.com/deltorobarba/repo/master/quantum_106.jpg)"
      ],
      "metadata": {
        "id": "niLn6qHITWT9"
      }
    },
    {
      "cell_type": "markdown",
      "source": [
        "![ggg](https://raw.githubusercontent.com/deltorobarba/repo/master/quantum_107.jpg)"
      ],
      "metadata": {
        "id": "w0zkJ1ERTX_2"
      }
    },
    {
      "cell_type": "markdown",
      "source": [
        "![ggg](https://raw.githubusercontent.com/deltorobarba/repo/master/quantum_108.jpg)"
      ],
      "metadata": {
        "id": "NSRtpsr8Tbjr"
      }
    },
    {
      "cell_type": "markdown",
      "source": [
        "*Step 1: Hadamard-Operator for Superposition + Assign a Phase -1 to the desired outcome*\n",
        "\n",
        "Start with a balanced superposition, and assign a phase of -1 to the chosen ket, 111). Assigning -1 means applying a Pauli-Z-operator in the superposition to this one !!\n",
        "\n",
        "![ggg](https://raw.githubusercontent.com/deltorobarba/repo/master/quantum_102.jpg)\n",
        "\n",
        "![ggg](https://raw.githubusercontent.com/deltorobarba/repo/master/quantum_101.jpg)"
      ],
      "metadata": {
        "id": "EnOUvbtJTdek"
      }
    },
    {
      "cell_type": "markdown",
      "source": [
        "**<font color=\"blue\">More about Amplitude Amplification**\n",
        "\n",
        "* [Amplitude amplification](https://en.m.wikipedia.org/wiki/Amplitude_amplification) is a technique in quantum computing which **generalizes the idea behind the Grover's search algorithm**, and gives rise to a family of quantum algorithms.\n",
        "\n",
        "* In a quantum computer, amplitude amplification can be used to **obtain a quadratic speedup over several classical algorithms**.\n",
        "\n",
        "1. If there are $G$ good entries in the database in total, then we can find them by initializing a quantum register $|\\psi\\rangle$ with $n$ qubits where $2^{n}=N$ into a uniform superposition of all the database elements $N$ such that\n",
        "\n",
        ">$| \\psi \\rangle=\\frac{1}{\\sqrt{N}} \\sum_{k=0}^{N-1}|k\\rangle\n",
        "$\n",
        "\n",
        "2. and running the above algorithm. In this case the overlap of the initial state with the good subspace is equal to the square root of the frequency of the good entries in the database, $\\sin (\\theta)=|P| \\psi\\rangle \\mid=\\sqrt{G / N}$. If $\\sin (\\theta) \\ll 1$,\n",
        "\n",
        "3. we can\n",
        "approximate the number of required iterations as\n",
        "\n",
        ">$\n",
        "n=\\left\\lfloor\\frac{\\pi}{4 \\theta}\\right\\rfloor \\approx\\left\\lfloor\\frac{\\pi}{4 \\sin (\\theta)}\\right\\rfloor=\\left\\lfloor\\frac{\\pi}{4} \\sqrt{\\frac{N}{G}}\\right\\rfloor=O(\\sqrt{N})\n",
        "$\n",
        "\n",
        "Measuring the state will now give one of the good entries with high probability.\n",
        "\n",
        "Since each application of $S_{P}$ requires a single oracle query (assuming that the oracle is implemented as a quantum gate), we can find a good entry with just $O(\\sqrt{N})$ oracle queries, thus obtaining a quadratic speedup over the best possible classical algorithm. (The classical method for searching the database would be to perform the query for every $e \\in\\{0,1, \\ldots, N-1\\}$ until a solution is found, thus costing $O(N)$ queries.) Moreover, we can find all $G$ solutions using $O(\\sqrt{G N})$ queries."
      ],
      "metadata": {
        "id": "TtLkatCWTfmf"
      }
    },
    {
      "cell_type": "markdown",
      "source": [
        "* Now, let’s say four qubits are enough and Mr. Grover is known as |0010⟩. The oracle uses the specific characteristic of this state to identifying it. That is the state has a |1⟩ at the third position and |0⟩ otherwise.\n",
        "\n",
        "* Since the quantum oracle takes all qubits as input, it can easily apply a transformation of this exact state. It doesn’t matter whether we use four qubits or 33. The oracle identifies Mr. Grover in a single turn.\n",
        "\n",
        "* The transformation the oracle applies to the searched state is an inversion of the amplitude.\n",
        "\n",
        "![ggg](https://raw.githubusercontent.com/deltorobarba/repo/master/quantum_109.png)\n",
        "\n",
        "![ggg](https://raw.githubusercontent.com/deltorobarba/repo/master/quantum_110.png)"
      ],
      "metadata": {
        "id": "EXcnMctpTh5X"
      }
    },
    {
      "cell_type": "markdown",
      "source": [
        "* In the representation above representation (the dark one) of the amplitudes, we can clearly see a difference between the searched state and all the other states. We could prematurely declare the search is over.\n",
        "\n",
        "* The only difference is in the sign of the amplitude. For the measurement probability results from the amplitude’ absolute square, the sign does not matter at all.\n",
        "\n",
        "* The amplitude originates from the concept that every quantum entity may be described not only as a particle but also as a wave. The main characteristic of a wave is that it goes up and down as it moves. The amplitude is the distance between the center and the crest of the wave.\n",
        "\n",
        "* If we invert the amplitude of a wave at all positions, the result is the same wave shifted by half of its wavelength.\n",
        "\n",
        "* These two waves differ only in their relative position. This is the phase of the wave. For the outside world, the phase of a wave is not observable. Observed individually, the two waves appear identical. So, the problem is we can’t tell the difference between these two waves.\n",
        "\n",
        "> As a consequence, the system does not appear any different from the outside. Even though the oracle marked the searched state and it, therefore, differs from the other states, all states still have the same measurement probability.\n",
        "\n",
        "![ggg](https://raw.githubusercontent.com/deltorobarba/repo/master/quantum_111.png)\n"
      ],
      "metadata": {
        "id": "qRM2vW5sTkGk"
      }
    },
    {
      "cell_type": "markdown",
      "source": [
        "*Step 2: Invert all probability amplitudes about the mean + Measure*\n",
        "\n",
        "![ggg](https://raw.githubusercontent.com/deltorobarba/repo/master/quantum_103.jpg)\n",
        "\n",
        "![ggg](https://raw.githubusercontent.com/deltorobarba/repo/master/quantum_103.jpg)"
      ],
      "metadata": {
        "id": "QU-n4dEiTwYL"
      }
    },
    {
      "cell_type": "markdown",
      "source": [
        "* We need to turn the difference into something measurable. We need to increase the measurement probability of the marked state. This is the task of the diffuser. The diffuser applies an inversion about the mean amplitude.\n",
        "\n",
        "* Let’s have a look at the average amplitude.\n",
        "\n",
        "![ggg](https://raw.githubusercontent.com/deltorobarba/repo/master/quantum_112.png)"
      ],
      "metadata": {
        "id": "LZyhU_UETygL"
      }
    },
    {
      "cell_type": "markdown",
      "source": [
        "* With four qubits, we have 16 different states. Each state has an amplitude of 1/sqrt(16)=1/4. In fact, each but one state — the searched state has this amplitude. The searched state has an amplitude of −1/4. Thus, the average is (15∗1/4−1/4)/16=0.21875.\n",
        "\n",
        "* The average is a little less than the amplitude of all states we did not mark. If we invert these amplitudes by this mean, they end up a little lower than the average at 0.1875.\n",
        "\n",
        "* For the amplitude of the marked state is negative, it is quite far away from the average. The inversion about the mean has a greater effect. It flips the amplitude from −0.25 by 2∗(0.25+0.21875) to 0.6875 (bzw: =0,21875-(-0,25-0,21875)).\n",
        "\n",
        "![ggg](https://raw.githubusercontent.com/deltorobarba/repo/master/quantum_113.png)"
      ],
      "metadata": {
        "id": "CgVRRoAeT0lP"
      }
    },
    {
      "cell_type": "markdown",
      "source": [
        "* The inversion about the mean works well if we search for a single or a few negative amplitudes among many positive amplitudes. Then, this operation increases the negative amplitudes we know are the correct ones. And this operation decreases the positive amplitudes, we know are wrong.\n",
        "\n",
        "> This operation increases the negative amplitude by a large amount while decreasing the positive amplitudes by a small amount.\n",
        "\n",
        "* But the more states we have, the lower the overall effect will be. In our example, we calculated the new amplitude of the searched state as 0.6875. The corresponding measurement probability is 0.6875^2=0.47265625. Accordingly, we measure this system only about every other time in the state we are looking for. Otherwise, we measure it in any other case.\n",
        "\n",
        "* Of course, we could now measure the system many times and see our searched state as the most probable one. But running the algorithm so many times would give away any advantage we gained from not searching all the states.\n",
        "\n",
        "> **Instead, we repeat the algorithm. We use the same oracle to negate the amplitude of the searched state. Then we invert all the amplitudes around the mean, again**.\n",
        "\n",
        "However, we must not repeat this process too many times. There is an optimal number of times of repeating this process to get the greatest chance of measuring the correct answer.\n",
        "\n",
        "* The probability of obtaining the correct result grows until we reach about π/4*sqrt(N) with N is the number of states of the quantum system. Beyond this number, the probability of measuring the correct result decreases again.\n",
        "\n",
        "* In our example with four qubits and N=16 states, the optimum number of iterations is 3.\n",
        "\n",
        "![ggg](https://raw.githubusercontent.com/deltorobarba/repo/master/quantum_104.jpg)"
      ],
      "metadata": {
        "id": "uzgJXgO7T3xW"
      }
    },
    {
      "cell_type": "markdown",
      "source": [
        "https://towardsdatascience.com/towards-understanding-grovers-search-algorithm-2cdc4e885660"
      ],
      "metadata": {
        "id": "gXujRcEpT6WW"
      }
    },
    {
      "cell_type": "markdown",
      "source": [
        "*Grover Search: Simple Examples (Z-Gate and I-Gate as amplifiers. with H as Diffuser)*"
      ],
      "metadata": {
        "id": "_ZmCzCAQT8oZ"
      }
    },
    {
      "cell_type": "markdown",
      "source": [
        "**Example 1: Z Gate to switch from 0 to 1**\n",
        "\n",
        "* Let’s say the state |1⟩ depicts the favorable state we want to find. Then, the oracle consists of the Z-gate that switches the amplitude when the corresponding qubit is in state |1⟩.\n",
        "\n",
        "* As a result, we see the amplitude changed for state |1⟩. The qubit is now in state |−⟩. Its two states |0⟩ and |1⟩ are in two different phases, now.\n",
        "\n",
        "* In other words, we flipped the amplitude of state |1⟩ from positive to negative.\n",
        "\n",
        "* Both states still have a measurement probability of 0.5. It is the task of the diffuser to magnify the amplitude to favor the searched state.\n",
        "\n",
        "* **The diffuser in a single-qubit circuit is quite simple. It is another H-gate**. This circuit results in state |1⟩ with absolute certainty.\n",
        "\n",
        "We apply an important sequence on the qubit, the HZH-circuit. This circuit is known as an identity to the NOT-gate (X-gate) that turns state |0⟩ into |1⟩ and vice versa.\n",
        "\n",
        "The following equation proves this identity.\n",
        "\n",
        "> $H Z H=\\frac{1}{\\sqrt{2}}\\left[\\begin{array}{cc}1 & 1 \\\\ 1 & -1\\end{array}\\right]\\left[\\begin{array}{cc}1 & 0 \\\\ 0 & -1\\end{array}\\right] \\frac{1}{\\sqrt{2}}\\left[\\begin{array}{cc}1 & 1 \\\\ 1 & -1\\end{array}\\right]=\\left[\\begin{array}{ll}0 & 1 \\\\ 1 & 0\\end{array}\\right]=X$\n",
        "\n",
        "Then, why would we use the HZH-sequence? If it is similar to the NOT-gate, why don’t we use that instead?\n",
        "\n",
        "<font color=\"red\">Simply put, the HZH-sequence is more flexible. It is the simplest form of Grover’s search algorithm.</font> It starts with all states being equal (the first H-gate). It applies an oracle (Z-gate).\n",
        "\n",
        "And, <font color=\"blue\">**it uses a diffuser that amplifies the amplitude of the selected state |1⟩ (the second H-gate)**.\n",
        "\n",
        "> While we could rewrite these two circuits more succinctly, the circuit identities of HZH=X and HIH=I let us use the general structure of Grover’s algorithm. Simply by changing the oracle, we can mark and amplify different states. We don’t need to come up with a new algorithm for each possible state we want to select out of a list. But we only need to find an appropriate oracle. This ability comes in handy the more states our quantum system has.\n",
        "\n",
        "> The search for one of two possible states does not even deserve to be called a search. But the general structure of Grover’s algorithm is not different from this very simple example. **It uses a phase shift to increase the amplitude of the favorable state and to decrease the amplitudes of all other states**.\n",
        "\n"
      ],
      "metadata": {
        "id": "toTSFhATT_g_"
      }
    },
    {
      "cell_type": "markdown",
      "source": [
        "**Quantum Counting**\n",
        "\n",
        "> **In quantum counting, we simply use the quantum phase estimation algorithm to find an eigenvalue of a Grover search iteration.**\n",
        "\n",
        "* how many solutions exist?\n",
        "\n",
        "* does there any solution exist?\n",
        "\n",
        "\n",
        "The percentage number of solutions in our search space affects the difference between $|s\\rangle$ and $\\left|s^{\\prime}\\right\\rangle$. For example, if there are not many solutions, $|s\\rangle$ will be very close to $\\left|s^{\\prime}\\right\\rangle$ and $\\theta$ will be very small. It turns out that the eigenvalues of the Grover iterator are $e^{\\pm i \\theta}$, and **we can extract this using quantum phase estimation (QPE) to estimate the number of solutions $(M)$**.\n",
        "\n",
        "**First we want to get $\\theta$ from measured_int. (phase estimation)**\n",
        "\n",
        "* You will remember that $\\mathrm{QPE}$ gives us a measured value $=2^{n} \\phi$ from the eigenvalue $e^{2 \\pi i \\phi}$,\n",
        "\n",
        "* so to get $\\theta$ we need to do:\n",
        "\n",
        "> $\n",
        "\\theta=\\text { value } \\times \\frac{2 \\pi}{2^{t}}\n",
        "$\n",
        "\n",
        "**Second, we calculate the inner product of $|s\\rangle$ and $\\left|s^{\\prime}\\right\\rangle:$**\n",
        "\n",
        "> $\n",
        "\\left\\langle s^{\\prime} \\mid s\\right\\rangle=\\cos \\frac{\\theta}{2}\n",
        "$\n",
        "\n",
        "* And that $|s\\rangle$ (a uniform superposition of computational basis states) can be written in terms of $|\\omega\\rangle$ and $\\left|s^{\\prime}\\right\\rangle$ as:\n",
        "\n",
        "> $\n",
        "|s\\rangle=\\sqrt{\\frac{M}{N}}|\\omega\\rangle+\\sqrt{\\frac{N-M}{N}}\\left|s^{\\prime}\\right\\rangle\n",
        "$\n",
        "\n",
        "* The inner product of $|s\\rangle$ and $\\left|s^{\\prime}\\right\\rangle$ is:\n",
        "\n",
        "> $\n",
        "\\left\\langle s^{\\prime} \\mid s\\right\\rangle=\\sqrt{\\frac{N-M}{N}}=\\cos \\frac{\\theta}{2}$\n",
        "\n",
        "* From this, we can use some trigonometry and algebra to show:\n",
        "\n",
        "> $\n",
        "N \\sin ^{2} \\frac{\\theta}{2}=M\n",
        "$\n",
        "\n",
        "**Third, calculate number of solutions**\n",
        "\n",
        "* From the Grover's algorithm chapter, you will remember that a common way to create a diffusion operator, $U_{s}$, is actually to implement $-U_{s}$.\n",
        "\n",
        "* This implementation is used in the Grover iteration provided in this chapter. In a normal Grover search, this phase is global and can be ignored, but now we are controlling our Grover iterations, this phase does have an effect.\n",
        "\n",
        "* The result is that we have effectively searched for the states that are not solutions, and our quantum counting algorithm will tell us how mâny states are not solutions. To fix this, we simply calculate\n",
        "\n",
        "> $N-M$\n",
        "\n",
        "The ability to perform quantum counting efficiently is needed in order to use Grover's search algorithm (because running Grover's search algorithm requires knowing how many solutions exist). Moreover, this algorithm solves the quantum existence problem (namely, deciding whether any solution exists) as a special case."
      ],
      "metadata": {
        "id": "v4_klwFwUDK0"
      }
    },
    {
      "cell_type": "markdown",
      "source": [
        "###### *Shor's Algorithm*"
      ],
      "metadata": {
        "id": "JKPZ3BgSWGpA"
      }
    },
    {
      "cell_type": "markdown",
      "source": [
        "Shor’s algorithm for factoring, which is not NP-complete, has been run on real quantum computers. The largest number it has been used to factor (that I could find a reference to) is 56153: New largest number factored on a quantum device is 56,153. And that was on 4 qubits (https://phys.org/news/2014-11-largest-factored-quantum-device.html).\n",
        "\n",
        "*(RSA) Encryption*\n",
        "\n",
        "Video [Breaking RSA](https://youtu.be/-ShwJqAalOk)\n",
        "\n",
        "Public key cryptography\n",
        "* https is developed on top of this\n",
        "* RSA: revest shavor edelmann, based on prime numbers, older more established algoithm\n",
        "* Elliptic curve cryptography\n",
        "* Modular arithmetic\n",
        "* Feistel Cypher (block cypher): https://de.m.wikipedia.org/wiki/Feistelchiffre\n",
        "* Diffie Hellmann key exchange\n",
        "* It's an exponential problem on classical computers that quantum computers can solve in polynomial time\n",
        "\n",
        "Extended Euclidean algorithm\n",
        "\n",
        "$\\begin{aligned} & (e, n)(d) \\\\ & n=p \\cdot q \\\\ & \\Phi(n)=(p-1) \\cdot(q-1) \\\\ & e \\cdot d \\equiv 1 \\bmod (\\Phi(n))\\end{aligned}$\n",
        "\n",
        "Fermat‘s factorization algorithm: if p and q are close to each other, this gives you a solution extremely quickly\n",
        "\n",
        "$\\begin{aligned} & N=a^2-b^2=(a+b) \\cdot(a-b) \\\\ & b^2=a^2-N \\\\ & a=[\\sqrt{N}]\\end{aligned}$\n",
        "\n",
        "[Prime Numbers and RS Encryption Algorithm](https://youtu.be/JD72Ry60eP4)\n",
        "\n"
      ],
      "metadata": {
        "id": "xCWOdWpeWI85"
      }
    },
    {
      "cell_type": "markdown",
      "source": [
        "(2019) How to factor 2048 bit RSA integers in 8 hours using 20 million noisy qubits\n",
        "\n",
        "https://arxiv.org/abs/1905.09749"
      ],
      "metadata": {
        "id": "xQR0KBqcWKu-"
      }
    },
    {
      "cell_type": "markdown",
      "source": [
        "https://quantumai.google/cirq/experiments/shor"
      ],
      "metadata": {
        "id": "7w3QkGAAWMk_"
      }
    },
    {
      "cell_type": "markdown",
      "source": [
        "Der Shor-Algorithmus lässt sich am besten für die Primfaktorzerlegung erklären. Damit Quantencomputer diese Aufgabe meistern können, muss man das Problem allerdings etwas umformulieren. Denn der Quantenalgorithmus stützt sich auf eine Anleitung zum Faktorisieren von Zahlen, die aus den 1970er Jahren stammt. Damals fand man heraus, dass nur vier Schritte nötig sind, um die Primfaktoren p und q einer Zahl N = p·q zu berechnen.\n",
        "\n",
        "1. Wähle eine zufällige Zahl a < N.\n",
        "\n",
        "2. Finde die Periodenlänge r von a Modulo N.\n",
        "\n",
        "3. Stelle sicher, dass r eine gerade Zahl ist und dass (a^(r/2) + 1) nicht durch N teilbar ist.\n",
        "\n",
        "4. Dann ist p der größte gemeinsame Teiler von (a^(r/2) − 1) und N. Der andere Primteiler q ist entsprechend der größte gemeinsame Teiler von (a^(r/2) + 1) und N.\n",
        "\n",
        "https://www.spektrum.de/kolumne/shor-algorithmus-wie-quantencomputer-verschluesselungen-knacken/2133048\n"
      ],
      "metadata": {
        "id": "vTL5M5tHWOKR"
      }
    },
    {
      "cell_type": "markdown",
      "source": [
        "**Classical Calculation**\n",
        "\n",
        "* <font color=\"blue\">Factoring is equivalent to finding a nontrivial squareroot of 1 mod N.\n",
        "\n",
        "* all we need to do is find this nontrivial squareroot of unity, and we can factor whatever number we need. As promised, we can do this with period finding, specifically by computing the order of a random integer\n",
        "\n",
        "* The order of some integer x modulo N is the smallest integer r such that $x^r$ = 1 mod N"
      ],
      "metadata": {
        "id": "anc1ZdNxWQBk"
      }
    },
    {
      "cell_type": "markdown",
      "source": [
        "*Modular Arithmetic*\n",
        "\n",
        "![ggg](https://raw.githubusercontent.com/deltorobarba/repo/master/quantum_088.jpg)\n",
        "\n",
        "![ggg](https://raw.githubusercontent.com/deltorobarba/repo/master/quantum_089.jpg)"
      ],
      "metadata": {
        "id": "SU6E3Q1DWRuF"
      }
    },
    {
      "cell_type": "markdown",
      "source": [
        "**<font color=\"blue\">Step 1: Pick coprime of N**\n",
        "\n",
        "*Drei mögliche Verfahren zur Berechnung des ggT :*\n",
        "\n",
        "Erstes Verfahren: Euklidischer Algorithmus\n",
        "* 15\t:\t13\t  = \t1\t  Rest  \t2.\t  Also ist ggT (15,13)= ggT (13,2)\n",
        "* 13\t:\t2\t  = \t6\t  Rest  \t1.\t  Also ist ggT (13,2)= ggT (2,1)\n",
        "* 2\t:\t1\t  = \t2\t  Rest  \t0.\t  Also ist ggT (2,1)= ggT (1,0)\n",
        "* Ergebnis: Der ggT von 15 und 13 ist 1.\n",
        "\n",
        "Zweites Verfahren: Vergleichen der Teilermengen .\n",
        "* Die Teilermenge von 15 lautet: {1,3,5,15}.\n",
        "* Die Teilermenge von 13 lautet: {1,13}.\n",
        "* Die größte in beiden Teilermengen vorkommende Zahl ist 1. Also ist 1 der ggT von 15 und 13.\n",
        "\n",
        "Dritte Möglichkeit: Vergleichen der Primfaktorzerlegung\n",
        "* Die Primfaktorzerlegung von 15 lautet: 15= 3·5.\n",
        "* Die Primfaktorzerlegung von 13 lautet: 13= 13.\n",
        "* Die gemeinsamen Primfaktoren sind: 1.\n",
        "* Also ist 1 der ggT.\n",
        "\n",
        "*Modulo (kurz: mod) berechnet den Rest einer Division zweier Zahlen. In Mathematischen Formeln wird modulo mit mod abgekürzt, beispielsweise: 23 mod 8 = 7. Bei dieser Rechnung kommt 7 heraus, weil die 8 zweimal in die 23 passt und dann 7 übrig bleiben.*"
      ],
      "metadata": {
        "id": "XlOTApbKWVOD"
      }
    },
    {
      "cell_type": "code",
      "source": [
        "# Product of two prime numbers (to check later if result is correct)\n",
        "N=5 * 3\n",
        "\n",
        "# Pick coprime (!) number to N to factorize N into primes\n",
        "a=13\n",
        "\n",
        "# Code Example to understand periodicity in the context of factoring prime numbers:\n",
        "\n",
        "import math\n",
        "# Compute greated common divisor between a and N\n",
        "math.gcd(a, N)"
      ],
      "metadata": {
        "id": "XLyfDHgWWX69"
      },
      "execution_count": null,
      "outputs": []
    },
    {
      "cell_type": "markdown",
      "source": [
        "**<font color=\"blue\">Step 2: Find the period of $a^r$ $\\equiv$ 1 $(modN)$:**\n",
        "\n",
        "* <font color=\"blue\">the order of x is just the period of the function f(i) = $x^i$ mod N.\n",
        "\n",
        "* <font color=\"blue\">In quantum computing you use QFT in order to determine the period !!"
      ],
      "metadata": {
        "id": "F3nOmAZmWab8"
      }
    },
    {
      "cell_type": "code",
      "source": [
        "import matplotlib. pyplot as plotter\n",
        "sns.set(rc={'figure.figsize':(12, 5), \"lines.linewidth\": 1.5})\n",
        "\n",
        "r = list(range(N))\n",
        "y= [a**r0 % N for r0 in r]\n",
        "\n",
        "plotter.plot (r, y)\n",
        "plotter.xlabel('r')\n",
        "plotter.ylabel('Rest:' f'{a}^r (mod{N})')\n",
        "plotter.title('Periode der Restwerte (aus den Multiples von r)')\n",
        "plotter.show()"
      ],
      "metadata": {
        "id": "TDbnGrJwWdGd"
      },
      "execution_count": null,
      "outputs": []
    },
    {
      "cell_type": "markdown",
      "source": [
        "<font color=\"red\">**Beispiel: Choose any number $a$ and takes its multiple $r$ so many times, until the rest in modulo is 1, (except r=0)**</font>\n",
        "\n",
        "> $13^0$ (mod 15) = 1 (mod 15) = 1\n",
        "\n",
        "> $13^1$ (mod 15) = 13\n",
        "\n",
        "> $13^2$ (mod 15) = 169 (mod 15) = 4\n",
        "\n",
        "* <font color=\"blue\">*Erlauterung: Nimm 15 * 11 = 165, bis zur 169 verbleibt ein Rest 4*\n",
        "\n",
        "> $13^3$ (mod 15) = 2197 (mod 15) = 7\n",
        "\n",
        "* <font color=\"blue\">*Erlauterung: Nimm 15 * 146 = 2190, bis zur 2197 verbleibt ein Rest 7*\n",
        "\n",
        "> $13^4$ (mod 15) = 28561 (mod 15) = 1 (<font color=\"blue\"><u>hier started die Periode wieder, that's the r we are looking for!</u>)\n",
        "\n",
        "> usw.."
      ],
      "metadata": {
        "id": "8F3jePcEWfbK"
      }
    },
    {
      "cell_type": "code",
      "source": [
        "r= r[y[1:].index(1)+1]\n",
        "print(f'r = {r}')"
      ],
      "metadata": {
        "id": "tb5x76rsWivd"
      },
      "execution_count": null,
      "outputs": []
    },
    {
      "cell_type": "markdown",
      "source": [
        "**<font color=\"blue\">Step 3: Bestimme $x \\equiv a^{\\frac{r}{2}}(\\operatorname{mod} N)$**. Mindestens einer der beiden Primfaktoren von N={p,q} is beinhalted in gcd(x+1, N) bzw. gcd(x-1, N)\n",
        "\n",
        "*In this case with a=13, N=15 and r=4:*\n",
        "\n",
        "* $x \\equiv a^{\\frac{r}{2}}(\\operatorname{mod} N)$\n",
        "\n",
        "* $x \\equiv 13^{\\frac{4}{2}}(\\operatorname{mod} 15)$\n",
        "\n",
        "* x = 169 (mod 15) = 4\n",
        "\n",
        "  * gcd(x-1, N) = 3 = p\n",
        "\n",
        "  * gcd(x+1, N) = 5 = q\n",
        "\n",
        "Achtung: in einem anderen Beispiel: N=11*7 (Primzahlen), a=18, ergibt x=43.\n",
        "\n",
        "* Davon x-1=42 und x+1=44.\n",
        "* Das sind naturlich keine Primzahlen,\n",
        "* Aber deren Faktoren sind: 44 = 2 * 2 * 11 und 42 = 2 * 3 * 7\n",
        "* das heisst, x-1 und x+1 kann auch die Primzahlen indirekt enthalten!"
      ],
      "metadata": {
        "id": "uA-EDg-1Wkro"
      }
    },
    {
      "cell_type": "code",
      "source": [
        "if r % 2 == 0:\n",
        "  x = (a**(r/2.)) % N\n",
        "  print(f'x = {x}')\n",
        "  if ((x + 1) % N) != 0:\n",
        "    print(math.gcd((int(x)+1), N), math.gcd((int(x)-1), N))\n",
        "  else:\n",
        "      print (\"x + 1 is 0 (mod N)\")\n",
        "else:\n",
        "  print (f'r = {r} is odd')"
      ],
      "metadata": {
        "id": "uD9i5t7uWoAd"
      },
      "execution_count": null,
      "outputs": []
    },
    {
      "cell_type": "markdown",
      "source": [
        "**Shor's Algorithm**\n",
        "\n",
        "* When finding order using the period finding algorithm, it is important to use enough qubits. A sensible rule is that you need to use m qubits so that $2^m$ >> $N^2$, where N is the number we are trying to factor, because the order of a random number might be as large as N\n",
        "\n",
        "* Example: Lets factor N=119. Suppose we pick the number 16 to start with. Wie viele Qubits m sollten wir mindestens nehmen? $N^2$ = $119^2$ =14.161 und $2^m$ muss deutlich grosser sein, also mindestens = $2^{14}$ = 16.384. Wir brauchen also mindestens 14 Qubits, um 119 zu faktorisieren.\n",
        "\n",
        "![ggg](https://raw.githubusercontent.com/deltorobarba/repo/master/quantum_090.jpg)"
      ],
      "metadata": {
        "id": "l0iJM9rQWpyL"
      }
    },
    {
      "cell_type": "markdown",
      "source": [
        "* Because we know that the order of x will be even and $x^{s/2}$ will be a nontrivial square root with probability at least 1/2, we can be confident that we will be able to factor N in just a few runs of the algorithm. Because the time it takes to find the period grows as a polynomial in the number of bits, and the number of bits grows like 2logN(by the above requirement), we expect the time it takes to factor N to grow as a polynomial in logN.\n",
        "\n",
        "* Here is the circuit for Shor’s Algorithm. It relies heavily on period finding, and so the circuit looks a lot like the circuit for period finding. The key difference is that we are finding the period of f(i) = xi, and the number of bits we need to input is very large.\n",
        "\n",
        "![ggg](https://raw.githubusercontent.com/deltorobarba/repo/master/quantum_091.jpg)"
      ],
      "metadata": {
        "id": "9KJNcGZxWuYh"
      }
    },
    {
      "cell_type": "markdown",
      "source": [
        "**How does it work in the quantum circuit?**\n",
        "\n",
        "That's the function in $U$: given an $x$, the $U$ will compute:\n",
        "\n",
        "> $f_{a, N}(x) \\equiv a^{x}(\\bmod N)$\n",
        "\n",
        "![ggg](https://raw.githubusercontent.com/deltorobarba/repo/master/quantum_092.png)\n",
        "\n",
        "![ggg](https://raw.githubusercontent.com/deltorobarba/repo/master/quantum_093.png)"
      ],
      "metadata": {
        "id": "O8tWAdMyWyTC"
      }
    },
    {
      "cell_type": "markdown",
      "source": [
        "**<font color=\"blue\">Shor's Algorithm: Step by Step**\n",
        "\n",
        "**Beispiel: a=13 und N=15, was macht Shor's Algorithm genau im Circuit an der Stelle $U_{f_{(a,N)}}$ und $QFT^{\\dagger}$?**\n",
        "\n",
        "ps: a muss ein Coprime von N sein. Wenn es kein Coprime ist, muessen wir nicht durch Shor's Algorithm gehen, weil a dann einen Faktor mit N teilt :) Aber es ist very unlikely to find a coprime of a large number N.\n",
        "\n",
        "**First let's divide it into steps. 1-5:**\n",
        "\n",
        "![ggg](https://raw.githubusercontent.com/deltorobarba/repo/master/quantum_095.png)"
      ],
      "metadata": {
        "id": "IW65vjwJW0as"
      }
    },
    {
      "cell_type": "markdown",
      "source": [
        "**Step 1**: Get Qubits in state 0 and apply Hadamard Superposition\n",
        "\n",
        "We start with 4 Qubits all in zeros, mit den Registers x und w, und jedes 4 Mal Tensorproduct multipliziert, weil wir 4 Qubits haben:\n",
        "\n",
        "> $|0\\rangle_{x}^{\\otimes 4}$ $|0\\rangle_{w}^{\\otimes 4}$\n",
        "\n",
        "All Hamadard Gates are applied to top 4 Qubits (x register), and right part (w register) gets nothing applied to it:\n",
        "\n",
        "> $[H^{\\otimes 4}|0\\rangle] \\,\\, |0\\rangle^{\\otimes^{4}}$\n",
        "\n",
        "> = $\\frac{1}{4}[|0\\rangle+|1\\rangle+|2\\rangle+\\cdots+|15\\rangle]$ $|0\\rangle$\n",
        "\n",
        "* Reminder 1: Multiplikation mit $\\frac{1}{4}$, weil 4 Qubits in Hadamard-Superposition\n",
        "\n",
        "* Reminder 2: this is the 4 bit representation of the decimal number, so for example 15 in binary = 1111. Daher kann man auch die 4 angeben als Erinnerung der Bit representation:\n",
        "\n",
        "> = $\\frac{1}{4}[|0\\rangle_4+|1\\rangle_4+|2\\rangle_4+\\cdots+|15\\rangle_4]$ $|0\\rangle_4$\n"
      ],
      "metadata": {
        "id": "GFOTjuMiW2wX"
      }
    },
    {
      "cell_type": "markdown",
      "source": [
        "**Step 2**: Compute $U$ with $f_{a, N}(x) \\equiv a^{x}(\\bmod N)$ - Was passiert genau in der Box mit $U_{f_{(a,N)}}$?\n",
        "\n",
        "**Given an $x$, the $U$ will compute: <font color=\"red\">$f_{a, N}(x) \\equiv a^{x}(\\bmod N)$</font>**\n",
        "\n",
        "Schauen wir nochmal im vorherigen Schritt und markieren eine Komponente:\n",
        "\n",
        "> = $\\frac{1}{4}[$ <font color=\"red\">$|0\\rangle_4$</font> $+|1\\rangle_4+|2\\rangle_4+\\cdots+|15\\rangle_4]$ $\\,$ $|0\\rangle_4$\n",
        "\n",
        "<font color=\"red\">$U_{f_{(a,N)}}$</font> macht dann folgendes:\n",
        "\n",
        "> = $\\frac{1}{4}$ <font color=\"red\">[$|0\\rangle_{4}\\, \\left|  0 \\bigoplus 13^{0}(\\bmod 15)\\right\\rangle_{4}$</font> + $|1\\rangle_{4}\\left|0 \\bigoplus 13^{1}(\\bmod 15)\\right\\rangle_{4}$ + $|2\\rangle_{4}\\left|0 \\bigoplus 13^{2}(\\bmod 15)\\right\\rangle_{4}$ + $|3\\rangle_{4}\\left|0 \\bigoplus 13^{3}(\\bmod 15)\\right\\rangle_{4}$ etc..]\n",
        "\n",
        "Remember: $\\bigoplus$ means \"addition modular 2\" bzw. \"XOR\". Anything XORs with 0, is thing itself: 0 $\\bigoplus$ Z = Z. damit ergibt sich folgende Rechnung:\n",
        "\n",
        "> = $\\frac{1}{4}$ <font color=\"red\">[$|0\\rangle_{4}\\, \\left|   13^{0}(\\bmod 15)\\right\\rangle_{4}$</font> + $|1\\rangle_{4}\\left| 13^{1}(\\bmod 15)\\right\\rangle_{4}$ + $|2\\rangle_{4}\\left| 13^{2}(\\bmod 15)\\right\\rangle_{4}$ + $|3\\rangle_{4}\\left| 13^{3}(\\bmod 15)\\right\\rangle_{4}$ etc..]\n",
        "\n",
        "\n",
        "Aus der Modulo-Rechnung ergeben sich die Restwerte:\n",
        "\n",
        "* <font color=\"red\">$13^{0}(\\bmod 15)$ = 1</font>\n",
        "\n",
        "* $13^{1}(\\bmod 15)$ = 13\n",
        "\n",
        "* $13^{2}(\\bmod 15)$ = 4\n",
        "\n",
        "* $13^{3}(\\bmod 15)$ = 7\n",
        "\n",
        "* $13^{4}(\\bmod 15)$ = 1\n",
        "\n",
        "* usw..\n",
        "\n",
        "Since it's periodic, it will repeat, with the x and w register:\n",
        "\n",
        "> = $\\frac{1}{4}$ <font color=\"red\">[$|0\\rangle_{4}\\,\\left|1\\right\\rangle_{4}$</font> + $|1\\rangle_{4}\\left|13\\right\\rangle_{4}$ + $|2\\rangle_{4}\\left|4\\right\\rangle_{4}$ + $|3\\rangle_{4}\\left|7\\right\\rangle_{4}$ etc..]\n",
        "\n",
        "Hier nochmal untereinander mit denselben Restwerten zur besseren Visualisierung:\n",
        "\n",
        "![ggg](https://raw.githubusercontent.com/deltorobarba/repo/master/quantum_094.png)"
      ],
      "metadata": {
        "id": "8gnMIFUcW4m2"
      }
    },
    {
      "cell_type": "markdown",
      "source": [
        "**Step 3: Measurement of the w register / bottom 4 Qubits**\n",
        "\n",
        "* the outputs of the w-register measurements are either 1, 13, 4 or 7 (die Restwerte) with equal probability\n",
        "\n",
        "* let's say we measure 7, what happens to x? X becomes either 3, 7, 11 or 15 (the value in front of the qubit with 7!) with equal probability:\n",
        "\n",
        "  * after $|\\omega\\rangle$ = $|7\\rangle_4$ , $|x\\rangle$ becomes:\n",
        "\n",
        "  * <font color=\"blue\">$|x\\rangle$ $|\\omega\\rangle$ = $\\frac{1}{2}\\left[|3\\rangle_{4}+|7\\rangle_{4}+|11\\rangle_{4}+ |15 \\rangle_{4}\\right]$ $\\otimes |7\\rangle_4$\n",
        "\n",
        "  * Normalization has changed: before we had 16 combinations mit 1/4, here we have only 4 combinations with 1/2 (=one over square root of 4)\n",
        "\n",
        "* **For the next step 4, the Restwert doesn't matter anymore, here: $\\otimes |7\\rangle_4$. We can ignore it. Because it step 4 we apply the measured $|x\\rangle$ in the $QFT^{\\dagger}$, and don't care about $|\\omega\\rangle$ anymore**. And $|x\\rangle$ is in this case: $\\frac{1}{2}\\left[|3\\rangle_{4}+|7\\rangle_{4}+|11\\rangle_{4}+ |15 \\rangle_{4}\\right]$\n",
        "\n",
        "![ggg](https://raw.githubusercontent.com/deltorobarba/repo/master/quantum_095.png)"
      ],
      "metadata": {
        "id": "6BKgLEfZW6nC"
      }
    },
    {
      "cell_type": "markdown",
      "source": [
        "*Exkurs: Eine komplexe Zahl $z=a+b i$ und die zu ihr konjugiert komplexe Zahl $\\bar{z}=a-b i$*:\n",
        "\n",
        "![gg](https://upload.wikimedia.org/wikipedia/commons/thumb/f/f3/Komplexe_konjugation.svg/294px-Komplexe_konjugation.svg.png)\n",
        "\n",
        "Ändert man das Vorzeichen des Imaginärteils $b$ einer komplexen Zahl\n",
        "\n",
        "> $z=a+b \\mathrm{i}$\n",
        "\n",
        "so erhält man die zu $z$ konjugiert komplexe Zahl\n",
        "\n",
        "> $\\bar{z}=a-b \\mathrm{i}$\n",
        "\n",
        "(manchmal auch $z^{*}$ geschrieben).\n",
        "\n",
        "Die Konjugation $\\mathbb{C} \\rightarrow \\mathbb{C}, z \\mapsto \\bar{z}$ ist ein (involutorischer) Körperautomorphismus, da sie mit Addition und Multiplikation verträglich ist, d. h., für alle $y, z \\in \\mathbb{C}$ gilt\n",
        "\n",
        ">$\n",
        "\\overline{y+z}=\\bar{y}+\\bar{z}, \\quad \\overline{y \\cdot z}=\\bar{y} \\cdot \\bar{z}\n",
        "$\n",
        "\n",
        "In der Polardarstellung hat die konjugiert komplexe Zahl $\\bar{z}$ bei unverändertem Betrag gerade den negativen Winkel von $z$.\n",
        "\n",
        "* **Man kann die Konjugation in der komplexen Zahlenebene also als die Spiegelung an der reellen Achse interpretieren**.\n",
        "\n",
        "* <font color=\"blue\">**Insbesondere werden unter der Konjugation genau die reellen Zahlen auf sich selbst abgebildet**.\n",
        "\n",
        "Das Produkt aus einer komplexen Zahl $z=a+b$ i und ihrer komplex Konjugierten $\\bar{z}$ ergibt das Quadrat ihres Betrages:\n",
        "\n",
        "> $\n",
        "z \\cdot \\bar{z}=(a+b i)(a-b i)=a^{2}+b^{2}=|z|^{2}\n",
        "$\n",
        "\n",
        "Die komplexen Zahlen bilden damit ein triviales Beispiel einer [C*-Algebra](https://de.m.wikipedia.org/wiki/C*-Algebra)."
      ],
      "metadata": {
        "id": "8uOBELjlW8lT"
      }
    },
    {
      "cell_type": "markdown",
      "source": [
        "**Step 4**: Apply inverse $QFT^{\\dagger}$ on the $|x\\rangle$ register\n",
        "\n",
        "* $QFT\\,\\,|x\\rangle=|\\tilde{x}\\rangle=$ $\\frac{1}{\\sqrt{N}} \\sum_{y=0}^{N-1} e^{\\frac{2 \\pi i}{N} x y} |y\\rangle$ (Reminder!)\n",
        "\n",
        "* $QFT^{\\dagger}|\\tilde{x}\\rangle=|x\\rangle=$ $\\frac{1}{\\sqrt{N}} \\sum_{y=0}^{N-1} e^{\\frac{-2 \\pi i}{N} x y} |y\\rangle$ (see -2 turning i in -i which is a **complex conjugate operation**)\n",
        "\n",
        "* We want to know what QFT dagger is doing to (it is $\\frac{1}{\\sqrt{16}}$ because we have 4 Qubits)\n",
        "\n",
        "  * $QFT^{\\dagger}|3\\rangle_4$ = $\\frac{1}{\\sqrt{16}} \\sum_{y=0}^{N-1} e^{\\frac{-2 \\pi i 3 y}{16}}|y\\rangle$\n",
        "\n",
        "  * $QFT^{\\dagger}|7\\rangle_4$ = $\\frac{1}{\\sqrt{16}} \\sum_{y=0}^{N-1} e^{\\frac{-2 \\pi i 7 y}{16}}|y\\rangle$\n",
        "\n",
        "  * $QFT^{\\dagger}|11\\rangle_4$ = $\\frac{1}{\\sqrt{16}} \\sum_{y=0}^{N-1} e^{\\frac{-2 \\pi i 11 y}{16}}|y\\rangle$\n",
        "\n",
        "  * $QFT^{\\dagger}|15\\rangle_4$ = $\\frac{1}{\\sqrt{16}} \\sum_{y=0}^{N-1} e^{\\frac{-2 \\pi i 15 y}{16}}|y\\rangle$\n",
        "\n",
        "Alltogether:\n",
        "\n",
        "  * $QFT^{\\dagger}|x\\rangle$ = $\\frac{1}{{8}} \\sum_{y=0}^{15}$ [ $e^{-i\\frac{ 3 \\pi}{8}y}$ + $e^{-i\\frac{ 7 \\pi}{8}y}$ + $e^{-i\\frac{ 11 \\pi}{8}y}$ + $e^{-i\\frac{ 15 \\pi}{8}y}$] $|y\\rangle$\n",
        "\n",
        "    * with: $e^{-i\\frac{ 3 \\pi}{8}y}$ = $\\cos \\left(\\frac{3 \\pi}{8} y\\right)-i \\sin \\left(\\frac{3 \\pi}{8} y\\right)$ (und aquivalent fur alle anderen drei)\n",
        "\n",
        "    * siehe coding rechnung unten was genau passiert hier!\n",
        "\n",
        "  * <font color=\"blue\">$QFT^{\\dagger}|x\\rangle$ = $\\frac{1}{{8}}$ [ $4|0\\rangle_4$ + $4i|4\\rangle_4$ $-4|8\\rangle_4$ $-4i|12\\rangle_4$ ]</font>\n",
        "\n",
        "  * Remember we had a sum before: $\\frac{1}{{8}} \\sum_{y=0}^{15}$. And notice how all the other terms now vanished to zero, because you had equal contributions of plus and minus.\n",
        "\n",
        "    * **This is exactly what it means when people tell you that quantum computers take advantage of interference!! = when a lot of the terms vanish, and the answer only converges to the terms that we care about.**\n",
        "\n",
        "    * here is the calculation what happened, you see many zeros:\n",
        "\n",
        "<font color=\"red\">Hier Beispielrechnung fur y=1, um vanishing components zu verstehen</font>. Unten im Code die Ergebnisse, zum Beispiel fur y=1 als Ergebnis = 0, $QFT^{\\dagger}|x\\rangle$ fur y = 1:\n",
        "\n",
        "  * $e^{-i\\frac{ 3 \\pi}{8}y}$ + $e^{-i\\frac{ 7 \\pi}{8}y}$ + $e^{-i\\frac{ 11 \\pi}{8}y}$ + $e^{-i\\frac{ 15 \\pi}{8}y}$ =\n",
        "\n",
        "  * $e^{-i\\frac{ 3 \\pi}{8}1}$ + $e^{-i\\frac{ 7 \\pi}{8}1}$ + $e^{-i\\frac{ 11 \\pi}{8}1}$ + $e^{-i\\frac{ 15 \\pi}{8}1}$ =\n",
        "\n",
        "    * $e^{-i\\frac{ 3 \\pi}{8}1}$ = <font color=\"green\">0,382683432 - 0,923879533 i</font>\n",
        "\n",
        "    * $e^{-i\\frac{ 7 \\pi}{8}1}$ = <font color=\"orange\">-0,923879533 - 0,382683432 i</font>\n",
        "\n",
        "    * $e^{-i\\frac{ 11 \\pi}{8}1}$ = <font color=\"green\">-0,382683432 + 0,923879533 i</font>\n",
        "\n",
        "    * $e^{-i\\frac{ 15 \\pi}{8}1}$ = <font color=\"orange\">0,923879533 + 0,382683432 i</font>\n",
        "\n",
        "  * Wie man sieht canceln sich die Terme aus (in gleicher Farbe), weshalb als Ergebnis fur y=1 Null entsteht."
      ],
      "metadata": {
        "id": "KdJvRLHoW-Xa"
      }
    },
    {
      "cell_type": "code",
      "source": [
        "# Hier Beispiel fur y=1 und den ersten e-Term:\n",
        "y = 1\n",
        "pi = np.pi\n",
        "coeff = np.exp(-1j*3*pi/8 * y)\n",
        "if abs(coeff) < 1e-10: coeff= 0\n",
        "print(y, coeff)"
      ],
      "metadata": {
        "id": "mIudMpskXD3j"
      },
      "execution_count": null,
      "outputs": []
    },
    {
      "cell_type": "code",
      "source": [
        "# Hier die komplette Rechnung fur alle y und alle 4 e-Terme:\n",
        "import numpy as np\n",
        "\n",
        "pi = np.pi\n",
        "for y in range (15) :\n",
        "  coeff = np.exp(-1j*3*pi/8 * y) + \\\n",
        "          np.exp(-1j*7*pi/8 * y) + \\\n",
        "          np.exp(-1j*11*pi/8* y) + \\\n",
        "          np.exp(-1j*15*pi/8* y)\n",
        "  if abs(coeff) < 1e-10: coeff= 0\n",
        "  print(y, coeff)"
      ],
      "metadata": {
        "id": "CIFcyKgxXFhB"
      },
      "execution_count": null,
      "outputs": []
    },
    {
      "cell_type": "markdown",
      "source": [
        "**Step 5: Measure the |x> register**\n",
        "\n",
        "* You get either 0 or 4 or 8 or 12 with equal probability\n",
        "\n",
        "* Remaining steps are classical post-processing\n",
        "\n",
        "* You can already see the periodicity in the result: the difference is always 4\n",
        "\n",
        "* Analyse what happens for each outcome: **The measurement results peak near $j\\frac{N}{r}$ for same integer j $\\in Z$. And r is the period that we are looking for. N = $2^n$ Qubits!**\n",
        "\n",
        "  * if we measure |4>$_4$: $j\\frac{16}{r}$ = 4, true if j=1 and r=4\n",
        "\n",
        "  * there are multiple values that would work, but this is the lowest one\n",
        "\n",
        "* now check our protocoll for r=4:\n",
        "\n",
        "  * Is r even? yes!\n",
        "\n",
        "  * $x \\equiv a^{r / 2}(\\bmod N)$ = $13^{4 / 2}(\\bmod 15)$ = 4\n",
        "\n",
        "  * x+1 = 5 and x-1 = 3\n",
        "\n",
        "* This looks good, now check:\n",
        "\n",
        "  * $\\operatorname{gcd}(x+1, N)=\\operatorname{gcd}(5,15)=5$\n",
        "\n",
        "  * $\\operatorname{gcd}(x-1, N)=\\operatorname{gcd}(3,15)=3$\n",
        "\n",
        "What do you do if r = 8 ?\n",
        "\n",
        "* |8>$_4$: $j\\frac{16}{r}$ = 8, true if j=1 and r=2 AND j=2 and r=4\n",
        "\n",
        "* if r=4 we are back in the case before\n",
        "\n",
        "* if r=2 then $x \\equiv a^{r / 2}(\\bmod N)$ = $13^{2 / 2}(\\bmod 15)$ = 2, which brings x+1 = 3 and x-1 = 1\n",
        "\n",
        "  * $\\operatorname{gcd}(x+1, N)=\\operatorname{gcd}(3,15)=3$\n",
        "\n",
        "  * $\\operatorname{gcd}(x-1, N)=\\operatorname{gcd}(1,15)=1$\n",
        "\n",
        "* This leads you to a partial solution. Now you can back out the other solution, with checking 3 divides into 15\n",
        "\n",
        "* If we get r=0, then we need to do the experiment again\n",
        "\n",
        "Hier die Faktorisierungsergebnisse fur verschiedene QC-Ausgaben r. Mit r=0 geht es nicht, also kann man in 3 von 4 Faellen faktorisieren (und mit r=8 bekommt man eine partial solution, kann aber immer noch faktorisieren).\n",
        "\n",
        "![ggg](https://raw.githubusercontent.com/deltorobarba/repo/master/quantum_097.png)\n",
        "\n",
        "Aus dem 2001 Paper von IBM, Faktorisierung von 15 auf einem Quantum Computer:\n",
        "\n",
        "![ggg](https://raw.githubusercontent.com/deltorobarba/repo/master/quantum_096.png)"
      ],
      "metadata": {
        "id": "6znirJzyXHyr"
      }
    },
    {
      "cell_type": "markdown",
      "source": [
        "**Appendix: What is the Gate structure in $U$?**\n",
        "\n",
        "* $a^{x_1}$, $a^{x_2}$, $a^{x_n}$ tells you this is a controlled operation\n",
        "\n",
        "![ggg](https://raw.githubusercontent.com/deltorobarba/repo/master/quantum_098.png)\n",
        "\n",
        "* look now how the exponent doesn't contain $x_1$, $x_2$, .. $x_n$ anymore\n",
        "\n",
        "* this is done by implementing it by doing these controls\n",
        "\n",
        "* this is exactly like quantum phase estimation\n",
        "\n",
        "![ggg](https://raw.githubusercontent.com/deltorobarba/repo/master/quantum_099.png)\n",
        "\n",
        "**Der linke Term stammt aus QPE, der rechte Term ist der Teil $U$ aus Shor's Algorithms:**\n",
        "\n",
        "> <font color=\"blue\">$U^{2^{x}}=a^{2^{x}}(\\bmod N)$</font>\n",
        "\n",
        "continue: https://youtu.be/IFmkzWF-S2k?t=1181"
      ],
      "metadata": {
        "id": "Pwl-vmZmXM53"
      }
    },
    {
      "cell_type": "markdown",
      "source": [
        "Die Berechnungsmethode folgt aus dem kleinen Fermatschen Satz und sucht nach Perioden bei der Modularen Exponentiation (MER). Aber auf entsprechend dicken Eisen kann man das noch klassisch mit Quantensimulation überbieten, jedenfalls in Jülich. Dazu braucht man nur 2048 Nvidia-GPUs mit A100-Tensor-Kernen und einen Simulator für 40 Qubits und schon weiß man nach 49,5 GPU-Jahren, dass 549755813701 = 712321 × 771781 ist.\n",
        "\n",
        "https://www.heise.de/hintergrund/ISC-Nachlese-Hohn-fuer-Intels-Aurora-Lob-fuer-Nvidias-Grace-Hopper-9723133.html?seite=2"
      ],
      "metadata": {
        "id": "m3Jc565zXQzJ"
      }
    },
    {
      "cell_type": "markdown",
      "source": [
        "###### ***Encoding (Embedding)***"
      ],
      "metadata": {
        "id": "D_tjP2YmUlaa"
      }
    },
    {
      "cell_type": "markdown",
      "source": [
        "<font color=\"Blue\">**Simulate quantum information on a classical computer**\n",
        "\n",
        "* The state of quantum system is described by vector in complex vector space. For $n$-qubit system, state vector $\\psi$ is superposition of all possible $2^n$ basis states. Each basis state $|i\\rangle$ (where $i$ ranges from 0 to $2^n - 1$) has associated **complex amplitude** $\\alpha_i$, which is complex number. State vector can be written as: $|\\psi\\rangle = \\sum_{i=0}^{2^n-1} \\alpha_i |i\\rangle$, where $\\alpha_i$ are complex amplitudes, and the sum of the squares of their magnitudes equals 1: $\\sum_{i=0}^{2^n-1} |\\alpha_i|^2 = 1$\n",
        "* **Memory requirement = 16 bytes per Amplitude** for storing 1 complex number in **double-precision** (8 bytes for real part + 8 bytes for imaginary part = complex number $\\alpha$). This is a good level of precision for most quantum simulations and calculations.\n",
        "* **Total Memory Requirement** for Quantum States $n$-qubit quantum state with $2^n$ complex amplitudes = $2^n \\times 16 \\text{ bytes}$. $n$ is the number of qubits and hence required amplitudes\n",
        "* **Complexity of simulating quantum circuits** grows exponentially with the number of qubits. Simulating $n$ qubits requires storing $2^n$ complex amplitudes and $16 \\times 2^n$ bytes memory for storing state vector of $n$ qubits in double precision. If we assume we need 16 bits to store a coefficient:\n",
        "  - **10 qubits:** Requires storing $2^{10} \\approx 1$ thousand complex amplitudes $\\approx$ 16 KB memory (10 x 2$^{16}$ bytes)\n",
        "  - **20 qubits:** Requires storing $2^{20} \\approx 1$ million complex amplitudes $\\approx$ 16 MB memory (16 x 2$^{20}$ bytes)\n",
        "  - **30 qubits:** Requires storing $2^{30} \\approx 1$ billion complex amplitudes $\\approx$ 16 GB memory (16 x 2$^{30}$ bytes)\n",
        "  - **40 qubits:** Requires storing $2^{40} \\approx 1$ trillion complex amplitudes $\\approx$ 16 TB memory (16 x 2$^{40}$ bytes)\n",
        "  - **50 qubits:** Requires storing $2^{50} \\approx 1$ quadrillion complex amplitudes $\\approx$ 16 PB memory (16 x 2$^{50}$ bytes)"
      ],
      "metadata": {
        "id": "-y3wezc8STmC"
      }
    },
    {
      "cell_type": "markdown",
      "source": [
        "<font color=\"Blue\">**Number of MNIST images we can process with 50GB of RAM**\n",
        "\n",
        "* Original MNIST image (Classical):\n",
        "  * Size: 28 x 28 = 784 pixels\n",
        "  * Each pixel: 8 bits (256 grayscale levels)\n",
        "  * Total classical storage: 784 x 8 = 6,272 bits\n",
        "* Encoding into qubits\n",
        "  * Pixel position encoding (784 positions): log₂(784) ≈ 10 qubits\n",
        "  * Value (grayscale) encoding: 256 levels = 8 bits = 8 qubits for full grayscale\n",
        "  * 18 qubits needed: 2^18 = 262,144 amplitudes × 16 bytes = 4,194,304 bytes ≈ 4 MB memory for one image\n",
        "* For 50GB RAM: Total memory = $2^n$ x 16 bytes. With 50 GB available RAM, we have: 50 GB = 50 × 1024³ bytes = 53,687,091,200 bytes. Solving for n:\n",
        "  * 53,687,091,200 = 2^n × 16\n",
        "  * 3,355,443,200 = 2^n\n",
        "  * log₂(3,355,443,200) = n\n",
        "  * n ≈ 31.64 qubits possible for 50GB RAM\n",
        "* Total number of MNIST images with 50 GB RAM (53,687,091,200 bytes):\n",
        "  * For 256 grayscale levels (8 value qubits + 10 position qubits = 18 qubits per image):\n",
        "    * Memory per image: 2^18 × 16 bytes = 4,194,304 bytes\n",
        "    * Number of images: 53,687,091,200 ÷ 4,194,304 ≈ 12,800 images\n",
        "  * For 4 grayscale levels (2 value qubits + 10 position qubits = 12 qubits per image):\n",
        "    * Memory per image: 2^12 × 16 bytes = 65,536 bytes\n",
        "    * Number of images: 53,687,091,200 ÷ 65,536 ≈ 819,200 images\n",
        "  * We could fit all MNIST data into 50GB RAM for processing. Using downsampling to 4 grayscale levels instead of 256 allows processing about 64x more images simultaneously."
      ],
      "metadata": {
        "id": "Fuu6bUqDSVa7"
      }
    },
    {
      "cell_type": "markdown",
      "source": [
        "https://pennylane.ai/qml/demos/tutorial_data_reuploading_classifier"
      ],
      "metadata": {
        "id": "wAKaRy_3UiGU"
      }
    },
    {
      "cell_type": "markdown",
      "source": [
        "https://pennylane.ai/qml/glossary/quantum_embedding"
      ],
      "metadata": {
        "id": "J26RsYvMUv1v"
      }
    },
    {
      "cell_type": "code",
      "source": [
        "!pip install pennylane cirq qutip -q"
      ],
      "metadata": {
        "id": "2zcV3zbHUyus"
      },
      "execution_count": null,
      "outputs": []
    },
    {
      "cell_type": "code",
      "source": [
        "# Dense Angle Encoding\n",
        "def dense_angle_encode(data_vector):\n",
        "    n_qubits = len(data_vector) // 2  # Each qubit encodes 2 values\n",
        "    qubits = [cirq.GridQubit(0, i) for i in range(n_qubits)]\n",
        "    circuit = cirq.Circuit()\n",
        "\n",
        "    # Encode pairs of values using Ry and Rz rotations\n",
        "    for i, qubit in enumerate(qubits):\n",
        "        # Ry rotation for first value\n",
        "        circuit.append(cirq.ry(data_vector[2*i])(qubit))\n",
        "        # Rz rotation for second value\n",
        "        circuit.append(cirq.rz(data_vector[2*i + 1])(qubit))\n",
        "\n",
        "    # Add measurements\n",
        "    circuit.append(cirq.measure(*qubits, key='result'))\n",
        "    return circuit"
      ],
      "metadata": {
        "id": "iLco2A5TU8Nb"
      },
      "execution_count": null,
      "outputs": []
    },
    {
      "cell_type": "markdown",
      "source": [
        "**Basis State Encoding**\n",
        "\n",
        "$| \\psi \\rangle = \\alpha |x_1\\rangle \\otimes \\beta |x_2\\rangle \\otimes \\ldots \\gamma |x_n\\rangle$"
      ],
      "metadata": {
        "id": "-E2ahNrgU9-q"
      }
    },
    {
      "cell_type": "code",
      "source": [
        "# PennyLane Example\n",
        "import pennylane as qml\n",
        "import numpy as np\n",
        "\n",
        "# Create a device with 4 qubits\n",
        "dev = qml.device('default.qubit', wires=4)\n",
        "\n",
        "@qml.qnode(dev)\n",
        "def basis_state_encoding(binary_input):\n",
        "    \"\"\"\n",
        "    Encode a classical 4-bit binary number into quantum basis states\n",
        "    Args:\n",
        "        binary_input (list): List of 4 binary digits (0 or 1)\n",
        "    Returns:\n",
        "        array: Quantum state measurements\n",
        "    \"\"\"\n",
        "    # Initialize qubits in |0⟩ state by default\n",
        "\n",
        "    # Apply X gates where binary_input is 1 to flip from |0⟩ to |1⟩\n",
        "    for wire, bit in enumerate(binary_input):\n",
        "        if bit == 1:\n",
        "            qml.PauliX(wires=wire)\n",
        "\n",
        "    # Return measurements in computational basis\n",
        "    return qml.probs(wires=range(4))\n",
        "\n",
        "# Example usage for PennyLane\n",
        "classical_number = [1, 0, 1, 0]  # Encoding binary 1010 (decimal 10)\n",
        "result = basis_state_encoding(classical_number)\n",
        "print(f\"PennyLane encoded state probabilities for {classical_number}: {result}\\n\")"
      ],
      "metadata": {
        "id": "wnqM7Y4hU_qM"
      },
      "execution_count": null,
      "outputs": []
    },
    {
      "cell_type": "code",
      "source": [
        "# Cirq Example\n",
        "import cirq\n",
        "\n",
        "def create_basis_state_circuit(binary_input):\n",
        "    \"\"\"\n",
        "    Create a Cirq circuit that encodes a classical 4-bit binary number\n",
        "    Args:\n",
        "        binary_input (list): List of 4 binary digits (0 or 1)\n",
        "    Returns:\n",
        "        Circuit: Cirq circuit with encoded basis states\n",
        "    \"\"\"\n",
        "    # Create qubits\n",
        "    qubits = [cirq.GridQubit(0, i) for i in range(4)]\n",
        "    circuit = cirq.Circuit()\n",
        "\n",
        "    # Apply X gates where binary_input is 1\n",
        "    for qubit, bit in zip(qubits, binary_input):\n",
        "        if bit == 1:\n",
        "            circuit.append(cirq.X(qubit))\n",
        "\n",
        "    # Add measurements\n",
        "    circuit.append(cirq.measure(*qubits, key='result'))\n",
        "    return circuit\n",
        "\n",
        "# Example usage for Cirq\n",
        "simulator = cirq.Simulator()\n",
        "circuit = create_basis_state_circuit([1, 0, 1, 0])\n",
        "result = simulator.run(circuit, repetitions=1)\n",
        "print(f\"Circuit:\\n{circuit}\")\n",
        "print(f\"\\nCirq measurement results:\\n{result}\")"
      ],
      "metadata": {
        "id": "t-6kTuPkVDHS"
      },
      "execution_count": null,
      "outputs": []
    },
    {
      "cell_type": "markdown",
      "source": [
        "**Single-Qubit Angle Encoding**\n",
        "\n",
        "$|\\psi(x)\\rangle = R(x) |0\\rangle $"
      ],
      "metadata": {
        "id": "6nXeJI4RVE1c"
      }
    },
    {
      "cell_type": "code",
      "source": [
        "import cirq\n",
        "import numpy as np\n",
        "\n",
        "def single_qubit_angle_encode(data_point, rotation='x'):\n",
        "    \"\"\"\n",
        "    Encode a single classical value into a qubit's rotation\n",
        "    Args:\n",
        "        data_point (float): Value to encode (should be normalized between 0 and 2π)\n",
        "        rotation (str): Rotation axis ('x', 'y', or 'z')\n",
        "    Returns:\n",
        "        Circuit: Cirq circuit with encoded angle\n",
        "    \"\"\"\n",
        "    # Create circuit with single qubit\n",
        "    qubit = cirq.GridQubit(0, 0)\n",
        "    circuit = cirq.Circuit()\n",
        "\n",
        "    # Choose rotation based on axis\n",
        "    if rotation == 'x':\n",
        "        circuit.append(cirq.rx(data_point)(qubit))\n",
        "    elif rotation == 'y':\n",
        "        circuit.append(cirq.ry(data_point)(qubit))\n",
        "    else:  # z rotation\n",
        "        circuit.append(cirq.rz(data_point)(qubit))\n",
        "\n",
        "    # Add measurement\n",
        "    circuit.append(cirq.measure(qubit, key='result'))\n",
        "    return circuit\n",
        "\n",
        "# Example usage\n",
        "data = np.pi/4  # Example value to encode\n",
        "circuit = single_qubit_angle_encode(data, rotation='y')\n",
        "print(f\"Circuit for encoding {data:.3f} radians:\")\n",
        "print(circuit)\n",
        "\n",
        "# Simulate results\n",
        "simulator = cirq.Simulator()\n",
        "result = simulator.run(circuit, repetitions=100)\n",
        "print(\"\\nMeasurement results:\")\n",
        "print(result.histogram(key='result'))"
      ],
      "metadata": {
        "id": "XPj7327EVHg2"
      },
      "execution_count": null,
      "outputs": []
    },
    {
      "cell_type": "code",
      "source": [
        "import cirq\n",
        "import numpy as np\n",
        "import qutip as qt\n",
        "from matplotlib import pyplot as plt\n",
        "\n",
        "def single_qubit_angle_encode(data_point, rotation='x'):\n",
        "    \"\"\"\n",
        "    Encode a single classical value into a qubit's rotation\n",
        "    Args:\n",
        "        data_point (float): Value to encode (should be normalized between 0 and 2π)\n",
        "        rotation (str): Rotation axis ('x', 'y', or 'z')\n",
        "    Returns:\n",
        "        Circuit: Cirq circuit with encoded angle\n",
        "        final_state: Final state vector after encoding\n",
        "    \"\"\"\n",
        "    # Create circuit with single qubit\n",
        "    qubit = cirq.GridQubit(0, 0)\n",
        "    circuit = cirq.Circuit()\n",
        "\n",
        "    # Choose rotation based on axis\n",
        "    if rotation == 'x':\n",
        "        circuit.append(cirq.rx(data_point)(qubit))\n",
        "    elif rotation == 'y':\n",
        "        circuit.append(cirq.ry(data_point)(qubit))\n",
        "    else:  # z rotation\n",
        "        circuit.append(cirq.rz(data_point)(qubit))\n",
        "\n",
        "    # Simulate to get state vector\n",
        "    simulator = cirq.Simulator()\n",
        "    result = simulator.simulate(circuit)\n",
        "    final_state = result.final_state_vector\n",
        "\n",
        "    return circuit, final_state\n",
        "\n",
        "def plot_bloch_sphere(state_vector, title=\"Bloch Sphere Representation\"):\n",
        "    \"\"\"\n",
        "    Visualize a single-qubit state on the Bloch sphere\n",
        "    Args:\n",
        "        state_vector: Complex numpy array representing quantum state\n",
        "        title: Title for the plot\n",
        "    \"\"\"\n",
        "    # Create a new figure\n",
        "    plt.figure(figsize=(8, 8))\n",
        "\n",
        "    # Create Bloch sphere\n",
        "    b = qt.Bloch()\n",
        "\n",
        "    # Convert state vector to Qutip state\n",
        "    psi = qt.Qobj(state_vector)\n",
        "\n",
        "    # Add state to Bloch sphere\n",
        "    b.add_states(psi)\n",
        "    b.add_states(psi, 'point')\n",
        "\n",
        "    # Customize appearance\n",
        "    b.sphere_alpha = 0.1\n",
        "    b.vector_color = ['r']\n",
        "    b.point_color = ['b']\n",
        "\n",
        "    # Add title\n",
        "    plt.title(title)\n",
        "\n",
        "    # Render Bloch sphere\n",
        "    b.render()\n",
        "    plt.close()\n",
        "\n",
        "    return b\n",
        "\n",
        "# Example usage\n",
        "angles = [np.pi/4, np.pi/2, 3*np.pi/4]\n",
        "\n",
        "# Plot for different angles with Y-rotation\n",
        "for angle in angles:\n",
        "    circuit, state = single_qubit_angle_encode(angle, rotation='y')\n",
        "    print(f\"\\nCircuit for {angle:.3f} radians Y-rotation:\")\n",
        "    print(circuit)\n",
        "    print(f\"Final state vector: {state}\")\n",
        "\n",
        "    # Visualize on Bloch sphere\n",
        "    b = plot_bloch_sphere(state, f\"Y-rotation by {angle:.3f} radians\")\n",
        "    plt.show()\n",
        "\n",
        "# Compare different rotation axes\n",
        "angle = np.pi/3\n",
        "rotations = ['x', 'y', 'z']\n",
        "\n",
        "plt.figure(figsize=(15, 5))\n",
        "for i, rotation in enumerate(rotations, 1):\n",
        "    plt.subplot(1, 3, i)\n",
        "    circuit, state = single_qubit_angle_encode(angle, rotation=rotation)\n",
        "    b = plot_bloch_sphere(state, f\"{rotation.upper()}-rotation by {angle:.3f} radians\")\n",
        "    plt.show()"
      ],
      "metadata": {
        "id": "3FdOqNN8VJgZ"
      },
      "execution_count": null,
      "outputs": []
    },
    {
      "cell_type": "markdown",
      "source": [
        "**Multi-Qubit Angle Encoding**\n",
        "\n",
        "$|\\psi(x_1, x_2, \\ldots , x_n)\\rangle = R_1(x_1) \\otimes R_2(x_2) \\otimes \\ldots \\otimes R_n(x_n) |0\\rangle \\otimes n$"
      ],
      "metadata": {
        "id": "3F7VbSORVP-F"
      }
    },
    {
      "cell_type": "code",
      "source": [
        "import cirq\n",
        "import numpy as np\n",
        "\n",
        "def multi_qubit_angle_encode(data_vector):\n",
        "    \"\"\"\n",
        "    Encode multiple classical values into multiple qubits using rotation gates\n",
        "    Args:\n",
        "        data_vector (list): List of values to encode (should be normalized between 0 and 2π)\n",
        "    Returns:\n",
        "        Circuit: Cirq circuit with encoded angles\n",
        "    \"\"\"\n",
        "    # Create qubits for each data point\n",
        "    qubits = [cirq.GridQubit(0, i) for i in range(len(data_vector))]\n",
        "    circuit = cirq.Circuit()\n",
        "\n",
        "    # Encode each value using Ry rotation\n",
        "    for qubit, value in zip(qubits, data_vector):\n",
        "        circuit.append(cirq.ry(value)(qubit))\n",
        "\n",
        "    # Add measurements\n",
        "    circuit.append(cirq.measure(*qubits, key='result'))\n",
        "    return circuit\n",
        "\n",
        "# Example usage\n",
        "data = [np.pi/4, np.pi/3, np.pi/2]  # Example values to encode\n",
        "circuit = multi_qubit_angle_encode(data)\n",
        "print(f\"Circuit for encoding {data}:\")\n",
        "print(circuit)\n",
        "\n",
        "# Simulate results\n",
        "simulator = cirq.Simulator()\n",
        "result = simulator.run(circuit, repetitions=100)\n",
        "print(\"\\nMeasurement results:\")\n",
        "print(result.histogram(key='result'))"
      ],
      "metadata": {
        "id": "fKUD-CPTVSdx"
      },
      "execution_count": null,
      "outputs": []
    },
    {
      "cell_type": "markdown",
      "source": [
        "**Dense Angle Encoding**\n",
        "\n",
        "$|\\psi(x_1, x_2, \\ldots , x_n)\\rangle = R_1(x_1) P_1(x_2) \\otimes R_2(x_3) P_2(x_4) \\otimes \\ldots \\otimes R_n(x_{2n-1}) P_n(x_{2n}) |0\\rangle \\otimes n$"
      ],
      "metadata": {
        "id": "aHTuTlgUVUh_"
      }
    },
    {
      "cell_type": "code",
      "source": [
        "import cirq\n",
        "import numpy as np\n",
        "\n",
        "def dense_angle_encode(data_vector):\n",
        "    \"\"\"\n",
        "    Dense angle encoding using both Ry and Rz rotations on each qubit\n",
        "    Args:\n",
        "        data_vector (list): List of values to encode (length should be 2*n_qubits)\n",
        "    Returns:\n",
        "        Circuit: Cirq circuit with densely encoded angles\n",
        "    \"\"\"\n",
        "    n_qubits = len(data_vector) // 2  # Each qubit encodes 2 values\n",
        "    qubits = [cirq.GridQubit(0, i) for i in range(n_qubits)]\n",
        "    circuit = cirq.Circuit()\n",
        "\n",
        "    # Encode pairs of values using Ry and Rz rotations\n",
        "    for i, qubit in enumerate(qubits):\n",
        "        # Ry rotation for first value\n",
        "        circuit.append(cirq.ry(data_vector[2*i])(qubit))\n",
        "        # Rz rotation for second value\n",
        "        circuit.append(cirq.rz(data_vector[2*i + 1])(qubit))\n",
        "\n",
        "    # Add measurements\n",
        "    circuit.append(cirq.measure(*qubits, key='result'))\n",
        "    return circuit\n",
        "\n",
        "# Example usage\n",
        "data = [np.pi/4, np.pi/3, np.pi/2, np.pi/6]  # 4 values to encode into 2 qubits\n",
        "circuit = dense_angle_encode(data)\n",
        "print(f\"Circuit for encoding {data}:\")\n",
        "print(circuit)\n",
        "\n",
        "# Simulate results\n",
        "simulator = cirq.Simulator()\n",
        "result = simulator.run(circuit, repetitions=100)\n",
        "print(\"\\nMeasurement results:\")\n",
        "print(result.histogram(key='result'))"
      ],
      "metadata": {
        "id": "kG-9G44gVXHZ"
      },
      "execution_count": null,
      "outputs": []
    },
    {
      "cell_type": "markdown",
      "source": [
        "**Amplitude Encoding**\n",
        "\n",
        "$|\\psi(x)\\rangle =  x_1 |0\\rangle + x_2 |1\\rangle + ... + x_N |N-1\\rangle = \\sum_{i=0}^{N-1} x_i |i\\rangle $"
      ],
      "metadata": {
        "id": "Bx7tNyfCVZVW"
      }
    },
    {
      "cell_type": "code",
      "source": [
        "import cirq\n",
        "import numpy as np\n",
        "from scipy.linalg import logm, expm\n",
        "\n",
        "def amplitude_encode(normalized_vector):\n",
        "    \"\"\"\n",
        "    Encode classical data into quantum amplitudes\n",
        "    Args:\n",
        "        normalized_vector (list): Normalized vector to encode (length must be power of 2)\n",
        "    Returns:\n",
        "        Circuit: Cirq circuit that prepares the state with given amplitudes\n",
        "    \"\"\"\n",
        "    # Check if length is power of 2\n",
        "    n_qubits = int(np.log2(len(normalized_vector)))\n",
        "    if 2**n_qubits != len(normalized_vector):\n",
        "        raise ValueError(\"Input vector length must be power of 2\")\n",
        "\n",
        "    # Create qubits\n",
        "    qubits = [cirq.GridQubit(0, i) for i in range(n_qubits)]\n",
        "    circuit = cirq.Circuit()\n",
        "\n",
        "    # Create state preparation unitary\n",
        "    # This is a simplified version that works for some cases\n",
        "    # A full implementation would use quantum state preparation algorithms\n",
        "    # like the Quantum Random Access Memory (QRAM) or Möttönen method\n",
        "\n",
        "    def create_state_preparation():\n",
        "        # Initialize in |0...0⟩ state\n",
        "        initial_state = np.zeros(2**n_qubits)\n",
        "        initial_state[0] = 1\n",
        "\n",
        "        # Calculate required unitary\n",
        "        target_state = np.array(normalized_vector)\n",
        "        initial_state = initial_state.reshape(-1, 1)\n",
        "        target_state = target_state.reshape(-1, 1)\n",
        "\n",
        "        # Using a simple rotation approach\n",
        "        cos_theta = np.abs(initial_state.T @ target_state)[0, 0]\n",
        "        theta = np.arccos(cos_theta)\n",
        "\n",
        "        if np.abs(theta) < 1e-10:\n",
        "            return []\n",
        "\n",
        "        axis = np.cross(initial_state.T, target_state.T)[0]\n",
        "        axis = axis / np.linalg.norm(axis)\n",
        "\n",
        "        generator = np.zeros((2**n_qubits, 2**n_qubits))\n",
        "        for i in range(2**n_qubits):\n",
        "            for j in range(2**n_qubits):\n",
        "                if i != j:\n",
        "                    generator[i, j] = theta * axis[j]\n",
        "                    generator[j, i] = -theta * axis[j]\n",
        "\n",
        "        unitary = expm(generator)\n",
        "        return unitary\n",
        "\n",
        "    # Try to decompose the unitary into gates (simplified approach)\n",
        "    try:\n",
        "        unitary = create_state_preparation()\n",
        "        circuit.append(cirq.MatrixGate(unitary).on(*qubits))\n",
        "    except:\n",
        "        print(\"Warning: Could not create exact encoding. Using approximate approach.\")\n",
        "        # Add some basic rotations as approximation\n",
        "        for i, amplitude in enumerate(normalized_vector):\n",
        "            if amplitude != 0:\n",
        "                angle = 2 * np.arccos(np.abs(amplitude))\n",
        "                circuit.append(cirq.ry(angle)(qubits[0]))\n",
        "\n",
        "    # Add measurements\n",
        "    circuit.append(cirq.measure(*qubits, key='result'))\n",
        "    return circuit\n",
        "\n",
        "# Example usage\n",
        "# Create normalized vector (must sum to 1)\n",
        "data = [0.5, 0.5, 0.5, 0.5]  # Example normalized vector for 2 qubits\n",
        "normalized_data = np.array(data) / np.linalg.norm(data)\n",
        "\n",
        "circuit = amplitude_encode(normalized_data)\n",
        "print(f\"Circuit for encoding {normalized_data}:\")\n",
        "print(circuit)\n",
        "\n",
        "# Simulate results\n",
        "simulator = cirq.Simulator()\n",
        "result = simulator.run(circuit, repetitions=100)\n",
        "print(\"\\nMeasurement results:\")\n",
        "print(result.histogram(key='result'))\n",
        "\n",
        "# Optional: Check state vector\n",
        "final_state = simulator.simulate(circuit).final_state_vector\n",
        "print(\"\\nFinal state vector:\")\n",
        "print(final_state)"
      ],
      "metadata": {
        "id": "OehZZ1WCVcCQ"
      },
      "execution_count": null,
      "outputs": []
    },
    {
      "cell_type": "markdown",
      "source": [
        "###### *Harrow-Hassidim-Lloyd Algorithm (HHL)*"
      ],
      "metadata": {
        "id": "_ywvnMs4ZFF1"
      }
    },
    {
      "cell_type": "markdown",
      "source": [
        "<font color=\"blue\">**Solving a system of linear equations with a quantum computer (HHL)**\n",
        "\n",
        "* **Given a matrix $A \\in \\mathbb{C}^{N \\times N}$ and a vector $\\vec{b} \\in \\mathbb{C}^{N}$, find $\\vec{x} \\in \\mathbb{C}^{N}$ satisfying $A \\vec{x}=\\vec{b}$**\n",
        "\n",
        "* The spectrum of $A$ is given by: $A\\left|v_{j}\\right\\rangle=\\lambda_{j}\\left|v_{j}\\right\\rangle, 1 \\geq\\left|\\lambda_{j}\\right| \\geq 1 / \\kappa$\n",
        "\n",
        "\n",
        "**Objective: We want to solve a system of linear equations by finding $\\vec{x}$**\n",
        "\n",
        "* Familiar methods of solutions: Substitution method, Graphical method, Matrix method, Cramer's rule, Gaussian elimination\n",
        "\n",
        "* The classical algorithm returns the full solution, while the HHL can only approximate functions of the solution vector.\n",
        "\n",
        "\n",
        "> $A \\vec{x} = \\vec{b}$\n",
        "\n",
        "Classically you would take the inverse of $A$ (via spectral decomposition / eigendecomposition):\n",
        "\n",
        "> $\\vec{x} = A^{-1} \\vec{b}$\n",
        "\n",
        "The first step towards solving a system of linear equations with a quantum computer is to encode the problem in the quantum language.\n",
        "\n",
        "* By rescaling the system, we can assume $\\vec{b}$ and $\\vec{x}$ to be normalised and map them to the respective quantum states $|b\\rangle$ and $|x\\rangle$.\n",
        "\n",
        "* Usually the mapping used is such that $i^{\\text {th }}$ component of $\\vec{b}$ (resp. $\\vec{x}$ ) corresponds to the amplitude of the $i^{\\text {th }}$ basis state of the quantum state $|b\\rangle$ (resp. $|x\\rangle$ ).\n",
        "\n",
        "From now on, we will focus on the rescaled problem\n",
        "\n",
        "><font color=\"blue\">$A|x\\rangle=|b\\rangle\n",
        "$</font> $\\quad$ (System of linear equations in a quantum state)\n",
        "\n",
        "And we want to find this:\n",
        "\n",
        "><font color=\"blue\">$|x\\rangle=A^{-1}|b\\rangle$</font> $\\quad$ (the solution is: $|x\\rangle = \\sum_{j=0}^{N-1} \\lambda_{j}^{-1} b_{j}\\left|u_{j}\\right\\rangle$)\n",
        "\n",
        "We need to find the inverse matrix $A^{-1}$. We can get the matrix inverse via eigendecomposition. Since $A$ is Hermitian (normal!), it has a spectral decomposition:\n",
        "\n",
        ">$\n",
        "A=\\sum_{j=0}^{N-1} \\lambda_{j}\\left|u_{j}\\right\\rangle\\left\\langle u_{j}\\right|, \\quad \\lambda_{j} \\in \\mathbb{R}\n",
        "$\n",
        "\n",
        "where $\\left|u_{j}\\right\\rangle$ is the $j^{t h}$ eigenvector of $A$ with respective eigenvalue $\\lambda_{j}$. Then,\n",
        "\n",
        ">$\n",
        "A^{-1}=\\sum_{j=0}^{N-1} \\lambda_{j}^{-1}\\left|u_{j}\\right\\rangle\\left\\langle u_{j}\\right|\n",
        "$\n",
        "\n",
        "and the right hand side of the system can be written in the eigenbasis of $A$ as\n",
        "\n",
        ">$\n",
        "|b\\rangle=\\sum_{j=0}^{N-1} b_{j}\\left|u_{j}\\right\\rangle, \\quad b_{j} \\in \\mathbb{C}\n",
        "$\n",
        "\n",
        "It is useful to keep in mind that the goal of the HHL is to exit the algorithm with the readout register in the state\n",
        "\n",
        ">$\n",
        "|x\\rangle=A^{-1}|b\\rangle=\\sum_{j=0}^{N-1} \\lambda_{j}^{-1} b_{j}\\left|u_{j}\\right\\rangle\n",
        "$\n",
        "\n",
        "Note that here we already have an implicit normalisation constant since we are talking about a quantum state."
      ],
      "metadata": {
        "id": "PuXnVS4ARKpO"
      }
    },
    {
      "cell_type": "markdown",
      "source": [
        "**HHL-Algorithm**\n",
        "\n",
        "*Main Subroutines in HHL: Hamiltonian simulation, Phase estimation (newer: linear combination of unitaries) and (Variable-time) amplitude amplification*\n",
        "\n",
        "1. Prepare the initial state $|b\\rangle$. Note that $|b\\rangle=\\sum_{j} c_{j}\\left|v_{j}\\right\\rangle$.\n",
        "\n",
        "2. Use the so-called phase estimation algorithm to perform the map\n",
        "$|b\\rangle \\rightarrow \\sum_{j} c_{j}\\left|v_{j}\\right\\rangle\\left|\\tilde{\\lambda}_{j}\\right\\rangle$\n",
        "\n",
        "* $|\\tilde{\\lambda}_{j}\\rangle$ -> This register contains the eigenvalue estimates.\n",
        "\n",
        "3. Apply a one-qubit conditional rotation to perform the map\n",
        "$|0\\rangle \\rightarrow \\frac{1}{\\kappa \\tilde{\\lambda}_{j}}|0\\rangle+\\sqrt{1-\\frac{1}{\\kappa^{2} \\tilde{\\lambda}_{j}^{2}}}|1\\rangle$\n",
        "\n",
        "4. Undo step 2 - apply the inverse of phase estimation\n",
        "$\\sum_{j} \\frac{c_{j}}{\\kappa \\tilde{\\lambda}_{j}}\\left|v_{j}\\right\\rangle|0\\rangle+|\\mathrm{bad}\\rangle|1\\rangle \\approx \\frac{1}{\\kappa A}|b\\rangle|0\\rangle+|\\mathrm{bad}\\rangle|1\\rangle$\n",
        "\n",
        "5. Use amplitude amplification to get rid of the „bad“ part of the state with |1>\n"
      ],
      "metadata": {
        "id": "v6aE9prFRM6x"
      }
    },
    {
      "cell_type": "code",
      "source": [
        "# pylint: disable=wrong-or-nonexistent-copyright-notice\n",
        "# https://github.com/quantumlib/Cirq/blob/main/examples/hhl.py\n",
        "\n",
        "\"\"\"Demonstrates the algorithm for solving linear systems by Harrow, Hassidim, Lloyd (HHL).\n",
        "\n",
        "The HHL algorithm solves a system of linear equations, specifically equations of the form Ax = b,\n",
        "where A is a Hermitian matrix, b is a known vector, and x is the unknown vector. To solve on a\n",
        "quantum system, b must be rescaled to have magnitude 1, and the equation becomes:\n",
        "\n",
        "|x> = A**-1 |b> / || A**-1 |b> ||\n",
        "\n",
        "The algorithm uses 3 sets of qubits: a single ancilla qubit, a register (to store eigenvalues of\n",
        "A), and memory qubits (to store |b> and |x>). The following are performed in order:\n",
        "1) Quantum phase estimation to extract eigenvalues of A\n",
        "2) Controlled rotations of ancilla qubit\n",
        "3) Uncomputation with inverse quantum phase estimation\n",
        "\n",
        "For details about the algorithm, please refer to papers in the REFERENCE section below. The\n",
        "following description uses variables defined in the HHL paper.\n",
        "\n",
        "This example is an implementation of the HHL algorithm for arbitrary 2x2 Hermitian matrices. The\n",
        "output of the algorithm are the expectation values of Pauli observables of |x>. Note that the\n",
        "accuracy of the result depends on the following factors:\n",
        "* Register size\n",
        "* Choice of parameters C and t\n",
        "\n",
        "The result is perfect if\n",
        "* Each eigenvalue of the matrix is in the form\n",
        "\n",
        "  2π/t * k/N,\n",
        "\n",
        "  where 0≤k<N, and N=2^n, where n is the register size. In other words, k is a value that can be\n",
        "  represented exactly by the register.\n",
        "* C ≤ 2π/t * 1/N, the smallest eigenvalue that can be stored in the circuit.\n",
        "\n",
        "The result is good if the register size is large enough such that for every pair of eigenvalues,\n",
        "the ratio can be approximated by a pair of possible register values. Let s be the scaling factor\n",
        "from possible register values to eigenvalues. One way to set t is\n",
        "\n",
        "t = 2π/(sN)\n",
        "\n",
        "For arbitrary matrices, because properties of their eigenvalues are typically unknown, parameters C\n",
        "and t are fine-tuned based on their condition number.\n",
        "\n",
        "\n",
        "=== REFERENCE ===\n",
        "Harrow, Aram W. et al. Quantum algorithm for solving linear systems of\n",
        "equations (the HHL paper)\n",
        "https://arxiv.org/abs/0811.3171\n",
        "\n",
        "Coles, Eidenbenz et al. Quantum Algorithm Implementations for Beginners\n",
        "https://arxiv.org/abs/1804.03719\n",
        "\n",
        "=== CIRCUIT ===\n",
        "Example of circuit with 2 register qubits.\n",
        "\n",
        "(0, 0): ─────────────────────────Ry(θ₄)─Ry(θ₁)─Ry(θ₂)─Ry(θ₃)──────────────M──\n",
        "                     ┌──────┐    │      │      │      │ ┌───┐\n",
        "(1, 0): ─H─@─────────│      │──X─@──────@────X─@──────@─│   │─────────@─H────\n",
        "           │         │QFT^-1│    │      │      │      │ │QFT│         │\n",
        "(2, 0): ─H─┼─────@───│      │──X─@────X─@────X─@────X─@─│   │─@───────┼─H────\n",
        "           │     │   └──────┘                           └───┘ │       │\n",
        "(3, 0): ───e^iAt─e^2iAt───────────────────────────────────────e^-2iAt─e^-iAt─\n",
        "\n",
        "Note: QFT in the above diagram omits swaps, which are included implicitly by\n",
        "reversing qubit order for phase kickbacks.\n",
        "\"\"\"\n",
        "\n",
        "import math\n",
        "import numpy as np\n",
        "import sympy\n",
        "import cirq\n",
        "\n",
        "\n",
        "class PhaseEstimation(cirq.Gate):\n",
        "    \"\"\"A gate for Quantum Phase Estimation.\n",
        "\n",
        "    The last qubit stores the eigenvector; all other qubits store the estimated phase,\n",
        "    in big-endian.\n",
        "\n",
        "    Args:\n",
        "        num_qubits: The number of qubits of the unitary.\n",
        "        unitary: The unitary gate whose phases will be estimated.\n",
        "    \"\"\"\n",
        "\n",
        "    def __init__(self, num_qubits, unitary):\n",
        "        self._num_qubits = num_qubits\n",
        "        self.U = unitary\n",
        "\n",
        "    def num_qubits(self):\n",
        "        return self._num_qubits\n",
        "\n",
        "    def _decompose_(self, qubits):\n",
        "        qubits = list(qubits)\n",
        "        yield cirq.H.on_each(*qubits[:-1])\n",
        "        yield PhaseKickback(self.num_qubits(), self.U)(*qubits)\n",
        "        yield cirq.qft(*qubits[:-1], without_reverse=True) ** -1\n",
        "\n",
        "\n",
        "class HamiltonianSimulation(cirq.EigenGate):\n",
        "    \"\"\"A gate that represents e^iAt.\n",
        "\n",
        "    This EigenGate + np.linalg.eigh() implementation is used here purely for demonstrative\n",
        "    purposes. If a large matrix is used, the circuit should implement actual Hamiltonian\n",
        "    simulation, by using the linear operators framework in Cirq, for example.\n",
        "    \"\"\"\n",
        "\n",
        "    def __init__(self, A, t, exponent=1.0):\n",
        "        cirq.EigenGate.__init__(self, exponent=exponent)\n",
        "        self.A = A\n",
        "        self.t = t\n",
        "        ws, vs = np.linalg.eigh(A)\n",
        "        self.eigen_components = []\n",
        "        for w, v in zip(ws, vs.T):\n",
        "            theta = w * t / math.pi\n",
        "            P = np.outer(v, np.conj(v))\n",
        "            self.eigen_components.append((theta, P))\n",
        "\n",
        "    def _num_qubits_(self) -> int:\n",
        "        return 1\n",
        "\n",
        "    def _with_exponent(self, exponent):\n",
        "        return HamiltonianSimulation(self.A, self.t, exponent)\n",
        "\n",
        "    def _eigen_components(self):\n",
        "        return self.eigen_components\n",
        "\n",
        "\n",
        "class PhaseKickback(cirq.Gate):\n",
        "    \"\"\"A gate for the phase kickback stage of Quantum Phase Estimation.\n",
        "\n",
        "    It consists of a series of controlled e^iAt gates with the memory qubit as the target and\n",
        "    each register qubit as the control, raised to the power of 2 based on the qubit index.\n",
        "    unitary is the unitary gate whose phases will be estimated.\n",
        "    \"\"\"\n",
        "\n",
        "    def __init__(self, num_qubits, unitary):\n",
        "        super(PhaseKickback, self)\n",
        "        self._num_qubits = num_qubits\n",
        "        self.U = unitary\n",
        "\n",
        "    def num_qubits(self):\n",
        "        return self._num_qubits\n",
        "\n",
        "    def _decompose_(self, qubits):\n",
        "        qubits = list(qubits)\n",
        "        memory = qubits.pop()\n",
        "        for i, qubit in enumerate(qubits):\n",
        "            yield cirq.ControlledGate(self.U ** (2**i))(qubit, memory)\n",
        "\n",
        "\n",
        "class EigenRotation(cirq.Gate):\n",
        "    \"\"\"Perform a rotation on an ancilla equivalent to division by eigenvalues of a matrix.\n",
        "\n",
        "    EigenRotation performs the set of rotation on the ancilla qubit equivalent to division on the\n",
        "    memory register by each eigenvalue of the matrix. The last qubit is the ancilla qubit; all\n",
        "    remaining qubits are the register, assumed to be big-endian.\n",
        "\n",
        "    It consists of a controlled ancilla qubit rotation for each possible value that can be\n",
        "    represented by the register. Each rotation is a Ry gate where the angle is calculated from\n",
        "    the eigenvalue corresponding to the register value, up to a normalization factor C.\n",
        "    \"\"\"\n",
        "\n",
        "    def __init__(self, num_qubits, C, t):\n",
        "        super(EigenRotation, self)\n",
        "        self._num_qubits = num_qubits\n",
        "        self.C = C\n",
        "        self.t = t\n",
        "        self.N = 2 ** (num_qubits - 1)\n",
        "\n",
        "    def num_qubits(self):\n",
        "        return self._num_qubits\n",
        "\n",
        "    def _decompose_(self, qubits):\n",
        "        for k in range(self.N):\n",
        "            kGate = self._ancilla_rotation(k)\n",
        "\n",
        "            # xor's 1 bits correspond to X gate positions.\n",
        "            xor = k ^ (k - 1)\n",
        "\n",
        "            for q in qubits[-2::-1]:\n",
        "                # Place X gates\n",
        "                if xor % 2 == 1:\n",
        "                    yield cirq.X(q)\n",
        "                xor >>= 1\n",
        "\n",
        "                # Build controlled ancilla rotation\n",
        "                kGate = cirq.ControlledGate(kGate)\n",
        "\n",
        "            yield kGate(*qubits)\n",
        "\n",
        "    def _ancilla_rotation(self, k):\n",
        "        if k == 0:\n",
        "            k = self.N\n",
        "        theta = 2 * math.asin(self.C * self.N * self.t / (2 * math.pi * k))\n",
        "        return cirq.ry(theta)\n",
        "\n",
        "\n",
        "def hhl_circuit(A, C, t, register_size, *input_prep_gates):\n",
        "    \"\"\"Constructs the HHL circuit.\n",
        "\n",
        "    Args:\n",
        "        A: The input Hermitian matrix.\n",
        "        C: Algorithm parameter, see above.\n",
        "        t: Algorithm parameter, see above.\n",
        "        register_size: The size of the eigenvalue register.\n",
        "        *input_prep_gates: A list of gates to be applied to |0> to generate the desired input\n",
        "            state |b>.\n",
        "\n",
        "    Returns:\n",
        "        The HHL circuit. The ancilla measurement has key 'a' and the memory measurement is in key\n",
        "        'm'.  There are two parameters in the circuit, `exponent` and `phase_exponent` corresponding\n",
        "        to a possible rotation  applied before the measurement on the memory with a\n",
        "        `cirq.PhasedXPowGate`.\n",
        "    \"\"\"\n",
        "\n",
        "    ancilla = cirq.LineQubit(0)\n",
        "    # to store eigenvalues of the matrix\n",
        "    register = [cirq.LineQubit(i + 1) for i in range(register_size)]\n",
        "    # to store input and output vectors\n",
        "    memory = cirq.LineQubit(register_size + 1)\n",
        "\n",
        "    c = cirq.Circuit()\n",
        "    hs = HamiltonianSimulation(A, t)\n",
        "    pe = PhaseEstimation(register_size + 1, hs)\n",
        "    c.append([gate(memory) for gate in input_prep_gates])\n",
        "    c.append(\n",
        "        [\n",
        "            pe(*(register + [memory])),\n",
        "            EigenRotation(register_size + 1, C, t)(*(register + [ancilla])),\n",
        "            pe(*(register + [memory])) ** -1,\n",
        "            cirq.measure(ancilla, key='a'),\n",
        "        ]\n",
        "    )\n",
        "\n",
        "    c.append(\n",
        "        [\n",
        "            cirq.PhasedXPowGate(\n",
        "                exponent=sympy.Symbol('exponent'), phase_exponent=sympy.Symbol('phase_exponent')\n",
        "            )(memory),\n",
        "            cirq.measure(memory, key='m'),\n",
        "        ]\n",
        "    )\n",
        "\n",
        "    return c\n",
        "\n",
        "\n",
        "def simulate(circuit):\n",
        "    simulator = cirq.Simulator()\n",
        "\n",
        "    # Cases for measuring X, Y, and Z (respectively) on the memory qubit.\n",
        "    params = [\n",
        "        {'exponent': 0.5, 'phase_exponent': -0.5},\n",
        "        {'exponent': 0.5, 'phase_exponent': 0},\n",
        "        {'exponent': 0, 'phase_exponent': 0},\n",
        "    ]\n",
        "\n",
        "    results = simulator.run_sweep(circuit, params, repetitions=5000)\n",
        "\n",
        "    for label, result in zip(('X', 'Y', 'Z'), list(results)):\n",
        "        # Only select cases where the ancilla is 1.\n",
        "        # TODO: optimize using amplitude amplification algorithm.\n",
        "        # Github issue: https://github.com/quantumlib/Cirq/issues/2216\n",
        "        expectation = 1 - 2 * np.mean(result.measurements['m'][result.measurements['a'] == 1])\n",
        "        print(f'{label} = {expectation}')\n",
        "\n",
        "\n",
        "def main():\n",
        "    \"\"\"The main program loop.\n",
        "\n",
        "    Simulates HHL with matrix input, and outputs Pauli observables of the resulting qubit state |x>.\n",
        "    Expected observables are calculated from the expected solution |x>.\n",
        "    \"\"\"\n",
        "\n",
        "    # Eigendecomposition:\n",
        "    #   (4.537, [-0.971555, -0.0578339+0.229643j])\n",
        "    #   (0.349, [-0.236813, 0.237270-0.942137j])\n",
        "    # |b> = (0.64510-0.47848j, 0.35490-0.47848j)\n",
        "    # |x> = (-0.0662724-0.214548j, 0.784392-0.578192j)\n",
        "    A = np.array(\n",
        "        [\n",
        "            [4.30213466 - 6.01593490e-08j, 0.23531802 + 9.34386156e-01j],\n",
        "            [0.23531882 - 9.34388383e-01j, 0.58386534 + 6.01593489e-08j],\n",
        "        ]\n",
        "    )\n",
        "    t = 0.358166 * math.pi\n",
        "    register_size = 4\n",
        "    input_prep_gates = [cirq.rx(1.276359), cirq.rz(1.276359)]\n",
        "    expected = (0.144130, 0.413217, -0.899154)\n",
        "\n",
        "    # Set C to be the smallest eigenvalue that can be represented by the\n",
        "    # circuit.\n",
        "    C = 2 * math.pi / (2**register_size * t)\n",
        "\n",
        "    # Simulate circuit.\n",
        "    print(\"Expected observable outputs:\")\n",
        "    print(\"X =\", expected[0])\n",
        "    print(\"Y =\", expected[1])\n",
        "    print(\"Z =\", expected[2])\n",
        "    print(\"Actual: \")\n",
        "    simulate(hhl_circuit(A, C, t, register_size, *input_prep_gates))\n",
        "\n",
        "\n",
        "if __name__ == '__main__':\n",
        "    main()"
      ],
      "metadata": {
        "id": "5a7j7sAlRQ9F"
      },
      "execution_count": null,
      "outputs": []
    },
    {
      "cell_type": "markdown",
      "source": [
        "**Applications of HHL**\n",
        "\n",
        "* Systems of linear equations arise naturally in many real-life applications in a wide range of areas, such as in the solution of Partial Differential Equations, the calibration of financial models, fluid simulation or numerical field calculation.\n",
        "\n",
        "* Used in many quantum machine learning algorithms as a building block\n",
        "\n",
        "\n",
        "* The quantum algorithm for linear systems of equations has been applied to a support vector machine, which is an optimized linear or non-linear binary classifier (https://arxiv.org/abs/1307.0471v2)\n",
        "\n",
        "* for Least-squares fitting (https://arxiv.org/abs/1204.5242)\n",
        "\n",
        "* for finite-element-methods (https://arxiv.org/abs/1512.05903) (but only for higher problems which include solutions with higher-order derivatives and large spatial dimensions. For example, problems in many-body dynamics require the solution of equations containing derivatives on orders scaling with the number of bodies, and some problems in computational finance, such as Black-Scholes models, require large spatial dimensions)"
      ],
      "metadata": {
        "id": "CuVaUPrJRSli"
      }
    },
    {
      "cell_type": "markdown",
      "source": [
        "**Promise**:\n",
        "\n",
        "* Solving 10,000 linear equation: a classical computer needs in best case 10,000 steps. HHL just 13. The [quantum algorithm for linear systems of equations](https://en.m.wikipedia.org/wiki/Quantum_algorithm_for_linear_systems_of_equations) designed by Aram Harrow, Avinatan Hassidim, and Seth Lloyd: Provided the linear system is sparse and has a low condition number $\\kappa_{1}$ and that the user is interested in the result of a scalar measurement on the solution vector, instead of the values of the solution vector itself, then the algorithm has a runtime of $O\\left(\\log (N) \\kappa^{2}\\right)$, where $N$ is the number of variables in the linear system. This offers an exponential speedup over the fastest classical algorithm, which runs in $O(N \\kappa)$ (or $O(N \\sqrt{\\kappa})$ for positive semidefinite matrices).\n",
        "\n",
        "* Unlike the classical solutions to the Deutsch-Jozsa and search problems, most of our classical methods for matrix manipulation do work in polynomial time. However, as data analysis becomes more and more powerful (and more and more demanding on today’s computers), the size of these matrices can make even polynomial time too long.\n",
        "\n",
        "**Disadvantages:**\n",
        "\n",
        "* solution vector is not yielded (rather it prepares a quantum state that is proportional to the solution): Actually reading out the solution vector would take O(N)time, so we can only maintain the logarithmic runtime by sampling the solution vector like ⟨x|M|x⟩, where M is a quantum-mechanical operator. Therefore, **HHL is useful mainly in applications where only samples from the solution vector are needed**.\n",
        "\n",
        "* Entries of matrix have to be sparse: Additionally, although HHL is exponentially faster than Conjugate Gradient in N, it is polynomially slower in s and 𝜅, so HHL is restricted to only those matrices that are sparse and have low condition numbers.\n",
        "\n",
        "* Must satisfy robust invertibility (means that entries of matrix must all approx. of same size)\n",
        "\n",
        "* Preparation of input vector is complicated\n"
      ],
      "metadata": {
        "id": "MOgucKCyRUSI"
      }
    },
    {
      "cell_type": "markdown",
      "metadata": {
        "id": "XFxhMEfyzVCn"
      },
      "source": [
        "###### *Superdense Coding (Bell State): 1 Qubit - Tensor Product of two Parallel Gates (Superposition in Multiple Qubits)*"
      ]
    },
    {
      "cell_type": "code",
      "metadata": {
        "id": "EUeRMCzt8AQm"
      },
      "source": [
        "# Create Vanilla Qubits\n",
        "# Named Qubit\n",
        "a = cirq.NamedQubit(\"a\")\n",
        "b = cirq.NamedQubit(\"b\")\n",
        "\n",
        "#Line-Qubit\n",
        "qubits = cirq.LineQubit.range(2)"
      ],
      "execution_count": null,
      "outputs": []
    },
    {
      "cell_type": "markdown",
      "metadata": {
        "id": "b_44NH72uf_p"
      },
      "source": [
        "The tensor product (or Kronecker product) of two quantum gates is the gate that is equal to the two gates in parallel."
      ]
    },
    {
      "cell_type": "code",
      "metadata": {
        "id": "tK6sea6xzzpq",
        "colab": {
          "base_uri": "https://localhost:8080/"
        },
        "outputId": "e33d8d5b-b5f6-4801-9e3c-f9d099bab71a"
      },
      "source": [
        "# Define operations\n",
        "ops=[cirq.Y(a), # Superposition\n",
        "     cirq.X(b), # Entanglement\n",
        "     cirq.measure(a,b)] # Measurement\n",
        "\n",
        "# Build circuit\n",
        "circuit=cirq.Circuit(ops)\n",
        "\n",
        "print(circuit)"
      ],
      "execution_count": null,
      "outputs": [
        {
          "output_type": "stream",
          "name": "stdout",
          "text": [
            "a: ───Y───M───\n",
            "          │\n",
            "b: ───X───M───\n"
          ]
        }
      ]
    },
    {
      "cell_type": "markdown",
      "metadata": {
        "id": "Xg7C-Rrfu0ta"
      },
      "source": [
        "*Two gates $Y$ and $X$ in parallel is equivalent to the gate $Y\\otimes X$*\n",
        "\n",
        "![ggg](https://upload.wikimedia.org/wikipedia/commons/d/d5/Parallel_quantum_logic_gates.png)\n",
        "\n",
        "If we, as in the picture, combine the Pauli-Y gate with the Pauli-X gate in parallel, then this can be written as:\n",
        "\n",
        "> $C=Y \\otimes X=\\left[\\begin{array}{cc}0 & -i \\\\ i & 0\\end{array}\\right] \\otimes\\left[\\begin{array}{ll}0 & 1 \\\\ 1 & 0\\end{array}\\right]=\\left[\\begin{array}{ll}0\\left[\\begin{array}{ll}0 & 1 \\\\ 1 & 0\\end{array}\\right] & -i\\left[\\begin{array}{ll}0 & 1 \\\\ 1 & 0\\end{array}\\right] \\\\ i\\left[\\begin{array}{ll}0 & 1 \\\\ 1 & 0\\end{array}\\right] & 0\\left[\\begin{array}{ll}0 & 1 \\\\ 1 & 0\\end{array}\\right]\\end{array}\\right]=\\left[\\begin{array}{cccc}0 & 0 & 0 & -i \\\\ 0 & 0 & -i & 0 \\\\ 0 & i & 0 & 0 \\\\ i & 0 & 0 & 0\\end{array}\\right]$\n",
        "\n",
        "Both the Pauli-X and the Pauli-Y gate act on a single qubit. The resulting gate $C$ act on two qubits."
      ]
    },
    {
      "cell_type": "code",
      "metadata": {
        "id": "jvYfx3Klz9uZ",
        "colab": {
          "base_uri": "https://localhost:8080/"
        },
        "outputId": "dfcf89f5-ae06-4f5f-c592-8fb0c9a9de70"
      },
      "source": [
        "# Run Simulations & Measurements\n",
        "simulator = cirq.Simulator()\n",
        "result = simulator.run(circuit,repetitions=10)\n",
        "print('Measurement results')\n",
        "print(result)"
      ],
      "execution_count": null,
      "outputs": [
        {
          "output_type": "stream",
          "name": "stdout",
          "text": [
            "Measurement results\n",
            "a,b=1111111111, 1111111111\n"
          ]
        }
      ]
    },
    {
      "cell_type": "code",
      "metadata": {
        "id": "jd5HWgP-0BOc",
        "colab": {
          "base_uri": "https://localhost:8080/",
          "height": 295
        },
        "outputId": "1a4b69ee-bdb8-4ddd-fd21-2c841a21961e"
      },
      "source": [
        "# Visualization\n",
        "# After doing that, you should see the quantum state become ∣00⟩+∣11⟩\n",
        "_ = cirq.vis.plot_state_histogram(result) #, plt.subplot())"
      ],
      "execution_count": null,
      "outputs": [
        {
          "output_type": "display_data",
          "data": {
            "text/plain": [
              "<Figure size 432x288 with 1 Axes>"
            ],
            "image/png": "[encoded data removed]"
          },
          "metadata": {
            "needs_background": "light"
          }
        }
      ]
    },
    {
      "cell_type": "code",
      "metadata": {
        "id": "_8IiwYzr0C6M",
        "colab": {
          "base_uri": "https://localhost:8080/"
        },
        "outputId": "92ff3405-83d1-4d9e-c94b-78477665c1ce"
      },
      "source": [
        "result.histogram(key=\"a,b\")"
      ],
      "execution_count": null,
      "outputs": [
        {
          "output_type": "execute_result",
          "data": {
            "text/plain": [
              "Counter({3: 10})"
            ]
          },
          "metadata": {},
          "execution_count": 7
        }
      ]
    },
    {
      "cell_type": "markdown",
      "metadata": {
        "id": "sn4LwsmviwZx"
      },
      "source": [
        "###### *Superdense Coding (Bell State): 2 Qubits - CNOT Gate (CX) [and Controlled-U Gate]: Create Bell state (Superposition across Multiple Qubits)*"
      ]
    },
    {
      "cell_type": "markdown",
      "metadata": {
        "id": "tMHUCZ7JW3rD"
      },
      "source": [
        "> CNOT, acting on a two-qubit term $\\left|q_{1} q_{2}\\right\\rangle$, applies the $\\mathbf{N O T}(\\mathbf{X})$ gate to the second qubit only if the first qubit is in state $|1\\rangle$. The first qubit controls the action on the second.\n",
        "\n",
        "> 0 im Output wenn zwei Inputs gleich sind. 1 im Output wenn die Inputs unterschiedlich sind."
      ]
    },
    {
      "cell_type": "markdown",
      "metadata": {
        "id": "ZaEJwXg_j-Uz"
      },
      "source": [
        "*Entanglement*"
      ]
    },
    {
      "cell_type": "code",
      "metadata": {
        "id": "7uuAkp8gkA0S",
        "colab": {
          "base_uri": "https://localhost:8080/"
        },
        "outputId": "5caa5014-0742-46c2-aa90-6a31722146d1"
      },
      "source": [
        "cirq.unitary(cirq.CNOT)"
      ],
      "execution_count": null,
      "outputs": [
        {
          "output_type": "execute_result",
          "data": {
            "text/plain": [
              "array([[1.+0.j, 0.+0.j, 0.+0.j, 0.+0.j],\n",
              "       [0.+0.j, 1.+0.j, 0.+0.j, 0.+0.j],\n",
              "       [0.+0.j, 0.+0.j, 0.+0.j, 1.+0.j],\n",
              "       [0.+0.j, 0.+0.j, 1.+0.j, 0.+0.j]])"
            ]
          },
          "metadata": {},
          "execution_count": 46
        }
      ]
    },
    {
      "cell_type": "markdown",
      "metadata": {
        "id": "khD7BYNRWJXK"
      },
      "source": [
        "The [Controlled NOT gate](https://en.m.wikipedia.org/wiki/Controlled_NOT_gate) (also C-NOT or CNOT, controlled Pauli-X) is a quantum logic gate that is an essential component in the construction of a gate-based quantum computer. **It can be used to entangle and disentangle Bell states**. Any quantum circuit can be simulated to an arbitrary degree of accuracy using a combination of CNOT gates and single qubit rotations."
      ]
    },
    {
      "cell_type": "markdown",
      "metadata": {
        "id": "XjXVjG5wWjQn"
      },
      "source": [
        ">$\n",
        "\\begin{array}{|c|c|c|c|}\n",
        "\\hline {\\text { Before }} & {\\text { Before }}& {\\text { After }}& {\\text { After }} \\\\\n",
        "\\hline \\text { Control } & \\text { Target } & \\text { Control } & \\text { Target } \\\\\n",
        "\\hline|0\\rangle & |0\\rangle & |0\\rangle & |0\\rangle \\\\\n",
        "\\hline|0\\rangle & |1\\rangle & |0\\rangle & |1\\rangle \\\\\n",
        "\\hline|1\\rangle & |0\\rangle & |1\\rangle & |1\\rangle \\\\\n",
        "\\hline|1\\rangle & |1\\rangle & |1\\rangle & |0\\rangle \\\\\n",
        "\\hline\n",
        "\\end{array}\n",
        "$"
      ]
    },
    {
      "cell_type": "markdown",
      "metadata": {
        "id": "_e7Iu9kdXSdI"
      },
      "source": [
        "A common application of the $\\mathrm{C}_{\\text {NOT }}$ gate is to maximally entangle two qubits into the $\\left|\\Phi^{+}\\right\\rangle$ Bell state; this forms part of the setup of the superdense coding, quantum teleportation, and entangled quantum cryptography algorithms."
      ]
    },
    {
      "cell_type": "markdown",
      "metadata": {
        "id": "oNsYOdI-A1rh"
      },
      "source": [
        "CNOT or controlled Pauli-X.\n",
        "\n",
        "* **Verschrankt zwei Qubits und invertiert das Ziel-Qubit**, wenn das Kontroll-Qubit 1 ist:\n",
        "\n",
        "> $|00\\rangle \\rightarrow|00\\rangle$\n",
        "\n",
        "> $|01\\rangle \\rightarrow|01\\rangle$\n",
        "\n",
        "> $|10\\rangle \\rightarrow|11\\rangle$\n",
        "\n",
        "> $|11\\rangle \\rightarrow|10\\rangle$\n",
        "\n",
        "Matrix-Darstellung:\n",
        "\n",
        "> $\\left(\\begin{array}{llll}1 & 0 & 0 & 0 \\\\ 0 & 1 & 0 & 0 \\\\ 0 & 0 & 0 & 1 \\\\ 0 & 0 & 1 & 0\\end{array}\\right)$"
      ]
    },
    {
      "cell_type": "markdown",
      "metadata": {
        "id": "cj9br36Vk44_"
      },
      "source": [
        "The CNOT (or controlled Pauli- $X$ ) gate can be described as the gate that maps the basis states $|a, b\\rangle \\mapsto|a, a \\oplus b\\rangle$, where $\\oplus$ is XOR.\n",
        "\n",
        "**Controlled-U Gate**\n",
        "\n",
        "More generally if $U$ is a gate that operates on single qubits with matrix representation\n",
        "\n",
        ">$\n",
        "U=\\left[\\begin{array}{ll}\n",
        "u_{00} & u_{01} \\\\\n",
        "u_{10} & u_{11}\n",
        "\\end{array}\\right]\n",
        "$\n",
        "\n",
        "then the controlled-U gate is a gate that operates on two qubits in such a way that the first qubit serves as a control.\n",
        "\n",
        "It maps the basis states as follows:"
      ]
    },
    {
      "cell_type": "markdown",
      "metadata": {
        "id": "Tak_03Fvkl1v"
      },
      "source": [
        "$|00\\rangle \\mapsto|00\\rangle$\n",
        "\n",
        "$|01\\rangle \\mapsto|01\\rangle$\n",
        "\n",
        "$|10\\rangle \\mapsto|1\\rangle \\otimes U|0\\rangle=|1\\rangle \\otimes\\left(u_{00}|0\\rangle+u_{10}|1\\rangle\\right)$\n",
        "\n",
        "$|11\\rangle \\mapsto|1\\rangle \\otimes U|1\\rangle=|1\\rangle \\otimes\\left(u_{01}|0\\rangle+u_{11}|1\\rangle\\right)$\n",
        "\n",
        "The matrix representing the controlled $U$ is\n",
        "\n",
        ">$\n",
        "\\mathrm{C} U=\\left[\\begin{array}{cccc}\n",
        "1 & 0 & 0 & 0 \\\\\n",
        "0 & 1 & 0 & 0 \\\\\n",
        "0 & 0 & u_{00} & u_{01} \\\\\n",
        "0 & 0 & u_{10} & u_{11}\n",
        "\\end{array}\\right]\n",
        "$"
      ]
    },
    {
      "cell_type": "markdown",
      "metadata": {
        "id": "PFjTkqQokCsL"
      },
      "source": [
        "**When U is one of the Pauli operators, X,Y, Z, the respective terms \"controlled-X\", \"controlled-Y\", or \"controlled-Z\" are sometimes used**.\n",
        "Sometimes this is shortened to just CX, CY and CZ."
      ]
    },
    {
      "cell_type": "markdown",
      "metadata": {
        "id": "QhT8fxnaNT1l"
      },
      "source": [
        "**Code example: Create Bell state**"
      ]
    },
    {
      "cell_type": "code",
      "metadata": {
        "id": "tqtfaFwR8CEu"
      },
      "source": [
        "# Create Vanilla Qubits\n",
        "# Named Qubit\n",
        "a = cirq.NamedQubit(\"a\")\n",
        "b = cirq.NamedQubit(\"b\")\n",
        "\n",
        "#Line-Qubit\n",
        "qubits = cirq.LineQubit.range(2)"
      ],
      "execution_count": null,
      "outputs": []
    },
    {
      "cell_type": "code",
      "metadata": {
        "id": "zBdsoUTDg28-",
        "colab": {
          "base_uri": "https://localhost:8080/"
        },
        "outputId": "ea5bde48-037f-4b01-e04c-2dfb6e8aa2f9"
      },
      "source": [
        "# Define operations\n",
        "ops=[cirq.H(a), # Superposition\n",
        "     cirq.CNOT(a,b), # Entanglement\n",
        "     cirq.H(a),\n",
        "     cirq.measure(a,b)] # Measurement\n",
        "\n",
        "# Build circuit\n",
        "circuit=cirq.Circuit(ops)\n",
        "\n",
        "print(circuit)"
      ],
      "execution_count": null,
      "outputs": [
        {
          "output_type": "stream",
          "name": "stdout",
          "text": [
            "a: ───H───@───H───M───\n",
            "          │       │\n",
            "b: ───────X───────M───\n"
          ]
        }
      ]
    },
    {
      "cell_type": "markdown",
      "metadata": {
        "id": "nxq5eTXkmys2"
      },
      "source": [
        "*More about creating Bell state from superposition & entanglement: [Demystifying Superdense Coding](https://medium.com/qiskit/demystifying-superdense-coding-41d46401910e)*"
      ]
    },
    {
      "cell_type": "code",
      "metadata": {
        "id": "dF6YnhaagPp2",
        "colab": {
          "base_uri": "https://localhost:8080/"
        },
        "outputId": "0a0b5fac-578b-46bc-f020-fd9753a885a5"
      },
      "source": [
        "# Run Simulations & Measurements\n",
        "simulator = cirq.Simulator()\n",
        "result = simulator.run(circuit,repetitions=100)\n",
        "print('Measurement results')\n",
        "print(result)"
      ],
      "execution_count": null,
      "outputs": [
        {
          "output_type": "stream",
          "name": "stdout",
          "text": [
            "Measurement results\n",
            "a,b=1110010101010110111100101011011111100100110101101101110000110001010000101011100100111110000001011001, 1100000001000011000100101011011000110101101001100111111001101000001100010010100010100100001010100000\n"
          ]
        }
      ]
    },
    {
      "cell_type": "code",
      "metadata": {
        "id": "NMhisVFLhpHX",
        "colab": {
          "base_uri": "https://localhost:8080/",
          "height": 295
        },
        "outputId": "17879c7d-4006-4943-b674-5c7805858852"
      },
      "source": [
        "# Visualization\n",
        "# After doing that, you should see the quantum state become ∣00⟩+∣11⟩\n",
        "_ = cirq.vis.plot_state_histogram(result) #, plt.subplot())\n",
        "# https://quantumai.google/cirq/tutorials/state_histograms"
      ],
      "execution_count": null,
      "outputs": [
        {
          "output_type": "display_data",
          "data": {
            "image/png": "[encoded data removed]",
            "text/plain": [
              "<Figure size 432x288 with 1 Axes>"
            ]
          },
          "metadata": {
            "needs_background": "light"
          }
        }
      ]
    },
    {
      "cell_type": "code",
      "metadata": {
        "id": "9ZgU_Al4jz7R",
        "colab": {
          "base_uri": "https://localhost:8080/"
        },
        "outputId": "3b0b9a45-725e-4ac8-cf81-68ffd08d4b31"
      },
      "source": [
        "result.histogram(key=\"a,b\")"
      ],
      "execution_count": null,
      "outputs": [
        {
          "output_type": "execute_result",
          "data": {
            "text/plain": [
              "Counter({0: 32, 1: 15, 2: 28, 3: 25})"
            ]
          },
          "metadata": {},
          "execution_count": 20
        }
      ]
    },
    {
      "cell_type": "markdown",
      "metadata": {
        "id": "8esNV4PbrpS7"
      },
      "source": [
        "**Make Bell state operations reverse**"
      ]
    },
    {
      "cell_type": "code",
      "metadata": {
        "id": "pexUpicI8DgZ"
      },
      "source": [
        "# Create Vanilla Qubits\n",
        "# Named Qubit\n",
        "a = cirq.NamedQubit(\"a\")\n",
        "b = cirq.NamedQubit(\"b\")\n",
        "\n",
        "#Line-Qubit\n",
        "qubits = cirq.LineQubit.range(2)"
      ],
      "execution_count": null,
      "outputs": []
    },
    {
      "cell_type": "markdown",
      "metadata": {
        "id": "ykAgwQkAtveF"
      },
      "source": [
        "*Operators are unitary*"
      ]
    },
    {
      "cell_type": "code",
      "metadata": {
        "id": "KaXrr6z2rbz0",
        "colab": {
          "base_uri": "https://localhost:8080/"
        },
        "outputId": "9599073c-ccd4-4a91-d99e-945ebe9a7722"
      },
      "source": [
        "# Define operations\n",
        "ops=[cirq.H(a), # Superposition\n",
        "     cirq.CNOT(a,b), # Entanglement\n",
        "     cirq.CNOT(a,b),\n",
        "     cirq.H(a),\n",
        "     cirq.measure(a,b)] # Measurement\n",
        "\n",
        "# Build circuit\n",
        "circuit=cirq.Circuit(ops)\n",
        "\n",
        "print(circuit)"
      ],
      "execution_count": null,
      "outputs": [
        {
          "output_type": "stream",
          "name": "stdout",
          "text": [
            "a: ───H───@───@───H───M───\n",
            "          │   │       │\n",
            "b: ───────X───X───────M───\n"
          ]
        }
      ]
    },
    {
      "cell_type": "code",
      "metadata": {
        "id": "eW2mzWkTrvuI",
        "colab": {
          "base_uri": "https://localhost:8080/"
        },
        "outputId": "2fe1bb4c-48f5-45e3-8367-68f05a15f430"
      },
      "source": [
        "# Run Simulations & Measurements\n",
        "# Outcome should be same as step 1: 0, back to as if nothing happened\n",
        "simulator = cirq.Simulator()\n",
        "result = simulator.run(circuit,repetitions=100)\n",
        "print('Measurement results')\n",
        "print(result)"
      ],
      "execution_count": null,
      "outputs": [
        {
          "output_type": "stream",
          "name": "stdout",
          "text": [
            "Measurement results\n",
            "a,b=0000000000000000000000000000000000000000000000000000000000000000000000000000000000000000000000000000, 0000000000000000000000000000000000000000000000000000000000000000000000000000000000000000000000000000\n"
          ]
        }
      ]
    },
    {
      "cell_type": "code",
      "metadata": {
        "id": "1hr1hYZZr4gA",
        "colab": {
          "base_uri": "https://localhost:8080/"
        },
        "outputId": "0f15896c-9ae0-4c7c-b766-e11de5de2f8c"
      },
      "source": [
        "result.histogram(key=\"a,b\")"
      ],
      "execution_count": null,
      "outputs": [
        {
          "output_type": "execute_result",
          "data": {
            "text/plain": [
              "Counter({0: 100})"
            ]
          },
          "metadata": {},
          "execution_count": 13
        }
      ]
    },
    {
      "cell_type": "code",
      "metadata": {
        "id": "ZH1uLG6ar7Ds",
        "colab": {
          "base_uri": "https://localhost:8080/"
        },
        "outputId": "6e26349e-f5b8-4c61-fe6d-14f4eb8fdb3d"
      },
      "source": [
        "# Visualization\n",
        "# After doing that, you should see the quantum state become ∣00⟩+∣11⟩\n",
        "_ = cirq.vis.plot_state_histogram(result) #, plt.subplot())\n",
        "# https://quantumai.google/cirq/tutorials/state_histograms"
      ],
      "execution_count": null,
      "outputs": [
        {
          "output_type": "display_data",
          "data": {
            "image/png": "[encoded data removed]",
            "text/plain": [
              "<Figure size 432x288 with 1 Axes>"
            ]
          },
          "metadata": {
            "needs_background": "light"
          }
        }
      ]
    },
    {
      "cell_type": "markdown",
      "metadata": {
        "id": "xwCqkmcpML45"
      },
      "source": [
        "**Multiple Qubits: Product State vs Entangled State (Bell State)**"
      ]
    },
    {
      "cell_type": "markdown",
      "metadata": {
        "id": "lE-o94B525zt"
      },
      "source": [
        "* As the name implies, entanglement is a property of quantum mechanical systems that only reveals itself when states begin to interact.\n",
        "\n",
        "* When two qubits are brought together and we'd like to consider the new joint system that they form, we use a fancy new symbol: ⊗. This is called the tensor product, but really it just represents a combination of two or more quantum states.\n",
        "\n",
        "**Product States**\n",
        "* States which can be described as a tensor product of two independent superpositions are known as product states.\n",
        "\n",
        "A joint state of two initialized qubits can be represented as\n",
        "\n",
        ">$|0\\rangle\\otimes|0\\rangle$\n",
        "\n",
        "If we apply the Hadamard gate to the first qubit, it transforms but leaves the other qubit unaffected, since the Hadamard is a single qubit gate:\n",
        "\n",
        ">$\n",
        "\\mathbf{H}|0\\rangle \\otimes|0\\rangle=\\left(\\frac{1}{\\sqrt{2}}|0\\rangle+\\frac{1}{\\sqrt{2}}|1\\rangle\\right) \\otimes|0\\rangle\n",
        "$\n",
        "\n",
        "**Exkurs**: wenn ein Gate bei einem Single Qubit mehr Probability als 0,5 hat, kann man das so schreiben (Achtung: Koeffizient ist Wurzel aus Probability),\n",
        "\n",
        "> $\\mathbf{H}|0\\rangle\\ = (0,9) * |0\\rangle + (0,1) * |1\\rangle$\n",
        "\n",
        "* 0,71 ist für 50% Probability (man muss es squared nehmen!)\n",
        "\n",
        "* 0,9 ist für 0,99 Probability\n",
        "\n",
        "* 1 ist für 100% Probability für State 0, der andere Term hat dann 0 % und verschwindet. Es bleibt dann nur noch $|0\\rangle$\n",
        "\n",
        "The tensor product is distributive, which in this case means it acts much like multiplication:\n",
        "\n",
        ">$\n",
        "\\mathbf{H}|0\\rangle \\otimes|0\\rangle=\\frac{1}{\\sqrt{2}}|0\\rangle \\otimes|0\\rangle+\\frac{1}{\\sqrt{2}}|1\\rangle \\otimes|0\\rangle \\text {. }\n",
        "$\n",
        "\n",
        "Using a series of single-qubit gates, we can transform two initialized qubits into two new arbitrary states:\n",
        "\n",
        ">$\n",
        "\\begin{array}{l}\n",
        "\\text { Qubit 1: } \\quad|0\\rangle \\rightarrow a_{1}|0\\rangle+a_{2}|1\\rangle \\\\\n",
        "\\text { Qubit 2: } \\quad|0\\rangle \\rightarrow b_{1}|0\\rangle+b_{2}|1\\rangle .\n",
        "\\end{array}\n",
        "$\n",
        "\n",
        "The resulting 2 -qubit state is usually written as their product using a fancy new symbol:\n",
        "\n",
        ">$|0\\rangle\n",
        "\\otimes|0\\rangle \\rightarrow\\left(a_{1}|0\\rangle+a_{2}|1\\rangle\\right) \\otimes\\left(b_{1}|0\\rangle+b_{2}|1\\rangle\\right)\n",
        "$\n",
        "\n",
        "Another way to express this would be:\n",
        "\n",
        "> $a_{1} b_{1}|0\\rangle \\otimes|0\\rangle+a_{1} b_{2}|0\\rangle \\otimes|1\\rangle+a_{2} b_{1}|1\\rangle \\otimes|0\\rangle+a_{2} b_{2}|1\\rangle \\otimes|1\\rangle$\n",
        "\n",
        "**Bell state (Entangled State)**\n",
        "\n",
        "* To simplify notations, we sometimes omit the $\\otimes$ sign and only **write $|00\\rangle$ to denote that both the first qubit and the second qubit are in the $|0\\rangle$ state**.\n",
        "\n",
        "* There are four total 2 -qubit combinations, including $|01\\rangle=|0\\rangle \\otimes|1\\rangle$, and so on.\n",
        "\n",
        "With this simplified notation, a general 2 -qubit joint state can be written as an arbitrary linear combination of four 2 -qubit computational states:\n",
        "\n",
        ">$\n",
        "a|00\\rangle+b|01\\rangle+c|10\\rangle+d|11\\rangle\n",
        "$\n",
        "\n",
        "This is quite a bit different than the joint state found by preparing both qubits into independent single-qubit superpositions:\n",
        "\n",
        ">$\n",
        "\\left(a_{1}|0\\rangle+a_{2}|1\\rangle\\right) \\otimes\\left(b_{1}|0\\rangle+b_{2}|1\\rangle\\right)=a_{1} b_{1}|00\\rangle+a_{1} b_{2}|01\\rangle+a_{2} b_{1}|10\\rangle+\n",
        "$\n",
        "\n",
        "* simple and well-known joint state called the Bell state:\n",
        "\n",
        "> $\\frac{1}{\\sqrt{2}}|00\\rangle+\\frac{1}{\\sqrt{2}}|11\\rangle$\n",
        "\n",
        "* you can NOT write the Bell state as a product of two single-qubit states\n",
        "\n",
        "Entangled States\n",
        "* The Bell state is the prototypical example of an entangled state.\n",
        "* Two qubits which are entangled can never be separated into two independent states: their coefficients are a tangled-up mess:\n",
        "\n",
        "> $|\\psi\\rangle_{\\text {Bell }}=\\frac{1}{\\sqrt{2}}(|00\\rangle+|11\\rangle)$"
      ]
    },
    {
      "cell_type": "markdown",
      "metadata": {
        "id": "_ml34dkmRTZb"
      },
      "source": [
        "![ggg](https://raw.githubusercontent.com/deltorobarba/repo/master/quantum_036.jpg)"
      ]
    },
    {
      "cell_type": "markdown",
      "metadata": {
        "id": "FwxQFhNvRcfh"
      },
      "source": [
        "* We can contrast this with n-qubit product states, where the state of every qubit is known and they have only 2n independent amplitudes. This is a vast difference!\n",
        "\n",
        "* This means that most of the n-qubit space is populated by entangled states, ones that can't be written as a simple product of its components."
      ]
    },
    {
      "cell_type": "markdown",
      "metadata": {
        "id": "Te53NAyORwK7"
      },
      "source": [
        "* We will see in a bit that with only two parameterized gates, we could transform an initialized qubit into any possible single qubit state on the surface of the Bloch sphere:\n",
        "\n",
        "> $\\mathcal{R}_{\\phi} \\mathcal{R}_{\\theta}|0\\rangle=a_{1}|0\\rangle+a_{2}|1\\rangle$"
      ]
    },
    {
      "cell_type": "markdown",
      "metadata": {
        "id": "uljvt0GuUJ20"
      },
      "source": [
        "**How to get to an Entanglement Circuit?**"
      ]
    },
    {
      "cell_type": "markdown",
      "metadata": {
        "id": "nzip0tFBUn9u"
      },
      "source": [
        "To start, we can prepare two qubits in the $|0\\rangle$ state. At this point there's no connection between them, and we can write them in the product state $|\\psi\\rangle=$\n",
        "$|0\\rangle \\otimes|0\\rangle$ which is the same as $|00\\rangle$.\n",
        "\n",
        "Comparing $|\\psi\\rangle$ to the Bell state, we see that at some point along the way, we'll need to get into a superposition. Using the set of gates we currently have at our disposal $(\\mathbf{X}, \\mathbf{Z}, \\mathbf{H})$, there doesn't appear to be a single gate that we can apply to take us from $|\\psi\\rangle$ to $\\left|\\psi_{\\text {Bell }}\\right\\rangle .$ Naively, it seems that we have two tasks ahead of\n",
        "us:\n",
        "\n",
        "1. Getting $|\\psi\\rangle$ into a superposition.\n",
        "\n",
        "2. Adjusting the individual kets so that we're in the Bell state.\n",
        "\n",
        "At the moment we have the Hadamard, which can move one of our qubits into superposition. For argument's sake, let's apply it to the first qubit:\n",
        "$$\n",
        "\\begin{aligned}\n",
        "\\mathbf{H}_{1}|\\psi\\rangle &=(\\mathbf{H}|0\\rangle) \\otimes|0\\rangle \\\\\n",
        "&=\\frac{|0\\rangle+|1\\rangle}{\\sqrt{2}} \\otimes|0\\rangle \\\\\n",
        "&=\\frac{|00\\rangle+|10\\rangle}{\\sqrt{2}} .\n",
        "\\end{aligned}\n",
        "$$"
      ]
    },
    {
      "cell_type": "markdown",
      "metadata": {
        "id": "4cfRfbdXUylr"
      },
      "source": [
        "Now we need to find gates that allow us to coordinate action on two qubits."
      ]
    },
    {
      "cell_type": "markdown",
      "metadata": {
        "id": "-wLmVt2GVInj"
      },
      "source": [
        "While single qubit gates like $\\mathbf{X}$ and $\\mathbf{H}$ can't get us all the way to the Bell state, we'd still like to keep our gate set as simple as possible. In this spirit, let's stick with the Hadamard gate to perform our superposition, and look for a multiqubit gate $\\mathrm{M}$ that can get us the rest of the way:\n",
        "\n",
        "> $\n",
        "\\frac{|00\\rangle+|10\\rangle}{\\sqrt{2}} \\stackrel{\\mathrm{M}}{\\longrightarrow} \\frac{|00\\rangle+|11\\rangle}{\\sqrt{2}}\n",
        "$\n",
        "\n",
        "**Die erste Spalte mit 0 und 1 (links jeweils) zeigt, dass dieses Qubit in einer Superposition ist mit 50% Probability von 0 und 1, während das zweite Qubit (jeweils rechts) 0 und 0 ist, weil es sich nich im initialen Zustand befindet, der immer 100% 0 ist!**\n",
        "\n",
        "Following behaviors would make for a suitable multi-qubit gate M:\n",
        "\n",
        "* Flip qubit 2 whenever qubit 1 and qubit 2 are opposite\n",
        "\n",
        "* Flip qubit 2 if qubit 1 is in state ∣1⟩\n",
        "\n",
        "* we need to keep the core principle of quantum mechanics — reversibility!"
      ]
    },
    {
      "cell_type": "markdown",
      "metadata": {
        "id": "F-hyI4Y8WH5A"
      },
      "source": [
        "Consider the action of $\\mathbf{M}$ on the two-qubit basis states: if a $|11\\rangle$ term appears in the quantum state after we apply $\\mathrm{M}$, we can't tell if it's because we started with a $|11\\rangle$ term, or if it's because we started with a $|10\\rangle$ term.\n",
        "\n",
        "The preferred entangling gate, called CNOT (controlled NOT), gets us into the Bell state while respecting the reversibility condition:\n",
        "$$\n",
        "\\begin{array}{l}\n",
        "|00\\rangle \\stackrel{\\text { CNOT }}{\\longrightarrow}|00\\rangle \\\\\n",
        "|01\\rangle \\stackrel{\\text { CNOT }}{\\longrightarrow}|01\\rangle \\\\\n",
        "|10\\rangle \\stackrel{\\text { CNOT }}{\\longrightarrow}|11\\rangle \\\\\n",
        "|11\\rangle \\stackrel{\\text { CNOT }}{\\longrightarrow}|10\\rangle .\n",
        "\\end{array}\n",
        "$$"
      ]
    },
    {
      "cell_type": "markdown",
      "metadata": {
        "id": "GsYSv3aWW02A"
      },
      "source": [
        "> CNOT, acting on a two-qubit term $\\left|q_{1} q_{2}\\right\\rangle$, applies the $\\mathbf{N O T}(\\mathbf{X})$ gate to the second qubit only if the first qubit is in state $|1\\rangle$. The first qubit controls the action on the second."
      ]
    },
    {
      "cell_type": "markdown",
      "metadata": {
        "id": "tnpFAHpAX3CO"
      },
      "source": [
        "This enables us to prepare the entangled Bell state and is a subroutine\n",
        "\n",
        "> $\\frac{|10\\rangle+|00\\rangle}{\\sqrt{2}} \\stackrel{\\text { CNOT }}{\\longrightarrow} \\frac{|11\\rangle+|00\\rangle}{\\sqrt{2}}$"
      ]
    },
    {
      "cell_type": "markdown",
      "metadata": {
        "id": "exg3Vtx79vEF"
      },
      "source": [
        "**For Quantum Cryptography**"
      ]
    },
    {
      "cell_type": "markdown",
      "metadata": {
        "id": "9JG9DW7T9yVu"
      },
      "source": [
        "* But Alice and Bob aren't stuck with the computational basis: **the Bell state is entangled no matter what basis we use to analyze it**. This is particularly easy to see by switching to the Hadamard basis.\n",
        "\n",
        "* As we showed before, the Bell state has the same form in the computational basis as it does in the Hadamard basis:"
      ]
    },
    {
      "cell_type": "markdown",
      "metadata": {
        "id": "BJJVI3nJ95Sd"
      },
      "source": [
        "> $\\left|\\psi_{\\text {Bell }}\\right\\rangle=\\frac{|00\\rangle+|11\\rangle}{\\sqrt{2}}=\\frac{|--\\rangle+|++\\rangle}{\\sqrt{2}}$"
      ]
    },
    {
      "cell_type": "markdown",
      "metadata": {
        "id": "Ku7YIhNG99wX"
      },
      "source": [
        "* So, Alice and Bob are free to use either basis to coordinate their bits."
      ]
    },
    {
      "cell_type": "markdown",
      "metadata": {
        "id": "Dy2g1dN5CzEk"
      },
      "source": [
        "*If Alice measures her qubit using the Hadamard basis, what are the possibilities for Bob's measurement in the computational basis?*"
      ]
    },
    {
      "cell_type": "markdown",
      "metadata": {
        "id": "CBI_xr4hDMDh"
      },
      "source": [
        "![gg](https://raw.githubusercontent.com/deltorobarba/repo/master/quantum_037.jpg)"
      ]
    },
    {
      "cell_type": "markdown",
      "metadata": {
        "id": "op9AlkI4DSIz"
      },
      "source": [
        "![ggg](https://raw.githubusercontent.com/deltorobarba/repo/master/quantum_038.jpg)"
      ]
    },
    {
      "cell_type": "markdown",
      "metadata": {
        "id": "dba0LoLwGlRc"
      },
      "source": [
        "**CNOT Gate and Entanglement**"
      ]
    },
    {
      "cell_type": "markdown",
      "metadata": {
        "id": "TPNGjNBmG7Fi"
      },
      "source": [
        "Quantum states $|\\psi\\rangle$ aren't always one of the computational basis states.\n",
        "\n",
        "In general, they can also be (ignoring normalization factors)\n",
        "\n",
        ">$\n",
        "|+\\rangle=|0\\rangle+|1\\rangle\n",
        "$\n",
        "\n",
        "or\n",
        "\n",
        ">$\n",
        "|-\\rangle=|0\\rangle-|1\\rangle \\text {. }\n",
        "$"
      ]
    },
    {
      "cell_type": "markdown",
      "metadata": {
        "id": "TUslZaxCGow1"
      },
      "source": [
        "*What does the CNOT gate do with these input states?*"
      ]
    },
    {
      "cell_type": "markdown",
      "metadata": {
        "id": "mB5YrBr6GeKQ"
      },
      "source": [
        "![ggg](https://raw.githubusercontent.com/deltorobarba/repo/master/quantum_039.jpg)"
      ]
    },
    {
      "cell_type": "markdown",
      "metadata": {
        "id": "MZO0odc6qWrf"
      },
      "source": [
        "###### *Superdense Coding (Bell State): 2 Qubits - H, CNOT & X-Gate: Superdense Coding for Quantum Communication*"
      ]
    },
    {
      "cell_type": "markdown",
      "metadata": {
        "id": "9t1z-q7TYSAb"
      },
      "source": [
        "Superdense Coding is a method to transmit two classical bits of information by sending only one qubit of information. This is accomplished by pre-sharing an entangled state between the sender and the receiver. This entangled state allows the receiver of the one qubit of information to decode the two classical bits that were originally encoded by the sender."
      ]
    },
    {
      "cell_type": "markdown",
      "metadata": {
        "id": "lk5lRZUzYycF"
      },
      "source": [
        "*Complete example from Cirq*"
      ]
    },
    {
      "cell_type": "code",
      "metadata": {
        "colab": {
          "base_uri": "https://localhost:8080/",
          "height": 331
        },
        "id": "QjgzsbSpYlMx",
        "outputId": "74cebd2b-9b64-4ed8-9901-55f1f06c72f9"
      },
      "source": [
        "def make_superdense_circuit():\n",
        "    circuit = cirq.Circuit()\n",
        "    q0, q1, q2, q3, q4 = cirq.LineQubit.range(5)\n",
        "\n",
        "    # Randomly sets q0 and q1 to either 0 or 1\n",
        "    circuit.append([cirq.H(q0), cirq.H(q1)])\n",
        "    circuit.append(cirq.measure(q0, q1, key=\"input \"))\n",
        "\n",
        "    # Creates Bell State to be shared on q2 and q4\n",
        "    circuit.append([cirq.H(q2), cirq.CNOT(q2, q4)])\n",
        "    # Step 1 of encoding (controlled NOT gate on q1 / q2)\n",
        "    circuit.append(cirq.CNOT(q1, q2))\n",
        "    # Step 2 of encoding (controlled Z gate on q0 / q2)\n",
        "    circuit.append(cirq.CZ(q0, q2))\n",
        "    # Sends encoded information to receiver\n",
        "    circuit.append(cirq.SWAP(q2, q3))\n",
        "    # Step 1 of decoding (controlled NOT gate on q3 and q4)\n",
        "    circuit.append(cirq.CNOT(q3, q4))\n",
        "    # Step 2 of decoding (Hadamard gate on q3)\n",
        "    circuit.append(cirq.H(q3))\n",
        "    # Measurement by receiver to decode bits\n",
        "    circuit.append(cirq.measure(q3, q4, key=\"output\"))\n",
        "\n",
        "    return circuit\n",
        "\n",
        "\n",
        "def main():\n",
        "    circuit = make_superdense_circuit()\n",
        "    print(\"Circuit:\")\n",
        "    print(circuit)\n",
        "\n",
        "    sim = cirq.Simulator()\n",
        "    results = sim.run(circuit, repetitions=20)\n",
        "    print(\"\\nResults:\")\n",
        "    print(results)\n",
        "\n",
        "\n",
        "if __name__ == '__main__':\n",
        "    main()"
      ],
      "execution_count": null,
      "outputs": [
        {
          "output_type": "error",
          "ename": "NameError",
          "evalue": "name 'cirq' is not defined",
          "traceback": [
            "\u001b[0;31m---------------------------------------------------------------------------\u001b[0m",
            "\u001b[0;31mNameError\u001b[0m                                 Traceback (most recent call last)",
            "\u001b[0;32m<ipython-input-1-b2894455c156>\u001b[0m in \u001b[0;36m<cell line: 0>\u001b[0;34m()\u001b[0m\n\u001b[1;32m     37\u001b[0m \u001b[0;34m\u001b[0m\u001b[0m\n\u001b[1;32m     38\u001b[0m \u001b[0;32mif\u001b[0m \u001b[0m__name__\u001b[0m \u001b[0;34m==\u001b[0m \u001b[0;34m'__main__'\u001b[0m\u001b[0;34m:\u001b[0m\u001b[0;34m\u001b[0m\u001b[0;34m\u001b[0m\u001b[0m\n\u001b[0;32m---> 39\u001b[0;31m     \u001b[0mmain\u001b[0m\u001b[0;34m(\u001b[0m\u001b[0;34m)\u001b[0m\u001b[0;34m\u001b[0m\u001b[0;34m\u001b[0m\u001b[0m\n\u001b[0m",
            "\u001b[0;32m<ipython-input-1-b2894455c156>\u001b[0m in \u001b[0;36mmain\u001b[0;34m()\u001b[0m\n\u001b[1;32m     26\u001b[0m \u001b[0;34m\u001b[0m\u001b[0m\n\u001b[1;32m     27\u001b[0m \u001b[0;32mdef\u001b[0m \u001b[0mmain\u001b[0m\u001b[0;34m(\u001b[0m\u001b[0;34m)\u001b[0m\u001b[0;34m:\u001b[0m\u001b[0;34m\u001b[0m\u001b[0;34m\u001b[0m\u001b[0m\n\u001b[0;32m---> 28\u001b[0;31m     \u001b[0mcircuit\u001b[0m \u001b[0;34m=\u001b[0m \u001b[0mmake_superdense_circuit\u001b[0m\u001b[0;34m(\u001b[0m\u001b[0;34m)\u001b[0m\u001b[0;34m\u001b[0m\u001b[0;34m\u001b[0m\u001b[0m\n\u001b[0m\u001b[1;32m     29\u001b[0m     \u001b[0mprint\u001b[0m\u001b[0;34m(\u001b[0m\u001b[0;34m\"Circuit:\"\u001b[0m\u001b[0;34m)\u001b[0m\u001b[0;34m\u001b[0m\u001b[0;34m\u001b[0m\u001b[0m\n\u001b[1;32m     30\u001b[0m     \u001b[0mprint\u001b[0m\u001b[0;34m(\u001b[0m\u001b[0mcircuit\u001b[0m\u001b[0;34m)\u001b[0m\u001b[0;34m\u001b[0m\u001b[0;34m\u001b[0m\u001b[0m\n",
            "\u001b[0;32m<ipython-input-1-b2894455c156>\u001b[0m in \u001b[0;36mmake_superdense_circuit\u001b[0;34m()\u001b[0m\n\u001b[1;32m      1\u001b[0m \u001b[0;32mdef\u001b[0m \u001b[0mmake_superdense_circuit\u001b[0m\u001b[0;34m(\u001b[0m\u001b[0;34m)\u001b[0m\u001b[0;34m:\u001b[0m\u001b[0;34m\u001b[0m\u001b[0;34m\u001b[0m\u001b[0m\n\u001b[0;32m----> 2\u001b[0;31m     \u001b[0mcircuit\u001b[0m \u001b[0;34m=\u001b[0m \u001b[0mcirq\u001b[0m\u001b[0;34m.\u001b[0m\u001b[0mCircuit\u001b[0m\u001b[0;34m(\u001b[0m\u001b[0;34m)\u001b[0m\u001b[0;34m\u001b[0m\u001b[0;34m\u001b[0m\u001b[0m\n\u001b[0m\u001b[1;32m      3\u001b[0m     \u001b[0mq0\u001b[0m\u001b[0;34m,\u001b[0m \u001b[0mq1\u001b[0m\u001b[0;34m,\u001b[0m \u001b[0mq2\u001b[0m\u001b[0;34m,\u001b[0m \u001b[0mq3\u001b[0m\u001b[0;34m,\u001b[0m \u001b[0mq4\u001b[0m \u001b[0;34m=\u001b[0m \u001b[0mcirq\u001b[0m\u001b[0;34m.\u001b[0m\u001b[0mLineQubit\u001b[0m\u001b[0;34m.\u001b[0m\u001b[0mrange\u001b[0m\u001b[0;34m(\u001b[0m\u001b[0;36m5\u001b[0m\u001b[0;34m)\u001b[0m\u001b[0;34m\u001b[0m\u001b[0;34m\u001b[0m\u001b[0m\n\u001b[1;32m      4\u001b[0m \u001b[0;34m\u001b[0m\u001b[0m\n\u001b[1;32m      5\u001b[0m     \u001b[0;31m# Randomly sets q0 and q1 to either 0 or 1\u001b[0m\u001b[0;34m\u001b[0m\u001b[0;34m\u001b[0m\u001b[0m\n",
            "\u001b[0;31mNameError\u001b[0m: name 'cirq' is not defined"
          ]
        }
      ]
    },
    {
      "cell_type": "markdown",
      "metadata": {
        "id": "nPQWnRvwYoTQ"
      },
      "source": [
        "*Step by Step Walkthrough*"
      ]
    },
    {
      "cell_type": "code",
      "metadata": {
        "id": "20Va63288FK9",
        "colab": {
          "base_uri": "https://localhost:8080/",
          "height": 217
        },
        "outputId": "0f4c0222-58d1-4484-d1ca-59d7895e8534"
      },
      "source": [
        "# Create Vanilla Qubits\n",
        "# Named Qubit\n",
        "a = cirq.NamedQubit(\"a\")\n",
        "b = cirq.NamedQubit(\"b\")\n",
        "\n",
        "#Line-Qubit\n",
        "qubits = cirq.LineQubit.range(2)"
      ],
      "execution_count": null,
      "outputs": [
        {
          "output_type": "error",
          "ename": "NameError",
          "evalue": "name 'cirq' is not defined",
          "traceback": [
            "\u001b[0;31m---------------------------------------------------------------------------\u001b[0m",
            "\u001b[0;31mNameError\u001b[0m                                 Traceback (most recent call last)",
            "\u001b[0;32m<ipython-input-2-d11bea0aacec>\u001b[0m in \u001b[0;36m<cell line: 0>\u001b[0;34m()\u001b[0m\n\u001b[1;32m      1\u001b[0m \u001b[0;31m# Create Vanilla Qubits\u001b[0m\u001b[0;34m\u001b[0m\u001b[0;34m\u001b[0m\u001b[0m\n\u001b[1;32m      2\u001b[0m \u001b[0;31m# Named Qubit\u001b[0m\u001b[0;34m\u001b[0m\u001b[0;34m\u001b[0m\u001b[0m\n\u001b[0;32m----> 3\u001b[0;31m \u001b[0ma\u001b[0m \u001b[0;34m=\u001b[0m \u001b[0mcirq\u001b[0m\u001b[0;34m.\u001b[0m\u001b[0mNamedQubit\u001b[0m\u001b[0;34m(\u001b[0m\u001b[0;34m\"a\"\u001b[0m\u001b[0;34m)\u001b[0m\u001b[0;34m\u001b[0m\u001b[0;34m\u001b[0m\u001b[0m\n\u001b[0m\u001b[1;32m      4\u001b[0m \u001b[0mb\u001b[0m \u001b[0;34m=\u001b[0m \u001b[0mcirq\u001b[0m\u001b[0;34m.\u001b[0m\u001b[0mNamedQubit\u001b[0m\u001b[0;34m(\u001b[0m\u001b[0;34m\"b\"\u001b[0m\u001b[0;34m)\u001b[0m\u001b[0;34m\u001b[0m\u001b[0;34m\u001b[0m\u001b[0m\n\u001b[1;32m      5\u001b[0m \u001b[0;34m\u001b[0m\u001b[0m\n",
            "\u001b[0;31mNameError\u001b[0m: name 'cirq' is not defined"
          ]
        }
      ]
    },
    {
      "cell_type": "markdown",
      "metadata": {
        "id": "pbSod7koqiXk"
      },
      "source": [
        "https://medium.com/qiskit/demystifying-superdense-coding-41d46401910e"
      ]
    },
    {
      "cell_type": "markdown",
      "metadata": {
        "id": "sZYteiqUsRV9"
      },
      "source": [
        "*Now adding Pauli X gate to alter outcome*"
      ]
    },
    {
      "cell_type": "code",
      "metadata": {
        "id": "2FZm_6jgsHAg"
      },
      "source": [
        "# Define operations\n",
        "ops=[cirq.H(a), # Superposition\n",
        "     cirq.CNOT(a,b), # Entanglement\n",
        "     cirq.X(a), # Pauli X gate -> changes outcome from 00 to 01\n",
        "     cirq.CNOT(a,b),\n",
        "     cirq.H(a),\n",
        "     cirq.measure(a,b)] # Measurement\n",
        "\n",
        "# Build circuit\n",
        "circuit=cirq.Circuit(ops)\n",
        "\n",
        "print(circuit)"
      ],
      "execution_count": null,
      "outputs": []
    },
    {
      "cell_type": "code",
      "metadata": {
        "id": "S1-1MAVyuUtB"
      },
      "source": [
        "simulator = cirq.Simulator()\n",
        "result = simulator.run(circuit,repetitions=100)\n",
        "print('Measurement results')\n",
        "print(result)"
      ],
      "execution_count": null,
      "outputs": []
    },
    {
      "cell_type": "code",
      "metadata": {
        "id": "-kXujiebsaoS"
      },
      "source": [
        "# Visualization\n",
        "# After doing that, you should see the quantum state become ∣00⟩+∣11⟩\n",
        "_ = cirq.vis.plot_state_histogram(result) #, plt.subplot())\n",
        "# https://quantumai.google/cirq/tutorials/state_histograms"
      ],
      "execution_count": null,
      "outputs": []
    },
    {
      "cell_type": "code",
      "metadata": {
        "id": "BYnYC_jRsdau"
      },
      "source": [
        "result.histogram(key=\"a,b\")"
      ],
      "execution_count": null,
      "outputs": []
    },
    {
      "cell_type": "markdown",
      "source": [
        "###### *QFT-based Subroutine: Deutsch–Jozsa</font>*"
      ],
      "metadata": {
        "id": "vxftXa35oKkB"
      }
    },
    {
      "cell_type": "markdown",
      "source": [
        "https://richardwang-qm.medium.com/cirq-programming-3-the-deutsch-jozsa-bdc31982f187"
      ],
      "metadata": {
        "id": "JvD1MDpmehqg"
      }
    },
    {
      "cell_type": "markdown",
      "metadata": {
        "id": "Pw6485Ph9chE"
      },
      "source": [
        "https://jonathan-hui.medium.com/qc-quantum-algorithm-with-an-example-cf22c0b1ec31"
      ]
    },
    {
      "cell_type": "markdown",
      "metadata": {
        "id": "iOoBIJc1G6fx"
      },
      "source": [
        "Allgemein Oracel: https://towardsdatascience.com/the-quantum-oracle-demystified-65e8ffebd5d5"
      ]
    },
    {
      "cell_type": "markdown",
      "metadata": {
        "id": "0nwYZgYLxVWY"
      },
      "source": [
        "> Constant or balanced?\n",
        "\n",
        "* nutzt Quantum Fourier Transform"
      ]
    },
    {
      "cell_type": "markdown",
      "metadata": {
        "id": "E-K_XyerNrQz"
      },
      "source": [
        "There are four different possible functions:\n",
        "* Function f_0 always returns 0.\n",
        "* Function f_1 returns 0 if the input is 0 and it returns 1 if the input is 1.\n",
        "* Function f_2 returns 1 if the input is 0 and it returns 0 if the input is 1.\n",
        "* Function f_3 always returns 1.\n",
        "\n",
        "Task:\n",
        "* Send a number of several numbers to determine, if the function is a constant or a balanced?\n",
        "* f_0 und f_3 constant, f_1 und f_2 balanced\n",
        "* classical needs at least 2 numbers (0,1), quantum needs just 1 number to solve this"
      ]
    },
    {
      "cell_type": "markdown",
      "metadata": {
        "id": "lPY2GqiBbr-g"
      },
      "source": [
        "https://towardsdatascience.com/how-to-solve-a-problem-with-quantum-computing-4b04f3f882d9"
      ]
    },
    {
      "cell_type": "markdown",
      "metadata": {
        "id": "RZS4TVTytrgi"
      },
      "source": [
        "https://qiskit.org/textbook/ch-algorithms/deutsch-jozsa.html"
      ]
    },
    {
      "cell_type": "markdown",
      "metadata": {
        "id": "Gc0bGeLfgqjM"
      },
      "source": [
        "https://medium.com/quantum-untangled/quantum-untangled-quantum-computing-deutsch-jozsa-algorithm-guide-untangled-27adf4205913"
      ]
    },
    {
      "cell_type": "markdown",
      "metadata": {
        "id": "UkToXMWXgoNf"
      },
      "source": [
        "https://medium.com/quantum-untangled/the-deutsch-jozsa-algorithm-math-circuits-and-code-quantum-algorithms-untangled-f3b28be4cfd3"
      ]
    },
    {
      "cell_type": "markdown",
      "metadata": {
        "id": "06rwZsB6qbK6"
      },
      "source": [
        "https://en.m.wikipedia.org/wiki/Deutsch–Jozsa_algorithm"
      ]
    },
    {
      "cell_type": "markdown",
      "metadata": {
        "id": "rs29mGrUqi_-"
      },
      "source": [
        "###### *QFT-based Subroutine: Bernstein–Vazirani algorithm*"
      ]
    },
    {
      "cell_type": "markdown",
      "metadata": {
        "id": "tTd5Xyqp1ci5"
      },
      "source": [
        "> What is a string?"
      ]
    },
    {
      "cell_type": "markdown",
      "metadata": {
        "id": "3MHKCxMUqkZc"
      },
      "source": [
        "https://en.m.wikipedia.org/wiki/Bernstein–Vazirani_algorithm"
      ]
    },
    {
      "cell_type": "markdown",
      "metadata": {
        "id": "ocVJfp-tqdyb"
      },
      "source": [
        "###### *QFT-based Subroutine: Simon's problem*"
      ]
    },
    {
      "cell_type": "markdown",
      "metadata": {
        "id": "u2ndKgQk61Nd"
      },
      "source": [
        "https://jonathan-hui.medium.com/qc-simons-algorithm-be570a40f6de"
      ]
    },
    {
      "cell_type": "markdown",
      "metadata": {
        "id": "36gbhuaO1dhH"
      },
      "source": [
        "> 1-1 or 2-1 ?"
      ]
    },
    {
      "cell_type": "markdown",
      "metadata": {
        "id": "iTpg-Zg7qfPk"
      },
      "source": [
        "https://en.m.wikipedia.org/wiki/Simon%27s_problem"
      ]
    },
    {
      "cell_type": "markdown",
      "metadata": {
        "id": "3aoRKTTAkZx5"
      },
      "source": [
        "###### *Boson sampling problem ('Aaronson–Arkiphov Scheme')*"
      ]
    },
    {
      "cell_type": "markdown",
      "metadata": {
        "id": "ZiKJxdJZkc4o"
      },
      "source": [
        "https://www.nature.com/articles/d41586-020-03434-7"
      ]
    },
    {
      "cell_type": "markdown",
      "metadata": {
        "id": "CKKGAvUmkeku"
      },
      "source": [
        "The Hefei team, led by Pan and Chao-Yang Lu, chose a different problem for its demonstration, called boson sampling. It was devised in 2011 by two computer scientists, Scott Aaronson and Alex Arkhipov4, then at the Massachusetts Institute of Technology in Cambridge. It entails calculating the probability distribution of many bosons — a category of fundamental particle that includes photons — whose quantum waves interfere with one another in a way that essentially randomizes the position of the particles. The probability of detecting a boson at a given position can be calculated from an equation in many unknowns."
      ]
    },
    {
      "cell_type": "markdown",
      "metadata": {
        "id": "F_3QftqpEmsd"
      },
      "source": [
        "###### *Quantum Monte Carlo*"
      ]
    },
    {
      "cell_type": "markdown",
      "source": [
        "https://arxiv.org/pdf/2106.16235.pdf"
      ],
      "metadata": {
        "id": "vpKDJNz_6xhL"
      }
    },
    {
      "cell_type": "markdown",
      "source": [
        "https://en.m.wikipedia.org/wiki/Variational_Monte_Carlo"
      ],
      "metadata": {
        "id": "PXat9GOo6bSl"
      }
    },
    {
      "cell_type": "markdown",
      "source": [
        "https://en.m.wikipedia.org/wiki/Quantum_Monte_Carlo"
      ],
      "metadata": {
        "id": "0cmeuAkev2QB"
      }
    },
    {
      "cell_type": "markdown",
      "source": [
        "https://en.m.wikipedia.org/wiki/Time-dependent_variational_Monte_Carlo"
      ],
      "metadata": {
        "id": "3WK4pfOCNwZp"
      }
    },
    {
      "cell_type": "markdown",
      "metadata": {
        "id": "9C5IqMewmqvJ"
      },
      "source": [
        "... (Monte Carlo, Quantum Chemistry, Materials Science and more)\n"
      ]
    },
    {
      "cell_type": "markdown",
      "metadata": {
        "id": "v9oj31u2uBvJ"
      },
      "source": [
        "*Quantum Simulators*"
      ]
    },
    {
      "cell_type": "markdown",
      "metadata": {
        "id": "fD1TTtBFuX6o"
      },
      "source": [
        "https://en.wikipedia.org/wiki/Quantum_chemistry"
      ]
    },
    {
      "cell_type": "markdown",
      "metadata": {
        "id": "DvCrZR0vlcG2"
      },
      "source": [
        "https://en.m.wikipedia.org/wiki/Quantum_simulator"
      ]
    },
    {
      "cell_type": "markdown",
      "metadata": {
        "id": "1KymXaJ7mnTc"
      },
      "source": [
        "https://de.wikipedia.org/wiki/Quantensimulation"
      ]
    },
    {
      "cell_type": "markdown",
      "metadata": {
        "id": "fZ1N5r4amWH7"
      },
      "source": [
        "quantum chemistry: https://www.youtube.com/watch?v=2XEjrwWhr88"
      ]
    },
    {
      "cell_type": "markdown",
      "metadata": {
        "id": "gpYdUEg-mYCo"
      },
      "source": [
        "How is Quantum Phase Estimation applied to Quantum Chemistry calculations: in Quantum Chemistry you are interested in dynamics = time evolution. QPE is helping us to ...so Hamiltonian dynamics is unitary, and so you can use that unitary that comes from your Hamiltonian to do simulations in chemistry."
      ]
    },
    {
      "cell_type": "markdown",
      "metadata": {
        "id": "i2-RMwUuqzGx"
      },
      "source": [
        "* Many important problems in physics, especially [low-temperature physics](https://en.m.wikipedia.org/wiki/Thermodynamics) and [many-body physics](https://en.m.wikipedia.org/wiki/Many-body_theory), remain poorly understood because the underlying quantum mechanics is vastly complex. See also [Condensed_matter_physics](https://en.m.wikipedia.org/wiki/Condensed_matter_physics) (incl. crystallography etc)\n",
        "\n",
        "* Conventional computers, including supercomputers, are inadequate for simulating quantum systems with as few as 30 particles. Better computational tools are needed to understand and **rationally design materials whose properties are believed to depend on the collective quantum behavior of hundreds of particles**.\n",
        "\n",
        "* Quantum simulators provide an alternative route to understanding the properties of these systems. These simulators create clean realizations of specific systems of interest, which allows precise realizations of their properties. Precise control over and broad tunability of parameters of the system allows the influence of various parameters to be cleanly disentangled.\n",
        "\n",
        "* Quantum simulators can solve problems which are difficult to simulate on classical computers **because they directly exploit quantum properties of real particles**. In particular, they exploit a property of quantum mechanics called superposition, wherein a quantum particle is made to be in two distinct states at the same time, for example, aligned and anti-aligned with an external magnetic field. Crucially, simulators also take advantage of a second quantum property called entanglement, allowing the behavior of even physically well separated particles to be correlated.\n",
        "\n"
      ]
    },
    {
      "cell_type": "markdown",
      "metadata": {
        "id": "B30zKlfExubw"
      },
      "source": [
        "*Stochastic Processes and Monte Carlo Simulations*"
      ]
    },
    {
      "cell_type": "markdown",
      "metadata": {
        "id": "T_S7MPwEAd-y"
      },
      "source": [
        "https://en.m.wikipedia.org/wiki/Quantum_Monte_Carlo"
      ]
    },
    {
      "cell_type": "markdown",
      "metadata": {
        "id": "dzPdRNc2uek7"
      },
      "source": [
        "https://en.wikipedia.org/wiki/Quantum_Markov_chain"
      ]
    },
    {
      "cell_type": "markdown",
      "metadata": {
        "id": "Ckq3JlcWxi1Z"
      },
      "source": [
        "https://www.nature.com/articles/s41534-021-00459-2"
      ]
    },
    {
      "cell_type": "markdown",
      "metadata": {
        "id": "kxFndYqHowue"
      },
      "source": [
        "Quantum Gaussian Process Algorithm (QGPA): https://arxiv.org/pdf/1803.10520.pdf"
      ]
    },
    {
      "cell_type": "markdown",
      "metadata": {
        "id": "2wBpVSdgtZBO"
      },
      "source": [
        "*Hybrid: Variational quantum eigensolver (i.e. Protein Folding)*"
      ]
    },
    {
      "cell_type": "markdown",
      "metadata": {
        "id": "YJV2mvPKpfdI"
      },
      "source": [
        "The VQE algorithm applies classical optimization to minimize the energy expectation of an ansatz state to find the ground state energy of a molecule. This can also be extended to find excited energies of molecules."
      ]
    },
    {
      "cell_type": "markdown",
      "metadata": {
        "id": "xC5SoRI7o9t6"
      },
      "source": [
        "*Optimization: simulations for material science and quantum chemistry, factoring numbers*"
      ]
    },
    {
      "cell_type": "markdown",
      "metadata": {
        "id": "gtH3w-sfyguE"
      },
      "source": [
        "* Known as variational quantum algorithms, they use the quantum boxes to manipulate quantum systems while shifting much of the work load to classical computers to let them do what they currently do best: solve optimization problems.\n",
        "\n",
        "* \"With variational quantum algorithms, we get the best of both worlds. We can harness the power of quantum computers for tasks that classical computers can't do easily, then use classical computers to compliment the computational power of quantum devices.\"\n",
        "\n",
        "* The algorithms are called variational because the optimization process varies the algorithm on the fly, as a kind of machine learning. It changes parameters and logic gates to minimize a cost function, which is a mathematical expression that measures how well the algorithm has performed the task. The problem is solved when the cost function reaches its lowest possible value.\n",
        "\n",
        "* In an iterative function in the variational quantum algorithm, the quantum computer estimates the cost function, then passes that result back to the classical computer. The classical computer then adjusts the input parameters and sends them to the quantum computer, which runs the optimization again.\n",
        "\n"
      ]
    },
    {
      "cell_type": "markdown",
      "metadata": {
        "id": "TqCzs1R-yjOc"
      },
      "source": [
        "https://phys-org.cdn.ampproject.org/c/s/phys.org/news/2021-08-algorithms-small-noisy-quantum-viable.amp"
      ]
    },
    {
      "cell_type": "markdown",
      "metadata": {
        "id": "0_w5kg67zuXu"
      },
      "source": [
        "https://www.nature.com/articles/s42254-021-00348-9"
      ]
    },
    {
      "cell_type": "markdown",
      "metadata": {
        "id": "3iToZ6UmowRZ"
      },
      "source": [
        "*Resource-efficient quantum algorithm for protein folding*"
      ]
    },
    {
      "cell_type": "markdown",
      "metadata": {
        "id": "aIvCGgqvoooS"
      },
      "source": [
        "* Rather than spend computational resources checking each possible fold of a protein, the quantum approach encodes the superposition of all physically meaningful ways of folding the protein into a model Hamiltonian. Then it samples these combinations statistically to find the series of folds that are the most stable.\n",
        "\n",
        "* “Everything in our body wants to be in the minimum free-energy configuration,” said Barkoutsos. “It is the most stable. And we generally say in nature — in our bodies — the most stable is the winning configuration.”\n",
        "With this approach, the researchers simulated the folding of a 10-amino acid chain called Angiotensin with a 22 qubit quantum simulator, and a seven-amino acid neuropeptide on a 20-qubit quantum computer.\n",
        "Multipurpose, open-source code\n",
        "\n",
        "* This work relied on a modified Variational Quantum Eigensolver (VQE) algorithm, a major optimization tool in the quantum arsenal, drawn from the Qiskit Application Module.\n",
        "\n",
        "* To suit their needs, the team modified the VQE to sample only the parts of the data relevant to the problem, producing a tool they called a Conditional Value-at-Risk (CVaR) VQE. In line with IBM Quantum’s open-source ethos, this tool is now available to the Qiskit community as of the latest Qiskit Nature release."
      ]
    },
    {
      "cell_type": "markdown",
      "metadata": {
        "id": "xnHRiqZvotoe"
      },
      "source": [
        "https://medium.com/qiskit/a-novel-quantum-algorithm-for-protein-folding-paving-the-way-toward-resolving-one-of-the-biggest-861112139ff0"
      ]
    },
    {
      "cell_type": "markdown",
      "metadata": {
        "id": "_P7cvzfNoyyZ"
      },
      "source": [
        "https://www.nature.com/articles/s41534-021-00368-4"
      ]
    },
    {
      "cell_type": "markdown",
      "metadata": {
        "id": "uYQVihuXzx6u"
      },
      "source": [
        "###### ***Variational Eigensolver***"
      ]
    },
    {
      "cell_type": "markdown",
      "source": [
        "###### *Compute Ground State of Hydrogen Molecule $H_2$*"
      ],
      "metadata": {
        "id": "Etz7GFSqKGw7"
      }
    },
    {
      "cell_type": "markdown",
      "source": [
        "Variational Quantum Eigensolver (VQE) for Quantum Molecule Simulation"
      ],
      "metadata": {
        "id": "CWp9iiwv2bhF"
      }
    },
    {
      "cell_type": "markdown",
      "metadata": {
        "id": "uwad0OnHJwo_"
      },
      "source": [
        "###### *Physics: Variational Principle*"
      ]
    },
    {
      "cell_type": "markdown",
      "source": [
        "> Variational Methods: exist for approaching the ground state energy of a system"
      ],
      "metadata": {
        "id": "vzqG9Q4XyyXz"
      }
    },
    {
      "cell_type": "markdown",
      "source": [
        "Video: [Variational Methods | Quantum Mechanics](https://youtu.be/w4ijyrdLbNA)"
      ],
      "metadata": {
        "id": "6VXpqZ5nl7Rr"
      }
    },
    {
      "cell_type": "markdown",
      "metadata": {
        "id": "3UZvYf8qo901"
      },
      "source": [
        "https://en.m.wikipedia.org/wiki/Many-body_problem"
      ]
    },
    {
      "cell_type": "markdown",
      "metadata": {
        "id": "jIbVYnnHoVWl"
      },
      "source": [
        "In science and especially in mathematical studies, a [variational principle](https://en.m.wikipedia.org/wiki/Variational_principle) is one that enables a problem to be solved using calculus of variations, which concerns finding functions that optimize the values of quantities that depend on those functions."
      ]
    },
    {
      "cell_type": "markdown",
      "metadata": {
        "id": "l9es1qLwnZDC"
      },
      "source": [
        "In [quantum mechanics, the variational method](https://en.m.wikipedia.org/wiki/Variational_method_(quantum_mechanics)) is one way of finding approximations to the lowest energy eigenstate or ground state, and some excited states. This allows calculating approximate wavefunctions such as molecular orbitals. The basis for this method is the variational principle.\n",
        "\n",
        "  * The method consists of choosing a \"trial wavefunction\" depending on one or more parameters, and finding the values of these parameters for which the expectation value of the energy is the lowest possible.\n",
        "  \n",
        "  * The wavefunction obtained by fixing the parameters to such values is then an approximation to the ground state wavefunction, and the expectation value of the energy in that state is an upper bound to the ground state energy. **The [Hartree–Fock method](https://en.m.wikipedia.org/wiki/Hartree%E2%80%93Fock_method), [Density matrix renormalization group](https://en.m.wikipedia.org/wiki/Density_matrix_renormalization_group), and [Ritz method](https://en.m.wikipedia.org/wiki/Ritz_method) apply the variational method**.\n",
        "\n",
        "  * This principle relies on the fact that a Hermitian is equal to its own conjugate transpose (ie 𝐻=𝐻†), and since any eigenvalue of H must be real, all eigenvalues of 𝐻 have the property of 𝜆𝑖=𝜆∗."
      ]
    },
    {
      "cell_type": "markdown",
      "metadata": {
        "id": "fSZoNuemFMMs"
      },
      "source": [
        "https://qiskit.org/textbook/ch-applications/vqe-molecules.html"
      ]
    },
    {
      "cell_type": "markdown",
      "metadata": {
        "id": "b6j7ta94ZArN"
      },
      "source": [
        "https://medium.com/qiskit/building-a-quantum-variational-classifier-using-real-world-data-809c59eb17c2"
      ]
    },
    {
      "cell_type": "markdown",
      "metadata": {
        "id": "HN-gQVfsYhCT"
      },
      "source": [
        "https://pennylane.ai/qml/demos/tutorial_vqe.html"
      ]
    },
    {
      "cell_type": "markdown",
      "metadata": {
        "id": "lIso4Kx4a1ib"
      },
      "source": [
        "https://arxiv.org/abs/2012.09265"
      ]
    },
    {
      "cell_type": "markdown",
      "metadata": {
        "id": "Bs3OuOkNZsJ6"
      },
      "source": [
        "https://pennylane.ai/qml/demos/tutorial_quantum_natural_gradient.html"
      ]
    },
    {
      "cell_type": "markdown",
      "metadata": {
        "id": "uwFvJMygZt3U"
      },
      "source": [
        "https://pennylane.ai/qml/glossary/variational_circuit.html#glossary-variational-circuit"
      ]
    },
    {
      "cell_type": "markdown",
      "metadata": {
        "id": "6bAp8yN2ZvxP"
      },
      "source": [
        "https://pennylane.ai/qml/glossary/parameter_shift.html"
      ]
    },
    {
      "cell_type": "markdown",
      "metadata": {
        "id": "2WftQLDoZ2gL"
      },
      "source": [
        "https://de.wikipedia.org/wiki/Downhill-Simplex-Verfahren"
      ]
    },
    {
      "cell_type": "markdown",
      "metadata": {
        "id": "KEpc9rMfxC7l"
      },
      "source": [
        "###### *Mathematics: Variational Eigensolvers*"
      ]
    },
    {
      "cell_type": "markdown",
      "metadata": {
        "id": "0JB_bEi_jQO4"
      },
      "source": [
        "> Model different molecules and how they interact together\n",
        "\n",
        "* **Objective**: create new, more effective medicines along with researching how medications might react with diseases such as cancer.\n",
        "\n",
        "* **Challenge**: effectively make the calculations needed for the chemical reactions that occur.\n",
        "\n",
        "  * One such calculation is **calculating the ground state energy of different small molecules**.\n",
        "\n",
        "  * Running this calculation on a classical computer can take exponential time to get an exact numerical answer.\n",
        "\n",
        "\n",
        "* *Exkurs: The [ground state energy](https://en.wikipedia.org/wiki/Excited_state) is the lowest possible energy state that a molecule can be in. This is important because it gives more information about the electron configuration of the molecule.*\n",
        "\n",
        "![gg](https://upload.wikimedia.org/wikipedia/commons/thumb/a/a8/Energy_levels.svg/306px-Energy_levels.svg.png)\n"
      ]
    },
    {
      "cell_type": "markdown",
      "metadata": {
        "id": "LiqkS33cksH0"
      },
      "source": [
        "**From chemistry and physics we know that the Schrodinger equation tells us that if $H$ is the Hamiltonian of a system, $H|ψ⟩ = E_g|ψ⟩$ where the minimum eigenvalue $E_g$ that solves this equation corresponds to the ground state energy of the molecule**.\n",
        "\n",
        "* To find this energy, we want to **find the exact minimum eigenvalue** that corresponds to that Hermitian matrix.\n",
        "\n",
        "* However that **would require a perfectly working quantum computer using the QPE (Quantum Phase Estimation Algorithm)**, which is not possible as of right now.\n",
        "\n",
        "* Rather, we can use the [variational principle](https://en.wikipedia.org/wiki/Variational_principle) to find a close, if not exact solution.\n",
        "\n",
        "\n",
        "\n",
        "\n"
      ]
    },
    {
      "cell_type": "markdown",
      "metadata": {
        "id": "27hAQiw0pl5c"
      },
      "source": [
        "This principle relies on the fact that a Hermitian is equal to its own conjugate transpose (ie 𝐻=𝐻†),\n",
        "\n",
        "* and since any eigenvalue of H must be real, all eigenvalues of 𝐻 have the property of 𝜆𝑖=𝜆∗.\n",
        "\n",
        "* We can rewrite the Hermitian as follows, where 𝜆 is the eigenvalue associated with the eigenvector |𝜓_i⟩\n",
        "\n",
        "> $H=\\sum_{i=1}^{N} \\lambda_{i}\\left|\\psi_{i}\\right\\rangle\\left\\langle\\psi_{i}\\right|$\n",
        "\n",
        "* which we can then use to define the expectation of this Hermitian as\n",
        "\n",
        "> $\\langle H\\rangle_{\\psi} \\equiv\\langle\\psi|H| \\psi\\rangle$\n",
        "\n",
        "* And finally we can substitute in for $H$ and get the following\n",
        "\n",
        "> $\\begin{aligned}\\langle H\\rangle_{\\psi}=\\langle\\psi|H| \\psi\\rangle &=\\left\\langle\\psi\\left|\\left(\\sum_{i=1}^{N} \\lambda_{i}\\left|\\psi_{i}\\right\\rangle\\left\\langle\\psi_{i}\\right|\\right)\\right| \\psi\\right\\rangle \\\\ &=\\sum_{i=1}^{N} \\lambda_{i}\\left\\langle\\psi \\mid \\psi_{i}\\right\\rangle\\left\\langle\\psi_{i} \\mid \\psi\\right\\rangle \\\\ &=\\sum_{i=1}^{N} \\lambda_{i}\\left|\\left\\langle\\psi_{i} \\mid \\psi\\right\\rangle\\right|^{2} \\end{aligned}$\n",
        "\n",
        "* which demonstrates that **any state can be described using a sum of the eigenvalues of the Hermitian as weights**.\n",
        "\n",
        "* One final property of the Hermitian is what truly allows the variational principle to work is that the eigenvalues of it have to be real, non-negative numbers, such that\n",
        "\n",
        "> $\\lambda_{\\min } \\leq\\langle H\\rangle_{\\psi}=\\langle\\psi|H| \\psi\\rangle$\n",
        "\n",
        "* And this equation is what gives power to the Variational Quantum Eigensolver.\n",
        "\n",
        "> **Since the minimum eigenvalue can never be smaller than the expectation value that we are looking for, then by minimizing our expectation, we will get really close to the minimum eigenvalue**."
      ]
    },
    {
      "cell_type": "markdown",
      "metadata": {
        "id": "_vEB311no4HD"
      },
      "source": [
        "https://medium.com/mit-6-s089-intro-to-quantum-computing/quantum-molecule-simulation-using-vqe-d34b9c651e3d"
      ]
    },
    {
      "cell_type": "markdown",
      "source": [
        "###### *Summary*"
      ],
      "metadata": {
        "id": "xxW3BUetjgJc"
      }
    },
    {
      "cell_type": "markdown",
      "source": [
        "**Tutorial** from [Pennylane: A brief overview of VQE](https://pennylane.ai/qml/demos/tutorial_vqe.html)"
      ],
      "metadata": {
        "id": "iUF_DCN07CHE"
      }
    },
    {
      "cell_type": "markdown",
      "source": [
        "**Alternative Tutorial** [Variational Quantum Eigensolver (VQE) Example](https://joshuagoings.com/2020/08/20/VQE/)"
      ],
      "metadata": {
        "id": "TcnG4ANJornW"
      }
    },
    {
      "cell_type": "markdown",
      "source": [
        "**Video: [How to design a quantum variational eigensolver?](https://www.youtube.com/watch?v=bwmLfxelwUA)**"
      ],
      "metadata": {
        "id": "CaXDDarUHAG8"
      }
    },
    {
      "cell_type": "markdown",
      "source": [
        "**Video: [Quantum Variational Eigensolver](https://www.youtube.com/watch?v=UBkb54_MOLo)**"
      ],
      "metadata": {
        "id": "bYxhGomMBEBd"
      }
    },
    {
      "cell_type": "markdown",
      "source": [
        "**Objective:** Find the ground state of some Hamiltonian (for example solving for the ground states of some molecule)"
      ],
      "metadata": {
        "id": "vBIIu-3KiCA6"
      }
    },
    {
      "cell_type": "markdown",
      "source": [
        "**You could actually use Quantum Phase Estimation (it is exact!), but there are two problems**:\n",
        "\n",
        "* you need an accurate approximate wavefunction as an input\n",
        "\n",
        "* The number of gates represent the unitary operator\n",
        "\n",
        "> $U=e^{i t \\hat{H}} \\approx \\prod_{j} U_{j}^{(g)}$\n",
        "\n",
        "  * Quantum computers cannot implement exponents of hamiltonian as one gate for interesting problems,\n",
        "\n",
        "  * you need to break this unitary transformation into a product of elementary gates,\n",
        "\n",
        "  * a sequence of those gates becomes too long to implement on any currently available computer"
      ],
      "metadata": {
        "id": "8OVvx_k6Ax2S"
      }
    },
    {
      "cell_type": "markdown",
      "source": [
        "**In order to address two of these problems the variational quantum eigensolver was suggested**\n",
        "\n",
        "> $\\mathrm{E}_{\\mathrm{e}}=\\min _{\\theta}<0\\left|\\mathrm{U}(\\theta)^{\\prime} \\mathrm{HU}(\\theta)\\right| 0>$\n",
        "\n",
        "* trying to optimize the unitary transformation directly so that the energy would be minimized,\n",
        "\n",
        "* instead of (like in QPE) setting up a particular unitary transformation and then breaking it donw into gates\n",
        "\n",
        "* quantum/classical hybrid algorithm that can be used to find eigenvalues of a (often large) matrix H\n",
        "\n",
        "* In this hybrid algorithm a quantum subroutine is run inside of a classical optimization loop."
      ],
      "metadata": {
        "id": "iOhY3aRzA2F4"
      }
    },
    {
      "cell_type": "markdown",
      "source": [
        "**General Structure**:\n",
        "\n",
        "1. quantum computer efficiently computes cost function (Hamiltonian, energy) and sends cost to classical computer\n",
        "\n",
        "  * Prepare the quantum state $|\\Psi(\\operatorname{vec}(\\theta))\\rangle$, often called the ansatz.\n",
        "\n",
        "  * Measure the expectation value $\\langle\\Psi(\\operatorname{vec}(\\theta))|H| \\Psi(\\operatorname{vec}(\\theta))\\rangle$ = cost function = Hamiltonian, energy\n",
        "\n",
        "2. Classical computer adjusts the parameters of the Ansatz to reduce cost and sends new parameters to quantum computer"
      ],
      "metadata": {
        "id": "J5xEa_zwhk8K"
      }
    },
    {
      "cell_type": "markdown",
      "source": [
        "*The [variational principle](https://en.wikipedia.org/wiki/Variational_method_(quantum_mechanics)) ensures that this expectation value is always greater than the smallest eigenvalue of H.*\n",
        "\n",
        "*This bound allows us to use classical computation to run an optimization loop to find this eigenvalue:*\n",
        "\n",
        "* *Use a classical non-linear optimizer to minimize the expectation value by varying ansatz parameters vec(θ).*\n",
        "\n",
        "* *Iterate until convergence.*"
      ],
      "metadata": {
        "id": "KGMe-zM8mFo9"
      }
    },
    {
      "cell_type": "markdown",
      "source": [
        "**Challenges**:\n",
        "\n",
        "* Unitary transformation $U (\\theta)$ is not easy to find because it lives in an exponentially larege space of all possible unitary trransformations\n",
        "\n",
        "* Entire $H_q$ measurement cannot be done at once, you partition the Hamiltonian in pieces which you need to measure separately\n",
        "\n",
        "* The Hilbert space of the qubit Hamiltonian $H_q$ is essentially equivalent to the entire Fock space of the original problem, that contains various electronic states (vraious numbers of electrons, spins etc), and looking for one particular electronic state would be challenging"
      ],
      "metadata": {
        "id": "CvYH-uFMA_AZ"
      }
    },
    {
      "cell_type": "markdown",
      "source": [
        "**Examples**\n",
        "\n",
        "* There are many applications for this, for example for electronic structure but also for nuclear structure\n",
        "\n",
        "* For example in one paper they solve for the ground state of the deuterum Hamiltonian, starting with the fermionic hamiltonian,\n",
        "\n",
        "> $H_{N}=\\sum_{n, n^{\\prime}=0}^{N-1}\\left\\langle n^{\\prime}|(T+V)| n\\right\\rangle a_{n^{\\prime}}^{\\dagger} a_{n}$\n",
        "\n",
        "* they then transform it into Pauli operators\n",
        "\n",
        "> $a_{n}^{\\dagger} \\rightarrow \\frac{1}{2}\\left[\\prod_{j=0}^{n-1}-Z_{j}\\right]\\left(X_{n}-i Y_{n}\\right)$ (Jordan Wigner transformation)\n",
        "\n",
        "* And then they have a simple ansatz for the ground state, and then they train the parameters of this Ansatz in order to solve for the ground state energy\n",
        "\n",
        "* And they find good agreement bvetween the ground state energy from the quantum computer versus the one they get from the exact classical diagonalization"
      ],
      "metadata": {
        "id": "En6N023wG5ng"
      }
    },
    {
      "cell_type": "markdown",
      "metadata": {
        "id": "jZsI8tEJE71Z"
      },
      "source": [
        "###### *Variational Quantum Algorithms*"
      ]
    },
    {
      "cell_type": "markdown",
      "source": [
        "\n",
        "https://quantumai.google/cirq/experiments/hfvqe\n",
        "\n",
        "https://quantumai.google/cirq/tutorials/variational_algorithm"
      ],
      "metadata": {
        "id": "yX_yESdxWp7w"
      }
    },
    {
      "cell_type": "markdown",
      "metadata": {
        "id": "mchK5ds1ZyZ0"
      },
      "source": [
        "Arxiv Paper: [Variational Quantum Algorithms](https://arxiv.org/abs/2012.09265)"
      ]
    },
    {
      "cell_type": "markdown",
      "metadata": {
        "id": "4Y91QHCl4SbN"
      },
      "source": [
        "![ggg](https://raw.githubusercontent.com/deltorobarba/repo/master/quantum_187.png)"
      ]
    },
    {
      "cell_type": "markdown",
      "metadata": {
        "id": "I2CYVzIK4kZ4"
      },
      "source": [
        "Source: [Variational Quantum Algorithms](https://www.youtube.com/watch?v=YtepXvx5zdI)"
      ]
    },
    {
      "cell_type": "markdown",
      "metadata": {
        "id": "rKgoHa655aMo"
      },
      "source": [
        "###### *Ansatz*"
      ]
    },
    {
      "cell_type": "markdown",
      "metadata": {
        "id": "IUM1pav6UCc8"
      },
      "source": [
        "how noise can influence which ansatz family is best for a quantum chemistry problem: https://medium.com/qiskit/the-effect-of-noise-on-the-performance-of-variational-algorithms-for-quantum-chemistry-9cac4526abc1"
      ]
    },
    {
      "cell_type": "markdown",
      "metadata": {
        "id": "6mymJlxS5ksj"
      },
      "source": [
        "> In the context of variational circuits, an ansatz usually describes a subroutine consisting of a sequence of gates applied to specific wires. Similar to the architecture of a neural network, this only defines the base structure, while the types of gates and/or their free parameters can be optimized by the variational procedure."
      ]
    },
    {
      "cell_type": "markdown",
      "source": [
        "**One can distinguish three different base structures, namely**\n",
        "\n",
        "* a layered gate ansatz,\n",
        "\n",
        "* an alternating operator ansatz,\n",
        "\n",
        "* a tensor network ansatz."
      ],
      "metadata": {
        "id": "IYSjeVDOzbi2"
      }
    },
    {
      "cell_type": "markdown",
      "metadata": {
        "id": "bD06mqeD6X6q"
      },
      "source": [
        "**The ansatz can come from:**\n",
        "\n",
        "- Some basis in physics, chemistry, or quantum information theory (e.g., VQE)\n",
        "- The structure of the problem (e.g., QAOA)\n",
        "- Intuition borrowed from machine learning\n",
        "- No place at all (use your imagination!)\n",
        "\n"
      ]
    },
    {
      "cell_type": "markdown",
      "source": [
        "> The choice of ansatz affects the model/function that can be learned (more layers often better)"
      ],
      "metadata": {
        "id": "FEgNj0N2ziJr"
      }
    },
    {
      "cell_type": "markdown",
      "metadata": {
        "id": "pbmcwRVf5pYs"
      },
      "source": [
        "https://pennylane.ai/qml/glossary/circuit_ansatz.html\n",
        "\n",
        "https://medium.com/arnaldo-gunzi-quantum/what-is-ansatz-31e682b0518b"
      ]
    },
    {
      "cell_type": "markdown",
      "metadata": {
        "id": "Kpjg59I95eC1"
      },
      "source": [
        "![ggg](https://raw.githubusercontent.com/deltorobarba/repo/master/quantum_188.png)"
      ]
    },
    {
      "cell_type": "markdown",
      "metadata": {
        "id": "tviO07jk55fa"
      },
      "source": [
        "https://en.m.wikipedia.org/wiki/Ansatz"
      ]
    },
    {
      "cell_type": "markdown",
      "metadata": {
        "id": "RrXigHIY580L"
      },
      "source": [
        "https://de.m.wikipedia.org/wiki/Ansatz_(Mathematik)"
      ]
    },
    {
      "cell_type": "markdown",
      "metadata": {
        "id": "tyVjijNZ6z6d"
      },
      "source": [
        "###### *Embedd Classical Data into a Quantum Variational Circuit*"
      ]
    },
    {
      "cell_type": "markdown",
      "metadata": {
        "id": "yTVi4fzN7Imi"
      },
      "source": [
        "![ggg](https://raw.githubusercontent.com/deltorobarba/repo/master/quantum_189.png)"
      ]
    },
    {
      "cell_type": "markdown",
      "metadata": {
        "id": "etzb2UbG71sG"
      },
      "source": [
        "> **The easiest way for a parameter to enter a circuit is through a rotation of a single qubit, in proportion to the value of a single datapoint, so a single scalar value:**"
      ]
    },
    {
      "cell_type": "markdown",
      "metadata": {
        "id": "Orvytb0Y7Ycl"
      },
      "source": [
        "![ggg](https://raw.githubusercontent.com/deltorobarba/repo/master/quantum_190.png)"
      ]
    },
    {
      "cell_type": "markdown",
      "metadata": {
        "id": "KeImLV0H8Nhx"
      },
      "source": [
        "> **You can also use a sequence of rotations to embedd data (reuploding).** And maybe there is free parameters in between as well. Can make a more complex function available than if you upload only once in a single rotation."
      ]
    },
    {
      "cell_type": "markdown",
      "metadata": {
        "id": "-_p7ffou87Gk"
      },
      "source": [
        "> **Learnable embeddings**: The other idea is to actually have a trainable embedding layer. Not to worry about training the unitary of the circuit, but worry about training the embedding and then use standard quantum information metrics to classify the data."
      ]
    },
    {
      "cell_type": "markdown",
      "metadata": {
        "id": "kua5H4gE8FUc"
      },
      "source": [
        "![ggg](https://raw.githubusercontent.com/deltorobarba/repo/master/quantum_191.png)"
      ]
    },
    {
      "cell_type": "markdown",
      "metadata": {
        "id": "CtZBdM2s9PDV"
      },
      "source": [
        "###### *Optimizer*"
      ]
    },
    {
      "cell_type": "markdown",
      "metadata": {
        "id": "bZYQ6s4l9yCM"
      },
      "source": [
        "> When we're using variational circuits, if you can compute the gradients the parameter shift rule, then that opens up every possible flavor of gradient descent. Like standard gradient descent, but in deep learning also all sorts of gradient descent optimizers. Most common: momentum and Adam."
      ]
    },
    {
      "cell_type": "markdown",
      "metadata": {
        "id": "f0nB-YEG9Ltt"
      },
      "source": [
        "![ggg](https://raw.githubusercontent.com/deltorobarba/repo/master/quantum_192.png)"
      ]
    },
    {
      "cell_type": "markdown",
      "metadata": {
        "id": "rYqxrIGc90vE"
      },
      "source": [
        "<font color=\"blue\">**But there are also quantum-aware optimizers!**"
      ]
    },
    {
      "cell_type": "markdown",
      "metadata": {
        "id": "QuKopxf3-wYa"
      },
      "source": [
        "**Rotosolve**: don't use gradient descent, but sinusoid structure. You eventually end up in a global minima via a sequence of individual jumps to local minima."
      ]
    },
    {
      "cell_type": "markdown",
      "metadata": {
        "id": "-wELAvvAYaCp"
      },
      "source": [
        "[**Quantum Natural Optimizer**](https://pennylane.ai/qml/demos/tutorial_quantum_natural_gradient.html): Internal geometry of quantum circuits and quantum physical system is not Euclidean like the world around us, like this rectilinear structure. It's more sinusoidal structure. We should take this into account."
      ]
    },
    {
      "cell_type": "markdown",
      "metadata": {
        "id": "KUW0xEZE-DKE"
      },
      "source": [
        "![ggg](https://raw.githubusercontent.com/deltorobarba/repo/master/quantum_193.png)"
      ]
    },
    {
      "cell_type": "markdown",
      "metadata": {
        "id": "EsCQoAwa_dCk"
      },
      "source": [
        "<font color=\"blue\">**Barren Plateau**"
      ]
    },
    {
      "cell_type": "markdown",
      "metadata": {
        "id": "RsYaUoUB_fTp"
      },
      "source": [
        "* There are parts of the optimization landscape where the gradient is zero, and around it also zero, like in classical deep learning. everything flat in every direction where you go.\n",
        "\n",
        "* Barren Plateau can come from number of different effects: choice from circuit ansatz, choice of parametrization (parameter values), or from cost function\n",
        "\n",
        "* several proposals to overcome this"
      ]
    },
    {
      "cell_type": "markdown",
      "metadata": {
        "id": "LCtDJttj_aka"
      },
      "source": [
        "![ggg](https://raw.githubusercontent.com/deltorobarba/repo/master/quantum_194.png)"
      ]
    },
    {
      "cell_type": "markdown",
      "source": [
        "###### *Cirq*"
      ],
      "metadata": {
        "id": "wjgKrqlN0xl_"
      }
    },
    {
      "cell_type": "markdown",
      "source": [
        "https://quantumai.google/cirq/tutorials/variational_algorithm"
      ],
      "metadata": {
        "id": "zLHMylh62UBg"
      }
    },
    {
      "cell_type": "code",
      "source": [
        "import cirq\n",
        "\n",
        "# define the length and width of the grid.\n",
        "length = 3\n",
        "\n",
        "# define qubits on the grid.\n",
        "qubits = cirq.GridQubit.square(length)\n",
        "\n",
        "print(qubits)"
      ],
      "metadata": {
        "colab": {
          "base_uri": "https://localhost:8080/"
        },
        "id": "IQ4_O_fM01-j",
        "outputId": "70ee3e08-79d7-4ec9-efd3-4be9fe0b896d"
      },
      "execution_count": null,
      "outputs": [
        {
          "output_type": "stream",
          "name": "stdout",
          "text": [
            "[cirq.GridQubit(0, 0), cirq.GridQubit(0, 1), cirq.GridQubit(0, 2), cirq.GridQubit(1, 0), cirq.GridQubit(1, 1), cirq.GridQubit(1, 2), cirq.GridQubit(2, 0), cirq.GridQubit(2, 1), cirq.GridQubit(2, 2)]\n"
          ]
        }
      ]
    },
    {
      "cell_type": "markdown",
      "source": [
        "Now that we have some qubits, let us construct a cirq.Circuit on these qubits. For example, suppose we want to apply the Hadamard gate cirq.H to every qubit whose row index plus column index is even, and an cirq.X gate to every qubit whose row index plus column index is odd. To do this, we write:"
      ],
      "metadata": {
        "id": "ZaeFcRnX1Pg7"
      }
    },
    {
      "cell_type": "code",
      "source": [
        "circuit = cirq.Circuit()\n",
        "circuit.append(cirq.H(q) for q in qubits if (q.row + q.col) % 2 == 0)\n",
        "circuit.append(cirq.X(q) for q in qubits if (q.row + q.col) % 2 == 1)\n",
        "\n",
        "print(circuit)"
      ],
      "metadata": {
        "colab": {
          "base_uri": "https://localhost:8080/"
        },
        "id": "8EV2UfP21Mn0",
        "outputId": "f390f38a-f7e7-4b17-d8d7-8e67155562ee"
      },
      "execution_count": null,
      "outputs": [
        {
          "output_type": "stream",
          "name": "stdout",
          "text": [
            "(0, 0): ───H───\n",
            "\n",
            "(0, 1): ───X───\n",
            "\n",
            "(0, 2): ───H───\n",
            "\n",
            "(1, 0): ───X───\n",
            "\n",
            "(1, 1): ───H───\n",
            "\n",
            "(1, 2): ───X───\n",
            "\n",
            "(2, 0): ───H───\n",
            "\n",
            "(2, 1): ───X───\n",
            "\n",
            "(2, 2): ───H───\n"
          ]
        }
      ]
    },
    {
      "cell_type": "code",
      "source": [
        "def rot_x_layer(length, half_turns):\n",
        "    \"\"\"Yields X rotations by half_turns on a square grid of given length.\"\"\"\n",
        "\n",
        "    # Define the gate once and then re-use it for each Operation.\n",
        "    rot = cirq.XPowGate(exponent=half_turns)\n",
        "\n",
        "    # Create an X rotation Operation for each qubit in the grid.\n",
        "    for i in range(length):\n",
        "        for j in range(length):\n",
        "            yield rot(cirq.GridQubit(i, j))\n",
        "\n",
        "# Create the circuit using the rot_x_layer generator\n",
        "circuit = cirq.Circuit()\n",
        "circuit.append(rot_x_layer(2, 0.1))\n",
        "print(circuit)"
      ],
      "metadata": {
        "colab": {
          "base_uri": "https://localhost:8080/"
        },
        "id": "Xb8U8mTp1wl9",
        "outputId": "df16806c-213b-4d57-caf6-3e4b5af6618d"
      },
      "execution_count": null,
      "outputs": [
        {
          "output_type": "stream",
          "name": "stdout",
          "text": [
            "(0, 0): ───X^0.1───\n",
            "\n",
            "(0, 1): ───X^0.1───\n",
            "\n",
            "(1, 0): ───X^0.1───\n",
            "\n",
            "(1, 1): ───X^0.1───\n"
          ]
        }
      ]
    },
    {
      "cell_type": "markdown",
      "metadata": {
        "id": "xuegbFg8qqCU"
      },
      "source": [
        "###### *Step by Step Algorithm*"
      ]
    },
    {
      "cell_type": "markdown",
      "source": [
        "###### *Step 1 until 3*"
      ],
      "metadata": {
        "id": "8vhJ5dCwu7Qb"
      }
    },
    {
      "cell_type": "markdown",
      "metadata": {
        "id": "JQNT6fAsrO0r"
      },
      "source": [
        "This algorithm is a **hybrid machine learning quantum computer algorithm**, where we run part of it on a quantum computer, and then finish off the minimization classically (since a solely quantum algorithm provides no speedups)."
      ]
    },
    {
      "cell_type": "markdown",
      "metadata": {
        "id": "_yL7QqWarSsW"
      },
      "source": [
        "**Step 1: We encode the molecular Hamiltonian onto the qubits**\n",
        "\n",
        "* the variational form typically uses the U3 gate (QASM?), where we can describe it with the following matrix:\n",
        "\n",
        "> $U 3(\\theta, \\phi, \\lambda)=\\left(\\begin{array}{cc}\\cos \\left(\\frac{\\theta}{2}\\right) & -e^{i \\lambda} \\sin \\left(\\frac{\\theta}{2}\\right) \\\\ e^{i \\phi} \\sin \\left(\\frac{\\theta}{2}\\right) & e^{i \\lambda+i \\phi} \\cos \\left(\\frac{\\theta}{2}\\right)\\end{array}\\right)$\n",
        "\n",
        "* We can then construct a quantum circuit that encodes the information that we want, but it is important that this circuit (and these gates as a whole) allow for any universal state to be entered and returned, which can result in more complex circuits.\n",
        "\n",
        "* The end result of this encoding allows us to make calculations with the qubits, but now the qubits are mimicking the electron orbital interactions and so it almost as if we are making the computations we need with the molecule itself.\n",
        "\n"
      ]
    },
    {
      "cell_type": "markdown",
      "metadata": {
        "id": "I8S6PMkovUxH"
      },
      "source": [
        "![ggg](https://raw.githubusercontent.com/deltorobarba/repo/master/quantum_181.png)"
      ]
    },
    {
      "cell_type": "markdown",
      "metadata": {
        "id": "swsm2b2ztk9r"
      },
      "source": [
        "**Step 2: Create the ansatz**\n",
        "\n",
        "* An ansatz, in simplest terms, is a really good mathematical guess that can cover many possible states.\n",
        "\n",
        "* For our purposes, the thing that we will be guessing will be what the electron configuration is for the specific molecule at a given interatomic distance between each atom and thus the ansatz can be described as our trial wavefunction.\n",
        "\n",
        "* We also require that the ansatz be shallow due to the nature of programs on quantum computers needing to run quickly or else they’ll be more prone to errors.\n",
        "\n",
        "> In the context of variational circuits, an ansatz usually describes a subroutine consisting of a sequence of gates applied to specific wires. Similar to the architecture of a neural network, this only defines the base structure, while the types of gates and/or their free parameters can be optimized by the variational procedure. **One can distinguish three different base structures, namely a layered gate ansatz, an alternating operator ansatz, and a tensor network ansatz.**\n",
        "\n",
        "https://pennylane.ai/qml/glossary/circuit_ansatz.html\n",
        "\n",
        "https://medium.com/arnaldo-gunzi-quantum/what-is-ansatz-31e682b0518b\n"
      ]
    },
    {
      "cell_type": "markdown",
      "metadata": {
        "id": "HCaKqCT-vEGe"
      },
      "source": [
        "![ggg](https://raw.githubusercontent.com/deltorobarba/repo/master/quantum_183.png)"
      ]
    },
    {
      "cell_type": "markdown",
      "metadata": {
        "id": "ROfDmrTwuknz"
      },
      "source": [
        "**Step 3: Calculate our trial state energy**\n",
        "\n",
        "* use the information that we have to calculate the ground state energy level of our ansatz.\n",
        "\n",
        "* The calculation uses the information given by the Hamiltonian for a given inter-atomic distance, and the energy for that particular electron configuration."
      ]
    },
    {
      "cell_type": "markdown",
      "metadata": {
        "id": "MHVkMC1My38d"
      },
      "source": [
        "**Step 4: The Classical Side**"
      ]
    },
    {
      "cell_type": "markdown",
      "metadata": {
        "id": "yX67IiQJvfM3"
      },
      "source": [
        "> Task a: Measure and optimize our parameter\n",
        "\n",
        "* The first step here is to measure our qubits such that we get the information that we wanted from the quantum steps.\n",
        "\n",
        "* We then use machine learning algorithms to optimize our parameters such that our cost function, which represents the ground state energy, is minimized.\n",
        "\n",
        "* In terms of the optimization, the [Simultaneous Perturbation Stochastic Approximation optimizer (SPSA)](https://en.m.wikipedia.org/wiki/Simultaneous_perturbation_stochastic_approximation) is typically used due to how noisy the objective function can be. One thing that we had considered using during our experimentation with the VQE algorithm was gradient descent.\n",
        "\n",
        "* We noticed that our original code was just an iteration over the possible values that the inter-atomic distance could take and we thought that gradient descent might be able to speed this process up by just choosing a good start value.\n",
        "\n",
        "* However, what we found was that this strategy was prone to getting stuck in local optimum and through the reading of the Qiskit textbook and other research papers, we found that it is in fact a costly optimization in terms of the number of circuit evaluations performed.\n",
        "\n",
        "* So then we questioned how does SPSA work and why does it not have the same pitfalls as gradient descent? They both share the similarity that both optimizes approximate the gradient of our cost function, however, SPSA “does so by concurrently perturbing all of the parameters in a random fashion, in contrast to gradient descent where each parameter is perturbed independently” as discussed in the Qiskit textbook tutorial.\n",
        "\n"
      ]
    },
    {
      "cell_type": "markdown",
      "metadata": {
        "id": "eUGLzvpNy2LQ"
      },
      "source": [
        "> Task b: Iterate using the resulting parameters\n",
        "\n",
        "* The second step of the classical side of this algorithm is that we then take the optimized parameters that we got and feed them into the quantum part again, giving us a new set of parameters that should improve the ansatz.\n",
        "\n",
        "* This step is iterative because we continually run through out optimizer until we are able to converge onto the lowest energy state for that bond length.\n",
        "\n",
        "* We then continue to iterate over the different inter-atomic distances until we find the bond length associated with the molecule’s lowest energy state.\n"
      ]
    },
    {
      "cell_type": "markdown",
      "metadata": {
        "id": "ij6uyKbEzCQz"
      },
      "source": [
        "*Results of VQE on RbH where Hartree-Fock is the expected and VQE is what we got from running the algorithm:*\n",
        "\n",
        "![ggg](https://raw.githubusercontent.com/deltorobarba/repo/master/quantum_184.png)"
      ]
    },
    {
      "cell_type": "markdown",
      "metadata": {
        "id": "a1wmnPpx24He"
      },
      "source": [
        "![ggg](https://raw.githubusercontent.com/deltorobarba/repo/master/quantum_185.png)"
      ]
    },
    {
      "cell_type": "markdown",
      "metadata": {
        "id": "PrQOSeWn3Owt"
      },
      "source": [
        "Source: [Variational Quantum Algorithms](https://www.youtube.com/watch?v=YtepXvx5zdI)"
      ]
    },
    {
      "cell_type": "markdown",
      "source": [
        "###### *1. Build the molecular (electronic) Hamiltonian using a minimal basis set approximation*"
      ],
      "metadata": {
        "id": "XZjV1v3A9UtY"
      }
    },
    {
      "cell_type": "markdown",
      "source": [
        "*Electronic Hamiltonian: clamped nucleus Hamiltonian that acts only on functions of the electronic coordinates.*\n",
        "\n",
        "* *Almost all calculations of molecular wavefunctions are based on the separation of the Coulomb Hamiltonian first devised by Born and Oppenheimer.*\n",
        "\n",
        "* *The nuclear kinetic energy terms are omitted from the Coulomb Hamiltonian and one considers the remaining Hamiltonian as a Hamiltonian of electrons only.*\n",
        "\n",
        "* *The stationary nuclei enter the problem only as generators of an electric potential in which the electrons move in a quantum mechanical way.*\n",
        "\n",
        "* *Within this framework the molecular Hamiltonian has been simplified to the so-called clamped nucleus Hamiltonian, also called electronic Hamiltonian, that acts only on functions of the electronic coordinates.*\n",
        "\n",
        "* *Once the Schrödinger equation of the clamped nucleus Hamiltonian has been solved for a sufficient number of constellations of the nuclei, an appropriate eigenvalue (usually the lowest) can be seen as a function of the nuclear coordinates, which leads to a potential energy surface.*\n",
        "\n",
        "* *Source:* [*Molecular Hamiltonian*](https://en.m.wikipedia.org/wiki/Molecular_Hamiltonian)"
      ],
      "metadata": {
        "id": "Zo5gf82vpbnt"
      }
    },
    {
      "cell_type": "markdown",
      "source": [
        "*The first step is to specify the molecule we want to simulate. This is done by providing a list with the symbols of the constituent atoms and a one-dimensional array with the corresponding **nuclear coordinates** in [(Hartree) atomic units](https://en.m.wikipedia.org/wiki/Hartree_atomic_units):*\n",
        "\n",
        "* *the mass of a nuclear is so much greater than the mass of an electron, we set the nuclei as fixed, or the kinetic energy of the nuclei are zero (1 proton weighs about 1,800 times more than a single electron, and mist nuclei are even heavier than hydrogen nuclei, i.e. Carbon nucleus is 20,000 times heavier than an electron). We're going to solve of the wavefunction of the electrons at a fixed position of the nuclei.*\n",
        "\n",
        "```python\n",
        "from pennylane import numpy as np\n",
        "symbols = [\"H\", \"H\"]\n",
        "coordinates = np.array([0.0, 0.0, -0.6614, 0.0, 0.0, 0.6614])\n",
        "```\n",
        "\n",
        "* *(not sure if that's helpful here: https://en.m.wikipedia.org/wiki/Born–Oppenheimer_approximation)*\n",
        "\n",
        "* https://en.wikipedia.org/wiki/Franck%E2%80%93Condon_principle\n",
        "\n",
        "* *When approaching to a few atomic units, the atomic wavefunctions are overlapping (1 atomic unit = 0.5292 Angstrom). The bond-length of the hydrogen atom in the ground state is 0.74 Angstrom = 1.4 atomic units.* ([Uni Kassel](https://www.uni-kassel.de/fb10/institute/physik/forschungsgruppen/oberflaechenphysik/quantum-analogs/molecular-orbitals))"
      ],
      "metadata": {
        "id": "oFIJVbgZ9bOQ"
      }
    },
    {
      "cell_type": "markdown",
      "source": [
        "*The molecular structure can also be imported from an external file using the read_structure() function. Now, we can build the electronic Hamiltonian of the hydrogen molecule using the molecular_hamiltonian() function:*\n",
        "\n",
        "```python\n",
        "import pennylane as qml\n",
        "\n",
        "H, qubits = qml.qchem.molecular_hamiltonian(symbols, coordinates)\n",
        "print(\"Number of qubits = \", qubits)\n",
        "print(\"The Hamiltonian is \", H)\n",
        "```"
      ],
      "metadata": {
        "id": "2E057QQi9d75"
      }
    },
    {
      "cell_type": "markdown",
      "source": [
        "See also video: [Quantum Chemistry 10.1 - Hydrogen Molecule Hamiltonian](https://www.youtube.com/watch?v=BBoE6NRRZ8k)"
      ],
      "metadata": {
        "id": "7gltlLeaiISO"
      }
    },
    {
      "cell_type": "markdown",
      "source": [
        "https://www.youtube.com/watch?v=5kUstS6xD2c&list=PLm8ZSArAXicLZWxTcr_XWOjrysKAlOZH2"
      ],
      "metadata": {
        "id": "08RZ3LgmkFCb"
      }
    },
    {
      "cell_type": "markdown",
      "source": [
        "*The outputs of the function are the **Hamiltonian, represented as a linear combination of Pauli operators**, and the number of qubits required for the quantum simulations:*\n",
        "\n",
        "```python\n",
        "Number of qubits =  4\n",
        "The Hamiltonian is    (-0.2427450172749822) [Z2]\n",
        "+ (-0.2427450172749822) [Z3]\n",
        "+ (-0.04207254303152995) [I0]\n",
        "+ (0.17771358191549907) [Z0]\n",
        "+ (0.17771358191549919) [Z1]\n",
        "+ (0.12293330460167415) [Z0 Z2]\n",
        "+ (0.12293330460167415) [Z1 Z3]\n",
        "+ (0.16768338881432715) [Z0 Z3]\n",
        "+ (0.16768338881432715) [Z1 Z2]\n",
        "+ (0.17059759240560826) [Z0 Z1]\n",
        "+ (0.17627661476093917) [Z2 Z3]\n",
        "+ (-0.04475008421265302) [Y0 Y1 X2 X3]\n",
        "+ (-0.04475008421265302) [X0 X1 Y2 Y3]\n",
        "+ (0.04475008421265302) [Y0 X1 X2 Y3]\n",
        "+ (0.04475008421265302) [X0 Y1 Y2 X3]\n",
        "```"
      ],
      "metadata": {
        "id": "UWa5Pb_F9vnI"
      }
    },
    {
      "cell_type": "markdown",
      "source": [
        "* We express the Hamiltonian as a linear combination of Pauli operators\n",
        "\n",
        "> $\\mathcal{H}=\\sum_{i \\alpha} h_{\\alpha}^{i} \\sigma_{\\alpha}^{i}+\\sum_{i j \\alpha \\beta} h_{\\alpha \\beta}^{i j} \\sigma_{\\alpha}^{i} \\sigma_{\\beta}^{j}+\\ldots$\n",
        "\n",
        "> $\\langle\\mathcal{H}\\rangle=\\sum_{i \\alpha} h_{\\alpha}^{i}\\left\\langle\\sigma_{\\alpha}^{i}\\right\\rangle+\\sum_{i j \\alpha \\beta} h_{\\alpha \\beta}^{i j}\\left\\langle\\sigma_{\\alpha}^{i} \\sigma_{\\beta}^{j}\\right\\rangle+\\ldots$\n",
        "\n",
        "* We assume that the number of terms in that expansion is small, growing only polynomial in the system size\n",
        "\n",
        "* That’s necessary because what you‘re going to do in order to evaluate the expectation value for the Hamiltonian is you gonna do that term by term, where you evaluate the expectation value of each individual Pauli operator on the quantum computer, then you classically sum them up with the appropriate weight"
      ],
      "metadata": {
        "id": "9cvgpCyLiuQT"
      }
    },
    {
      "cell_type": "markdown",
      "source": [
        "*For this example, we use a [minimal basis set](https://de.m.wikipedia.org/wiki/STO-NG-Basissätze) to represent the [molecular orbitals](https://en.m.wikipedia.org/wiki/Molecular_orbital).*\n",
        "\n",
        "* *In this approximation, we have four spin orbitals, which defines the number of qubits.*\n",
        "\n",
        "* *Furthermore, we use the Jordan-Wigner transformation to perform the fermionic-to-qubit mapping of the Hamiltonian.*\n",
        "\n",
        "* *For a more comprehensive discussion on how to build the Hamiltonian of more complicated molecules, see the tutorial [Building molecular Hamiltonians](https://pennylane.ai/qml/demos/tutorial_quantum_chemistry.html).*"
      ],
      "metadata": {
        "id": "NygNQwTx-CUC"
      }
    },
    {
      "cell_type": "markdown",
      "source": [
        "<font color=\"red\">Are these the atomic coordinates in Cartesian coordinates? https://en.m.wikipedia.org/wiki/XYZ_file_format"
      ],
      "metadata": {
        "id": "tjq91NuTgtBf"
      }
    },
    {
      "cell_type": "markdown",
      "source": [
        "###### *2. Quantum circuit to prepare trial state of molecule, design cost function & measure expectation value of Hamiltonian*"
      ],
      "metadata": {
        "id": "cmZCm3nZ-u8S"
      }
    },
    {
      "cell_type": "markdown",
      "source": [
        "*The quantum computer sets up the quantum wavefunction: it starts with qubits in some vaccum state and then rotates the qubits, then entangles them, essentially obtains the sum (trial) wave function and then (next step) measures the Hamiltonian expectation value on this wavefunction*"
      ],
      "metadata": {
        "id": "Zy4kA11ZoE-8"
      }
    },
    {
      "cell_type": "markdown",
      "source": [
        "* *You first prepare a guess for that ground state, and then you measure the invidual terms of the Hamiltonian and then you sum them up classically and then you have a classical feedback loop where you adjust the parameters of the gate sequence and you feed the new parameters to the quantum computer which then repeats the loop over and over again*\n",
        "\n",
        "* *The end result is that you‘ve prepared a state that even closer to the ground state than your original guess*"
      ],
      "metadata": {
        "id": "lNI_YCWUjBsz"
      }
    },
    {
      "cell_type": "markdown",
      "source": [
        "*Define the device, in this case PennyLane’s standard qubit simulator:*\n",
        "\n",
        "```python\n",
        "dev = qml.device(\"default.qubit\", wires=qubits)\n",
        "```"
      ],
      "metadata": {
        "id": "lJgLsTDMAoT0"
      }
    },
    {
      "cell_type": "markdown",
      "source": [
        "*Next, define the quantum circuit that prepares the trial state of the molecule. We want to prepare states of the form:*\n",
        "\n",
        "> <font color=\"blue\">$|\\Psi(\\theta)\\rangle=\\cos (\\frac{\\theta}{2})|1100\\rangle-\\sin (\\frac{\\theta}{2})|0011\\rangle$\n",
        "\n",
        "*where $\\theta$ is the variational parameter to be optimized in order to find the best approximation to the true ground state.*\n",
        "\n",
        "*In the [Jordan-Wigner encoding (transformation)](https://de.m.wikipedia.org/wiki/Jordan-Wigner-Transformation)*\n",
        "\n",
        "  * *the first term |1100⟩ represents the [Hartree-Fock (HF) state](https://en.wikipedia.org/wiki/Hartree–Fock_method) where the two electrons in the molecule occupy the lowest-energy orbitals.*\n",
        "  \n",
        "  * *the second term |0011⟩ encodes a double excitation of the HF state where the two particles are excited from qubits 0, 1 to 2, 3*"
      ],
      "metadata": {
        "id": "QBGhWWW2Az6j"
      }
    },
    {
      "cell_type": "markdown",
      "source": [
        "*The quantum circuit to prepare the trial state $|\\Psi (\\theta) \\rangle$ is schematically illustrated in the figure below:*\n",
        "\n",
        "![ggg](https://raw.githubusercontent.com/deltorobarba/repo/master/quantum_304.png)"
      ],
      "metadata": {
        "id": "I2zfsEmwCSVC"
      }
    },
    {
      "cell_type": "markdown",
      "source": [
        "* *In this figure, the gate $G^{(2)}$ corresponds to the DoubleExcitation operation, implemented in PennyLane as a Givens rotation, which couples the four-qubit states |1100⟩ and |0011⟩.*\n",
        "\n",
        "* *For more details on how to use the excitation operations to build quantum circuits for quantum chemistry applications see the tutorial [Givens rotations for quantum chemistry](https://pennylane.ai/qml/demos/tutorial_givens_rotations.html).*"
      ],
      "metadata": {
        "id": "Y93ZggV4DLUM"
      }
    },
    {
      "cell_type": "markdown",
      "source": [
        "*Implementing the circuit above using PennyLane is straightforward. First, we use the hf_state() function to generate the vector representing the Hartree-Fock state.*\n",
        "\n",
        "```python\n",
        "electrons = 2\n",
        "hf = qml.qchem.hf_state(electrons, qubits)\n",
        "print(hf)\n",
        "```\n",
        "\n",
        "*The output is then:*\n",
        "\n",
        "```python\n",
        "[1 1 0 0]\n",
        "```\n",
        "\n",
        "*The hf array is used by the BasisState operation to initialize the qubit register.*\n",
        "\n",
        "*Then, we just act with the DoubleExcitation operation on the four qubits:*\n",
        "\n",
        "```python\n",
        "def circuit(param, wires):\n",
        "    qml.BasisState(hf, wires=wires)\n",
        "    qml.DoubleExcitation(param, wires=[0, 1, 2, 3])\n",
        "```"
      ],
      "metadata": {
        "id": "MpEZsA2JDiKh"
      }
    },
    {
      "cell_type": "markdown",
      "source": [
        "**Design the cost function to evaluate the expectation value of the Hamiltonian**"
      ],
      "metadata": {
        "id": "U0tw47_GC_bC"
      }
    },
    {
      "cell_type": "markdown",
      "source": [
        "*Measure the Hamiltonian expectation value on the (trial) wavefunction*\n",
        "\n",
        "* *Define the cost function to compute the expectation value of the molecular Hamiltonian in the trial state prepared by the circuit.*\n",
        "\n",
        "* *We do this using the expval() function. The decorator syntax allows us to run the cost function as an executable QNode with the gate parameter $\\theta$:*\n",
        "\n",
        "```python\n",
        "@qml.qnode(dev)\n",
        "def cost_fn(param):\n",
        "    circuit(param, wires=range(qubits))\n",
        "    return qml.expval(H)\n",
        "```"
      ],
      "metadata": {
        "id": "QuczJ6aOD4af"
      }
    },
    {
      "cell_type": "markdown",
      "source": [
        "###### *3. Select a classical optimizer, initialize the circuit parameters, and run the VQE algorithm using a simulator.*"
      ],
      "metadata": {
        "id": "VSeiR7bE-02t"
      }
    },
    {
      "cell_type": "markdown",
      "source": [
        "* *The result of the expectation value is passed to the classical computer which tries to come up with new angles of the unitary rotations so that on the next iteration we could lower the expectation value even more:*\n",
        "\n",
        "> $\\min _{\\theta}<\\Phi_{q}(\\theta)\\left|H_{q}\\right| \\Phi_{q}(\\theta)>$\n",
        "\n",
        "* *The classical computer gives to the quantum computer a new trial wave function that the quantum computer needs to implement and obtain the expectation value*\n",
        "\n",
        "* *This cyle repeats and eventually the classical computer will converge to some value that will be the lowest*"
      ],
      "metadata": {
        "id": "XEMsdXsxk4QW"
      }
    },
    {
      "cell_type": "markdown",
      "source": [
        "*Now we proceed to minimize the cost function to find the ground state of the $H_2$ molecule. To start, we need to define the classical optimizer. PennyLane offers many different built-in optimizers. Here we use a basic gradient-descent optimizer.*\n",
        "\n",
        "```python\n",
        "opt = qml.GradientDescentOptimizer(stepsize=0.4)\n",
        "```"
      ],
      "metadata": {
        "id": "10F3uTCLEIZr"
      }
    },
    {
      "cell_type": "markdown",
      "source": [
        "*We carry out the optimization over a maximum of 100 steps aiming to reach a convergence tolerance of $10^{-6}$ for the value of the cost function:*\n",
        "\n",
        "```python\n",
        "# store the values of the cost function\n",
        "energy = [cost_fn(theta)]\n",
        "\n",
        "# store the values of the circuit parameter\n",
        "angle = [theta]\n",
        "\n",
        "max_iterations = 100\n",
        "conv_tol = 1e-06\n",
        "\n",
        "for n in range(max_iterations):\n",
        "    theta, prev_energy = opt.step_and_cost(cost_fn, theta)\n",
        "\n",
        "    energy.append(cost_fn(theta))\n",
        "    angle.append(theta)\n",
        "\n",
        "    conv = np.abs(energy[-1] - prev_energy)\n",
        "\n",
        "    if n % 2 == 0:\n",
        "        print(f\"Step = {n},  Energy = {energy[-1]:.8f} Ha\")\n",
        "\n",
        "    if conv <= conv_tol:\n",
        "        break\n",
        "\n",
        "print(\"\\n\" f\"Final value of the ground-state energy = {energy[-1]:.8f} Ha\")\n",
        "print(\"\\n\" f\"Optimal value of the circuit parameter = {angle[-1]:.4f}\")\n",
        "```"
      ],
      "metadata": {
        "id": "9vWDXUuoEVAs"
      }
    },
    {
      "cell_type": "markdown",
      "source": [
        "*The output is then:*\n",
        "\n",
        "```python\n",
        "Step = 0,  Energy = -1.12799983 Ha\n",
        "Step = 2,  Energy = -1.13466246 Ha\n",
        "Step = 4,  Energy = -1.13590595 Ha\n",
        "Step = 6,  Energy = -1.13613667 Ha\n",
        "Step = 8,  Energy = -1.13617944 Ha\n",
        "Step = 10,  Energy = -1.13618736 Ha\n",
        "Step = 12,  Energy = -1.13618883 Ha\n",
        "\n",
        "Final value of the ground-state energy = -1.13618883 Ha\n",
        "\n",
        "Optimal value of the circuit parameter = 0.2089\n",
        "```"
      ],
      "metadata": {
        "id": "O1Rtq-tGErGQ"
      }
    },
    {
      "cell_type": "markdown",
      "source": [
        "*Let’s plot the values of the ground state energy of the molecule and the gate parameter $\\theta$ as a function of the optimization step:*\n",
        "\n",
        "```python\n",
        "import matplotlib.pyplot as plt\n",
        "\n",
        "fig = plt.figure()\n",
        "fig.set_figheight(5)\n",
        "fig.set_figwidth(12)\n",
        "\n",
        "# Full configuration interaction (FCI) energy computed classically\n",
        "E_fci = -1.136189454088\n",
        "\n",
        "# Add energy plot on column 1\n",
        "ax1 = fig.add_subplot(121)\n",
        "ax1.plot(range(n + 2), energy, \"go\", ls=\"dashed\")\n",
        "ax1.plot(range(n + 2), np.full(n + 2, E_fci), color=\"red\")\n",
        "ax1.set_xlabel(\"Optimization step\", fontsize=13)\n",
        "ax1.set_ylabel(\"Energy (Hartree)\", fontsize=13)\n",
        "ax1.text(0.5, -1.1176, r\"$E_\\mathrm{HF}$\", fontsize=15)\n",
        "ax1.text(0, -1.1357, r\"$E_\\mathrm{FCI}$\", fontsize=15)\n",
        "plt.xticks(fontsize=12)\n",
        "plt.yticks(fontsize=12)\n",
        "\n",
        "# Add angle plot on column 2\n",
        "ax2 = fig.add_subplot(122)\n",
        "ax2.plot(range(n + 2), angle, \"go\", ls=\"dashed\")\n",
        "ax2.set_xlabel(\"Optimization step\", fontsize=13)\n",
        "ax2.set_ylabel(\"Gate parameter $\\\\theta$ (rad)\", fontsize=13)\n",
        "plt.xticks(fontsize=12)\n",
        "plt.yticks(fontsize=12)\n",
        "\n",
        "plt.subplots_adjust(wspace=0.3, bottom=0.2)\n",
        "plt.show()\n",
        "```"
      ],
      "metadata": {
        "id": "pvLNvzHgFCsB"
      }
    },
    {
      "cell_type": "markdown",
      "source": [
        "![ggg](https://raw.githubusercontent.com/deltorobarba/repo/master/quantum_305.png)"
      ],
      "metadata": {
        "id": "Dx07o-zSE-mA"
      }
    },
    {
      "cell_type": "markdown",
      "source": [
        "*Remember in step 2 the trial state was:*\n",
        "\n",
        "> <font color=\"blue\">$|\\Psi(\\theta)\\rangle=\\cos (\\frac{\\theta}{2})|1100\\rangle-\\sin (\\frac{\\theta}{2})|0011\\rangle$\n",
        "\n",
        "*We measured now $\\theta$ = 0.2089. This gives us:*\n",
        "\n",
        "* $cos (\\frac{\\theta}{2})$ = $cos (\\frac{0.2089}{2})$ = <font color=\"red\">0.994550</font>\n",
        "\n",
        "* $sin (\\frac{\\theta}{2})$ = $sin (\\frac{0.2089}{2})$ = <font color=\"orange\">0.104260</font>"
      ],
      "metadata": {
        "id": "wOHXN18MIZb-"
      }
    },
    {
      "cell_type": "markdown",
      "source": [
        "*In this case, the VQE algorithm converges after thirteen iterations. The optimal value of the circuit parameter $\\theta^*$ = 0.208 defines the state:*\n",
        "\n",
        "> <font color=\"blue\">$\\left|\\Psi\\left(\\theta^{*}\\right)\\right\\rangle=$</font> <font color=\"red\">$0.994$</font> <font color=\"blue\">$|1100\\rangle-$ <font color=\"orange\">$0.104$</font><font color=\"blue\">$|0011\\rangle$\n",
        "\n",
        "*which is precisely the ground state of the $H_2$ molecule in a minimal basis set approximation.*\n",
        "\n"
      ],
      "metadata": {
        "id": "Wots26SWFPWC"
      }
    },
    {
      "cell_type": "markdown",
      "source": [
        "Remember: In the Jordan-Wigner encoding (transformation)\n",
        "\n",
        "* the first term |1100⟩ represents the Hartree-Fock (HF) state where the two electrons in the molecule occupy the lowest-energy orbitals.\n",
        "\n",
        "* the second term |0011⟩ encodes a double excitation of the HF state where the two particles are excited from qubits 0, 1 to 2, 3"
      ],
      "metadata": {
        "id": "r8HPQ4OQYYkg"
      }
    },
    {
      "cell_type": "markdown",
      "source": [
        "###### *Conclusion*"
      ],
      "metadata": {
        "id": "tJ1OtOUIG3h9"
      }
    },
    {
      "cell_type": "markdown",
      "source": [
        "*In this tutorial, we have implemented the VQE algorithm to find the ground state of the hydrogen molecule. We used a simple circuit to prepare quantum states of the molecule beyond the Hartree-Fock approximation. The ground-state energy was obtained by minimizing a cost function defined as the expectation value of the molecular Hamiltonian in the trial state.*\n",
        "\n",
        "*The VQE algorithm can be used to simulate other chemical phenomena. In the tutorial tutorial_vqe_bond_dissociation, we use VQE to explore the potential energy surface of molecules to simulate chemical reactions. Another interesting application is to probe the lowest-lying states of molecules in specific sectors of the Hilbert space. For example, see the tutorial [VQE in different spin sectors](https://pennylane.ai/qml/demos/tutorial_vqe_spin_sectors.html). Furthermore, the algorithm presented here can be generalized to find the equilibrium geometry of a molecule as it is demonstrated in the tutorial [Optimization of molecular geometries](https://pennylane.ai/qml/demos/tutorial_mol_geo_opt.html).*\n",
        "\n"
      ],
      "metadata": {
        "id": "2TeaTcy6G4uM"
      }
    },
    {
      "cell_type": "markdown",
      "source": [
        "###### *Variational quantum-neural hybrid eigensolver (VQNHE)*"
      ],
      "metadata": {
        "id": "lcs4JpYP6mS_"
      }
    },
    {
      "cell_type": "markdown",
      "source": [
        "https://arxiv.org/abs/2106.05105"
      ],
      "metadata": {
        "id": "IZZAl1Bd6sA-"
      }
    },
    {
      "cell_type": "markdown",
      "source": [
        "###### *QAOA (Quantum Approximate Optimization Algorithm)*"
      ],
      "metadata": {
        "id": "yChG8voKEFhh"
      }
    },
    {
      "cell_type": "markdown",
      "metadata": {
        "id": "4vSAIR_g3JdX"
      },
      "source": [
        "https://qiskit.org/textbook/ch-applications/qaoa.html"
      ]
    },
    {
      "cell_type": "markdown",
      "metadata": {
        "id": "-xfofKFn3LzE"
      },
      "source": [
        "https://en.wikipedia.org/wiki/Quantum_optimization_algorithms"
      ]
    },
    {
      "cell_type": "markdown",
      "metadata": {
        "id": "n85uDMl23mUh"
      },
      "source": [
        "* the cost function is something that is encoding an optimization problem. you might have an (discrete) optimization problem with many clauses that have to be satisfied and you have to encode this into an Ising type model, a spin chain type model, which then can be converted into observables which can be measured on a quantum circuit"
      ]
    },
    {
      "cell_type": "markdown",
      "metadata": {
        "id": "_cOUcljX2_At"
      },
      "source": [
        "![ggg](https://raw.githubusercontent.com/deltorobarba/repo/master/quantum_186.png)"
      ]
    },
    {
      "cell_type": "markdown",
      "metadata": {
        "id": "mPcjYwbm3S4h"
      },
      "source": [
        "Source: [Variational Quantum Algorithms](https://www.youtube.com/watch?v=YtepXvx5zdI)"
      ]
    },
    {
      "cell_type": "markdown",
      "metadata": {
        "id": "HGsztEvz3BlY"
      },
      "source": [
        "###### *Quantum Support Vector Machines*"
      ]
    },
    {
      "cell_type": "markdown",
      "source": [
        "https://de.m.wikipedia.org/wiki/Support_Vector_Machine"
      ],
      "metadata": {
        "id": "7AQI_rWvRm-9"
      }
    },
    {
      "cell_type": "markdown",
      "source": [
        "https://qiskit.org/documentation/stable/0.24/tutorials/machine_learning/01_qsvm_classification.html"
      ],
      "metadata": {
        "id": "5jwHX-2NS3Nx"
      }
    },
    {
      "cell_type": "markdown",
      "source": [
        "https://medium.com/@patrick.huembeli/introduction-into-quantum-support-vector-machines-727f3ccfa2b4"
      ],
      "metadata": {
        "id": "oLVagaTwIn9k"
      }
    },
    {
      "cell_type": "markdown",
      "metadata": {
        "id": "-tOQ0Y1YR97t"
      },
      "source": [
        "See paper [Supervised quantum machine learning models are kernel methods](https://arxiv.org/pdf/2101.11020.pdf)"
      ]
    },
    {
      "cell_type": "markdown",
      "metadata": {
        "id": "wDxhld5nB1bw"
      },
      "source": [
        "* quantum kernel methods make use of traditional kernel methods, but **use the quantum computer to evaluate part or all of the kernel on the quantum embedding**, which has a different geometry than a classical embedding.\n",
        "\n",
        "* It was conjectured that a quantum advantage might arise from the quantum embedding, which might be much better suited to a particular problem than any accessible classical geometry.\n",
        "\n",
        "* The quantum algorithm for linear systems of equations has been applied to a support vector machine, which is an optimized linear or non-linear binary classifier. A support vector machine can be used for supervised machine learning, in which training set of already classified data is available, or unsupervised machine learning, in which all data given to the system is unclassified.\n",
        "\n",
        "* Rebentrost et al. show that a quantum support vector machine can be used for big data classification and achieve an exponential speedup over classical computers. P. Rebentrost, M. Mohseni, and S. Lloyd, Physical review letters 113, 130503 (2014), https://arxiv.org/abs/1307.0471v2"
      ]
    },
    {
      "cell_type": "markdown",
      "metadata": {
        "id": "7Ouz4zlY_sTp"
      },
      "source": [
        "https://en.m.wikipedia.org/wiki/Kernel_method"
      ]
    },
    {
      "cell_type": "markdown",
      "source": [
        "Skalarproduktraum: https://de.m.wikipedia.org/wiki/Pr%C3%A4hilbertraum"
      ],
      "metadata": {
        "id": "KT7swzBHNEq5"
      }
    },
    {
      "cell_type": "markdown",
      "source": [
        "https://de.m.wikipedia.org/wiki/Kern_(Algebra)"
      ],
      "metadata": {
        "id": "7nxZHmPxNJ65"
      }
    },
    {
      "cell_type": "markdown",
      "source": [
        "###### *Variational Quantum Linear Solver*"
      ],
      "metadata": {
        "id": "nXwjEGszU0va"
      }
    },
    {
      "cell_type": "markdown",
      "source": [
        "https://pennylane.ai/qml/demos/tutorial_vqls.html"
      ],
      "metadata": {
        "id": "KdxcwrnfU32e"
      }
    },
    {
      "cell_type": "markdown",
      "source": [
        "https://qiskit.org/textbook/ch-paper-implementations/vqls.html"
      ],
      "metadata": {
        "id": "9KDJGemEMDGK"
      }
    },
    {
      "cell_type": "markdown",
      "source": [
        "* The Variational Quantum Linear Solver, or the VQLS is a variational quantum algorithm that utilizes VQE in order to solve systems of linear equations more efficiently than classical computational algorithms.\n",
        "\n",
        "* The output of this algorithm is identical to that of the HHL Quantum Linear-Solving Algorithm, except, while HHL provides a much more favourable computation speedup over VQLS, the variational nature of our algorithm allows for it to be performed on NISQ quantum computers, while HHL would require much more robust quantum hardware, and many more qubits."
      ],
      "metadata": {
        "id": "Nw1UWiSCMBcb"
      }
    },
    {
      "cell_type": "markdown",
      "source": [
        "###### *Variational Quantum Phase Estimation*"
      ],
      "metadata": {
        "id": "d77LDd8UVTQV"
      }
    },
    {
      "cell_type": "markdown",
      "source": [
        "VQPE: A combination of variational methods and quantum phase estimation is put together to develop an approach for computing ground and excited states that is fast and efficient. Learn more is #PRXquantum: https://go.aps.org/3OTtb5o."
      ],
      "metadata": {
        "id": "RYrxYevuVQPX"
      }
    },
    {
      "cell_type": "markdown",
      "source": [
        "##### <font color=\"blue\">*Quantum Complexity*"
      ],
      "metadata": {
        "id": "834Tcd0HK8bL"
      }
    },
    {
      "cell_type": "markdown",
      "source": [
        "*Magic States*"
      ],
      "metadata": {
        "id": "hcM48NkednfR"
      }
    },
    {
      "cell_type": "markdown",
      "source": [
        "**Magische Teilchenzustände am weltgrößten Beschleuniger gefunden**\n",
        "* Wenn am LHC die schwersten bekannten Elementarteilchen entstehen, kommt es zu einem Quantenphänomen namens Magie. Dieser Effekt könnte fehlertolerante Quantencomputer ermöglichen.\n",
        "* https://www.spektrum.de/news/quantenphysik-magische-teilchenzustaende-am-weltgroessten-beschleuniger/2247440\n",
        "* https://journals.aps.org/prd/abstract/10.1103/PhysRevD.110.116016 Magic States of Top-Quarks"
      ],
      "metadata": {
        "id": "Mv_e4NCidpC-"
      }
    },
    {
      "cell_type": "markdown",
      "source": [
        "**Negative Wahrscheinlichkeiten erzeugen »Magie« in Qubits**\n",
        "* Für verlässliche Berechnungen auf Quantencomputern sind komplizierte »magische Zustände« nötig. Forschende haben nun einen ungewöhnlichen Weg gefunden, diese zu erzeugen.\n",
        "* https://www.spektrum.de/news/neue-methode-zur-herstellung-magischer-zustaende-fuer-quantencomputer/2234031\n",
        "* https://www.nature.com/articles/s41567-024-02620-y.epdf?sharing_token=N-T9WCJqlZ9VQwC-IydEkdRgN0jAjWel9jnR3ZoTv0Pm4gIxIw-FwtWsJ_5b0vvlFrZX6JY3n_yLN5RBolHu9uqv_tSZFHdReIYqI_0d7LNTnhDnKeIiVsATHtwqDLN3IyR7H_T6VkSzk5itbvU1WZl2SPstLQPE8tYo8E___7BpEy91hisrZrzuaY9fbh19suqUNwU0OZkA7JUdG4X-yupDLVSmFE1ro65MbIPNcBQ%3D&tracking_referrer=www.spektrum.de\n",
        "* Für wirklich leistungsfähige Quantencomputer reicht es nicht aus, die Recheneinheiten nur in überlagerte und miteinander verschränkte Zustände zu bringen. Damit die Geräte bei ihren Berechnungen klassischen Computern überlegen sind, braucht es weitere Quanteneigenschaften, die beispielsweise für eine geringere Anfälligkeit gegenüber Fehlern sorgen. Solche Eigenschaften heißen magisch. Andersherum gilt für ein physikalisches System: Je magischer es ist, desto schwieriger lässt es sich mit einem herkömmlichen Computer simulieren."
      ],
      "metadata": {
        "id": "UzwXjA2odq5-"
      }
    },
    {
      "cell_type": "markdown",
      "source": [
        "Der Schlüssel zu voll funktionsfähigen Quantencomputern ist Magie. Damit sind keine mysteriösen Glaskugeln oder übernatürliche Kräfte gemeint. Vielmehr bezeichnen Physiker so jene Quantenberechnungen, die sich nicht mit gewöhnlichen Rechnern durchführen lassen. Allerdings sind solche »magischen Zustände« sehr aufwändig herzustellen. Wie ein Forschungsteam um den Physiker Pradeep Niroula von der University of Maryland nun in der Fachzeitschrift »Nature Physics« berichtet, können Fehler in bestimmten Qubit-Anordnungen magische Zustände erzeugen. Tatsächlich beobachteten die Forschenden eine Art Phasenübergang: Die Stärke der Fehler übernimmt dabei die Rolle der Temperatur und führt zu einem Übergang von »nichtmagischen« zu magischen Zuständen, die teilweise mit negativen Wahrscheinlichkeiten behaftet sind. »Die Quanteninformatik schreitet weiter voran und das Verständnis und die Nutzung der Magie wird der Schlüssel sein, um das volle Potenzial der Quantentechnologien zu erschließen«, schreibt der Physiker Xhek Turkeshi von der Universität zu Köln in einem bei »Nature« erschienenen Begleitartikel zur Forschungsarbeit.\n",
        "\n",
        "Neue Wirkstoffe, Wundermaterialien und ein tieferes Verständnis der Quantenwelt: Das sind nur einige der beeindruckenden Versprechungen von Quantencomputern. Im Gegensatz zu herkömmlichen Rechnern verarbeiten Quantencomputer quantenmechanische Informationseinheiten, so genannte Qubits. Diese können wie ihre klassischen Pendants die Werte eins und null annehmen – aber auch überlagerte Zustände aufweisen, bei denen sie beispielsweise mit 60-prozentiger Wahrscheinlichkeit null und mit 40-prozentiger eins sind. Zudem können Qubits durch eine Art unsichtbares Band selbst über große Distanzen hinweg untrennbar miteinander verbunden sein; ein Quantenphänomen, das als Verschränkung bekannt ist. Die seltsamen Regeln der Quantenmechanik ermöglichen es, völlig neue Arten von Berechnungen durchzuführen – und so einige Probleme zu lösen, die für gewöhnliche Rechner unerreichbar sind.\n",
        "\n",
        "**»Oft wird behauptet, das Besondere an Quantencomputern seien die Überlagerung und die Verschränkung, aber das stimmt so nicht ganz«, schrieb die Physikerin Zaira Nazario vom IBM Watson Research Center in Yorktown Heights, New York, in einem »Spektrum«-Artikel. Tatsächlich können viele Quantenberechnungen effizient durch klassische Computer simuliert werden. Hierbei unterscheiden Quanteninformationstheoretiker zwei Arten von Qubit-Operationen: so genannte Clifford-Gatter und Nicht-Clifford-Gatter. Beide können die Quanteninformationseinheiten überlagern oder miteinander verschränken. Erstere sind einfacher umzusetzen – mit ihnen lassen sich aber nur Berechnungen durchführen, die auch klassische Computer bewältigen können. Damit bieten sie keinen Vorteil. »Für sich genommen können sie keinen universellen Quantencomputer bilden, da sie nicht alle möglichen Quantenzustände erzeugen können«, schreibt Xhek Turkeshi.**\n",
        "\n",
        "Tatsächlich können Quantencomputer ihre gesamte Kraft erst entfalten, wenn sie Nicht-Clifford-Gatter enthalten. Diese entsprechen jenen Operationen, die nicht effizient durch gewöhnliche Rechner simuliert werden können; etwa die Vertauschung zweier Qubits oder die Änderung der Phase um π/4. Die berühmtesten Quantenalgorithmen wie der Shor-Algorithmus (der es Quantencomputern ermöglichen könnte, große Zahlen schnell in ihre Primteiler zu zerlegen) greifen in der Regel immer auf solche Operationen zurück. »In Quantencomputern lassen sich Nicht-Clifford-Gatter einfach umsetzen«, schreiben die Forschenden um Pradeep Niroula in ihrer Arbeit. Die Situation sieht allerdings anders aus, wenn man Quantenfehlerkorrekturen miteinbezieht.\n",
        "\n",
        "\n",
        "Fehler loswerden\n",
        "\n",
        "Quantencomputer haben einen entscheidenden Nachteil: Sie sind extrem empfindlich. Kleinste Umwelteinflüsse wie Erschütterungen oder Temperaturschwankungen können die Quantenzustände der Qubits zerstören und Fehler erzeugen. Daher sind Algorithmen zur Fehlerkorrektur für verlässliche Berechnungen unverzichtbar. Dabei verteilt man die Quanteninformation auf mehrere »physische« Qubits (zum Beispiel die Ionen oder die supraleitenden Schaltkreise, je nach Art des Quantencomputers) und codiert damit ein einzelnes »logisches« Qubit. Solche Algorithmen erhöhen also die Anzahl der benötigten Quanteninformationseinheiten.\n",
        "\n",
        "Clifford-Gatter lassen sich mit Quantenfehlerkorrekturen einfach verbinden: Diese Gatter verarbeiten die vielen physischen Qubits, aus denen ein einzelnes logisches Qubits besteht, individuell. »Daher bleibt die Fehlerrate immer gleich und somit unter Kontrolle«, schrieb Zaira Nazario. »Das ist eine nützliche Eigenschaft, die verhindert, dass sich große Rechnungen nicht mehr bewältigen lassen.« Anders ist es hingegen bei Nicht-Clifford-Gattern. Wenn Fehler auftreten, lassen sich diese Gatter viel schwieriger korrigieren; sie sind so empfindlich, dass schon der kleinste Fehler bei diesen Operationen eine ganze Berechnung zunichtemachen kann. Doch Physikerinnen und Physiker haben einen Ausweg gefunden: Magie.\n",
        "\n",
        "»Die komplizierten Nicht-Clifford-Gatter werden dabei durch Qubits ersetzt, die sich in einem magischen Zustand befinden«, schrieb Nazario. »Diese codieren dann die Wirkung der Nicht-Clifford-Operationen.« Indem man also solche magischen Zustände mit Clifford-Gattern verbindet, lassen sich theoretisch fehlertolerante Quantencomputer realisieren. Theoretisch. Denn die magischen Zustände reagieren nicht nur extrem empfindlich auf äußere Einflüsse, sondern sind auch in der Herstellung sehr aufwändig. In der Regel muss man sehr viele fehlerbehaftete magische Zustände herstellen und dann daraus die »reinsten« extrahieren.\n",
        "\n",
        "»Das Verständnis der Mechanismen, durch die Magie erzeugt oder zerstört wird, ist ein wichtiger Schritt auf dem Weg zu einer effizienten und praktischen fehlertoleranten Berechnung«, schreibt das Team um Niroula. Deshalb haben sie das Phänomen genauer unter die Lupe genommen. Die Fachleute griffen dafür nicht nur auf computergestützte Simulationen zurück, sondern setzten ihre Überlegungen auch in einem 32 Qubits umfassenden Quantencomputer mit Ionenfallen um.\n",
        "\n",
        "Die Fachleute haben dafür eine bestimmte Art von Fehlerkorrektur genutzt, so genannte zufällige Stabilisierungscodes. In diesen erfolgt die Codierung und Decodierung der Quanteninformation innerhalb eines logischen Qubits durch zufällig gewählte Clifford-Gatter mit wenigen magischen Zuständen. Die Forschenden speisten daraufhin gezielt bestimmte Fehler in das System ein, welche die Quantenzustände nicht direkt zerstören (so wird etwa die Überlagerung eines Qubits verändert). Das Team untersuchte, wie sich diese Fehler auf die Magie des logischen Quantenzustands auswirken.\n",
        "\n",
        "Um die Magie zu vermessen, schauten sich die Physikerinnen und Physiker die Entropie des Systems an, deren Werte einer Wahrscheinlichkeitsverteilung folgen. Im Gegensatz zu gewöhnlichen Wahrscheinlichkeiten kann sie in diesem Fall auch negative Werte annehmen. »Diese Negativität ist wichtig«, erklärt Niroula auf X (Article\n",
        "https://doi.org/10.1038/\n",
        "Phase transition in magic with random\n",
        "quantum circuits, https://x.com/NiroulaPradeep/status/1838194593117987113) ; denn sie deutet auf magische Zustände hin, wie bereits in früheren Arbeiten gezeigt wurde (https://www.nature.com/articles/s41534-022-00551-1). Dass die Quantenphysik den gewöhnlichen Regeln der Wahrscheinlichkeitslehre widerspricht, ist nicht neu: Es kommt manchmal vor, dass Quantenzustände »Pseudowahrscheinlichkeitsverteilungen« folgen, die teilweise negative Werte haben können.\n",
        "\n",
        "Die Fachleute stellten fest, dass der Quantenzustand des logischen Qubits durch kleine Fehler nach Ausführen des Stabilisierungscodes wenig Magie enthält – so wie vor dem Anwenden des Codes. »Starke Fehler führen hingegen zu umfangreicher Magie im logischen Zustand«, schreibt Xhek Turkeshi. Wie das Forschungsteam herausfand, gleicht der Verlauf der Magie eines Systems bei Erhöhung der Fehler einem Phasenübergang, ähnlich wie der Übergang eines Festkörpers zu einer Flüssigkeit, wenn die Temperatur steigt.\n",
        "\n",
        "»Das Ergebnis verdeutlicht einmal mehr, wie schwierig es ist, zu bestimmen, was etwas zu einem ›Quant‹ macht«\n",
        "Xhek Turkeshi, Physiker\n",
        "\n",
        "Damit haben Niroula und seine Kollegen und Kolleginnen einen neuen Weg gefunden, um magische Zustände zu erzeugen. »Allerdings beruht dieser Zustand auf zufälligen Fehlern und unterliegt damit nicht der Kontrolle des Experimentators«, schreibt Turkeshi. »Die Herausforderung besteht darin, den Zustand in einen Zustand zu verwandeln, der für Quantenberechnungen nützlich ist.« Dies könne gelingen, wenn man andere Stabilisierungscodes betrachtet.\n",
        "\n",
        "Dennoch betont der Physiker, dass die neueste Arbeit der Forschenden überaus wichtig ist. »Das Ergebnis von Niroula und Kollegen verdeutlicht einmal mehr, wie schwierig es ist, zu bestimmen, was etwas zu einem ›Quant‹ macht. Vor einem Jahrhundert, bei der Geburt der Quantenmechanik, war diese Frage eine philosophische, aber jetzt ist sie mit Messungen untersuchbar.«\n"
      ],
      "metadata": {
        "id": "LxbIdjACds0t"
      }
    },
    {
      "cell_type": "markdown",
      "source": [
        "*Quantum Computing Complexity*"
      ],
      "metadata": {
        "id": "SDccc3jSdvty"
      }
    },
    {
      "cell_type": "markdown",
      "source": [
        "> **Complexity of Learning Quantum States**"
      ],
      "metadata": {
        "id": "VvTxnlCjdxoL"
      }
    },
    {
      "cell_type": "markdown",
      "source": [
        "<font color=\"blue\">**Complexity of <u>Simulating</u> Quantum Circuit Distributions** (Computational Complexity)</font>\n",
        "\n",
        "> Quantamagazine: [The Quest to Quantify Quantumness](https://www.quantamagazine.org/the-quest-to-quantify-quantumness-20231019/)\n",
        "\n",
        "\n",
        "* **Entanglement**\n",
        "  * Unentangled quantum states are easy to simulate classically\n",
        "  * Entangled quantum states are hard to simulate on classical hardware\n",
        "* **Entanglement + Non-Clifford Gates (magic states)**\n",
        "  * 1998: Clifford group (stabilizer circuits) can be efficiently simulated, even entangled (Gottesman and Knill) with $n$ qubits and $m$ in $\\mathcal{O}(n^2 m)$ including a small constant factor [Improved simulation of stabilizer circuits](https://journals.aps.org/pra/abstract/10.1103/PhysRevA.70.052328).\n",
        "  * 2004: One T-gate drastically increases simulation difficulty. In 2004, Bravyi and Kitaev proposed \"**magic state distillation**\" to create high-fidelity T-gates \\cite{10.1103/PhysRevA.71.022316}. This technique, in theory, enables T-gate production on quantum computers, even those not yet large enough.\n",
        "* **Entanglement + Non-Clifford Gates (magic states) + Swap Gates**\n",
        "  * 2016: Some T-gates are able to simulate: in 2016 allowed for the classical simulation of quantum circuits with T-gates, blurring the lines between classical and quantum capabilities \\cite{10.1103/PhysRevLett.116.250501}.\n",
        "  * Addition of **\"Swap gates\" introduces fermion interaction, significantly complicating computation**. Notably, matchgate circuits simulating free fermions (like electrons) remain easy to simulate classically (Free-fermion simulations (non-interacting)) \\cite{10.1103/PhysRevA.65.032325}.\n",
        "* **Entanglement + Non-Clifford Gates (magic states) + Swap Gates + ...**\n",
        "  * 2023: Recently, even this barrier has been challenged: simulations of circuits with 10 swap gates at speeds millions of times faster than previously thought, though still exponentially hard \\cite{2307.12654, 10.22331/q-2024-05-21-1350, 2307.12702}.\n",
        "* Furthermore, a connection between quantum entanglement and quantum circuit com- plexity was revealed by Eisert, who proved that the entangling power of a unitary transformation provides a lower bound for its circuit cost [20]"
      ],
      "metadata": {
        "id": "oI9IswdldzIR"
      }
    },
    {
      "cell_type": "markdown",
      "source": [
        "<font color=\"blue\">**Complexity of <u>Learning</u> Quantum Circuit Distributions** (Computational Complexity)</font>\n",
        "* Quantum sampling  enables the generation of quantum data, can be considered generative models $\\rightarrow$ Under what conditions can classical ML efficiently learn from quantum circuit samples, and when is there a quantum advantage?\n",
        "* Quantum Circuit Sampling (random circuit sampling and boson sampling):\n",
        "  * too hard for classical circuits in certain cases, [Q2B23 SV | The Future of Quantum Supremacy Experiments | Scott Aaronson](https://www.youtube.com/watch?v=WWll3y_iBQU)\n",
        "  * And also: exponentially hard to verify classically, [Circuit Conspiracies](https://www.youtube.com/watch?v=CEdN1tI3NDw). Proposed approach by Aaronson: If **peaked random circuits** were indistinguishable from random and easy to generate, we could immediately use them for verifiable NISQ quantum advantage: \"given as input a circuit C, is C random or peaked?\"\n",
        "* Easy to **learn** the output distribution of Clifford circuits.\n",
        "  * Video: [Fundamental limits to quantum computation (Jens Eisert)](https://www.youtube.com/watch?v=NhNB_Z50vII)\n",
        "* A single T-gate within a circuit can make distribution **learning** hard\n",
        "  * [A single T-gate makes distribution learning hard](https://arxiv.org/abs/2207.03140)\n",
        "  * Note difference: one can simulate several T-gates, but learn not even one classically efficiently)\n",
        "  * an information retrieval decoder for black holes modeled by random Clifford circuits with T-gates \\cite{10.1103/`PhysRevA`.106.062434}.\n",
        "  * reconstruction of information lost in a black hole by observing its emitted radiation, assuming black hole does not possess excessive magic states \\cite{10.1103/PhysRevLett.132.080402}.\n",
        "* Constant-depth quantum circuits with exponential separation to classical counterparts\n",
        "  * 2017: [Quantum advantage with shallow circuits](https://arxiv.org/abs/1704.00690)\n",
        "  * 2024: [Learning shallow quantum circuits](https://arxiv.org/abs/2401.10095) provide speedups. [Video](https://www.youtube.com/watch?v=iwVgTihWr2c)\n",
        "* Establishing quantum-classical separations in distribution learning [Superpolynomial quantum-classical separation for density modeling](https://journals.aps.org/pra/abstract/10.1103/PhysRevA.107.042416)\n",
        "\n",
        "<font color=\"blue\">$\\hookrightarrow$ **Complexity of Random Circuit Learning (RCS)**\n",
        "* Quantinuum wirth new record in Random Circuit Sampling: der H2-1-Quantenrechner knackte den Testalgorithmus innerhalb kürzester Zeit. Er benötigte dafür zudem 30.000-mal weniger Energie als ein Supercomputer. Das neue System erreichte bei der gängigen XEB-Benchmark für die Fehlerquote erstmals einen Wert von 0,35. Googles „Sycamore“ schaffte hingegen nur 0,002. Beim XEB steht 0 für 100 Prozent verrauscht und potenziell fehlerhaft und 1 für 100 Prozent fehlerfrei. (https://www.scinexx.de/news/technik/quantencomputer-knackt-rekord/)\n",
        "* **The hardness of random quantum circuits**\n",
        "  * https://www.nature.com/articles/s41567-023-02131-2: The hardness of random quantum circuits by Ramis Movassagh\n",
        "  * https://www.reddit.com/r/QuantumComputing/comments/16c8lrg/the_hardness_of_random_quantum_circuits/?rdt=41385\n",
        "  * IYH summary and evaluation of the paper \"The hardness of random quantum circuits\" published in Nature Physics:\n",
        "  * Summary:\n",
        "    * Proves that estimating output probabilities of random quantum circuits is #P-hard for classical computers.\n",
        "    * Also shows instantaneous quantum polynomial-time (IQP) circuits are classically hard to simulate.\n",
        "    * Achieves this via a worst-case to average-case reduction technique.\n",
        "    * Result means there is an exponential hardness barrier for approximate classical simulation of most quantum circuits.\n",
        "  * Approach:\n",
        "    * Models quantum circuits as paths in unitary group and reduces circuit simulation to estimating path integrals.\n",
        "    * Specifically, shows probability of bitstring is proportional to integral over path defined by circuit.\n",
        "    * Relates this to counting problems by constructing circuit-parametrized families of polynomial systems.\n",
        "    * Reduces #P-hard enumeration problems to approximating these path integrals.\n",
        "    * Extends techniques to IQP circuits using properties of Clifford circuits.\n",
        "  * Results:\n",
        "    * Concrete proof that random circuit sampling is classically intractable, assuming reasonable complexity assumptions.\n",
        "    * Holds even for approximate simulation with small relative error tolerance.\n",
        "    * Provides theoretical foundation for quantum computational advantage.\n",
        "  * Limitations:.\n",
        "    * Does not quantify exactly where hardness threshold lies.\n",
        "    * Noise and errors: The paper analyzes ideal circuit models without accounting for the noise, decoherence, and operational errors present in real quantum hardware. These practical errors can reduce the computational advantage of quantum systems. Accounting for noise models accurately in classical simulation remains an open challenge.\n",
        "    * Restricted connectivity: The paper focuses on circuits with nearest-neighbor interactions on a 2D grid. However, many quantum processors have limited qubit connectivity, which can constrain circuit design and limit performance gains compared to ideal circuits. Simulators can potentially leverage these constraints.\n",
        "    * Shallow circuits: The hardness result applies to circuits with sufficient depth. However, prior work has shown shallow circuits can be classically simulated more efficiently in some cases. The exact depth thresholds are not fully characterized.\n",
        "    * Specialized simulation techniques: The paper does not analyze all known simulation techniques. Specialized methods like tensor network contractions, importance sampling, and autoregressive models could potentially outperform the analyzed techniques for certain circuits.\n",
        "    * Sampling errors: The paper assumes perfect samplers. On real devices, finite sampling introduces errors that can reduce quantum advantage. Properly modeling the interplay between sampling and circuit errors in simulation remains an open problem.\n",
        "    * Complexity assumptions: The average-case hardness reductions rely on complexity conjectures like #P-hardness that are not mathematically proven. These assumptions could potentially be challenged by new techniques.\n",
        "\n",
        "<font color=\"blue\">$\\hookrightarrow$ **Complexity of Instantaneous Quantum Polynomial-Time (IQP) Circuits**\n",
        "* These circuits consist only of gates that commute with each other, making them easier to simulate classically than general quantum circuits. However, sampling from certain IQP circuit distributions is still believed to be hard for classical computers, making them interesting for quantum advantage demonstrations.\n",
        "* https://docs.quantum.ibm.com/api/qiskit/qiskit.circuit.library.IQP\n",
        "* M. J. Bremner et al. Average-case complexity versus approximate simulation of commuting quantum computations, Phys. Rev. Lett. 117, 080501 (2016). arXiv:1504.0799 (https://arxiv.org/abs/1504.07999)\n",
        "\n",
        "\n",
        "<font color=\"blue\">$\\hookrightarrow$ **Complexity of Other Quantum Circuits**\n",
        "There are other quantum circuit distributions besides random circuit sampling that are aimed at learning and could be potentially hard for classical computers:\n",
        "* **Quantum Approximate Optimization Algorithm (QAOA) Circuits**: QAOA is a variational algorithm designed to solve combinatorial optimization problems. QAOA circuits have a specific structure and are parameterized by a set of angles. Learning the optimal angles for a given problem is a challenging task that could be potentially hard for classical computers.\n",
        "* **Circuits with Non-Clifford Gates**: As mentioned earlier, non-Clifford gates like the T gate introduce complexity and challenge classical simulation methods. Circuits with a combination of Clifford and non-Clifford gates, especially those with deep structure and high entanglement, are promising candidates for exploring quantum advantage in learning tasks.\n",
        "* **Circuits for Quantum Machine Learning**: Variational quantum algorithms used in quantum machine learning often involve parameterized circuits that are trained to learn specific patterns or distributions in data. These circuits, with their complex structure and dependence on quantum effects, could be potentially hard for classical computers to simulate or learn efficiently\n",
        "\n",
        "\n"
      ],
      "metadata": {
        "id": "RundUvjid1XQ"
      }
    },
    {
      "cell_type": "markdown",
      "source": [
        "<font color=\"blue\">**Complexity of Learning Parity with Noise (LPN)**\n",
        "\n",
        "* **Learning Parity with Noise problem having quartic speedup**\n",
        "* Google, recently published a work on quartic quantum speedups for planted inference: https://arxiv.org/abs/2406.19378\n",
        "* They showcase a quantum algorithm for the Learning Parity with Noise problem having quartic speedup over the best known classical algorithm and exponential improvement in space.\n",
        "* Their work suggests that certain cryptosystems that were previously thought to be quantum-safe are susceptible to super-quadratic quantum attacks!\n",
        "\n",
        "Learning Parity with Noise (LPN) holds a special place in quantum computing for several reasons:\n",
        "\n",
        "1. **Quantum Advantage:** LPN is one of the few problems where quantum algorithms have a proven exponential speedup compared to the best-known classical algorithms. This means quantum computers can solve LPN much faster than classical computers, potentially opening doors to new applications.\n",
        "\n",
        "2. **Post-Quantum Cryptography:** LPN is considered a hard problem for both classical and quantum computers. It serves as the foundation for many post-quantum cryptographic schemes, which are designed to be secure even against attacks from future quantum computers.\n",
        "\n",
        "3. **Connection to Error Correction:** LPN is closely related to the theory of error-correcting codes, which are essential for building reliable quantum computers. Understanding LPN can lead to better error correction techniques and more fault-tolerant quantum systems.\n",
        "\n",
        "4. **Noise Tolerance:** Quantum computers are inherently noisy, and LPN is a problem that inherently involves noise. Studying LPN can help us understand how to design quantum algorithms that are robust to noise and errors.\n",
        "\n",
        "5. **Practical Applications:** LPN has potential applications in various fields, such as cryptography, machine learning, and even drug discovery. For example, LPN-based cryptographic schemes could be used to secure communication channels, while LPN-based machine learning algorithms could be used to analyze noisy data.\n",
        "\n",
        "**In summary:** LPN is a fascinating problem with both theoretical and practical significance in quantum computing. It highlights the potential advantages of quantum algorithms, provides a foundation for post-quantum cryptography, and offers insights into error correction and noise tolerance.\n",
        "\n",
        "\n"
      ],
      "metadata": {
        "id": "8p_j9Phnd4K7"
      }
    },
    {
      "cell_type": "markdown",
      "source": [
        "<font color=\"blue\">**Computational Complexity of Finding Ground States**</font>\n",
        "\n",
        "**Minimizing energy of quantum systems**\n",
        "* Between very easy and very hard:\n",
        "  * **Easy**: 1D gapped systems (Arad Landau Vazirani, Vidick 2017] or find local minimum under local unitary perturbations\n",
        "  * **Quantum sweetspot**: ??\n",
        "  * **Hard**: Global optimium is QMA hard (Kitaev et al 2002) or Finding ground states with exponential vanishing gap (PSpace hard)\n",
        "* **Approach: look for local optimum, not global**! Interestingly: even nature doesn't always find it - Is it then necessary to look for global optimum, or just look for local? This is classically hard, but quantumly easy [Local minima in quantum systems_Leo Zhou](https://www.youtube.com/watch?v=-cHfyHHO_30&list=LL&index=2&t=1248s) and [arxiv paper](https://arxiv.org/abs/2309.16596).\n",
        "  * Finding a local minimum under **local unitary** perturbations is **classically easy** (For any local Hamiltonian H, any random state is a local minima). There are exp(exp(n)) such local minima! (double exponentially)\n",
        "  * Finding a local minimum under **thermal** perturbations is **classically hard**. Certain 2D Hamiltonians whose ground states encode universal quantum computation have no suboptimal local minima. **Assuming quantum circuits cannot be classically simulated, finding any local minimum of Hc must be classically HARD!** (<font color=\"blue\">that's why important to focus in circuits, not use cases</font>)\n",
        "\n",
        "**Finding ground states with exponential vanishing gap**\n",
        "* **Lower Bound (Ω):** computationally hard, even for quantum computers, likely superpolynomial lower bound (e.g., $\\Omega(n^c)$ for some constant c > 1).\n",
        "  * **Exponential Vanishing Gap:** As the system size grows, the energy gap between the ground state and the first excited state shrinks exponentially. This makes it increasingly difficult to distinguish the ground state from other low-energy states.\n",
        "  * **Quantum Phase Transitions:** Many systems with exponentially vanishing gaps exhibit quantum phase transitions. These transitions often involve complex quantum correlations that are challenging to simulate efficiently.\n",
        "* **Upper Bound (O):** difficult to determine, likely to be at least exponential in the system size, but exact scaling behavior depends on the specific algorithm and the properties of the system.\n",
        "  * **Adiabatic Quantum Computing (AQC):** AQC can sometimes find ground states by slowly evolving a system from a simple initial Hamiltonian to the desired final Hamiltonian. However, the runtime of AQC can scale exponentially with the inverse of the minimum energy gap, which is problematic for exponentially vanishing gaps.\n",
        "  * **Variational Quantum Eigensolvers (VQE):** VQE is a hybrid quantum-classical algorithm that uses a quantum computer to prepare and measure quantum states and a classical computer to optimize a variational ansatz. VQE has shown promise for finding ground states of certain systems, but its scaling behavior for exponentially vanishing gaps is not fully understood.\n",
        "  * **Quantum Approximate Optimization Algorithm (QAOA):** QAOA is another hybrid algorithm that attempts to find approximate solutions to optimization problems. Its applicability to finding ground states with exponentially vanishing gaps is still an active area of research.\n",
        "\n",
        "* **Femoco**\n",
        "  * Only subset can be efficiently simulated, otherwise taking too long (combine with classical)\n",
        "  * Page 3: [Evaluating the evidence for exponential quantum advantage in ground-state quantum chemistry](https://www.nature.com/articles/s41467-023-37587-6) (power of classical heuristics)\n"
      ],
      "metadata": {
        "id": "xMrRdleQd5xF"
      }
    },
    {
      "cell_type": "markdown",
      "source": [
        "<font color=\"blue\">**Computational Complexity of Quantum Algorithms**</font>\n",
        "\n",
        "\n",
        "<font color=\"blue\">Shor's algorithm</font>\n",
        "\n",
        "* **Circuit Complexity**: for factoring integers can be implemented with a circuit of depth O(log n). Shor's algorithm for factoring integers can be implemented with a circuit of depth O(log n).\n",
        "\n",
        "* **Computational Complexity**: the time complexity of Shor's algorithm depends on the error rate of the quantum computer. If the error rate is low enough, then the time complexity of Shor's algorithm will be polynomial in the size of the integer being factored.\n",
        "\n",
        "* Video: [How to factor 2048 bit RSA integers in 8 hours using 20 million noisy qubits](https://www.youtube.com/watch?v=upTipX9yXNg) und Paper [How to factor 2048 bit RSA integers in 8 hours using 20 million noisy qubits](https://quantum-journal.org/papers/q-2021-04-15-433/#)\n",
        "\n",
        "<font color=\"blue\">Quantum Fourier transform</font>\n",
        "*  Widely used in machine learning tasks like speech recognition, audio analysis, and vibration analysis, the Fourier Transform extracts frequency-based features from raw signals and aids in denoising, image filtering, and audio compression. Classically, it operates with a complexity of 𝑂(𝑁log⁡𝑁) for 𝑁 data points. The quantum version (Quantum Fourier Transform [5]) achieves this with a complexity of only 𝑂(log2⁡(𝑁)), offering an exponential advantage.\n",
        "* can be implemented with a circuit of depth O(log n), where n is the number of qubits. The quantum Fourier transform can be implemented with a circuit of depth O(log n), where n is the number of qubits. However, the time complexity of the quantum Fourier transform depends on the architecture of the quantum computer.\n",
        "* For example, if the quantum computer can implement the quantum Fourier transform using a parallel circuit, then the time complexity will be O(log n). However, if the quantum computer can only implement the quantum Fourier transform using a sequential circuit, then the time complexity will be O(n log n).\n",
        "\n",
        "<font color=\"blue\">Grover's Search</font>\n",
        "\n",
        "* can be implemented with a circuit of depth $\\mathcal{O}(\\sqrt{N})$, where N is database size. However, time complexity of Grover's algorithm depends on number of queries that can be made to database. If number of queries is limited, then time complexity is higher than $\\mathcal{O}(\\sqrt{N})$\n",
        "* **Upper Bound $\\mathcal{O}(\\sqrt{N} log N)$:** represents circuit complexity of best-known implementation of Grover's algorithm. The log N factor indicates a small overhead compared to the theoretical lower bound. This overhead is due to the additional operations needed for tasks like amplitude amplification and error correction.\n",
        "* **Lower Bound $(\\Omega \\sqrt{N})$:** This is the theoretical limit for the circuit complexity of any quantum search algorithm, including Grover's. It's based on the minimum number of queries to the oracle function required to solve the search problem.\n",
        "* **Potential improvements to reduce circuit complexity:** More Efficient Oracles: with fewer quantum gates. More efficient ways for amplitude amplification Novel quantum algorithms for quantum search.\n",
        "\n",
        "<font color=\"blue\">Quantum Phase Estimation</font>\n",
        "* Estimate the eigenvalues (phases) of a unitary operator. Used to find ground state energy of a molecule by simulating its Hamiltonian.\n",
        "* This algorithm [7] is used to estimate the eigenvalues of a unitary operator. In spectral graph theory applications, such as spectral clustering, QPE can be used to find the eigenvalues of the graph Laplacian, significantly speeding up the clustering process based on spectral properties. Principal component analysis, a method for dimensionality reduction, involves solving eigenvalue problems, which can also be accelerated using QPE. The classical complexity of these problems is around 𝑂(𝑁2), while the quantum complexity can be reduced to 𝑂(log2⁡(𝑁)), providing an exponential advantage.\n",
        "* **Computational Complexity:**\n",
        "  1. **Exponential Scaling in Some Cases**: Although QPE offers an exponential speedup in estimating eigenvalues with respect to precision, this speedup does not always translate into practical benefits. For instance, the overall complexity of the quantum algorithm might still scale poorly with the size of the problem.\n",
        "  2. **Query Complexity**: **Lower Bounds**: Recent research has established tight lower bounds on the query complexity of QPE. For achieving a desired precision δ and error probability ε, the algorithm requires Ω((1/δ)log(1/ε)) queries to the unitary operator whose eigenvalue phase is being estimated. This lower bound matches the known upper bound, indicating that we have a good understanding of the optimal query complexity for QPE.  This lower bound means that there is a fundamental limit to how quickly QPE can converge to the true phase value, which is crucial for resource-constrained scenarios.\n",
        "  3. **Preparation of Eigenstates**: QPE assumes the availability of an eigenstate of the unitary operator. Preparing such eigenstates can be computationally challenging. **Initial State Preparation**: Preparing a good approximation of the ground state is crucial for QPE success. This task can be resource-intensive and challenging, leading to incorrect phase estimation and energy values if not done properly.\n",
        "* **Quantum Circuit Complexity**\n",
        "  1. **Circuit Depth**: QPE requires a quantum circuit with a depth that scales linearly with the desired precision. High precision demands deeper circuits, increasing susceptibility to errors due to decoherence and noise.\n",
        "  2. **Gate Complexity**: QPE requires long and complex quantum circuits, especially for high precision estimates. The depth of the circuit increases with the desired precision, which means more gates and thus more opportunities for errors to accumulate. It‘s a bottleneck for near-term quantum devices with limited gate fidelity.\n",
        "  3. **Ancilla Qubits**: QPE typically requires additional ancillary qubits for the phase kickback operation. The number of ancilla qubits can be a limiting factor for current quantum computers.\n",
        "  4. **Circuit Synthesis**: Efficiently synthesizing the quantum circuits required for QPE can be computationally challenging, especially for large systems, limiting practicality for complex problems.\n",
        "  5. **Resource Requirements**: QPE demands a large number of qubits and gates, often exceeding current quantum hardware capabilities, particularly for simulating complex molecules.\n",
        "  6. **Error Rates and Quantum Decoherence**: High error rates and limited coherence times in current quantum computers pose challenges for running long QPE circuits without significant errors.\n",
        "* **Additional notes**\n",
        "  * many applications based on Quantum Phase Estimation, but that has an upper limit, too low for industrial applications, e.g. in ground states finding for biochemistry\n",
        "  * So, will #NISQ #variational algorithms solve industrial chemistry problems (read: cheaper, faster or with more accuracy, at the same run-time as their classical counterparts)- very likely not. (Or the other way round, there is no scientific proof whatsoever that this is possible!)\n",
        "  * It’s time to invest into #ftqc - #algorithm research - because today’s #qubitzed algorithms have natural speed limits (based on Hamiltonian spectra! (https://lnkd.in/dgdth8iZ ) - so it’s time to look beyond #qpe and find smarter and faster ways towards ground states of single geometries! And once this is solved - the next piece is to get #expectation values efficiently (because a single ground state does seldomly help in an industrial application).\n",
        "  * P450 starting point- https://www.pnas.org/doi/10.1073/pnas.2203533119 (72h)\n",
        "  * Scdf optimization- https://arxiv.org/abs/2403.03502 (/2 36h)\n",
        "  * Limits - https://arxiv.org/abs/2403.04737  (another /2)\n",
        "\n",
        "\n",
        "<font color=\"blue\">HHL for Linear Algebra</font>\n",
        "\n",
        "* designed for solving linear systems of equations, remains a quantum algorithm with potential quantum advantage under certain conditions.\n",
        "* This algorithm [6] solves linear systems of equations, a common requirement in many machine learning models such as support vector machines and recommender systems, which often involve matrix factorization. Classical algorithms, like the Conjugate Gradient method, have polynomial complexity 𝑂(𝑁⋅𝑘) where 𝑘 is the condition number of the matrix. The HHL algorithm, however, operates with a complexity of 𝑂(log⁡(𝑁)⋅poly(𝑘,1𝜖)), where 𝜖 is the desired precision of the solution. This represents an exponential speedup in terms of dimensionality, assuming 𝑘 and 1𝜖 are manageable.\n",
        "* data structure properties more amenable to quantum speedups with HHL: sparse matrices, Low Condition Number, specific matrix structures (like those arising from certain graph problems or partial differential equations), large problem sizes\n",
        "* Sparsity and Low Rank: Matrices with high rank tend to be dense (i.e., having few zero elements). HHL is specifically designed to leverage sparsity for efficiency. If a matrix is dense, the quantum advantage of HHL diminishes, as the algorithm's complexity scales with the number of non-zero elements.\n",
        "* Condition Number and Rank: The condition number of a matrix is lower bounded by the ratio of the largest singular value to the smallest singular value.  High-rank matrices often have a wider range of singular values, which can lead to a higher condition number. As mentioned earlier, HHL's runtime depends logarithmically on the condition number, so high-rank matrices might not be the most suitable candidates for significant speedups.\n",
        "* High-Rank Matrices: HHL Algorithm: As discussed earlier, HHL is not well-suited for high-rank matrices due to its reliance on sparsity and the inverse relationship between rank and condition number. High-rank matrices tend to be dense and ill-conditioned, leading to less efficient or even impractical implementations of HHL.\n",
        "* Low-Rank Matrices: HHL Algorithm: HHL can potentially offer quantum speedups for low-rank matrices, especially if they are sparse and well-conditioned. The algorithm's complexity scales favorably with the sparsity and condition number, both of which are often associated with low-rank matrices.\n",
        "\n",
        "\n",
        "<font color=\"blue\">Quantum Singular Value Transformation (QSVT)</font>\n",
        "\n",
        "* High-Rank Matrices: Potential for Quantum Speedup: There might still be specific scenarios where quantum algorithms could offer speedups for high-rank matrices. For instance, certain quantum linear algebra techniques, like quantum singular value transformation (QSVT), can potentially manipulate high-rank matrices more efficiently than classical methods. However, these applications are still under active research and their practicality for real-world problems is yet to be fully established.\n",
        "\n",
        "* Low-Rank Matrices: Dequantization and Recommender Systems: As you rightly pointed out, Ewin Tang's work demonstrated that the quantum advantage of certain recommender system algorithms was primarily due to the low-rank nature of the underlying data. This highlights the importance of considering the inherent properties of the data when evaluating the potential for quantum speedups.\n",
        "\n",
        "* Low-Rank Matrix Approximation: Tang observed that many recommendation systems operate on data matrices that are inherently low-rank or can be well-approximated by low-rank matrices. This means that the essential information in the data can be captured by a relatively small number of latent factors. | Randomized Linear Algebra:  Tang utilized randomized linear algebra techniques, specifically random sampling and projection methods, to efficiently find these low-rank approximations of the data matrices. These techniques are computationally efficient on classical computers.\n",
        "\n"
      ],
      "metadata": {
        "id": "yQD4BkEtd7vk"
      }
    },
    {
      "cell_type": "markdown",
      "source": [
        "<font color=\"Blue\">**How to represent quantum information on a classical computer**\n",
        "\n",
        "* State of quantum system described by vector in complex vector space. For $n$-qubit system, state vector $\\psi$ is superposition of all possible $2^n$ basis states. Each basis state $|i\\rangle$ (where $i$ ranges from 0 to $2^n - 1$) has associated **complex amplitude** $\\alpha_i$, which is complex number.\n",
        "* State vector can be written as: $|\\psi\\rangle = \\sum_{i=0}^{2^n-1} \\alpha_i |i\\rangle$, where $\\alpha_i$ are complex amplitudes, and the sum of the squares of their magnitudes equals 1: $\\sum_{i=0}^{2^n-1} |\\alpha_i|^2 = 1$\n",
        "* **Memory requirement = 16 bytes per Amplitude** for storing 1 complex number in double-precision (8 bytes for real part + 8 bytes for imaginary part = complex number $\\alpha$)\n",
        "* **Total Memory Requirement** for Quantum States $n$-qubit quantum state with $2^n$ complex amplitudes = $2^n \\times 16 \\text{ bytes}$\n",
        "* **16 Qubits:**\n",
        "  - **Number of Amplitudes:** $2^{16} = 65,536$\n",
        "  - **Total Memory:** $65,536 \\times 16 = 1,048,576 \\text{ bytes} = 1 \\text{ MB}$\n",
        "* **784 Qubits:**\n",
        "  - **Number of Amplitudes:** $2^{784}$\n",
        "  - **Total Memory:** $2^{784} \\times 16 \\text{ bytes}$ (astronomically large)\n",
        "\n",
        "<font color=\"Blue\">*How many qubits one can realistically simulate on classical hardware at the moment?*\n",
        "\n",
        "Complexity of simulating quantum circuits grows exponentially with the number of qubits. Simulating $n$ qubits requires storing $2^n$ complex amplitudes and $16 \\times 2^n$ bytes memory for storing state vector of $n$ qubits in double precision:\n",
        "- **20 qubits:** Requires storing $2^{20} \\approx 1$ million complex amplitudes $\\approx$ 16 MB memory (16 x 2$^{20}$ bytes)\n",
        "- **30 qubits:** Requires storing $2^{30} \\approx 1$ billion complex amplitudes $\\approx$ 16 GB memory (16 x 2$^{30}$ bytes)\n",
        "- **40 qubits:** Requires storing $2^{40} \\approx 1$ trillion complex amplitudes $\\approx$ 16 TB memory (16 x 2$^{40}$ bytes)\n",
        "\n",
        "**Alice and Bob**\n",
        "\n",
        "Are there things that only a quantum computer can do?\n",
        "\n",
        "The theoretical answer is... no.\n",
        "\n",
        "Everything that can be computed by a quantum computer can also be computed by a classical computer.\n",
        "\n",
        "The math is not very hard in theory:\n",
        "- The state of a N-qubit quantum computer is just a vector with 2^N coefficients\n",
        "- To perform an operation, you just multiply this vector by a square matrix of the same size\n",
        "\n",
        "All these things can perfectly be replicated on a classical computer - and they are. We do have quantum computer emulators, which even often work better than real quantum computers.\n",
        "\n",
        "So, why don't we even bother with building quantum hardware?\n",
        "\n",
        "Well, everything lies in the 2^N.\n",
        "\n",
        "If we assume we need 16 bits to store a coefficient:\n",
        "- 10 qubits require 16 KB of memory\n",
        "- 20 qubits require 16 MB\n",
        "- 30 qubits require 16 GB\n",
        "- 40 qubits require 16 TB\n",
        "- 50 qubits require 16 PB\n",
        "\n",
        "As you can see, this becomes quickly unbearable even for the biggest supercomputers, current and future.\n",
        "\n",
        "Besides, if we take a problem like RSA encryption, the problem is not that we don't know how to break it. We know the classical algorithm and it is extremely easy to describe. The problem is that it would just take billions of years to run even for a modestly large key (~2000 qubit).\n",
        "\n",
        "So, quantum computing is not about doing things that classical computers can't do in theory.\n",
        "\n",
        "It is about doing things that classical computers can't do in practice.\n",
        "\n",
        "We still have a bit of work to get there, but the 2^N is working for us 👀"
      ],
      "metadata": {
        "id": "xPBVg3Ehd9uu"
      }
    },
    {
      "cell_type": "markdown",
      "source": [
        "> **Complexity of Preparing Quantum States**"
      ],
      "metadata": {
        "id": "Pwr-9V62d_0U"
      }
    },
    {
      "cell_type": "markdown",
      "source": [
        "<font color=\"blue\">**Bounds on Implementing qRAM** (Circuit Complexity)</font>\n",
        "\n",
        "* arxiv: [Quantum random access memory](https://arxiv.org/abs/0708.1879v2)\n",
        "\n",
        "* arxiv: [Quantum Random Access Memory For Dummies](https://arxiv.org/abs/2305.01178)\n",
        "\n",
        "* arxiv: [QRAM: A Survey and Critique](https://arxiv.org/abs/2305.10310)\n",
        "\n",
        "* https://quantumcomputing.stackexchange.com/questions/18518/what-is-the-complexity-of-loading-n-inputs-using-a-qram\n",
        "\n",
        "* qRAM locates one memory cell in log n time. This means it takes n(n log n) time to access n memory cells.\n",
        "\n",
        "* Loading n data can be done in n(log n) time.\n",
        "\n",
        "* The storage of data in qRAM can be summarized using the following equation: $\\sum_{i=0}^{N-1} \\alpha_i|i\\rangle_r \\xrightarrow{Q R A M} \\sum_{i=0}^{N-1} \\alpha_i|i\\rangle_r\\left|X_i\\right\\rangle_o$\n",
        "\n",
        "\n",
        "![sciences](https://raw.githubusercontent.com/deltorobarba/repo/master/sciences_1775.png)\n",
        "\n",
        "https://quantumcomputing.stackexchange.com/questions/18518/what-is-the-complexity-of-loading-n-inputs-using-a-qram\n",
        "\n",
        "![sciences](https://raw.githubusercontent.com/deltorobarba/repo/master/sciences_1776.png)\n",
        "\n",
        "https://www.researchgate.net/figure/QRAM-implementations-a-Quantum-router-The-router-directs-an-incident-qubit-b-at-its_fig1_351197680"
      ],
      "metadata": {
        "id": "9FpK9xr2eBZm"
      }
    },
    {
      "cell_type": "markdown",
      "source": [
        "<font color=\"blue\">**Bounds on Implementing Gate Operations** (Circuit Complexity)</font>\n",
        "\n",
        "**Any Gate Operation Complexity (NAND)**\n",
        "\n",
        "* [Focus beyond quadratic speedups for error-corrected quantum advantage](https://arxiv.org/abs/2011.04149): there is roughly a ten order of magnitude difference between the spacetime volume required for comparable operations on an error-corrected quantum computer and a classical computer.\n",
        "\n",
        "\n",
        "**T-Gate operation complexity** (complexity of implementing a T-gate)\n",
        "* reduced by deepmind\n",
        "* Gate Decomposition Complexity:\n",
        "  * In a universal quantum gate set (such as the Clifford+T set), the T-gate is considered a fundamental gate. Therefore, its implementation in terms of gate count is minimal when it is directly available in the hardware's gate set.\n",
        "* Fault-Tolerant Quantum Computing\n",
        "    * In fault-tolerant quantum computing, the T-gate is more complex to implement due to the necessity of error correction. The T-gate cannot be implemented transversally in most quantum error-correcting codes, such as the popular surface code. Instead, it typically requires a more complex process known as \"magic state distillation\" and \"gate teleportation.\n",
        "    * Magic state distillation is a resource-intensive process used to prepare high-fidelity T-states, which are then used to perform the T-gate operation. This process involves multiple rounds of distillation and can be quite costly in terms of qubits and operations.\n",
        "* Resource Estimates in Fault-Tolerant Quantum Computing\n",
        "    * Magic State Distillation: The process of producing a high-fidelity T-state requires multiple lower-fidelity T-states and a series of Clifford operations. The exact resource requirements depend on the desired fidelity of the T-gate and the error rates of the physical qubits. Estimates suggest that thousands of physical qubits might be needed to achieve fault-tolerant implementation of a T-gate.\n",
        "    * Gate Teleportation: Once a high-fidelity magic state is prepared, the T-gate can be applied using gate teleportation, which generally involves a few ancillary qubits and a sequence of Clifford operations.\n",
        "\n",
        "**Toffoli operation complexity**\n",
        "\n",
        "* Paper: [Focus beyond quadratic speedups for error-corrected quantum advantage](https://arxiv.org/abs/2011.04149)"
      ],
      "metadata": {
        "id": "uX15BaH-eDG_"
      }
    },
    {
      "cell_type": "markdown",
      "source": [
        "<font color=\"blue\">**Bounds on Implementing Circuit Operations**</font>\n",
        "\n",
        "**Complexity of uncomputation**\n",
        "\n",
        "* Erasing or reversing intermediate computational steps to return ancillary qubits (used as workspace) to their original state (typically the $|0\\rangle$ state). Essential for ensuring that these ancillas do not carry any residual information that could interfere with future computations and is especially crucial in algorithms requiring reversible operations.\n",
        "* **Gate Count**: If original computation requires $n$ gates, then uncomputation will also require $n$ gates. The total number of gates for both the computation and uncomputation will be $2n$.\n",
        "* **Circuit Depth**: Similarly, if the original computation has a depth $d$, the depth for uncomputation will be $d$. Thus, the combined depth will be $2d$\n",
        "\n",
        "**Complexity of contraction (to unitary)**\n",
        "\n",
        "* Contraction to a unitary (simplification technique) refers to the process of reducing or simplifying a larger quantum system or a set of operations to a smaller, more manageable unitary matrix that represents the essential quantum operation, e.g. Simplifying a complex quantum circuit to a single unitary matrix that performs the same overall transformation on the input state.\n",
        "\n",
        "**Complexity of state synthesis (algorithms)**\n",
        "* Preparing a specific quantum state from a given set of initial states or resources using quantum operations (synthesizing states like the Bell states or GHZ states is essential for algorithms and protocols involving entanglement. Also crucial in quantum communication, where specific states are used for secure communication protocols like quantum key distribution (QKD).) Examples:\n",
        "  * **Constructing a quantum state** is <u>focused</u> on Constructing a quantum state involves preparing a specific quantum state from an initial state using quantum operations or gates. This process requires designing a sequence of quantum gates that will transform the initial state into the desired target state, e.g. Preparing a Bell state from the initial state ∣00⟩ using a Hadamard gate followed by a CNOT gate.\n",
        "  * **Implementing a unitary transformation** is <u>broader</u> on Implementing a unitary transformation means applying a unitary operator (which is represented by a unitary matrix) to a quantum state. This transformation changes the state of the quantum system while preserving the norm (total probability) of the state, e.g. Applying a unitary operator $U$ to an initial state $|ψ\\rangle$ to get a new state $|ψ'\\rangle$ = $U|ψ⟩\\rangle$\n",
        "* Paper: [Complexity of a unitary](https://www.cs.toronto.edu/~rosenthal/thesis.pdf) (Quantum State and Unitary Complexity)\n",
        "  * <font color=\"blue\">**Little is known about the computational complexity of problems like constructing a quantum state or implementing a unitary transformation</font> compared to that of computing boolean functions.**\n",
        "  * We prove upper bounds on the complexity of constructing arbitrary states and implementing arbitrary unitaries with the help of a classical oracle.\n",
        "* Paper: [Distributed Merlin-Arthur Synthesis of Quantum States and Its Applications](https://arxiv.org/abs/2210.01389)\n",
        "\n",
        "\n",
        "\n"
      ],
      "metadata": {
        "id": "PQUliVFJeE97"
      }
    },
    {
      "cell_type": "markdown",
      "source": [
        "<font color=\"blue\">**Bounds on Implementing Algorithms**</font>\n",
        "\n",
        "**Complexity of Implementing Shor's algorithms**\n",
        "\n",
        "* Video: [How to factor 2048 bit RSA integers in 8 hours using 20 million noisy qubits](https://www.youtube.com/watch?v=upTipX9yXNg)\n",
        "* use of windowed arithmetic and other approaches to bring down physical cost\n",
        "  * In classical computing, windowed arithmetic is often used in algorithms like CRC parity checks or modular exponentiation. The idea is to precompute a table of values for different combinations of input bits, and then use those values as a lookup table during the calculation. This can significantly reduce the number of operations needed, at the cost of using more memory to store the lookup table.\n",
        "  * In quantum computing, windowed arithmetic is applied to reduce the number of quantum gates required in a circuit. It involves using smaller lookup tables to control multiple qubits at once, rather than controlling each qubit individually. This optimization technique can help to improve the efficiency and accuracy of quantum algorithms, especially those involving complex arithmetic operations.\n",
        "\n",
        "\n",
        "**Complexity of scaling of backpropagation**\n",
        "\n",
        "* https://arxiv.org/abs/2305.13362, On quantum backpropagation, information reuse, and cheating measurement collapse\n",
        "\n",
        "* https://arxiv.org/abs/2306.14962, Backpropagation scaling in parameterised quantum circuits\n",
        "\n"
      ],
      "metadata": {
        "id": "wc0eRzfUeGyI"
      }
    },
    {
      "cell_type": "markdown",
      "source": [
        "<font color=\"blue\">**Bounds on Implementing Random Circuits**</font>\n",
        "\n",
        "**Complexity in random quantum circuits**\n",
        "\n",
        "* $\\checkmark$ Paper: [Linear growth of quantum circuit complexity](https://arxiv.org/abs/2106.05305) (arXiv:2106.05305):\n",
        "  * Consider constructing a unitary from Haar-random two-qubit quantum gates. **Implementing the unitary exactly requires a circuit of some minimal number of gates - the unitary's exact circuit complexity.**\n",
        "  * Consider constructing deeper and deeper circuits for an n-qubit system, by applying random two-qubit gates. **At what rate does the circuit complexity increase?**.\n",
        "  * Growth of complexity in random quantum circuits: complexity increases linearly with time until it reaches an exponential scale relative to the number of qubits.\n",
        "  * It directly addresses a conjecture by Brown and Susskind concerning the **difficulty of constructing a unitary operation from a set of simpler gates in a quantum circuit**.\n",
        "* $\\checkmark$ Video: [Linear Growth of Quantum Circuit Complexity | Seminar Series with Nicole Yunger Halpern](https://www.youtube.com/watch?v=maT-dget9uM&list=WL&index=5&t=826s)\n",
        "  * Lightcone in qubits\n",
        "* Video: [QIP 2022: Linear Growth of Quantum Complexity](https://youtu.be/xUztt0MPPNw?feature=shared)\n",
        "\n",
        "\n",
        "* Problems that are too hard even for quantum computers. Many problems in chemistry.\n",
        "\n",
        "* No fast forward theory in chemistry (you can't simulate a quantum system faster than time evolves it). Except sampling can provide speedup.\n",
        "  * As a newbie to Quantum, I was reading some of the articles and ran into a no-fast-forwarding theorem, which is described \"Simulating the dynamics of a quantum system for time T typically requires Ω(T) gates so that a generic Hamiltonian evolution cannot be achieved in sublinear time. This result is known as the “no fast-forwarding theorem”, and holds both for a typical unknown Hamiltonian and for the query model setting\"\n",
        "  * Does this mean that \"there won't be any shorter-time algorithm than the required T? I don't think I fully appreciate the implication or practical meaning of this.\n",
        "  * There may be special classes of Hamiltonians that can be simulated by shorter time algorithms. For example, see this paper: [Fast-forwarding of Hamiltonians and Exponentially Precise Measurements](https://arxiv.org/abs/1610.09619). But, as this paper proves, if all generic physically realizable Hamiltonians can be fast-forwarded, then BQP=PSPACE, which is thought to be highly unlikely\n",
        "\n",
        "* *Paper: [Models of Quantum Complexity Growth](https://journals.aps.org/prxquantum/abstract/10.1103/PRXQuantum.2.030316)*\n",
        "  * quantum complexity of a **unitary transformation or quantum state** is defined as the size of the **shortest quantum computation that executes the unitary or prepares the state**.\n",
        "  * reasonable to expect that the **complexity of a quantum state governed by a chaotic many-body Hamiltonian** grows **linearly with time for a time that is exponential** in the system size;\n",
        "  * however, because it is **hard to rule out a shortcut that improves the efficiency** of a computation, it is notoriously **difficult to derive lower bounds on quantum complexity** for particular unitaries or states without making additional assumptions.\n",
        "\n",
        "* *Paper: [Complexity of quantum circuits via sensitivity, magic, and coherence](https://arxiv.org/abs/2204.12051)*\n",
        "  * A central problem in the field of quantum information and computation is to compute the complexity required to implement a target unitary operation U .\n",
        "    * One usually defines this to be the **minimum number of basic gates needed to synthesize U** from some initial fiducial state [1–3].\n",
        "    * To determine the so-called quantum circuit complexity of a given unitary operation, a closely related concept, called the circuit cost, was proposed and investigated in a series of seminal papers by Nielsen et al. [4–7].\n",
        "    * Surprisingly, the <font color=\"blue\">**circuit cost, defined as the minimal geodesic distance between the target unitary operation and the identity operation in some curved geometry**</font>, was shown to provide a useful lower bound for the quantum circuit complexity [5, 6].\n",
        "  * Quantum circuit complexity, and circuit cost important high-energy physics [8–12].\n",
        "    * <font color=\"blue\">**its evolution was found to exhibit identical patterns to how the geometry hidden inside black hole horizons evolves.**</font>\n",
        "    * Further studies have also investigated the circuit complexity in the context of quantum field theories [13–15], including conformal field theory [16, 17] and topological quantum field theory [18].\n",
        "    * Recently, Brown and Susskind argue that the prop- erty of possessing less-than-maximal entropy, or uncomplexity, could be thought of as a resource for quantum computation [8]. This was supported by Yunger Halpern et al. who present a resource theory of quantum uncomplexity [19].\n",
        "    * Furthermore, a connection between quantum entanglement and quantum circuit com- plexity was revealed by Eisert, who proved that the entangling power of a unitary transformation provides a lower bound for its circuit cost [20]"
      ],
      "metadata": {
        "id": "kXN4kEOBeImB"
      }
    },
    {
      "cell_type": "markdown",
      "source": [
        "*Complexity of Learning Quantum States*"
      ],
      "metadata": {
        "id": "2oBK3eCLeYOU"
      }
    },
    {
      "cell_type": "markdown",
      "source": [
        "Tensor networks are methods to eﬃciently represent quantum states in terms of smaller interconnected tensors"
      ],
      "metadata": {
        "id": "JnIsxFvDebOH"
      }
    },
    {
      "cell_type": "markdown",
      "source": [
        "https://the-decoder.de/praezision-und-scaling-laws-ki-forscher-sieht-perfekten-sturm-fuer-das-ende-des-skalierens/\n",
        "\n",
        "https://the-decoder.de/nvidia-blackwell-liefert-in-ersten-benchmarks-doppelte-ki-trainingsleistung/\n",
        "\n",
        "https://www.derstandard.de/story/3000000244893/sprach-ki-kann-funktionale-dna-entwerfen\n",
        "\n",
        "https://the-decoder.de/google-will-neues-gemini-modell-angeblich-im-dezember-veroeffentlichen/"
      ],
      "metadata": {
        "id": "RZOGCLTSelGh"
      }
    },
    {
      "cell_type": "markdown",
      "source": [
        "https://www.reddit.com/r/QuantumComputing/comments/1glronz/why_ai_could_eat_quantum_computings_lunch/?rdt=56719\n",
        "\n",
        "https://www.technologyreview.com/2024/11/07/1106730/why-ai-could-eat-quantum-computings-lunch/"
      ],
      "metadata": {
        "id": "b8RadhOkecys"
      }
    },
    {
      "cell_type": "markdown",
      "source": [
        "https://www.reddit.com/r/singularity/comments/1c9ulos/ai_winter_no_even_if_gpt5_plateaus_robotics_hasnt/?chainedPosts=t3_1glronz&rdt=42613\n",
        "\n",
        "https://www.computerbase.de/news/apps/gpt-4-nachfolger-enttaeuscht-neuen-ki-modellen-von-openai-anthropic-und-google-stossen-an-grenzen.90320/"
      ],
      "metadata": {
        "id": "XP0b1GSCeh9K"
      }
    },
    {
      "cell_type": "markdown",
      "source": [
        "<font color=\"blue\">**Complexity of <u>Simulating</u> Quantum Circuit Distributions** (Computational Complexity)</font>\n",
        "\n",
        "> Quantamagazine: [The Quest to Quantify Quantumness](https://www.quantamagazine.org/the-quest-to-quantify-quantumness-20231019/)\n",
        "\n",
        "\n",
        "* **Entanglement**\n",
        "  * Unentangled quantum states are easy to simulate classically\n",
        "  * Entangled quantum states are hard to simulate on classical hardware\n",
        "* **Entanglement + Non-Clifford Gates (magic states)**\n",
        "  * 1998: Clifford group (stabilizer circuits) can be efficiently simulated, even entangled (Gottesman and Knill) with $n$ qubits and $m$ in $\\mathcal{O}(n^2 m)$ including a small constant factor [Improved simulation of stabilizer circuits](https://journals.aps.org/pra/abstract/10.1103/PhysRevA.70.052328).\n",
        "  * 2004: One T-gate drastically increases simulation difficulty. In 2004, Bravyi and Kitaev proposed \"**magic state distillation**\" to create high-fidelity T-gates \\cite{10.1103/PhysRevA.71.022316}. This technique, in theory, enables T-gate production on quantum computers, even those not yet large enough.\n",
        "* **Entanglement + Non-Clifford Gates (magic states) + Swap Gates**\n",
        "  * 2016: Some T-gates are able to simulate: in 2016 allowed for the classical simulation of quantum circuits with T-gates, blurring the lines between classical and quantum capabilities \\cite{10.1103/PhysRevLett.116.250501}.\n",
        "  * Addition of **\"Swap gates\" introduces fermion interaction, significantly complicating computation**. Notably, matchgate circuits simulating free fermions (like electrons) remain easy to simulate classically (Free-fermion simulations (non-interacting)) \\cite{10.1103/PhysRevA.65.032325}.\n",
        "* **Entanglement + Non-Clifford Gates (magic states) + Swap Gates + ...**\n",
        "  * 2023: Recently, even this barrier has been challenged: simulations of circuits with 10 swap gates at speeds millions of times faster than previously thought, though still exponentially hard \\cite{2307.12654, 10.22331/q-2024-05-21-1350, 2307.12702}.\n",
        "* Furthermore, a connection between quantum entanglement and quantum circuit com- plexity was revealed by Eisert, who proved that the entangling power of a unitary transformation provides a lower bound for its circuit cost [20]"
      ],
      "metadata": {
        "id": "JMCFHV_Weq5x"
      }
    },
    {
      "cell_type": "markdown",
      "source": [
        "<font color=\"blue\">**Complexity of <u>Learning</u> Quantum Circuit Distributions** (Computational Complexity)</font>\n",
        "* Quantum sampling  enables the generation of quantum data, can be considered generative models $\\rightarrow$ Under what conditions can classical ML efficiently learn from quantum circuit samples, and when is there a quantum advantage?\n",
        "* Quantum Circuit Sampling (random circuit sampling and boson sampling):\n",
        "  * too hard for classical circuits in certain cases, [Q2B23 SV | The Future of Quantum Supremacy Experiments | Scott Aaronson](https://www.youtube.com/watch?v=WWll3y_iBQU)\n",
        "  * And also: exponentially hard to verify classically, [Circuit Conspiracies](https://www.youtube.com/watch?v=CEdN1tI3NDw). Proposed approach by Aaronson: If **peaked random circuits** were indistinguishable from random and easy to generate, we could immediately use them for verifiable NISQ quantum advantage: \"given as input a circuit C, is C random or peaked?\"\n",
        "* Easy to **learn** the output distribution of Clifford circuits.\n",
        "  * Video: [Fundamental limits to quantum computation (Jens Eisert)](https://www.youtube.com/watch?v=NhNB_Z50vII)\n",
        "* A single T-gate within a circuit can make distribution **learning** hard\n",
        "  * [A single T-gate makes distribution learning hard](https://arxiv.org/abs/2207.03140)\n",
        "  * Note difference: one can simulate several T-gates, but learn not even one classically efficiently)\n",
        "  * an information retrieval decoder for black holes modeled by random Clifford circuits with T-gates \\cite{10.1103/`PhysRevA`.106.062434}.\n",
        "  * reconstruction of information lost in a black hole by observing its emitted radiation, assuming black hole does not possess excessive magic states \\cite{10.1103/PhysRevLett.132.080402}.\n",
        "* Constant-depth quantum circuits with exponential separation to classical counterparts\n",
        "  * 2017: [Quantum advantage with shallow circuits](https://arxiv.org/abs/1704.00690)\n",
        "  * 2024: [Learning shallow quantum circuits](https://arxiv.org/abs/2401.10095) provide speedups. [Video](https://www.youtube.com/watch?v=iwVgTihWr2c)\n",
        "* Establishing quantum-classical separations in distribution learning [Superpolynomial quantum-classical separation for density modeling](https://journals.aps.org/pra/abstract/10.1103/PhysRevA.107.042416)\n",
        "\n",
        "<font color=\"blue\">$\\hookrightarrow$ **Complexity of Random Circuit Learning (RCS)**\n",
        "* Quantinuum wirth new record in Random Circuit Sampling: der H2-1-Quantenrechner knackte den Testalgorithmus innerhalb kürzester Zeit. Er benötigte dafür zudem 30.000-mal weniger Energie als ein Supercomputer. Das neue System erreichte bei der gängigen XEB-Benchmark für die Fehlerquote erstmals einen Wert von 0,35. Googles „Sycamore“ schaffte hingegen nur 0,002. Beim XEB steht 0 für 100 Prozent verrauscht und potenziell fehlerhaft und 1 für 100 Prozent fehlerfrei. (https://www.scinexx.de/news/technik/quantencomputer-knackt-rekord/)\n",
        "* **The hardness of random quantum circuits**\n",
        "  * https://www.nature.com/articles/s41567-023-02131-2: The hardness of random quantum circuits by Ramis Movassagh\n",
        "  * https://www.reddit.com/r/QuantumComputing/comments/16c8lrg/the_hardness_of_random_quantum_circuits/?rdt=41385\n",
        "  * IYH summary and evaluation of the paper \"The hardness of random quantum circuits\" published in Nature Physics:\n",
        "  * Summary:\n",
        "    * Proves that estimating output probabilities of random quantum circuits is #P-hard for classical computers.\n",
        "    * Also shows instantaneous quantum polynomial-time (IQP) circuits are classically hard to simulate.\n",
        "    * Achieves this via a worst-case to average-case reduction technique.\n",
        "    * Result means there is an exponential hardness barrier for approximate classical simulation of most quantum circuits.\n",
        "  * Approach:\n",
        "    * Models quantum circuits as paths in unitary group and reduces circuit simulation to estimating path integrals.\n",
        "    * Specifically, shows probability of bitstring is proportional to integral over path defined by circuit.\n",
        "    * Relates this to counting problems by constructing circuit-parametrized families of polynomial systems.\n",
        "    * Reduces #P-hard enumeration problems to approximating these path integrals.\n",
        "    * Extends techniques to IQP circuits using properties of Clifford circuits.\n",
        "  * Results:\n",
        "    * Concrete proof that random circuit sampling is classically intractable, assuming reasonable complexity assumptions.\n",
        "    * Holds even for approximate simulation with small relative error tolerance.\n",
        "    * Provides theoretical foundation for quantum computational advantage.\n",
        "  * Limitations:.\n",
        "    * Does not quantify exactly where hardness threshold lies.\n",
        "    * Noise and errors: The paper analyzes ideal circuit models without accounting for the noise, decoherence, and operational errors present in real quantum hardware. These practical errors can reduce the computational advantage of quantum systems. Accounting for noise models accurately in classical simulation remains an open challenge.\n",
        "    * Restricted connectivity: The paper focuses on circuits with nearest-neighbor interactions on a 2D grid. However, many quantum processors have limited qubit connectivity, which can constrain circuit design and limit performance gains compared to ideal circuits. Simulators can potentially leverage these constraints.\n",
        "    * Shallow circuits: The hardness result applies to circuits with sufficient depth. However, prior work has shown shallow circuits can be classically simulated more efficiently in some cases. The exact depth thresholds are not fully characterized.\n",
        "    * Specialized simulation techniques: The paper does not analyze all known simulation techniques. Specialized methods like tensor network contractions, importance sampling, and autoregressive models could potentially outperform the analyzed techniques for certain circuits.\n",
        "    * Sampling errors: The paper assumes perfect samplers. On real devices, finite sampling introduces errors that can reduce quantum advantage. Properly modeling the interplay between sampling and circuit errors in simulation remains an open problem.\n",
        "    * Complexity assumptions: The average-case hardness reductions rely on complexity conjectures like #P-hardness that are not mathematically proven. These assumptions could potentially be challenged by new techniques.\n",
        "\n",
        "<font color=\"blue\">$\\hookrightarrow$ **Complexity of Instantaneous Quantum Polynomial-Time (IQP) Circuits**\n",
        "* These circuits consist only of gates that commute with each other, making them easier to simulate classically than general quantum circuits. However, sampling from certain IQP circuit distributions is still believed to be hard for classical computers, making them interesting for quantum advantage demonstrations.\n",
        "* https://docs.quantum.ibm.com/api/qiskit/qiskit.circuit.library.IQP\n",
        "* M. J. Bremner et al. Average-case complexity versus approximate simulation of commuting quantum computations, Phys. Rev. Lett. 117, 080501 (2016). arXiv:1504.0799 (https://arxiv.org/abs/1504.07999)\n",
        "\n",
        "\n",
        "<font color=\"blue\">$\\hookrightarrow$ **Complexity of Other Quantum Circuits**\n",
        "There are other quantum circuit distributions besides random circuit sampling that are aimed at learning and could be potentially hard for classical computers:\n",
        "* **Quantum Approximate Optimization Algorithm (QAOA) Circuits**: QAOA is a variational algorithm designed to solve combinatorial optimization problems. QAOA circuits have a specific structure and are parameterized by a set of angles. Learning the optimal angles for a given problem is a challenging task that could be potentially hard for classical computers.\n",
        "* **Circuits with Non-Clifford Gates**: As mentioned earlier, non-Clifford gates like the T gate introduce complexity and challenge classical simulation methods. Circuits with a combination of Clifford and non-Clifford gates, especially those with deep structure and high entanglement, are promising candidates for exploring quantum advantage in learning tasks.\n",
        "* **Circuits for Quantum Machine Learning**: Variational quantum algorithms used in quantum machine learning often involve parameterized circuits that are trained to learn specific patterns or distributions in data. These circuits, with their complex structure and dependence on quantum effects, could be potentially hard for classical computers to simulate or learn efficiently\n",
        "\n",
        "\n"
      ],
      "metadata": {
        "id": "A0LqAHEYetCv"
      }
    },
    {
      "cell_type": "markdown",
      "source": [
        "<font color=\"blue\">**Complexity of Learning Parity with Noise (LPN)**\n",
        "\n",
        "* **Learning Parity with Noise problem having quartic speedup**\n",
        "* Google, recently published a work on quartic quantum speedups for planted inference: https://arxiv.org/abs/2406.19378\n",
        "* They showcase a quantum algorithm for the Learning Parity with Noise problem having quartic speedup over the best known classical algorithm and exponential improvement in space.\n",
        "* Their work suggests that certain cryptosystems that were previously thought to be quantum-safe are susceptible to super-quadratic quantum attacks!\n",
        "\n",
        "Learning Parity with Noise (LPN) holds a special place in quantum computing for several reasons:\n",
        "\n",
        "1. **Quantum Advantage:** LPN is one of the few problems where quantum algorithms have a proven exponential speedup compared to the best-known classical algorithms. This means quantum computers can solve LPN much faster than classical computers, potentially opening doors to new applications.\n",
        "\n",
        "2. **Post-Quantum Cryptography:** LPN is considered a hard problem for both classical and quantum computers. It serves as the foundation for many post-quantum cryptographic schemes, which are designed to be secure even against attacks from future quantum computers.\n",
        "\n",
        "3. **Connection to Error Correction:** LPN is closely related to the theory of error-correcting codes, which are essential for building reliable quantum computers. Understanding LPN can lead to better error correction techniques and more fault-tolerant quantum systems.\n",
        "\n",
        "4. **Noise Tolerance:** Quantum computers are inherently noisy, and LPN is a problem that inherently involves noise. Studying LPN can help us understand how to design quantum algorithms that are robust to noise and errors.\n",
        "\n",
        "5. **Practical Applications:** LPN has potential applications in various fields, such as cryptography, machine learning, and even drug discovery. For example, LPN-based cryptographic schemes could be used to secure communication channels, while LPN-based machine learning algorithms could be used to analyze noisy data.\n",
        "\n",
        "**In summary:** LPN is a fascinating problem with both theoretical and practical significance in quantum computing. It highlights the potential advantages of quantum algorithms, provides a foundation for post-quantum cryptography, and offers insights into error correction and noise tolerance.\n",
        "\n",
        "\n"
      ],
      "metadata": {
        "id": "NigQMYMpeu1I"
      }
    },
    {
      "cell_type": "markdown",
      "source": [
        "<font color=\"blue\">**Computational Complexity of Finding Ground States**</font>\n",
        "\n",
        "**Minimizing energy of quantum systems**\n",
        "* Between very easy and very hard:\n",
        "  * **Easy**: 1D gapped systems (Arad Landau Vazirani, Vidick 2017] or find local minimum under local unitary perturbations\n",
        "  * **Quantum sweetspot**: ??\n",
        "  * **Hard**: Global optimium is QMA hard (Kitaev et al 2002) or Finding ground states with exponential vanishing gap (PSpace hard)\n",
        "* **Approach: look for local optimum, not global**! Interestingly: even nature doesn't always find it - Is it then necessary to look for global optimum, or just look for local? This is classically hard, but quantumly easy [Local minima in quantum systems_Leo Zhou](https://www.youtube.com/watch?v=-cHfyHHO_30&list=LL&index=2&t=1248s) and [arxiv paper](https://arxiv.org/abs/2309.16596).\n",
        "  * Finding a local minimum under **local unitary** perturbations is **classically easy** (For any local Hamiltonian H, any random state is a local minima). There are exp(exp(n)) such local minima! (double exponentially)\n",
        "  * Finding a local minimum under **thermal** perturbations is **classically hard**. Certain 2D Hamiltonians whose ground states encode universal quantum computation have no suboptimal local minima. **Assuming quantum circuits cannot be classically simulated, finding any local minimum of Hc must be classically HARD!** (<font color=\"blue\">that's why important to focus in circuits, not use cases</font>)\n",
        "\n",
        "**Finding ground states with exponential vanishing gap**\n",
        "* **Lower Bound (Ω):** computationally hard, even for quantum computers, likely superpolynomial lower bound (e.g., $\\Omega(n^c)$ for some constant c > 1).\n",
        "  * **Exponential Vanishing Gap:** As the system size grows, the energy gap between the ground state and the first excited state shrinks exponentially. This makes it increasingly difficult to distinguish the ground state from other low-energy states.\n",
        "  * **Quantum Phase Transitions:** Many systems with exponentially vanishing gaps exhibit quantum phase transitions. These transitions often involve complex quantum correlations that are challenging to simulate efficiently.\n",
        "* **Upper Bound (O):** difficult to determine, likely to be at least exponential in the system size, but exact scaling behavior depends on the specific algorithm and the properties of the system.\n",
        "  * **Adiabatic Quantum Computing (AQC):** AQC can sometimes find ground states by slowly evolving a system from a simple initial Hamiltonian to the desired final Hamiltonian. However, the runtime of AQC can scale exponentially with the inverse of the minimum energy gap, which is problematic for exponentially vanishing gaps.\n",
        "  * **Variational Quantum Eigensolvers (VQE):** VQE is a hybrid quantum-classical algorithm that uses a quantum computer to prepare and measure quantum states and a classical computer to optimize a variational ansatz. VQE has shown promise for finding ground states of certain systems, but its scaling behavior for exponentially vanishing gaps is not fully understood.\n",
        "  * **Quantum Approximate Optimization Algorithm (QAOA):** QAOA is another hybrid algorithm that attempts to find approximate solutions to optimization problems. Its applicability to finding ground states with exponentially vanishing gaps is still an active area of research.\n",
        "\n",
        "* **Femoco**\n",
        "  * Only subset can be efficiently simulated, otherwise taking too long (combine with classical)\n",
        "  * Page 3: [Evaluating the evidence for exponential quantum advantage in ground-state quantum chemistry](https://www.nature.com/articles/s41467-023-37587-6) (power of classical heuristics)\n"
      ],
      "metadata": {
        "id": "dNwBVVyyewdh"
      }
    },
    {
      "cell_type": "markdown",
      "source": [
        "<font color=\"blue\">**Computational Complexity of Quantum Algorithms**</font>\n",
        "\n",
        "\n",
        "<font color=\"blue\">Shor's algorithm</font>\n",
        "\n",
        "* **Circuit Complexity**: for factoring integers can be implemented with a circuit of depth O(log n). Shor's algorithm for factoring integers can be implemented with a circuit of depth O(log n).\n",
        "\n",
        "* **Computational Complexity**: the time complexity of Shor's algorithm depends on the error rate of the quantum computer. If the error rate is low enough, then the time complexity of Shor's algorithm will be polynomial in the size of the integer being factored.\n",
        "\n",
        "* Video: [How to factor 2048 bit RSA integers in 8 hours using 20 million noisy qubits](https://www.youtube.com/watch?v=upTipX9yXNg) und Paper [How to factor 2048 bit RSA integers in 8 hours using 20 million noisy qubits](https://quantum-journal.org/papers/q-2021-04-15-433/#)\n",
        "\n",
        "<font color=\"blue\">Quantum Fourier transform</font>\n",
        "*  Widely used in machine learning tasks like speech recognition, audio analysis, and vibration analysis, the Fourier Transform extracts frequency-based features from raw signals and aids in denoising, image filtering, and audio compression. Classically, it operates with a complexity of 𝑂(𝑁log⁡𝑁) for 𝑁 data points. The quantum version (Quantum Fourier Transform [5]) achieves this with a complexity of only 𝑂(log2⁡(𝑁)), offering an exponential advantage.\n",
        "* can be implemented with a circuit of depth O(log n), where n is the number of qubits. The quantum Fourier transform can be implemented with a circuit of depth O(log n), where n is the number of qubits. However, the time complexity of the quantum Fourier transform depends on the architecture of the quantum computer.\n",
        "* For example, if the quantum computer can implement the quantum Fourier transform using a parallel circuit, then the time complexity will be O(log n). However, if the quantum computer can only implement the quantum Fourier transform using a sequential circuit, then the time complexity will be O(n log n).\n",
        "\n",
        "<font color=\"blue\">Grover's Search</font>\n",
        "\n",
        "* can be implemented with a circuit of depth $\\mathcal{O}(\\sqrt{N})$, where N is database size. However, time complexity of Grover's algorithm depends on number of queries that can be made to database. If number of queries is limited, then time complexity is higher than $\\mathcal{O}(\\sqrt{N})$\n",
        "* **Upper Bound $\\mathcal{O}(\\sqrt{N} log N)$:** represents circuit complexity of best-known implementation of Grover's algorithm. The log N factor indicates a small overhead compared to the theoretical lower bound. This overhead is due to the additional operations needed for tasks like amplitude amplification and error correction.\n",
        "* **Lower Bound $(\\Omega \\sqrt{N})$:** This is the theoretical limit for the circuit complexity of any quantum search algorithm, including Grover's. It's based on the minimum number of queries to the oracle function required to solve the search problem.\n",
        "* **Potential improvements to reduce circuit complexity:** More Efficient Oracles: with fewer quantum gates. More efficient ways for amplitude amplification Novel quantum algorithms for quantum search.\n",
        "\n",
        "<font color=\"blue\">Quantum Phase Estimation</font>\n",
        "* Estimate the eigenvalues (phases) of a unitary operator. Used to find ground state energy of a molecule by simulating its Hamiltonian.\n",
        "* This algorithm [7] is used to estimate the eigenvalues of a unitary operator. In spectral graph theory applications, such as spectral clustering, QPE can be used to find the eigenvalues of the graph Laplacian, significantly speeding up the clustering process based on spectral properties. Principal component analysis, a method for dimensionality reduction, involves solving eigenvalue problems, which can also be accelerated using QPE. The classical complexity of these problems is around 𝑂(𝑁2), while the quantum complexity can be reduced to 𝑂(log2⁡(𝑁)), providing an exponential advantage.\n",
        "* **Computational Complexity:**\n",
        "  1. **Exponential Scaling in Some Cases**: Although QPE offers an exponential speedup in estimating eigenvalues with respect to precision, this speedup does not always translate into practical benefits. For instance, the overall complexity of the quantum algorithm might still scale poorly with the size of the problem.\n",
        "  2. **Query Complexity**: **Lower Bounds**: Recent research has established tight lower bounds on the query complexity of QPE. For achieving a desired precision δ and error probability ε, the algorithm requires Ω((1/δ)log(1/ε)) queries to the unitary operator whose eigenvalue phase is being estimated. This lower bound matches the known upper bound, indicating that we have a good understanding of the optimal query complexity for QPE.  This lower bound means that there is a fundamental limit to how quickly QPE can converge to the true phase value, which is crucial for resource-constrained scenarios.\n",
        "  3. **Preparation of Eigenstates**: QPE assumes the availability of an eigenstate of the unitary operator. Preparing such eigenstates can be computationally challenging. **Initial State Preparation**: Preparing a good approximation of the ground state is crucial for QPE success. This task can be resource-intensive and challenging, leading to incorrect phase estimation and energy values if not done properly.\n",
        "* **Quantum Circuit Complexity**\n",
        "  1. **Circuit Depth**: QPE requires a quantum circuit with a depth that scales linearly with the desired precision. High precision demands deeper circuits, increasing susceptibility to errors due to decoherence and noise.\n",
        "  2. **Gate Complexity**: QPE requires long and complex quantum circuits, especially for high precision estimates. The depth of the circuit increases with the desired precision, which means more gates and thus more opportunities for errors to accumulate. It‘s a bottleneck for near-term quantum devices with limited gate fidelity.\n",
        "  3. **Ancilla Qubits**: QPE typically requires additional ancillary qubits for the phase kickback operation. The number of ancilla qubits can be a limiting factor for current quantum computers.\n",
        "  4. **Circuit Synthesis**: Efficiently synthesizing the quantum circuits required for QPE can be computationally challenging, especially for large systems, limiting practicality for complex problems.\n",
        "  5. **Resource Requirements**: QPE demands a large number of qubits and gates, often exceeding current quantum hardware capabilities, particularly for simulating complex molecules.\n",
        "  6. **Error Rates and Quantum Decoherence**: High error rates and limited coherence times in current quantum computers pose challenges for running long QPE circuits without significant errors.\n",
        "* **Additional notes**\n",
        "  * many applications based on Quantum Phase Estimation, but that has an upper limit, too low for industrial applications, e.g. in ground states finding for biochemistry\n",
        "  * So, will #NISQ #variational algorithms solve industrial chemistry problems (read: cheaper, faster or with more accuracy, at the same run-time as their classical counterparts)- very likely not. (Or the other way round, there is no scientific proof whatsoever that this is possible!)\n",
        "  * It’s time to invest into #ftqc - #algorithm research - because today’s #qubitzed algorithms have natural speed limits (based on Hamiltonian spectra! (https://lnkd.in/dgdth8iZ ) - so it’s time to look beyond #qpe and find smarter and faster ways towards ground states of single geometries! And once this is solved - the next piece is to get #expectation values efficiently (because a single ground state does seldomly help in an industrial application).\n",
        "  * P450 starting point- https://www.pnas.org/doi/10.1073/pnas.2203533119 (72h)\n",
        "  * Scdf optimization- https://arxiv.org/abs/2403.03502 (/2 36h)\n",
        "  * Limits - https://arxiv.org/abs/2403.04737  (another /2)\n",
        "\n",
        "\n",
        "<font color=\"blue\">HHL for Linear Algebra</font>\n",
        "\n",
        "* designed for solving linear systems of equations, remains a quantum algorithm with potential quantum advantage under certain conditions.\n",
        "* This algorithm [6] solves linear systems of equations, a common requirement in many machine learning models such as support vector machines and recommender systems, which often involve matrix factorization. Classical algorithms, like the Conjugate Gradient method, have polynomial complexity 𝑂(𝑁⋅𝑘) where 𝑘 is the condition number of the matrix. The HHL algorithm, however, operates with a complexity of 𝑂(log⁡(𝑁)⋅poly(𝑘,1𝜖)), where 𝜖 is the desired precision of the solution. This represents an exponential speedup in terms of dimensionality, assuming 𝑘 and 1𝜖 are manageable.\n",
        "* data structure properties more amenable to quantum speedups with HHL: sparse matrices, Low Condition Number, specific matrix structures (like those arising from certain graph problems or partial differential equations), large problem sizes\n",
        "* Sparsity and Low Rank: Matrices with high rank tend to be dense (i.e., having few zero elements). HHL is specifically designed to leverage sparsity for efficiency. If a matrix is dense, the quantum advantage of HHL diminishes, as the algorithm's complexity scales with the number of non-zero elements.\n",
        "* Condition Number and Rank: The condition number of a matrix is lower bounded by the ratio of the largest singular value to the smallest singular value.  High-rank matrices often have a wider range of singular values, which can lead to a higher condition number. As mentioned earlier, HHL's runtime depends logarithmically on the condition number, so high-rank matrices might not be the most suitable candidates for significant speedups.\n",
        "* High-Rank Matrices: HHL Algorithm: As discussed earlier, HHL is not well-suited for high-rank matrices due to its reliance on sparsity and the inverse relationship between rank and condition number. High-rank matrices tend to be dense and ill-conditioned, leading to less efficient or even impractical implementations of HHL.\n",
        "* Low-Rank Matrices: HHL Algorithm: HHL can potentially offer quantum speedups for low-rank matrices, especially if they are sparse and well-conditioned. The algorithm's complexity scales favorably with the sparsity and condition number, both of which are often associated with low-rank matrices.\n",
        "\n",
        "\n",
        "<font color=\"blue\">Quantum Singular Value Transformation (QSVT)</font>\n",
        "\n",
        "* High-Rank Matrices: Potential for Quantum Speedup: There might still be specific scenarios where quantum algorithms could offer speedups for high-rank matrices. For instance, certain quantum linear algebra techniques, like quantum singular value transformation (QSVT), can potentially manipulate high-rank matrices more efficiently than classical methods. However, these applications are still under active research and their practicality for real-world problems is yet to be fully established.\n",
        "\n",
        "* Low-Rank Matrices: Dequantization and Recommender Systems: As you rightly pointed out, Ewin Tang's work demonstrated that the quantum advantage of certain recommender system algorithms was primarily due to the low-rank nature of the underlying data. This highlights the importance of considering the inherent properties of the data when evaluating the potential for quantum speedups.\n",
        "\n",
        "* Low-Rank Matrix Approximation: Tang observed that many recommendation systems operate on data matrices that are inherently low-rank or can be well-approximated by low-rank matrices. This means that the essential information in the data can be captured by a relatively small number of latent factors. | Randomized Linear Algebra:  Tang utilized randomized linear algebra techniques, specifically random sampling and projection methods, to efficiently find these low-rank approximations of the data matrices. These techniques are computationally efficient on classical computers.\n",
        "\n"
      ],
      "metadata": {
        "id": "viafH7nceyBO"
      }
    },
    {
      "cell_type": "markdown",
      "source": [
        "*Complexity of Preparing Quantum States*"
      ],
      "metadata": {
        "id": "G49WY_hUe1MI"
      }
    },
    {
      "cell_type": "markdown",
      "source": [
        "<font color=\"blue\">**Bounds on Implementing qRAM** (Circuit Complexity)</font>\n",
        "\n",
        "* arxiv: [Quantum random access memory](https://arxiv.org/abs/0708.1879v2)\n",
        "\n",
        "* arxiv: [Quantum Random Access Memory For Dummies](https://arxiv.org/abs/2305.01178)\n",
        "\n",
        "* arxiv: [QRAM: A Survey and Critique](https://arxiv.org/abs/2305.10310)\n",
        "\n",
        "* https://quantumcomputing.stackexchange.com/questions/18518/what-is-the-complexity-of-loading-n-inputs-using-a-qram\n",
        "\n",
        "* qRAM locates one memory cell in log n time. This means it takes n(n log n) time to access n memory cells.\n",
        "\n",
        "* Loading n data can be done in n(log n) time.\n",
        "\n",
        "* The storage of data in qRAM can be summarized using the following equation: $\\sum_{i=0}^{N-1} \\alpha_i|i\\rangle_r \\xrightarrow{Q R A M} \\sum_{i=0}^{N-1} \\alpha_i|i\\rangle_r\\left|X_i\\right\\rangle_o$\n",
        "\n",
        "\n",
        "![sciences](https://raw.githubusercontent.com/deltorobarba/repo/master/sciences_1775.png)\n",
        "\n",
        "https://quantumcomputing.stackexchange.com/questions/18518/what-is-the-complexity-of-loading-n-inputs-using-a-qram\n",
        "\n",
        "![sciences](https://raw.githubusercontent.com/deltorobarba/repo/master/sciences_1776.png)\n",
        "\n",
        "https://www.researchgate.net/figure/QRAM-implementations-a-Quantum-router-The-router-directs-an-incident-qubit-b-at-its_fig1_351197680"
      ],
      "metadata": {
        "id": "kFAgCJtKe3bo"
      }
    },
    {
      "cell_type": "markdown",
      "source": [
        "<font color=\"blue\">**Bounds on Implementing Gate Operations** (Circuit Complexity)</font>\n",
        "\n",
        "**Any Gate Operation Complexity (NAND)**\n",
        "\n",
        "* [Focus beyond quadratic speedups for error-corrected quantum advantage](https://arxiv.org/abs/2011.04149): there is roughly a ten order of magnitude difference between the spacetime volume required for comparable operations on an error-corrected quantum computer and a classical computer.\n",
        "\n",
        "\n",
        "**T-Gate operation complexity** (complexity of implementing a T-gate)\n",
        "* reduced by deepmind\n",
        "* Gate Decomposition Complexity:\n",
        "  * In a universal quantum gate set (such as the Clifford+T set), the T-gate is considered a fundamental gate. Therefore, its implementation in terms of gate count is minimal when it is directly available in the hardware's gate set.\n",
        "* Fault-Tolerant Quantum Computing\n",
        "    * In fault-tolerant quantum computing, the T-gate is more complex to implement due to the necessity of error correction. The T-gate cannot be implemented transversally in most quantum error-correcting codes, such as the popular surface code. Instead, it typically requires a more complex process known as \"magic state distillation\" and \"gate teleportation.\n",
        "    * Magic state distillation is a resource-intensive process used to prepare high-fidelity T-states, which are then used to perform the T-gate operation. This process involves multiple rounds of distillation and can be quite costly in terms of qubits and operations.\n",
        "* Resource Estimates in Fault-Tolerant Quantum Computing\n",
        "    * Magic State Distillation: The process of producing a high-fidelity T-state requires multiple lower-fidelity T-states and a series of Clifford operations. The exact resource requirements depend on the desired fidelity of the T-gate and the error rates of the physical qubits. Estimates suggest that thousands of physical qubits might be needed to achieve fault-tolerant implementation of a T-gate.\n",
        "    * Gate Teleportation: Once a high-fidelity magic state is prepared, the T-gate can be applied using gate teleportation, which generally involves a few ancillary qubits and a sequence of Clifford operations.\n",
        "\n",
        "**Toffoli operation complexity**\n",
        "\n",
        "* Paper: [Focus beyond quadratic speedups for error-corrected quantum advantage](https://arxiv.org/abs/2011.04149)"
      ],
      "metadata": {
        "id": "wWRdthsNe5Aq"
      }
    },
    {
      "cell_type": "markdown",
      "source": [
        "<font color=\"blue\">**Bounds on Implementing Circuit Operations**</font>\n",
        "\n",
        "**Complexity of uncomputation**\n",
        "\n",
        "* Erasing or reversing intermediate computational steps to return ancillary qubits (used as workspace) to their original state (typically the $|0\\rangle$ state). Essential for ensuring that these ancillas do not carry any residual information that could interfere with future computations and is especially crucial in algorithms requiring reversible operations.\n",
        "* **Gate Count**: If original computation requires $n$ gates, then uncomputation will also require $n$ gates. The total number of gates for both the computation and uncomputation will be $2n$.\n",
        "* **Circuit Depth**: Similarly, if the original computation has a depth $d$, the depth for uncomputation will be $d$. Thus, the combined depth will be $2d$\n",
        "\n",
        "**Complexity of contraction (to unitary)**\n",
        "\n",
        "* Contraction to a unitary (simplification technique) refers to the process of reducing or simplifying a larger quantum system or a set of operations to a smaller, more manageable unitary matrix that represents the essential quantum operation, e.g. Simplifying a complex quantum circuit to a single unitary matrix that performs the same overall transformation on the input state.\n",
        "\n",
        "**Complexity of state synthesis (algorithms)**\n",
        "* Preparing a specific quantum state from a given set of initial states or resources using quantum operations (synthesizing states like the Bell states or GHZ states is essential for algorithms and protocols involving entanglement. Also crucial in quantum communication, where specific states are used for secure communication protocols like quantum key distribution (QKD).) Examples:\n",
        "  * **Constructing a quantum state** is <u>focused</u> on Constructing a quantum state involves preparing a specific quantum state from an initial state using quantum operations or gates. This process requires designing a sequence of quantum gates that will transform the initial state into the desired target state, e.g. Preparing a Bell state from the initial state ∣00⟩ using a Hadamard gate followed by a CNOT gate.\n",
        "  * **Implementing a unitary transformation** is <u>broader</u> on Implementing a unitary transformation means applying a unitary operator (which is represented by a unitary matrix) to a quantum state. This transformation changes the state of the quantum system while preserving the norm (total probability) of the state, e.g. Applying a unitary operator $U$ to an initial state $|ψ\\rangle$ to get a new state $|ψ'\\rangle$ = $U|ψ⟩\\rangle$\n",
        "* Paper: [Complexity of a unitary](https://www.cs.toronto.edu/~rosenthal/thesis.pdf) (Quantum State and Unitary Complexity)\n",
        "  * <font color=\"blue\">**Little is known about the computational complexity of problems like constructing a quantum state or implementing a unitary transformation</font> compared to that of computing boolean functions.**\n",
        "  * We prove upper bounds on the complexity of constructing arbitrary states and implementing arbitrary unitaries with the help of a classical oracle.\n",
        "* Paper: [Distributed Merlin-Arthur Synthesis of Quantum States and Its Applications](https://arxiv.org/abs/2210.01389)\n",
        "\n",
        "\n",
        "\n"
      ],
      "metadata": {
        "id": "g7Qq6Qdte6iF"
      }
    },
    {
      "cell_type": "markdown",
      "source": [
        "<font color=\"blue\">**Bounds on Implementing Algorithms**</font>\n",
        "\n",
        "**Complexity of Implementing Shor's algorithms**\n",
        "\n",
        "* Video: [How to factor 2048 bit RSA integers in 8 hours using 20 million noisy qubits](https://www.youtube.com/watch?v=upTipX9yXNg)\n",
        "* use of windowed arithmetic and other approaches to bring down physical cost\n",
        "  * In classical computing, windowed arithmetic is often used in algorithms like CRC parity checks or modular exponentiation. The idea is to precompute a table of values for different combinations of input bits, and then use those values as a lookup table during the calculation. This can significantly reduce the number of operations needed, at the cost of using more memory to store the lookup table.\n",
        "  * In quantum computing, windowed arithmetic is applied to reduce the number of quantum gates required in a circuit. It involves using smaller lookup tables to control multiple qubits at once, rather than controlling each qubit individually. This optimization technique can help to improve the efficiency and accuracy of quantum algorithms, especially those involving complex arithmetic operations.\n",
        "\n",
        "\n",
        "**Complexity of scaling of backpropagation**\n",
        "\n",
        "* https://arxiv.org/abs/2305.13362, On quantum backpropagation, information reuse, and cheating measurement collapse\n",
        "\n",
        "* https://arxiv.org/abs/2306.14962, Backpropagation scaling in parameterised quantum circuits\n",
        "\n"
      ],
      "metadata": {
        "id": "pvA_k379e8T3"
      }
    },
    {
      "cell_type": "markdown",
      "source": [
        "<font color=\"blue\">**Bounds on Implementing Random Circuits**</font>\n",
        "\n",
        "**Complexity in random quantum circuits**\n",
        "\n",
        "* $\\checkmark$ Paper: [Linear growth of quantum circuit complexity](https://arxiv.org/abs/2106.05305) (arXiv:2106.05305):\n",
        "  * Consider constructing a unitary from Haar-random two-qubit quantum gates. **Implementing the unitary exactly requires a circuit of some minimal number of gates - the unitary's exact circuit complexity.**\n",
        "  * Consider constructing deeper and deeper circuits for an n-qubit system, by applying random two-qubit gates. **At what rate does the circuit complexity increase?**.\n",
        "  * Growth of complexity in random quantum circuits: complexity increases linearly with time until it reaches an exponential scale relative to the number of qubits.\n",
        "  * It directly addresses a conjecture by Brown and Susskind concerning the **difficulty of constructing a unitary operation from a set of simpler gates in a quantum circuit**.\n",
        "* $\\checkmark$ Video: [Linear Growth of Quantum Circuit Complexity | Seminar Series with Nicole Yunger Halpern](https://www.youtube.com/watch?v=maT-dget9uM&list=WL&index=5&t=826s)\n",
        "  * Lightcone in qubits\n",
        "* Video: [QIP 2022: Linear Growth of Quantum Complexity](https://youtu.be/xUztt0MPPNw?feature=shared)\n",
        "\n",
        "\n",
        "* Problems that are too hard even for quantum computers. Many problems in chemistry.\n",
        "\n",
        "* No fast forward theory in chemistry (you can't simulate a quantum system faster than time evolves it). Except sampling can provide speedup.\n",
        "  * As a newbie to Quantum, I was reading some of the articles and ran into a no-fast-forwarding theorem, which is described \"Simulating the dynamics of a quantum system for time T typically requires Ω(T) gates so that a generic Hamiltonian evolution cannot be achieved in sublinear time. This result is known as the “no fast-forwarding theorem”, and holds both for a typical unknown Hamiltonian and for the query model setting\"\n",
        "  * Does this mean that \"there won't be any shorter-time algorithm than the required T? I don't think I fully appreciate the implication or practical meaning of this.\n",
        "  * There may be special classes of Hamiltonians that can be simulated by shorter time algorithms. For example, see this paper: [Fast-forwarding of Hamiltonians and Exponentially Precise Measurements](https://arxiv.org/abs/1610.09619). But, as this paper proves, if all generic physically realizable Hamiltonians can be fast-forwarded, then BQP=PSPACE, which is thought to be highly unlikely\n",
        "\n",
        "* *Paper: [Models of Quantum Complexity Growth](https://journals.aps.org/prxquantum/abstract/10.1103/PRXQuantum.2.030316)*\n",
        "  * quantum complexity of a **unitary transformation or quantum state** is defined as the size of the **shortest quantum computation that executes the unitary or prepares the state**.\n",
        "  * reasonable to expect that the **complexity of a quantum state governed by a chaotic many-body Hamiltonian** grows **linearly with time for a time that is exponential** in the system size;\n",
        "  * however, because it is **hard to rule out a shortcut that improves the efficiency** of a computation, it is notoriously **difficult to derive lower bounds on quantum complexity** for particular unitaries or states without making additional assumptions.\n",
        "\n",
        "* *Paper: [Complexity of quantum circuits via sensitivity, magic, and coherence](https://arxiv.org/abs/2204.12051)*\n",
        "  * A central problem in the field of quantum information and computation is to compute the complexity required to implement a target unitary operation U .\n",
        "    * One usually defines this to be the **minimum number of basic gates needed to synthesize U** from some initial fiducial state [1–3].\n",
        "    * To determine the so-called quantum circuit complexity of a given unitary operation, a closely related concept, called the circuit cost, was proposed and investigated in a series of seminal papers by Nielsen et al. [4–7].\n",
        "    * Surprisingly, the <font color=\"blue\">**circuit cost, defined as the minimal geodesic distance between the target unitary operation and the identity operation in some curved geometry**</font>, was shown to provide a useful lower bound for the quantum circuit complexity [5, 6].\n",
        "  * Quantum circuit complexity, and circuit cost important high-energy physics [8–12].\n",
        "    * <font color=\"blue\">**its evolution was found to exhibit identical patterns to how the geometry hidden inside black hole horizons evolves.**</font>\n",
        "    * Further studies have also investigated the circuit complexity in the context of quantum field theories [13–15], including conformal field theory [16, 17] and topological quantum field theory [18].\n",
        "    * Recently, Brown and Susskind argue that the prop- erty of possessing less-than-maximal entropy, or uncomplexity, could be thought of as a resource for quantum computation [8]. This was supported by Yunger Halpern et al. who present a resource theory of quantum uncomplexity [19].\n",
        "    * Furthermore, a connection between quantum entanglement and quantum circuit com- plexity was revealed by Eisert, who proved that the entangling power of a unitary transformation provides a lower bound for its circuit cost [20]"
      ],
      "metadata": {
        "id": "DdWvtR_Ue9_q"
      }
    },
    {
      "cell_type": "markdown",
      "source": [
        "*Complexity of Representing Quantum Information*"
      ],
      "metadata": {
        "id": "fti3RLaPfAv6"
      }
    },
    {
      "cell_type": "markdown",
      "source": [
        "<font color=\"Blue\">**How to represent quantum information on a classical computer**\n",
        "\n",
        "* State of quantum system described by vector in complex vector space. For $n$-qubit system, state vector $\\psi$ is superposition of all possible $2^n$ basis states. Each basis state $|i\\rangle$ (where $i$ ranges from 0 to $2^n - 1$) has associated **complex amplitude** $\\alpha_i$, which is complex number.\n",
        "* State vector can be written as: $|\\psi\\rangle = \\sum_{i=0}^{2^n-1} \\alpha_i |i\\rangle$, where $\\alpha_i$ are complex amplitudes, and the sum of the squares of their magnitudes equals 1: $\\sum_{i=0}^{2^n-1} |\\alpha_i|^2 = 1$\n",
        "* **Memory requirement = 16 bytes per Amplitude** for storing 1 complex number in double-precision (8 bytes for real part + 8 bytes for imaginary part = complex number $\\alpha$)\n",
        "  * **Double-Precision Floating-Point:** (Why 8 bytes?) The common standard for representing real numbers in computers is \"double-precision floating-point\". This format uses 64 bits (8 bytes) to store a single real number.  It's a balance between precision (how many decimal places can be represented) and range (how large or small the number can be)\n",
        "  * Why 8 Bytes?  Using 8 bytes for each part of the complex number (real and imaginary) follows this convention. It provides a good level of precision for most quantum simulations and calculations.\n",
        "  * See: https://www.amd.com/en/resources/articles/single-precision-vs-double-precision-main-differences.html\n",
        "* **Total Memory Requirement** for Quantum States $n$-qubit quantum state with $2^n$ complex amplitudes = $2^n \\times 16 \\text{ bytes}$\n",
        "* **16 Qubits:**\n",
        "  - **Number of Amplitudes:** $2^{16} = 65,536$\n",
        "  - **Total Memory:** $65,536 \\times 16 = 1,048,576 \\text{ bytes} = 1 \\text{ MB}$\n",
        "* **784 Qubits:**\n",
        "  - **Number of Amplitudes:** $2^{784}$\n",
        "  - **Total Memory:** $2^{784} \\times 16 \\text{ bytes}$ (astronomically large)\n",
        "\n",
        "<font color=\"Blue\">*How many qubits one can realistically simulate on classical hardware at the moment?*\n",
        "\n",
        "Complexity of simulating quantum circuits grows exponentially with the number of qubits. Simulating $n$ qubits requires storing $2^n$ complex amplitudes and $16 \\times 2^n$ bytes memory for storing state vector of $n$ qubits in double precision:\n",
        "- **20 qubits:** Requires storing $2^{20} \\approx 1$ million complex amplitudes $\\approx$ 16 MB memory (16 x 2$^{20}$ bytes)\n",
        "- **30 qubits:** Requires storing $2^{30} \\approx 1$ billion complex amplitudes $\\approx$ 16 GB memory (16 x 2$^{30}$ bytes)\n",
        "- **40 qubits:** Requires storing $2^{40} \\approx 1$ trillion complex amplitudes $\\approx$ 16 TB memory (16 x 2$^{40}$ bytes)\n",
        "\n",
        "**Alice and Bob**\n",
        "\n",
        "Are there things that only a quantum computer can do?\n",
        "\n",
        "The theoretical answer is... no.\n",
        "\n",
        "Everything that can be computed by a quantum computer can also be computed by a classical computer.\n",
        "\n",
        "The math is not very hard in theory:\n",
        "- The state of a N-qubit quantum computer is just a vector with 2^N coefficients\n",
        "- To perform an operation, you just multiply this vector by a square matrix of the same size\n",
        "\n",
        "All these things can perfectly be replicated on a classical computer - and they are. We do have quantum computer emulators, which even often work better than real quantum computers.\n",
        "\n",
        "So, why don't we even bother with building quantum hardware?\n",
        "\n",
        "Well, everything lies in the 2^N.\n",
        "\n",
        "If we assume we need 16 bits to store a coefficient:\n",
        "- 10 qubits require 16 KB of memory\n",
        "- 20 qubits require 16 MB\n",
        "- 30 qubits require 16 GB\n",
        "- 40 qubits require 16 TB\n",
        "- 50 qubits require 16 PB\n",
        "\n",
        "As you can see, this becomes quickly unbearable even for the biggest supercomputers, current and future.\n",
        "\n",
        "Besides, if we take a problem like RSA encryption, the problem is not that we don't know how to break it. We know the classical algorithm and it is extremely easy to describe. The problem is that it would just take billions of years to run even for a modestly large key (~2000 qubit).\n",
        "\n",
        "So, quantum computing is not about doing things that classical computers can't do in theory.\n",
        "\n",
        "It is about doing things that classical computers can't do in practice.\n",
        "\n",
        "We still have a bit of work to get there, but the 2^N is working for us 👀"
      ],
      "metadata": {
        "id": "pwXXYuYAfDKI"
      }
    },
    {
      "cell_type": "markdown",
      "source": [
        "**What is 6 x 2^(30) bytes in GB?**\n",
        "\n",
        "First, note that \\(2^{30}\\) bytes = 1,073,741,824 bytes (which is 1 GiB).\n",
        "\n",
        "So:\n",
        "$\n",
        "6 \\times 2^{30} \\text{ bytes} = 6 \\times 1,073,741,824 \\text{ bytes} = 6{,}442{,}450{,}944 \\text{ bytes}.\n",
        "$\n",
        "\n",
        "If we use the decimal definition of a gigabyte (GB) as \\(10^9\\) bytes = 1,000,000,000 bytes, then\n",
        "\n",
        "$\n",
        "\\frac{6{,}442{,}450{,}944 \\text{ bytes}}{10^9 \\text{ bytes/GB}} \\approx 6.44\\ \\text{GB}.\n",
        "$\n",
        "\n",
        "Hence, $6 \\times 2^{30}$ bytes is about **6.44 GB** (in decimal GB)."
      ],
      "metadata": {
        "id": "ZYo0aB71fFZS"
      }
    },
    {
      "cell_type": "markdown",
      "source": [
        "**This is a great question about the practical limitations of quantum data loading. Let me help break this down:**\n",
        "\n",
        "Your notes are spot-on about the memory requirements. For MNIST images (28x28 = 784 pixels), we'd face significant challenges. Let's think through some practical approaches:\n",
        "\n",
        "1. Downsampling Strategies:\n",
        "- Reduce to 8x8 (64 pixels) - would require 6 qubits for pixel positions\n",
        "- Further reduce to 4x4 (16 pixels) - would need 4 qubits for positions\n",
        "- Use grayscale binning (e.g., map 256 levels to 2-4 levels) to reduce amplitude encoding requirements\n",
        "\n",
        "2. Partial Image Loading:\n",
        "- Load only the most informative regions of the image\n",
        "- Use classical preprocessing to identify key features\n",
        "- Consider edge detection to get binary representations\n",
        "\n",
        "3. Quantum Feature Maps:\n",
        "Instead of loading full images, you could:\n",
        "- Extract classical features first (e.g., PCA components)\n",
        "- Encode only the most significant features into quantum states\n",
        "- Use amplitude encoding for the reduced feature set\n",
        "\n",
        "This implementation demonstrates several key points:\n",
        "\n",
        "1. Image Preprocessing:\n",
        "   - Downsample to 4x4 (requiring only 4 qubits for position encoding)\n",
        "   - Quantize to binary values (requiring 1 qubit for value encoding)\n",
        "   - Total qubit requirement: 5 qubits (very NISQ-friendly)\n",
        "\n",
        "2. Quantum Encoding:\n",
        "   - Uses position + value encoding scheme\n",
        "   - Implements controlled operations for pixel values\n",
        "   - Includes uncomputation to maintain quantum coherence\n",
        "\n",
        "3. Memory Efficiency:\n",
        "   - Original MNIST: 784 pixels × 256 levels = 6,272 bits classical\n",
        "   - Reduced: 16 pixels × 1 bit = 16 bits quantum\n",
        "   - Quantum circuit depth is O(n) where n is the number of pixels\n"
      ],
      "metadata": {
        "id": "pBvV9ZByfHHQ"
      }
    },
    {
      "cell_type": "markdown",
      "source": [
        "**Explain the relationship between bits and qubits, building from the fundamentals up to a specific MNIST case.**\n",
        "\n",
        "First, let's understand classical bits versus qubits. A classical bit can be either 0 or 1, while a qubit can exist in a superposition of states, represented by a complex amplitude for |0⟩ and another for |1⟩. When we have multiple qubits, the number of amplitudes grows exponentially.\n",
        "\n",
        "For n qubits, we need 2^n complex amplitudes to describe the quantum state. Each complex amplitude requires two double-precision numbers (16 bytes total):\n",
        "- 8 bytes for the real part\n",
        "- 8 bytes for the imaginary part\n",
        "\n",
        "Let's work through the MNIST example step by step:\n",
        "\n",
        "Original MNIST Image (Classical):\n",
        "- Size: 28 × 28 = 784 pixels\n",
        "- Each pixel: 8 bits (256 grayscale levels)\n",
        "- Total classical storage: 784 × 8 = 6,272 bits\n",
        "\n",
        "If we tried to encode this directly into qubits:\n",
        "1. Position encoding: We need enough qubits to specify pixel positions\n",
        "   - Need to address 784 positions\n",
        "   - log₂(784) ≈ 10 qubits needed for position\n",
        "2. Value encoding: We need enough qubits to encode grayscale levels\n",
        "   - 256 levels = 8 bits\n",
        "   - Would need 8 qubits for full grayscale\n",
        "\n",
        "Total: 18 qubits would be needed. However, this would result in:\n",
        "- Number of amplitudes: 2^18 = 262,144\n",
        "- Memory needed: 262,144 × 16 bytes = 4,194,304 bytes ≈ 4 MB\n",
        "\n",
        "This is why we downsample in our implementation:\n",
        "1. Reduced image (4 × 4 = 16 pixels):\n",
        "   - Position encoding: log₂(16) = 4 qubits\n",
        "   - Binary value (black/white): 1 qubit\n",
        "   - Total: 5 qubits\n",
        "\n",
        "With 5 qubits:\n",
        "- Number of amplitudes: 2^5 = 32\n",
        "- Memory needed: 32 × 16 bytes = 512 bytes\n",
        "\n",
        "This dramatic reduction (from 4 MB to 512 bytes) makes it feasible for NISQ devices, which typically have 50-100 qubits but are limited by decoherence and gate errors.\n",
        "\n",
        "Would you like me to explain more about how we encode the actual pixel values into the quantum circuit, or would you prefer to explore other aspects of the qubit calculations?"
      ],
      "metadata": {
        "id": "BU2HmNp_fIxx"
      }
    },
    {
      "cell_type": "markdown",
      "source": [
        "**Calculate the maximum feasible image size we could work with given 50 GB of RAM**\n",
        "\n",
        "First, let's recall our memory formula:\n",
        "For n qubits, we need $2^n$ complex amplitudes, and each amplitude needs 16 bytes (8 for real + 8 for imaginary part).\n",
        "\n",
        "Total memory = $2^n$ × 16 bytes\n",
        "\n",
        "With 50 GB available RAM, we have:\n",
        "50 GB = 50 × 1024³ bytes = 53,687,091,200 bytes\n",
        "\n",
        "Let's solve for n:\n",
        "53,687,091,200 = 2^n × 16\n",
        "3,355,443,200 = 2^n\n",
        "log₂(3,355,443,200) = n\n",
        "n ≈ 31.64\n",
        "\n",
        "This means we can use up to 31 qubits while staying within our 50 GB RAM constraint.\n",
        "\n",
        "Now, let's see what image size this allows for. In our quantum encoding scheme, we need:\n",
        "1. Position qubits: log₂(number of pixels) qubits\n",
        "2. Value qubits: log₂(grayscale levels) qubits\n",
        "\n",
        "If we maintain all 256 grayscale levels (8 qubits for values), we have:\n",
        "31 - 8 = 23 qubits available for position encoding\n",
        "\n",
        "This means we can address 2^23 = 8,388,608 pixel positions.\n",
        "\n",
        "For a square image, we can calculate the maximum dimensions:\n",
        "√8,388,608 ≈ 2,896\n",
        "\n",
        "Therefore, with 50 GB of RAM, we could theoretically handle:\n",
        "- An image up to 2,896 × 2,896 pixels (maintaining full grayscale)\n",
        "- Or the original MNIST size (28 × 28) with room to spare\n",
        "\n",
        "For the MNIST case (28 × 28 = 784 pixels):\n",
        "- Position encoding: log₂(784) ≈ 10 qubits\n",
        "- Value encoding: 8 qubits\n",
        "- Total: 18 qubits\n",
        "\n",
        "This would require:\n",
        "2^18 × 16 = 4,194,304 bytes ≈ 4 MB\n",
        "\n",
        "This means you could actually process the full MNIST images without downsampling! You'd even have enough RAM to process multiple images in parallel or implement more sophisticated quantum operations.\n",
        "\n",
        "Would you like me to help modify our earlier code to handle the full MNIST resolution, or would you prefer to explore other aspects of the quantum encoding scheme?"
      ],
      "metadata": {
        "id": "xB6_-lAMfKkj"
      }
    },
    {
      "cell_type": "markdown",
      "source": [
        "**how many MNIST images in full size I can process in qubits both for 256 grayscale levels And for grayscale binning with 4 bins?**\n",
        "\n",
        "Let's calculate for both cases with 50GB RAM (53,687,091,200 bytes):\n",
        "\n",
        "For 256 grayscale levels (8 value qubits + 10 position qubits = 18 qubits per image):\n",
        "- Memory per image: 2^18 × 16 bytes = 4,194,304 bytes\n",
        "- Number of images: 53,687,091,200 ÷ 4,194,304 ≈ 12,800 images\n",
        "\n",
        "For 4 grayscale levels (2 value qubits + 10 position qubits = 12 qubits per image):\n",
        "- Memory per image: 2^12 × 16 bytes = 65,536 bytes\n",
        "- Number of images: 53,687,091,200 ÷ 65,536 ≈ 819,200 images\n",
        "\n",
        "So using 4 grayscale levels instead of 256 allows processing about 64x more images simultaneously."
      ],
      "metadata": {
        "id": "zB48TWa0fMSP"
      }
    },
    {
      "cell_type": "markdown",
      "source": [
        "<font color=\"Blue\">**Simulate quantum information on a classical computer**\n",
        "\n",
        "* The state of quantum system is described by vector in complex vector space. For $n$-qubit system, state vector $\\psi$ is superposition of all possible $2^n$ basis states. Each basis state $|i\\rangle$ (where $i$ ranges from 0 to $2^n - 1$) has associated **complex amplitude** $\\alpha_i$, which is complex number. State vector can be written as: $|\\psi\\rangle = \\sum_{i=0}^{2^n-1} \\alpha_i |i\\rangle$, where $\\alpha_i$ are complex amplitudes, and the sum of the squares of their magnitudes equals 1: $\\sum_{i=0}^{2^n-1} |\\alpha_i|^2 = 1$\n",
        "* **Memory requirement = 16 bytes per Amplitude** for storing 1 complex number in **double-precision** (8 bytes for real part + 8 bytes for imaginary part = complex number $\\alpha$). This is a good level of precision for most quantum simulations and calculations.\n",
        "* **Total Memory Requirement** for Quantum States $n$-qubit quantum state with $2^n$ complex amplitudes = $2^n \\times 16 \\text{ bytes}$. $n$ is the number of qubits and hence required amplitudes\n",
        "* **Complexity of simulating quantum circuits** grows exponentially with the number of qubits. Simulating $n$ qubits requires storing $2^n$ complex amplitudes and $16 \\times 2^n$ bytes memory for storing state vector of $n$ qubits in double precision. If we assume we need 16 bits to store a coefficient:\n",
        "  - **10 qubits:** Requires storing $2^{10} \\approx 1$ thousand complex amplitudes $\\approx$ 16 KB memory (10 x 2$^{16}$ bytes)\n",
        "  - **20 qubits:** Requires storing $2^{20} \\approx 1$ million complex amplitudes $\\approx$ 16 MB memory (16 x 2$^{20}$ bytes)\n",
        "  - **30 qubits:** Requires storing $2^{30} \\approx 1$ billion complex amplitudes $\\approx$ 16 GB memory (16 x 2$^{30}$ bytes)\n",
        "  - **40 qubits:** Requires storing $2^{40} \\approx 1$ trillion complex amplitudes $\\approx$ 16 TB memory (16 x 2$^{40}$ bytes)\n",
        "  - **50 qubits:** Requires storing $2^{50} \\approx 1$ quadrillion complex amplitudes $\\approx$ 16 PB memory (16 x 2$^{50}$ bytes)"
      ],
      "metadata": {
        "id": "jhI-BPPHfOLi"
      }
    },
    {
      "cell_type": "markdown",
      "source": [
        "<font color=\"Blue\">**Number of MNIST images we can process with 50GB of RAM**\n",
        "\n",
        "* Original MNIST image (Classical):\n",
        "  * Size: 28 x 28 = 784 pixels\n",
        "  * Each pixel: 8 bits (256 grayscale levels)\n",
        "  * Total classical storage: 784 x 8 = 6,272 bits\n",
        "* Encoding into qubits\n",
        "  * Pixel position encoding (784 positions): log₂(784) ≈ 10 qubits\n",
        "  * Value (grayscale) encoding: 256 levels = 8 bits = 8 qubits for full grayscale\n",
        "  * 18 qubits needed: 2^18 = 262,144 amplitudes × 16 bytes = 4,194,304 bytes ≈ 4 MB memory for one image\n",
        "* For 50GB RAM: Total memory = $2^n$ x 16 bytes. With 50 GB available RAM, we have: 50 GB = 50 × 1024³ bytes = 53,687,091,200 bytes. Solving for n:\n",
        "  * 53,687,091,200 = 2^n × 16\n",
        "  * 3,355,443,200 = 2^n\n",
        "  * log₂(3,355,443,200) = n\n",
        "  * n ≈ 31.64 qubits possible for 50GB RAM\n",
        "* Total number of MNIST images with 50 GB RAM (53,687,091,200 bytes):\n",
        "  * For 256 grayscale levels (8 value qubits + 10 position qubits = 18 qubits per image):\n",
        "    * Memory per image: 2^18 × 16 bytes = 4,194,304 bytes\n",
        "    * Number of images: 53,687,091,200 ÷ 4,194,304 ≈ 12,800 images\n",
        "  * For 4 grayscale levels (2 value qubits + 10 position qubits = 12 qubits per image):\n",
        "    * Memory per image: 2^12 × 16 bytes = 65,536 bytes\n",
        "    * Number of images: 53,687,091,200 ÷ 65,536 ≈ 819,200 images\n",
        "  * We could fit all MNIST data into 50GB RAM for processing. Using downsampling to 4 grayscale levels instead of 256 allows processing about 64x more images simultaneously."
      ],
      "metadata": {
        "id": "ctwSYx1AfPpQ"
      }
    }
  ]
}