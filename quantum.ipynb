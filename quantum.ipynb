{
  "nbformat": 4,
  "nbformat_minor": 0,
  "metadata": {
    "colab": {
      "name": "quantum.ipynb",
      "provenance": [],
      "collapsed_sections": [
        "Mb0qmA4SX7_7",
        "-UV4ukhPdHOz",
        "HPtcn_Lur_hp",
        "Y7FxOxnjm3qr",
        "_lXYpBRjq4Wr",
        "T1ly8TS7CBW4",
        "CLQi30XnE4os",
        "9fZtegG588Oi",
        "3jog_VsinRGB",
        "OP7hSOM2VcYj",
        "ENWh8d3KN2_6",
        "qbAQE8tdVDjm",
        "v-DHlP1sEiFs",
        "zez9bZlNfxOK",
        "SoWdShaxfsre",
        "MumREEUgf9pf",
        "Td6Knxs6gE_R",
        "tYs-hW_fsw-2",
        "JrweETQqu3um",
        "JE3jTrnclpXf",
        "EpAJ8410vHGZ",
        "dIy8TOGPJnGi",
        "Jk8qxSmaCr1d",
        "ICIgRl9N_2E1",
        "RscthBMzOLUM",
        "iIv5tk_B7h9Q",
        "ap5ZCBhtAltP",
        "NQ-GWsVgBV0C",
        "3-A-nGIqGmBi",
        "iy4WCRVb4Fbq",
        "xVyCoTKABuU3",
        "dpNd4NmSICeT",
        "6_IwqZ2uE4jt",
        "D8XqTQH6D_AI",
        "OCCvU0pIOaF1",
        "pVcbZ_aNnvNJ",
        "Qhb3ipJHUKJW",
        "wYsD8n3CMWIR",
        "kJDaxgzh--ui",
        "GgSzA4IwURCu",
        "ZOCcYN8atwYH",
        "2fYujs_mJiGj",
        "1SzVM_J5zGHm",
        "jWk-hx1ltRSU",
        "N7cbjV9wSlv7",
        "8s8d6SY6RbyN",
        "IzUr9NfyjYRj",
        "rYnM169ZFHeZ",
        "NTK-u1Q4nrGv",
        "0z7cDFlh_eL1",
        "ZnohitquaGyf",
        "BlgzCv4_YyQm",
        "ihVXTXbIwRf7"
      ],
      "include_colab_link": true
    },
    "kernelspec": {
      "name": "python3",
      "display_name": "Python 3"
    }
  },
  "cells": [
    {
      "cell_type": "markdown",
      "metadata": {
        "id": "view-in-github",
        "colab_type": "text"
      },
      "source": [
        "<a href=\"https://colab.research.google.com/github/deltorobarba/machinelearning/blob/master/quantum.ipynb\" target=\"_parent\"><img src=\"https://colab.research.google.com/assets/colab-badge.svg\" alt=\"Open In Colab\"/></a>"
      ]
    },
    {
      "cell_type": "markdown",
      "metadata": {
        "id": "uYQVihuXzx6u"
      },
      "source": [
        "# **Quantum Computing**"
      ]
    },
    {
      "cell_type": "markdown",
      "metadata": {
        "id": "ZWYcaoehvUk1"
      },
      "source": [
        "![ggg](https://raw.githubusercontent.com/deltorobarba/repo/master/quantum_000.jpg)"
      ]
    },
    {
      "cell_type": "code",
      "metadata": {
        "id": "jObfS0OgRhq6"
      },
      "source": [
        "!pip install cirq --quiet\n",
        "import cirq\n",
        "import sympy\n",
        "from cirq.contrib.svg import SVGCircuit\n",
        "import numpy as np\n",
        "import pandas as pd\n",
        "import seaborn as sns\n",
        "import matplotlib.pyplot as plt # %matplotlib inline\n",
        "print(cirq.__version__)"
      ],
      "execution_count": null,
      "outputs": []
    },
    {
      "cell_type": "markdown",
      "metadata": {
        "id": "Mb0qmA4SX7_7"
      },
      "source": [
        "### **<font color=\"blue\">Physics $\\vec \\nabla^2$**"
      ]
    },
    {
      "cell_type": "markdown",
      "metadata": {
        "id": "JyKtcnR9CyjB"
      },
      "source": [
        "https://de.wikipedia.org/wiki/Kontinuitätsgleichung#Quantenmechanik"
      ]
    },
    {
      "cell_type": "markdown",
      "metadata": {
        "id": "xidtZXpjlODT"
      },
      "source": [
        "https://en.wikipedia.org/wiki/Variational_method_(quantum_mechanics)"
      ]
    },
    {
      "cell_type": "markdown",
      "metadata": {
        "id": "nVsoz_ePlQSO"
      },
      "source": [
        "https://en.wikipedia.org/wiki/Excited_state"
      ]
    },
    {
      "cell_type": "markdown",
      "metadata": {
        "id": "-UV4ukhPdHOz"
      },
      "source": [
        "###### **<font color=\"blue\">Hartree Atomic Units and SI system**"
      ]
    },
    {
      "cell_type": "markdown",
      "metadata": {
        "id": "CvAEIa8SdOES"
      },
      "source": [
        "Die [atomaren Einheiten](https://de.wikipedia.org/wiki/Atomare_Einheiten) (englisch: atomic units, au) bilden ein natürliches Einheitensystem, das hauptsächlich in der Atom- und Molekülphysik und der Theoretischen Chemie benutzt wird. Die atomaren Einheiten gehen von den Eigenschaften des Elektrons im Wasserstoffatom aus."
      ]
    },
    {
      "cell_type": "markdown",
      "metadata": {
        "id": "DWvqoFYodjnb"
      },
      "source": [
        "Die atomaren Einheiten sind:\n",
        "- Länge: der Bohrsche Radius $a_{0}$\n",
        "- Masse: die atomare Masseneinheit amu und die Elektronenmasse $m_{\\mathrm{e}}$\n",
        "- Ladung: die Elementarladung $e$\n",
        "- Energie: die Hartree-Energie $E_{\\mathrm{h}}$.\n",
        "Ebenfalls gebräuchlich:\n",
        "- Drehimpuls: die Plancksche Konstante $\\hbar$\n",
        "- Zeit: die atomic time unit a.t. $\\mathrm{u.}=\\frac{\\hbar}{E_{\\mathrm{h}}}$."
      ]
    },
    {
      "cell_type": "markdown",
      "metadata": {
        "id": "RFWOnCTgeM3E"
      },
      "source": [
        "In this system the numerical values of the following four fundamental physical constants are all unity by definition:\n",
        "\n",
        "- Reduced Planck constant: $\\hbar=1$, also known as the atomic unit of action\n",
        "- Elementary charge: $e=1$, also known as the atomic unit of charge\n",
        "- Bohr radius: $a_{0}=1$, also known as the atomic unit of length\n",
        "- Electron mass: $m_{\\mathrm{e}}=1$, also known as the atomic unit of mass"
      ]
    },
    {
      "cell_type": "markdown",
      "metadata": {
        "id": "JoS788BUdk1s"
      },
      "source": [
        "**Der Gebrauch von atomaren Einheiten vereinfacht die\n",
        "Schrödingergleichung**. \n",
        "\n",
        "Zum Beispiel ergibt sich der Hamilton-Operator für ein Elektron im Wasserstoffatom zu:\n",
        "\n",
        "- in SI-Einheiten:\n",
        "\n",
        "> $\n",
        "\\hat{H}=-\\frac{\\hbar^{2}}{2 m_{\\mathrm{e}}} \\nabla^{2}-\\frac{1}{4 \\pi \\varepsilon_{0}} \\frac{e^{2}}{r}\n",
        "$\n",
        "\n",
        "- in atomaren Einheiten:\n",
        "\n",
        "> $\n",
        "\\hat{H}=-\\frac{\\nabla^{2}}{2}-\\frac{1}{r}\n",
        "$"
      ]
    },
    {
      "cell_type": "markdown",
      "metadata": {
        "id": "xN1LRh2ydLwx"
      },
      "source": [
        "https://de.wikipedia.org/wiki/Internationales_Einheitensystem#SI-Einheiten"
      ]
    },
    {
      "cell_type": "markdown",
      "metadata": {
        "id": "HPtcn_Lur_hp"
      },
      "source": [
        "###### **<font color=\"blue\">Overview & Motivation**"
      ]
    },
    {
      "cell_type": "markdown",
      "metadata": {
        "id": "XI5jA5G-18zM"
      },
      "source": [
        "https://en.m.wikipedia.org/wiki/Symmetry_(physics)"
      ]
    },
    {
      "cell_type": "markdown",
      "metadata": {
        "id": "WC_S3JfocQcM"
      },
      "source": [
        "> Superconducting qubits are a design based on a **cooper pair**, which is just a pair of **electrons, or any other fermion**, which is a particle with a half-integer spin, combined with a **josephson junction**.\n"
      ]
    },
    {
      "cell_type": "markdown",
      "metadata": {
        "id": "-_JtxdydnPcH"
      },
      "source": [
        "\"*Quantum computers that use single electron spins in silicon QDs are seen as attractive due to their potential scalability and because silicon is already widely used in electronics technology.*\"\n",
        "\n",
        "https://www.sciencedaily.com/releases/2020/03/200302113310.htm"
      ]
    },
    {
      "cell_type": "markdown",
      "metadata": {
        "id": "WPESE252YChz"
      },
      "source": [
        "![ggg](https://upload.wikimedia.org/wikipedia/commons/thumb/1/1c/Standard_Model_of_Elementary_Particles-de.svg/502px-Standard_Model_of_Elementary_Particles-de.svg.png)"
      ]
    },
    {
      "cell_type": "markdown",
      "metadata": {
        "id": "DHjNjKFENjF2"
      },
      "source": [
        "**Periodensystem**"
      ]
    },
    {
      "cell_type": "markdown",
      "metadata": {
        "id": "ph6Izp03NoVh"
      },
      "source": [
        "![ggg](https://upload.wikimedia.org/wikipedia/commons/thumb/0/00/Periodensystem_Einfach.svg/1024px-Periodensystem_Einfach.svg.png)"
      ]
    },
    {
      "cell_type": "markdown",
      "metadata": {
        "id": "Z33Si5R9Nxzd"
      },
      "source": [
        "https://de.m.wikipedia.org/wiki/Periodensystem"
      ]
    },
    {
      "cell_type": "markdown",
      "metadata": {
        "id": "0JW5WA3kN4G4"
      },
      "source": [
        "https://de.m.wikipedia.org/wiki/Chemische_Reaktion"
      ]
    },
    {
      "cell_type": "markdown",
      "metadata": {
        "id": "ySaBnKbMdIME"
      },
      "source": [
        "https://de.wikipedia.org/wiki/Zustand_(Quantenmechanik)#Phasenfaktor_und_Superposition"
      ]
    },
    {
      "cell_type": "markdown",
      "metadata": {
        "id": "Y7FxOxnjm3qr"
      },
      "source": [
        "###### **<font color=\"blue\">Bosons & Fermions**"
      ]
    },
    {
      "cell_type": "markdown",
      "metadata": {
        "id": "KNuj8qBeYg__"
      },
      "source": [
        "**Fermionen**\n",
        "\n",
        "* Fermionen (benannt nach Enrico Fermi) sind im physikalischen Sinne alle Teilchen, die der [Fermi-Dirac-Statistik](https://de.wikipedia.org/wiki/Fermi-Dirac-Statistik) genügen. Nach dem Spin-Statistik-Theorem besitzen sie einen **halbzahligen Spin**, also $\\tfrac{1}{2}\\hbar$, $\\tfrac{3}{2}$ ℏ etc. \n",
        "\n",
        "* Anschaulich gesprochen sind Fermionen diejenigen Teilchen, aus denen die Materie besteht.\n",
        "\n",
        "* Fermionen unterscheiden sich von den [Bosonen](https://de.wikipedia.org/wiki/Boson). Ein Elementarteilchen in drei Raumdimensionen ist immer entweder ein Fermion oder ein Boson.\n",
        "\n",
        "\n",
        "* Zu den Fermionen gehören:\n",
        "\n",
        "  * unter den Elementarteilchen: die **Leptonen** (z. B. das Elektron und das Neutrino) und die **Quarks** (alle – bis eventuell auf die Neutrinos – Dirac-Fermionen). ps: Quarks sind Bausteine von Protonen und Neutronen!\n",
        "\n",
        "  * unter den zusammengesetzten Teilchen: unter anderem alle, die aus einer ungeraden Anzahl von Quarks aufgebaut sind, wie beispielsweise alle **Baryonen**, zu denen auch das Proton und das Neutron zählen, sowie die Pentaquarks.\n",
        "\n",
        "* Von der mathematischen Theorie her sind drei Typen von Fermionen möglich:\n",
        "\n",
        "  * Dirac-Fermionen: massiv, die „gewöhnlichen“ Fermionen\n",
        "\n",
        "  * Weyl-Fermionen: masselos, hypothetisch bzw. als Quasiteilchen[1][2], siehe auch Weyl-Gleichung.\n",
        "\n",
        "  * Majorana-Fermionen sind identisch mit ihren Antiteilchen (wie bei den Bosonen die Photonen) und daher auch elektrisch neutral, hypothetisch (eventuell die Neutrinos)\n",
        "\n",
        "* Fermionen gehorchen dem [Pauli’schen Ausschlussprinzip](https://de.wikipedia.org/wiki/Pauli-Prinzip), \n",
        "\n",
        "  * welches besagt, dass zwei Fermionen nicht gleichzeitig an demselben Ort einen identischen Quantenzustand annehmen können. \n",
        "\n",
        "  * Allgemein gilt, dass die quantenmechanische Wellenfunktion zweier oder mehrerer gleichartiger Fermionen bei Vertauschung zweier Fermionen vollkommen [antisymmetrisch](https://de.wikipedia.org/wiki/Antisymmetrische_Funktion) sein muss, das heißt, das Vorzeichen ändert sich ([Phasenfaktor](https://de.wikipedia.org/wiki/Zustand_(Quantenmechanik)#Phasenfaktor_und_Superposition) −1).\n"
      ]
    },
    {
      "cell_type": "markdown",
      "metadata": {
        "id": "jdFaCQeekLCA"
      },
      "source": [
        "**Boson**\n",
        "\n",
        "* [Bosonen](https://de.wikipedia.org/wiki/Boson) sind alle Teilchen, die sich gemäß der **Bose-Einstein-Statistik** verhalten, in der u. a. mehrere ununterscheidbare Teilchen den gleichen Zustand einnehmen können. \n",
        "\n",
        "* haben sie einen **ganzzahligen Eigendrehimpuls (Spin)** in Einheiten des reduzierten Planckschen Wirkungsquantums ℏ. \n",
        "\n",
        "* Im Standardmodell der Teilchenphysik sind die **Austauschteilchen**, die die Kräfte zwischen den Fermionen vermitteln, elementare Bosonen mit einem Spin von 1, wie z. B. das Photon als Überträger der elektromagnetischen Kraft.\n",
        "\n",
        "* Andere Bosonen sind aus mehreren Teilchen zusammengesetzt wie z. B. die **Cooper-Paare** aus Elektronen und Phononen als Ladungsträger im **Supraleiter**"
      ]
    },
    {
      "cell_type": "markdown",
      "metadata": {
        "id": "-t1WOrVbZwRr"
      },
      "source": [
        "**Statistiken**\n",
        "\n",
        "* [Fermi-Dirac-Statistik](https://de.wikipedia.org/wiki/Fermi-Dirac-Statistik) beschreibt das makroskopische Verhalten eines Systems, das aus vielen gleichen Teilchen vom Typ Fermion besteht, und gilt z. B. für die Elektronen, die in Metallen und Halbleitern für die elektrische Leitfähigkeit sorgen.\n",
        "\n",
        "* [Bose-Einstein-Verteilung](https://de.wikipedia.org/wiki/Bose-Einstein-Statistik): Sie beschreibt die mittlere Besetzungszahl $\\langle n(E) \\rangle$  eines Quantenzustands der Energie E im thermodynamischen Gleichgewicht bei der absoluten Temperatur T für identische Bosonen als besetzende Teilchen. \n",
        "\n",
        "* Beide gehen im Grenzfall großer Energie E in die [Boltzmann-Statistik](https://de.wikipedia.org/wiki/Boltzmann-Statistik) über\n"
      ]
    },
    {
      "cell_type": "markdown",
      "metadata": {
        "id": "KK9KL-mglJ0f"
      },
      "source": [
        "**We can write a single $\\psi$ for the whole system of two or more particles, not only one**: \n",
        "\n",
        "(*from video: [Quantum Physics: BOSONS and FERMIONS Explained for Beginners](https://www.youtube.com/watch?v=skFU7pmBOys)*)"
      ]
    },
    {
      "cell_type": "markdown",
      "metadata": {
        "id": "bh1lMdoZnT8N"
      },
      "source": [
        "![ggg](https://raw.githubusercontent.com/deltorobarba/repo/master/quantum_123.png)"
      ]
    },
    {
      "cell_type": "markdown",
      "metadata": {
        "id": "gS_LgJL6nd4i"
      },
      "source": [
        "**but we have 2 different classes**:"
      ]
    },
    {
      "cell_type": "markdown",
      "metadata": {
        "id": "H4CCJ46SoGL3"
      },
      "source": [
        "![ggg](https://raw.githubusercontent.com/deltorobarba/repo/master/quantum_124.png)"
      ]
    },
    {
      "cell_type": "markdown",
      "metadata": {
        "id": "sQp-HPpKoZfd"
      },
      "source": [
        "Here examples of bosons and fermions (left). And right: For examples two electrons are indistinguishible, but if you swap their positions the wave function becomes negativ - **and it's not limited to 2 particle system, or 2 dimensional system**:"
      ]
    },
    {
      "cell_type": "markdown",
      "metadata": {
        "id": "MjNXmTEIpR1c"
      },
      "source": [
        "![ggg](https://raw.githubusercontent.com/deltorobarba/repo/master/quantum_125.png)"
      ]
    },
    {
      "cell_type": "markdown",
      "metadata": {
        "id": "sTbKoq5opcAf"
      },
      "source": [
        "**A direct consequence from it is following:** Bose-Einstein-Condensate for Bosons and Pauli-Exclusion-Principle for Fermions"
      ]
    },
    {
      "cell_type": "markdown",
      "metadata": {
        "id": "PYK7SMzqqORY"
      },
      "source": [
        "![ggg](https://raw.githubusercontent.com/deltorobarba/repo/master/quantum_126.png)"
      ]
    },
    {
      "cell_type": "markdown",
      "metadata": {
        "id": "_lXYpBRjq4Wr"
      },
      "source": [
        "###### **<font color=\"orange\">Bose-Einstein-Condensate for Bosons and Pauli-Exclusion-Principle for Fermions**"
      ]
    },
    {
      "cell_type": "markdown",
      "metadata": {
        "id": "wRJKBAuwNF8Y"
      },
      "source": [
        "Video: [Schroedinger Equation & Pauli Exclusion principle](https://www.youtube.com/watch?v=I93gZ_zfOpg)"
      ]
    },
    {
      "cell_type": "markdown",
      "metadata": {
        "id": "z3dSxhDUrFQn"
      },
      "source": [
        "Video: [The Basic Math that Explains Why Atoms are Arranged Like They Are: Pauli Exclusion Principle\n",
        "](https://www.youtube.com/watch?v=INYZy6_HaQE&list=WL&index=20)"
      ]
    },
    {
      "cell_type": "markdown",
      "metadata": {
        "id": "J9gF5suCq-eB"
      },
      "source": [
        "Video: [Bose-Einstein Condensate: The Quantum BASICS - Bosons and their Wave Functions](https://www.youtube.com/watch?v=lBpxQdikm0w&list=WL&index=21&t)"
      ]
    },
    {
      "cell_type": "markdown",
      "metadata": {
        "id": "T1ly8TS7CBW4"
      },
      "source": [
        "###### **<font color=\"orange\">Dirac Equation**"
      ]
    },
    {
      "cell_type": "markdown",
      "metadata": {
        "id": "4j6fN-afFyJ6"
      },
      "source": [
        "Dirac-Equation beschreibt die Eigenschaften und das Verhalten eines fundamentalen Fermions mit Spin 1/2"
      ]
    },
    {
      "cell_type": "markdown",
      "metadata": {
        "id": "LnIZuVcbCG8q"
      },
      "source": [
        "Die [Dirac-Gleichung](https://de.wikipedia.org/wiki/Dirac-Gleichung) ist eine grundlegende Gleichung der relativistischen Quantenmechanik. Sie beschreibt die Eigenschaften und das Verhalten eines fundamentalen Fermions mit Spin 1/2 (zum Beispiel Elektron, Quark). Sie wurde 1928 von Paul Dirac entwickelt und erfüllt im Gegensatz zur Schrödingergleichung die Anforderungen der speziellen Relativitätstheorie."
      ]
    },
    {
      "cell_type": "markdown",
      "metadata": {
        "id": "m_deLUfqCD11"
      },
      "source": [
        "![ggg](https://raw.githubusercontent.com/deltorobarba/repo/master/quantum_136.png)"
      ]
    },
    {
      "cell_type": "markdown",
      "metadata": {
        "id": "CLQi30XnE4os"
      },
      "source": [
        "###### **<font color=\"orange\">Cooper-Paar & Josephson Junction**"
      ]
    },
    {
      "cell_type": "markdown",
      "metadata": {
        "id": "Xe6JONAYGZek"
      },
      "source": [
        "Artikel: [Neuer Materiezustand im Supraleiter - Verbund aus vier Elektronen erzeugt zuvor unbekannten Aggregatzustand](https://www.scinexx.de/news/technik/neuer-materiezustand-im-supraleiter/)\n",
        "\n",
        "* Überraschende Entdeckung: In einem Supraleiter haben Physiker einen zuvor unbekannten Materiezustand entdeckt.  Dabei entstanden Cluster aus jeweils vier gemeinsam agierenden Elektronen – normalerweise bilden sich beim Übergang zur Supraleitung nur Elektronenpaare.  Dieser „bosonische Metallzustand“ eröffnet ganz neue Einblicke in die physikalischen Mechanismen der Supraleitung und könnte neue Anwendungen hervorbringen, wie die Forscher im Fachmagazin „Nature Physics“ berichten.\n",
        "\n",
        "* **In einem Supraleiter können sich Elektronen nahezu ohne Widerstand bewegen**. Gängiger Theorie nach liegt dies daran, dass die Elektronen im Kristallgerüst dieser Materialien bei ausreichend tiefen Temperaturen **einen Zustandswechsel durchlaufen**: Obwohl sie normalerweise Einzelgänger sind, **bilden sie nun sogenannte Cooper-Paare**. Diese reagieren wie eine Superflüssigkeit und **können sich ohne Reibungsverluste bewegen** – das Material wird supraleitend.\n",
        "\n",
        "\n",
        "\n"
      ]
    },
    {
      "cell_type": "markdown",
      "metadata": {
        "id": "w6WLpCdQjd3z"
      },
      "source": [
        "\n",
        "https://de.m.wikipedia.org/wiki/Josephson-Effekt\n",
        "\n",
        "https://de.m.wikipedia.org/wiki/Tunnelstrom\n",
        "\n",
        "https://de.m.wikipedia.org/wiki/Tunneleffekt"
      ]
    },
    {
      "cell_type": "markdown",
      "metadata": {
        "id": "AxUWSFULYS8M"
      },
      "source": [
        "**Cooper-Paar**\n",
        "\n",
        "* [Cooper-Paar](https://de.wikipedia.org/wiki/Cooper-Paar) – unter bestimmten Bedingungen können sich zwei Fermionen zu einem Boson zusammenschließen\n"
      ]
    },
    {
      "cell_type": "markdown",
      "metadata": {
        "id": "1lgCqBDmceQt"
      },
      "source": [
        "**Josephson Junction (Josephson-Effekt)**\n",
        "\n",
        "* https://de.wikipedia.org/wiki/Josephson-Effekt"
      ]
    },
    {
      "cell_type": "markdown",
      "metadata": {
        "id": "9fZtegG588Oi"
      },
      "source": [
        "###### **<font color=\"orange\">Artificial atoms/ Synthetic elements**"
      ]
    },
    {
      "cell_type": "markdown",
      "metadata": {
        "id": "7gRcXEm-DSLj"
      },
      "source": [
        "https://www.sciencedaily.com/releases/2020/02/200211091815.htm"
      ]
    },
    {
      "cell_type": "markdown",
      "metadata": {
        "id": "WxRmvei99AnK"
      },
      "source": [
        "https://en.m.wikipedia.org/wiki/Synthetic_element"
      ]
    },
    {
      "cell_type": "markdown",
      "metadata": {
        "id": "3jog_VsinRGB"
      },
      "source": [
        "###### <font color=\"blue\">**Ising Model**"
      ]
    },
    {
      "cell_type": "markdown",
      "metadata": {
        "id": "p1UtqBEYcMJL"
      },
      "source": [
        "https://www.youtube.com/watch?v=J-S_wUls314"
      ]
    },
    {
      "cell_type": "markdown",
      "metadata": {
        "id": "jnXe6TWTcNuk"
      },
      "source": [
        "> **The Ising Model represents the interactions of the spins of electrons in metals**.\n"
      ]
    },
    {
      "cell_type": "markdown",
      "metadata": {
        "id": "G8MaunWlYJWl"
      },
      "source": [
        "\n",
        "* consider a two-dimensional square lattice\n",
        "\n",
        "* has an electron on every vertex\n",
        "\n",
        "* spins can only be orientated up or down\n",
        "\n",
        "* depending on the configuration of the spins in the lattice the energy of the system will change \n",
        "\n",
        "* Goal: analyse dependence of temperature, energy and spin structure\n",
        "\n",
        "* every electron only interacts with their nearest neighbors (in this case: 4). \n",
        "\n",
        "* this interaction will affect positively or negatively to the systems energy"
      ]
    },
    {
      "cell_type": "markdown",
      "metadata": {
        "id": "_r82lZsBZ0f-"
      },
      "source": [
        "**But why does it change? - Physicists use Hamiltonian to study the energy and behaviour of a system**\n",
        "\n",
        "> $H=J \\cdot \\sum s_{i} s_{j}$\n",
        "\n",
        "* H = Hamiltonian\n",
        "\n",
        "* J = strenght of interaction\n",
        "\n",
        "* $\\sum$ = sum over all interactions\n",
        "\n",
        "* $s_{i} s_{j}$ = spin interactions"
      ]
    },
    {
      "cell_type": "markdown",
      "metadata": {
        "id": "kb8WgaGPhVRY"
      },
      "source": [
        "**We can define the probability of having one spin configuration or other, depending on the system's temperature**:\n",
        "\n",
        "> $p_{i}=\\frac{e^{-\\frac{H_{i}}{k T}}}{\\sum e^{-\\frac{H_{j}}{k T}}}$\n",
        "\n",
        "* k = Boltzmann constant\n",
        "\n",
        "* p = probability\n",
        "\n",
        "* T = temperature\n",
        "\n",
        "System tend to minimize the energy. This will happen in a way that it will have very different behaviors at low and high temperatures. Spins will align in clusters or not. \n",
        "\n",
        "* the system has two phases: disordered for hot temperatures and ordered for low temperatures\n",
        "\n",
        "* between them the system will undergo a phase transition (occurs at a critical temperatures and has specular properties)"
      ]
    },
    {
      "cell_type": "markdown",
      "metadata": {
        "id": "U1U5DCWKhm7I"
      },
      "source": [
        "**What is the difference between these two phases?**\n",
        "\n",
        "* first we can define the magnetization as the total angular momentum of all the spins $s_{up}$ = 1 and $s_{down}$ = -1.\n",
        "\n",
        "> $m=N_{\\mathrm{up}}-N_{\\text {down }}$\n",
        "\n",
        "* The total number of up and down spins will be our total magnetization: $s_{up}$ = 5 electrons and $s_{down}$ = 4 electrons:\n",
        "\n",
        "> m = 5 - 4 = 1 = total magnetization\n",
        "\n",
        "* disordered phase: m = 0, approx. same number of up and down spins\n",
        "\n",
        "* ordered phase ≠ 0 $\\rightarrow$ we can see how clusters emerge\n",
        "\n",
        "* The point at which the system changes between phases, i.e. the critical temperature, is called the 'critical point'. "
      ]
    },
    {
      "cell_type": "markdown",
      "metadata": {
        "id": "inW3XIy2hkWc"
      },
      "source": [
        "> **The magnetization can be considered the order parameter since it determines whether we are in one phase or the other.**"
      ]
    },
    {
      "cell_type": "markdown",
      "metadata": {
        "id": "5kXFqnlsiqPK"
      },
      "source": [
        "Simulation on how the spins behave on every phase and its dependence on temperature:\n",
        "\n",
        "* top: spins changes constantly orientation and on average same up and down spins, high entropy"
      ]
    },
    {
      "cell_type": "markdown",
      "metadata": {
        "id": "7ShJH0zSjvrm"
      },
      "source": [
        "![ggg](https://raw.githubusercontent.com/deltorobarba/repo/master/quantum_172.png)"
      ]
    },
    {
      "cell_type": "markdown",
      "metadata": {
        "id": "F-NtalREj6GV"
      },
      "source": [
        "**Critical Temperature: What happens at the phase transition?**: Self-similarity / fractal behavior at differen scales!"
      ]
    },
    {
      "cell_type": "markdown",
      "metadata": {
        "id": "KS42IIQAkYiG"
      },
      "source": [
        "![ggg](https://raw.githubusercontent.com/deltorobarba/repo/master/quantum_173.png)"
      ]
    },
    {
      "cell_type": "markdown",
      "metadata": {
        "id": "oNzhZ9FmklsK"
      },
      "source": [
        "* fundamental physics: consider smallest particles\n",
        "\n",
        "* Ising model: consider different phases and phase transitions - cooperative phenomena. This is impossible to deduce by studying exclusively the bahvior of single particles\n",
        "\n",
        "* we need to study **many body physics** and look for changes of the collective behavior using simple concepts as the **order parameter** focusing on the interrelation of the parts not only on the parts themselves.\n",
        "\n",
        "* hence you dont need to solve Schroedinger equation a million times, which is why the ising model is so popular and the beauty of physics of **complex systems**\n",
        "\n",
        "* Considering the nearest neighbors and focusing on the interaction of the parts started a new way of research: neural networks, social systems, ecosystems, protein folding etc."
      ]
    },
    {
      "cell_type": "markdown",
      "metadata": {
        "id": "b9BnYzmViqeS"
      },
      "source": [
        "\n",
        "\n",
        "---\n",
        "\n"
      ]
    },
    {
      "cell_type": "markdown",
      "metadata": {
        "id": "X-b7PPomXOgD"
      },
      "source": [
        "https://www.youtube.com/watch?v=1CCZkHPrhzk"
      ]
    },
    {
      "cell_type": "markdown",
      "metadata": {
        "id": "hoo-XCr2HGp6"
      },
      "source": [
        "* [Das Ising-Model](https://de.wikipedia.org/wiki/Ising-Modell) ist ein Gittermodell in der theoretischen Physik. Es beschreibt insbesondere den Ferromagnetismus in Festkörpern (Kristallen). Das Ising-Modell zählt zu den meistuntersuchten Modellen der [statistischen Physik](https://de.wikipedia.org/wiki/Statistische_Physik).\n",
        "\n",
        "* In dem Modell wird angenommen, dass die Spins, welche das magnetische Moment der Atome oder Ionen bestimmen, nur zwei diskrete Zustände annehmen können (Spinwert $\\pm 1$). \n",
        "\n",
        "* Die Richtung im Raum bleibt aber offen; es handelt sich also um Vektoren (um im klassischen Bild zu bleiben, bzw. quantenmechanisch um Vektoroperatoren)."
      ]
    },
    {
      "cell_type": "markdown",
      "metadata": {
        "id": "wTb7PIVJIBfF"
      },
      "source": [
        "**Heisenberg-Modell**: Der allgemeine Energieausdruck (oder Hamiltonoperator) für eine solche Situation ist durch das [Heisenberg-Modell](https://de.wikipedia.org/wiki/Heisenberg-Modell) gegeben:\n",
        "\n",
        "> $\\hat{\\mathcal{H}}=-\\frac{1}{2} \\sum_{i, j} J_{i j} \\vec{s}_{i} \\cdot \\vec{s}_{j}-\\vec{H} \\cdot \\sum_{i=1}^{N} \\vec{s}_{i} \\quad(\\text { Heisenberg-Modell })\n",
        "$\n",
        "\n",
        "Hierbei bezeichnet\n",
        "- $\\vec{s}_{i}$ einen (mehrkomponentigen) Spin des Atoms am Platz $i$ des Kristallgitters,\n",
        "- $J_{i j}$ die Kopplungskonstante (Stärke der Austauschkopplungs-Wechselwirkung) zwischen den Spins an den Plätzen $i$ und $j$,\n",
        "- der Punkt \\cdot das Skalarprodukt\n",
        "- $\\vec{H}$ die Stärke des Magnetfeldes."
      ]
    },
    {
      "cell_type": "markdown",
      "metadata": {
        "id": "2VYbVCuzIOOc"
      },
      "source": [
        "Beim **Ising-Modell** dagegen wird die Zahl der Spinkomponenten auf Eins reduziert (d.h. parallel oder antiparallel zu einer ausgezeichneten Achse - hier $z$-Achse): $s_{i}^{z}=\\pm 1$ :\n",
        "\n",
        ">$\n",
        "\\hat{\\mathcal{H}}=-\\frac{1}{2} \\sum_{i, j} J_{i j} s_{i}^{z} s_{j}^{z}-H_{z} \\sum_{i=1}^{N} s_{i}^{z} \\quad(\\text { Isingmodell })\n",
        "$"
      ]
    },
    {
      "cell_type": "markdown",
      "metadata": {
        "id": "j-rJCkD9IjMz"
      },
      "source": [
        "Oft wird zusätzlich angenommen, dass $J_{ij}$ nur für benachbarte Spins ungleich Null ist. Ist die Austauschkopplung positiv, so spricht man von einer ferromagnetischen Kopplung; ist sie negativ, so wird sie antiferromagnetisch genannt. Bei Ferromagneten bzw. Antiferromagneten dominiert das jeweilige Vorzeichen; bei den Spingläsern kommen beide Vorzeichen gleich häufig vor.\n",
        "\n",
        "* Durch geeignete Wahl der Wechselwirkungen können u. a. Spingläser (hierbei ist $J_{ij}$ eine Zufallsgröße), verdünnte Magnete mit interessanten kritischen Eigenschaften oder auch räumlich modulierte magnetische Strukturen (hierbei liegen konkurrierende Kopplungen $J_{ij}$ vor, siehe [ANNNI-Modell](https://de.wikipedia.org/wiki/ANNNI-Modell)) modelliert werden. \n",
        "\n",
        "* Im Allgemeinen beschreibt das Ising-Modell die magnetischen Ordnungen bei tiefen Temperaturen, die bei höheren Temperaturen jedoch durch thermische Fluktuationen aufgebrochen werden, wobei ein Phasenübergang stattfindet. Eine umfassende theoretische Analyse von Phasenübergängen liefert die Theorie der [Renormierungsgruppen](https://de.wikipedia.org/wiki/Renormierungsgruppe), für die Kenneth G. Wilson 1982 den Nobelpreis für Physik erhielt."
      ]
    },
    {
      "cell_type": "markdown",
      "metadata": {
        "id": "JTDj6XQgJAEt"
      },
      "source": [
        "Bei der eindimensionalen Ising-Kette mit hinreichend kurzreichweitigen Wechselwirkungen beobachtet man jedoch keinen Phasenübergang. Dies hatte schon Ernst Ising in seiner Doktorarbeit mit Bedauern feststellen müssen. Fälschlicherweise vermutete er, dass dies auch für zwei und mehr Dimensionen zutrifft, was zunächst allgemein akzeptiert wurde.\n",
        "\n",
        "Rudolf Peierls zeigte jedoch 1936,[4] dass in zwei Dimensionen sehr wohl ein Phasenübergang vorlag. 1941 bestimmten Hendrik Anthony Kramers und Gregory Wannier[5] durch ein Dualitätsargument die kritische Temperatur. Die exakte Lösung des zweidimensionalen Ising-Modells mit Wechselwirkungen zwischen nächsten Nachbarn und bei verschwindendem Magnetfeld wurde erstmals 1944 von Lars Onsager berechnet."
      ]
    },
    {
      "cell_type": "markdown",
      "metadata": {
        "id": "AOCBG2myJOKT"
      },
      "source": [
        "**Solutions**"
      ]
    },
    {
      "cell_type": "markdown",
      "metadata": {
        "id": "obs3yfDwJPIh"
      },
      "source": [
        "* Für das dreidimensionale Ising-Modell mit Wechselwirkungen zwischen benachbarten Spins gibt es keine analytisch-exakte Lösung. Seine Eigenschaften kann man jedoch mit Hilfe der Molekularfeldnäherung (oder Landau-Theorie), Monte-Carlo-Simulationen, Reihenentwicklungen oder anderen numerischen Lösungsverfahren berechnen.\n",
        "\n",
        "* Das Ising-Modell gilt wegen seiner konzeptionellen Einfachheit und seiner vielfältigen Eigenschaften als „Drosophila“ der statistischen Physik. Es hat darüber hinaus Anwendungen in vielen Bereichen der Naturwissenschaften gefunden, bis hin zur Biologie und Hirnforschung. Die nahezu programmatische Aussage von Michael E. Fisher ‚Ising models still thrive‘ (etwa: ‚Ising-Modelle sind noch im Wachsen‘) wird wohl noch für viele Jahre gültig bleiben.\n",
        "\n",
        "* Verallgemeinerungen des Ising-Modells liefern das Blume-Capel-Modell, das Potts-Modell und das Markow-Netzwerk."
      ]
    },
    {
      "cell_type": "markdown",
      "metadata": {
        "id": "Mbhg82LoDkQB"
      },
      "source": [
        "https://de.m.wikipedia.org/wiki/Ising-Modell"
      ]
    },
    {
      "cell_type": "markdown",
      "metadata": {
        "id": "wxQWG1ucnU7E"
      },
      "source": [
        "https://www.quantamagazine.org/the-cartoon-picture-of-magnets-that-has-transformed-science-20200624/"
      ]
    },
    {
      "cell_type": "markdown",
      "metadata": {
        "id": "OP7hSOM2VcYj"
      },
      "source": [
        "### <font color=\"blue\">**Spin**"
      ]
    },
    {
      "cell_type": "markdown",
      "metadata": {
        "id": "9XrnbSWLmswS"
      },
      "source": [
        "###### **<font color=\"blue\">Spin of a particle I: Physics (Spin-Orbit-Coupling & Fine Structure)**\n"
      ]
    },
    {
      "cell_type": "markdown",
      "metadata": {
        "id": "CqWjpCLEq40N"
      },
      "source": [
        "Single spin one half particle, focus on spin degrees of freedom: \n",
        "\n",
        "* when the spin degrees of freedom interact with an electromagnetic field, the Pauli matrices come into play:\n",
        "\n",
        "> $\\sigma^{Z}=\\left(\\begin{array}{cc}1 & 0 \\\\ 0 & -1\\end{array}\\right) \\quad \\sigma^{X}=\\left(\\begin{array}{ll}0 & 1 \\\\ 1 & 0\\end{array}\\right) \\quad \\sigma^{Y}=\\left(\\begin{array}{cc}0 & -i \\\\ i & 0\\end{array}\\right)$\n",
        "\n",
        "* we have chosen a basis in such a way that the Pauli Z matrix is diagonal. Here are its basis vectors, the spin up in the z direction and the spin down direction, written as column vectors:\n",
        "\n",
        "> $|\\uparrow\\rangle=\\left(\\begin{array}{l}1 \\\\ 0\\end{array}\\right) \\quad 1 \\downarrow=\\left(\\begin{array}{l}0 \\\\ 1\\end{array}\\right)$\n",
        "\n",
        "* we can re-express the basis vectors for the Pauli X matrix in either direction in terms of these vectors, but in the positive direction we can write it in the following way:\n",
        "\n",
        "> $|\\rightarrow\\rangle=\\frac{1}{\\sqrt{2}}(|\\uparrow\\rangle+|\\downarrow\\rangle)$"
      ]
    },
    {
      "cell_type": "markdown",
      "metadata": {
        "id": "_s00-uGttN-2"
      },
      "source": [
        "**The effect of a spin on an atom: Spin-Orbit-Coupling (Fine Structure)**\n",
        "\n",
        "*from Video: [How the Spin of an Electron Affects the Atom It's In - Spin-Orbit Coupling (Fine Structure): Parth G](https://www.youtube.com/watch?v=Odgg-IXwkwI)*"
      ]
    },
    {
      "cell_type": "markdown",
      "metadata": {
        "id": "f1aNKf1otexX"
      },
      "source": [
        "> At the center of an atom we find the nucleus, that contains protons and neutrons.\n",
        "\n",
        "* electrons are found in very specific energy levels surrounding the nucleus, they are **called \"shells\"**\n",
        "\n",
        "* and electrons in these shells have angular momentum, similar to \"linear momentum\" (we only call momentum: mass multiplied by velocity)"
      ]
    },
    {
      "cell_type": "markdown",
      "metadata": {
        "id": "si1AhRdpuh7c"
      },
      "source": [
        "![ggg](https://raw.githubusercontent.com/deltorobarba/repo/master/quantum_127.png)"
      ]
    },
    {
      "cell_type": "markdown",
      "metadata": {
        "id": "Snbzl_sDuynC"
      },
      "source": [
        "**Even if the electron is not moving along a curve, it still has some angular momentum: \"Spin\" !!** \n",
        "\n",
        "Things get interesting when charged particles have some inherent angular momentum (with charges of -1.6 x 10<sup>-19</sup> C for coloumbs! \n",
        "\n",
        "Spin / inherent angular momentum can interact with magnetic fields:"
      ]
    },
    {
      "cell_type": "markdown",
      "metadata": {
        "id": "-W2c_LUmwCMv"
      },
      "source": [
        "![ggg](https://raw.githubusercontent.com/deltorobarba/repo/master/quantum_128.png)"
      ]
    },
    {
      "cell_type": "markdown",
      "metadata": {
        "id": "cmWsvvFB8q40"
      },
      "source": [
        "<font color=\"blue\">**Spin comes from \"special relativistic effects in quantum mechanics\"**. **Spin can be measured in two states: up or down**, Which means it can show the behavior of spinning clockwise of anti-clockwise.\n",
        "\n",
        "> Check [Stern-Gerlach-experiment](https://de.wikipedia.org/wiki/Stern-Gerlach-Versuch) to understand how to measure spin\n",
        "\n",
        "> Check [Dirac-Equation](https://de.wikipedia.org/wiki/Dirac-Gleichung) : beschreibt die Eigenschaften und das Verhalten eines fundamentalen Fermions mit Spin 1/2\n",
        "\n",
        "*Video: [Spin in Quantum Mechanics: What Is It and Why Are Electrons Spin 1/2? Physics Basics](https://www.youtube.com/watch?v=DCrvanB2UWA)*"
      ]
    },
    {
      "cell_type": "markdown",
      "metadata": {
        "id": "0k4gHWib9iTf"
      },
      "source": [
        "![ggg](https://raw.githubusercontent.com/deltorobarba/repo/master/quantum_136.png)"
      ]
    },
    {
      "cell_type": "markdown",
      "metadata": {
        "id": "zyA_9RSq-k6l"
      },
      "source": [
        "<font color=\"blue\">**Spin is quantized ! But not all particles are in the same quantized (not all show same possible spin measurement 2 spin up/down states)** \n",
        "\n",
        "<font color=\"blue\">Photons have 3 different spin states etc. \n",
        "\n",
        "* And spin can only be an integer, or an half of something. \n",
        "\n",
        "* = refers to  the magnitude of size of the maximum angular momentum that a particle can have when we take that number and multiply it by $\\hbar$ (reduced Planck constant)."
      ]
    },
    {
      "cell_type": "markdown",
      "metadata": {
        "id": "eKiapizGAQLO"
      },
      "source": [
        "![ggg](https://raw.githubusercontent.com/deltorobarba/repo/master/quantum_137.png)"
      ]
    },
    {
      "cell_type": "markdown",
      "metadata": {
        "id": "uA2Mi4GXBsfv"
      },
      "source": [
        "<font color=\"blue\">Spin angular momentum of one half multiplied by $\\hbar$. **But we can also use this number to figure out how many possible spin states our particle can have**: \n",
        "\n",
        "* take a spin half particle like an electron, and we already know the angular momentum it can have in one possible state (=1/2 $\\hbar$. \n",
        "\n",
        "* Then subtract 1 = gives us the angular momentum our particle can have in another possible state, here minus 1/2 $\\hbar$ (same size, but pointing / spinnign in another direction)"
      ]
    },
    {
      "cell_type": "markdown",
      "metadata": {
        "id": "gC-8klBzDGQA"
      },
      "source": [
        "![ggg](https://raw.githubusercontent.com/deltorobarba/repo/master/quantum_138.png)"
      ]
    },
    {
      "cell_type": "markdown",
      "metadata": {
        "id": "Eru-LR58DHL2"
      },
      "source": [
        "![ggg](https://raw.githubusercontent.com/deltorobarba/repo/master/quantum_139.png)"
      ]
    },
    {
      "cell_type": "markdown",
      "metadata": {
        "id": "ryBkwCTRDXih"
      },
      "source": [
        "<font color=\"blue\">One more calculation for another spin number. And then: **all particles with half integer spin display very different behaviors to all particles with integer spin !**"
      ]
    },
    {
      "cell_type": "markdown",
      "metadata": {
        "id": "lmyNBkAiEK1V"
      },
      "source": [
        "![ggg](https://raw.githubusercontent.com/deltorobarba/repo/master/quantum_140.png)"
      ]
    },
    {
      "cell_type": "markdown",
      "metadata": {
        "id": "6xRRw-VNwOBD"
      },
      "source": [
        "These spinning charges behave like little magnets and they have a property known as the **\"magnetic diopole moment\"**\n",
        "\n",
        "* is a vector quantity that measures size and direction of this little magnet created by the spinning charge\n",
        "\n",
        "* and when another magnetic field is found in the region of space in which our particle happens to be, then the magnetic diopole moment of the charged particle interacts with the magnetic field"
      ]
    },
    {
      "cell_type": "markdown",
      "metadata": {
        "id": "jJyH0pVoxfxl"
      },
      "source": [
        "![ggg](https://raw.githubusercontent.com/deltorobarba/repo/master/quantum_129.png)"
      ]
    },
    {
      "cell_type": "markdown",
      "metadata": {
        "id": "a8WvlSJXxqpW"
      },
      "source": [
        "From the reference frame of an electron in the atom, the electron experiences a magnetic field. \n",
        "\n",
        "But if we look at an atom from the nucleus' perspective (what we commonly do) there isn't a magnetic field. All we have is an electric field created by the electric charges"
      ]
    },
    {
      "cell_type": "markdown",
      "metadata": {
        "id": "gD3eTwKszn6v"
      },
      "source": [
        "![ggg](https://raw.githubusercontent.com/deltorobarba/repo/master/quantum_130.png)"
      ]
    },
    {
      "cell_type": "markdown",
      "metadata": {
        "id": "fbbSxTkNzETs"
      },
      "source": [
        "This has to do with the idea that electric and magnetic fields look different from different perspectives"
      ]
    },
    {
      "cell_type": "markdown",
      "metadata": {
        "id": "19LC7sIT0BSc"
      },
      "source": [
        "![ggg](https://raw.githubusercontent.com/deltorobarba/repo/master/quantum_131.png)"
      ]
    },
    {
      "cell_type": "markdown",
      "metadata": {
        "id": "tG2bL57p1im5"
      },
      "source": [
        "> <font color=\"red\">**The interaction between the external magnetic field and the magnetic dipole moment of a particular electron is proportional to the dot product between these two.**</font>\n",
        "\n",
        "* This interaction which specifically affects the energy of the electron is proportional to what's also know as the scalar product between mu and B. \n",
        "\n",
        "* Then we can take the interaction term (that describes an energy change of an electron in this case) and rewrite in to the new terms $L$ (=orbital angular momentum = when an electron is in a particular shell around the nucleus) and $S$ (=spin)\n",
        "\n",
        "> <font color=\"red\">**IMPORTANT: So the energy of an electron in a particular atom isn't just related to what shell it's in. It also depends on this interaction between orbital angular momentum and spin angular momentum.**"
      ]
    },
    {
      "cell_type": "markdown",
      "metadata": {
        "id": "XlBfh9pB4U-h"
      },
      "source": [
        "![ggg](https://raw.githubusercontent.com/deltorobarba/repo/master/quantum_133.png)"
      ]
    },
    {
      "cell_type": "markdown",
      "metadata": {
        "id": "3Mo4OUry2YQL"
      },
      "source": [
        "**Reminder Dot Product:**"
      ]
    },
    {
      "cell_type": "markdown",
      "metadata": {
        "id": "rjJm0Spg2aAk"
      },
      "source": [
        "![ggg](https://raw.githubusercontent.com/deltorobarba/repo/master/quantum_132.png)"
      ]
    },
    {
      "cell_type": "markdown",
      "metadata": {
        "id": "IUCwwuL_4sa0"
      },
      "source": [
        "**Shells and subshells:** \n",
        "\n",
        "* the difference between the subshells is the different orbital angular momentum an electron will have. \n",
        "\n",
        "* Each subshell has it's own L-value !!\n",
        "\n",
        "* And hence the energy of each particle in a given subshell will be different to the energy in other subshells. And different subshells can exist within the same shell. These shells are split energy levels."
      ]
    },
    {
      "cell_type": "markdown",
      "metadata": {
        "id": "nZR8Zv9A6qUN"
      },
      "source": [
        "![ggg](https://raw.githubusercontent.com/deltorobarba/repo/master/quantum_134.png)"
      ]
    },
    {
      "cell_type": "markdown",
      "metadata": {
        "id": "azZw-V6o6rh0"
      },
      "source": [
        "![ggg](https://raw.githubusercontent.com/deltorobarba/repo/master/quantum_135.png)"
      ]
    },
    {
      "cell_type": "markdown",
      "metadata": {
        "id": "ENWh8d3KN2_6"
      },
      "source": [
        "###### **<font color=\"blue\">Spin of a particle II: Mathematics (Dirac Belt, Spin ½ Explanation, SU(2) + SO(3))**"
      ]
    },
    {
      "cell_type": "markdown",
      "metadata": {
        "id": "UsbGp7h-k2qS"
      },
      "source": [
        "**SU(2) als Spin-Gruppe**\n",
        "\n",
        "* See video [Dirac's Belt trick](https://www.youtube.com/watch?v=ACZC_XEyg9U&t=2969s)\n",
        "\n",
        "* [SO(3)](https://de.wikipedia.org/wiki/Drehgruppe): Elemente sind die Drehmatrizen, also orthogonale Matrizen mit Determinante eins\n",
        "\n",
        "* [SU(2)](https://de.wikipedia.org/wiki/SU(2)): die spezielle unitäre Gruppe der Ordnung 2, d. h. die lineare Gruppe der unitären \n",
        "(\n",
        "2\n",
        "×\n",
        "2\n",
        ")-Matrizen mit Determinante 1\n",
        "\n",
        "* **$\\mathrm{SU}(2)$ ist eine 2 -fache Überlagerung der Drehgruppe $\\mathrm{SO}(3)$**, sie realisiert also die Spin-Gruppe Spin (3). \n",
        "\n",
        "  * Die natürliche Operation von $\\mathrm{SU}(2)$ auf $\\mathbb{C}^{2}$ ist eine sog. Spinordarstellung.\n",
        "\n",
        "  * Explizit wird die Überlagerung gegeben durch die adjungierte Darstellung von $\\mathrm{SU}(2)$ auf ihrer 3-dimensionalen Lie-Algebra $\\mathfrak{s u}(2)$. Diese lässt die Killing-Form $B$ und damit auch $-B$ invariant. Weil $-B$ positiv definit ist, ist die Gruppe der $-B$ erhaltenden linearen Abbildungen isomorph zu $O(3)$. \n",
        "  \n",
        "  * Man kann zeigen, dass die so definierte Abbildung eine 2-fache Überlagerung $\\mathrm{SU}(2) \\rightarrow \\mathrm{SO}(3)$ definiert.\n",
        "\n",
        "* Siehe auch: https://de.wikipedia.org/wiki/Drehimpuls_(Quantenmechanik)#Drehimpulsoperatoren_und_die_Drehgruppe"
      ]
    },
    {
      "cell_type": "markdown",
      "metadata": {
        "id": "H82v2JcwkBMc"
      },
      "source": [
        "*SO(3) is a 2-sphere, meanwhile SU(2) is a 3-sphere. 3-sphere can be depicted as two solid balls glued together along their boundary:*\n",
        "\n",
        "![ggg](https://raw.githubusercontent.com/deltorobarba/repo/master/quantum_121.png)"
      ]
    },
    {
      "cell_type": "markdown",
      "metadata": {
        "id": "YyFDjg4TjhmS"
      },
      "source": [
        "*SO(3) x 2 describes what happens on the 4 dimensional SU(2)*\n",
        "\n",
        "![ggg](https://raw.githubusercontent.com/deltorobarba/repo/master/quantum_120.png)"
      ]
    },
    {
      "cell_type": "markdown",
      "metadata": {
        "id": "_sJ7NN7GiSsK"
      },
      "source": [
        "*Topologically: the covering space is 2x the base space*\n",
        "\n",
        "![ggg](https://raw.githubusercontent.com/deltorobarba/repo/master/quantum_119.png)"
      ]
    },
    {
      "cell_type": "markdown",
      "metadata": {
        "id": "W0X9fLDssnV5"
      },
      "source": [
        "**Spin of a particle: More theory**\n"
      ]
    },
    {
      "cell_type": "markdown",
      "metadata": {
        "id": "tpKR3Y4eRVJi"
      },
      "source": [
        "https://en.wikipedia.org/wiki/Spin_quantum_number"
      ]
    },
    {
      "cell_type": "markdown",
      "metadata": {
        "id": "9-C6RR4CR4TS"
      },
      "source": [
        "Siehe auch: https://de.wikipedia.org/wiki/Pauli-Matrizen#Zugeordnete_Drehgruppe,_Zusammenhang_mit_Spin-1/2-Systemen"
      ]
    },
    {
      "cell_type": "markdown",
      "metadata": {
        "id": "lHEDwldlrxpi"
      },
      "source": [
        "> A single spin-1/2 state, or \"qubit\", is represented as a normalized state $\\left(\\begin{array}{l}a \\\\ b\\end{array}\\right)$ where $|\\mathrm{a}|^2+|\\mathrm{b}|^2=1 .$ The phase of this is irrelevant, so you can always multiply both \"a\" and \"b\" by exp(ic) without changing the state. Note that this formalism can be used for any $2 \\mathrm{D}$ Hilbert space state; it doesn't *have* to be a spin-1/2 particle."
      ]
    },
    {
      "cell_type": "markdown",
      "metadata": {
        "id": "zw3HcwReeTDk"
      },
      "source": [
        "**Spin (Drehimpuls)**\n",
        "\n",
        "* [Spin](https://de.wikipedia.org/wiki/Spin) (von englisch spin ‚Drehung‘, ‚Drall‘) ist in der Teilchenphysik der [Eigendrehimpuls](https://de.wikipedia.org/wiki/Drehimpuls) von Teilchen. \n",
        "\n",
        "  * [(Eigen)Drehimpuls](https://de.wikipedia.org/wiki/Drehimpuls) ist eine vektorielle Größe, und zwar – wie das Drehmoment und die Winkelgeschwindigkeit – ein Pseudovektor. Seine Dimension ist das Produkt aus Masse, Länge und Geschwindigkeit.\n",
        "\n",
        "* Bei den fundamentalen Teilchen ist er wie die Masse eine unveränderliche innere Teilcheneigenschaft. \n",
        "\n",
        "> **Der Spin beträgt ein halb- oder ganzzahliges Vielfaches (Spinquantenzahl) des reduzierten planckschen Wirkungsquantums ℏ.**\n",
        "\n",
        "* **Der Spin kann nur quantenmechanisch verstanden werden**. Er wird nicht durch die (Dreh-)Bewegung einer Masse hervorgerufen. \n",
        "\n",
        "* Das [Spin-Statistik-Theorem](https://de.wikipedia.org/wiki/Spin-Statistik-Theorem) verbindet den Spin eines Teilchens mit der Art der statistischen Beschreibung mehrerer gleicher Teilchen: \n",
        "\n",
        "  * Teilchen mit einer halbzahligen Spinquantenzahl befolgen die Fermi-Dirac-Statistik und heißen Fermionen, \n",
        "  \n",
        "  * Teilchen mit einer ganzzahligen Spinquantenzahl befolgen die Bose-Einstein-Statistik und heißen Bosonen.\n",
        "\n",
        "* Bei zusammengesetzten Systemen, z. B. bei Proton, Neutron, Atomkern, Atom, Molekül, Exziton, Hadronen wie [$\\Omega ^{-}$-Teilchen](https://de.wikipedia.org/wiki/Ω-Baryon) ergibt sich der Spin durch Addition der Spins und Bahndrehimpulse der Komponenten nach den Regeln der quantenmechanischen Drehimpulsaddition.\n",
        "\n",
        "* **Der halbzahlige Spin kann weder anschaulich noch halbklassisch durch eine Drehbewegung erklärt werden.**"
      ]
    },
    {
      "cell_type": "markdown",
      "metadata": {
        "id": "U1Vx642KgX2e"
      },
      "source": [
        "$\n",
        "\\begin{array}{|c|c|l|}\n",
        "\\hline \\text { Spin } & \\text { Typ } & {\\text { Teilchen (Beispiele) }} \\\\\n",
        "\\hline 0 & \\text { Boson } & \\text { Higgs-Boson } \\\\\n",
        "\\hline \\frac{1}{2} \\hbar & \\text { Fermion } & \\text { Elektron, Neutrino, Quarks } \\\\\n",
        "\\hline 1 \\hbar & \\text { Boson } & \\text { Photon, Gluon, W-Boson und Z-Boson } \\\\\n",
        "\\hline \\frac{3}{2} \\hbar & \\text { Fermion } & \\text { supersymmetrische Teilchen (hypothetisch) } \\\\\n",
        "\\hline 2 \\hbar & \\text { Boson } & \\text { Graviton (hypothetisch) } \\\\\n",
        "\\hline\n",
        "\\end{array}\n",
        "$"
      ]
    },
    {
      "cell_type": "markdown",
      "metadata": {
        "id": "_u3QUaeWetEQ"
      },
      "source": [
        "*Spin ist ein [Pseudovektor](https://de.wikipedia.org/wiki/Pseudovektor): Der Drehimpuls L als Beispiel eines Pseudovektors: während der Ortsvektor r und Impuls m·v bei einer Punktspiegelung ihre Richtung umkehren, bleibt die des Drehimpulses L=m·r×v unverändert:*\n",
        "\n",
        "![gg](https://upload.wikimedia.org/wikipedia/commons/a/af/Angular_momentum_as_pseudo-vector.png)"
      ]
    },
    {
      "cell_type": "markdown",
      "metadata": {
        "id": "kBUA9t21htwz"
      },
      "source": [
        "**Spin ½ als Äquivalent aller 2-Zustands-Systeme**\n",
        "\n",
        "> Mathematischer Hintergrund dieser Äquivalenz ist die Tatsache, dass die Basistransformationen im zweidimensionalen komplexen Hilbertraum eine Darstellung der [Gruppe SU(2)](https://de.wikipedia.org/wiki/SU(2)) bilden, die „doppelt so groß ist“ wie die Gruppe [SO(3)](https://de.wikipedia.org/wiki/Drehgruppe) der Drehungen im reellen dreidimensionalen Raum. \n",
        "\n",
        "* Der Unterschied zu den „normalen“ Drehungen im dreidimensionalen Raum liegt darin, dass die vom Spinoperator erzeugte Drehung mit dem Drehwinkel 360° nicht durch die Einheitsmatrix 1 wiedergegeben wird, sondern durch -1. \n",
        "\n",
        "* Dabei geht der physikalische Zustand zwar in sich selber über, der Zustandsvektor aber in sein Negatives. Das eine ist mit dem anderen verträglich, weil Zustandsvektoren, die sich nur um einen komplexen Faktor unterscheiden, denselben Zustand beschreiben. **Erst eine 720°-Drehung bringt wieder denselben Zustandsvektor hervor**."
      ]
    },
    {
      "cell_type": "markdown",
      "metadata": {
        "id": "fT_wuLyqnap1"
      },
      "source": [
        "**English: Spin ½**\n",
        "\n",
        "* The spin number describes how many symmetrical facets a particle has in one full rotation; a spin of 1/2 means **that the particle must be rotated by two full turns (through 720°) before it has the same configuration as when it started**.\n",
        "\n",
        "* Particles having net spin ½ include the proton, neutron, electron, neutrino, and quarks. The dynamics of spin-½ objects cannot be accurately described using classical physics; they are among the simplest systems which require quantum mechanics to describe them. As such, the study of the behavior of spin-½ systems forms a central part of quantum mechanics.\n",
        "\n",
        "* A spin- $\\frac{1}{2}$ particle is characterized by an [angular momentum bzw. azimuthal quantum number](https://en.m.wikipedia.org/wiki/Azimuthal_quantum_number) for spin s of $\\frac{1}{2}$. In solutions of the Schrödinger equation, angular momentum is quantized according to this number, so that total spin angular momentum\n",
        "$\n",
        "S=\\sqrt{\\frac{1}{2}\\left(\\frac{1}{2}+1\\right)} \\hbar=\\frac{\\sqrt{3}}{2} \\hbar\n",
        "$"
      ]
    },
    {
      "cell_type": "markdown",
      "metadata": {
        "id": "xE-kkJ1ho9Ye"
      },
      "source": [
        "*Illustration of quantum mechanical orbital angular momentum:* [Source](https://en.m.wikipedia.org/wiki/Azimuthal_quantum_number)\n",
        "\n",
        "![ggg](https://upload.wikimedia.org/wikipedia/commons/thumb/3/30/Vector_model_of_orbital_angular_momentum.svg/421px-Vector_model_of_orbital_angular_momentum.svg.png)"
      ]
    },
    {
      "cell_type": "markdown",
      "metadata": {
        "id": "SdgpbWBMpR_k"
      },
      "source": [
        "*Heuristic depiction of spin angular momentum cones for a spin-½ particle:* [Source](https://en.m.wikipedia.org/wiki/Spin-1/2)\n",
        " \n",
        " ![gg](https://upload.wikimedia.org/wikipedia/commons/thumb/b/b3/Spin_half_angular_momentum.svg/624px-Spin_half_angular_momentum.svg.png)"
      ]
    },
    {
      "cell_type": "markdown",
      "metadata": {
        "id": "k_6W-CHgp3BO"
      },
      "source": [
        "*Vector cones of total angular momentum J (purple), orbital L (blue), and spin S (green). The cones arise due to quantum uncertainty between measuring angular momentum components:*  [Source](https://en.m.wikipedia.org/wiki/Angular_momentum_operator)\n",
        "\n",
        "![gg](https://upload.wikimedia.org/wikipedia/commons/thumb/3/30/LS_coupling.svg/449px-LS_coupling.svg.png)"
      ]
    },
    {
      "cell_type": "markdown",
      "metadata": {
        "id": "fU938J4FpCK7"
      },
      "source": [
        "*The atomic orbital wavefunctions of a hydrogen atom. The principal quantum number (n) is at the right of each row and the azimuthal quantum number (ℓ) is denoted by letter at top of each column:*\n",
        "\n",
        "![ggg](https://upload.wikimedia.org/wikipedia/commons/c/cf/HAtomOrbitals.png)"
      ]
    },
    {
      "cell_type": "markdown",
      "metadata": {
        "id": "qbAQE8tdVDjm"
      },
      "source": [
        "### <font color=\"blue\">**Atomic Orbital**"
      ]
    },
    {
      "cell_type": "markdown",
      "metadata": {
        "id": "Dn0-EivGVIQl"
      },
      "source": [
        "https://en.m.wikipedia.org/wiki/Atomic_orbital"
      ]
    },
    {
      "cell_type": "markdown",
      "metadata": {
        "id": "v-DHlP1sEiFs"
      },
      "source": [
        "###### **<font color=\"blue\">Quantum Numbers & \"Vollständiger Satz kommutierender Observablen\"**"
      ]
    },
    {
      "cell_type": "markdown",
      "metadata": {
        "id": "7aSrdzPRkK7h"
      },
      "source": [
        "Speed vs Velocity: velocity includes direction, so speed can be 1, velocity -1 if we change direction."
      ]
    },
    {
      "cell_type": "markdown",
      "metadata": {
        "id": "3fI51kFDPZQy"
      },
      "source": [
        "Four quantum numbers in atomic physics. The set is: principal quantum number, azimuthal quantum number, magnetic quantum number, and spin quantum number. Together, they describe the unique quantum state of an electron. "
      ]
    },
    {
      "cell_type": "markdown",
      "metadata": {
        "id": "l92qwGG2ElwN"
      },
      "source": [
        "Video: [Why Real Atoms Don't Look Like This - Quantum Numbers to Understand Atomic Structure](https://youtu.be/EhIbCrl1pGw)"
      ]
    },
    {
      "cell_type": "markdown",
      "metadata": {
        "id": "ifi_Rv0ecZZ9"
      },
      "source": [
        "* [Quantum Numbers](https://de.wikipedia.org/wiki/Quantenzahl) are used to describe certain quantitites that we are allowed to know at the same time as knowing the energy of a quantum system. **They together completely describe the quantum state of an electron in an atom**!\n",
        "\n",
        "  * **$n$: principal quantum number**. which shell, $n_1$ with lowest energy.\n",
        "\n",
        "  * **$L$: azimuthal quantum number**.  which subshell? is a quantum number for an atomic orbital that determines its orbital angular momentum and describes the shape of the orbital\n",
        "\n",
        "  * **$m_l$ magnetic quantum numbers**, distinguishes the orbitals available within a subshell, and is used to calculate the azimuthal component of the orientation of orbital in space.\n",
        "  \n",
        "  * **$m_s$ spin quantum number**, describes the intrinsic angular momentum (or spin angular momentum, or simply spin) of an electron or other particle (The name comes from a physical spinning of the electron about an axis, as proposed by Uhlenbeck and Goudsmit). The value of $m_s$ is the component of spin angular momentum parallel to a given direction (the z–axis), which can be either +1/2 or –1/2 (in units of the reduced Planck constant).\n",
        "\n",
        "* Heisenberg uncertainty principle: things we are not allowed to know at the same time, like position and momentum of a particle"
      ]
    },
    {
      "cell_type": "markdown",
      "metadata": {
        "id": "AoYgXSEHpJ1Z"
      },
      "source": [
        "Siehe auch: [\"Vollständiger Satz kommutierender Observablen\"](https://de.wikipedia.org/wiki/Vollständiger_Satz_kommutierender_Observablen)\n",
        "\n",
        "* Begriff aus der Quantenmechanik, in der Messgrößen wie Energie, Ort oder Impuls durch Operatoren dargestellt und als Observablen bezeichnet werden. \n",
        "\n",
        "* Messgrößen, die man gleichzeitig genau bestimmen kann, heißen kommutierende Observablen; sie haben die Eigenschaft, dass ihre Operatoren miteinander vertauschen.\n",
        "\n",
        "* Solch ein Verhalten ist in der Quantenmechanik allerdings eher die Ausnahme. Die meisten Paare von Observablen lassen sich nicht gleichzeitig beliebig genau messen, was eine Konsequenz aus der heisenbergschen Unschärferelation ist. Man spricht dann auch von komplementären Observablen.\n",
        "\n",
        "> **Um einen quantenmechanischen Zustand eindeutig zu charakterisieren, sind oft mehrere Observablen notwendig**. Beispielsweise ist es beim Wasserstoffatom nicht ausreichend, nur die Energie anzugeben (mittels der Hauptquantenzahl n), sondern es sind zwei weitere Observablen notwendig: der Betrag des Drehimpulses (Quantenzahl l) und die z-Komponente des Drehimpuls (Quantenzahl m). Diese drei Größen bilden dann einen vollständigen Satz kommutierender Observablen.\n",
        "\n",
        "Eine Menge von Observablen A, B, C,... bildet einen v.S.k.O., wenn eine **orthonormale Basis des Zustandsraums aus gemeinsamen Eigenvektoren** der Observablen existiert, und diese Basis (bis auf einen Phasenfaktor) eindeutig ist.\n",
        "\n",
        "Eine äquivalente Formulierung lautet: Eine Menge von Observablen A, B, C,... bildet einen v.S.k.O. genau dann, wenn:\n",
        "\n",
        "* alle Observablen paarweise miteinander vertauschen, und\n",
        "\n",
        "* **die Angabe der Eigenwerte aller dieser Operatoren ausreicht, um (bis auf einen Faktor) eindeutig einen gemeinsamen Eigenvektor zu bestimmen**.\n",
        "\n",
        "Um ein quantenmechanisches Problem zu lösen, ist man bemüht eine Menge von Observablen zu finden, die das System beschreiben und einen v.S.k.O. bilden. \n",
        "\n",
        "* **Durch die Angabe der Messwerte der Observablen (das sind die Eigenwerte der Observablen**) ist es damit möglich den Zustand eines Systems eindeutig zu bestimmen. \n",
        "\n",
        "* Umgekehrt bedeutet das, dass man eine Messung auf einen vollständigen Satz kommutierender Observablen erstrecken muss, um den Zustand des Systems nach der Messung durch die Angabe der Messwerte eindeutig zu bestimmen.\n"
      ]
    },
    {
      "cell_type": "markdown",
      "metadata": {
        "id": "zez9bZlNfxOK"
      },
      "source": [
        "###### **<font color=\"blue\">Principle quantum number (n): Total Energy (?)**"
      ]
    },
    {
      "cell_type": "markdown",
      "metadata": {
        "id": "lx46NUqeEo36"
      },
      "source": [
        "> Corresponds to Bohr's orbit numbers"
      ]
    },
    {
      "cell_type": "markdown",
      "metadata": {
        "id": "_3EA4oMeE-cd"
      },
      "source": [
        "> Different orbitals (azimuthal quantum numbers) are allowed for each n principal quantum number:"
      ]
    },
    {
      "cell_type": "markdown",
      "metadata": {
        "id": "rijwWIStFyej"
      },
      "source": [
        "![ggg](https://raw.githubusercontent.com/deltorobarba/repo/master/quantum_197.png)\n"
      ]
    },
    {
      "cell_type": "markdown",
      "metadata": {
        "id": "C9pjf1fbSqYp"
      },
      "source": [
        "**Diagram of the S and P orbitals**: *The s subshells are shaped like spheres. Both the 1n and 2n principal shells have an s orbital, but the size of the sphere is larger in the 2n orbital. Each sphere is a single orbital. p subshells are made up of three dumbbell-shaped orbitals. Principal shell 2n has a p subshell, but shell 1 does not.*\n",
        "\n",
        "![ggg](https://raw.githubusercontent.com/deltorobarba/repo/master/quantum_180.jpeg)"
      ]
    },
    {
      "cell_type": "markdown",
      "metadata": {
        "id": "DkMH97hnSlMv"
      },
      "source": [
        "https://courses.lumenlearning.com/boundless-chemistry/chapter/orbital-shapes/"
      ]
    },
    {
      "cell_type": "markdown",
      "metadata": {
        "id": "NCvv-V6NeUd2"
      },
      "source": [
        "**Principle quantum number (n): which electron shell we are talking about. $n_1$ is lowest in energy:**\n",
        "\n",
        "* In quantum mechanics, the [principal quantum number](https://en.wikipedia.org/wiki/Principal_quantum_number) (symbolized n) is one of four quantum numbers assigned to each electron in an atom to describe that electron's state. Its values are natural numbers (from 1) making it a discrete variable.\n",
        "\n",
        "* In chemistry, values n = 1, 2, 3, 4, 5, 6, 7 are used in relation to the [electron shell theory](https://en.wikipedia.org/wiki/Electron_shell), with expected inclusion of n = 8 (and possibly 9) for yet-undiscovered period 8 elements. In atomic physics, higher n sometimes occur for description of excited states. Observations of the interstellar medium reveal atomic hydrogen spectral lines involving n on order of hundreds; values up to 766 were detected.\n",
        "\n"
      ]
    },
    {
      "cell_type": "markdown",
      "metadata": {
        "id": "24993VB2eQ7H"
      },
      "source": [
        "![ggg](https://raw.githubusercontent.com/deltorobarba/repo/master/quantum_141.png)"
      ]
    },
    {
      "cell_type": "markdown",
      "metadata": {
        "id": "SoWdShaxfsre"
      },
      "source": [
        "###### **<font color=\"blue\">Azimuthal quantum number (L): Sub Shells**"
      ]
    },
    {
      "cell_type": "markdown",
      "metadata": {
        "id": "R3y1H5LxEhMZ"
      },
      "source": [
        "![ggg](https://raw.githubusercontent.com/deltorobarba/repo/master/quantum_196.png)\n",
        "\n",
        "---- there is yet another one: f-type, and it comes in sets of 7. ony allowed in n principal quantum number = 4"
      ]
    },
    {
      "cell_type": "markdown",
      "metadata": {
        "id": "ihe5I9q3FuW-"
      },
      "source": [
        "![ggg](https://raw.githubusercontent.com/deltorobarba/repo/master/quantum_197.png)\n"
      ]
    },
    {
      "cell_type": "markdown",
      "metadata": {
        "id": "AomwfYz4BFs3"
      },
      "source": [
        "https://www.youtube.com/watch?v=ysQfZ48B7rg"
      ]
    },
    {
      "cell_type": "markdown",
      "metadata": {
        "id": "n9xJRCnKerkx"
      },
      "source": [
        "**Azimuthal quantum number (L): sub shells. Main electron shells are most likely distances from the nucleus, not definite positions (represented by wave function), here for n1 and n2:**"
      ]
    },
    {
      "cell_type": "markdown",
      "metadata": {
        "id": "XghMJ--NNY8T"
      },
      "source": [
        "* The [azimuthal quantum number](https://en.wikipedia.org/wiki/Azimuthal_quantum_number) is a quantum number for an atomic orbital that determines its [orbital angular momentum](https://en.wikipedia.org/wiki/Angular_momentum_operator) and describes the shape of the orbital.  $\\mathbf {L} =\\left(L_{x},L_{y},L_{z}\\right)$\n",
        "\n",
        "* Be careful: difference to: There is another type of angular momentum, called [spin angular momentum (short: spin)](https://en.wikipedia.org/wiki/Spin_(physics)), represented by the spin operator $\\mathbf {S} =\\left(S_{x},S_{y},S_{z}\\right)$. \n",
        "\n",
        "* [edit]\n",
        "Finally, there is total angular momentum $\\mathbf {J} =\\left(J_{x},J_{y},J_{z}\\right)$, which combines both the spin and orbital angular momentum of a particle or system: $\\mathbf {J} =\\mathbf {L} +\\mathbf {S}$."
      ]
    },
    {
      "cell_type": "markdown",
      "metadata": {
        "id": "AqQBd7zMOUHz"
      },
      "source": [
        "*Vector cones of total angular momentum J (purple), orbital L (blue), and spin S (green). The cones arise due to quantum uncertainty between measuring angular momentum components*\n",
        "\n",
        "![gg](https://upload.wikimedia.org/wikipedia/commons/thumb/3/30/LS_coupling.svg/449px-LS_coupling.svg.png)"
      ]
    },
    {
      "cell_type": "markdown",
      "metadata": {
        "id": "OkuZnzzue4Tk"
      },
      "source": [
        "![ggg](https://raw.githubusercontent.com/deltorobarba/repo/master/quantum_142.png)"
      ]
    },
    {
      "cell_type": "markdown",
      "metadata": {
        "id": "HFw4jEaThcBD"
      },
      "source": [
        "* 3 individual orbitals, each made up of three individual orbitals of which is shaped like dumbbell. \n",
        "\n",
        "* Each of the dumbbell os perpendicular to each other: one lies along the x-axis, another along y-axis and one on z-axis. \n",
        "\n",
        "* each of these dumbbell-shaped orbitals can hold 2 electrons. Looking at x-axis: electron can be found at different places,  but most likely to be found somewhere in the dumbbell-shape (it's now orientated)"
      ]
    },
    {
      "cell_type": "markdown",
      "metadata": {
        "id": "VXhqr4SmhZCb"
      },
      "source": [
        "![ggg](https://raw.githubusercontent.com/deltorobarba/repo/master/quantum_143.png)"
      ]
    },
    {
      "cell_type": "markdown",
      "metadata": {
        "id": "TZ6mnubAijPT"
      },
      "source": [
        "So there is a difference now between spherical sub shell and the the triple dumbbell sub shell\n",
        "\n",
        "> **the energy level dictates how many sub shells there are for electrons to fill**\n",
        "\n",
        "* n=1 energy level has only one sub shell, the spherical one\n",
        "\n",
        "* n=2 energy level has two sub shells: the spherical one and the triple dumbbell one,\n",
        "\n",
        "* n=3 energy level has three different sub shells"
      ]
    },
    {
      "cell_type": "markdown",
      "metadata": {
        "id": "AE3POTmdiwk0"
      },
      "source": [
        "![ggg](https://raw.githubusercontent.com/deltorobarba/repo/master/quantum_144.png)"
      ]
    },
    {
      "cell_type": "markdown",
      "metadata": {
        "id": "5ZZfk_Aylhaq"
      },
      "source": [
        "> **What's the difference between the spherical sub shell and the triple dumbbell sub shell?** other than the shape?\n",
        "\n",
        "* electrons within a particular sub shell have different amounts of orbital angular momentum ! (Not meant: spin, because that's independent of subshell position)\n",
        "\n",
        "> **We can represent how much angular momentum an electron has in a particular sub shell using the azimuthal quantum number.**\n",
        "\n",
        "* any electron in any one of the spherical shaped orbitals known as s-orbitals has no angular momentum at all. -> we give each s-orbtial the azimuthal quantum number L=0. here three examples: \n",
        "\n",
        "  * for an electron in the lowest possible energy level n=1 it must be in the s-subshell (because there is only the sub shell) with azimuthal quantum number L=0\n",
        "\n",
        "  * for an electron in the second shell and the s-subshell it has the quantum numbers n=2 and l=0\n",
        "\n",
        "  * but for an electron on the p-subshell it does have a certain amount of angular momentum. Specifically it has 1 lot of h bar of angular momentum and n=2 and l=1\n",
        "\n",
        "  * for n=3 energy levels (not depicted below) then we could have electrons in the s-subshell with l=0, or p-subshell with l=1 or the d-subshell with l=2 !"
      ]
    },
    {
      "cell_type": "markdown",
      "metadata": {
        "id": "jPmUiJ2lluVb"
      },
      "source": [
        "![ggg](https://raw.githubusercontent.com/deltorobarba/repo/master/quantum_145.png)"
      ]
    },
    {
      "cell_type": "markdown",
      "metadata": {
        "id": "MumREEUgf9pf"
      },
      "source": [
        "###### **<font color=\"blue\">Magnetic quantum number $m_l$**"
      ]
    },
    {
      "cell_type": "markdown",
      "metadata": {
        "id": "rokKt1_XobS9"
      },
      "source": [
        "**And then there are two more quantum numbers: $m_l, m_s$**"
      ]
    },
    {
      "cell_type": "markdown",
      "metadata": {
        "id": "WbKq9fe5PKAP"
      },
      "source": [
        "[Magnetic quantum number](https://en.wikipedia.org/wiki/Magnetic_quantum_number): the magnetic quantum number distinguishes the orbitals available within a subshell, and is used to calculate the azimuthal component of the orientation of orbital in space. \n",
        "\n",
        "  * Electrons in a particular subshell (such as s, p, d, or f) are defined by values of ℓ (0, 1, 2, or 3). \n",
        "  \n",
        "  * The value of ml can range from -ℓ to +ℓ, including zero. Thus the s, p, d, and f subshells contain 1, 3, 5, and 7 orbitals each, with values of m within the ranges 0, ±1, ±2, ±3 respectively.\n",
        "  \n",
        "  * Each of these orbitals can accommodate up to two electrons (with opposite spins), forming the basis of the periodic table.\n",
        "\n",
        "*These orbitals have magnetic quantum numbers $m=-\\ell ,\\ldots ,\\ell$ from left to right in ascending order. The $e^{mi\\phi }$ dependence of the azimuthal component can be seen as a color gradient repeating m times around the vertical axis:*\n",
        "![gg](https://upload.wikimedia.org/wikipedia/commons/thumb/8/8f/Atomic_orbitals_spdf_m-eigenstates.png/640px-Atomic_orbitals_spdf_m-eigenstates.png)"
      ]
    },
    {
      "cell_type": "markdown",
      "metadata": {
        "id": "Td6Knxs6gE_R"
      },
      "source": [
        "###### **<font color=\"blue\">Spin quantum number $m_s$**"
      ]
    },
    {
      "cell_type": "markdown",
      "metadata": {
        "id": "aBcJIJmPPzbA"
      },
      "source": [
        "[Spin quantum number](https://en.wikipedia.org/wiki/Spin_quantum_number): In atomic physics, the spin quantum number is a quantum number (designated ms) which describes the intrinsic angular momentum (or spin angular momentum, or simply spin) of an electron or other particle. \n",
        "\n",
        "  * The phrase was originally used to describe the fourth of a set of quantum numbers (the principal quantum number n, the azimuthal quantum number l, the magnetic quantum number m, and the spin quantum number ms), which completely describe the quantum state of an electron in an atom. \n",
        "  \n",
        "  * The name comes from a physical spinning of the electron about an axis, as proposed by Uhlenbeck and Goudsmit. \n",
        "  \n",
        "  * **The value of $m_s$ is the component of spin angular momentum parallel to a given direction (the z–axis)**, which can be either +1/2 or –1/2 (in units of the reduced Planck constant).\n",
        "\n",
        "  * At an elementary level, ms is described as the spin quantum number, and s is not mentioned since its value 1/2 is a fixed property of the electron. **At a more advanced level where quantum mechanical operators are introduced, s is referred to as the spin quantum number, and $m_s$ is described as the spin magnetic quantum number or as the z-component of spin $s_z$.**\n",
        "\n"
      ]
    },
    {
      "cell_type": "markdown",
      "metadata": {
        "id": "hWFyswU7oYB9"
      },
      "source": [
        "![ggg](https://raw.githubusercontent.com/deltorobarba/repo/master/quantum_146.png)"
      ]
    },
    {
      "cell_type": "markdown",
      "metadata": {
        "id": "tYs-hW_fsw-2"
      },
      "source": [
        "### **<font color=\"blue\">Wasserstoffproblem $H_2$**"
      ]
    },
    {
      "cell_type": "markdown",
      "metadata": {
        "id": "JrweETQqu3um"
      },
      "source": [
        "###### <font color=\"blue\">**Quantum Numbers: Hydrogen Electron Orbitals**\n"
      ]
    },
    {
      "cell_type": "markdown",
      "metadata": {
        "id": "2f4aFuCJvckN"
      },
      "source": [
        "> Die einfachste Schrödinger-Gleichung für ein geladenes Teilchen im Coulombfeld einer Punktladung wird als Wasserstoffproblem bezeichnet. \n",
        "\n",
        "**Beispiel: Verschiedene Orbitale des Wasserstoffs mit m=0** \n",
        "\n",
        "> **The energy level dictates how many sub shells there are for electrons to fill**\n",
        "\n",
        "* n=1 energy level (principal quantum number) has only one sub shell s (azimuthal quantum number), the spherical one (=no orbital angular momentum)\n",
        "\n",
        "* n=2 energy level (principal quantum number) has two sub shells s und p (azimuthal quantum number): the spherical one and the triple dumbbell one,\n",
        "\n",
        "* n=3 energy level (principal quantum number) has three different sub shells s, p und d (azimuthal quantum number)"
      ]
    },
    {
      "cell_type": "markdown",
      "metadata": {
        "id": "5Qm6xKbXubu3"
      },
      "source": [
        "**Example: The atomic orbital wavefunctions of a hydrogen atom. The principal quantum number (n) is at the right of each row and the azimuthal quantum number (ℓ) is denoted by letter at top of each column)**\n",
        "\n",
        "* *The principal quantum number (n) is at the right of each row (which electron shell we are talking about.  $n_1$  is lowest in energy)*,\n",
        "\n",
        "* *the azimuthal quantum number (ℓ) is denoted by letter at top of each column (which subshell)*\n",
        "\n",
        "![gg](https://upload.wikimedia.org/wikipedia/commons/c/cf/HAtomOrbitals.png)"
      ]
    },
    {
      "cell_type": "markdown",
      "metadata": {
        "id": "QSoxw-95vWvd"
      },
      "source": [
        "<font color=\"red\">**IMPORTANT: The energy of an electron in a particular atom isn't just related to what shell it's in. It also depends on this interaction between orbital angular momentum and spin angular momentum.**"
      ]
    },
    {
      "cell_type": "markdown",
      "metadata": {
        "id": "9uWrIHhul6Qa"
      },
      "source": [
        "**Quantum Numbers in Hydrogen Atom**\n",
        "\n",
        "* The angular momentum quantum number ℓ = 0, 1, 2, ... determines the magnitude of the angular momentum.\n",
        "\n",
        "* This leads to a third quantum number, the principal quantum number n = 1, 2, 3, ....\n",
        "\n",
        "> <font color=\"red\">**The principal quantum number in hydrogen is related to the atom's total energy**.</font>\n",
        "\n",
        "* Note that the maximum value of the angular momentum quantum number is limited by the principal quantum number: it can run only up to n − 1, i.e. ℓ = 0, 1, ..., n − 1.\n",
        "\n",
        "> **Therefore, any eigenstate of the electron in the hydrogen atom is described fully by four quantum numbers**.\n",
        "\n",
        "[Source here](http://kolibri.teacherinabox.org.au/modules/en-boundless/www.boundless.com/chemistry/definition/quantum-number/index.html)"
      ]
    },
    {
      "cell_type": "markdown",
      "metadata": {
        "id": "4e3PApKpvZVR"
      },
      "source": [
        "More info: https://en.m.wikipedia.org/wiki/Hydrogen_spectral_series"
      ]
    },
    {
      "cell_type": "markdown",
      "metadata": {
        "id": "1uQaPpVBDZvS"
      },
      "source": [
        "*3D Wasserstoff-Orbitale der $\\Psi _{nlm}$ Eigenfunktionen mit farbcodierter Phase*\n",
        "\n",
        "![ggg](https://upload.wikimedia.org/wikipedia/commons/thumb/2/20/Atomic_orbitals_spdf_m-eigenstates_mpositive.png/480px-Atomic_orbitals_spdf_m-eigenstates_mpositive.png)"
      ]
    },
    {
      "cell_type": "markdown",
      "metadata": {
        "id": "2ipLx9g-Rmcn"
      },
      "source": [
        "*These orbitals have different magnetic quantum numbers $m=-\\ell ,\\ldots ,\\ell$ from left to right in ascending order. The $e^{mi\\phi }$ dependence of the azimuthal component can be seen as a color gradient repeating m times around the vertical axis:*\n",
        "![gg](https://upload.wikimedia.org/wikipedia/commons/thumb/8/8f/Atomic_orbitals_spdf_m-eigenstates.png/640px-Atomic_orbitals_spdf_m-eigenstates.png)"
      ]
    },
    {
      "cell_type": "markdown",
      "metadata": {
        "id": "Ou-Vvgj46Fnj"
      },
      "source": [
        "![ggg](https://raw.githubusercontent.com/deltorobarba/repo/master/quantum_162.png)"
      ]
    },
    {
      "cell_type": "markdown",
      "metadata": {
        "id": "oxyQR8L5_tDo"
      },
      "source": [
        "https://de.wikipedia.org/wiki/Wasserstoffatom#Lösung_der_Schrödinger-Gleichung_(Wasserstoffproblem)"
      ]
    },
    {
      "cell_type": "markdown",
      "metadata": {
        "id": "pQE_bkH1_7CC"
      },
      "source": [
        "https://en.wikipedia.org/wiki/Hydrogen_atom#Visualizing_the_hydrogen_electron_orbitals"
      ]
    },
    {
      "cell_type": "markdown",
      "metadata": {
        "id": "KW5kphj7AHXV"
      },
      "source": [
        "https://en.wikipedia.org/wiki/Atomic_orbital"
      ]
    },
    {
      "cell_type": "markdown",
      "metadata": {
        "id": "wujw7UZn_reW"
      },
      "source": [
        "https://de.wikipedia.org/wiki/Relativistisches_Wasserstoffproblem"
      ]
    },
    {
      "cell_type": "markdown",
      "metadata": {
        "id": "JE3jTrnclpXf"
      },
      "source": [
        "###### **<font color=\"blue\">Quantum Computing for Quantum Chemistry (Apply Schrodinger Equation to get Quantum Numbers)**"
      ]
    },
    {
      "cell_type": "markdown",
      "metadata": {
        "id": "QCyz3L9QxAlg"
      },
      "source": [
        "In principle, it’s easy to write down a complete quantum description of matter. \n",
        "\n",
        "* You just have to set out the Schrödinger equation for all of its constituent fundamental particles. \n",
        "\n",
        "* This equation, lets you figure out the mathematical entity called the wavefunction from which all observable properties of the quantum system can be predicted."
      ]
    },
    {
      "cell_type": "markdown",
      "metadata": {
        "id": "jhmDIcV2xCm6"
      },
      "source": [
        "**One Electron Model**\n",
        "\n",
        "* the Schrödinger equation is impossible for us to solve for all but the very simplest of systems: You can do it exactly for the single electron in a hydrogen atom\n",
        "\n",
        "> **you input the potential-energy function created by the electrostatic attraction of the electron to the atomic nucleus, and use the resulting wavefunction to calculate the allowed electron energy levels, spatial distributions and so on**."
      ]
    },
    {
      "cell_type": "markdown",
      "metadata": {
        "id": "IC3lTL0BrtFa"
      },
      "source": [
        "**Many Electron Model**\n",
        "\n",
        "* But once you try to do that for objects with more than one electron, you’re stuck. Two electrons repel one another, and so you can’t figure out the potential experienced by one until you know the spatial distribution of the other. \n",
        "\n",
        "* The usual solution is to approximate: to pretend that the wavefunction of a two-electron system such as a helium atom or hydrogen molecule can be approximated as a product of two one-electron wavefunctions. This approximation of factorizing the wavefunction gets ever cruder as the object has more electrons. \n",
        "\n",
        "* Alternatively, you can crunch out a wavefunction by trial and error: making a guess at what it might be and then gradually improving the guess by iterating the Schrödinger equation until you get to a ‘self-consistent’ solution that doesn’t change significantly on subsequent iterations. \n",
        "\n",
        "* This approach of finding a self-consistent numerical solution for the wavefunction dates back to the famous Hartree–Fock method of quantum chemistry in the 1930s."
      ]
    },
    {
      "cell_type": "markdown",
      "metadata": {
        "id": "Pl5jBUW_xFJT"
      },
      "source": [
        "**Molecular Dynamics and Limitations of current Quantum Chemistry**\n",
        "\n",
        "* It might not be ideal, but there is now a veritable industry devoted to finding good, efficient algorithms for calculating approximate solutions to the Schrödinger equation. \n",
        "\n",
        "* **Quantum-chemical methods can often supply predictions of the properties of molecules – such as bond energies and vibration frequencies – with great accuracy**. But the more accurate you want to be, the more costly the computation. \n",
        "\n",
        "* That’s why it has been feasible to use fully (albeit still approximate) quantum-mechanical calculations only for rather small chemical systems: molecules with a few atoms. **If you want to simulate an entire protein, you need cruder methods such as [molecular dynamics](https://en.wikipedia.org/wiki/Molecular_dynamics)**, which are based on Newtonian mechanics and at best just build in quantum effects in a rough, heuristic manner.\n"
      ]
    },
    {
      "cell_type": "markdown",
      "metadata": {
        "id": "Tu4uk79-zAVV"
      },
      "source": [
        "**Quantum Computing for Quantum Chemistry**\n",
        "\n",
        "* In particular, a quantum bit (qubit) need not just take the values 1 and 0, but could exist in a quantum superposition of the two states. Superpositions are allowed by the Schrödinger equation: they consist of linear combinations of the wavefunctions of allowed quantum states. \n",
        "\n",
        "> **It’s common to say that superpositions are in ‘two (or more) states at once’, although more strictly we should say that <font color=\"red\">a quantum system in a superposition of states can be found in any of the superposed states when a measurement is made on it.</font>**\n",
        "\n",
        "* because qubits are themselves described by quantum wavefunctions, **they can be used to represent – to simulate – quantum objects like electrons**. \n",
        "\n",
        "* **You no longer need to make simplifying approximations: a system of qubits can represent the electrons in a complex molecule exactly**, and so a simulation on a quantum computer can supply exact predictions without a big computational overhead.\n",
        "\n",
        "* Many problems in chemistry are optimization or minimization problems: think, for example, of trying to predict the most stable folded state of a protein from its primary sequence of amino acids. Conventional computers have made progress in tackling the protein-folding problem, but it still stretches the capabilities of supercomputers to their limit.\n",
        "\n",
        "> Much of **computational chemistry is about finding the ground-state energies of molecules**, from which their stability and reactivity can be predicted. **You can get that from the quantum wavefunction** but that’s the very thing you can’t work out classically without a lot of approximation.\n"
      ]
    },
    {
      "cell_type": "markdown",
      "metadata": {
        "id": "k31vNyN82TPU"
      },
      "source": [
        "The hydrogen molecule was also the subject of a simulation on Google’s quantum computer last year (=2016), in a collaboration between Aspuru-Guzik, quantum engineer John Martinis at Google, and other groups. \n",
        "\n",
        "* The researchers developed a technique they call a **variational quantum eigensolver**, a kind of quantum version of the iterative minimization used in simulated annealing.\n",
        "\n",
        "* While the simulation again predicted the molecule’s energy states and bond lengths well, it has the important advantage over the earlier work that Google’s approach can be scaled to larger systems without an exponential escalation in the measures needed for error correction.\n",
        "\n"
      ]
    },
    {
      "cell_type": "markdown",
      "metadata": {
        "id": "RImi7Vq53wYT"
      },
      "source": [
        "**Potential**: If we had more than 200 logical qubits, we could do things in quantum chemistry beyond standard approaches’, he says. ‘And if we had about 5000 such qubits, then the quantum computer would be transformative and disruptive to quantum chemistry.\n",
        "\n",
        "**Challenge**: To make a ‘logical qubit’ that does its job reliably, you need a good method of error correction. For that, each logical qubit needs to be made up of many physical qubits. Reiher and colleagues estimate that the 100 or so logical qubits they need to crack the nitrogenase mechanism would correspond to around a few hundred thousand to a million physical qubits.\n",
        "\n",
        "The problem is not quite so bad, though, because the calculations can be done in parallel – you don’t need a single million-qubit device, but just many small devices working together, or indeed one 100-qubit device working through the tasks in sequence. ‘It’s not unreasonable to think that we may have such a moderately sized machine in 5–10 years,’ Reiher says. This division of labour might be the key to doing a lot of chemistry on quantum computers, says Gambetta: to develop what computer engineers call a batching architecture for doing relatively small tasks in a systematic sequence. What’s more, he adds, canny choices in encoding the electrons’ degrees of freedom in the computer’s qubits can take advantage of certain symmetry properties that reduce the number of qubits needed."
      ]
    },
    {
      "cell_type": "markdown",
      "metadata": {
        "id": "GEvYfdohxHYJ"
      },
      "source": [
        "[Source: Chemistryworld](https://www.chemistryworld.com/features/quantum-chemistry-on-quantum-computers/3007680.article)"
      ]
    },
    {
      "cell_type": "markdown",
      "metadata": {
        "id": "EpAJ8410vHGZ"
      },
      "source": [
        "###### <font color=\"blue\">**Eigenvalues and Wavefunction in Atoms**"
      ]
    },
    {
      "cell_type": "markdown",
      "metadata": {
        "id": "i0rDfPlLC_Cx"
      },
      "source": [
        "https://www.youtube.com/watch?v=fP2TAw7NnVU"
      ]
    },
    {
      "cell_type": "markdown",
      "metadata": {
        "id": "4hU53iMSHVfN"
      },
      "source": [
        "https://www.youtube.com/watch?v=azI-_S6g8C8"
      ]
    },
    {
      "cell_type": "markdown",
      "metadata": {
        "id": "6dCIjKP_3NN6"
      },
      "source": [
        "**Step 1: 1911 Ernest Rutherford proposed a planetary model of the atom**\n",
        "\n",
        "* Solar system and atom were almost identical: moon is held in orbit around the earth due to gravity, the negatively charged electron was held on orbit around a positively charged nucleus (attractive force was electromagnetism instead of gravity)\n",
        "\n",
        "* It seemed to make sense because Newton's law of universal gravitation $F=G \\frac{M m}{r^{2}}$ was almost identical to Coulomb's law of electrostatic force $F=k \\frac{Q q}{r^{2}}$"
      ]
    },
    {
      "cell_type": "markdown",
      "metadata": {
        "id": "TXnwnMml3Pdx"
      },
      "source": [
        "**Step 2: The problem with that model**\n",
        "\n",
        "* when electrons are accelerated, as they would be when constantly changing direction flying around the nucleus (traveling in circular orbits), they create electromagnetic waves according to Maxwell's equations\n",
        "\n",
        "* spinning electrons would radiate photons constantly causing it to lose energy. would radiate a rainbow of colors, more blue and purple as it came closer to the nucleus until it collapsed into it.\n",
        "\n",
        "* So using classical laws for the atom would not work if you presumed the Rutherford model"
      ]
    },
    {
      "cell_type": "markdown",
      "metadata": {
        "id": "MogWCjvp57o_"
      },
      "source": [
        "**Step 3: Energy of photons is quantized (Planck 1900)**\n",
        "\n",
        "* $E = h f$ \n",
        "\n",
        "\t* proportionality constant h = 6.6 x 10<sup>-34</sup> J . Sec\n",
        "\n",
        "\t* f = frequency of radiation\n",
        "\n",
        "* Planck's theory had shown that matter emitted only discretes amounts of radiation with energy E proportional to the frequency f and h"
      ]
    },
    {
      "cell_type": "markdown",
      "metadata": {
        "id": "V53R_L3C9Bin"
      },
      "source": [
        "**Step 4: Only orbits that are integer multiples of $\\frac{h}{2\\pi}$ can exist (Bohr)**\n",
        "\n",
        "> Niels Bohr combined Rutherford's and Planck's theory: electrons could exist in certain special orbits without radiating energy\n",
        "\n",
        "* Bohr noticed that Planck's constant $h$ had units of angular momentum. So he hypothesized that only those orbits would be allowed where the angular momentum of the electron is quantized based on Planck's constant:\n",
        "\n",
        "> Plancks' constant $h$ = 6.6 x 10<sup>-34</sup> J . Sec or: kg m<sup>2</sup> / sec. Angular momentum = mar = kg m<sup>2</sup> / sec\n",
        "\n",
        "* Bohr guessed that the lowest orbit would have the momentum $\\frac{h}{2\\pi}$, where the $2 \\pi$ comes from the geometry of circular orbits.\n",
        "\n",
        "* And any orbit could exist as long as it was an integer multiple of those number !! So the next orbit would be 2 x $\\frac{h}{2\\pi}$, and then 3 x $\\frac{h}{2\\pi}$ etc."
      ]
    },
    {
      "cell_type": "markdown",
      "metadata": {
        "id": "HPTp3lQyF5ot"
      },
      "source": [
        "> **Bohr predicted that the electrons would only emit (radiate) photons when moving from higher orbit to lower orbit, and absorb energy when moving from lower to higher orbits**\n",
        "\n",
        "> **<font color=\"red\">This is why the states are called Eigenstates and the quantum numbers (for the orbits) are called Eigenvalues, because in this state the quantum system is stable and doesnt loose energy.</font>**"
      ]
    },
    {
      "cell_type": "markdown",
      "metadata": {
        "id": "rmT-5Va0F3v7"
      },
      "source": [
        "* But Bohr could not explain why electrons would not emit photons all the time, and why these special orbits exist\n",
        "\n",
        "* But presuming he was right, you could find the size of the orbit of the electron using Coulomb's law $F=k \\frac{Q q}{r^{2}}=\\frac{m v^{2}}{r}$ $\\rightarrow$ \n",
        "\n",
        "\t* $k \\frac{Q q}{r^{2}}$ is the electric force between electron and proton\n",
        "\n",
        "\t* $\\frac{m v^{2}}{r}$ is the centripetal force\n",
        "\n",
        "\t* r is the radius from nucleus to orbit of electron\n",
        "\n",
        "* It turns out that the radius of the lowest orbit would be 0.529 X 10^-10 m, about half an angstrom\n",
        "\n",
        "\t* angular momentum = mvr = $\\frac{h}{2 \\pi}$\n",
        "\n",
        "\t* r = $\\frac{h^{2}}{k q^{2} 4 \\pi^{2} m}$\n",
        "\n",
        "* this could reveal the size of the atom: r = 0.529 x 10^-10 meters\n",
        "\n",
        "* Knowing this, the energy emitted by the electron as it changes orbits could be calculated and observations of energy emissions confirmed the calculations\n",
        "\n",
        "\t* Total energy = kinetic energy + potential energy\n",
        "\n",
        "\t* Kinetic energy = $=1 / 2 m v^{2}=1 / 2 p^{2} / m$ (in terms of momentum).\n",
        "\n",
        "\t* Potential energy $=-K \\frac{g^{2}}{r}$ (from Coulomb's law)\n",
        "\n",
        "\t* $p=\\frac{h}{2 \\pi}$\n",
        "\n",
        "\t* $\\begin{aligned} \\text { Total energy } &=\\frac{h^{2}}{8 \\pi^{2} m}-K \\frac{q^{2}}{r} \\\\ &=-2.17 \\times 10^{-18} \\text { Joules (Lowest energy state) } \\end{aligned}$\n",
        "\n",
        "* the only problem was: nobody understood why Bohr was right."
      ]
    },
    {
      "cell_type": "markdown",
      "metadata": {
        "id": "09OWn3HjCpsC"
      },
      "source": [
        "**Step 5: An electron is a wave (de Broglie)**\n",
        "\n",
        "* if a particle has a momentum and it has a wavelength associated with it  because of Planck's constant, then an electron is probably a wave (which also means that solid matter was composed of waves\n",
        "\n",
        "> <font color=\"red\">**An electron is a circular standing wave!!** (doesnt fly in an orbit) **The circular standing wave can only have an integer number of wavelengths!**\n",
        "\n",
        "* <font color=\"red\">**Principal quantum number n is wavelenght and higher n = higher wavelength = higher energy**. The the Bohr model emerges with its \"orbits\". **The energy of an electron is quantized.**\n",
        "\n",
        "\n",
        "* de Broglie suggested that electrons can only exist in orbits where their waves interfere constructively. And that can only happen if their circumference of the orbit is equal to the wavelength, or twice the wavelength, or any integer times the wavelength.\n",
        "\n",
        "![ggg](https://raw.githubusercontent.com/deltorobarba/repo/master/quantum_163.png)\n",
        "\n",
        "![ggg](https://raw.githubusercontent.com/deltorobarba/repo/master/quantum_164.png)\n",
        "\n",
        "* This explained why orbits would be at the radii that they are, something that Bohr couldn't do.\n",
        "\n",
        "* But there were still questions left: what is the nature of these waves? How and why do they exist?"
      ]
    },
    {
      "cell_type": "markdown",
      "metadata": {
        "id": "CdaHmCzcEJMQ"
      },
      "source": [
        "**Step 6: Explaining the nature of waves (Schroedinger)** \n",
        "\n",
        "* He said: if it's a wave, it can exist anywhere in 3 dimensional space.\n",
        "\n",
        "Schroedinger formulated the rules to describe the behavior of these waves: $i \\hbar \\frac{\\partial}{\\partial t}|\\psi(t)\\rangle=\\hat{H}|\\psi(t)\\rangle$ (Schroedinger equation of the wave function of atoms)\n",
        "\n",
        "![ggg](https://raw.githubusercontent.com/deltorobarba/repo/master/quantum_165.png)\n",
        "\n",
        "* Schroedinger equation could for example describe the Hydrogen atom with more precision than the Bohr model, and all other models in the periodic table which Bohr couldn't \n"
      ]
    },
    {
      "cell_type": "markdown",
      "metadata": {
        "id": "aY46w24JIQ-C"
      },
      "source": [
        "**Step 7: Heisenberg Uncertainty principle: why is it a wave cloud?**\n",
        "\n",
        "* Large wavelength, like visible light, cannot detect particles, they are too small \n",
        "\n",
        "* Short wavelengths are smaller but have so Hugh energy that they interact with particles\n",
        "\n",
        "* Consequence of the Heisenberg uncertainty principle (uncertainty in position x and uncertainty in momentum p): $\\Delta x \\Delta p \\geq \\frac{h}{4 \\pi}$ (it cannot below a certain constant): we cannot say where they are and how fast they are moving at the same time. \n",
        "\n",
        "> **So we can't draw a picture of an electron in one place sitting on a circular orbit**\n",
        "\n",
        "* So we have to guess based on the wave equation, and it tells us that the electron forms a cloud around the nucleus. Shape of the cloud is governed by the wave function. \n",
        "\n",
        "* the cloud represents the probable position off the electron if you were to measure it. And this cloud exists everywhere from nucleus to very far away. The volume of the atom is not empty - it is filled everywhere with a cloud of electrons. \n",
        "\n",
        "*Model of the hydrogen atom with electron at lowest energy state:*\n",
        "\n",
        "![ggg](https://raw.githubusercontent.com/deltorobarba/repo/master/quantum_166.png)\n",
        "\n",
        "We can even use the Schroedinger wave equation to find the electron probability. Following plot shows the probability of finding the electron at various distances from the nucleus for a hydrogen atom. The highest probability occurs at r = 0.529 x 10^-10 m, what Bohr already calculated. \n",
        "\n",
        "* so the most probable radius obtained from quantum mechanics is identical to the radius calculated by classical mechanics \n",
        "\n",
        "![ggg](https://raw.githubusercontent.com/deltorobarba/repo/master/quantum_167.png)\n",
        "\n",
        "Bohr assumed the electron at this distance all the time, meanwhile Schroedinger just assumed it to be there some of the time: \n",
        "\n",
        "![ggg](https://raw.githubusercontent.com/deltorobarba/repo/master/quantum_168.png)\n",
        "\n"
      ]
    },
    {
      "cell_type": "markdown",
      "metadata": {
        "id": "zwCw3y3vMFgM"
      },
      "source": [
        "The electron cloud is 100,000 larger than the proton cloud.\n",
        "\n",
        "> **So the idea of discrete spherical protons and neutrons in the nucleus, or electrons orbiting them is fiction.**"
      ]
    },
    {
      "cell_type": "markdown",
      "metadata": {
        "id": "7PHAjs6YDbpf"
      },
      "source": [
        "**Note that there are other shapes that the cloud of the hydrogen atoms could take depending on the energy level and quantum state of the electron:**"
      ]
    },
    {
      "cell_type": "markdown",
      "metadata": {
        "id": "BPsAKK51DPQ7"
      },
      "source": [
        "![ggg](https://raw.githubusercontent.com/deltorobarba/repo/master/quantum_162.png)"
      ]
    },
    {
      "cell_type": "markdown",
      "metadata": {
        "id": "m__JP2nxEHgg"
      },
      "source": [
        "**Images of Hydrogen atoms taen by researchers (indirectly, because measuring a state would make it collapse into one state, you can't see the superposition cloud):**"
      ]
    },
    {
      "cell_type": "markdown",
      "metadata": {
        "id": "TOn_p10REDRi"
      },
      "source": [
        "![ggg](https://raw.githubusercontent.com/deltorobarba/repo/master/quantum_169.png)"
      ]
    },
    {
      "cell_type": "markdown",
      "metadata": {
        "id": "dIy8TOGPJnGi"
      },
      "source": [
        "###### <font color=\"blue\">**Quantum Mechanics in the Formation of the Hydrogen Gas Molecule**"
      ]
    },
    {
      "cell_type": "markdown",
      "metadata": {
        "id": "_zkSwbxiJzgV"
      },
      "source": [
        "https://www.youtube.com/watch?v=azI-_S6g8C8"
      ]
    },
    {
      "cell_type": "markdown",
      "metadata": {
        "id": "K2rFGAT-KDMP"
      },
      "source": [
        "* goal is always: adopt the lowest energy state (ground state)\n",
        "\n",
        "* the shape of the electron cloud around the nucleus is determined by the Schroedinger equation, which contains a wavefunction\n",
        "\n",
        "* wavefunction of the hydrogen atom represents the probable results if we were to measure the its properties (hydrogen atom will be in its ground state)\n",
        "\n",
        "* if a secind hydrogen atom is introduced, there are several effects happening.\n",
        "\n",
        "> **The total energy of a two atom system determines bonding**\n",
        "\n",
        "* to calculate the lowest energy of a two atom system =, or molecule of hydrogen, we have to take into account the following:\n",
        "\n",
        "    * 1) The kinetic energy of each atom\n",
        "\n",
        "    * 2) The potential energy between the two protons\n",
        "\n",
        "    * 3) The potential energy between the two electrons\n",
        "\n",
        "    * 4) The potential energy between each electron and each proton\n"
      ]
    },
    {
      "cell_type": "markdown",
      "metadata": {
        "id": "NXcLaCHr0wvG"
      },
      "source": [
        "> <font color=\"red\">**The sum of the possible outcomes of kinetic and potential energy of this entire system in quantum mechanics is referred to the Hamiltonian $\\mathcal{H}$ (to calculate the lowest total energy of a two atom system)**\n",
        "\n",
        "> Hamiltonian Operator a set of operations **concerning interactions that dictate the state of the system** = Hamiltonian Operator typically describes the total energy of a system or particle.\n"
      ]
    },
    {
      "cell_type": "markdown",
      "metadata": {
        "id": "2HlrjrnEJwjo"
      },
      "source": [
        "The Hamiltonian is an (energy) operator corresponding to the energy of a system (and E is the energy eigenvalue):\n",
        "\n",
        "> $\\hat{H}|\\psi\\rangle=E |\\psi\\rangle$\n"
      ]
    },
    {
      "cell_type": "markdown",
      "metadata": {
        "id": "AJ3p_p4m2Gig"
      },
      "source": [
        "> <font color=\"red\">**Once you plug H into the time independent Schroedinger equation you can solve to get possible values for energy.**\n"
      ]
    },
    {
      "cell_type": "markdown",
      "metadata": {
        "id": "EqjoO973NII2"
      },
      "source": [
        "The Hamiltonian of a 2 atom hydrogen system (interactions between both considerung kinetic and potential energy):\n",
        "\n",
        "$H=-\\frac{h^{2}}{2 m_{e}}\\left(\\nabla_{i}^{2}+\\nabla_{2}^{2}\\right)-\\frac{h^{2}}{2 m_{p}}\\left(\\nabla_{A}^{2}+\\nabla_{2 B}^{2}\\right)-\\frac{e^{2}}{4 * \\pi * \\varepsilon_{0} * R_{1 A}}-\\frac{e^{2}}{4 * \\pi * \\varepsilon_{0} * T_{1 B}}-\\frac{c^{2}}{4 * \\pi * \\varepsilon_{0} * r_{2 A}}$\n",
        "$-\\frac{\\mathrm{c}^{2}}{4 * \\pi+\\varepsilon_{0} * r_{2 B}}+\\frac{\\mathrm{e}^{2}}{4 * \\pi * \\varepsilon_{0} * \\mathrm{r}_{\\mathrm{AB}}}+\\frac{\\mathrm{c}^{2}}{4 * \\pi+\\varepsilon_{0} * \\mathrm{r}_{12}}$"
      ]
    },
    {
      "cell_type": "markdown",
      "metadata": {
        "id": "_xbN9VMfOFCT"
      },
      "source": [
        "**This is not easy to solve but it can be represented by the following graph**:"
      ]
    },
    {
      "cell_type": "markdown",
      "metadata": {
        "id": "POCRvwBAJ4_w"
      },
      "source": [
        "![ggg](https://raw.githubusercontent.com/deltorobarba/repo/master/quantum_170.png)"
      ]
    },
    {
      "cell_type": "markdown",
      "metadata": {
        "id": "nyefzET6Oqpr"
      },
      "source": [
        "**And 2 hydrogen atoms combine naturally to $H_2$ rather than floating around by themselves because their combined energy is lower than for each on individually:** (the sharing of electrons by two atoms is called \"covalent bond\")"
      ]
    },
    {
      "cell_type": "markdown",
      "metadata": {
        "id": "tGqKQm4CO9hQ"
      },
      "source": [
        "![ggg](https://raw.githubusercontent.com/deltorobarba/repo/master/quantum_171.png)"
      ]
    },
    {
      "cell_type": "markdown",
      "metadata": {
        "id": "5zSwwgcrQMd2"
      },
      "source": [
        "https://en.wikipedia.org/wiki/Periodic_table"
      ]
    },
    {
      "cell_type": "markdown",
      "metadata": {
        "id": "mVsB2jUbQV6j"
      },
      "source": [
        "![ggg](https://upload.wikimedia.org/wikipedia/commons/thumb/4/4d/Periodic_table_large.svg/1024px-Periodic_table_large.svg.png)"
      ]
    },
    {
      "cell_type": "markdown",
      "metadata": {
        "id": "qKKOzGlKJ9zw"
      },
      "source": [
        "https://physics.stackexchange.com/questions/98358/finding-the-energy-eigenvalues-of-hydrogen-using-wkb-approach"
      ]
    },
    {
      "cell_type": "markdown",
      "metadata": {
        "id": "Jk8qxSmaCr1d"
      },
      "source": [
        "###### <font color=\"blue\">**Wave Equation, Schrodinger Equation & Quantum Numbers for the Hydrogen Atom**\n"
      ]
    },
    {
      "cell_type": "markdown",
      "metadata": {
        "id": "p7mOkAK9xcQY"
      },
      "source": [
        "The hydrogen atom is the simplest one-electron atom and has analytical solutions to the Schrödinger equation.\n",
        "\n",
        "> **The solution of the Schrödinger equation for the hydrogen atom uses the fact that the Coulomb potential produced by the nucleus is isotropic—it is radially symmetric in space and only depends on the distance to the nucleus.**"
      ]
    },
    {
      "cell_type": "markdown",
      "metadata": {
        "id": "V4SXAQy7y1br"
      },
      "source": [
        "*Exkurs: Coulomb potential = [Elektrisches Potential](https://de.wikipedia.org/wiki/Elektrisches_Potential): ist eine physikalische Größe in der klassischen Elektrodynamik. Das elektrische Potential ist die Fähigkeit eines elektrischen Feldes, Arbeit an einer elektrischen Ladung zu verrichten.*\n",
        "\n",
        "* [Spektrum der Wissenschaft](https://www.spektrum.de/lexikon/physik/coulomb-potential/2593): Die potentielle Energie V einer Probeladung q in einem Couloumb-Potential φ ist V = qφ. heißt Coulomb-Feld; die auf eine Probeladung wirkende Kraft F = qE ist die Coulomb-Kraft (Coulomb-Gesetz).\n",
        "  \n",
        "* Coulomb-Potential, elektrostatisches Potential, das elektrische Potential einer ruhenden Punktladung Q: $\\phi=\\frac{1}{4 \\pi \\varepsilon_{0}} \\frac{Q}{r}$, (ε0: Dielektrizitätskonstante des Vakuums, r: Abstand von der Ladung). Ist die Ladung nicht in einem Punkt konzentriert, sondern in Form einer Ladungsdichte ρ(r) verteilt."
      ]
    },
    {
      "cell_type": "markdown",
      "metadata": {
        "id": "SyoIpBqUnM31"
      },
      "source": [
        "**Although the resulting energy eigenfunctions (the orbitals) are not necessarily isotropic themselves, their dependence on the angular coordinates follows generally from this isotropy of the underlying potential**. \n",
        "\n",
        "* The eigenstates of the Hamiltonian (that is, the energy eigenstates) can be chosen as simultaneous eigenstates of the angular momentum operator. This corresponds to the fact that angular momentum is conserved in the orbital motion of the electron around the nucleus.\n",
        "\n",
        "* Therefore, the energy eigenstates may be classified by two angular momentum quantum numbers, ℓ and mℓ (both are integers):\n",
        "\n",
        "  * The angular momentum quantum number ℓ = 0, 1, 2, ... determines the magnitude of the angular momentum. \n",
        "  \n",
        "  * The magnetic quantum number mℓ= −, ..., +ℓ determines the projection of the angular momentum on the (arbitrarily chosen) z-axis and therefore the orientation of the orbital in three-dimensional space."
      ]
    },
    {
      "cell_type": "markdown",
      "metadata": {
        "id": "OUPDnykey9J9"
      },
      "source": [
        "**In addition to mathematical expressions for total angular momentum and angular momentum projection of wavefunctions, an expression for the radial dependence of the wavefunctions must be found. It is only here that the details of the 1/r Coulomb potential enter (leading to Laguerre polynomials in r)**. \n",
        "\n",
        "  * This leads to a third quantum number, the principal quantum number n = 1, 2, 3, .... The principal quantum number in hydrogen is related to the atom's total energy. \n",
        "  \n",
        "  * Note that the maximum value of the angular momentum quantum number is limited by the principal quantum number: it can run only up to n − 1, i.e. ℓ = 0, 1, ..., n − 1.\n",
        "\n",
        "* The spin of the electron adds the last quantum number, the projection of the electron's spin angular momentum along the z-axis, which can take on two values. Therefore, any eigenstate of the electron in the hydrogen atom is described fully by four quantum numbers.\n",
        "\n",
        "* According to the usual rules of quantum mechanics, the actual state of the electron may be any superposition of these states. This explains also why the choice of z-axis for the directional quantization of the angular momentum vector is immaterial: an orbital of given ℓ and m′ obtained for another preferred axis, z′,can always be represented as a suitable superposition of the various states of different mℓ (but same ℓ) that have been obtained for z."
      ]
    },
    {
      "cell_type": "markdown",
      "metadata": {
        "id": "MgxN4qSbzA1E"
      },
      "source": [
        "**Using a three-dimensional approach, the following form of the Schrödinger equation can be used to describe the hydrogen atom (Three dimensional Schrödinger equation as applied to the H atom)**:\n",
        "\n",
        "> $E \\psi=-\\frac{\\hbar^{2}}{2 \\mu} \\nabla^{2} \\psi-\\frac{e^{2}}{4 \\pi \\epsilon_{0} r} \\psi$"
      ]
    },
    {
      "cell_type": "markdown",
      "metadata": {
        "id": "VfwAmflayv2s"
      },
      "source": [
        "Compare with time-dependent Schroedinger equation:\n",
        "\n",
        "> $ E \\psi(\\vec{r}) = \n",
        "\\left[-\\frac{\\hbar^{2}}{2 m} \\nabla^{2}+V(\\vec{r})\\right] \\psi(\\vec{r}) = -\\frac{\\hbar^{2}}{2 m} \\nabla^{2}\\psi(\\vec{r}) +V(\\vec{r}) \\psi(\\vec{r})\n",
        "$\n",
        "\n",
        "where μ is the reduced mass of the electron-proton pair. The wavefunction itself is expressed in spherical polar coordinates:\n",
        "\n",
        "> $\\psi(r, \\theta, \\phi)=R(r) Y_{l}^{m}(\\theta, \\phi)=R(r) \\Theta(\\theta) \\Phi(\\phi)$\n",
        "\n",
        "See also: https://www.youtube.com/watch?v=Gu8VS4BN98o\n",
        "\n",
        "where R are radial functions and theta (θ) and phi (ϕ) are spherical harmonic terms. The generalized family of solutions is (family = Also known as a group, a column of elements in the periodic table that share similar reactivity due to their similar valence shell electron configuration):\n",
        "\n",
        "> $\\psi_{n, l, m}(r, \\theta, \\phi)=\\sqrt{\\left(\\frac{2}{n a_{0}}\\right)^{3} \\frac{(n-l-1) !}{2 n[(n+l) !]^{3}}} e^{-r / n a_{0}}\\left(\\frac{2 r}{n a_{0}}\\right)^{l} L_{n-l-1}^{2 l+1}\\left(\\frac{2 r}{n a_{0}}\\right) \\cdot Y_{l}^{m}(\\theta, \\phi)$\n",
        "\n",
        "where $a_0$ is the Bohr radius, L are the generalized Laguerre polynomials, and n, l, and m are the principal, azimuthal, and magnetic quantum numbers, respectively."
      ]
    },
    {
      "cell_type": "markdown",
      "metadata": {
        "id": "XG698ZC9ytQ3"
      },
      "source": [
        "[Source here](http://kolibri.teacherinabox.org.au/modules/en-boundless/www.boundless.com/chemistry/textbooks/boundless-chemistry-textbook/introduction-to-quantum-theory-7/quantum-mechanical-description-of-the-atomic-orbital-65/wave-equation-for-the-hydrogen-atom-307-6585/index.html)"
      ]
    },
    {
      "cell_type": "markdown",
      "metadata": {
        "id": "pMhD6ythywwf"
      },
      "source": [
        "\n",
        "\n",
        "---\n",
        "\n"
      ]
    },
    {
      "cell_type": "markdown",
      "metadata": {
        "id": "rqbVmwvF9r4E"
      },
      "source": [
        "https://slideplayer.com/slide/6869288/"
      ]
    },
    {
      "cell_type": "markdown",
      "metadata": {
        "id": "nK3mxcYuuBVV"
      },
      "source": [
        "https://www.youtube.com/watch?v=Gu8VS4BN98o"
      ]
    },
    {
      "cell_type": "markdown",
      "metadata": {
        "id": "vv575hMm_Eme"
      },
      "source": [
        "https://www.youtube.com/watch?v=O6g-7rUgrdg&t=20s"
      ]
    },
    {
      "cell_type": "markdown",
      "metadata": {
        "id": "72tRaNh0_DFQ"
      },
      "source": [
        "https://de.wikipedia.org/wiki/Kovalente_Bindung"
      ]
    },
    {
      "cell_type": "markdown",
      "metadata": {
        "id": "XgFxLtdgxlgK"
      },
      "source": [
        "https://de.wikipedia.org/wiki/Relativistisches_Wasserstoffproblem"
      ]
    },
    {
      "cell_type": "markdown",
      "metadata": {
        "id": "0lHpuCPvltcb"
      },
      "source": [
        "https://chem.libretexts.org/Courses/Howard_University/General_Chemistry%3A_An_Atoms_First_Approach/Unit_1%3A__Atomic_Structure/Chapter_2%3A_Atomic_Structure/Chapter_2.5%3A_Atomic_Orbitals_and_Their_Energies"
      ]
    },
    {
      "cell_type": "markdown",
      "metadata": {
        "id": "8BdswWydlvD5"
      },
      "source": [
        "https://chem.libretexts.org/Courses/Howard_University/General_Chemistry%3A_An_Atoms_First_Approach/Unit_2%3A__Molecular_Structure/Chapter_5%3A_Covalent_Bonding"
      ]
    },
    {
      "cell_type": "markdown",
      "metadata": {
        "id": "1DErto-Ilw1s"
      },
      "source": [
        "https://chem.libretexts.org/Bookshelves/General_Chemistry/Map%3A_Chemistry_-_The_Central_Science_(Brown_et_al.)/06._Electronic_Structure_of_Atoms/6.5%3A_Quantum_Mechanics_and_Atomic_Orbitals"
      ]
    },
    {
      "cell_type": "markdown",
      "metadata": {
        "id": "ICIgRl9N_2E1"
      },
      "source": [
        "### <font color=\"blue\">**Schrödinger $\\Psi$**"
      ]
    },
    {
      "cell_type": "markdown",
      "metadata": {
        "id": "OXyv-hlqmXar"
      },
      "source": [
        "[Measurements in quantum mechanics](https://www.youtube.com/watch?v=u1R3kRWh1ek)"
      ]
    },
    {
      "cell_type": "markdown",
      "metadata": {
        "id": "RscthBMzOLUM"
      },
      "source": [
        "###### <font color=\"red\">**Introduction to Quantum Mechanics: Schrödinger Equation**"
      ]
    },
    {
      "cell_type": "markdown",
      "metadata": {
        "id": "UK_JOLAkis7G"
      },
      "source": [
        "> **The Schrödinger equation calculates the wavefunction of a quantum system**"
      ]
    },
    {
      "cell_type": "markdown",
      "metadata": {
        "id": "CNwXN51j4j2p"
      },
      "source": [
        "\n",
        "This includes the **Hamiltonian**, which describes the total energy of a system or particle \n",
        "\n",
        "* = interactions that dictate the state of the system \n",
        "\n",
        "* = sum of the possible outcomes of kinetic and potential energy, \n",
        "\n",
        "* to calculate the lowest total energy of a two atom system."
      ]
    },
    {
      "cell_type": "markdown",
      "metadata": {
        "id": "DjBpNGZ47Pj6"
      },
      "source": [
        "https://www.youtube.com/watch?v=kUm4q0UIpio"
      ]
    },
    {
      "cell_type": "markdown",
      "metadata": {
        "id": "MIrMWsUSPKj2"
      },
      "source": [
        "**Step 1: Starting with Newton's 2nd law of motion**"
      ]
    },
    {
      "cell_type": "markdown",
      "metadata": {
        "id": "8ZmHSI-MPuOk"
      },
      "source": [
        "* let's assume a particle is moving along an x-axis and we apply several forces on it $\\overrightarrow{F}_1$, $\\overrightarrow{F}_2$, .. $\\overrightarrow{F}_n$\n",
        "\n",
        "* these forces depend on the position $x$ of the particle and the time elapsed $t$\n",
        "\n",
        "Then we can find the particle's position $x$ as a function of time using **Newton's 2nd law**:\n",
        "\n",
        "> $\\vec{F}_{net}=\\sum \\vec{F}_{i}(x, t)=m \\vec{a}  \\quad(\\text { Newton's 2nd law })$\n",
        "\n",
        "But the law of acceleration $\\vec{a}$ can be also written as the second time derivative of position, so we end up with a [governing equation](https://en.wikipedia.org/wiki/Governing_equation) like this, the **Equation of Motion**:\n",
        "\n",
        "> $m \\frac{d^{2} x}{d t^{2}}=\\sum_{i=1}^{n} F_{i}(x, t) \\quad(\\text { Equation of Motion })$\n",
        "\n",
        "* (another way of writing it is: $m \\ddot x = -kx$, see Colab 'Variationsrechnung') \n",
        "\n",
        "* Once we solve this equation for the particle's position, we could infer many things about the particle's state, such as its velocity, kinetic energy etc.\n",
        "\n",
        "* *Exkurs: The governing equations of a mathematical model describe how the values of the unknown variables (i.e. the dependent variables) change when one or more of the known (i.e. independent) variables change*"
      ]
    },
    {
      "cell_type": "markdown",
      "metadata": {
        "id": "39SnvWihSXNj"
      },
      "source": [
        "**Step 2: Schrödinger Equation & Operator /Functionals**"
      ]
    },
    {
      "cell_type": "markdown",
      "metadata": {
        "id": "q44BPzkX66Wq"
      },
      "source": [
        "* The goal of quantum mechanics is to solve the Schrödinger Equation, which is very similar conceptually\n",
        "\n",
        "> $i \\hbar \\frac{\\partial \\Psi}{\\partial t}=\\frac{-\\hbar^{2}}{2 m} \\frac{\\partial^{2} \\psi}{\\partial x^{2}}+V \\psi$\n",
        "\n",
        "\n",
        "* in contrast to classical equation of motion, where we solve for position and then get velocity, kinetic energy etc about particle's state, **in the Schrodinger equation we solve for wavefunction** $\\psi$! (because that is kind of it's position :)\n",
        "\n",
        "  * $\\frac{-\\hbar^{2}}{2 m} \\frac{\\partial^{2}}{\\partial x^{2}}$ this is the Kinetic energy operator $L$ on the wavefunction $\\psi$\n",
        "\n",
        "  * $V$ represents the potential energy operator\n",
        "\n",
        "<font color=\"red\">**In quantum mechanics we use the term operator because you generally don't get fixed numerical values for kinetic and potential energy.**</font>\n",
        "\n",
        "* Instead you need to perform operations on the wavefunction to extract those kinetic and potential energy values. That's what these operators do.\n",
        "\n",
        "* You can think of Schrodinger equation as a statement of energy conservation: kinetic energy + potential energy = total energy (which is on the left side of the v)"
      ]
    },
    {
      "cell_type": "markdown",
      "metadata": {
        "id": "XfOdDs1FWBrh"
      },
      "source": [
        "**Step 3: Wavefunction & (Dirac) Delta Function**"
      ]
    },
    {
      "cell_type": "markdown",
      "metadata": {
        "id": "0cFgVZZw4309"
      },
      "source": [
        "* the wavefunction represents the state of a system - related to the probability of finding a particle at a particular region in the domain which it occupies\n",
        "\n",
        "* the square of the norm of the wavefunction gives the probability density function of a particle. \n",
        "\n",
        "* if you integrate this norm squared over the entire domain you will get 1\n",
        "\n",
        "> $\\int_{-\\infty}^{\\infty}|\\Psi|^{2} d x=1$\n",
        "\n",
        "* you can't tell exactly where the position of a particle is before measurement, just a probability, same for velocity, momentum, kinetic energy etc.\n",
        "\n",
        "* But if you **apply the measurement operator, you change the wavefunction**! after one measurement, or further measurements will always get you the same result"
      ]
    },
    {
      "cell_type": "markdown",
      "metadata": {
        "id": "iTK3M9uC45mw"
      },
      "source": [
        "**So instead of being a probability distribution that covers multiple values, <font color=\"red\">by taking a measurement I change the wavefunction to a [delta function](https://de.wikipedia.org/wiki/Delta-Distribution) with one spike at what my measurement gave me. If I take more measurement on the same system, the delta function doesnt change.</font> This is called the wavefunction collapse.**\n"
      ]
    },
    {
      "cell_type": "markdown",
      "metadata": {
        "id": "XTPm-4rQWE1J"
      },
      "source": [
        "\n",
        "\n",
        "\n",
        "![ggg](https://raw.githubusercontent.com/deltorobarba/repo/master/quantum_174.png)\n",
        "\n",
        "* However, if I let the system settle so that it eventually occupies its original wavefunction it had and then if I take my measurement, I might get something different according to the probability distribution corresponding to my original wavefunction\n",
        "\n",
        "![ggg](https://raw.githubusercontent.com/deltorobarba/repo/master/quantum_175.png)\n"
      ]
    },
    {
      "cell_type": "markdown",
      "metadata": {
        "id": "ukbnOX1SagLi"
      },
      "source": [
        "**Step 4: Partial Differential Equation**"
      ]
    },
    {
      "cell_type": "markdown",
      "metadata": {
        "id": "ymtnwQBgajAU"
      },
      "source": [
        "> $i \\hbar \\frac{\\partial \\Psi}{\\partial t}=\\frac{-\\hbar^{2}}{2 m} \\frac{\\partial^{2} \\psi}{\\partial x^{2}}+V \\psi$\n",
        "\n",
        "* when solving a partial differential equation we also need auxiliary conditions in order to determine the unknown constants that you get from the integration process that's inherent in solving a differential equation\n",
        "\n",
        "* auxiliary conditions = initial conditions and boundary conditions\n",
        "\n",
        "* however the Schrodinger equation doesn't come with your typical boundary conditions that you might be used to seeing\n",
        "\n",
        "**Instead,the auxiliary condition we have on our solution is the normalization constraint: $\\int_{-\\infty}^{\\infty}|\\Psi|^{2} d x=1$**\n",
        "\n",
        "* Solutions to the Schrodinger equation have two be normalizable because they are wavefunctions, and in a way they represent probability density functions\n",
        "\n",
        "\t* if the solutions to Schrodinger's equation are not normalizable, we can't use them to represent a physical system\n",
        "\n",
        "\t* the trivial solution $\\psi$ (x,t) = 0 is not normalizable, because its integral from negative infinity to infinity will always be 0, it can never be 1, which is why $\\psi$ (x,t) = 0 is an unphysical solution, because the particle has to be somewhere"
      ]
    },
    {
      "cell_type": "markdown",
      "metadata": {
        "id": "kOGd_2jEd-FR"
      },
      "source": [
        "**Step 5: Solving Schrodinger's Equation under the normalization condition**"
      ]
    },
    {
      "cell_type": "markdown",
      "metadata": {
        "id": "aqST9poyd65L"
      },
      "source": [
        "Let's say we solve Schrodinger's equation and we get following solution:\n",
        "\n",
        "> $\\Psi (x,t) = A f(x,t)$ with $A$ being an arbitrary constant\n",
        "\n",
        "* The process of normalization is to find the value of the constant $A$ so that the solution obeys the normalization condition:\n",
        "\n",
        "> $\\int_{-\\infty}^{\\infty}|\\psi|^{2} d x=\\int_{-\\infty}^{\\infty}|A f|^{2} d x = 1$\n",
        "\n",
        "* we might end up with a difficult task if the wavefunction is dependent on time, which means it has a different shape for different times, then wouldn't the normalization constant change with time as well?\n",
        "\n",
        "* the answer is NO! \n",
        "\n",
        "\n",
        "\n",
        "\n"
      ]
    },
    {
      "cell_type": "markdown",
      "metadata": {
        "id": "z1Z1Gj-b5Ztt"
      },
      "source": [
        "**Theorem**: If you normalize the wavefunction once then you don't need to normalize for other times = the normalization stays preserved ! \n",
        "\n",
        "**Proof**:\n",
        "\n",
        "* the norm squared of a wavefunction is just the complex conjugate of that wavefunction time the wavefunction: $|\\psi|^{2}=(\\psi)^{*} \\psi$\n",
        "\n",
        "* if we go back to the Schrodinger equation we would see that the complex conjugate of the equation would be something like this with all they size turned into their conjugates and all the imaginary terms with their signs switched:\n",
        "\n",
        "> $i \\hbar \\frac{\\partial \\Psi}{\\partial t}=\\frac{-\\hbar^{2}}{2 m} \\frac{\\partial^{2} \\psi}{\\partial x^{2}}+V \\psi$\n",
        "\n",
        "> $-i \\hbar \\frac{\\partial \\psi^{*}}{\\partial t}=\\frac{-\\hbar^{2}}{2 m} \\frac{\\partial^{2} \\psi^{*}}{\\partial x^{2}}+V \\psi^{*}$\n",
        "\n",
        "* the goal of the proof is to show that this normalization integral $\\int_{-\\infty}^{\\infty}|\\psi|^{2} d x=$ const doesn't change with time, it stays the same: \n",
        "\n",
        "* the way to do this is to take the time derivate: if we can show that the time derivative of the normalization integral is 0 then our proof is complete $\\frac{d}{a t}\\left[\\int_{-\\infty}^{\\infty}|\\varphi|^{2} d x\\right]=0$\n",
        "\n",
        "* see complete proof in [video](https://www.youtube.com/watch?v=kUm4q0UIpio&list=WL&index=72&t=651s)"
      ]
    },
    {
      "cell_type": "markdown",
      "metadata": {
        "id": "iIv5tk_B7h9Q"
      },
      "source": [
        "###### <font color=\"red\">**Solving the (Time Independent) Schrödinger Equation**"
      ]
    },
    {
      "cell_type": "markdown",
      "metadata": {
        "id": "iKU4kms_Xdik"
      },
      "source": [
        "[SOLVING the SCHRODINGER EQUATION | Quantum Physics by Parth G](https://www.youtube.com/watch?v=sPZWtZ8vt1w)"
      ]
    },
    {
      "cell_type": "markdown",
      "metadata": {
        "id": "6FRdCGegX531"
      },
      "source": [
        "Assumption: particle is moving on one line between 0 and a and limited by infinite blocks left and right, where its probability is 0 and the potential energy infinite = this means that the particle can only be found on the line between 0 and a.\n"
      ]
    },
    {
      "cell_type": "markdown",
      "metadata": {
        "id": "y47BkiLQ7mWz"
      },
      "source": [
        "**Step 1: Take Schrodinger Equation, remove $V$ and focus on differential equation of kinetic energy term**\n",
        "\n",
        "* now we want to compute the wavefunction of this particle with the (Time Independent) Schrödinger Equation\n",
        "\n",
        "> $\\frac{-\\hbar^{2}}{2 m} \\frac{d^{2} \\Psi}{d x^{2}}+V \\Psi=E \\Psi$\n",
        "\n",
        "* the potential energy V is zero between 0 and a because nothing influences the particle, so it becomes this **differential equation** that we need to solve:\n",
        "\n",
        "> $\\frac{-\\hbar^{2}}{2 m} \\frac{d^{2} \\Psi}{d x^{2}}=E \\Psi$\n",
        "\n",
        "* $\\frac{d^{2} \\Psi}{d x^{2}}$ is second derivative of $\\Psi$ with respect to x"
      ]
    },
    {
      "cell_type": "markdown",
      "metadata": {
        "id": "6bo2LFOLEw3A"
      },
      "source": [
        "*Exkurs: Visualize second derivative of $\\Psi$:*\n",
        "\n",
        "* blue line is $\\Psi$ probability of the particle, \n",
        "\n",
        "* orange line is first derivative $\\frac{d \\Psi}{d x}$\n",
        "\n",
        "* green line is $\\frac{d^{2} \\Psi}{d x^{2}}$ is second derivative of $\\Psi$ with respect to x"
      ]
    },
    {
      "cell_type": "code",
      "metadata": {
        "colab": {
          "base_uri": "https://localhost:8080/",
          "height": 300
        },
        "id": "tMyfKVwMBwIa",
        "outputId": "a2dd7a4a-3621-4aed-882c-090f4b562792"
      },
      "source": [
        "#X = np.linspace(0, 10, endpoint=True)\n",
        "#F1 = 3 * np.sin(X)\n",
        "\n",
        "f1 = np.array([0, 0.1, 0.2, 0.4, 0.6, 0.7, 0.8, 0.95, 0.8, 0.6, 0.1], dtype=float)\n",
        "f2 = np.gradient(f1)\n",
        "f3 = np.gradient(f1, 2)\n",
        "# https://numpy.org/doc/stable/reference/generated/numpy.gradient.html\n",
        "plt.plot(f1)\n",
        "plt.plot(f2)\n",
        "plt.plot(f3)\n",
        "plt.axhline(y=0, color='black', linewidth=0.5, linestyle='-')\n",
        "plt.xlabel(\"Position x of particle\")\n",
        "plt.ylabel(\"$\\Psi$ and $d\\Psi/dx$ and $d^2\\Psi/dx^2$\")\n",
        "plt.show()"
      ],
      "execution_count": null,
      "outputs": [
        {
          "output_type": "display_data",
          "data": {
            "image/png": "[encoded data removed]",
            "text/plain": [
              "<Figure size 432x288 with 1 Axes>"
            ]
          },
          "metadata": {
            "needs_background": "light"
          }
        }
      ]
    },
    {
      "cell_type": "markdown",
      "metadata": {
        "id": "hLBOIfIONXnp"
      },
      "source": [
        "So we want to solve this equation:\n",
        "\n",
        "> $\\frac{-\\hbar^{2}}{2 m}$ <font color=\"red\">$ \\frac{d^{2} \\Psi}{d x^{2}}$</font> $=E \\Psi$\n",
        "\n",
        "* Normally try to solve <font color=\"red\">$ \\frac{d^{2} \\Psi}{d x^{2}}$</font> which is second derivative of $\\Psi$ with respect to x, when you know what $\\Psi$ is, \n",
        "\n",
        "* but we don't. We want to go the other way around, which is trickier."
      ]
    },
    {
      "cell_type": "markdown",
      "metadata": {
        "id": "auBkFqn0G9v7"
      },
      "source": [
        "**Step 2: Rearrange the constants**\n",
        "\n",
        "Luckily we have two constants in our equation (blue):\n",
        "\n",
        "> <font color=\"blue\">$\\frac{-\\hbar^{2}}{2 m}$</font> $ \\frac{d^{2} \\Psi}{d x^{2}}$ = <font color=\"blue\">$E$</font> $\\Psi$\n",
        "\n",
        "Which means we can rearrange the equation to this:\n",
        "\n",
        "> $ \\frac{d^{2} \\Psi}{d x^{2}}$ = <font color=\"blue\">$\\frac{-2m E}{\\hbar^{2}}$</font>  $\\Psi$\n",
        "\n",
        "Now we can combine all constants in one constant $-k^2$ = $\\frac{-2m E}{\\hbar^{2}}$\n",
        "\n",
        "> $ \\frac{d^{2} \\Psi}{d x^{2}}$ = <font color=\"blue\">$-k^2$</font>  $\\Psi$\n"
      ]
    },
    {
      "cell_type": "markdown",
      "metadata": {
        "id": "wt0zceb6YJFo"
      },
      "source": [
        "**Step 3: Identify suitable function for this equation**\n",
        "\n",
        "* So which type of function obeys this relation $ \\frac{d^{2} \\Psi}{d x^{2}}$ = <font color=\"blue\">$-k^2$</font>  $\\Psi$? - Would be a [sinusoid](https://de.wikipedia.org/wiki/Sinusoid)!\n",
        "\n",
        "* $\\frac{d^2 y}{d x^{2}}=-y$ - when you start with a sine and differentiate it twice you still end up with a sinusoidal term\n",
        "\n",
        "* so if we carefully account for the constants in our equation, our solution is going to look like a sinusoid:\n",
        "\n",
        "> $\\Psi$ = $\\sin \\left(\\frac{\\sqrt{2 m E}}{\\hbar} x\\right)$ and replacing <font color=\"blue\">$\\frac{\\sqrt{2 m E}}{\\hbar}$</font> with $k$ $\\rightarrow$ $\\Psi$ = $\\sin ($ <font color=\"blue\">$k$</font> $x)$\n",
        "\n",
        "*Compare this with before (above is no minus and root taken is first term):*\n",
        "\n",
        "> $ \\frac{d^{2} \\Psi}{d x^{2}}$ = <font color=\"blue\">$\\frac{-2m E}{\\hbar^{2}}$</font>  $\\Psi$ =  <font color=\"blue\">$-k^2$</font>  $\\Psi$"
      ]
    },
    {
      "cell_type": "markdown",
      "metadata": {
        "id": "YHg7xG-QKHQ_"
      },
      "source": [
        "![ggg](https://raw.githubusercontent.com/deltorobarba/repo/master/quantum_176.png)"
      ]
    },
    {
      "cell_type": "markdown",
      "metadata": {
        "id": "7k6BRTk6NUtX"
      },
      "source": [
        "**Step 4: Work our the boundaries to solve the differential equation, which means to get wavefunction**\n",
        "\n",
        "\n",
        "**When x = 0 $\\rightarrow$ $\\Psi$ = 0**\n",
        "\n",
        "* so at the wall at point a $\\Psi$ = 0, so that we first derivative is not getting infinite!\n",
        "\n",
        "* this works quite nice with sinusoidal, since $\\Psi = sin(kx)$ $\\rightarrow$ 0 = sin(k(0)) = 0\n",
        "\n",
        "**When x = a $\\rightarrow$ $\\Psi$ = 0**\n",
        "\n",
        "* 0 = sin(k(a)) since $\\Psi$ = sin(kx) $\\rightarrow$ 0 = sin(k(a)) = 0\n",
        "\n",
        "* we essentially find a restriction on the kind of sine wave that we can have as a solution\n",
        "\n",
        "* for example half a sine wave is a possible solution\n",
        "\n",
        "  * it's y=0 at point x=0 and x=a (at the walls), so $sin(ka) = 0$\n",
        "\n",
        "  * so we went through half a sine wave which means that this part in brackets (ka) must be equal to 180 degrees (because that's half a sine wave) $y = \\frac{1}{2}sin(x)$\n",
        "\n",
        "  * and if we use radians instead of degrees, which is the other unit of measuring angles, and a much more natural unit of measuring angles, then 180 degrees is actually equal to <font color=\"blue\">$\\pi$ radians = (ka)</font>\n",
        "\n",
        "  * So: $y = \\frac{1}{2}sin(x) = \\pi$\n",
        "\n",
        "* this means that this equation holds true if our wavefunction is half a sine wave <font color=\"blue\">$(ka)$ = $\\pi$ = $\\frac{\\sqrt{2m E}}{\\hbar}a$</font> , recall: k = $\\frac{\\sqrt{2m E}}{\\hbar}$\n",
        "\n",
        "* from earlier: $\\Psi$ = $\\sin \\left(\\frac{\\sqrt{2 m E}}{\\hbar} x\\right)$ =  $\\sin ($ <font color=\"blue\">$k$</font> $x)$\n",
        "\n"
      ]
    },
    {
      "cell_type": "markdown",
      "metadata": {
        "id": "gxqM5vXRYt9n"
      },
      "source": [
        "**Step 5: Rearrange that equation to get the energy value**\n",
        "\n",
        "\n",
        "* and if we rearrange that <font color=\"blue\">$(ka)$ = $\\frac{\\sqrt{2m E}}{\\hbar}a$ = $\\pi$ </font> we have something that tells us the value of the energy $E$:\n",
        "\n",
        "> $E=\\frac{h^{2} \\pi^{2}}{2 m a^{2}}$\n",
        "\n",
        "* (with reduced Planck constant: $\\hbar=\\frac{h}{2 \\pi} =1.054571817 \\ldots \\times 10^{-34} \\mathrm{~J} \\cdot \\mathrm{s}$)"
      ]
    },
    {
      "cell_type": "markdown",
      "metadata": {
        "id": "hW_Vx7P7XF0w"
      },
      "source": [
        "![ggg](https://raw.githubusercontent.com/deltorobarba/repo/master/quantum_178.png)"
      ]
    },
    {
      "cell_type": "markdown",
      "metadata": {
        "id": "vh6gnXUvVMjf"
      },
      "source": [
        "* in other words: if our wavefunction looks like this (half a sine function), then the energy of our particle is this $E=\\frac{h^{2} \\pi^{2}}{2 m a^{2}}$\n",
        "\n",
        "* another possibe solution is a full sine wave fitting into this region, just that the value at the end of the wall is 360 degrees, because we went through the whole sine wave = 2*$\\pi$ radians\n",
        "\n",
        "  * if the wavefunction looks like a whole sine wave <font color=\"blue\">$\\frac{\\sqrt{2m E}}{\\hbar}a$</font> = 2*$\\pi$\n",
        "\n",
        "  * then the  energy of the particle is $E=\\frac{4h^{2} \\pi^{2}}{2 m a^{2}}$\n",
        "\n",
        "* We can continue doing this for lots of half sine waves, so we could have three or four half fine waves in our region - and in each case we can calculate the energy of a particle when its wavefunction looks like those sine waves. "
      ]
    },
    {
      "cell_type": "markdown",
      "metadata": {
        "id": "Kx_jge_uWKiC"
      },
      "source": [
        "![ggg](https://raw.githubusercontent.com/deltorobarba/repo/master/quantum_177.png)"
      ]
    },
    {
      "cell_type": "markdown",
      "metadata": {
        "id": "aMxN6lsXVuoc"
      },
      "source": [
        "* This phenomenom is called \"Quantization\".\n",
        "\n",
        "  * because we can only have specific wave functions, and they correspond to specific energies, a particle can therefore only have specific energies\n",
        "\n",
        "  * so it cannot be anyhting in between and it cannot be less than the minimum of half a sine wave $E_{1}=\\frac{h^{2} \\pi^{2}}{2 m a^{2}}$\n",
        "\n",
        "  * this is also why for this particular setup cosine doesnt work (normally it does though) $\\Psi=\\cos \\left(\\frac{\\sqrt{2 m E}}{\\hbar} x\\right)$"
      ]
    },
    {
      "cell_type": "markdown",
      "metadata": {
        "id": "ZpdvkuGqS2kg"
      },
      "source": [
        "**Step 6: Normalization to get probabilities**\n",
        "\n",
        "*Normalization of the wavefunction*\n",
        "\n",
        "* there is one more thing to consider when finding a solution to the Schrodinger equation: Normalization\n",
        "\n",
        "> $\\Psi = \\sqrt{\\frac{2}{a}} \\sin \\left(\\frac{\\sqrt{2 m E}}{\\hbar} x\\right)$\n",
        "\n",
        "* it adds a factor of $\\sqrt{\\frac{2}{a}}$ to our solution\n",
        "\n",
        "* physical meaning: if our particle is in the lowest energy level $E_1$. Then in our specific setup with the two walls the wavefunction looks like half a sine wave. And remember the wavefunction corresponds directly to the probability of us finding that particle at a particular point in space. And this relationshipn is if we square our wavefunction $|\\Psi|^2$ (we take the square modulus), then we get the probability"
      ]
    },
    {
      "cell_type": "markdown",
      "metadata": {
        "id": "ap5ZCBhtAltP"
      },
      "source": [
        "###### <font color=\"blue\">**Eigenvalues (Eigenspectrum)**"
      ]
    },
    {
      "cell_type": "markdown",
      "metadata": {
        "id": "lYkqXXZ7IR8p"
      },
      "source": [
        "> **Eigenvalue = Value of an observable, like principal quantum number or Drehimpuls, corresponding to the allowed energy levels of the quantum system**"
      ]
    },
    {
      "cell_type": "markdown",
      "metadata": {
        "id": "zgqFC5bUIT9s"
      },
      "source": [
        "**Eigenvalue Equation:**\n",
        "\n",
        "> $Ax=\\lambda x$"
      ]
    },
    {
      "cell_type": "markdown",
      "metadata": {
        "id": "kd-bxJdBADwn"
      },
      "source": [
        "**In quantum mechanics, every experimental measurable $a$ is the Eigenvalue of a specific operator $(\\hat{A}):$**\n",
        "\n",
        "> $\n",
        "\\hat{A} \\psi=a \\psi\n",
        "$\n",
        "\n",
        "> <font color=\"blue\">**The $a$ eigenvalues represents the possible measured values of the $\\hat{A}$ (i.e. measurement) operator (z.B. stabile Energielevel)**</font>\n",
        "\n",
        "* <font color=\"red\">Eigenvalue = value of an observable, like principal quantum number or Drehimpuls, corresponding to the allowed energy levels of the quantum system</font>\n",
        "\n",
        "* Classically, $a$ would be allowed to vary continuously, **but in quantum mechanics, $a$ Eigenvalues typically has only a sub-set of allowed values (hence the quantum aspect)**. \n",
        "\n",
        "* Both timedependent and time-independent Schrödinger equations are the best known instances of an eigenvalue equations in quantum mechanics, with its eigenvalues corresponding to the allowed energy levels of the quantum system"
      ]
    },
    {
      "cell_type": "markdown",
      "metadata": {
        "id": "N5cSOobbY2qK"
      },
      "source": [
        "> **Messbar sind nur die Eigenwerte der Operatoren**. Hat z. B. der Hamiltonoperator, der die Energie eines quantenmechanischen Systems repräsentiert, ein diskretes Spektrum, so kann die Energie nur diskrete Werte annehmen, was z. B. für die Energieniveaus in einem Atom typisch ist. \n"
      ]
    },
    {
      "cell_type": "markdown",
      "metadata": {
        "id": "-ZKeJRdkBSRk"
      },
      "source": [
        "Die jeweils möglichen Messwerte n bilden das Spektrum der Observablen. Sie können sowohl diskret als auch kontinuierlich verteilt sein. Im diskreten Fall werden sie Eigenwerte der Observablen genannt. Meist wird der Einfachheit halber angenommen, dass das Spektrum rein diskret ist, obwohl wichtige Observable existieren, deren Spektrum rein-kontinuierlich ist (zum Beispiel Orts- und Impulsoperator)."
      ]
    },
    {
      "cell_type": "markdown",
      "metadata": {
        "id": "H7Y-mgtIEHTx"
      },
      "source": [
        "**Spektrum**: Bereich der möglichen Messwerte. **Eigenvalues = z.B. stabile Energielevel**. For every problem there is a different hamiltonian and a different corresponding Eigenspectrum\n"
      ]
    },
    {
      "cell_type": "markdown",
      "metadata": {
        "id": "NQ-GWsVgBV0C"
      },
      "source": [
        "###### <font color=\"blue\">**Observables**"
      ]
    },
    {
      "cell_type": "markdown",
      "metadata": {
        "id": "0706GCKEA9rC"
      },
      "source": [
        "*Aus dem Chapter 'Quanten Numbers\" zum Thema 'Observables':*\n",
        "\n",
        "* A physical observable is anything that can be measured.\n",
        "\n",
        "Siehe auch: [\"Vollständiger Satz kommutierender Observablen\"](https://de.wikipedia.org/wiki/Vollständiger_Satz_kommutierender_Observablen)\n",
        "\n",
        "* Begriff aus der Quantenmechanik, in der Messgrößen wie Energie, Ort oder Impuls durch Operatoren dargestellt und als Observablen bezeichnet werden. \n",
        "\n",
        "* **Messgrößen, die man gleichzeitig genau bestimmen kann, heißen kommutierende Observablen; sie haben die Eigenschaft, dass ihre Operatoren miteinander vertauschen**.\n",
        "\n",
        "* Solch ein Verhalten ist in der Quantenmechanik allerdings eher die Ausnahme. Die meisten Paare von Observablen lassen sich nicht gleichzeitig beliebig genau messen, was eine Konsequenz aus der heisenbergschen Unschärferelation ist. Man spricht dann auch von komplementären Observablen."
      ]
    },
    {
      "cell_type": "markdown",
      "metadata": {
        "id": "JJeNGR2cYzDK"
      },
      "source": [
        "> **Messbar sind nur die Eigenwerte der Operatoren**. Hat z. B. der Hamiltonoperator, der die Energie eines quantenmechanischen Systems repräsentiert, ein diskretes Spektrum, so kann die Energie nur diskrete Werte annehmen, was z. B. für die Energieniveaus in einem Atom typisch ist. \n"
      ]
    },
    {
      "cell_type": "markdown",
      "metadata": {
        "id": "wucSu5zIJMfr"
      },
      "source": [
        "> **Um einen quantenmechanischen Zustand eindeutig zu charakterisieren, sind oft mehrere Observablen notwendig**. Beispielsweise ist es beim Wasserstoffatom nicht ausreichend, nur die Energie anzugeben (mittels der Hauptquantenzahl n), sondern es sind zwei weitere Observablen notwendig: der Betrag des Drehimpulses (Quantenzahl l) und die z-Komponente des Drehimpuls (Quantenzahl m). Diese drei Größen bilden dann einen vollständigen Satz kommutierender Observablen.\n"
      ]
    },
    {
      "cell_type": "markdown",
      "metadata": {
        "id": "5GJv1xffJAjr"
      },
      "source": [
        "Eine Menge von Observablen A, B, C,... bildet einen v.S.k.O., wenn eine **orthonormale Basis des Zustandsraums aus gemeinsamen Eigenvektoren** der Observablen existiert, und diese Basis (bis auf einen Phasenfaktor) eindeutig ist.\n",
        "\n",
        "Eine äquivalente Formulierung lautet: Eine Menge von Observablen A, B, C,... bildet einen v.S.k.O. genau dann, wenn:\n",
        "\n",
        "* alle Observablen paarweise miteinander vertauschen, und\n",
        "\n",
        "* <font color=\"red\">**die Angabe der Eigenwerte aller dieser Operatoren ausreicht, um (bis auf einen Faktor) eindeutig einen gemeinsamen Eigenvektor zu bestimmen**.</font>\n",
        "\n",
        "<font color=\"blue\">Um ein quantenmechanisches Problem zu lösen, ist man bemüht eine Menge von Observablen zu finden, die das System beschreiben und einen v.S.k.O. bilden.</font>\n",
        "\n",
        "* **Durch die Angabe der Messwerte der Observablen (das sind die Eigenwerte der Observablen**) ist es damit möglich den Zustand eines Systems eindeutig zu bestimmen. \n",
        "\n",
        "* Umgekehrt bedeutet das, dass man eine Messung auf einen vollständigen Satz kommutierender Observablen erstrecken muss, um den Zustand des Systems nach der Messung durch die Angabe der Messwerte eindeutig zu bestimmen."
      ]
    },
    {
      "cell_type": "markdown",
      "metadata": {
        "id": "2rZov3jAXyz-"
      },
      "source": [
        "> **Auch die Unmöglichkeit der gleichzeitigen präzisen Messung gewisser Größen (z. B. von Ort und Impuls), wie von der Heisenbergschen Unschärferelation ausgedrückt, ist letztlich darauf zurückzuführen, dass für die jeweiligen Operatoren kein gemeinsames System von Eigenvektoren existiert.**\n"
      ]
    },
    {
      "cell_type": "markdown",
      "metadata": {
        "id": "3-A-nGIqGmBi"
      },
      "source": [
        "###### <font color=\"blue\">**Operators**"
      ]
    },
    {
      "cell_type": "markdown",
      "metadata": {
        "id": "ZODl9NjYj_i3"
      },
      "source": [
        "https://de.m.wikipedia.org/wiki/Linearer_Operator"
      ]
    },
    {
      "cell_type": "markdown",
      "metadata": {
        "id": "PkFPTEuYf_gj"
      },
      "source": [
        "Video: [Quantum Operators and Commutators](https://www.youtube.com/watch?v=so1szjHu7jY&list=WL&index=53)"
      ]
    },
    {
      "cell_type": "markdown",
      "metadata": {
        "id": "wLUNuMEtXJR0"
      },
      "source": [
        "* State of a quantum system described as a vector $x$, like spin up or down (spin = in-built angular momentum)\n",
        "\n",
        "* for an electron the amount of spin it has is fixed\n",
        "\n",
        "* but if we measure how the electron is spinning in one direction (like: spin up), then we could find one of two results\n",
        "\n",
        "* these spins can be represented as vectors in some abstract space. Any quantum state that we can find our particle in behaves like a vector and interacts with other possible states (like normal: vectors interact with other vectors) \n",
        "\n",
        "* if a quantum state can be described like a vector, then making a measurement of a system can be treated mathematically as a matrix. \n",
        "\n",
        "\t* These are the \"measurement operators\", like $S_z$ measures electron spin along z-direction."
      ]
    },
    {
      "cell_type": "markdown",
      "metadata": {
        "id": "IFddlR63IaDc"
      },
      "source": [
        "> **More correct: the act of taking a measurement (like trying to find the spin of our electron) can be mathematically treated like a matrix $U$ or $T$**"
      ]
    },
    {
      "cell_type": "markdown",
      "metadata": {
        "id": "h3Vp7ukgI758"
      },
      "source": [
        "From Video: [The SECOND Most Important Equation in Quantum Mechanics: Eigenvalue Equation Explained](https://youtu.be/zejh5yNkFpc)"
      ]
    },
    {
      "cell_type": "markdown",
      "metadata": {
        "id": "kdHZKSbpWMha"
      },
      "source": [
        "https://www.youtube.com/watch?v=so1szjHu7jY&list=RDCMUC9lztld5qPi-6WZ9_QIVR6g&start_radio=1&rv=so1szjHu7jY&t=5"
      ]
    },
    {
      "cell_type": "markdown",
      "metadata": {
        "id": "t4d4ALCDL-Pt"
      },
      "source": [
        "**Facts About Unitary Operators**\n",
        "\n",
        "> Unitary operators are normal, so they are diagonalizable with respect to an orthonormal basis. Eigenvectors of a unitary operator associated with different eigenvalues are orthogonal. **The eigenvalues have [unit modulus](https://en.wikipedia.org/wiki/Absolute_value#Complex_numbers), that is, their form is $\\mathrm{e}^{\\mathrm{i} \\alpha}$, where $\\alpha$ is a real number**. Unitary operators preserve the inner product, that is, the inner product of $U\\left|v_{1}\\right\\rangle$ by $U\\left|v_{2}\\right\\rangle$ is equal to the inner product of $\\left|v_{1}\\right\\rangle$ by $\\left|v_{2}\\right\\rangle$. The application of a unitary operator on a vector preserves its norm."
      ]
    },
    {
      "cell_type": "markdown",
      "metadata": {
        "id": "I4_1HYhWb_1t"
      },
      "source": [
        "> **In der Quantenmechanik werden Teilchen durch komplex-wertige Wellenfunktionen beschrieben und die unitäre Gruppe $U(1)$ wirkt auf diesen Wellenfunktionen durch punktweise Phasentransformation $f \\rightarrow e^{i \\theta} f$ des Funktionswerts. Das ist eine globale Eichinvarianz.** [Kreisgruppe / unitare Gruppe](https://de.m.wikipedia.org/wiki/Kreisgruppe#Physik)\n"
      ]
    },
    {
      "cell_type": "markdown",
      "metadata": {
        "id": "Lie3n_bvB0fj"
      },
      "source": [
        "*Typical Operators:*\n",
        "\n",
        "* **Hamiltonian**: The Hamiltonian operator corresponds to the total energy of the system\n",
        "\n",
        "* **Linear Momentum**: The linear momentum operator of a particle moving in one dimension (the x-direction) is\n",
        "\n",
        "* **Position**: The position operator of a particle moving in one dimension (the x-direction) \n",
        "\n",
        "* **Kinetic Energy**: Classically, the kinetic energy of a particle moving in one dimension (the x-direction), in terms of momentum\n",
        "\n",
        "* **Angular Momentum**: Angular momentum requires a more complex discussion, but is the cross product of the position operator r⃗̂ and the momentum operator  p̂"
      ]
    },
    {
      "cell_type": "markdown",
      "metadata": {
        "id": "u7SSQLDXC5LC"
      },
      "source": [
        "*Operate on the wavefunction with an operator*\n",
        "\n",
        "In general, the wavefunction gives the \"state of the system\" for the system under discussion. It stores all the information available to the observer about the system. **Often in discussions of quantum mechanics, the terms eigenstate and wavefunction are used interchangeably**. The term eigenvalue is used to designate the value of measurable quantity associated with the wavefunction.\n",
        "\n",
        "* If you want to measure the energy of a particle, you have to operate on the wavefunction with the Hamiltonian operator\n",
        "\n",
        "* If you want to measure the momentum of a particle, you have to operate on wavefunction with the momentum operator\n",
        "\n",
        "* If you want to measure the position of a particle, you have to operate on wavefunction with the position operator\n",
        "\n",
        "* If you want to measure the kinetic energy of a particle, you have to operate on wavefunction with the kinetic energy operator"
      ]
    },
    {
      "cell_type": "markdown",
      "metadata": {
        "id": "BXh1F9kc9VuB"
      },
      "source": [
        "https://chem.libretexts.org/Courses/Pacific_Union_College/Quantum_Chemistry/03%3A_The_Schrodinger_Equation_and_a_Particle_in_a_Box/3.03%3A_The_Schrödinger_Equation_is_an_Eigenvalue_Problem"
      ]
    },
    {
      "cell_type": "markdown",
      "metadata": {
        "id": "3eye1FYS06Mi"
      },
      "source": [
        "**<font color=\"orange\">Ortsoperators $\\hat{x}$</font>**"
      ]
    },
    {
      "cell_type": "markdown",
      "metadata": {
        "id": "jOBWmyGiyVUq"
      },
      "source": [
        "Der [Ortsoperator](https://de.m.wikipedia.org/wiki/Ortsoperator) gehört in der Quantenmechanik zur Ortsmessung von Teilchen.\n",
        "\n",
        "* Der physikalische Zustand $\\Psi$ eines Teilchens ist in der Quantenmechanik mathematisch gegeben durch den zugehörigen Vektor eines Hilbertraumes $\\mathrm{H}$. \n",
        "\n",
        "* Dieser Zustand wird folglich in der Bra-Ket-Notation durch den Vektor $|\\Psi\\rangle$ beschrieben. \n",
        "\n",
        "* Die Observablen werden durch selbstadjungierte Operatoren auf $\\mathrm{H}$ dargestellt.\n",
        "\n",
        "Speziell ist der Ortsoperator die Zusammenfassung der drei Observablen $\\hat{\\mathbf{x}}=\\left(\\hat{x}_{1}, \\hat{x}_{2}, \\hat{x}_{3}\\right)$, so dass\n",
        "\n",
        ">$\n",
        "E\\left(\\hat{x}_{j}\\right)=\\left\\langle\\hat{x}_{j} \\Psi, \\Psi\\right\\rangle_{\\mathrm{H}}, \\quad j=1,2,3\n",
        "$\n",
        "\n",
        "der Mittelwert (Erwartungswert) der Messergebnisse der j-ten Ortskoordinate des Teilchens im Zustand $\\Psi$ ist."
      ]
    },
    {
      "cell_type": "markdown",
      "metadata": {
        "id": "GCWGw7qr1Tg7"
      },
      "source": [
        "https://de.m.wikipedia.org/wiki/Dirac-Notation#Darstellungen_in_der_Quantenmechanik"
      ]
    },
    {
      "cell_type": "markdown",
      "metadata": {
        "id": "zgB0YuvgKW5y"
      },
      "source": [
        "https://en.m.wikipedia.org/wiki/Position_and_momentum_space"
      ]
    },
    {
      "cell_type": "markdown",
      "metadata": {
        "id": "OWe3dABV3mBT"
      },
      "source": [
        "**<font color=\"orange\">Impulsoperators $\\hat{p}$ (Momentum Operator)</font>**"
      ]
    },
    {
      "cell_type": "markdown",
      "metadata": {
        "id": "9_KVVQC9xoDR"
      },
      "source": [
        "Der [Impulsoperator](https://de.m.wikipedia.org/wiki/Impulsoperator) $\\hat{p}$ ist in der Quantenmechanik der Operator zur Impulsmessung von Teilchen. In der Ortsdarstellung ist der Impulsoperator in einer Dimension gegeben durch:\n",
        "\n",
        ">$\n",
        "\\hat{p}_{x}=-\\mathrm{i} \\hbar \\frac{\\partial}{\\partial x}=\\frac{\\hbar}{i} \\frac{\\partial}{\\partial x}\n",
        "$\n",
        "\n",
        "Dabei bezeichnet\n",
        "- i die Imaginäre Einheit\n",
        "- $\\hbar$ die reduzierte Planck-Konstante und\n",
        "- $\\frac{\\partial}{\\partial x}$ die partielle Ableitung in Richtung der Ortskoordinate $x$.\n",
        "\n",
        "Mit dem Nabla-Operator $\\nabla$ erhält man in drei Dimensionen den Vektor:\n",
        "\n",
        ">$\n",
        "\\hat{\\mathbf{p}}=-\\mathrm{i} \\hbar \\nabla\n",
        "$\n",
        "\n",
        "* Der physikalische Zustand $\\Psi$ eines Teilchens ist in der Quantenmechanik mathematisch durch einen zugehörigen Vektor eines Hilbertraumes $\\mathcal{H}$ gegeben. \n",
        "\n",
        "* Dieser Zustand wird folglich in der Bra-Ket-Notation durch den Vektor $|\\Psi\\rangle$ beschrieben. \n",
        "\n",
        "* Die Observablen werden durch selbstadjungierte Operatoren auf $\\mathcal{H}$ dargestellt. \n",
        "\n",
        "* Speziell ist der Impuls-Operator die Zusammenfassung der drei Observablen $\\hat{\\mathbf{p}}=\\left(\\hat{p}_{1}, \\hat{p}_{2}, \\hat{p}_{3}\\right)$, so dass\n",
        "\n",
        ">$\n",
        "E\\left(\\hat{p}_{j}\\right)=\\left\\langle\\Psi\\left|\\hat{p}_{j}\\right| \\Psi\\right\\rangle \\quad j=1,2,3\n",
        "$\n",
        "\n",
        "der Mittelwert (Erwartungswert) der Messergebnisse der $j$ -ten Komponente des Impulses des Teilchens im Zustand $\\Psi$ ist."
      ]
    },
    {
      "cell_type": "markdown",
      "metadata": {
        "id": "rPB62wRX8NfF"
      },
      "source": [
        "https://youtu.be/so1szjHu7jY"
      ]
    },
    {
      "cell_type": "markdown",
      "metadata": {
        "id": "iy4WCRVb4Fbq"
      },
      "source": [
        "###### **<font color=\"blue\">Hamiltonian Operator $\\mathcal{H}$</font>**"
      ]
    },
    {
      "cell_type": "markdown",
      "metadata": {
        "id": "M89sYf-N0_6u"
      },
      "source": [
        "> <font color=\"red\">**The sum of the possible outcomes of kinetic and potential energy of this entire system in quantum mechanics is referred to the Hamiltonian $\\mathcal{H}$ (to calculate the lowest total energy of a two atom system)**\n",
        "\n",
        "> Hamiltonian Operator a set of operations **concerning interactions that dictate the state of the system** = Hamiltonian Operator typically describes the total energy of a system or particle."
      ]
    },
    {
      "cell_type": "markdown",
      "metadata": {
        "id": "7abbmcaGjNEx"
      },
      "source": [
        "https://de.m.wikipedia.org/wiki/Hamilton-Funktion\n",
        "\n",
        "https://de.m.wikipedia.org/wiki/Hamiltonoperator"
      ]
    },
    {
      "cell_type": "markdown",
      "metadata": {
        "id": "OO2P99koSm5G"
      },
      "source": [
        "Spektrum: Bereich der möglichen Messwerte. Eigenvalues = stabile Energielevel. \n",
        "\n",
        "**For every problem there is a different hamiltonian and a different corresponding Eigenspectrum**.\n"
      ]
    },
    {
      "cell_type": "markdown",
      "metadata": {
        "id": "0k75CUHhTIYe"
      },
      "source": [
        "Hamilton-Operator (Energie-Operator): Die Eigenzustaende dieses Energieoperators sind dann die Energiezustaende, die stabil sind. In der Atomphysik sind das dann die Zustande, die die Elektronen in den Orbitalen beschreiben\n"
      ]
    },
    {
      "cell_type": "markdown",
      "metadata": {
        "id": "wgis4pZsldsp"
      },
      "source": [
        "**Hamiltonian Operator and Time Evolution**\n",
        "\n",
        "* Der Zustand eines quantenmechanischen Systems verändert sich mit der Zeit. Schwirrt beispielsweise ein Elektron durch ein Magnetfeld, ändert sich seine Flugbahn zu jedem Zeitpunkt. Eine berühmte lineare Abbildung diktiert diese Zeitentwicklung: Die zeitliche Änderung des Zustandsvektors ergibt sich durch die Anwendung des Hamilton-Operators auf diesen Vektor.\n",
        "\n",
        "* Die vielleicht bedeutendste Eigenschaft des Hamilton-Operators besteht aber darin, dass sich die Energien eines physikalischen Systems in ihm verstecken. **Möchte man beispielsweise die verschiedenen Energieniveaus eines Atoms berechnen, genügt es, einige charakteristische Zahlen des entsprechenden Hamilton-Operators zu betrachten, die so genannten Eigenwerte**.\n",
        "\n",
        "* Die gesamte Menge dieser Eigenwerte heißt »Spektrum« in Anlehnung an den gleich- namigen Begriff aus der Physik, der alle Energien bezeichnet, bei denen die Elektro- nenhülle eines chemischen Elements ein Photon absorbieren oder emittieren kann (siehe »Spektrum einer Welle«).\n",
        "\n",
        "* Im Allgemeinen beschreibt der Hamilton-Operator also nicht bloß die zeitliche Entwicklung eines quantenmechanischen Objekts; seine Eigenwerte entsprechen au- ßerdem den Energien des Systems, und die dazugehörigen Eigenvektoren sind die Ba- siszustände. Das macht den Hamilton-Ope- rator zu einem der wichtigsten physikali- schen Werkzeuge.\n",
        "\n",
        "*Quelle: Spektrum der Wissenschaft Spezial: Primzahlen*\n"
      ]
    },
    {
      "cell_type": "markdown",
      "metadata": {
        "id": "7MwSGedvzNov"
      },
      "source": [
        "Der [Zeitentwicklungsoperator](https://de.m.wikipedia.org/wiki/Zeitentwicklungsoperator) $\\mathcal{U}$ bzw. $\\mathcal{T}$ ist ein quantenmechanischer Operator, mit dem sich die zeitliche Entwicklung eines physikalischen Systems berechnen lässt. Der quantenmechanische Operator ist eng verwandt mit dem [Propagator](https://de.m.wikipedia.org/wiki/Propagator) in der Quantenfeld- oder Vielteilchentheorie. Üblicherweise wird er als $U\\left(t, t_{0}\\right)$ geschrieben und bezeichnet die Entwicklung des Systems vom Zeitpunkt $t_{0}$ zum Zeitpunkt $t$."
      ]
    },
    {
      "cell_type": "markdown",
      "metadata": {
        "id": "CyJNFRi60Tpi"
      },
      "source": [
        "*Über die Exponentiation der Schrödingergleichung*"
      ]
    },
    {
      "cell_type": "markdown",
      "metadata": {
        "id": "NQ1DXD1s0fLd"
      },
      "source": [
        "Der Zeitentwicklungsoperator $U\\left(t, t_{0}\\right)$ wird definiert über die Zeitentwicklung eines beliebigen Zustandes $|\\psi\\rangle$ zu einem Zeitpunkt $t_{0}$ bis zum Zeitpunkt $t$ :\n",
        "\n",
        ">$\n",
        "|\\psi(t)\\rangle=U\\left(t, t_{0}\\right)\\left|\\psi\\left(t_{0}\\right)\\right\\rangle \\quad \\forall|\\psi\\rangle\n",
        "$\n",
        "\n",
        "Einsetzen in die Schrödingergleichung liefert einen Satz gewöhnlicher Differentialgleichungen 1. Ordnung:\n",
        "\n",
        ">$\\mathrm{i} \\hbar \\frac{\\partial}{\\partial t} U\\left(t, t_{0}\\right)=H(t) U\\left(t, t_{0}\\right)$\n",
        "\n",
        "Diese Gleichungen sind zur Schrödingergleichung insofern äquivalent, als sie die Erweiterung des Zeitentwicklungsoperators um einen infinitesimalen Zeitschritt $\\delta t$ beschreiben:\n",
        "\n",
        ">$\n",
        "U\\left(t+\\delta t, t_{0}\\right)=\\left(1-\\frac{i}{\\hbar} H(t) \\delta t\\right) U\\left(t, t_{0}\\right)+O\\left(\\delta t^{2}\\right)\n",
        "$\n",
        "\n",
        "mit dem Hamiltonoperator $H$, der den Erzeuger der Zeitentwicklungen darstellt."
      ]
    },
    {
      "cell_type": "markdown",
      "metadata": {
        "id": "vJUmv-pJjU3l"
      },
      "source": [
        "https://en.m.wikipedia.org/wiki/Time_evolution (Evolution Operator)"
      ]
    },
    {
      "cell_type": "markdown",
      "metadata": {
        "id": "V2EBk6SANPX-"
      },
      "source": [
        "**The Hamiltonian $\\mathcal{H}$ operator describes the energy of a system (Classical Ising Model?)**: \n",
        "\n",
        "  * der [Hamiltonoperator](https://de.m.wikipedia.org/wiki/Hamiltonoperator) ist in der Quantenmechanik ein Operator, **der (mögliche) Energiemesswerte und die Zeitentwicklung angibt**. Er ist daher der Energieoperator. <font color=\"red\">Er liefert beispielsweise die Energieniveaus des Elektrons im Wasserstoffatom.</font>\n",
        "\n",
        "  * In der Quantenmechanik wird jeder Zustand des betrachteten physikalischen Systems durch einen zugehörigen Vektor $\\psi$ im Hilbertraum angegeben. Seine Zeitentwicklung wird nach der Schrödingergleichung durch den Hamiltonoperator $\\hat{H}$ bestimmt:\n",
        "\n",
        ">$\n",
        "\\mathrm{i} \\hbar \\frac{\\partial}{\\partial t} \\psi(t)=\\hat{H} \\psi(t)\n",
        "$\n",
        "\n",
        "  * mit der imaginären Einheit i\n",
        "  \n",
        "  * und der reduzierten Planckschen Konstante $\\hbar=\\frac{h}{2 \\pi}$.\n",
        "\n",
        "  * In der Eigenwertgleichung sind die Eigenwerte E die zugehörigen Energien."
      ]
    },
    {
      "cell_type": "markdown",
      "metadata": {
        "id": "fydLRSLFdRx5"
      },
      "source": [
        "**<font color=\"blue\">More about: Hamilton Operator $\\mathcal{H}$</font> (Classical Ising Model)**"
      ]
    },
    {
      "cell_type": "markdown",
      "metadata": {
        "id": "QCWnY598CgM3"
      },
      "source": [
        "https://de.wikipedia.org/wiki/Quantenmechanik#Stationäre_Zustände\n",
        "\n",
        "weitergeleitet von hier:\n",
        "\n",
        "https://de.wikipedia.org/wiki/Plancksches_Wirkungsquantum\n",
        "\n",
        "https://de.m.wikipedia.org/wiki/Zufallsmatrix"
      ]
    },
    {
      "cell_type": "markdown",
      "metadata": {
        "id": "w8KFOM66dzW-"
      },
      "source": [
        "![geometry](https://raw.githubusercontent.com/deltorobarba/repo/master/quantum_009.png)"
      ]
    },
    {
      "cell_type": "markdown",
      "metadata": {
        "id": "l0BaXgE3dXKD"
      },
      "source": [
        "https://www.youtube.com/watch?v=Wy9YoEYv-fA&list=PLBn8lN0Dcvpla6a6omBni1rjyQJ4CssTP&index=49"
      ]
    },
    {
      "cell_type": "markdown",
      "metadata": {
        "id": "u2MxYzfBfzpU"
      },
      "source": [
        "* A spin is a two state system, like two magnets that you approach each other and then they anti-align, so this will be their optimal energy configuration\n",
        "\n",
        "* if you identify random variables with them, so sigma 1 = 1 for north up and sigma 2 = -1 for south up, and then you add another one and another one. You can write it as a sum of nearest neighbors. \n",
        "\n",
        "* this describes the energy of a system and we want to minimize it (naturally state in nature). \n",
        "\n",
        "* let's make it a bit more complicated: let's assume there is a wall that you can control between the magnets. With that you can change the strength of interaction between the individual pairs, you can change the coupling strengths - to include this in the equation, we add a term Ǝ\n",
        "\n",
        "* now we complicate it a bit more and add an external magnetic field below each of these individual magnets. If this magnet field is strong enough, it can flip the magnet with the South Pole pointing to top and flip it upside down. This means the external magnet will overwrite the interactions that happen between the individual magnets. We model this external magnetic field influence by adding one more term to the equation, which is goin to be the strengths of this field h and the actual sigma value, the value of the random value in that spot. \n",
        "\n",
        "* this is actually a very hard problem to solve in nature: if you look at the energy landscape of this problem, and what can happen is that they might get stuck in some local optimum. And by overcoming this local barrier they could attain a better configuration.\n",
        "\n",
        "* that's the same kind of problem we see in computer sciences in certain np hard problems: for example in the [quadratic unconstrained binary optimization problem (QUBO)](https://en.wikipedia.org/wiki/Quadratic_unconstrained_binary_optimization) it has a very similar form. You have binary random variables and you have some interaction strength between them (coefficients), and you have also a bias term affecting individual random variables. On a classical computer in the general case this takes exponentially many evaluations to find the global optimum. \n",
        "\n",
        "* so there is this natural correspondence between what's computationally hard and what's physically difficult to solve.\n",
        "\n"
      ]
    },
    {
      "cell_type": "markdown",
      "metadata": {
        "id": "zKlsTZM0VkZG"
      },
      "source": [
        "**Hamiltonian**"
      ]
    },
    {
      "cell_type": "markdown",
      "metadata": {
        "id": "MjVEUDSAWJpv"
      },
      "source": [
        "* the Hamiltonian has a formula where you input the state of the system and it outputs the energy of the system (both quantum & classical system)\n",
        "\n",
        "* inout state of all qubits, Hamiltonian will give energy of that state \n",
        "\n",
        "* Quantum annealing: tries to find state of all qubits that gives us lowest energy\n",
        "\n",
        "* lowest energy state of initial Hamiltonian is when all the qubits are in a superposition state of zero and one (easy set up of the system)\n",
        "\n",
        "* Ideally you stay in the minimum energy state throughout the quantum annealing procedure (In annealing: initially quantum states, at the end classical states)"
      ]
    },
    {
      "cell_type": "markdown",
      "metadata": {
        "id": "yXKK4Im4VjLR"
      },
      "source": [
        "![geometry](https://raw.githubusercontent.com/deltorobarba/repo/master/quantum_009a.png)"
      ]
    },
    {
      "cell_type": "markdown",
      "metadata": {
        "id": "xVyCoTKABuU3"
      },
      "source": [
        "###### <font color=\"blue\">**Eigenstates (Eigenvector)**"
      ]
    },
    {
      "cell_type": "markdown",
      "metadata": {
        "id": "0xGK4IrKILun"
      },
      "source": [
        "> **Eigenstate = Wavefunction $\\psi$**"
      ]
    },
    {
      "cell_type": "markdown",
      "metadata": {
        "id": "7E5lQ-YyI9ew"
      },
      "source": [
        "**Some states are Eigenstates of a measurement**\n",
        "\n",
        "* For example before we make our measurement the electron happens to be in the spinning clockwise state $|1\\rangle$\n",
        "\n",
        "* if we then make a spin measurement of the state of this electron stays the same, making a measurement does not affect our system\n",
        "\n",
        "* <font color=\"blue\">**What we end up measuring when we make our measurement is the Eigenvalue, like $\\frac{\\hbar}{2}$ in: $S_z$ $|1\\rangle$ = $\\frac{\\hbar}{2}$ $|1\\rangle$**</font>\n",
        "\n",
        "\t* $S_z$ $\\rightarrow$ measurement operator matrix $A$\n",
        "\n",
        "\t* $\\frac{\\hbar}{2}$ $\\rightarrow$ Eigenvalue $\\lambda$\n",
        "\n",
        "\t* $|1\\rangle$ $\\rightarrow$ state stays the same, the Eigenstate $|\\psi \\rangle$, in the Eigenvalue equation it is $x$\n",
        "\n",
        "\t* <font color=\"red\">You can see the similarity with the Eigenvalue Equation: $Ax=\\lambda x$ with: $S_z$ $|1\\rangle$ = $\\frac{\\hbar}{2}$ $|1\\rangle$</font>\n",
        "\n"
      ]
    },
    {
      "cell_type": "markdown",
      "metadata": {
        "id": "BmICLQEy26ga"
      },
      "source": [
        "* Our measurement result would be an angular momentum of $\\frac{\\hbar}{2}$ with $\\hbar$ known as the \"Reduced Planck Constant\" : this is the numerical value we'll find\n",
        "\n",
        "* Eigenstates of of any operator always behave like perpendicular vectors, there is no component of one vector in the other (there is no way to write one vector in terms of another)\n",
        "\n",
        "* <font color=\"blue\">So, in many ways making a measurement on a system that is already in an Eigenstate is pretty intuitive: **the system remains in the same state and the numerical result we get because of our measurement is the Eigenvalue of the state: multiplying the vector with the measurement matrix doesn't change the vector, so the value in front of the vector (its energy state) is the Eigenvalue, and the vector itself the Eigenvector!**</font>\n",
        "\n",
        "* an operator that represents a spin measurement in this direction for an electron has two Eigenstates: clockwise and anti clockwise spin"
      ]
    },
    {
      "cell_type": "markdown",
      "metadata": {
        "id": "dmy8iZanUE8-"
      },
      "source": [
        "> **Auch die Unmöglichkeit der gleichzeitigen präzisen Messung gewisser Größen (z. B. von Ort und Impuls), wie von der Heisenbergschen Unschärferelation ausgedrückt, ist letztlich darauf zurückzuführen, dass für die jeweiligen Operatoren kein gemeinsames System von Eigenvektoren existiert.**\n"
      ]
    },
    {
      "cell_type": "markdown",
      "metadata": {
        "id": "iLDI9ml9Qes9"
      },
      "source": [
        "**What happens if our system is initially not in an Eigenstate? What if we apply our measurement operator to some other state vector?**\n",
        "\n",
        "> $S_{z} |\\psi\\rangle =?$ $\\rightarrow$ With $|\\psi\\rangle$ being a general state (not Eigenstate!)\n",
        "\n",
        "* **applying a matrix to a vector that was not an Eigenvector, then that vector ends up getting transformed**. Similarly in quantum mechanics, a state that is not an Eigenstate or Eigenvector of our measurement operator\n",
        "\n",
        "* Remember an electron can be in a superposition of multiple states. This quantum state is created by a linear combination of some amounts of spin up probability and spin down probability\n",
        "\n",
        "* What this means is that the electron has some probability of being found in either state when we make our spin measurement. **And this is what happens when we make our measurement on a non-Eigenstate**. \n",
        "\n",
        "> <font color=\"blue\">**By some random process that we don't fully understand yet a measurement causes the state to change into one of the Eigenstates.** </font>\n",
        "\n",
        "* And we can even calculate the probability with which our measurement will result in one state vs the other. (The probability for a particular result is just the square of this quantity)\n",
        "\n",
        "> <font color=\"blue\">**Even if the system is not in an Eigenstate but in a superposition of states, the Eigenvalue equation is still important because it helps us figuring out the possible measurement results we could find when we make the measurement on our system.**</font>"
      ]
    },
    {
      "cell_type": "markdown",
      "metadata": {
        "id": "fEUyhUTh36tg"
      },
      "source": [
        "![ggg](https://raw.githubusercontent.com/deltorobarba/repo/master/quantum_152.png)"
      ]
    },
    {
      "cell_type": "markdown",
      "metadata": {
        "id": "caYWAG5tUNWs"
      },
      "source": [
        "Worth mentioning: slight difference between what happens when you apply a transformation matrix to a normal vector, like here: $\\left[\\begin{array}{cc}17 & -35 \\\\ 6 & -12\\end{array}\\right]\\left(\\begin{array}{l}1 \\\\ 1\\end{array}\\right)=\\left(\\begin{array}{c}-18 \\\\ -6\\end{array}\\right)$ \n",
        "\n",
        "and what happens when you apply a measurement operator to a quantum state that isn't an Eigenstate $S_{z}\\left(\\frac{1}{\\sqrt{2}}|0\\rangle+\\frac{1}{\\sqrt{2}} |1\\rangle\\right)$:\n",
        "\n",
        "* whereas in the mathematical scenario every matrix can be applied to any vector, and you can calculate exactly what the resultant vector should be, \n",
        "\n",
        "* **in the quantum case, because we are talking about superposition of states, this results in a random collapse into one of the possible Eigenstates**"
      ]
    },
    {
      "cell_type": "markdown",
      "metadata": {
        "id": "vz7cqkTuXtmj"
      },
      "source": [
        "* **Eigenvektor: Vektoren, die bei einer Transformation mit einer Matrix ihre Richtung nicht ändern**. \n",
        "\n",
        "* Z.B. Rotationen um eine Achse = Achse bleibt fest und ist Eigenvektor (bei einfachen Rotationen Eigenwert = 1). \n",
        "\n",
        "* in mechanik: trägheitsmoment gegenüber rotationen. Hauptachsen mit Tensorrechnung. die hauptachsen sind diejenigen richtungen, in die die drehungen stabile verlaufen. drehimpuls und winkelgeschwindigkeit haben gleiche richtung. keine schwankungen der drehachsen, sie sind stabil. (https://www.grund-wissen.de/physik/mechanik/kinematik/kreisfoermige-bewegungen.html)\n",
        "\n",
        "* **Quantenmechanik: hermetische Operatoren. Diese führen zu Eigenwerten und Eigenvektoren**. \n",
        "\n",
        "\t* Interessant ist bei solchen Operatoren bzw. bei den linearen Abbildungen bei den symmetrischen Matrizen im Reellen: Eigenvektoren stehen im reellen senkrecht aufeinander. (Bilden eine Orthonormalbasis). \n",
        "\n",
        "\t* Man kann Vektorraum mit diesen Eigenvektoren aufspannen und jeden Vektor als Linearkombination dieser Eigenvektoren darstellen.\n",
        "\n",
        "\t* **Dann ist das Verhalten der Abbildungen quasi reduziert auf das Verhalten der Eigenvektoren mit ihren entsprechenden Eigenwerten, so dass dann jeder Vektor wenn man ihn in die Basis der Eigenvektoren schreibt, relativ einfach transformiert werden kann**, indem man einfach die entsprechenden Eigenvektor-Skalierungen beachtet und später die Summe immer wieder bildet (ist ja alles linear)."
      ]
    },
    {
      "cell_type": "markdown",
      "metadata": {
        "id": "VI-bF1SOTC-m"
      },
      "source": [
        "**Spezielle Vektoren der Quantenmechanik**:\n",
        "\n",
        "* Hamilton-Operator (Energie-Operator): Die Eigenzustaende dieses Energieoperators sind dann die Energiezustaende, die stabil sind. In der Atomphysik sind das dann die Zustande, die die Elektronen in den Orbitalen beschreiben\n",
        "\n",
        "* Genauso gibt es Eigenvektoren zu den Drehimpuls-Operatoren (und zu anderen Dingen). Hier kommt Eigenwert-Theorie zum blühen. Die entsprechende Orthonormal-Basis ist dann auch die Basis in der man jede beliebigen Zustand des Systems beschreiben kann. "
      ]
    },
    {
      "cell_type": "markdown",
      "metadata": {
        "id": "dpNd4NmSICeT"
      },
      "source": [
        "###### <font color=\"blue\">**Eigenfunction**"
      ]
    },
    {
      "cell_type": "markdown",
      "metadata": {
        "id": "Zyg5qej7MNs_"
      },
      "source": [
        "> <font color=\"red\">**So stellen bei den Lösungen der bekannten Schrödingergleichung die Eigenwerte die erlaubten Energiewerte der Elektronen und die Eigenfunktionen die zugehörigen Wellenfunktionen der Elektronen dar.**\n"
      ]
    },
    {
      "cell_type": "markdown",
      "metadata": {
        "id": "irA3G5ur37nu"
      },
      "source": [
        "Die jeweils möglichen Messwerte n bilden das Spektrum der Observablen. Sie können sowohl diskret als auch kontinuierlich verteilt sein. Im diskreten Fall werden sie Eigenwerte der Observablen genannt. **Meist wird der Einfachheit halber angenommen, dass das Spektrum rein diskret ist, obwohl wichtige Observable existieren, deren Spektrum rein-kontinuierlich ist (zum Beispiel Orts- und Impulsoperator).**\n",
        "\n",
        "> <font color=\"red\">Die zu den Eigenwerten zugehörigen Zustände $|n\\rangle$ werden als **Eigenzustände** der Observablen bezeichnet. <u>Bei kontinuierlichem Spektrum spricht man von verallgemeinerten **Eigenfunktionen**</u>. Dabei handelt es sich um **Distributionen** wie die Dirac-Funktion.\n",
        "\n",
        "* [Eigenwerte](https://de.m.wikipedia.org/wiki/Eigenwertproblem) spielen in der Quantenmechanik eine besondere Rolle. Physikalische Größen wie z. B. der Drehimpuls werden hier durch Operatoren repräsentiert. \n",
        "\n",
        "* **Messbar sind nur die Eigenwerte der Operatoren**. Hat z. B. der Hamiltonoperator, der die Energie eines quantenmechanischen Systems repräsentiert, ein diskretes Spektrum, so kann die Energie nur diskrete Werte annehmen, was z. B. für die Energieniveaus in einem Atom typisch ist. \n"
      ]
    },
    {
      "cell_type": "markdown",
      "metadata": {
        "id": "4yl_pXXkBJt-"
      },
      "source": [
        "* <font color=\"blue\">It is a general principle of Quantum Mechanics that there is an operator for every physical observable.</font>\n",
        "\n",
        "* A physical observable is anything that can be measured.\n",
        "\n",
        "> <font color=\"red\">**If the wavefunction that describes a system is an <u>eigenfunction</u> of an operator, then the value of the associated observable is extracted from the eigenfunction by operating on the eigenfunction with the appropriate operator.**</font>\n",
        "\n",
        "> **The value of the observable for the system is the eigenvalue, and the system is said to be in an <u>eigenstate</u>.**\n",
        "\n",
        "* Equation $\n",
        "\\hat{H} \\psi(x)=E \\psi(x)\n",
        "$ states this principle mathematically for the case of energy as the observable.\n"
      ]
    },
    {
      "cell_type": "markdown",
      "metadata": {
        "id": "SvEqebBpMnPO"
      },
      "source": [
        "* The operators must yield real **eigenvalues**, since they are values which may come up as the result of the experiment. Mathematically this means the operators must be Hermitian.\n",
        "\n",
        "* The probability of each eigenvalue is related to the projection of the physical state on the subspace related to that eigenvalue.\n",
        "\n",
        "> Spektrum: Bereich der möglichen Messwerte\n",
        "\n",
        "* Eigenvalues = stabile Energielevel\n",
        "\n",
        "* For every problem there is a different hamiltonian and a different corresponding Eigenspectrum "
      ]
    },
    {
      "cell_type": "markdown",
      "metadata": {
        "id": "yKYdLlGQMGbZ"
      },
      "source": [
        "> **Auch die Unmöglichkeit der gleichzeitigen präzisen Messung gewisser Größen (z. B. von Ort und Impuls), wie von der Heisenbergschen Unschärferelation ausgedrückt, ist letztlich darauf zurückzuführen, dass für die jeweiligen Operatoren kein gemeinsames System von Eigenvektoren existiert.**\n"
      ]
    },
    {
      "cell_type": "markdown",
      "metadata": {
        "id": "6_IwqZ2uE4jt"
      },
      "source": [
        "###### <font color=\"blue\">**Schrödinger equation: Time Independent (Eigenvalue Equation)**</font>"
      ]
    },
    {
      "cell_type": "markdown",
      "metadata": {
        "id": "BbpZ0Ft0jYX5"
      },
      "source": [
        "https://de.m.wikipedia.org/wiki/Schrödingergleichung \n"
      ]
    },
    {
      "cell_type": "markdown",
      "metadata": {
        "id": "6HCh0gYIJv8x"
      },
      "source": [
        "**The Schroedinger equation can be written as a type of Eigenvalue equation**\n",
        "\n",
        "> $\\hat{H}|\\psi\\rangle= -i \\hbar \\frac{d}{d t}|\\psi\\rangle =\\frac{\\hbar}{i} \\frac{d}{d t}|\\psi\\rangle$\n",
        "\n",
        "Mit dem Impulsoperator (stimmt das?):\n",
        "\n",
        ">$\n",
        "\\hat{p}_{x}=-\\mathrm{i} \\hbar \\frac{\\partial}{\\partial x}=\\frac{\\hbar}{i} \\frac{\\partial}{\\partial x}\n",
        "$"
      ]
    },
    {
      "cell_type": "markdown",
      "metadata": {
        "id": "_YQvaWOmKD1l"
      },
      "source": [
        "**Simplified (when system is not changing over time: time-independent Schroedinger equation):**\n",
        "\n",
        "> $\\hat{H}|\\psi\\rangle=E |\\psi\\rangle$"
      ]
    },
    {
      "cell_type": "markdown",
      "metadata": {
        "id": "uXWFftBNVNZq"
      },
      "source": [
        "* $\\hat{H}$  - measurement operator (matrix): measures the total energy of a system\n",
        "\n",
        "* $E$ - Eigenvalue: is the numerical energy value that we measure\n",
        "\n",
        "* $|\\psi\\rangle$ - Eigenstates / Eigenvector: are the various Eigenstates that we can measure"
      ]
    },
    {
      "cell_type": "markdown",
      "metadata": {
        "id": "xcruRRsL3t9p"
      },
      "source": [
        "![ggg](https://raw.githubusercontent.com/deltorobarba/repo/master/quantum_151.png)"
      ]
    },
    {
      "cell_type": "markdown",
      "metadata": {
        "id": "U7PcqcJVzesx"
      },
      "source": [
        "**From video [Crash course in density matrices](https://youtu.be/1tserF6VGqI):**"
      ]
    },
    {
      "cell_type": "markdown",
      "metadata": {
        "id": "R0oIfNMeWe5a"
      },
      "source": [
        "**Dynamics: if we want to study how a quantum system changes in time, we usually refer to the Schroedinger equation.**\n",
        "\n",
        "> $i \\frac{d}{d t}|\\psi(t)\\rangle=\\hat{H}|\\psi\\rangle$\n",
        "\n",
        "* the operator $\\hat{H}$ is called the Hamiltonian and it tells us about the total energy in a system, and how things in a system interact with each other.\n",
        "\n",
        "* **The easiest way to solve this problem is to first solve the Eigenvalue problem**, which involves finding the Eigenvectors and the Eigenvalues of the hamiltonian. We are able the different values of the Eigenvalues and Eigenvectors with the label k:\n",
        "\n",
        "> $\\hat{H}\\left|E_{k}\\right\\rangle=E_{k}\\left|E_{k}\\right\\rangle$\n",
        "\n",
        "* This allows us to know that the Eigenvectors, when plugged into the Schroedinger equation ...\n",
        "\n",
        "> $i \\frac{d}{d t}\\left|E_{k}\\right\\rangle=\\hat{H}\\left|E_{k}\\right\\rangle=E_{k}\\left|E_{k}\\right\\rangle$\n",
        "\n",
        "* **... just pick up a phase in time depending on the energy they correspond to**:\n",
        "\n",
        "> $\\left|E_{k}(t)\\right\\rangle=e^{-i E_{k} t}\\left|E_{k}\\right\\rangle$"
      ]
    },
    {
      "cell_type": "markdown",
      "metadata": {
        "id": "fYn587a9Wjhh"
      },
      "source": [
        "**Now to sum more general situation with some generic state $\\psi$**\n",
        "\n",
        "* we can decompose $\\psi$ in terms of energy Eigenbasis:\n",
        "\n",
        "> $|\\psi\\rangle=\\sum_{m} c_{m}\\left|E_{m}\\right\\rangle$\n",
        "\n",
        "* where $c_{m}$ is given by the inner product of the energy Eigenvector labelled by m and $\\psi$ itself:\n",
        "\n",
        "> $c_{m}=\\left\\langle E_{m} \\mid \\psi\\right\\rangle$\n",
        "\n",
        "* We can then time-evolve the state by simply time-evolving the energy Eigen-Kets:\n",
        "\n",
        "> $|\\psi(t)\\rangle=\\sum_{m} c_{m} e^{-i E_{m} t}\\left|E_{m}\\right\\rangle$\n",
        "\n",
        "* Tracking the expectation value of an observable is quite easy: Simply applying the state vector in time to both sides of the matrix gives the following equation: \n",
        "\n",
        "> $\\langle A(t)\\rangle=\\sum_{m, n} \\bar{c}_{n} c_{m} A_{n, m} e^{i\\left(E_{n}-E_{m}\\right) t}$\n",
        "\n",
        "* Where we have labelled the matrix entries of a by the energy Eigenbasis in the following way:\n",
        "\n",
        "> $A_{n, m}=\\left\\langle E_{n}|A| E_{m}\\right\\rangle$"
      ]
    },
    {
      "cell_type": "markdown",
      "metadata": {
        "id": "rKCsxKJM2nV3"
      },
      "source": [
        "**Schrödinger Equation: Time-<font color=\"blue\">Independent</font> Version**"
      ]
    },
    {
      "cell_type": "markdown",
      "metadata": {
        "id": "ikbe9KUrP_a6"
      },
      "source": [
        "Video: [What is The Schrödinger Equation, Exactly?\n",
        "](https://youtu.be/QeUMFo8sODk)"
      ]
    },
    {
      "cell_type": "markdown",
      "metadata": {
        "id": "tOZ_2PtG2XgG"
      },
      "source": [
        "> $E \\Psi(x)=\\frac{-\\hbar^{2}}{2 m} \\frac{d^{2} \\Psi(x)}{d x^{2}}+V \\Psi(x)$\n",
        "\n",
        "* E = **Energy the electron** is allowed to have\n",
        "\n",
        "* $\\Psi$ = **Wavefunction** (most likely position of an electron)\n",
        "\n",
        "* **Kinetic energy**: $\\frac{-\\hbar^{2}}{2 m} \\frac{d^{2} \\Psi(x)}{d x^{2}}$ (klassische Form: $K E=\\frac{1}{2} m v^{2}$)\n",
        "\n",
        "* **Potential energy**: $V \\Psi(x)$"
      ]
    },
    {
      "cell_type": "markdown",
      "metadata": {
        "id": "rHutuyzk6Sr5"
      },
      "source": [
        "*What would a typical Schroedinger solution look like? - All the solutions to the wave function take these two forms:*\n",
        "\n",
        "> $\\Psi(x)=\\sqrt{\\frac{2}{L}} \\cos \\left(\\frac{\\pi n x}{L}\\right)$ when $n=1,3,5 \\ldots$ (is odd $)$\n",
        "\n",
        "> $\\Psi(x)=\\sqrt{\\frac{2}{L}} \\sin \\left(\\frac{\\pi n x}{L}\\right)$ when $n=2,4,6 \\ldots$ (is even)"
      ]
    },
    {
      "cell_type": "markdown",
      "metadata": {
        "id": "9ELVzEm879_7"
      },
      "source": [
        "*Now looking at $\\psi$, the probable position of an electron:*\n",
        "\n",
        "* central question: where is the electron?\n",
        "\n",
        "* n is the energy state / level of an electron (look above at quantum numbers)\n",
        "\n",
        "* When an electron is state n=1 (its first energy state) we apply the first formula: $\\Psi(x)=\\sqrt{\\frac{2}{L}} \\cos \\left(\\frac{\\pi n x}{L}\\right)$\n",
        "\n",
        "* then we get wave function for the electron that is in a given box in this case:\n",
        "\n",
        "![ggg](https://raw.githubusercontent.com/deltorobarba/repo/master/quantum_147.png)\n",
        "\n",
        "* And if we square it, we get the probability distribution (the probable position of an electron):\n",
        "\n",
        "![ggg](https://raw.githubusercontent.com/deltorobarba/repo/master/quantum_148.png)\n",
        "\n",
        "\n",
        "* And here some wave functions and probability densities for other energy states:\n",
        "\n",
        "![ggg](https://raw.githubusercontent.com/deltorobarba/repo/master/quantum_149.png)\n",
        "\n"
      ]
    },
    {
      "cell_type": "markdown",
      "metadata": {
        "id": "p-e7v8X968cf"
      },
      "source": [
        "*And the solution that popped out was this:*\n",
        "\n",
        "> $E=\\frac{\\hbar^{2} n^{2} \\pi^{2}}{2 m L^{2}}$\n",
        "\n",
        "* Everything is a constant ($\\hbar$, $\\pi$, 2, m, L) or a whole number (here: n, which stands for the different states of an electron)\n",
        "\n",
        "* which means that energy E can ony have certain discrete (=quantum) values"
      ]
    },
    {
      "cell_type": "markdown",
      "metadata": {
        "id": "D8XqTQH6D_AI"
      },
      "source": [
        "###### <font color=\"blue\">**Schrödinger equation: Time Dependent**"
      ]
    },
    {
      "cell_type": "markdown",
      "metadata": {
        "id": "LnCYfCNzqmG9"
      },
      "source": [
        "**Consider: Difference of probability in the position basis (changes over time) and the energy basis (doesn't change):** \n",
        "\n",
        "> <font color=\"red\">**The electron is still in the same shell, represented by the principal quantum number for example, because if the electron changes the shell, energy needs to be added or removed from the overall system. however if energy stays the same, it means the electron is still in the same shell, but \"moving\" around = probability distribution of finding it somewhere in this shell changes over time which is represented by the rotation $e^{i \\frac{\\hat{H} * t}{\\hbar}}$**</font>"
      ]
    },
    {
      "cell_type": "markdown",
      "metadata": {
        "id": "4d7R7AfG_JW4"
      },
      "source": [
        "Die [Schrödingergleichung](https://de.wikipedia.org/wiki/Schrödingergleichung) ist eine grundlegende Gleichung der Quantenmechanik. Sie beschreibt in Form einer partiellen Differentialgleichung die zeitliche Veränderung des quantenmechanischen Zustands eines nichtrelativistischen Systems. Die Gleichung wurde 1926 von Erwin Schrödinger zuerst als Wellengleichung aufgestellt und bei ihrer ersten Anwendung erfolgreich zur Erklärung der [Spektren des Wasserstoffatoms](https://de.wikipedia.org/wiki/Wasserstoffatom#Lösung_der_Schrödinger-Gleichung_(Wasserstoffproblem)) genutzt.\n"
      ]
    },
    {
      "cell_type": "markdown",
      "metadata": {
        "id": "4pwFKuhbFvQR"
      },
      "source": [
        ">$\n",
        "\\left[-\\frac{\\hbar^{2}}{2 m} \\nabla^{2}+V(\\vec{r})\\right] \\psi(\\vec{r})=E \\psi(\\vec{r})\n",
        "$\n",
        "\n",
        "The object on the left that acts on $\\psi(x)$ is an example of an operator.\n",
        "\n",
        ">$\n",
        "\\left[-\\frac{\\hbar^{2}}{2 m} \\nabla^{2}+V(\\vec{r})\\right]\n",
        "$ = Operator\n",
        "\n",
        "In effect, what is says to do is \"take the second derivative of $\\psi(x)$, multiply the result by $-\\left(\\hbar^{2} / 2 m\\right)$ and then add $V(x) \\psi(x)$ to the result of that.\" \n",
        "\n",
        "Quantum mechanics involves many different types of operators. This one, however, plays a special role because it appears on the left side of the Schrödinger equation. **It is called the Hamiltonian operator and is denoted as**\n",
        "\n",
        "> $\n",
        "\\hat{H}=-\\frac{\\hbar^{2}}{2 m} \\nabla^{2}+V(\\vec{r})\n",
        "$"
      ]
    },
    {
      "cell_type": "markdown",
      "metadata": {
        "id": "Pae7qA-UANx_"
      },
      "source": [
        "**Therefore the time-dependent Schrödinger equation can be written as**:"
      ]
    },
    {
      "cell_type": "markdown",
      "metadata": {
        "id": "0S2jiylKzBUR"
      },
      "source": [
        "> $\n",
        "\\hat{H} \\psi(x, t)=i \\hbar \\frac{\\partial}{\\partial t} \\psi(x, t)\n",
        "$\n",
        "\n",
        "with $\\hat{H}$ = $(-\\frac{\\hbar^{2}}{2 m} \\nabla^{2}+V(\\vec{r}))$ will be:\n",
        "\n",
        "> $\n",
        "(-\\frac{\\hbar^{2}}{2 m} \\nabla^{2}+V(\\vec{r})) \\; \\psi(x, t)=i \\hbar \\frac{\\partial}{\\partial t} \\psi(x, t)\n",
        "$\n",
        "\n",
        "bzw. rewritten:\n",
        "\n",
        "> $\\left[-\\frac{\\hbar^{2}}{2 m} \\frac{\\partial^{2}}{\\partial x^{2}}+V(x, t)\\right] \\Psi(x, t) = i \\hbar \\frac{\\partial}{\\partial t} \\Psi(x, t)$\n",
        "\n",
        "bzw written in another way (single particle variant):\n",
        "\n",
        "> <font color=\"red\">$[-\\frac{\\hbar^{2}}{2 m} \\nabla^{2} $</font> + <font color=\"green\">$V(x, t)$</font> ] \n",
        " <font color=\"blue\">$|\\psi\\rangle$</font> = $i \\hbar \\frac{\\partial}{\\partial t}$ <font color=\"blue\">$|\\psi\\rangle$</font>\n",
        "\n",
        "* <font color=\"red\">$[-\\frac{\\hbar^{2}}{2 m} \\nabla^{2} $</font> Kinetic energy\n",
        "\n",
        "* <font color=\"green\">$V(x, t)$</font> Potential energy\n",
        "\n",
        "* <font color=\"blue\">$|\\psi\\rangle$</font>  the wave function"
      ]
    },
    {
      "cell_type": "markdown",
      "metadata": {
        "id": "6ohyipj1oI0H"
      },
      "source": [
        "https://en.wikipedia.org/wiki/Schrödinger_equation"
      ]
    },
    {
      "cell_type": "markdown",
      "metadata": {
        "id": "gns9d_fkn_PW"
      },
      "source": [
        "https://www.youtube.com/watch?v=w9Kyz5y_TPw"
      ]
    },
    {
      "cell_type": "markdown",
      "metadata": {
        "id": "uoFx4myaOKS9"
      },
      "source": [
        "<font color=\"blue\">**Schrödinger equation: Time Evolution (Derivation)**"
      ]
    },
    {
      "cell_type": "markdown",
      "metadata": {
        "id": "b5j7-EPBqCMw"
      },
      "source": [
        "From Video: [The Schrodinger equation made simple | Linearity](https://youtu.be/ZfKq3g3MHqE)"
      ]
    },
    {
      "cell_type": "markdown",
      "metadata": {
        "id": "cZ4XNROr0OZK"
      },
      "source": [
        "Physics: given an initial state x and its velocity, what's the position at time x later? This is what we want also in quantum mechanics!\n",
        "\n",
        "![ggg](https://raw.githubusercontent.com/deltorobarba/repo/master/quantum_153.png)"
      ]
    },
    {
      "cell_type": "markdown",
      "metadata": {
        "id": "HqvZxCtk0izu"
      },
      "source": [
        "That's what the Schroedinger equation is for: to say what's the future state of a system?"
      ]
    },
    {
      "cell_type": "markdown",
      "metadata": {
        "id": "lubXmv2-3UkG"
      },
      "source": [
        "> $i \\hbar \\frac{\\partial}{\\partial t} |\\Psi (t) \\rangle = -\\frac{\\hbar^{2}}{2 m} \\nabla^{2} |\\Psi (t) \\rangle +\\hat{V} |\\Psi (t) \\rangle$\n",
        "\n",
        "Easier form:\n",
        "\n",
        "> $|\\Psi (t) \\rangle = e^{\\frac{i H t}{\\hbar}} |\\psi (0) \\rangle$\n",
        "\n",
        "* the state of a quantum particle of given by the wave function\n",
        "\n",
        "* $|\\psi (0) \\rangle$ this is the wave function at the start, the Schrodinger equation tells you that the time evolver $e^{\\frac{i H t}{\\hbar}}$ acts on the original wave function to produce the wave function t seconds into the future $|\\Psi (t) \\rangle$\n",
        "\n",
        "* **So what is this transformation (time evolver) $e^{\\frac{i H t}{\\hbar}}$ and why is it that way?**\n",
        "\n",
        "  * it comes down to conservation of energy\n",
        "\n",
        "  * time evolution is linear\n",
        "\n",
        "  * if I have an object and 2 different possible states $\\alpha |0\\rangle$ and $\\beta |1\\rangle$ to start with. we apply time evolution to each and then we see how they evolve.\n",
        "  \n",
        "  * and then imagine I have a superposition of these two states $\\alpha |0\\rangle$ and $\\beta |1\\rangle$. It will be a superposition of the evolution of each of the states. the final outcome is a linear combination of those two: $\\alpha |0\\rangle$ + $\\beta |1\\rangle$\n",
        "\n",
        "  * **The time evolution of a superposition is the linear combination of the time evolution of each of the states.**\n",
        "\n",
        "  * This even holds if you write the same state in a different basis, for example instead a position basis you choose a momentum basis. So these two states are then equal to each other: they are both the future state. \n",
        "\n",
        "* So the general statement of linearity is this, which $T$ being the time evolution operator $e^{\\frac{i H t}{\\hbar}}$:\n",
        "\n",
        "> $T |\\Psi_{(t=0)} \\rangle =  \\alpha_1 |\\Psi (0) \\rangle + \\alpha_2 |\\Psi (1) \\rangle + \\alpha_3 |\\Psi (2) \\rangle$\n",
        "\n",
        "> $T |\\Psi_{(t=0)} \\rangle =  \\alpha_1 T|\\Psi (0) \\rangle + \\alpha_2 T|\\Psi (1) \\rangle + \\alpha_3 T|\\Psi (2) \\rangle$\n",
        "\n",
        "* each part of the superposition evolves completely unaware and independent of the other superposition part.\n",
        "\n",
        "* this breaks only by measurement. During the measurement, the branches of the superposition have the chance to interact with each other (so it's not linear anymore). So, **measurement doesn't follow the Schrodinger equation ('the measurement problem')**. (Many worlds and pilot-wave mechanics were proposed to get around this)."
      ]
    },
    {
      "cell_type": "markdown",
      "metadata": {
        "id": "P-3zZ_TLNR_4"
      },
      "source": [
        "**If you have a superposition of some states and you apply the time evolution operator**:\n",
        "\n",
        "> $T\\left(\\alpha_{1}\\left|\\psi_{1}\\right\\rangle+\\alpha_{2}\\left|\\psi_{2}\\right\\rangle+\\ldots\\right)=\\alpha_{1} T\\left|\\psi_{1}\\right\\rangle+\\alpha_{2} T\\left|\\psi_{2}\\right\\rangle+\\ldots$\n",
        "\n",
        "You can also write each of these in the energy Eigenbasis (because time evolution is very easy in that basis):\n",
        "\n",
        "> $\\left|\\psi_{1}\\right\\rangle=\\beta_{11}\\left|E_{1}\\right\\rangle+\\beta_{12}\\left|E_{2}\\right\\rangle+\\ldots$\n",
        "\n",
        "> $\\left|\\psi_{2}\\right\\rangle=\\beta_{21}\\left|E_{1}\\right\\rangle+\\beta_{22}\\left|E_{2}\\right\\rangle+\\ldots$\n",
        "\n",
        "this will turn into:\n",
        "\n",
        "> $=T\\left(\\alpha_{1}\\left(\\beta_{11}\\left|E_{1}\\right\\rangle+\\beta_{12}\\left|E_{2}\\right\\rangle+\\ldots\\right)+\\alpha_{2}\\left(\\beta_{21}\\left|E_{1}\\right\\rangle+\\beta_{22}\\left|E_{2}\\right\\rangle+\\ldots\\right)+\\ldots\\right.$\n",
        "\n",
        "and factoring in and rewriting the time evolution operator $T = e^{\\frac{i \\mathcal{H} t}{\\hbar}} = e^{\\frac{i E t}{\\hbar}}$:\n",
        "\n",
        "> $=\\alpha_{1}\\left(\\beta_{11} e^{\\frac{i E_1 t}{\\hbar}}\\left |E_{1}\\right\\rangle+\\beta_{12} e^{\\frac{i E_2 t}{\\hbar}} \\left|E_{2}\\right\\rangle+\\ldots\\right)+\\alpha_{2}\\left(\\beta_{21} e^{\\frac{i E_1 t}{\\hbar}} \\left|E_{1}\\right\\rangle+\\beta_{22} e^{\\frac{i E_2 t}{\\hbar}} \\left|E_{2}\\right\\rangle+\\ldots\\right)+\\ldots.$\n",
        "\n",
        "Taken from [Schrodinger equation comment response and homework answers video](https://www.youtube.com/watch?v=M_2h5uQ0SIc)"
      ]
    },
    {
      "cell_type": "markdown",
      "metadata": {
        "id": "Ft4kBr8aQ2Bd"
      },
      "source": [
        "<font color=\"blue\">**Schrodinger equation: Derivation and how to use it (in Time Evolution)**"
      ]
    },
    {
      "cell_type": "markdown",
      "metadata": {
        "id": "PeyMeXCppEsP"
      },
      "source": [
        "From Video [Schrodinger equation | Derivation and how to use it](https://www.youtube.com/watch?v=DEgWbrMv6-k)"
      ]
    },
    {
      "cell_type": "markdown",
      "metadata": {
        "id": "kblbyPVYpV5a"
      },
      "source": [
        "Important rules of physics:\n",
        "\n",
        "* Conservation of energy -> deeply integrated into Schrodinger equation\n",
        "* total energy doesn't change\n",
        "* you can't make of destroy energy\n",
        "\n",
        "**Since we can write a quantum state $|\\Psi \\rangle$ in whatever basis we want, we can choose the energy Eigenbasis**. <font color=\"red\">what is meant by that? is that the principle quantum number for example</font>\n",
        "\n",
        "* We can write a state as the superposition of different energies. \n",
        "\n",
        "* And if we measure the energy of the particle it will be one of these with their probability\n",
        "\n",
        "> $|\\Psi \\rangle$ = $\\alpha |\\Psi \\rangle + \\beta |\\Psi \\rangle + \\gamma |\\Psi \\rangle$ \n",
        "\n",
        "* with probability for example $|\\beta|^2$ for measuring second state\n",
        "\n",
        "**Say the state evolves in time, in other words we apply the time evolution $U$ (or $T$) to $|\\Psi \\rangle$, so $T |\\Psi \\rangle$** \n",
        "\n",
        "* what condition do we want to impose on the new energies of the state? \n",
        "\n",
        "* In other words: how we want conservation of energy to look in quantum mechanics?\n",
        "\n",
        "**Let's start where a particle just has one energy $E$ when we start**\n",
        "\n",
        "* means: it is an energy Eigenstart !!\n",
        "\n",
        "* we evolve it forward in time and look at the energy of the new state. That energy should be also $E$, otherwise energy wouldn't be conserved (Like in classical mechanics).\n",
        "\n",
        "> $|\\Psi \\rangle$ = $|1 \\rangle$ $\\rightarrow$ $T|\\Psi \\rangle$\n",
        "\n",
        "* Now also the average energy shouldn't change after some time, otherwise the energy wouldn't be conserved either.\n",
        "\n",
        "> $|\\Psi \\rangle$ = $\\alpha |\\Psi \\rangle + \\beta |\\Psi \\rangle + \\gamma |\\Psi \\rangle$ \n",
        "\n",
        "* if you measured athe particle's energy initially with a certain probability $|\\beta|^2$, and then after time evolution again, it should be the same probability to measure that energy!\n",
        "\n",
        "* this is so strong, it gives us the schroedinger equation"
      ]
    },
    {
      "cell_type": "markdown",
      "metadata": {
        "id": "GYJSqPPVvk5u"
      },
      "source": [
        "**We need to how the coefficients have changed in the new equation after time evolution**:\n",
        "\n",
        "> $|\\Psi \\rangle$ = $\\alpha |\\Psi \\rangle + \\beta |\\Psi \\rangle + \\gamma |\\Psi \\rangle$ (before)\n",
        "\n",
        "> $T |\\Psi \\rangle$ = $\\alpha' |\\Psi \\rangle + \\beta' |\\Psi \\rangle + \\gamma' |\\Psi \\rangle$ (after)\n",
        "\n",
        "* We want the probability to be the same, but that probability is just the lenght of this compex number squared $|\\gamma|^2 = |\\gamma'|^2 = 1$\n",
        "\n",
        "> <font color=\"red\">**So each coefficient can be represented as an arrow with equal length $|\\gamma|^2$ and $|\\gamma'|^2$ (hence the probability of measuring that energy this state is still the same!!), BUT $|\\gamma'|^2$ may be rotated by an angle $\\phi$**. This angle is new vector = rotation * old vector:</font>\n",
        "\n",
        "> <font color=\"red\">$\\gamma' = e^{i\\phi}\\gamma$</font>\n",
        "\n",
        "Let's plug that rotation $e^{i\\phi}$ in to our previous equation:\n",
        "\n",
        "> <font color=\"red\">$T |\\Psi \\rangle$ = $e^{i\\phi_1}\\alpha |\\Psi \\rangle + e^{i\\phi_2}\\beta |\\Psi \\rangle + e^{i\\phi_3}\\gamma |\\Psi \\rangle$</font>\n",
        "\n",
        "* where the angles / rotations $e^{i\\phi}$ are different for every energy = they are all rotated by a different amount !! Otherwise the rotation can be brought out and present and future state would be the essentially same:\n",
        "\n",
        "> $T |\\Psi \\rangle$ = $e^{i\\phi}\\alpha |\\Psi \\rangle + e^{i\\phi}\\beta |\\Psi \\rangle + e^{i\\phi}\\gamma |\\Psi \\rangle$ = $e^{i\\phi} (\\alpha |\\Psi \\rangle + \\beta |\\Psi \\rangle + \\gamma |\\Psi \\rangle)$ (this is showing that it's wrong!)\n",
        "\n",
        "The overall rotation wouldn't affect any measurement outcomes. Means no matter in which crazy situation you brought the particle in, it does nothing, which can't be right.\n",
        "\n",
        "> $T |\\Psi \\rangle$ = $e^{i\\phi}|\\Psi \\rangle$ (this is showing that it's wrong!\n",
        "\n",
        "\n",
        "* also the amount of rotation depends on time (little going forwardf = little rotation). That suggests the right amount of angle to rotate is Energy x Time. Plus some constants to deal with units and scaling etc.\n",
        "\n",
        "> <font color=\"red\">$\\phi = \\frac{E * t}{\\hbar}$</font>\n",
        "\n",
        "* And that's what the Schroedinger equation will tell you will happen to the state:\n",
        "\n",
        "> $T |\\Psi \\rangle$ = $e^{i \\frac{E * t}{\\hbar}}\\alpha |\\Psi \\rangle + e^{i \\frac{E * t}{\\hbar}}\\beta |\\Psi \\rangle + e^{i \\frac{E * t}{\\hbar}}\\gamma |\\Psi \\rangle$\n",
        "\n",
        "* And that's the same: (with $\\hat{H}$ for energy measurement operator, Hamiltonian):\n",
        "\n",
        "> <font color=\"red\">$T(t) |\\Psi \\rangle = e^{i \\frac{\\hat{H} * t}{\\hbar}}|\\Psi \\rangle$</font>\n"
      ]
    },
    {
      "cell_type": "markdown",
      "metadata": {
        "id": "O5X0v_AT0plx"
      },
      "source": [
        "**Let's apply this a bit**\n",
        "\n",
        "We can show the probabilities in the energy basis also in the position basis: Suppose that in the position basis, each of these had wave function that looked like this:\n",
        "\n",
        "\n",
        "![ggg](https://raw.githubusercontent.com/deltorobarba/repo/master/quantum_154.png)\n",
        "\n",
        "Then at the start, adding them up, the probability of finding a particle at various points looks like this:\n",
        "\n",
        "![ggg](https://raw.githubusercontent.com/deltorobarba/repo/master/quantum_155.png)\n",
        "\n",
        "\n",
        "But see how this evolves in time to give a probability  distribution that changes dramatically:\n",
        "\n",
        "![ggg](https://raw.githubusercontent.com/deltorobarba/repo/master/quantum_156.png)\n",
        "\n",
        "The reason is these complex numbers: at the start they all just added like normal to give you this. \n",
        "\n",
        "![ggg](https://raw.githubusercontent.com/deltorobarba/repo/master/quantum_157.png)\n",
        "\n",
        "\n",
        "![ggg](https://raw.githubusercontent.com/deltorobarba/repo/master/quantum_155.png)\n",
        "\n",
        "\n",
        "But later in time, when these complex numbers are pointing different ways, they don't just add up anymore. As an extreme example, if the two arrows from the second and third part pointed in opposite directions, they would subtract from one another. This is why the overall wave function in the position basis can vary so much over time:\n",
        "\n",
        "![ggg](https://raw.githubusercontent.com/deltorobarba/repo/master/quantum_158.png)\n",
        "\n",
        "![ggg](https://raw.githubusercontent.com/deltorobarba/repo/master/quantum_159.png)\n",
        "\n",
        "This means depending on the time one measures, the particle might have a very big probability of ending up here versus there:\n",
        "\n",
        "![ggg](https://raw.githubusercontent.com/deltorobarba/repo/master/quantum_160.png)\n",
        "\n",
        "\n"
      ]
    },
    {
      "cell_type": "markdown",
      "metadata": {
        "id": "gNLG9rqhqAMd"
      },
      "source": [
        "**Yet if you measure energy, you always get one of these three energies with these probabilities, no matter what time it is:** \n",
        "\n",
        "> <font color=\"red\">**I guess this means that the electron is still in the same shell, represented by the principal quantum number for example, because if the electron changes the shell, energy needs to be added or removed from the overall system. however if energy stays the same, it means the electron is still in the same shell, but \"moving\" around = probability distribution of finding it somewhere in this shell changes over time which is represented by the rotation $e^{i \\frac{\\hat{H} * t}{\\hbar}}$**</font>\n",
        "\n",
        "![ggg](https://raw.githubusercontent.com/deltorobarba/repo/master/quantum_161.png)"
      ]
    },
    {
      "cell_type": "markdown",
      "metadata": {
        "id": "NOM7uA8L8dzG"
      },
      "source": [
        "One last thing: **How do we know what the energy Eigenbasis is?**\n",
        "\n",
        "* if we take an energy Eigenvector, how do we find what it looks in the position basis?\n",
        "\n",
        "* Schrodinger also gave us an equation that defines what an energy Eigenstate is:\n",
        "\n",
        "> $\\hat{H} = \\frac{\\hat{p}^2}{2m}+ \\hat{V}$\n",
        "\n",
        "* $\\hat{H}$ being the total energy\n",
        "\n",
        "* $\\frac{\\hat{p}^2}{2m}$ being kinetic energy\n",
        "\n",
        "* $\\hat{V}$ being potential energy\n",
        "\n",
        "**The issue is that this equation is extremely hard to solve.** Probably impossible to solve for anything bigger than 2 particles, maybe with quantum computers. That's why physical chemists do so much hard work on the Schrodinger equation "
      ]
    },
    {
      "cell_type": "markdown",
      "metadata": {
        "id": "H4A1O5etKMYK"
      },
      "source": [
        "**Common result for 2 observations:**\n",
        "\n",
        "Time Evolution per each step, observer 1:\n",
        "\n",
        "> $| \\Psi \\rangle$ $\\rightarrow$ at $t_1$ = $e^{\\frac{i \\mathcal{H} t_1}{\\hbar}} | \\Psi \\rangle$ $\\rightarrow$ at $t_2$ = <font color=\"blue\">$e^{\\frac{i \\mathcal{H} t_2}{\\hbar}} (e^{\\frac{i \\mathcal{H} t_1}{\\hbar}} | \\Psi \\rangle)$</font>\n",
        "\n",
        "Time Evolution at the end for observer 2 (not seeing time step 1):\n",
        "\n",
        "\n",
        "> $| \\Psi \\rangle$ $\\rightarrow$ at $t_2$ = <font color=\"orange\">$e^{\\frac{i \\mathcal{H} (t_1 + t_2)}{\\hbar}} | \\Psi \\rangle$</font>\n",
        "\n",
        "Where:\n",
        "\n",
        "> <font color=\"orange\">$e^{\\frac{i \\mathcal{H} (t_1 + t_2)}{\\hbar}} | \\Psi \\rangle$</font> = <font color=\"blue\">$e^{\\frac{i \\mathcal{H} t_2}{\\hbar}} (e^{\\frac{i \\mathcal{H} t_1}{\\hbar}} | \\Psi \\rangle)$\n",
        "\n",
        "Why? - because our angle of rotation depends on $t$ (and not $t^2$ or anything): $T\\left(t_{1}+t_{2}\\right)=T\\left(t_{2}\\right) T\\left(t_{1}\\right)$\n",
        "\n",
        "Taken from [Schrodinger equation comment response and homework answers video](https://www.youtube.com/watch?v=M_2h5uQ0SIc)"
      ]
    },
    {
      "cell_type": "markdown",
      "metadata": {
        "id": "OCCvU0pIOaF1"
      },
      "source": [
        "###### <font color=\"blue\">**Miscellaneous**"
      ]
    },
    {
      "cell_type": "markdown",
      "metadata": {
        "id": "xzD9a8N-4A0e"
      },
      "source": [
        "> **Objective: Find out the allowed energy levels of the wave functions of an electron**"
      ]
    },
    {
      "cell_type": "markdown",
      "metadata": {
        "id": "QvpvFijYs2o3"
      },
      "source": [
        "> **If we want to study how a quantum system changes in time, we usually refer to the Schroedinger equation.**"
      ]
    },
    {
      "cell_type": "markdown",
      "metadata": {
        "id": "l9aMrKAf4dJQ"
      },
      "source": [
        "* Einstein discovered that energy is proportional to $h$ * frequency: $E = h * f$\n",
        "\n",
        "* $h$ is Planck's constant ([Plancksches Wirkungsquantum](https://de.wikipedia.org/wiki/Plancksches_Wirkungsquantum))\n",
        "\n",
        "* Beziehung zwischen der Energie eines Teilchens oder physikalischen Systems und der Frequenz seiner quantenmechanischen Phase ( = [Stationäre Zustände](https://de.wikipedia.org/wiki/Quantenmechanik#Stationäre_Zustände), Eigenzustände zum Hamilton-Operator $\\hat H$ )\n",
        "\n",
        "* nur bestimmte Frequenzen sind erlaubt, damit sind auch nur bestimmte energy levels fur ein elektron erlaubt, was man wiederum mit der schroedingergleichung ermitteln kann"
      ]
    },
    {
      "cell_type": "markdown",
      "metadata": {
        "id": "ojlq1ndR1U9o"
      },
      "source": [
        "**More on Schrödinger Equation**:\n",
        "\n",
        "> $i \\hbar \\frac{\\partial}{\\partial t} \\psi(\\mathbf{r}, t)=-\\frac{\\hbar^{2}}{2 m} \\nabla^{2} \\psi(\\mathbf{r}, t)+V(\\mathbf{r}, t) \\psi(\\mathbf{r}, t)$\n",
        "\n",
        "* $i$ is the imaginary number, $\\sqrt{-1}$.\n",
        "\n",
        "* $\\hbar$ is Planck's constant divided by $2 \\pi: 1.05459 \\times 10^{-34}$ joule second. \n",
        "\n",
        "* $\\psi(\\mathbf{r}, \\mathrm{t})$ is the wave function, defined over space and time.\n",
        "\n",
        "* $m$ is the mass of the particle.\n",
        "\n",
        "* $\\nabla^{2}$ is the Laplacian operator, $\\frac{\\partial^{2}}{\\partial x^{2}}+\\frac{\\partial^{2}}{\\partial y^{2}}+\\frac{\\partial^{2}}{\\partial z^{2}}$\n",
        "\n",
        "The general form is:\n",
        "\n",
        "> $\\hat{H} \\Psi=E \\Psi$\n",
        "\n",
        "* $\\hat{H}$: hamiltonian operator (energy operator)\n",
        "\n",
        "* $E$: Energy eigenvalue\n",
        "\n",
        "https://medium.com/nieuwsgierigheid/machine-learning-quantum-physics-27e316d4ed77\n",
        "\n",
        "> $\n",
        "\\frac{-\\hbar^{2}}{2 m} \\frac{\\partial^{2} \\Psi}{\\partial x^{2}}=i \\hbar \\frac{\\partial \\Psi}{\\partial t}\n",
        "$\n",
        "\n",
        "Schrodinger equation for free particle\n",
        "in one dimension\n",
        "\n",
        "http://hyperphysics.phy-astr.gsu.edu/hbase/quantum/Schr2.html"
      ]
    },
    {
      "cell_type": "markdown",
      "metadata": {
        "id": "qj4AYjBxo9zB"
      },
      "source": [
        "<font color=\"orange\">**Von Neumann Equation of Time Evolution</font>**"
      ]
    },
    {
      "cell_type": "markdown",
      "metadata": {
        "id": "1uKLI5h7pJze"
      },
      "source": [
        "> $\n",
        "i \\frac{\\partial \\rho}{\\partial t}=[\\hat{H}, \\rho]\n",
        "$"
      ]
    },
    {
      "cell_type": "markdown",
      "metadata": {
        "id": "9cTKQao8pNe3"
      },
      "source": [
        "Features the commutation relationship between the hamiltonian and the density matrix itself"
      ]
    },
    {
      "cell_type": "markdown",
      "metadata": {
        "id": "6OCsvVjACLvB"
      },
      "source": [
        "https://chem.libretexts.org/Bookshelves/Physical_and_Theoretical_Chemistry_Textbook_Maps/Time_Dependent_Quantum_Mechanics_and_Spectroscopy_(Tokmakoff)/05%3A_The_Density_Matrix/5.02%3A_Time-Evolution_of_the_Density_Matrix"
      ]
    },
    {
      "cell_type": "markdown",
      "metadata": {
        "id": "XRBMQYB4nyqI"
      },
      "source": [
        "**<font color=\"orange\">Quantum Many-Body Physics</font>**"
      ]
    },
    {
      "cell_type": "markdown",
      "metadata": {
        "id": "8s9j3TQjs1Ml"
      },
      "source": [
        "![geometry](https://raw.githubusercontent.com/deltorobarba/repo/master/quantum_011.png)"
      ]
    },
    {
      "cell_type": "markdown",
      "metadata": {
        "id": "fkf-V6Z6o3g9"
      },
      "source": [
        "https://www.youtube.com/watch?v=MmpOva4-XPg&list=PLBn8lN0Dcvpla6a6omBni1rjyQJ4CssTP&index=51"
      ]
    },
    {
      "cell_type": "markdown",
      "metadata": {
        "id": "VngHYAEkscg4"
      },
      "source": [
        "* The Schroedinger Equation gives us the time evolution of a quantum system, it includes the wave function\n",
        "\n",
        "* the wave function is the quantum state of the particle or system of particles\n",
        "\n",
        "* its time evolution is governed by the Schroedinger Equation\n",
        "\n",
        "* and we are typically interested in either how a qubit, electron or atom behaves at some later time (prediction ability) - this is very difficult:\n",
        "\n",
        "* one body problem: hydrogen atom with 1 electron around 1 proton, and the electron feeling the influence of the proton. - time evolution of this system easy to solve, almost exactly in closed form. \n",
        "\n",
        "* N=2 for helium atom: nucleus of 2 protons and 2 separate electrons orbiting around. No known closed form solution for equations of motion.\n",
        "\n",
        "* one logical qubit is made of several hundreds to several thousands of physical qubits\n",
        "\n",
        "* so the quantum many body problem that we want to solve for a typical scenario of a quantum computer (implementing Shor's algorithm for a 2048-bit RSA) is somewhere at N > 4000 logical qubits, which is about 5 mio physical qubits.\n",
        "\n",
        "* this is the essence of the quantum many body problem as applied to essential quantum computers."
      ]
    },
    {
      "cell_type": "markdown",
      "metadata": {
        "id": "-LCP9tebs6E6"
      },
      "source": [
        "**Many-Body Behavior of Spins**"
      ]
    },
    {
      "cell_type": "markdown",
      "metadata": {
        "id": "S82YfIpUzDiI"
      },
      "source": [
        "![geometry](https://raw.githubusercontent.com/deltorobarba/repo/master/quantum_012.png)"
      ]
    },
    {
      "cell_type": "markdown",
      "metadata": {
        "id": "nlPsheq8s_2U"
      },
      "source": [
        "https://www.youtube.com/watch?v=7HayIq9OR2E&list=PLBn8lN0Dcvpla6a6omBni1rjyQJ4CssTP&index=52"
      ]
    },
    {
      "cell_type": "markdown",
      "metadata": {
        "id": "3_dYq9WXzBD1"
      },
      "source": [
        "* lets focus the many body physics on the simplest quantum system which is the quantum number associated with spin or angular momentum for example of the electron. \n",
        "\n",
        "* this neglects all other complications due to position, momentum, charge, spin orbit coupling, hyperfine splitting. So we focus on on spin.\n",
        "\n",
        "* spin 1/2 gives us an effective two state quantum system, like up or down\n",
        "\n",
        "* lets consider only n spins that just occur between Z components of their angular momentum\n",
        "\n",
        "* hamiltonian covers all the time evolution in the schroedinger equation\n",
        "\n",
        "* Ising model: sort of simplest model of interacting spins. Typically used not only in physical processes like quantum magnetism, also used to encode optimization problems. Look for lowest energy state governed but this equation. \n",
        "\n",
        "* you could look into all possible spin configurations, and calculate the energy according to this hamiltonian. But this would be a $2^n$ states.\n",
        "\n",
        "* in Boltzmann is the partition function: it runs through all possible configurations and is weighed by the Boltzmann weight.\n",
        "\n",
        "* d wave.. facilitate optimization\n",
        "\n",
        "* diagonalization to get eigenvalues, but escalates also quickly, max N + 20-40: we can do better than this only with a quantum computer (=quantum supremacy)\n",
        "\n"
      ]
    },
    {
      "cell_type": "markdown",
      "metadata": {
        "id": "UC7T8Hb_UyIA"
      },
      "source": [
        "**Strategies to Solve the Many-Body Problem**"
      ]
    },
    {
      "cell_type": "markdown",
      "metadata": {
        "id": "cHJvx6iJVD6m"
      },
      "source": [
        "![geometry](https://raw.githubusercontent.com/deltorobarba/repo/master/quantum_013.png)"
      ]
    },
    {
      "cell_type": "markdown",
      "metadata": {
        "id": "dhozjk8IU0F7"
      },
      "source": [
        "https://www.youtube.com/watch?v=uTCeQHzQMdc"
      ]
    },
    {
      "cell_type": "markdown",
      "metadata": {
        "id": "9isGvqndjGj9"
      },
      "source": [
        "**<font color=\"orange\">Pauli-matrix $\\sigma^Z$ (Transverse Field Ising Model)**</font>"
      ]
    },
    {
      "cell_type": "markdown",
      "metadata": {
        "id": "wGTR5VHzjJUY"
      },
      "source": [
        "![geometry](https://raw.githubusercontent.com/deltorobarba/repo/master/quantum_010.png)"
      ]
    },
    {
      "cell_type": "markdown",
      "metadata": {
        "id": "PwrdIi-wjM0L"
      },
      "source": [
        "https://www.youtube.com/watch?v=egli0tC1tRo&list=PLBn8lN0Dcvpla6a6omBni1rjyQJ4CssTP&index=50"
      ]
    },
    {
      "cell_type": "markdown",
      "metadata": {
        "id": "M-Dq_XeNknbT"
      },
      "source": [
        "* we introduced a simple model from statistical mechanics called the Ising model, but nothing quantum is happening in it\n",
        "\n",
        "* but we are interested in quantum computers and their relationship to quantum system. So we need to look at a quantum many body system. So we will write our classical Ising model in a. More quantum mechanical form.\n",
        "\n",
        "* we had the Hamiltonian of binary variables. In quantum mechanics we have states and operators acting on them. Lets look at a particular operator that could act on a qubit. \n",
        "\n",
        "* the sigma Z operator $\\sigma^Z$ is called a Pauli-matrix, the Z-Pauli-matrix. When you apply this operator ion the 0 ket, you get the 0 ket, which will show a plus 1. But if you pally it to the 1 ket it picks up a sign, the -1. By applying this operator on the basis vector states you the get effect of getting plus 1 or minus 1, as a probability amplitude before the actual state. The Hamiltonian now gets operators (the little z on top) acting on a particular qubit. \n",
        "\n",
        "* now we want to calculate the expectation value, we because we are interested in the energy of the system. The Hamilton energy / expectation value of a system is exactly between bra and ket, like a sandwich. This can be calculated easily.\n",
        "\n",
        "* the Hamiltonian is commuting, means: every single one of the matrices commutes with one another. But that's still classical.\n",
        "\n",
        "* so now we add the transverse field. Adding is one more interaction with sigma x $\\sigma^x$. But if you multiply sigma z and sigma x you don't get the same result as the other way around. So it matters in which order you use these operators. So if you add sigma X to the Hamiltonian, it will no longer commute.\n",
        "\n",
        "* the Eigenvalue will correspond to the energy of the system. The lowest Eigenvalue will correspond to the energy for that particular operator\n",
        "\n",
        "* When you try to minimize the energy of a system, this term (pink at the end of the Hamiltonian, the Transverse field with the sigma X operator) tries to push it into a superposition, whereas the sigma Z interactions are trying to be deterministically either zero or one. This is where you get the quantum effect by pushing it towards a superposition, and having this non commuting term. "
      ]
    },
    {
      "cell_type": "markdown",
      "metadata": {
        "id": "gnCFRiVapbMJ"
      },
      "source": [
        "**<font color=\"orange\">Quantum Computations in Quantum Systems</font>**"
      ]
    },
    {
      "cell_type": "markdown",
      "metadata": {
        "id": "IPGrPQgXb0DU"
      },
      "source": [
        "**Evolution in Closed Quantum Systems**"
      ]
    },
    {
      "cell_type": "markdown",
      "metadata": {
        "id": "YKJvnIKfcWPD"
      },
      "source": [
        "![geometry](https://raw.githubusercontent.com/deltorobarba/repo/master/quantum_007.png)"
      ]
    },
    {
      "cell_type": "markdown",
      "metadata": {
        "id": "Dn9Aa6A_b3-8"
      },
      "source": [
        "https://www.youtube.com/watch?v=P-mGqiKcEKE&list=PLBn8lN0Dcvpla6a6omBni1rjyQJ4CssTP&index=47"
      ]
    },
    {
      "cell_type": "markdown",
      "metadata": {
        "id": "XaoIrW2YfawM"
      },
      "source": [
        "* now let's look at **how we do a quantum computation, in other words: how do we evolve this quantum probability distributon**\n",
        "\n",
        "* we start with closed system, which means the evolution is going to be unitary (idealized version. Of a quantum calculation)\n",
        "\n",
        "* first lets see how we transform classical probability distributions: in classic we have a stochastic vector and transform them by applying a stochastic matrix to get a new stochastic vector, which is still a probability distribution. In this case it's a left stochastic matrix - means the columns of this matrix end up to one. \n",
        "\n",
        "* in quantum states we want to apply some operation on the state and whatever we get want to be sure it's still a quantum state. \n",
        "\n",
        "* this is the idealized computation of the quantum computer execution\n",
        "\n",
        "* the matrix that fulfills this condition has the property that's unitary: when you apply its complex conjugate (its inverse), you get the identity. Properties:\n",
        "\n",
        "\t* preserves L2 norm (otherwise final result would not be a quantum state)\n",
        "\n",
        "\t* linear (addition and scalar) - this becomes a bit difficult when we apply non-linear operations like machine learning. Then we have to resort on all sorts of approximations. \n",
        "\n",
        "\t* calculation is reversable (this contrasts to classical computing where you lose information as you proceed in a calculation, like the end logic gate what where the 2 initial bits. This cannot happen in idealized quantum system) -> example on the right side with an operation that's called the not gate or X gate.\n"
      ]
    },
    {
      "cell_type": "markdown",
      "metadata": {
        "id": "eeU6U3wZflbT"
      },
      "source": [
        "**Open Quantum Systems**"
      ]
    },
    {
      "cell_type": "markdown",
      "metadata": {
        "id": "aTdQ2l-Jf5EP"
      },
      "source": [
        "![geometry](https://raw.githubusercontent.com/deltorobarba/repo/master/quantum_008.png)"
      ]
    },
    {
      "cell_type": "markdown",
      "metadata": {
        "id": "nOn4NMj_frbO"
      },
      "source": [
        "https://www.youtube.com/watch?v=_fmBNpDEen4&list=PLBn8lN0Dcvpla6a6omBni1rjyQJ4CssTP&index=48"
      ]
    },
    {
      "cell_type": "markdown",
      "metadata": {
        "id": "OzEL_ysgkwEx"
      },
      "source": [
        "* before we talked about evolution in closed systems which is exactly what a universal idealized quantum computer wants to achieve. \n",
        "\n",
        "* real quantum system are not closed systems, but open. This means a quantum processing unit is embedded in an environment or thermal bath. And system interacts with environment in uncontrolled fashion. \n",
        "\n",
        "* Since the interaction happens, the system's now evolution is no longer described as a unitary operation. It's described by a very different mathematical object. \n",
        "\n",
        "* technically is a CP-TP-map: completely trees preserving map: https://en.m.wikipedia.org/wiki/Quantum_channel\n",
        "\n",
        "Lets now talk about decoherence:\n",
        "\n",
        "* we introduced density matrices. And now tae a density matrix of a pure state (for example of the equal super position of the 0 and 1 ket).\n",
        "\n",
        "* we can mix it with random noise, which is just the identity matrix divided by the number of dimensions - which would correspond to the maxim of mixed state, the classical [uniform distribution](https://de.wikipedia.org/wiki/Stetige_Gleichverteilung)\n",
        "\n",
        "* we can control how much noise we have, by tuning in the parameter called viability: \n",
        "\n",
        "\t* 1 is pure state, \n",
        "\n",
        "\t* the more we mix, the more the coherences vanish\n",
        "\n",
        "\t* when we reach zero visibility we have maximum state \n",
        "\n",
        "* So the speed at which this happens affects our quantum calculations because we want to finish the calculation before the systems completely decoheres. \n",
        "\n",
        "> This is sometimes called the T2 time / [Spin–spin relaxation](https://en.m.wikipedia.org/wiki/Spin–spin_relaxation) and it's one of the characteristics that you look at when you study how good a quantum computer is!\n",
        "\n",
        "* another way of looking at it is an equilibration process. So this model is actually the exact same thing what happens to a cup of coffee: it interacts with the environment (temperature change) and for a quantum system it's called the thermal state at the end\n",
        "\n",
        "* it's a very specific form: the configuration corresponding to certain energies follow a particular probability distribution - the Boltzmann distribution P(Ei)"
      ]
    },
    {
      "cell_type": "markdown",
      "metadata": {
        "id": "pVcbZ_aNnvNJ"
      },
      "source": [
        "### <font color=\"blue\">**Mathematics $\\otimes$**"
      ]
    },
    {
      "cell_type": "markdown",
      "metadata": {
        "id": "Qhb3ipJHUKJW"
      },
      "source": [
        "###### **<font color=\"orange\">Complex Numbers, Group Theory (Unitary Operators) and C*-Algebra**"
      ]
    },
    {
      "cell_type": "markdown",
      "metadata": {
        "id": "Vu66cTbSUM6Q"
      },
      "source": [
        "Während sich die Menge $\\mathbb {R}$  der reellen Zahlen durch Punkte auf einer Zahlengeraden veranschaulichen lässt, kann man die Menge $ \\mathbb {C}$ der komplexen Zahlen als Punkte in einer Ebene (komplexe Ebene, gaußsche Zahlenebene) darstellen\n",
        "\n",
        "*Gaußsche Ebene mit einer komplexen Zahl in kartesischen Koordinaten (a,b) und in Polarkoordinaten (r,φ)*\n",
        "\n",
        "![gg](https://upload.wikimedia.org/wikipedia/commons/thumb/c/c6/Komplexe_zahlenebene.svg/320px-Komplexe_zahlenebene.svg.png)\n",
        "\n",
        "* die Addition komplexer Zahlen entspricht der Vektoraddition, wobei man die Punkte in der Zahlenebene mit ihren Ortsvektoren identifiziert. \n",
        "\n"
      ]
    },
    {
      "cell_type": "markdown",
      "metadata": {
        "id": "B8drSec8eMOQ"
      },
      "source": [
        "**Drehstreckung: Multiplikation komplexer Zahlen in der gaußschen Ebene**"
      ]
    },
    {
      "cell_type": "markdown",
      "metadata": {
        "id": "1BH9FJGFeJQt"
      },
      "source": [
        "Die Multiplikation ist in der gaußschen Ebene eine [Drehstreckung](https://de.m.wikipedia.org/wiki/Drehstreckung), was nach Einführung der Polarform weiter unten klarer werden wird.\n",
        "\n",
        "* Jede Drehstreckung (mit Ausnahme der Identität) hat genau einen Fixpunkt, auch Zentrum genannt. Liegt dieser Fixpunkt im Koordinatenursprung, so lässt sich die Drehstreckung als Matrixmultiplikation schreiben:\n",
        "\n",
        "> $\n",
        "\\left(\\begin{array}{l}\n",
        "x \\\\\n",
        "y\n",
        "\\end{array}\\right) \\mapsto\\left(\\begin{array}{cc}\n",
        "r \\cos \\phi & -r \\sin \\phi \\\\\n",
        "r \\sin \\phi & r \\cos \\phi\n",
        "\\end{array}\\right) \\cdot\\left(\\begin{array}{l}\n",
        "x \\\\\n",
        "y\n",
        "\\end{array}\\right)=\\left(\\begin{array}{l}\n",
        "r \\cos \\phi \\cdot x-r \\sin \\phi \\cdot y \\\\\n",
        "r \\sin \\phi \\cdot x+r \\cos \\phi \\cdot y\n",
        "\\end{array}\\right)\n",
        "$\n",
        "\n",
        "  * **Dabei ist $r \\neq 0$ der Skalierungsfaktor und $\\phi$ der Drehwinkel**.\n",
        "\n",
        "\n",
        "  * In der komplexen Ebene lässt sich die gleiche Abbildung als komplexe Multiplikation schreiben:\n",
        "\n",
        "> <font color=\"blue\">**$\n",
        "z \\mapsto r e^{i \\phi} \\cdot z$</font> $ \\quad \\text { mit } z \\in \\mathbb{C}, r \\in \\mathbb{R} \\backslash\\{0\\}, \\phi \\in \\mathbb{R}\n",
        "$**\n",
        "\n",
        "  * Im Unit circle ist Skalierungsfaktor $r \\neq 0$ = 1 und kann weggelassen werden."
      ]
    },
    {
      "cell_type": "markdown",
      "metadata": {
        "id": "t5xvXQ13acxr"
      },
      "source": [
        "**Komplexe Zahlen in Polarform**"
      ]
    },
    {
      "cell_type": "markdown",
      "metadata": {
        "id": "EfCXLkHXWVy8"
      },
      "source": [
        "Verwendet man anstelle der kartesischen Koordinaten \n",
        "\n",
        "> $a=\\operatorname{Re}(z)$ und $b=\\operatorname{Im}(z)$ \n",
        "\n",
        "die Polarkoordinaten \n",
        "\n",
        "> $r=|z|$ und $\\varphi=\\arg (z)$ \n",
        "\n",
        "mit arg als der Argument-Funktion, kann man die komplexe Zahl $z=a+b$ i auch in der folgenden, auf der eulerschen Relation beruhenden sogenannten Polarform (auch Polardarstellung) darstellen: \n",
        "\n",
        ">$\n",
        "z=r \\cdot \\mathrm{e}^{\\mathrm{i} \\varphi}=r \\cdot(\\cos \\varphi+\\mathrm{i} \\cdot \\sin \\varphi)\n",
        "$\n",
        "\n",
        "die sich aus \n",
        "\n",
        "> $a=r \\cdot \\cos \\varphi$ und $b=r \\cdot \\sin \\varphi$ \n",
        "\n",
        "ergibt."
      ]
    },
    {
      "cell_type": "markdown",
      "metadata": {
        "id": "d9olhX_emzjD"
      },
      "source": [
        "Die Darstellung mit Hilfe der komplexen e-Funktion heißt dabei auch **Exponentialdarstellung (der Polarform)**:\n",
        "\n",
        "> <font color=\"blue\">$r \\cdot \\mathrm{e}^{\\mathrm{i} \\varphi}$\n",
        "\n",
        "Die folgende Darstellung heisst **trigonometrische Darstellung** (der Polarform):\n",
        "\n",
        "> <font color=\"blue\">$r \\cdot(\\cos \\varphi+\\mathrm{i} \\cdot \\sin \\varphi)$\n",
        "\n",
        "Aufgrund der eulerschen Relation sind beide Darstellungen gleichwertig. Des Weiteren gibt es für sie, namentlich in der Praxis, die verkürzten Schreibweisen\n",
        "\n",
        ">$\n",
        "z=r \\cdot \\text { cis } \\varphi=r \\cdot \\mathrm{E}(\\varphi)=r \\angle \\varphi\n",
        "$\n",
        "\n",
        "in denen cis $\\varphi$ für die Summe $\\cos \\varphi+i \\cdot \\sin \\varphi$ steht und die Darstellung mit dem Winkeloperator $\\angle$ als Versordarstellung bezeichnet wird."
      ]
    },
    {
      "cell_type": "markdown",
      "metadata": {
        "id": "NITc6M2wWXn1"
      },
      "source": [
        "In der komplexen Zahlenebene entspricht dabei $r$ der euklidischen Vektorlänge (d. h. dem Abstand zum Ursprung 0 ) und $\\varphi$ dem mit der reellen Achse eingeschlossenen Winkel der Zahl $z$.\n",
        "\n",
        "Üblicherweise jedoch nennt man $r$ hier den **Betrag von $\\dot{z}$ (oder auch seinen Modul)** (Schreibweise $r=|z|$ ) und den Winkel $\\varphi$ das Argument (**oder auch die Phase**) von $z$ (Schreibweise $\\varphi=\\arg (z)$ ).\n",
        "\n",
        "Da $\\varphi$ und $\\varphi+2 \\pi$ dabei derselben Zahl $z$ zugeordnet werden können, ist die Polardarstellung zunächst nicht eindeutig. Deshalb schränkt man $\\varphi$ meist auf das Intervall $(-\\pi ; \\pi]$, also $-\\pi<\\varphi \\leq \\pi$ ein, um anschließend statt vom Argument selbst von seinem Hauptwert für $z \\neq 0$ zu sprechen. Der Zahl $z=0$ indes ließe sich jedes beliebige Argument zuordnen, und zum Zweck einer eindeutigen Darstellung kann man es in diesem Fall tatsächlich auf 0 festlegen.\n",
        "\n",
        "Das Argument von $z$ ist auch der Imaginärteil des komplexen natürlichen Logarithmus\n",
        "\n",
        ">$\n",
        "\\ln z=\\ln |z|+\\mathrm{i} \\cdot \\arg (z)\n",
        "$\n",
        "\n",
        "Mit der Wahl eines auf ganz $\\mathbb{C}$ definierten Zweiges des Logarithmus ist also auch eine Argumentfunktion bestimmt (und umgekehrt).\n"
      ]
    },
    {
      "cell_type": "markdown",
      "metadata": {
        "id": "T-6KESn_ZjCK"
      },
      "source": [
        "**Als Kreisgruppe und als unitäre Gruppe**"
      ]
    },
    {
      "cell_type": "markdown",
      "metadata": {
        "id": "NB1Mln1CmkqV"
      },
      "source": [
        "> **Alle Werte $\\mathrm{e}^{\\mathrm{i} \\varphi}$ bilden den Einheitskreis der komplexen Zahlen mit dem Betrag 1 , diese Zahlen werden auch <u>unimodular</u> genannt und bilden die [Kreisgruppe](https://de.m.wikipedia.org/wiki/Kreisgruppe)**.\n"
      ]
    },
    {
      "cell_type": "markdown",
      "metadata": {
        "id": "-J1ZXcOtmntG"
      },
      "source": [
        "Die Kreisgruppe lässt sich äquivalent als spezielle orthogonale Gruppe $SO(2)$ definieren, d. h. als Menge der reellen Matrizen der folgende Form für die $a^{2}+b^{2}=1$ gilt, mit der Matrizenmultiplikation als Gruppenverknüpfung:\n",
        "\n",
        "> $\n",
        "\\left(\\begin{array}{cc}\n",
        "a & b \\\\\n",
        "-b & a\n",
        "\\end{array}\\right)\n",
        "$\n",
        "\n",
        "Die Kreisgruppe bildet eine Lie-Gruppe."
      ]
    },
    {
      "cell_type": "markdown",
      "metadata": {
        "id": "IavbTWbJmrHY"
      },
      "source": [
        "*Das Produkt von $z=e^{i \\theta_{1}}$ und $w=e^{i \\theta_{2}}$ ist $z w=e^{i\\left(\\theta_{1}+\\theta_{2}\\right)}$:*\n",
        "\n",
        "![gg](https://upload.wikimedia.org/wikipedia/commons/thumb/d/de/Circle_as_Lie_group2.svg/219px-Circle_as_Lie_group2.svg.png)"
      ]
    },
    {
      "cell_type": "markdown",
      "metadata": {
        "id": "HrIvdRGAYlak"
      },
      "source": [
        "$U(1)$ ist die Menge der komplexen Zahlen der Form\n",
        "\n",
        ">$\n",
        "e^{i \\theta}, \\theta \\in \\mathbb{R}\n",
        "$\n",
        "\n",
        "(also genau der komplexen Zahlen vom Betrag 1 ; man beachte, dass \n",
        "\n",
        "> $e^{i \\theta}$ und $e^{i(\\theta+N 2 \\pi)}$ für $N \\in \\mathbb{Z}$\n",
        "\n",
        "demselben Element entsprechen)\n",
        "\n",
        "mit den Gruppenoperationen\n",
        "\n",
        ">$\n",
        "e^{i \\theta_{1}} e^{i \\theta_{2}}=e^{i\\left(\\theta_{1}+\\theta_{2}\\right)}\n",
        "$\n",
        "\n",
        "und\n",
        "\n",
        ">$\n",
        "\\left(e^{i \\theta}\\right)^{-1}=e^{-i \\theta}\n",
        "$\n",
        "\n",
        "Die Gruppe $U(1)$ ist der Spezialfall der unitären Gruppe $U(n)$ für $n=1$.\n"
      ]
    },
    {
      "cell_type": "markdown",
      "metadata": {
        "id": "9kfgzvHnbfwp"
      },
      "source": [
        "> **In der Quantenmechanik werden Teilchen durch komplex-wertige Wellenfunktionen beschrieben und die unitäre Gruppe $U(1)$ wirkt auf diesen Wellenfunktionen durch punktweise Phasentransformation $f \\rightarrow e^{i \\theta} f$ des Funktionswerts. Das ist eine globale Eichinvarianz.** \n",
        "\n",
        "* Als lokale Eichtheorie, in der die Phase $\\theta(x, t)$ eine Funktion von Raum und Zeit ist, entspricht die Eichgruppe U(1) der Quantenelektrodynamik (und der klassischen Elektrodynamik). \n",
        "\n",
        "* Die Eigenwerte von $Q$ entsprechen der elektrischen Ladung der Teilchen, wobei für die Phase $Q \\theta(x, t)$ angesetzt wurde. \n",
        "\n",
        "* In der Quantenelektrodynamik ist der zugrundeliegende Raum der Minkowskiraum und der Formalismus der Relativitätstheorie wird zur Beschreibung benutzt. \n",
        "\n",
        "* Das (relativistische) Vektorpotential entspricht hier dem Zusammenhang auf einem U(1)Prinzipalbündel, der Feldstärketensor der Krümmungs-2-Form des Bündels."
      ]
    },
    {
      "cell_type": "markdown",
      "metadata": {
        "id": "i6ZIsHeWnQAC"
      },
      "source": [
        "**Die endlichen Untergruppen**"
      ]
    },
    {
      "cell_type": "markdown",
      "metadata": {
        "id": "T9nQucv1nhaw"
      },
      "source": [
        "Alle Elemente einer endlichen Untergruppe der multiplikativen Einheitengruppe $\\mathbb{C}^{\\times}=\\mathbb{C} \\backslash\\{0\\}$ sind Einheitswurzeln. Unter allen Ordnungen von Gruppenelementen gibt es eine maximale, etwa $n \\in \\mathbb{N}$. \n",
        "\n",
        "Da $\\mathbb{C}$ kommutativ ist, erzeugt ein Element mit dieser maximalen Ordnung dann auch die Gruppe, **so dass die Gruppe zyklisch ist und genau aus folgenden Elementen besteht**:\n",
        "\n",
        "> <font color=\"blue\">$\n",
        "\\exp \\left(\\frac{2 \\pi \\mathrm{i} k}{n}\\right)$</font> $ \\quad k=0,1, \\ldots, n-1$\n",
        "\n",
        "Alle Elemente liegen auf dem Einheitskreis.\n",
        "Die Vereinigung aller endlichen Untergruppen ist eine Gruppe, die zur Torsionsgruppe $\\mathbb{Q} / \\mathbb{Z}$ isomorph ist. \n",
        "\n",
        "Sie liegt dicht in ihrer Vervollständigung, der schon erwähnten Kreisgruppe, die auch als 1-Sphäre aufgefasst werden kann und zu $\\mathbb{R} / \\mathbb{Z}$ isomorph ist."
      ]
    },
    {
      "cell_type": "markdown",
      "metadata": {
        "id": "bU6umR9ooEBT"
      },
      "source": [
        "*Schaue hier auch Quantum Fourier Transform*:\n",
        "\n",
        "> $|\\tilde{x}\\rangle \\equiv Q F T|x\\rangle$ = $\\frac{1}{\\sqrt{N}} \\sum_{y=0}^{N-1}$ <font color=\"blue\">$ e^{\\frac{2 \\pi i x y}{N}}$</font>$|y\\rangle$\n",
        "\n",
        "Bearbeitet:\n",
        "\n",
        "> In QFT we change the phase <font color=\"blue\">$\\theta$ in $e^{2\\pi i \\theta}$</font> (=Eigenvalue of Oracle function $U$ associated with an eigenvector |u⟩)\n",
        "\n",
        "> Phase <font color=\"blue\">$\\theta$ is $\\frac{x_n}{2^{k}}$ with $x_n$ 0 or 1</font> state and $k$ number of Qubits.\n",
        "\n",
        "Kombiniert verglichen:\n",
        "\n",
        "><font color=\"blue\">$e^{\\frac{2\\pi i x_n}{2^k}}$</font> ähnlich zu: <font color=\"blue\">$\n",
        "\\exp \\left(\\frac{2 \\pi \\mathrm{i} k}{n}\\right)$</font>"
      ]
    },
    {
      "cell_type": "markdown",
      "metadata": {
        "id": "2qp36U1se6W4"
      },
      "source": [
        "**Complex Conjugate**"
      ]
    },
    {
      "cell_type": "markdown",
      "metadata": {
        "id": "8La3I_1Xe_iQ"
      },
      "source": [
        "*Eine komplexe Zahl $z=a+b i$ und die zu ihr konjugiert komplexe Zahl $\\bar{z}=a-b i$*:\n",
        "\n",
        "![gg](https://upload.wikimedia.org/wikipedia/commons/thumb/f/f3/Komplexe_konjugation.svg/294px-Komplexe_konjugation.svg.png)"
      ]
    },
    {
      "cell_type": "markdown",
      "metadata": {
        "id": "3g788UC1feup"
      },
      "source": [
        "Ändert man das Vorzeichen des Imaginärteils $b$ einer komplexen Zahl \n",
        "\n",
        "> $z=a+b \\mathrm{i}$\n",
        "\n",
        "so erhält man die zu $z$ konjugiert komplexe Zahl \n",
        "\n",
        "> $\\bar{z}=a-b \\mathrm{i}$ \n",
        "\n",
        "(manchmal auch $z^{*}$ geschrieben).\n",
        "\n",
        "Die Konjugation $\\mathbb{C} \\rightarrow \\mathbb{C}, z \\mapsto \\bar{z}$ ist ein (involutorischer) Körperautomorphismus, da sie mit Addition und Multiplikation verträglich ist, d. h., für alle $y, z \\in \\mathbb{C}$ gilt\n",
        "\n",
        ">$\n",
        "\\overline{y+z}=\\bar{y}+\\bar{z}, \\quad \\overline{y \\cdot z}=\\bar{y} \\cdot \\bar{z}\n",
        "$\n",
        "\n",
        "In der Polardarstellung hat die konjugiert komplexe Zahl $\\bar{z}$ bei unverändertem Betrag gerade den negativen Winkel von $z$. \n",
        "\n",
        "* **Man kann die Konjugation in der komplexen Zahlenebene also als die Spiegelung an der reellen Achse interpretieren**. \n",
        "\n",
        "* **Insbesondere werden unter der Konjugation genau die reellen Zahlen auf sich selbst abgebildet**.\n",
        "\n",
        "Das Produkt aus einer komplexen Zahl $z=a+b$ i und ihrer komplex Konjugierten $\\bar{z}$ ergibt das Quadrat ihres Betrages:\n",
        "\n",
        "> $\n",
        "z \\cdot \\bar{z}=(a+b i)(a-b i)=a^{2}+b^{2}=|z|^{2}\n",
        "$\n",
        "\n",
        "Die komplexen Zahlen bilden damit ein triviales Beispiel einer [C*-Algebra](https://de.m.wikipedia.org/wiki/C*-Algebra)."
      ]
    },
    {
      "cell_type": "markdown",
      "metadata": {
        "id": "PhPKs42bgYWR"
      },
      "source": [
        "**C*-Algebra**"
      ]
    },
    {
      "cell_type": "markdown",
      "metadata": {
        "id": "9ikZ7LnZgw6I"
      },
      "source": [
        "* C*-Algebren werden im mathematischen Teilgebiet der Funktionalanalysis untersucht. Sie sind in der mathematischen Physik entstanden. \n",
        "\n",
        "* Es handelt sich um eine Abstraktion der beschränkten linearen Operatoren auf einem Hilbertraum, sie spielen daher in der mathematischen Beschreibung der Quantenmechanik eine Rolle. \n",
        "\n",
        "* Das bekannteste Beispiel einer C*-Algebra ist die Algebra ${\\mathcal {B}}({\\mathcal {H}})$ der beschränkten linearen Operatoren auf einem Hilbertraum $\\mathcal {H}$ und allgemeiner jede in der Normtopologie abgeschlossene selbstadjungierte Unteralgebra von ${\\mathcal {B}}({\\mathcal {H}})$.\n",
        "\n",
        "* $C^*$-Algebra: *Algebra wenn man quantenmechanische Operatoren miteinander kombiniert (?)*\n",
        "\n",
        "*  Ist $\\mathcal {H}$ ein Hilbertraum, so nennt man einen $*$-Homomorphismus ${\\mathcal {A}}\\rightarrow {\\mathcal {B}}({\\mathcal {H}})$ eine Hilbertraum-Darstellung oder einfach Darstellung von $\\mathcal A$. Die Theorie der Hilbertraum-Darstellungen ist ein wichtiges Instrument zur weitergehenden Untersuchung von C*-Algebren."
      ]
    },
    {
      "cell_type": "markdown",
      "metadata": {
        "id": "hOQbQ3WikivT"
      },
      "source": [
        "Die Banachalgebra $B(H)$ der stetigen linearen Operatoren über einem Hilbertraum $H$ motiviert die folgende Definition: \n",
        "* Eine Banachalgebra $\\mathcal{A}$, auf der zusätzlich eine semilineare antimultiplikative Involution $*: \\mathcal{A} \\rightarrow \\mathcal{A}, x \\mapsto x^{*}$ gegeben ist, heißt $\\mathrm{C}^{*}$-Algebra, wenn die sogenannte $\\mathrm{C}^{*}$-Bedingung erfüllt ist:\n",
        "\n",
        ">  $\\left\\|x^{*} x\\right\\|=\\|x\\|^{2}$ für alle $x \\in \\mathcal{A}$\n",
        "\n",
        "\n",
        "* Solche Banachalgebren lassen sich auf Hilberträumen darstellen. Sind diese dann in einer gewissen Topologie in der Operatorenalgebra über dem Hilbertraum abgeschlossen, so nennt man sie Von-Neumann-Algebren.\n",
        "\n",
        "Involution ist: $\\forall a \\in \\mathcal{A}:\\left(a^{*}\\right)^{*}=a$ und ist eine Eigenschaft von Banach-Raumen.\n",
        "\n",
        "https://de.m.wikipedia.org/wiki/Banachalgebra#C*-Algebren_und_Von-Neumann-Algebren"
      ]
    },
    {
      "cell_type": "markdown",
      "metadata": {
        "id": "PkGTLRy3lwp7"
      },
      "source": [
        "Eine $C^{*}$-Algebra über dem Körper $\\mathbb{K}=\\mathbb{C}$ oder $\\mathbb{R}$ ist eine Banachalgebra $\\mathcal{A}$ mit einer Involution ${ }^{*}: \\mathcal{A} \\ni a \\mapsto a^{*} \\in \\mathcal{A}$ mit folgenden Eigenschaften\n",
        "\n",
        "* $\\forall a \\in \\mathcal{A}:\\left(a^{*}\\right)^{*}=a$\n",
        "(involutiv)\n",
        "\n",
        "* $\\forall a, b \\in \\mathcal{A}:(a b)^{*}=b^{*} a^{*}$ (anti-multiplikativ)\n",
        "\n",
        "* $\\forall a, b \\in \\mathcal{A}: \\forall z, w \\in \\mathbb{K}:(z a+w b)^{*}=\\bar{z} a^{*}+\\bar{w} b^{*}$ (semilinear, anti-linear oder konjugiert linear)\n",
        "\n",
        "* $\\forall a \\in \\mathcal{A}:\\left\\|a^{*} a\\right\\|=\\|a\\|^{2}$ (C*-Eigenschaft)\n",
        "\n",
        "Aus der $\\mathrm{C}^{*}$-Eigenschaft folgt, dass die Involution isometrisch ist, was sie zusammen mit den ersten drei Eigenschaften der $\\mathrm{C}^{*}$-Algebra zu einer Banach-* Algebra (= involutiven Banachalgebra) macht.\n",
        "Man spricht von einer kommutativen $C^{*}$-Algebra, wenn die Multiplikation kommutativ ist. Die meisten Autoren verstehen unter einer $\\mathrm{C}^{*}$-Algebra stets eine C-Banachalgebra und schreiben genauer reelle C*-Algebra, wenn auch $\\mathbb{R}$ Banachalgebren zugelassen sind."
      ]
    },
    {
      "cell_type": "markdown",
      "metadata": {
        "id": "gESnW8WHY9FQ"
      },
      "source": [
        "*Der Name $C*$-Algebra wurde durch die Veröffentlichung Irreducible representations of operator algebras (1947) des Mathematikers Irving Segal geprägt. Möglicherweise deutet das C in $C*$-Algebra darauf hin, dass $C*$-Algebren ein nichtkommutatives Analogon des Raums der stetigen Funktionen C(T) sind und das Zeichen $*$ betont die Bedeutung der [Involution](https://de.m.wikipedia.org/wiki/Involution_(Mathematik)) (=selbstinverse Abbildung).*"
      ]
    },
    {
      "cell_type": "markdown",
      "metadata": {
        "id": "T-Ld9qpGiL0a"
      },
      "source": [
        "**Hilbertraum-Darstellungen**"
      ]
    },
    {
      "cell_type": "markdown",
      "metadata": {
        "id": "GBg6gqqQiOK6"
      },
      "source": [
        "https://de.m.wikipedia.org/wiki/Hilbertraum-Darstellung\n",
        "\n",
        "* Hilbertraum-Darstellungen sind eine wichtige mathematische Methode zur Untersuchung von Banach-*-Algebren, insbesondere C*-Algebren und Faltungsalgebren lokalkompakter Gruppen. Es handelt sich dabei um Darstellungen als Algebren von Operatoren auf Hilberträumen.\n",
        "\n",
        "* **Gegenüber der allgemeinen in der Algebra betrachteten Darstellungstheorie liegen wegen der Hilbertraum-Struktur zusätzliche Strukturelemente vor**. Da ist zunächst die Topologie des Hilbertraums, die auch auf dem Raum der stetigen linearen Operatoren eine Topologie erzeugt. Eine weitere wichtige Rolle spielt die Involution in der Algebra der stetigen linearen Operatoren auf einem Hilbertraum, die durch die Adjunktion gegeben ist."
      ]
    },
    {
      "cell_type": "markdown",
      "metadata": {
        "id": "wYsD8n3CMWIR"
      },
      "source": [
        "###### **<font color=\"blue\">Mathematical Formulation of Quantum Mechanics</font>**"
      ]
    },
    {
      "cell_type": "markdown",
      "metadata": {
        "id": "ZWc0_gNTcGpn"
      },
      "source": [
        "https://en.m.wikipedia.org/wiki/Projective_Hilbert_space"
      ]
    },
    {
      "cell_type": "markdown",
      "metadata": {
        "id": "yOJWU_kH7180"
      },
      "source": [
        "*Postulate der Quantenmechanik (Kopenhagener Interpretation)*"
      ]
    },
    {
      "cell_type": "markdown",
      "metadata": {
        "id": "MKKG0DSv8FhZ"
      },
      "source": [
        "1. Zustand: Der Zustand eines physikalischen Systems zu einem Zeitpunkt $t_{0}$ wird durch die Angabe eines zum Zustandsraum $\\mathcal{H}$ gehörenden komplexen Zustandsvektors $\\left|\\psi\\left(t_{0}\\right)\\right\\rangle$ definiert. Vektoren, die sich nur um einen von 0 verschiedenen Faktor $c \\in \\mathbb{C}$ unterscheiden, beschreiben denselben Zustand. Der Zustandsraum des Systems ist ein Hilbertraum.\n",
        "\n",
        "2. Observable: Jede Größe $A$, die physikalisch , gemessen\" werden kann, ist durch einen im Zustandsraum wirkenden hermiteschen Operator $\\hat{A}$ beschrieben. Dieser Operator wird als Observable bezeichnet und hat ein reelles Spektrum mit einer vollständigen sogenannten Spektralschar, bestehend aus einem , diskreten\" Anteil mit Eigenvektoren und Eigenwerten (Punktspektrum) und aus einem Kontinuum.\n",
        "\n",
        "3. Messresultat: Resultat der Messung einer physikalischen Größe $A$ kann nur einer der Eigenwerte der entsprechenden Observablen $\\hat{A}$ sein oder bei kontinuierlichem Spektrum des Operators eine messbare Menge aus dem Kontinuum.\n",
        "\n",
        "4. Messwahrscheinlichkeit im Fall eines diskreten nichtentarteten Spektrums: Wenn die physikalische Größe $A$ an einem System im Zustand $|\\psi\\rangle$ gemessen wird, ist die Wahrscheinlichkeit $P\\left(a_{n}\\right)$, den nichtentarteten Eigenwert $a_{n}$ der entsprechenden Observable $\\hat{A}$ zu erhalten (mit dem zugehörigen Eigenvektor $\\left|u_{n}\\right\\rangle$ ) $P\\left(a_{n}\\right)=\\left|\\left\\langle u_{n} \\mid \\psi\\right\\rangle\\right|^{2}$. Dabei seien $\\psi$ und $u_{n}$ normiert.\n",
        "\n",
        "5. Die Zeitentwicklung des Zustandsvektors $|\\psi(t)\\rangle$ ist gegeben durch die folgende Schrödingergleichung, wobei $\\hat{H}(t)$ die der totalen Energie des Systems zugeordnete Observable ist:\n",
        "\n",
        ">$\\mathrm{i} \\hbar \\frac{\\partial}{\\partial t}|\\psi(t)\\rangle=\\hat{H}(t)|\\psi(t)\\rangle$"
      ]
    },
    {
      "cell_type": "markdown",
      "metadata": {
        "id": "qo1XaHex9JCp"
      },
      "source": [
        "https://docs.microsoft.com/de-de/azure/quantum/concepts-dirac-notation#computational-basis-vectors \n",
        "\n",
        "https://docs.microsoft.com/de-de/azure/quantum/concepts-vectors-and-matrices \n",
        "\n",
        "https://docs.microsoft.com/de-de/azure/quantum/concepts-pauli-measurements"
      ]
    },
    {
      "cell_type": "markdown",
      "metadata": {
        "id": "U42AjGJe_Mf1"
      },
      "source": [
        "![ggg](https://upload.wikimedia.org/wikipedia/commons/thumb/e/e7/Hydrogen_Density_Plots.png/528px-Hydrogen_Density_Plots.png)"
      ]
    },
    {
      "cell_type": "markdown",
      "metadata": {
        "id": "iVxiWITZf_Io"
      },
      "source": [
        "https://de.m.wikipedia.org/wiki/Mathematische_Struktur_der_Quantenmechanik"
      ]
    },
    {
      "cell_type": "markdown",
      "metadata": {
        "id": "DtLq1-MOMeWf"
      },
      "source": [
        "https://en.m.wikipedia.org/wiki/Mathematical_formulation_of_quantum_mechanics"
      ]
    },
    {
      "cell_type": "markdown",
      "metadata": {
        "id": "lxskNK5i31kq"
      },
      "source": [
        "**Observable**\n",
        "\n",
        "* [**Observables**](https://de.m.wikipedia.org/wiki/Observable) are any quantity which can be measured in a physical experiment (energy, spin, impulse, position)"
      ]
    },
    {
      "cell_type": "markdown",
      "metadata": {
        "id": "ZyGtn6s_34mF"
      },
      "source": [
        "**Operator**\n",
        "\n",
        "* Any observable should be associated with a **self-adjoint linear operator** (=hermetian, means symmetric, conjugated + transposed). \n",
        "\n",
        "* The mathematical formulation of quantum mechanics (QM) is built upon the concept of an operator.\n",
        "\n",
        "* Physical pure states in quantum mechanics are represented as unit-norm vectors (probabilities are normalized to one) in a special complex Hilbert space. Time evolution in this vector space is given by the application of the evolution operator.\n",
        "\n",
        "* Any observable, i.e., any quantity which can be measured in a physical experiment, should be associated with a self-adjoint linear operator. \n",
        "\n",
        "* **The operators must yield real eigenvalues, since they are values which may come up as the result of the experiment**. Mathematically this means the operators must be Hermitian. \n",
        "\n",
        "* The probability of each eigenvalue is related to the projection of the physical state on the subspace related to that eigenvalue. \n",
        "\n",
        "* In the wave mechanics formulation of QM, the wavefunction varies with space and time, or equivalently momentum and time (see position and momentum space for details), so observables are differential operators.\n",
        "\n",
        "* In the matrix mechanics formulation, the norm of the physical state should stay fixed, so the evolution operator should be unitary, and the operators can be represented as matrices. Any other symmetry, mapping a physical state into another, should keep this restriction.\n",
        "\n",
        "* [Operators_in_quantum_mechanics](https://en.m.wikipedia.org/wiki/Operator_(physics)#Operators_in_quantum_mechanics)"
      ]
    },
    {
      "cell_type": "markdown",
      "metadata": {
        "id": "F4rvRNeJ5pWS"
      },
      "source": [
        "**Hermitian operators (Self-adjoint operator)**\n",
        "\n",
        "* [Main article: Self-adjoint operator](https://en.m.wikipedia.org/wiki/Self-adjoint_operator)\n",
        "\n",
        "* The definition of a Hermitian operator is:\n",
        "\n",
        ">$\n",
        "\\hat{A}=\\hat{A}^{\\dagger}\n",
        "$\n",
        "\n",
        "Following from this, in bra-ket notation:\n",
        "\n",
        ">$\n",
        "\\left\\langle\\phi_{i}|\\hat{A}| \\phi_{j}\\right\\rangle=\\left\\langle\\phi_{j}|\\hat{A}| \\phi_{i}\\right\\rangle^{*}\n",
        "$\n",
        "\n",
        "Important properties of Hermitian operators include:\n",
        "- real eigenvalues,\n",
        "- eigenvectors with different eigenvalues are orthogonal,\n",
        "- eigenvectors can be chosen to be a complete orthonormal basis,"
      ]
    },
    {
      "cell_type": "markdown",
      "metadata": {
        "id": "5OgQtyq339n7"
      },
      "source": [
        "**Projection**\n",
        "\n",
        "* The probability of each eigenvalue is related to the [**(Hermetian) projection**](https://en.m.wikipedia.org/wiki/Projection_(linear_algebra)) of the physical state on the subspace related to that eigenvalue. See below for mathematical details about Hermitian operators."
      ]
    },
    {
      "cell_type": "markdown",
      "metadata": {
        "id": "q5JUoIkQ4A6g"
      },
      "source": [
        "**Position & Momentum**\n",
        "\n",
        "* In the [wave mechanics formulation of QM](https://en.m.wikipedia.org/wiki/Schrödinger_equation#Particles_as_waves), the wavefunction varies with space and time, or equivalently momentum and time (see [position and momentum space](https://en.m.wikipedia.org/wiki/Position_and_momentum_space) for details), so observables are [differential operators](https://en.m.wikipedia.org/wiki/Differential_operator).\n",
        "\n",
        "* In the [matrix mechanics](https://en.m.wikipedia.org/wiki/Matrix_mechanics) formulation, the norm of the physical state should stay fixed, so the evolution operator should be unitary, and the operators can be represented as matrices. Any other symmetry, mapping a physical state into another, should keep this restriction."
      ]
    },
    {
      "cell_type": "markdown",
      "metadata": {
        "id": "8PQrex_0jrq7"
      },
      "source": [
        "**Commutators & Anticommutators**\n",
        "\n",
        "* the [commutator](https://en.m.wikipedia.org/wiki/Commutator) gives an indication of the extent to which a certain binary operation fails to be commutative.\n",
        "\n",
        "* see also [commutator un quantum mechanics](https://en.m.wikipedia.org/wiki/Operator_(physics)#Commutation_of_operators_on_Ψ)\n",
        "\n",
        "* See [video](https://youtu.be/so1szjHu7jY)"
      ]
    },
    {
      "cell_type": "markdown",
      "metadata": {
        "id": "NcdHPOGxXCEL"
      },
      "source": [
        "**Eigenspectrum**"
      ]
    },
    {
      "cell_type": "markdown",
      "metadata": {
        "id": "MqylzC-5YZnT"
      },
      "source": [
        "* Eigenspectrum is a useful way of visualizing the different energy states that you can be in in the quantum annealing procedure (a graph)\n",
        "\n",
        "* lowest energy state on the bottom, and any higher excited states above it\n",
        "\n",
        "* in the middle where two energy lines are very close is called \"minimum gap\" / \"anticrossing\"\n",
        "\n",
        "* there are several mechanisms that allow the system to jump into a higher energy state: thermal energy / fluctuations or running annealing procedure to fast\n",
        "\n",
        "* you need to anneal slowly enough: adiabatic process\n",
        "\n",
        "* but for large problems, the probability of staying the lowest energy state if small (but still good as long as thei are lower than in classical techniques)"
      ]
    },
    {
      "cell_type": "markdown",
      "metadata": {
        "id": "nqcL6KiEXlJu"
      },
      "source": [
        "![geometry](https://raw.githubusercontent.com/deltorobarba/repo/master/quantum_009b.png)"
      ]
    },
    {
      "cell_type": "markdown",
      "metadata": {
        "id": "cFwUqVUEYao4"
      },
      "source": [
        "![geometry](https://raw.githubusercontent.com/deltorobarba/repo/master/quantum_009c.png)"
      ]
    },
    {
      "cell_type": "markdown",
      "metadata": {
        "id": "Z6879sh-Yu9D"
      },
      "source": [
        "For every problem there is a different hamiltonian and a different corresponding Eigenspectrum ! Hardest problem with smallest gaps:"
      ]
    },
    {
      "cell_type": "markdown",
      "metadata": {
        "id": "PUrfQvQyZHxL"
      },
      "source": [
        "![geometry](https://raw.githubusercontent.com/deltorobarba/repo/master/quantum_009d.png)"
      ]
    },
    {
      "cell_type": "markdown",
      "metadata": {
        "id": "6df4VnbjWqTB"
      },
      "source": [
        "https://www.youtube.com/watch?v=tnikftltqE0"
      ]
    },
    {
      "cell_type": "markdown",
      "metadata": {
        "id": "rl36-Dkq44wh"
      },
      "source": [
        "**<font color=\"blue\">General Operators $\\hat{A}$ and $\\hat{A}^{\\dagger}$</font>**"
      ]
    },
    {
      "cell_type": "markdown",
      "metadata": {
        "id": "LS64wr_HgGky"
      },
      "source": [
        "Quantum Operators and Commutators: https://www.youtube.com/watch?v=so1szjHu7jY&t=1s"
      ]
    },
    {
      "cell_type": "markdown",
      "metadata": {
        "id": "w-IsJdof42Kw"
      },
      "source": [
        "> $\\hat{A}=\\sum_{i j} A_{i j}\\left|u_{i}\\right\\rangle\\left\\langle u_{j}\\right| \\quad A_{i j}=\\left\\langle u_{i}|\\hat{A}| u_{j}\\right\\rangle$\n",
        "\n",
        "* An operator A can be written in the u basis as the sum over the outer products of the basis states \n",
        "* And the expansion coefficients Aij are given by the matrix elements of A with respect to the basis states\n",
        "* The expansion coefficients for an operator are labeled by 2 indices, so we will arrange them in a form of a square matrix, with the first index denoting the row of the matrix and the second index the column of the matrix\n",
        "* There operators are written as matrices\n",
        "\n",
        "> $\\left(\\begin{array}{ccccc}A_{11} & A_{12} & \\cdots & A_{1 j} & \\cdots \\\\ A_{21} & A_{22} & \\cdots & A_{2 j} & \\cdots \\\\ \\vdots & \\vdots & & \\vdots & \\\\ A_{i 1} & A_{i 2} & \\cdots & A_{i j} & \\cdots \\\\ \\vdots & \\vdots & & \\vdots & \\end{array}\\right)$\n"
      ]
    },
    {
      "cell_type": "markdown",
      "metadata": {
        "id": "Y_i6bVsi6tNb"
      },
      "source": [
        "![geometry](https://raw.githubusercontent.com/deltorobarba/repo/master/quantum_005a.png)"
      ]
    },
    {
      "cell_type": "markdown",
      "metadata": {
        "id": "24Jr24udDpFZ"
      },
      "source": [
        "https://youtu.be/wIwnb1ldYTI"
      ]
    },
    {
      "cell_type": "markdown",
      "metadata": {
        "id": "CWTUeok_2Mn3"
      },
      "source": [
        "**<font color=\"blue\">Unitärer Operator $T$</font>**"
      ]
    },
    {
      "cell_type": "markdown",
      "metadata": {
        "id": "NSyRQBYr1w2f"
      },
      "source": [
        "Ein [unitärer Operator](https://de.m.wikipedia.org/wiki/Unit%C3%A4rer_Operator) ist ein bijektiver linearer Operator $T: V \\rightarrow W$ zwischen zwei Hilberträumen\n",
        "\n",
        ">$\n",
        "\\begin{array}{l}\n",
        "\\left(V,\\langle\\cdot, \\cdot\\rangle_{V}\\right) \\text { und }\\left(W,\\langle\\cdot, \\cdot\\rangle_{W}\\right), \\text { sodass } \\\\\n",
        "\\langle T u, T v\\rangle_{W}=\\langle u, v\\rangle_{V}\n",
        "\\end{array}\n",
        "$\n",
        "\n",
        "für alle Vektoren $u, v \\in V$ gilt. Ein unitärer Operator ist demnach ein Isomorphismus $z$ wischen zwei Hilberträumen, der das Skalarprodukt erhält. Ein unitärer Operator zwischen zwei reellen Hilberträumen wird gelegentlich auch als orthogonaler Operator bezeichnet."
      ]
    },
    {
      "cell_type": "markdown",
      "metadata": {
        "id": "jYbMnbqB17-b"
      },
      "source": [
        "* Ein unitärer Operator ist in der Mathematik ein bijektiver linearer Operator zwischen zwei Hilberträumen, der das Skalarprodukt erhält. \n",
        "\n",
        "* Unitäre Operatoren sind damit spezielle orthogonale oder unitäre Abbildungen und stets normerhaltend, abstandserhaltend, beschränkt und, falls beide Hilberträume gleich sind, normal. \n",
        "\n",
        "* Der inverse Operator eines unitären Operators ist gleich seinem adjungierten Operator. Die Eigenwerte eines unitären Operators in einem Hilbertraum haben alle den Betrag eins. \n",
        "\n",
        "* Unitäre Operatoren zwischen endlichdimensionalen Vektorräumen gleicher Dimension können nach Wahl je einer Orthonormalbasis durch unitäre Matrizen dargestellt werden. \n",
        "\n",
        "* Wichtige Beispiele für unitäre Operatoren zwischen unendlichdimensionalen Funktionenräumen sind die Fouriertransformation und die Zeitentwicklungsoperatoren der Quantenmechanik.\n",
        "\n"
      ]
    },
    {
      "cell_type": "markdown",
      "metadata": {
        "id": "Al6iOYrFH7zR"
      },
      "source": [
        "**<font color=\"blue\">Quantum Error Correction, Decoherence & Noise</font>**"
      ]
    },
    {
      "cell_type": "markdown",
      "metadata": {
        "id": "SdODHc_sR6SS"
      },
      "source": [
        "Quantum computers are much more susceptible to errors than classical computers due to decoherence and noise. The threshold theorem states that a noisy quantum computer can use quantum error-correcting codes to simulate a noiseless quantum computer assuming the error introduced in each computer cycle is less than some number. Numerical simulations suggest that that number may be as high as 3%. However, it is not yet definitively known how the resources needed for error correction will scale with the number of qubits. Skeptics point to the unknown behavior of noise in scaled-up quantum systems as a potential roadblock for successfully implementing quantum computing and demonstrating quantum supremacy."
      ]
    },
    {
      "cell_type": "markdown",
      "metadata": {
        "id": "NyTWu-cGIHTc"
      },
      "source": [
        "https://en.m.wikipedia.org/wiki/Quantum_error_correction"
      ]
    },
    {
      "cell_type": "markdown",
      "metadata": {
        "id": "0SG2sdkmRtsI"
      },
      "source": [
        "https://en.m.wikipedia.org/wiki/Quantum_decoherence"
      ]
    },
    {
      "cell_type": "markdown",
      "metadata": {
        "id": "2p6Anz_qRwCH"
      },
      "source": [
        "https://en.m.wikipedia.org/wiki/Noise_(electronics)"
      ]
    },
    {
      "cell_type": "markdown",
      "metadata": {
        "id": "3OtqmX4xRzDk"
      },
      "source": [
        "https://en.m.wikipedia.org/wiki/Quantum_threshold_theorem"
      ]
    },
    {
      "cell_type": "markdown",
      "metadata": {
        "id": "kJDaxgzh--ui"
      },
      "source": [
        "###### <font color=\"blue\">**Vector (Pure Quantum State)**"
      ]
    },
    {
      "cell_type": "markdown",
      "metadata": {
        "id": "gpuOVRv5C7AS"
      },
      "source": [
        "The set {|0>, |1>} is the computational basis of $C^2$ and $\\alpha, \\beta$ are called amplitudes of state $\\psi$. The term state (or state vector) is used as a synonym for unit vector in a Hilbert space"
      ]
    },
    {
      "cell_type": "markdown",
      "metadata": {
        "id": "-oS_Q9ze_Bod"
      },
      "source": [
        "https://en.m.wikipedia.org/wiki/Quantum_state#Pure_states"
      ]
    },
    {
      "cell_type": "markdown",
      "metadata": {
        "id": "wYThARIqRxCa"
      },
      "source": [
        "https://en.m.wikipedia.org/wiki/Projective_Hilbert_space"
      ]
    },
    {
      "cell_type": "markdown",
      "metadata": {
        "id": "fanTKhYRC5ch"
      },
      "source": [
        "**<font color=\"blue\">Ket $|\\psi\\rangle$</font> (Pure Quantum State Superposition, Wave Function, Stochastic Vector, Bloch sphere)**"
      ]
    },
    {
      "cell_type": "markdown",
      "metadata": {
        "id": "X45n44RNTdrz"
      },
      "source": [
        "Ket = wavefunction = pure state"
      ]
    },
    {
      "cell_type": "markdown",
      "metadata": {
        "id": "WlC5y6Hpsj_E"
      },
      "source": [
        "**A Ket $|\\psi\\rangle$ $\\doteq$ $\\left[\\begin{array}{l}a_{0} \\\\ a_{1}\\end{array}\\right]$, also called 'quantum state', <u>represents</u> the wave function of a quantum system (\"Psi\")**, consisting of **probability amplitudes**. This Quantum state is a **stochastic vector**, written as a column vector. **A Ket is technically a pure quantum state**. Wave function notation to describe superposition of Pure States."
      ]
    },
    {
      "cell_type": "markdown",
      "metadata": {
        "id": "CsUR9RecP8AE"
      },
      "source": [
        "So, you have an (orthonormal) basis with 3 vectors and coefficients, to describe a vector in space (in Hilbert space):\n",
        "\n",
        "> $\\vec{v}=$<font color='blue'>$2$</font>$\\left(\\begin{array}{l}1 \\\\ 0 \\\\ 0\\end{array}\\right)$<font color='blue'>$+3$</font>$\\left(\\begin{array}{l}0 \\\\ 1 \\\\ 0\\end{array}\\right)$<font color='blue'>$+0$</font>$\\left(\\begin{array}{l}0 \\\\ 0 \\\\ 1\\end{array}\\right)$\n",
        "\n",
        "The basis vectors will all entries in 0 and only one with 1 correspond to possibe measurement outcomes (spin up or down). \n",
        "\n",
        "The coefficients can be collected in one vector and are complex numbers:\n",
        "\n",
        "> $\\vec{v}=$<font color='blue'>$\\left(\\begin{array}{l}2 \\\\ 3 \\\\ 0\\end{array}\\right)$</font>\n",
        "\n"
      ]
    },
    {
      "cell_type": "markdown",
      "metadata": {
        "id": "zi3VJ36_jPGy"
      },
      "source": [
        "**Or written formally**:\n",
        "\n",
        "> $|\\Psi\\rangle=a_{1}\\left(\\begin{array}{l}1 \\\\ 0 \\\\ 0\\end{array}\\right)+{a_{2}}\\left(\\begin{array}{l}0 \\\\ 1 \\\\ 0\\end{array}\\right)+a_{3}\\left(\\begin{array}{l}0 \\\\ 0 \\\\ 1\\end{array}\\right)$ \n",
        "\n",
        "> $|\\Psi\\rangle = \\left(\\begin{array}{l}a_{1} \\\\ 0 \\\\ 0\\end{array}\\right)+\\left(\\begin{array}{l}0 \\\\ a_{2} \\\\ 0\\end{array}\\right)+\\left(\\begin{array}{l}0 \\\\ 0 \\\\ a_{3}\\end{array}\\right)$\n",
        "\n",
        "> $|\\Psi\\rangle=\\left(\\begin{array}{l}a_{1} \\\\ a_{2} \\\\ a_{3}\\end{array}\\right)$\n"
      ]
    },
    {
      "cell_type": "markdown",
      "metadata": {
        "id": "QFoHY3uxjQkE"
      },
      "source": [
        "**Where basis vectors $X = \\left(\\begin{array}{l}1 \\\\ 0 \\\\ 0\\end{array}\\right)$, $Y = \\left(\\begin{array}{l}0 \\\\ 1 \\\\ 0\\end{array}\\right)$ and $Z = \\left(\\begin{array}{l}0 \\\\ 0 \\\\ 1\\end{array}\\right)$ correspond to possibe measurement outcomes (spin up or down for example)**:\n",
        "\n",
        "> $|\\Psi\\rangle=a_{1} |X\\rangle +a_{2} |Y\\rangle + a_{3} |Z\\rangle$"
      ]
    },
    {
      "cell_type": "markdown",
      "metadata": {
        "id": "9yQEer_yrPP3"
      },
      "source": [
        "**Quantum System & Quantum States**\n",
        "\n",
        "* First, imagine we have a **quantum mechanical system**, like a single electron, an electron orbiting a nucleus or a photon. And we have possible **outcomes** that we want to measure in this system, for example spin up or spin down as possible properties of an electron.\n",
        "\n",
        "* Second, you have **basis vectors** that represent these possible outcomes of the state in a system. 1 for spin up and 0 for spin down. They are orthogonal to each other (**and hence their inner product is zero**). These possible outcomes are called **'quantum states'**. The simplest quantum state is one with 2 outcomes, also called qbit. "
      ]
    },
    {
      "cell_type": "markdown",
      "metadata": {
        "id": "pnHrVsDOfGIC"
      },
      "source": [
        "**Superposition, Probability Amplitudes, Stochastic Vector & Wave Function**\n",
        "\n",
        "* When quantum system is left alone, during an unmeasured state, it is in a soup of all possible states it could be in. This is called [**quantum superposition**](https://en.wikipedia.org/wiki/Quantum_superposition). In this case we write the wave function of the electron as a superposition of the two possible states. It's a linear combination of both states:\n",
        "\n",
        "> $\\mid \\psi\\rangle$ = $|\\uparrow\\rangle \\quad \\text{+} \\quad |\\downarrow\\rangle$\n",
        "\n",
        "* You can visualize this on a Bloch sphere (here comes the linearity into place). \n",
        "\n",
        "* Now we need to assign a probability to each of the states $\\alpha_0$ and $\\alpha_1$, which means we assign a coefficients for each basis vector (=the outcomes). These are not probabilities in the classical sense, but **probability amplitudes**. Its entries are also not restricted to real numbers, **entries are complex numbers $C$**. (That's why normalization happens in [2 norm (Euclidean norm)](https://de.wikipedia.org/wiki/Euklidische_Norm) to normalize to 1, because of the complex number space.)\n",
        "\n",
        "> $\\mid \\psi\\rangle$ = $\\alpha_1 |\\uparrow\\rangle \\quad \\text{+} \\quad \\alpha_0 |\\downarrow\\rangle$ bzw. numerical fur spin up & down:\n",
        "\n",
        "> $\\mid \\psi\\rangle$ = $\\alpha_1 |\\text{1} \\rangle \\quad \\text{+} \\quad \\alpha_0 |\\text{0}\\rangle$\n",
        "\n",
        "* 1 and 0 (spin up and down) are the basis vectors one-ket and zero-ket and $\\alpha_1$ and $\\alpha_0$ are the probability amplitudes coefficients for each possible state. Together they form the wave function of the quantum state of our system.\n",
        "\n",
        "* Out of all coefficients of the quantum state $\\alpha_0$, $\\alpha_1$, etc.. we can write as a column vector, the **stochastic vector**. It represents ($\\doteq$) the **wave function** of a quantum system ('psi'). It's name is **'Ket'**.\n",
        "\n",
        "> **Ket: $|\\psi\\rangle$ $\\doteq$ $\\left[\\begin{array}{l}a_{0} \\\\ a_{1}\\end{array}\\right]$**\n",
        "\n",
        "* So, the **superposition is the expansion of the vector in a basis** (= possible outcomes), consisting of basis vectors zero-ket and one-ket.\n"
      ]
    },
    {
      "cell_type": "markdown",
      "metadata": {
        "id": "gF5NNa1gSayc"
      },
      "source": [
        "**Links**"
      ]
    },
    {
      "cell_type": "markdown",
      "metadata": {
        "id": "9aDmPx1PRPf4"
      },
      "source": [
        "https://docs.microsoft.com/de-de/azure/quantum/concepts-pauli-measurements"
      ]
    },
    {
      "cell_type": "markdown",
      "metadata": {
        "id": "JcBZeJA2RRyL"
      },
      "source": [
        "https://docs.microsoft.com/de-de/azure/quantum/concepts-dirac-notation"
      ]
    },
    {
      "cell_type": "markdown",
      "metadata": {
        "id": "Poa6rcn3RToO"
      },
      "source": [
        "https://docs.microsoft.com/de-de/azure/quantum/concepts-vectors-and-matrices"
      ]
    },
    {
      "cell_type": "markdown",
      "metadata": {
        "id": "HPhAjYO88ylu"
      },
      "source": [
        "https://www.heise.de/amp/news/D-Wave-verbessert-Quanten-Annealer-und-plant-auch-richtige-Quantencomputer-6211713.html\n",
        "\n",
        "https://physics.stackexchange.com/questions/417955/whats-the-role-of-the-tensor-product-in-quantum-mechanics\n",
        "\n",
        "http://electron6.phys.utk.edu/qm1/modules/m10/twospin.htm\n",
        "\n",
        "https://en.m.wikipedia.org/wiki/Two-state_quantum_system\n",
        "\n",
        "https://en.m.wikipedia.org/wiki/Tensor_product\n",
        "\n",
        "http://www.mathematrix.de/matrixmultiplikation/\n",
        "\n",
        "https://web.pa.msu.edu/people/mmoore/Lect24_TensorProduct.pdf\n",
        "\n",
        "https://www.quora.com/What-is-a-tensor-product-in-quantum-mechanics\n",
        "\n",
        "https://www.quora.com/How-do-the-tensor-product-and-direct-sum-fit-into-quantum-mechanics?redirect_to_mweb=1\n",
        "\n",
        "https://en.m.wikipedia.org/wiki/Multilinear_map\n",
        "\n",
        "https://citeseerx.ist.psu.edu/viewdoc/download?doi=10.1.1.57.9322&rep=rep1&type=pdf\n",
        "\n",
        "https://en.m.wikipedia.org/wiki/Multiplication_of_vectors \n",
        "\n",
        "https://en.wikipedia.org/wiki/Tensor_product \n"
      ]
    },
    {
      "cell_type": "markdown",
      "metadata": {
        "id": "GgSzA4IwURCu"
      },
      "source": [
        "###### **<font color=\"blue\">Vector-Scalar-Multiplication**"
      ]
    },
    {
      "cell_type": "markdown",
      "metadata": {
        "id": "zv3ubQjG-nTh"
      },
      "source": [
        "Vector-Scalar:\n",
        "\n",
        "$\\left[\\begin{array}{l}x_{0} \\\\ x_{1}\\end{array}\\right] \\otimes\\left[y_{0}\\right]=\\left[\\begin{array}{l}x_{0}\\left[y_{0}\\right] \\\\ x_{1}\\left[y_{0}\\right]\\end{array}\\right]=\\left[\\begin{array}{l}x_{0} y_{0} \\\\ x_{1} y_{0}\\end{array}\\right]$"
      ]
    },
    {
      "cell_type": "markdown",
      "metadata": {
        "id": "VzVZL2daUdeq"
      },
      "source": [
        "https://en.m.wikipedia.org/wiki/Projective_Hilbert_space"
      ]
    },
    {
      "cell_type": "markdown",
      "metadata": {
        "id": "ZOCcYN8atwYH"
      },
      "source": [
        "###### <font color=\"blue\">**Vector-Vector-Multiplication (Kronecker / Tensor)**"
      ]
    },
    {
      "cell_type": "markdown",
      "metadata": {
        "id": "GkEMbPoeXFbm"
      },
      "source": [
        "> $\\mathbf{uv}$ = $\\left[\\begin{array}{c}u_{1} \\\\ u_{2}\\end{array}\\right]$ $\\otimes$ $\\left[\\begin{array}{c}v_{1} \\\\ v_{2} \\end{array}\\right]$ = $\\left[\\begin{array}{l}u_{1}\\left[\\begin{array}{l}v_{1} \\\\ v_{2}\\end{array}\\right] \\\\ u_{2}\\left[\\begin{array}{l}v_{1} \\\\ v_{2}\\end{array}\\right]\\end{array}\\right]$=  $\\left[\\begin{array}{c}u_{1} v_{1} \\\\ u_{1} v_{2}\\\\ u_{2} v_{1} \\\\ u_{2} v_{2}\\end{array}\\right]$"
      ]
    },
    {
      "cell_type": "markdown",
      "metadata": {
        "id": "0RHZnB0lp7Tn"
      },
      "source": [
        "> Zur Kombination von Quantum States (aber nicht: entanglement!). If two or more qubits are viewed as a single quantum state, this combined state is equal to the tensor product of the constituent qubits. Any state that can be written as a tensor product from the constituent subsystems are called separable states (pure states).\n",
        "\n",
        "*On the other hand, an entangled state is any state that cannot be tensor-factorized, or in other words: An entangled state can not be written as a tensor product of its constituent qubits states. Special care must be taken when applying gates to constituent qubits that make up entangled states.*"
      ]
    },
    {
      "cell_type": "markdown",
      "metadata": {
        "id": "xFHF8tt4W6yh"
      },
      "source": [
        "* Vector: Kronecker (Tensor) Product (=Vector of <u>any size</u>) = You get a (flattened) vector\n",
        "\n",
        "* Kronecker product is a generalization of the outer product from vectors to matrices, and gives the matrix of the tensor product linear map with respect to a standard choice of basis."
      ]
    },
    {
      "cell_type": "markdown",
      "metadata": {
        "id": "fPkph6al-pZK"
      },
      "source": [
        "> $\\left[\\begin{array}{l}x_{0} \\\\ x_{1}\\end{array}\\right] \\otimes\\left[\\begin{array}{l}y_{0} \\\\ y_{1}\\end{array}\\right]=\\left[\\begin{array}{l}x_{0}\\left[\\begin{array}{l}y_{0} \\\\ y_{1}\\end{array}\\right] \\\\ x_{1}\\left[\\begin{array}{l}y_{0} \\\\ y_{1}\\end{array}\\right]\\end{array}\\right]=\\left[\\begin{array}{l}x_{0} y_{0} \\\\ x_{0} y_{1} \\\\ x_{1} y_{0} \\\\ x_{1} y_{1}\\end{array}\\right]$"
      ]
    },
    {
      "cell_type": "markdown",
      "metadata": {
        "id": "oPrJ5_AjPQfg"
      },
      "source": [
        "(multi-qubit: Tensor Product States)\n",
        "\n",
        "* now we construct larger states with multiple qubits\n",
        "\n",
        "* **we use the tensor product between kets**. With that we can create a basis, in the notation you contract them and drop one |> sign, so instead of |0>|0> you write: |00>\n",
        "\n",
        "* you get the 4 canonical basis vectors in a 4 dimensional complex space\n",
        "\n",
        "* convention in most quantum computing libraries: the rightmost qubit is the qubit zero, same order as representing binary values in classic computing."
      ]
    },
    {
      "cell_type": "markdown",
      "metadata": {
        "id": "Sqsjk_4n0P_9"
      },
      "source": [
        "Remember Dirac notation for the two states: \n",
        "\n",
        "> $\\left[\\begin{array}{l}1 \\\\ 0\\end{array}\\right]=|0\\rangle$\n",
        "\n",
        "> $\\left[\\begin{array}{l}0 \\\\ 1\\end{array}\\right]=|1\\rangle$"
      ]
    },
    {
      "cell_type": "markdown",
      "metadata": {
        "id": "4UcPdCQFGncx"
      },
      "source": [
        "A single bit has two possible states, and a qubit state has two complex amplitudes. Similarly, two bits have four possible states:\n",
        "\n",
        "> 00 01 10 11\n",
        "\n",
        "And to describe the state of two qubits requires four complex amplitudes. We store these amplitudes in a 4D-vector like so:\n",
        "\n",
        "> $|a\\rangle=a_{00}|00\\rangle+a_{01}|01\\rangle+a_{10}|10\\rangle+a_{11}|11\\rangle=\\left[\\begin{array}{c}a_{00} \\\\ a_{01} \\\\ a_{10} \\\\ a_{11}\\end{array}\\right]$\n",
        "\n",
        "https://qiskit.org/textbook/ch-gates/multiple-qubits-entangled-states.html"
      ]
    },
    {
      "cell_type": "markdown",
      "metadata": {
        "id": "ZxA8-uizONZR"
      },
      "source": [
        "*Building Two Qubit States: Tensor Products*"
      ]
    },
    {
      "cell_type": "markdown",
      "metadata": {
        "id": "L6LT0f2fturq"
      },
      "source": [
        "* In QM, when you have two single-particle Hilbert spaces, the total wavefunction lives in a larger Hilbert space that is the \"tensor product\" of those two spaces. \n",
        "\n",
        "* If qubit 1 is in state $\\left(\\begin{array}{l}a \\\\ b\\end{array}\\right)$, and qubit 2 is in state $\\left(\\begin{array}{c}c \\\\ d\\end{array}\\right)$, then the total state of the two qubit system is: \n",
        "\n",
        "> $\\left(\\begin{array}{l}a \\\\ b\\end{array}\\right) \\otimes\\left(\\begin{array}{l}c \\\\ d\\end{array}\\right)=\\left(\\begin{array}{l}a c \\\\ a d \\\\ b c \\\\ b d\\end{array}\\right)$, in a 4D Hilbert space.\n",
        "\n",
        "* Now, you can also write this same equation in terms of the Dorac nottation $|0\\rangle,|1\\rangle$ notation:\n",
        "\n",
        "> $\n",
        "[a|0\\rangle+b|1\\rangle] \\otimes[c|0\\rangle+d|1\\rangle]=a c|00\\rangle+a d|01\\rangle+b c|10\\rangle+b d|11\\rangle\n",
        "$\n",
        "\n",
        "* Notice the new notation: The state $|00\\rangle$ is just $|0\\rangle \\otimes|0\\rangle$, etc."
      ]
    },
    {
      "cell_type": "markdown",
      "metadata": {
        "id": "6_uUx0eQuSCs"
      },
      "source": [
        "Remember Dirac notation for the two states: \n",
        "\n",
        "> $\\left[\\begin{array}{l}1 \\\\ 0\\end{array}\\right]=|0\\rangle, \\quad\\left[\\begin{array}{l}0 \\\\ 1\\end{array}\\right]=|1\\rangle$. \n",
        "\n",
        "We choose two qubits in state $|0\\rangle$:\n",
        "\n",
        "> $|0\\rangle \\otimes|0\\rangle = \\left[\\begin{array}{l}1 \\\\ 0\\end{array}\\right] \\otimes\\left[\\begin{array}{l}1 \\\\ 0\\end{array}\\right]=$</font> $\\left[\\begin{array}{l}1\\left[\\begin{array}{l}1 \\\\ 0\\end{array}\\right] \\\\ 0\\left[\\begin{array}{l}1 \\\\ 0\\end{array}\\right]\\end{array}\\right]=$ $\\left [\\begin{array}{l}11 \\\\ 10 \\\\ 01 \\\\ 00\\end{array}\\right]$ = <font color=\"gray\">$\\left [\\begin{array}{l}3 \\\\ 2 \\\\ 1 \\\\ 0\\end{array}\\right]$</font> = <font color=\"blue\">$\\left [\\begin{array}{l}1 \\\\ 0 \\\\ 0 \\\\ 0\\end{array}\\right]$ "
      ]
    },
    {
      "cell_type": "markdown",
      "metadata": {
        "id": "R1ZKMHMn_K32"
      },
      "source": [
        "Quits in two different states:\n",
        "\n",
        "> $|0\\rangle \\otimes|1\\rangle = \\left[\\begin{array}{l}1 \\\\ 0\\end{array}\\right] \\otimes\\left[\\begin{array}{l}0 \\\\ 1\\end{array}\\right]=\\left[\\begin{array}{l}1\\left[\\begin{array}{l}0 \\\\ 1\\end{array}\\right] \\\\ 0\\left[\\begin{array}{l}0 \\\\ 1\\end{array}\\right]\\end{array}\\right]=\\left[\\begin{array}{l}0 \\\\ 1 \\\\ 0 \\\\ 0\\end{array}\\right]$"
      ]
    },
    {
      "cell_type": "markdown",
      "metadata": {
        "id": "RCyhUaQiwzlM"
      },
      "source": [
        "See more: https://docs.microsoft.com/de-de/azure/quantum/concepts-dirac-notation"
      ]
    },
    {
      "cell_type": "markdown",
      "metadata": {
        "id": "7g4pYpfhvErV"
      },
      "source": [
        "The most general two-qubit state can be written:\n",
        "$A|00\\rangle+B|01\\rangle+C|10\\rangle+D|11\\rangle$\n",
        "\n",
        "This state above is \"separable\". One easy way to see if such a state is separable is if the quantity 2|AD-BC|=0. This quantity is called the \"Concurrence\", and is a measure of entanglement. (The maximum possible value is 2|AD-BC|=1; this occurs for a \"maximally entangled state\".)"
      ]
    },
    {
      "cell_type": "markdown",
      "metadata": {
        "id": "mw7Ca0ANsAya"
      },
      "source": [
        "Suppose we have a register with two qubits. The computational basis is\n",
        "\n",
        "> $\n",
        "|0,0\\rangle=\\left[\\begin{array}{l}\n",
        "1 \\\\\n",
        "0 \\\\\n",
        "0 \\\\\n",
        "0\n",
        "\\end{array}\\right] \\quad|0,1\\rangle=\\left[\\begin{array}{l}\n",
        "0 \\\\\n",
        "1 \\\\\n",
        "0 \\\\\n",
        "0\n",
        "\\end{array}\\right] \\quad|1,0\\rangle=\\left[\\begin{array}{l}\n",
        "0 \\\\\n",
        "0 \\\\\n",
        "1 \\\\\n",
        "0\n",
        "\\end{array}\\right] \\quad|1,1\\rangle=\\left[\\begin{array}{l}\n",
        "0 \\\\\n",
        "0 \\\\\n",
        "0 \\\\\n",
        "1\n",
        "\\end{array}\\right]\n",
        "$"
      ]
    },
    {
      "cell_type": "markdown",
      "metadata": {
        "id": "3UT-rAVGscbA"
      },
      "source": [
        "A generic state of this register is\n",
        "$$\n",
        "|\\psi\\rangle=\\sum_{i=0}^{1} \\sum_{j=0}^{1} a_{i j}|i, j\\rangle\n",
        "$$\n",
        "where coefficients $a_{i j}$ are complex numbers that satisfy the constraint\n",
        "$$\n",
        "\\left|a_{00}\\right|^{2}+\\left|a_{01}\\right|^{2}+\\left|a_{10}\\right|^{2}+\\left|a_{11}\\right|^{2}=1\n",
        "$$"
      ]
    },
    {
      "cell_type": "markdown",
      "metadata": {
        "id": "AHsf-bsjsz7z"
      },
      "source": [
        "To help generalizing to $n$ qubits, it is usual to compress the notation by converting binary-base representation to decimal-base. The computational basis for two-qubit register in decimal-base representation is $\\{|0\\rangle,|1\\rangle,|2\\rangle,|3\\rangle\\}$. In the binary-base representation, we can determine the number of qubits by counting the number of digits inside the ket, for example, $|011\\rangle$ refers to three qubits. In the decimal-base representation, we cannot determine what is the number of qubits of the register. This information should come implicit. In this case, we can go back, write the numbers in the binary-base representation and explicitly retrieve the notation. In the compact notation, a generic state of a $n$-qubit register is\n",
        "$$\n",
        "|\\psi\\rangle=\\sum_{i=0}^{2^{n}-1} a_{i}|i\\rangle\n",
        "$$\n",
        "where coefficients $a_{i}$ are complex numbers that satisfy the constraint\n",
        "$$\n",
        "\\sum_{i=0}^{2^{n}-1}\\left|a_{i}\\right|^{2}=1\n",
        "$$"
      ]
    },
    {
      "cell_type": "markdown",
      "metadata": {
        "id": "H2k5T-zO_cwf"
      },
      "source": [
        "<font color=\"blue\">*This is the way by which we can represent multiple quantum bits (here 3 qubits) into a vector:*"
      ]
    },
    {
      "cell_type": "markdown",
      "metadata": {
        "id": "dL5V9jcK_pch"
      },
      "source": [
        "> <font color=\"red\">$\\left[\\begin{array}{l}0 \\\\ 1\\end{array}\\right] \\otimes\\left[\\begin{array}{l}1 \\\\ 0\\end{array}\\right] \\otimes\\left[\\begin{array}{l}1 \\\\ 0\\end{array}\\right]$</font> = $\\left[\\begin{array}{l}0 \\\\ 1\\end{array}\\right] \\otimes\\left[\\begin{array}{l}1\\left[\\begin{array}{l}1 \\\\ 0\\end{array}\\right] \\\\ 0\\left[\\begin{array}{l}1 \\\\ 0\\end{array}\\right]\\end{array}\\right]=\\left[\\begin{array}{l}0 \\\\ 1\\end{array}\\right] \\otimes\\left[\\begin{array}{l}1 \\\\ 0 \\\\ 0 \\\\ 0\\end{array}\\right]$ = $\\left[\\begin{array}{c}0 \\left[\\begin{array}{l}1 \\\\ 0 \\\\ 0 \\\\ 0\\end{array}\\right] \\\\ 1\\left[\\begin{array}{l}1 \\\\ 0 \\\\ 0 \\\\ 0\\end{array}\\right]\\end{array}\\right]$ = <font color=\"red\">$\\left[\\begin{array}{l}0 \\\\ 0 \\\\ 0 \\\\ 0 \\\\ 1 \\\\ 0 \\\\ 0 \\\\ 0\\end{array}\\right]$</font>"
      ]
    },
    {
      "cell_type": "markdown",
      "metadata": {
        "id": "PVl8GR0Q-d5y"
      },
      "source": [
        "Vector-Vector-Vector:\n",
        "\n",
        "> $\\left[\\begin{array}{l}x_{0} \\\\ x_{1}\\end{array}\\right] \\otimes\\left[\\begin{array}{l}y_{0} \\\\ y_{1}\\end{array}\\right] \\otimes\\left[\\begin{array}{l}z_{0} \\\\ z_{1}\\end{array}\\right]=\\left[\\begin{array}{l}x_{0} \\\\ x_{1}\\end{array}\\right] \\otimes\\left[\\begin{array}{l}y_{0}\\left[\\begin{array}{l}z_{0} \\\\ z_{1}\\end{array}\\right] \\\\ y_{1}\\left[\\begin{array}{l}z_{0} \\\\ z_{1}\\end{array}\\right]\\end{array}\\right]=\\left[\\begin{array}{l}x_{0} \\\\ x_{1}\\end{array}\\right] \\otimes\\left[\\begin{array}{l}y_{0} z_{0} \\\\ y_{0} z_{1} \\\\ y_{1} z_{0} \\\\ y_{1} z_{1}\\end{array}\\right]$ $=\\left[\\begin{array}{l}x_{0}\\left[\\begin{array}{l}y_{0} z_{0} \\\\ y_{0} z_{1} \\\\ y_{1} z_{0} \\\\ y_{1} z_{1}\\end{array}\\right] \\\\ x_{1}\\left[\\begin{array}{l}y_{0} z_{0} \\\\ y_{0} z_{1} \\\\ y_{1} z_{0} \\\\ y_{1} z_{1}\\end{array}\\right]\\end{array}\\right]=\\left[\\begin{array}{l}x_{0} y_{0} z_{0} \\\\ x_{0} y_{0} z_{1} \\\\ x_{0} y_{1} z_{0} \\\\ x_{0} y_{1} z_{1} \\\\ x_{1} y_{0} z_{0} \\\\ x_{1} y_{0} z_{1} \\\\ x_{1} y_{1} z_{0} \\\\ x_{1} y_{1} z_{1}\\end{array}\\right]$\n",
        "\n"
      ]
    },
    {
      "cell_type": "markdown",
      "metadata": {
        "id": "ZMW9OhOY_YNd"
      },
      "source": [
        "> $\\left[\\begin{array}{l}1 \\\\ 2\\end{array}\\right] \\otimes\\left[\\begin{array}{l}3 \\\\ 4\\end{array}\\right] \\otimes\\left[\\begin{array}{l}5 \\\\ 6\\end{array}\\right]=\\left[\\begin{array}{l}1 \\\\ 2\\end{array}\\right] \\otimes\\left[\\begin{array}{l}3\\left[\\begin{array}{l}5 \\\\ 6\\end{array}\\right] \\\\ 4\\left[\\begin{array}{l}5 \\\\ 6\\end{array}\\right]\\end{array}\\right]=\\left[\\begin{array}{l}1 \\\\ 2\\end{array}\\right] \\otimes\\left[\\begin{array}{l}15 \\\\ 18 \\\\ 20 \\\\ 24\\end{array}\\right]$ $=\\left[\\begin{array}{l}1\\left[\\begin{array}{c}15 \\\\ 18 \\\\ 20 \\\\ 24\\end{array}\\right] \\\\ 2\\left[\\begin{array}{l}15 \\\\ 18 \\\\ 20 \\\\ 24\\end{array}\\right]\\end{array}\\right]=\\left[\\begin{array}{l}15 \\\\ 18 \\\\ 20 \\\\ 24 \\\\ 30 \\\\ 36 \\\\ 40 \\\\ 48\\end{array}\\right]$"
      ]
    },
    {
      "cell_type": "markdown",
      "metadata": {
        "id": "QII5IQEZ-tYw"
      },
      "source": [
        "https://www.sharetechnote.com/html/Handbook_EngMath_TensorProduct.html\n"
      ]
    },
    {
      "cell_type": "markdown",
      "metadata": {
        "id": "Q60byJrAd9J0"
      },
      "source": [
        "**Difference: Direct Product, Direct Sum, Cartesian Product**"
      ]
    },
    {
      "cell_type": "markdown",
      "metadata": {
        "id": "REqLZ25Ccfq3"
      },
      "source": [
        "*Direct Product, Direct Sum, Cartesian Product, Tensor Product*\n",
        "\n",
        "> The direct product takes the Cartesian product $A \\times B$ of sets, l.e. the ordered pairs of elements $(a, b)$, and applies all operations component-wise; e.g. for a group we define $(a, b)+(c, d) \\equiv(a+c, b+d)$. \n",
        "\n",
        "https://www.mathphysicsbook.com/mathematics/abstract-algebra/combining-algebraic-objects/the-direct-product-and-direct-sum/\n",
        "\n",
        "* The Cartesian product is a specific kind of direct product—it’s the direct product of sets.\n",
        "\n",
        "* The direct product is a more general concept, defined for an arbitrary category. The most accessible examples would be something like a direct product of fields. field operations to just be done component-wise: $(a, b) *(c, d)+(e, f)=(a c+e, b d+f)$\n",
        "\n",
        "* Direct Sum: 𝛼(𝑥,𝑦)=(𝛼𝑥,𝛼𝑦)\n",
        "\n",
        "* Direct Sum: 𝛼(𝑥,𝑦)=(𝛼𝑥,𝑦) (bilinear map)\n",
        "\n",
        "https://math.stackexchange.com/questions/1334965/direct-sum-vs-direct-product-vs-tensor-product\n",
        "\n",
        "https://physics.stackexchange.com/questions/350508/tensor-product-vs-cartesian-product-for-composite-quantum-systems"
      ]
    },
    {
      "cell_type": "markdown",
      "metadata": {
        "id": "1cFN-oRmgKjy"
      },
      "source": [
        "**Difference Kronecker~ vs Outer (Dyadic) Product (vs inner Product)**"
      ]
    },
    {
      "cell_type": "markdown",
      "metadata": {
        "id": "-X_Ez5JbhnH3"
      },
      "source": [
        "* **Kronecker product**, the generalization to **any size** of the preceding. \n",
        "\n",
        "  * sometimes also called Tensor product\n",
        "\n",
        "  * Kronecker product is a generalization of the outer product (which is denoted by the same symbol) from vectors to matrices, and gives the matrix of the tensor product with respect to a standard choice of basis. \n",
        "  \n",
        "  * In the case of column vectors, the Kronecker product can be viewed as a form of vectorization (or flattening) of the outer product:\n",
        "\n",
        "![ggg](https://raw.githubusercontent.com/deltorobarba/repo/master/kronecker_outer.png)"
      ]
    },
    {
      "cell_type": "markdown",
      "metadata": {
        "id": "CWFQu3-qjXPu"
      },
      "source": [
        "**See difference between Kronecker Product & Outer Product in quantum mechanics** \n",
        "\n",
        "An example of the Kronecker product (here called: tensor product) of two vectors $\\phi \\in \\mathrm{C}^{2}$ and $\\psi \\in \\mathrm{C}^{2}$ is (you get a flattened vector)\n",
        "\n",
        "> $\\left(\\begin{array}{l}\\phi_{1} \\\\ \\phi_{2}\\end{array}\\right) \\otimes_{Kron}\\left(\\begin{array}{l}\\psi_{1} \\\\ \\psi_{2}\\end{array}\\right)=\\left(\\begin{array}{l}\\phi_{1} \\psi_{1} \\\\ \\phi_{1} \\psi_{2} \\\\ \\phi_{2} \\psi_{1} \\\\ \\phi_{2} \\psi_{2}\\end{array}\\right)$\n",
        "\n",
        "By rearranging this result we get the dyadic product (=outer product) of two vectors $\\theta_{i j}=\\phi_{i} \\psi_{j}$, (you get a matrix):\n",
        "\n",
        "> $\\theta=\\left(\\begin{array}{l}\\phi_{1} \\\\ \\phi_{2}\\end{array}\\right) \\otimes_{Outer}\\left(\\begin{array}{l}\\psi_{1} \\\\ \\psi_{2}\\end{array}\\right)=\\left(\\begin{array}{l}\\phi_{1} \\\\ \\phi_{2}\\end{array}\\right) \\cdot\\left(\\psi_{1}, \\psi_{2}\\right)=\\left(\\begin{array}{ll}\\phi_{1} \\psi_{1} & \\phi_{1} \\psi_{2} \\\\ \\phi_{2} \\psi_{1} & \\phi_{2} \\psi_{2}\\end{array}\\right)$\n",
        "\n",
        "\n",
        "Example taken here: https://www.quantiki.org/wiki/tensor-product\n"
      ]
    },
    {
      "cell_type": "markdown",
      "metadata": {
        "id": "JXgJ2f-2hpP2"
      },
      "source": [
        "**Outer product, also called dyadic product** of two column matrices, which is $\\mathbf {a} \\mathbf {b} ^{\\mathsf {T}}$.\n",
        "\n",
        "  * sometimes also called Tensor product\n",
        "\n",
        "* Unterschied zu inner product:\n",
        "\n",
        "  * inner product: $u^T v$ -> Scalar (in quantum: Bra-Ket)\n",
        "\n",
        "  * outer product: $u v^T$ -> Matrix (in quantum: Ket-Bra)\n",
        "\n",
        "![ggg](https://raw.githubusercontent.com/deltorobarba/repo/master/tensor_386.png)"
      ]
    },
    {
      "cell_type": "markdown",
      "metadata": {
        "id": "9BEalHwIY24p"
      },
      "source": [
        "**Kronecker Product**"
      ]
    },
    {
      "cell_type": "markdown",
      "metadata": {
        "id": "o6eiYsg7Whr2"
      },
      "source": [
        "* In mathematics, the Kronecker product, sometimes denoted by ⊗, is an operation on **two matrices of arbitrary size resulting** in a block matrix. \n",
        "\n",
        "* It is a generalization of the outer product (which is denoted by the same symbol) from vectors to matrices, and gives the matrix of the tensor product linear map with respect to a standard choice of basis. \n",
        "\n",
        "* **The Kronecker product is to be distinguished from the [usual matrix multiplication](https://en.wikipedia.org/wiki/Matrix_multiplication), which is an entirely different operation**. The Kronecker product is also sometimes called **matrix direct product**.\n"
      ]
    },
    {
      "cell_type": "markdown",
      "metadata": {
        "id": "A40veiRTXpou"
      },
      "source": [
        "> $\\left(\\begin{array}{ll}1 & 2 \\\\ 3 & 4 \\\\ 5 & 6\\end{array}\\right) \\otimes\\left(\\begin{array}{ll}7 & 8 \\\\ 9 & 0\\end{array}\\right)=\\left(\\begin{array}{ll}1 \\cdot\\left(\\begin{array}{ll}7 & 8 \\\\ 9 & 0\\end{array}\\right) & 2 \\cdot\\left(\\begin{array}{ll}7 & 8 \\\\ 9 & 0\\end{array}\\right) \\\\ 3 \\cdot\\left(\\begin{array}{ll}7 & 8 \\\\ 9 & 0\\end{array}\\right) & 4 \\cdot\\left(\\begin{array}{ll}7 & 8 \\\\ 9 & 0\\end{array}\\right) \\\\ 5 \\cdot\\left(\\begin{array}{ll}7 & 8 \\\\ 9 & 0\\end{array}\\right) & 6 \\cdot\\left(\\begin{array}{ll}7 & 8 \\\\ 9 & 0\\end{array}\\right)\\end{array}\\right)=\\left(\\begin{array}{cccc}7 & 8 & 14 & 16 \\\\ 9 & 0 & 18 & 0 \\\\ 21 & 24 & 28 & 32 \\\\ 27 & 0 & 36 & 0 \\\\ 35 & 40 & 42 & 48 \\\\ 45 & 0 & 54 & 0\\end{array}\\right)$"
      ]
    },
    {
      "cell_type": "markdown",
      "metadata": {
        "id": "uNIbSO-HWXIY"
      },
      "source": [
        "https://www.johndcook.com/blog/2020/04/13/kronecker-product-hadamard-matrix/"
      ]
    },
    {
      "cell_type": "markdown",
      "metadata": {
        "id": "-IWLVtmn_AvF"
      },
      "source": [
        "**General Examples**"
      ]
    },
    {
      "cell_type": "markdown",
      "metadata": {
        "id": "2fYujs_mJiGj"
      },
      "source": [
        "###### <font color=\"blue\">**Kovector-Vector-Multiplication (Inner)**: Bra-Ket\n"
      ]
    },
    {
      "cell_type": "markdown",
      "metadata": {
        "id": "4f-J08PZWChg"
      },
      "source": [
        "> $\\mathbf{u}^{\\top} \\mathbf{v}=\\left[\\begin{array}{llll}u_{1} & u_{2} & \\cdots & u_{n}\\end{array}\\right]\\left[\\begin{array}{c}v_{1} \\\\ v_{2} \\\\ \\vdots \\\\ v_{n}\\end{array}\\right]=\\left[u_{1} v_{1}+u_{2} v_{2}+\\cdots+u_{n} v_{n}\\right]$"
      ]
    },
    {
      "cell_type": "markdown",
      "metadata": {
        "id": "VqYwpW1LqB-T"
      },
      "source": [
        "> Zur Messung von Zustaenden in einer Basis (zB ich will die Probability wissen, mit der man den State=1 erhält)"
      ]
    },
    {
      "cell_type": "markdown",
      "metadata": {
        "id": "7vwv5EZHJDUv"
      },
      "source": [
        "* ⟨0∣1⟩ und ⟨1∣0⟩ ergeben inner product 0 (orthogonal zueinander)\n",
        "\n",
        "* ⟨0∣0⟩ und ⟨1∣1⟩ ergeben inner product 1 (mit sich selbst multipliziert)"
      ]
    },
    {
      "cell_type": "markdown",
      "metadata": {
        "id": "p77lzgYwKLBW"
      },
      "source": [
        "* Multiplication des Kovectors / Dual mit einem Vector. \n",
        "\n",
        "* Inner Product / Bra-Ket, conjugate transpose of Ket. \n",
        "\n",
        "* You get a scalar as output."
      ]
    },
    {
      "cell_type": "markdown",
      "metadata": {
        "id": "P0IV-xgiwDw8"
      },
      "source": [
        "https://en.m.wikipedia.org/wiki/Measurement_in_quantum_mechanics"
      ]
    },
    {
      "cell_type": "markdown",
      "metadata": {
        "id": "naLH8HIuwF27"
      },
      "source": [
        "https://en.m.wikipedia.org/wiki/Born_rule"
      ]
    },
    {
      "cell_type": "markdown",
      "metadata": {
        "id": "aBMfVspllP-s"
      },
      "source": [
        "**From Geometry Colab**\n",
        "\n",
        "*Under: Differentialgeometrie & Tensoranalysis I > Linear Form (=Covector, Funktional, 1-Form, or Dualvector)> Dual Space: How do Covector Components transform?*\n",
        "\n",
        "* Covectors are functions from vectors to real numbers 𝛼:𝑉→ℝ (Linearformen, Funktionale etc). \n",
        "\n",
        "  * **BUT: Covectors don't live in vector space 𝑉**. They take vectors in 𝑉 as inputs. (and then spit out scalar number etc, like integral or differential)\n",
        "\n",
        "* for example in: $\\left[\\begin{array}{ll}2 & 1\\end{array}\\right]\\left(\\left[\\begin{array}{l}x \\\\ y\\end{array}\\right]\\right)=2 x+1 y$\n",
        "\n",
        "  * **[2, 1] can the thought of as a function, rather than a row vector, that acts on another vector.**\n",
        "\n",
        "  * Think about what that means for $u^T v$ in quantum mechanics: Messung von Zustaenden in einer Basis (zB ich will die Probability wissen, mit der man den State=1 erhält)\n",
        "\n",
        "  * der covector ist die basis, in die ich projizieren will, um dessen wahrscheinlichkeit zu berechnen, zB <1|$\\psi$> bedeutet, dass ich 1 als Bra = Kovector auswähle, um die wahrscheinlichkeit zu berechnen, dass meine wavefunction $\\psi$ in den state 1 bei einer messung kollabiert\n",
        "\n",
        "    * <font color=\"blue\">**<1| ist dass hierbei eine Funktion, die ich auf |$\\psi$> anwende.** Als Ergebnis bekomme ich eine Zahl = die Probability\n",
        "\n",
        "    * **by taking a measurement I change the wavefunction to a delta function with one spike at what my measurement gave me** (Measurement ('collapse of the wavefunction')) \n",
        "    \n",
        "    * <font color=\"blue\">**ist das die Brücke zum Thema Funktional?? ein funktional gibt zB eine integration und dirac distribution is eine integration an einem bestimmten punkt. Bra ist ein Kovector, und kovectoren sind funktionale.**\n",
        "\n",
        "    * **The probability of a particular measurement is then the absolute square of the scalar product with the basis vector that corresponds to the outcome (probability of measuring 𝑋 is). This is Born's Rule. This scalar product of the wave function with a basis vector is also sometimes called a projection on that basis vector**\n",
        "    \n",
        "    * Da es ein Funtional ist: Also das Integral der Wahrscheinlichkeit für 1? das ergebnis wäre dann eine dirac distribution???\n",
        "\n",
        "  * <font color=\"red\">**Open Question: spielt hier Dirac Delta function eine Rolle?? (probbility superposition wird yu dirac distribution nach anwendung des measurement operators)**</font>\n",
        "\n",
        "* A typical example of a linear functional is integration\n",
        "\n",
        "* In Quantum mechanics: Linear functionals are particularly important in quantum mechanics. **Quantum mechanical systems are represented by Hilbert spaces, which are anti–isomorphic to their own dual spaces**. A state of a quantum mechanical system can be identified with a linear functional. For more information see bra–ket notation.\n",
        "\n",
        "* All covectors can be written as the linear combination of the dual basis vectors!"
      ]
    },
    {
      "cell_type": "markdown",
      "metadata": {
        "id": "KdsQy6dylkj2"
      },
      "source": [
        "\n",
        "\n",
        "---\n",
        "\n"
      ]
    },
    {
      "cell_type": "markdown",
      "metadata": {
        "id": "vvbr9aRoBjTw"
      },
      "source": [
        "* A normalized vector or unit vector is a vector whose norm is equal to 1. A basis is said orthonormal if all vectors are normalized and mutually orthogonal.\n",
        "\n",
        "* **A finite vector space with an inner product is called a Hilbert space**. \n",
        "\n",
        "* In order to an infinite vector space be a Hilbert space, it must obey additional properties besides having an inner product. Since we will deal primarily with finite vector spaces, we use the term Hilbert space as a synonym for vector space with an inner product.\n",
        "\n",
        "* A subspace W of a finite Hilbert space V is also a Hilbert space."
      ]
    },
    {
      "cell_type": "markdown",
      "metadata": {
        "id": "Q6RRTMpKKFcG"
      },
      "source": [
        "Betrachten Sie als Beispiel für die Dirac-Notation die „Braket\" $\\langle 0 \\mid 1\\rangle$, bei der es sich um das innere Produkt zwischen 0 und 1 handelt. Dies kann wie folgt ausgedrückt werden:\n",
        "\n",
        "> $\n",
        "\\langle 0 \\mid 1\\rangle=\\left[\\begin{array}{ll}\n",
        "1 & 0\n",
        "\\end{array}\\right]\\left[\\begin{array}{l}\n",
        "0 \\\\\n",
        "1\n",
        "\\end{array}\\right]=0\n",
        "$\n",
        "\n",
        "Dies bedeutet, dass $|0\\rangle$ und $|1\\rangle$ orthogonale Vektoren sind, \n",
        "\n",
        "* was bedeutet, dass $\\langle 0 \\mid 1\\rangle=\\langle 1 \\mid 0\\rangle=0$ ist. \n"
      ]
    },
    {
      "cell_type": "markdown",
      "metadata": {
        "id": "d52Hry6hYoKF"
      },
      "source": [
        "Remember, you have an (orthonormal) basis with 3 vectors and coefficients, to describe a vector in space (in Hilbert space):\n",
        "\n",
        "> $\\vec{v}=$<font color='blue'>$2$</font>$\\left(\\begin{array}{l}1 \\\\ 0 \\\\ 0\\end{array}\\right)$<font color='blue'>$+3$</font>$\\left(\\begin{array}{l}0 \\\\ 1 \\\\ 0\\end{array}\\right)$<font color='blue'>$+0$</font>$\\left(\\begin{array}{l}0 \\\\ 0 \\\\ 1\\end{array}\\right)$\n",
        "\n",
        "And the coefficients can be collected in one vector and are copmplex numbers:\n",
        "\n",
        "> $\\vec{v}=$<font color='blue'>$\\left(\\begin{array}{l}2 \\\\ 3 \\\\ 0\\end{array}\\right)$</font>\n",
        "\n",
        "**Or written formally**:\n",
        "\n",
        "> $|\\Psi\\rangle=a_{1}\\left(\\begin{array}{l}1 \\\\ 0 \\\\ 0\\end{array}\\right)+{a_{2}}\\left(\\begin{array}{l}0 \\\\ 1 \\\\ 0\\end{array}\\right)+a_{3}\\left(\\begin{array}{l}0 \\\\ 0 \\\\ 1\\end{array}\\right)$\n",
        "\n",
        "> $|\\Psi\\rangle=\\left(\\begin{array}{l}a_{1} \\\\ a_{2} \\\\ a_{3}\\end{array}\\right)$\n",
        "\n",
        "\n",
        "<font color=\"red\">**Where basis vectors $X, Y, Z$ correspond to possibe measurement outcomes:**\n",
        "\n",
        "> $|\\Psi\\rangle=a_{1} |X\\rangle +a_{2} |Y\\rangle + a_{3} |Z\\rangle$\n"
      ]
    },
    {
      "cell_type": "markdown",
      "metadata": {
        "id": "0A6siRC6YyVY"
      },
      "source": [
        "**Example zur Nutzung des Inner Products bei der Decoherence / Messung der Wahrscheinlichkeit eines Zustands**: \n",
        "\n",
        "* Remember: $|0\\rangle$ und $|1\\rangle$ orthogonale Vektoren sind, was bedeutet, dass $\\langle 0 \\mid 1\\rangle=\\langle 1 \\mid 0\\rangle=0$ ist. \n",
        "\n",
        "* Remember: $\\langle 0 \\mid 0\\rangle=\\langle 1 \\mid 1\\rangle=1$, was bedeutet, dass die beiden Berechnungsbasisvektoren auch als orthonormal bezeichnet werden können.\n",
        "\n",
        "Diese orthonormalen Eigenschaften sind im folgenden Beispiel nützlich: \n",
        "\n",
        "* Es gibt einen Zustand mit der Wave Function / Wahrscheinlichkeit fur beide Zustaende $|\\psi\\rangle=\\frac{3}{5}|1\\rangle+\\frac{4}{5}|0\\rangle$\n",
        "\n",
        "* die Wahrscheinlichkeit des Messens 1 ist dann (1 ist hierbei die basis, weil ich es messen will):\n",
        "\n",
        ">$\n",
        "|\\langle 1 \\mid \\psi\\rangle|^{2}=\\left|\\frac{3}{5}\\langle 1 \\mid 1\\rangle+\\frac{4}{5}\\langle 1 \\mid 0\\rangle\\right|^{2}=\\frac{9}{25}\n",
        "$\n",
        "\n",
        "* weil $\\langle 1 \\mid 0\\rangle=0$ faellt der zweite Term weg: $\\frac{4}{5}\\langle 1 \\mid 0\\rangle$ = $\\frac{4}{5} * 0$\n",
        "\n",
        "https://docs.microsoft.com/de-de/azure/quantum/concepts-dirac-notation\n"
      ]
    },
    {
      "cell_type": "markdown",
      "metadata": {
        "id": "N_1O47HSCki0"
      },
      "source": [
        "**Notation Details for the sum over all quantum states in many $u_{i}$ basis**\n",
        "\n",
        "* **We expand the Ket $\\psi$ in the basis u**, where the expansion coefficients c are given by the Braket between u and psi:\n",
        "\n",
        "> $|\\psi\\rangle=\\sum_{i} c_{i}\\left|u_{i}\\right\\rangle = c_{1} * u_{1} + c_{2} * u_{2} .. + c_{i}* u_{i} = c_{1}\\left(\\begin{array}{l}1 \\\\ 0 \\\\ 0\\end{array}\\right)+{c_{2}}\\left(\\begin{array}{l}0 \\\\ 1 \\\\ 0\\end{array}\\right)+.. c_{i}\\left(\\begin{array}{l}0 \\\\ 0 \\\\ i\\end{array}\\right) \\quad =\\left\\langle u_{i} \\mid \\psi\\right\\rangle$\n",
        "\n",
        "* <font color=\"red\">This c cofficients are what we call **representation of the Ket psi in the u basis**.\n",
        "\n",
        "* To define the matrix formulation pf Kets we rearrange this coefficient c into a column vector. And we can do it either in terms of the brakets u and psi, or directly in terms of the expansion coefficient c.\n",
        "* Therefore, in the matrix formulation of quantum mechanics Kets are written as column vectors.\n",
        "\n",
        "> $\\left(\\begin{array}{c}\\langle u_{1} \\mid \\psi\\rangle \\\\ \\left\\langle u_{2} \\mid \\psi\\right\\rangle \\\\ \\vdots \\\\ \\left\\langle u_{i} \\mid \\psi\\right\\rangle \\\\ \\vdots\\end{array}\\right)=\\left(\\begin{array}{c}c_{1} \\\\ c_{2} \\\\ \\vdots \\\\ c_{i} \\\\ \\vdots \\\\ \\end{array}\\right)$"
      ]
    },
    {
      "cell_type": "markdown",
      "metadata": {
        "id": "ztkYlsKXFeqk"
      },
      "source": [
        "> $\\langle\\psi|=\\sum_{i} c_{i}^{*}\\left\\langle u_{i}\\right| \\quad c_{i}^{*}=\\left\\langle\\psi \\mid u_{i}\\right\\rangle=\\left\\langle u_{i} \\mid \\psi\\right\\rangle^{*}$\n",
        "\n",
        "<font color=\"red\">**We expand the Bra psi in the basis u** in terms of the same expansion coefficient c that we used to expand the corresponding ket. \n",
        "* But in this case the expansion coefficients are the **complex conjugates** C*\n",
        "* To define the matrix formulation of bra‘s we arrange this coefficient into a row vector\n",
        "* We can do this in terms of the braket psi u or in terms of the complex conjugates of the C coefficients\n",
        "* Therefore Bra‘s are written as row vectors\n",
        "\n",
        "> $\\left(\\left\\langle\\psi \\mid u_{1}\\right\\rangle\\left\\langle\\psi \\mid u_{2}\\right\\rangle \\cdots\\left\\langle\\psi \\mid u_{i}\\right\\rangle \\cdots\\right)$\n",
        "\n",
        "> $=\\left(\\begin{array}{lllll}c_{1}^{*} & c_{2}^{*} & \\cdots & c_{i}^{*} & \\cdots\\end{array}\\right)$"
      ]
    },
    {
      "cell_type": "markdown",
      "metadata": {
        "id": "O_1EP1gCgcvW"
      },
      "source": [
        "**Measurement ('collapse of the wavefunction')**\n",
        "\n",
        "* When you measure, the wave function collapses and you get one clear value. **<u>It's the absolute value squared like |$a_0$|$^2$ that gives you the probability</u> = collapse of the wave function**. \n",
        "\n",
        "* Outcome for example zero with the absolute value of zero squared. Then you know the state is in the zero state = collapse of the wave function\n",
        "\n",
        "* Quantum state is also called a wave function: once you pull out a sample of the distribution and you get an outcome, you make an observation then you get a deterministic state afterwards of the random outcome."
      ]
    },
    {
      "cell_type": "markdown",
      "metadata": {
        "id": "KqFzG3j7ZUTJ"
      },
      "source": [
        "**The probability to get ANY measurement outcome is equal to one, which means that the sum over the squared scalar products with all basis vectors has to be one. Which is just the length of the vector (all wave functions have length 1)**:\n",
        "\n",
        "> $1=a_{1} a_{1}^{*}+a_{2} a_{2}^{*}+a_{3} a_{3}^{*}=|\\langle \\Psi \\mid \\Psi\\rangle|^{2}$\n",
        "\n",
        "where $\\mid \\Psi\\rangle$ is the wavefunction of the probability superposition, then multiplied with itself, which gives length 1."
      ]
    },
    {
      "cell_type": "markdown",
      "metadata": {
        "id": "cePA7Sr8u_aW"
      },
      "source": [
        "https://de.m.wikipedia.org/wiki/Bornsche_Wahrscheinlichkeitsinterpretation"
      ]
    },
    {
      "cell_type": "markdown",
      "metadata": {
        "id": "_g2d8RJDvBMA"
      },
      "source": [
        "https://en.m.wikipedia.org/wiki/Measurement_in_quantum_mechanics"
      ]
    },
    {
      "cell_type": "markdown",
      "metadata": {
        "id": "0R3bDgUAZye6"
      },
      "source": [
        "<font color=\"red\">**The probability of a particular measurement is then the absolute square of the scalar product with the basis vector that corresponds to the outcome (probability of measuring $X$ is). This is <u>Born's Rule</u>. This scalar product of the wave function with a basis vector is also sometimes called a <u>projection</u> on that basis vector:**\n",
        "\n",
        "> $|\\langle X \\mid \\Psi\\rangle|^{2}=a_{1} a_{1}^{*}$\n",
        "\n",
        "where $\\mid \\Psi\\rangle$ is the wavefunction of the probability superposition and $\\langle X \\mid$ is the basis vector of one outcome."
      ]
    },
    {
      "cell_type": "markdown",
      "metadata": {
        "id": "z06mwyF1Tsw8"
      },
      "source": [
        "> A measurement is defined as the application of an operator (simply a matrix multiplication) on the wave function. The operator however changes the original state |Ψ⟩ of the quantum system, so we will get a different value if we measure it again. Imagine determining the position of an electron, the electron has hit a surface or is struck by a photon, both of which changes its momentum therefore its original wave function. This is one of the fundamental postulates of quantum mechanics.\n"
      ]
    },
    {
      "cell_type": "markdown",
      "metadata": {
        "id": "2dHW2dfQCaXG"
      },
      "source": [
        "Measurement in quantum mechanics: https://en.m.wikipedia.org/wiki/Measurement_in_quantum_mechanics"
      ]
    },
    {
      "cell_type": "markdown",
      "metadata": {
        "id": "-cGLowwQI7jh"
      },
      "source": [
        "https://en.m.wikipedia.org/wiki/Measurement_problem"
      ]
    },
    {
      "cell_type": "markdown",
      "metadata": {
        "id": "BHBqAboRbG5j"
      },
      "source": [
        "It’s called a projection because it’s the length you get if you project the full wave-function on the direction that corresponds to the basis vector. Like a vector casting a shadow (in blue)\n",
        "\n",
        "![geometry](https://raw.githubusercontent.com/deltorobarba/repo/master/quantum_015.png)"
      ]
    },
    {
      "cell_type": "markdown",
      "metadata": {
        "id": "uJJA9NI8cVwJ"
      },
      "source": [
        "The whole issue with the measurement in quantum mechanics is now that once you do a measurement, and you have projected th wave-function onto one of the basis vectors, then its length will no longer be equal to one because the probability of getting this particular measurement outcome may have been smaller than 1. \n",
        "\n",
        "But, once you have measured the state, it is with probability 1 in one of the basis vectors. So then you have to choose the measurement outcome that you actually fund and stretch the length of the vector back to 1. This is what is called the <u>measurement update</u> (look how the blue vector got longer!)\n",
        "\n",
        "![geometry](https://raw.githubusercontent.com/deltorobarba/repo/master/quantum_016.png)"
      ]
    },
    {
      "cell_type": "markdown",
      "metadata": {
        "id": "AsAmVnHQbiyN"
      },
      "source": [
        "https://www.youtube.com/watch?v=ctXDXABJRtg"
      ]
    },
    {
      "cell_type": "markdown",
      "metadata": {
        "id": "60DM3PNGUhDg"
      },
      "source": [
        "**<font color=\"blue\">Bra-Ket $\\langle\\psi|\\psi\\rangle$</font> or <font color=\"blue\">$\\langle\\Phi \\mid \\Psi\\rangle$</font> (Inner product)**"
      ]
    },
    {
      "cell_type": "markdown",
      "metadata": {
        "id": "QFGqjBpBFOmX"
      },
      "source": [
        "* In der [**Dirac Notation (Bra Ket Notation)**](https://de.m.wikipedia.org/wiki/Dirac-Notation) schreibt man die Vektoren eines Vektorraums $V$ auch außerhalb eines Skalarprodukts mit einer spitzen Klammer als Ket $|v\\rangle$. \n",
        "\n",
        "* Jedem Ket $|v\\rangle$ entspricht ein Bra $\\langle v|$, der dem Dualraum $V^{*}$ angehört, also eine lineare Abbildung von $V$ in den zu Grunde liegenden Körper $K$ repräsentiert, und umgekehrt. \n",
        "\n",
        "* Das Ergebnis der Operation eines Bras $\\langle v|$ auf einen Ket $|w\\rangle$ wird $\\langle v \\mid w\\rangle$ geschrieben, womit der Zusammenhang mit der konventionellen Notation des Skalarprodukts hergestellt ist. We can use the <font color=\"blue\">$\\langle\\text{bra}|\\text{ket}\\rangle$</font> notation to write a scalar product conveniently as a “bra-ket”.\n"
      ]
    },
    {
      "cell_type": "markdown",
      "metadata": {
        "id": "HSTwK3Nha-7o"
      },
      "source": [
        "**Case 1: Inner product of one vector (with all basis vectors):**"
      ]
    },
    {
      "cell_type": "markdown",
      "metadata": {
        "id": "JGMeJbQdZty3"
      },
      "source": [
        "Ket: $|\\Psi\\rangle=\\left(\\begin{array}{l}a_{1} \\\\ a_{2} \\\\ a_{3}\\end{array}\\right)$\n",
        "\n",
        "Bra: $\\langle\\Psi^*| = (a{_1}^*, a{_2}^*, a{_3}^*)$\n",
        "\n",
        "Bra-Ket: $(a{_1}^*a_1 + a{_2}^*a_2 + a{_2}^*a_2)$"
      ]
    },
    {
      "cell_type": "markdown",
      "metadata": {
        "id": "LTI8NaRsRAU6"
      },
      "source": [
        "* With this bra-ket notation it's now very easy to write dot products = the **inner product between Bra and Ket which is $\\langle\\psi \\mid \\psi\\rangle$ = 1**, and it is normalized the result is 1(it's a particular way of writing the 2-norm when using complex inputs). \n",
        "\n",
        "* With the dot product of bra and ket you will get a **scalar as a result**, like total probability is 1, here for the coefficients (probability amplitudes):\n",
        "\n",
        "> $\\langle\\psi \\mid \\psi\\rangle = \\left|a_{0}\\right|^{2}+\\left|a_{1}\\right|^{2}= 1$\n",
        "\n",
        "> The Bra-Ket $\\langle\\psi \\mid \\psi\\rangle$  represents the inner product in the Hilbert space\n",
        "\n",
        "* **The probability to get ANY measurement outcome is equal to one, which means that the sum over the squared scalar products with all basis vectors has to be one. Which is just the length of the vector (all wave functions have length 1)**:\n",
        "\n",
        "> $1=a_{1} a_{1}^{*}+a_{2} a_{2}^{*}+a_{3} a_{3}^{*}=|\\langle \\Psi \\mid \\Psi\\rangle|^{2}$"
      ]
    },
    {
      "cell_type": "markdown",
      "metadata": {
        "id": "28ZYgNbTUds8"
      },
      "source": [
        "**Case 2: Inner product of two different vectors**:\n",
        "\n",
        "For example, the scalar product between two different vectors is the sum over the products of the coefficients \n",
        "\n",
        "(and be careful: the Bra vector $|\\Phi\\rangle$ has complex conjugates over its coefficients here):\n",
        "\n",
        "\n",
        "$|\\Psi\\rangle=\\left(\\begin{array}{l}a_{1} \\\\ a_{2} \\\\ a_{3}\\end{array}\\right)$\n",
        "\n",
        "$|\\Phi\\rangle=\\left(\\begin{array}{l}c_{1} \\\\ c_{2} \\\\ c_{3}\\end{array}\\right)$\n",
        "\n",
        "$\\langle\\Phi \\mid \\Psi\\rangle=a_{1} c_{1}^{*}+b, c_{2}^{*}+a_{3} c_{3}^{*}$ = a scalar"
      ]
    },
    {
      "cell_type": "markdown",
      "metadata": {
        "id": "-rsFgaBYjzXX"
      },
      "source": [
        "**Case 3: Inner product of two basis vectors**:\n",
        "\n",
        "And in that case of their pure basis it's zero, because these are two orthogonal vectors:\n",
        "\n",
        "> $\\langle 0 \\mid 1\\rangle=[1,0]\\left[\\begin{array}{l}0 \\\\ 1\\end{array}\\right] = 0$"
      ]
    },
    {
      "cell_type": "markdown",
      "metadata": {
        "id": "w9mIb4d3jXPm"
      },
      "source": [
        "https://www.youtube.com/watch?v=fIYIFCVICcA&t=61s"
      ]
    },
    {
      "cell_type": "markdown",
      "metadata": {
        "id": "m1CRyEEMpKAh"
      },
      "source": [
        "https://towardsdatascience.com/do-you-struggle-with-the-quantum-superposition-86d0f2147bfb"
      ]
    },
    {
      "cell_type": "markdown",
      "metadata": {
        "id": "q3-zqqxXDq-p"
      },
      "source": [
        "**<font color=\"blue\">Bra $\\langle\\psi|$</font> (conjugate transpose of Ket)**"
      ]
    },
    {
      "cell_type": "markdown",
      "metadata": {
        "id": "yli_Tsn1RlRp"
      },
      "source": [
        "The coefficients of a quantum vector $\\vec{v}=$<font color='blue'>$\\left(\\begin{array}{l}2 \\\\ 3 \\\\ 0\\end{array}\\right)$</font> are complex numbers with an imaginary part:\n",
        "\n",
        "$z=x+1 y$\n",
        "\n",
        "You can create the conjugate of complex numbers (flip the sign of i):\n",
        "\n",
        "$z^*=x-1 y$"
      ]
    },
    {
      "cell_type": "markdown",
      "metadata": {
        "id": "erR-cpUydgOx"
      },
      "source": [
        "So that means:\n",
        "\n",
        "> $|\\Psi\\rangle=a_{1}\\left(\\begin{array}{l}1 \\\\ 0 \\\\ 0\\end{array}\\right)+{a_{2}}\\left(\\begin{array}{l}0 \\\\ 1 \\\\ 0\\end{array}\\right)+a_{3}\\left(\\begin{array}{l}0 \\\\ 0 \\\\ 1\\end{array}\\right)$\n",
        "\n",
        "With the Ket in one vector:\n",
        "\n",
        "> $|\\Psi\\rangle=\\left(\\begin{array}{l}a_{1} \\\\ a_{2} \\\\ a_{3}\\end{array}\\right)$"
      ]
    },
    {
      "cell_type": "markdown",
      "metadata": {
        "id": "aGT9mIJajX2L"
      },
      "source": [
        "**Bra is then the conjugate transpose of Ket** (with the transpose symbol called \"dagger\". It's a row vector / one form / covector / dual space):\n",
        "\n",
        "> $\\langle\\Psi|=\\left(a_{1}^*, a_{2}^*, a_{3}^*\\right)$ = $\\left[\\begin{array}{ll}\\vec{a}_{1} & \\vec{a}_{2} & \\vec{a}_{3}\\end{array}\\right]$\n",
        "\n",
        "> $\\langle\\Psi| \\doteq | \\Psi\\rangle^{\\dagger}$"
      ]
    },
    {
      "cell_type": "markdown",
      "metadata": {
        "id": "kQE0JmWIOkI1"
      },
      "source": [
        "**Remember: Covectors are also called called one-form because they take one vector and output a scalar.**\n",
        "\n",
        "* In math they are called Funktionale, Linearformen oder auch 1-Formen\n",
        "\n",
        "* in physics they are more often called covariant vectors, or covectors\n",
        "\n",
        "**This scalar can be a integrand (Wegintegral) or Differential, Temperature, Speed etc..**\n",
        "\n",
        "(meanwhile a metric tensor is two-form because it takes 2 vectors to output one scalar, which is length or angle)."
      ]
    },
    {
      "cell_type": "markdown",
      "metadata": {
        "id": "dW-MBTjvb3fW"
      },
      "source": [
        "*See we use the \"represented by\" symbol $\\doteq$ and not the equal sign: Wichtig ist dabei, **dass $|v\\rangle$ und der dazugehörige Spaltenvektor $\\left(v_{1}, v_{2}, v_{3}, \\ldots, v_{m}\\right)^{T}$ nicht dasselbe mathematische Objekt sind und somit kein Gleichheitszeichen verwendet werden darf**. Dies wird insbesondere daran deutlich, dass die Bra-Ket-Schreibweise von der Wahl einer Basis unabhängig ist, während die Darstellung durch Koordinatenvektoren die Wahl einer Basis voraussetzt. Stattdessen sollte deutlich gemacht werden, dass es sich bei $\\left(a_{1}, a_{2}, a_{3}, \\ldots, a_{m}\\right)^{T}$ um die Darstellung von $|a\\rangle$ handelt. Dies kann durch die Verwendung von Zeichen wie $\\Rightarrow, \\doteq, \\leftrightarrow$* etc erfolgen.*"
      ]
    },
    {
      "cell_type": "markdown",
      "metadata": {
        "id": "kHDmRMQ0vYqh"
      },
      "source": [
        "**Collapse of the wave function**\n",
        "\n",
        "* when we measure it, will only be 100% in one of the two states\n",
        "\n",
        "> $|\\uparrow\\rangle \\quad \\text{OR} \\quad |\\downarrow\\rangle$\n",
        "\n",
        "* the coefficients $\\alpha$ and $\\beta$ are directly linked to the **probability** finding each one after a measurement\n",
        "\n",
        "* This probability is for each state actually absolute value squared: $(|\\alpha|)^2$\n",
        "\n",
        "* we can only predict the probability of an outcome of a measurement, not knowing for sure what will happen"
      ]
    },
    {
      "cell_type": "markdown",
      "metadata": {
        "id": "-1E3GVo-xn15"
      },
      "source": [
        "**Vectors**\n",
        "\n",
        "* this measurement (=electron with spin up or spin down) can be also thought of **as a vector in an abstract space (Hilbert space)**\n",
        "\n",
        "* the two possible outcomes are orthogonal vectors in this space - it's an abstract mathematical space. the two outcomes are not really orthogonally pointed\n",
        "\n",
        "* the inner product between two states is = 0, because they are orthogonal to each other\n",
        "\n",
        "> $\\langle \\uparrow \\mid \\downarrow \\rangle =  0$\n",
        "\n",
        "* in the superposition, as a vector it is a **linear combination** of both states (some amount of spin up PLUS some amount of spin down)\n"
      ]
    },
    {
      "cell_type": "markdown",
      "metadata": {
        "id": "1igh_3RbNYbc"
      },
      "source": [
        "See also: https://en.m.wikipedia.org/wiki/Born_rule"
      ]
    },
    {
      "cell_type": "markdown",
      "metadata": {
        "id": "xZKnO1Baz_OT"
      },
      "source": [
        "![geometry](https://raw.githubusercontent.com/deltorobarba/repo/master/quantum_003b.png)"
      ]
    },
    {
      "cell_type": "markdown",
      "metadata": {
        "id": "kwr5zndW1yET"
      },
      "source": [
        "**Interference:** \n",
        "\n",
        "* we cannot do on classical computers. While different vectors and coefficients interact in calculations. \n",
        "\n",
        "* There is an operator (as a matrix in the image) that transforms the zero-ket into the equal superposition of the zero-ket and the one-ket. \n",
        "\n",
        "* if I take this outcome and apply the same operator on it again, something interesting happens (it's a linear operator btw): results cancel out and you get a deterministic outcome by applying the operator again. \n",
        "  \n",
        "* This is an example of intereference. The probability amplitudes of the zero ket destructively interfere; they vanish for the superposition. "
      ]
    },
    {
      "cell_type": "markdown",
      "metadata": {
        "id": "weHKGn1DtC3-"
      },
      "source": [
        "https://www.youtube.com/watch?v=Y5WRv_9757A&list=PLBn8lN0Dcvpla6a6omBni1rjyQJ4CssTP&index=43"
      ]
    },
    {
      "cell_type": "markdown",
      "metadata": {
        "id": "tOJrnodZ2AJ5"
      },
      "source": [
        "https://www.youtube.com/watch?v=payp7simhBM"
      ]
    },
    {
      "cell_type": "markdown",
      "metadata": {
        "id": "GN32DC3rwxMN"
      },
      "source": [
        "**Born rule**"
      ]
    },
    {
      "cell_type": "markdown",
      "metadata": {
        "id": "g5C4ycm1xLaw"
      },
      "source": [
        "![geometry](https://raw.githubusercontent.com/deltorobarba/repo/master/quantum_005.png)"
      ]
    },
    {
      "cell_type": "markdown",
      "metadata": {
        "id": "rD0zqJ-Aw0D6"
      },
      "source": [
        "https://www.youtube.com/watch?v=aVFe08G0uYk&list=PLBn8lN0Dcvpla6a6omBni1rjyQJ4CssTP&index=45"
      ]
    },
    {
      "cell_type": "markdown",
      "metadata": {
        "id": "rIMlLhynTUvk"
      },
      "source": [
        "\n",
        "\n",
        "\n",
        "* the other way around ket-bra would give you a **matrix as a result** (So order makes a big difference). This is nothing else than the projection to this partially basis vector.\n",
        "\n",
        "> $|0\\rangle\\langle 0| =$ $\\left[\\begin{array}{l}1 \\\\ 0\\end{array}\\right]\\left[\\begin{array}{ll}1 & 0\\end{array}\\right]=\\left[\\begin{array}{ll}1 & 0 \\\\ 0 & 0\\end{array}\\right]$\n",
        "\n",
        "https://www.mathpages.com/home/kmath638/kmath638.htm\n",
        "\n",
        "\n",
        "\n"
      ]
    },
    {
      "cell_type": "markdown",
      "metadata": {
        "id": "AW31S4IPGYLo"
      },
      "source": [
        "**The matrix is nothing else but the projection to the particular basis vector $|0\\rangle\\langle 0|$**\n",
        "\n",
        "* Measurements are very similar to random variables in classical probability. \n",
        "\n",
        "* the state afterwards becomes the zero ket\n",
        "\n",
        "* Measurements take measurement outcomes, this will be always random\n",
        "* Born rule: you get some outcome zero of a qubit state with probability |a0|2\n",
        "* The state afterwards becomes the zero ket |0>\n",
        "* So the superposition is destroyed , and you only get one part of the superposition\n",
        "* It is random which part you get with a certain probability = collapse of the wave function\n",
        "* The way we write it down is actually with the formalism from before (ket bra multiplication)\n",
        "\n"
      ]
    },
    {
      "cell_type": "markdown",
      "metadata": {
        "id": "1SzVM_J5zGHm"
      },
      "source": [
        "###### **<font color =\"blue\">Vector-Kovector-Multiplication (Outer / Dyadic)**: Density Matrix for Mixed States (Ket-Bra)"
      ]
    },
    {
      "cell_type": "markdown",
      "metadata": {
        "id": "oc-NQArnWUzn"
      },
      "source": [
        "> $\\mathbf{u v}^{T}=\\left[\\begin{array}{c}u_{1} \\\\ u_{2} \\\\ \\vdots \\\\ u_{n}\\end{array}\\right]\\left[\\begin{array}{llll}v_{1} & v_{2} & \\cdots & v_{n}\\end{array}\\right]$= $\\left[\\left[\\begin{array}{c}u_{1} \\\\ u_{2} \\\\ \\vdots \\\\ u_{n}\\end{array}\\right] v_{1}\\left[\\begin{array}{c}u_{1} \\\\ u_{2} \\\\ \\vdots \\\\ u_{n}\\end{array}\\right] v_{2} \\ldots \\left[\\begin{array}{c}u_{1} \\\\ u_{2} \\\\ \\vdots \\\\ u_{n}\\end{array}\\right] v_{2} \\right]$ = $\\left[\\begin{array}{cccc}u_{1} v_{1} & u_{1} v_{2} & \\cdots & u_{1} v_{n} \\\\ u_{2} v_{1} & u_{2} v_{2} & \\cdots & u_{2} v_{n} \\\\ \\vdots & \\vdots & & \\vdots \\\\ u_{n} v_{1} & u_{n} v_{2} & \\cdots & u_{n} v_{n}\\end{array}\\right]$"
      ]
    },
    {
      "cell_type": "markdown",
      "metadata": {
        "id": "oparIQXHU4aj"
      },
      "source": [
        "* Outer (dyadic) Product (Ket-Bra) = You get a matrix $\\hat{\\rho}$\n",
        "\n",
        "* You get Density Matrix for Mixed States (& Decoherence)\n",
        "\n",
        "* With density matrices we can create probabilistic mixtures over pure states ! [classical probability distribution](https://www.youtube.com/watch?v=BE8RxAESx5I&list=PLBn8lN0Dcvpla6a6omBni1rjyQJ4CssTP&index=47)"
      ]
    },
    {
      "cell_type": "markdown",
      "metadata": {
        "id": "_rrzr9jUXTiq"
      },
      "source": [
        "**A density matrix is a matrix that describes the quantum state of a physical system**. \n",
        "\n",
        "* It allows for the calculation of the probabilities of the outcomes of any measurement performed upon this system, using the **Born rule**. \n",
        "\n",
        "* It is a generalization of the more usual state vectors or wavefunctions: while those can only represent pure states, density matrices can also represent **mixed states**.\n",
        "\n",
        "> **Mixed states arise in quantum mechanics in two different situations:** \n",
        "\n",
        "* first when the preparation of the system is not fully known, and thus one must deal with a **statistical ensemble of possible preparations**, and \n",
        "\n",
        "* second when one wants to describe a **physical system which is entangled** with another, as its state can not be described by a pure state."
      ]
    },
    {
      "cell_type": "markdown",
      "metadata": {
        "id": "m1TT2ifHWx6l"
      },
      "source": [
        "https://en.wikipedia.org/wiki/Quantum_state#Mixed_states"
      ]
    },
    {
      "cell_type": "markdown",
      "metadata": {
        "id": "4JXWhG1kNb2Q"
      },
      "source": [
        "**Density matrix is an alternative way of expressing quantum states**:\n",
        "\n",
        "* You can represent the state of qubits using the state-vector notation. Working with this representation is convenient when dealing with states that can always be **expressed as a linear combination of basis states**, each with an associated probability amplitude. \n",
        "\n",
        "* However, in quantum computation and quantum communication, there are many practical scenarios in which the state of our qubits **cannot be written down as linear combinations in a given basis**, but instead must be expressed in terms of **ensembles (statistical mixtures) of multiple states**, each with an associated probability of occurrence.\n",
        "\n",
        "* Density matrix is an **alternative way of expressing quantum states**. However, unlike the state-vector representation, this formalism allows us to use the same mathematical language to describe both the more simple quantum states we've been working with so far (pure states), **as well as the mixed states** that consist of ensembles of pure states.\n",
        "\n",
        "\n"
      ]
    },
    {
      "cell_type": "markdown",
      "metadata": {
        "id": "4syJv14dKXX-"
      },
      "source": [
        "> $\n",
        "\\begin{array}{c|c|c} \n",
        "& \\begin{array}{c}\n",
        "\\text { Pure } \\\\\n",
        "\\text { State }\n",
        "\\end{array} & \\begin{array}{c}\n",
        "\\text { Mixed } \\\\\n",
        "\\text { State }\n",
        "\\end{array} \\\\\n",
        "\\hline \\begin{array}{c}\n",
        "\\text { Density } \\\\\n",
        "\\text { Matrix } \\\\\n",
        "|\\psi\\rangle\\langle\\psi|\n",
        "\\end{array} & \\color{green} ✔ & \\color{green}✔ \\\\\n",
        "\\hline \\begin{array}{c}\n",
        "\\text { Wave } \\\\\n",
        "\\text { Function } \\\\\n",
        "|\\Psi\\rangle\n",
        "\\end{array} & \\color{green}✔ & \\color{red} ❌\n",
        "\\end{array}\n",
        "$"
      ]
    },
    {
      "cell_type": "markdown",
      "metadata": {
        "id": "3pX_xUBx8akI"
      },
      "source": [
        "> Any mixed state can be written as a [convex combination](https://en.m.wikipedia.org/wiki/Convex_combination) of pure states, though [not in a unique way (Schrödinger–HJW theorem)](https://en.m.wikipedia.org/wiki/Schrödinger–HJW_theorem). The [state space](https://en.m.wikipedia.org/wiki/State_space) of a quantum system is the set of all states, pure and mixed, that can be assigned to it. (Density matrix useful in describing composite systems. Zur Beschreibung von Mixed States zw. mindestens 2 Qubits)\n"
      ]
    },
    {
      "cell_type": "markdown",
      "metadata": {
        "id": "lmjn_jJTIrnv"
      },
      "source": [
        "**Example of a Mixed State**"
      ]
    },
    {
      "cell_type": "markdown",
      "metadata": {
        "id": "8epLTr0lIzM6"
      },
      "source": [
        "*Source here point 2.1: https://qiskit.org/textbook/ch-quantum-hardware/density-matrix.html*\n",
        "\n",
        "* Let's consider the case where we initialize a qubit in the |0⟩ state, and then apply a Hadamard gate. \n",
        "\n",
        "* **Now, unlike the scenario we described for pure states, this Hadamard gate is not ideal: Due to errors in the quantum-computer hardware, only 80% of the times the state is prepared**, this Hadamard gate produces the desired state:\n",
        "\n",
        "> $\\left|\\psi_{1}\\right\\rangle=\\frac{1}{\\sqrt{2}}(|0\\rangle+|1\\rangle)$\n",
        "\n",
        "* The remaining $20 \\%$ of the times, the pulse applied to rotate the state is either too short or too long by $\\frac{\\pi}{6}$ radians about the $x$-axis. This means that when we use this Hadamard gate, we could end up with following two undesired outcome states:\n",
        "\n",
        ">$\n",
        "\\left|\\psi_{2}\\right\\rangle=\\frac{\\sqrt{3}}{2}|0\\rangle+\\frac{1}{2}|1\\rangle, \\quad\\left|\\psi_{3}\\right\\rangle=\\frac{1}{2}|0\\rangle+\\frac{\\sqrt{3}}{2}|1\\rangle\n",
        "$\n",
        "\n",
        "* The figure below shows the Bloch representation for the three possible states our qubit could take if the short pulse happens 10% of the time, and the long pulse the remaining 10% of the time:\n",
        "\n",
        "\n"
      ]
    },
    {
      "cell_type": "markdown",
      "metadata": {
        "id": "PHg8_AGtJgwt"
      },
      "source": [
        "![ggg](https://raw.githubusercontent.com/deltorobarba/repo/master/quantum_198.png)\n"
      ]
    },
    {
      "cell_type": "markdown",
      "metadata": {
        "id": "C44d10jQJpSf"
      },
      "source": [
        "* Since we do not know the outcome of our qubit everytime we prepare it, we can represent it as a mixed state of the form:\n",
        "\n",
        "> $\n",
        "\\rho_{H}=\\frac{4}{5}\\left|\\psi_{1}\\right\\rangle\\left\\langle\\psi_{1}\\left|+\\frac{1}{10}\\right| \\psi_{2}\\right\\rangle\\left\\langle\\psi_{2}\\left|+\\frac{1}{10}\\right| \\psi_{3}\\right\\rangle\\left\\langle\\psi_{3}\\right|$\n",
        "\n",
        "* Here, the factors $\\frac{4}{5}, \\frac{1}{10}$ and $\\frac{1}{10}$ correspond to the classical probabilities of obtaining the states $\\left|\\psi_{1}\\right\\rangle,\\left|\\psi_{2}\\right\\rangle$ and $\\left|\\psi_{3}\\right\\rangle$, respectively.\n",
        "\n",
        "* By replacing each of these three possible state vectors into  $\\rho$ , we can find the density matrix that represents this mixture:\n",
        "\n",
        "> $\\rho_{H}=\\frac{4}{5}\\left[\\begin{array}{ll}\\frac{1}{2} & \\frac{1}{2} \\\\ \\frac{1}{2} & \\frac{1}{2}\\end{array}\\right]+\\frac{1}{10}\\left[\\begin{array}{cc}\\frac{3}{4} & \\frac{\\sqrt{3}}{4} \\\\ \\frac{\\sqrt{3}}{4} & \\frac{1}{4}\\end{array}\\right]+\\frac{1}{10}\\left[\\begin{array}{cc}\\frac{1}{4} & \\frac{\\sqrt{3}}{4} \\\\ \\frac{\\sqrt{3}}{4} & \\frac{3}{4}\\end{array}\\right]$\n",
        "$\\rho_{H}=\\left[\\begin{array}{cc}\\frac{1}{2} & \\frac{\\sqrt{3}}{20}+\\frac{2}{5} \\\\ \\frac{\\sqrt{3}}{20}+\\frac{2}{5} & \\frac{1}{2}\\end{array}\\right]$"
      ]
    },
    {
      "cell_type": "markdown",
      "metadata": {
        "id": "9k0ej057Hz42"
      },
      "source": [
        "**Course: Density Matrix for Mixed States**"
      ]
    },
    {
      "cell_type": "markdown",
      "metadata": {
        "id": "BNaYgpSDQMmg"
      },
      "source": [
        "*Source: Parth G: https://www.youtube.com/watch?v=ZAOc4eMTQiw*\n",
        "\n",
        "* **Pain Point**:  when we see this notation for two states spin up and spin down: $|\\psi\\rangle=\\frac{1}{\\sqrt{2}}|\\uparrow\\rangle+\\frac{1}{\\sqrt{2}}|\\downarrow\\rangle$ we think of it as being in a superposition of both states. But sometimes we don't know if the system is actually in this superposition, or not already collapsed to one. \n",
        "\n",
        "* So, in practice before we measure a system, it can be in following three states, because we lack information about it. This is a mixed state:\n",
        "\n",
        "  * 33% probability: $|\\psi\\rangle=\\mid \\uparrow>$\n",
        "  \n",
        "  * 33% probability: $|\\psi\\rangle=\\mid \\downarrow>$\n",
        "  \n",
        "  * 33% probability: $|\\psi\\rangle=\\frac{1}{\\sqrt{2}}|\\uparrow\\rangle+\\frac{1}{\\sqrt{2}}|\\downarrow\\rangle$\n",
        "\n",
        "* **Mixed state**: lack of information about the system, hence for example giving equal probability to each possible outcome."
      ]
    },
    {
      "cell_type": "markdown",
      "metadata": {
        "id": "kBTDUmVMIK9T"
      },
      "source": [
        "* **When dealing with a mixed state we need to represent it with what's known as a density operator or density matrix**.\n",
        "\n",
        "* Wave function notation $|\\psi\\rangle$ can only be used to describe pure states. But density matrices $|\\psi\\rangle\\langle\\psi|$ can be used to describe mixed and pure states.\n",
        "\n",
        "* and how do we get the density matrix? - Take the column vector, turn it into a row vector, and then multiply them both:\n",
        "\n",
        "> $(\\hat{\\rho})$ $=\\left(\\begin{array}{l}1 \\\\ 0\\end{array}\\right) \\times\\left(\\begin{array}{ll}1 & 0\\end{array}\\right)$ = $\\left(\\begin{array}{ll}1 & 0 \\\\ 0 & 0\\end{array}\\right)$"
      ]
    },
    {
      "cell_type": "markdown",
      "metadata": {
        "id": "MBOWa3kcIXN-"
      },
      "source": [
        "On top of that you can even add several mixed states to get one final mixed states. Mixed state: our knowledge of the system is limited. It could be either one of multiple psi states. \n",
        "\n",
        "* Image 1: We have to add up the density matrices of each possible spin state whilst making sure that we weight it with the probability of it being in that psi state\n",
        "\n",
        "* Image 2: That would give us the final density matrix, which is the mixture in the mixed state. \n",
        "\n",
        "* Image 3: it is for this reason that there is no way to write a mixed state as a single wave function or a single vector. We have to deal with matrices that represent the different pure states in which our system could be. And each of these density matrices has to be weighted by how likely it is that our system is on that pure that."
      ]
    },
    {
      "cell_type": "markdown",
      "metadata": {
        "id": "MFd3jSvDICCu"
      },
      "source": [
        "![geometry](https://raw.githubusercontent.com/deltorobarba/repo/master/quantum_006a.png)"
      ]
    },
    {
      "cell_type": "markdown",
      "metadata": {
        "id": "D6VPB6EJs2gf"
      },
      "source": [
        "**Video: [Pure VS Mixed States | Quantum Information\n",
        "](https://www.youtube.com/watch?v=gFtt0C4enZA)**\n"
      ]
    },
    {
      "cell_type": "markdown",
      "metadata": {
        "id": "ou7X1WS3iUXO"
      },
      "source": [
        "\n",
        "\n",
        "* A pure state can be written in terms of a Ket state $|\\psi\\rangle$ $\\doteq$ $\\left[\\begin{array}{l}a_{0} \\\\ a_{1}\\end{array}\\right]$\n",
        "\n",
        "  * <font color =\"blue\">$|\\psi\\rangle$</font> $=\\sum_{i} c_{i}\\left|\\varphi_{i}\\right\\rangle$\n",
        "  \n",
        "  * whereas a mixed state cannot.\n",
        "\n",
        "* A mixed state can be described with a density matrix: \n",
        "\n",
        "  * <font color =\"blue\">$\\rho$ </font>$=\\sum_{i} p_{i}\\left|\\varphi_{i} \\times \\varphi_{i}\\right|$ \n",
        "  * Sum over probabilities times the corresponding projection operators onto certain basis states $\\varphi_{i}$"
      ]
    },
    {
      "cell_type": "markdown",
      "metadata": {
        "id": "AXW9-m39lpfD"
      },
      "source": [
        "If you only consider pure states, then many calculations in quantum mechanics can be done using either formalism: <font color =\"blue\">$|\\psi\\rangle$ or $\\rho$</font>\n",
        "\n",
        "If a pure quantum state is both described by the ket $\\psi$ and the density matrix $\\rho$, \n",
        "  \n",
        "  * which is 100% in the state of $\\psi$ (means: $p_{i}$=1): for $\\rho=\\sum 1|\\psi \\times \\psi|$ \n",
        "  \n",
        "  * then the expectation value of an operator $\\hat{A}$ can be calculated like this: $\\langle\\hat{A}\\rangle=\\left\\{\\begin{array}{l}\\langle\\psi|\\hat{A}| \\psi\\rangle \\\\ \\operatorname{Tr}[\\rho \\hat{A}]\\end{array}\\right.$"
      ]
    },
    {
      "cell_type": "markdown",
      "metadata": {
        "id": "_z0x1KOjlnWl"
      },
      "source": [
        "**Let's consider a two-level system with basis states $\\left|\\varphi_{1}\\right\\rangle=|0\\rangle$ and $\\left|\\varphi_{2}\\right\\rangle=|1\\rangle$**: \n",
        "\n",
        " * If a quantum state is in the ket state $\\psi$ with:  $|\\psi\\rangle=\\frac{1}{\\sqrt{2}}|0\\rangle+\\frac{1}{\\sqrt{2}}|1\\rangle$ = pure state\n",
        "\n",
        " * It looks like this state is 50% in state 0 and 50% in state 1, but this is actually not the case since we can also have interference between those states\n",
        "\n",
        "* we could also use a density matrix to describe this state, which would look like this (equivalent to $\\psi$: \n",
        "\n",
        "> $\\rho=|\\psi \\times \\psi|=\\frac{1}{2}\\left|0 \\times 0\\right|+$ <font color =\"blue\">$\\frac{1}{2}\\left|0 \\times 1\\right|+\\frac{1}{2}\\left|1 \\times 0\\right|$</font>$+\\frac{1}{2}\\left|1\\times1\\right|$\n",
        "\n",
        "* As you can clearly see from the density matrix representation, if the quantum system is in such a superposition of 0 and 1, there can be interference between the 1 and 0 states (in blue marked)!\n",
        "\n",
        "* This becomes more obvious if we calculate the expectation value of an operator:\n",
        "\n",
        "> $\\langle\\hat{A}\\rangle=\\frac{1}{2}\\langle 0|\\hat{A}| 0\\rangle+$ <font color =\"blue\">$\\frac{1}{2}\\langle 0|\\hat{A}| 1\\rangle+\\frac{1}{2}\\langle 1|\\hat{A}| 0\\rangle$</font>$+\\frac{1}{2}\\langle 1|\\hat{A}| 1\\rangle$\n",
        "\n",
        "* In blue marked: these two terms can only arise because of interference\n",
        "\n",
        "* **If we really want 50% of our system in the state 0 and 50% in the state 1, we need the density matrix.**\n",
        "\n",
        "  * it's called a \"statistical ensemble\"\n",
        "\n",
        "  * $\\rho = \\rho_0 |0 \\times 0| + \\rho_1 |1 \\times 1| = $<font color =\"red\">$\\frac{1}{2}\\left|0 \\times 0\\right| + \\frac{1}{2}\\left|1 \\times 1\\right|$</font>\n",
        "\n",
        "  * in this case, the expectation value of the operator $\\hat{A}$ only contains the matrix elements of 00 and 11. There are no interference terms:\n",
        "\n",
        "  * $\\langle\\hat{A}\\rangle=T_{r}[\\rho \\hat{A}]=\\frac{1}{2}\\langle 0|\\hat{A}| 0\\rangle+\\frac{1}{2}\\langle\\ 1| \\hat{A} | 1\\rangle$\n",
        "\n",
        "  * Since there is no way to write down this system <font color =\"red\">$\\frac{1}{2}\\left|0 \\times 0\\right| + \\frac{1}{2}\\left|1 \\times 1\\right|$</font> using only a ket state $|\\psi \\rangle$ = ... , this is a mixed state.\n",
        "\n",
        "  * In the density matrix we have probabilities like $\\frac{1}{2}$, but in the ket state we have probability amplitudes for example $\\frac{1}{\\sqrt{2}}$ like in $|\\psi\\rangle=\\frac{1}{\\sqrt{2}}|0\\rangle+\\frac{1}{\\sqrt{2}}|1\\rangle$. \n",
        "  \n",
        "  * And they can interfere with each other. Therefore it's not correct to say we have 50% of out system in state 0 and 50% in state 1 if we are using a ket state $\\psi$."
      ]
    },
    {
      "cell_type": "markdown",
      "metadata": {
        "id": "YNaDQejsvI_m"
      },
      "source": [
        "**There are two more ways to distinguish a pure state from a mixed state:**\n",
        "\n",
        "1. Take the trace of the square of the density matrix: \n",
        "  \n",
        "  * $\\operatorname{Tr}\\left[\\rho^{2}\\right]=1 \\rightarrow$ Pure state (like Summe der Eigenwerte entlang der Spur: 1-0-0-0..)\n",
        "\n",
        "  * $\\operatorname{Tr}\\left[\\rho^{2}\\right]<1 \\rightarrow$ Mixed state\n",
        "\n",
        "2. Geometricaly, pure states lie on the surface of the Blochsphere. Mixed states are confined within the Bloch sphere. "
      ]
    },
    {
      "cell_type": "markdown",
      "metadata": {
        "id": "zGUNPCDK2yaQ"
      },
      "source": [
        "**Why do we need this alternative formalism, these density matrices?**\n",
        "\n",
        "* With density matrices we can create probabilistic mixtures over pure states \n",
        "\n",
        "* We can have the ket and bra description of a pure quantum state, but you can create a classical probability distribution $\\sum_{i} p_{i}$ over them (this is classical ignorance, this is something we don't know about the underlying quantum system):\n",
        "\n",
        "> $\\rho=\\sum_{i} p_{i}\\left|\\psi_{i} \\times \\psi_{i}\\right|$\n",
        "\n",
        "* With this new formalism we can make noisy, imperfect quantum states\n",
        "\n",
        "* To illustrate the difference, think about this Ket $|\\psi\\rangle$, which is the equal superposition of 0 and 1. We can write out the vector form $\\left[\\begin{array}{l}1 / \\sqrt{2} \\\\ 1 / \\sqrt{2}\\end{array}\\right]$. And if we write the corresponding $\\rho$, it will have 0.5 for every element in the matrix. \n",
        "\n",
        "> $|\\psi\\rangle=\\frac{1}{\\sqrt{2}}(|0\\rangle+(1\\rangle)=\\left[\\begin{array}{l}1 / \\sqrt{2} \\\\ 1 / \\sqrt{2}\\end{array}\\right] \\rightarrow $$\\rho=\\left[\\begin{array}{ll}0.5 & 0.5 \\\\ 0.5 & 0.5\\end{array}\\right]$\n",
        "\n",
        "* On the other hand if we create the uniform distribution over the density matrix corresponding to the 0-Ket and the density matrix corresponding to the 1-Ket, then this density matrix will be different:\n",
        "\n",
        "> $\\rho^{\\prime}=\\frac{1}{2}(|0 \\times 0|+|1 \\times 1|)=\\left[\\begin{array}{ll}0.5 & 0 \\\\ 0 & 0.5\\end{array}\\right]$\n",
        "\n",
        "* It doesn't have off-diagonal elements. These off-diagonal elements are critical for many quantum operations, sometimes also called 'coherences'. This is then called a maximally mixed state = equivalent of a uniform distribution in classical probability theory. This means we have absolutely no predictive power of what's going to happen next. Entropy of the state is maximal.  \n",
        "\n",
        "* Ideally we want quantum states with a high coherence, but in reality noise affects, and these coherences disappear.\n",
        "\n",
        "https://www.youtube.com/watch?v=BE8RxAESx5I&list=PLBn8lN0Dcvpla6a6omBni1rjyQJ4CssTP&index=47"
      ]
    },
    {
      "cell_type": "markdown",
      "metadata": {
        "id": "pQ77hA8twQkb"
      },
      "source": [
        "\n",
        "---\n",
        "\n",
        "a state which you can decompose that way is called mixed (because \n",
        "you can generate it by mixing other states), while states which you cannot decompose that way are called pure. A pure state is always a projector onto a one-dimensional subspace of the underlying Hilbert space, and thus can be associated with a Hilbert space vector spanning that subspace, also known as the wave function of the state (note that unlike the projector, the corresponding vector is not unique, even if you demand normalization, since you can multiply it with a global phase without changing the physical state it refers to).\n",
        "\n",
        "https://www.researchgate.net/post/What-is-difference-between-mixed-state-and-mixed-entangled-state"
      ]
    },
    {
      "cell_type": "markdown",
      "metadata": {
        "id": "9n2xc2AqSUT_"
      },
      "source": [
        "for mixed states: https://en.m.wikipedia.org/wiki/Quantum_state#Pure_states while mixed states are represented by density matrices, which are positive semidefinite operators that act on Hilbert spaces"
      ]
    },
    {
      "cell_type": "markdown",
      "metadata": {
        "id": "j4eP1E5vYQJr"
      },
      "source": [
        "**Example 2**: Ket-bra would give you a **matrix as a result** (So order makes a big difference). This is nothing else than the projection to this partially basis vector. Here if I want to know the probability of measuring $|0\\rangle$:\n",
        "\n",
        "> $|0\\rangle\\langle 0| =$ $\\left[\\begin{array}{l}1 \\\\ 0\\end{array}\\right]\\left[\\begin{array}{ll}1 & 0\\end{array}\\right]=\\left[\\begin{array}{ll}1 & 0 \\\\ 0 & 0\\end{array}\\right]$\n",
        "\n",
        "https://www.mathpages.com/home/kmath638/kmath638.htm"
      ]
    },
    {
      "cell_type": "markdown",
      "metadata": {
        "id": "HWAvARAnenVl"
      },
      "source": [
        "**Ket-Bra = Density Matrix: You need it to understand decoherence**\n",
        "\n",
        "> $\\mid \\Psi X \\Psi\\mid =\\left(\\begin{array}{lll}a_{1} a_{1}^{*} & a_{1} a_{2}^{*} & a_{1} a_{3}^{*} \\\\ a_{2} a_{1}^{*} & a_{2} a_{2}^{*} & a_{2} a_{3}^{*} \\\\ a_{3} a_{1}^{*} & a_{3} a_{2}^{*} & a_{3} a_{3}^{*}\\end{array}\\right)$"
      ]
    },
    {
      "cell_type": "markdown",
      "metadata": {
        "id": "2JYkz7MggCCw"
      },
      "source": [
        "Decoherence: https://www.youtube.com/watch?v=igsuIuI_HAQ"
      ]
    },
    {
      "cell_type": "markdown",
      "metadata": {
        "id": "eACrJ2znLwNE"
      },
      "source": [
        "**Wave function notation is to describe superposition of Pure States**"
      ]
    },
    {
      "cell_type": "markdown",
      "metadata": {
        "id": "-TYgLBnP5snV"
      },
      "source": [
        "* <font color=\"blue\">Spin up or spin down = **pure states**, can be written as a single wave function $\\mid \\psi\\rangle$</font>\n",
        "\n",
        "* instead of using bra and ket notation to represent the particle's possible spin states, we will now use vectors, for example spin up = $|\\psi\\rangle=\\left(\\begin{array}{l}1 \\\\ 0\\end{array}\\right)$ and spin down = $|\\psi\\rangle=\\left(\\begin{array}{l}0 \\\\ 1\\end{array}\\right)$\n",
        "\n",
        "* a superposition would look like this: $|\\psi\\rangle=\\frac{1}{\\sqrt{2}}\\left(\\begin{array}{l}1 \\\\ 0\\end{array}\\right)+\\frac{1}{\\sqrt{2}}\\left(\\begin{array}{l}0 \\\\ 1\\end{array}\\right)$\n",
        "\n",
        "\n",
        "* this is still a pure state as a single vector: $|\\psi\\rangle=\\left(\\begin{array}{l}1 / \\sqrt{2} \\\\ 1 / \\sqrt{2} \\end{array}\\right)$\n",
        "\n",
        "\n"
      ]
    },
    {
      "cell_type": "markdown",
      "metadata": {
        "id": "tReGBYVQBd2-"
      },
      "source": [
        "See als https://en.m.wikipedia.org/wiki/Quantum_state#Mixed_states \n",
        "\n",
        "and https://en.m.wikipedia.org/wiki/Density_matrix"
      ]
    },
    {
      "cell_type": "markdown",
      "metadata": {
        "id": "aALAjQGEMvhl"
      },
      "source": [
        "And also prof m: https://www.youtube.com/watch?v=LR5kfhrs4Cc"
      ]
    },
    {
      "cell_type": "markdown",
      "metadata": {
        "id": "ibWnEVWoTtqd"
      },
      "source": [
        "![geometry](https://raw.githubusercontent.com/deltorobarba/repo/master/quantum_006.png)"
      ]
    },
    {
      "cell_type": "markdown",
      "metadata": {
        "id": "RVm2Y7YwXX87"
      },
      "source": [
        "* to talk about noise and how it affects quantum states, we have to introduce a bit more notation\n",
        "\n",
        "* **mixed states: factor in noise that affects today's quantum computers**\n",
        "\n",
        "* a ket is technically a pure quantum state\n",
        "\n",
        "* **a density matrix $\\rho$ is a ket and a bra: | $\\Phi$ >< $\\Phi$ | = | $\\Phi$ X $\\Phi$ |**\n",
        "\n",
        "* now we can rewrite every single operation that we would otherwise do in a ket in this new formalism. "
      ]
    },
    {
      "cell_type": "markdown",
      "metadata": {
        "id": "JWwIunpkSAFx"
      },
      "source": [
        "**Get Coherences from Eigenvalues in Trace of Mixed Matrices**"
      ]
    },
    {
      "cell_type": "markdown",
      "metadata": {
        "id": "gzBgrWYbofZZ"
      },
      "source": [
        "The coherent state describes a state in a system for which the ground-state wavepacket is displaced from the origin of the system. This state can be related to classical solutions by a particle oscillating with an amplitude equivalent to the displacement. \n",
        "\n",
        "**These coherent states are expressed as eigenvectors** of the lowering operator and forming an overcomplete family. "
      ]
    },
    {
      "cell_type": "markdown",
      "metadata": {
        "id": "jWk-hx1ltRSU"
      },
      "source": [
        "###### **<font color=\"blue\">Vector-Kovector-Multiplication (Outer / Dyadic)**: Density Matrix for Expectation Value</font>"
      ]
    },
    {
      "cell_type": "markdown",
      "metadata": {
        "id": "a5f6ZY-GWreI"
      },
      "source": [
        "https://en.m.wikipedia.org/wiki/Expectation_value_(quantum_mechanics)"
      ]
    },
    {
      "cell_type": "markdown",
      "metadata": {
        "id": "WWthNMy_XtFF"
      },
      "source": [
        "Expectation Value of a Quantum Measurement  $\\left\\langle\\psi\\left|A_{i}\\right| \\psi\\right\\rangle$"
      ]
    },
    {
      "cell_type": "markdown",
      "metadata": {
        "id": "UfSmCXH_CS-2"
      },
      "source": [
        "> **Expectation values in quantum mechanics are an important tool that helps us to mathematically describe measurements of quantum systems.**\n",
        "\n",
        "* doesn't mean the most probable result: imagine an operator with Eigenvalues plus 1 and minus 1. If both results appear with equal probabilities, then the expectation value of this operator will be 0. So the expectation value is not even a possible outcome of the measurement, and hence is not most probable result.\n",
        "\n",
        "* https://www.youtube.com/watch?v=NT1JX85MGA0"
      ]
    },
    {
      "cell_type": "markdown",
      "metadata": {
        "id": "st_X1BQCVVDP"
      },
      "source": [
        "> $|0\\rangle\\langle 0| =$ $\\left[\\begin{array}{l}1 \\\\ 0\\end{array}\\right]\\left[\\begin{array}{ll}1 & 0\\end{array}\\right]=\\left[\\begin{array}{ll}1 & 0 \\\\ 0 & 0\\end{array}\\right]$\n",
        "\n",
        "> **IMPORTANT: A measurement outcome is actually a projection (to the first basis vector)**\n",
        "\n",
        "* **So if we want to model that we get the outcome 0, then we take the corresponding projection | 0 X 0 | and we apply it on the quantum state: | 0 X 0 | $\\Phi$>** . \n",
        "\n",
        "* this is how you pull out samples from a quantum state and how you apply measurement to this particular probability distribution"
      ]
    },
    {
      "cell_type": "markdown",
      "metadata": {
        "id": "HuR9PpCZXRlT"
      },
      "source": [
        "<font color=\"blue\">**How do you calculate the expectation value in quantum mechanics?**</font>\n",
        "\n",
        "* How you formulate it will depend somewhat on the treatment you are using.\n",
        "\n",
        "* In bra-ket notation, a state vector for a pure state $|s\\rangle$ is a unit vector. Its complex-conjugate transpose is $\\langle s|$. The operator whose expectation value you are evaluating could be written $|A|$.\n",
        "\n",
        "* The expectation value is then the product $\\langle s|A| s\\rangle$. \n",
        "\n",
        "* If $A$ is just the identity (which corresponds to the observable that has constant value 1 ) then we just get $\\langle s \\mid s\\rangle=1$. \n",
        "\n",
        "> Taking the complex conjugate makes the value of the product equal to the squared norm of the state vector. For example <font color=\"blue\">if $|s\\rangle$ is a wave function $f(x, y, z)$, then we are taking the integral over space of the product of $f$ with its complex conjugate, **which is $|f|^{2}$, not just its product with itself, which is $f^{2}$.**\n",
        "\n",
        "* If $|s\\rangle$ has a component which is a $\\lambda$-eigenstate for $A$, then applying $A$ multiplies that component by $\\lambda$ by definition. The expectation value is the sum or integral of those individual contributions weighted by the squared norm of the component. \n",
        "\n",
        "* That is why the expectation value can be evaluated just by applying $A$ and then taking an inner product with the original state as above.\n",
        "\n",
        "*For completeness I will say a little about mixed states.*\n",
        "\n",
        "* <font color=\"blue\">In the density-matrix formalism, the state is also an operator, and a pure state is represented by the operator $|s\\rangle\\langle s|$</font>.\n",
        "\n",
        "* There is a mathematical function known as the trace defined for some operators. It has the property $\\operatorname{tr}(A B)=\\operatorname{tr}(B A)$ as well as $\\operatorname{tr}(|s\\rangle\\langle t|)=\\langle t \\mid s\\rangle$.\n",
        "\n",
        "> <font color=\"blue\">**The operator $|s\\rangle\\langle s|$ is then an operator of trace 1 , and the expectation $\\langle s|A| s\\rangle$ can also be evaluated as the trace of $|s\\rangle\\langle s| A$.**</font>\n",
        "\n",
        "* A mixture of states is a weighted average of such operators (not necessarily in a unique way), and its expectation value is the weighted average of the expectation values of the pure states. \n",
        "\n",
        "* So if $S$ is a mixed state, it is again an operator of trace 1 , positive definite, and its expectation value for $A$ is the trace of $S A$ or equivalently of $A S$.\n",
        "\n",
        "https://www.quora.com/How-do-you-calculate-the-expectation-value-in-quantum-mechanics"
      ]
    },
    {
      "cell_type": "markdown",
      "metadata": {
        "id": "LaoWBfFQ8B4n"
      },
      "source": [
        "**Expectation value of an observable $Q$ in a (normalized) state $|\\Psi\\rangle$ gives the average of all possible values (weighted by their corresponding probabilities) that one may expect to observe in an experiment designed to measure $Q$ in state $|\\Psi\\rangle$**.\n",
        "\n",
        "* The expectation value of an **observable quantity (like the momentum of a particle)** is the probability-weighted average of that quantity’s operator over the state vector (wave function) of the particle. You might think of it as the classical (non-quantum) value of the quantity, although in many cases there is no meaningful classical value.\n",
        "\n",
        "* In quantum mechanics whenever an operator is applied to a state vector then it results in various eigen values corresponding to that operator. \n",
        "\n",
        "  * Now the expectation value corresponding to an operator is a weighted mean of the product of eigen values and theirs probability amplitudes. \n",
        "  \n",
        "  * The concept of Expectation value is just like the concept of centre of mass . \n",
        "  \n",
        "> <font color=\"blue\">The expectation value of any operator will be close to that eigen value whose probability amplitude is maximum with respect to other eigen values corresponding to same operator.\n",
        "\n",
        "* In other words, if one prepares the given system in state $|\\Psi\\rangle$, measure $Q$, notes down the observed value; then again prepares the system in state $|\\Psi\\rangle$, again measure $Q$ and notes down the observed value, and repeats this procedure a large number of times, then the average of all values of $Q$ so observed will approach the expectation value $\\langle\\Psi|Q| \\Psi\\rangle$.\n",
        "\n",
        "> <font color=\"blue\">**To see this, suppose, $\\left|\\psi_{1}\\right\\rangle,\\left|\\psi_{2}\\right\\rangle, \\ldots$ be the orthonormal basis of eigenstates of observable $Q$ with corresponding eigenvalues $\\lambda_{1}, \\lambda_{2}, \\ldots$ respectively**. \n",
        "\n",
        "* One can expand the given (normalized) state $|\\Psi\\rangle$ in the above basis as\n",
        "\n",
        "> $\n",
        "|\\Psi\\rangle=\\alpha_{1}\\left|\\psi_{1}\\right\\rangle+\\alpha_{2}\\left|\\psi_{2}\\right\\rangle+\\cdots+\\alpha_{n}\\left|\\psi_{n}\\right\\rangle+\\ldots\n",
        "$\n",
        "\n",
        "* According to a basic postulate of Quantum mechanics the above expansion implies that upon measuring $Q$ in state $|\\Psi\\rangle$ the outcome of the experiment will be eigenvalue $\\lambda_{1}$ with probability $\\left|\\alpha_{1}\\right|^{2}$, eigenvalue $\\lambda_{2}$ with probability $\\left|\\alpha_{2}\\right|^{2}$ and so on. \n",
        "\n",
        "* Therefore, the (weighted) average of all possible values of $Q$ that can be observed in state $|\\Psi\\rangle$ will be\n",
        "\n",
        "> <font color=\"blue\">$\n",
        "\\begin{array}{l}\n",
        "\\left|\\alpha_{1}\\right|^{2} \\lambda_{1}+\\left|\\alpha_{2}\\right|^{2} \\lambda_{2}+\\ldots \\\\\n",
        "=\\left\\langle\\alpha_{1} \\psi_{1}+\\alpha_{2} \\psi_{2}+\\ldots \\| \\lambda_{1} \\alpha_{1} \\psi_{1}+\\lambda_{2} \\alpha_{2} \\psi_{2}+\\ldots\\right\\rangle \\\\\n",
        "=\\left\\langle\\alpha_{1} \\psi_{1}+\\alpha_{2} \\psi_{2}+\\ldots|Q| \\alpha_{1} \\psi_{1}+\\alpha_{2} \\psi_{2}+\\ldots\\right\\rangle \\\\\n",
        "=\\langle\\Psi|Q| \\Psi\\rangle\n",
        "\\end{array}\n",
        "$\n",
        "\n",
        "* (*Remember here from above: Taking the complex conjugate makes the value of the product equal to the squared norm of the state vector. For example if $|s\\rangle$ is a wave function $f(x, y, z)$, <font color=\"blue\">**then we are taking the integral over space of the product of $f$ with its complex conjugate, which is $|f|^{2}$, not just its product with itself, which is $f^{2}$**.*)</font>\n",
        "\n",
        "* which is the expectation value of $Q$ in state $|\\Psi\\rangle$.\n",
        "\n",
        "https://www.quora.com/What-is-the-use-of-expectation-value-in-quantum-mechanics"
      ]
    },
    {
      "cell_type": "markdown",
      "metadata": {
        "id": "v4aEflVE-nPY"
      },
      "source": [
        "![ggg](https://raw.githubusercontent.com/deltorobarba/repo/master/quantum_195.png)"
      ]
    },
    {
      "cell_type": "markdown",
      "metadata": {
        "id": "xoxyfi5sBOCt"
      },
      "source": [
        "How do we calculate expectation values: \n",
        "\n",
        "* if we have a quantum system that id described by the wave function $| \\Psi \\rangle$, then the expectation value of the operator $A$ is defined like this: \n",
        "\n",
        "> $\\langle A\\rangle_{\\psi}:=\\langle\\psi|A| \\psi\\rangle$\n",
        "\n",
        "* If we work in the <font color =\"blue\">position basis, where the wave function is given by projecting the ket-state $| \\psi \\rangle$ onto the position basis</font>: \n",
        "\n",
        "> $\\psi(x)=\\langle x \\mid \\psi\\rangle$\n",
        "\n",
        "* then we can also write down the expectation value of $A$ using an integral like this:\n",
        "\n",
        "> $\\langle A\\rangle_{\\psi}:=\\int d x \\, \\psi^{*}(x) \\, A \\, \\psi(x)$\n",
        "\n",
        "* Note that is is important that the operator stands between the two wavefunctions. This is important for instance if the operator contains a derivative.\n",
        "\n",
        "*There are two more ways to calculate the expectation value of this operator:*"
      ]
    },
    {
      "cell_type": "markdown",
      "metadata": {
        "id": "cfJfHszTCFf2"
      },
      "source": [
        "**First we can use the <u>spectral decomposition</u> of $A$**\n",
        "\n",
        "* where <font color =\"blue\">the operator can be written as a sum over its Eigenvalues $a_i$ times projection operators onto its Eigenstates</font>. \n",
        "\n",
        "> $A=\\sum_{i} a_{i}\\left|\\varphi_{i} \\rangle \\langle \\varphi_{i}\\right|$ $\\quad$ with $A\\left|\\varphi_{i}\\right\\rangle=a_{i}\\left|\\varphi_{i}\\right\\rangle$\n",
        "\n",
        "By using decomposition in the definition of the expectation value, we get this result: \n",
        "\n",
        "> $\\langle A\\rangle_{\\psi}=\\langle\\psi|A| \\psi\\rangle=$ $\\sum_{i} a_{i}\\langle\\psi|\\varphi_{i} \\rangle $ <font color =\"orange\">$\\langle \\varphi_{i}| \\psi \\rangle$</font> $=\\sum_{i} a_{i}$ <font color =\"blue\">$\\left|\\left\\langle\\varphi_{i} \\mid \\psi\\right\\rangle\\right|^{2}$</font>\n",
        "\n",
        "At this is actually very close to the definition before at the beginning: **we sum over all Eigenvalues, which are the possible outcomes of a measurement, weighted by the probabilities that this particular Eigenvalue occurs if we start in the state $\\Psi$**.\n",
        "\n",
        "* <font color =\"orange\">$\\langle\\varphi_{i} | \\psi\\rangle$</font> - this is called the **transition amplitude**\n",
        "\n",
        "* <font color =\"blue\">$|\\langle\\varphi_{i} | \\psi\\rangle|^{2}$</font> - this is called the **transition probability** (absolute square of the transition amplitude)"
      ]
    },
    {
      "cell_type": "markdown",
      "metadata": {
        "id": "IVqquXUpF2SE"
      },
      "source": [
        "**Second: we can use the <u>density matrix formalism</u>**\n",
        "\n",
        "* Where $\\rho$ (rho) is given as Psi-Psi:\n",
        "\n",
        "> $\\rho = |\\psi\\rangle \\langle \\psi|$\n",
        "\n",
        "* we can calculate the expectation value of $A$ by taking the trace over $\\rho$ times $A$:\n",
        "\n",
        "> <font color=\"blue\">**$\\langle A\\rangle_{\\rho}:=\\operatorname{Tr}[\\rho A] =\\operatorname{Tr}[\\, |\\psi\\rangle \\langle \\psi| \\, A]$ = (?) $\\langle \\psi|A| \\psi\\rangle$**</font>\n",
        "\n",
        "* From below: \n",
        "\n",
        "  * <font color=\"blue\">**The operator $|s\\rangle\\langle s|$ is an operator of trace 1 , and the expectation $\\langle s|A| s\\rangle$ can also be evaluated as the trace of $|s\\rangle\\langle s| A$.**</font>\n",
        "  \n",
        "  * <font color=\"blue\">**The operator $|\\psi\\rangle\\langle \\psi|$ is an operator of trace 1 , and the expectation $\\langle \\psi|A| \\psi\\rangle$ can also be evaluated as the trace of $|\\psi\\rangle\\langle \\psi| A$.**</font>\n",
        "\n",
        "\n",
        "\n",
        "* In quantum mechanics, taking the trace over an operator means to sum over the matrix elements of that operator between states of a complete basis:\n",
        "\n",
        "> $\\operatorname{Tr}[B]=\\sum_{i}\\left\\langle\\eta_{i}|B| \\eta_{i}\\right\\rangle$ $\\quad$ ,$\\left|\\eta_{i}\\right\\rangle \\in$ complete basis\n",
        "\n",
        "* If we do this, we get an expression containing two complex numbers, which we can move around if we wanted to, since they are not operators:\n",
        "\n",
        "> $\\langle A\\rangle_{\\rho}:=\\operatorname{Tr}[\\rho A]$ = $\\sum_{i} \\underbrace{\\left\\langle\\eta_{i}\\right| \\psi \\rangle}_{\\mathbb{C}} \\underbrace{\\left\\langle\\psi|A| \\eta_{i}\\right\\rangle}_{\\mathbb{C}}$\n",
        "\n",
        "* After doing that, we can perform the sum over the basis states, and since they belong to a complete basis, they give us the identity operator:\n",
        "\n",
        "> = $\\sum_{i}\\left\\langle\\psi|A| \\eta_{i} \\rangle \\langle \\eta_{i} | \\psi\\right\\rangle$ with $| \\eta_{i} \\rangle \\langle \\eta_{i} |$ = 1\n",
        "\n",
        "* Therefore we get psi-A-psi, which means that we get the same result from working with density matrices!\n",
        "\n",
        "> = $\\langle\\psi|A| \\psi\\rangle=\\langle A\\rangle_{\\psi}$"
      ]
    },
    {
      "cell_type": "markdown",
      "metadata": {
        "id": "T4uBvpQGOQ_r"
      },
      "source": [
        "\n",
        "\n",
        "---\n",
        "\n"
      ]
    },
    {
      "cell_type": "markdown",
      "metadata": {
        "id": "5HZaqMJvya6i"
      },
      "source": [
        "**A measurement outcome is actually a projection (to the first basis vector)**\n",
        "\n",
        "* So if we want to model that we get the outcome 0, then we take the corresponding projection | 0 X 0 | and we apply it on the quantum state: | 0 X 0 | $\\Phi$> bzw. | 0 > < 0 | $\\Phi$ >\n",
        "\n",
        "* this is how you pull out samples from a quantum state and how you apply measurement to this particular probability distribution\n",
        "\n",
        "> The probability of measuring a value with probability amplitude $\\phi$ is $1 \\geq|\\phi|^{2} \\geq 0$, where $|\\cdot|$ is the [modulus](https://en.m.wikipedia.org/wiki/Absolute_value#Complex_numbers)."
      ]
    },
    {
      "cell_type": "markdown",
      "metadata": {
        "id": "51T10Nrq_vie"
      },
      "source": [
        "**Expectation value (quantum mechanics)**\n",
        "\n",
        "* In quantum mechanics, the [expectation value](https://en.m.wikipedia.org/wiki/Expectation_value_(quantum_mechanics)) is the probabilistic expected value of the result (measurement) of an experiment. \n",
        "\n",
        "* It can be thought of as an average of all the possible outcomes of a measurement as weighted by their likelihood, and as such it **is not the most probable value of a measurement**; \n",
        "\n",
        "  * indeed the expectation value may have zero probability of occurring (e.g. measurements which can only yield integer values may have a non-integer mean). \n",
        "  \n",
        "* It is a fundamental concept in all areas of quantum physics.\n",
        "\n",
        "> <font color=\"blue\">**Consider an operator $A$. The expectation value is then $\\langle A\\rangle=\\langle\\psi|A| \\psi\\rangle$ in Dirac notation with $|\\psi\\rangle$ a normalized state vector.**</font>\n",
        "\n",
        "Read more: https://en.m.wikipedia.org/wiki/Expectation_value_(quantum_mechanics)#Formalism_in_quantum_mechanics\n"
      ]
    },
    {
      "cell_type": "markdown",
      "metadata": {
        "id": "5v5_o9jd2muL"
      },
      "source": [
        "**Consider a particle in a state $\\Psi(x, t)$. Lets consider now the particle's position.**\n",
        "\n",
        "* The particle's position cannot be calculated precisely because on the first measurement of its position, the wave function collapses, resulting in a peak at the value you just obtained. \n",
        "\n",
        "* What we can measure is the positions of all particles in the same state $\\mathcal{L}(x, t)$ and then find the expectation value of $x$, or $\\langle x\\rangle$ which is the average of these measurements.\n",
        "\n",
        "* The following equation holds (for the expectation value of position):\n",
        "\n",
        "> $\n",
        "\\langle x\\rangle=\\int_{-\\infty}^{+\\infty} x|\\Psi(x, t)|^{2} \\mathrm{dx}\n",
        "$\n",
        "\n",
        "* Of course, since the wave function changes with time, then the expectation value of position changes also with time, which means that we might be interested in finding out how the expectation value changes with time which means $\\frac{d\\langle x\\rangle}{d t}$ which we can then write as $\\langle u\\rangle$ which is the expectation value of the particle's velocity. \n",
        "\n",
        "* Multiply this with mass $m$ and you have $\\langle p\\rangle$ which is the expectation value of the momentum, and so on.\n",
        "\n",
        "* $\\mathrm{tl}$; dr The expectation value is the average of repeated measurements on a collection of identical particles in the same state $\\Psi$."
      ]
    },
    {
      "cell_type": "markdown",
      "metadata": {
        "id": "A9V8J4wy2TQV"
      },
      "source": [
        "* Suppose we want to measure some dynamical variable of a system, then the result of measurement would be the eigen value. Now, if we repeat the same experiment of measuring some dynamical variable a large no. Of times, then each and every time result would be different, because one set of measurement perturbs the system. Then, the overall result of measuring the dynamical variable a large number of times would be the expectation value.\n",
        "\n",
        "* The expectation value of any observable in quantum mechanics is the sum of all the possible outcome of measurements performed on a quantum system weighted by their respective probabilities. In simple terms “the expectation value of x is what one expects to happen on average”. In the above definition, the wavefunctions describing the quantum system must be normalized."
      ]
    },
    {
      "cell_type": "markdown",
      "metadata": {
        "id": "Gequcgd23_OF"
      },
      "source": [
        "https://www.quora.com/What-is-the-expectation-value-in-quantum-mechanics"
      ]
    },
    {
      "cell_type": "markdown",
      "metadata": {
        "id": "N7cbjV9wSlv7"
      },
      "source": [
        "###### **<font color =\"blue\">Vector-Kovector-Multiplication (Outer / Dyadic)**: Density Matrix for Projective Measurement PVM / POVM (Born Rule)"
      ]
    },
    {
      "cell_type": "markdown",
      "metadata": {
        "id": "h4UiOGJnWo7j"
      },
      "source": [
        "https://en.m.wikipedia.org/wiki/Measurement_in_quantum_mechanics"
      ]
    },
    {
      "cell_type": "markdown",
      "metadata": {
        "id": "W3IBSKnaWisc"
      },
      "source": [
        "https://en.m.wikipedia.org/wiki/Born_rule"
      ]
    },
    {
      "cell_type": "markdown",
      "metadata": {
        "id": "YYHX9kr-yKEd"
      },
      "source": [
        "> **[Measurement](https://en.m.wikipedia.org/wiki/Quantum_logic_gate#Measurement) (sometimes called observation) bzw. [Measurement_in_quantum_mechanics](https://en.m.wikipedia.org/wiki/Measurement_in_quantum_mechanics) is irreversible and therefore not a quantum gate, because it assigns the observed quantum state to a single value**. \n",
        "\n",
        "* Measurement takes a quantum state and projects it to one of the basis vectors, with a likelihood equal to the square of the vector's depth (the norm is the modulus squared) along that basis vector. \n",
        "\n",
        "* This is known as the Born rule and <font color=\"red\">appears as a stochastic non-reversible operation</font> as it probabilistically sets the quantum state equal to the basis vector that represents the measured state (the state \"collapses\" to a definite single value). \n",
        "\n",
        "* Why and how, or even if the quantum state collapses at measurement, is called the measurement problem."
      ]
    },
    {
      "cell_type": "markdown",
      "metadata": {
        "id": "Y32wU0NWVZJ3"
      },
      "source": [
        "> $|0\\rangle\\langle 0| =$ $\\left[\\begin{array}{l}1 \\\\ 0\\end{array}\\right]\\left[\\begin{array}{ll}1 & 0\\end{array}\\right]=\\left[\\begin{array}{ll}1 & 0 \\\\ 0 & 0\\end{array}\\right]$\n",
        "\n",
        "> **IMPORTANT: A measurement outcome is actually a projection (to the first basis vector)**\n",
        "\n",
        "* <font color =\"red\">**So if we want to model that we get the outcome 0, then we take the corresponding projection | 0 X 0 | and we apply it on the quantum state: | 0 X 0 | $\\Phi$>** . \n",
        "\n",
        "* <font color =\"red\">this is how you pull out samples from a quantum state and how you apply measurement to this particular probability distribution"
      ]
    },
    {
      "cell_type": "markdown",
      "metadata": {
        "id": "ArikfLOj5iqb"
      },
      "source": [
        "**Projective measurement (PVM - Projection-valued measure)**\n",
        "\n",
        "* See [this article](https://en.m.wikipedia.org/wiki/Measurement_in_quantum_mechanics#Projective_measurement) and longer article on [PVM](https://en.m.wikipedia.org/wiki/Projection-valued_measure)\n",
        "\n",
        "* The eigenvectors of a von Neumann observable form an orthonormal basis for the Hilbert space, and each possible outcome of that measurement corresponds to one of the vectors comprising the basis. A density operator is a positive-semidefinite operator on the Hilbert space whose trace is equal to 1.\n",
        "\n",
        "> <font color =\"red\">**For each measurement that can be defined, the probability distribution over the outcomes of that measurement can be computed from the density operator. The procedure for doing so is the Born rule, which states that**</font>\n",
        "\n",
        "> $\n",
        "P\\left(x_{i}\\right)=\\operatorname{tr}\\left(\\Pi_{i} \\rho\\right)\n",
        "$\n",
        "\n",
        "* where $\\rho$ is the density operator, and $\\Pi_{i}$ is the [projection operator](https://en.m.wikipedia.org/wiki/Projection_(linear_algebra)) onto the basis vector corresponding to the measurement outcome $x_{i}$. \n",
        "\n",
        "* The average of the eigenvalues of a von Neumann observable, weighted by the Born-rule probabilities, is the [expectation value](https://en.m.wikipedia.org/wiki/Expectation_value_(quantum_mechanics)) of that observable. For an observable $A$, the expectation value given a quantum state $\\rho$ is\n",
        "\n",
        ">$\n",
        "\\langle A\\rangle=\\operatorname{tr}(A \\rho)\n",
        "$\n",
        "\n",
        "* A density operator that is a rank-1 projection is known as a pure quantum state, and all quantum states that are not pure are designated mixed. Pure states are also known as wavefunctions. \n",
        "\n",
        "* **Assigning a pure state to a quantum system implies certainty about the outcome of some measurement on that system (i.e., $P(x)=1$ for some outcome $x$ )**. \n",
        "\n",
        "* Any mixed state can be written as a [convex combination](https://en.m.wikipedia.org/wiki/Convex_combination) of pure states, though [not in a unique way (Schrödinger–HJW theorem)](https://en.m.wikipedia.org/wiki/Schrödinger–HJW_theorem). The [state space](https://en.m.wikipedia.org/wiki/State_space) of a quantum system is the set of all states, pure and mixed, that can be assigned to it.\n",
        "\n",
        "* The [Born rule](https://en.m.wikipedia.org/wiki/Born_rule) associates a probability with each unit vector in the Hilbert space, in such a way that these probabilities sum to 1 for any set of unit vectors comprising an orthonormal basis. \n",
        "\n",
        "* Moreover, the probability associated with a unit vector is a function of the density operator and the unit vector, and not of additional information like a choice of basis for that vector to be embedded in. \n",
        "\n",
        "* Gleason's theorem establishes the converse: all assignments of probabilities to unit vectors (or, equivalently, to the operators that project onto them) that satisfy these conditions take the form of applying the Born rule to some density operator.\n"
      ]
    },
    {
      "cell_type": "markdown",
      "metadata": {
        "id": "zHR_zp5L0ZqW"
      },
      "source": [
        "**Generalized measurement (POVM - positive operator-valued measure)**\n",
        "\n",
        "* In functional analysis and quantum measurement theory, a [positive-operator-valued measure](https://en.m.wikipedia.org/wiki/Measurement_in_quantum_mechanics#Generalized_measurement_(POVM)), bzw. siehe auch longer article [POVM](https://en.m.wikipedia.org/wiki/POVM), is a [measure (Maß)](https://en.m.wikipedia.org/wiki/Measure_(mathematics)) whose values are positive semi-definite operators on a Hilbert space. \n",
        "\n",
        "* POVMs are a generalisation of projection-valued measures (PVMs) and, correspondingly, quantum measurements described by POVMs are a generalisation of quantum measurement described by PVMs. \n",
        "\n",
        "* In rough analogy, a POVM is to a PVM what a mixed state is to a pure state. Mixed states are needed to specify the state of a subsystem of a larger system (see [Schrödinger–HJW theorem](https://en.m.wikipedia.org/wiki/Schrödinger–HJW_theorem)); analogously, POVMs are necessary to describe the effect on a subsystem of a projective measurement performed on a larger system. \n",
        "\n",
        "* POVMs are the most general kind of measurement in quantum mechanics, and can also be used in quantum field theory. They are extensively used in the field of quantum information.\n",
        "\n",
        "* In the simplest case, of a POVM with a finite number of elements acting on a finite-dimensional Hilbert space, a POVM is a set of positive semi-definite matrices $\\left\\{F_{i}\\right\\}$ on a Hilbert space $\\mathcal{H}$ that sum to the identity matrix, \n",
        "\n",
        ">$\n",
        "\\sum_{i=1}^{n} F_{i}=I\n",
        "$\n",
        "\n",
        "* **In quantum mechanics, the POVM element $F_{i}$ is associated with the measurement outcome $i$, such that the probability of obtaining it when making a measurement on the quantum state $\\rho$ is given by**\n",
        "\n",
        ">$\n",
        "\\operatorname{Prob}(i)=\\operatorname{tr}\\left(\\rho F_{i}\\right)\n",
        "$\n",
        "\n",
        "* where $\\operatorname{tr}$ is the trace operator. When the quantum state being measured is a pure state $|\\psi\\rangle$ this formula reduces to\n",
        "\n",
        ">$\\operatorname{Prob}(i)=\\operatorname{tr} ($<font color=\"red\">$\\,|\\psi\\rangle\\langle\\psi| \\, F_{i} \\,$</font>)= <font color=\"red\">$\\left\\langle\\psi\\left|F_{i}\\right| \\psi\\right\\rangle$\n",
        "\n",
        "* **Definition**. Let $(X, M)$ be measurable space; that is $M$ is a $\\sigma$-algebra of subsets of $X$. **A POVM is a function $F$** defined on $M$ whose values are bounded non-negative self-adjoint operators on a Hilbert space $\\mathcal{H}$ such that $F(X)=\\mathrm{I}_{\\mathcal{H}}$ and for every $\\psi \\in \\mathcal{H}$\n",
        "\n",
        ">$\n",
        "E \\mapsto\\langle F(E) \\psi \\mid \\psi\\rangle(\\text { for every } E \\in M)\n",
        "$\n",
        "\n",
        "* is a non-negative countably additive measure on the $\\sigma$-algebra $M$.\n",
        "\n",
        "* Its key property is that it determines a probability measure on the outcome space, so that $\\langle F(E) \\psi \\mid \\psi\\rangle$ can be interpreted as the probability (density) of outcome $E$ when making a measurement on the quantum state $|\\psi\\rangle$.\n",
        "\n",
        "* <font color=\"blue\">This definition should be contrasted with that of the projection-valued measure, which is similar, except that for [projection-valued measures (PVM)](https://en.m.wikipedia.org/wiki/Projection-valued_measure), the values of $F$ are required to be projection operators.\n",
        " "
      ]
    },
    {
      "cell_type": "markdown",
      "metadata": {
        "id": "496cFEuwC6SO"
      },
      "source": [
        "**See also: Quantum_logic_gate#Measurement**\n",
        "\n",
        "https://en.m.wikipedia.org/wiki/Quantum_logic_gate#Measurement"
      ]
    },
    {
      "cell_type": "markdown",
      "metadata": {
        "id": "rnx_iGEs4P4D"
      },
      "source": [
        "**Examples of Measurements in Quantum Mechanics**\n",
        "\n",
        "https://en.m.wikipedia.org/wiki/Measurement_in_quantum_mechanics#Examples\n",
        "\n",
        "* The prototypical example of a finite-dimensional Hilbert space is a qubit, a quantum system whose Hilbert space is 2 -dimensional. A pure state for a qubit can be written as a linear combination of two orthogonal basis states $|0\\rangle$ and $|1\\rangle$ with complex coefficients:\n",
        "\n",
        ">$\n",
        "|\\psi\\rangle=\\alpha|0\\rangle+\\beta|1\\rangle\n",
        "$\n",
        "\n",
        "* A measurement in the $(|0\\rangle,|1\\rangle)$ basis will yield outcome $|0\\rangle$ with probability $|\\alpha|^{2}$ and outcome $|1\\rangle$ with probability $|\\beta|^{2}$, so by normalization,\n",
        "\n",
        ">$\n",
        "|\\alpha|^{2}+|\\beta|^{2}=1\n",
        "$\n",
        "\n",
        "* An arbitrary state for a qubit can be written as a linear combination of the Pauli matrices, which provide a basis for $2 \\times 2$ self-adjoint matrices:\n",
        "\n",
        "> $\n",
        "\\rho=\\frac{1}{2}\\left(I+r_{x} \\sigma_{x}+r_{y} \\sigma_{y}+r_{z} \\sigma_{z}\\right)\n",
        "$\n",
        "\n",
        "* where the real numbers $\\left(r_{x}, r_{y}, r_{z}\\right)$ are the coordinates of a point within the unit ball and\n",
        "\n",
        "> $\n",
        "\\sigma_{x}=\\left(\\begin{array}{ll}\n",
        "0 & 1 \\\\\n",
        "1 & 0\n",
        "\\end{array}\\right), \\quad \\sigma_{y}=\\left(\\begin{array}{cc}\n",
        "0 & -i \\\\\n",
        "i & 0\n",
        "\\end{array}\\right), \\quad \\sigma_{z}=\\left(\\begin{array}{cc}\n",
        "1 & 0 \\\\\n",
        "0 & -1\n",
        "\\end{array}\\right)\n",
        "$"
      ]
    },
    {
      "cell_type": "markdown",
      "metadata": {
        "id": "sc-3S6KfQzw2"
      },
      "source": [
        "**Another example**: A common and useful example of quantum mechanics applied to a continuous degree of freedom is the quantum harmonic oscillator.  This system is defined by the Hamiltonian\n",
        "\n",
        "> $\n",
        "H=\\frac{p^{2}}{2 m}+\\frac{1}{2} m \\omega^{2} x^{2}\n",
        "$\n",
        "\n",
        "* where $H$, the momentum operator $p$ and the position operator $x$ are selfadjoint operators on the Hilbert space of square-integrable functions on the real line. The energy eigenstates solve the time-independent Schrödinger equation:\n",
        "\n",
        "> $\n",
        "H|n\\rangle=E_{n}|n\\rangle\n",
        "$\n",
        "\n",
        "* These eigenvalues can be shown to be given by\n",
        "\n",
        "> $ \n",
        "E_{n}=\\hbar \\omega\\left(n+\\frac{1}{2}\\right)\n",
        "$\n",
        "\n",
        "* and these values give the possible numerical outcomes of an energy measurement upon the oscillator. The set of possible outcomes of a position measurement on a harmonic oscillator is continuous, and so predictions are stated in terms of a probability density function $P(x)$ that gives the probability of the measurement outcome lying in the infinitesimal interval from $x$ to $x+d x$\n",
        "\n",
        "*Aufenthaltswahrscheinlichkeit harmonischer Oszillator: Probability density $P_{n}(x)$ for the outcome of a position measurement given the energy eigenstate $|n\\rangle$ of a 1D harmonic oscillator.*\n",
        "\n",
        "![ggg](https://upload.wikimedia.org/wikipedia/commons/thumb/3/35/Aufenthaltswahrscheinlichkeit_harmonischer_Oszillator.png/640px-Aufenthaltswahrscheinlichkeit_harmonischer_Oszillator.png)"
      ]
    },
    {
      "cell_type": "markdown",
      "metadata": {
        "id": "5e-t6qFuRWla"
      },
      "source": [
        "https://en.m.wikipedia.org/wiki/Symmetry_(physics)"
      ]
    },
    {
      "cell_type": "markdown",
      "metadata": {
        "id": "GOvp_An19shf"
      },
      "source": [
        "The density matrix is a representation of a linear operator called the density operator. The density matrix is obtained from the density operator by choice of basis in the underlying space. In practice, the terms density matrix and density operator are often used interchangeably.\n",
        "\n",
        "In operator language, a density operator for a system is a positive semidefinite, Hermitian operator of trace one acting on the Hilbert space of the system. This definition can be motivated by considering a situation where a pure state $\\left|\\psi_{j}\\right\\rangle$ is prepared with probability $p_{j}$, known as an ensemble. The probability of obtaining projective measurement result $m$ when using projectors $\\Pi_{m}$ is given by \n",
        "\n",
        "> $\n",
        "p(m)=\\sum_{j} p_{j}\\left\\langle\\psi_{j}\\left|\\Pi_{m}\\right| \\psi_{j}\\right\\rangle=\\operatorname{tr}\\left[\\Pi_{m}\\left(\\sum_{j} p_{j}\\left|\\psi_{j}\\right\\rangle\\left\\langle\\psi_{j}\\right|\\right)\\right]\n",
        "$\n",
        "\n",
        "which makes the density operator, defined as\n",
        "\n",
        ">$\n",
        "\\rho=\\sum_{j} p_{j}\\left|\\psi_{j}\\right\\rangle\\left\\langle\\psi_{j}\\right|\n",
        "$"
      ]
    },
    {
      "cell_type": "markdown",
      "metadata": {
        "id": "V2nLyLJoHh87"
      },
      "source": [
        "https://qiskit.org/textbook/ch-quantum-hardware/density-matrix.html"
      ]
    },
    {
      "cell_type": "markdown",
      "metadata": {
        "id": "8s8d6SY6RbyN"
      },
      "source": [
        "###### **<font color =\"blue\">Vector-Kovector-Multiplication (Outer / Dyadic)**: Density Matrix Crash Course"
      ]
    },
    {
      "cell_type": "markdown",
      "metadata": {
        "id": "vwa4caAsWl9t"
      },
      "source": [
        "https://en.m.wikipedia.org/wiki/Density_matrix"
      ]
    },
    {
      "cell_type": "markdown",
      "metadata": {
        "id": "cE--P8idzoP-"
      },
      "source": [
        "**Video: [Crash course in density matrices](https://www.youtube.com/watch?v=1tserF6VGqI)**"
      ]
    },
    {
      "cell_type": "markdown",
      "metadata": {
        "id": "xWlXYxSBzPS3"
      },
      "source": [
        "**Single spin one half particle, focus on spin degrees of freedom & Pauli-matrices**\n",
        "\n",
        "* when the spin degrees of freedom interact with an electromagnetic field, the Pauli matrices come into play:\n",
        "\n",
        "> $\\sigma^{Z}=\\left(\\begin{array}{cc}1 & 0 \\\\ 0 & -1\\end{array}\\right) \\quad \\sigma^{X}=\\left(\\begin{array}{ll}0 & 1 \\\\ 1 & 0\\end{array}\\right) \\quad \\sigma^{Y}=\\left(\\begin{array}{cc}0 & -i \\\\ i & 0\\end{array}\\right)$\n",
        "\n",
        "* we have chosen a basis in such a way that the Pauli Z matrix is diagonal. Here are its basis vectors, the spin up in the z direction and the spin down direction, written as column vectors:\n",
        "\n",
        "> $|\\uparrow\\rangle=\\left(\\begin{array}{l}1 \\\\ 0\\end{array}\\right) \\quad |\\downarrow\\rangle=\\left(\\begin{array}{l}0 \\\\ 1\\end{array}\\right)$\n",
        "\n",
        "* we can re-express the basis vectors for the Pauli X matrix in either direction in terms of these vectors, but in the positive direction we can write it in the following way:\n",
        "\n",
        "> $|\\rightarrow\\rangle=\\frac{1}{\\sqrt{2}}(|\\uparrow\\rangle+|\\downarrow\\rangle)$"
      ]
    },
    {
      "cell_type": "markdown",
      "metadata": {
        "id": "yvOyiyJtzRtd"
      },
      "source": [
        "**States we are used to use in quantum mechanics are called 'pure states'.**\n",
        "\n",
        "* Any state can be written as the linear combination of the up and down vectors in the z-direction\n",
        "\n",
        "> $|\\psi\\rangle=a|\\uparrow\\rangle+b|\\downarrow\\rangle$\n",
        "\n",
        "* a and b are complex numbers whose modulus squared sum to 1\n",
        "\n",
        "> $\\langle\\psi \\mid \\psi\\rangle=|a|^{2}+|b|^{2}$\n",
        "\n",
        "* a and b can be referred to as the probability amplitudes, where their modulus squared are the probabilities that the system is in a particular configuration.\n",
        "\n",
        "* If we perform an ensemble of measurements on the system, we will find that the mean or expected value, for example of the Pauli-Z matrix, will be given by:\n",
        "\n",
        "> $\\left\\langle\\sigma^{Z}\\right\\rangle=\\left\\langle\\psi\\left|\\sigma^{Z}\\right| \\psi\\right\\rangle$"
      ]
    },
    {
      "cell_type": "markdown",
      "metadata": {
        "id": "uZoOoevVzUPa"
      },
      "source": [
        "**Dynamics: if we want to study how a quantum system changes in time, we usually refer to the Schroedinger equation.**\n",
        "\n",
        "> $i \\frac{d}{d t}|\\psi(t)\\rangle=\\hat{H}|\\psi\\rangle$\n",
        "\n",
        "* the operator $\\hat{H}$ is called the Hamiltonian and it tells us about the total energy in a system, and how things in a system interact with each other.\n",
        "\n",
        "* the easiest way to solve this problem is to first solve the Eigenvalue problem, which involves finding the Eigenvectors and the Eigenvalues of the hamiltonian. We are able the different values of the Eigenvalues and Eigenvectors with the label k:\n",
        "\n",
        "> $\\hat{H}\\left|E_{k}\\right\\rangle=E_{k}\\left|E_{k}\\right\\rangle$\n",
        "\n",
        "* This allows us to know that the Eigenvectors, when plugged into the Schroedinger equation ...\n",
        "\n",
        "> $i \\frac{d}{d t}\\left|E_{k}\\right\\rangle=\\hat{H}\\left|E_{k}\\right\\rangle=E_{k}\\left|E_{k}\\right\\rangle$\n",
        "\n",
        "* ... just pick up a phase in time depending on the energy they correspond to:\n",
        "\n",
        "> $\\left|E_{k}(t)\\right\\rangle=e^{-i E_{k} t}\\left|E_{k}\\right\\rangle$"
      ]
    },
    {
      "cell_type": "markdown",
      "metadata": {
        "id": "jitINkMkzWk-"
      },
      "source": [
        "**Now to sum more general situation with some generic state $\\psi$**\n",
        "\n",
        "* we can decompose $\\psi$ in terms of energy Eigenbasis:\n",
        "\n",
        "> $|\\psi\\rangle=\\sum_{m} c_{m}\\left|E_{m}\\right\\rangle$\n",
        "\n",
        "* where $c_{m}$ is given by the inner product of the energy Eigenvector labelled by m and $\\psi$ itself:\n",
        "\n",
        "> $c_{m}=\\left\\langle E_{m} \\mid \\psi\\right\\rangle$\n",
        "\n",
        "* We can then time-evolve the state by simply time-evolving the energy Eigen-Kets:\n",
        "\n",
        "> $|\\psi(t)\\rangle=\\sum_{m} c_{m} e^{-i E_{m} t}\\left|E_{m}\\right\\rangle$\n",
        "\n",
        "* Tracking the expectation value of an observable is quite easy: Simply applying the state vector in time to both sides of the matrix gives the following equation: \n",
        "\n",
        "> $\\langle A(t)\\rangle=\\sum_{m, n} \\bar{c}_{n} c_{m} A_{n, m} e^{i\\left(E_{n}-E_{m}\\right) t}$\n",
        "\n",
        "* Where we have labelled the matrix entries of a by the energy Eigenbasis in the following way:\n",
        "\n",
        "> $A_{n, m}=\\left\\langle E_{n}|A| E_{m}\\right\\rangle$"
      ]
    },
    {
      "cell_type": "markdown",
      "metadata": {
        "id": "utZdbq6QzZD9"
      },
      "source": [
        "**Propeties of the trace of a matrix**\n",
        "\n",
        "* We have a basis of states labeled by j $|j\\rangle, j=1,2$.. N that form a complete orthonormal basis. Then I write the trace of a matrix in the following way:\n",
        "\n",
        "> $\\operatorname{Tr}(A)=\\sum_{j}\\langle j|A| j\\rangle$\n",
        "\n",
        "* the trace is a linear mapping which tells us that we can separate the trace of the sum of two matrices apart like this, and we can also pull scalar multiples outside of the trace:\n",
        "\n",
        "> $\\operatorname{Tr}(A+B)=\\operatorname{Tr} A+\\operatorname{Tr} B$ with $\\operatorname{Tr}(c A)=c \\operatorname{Tr} A$\n",
        "\n",
        "* When we take the trace of two matrices multiplied by each other, the trace is invariant under swapping the two matrices inside of the trace.  \n",
        "\n",
        "> $\\operatorname{Tr}(A B)=\\operatorname{Tr}(B A)$"
      ]
    },
    {
      "cell_type": "markdown",
      "metadata": {
        "id": "9Om09eqlza4O"
      },
      "source": [
        "**Density Matrices**\n",
        "\n",
        "* Going from a pure state represented by a Ket we can introduce the density matrix which is a completely equivalent way to represent the state of a quantum system \n",
        "\n",
        "* the density matrix in this context is just the outer product of the state with itself:\n",
        "\n",
        "> $\\rho=|\\psi\\rangle\\langle\\psi|$\n",
        "\n",
        "* the expectation value is rewritten in terms of a trace, but it is mathematically equivalent to the earlier expression:\n",
        "\n",
        "> $\\left\\langle\\sigma^{Z}\\right\\rangle=\\operatorname{Tr}\\left(\\rho \\sigma^{2}\\right)=\\left\\langle\\psi\\left|\\sigma^{Z}\\right| \\psi\\right\\rangle$\n",
        "\n",
        "* the density matrix has two fundamental properties: it's trace is 1 in the context of a pure state:\n",
        "\n",
        "> $\\operatorname{Tr} \\rho=1$\n",
        "\n",
        "> $\\operatorname{Tr}|\\psi\\rangle\\left\\langle\\left.\\psi|=|\\langle\\psi \\mid \\psi\\rangle\\right|^{2}=1\\right.$\n",
        "\n",
        "* and it's a positive operator:\n",
        "\n",
        "> $\\rho \\geq 0$\n",
        "\n",
        "* If I take any state vector our state space and perform the following operation, then the result is always greater than or equal to zero:\n",
        "\n",
        "> $\\langle\\phi|\\rho| \\phi\\rangle=|\\langle\\phi \\mid \\psi\\rangle|^{2} \\geq 0$"
      ]
    },
    {
      "cell_type": "markdown",
      "metadata": {
        "id": "wuLO_P1u6FBJ"
      },
      "source": [
        "**Dynamics: von Neumann equation of time evolution**\n",
        "\n",
        "* show from the Schroedinger equation we can derive the von Neumann equation of time evolution:\n",
        "\n",
        "> $i \\frac{\\partial \\rho}{\\partial t}=[\\hat{H}, \\rho]$\n",
        "\n",
        "* It features the commutation relationship between the Hamiltonian and the density matrix itself\n",
        "\n",
        "* then the expectation value for an observable in time can be rewritten in the following way:\n",
        "\n",
        "> $\\langle A(t)\\rangle=\\operatorname{Tr}(\\rho(t) A)$\n",
        "\n",
        "* where the density matrix $\\rho$ evolves with the Hamiltonian being applied to it in time: \n",
        "\n",
        "> $\\rho(t)=e^{-i \\hat{H} t} \\rho e^{i \\hat{H} t}$\n",
        "\n",
        "*  similarly re-expressed in the basis of the energy Eigenvalues\n",
        "\n",
        "> $\\rho(t)=\\sum_{m, n} \\rho_{m, n} e^{-i\\left(E_{m}-E_{n}\\right) t}\\left|E_{m}\\right\\rangle\\left\\langle E_{n}\\right|$\n",
        "\n",
        "* where $\\rho_{m,n}$ can be written in the following way, where we have re-expressed its entries in terms of the energy Eigenbasis:\n",
        "\n",
        "> $\\rho_{m, n}=\\left\\langle E_{m}|\\rho| E_{n}\\right\\rangle$\n"
      ]
    },
    {
      "cell_type": "markdown",
      "metadata": {
        "id": "Xmo42wRj8v6C"
      },
      "source": [
        "**Mixed States**\n",
        "\n",
        "* what if we are unsure of what pure state our system is in? (We are somehow ignorant / unwissend to what pure state we are in)\n",
        "\n",
        "* then we can describe a statistical ensemble of pure states which we call a mixed states\n",
        "\n",
        "> $\\rho=\\sum_{j} p_{j}\\left|\\psi_{j}\\right\\rangle\\left\\langle\\psi_{j}\\right|$\n",
        "\n",
        "* the ensemble is written as a sum of pure states with probabilities $p_j$ and the probabilities are greater than zero and sum up to one:\n",
        "\n",
        "> $p_{j} \\geq 0 \\quad \\sum_{j} p_{j}=1$\n",
        "\n",
        "* Mixed states are also trace 1 and are positive operators:\n",
        "\n",
        "> $\\operatorname{Tr} \\rho=1, \\quad \\rho \\geq 0$\n",
        "\n",
        "* Dynamics and the expectation values work in an identical way"
      ]
    },
    {
      "cell_type": "markdown",
      "metadata": {
        "id": "NUFROLA7BPGU"
      },
      "source": [
        "**Non-uniqueness of mixed states decomposition**\n",
        "\n",
        "* Interestingly it's not completely correct to interpret $p_j$ as the probability of being in a particular state labeled by j. \n",
        "\n",
        "* To see this consider the following example let $\\rho$ be a mixed state written in the following way:\n",
        "\n",
        "> $\\rho=\\frac{4}{5}|\\downarrow\\rangle\\left\\langle\\downarrow\\left|+\\frac{1}{5}\\right| \\uparrow\\right\\rangle\\langle\\uparrow|$\n",
        "\n",
        "* we say the system is in state down with probability 4/5 and in state up with 1/5. \n",
        "\n",
        "* What if I prepared two other states with the following new state vectors a and b with the following probability amplitudes of being in down or up state:\n",
        "\n",
        "> $|a\\rangle=\\sqrt{\\frac{4}{5}}|\\downarrow\\rangle+\\frac{1}{\\sqrt{5}}|\\uparrow\\rangle$\n",
        "\n",
        "> $|b\\rangle=\\sqrt{\\frac{4}{5}}|\\downarrow\\rangle-\\frac{1}{\\sqrt{5}}|\\uparrow\\rangle$\n",
        "\n",
        "* Then if we prepare these states with probability one-half:\n",
        "\n",
        "> $\\rho=\\frac{1}{2}|a\\rangle\\left\\langle a\\left|+\\frac{1}{2}\\right| b\\right\\rangle\\langle b|$\n",
        "\n",
        "* We see that we get the same density matrix as before working this out expanding the definitions of a and b allows us to arrive at our original density matrix:\n",
        "\n",
        "> $\\rho=\\frac{4}{5}|\\downarrow\\rangle\\left\\langle\\downarrow\\left|+\\frac{1}{5}\\right| \\uparrow\\right\\rangle\\langle\\uparrow|$\n",
        "\n",
        "* Therefore two different ensembles of pure states can give rise to the same mixed state and we must be careful when we interpret $p_j$ as strictly probabilities of a particular system being strictly in its associated pure state in the sum. \n",
        "\n",
        "* Finally, if you get a matrix how could you tell if it's pure or mixed? Mathematically quite simple way to check: square the matrix and take its trace. If the trace is still 1, we say that the density matrix is pure if it is less than one then we say it's mixed. This is actually independent of the time evolution. \n",
        "\n",
        "> $\\operatorname{Tr}\\left(\\rho^{2}\\right) \\leq 1$ "
      ]
    },
    {
      "cell_type": "markdown",
      "metadata": {
        "id": "IzUr9NfyjYRj"
      },
      "source": [
        "###### **<font color =\"blue\">Vector-Kovector-Multiplication (Outer / Dyadic)**: Density Matrix for Entanglemend (Bell State)"
      ]
    },
    {
      "cell_type": "markdown",
      "metadata": {
        "id": "A9tHaHWZzH6I"
      },
      "source": [
        "**A mixed state cannot be described by a wave function, it requires a density matrix for its description**.\n",
        "\n",
        "* A pure entangled state of the whole system can be described by a wave function, but the states of its subsystems cannot be described by wave functions and are mixed states.\n",
        "\n",
        "* A separable mixed state has no entanglement and can be created by local operations on pure product states.\n",
        "\n",
        "**A mixed entangled state cannot be described by a wave function, and the states of its subsystems also cannot be described by wave functions.**"
      ]
    },
    {
      "cell_type": "markdown",
      "metadata": {
        "id": "XBKvF6_djon9"
      },
      "source": [
        "https://de.wikipedia.org/wiki/Bell-Zustand"
      ]
    },
    {
      "cell_type": "markdown",
      "metadata": {
        "id": "Ivt7v4m5vMUK"
      },
      "source": [
        "> **Two-or more-states are entangled when they can't be written as a product of other states $\\otimes$, but as linear superpositions (sums) $\\pm$ of products of other states**. A state that is entangled with some other state: the joint probability distribution doesn't factorize.\n",
        "\n",
        "* **these (others) were called product states**, but there are also states which cannot be written in this form even though they live in the same space \n",
        "\n",
        "* One example is the Phi plus state | $\\Phi^+$ >, it's an equal super position of two basis vectors zero/zero and one/one. But cannot be written as a product vector: you get a results in an **entangled state**."
      ]
    },
    {
      "cell_type": "markdown",
      "metadata": {
        "id": "1OqzJa4f75CT"
      },
      "source": [
        "First, remember Dirac notation for the two states: \n",
        "\n",
        "> $\\left[\\begin{array}{l}1 \\\\ 0\\end{array}\\right]=|0\\rangle, \\quad\\left[\\begin{array}{l}0 \\\\ 1\\end{array}\\right]=|1\\rangle$. \n",
        "\n",
        "We choose two qubits in state $|0\\rangle$:\n",
        "\n",
        "> $|0\\rangle \\otimes|0\\rangle = \\left[\\begin{array}{l}1 \\\\ 0\\end{array}\\right] \\otimes\\left[\\begin{array}{l}1 \\\\ 0\\end{array}\\right]=$</font> $\\left[\\begin{array}{l}1\\left[\\begin{array}{l}1 \\\\ 0\\end{array}\\right] \\\\ 0\\left[\\begin{array}{l}1 \\\\ 0\\end{array}\\right]\\end{array}\\right]=$ <font color=\"orange\">$\\left [\\begin{array}{l}11 \\\\ 10 \\\\ 01 \\\\ 00\\end{array}\\right]$</font> = <font color=\"gray\">$\\left [\\begin{array}{l}3 \\\\ 2 \\\\ 1 \\\\ 0\\end{array}\\right]$ = $\\left [\\begin{array}{l}1 \\\\ 0 \\\\ 0 \\\\ 0\\end{array}\\right]$ "
      ]
    },
    {
      "cell_type": "markdown",
      "metadata": {
        "id": "KZk3G0_b56Sm"
      },
      "source": [
        "<font color=\"blue\">**Bell state is the linear combination of orthogonal product states of 2 qubits in a superposition (??)**</font>\n",
        "\n",
        "* To formulate this statement more rigorously let us look at systems of two components, e.g. two spin $\\frac{1}{2}$ particles or two photons, and construct the four possible product states (eigenstates of $\\sigma_{z}$ ). \n",
        "\n",
        "* These states are of the class of the so-called “separable” states, or just “product” states:\n",
        "\n",
        ">$\n",
        "|\\uparrow\\rangle \\otimes|\\uparrow\\rangle \\quad |\\uparrow\\rangle \\otimes|\\downarrow\\rangle \\quad |\\downarrow\\rangle \\otimes|\\uparrow\\rangle \\quad |\\downarrow\\rangle \\otimes|\\downarrow\\rangle\n",
        "$\n",
        "\n",
        "written in 0-1 notation:\n",
        "\n",
        "> <font color=\"orange\">$\n",
        "|0\\rangle \\otimes|0\\rangle \\quad |0\\rangle \\otimes|1\\rangle \\quad |1\\rangle \\otimes|0\\rangle \\quad |1\\rangle \\otimes|1\\rangle\n",
        "$</font>\n",
        "\n",
        "* Whichever of the above product states you choose, the states of the individual subsystems Alice and Bob are well defined. \n",
        "\n",
        "* For example, for the state $|\\uparrow\\rangle \\otimes|\\downarrow\\rangle$, when measuring the spin along the $z$-direction, the outcome of the measurements of Alice will be \"up\", i.e. determined by the state $|\\uparrow\\rangle$,  while Bob's result will be always \"down\", i.e. determined by the state $|\\downarrow\\rangle$."
      ]
    },
    {
      "cell_type": "markdown",
      "metadata": {
        "id": "v7vKH2HCpbvL"
      },
      "source": [
        "\n",
        "\n",
        "**From these product states we can form linear combinations, e.g.**\n",
        "\n",
        ">$\n",
        "\\begin{array}{l}\n",
        "\\left|\\psi^{\\pm}\\right\\rangle=\\frac{1}{\\sqrt{2}}(|\\uparrow\\rangle|\\downarrow\\rangle \\pm|\\downarrow\\rangle|\\uparrow\\rangle) \\\\\n",
        "\\left|\\phi^{\\pm}\\right\\rangle=\\frac{1}{\\sqrt{2}}(|\\uparrow\\rangle|\\uparrow\\rangle \\pm|\\downarrow\\rangle|\\downarrow\\rangle)\n",
        "\\end{array}\n",
        "$\n",
        "\n",
        "bzw in 0-1 notation:\n",
        "\n",
        ">$\n",
        "\\begin{array}{l}\n",
        "\\left|\\psi^{\\pm}\\right\\rangle=\\frac{1}{\\sqrt{2}}(|0\\rangle|1\\rangle \\pm|1\\rangle|0\\rangle) \\\\\n",
        "\\left|\\phi^{\\pm}\\right\\rangle=\\frac{1}{\\sqrt{2}}(|0\\rangle|0\\rangle \\pm|1\\rangle|1\\rangle)\n",
        "\\end{array}\n",
        "$\n",
        "\n",
        "* **These are the four (maximally) entangled 2-qubit states, called the Bell states**. \n",
        "\n",
        "* We also recognize that the Bell states are not only artificial constructions but we have already encountered them when studying composite quantum systems with spin, where the $\\mid \\psi^{\\pm}$) were found to be simultaneous eigenstates of $\\vec{S}$ and $S_{z}$."
      ]
    },
    {
      "cell_type": "markdown",
      "metadata": {
        "id": "odsz0mKF8fwd"
      },
      "source": [
        "Let us now try to grasp what entanglement in terms of e.g. the Bell state $\\left|\\psi^{\\pm}\\right\\rangle$means. \n",
        "\n",
        "* Consider two observers, Alice and Bob, who are far apart, both performing measurements on their part of the entangled state. **They will both get the results $\\uparrow$ or $\\downarrow$ equally often, i.e. with a probability of $\\frac{1}{2}$, which means that neither of the subsystems is in a well defined state**. \n",
        "\n",
        "* But on the other hand, everytime Alice measures $\\uparrow$, Bob will with certainty measure the result $\\downarrow$ and vice versa, i.e. the measurement results are perfectly correlated.\n",
        "\n",
        "This has some far reaching consequences for the structure of the theory, i.e. it leads to a loss of locality and/or realism of the theory, which is backed up by experiments and it creates interesting possibilities for information processing, such as quantum cryptography, quantum teleportation and many more.\n",
        "\n",
        "Source & more details: [Entanglement Paper](https://raw.githubusercontent.com/deltorobarba/papers/master/Entanglement.pdf)"
      ]
    },
    {
      "cell_type": "markdown",
      "metadata": {
        "id": "-VooDyLmlvTu"
      },
      "source": [
        "The Bell experiment (1964): there are four unique distinguishable orthogonal entangled states as shown below that are often called the Bell states $(\\Phi+, \\Phi-, \\Psi+, \\Psi-) .$\n",
        "\n",
        ">$\n",
        "\\begin{aligned}\n",
        "\\left|\\Phi^{+}\\right\\rangle &=\\frac{1}{\\sqrt{2}}(|00\\rangle+|11\\rangle) \\\\\n",
        "\\left|\\Phi^{-}\\right\\rangle &=\\frac{1}{\\sqrt{2}}(|00\\rangle-|11\\rangle) \\\\\n",
        "\\left|\\Psi^{+}\\right\\rangle &=\\frac{1}{\\sqrt{2}}(|01\\rangle+|10\\rangle) \\\\\n",
        "\\left|\\Psi^{-}\\right\\rangle &=\\frac{1}{\\sqrt{2}}(|01\\rangle-|10\\rangle)\n",
        "\\end{aligned}\n",
        "$\n",
        "\n",
        "What do these Bell states mean? These Bell states tell us that there is an equal probability of a pair of entangled qubits either being in the first configuration or the second configuration in any one of the given four Bell states. For example, \n",
        "\n",
        "* in the first Bell state Φ+ the qubits have an equal chance of being either in the |00⟩ or |11⟩ configuration, while \n",
        "\n",
        "* in the third Bell state Ψ+ the qubits have an equal chance of being either in the |01⟩ or |10⟩ configuration.\n"
      ]
    },
    {
      "cell_type": "markdown",
      "metadata": {
        "id": "dgd0WAXVl6ou"
      },
      "source": [
        "**The entangled state cannot be decomposed into separate states from each of the two qubits with the tensor product**. We end up with a contradiction when we try to take the product of two qubits in an attempt to generate the Φ+ state and therfore our entangled state is some new “mixed state” that is not describable by the individual qubit states.\n",
        "\n",
        "We can set the Bell state equal to the product of two single qubit superpositions:\n",
        "\n",
        "$|\\Phi^{+}\\rangle=\\frac{1}{\\sqrt{2}}|00\\rangle+\\frac{1}{\\sqrt{2}}|11\\rangle=a_{1} b_{1}|00\\rangle+a_{1} b_{2}|01\\rangle+a_{2} b_{1}|10\\rangle+a_{2} b_{2}|11\\rangle$\n",
        "\n",
        "We can match terms, which gives us four equalities:\n",
        "\n",
        "$a_{1} b_{1}=\\frac{1}{\\sqrt{2}}$\n",
        "$a_{1} b_{2}=0$\n",
        "$a_{2} b_{1}=0$\n",
        "$a_{2} b_{2}=\\frac{1}{\\sqrt{2}}$\n",
        "\n",
        "<font color=\"red\">There is no set of coefficients that make these equalities true."
      ]
    },
    {
      "cell_type": "markdown",
      "metadata": {
        "id": "fnyG3Z10ANye"
      },
      "source": [
        "**How do we bring them in this entangled Bell-State?**"
      ]
    },
    {
      "cell_type": "markdown",
      "metadata": {
        "id": "q_kvp1BtjyFd"
      },
      "source": [
        "> We use CNOT-Gate, acting on a two-qubit term $\\left|q_{1} q_{2}\\right\\rangle$, applies the $\\mathbf{N O T}(\\mathbf{X})$ gate to the second qubit only if the first qubit is in state $|1\\rangle$. The first qubit controls the action on the second."
      ]
    },
    {
      "cell_type": "markdown",
      "metadata": {
        "id": "LbbNtBltj28L"
      },
      "source": [
        ">$\n",
        "\\begin{array}{|c|c|c|c|}\n",
        "\\hline {\\text { Before }} & {\\text { Before }}& {\\text { After }}& {\\text { After }} \\\\\n",
        "\\hline \\text { Control } & \\text { Target } & \\text { Control } & \\text { Target } \\\\\n",
        "\\hline|0\\rangle & |0\\rangle & |0\\rangle & |0\\rangle \\\\\n",
        "\\hline|0\\rangle & |1\\rangle & |0\\rangle & |1\\rangle \\\\\n",
        "\\hline|1\\rangle & |0\\rangle & |1\\rangle & |1\\rangle \\\\\n",
        "\\hline|1\\rangle & |1\\rangle & |1\\rangle & |0\\rangle \\\\\n",
        "\\hline\n",
        "\\end{array}\n",
        "$"
      ]
    },
    {
      "cell_type": "markdown",
      "metadata": {
        "id": "An3AqzuxkDZ_"
      },
      "source": [
        "$|00\\rangle \\mapsto|00\\rangle$\n",
        "\n",
        "$|01\\rangle \\mapsto|01\\rangle$\n",
        "\n",
        "$|10\\rangle \\mapsto|1\\rangle \\otimes U|0\\rangle=|1\\rangle \\otimes\\left(u_{00}|0\\rangle+u_{10}|1\\rangle\\right)$\n",
        "\n",
        "$|11\\rangle \\mapsto|1\\rangle \\otimes U|1\\rangle=|1\\rangle \\otimes\\left(u_{01}|0\\rangle+u_{11}|1\\rangle\\right)$\n",
        "\n",
        "The matrix representing the controlled $U$ is\n",
        "\n",
        ">$\n",
        "\\mathrm{C} U=\\left[\\begin{array}{cccc}\n",
        "1 & 0 & 0 & 0 \\\\\n",
        "0 & 1 & 0 & 0 \\\\\n",
        "0 & 0 & u_{00} & u_{01} \\\\\n",
        "0 & 0 & u_{10} & u_{11}\n",
        "\\end{array}\\right]\n",
        "$"
      ]
    },
    {
      "cell_type": "markdown",
      "metadata": {
        "id": "Gp1wsDUxBLgx"
      },
      "source": [
        "Acting on our 4D-statevector, it has one of the two matrices depending on which qubit is the control and which is the target:\n",
        "\n",
        "> $\\mathrm{CNOT}=\\left[\\begin{array}{llll}1 & 0 & 0 & 0 \\\\ 0 & 0 & 0 & 1 \\\\ 0 & 0 & 1 & 0 \\\\ 0 & 1 & 0 & 0\\end{array}\\right], \\quad \\mathrm{CNOT}=\\left[\\begin{array}{llll}1 & 0 & 0 & 0 \\\\ 0 & 1 & 0 & 0 \\\\ 0 & 0 & 0 & 1 \\\\ 0 & 0 & 1 & 0\\end{array}\\right]$\n",
        "\n",
        "https://qiskit.org/textbook/ch-gates/multiple-qubits-entangled-states.html"
      ]
    },
    {
      "cell_type": "markdown",
      "metadata": {
        "id": "ExBqnGqcHpq0"
      },
      "source": [
        "\n",
        "\n",
        "---\n",
        "\n"
      ]
    },
    {
      "cell_type": "markdown",
      "metadata": {
        "id": "O5r_HPZ0Bnw3"
      },
      "source": [
        "**Example**\n",
        "\n",
        "First remember what happens we=hen we apply an Hadamard operator to one qubit in the 0 state:\n",
        "\n",
        "<font color=\"blue\">$H |0\\rangle$</font> $ = \\frac{1}{\\sqrt{2}}\\left(\\begin{array}{cc}1 & 1 \\\\ 1 & -1\\end{array}\\right)\\left[\\begin{array}{l}1 \\\\ 0\\end{array}\\right] =\\frac{1}{\\sqrt{2}}\\left[\\begin{array}{c}1 \\\\ 1\\end{array}\\right]$ <font color=\"blue\">$ \\,\\,= |+\\rangle$ = $\\frac{1}{\\sqrt{2}}(|0\\rangle+|1\\rangle)$\n",
        "\n",
        "Also remember what it looks like when H+I operator in one tensor product matrix:\n",
        "\n",
        "> $H_{1} \\equiv H_{0} \\otimes I=\\frac{1}{\\sqrt{2}}\\left(\\begin{array}{ll}1\\left(\\begin{array}{ll}1 & 0 \\\\ 0 & 1\\end{array}\\right) & 1\\left(\\begin{array}{ll}1 & 0 \\\\ 0 & 1\\end{array}\\right) \\\\ 1\\left(\\begin{array}{ll}1 & 0 \\\\ 0 & 1\\end{array}\\right) & -1\\left(\\begin{array}{ll}1 & 0 \\\\ 0 & 1\\end{array}\\right)\\end{array}\\right)=\\frac{1}{\\sqrt{2}}\\left(\\begin{array}{cccc}1 & 0 & 1 & 0 \\\\ 0 & 1 & 0 & 1 \\\\ 1 & 0 & -1 & 0 \\\\ 0 & 1 & 0 & -1\\end{array}\\right)$\n",
        "\n",
        "\n",
        "\n",
        "\n"
      ]
    },
    {
      "cell_type": "markdown",
      "metadata": {
        "id": "e2jY7aiIET1H"
      },
      "source": [
        "**Now let's first take two qubits and apply an Hadamard operator to the first qubit**:\n",
        "\n",
        "> $H_{1}(|0\\rangle \\otimes|0\\rangle)=H_{1}\\left(\\begin{array}{l}1 \\\\ 0 \\\\ 0 \\\\ 0\\end{array}\\right)$= $\\frac{1}{\\sqrt{2}}\\left(\\begin{array}{cccc}1 & 0 & 1 & 0 \\\\ 0 & 1 & 0 & 1 \\\\ 1 & 0 & -1 & 0 \\\\ 0 & 1 & 0 & -1\\end{array}\\right) \\left(\\begin{array}{l}1 \\\\ 0 \\\\ 0 \\\\ 0\\end{array}\\right)$ = $\\frac{1}{\\sqrt{2}}\\left(\\begin{array}{l}1 \\\\ 0 \\\\ 1 \\\\ 0\\end{array}\\right)$= <font color=\"blue\">$\\frac{1}{\\sqrt{2}}(|0\\rangle \\otimes|0\\rangle+|1\\rangle \\otimes|0\\rangle)$</font>\n",
        "\n",
        "* It produces the state $|0\\rangle \\otimes|+\\rangle=|0+\\rangle \\rightarrow$ $|0+\\rangle=$ <font color=\"blue\">$\\frac{1}{\\sqrt{2}}(|00\\rangle+|01\\rangle)$</font> (Qiskit schreibt notation andersherum als Cirq)\n",
        "\n",
        "* Statevector $=\\left[\\begin{array}{llll}\\frac{1}{\\sqrt{2}} & \\frac{1}{\\sqrt{2}} & 0 & 0\\end{array}\\right]$"
      ]
    },
    {
      "cell_type": "markdown",
      "metadata": {
        "id": "NxUf0nVjERrp"
      },
      "source": [
        "**Now let’s see what happens when we apply the CNOT gate:**\n",
        "\n",
        "* Statevector $=\\left[\\begin{array}{llll}\\frac{1}{\\sqrt{2}} & 0 & 0 & \\frac{1}{\\sqrt{2}}\\end{array}\\right]$\n",
        "\n",
        "* We see we have the state:\n",
        "\n",
        "> $\\mathrm{CNOT}|0+\\rangle=$ <font color=\"blue\">$\\frac{1}{\\sqrt{2}}(|00\\rangle+|11\\rangle)$</font>\n",
        "\n",
        "* This state is very interesting to us, because it is entangled.**This is known as a Bell state**. We can see that this state has $50 \\%$ probability of being measured in the state $|00\\rangle$, and $50 \\%$ chance of being measured in the state $|11\\rangle$. \n",
        "\n",
        "* Most interestingly, it has a $0 \\%$ chance of being measured in the states $|01\\rangle$ or $|10\\rangle$."
      ]
    },
    {
      "cell_type": "markdown",
      "metadata": {
        "id": "iCt6m_FSEzl3"
      },
      "source": [
        "**Consequences of Bell state**\n",
        "\n",
        "* This combined state cannot be written as two separate qubit states, which has interesting implications. \n",
        "\n",
        "* Although our qubits are in superposition, **measuring one will tell us the state of the other and collapse its superposition**. \n",
        "\n",
        "* For example, if we **measured the top qubit and got the state |1⟩, the collective state of our qubits changes** like so:\n",
        "\n",
        "> $\\frac{1}{\\sqrt{2}}(|00\\rangle+|11\\rangle) \\stackrel{\\text { measure }}{\\longrightarrow} |11\\rangle$\n",
        "\n",
        "Even if we separated these qubits light-years away, measuring one qubit collapses the superposition and appears to have an immediate effect on the other. This is the [‘spooky action at a distance’ (Quantum nonlocality)](https://en.wikipedia.org/wiki/Quantum_nonlocality) that upset so many physicists in the early 20th century.\n",
        "\n",
        "It’s important to note that the **measurement result is random**, and the measurement statistics of one qubit are not affected by any operation on the other qubit. Because of this, there is no way to use shared quantum states to communicate. This is known as the **no-communication theorem**.\n",
        "\n",
        "\n"
      ]
    },
    {
      "cell_type": "markdown",
      "metadata": {
        "id": "LZ66eKq-CsCu"
      },
      "source": [
        "\n",
        "\n",
        "---\n",
        "\n"
      ]
    },
    {
      "cell_type": "markdown",
      "metadata": {
        "id": "pRyU64ayj7-M"
      },
      "source": [
        "CNOT or controlled Pauli-X.\n",
        "\n",
        "* **Verschrankt zwei Qubits und invertiert das Ziel-Qubit**, wenn das Kontroll-Qubit 1 ist:\n",
        "\n",
        "> $|00\\rangle \\rightarrow|00\\rangle$\n",
        "\n",
        "> $|01\\rangle \\rightarrow|01\\rangle$\n",
        "\n",
        "> $|10\\rangle \\rightarrow|11\\rangle$\n",
        "\n",
        "> $|11\\rangle \\rightarrow|10\\rangle$\n",
        "\n",
        "Matrix-Darstellung:\n",
        "\n",
        "> $\\left(\\begin{array}{llll}1 & 0 & 0 & 0 \\\\ 0 & 1 & 0 & 0 \\\\ 0 & 0 & 0 & 1 \\\\ 0 & 0 & 1 & 0\\end{array}\\right)$"
      ]
    },
    {
      "cell_type": "markdown",
      "metadata": {
        "id": "s829eEoAkAj9"
      },
      "source": [
        "The CNOT (or controlled Pauli- $X$ ) gate can be described as the gate that maps the basis states $|a, b\\rangle \\mapsto|a, a \\oplus b\\rangle$, where $\\oplus$ is XOR.\n",
        "\n",
        "**Controlled-U Gate**\n",
        "\n",
        "More generally if $U$ is a gate that operates on single qubits with matrix representation\n",
        "\n",
        ">$\n",
        "U=\\left[\\begin{array}{ll}\n",
        "u_{00} & u_{01} \\\\\n",
        "u_{10} & u_{11}\n",
        "\\end{array}\\right]\n",
        "$\n",
        "\n",
        "then the controlled-U gate is a gate that operates on two qubits in such a way that the first qubit serves as a control. \n",
        "\n",
        "It maps the basis states as follows:"
      ]
    },
    {
      "cell_type": "markdown",
      "metadata": {
        "id": "rYWkBI7AkGLv"
      },
      "source": [
        "> **When U is one of the Pauli operators, X,Y, Z, the respective terms \"controlled-X\", \"controlled-Y\", or \"controlled-Z\" are sometimes used**. \n",
        "Sometimes this is shortened to just CX, CY and CZ."
      ]
    },
    {
      "cell_type": "markdown",
      "metadata": {
        "id": "DhXXJIFdj0nV"
      },
      "source": [
        "The [Controlled NOT gate](https://en.m.wikipedia.org/wiki/Controlled_NOT_gate) (also C-NOT or CNOT, controlled Pauli-X) is a quantum logic gate that is an essential component in the construction of a gate-based quantum computer. **It can be used to entangle and disentangle Bell states**. Any quantum circuit can be simulated to an arbitrary degree of accuracy using a combination of CNOT gates and single qubit rotations."
      ]
    },
    {
      "cell_type": "markdown",
      "metadata": {
        "id": "vQ8Eexp-j5OF"
      },
      "source": [
        "A common application of the $\\mathrm{C}_{\\text {NOT }}$ gate is to maximally entangle two qubits into the $\\left|\\Phi^{+}\\right\\rangle$ Bell state; this forms part of the setup of the superdense coding, quantum teleportation, and entangled quantum cryptography algorithms."
      ]
    },
    {
      "cell_type": "markdown",
      "metadata": {
        "id": "Nt6v3s5JpaoP"
      },
      "source": [
        "\n",
        "\n",
        "---\n",
        "\n"
      ]
    },
    {
      "cell_type": "markdown",
      "metadata": {
        "id": "MLv28k5Jf2dj"
      },
      "source": [
        "https://en.wikipedia.org/wiki/Separable_state"
      ]
    },
    {
      "cell_type": "markdown",
      "metadata": {
        "id": "CJgnzN93yXcL"
      },
      "source": [
        "https://qiskit.org/textbook/ch-gates/multiple-qubits-entangled-states.html"
      ]
    },
    {
      "cell_type": "markdown",
      "metadata": {
        "id": "7DOhxiwGn4f_"
      },
      "source": [
        "Erwin Schro ̈dinger in 1935: A composite quantum system, whose subsystems are distant from each other, is in an “entangled state” if the total system is in a well defined state, but the subsystems themselves are not."
      ]
    },
    {
      "cell_type": "markdown",
      "metadata": {
        "id": "rYnM169ZFHeZ"
      },
      "source": [
        "###### <font color=\"blue\">**Matrix-Vector-Multiplication (Single Qubit)** \n",
        "\n"
      ]
    },
    {
      "cell_type": "markdown",
      "metadata": {
        "id": "tOvW_Ng_Ob1A"
      },
      "source": [
        "*Applying a Hadamard gate to a single qubit (matrix-vector multiplication) - Simple dot product! You get a vector out.*"
      ]
    },
    {
      "cell_type": "markdown",
      "metadata": {
        "id": "VQ9JyI3Bz1hk"
      },
      "source": [
        "$H |0\\rangle = \\frac{1}{\\sqrt{2}}\\left(\\begin{array}{cc}1 & 1 \\\\ 1 & -1\\end{array}\\right)\\left[\\begin{array}{l}1 \\\\ 0\\end{array}\\right]= \\frac{1}{\\sqrt{2}}\\left[\\begin{array}{ll}1 + 0 \\\\ 1 + 0\\end{array}\\right]=\\frac{1}{\\sqrt{2}}\\left[\\begin{array}{c}1 \\\\ 1\\end{array}\\right] = |+\\rangle$\n"
      ]
    },
    {
      "cell_type": "markdown",
      "metadata": {
        "id": "Ibtl2dCbFDMF"
      },
      "source": [
        "$H |1\\rangle = \\frac{1}{\\sqrt{2}}\\left(\\begin{array}{cc}1 & 1 \\\\ 1 & -1\\end{array}\\right)\\left[\\begin{array}{l}0 \\\\ 1\\end{array}\\right]= \\frac{1}{\\sqrt{2}}\\left[\\begin{array}{ll}0 + 1 \\\\ 0 -1\\end{array}\\right]=\\frac{1}{\\sqrt{2}}\\left[\\begin{array}{c}1 \\\\ -1\\end{array}\\right] = |-\\rangle$\n"
      ]
    },
    {
      "cell_type": "markdown",
      "metadata": {
        "id": "rEgXdQ0EDkN-"
      },
      "source": [
        "*Diese Zustände können auch mithilfe der Dirac-Notation als Summen von |0⟩ und |1⟩ erweitert werden:*"
      ]
    },
    {
      "cell_type": "markdown",
      "metadata": {
        "id": "VSvDRH31D2Pu"
      },
      "source": [
        "$|+\\rangle=\\frac{1}{\\sqrt{2}}(|0\\rangle+|1\\rangle)$ weil <font color=\"gray\">wegen $|0\\rangle=\\left[\\begin{array}{l}1 \\\\ 0\\end{array}\\right]$ und $|1\\rangle=\\left[\\begin{array}{l}0 \\\\ 1\\end{array}\\right]$ daher:</font> $\\frac{1}{\\sqrt{2}}\\left[\\begin{array}{ll}1 + 0 \\\\ 0 + 1\\end{array}\\right]=\\frac{1}{\\sqrt{2}}\\left[\\begin{array}{c}1 \\\\ 1\\end{array}\\right]$"
      ]
    },
    {
      "cell_type": "markdown",
      "metadata": {
        "id": "63uQegWFD9zv"
      },
      "source": [
        "$|-\\rangle=\\frac{1}{\\sqrt{2}}(|0\\rangle-|1\\rangle)$ weil: $\\frac{1}{\\sqrt{2}}\\left[\\begin{array}{ll}1 - 0 \\\\ 0 - 1\\end{array}\\right]=\\frac{1}{\\sqrt{2}}\\left[\\begin{array}{c}1 \\\\ -1\\end{array}\\right]$"
      ]
    },
    {
      "cell_type": "markdown",
      "metadata": {
        "id": "P1vK0IwMFqXG"
      },
      "source": [
        "*Zusammenfassend, das ist alles das gleiche, sieht aber komplett anders aus:*"
      ]
    },
    {
      "cell_type": "markdown",
      "metadata": {
        "id": "Pr5W26hVFtmu"
      },
      "source": [
        "<font color=\"blue\">$H |0\\rangle$</font> $ = \\frac{1}{\\sqrt{2}}\\left(\\begin{array}{cc}1 & 1 \\\\ 1 & -1\\end{array}\\right)\\left[\\begin{array}{l}1 \\\\ 0\\end{array}\\right] =\\frac{1}{\\sqrt{2}}\\left[\\begin{array}{c}1 \\\\ 1\\end{array}\\right]$ <font color=\"blue\">$ \\,\\,= |+\\rangle$ = $\\frac{1}{\\sqrt{2}}(|0\\rangle+|1\\rangle)$\n"
      ]
    },
    {
      "cell_type": "markdown",
      "metadata": {
        "id": "_gP7V8tEF6q5"
      },
      "source": [
        "<font color=\"blue\">$H |1\\rangle$</font>$ = \\frac{1}{\\sqrt{2}}\\left(\\begin{array}{cc}1 & 1 \\\\ 1 & -1\\end{array}\\right)\\left[\\begin{array}{l}0 \\\\ 1\\end{array}\\right]=\\frac{1}{\\sqrt{2}}\\left[\\begin{array}{c}1 \\\\ -1\\end{array}\\right]$ <font color=\"blue\">$ = |-\\rangle$ = $\\frac{1}{\\sqrt{2}}(|0\\rangle-|1\\rangle)$"
      ]
    },
    {
      "cell_type": "markdown",
      "metadata": {
        "id": "XACkkeUlIM9b"
      },
      "source": [
        "*$|0\\rangle$ und $|1\\rangle$ stellen hier die Basis dar, in der die Quantenzustaende berechnet werden. Man kann allerdings auch eine andere Basis waehlen, zB $|+\\rangle$ und $|-\\rangle$:*"
      ]
    },
    {
      "cell_type": "markdown",
      "metadata": {
        "id": "czMwdUEMIn0H"
      },
      "source": [
        "$|0\\rangle=\\frac{1}{\\sqrt{2}}(|+\\rangle+|-\\rangle)$ vergleiche: <font color=\"blue\">$|+\\rangle$ = $\\frac{1}{\\sqrt{2}}(|0\\rangle+|1\\rangle)$"
      ]
    },
    {
      "cell_type": "markdown",
      "metadata": {
        "id": "IpTW9RrLI1Ne"
      },
      "source": [
        "$|1\\rangle=\\frac{1}{\\sqrt{2}}(|+\\rangle-|-\\rangle)$ vergleiche: <font color=\"blue\">$|-\\rangle$ = $\\frac{1}{\\sqrt{2}}(|0\\rangle-|1\\rangle)$"
      ]
    },
    {
      "cell_type": "markdown",
      "metadata": {
        "id": "9TfCRrAc03N1"
      },
      "source": [
        "*Applying an Identity Operator:*"
      ]
    },
    {
      "cell_type": "markdown",
      "metadata": {
        "id": "PYb6eXBf068c"
      },
      "source": [
        "$I |0\\rangle = \\left(\\begin{array}{cc}1 & 0 \\\\ 0 & 1\\end{array}\\right)\\left[\\begin{array}{l}1 \\\\ 0\\end{array}\\right]= \\left[\\begin{array}{ll}1 + 0 \\\\ 0 + 0\\end{array}\\right]=\\left[\\begin{array}{c}1 \\\\ 0\\end{array}\\right]$\n"
      ]
    },
    {
      "cell_type": "markdown",
      "metadata": {
        "id": "FPLUZ9Vs1hJU"
      },
      "source": [
        "$I |1\\rangle = \\left(\\begin{array}{cc}1 & 0 \\\\ 0 & 1\\end{array}\\right)\\left[\\begin{array}{l}0 \\\\ 1\\end{array}\\right]= \\left[\\begin{array}{ll}0 + 0 \\\\ 0 + 1\\end{array}\\right]=\\left[\\begin{array}{c}0 \\\\ 1\\end{array}\\right]$\n"
      ]
    },
    {
      "cell_type": "markdown",
      "metadata": {
        "id": "Ke-xCGlbv4MW"
      },
      "source": [
        "*Applying a Pauli-X Operator:*"
      ]
    },
    {
      "cell_type": "markdown",
      "metadata": {
        "id": "viikjlnxwJd2"
      },
      "source": [
        "$X|0\\rangle=\\left[\\begin{array}{ll}0 & 1 \\\\ 1 & 0\\end{array}\\right]\\left[\\begin{array}{l}1 \\\\ 0\\end{array}\\right]=\\left[\\begin{array}{ll}0 + 0 \\\\ 1 + 0\\end{array}\\right]=\\left[\\begin{array}{l}0 \\\\ 1\\end{array}\\right]$"
      ]
    },
    {
      "cell_type": "markdown",
      "metadata": {
        "id": "NTK-u1Q4nrGv"
      },
      "source": [
        "###### <font color=\"blue\">**Matrix-Matrix-Vector-Vector-Multiplication (Multi Qubit)** "
      ]
    },
    {
      "cell_type": "markdown",
      "metadata": {
        "id": "Ksr8LwdrjeWS"
      },
      "source": [
        "Just as we used the tensor product to calculate multi-qubit statevectors, we use the tensor product to calculate matrices that act on these statevectors.\n",
        "\n",
        "* First: Tensor Product of different operators. This is either one operator like Hadamard (for one qubit) combined with the identity operator (for other qubit). Or several non-trivial operators combined (no identity).\n",
        "\n",
        "* then simple dot product of operator matrix with vector of combined qubits."
      ]
    },
    {
      "cell_type": "markdown",
      "metadata": {
        "id": "UDNZyl0YjF1t"
      },
      "source": [
        "> $A \\mathbf{x}=\\left[\\begin{array}{cccc}a_{11} & a_{12} & \\ldots & a_{1 n} \\\\ a_{21} & a_{22} & \\ldots & a_{2 n} \\\\ \\vdots & \\vdots & \\ddots & \\vdots \\\\ a_{m 1} & a_{m 2} & \\ldots & a_{m n}\\end{array}\\right]\\left[\\begin{array}{c}x_{1} \\\\ x_{2} \\\\ \\vdots \\\\ x_{n}\\end{array}\\right]=\\left[\\begin{array}{c}a_{11} x_{1}+a_{12} x_{2}+\\cdots+a_{1 n} x_{n} \\\\ a_{21} x_{1}+a_{22} x_{2}+\\cdots+a_{2 n} x_{n} \\\\ \\vdots \\\\ a_{m 1} x_{1}+a_{m 2} x_{2}+\\cdots+a_{m n} x_{n}\\end{array}\\right]$\n",
        "\n",
        "Matrix-vector multiplication takes the dot product of x with each of the rows of A. (This is why the number of columns in A has to equal the number of components in x.) The first component of the matrix-vector product is the dot product of x with the first row of A, etc. In fact, if A has only one row, the matrix-vector product is really a dot product in disguise.\n",
        "[Source](https://mathinsight.org/matrix_vector_multiplication)"
      ]
    },
    {
      "cell_type": "markdown",
      "metadata": {
        "id": "5x33hPUrN8gQ"
      },
      "source": [
        "<font color=\"blue\">*H-Gate $\\otimes$ I-Gate*"
      ]
    },
    {
      "cell_type": "markdown",
      "metadata": {
        "id": "p0c9EIjuq94-"
      },
      "source": [
        "**First create the tensor product of two operators**: For construction of the desired two-qubit gate, you need the same tensor product operation as you used for the vectors. Here where $H_1$ is a one-qubit Hadamard gate in the two-qubit space $(\\hat{H} \\otimes \\mathbf{I})$, where Hadamard is applied only to one Qubit:\n",
        "\n",
        "> $H_{1} \\equiv H_{0} \\otimes I=\\frac{1}{\\sqrt{2}}\\left(\\begin{array}{ll}1\\left(\\begin{array}{ll}1 & 0 \\\\ 0 & 1\\end{array}\\right) & 1\\left(\\begin{array}{ll}1 & 0 \\\\ 0 & 1\\end{array}\\right) \\\\ 1\\left(\\begin{array}{ll}1 & 0 \\\\ 0 & 1\\end{array}\\right) & -1\\left(\\begin{array}{ll}1 & 0 \\\\ 0 & 1\\end{array}\\right)\\end{array}\\right)=\\frac{1}{\\sqrt{2}}\\left(\\begin{array}{cccc}1 & 0 & 1 & 0 \\\\ 0 & 1 & 0 & 1 \\\\ 1 & 0 & -1 & 0 \\\\ 0 & 1 & 0 & -1\\end{array}\\right)$"
      ]
    },
    {
      "cell_type": "markdown",
      "metadata": {
        "id": "sQRsJw8d1veB"
      },
      "source": [
        "**Second, apply the new 'tensored' operator on the tensor product of two state vectors**:\n",
        "\n",
        "See the tensor product of two vectors in state $|0\\rangle$:\n",
        "\n",
        "> $|0\\rangle \\otimes|0\\rangle = \\left[\\begin{array}{l}1 \\\\ 0\\end{array}\\right] \\otimes\\left[\\begin{array}{l}1 \\\\ 0\\end{array}\\right]=$</font> $\\left[\\begin{array}{l}1\\left[\\begin{array}{l}1 \\\\ 0\\end{array}\\right] \\\\ 0\\left[\\begin{array}{l}1 \\\\ 0\\end{array}\\right]\\end{array}\\right]=$ <font color=\"blue\">$\\left [\\begin{array}{l}1 \\\\ 0 \\\\ 0 \\\\ 0\\end{array}\\right]$ \n",
        "\n",
        "Now applying $H_1$ you mix up the first qubit states and keep the second qubit state unchanged:\n",
        "\n",
        "> $H_{1}(|0\\rangle \\otimes|0\\rangle)=H_{1}\\left(\\begin{array}{l}1 \\\\ 0 \\\\ 0 \\\\ 0\\end{array}\\right)$= <font color=\"blue\">$\\frac{1}{\\sqrt{2}}\\left(\\begin{array}{cccc}1 & 0 & 1 & 0 \\\\ 0 & 1 & 0 & 1 \\\\ 1 & 0 & -1 & 0 \\\\ 0 & 1 & 0 & -1\\end{array}\\right) \\left(\\begin{array}{l}1 \\\\ 0 \\\\ 0 \\\\ 0\\end{array}\\right)$ = $\\frac{1}{\\sqrt{2}}\\left(\\begin{array}{l}1 \\\\ 0 \\\\ 1 \\\\ 0\\end{array}\\right)$</font>= $\\frac{1}{\\sqrt{2}}(|0\\rangle \\otimes|0\\rangle+|1\\rangle \\otimes|0\\rangle)$  \n",
        "\n",
        "*Also written as (??: <font color=\"blue\">$=\\frac{1}{\\sqrt{2}}(|00\\rangle+|10\\rangle)$*"
      ]
    },
    {
      "cell_type": "markdown",
      "metadata": {
        "id": "XQKzKIbzoEvq"
      },
      "source": [
        "If you want the Hadamard gate to act on only one qubit, say only the first qubit, then the composite operator acting on the two-qubit state is given by $\\hat{H} \\otimes \\mathbf{I}$ so that\n",
        "\n",
        "> $(\\hat{H} \\otimes \\mathbf{I})\\left(\\left|q_{0}\\right\\rangle \\otimes\\left|q_{1}\\right\\rangle=\\hat{H}\\left|q_{0}\\right\\rangle \\otimes \\mathrm{I}\\left|q_{1}\\right\\rangle=\\right.$ <font color=\"orange\">$\\hat{H}\\left|q_{0}\\right\\rangle \\otimes\\left|q_{1}\\right\\rangle$</font>\n",
        "\n",
        "Here $\\mathbf{I}$ is the unit operator or identity operator.\n",
        "\n"
      ]
    },
    {
      "cell_type": "markdown",
      "metadata": {
        "id": "hzkPRWWkcsCh"
      },
      "source": [
        "**Another way of writing this (=apply H to one qubit only in a 1 qubit in a 2 qubit system) is:** \n",
        "\n",
        "A joint state of two initialized qubits can be represented as\n",
        "\n",
        ">$\n",
        "|0\\rangle \\otimes|0\\rangle\n",
        "$\n",
        "\n",
        "If we apply the Hadamard gate to the first qubit, it transforms but leaves the other qubit unaffected, since the Hadamard is a single qubit gate:\n",
        "\n",
        "> <font color=\"orange\">$\\hat{H}\\left|q_{0}\\right\\rangle \\otimes\\left|q_{1}\\right\\rangle$</font> = $\n",
        "\\mathbf{H}|0\\rangle \\otimes|0\\rangle=\\left(\\frac{1}{\\sqrt{2}}|0\\rangle+\\frac{1}{\\sqrt{2}}|1\\rangle\\right) \\otimes|0\\rangle\n",
        "$\n",
        "\n",
        "The tensor product is distributive, which in this case means it acts much like multiplication:\n",
        "\n",
        ">$\n",
        "\\mathbf{H}|0\\rangle \\otimes|0\\rangle=\\frac{1}{\\sqrt{2}}|0\\rangle \\otimes|0\\rangle+\\frac{1}{\\sqrt{2}}|1\\rangle \\otimes|0\\rangle\n",
        "$"
      ]
    },
    {
      "cell_type": "markdown",
      "metadata": {
        "id": "gK5y6tQx10Vd"
      },
      "source": [
        "<font color=\"blue\">*I-Gate $\\otimes$ H-Gate*"
      ]
    },
    {
      "cell_type": "markdown",
      "metadata": {
        "id": "cfTEgk7ztgpv"
      },
      "source": [
        "If you wish to swap the gate action, i.e. change only the second qubit, you can write it in the same manner:\n",
        "\n",
        "> $H_{2} \\equiv I \\otimes H_{0}=\\frac{1}{\\sqrt{2}}\\left(\\begin{array}{cc}1\\left(\\begin{array}{cc}1 & 1 \\\\ 1 & -1\\end{array}\\right) & 0\\left(\\begin{array}{cc}1 & 1 \\\\ 1 & -1\\end{array}\\right) \\\\ 0\\left(\\begin{array}{cc}1 & 1 \\\\ 1 & -1\\end{array}\\right) & 1\\left(\\begin{array}{cc}1 & 1 \\\\ 1 & -1\\end{array}\\right)\\end{array}\\right)=\\frac{1}{\\sqrt{2}}\\left(\\begin{array}{cccc}1 & 1 & 0 & 0 \\\\ 1 & -1 & 0 & 0 \\\\ 0 & 0 & 1 & 1 \\\\ 0 & 0 & 1 & -1\\end{array}\\right)$\n",
        "\n",
        "And applying to the 2 qubit system:\n",
        "\n",
        "> $H_{2}(|0\\rangle \\otimes|0\\rangle)=H_{2}\\left(\\begin{array}{l}1 \\\\ 0 \\\\ 0 \\\\ 0\\end{array}\\right)=\\frac{1}{\\sqrt{2}}\\left(\\begin{array}{l}1 \\\\ 1 \\\\ 0 \\\\ 0\\end{array}\\right)=\\frac{1}{\\sqrt{2}}(|0\\rangle \\otimes|0\\rangle+|0\\rangle \\otimes|1\\rangle)$"
      ]
    },
    {
      "cell_type": "markdown",
      "metadata": {
        "id": "xhVniI6Bn1HC"
      },
      "source": [
        "*Source: https://physics.stackexchange.com/questions/562897/representing-quantum-gates-in-tensor-product-space*"
      ]
    },
    {
      "cell_type": "markdown",
      "metadata": {
        "id": "tF7IkFy61f4p"
      },
      "source": [
        "<font color=\"blue\">*H-Gate $\\otimes$ H-Gate*"
      ]
    },
    {
      "cell_type": "markdown",
      "metadata": {
        "id": "OgtEVXDt1jY1"
      },
      "source": [
        "If you want the Hadamard gate to act on both the qubits, then the composite operator acting on both the qubits is given by $\\hat{H} \\otimes \\hat{H}$ so that\n",
        "\n",
        ">$\n",
        "(\\hat{H} \\otimes \\hat{H})\\left(\\left|q_{0}\\right\\rangle \\otimes\\left|q_{1}\\right\\rangle=\\hat{H}\\left|q_{0}\\right\\rangle \\otimes \\hat{H}\\left|q_{1}\\right\\rangle\\right.\n",
        "$\n",
        "\n",
        "The operators $\\hat{H} \\otimes \\mathrm{I}$ and $\\hat{H} \\otimes \\hat{H}$ can be expressed in the matrix form by using the rules of tensor product. \n",
        "\n",
        "See [Tensor_product](https://en.wikipedia.org/wiki/Tensor_product)"
      ]
    },
    {
      "cell_type": "markdown",
      "metadata": {
        "id": "9gPNhq3rzjx7"
      },
      "source": [
        "<font color=\"blue\">*X-Gate $\\otimes$ I-Gate*"
      ]
    },
    {
      "cell_type": "markdown",
      "metadata": {
        "id": "-uxt3HL50Rym"
      },
      "source": [
        "X-Gate is: $\\left[\\begin{array}{ll}0 & 1 \\\\ 1 & 0\\end{array}\\right]$ and I-Gate is: $\\left[\\begin{array}{ll}1 & 0 \\\\ 0 & 1\\end{array}\\right]$"
      ]
    },
    {
      "cell_type": "markdown",
      "metadata": {
        "id": "yQmdGjd_zx_x"
      },
      "source": [
        "$X \\otimes I=\\left[\\begin{array}{ll}0 & I \\\\ I & 0\\end{array}\\right]=\\left[\\begin{array}{llll}0 & 0 & 1 & 0 \\\\ 0 & 0 & 0 & 1 \\\\ 1 & 0 & 0 & 0 \\\\ 0 & 1 & 0 & 0\\end{array}\\right]$ bzw.: $\\left(\\begin{array}{ll}0\\left(\\begin{array}{ll}1 & 0 \\\\ 0 & 1\\end{array}\\right) & 1\\left(\\begin{array}{ll}1 & 0 \\\\ 0 & 1\\end{array}\\right) \\\\ 1\\left(\\begin{array}{ll}1 & 0 \\\\ 0 & 1\\end{array}\\right) & 0\\left(\\begin{array}{ll}1 & 0 \\\\ 0 & 1\\end{array}\\right)\\end{array}\\right)$"
      ]
    },
    {
      "cell_type": "markdown",
      "metadata": {
        "id": "vq8Dxy6mxSJH"
      },
      "source": [
        "<font color=\"blue\">*H-Gate $\\otimes$ X-Gate*"
      ]
    },
    {
      "cell_type": "markdown",
      "metadata": {
        "id": "FFFLEfTN1RZh"
      },
      "source": [
        "*Be careful: Sometimes the order of tensor multiplication of gates is reverse*"
      ]
    },
    {
      "cell_type": "code",
      "metadata": {
        "colab": {
          "base_uri": "https://localhost:8080/"
        },
        "id": "bbpbgc5Oxw4M",
        "outputId": "30e5155b-ac57-40fa-80d3-5a0278d52b08"
      },
      "source": [
        "# Named Qubit\n",
        "a = cirq.NamedQubit(\"q_0\")\n",
        "b = cirq.NamedQubit(\"q_1\")\n",
        "\n",
        "#Line-Qubit\n",
        "qubits = cirq.LineQubit.range(2)\n",
        "\n",
        "# Define operations\n",
        "ops=[cirq.H(a),\n",
        "     cirq.X(b),]\n",
        "\n",
        "# Build circuit\n",
        "circuit=cirq.Circuit(ops)\n",
        "print(circuit)"
      ],
      "execution_count": null,
      "outputs": [
        {
          "output_type": "stream",
          "name": "stdout",
          "text": [
            "q_0: ───H───\n",
            "\n",
            "q_1: ───X───\n"
          ]
        }
      ]
    },
    {
      "cell_type": "markdown",
      "metadata": {
        "id": "Uzqui9fbyriW"
      },
      "source": [
        "We can represent the simultaneous operations (H \\& $X$ ) using their tensor product (notice reverse order!):\n",
        "\n",
        ">$\n",
        "X\\left|q_{1}\\right\\rangle \\otimes H\\left|q_{0}\\right\\rangle=(X \\otimes H)\\left|q_{1} q_{0}\\right\\rangle\n",
        "$"
      ]
    },
    {
      "cell_type": "markdown",
      "metadata": {
        "id": "NVkEpZiGyWBM"
      },
      "source": [
        "The operation looks like this:\n",
        "\n",
        "\n",
        ">$X \\otimes H=\\left[\\begin{array}{ll}0 & 1 \\\\ 1 & 0\\end{array}\\right] \\otimes \\frac{1}{\\sqrt{2}}\\left[\\begin{array}{cc}1 & 1 \\\\ 1 & -1\\end{array}\\right]=\\frac{1}{\\sqrt{2}}\\left[\\begin{array}{cc}0 \\times\\left[\\begin{array}{cc}1 & 1 \\\\ 1 & -1\\end{array}\\right] & 1 \\times\\left[\\begin{array}{cc}1 & 1 \\\\ 1 & -1\\end{array}\\right] \\\\ 1 \\times\\left[\\begin{array}{cc}1 & 1 \\\\ 1 & -1\\end{array}\\right] & 0 \\times\\left[\\begin{array}{cc}1 & 1 \\\\ 1 & -1\\end{array}\\right]\\end{array}\\right]=\\frac{1}{\\sqrt{2}}\\left[\\begin{array}{cccc}0 & 0 & 1 & 1 \\\\ 0 & 0 & 1 & -1 \\\\ 1 & 1 & 0 & 0 \\\\ 1 & -1 & 0 & 0\\end{array}\\right]$"
      ]
    },
    {
      "cell_type": "markdown",
      "metadata": {
        "id": "gXdHJAEzyu__"
      },
      "source": [
        "Which we can then apply to our $4 D$ statevector $\\left|q_{1} q_{0}\\right\\rangle .$ This can become quite messy, you will often see the clearer notation:\n",
        "\n",
        ">$\n",
        "X \\otimes H=\\left[\\begin{array}{cc}\n",
        "0 & H \\\\\n",
        "H & 0\n",
        "\\end{array}\\right]\n",
        "$\n",
        "\n",
        "Source: https://qiskit.org/textbook/ch-gates/multiple-qubits-entangled-states.html"
      ]
    },
    {
      "cell_type": "markdown",
      "metadata": {
        "id": "0z7cDFlh_eL1"
      },
      "source": [
        "###### <font color=\"blue\">**Matrix-Matrix-Multiplication (Kronecker / Tensor)**\n",
        "\n"
      ]
    },
    {
      "cell_type": "markdown",
      "metadata": {
        "id": "sj6RZBmJqf-d"
      },
      "source": [
        "> Zur Kombination von Operators in einem Timestep (zB H bei qubit 1 und I bei Qubit 2). Two systems being described as a joint system."
      ]
    },
    {
      "cell_type": "markdown",
      "metadata": {
        "id": "L_RwI9Lm-g4S"
      },
      "source": [
        "> $\\left[\\begin{array}{ll}a & b \\\\ c & d\\end{array}\\right] \\otimes\\left[\\begin{array}{ll}e & f \\\\ g & h\\end{array}\\right]=\\left[\\begin{array}{lll}a\\left[\\begin{array}{ll}e & f \\\\ g & h\\end{array}\\right] & b\\left[\\begin{array}{ll}e & f \\\\ g & h\\end{array}\\right] \\\\ c\\left[\\begin{array}{ll}e & f \\\\ g & h\\end{array}\\right] & d\\left[\\begin{array}{llll}e & f \\\\ g & h\\end{array}\\right]\\end{array}\\right]=\\left[\\begin{array}{llll}a e & a f & \\text { be } & b f \\\\ a g & a h & b g & b h \\\\ c e & c f & d e & d f \\\\ c g & c h & d g & d h\\end{array}\\right]$"
      ]
    },
    {
      "cell_type": "markdown",
      "metadata": {
        "id": "mlxtf2NFWwJa"
      },
      "source": [
        "* Matrix: Kronecker (Tensor) Product (=Matrices of <u>any size</u>) - Matrix changes size!"
      ]
    },
    {
      "cell_type": "markdown",
      "metadata": {
        "id": "nSyPR_1thXNt"
      },
      "source": [
        "> $\\left(\\begin{array}{ll}1 & 2 \\\\ 3 & 4 \\\\ 5 & 6\\end{array}\\right) \\otimes\\left(\\begin{array}{ll}7 & 8 \\\\ 9 & 0\\end{array}\\right)=\\left(\\begin{array}{ll}1 \\cdot\\left(\\begin{array}{ll}7 & 8 \\\\ 9 & 0\\end{array}\\right) & 2 \\cdot\\left(\\begin{array}{ll}7 & 8 \\\\ 9 & 0\\end{array}\\right) \\\\ 3 \\cdot\\left(\\begin{array}{ll}7 & 8 \\\\ 9 & 0\\end{array}\\right) & 4 \\cdot\\left(\\begin{array}{ll}7 & 8 \\\\ 9 & 0\\end{array}\\right) \\\\ 5 \\cdot\\left(\\begin{array}{ll}7 & 8 \\\\ 9 & 0\\end{array}\\right) & 6 \\cdot\\left(\\begin{array}{ll}7 & 8 \\\\ 9 & 0\\end{array}\\right)\\end{array}\\right)=\\left(\\begin{array}{cccc}7 & 8 & 14 & 16 \\\\ 9 & 0 & 18 & 0 \\\\ 21 & 24 & 28 & 32 \\\\ 27 & 0 & 36 & 0 \\\\ 35 & 40 & 42 & 48 \\\\ 45 & 0 & 54 & 0\\end{array}\\right)$"
      ]
    },
    {
      "cell_type": "markdown",
      "metadata": {
        "id": "KkbIl-kUcMj-"
      },
      "source": [
        "(Tracy-Singh product as a generalized Kronecker product )"
      ]
    },
    {
      "cell_type": "markdown",
      "metadata": {
        "id": "BqoL4BTSOXjx"
      },
      "source": [
        "**Example 1: Hadamard + Identity in parallel (and not serial)**\n",
        "\n",
        "[Source](https://quantumcomputing.stackexchange.com/questions/11426/trying-to-use-matrices-for-hadamard-and-controlled-not-gates)"
      ]
    },
    {
      "cell_type": "markdown",
      "metadata": {
        "id": "afLfH8DF9GNI"
      },
      "source": [
        "$H \\otimes I=\\frac{1}{\\sqrt{2}}\\left(\\begin{array}{cc}1 & 1 \\\\ 1 & -1\\end{array}\\right) \\otimes\\left(\\begin{array}{ll}1 & 0 \\\\ 0 & 1\\end{array}\\right)=\\frac{1}{\\sqrt{2}}\\left(\\begin{array}{ll}1\\left(\\begin{array}{ll}1 & 0 \\\\ 0 & 1\\end{array}\\right) & 1\\left(\\begin{array}{ll}1 & 0 \\\\ 0 & 1\\end{array}\\right) \\\\ 1\\left(\\begin{array}{ll}1 & 0 \\\\ 0 & 1\\end{array}\\right) & -1\\left(\\begin{array}{ll}1 & 0 \\\\ 0 & 1\\end{array}\\right)\\end{array}\\right)=\\frac{1}{\\sqrt{2}}\\left(\\begin{array}{rrrr}1 & 0 & 1 & 0 \\\\ 0 & 1 & 0 & 1 \\\\ 1 & 0 & -1 & 0 \\\\ 0 & 1 & 0 & -1\\end{array}\\right)$"
      ]
    },
    {
      "cell_type": "markdown",
      "metadata": {
        "id": "9AOjQxARy4Km"
      },
      "source": [
        "$I \\otimes H=\\left(\\begin{array}{ll}1 & 0 \\\\ 0 & 1\\end{array}\\right) \\otimes \\frac{1}{\\sqrt{2}}\\left(\\begin{array}{cc}1 & 1 \\\\ 1 & -1\\end{array}\\right) = \\frac{1}{\\sqrt{2}}\\left(\\begin{array}{cc}1\\left(\\begin{array}{cc}1 & 1 \\\\ 1 & -1\\end{array}\\right) & 0\\left(\\begin{array}{cc}1 & 1 \\\\ 1 & -1\\end{array}\\right) \\\\ 0\\left(\\begin{array}{cc}1 & 1 \\\\ 1 & -1\\end{array}\\right) & 1\\left(\\begin{array}{cc}1 & 1 \\\\ 1 & -1\\end{array}\\right)\\end{array}\\right)=\\frac{1}{\\sqrt{2}}\\left(\\begin{array}{cccc}1 & 1 & 0 & 0 \\\\ 1 & -1 & 0 & 0 \\\\ 0 & 0 & 1 & 1 \\\\ 0 & 0 & 1 & -1\\end{array}\\right)$\n"
      ]
    },
    {
      "cell_type": "markdown",
      "metadata": {
        "id": "LehhHfP1uutz"
      },
      "source": [
        "If the 2x2 matrix M is an operator on one qubit, this clearly can't operate on a 4D Hilbert space. But the operator M ⊗ I (where I is the 2x2 identity) represents a measurement of M on qubit #1; it's a 4x4 operator. The operator I ⊗ M is what you would use to measure M on qubit #2"
      ]
    },
    {
      "cell_type": "markdown",
      "metadata": {
        "id": "e4M3k3gud2C1"
      },
      "source": [
        "**Example 2: Pauli-Y + Pauli-X in parallel (and not serial)**\n",
        "\n",
        "\n",
        "*Two gates $Y$ and $X$ in parallel is equivalent to the gate $Y\\otimes X$*\n",
        "\n",
        "![ggg](https://upload.wikimedia.org/wikipedia/commons/d/d5/Parallel_quantum_logic_gates.png)\n",
        "\n",
        "If we, as in the picture, combine the Pauli-Y gate with the Pauli-X gate in parallel, then this can be written as:\n",
        "\n",
        "> $C=Y \\otimes X=\\left[\\begin{array}{cc}0 & -i \\\\ i & 0\\end{array}\\right] \\otimes\\left[\\begin{array}{ll}0 & 1 \\\\ 1 & 0\\end{array}\\right]=\\left[\\begin{array}{ll}0\\left[\\begin{array}{ll}0 & 1 \\\\ 1 & 0\\end{array}\\right] & -i\\left[\\begin{array}{ll}0 & 1 \\\\ 1 & 0\\end{array}\\right] \\\\ i\\left[\\begin{array}{ll}0 & 1 \\\\ 1 & 0\\end{array}\\right] & 0\\left[\\begin{array}{ll}0 & 1 \\\\ 1 & 0\\end{array}\\right]\\end{array}\\right]=\\left[\\begin{array}{cccc}0 & 0 & 0 & -i \\\\ 0 & 0 & -i & 0 \\\\ 0 & i & 0 & 0 \\\\ i & 0 & 0 & 0\\end{array}\\right]$\n",
        "\n",
        "Both the Pauli-X and the Pauli-Y gate act on a single qubit. The resulting gate $C$ act on two qubits."
      ]
    },
    {
      "cell_type": "code",
      "metadata": {
        "colab": {
          "base_uri": "https://localhost:8080/",
          "height": 98
        },
        "id": "cOLHo8XY7l_B",
        "outputId": "df027827-10cb-4afb-a4f6-ae97e4ffadc0"
      },
      "source": [
        "from sympy import Matrix\n",
        "from sympy.physics.quantum import TensorProduct\n",
        "\n",
        "m1 = Matrix([[1,2],[3,4]])\n",
        "m2 = Matrix([[1,0],[0,1]])\n",
        "\n",
        "TensorProduct(m1, m2)"
      ],
      "execution_count": null,
      "outputs": [
        {
          "output_type": "execute_result",
          "data": {
            "text/latex": "$\\displaystyle \\left[\\begin{matrix}1 & 0 & 2 & 0\\\\0 & 1 & 0 & 2\\\\3 & 0 & 4 & 0\\\\0 & 3 & 0 & 4\\end{matrix}\\right]$",
            "text/plain": [
              "Matrix([\n",
              "[1, 0, 2, 0],\n",
              "[0, 1, 0, 2],\n",
              "[3, 0, 4, 0],\n",
              "[0, 3, 0, 4]])"
            ]
          },
          "metadata": {},
          "execution_count": 1
        }
      ]
    },
    {
      "cell_type": "code",
      "metadata": {
        "colab": {
          "base_uri": "https://localhost:8080/",
          "height": 99
        },
        "id": "VkoI0EOX7xlv",
        "outputId": "d09e02b6-eb92-419b-9a4f-a58468a4158e"
      },
      "source": [
        "TensorProduct(m2, m1)"
      ],
      "execution_count": null,
      "outputs": [
        {
          "output_type": "execute_result",
          "data": {
            "text/latex": "$\\displaystyle \\left[\\begin{matrix}1 & 2 & 0 & 0\\\\3 & 4 & 0 & 0\\\\0 & 0 & 1 & 2\\\\0 & 0 & 3 & 4\\end{matrix}\\right]$",
            "text/plain": [
              "Matrix([\n",
              "[1, 2, 0, 0],\n",
              "[3, 4, 0, 0],\n",
              "[0, 0, 1, 2],\n",
              "[0, 0, 3, 4]])"
            ]
          },
          "metadata": {},
          "execution_count": 2
        }
      ]
    },
    {
      "cell_type": "markdown",
      "metadata": {
        "id": "N51jPNcMXRQ7"
      },
      "source": [
        "Is that correct??? Matrix-Matrix-Vector-Multiplication\n",
        "\n",
        "> <font color=\"gray\">$\\left[\\left[\\begin{array}{l}v^{1} \\alpha_{1} \\\\ v^{2} \\alpha_{1}\\end{array}\\right]\\left[\\begin{array}{l}v^{1} \\alpha_{2} \\\\ v^{2} \\alpha_{2}\\end{array}\\right]\\right] \\otimes\\left[\\begin{array}{l}\\omega_{1} \\\\ \\omega_{2}\\end{array}\\right]$ = $\\left[\\begin{array}{ll}{\\left[\\left[\\begin{array}{ll}v^{1} \\alpha_{1} \\\\ v^{2}  \\alpha_{1}\\end{array}\\right]\\right.} & \\left.\\left[\\begin{array}{l}v^{1} \\alpha_{2} \\\\ v^{2} \\alpha_{2}\\end{array}\\right]\\right] \\omega_{1} \\\\ {\\left[\\left[\\begin{array}{l}v^{1} \\alpha_{1} \\\\ v^{2} \\alpha_{1}\\end{array}\\right]\\right.} & \\left.\\left[\\begin{array}{l}v^{1} \\alpha_{2} \\\\ v^{2} \\alpha_{2}\\end{array}\\right]\\right] \\omega_{2}\\end{array}\\right]$ = $\\left[\\begin{array}{ll}{\\left[\\left[\\begin{array}{l}v^{1} \\alpha_{1} \\omega_{1} \\\\ v^{2} \\alpha_{1} \\omega_{1}\\end{array}\\right]\\right.} & \\left.\\left[\\begin{array}{l}v^{1} \\alpha_{2} \\omega_{1} \\\\ v^{2} \\alpha_{2} \\omega_{1}\\end{array}\\right]\\right] \\\\ {\\left[\\left[\\begin{array}{ll}v^{1} \\alpha_{1} \\omega_{2} \\\\ v^{2} \\alpha_{1} \\omega_{2}\\end{array}\\right]\\right.} & \\left.\\left[\\begin{array}{l}v^{1} \\alpha_{2} \\omega_{2} \\\\ v^{2} \\alpha_{2} \\omega_{2}\\end{array}\\right]\\right]\\end{array}\\right]$"
      ]
    },
    {
      "cell_type": "markdown",
      "metadata": {
        "id": "7kZQ4Kxp72qR"
      },
      "source": [
        "https://docs.sympy.org/latest/modules/physics/quantum/tensorproduct.html"
      ]
    },
    {
      "cell_type": "markdown",
      "metadata": {
        "id": "ZnohitquaGyf"
      },
      "source": [
        "###### **<font color=\"blue\">Matrix-Matrix-Multiplication (Usual)**"
      ]
    },
    {
      "cell_type": "markdown",
      "metadata": {
        "id": "lNnaZPsulaxW"
      },
      "source": [
        "> Used in serially wired gates (so NOT gates in one time step - here we use tensor product to combine them, but serial gates!)"
      ]
    },
    {
      "cell_type": "markdown",
      "metadata": {
        "id": "2D10tXfttflr"
      },
      "source": [
        "A line in the circuit is considered as a quantum wire and basically represents a single qubit, thus an input at the input of the first $X$ gate is transformed to $X \\mid \\psi>$ and the second $X$ gate acts on it to form $X X \\mid \\psi>$. Replacing each $X$ by its matrix representation results in an identity matrix I:\n",
        "\n",
        ">$\n",
        "X \\cdot X=\\left(\\begin{array}{ll}\n",
        "0 & 1 \\\\\n",
        "1 & 0\n",
        "\\end{array}\\right)\\left(\\begin{array}{ll}\n",
        "0 & 1 \\\\\n",
        "1 & 0\n",
        "\\end{array}\\right)=\\left(\\begin{array}{ll}\n",
        "1 & 0 \\\\\n",
        "0 & 1\n",
        "\\end{array}\\right)=I\n",
        "$\n",
        "\n",
        "Thus two NOT gates in series is basically equivalent to a quantum wire, that is, nothing happens and the output is the same as the original input.\n",
        "\n",
        "The matrix representation of the state of a superposed qubit $a|0>+\\beta|$ $1>$ is given by\n",
        "\n",
        "$\n",
        "\\left(\\begin{array}{l}\n",
        "\\alpha \\\\\n",
        "\\beta\n",
        "\\end{array}\\right)\n",
        "$"
      ]
    },
    {
      "cell_type": "markdown",
      "metadata": {
        "id": "HMqah95Tkc4a"
      },
      "source": [
        "> $\\begin{aligned} A B &=\\left[\\begin{array}{rrr}0 & 4 & -2 \\\\ -4 & -3 & 0\\end{array}\\right]\\left[\\begin{array}{rr}0 & 1 \\\\ 1 & -1 \\\\ 2 & 3\\end{array}\\right] \\\\ &=\\left[\\begin{array}{rr}0 \\cdot 0+4 \\cdot 1-2 \\cdot 2 & 0 \\cdot 1+4 \\cdot(-1)-2 \\cdot 3 \\\\ -4 \\cdot 0-3 \\cdot 1+0 \\cdot 2 & -4 \\cdot 1-3 \\cdot(-1)+0 \\cdot 3\\end{array}\\right] \\\\ &=\\left[\\begin{array}{rr}0+4-4 & 0-4-6 \\\\ 0-3+0 & -4+3+0\\end{array}\\right] \\\\ &=\\left[\\begin{array}{rr}0 & -10 \\\\ -3 & -1\\end{array}\\right] \\end{aligned}$\n",
        "\n",
        "[Source](https://mathinsight.org/matrix_vector_multiplication)"
      ]
    },
    {
      "cell_type": "markdown",
      "metadata": {
        "id": "hNeEzKCKtGZg"
      },
      "source": [
        "**<font color=\"blue\">Serially wired gates</font>**"
      ]
    },
    {
      "cell_type": "markdown",
      "metadata": {
        "id": "EEJEIpeGtbj6"
      },
      "source": [
        "*Two gates Y and X in series. **The order in which they appear on the wire is reversed when multiplying them together**.*\n",
        "\n",
        "![ggg](https://upload.wikimedia.org/wikipedia/commons/thumb/0/0a/Serially_wired_quantum_logic_gates.png/500px-Serially_wired_quantum_logic_gates.png)"
      ]
    },
    {
      "cell_type": "markdown",
      "metadata": {
        "id": "yXBEgw8StjbJ"
      },
      "source": [
        "Assume that we have two gates A and B, that both act on \n",
        "n qubits. \n",
        "\n",
        "> **When B is put after A in a series circuit, then the effect of the two gates can be described as a single gate C.**\n",
        "\n",
        "> $C=B\\cdot A$\n",
        "\n",
        "**Where $\\cdot$ is matrix multiplication**. The resulting gate C will have the same dimensions as A and B. The order in which the gates would appear in a circuit diagram is reversed when multiplying them together."
      ]
    },
    {
      "cell_type": "markdown",
      "metadata": {
        "id": "N9Ryrjrct8Uy"
      },
      "source": [
        "For example, putting the Pauli X gate after the Pauli Y gate, both of which act on a single qubit, can be described as a single combined gate C:\n",
        "\n",
        ">$\n",
        "C=X \\cdot Y=\\left[\\begin{array}{ll}\n",
        "0 & 1 \\\\\n",
        "1 & 0\n",
        "\\end{array}\\right] \\cdot\\left[\\begin{array}{cc}\n",
        "0 & -i \\\\\n",
        "i & 0\n",
        "\\end{array}\\right]=\\left[\\begin{array}{cc}\n",
        "i & 0 \\\\\n",
        "0 & -i\n",
        "\\end{array}\\right]\n",
        "$\n",
        "\n",
        "The product symbol $(\\cdot)$ is often omitted."
      ]
    },
    {
      "cell_type": "markdown",
      "metadata": {
        "id": "86sI8rtQgeCt"
      },
      "source": [
        "\n",
        "\n",
        "---\n",
        "\n",
        "\n",
        "![ggg](https://raw.githubusercontent.com/deltorobarba/repo/master/quantum_150.PNG)\n",
        "\n",
        "[Source](http://www.mathematrix.de/matrixmultiplikation/)"
      ]
    },
    {
      "cell_type": "markdown",
      "metadata": {
        "id": "nOe51GrIaNu7"
      },
      "source": [
        "\n",
        "\n",
        "![ggg](https://upload.wikimedia.org/wikipedia/commons/e/eb/Matrix_multiplication_diagram_2.svg)"
      ]
    },
    {
      "cell_type": "markdown",
      "metadata": {
        "id": "HOWPXSg5aSzX"
      },
      "source": [
        "The figure illustrates diagrammatically the product of two matrices A and B, showing how each intersection in the product matrix corresponds to a row of A and a column of B.\n"
      ]
    },
    {
      "cell_type": "markdown",
      "metadata": {
        "id": "YKdkN7z0arS4"
      },
      "source": [
        "4x2 matrix * 2x3 matrix = 4x3 matrix\n",
        "\n",
        "$\\left[\\begin{array}{cc}a_{11} & a_{12} \\\\ \\cdot & \\cdot \\\\ a_{31} & a_{32} \\\\ \\cdot & \\cdot\\end{array}\\right]\\left[\\begin{array}{ccc} \\cdot & b_{12} & b_{13} \\\\ \\cdot & b_{22} & b_{23}\\end{array}\\right]=\\left[\\begin{array}{ccc}\\cdot & c_{12} & c_{13} \\\\ \\cdot & \\cdot & \\cdot \\\\ \\cdot & c_{32} & c_{33} \\\\ \\cdot & \\cdot & \\cdot\\end{array}\\right]$\n",
        "\n",
        "$c_{12}=a_{11} b_{12}+a_{12} b_{22}$\n",
        "\n",
        "$c_{33}=a_{31} b_{13}+a_{32} b_{23}$"
      ]
    },
    {
      "cell_type": "markdown",
      "metadata": {
        "id": "g_JlrtBuaLjt"
      },
      "source": [
        "https://en.wikipedia.org/wiki/Matrix_multiplication#See_also"
      ]
    },
    {
      "cell_type": "markdown",
      "metadata": {
        "id": "BlgzCv4_YyQm"
      },
      "source": [
        "###### **<font color=\"blue\">Matrix-Matrix-Multiplication (Hadamard)**"
      ]
    },
    {
      "cell_type": "markdown",
      "metadata": {
        "id": "Ev5HlzmYWoPF"
      },
      "source": [
        "**Matrix: Hadamard Product (=Vector or Matrix of <u>same size</u>, elementwise)** - Matrix stays the same size!\n",
        "\n",
        "> $\\left[\\begin{array}{c}u_{1} & u_{4} \\\\ u_{2} & u_{5} \\\\ u_{3} & u_{6}\\end{array}\\right]$ $\\otimes$ $\\left[\\begin{array}{ll}v_{1} & v_{4} \\\\ v_{2} & v_{5} \\\\ v_{3} & v_{6}\\end{array}\\right]$ = $\\left[\\begin{array}{ll}u_{1} v_{1}& u_{4} v_{4}\\\\ u_{2} v_{2}& u_{5}v_{5} \\\\ u_{3} v_{3}& u_{6}v_{6}\\end{array}\\right]$"
      ]
    },
    {
      "cell_type": "markdown",
      "metadata": {
        "id": "iauIr9SdhkcZ"
      },
      "source": [
        "**Hadamard product** of two matrices of the **same size**, resulting in a matrix of the same size, which is the product entry-by-entry\n"
      ]
    },
    {
      "cell_type": "markdown",
      "metadata": {
        "id": "Xaz7KuH0cBNm"
      },
      "source": [
        "(In partitioned matrices, the Khatri-Rao product can be seen as a generalized Hadamard product)"
      ]
    },
    {
      "cell_type": "markdown",
      "metadata": {
        "id": "6PX6HhsAZNN7"
      },
      "source": [
        "> Computing the <font color=\"blue\">quantum Hadamard transform is simply the **application of a Hadamard gate to each qubit individually because of the tensor product structure of the Hadamard transform**</font>. This simple result means the quantum Hadamard transform requires log  n operations, compared to the classical case of n log n operations."
      ]
    },
    {
      "cell_type": "markdown",
      "metadata": {
        "id": "xIf4erg7ZsmR"
      },
      "source": [
        "*The Hadamard product operates on identically shaped matrices and produces a third matrix of the same dimensions:*\n",
        "\n",
        "![ggg](https://upload.wikimedia.org/wikipedia/commons/0/00/Hadamard_product_qtl1.svg)"
      ]
    },
    {
      "cell_type": "markdown",
      "metadata": {
        "id": "JL3xBvEAYwnT"
      },
      "source": [
        "**Hadamard Product (Element-wise Multiplication)**\n",
        "\n",
        "* Hadamard product of two vectors is very similar to matrix addition, elements corresponding to same row and columns of given vectors/matrices are multiplied together to form a new vector/matrix.\n",
        "\n",
        "* The order of matrices/vectors to be multiplied should be same and the resulting matrix will also be of same order.\n",
        "\n",
        "* Example: (Matrix N is of same order as input matrices (2x3)\n",
        "):\n",
        "\n",
        "> $\\left[\\begin{array}{lll}3 & 5 & 7 \\\\ 4 & 9 & 8\\end{array}\\right] \\cdot\\left[\\begin{array}{lll}1 & 6 & 3 \\\\ 0 & 2 & 9\\end{array}\\right]=\\left[\\begin{array}{lll}3 \\times 1 & 5 \\times 6 & 7 \\times 3 \\\\ 4 \\times 0 & 9 \\times 2 & 8 \\times 9\\end{array}\\right] =\\left[\\begin{array}{lll}3 & 30 & 21 \\\\ 0 & 18 & 72\\end{array}\\right]$\n",
        "\n",
        "* Hadamard product is used in image compression techniques such as JPEG. It is also known as Schur product after German Mathematician, Issai Schur. Hadamard Product is used in LSTM (Long Short-Term Memory) cells of Recurrent Neural Networks (RNNs)."
      ]
    },
    {
      "cell_type": "markdown",
      "metadata": {
        "id": "Se8dN6XRjykD"
      },
      "source": [
        "**Hadamard Matrix**"
      ]
    },
    {
      "cell_type": "markdown",
      "metadata": {
        "id": "6tMZqzBLj4Gs"
      },
      "source": [
        "* a [Hadamard matrix](https://en.m.wikipedia.org/wiki/Hadamard_matrix) is a square matrix whose entries are either +1 or −1 and **whose rows are mutually orthogonal**. \n",
        "\n",
        "* In geometric terms, this means that **each pair of rows in a Hadamard matrix represents two perpendicular vectors**, while in combinatorial terms, it means that each pair of rows has matching entries in exactly half of their columns and mismatched entries in the remaining columns. \n",
        "\n",
        "* It is a consequence of this definition that the corresponding properties hold for columns as well as rows. The n-dimensional parallelotope spanned by the rows of an n×n Hadamard matrix has the maximum possible n-dimensional volume among parallelotopes spanned by vectors whose entries are bounded in absolute value by 1. \n",
        "\n",
        "* Equivalently, a Hadamard matrix has maximal determinant among matrices with entries of absolute value less than or equal to 1 and so is an extremal solution of [Hadamard's maximal determinant problem](https://en.m.wikipedia.org/wiki/Hadamard%27s_maximal_determinant_problem).\n",
        "\n",
        "* Certain Hadamard matrices can almost directly be used as an error-correcting code using a Hadamard code (generalized in Reed–Muller codes), and are also used in balanced repeated replication (BRR), used by statisticians to estimate the variance of a parameter estimator.\n"
      ]
    },
    {
      "cell_type": "markdown",
      "metadata": {
        "id": "ygiw4JYCkmzK"
      },
      "source": [
        "Let $H$ be a Hadamard matrix of order n. Then the partitioned matrix:\n",
        "\n",
        "> $\\left[\\begin{array}{cc}H & H \\\\ H & -H\\end{array}\\right]$\n",
        "\n",
        "is a Hadamard matrix of order 2n. This observation can be applied repeatedly and leads to the following sequence of matrices, also called [Walsh matrices](https://en.m.wikipedia.org/wiki/Walsh_matrix):\n",
        "\n",
        "> $H_{1}=[1]$\n",
        "\n",
        "> $H_{2}=\\left[\\begin{array}{cc}1 & 1 \\\\ 1 & -1\\end{array}\\right]$\n",
        "\n",
        "> $H_{4}=\\left[\\begin{array}{cccc}1 & 1 & 1 & 1 \\\\ 1 & -1 & 1 & -1 \\\\ 1 & 1 & -1 & -1 \\\\ 1 & -1 & -1 & 1\\end{array}\\right]$\n",
        "\n",
        "and\n",
        "\n",
        "> $\n",
        "H_{2^{k}}=\\left[\\begin{array}{cc}\n",
        "H_{2^{k-1}} & H_{2^{k-1}} \\\\\n",
        "H_{2^{k-1}} & -H_{2^{k-1}}\n",
        "\\end{array}\\right]=H_{2} \\otimes H_{2^{k-1}}\n",
        "$\n",
        "\n",
        "for $2 \\leq k \\in N$, where $\\otimes$ denotes the Kronecker product."
      ]
    },
    {
      "cell_type": "markdown",
      "metadata": {
        "id": "6c--DR86lFZn"
      },
      "source": [
        "*The Walsh matrices are a special case of Hadamard matrices. **Here is an example of a [Walsh matrix](https://en.m.wikipedia.org/wiki/Walsh_matrix) of order 16 multiplied with a vector**. (a Walsh matrix is a specific square matrix of dimensions $2^n$, where n are some particular natural number. The entries of the matrix are either +1 or −1 and its rows as well as columns are orthogonal, i.e. dot product is zero)*\n",
        "\n",
        "![gg](https://upload.wikimedia.org/wikipedia/commons/thumb/3/34/Walsh_16_%2A_Gould%27s-Morse.svg/640px-Walsh_16_%2A_Gould%27s-Morse.svg.png)"
      ]
    },
    {
      "cell_type": "markdown",
      "metadata": {
        "id": "kwLuliUfcdXH"
      },
      "source": [
        "**Hadamard Transform**"
      ]
    },
    {
      "cell_type": "markdown",
      "metadata": {
        "id": "gJ51vgmEckHI"
      },
      "source": [
        "* **The Hadamard transform is used extensively in quantum computing**. The 2 × 2 Hadamard transforms $H_{1}$ is the quantum logic gate known as the Hadamard gate, and **the application of a Hadamard gate to each qubit of an n-qubit register in parallel is equivalent to the Hadamard transform $H_{n}$**.\n",
        "\n",
        "* The Hadamard transform: also known as the Walsh–Hadamard transform, Hadamard–Rademacher–Walsh transform, Walsh transform, or Walsh–Fourier transform\n",
        "\n",
        "* **Hadamard transform is an example of a generalized class of [Fourier transforms](https://en.m.wikipedia.org/wiki/Fourier_transform)**. \n",
        "\n",
        "* It performs an orthogonal, symmetric, involutive, linear operation on $2^m$ real numbers (or complex, or hypercomplex numbers, although the Hadamard matrices themselves are purely real).\n",
        "\n",
        "* The Hadamard transform can be regarded as being built out of size-2 [discrete Fourier transforms (DFTs)](https://en.m.wikipedia.org/wiki/Discrete_Fourier_transform), and is in fact equivalent to a multidimensional DFT of size 2 × 2 × ⋯ × 2 × 2. It decomposes an arbitrary input vector into a superposition of [Walsh functions](https://en.m.wikipedia.org/wiki/Walsh_function)."
      ]
    },
    {
      "cell_type": "markdown",
      "metadata": {
        "id": "ihVXTXbIwRf7"
      },
      "source": [
        "###### **<font color=\"orange\">Explanation: Tensor Products $\\otimes$ in Quantum Mechanics**"
      ]
    },
    {
      "cell_type": "markdown",
      "metadata": {
        "id": "qsdQFfKrdqH2"
      },
      "source": [
        "**Two systems being described as a joint system:**\n",
        "\n",
        "1. the structure of the two systems is pre- served: \n",
        "\n",
        "2. a measurement on one of the systems does not disturb the other one; \n",
        "\n",
        "3. maximal information obtained on both systems separately gives maximal information on the joint system. \n",
        "\n",
        "With these conditions we show, within the framework of the propositional system formalism, that\n",
        "\n",
        "* if the systems are classical the joint system is described by the cartesian product of the corresponding phase spaces, and \n",
        "\n",
        "* if the systems are quantal the joint system is described by the tensor product of the corresponding Hilbert spaces.\n",
        "\n",
        "[Source: Paper Aerts](https://raw.githubusercontent.com/deltorobarba/papers/master/aerts.pdf)"
      ]
    },
    {
      "cell_type": "markdown",
      "metadata": {
        "id": "mS0U7KnLkYKg"
      },
      "source": [
        "**One should deal with at least two operator products:**\n",
        "\n",
        "* one is given by the composition of two operators defined on the same vector space = product yields an operator de!ned on the common vector space of the factor operators\n",
        "\n",
        "* the other is the direct or tensor product of operators = leads to an operator de!ned on a different vector space: the direct or tensor product of the vector spaces of the factor operators\n",
        "\n",
        "The Kronecker product and some of its physical applications (Francisco M Fernández)"
      ]
    },
    {
      "cell_type": "markdown",
      "metadata": {
        "id": "fQiJjQS5y99y"
      },
      "source": [
        "Consider two distinguishable particles: \n",
        "\n",
        "* Particle 1: its quantum mechanics is described by a complex vector space V. It has associated operators T1, T2, ..\n",
        "\n",
        "* Particle 2: its quantum mechanics is described by a complex vector space W. It has associated operators S1, S2, ..\n",
        "\n",
        "*This list of operators for each particle may include some or many of the operators you are already familiar with: position, momentum, spin, Hamiltonians, projectors, etc.*\n",
        "\n",
        "**Once we have two particles, the two of them together form our system.**\n",
        "\n",
        "* We are after the description of quantum states of this two-particle system. \n",
        "\n",
        "* On first thought, we may think that any state of this system should be described by giving the state v ∈ V of the first particle and the state w ∈ W of the second particle. \n",
        "\n",
        "* This information could be represented by the ordered list (v, w) where the first item is the state of the first particle and the second item the state of the second particle. This is a state of the two-particle system, but it is far from being the general state of the two-particle system. It misses remarkable new possibilities, as we shall soon see.\n",
        "\n",
        "We thus introduce a new notation. Instead of representing the state of the two-particle system with particle one in $v$ and particle two in $w$ as $(v, w)$, **we will represent it as $v \\otimes w$**. \n",
        "\n",
        "* <font color=\"blue\">This element $v \\otimes w$ will be viewed as a vector in a new vector space $V \\otimes W$ that will carry the description of the quantum states of the system of two particles.</font> \n",
        "\n",
        "* <font color=\"blue\">This $\\otimes$ operation is called the \"tensor product.\" In this case we have two vector spaces over $\\mathbb{C}$ **and the tensor product $V \\otimes W$ is a new complex vector space**:</font>\n",
        "\n",
        "> $v \\otimes w \\in V \\otimes W \\quad$ when $\\quad v \\in V, w \\in W$\n",
        "\n",
        "$\\operatorname{In} v \\otimes w$ there is no multiplication to be carried out, we are just placing one vector to the left of $\\otimes$ and another to the right of $\\otimes$.\n",
        "\n",
        "We have only described some elements of $V \\otimes W$, not quite given its definition yet. We now explain two physically motivated rules that define the tensor product completely.\n"
      ]
    },
    {
      "cell_type": "markdown",
      "metadata": {
        "id": "XJO6IWfuwbLQ"
      },
      "source": [
        "<font color=\"blue\">**<u>Rule 1</u>: If the vector representing the state of the first particle is scaled by a complex number this is equivalent to scaling the state of the two particles. The same for the second particle. So we declare:**</font>\n",
        "\n",
        "> <font color=\"blue\">$(a v) \\otimes w=v \\otimes(a w)=a(v \\otimes w), \\quad a \\in \\mathbb{C}$\n"
      ]
    },
    {
      "cell_type": "markdown",
      "metadata": {
        "id": "Msu1-tK4x902"
      },
      "source": [
        "* like in tensor algebra the linear map bzw. bilinear map, where a factor is attached only to one of two, not both"
      ]
    },
    {
      "cell_type": "markdown",
      "metadata": {
        "id": "6vyyAbWGwtpd"
      },
      "source": [
        "<font color=\"blue\">**<u>Rule 2</u>: If the state of the first particle is a superposition of two states, the state of the two-particle system is also a superposition. We thus demand distributive properties for the tensor product:**</font>\n",
        "\n",
        "> <font color=\"blue\">$\\left(v_{1}+v_{2}\\right) \\otimes w=v_{1} \\otimes w+v_{2} \\otimes w$\n",
        "\n",
        "> <font color=\"blue\">$v \\otimes\\left(w_{1}+w_{2}\\right)=v \\otimes w_{1}+v \\otimes w_{2}$"
      ]
    },
    {
      "cell_type": "markdown",
      "metadata": {
        "id": "alIL1kDvwVev"
      },
      "source": [
        "Example in Quantum Phase Estimation: We first perform a Hadamard gate on the first qubit to get the state and then distribute the superposition (omitted the normalization factor of 1/√2 for clarity):\n",
        "\n",
        "  * Original state of both qubits: $|0\\rangle \\otimes|\\psi\\rangle$\n",
        "  \n",
        "  * Hadamard on first qubit: $|+\\rangle \\otimes|\\psi\\rangle$ =\n",
        "  \n",
        "  * <font color=\"red\">Distribute superposition: $|0\\rangle|\\psi\\rangle+|1\\rangle|\\psi\\rangle$</font>"
      ]
    },
    {
      "cell_type": "markdown",
      "metadata": {
        "id": "V_unRGRox6cN"
      },
      "source": [
        "> The tensor product $V \\otimes W$ is thus defined to be the vector space whose elements are **(complex) linear combinations** of elements of the form $v \\otimes w$, with $v \\in V, w \\in W$, with the above rules for manipulation. The tensor product $V \\otimes W$ is the complex vector space of states of the two-particle system!"
      ]
    },
    {
      "cell_type": "markdown",
      "metadata": {
        "id": "QPYQkyiN035h"
      },
      "source": [
        "**Comment: Let $v_{1}, v_{2} \\in V$ and $w_{1}, w_{2} \\in W$. A vector in $V \\otimes W$ constructed by superposition is**\n",
        "\n",
        "> $\n",
        "\\alpha_{1}\\left(v_{1} \\otimes w_{1}\\right)+\\alpha_{2}\\left(v_{2} \\otimes w_{2}\\right) \\in V \\otimes W\n",
        "$\n",
        "\n",
        "<font color=\"blue\">This shows clearly that a general state of the two-particle system cannot be described by stating the state of the first particle and the state of the second particle</font>. The above superpositions give rise to entangled states. An entangled state of the two particles is one that, roughly, **cannot be disentangled into separate states of each of the particles**."
      ]
    },
    {
      "cell_type": "markdown",
      "metadata": {
        "id": "fA8NadgKG45q"
      },
      "source": [
        "*Explanation 1*"
      ]
    },
    {
      "cell_type": "markdown",
      "metadata": {
        "id": "Y_G6vBUh9Ibl"
      },
      "source": [
        "* **The \"Kronecker product\", better known as the tensor product**, is the natural notion of a product for spaces of states, when these are considered properly:\n",
        "\n",
        "* **A space of states is not a Hilbert space $\\mathcal{H}$, but the projective Hilbert space $\\mathbb{P} \\mathcal{H}$ associated to it**. This is the statement that quantum states are rays in a Hilbert space.\n",
        "\n",
        "* <font color=\"blue\">Now, **why does the physical notion of combining the spaces of states of individual systems into a space of states of the combined system correspond to taking the tensor product?**</font>\n",
        "\n",
        "  * The reason is that <font color=\"blue\">**we want every action of an operator (which are linear maps) on the individual states to define an action on the combined state**</font> \n",
        "  \n",
        "  * and the tensor product is exactly that, since, <font color=\"red\">for every pair of linear maps $T_{i}: \\mathcal{H}_{i} \\rightarrow \\mathcal{H}$ (which is a bilinear map $\\left(T_{1}, T_{2}\\right): \\mathcal{H}_{1} \\times \\mathcal{H}_{2} \\rightarrow \\mathcal{H}$ ) there is a unique linear map $T_{1} \\otimes T_{2}: \\mathcal{H}_{1} \\otimes \\mathcal{H}_{2} \\rightarrow \\mathcal{H}$</font>\n",
        "\n",
        "* Alternatively, <font color=\"blue\">**concentrating more on the projective nature of the spaces of states, we observe that $|\\psi\\rangle$ and $a|\\psi\\rangle$ are the same state for any $a \\in \\mathbb{C}$.**</font> Therefore, denoting the sought-for physical product by $\\otimes$ (i.e. not assuming it is the tensor product), we must demand that\n",
        "\n",
        "><font color=\"red\">$\n",
        "|\\psi\\rangle \\otimes|\\phi\\rangle=(a|\\psi\\rangle) \\otimes|\\phi\\rangle=a(|\\psi\\rangle \\otimes|\\phi\\rangle)\n",
        "$</font>\n",
        "\n",
        "* since the states produced by $|\\psi\\rangle$ and $a|\\psi\\rangle$ must yield the same state, i.e. map onto the same projective state. **This obviously fails for the cartesian product, since the pair $(a|\\psi\\rangle,|\\phi\\rangle)$ <u>is not a multiple</u> of the $\\operatorname{pair}(|\\psi\\rangle,|\\phi\\rangle)$, but it is true for the tensor product**.\n",
        "\n",
        "\n",
        "https://physics.stackexchange.com/questions/148378/importance-of-kronecker-product-in-quantum-computation"
      ]
    },
    {
      "cell_type": "markdown",
      "metadata": {
        "id": "2ycbDlYKG0P_"
      },
      "source": [
        "*Explanation 2*"
      ]
    },
    {
      "cell_type": "markdown",
      "metadata": {
        "id": "WYPlcm43FyX_"
      },
      "source": [
        "* In der Mathematik können mit Hilfe des Tensorprodukts (Kronecker-Produkts) von PauliMatrizen (mit Einheitsmatrix) die Darstellungen der höheren Clifford-Algebren über den reellen Zahlen aufgebaut werden.\n",
        "\n",
        "* Pauli-Matrizen können zur Darstellung von Hamilton-Operatoren und zur Näherung der Exponentialfunktion solcher Operatoren verwendet werden. Sind $\\sigma_{0}, \\sigma_{1}, \\sigma_{2}, \\sigma_{3}$ die vier Pauli-Matrizen, so kann man mit Hilfe des Kronecker-Produkt höherdimensionale Matrizen erzeugen.\n",
        "\n",
        "> $\n",
        "p:=\\sigma_{\\mu_{1}} \\otimes \\sigma_{\\mu_{2}} \\otimes \\ldots \\otimes \\sigma_{\\mu_{n}} \\quad ; \\quad \\mu_{1}, \\mu_{2}, \\ldots, \\mu_{n} \\in\\{0,1,2,3\\} \\quad ; \\quad n \\in \\mathbb{N}\n",
        "$\n",
        "\n",
        "* **Das Kronecker-Produkt von Pauli-Matrizen tritt bei der Beschreibung von Spin-1/2-Systemen auf, die aus mehreren Teilsystemen aufgebaut sind**. \n",
        "\n",
        "* Der Zusammenhang ist dadurch gegeben, dass **das Tensorprodukt zweier Operatoren in der zugehörigen Matrixdarstellung durch das Kronecker-Produkt der Matrizen gegeben ist** (siehe [Kronecker-Produkt#Zusammenhang mit Tensorprodukten](https://de.wikipedia.org/wiki/Kronecker-Produkt#Zusammenhang_mit_Tensorprodukten)).\n",
        "\n",
        "\n",
        "https://de.wikipedia.org/wiki/Pauli-Matrizen#Kronecker-Produkt_von_Pauli-Matrizen"
      ]
    },
    {
      "cell_type": "markdown",
      "metadata": {
        "id": "yxn_ppLjG3u-"
      },
      "source": [
        "*Explanation 3*"
      ]
    },
    {
      "cell_type": "markdown",
      "metadata": {
        "id": "wpiJjuboCF_o"
      },
      "source": [
        "* The kronecker product in group theory is widely used, especially with [Wigner D-function](https://de.wikipedia.org/wiki/Wignersche_D-Matrix)\n",
        "\n",
        "* The main purpose of its use in physics is to get the higher dimensional vector space. For example, in atomic physics, when we want to calculate the eigenvalues and eigenvectors of a system of spins 1/2 or spin Hamiltonian. \n",
        "\n",
        "* We analytically or with the help of computer diagonalize spin Hamiltonian and find eigenvectors and eigenvalues with the kronecker product:\n",
        "\n",
        "  * By appling the kronecker product between differnt spins matrices e.g., two matrices (dimensions 2 × 2) of spins 1/2, we will get the matrix of dimensions (4 × 4). \n",
        "  \n",
        "  * This method is very compact, which means we can use the computer to get the eigenvectors and eigenvalues of matrix after applying kronecker product for higher number of spins e.g., for the system of spins 1/2.\n",
        "\n",
        "https://arxiv.org/abs/quant-ph/0104019"
      ]
    },
    {
      "cell_type": "markdown",
      "metadata": {
        "id": "EBX7w7K0G6RY"
      },
      "source": [
        "*Explanation 4*"
      ]
    },
    {
      "cell_type": "markdown",
      "metadata": {
        "id": "vc_fh1Etqqem"
      },
      "source": [
        "In quantum theory the analog of a Cartesian product of classical phase spaces is a tensor product of Hilbert spaces.\n",
        "\n",
        "https://quantum.phys.cmu.edu/CQT/chaps/cqt06.pdf"
      ]
    },
    {
      "cell_type": "markdown",
      "metadata": {
        "id": "szGTFUIjG_id"
      },
      "source": [
        "*Explanation 5*"
      ]
    },
    {
      "cell_type": "markdown",
      "metadata": {
        "id": "OGjTgMqUo6PF"
      },
      "source": [
        "How do you describe the combined state of two qubits? **Remember that each qubit is a vector space, so they can't just be multiplied**. Instead, you use a tensor product, which is a related operation that creates a new vector space from individual vector spaces, and is represented by the $\\otimes$ symbol. \n",
        "\n",
        "For example, the tensor product of two qubit states $\\left[\\begin{array}{l}a \\\\ b\\end{array}\\right]$ and $\\left[\\begin{array}{l}c \\\\ d\\end{array}\\right]$ is calculated\n",
        "\n",
        "> $\\left[\\begin{array}{l}a \\\\ b\\end{array}\\right] \\otimes\\left[\\begin{array}{l}c \\\\ d\\end{array}\\right]=\\left[\\begin{array}{l}a\\left[\\begin{array}{l}c \\\\ d\\end{array}\\right] \\\\ b\\left[\\begin{array}{l}c \\\\ d\\end{array}\\right]\\end{array}\\right]=\\left[\\begin{array}{c}a c \\\\ a d \\\\ b c \\\\ b d\\end{array}\\right]$\n",
        "\n",
        "The result is a four-dimensional matrix, with each element representing a probability. \n",
        "\n",
        "For example, $a c$ is the probability of the two qubits collapsing to 0 and $0, a d$ is the probability of 0 and 1, and so on.\n",
        "\n",
        "Just as a single qubit state $\\left[\\begin{array}{l}a \\\\ b\\end{array}\\right]$ must meet the requirement that $|a|^{2}+|b|^{2}=1$ in order to represent a quantum state, \n",
        "\n",
        "a two-qubit state $\\left[\\begin{array}{c}a c \\\\ a d \\\\ b c \\\\ b d\\end{array}\\right]$ must meet the requirement that $|a c|^{2}+|a d|^{2}+|b c|^{2}+|b d|^{2}=1$\n",
        "\n",
        "https://docs.microsoft.com/en-us/azure/quantum/overview-algebra-for-quantum-computing"
      ]
    },
    {
      "cell_type": "markdown",
      "metadata": {
        "id": "E0KTafl9HBJp"
      },
      "source": [
        "*Explanation 6*"
      ]
    },
    {
      "cell_type": "markdown",
      "metadata": {
        "id": "Hip1EQTLkbJP"
      },
      "source": [
        "If we have a set, denoted by 'a', of possible outcomes from one event and a set of outcomes for another event, denoted by 'b', then the possible outcomes for the union event is always the tensor product a⊗b.\n",
        "\n",
        "https://www.quora.com/What-is-a-tensor-product-in-quantum-mechanics"
      ]
    },
    {
      "cell_type": "markdown",
      "metadata": {
        "id": "3PqHH8knHQES"
      },
      "source": [
        "*Explanation 7*"
      ]
    },
    {
      "cell_type": "markdown",
      "metadata": {
        "id": "fT_LMYNPHNQg"
      },
      "source": [
        "At some point in the history of quantum mechanics, it was accepted that a single particle is described by a wavefunction which is a function of the position of the particle r, denoted:\n",
        "\n",
        "> ψ\n",
        "(\n",
        "r\n",
        ")\n",
        ".\n",
        "\n",
        "At some (possibly later) point it was also accepted that two particles are described by a wavefunction which is a function of the positions of each one of the particles, r1 and r2, denoted:\n",
        "\n",
        "> ψ\n",
        "(\n",
        "r\n",
        "1\n",
        ",\n",
        "r\n",
        "2\n",
        ")\n",
        ".\n",
        "\n",
        "In other words, the Hilbert space describing the two-particle system is the tensor product of the Hilbert spaces describing the system of each particle.\n",
        "\n",
        "https://physics.stackexchange.com/questions/53039/when-and-how-did-the-idea-of-the-tensor-product-originate-in-the-history-quantum"
      ]
    },
    {
      "cell_type": "markdown",
      "metadata": {
        "id": "OsENlOUbHSAr"
      },
      "source": [
        "*Explanation 8*"
      ]
    },
    {
      "cell_type": "markdown",
      "metadata": {
        "id": "HZ7mkt35HJIn"
      },
      "source": [
        "Tensor Products are used to describe systems consisting of multiple subsystems. Each subsystem is described by a vector in a vector space (Hilbert space). For example, let us have two systems I and $/ /$ with their corresponding Hilbert spaces $H_{1}$ and $H_{11}$. Thus, using the bra-ket notation, the vectors $\\left|\\Psi_{1}\\right\\rangle$ and $\\mid \\Psi_{I I}$ ) describe the states of system I and $\\|$ with the state of the total system given by the tensor product $\\left|\\psi_{i}\\right\\rangle \\otimes\\left|\\psi_{1 I}\\right\\rangle$.\n",
        "\n",
        "https://www.quantiki.org/wiki/tensor-product"
      ]
    },
    {
      "cell_type": "markdown",
      "metadata": {
        "id": "hGiFBtVIHTK5"
      },
      "source": [
        "*Explanation 9*"
      ]
    },
    {
      "cell_type": "markdown",
      "metadata": {
        "id": "6s2fOxMrHGiA"
      },
      "source": [
        "The Hilbert space of a composite system is the Hilbert space tensor product of the state spaces associated with the component systems\n",
        "\n",
        "https://en.wikipedia.org/wiki/Mathematical_formulation_of_quantum_mechanics"
      ]
    },
    {
      "cell_type": "markdown",
      "metadata": {
        "id": "MHJqp0Gu_1pf"
      },
      "source": [
        "Others:"
      ]
    },
    {
      "cell_type": "markdown",
      "metadata": {
        "id": "_orttAeHpmPJ"
      },
      "source": [
        "https://en.wikipedia.org/wiki/Tensor_product_of_Hilbert_spaces"
      ]
    },
    {
      "cell_type": "markdown",
      "metadata": {
        "id": "MnsspWdFnT3I"
      },
      "source": [
        "https://en.wikipedia.org/wiki/Mathematical_formulation_of_quantum_mechanics"
      ]
    },
    {
      "cell_type": "markdown",
      "metadata": {
        "id": "eAc19kjyneYL"
      },
      "source": [
        "https://en.wikipedia.org/wiki/Matrix_mechanics"
      ]
    },
    {
      "cell_type": "markdown",
      "metadata": {
        "id": "XyPs7AvJ_2fQ"
      },
      "source": [
        "http://pi.math.cornell.edu/~mec/Winter2009/RalucaRemus/Lecture1/lecture1.html"
      ]
    },
    {
      "cell_type": "markdown",
      "metadata": {
        "id": "ahHgMtcV_3h6"
      },
      "source": [
        "https://docs.microsoft.com/de-de/azure/quantum/overview-algebra-for-quantum-computing"
      ]
    },
    {
      "cell_type": "markdown",
      "metadata": {
        "id": "Scoins-x4KF2"
      },
      "source": [
        "**Is there any difference between tensor product and Kronecker Product?**"
      ]
    },
    {
      "cell_type": "markdown",
      "metadata": {
        "id": "xA0hmY4PL9A1"
      },
      "source": [
        "*Explanation 1*"
      ]
    },
    {
      "cell_type": "markdown",
      "metadata": {
        "id": "95fSZRPR-zyx"
      },
      "source": [
        "We can see a lot of similarities between:\n",
        "* **the Kronecker product for matrices** and \n",
        "* **the tensor product for abstract Hilbert spaces.**\n",
        "\n"
      ]
    },
    {
      "cell_type": "markdown",
      "metadata": {
        "id": "PRdQkd3SALRE"
      },
      "source": [
        "* If a vector can be expressed as the tensor product of two vectors, we call it a product vector, i.e., $|\\Psi\\rangle$ **is a product vector** if $|\\Psi\\rangle=|\\phi \\otimes \\chi\\rangle$ for some $|\\phi\\rangle$ and $|\\chi\\rangle$. Any nonproduct vector is called entangled. The entangled states of a composite system occupy a distinguished position in the interpretation of quantum mechanics. \n",
        "\n",
        "* We would like to define a <font color=\"blue\">**tensor product for abstract Hilbert spaces**</font>. \n",
        "\n",
        "* The main need for this comes from the necessity of <font color=\"blue\">**describing composite quantum systems**</font>. \n",
        "\n",
        "* If we have two different systems $\\mathrm{A}$ and $\\mathrm{B}$, then **we have separate Hilbert spaces**, say $\\mathcal{H}_{A}$ and $\\mathcal{H}_{B}$, for describing the quantum states of these systems. \n",
        "\n",
        "* Basically a vector $|\\alpha\\rangle_{A}$ in $\\mathcal{H}_{A}$ gives a state of $\\mathrm{A}$ and a vector $|\\beta\\rangle_{B}$ in $\\mathcal{H}_{B}$ gives a state of $\\mathrm{B}$. \n",
        "\n",
        "* In a similar way, we should <font color=\"blue\">**have an entirely different Hilbert space** $\\mathcal{H}_{A B}$ for describing the states of the composite system AB.</font> \n",
        "\n",
        "* In particular, we would like to have a vector in $\\mathcal{H}_{A B}$ that describes the state of $\\mathrm{AB}$ such that $\\mathrm{A}$ is in state $\\mid \\alpha \\rangle_{A}$ and $\\mathrm{B}$ is in state $|\\beta\\rangle_{B}$. We will denote this state as $|\\alpha\\rangle_{A} \\otimes|\\beta\\rangle_{B}$. \n",
        "\n",
        "* We will also want to have this product $\\otimes$ be such that superpositions of states in $\\mathrm{A}$ or in B could also be equivalently described as superpositions of states in $\\mathrm{AB} ;$ hence **distributivity**.\n",
        "\n",
        "http://www.physics.metu.edu.tr/~sturgut/p455/qm-math4.pdf"
      ]
    },
    {
      "cell_type": "markdown",
      "metadata": {
        "id": "nXoZ-TR6L9-i"
      },
      "source": [
        "*Explanation 2*"
      ]
    },
    {
      "cell_type": "markdown",
      "metadata": {
        "id": "POsSAPWn4ONl"
      },
      "source": [
        "* **The two notions represent operations on different objects: Kronecker product on matrices; tensor product on linear maps between vector spaces**.\n",
        "\n",
        "* But there is a connection: Given two matrices, we can think of them as representing linear maps between vector spaces equipped with a chosen basis.\n",
        "\n",
        "* The Kronecker product of the two matrices then represents the tensor product of the two linear maps.\n",
        "\n",
        "* (This claim makes sense because the tensor product of two vector spaces with distinguished bases comes with a distinguish basis.)\n",
        "\n",
        "https://math.stackexchange.com/questions/203947/tensor-product-and-kronecker-product"
      ]
    },
    {
      "cell_type": "markdown",
      "metadata": {
        "id": "5-hVNe_kL_JW"
      },
      "source": [
        "*Explanation 3*"
      ]
    },
    {
      "cell_type": "markdown",
      "metadata": {
        "id": "m2JvoYFw4kIy"
      },
      "source": [
        "Sometimes the Kronecker product is also called direct product\n",
        "or tensor product.\n",
        "\n",
        "https://www.worldscientific.com/doi/pdf/10.1142/9789811202520_0002"
      ]
    },
    {
      "cell_type": "markdown",
      "metadata": {
        "id": "-1uMILs6MAo9"
      },
      "source": [
        "*Explanation 4*"
      ]
    },
    {
      "cell_type": "markdown",
      "metadata": {
        "id": "NgAOBxq56GAc"
      },
      "source": [
        "* |u> <v| is a way of writing the <font color=\"blue\">**tensor product of a vector and a dual vector**</font> (ie, an element of the Hilbert space and an element of its dual, which is usually casually identified with the Hilbert space using the inner product). \n",
        "\n",
        "* This is a linear operator on the Hilbert space, sending |w > to <v|w>|u>. \n",
        "\n",
        "* In general, the tensor product of a vector space and its dual is the space of (finite rank) linear operators on the vector space.\n",
        "\n",
        "* On the other hand, |u>|v> is an element of the tensor product of the vector space with itself, usually used in physics for describing a composite of two identical systems. Again, since there is an isomorphism between the vector space and its dual, there is one between the space of composite states and the space of linear operators. This is interesting, but I've never seen this put to good use. \n",
        "\n",
        "* Finally, **the Kronecker product is just a particular representation of the tensor product, convenient for dealing with tensor products of linear operators**.\n",
        "\n",
        "Source https://www.physicsforums.com/threads/difference-between-the-outer-product.236244/"
      ]
    },
    {
      "cell_type": "markdown",
      "metadata": {
        "id": "aKEzBKagMB1t"
      },
      "source": [
        "*Explanation 5*"
      ]
    },
    {
      "cell_type": "markdown",
      "metadata": {
        "id": "5K9Cf2FZ8IMz"
      },
      "source": [
        "the Kronecker product and tensor product essentially have the same mathematical \"actions\" (an expanded matrix with dimensions equal to the product of the two matrices), but the tensor product explicitly applies only to matrices representing linear maps.\n",
        "\n",
        "Every matrix represents a linear map. \n",
        "\n",
        "Linear maps are in some sense more general than matrices. They are also different (types of) objects, even though matrices can be used to represent _some_ linear maps. The matrix representation of a particular linear map depends on the choice of basis of the domain and target space, for example, whereas the linear map itself is invariant under such choices. On the other hand a matrix can also represent a bilinear form, not just a linear map. Consider reading Axler's _Linear Algebra Done Right_ for a good explanation of some of such subtleties. \n",
        "\n",
        "https://math.stackexchange.com//questions/203947"
      ]
    }
  ]
}