{
  "nbformat": 4,
  "nbformat_minor": 0,
  "metadata": {
    "colab": {
      "name": "quantum.ipynb",
      "provenance": [],
      "collapsed_sections": [
        "XjqyTPeNmw54",
        "qbfXZeh4-PtB",
        "kJDaxgzh--ui",
        "fanTKhYRC5ch",
        "q3-zqqxXDq-p",
        "60DM3PNGUhDg",
        "QbX8G_SKTW06",
        "fvSvQ1RU-Dml",
        "Al6iOYrFH7zR",
        "mXgnLYX-FpXa",
        "pNpbfhdu-Igg",
        "wYsD8n3CMWIR",
        "JJ-t1PwHfh5Y",
        "rl36-Dkq44wh",
        "CWTUeok_2Mn3",
        "fydLRSLFdRx5",
        "9isGvqndjGj9",
        "3eye1FYS06Mi",
        "OWe3dABV3mBT",
        "iy4WCRVb4Fbq",
        "XwAsbDA4n9EB",
        "3jog_VsinRGB",
        "ZfO2_4Z6reDW",
        "Ke3uO0SBC5YS",
        "J2dKV_JuIKot",
        "wftQOr5kIcgW",
        "y-3kRtDkCtCH",
        "XRBMQYB4nyqI",
        "gnCFRiVapbMJ",
        "29EqcTLgeDew",
        "E7F7W1hYvglE",
        "momUr6Asslay",
        "faWZpw6GCtO-",
        "QbX1OHN_d3Rt",
        "5rkvkWM7UfBN",
        "PW3bfP7j2NI6",
        "pc_hRQccWHzu",
        "A6PhfaXw-Fxo",
        "NkW4xifhAMIp",
        "UQh4UJSSBK4k",
        "8m2G9jYg87jT",
        "poRpmXapBDRX",
        "g9KGU3z5Ayes",
        "N0V2nJiKBGjY",
        "wzseTGVZheC0",
        "3SbhCUXshRB1",
        "sb5Yn4EZhWZ8",
        "1JF-ybZ6hcLP",
        "Mkh59Hyihi9A",
        "fMCz0TjonOPF",
        "3AmbGs7olgF1",
        "1dIOVe-DrnP3",
        "WGENRWa3OhKf",
        "GHaKSl8FwyIk",
        "vAylb_iUC3_a",
        "xWZS80qVr7OU",
        "DuqBj0b2Igpf",
        "B30zKlfExubw",
        "DnkXh3N6x0F0",
        "igYVFK-qS-B3",
        "O5znXLBd8yzo",
        "m-TlrXXiLQ14",
        "kMPSYVgbKTZo",
        "7JHrrmK1_iXl",
        "0LwU5raVJ43n",
        "gGhPqYCMILt4",
        "mer-EQtZxh37",
        "Y5YgPcFJIXu_",
        "U-AMGri9VajC"
      ],
      "include_colab_link": true
    },
    "kernelspec": {
      "name": "python3",
      "display_name": "Python 3"
    }
  },
  "cells": [
    {
      "cell_type": "markdown",
      "metadata": {
        "id": "view-in-github",
        "colab_type": "text"
      },
      "source": [
        "<a href=\"https://colab.research.google.com/github/deltorobarba/machinelearning/blob/master/quantum.ipynb\" target=\"_parent\"><img src=\"https://colab.research.google.com/assets/colab-badge.svg\" alt=\"Open In Colab\"/></a>"
      ]
    },
    {
      "cell_type": "markdown",
      "metadata": {
        "id": "uYQVihuXzx6u"
      },
      "source": [
        "# **Quantum Machine Learning**"
      ]
    },
    {
      "cell_type": "markdown",
      "metadata": {
        "id": "ZWYcaoehvUk1"
      },
      "source": [
        "![ggg](https://raw.githubusercontent.com/deltorobarba/repo/master/quantum_000.jpg)"
      ]
    },
    {
      "cell_type": "code",
      "metadata": {
        "id": "jObfS0OgRhq6"
      },
      "source": [
        "!pip install cirq -q\n",
        "import cirq\n",
        "import sympy\n",
        "import numpy as np\n",
        "import pandas as pd\n",
        "import matplotlib.pyplot as plt # %matplotlib inline\n",
        "from cirq.contrib.svg import SVGCircuit"
      ],
      "execution_count": null,
      "outputs": []
    },
    {
      "cell_type": "markdown",
      "metadata": {
        "id": "XjqyTPeNmw54"
      },
      "source": [
        "## **Quantum Mechanics**"
      ]
    },
    {
      "cell_type": "markdown",
      "metadata": {
        "id": "00a7pYav8_RR"
      },
      "source": [
        "https://github.com/CDL-Quantum/Hackathon2021/tree/main/SRRSA"
      ]
    },
    {
      "cell_type": "markdown",
      "metadata": {
        "id": "mIan90xZ9Aw_"
      },
      "source": [
        "https://medium.com/qiskit/systematic-preparation-of-arbitrary-probability-distribution-with-a-quantum-computer-165dfd8fbd7d"
      ]
    },
    {
      "cell_type": "markdown",
      "metadata": {
        "id": "qbfXZeh4-PtB"
      },
      "source": [
        "#### **Bra-Ket**"
      ]
    },
    {
      "cell_type": "markdown",
      "metadata": {
        "id": "VJcvAor8_AYi"
      },
      "source": [
        "https://de.m.wikipedia.org/wiki/Kugelkoordinaten"
      ]
    },
    {
      "cell_type": "markdown",
      "metadata": {
        "id": "kJDaxgzh--ui"
      },
      "source": [
        "###### <font color=\"blue\">**Quantum State**"
      ]
    },
    {
      "cell_type": "markdown",
      "metadata": {
        "id": "-oS_Q9ze_Bod"
      },
      "source": [
        "https://en.m.wikipedia.org/wiki/Quantum_state#Pure_states"
      ]
    },
    {
      "cell_type": "markdown",
      "metadata": {
        "id": "U42AjGJe_Mf1"
      },
      "source": [
        "![ggg](https://upload.wikimedia.org/wikipedia/commons/thumb/e/e7/Hydrogen_Density_Plots.png/528px-Hydrogen_Density_Plots.png)"
      ]
    },
    {
      "cell_type": "markdown",
      "metadata": {
        "id": "fanTKhYRC5ch"
      },
      "source": [
        "###### **<font color=\"blue\">Ket $|\\psi\\rangle$</font> (Pure Quantum State Superposition, Wave Function, Stochastic Vector, Bloch sphere)**"
      ]
    },
    {
      "cell_type": "markdown",
      "metadata": {
        "id": "WlC5y6Hpsj_E"
      },
      "source": [
        "**A Ket $|\\psi\\rangle$ $\\doteq$ $\\left[\\begin{array}{l}a_{0} \\\\ a_{1}\\end{array}\\right]$, also called 'quantum state', <u>represents</u> the wave function of a quantum system (\"Psi\")**, consisting of **probability amplitudes**. This Quantum state is a **stochastic vector**, written as a column vector. **A Ket is technically a pure quantum state**. Wave function notation to describe superposition of Pure States."
      ]
    },
    {
      "cell_type": "markdown",
      "metadata": {
        "id": "CsUR9RecP8AE"
      },
      "source": [
        "So, you have an (orthonormal) basis with 3 vectors and coefficients, to describe a vector in space (in Hilbert space):\n",
        "\n",
        "> $\\vec{v}=$<font color='blue'>$2$</font>$\\left(\\begin{array}{l}1 \\\\ 0 \\\\ 0\\end{array}\\right)$<font color='blue'>$+3$</font>$\\left(\\begin{array}{l}0 \\\\ 1 \\\\ 0\\end{array}\\right)$<font color='blue'>$+0$</font>$\\left(\\begin{array}{l}0 \\\\ 0 \\\\ 1\\end{array}\\right)$\n",
        "\n",
        "The basis vectors will all entries in 0 and only one with 1 correspond to possibe measurement outcomes (spin up or down). \n",
        "\n",
        "The coefficients can be collected in one vector and are complex numbers:\n",
        "\n",
        "> $\\vec{v}=$<font color='blue'>$\\left(\\begin{array}{l}2 \\\\ 3 \\\\ 0\\end{array}\\right)$</font>\n",
        "\n"
      ]
    },
    {
      "cell_type": "markdown",
      "metadata": {
        "id": "zi3VJ36_jPGy"
      },
      "source": [
        "**Or written formally**:\n",
        "\n",
        "> $|\\Psi\\rangle=a_{1}\\left(\\begin{array}{l}1 \\\\ 0 \\\\ 0\\end{array}\\right)+{a_{2}}\\left(\\begin{array}{l}0 \\\\ 1 \\\\ 0\\end{array}\\right)+a_{3}\\left(\\begin{array}{l}0 \\\\ 0 \\\\ 1\\end{array}\\right)$ \n",
        "\n",
        "> $|\\Psi\\rangle = \\left(\\begin{array}{l}a_{1} \\\\ 0 \\\\ 0\\end{array}\\right)+\\left(\\begin{array}{l}0 \\\\ a_{2} \\\\ 0\\end{array}\\right)+\\left(\\begin{array}{l}0 \\\\ 0 \\\\ a_{3}\\end{array}\\right)$\n",
        "\n",
        "> $|\\Psi\\rangle=\\left(\\begin{array}{l}a_{1} \\\\ a_{2} \\\\ a_{3}\\end{array}\\right)$\n"
      ]
    },
    {
      "cell_type": "markdown",
      "metadata": {
        "id": "QFoHY3uxjQkE"
      },
      "source": [
        "**Where basis vectors $X = \\left(\\begin{array}{l}1 \\\\ 0 \\\\ 0\\end{array}\\right)$, $Y = \\left(\\begin{array}{l}0 \\\\ 1 \\\\ 0\\end{array}\\right)$ and $Z = \\left(\\begin{array}{l}0 \\\\ 0 \\\\ 1\\end{array}\\right)$ correspond to possibe measurement outcomes (spin up or down for example)**:\n",
        "\n",
        "> $|\\Psi\\rangle=a_{1} |X\\rangle +a_{2} |Y\\rangle + a_{3} |Z\\rangle$"
      ]
    },
    {
      "cell_type": "markdown",
      "metadata": {
        "id": "9yQEer_yrPP3"
      },
      "source": [
        "**Quantum System & Quantum States**\n",
        "\n",
        "* First, imagine we have a **quantum mechanical system**, like a single electron, an electron orbiting a nucleus or a photon. And we have possible **outcomes** that we want to measure in this system, for example spin up or spin down as possible properties of an electron.\n",
        "\n",
        "* Second, you have **basis vectors** that represent these possible outcomes of the state in a system. 1 for spin up and 0 for spin down. They are orthogonal to each other (and hence their inner product is zero). These possible outcomes are called **'quantum states'**. The simplest quantum state is one with 2 outcomes, also called qbit. "
      ]
    },
    {
      "cell_type": "markdown",
      "metadata": {
        "id": "pnHrVsDOfGIC"
      },
      "source": [
        "**Superposition, Probability Amplitudes, Stochastic Vector & Wave Function**\n",
        "\n",
        "* When quantum system is left alone, during an unmeasured state, it is in a soup of all possible states it could be in. This is called [**quantum superposition**](https://en.wikipedia.org/wiki/Quantum_superposition). In this case we write the wave function of the electron as a superposition of the two possible states. It's a linear combination of both states:\n",
        "\n",
        "> $\\mid \\psi\\rangle$ = $|\\uparrow\\rangle \\quad \\text{+} \\quad |\\downarrow\\rangle$\n",
        "\n",
        "* You can visualize this on a Bloch sphere (here comes the linearity into place). \n",
        "\n",
        "* Now we need to assign a probability to each of the states $\\alpha_0$ and $\\alpha_1$, which means we assign a coefficients for each basis vector (=the outcomes). These are not probabilities in the classical sense, but **probability amplitudes**. Its entries are also not restricted to real numbers, **entries are complex numbers $C$**. (That's why normalization happens in [2 norm (Euclidean norm)](https://de.wikipedia.org/wiki/Euklidische_Norm) to normalize to 1, because of the complex number space.)\n",
        "\n",
        "> $\\mid \\psi\\rangle$ = $\\alpha_1 |\\uparrow\\rangle \\quad \\text{+} \\quad \\alpha_0 |\\downarrow\\rangle$ bzw. numerical fur spin up & down:\n",
        "\n",
        "> $\\mid \\psi\\rangle$ = $\\alpha_1 |\\text{1} \\rangle \\quad \\text{+} \\quad \\alpha_0 |\\text{0}\\rangle$\n",
        "\n",
        "* 1 and 0 (spin up and down) are the basis vectors one-ket and zero-ket and $\\alpha_1$ and $\\alpha_0$ are the probability amplitudes coefficients for each possible state. Together they form the wave function of the quantum state of our system.\n",
        "\n",
        "* Out of all coefficients of the quantum state $\\alpha_0$, $\\alpha_1$, etc.. we can write as a column vector, the **stochastic vector**. It represents ($\\doteq$) the **wave function** of a quantum system ('psi'). It's name is **'Ket'**.\n",
        "\n",
        "> **Ket: $|\\psi\\rangle$ $\\doteq$ $\\left[\\begin{array}{l}a_{0} \\\\ a_{1}\\end{array}\\right]$**\n",
        "\n",
        "* So, the **superposition is the expansion of the vector in a basis** (= possible outcomes), consisting of basis vectors zero-ket and one-ket.\n"
      ]
    },
    {
      "cell_type": "markdown",
      "metadata": {
        "id": "OuqAMUec13dc"
      },
      "source": [
        "**Visualization of qubit states: Bloch Sphere**\n",
        "\n",
        "* [**Bloch sphere**](https://de.m.wikipedia.org/wiki/Bloch-Kugel) & [Kugelkoordinaten](https://de.m.wikipedia.org/wiki/Kugelkoordinaten)\n",
        "\n",
        "* looks like 1 and 0 are oil the same line, but be careful: orthogonality is a little bit different on the Bloch sphere\n",
        "\n",
        "* Die Bloch-Kugel wird in der Quantenmechanik verwendet, um den Zustand eines Zweizustandssystems (beispielsweise eines Qubits) grafisch darzustellen, nämlich als Punkt auf einer Kugeloberfläche. \n",
        "\n",
        "* Zwei reine Zustände (pure states) sind orthogonal, wenn ihre Bloch-Vektoren sich an genau gegenüberliegenden Punkten auf der Bloch-Kugel befinden.\n",
        "  \n",
        "* In der Mitte der Blochkugel liegt der vollständig gemischte Zustand (mixed state), dessen Blochvektor der Nullvektor ist.\n",
        "\n",
        "* Siehe auch [Zweizustandsystem](https://de.m.wikipedia.org/wiki/Zweizustandssystem)\n",
        "\n",
        "* **every single point on the Bloch sphere is a qubit state**. Much larger representative power than in classic probability. "
      ]
    },
    {
      "cell_type": "markdown",
      "metadata": {
        "id": "JHXFOvhxVRaJ"
      },
      "source": [
        "![ggg](https://upload.wikimedia.org/wikipedia/commons/thumb/6/69/Kugelkoord-def.svg/480px-Kugelkoord-def.svg.png)\n",
        "\n",
        "*Kugelkoordinaten $r, \\theta, \\varphi$ eines Punktes $P$ und kartesisches Koordinatensystem mit den Achsen\n",
        "$x, y, z .$*"
      ]
    },
    {
      "cell_type": "markdown",
      "metadata": {
        "id": "PQypLKeEVh8B"
      },
      "source": [
        "![ggg](https://upload.wikimedia.org/wikipedia/commons/thumb/f/f4/Bloch_Sphere.svg/423px-Bloch_Sphere.svg.png)\n",
        "\n",
        "*Bloch sphere*"
      ]
    },
    {
      "cell_type": "markdown",
      "metadata": {
        "id": "NhqOGCR7nNOr"
      },
      "source": [
        "![geometry](https://raw.githubusercontent.com/deltorobarba/repo/master/quantum_003a.png)"
      ]
    },
    {
      "cell_type": "markdown",
      "metadata": {
        "id": "N_1O47HSCki0"
      },
      "source": [
        "**Notation Details for the sum over all quantum states in many $u_{i}$ basis**\n",
        "\n",
        "* We expand the Ket psi in the basis u, where the expansion coefficients c are given by the Braket between u and psi:\n",
        "\n",
        "> $|\\psi\\rangle=\\sum_{i} c_{i}\\left|u_{i}\\right\\rangle = c_{1} * u_{1} + c_{2} * u_{2} .. + c_{i}* u_{i} = c_{1}\\left(\\begin{array}{l}1 \\\\ 0 \\\\ 0\\end{array}\\right)+{c_{2}}\\left(\\begin{array}{l}0 \\\\ 1 \\\\ 0\\end{array}\\right)+.. c_{i}\\left(\\begin{array}{l}0 \\\\ 0 \\\\ i\\end{array}\\right) \\quad =\\left\\langle u_{i} \\mid \\psi\\right\\rangle$\n",
        "\n",
        "* This c cofficients are what we call **representation of the Ket psi in the u basis**.\n",
        "* To define the matrix formulation pf Kets we rearrange this coefficient c into a column vector. And we can do it either in terms of the brakets u and psi, or directly in terms of the expansion coefficient c.\n",
        "* Therefore, in the matrix formulation of quantum mechanics Kets are written as column vectors.\n",
        "\n",
        "> $\\left(\\begin{array}{c}\\langle u_{1} \\mid \\psi\\rangle \\\\ \\left\\langle u_{2} \\mid \\psi\\right\\rangle \\\\ \\vdots \\\\ \\left\\langle u_{i} \\mid \\psi\\right\\rangle \\\\ \\vdots\\end{array}\\right)=\\left(\\begin{array}{c}c_{1} \\\\ c_{2} \\\\ \\vdots \\\\ c_{i} \\\\ \\vdots \\\\ \\end{array}\\right)$"
      ]
    },
    {
      "cell_type": "markdown",
      "metadata": {
        "id": "r5iRqWX5srNN"
      },
      "source": [
        "<font color=\"blue\">**Multiple Qubits**</font> (Tensor Product States)"
      ]
    },
    {
      "cell_type": "markdown",
      "metadata": {
        "id": "8BQIZHeJtV0X"
      },
      "source": [
        "![geometry](https://raw.githubusercontent.com/deltorobarba/repo/master/quantum_004.png)"
      ]
    },
    {
      "cell_type": "markdown",
      "metadata": {
        "id": "oPrJ5_AjPQfg"
      },
      "source": [
        "**Tensor Product States**\n",
        "\n",
        "* now we construct larger states with multiple qubits\n",
        "\n",
        "* **we use the tensor product between kets**. With that we can create a basis, in the notation you contract them and drop one |> sign, so instead of |0>|0> you write: |00>\n",
        "\n",
        "* you get the 4 canonical basis vectors in a 4 dimensional complex space\n",
        "\n",
        "* convention in most quantum computing libraries: the rightmost qubit is the qubit zero, same order as representing binary values in classic computing."
      ]
    },
    {
      "cell_type": "markdown",
      "metadata": {
        "id": "q3-zqqxXDq-p"
      },
      "source": [
        "###### **<font color=\"blue\">Bra $\\langle\\psi|$</font> (conjugate transpose of Ket)**"
      ]
    },
    {
      "cell_type": "markdown",
      "metadata": {
        "id": "yli_Tsn1RlRp"
      },
      "source": [
        "The coefficients of a quantum vector $\\vec{v}=$<font color='blue'>$\\left(\\begin{array}{l}2 \\\\ 3 \\\\ 0\\end{array}\\right)$</font> are complex numbers with an imaginary part:\n",
        "\n",
        "$z=x+1 y$\n",
        "\n",
        "You can create the conjugate of complex numbers (flip the sign of i):\n",
        "\n",
        "$z^*=x-1 y$"
      ]
    },
    {
      "cell_type": "markdown",
      "metadata": {
        "id": "erR-cpUydgOx"
      },
      "source": [
        "So that means:\n",
        "\n",
        "> $|\\Psi\\rangle=a_{1}\\left(\\begin{array}{l}1 \\\\ 0 \\\\ 0\\end{array}\\right)+{a_{2}}\\left(\\begin{array}{l}0 \\\\ 1 \\\\ 0\\end{array}\\right)+a_{3}\\left(\\begin{array}{l}0 \\\\ 0 \\\\ 1\\end{array}\\right)$\n",
        "\n",
        "With the Ket in one vector:\n",
        "\n",
        "> $|\\Psi\\rangle=\\left(\\begin{array}{l}a_{1} \\\\ a_{2} \\\\ a_{3}\\end{array}\\right)$"
      ]
    },
    {
      "cell_type": "markdown",
      "metadata": {
        "id": "aGT9mIJajX2L"
      },
      "source": [
        "**Bra is then the conjugate transpose of Ket** (with the transpose symbol called \"dagger\". It's a row vector / one form / covector / dual space):\n",
        "\n",
        "> $\\langle\\Psi|=\\left(a_{1}^*, a_{2}^*, a_{3}^*\\right)$ = $\\left[\\begin{array}{ll}\\vec{a}_{1} & \\vec{a}_{2} & \\vec{a}_{3}\\end{array}\\right]$\n",
        "\n",
        "> $\\langle\\Psi| \\doteq | \\Psi\\rangle^{\\dagger}$"
      ]
    },
    {
      "cell_type": "markdown",
      "metadata": {
        "id": "dW-MBTjvb3fW"
      },
      "source": [
        "*See we use the \"represented by\" symbol $\\doteq$ and not the equal sign: Wichtig ist dabei, **dass $|v\\rangle$ und der dazugehörige Spaltenvektor $\\left(v_{1}, v_{2}, v_{3}, \\ldots, v_{m}\\right)^{T}$ nicht dasselbe mathematische Objekt sind und somit kein Gleichheitszeichen verwendet werden darf**. Dies wird insbesondere daran deutlich, dass die Bra-Ket-Schreibweise von der Wahl einer Basis unabhängig ist, während die Darstellung durch Koordinatenvektoren die Wahl einer Basis voraussetzt. Stattdessen sollte deutlich gemacht werden, dass es sich bei $\\left(a_{1}, a_{2}, a_{3}, \\ldots, a_{m}\\right)^{T}$ um die Darstellung von $|a\\rangle$ handelt. Dies kann durch die Verwendung von Zeichen wie $\\Rightarrow, \\doteq, \\leftrightarrow$* etc erfolgen.*"
      ]
    },
    {
      "cell_type": "markdown",
      "metadata": {
        "id": "ztkYlsKXFeqk"
      },
      "source": [
        "---\n",
        "\n",
        "\n",
        "> $\\langle\\psi|=\\sum_{i} c_{i}^{*}\\left\\langle u_{i}\\right| \\quad c_{i}^{*}=\\left\\langle\\psi \\mid u_{i}\\right\\rangle=\\left\\langle u_{i} \\mid \\psi\\right\\rangle^{*}$\n",
        "\n",
        "* we expand the Bra psi in the basis u in terms of the same expansion coefficient c that we used to expand the corresponding ket. \n",
        "* But in this case the expansion coefficients are the **complex conjugates** C*\n",
        "* To define the matrix formulation of bra‘s we arrange this coefficient into a row vector\n",
        "* We can do this in terms of the braket psi u or in terms of the complex conjugates of the C coefficients\n",
        "* Therefore Bra‘s are written as row vectors\n",
        "\n",
        "> $\\left(\\left\\langle\\psi \\mid u_{1}\\right\\rangle\\left\\langle\\psi \\mid u_{2}\\right\\rangle \\cdots\\left\\langle\\psi \\mid u_{i}\\right\\rangle \\cdots\\right)$\n",
        "\n",
        "> $=\\left(\\begin{array}{lllll}c_{1}^{*} & c_{2}^{*} & \\cdots & c_{i}^{*} & \\cdots\\end{array}\\right)$"
      ]
    },
    {
      "cell_type": "markdown",
      "metadata": {
        "id": "60DM3PNGUhDg"
      },
      "source": [
        "###### **<font color=\"blue\">Bra-Ket $\\langle\\psi|\\psi\\rangle$</font> or <font color=\"blue\">$\\langle\\Phi \\mid \\Psi\\rangle$</font> (Inner product)**"
      ]
    },
    {
      "cell_type": "markdown",
      "metadata": {
        "id": "QFGqjBpBFOmX"
      },
      "source": [
        "* In der [**Dirac Notation (Bra Ket Notation)**](https://de.m.wikipedia.org/wiki/Dirac-Notation) schreibt man die Vektoren eines Vektorraums $V$ auch außerhalb eines Skalarprodukts mit einer spitzen Klammer als Ket $|v\\rangle$. \n",
        "\n",
        "* Jedem Ket $|v\\rangle$ entspricht ein Bra $\\langle v|$, der dem Dualraum $V^{*}$ angehört, also eine lineare Abbildung von $V$ in den zu Grunde liegenden Körper $K$ repräsentiert, und umgekehrt. \n",
        "\n",
        "* Das Ergebnis der Operation eines Bras $\\langle v|$ auf einen Ket $|w\\rangle$ wird $\\langle v \\mid w\\rangle$ geschrieben, womit der Zusammenhang mit der konventionellen Notation des Skalarprodukts hergestellt ist. We can use the <font color=\"blue\">$\\langle\\text{bra}|\\text{ket}\\rangle$</font> notation to write a scalar product conveniently as a “bra-ket”.\n"
      ]
    },
    {
      "cell_type": "markdown",
      "metadata": {
        "id": "HSTwK3Nha-7o"
      },
      "source": [
        "**Case 1: Inner product of one vector (with all basis vectors):**"
      ]
    },
    {
      "cell_type": "markdown",
      "metadata": {
        "id": "JGMeJbQdZty3"
      },
      "source": [
        "Ket: $|\\Psi\\rangle=\\left(\\begin{array}{l}a_{1} \\\\ a_{2} \\\\ a_{3}\\end{array}\\right)$\n",
        "\n",
        "Bra: $\\langle\\Psi^*| = (a{_1}^*, a{_2}^*, a{_3}^*)$\n",
        "\n",
        "Bra-Ket: $(a{_1}^*a_1 + a{_2}^*a_2 + a{_2}^*a_2)$"
      ]
    },
    {
      "cell_type": "markdown",
      "metadata": {
        "id": "LTI8NaRsRAU6"
      },
      "source": [
        "* With this bra-ket notation it's now very easy to write dot products = the **inner product between Bra and Ket which is $\\langle\\psi \\mid \\psi\\rangle$ = 1**, and it is normalized the result is 1(it's a particular way of writing the 2-norm when using complex inputs). \n",
        "\n",
        "* With the dot product of bra and ket you will get a **scalar as a result**, like total probability is 1, here for the coefficients (probability amplitudes):\n",
        "\n",
        "> $\\langle\\psi \\mid \\psi\\rangle = \\left|a_{0}\\right|^{2}+\\left|a_{1}\\right|^{2}= 1$\n",
        "\n",
        "> The Bra-Ket $\\langle\\psi \\mid \\psi\\rangle$  represents the inner product in the Hilbert space\n",
        "\n",
        "* **The probability to get ANY measurement outcome is equal to one, which means that the sum over the squared scalar products with all basis vectors has to be one. Which is just the length of the vector (all wave functions have length 1)**:\n",
        "\n",
        "> $1=a_{1} a_{1}^{*}+a_{2} a_{2}^{*}+a_{3} a_{3}^{*}=|\\langle \\Psi \\mid \\Psi\\rangle|^{2}$"
      ]
    },
    {
      "cell_type": "markdown",
      "metadata": {
        "id": "28ZYgNbTUds8"
      },
      "source": [
        "**Case 2: Inner product of two different vectors**:\n",
        "\n",
        "For example, the scalar product between two different vectors is the sum over the products of the coefficients \n",
        "\n",
        "(and be careful: the Bra vector $|\\Phi\\rangle$ has complex conjugates over its coefficients here):\n",
        "\n",
        "\n",
        "$|\\Psi\\rangle=\\left(\\begin{array}{l}a_{1} \\\\ a_{2} \\\\ a_{3}\\end{array}\\right)$\n",
        "\n",
        "$|\\Phi\\rangle=\\left(\\begin{array}{l}c_{1} \\\\ c_{2} \\\\ c_{3}\\end{array}\\right)$\n",
        "\n",
        "$\\langle\\Phi \\mid \\Psi\\rangle=a_{1} c_{1}^{*}+b, c_{2}^{*}+a_{3} c_{3}^{*}$ = a scalar"
      ]
    },
    {
      "cell_type": "markdown",
      "metadata": {
        "id": "-rsFgaBYjzXX"
      },
      "source": [
        "**Case 3: Inner product of two basis vectors**:\n",
        "\n",
        "And in that case of their pure basis it's zero, because these are two orthogonal vectors:\n",
        "\n",
        "> $\\langle 0 \\mid 1\\rangle=[1,0]\\left[\\begin{array}{l}0 \\\\ 1\\end{array}\\right] = 0$"
      ]
    },
    {
      "cell_type": "markdown",
      "metadata": {
        "id": "w9mIb4d3jXPm"
      },
      "source": [
        "https://www.youtube.com/watch?v=fIYIFCVICcA&t=61s"
      ]
    },
    {
      "cell_type": "markdown",
      "metadata": {
        "id": "m1CRyEEMpKAh"
      },
      "source": [
        "https://towardsdatascience.com/do-you-struggle-with-the-quantum-superposition-86d0f2147bfb"
      ]
    },
    {
      "cell_type": "markdown",
      "metadata": {
        "id": "QbX8G_SKTW06"
      },
      "source": [
        "###### **<font color=\"blue\">Ket-Bra $\\hat{\\rho}$</font> (Outer Product, Density Matrix, Mixed States & Decoherence)**"
      ]
    },
    {
      "cell_type": "markdown",
      "metadata": {
        "id": "HWAvARAnenVl"
      },
      "source": [
        "**Ket-Bra = Density Matrix: You need it to understand decoherence**\n",
        "\n",
        "> $\\mid \\Psi X \\Psi\\mid =\\left(\\begin{array}{lll}a_{1} a_{1}^{*} & a_{1} a_{2}^{*} & a_{1} a_{3}^{*} \\\\ a_{2} a_{1}^{*} & a_{2} a_{2}^{*} & a_{2} a_{3}^{*} \\\\ a_{3} a_{1}^{*} & a_{3} a_{2}^{*} & a_{3} a_{3}^{*}\\end{array}\\right)$"
      ]
    },
    {
      "cell_type": "markdown",
      "metadata": {
        "id": "2JYkz7MggCCw"
      },
      "source": [
        "Decoherence: https://www.youtube.com/watch?v=igsuIuI_HAQ"
      ]
    },
    {
      "cell_type": "markdown",
      "metadata": {
        "id": "eACrJ2znLwNE"
      },
      "source": [
        "**Wave function notation to describe superposition of Pure States**"
      ]
    },
    {
      "cell_type": "markdown",
      "metadata": {
        "id": "-TYgLBnP5snV"
      },
      "source": [
        "* Spin up or spin down = **pure states**, can be written as a single wave function $\\mid \\psi\\rangle$\n",
        "\n",
        "* instead of using bra and ket notation to represent the particle's possible spin states, we will now use vectors, for example spin up = $|\\psi\\rangle=\\left(\\begin{array}{l}1 \\\\ 0\\end{array}\\right)$ and spin down = $|\\psi\\rangle=\\left(\\begin{array}{l}0 \\\\ 1\\end{array}\\right)$\n",
        "\n",
        "* a superposition would look like this: $|\\psi\\rangle=\\frac{1}{\\sqrt{2}}\\left(\\begin{array}{l}1 \\\\ 0\\end{array}\\right)+\\frac{1}{\\sqrt{2}}\\left(\\begin{array}{l}0 \\\\ 1\\end{array}\\right)$\n",
        "\n",
        "\n",
        "* this is still a pure state as a single vector: $|\\psi\\rangle=\\left(\\begin{array}{l}1 / \\sqrt{2} \\\\ 1 / \\sqrt{2} \\end{array}\\right)$\n",
        "\n",
        "\n"
      ]
    },
    {
      "cell_type": "markdown",
      "metadata": {
        "id": "aDbVVZ8CQaRQ"
      },
      "source": [
        "**Density Matrix for Mixed States**"
      ]
    },
    {
      "cell_type": "markdown",
      "metadata": {
        "id": "BNaYgpSDQMmg"
      },
      "source": [
        "* **Mixed state**: lack of information about the system, hence for example giving equal probability to each possible outcome.\n",
        "\n",
        "* **When dealing with a mixed state we need to represent it with what's known as a density operator or density matrix**.\n",
        "\n",
        "* Wave function notation $|\\psi\\rangle$ can only be used to describe pure states. But density matrices $|\\psi\\rangle\\langle\\psi|$ can be used to describe mixed and pure states.\n",
        "\n",
        "* and how do we get the density matrix? - Take the column vector, turn it into a row vector, and then multiply them both:\n",
        "\n",
        "> $(\\hat{\\rho})$ $=\\left(\\begin{array}{l}1 \\\\ 0\\end{array}\\right) \\times\\left(\\begin{array}{ll}1 & 0\\end{array}\\right)$ = $\\left(\\begin{array}{ll}1 & 0 \\\\ 0 & 0\\end{array}\\right)$"
      ]
    },
    {
      "cell_type": "markdown",
      "metadata": {
        "id": "4sbrbwwVRLrg"
      },
      "source": [
        "On top of that you can even add several mixed states to get one final mixed states. Mixed state: our knowledge of the system is limited. It could be either one of multiple psi states. \n",
        "\n",
        "* Image 1: We have to add up the density matrices of each possible spin state whilst making sure that we weight it with the probability of it being in that psi state\n",
        "\n",
        "* Image 2: That would give us the final density matrix, which is the mixture in the mixed state. \n",
        "\n",
        "* Image 3: it is for this reason that there is no way to write a mixed state as a single wave function or a single vector. We have to deal with matrices that represent the different pure states in which our system could be. And each of these density matrices has to be weighted by how likely it is that our system is on that pure that."
      ]
    },
    {
      "cell_type": "markdown",
      "metadata": {
        "id": "fMslW1ms-4vT"
      },
      "source": [
        "![geometry](https://raw.githubusercontent.com/deltorobarba/repo/master/quantum_006a.png)"
      ]
    },
    {
      "cell_type": "markdown",
      "metadata": {
        "id": "tReGBYVQBd2-"
      },
      "source": [
        "See als https://en.m.wikipedia.org/wiki/Quantum_state#Mixed_states \n",
        "\n",
        "and https://en.m.wikipedia.org/wiki/Density_matrix"
      ]
    },
    {
      "cell_type": "markdown",
      "metadata": {
        "id": "oFJ8OCn8_Der"
      },
      "source": [
        "\n",
        "Parth G: https://www.youtube.com/watch?v=ZAOc4eMTQiw"
      ]
    },
    {
      "cell_type": "markdown",
      "metadata": {
        "id": "aALAjQGEMvhl"
      },
      "source": [
        "And also prof m: https://www.youtube.com/watch?v=LR5kfhrs4Cc"
      ]
    },
    {
      "cell_type": "markdown",
      "metadata": {
        "id": "ibWnEVWoTtqd"
      },
      "source": [
        "![geometry](https://raw.githubusercontent.com/deltorobarba/repo/master/quantum_006.png)"
      ]
    },
    {
      "cell_type": "markdown",
      "metadata": {
        "id": "RVm2Y7YwXX87"
      },
      "source": [
        "* to talk about noise and how it affects quantum states, we have to introduce a bit more notation\n",
        "\n",
        "* **mixed states: factor in noise that affects today's quantum computers**\n",
        "\n",
        "* a ket is technically a pure quantum state\n",
        "\n",
        "* **a density matrix $\\rho$ is a ket and a bra: | $\\Phi$ >< $\\Phi$ | = | $\\Phi$ X $\\Phi$ |**\n",
        "\n",
        "* now we can rewrite every single operation that we would otherwise do in a ket in this new formalism. "
      ]
    },
    {
      "cell_type": "markdown",
      "metadata": {
        "id": "JWwIunpkSAFx"
      },
      "source": [
        "**Get Coherences from Eigenvalues in Trace of Mixed Matrices**"
      ]
    },
    {
      "cell_type": "markdown",
      "metadata": {
        "id": "gzBgrWYbofZZ"
      },
      "source": [
        "The coherent state describes a state in a system for which the ground-state wavepacket is displaced from the origin of the system. This state can be related to classical solutions by a particle oscillating with an amplitude equivalent to the displacement. \n",
        "\n",
        "**These coherent states are expressed as eigenvectors** of the lowering operator and forming an overcomplete family. "
      ]
    },
    {
      "cell_type": "markdown",
      "metadata": {
        "id": "_5CsYquI5eTF"
      },
      "source": [
        "* For example to get the probability of the outcome 0, \n",
        "\n",
        "\t* we apply the same projection | 0 X 0 | as we applied in a ket but this time we apply it on this Rho density $\\rho$\n",
        "\n",
        "\t* **And instead of the length of the vector, we take the trace of the matrix.** (Die Spur einer Matrix ist die Summe ihrer Eigenwerte)\n",
        "\n",
        "\t* so we apply the one matrix to the other matrix and the outcome is another matrix. Then we calculate the trace Tr of it which is the sum of its diagonal elements\n",
        "\n",
        "* **This way we can create probabilistic mixtures over pure states.** You can take a pure quantum state but you can create a classical probability distribution over them \"$\\sum$ p:\" (classical ignorance)\n",
        "\n",
        "* if you use this formalism now we can introduce noise, and start making these noisy imperfect quantum states.\n",
        "\n",
        "* you will get different outcomes, and the **off-diagonal elements** (Spur) are critical for many quantum operations, **sometimes also called coherences.** (Eigenvalues / Eigenvectors? https://en.m.wikipedia.org/wiki/Coherent_state)\n",
        "\n",
        "* the other than below is a maximally mixed state. It's the equivalent of a uniform distribution in classical probability theory. This means we have absolutely no predictive power of what's going to happen next. Etrnopy of this state is maximal. \n",
        "\n",
        "* but ideally we want a quantum states with a high coherence (like the other matrix above) but in reality noise affects these coherences disappear. Like in the maximally mixed state. "
      ]
    },
    {
      "cell_type": "markdown",
      "metadata": {
        "id": "E5iz0q5t5aQT"
      },
      "source": [
        "So let's have a look what happens if we measure individual qubits in a multi qubit system:\n",
        "\n",
        "* imagine we have the maximally entailed state over two qubits: see rest in video\n",
        "\n",
        "* partial trace: in multivariate probability distribution we can marginalize out one of our random variables. In a quantum system you do this by using the partial trace.\n",
        "\n",
        "\t* let's write our maximally entangled state as a density matrix, and it has strong coherences (0,5 everywhere in corners)\n",
        "\n",
        "\t* and you get the maximally mixed state at the end\n",
        "\n",
        "\t* this means if we marginalize out on one of the qubits in the system then we end up with a uniform distribution - we have absolutely no productive power of what is going to happen in that remaining quantum system"
      ]
    },
    {
      "cell_type": "markdown",
      "metadata": {
        "id": "Q3x3Q4IUTdX_"
      },
      "source": [
        "https://www.youtube.com/watch?v=BE8RxAESx5I&list=PLBn8lN0Dcvpla6a6omBni1rjyQJ4CssTP&index=46"
      ]
    },
    {
      "cell_type": "markdown",
      "metadata": {
        "id": "fvSvQ1RU-Dml"
      },
      "source": [
        "###### **<font color=\"blue\">Qumodes, Qudits and Qutrits</font>**"
      ]
    },
    {
      "cell_type": "markdown",
      "metadata": {
        "id": "XjZNNB0TaQbK"
      },
      "source": [
        "**<font color=\"blue\">Qumodes</font>**"
      ]
    },
    {
      "cell_type": "markdown",
      "metadata": {
        "id": "1DlZq9XiLa7i"
      },
      "source": [
        "(CV systems / continuous spectra in infinite-dimensional Hilbert space)"
      ]
    },
    {
      "cell_type": "markdown",
      "metadata": {
        "id": "gggOH9nRaYSH"
      },
      "source": [
        "https://strawberryfields.ai/photonics/concepts/photonics.html"
      ]
    },
    {
      "cell_type": "markdown",
      "metadata": {
        "id": "TlkbyF8w7kF9"
      },
      "source": [
        "**<font color=\"blue\">Qudits and Qutrits</font>**"
      ]
    },
    {
      "cell_type": "markdown",
      "metadata": {
        "id": "SdOUOtCB7xcA"
      },
      "source": [
        "https://en.m.wikipedia.org/wiki/Qutrit"
      ]
    },
    {
      "cell_type": "markdown",
      "metadata": {
        "id": "6GDZWYx-7pkd"
      },
      "source": [
        "https://en.m.wikipedia.org/wiki/Qubit#Qudits_and_qutrits"
      ]
    },
    {
      "cell_type": "markdown",
      "metadata": {
        "id": "Al6iOYrFH7zR"
      },
      "source": [
        "###### **<font color=\"blue\">Quantum Error Correction, Decoherence & Noise</font>**"
      ]
    },
    {
      "cell_type": "markdown",
      "metadata": {
        "id": "SdODHc_sR6SS"
      },
      "source": [
        "Quantum computers are much more susceptible to errors than classical computers due to decoherence and noise. The threshold theorem states that a noisy quantum computer can use quantum error-correcting codes to simulate a noiseless quantum computer assuming the error introduced in each computer cycle is less than some number. Numerical simulations suggest that that number may be as high as 3%. However, it is not yet definitively known how the resources needed for error correction will scale with the number of qubits. Skeptics point to the unknown behavior of noise in scaled-up quantum systems as a potential roadblock for successfully implementing quantum computing and demonstrating quantum supremacy."
      ]
    },
    {
      "cell_type": "markdown",
      "metadata": {
        "id": "NyTWu-cGIHTc"
      },
      "source": [
        "https://en.m.wikipedia.org/wiki/Quantum_error_correction"
      ]
    },
    {
      "cell_type": "markdown",
      "metadata": {
        "id": "0SG2sdkmRtsI"
      },
      "source": [
        "https://en.m.wikipedia.org/wiki/Quantum_decoherence"
      ]
    },
    {
      "cell_type": "markdown",
      "metadata": {
        "id": "2p6Anz_qRwCH"
      },
      "source": [
        "https://en.m.wikipedia.org/wiki/Noise_(electronics)"
      ]
    },
    {
      "cell_type": "markdown",
      "metadata": {
        "id": "3OtqmX4xRzDk"
      },
      "source": [
        "https://en.m.wikipedia.org/wiki/Quantum_threshold_theorem"
      ]
    },
    {
      "cell_type": "markdown",
      "metadata": {
        "id": "mXgnLYX-FpXa"
      },
      "source": [
        "#### **Quantum Measurement**"
      ]
    },
    {
      "cell_type": "markdown",
      "metadata": {
        "id": "z06mwyF1Tsw8"
      },
      "source": [
        "> A measurement is defined as the application of an operator (simply a matrix multiplication) on the wave function. The operator however changes the original state |Ψ⟩ of the quantum system, so we will get a different value if we measure it again. Imagine determining the position of an electron, the electron has hit a surface or is struck by a photon, both of which changes its momentum therefore its original wave function. This is one of the fundamental postulates of quantum mechanics.\n"
      ]
    },
    {
      "cell_type": "markdown",
      "metadata": {
        "id": "2dHW2dfQCaXG"
      },
      "source": [
        "Measurement in quantum mechanics: https://en.m.wikipedia.org/wiki/Measurement_in_quantum_mechanics"
      ]
    },
    {
      "cell_type": "markdown",
      "metadata": {
        "id": "hERMPNPODC6T"
      },
      "source": [
        "\n",
        "\n",
        "---\n",
        "\n"
      ]
    },
    {
      "cell_type": "markdown",
      "metadata": {
        "id": "-cGLowwQI7jh"
      },
      "source": [
        "https://en.m.wikipedia.org/wiki/Measurement_problem"
      ]
    },
    {
      "cell_type": "markdown",
      "metadata": {
        "id": "O_1EP1gCgcvW"
      },
      "source": [
        "**Measurement ('collapse of the wavefunction')**\n",
        "\n",
        "* When you measure, the wave function collapses and you get one clear value. **<u>It's the absolute value squared like |$a_0$|$^2$ that gives you the probability</u> = collapse of the wave function**. \n",
        "\n",
        "* Outcome for example zero with the absolute value of zero squared. Then you know the state is in the zero state = collapse of the wave function\n",
        "\n",
        "* Quantum state is also called a wave function: once you pull out a sample of the distribution and you get an outcome, you make an observation then you get a deterministic state afterwards of the random outcome."
      ]
    },
    {
      "cell_type": "markdown",
      "metadata": {
        "id": "KqFzG3j7ZUTJ"
      },
      "source": [
        "**The probability to get ANY measurement outcome is equal to one, which means that the sum over the squared scalar products with all basis vectors has to be one. Which is just the length of the vector (all wave functions have length 1)**:\n",
        "\n",
        "> $1=a_{1} a_{1}^{*}+a_{2} a_{2}^{*}+a_{3} a_{3}^{*}=|\\langle \\Psi \\mid \\Psi\\rangle|^{2}$\n",
        "\n",
        "where $\\mid \\Psi\\rangle$ is the wavefunction of the probability superposition, then multiplied with itself, which gives length 1."
      ]
    },
    {
      "cell_type": "markdown",
      "metadata": {
        "id": "0R3bDgUAZye6"
      },
      "source": [
        "**The probability of a particular measurement is then the absolute square of the scalar product with the basis vector that corresponds to the outcome (probability of measuring $X$ is). This is <u>Born's Rule</u>. This scalar product of the wave function with a basis vector is also sometimes called a <u>projection</u> on that basis vector:**\n",
        "\n",
        "> $|\\langle X \\mid \\Psi\\rangle|^{2}=a_{1} a_{1}^{*}$\n",
        "\n",
        "where $\\mid \\Psi\\rangle$ is the wavefunction of the probability superposition and $\\langle X \\mid$ is the basis vector of one outcome."
      ]
    },
    {
      "cell_type": "markdown",
      "metadata": {
        "id": "FPX_Cp73rRwU"
      },
      "source": [
        "**Later comes this part (how to connect?)**\n",
        "\n",
        "> $|0\\rangle\\langle 0| =$ $\\left[\\begin{array}{l}1 \\\\ 0\\end{array}\\right]\\left[\\begin{array}{ll}1 & 0\\end{array}\\right]=\\left[\\begin{array}{ll}1 & 0 \\\\ 0 & 0\\end{array}\\right]$\n",
        "\n",
        "*A measurement outcome is actually a projection (to the first basis vector)*\n",
        "\n",
        "* So if we want to model that we get the outcome 0, then we take the corresponding projection | 0 X 0 | and we apply it on the quantum state: | 0 X 0 | $\\Phi$> . \n",
        "\n",
        "* this is how you pull out samples from a quantum state and how you apply measurement to this particular probability distribution"
      ]
    },
    {
      "cell_type": "markdown",
      "metadata": {
        "id": "BHBqAboRbG5j"
      },
      "source": [
        "It’s called a projection because it’s the length you get if you project the full wave-function on the direction that corresponds to the basis vector. Like a vector casting a shadow (in blue)\n",
        "\n",
        "![geometry](https://raw.githubusercontent.com/deltorobarba/repo/master/quantum_015.png)"
      ]
    },
    {
      "cell_type": "markdown",
      "metadata": {
        "id": "uJJA9NI8cVwJ"
      },
      "source": [
        "The whole issue with the measurement in quantum mechanics is now that once you do a measurement, and you have projected th wave-function onto one of the basis vectors, then its length will no longer be equal to one because the probability of getting this particular measurement outcome may have been smaller than 1. \n",
        "\n",
        "But, once you have measured the state, it is with probability 1 in one of the basis vectors. So then you have to choose the measurement outcome that you actually fund and stretch the length of the vector back to 1. This is what is called the <u>measurement update</u> (look how the blue vector got longer!)\n",
        "\n",
        "![geometry](https://raw.githubusercontent.com/deltorobarba/repo/master/quantum_016.png)"
      ]
    },
    {
      "cell_type": "markdown",
      "metadata": {
        "id": "AsAmVnHQbiyN"
      },
      "source": [
        "https://www.youtube.com/watch?v=ctXDXABJRtg"
      ]
    },
    {
      "cell_type": "markdown",
      "metadata": {
        "id": "d52Hry6hYoKF"
      },
      "source": [
        "Remember, you have an (orthonormal) basis with 3 vectors and coefficients, to describe a vector in space (in Hilbert space):\n",
        "\n",
        "> $\\vec{v}=$<font color='blue'>$2$</font>$\\left(\\begin{array}{l}1 \\\\ 0 \\\\ 0\\end{array}\\right)$<font color='blue'>$+3$</font>$\\left(\\begin{array}{l}0 \\\\ 1 \\\\ 0\\end{array}\\right)$<font color='blue'>$+0$</font>$\\left(\\begin{array}{l}0 \\\\ 0 \\\\ 1\\end{array}\\right)$\n",
        "\n",
        "And the coefficients can be collected in one vector and are copmplex numbers:\n",
        "\n",
        "> $\\vec{v}=$<font color='blue'>$\\left(\\begin{array}{l}2 \\\\ 3 \\\\ 0\\end{array}\\right)$</font>\n",
        "\n",
        "**Or written formally**:\n",
        "\n",
        "> $|\\Psi\\rangle=a_{1}\\left(\\begin{array}{l}1 \\\\ 0 \\\\ 0\\end{array}\\right)+{a_{2}}\\left(\\begin{array}{l}0 \\\\ 1 \\\\ 0\\end{array}\\right)+a_{3}\\left(\\begin{array}{l}0 \\\\ 0 \\\\ 1\\end{array}\\right)$\n",
        "\n",
        "> $|\\Psi\\rangle=\\left(\\begin{array}{l}a_{1} \\\\ a_{2} \\\\ a_{3}\\end{array}\\right)$\n",
        "\n",
        "\n",
        "Where basis vectors $X, Y, Z$ correspond to possibe measurement outcomes:\n",
        "\n",
        "> $|\\Psi\\rangle=a_{1} |X\\rangle +a_{2} |Y\\rangle + a_{3} |Z\\rangle$\n"
      ]
    },
    {
      "cell_type": "markdown",
      "metadata": {
        "id": "kHDmRMQ0vYqh"
      },
      "source": [
        "**Collapse of the wave function**\n",
        "\n",
        "* when we measure it, will only be 100% in one of the two states\n",
        "\n",
        "> $|\\uparrow\\rangle \\quad \\text{OR} \\quad |\\downarrow\\rangle$\n",
        "\n",
        "* the coefficients $\\alpha$ and $\\beta$ are directly linked to the **probability** finding each one after a measurement\n",
        "\n",
        "* This probability is for each state actually absolute value squared: $(|\\alpha|)^2$\n",
        "\n",
        "* we can only predict the probability of an outcome of a measurement, not knowing for sure what will happen"
      ]
    },
    {
      "cell_type": "markdown",
      "metadata": {
        "id": "-1E3GVo-xn15"
      },
      "source": [
        "**Vectors**\n",
        "\n",
        "* this measurement (=electron with spin up or spin down) can be also thought of **as a vector in an abstract space (Hilbert space)**\n",
        "\n",
        "* the two possible outcomes are orthogonal vectors in this space - it's an abstract mathematical space. the two outcomes are not really orthogonally pointed\n",
        "\n",
        "* the inner product between two states is = 0, because they are orthogonal to each other\n",
        "\n",
        "> $\\langle \\uparrow \\mid \\downarrow \\rangle =  0$\n",
        "\n",
        "* in the superposition, as a vector it is a **linear combination** of both states (some amount of spin up PLUS some amount of spin down)\n"
      ]
    },
    {
      "cell_type": "markdown",
      "metadata": {
        "id": "1igh_3RbNYbc"
      },
      "source": [
        "See also: https://en.m.wikipedia.org/wiki/Born_rule"
      ]
    },
    {
      "cell_type": "markdown",
      "metadata": {
        "id": "xZKnO1Baz_OT"
      },
      "source": [
        "![geometry](https://raw.githubusercontent.com/deltorobarba/repo/master/quantum_003b.png)"
      ]
    },
    {
      "cell_type": "markdown",
      "metadata": {
        "id": "kwr5zndW1yET"
      },
      "source": [
        "**Interference:** \n",
        "\n",
        "* we cannot do on classical computers. While different vectors and coefficients interact in calculations. \n",
        "\n",
        "* There is an operator (as a matrix in the image) that transforms the zero-ket into the equal superposition of the zero-ket and the one-ket. \n",
        "\n",
        "* if I take this outcome and apply the same operator on it again, something interesting happens (it's a linear operator btw): results cancel out and you get a deterministic outcome by applying the operator again. \n",
        "  \n",
        "* This is an example of intereference. The probability amplitudes of the zero ket destructively interfere; they vanish for the superposition. "
      ]
    },
    {
      "cell_type": "markdown",
      "metadata": {
        "id": "weHKGn1DtC3-"
      },
      "source": [
        "https://www.youtube.com/watch?v=Y5WRv_9757A&list=PLBn8lN0Dcvpla6a6omBni1rjyQJ4CssTP&index=43"
      ]
    },
    {
      "cell_type": "markdown",
      "metadata": {
        "id": "tOJrnodZ2AJ5"
      },
      "source": [
        "https://www.youtube.com/watch?v=payp7simhBM"
      ]
    },
    {
      "cell_type": "markdown",
      "metadata": {
        "id": "GN32DC3rwxMN"
      },
      "source": [
        "**Born rule**"
      ]
    },
    {
      "cell_type": "markdown",
      "metadata": {
        "id": "g5C4ycm1xLaw"
      },
      "source": [
        "![geometry](https://raw.githubusercontent.com/deltorobarba/repo/master/quantum_005.png)"
      ]
    },
    {
      "cell_type": "markdown",
      "metadata": {
        "id": "rD0zqJ-Aw0D6"
      },
      "source": [
        "https://www.youtube.com/watch?v=aVFe08G0uYk&list=PLBn8lN0Dcvpla6a6omBni1rjyQJ4CssTP&index=45"
      ]
    },
    {
      "cell_type": "markdown",
      "metadata": {
        "id": "rIMlLhynTUvk"
      },
      "source": [
        "\n",
        "\n",
        "\n",
        "* the other way around ket-bra would give you a **matrix as a result** (So order makes a big difference). This is nothing else than the projection to this partially basis vector.\n",
        "\n",
        "> $|0\\rangle\\langle 0| =$ $\\left[\\begin{array}{l}1 \\\\ 0\\end{array}\\right]\\left[\\begin{array}{ll}1 & 0\\end{array}\\right]=\\left[\\begin{array}{ll}1 & 0 \\\\ 0 & 0\\end{array}\\right]$\n",
        "\n",
        "https://www.mathpages.com/home/kmath638/kmath638.htm\n",
        "\n",
        "\n",
        "\n"
      ]
    },
    {
      "cell_type": "markdown",
      "metadata": {
        "id": "AW31S4IPGYLo"
      },
      "source": [
        "**The matrix is nothing else but the projection to the particular basis vector $|0\\rangle\\langle 0|$**\n",
        "\n",
        "* Measurements are very similar to random variables in classical probability. \n",
        "\n",
        "* the state afterwards becomes the zero ket\n",
        "\n",
        "* Measurements take measurement outcomes, this will be always random\n",
        "* Born rule: you get some outcome zero of a qubit state with probability |a0|2\n",
        "* The state afterwards becomes the zero ket |0>\n",
        "* So the superposition is destroyed , and you only get one part of the superposition\n",
        "* It is random which part you get with a certain probability = collapse of the wave function\n",
        "* The way we write it down is actually with the formalism from before (ket bra multiplication)\n",
        "\n",
        "**A measurement outcome is actually a projection (to the first basis vector)**\n",
        "\n",
        "* So if we want to model that we get the outcome 0, then we take the corresponding projection | 0 X 0 | and we apply it on the quantum state: | 0 X 0 | $\\Phi$> . \n",
        "\n",
        "* this is how you pull out samples from a quantum state and how you apply measurement to this particular probability distribution\n",
        "\n"
      ]
    },
    {
      "cell_type": "markdown",
      "metadata": {
        "id": "dHS0ZYlL1cD6"
      },
      "source": [
        "See also: https://en.m.wikipedia.org/wiki/Measurement_in_quantum_mechanics"
      ]
    },
    {
      "cell_type": "markdown",
      "metadata": {
        "id": "KcsUJNJYPcsA"
      },
      "source": [
        "**<font color=\"blue\">Entangled state</font>**"
      ]
    },
    {
      "cell_type": "markdown",
      "metadata": {
        "id": "cUwojaTQuYA3"
      },
      "source": [
        "\n",
        "\n",
        "* **these were called product states**, but there are also states which cannot be written in this form even though they live in the same space \n",
        "\n",
        "* One example is the Phi plus state | $\\Phi^+$ >, it's an equal super position of two basis vectors zero/zero and one/one. But cannot be written as a product vector: you get a results in an **entangled state**. "
      ]
    },
    {
      "cell_type": "markdown",
      "metadata": {
        "id": "InzOQGIjtGtA"
      },
      "source": [
        "https://www.youtube.com/watch?v=bNCC0YMLHuk&list=PLBn8lN0Dcvpla6a6omBni1rjyQJ4CssTP&index=44"
      ]
    },
    {
      "cell_type": "markdown",
      "metadata": {
        "id": "jWk-hx1ltRSU"
      },
      "source": [
        "**<font color=\"blue\">Quantum Measurement**</font>"
      ]
    },
    {
      "cell_type": "markdown",
      "metadata": {
        "id": "fjCQwwx60m0X"
      },
      "source": [
        "* quantum computations are probabilistic."
      ]
    },
    {
      "cell_type": "markdown",
      "metadata": {
        "id": "YYHX9kr-yKEd"
      },
      "source": [
        "[Measurement](https://en.m.wikipedia.org/wiki/Quantum_logic_gate#Measurement) (sometimes called observation) bzw. [Measurement_in_quantum_mechanics](https://en.m.wikipedia.org/wiki/Measurement_in_quantum_mechanics) is irreversible and therefore not a quantum gate, because it assigns the observed quantum state to a single value. Measurement takes a quantum state and projects it to one of the basis vectors, with a likelihood equal to the square of the vector's depth (the norm is the modulus squared) along that basis vector. This is known as the Born rule and appears as a stochastic non-reversible operation as it probabilistically sets the quantum state equal to the basis vector that represents the measured state (the state \"collapses\" to a definite single value). Why and how, or even if the quantum state collapses at measurement, is called the measurement problem."
      ]
    },
    {
      "cell_type": "markdown",
      "metadata": {
        "id": "S2aDszDFzgGV"
      },
      "source": [
        "> The probability of measuring a value with probability amplitude $\\phi$ is $1 \\geq|\\phi|^{2} \\geq 0$, where $|\\cdot|$ is the [modulus](https://en.m.wikipedia.org/wiki/Absolute_value#Complex_numbers)."
      ]
    },
    {
      "cell_type": "markdown",
      "metadata": {
        "id": "5UpTKq12tUAs"
      },
      "source": [
        "**The effect of measurement on entangled states**"
      ]
    },
    {
      "cell_type": "markdown",
      "metadata": {
        "id": "nJ-nECSctVaQ"
      },
      "source": [
        "**Measurement on registers with pairwise entangled qubits**"
      ]
    },
    {
      "cell_type": "markdown",
      "metadata": {
        "id": "pNpbfhdu-Igg"
      },
      "source": [
        "#### **Operators**"
      ]
    },
    {
      "cell_type": "markdown",
      "metadata": {
        "id": "5e-t6qFuRWla"
      },
      "source": [
        "https://en.m.wikipedia.org/wiki/Symmetry_(physics)"
      ]
    },
    {
      "cell_type": "markdown",
      "metadata": {
        "id": "wYsD8n3CMWIR"
      },
      "source": [
        "###### **<font color=\"blue\">Mathematical Formulation of Quantum Mechanics</font>**"
      ]
    },
    {
      "cell_type": "markdown",
      "metadata": {
        "id": "iVxiWITZf_Io"
      },
      "source": [
        "https://de.m.wikipedia.org/wiki/Mathematische_Struktur_der_Quantenmechanik"
      ]
    },
    {
      "cell_type": "markdown",
      "metadata": {
        "id": "DtLq1-MOMeWf"
      },
      "source": [
        "https://en.m.wikipedia.org/wiki/Mathematical_formulation_of_quantum_mechanics"
      ]
    },
    {
      "cell_type": "markdown",
      "metadata": {
        "id": "yOJWU_kH7180"
      },
      "source": [
        "*Postulate der Quantenmechanik (Kopenhagener Interpretation)*"
      ]
    },
    {
      "cell_type": "markdown",
      "metadata": {
        "id": "MKKG0DSv8FhZ"
      },
      "source": [
        "1. Zustand: Der Zustand eines physikalischen Systems zu einem Zeitpunkt $t_{0}$ wird durch die Angabe eines zum Zustandsraum $\\mathcal{H}$ gehörenden komplexen Zustandsvektors $\\left|\\psi\\left(t_{0}\\right)\\right\\rangle$ definiert. Vektoren, die sich nur um einen von 0 verschiedenen Faktor $c \\in \\mathbb{C}$ unterscheiden, beschreiben denselben Zustand. Der Zustandsraum des Systems ist ein Hilbertraum.\n",
        "\n",
        "2. Observable: Jede Größe $A$, die physikalisch , gemessen\" werden kann, ist durch einen im Zustandsraum wirkenden hermiteschen Operator $\\hat{A}$ beschrieben. Dieser Operator wird als Observable bezeichnet und hat ein reelles Spektrum mit einer vollständigen sogenannten Spektralschar, bestehend aus einem , diskreten\" Anteil mit Eigenvektoren und Eigenwerten (Punktspektrum) und aus einem Kontinuum.\n",
        "\n",
        "3. Messresultat: Resultat der Messung einer physikalischen Größe $A$ kann nur einer der Eigenwerte der entsprechenden Observablen $\\hat{A}$ sein oder bei kontinuierlichem Spektrum des Operators eine messbare Menge aus dem Kontinuum.\n",
        "\n",
        "4. Messwahrscheinlichkeit im Fall eines diskreten nichtentarteten Spektrums: Wenn die physikalische Größe $A$ an einem System im Zustand $|\\psi\\rangle$ gemessen wird, ist die Wahrscheinlichkeit $P\\left(a_{n}\\right)$, den nichtentarteten Eigenwert $a_{n}$ der entsprechenden Observable $\\hat{A}$ zu erhalten (mit dem zugehörigen Eigenvektor $\\left|u_{n}\\right\\rangle$ ) $P\\left(a_{n}\\right)=\\left|\\left\\langle u_{n} \\mid \\psi\\right\\rangle\\right|^{2}$. Dabei seien $\\psi$ und $u_{n}$ normiert.\n",
        "\n",
        "5. Die Zeitentwicklung des Zustandsvektors $|\\psi(t)\\rangle$ ist gegeben durch die folgende Schrödingergleichung, wobei $\\hat{H}(t)$ die der totalen Energie des Systems zugeordnete Observable ist:\n",
        "\n",
        ">$\\mathrm{i} \\hbar \\frac{\\partial}{\\partial t}|\\psi(t)\\rangle=\\hat{H}(t)|\\psi(t)\\rangle$"
      ]
    },
    {
      "cell_type": "markdown",
      "metadata": {
        "id": "JJ-t1PwHfh5Y"
      },
      "source": [
        "###### <font color=\"blue\">**Observable, Operator, Spektrum & Commutator**</font>"
      ]
    },
    {
      "cell_type": "markdown",
      "metadata": {
        "id": "lxskNK5i31kq"
      },
      "source": [
        "**Observable**\n",
        "\n",
        "* [**Observables**](https://de.m.wikipedia.org/wiki/Observable) are any quantity which can be measured in a physical experiment (energy, spin, impulse, position)"
      ]
    },
    {
      "cell_type": "markdown",
      "metadata": {
        "id": "ZyGtn6s_34mF"
      },
      "source": [
        "**Operator**\n",
        "\n",
        "* Any observable should be associated with a **self-adjoint linear operator** (=hermetian, means symmetric, conjugated + transposed). \n",
        "\n",
        "* The mathematical formulation of quantum mechanics (QM) is built upon the concept of an operator.\n",
        "\n",
        "* Physical pure states in quantum mechanics are represented as unit-norm vectors (probabilities are normalized to one) in a special complex Hilbert space. Time evolution in this vector space is given by the application of the evolution operator.\n",
        "\n",
        "* Any observable, i.e., any quantity which can be measured in a physical experiment, should be associated with a self-adjoint linear operator. \n",
        "\n",
        "* **The operators must yield real eigenvalues, since they are values which may come up as the result of the experiment**. Mathematically this means the operators must be Hermitian. \n",
        "\n",
        "* The probability of each eigenvalue is related to the projection of the physical state on the subspace related to that eigenvalue. \n",
        "\n",
        "* In the wave mechanics formulation of QM, the wavefunction varies with space and time, or equivalently momentum and time (see position and momentum space for details), so observables are differential operators.\n",
        "\n",
        "* In the matrix mechanics formulation, the norm of the physical state should stay fixed, so the evolution operator should be unitary, and the operators can be represented as matrices. Any other symmetry, mapping a physical state into another, should keep this restriction.\n",
        "\n",
        "* [Operators_in_quantum_mechanics](https://en.m.wikipedia.org/wiki/Operator_(physics)#Operators_in_quantum_mechanics)"
      ]
    },
    {
      "cell_type": "markdown",
      "metadata": {
        "id": "F4rvRNeJ5pWS"
      },
      "source": [
        "**Hermitian operators (Self-adjoint operator)**\n",
        "\n",
        "* [Main article: Self-adjoint operator](https://en.m.wikipedia.org/wiki/Self-adjoint_operator)\n",
        "\n",
        "* The definition of a Hermitian operator is:\n",
        "\n",
        ">$\n",
        "\\hat{A}=\\hat{A}^{\\dagger}\n",
        "$\n",
        "\n",
        "Following from this, in bra-ket notation:\n",
        "\n",
        ">$\n",
        "\\left\\langle\\phi_{i}|\\hat{A}| \\phi_{j}\\right\\rangle=\\left\\langle\\phi_{j}|\\hat{A}| \\phi_{i}\\right\\rangle^{*}\n",
        "$\n",
        "\n",
        "Important properties of Hermitian operators include:\n",
        "- real eigenvalues,\n",
        "- eigenvectors with different eigenvalues are orthogonal,\n",
        "- eigenvectors can be chosen to be a complete orthonormal basis,"
      ]
    },
    {
      "cell_type": "markdown",
      "metadata": {
        "id": "irA3G5ur37nu"
      },
      "source": [
        "**Spektrum & Eigenvalues**\n",
        "\n",
        "* The operators must yield real **eigenvalues**, since they are values which may come up as the result of the experiment. Mathematically this means the operators must be Hermitian.\n",
        "\n",
        "* The probability of each eigenvalue is related to the projection of the physical state on the subspace related to that eigenvalue.\n",
        "\n",
        "> Spektrum: Bereich der möglichen Messwerte\n",
        "\n",
        "* Eigenvalues = stabile Energielevel\n",
        "\n",
        "* For every problem there is a different hamiltonian and a different corresponding Eigenspectrum \n",
        "\n",
        "\n",
        "* Die jeweils möglichen Messwerte n bilden das Spektrum der Observablen. Sie können sowohl diskret als auch kontinuierlich verteilt sein. Im diskreten Fall werden sie Eigenwerte der Observablen genannt. **Meist wird der Einfachheit halber angenommen, dass das Spektrum rein diskret ist, obwohl wichtige Observable existieren, deren Spektrum rein-kontinuierlich ist (zum Beispiel Orts- und Impulsoperator).**\n",
        "\n",
        "> Die zu den Eigenwerten zugehörigen Zustände $|n\\rangle$ werden als **Eigenzustände** der Observablen bezeichnet. Bei kontinuierlichem Spektrum spricht man von verallgemeinerten **Eigenfunktionen**. Dabei handelt es sich um **Distributionen** wie die Dirac-Funktion.\n",
        "\n",
        "* [Eigenwerte](https://de.m.wikipedia.org/wiki/Eigenwertproblem) spielen in der Quantenmechanik eine besondere Rolle. Physikalische Größen wie z. B. der Drehimpuls werden hier durch Operatoren repräsentiert. \n",
        "\n",
        "  * Messbar sind nur die Eigenwerte der Operatoren. Hat z. B. der Hamiltonoperator, der die Energie eines quantenmechanischen Systems repräsentiert, ein diskretes Spektrum, so kann die Energie nur diskrete Werte annehmen, was z. B. für die Energieniveaus in einem Atom typisch ist. \n",
        "  \n",
        "  * **So stellen bei den Lösungen der bekannten Schrödingergleichung (im Jahr 1926 durch den Physiker Erwin Schrödinger aufgestellt) die Eigenwerte die erlaubten Energiewerte der Elektronen und die Eigenfunktionen die zugehörigen Wellenfunktionen der Elektronen dar.**\n",
        "\n",
        "  * Auch die Unmöglichkeit der gleichzeitigen präzisen Messung gewisser Größen (z. B. von Ort und Impuls), wie von der Heisenbergschen Unschärferelation ausgedrückt, ist letztlich darauf zurückzuführen, dass für die jeweiligen Operatoren kein gemeinsames System von Eigenvektoren existiert.\n",
        "\n"
      ]
    },
    {
      "cell_type": "markdown",
      "metadata": {
        "id": "5OgQtyq339n7"
      },
      "source": [
        "**Projection**\n",
        "\n",
        "* The probability of each eigenvalue is related to the [**(Hermetian) projection**](https://en.m.wikipedia.org/wiki/Projection_(linear_algebra)) of the physical state on the subspace related to that eigenvalue. See below for mathematical details about Hermitian operators."
      ]
    },
    {
      "cell_type": "markdown",
      "metadata": {
        "id": "q5JUoIkQ4A6g"
      },
      "source": [
        "**Position & Momentum**\n",
        "\n",
        "* In the [wave mechanics formulation of QM](https://en.m.wikipedia.org/wiki/Schrödinger_equation#Particles_as_waves), the wavefunction varies with space and time, or equivalently momentum and time (see [position and momentum space](https://en.m.wikipedia.org/wiki/Position_and_momentum_space) for details), so observables are [differential operators](https://en.m.wikipedia.org/wiki/Differential_operator).\n",
        "\n",
        "* In the [matrix mechanics](https://en.m.wikipedia.org/wiki/Matrix_mechanics) formulation, the norm of the physical state should stay fixed, so the evolution operator should be unitary, and the operators can be represented as matrices. Any other symmetry, mapping a physical state into another, should keep this restriction."
      ]
    },
    {
      "cell_type": "markdown",
      "metadata": {
        "id": "8PQrex_0jrq7"
      },
      "source": [
        "**Commutators & Anticommutators**\n",
        "\n",
        "* the [commutator](https://en.m.wikipedia.org/wiki/Commutator) gives an indication of the extent to which a certain binary operation fails to be commutative.\n",
        "\n",
        "* see also [commutator un quantum mechanics](https://en.m.wikipedia.org/wiki/Operator_(physics)#Commutation_of_operators_on_Ψ)\n",
        "\n",
        "* See [video](https://youtu.be/so1szjHu7jY)"
      ]
    },
    {
      "cell_type": "markdown",
      "metadata": {
        "id": "NcdHPOGxXCEL"
      },
      "source": [
        "**Eigenspectrum**"
      ]
    },
    {
      "cell_type": "markdown",
      "metadata": {
        "id": "MqylzC-5YZnT"
      },
      "source": [
        "* Eigenspectrum is a useful way of visualizing the different energy states that you can be in in the quantum annealing procedure (a graph)\n",
        "\n",
        "* lowest energy state on the bottom, and any higher excited states above it\n",
        "\n",
        "* in the middle where two energy lines are very close is called \"minimum gap\" / \"anticrossing\"\n",
        "\n",
        "* there are several mechanisms that allow the system to jump into a higher energy state: thermal energy / fluctuations or running annealing procedure to fast\n",
        "\n",
        "* you need to anneal slowly enough: adiabatic process\n",
        "\n",
        "* but for large problems, the probability of staying the lowest energy state if small (but still good as long as thei are lower than in classical techniques)"
      ]
    },
    {
      "cell_type": "markdown",
      "metadata": {
        "id": "nqcL6KiEXlJu"
      },
      "source": [
        "![geometry](https://raw.githubusercontent.com/deltorobarba/repo/master/quantum_009b.png)"
      ]
    },
    {
      "cell_type": "markdown",
      "metadata": {
        "id": "cFwUqVUEYao4"
      },
      "source": [
        "![geometry](https://raw.githubusercontent.com/deltorobarba/repo/master/quantum_009c.png)"
      ]
    },
    {
      "cell_type": "markdown",
      "metadata": {
        "id": "Z6879sh-Yu9D"
      },
      "source": [
        "For every problem there is a different hamiltonian and a different corresponding Eigenspectrum ! Hardest problem with smallest gaps:"
      ]
    },
    {
      "cell_type": "markdown",
      "metadata": {
        "id": "PUrfQvQyZHxL"
      },
      "source": [
        "![geometry](https://raw.githubusercontent.com/deltorobarba/repo/master/quantum_009d.png)"
      ]
    },
    {
      "cell_type": "markdown",
      "metadata": {
        "id": "6df4VnbjWqTB"
      },
      "source": [
        "https://www.youtube.com/watch?v=tnikftltqE0"
      ]
    },
    {
      "cell_type": "markdown",
      "metadata": {
        "id": "rl36-Dkq44wh"
      },
      "source": [
        "###### **<font color=\"blue\">General Operators $\\hat{A}$ and $\\hat{A}^{\\dagger}$</font>**"
      ]
    },
    {
      "cell_type": "markdown",
      "metadata": {
        "id": "LS64wr_HgGky"
      },
      "source": [
        "Quantum Operators and Commutators: https://www.youtube.com/watch?v=so1szjHu7jY&t=1s"
      ]
    },
    {
      "cell_type": "markdown",
      "metadata": {
        "id": "w-IsJdof42Kw"
      },
      "source": [
        "> $\\hat{A}=\\sum_{i j} A_{i j}\\left|u_{i}\\right\\rangle\\left\\langle u_{j}\\right| \\quad A_{i j}=\\left\\langle u_{i}|\\hat{A}| u_{j}\\right\\rangle$\n",
        "\n",
        "* An operator A can be written in the u basis as the sum over the outer products of the basis states \n",
        "* And the expansion coefficients Aij are given by the matrix elements of A with respect to the basis states\n",
        "* The expansion coefficients for an operator are labeled by 2 indices, so we will arrange them in a form of a square matrix, with the first index denoting the row of the matrix and the second index the column of the matrix\n",
        "* There operators are written as matrices\n",
        "\n",
        "> $\\left(\\begin{array}{ccccc}A_{11} & A_{12} & \\cdots & A_{1 j} & \\cdots \\\\ A_{21} & A_{22} & \\cdots & A_{2 j} & \\cdots \\\\ \\vdots & \\vdots & & \\vdots & \\\\ A_{i 1} & A_{i 2} & \\cdots & A_{i j} & \\cdots \\\\ \\vdots & \\vdots & & \\vdots & \\end{array}\\right)$\n"
      ]
    },
    {
      "cell_type": "markdown",
      "metadata": {
        "id": "Y_i6bVsi6tNb"
      },
      "source": [
        "![geometry](https://raw.githubusercontent.com/deltorobarba/repo/master/quantum_005a.png)"
      ]
    },
    {
      "cell_type": "markdown",
      "metadata": {
        "id": "24Jr24udDpFZ"
      },
      "source": [
        "https://youtu.be/wIwnb1ldYTI"
      ]
    },
    {
      "cell_type": "markdown",
      "metadata": {
        "id": "CWTUeok_2Mn3"
      },
      "source": [
        "###### **<font color=\"blue\">Unitärer Operator $T$</font>**"
      ]
    },
    {
      "cell_type": "markdown",
      "metadata": {
        "id": "NSyRQBYr1w2f"
      },
      "source": [
        "Ein [unitärer Operator](https://de.m.wikipedia.org/wiki/Unit%C3%A4rer_Operator) ist ein bijektiver linearer Operator $T: V \\rightarrow W$ zwischen zwei Hilberträumen\n",
        "\n",
        ">$\n",
        "\\begin{array}{l}\n",
        "\\left(V,\\langle\\cdot, \\cdot\\rangle_{V}\\right) \\text { und }\\left(W,\\langle\\cdot, \\cdot\\rangle_{W}\\right), \\text { sodass } \\\\\n",
        "\\langle T u, T v\\rangle_{W}=\\langle u, v\\rangle_{V}\n",
        "\\end{array}\n",
        "$\n",
        "\n",
        "für alle Vektoren $u, v \\in V$ gilt. Ein unitärer Operator ist demnach ein Isomorphismus $z$ wischen zwei Hilberträumen, der das Skalarprodukt erhält. Ein unitärer Operator zwischen zwei reellen Hilberträumen wird gelegentlich auch als orthogonaler Operator bezeichnet."
      ]
    },
    {
      "cell_type": "markdown",
      "metadata": {
        "id": "jYbMnbqB17-b"
      },
      "source": [
        "* Ein unitärer Operator ist in der Mathematik ein bijektiver linearer Operator zwischen zwei Hilberträumen, der das Skalarprodukt erhält. \n",
        "\n",
        "* Unitäre Operatoren sind damit spezielle orthogonale oder unitäre Abbildungen und stets normerhaltend, abstandserhaltend, beschränkt und, falls beide Hilberträume gleich sind, normal. \n",
        "\n",
        "* Der inverse Operator eines unitären Operators ist gleich seinem adjungierten Operator. Die Eigenwerte eines unitären Operators in einem Hilbertraum haben alle den Betrag eins. \n",
        "\n",
        "* Unitäre Operatoren zwischen endlichdimensionalen Vektorräumen gleicher Dimension können nach Wahl je einer Orthonormalbasis durch unitäre Matrizen dargestellt werden. \n",
        "\n",
        "* Wichtige Beispiele für unitäre Operatoren zwischen unendlichdimensionalen Funktionenräumen sind die Fouriertransformation und die Zeitentwicklungsoperatoren der Quantenmechanik.\n",
        "\n"
      ]
    },
    {
      "cell_type": "markdown",
      "metadata": {
        "id": "fydLRSLFdRx5"
      },
      "source": [
        "###### **<font color=\"blue\">Hamilton Operator $\\mathcal{H}$</font> (Classical Ising Model)**"
      ]
    },
    {
      "cell_type": "markdown",
      "metadata": {
        "id": "wgis4pZsldsp"
      },
      "source": [
        "*Aus Spektrum der Wissenschaft Spezial: Primzahlen*\n",
        "\n",
        "* Der Zustand eines quantenmechanischen Systems verändert sich mit der Zeit. Schwirrt beispielsweise ein Elektron durch ein Magnetfeld, ändert sich seine Flugbahn zu jedem Zeitpunkt. Eine berühmte lineare Abbildung diktiert diese Zeitentwicklung: Die zeitliche Änderung des Zustandsvektors ergibt sich durch die Anwendung des Hamilton-Operators auf diesen Vektor.\n",
        "\n",
        "* Die vielleicht bedeutendste Eigenschaft des Hamilton-Operators besteht aber darin, dass sich die Energien eines physikalischen Systems in ihm verstecken. Möchte man beispielsweise die verschiedenen Energieni- veaus eines Atoms berechnen, genügt es, einige charakteristische Zahlen des entsprechenden Hamilton-Operators zu betrachten, die so genannten Eigenwerte.\n",
        "\n",
        "* Die gesamte Menge dieser Eigenwerte heißt »Spektrum« in Anlehnung an den gleich- namigen Begriff aus der Physik, der alle Energien bezeichnet, bei denen die Elektro- nenhülle eines chemischen Elements ein Photon absorbieren oder emittieren kann (siehe »Spektrum einer Welle«).\n",
        "\n",
        "* Im Allgemeinen beschreibt der Hamil- ton-Operator also nicht bloß die zeitliche Entwicklung eines quantenmechanischen Objekts; seine Eigenwerte entsprechen au- ßerdem den Energien des Systems, und die dazugehörigen Eigenvektoren sind die Ba- siszustände. Das macht den Hamilton-Ope- rator zu einem der wichtigsten physikali- schen Werkzeuge."
      ]
    },
    {
      "cell_type": "markdown",
      "metadata": {
        "id": "Alm8HXgwpEet"
      },
      "source": [
        "https://de.m.wikipedia.org/wiki/Zufallsmatrix"
      ]
    },
    {
      "cell_type": "markdown",
      "metadata": {
        "id": "V2EBk6SANPX-"
      },
      "source": [
        "**The Hamiltonian $\\mathcal{H}$ operator describes the energy of a system**: \n",
        "\n",
        "  * der [Hamiltonoperator](https://de.m.wikipedia.org/wiki/Hamiltonoperator) ist in der Quantenmechanik ein Operator, der (mögliche) Energiemesswerte und die Zeitentwicklung angibt. Er ist daher der Energieoperator. Er liefert beispielsweise die Energieniveaus des Elektrons im Wasserstoffatom.\n",
        "\n",
        "  * In der Quantenmechanik wird jeder Zustand des betrachteten physikalischen Systems durch einen zugehörigen Vektor $\\psi$ im Hilbertraum angegeben. Seine Zeitentwicklung wird nach der Schrödingergleichung durch den Hamiltonoperator $\\hat{H}$ bestimmt:\n",
        "\n",
        ">$\n",
        "\\mathrm{i} \\hbar \\frac{\\partial}{\\partial t} \\psi(t)=\\hat{H} \\psi(t)\n",
        "$\n",
        "\n",
        "  * mit der imaginären Einheit i\n",
        "  \n",
        "  * und der reduzierten Planckschen Konstante $\\hbar=\\frac{h}{2 \\pi}$.\n",
        "\n",
        "  * In der Eigenwertgleichung sind die Eigenwerte E die zugehörigen Energien."
      ]
    },
    {
      "cell_type": "markdown",
      "metadata": {
        "id": "w8KFOM66dzW-"
      },
      "source": [
        "![geometry](https://raw.githubusercontent.com/deltorobarba/repo/master/quantum_009.png)"
      ]
    },
    {
      "cell_type": "markdown",
      "metadata": {
        "id": "l0BaXgE3dXKD"
      },
      "source": [
        "https://www.youtube.com/watch?v=Wy9YoEYv-fA&list=PLBn8lN0Dcvpla6a6omBni1rjyQJ4CssTP&index=49"
      ]
    },
    {
      "cell_type": "markdown",
      "metadata": {
        "id": "u2MxYzfBfzpU"
      },
      "source": [
        "* A spin is a two state system, like two magnets that you approach each other and then they anti-align, so this will be their optimal energy configuration\n",
        "\n",
        "* if you identify random variables with them, so sigma 1 = 1 for north up and sigma 2 = -1 for south up, and then you add another one and another one. You can write it as a sum of nearest neighbors. \n",
        "\n",
        "* this describes the energy of a system and we want to minimize it (naturally state in nature). \n",
        "\n",
        "* let's make it a bit more complicated: let's assume there is a wall that you can control between the magnets. With that you can change the strength of interaction between the individual pairs, you can change the coupling strengths - to include this in the equation, we add a term Ǝ\n",
        "\n",
        "* now we complicate it a bit more and add an external magnetic field below each of these individual magnets. If this magnet field is strong enough, it can flip the magnet with the South Pole pointing to top and flip it upside down. This means the external magnet will overwrite the interactions that happen between the individual magnets. We model this external magnetic field influence by adding one more term to the equation, which is goin to be the strengths of this field h and the actual sigma value, the value of the random value in that spot. \n",
        "\n",
        "* this is actually a very hard problem to solve in nature: if you look at the energy landscape of this problem, and what can happen is that they might get stuck in some local optimum. And by overcoming this local barrier they could attain a better configuration.\n",
        "\n",
        "* that's the same kind of problem we see in computer sciences in certain np hard problems: for example in the [quadratic unconstrained binary optimization problem (QUBO)](https://en.wikipedia.org/wiki/Quadratic_unconstrained_binary_optimization) it has a very similar form. You have binary random variables and you have some interaction strength between them (coefficients), and you have also a bias term affecting individual random variables. On a classical computer in the general case this takes exponentially many evaluations to find the global optimum. \n",
        "\n",
        "* so there is this natural correspondence between what's computationally hard and what's physically difficult to solve.\n",
        "\n"
      ]
    },
    {
      "cell_type": "markdown",
      "metadata": {
        "id": "zKlsTZM0VkZG"
      },
      "source": [
        "**Hamiltonian**"
      ]
    },
    {
      "cell_type": "markdown",
      "metadata": {
        "id": "MjVEUDSAWJpv"
      },
      "source": [
        "* the Hamiltonian has a formula where you input the state of the system and it outputs the energy of the system (both quantum & classical system)\n",
        "\n",
        "* inout state of all qubits, Hamiltonian will give energy of that state \n",
        "\n",
        "* Quantum annealing: tries to find state of all qubits that gives us lowest energy\n",
        "\n",
        "* lowest energy state of initial Hamiltonian is when all the qubits are in a superposition state of zero and one (easy set up of the system)\n",
        "\n",
        "* Ideally you stay in the minimum energy state throughout the quantum annealing procedure (In annealing: initially quantum states, at the end classical states)"
      ]
    },
    {
      "cell_type": "markdown",
      "metadata": {
        "id": "yXKK4Im4VjLR"
      },
      "source": [
        "![geometry](https://raw.githubusercontent.com/deltorobarba/repo/master/quantum_009a.png)"
      ]
    },
    {
      "cell_type": "markdown",
      "metadata": {
        "id": "9isGvqndjGj9"
      },
      "source": [
        "###### **<font color=\"blue\">Pauli-matrix $\\sigma^Z$</font> (Transverse Field Ising Model)**"
      ]
    },
    {
      "cell_type": "markdown",
      "metadata": {
        "id": "wGTR5VHzjJUY"
      },
      "source": [
        "![geometry](https://raw.githubusercontent.com/deltorobarba/repo/master/quantum_010.png)"
      ]
    },
    {
      "cell_type": "markdown",
      "metadata": {
        "id": "PwrdIi-wjM0L"
      },
      "source": [
        "https://www.youtube.com/watch?v=egli0tC1tRo&list=PLBn8lN0Dcvpla6a6omBni1rjyQJ4CssTP&index=50"
      ]
    },
    {
      "cell_type": "markdown",
      "metadata": {
        "id": "M-Dq_XeNknbT"
      },
      "source": [
        "* we introduced a simple model from statistical mechanics called the Ising model, but nothing quantum is happening in it\n",
        "\n",
        "* but we are interested in quantum computers and their relationship to quantum system. So we need to look at a quantum many body system. So we will write our classical Ising model in a. More quantum mechanical form.\n",
        "\n",
        "* we had the Hamiltonian of binary variables. In quantum mechanics we have states and operators acting on them. Lets look at a particular operator that could act on a qubit. \n",
        "\n",
        "* the sigma Z operator $\\sigma^Z$ is called a Pauli-matrix, the Z-Pauli-matrix. When you apply this operator ion the 0 ket, you get the 0 ket, which will show a plus 1. But if you pally it to the 1 ket it picks up a sign, the -1. By applying this operator on the basis vector states you the get effect of getting plus 1 or minus 1, as a probability amplitude before the actual state. The Hamiltonian now gets operators (the little z on top) acting on a particular qubit. \n",
        "\n",
        "* now we want to calculate the expectation value, we because we are interested in the energy of the system. The Hamilton energy / expectation value of a system is exactly between bra and ket, like a sandwich. This can be calculated easily.\n",
        "\n",
        "* the Hamiltonian is commuting, means: every single one of the matrices commutes with one another. But that's still classical.\n",
        "\n",
        "* so now we add the transverse field. Adding is one more interaction with sigma x $\\sigma^x$. But if you multiply sigma z and sigma x you don't get the same result as the other way around. So it matters in which order you use these operators. So if you add sigma X to the Hamiltonian, it will no longer commute.\n",
        "\n",
        "* the Eigenvalue will correspond to the energy of the system. The lowest Eigenvalue will correspond to the energy for that particular operator\n",
        "\n",
        "* When you try to minimize the energy of a system, this term (pink at the end of the Hamiltonian, the Transverse field with the sigma X operator) tries to push it into a superposition, whereas the sigma Z interactions are trying to be deterministically either zero or one. This is where you get the quantum effect by pushing it towards a superposition, and having this non commuting term. "
      ]
    },
    {
      "cell_type": "markdown",
      "metadata": {
        "id": "3eye1FYS06Mi"
      },
      "source": [
        "###### **<font color=\"blue\">Ortsoperators $\\hat{x}$</font>**"
      ]
    },
    {
      "cell_type": "markdown",
      "metadata": {
        "id": "jOBWmyGiyVUq"
      },
      "source": [
        "Der [Ortsoperator](https://de.m.wikipedia.org/wiki/Ortsoperator) gehört in der Quantenmechanik zur Ortsmessung von Teilchen.\n",
        "\n",
        "* Der physikalische Zustand $\\Psi$ eines Teilchens ist in der Quantenmechanik mathematisch gegeben durch den zugehörigen Vektor eines Hilbertraumes $\\mathrm{H}$. \n",
        "\n",
        "* Dieser Zustand wird folglich in der Bra-Ket-Notation durch den Vektor $|\\Psi\\rangle$ beschrieben. \n",
        "\n",
        "* Die Observablen werden durch selbstadjungierte Operatoren auf $\\mathrm{H}$ dargestellt.\n",
        "\n",
        "Speziell ist der Ortsoperator die Zusammenfassung der drei Observablen $\\hat{\\mathbf{x}}=\\left(\\hat{x}_{1}, \\hat{x}_{2}, \\hat{x}_{3}\\right)$, so dass\n",
        "\n",
        ">$\n",
        "E\\left(\\hat{x}_{j}\\right)=\\left\\langle\\hat{x}_{j} \\Psi, \\Psi\\right\\rangle_{\\mathrm{H}}, \\quad j=1,2,3\n",
        "$\n",
        "\n",
        "der Mittelwert (Erwartungswert) der Messergebnisse der j-ten Ortskoordinate des Teilchens im Zustand $\\Psi$ ist."
      ]
    },
    {
      "cell_type": "markdown",
      "metadata": {
        "id": "GCWGw7qr1Tg7"
      },
      "source": [
        "https://de.m.wikipedia.org/wiki/Dirac-Notation#Darstellungen_in_der_Quantenmechanik"
      ]
    },
    {
      "cell_type": "markdown",
      "metadata": {
        "id": "zgB0YuvgKW5y"
      },
      "source": [
        "https://en.m.wikipedia.org/wiki/Position_and_momentum_space"
      ]
    },
    {
      "cell_type": "markdown",
      "metadata": {
        "id": "OWe3dABV3mBT"
      },
      "source": [
        "###### **<font color=\"blue\">Impulsoperators $\\hat{p}$</font>**"
      ]
    },
    {
      "cell_type": "markdown",
      "metadata": {
        "id": "9_KVVQC9xoDR"
      },
      "source": [
        "Der [Impulsoperator](https://de.m.wikipedia.org/wiki/Impulsoperator) $\\hat{p}$ ist in der Quantenmechanik der Operator zur Impulsmessung von Teilchen. In der Ortsdarstellung ist der Impulsoperator in einer Dimension gegeben durch:\n",
        "\n",
        ">$\n",
        "\\hat{p}_{x}=-\\mathrm{i} \\hbar \\frac{\\partial}{\\partial x}=\\frac{\\hbar}{i} \\frac{\\partial}{\\partial x}\n",
        "$\n",
        "\n",
        "Dabei bezeichnet\n",
        "- i die Imaginäre Einheit\n",
        "- $\\hbar$ die reduzierte Planck-Konstante und\n",
        "- $\\frac{\\partial}{\\partial x}$ die partielle Ableitung in Richtung der Ortskoordinate $x$.\n",
        "\n",
        "Mit dem Nabla-Operator $\\nabla$ erhält man in drei Dimensionen den Vektor:\n",
        "\n",
        ">$\n",
        "\\hat{\\mathbf{p}}=-\\mathrm{i} \\hbar \\nabla\n",
        "$\n",
        "\n",
        "* Der physikalische Zustand $\\Psi$ eines Teilchens ist in der Quantenmechanik mathematisch durch einen zugehörigen Vektor eines Hilbertraumes $\\mathcal{H}$ gegeben. \n",
        "\n",
        "* Dieser Zustand wird folglich in der Bra-Ket-Notation durch den Vektor $|\\Psi\\rangle$ beschrieben. \n",
        "\n",
        "* Die Observablen werden durch selbstadjungierte Operatoren auf $\\mathcal{H}$ dargestellt. \n",
        "\n",
        "* Speziell ist der Impuls-Operator die Zusammenfassung der drei Observablen $\\hat{\\mathbf{p}}=\\left(\\hat{p}_{1}, \\hat{p}_{2}, \\hat{p}_{3}\\right)$, so dass\n",
        "\n",
        ">$\n",
        "E\\left(\\hat{p}_{j}\\right)=\\left\\langle\\Psi\\left|\\hat{p}_{j}\\right| \\Psi\\right\\rangle \\quad j=1,2,3\n",
        "$\n",
        "\n",
        "der Mittelwert (Erwartungswert) der Messergebnisse der $j$ -ten Komponente des Impulses des Teilchens im Zustand $\\Psi$ ist."
      ]
    },
    {
      "cell_type": "markdown",
      "metadata": {
        "id": "rPB62wRX8NfF"
      },
      "source": [
        "https://youtu.be/so1szjHu7jY"
      ]
    },
    {
      "cell_type": "markdown",
      "metadata": {
        "id": "iy4WCRVb4Fbq"
      },
      "source": [
        "###### **<font color=\"blue\">Zeitentwicklungsoperator $U$</font>**"
      ]
    },
    {
      "cell_type": "markdown",
      "metadata": {
        "id": "7MwSGedvzNov"
      },
      "source": [
        "Der [Zeitentwicklungsoperator](https://de.m.wikipedia.org/wiki/Zeitentwicklungsoperator) $U$ ist ein quantenmechanischer Operator, mit dem sich die zeitliche Entwicklung eines physikalischen Systems berechnen lässt. Der quantenmechanische Operator ist eng verwandt mit dem [Propagator](https://de.m.wikipedia.org/wiki/Propagator) in der Quantenfeld- oder Vielteilchentheorie. Üblicherweise wird er als $U\\left(t, t_{0}\\right)$ geschrieben und bezeichnet die Entwicklung des Systems vom Zeitpunkt $t_{0}$ zum Zeitpunkt $t$."
      ]
    },
    {
      "cell_type": "markdown",
      "metadata": {
        "id": "CyJNFRi60Tpi"
      },
      "source": [
        "*Über die Exponentiation der Schrödingergleichung*"
      ]
    },
    {
      "cell_type": "markdown",
      "metadata": {
        "id": "NQ1DXD1s0fLd"
      },
      "source": [
        "Der Zeitentwicklungsoperator $U\\left(t, t_{0}\\right)$ wird definiert über die Zeitentwicklung eines beliebigen Zustandes $|\\psi\\rangle$ zu einem Zeitpunkt $t_{0}$ bis zum Zeitpunkt $t$ :\n",
        "\n",
        ">$\n",
        "|\\psi(t)\\rangle=U\\left(t, t_{0}\\right)\\left|\\psi\\left(t_{0}\\right)\\right\\rangle \\quad \\forall|\\psi\\rangle\n",
        "$\n",
        "\n",
        "Einsetzen in die Schrödingergleichung liefert einen Satz gewöhnlicher Differentialgleichungen 1. Ordnung:\n",
        "\n",
        ">$\\mathrm{i} \\hbar \\frac{\\partial}{\\partial t} U\\left(t, t_{0}\\right)=H(t) U\\left(t, t_{0}\\right)$\n",
        "\n",
        "Diese Gleichungen sind zur Schrödingergleichung insofern äquivalent, als sie die Erweiterung des Zeitentwicklungsoperators um einen infinitesimalen Zeitschritt $\\delta t$ beschreiben:\n",
        "\n",
        ">$\n",
        "U\\left(t+\\delta t, t_{0}\\right)=\\left(1-\\frac{i}{\\hbar} H(t) \\delta t\\right) U\\left(t, t_{0}\\right)+O\\left(\\delta t^{2}\\right)\n",
        "$\n",
        "\n",
        "mit dem Hamiltonoperator $H$, der den Erzeuger der Zeitentwicklungen darstellt."
      ]
    },
    {
      "cell_type": "markdown",
      "metadata": {
        "id": "vJUmv-pJjU3l"
      },
      "source": [
        "https://en.m.wikipedia.org/wiki/Time_evolution (Evolution Operator)"
      ]
    },
    {
      "cell_type": "markdown",
      "metadata": {
        "id": "XwAsbDA4n9EB"
      },
      "source": [
        "###### **<font color=\"blue\">Schrödinger Equation</font>**"
      ]
    },
    {
      "cell_type": "markdown",
      "metadata": {
        "id": "0S2jiylKzBUR"
      },
      "source": [
        "> $\\left[-\\frac{\\hbar^{2}}{2 m} \\frac{\\partial^{2}}{\\partial x^{2}}+V(x, t)\\right] \\Psi(x, t) = i \\hbar \\frac{\\partial}{\\partial t} \\Psi(x, t)$\n",
        "\n",
        "bzw written in another way (single particle variant):\n",
        "\n",
        "> <font color=\"red\">$[-\\frac{\\hbar^{2}}{2 m} \\nabla^{2} $</font> + <font color=\"green\">$V(x, t)$</font> ] \n",
        " <font color=\"blue\">$|\\psi\\rangle$</font> = $i \\hbar \\frac{\\partial}{\\partial t}$ <font color=\"blue\">$|\\psi\\rangle$</font>\n",
        "\n",
        "* <font color=\"red\">$[-\\frac{\\hbar^{2}}{2 m} \\nabla^{2} $</font> Kinetic energy\n",
        "\n",
        "* <font color=\"green\">$V(x, t)$</font> Potential energy\n",
        "\n",
        "* <font color=\"blue\">$|\\psi\\rangle$</font>  the wave function"
      ]
    },
    {
      "cell_type": "markdown",
      "metadata": {
        "id": "6ohyipj1oI0H"
      },
      "source": [
        "https://en.wikipedia.org/wiki/Schrödinger_equation"
      ]
    },
    {
      "cell_type": "markdown",
      "metadata": {
        "id": "gns9d_fkn_PW"
      },
      "source": [
        "https://www.youtube.com/watch?v=w9Kyz5y_TPw"
      ]
    },
    {
      "cell_type": "markdown",
      "metadata": {
        "id": "3jog_VsinRGB"
      },
      "source": [
        "###### <font color=\"blue\">**Ising Model**"
      ]
    },
    {
      "cell_type": "markdown",
      "metadata": {
        "id": "wxQWG1ucnU7E"
      },
      "source": [
        "https://www.quantamagazine.org/the-cartoon-picture-of-magnets-that-has-transformed-science-20200624/"
      ]
    },
    {
      "cell_type": "markdown",
      "metadata": {
        "id": "ZfO2_4Z6reDW"
      },
      "source": [
        "## **Quantum Computing**"
      ]
    },
    {
      "cell_type": "markdown",
      "metadata": {
        "id": "Ke3uO0SBC5YS"
      },
      "source": [
        "#### **Computational Complexity Theory**"
      ]
    },
    {
      "cell_type": "markdown",
      "metadata": {
        "id": "J2dKV_JuIKot"
      },
      "source": [
        "###### **<font color=\"blue\">Time & Space Complexity**"
      ]
    },
    {
      "cell_type": "markdown",
      "metadata": {
        "id": "kdF68KOk5V1K"
      },
      "source": [
        "https://de.m.wikipedia.org/wiki/Komplexitätstheorie"
      ]
    },
    {
      "cell_type": "markdown",
      "metadata": {
        "id": "7JtwttIgDAc_"
      },
      "source": [
        "https://en.m.wikipedia.org/wiki/Big_O_notation"
      ]
    },
    {
      "cell_type": "markdown",
      "metadata": {
        "id": "Sab9kTBkDEKx"
      },
      "source": [
        "https://en.m.wikipedia.org/wiki/Time_complexity"
      ]
    },
    {
      "cell_type": "markdown",
      "metadata": {
        "id": "zm1hoWhxJ5Mu"
      },
      "source": [
        "**Big (O) vs Big Ω (Omega) vs Big θ (Theta) notation (Asymptotic Analysis of Algorithms)**"
      ]
    },
    {
      "cell_type": "markdown",
      "metadata": {
        "id": "705TUtHLKEW2"
      },
      "source": [
        "* Big (O): worste case\n",
        "\n",
        "* Big Ω (Omega): best case\n",
        "\n",
        "* Big θ (Theta): Omega=(O)"
      ]
    },
    {
      "cell_type": "markdown",
      "metadata": {
        "id": "6WHeXuJOmfSS"
      },
      "source": [
        "Big Oh(O) vs Big Omega(Ω) vs Big Theta(θ) notations | Asymptotic Analysis of Algorithms with Example\n",
        "\n",
        "https://m.youtube.com/watch?v=1tfdr1Iv6JA"
      ]
    },
    {
      "cell_type": "markdown",
      "metadata": {
        "id": "r6O1jVEDmuVj"
      },
      "source": [
        "https://m.youtube.com/watch?v=bxgTDN9c6rg"
      ]
    },
    {
      "cell_type": "markdown",
      "metadata": {
        "id": "pJ_wHP33nYJX"
      },
      "source": [
        "https://m.youtube.com/watch?v=QnRx6V8YQy0"
      ]
    },
    {
      "cell_type": "markdown",
      "metadata": {
        "id": "kYcH_UTmDHW1"
      },
      "source": [
        "Great Big-O Notation explanation: https://youtu.be/Q_1M2JaijjQ"
      ]
    },
    {
      "cell_type": "markdown",
      "metadata": {
        "id": "UKONHeJwDtVo"
      },
      "source": [
        "*Graphs of functions commonly used in the analysis of algorithms, showing the number of operations N versus input size n for each function:*\n",
        "\n",
        "![gg](https://upload.wikimedia.org/wikipedia/commons/thumb/7/7e/Comparison_computational_complexity.svg/480px-Comparison_computational_complexity.svg.png)"
      ]
    },
    {
      "cell_type": "markdown",
      "metadata": {
        "id": "CuUclhZ-E4I5"
      },
      "source": [
        "*Examples:*\n",
        "\n",
        "* Matrix Multiplication was known to have cubic time complexity $O(n^3)$. Whether you manipulate the equations or take the matrix route, you’ll end up performing the same total number of computational steps to solve the problem. That number is the cube of the number of variables in the system ($n^3$). In case we have three variables, so it takes 33, or 27, computational steps. \n",
        "\n",
        "  * Achtung: researchers measure the speed of matrix multiplication purely in terms of the number of multiplications required\n",
        "\n",
        "  * Generally, the number of additions is equal to the number of entries in the matrix, so four for the two-by-two matrices and 16 for the four-by-four matrices.\n",
        "\n",
        "  * Source: [Matrix Multiplication Inches Closer to Mythic Goal](https://www.quantamagazine.org/mathematicians-inch-closer-to-matrix-multiplication-goal-20210323/)\n",
        "\n",
        "* New research in matrix multiplication algorithms shows $O(n^{2.3728596})$. Via simple guessing and them use symmetry to compute just half ('Because the entries in the matrix are random, and coordination happens between them, the matrix itself ends up with certain symmetries. Those symmetries enable computational shortcuts. Just like with any highly symmetric object, you only need to know what one part of it looks like in order to deduce the whole.')\n",
        "\n",
        "  * [Wiki: Matrix Multiplication Algorithm](https://en.m.wikipedia.org/wiki/Matrix_multiplication_algorithm)\n",
        "\n",
        "  * [Wiki: Computational complexity of matrix multiplication](https://en.m.wikipedia.org/wiki/Computational_complexity_of_matrix_multiplication)\n",
        "\n",
        "  * [Quanta: New Algorithm Breaks Speed Limit for Solving Linear Equations](https://www.quantamagazine.org/new-algorithm-breaks-speed-limit-for-solving-linear-equations-20210308/)\n",
        "\n",
        "  * [Quanta: Matrix Multiplication Inches Closer to Mythic Goal](https://www.quantamagazine.org/mathematicians-inch-closer-to-matrix-multiplication-goal-20210323/)\n",
        "\n",
        "* Simple number multiplication: The traditional grade-school method for matrix multiplication requires $n^2$ steps (linear problem), where n is the number of digits of the numbers you’re multiplying. So three-digit numbers require nine multiplications, while 100-digit numbers require 10,000 multiplications.\n",
        "\n",
        "  * 1960: Karatsuba’s method made it possible to multiply numbers using only $n^{1.58}$ single-digit multiplications.\n",
        "\n",
        "  * 1971: Arnold Schönhage and Volker Strassen published a method capable of multiplying large numbers in n × log n × log(log n) multiplicative steps, where log n is the logarithm of n. For two 1-billion-digit numbers, Karatsuba’s method would require about 165 trillion additional steps. **It introduced the use of a technique from the field of signal processing called a fast Fourier transform.**\n",
        "\n",
        "  * 2007: Martin Fürer beat it and the floodgates opened. Over the past decade, mathematicians have found successively faster multiplication algorithms, each of which has inched closer to n × log n\n",
        "\n",
        "  * 2019: Harvey and van der Hoeven got to n × log n (via improved version of the fast Fourier transform and replace even more multiplications with additions and subtractions)\n",
        "\n",
        "  * Further improvements possible? Maybe. But: the design of computer hardware has changed. Two decades ago, computers performed addition much faster than multiplication. The speed gap between multiplication and addition has narrowed considerably over the past 20 years to the point where multiplication can be even faster than addition in some chip architectures. With some hardware, “you could actually do addition faster by telling the computer to do a multiplication problem, which is just insane,” Harvey said.\n",
        "\n",
        "  * [A New Approach to Multiplication Opens the Door to Better Quantum Computers](https://www.quantamagazine.org/a-new-approach-to-multiplication-opens-the-door-to-better-quantum-computers-20190424/))\n",
        "\n",
        "  * [Mathematicians Discover the Perfect Way to Multiply](https://www.quantamagazine.org/mathematicians-discover-the-perfect-way-to-multiply-20190411/)\n",
        "\n",
        "* Addition takes only 2n steps\n",
        "\n",
        "* Tang’s algorithm ran in polylogarithmic time — meaning the computational time scaled with the logarithm of characteristics like the number of users and products in the data set — and was exponentially faster than any previously known classical algorithm.\n",
        "\n",
        "  * [Major Quantum Computing Advance Made Obsolete by Teenager](https://www.quantamagazine.org/teenager-finds-classical-alternative-to-quantum-recommendation-algorithm-20180731/))\n",
        "\n",
        "> **See many examples of** [Computational complexity of mathematical operations](https://en.m.wikipedia.org/wiki/Computational_complexity_of_mathematical_operations#Matrix_algebra)"
      ]
    },
    {
      "cell_type": "markdown",
      "metadata": {
        "id": "Wfc1d1FzzCnj"
      },
      "source": [
        "https://en.m.wikipedia.org/wiki/Computational_learning_theory"
      ]
    },
    {
      "cell_type": "markdown",
      "metadata": {
        "id": "wftQOr5kIcgW"
      },
      "source": [
        "###### **<font color=\"blue\">Complexity Classes**"
      ]
    },
    {
      "cell_type": "markdown",
      "metadata": {
        "id": "K5LF2-vFta5V"
      },
      "source": [
        "https://www.quantamagazine.org/computer-scientists-discover-limits-of-major-research-algorithm-20210817/"
      ]
    },
    {
      "cell_type": "markdown",
      "metadata": {
        "id": "xVhaevHTEtSu"
      },
      "source": [
        "* Great NP Hard explanation: https://youtu.be/EHp4FPyajKQ and https://youtu.be/YX40hbAHx3s\n",
        "\n",
        "* **Complexity class P** is all the problems that a classical computer can solve quickly. (“Is this number prime?” belongs to P). Solvable in polynomial time, not exponentially.\n",
        "\n",
        "* **Complexity class NP** is all the problems that classical computers can’t necessarily solve quickly, but for which they can quickly verify an answer if presented with one. (“What are its prime factors?” belongs to NP.) \n",
        "\n",
        "* Computer scientists believe that P and NP are distinct classes, but actually proving that distinctness is the hardest and most important open problem in the field.\n",
        "\n",
        "* **NP hard**\n",
        "\n",
        "* **NP complete**"
      ]
    },
    {
      "cell_type": "markdown",
      "metadata": {
        "id": "q4ye35Sjpt6m"
      },
      "source": [
        "Quanta Magazine: [Edit Distance, SAT & SETH (A New Map Traces the Limits of Computation)](https://www.quantamagazine.org/edit-distance-reveals-hard-computational-problems-20150929/)"
      ]
    },
    {
      "cell_type": "markdown",
      "metadata": {
        "id": "QxY-7JhZ-wGs"
      },
      "source": [
        "https://en.m.wikipedia.org/wiki/NP-hardness"
      ]
    },
    {
      "cell_type": "markdown",
      "metadata": {
        "id": "tjdwFqUnDs6s"
      },
      "source": [
        "![ggg](https://raw.github.com/deltorobarba/repo/master/quantum_019.jpg)\n",
        "\n",
        "*Source: [Finally, a Problem That Only Quantum Computers Will Ever Be Able to Solve](https://www.quantamagazine.org/finally-a-problem-that-only-quantum-computers-will-ever-be-able-to-solve-20180621/)*"
      ]
    },
    {
      "cell_type": "markdown",
      "metadata": {
        "id": "y7Rot5lCLJYs"
      },
      "source": [
        "* Iterative improvements in classical algorithm have so far not paid off to transform a hard problem to an easy one.\n",
        "\n",
        "* This is where quantum computing comes in: \n",
        "\n",
        "  * an “easy” problem that can be solved using a quantum computer in polynomial time is class BQP (Bounded-error Quantum Polynomial time), \n",
        "  \n",
        "  * and a hard problem which can only be verified in polynomial time is class QMA (the playfully named Quantum Merlin Arthur).\n",
        "\n",
        "* The hope in the field is that there is some overlap between the space of NP problems and BQP problems: that by leveraging quantum resources like superposition and entanglement, a hard problem can be transformed into an easy one.\n",
        "\n"
      ]
    },
    {
      "cell_type": "markdown",
      "metadata": {
        "id": "F4ULX_tLgfIU"
      },
      "source": [
        "https://www.quantamagazine.org/job-one-for-quantum-computers-boost-artificial-intelligence-20180129/"
      ]
    },
    {
      "cell_type": "markdown",
      "metadata": {
        "id": "K-WVm4fBrjx5"
      },
      "source": [
        "https://www.quantamagazine.org/finally-a-problem-that-only-quantum-computers-will-ever-be-able-to-solve-20180621/"
      ]
    },
    {
      "cell_type": "markdown",
      "metadata": {
        "id": "60j65lUCgg5q"
      },
      "source": [
        "https://www.quantamagazine.org/computings-search-for-the-best-quantum-questions-20160602/"
      ]
    },
    {
      "cell_type": "markdown",
      "metadata": {
        "id": "_L5dVBGFIjMn"
      },
      "source": [
        "https://en.m.wikipedia.org/wiki/Computational_complexity_theory"
      ]
    },
    {
      "cell_type": "markdown",
      "metadata": {
        "id": "y8iNrgz6Ie1e"
      },
      "source": [
        "https://en.m.wikipedia.org/wiki/Quantum_complexity_theory"
      ]
    },
    {
      "cell_type": "markdown",
      "metadata": {
        "id": "nAGrkAm1HBSG"
      },
      "source": [
        "**Quantum supremacy / Quantum advantage**"
      ]
    },
    {
      "cell_type": "markdown",
      "metadata": {
        "id": "ilvrwRmCHLb7"
      },
      "source": [
        "* [quantum supremacy](https://en.m.wikipedia.org/wiki/Quantum_supremacy) means demonstrating that a programmable quantum device can solve a problem that no classical computer can solve in any feasible amount of time (irrespective of the usefulness of the problem).\n",
        "\n",
        "* Conceptually, quantum supremacy involves both \n",
        "\n",
        "  * the engineering task of building a powerful quantum computer and \n",
        "  \n",
        "  * the [computational-complexity-theoretic](https://en.m.wikipedia.org/wiki/Computational_complexity_theory) task of finding a problem that can be solved by that quantum computer and has a [superpolynomial](https://en.m.wikipedia.org/wiki/Time_complexity) speedup over the best known or possible classical algorithm for that task"
      ]
    },
    {
      "cell_type": "markdown",
      "metadata": {
        "id": "onz908psV9h-"
      },
      "source": [
        "https://www.quantamagazine.org/quantum-computers-struggle-against-classical-algorithms-20180201/"
      ]
    },
    {
      "cell_type": "markdown",
      "metadata": {
        "id": "y-3kRtDkCtCH"
      },
      "source": [
        "#### **Quantum Computing Physics & Hardware**"
      ]
    },
    {
      "cell_type": "markdown",
      "metadata": {
        "id": "XRBMQYB4nyqI"
      },
      "source": [
        "###### **<font color=\"blue\">Quantum Many-Body Physics</font>**"
      ]
    },
    {
      "cell_type": "markdown",
      "metadata": {
        "id": "8s9j3TQjs1Ml"
      },
      "source": [
        "![geometry](https://raw.githubusercontent.com/deltorobarba/repo/master/quantum_011.png)"
      ]
    },
    {
      "cell_type": "markdown",
      "metadata": {
        "id": "fkf-V6Z6o3g9"
      },
      "source": [
        "https://www.youtube.com/watch?v=MmpOva4-XPg&list=PLBn8lN0Dcvpla6a6omBni1rjyQJ4CssTP&index=51"
      ]
    },
    {
      "cell_type": "markdown",
      "metadata": {
        "id": "VngHYAEkscg4"
      },
      "source": [
        "* The Schroedinger Equation gives us the time evolution of a quantum system, it includes the wave function\n",
        "\n",
        "* the wave function is the quantum state of the particle or system of particles\n",
        "\n",
        "* its time evolution is governed by the Schroedinger Equation\n",
        "\n",
        "* and we are typically interested in either how a qubit, electron or atom behaves at some later time (prediction ability) - this is very difficult:\n",
        "\n",
        "* one body problem: hydrogen atom with 1 electron around 1 proton, and the electron feeling the influence of the proton. - time evolution of this system easy to solve, almost exactly in closed form. \n",
        "\n",
        "* N=2 for helium atom: nucleus of 2 protons and 2 separate electrons orbiting around. No known closed form solution for equations of motion.\n",
        "\n",
        "* one logical qubit is made of several hundreds to several thousands of physical qubits\n",
        "\n",
        "* so the quantum many body problem that we want to solve for a typical scenario of a quantum computer (implementing Shor's algorithm for a 2048-bit RSA) is somewhere at N > 4000 logical qubits, which is about 5 mio physical qubits.\n",
        "\n",
        "* this is the essence of the quantum many body problem as applied to essential quantum computers."
      ]
    },
    {
      "cell_type": "markdown",
      "metadata": {
        "id": "-LCP9tebs6E6"
      },
      "source": [
        "**Many-Body Behavior of Spins**"
      ]
    },
    {
      "cell_type": "markdown",
      "metadata": {
        "id": "S82YfIpUzDiI"
      },
      "source": [
        "![geometry](https://raw.githubusercontent.com/deltorobarba/repo/master/quantum_012.png)"
      ]
    },
    {
      "cell_type": "markdown",
      "metadata": {
        "id": "nlPsheq8s_2U"
      },
      "source": [
        "https://www.youtube.com/watch?v=7HayIq9OR2E&list=PLBn8lN0Dcvpla6a6omBni1rjyQJ4CssTP&index=52"
      ]
    },
    {
      "cell_type": "markdown",
      "metadata": {
        "id": "3_dYq9WXzBD1"
      },
      "source": [
        "* lets focus the many body physics on the simplest quantum system which is the quantum number associated with spin or angular momentum for example of the electron. \n",
        "\n",
        "* this neglects all other complications due to position, momentum, charge, spin orbit coupling, hyperfine splitting. So we focus on on spin.\n",
        "\n",
        "* spin 1/2 gives us an effective two state quantum system, like up or down\n",
        "\n",
        "* lets consider only n spins that just occur between Z components of their angular momentum\n",
        "\n",
        "* hamiltonian covers all the time evolution in the schroedinger equation\n",
        "\n",
        "* Ising model: sort of simplest model of interacting spins. Typically used not only in physical processes like quantum magnetism, also used to encode optimization problems. Look for lowest energy state governed but this equation. \n",
        "\n",
        "* you could look into all possible spin configurations, and calculate the energy according to this hamiltonian. But this would be a $2^n$ states.\n",
        "\n",
        "* in Boltzmann is the partition function: it runs through all possible configurations and is weighed by the Boltzmann weight.\n",
        "\n",
        "* d wave.. facilitate optimization\n",
        "\n",
        "* diagonalization to get eigenvalues, but escalates also quickly, max N + 20-40: we can do better than this only with a quantum computer (=quantum supremacy)\n",
        "\n"
      ]
    },
    {
      "cell_type": "markdown",
      "metadata": {
        "id": "UC7T8Hb_UyIA"
      },
      "source": [
        "**Strategies to Solve the Many-Body Problem**"
      ]
    },
    {
      "cell_type": "markdown",
      "metadata": {
        "id": "cHJvx6iJVD6m"
      },
      "source": [
        "![geometry](https://raw.githubusercontent.com/deltorobarba/repo/master/quantum_013.png)"
      ]
    },
    {
      "cell_type": "markdown",
      "metadata": {
        "id": "dhozjk8IU0F7"
      },
      "source": [
        "https://www.youtube.com/watch?v=uTCeQHzQMdc"
      ]
    },
    {
      "cell_type": "markdown",
      "metadata": {
        "id": "gnCFRiVapbMJ"
      },
      "source": [
        "###### **<font color=\"blue\">Quantum Computations in Quantum Systems</font>**"
      ]
    },
    {
      "cell_type": "markdown",
      "metadata": {
        "id": "IPGrPQgXb0DU"
      },
      "source": [
        "**Evolution in Closed Quantum Systems**"
      ]
    },
    {
      "cell_type": "markdown",
      "metadata": {
        "id": "YKJvnIKfcWPD"
      },
      "source": [
        "![geometry](https://raw.githubusercontent.com/deltorobarba/repo/master/quantum_007.png)"
      ]
    },
    {
      "cell_type": "markdown",
      "metadata": {
        "id": "Dn9Aa6A_b3-8"
      },
      "source": [
        "https://www.youtube.com/watch?v=P-mGqiKcEKE&list=PLBn8lN0Dcvpla6a6omBni1rjyQJ4CssTP&index=47"
      ]
    },
    {
      "cell_type": "markdown",
      "metadata": {
        "id": "XaoIrW2YfawM"
      },
      "source": [
        "* now let's look at **how we do a quantum computation, in other words: how do we evolve this quantum probability distributon**\n",
        "\n",
        "* we start with closed system, which means the evolution is going to be unitary (idealized version. Of a quantum calculation)\n",
        "\n",
        "* first lets see how we transform classical probability distributions: in classic we have a stochastic vector and transform them by applying a stochastic matrix to get a new stochastic vector, which is still a probability distribution. In this case it's a left stochastic matrix - means the columns of this matrix end up to one. \n",
        "\n",
        "* in quantum states we want to apply some operation on the state and whatever we get want to be sure it's still a quantum state. \n",
        "\n",
        "* this is the idealized computation of the quantum computer execution\n",
        "\n",
        "* the matrix that fulfills this condition has the property that's unitary: when you apply its complex conjugate (its inverse), you get the identity. Properties:\n",
        "\n",
        "\t* preserves L2 norm (otherwise final result would not be a quantum state)\n",
        "\n",
        "\t* linear (addition and scalar) - this becomes a bit difficult when we apply non-linear operations like machine learning. Then we have to resort on all sorts of approximations. \n",
        "\n",
        "\t* calculation is reversable (this contrasts to classical computing where you lose information as you proceed in a calculation, like the end logic gate what where the 2 initial bits. This cannot happen in idealized quantum system) -> example on the right side with an operation that's called the not gate or X gate.\n"
      ]
    },
    {
      "cell_type": "markdown",
      "metadata": {
        "id": "eeU6U3wZflbT"
      },
      "source": [
        "**Open Quantum Systems**"
      ]
    },
    {
      "cell_type": "markdown",
      "metadata": {
        "id": "aTdQ2l-Jf5EP"
      },
      "source": [
        "![geometry](https://raw.githubusercontent.com/deltorobarba/repo/master/quantum_008.png)"
      ]
    },
    {
      "cell_type": "markdown",
      "metadata": {
        "id": "nOn4NMj_frbO"
      },
      "source": [
        "https://www.youtube.com/watch?v=_fmBNpDEen4&list=PLBn8lN0Dcvpla6a6omBni1rjyQJ4CssTP&index=48"
      ]
    },
    {
      "cell_type": "markdown",
      "metadata": {
        "id": "OzEL_ysgkwEx"
      },
      "source": [
        "* before we talked about evolution in closed systems which is exactly what a universal idealized quantum computer wants to achieve. \n",
        "\n",
        "* real quantum system are not closed systems, but open. This means a quantum processing unit is embedded in an environment or thermal bath. And system interacts with environment in uncontrolled fashion. \n",
        "\n",
        "* Since the interaction happens, the system's now evolution is no longer described as a unitary operation. It's described by a very different mathematical object. \n",
        "\n",
        "* technically is a CP-TP-map: completely trees preserving map: https://en.m.wikipedia.org/wiki/Quantum_channel\n",
        "\n",
        "Lets now talk about decoherence:\n",
        "\n",
        "* we introduced density matrices. And now tae a density matrix of a pure state (for example of the equal super position of the 0 and 1 ket).\n",
        "\n",
        "* we can mix it with random noise, which is just the identity matrix divided by the number of dimensions - which would correspond to the maxim of mixed state, the classical [uniform distribution](https://de.wikipedia.org/wiki/Stetige_Gleichverteilung)\n",
        "\n",
        "* we can control how much noise we have, by tuning in the parameter called viability: \n",
        "\n",
        "\t* 1 is pure state, \n",
        "\n",
        "\t* the more we mix, the more the coherences vanish\n",
        "\n",
        "\t* when we reach zero visibility we have maximum state \n",
        "\n",
        "* So the speed at which this happens affects our quantum calculations because we want to finish the calculation before the systems completely decoheres. \n",
        "\n",
        "> This is sometimes called the T2 time / [Spin–spin relaxation](https://en.m.wikipedia.org/wiki/Spin–spin_relaxation) and it's one of the characteristics that you look at when you study how good a quantum computer is!\n",
        "\n",
        "* another way of looking at it is an equilibration process. So this model is actually the exact same thing what happens to a cup of coffee: it interacts with the environment (temperature change) and for a quantum system it's called the thermal state at the end\n",
        "\n",
        "* it's a very specific form: the configuration corresponding to certain energies follow a particular probability distribution - the Boltzmann distribution P(Ei)"
      ]
    },
    {
      "cell_type": "markdown",
      "metadata": {
        "id": "29EqcTLgeDew"
      },
      "source": [
        "###### **<font color=\"blue\">Quantum Hardware & Software</font>**"
      ]
    },
    {
      "cell_type": "markdown",
      "metadata": {
        "id": "2awP8L9TDlN_"
      },
      "source": [
        "**<font color=\"blue\">Architekturen von Quantencomputern</font>**"
      ]
    },
    {
      "cell_type": "markdown",
      "metadata": {
        "id": "UhGyg_cMDpFd"
      },
      "source": [
        "Qubit: Nutzung des quantenechanischen Zweizustandssystems"
      ]
    },
    {
      "cell_type": "markdown",
      "metadata": {
        "id": "95-4hj-vDvNc"
      },
      "source": [
        "**Mikrostrukturierte Ionenfalle**"
      ]
    },
    {
      "cell_type": "markdown",
      "metadata": {
        "id": "D68TYGhhDz01"
      },
      "source": [
        "* Ionen + deren Polaritaet dienen als Qubit"
      ]
    },
    {
      "cell_type": "markdown",
      "metadata": {
        "id": "bKu_1YI-nxa5"
      },
      "source": [
        "https://en.m.wikipedia.org/wiki/Trapped_ion_quantum_computer"
      ]
    },
    {
      "cell_type": "markdown",
      "metadata": {
        "id": "BjL00wcKD29y"
      },
      "source": [
        "**Quanten Computer auf Ionenbasis**"
      ]
    },
    {
      "cell_type": "markdown",
      "metadata": {
        "id": "-ykjMnsAD6T7"
      },
      "source": [
        "* es kommt der Spin von Stickstoffatomen zum Einsatz"
      ]
    },
    {
      "cell_type": "markdown",
      "metadata": {
        "id": "8wCV_KhfERAR"
      },
      "source": [
        "**Supraleitende Streifenleitungsresonatoren (Superconductivity)**"
      ]
    },
    {
      "cell_type": "markdown",
      "metadata": {
        "id": "isr05FSWEX9P"
      },
      "source": [
        "* ein Qubit stellt eine Elektronenwolke innerhalb eines Mikrowellen-Oszillators dar, der auf 15 Milli-Kelvin abgekuhlt wird (nahezu absoluter Nullpunkt)\n",
        "\n",
        "* ein sogenannter Josephson Kontakt (ein hauchdunner Isolator) bietet die Moglichkeit zur Quanten-Tunnelung und die Unterscheidung von genau 2 Zustaenden sowie der Superposition davon\n",
        "\n",
        "* Durch Anpassung der Oszillatorfrequenz koennen mehrere Qubits in einen Resonanz und damit in einen verschraenkten Zustand gebracht oder aber Quantengatter (quantum gates) angewendet werden\n",
        "\n",
        "* damit wurden bisher ca 50 Qubits realisiert\n",
        "\n",
        "* Supraleitende Qubits in einem zweidimensionalen Netzwerk von supraleitenden [Streifenleitungsresonatoren](https://de.m.wikipedia.org/wiki/Streifenleitung) (stripline resonators)"
      ]
    },
    {
      "cell_type": "markdown",
      "metadata": {
        "id": "JUD3HtbrHZyA"
      },
      "source": [
        "*Exkurs: [Supraleiter](https://de.m.wikipedia.org/wiki/Supraleiter) bzw. [Superconductivity](https://en.m.wikipedia.org/wiki/Superconductivity) sind Materialien, deren elektrischer Widerstand beim Unterschreiten der sogenannten Sprungtemperatur (abrupt) gegen null strebt (unmessbar klein wird, kleiner als 1 ⋅ 10−20 Ω). Die Supraleitung wurde 1911 von Heike Kamerlingh Onnes, einem Pionier der [Tieftemperaturphysik](https://de.m.wikipedia.org/wiki/Tieftemperaturphysik), entdeckt. Sie ist ein makroskopischer Quantenzustand. Im supraleitenden Zustand tritt der [„Meißner-Ochsenfeld-Effekt“](https://de.m.wikipedia.org/wiki/Meißner-Ochsenfeld-Effekt) auf, d. h. das Innere des Materials bleibt bzw. wird frei von elektrischen und magnetischen Feldern.*"
      ]
    },
    {
      "cell_type": "markdown",
      "metadata": {
        "id": "kEEhB0XCN8PQ"
      },
      "source": [
        "**<font color=\"blue\">Quantum Processors</font>**"
      ]
    },
    {
      "cell_type": "markdown",
      "metadata": {
        "id": "RJhEzDQXN_xX"
      },
      "source": [
        "https://en.m.wikipedia.org/wiki/List_of_quantum_processors"
      ]
    },
    {
      "cell_type": "markdown",
      "metadata": {
        "id": "4a1VaFQxGrU3"
      },
      "source": [
        "**<font color=\"blue\">Software Frameworks</font>**"
      ]
    },
    {
      "cell_type": "markdown",
      "metadata": {
        "id": "4NrFnQjaGwF8"
      },
      "source": [
        "https://strawberryfields.ai"
      ]
    },
    {
      "cell_type": "markdown",
      "metadata": {
        "id": "sv_NLwI9Gxzw"
      },
      "source": [
        "https://pennylane.ai"
      ]
    },
    {
      "cell_type": "markdown",
      "metadata": {
        "id": "E7F7W1hYvglE"
      },
      "source": [
        "###### **<font color=\"blue\">Fun Facts**"
      ]
    },
    {
      "cell_type": "markdown",
      "metadata": {
        "id": "_x2bZsQPz0u0"
      },
      "source": [
        "> **The idea of efficiency is essential in quantum computing**"
      ]
    },
    {
      "cell_type": "markdown",
      "metadata": {
        "id": "S34ADGPZobtm"
      },
      "source": [
        "https://www.quantamagazine.org/the-era-of-quantum-computing-is-here-outlook-cloudy-20180124/"
      ]
    },
    {
      "cell_type": "markdown",
      "metadata": {
        "id": "jjT6NNCWSteF"
      },
      "source": [
        "1. **Quantum Computers are not a replacement for classical computers**. \n",
        "\n",
        "  * Because they are not universally faster. They are only faster for special types of calculations where you can use the fact that you have all these quantum super positions available to you at the same time to do some kind of computational parallelism. \n",
        "\n",
        "  * QC are not gonna give you any particular improvement for some document working, watch a video in high definition or browse the internet. At sequential work, classical computers work better. If you need to use a classical algorithm to get the result. \n",
        "\n",
        "  * don't think that with a quantum computer every operation is faster. In fact, they are probably going to be slower than in the computers we have today. But it is a computer (the qc) where the number of operations required to arrive at a result is exponentially small. So the improvement is not in the speed of individual operations but is in the total number of operations you need to arrive at the result.\n",
        "\n",
        "  * But that is only the case in particular types of calculations, particular algorithms. It's not universal."
      ]
    },
    {
      "cell_type": "markdown",
      "metadata": {
        "id": "Kd4UMfSYVT7s"
      },
      "source": [
        "https://csferrie.medium.com/the-stupidest-most-technologically-and-resource-inefficient-way-to-multiply-by-two-fd6d0290f7b6"
      ]
    },
    {
      "cell_type": "markdown",
      "metadata": {
        "id": "m77IbyCQVV0h"
      },
      "source": [
        "https://csferrie.medium.com/heres-why-superposition-and-entanglement-have-nothing-to-do-with-understanding-quantum-computers-b2557ed7b5a2"
      ]
    },
    {
      "cell_type": "markdown",
      "metadata": {
        "id": "RiQzMdJ0wI8U"
      },
      "source": [
        "https://en.m.wikipedia.org/wiki/Quantum_information"
      ]
    },
    {
      "cell_type": "markdown",
      "metadata": {
        "id": "Amhbnl3IzhDi"
      },
      "source": [
        "https://de.m.wikipedia.org/wiki/Quanteninformatik"
      ]
    },
    {
      "cell_type": "markdown",
      "metadata": {
        "id": "tQ3CCoy0zoUt"
      },
      "source": [
        "https://en.m.wikipedia.org/wiki/Quantum_information"
      ]
    },
    {
      "cell_type": "markdown",
      "metadata": {
        "id": "momUr6Asslay"
      },
      "source": [
        "#### **Quantum Error Correction**"
      ]
    },
    {
      "cell_type": "markdown",
      "metadata": {
        "id": "cjGIj0qkspd5"
      },
      "source": [
        "https://www.quantamagazine.org/how-space-and-time-could-be-a-quantum-error-correcting-code-20190103/"
      ]
    },
    {
      "cell_type": "markdown",
      "metadata": {
        "id": "faWZpw6GCtO-"
      },
      "source": [
        "## **Quantum Machine Learning**"
      ]
    },
    {
      "cell_type": "markdown",
      "metadata": {
        "id": "QbX1OHN_d3Rt"
      },
      "source": [
        "#### **Quantum Logic Gates**"
      ]
    },
    {
      "cell_type": "markdown",
      "metadata": {
        "id": "Va-JSPw8Uc7w"
      },
      "source": [
        "Reminder on [Understanding Qubits and Measurements](https://medium.com/@brcsomnath/qml-understanding-qubits-565e727dbfb4)"
      ]
    },
    {
      "cell_type": "markdown",
      "metadata": {
        "id": "5rkvkWM7UfBN"
      },
      "source": [
        "###### **<font color=\"green\">Binary Numbers, ALU & Classical Logical Gates</font>**"
      ]
    },
    {
      "cell_type": "markdown",
      "metadata": {
        "id": "gYNx7QwbXgJq"
      },
      "source": [
        "> 11101 + 101 = 100010"
      ]
    },
    {
      "cell_type": "markdown",
      "metadata": {
        "id": "X2btFw02ejSM"
      },
      "source": [
        "https://en.wikipedia.org/wiki/Binary_number"
      ]
    },
    {
      "cell_type": "markdown",
      "metadata": {
        "id": "A6sL95OfjFpp"
      },
      "source": [
        "8253 in decimal means: 8 * 1000 + 2 * 100 + 5 * 10 + 3 * 1 \n",
        "\n",
        "oder in basis 10: \n",
        "\n",
        "> 8253 = 8 * 10<sup>3</sup> + 2 * 10<sup>2</sup> + 5 * 10<sup>1</sup> + 3* 10<sup>0</sup>"
      ]
    },
    {
      "cell_type": "markdown",
      "metadata": {
        "id": "M5kODtCdUpKb"
      },
      "source": [
        "**(2) $\\rightarrow$ (10)** Vom Dualsystem ins Dezimalsystem (beachte immer: rightmost bit als Starter):"
      ]
    },
    {
      "cell_type": "markdown",
      "metadata": {
        "id": "4It_MWYvUl4u"
      },
      "source": [
        "> $1010_{(2)}=1 \\cdot 2^{3}+0 \\cdot 2^{2}+1 \\cdot 2^{1}+0 \\cdot 2^{0}$\n",
        "\n",
        "> $=8+2=10_{(10)}$\n"
      ]
    },
    {
      "cell_type": "markdown",
      "metadata": {
        "id": "YqVBSUAWUs9Q"
      },
      "source": [
        "**(10) $\\rightarrow$ (2)** Vom Dezimalsystem ins Dualsystem: Divisionsmethode (auch Modulo-Methode genannt) am Beispiel 41$_{10}$:"
      ]
    },
    {
      "cell_type": "markdown",
      "metadata": {
        "id": "iNU0AdyzUvf0"
      },
      "source": [
        "> $\\begin{array}{clcc}41 & : 2=20 & \\text { Rest } \\mathbf{1} \\\\ 20 & : 2= 10 & \\text { Rest } \\mathbf{0} \\\\ 10 & : 2= 5 & \\text { Rest } \\mathbf{0} \\\\ 5 & : 2= 2 & \\text { Rest } \\mathbf{1} \\\\ 2 & : 2= 1 & \\text { Rest } \\mathbf{0} \\\\ 1 & : 2 =0 & \\text { Rest } \\mathbf{1}\\end{array}$"
      ]
    },
    {
      "cell_type": "markdown",
      "metadata": {
        "id": "jRIgDmdgVfRQ"
      },
      "source": [
        "Die entsprechende Dualzahl ergibt sich durch Notation der errechneten Reste von unten nach oben: 101001$_{2}$"
      ]
    },
    {
      "cell_type": "markdown",
      "metadata": {
        "id": "2i50h445V_U4"
      },
      "source": [
        "Es gibt auch noch die [Subtraktionsmethode](https://de.m.wikipedia.org/wiki/Dualsystem#Vom_Dezimalsystem_ins_Dualsystem) zur Umrechnung vom Dezimalsystem ins Dualsystem."
      ]
    },
    {
      "cell_type": "markdown",
      "metadata": {
        "id": "4yDeFL-kVqF7"
      },
      "source": [
        "https://de.m.wikipedia.org/wiki/Dualsystem#Umrechnen_von_Dualzahlen_in_andere_Stellenwertsysteme"
      ]
    },
    {
      "cell_type": "markdown",
      "metadata": {
        "id": "SFtArs8sVrQ1"
      },
      "source": [
        "https://calculator.name/baseconvert/binary/decimal/10001111111101"
      ]
    },
    {
      "cell_type": "markdown",
      "metadata": {
        "id": "KfszyhZFW50S"
      },
      "source": [
        "**Grundrechenarten im Dualsystem**"
      ]
    },
    {
      "cell_type": "markdown",
      "metadata": {
        "id": "CxYbA1V5YPod"
      },
      "source": [
        "\"[half adder](https://de.wikipedia.org/wiki/Halbaddierer)\" as basis to add anything larger together:\n",
        "\n",
        "0+0 = 00 (in decimal, this is 0+0=0)\n",
        "\n",
        "0+1 = 01 (in decimal, this is 0+1=1)\n",
        "\n",
        "1+0 = 01 (in decimal, this is 1+0=1)\n",
        "\n",
        "1+1 = 10 (in decimal, this is 1+1=2)\n",
        "\n",
        "*And 1+1=2. In binary, the number 2 is written 10, and so requires two bits. This means that you  need to carry the 1 (=Übertrag).*\n",
        "\n",
        "> 2<sub>10</sub> = 2 * 1<sup>1</sup> + 0 * 2<sup>0</sup> = 10<sub>2</sub>"
      ]
    },
    {
      "cell_type": "markdown",
      "metadata": {
        "id": "fPXyQ3vrXAbt"
      },
      "source": [
        "Siehe auch: [Grundrechenarten_im_Dualsystem](https://de.m.wikipedia.org/wiki/Dualsystem#Grundrechenarten_im_Dualsystem)"
      ]
    },
    {
      "cell_type": "markdown",
      "metadata": {
        "id": "0_hVN7IZpP6-"
      },
      "source": [
        "https://de.m.wikipedia.org/wiki/Dualsystem#Grundrechenarten_im_Dualsystem"
      ]
    },
    {
      "cell_type": "markdown",
      "metadata": {
        "id": "FFDITxGxIezW"
      },
      "source": [
        "**<font color=\"blue\">ALU (Arithmetic logic unit)**"
      ]
    },
    {
      "cell_type": "markdown",
      "metadata": {
        "id": "H1mxW1z5tyNI"
      },
      "source": [
        "https://de.m.wikipedia.org/wiki/Arithmetisch-logische_Einheit"
      ]
    },
    {
      "cell_type": "markdown",
      "metadata": {
        "id": "3XO6-4onGUhD"
      },
      "source": [
        "Half Adder (to add 1 bit of numbers). one bit takes two numbers: 0 or 1.\n",
        "\n",
        "two variables are if 1 bit each\n",
        "\n",
        "https://youtu.be/thkTzdnkL5U"
      ]
    },
    {
      "cell_type": "markdown",
      "metadata": {
        "id": "ojaYqubOKNio"
      },
      "source": [
        "**SUM operation**"
      ]
    },
    {
      "cell_type": "markdown",
      "metadata": {
        "id": "zW6BLn4mFZLM"
      },
      "source": [
        "![ggg](https://raw.githubusercontent.com/deltorobarba/repo/master/quantum_020.jpg)"
      ]
    },
    {
      "cell_type": "markdown",
      "metadata": {
        "id": "8vAlj2mfFg3V"
      },
      "source": [
        "This operation is the truth table for XOR gate"
      ]
    },
    {
      "cell_type": "markdown",
      "metadata": {
        "id": "c1xyBP0wIOuu"
      },
      "source": [
        "![ggg](https://raw.githubusercontent.com/deltorobarba/repo/master/quantum_021.jpg)"
      ]
    },
    {
      "cell_type": "markdown",
      "metadata": {
        "id": "ghk_IPeqKQNI"
      },
      "source": [
        "**CARRY Operation**"
      ]
    },
    {
      "cell_type": "markdown",
      "metadata": {
        "id": "O8q2w7WXIE97"
      },
      "source": [
        "![ggg](https://raw.githubusercontent.com/deltorobarba/repo/master/quantum_022.jpg)"
      ]
    },
    {
      "cell_type": "markdown",
      "metadata": {
        "id": "PPuefWb5IVeJ"
      },
      "source": [
        "![ggg](https://raw.githubusercontent.com/deltorobarba/repo/master/quantum_023.jpg)"
      ]
    },
    {
      "cell_type": "markdown",
      "metadata": {
        "id": "Y6X5ZWcSJG1V"
      },
      "source": [
        "See also K-Map: https://de.m.wikipedia.org/wiki/Karnaugh-Veitch-Diagramm"
      ]
    },
    {
      "cell_type": "markdown",
      "metadata": {
        "id": "jjEwiInKJ2z1"
      },
      "source": [
        "**Putting both together:**"
      ]
    },
    {
      "cell_type": "markdown",
      "metadata": {
        "id": "NIqlSTDlJxJQ"
      },
      "source": [
        "![ggg](https://raw.githubusercontent.com/deltorobarba/repo/master/quantum_024.jpg)"
      ]
    },
    {
      "cell_type": "markdown",
      "metadata": {
        "id": "p2AJDQcRHmBF"
      },
      "source": [
        "https://en.m.wikipedia.org/wiki/Adder_(electronics)"
      ]
    },
    {
      "cell_type": "markdown",
      "metadata": {
        "id": "k_pXx64hNEDI"
      },
      "source": [
        "![ggg](https://upload.wikimedia.org/wikipedia/commons/9/92/Halfadder.gif)\n",
        "\n",
        "*Half Adder in action*"
      ]
    },
    {
      "cell_type": "markdown",
      "metadata": {
        "id": "u1jrLYwYhN7M"
      },
      "source": [
        "Aus zwei [Halbaddierern](https://de.wikipedia.org/wiki/Halbaddierer) und einem zusätzlichen Oder-Gatter kann ein [Volladdierer](https://de.wikipedia.org/wiki/Volladdierer) aufgebaut werden.\n",
        "\n",
        "Der Halbaddierer wird in Kombination mit Volladdierern zum Aufbau von [Addiernetzen](https://de.wikipedia.org/wiki/Addierwerk) verwendet."
      ]
    },
    {
      "cell_type": "markdown",
      "metadata": {
        "id": "01wgVPWyZT2s"
      },
      "source": [
        "**<font color=\"blue\">Classic Logic Gates**"
      ]
    },
    {
      "cell_type": "markdown",
      "metadata": {
        "id": "98W-r8JOJgV1"
      },
      "source": [
        "![ggg](https://raw.githubusercontent.com/deltorobarba/repo/master/quantum_027.jpg)"
      ]
    },
    {
      "cell_type": "markdown",
      "metadata": {
        "id": "TB7v_Ge5JjCE"
      },
      "source": [
        "![ggg](https://raw.githubusercontent.com/deltorobarba/repo/master/quantum_028.jpg)"
      ]
    },
    {
      "cell_type": "markdown",
      "metadata": {
        "id": "cMRD9DN6ZWHv"
      },
      "source": [
        "Siehe auch [Logic Gate](https://en.wikipedia.org/wiki/Logic_gate) und [Wahrheitstabelle](https://de.wikipedia.org/wiki/Wahrheitstabelle)"
      ]
    },
    {
      "cell_type": "markdown",
      "metadata": {
        "id": "EWXpDyIWbzRX"
      },
      "source": [
        "<font color=\"blue\">**NOT**</font> - not-gate"
      ]
    },
    {
      "cell_type": "markdown",
      "metadata": {
        "id": "euYYXSaeb3zI"
      },
      "source": [
        "Ein [Nicht-Gatter](https://de.m.wikipedia.org/wiki/Nicht-GatterNicht-Gatter) liefert der Ausgang eine 1, wenn am Eingang eine 0 anliegt und eine 0, wenn am Eingang eine 1 anliegt. Er liefert also die Negation des am Eingang anliegenden Signals. \n",
        "\n",
        "Pauli-X is das Equivalent in Quantum. The NOT gate is only really needed to create bits with value 1."
      ]
    },
    {
      "cell_type": "markdown",
      "metadata": {
        "id": "VEJRPWB_cCdd"
      },
      "source": [
        ">$\n",
        "\\begin{array}{|l|l|}\n",
        "\\hline \\mathbf{A} & \\mathbf{Y} \\\\\n",
        "\\hline 0 & 1 \\\\\n",
        "\\hline 1 & 0 \\\\\n",
        "\\hline\n",
        "\\end{array}\n",
        "$"
      ]
    },
    {
      "cell_type": "markdown",
      "metadata": {
        "id": "z0GO3E4Id5gI"
      },
      "source": [
        "<font color=\"blue\">**AND**</font> - und-Gate"
      ]
    },
    {
      "cell_type": "markdown",
      "metadata": {
        "id": "secyOre1eFi8"
      },
      "source": [
        "Ein [Und-Gatter](https://de.m.wikipedia.org/wiki/Und-Gatter) ist ein Gatter mit mehreren Eingängen und einem Ausgang, bei dem der Ausgang eine 1 liefert, wenn an allen Eingängen 1 anliegt. Es entspricht dem Logischen UND. In der Schaltalgebra wird die UND-Verknüpfung durch • (Mal), & oder ∧ dargestellt und wird auch als Konjunktion bezeichnet.\n",
        "\n",
        "This will perform a NOT on the target qubit only when both controls are in state 1. Toffoli in Quantum."
      ]
    },
    {
      "cell_type": "markdown",
      "metadata": {
        "id": "lLdmWLlmeQp2"
      },
      "source": [
        ">$\n",
        "\\begin{array}{|c|c|c|}\n",
        "\\hline \\text { A } & \\text { B } & Y=\\mathbf{A} \\wedge \\mathbf{B} \\\\\n",
        "\\hline 0 & 0 & 0 \\\\\n",
        "\\hline 0 & 1 & 0 \\\\\n",
        "\\hline 1 & 0 & 0 \\\\\n",
        "\\hline 1 & 1 & 1 \\\\\n",
        "\\hline\n",
        "\\end{array}\n",
        "$"
      ]
    },
    {
      "cell_type": "markdown",
      "metadata": {
        "id": "rSdipqUTevBt"
      },
      "source": [
        "<font color=\"blue\">**OR**</font> - oder-Gate"
      ]
    },
    {
      "cell_type": "markdown",
      "metadata": {
        "id": "uQwJzRwies8o"
      },
      "source": [
        "Ein [Oder-Gatter](https://de.m.wikipedia.org/wiki/Oder-Gatter) ist ein Gatter mit mehreren Eingängen und einem Ausgang, bei dem der Ausgang eine 1 liefert, wenn an mindestens einem Eingang eine 1 anliegt. Es entspricht dem Logischen ODER. In der Schaltalgebra wird die Oder-Verknüpfung durch + oder \n",
        "∨\n",
        "{\\displaystyle \\lor } (Ursprung ist das lat. Wort „vel“ (oder)) dargestellt und wird auch als Disjunktion bezeichnet."
      ]
    },
    {
      "cell_type": "markdown",
      "metadata": {
        "id": "8WG9EldSfLbQ"
      },
      "source": [
        ">$\n",
        "\\begin{array}{|c|c|c|}\n",
        "\\hline \\mathbf{A} & \\mathbf{B} & \\mathbf{Y}=\\mathbf{A} \\vee \\mathbf{B} \\\\\n",
        "\\hline 0 & 0 & 0 \\\\\n",
        "\\hline 0 & 1 & 1 \\\\\n",
        "\\hline 1 & 0 & 1 \\\\\n",
        "\\hline 1 & 1 & 1 \\\\\n",
        "\\hline\n",
        "\\end{array}\n",
        "$"
      ]
    },
    {
      "cell_type": "markdown",
      "metadata": {
        "id": "1Xcz9l-DOcpc"
      },
      "source": [
        "\n",
        "\n",
        "---\n",
        "\n"
      ]
    },
    {
      "cell_type": "markdown",
      "metadata": {
        "id": "HtxqABwhZgK4"
      },
      "source": [
        "<font color=\"blue\">**XOR**</font> - Exklusiv-Oder"
      ]
    },
    {
      "cell_type": "markdown",
      "metadata": {
        "id": "sbYdzKMrre0w"
      },
      "source": [
        "Ein [Exklusiv-Oder-Gate](https://de.m.wikipedia.org/wiki/Exklusiv-Oder-Gatter), auch XOR-Gatter (von englisch eXclusive OR ‚exklusives Oder‘, „entweder oder“) ist ein Gatter mit zwei Eingängen und einem Ausgang, bei dem der Ausgang logisch „1“ ist, wenn an nur einem Eingang „1“ anliegt und an dem anderen „0“. Die Exklusiv-Oder-Verknüpfung wird auch als Anti- oder [Kontravalenz](https://de.wikipedia.org/wiki/Kontravalenz) bezeichnet.\n",
        "\n",
        "**Das bedeutet, dass die Eingänge verschieden beschaltet sein müssen, um am Ausgang eine „1“ zu erhalten**. Entweder an dem einen oder am anderen Eingang muss „1“ anliegen. Im Unterschied zu einer einfachen OR-Verknüpfung gilt die Bedingung als nicht erfüllt, wenn an beiden Eingängen eine „1“ anliegt. Bei Exklusiv-Oder ist das Ergebnis in diesem Fall eine „0“.\n",
        "\n"
      ]
    },
    {
      "cell_type": "markdown",
      "metadata": {
        "id": "7cfFLkHaoyPE"
      },
      "source": [
        "> In quantum computers, the job of the XOR gate is done by the controlled-NOT gate (= this is Controlled Pauli X-Gate -  the normal Pauli X flips the sign for single entries, i.e. from 0 to 1 and reverse)"
      ]
    },
    {
      "cell_type": "markdown",
      "metadata": {
        "id": "liE5vne_ZuGx"
      },
      "source": [
        ">$\n",
        "\\begin{array}{|l|c|l|}\n",
        "\\hline {\\text { A }} &  {\\text { B }} & {A \\dot{\\vee} B} \\\\\n",
        "\\hline \\text { wahr } & \\text { wahr } & \\text { falsch } \\\\\n",
        "\\hline \\text { wahr } & \\text { falsch } & \\text { wahr } \\\\\n",
        "\\hline \\text { falsch } & \\text { wahr } & \\text { wahr } \\\\\n",
        "\\hline \\text { falsch } & \\text { falsch } & \\text { falsch } \\\\\n",
        "\\hline\n",
        "\\end{array}\n",
        "$"
      ]
    },
    {
      "cell_type": "markdown",
      "metadata": {
        "id": "o091DuRpaPq6"
      },
      "source": [
        ">$\n",
        "\\begin{array}{|l|c|l|}\n",
        "\\hline {\\text { A }} &  {\\text { B }} & {A \\dot{\\vee} B} \\\\\n",
        "\\hline \\text { 0 } & \\text { 0 } & \\text { 0 } \\\\\n",
        "\\hline \\text { 0 } & \\text { 1 } & \\text { 1 } \\\\\n",
        "\\hline \\text { 1 } & \\text { 0 } & \\text { 1 } \\\\\n",
        "\\hline \\text { 1 } & \\text { 1 } & \\text { 0 } \\\\\n",
        "\\hline\n",
        "\\end{array}\n",
        "$"
      ]
    },
    {
      "cell_type": "markdown",
      "metadata": {
        "id": "zD55ifmJtIkJ"
      },
      "source": [
        "There are multiple ways to explain the effect of the CNOT (XOR in quantum). One is to say that it looks at its two input bits to see whether they are the same or different. Next, it overwrites the target qubit with the answer. The target becomes 0 if they are the same, and 1 if they are different."
      ]
    },
    {
      "cell_type": "markdown",
      "metadata": {
        "id": "-VY-faH8ak9g"
      },
      "source": [
        "<font color=\"blue\">**NAND**</font> - nicht-und"
      ]
    },
    {
      "cell_type": "markdown",
      "metadata": {
        "id": "dso3qD8satqL"
      },
      "source": [
        "Ein [NAND-Gate](https://de.m.wikipedia.org/wiki/NAND-Gatter) gibt am Ausgang 0 aus, wenn alle Eingänge 1 sind. \n",
        "\n",
        "In allen anderen Fällen, d. h., wenn mindestens ein Eingang 0 ist, wird eine 1 ausgegeben.\n",
        "\n",
        "NAND-Gatter spielen in der Digitaltechnik die Rolle eines Standardbausteins, da sich allein mit ihnen alle logischen Verknüpfungen und somit auch komplexere Schaltungen (wie Addierer, Multiplexer usw.) zusammenstellen lassen, siehe auch vollständige Logiksysteme.\n"
      ]
    },
    {
      "cell_type": "markdown",
      "metadata": {
        "id": "aJZjkcFVa6a_"
      },
      "source": [
        ">$\n",
        "\\begin{array}{|l|c|l|}\n",
        "\\hline {\\text { A }} &  {\\text { B }} & {\\text{A}} \\: {\\text{NAND}} \\: {\\text{B}} \\\\\n",
        "\\hline \\text { 0 } & \\text { 0 } & \\text { 1 } \\\\\n",
        "\\hline \\text { 0 } & \\text { 1 } & \\text { 1 } \\\\\n",
        "\\hline \\text { 1 } & \\text { 0 } & \\text { 1 } \\\\\n",
        "\\hline \\text { 1 } & \\text { 1 } & \\text { 0 } \\\\\n",
        "\\hline\n",
        "\\end{array}\n",
        "$"
      ]
    },
    {
      "cell_type": "markdown",
      "metadata": {
        "id": "yDQnJ79IfQ9h"
      },
      "source": [
        "<font color=\"blue\">**NOR**</font> - not-or / weder-noch"
      ]
    },
    {
      "cell_type": "markdown",
      "metadata": {
        "id": "NwQ6rf5BfWr6"
      },
      "source": [
        "Ein [NOR-Gatter](https://de.wikipedia.org/wiki/NOR-Gatter) (von englisch: not or – nicht oder, oder von englisch nor – (weder – ) noch, ist ein Logikgatter mit zwei oder mehr Eingängen A, B, … und einem Ausgang Y, zwischen denen die logische Verknüpfung NICHT ODER besteht. Ein NOR-Gatter gibt am Ausgang 1 (w) aus, wenn alle Eingänge 0 (f) sind. In allen anderen Fällen, d. h. wenn mindestens ein Eingang 1 ist, wird eine 0 ausgegeben.\n"
      ]
    },
    {
      "cell_type": "markdown",
      "metadata": {
        "id": "81yWuDQ7fpd1"
      },
      "source": [
        ">$\n",
        "\\begin{array}{|c|c|c|}\n",
        "\\hline \\mathbf{A} & \\mathbf{B} & \\mathbf{Y}=\\mathbf{A} ⊽ \\mathbf{B} \\\\\n",
        "\\hline 0 & 0 & 1 \\\\\n",
        "\\hline 0 & 1 & 0 \\\\\n",
        "\\hline 1 & 0 & 0 \\\\\n",
        "\\hline 1 & 1 & 0 \\\\\n",
        "\\hline\n",
        "\\end{array}\n",
        "$"
      ]
    },
    {
      "cell_type": "markdown",
      "metadata": {
        "id": "_vk9SB2addeI"
      },
      "source": [
        "<font color=\"blue\">**XNOR**</font> - eXclusive NOT OR"
      ]
    },
    {
      "cell_type": "markdown",
      "metadata": {
        "id": "3FYFbjCnda9q"
      },
      "source": [
        "Eine [XNOR-Gatter](https://de.m.wikipedia.org/wiki/XNOR-Gatter) ist ein Logikgatter, bei dem am Ausgang eine logische „1“ anliegt, wenn an einer geraden Anzahl von Eingängen „1“ anliegt und an den restlichen „0“. Im Fall von zwei Eingängen liegt am Ausgang also „1“ an, wenn an beiden Eingängen „1“ oder an beiden Eingängen „0“ anliegt (im zweiten Fall liegt an null Eingängen „1“ an, und 0 zählt als gerade Zahl)."
      ]
    },
    {
      "cell_type": "markdown",
      "metadata": {
        "id": "SgOpbmQldp98"
      },
      "source": [
        ">$\n",
        "\\begin{array}{|c|c|c|}\n",
        "\\hline \\text { A } & \\text { B } & \\text { Y }=\\text { A XNOR B } \\\\\n",
        "\\hline 0 & 0 & 1 \\\\\n",
        "\\hline 0 & 1 & 0 \\\\\n",
        "\\hline 1 & 0 & 0 \\\\\n",
        "\\hline 1 & 1 & 1 \\\\\n",
        "\\hline\n",
        "\\end{array}\n",
        "$"
      ]
    },
    {
      "cell_type": "markdown",
      "metadata": {
        "id": "PW3bfP7j2NI6"
      },
      "source": [
        "###### **<font color=\"blue\">Superposition State (Single & Multiple Qubits)**"
      ]
    },
    {
      "cell_type": "markdown",
      "metadata": {
        "id": "1ghrrXaHz0FK"
      },
      "source": [
        "**Single Qubit: Computational State vs Superposition State**\n",
        "\n",
        "* By measuring the state we can get some idea about whether we have a computational state or a superposition state. \n",
        "\n",
        "* If the result appears probabilistic, we have a superposition state; if it's deterministic, we have a computational one. "
      ]
    },
    {
      "cell_type": "markdown",
      "metadata": {
        "id": "CCvNrVFI4B6G"
      },
      "source": [
        "> $a_{1}|0\\rangle+a_{2}|1\\rangle$"
      ]
    },
    {
      "cell_type": "markdown",
      "metadata": {
        "id": "PwSET4_U4G0W"
      },
      "source": [
        "* Mathematically speaking, a state like the one above is a superposition of the states ∣0⟩ and ∣1⟩, but it is only a superposition state in the computational {∣0⟩,∣1⟩} basis.\n",
        "\n"
      ]
    },
    {
      "cell_type": "markdown",
      "metadata": {
        "id": "xwCqkmcpML45"
      },
      "source": [
        "**Multiple Qubits: Product State vs Entangled State (Bell State)**"
      ]
    },
    {
      "cell_type": "markdown",
      "metadata": {
        "id": "lE-o94B525zt"
      },
      "source": [
        "* As the name implies, entanglement is a property of quantum mechanical systems that only reveals itself when states begin to interact.\n",
        "\n",
        "* When two qubits are brought together and we'd like to consider the new joint system that they form, we use a fancy new symbol: ⊗. This is called the tensor product, but really it just represents a combination of two or more quantum states.\n",
        "\n",
        "**Product States**\n",
        "* States which can be described as a tensor product of two independent superpositions are known as product states. \n",
        "\n",
        "A joint state of two initialized qubits can be represented as\n",
        "\n",
        ">$|0\\rangle\\otimes|0\\rangle$\n",
        "\n",
        "If we apply the Hadamard gate to the first qubit, it transforms but leaves the other qubit unaffected, since the Hadamard is a single qubit gate:\n",
        "\n",
        ">$\n",
        "\\mathbf{H}|0\\rangle \\otimes|0\\rangle=\\left(\\frac{1}{\\sqrt{2}}|0\\rangle+\\frac{1}{\\sqrt{2}}|1\\rangle\\right) \\otimes|0\\rangle\n",
        "$\n",
        "\n",
        "**Exkurs**: wenn ein Gate bei einem Single Qubit mehr Probability als 0,5 hat, kann man das so schreiben (Achtung: Koeffizient ist Wurzel aus Probability),\n",
        "\n",
        "> $\\mathbf{H}|0\\rangle\\ = (0,9) * |0\\rangle + (0,1) * |1\\rangle$\n",
        "\n",
        "* 0,71 ist für 50% Probability (man muss es squared nehmen!)\n",
        "\n",
        "* 0,9 ist für 0,99 Probability\n",
        "\n",
        "* 1 ist für 100% Probability für State 0, der andere Term hat dann 0 % und verschwindet. Es bleibt dann nur noch $|0\\rangle$\n",
        "\n",
        "The tensor product is distributive, which in this case means it acts much like multiplication:\n",
        "\n",
        ">$\n",
        "\\mathbf{H}|0\\rangle \\otimes|0\\rangle=\\frac{1}{\\sqrt{2}}|0\\rangle \\otimes|0\\rangle+\\frac{1}{\\sqrt{2}}|1\\rangle \\otimes|0\\rangle \\text {. }\n",
        "$\n",
        "\n",
        "Using a series of single-qubit gates, we can transform two initialized qubits into two new arbitrary states:\n",
        "\n",
        ">$\n",
        "\\begin{array}{l}\n",
        "\\text { Qubit 1: } \\quad|0\\rangle \\rightarrow a_{1}|0\\rangle+a_{2}|1\\rangle \\\\\n",
        "\\text { Qubit 2: } \\quad|0\\rangle \\rightarrow b_{1}|0\\rangle+b_{2}|1\\rangle .\n",
        "\\end{array}\n",
        "$\n",
        "\n",
        "The resulting 2 -qubit state is usually written as their product using a fancy new symbol:\n",
        "\n",
        ">$|0\\rangle\n",
        "\\otimes|0\\rangle \\rightarrow\\left(a_{1}|0\\rangle+a_{2}|1\\rangle\\right) \\otimes\\left(b_{1}|0\\rangle+b_{2}|1\\rangle\\right)\n",
        "$\n",
        "\n",
        "Another way to express this would be:\n",
        "\n",
        "> $a_{1} b_{1}|0\\rangle \\otimes|0\\rangle+a_{1} b_{2}|0\\rangle \\otimes|1\\rangle+a_{2} b_{1}|1\\rangle \\otimes|0\\rangle+a_{2} b_{2}|1\\rangle \\otimes|1\\rangle$\n",
        "\n",
        "**Bell state (Entangled State)**\n",
        "\n",
        "* To simplify notations, we sometimes omit the $\\otimes$ sign and only **write $|00\\rangle$ to denote that both the first qubit and the second qubit are in the $|0\\rangle$ state**. \n",
        "\n",
        "* There are four total 2 -qubit combinations, including $|01\\rangle=|0\\rangle \\otimes|1\\rangle$, and so on.\n",
        "\n",
        "With this simplified notation, a general 2 -qubit joint state can be written as an arbitrary linear combination of four 2 -qubit computational states:\n",
        "\n",
        ">$\n",
        "a|00\\rangle+b|01\\rangle+c|10\\rangle+d|11\\rangle\n",
        "$\n",
        "\n",
        "This is quite a bit different than the joint state found by preparing both qubits into independent single-qubit superpositions:\n",
        "\n",
        ">$\n",
        "\\left(a_{1}|0\\rangle+a_{2}|1\\rangle\\right) \\otimes\\left(b_{1}|0\\rangle+b_{2}|1\\rangle\\right)=a_{1} b_{1}|00\\rangle+a_{1} b_{2}|01\\rangle+a_{2} b_{1}|10\\rangle+\n",
        "$\n",
        "\n",
        "* simple and well-known joint state called the Bell state:\n",
        "\n",
        "> $\\frac{1}{\\sqrt{2}}|00\\rangle+\\frac{1}{\\sqrt{2}}|11\\rangle$\n",
        "\n",
        "* you can NOT write the Bell state as a product of two single-qubit states\n",
        "\n",
        "Entangled States\n",
        "* The Bell state is the prototypical example of an entangled state. \n",
        "* Two qubits which are entangled can never be separated into two independent states: their coefficients are a tangled-up mess:\n",
        "\n",
        "> $|\\psi\\rangle_{\\text {Bell }}=\\frac{1}{\\sqrt{2}}(|00\\rangle+|11\\rangle)$"
      ]
    },
    {
      "cell_type": "markdown",
      "metadata": {
        "id": "_ml34dkmRTZb"
      },
      "source": [
        "![ggg](https://raw.githubusercontent.com/deltorobarba/repo/master/quantum_036.jpg)"
      ]
    },
    {
      "cell_type": "markdown",
      "metadata": {
        "id": "FwxQFhNvRcfh"
      },
      "source": [
        "* We can contrast this with n-qubit product states, where the state of every qubit is known and they have only 2n independent amplitudes. This is a vast difference! \n",
        "\n",
        "* This means that most of the n-qubit space is populated by entangled states, ones that can't be written as a simple product of its components."
      ]
    },
    {
      "cell_type": "markdown",
      "metadata": {
        "id": "Te53NAyORwK7"
      },
      "source": [
        "* We will see in a bit that with only two parameterized gates, we could transform an initialized qubit into any possible single qubit state on the surface of the Bloch sphere:\n",
        "\n",
        "> $\\mathcal{R}_{\\phi} \\mathcal{R}_{\\theta}|0\\rangle=a_{1}|0\\rangle+a_{2}|1\\rangle$"
      ]
    },
    {
      "cell_type": "markdown",
      "metadata": {
        "id": "uljvt0GuUJ20"
      },
      "source": [
        "**How to get to an Entanglement Circuit?**"
      ]
    },
    {
      "cell_type": "markdown",
      "metadata": {
        "id": "nzip0tFBUn9u"
      },
      "source": [
        "To start, we can prepare two qubits in the $|0\\rangle$ state. At this point there's no connection between them, and we can write them in the product state $|\\psi\\rangle=$\n",
        "$|0\\rangle \\otimes|0\\rangle$ which is the same as $|00\\rangle$.\n",
        "\n",
        "Comparing $|\\psi\\rangle$ to the Bell state, we see that at some point along the way, we'll need to get into a superposition. Using the set of gates we currently have at our disposal $(\\mathbf{X}, \\mathbf{Z}, \\mathbf{H})$, there doesn't appear to be a single gate that we can apply to take us from $|\\psi\\rangle$ to $\\left|\\psi_{\\text {Bell }}\\right\\rangle .$ Naively, it seems that we have two tasks ahead of\n",
        "us:\n",
        "\n",
        "1. Getting $|\\psi\\rangle$ into a superposition.\n",
        "\n",
        "2. Adjusting the individual kets so that we're in the Bell state.\n",
        "\n",
        "At the moment we have the Hadamard, which can move one of our qubits into superposition. For argument's sake, let's apply it to the first qubit:\n",
        "$$\n",
        "\\begin{aligned}\n",
        "\\mathbf{H}_{1}|\\psi\\rangle &=(\\mathbf{H}|0\\rangle) \\otimes|0\\rangle \\\\\n",
        "&=\\frac{|0\\rangle+|1\\rangle}{\\sqrt{2}} \\otimes|0\\rangle \\\\\n",
        "&=\\frac{|00\\rangle+|10\\rangle}{\\sqrt{2}} .\n",
        "\\end{aligned}\n",
        "$$"
      ]
    },
    {
      "cell_type": "markdown",
      "metadata": {
        "id": "4cfRfbdXUylr"
      },
      "source": [
        "Now we need to find gates that allow us to coordinate action on two qubits."
      ]
    },
    {
      "cell_type": "markdown",
      "metadata": {
        "id": "-wLmVt2GVInj"
      },
      "source": [
        "While single qubit gates like $\\mathbf{X}$ and $\\mathbf{H}$ can't get us all the way to the Bell state, we'd still like to keep our gate set as simple as possible. In this spirit, let's stick with the Hadamard gate to perform our superposition, and look for a multiqubit gate $\\mathrm{M}$ that can get us the rest of the way:\n",
        "\n",
        "> $\n",
        "\\frac{|00\\rangle+|10\\rangle}{\\sqrt{2}} \\stackrel{\\mathrm{M}}{\\longrightarrow} \\frac{|00\\rangle+|11\\rangle}{\\sqrt{2}}\n",
        "$\n",
        "\n",
        "**Die erste Spalte mit 0 und 1 (links jeweils) zeigt, dass dieses Qubit in einer Superposition ist mit 50% Probability von 0 und 1, während das zweite Qubit (jeweils rechts) 0 und 0 ist, weil es sich nich im initialen Zustand befindet, der immer 100% 0 ist!**\n",
        "\n",
        "Following behaviors would make for a suitable multi-qubit gate M:\n",
        "\n",
        "* Flip qubit 2 whenever qubit 1 and qubit 2 are opposite\n",
        "\n",
        "* Flip qubit 2 if qubit 1 is in state ∣1⟩\n",
        "\n",
        "* we need to keep the core principle of quantum mechanics — reversibility!"
      ]
    },
    {
      "cell_type": "markdown",
      "metadata": {
        "id": "F-hyI4Y8WH5A"
      },
      "source": [
        "Consider the action of $\\mathbf{M}$ on the two-qubit basis states: if a $|11\\rangle$ term appears in the quantum state after we apply $\\mathrm{M}$, we can't tell if it's because we started with a $|11\\rangle$ term, or if it's because we started with a $|10\\rangle$ term.\n",
        "\n",
        "The preferred entangling gate, called CNOT (controlled NOT), gets us into the Bell state while respecting the reversibility condition:\n",
        "$$\n",
        "\\begin{array}{l}\n",
        "|00\\rangle \\stackrel{\\text { CNOT }}{\\longrightarrow}|00\\rangle \\\\\n",
        "|01\\rangle \\stackrel{\\text { CNOT }}{\\longrightarrow}|01\\rangle \\\\\n",
        "|10\\rangle \\stackrel{\\text { CNOT }}{\\longrightarrow}|11\\rangle \\\\\n",
        "|11\\rangle \\stackrel{\\text { CNOT }}{\\longrightarrow}|10\\rangle .\n",
        "\\end{array}\n",
        "$$"
      ]
    },
    {
      "cell_type": "markdown",
      "metadata": {
        "id": "GsYSv3aWW02A"
      },
      "source": [
        "> CNOT, acting on a two-qubit term $\\left|q_{1} q_{2}\\right\\rangle$, applies the $\\mathbf{N O T}(\\mathbf{X})$ gate to the second qubit only if the first qubit is in state $|1\\rangle$. The first qubit controls the action on the second."
      ]
    },
    {
      "cell_type": "markdown",
      "metadata": {
        "id": "tnpFAHpAX3CO"
      },
      "source": [
        "This enables us to prepare the entangled Bell state and is a subroutine\n",
        "\n",
        "> $\\frac{|10\\rangle+|00\\rangle}{\\sqrt{2}} \\stackrel{\\text { CNOT }}{\\longrightarrow} \\frac{|11\\rangle+|00\\rangle}{\\sqrt{2}}$"
      ]
    },
    {
      "cell_type": "markdown",
      "metadata": {
        "id": "exg3Vtx79vEF"
      },
      "source": [
        "**For Quantum Cryptography**"
      ]
    },
    {
      "cell_type": "markdown",
      "metadata": {
        "id": "9JG9DW7T9yVu"
      },
      "source": [
        "* But Alice and Bob aren't stuck with the computational basis: **the Bell state is entangled no matter what basis we use to analyze it**. This is particularly easy to see by switching to the Hadamard basis. \n",
        "\n",
        "* As we showed before, the Bell state has the same form in the computational basis as it does in the Hadamard basis:"
      ]
    },
    {
      "cell_type": "markdown",
      "metadata": {
        "id": "BJJVI3nJ95Sd"
      },
      "source": [
        "> $\\left|\\psi_{\\text {Bell }}\\right\\rangle=\\frac{|00\\rangle+|11\\rangle}{\\sqrt{2}}=\\frac{|--\\rangle+|++\\rangle}{\\sqrt{2}}$"
      ]
    },
    {
      "cell_type": "markdown",
      "metadata": {
        "id": "Ku7YIhNG99wX"
      },
      "source": [
        "* So, Alice and Bob are free to use either basis to coordinate their bits."
      ]
    },
    {
      "cell_type": "markdown",
      "metadata": {
        "id": "Dy2g1dN5CzEk"
      },
      "source": [
        "*If Alice measures her qubit using the Hadamard basis, what are the possibilities for Bob's measurement in the computational basis?*"
      ]
    },
    {
      "cell_type": "markdown",
      "metadata": {
        "id": "CBI_xr4hDMDh"
      },
      "source": [
        "![gg](https://raw.githubusercontent.com/deltorobarba/repo/master/quantum_037.jpg)"
      ]
    },
    {
      "cell_type": "markdown",
      "metadata": {
        "id": "op9AlkI4DSIz"
      },
      "source": [
        "![ggg](https://raw.githubusercontent.com/deltorobarba/repo/master/quantum_038.jpg)"
      ]
    },
    {
      "cell_type": "markdown",
      "metadata": {
        "id": "dba0LoLwGlRc"
      },
      "source": [
        "**CNOT Gate and Entanglement**"
      ]
    },
    {
      "cell_type": "markdown",
      "metadata": {
        "id": "TPNGjNBmG7Fi"
      },
      "source": [
        "Quantum states $|\\psi\\rangle$ aren't always one of the computational basis states. \n",
        "\n",
        "In general, they can also be (ignoring normalization factors)\n",
        "\n",
        ">$\n",
        "|+\\rangle=|0\\rangle+|1\\rangle\n",
        "$\n",
        "\n",
        "or\n",
        "\n",
        ">$\n",
        "|-\\rangle=|0\\rangle-|1\\rangle \\text {. }\n",
        "$"
      ]
    },
    {
      "cell_type": "markdown",
      "metadata": {
        "id": "TUslZaxCGow1"
      },
      "source": [
        "*What does the CNOT gate do with these input states?*"
      ]
    },
    {
      "cell_type": "markdown",
      "metadata": {
        "id": "mB5YrBr6GeKQ"
      },
      "source": [
        "![ggg](https://raw.githubusercontent.com/deltorobarba/repo/master/quantum_039.jpg)"
      ]
    },
    {
      "cell_type": "markdown",
      "metadata": {
        "id": "pc_hRQccWHzu"
      },
      "source": [
        "###### **<font color=\"blue\">Bloch Sphere & Basis (Computational or Hadamard)**"
      ]
    },
    {
      "cell_type": "markdown",
      "metadata": {
        "id": "gtzWrnDZ5EBE"
      },
      "source": [
        "Computational Basis: 0 and 1\n",
        "\n",
        "Hadamard Basis: + and -"
      ]
    },
    {
      "cell_type": "markdown",
      "metadata": {
        "id": "CTjo0psd5QHD"
      },
      "source": [
        "* Whether a quantum state behaves deterministically or like a superposition depends on which basis we are measuring in. The two bases that we will use for measurement: the computational basis and the Hadamard basis.\n",
        "\n",
        "* the two Hadamard states are \"halfway\" between the computational states, which themselves are \"halfway\" between the Hadamard\n",
        "\n",
        "* This visual representation of the four named states we've explored so far is known as a Bloch representation. In it, the measurement and Hadamard bases are orthogonal to one another; a measurement that is deterministic in the vertical computational basis will be uniformly random in the horizontal Hadamard basis, and vice versa.\n",
        "\n",
        "\n",
        "\n"
      ]
    },
    {
      "cell_type": "markdown",
      "metadata": {
        "id": "WC3b7_aN7-Sz"
      },
      "source": [
        "Es ist wichtig anzugeben, in welcher Basis man sich befindet: In Hadamard basis, ∣+⟩ and ∣−⟩ are deterministic states. Naturally, ∣0⟩ and ∣1⟩ are deterministic states in the computational basis, and they are superpositions in the Hadamard basis."
      ]
    },
    {
      "cell_type": "markdown",
      "metadata": {
        "id": "ZgLziQIKUO_k"
      },
      "source": [
        "**Magnitude and Phase**"
      ]
    },
    {
      "cell_type": "markdown",
      "metadata": {
        "id": "FCV_IFNB9pl8"
      },
      "source": [
        "https://www.st-andrews.ac.uk/physics/quvis/simulations_html5/sims/blochsphere/blochsphere.html"
      ]
    },
    {
      "cell_type": "markdown",
      "metadata": {
        "id": "tDXbPNlrJlkF"
      },
      "source": [
        "![ggg](https://raw.githubusercontent.com/deltorobarba/repo/master/quantum_029.jpg)"
      ]
    },
    {
      "cell_type": "markdown",
      "metadata": {
        "id": "Mqx0bmcPJetc"
      },
      "source": [
        "![ggg](https://raw.githubusercontent.com/deltorobarba/repo/master/quantum_026.jpg)"
      ]
    },
    {
      "cell_type": "markdown",
      "metadata": {
        "id": "G5LtJa_NKO8J"
      },
      "source": [
        "Azimut is the horizontal line [Image Source](https://de.m.wikipedia.org/wiki/Azimut):"
      ]
    },
    {
      "cell_type": "markdown",
      "metadata": {
        "id": "MuqNf1a8KXzJ"
      },
      "source": [
        "![ggg](https://upload.wikimedia.org/wikipedia/commons/thumb/f/f7/Azimuth-Altitude_schematic.svg/436px-Azimuth-Altitude_schematic.svg.png)"
      ]
    },
    {
      "cell_type": "markdown",
      "metadata": {
        "id": "CvWsF2WqL-Fh"
      },
      "source": [
        "Just like our simplified general quantum state, any point on a unit sphere can be described by only two variables: polar angle θ and azimuthal angle ϕ:"
      ]
    },
    {
      "cell_type": "markdown",
      "metadata": {
        "id": "M72_IAkdLxib"
      },
      "source": [
        "![ggg](https://raw.githubusercontent.com/deltorobarba/repo/master/quantum_032.jpg)"
      ]
    },
    {
      "cell_type": "markdown",
      "metadata": {
        "id": "Ypx3LkwZSKkn"
      },
      "source": [
        "**With only two parameterized gates, we could transform an initialized qubit into any possible single qubit state on the surface of the Bloch sphere:**\n",
        "\n",
        "> $\\mathcal{R}_{\\phi} \\mathcal{R}_{\\theta}|0\\rangle=a_{1}|0\\rangle+a_{2}|1\\rangle$"
      ]
    },
    {
      "cell_type": "markdown",
      "metadata": {
        "id": "gAmOp9t3KjXG"
      },
      "source": [
        "**Be aware that the position moves differently depending on the path:**"
      ]
    },
    {
      "cell_type": "markdown",
      "metadata": {
        "id": "YZtX-1KuJnVn"
      },
      "source": [
        "![ggg](https://raw.githubusercontent.com/deltorobarba/repo/master/quantum_031.jpg)"
      ]
    },
    {
      "cell_type": "markdown",
      "metadata": {
        "id": "Tg5PZ4T6L9ZM"
      },
      "source": [
        "![ggg](https://raw.githubusercontent.com/deltorobarba/repo/master/quantum_035.jpg)"
      ]
    },
    {
      "cell_type": "markdown",
      "metadata": {
        "id": "pnyxvKp_JZD5"
      },
      "source": [
        "> qubits in superposition have coefficients that can have a **magnitude and a phase**, we need a lot more operations to explore their possible states, and **keeping track of what they all do is tricky**."
      ]
    },
    {
      "cell_type": "markdown",
      "metadata": {
        "id": "xyWkPFC7T2cO"
      },
      "source": [
        "> Recall that every nonzero [complex number](https://en.m.wikipedia.org/wiki/Complex_number) $z=x+j y$ can be written in the form $r e^{j \\theta}$, **where $r:=|z|:=\\sqrt{x^{2}+y^{2}}$ is the magnitude of $z$, and $\\theta$ is the phase, angle, or argument of $z$**. Common notations for $\\theta$ include $\\angle z$ and $\\arg z .$ With this notation, we can write $z=|z| e^{j \\text { arg } z}=|z| \\angle z .$ For each $z \\neq 0$, there are infinitely many possible values for arg $z$, which all differ from each other by an integer multiple of $2 \\pi$. For this reason, it is sometimes convenient to use the principal angle or principal argument of $z$, which is the unique value of $\\theta \\in(-\\pi, \\pi]$ for which $z=|z| e^{j \\theta} .$ The principal argument is denoted by Arg $z$ with an uppercase \"A\".  [Source](https://gubner.ece.wisc.edu/notes/MagnitudeAndPhaseOfComplexNumbers.pdf)"
      ]
    },
    {
      "cell_type": "markdown",
      "metadata": {
        "id": "5sgK-Nq_U-v5"
      },
      "source": [
        "https://de.m.wikipedia.org/wiki/Kugelkoordinaten"
      ]
    },
    {
      "cell_type": "markdown",
      "metadata": {
        "id": "r4ksN-yHUQ7g"
      },
      "source": [
        "**Unitary Matrices as Operators**"
      ]
    },
    {
      "cell_type": "markdown",
      "metadata": {
        "id": "vvnu5HsVUWYe"
      },
      "source": [
        "* Eine [unitäre Matrix](https://de.m.wikipedia.org/wiki/Unitäre_Matrix) ist in der linearen Algebra eine komplexe quadratische Matrix, deren Zeilen- und Spaltenvektoren orthonormal bezüglich des Standardskalarprodukts sind. Damit ist die Inverse einer unitären Matrix gleichzeitig ihre Adjungierte.\n",
        "\n",
        "* Alle Operatoren (Gates) müssen unitär sein in Quantum Computing, damit Operationen reversable sind. \n",
        "\n",
        "* Für unklare Operationen, zB wenn der Kern mehr als einen Wert besitzt (0 und 1 im Definitionsbereich führen beide zu 0 im Wertebereich), dann müssen zusätzliche Hilfs-Qubits im Ziel angegeben werden\n",
        "\n"
      ]
    },
    {
      "cell_type": "markdown",
      "metadata": {
        "id": "T0yEaTOeU73v"
      },
      "source": [
        "https://de.m.wikipedia.org/wiki/Matrixexponential"
      ]
    },
    {
      "cell_type": "markdown",
      "metadata": {
        "id": "YPNwLpstQoMb"
      },
      "source": [
        "**Clifford Gate & Projection-valued measure (PVM)**"
      ]
    },
    {
      "cell_type": "markdown",
      "metadata": {
        "id": "f2vsbdFaQ6RB"
      },
      "source": [
        "* In quantum computing and quantum information theory, the Clifford gates are the elements of the Clifford group, a set of mathematical transformations which effect permutations of the [Pauli operators (Pauli group)](https://en.m.wikipedia.org/wiki/Pauli_group). "
      ]
    },
    {
      "cell_type": "markdown",
      "metadata": {
        "id": "IZm7TjoTRF9Y"
      },
      "source": [
        "https://en.m.wikipedia.org/wiki/Pauli_group"
      ]
    },
    {
      "cell_type": "markdown",
      "metadata": {
        "id": "9ZyqbdY6QvEX"
      },
      "source": [
        "https://en.m.wikipedia.org/wiki/Clifford_gates"
      ]
    },
    {
      "cell_type": "markdown",
      "metadata": {
        "id": "JOCo_wT3Qwkn"
      },
      "source": [
        "https://en.m.wikipedia.org/wiki/Projection-valued_measure"
      ]
    },
    {
      "cell_type": "markdown",
      "metadata": {
        "id": "-OITyDy9QyZA"
      },
      "source": [
        "https://en.m.wikipedia.org/wiki/Projection_(linear_algebra)"
      ]
    },
    {
      "cell_type": "markdown",
      "metadata": {
        "id": "-pkSixFIQ0Bu"
      },
      "source": [
        "https://en.m.wikipedia.org/wiki/Measurement_in_quantum_mechanics"
      ]
    },
    {
      "cell_type": "markdown",
      "metadata": {
        "id": "A6PhfaXw-Fxo"
      },
      "source": [
        "###### **<font color=\"blue\">Identity Gate</font>**"
      ]
    },
    {
      "cell_type": "markdown",
      "metadata": {
        "id": "VtxRkgTfIsJW"
      },
      "source": [
        "it's the same as applying Hadamard gate twice!"
      ]
    },
    {
      "cell_type": "markdown",
      "metadata": {
        "id": "EoNLsA_jA0Fl"
      },
      "source": [
        "The identity gate is the identity matrix, usually written as I, and is defined for a single qubit as\n",
        "\n",
        "> $I=\\left[\\begin{array}{ll}1 & 0 \\\\ 0 & 1\\end{array}\\right]$\n",
        "\n",
        "where $I$ is basis independent and does not modify the quantum state. \n",
        "\n",
        "The identity gate is most useful when describing mathematically the result of various gate operations or when discussing multi-qubit circuits.\n",
        "\n"
      ]
    },
    {
      "cell_type": "markdown",
      "metadata": {
        "id": "NkW4xifhAMIp"
      },
      "source": [
        "###### **<font color=\"blue\">Hadamard Gate</font>**"
      ]
    },
    {
      "cell_type": "markdown",
      "metadata": {
        "id": "DzTefgEigWYg"
      },
      "source": [
        ">Hadamard Gate: Bring a definite Qubit into a Superposition. Great for initialisations.\n"
      ]
    },
    {
      "cell_type": "markdown",
      "metadata": {
        "id": "0UALTEm_66-G"
      },
      "source": [
        "The Hadamard states ∣+⟩ and ∣−⟩ are considered superposition states because they are a combination of the two computational states:\n",
        "\n",
        "> $|\\pm\\rangle=\\frac{1}{\\sqrt{2}}|0\\rangle \\pm \\frac{1}{\\sqrt{2}}|1\\rangle$"
      ]
    },
    {
      "cell_type": "markdown",
      "metadata": {
        "id": "LCQ5H1cB59I3"
      },
      "source": [
        "* The Hadamard gate rotates the state by 90∘\n",
        "\n",
        "* the Hadamard states are where the bulk quantum computation usually occurs, as we saw when we first solved the counterfeit coin problem in a single quantum query.\n",
        "\n",
        "* The first step of the algorithm is entering into the Hadamard basis, performing the computation, and then exiting out of the Hadamard basis to perform a deterministic measurement.\n",
        "\n",
        "* Due to this composition, measuring the Hadamard states results in probabilistic measurements of ∣0⟩ and ∣1⟩. Using the \"basis\" terminology, these states are superpositions in the computational basis.\n",
        " \n",
        "* In Hadamard basis, ∣+⟩ and ∣−⟩ are deterministic states. Naturally, ∣0⟩ and ∣1⟩ are deterministic states in the computational basis, and tey are superpositions in the Hadamard basis."
      ]
    },
    {
      "cell_type": "markdown",
      "metadata": {
        "id": "xRaraGZIdfsF"
      },
      "source": [
        "In order to leverage the superposition of qubits in a computational scheme and achieve quantum parallelism, we have to be able to prepare and manipulate probabilistic superposition states. These two uniform superposition states will be the workhorses of our computation, so they are given a special name—the Hadamard states—and special symbols showing they are a combination of ∣0⟩ and ∣1⟩:\n",
        "\n",
        "There is more than one uniform superposition state \"halfway\" between ∣0⟩ and ∣1⟩. We've already seen several of these superpositions in the last chapter (without normalization). One is the most obvious, with both coefficients being real and positive:\n",
        "\n",
        "> $\\mathbf{H}|0\\rangle$ = $|+\\rangle=\\frac{1}{\\sqrt{2}}|0\\rangle+\\frac{1}{\\sqrt{2}}|1\\rangle=$ $\\frac{1}{\\sqrt{2}}\\left[\\begin{array}{l}1 \\\\ 0\\end{array}\\right] + \\frac{1}{\\sqrt{2}}\\left[\\begin{array}{l}0 \\\\ 1\\end{array}\\right]$ = $\\frac{1}{\\sqrt{2}}\\left[\\begin{array}{l}1 \\\\ 1\\end{array}\\right]$\n",
        "\n",
        "and another also has equal-magnitude coefficients, but with opposite signs:\n",
        "\n",
        "> $\\mathbf{H}|1\\rangle$ = $|-\\rangle=\\frac{1}{\\sqrt{2}}|0\\rangle-\\frac{1}{\\sqrt{2}}|1\\rangle=$ $\\frac{1}{\\sqrt{2}}\\left[\\begin{array}{l}1 \\\\ 0\\end{array}\\right] - \\frac{1}{\\sqrt{2}}\\left[\\begin{array}{l}0 \\\\ 1\\end{array}\\right]$ = $\\frac{1}{\\sqrt{2}}\\left[\\begin{array}{c}1 \\\\ -1\\end{array}\\right]$\n",
        "\n",
        "There are 2 Hadamard states - and +"
      ]
    },
    {
      "cell_type": "markdown",
      "metadata": {
        "id": "HRzPO3YTq51y"
      },
      "source": [
        "Note: In the quantum circuit simulator, the coefficients in superposition are presented as decimals and complex numbers. For example, the coefficient:\n",
        "\n",
        "> $1 / \\sqrt{2} \\approx(0.71+0 i)$\n",
        "\n",
        "(Recall that every nonzero complex number z = x + jy)"
      ]
    },
    {
      "cell_type": "markdown",
      "metadata": {
        "id": "TCXWiH83zR-y"
      },
      "source": [
        "https://www.st-andrews.ac.uk/physics/quvis/simulations_html5/sims/blochsphere/blochsphere.html"
      ]
    },
    {
      "cell_type": "markdown",
      "metadata": {
        "id": "X1cTcaPCxopU"
      },
      "source": [
        "https://physics.stackexchange.com/questions/313959/visual-interpretation-on-the-bloch-sphere-when-hadamard-gate-is-applied-twice"
      ]
    },
    {
      "cell_type": "markdown",
      "metadata": {
        "id": "vN47YuY30d56"
      },
      "source": [
        "**A Black Box Puzzle**"
      ]
    },
    {
      "cell_type": "markdown",
      "metadata": {
        "id": "lj7Fgbjz0WGW"
      },
      "source": [
        "the H operation has another trick up its sleeve: not only can it flip a computational state into a superposition, it can also do the opposite to transform different superpositions back into defined computational states:"
      ]
    },
    {
      "cell_type": "markdown",
      "metadata": {
        "id": "1ZG9lRG60q5m"
      },
      "source": [
        "> $|0\\rangle+|1\\rangle \\stackrel{\\mathbf{H}}{\\longrightarrow}|0\\rangle$\n",
        "\n",
        "> $|0\\rangle-|1\\rangle \\stackrel{\\mathbf{H}}{\\longrightarrow}|\\mathbf{1}\\rangle$"
      ]
    },
    {
      "cell_type": "markdown",
      "metadata": {
        "id": "z-Xw21wX09JT"
      },
      "source": [
        "The superposition state that's output from the black box checker contains all the information we need to see which coins are counterfeit. By comparing some of the input terms to the output ones, we have the following (a property of a qubit state that is useful for computation, its **phase**):"
      ]
    },
    {
      "cell_type": "markdown",
      "metadata": {
        "id": "n7vlJ09s1BkD"
      },
      "source": [
        "> $\\begin{array}{ll}+|1000\\rangle \\rightarrow+|1000\\rangle & \\text { No alarm } \\\\ +|0100\\rangle \\rightarrow+|0100\\rangle & \\text { No alarm } \\\\ +|0010\\rangle \\rightarrow-|0010\\rangle & \\text { Alarm! } \\\\ +|0001\\rangle \\rightarrow-|0001\\rangle & \\text { Alarm! }\\end{array}$"
      ]
    },
    {
      "cell_type": "markdown",
      "metadata": {
        "id": "36NxCvzR1GhQ"
      },
      "source": [
        "In only one query, all the possible coin inputs that set off the alarm have been tagged with a minus sign (−)."
      ]
    },
    {
      "cell_type": "markdown",
      "metadata": {
        "id": "cGjeGeBvlLhN"
      },
      "source": [
        "**Herleitung (Wichtig!)**"
      ]
    },
    {
      "cell_type": "markdown",
      "metadata": {
        "id": "jlydPDD7l_rL"
      },
      "source": [
        "For an equal (or uniform) superposition of the two computational states, we can set the two coefficients equal to each other:"
      ]
    },
    {
      "cell_type": "markdown",
      "metadata": {
        "id": "wzxNzcsQmCL1"
      },
      "source": [
        "$a_{1}=a_{2}=a$"
      ]
    },
    {
      "cell_type": "markdown",
      "metadata": {
        "id": "w1O41blRlXLB"
      },
      "source": [
        "The normalization condition for a well-behaved quantum state requires that the sum of the squared magnitudes of the coefficients be equal to one; this is sufficient to find \n",
        "a\n",
        "a for a uniform superposition:"
      ]
    },
    {
      "cell_type": "markdown",
      "metadata": {
        "id": "VmexYvbnlPA3"
      },
      "source": [
        "$|a|^{2}+|a|^{2}=1$\n",
        "\n",
        "$2|a|^{2}=1$\n",
        "\n",
        "$|a|^{2}=\\frac{1}{2}$\n",
        "\n",
        "$a=\\frac{1}{\\sqrt{2}}$"
      ]
    },
    {
      "cell_type": "markdown",
      "metadata": {
        "id": "EkqZTdvAlaP9"
      },
      "source": [
        "In vector form, this state can represented as"
      ]
    },
    {
      "cell_type": "markdown",
      "metadata": {
        "id": "LbITlbyCloo0"
      },
      "source": [
        "> $\\left[\\begin{array}{l}\\frac{1}{\\sqrt{2}} \\\\ \\frac{1}{\\sqrt{2}}\\end{array}\\right]$ = $\\frac{1}{\\sqrt{2}}$ $\\left[\\begin{array}{c} 1 \\\\ 0 \\end{array}\\right]$ + $\\frac{1}{\\sqrt{2}}$ $\\left[\\begin{array}{c} 0 \\\\ 1 \\end{array}\\right]$"
      ]
    },
    {
      "cell_type": "markdown",
      "metadata": {
        "id": "1mxhCAzAlqUM"
      },
      "source": [
        "This is what we can use now to understand Hadamard, where you want \"halfway\" a 50/50 chance of basis states 0 and 1 (Bloch sphere representation of superposition state):"
      ]
    },
    {
      "cell_type": "markdown",
      "metadata": {
        "id": "LXfXsn4vmfts"
      },
      "source": [
        "![ggg](https://raw.githubusercontent.com/deltorobarba/repo/master/quantum_025.jpg)"
      ]
    },
    {
      "cell_type": "markdown",
      "metadata": {
        "id": "v_JIWvrggQJa"
      },
      "source": [
        "**Exercise**"
      ]
    },
    {
      "cell_type": "markdown",
      "metadata": {
        "id": "wtVbNS8lgR4B"
      },
      "source": [
        "You have a deterministic basis state 0, then apply H to get superposition between basis state 0 and basis state 1:\n",
        "\n",
        "$(0.71+0.00 i)|0\\rangle$\n",
        "\n",
        "$(0.71+0.00 i)|1\\rangle$\n",
        "\n",
        "Apply X gate to flip from basis state 0 to basis state 1 deterministically, then apply H. Outcome:\n",
        "\n",
        "$(0.71+0.00 i)|0\\rangle$\n",
        "\n",
        "$(-0.71+0.00 i)|1\\rangle$\n",
        "\n",
        "Notice how both end up in probabilistics 50/50 chance, but lower is minus"
      ]
    },
    {
      "cell_type": "markdown",
      "metadata": {
        "id": "zBbw2pdsrYYs"
      },
      "source": [
        "probability is the same, but maybe since we started in two different deterministic states, up and down, das vorzeichen ist anders (???)"
      ]
    },
    {
      "cell_type": "markdown",
      "metadata": {
        "id": "aYqg9iMx-JIw"
      },
      "source": [
        "**Hadamard Gate**"
      ]
    },
    {
      "cell_type": "markdown",
      "metadata": {
        "id": "c96Yt-WlgUcz"
      },
      "source": [
        ">Bring a definite Qubit into a Superposition. Great for initialisations.\n",
        "\n",
        "The Hadamard gate has the characteristically quantum capacity to **transform a definite quantum state, such as spin-up, into a murky one, such as a superposition of both spin-up and spin-down at the same time**. Once you send a spin-up or spin-down electron through an H-gate, it will become like a penny standing on its end, with precisely 50/50 odds that it will end up heads (spin-up) or tails (spin-down) when toppled and measured. **This H-gate is extremely useful for performing the first computation in any quantum program because it transforms pre-set, or initialized, qubits back into their natural fluid state in order** to leverage their full quantum powers."
      ]
    },
    {
      "cell_type": "markdown",
      "metadata": {
        "id": "HzCVRmE4-LqQ"
      },
      "source": [
        "* ist ein Quantengatter, das sich auf einzelne Quantenbits bezieht (acts on a single qubit)\n",
        "\n",
        "* creates a superposition: Überführt $|0\\rangle$ und $|1\\rangle$ in überlagerte Zustände. \n",
        "\n",
        "> It maps the basis state $|0\\rangle$ to $\\frac{|0\\rangle+|1\\rangle}{\\sqrt{2}}$ and $|1\\rangle$ to $\\frac{|0\\rangle-|1\\rangle}{\\sqrt{2}}$, which means that a measurement will have equal probabilities to result in 1 or 0 (i.e. creates a superposition). \n",
        "\n",
        "* Spiegelung des hyperkomplexen Eingangs an der X+Z-Achse. It represents a rotation of $\\pi$ about the axis $(\\hat{x}+\\hat{z}) / \\sqrt{2}$ at the Bloch sphere. It is represented by the Hadamard matrix:\n",
        "\n",
        "> $\\frac{1}{\\sqrt{2}} \\cdot\\left(\\begin{array}{cc}1 & 1 \\\\ 1 & -1\\end{array}\\right)$\n",
        "\n",
        "See more: https://en.m.wikipedia.org/wiki/Hadamard_transform#Quantum_computing_applications"
      ]
    },
    {
      "cell_type": "markdown",
      "metadata": {
        "id": "Dkz7vtKCo7HE"
      },
      "source": [
        "In quantum computing, the Hadamard gate is a one-qubit rotation, mapping the qubitbasis states $|0\\rangle$ and $|1\\rangle$ to two **superposition** states with **equal weight of the computational basis** states $|0\\rangle$ and $|1\\rangle$. Usually the phases are chosen so that\n",
        "\n",
        ">$\n",
        "H=\\frac{|0\\rangle+|1\\rangle}{\\sqrt{2}}\\langle 0|+\\frac{|0\\rangle-|1\\rangle}{\\sqrt{2}}\\langle 1|\n",
        "$\n",
        "\n",
        "in Dirac notation. This corresponds to the transformation matrix\n",
        "\n",
        "> $\n",
        "H_{1}=\\frac{1}{\\sqrt{2}}\\left(\\begin{array}{cc}\n",
        "1 & 1 \\\\\n",
        "1 & -1\n",
        "\\end{array}\\right)\n",
        "$\n",
        "\n",
        "in the $|0\\rangle,|1\\rangle$ basis, also known as the computational basis. The states $\\frac{|0\\rangle+|1\\rangle}{\\sqrt{2}}$ and $\\frac{|0\\rangle-|1\\rangle}{\\sqrt{2}}$ are known as $|+\\rangle$ and $|-\\rangle$ respectively, and together constitute the polar basis in quantum computing."
      ]
    },
    {
      "cell_type": "markdown",
      "metadata": {
        "id": "Lki5vpfWfiRi"
      },
      "source": [
        "![ggg](https://raw.githubusercontent.com/deltorobarba/repo/master/quantum_017.jpeg)"
      ]
    },
    {
      "cell_type": "markdown",
      "metadata": {
        "id": "KlCP-muCpOWK"
      },
      "source": [
        "*Hadamard gate operations:*\n",
        "\n",
        "> $\\begin{aligned} H(|0\\rangle) &=\\frac{1}{\\sqrt{2}}|0\\rangle+\\frac{1}{\\sqrt{2}}|1\\rangle=:|+\\rangle \\\\ H(|1\\rangle) &=\\frac{1}{\\sqrt{2}}|0\\rangle-\\frac{1}{\\sqrt{2}}|1\\rangle=:|-\\rangle \\\\ H\\left(\\frac{1}{\\sqrt{2}}|0\\rangle+\\frac{1}{\\sqrt{2}}|1\\rangle\\right) &=\\frac{1}{2}(|0\\rangle+|1\\rangle)+\\frac{1}{2}(|0\\rangle-|1\\rangle)=|0\\rangle \\\\ H\\left(\\frac{1}{\\sqrt{2}}|0\\rangle-\\frac{1}{\\sqrt{2}}|1\\rangle\\right) &=\\frac{1}{2}(|0\\rangle+|1\\rangle)-\\frac{1}{2}(|0\\rangle-|1\\rangle)=|1\\rangle \\end{aligned}$\n",
        "\n",
        "One application of the Hadamard gate to either a 0 or 1 qubit will produce a quantum state that, if observed, **will be a 0 or 1 with equal probability** (as seen in the first two operations). This is exactly like flipping a fair coin in the standard probabilistic model of computation. However, if the Hadamard gate is applied twice in succession (as is effectively being done in the last two operations), then the final state is always the same as the initial state (because quantum operations are reversable, unlike operations on classical computers)."
      ]
    },
    {
      "cell_type": "markdown",
      "metadata": {
        "id": "sjkrUuP2p6pl"
      },
      "source": [
        "Computing the quantum Hadamard transform is simply the **application of a Hadamard gate to each qubit individually because of the tensor product structure of the Hadamard transform**. This simple result means the quantum Hadamard transform requires log  n operations, compared to the classical case of n log n operations."
      ]
    },
    {
      "cell_type": "markdown",
      "metadata": {
        "id": "4Ed940d8qGMw"
      },
      "source": [
        "**Many quantum algorithms use the Hadamard transform as an initial step, since it maps $m$ qubits initialized with $|0\\rangle$ to a superposition of all $2^{m}$ orthogonal states in the $|0\\rangle,|1\\rangle$ basis with equal weight**. \n",
        "\n",
        "For example, this is used in the Deutsch-Jozsa algorithm, Simon's algorithm, the Bernstein-Vazirani algorithm, and in Grover's algorithm. Note that Shor's algorithm uses both an initial Hadamard transform, as well as the quantum Fourier transform, which are both types of Fourier transforms on finite groups; the first on $(\\mathbb{Z} / 2 \\mathbb{Z})^{n}$ and the second on $\\mathbb{Z} / 2^{n} \\mathbb{Z}$."
      ]
    },
    {
      "cell_type": "markdown",
      "metadata": {
        "id": "Se8dN6XRjykD"
      },
      "source": [
        "**Hadamard Matrix**"
      ]
    },
    {
      "cell_type": "markdown",
      "metadata": {
        "id": "6tMZqzBLj4Gs"
      },
      "source": [
        "* a [Hadamard matrix](https://en.m.wikipedia.org/wiki/Hadamard_matrix) is a square matrix whose entries are either +1 or −1 and **whose rows are mutually orthogonal**. \n",
        "\n",
        "* In geometric terms, this means that **each pair of rows in a Hadamard matrix represents two perpendicular vectors**, while in combinatorial terms, it means that each pair of rows has matching entries in exactly half of their columns and mismatched entries in the remaining columns. \n",
        "\n",
        "* It is a consequence of this definition that the corresponding properties hold for columns as well as rows. The n-dimensional parallelotope spanned by the rows of an n×n Hadamard matrix has the maximum possible n-dimensional volume among parallelotopes spanned by vectors whose entries are bounded in absolute value by 1. \n",
        "\n",
        "* Equivalently, a Hadamard matrix has maximal determinant among matrices with entries of absolute value less than or equal to 1 and so is an extremal solution of [Hadamard's maximal determinant problem](https://en.m.wikipedia.org/wiki/Hadamard%27s_maximal_determinant_problem).\n",
        "\n",
        "* Certain Hadamard matrices can almost directly be used as an error-correcting code using a Hadamard code (generalized in Reed–Muller codes), and are also used in balanced repeated replication (BRR), used by statisticians to estimate the variance of a parameter estimator.\n"
      ]
    },
    {
      "cell_type": "markdown",
      "metadata": {
        "id": "ygiw4JYCkmzK"
      },
      "source": [
        "Let $H$ be a Hadamard matrix of order n. Then the partitioned matrix:\n",
        "\n",
        "> $\\left[\\begin{array}{cc}H & H \\\\ H & -H\\end{array}\\right]$\n",
        "\n",
        "is a Hadamard matrix of order 2n. This observation can be applied repeatedly and leads to the following sequence of matrices, also called [Walsh matrices](https://en.m.wikipedia.org/wiki/Walsh_matrix):\n",
        "\n",
        "> $H_{1}=[1]$\n",
        "\n",
        "> $H_{2}=\\left[\\begin{array}{cc}1 & 1 \\\\ 1 & -1\\end{array}\\right]$\n",
        "\n",
        "> $H_{4}=\\left[\\begin{array}{cccc}1 & 1 & 1 & 1 \\\\ 1 & -1 & 1 & -1 \\\\ 1 & 1 & -1 & -1 \\\\ 1 & -1 & -1 & 1\\end{array}\\right]$\n",
        "\n",
        "and\n",
        "\n",
        "> $\n",
        "H_{2^{k}}=\\left[\\begin{array}{cc}\n",
        "H_{2^{k-1}} & H_{2^{k-1}} \\\\\n",
        "H_{2^{k-1}} & -H_{2^{k-1}}\n",
        "\\end{array}\\right]=H_{2} \\otimes H_{2^{k-1}}\n",
        "$\n",
        "\n",
        "for $2 \\leq k \\in N$, where $\\otimes$ denotes the Kronecker product."
      ]
    },
    {
      "cell_type": "markdown",
      "metadata": {
        "id": "6c--DR86lFZn"
      },
      "source": [
        "*The Walsh matrices are a special case of Hadamard matrices. **Here is an example of a [Walsh matrix](https://en.m.wikipedia.org/wiki/Walsh_matrix) of order 16 multiplied with a vector**. (a Walsh matrix is a specific square matrix of dimensions $2^n$, where n are some particular natural number. The entries of the matrix are either +1 or −1 and its rows as well as columns are orthogonal, i.e. dot product is zero)*\n",
        "\n",
        "![gg](https://upload.wikimedia.org/wikipedia/commons/thumb/3/34/Walsh_16_%2A_Gould%27s-Morse.svg/640px-Walsh_16_%2A_Gould%27s-Morse.svg.png)"
      ]
    },
    {
      "cell_type": "markdown",
      "metadata": {
        "id": "kwLuliUfcdXH"
      },
      "source": [
        "**Hadamard Transform**"
      ]
    },
    {
      "cell_type": "markdown",
      "metadata": {
        "id": "gJ51vgmEckHI"
      },
      "source": [
        "* **The Hadamard transform is used extensively in quantum computing**. The 2 × 2 Hadamard transforms $H_{1}$ is the quantum logic gate known as the Hadamard gate, and **the application of a Hadamard gate to each qubit of an n-qubit register in parallel is equivalent to the Hadamard transform $H_{n}$**.\n",
        "\n",
        "* The Hadamard transform: also known as the Walsh–Hadamard transform, Hadamard–Rademacher–Walsh transform, Walsh transform, or Walsh–Fourier transform\n",
        "\n",
        "* **Hadamard transform is an example of a generalized class of [Fourier transforms](https://en.m.wikipedia.org/wiki/Fourier_transform)**. \n",
        "\n",
        "* It performs an orthogonal, symmetric, involutive, linear operation on $2^m$ real numbers (or complex, or hypercomplex numbers, although the Hadamard matrices themselves are purely real).\n",
        "\n",
        "* The Hadamard transform can be regarded as being built out of size-2 [discrete Fourier transforms (DFTs)](https://en.m.wikipedia.org/wiki/Discrete_Fourier_transform), and is in fact equivalent to a multidimensional DFT of size 2 × 2 × ⋯ × 2 × 2. It decomposes an arbitrary input vector into a superposition of [Walsh functions](https://en.m.wikipedia.org/wiki/Walsh_function)."
      ]
    },
    {
      "cell_type": "markdown",
      "metadata": {
        "id": "UQh4UJSSBK4k"
      },
      "source": [
        "###### **<font color=\"blue\">Pauli Gates (X,Y,Z)</font>**"
      ]
    },
    {
      "cell_type": "markdown",
      "metadata": {
        "id": "dNvPyq5JarDM"
      },
      "source": [
        "Nice visualisations: https://medium.com/analytics-vidhya/quantum-gates-7fe83817b684"
      ]
    },
    {
      "cell_type": "markdown",
      "metadata": {
        "id": "eTup_2Z3CGw0"
      },
      "source": [
        "The Pauli gates $(X, Y, Z)$ are the three Pauli matrices $\\left(\\sigma_{x}, \\sigma_{y}, \\sigma_{z}\\right)$ and act on a single qubit. The Pauli $X_{1} Y$ and $Z$ equate, respectively, to a rotation around the $x, y$ and $z$ axes of the Bloch sphere by $\\pi$ radians."
      ]
    },
    {
      "cell_type": "markdown",
      "metadata": {
        "id": "FFWOCcCzAjxg"
      },
      "source": [
        "**Pauli X-Gate**"
      ]
    },
    {
      "cell_type": "markdown",
      "metadata": {
        "id": "Qj0U7aNDCARB"
      },
      "source": [
        "The Pauli- $X$ gate is the quantum equivalent of the [NOT gate](https://en.m.wikipedia.org/wiki/Inverter_(logic_gate)) for classical computers (its main function is to invert the input signal applied) with respect to the standard basis $|0\\rangle,|1\\rangle$, which distinguishes the $z$ axis on the Bloch sphere. It is sometimes called a bit-flip as it maps $|0\\rangle$ to $|1\\rangle$ and $|1\\rangle$ to $|0\\rangle .$ \n",
        "\n",
        "> $X=\\sigma_{x}=\\mathrm{NOT}=\\left[\\begin{array}{ll}0 & 1 \\\\ 1 & 0\\end{array}\\right]$"
      ]
    },
    {
      "cell_type": "markdown",
      "metadata": {
        "id": "gdm6lQMUAmW4"
      },
      "source": [
        "**Pauli-Y Gate**"
      ]
    },
    {
      "cell_type": "markdown",
      "metadata": {
        "id": "V0evDSYCpZWL"
      },
      "source": [
        "Similarly, the Pauli- $Y$ maps $|0\\rangle$ to $i|1\\rangle$ and $|1\\rangle$ to $-i|0\\rangle$ (NOT gate with i-multiple):\n",
        "\n",
        "> $Y=\\sigma_{y}=\\left[\\begin{array}{cc}0 & -i \\\\ i & 0\\end{array}\\right]$"
      ]
    },
    {
      "cell_type": "markdown",
      "metadata": {
        "id": "Sjk59ZznAt9A"
      },
      "source": [
        "**Pauli-Z Gate**"
      ]
    },
    {
      "cell_type": "markdown",
      "metadata": {
        "id": "47kB85hvpXCc"
      },
      "source": [
        "Pauli $Z$ leaves the basis state $|0\\rangle$ unchanged and maps $|1\\rangle$ to $-|1\\rangle$. Due to this nature, it is sometimes called **phase-flip** (flips sign of second entangled state):\n",
        "\n",
        "> $Z=\\sigma_{z}=\\left[\\begin{array}{cc}1 & 0 \\\\ 0 & -1\\end{array}\\right]$"
      ]
    },
    {
      "cell_type": "markdown",
      "metadata": {
        "id": "H9H75gRPBLUT"
      },
      "source": [
        "* Pauli Z gate is a phase flip gate that causes rotation around the z-axis by π radians.\n",
        "\n",
        "> $Z=\\left[\\begin{array}{cc}1 & 0 \\\\ 0 & -1\\end{array}\\right] \\quad Z=|0\\rangle\\langle 0|-| 1\\rangle\\langle 1|$\n",
        "\n",
        "* Since |0⟩ and |1⟩ lie on the z-axis, the Z-gate will not affect these states. To put it in other terms **|0⟩ and |1⟩ are the two eigenstates of the Z-gate**. On the other hand, it flips |+⟩ to |-⟩ and |-⟩ to |+⟩."
      ]
    },
    {
      "cell_type": "markdown",
      "metadata": {
        "id": "9SHkliCC16cy"
      },
      "source": [
        "In the counterfeit coin puzzle we solved in the introduction, at one point the counterfeit information we were trying to retrieve from a state was represented as the sign of a state. Along with changing the magnitude of a state's coefficients, changing their phase (or sign) can be an important way to operate on a qubit. We do this with the Z gate:"
      ]
    },
    {
      "cell_type": "markdown",
      "metadata": {
        "id": "JfV3a9g-2F4J"
      },
      "source": [
        "> $\\mathbf{Z}|0\\rangle=|0\\rangle$\n",
        "\n",
        "> $\\mathbf{Z}|1\\rangle=-|1\\rangle$"
      ]
    },
    {
      "cell_type": "markdown",
      "metadata": {
        "id": "FNTlV6bo8o5s"
      },
      "source": [
        "The Z gate is like the X gate but in the hadamard basis, flipping states"
      ]
    },
    {
      "cell_type": "markdown",
      "metadata": {
        "id": "pSgXAUllBl2i"
      },
      "source": [
        "**Pauli Matrices in general**"
      ]
    },
    {
      "cell_type": "markdown",
      "metadata": {
        "id": "k230wcAMDEJu"
      },
      "source": [
        "The Pauli matrices are [involutory](https://en.m.wikipedia.org/wiki/Involutory_matrix) (a square matrix that is its own inverse), meaning that the square of a Pauli matrix is the identity matrix.\n",
        "\n",
        ">$\n",
        "I^{2}=X^{2}=Y^{2}=Z^{2}=-i X Y Z=I\n",
        "$\n",
        "\n",
        "The Pauli matrices also [anti-commute](https://en.m.wikipedia.org/wiki/Anticommutative_property), for example $Z X=i Y=-X Z$.\n",
        "\n",
        "*Anticommutativity is a specific property of some non-commutative operations. In mathematical physics, where symmetry is of central importance, these operations are mostly called antisymmetric operations, and are extended in an associative setting to cover more than two arguments. **Swapping the position of two arguments of an antisymmetric operation yields a result which is the inverse of the result with unswapped arguments**. The notion inverse refers to a group structure on the operation's codomain, possibly with another operation, such as addition.*"
      ]
    },
    {
      "cell_type": "markdown",
      "metadata": {
        "id": "8m2G9jYg87jT"
      },
      "source": [
        "###### **<font color=\"blue\">S-Gate with $\\mu$ and $\\nu$**"
      ]
    },
    {
      "cell_type": "markdown",
      "metadata": {
        "id": "TMYcA_yS9JUJ"
      },
      "source": [
        "* fintuning Z gate in der Hadamard basis\n",
        "\n",
        "* S-gate is die Hälfte vom Z-Gate, und R-Gate ein viertel vom Z-Gate"
      ]
    },
    {
      "cell_type": "markdown",
      "metadata": {
        "id": "C9ZUIQnb9mVY"
      },
      "source": [
        "Consider a new gate that we'll call $\\mathbf{S}$. If $\\mathbf{S}$ is applied twice to $|+\\rangle$ we end up at $|-\\rangle$, but if it is applied once we get a middle state $|\\mu\\rangle$ that is neither $|+\\rangle$ nor $|-\\rangle$ :\n",
        "\n",
        "$\\mathbf{S}^{2}|+\\rangle=|-\\rangle$\n",
        "\n",
        "$\\mathbf{S}|+\\rangle=|\\mu\\rangle$\n",
        "\n",
        "In terms of Z, S is:\n",
        "\n",
        "$\\mathbf{S}=\\sqrt{\\mathbf{Z}}$"
      ]
    },
    {
      "cell_type": "markdown",
      "metadata": {
        "id": "DTwQcWAR-UNF"
      },
      "source": [
        "The phase gate $\\mathbf{Z}$ transforms $|+\\rangle$ to $|-\\rangle$, and we can find the gate that does \"half of\" this transformation by finding the square root of the matrix $\\mathbf{Z}$ :\n",
        "\n",
        "> $\\sqrt{\\mathbf{Z}}={S}=\\left[\\begin{array}{cc}1 & 0 \\\\ 0 & \\sqrt{-1}\\end{array}\\right]=\\left[\\begin{array}{cc}1 & 0 \\\\ 0 & i\\end{array}\\right]$\n",
        "\n",
        "Use the matrix $\\mathbf{S}$ to find the state $|\\mu\\rangle$ which is \"halfway\" between $|+\\rangle$ and $|-\\rangle$ :\n",
        "\n",
        "> $\\mathbf{S}|+\\rangle=|\\mu\\rangle$, which is:\n",
        "\n",
        "> $|\\mu\\rangle=\\frac{1}{\\sqrt{2}}(|0\\rangle+i|1\\rangle)$"
      ]
    },
    {
      "cell_type": "markdown",
      "metadata": {
        "id": "VAkrE51W_Ltm"
      },
      "source": [
        "If you begin with $|+\\rangle$ and apply the $\\mathbf{S}$ gate three times in a row, you find a new state, $|\\nu\\rangle$ which appears to mirror the complex state $|\\mu\\rangle$ :\n",
        "\n",
        "> $|\\mu\\rangle=\\frac{1}{\\sqrt{2}}(|0\\rangle+i|1\\rangle)$\n",
        "\n",
        "> $|\\nu\\rangle=\\frac{1}{\\sqrt{2}}(|0\\rangle-i|1\\rangle) .$"
      ]
    },
    {
      "cell_type": "markdown",
      "metadata": {
        "id": "poRpmXapBDRX"
      },
      "source": [
        "###### **<font color=\"red\">T Gate and R8 Gate: Parametrizing it as continuous**"
      ]
    },
    {
      "cell_type": "markdown",
      "metadata": {
        "id": "lLv7mDWoD6t-"
      },
      "source": [
        "We 've already uncovered the gates we need to perform any rotations around the $x$ - and $z$-axes, which can bring us from an initialized qubit to any other quantum state.\n",
        "\n",
        "Unfortunately, this result comes with a pretty serious caveat: all of the gates we have used so far are discrete. They perform rotations around the Bloch sphere, but since they rotate in discrete hops (of $\\pi / 2$ or $\\pi$ ), they are unable to reach most of the intermediate states on the surface of the sphere.\n",
        "\n",
        "One solution to this problem is to define smaller and smaller rotations around these axes. The gate $\\mathbf{S}$ is equal to $\\sqrt{\\mathbf{Z}}$ and halves its rotation angle from $\\pi$ to $\\pi / 2$. Even greater division of these gates is possible, and some of them have\n",
        "common names:"
      ]
    },
    {
      "cell_type": "markdown",
      "metadata": {
        "id": "QDrCCg6uBVL9"
      },
      "source": [
        "$\\mathbf{Z}=\\mathbf{Z}=\\left[\\begin{array}{cc}1 & 0 \\\\ 0 & -1\\end{array}\\right]$ Rotation: $\\pi$\n",
        "\n",
        "$\\mathbf{S}=\\sqrt[2]{\\mathbf{Z}}=\\left[\\begin{array}{cc}1 & 0 \\\\ 0 & i\\end{array}\\right]$ Rotation: $\\pi / 2$\n",
        "\n",
        "\n",
        "$\\mathbf{T}=\\sqrt[4]{\\mathbf{Z}}=\\left[\\begin{array}{cc}1 & 0 \\\\ 0 & e^{i \\pi / 4}\\end{array}\\right] \\quad$ Rotation: $\\pi / 4$\n",
        "\n",
        "$\\mathbf{R 8}=\\sqrt[8]{\\mathbf{Z}}=\\left[\\begin{array}{cc}1 & 0 \\\\ 0 & e^{i \\pi / 8}\\end{array}\\right] \\quad$ Rotation: $\\pi / 8 .$"
      ]
    },
    {
      "cell_type": "markdown",
      "metadata": {
        "id": "LXF3uyC_EzrE"
      },
      "source": [
        "**Simplifying (Decomposing)**"
      ]
    },
    {
      "cell_type": "markdown",
      "metadata": {
        "id": "jzP2gFMWEyVe"
      },
      "source": [
        "Consider the general 1 -qubit state\n",
        "\n",
        ">$\n",
        "a_{1}|0\\rangle+a_{2}|1\\rangle\n",
        "$\n",
        "\n",
        "Each of these coefficients can be a complex number, which has both a magnitude and a phase, meaning each qubit totals four continuous variables:\n",
        "\n",
        ">$\n",
        "A_{1} e^{i \\alpha_{1}}|0\\rangle+A_{2} e^{i \\alpha_{2}}|1\\rangle\n",
        "$\n",
        "\n",
        "We can get some clues for how to reach an arbitrary qubit state with minimal operations by decomposing this general form into its essential components.\n",
        "\n"
      ]
    },
    {
      "cell_type": "markdown",
      "metadata": {
        "id": "5WiDnoSqFaXX"
      },
      "source": [
        "Which trigonometric identity reflects a fundamental property of quantum states and can simplify this general qubit state?\n",
        "\n",
        "> $\\sin ^{2} \\theta+\\cos ^{2} \\theta=1$"
      ]
    },
    {
      "cell_type": "markdown",
      "metadata": {
        "id": "4eBKSVS8EZ2d"
      },
      "source": [
        "**Adding the constraint of normalization was all we needed to finish decomposing a qubit state down to its simplest form**:\n",
        "\n",
        "> $\\cos (\\theta / 2)|0\\rangle+e^{i \\phi} \\sin (\\theta / 2)|1\\rangle$"
      ]
    },
    {
      "cell_type": "markdown",
      "metadata": {
        "id": "m7NnH7oHX0p6"
      },
      "source": [
        "![ggg](https://raw.githubusercontent.com/deltorobarba/repo/master/quantum_034.jpg)"
      ]
    },
    {
      "cell_type": "markdown",
      "metadata": {
        "id": "OILJg4UbX_U_"
      },
      "source": [
        "Source: https://youtu.be/I6MZgIdv6To"
      ]
    },
    {
      "cell_type": "markdown",
      "metadata": {
        "id": "EiruP6srCa9i"
      },
      "source": [
        "**Remember: Any point on a unit sphere can be described by only two variables: polar angle θ and azimuthal angle ϕ.**"
      ]
    },
    {
      "cell_type": "markdown",
      "metadata": {
        "id": "msHmdJJOC9nC"
      },
      "source": [
        "![ggg](https://raw.githubusercontent.com/deltorobarba/repo/master/quantum_033.jpg)"
      ]
    },
    {
      "cell_type": "markdown",
      "metadata": {
        "id": "aKjNQXa2F-Sf"
      },
      "source": [
        "This expression for a general qubit can describe any of the states we've considered thus far, and each state will have a unit pair of angular parameters $\\theta$ and $\\phi:$\n",
        "\n",
        "> $\n",
        "\\cos (\\theta / 2)|0\\rangle+e^{i \\phi} \\sin (\\theta / 2)|1\\rangle\n",
        "$\n",
        "\n",
        "Consider the state of an initialized qubit: $|0\\rangle$. This state is parameterized by the relatively straightforward $\\theta=0, \\phi=0$. The Hadamard state $|+\\rangle$ is parameterized by $\\theta=\\pi / 2, \\phi=0 .$ \n",
        "\n",
        "Try it for yourself in the Bloch sphere model below. As $\\theta$ increases from 0 , the state is rotated around the $x$-axis, and as $\\phi$ increases, the state is rotated around the $z$-axis."
      ]
    },
    {
      "cell_type": "markdown",
      "metadata": {
        "id": "GjCD0HdaE4Qa"
      },
      "source": [
        "**Making it continuous**"
      ]
    },
    {
      "cell_type": "markdown",
      "metadata": {
        "id": "ZXVFU9YHCFt6"
      },
      "source": [
        "While defining gates with smaller and smaller rotations will yield greater coverage of the Bloch sphere, a set of discrete gates will never be able to accomplish truly universal quantum computation, even with one qubit.\n",
        "\n",
        "The solution of this involves taking the limit of the progression above and find a continuous version of the $\\mathbf{Z}$ and $\\mathbf{X}$ gates. The math for this involves matrix exponentiation.\n",
        "\n",
        "The continuous $\\mathbf{Z}$ and $\\mathbf{X}$ gates are often written as $\\mathbf{R}_{x}(\\theta)$ and $\\mathbf{R}_{z}(\\phi)$ :\n",
        "\n",
        "> $\\mathbf{R}_{x}(\\theta)=\\left[\\begin{array}{cc}\\cos \\frac{\\theta}{2} & -i \\sin \\frac{\\theta}{2} \\\\ -i \\sin \\frac{\\theta}{2} & \\cos \\frac{\\theta}{2}\\end{array}\\right]$\n",
        "\n",
        "> $\\mathbf{R}_{z}(\\phi)=\\left[\\begin{array}{cc}1 & 0 \\\\ 0 & e^{i \\phi / 2}\\end{array}\\right]$"
      ]
    },
    {
      "cell_type": "markdown",
      "metadata": {
        "id": "g9KGU3z5Ayes"
      },
      "source": [
        "###### **<font color=\"blue\">CNOT Gate (CX)</font>**"
      ]
    },
    {
      "cell_type": "markdown",
      "metadata": {
        "id": "tMHUCZ7JW3rD"
      },
      "source": [
        "> CNOT, acting on a two-qubit term $\\left|q_{1} q_{2}\\right\\rangle$, applies the $\\mathbf{N O T}(\\mathbf{X})$ gate to the second qubit only if the first qubit is in state $|1\\rangle$. The first qubit controls the action on the second."
      ]
    },
    {
      "cell_type": "markdown",
      "metadata": {
        "id": "nGk8PxedVqnT"
      },
      "source": [
        "> 0 im Output wenn zwei Inputs gleich sind. 1 im Output wenn die Inputs unterschiedlich sind."
      ]
    },
    {
      "cell_type": "markdown",
      "metadata": {
        "id": "khD7BYNRWJXK"
      },
      "source": [
        "The [Controlled NOT gate](https://en.m.wikipedia.org/wiki/Controlled_NOT_gate) (also C-NOT or CNOT, controlled Pauli-X) is a quantum logic gate that is an essential component in the construction of a gate-based quantum computer. **It can be used to entangle and disentangle Bell states**. Any quantum circuit can be simulated to an arbitrary degree of accuracy using a combination of CNOT gates and single qubit rotations."
      ]
    },
    {
      "cell_type": "markdown",
      "metadata": {
        "id": "XjXVjG5wWjQn"
      },
      "source": [
        ">$\n",
        "\\begin{array}{|c|c|c|c|}\n",
        "\\hline {\\text { Before }} & {\\text { Before }}& {\\text { After }}& {\\text { After }} \\\\\n",
        "\\hline \\text { Control } & \\text { Target } & \\text { Control } & \\text { Target } \\\\\n",
        "\\hline|0\\rangle & |0\\rangle & |0\\rangle & |0\\rangle \\\\\n",
        "\\hline|0\\rangle & |1\\rangle & |0\\rangle & |1\\rangle \\\\\n",
        "\\hline|1\\rangle & |0\\rangle & |1\\rangle & |1\\rangle \\\\\n",
        "\\hline|1\\rangle & |1\\rangle & |1\\rangle & |0\\rangle \\\\\n",
        "\\hline\n",
        "\\end{array}\n",
        "$"
      ]
    },
    {
      "cell_type": "markdown",
      "metadata": {
        "id": "_e7Iu9kdXSdI"
      },
      "source": [
        "A common application of the $\\mathrm{C}_{\\text {NOT }}$ gate is to maximally entangle two qubits into the $\\left|\\Phi^{+}\\right\\rangle$ Bell state; this forms part of the setup of the superdense coding, quantum teleportation, and entangled quantum cryptography algorithms."
      ]
    },
    {
      "cell_type": "markdown",
      "metadata": {
        "id": "oNsYOdI-A1rh"
      },
      "source": [
        "CNOT or controlled Pauli-X.\n",
        "\n",
        "* **Verschrankt zwei Qubits und invertiert das Ziel-Qubit**, wenn das Kontroll-Qubit 1 ist:\n",
        "\n",
        "> $|00\\rangle \\rightarrow|00\\rangle$\n",
        "\n",
        "> $|01\\rangle \\rightarrow|01\\rangle$\n",
        "\n",
        "> $|10\\rangle \\rightarrow|11\\rangle$\n",
        "\n",
        "> $|11\\rangle \\rightarrow|10\\rangle$\n",
        "\n",
        "Matrix-Darstellung:\n",
        "\n",
        "> $\\left(\\begin{array}{llll}1 & 0 & 0 & 0 \\\\ 0 & 1 & 0 & 0 \\\\ 0 & 0 & 0 & 1 \\\\ 0 & 0 & 1 & 0\\end{array}\\right)$"
      ]
    },
    {
      "cell_type": "markdown",
      "metadata": {
        "id": "cj9br36Vk44_"
      },
      "source": [
        "The CNOT (or controlled Pauli- $X$ ) gate can be described as the gate that maps the basis states $|a, b\\rangle \\mapsto|a, a \\oplus b\\rangle$, where $\\oplus$ is XOR.\n",
        "\n",
        "More generally if $U$ is a gate that operates on single qubits with matrix representation\n",
        "\n",
        ">$\n",
        "U=\\left[\\begin{array}{ll}\n",
        "u_{00} & u_{01} \\\\\n",
        "u_{10} & u_{11}\n",
        "\\end{array}\\right]\n",
        "$\n",
        "\n",
        "then the controlled-U gate is a gate that operates on two qubits in such a way that the first qubit serves as a control. \n",
        "\n",
        "It maps the basis states as follows:"
      ]
    },
    {
      "cell_type": "markdown",
      "metadata": {
        "id": "Tak_03Fvkl1v"
      },
      "source": [
        "$0\\rangle \\mapsto|00\\rangle$\n",
        "\n",
        "$|01\\rangle \\mapsto|01\\rangle$\n",
        "\n",
        "$|10\\rangle \\mapsto|1\\rangle \\otimes U|0\\rangle=|1\\rangle \\otimes\\left(u_{00}|0\\rangle+u_{10}|1\\rangle\\right)$\n",
        "\n",
        "$|11\\rangle \\mapsto|1\\rangle \\otimes U|1\\rangle=|1\\rangle \\otimes\\left(u_{01}|0\\rangle+u_{11}|1\\rangle\\right)$\n",
        "\n",
        "The matrix representing the controlled $U$ is\n",
        "\n",
        ">$\n",
        "\\mathrm{C} U=\\left[\\begin{array}{cccc}\n",
        "1 & 0 & 0 & 0 \\\\\n",
        "0 & 1 & 0 & 0 \\\\\n",
        "0 & 0 & u_{00} & u_{01} \\\\\n",
        "0 & 0 & u_{10} & u_{11}\n",
        "\\end{array}\\right]\n",
        "$"
      ]
    },
    {
      "cell_type": "markdown",
      "metadata": {
        "id": "PFjTkqQokCsL"
      },
      "source": [
        "**When U is one of the Pauli operators, X,Y, Z, the respective terms \"controlled-X\", \"controlled-Y\", or \"controlled-Z\" are sometimes used**. \n",
        "Sometimes this is shortened to just CX, CY and CZ."
      ]
    },
    {
      "cell_type": "markdown",
      "metadata": {
        "id": "N0V2nJiKBGjY"
      },
      "source": [
        "###### **<font color=\"blue\">Phase Shift Gate</font>**"
      ]
    },
    {
      "cell_type": "markdown",
      "metadata": {
        "id": "DipVYLh-BdfY"
      },
      "source": [
        "* verandern die Wahrscheinlichkeiten in einem Qubit, mit dem es bei Messungen entweder in den Zustand 1 oder 0 verfallt."
      ]
    },
    {
      "cell_type": "markdown",
      "metadata": {
        "id": "8iWjeCtVrr9F"
      },
      "source": [
        "The phase shift is a family of single-qubit gates that map the basis states $|0\\rangle \\mapsto|0\\rangle$ and $|1\\rangle \\mapsto e^{i \\varphi}|1\\rangle .$ \n",
        "\n",
        "**The probability of measuring a $|0\\rangle$ or $|1\\rangle$ is unchanged after applying this gate, however it modifies the phase of the quantum state**. \n",
        "\n",
        "This is equivalent to conditionally tracing a horizontal circle (a line of latitude) on the Bloch sphere by $\\varphi$ radians. The phase shift gate is represented by the matrix:\n",
        "\n",
        ">$\n",
        "P(\\varphi)=\\left[\\begin{array}{ll}\n",
        "1 & 0 \\\\\n",
        "0 & e^{i \\varphi}\n",
        "\\end{array}\\right]\n",
        "$\n",
        "\n",
        "where $\\varphi$ is the phase shift with the period $2 \\pi$. Some common examples are the $T$ gate where $\\varphi=\\frac{\\pi}{4}$, the phase gate (written $S$, though $S$ is sometimes used for SWAP gates) where $\\varphi=\\frac{\\pi}{2}$ and the Pauli- $Z$ gate where $\\varphi=\\pi$."
      ]
    },
    {
      "cell_type": "markdown",
      "metadata": {
        "id": "qNp3fJR3sB7I"
      },
      "source": [
        "The phase shift gates are related to each other as follows:\n",
        "\n",
        "> $Z=\\left[\\begin{array}{cc}1 & 0 \\\\ 0 & e^{i \\pi}\\end{array}\\right]=\\left[\\begin{array}{cc}1 & 0 \\\\ 0 & -1\\end{array}\\right]=P(\\pi)$\n",
        "\n",
        "> $S=\\left[\\begin{array}{cc}1 & 0 \\\\ 0 & e^{i \\frac{\\pi}{2}}\\end{array}\\right]=\\left[\\begin{array}{ll}1 & 0 \\\\ 0 & i\\end{array}\\right]=P\\left(\\frac{\\pi}{2}\\right)=\\sqrt{Z}$\n",
        "\n",
        "> $T=\\left[\\begin{array}{cc}1 & 0 \\\\ 0 & e^{i \\frac{\\pi}{4}}\\end{array}\\right]=P\\left(\\frac{\\pi}{4}\\right)=\\sqrt{S}=\\sqrt[4]{Z}$\n",
        "\n",
        "> $P\\left(\\frac{\\pi}{\\xi}\\right)=\\sqrt[\\xi]{Z}$ for all real $\\xi \\operatorname{except} 0$"
      ]
    },
    {
      "cell_type": "markdown",
      "metadata": {
        "id": "c_QutrGDrIUS"
      },
      "source": [
        "**Controlled phase shift**"
      ]
    },
    {
      "cell_type": "markdown",
      "metadata": {
        "id": "MWUbKrKSrXCR"
      },
      "source": [
        "The 2 -qubit controlled phase shift gate is:\n",
        "\n",
        ">$\n",
        "\\text { CPHASE }(\\varphi)=\\left[\\begin{array}{llll}\n",
        "1 & 0 & 0 & 0 \\\\\n",
        "0 & 1 & 0 & 0 \\\\\n",
        "0 & 0 & 1 & 0 \\\\\n",
        "0 & 0 & 0 & e^{i \\varphi}\n",
        "\\end{array}\\right]\n",
        "$\n",
        "\n",
        "With respect to the computational basis, it shifts the phase with $\\varphi$ only if it acts on the state $|11\\rangle$ :\n",
        "\n",
        "$\n",
        "|a, b\\rangle \\mapsto\\left\\{\\begin{array}{ll}\n",
        "\\left|a, e^{i \\varphi} b\\right\\rangle & \\text { for } a=b=1 \\\\\n",
        "|a, b\\rangle & \\text { otherwise }\n",
        "\\end{array}\\right.\n",
        "$\n",
        "\n",
        "The CZ gate is the special case where $\\varphi=\\pi$."
      ]
    },
    {
      "cell_type": "markdown",
      "metadata": {
        "id": "wzseTGVZheC0"
      },
      "source": [
        "###### **<font color=\"blue\">Toffoli gate (CCNOT)</font>**"
      ]
    },
    {
      "cell_type": "markdown",
      "metadata": {
        "id": "OkXHSxLEo6IB"
      },
      "source": [
        "> The Toffoli gate is related to the classical AND $(\\wedge)$ and XOR $(\\oplus)$ operations as it performs the mapping $|a, b, c\\rangle \\mapsto|a, b, c \\oplus(a \\wedge b)\\rangle$ on states in the computational basis."
      ]
    },
    {
      "cell_type": "markdown",
      "metadata": {
        "id": "WG0ik04poidl"
      },
      "source": [
        "* The [Toffoli gate](https://en.m.wikipedia.org/wiki/Toffoli_gate), named after Tommaso Toffoli; also called CCNOT gate or Deutsch gate $D(\\pi / 2)$; is a 3-bit gate, which is universal for classical computation but not for quantum computation. \n",
        "\n",
        "* The quantum Toffoli gate is the same gate, defined for 3 qubits. If we limit ourselves to only accepting input qubits that are $|0\\rangle$ and $|1\\rangle$, then if the first two bits are in the state $|1\\rangle$ it applies a Pauli- $X$ (or NOT) on the third bit, else it does nothing. \n",
        "\n",
        "* It is an example of a controlled gate. Since it is the quantum analog of a classical gate, it is completely specified by its truth table. The Toffoli gate is universal when combined with the single qubit Hadamard gate. $^{[13]}$"
      ]
    },
    {
      "cell_type": "markdown",
      "metadata": {
        "id": "uL_WYDGQ7aNB"
      },
      "source": [
        "> The Toffoli gate is essentially the atom of mathematics. It is the simplest element, from which every other problem-solving technique can be compiled."
      ]
    },
    {
      "cell_type": "markdown",
      "metadata": {
        "id": "aNgeBYcfySd-"
      },
      "source": [
        "https://qiskit.org/textbook/ch-states/atoms-computation.html#adder:\n",
        "\n",
        "To calculate this part of the output, we could just get our computer to look at whether both of the inputs are 1. If they are — and only if they are — we need to do a NOT gate on qubit 3. That will flip it to the required value of 1 for this case only, giving us the output we need.\n",
        "\n",
        "For this, we need a new gate: like a CNOT but controlled on two qubits instead of just one. **This will perform a NOT on the target qubit only when both controls are in state 1. This new gate is called the Toffoli.** For those of you who are familiar with Boolean logic gates, it is basically an AND gate."
      ]
    },
    {
      "cell_type": "markdown",
      "metadata": {
        "id": "3SbhCUXshRB1"
      },
      "source": [
        "###### **<font color=\"blue\">Square Root of NOT Gate</font>**"
      ]
    },
    {
      "cell_type": "markdown",
      "metadata": {
        "id": "gck1EldvjQeC"
      },
      "source": [
        "The square root of NOT gate (or square root of Pauli- $X, \\sqrt{X}$ ) acts on a single qubit. It maps the basis state $|0\\rangle$ to $\\frac{(1+i)|0\\rangle+(1-i)|1\\rangle}{2}$ and $|1\\rangle$ to $\\frac{(1-i)|0\\rangle+(1+i)|1\\rangle}{2} .$ \n",
        "\n",
        "In matrix form it is given by\n",
        "\n",
        ">$\n",
        "\\sqrt{X}=\\sqrt{\\mathrm{NOT}}=\\frac{1}{2}\\left[\\begin{array}{cc}\n",
        "1+i & 1-i \\\\\n",
        "1-i & 1+i\n",
        "\\end{array}\\right]=\\frac{1}{\\sqrt{2}}\\left[\\begin{array}{cc}\n",
        "e^{i \\pi / 4} & e^{-i \\pi / 4} \\\\\n",
        "e^{-i \\pi / 4} & e^{i \\pi / 4}\n",
        "\\end{array}\\right]$\n",
        "\n",
        "such that\n",
        "\n",
        ">$\n",
        "(\\sqrt{X})^{2}=(\\sqrt{\\mathrm{NOT}})^{2}=\\left[\\begin{array}{ll}\n",
        "0 & 1 \\\\\n",
        "1 & 0\n",
        "\\end{array}\\right]=X\n",
        "$\n",
        "\n",
        "> **This operation represents a rotation of $\\pi / 2$ about $x$ -axis at the Bloch sphere**."
      ]
    },
    {
      "cell_type": "markdown",
      "metadata": {
        "id": "sb5Yn4EZhWZ8"
      },
      "source": [
        "###### **<font color=\"blue\">Swap Gate (& Swap Square root)</font>**"
      ]
    },
    {
      "cell_type": "markdown",
      "metadata": {
        "id": "Xjqz8Hkol68T"
      },
      "source": [
        "The swap gate **swaps two qubits**. \n",
        "\n",
        "With respect to the basis $|00\\rangle,|01\\rangle,|10\\rangle,|11\\rangle$, it is represented by the matrix:\n",
        "\n",
        ">$\n",
        "\\text { SWAP }=\\left[\\begin{array}{llll}\n",
        "1 & 0 & 0 & 0 \\\\\n",
        "0 & 0 & 1 & 0 \\\\\n",
        "0 & 1 & 0 & 0 \\\\\n",
        "0 & 0 & 0 & 1\n",
        "\\end{array}\\right]\n",
        "$"
      ]
    },
    {
      "cell_type": "markdown",
      "metadata": {
        "id": "dLXywRbvmBZh"
      },
      "source": [
        "**Square root of swap gate**"
      ]
    },
    {
      "cell_type": "markdown",
      "metadata": {
        "id": "OzlOABhWmMms"
      },
      "source": [
        "The $\\sqrt{\\text { SWAP }}$ gate performs half-way of a two-qubit swap. \n",
        "\n",
        "It is universal such that any many-qubit gate can be constructed from only $\\sqrt{\\text { SWAP }}$ and single qubit gates. \n",
        "\n",
        "The $\\sqrt{\\text { SWAP }}$ gate is not, however maximally entangling; more than one application of it is required to produce a Bell state from product states. \n",
        "\n",
        "With respect to the basis $|00\\rangle,|01\\rangle,|10\\rangle,|11\\rangle$, it is represented by the matrix:\n",
        "\n",
        ">$\n",
        "\\sqrt{\\mathrm{SWAP}}=\\left[\\begin{array}{cccc}\n",
        "1 & 0 & 0 & 0 \\\\\n",
        "0 & \\frac{1}{2}(1+i) & \\frac{1}{2}(1-i) & 0 \\\\\n",
        "0 & \\frac{1}{2}(1-i) & \\frac{1}{2}(1+i) & 0 \\\\\n",
        "0 & 0 & 0 & 1\n",
        "\\end{array}\\right]\n",
        "$\n",
        "\n",
        "This gate arises naturally in systems that exploit exchange interaction."
      ]
    },
    {
      "cell_type": "markdown",
      "metadata": {
        "id": "1JF-ybZ6hcLP"
      },
      "source": [
        "###### **<font color=\"blue\">Deutsch Gate</font>**"
      ]
    },
    {
      "cell_type": "markdown",
      "metadata": {
        "id": "MmmwP3vImnBX"
      },
      "source": [
        "The Deutsch (or $D_{\\theta}$ ) gate, named after physicist David Deutsch is a threequbit gate. It is defined as\n",
        "\n",
        ">$\n",
        "|a, b, c\\rangle \\mapsto\\left\\{\\begin{array}{ll}\n",
        "i \\cos (\\theta)|a, b, c\\rangle+\\sin (\\theta)|a, b, 1-c\\rangle & \\text { for } a=b=1 \\\\\n",
        "|a, b, c\\rangle & \\text { otherwise. }\n",
        "\\end{array}\\right.\n",
        "$\n",
        "\n",
        "Unfortunately, a working Deutsch gate has remained out of reach, due to lack of a protocol. \n",
        "\n",
        "There are some proposals to realize a Deutsch gate with dipoledipole interaction in neutral atoms. "
      ]
    },
    {
      "cell_type": "markdown",
      "metadata": {
        "id": "Mkh59Hyihi9A"
      },
      "source": [
        "###### **<font color=\"blue\">Fredkin Gate (CSWAP or CS)</font>**"
      ]
    },
    {
      "cell_type": "markdown",
      "metadata": {
        "id": "DomGPGBSmzGZ"
      },
      "source": [
        "The [Fredkin gate](https://en.m.wikipedia.org/wiki/Fredkin_gate) (also CSWAP or CS gate), named after Edward Fredkin, is a 3-bit gate that performs a controlled swap. It is universal for classical computation. It has the useful property that the numbers of 0s and 1s are conserved throughout, which in the billiard ball model means the same number of balls are output as input.\n",
        "\n"
      ]
    },
    {
      "cell_type": "markdown",
      "metadata": {
        "id": "fMCz0TjonOPF"
      },
      "source": [
        "###### **<font color=\"blue\">Ising coupling gates</font>**"
      ]
    },
    {
      "cell_type": "markdown",
      "metadata": {
        "id": "Zu-YXWddni_b"
      },
      "source": [
        "The Ising coupling gates $R_{x x} R_{y y}$ and $R_{z z}$ are 2 -qubit gates that are implemented natively in some [trapped-ion quantum computers](https://en.m.wikipedia.org/wiki/Trapped_ion_quantum_computer). These gates are defined as"
      ]
    },
    {
      "cell_type": "markdown",
      "metadata": {
        "id": "njWwB7cAnT-L"
      },
      "source": [
        "**Imaginary swap (iSWAP)**"
      ]
    },
    {
      "cell_type": "markdown",
      "metadata": {
        "id": "d_3_5FenoC5a"
      },
      "source": [
        "For systems with Ising like interactions, it is sometimes more natural to introduce the imaginary swap or iSWAP gate defined as"
      ]
    },
    {
      "cell_type": "markdown",
      "metadata": {
        "id": "kza12exMoQMC"
      },
      "source": [
        "$\n",
        "i \\mathrm{SWAP}=\\exp \\left[i \\frac{\\pi}{4}(X \\otimes X+Y \\otimes Y)\\right]=\\left[\\begin{array}{cccc}\n",
        "1 & 0 & 0 & 0 \\\\\n",
        "0 & 0 & i & 0 \\\\\n",
        "0 & i & 0 & 0 \\\\\n",
        "0 & 0 & 0 & 1\n",
        "\\end{array}\\right]\n",
        "$\n",
        "\n",
        "where its squared root version is given by\n",
        "\n",
        "$\n",
        "\\sqrt{i \\mathrm{SWAP}}=\\exp \\left[i \\frac{\\pi}{8}(X \\otimes X+Y \\otimes Y)\\right]=\\left[\\begin{array}{cccc}\n",
        "1 & 0 & 0 & 0 \\\\\n",
        "0 & \\frac{1}{\\sqrt{2}} & \\frac{i}{\\sqrt{2}} & 0 \\\\\n",
        "0 & \\frac{i}{\\sqrt{2}} & \\frac{1}{\\sqrt{2}} & 0 \\\\\n",
        "0 & 0 & 0 & 1\n",
        "\\end{array}\\right]\n",
        "$"
      ]
    },
    {
      "cell_type": "markdown",
      "metadata": {
        "id": "3AmbGs7olgF1"
      },
      "source": [
        "###### **<font color=\"blue\">Rotation operator gates</font>**"
      ]
    },
    {
      "cell_type": "markdown",
      "metadata": {
        "id": "cI71ifUSlmd6"
      },
      "source": [
        "https://en.m.wikipedia.org/wiki/Quantum_logic_gate#Rotation_operator_gates"
      ]
    },
    {
      "cell_type": "markdown",
      "metadata": {
        "id": "aca9xYmulon4"
      },
      "source": [
        "https://en.m.wikipedia.org/wiki/Rotation_operator_(quantum_mechanics)"
      ]
    },
    {
      "cell_type": "markdown",
      "metadata": {
        "id": "1dIOVe-DrnP3"
      },
      "source": [
        "#### **Quantum Computing Algorithms**"
      ]
    },
    {
      "cell_type": "markdown",
      "metadata": {
        "id": "WGENRWa3OhKf"
      },
      "source": [
        "###### **<font color=\"blue\">Essential Subroutines</font>**"
      ]
    },
    {
      "cell_type": "markdown",
      "metadata": {
        "id": "hkGyB-sX-FP-"
      },
      "source": [
        "**Quantum Multiplication**"
      ]
    },
    {
      "cell_type": "markdown",
      "metadata": {
        "id": "d5XOnFsMqZ3w"
      },
      "source": [
        "* **Boost Multiplication of Karatsuba with Quantum Computers**: In his new paper, Gidney describes a quantum way of implementing Karatsuba multiplication that doesn’t impose huge memory costs. Instead of generating intermediate values to produce a final value, he uses a method called “tail call optimization” to directly mutate inputs to outputs. \n",
        "\n",
        "* This allows the algorithm to avoid creating intermediate information that a quantum computer can never discard. “He gets rid of the issue of having to deal with extra qubits by not having extra qubits,” said Thomas Wong, a quantum information scientist at Creighton University.Gidney expects that his method will work for adapting many classical recursive algorithms to quantum computers. \n",
        "\n",
        "[A New Approach to Multiplication Opens the Door to Better Quantum Computers](https://www.quantamagazine.org/a-new-approach-to-multiplication-opens-the-door-to-better-quantum-computers-20190424/)"
      ]
    },
    {
      "cell_type": "markdown",
      "metadata": {
        "id": "8GVknVcr-7Tq"
      },
      "source": [
        "**Quantum Power Iteration & Inverse Iteration**"
      ]
    },
    {
      "cell_type": "markdown",
      "metadata": {
        "id": "y0nsvQAk2pbi"
      },
      "source": [
        "* used for Eigenvalue calculation in large matrices\n",
        "\n",
        "* [Power iteration (Eigenvalues)](https://en.m.wikipedia.org/wiki/Power_iteration) und [Inverse Iteration (Eigenvector)](https://en.m.wikipedia.org/wiki/Inverse_iteration)\n",
        "\n",
        "* [Quantum Power Method by a Superposition of Time-Evolved States](https://arxiv.org/abs/2008.03661)"
      ]
    },
    {
      "cell_type": "markdown",
      "metadata": {
        "id": "zvkUm11QEZBy"
      },
      "source": [
        "**Quantum Minimization Algorithm (QMA)**"
      ]
    },
    {
      "cell_type": "markdown",
      "metadata": {
        "id": "iNG9A8IdEdjB"
      },
      "source": [
        "* Quantum algorithm for solving discrete functions minimization problems was introduced in. It is based on Grover’s search and can be represented in terms of quantum iterations circuits.\n",
        "\n",
        "* Such algorithm allows us to find global optimum as it is always searching through all possible inputs states\n",
        "\n",
        "* Christoph, D. and Hoyer, P. \"A quantum algorithm for finding the minimum\", arXiv:quant-ph/9607014 (1-2, 1996) https://arxiv.org/abs/quant-ph/9607014\n",
        "\n",
        "* https://arxiv.org/pdf/1906.10175.pdf"
      ]
    },
    {
      "cell_type": "markdown",
      "metadata": {
        "id": "u2Aou34lPhxu"
      },
      "source": [
        "**Quantum Fourier Transform**"
      ]
    },
    {
      "cell_type": "markdown",
      "metadata": {
        "id": "ATRazkgUWDMc"
      },
      "source": [
        "* the [quantum Fourier transform](https://en.m.wikipedia.org/wiki/Quantum_Fourier_transform) (for short: QFT) is a linear transformation on quantum bits, and is the quantum analogue of the inverse discrete Fourier transform.\n",
        "\n",
        "> The quantum Fourier transform is the classical discrete Fourier transform applied to the vector of amplitudes of a quantum state\n",
        "\n",
        "* The quantum Fourier transform is a part of many quantum algorithms, notably Shor's algorithm for factoring and computing the discrete logarithm, the quantum phase estimation algorithm for estimating the eigenvalues of a unitary operator, and algorithms for the hidden subgroup problem. \n",
        "\n",
        "* The quantum Fourier transform was invented by Don Coppersmith.\n",
        "\n",
        "* The quantum Fourier transform can be performed efficiently on a quantum computer, with a particular decomposition into a product of simpler unitary matrices. \n",
        "\n",
        "* However, the quantum Fourier transform acts on a quantum state, whereas the classical Fourier transform acts on a vector, so not every task that uses the classical Fourier transform can take advantage of this exponential speedup."
      ]
    },
    {
      "cell_type": "markdown",
      "metadata": {
        "id": "aNfJr0RePpZW"
      },
      "source": [
        "https://qiskit.org/textbook/ch-algorithms/quantum-fourier-transform.html"
      ]
    },
    {
      "cell_type": "markdown",
      "metadata": {
        "id": "Lh3J66bo4Ruv"
      },
      "source": [
        "**Quantum Phase Estimation**"
      ]
    },
    {
      "cell_type": "markdown",
      "metadata": {
        "id": "hs3iVMYEOSrz"
      },
      "source": [
        "* algorithm for determining the eigenvalues of a unitary operator\n",
        "\n",
        "* the [quantum phase estimation algorithm](https://en.m.wikipedia.org/wiki/Quantum_phase_estimation_algorithm) (also referred to as quantum eigenvalue estimation algorithm), is a quantum algorithm to estimate the phase (or eigenvalue) of an eigenvector of a unitary operator. \n",
        "\n",
        "* More precisely, given a unitary matrix $U$ and a quantum state $|\\psi\\rangle$ such that $U|\\psi\\rangle=e^{2 \\pi i \\theta}|\\psi\\rangle$, the algorithm estimates the value of $\\theta$ with high probability within additive error $\\varepsilon$, using $O(\\log (1 / \\varepsilon))$ qubits (without counting the ones used to encode the eigenvector state) and $O(1 / \\varepsilon)$ controlled- $U$ operations. \n",
        "\n",
        "* The algorithm was initially introduced by Alexei Kitaev in 1995.\n",
        "\n",
        "* Phase estimation is frequently used as a subroutine in other quantum algorithms, such as Shor's algorithm and the quantum algorithm for linear systems of equations."
      ]
    },
    {
      "cell_type": "markdown",
      "metadata": {
        "id": "eSOrCN5j8QzD"
      },
      "source": [
        "https://quantum-computing.ibm.com/composer/docs/iqx/guide/quantum-phase-estimation"
      ]
    },
    {
      "cell_type": "markdown",
      "metadata": {
        "id": "ihAQNFrtTxnV"
      },
      "source": [
        "**Amplitude Amplification**"
      ]
    },
    {
      "cell_type": "markdown",
      "metadata": {
        "id": "vkuU4yrjT4NB"
      },
      "source": [
        "* [Amplitude amplification](https://en.m.wikipedia.org/wiki/Amplitude_amplification) is a technique in quantum computing which **generalizes the idea behind the Grover's search algorithm**, and gives rise to a family of quantum algorithms.\n",
        "\n",
        "* In a quantum computer, amplitude amplification can be used to **obtain a quadratic speedup over several classical algorithms**."
      ]
    },
    {
      "cell_type": "markdown",
      "metadata": {
        "id": "QD_B6E7JUuXC"
      },
      "source": [
        "1. If there are $G$ good entries in the database in total, then we can find them by initializing a quantum register $|\\psi\\rangle$ with $n$ qubits where $2^{n}=N$ into a uniform superposition of all the database elements $N$ such that\n",
        "\n",
        ">$| \\psi \\rangle=\\frac{1}{\\sqrt{N}} \\sum_{k=0}^{N-1}|k\\rangle\n",
        "$\n",
        "\n",
        "2. and running the above algorithm. In this case the overlap of the initial state with the good subspace is equal to the square root of the frequency of the good entries in the database, $\\sin (\\theta)=|P| \\psi\\rangle \\mid=\\sqrt{G / N}$. If $\\sin (\\theta) \\ll 1$, \n",
        "\n",
        "3. we can\n",
        "approximate the number of required iterations as\n",
        "\n",
        ">$\n",
        "n=\\left\\lfloor\\frac{\\pi}{4 \\theta}\\right\\rfloor \\approx\\left\\lfloor\\frac{\\pi}{4 \\sin (\\theta)}\\right\\rfloor=\\left\\lfloor\\frac{\\pi}{4} \\sqrt{\\frac{N}{G}}\\right\\rfloor=O(\\sqrt{N})\n",
        "$\n",
        "\n",
        "Measuring the state will now give one of the good entries with high probability.\n",
        "\n",
        "Since each application of $S_{P}$ requires a single oracle query (assuming that the oracle is implemented as a quantum gate), we can find a good entry with just $O(\\sqrt{N})$ oracle queries, thus obtaining a quadratic speedup over the best possible classical algorithm. (The classical method for searching the database would be to perform the query for every $e \\in\\{0,1, \\ldots, N-1\\}$ until a solution is found, thus costing $O(N)$ queries.) Moreover, we can find all $G$ solutions using $O(\\sqrt{G N})$ queries."
      ]
    },
    {
      "cell_type": "markdown",
      "metadata": {
        "id": "NGe-yForKJ5-"
      },
      "source": [
        "**Quantum Walk**"
      ]
    },
    {
      "cell_type": "markdown",
      "metadata": {
        "id": "Bj9pu2_DRf8v"
      },
      "source": [
        "* [Quantum walks](https://en.m.wikipedia.org/wiki/Quantum_walk) are quantum analogues of classical random walks. In contrast to the classical random walk, where the walker occupies definite states and the randomness arises due to stochastic transitions between states, in quantum walks randomness arises through: \n",
        "\n",
        "  (1) quantum superposition of states, \n",
        "  \n",
        "  (2) non-random, reversible unitary evolution and \n",
        "  \n",
        "  (3) collapse of the wave function due to state measurements.\n",
        "\n",
        "As with classical random walks, quantum walks admit formulations in both discrete time and continuous time.\n",
        "\n",
        "* Quantum walks are motivated by the widespread use of classical random walks in the design of randomized algorithms, and are part of several quantum algorithms. For some oracular problems, quantum walks provide an exponential speedup over any classical algorithm.\n",
        "\n",
        "* Quantum walks also give polynomial speedups over classical algorithms for many practical problems, such as the element distinctness problem, the triangle finding problem, and evaluating NAND trees. The well-known Grover search algorithm can also be viewed as a quantum walk algorithm\n",
        "\n",
        "* Quantum walks exhibit very different features from classical random walks. In particular, they do not converge to [limiting distributions](https://en.m.wikipedia.org/wiki/Asymptotic_distribution) and due to the power of quantum interference they may spread significantly faster or slower than their classical equivalents."
      ]
    },
    {
      "cell_type": "markdown",
      "metadata": {
        "id": "oOO6EFaBUKap"
      },
      "source": [
        "*Continuous-time quantum walks*"
      ]
    },
    {
      "cell_type": "markdown",
      "metadata": {
        "id": "3sjLkMf-Txyd"
      },
      "source": [
        "* [Continuous-time quantum walks](https://en.m.wikipedia.org/wiki/Continuous-time_quantum_walk) arise when one replaces the continuum spatial domain in the Schrödinger equation with a discrete set.\n",
        "\n",
        "* Under particular conditions, continuous-time quantum walks can provide a model for universal quantum computation."
      ]
    },
    {
      "cell_type": "markdown",
      "metadata": {
        "id": "gj32_y3ZtCh4"
      },
      "source": [
        "**Quantum Counting**"
      ]
    },
    {
      "cell_type": "markdown",
      "metadata": {
        "id": "PG849qmSVEbu"
      },
      "source": [
        "* [Quantum counting algorithm](https://en.m.wikipedia.org/wiki/Quantum_counting_algorithm) is a quantum algorithm for efficiently counting the number of solutions for a given search problem. The algorithm is based on the quantum phase estimation algorithm and on Grover's search algorithm.\n",
        "\n",
        "* Counting problems are common in diverse fields such as statistical estimation, statistical physics, networking, etc. As for quantum computing, the ability to perform quantum counting efficiently is needed in order to use Grover's search algorithm (because running Grover's search algorithm requires knowing how many solutions exist). Moreover, this algorithm solves the quantum existence problem (namely, deciding whether any solution exists) as a special case.\n",
        "\n",
        "* The algorithm was devised by Gilles Brassard, Peter Høyer and Alain Tapp in 1998."
      ]
    },
    {
      "cell_type": "markdown",
      "metadata": {
        "id": "GHaKSl8FwyIk"
      },
      "source": [
        "###### **<font color=\"blue\">Black-Box-Problems (Deutsch, Bernstein, Simon)</font>**"
      ]
    },
    {
      "cell_type": "markdown",
      "metadata": {
        "id": "hUILN6FRqZuu"
      },
      "source": [
        "**<font color=\"blue\">Deutsch–Jozsa</font>**"
      ]
    },
    {
      "cell_type": "markdown",
      "metadata": {
        "id": "0nwYZgYLxVWY"
      },
      "source": [
        "> Constant or balanced?\n",
        "\n",
        "* nutzt Quantum Fourier Transform"
      ]
    },
    {
      "cell_type": "markdown",
      "metadata": {
        "id": "E-K_XyerNrQz"
      },
      "source": [
        "There are four different possible functions:\n",
        "* Function f_0 always returns 0.\n",
        "* Function f_1 returns 0 if the input is 0 and it returns 1 if the input is 1.\n",
        "* Function f_2 returns 1 if the input is 0 and it returns 0 if the input is 1.\n",
        "* Function f_3 always returns 1.\n",
        "\n",
        "Task: \n",
        "* Send a number of several numbers to determine, if the function is a constant or a balanced?\n",
        "* f_0 und f_3 constant, f_1 und f_2 balanced\n",
        "* classical needs at least 2 numbers (0,1), quantum needs just 1 number to solve this"
      ]
    },
    {
      "cell_type": "markdown",
      "metadata": {
        "id": "lPY2GqiBbr-g"
      },
      "source": [
        "https://towardsdatascience.com/how-to-solve-a-problem-with-quantum-computing-4b04f3f882d9"
      ]
    },
    {
      "cell_type": "markdown",
      "metadata": {
        "id": "RZS4TVTytrgi"
      },
      "source": [
        "https://qiskit.org/textbook/ch-algorithms/deutsch-jozsa.html"
      ]
    },
    {
      "cell_type": "markdown",
      "metadata": {
        "id": "Gc0bGeLfgqjM"
      },
      "source": [
        "https://medium.com/quantum-untangled/quantum-untangled-quantum-computing-deutsch-jozsa-algorithm-guide-untangled-27adf4205913"
      ]
    },
    {
      "cell_type": "markdown",
      "metadata": {
        "id": "UkToXMWXgoNf"
      },
      "source": [
        "https://medium.com/quantum-untangled/the-deutsch-jozsa-algorithm-math-circuits-and-code-quantum-algorithms-untangled-f3b28be4cfd3"
      ]
    },
    {
      "cell_type": "markdown",
      "metadata": {
        "id": "06rwZsB6qbK6"
      },
      "source": [
        "https://en.m.wikipedia.org/wiki/Deutsch–Jozsa_algorithm"
      ]
    },
    {
      "cell_type": "markdown",
      "metadata": {
        "id": "rs29mGrUqi_-"
      },
      "source": [
        "**<font color=\"blue\">Bernstein–Vazirani algorithm</font>**"
      ]
    },
    {
      "cell_type": "markdown",
      "metadata": {
        "id": "tTd5Xyqp1ci5"
      },
      "source": [
        "> What is a string?"
      ]
    },
    {
      "cell_type": "markdown",
      "metadata": {
        "id": "3MHKCxMUqkZc"
      },
      "source": [
        "https://en.m.wikipedia.org/wiki/Bernstein–Vazirani_algorithm"
      ]
    },
    {
      "cell_type": "markdown",
      "metadata": {
        "id": "ocVJfp-tqdyb"
      },
      "source": [
        "**<font color=\"blue\">Simon's problem</font>**"
      ]
    },
    {
      "cell_type": "markdown",
      "metadata": {
        "id": "36gbhuaO1dhH"
      },
      "source": [
        "> 1-1 or 2-1 ?"
      ]
    },
    {
      "cell_type": "markdown",
      "metadata": {
        "id": "iTpg-Zg7qfPk"
      },
      "source": [
        "https://en.m.wikipedia.org/wiki/Simon%27s_problem"
      ]
    },
    {
      "cell_type": "markdown",
      "metadata": {
        "id": "vAylb_iUC3_a"
      },
      "source": [
        "###### **<font color=\"blue\">Shor's Algorithm</font>**"
      ]
    },
    {
      "cell_type": "markdown",
      "metadata": {
        "id": "QhxodM6u1eT3"
      },
      "source": [
        "> Algorithm based on Quantum Fourier Transform"
      ]
    },
    {
      "cell_type": "markdown",
      "metadata": {
        "id": "66CIBHRz5flt"
      },
      "source": [
        "**Prerequisite**"
      ]
    },
    {
      "cell_type": "markdown",
      "metadata": {
        "id": "UENYmb3Alt3f"
      },
      "source": [
        "* [Primfaktorzerlegung](https://de.m.wikipedia.org/wiki/Primfaktorzerlegung) und [Euklidischer Algorithmus](https://de.m.wikipedia.org/wiki/Euklidischer_Algorithmus)\n",
        "\n",
        "* [Quantum Fourier Transform](https://en.m.wikipedia.org/wiki/Quantum_Fourier_transform) und [Fourier transform on finite groups](https://en.m.wikipedia.org/wiki/Fourier_transform_on_finite_groups)\n",
        "\n",
        "* Read [Shor's Algorithm](https://en.m.wikipedia.org/wiki/Shor%27s_algorithm)"
      ]
    },
    {
      "cell_type": "markdown",
      "metadata": {
        "id": "l3jNiq111siS"
      },
      "source": [
        "Video: [How Quantum Computers Break Encryption | Shor's Algorithm Explained](https://www.youtube.com/watch?v=lvTqbM5Dq4Q&t=584s)\n",
        "\n",
        "Video: [How Shor's Algorithm Factors 314191](https://www.youtube.com/watch?v=FRZQ-efABeQ&t=98s)"
      ]
    },
    {
      "cell_type": "markdown",
      "metadata": {
        "id": "ihXSBLqcwVN6"
      },
      "source": [
        "**Step 1: To factorize a number N like 15 into its primes, let's take a random number g < N that might share a factor with the target number (but probably doesn't)**\n",
        "\n",
        "That number g doesn't need to a pure factor. It can also be a number that shares some factors with N: \n",
        "\t\n",
        "> N = a * b and g = a * c\n",
        "\n",
        "* like 4=2 * 2 and 6=2 * 3, with 2 being the shared factors.\n",
        "\n",
        "* or in this case, starting with g = 10 \n",
        "\n",
        "  * 10 < 15 (g < N)\n",
        "  \n",
        "  * 10 = 2 * 5 (you got here with Euclid's algorithm)\n",
        "\n",
        "  * 15 = 3 * 5 (to show that there is a shared factor)\n",
        "\n",
        "  * shared prime factor = 5\n",
        "\n",
        "  * Now divide N = 15 by this shared factor 5 which gives you 3. The encryption is broken, you have both prime factors of 15.\n",
        "\n",
        "* this is fine according to [Euclidean's algorithm](https://de.m.wikipedia.org/wiki/Euklidischer_Algorithmus) gcd(N,g)= ? ggT = groesster gemeinsamer teil (engl gcd)\n",
        "\n",
        "* it says to find a factor of N we don't need a factor of N - guessing that share factors with N works too. N = f1 * f2, 5*f2?\n",
        "\n",
        "* if Euclid's algorithm found any shared factor with N, we are done. You can divide N by that factor to get the other factor, and break encryption.\n",
        "\n",
        "* with extremely large numbers it is very unlikely that a single guess share a factor with N. \n",
        "\n"
      ]
    },
    {
      "cell_type": "markdown",
      "metadata": {
        "id": "mAs1iOI_wziO"
      },
      "source": [
        "**Step 2: The algorithm transforms it into a much better guess that probably does share a factor with:**\n",
        "\n",
        "> $g^{p/2}$ $\\pm$ 1\n",
        "\n",
        "Take a pair of whole numbers that don't share a factor and multiply one of them enough times, you will arrive at some whole number multiple of the other number plus 1:\n",
        "\n",
        "> A, B -> A * A * A * A * A * A * .. = m * B + 1\n",
        "\n",
        "Formalizing it:\n",
        "\n",
        "> $A^p$ = m * B + 1"
      ]
    },
    {
      "cell_type": "markdown",
      "metadata": {
        "id": "ROa_Pc6nqsQ6"
      },
      "source": [
        "Example: guess g = 7 and target N = 15: \n",
        "\n",
        "* 7$^2$ $\\neq$ 3*15 + 4\n",
        "\n",
        "* 7$^3$ $\\neq$ 22*15 + 13\n",
        "\n",
        "* 7$^4$ = 160*15 + 1 = 2401 for both\n",
        "\n",
        "So in our case for N and g:\n",
        "\n",
        "> $g^p$ = m * N + 1\n",
        "\n",
        "Re-arrange this: \n",
        "\n",
        "> $g^p$ -1 = m * N\n",
        "\n",
        "And again:\n",
        "\n",
        "> ($g^{p/2}$+1) * ($g^{p/2}$-1) = m * N\n",
        "\n",
        "Is like a-factor * b-factor = m * N\n",
        "\n",
        "These two terms a-factor and b-factor on the left side are the new and improved guesses that Shor's algorithm prescribes. They might be multiples of factors of N and not necessarily the factors themselves. For example:\n",
        "\n",
        "* $7^{4/2}$ + 1 = 50 = a-factor, mit den Teilern: 1, 2, 5, 10, 25, 50. Primzahlen davon sind 2 und 5 (Faktorisierung:  2 * 5 * 5)\n",
        "\n",
        "* $7^{4/2}$ - 1 = 48 = b-factor, mit den Teilern: 1, 2, 3, 4, 6, 8, 12, 16, 24, 48. Primzahlen davon sind 2 und 3 (Faktorisierung: 2 * 2 * 2 * 2 * 3=48)\n",
        "\n",
        "Both 48 & 50 are not 15, but the first one has the factor 5 and the second the factor 3, which both lead to 15, thanks to Euclid's algorithm again here."
      ]
    },
    {
      "cell_type": "markdown",
      "metadata": {
        "id": "JPhfFr5BypVf"
      },
      "source": [
        "**Challenges with this approach**\n",
        "\n",
        "1. One of the new guesses might itself be a multiple of N, like ($g^{p/2}$+1) = a * N. In this case the other would be a factor of m and neither would be useful to us.\n",
        "\n",
        "2. The power of p might an odd number, in which case p/2 isn't a whole number and that lets to fractions: $42^{3/2}$ = 272,191... We are working with integers only.\n",
        "\n",
        "  * For a random guess of g in at least 3/8ths of the time both problems don't happen (37,5%) and p does generate guesses that share factors with N with ($g^{p/2}$). \n",
        "  \n",
        "  * And we are 99% likely yo break the encryption in fewer than 10 guesses.\n",
        "\n",
        "3. But biggest problem: How do we find p?\n",
        "\n",
        "Remember: to turn a bad guess into a good guess g -> ($g^{p/2}$+1)we need to know how many times p we have to multiply the guess g * g * g * g * g *... (p-times) before we get a multiple of N plus 1."
      ]
    },
    {
      "cell_type": "markdown",
      "metadata": {
        "id": "jimYYoWIx952"
      },
      "source": [
        "> $g^p$ = m * N + 1\n",
        "\n",
        "and turned around (which is why the remainder has to be 1 !)\n",
        "\n",
        "> ($g^{p/2}$+1) * ($g^{p/2}$-1) = m * N"
      ]
    },
    {
      "cell_type": "markdown",
      "metadata": {
        "id": "u38im6R66gvk"
      },
      "source": [
        "![ggg](https://raw.githubusercontent.com/deltorobarba/repo/master/shor_02.png)"
      ]
    },
    {
      "cell_type": "markdown",
      "metadata": {
        "id": "5dgP4XI02JMb"
      },
      "source": [
        "\n",
        "**Step 3: Here comes quantum mechanics in:** \n",
        "\n",
        "* normal computers would give one answer after another. A quantum computer can take the superposition and simultaneously \"calculate\" a bunch of possible answers for a single input. And you get only 1 answer out (randomly) with different probabilities for each one. \n",
        "\n",
        "* **Challenge: after you set up the superposition that calculates all answers at once you just need to cleverly arrange it so that all wrong answers destructively interfere with each other** (otherwise you just get a random answer from all possible states)\n",
        "\n",
        "* that way when you measure the output of the calculation, the result of the measurement is most likely (not deterministically!) the right answer. \n",
        "\n",
        "* This is how it works in detail:\n",
        "\n",
        "  * the quantum computer takes a number g as input \n",
        "\n",
        "  * then raises our guess to the power of x, which is $g^x$\n",
        "\n",
        "  * we need to keep track of both the number x and our guess to that power: $g^x$\n",
        "\n",
        "  * the computer then needs to take that result and calculate how much bigger than a multiple of N this is: (x, $g^x$) > m * N\n",
        "\n",
        "* we call that the remainder and we'll write it as plus something for whatever something the remainder is: (x, +r) (but remember: we want the remainder of 1).\n",
        "\n",
        "* in a quantum computer we can give a superposition of numbers and the computation will be done on all of them."
      ]
    },
    {
      "cell_type": "markdown",
      "metadata": {
        "id": "fLbATBTs6l48"
      },
      "source": [
        "![ggg](https://raw.githubusercontent.com/deltorobarba/repo/master/shor_01.png)"
      ]
    },
    {
      "cell_type": "markdown",
      "metadata": {
        "id": "AyN1Kzev83CW"
      },
      "source": [
        "**Step 4: Quantum Fourier transform**\n",
        "\n",
        "* we feed in a superposition of numbers |1> + |2> + |3> + ..into $g^x$ and computation will be done simultaneously on all of them, \n",
        "\n",
        "* first resulting in a superposition of all possible powers our guess could be raised to -> |1, $g^1$> + |2, $g^2$> + |3, $g^3$> + ..\n",
        "\n",
        "* and then a superposition of how much bigger each of those powers are than a multiple of N -> |1, +17> + |2, +5> + |3, +92>\n",
        "\n",
        "* but we can't just measure the superposition. We would get a single random element of the superposition, like for |2, +5>: \"our guess squared is 5 more than a multiple of N\", which is like randomly guessing powers.\n",
        "\n",
        "* We need something clever to get all the non-p answers to destructively interfere and cancel each other out, leaving us with only 1 possible answer: |p, +1>\n",
        "\n",
        "We can do this based on anther mathematical observation: If $g^x$ is r more than a multiple of N, then $g^{x+p}$ will also be r more than a multiple of N (though a different multiple):\n",
        "\n",
        "* like before:\n",
        "\n",
        "  * 7$^4$ = 160*15 + 1 = 2401 with g=7 and p=4  being the multiple of m=160 *  N=15, just with another p and hence another m, but r= +1 staying the same\n",
        "\n",
        "  * Now 7$^{2*4}$ = 5.764.801 is the same = 384.320 * 15 +1 ( with m being new = 384.320)\n",
        "\n",
        "  * as you see: m is different now, **but the remainder +1 stays the same**, when in $g^p$ p is another power of the original p  - twice original p=4\n",
        "\n",
        "  * Achtung: not sure if that calculation above is correct because in the image below there is an addition of $g^{x+p}$ and not $g^{x*p}$"
      ]
    },
    {
      "cell_type": "markdown",
      "metadata": {
        "id": "xe4R-nkf847W"
      },
      "source": [
        "![ggg](https://raw.githubusercontent.com/deltorobarba/repo/master/shor_03.png)"
      ]
    },
    {
      "cell_type": "markdown",
      "metadata": {
        "id": "I6SewXTfAbKX"
      },
      "source": [
        "So the power p that we are looking for, the one that allows us to improve our bad guess p: g -> $g^{p/2}$ $\\pm$ 1. **p has a repeating power**, where if we take another power and add p to it, the amount more than a multiple of N stays the same:\n",
        "\n",
        "$g^{x}$ or $g^{x+p}$ or $g^{x-p}$ or $g^{x+2p}$ have all the same: +r\n",
        "\n",
        "* this repeating property isn't something you could figure out from taking our guess to just oe power - it's a structural relationship between different powers, and we can take advantage of it since quantum computations can be performed on superpositions of different possible powers: \n",
        "\n",
        "$g^{2}$ or $g^{12}$ or $g^{22}$ lead all to +7\n",
        "\n",
        "$g^{3}$ or $g^{13}$ or $g^{23}$ lead all to +4\n",
        "\n",
        "|2> + |3> + |12> + |13> + |22> + |23> \n",
        "\n",
        "Specifically if we take the superposition of all possible powers and just measure the \"amount more than a multiple of N\" part, then we'll randomly get one of the possible \"amounts more than a multiple of N\" as the output, say 3 as +r.\n",
        "\n",
        "We must be left with a superposition of purely the powers that could have resulted in a remainder of 3. This is a special property of quantum computation: if you put in a superposition and get an answer that could have come from more than one element of the superposition, then you'll be left with the superposition of just those elements, like\n",
        "\n",
        "|2, +3> + |12,+3> + |22,+3> + ..\n",
        "\n",
        "And in our case, because of the repeating property, those powers are all numbers that are p apart from each other.\n",
        "\n"
      ]
    },
    {
      "cell_type": "markdown",
      "metadata": {
        "id": "_4RIiHJ0Ac3h"
      },
      "source": [
        "![ggg](https://raw.githubusercontent.com/deltorobarba/repo/master/shor_04.png)"
      ]
    },
    {
      "cell_type": "markdown",
      "metadata": {
        "id": "o0ChfNB3Btef"
      },
      "source": [
        "We are trying to find p, because it will allow us to turn a bad guess into a good guess for a number that shares factors withy N. \n",
        "\n",
        "And we now have a quantum superposition of numbers that repeat periodically with a period of p, or equivalently, they repeat with a frequency of 1/p. If you can find the frequency, we can find p."
      ]
    },
    {
      "cell_type": "markdown",
      "metadata": {
        "id": "CZ9dNPq5Bumd"
      },
      "source": [
        "![ggg](https://raw.githubusercontent.com/deltorobarba/repo/master/shor_05.png)"
      ]
    },
    {
      "cell_type": "markdown",
      "metadata": {
        "id": "wd8JU6xsDbgm"
      },
      "source": [
        "The best tool to find the frequency of things is the Fourier transform. Input an audio signal as a wave of time, and get the different frequencies the wave is made up of. \n",
        "\n",
        "There is a quantum version of the Fourier transform, which we can apply to our superposition that repeats with a frequency of 1/p to cause all the different possible wrong frequencies to destructively interfere, leaving us with a single quantum state: the frequency |1/p>, which we can finally measure to get the actual output of the computation.\n",
        "\n",
        "How does QFT work? Input a single number and it gives you a superposition of all other numbers, that are weighted by different amounts. And those weights look roughly like a sine wave with the frequency of the single number we put in. If we out in a higher number, we get a higher frequency. "
      ]
    },
    {
      "cell_type": "markdown",
      "metadata": {
        "id": "suweiKqKDc1f"
      },
      "source": [
        "![ggg](https://raw.githubusercontent.com/deltorobarba/repo/master/shor_06.png)"
      ]
    },
    {
      "cell_type": "markdown",
      "metadata": {
        "id": "li9dHJHSD8K2"
      },
      "source": [
        "And if you put in a superposition of numbers, you get out a superposition of superpositions and the sine waves add together - or subtract and cancel each other out. \n"
      ]
    },
    {
      "cell_type": "markdown",
      "metadata": {
        "id": "sansTj6eD9UP"
      },
      "source": [
        "![ggg](https://raw.githubusercontent.com/deltorobarba/repo/master/shor_07.png)"
      ]
    },
    {
      "cell_type": "markdown",
      "metadata": {
        "id": "du1FYTtiFKR9"
      },
      "source": [
        "And it happens if you put in a superposition of numbers that are all separated by an amount p, all those sine waves interfere so that what you get out (oversimplified) is the single quantum state representing 1/p (all the rest destructively interfered).\n",
        "\n",
        "This result we invert to find p 1/(1/p) -> p\n",
        "\n",
        "And as long as p is even we can now finally raise our guess to the power of p over 2 and add or subtract one, and as long we don't get an exact multiple of N, we are guaranteed to have a number that shares a factor with N. Then we can use Euclid's algorithm to quickly find those factors. "
      ]
    },
    {
      "cell_type": "markdown",
      "metadata": {
        "id": "6csOoRAaFInk"
      },
      "source": [
        "![ggg](https://raw.githubusercontent.com/deltorobarba/repo/master/shor_08.png)"
      ]
    },
    {
      "cell_type": "markdown",
      "metadata": {
        "id": "9oyU13xTFmPQ"
      },
      "source": [
        "Summary:"
      ]
    },
    {
      "cell_type": "markdown",
      "metadata": {
        "id": "_MxoRiEzFkcg"
      },
      "source": [
        "![ggg](https://raw.githubusercontent.com/deltorobarba/repo/master/shor_09.png)"
      ]
    },
    {
      "cell_type": "markdown",
      "metadata": {
        "id": "xWZS80qVr7OU"
      },
      "source": [
        "###### **<font color=\"blue\">Grover's Algorithm</font>**"
      ]
    },
    {
      "cell_type": "markdown",
      "metadata": {
        "id": "zkgjkcQ3gZhD"
      },
      "source": [
        "> **[Grover’s algorithm](https://en.m.wikipedia.org/wiki/Grover's_algorithm) teaches us how we can search for an item in an unsorted list without needing to look at each item one by one but by looking at them all at once.**\n",
        "\n",
        "It accomplishes that using two techniques:\n",
        "\n",
        "  * First, it uses a quantum oracle to mark the searched state. \n",
        "  \n",
        "  * Second, it uses a diffuser that amplifies the amplitude of the marked state to increase its measurement probability."
      ]
    },
    {
      "cell_type": "markdown",
      "metadata": {
        "id": "_oPB_YTuC_2V"
      },
      "source": [
        "Grover's Algorithm : Suche in grossen Datenbanken (Squared speedup: get result in the square root of time that on classical computers)\n",
        "\n",
        "* Auf einem klassischen Computer ist der prinzipiell schnellstmögliche Suchalgorithmus in einer unsortierten Datenbank die [lineare Suche](https://de.m.wikipedia.org/wiki/Lineare_Suche), die ${\\mathcal {O}}\\left(N\\right)$ Rechenschritte erfordert (Der Suchaufwand wächst linear mit der Anzahl der Elemente in der Liste.)\n",
        "\n",
        "* Die effizientere [Binäre Suche](https://de.m.wikipedia.org/wiki/Binäre_Suche) kann nur bei geordneten Listen benutzt werden. Die Binäre Suche ist deutlich schneller als die lineare Suche, welche allerdings den Vorteil hat, auch in unsortierten Feldern zu funktionieren. In Spezialfällen kann die [Interpolationssuche](https://de.m.wikipedia.org/wiki/Interpolationssuche) schneller sein als die binäre Suche.\n",
        "\n",
        "* Makes use of Amplitude Amplification, Quantum Walk & Quantum Counting"
      ]
    },
    {
      "cell_type": "markdown",
      "metadata": {
        "id": "ZmH-5obmX865"
      },
      "source": [
        "https://towardsdatascience.com/where-the-quantum-advantage-comes-from-5accd926eb7a"
      ]
    },
    {
      "cell_type": "markdown",
      "metadata": {
        "id": "suGCRTbRX7X3"
      },
      "source": [
        "https://towardsdatascience.com/a-practical-guide-to-quantum-amplitude-amplification-dbcbe467044a"
      ]
    },
    {
      "cell_type": "markdown",
      "metadata": {
        "id": "ptgxo09zTqaN"
      },
      "source": [
        "https://jonathan-hui.medium.com/qc-grovers-algorithm-cd81e61cf248"
      ]
    },
    {
      "cell_type": "markdown",
      "metadata": {
        "id": "DuqBj0b2Igpf"
      },
      "source": [
        "###### **<font color=\"blue\">Harrow-Hassidim-Lloyd Algorithm (HHL)</font>**"
      ]
    },
    {
      "cell_type": "markdown",
      "metadata": {
        "id": "Ymoe7LgXrWL_"
      },
      "source": [
        "The [quantum algorithm for linear systems of equations](https://en.m.wikipedia.org/wiki/Quantum_algorithm_for_linear_systems_of_equations), also called HHL algorithm, designed by Aram Harrow, Avinatan Hassidim, and Seth Lloyd, is a quantum algorithm formulated in 2009 for solving linear systems. The algorithm estimates the result of a scalar measurement on the solution vector to a given linear system of equations.\n",
        "\n",
        "* The algorithm is one of the main fundamental algorithms expected to provide a speedup over their classical counterparts, along with Shor's factoring algorithm, Grover's search algorithm, the quantum fourier transform and quantum simulation. \n",
        "\n",
        "* Provided the linear system is sparse and has a low condition number $\\kappa_{1}$ and that the user is interested in the result of a scalar measurement on the solution vector, instead of the values of the solution vector itself, then the algorithm has a runtime of $O\\left(\\log (N) \\kappa^{2}\\right)$, where $N$ is the number of variables in the linear system. This offers an exponential speedup over the fastest classical algorithm, which runs in $O(N \\kappa)$ (or $O(N \\sqrt{\\kappa})$ for positive semidefinite matrices)."
      ]
    },
    {
      "cell_type": "markdown",
      "metadata": {
        "id": "zFxhAdMPyZSq"
      },
      "source": [
        "https://www.quantamagazine.org/a-new-approach-to-multiplication-opens-the-door-to-better-quantum-computers-20190424/"
      ]
    },
    {
      "cell_type": "markdown",
      "metadata": {
        "id": "8rZnrWRuye6T"
      },
      "source": [
        "https://www.quantamagazine.org/teenager-finds-classical-alternative-to-quantum-recommendation-algorithm-20180731/"
      ]
    },
    {
      "cell_type": "markdown",
      "metadata": {
        "id": "CDrgK9b_Pn1J"
      },
      "source": [
        "https://medium.com/mit-6-s089-intro-to-quantum-computing/hhl-solving-linear-systems-of-equations-with-quantum-computing-efb07eb32f74"
      ]
    },
    {
      "cell_type": "markdown",
      "metadata": {
        "id": "BIlaaHIR08KF"
      },
      "source": [
        "* Systems of linear equations arise naturally in many real-life applications in a wide range of areas, such as in the solution of Partial Differential Equations, the calibration of financial models, fluid simulation or numerical field calculation. \n",
        "\n",
        "* Makes use of Quantum Phase Estimation\n",
        "\n",
        "* Quantum Matrix Inversion\n",
        "\n",
        "* Given a matrix $A \\in \\mathbb{C}^{N \\times N}$ and a vector $\\vec{b} \\in \\mathbb{C}^{N}$, find $\\vec{x} \\in \\mathbb{C}^{N}$ satisfying $A \\vec{x}=\\vec{b}$\n",
        "\n",
        "* one crucial remark to keep in mind is that the classical algorithm returns the full solution, while the HHL can only approximate functions of the solution vector.\n",
        "\n",
        "* **Used in many quantum machine learning algorithms as a building block**\n"
      ]
    },
    {
      "cell_type": "markdown",
      "metadata": {
        "id": "mPYCW7St_9m7"
      },
      "source": [
        "https://m.youtube.com/watch?v=Xvp56xeNZo4"
      ]
    },
    {
      "cell_type": "markdown",
      "metadata": {
        "id": "l_8ji5r53P-T"
      },
      "source": [
        "https://m.youtube.com/watch?v=hQpdPM-6wtU"
      ]
    },
    {
      "cell_type": "markdown",
      "metadata": {
        "id": "RZVFhm-v0-BI"
      },
      "source": [
        "https://qiskit.org/textbook/ch-applications/hhl_tutorial.html"
      ]
    },
    {
      "cell_type": "markdown",
      "metadata": {
        "id": "gRu5vAkIIp5w"
      },
      "source": [
        "https://en.m.wikipedia.org/wiki/Quantum_algorithm_for_linear_systems_of_equations"
      ]
    },
    {
      "cell_type": "markdown",
      "metadata": {
        "id": "YObfeUgOQfyO"
      },
      "source": [
        "**Applications of HHL**\n",
        "\n",
        "* The quantum algorithm for linear systems of equations has been applied to a support vector machine, which is an optimized linear or non-linear binary classifier (https://arxiv.org/abs/1307.0471v2)\n",
        "\n",
        "* for Least-squares fitting (https://arxiv.org/abs/1204.5242)\n",
        "\n",
        "* for finite-element-methods (https://arxiv.org/abs/1512.05903) (but only for higher problems which include solutions with higher-order derivatives and large spatial dimensions. For example, problems in many-body dynamics require the solution of equations containing derivatives on orders scaling with the number of bodies, and some problems in computational finance, such as Black-Scholes models, require large spatial dimensions)"
      ]
    },
    {
      "cell_type": "markdown",
      "metadata": {
        "id": "z8zUGVpJ3__u"
      },
      "source": [
        "**Familiar methods of solutions**\n",
        "\n",
        "* Substitution method\n",
        "* Graphical method\n",
        "* Matrix method\n",
        "* Cramer's rule\n",
        "* Gaussian elimination"
      ]
    },
    {
      "cell_type": "markdown",
      "metadata": {
        "id": "RPc-sWLFPAl8"
      },
      "source": [
        "**Main Subroutines in HHL:**\n",
        "\n",
        "* Hamiltonian simulation\n",
        "* Phase estimation (newer: linear combination of unitaries\n",
        "* (Variable-time) amplitude amplification"
      ]
    },
    {
      "cell_type": "markdown",
      "metadata": {
        "id": "_IuSjd7YPB-Q"
      },
      "source": [
        "> The spectrum of $A$ is given by: $A\\left|v_{j}\\right\\rangle=\\lambda_{j}\\left|v_{j}\\right\\rangle, 1 \\geq\\left|\\lambda_{j}\\right| \\geq 1 / \\kappa$"
      ]
    },
    {
      "cell_type": "markdown",
      "metadata": {
        "id": "Ij_dB1BOtFEY"
      },
      "source": [
        "**HHL-Approach**\n",
        "\n",
        "1. Prepare the initial state $|b\\rangle$. Note that $|b\\rangle=\\sum_{j} c_{j}\\left|v_{j}\\right\\rangle$.\n",
        "\n",
        "2. Use the so-called phase estimation algorithm to perform the map\n",
        "$|b\\rangle \\rightarrow \\sum_{j} c_{j}\\left|v_{j}\\right\\rangle\\left|\\tilde{\\lambda}_{j}\\right\\rangle$\n",
        "\n",
        "* $|\\tilde{\\lambda}_{j}\\rangle$ -> This register contains the eigenvalue estimates.\n",
        "\n",
        "3. Apply a one-qubit conditional rotation to perform the map\n",
        "$|0\\rangle \\rightarrow \\frac{1}{\\kappa \\tilde{\\lambda}_{j}}|0\\rangle+\\sqrt{1-\\frac{1}{\\kappa^{2} \\tilde{\\lambda}_{j}^{2}}}|1\\rangle$\n",
        "\n",
        "4. Undo step 2 - apply the inverse of phase estimation\n",
        "$\\sum_{j} \\frac{c_{j}}{\\kappa \\tilde{\\lambda}_{j}}\\left|v_{j}\\right\\rangle|0\\rangle+|\\mathrm{bad}\\rangle|1\\rangle \\approx \\frac{1}{\\kappa A}|b\\rangle|0\\rangle+|\\mathrm{bad}\\rangle|1\\rangle$\n",
        "\n",
        "5. Use amplitude amplification to get rid of the „bad“ part of the state with |1>\n"
      ]
    },
    {
      "cell_type": "markdown",
      "metadata": {
        "id": "bGOsazfwPF2M"
      },
      "source": [
        "**Promise**: \n",
        "\n",
        "* Solving 10,000 linear equation: a classical computer needs in best case 10,000 steps. HHL just 13.\n",
        "\n",
        "* Unlike the classical solutions to the Deutsch-Jozsa and search problems, most of our classical methods for matrix manipulation do work in polynomial time. However, as data analysis becomes more and more powerful (and more and more demanding on today’s computers), the size of these matrices can make even polynomial time too long."
      ]
    },
    {
      "cell_type": "markdown",
      "metadata": {
        "id": "29ABxC9IxWVq"
      },
      "source": [
        "\n",
        "\n",
        "**Disadvantages:**\n",
        "\n",
        "* solution vector is not yielded (rather it prepares a quantum state that is proportional to the solution): Actually reading out the solution vector would take O(N)time, so we can only maintain the logarithmic runtime by sampling the solution vector like ⟨x|M|x⟩, where M is a quantum-mechanical operator. Therefore, **HHL is useful mainly in applications where only samples from the solution vector are needed**. \n",
        "\n",
        "* Entries of matrix have to be sparse: Additionally, although HHL is exponentially faster than Conjugate Gradient in N, it is polynomially slower in s and 𝜅, so HHL is restricted to only those matrices that are sparse and have low condition numbers.\n",
        "\n",
        "* Must satisfy robust invertibility (means that entries of matrix must all approx. of same size)\n",
        "\n",
        "* Preparation of input vector is complicated\n"
      ]
    },
    {
      "cell_type": "markdown",
      "metadata": {
        "id": "2wBpVSdgtZBO"
      },
      "source": [
        "###### **<font color=\"blue\">Variational quantum eigensolver (i.e. Protein Folding)**"
      ]
    },
    {
      "cell_type": "markdown",
      "metadata": {
        "id": "xC5SoRI7o9t6"
      },
      "source": [
        "*Optimization: simulations for material science and quantum chemistry, factoring numbers*"
      ]
    },
    {
      "cell_type": "markdown",
      "metadata": {
        "id": "gtH3w-sfyguE"
      },
      "source": [
        "* Known as variational quantum algorithms, they use the quantum boxes to manipulate quantum systems while shifting much of the work load to classical computers to let them do what they currently do best: solve optimization problems.\n",
        "\n",
        "* \"With variational quantum algorithms, we get the best of both worlds. We can harness the power of quantum computers for tasks that classical computers can't do easily, then use classical computers to compliment the computational power of quantum devices.\"\n",
        "\n",
        "* The algorithms are called variational because the optimization process varies the algorithm on the fly, as a kind of machine learning. It changes parameters and logic gates to minimize a cost function, which is a mathematical expression that measures how well the algorithm has performed the task. The problem is solved when the cost function reaches its lowest possible value. \n",
        "\n",
        "* In an iterative function in the variational quantum algorithm, the quantum computer estimates the cost function, then passes that result back to the classical computer. The classical computer then adjusts the input parameters and sends them to the quantum computer, which runs the optimization again. \n",
        "\n"
      ]
    },
    {
      "cell_type": "markdown",
      "metadata": {
        "id": "TqCzs1R-yjOc"
      },
      "source": [
        "https://phys-org.cdn.ampproject.org/c/s/phys.org/news/2021-08-algorithms-small-noisy-quantum-viable.amp"
      ]
    },
    {
      "cell_type": "markdown",
      "metadata": {
        "id": "0_w5kg67zuXu"
      },
      "source": [
        "https://www.nature.com/articles/s42254-021-00348-9"
      ]
    },
    {
      "cell_type": "markdown",
      "metadata": {
        "id": "3iToZ6UmowRZ"
      },
      "source": [
        "*Resource-efficient quantum algorithm for protein folding*"
      ]
    },
    {
      "cell_type": "markdown",
      "metadata": {
        "id": "aIvCGgqvoooS"
      },
      "source": [
        "* Rather than spend computational resources checking each possible fold of a protein, the quantum approach encodes the superposition of all physically meaningful ways of folding the protein into a model Hamiltonian. Then it samples these combinations statistically to find the series of folds that are the most stable.\n",
        "\n",
        "* “Everything in our body wants to be in the minimum free-energy configuration,” said Barkoutsos. “It is the most stable. And we generally say in nature — in our bodies — the most stable is the winning configuration.”\n",
        "With this approach, the researchers simulated the folding of a 10-amino acid chain called Angiotensin with a 22 qubit quantum simulator, and a seven-amino acid neuropeptide on a 20-qubit quantum computer.\n",
        "Multipurpose, open-source code\n",
        "\n",
        "* This work relied on a modified Variational Quantum Eigensolver (VQE) algorithm, a major optimization tool in the quantum arsenal, drawn from the Qiskit Application Module.\n",
        "\n",
        "* To suit their needs, the team modified the VQE to sample only the parts of the data relevant to the problem, producing a tool they called a Conditional Value-at-Risk (CVaR) VQE. In line with IBM Quantum’s open-source ethos, this tool is now available to the Qiskit community as of the latest Qiskit Nature release."
      ]
    },
    {
      "cell_type": "markdown",
      "metadata": {
        "id": "xnHRiqZvotoe"
      },
      "source": [
        "https://medium.com/qiskit/a-novel-quantum-algorithm-for-protein-folding-paving-the-way-toward-resolving-one-of-the-biggest-861112139ff0"
      ]
    },
    {
      "cell_type": "markdown",
      "metadata": {
        "id": "_P7cvzfNoyyZ"
      },
      "source": [
        "https://www.nature.com/articles/s41534-021-00368-4"
      ]
    },
    {
      "cell_type": "markdown",
      "metadata": {
        "id": "B30zKlfExubw"
      },
      "source": [
        "###### **<font color=\"blue\">Stochastic Processes and Monte Carlo Simulations**"
      ]
    },
    {
      "cell_type": "markdown",
      "metadata": {
        "id": "T_S7MPwEAd-y"
      },
      "source": [
        "https://en.m.wikipedia.org/wiki/Quantum_Monte_Carlo"
      ]
    },
    {
      "cell_type": "markdown",
      "metadata": {
        "id": "Ckq3JlcWxi1Z"
      },
      "source": [
        "https://www.nature.com/articles/s41534-021-00459-2"
      ]
    },
    {
      "cell_type": "markdown",
      "metadata": {
        "id": "DnkXh3N6x0F0"
      },
      "source": [
        "###### **<font color=\"blue\">Computational Chemistry**"
      ]
    },
    {
      "cell_type": "markdown",
      "metadata": {
        "id": "PD29QfIzyl87"
      },
      "source": [
        "wwww"
      ]
    },
    {
      "cell_type": "markdown",
      "metadata": {
        "id": "igYVFK-qS-B3"
      },
      "source": [
        "###### **<font color=\"gray\">All Quantum (Optimization) Algorithms</font>**"
      ]
    },
    {
      "cell_type": "markdown",
      "metadata": {
        "id": "DEXg6uMIRYMe"
      },
      "source": [
        "See paper [Quantum Algorithms Via Linear Algebra](http://mmrc.amss.cas.cn/tlb/201702/W020170224608149911380.pdf)"
      ]
    },
    {
      "cell_type": "markdown",
      "metadata": {
        "id": "Bdh8wqgcLKTW"
      },
      "source": [
        "https://en.m.wikipedia.org/wiki/Topological_quantum_field_theory"
      ]
    },
    {
      "cell_type": "markdown",
      "metadata": {
        "id": "Y5VpkUkWLIsD"
      },
      "source": [
        "https://en.m.wikipedia.org/wiki/Topological_quantum_computer"
      ]
    },
    {
      "cell_type": "markdown",
      "metadata": {
        "id": "qpTjaiveLHAq"
      },
      "source": [
        "https://en.m.wikipedia.org/wiki/Jones_polynomial"
      ]
    },
    {
      "cell_type": "markdown",
      "metadata": {
        "id": "LXtbNTCarwuu"
      },
      "source": [
        "* In quantum computing, a quantum algorithm is an algorithm which runs on a realistic model of quantum computation, the most commonly used model being the quantum circuit model of computation. \n",
        "\n",
        "* A classical (or non-quantum) algorithm is a finite sequence of instructions, or a step-by-step procedure for solving a problem, where each step or instruction can be performed on a classical computer. Similarly, a quantum algorithm is a step-by-step procedure, where each of the steps can be performed on a quantum computer. \n",
        "\n",
        "* Although all classical algorithms can also be performed on a quantum computer,the term quantum algorithm is usually used for those algorithms which seem inherently quantum, or use some essential feature of quantum computation such as quantum superposition or quantum entanglement."
      ]
    },
    {
      "cell_type": "markdown",
      "metadata": {
        "id": "JlFV-CqJqO_J"
      },
      "source": [
        "https://en.m.wikipedia.org/wiki/Quantum_algorithm"
      ]
    },
    {
      "cell_type": "markdown",
      "metadata": {
        "id": "KC2ibNb5S9Nc"
      },
      "source": [
        "https://quantumalgorithmzoo.org"
      ]
    },
    {
      "cell_type": "markdown",
      "metadata": {
        "id": "tzeu-pAPsEsn"
      },
      "source": [
        "See also: https://en.m.wikipedia.org/wiki/Quantum_optimization_algorithms"
      ]
    },
    {
      "cell_type": "markdown",
      "metadata": {
        "id": "L-YnvI1qGgfC"
      },
      "source": [
        "**<font color=\"blue\">Quantum Simulator</font>**"
      ]
    },
    {
      "cell_type": "markdown",
      "metadata": {
        "id": "h3ItY5omGkhK"
      },
      "source": [
        "https://en.m.wikipedia.org/wiki/Quantum_simulator"
      ]
    },
    {
      "cell_type": "markdown",
      "metadata": {
        "id": "Kcfr-7xksyEn"
      },
      "source": [
        "**<font color=\"blue\">Boson sampling problem ('Aaronson–Arkiphov Scheme')</font>**"
      ]
    },
    {
      "cell_type": "markdown",
      "metadata": {
        "id": "DWb6Trv11fTY"
      },
      "source": [
        "> Algorithm based on Quantum Fourier Transform"
      ]
    },
    {
      "cell_type": "markdown",
      "metadata": {
        "id": "DMXSmUgFGAZU"
      },
      "source": [
        "https://www.nature.com/articles/d41586-020-03434-7"
      ]
    },
    {
      "cell_type": "markdown",
      "metadata": {
        "id": "1VPU2aTlGeBG"
      },
      "source": [
        "The Hefei team, led by Pan and Chao-Yang Lu, chose a different problem for its demonstration, called boson sampling. It was devised in 2011 by two computer scientists, Scott Aaronson and Alex Arkhipov4, then at the Massachusetts Institute of Technology in Cambridge. It entails calculating the probability distribution of many bosons — a category of fundamental particle that includes photons — whose quantum waves interfere with one another in a way that essentially randomizes the position of the particles. The probability of detecting a boson at a given position can be calculated from an equation in many unknowns."
      ]
    },
    {
      "cell_type": "markdown",
      "metadata": {
        "id": "zn0-Z_UI1F7l"
      },
      "source": [
        "**<font color=\"blue\">Other Algorithms based on Quantum Fourier Transform</font>**"
      ]
    },
    {
      "cell_type": "markdown",
      "metadata": {
        "id": "bXJuuTFXswKp"
      },
      "source": [
        "**Hidden subgroup problem**"
      ]
    },
    {
      "cell_type": "markdown",
      "metadata": {
        "id": "Plc8vC9vwsPH"
      },
      "source": [
        "https://en.m.wikipedia.org/wiki/Hidden_subgroup_problem"
      ]
    },
    {
      "cell_type": "markdown",
      "metadata": {
        "id": "Wjr6WU7_spfs"
      },
      "source": [
        "**Quantum phase estimation algorithm**"
      ]
    },
    {
      "cell_type": "markdown",
      "metadata": {
        "id": "krV0OI46s0h4"
      },
      "source": [
        "**Estimating Gauss sums**"
      ]
    },
    {
      "cell_type": "markdown",
      "metadata": {
        "id": "LOWTFItKs3G8"
      },
      "source": [
        "**Fourier fishing and Fourier checking**"
      ]
    },
    {
      "cell_type": "markdown",
      "metadata": {
        "id": "Lci_KRkLr8wU"
      },
      "source": [
        "**<font color=\"blue\">Algorithms based on quantum walks</font>**"
      ]
    },
    {
      "cell_type": "markdown",
      "metadata": {
        "id": "YeJ08om8tGdj"
      },
      "source": [
        "**Element distinctness problem**"
      ]
    },
    {
      "cell_type": "markdown",
      "metadata": {
        "id": "-p2urriDCKSu"
      },
      "source": [
        "https://en.m.wikipedia.org/wiki/Element_distinctness_problem"
      ]
    },
    {
      "cell_type": "markdown",
      "metadata": {
        "id": "6kfa9JqatIXP"
      },
      "source": [
        "**Triangle-finding problem**"
      ]
    },
    {
      "cell_type": "markdown",
      "metadata": {
        "id": "zKafpTcatKQU"
      },
      "source": [
        "**Formula evaluation**"
      ]
    },
    {
      "cell_type": "markdown",
      "metadata": {
        "id": "g5RFSUVwtMV-"
      },
      "source": [
        "**Group commutativity**"
      ]
    },
    {
      "cell_type": "markdown",
      "metadata": {
        "id": "ETGa_Rffr-gW"
      },
      "source": [
        "**<font color=\"blue\">BQP-complete problems</font>**"
      ]
    },
    {
      "cell_type": "markdown",
      "metadata": {
        "id": "Uat-3GG8tP5d"
      },
      "source": [
        "**Computing knot invariants**"
      ]
    },
    {
      "cell_type": "markdown",
      "metadata": {
        "id": "1ezU61NGtR0l"
      },
      "source": [
        "**Quantum simulation**"
      ]
    },
    {
      "cell_type": "markdown",
      "metadata": {
        "id": "dB_X8Cf3tUdK"
      },
      "source": [
        "**Solving a linear systems of equations**"
      ]
    },
    {
      "cell_type": "markdown",
      "metadata": {
        "id": "ee6gc0AksA0Y"
      },
      "source": [
        "**<font color=\"blue\">Hybrid quantum/classical algorithms</font>**"
      ]
    },
    {
      "cell_type": "markdown",
      "metadata": {
        "id": "q9wwa8zVtXbq"
      },
      "source": [
        "**QAOA**"
      ]
    },
    {
      "cell_type": "markdown",
      "metadata": {
        "id": "WTGFqcLD_tJH"
      },
      "source": [
        "**<font color=\"blue\">Quantum annealing & Adiabatic quantum computation</font>**"
      ]
    },
    {
      "cell_type": "markdown",
      "metadata": {
        "id": "qgUPrL6iAiG8"
      },
      "source": [
        "https://en.m.wikipedia.org/wiki/Quantum_annealing"
      ]
    },
    {
      "cell_type": "markdown",
      "metadata": {
        "id": "ASTq-fxoAmxN"
      },
      "source": [
        "https://en.m.wikipedia.org/wiki/Adiabatic_quantum_computation"
      ]
    },
    {
      "cell_type": "markdown",
      "metadata": {
        "id": "O5znXLBd8yzo"
      },
      "source": [
        "#### **Quantum Machine Learning**"
      ]
    },
    {
      "cell_type": "markdown",
      "metadata": {
        "id": "m-TlrXXiLQ14"
      },
      "source": [
        "###### **<font color=\"blue\">Quantum Linear Regression</blue>**"
      ]
    },
    {
      "cell_type": "markdown",
      "metadata": {
        "id": "rT2ukxs3H77t"
      },
      "source": [
        "https://www.quantamagazine.org/new-algorithm-breaks-speed-limit-for-solving-linear-equations-20210308/"
      ]
    },
    {
      "cell_type": "markdown",
      "metadata": {
        "id": "d3Nti0fnyhrH"
      },
      "source": [
        "https://www.quantamagazine.org/teenager-finds-classical-alternative-to-quantum-recommendation-algorithm-20180731/"
      ]
    },
    {
      "cell_type": "markdown",
      "metadata": {
        "id": "9dkYcP8MJFnf"
      },
      "source": [
        "https://www.quantamagazine.org/mathematicians-inch-closer-to-matrix-multiplication-goal-20210323/"
      ]
    },
    {
      "cell_type": "markdown",
      "metadata": {
        "id": "FN4qECZUyjdU"
      },
      "source": [
        "https://www.quantamagazine.org/a-new-approach-to-multiplication-opens-the-door-to-better-quantum-computers-20190424/"
      ]
    },
    {
      "cell_type": "markdown",
      "metadata": {
        "id": "uZs7hCeDLUMX"
      },
      "source": [
        "M. Schuld, I. Sinayskiy, and F. Petruccione, arXiv preprint\n",
        "arXiv:1601.07823 (2016). https://arxiv.org/abs/1601.07823"
      ]
    },
    {
      "cell_type": "markdown",
      "metadata": {
        "id": "kMPSYVgbKTZo"
      },
      "source": [
        "###### **<font color=\"blue\">Quantum Principal Component Analysis</blue>**"
      ]
    },
    {
      "cell_type": "markdown",
      "metadata": {
        "id": "ggSxgQVyKgpA"
      },
      "source": [
        "S. Lloyd, M. Mohseni, and P. Rebentrost, Nature Physics 10,\n",
        "631 (2014)"
      ]
    },
    {
      "cell_type": "markdown",
      "metadata": {
        "id": "YBshnPw9KjFY"
      },
      "source": [
        "https://arxiv.org/pdf/1803.10520.pdf"
      ]
    },
    {
      "cell_type": "markdown",
      "metadata": {
        "id": "7JHrrmK1_iXl"
      },
      "source": [
        "###### **<font color=\"blue\">Quantum Kernel Methods (Support Vector etc)</font>**"
      ]
    },
    {
      "cell_type": "markdown",
      "metadata": {
        "id": "-tOQ0Y1YR97t"
      },
      "source": [
        "See paper [Supervised quantum machine learning models are kernel methods](https://arxiv.org/pdf/2101.11020.pdf)"
      ]
    },
    {
      "cell_type": "markdown",
      "metadata": {
        "id": "wDxhld5nB1bw"
      },
      "source": [
        "In the context of quantum computing, quantum kernel methods make use of traditional kernel methods, but use the quantum computer to evaluate part or all of the kernel on the quantum embedding, which has a different geometry than a classical embedding. It was conjectured that a quantum advantage might arise from the quantum embedding, which might be much better suited to a particular problem than any accessible classical geometry."
      ]
    },
    {
      "cell_type": "markdown",
      "metadata": {
        "id": "UB2uz-6EQW3a"
      },
      "source": [
        "The quantum algorithm for linear systems of equations has been applied to a support vector machine, which is an optimized linear or non-linear binary classifier. A support vector machine can be used for supervised machine learning, in which training set of already classified data is available, or unsupervised machine learning, in which all data given to the system is unclassified. Rebentrost et al. show that a quantum support vector machine can be used for big data classification and achieve an exponential speedup over classical computers."
      ]
    },
    {
      "cell_type": "markdown",
      "metadata": {
        "id": "gYyI8jv1LId1"
      },
      "source": [
        "P. Rebentrost, M. Mohseni, and S. Lloyd, Physical review let-\n",
        "ters 113, 130503 (2014), https://arxiv.org/abs/1307.0471v2"
      ]
    },
    {
      "cell_type": "markdown",
      "metadata": {
        "id": "7Ouz4zlY_sTp"
      },
      "source": [
        "https://en.m.wikipedia.org/wiki/Kernel_method"
      ]
    },
    {
      "cell_type": "markdown",
      "metadata": {
        "id": "0LwU5raVJ43n"
      },
      "source": [
        "###### **<font color=\"blue\">Quantum Gaussian Process Algorithm (QGPA)</font>**"
      ]
    },
    {
      "cell_type": "markdown",
      "metadata": {
        "id": "kSpfvF-1KBsC"
      },
      "source": [
        "https://arxiv.org/pdf/1803.10520.pdf (has also good overview of other QML algorithms)"
      ]
    },
    {
      "cell_type": "markdown",
      "metadata": {
        "id": "gGhPqYCMILt4"
      },
      "source": [
        "###### **Quantum KNN & K-Means Clustering**"
      ]
    },
    {
      "cell_type": "markdown",
      "metadata": {
        "id": "WvsHaRdQK58f"
      },
      "source": [
        "E. Aïmeur, G. Brassard, and S. Gambs, Machine Learning 90,\n",
        "261 (2013).\n",
        "\n",
        "S. Lloyd, M. Mohseni, and P. Rebentrost, arXiv preprint\n",
        "arXiv:1307.0411 (2013). https://arxiv.org/pdf/1307.0411.pdf"
      ]
    },
    {
      "cell_type": "markdown",
      "metadata": {
        "id": "g_QkejyPIQ11"
      },
      "source": [
        "https://arxiv.org/pdf/1906.10175.pdf"
      ]
    },
    {
      "cell_type": "markdown",
      "metadata": {
        "id": "mer-EQtZxh37"
      },
      "source": [
        "###### **Quantum Deep Neural Nets**"
      ]
    },
    {
      "cell_type": "markdown",
      "metadata": {
        "id": "0DqanitL_wRZ"
      },
      "source": [
        "https://ai.googleblog.com/2018/12/exploring-quantum-neural-networks.html"
      ]
    },
    {
      "cell_type": "markdown",
      "metadata": {
        "id": "1syNo6dA_zp4"
      },
      "source": [
        "https://en.m.wikipedia.org/wiki/Quantum_neural_network"
      ]
    },
    {
      "cell_type": "markdown",
      "metadata": {
        "id": "sM4oNOMD0-M2"
      },
      "source": [
        "https://tensorflow.google.cn/quantum/tutorials/hello_many_worlds?hl=en"
      ]
    },
    {
      "cell_type": "markdown",
      "metadata": {
        "id": "7MYxdoOc1Agc"
      },
      "source": [
        "https://towardsdatascience.com/quantum-machine-learning-101-1058f24c3487"
      ]
    },
    {
      "cell_type": "markdown",
      "metadata": {
        "id": "tRwo7hsVoXYC"
      },
      "source": [
        "https://ai.googleblog.com/2021/06/achieving-precision-in-quantum-material.html"
      ]
    },
    {
      "cell_type": "markdown",
      "metadata": {
        "id": "Y5YgPcFJIXu_"
      },
      "source": [
        "###### **Preparation & Data in QML**"
      ]
    },
    {
      "cell_type": "markdown",
      "metadata": {
        "id": "LW5Ih1ESHEf1"
      },
      "source": [
        "**Overview**"
      ]
    },
    {
      "cell_type": "markdown",
      "metadata": {
        "id": "hDC4FGBjByjc"
      },
      "source": [
        "In quantum machine learning methods, such as quantum neural networks or quantum kernel methods, a quantum program is often divided into two parts, a quantum embedding of the data (an embedding map for the feature space using a quantum computer), and the evaluation of a function applied to the data embedding. "
      ]
    },
    {
      "cell_type": "markdown",
      "metadata": {
        "id": "N3u2L5Q9d3pb"
      },
      "source": [
        "https://en.m.wikipedia.org/wiki/Quantum_machine_learning"
      ]
    },
    {
      "cell_type": "markdown",
      "metadata": {
        "id": "NLQTexoz_Qaj"
      },
      "source": [
        "https://ai.googleblog.com/2021/06/quantum-machine-learning-and-power-of.html"
      ]
    },
    {
      "cell_type": "markdown",
      "metadata": {
        "id": "_C85El-7-mOW"
      },
      "source": [
        "https://towardsdatascience.com/5-quantum-machine-learning-resources-not-to-miss-8aeff7655604"
      ]
    },
    {
      "cell_type": "markdown",
      "metadata": {
        "id": "04h1F53_GcN6"
      },
      "source": [
        "**SWAP Test**"
      ]
    },
    {
      "cell_type": "markdown",
      "metadata": {
        "id": "DMapPDcRA5pB"
      },
      "source": [
        "https://en.m.wikipedia.org/wiki/Swap_test"
      ]
    },
    {
      "cell_type": "markdown",
      "metadata": {
        "id": "9Os_eYErGkgh"
      },
      "source": [
        "The SWAP-test routine is a simple quantum algorithm expressing scalar product of two input states a and b. This algorithm has been firstly used in. It is necessary to get a lot of measurements to reach correct value of scalar product between two states.\n",
        "\n",
        "SWAP-test can be used to calculate Euclidian distance between vectors in multidimensional space. It is very useful for\n",
        "various classical algorithms."
      ]
    },
    {
      "cell_type": "markdown",
      "metadata": {
        "id": "H5rDCFqdGtRQ"
      },
      "source": [
        "Aumeur, E., Brassard, G. and Gambs, S., \"Machine learning in a quantum world\", Proc. Conference of the Canadian Society for Computational Studies of Intelligence, 431-442 (2006)."
      ]
    },
    {
      "cell_type": "markdown",
      "metadata": {
        "id": "j1NBqc_lG55X"
      },
      "source": [
        "https://arxiv.org/pdf/1906.10175.pdf"
      ]
    },
    {
      "cell_type": "markdown",
      "metadata": {
        "id": "OaXhb986BBXg"
      },
      "source": [
        "**Hadamard Test**"
      ]
    },
    {
      "cell_type": "markdown",
      "metadata": {
        "id": "eyQStir0BEPN"
      },
      "source": [
        "https://en.m.wikipedia.org/wiki/Hadamard_test_(quantum_computation)"
      ]
    },
    {
      "cell_type": "markdown",
      "metadata": {
        "id": "zRNM77RTBRgQ"
      },
      "source": [
        "**Fidelity of quantum states**"
      ]
    },
    {
      "cell_type": "markdown",
      "metadata": {
        "id": "DMAdkICVBWNi"
      },
      "source": [
        "https://en.m.wikipedia.org/wiki/Fidelity_of_quantum_states"
      ]
    },
    {
      "cell_type": "markdown",
      "metadata": {
        "id": "jqJlpX69CHta"
      },
      "source": [
        "https://en.m.wikipedia.org/wiki/POVM"
      ]
    },
    {
      "cell_type": "markdown",
      "metadata": {
        "id": "lx5vFtKbHLO4"
      },
      "source": [
        "**Classical Data Encoding**"
      ]
    },
    {
      "cell_type": "markdown",
      "metadata": {
        "id": "ihzy627tHlhE"
      },
      "source": [
        "The classical d-dimensional vector a is encoded in quantum state as:\n",
        "\n",
        "> $\n",
        "|a\\rangle=\\frac{1}{|a|} \\sum_{i=1}^{d} a_{i}|i\\rangle\n",
        "$\n",
        "\n",
        "where $\\mid$ i $\\rangle$ - quantum state corresponding to binary representation of $i$. Therefore, $d$ -dimensional vector can be translated into $\\log _{2} d$ qubits. The computational complexity of quantum states preparation to calculate scalar product (2) is $O(\\log d)[15]$."
      ]
    },
    {
      "cell_type": "markdown",
      "metadata": {
        "id": "7djiVov0Hw_j"
      },
      "source": [
        "https://arxiv.org/pdf/1906.10175.pdf"
      ]
    },
    {
      "cell_type": "markdown",
      "metadata": {
        "id": "0B9skea2DONK"
      },
      "source": [
        "**Power of data in quantum machine learning**"
      ]
    },
    {
      "cell_type": "markdown",
      "metadata": {
        "id": "qkN6akBqDEmn"
      },
      "source": [
        "> For many quantum problems, classical learning methods were still the best approach."
      ]
    },
    {
      "cell_type": "markdown",
      "metadata": {
        "id": "61EpCd6SDQ7l"
      },
      "source": [
        "https://www.nature.com/articles/s41467-021-22539-9"
      ]
    },
    {
      "cell_type": "markdown",
      "metadata": {
        "id": "GtkdUaIvUh8i"
      },
      "source": [
        "## **Coding**"
      ]
    },
    {
      "cell_type": "markdown",
      "metadata": {
        "id": "8P8jwG7NdWyH"
      },
      "source": [
        "https://qutip.org/docs/4.1/guide/guide-bloch.html"
      ]
    },
    {
      "cell_type": "markdown",
      "metadata": {
        "id": "oqrCJXTMdw0V"
      },
      "source": [
        "https://mstale20.medium.com/basics-of-quantum-computing-with-cirq-5f77ec83e739"
      ]
    },
    {
      "cell_type": "markdown",
      "metadata": {
        "id": "U-AMGri9VajC"
      },
      "source": [
        "#### **Quantum Logic Gates & Circuits**"
      ]
    },
    {
      "cell_type": "code",
      "metadata": {
        "id": "hQ-nyXwkRYQM",
        "colab": {
          "base_uri": "https://localhost:8080/"
        },
        "outputId": "1701903d-6594-4f90-b9de-8f3678733e12"
      },
      "source": [
        "\"\"\"Examples of common gates defined in Cirq.\"\"\"\n",
        "# Get some qubits.\n",
        "q0, q1, q2 = cirq.LineQubit.range(3)\n",
        "\n",
        "# Get a bunch of common gates defined in Cirq.\n",
        "ops = [\n",
        "    cirq.X(q0),                     # Pauli-X.\n",
        "    cirq.Y(q1),                     # Pauli-Y.\n",
        "    cirq.Z(q2),                     # Pauli-Z.\n",
        "    cirq.CZ(q0,q1),                 # Controlled-Z gate.\n",
        "    cirq.CNOT(q1,q2),               # Controlled-X gate.\n",
        "    cirq.H(q0),                     # Hadamard gate.\n",
        "    cirq.T(q1),                     # T gate.\n",
        "    cirq.S(q2),                     # S gate.\n",
        "    cirq.CCZ(q0, q1, q2),           # Controlled CZ gate.\n",
        "    cirq.SWAP(q0, q1),              # Swap gate.\n",
        "    cirq.CSWAP(q0, q1, q2),         # Controlled swap gate.\n",
        "    cirq.CCX(q0, q1, q2),           # Toffoli (CCNOT) gate.\n",
        "    cirq.ISWAP(q0, q1),             # ISWAP gate.\n",
        "    cirq.Rx(rads=0.5 * np.pi)(q0),  # Rotation about X.\n",
        "    cirq.Ry(rads=0.5 * np.pi)(q1),  # Rotation about Y.\n",
        "    cirq.Rz(rads=0.5 * np.pi)(q2),  # Rotation about Z.\n",
        "    cirq.X(q0) ** 0.5,              # Sqrt of NOT gate.\n",
        "]\n",
        "\n",
        "# Display a circuit with all of these operations.\n",
        "print(cirq.Circuit(ops))"
      ],
      "execution_count": null,
      "outputs": [
        {
          "output_type": "stream",
          "text": [
            "0: ───X───@───H───────@───×───@───@───iSwap──────Rx(0.5π)───X^0.5───\n",
            "          │           │   │   │   │   │\n",
            "1: ───Y───@───@───T───@───×───×───@───iSwap──────Ry(0.5π)───────────\n",
            "              │       │       │   │\n",
            "2: ───Z───────X───S───@───────×───X───Rz(0.5π)──────────────────────\n"
          ],
          "name": "stdout"
        }
      ]
    },
    {
      "cell_type": "markdown",
      "metadata": {
        "id": "hTEF29ewAmQ5"
      },
      "source": [
        "![ggg](https://upload.wikimedia.org/wikipedia/commons/thumb/e/e0/Quantum_Logic_Gates.png/500px-Quantum_Logic_Gates.png)"
      ]
    },
    {
      "cell_type": "markdown",
      "metadata": {
        "id": "ySppyEsIhA8e"
      },
      "source": [
        "![geometry](https://raw.githubusercontent.com/deltorobarba/repo/master/quantum_018.png)"
      ]
    },
    {
      "cell_type": "markdown",
      "metadata": {
        "id": "mb1F6yXm6mZm"
      },
      "source": [
        "Liste mehrerer Quantengatter: https://de.m.wikipedia.org/wiki/Liste_der_Quantengatter\n",
        "\n",
        "(Mit Quantengattern, die sich auf eins, zwei und drei Quantenbits beziehen)\n",
        "\n",
        "https://en.m.wikipedia.org/wiki/Quantum_logic_gate#Hadamard_gate"
      ]
    },
    {
      "cell_type": "markdown",
      "metadata": {
        "id": "Z0KuR263hwac"
      },
      "source": [
        "> Just as you can perform any classical computation with a combination of NOT + OR = NOR gates or AND + NOT= NAND gates, you can reduce the list of quantum gates to a simple set of universal quantum gates."
      ]
    },
    {
      "cell_type": "markdown",
      "metadata": {
        "id": "D984tRjWz-Hg"
      },
      "source": [
        "https://medium.com/quantum-untangled/visualizing-quantum-logic-gates-part-1-515bb7b58916"
      ]
    },
    {
      "cell_type": "markdown",
      "metadata": {
        "id": "lYygC2__0B48"
      },
      "source": [
        "https://medium.com/analytics-vidhya/quantum-gates-7fe83817b684"
      ]
    },
    {
      "cell_type": "markdown",
      "metadata": {
        "id": "pfVBVsO6Q1FC"
      },
      "source": [
        "Unitary Operators / Quantum gate acting on Quantum state $U * \\left|\\psi_{1}\\right\\rangle=\\left|\\psi_{2}\\right\\rangle$"
      ]
    },
    {
      "cell_type": "markdown",
      "metadata": {
        "id": "VIUSwLSw3cF-"
      },
      "source": [
        "* a [quantum logic gate](https://en.m.wikipedia.org/wiki/Quantum_logic_gate) (or simply quantum gate) is a basic quantum circuit operating on a small number of qubits. \n",
        "\n",
        "* They are the building blocks of quantum circuits, like classical logic gates are for conventional digital circuits.\n",
        "\n",
        "* Unlike many classical logic gates, quantum logic gates are reversible. \n",
        "\n",
        "* Quantum gates are [unitary operators](https://en.m.wikipedia.org/wiki/Unitary_operator), and are described as unitary matrices relative to some basis. \n",
        "  \n",
        "  * Usually we use the computational basis, which unless we compare it with something, just means that for a d-level quantum system (such as a qubit, a quantum register, or qutrits and qudits ) we have labeled the orthogonal basis vectors $|0\\rangle,|1\\rangle, \\ldots,|d-1\\rangle$, or use binary notation."
      ]
    },
    {
      "cell_type": "markdown",
      "metadata": {
        "id": "OxDKk_jg5dwI"
      },
      "source": [
        "**Exkurs: Unitary Operator**\n",
        "\n",
        "  * In linear algebra, a complex square matrix $U$ is **unitary** if its **conjugate transpose** $U^{*}$ is also its inverse, that is, if $U^{*} U=U U^{*}=I$ where $I$ is the identity matrix.\n",
        "\n",
        "  * The real analogue of a unitary matrix is an orthogonal matrix. Unitary matrices have significant importance in quantum mechanics because they preserve norms, and thus, probability amplitudes.\n",
        "\n",
        "**Exkurs: Hermitian adjoint**\n",
        "\n",
        "  * In physics, especially in quantum mechanics, the [Hermitian adjoint](https://en.m.wikipedia.org/wiki/Hermitian_adjoint) of a matrix is denoted by a dagger $\\left(^\\dagger\\right)$ and the equation above (unitary operator) becomes $U^{\\dagger} U=U U^{\\dagger}=I$.\n",
        "\n",
        "  * In functional analysis, each bounded linear operator on a complex Hilbert space has a corresponding **Hermitian adjoint** (or adjoint operator). **Adjoints of operators generalize conjugate transposes of square matrices to (possibly) infinite-dimensional situations**. If one thinks of operators on a complex Hilbert space as generalized complex numbers, then the adjoint of an operator plays the role of the complex conjugate of a complex number.\n",
        "\n",
        "  * In a similar sense, one can define an adjoint operator for linear (and possibly unbounded)\n",
        "operators between Banach spaces. \n",
        "\n",
        "  * The adjoint of an operator $A$ may also be called the Hermitian conjugate, Hermitian or Hermitian transpose $^{[1]}$ (after Charles Hermite) of $A$ and is denoted by $A^{*}$ or $A^{\\dagger}$ (the latter especially when used in conjunction with the bra-ket notation). Confusingly, $A^{*}$ may also\n",
        "be used to represent the conjugate of $A$."
      ]
    },
    {
      "cell_type": "markdown",
      "metadata": {
        "id": "VyhGXYwa9fMh"
      },
      "source": [
        "**Representation of Quantum logic gates**"
      ]
    },
    {
      "cell_type": "markdown",
      "metadata": {
        "id": "3Nu3VFeu9r85"
      },
      "source": [
        "* Quantum logic gates are represented by unitary matrices. \n",
        "\n",
        "* A gate which acts on $n$ qubits is represented by a $2^{n} \\times 2^{n}$ unitary matrix, and the set of all such gates with the group operation of matrix multiplication is the [symmetry group $U\\left(2^{n}\\right)$](https://en.m.wikipedia.org/wiki/Unitary_group) (called 'unitary group', a subgroup of the general linear group GL(n, C). For the group of unitary matrices with determinant 1, see Special unitary group.). \n",
        "\n",
        "* The quantum states that the gates act upon are unit vectors in $2^{n}$ complex dimensions, where the norm is the modulus squared. \n",
        "\n",
        "* The basis vectors are the possible outcomes if measured, and a quantum state is a linear combination of these outcomes. \n",
        "\n",
        "* The most common quantum gates operate on spaces of one or two qubits, just like the common classical logic gates operate on one or two bits.\n",
        "\n",
        "* Quantum states are typically represented by \"kets\", from a mathematical notation known as bra-ket.\n",
        "The vector representation of a single qubit is:\n",
        "\n",
        ">$\n",
        "|a\\rangle=v_{0}|0\\rangle+v_{1}|1\\rangle \\rightarrow\\left[\\begin{array}{l}\n",
        "v_{0} \\\\\n",
        "v_{1}\n",
        "\\end{array}\\right]\n",
        "$\n",
        "\n",
        "* Here, $v_{0}$ and $v_{1}$ are the complex probability amplitudes of the qubit. These values determine the probability of measuring a 0 or a 1, when measuring the state of the qubit. See measurement below for details.\n",
        "\n",
        "* The value zero is represented by the ket $|0\\rangle=\\left[\\begin{array}{l}1 \\\\ 0\\end{array}\\right]$, and the value one is represented by the ket $|1\\rangle=\\left[\\begin{array}{l}0 \\\\ 1\\end{array}\\right]$.\n",
        "\n",
        "* The tensor product (or Kronecker product) is used to combine quantum states. The combined state of two qubits is the tensor product of the two qubits. The tensor product is denoted by the symbol $\\otimes$.\n",
        "\n",
        "* The vector representation of two qubits is:\n",
        "\n",
        ">$\n",
        "|a b\\rangle=|a\\rangle \\otimes|b\\rangle=v_{00}|00\\rangle+v_{01}|01\\rangle+v_{10}|10\\rangle+v_{11}|11\\rangle \\rightarrow\\left[\\begin{array}{l}\n",
        "v_{00} \\\\\n",
        "v_{01} \\\\\n",
        "v_{10} \\\\\n",
        "v_{11}\n",
        "\\end{array}\\right]\n",
        "$\n",
        "\n",
        "**The action of the gate on a specific quantum state is found by multiplying the vector $\\left|\\psi_{1}\\right\\rangle$ which represents the state, by the matrix $U$ representing the gate. The result is a new quantum state $\\left|\\psi_{2}\\right\\rangle$:**\n",
        "\n",
        ">$\n",
        "U\\left|\\psi_{1}\\right\\rangle=\\left|\\psi_{2}\\right\\rangle\n",
        "$"
      ]
    },
    {
      "cell_type": "markdown",
      "metadata": {
        "id": "79k05wK-_KrH"
      },
      "source": [
        "*Single qubit states that are pure (i.e. lacks phase shifts along the basis axes, and is not entangled) can be represented using the Bloch sphere, writing it as $|\\psi\\rangle=\\cos (\\theta / 2)|0\\rangle+e^{i \\varphi} \\sin (\\theta / 2)|1\\rangle$\n",
        "Rotation about the $\\mathrm{x}, \\mathrm{y}, \\mathrm{z}$ -axes of the Bloch sphere is represented by the rotation operator gates.*\n",
        "\n",
        "![jj](https://upload.wikimedia.org/wikipedia/commons/thumb/6/6b/Bloch_sphere.svg/500px-Bloch_sphere.svg.png)"
      ]
    },
    {
      "cell_type": "markdown",
      "metadata": {
        "id": "0K6bI2CeVeRv"
      },
      "source": [
        "![geometry](https://raw.githubusercontent.com/deltorobarba/repo/master/quantum_014.png)"
      ]
    },
    {
      "cell_type": "markdown",
      "metadata": {
        "id": "gqD-hcmjVc3R"
      },
      "source": [
        "https://www.youtube.com/watch?v=92uqxeofPak&list=PLBn8lN0Dcvpla6a6omBni1rjyQJ4CssTP&index=54"
      ]
    },
    {
      "cell_type": "markdown",
      "metadata": {
        "id": "2FJygEr9-C7x"
      },
      "source": [
        "https://www.youtube.com/watch?v=-oTGgp3s0VI"
      ]
    },
    {
      "cell_type": "markdown",
      "metadata": {
        "id": "RhIBd_DfpTCU"
      },
      "source": [
        "**<font color=\"blue\">Universal Quantum Gates</font>**"
      ]
    },
    {
      "cell_type": "markdown",
      "metadata": {
        "id": "JM72ME0WpYJu"
      },
      "source": [
        "* A set of universal quantum gates is any set of gates to which any operation possible on a quantum computer can be reduced, that is, any other unitary operation can be expressed as a finite sequence of gates from the set. \n",
        "\n",
        "* Technically, this is impossible with anything less than an uncountable set of gates since the number of possible quantum gates is uncountable, whereas the number of finite sequences from a finite set is countable. \n",
        "\n",
        "* To solve this problem, we only require that any quantum operation can be approximated by a sequence of gates from this finite set. Moreover, for unitaries on a constant number of qubits, the Solovay–Kitaev theorem guarantees that this can be done efficiently.\n",
        "\n"
      ]
    },
    {
      "cell_type": "markdown",
      "metadata": {
        "id": "NyffmrzCpvnC"
      },
      "source": [
        "*Both CNOT and $\\sqrt{\\text { SWAP }}$ are universal two-qubit gates and can be transformed into each other.*\n",
        "\n",
        "![ggg](https://upload.wikimedia.org/wikipedia/commons/thumb/2/2e/Qcircuit_CNOTsqrtSWAP2.svg/840px-Qcircuit_CNOTsqrtSWAP2.svg.png)"
      ]
    },
    {
      "cell_type": "markdown",
      "metadata": {
        "id": "TVrpFvX0q2yt"
      },
      "source": [
        "> The rotation operators $R_{x}(\\theta), R_{y}(\\theta), R_{z}(\\theta)$, the phase shift gate $P(\\phi)$ and CNOT form a widely used universal set of quantum gates. \n",
        "\n",
        "A common universal gate set is the Clifford $+T$ gate set, which is composed of the $\\mathrm{CNOT}, \\mathrm{H}_{1} \\mathrm{~S}$ and $T$ gates. The Clifford set alone is not universal and can be efficiently simulated classically by the Gottesman-Knill theorem.\n",
        "\n",
        "The Toffoli gate forms a set of universal gates for reversible logic circuits. A two-gate set of universal quantum gates containing a Toffoli gate can be constructed by adding the Hadamard gate to the set. \n",
        "\n",
        "A single-gate set of universal quantum gates can also be formulated using the three-qubit Deutsch gate $D(\\theta).$"
      ]
    },
    {
      "cell_type": "markdown",
      "metadata": {
        "id": "Ita1coM4s6Tw"
      },
      "source": [
        "<font color=\"blue\">**Quantum Circuits & Register**</font>"
      ]
    },
    {
      "cell_type": "markdown",
      "metadata": {
        "id": "nWQ7m81cAKdi"
      },
      "source": [
        "* In quantum information theory, a [quantum circuit](https://en.m.wikipedia.org/wiki/Quantum_circuit) is a model for quantum computation in which a computation is a sequence of quantum gates, which are reversible transformations on a quantum mechanical analog of an n-bit register. \n",
        "\n",
        "* This analogous structure is referred to as an n-qubit register. The graphical depiction of quantum circuit elements is described using a variant of the Penrose graphical notation.\n",
        "\n"
      ]
    },
    {
      "cell_type": "markdown",
      "metadata": {
        "id": "-q8loXaXbXly"
      },
      "source": [
        "https://en.m.wikipedia.org/wiki/Integrated_circuit"
      ]
    },
    {
      "cell_type": "markdown",
      "metadata": {
        "id": "hNeEzKCKtGZg"
      },
      "source": [
        "**<font color=\"blue\">Serially wired gates</font>**"
      ]
    },
    {
      "cell_type": "markdown",
      "metadata": {
        "id": "EEJEIpeGtbj6"
      },
      "source": [
        "*Two gates Y and X in series. The order in which they appear on the wire is reversed when multiplying them together.*\n",
        "\n",
        "![ggg](https://upload.wikimedia.org/wikipedia/commons/thumb/0/0a/Serially_wired_quantum_logic_gates.png/500px-Serially_wired_quantum_logic_gates.png)"
      ]
    },
    {
      "cell_type": "markdown",
      "metadata": {
        "id": "yXBEgw8StjbJ"
      },
      "source": [
        "Assume that we have two gates A and B, that both act on \n",
        "n qubits. When B is put after A in a series circuit, then the effect of the two gates can be described as a single gate C.\n",
        "\n",
        "> $C=B\\cdot A$\n",
        "\n",
        "Where $\\cdot$ is matrix multiplication. The resulting gate C will have the same dimensions as A and B. The order in which the gates would appear in a circuit diagram is reversed when multiplying them together."
      ]
    },
    {
      "cell_type": "markdown",
      "metadata": {
        "id": "N9Ryrjrct8Uy"
      },
      "source": [
        "For example, putting the Pauli X gate after the Pauli Y gate, both of which act on a single qubit, can be described as a single combined gate C:\n",
        "\n",
        ">$\n",
        "C=X \\cdot Y=\\left[\\begin{array}{ll}\n",
        "0 & 1 \\\\\n",
        "1 & 0\n",
        "\\end{array}\\right] \\cdot\\left[\\begin{array}{cc}\n",
        "0 & -i \\\\\n",
        "i & 0\n",
        "\\end{array}\\right]=\\left[\\begin{array}{cc}\n",
        "i & 0 \\\\\n",
        "0 & -i\n",
        "\\end{array}\\right]\n",
        "$\n",
        "\n",
        "The product symbol $(\\cdot)$ is often omitted."
      ]
    },
    {
      "cell_type": "markdown",
      "metadata": {
        "id": "S71M-HzSuNX_"
      },
      "source": [
        "Exponents of quantum gates ...."
      ]
    },
    {
      "cell_type": "markdown",
      "metadata": {
        "id": "67sMCPhAtGtr"
      },
      "source": [
        "**<font color=\"blue\">Parallel gates</font>**"
      ]
    },
    {
      "cell_type": "markdown",
      "metadata": {
        "id": "b_44NH72uf_p"
      },
      "source": [
        "The tensor product (or Kronecker product) of two quantum gates is the gate that is equal to the two gates in parallel."
      ]
    },
    {
      "cell_type": "markdown",
      "metadata": {
        "id": "hkd7lXo_ujLN"
      },
      "source": [
        "*Two gates $Y$ and $X$ in parallel is equivalent to the gate $Y\\otimes X$*\n",
        "\n",
        "![ggg](https://upload.wikimedia.org/wikipedia/commons/d/d5/Parallel_quantum_logic_gates.png)"
      ]
    },
    {
      "cell_type": "markdown",
      "metadata": {
        "id": "Xg7C-Rrfu0ta"
      },
      "source": [
        "If we, as in the picture, combine the Pauli-Y gate with the Pauli-X gate in parallel, then this can be written as:\n",
        "\n",
        "> $C=Y \\otimes X=\\left[\\begin{array}{cc}0 & -i \\\\ i & 0\\end{array}\\right] \\otimes\\left[\\begin{array}{ll}0 & 1 \\\\ 1 & 0\\end{array}\\right]=\\left[\\begin{array}{ll}0\\left[\\begin{array}{ll}0 & 1 \\\\ 1 & 0\\end{array}\\right] & -i\\left[\\begin{array}{ll}0 & 1 \\\\ 1 & 0\\end{array}\\right] \\\\ i\\left[\\begin{array}{ll}0 & 1 \\\\ 1 & 0\\end{array}\\right] & 0\\left[\\begin{array}{ll}0 & 1 \\\\ 1 & 0\\end{array}\\right]\\end{array}\\right]=\\left[\\begin{array}{cccc}0 & 0 & 0 & -i \\\\ 0 & 0 & -i & 0 \\\\ 0 & i & 0 & 0 \\\\ i & 0 & 0 & 0\\end{array}\\right]$\n",
        "\n",
        "Both the Pauli-X and the Pauli-Y gate act on a single qubit. The resulting gate $C$ act on two qubits."
      ]
    },
    {
      "cell_type": "markdown",
      "metadata": {
        "id": "a4-PsBATvU_3"
      },
      "source": [
        "**Hadamard transform**"
      ]
    },
    {
      "cell_type": "markdown",
      "metadata": {
        "id": "k8iFqnzlvX1z"
      },
      "source": [
        "**Application on entangled states**"
      ]
    },
    {
      "cell_type": "markdown",
      "metadata": {
        "id": "s26zYeH5wa2t"
      },
      "source": [
        "If two or more qubits are viewed as a single quantum state, this combined state is equal to the tensor product of the constituent qubits. Any state that can be written as a tensor product from the constituent subsystems are called separable states (pure states). On the other hand, an entangled state is any state that cannot be tensor-factorized, or in other words: An entangled state can not be written as a tensor product of its constituent qubits states. Special care must be taken when applying gates to constituent qubits that make up entangled states.\n",
        "\n"
      ]
    },
    {
      "cell_type": "markdown",
      "metadata": {
        "id": "pUVW-tXZvaPA"
      },
      "source": [
        "**Computational complexity and the tensor product**"
      ]
    },
    {
      "cell_type": "markdown",
      "metadata": {
        "id": "dTaOoFPctEGL"
      },
      "source": [
        "**<font color=\"blue\">Unitary inversion of gates</font>**"
      ]
    },
    {
      "cell_type": "markdown",
      "metadata": {
        "id": "ve9FzgxvxAFH"
      },
      "source": [
        "Because all quantum logical gates are reversible, any composition of multiple gates is also reversible. All products and tensor products (i.e. series and parallel combinations) of unitary matrices are also unitary matrices. \n",
        "\n",
        "**This means that it is possible to construct an inverse of all algorithms and functions, as long as they contain only gates**.\n",
        "\n",
        "Initialization, measurement, I/O and spontaneous decoherence are side effects in quantum computers. Gates however are purely functional and bijective.\n",
        "\n",
        "\n",
        "\n"
      ]
    },
    {
      "cell_type": "markdown",
      "metadata": {
        "id": "NLseA_BexSEO"
      },
      "source": [
        "*Example: The unitary inverse of the Hadamard-CNOT product. The three gates H, I and CNOT are their own unitary inverses*\n",
        "\n",
        "![gg](https://upload.wikimedia.org/wikipedia/commons/thumb/4/44/The_unitary_inverse_of_hadamard-cnot.png/220px-The_unitary_inverse_of_hadamard-cnot.png)"
      ]
    },
    {
      "cell_type": "markdown",
      "metadata": {
        "id": "L0uGhEuSxvmc"
      },
      "source": [
        "If $U$ is a unitary matrix, then $U^{\\dagger} U=U U^{\\dagger}=I$ and $U^{\\dagger}=U^{-1}$. The dagger (t) denotes the complex conjugate of the transpose. It is also called the Hermitian adjoint.\n",
        "\n",
        "If a function $F$ is a product of $m$ gates, $F=A_{1} \\cdot A_{2} \\cdots \\cdots A_{m}$, the unitary inverse of the function $F^{\\dagger}$ can be constructed:\n",
        "\n",
        "Because $(U V)^{\\dagger}=V^{\\dagger} U^{\\dagger}$ we have, after repeated application on itself\n",
        "\n",
        ">$\n",
        "F^{\\dagger}=\\left(\\prod_{0<i \\leq m} A_{i}\\right)^{\\dagger}=\\prod_{0 \\leq i<m} A_{m-i}^{\\dagger}=A_{m}^{\\dagger} \\cdots \\cdots A_{2}^{\\dagger} \\cdot A_{1}^{\\dagger}\n",
        "$\n",
        "\n",
        "Similarly if the function $G$ consists of two gates $A$ and $B$ in parallel, then $G=A \\otimes B$ and $G^{\\dagger}=(A \\otimes B)^{\\dagger}=A^{\\dagger} \\otimes B^{\\dagger} .$"
      ]
    },
    {
      "cell_type": "markdown",
      "metadata": {
        "id": "cdjFQaSnyqQT"
      },
      "source": [
        "Gates that are their own unitary inverses are called Hermitian or self-adjoint operators. Some elementary gates such as the Hadamard $(H)$ and the Pauli gates $(I, X, Y, Z)$ are Hermitian operators, while others like the phase shift $(S$, $T_{1} P$, CPHASE) gates generally are not. Gates that are not Hermitian are sometimes called skew-Hermitian, or adjoint operators.\n",
        "\n",
        "For example, an algorithm for addition can be used for subtraction, if it is being \"run in reverse\", as its unitary inverse. The inverse quantum fourier transform is the unitary inverse. Unitary inverses can also be used for uncomputation. Programming languages for quantum computers, such as Microsoft's Q# and Bernhard Ömer's QCL, contain function inversion\n",
        "as programming concepts."
      ]
    },
    {
      "cell_type": "markdown",
      "metadata": {
        "id": "cTQ0-FMWKGTX"
      },
      "source": [
        "**Quantum Register**"
      ]
    },
    {
      "cell_type": "markdown",
      "metadata": {
        "id": "xivx1C5jKIDH"
      },
      "source": [
        "https://en.m.wikipedia.org/wiki/Quantum_register"
      ]
    },
    {
      "cell_type": "markdown",
      "metadata": {
        "id": "xLeCHqD5aGZw"
      },
      "source": [
        "#### **Operations**"
      ]
    },
    {
      "cell_type": "markdown",
      "metadata": {
        "id": "m2L50Nl9juGy"
      },
      "source": [
        "https://github.com/The-Entangled-Qubits/Cirq_Basics/blob/master/Cirq%20Basics.ipynb"
      ]
    },
    {
      "cell_type": "markdown",
      "metadata": {
        "id": "veRRkgITpwIj"
      },
      "source": [
        "**Create Vanilla Qubits**"
      ]
    },
    {
      "cell_type": "code",
      "metadata": {
        "id": "hn7FM2MpfGV8"
      },
      "source": [
        "#Named Qubit\n",
        "a = cirq.NamedQubit(\"a\")\n",
        "b = cirq.NamedQubit(\"b\")\n",
        "\n",
        "#Line-Qubit\n",
        "qubits = cirq.LineQubit.range(2)"
      ],
      "execution_count": 60,
      "outputs": []
    },
    {
      "cell_type": "markdown",
      "metadata": {
        "id": "eqPokDHhn3Ka"
      },
      "source": [
        "**Task 1: Not doing anything. All results should equal 0**"
      ]
    },
    {
      "cell_type": "code",
      "metadata": {
        "colab": {
          "base_uri": "https://localhost:8080/"
        },
        "id": "8S7Pnorsnpj0",
        "outputId": "d0b54100-04f7-4786-a430-2bfec75f4fd4"
      },
      "source": [
        "ops=[cirq.measure(a,b)]\n",
        "\n",
        "circuit=cirq.Circuit(ops)\n",
        "\n",
        "print(circuit)"
      ],
      "execution_count": 61,
      "outputs": [
        {
          "output_type": "stream",
          "text": [
            "a: ───M───\n",
            "      │\n",
            "b: ───M───\n"
          ],
          "name": "stdout"
        }
      ]
    },
    {
      "cell_type": "code",
      "metadata": {
        "colab": {
          "base_uri": "https://localhost:8080/"
        },
        "id": "UZs4E8AWoDwg",
        "outputId": "d46121b3-aad9-4673-9560-328cd8abc989"
      },
      "source": [
        "simulator = cirq.Simulator()\n",
        "result = simulator.run(circuit,repetitions=100)\n",
        "print('Measurement results')\n",
        "print(result)"
      ],
      "execution_count": 62,
      "outputs": [
        {
          "output_type": "stream",
          "text": [
            "Measurement results\n",
            "a,b=0000000000000000000000000000000000000000000000000000000000000000000000000000000000000000000000000000, 0000000000000000000000000000000000000000000000000000000000000000000000000000000000000000000000000000\n"
          ],
          "name": "stdout"
        }
      ]
    },
    {
      "cell_type": "code",
      "metadata": {
        "colab": {
          "base_uri": "https://localhost:8080/",
          "height": 295
        },
        "id": "UtqxW5X-oZmm",
        "outputId": "bfb85ba3-019b-4c68-9d84-6f91dc8ec515"
      },
      "source": [
        "_ = cirq.vis.plot_state_histogram(result, plt.subplot())"
      ],
      "execution_count": 63,
      "outputs": [
        {
          "output_type": "display_data",
          "data": {
            "image/png": "[encoded data removed]",
            "text/plain": [
              "<Figure size 432x288 with 1 Axes>"
            ]
          },
          "metadata": {
            "needs_background": "light"
          }
        }
      ]
    },
    {
      "cell_type": "code",
      "metadata": {
        "colab": {
          "base_uri": "https://localhost:8080/"
        },
        "id": "OHd0uLuooNBB",
        "outputId": "6de15ed5-4175-47f6-efcc-fefca0042963"
      },
      "source": [
        "result.histogram(key=\"a,b\")"
      ],
      "execution_count": 64,
      "outputs": [
        {
          "output_type": "execute_result",
          "data": {
            "text/plain": [
              "Counter({0: 100})"
            ]
          },
          "metadata": {},
          "execution_count": 64
        }
      ]
    },
    {
      "cell_type": "markdown",
      "metadata": {
        "id": "sn4LwsmviwZx"
      },
      "source": [
        "**Task 2: Create Bell state**"
      ]
    },
    {
      "cell_type": "code",
      "metadata": {
        "colab": {
          "base_uri": "https://localhost:8080/"
        },
        "id": "zBdsoUTDg28-",
        "outputId": "842321c3-49be-4172-a874-ffe231c03108"
      },
      "source": [
        "# Define operations\n",
        "ops=[cirq.H(a), # Superposition\n",
        "     cirq.CNOT(a,b), # Entanglement\n",
        "     cirq.measure(a,b)] # Measurement\n",
        "\n",
        "# Build circuit\n",
        "circuit=cirq.Circuit(ops)\n",
        "\n",
        "print(circuit)"
      ],
      "execution_count": 65,
      "outputs": [
        {
          "output_type": "stream",
          "text": [
            "a: ───H───@───M───\n",
            "          │   │\n",
            "b: ───────X───M───\n"
          ],
          "name": "stdout"
        }
      ]
    },
    {
      "cell_type": "markdown",
      "metadata": {
        "id": "nxq5eTXkmys2"
      },
      "source": [
        "*More about creating Bell state from superposition & entanglement: [Demystifying Superdense Coding](https://medium.com/qiskit/demystifying-superdense-coding-41d46401910e)*"
      ]
    },
    {
      "cell_type": "markdown",
      "metadata": {
        "id": "ZaEJwXg_j-Uz"
      },
      "source": [
        "*Entanglement*"
      ]
    },
    {
      "cell_type": "code",
      "metadata": {
        "colab": {
          "base_uri": "https://localhost:8080/"
        },
        "id": "7uuAkp8gkA0S",
        "outputId": "f3fd1aeb-ebf5-4974-e2e8-e62fe678975b"
      },
      "source": [
        "cirq.unitary(cirq.CNOT)"
      ],
      "execution_count": 66,
      "outputs": [
        {
          "output_type": "execute_result",
          "data": {
            "text/plain": [
              "array([[1.+0.j, 0.+0.j, 0.+0.j, 0.+0.j],\n",
              "       [0.+0.j, 1.+0.j, 0.+0.j, 0.+0.j],\n",
              "       [0.+0.j, 0.+0.j, 0.+0.j, 1.+0.j],\n",
              "       [0.+0.j, 0.+0.j, 1.+0.j, 0.+0.j]])"
            ]
          },
          "metadata": {},
          "execution_count": 66
        }
      ]
    },
    {
      "cell_type": "markdown",
      "metadata": {
        "id": "Afj3AWNakD4v"
      },
      "source": [
        "*Superposition*"
      ]
    },
    {
      "cell_type": "code",
      "metadata": {
        "colab": {
          "base_uri": "https://localhost:8080/"
        },
        "id": "go657YuMkFfW",
        "outputId": "2d116f9e-1551-4f74-c998-1a55d2963098"
      },
      "source": [
        "cirq.unitary(cirq.H)"
      ],
      "execution_count": null,
      "outputs": [
        {
          "output_type": "execute_result",
          "data": {
            "text/plain": [
              "array([[ 0.70710678+0.j,  0.70710678+0.j],\n",
              "       [ 0.70710678+0.j, -0.70710678+0.j]])"
            ]
          },
          "metadata": {},
          "execution_count": 37
        }
      ]
    },
    {
      "cell_type": "code",
      "metadata": {
        "colab": {
          "base_uri": "https://localhost:8080/"
        },
        "id": "dF6YnhaagPp2",
        "outputId": "51c822dc-5bbb-4926-e6af-0d627be8f25f"
      },
      "source": [
        "# Run Simulations & Measurements\n",
        "simulator = cirq.Simulator()\n",
        "result = simulator.run(circuit,repetitions=10000)\n",
        "print('Measurement results')\n",
        "print(result)"
      ],
      "execution_count": 71,
      "outputs": [
        {
          "output_type": "stream",
          "text": [
            "Measurement results\n",
            "a,b=0101100011000101110110101110000101100111010100101001100001101010011110111111111001111110111110010100111011001110011010001010001101101010110011011000101001001011011011010011111110110000100101100010100110101101101111000110101100101001000000011100110101010000001101001110011000000110011000001010101100100101101111111101011001000010110101010000000010111001010011101110011101110010110001100101110101001100011000000000000010010010001110100110010110010111011111001110101101101011111000100100101000011110110010010101001011001110100101000010011001101110011000110001010000001111010111010010000110111111001100010001101010011110000101000101101001000111011100110010110110111000001110111101000101100000100111101000101100110011010011101000100011111001011001010001000110110101001011001100011111100011010101001011010111101001000101000000010010111010011000010011101100000110100001111111110100101111110001100100101001111110001100000111101010000101000110101100000100100101101010100100100000011011111101111001110110011110100100110100101000101100010111011011101101000100100101010111011111011000001010110001011011111101100001011001010011000010011111111101000011111011000111001110110011110101010101000101111000000011010011010010100101000111100001101000110011000001101011100011111110110101010010110001110110010111010010010100010001100110000010001010001010001110101011101001001011011100001100000010010001001010011110000010001101110100110001101101101101011011100101010110001101101011111001100010100101111011001010010000110001011100111011010011001011010001111010110100011110111101011111000111010111000100011010101110111101011100101111110001001100000000100011110000100011011111110111001101001100110000011111110000110000001110011000010011010100001010011001010100011000010010111010111111001011100000111100101110000110011001011100011101001100000110101011011111011010011000010101010000001011110101111000111000011011011010001111111110001100101100000000000110001001011011000001111011001101011010111010011000110001100011010110101110111100101010000100011000000001010100011111011101101010000011010011001000011110000010011000000110101100001111110101111010101111100111000011001010100100000100011000101001000001000010001110001110000101011001110011110111101010111010110110001101110100110110000011001011011110000110001110100010011000011011010000111000101000000010001000000100010000011111110100001100001010110101011011000100010001000110101101010110110111000111101101010101111111000101111001101001000100000011000011101001001001110100101111111011011100110111010100000100010111111010010100100101011010001100001011111011110111010111001001001000111011010100010111101010010101111110010111101001100110010011001110100010100110101100010111010110101001001010111110001010010100010100110111111101110110101011001111111111010000001010101101101000011001110001101000010110101111111101111000011101110011011010001111110101011000111100111100111010100000001100010111010001101101101100001101011000001100101100101100111010101101001111101010100100001001101110101111000010100110011110001110000000101101001010000010010011101110011111001111101100110010110001100101100011101101001100010010010010001010110111011000100010010101011001101110011110111001111111011111010000001101011110001101111101000011001011001011100001100000110010000000010010001101011000001101111110001101101100110100110001111100001010100111111000011111111000010101000001001001000101000001011110011111110011011011010011100100101100001111111110100111000100100110111110010100101011011010101110001100001111110100010000011001100000110010110010011100010010000101110100101010011011001001111001101101100100101011001111011011110111111100011010010001000101001000011111110010101101000111010000100010110001101100001111001110011011000110011010011000011001011111101010011011101101010101101101101110111111011000110110111100011110111111110000100100000010001110000111000001011010101010111001100010101000100001101101100010000111111111110111100010000000101100100001001000101000011010011100110011111000100000011000100110100000110011110101001111000111010010000101010111100111111101110100010001001000001111000010101101110110100000011101101111010000011011011110000001110000101001001111010000000001011001001000100010101101011101100100100001001001101100001011110010011100010001111100111011000101011100001111011011110110001110101110111101000001101110100011101001001001100101100000010010100011111001100011001100000010010001000011100010100001000100101110000011010110010001011000011001110011000010000110010110110000001000110000100011111101100000010001000100000000110100001111100001011110011001010111010111010011000001101001100001010000111100011111111111110010000000011001101000111110101101001100101100001100101101001000100011010110111101010100111101100101001010001011010001101011101101110110011111011101011110010100011101011101111000101100101011011111001010011111100100111101000110000010101110001001110101111111011110110011010000101100111101000110000010000110100100010001001011001101010011100111001110100001111010011010100010111011110001111010101111101111101000011100111011110001100010001101000101011011101001000101101001110001010110100111100101101100011111011101100100001001011001011010100000011010011111000100010111001011111111110010100010000100110101100010101111001110001110011111011100101100010010110101100101000011100100000101101010000100010001110011001111011011000001111011001011110001111011001001001011111011000000011001000111111101101001001111100010110111010001101111010010110011010001110001011111001100001011011110110100000110011101111101110111001001110100100101000100011011001110100101001101010100101100011001100010010110101110000010110001100101100101010101101010010111010110101111110100111100111101001011101110010100101011011110011010100101000011110100111111111001000010001000011001111100101101110111101110111000011011011010000111110110000111110011100010011010001110000101010110000111001011100101100101111000011011001000000010101000110000001100111011010001101010011101011100110110110011101011100001111100101010100110101000001000100100110101001011100001110000101100000101110001100100110110101111111000100101101111100101000010000111110101110010111000010011101011000111101101100000110011011001101010001100011111110001110001100010110011011000001001101101011110000100100011011101110010001011000110001110100010010011011100110100101110010010010010100001101101010010000110011111111001101010111111011100000000000011101000100101011011110000110001111010000110111100101101010100010000001011001111101111010111110001110101111110010111100101010111000111001110110100010010011110010110001101000110000110000011111010101111101101101101110011100110101010111101100100001110110111011101010101100101110010101001011001110101110101011100110100110001100000110000101000110010010111000110010101100010000101000011010111101101110000110000000001010100011001101011110111111110111010111001011001110110100001001011010001100100110011000111101000011110000001010010110101001110001110111111001011101100101011011001100100100001000010100111011110001110111111011111011100101011001111010001110110100010011111100010000110001000000011000011001101001011100111011011010100011100110001000101010000000100111101001000010000101001101011000010010100011001101010000111001111000101010000111110000011011100010010101101111001010100111101011100100000100101101100101010110000101011111101010001111000010111001010001110000110100011001110100010100111011100001110110000101011000111101101000100001111111100011001011110111011010001111010001100011110001101001000010000101111101011101110000110101111111110010110110100000110001001101010000100000110101001001100011000111101101101111000000000110011000010001101001000011001010011001000011000111101100010101000110010001110000101100101100101010100101010000100110010001110110110101010100111110110011010100101111000100110110001000000001111111011100110010001001110011010011001000100010101110000011000111001111010101001111001101111001100001010100100010001100000011000100111101011111010011000001101111101010010101000010000011100110100001010010010100110001110000111000111000001011101101001000000001001001001010010010011010100010110001101011010011010100001011001001111011101110100110001101100011011001100011110001110100110110000011010110001011111001100010100110000001101100010000101100110101011111111010001010101100010001111001101100001000111110011110000000101101101100000110010011101000000111010101001000100111000100111000110011011110100101100100010010010100001001100000101100010100000100000101101110111111000111011100011101100110110001101110001100111111101000001101111000101001000101001101001111010110100001101101110100101111110111111110000111010110110100100001101010011100000001000010000100100010100000011110001010101001010110111000011111011111000010100110011000101101001011101111010111011100110000011001101101010001101010010101101101101000100101000110111100001101111111110100011010000010111011111010101010100010001100101000111100100000001110100000000010100101001001011001000001001000110111001011101110011000101011000110000011011001001001001111000111000001111011011110000111001000111011000101101001011100010111000001000100110010011011111100010100101000011100100001101111100100110111010010001111111100011000101110111000011101000111110001111001101011011011101000001000001110010111100011110100101010110110000001110011111110000101010110110001001001101101001111000111110110111011001010111000101011101011101001111001101100000101111110110000011010000000001000001100010111010111001110111110001000111110100000100100000001110011110111110111111000110101111011000010010010100000110111010100011111011010001011001101111101000010000110110111101100100010100100010100111101011101110110110001111111111001110110111010111111111011100100001101001011001100010101100111000100001100000110111000101110110010001011011111100001111110110000101100001101001111001010101000001001001111100110110101101001110011110011100101000001111100010000100111011001001011001011100011101011011011100100010101111100010010000110010010000001001101101101100010010101101110011001011001001110100001100, 0101100011000101110110101110000101100111010100101001100001101010011110111111111001111110111110010100111011001110011010001010001101101010110011011000101001001011011011010011111110110000100101100010100110101101101111000110101100101001000000011100110101010000001101001110011000000110011000001010101100100101101111111101011001000010110101010000000010111001010011101110011101110010110001100101110101001100011000000000000010010010001110100110010110010111011111001110101101101011111000100100101000011110110010010101001011001110100101000010011001101110011000110001010000001111010111010010000110111111001100010001101010011110000101000101101001000111011100110010110110111000001110111101000101100000100111101000101100110011010011101000100011111001011001010001000110110101001011001100011111100011010101001011010111101001000101000000010010111010011000010011101100000110100001111111110100101111110001100100101001111110001100000111101010000101000110101100000100100101101010100100100000011011111101111001110110011110100100110100101000101100010111011011101101000100100101010111011111011000001010110001011011111101100001011001010011000010011111111101000011111011000111001110110011110101010101000101111000000011010011010010100101000111100001101000110011000001101011100011111110110101010010110001110110010111010010010100010001100110000010001010001010001110101011101001001011011100001100000010010001001010011110000010001101110100110001101101101101011011100101010110001101101011111001100010100101111011001010010000110001011100111011010011001011010001111010110100011110111101011111000111010111000100011010101110111101011100101111110001001100000000100011110000100011011111110111001101001100110000011111110000110000001110011000010011010100001010011001010100011000010010111010111111001011100000111100101110000110011001011100011101001100000110101011011111011010011000010101010000001011110101111000111000011011011010001111111110001100101100000000000110001001011011000001111011001101011010111010011000110001100011010110101110111100101010000100011000000001010100011111011101101010000011010011001000011110000010011000000110101100001111110101111010101111100111000011001010100100000100011000101001000001000010001110001110000101011001110011110111101010111010110110001101110100110110000011001011011110000110001110100010011000011011010000111000101000000010001000000100010000011111110100001100001010110101011011000100010001000110101101010110110111000111101101010101111111000101111001101001000100000011000011101001001001110100101111111011011100110111010100000100010111111010010100100101011010001100001011111011110111010111001001001000111011010100010111101010010101111110010111101001100110010011001110100010100110101100010111010110101001001010111110001010010100010100110111111101110110101011001111111111010000001010101101101000011001110001101000010110101111111101111000011101110011011010001111110101011000111100111100111010100000001100010111010001101101101100001101011000001100101100101100111010101101001111101010100100001001101110101111000010100110011110001110000000101101001010000010010011101110011111001111101100110010110001100101100011101101001100010010010010001010110111011000100010010101011001101110011110111001111111011111010000001101011110001101111101000011001011001011100001100000110010000000010010001101011000001101111110001101101100110100110001111100001010100111111000011111111000010101000001001001000101000001011110011111110011011011010011100100101100001111111110100111000100100110111110010100101011011010101110001100001111110100010000011001100000110010110010011100010010000101110100101010011011001001111001101101100100101011001111011011110111111100011010010001000101001000011111110010101101000111010000100010110001101100001111001110011011000110011010011000011001011111101010011011101101010101101101101110111111011000110110111100011110111111110000100100000010001110000111000001011010101010111001100010101000100001101101100010000111111111110111100010000000101100100001001000101000011010011100110011111000100000011000100110100000110011110101001111000111010010000101010111100111111101110100010001001000001111000010101101110110100000011101101111010000011011011110000001110000101001001111010000000001011001001000100010101101011101100100100001001001101100001011110010011100010001111100111011000101011100001111011011110110001110101110111101000001101110100011101001001001100101100000010010100011111001100011001100000010010001000011100010100001000100101110000011010110010001011000011001110011000010000110010110110000001000110000100011111101100000010001000100000000110100001111100001011110011001010111010111010011000001101001100001010000111100011111111111110010000000011001101000111110101101001100101100001100101101001000100011010110111101010100111101100101001010001011010001101011101101110110011111011101011110010100011101011101111000101100101011011111001010011111100100111101000110000010101110001001110101111111011110110011010000101100111101000110000010000110100100010001001011001101010011100111001110100001111010011010100010111011110001111010101111101111101000011100111011110001100010001101000101011011101001000101101001110001010110100111100101101100011111011101100100001001011001011010100000011010011111000100010111001011111111110010100010000100110101100010101111001110001110011111011100101100010010110101100101000011100100000101101010000100010001110011001111011011000001111011001011110001111011001001001011111011000000011001000111111101101001001111100010110111010001101111010010110011010001110001011111001100001011011110110100000110011101111101110111001001110100100101000100011011001110100101001101010100101100011001100010010110101110000010110001100101100101010101101010010111010110101111110100111100111101001011101110010100101011011110011010100101000011110100111111111001000010001000011001111100101101110111101110111000011011011010000111110110000111110011100010011010001110000101010110000111001011100101100101111000011011001000000010101000110000001100111011010001101010011101011100110110110011101011100001111100101010100110101000001000100100110101001011100001110000101100000101110001100100110110101111111000100101101111100101000010000111110101110010111000010011101011000111101101100000110011011001101010001100011111110001110001100010110011011000001001101101011110000100100011011101110010001011000110001110100010010011011100110100101110010010010010100001101101010010000110011111111001101010111111011100000000000011101000100101011011110000110001111010000110111100101101010100010000001011001111101111010111110001110101111110010111100101010111000111001110110100010010011110010110001101000110000110000011111010101111101101101101110011100110101010111101100100001110110111011101010101100101110010101001011001110101110101011100110100110001100000110000101000110010010111000110010101100010000101000011010111101101110000110000000001010100011001101011110111111110111010111001011001110110100001001011010001100100110011000111101000011110000001010010110101001110001110111111001011101100101011011001100100100001000010100111011110001110111111011111011100101011001111010001110110100010011111100010000110001000000011000011001101001011100111011011010100011100110001000101010000000100111101001000010000101001101011000010010100011001101010000111001111000101010000111110000011011100010010101101111001010100111101011100100000100101101100101010110000101011111101010001111000010111001010001110000110100011001110100010100111011100001110110000101011000111101101000100001111111100011001011110111011010001111010001100011110001101001000010000101111101011101110000110101111111110010110110100000110001001101010000100000110101001001100011000111101101101111000000000110011000010001101001000011001010011001000011000111101100010101000110010001110000101100101100101010100101010000100110010001110110110101010100111110110011010100101111000100110110001000000001111111011100110010001001110011010011001000100010101110000011000111001111010101001111001101111001100001010100100010001100000011000100111101011111010011000001101111101010010101000010000011100110100001010010010100110001110000111000111000001011101101001000000001001001001010010010011010100010110001101011010011010100001011001001111011101110100110001101100011011001100011110001110100110110000011010110001011111001100010100110000001101100010000101100110101011111111010001010101100010001111001101100001000111110011110000000101101101100000110010011101000000111010101001000100111000100111000110011011110100101100100010010010100001001100000101100010100000100000101101110111111000111011100011101100110110001101110001100111111101000001101111000101001000101001101001111010110100001101101110100101111110111111110000111010110110100100001101010011100000001000010000100100010100000011110001010101001010110111000011111011111000010100110011000101101001011101111010111011100110000011001101101010001101010010101101101101000100101000110111100001101111111110100011010000010111011111010101010100010001100101000111100100000001110100000000010100101001001011001000001001000110111001011101110011000101011000110000011011001001001001111000111000001111011011110000111001000111011000101101001011100010111000001000100110010011011111100010100101000011100100001101111100100110111010010001111111100011000101110111000011101000111110001111001101011011011101000001000001110010111100011110100101010110110000001110011111110000101010110110001001001101101001111000111110110111011001010111000101011101011101001111001101100000101111110110000011010000000001000001100010111010111001110111110001000111110100000100100000001110011110111110111111000110101111011000010010010100000110111010100011111011010001011001101111101000010000110110111101100100010100100010100111101011101110110110001111111111001110110111010111111111011100100001101001011001100010101100111000100001100000110111000101110110010001011011111100001111110110000101100001101001111001010101000001001001111100110110101101001110011110011100101000001111100010000100111011001001011001011100011101011011011100100010101111100010010000110010010000001001101101101100010010101101110011001011001001110100001100\n"
          ],
          "name": "stdout"
        }
      ]
    },
    {
      "cell_type": "code",
      "metadata": {
        "colab": {
          "base_uri": "https://localhost:8080/",
          "height": 295
        },
        "id": "NMhisVFLhpHX",
        "outputId": "00a0c62a-d716-482a-8052-64b4e51b1d5a"
      },
      "source": [
        "# Visualization\n",
        "# After doing that, you should see the quantum state become ∣00⟩+∣11⟩\n",
        "_ = cirq.vis.plot_state_histogram(result) #, plt.subplot())\n",
        "# https://quantumai.google/cirq/tutorials/state_histograms"
      ],
      "execution_count": 72,
      "outputs": [
        {
          "output_type": "display_data",
          "data": {
            "image/png": "[encoded data removed]",
            "text/plain": [
              "<Figure size 432x288 with 1 Axes>"
            ]
          },
          "metadata": {
            "needs_background": "light"
          }
        }
      ]
    },
    {
      "cell_type": "code",
      "metadata": {
        "colab": {
          "base_uri": "https://localhost:8080/"
        },
        "id": "9ZgU_Al4jz7R",
        "outputId": "7e518d22-7aec-4680-deef-e3f5a88b975d"
      },
      "source": [
        "result.histogram(key=\"a,b\")"
      ],
      "execution_count": 69,
      "outputs": [
        {
          "output_type": "execute_result",
          "data": {
            "text/plain": [
              "Counter({0: 5068, 3: 4932})"
            ]
          },
          "metadata": {},
          "execution_count": 69
        }
      ]
    },
    {
      "cell_type": "markdown",
      "metadata": {
        "id": "MZO0odc6qWrf"
      },
      "source": [
        "**Task 3: Superdense Coding**"
      ]
    },
    {
      "cell_type": "markdown",
      "metadata": {
        "id": "pbSod7koqiXk"
      },
      "source": [
        "https://medium.com/qiskit/demystifying-superdense-coding-41d46401910e"
      ]
    },
    {
      "cell_type": "markdown",
      "metadata": {
        "id": "-bojs4aujG7C"
      },
      "source": [
        "\n",
        "\n",
        "---\n",
        "\n"
      ]
    },
    {
      "cell_type": "markdown",
      "metadata": {
        "id": "A-wJP3xnDH2E"
      },
      "source": [
        "**Setting qubits, don't do any operation and read out results**"
      ]
    },
    {
      "cell_type": "code",
      "metadata": {
        "colab": {
          "base_uri": "https://localhost:8080/"
        },
        "id": "k9j7jm3pC8E9",
        "outputId": "e20221b1-0941-4a00-be53-861cd42157fb"
      },
      "source": [
        "# Create Circuit object https://quantumai.google/cirq/tutorials/basics\n",
        "circuit = cirq.Circuit()\n",
        "\n",
        "# Define 2 qubits - They start with 0 (if you measure no, you'll see a 0 in both)\n",
        "(q0, q1) = cirq.LineQubit.range(2)\n",
        "\n",
        "\n",
        "# Task 1: Create superposition: \n",
        "#circuit.append([cirq.H(q0)])\n",
        "#circuit.append([cirq.H(q1)])\n",
        "\n",
        "\n",
        "# Task 2: Flip q0 from 0 to 1 with Pauli-X (classical not gate)\n",
        "circuit.append([cirq.X(q0)])\n",
        "circuit.append([cirq.X(q1)])\n",
        "\n",
        "# Alternative: Task 2b: CNOT (Controlled Pauli X) for input q0 and target q1\n",
        "# q1 becomes 1 (0 is same, 1 if different for target)\n",
        "#circuit.append([cirq.CNOT(q0, q1)])\n",
        "\n",
        "\n",
        "# Measure quantum bits\n",
        "circuit.append([cirq.measure(q0), cirq.measure(q1)])\n",
        "\n",
        "# See what circuit has been produced (optional)\n",
        "print(circuit)"
      ],
      "execution_count": null,
      "outputs": [
        {
          "output_type": "stream",
          "text": [
            "0: ───X───M───\n",
            "\n",
            "1: ───X───M───\n"
          ],
          "name": "stdout"
        }
      ]
    },
    {
      "cell_type": "code",
      "metadata": {
        "colab": {
          "base_uri": "https://localhost:8080/"
        },
        "id": "7RBBMzueDF7r",
        "outputId": "9babe46d-1df1-404d-b03f-f31e953bab14"
      },
      "source": [
        "# Perform simulation of the circuit\n",
        "sim = cirq.Simulator()\n",
        "results = sim.run(circuit, repetitions=10)\n",
        "print(results)"
      ],
      "execution_count": null,
      "outputs": [
        {
          "output_type": "stream",
          "text": [
            "0=0000000000\n",
            "1=1111111111\n"
          ],
          "name": "stdout"
        }
      ]
    },
    {
      "cell_type": "markdown",
      "metadata": {
        "id": "Vij1EeK5DPcz"
      },
      "source": [
        "The results:\n",
        "\n",
        "* Task 0: for no operation the result is 0 for both, as we initialized both qubits\n",
        "\n",
        "* Task 1: if Hadamard is applied to both, you get a mixed probability\n",
        "\n",
        "* Task 2: Pauli-X (and optionally CNOT on qubit1) are applied, you turn both states from 0 to 1 (but turn off Task 1 Hadamard!)"
      ]
    },
    {
      "cell_type": "markdown",
      "metadata": {
        "id": "OfGBWIy6S_V6"
      },
      "source": [
        "**Task 2: Addition of 1 + 1 = 2 (10 in binary)**"
      ]
    },
    {
      "cell_type": "markdown",
      "metadata": {
        "id": "cF7MxZrjaXod"
      },
      "source": [
        "https://qiskit.org/textbook/ch-states/atoms-computation.html#adder"
      ]
    },
    {
      "cell_type": "markdown",
      "metadata": {
        "id": "iKzohJI59hm1"
      },
      "source": [
        "0+0 = 00 (in decimal, this is 0+0=0)\n",
        "\n",
        "0+1 = 01 (in decimal, this is 0+1=1)\n",
        "\n",
        "1+0 = 01 (in decimal, this is 1+0=1)\n",
        "\n",
        "1+1 = 10 (in decimal, this is 1+1=2)\n",
        "\n",
        "This is called a half adder. If our computer can implement this, and if it can chain many of them together, it can add anything.\n",
        "\n"
      ]
    },
    {
      "cell_type": "code",
      "metadata": {
        "id": "y4ktOROmyohu"
      },
      "source": [
        "# Create Circuit object\n",
        "circuit = cirq.Circuit()\n",
        "\n",
        "# Define 2 qubits - They start with 0 (if you measure no, you'll see a 0 in both)\n",
        "(q0, q1, q2, q3) = cirq.LineQubit.range(4)\n",
        "\n",
        "# We flip q0 from 0 to 1 with Pauli-X \n",
        "circuit.append([cirq.X(q0)]) \n",
        "\n",
        "# We flip q1 from 0 to 1 with Pauli-X \n",
        "circuit.append([cirq.X(q1)]) \n",
        "\n",
        "# CNOT (Controlled Pauli X) for input q2 and target q0 (0 is same, 1 if different for target)\n",
        "# since q2 is 0 and q0 is 1, result will stay 1\n",
        "circuit.append([cirq.CNOT(q0, q2)])\n",
        "\n",
        "# CNOT (Controlled Pauli X) for input q2 and target q1 (0 is same, 1 if different for target)\n",
        "# since q2 is 0 and q1 is 1, result will stay 1\n",
        "circuit.append([cirq.CNOT(q1, q2)])\n",
        "\n",
        "# Toffoli (CCNOT) gate on q3 (if both inputs are equal, write 1, else 0) (perform a NOT on target qubit when both controls are in state 1)\n",
        "circuit.append([cirq.CCX(q0, q1, q3)])\n",
        "\n",
        "# Measure output quantum bits q2 and q3\n",
        "circuit.append([cirq.measure(q2), cirq.measure(q3)])\n",
        "\n",
        "# See what circuit has been produced (optional)\n",
        "print(circuit)"
      ],
      "execution_count": null,
      "outputs": []
    },
    {
      "cell_type": "code",
      "metadata": {
        "id": "0xKYREY8qEe-"
      },
      "source": [
        "# Step 6: Perform simulation of the circuit\n",
        "sim = cirq.Simulator()\n",
        "results = sim.run(circuit, repetitions=10)\n",
        "print(results)"
      ],
      "execution_count": null,
      "outputs": []
    },
    {
      "cell_type": "markdown",
      "metadata": {
        "id": "kb80-XsV-uXr"
      },
      "source": [
        "> Read from rightmost qubit first (q3) and then next left (q2): result is 10 (binary) = 2 in decimal"
      ]
    }
  ]
}