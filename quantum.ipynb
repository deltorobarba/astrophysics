{
  "nbformat": 4,
  "nbformat_minor": 0,
  "metadata": {
    "colab": {
      "name": "quantum.ipynb",
      "provenance": [],
      "collapsed_sections": [],
      "include_colab_link": true
    },
    "kernelspec": {
      "name": "python3",
      "display_name": "Python 3"
    }
  },
  "cells": [
    {
      "cell_type": "markdown",
      "metadata": {
        "id": "view-in-github",
        "colab_type": "text"
      },
      "source": [
        "<a href=\"https://colab.research.google.com/github/deltorobarba/machinelearning/blob/master/quantum.ipynb\" target=\"_parent\"><img src=\"https://colab.research.google.com/assets/colab-badge.svg\" alt=\"Open In Colab\"/></a>"
      ]
    },
    {
      "cell_type": "markdown",
      "metadata": {
        "id": "uYQVihuXzx6u"
      },
      "source": [
        "# **Quantum Machine Learning**"
      ]
    },
    {
      "cell_type": "code",
      "metadata": {
        "id": "RtgU_q7RzvJl"
      },
      "source": [
        "pip install -q tensorflow-quantum"
      ],
      "execution_count": null,
      "outputs": []
    },
    {
      "cell_type": "code",
      "metadata": {
        "id": "XkfmwhJPz8oS"
      },
      "source": [
        "import tensorflow as tf\n",
        "import tensorflow_quantum as tfq\n",
        "import cirq\n",
        "\n",
        "import sympy\n",
        "import numpy as np\n",
        "import pandas as pd\n",
        "\n",
        "# Visualization\n",
        "%matplotlib inline\n",
        "import matplotlib.pyplot as plt\n",
        "from cirq.contrib.svg import SVGCircuit"
      ],
      "execution_count": null,
      "outputs": []
    },
    {
      "cell_type": "markdown",
      "metadata": {
        "id": "t6D7vXh0wCzM"
      },
      "source": [
        "#### **Line Qubits**"
      ]
    },
    {
      "cell_type": "markdown",
      "metadata": {
        "id": "LiYBqntmwWb5"
      },
      "source": [
        "* Gate used: Hadamard ([see doc](https://cirq.readthedocs.io/en/stable/generated/cirq.H.html))\n",
        "\n",
        "* Bristlecone device doesn't support qubit type: cirq.LineQubit(0)"
      ]
    },
    {
      "cell_type": "code",
      "metadata": {
        "id": "y4ktOROmyohu",
        "outputId": "da6b9c9c-46d1-4f5a-d187-1028e7d1c6d1",
        "colab": {
          "base_uri": "https://localhost:8080/"
        }
      },
      "source": [
        "# Step 0: Define Device (optional)\n",
        "# device = Bristlecone # Unsupported qubit type: cirq.LineQubit(0)\n",
        "\n",
        "# Step 1: Create Circuit object\n",
        "circuit = cirq.Circuit() # (device=device)\n",
        "\n",
        "# Step 2: Define 2 qubits\n",
        "(q0, q1) = cirq.LineQubit.range(2)\n",
        "\n",
        "# Step 3: Perform quantum gates on qubits\n",
        "circuit.append([cirq.H(q0), cirq.CNOT(q0, q1)])\n",
        "circuit.append([cirq.H(q0), cirq.CNOT(q0, q1)])\n",
        "\n",
        "# Step 4: Measure quantum bits\n",
        "circuit.append([cirq.measure(q0), cirq.measure(q1)])\n",
        "\n",
        "# Step 5: See what circuit has been produced\n",
        "print(circuit)"
      ],
      "execution_count": 18,
      "outputs": [
        {
          "output_type": "stream",
          "text": [
            "0: ───H───@───H───@───M───\n",
            "          │       │\n",
            "1: ───────X───────X───M───\n"
          ],
          "name": "stdout"
        }
      ]
    },
    {
      "cell_type": "code",
      "metadata": {
        "id": "kCU3hjW5yem0",
        "outputId": "716012d0-b0e9-45f9-d87f-3591c7b9ef55",
        "colab": {
          "base_uri": "https://localhost:8080/"
        }
      },
      "source": [
        "# Step 6: Perform simulation of the circuit\n",
        "sim = cirq.Simulator()\n",
        "results = sim.run(circuit, repetitions=10)\n",
        "print(results)"
      ],
      "execution_count": 19,
      "outputs": [
        {
          "output_type": "stream",
          "text": [
            "0=1111111111\n",
            "1=0111101100\n"
          ],
          "name": "stdout"
        }
      ]
    },
    {
      "cell_type": "markdown",
      "metadata": {
        "id": "lCpEZKEfwE6n"
      },
      "source": [
        "#### **Grid Qubits**"
      ]
    },
    {
      "cell_type": "markdown",
      "metadata": {
        "id": "XjHp3CBNwn8s"
      },
      "source": [
        "* Gate used: CZ - Controlled Z ([see doc](https://cirq.readthedocs.io/en/stable/generated/cirq.CZ.html))"
      ]
    },
    {
      "cell_type": "code",
      "metadata": {
        "id": "bjwXYtuwjmDw",
        "outputId": "704ac73f-308e-42b4-a035-d0184fa509d4",
        "colab": {
          "base_uri": "https://localhost:8080/"
        }
      },
      "source": [
        "device = cirq.google.Bristlecone\n",
        "\n",
        "circuit = cirq.Circuit(device=device)\n",
        "\n",
        "a0, a1 = cirq.GridQubit(5, 5), cirq.GridQubit(5, 6)\n",
        "b0, b1 = cirq.GridQubit(6, 5), cirq.GridQubit(6, 6)\n",
        "\n",
        "circuit.append([cirq.CZ(a0, a1), cirq.CZ(b0, b1)])\n",
        "\n",
        "# Measure quantum bits\n",
        "circuit.append([cirq.measure(a0, a1), cirq.measure(b0, b1)])\n",
        "\n",
        "print(circuit)"
      ],
      "execution_count": 23,
      "outputs": [
        {
          "output_type": "stream",
          "text": [
            "(5, 5): ───@───M───────\n",
            "           │   │\n",
            "(5, 6): ───@───M───────\n",
            "\n",
            "(6, 5): ───────@───M───\n",
            "               │   │\n",
            "(6, 6): ───────@───M───\n"
          ],
          "name": "stdout"
        }
      ]
    },
    {
      "cell_type": "code",
      "metadata": {
        "id": "VtSKj4xTyp4A",
        "outputId": "051abbac-3d4d-43e9-bc1f-8e604df861fd",
        "colab": {
          "base_uri": "https://localhost:8080/"
        }
      },
      "source": [
        "# Step 5: Perform simulation of the circuit\n",
        "sim = cirq.Simulator()\n",
        "results = sim.run(circuit, repetitions=10)\n",
        "print(results)"
      ],
      "execution_count": 24,
      "outputs": [
        {
          "output_type": "stream",
          "text": [
            "(5, 5),(5, 6)=0000000000, 0000000000\n",
            "(6, 5),(6, 6)=0000000000, 0000000000\n"
          ],
          "name": "stdout"
        }
      ]
    },
    {
      "cell_type": "markdown",
      "metadata": {
        "id": "ynHp1ZVsxctK"
      },
      "source": [
        "#### **See how devices look like**"
      ]
    },
    {
      "cell_type": "markdown",
      "metadata": {
        "id": "Fd4XOrMIx5FO"
      },
      "source": [
        "https://cirq.readthedocs.io/en/latest/docs/google/devices.html"
      ]
    },
    {
      "cell_type": "code",
      "metadata": {
        "id": "py2IXewSuHuw",
        "outputId": "bf921295-29e2-4933-b108-a6caf0eaf72c",
        "colab": {
          "base_uri": "https://localhost:8080/"
        }
      },
      "source": [
        "print(cirq.google.Bristlecone)"
      ],
      "execution_count": 15,
      "outputs": [
        {
          "output_type": "stream",
          "text": [
            "                                             (0, 5)────(0, 6)\n",
            "                                             │         │\n",
            "                                             │         │\n",
            "                                    (1, 4)───(1, 5)────(1, 6)────(1, 7)\n",
            "                                    │        │         │         │\n",
            "                                    │        │         │         │\n",
            "                           (2, 3)───(2, 4)───(2, 5)────(2, 6)────(2, 7)───(2, 8)\n",
            "                           │        │        │         │         │        │\n",
            "                           │        │        │         │         │        │\n",
            "                  (3, 2)───(3, 3)───(3, 4)───(3, 5)────(3, 6)────(3, 7)───(3, 8)───(3, 9)\n",
            "                  │        │        │        │         │         │        │        │\n",
            "                  │        │        │        │         │         │        │        │\n",
            "         (4, 1)───(4, 2)───(4, 3)───(4, 4)───(4, 5)────(4, 6)────(4, 7)───(4, 8)───(4, 9)───(4, 10)\n",
            "         │        │        │        │        │         │         │        │        │        │\n",
            "         │        │        │        │        │         │         │        │        │        │\n",
            "(5, 0)───(5, 1)───(5, 2)───(5, 3)───(5, 4)───(5, 5)────(5, 6)────(5, 7)───(5, 8)───(5, 9)───(5, 10)───(5, 11)\n",
            "         │        │        │        │        │         │         │        │        │        │\n",
            "         │        │        │        │        │         │         │        │        │        │\n",
            "         (6, 1)───(6, 2)───(6, 3)───(6, 4)───(6, 5)────(6, 6)────(6, 7)───(6, 8)───(6, 9)───(6, 10)\n",
            "                  │        │        │        │         │         │        │        │\n",
            "                  │        │        │        │         │         │        │        │\n",
            "                  (7, 2)───(7, 3)───(7, 4)───(7, 5)────(7, 6)────(7, 7)───(7, 8)───(7, 9)\n",
            "                           │        │        │         │         │        │\n",
            "                           │        │        │         │         │        │\n",
            "                           (8, 3)───(8, 4)───(8, 5)────(8, 6)────(8, 7)───(8, 8)\n",
            "                                    │        │         │         │\n",
            "                                    │        │         │         │\n",
            "                                    (9, 4)───(9, 5)────(9, 6)────(9, 7)\n",
            "                                             │         │\n",
            "                                             │         │\n",
            "                                             (10, 5)───(10, 6)\n"
          ],
          "name": "stdout"
        }
      ]
    },
    {
      "cell_type": "code",
      "metadata": {
        "id": "_Y0e_-tVxytV",
        "outputId": "509a126c-ad2c-4c28-da21-d071a7bd4d7d",
        "colab": {
          "base_uri": "https://localhost:8080/"
        }
      },
      "source": [
        "print(cirq.google.Sycamore)"
      ],
      "execution_count": 16,
      "outputs": [
        {
          "output_type": "stream",
          "text": [
            "                                             (0, 5)───(0, 6)\n",
            "                                             │        │\n",
            "                                             │        │\n",
            "                                    (1, 4)───(1, 5)───(1, 6)───(1, 7)\n",
            "                                    │        │        │        │\n",
            "                                    │        │        │        │\n",
            "                           (2, 3)───(2, 4)───(2, 5)───(2, 6)───(2, 7)───(2, 8)\n",
            "                           │        │        │        │        │        │\n",
            "                           │        │        │        │        │        │\n",
            "                  (3, 2)───(3, 3)───(3, 4)───(3, 5)───(3, 6)───(3, 7)───(3, 8)───(3, 9)\n",
            "                  │        │        │        │        │        │        │        │\n",
            "                  │        │        │        │        │        │        │        │\n",
            "         (4, 1)───(4, 2)───(4, 3)───(4, 4)───(4, 5)───(4, 6)───(4, 7)───(4, 8)───(4, 9)\n",
            "         │        │        │        │        │        │        │        │\n",
            "         │        │        │        │        │        │        │        │\n",
            "(5, 0)───(5, 1)───(5, 2)───(5, 3)───(5, 4)───(5, 5)───(5, 6)───(5, 7)───(5, 8)\n",
            "         │        │        │        │        │        │        │\n",
            "         │        │        │        │        │        │        │\n",
            "         (6, 1)───(6, 2)───(6, 3)───(6, 4)───(6, 5)───(6, 6)───(6, 7)\n",
            "                  │        │        │        │        │\n",
            "                  │        │        │        │        │\n",
            "                  (7, 2)───(7, 3)───(7, 4)───(7, 5)───(7, 6)\n",
            "                           │        │        │\n",
            "                           │        │        │\n",
            "                           (8, 3)───(8, 4)───(8, 5)\n",
            "                                    │\n",
            "                                    │\n",
            "                                    (9, 4)\n"
          ],
          "name": "stdout"
        }
      ]
    },
    {
      "cell_type": "markdown",
      "metadata": {
        "id": "Rf5zpy57zrVr"
      },
      "source": [
        "#### **Examples**"
      ]
    },
    {
      "cell_type": "markdown",
      "metadata": {
        "id": "sM4oNOMD0-M2"
      },
      "source": [
        "https://tensorflow.google.cn/quantum/tutorials/hello_many_worlds?hl=en"
      ]
    },
    {
      "cell_type": "markdown",
      "metadata": {
        "id": "7MYxdoOc1Agc"
      },
      "source": [
        "https://towardsdatascience.com/quantum-machine-learning-101-1058f24c3487"
      ]
    },
    {
      "cell_type": "code",
      "metadata": {
        "id": "6t3X4BlM05Xl",
        "outputId": "cf103c7c-2f93-4b7b-85e9-e9e524bc3b44",
        "colab": {
          "base_uri": "https://localhost:8080/",
          "height": 269
        }
      },
      "source": [
        "def get_data(l):\n",
        "    data = np.random.randint(0,1,(l,2))\n",
        "    label = np.ones(l)\n",
        "    data[0::2,0]=1\n",
        "    data[1::2,1]=1\n",
        "    label[0::2] = -1\n",
        "    p = np.random.permutation(l)\n",
        "    return data[p], label[p]\n",
        "\n",
        "x_train, y_train = get_data(5000)\n",
        "x_test, y_test = get_data(200)\n",
        "print(pd.DataFrame(np.concatenate((x_train, np.reshape(y_train, (-1,1))), axis=1) , columns=[\"x1\", \"x2\", \"y\"]))"
      ],
      "execution_count": null,
      "outputs": [
        {
          "output_type": "stream",
          "text": [
            "       x1   x2    y\n",
            "0     1.0  0.0 -1.0\n",
            "1     0.0  1.0  1.0\n",
            "2     1.0  0.0 -1.0\n",
            "3     0.0  1.0  1.0\n",
            "4     1.0  0.0 -1.0\n",
            "...   ...  ...  ...\n",
            "4995  1.0  0.0 -1.0\n",
            "4996  0.0  1.0  1.0\n",
            "4997  1.0  0.0 -1.0\n",
            "4998  0.0  1.0  1.0\n",
            "4999  1.0  0.0 -1.0\n",
            "\n",
            "[5000 rows x 3 columns]\n"
          ],
          "name": "stdout"
        }
      ]
    },
    {
      "cell_type": "code",
      "metadata": {
        "id": "42eo9RBd1O3G"
      },
      "source": [
        "def convert_to_circuit(x):\n",
        "    qubits = cirq.GridQubit.rect(1, 2)\n",
        "    circuit = cirq.Circuit()\n",
        "    for i, val in enumerate(x):\n",
        "        if val:\n",
        "            circuit.append(cirq.X(qubits[i]))\n",
        "    return circuit"
      ],
      "execution_count": null,
      "outputs": []
    },
    {
      "cell_type": "code",
      "metadata": {
        "id": "PtYwHtDC1WHU"
      },
      "source": [
        "x_train_circ = [convert_to_circuit(x) for x in x_train]\n",
        "x_test_circ = [convert_to_circuit(x) for x in x_test]"
      ],
      "execution_count": null,
      "outputs": []
    },
    {
      "cell_type": "code",
      "metadata": {
        "id": "ULVDoX2M1Y4F"
      },
      "source": [
        "x_train_tfcirc = tfq.convert_to_tensor(x_train_circ)\n",
        "x_test_tfcirc = tfq.convert_to_tensor(x_test_circ)"
      ],
      "execution_count": null,
      "outputs": []
    },
    {
      "cell_type": "code",
      "metadata": {
        "id": "N5_0t8Fu1dMp",
        "outputId": "e07381fe-8157-497c-a8d9-e3b4e1d3b16e",
        "colab": {
          "base_uri": "https://localhost:8080/",
          "height": 171
        }
      },
      "source": [
        "input_qubits = cirq.GridQubit.rect(2, 1)  # 2x1 grid.\n",
        "readout = cirq.GridQubit(-1, -1)   # a qubit at [-1,-1]\n",
        "model_circuit = cirq.Circuit()\n",
        "\n",
        "model_circuit.append(cirq.X(readout))\n",
        "model_circuit.append(cirq.H(readout))\n",
        "\n",
        "alpha1 = sympy.Symbol('a1')\n",
        "model_circuit.append(cirq.XX(input_qubits[0], readout)**alpha1)\n",
        "\n",
        "alpha2 = sympy.Symbol('a2')\n",
        "model_circuit.append(cirq.XX(input_qubits[1], readout)**alpha2)\n",
        "\n",
        "beta1 = sympy.Symbol('b1')\n",
        "model_circuit.append(cirq.ZZ(input_qubits[0], readout)**beta1)\n",
        "\n",
        "beta2 = sympy.Symbol('b2')\n",
        "model_circuit.append(cirq.ZZ(input_qubits[1], readout)**beta2)\n",
        "\n",
        "model_circuit.append(cirq.H(readout))\n",
        "model_readout = cirq.Z(readout)\n",
        "SVGCircuit(model_circuit)"
      ],
      "execution_count": null,
      "outputs": [
        {
          "output_type": "execute_result",
          "data": {
            "text/plain": [
              "<cirq.contrib.svg.svg.SVGCircuit at 0x7fd3ff3d7c18>"
            ],
            "image/svg+xml": "<svg xmlns=\"http://www.w3.org/2000/svg\" width=\"606.345703125\" height=\"150.0\"><line x1=\"39.810625\" x2=\"576.345703125\" y1=\"25.0\" y2=\"25.0\" stroke=\"#1967d2\" stroke-width=\"1\" /><line x1=\"39.810625\" x2=\"576.345703125\" y1=\"75.0\" y2=\"75.0\" stroke=\"#1967d2\" stroke-width=\"1\" /><line x1=\"39.810625\" x2=\"576.345703125\" y1=\"125.0\" y2=\"125.0\" stroke=\"#1967d2\" stroke-width=\"1\" /><line x1=\"237.96529296875002\" x2=\"237.96529296875002\" y1=\"25.0\" y2=\"75.0\" stroke=\"black\" stroke-width=\"3\" /><line x1=\"314.59869140625\" x2=\"314.59869140625\" y1=\"25.0\" y2=\"125.0\" stroke=\"black\" stroke-width=\"3\" /><line x1=\"391.2798046875\" x2=\"391.2798046875\" y1=\"25.0\" y2=\"75.0\" stroke=\"black\" stroke-width=\"3\" /><line x1=\"468.00863281249997\" x2=\"468.00863281249997\" y1=\"25.0\" y2=\"125.0\" stroke=\"black\" stroke-width=\"3\" /><rect x=\"10.0\" y=\"5.0\" width=\"59.62125\" height=\"40\" stroke=\"black\" fill=\"white\" stroke-width=\"0\" /><text x=\"39.810625\" y=\"25.0\" dominant-baseline=\"middle\" text-anchor=\"middle\" font-size=\"14px\" font-family=\"Arial\">(-1, -1): </text><rect x=\"10.0\" y=\"55.0\" width=\"59.62125\" height=\"40\" stroke=\"black\" fill=\"white\" stroke-width=\"0\" /><text x=\"39.810625\" y=\"75.0\" dominant-baseline=\"middle\" text-anchor=\"middle\" font-size=\"14px\" font-family=\"Arial\">(0, 0): </text><rect x=\"10.0\" y=\"105.0\" width=\"59.62125\" height=\"40\" stroke=\"black\" fill=\"white\" stroke-width=\"0\" /><text x=\"39.810625\" y=\"125.0\" dominant-baseline=\"middle\" text-anchor=\"middle\" font-size=\"14px\" font-family=\"Arial\">(1, 0): </text><rect x=\"89.62125\" y=\"5.0\" width=\"40\" height=\"40\" stroke=\"black\" fill=\"white\" stroke-width=\"1\" /><text x=\"109.62125\" y=\"25.0\" dominant-baseline=\"middle\" text-anchor=\"middle\" font-size=\"18px\" font-family=\"Arial\">X</text><rect x=\"149.62125\" y=\"5.0\" width=\"40\" height=\"40\" stroke=\"black\" fill=\"white\" stroke-width=\"1\" /><text x=\"169.62125\" y=\"25.0\" dominant-baseline=\"middle\" text-anchor=\"middle\" font-size=\"18px\" font-family=\"Arial\">H</text><rect x=\"209.62125000000003\" y=\"55.0\" width=\"56.688085937500006\" height=\"40\" stroke=\"black\" fill=\"white\" stroke-width=\"1\" /><text x=\"237.96529296875002\" y=\"75.0\" dominant-baseline=\"middle\" text-anchor=\"middle\" font-size=\"14px\" font-family=\"Arial\">XX^a1</text><rect x=\"209.62125000000003\" y=\"5.0\" width=\"56.688085937500006\" height=\"40\" stroke=\"black\" fill=\"white\" stroke-width=\"1\" /><text x=\"237.96529296875002\" y=\"25.0\" dominant-baseline=\"middle\" text-anchor=\"middle\" font-size=\"14px\" font-family=\"Arial\">XX</text><rect x=\"286.3093359375\" y=\"105.0\" width=\"56.578710937500006\" height=\"40\" stroke=\"black\" fill=\"white\" stroke-width=\"1\" /><text x=\"314.59869140625\" y=\"125.0\" dominant-baseline=\"middle\" text-anchor=\"middle\" font-size=\"14px\" font-family=\"Arial\">XX^a2</text><rect x=\"286.3093359375\" y=\"5.0\" width=\"56.578710937500006\" height=\"40\" stroke=\"black\" fill=\"white\" stroke-width=\"1\" /><text x=\"314.59869140625\" y=\"25.0\" dominant-baseline=\"middle\" text-anchor=\"middle\" font-size=\"14px\" font-family=\"Arial\">XX</text><rect x=\"362.888046875\" y=\"55.0\" width=\"56.78351562500001\" height=\"40\" stroke=\"black\" fill=\"white\" stroke-width=\"1\" /><text x=\"391.2798046875\" y=\"75.0\" dominant-baseline=\"middle\" text-anchor=\"middle\" font-size=\"14px\" font-family=\"Arial\">ZZ^b1</text><rect x=\"362.888046875\" y=\"5.0\" width=\"56.78351562500001\" height=\"40\" stroke=\"black\" fill=\"white\" stroke-width=\"1\" /><text x=\"391.2798046875\" y=\"25.0\" dominant-baseline=\"middle\" text-anchor=\"middle\" font-size=\"14px\" font-family=\"Arial\">ZZ</text><rect x=\"439.67156249999994\" y=\"105.0\" width=\"56.67414062500001\" height=\"40\" stroke=\"black\" fill=\"white\" stroke-width=\"1\" /><text x=\"468.00863281249997\" y=\"125.0\" dominant-baseline=\"middle\" text-anchor=\"middle\" font-size=\"14px\" font-family=\"Arial\">ZZ^b2</text><rect x=\"439.67156249999994\" y=\"5.0\" width=\"56.67414062500001\" height=\"40\" stroke=\"black\" fill=\"white\" stroke-width=\"1\" /><text x=\"468.00863281249997\" y=\"25.0\" dominant-baseline=\"middle\" text-anchor=\"middle\" font-size=\"14px\" font-family=\"Arial\">ZZ</text><rect x=\"516.345703125\" y=\"5.0\" width=\"40\" height=\"40\" stroke=\"black\" fill=\"white\" stroke-width=\"1\" /><text x=\"536.345703125\" y=\"25.0\" dominant-baseline=\"middle\" text-anchor=\"middle\" font-size=\"18px\" font-family=\"Arial\">H</text></svg>"
          },
          "metadata": {
            "tags": []
          },
          "execution_count": 24
        }
      ]
    },
    {
      "cell_type": "code",
      "metadata": {
        "id": "T4xnQaKz1hC-"
      },
      "source": [
        "# Build the model.\n",
        "model = tf.keras.Sequential([\n",
        "    # The input is the data-circuit, encoded as a tf.string\n",
        "    tf.keras.layers.Input(shape=(), dtype=tf.string),\n",
        "    # PQC layer returns the expected val of the readout gate @[-1,1]\n",
        "    tfq.layers.PQC(model_circuit, model_readout),\n",
        "])"
      ],
      "execution_count": null,
      "outputs": []
    },
    {
      "cell_type": "code",
      "metadata": {
        "id": "evS7OHUa1k9a"
      },
      "source": [
        "model.compile(\n",
        "    loss=tf.keras.losses.MeanSquaredError(),\n",
        "    optimizer=tf.keras.optimizers.Adam(),\n",
        "    metrics=[\"mae\"])"
      ],
      "execution_count": null,
      "outputs": []
    },
    {
      "cell_type": "markdown",
      "metadata": {
        "id": "0qnC0RiJ5xek"
      },
      "source": [
        "https://tensorflow.google.cn/api_docs/python/tf/keras/losses/Hinge"
      ]
    },
    {
      "cell_type": "markdown",
      "metadata": {
        "id": "ordCYvMR4NDP"
      },
      "source": [
        "https://www.tensorflow.org/guide/keras/train_and_evaluate"
      ]
    },
    {
      "cell_type": "code",
      "metadata": {
        "id": "7294RVsA1m8W",
        "outputId": "9cbedcff-cc79-4a55-f7f5-50a13d7756e9",
        "colab": {
          "base_uri": "https://localhost:8080/",
          "height": 197
        }
      },
      "source": [
        "model.summary()"
      ],
      "execution_count": null,
      "outputs": [
        {
          "output_type": "stream",
          "text": [
            "Model: \"sequential_1\"\n",
            "_________________________________________________________________\n",
            "Layer (type)                 Output Shape              Param #   \n",
            "=================================================================\n",
            "pqc_1 (PQC)                  (None, 1)                 4         \n",
            "=================================================================\n",
            "Total params: 4\n",
            "Trainable params: 4\n",
            "Non-trainable params: 0\n",
            "_________________________________________________________________\n"
          ],
          "name": "stdout"
        }
      ]
    },
    {
      "cell_type": "code",
      "metadata": {
        "id": "EuGvYUGo4eiZ"
      },
      "source": [
        "# Plot Losses Keras TF (simple)\n",
        "!pip install livelossplot --quiet\n",
        "from livelossplot import PlotLossesKerasTF\n",
        "\n",
        "callbacks = [PlotLossesKerasTF()]"
      ],
      "execution_count": null,
      "outputs": []
    },
    {
      "cell_type": "code",
      "metadata": {
        "id": "CBYKobIB4EaJ",
        "outputId": "c0a31f2c-1c39-4a40-aeec-e00693c5e458",
        "colab": {
          "base_uri": "https://localhost:8080/",
          "height": 683
        }
      },
      "source": [
        "model_history = model.fit(\n",
        "      x_train_tfcirc, y_train,\n",
        "      batch_size=200,\n",
        "      epochs=5,\n",
        "      verbose=1,\n",
        "      validation_data=(x_test_tfcirc, y_test),\n",
        "      callbacks=callbacks)\n",
        "\n",
        "results = model.evaluate(x_test_tfcirc, y_test)"
      ],
      "execution_count": null,
      "outputs": [
        {
          "output_type": "display_data",
          "data": {
            "image/png": "[encoded data removed]",
            "text/plain": [
              "<Figure size 864x576 with 2 Axes>"
            ]
          },
          "metadata": {
            "tags": [],
            "needs_background": "light"
          }
        },
        {
          "output_type": "stream",
          "text": [
            "Loss\n",
            "\ttraining         \t (min:    0.000, max:    0.000, cur:    0.000)\n",
            "\tvalidation       \t (min:    0.000, max:    0.000, cur:    0.000)\n",
            "mae\n",
            "\ttraining         \t (min:    0.000, max:    0.001, cur:    0.000)\n",
            "\tvalidation       \t (min:    0.000, max:    0.000, cur:    0.000)\n",
            "25/25 [==============================] - 3s 119ms/step - loss: 5.9036e-08 - mae: 2.4295e-04 - val_loss: 5.9036e-08 - val_mae: 2.4295e-04\n",
            "7/7 [==============================] - 0s 6ms/step - loss: 5.9036e-08 - mae: 2.4295e-04\n"
          ],
          "name": "stdout"
        }
      ]
    },
    {
      "cell_type": "code",
      "metadata": {
        "id": "S5OpKhHv4UVL",
        "outputId": "054ea872-7ee4-4f69-bbdd-fabf9b501f99",
        "colab": {
          "base_uri": "https://localhost:8080/",
          "height": 55
        }
      },
      "source": [
        "print(list(zip(model.predict(x_test_tfcirc).ravel()[:10], y_test[:10])))"
      ],
      "execution_count": null,
      "outputs": [
        {
          "output_type": "stream",
          "text": [
            "[(-0.99654704, -1.0), (0.996547, 1.0), (-0.99654704, -1.0), (0.996547, 1.0), (-0.99654704, -1.0), (0.996547, 1.0), (0.996547, 1.0), (-0.99654704, -1.0), (-0.99654704, -1.0), (-0.99654704, -1.0)]\n"
          ],
          "name": "stdout"
        }
      ]
    }
  ]
}