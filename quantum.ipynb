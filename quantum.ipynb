{
  "nbformat": 4,
  "nbformat_minor": 0,
  "metadata": {
    "colab": {
      "name": "quantum.ipynb",
      "provenance": [],
      "collapsed_sections": [
        "XjqyTPeNmw54",
        "XwAsbDA4n9EB",
        "fanTKhYRC5ch",
        "q3-zqqxXDq-p",
        "60DM3PNGUhDg",
        "QbX8G_SKTW06",
        "mXgnLYX-FpXa",
        "rl36-Dkq44wh",
        "fydLRSLFdRx5",
        "9isGvqndjGj9",
        "3eye1FYS06Mi",
        "CWTUeok_2Mn3",
        "XjZNNB0TaQbK",
        "TlkbyF8w7kF9",
        "P3U2MzFc5Aiq",
        "bQnVRshNtux9",
        "gnCFRiVapbMJ",
        "XRBMQYB4nyqI",
        "2awP8L9TDlN_",
        "FOoane0U7-8J",
        "U-AMGri9VajC",
        "A6PhfaXw-Fxo",
        "UQh4UJSSBK4k",
        "NkW4xifhAMIp",
        "g9KGU3z5Ayes",
        "N0V2nJiKBGjY",
        "1dIOVe-DrnP3",
        "rtwxE-KiC07v",
        "DZeZRsq4r5U8",
        "xWZS80qVr7OU",
        "Lci_KRkLr8wU",
        "ETGa_Rffr-gW",
        "ee6gc0AksA0Y",
        "4a1VaFQxGrU3",
        "faWZpw6GCtO-",
        "E7F7W1hYvglE",
        "xogp7CuSwG-f",
        "Rf5zpy57zrVr",
        "dK6E1-t3m5eA",
        "lCpEZKEfwE6n",
        "ynHp1ZVsxctK"
      ],
      "include_colab_link": true
    },
    "kernelspec": {
      "name": "python3",
      "display_name": "Python 3"
    }
  },
  "cells": [
    {
      "cell_type": "markdown",
      "metadata": {
        "id": "view-in-github",
        "colab_type": "text"
      },
      "source": [
        "<a href=\"https://colab.research.google.com/github/deltorobarba/machinelearning/blob/master/quantum.ipynb\" target=\"_parent\"><img src=\"https://colab.research.google.com/assets/colab-badge.svg\" alt=\"Open In Colab\"/></a>"
      ]
    },
    {
      "cell_type": "markdown",
      "metadata": {
        "id": "uYQVihuXzx6u"
      },
      "source": [
        "# **Quantum Machine Learning**"
      ]
    },
    {
      "cell_type": "markdown",
      "metadata": {
        "id": "ZWYcaoehvUk1"
      },
      "source": [
        "![ggg](https://raw.githubusercontent.com/deltorobarba/repo/master/quantum_000.jpg)"
      ]
    },
    {
      "cell_type": "markdown",
      "metadata": {
        "id": "XjqyTPeNmw54"
      },
      "source": [
        "## **Quantum Mechanics**"
      ]
    },
    {
      "cell_type": "markdown",
      "metadata": {
        "id": "XwAsbDA4n9EB"
      },
      "source": [
        "###### **<font color=\"blue\">Schrödinger Equation</font>**"
      ]
    },
    {
      "cell_type": "markdown",
      "metadata": {
        "id": "0S2jiylKzBUR"
      },
      "source": [
        "> $\\left[-\\frac{\\hbar^{2}}{2 m} \\frac{\\partial^{2}}{\\partial x^{2}}+V(x, t)\\right] \\Psi(x, t) = i \\hbar \\frac{\\partial}{\\partial t} \\Psi(x, t)$\n",
        "\n",
        "bzw written in another way (single particle variant):\n",
        "\n",
        "> <font color=\"red\">$[-\\frac{\\hbar^{2}}{2 m} \\nabla^{2} $</font> + <font color=\"green\">$V(x, t)$</font> ] \n",
        " <font color=\"blue\">$|\\psi\\rangle$</font> = $i \\hbar \\frac{\\partial}{\\partial t}$ <font color=\"blue\">$|\\psi\\rangle$</font>\n",
        "\n",
        "* <font color=\"red\">$[-\\frac{\\hbar^{2}}{2 m} \\nabla^{2} $</font> Kinetic energy\n",
        "\n",
        "* <font color=\"green\">$V(x, t)$</font> Potential energy\n",
        "\n",
        "* <font color=\"blue\">$|\\psi\\rangle$</font>  the wave function"
      ]
    },
    {
      "cell_type": "markdown",
      "metadata": {
        "id": "6ohyipj1oI0H"
      },
      "source": [
        "https://en.wikipedia.org/wiki/Schrödinger_equation"
      ]
    },
    {
      "cell_type": "markdown",
      "metadata": {
        "id": "gns9d_fkn_PW"
      },
      "source": [
        "https://www.youtube.com/watch?v=w9Kyz5y_TPw"
      ]
    },
    {
      "cell_type": "markdown",
      "metadata": {
        "id": "fanTKhYRC5ch"
      },
      "source": [
        "###### **<font color=\"blue\">Ket $|\\psi\\rangle$</font> (Pure Quantum State Superposition, Wave Function, Stochastic Vector, Bloch sphere)**"
      ]
    },
    {
      "cell_type": "markdown",
      "metadata": {
        "id": "WlC5y6Hpsj_E"
      },
      "source": [
        "**A Ket $|\\psi\\rangle$ $\\doteq$ $\\left[\\begin{array}{l}a_{0} \\\\ a_{1}\\end{array}\\right]$, also called 'quantum state', <u>represents</u> the wave function of a quantum system (\"Psi\")**, consisting of **probability amplitudes**. This Quantum state is a **stochastic vector**, written as a column vector. **A Ket is technically a pure quantum state**. Wave function notation to describe superposition of Pure States."
      ]
    },
    {
      "cell_type": "markdown",
      "metadata": {
        "id": "CsUR9RecP8AE"
      },
      "source": [
        "So, you have an (orthonormal) basis with 3 vectors and coefficients, to describe a vector in space (in Hilbert space):\n",
        "\n",
        "> $\\vec{v}=$<font color='blue'>$2$</font>$\\left(\\begin{array}{l}1 \\\\ 0 \\\\ 0\\end{array}\\right)$<font color='blue'>$+3$</font>$\\left(\\begin{array}{l}0 \\\\ 1 \\\\ 0\\end{array}\\right)$<font color='blue'>$+0$</font>$\\left(\\begin{array}{l}0 \\\\ 0 \\\\ 1\\end{array}\\right)$\n",
        "\n",
        "The basis vectors will all entries in 0 and only one with 1 correspond to possibe measurement outcomes (spin up or down). \n",
        "\n",
        "The coefficients can be collected in one vector and are complex numbers:\n",
        "\n",
        "> $\\vec{v}=$<font color='blue'>$\\left(\\begin{array}{l}2 \\\\ 3 \\\\ 0\\end{array}\\right)$</font>\n",
        "\n"
      ]
    },
    {
      "cell_type": "markdown",
      "metadata": {
        "id": "zi3VJ36_jPGy"
      },
      "source": [
        "**Or written formally**:\n",
        "\n",
        "> $|\\Psi\\rangle=a_{1}\\left(\\begin{array}{l}1 \\\\ 0 \\\\ 0\\end{array}\\right)+{a_{2}}\\left(\\begin{array}{l}0 \\\\ 1 \\\\ 0\\end{array}\\right)+a_{3}\\left(\\begin{array}{l}0 \\\\ 0 \\\\ 1\\end{array}\\right)$ \n",
        "\n",
        "> $|\\Psi\\rangle = \\left(\\begin{array}{l}a_{1} \\\\ 0 \\\\ 0\\end{array}\\right)+\\left(\\begin{array}{l}0 \\\\ a_{2} \\\\ 0\\end{array}\\right)+\\left(\\begin{array}{l}0 \\\\ 0 \\\\ a_{3}\\end{array}\\right)$\n",
        "\n",
        "> $|\\Psi\\rangle=\\left(\\begin{array}{l}a_{1} \\\\ a_{2} \\\\ a_{3}\\end{array}\\right)$\n"
      ]
    },
    {
      "cell_type": "markdown",
      "metadata": {
        "id": "QFoHY3uxjQkE"
      },
      "source": [
        "**Where basis vectors $X = \\left(\\begin{array}{l}1 \\\\ 0 \\\\ 0\\end{array}\\right)$, $Y = \\left(\\begin{array}{l}0 \\\\ 1 \\\\ 0\\end{array}\\right)$ and $Z = \\left(\\begin{array}{l}0 \\\\ 0 \\\\ 1\\end{array}\\right)$ correspond to possibe measurement outcomes (spin up or down for example)**:\n",
        "\n",
        "> $|\\Psi\\rangle=a_{1} |X\\rangle +a_{2} |Y\\rangle + a_{3} |Z\\rangle$"
      ]
    },
    {
      "cell_type": "markdown",
      "metadata": {
        "id": "9yQEer_yrPP3"
      },
      "source": [
        "**Quantum System & Quantum States**\n",
        "\n",
        "* First, imagine we have a **quantum mechanical system**, like a single electron, an electron orbiting a nucleus or a photon. And we have possible **outcomes** that we want to measure in this system, for example spin up or spin down as possible properties of an electron.\n",
        "\n",
        "* Second, you have **basis vectors** that represent these possible outcomes of the state in a system. 1 for spin up and 0 for spin down. They are orthogonal to each other (and hence their inner product is zero). These possible outcomes are called **'quantum states'**. The simplest quantum state is one with 2 outcomes, also called qbit. "
      ]
    },
    {
      "cell_type": "markdown",
      "metadata": {
        "id": "pnHrVsDOfGIC"
      },
      "source": [
        "**Superposition, Probability Amplitudes, Stochastic Vector & Wave Function**\n",
        "\n",
        "* When quantum system is left alone, during an unmeasured state, it is in a soup of all possible states it could be in. This is called [**quantum superposition**](https://en.wikipedia.org/wiki/Quantum_superposition). In this case we write the wave function of the electron as a superposition of the two possible states. It's a linear combination of both states:\n",
        "\n",
        "> $\\mid \\psi\\rangle$ = $|\\uparrow\\rangle \\quad \\text{+} \\quad |\\downarrow\\rangle$\n",
        "\n",
        "* You can visualize this on a Bloch sphere (here comes the linearity into place). \n",
        "\n",
        "* Now we need to assign a probability to each of the states $\\alpha_0$ and $\\alpha_1$, which means we assign a coefficients for each basis vector (=the outcomes). These are not probabilities in the classical sense, but **probability amplitudes**. Its entries are also not restricted to real numbers, **entries are complex numbers $C$**. (That's why normalization happens in [2 norm (Euclidean norm)](https://de.wikipedia.org/wiki/Euklidische_Norm) to normalize to 1, because of the complex number space.)\n",
        "\n",
        "> $\\mid \\psi\\rangle$ = $\\alpha_1 |\\uparrow\\rangle \\quad \\text{+} \\quad \\alpha_0 |\\downarrow\\rangle$ bzw. numerical fur spin up & down:\n",
        "\n",
        "> $\\mid \\psi\\rangle$ = $\\alpha_1 |\\text{1} \\rangle \\quad \\text{+} \\quad \\alpha_0 |\\text{0}\\rangle$\n",
        "\n",
        "* 1 and 0 (spin up and down) are the basis vectors one-ket and zero-ket and $\\alpha_1$ and $\\alpha_0$ are the probability amplitudes coefficients for each possible state. Together they form the wave function of the quantum state of our system.\n",
        "\n",
        "* Out of all coefficients of the quantum state $\\alpha_0$, $\\alpha_1$, etc.. we can write as a column vector, the **stochastic vector**. It represents ($\\doteq$) the **wave function** of a quantum system ('psi'). It's name is **'Ket'**.\n",
        "\n",
        "> **Ket: $|\\psi\\rangle$ $\\doteq$ $\\left[\\begin{array}{l}a_{0} \\\\ a_{1}\\end{array}\\right]$**\n",
        "\n",
        "* So, the **superposition is the expansion of the vector in a basis** (= possible outcomes), consisting of basis vectors zero-ket and one-ket.\n"
      ]
    },
    {
      "cell_type": "markdown",
      "metadata": {
        "id": "OuqAMUec13dc"
      },
      "source": [
        "**Visualization of qubit states: Bloch Sphere**\n",
        "\n",
        "* [**Bloch sphere**](https://de.m.wikipedia.org/wiki/Bloch-Kugel)\n",
        "\n",
        "* looks like 1 and 0 are oil the same line, but be careful: orthogonality is a little bit different on the Bloch sphere\n",
        "\n",
        "* Die Bloch-Kugel wird in der Quantenmechanik verwendet, um den Zustand eines Zweizustandssystems (beispielsweise eines Qubits) grafisch darzustellen, nämlich als Punkt auf einer Kugeloberfläche. \n",
        "\n",
        "* Zwei reine Zustände (pure states) sind orthogonal, wenn ihre Bloch-Vektoren sich an genau gegenüberliegenden Punkten auf der Bloch-Kugel befinden.\n",
        "  \n",
        "* In der Mitte der Blochkugel liegt der vollständig gemischte Zustand (mixed state), dessen Blochvektor der Nullvektor ist.\n",
        "\n",
        "* Siehe auch [Zweizustandsystem](https://de.m.wikipedia.org/wiki/Zweizustandssystem)\n",
        "\n",
        "* **every single point on the Bloch sphere is a qubit state**. Much larger representative power than in classic probability. "
      ]
    },
    {
      "cell_type": "markdown",
      "metadata": {
        "id": "NhqOGCR7nNOr"
      },
      "source": [
        "![geometry](https://raw.githubusercontent.com/deltorobarba/repo/master/quantum_003a.png)"
      ]
    },
    {
      "cell_type": "markdown",
      "metadata": {
        "id": "N_1O47HSCki0"
      },
      "source": [
        "**Notation Details for the sum over all quantum states in many $u_{i}$ basis**\n",
        "\n",
        "* We expand the Ket psi in the basis u, where the expansion coefficients c are given by the Braket between u and psi:\n",
        "\n",
        "> $|\\psi\\rangle=\\sum_{i} c_{i}\\left|u_{i}\\right\\rangle = c_{1} * u_{1} + c_{2} * u_{2} .. + c_{i}* u_{i} = c_{1}\\left(\\begin{array}{l}1 \\\\ 0 \\\\ 0\\end{array}\\right)+{c_{2}}\\left(\\begin{array}{l}0 \\\\ 1 \\\\ 0\\end{array}\\right)+.. c_{i}\\left(\\begin{array}{l}0 \\\\ 0 \\\\ i\\end{array}\\right) \\quad =\\left\\langle u_{i} \\mid \\psi\\right\\rangle$\n",
        "\n",
        "* This c cofficients are what we call **representation of the Ket psi in the u basis**.\n",
        "* To define the matrix formulation pf Kets we rearrange this coefficient c into a column vector. And we can do it either in terms of the brakets u and psi, or directly in terms of the expansion coefficient c.\n",
        "* Therefore, in the matrix formulation of quantum mechanics Kets are written as column vectors.\n",
        "\n",
        "> $\\left(\\begin{array}{c}\\langle u_{1} \\mid \\psi\\rangle \\\\ \\left\\langle u_{2} \\mid \\psi\\right\\rangle \\\\ \\vdots \\\\ \\left\\langle u_{i} \\mid \\psi\\right\\rangle \\\\ \\vdots\\end{array}\\right)=\\left(\\begin{array}{c}c_{1} \\\\ c_{2} \\\\ \\vdots \\\\ c_{i} \\\\ \\vdots \\\\ \\end{array}\\right)$"
      ]
    },
    {
      "cell_type": "markdown",
      "metadata": {
        "id": "r5iRqWX5srNN"
      },
      "source": [
        "<font color=\"blue\">**Multiple Qubits**</font> (Tensor Product States)"
      ]
    },
    {
      "cell_type": "markdown",
      "metadata": {
        "id": "8BQIZHeJtV0X"
      },
      "source": [
        "![geometry](https://raw.githubusercontent.com/deltorobarba/repo/master/quantum_004.png)"
      ]
    },
    {
      "cell_type": "markdown",
      "metadata": {
        "id": "oPrJ5_AjPQfg"
      },
      "source": [
        "**Tensor Product States**\n",
        "\n",
        "* now we construct larger states with multiple qubits\n",
        "\n",
        "* **we use the tensor product between kets**. With that we can create a basis, in the notation you contract them and drop one |> sign, so instead of |0>|0> you write: |00>\n",
        "\n",
        "* you get the 4 canonical basis vectors in a 4 dimensional complex space\n",
        "\n",
        "* convention in most quantum computing libraries: the rightmost qubit is the qubit zero, same order as representing binary values in classic computing."
      ]
    },
    {
      "cell_type": "markdown",
      "metadata": {
        "id": "q3-zqqxXDq-p"
      },
      "source": [
        "###### **<font color=\"blue\">Bra $\\langle\\psi|$</font> (conjugate transpose of Ket)**"
      ]
    },
    {
      "cell_type": "markdown",
      "metadata": {
        "id": "yli_Tsn1RlRp"
      },
      "source": [
        "The coefficients of a quantum vector $\\vec{v}=$<font color='blue'>$\\left(\\begin{array}{l}2 \\\\ 3 \\\\ 0\\end{array}\\right)$</font> are complex numbers with an imaginary part:\n",
        "\n",
        "$z=x+1 y$\n",
        "\n",
        "You can create the conjugate of complex numbers (flip the sign of i):\n",
        "\n",
        "$z^*=x-1 y$"
      ]
    },
    {
      "cell_type": "markdown",
      "metadata": {
        "id": "erR-cpUydgOx"
      },
      "source": [
        "So that means:\n",
        "\n",
        "> $|\\Psi\\rangle=a_{1}\\left(\\begin{array}{l}1 \\\\ 0 \\\\ 0\\end{array}\\right)+{a_{2}}\\left(\\begin{array}{l}0 \\\\ 1 \\\\ 0\\end{array}\\right)+a_{3}\\left(\\begin{array}{l}0 \\\\ 0 \\\\ 1\\end{array}\\right)$\n",
        "\n",
        "With the Ket in one vector:\n",
        "\n",
        "> $|\\Psi\\rangle=\\left(\\begin{array}{l}a_{1} \\\\ a_{2} \\\\ a_{3}\\end{array}\\right)$"
      ]
    },
    {
      "cell_type": "markdown",
      "metadata": {
        "id": "aGT9mIJajX2L"
      },
      "source": [
        "**Bra is then the conjugate transpose of Ket** (with the transpose symbol called \"dagger\". It's a row vector / one form / covector / dual space):\n",
        "\n",
        "> $\\langle\\Psi|=\\left(a_{1}^*, a_{2}^*, a_{3}^*\\right)$ = $\\left[\\begin{array}{ll}\\vec{a}_{1} & \\vec{a}_{2} & \\vec{a}_{3}\\end{array}\\right]$\n",
        "\n",
        "> $\\langle\\Psi| \\doteq | \\Psi\\rangle^{\\dagger}$"
      ]
    },
    {
      "cell_type": "markdown",
      "metadata": {
        "id": "dW-MBTjvb3fW"
      },
      "source": [
        "*See we use the \"represented by\" symbol $\\doteq$ and not the equal sign: Wichtig ist dabei, **dass $|v\\rangle$ und der dazugehörige Spaltenvektor $\\left(v_{1}, v_{2}, v_{3}, \\ldots, v_{m}\\right)^{T}$ nicht dasselbe mathematische Objekt sind und somit kein Gleichheitszeichen verwendet werden darf**. Dies wird insbesondere daran deutlich, dass die Bra-Ket-Schreibweise von der Wahl einer Basis unabhängig ist, während die Darstellung durch Koordinatenvektoren die Wahl einer Basis voraussetzt. Stattdessen sollte deutlich gemacht werden, dass es sich bei $\\left(a_{1}, a_{2}, a_{3}, \\ldots, a_{m}\\right)^{T}$ um die Darstellung von $|a\\rangle$ handelt. Dies kann durch die Verwendung von Zeichen wie $\\Rightarrow, \\doteq, \\leftrightarrow$* etc erfolgen.*"
      ]
    },
    {
      "cell_type": "markdown",
      "metadata": {
        "id": "ztkYlsKXFeqk"
      },
      "source": [
        "---\n",
        "\n",
        "\n",
        "> $\\langle\\psi|=\\sum_{i} c_{i}^{*}\\left\\langle u_{i}\\right| \\quad c_{i}^{*}=\\left\\langle\\psi \\mid u_{i}\\right\\rangle=\\left\\langle u_{i} \\mid \\psi\\right\\rangle^{*}$\n",
        "\n",
        "* we expand the Bra psi in the basis u in terms of the same expansion coefficient c that we used to expand the corresponding ket. \n",
        "* But in this case the expansion coefficients are the **complex conjugates** C*\n",
        "* To define the matrix formulation of bra‘s we arrange this coefficient into a row vector\n",
        "* We can do this in terms of the braket psi u or in terms of the complex conjugates of the C coefficients\n",
        "* Therefore Bra‘s are written as row vectors\n",
        "\n",
        "> $\\left(\\left\\langle\\psi \\mid u_{1}\\right\\rangle\\left\\langle\\psi \\mid u_{2}\\right\\rangle \\cdots\\left\\langle\\psi \\mid u_{i}\\right\\rangle \\cdots\\right)$\n",
        "\n",
        "> $=\\left(\\begin{array}{lllll}c_{1}^{*} & c_{2}^{*} & \\cdots & c_{i}^{*} & \\cdots\\end{array}\\right)$"
      ]
    },
    {
      "cell_type": "markdown",
      "metadata": {
        "id": "60DM3PNGUhDg"
      },
      "source": [
        "###### **<font color=\"blue\">Bra-Ket $\\langle\\psi|\\psi\\rangle$</font> or <font color=\"blue\">$\\langle\\Phi \\mid \\Psi\\rangle$</font> (Inner product)**"
      ]
    },
    {
      "cell_type": "markdown",
      "metadata": {
        "id": "QFGqjBpBFOmX"
      },
      "source": [
        "* In der [**Dirac Notation (Bra Ket Notation)**](https://de.m.wikipedia.org/wiki/Dirac-Notation) schreibt man die Vektoren eines Vektorraums $V$ auch außerhalb eines Skalarprodukts mit einer spitzen Klammer als Ket $|v\\rangle$. \n",
        "\n",
        "* Jedem Ket $|v\\rangle$ entspricht ein Bra $\\langle v|$, der dem Dualraum $V^{*}$ angehört, also eine lineare Abbildung von $V$ in den zu Grunde liegenden Körper $K$ repräsentiert, und umgekehrt. \n",
        "\n",
        "* Das Ergebnis der Operation eines Bras $\\langle v|$ auf einen Ket $|w\\rangle$ wird $\\langle v \\mid w\\rangle$ geschrieben, womit der Zusammenhang mit der konventionellen Notation des Skalarprodukts hergestellt ist. We can use the <font color=\"blue\">$\\langle\\text{bra}|\\text{ket}\\rangle$</font> notation to write a scalar product conveniently as a “bra-ket”.\n"
      ]
    },
    {
      "cell_type": "markdown",
      "metadata": {
        "id": "28ZYgNbTUds8"
      },
      "source": [
        "**Case 1: Inner product of two different vectors**:\n",
        "\n",
        "For example, the scalar product between two different vectors is the sum over the products of the coefficients \n",
        "\n",
        "(and be careful: the Bra vector $|\\Phi\\rangle$ has complex conjugates over its coefficients here):\n",
        "\n",
        "\n",
        "$|\\Psi\\rangle=\\left(\\begin{array}{l}a_{1} \\\\ a_{2} \\\\ a_{3}\\end{array}\\right)$\n",
        "\n",
        "$|\\Phi\\rangle=\\left(\\begin{array}{l}c_{1} \\\\ c_{2} \\\\ c_{3}\\end{array}\\right)$\n",
        "\n",
        "$\\langle\\Phi \\mid \\Psi\\rangle=a_{1} c_{1}^{*}+b, c_{2}^{*}+a_{3} c_{3}^{*}$ = a scalar"
      ]
    },
    {
      "cell_type": "markdown",
      "metadata": {
        "id": "LTI8NaRsRAU6"
      },
      "source": [
        "**Case 2: Inner product of one vector (with all basis vectors)**:\n",
        "\n",
        "* With this bra-ket notation it's now very easy to write dot products = the **inner product between Bra and Ket which is $\\langle\\psi \\mid \\psi\\rangle$ = 1**, and it is normalized the result is 1(it's a particular way of writing the 2-norm when using complex inputs). \n",
        "\n",
        "* With the dot product of bra and ket you will get a **scalar as a result**, like total probability is 1, here for the coefficients (probability amplitudes):\n",
        "\n",
        "> $\\langle\\psi \\mid \\psi\\rangle = \\left|a_{0}\\right|^{2}+\\left|a_{1}\\right|^{2}= 1$\n",
        "\n",
        "> The Bra-Ket $\\langle\\psi \\mid \\psi\\rangle$  represents the inner product in the Hilbert space\n",
        "\n",
        "* **The probability to get ANY measurement outcome is equal to one, which means that the sum over the squared scalar products with all basis vectors has to be one. Which is just the length of the vector (all wave functions have length 1)**:\n",
        "\n",
        "> $1=a_{1} a_{1}^{*}+a_{2} a_{2}^{*}+a_{3} a_{3}^{*}=|\\langle \\Psi \\mid \\Psi\\rangle|^{2}$"
      ]
    },
    {
      "cell_type": "markdown",
      "metadata": {
        "id": "-rsFgaBYjzXX"
      },
      "source": [
        "**Case 3: Inner product of two basis vectors**:\n",
        "\n",
        "And in that case of their pure basis it's zero, because these are two orthogonal vectors:\n",
        "\n",
        "> $\\langle 0 \\mid 1\\rangle=[1,0]\\left[\\begin{array}{l}0 \\\\ 1\\end{array}\\right] = 0$"
      ]
    },
    {
      "cell_type": "markdown",
      "metadata": {
        "id": "w9mIb4d3jXPm"
      },
      "source": [
        "https://www.youtube.com/watch?v=fIYIFCVICcA&t=61s"
      ]
    },
    {
      "cell_type": "markdown",
      "metadata": {
        "id": "QbX8G_SKTW06"
      },
      "source": [
        "###### **<font color=\"blue\">Ket-Bra $\\hat{\\rho}$</font> (Density Matrix, Mixed States & Decoherence)**"
      ]
    },
    {
      "cell_type": "markdown",
      "metadata": {
        "id": "HWAvARAnenVl"
      },
      "source": [
        "**Ket-Bra = Dennity Matrix: You need it to understand decoherence**\n",
        "\n",
        "> $\\mid \\Psi X \\Psi\\mid =\\left(\\begin{array}{lll}a_{1} a_{1}^{*} & a_{1} a_{2}^{*} & a_{1} a_{3}^{*} \\\\ a_{2} a_{1}^{*} & a_{2} a_{2}^{*} & a_{2} a_{3}^{*} \\\\ a_{3} a_{1}^{*} & a_{3} a_{2}^{*} & a_{3} a_{3}^{*}\\end{array}\\right)$"
      ]
    },
    {
      "cell_type": "markdown",
      "metadata": {
        "id": "2JYkz7MggCCw"
      },
      "source": [
        "Decoherence: https://www.youtube.com/watch?v=igsuIuI_HAQ"
      ]
    },
    {
      "cell_type": "markdown",
      "metadata": {
        "id": "eACrJ2znLwNE"
      },
      "source": [
        "**Wave function notation to describe superposition of Pure States**"
      ]
    },
    {
      "cell_type": "markdown",
      "metadata": {
        "id": "-TYgLBnP5snV"
      },
      "source": [
        "* Spin up or spin down = **pure states**, can be written as a single wave function $\\mid \\psi\\rangle$\n",
        "\n",
        "* instead of using bra and ket notation to represent the particle's possible spin states, we will now use vectors, for example spin up = $|\\psi\\rangle=\\left(\\begin{array}{l}1 \\\\ 0\\end{array}\\right)$ and spin down = $|\\psi\\rangle=\\left(\\begin{array}{l}0 \\\\ 1\\end{array}\\right)$\n",
        "\n",
        "* a superposition would look like this: $|\\psi\\rangle=\\frac{1}{\\sqrt{2}}\\left(\\begin{array}{l}1 \\\\ 0\\end{array}\\right)+\\frac{1}{\\sqrt{2}}\\left(\\begin{array}{l}0 \\\\ 1\\end{array}\\right)$\n",
        "\n",
        "\n",
        "* this is still a pure state as a single vector: $|\\psi\\rangle=\\left(\\begin{array}{l}1 / \\sqrt{2} \\\\ 1 / \\sqrt{2} \\end{array}\\right)$\n",
        "\n",
        "\n"
      ]
    },
    {
      "cell_type": "markdown",
      "metadata": {
        "id": "aDbVVZ8CQaRQ"
      },
      "source": [
        "**Density Matrix for Mixed States**"
      ]
    },
    {
      "cell_type": "markdown",
      "metadata": {
        "id": "BNaYgpSDQMmg"
      },
      "source": [
        "* **Mixed state**: lack of information about the system, hence for example giving equal probability to each possible outcome.\n",
        "\n",
        "* **When dealing with a mixed state we need to represent it with what's known as a density operator or density matrix**.\n",
        "\n",
        "* Wave function notation $|\\psi\\rangle$ can only be used to describe pure states. But density matrices $|\\psi\\rangle\\langle\\psi|$ can be used to describe mixed and pure states.\n",
        "\n",
        "* and how do we get the density matrix? - Take the column vector, turn it into a row vector, and then multiply them both:\n",
        "\n",
        "> $(\\hat{\\rho})$ $=\\left(\\begin{array}{l}1 \\\\ 0\\end{array}\\right) \\times\\left(\\begin{array}{ll}1 & 0\\end{array}\\right)$ = $\\left(\\begin{array}{ll}1 & 0 \\\\ 0 & 0\\end{array}\\right)$"
      ]
    },
    {
      "cell_type": "markdown",
      "metadata": {
        "id": "4sbrbwwVRLrg"
      },
      "source": [
        "On top of that you can even add several mixed states to get one final mixed states. Mixed state: our knowledge of the system is limited. It could be either one of multiple psi states. \n",
        "\n",
        "* Image 1: We have to add up the density matrices of each possible spin state whilst making sure that we weight it with the probability of it being in that psi state\n",
        "\n",
        "* Image 2: That would give us the final density matrix, which is the mixture in the mixed state. \n",
        "\n",
        "* Image 3: it is for this reason that there is no way to write a mixed state as a single wave function or a single vector. We have to deal with matrices that represent the different pure states in which our system could be. And each of these density matrices has to be weighted by how likely it is that our system is on that pure that."
      ]
    },
    {
      "cell_type": "markdown",
      "metadata": {
        "id": "fMslW1ms-4vT"
      },
      "source": [
        "![geometry](https://raw.githubusercontent.com/deltorobarba/repo/master/quantum_006a.png)"
      ]
    },
    {
      "cell_type": "markdown",
      "metadata": {
        "id": "tReGBYVQBd2-"
      },
      "source": [
        "See als https://en.m.wikipedia.org/wiki/Quantum_state#Mixed_states \n",
        "\n",
        "and https://en.m.wikipedia.org/wiki/Density_matrix"
      ]
    },
    {
      "cell_type": "markdown",
      "metadata": {
        "id": "oFJ8OCn8_Der"
      },
      "source": [
        "\n",
        "Parth G: https://www.youtube.com/watch?v=ZAOc4eMTQiw"
      ]
    },
    {
      "cell_type": "markdown",
      "metadata": {
        "id": "aALAjQGEMvhl"
      },
      "source": [
        "And also prof m: https://www.youtube.com/watch?v=LR5kfhrs4Cc"
      ]
    },
    {
      "cell_type": "markdown",
      "metadata": {
        "id": "ibWnEVWoTtqd"
      },
      "source": [
        "![geometry](https://raw.githubusercontent.com/deltorobarba/repo/master/quantum_006.png)"
      ]
    },
    {
      "cell_type": "markdown",
      "metadata": {
        "id": "RVm2Y7YwXX87"
      },
      "source": [
        "* to talk about noise and how it affects quantum states, we have to introduce a bit more notation\n",
        "\n",
        "* **mixed states: factor in noise that affects today's quantum computers**\n",
        "\n",
        "* a ket is technically a pure quantum state\n",
        "\n",
        "* **a density matrix $\\rho$ is a ket and a bra: | $\\Phi$ >< $\\Phi$ | = | $\\Phi$ X $\\Phi$ |**\n",
        "\n",
        "* now we can rewrite every single operation that we would otherwise do in a ket in this new formalism. "
      ]
    },
    {
      "cell_type": "markdown",
      "metadata": {
        "id": "JWwIunpkSAFx"
      },
      "source": [
        "**Get Coherences from Eigenvalues in Trace of Mixed Matrices**"
      ]
    },
    {
      "cell_type": "markdown",
      "metadata": {
        "id": "gzBgrWYbofZZ"
      },
      "source": [
        "The coherent state describes a state in a system for which the ground-state wavepacket is displaced from the origin of the system. This state can be related to classical solutions by a particle oscillating with an amplitude equivalent to the displacement. \n",
        "\n",
        "**These coherent states are expressed as eigenvectors** of the lowering operator and forming an overcomplete family. "
      ]
    },
    {
      "cell_type": "markdown",
      "metadata": {
        "id": "_5CsYquI5eTF"
      },
      "source": [
        "* For example to get the probability of the outcome 0, \n",
        "\n",
        "\t* we apply the same projection | 0 X 0 | as we applied in a ket but this time we apply it on this Rho density $\\rho$\n",
        "\n",
        "\t* **And instead of the length of the vector, we take the trace of the matrix.** (Die Spur einer Matrix ist die Summe ihrer Eigenwerte)\n",
        "\n",
        "\t* so we apply the one matrix to the other matrix and the outcome is another matrix. Then we calculate the trace Tr of it which is the sum of its diagonal elements\n",
        "\n",
        "* **This way we can create probabilistic mixtures over pure states.** You can take a pure quantum state but you can create a classical probability distribution over them \"$\\sum$ p:\" (classical ignorance)\n",
        "\n",
        "* if you use this formalism now we can introduce noise, and start making these noisy imperfect quantum states.\n",
        "\n",
        "* you will get different outcomes, and the **off-diagonal elements** (Spur) are critical for many quantum operations, **sometimes also called coherences.** (Eigenvalues / Eigenvectors? https://en.m.wikipedia.org/wiki/Coherent_state)\n",
        "\n",
        "* the other than below is a maximally mixed state. It's the equivalent of a uniform distribution in classical probability theory. This means we have absolutely no predictive power of what's going to happen next. Etrnopy of this state is maximal. \n",
        "\n",
        "* but ideally we want a quantum states with a high coherence (like the other matrix above) but in reality noise affects these coherences disappear. Like in the maximally mixed state. "
      ]
    },
    {
      "cell_type": "markdown",
      "metadata": {
        "id": "E5iz0q5t5aQT"
      },
      "source": [
        "So let's have a look what happens if we measure individual qubits in a multi qubit system:\n",
        "\n",
        "* imagine we have the maximally entailed state over two qubits: see rest in video\n",
        "\n",
        "* partial trace: in multivariate probability distribution we can marginalize out one of our random variables. In a quantum system you do this by using the partial trace.\n",
        "\n",
        "\t* let's write our maximally entangled state as a density matrix, and it has strong coherences (0,5 everywhere in corners)\n",
        "\n",
        "\t* and you get the maximally mixed state at the end\n",
        "\n",
        "\t* this means if we marginalize out on one of the qubits in the system then we end up with a uniform distribution - we have absolutely no productive power of what is going to happen in that remaining quantum system"
      ]
    },
    {
      "cell_type": "markdown",
      "metadata": {
        "id": "Q3x3Q4IUTdX_"
      },
      "source": [
        "https://www.youtube.com/watch?v=BE8RxAESx5I&list=PLBn8lN0Dcvpla6a6omBni1rjyQJ4CssTP&index=46"
      ]
    },
    {
      "cell_type": "markdown",
      "metadata": {
        "id": "mXgnLYX-FpXa"
      },
      "source": [
        "###### **<font color=\"blue\">Quantum Measurement</font> (Born's Rule, Projection, Interference, Measurement Update)**"
      ]
    },
    {
      "cell_type": "markdown",
      "metadata": {
        "id": "O_1EP1gCgcvW"
      },
      "source": [
        "**Measurement ('collapse of the wavefunction')**\n",
        "\n",
        "* When you measure, the wave function collapses and you get one clear value. **<u>It's the absolute value squared like |$a_0$|$^2$ that gives you the probability</u> = collapse of the wave function**. \n",
        "\n",
        "* Outcome for example zero with the absolute value of zero squared. Then you know the state is in the zero state = collapse of the wave function\n",
        "\n",
        "* Quantum state is also called a wave function: once you pull out a sample of the distribution and you get an outcome, you make an observation then you get a deterministic state afterwards of the random outcome."
      ]
    },
    {
      "cell_type": "markdown",
      "metadata": {
        "id": "KqFzG3j7ZUTJ"
      },
      "source": [
        "**The probability to get ANY measurement outcome is equal to one, which means that the sum over the squared scalar products with all basis vectors has to be one. Which is just the length of the vector (all wave functions have length 1)**:\n",
        "\n",
        "> $1=a_{1} a_{1}^{*}+a_{2} a_{2}^{*}+a_{3} a_{3}^{*}=|\\langle \\Psi \\mid \\Psi\\rangle|^{2}$\n",
        "\n",
        "where $\\mid \\Psi\\rangle$ is the wavefunction of the probability superposition, then multiplied with itself, which gives length 1."
      ]
    },
    {
      "cell_type": "markdown",
      "metadata": {
        "id": "0R3bDgUAZye6"
      },
      "source": [
        "**The probability of a particular measurement is then the absolute square of the scalar product with the basis vector that corresponds to the outcome (probability of measuring $X$ is). This is <u>Born's Rule</u>. This scalar product of the wave function with a basis vector is also sometimes called a <u>projection</u> on that basis vector:**\n",
        "\n",
        "> $|\\langle X \\mid \\Psi\\rangle|^{2}=a_{1} a_{1}^{*}$\n",
        "\n",
        "where $\\mid \\Psi\\rangle$ is the wavefunction of the probability superposition and $\\langle X \\mid$ is the basis vector of one outcome."
      ]
    },
    {
      "cell_type": "markdown",
      "metadata": {
        "id": "FPX_Cp73rRwU"
      },
      "source": [
        "**Later comes this part (how to connect?)**\n",
        "\n",
        "> $|0\\rangle\\langle 0| =$ $\\left[\\begin{array}{l}1 \\\\ 0\\end{array}\\right]\\left[\\begin{array}{ll}1 & 0\\end{array}\\right]=\\left[\\begin{array}{ll}1 & 0 \\\\ 0 & 0\\end{array}\\right]$\n",
        "\n",
        "*A measurement outcome is actually a projection (to the first basis vector)*\n",
        "\n",
        "* So if we want to model that we get the outcome 0, then we take the corresponding projection | 0 X 0 | and we apply it on the quantum state: | 0 X 0 | $\\Phi$> . \n",
        "\n",
        "* this is how you pull out samples from a quantum state and how you apply measurement to this particular probability distribution"
      ]
    },
    {
      "cell_type": "markdown",
      "metadata": {
        "id": "BHBqAboRbG5j"
      },
      "source": [
        "It’s called a projection because it’s the length you get if you project the full wave-function on the direction that corresponds to the basis vector. Like a vector casting a shadow (in blue)\n",
        "\n",
        "![geometry](https://raw.githubusercontent.com/deltorobarba/repo/master/quantum_015.png)"
      ]
    },
    {
      "cell_type": "markdown",
      "metadata": {
        "id": "uJJA9NI8cVwJ"
      },
      "source": [
        "The whole issue with the measurement in quantum mechanics is now that once you do a measurement, and you have projected th wave-function onto one of the basis vectors, then its length will no longer be equal to one because the probability of getting this particular measurement outcome may have been smaller than 1. \n",
        "\n",
        "But, once you have measured the state, it is with probability 1 in one of the basis vectors. So then you have to choose the measurement outcome that you actually fund and stretch the length of the vector back to 1. This is what is called the <u>measurement update</u> (look how the blue vector got longer!)\n",
        "\n",
        "![geometry](https://raw.githubusercontent.com/deltorobarba/repo/master/quantum_016.png)"
      ]
    },
    {
      "cell_type": "markdown",
      "metadata": {
        "id": "AsAmVnHQbiyN"
      },
      "source": [
        "https://www.youtube.com/watch?v=ctXDXABJRtg"
      ]
    },
    {
      "cell_type": "markdown",
      "metadata": {
        "id": "d52Hry6hYoKF"
      },
      "source": [
        "Remember, you have an (orthonormal) basis with 3 vectors and coefficients, to describe a vector in space (in Hilbert space):\n",
        "\n",
        "> $\\vec{v}=$<font color='blue'>$2$</font>$\\left(\\begin{array}{l}1 \\\\ 0 \\\\ 0\\end{array}\\right)$<font color='blue'>$+3$</font>$\\left(\\begin{array}{l}0 \\\\ 1 \\\\ 0\\end{array}\\right)$<font color='blue'>$+0$</font>$\\left(\\begin{array}{l}0 \\\\ 0 \\\\ 1\\end{array}\\right)$\n",
        "\n",
        "And the coefficients can be collected in one vector and are copmplex numbers:\n",
        "\n",
        "> $\\vec{v}=$<font color='blue'>$\\left(\\begin{array}{l}2 \\\\ 3 \\\\ 0\\end{array}\\right)$</font>\n",
        "\n",
        "**Or written formally**:\n",
        "\n",
        "> $|\\Psi\\rangle=a_{1}\\left(\\begin{array}{l}1 \\\\ 0 \\\\ 0\\end{array}\\right)+{a_{2}}\\left(\\begin{array}{l}0 \\\\ 1 \\\\ 0\\end{array}\\right)+a_{3}\\left(\\begin{array}{l}0 \\\\ 0 \\\\ 1\\end{array}\\right)$\n",
        "\n",
        "> $|\\Psi\\rangle=\\left(\\begin{array}{l}a_{1} \\\\ a_{2} \\\\ a_{3}\\end{array}\\right)$\n",
        "\n",
        "\n",
        "Where basis vectors $X, Y, Z$ correspond to possibe measurement outcomes:\n",
        "\n",
        "> $|\\Psi\\rangle=a_{1} |X\\rangle +a_{2} |Y\\rangle + a_{3} |Z\\rangle$\n"
      ]
    },
    {
      "cell_type": "markdown",
      "metadata": {
        "id": "kHDmRMQ0vYqh"
      },
      "source": [
        "**Collapse of the wave function**\n",
        "\n",
        "* when we measure it, will only be 100% in one of the two states\n",
        "\n",
        "> $|\\uparrow\\rangle \\quad \\text{OR} \\quad |\\downarrow\\rangle$\n",
        "\n",
        "* the coefficients $\\alpha$ and $\\beta$ are directly linked to the **probability** finding each one after a measurement\n",
        "\n",
        "* This probability is for each state actually absolute value squared: $(|\\alpha|)^2$\n",
        "\n",
        "* we can only predict the probability of an outcome of a measurement, not knowing for sure what will happen"
      ]
    },
    {
      "cell_type": "markdown",
      "metadata": {
        "id": "-1E3GVo-xn15"
      },
      "source": [
        "**Vectors**\n",
        "\n",
        "* this measurement (=electron with spin up or spin down) can be also thought of **as a vector in an abstract space (Hilbert space)**\n",
        "\n",
        "* the two possible outcomes are orthogonal vectors in this space - it's an abstract mathematical space. the two outcomes are not really orthogonally pointed\n",
        "\n",
        "* the inner product between two states is = 0, because they are orthogonal to each other\n",
        "\n",
        "> $\\langle \\uparrow \\mid \\downarrow \\rangle =  0$\n",
        "\n",
        "* in the superposition, as a vector it is a **linear combination** of both states (some amount of spin up PLUS some amount of spin down)\n"
      ]
    },
    {
      "cell_type": "markdown",
      "metadata": {
        "id": "1igh_3RbNYbc"
      },
      "source": [
        "See also: https://en.m.wikipedia.org/wiki/Born_rule"
      ]
    },
    {
      "cell_type": "markdown",
      "metadata": {
        "id": "xZKnO1Baz_OT"
      },
      "source": [
        "![geometry](https://raw.githubusercontent.com/deltorobarba/repo/master/quantum_003b.png)"
      ]
    },
    {
      "cell_type": "markdown",
      "metadata": {
        "id": "kwr5zndW1yET"
      },
      "source": [
        "**Interference:** \n",
        "\n",
        "* we cannot do on classical computers. While different vectors and coefficients interact in calculations. \n",
        "\n",
        "* There is an operator (as a matrix in the image) that transforms the zero-ket into the equal superposition of the zero-ket and the one-ket. \n",
        "\n",
        "* if I take this outcome and apply the same operator on it again, something interesting happens (it's a linear operator btw): results cancel out and you get a deterministic outcome by applying the operator again. \n",
        "  \n",
        "* This is an example of intereference. The probability amplitudes of the zero ket destructively interfere; they vanish for the superposition. "
      ]
    },
    {
      "cell_type": "markdown",
      "metadata": {
        "id": "weHKGn1DtC3-"
      },
      "source": [
        "https://www.youtube.com/watch?v=Y5WRv_9757A&list=PLBn8lN0Dcvpla6a6omBni1rjyQJ4CssTP&index=43"
      ]
    },
    {
      "cell_type": "markdown",
      "metadata": {
        "id": "tOJrnodZ2AJ5"
      },
      "source": [
        "https://www.youtube.com/watch?v=payp7simhBM"
      ]
    },
    {
      "cell_type": "markdown",
      "metadata": {
        "id": "GN32DC3rwxMN"
      },
      "source": [
        "**Born rule**"
      ]
    },
    {
      "cell_type": "markdown",
      "metadata": {
        "id": "g5C4ycm1xLaw"
      },
      "source": [
        "![geometry](https://raw.githubusercontent.com/deltorobarba/repo/master/quantum_005.png)"
      ]
    },
    {
      "cell_type": "markdown",
      "metadata": {
        "id": "rD0zqJ-Aw0D6"
      },
      "source": [
        "https://www.youtube.com/watch?v=aVFe08G0uYk&list=PLBn8lN0Dcvpla6a6omBni1rjyQJ4CssTP&index=45"
      ]
    },
    {
      "cell_type": "markdown",
      "metadata": {
        "id": "rIMlLhynTUvk"
      },
      "source": [
        "\n",
        "\n",
        "\n",
        "* the other way around ket-bra would give you a **matrix as a result** (So order makes a big difference). This is nothing else than the projection to this partially basis vector.\n",
        "\n",
        "> $|0\\rangle\\langle 0| =$ $\\left[\\begin{array}{l}1 \\\\ 0\\end{array}\\right]\\left[\\begin{array}{ll}1 & 0\\end{array}\\right]=\\left[\\begin{array}{ll}1 & 0 \\\\ 0 & 0\\end{array}\\right]$\n",
        "\n",
        "https://www.mathpages.com/home/kmath638/kmath638.htm\n",
        "\n",
        "\n",
        "\n"
      ]
    },
    {
      "cell_type": "markdown",
      "metadata": {
        "id": "AW31S4IPGYLo"
      },
      "source": [
        "**The matrix is nothing else but the projection to the particular basis vector $|0\\rangle\\langle 0|$**\n",
        "\n",
        "* Measurements are very similar to random variables in classical probability. \n",
        "\n",
        "* the state afterwards becomes the zero ket\n",
        "\n",
        "* Measurements take measurement outcomes, this will be always random\n",
        "* Born rule: you get some outcome zero of a qubit state with probability |a0|2\n",
        "* The state afterwards becomes the zero ket |0>\n",
        "* So the superposition is destroyed , and you only get one part of the superposition\n",
        "* It is random which part you get with a certain probability = collapse of the wave function\n",
        "* The way we write it down is actually with the formalism from before (ket bra multiplication)\n",
        "\n",
        "**A measurement outcome is actually a projection (to the first basis vector)**\n",
        "\n",
        "* So if we want to model that we get the outcome 0, then we take the corresponding projection | 0 X 0 | and we apply it on the quantum state: | 0 X 0 | $\\Phi$> . \n",
        "\n",
        "* this is how you pull out samples from a quantum state and how you apply measurement to this particular probability distribution\n",
        "\n"
      ]
    },
    {
      "cell_type": "markdown",
      "metadata": {
        "id": "dHS0ZYlL1cD6"
      },
      "source": [
        "See also: https://en.m.wikipedia.org/wiki/Measurement_in_quantum_mechanics"
      ]
    },
    {
      "cell_type": "markdown",
      "metadata": {
        "id": "KcsUJNJYPcsA"
      },
      "source": [
        "**<font color=\"blue\">Entangled state</font>**"
      ]
    },
    {
      "cell_type": "markdown",
      "metadata": {
        "id": "cUwojaTQuYA3"
      },
      "source": [
        "\n",
        "\n",
        "* **these were called product states**, but there are also states which cannot be written in this form even though they live in the same space \n",
        "\n",
        "* One example is the Phi plus state | $\\Phi^+$ >, it's an equal super position of two basis vectors zero/zero and one/one. But cannot be written as a product vector: you get a results in an **entangled state**. "
      ]
    },
    {
      "cell_type": "markdown",
      "metadata": {
        "id": "InzOQGIjtGtA"
      },
      "source": [
        "https://www.youtube.com/watch?v=bNCC0YMLHuk&list=PLBn8lN0Dcvpla6a6omBni1rjyQJ4CssTP&index=44"
      ]
    },
    {
      "cell_type": "markdown",
      "metadata": {
        "id": "rl36-Dkq44wh"
      },
      "source": [
        "###### **<font color=\"blue\">Operators $\\hat{A}$ and $\\hat{A}^{\\dagger}$</font>**"
      ]
    },
    {
      "cell_type": "markdown",
      "metadata": {
        "id": "LS64wr_HgGky"
      },
      "source": [
        "Quantum Operators and Commutators: https://www.youtube.com/watch?v=so1szjHu7jY&t=1s"
      ]
    },
    {
      "cell_type": "markdown",
      "metadata": {
        "id": "w-IsJdof42Kw"
      },
      "source": [
        "> $\\hat{A}=\\sum_{i j} A_{i j}\\left|u_{i}\\right\\rangle\\left\\langle u_{j}\\right| \\quad A_{i j}=\\left\\langle u_{i}|\\hat{A}| u_{j}\\right\\rangle$\n",
        "\n",
        "* An operator A can be written in the u basis as the sum over the outer products of the basis states \n",
        "* And the expansion coefficients Aij are given by the matrix elements of A with respect to the basis states\n",
        "* The expansion coefficients for an operator are labeled by 2 indices, so we will arrange them in a form of a square matrix, with the first index denoting the row of the matrix and the second index the column of the matrix\n",
        "* There operators are written as matrices\n",
        "\n",
        "> $\\left(\\begin{array}{ccccc}A_{11} & A_{12} & \\cdots & A_{1 j} & \\cdots \\\\ A_{21} & A_{22} & \\cdots & A_{2 j} & \\cdots \\\\ \\vdots & \\vdots & & \\vdots & \\\\ A_{i 1} & A_{i 2} & \\cdots & A_{i j} & \\cdots \\\\ \\vdots & \\vdots & & \\vdots & \\end{array}\\right)$\n"
      ]
    },
    {
      "cell_type": "markdown",
      "metadata": {
        "id": "Y_i6bVsi6tNb"
      },
      "source": [
        "![geometry](https://raw.githubusercontent.com/deltorobarba/repo/master/quantum_005a.png)"
      ]
    },
    {
      "cell_type": "markdown",
      "metadata": {
        "id": "24Jr24udDpFZ"
      },
      "source": [
        "https://youtu.be/wIwnb1ldYTI"
      ]
    },
    {
      "cell_type": "markdown",
      "metadata": {
        "id": "fydLRSLFdRx5"
      },
      "source": [
        "###### **<font color=\"blue\">Hamilton Operator $\\mathcal{H}$ &  Eigenspectrum</font> (Classical Ising Model)**"
      ]
    },
    {
      "cell_type": "markdown",
      "metadata": {
        "id": "w8KFOM66dzW-"
      },
      "source": [
        "![geometry](https://raw.githubusercontent.com/deltorobarba/repo/master/quantum_009.png)"
      ]
    },
    {
      "cell_type": "markdown",
      "metadata": {
        "id": "l0BaXgE3dXKD"
      },
      "source": [
        "https://www.youtube.com/watch?v=Wy9YoEYv-fA&list=PLBn8lN0Dcvpla6a6omBni1rjyQJ4CssTP&index=49"
      ]
    },
    {
      "cell_type": "markdown",
      "metadata": {
        "id": "u2MxYzfBfzpU"
      },
      "source": [
        "* A spin is a two state system, like two magnets that you approach each other and then they anti-align, so this will be their optimal energy configuration\n",
        "\n",
        "* if you identify random variables with them, so sigma 1 = 1 for north up and sigma 2 = -1 for south up, and then you add another one and another one. You can write it as a sum of nearest neighbors. \n",
        "\n",
        "* this describes the energy of a system and we want to minimize it (naturally state in nature). \n",
        "\n",
        "* let's make it a bit more complicated: let's assume there is a wall that you can control between the magnets. With that you can change the strength of interaction between the individual pairs, you can change the coupling strengths - to include this in the equation, we add a term Ǝ\n",
        "\n",
        "* now we complicate it a bit more and add an external magnetic field below each of these individual magnets. If this magnet field is strong enough, it can flip the magnet with the South Pole pointing to top and flip it upside down. This means the external magnet will overwrite the interactions that happen between the individual magnets. We model this external magnetic field influence by adding one more term to the equation, which is goin to be the strengths of this field h and the actual sigma value, the value of the random value in that spot. \n",
        "\n",
        "* this is actually a very hard problem to solve in nature: if you look at the energy landscape of this problem, and what can happen is that they might get stuck in some local optimum. And by overcoming this local barrier they could attain a better configuration.\n",
        "\n",
        "* that's the same kind of problem we see in computer sciences in certain np hard problems: for example in the [quadratic unconstrained binary optimization problem (QUBO)](https://en.wikipedia.org/wiki/Quadratic_unconstrained_binary_optimization) it has a very similar form. You have binary random variables and you have some interaction strength between them (coefficients), and you have also a bias term affecting individual random variables. On a classical computer in the general case this takes exponentially many evaluations to find the global optimum. \n",
        "\n",
        "* so there is this natural correspondence between what's computationally hard and what's physically difficult to solve.\n",
        "\n"
      ]
    },
    {
      "cell_type": "markdown",
      "metadata": {
        "id": "V2EBk6SANPX-"
      },
      "source": [
        "* So to sum up the Hamiltonian $\\mathcal{H}$ operator describes the energy of a system: \n",
        "\n",
        "  * der [Hamiltonoperator](https://de.m.wikipedia.org/wiki/Hamiltonoperator) ist in der Quantenmechanik ein Operator, der (mögliche) Energiemesswerte und die Zeitentwicklung angibt. Er ist daher der Energieoperator. Er liefert beispielsweise die Energieniveaus des Elektrons im Wasserstoffatom.\n",
        "\n",
        "  * In der Quantenmechanik wird jeder Zustand des betrachteten physikalischen Systems durch einen zugehörigen Vektor $\\psi$ im Hilbertraum angegeben. Seine Zeitentwicklung wird nach der Schrödingergleichung durch den Hamiltonoperator $\\hat{H}$ bestimmt:\n",
        "\n",
        ">$\n",
        "\\mathrm{i} \\hbar \\frac{\\partial}{\\partial t} \\psi(t)=\\hat{H} \\psi(t)\n",
        "$\n",
        "\n",
        "  * mit der imaginären Einheit i\n",
        "  \n",
        "  * und der reduzierten Planckschen Konstante $\\hbar=\\frac{h}{2 \\pi}$.\n",
        "\n",
        "  * In der Eigenwertgleichung sind die Eigenwerte E die zugehörigen Energien."
      ]
    },
    {
      "cell_type": "markdown",
      "metadata": {
        "id": "zKlsTZM0VkZG"
      },
      "source": [
        "**Hamiltonian**"
      ]
    },
    {
      "cell_type": "markdown",
      "metadata": {
        "id": "MjVEUDSAWJpv"
      },
      "source": [
        "* the Hamiltonian has a formula where you input the state of the system and it outputs the energy of the system (both quantum & classical system)\n",
        "\n",
        "* inout state of all qubits, Hamiltonian will give energy of that state \n",
        "\n",
        "* Quantum annealing: tries to find state of all qubits that gives us lowest energy\n",
        "\n",
        "* lowest energy state of initial Hamiltonian is when all the qubits are in a superposition state of zero and one (easy set up of the system)\n",
        "\n",
        "* Ideally you stay in the minimum energy state throughout the quantum annealing procedure (In annealing: initially quantum states, at the end classical states)"
      ]
    },
    {
      "cell_type": "markdown",
      "metadata": {
        "id": "yXKK4Im4VjLR"
      },
      "source": [
        "![geometry](https://raw.githubusercontent.com/deltorobarba/repo/master/quantum_009a.png)"
      ]
    },
    {
      "cell_type": "markdown",
      "metadata": {
        "id": "NcdHPOGxXCEL"
      },
      "source": [
        "**Eigenspectrum**"
      ]
    },
    {
      "cell_type": "markdown",
      "metadata": {
        "id": "MqylzC-5YZnT"
      },
      "source": [
        "* Eigenspectrum is a useful way of visualizing the different energy states that you can be in in the quantum annealing procedure (a graph)\n",
        "\n",
        "* lowest energy state on the bottom, and any higher excited states above it\n",
        "\n",
        "* in the middle where two energy lines are very close is called \"minimum gap\" / \"anticrossing\"\n",
        "\n",
        "* there are several mechanisms that allow the system to jump into a higher energy state: thermal energy / fluctuations or running annealing procedure to fast\n",
        "\n",
        "* you need to anneal slowly enough: adiabatic process\n",
        "\n",
        "* but for large problems, the probability of staying the lowest energy state if small (but still good as long as thei are lower than in classical techniques)"
      ]
    },
    {
      "cell_type": "markdown",
      "metadata": {
        "id": "nqcL6KiEXlJu"
      },
      "source": [
        "![geometry](https://raw.githubusercontent.com/deltorobarba/repo/master/quantum_009b.png)"
      ]
    },
    {
      "cell_type": "markdown",
      "metadata": {
        "id": "cFwUqVUEYao4"
      },
      "source": [
        "![geometry](https://raw.githubusercontent.com/deltorobarba/repo/master/quantum_009c.png)"
      ]
    },
    {
      "cell_type": "markdown",
      "metadata": {
        "id": "Z6879sh-Yu9D"
      },
      "source": [
        "For every problem there is a different hamiltonian and a different corresponding Eigenspectrum ! Hardest problem with smallest gaps:"
      ]
    },
    {
      "cell_type": "markdown",
      "metadata": {
        "id": "PUrfQvQyZHxL"
      },
      "source": [
        "![geometry](https://raw.githubusercontent.com/deltorobarba/repo/master/quantum_009d.png)"
      ]
    },
    {
      "cell_type": "markdown",
      "metadata": {
        "id": "6df4VnbjWqTB"
      },
      "source": [
        "https://www.youtube.com/watch?v=tnikftltqE0"
      ]
    },
    {
      "cell_type": "markdown",
      "metadata": {
        "id": "9isGvqndjGj9"
      },
      "source": [
        "###### **<font color=\"blue\">Pauli-matrix $\\sigma^Z$</font> (Transverse Field Ising Model)**"
      ]
    },
    {
      "cell_type": "markdown",
      "metadata": {
        "id": "wGTR5VHzjJUY"
      },
      "source": [
        "![geometry](https://raw.githubusercontent.com/deltorobarba/repo/master/quantum_010.png)"
      ]
    },
    {
      "cell_type": "markdown",
      "metadata": {
        "id": "PwrdIi-wjM0L"
      },
      "source": [
        "https://www.youtube.com/watch?v=egli0tC1tRo&list=PLBn8lN0Dcvpla6a6omBni1rjyQJ4CssTP&index=50"
      ]
    },
    {
      "cell_type": "markdown",
      "metadata": {
        "id": "M-Dq_XeNknbT"
      },
      "source": [
        "* we introduced a simple model from statistical mechanics called the Ising model, but nothing quantum is happening in it\n",
        "\n",
        "* but we are interested in quantum computers and their relationship to quantum system. So we need to look at a quantum many body system. So we will write our classical Ising model in a. More quantum mechanical form.\n",
        "\n",
        "* we had the Hamiltonian of binary variables. In quantum mechanics we have states and operators acting on them. Lets look at a particular operator that could act on a qubit. \n",
        "\n",
        "* the sigma Z operator $\\sigma^Z$ is called a Pauli-matrix, the Z-Pauli-matrix. When you apply this operator ion the 0 ket, you get the 0 ket, which will show a plus 1. But if you pally it to the 1 ket it picks up a sign, the -1. By applying this operator on the basis vector states you the get effect of getting plus 1 or minus 1, as a probability amplitude before the actual state. The Hamiltonian now gets operators (the little z on top) acting on a particular qubit. \n",
        "\n",
        "* now we want to calculate the expectation value, we because we are interested in the energy of the system. The Hamilton energy / expectation value of a system is exactly between bra and ket, like a sandwich. This can be calculated easily.\n",
        "\n",
        "* the Hamiltonian is commuting, means: every single one of the matrices commutes with one another. But that's still classical.\n",
        "\n",
        "* so now we add the transverse field. Adding is one more interaction with sigma x $\\sigma^x$. But if you multiply sigma z and sigma x you don't get the same result as the other way around. So it matters in which order you use these operators. So if you add sigma X to the Hamiltonian, it will no longer commute.\n",
        "\n",
        "* the Eigenvalue will correspond to the energy of the system. The lowest Eigenvalue will correspond to the energy for that particular operator\n",
        "\n",
        "* When you try to minimize the energy of a system, this term (pink at the end of the Hamiltonian, the Transverse field with the sigma X operator) tries to push it into a superposition, whereas the sigma Z interactions are trying to be deterministically either zero or one. This is where you get the quantum effect by pushing it towards a superposition, and having this non commuting term. "
      ]
    },
    {
      "cell_type": "markdown",
      "metadata": {
        "id": "3eye1FYS06Mi"
      },
      "source": [
        "###### **<font color=\"blue\">Ortsoperators $\\hat{x}$ und Impulsoperators $\\hat{p}$</font>**"
      ]
    },
    {
      "cell_type": "markdown",
      "metadata": {
        "id": "GCWGw7qr1Tg7"
      },
      "source": [
        "https://de.m.wikipedia.org/wiki/Dirac-Notation#Darstellungen_in_der_Quantenmechanik"
      ]
    },
    {
      "cell_type": "markdown",
      "metadata": {
        "id": "_u5FUZlc1Na8"
      },
      "source": [
        "https://de.m.wikipedia.org/wiki/Ortsoperator"
      ]
    },
    {
      "cell_type": "markdown",
      "metadata": {
        "id": "_0T4EIWU1QTq"
      },
      "source": [
        "https://de.m.wikipedia.org/wiki/Impulsoperator"
      ]
    },
    {
      "cell_type": "markdown",
      "metadata": {
        "id": "Y5_gr3VfHP8e"
      },
      "source": [
        "###### **Commutators / Anticommutatora & Eigenvalues/Eigenvectors**"
      ]
    },
    {
      "cell_type": "markdown",
      "metadata": {
        "id": "CWTUeok_2Mn3"
      },
      "source": [
        "###### **<font color=\"blue\">Unitärer Operator $T$ und Zeitentwicklungsoperator $U$</font>**"
      ]
    },
    {
      "cell_type": "markdown",
      "metadata": {
        "id": "TSniaR_T2YH_"
      },
      "source": [
        "https://de.m.wikipedia.org/wiki/Unitärer_Operator"
      ]
    },
    {
      "cell_type": "markdown",
      "metadata": {
        "id": "83UtgxF-2REn"
      },
      "source": [
        "https://de.m.wikipedia.org/wiki/Zeitentwicklungsoperator"
      ]
    },
    {
      "cell_type": "markdown",
      "metadata": {
        "id": "XjZNNB0TaQbK"
      },
      "source": [
        "###### **<font color=\"blue\">Qumodes</font> (CV systems / continuous spectra in infinite-dimensional Hilbert space)**"
      ]
    },
    {
      "cell_type": "markdown",
      "metadata": {
        "id": "gggOH9nRaYSH"
      },
      "source": [
        "https://strawberryfields.ai/photonics/concepts/photonics.html"
      ]
    },
    {
      "cell_type": "markdown",
      "metadata": {
        "id": "TlkbyF8w7kF9"
      },
      "source": [
        "###### **<font color=\"blue\">Qudits and Qutrits</font>**"
      ]
    },
    {
      "cell_type": "markdown",
      "metadata": {
        "id": "SdOUOtCB7xcA"
      },
      "source": [
        "https://en.m.wikipedia.org/wiki/Qutrit"
      ]
    },
    {
      "cell_type": "markdown",
      "metadata": {
        "id": "6GDZWYx-7pkd"
      },
      "source": [
        "https://en.m.wikipedia.org/wiki/Qubit#Qudits_and_qutrits"
      ]
    },
    {
      "cell_type": "markdown",
      "metadata": {
        "id": "P3U2MzFc5Aiq"
      },
      "source": [
        "###### **Quantum Information**"
      ]
    },
    {
      "cell_type": "markdown",
      "metadata": {
        "id": "BBauqSZO5DP-"
      },
      "source": [
        "https://en.wikipedia.org/wiki/Quantum_information"
      ]
    },
    {
      "cell_type": "markdown",
      "metadata": {
        "id": "rWldpOaiCjJO"
      },
      "source": [
        "## **Quantum Computing**"
      ]
    },
    {
      "cell_type": "markdown",
      "metadata": {
        "id": "bQnVRshNtux9"
      },
      "source": [
        "#### **Quantum Computing Systems**"
      ]
    },
    {
      "cell_type": "markdown",
      "metadata": {
        "id": "gnCFRiVapbMJ"
      },
      "source": [
        "###### **<font color=\"blue\">Quantum Systems</font> (Open & Closed)**"
      ]
    },
    {
      "cell_type": "markdown",
      "metadata": {
        "id": "IPGrPQgXb0DU"
      },
      "source": [
        "**Evolution in Closed Quantum Systems**"
      ]
    },
    {
      "cell_type": "markdown",
      "metadata": {
        "id": "YKJvnIKfcWPD"
      },
      "source": [
        "![geometry](https://raw.githubusercontent.com/deltorobarba/repo/master/quantum_007.png)"
      ]
    },
    {
      "cell_type": "markdown",
      "metadata": {
        "id": "Dn9Aa6A_b3-8"
      },
      "source": [
        "https://www.youtube.com/watch?v=P-mGqiKcEKE&list=PLBn8lN0Dcvpla6a6omBni1rjyQJ4CssTP&index=47"
      ]
    },
    {
      "cell_type": "markdown",
      "metadata": {
        "id": "XaoIrW2YfawM"
      },
      "source": [
        "* now let's look at **how we do a quantum computation, in other words: how do we evolve this quantum probability distributon**\n",
        "\n",
        "* we start with closed system, which means the evolution is going to be unitary (idealized version. Of a quantum calculation)\n",
        "\n",
        "* first lets see how we transform classical probability distributions: in classic we have a stochastic vector and transform them by applying a stochastic matrix to get a new stochastic vector, which is still a probability distribution. In this case it's a left stochastic matrix - means the columns of this matrix end up to one. \n",
        "\n",
        "* in quantum states we want to apply some operation on the state and whatever we get want to be sure it's still a quantum state. \n",
        "\n",
        "* this is the idealized computation of the quantum computer execution\n",
        "\n",
        "* the matrix that fulfills this condition has the property that's unitary: when you apply its complex conjugate (its inverse), you get the identity. Properties:\n",
        "\n",
        "\t* preserves L2 norm (otherwise final result would not be a quantum state)\n",
        "\n",
        "\t* linear (addition and scalar) - this becomes a bit difficult when we apply non-linear operations like machine learning. Then we have to resort on all sorts of approximations. \n",
        "\n",
        "\t* calculation is reversable (this contrasts to classical computing where you lose information as you proceed in a calculation, like the end logic gate what where the 2 initial bits. This cannot happen in idealized quantum system) -> example on the right side with an operation that's called the not gate or X gate.\n"
      ]
    },
    {
      "cell_type": "markdown",
      "metadata": {
        "id": "eeU6U3wZflbT"
      },
      "source": [
        "**Open Quantum Systems**"
      ]
    },
    {
      "cell_type": "markdown",
      "metadata": {
        "id": "aTdQ2l-Jf5EP"
      },
      "source": [
        "![geometry](https://raw.githubusercontent.com/deltorobarba/repo/master/quantum_008.png)"
      ]
    },
    {
      "cell_type": "markdown",
      "metadata": {
        "id": "nOn4NMj_frbO"
      },
      "source": [
        "https://www.youtube.com/watch?v=_fmBNpDEen4&list=PLBn8lN0Dcvpla6a6omBni1rjyQJ4CssTP&index=48"
      ]
    },
    {
      "cell_type": "markdown",
      "metadata": {
        "id": "OzEL_ysgkwEx"
      },
      "source": [
        "* before we talked about evolution in closed systems which is exactly what a universal idealized quantum computer wants to achieve. \n",
        "\n",
        "* real quantum system are not closed systems, but open. This means a quantum processing unit is embedded in an environment or thermal bath. And system interacts with environment in uncontrolled fashion. \n",
        "\n",
        "* Since the interaction happens, the system's now evolution is no longer described as a unitary operation. It's described by a very different mathematical object. \n",
        "\n",
        "* technically is a CP-TP-map: completely trees preserving map: https://en.m.wikipedia.org/wiki/Quantum_channel\n",
        "\n",
        "Lets now talk about decoherence:\n",
        "\n",
        "* we introduced density matrices. And now tae a density matrix of a pure state (for example of the equal super position of the 0 and 1 ket).\n",
        "\n",
        "* we can mix it with random noise, which is just the identity matrix divided by the number of dimensions - which would correspond to the maxim of mixed state, the classical [uniform distribution](https://de.wikipedia.org/wiki/Stetige_Gleichverteilung)\n",
        "\n",
        "* we can control how much noise we have, by tuning in the parameter called viability: \n",
        "\n",
        "\t* 1 is pure state, \n",
        "\n",
        "\t* the more we mix, the more the coherences vanish\n",
        "\n",
        "\t* when we reach zero visibility we have maximum state \n",
        "\n",
        "* So the speed at which this happens affects our quantum calculations because we want to finish the calculation before the systems completely decoheres. \n",
        "\n",
        "> This is sometimes called the T2 time / [Spin–spin relaxation](https://en.m.wikipedia.org/wiki/Spin–spin_relaxation) and it's one of the characteristics that you look at when you study how good a quantum computer is!\n",
        "\n",
        "* another way of looking at it is an equilibration process. So this model is actually the exact same thing what happens to a cup of coffee: it interacts with the environment (temperature change) and for a quantum system it's called the thermal state at the end\n",
        "\n",
        "* it's a very specific form: the configuration corresponding to certain energies follow a particular probability distribution - the Boltzmann distribution P(Ei)"
      ]
    },
    {
      "cell_type": "markdown",
      "metadata": {
        "id": "XRBMQYB4nyqI"
      },
      "source": [
        "###### **Quantum Many-Body Physics**"
      ]
    },
    {
      "cell_type": "markdown",
      "metadata": {
        "id": "8s9j3TQjs1Ml"
      },
      "source": [
        "![geometry](https://raw.githubusercontent.com/deltorobarba/repo/master/quantum_011.png)"
      ]
    },
    {
      "cell_type": "markdown",
      "metadata": {
        "id": "fkf-V6Z6o3g9"
      },
      "source": [
        "https://www.youtube.com/watch?v=MmpOva4-XPg&list=PLBn8lN0Dcvpla6a6omBni1rjyQJ4CssTP&index=51"
      ]
    },
    {
      "cell_type": "markdown",
      "metadata": {
        "id": "VngHYAEkscg4"
      },
      "source": [
        "* The Schroedinger Equation gives us the time evolution of a quantum system, it includes the wave function\n",
        "\n",
        "* the wave function is the quantum state of the particle or system of particles\n",
        "\n",
        "* its time evolution is governed by the Schroedinger Equation\n",
        "\n",
        "* and we are typically interested in either how a qubit, electron or atom behaves at some later time (prediction ability) - this is very difficult:\n",
        "\n",
        "* one body problem: hydrogen atom with 1 electron around 1 proton, and the electron feeling the influence of the proton. - time evolution of this system easy to solve, almost exactly in closed form. \n",
        "\n",
        "* N=2 for helium atom: nucleus of 2 protons and 2 separate electrons orbiting around. No known closed form solution for equations of motion.\n",
        "\n",
        "* one logical qubit is made of several hundreds to several thousands of physical qubits\n",
        "\n",
        "* so the quantum many body problem that we want to solve for a typical scenario of a quantum computer (implementing Shor's algorithm for a 2048-bit RSA) is somewhere at N > 4000 logical qubits, which is about 5 mio physical qubits.\n",
        "\n",
        "* this is the essence of the quantum many body problem as applied to essential quantum computers."
      ]
    },
    {
      "cell_type": "markdown",
      "metadata": {
        "id": "-LCP9tebs6E6"
      },
      "source": [
        "**Many-Body Behavior of Spins**"
      ]
    },
    {
      "cell_type": "markdown",
      "metadata": {
        "id": "S82YfIpUzDiI"
      },
      "source": [
        "![geometry](https://raw.githubusercontent.com/deltorobarba/repo/master/quantum_012.png)"
      ]
    },
    {
      "cell_type": "markdown",
      "metadata": {
        "id": "nlPsheq8s_2U"
      },
      "source": [
        "https://www.youtube.com/watch?v=7HayIq9OR2E&list=PLBn8lN0Dcvpla6a6omBni1rjyQJ4CssTP&index=52"
      ]
    },
    {
      "cell_type": "markdown",
      "metadata": {
        "id": "3_dYq9WXzBD1"
      },
      "source": [
        "* lets focus the many body physics on the simplest quantum system which is the quantum number associated with spin or angular momentum for example of the electron. \n",
        "\n",
        "* this neglects all other complications due to position, momentum, charge, spin orbit coupling, hyperfine splitting. So we focus on on spin.\n",
        "\n",
        "* spin 1/2 gives us an effective two state quantum system, like up or down\n",
        "\n",
        "* lets consider only n spins that just occur between Z components of their angular momentum\n",
        "\n",
        "* hamiltonian covers all the time evolution in the schroedinger equation\n",
        "\n",
        "* Ising model: sort of simplest model of interacting spins. Typically used not only in physical processes like quantum magnetism, also used to encode optimization problems. Look for lowest energy state governed but this equation. \n",
        "\n",
        "* you could look into all possible spin configurations, and calculate the energy according to this hamiltonian. But this would be a $2^n$ states.\n",
        "\n",
        "* in Boltzmann is the partition function: it runs through all possible configurations and is weighed by the Boltzmann weight.\n",
        "\n",
        "* d wave.. facilitate optimization\n",
        "\n",
        "* diagonalization to get eigenvalues, but escalates also quickly, max N + 20-40: we can do better than this only with a quantum computer (=quantum supremacy)\n",
        "\n"
      ]
    },
    {
      "cell_type": "markdown",
      "metadata": {
        "id": "UC7T8Hb_UyIA"
      },
      "source": [
        "**Strategies to Solve the Many-Body Problem**"
      ]
    },
    {
      "cell_type": "markdown",
      "metadata": {
        "id": "cHJvx6iJVD6m"
      },
      "source": [
        "![geometry](https://raw.githubusercontent.com/deltorobarba/repo/master/quantum_013.png)"
      ]
    },
    {
      "cell_type": "markdown",
      "metadata": {
        "id": "dhozjk8IU0F7"
      },
      "source": [
        "https://www.youtube.com/watch?v=uTCeQHzQMdc"
      ]
    },
    {
      "cell_type": "markdown",
      "metadata": {
        "id": "2awP8L9TDlN_"
      },
      "source": [
        "###### **<font color=\"blue\">Architekturen von Quantencomputern</font> (Superconductivity)**"
      ]
    },
    {
      "cell_type": "markdown",
      "metadata": {
        "id": "UhGyg_cMDpFd"
      },
      "source": [
        "Qubit: Nutzung des quantenechanischen Zweizustandssystems"
      ]
    },
    {
      "cell_type": "markdown",
      "metadata": {
        "id": "95-4hj-vDvNc"
      },
      "source": [
        "**Mikrostrukturierte Ionenfalle**"
      ]
    },
    {
      "cell_type": "markdown",
      "metadata": {
        "id": "D68TYGhhDz01"
      },
      "source": [
        "* Ionen + deren Polaritaet dienen als Qubit"
      ]
    },
    {
      "cell_type": "markdown",
      "metadata": {
        "id": "BjL00wcKD29y"
      },
      "source": [
        "**Quanten Computer auf Ionenbasis**"
      ]
    },
    {
      "cell_type": "markdown",
      "metadata": {
        "id": "-ykjMnsAD6T7"
      },
      "source": [
        "* es kommt der Spin von Stickstoffatomen zum Einsatz"
      ]
    },
    {
      "cell_type": "markdown",
      "metadata": {
        "id": "8wCV_KhfERAR"
      },
      "source": [
        "**Supraleitende Streifenleitungsresonatoren**"
      ]
    },
    {
      "cell_type": "markdown",
      "metadata": {
        "id": "isr05FSWEX9P"
      },
      "source": [
        "* ein Qubit stellt eine Elektronenwolke innerhalb eines Mikrowellen-Oszillators dar, der auf 15 Milli-Kelvin abgekuhlt wird (nahezu absoluter Nullpunkt)\n",
        "\n",
        "* ein sogenannter Josephson Kontakt (ein hauchdunner Isolator) bietet die Moglichkeit zur Quanten-Tunnelung und die Unterscheidung von genau 2 Zustaenden sowie der Superposition davon\n",
        "\n",
        "* Durch Anpassung der Oszillatorfrequenz koennen mehrere Qubits in einen Resonanz und damit in einen verschraenkten Zustand gebracht oder aber Quantengatter (quantum gates) angewendet werden\n",
        "\n",
        "* damit wurden bisher ca 50 Qubits realisiert\n",
        "\n",
        "* Supraleitende Qubits in einem zweidimensionalen Netzwerk von supraleitenden [Streifenleitungsresonatoren](https://de.m.wikipedia.org/wiki/Streifenleitung) (stripline resonators)"
      ]
    },
    {
      "cell_type": "markdown",
      "metadata": {
        "id": "JUD3HtbrHZyA"
      },
      "source": [
        "*Exkurs: [Supraleiter](https://de.m.wikipedia.org/wiki/Supraleiter) bzw. [Superconductivity](https://en.m.wikipedia.org/wiki/Superconductivity) sind Materialien, deren elektrischer Widerstand beim Unterschreiten der sogenannten Sprungtemperatur (abrupt) gegen null strebt (unmessbar klein wird, kleiner als 1 ⋅ 10−20 Ω). Die Supraleitung wurde 1911 von Heike Kamerlingh Onnes, einem Pionier der [Tieftemperaturphysik](https://de.m.wikipedia.org/wiki/Tieftemperaturphysik), entdeckt. Sie ist ein makroskopischer Quantenzustand. Im supraleitenden Zustand tritt der [„Meißner-Ochsenfeld-Effekt“](https://de.m.wikipedia.org/wiki/Meißner-Ochsenfeld-Effekt) auf, d. h. das Innere des Materials bleibt bzw. wird frei von elektrischen und magnetischen Feldern.*"
      ]
    },
    {
      "cell_type": "markdown",
      "metadata": {
        "id": "FOoane0U7-8J"
      },
      "source": [
        "###### **<font color=\"blue\">Quantum Register</font>**"
      ]
    },
    {
      "cell_type": "markdown",
      "metadata": {
        "id": "1uaGhx_58E8P"
      },
      "source": [
        "https://en.m.wikipedia.org/wiki/Quantum_register"
      ]
    },
    {
      "cell_type": "markdown",
      "metadata": {
        "id": "ZfO2_4Z6reDW"
      },
      "source": [
        "#### **Quantum Logic Gates**"
      ]
    },
    {
      "cell_type": "markdown",
      "metadata": {
        "id": "U-AMGri9VajC"
      },
      "source": [
        "###### **<font color=\"blue\">Quantum Logic Gates & Quantum Circuits</font> (Unitary Operators / Quantum gate acting on Quantum state $U * \\left|\\psi_{1}\\right\\rangle=\\left|\\psi_{2}\\right\\rangle$)**"
      ]
    },
    {
      "cell_type": "markdown",
      "metadata": {
        "id": "3QtuHBBGATdE"
      },
      "source": [
        "**Quantum Logic Gate**"
      ]
    },
    {
      "cell_type": "markdown",
      "metadata": {
        "id": "VIUSwLSw3cF-"
      },
      "source": [
        "* a [quantum logic gate](https://en.m.wikipedia.org/wiki/Quantum_logic_gate) (or simply quantum gate) is a basic quantum circuit operating on a small number of qubits. \n",
        "\n",
        "* They are the building blocks of quantum circuits, like classical logic gates are for conventional digital circuits.\n",
        "\n",
        "* Unlike many classical logic gates, quantum logic gates are reversible. \n",
        "\n",
        "* Quantum gates are [unitary operators](https://en.m.wikipedia.org/wiki/Unitary_operator), and are described as unitary matrices relative to some basis. \n",
        "  \n",
        "  * Usually we use the computational basis, which unless we compare it with something, just means that for a d-level quantum system (such as a qubit, a quantum register, or qutrits and qudits ) we have labeled the orthogonal basis vectors $|0\\rangle,|1\\rangle, \\ldots,|d-1\\rangle$, or use binary notation."
      ]
    },
    {
      "cell_type": "markdown",
      "metadata": {
        "id": "OxDKk_jg5dwI"
      },
      "source": [
        "**Exkurs: Unitary Operator**\n",
        "\n",
        "  * In linear algebra, a complex square matrix $U$ is **unitary** if its **conjugate transpose** $U^{*}$ is also its inverse, that is, if $U^{*} U=U U^{*}=I$ where $I$ is the identity matrix.\n",
        "\n",
        "  * The real analogue of a unitary matrix is an orthogonal matrix. Unitary matrices have significant importance in quantum mechanics because they preserve norms, and thus, probability amplitudes.\n",
        "\n",
        "**Exkurs: Hermitian adjoint**\n",
        "\n",
        "  * In physics, especially in quantum mechanics, the [Hermitian adjoint](https://en.m.wikipedia.org/wiki/Hermitian_adjoint) of a matrix is denoted by a dagger $\\left(^\\dagger\\right)$ and the equation above (unitary operator) becomes $U^{\\dagger} U=U U^{\\dagger}=I$.\n",
        "\n",
        "  * In functional analysis, each bounded linear operator on a complex Hilbert space has a corresponding **Hermitian adjoint** (or adjoint operator). **Adjoints of operators generalize conjugate transposes of square matrices to (possibly) infinite-dimensional situations**. If one thinks of operators on a complex Hilbert space as generalized complex numbers, then the adjoint of an operator plays the role of the complex conjugate of a complex number.\n",
        "\n",
        "  * In a similar sense, one can define an adjoint operator for linear (and possibly unbounded)\n",
        "operators between Banach spaces. \n",
        "\n",
        "  * The adjoint of an operator $A$ may also be called the Hermitian conjugate, Hermitian or Hermitian transpose $^{[1]}$ (after Charles Hermite) of $A$ and is denoted by $A^{*}$ or $A^{\\dagger}$ (the latter especially when used in conjunction with the bra-ket notation). Confusingly, $A^{*}$ may also\n",
        "be used to represent the conjugate of $A$."
      ]
    },
    {
      "cell_type": "markdown",
      "metadata": {
        "id": "hTEF29ewAmQ5"
      },
      "source": [
        "![ggg](https://upload.wikimedia.org/wikipedia/commons/thumb/e/e0/Quantum_Logic_Gates.png/500px-Quantum_Logic_Gates.png)"
      ]
    },
    {
      "cell_type": "markdown",
      "metadata": {
        "id": "ITRFpoW2AOb1"
      },
      "source": [
        "**Quantum Circuit**"
      ]
    },
    {
      "cell_type": "markdown",
      "metadata": {
        "id": "nWQ7m81cAKdi"
      },
      "source": [
        "In quantum information theory, a [quantum circuit](https://en.m.wikipedia.org/wiki/Quantum_circuit) is a model for quantum computation in which a computation is a sequence of quantum gates, which are reversible transformations on a quantum mechanical analog of an n-bit register. This analogous structure is referred to as an n-qubit register. The graphical depiction of quantum circuit elements is described using a variant of the Penrose graphical notation.\n",
        "\n"
      ]
    },
    {
      "cell_type": "markdown",
      "metadata": {
        "id": "VyhGXYwa9fMh"
      },
      "source": [
        "**Representation of Quantum logic gates**"
      ]
    },
    {
      "cell_type": "markdown",
      "metadata": {
        "id": "3Nu3VFeu9r85"
      },
      "source": [
        "* Quantum logic gates are represented by unitary matrices. \n",
        "\n",
        "* A gate which acts on $n$ qubits is represented by a $2^{n} \\times 2^{n}$ unitary matrix, and the set of all such gates with the group operation of matrix multiplication is the [symmetry group $U\\left(2^{n}\\right)$](https://en.m.wikipedia.org/wiki/Unitary_group) (called 'unitary group', a subgroup of the general linear group GL(n, C). For the group of unitary matrices with determinant 1, see Special unitary group.). \n",
        "\n",
        "* The quantum states that the gates act upon are unit vectors in $2^{n}$ complex dimensions, where the norm is the modulus squared. \n",
        "\n",
        "* The basis vectors are the possible outcomes if measured, and a quantum state is a linear combination of these outcomes. \n",
        "\n",
        "* The most common quantum gates operate on spaces of one or two qubits, just like the common classical logic gates operate on one or two bits.\n",
        "\n",
        "* Quantum states are typically represented by \"kets\", from a mathematical notation known as bra-ket.\n",
        "The vector representation of a single qubit is:\n",
        "\n",
        ">$\n",
        "|a\\rangle=v_{0}|0\\rangle+v_{1}|1\\rangle \\rightarrow\\left[\\begin{array}{l}\n",
        "v_{0} \\\\\n",
        "v_{1}\n",
        "\\end{array}\\right]\n",
        "$\n",
        "\n",
        "* Here, $v_{0}$ and $v_{1}$ are the complex probability amplitudes of the qubit. These values determine the probability of measuring a 0 or a 1, when measuring the state of the qubit. See measurement below for details.\n",
        "\n",
        "* The value zero is represented by the ket $|0\\rangle=\\left[\\begin{array}{l}1 \\\\ 0\\end{array}\\right]$, and the value one is represented by the ket $|1\\rangle=\\left[\\begin{array}{l}0 \\\\ 1\\end{array}\\right]$.\n",
        "\n",
        "* The tensor product (or Kronecker product) is used to combine quantum states. The combined state of two qubits is the tensor product of the two qubits. The tensor product is denoted by the symbol $\\otimes$.\n",
        "\n",
        "* The vector representation of two qubits is:\n",
        "\n",
        ">$\n",
        "|a b\\rangle=|a\\rangle \\otimes|b\\rangle=v_{00}|00\\rangle+v_{01}|01\\rangle+v_{10}|10\\rangle+v_{11}|11\\rangle \\rightarrow\\left[\\begin{array}{l}\n",
        "v_{00} \\\\\n",
        "v_{01} \\\\\n",
        "v_{10} \\\\\n",
        "v_{11}\n",
        "\\end{array}\\right]\n",
        "$\n",
        "\n",
        "**The action of the gate on a specific quantum state is found by multiplying the vector $\\left|\\psi_{1}\\right\\rangle$ which represents the state, by the matrix $U$ representing the gate. The result is a new quantum state $\\left|\\psi_{2}\\right\\rangle$:**\n",
        "\n",
        ">$\n",
        "U\\left|\\psi_{1}\\right\\rangle=\\left|\\psi_{2}\\right\\rangle\n",
        "$"
      ]
    },
    {
      "cell_type": "markdown",
      "metadata": {
        "id": "79k05wK-_KrH"
      },
      "source": [
        "*Single qubit states that are pure (i.e. lacks phase shifts along the basis axes, and is not entangled) can be represented using the Bloch sphere, writing it as $|\\psi\\rangle=\\cos (\\theta / 2)|0\\rangle+e^{i \\varphi} \\sin (\\theta / 2)|1\\rangle$\n",
        "Rotation about the $\\mathrm{x}, \\mathrm{y}, \\mathrm{z}$ -axes of the Bloch sphere is represented by the rotation operator gates.*\n",
        "\n",
        "![jj](https://upload.wikimedia.org/wikipedia/commons/thumb/6/6b/Bloch_sphere.svg/500px-Bloch_sphere.svg.png)"
      ]
    },
    {
      "cell_type": "markdown",
      "metadata": {
        "id": "4Xsu_vm-cTMa"
      },
      "source": [
        "**<font color=\"blue\">Complete List of Quantum Gates</font>**"
      ]
    },
    {
      "cell_type": "markdown",
      "metadata": {
        "id": "mb1F6yXm6mZm"
      },
      "source": [
        "Liste mehrerer Quantengatter: https://de.m.wikipedia.org/wiki/Liste_der_Quantengatter\n",
        "\n",
        "(Mit Quantengattern, die sich auf eins, zwei und drei Quantenbits beziehen)\n",
        "\n",
        "https://en.m.wikipedia.org/wiki/Quantum_logic_gate#Hadamard_gate"
      ]
    },
    {
      "cell_type": "markdown",
      "metadata": {
        "id": "gqD-hcmjVc3R"
      },
      "source": [
        "https://www.youtube.com/watch?v=92uqxeofPak&list=PLBn8lN0Dcvpla6a6omBni1rjyQJ4CssTP&index=54"
      ]
    },
    {
      "cell_type": "markdown",
      "metadata": {
        "id": "2FJygEr9-C7x"
      },
      "source": [
        "https://www.youtube.com/watch?v=-oTGgp3s0VI"
      ]
    },
    {
      "cell_type": "markdown",
      "metadata": {
        "id": "0K6bI2CeVeRv"
      },
      "source": [
        "![geometry](https://raw.githubusercontent.com/deltorobarba/repo/master/quantum_014.png)"
      ]
    },
    {
      "cell_type": "markdown",
      "metadata": {
        "id": "A6PhfaXw-Fxo"
      },
      "source": [
        "###### **<font color=\"blue\">Identity Gate</font>**"
      ]
    },
    {
      "cell_type": "markdown",
      "metadata": {
        "id": "EoNLsA_jA0Fl"
      },
      "source": [
        "The identity gate is the identity matrix, usually written as I, and is defined for a single qubit as\n",
        "\n",
        "> $I=\\left[\\begin{array}{ll}1 & 0 \\\\ 0 & 1\\end{array}\\right]$\n",
        "\n",
        "where $I$ is basis independent and does not modify the quantum state. \n",
        "\n",
        "The identity gate is most useful when describing mathematically the result of various gate operations or when discussing multi-qubit circuits.\n",
        "\n"
      ]
    },
    {
      "cell_type": "markdown",
      "metadata": {
        "id": "UQh4UJSSBK4k"
      },
      "source": [
        "###### **<font color=\"blue\">Pauli gates (X bzw. NOT-gate,Y,Z)</font>**"
      ]
    },
    {
      "cell_type": "markdown",
      "metadata": {
        "id": "eTup_2Z3CGw0"
      },
      "source": [
        "The Pauli gates $(X, Y, Z)$ are the three Pauli matrices $\\left(\\sigma_{x}, \\sigma_{y}, \\sigma_{z}\\right)$ and act on a single qubit. The Pauli $X_{1} Y$ and $Z$ equate, respectively, to a rotation around the $x, y$ and $z$ axes of the Bloch sphere by $\\pi$ radians."
      ]
    },
    {
      "cell_type": "markdown",
      "metadata": {
        "id": "Qj0U7aNDCARB"
      },
      "source": [
        "The Pauli- $X$ gate is the quantum equivalent of the [NOT gate](https://en.m.wikipedia.org/wiki/Inverter_(logic_gate)) for classical computers (its main function is to invert the input signal applied) with respect to the standard basis $|0\\rangle,|1\\rangle$, which distinguishes the $z$ axis on the Bloch sphere. It is sometimes called a bit-flip as it maps $|0\\rangle$ to $|1\\rangle$ and $|1\\rangle$ to $|0\\rangle .$ \n",
        "\n",
        "\n",
        "> $X=\\sigma_{x}=\\mathrm{NOT}=\\left[\\begin{array}{ll}0 & 1 \\\\ 1 & 0\\end{array}\\right]$\n",
        "\n",
        "Similarly, the Pauli- $Y$ maps $|0\\rangle$ to $i|1\\rangle$ and $|1\\rangle$ to $-i|0\\rangle$:\n",
        "\n",
        "> $Y=\\sigma_{y}=\\left[\\begin{array}{cc}0 & -i \\\\ i & 0\\end{array}\\right]$\n",
        "\n",
        "Pauli $Z$ leaves the basis state $|0\\rangle$ unchanged and maps $|1\\rangle$ to $-|1\\rangle$. Due to this nature, it is sometimes called phase-flip.\n",
        "\n",
        "> $Z=\\sigma_{z}=\\left[\\begin{array}{cc}1 & 0 \\\\ 0 & -1\\end{array}\\right]$"
      ]
    },
    {
      "cell_type": "markdown",
      "metadata": {
        "id": "k230wcAMDEJu"
      },
      "source": [
        "The Pauli matrices are [involutory](https://en.m.wikipedia.org/wiki/Involutory_matrix) (a square matrix that is its own inverse), meaning that the square of a Pauli matrix is the identity matrix.\n",
        "\n",
        ">$\n",
        "I^{2}=X^{2}=Y^{2}=Z^{2}=-i X Y Z=I\n",
        "$\n",
        "\n",
        "The Pauli matrices also [anti-commute](https://en.m.wikipedia.org/wiki/Anticommutative_property), for example $Z X=i Y=-X Z$.\n",
        "\n",
        "*Anticommutativity is a specific property of some non-commutative operations. In mathematical physics, where symmetry is of central importance, these operations are mostly called antisymmetric operations, and are extended in an associative setting to cover more than two arguments. **Swapping the position of two arguments of an antisymmetric operation yields a result which is the inverse of the result with unswapped arguments**. The notion inverse refers to a group structure on the operation's codomain, possibly with another operation, such as addition.*"
      ]
    },
    {
      "cell_type": "markdown",
      "metadata": {
        "id": "NkW4xifhAMIp"
      },
      "source": [
        "###### **<font color=\"blue\">Hadamard Gate</font>**"
      ]
    },
    {
      "cell_type": "markdown",
      "metadata": {
        "id": "Se8dN6XRjykD"
      },
      "source": [
        "**Hadamard Matrix**"
      ]
    },
    {
      "cell_type": "markdown",
      "metadata": {
        "id": "6tMZqzBLj4Gs"
      },
      "source": [
        "* a [Hadamard matrix](https://en.m.wikipedia.org/wiki/Hadamard_matrix) is a square matrix whose entries are either +1 or −1 and **whose rows are mutually orthogonal**. \n",
        "\n",
        "* In geometric terms, this means that **each pair of rows in a Hadamard matrix represents two perpendicular vectors**, while in combinatorial terms, it means that each pair of rows has matching entries in exactly half of their columns and mismatched entries in the remaining columns. \n",
        "\n",
        "* It is a consequence of this definition that the corresponding properties hold for columns as well as rows. The n-dimensional parallelotope spanned by the rows of an n×n Hadamard matrix has the maximum possible n-dimensional volume among parallelotopes spanned by vectors whose entries are bounded in absolute value by 1. \n",
        "\n",
        "* Equivalently, a Hadamard matrix has maximal determinant among matrices with entries of absolute value less than or equal to 1 and so is an extremal solution of [Hadamard's maximal determinant problem](https://en.m.wikipedia.org/wiki/Hadamard%27s_maximal_determinant_problem).\n",
        "\n",
        "* Certain Hadamard matrices can almost directly be used as an error-correcting code using a Hadamard code (generalized in Reed–Muller codes), and are also used in balanced repeated replication (BRR), used by statisticians to estimate the variance of a parameter estimator.\n"
      ]
    },
    {
      "cell_type": "markdown",
      "metadata": {
        "id": "ygiw4JYCkmzK"
      },
      "source": [
        "Let $H$ be a Hadamard matrix of order n. Then the partitioned matrix:\n",
        "\n",
        "> $\\left[\\begin{array}{cc}H & H \\\\ H & -H\\end{array}\\right]$\n",
        "\n",
        "is a Hadamard matrix of order 2n. This observation can be applied repeatedly and leads to the following sequence of matrices, also called [Walsh matrices](https://en.m.wikipedia.org/wiki/Walsh_matrix):\n",
        "\n",
        "> $H_{1}=[1]$\n",
        "\n",
        "> $H_{2}=\\left[\\begin{array}{cc}1 & 1 \\\\ 1 & -1\\end{array}\\right]$\n",
        "\n",
        "> $H_{4}=\\left[\\begin{array}{cccc}1 & 1 & 1 & 1 \\\\ 1 & -1 & 1 & -1 \\\\ 1 & 1 & -1 & -1 \\\\ 1 & -1 & -1 & 1\\end{array}\\right]$\n",
        "\n",
        "and\n",
        "\n",
        "> $\n",
        "H_{2^{k}}=\\left[\\begin{array}{cc}\n",
        "H_{2^{k-1}} & H_{2^{k-1}} \\\\\n",
        "H_{2^{k-1}} & -H_{2^{k-1}}\n",
        "\\end{array}\\right]=H_{2} \\otimes H_{2^{k-1}}\n",
        "$\n",
        "\n",
        "for $2 \\leq k \\in N$, where $\\otimes$ denotes the Kronecker product."
      ]
    },
    {
      "cell_type": "markdown",
      "metadata": {
        "id": "6c--DR86lFZn"
      },
      "source": [
        "*The Walsh matrices are a special case of Hadamard matrices. **Here is an example of a [Walsh matrix](https://en.m.wikipedia.org/wiki/Walsh_matrix) of order 16 multiplied with a vector**. (a Walsh matrix is a specific square matrix of dimensions $2^n$, where n are some particular natural number. The entries of the matrix are either +1 or −1 and its rows as well as columns are orthogonal, i.e. dot product is zero)*\n",
        "\n",
        "![gg](https://upload.wikimedia.org/wikipedia/commons/thumb/3/34/Walsh_16_%2A_Gould%27s-Morse.svg/640px-Walsh_16_%2A_Gould%27s-Morse.svg.png)"
      ]
    },
    {
      "cell_type": "markdown",
      "metadata": {
        "id": "kwLuliUfcdXH"
      },
      "source": [
        "**Hadamard Transform**"
      ]
    },
    {
      "cell_type": "markdown",
      "metadata": {
        "id": "gJ51vgmEckHI"
      },
      "source": [
        "* **The Hadamard transform is used extensively in quantum computing**. The 2 × 2 Hadamard transforms $H_{1}$ is the quantum logic gate known as the Hadamard gate, and **the application of a Hadamard gate to each qubit of an n-qubit register in parallel is equivalent to the Hadamard transform $H_{n}$**.\n",
        "\n",
        "* The Hadamard transform: also known as the Walsh–Hadamard transform, Hadamard–Rademacher–Walsh transform, Walsh transform, or Walsh–Fourier transform\n",
        "\n",
        "* **Hadamard transform is an example of a generalized class of [Fourier transforms](https://en.m.wikipedia.org/wiki/Fourier_transform)**. \n",
        "\n",
        "* It performs an orthogonal, symmetric, involutive, linear operation on $2^m$ real numbers (or complex, or hypercomplex numbers, although the Hadamard matrices themselves are purely real).\n",
        "\n",
        "* The Hadamard transform can be regarded as being built out of size-2 [discrete Fourier transforms (DFTs)](https://en.m.wikipedia.org/wiki/Discrete_Fourier_transform), and is in fact equivalent to a multidimensional DFT of size 2 × 2 × ⋯ × 2 × 2. It decomposes an arbitrary input vector into a superposition of [Walsh functions](https://en.m.wikipedia.org/wiki/Walsh_function)."
      ]
    },
    {
      "cell_type": "markdown",
      "metadata": {
        "id": "aYqg9iMx-JIw"
      },
      "source": [
        "**Hadamard Gate**"
      ]
    },
    {
      "cell_type": "markdown",
      "metadata": {
        "id": "HzCVRmE4-LqQ"
      },
      "source": [
        "* ist ein Quantengatter, das sich auf einzelne Quantenbits bezieht (acts on a single qubit)\n",
        "\n",
        "* creates a superposition: Überführt $|0\\rangle$ und $|1\\rangle$ in überlagerte Zustände. It maps the basis state $|0\\rangle$ to $\\frac{|0\\rangle+|1\\rangle}{\\sqrt{2}}$ and $|1\\rangle$ to $\\frac{|0\\rangle-|1\\rangle}{\\sqrt{2}}$, which means that a measurement will have equal probabilities to result in 1 or 0 (i.e. creates a superposition). \n",
        "\n",
        "* Spiegelung des hyperkomplexen Eingangs an der X+Z-Achse. It represents a rotation of $\\pi$ about the axis $(\\hat{x}+\\hat{z}) / \\sqrt{2}$ at the Bloch sphere. It is represented by the Hadamard matrix:\n",
        "\n",
        "> $\\frac{1}{\\sqrt{2}} \\cdot\\left(\\begin{array}{cc}1 & 1 \\\\ 1 & -1\\end{array}\\right)$\n",
        "\n",
        "See more: https://en.m.wikipedia.org/wiki/Hadamard_transform#Quantum_computing_applications"
      ]
    },
    {
      "cell_type": "markdown",
      "metadata": {
        "id": "Dkz7vtKCo7HE"
      },
      "source": [
        "In quantum computing, the Hadamard gate is a one-qubit rotation, mapping the qubitbasis states $|0\\rangle$ and $|1\\rangle$ to two **superposition** states with **equal weight of the computational basis** states $|0\\rangle$ and $|1\\rangle$. Usually the phases are chosen so that\n",
        "\n",
        ">$\n",
        "H=\\frac{|0\\rangle+|1\\rangle}{\\sqrt{2}}\\langle 0|+\\frac{|0\\rangle-|1\\rangle}{\\sqrt{2}}\\langle 1|\n",
        "$\n",
        "\n",
        "in Dirac notation. This corresponds to the transformation matrix\n",
        "\n",
        "> $\n",
        "H_{1}=\\frac{1}{\\sqrt{2}}\\left(\\begin{array}{cc}\n",
        "1 & 1 \\\\\n",
        "1 & -1\n",
        "\\end{array}\\right)\n",
        "$\n",
        "\n",
        "in the $|0\\rangle,|1\\rangle$ basis, also known as the computational basis. The states $\\frac{|0\\rangle+|1\\rangle}{\\sqrt{2}}$ and $\\frac{|0\\rangle-|1\\rangle}{\\sqrt{2}}$ are known as $|+\\rangle$ and $|-\\rangle$ respectively, and together constitute the polar basis in quantum computing."
      ]
    },
    {
      "cell_type": "markdown",
      "metadata": {
        "id": "KlCP-muCpOWK"
      },
      "source": [
        "*Hadamard gate operations:*\n",
        "\n",
        "> $\\begin{aligned} H(|0\\rangle) &=\\frac{1}{\\sqrt{2}}|0\\rangle+\\frac{1}{\\sqrt{2}}|1\\rangle=:|+\\rangle \\\\ H(|1\\rangle) &=\\frac{1}{\\sqrt{2}}|0\\rangle-\\frac{1}{\\sqrt{2}}|1\\rangle=:|-\\rangle \\\\ H\\left(\\frac{1}{\\sqrt{2}}|0\\rangle+\\frac{1}{\\sqrt{2}}|1\\rangle\\right) &=\\frac{1}{2}(|0\\rangle+|1\\rangle)+\\frac{1}{2}(|0\\rangle-|1\\rangle)=|0\\rangle \\\\ H\\left(\\frac{1}{\\sqrt{2}}|0\\rangle-\\frac{1}{\\sqrt{2}}|1\\rangle\\right) &=\\frac{1}{2}(|0\\rangle+|1\\rangle)-\\frac{1}{2}(|0\\rangle-|1\\rangle)=|1\\rangle \\end{aligned}$\n",
        "\n",
        "One application of the Hadamard gate to either a 0 or 1 qubit will produce a quantum state that, if observed, **will be a 0 or 1 with equal probability** (as seen in the first two operations). This is exactly like flipping a fair coin in the standard probabilistic model of computation. However, if the Hadamard gate is applied twice in succession (as is effectively being done in the last two operations), then the final state is always the same as the initial state (because quantum operations are reversable, unlike operations on classical computers)."
      ]
    },
    {
      "cell_type": "markdown",
      "metadata": {
        "id": "sjkrUuP2p6pl"
      },
      "source": [
        "Computing the quantum Hadamard transform is simply the **application of a Hadamard gate to each qubit individually because of the tensor product structure of the Hadamard transform**. This simple result means the quantum Hadamard transform requires log  n operations, compared to the classical case of n log n operations."
      ]
    },
    {
      "cell_type": "markdown",
      "metadata": {
        "id": "4Ed940d8qGMw"
      },
      "source": [
        "**Many quantum algorithms use the Hadamard transform as an initial step, since it maps $m$ qubits initialized with $|0\\rangle$ to a superposition of all $2^{m}$ orthogonal states in the $|0\\rangle,|1\\rangle$ basis with equal weight**. \n",
        "\n",
        "For example, this is used in the Deutsch-Jozsa algorithm, Simon's algorithm, the Bernstein-Vazirani algorithm, and in Grover's algorithm. Note that Shor's algorithm uses both an initial Hadamard transform, as well as the quantum Fourier transform, which are both types of Fourier transforms on finite groups; the first on $(\\mathbb{Z} / 2 \\mathbb{Z})^{n}$ and the second on $\\mathbb{Z} / 2^{n} \\mathbb{Z}$."
      ]
    },
    {
      "cell_type": "markdown",
      "metadata": {
        "id": "g9KGU3z5Ayes"
      },
      "source": [
        "###### **<font color=\"blue\">CNOT Gate</font>**"
      ]
    },
    {
      "cell_type": "markdown",
      "metadata": {
        "id": "oNsYOdI-A1rh"
      },
      "source": [
        "* Verschrankt zwei Qubits und invertiert das Ziel-Qubit, wenn das Kontroll-Qubit 1 ist:\n",
        "\n",
        "> $|00\\rangle \\rightarrow|00\\rangle$\n",
        "\n",
        "> $|01\\rangle \\rightarrow|01\\rangle$\n",
        "\n",
        "> $|10\\rangle \\rightarrow|11\\rangle$\n",
        "\n",
        "> $|11\\rangle \\rightarrow|10\\rangle$\n",
        "\n",
        "Matrix-Darstellung:\n",
        "\n",
        "> $\\left(\\begin{array}{llll}1 & 0 & 0 & 0 \\\\ 0 & 1 & 0 & 0 \\\\ 0 & 0 & 0 & 1 \\\\ 0 & 0 & 1 & 0\\end{array}\\right)$"
      ]
    },
    {
      "cell_type": "markdown",
      "metadata": {
        "id": "N0V2nJiKBGjY"
      },
      "source": [
        "###### **<font color=\"blue\">Phase Shift Gate</font>**"
      ]
    },
    {
      "cell_type": "markdown",
      "metadata": {
        "id": "DipVYLh-BdfY"
      },
      "source": [
        "* verandern die Wahrscheinlichkeiten in einem Qubit, mit dem es bei Messungen entweder in den Zustand 1 oder 0 verfallt."
      ]
    },
    {
      "cell_type": "markdown",
      "metadata": {
        "id": "1dIOVe-DrnP3"
      },
      "source": [
        "#### **Quantum Algorithms**"
      ]
    },
    {
      "cell_type": "markdown",
      "metadata": {
        "id": "rtwxE-KiC07v"
      },
      "source": [
        "###### **<font color=\"blue\">Quantum Algorithms</font>**"
      ]
    },
    {
      "cell_type": "markdown",
      "metadata": {
        "id": "LXtbNTCarwuu"
      },
      "source": [
        "* In quantum computing, a quantum algorithm is an algorithm which runs on a realistic model of quantum computation, the most commonly used model being the quantum circuit model of computation. \n",
        "\n",
        "* A classical (or non-quantum) algorithm is a finite sequence of instructions, or a step-by-step procedure for solving a problem, where each step or instruction can be performed on a classical computer. Similarly, a quantum algorithm is a step-by-step procedure, where each of the steps can be performed on a quantum computer. \n",
        "\n",
        "* Although all classical algorithms can also be performed on a quantum computer,the term quantum algorithm is usually used for those algorithms which seem inherently quantum, or use some essential feature of quantum computation such as quantum superposition or quantum entanglement."
      ]
    },
    {
      "cell_type": "markdown",
      "metadata": {
        "id": "JlFV-CqJqO_J"
      },
      "source": [
        "https://en.m.wikipedia.org/wiki/Quantum_algorithm"
      ]
    },
    {
      "cell_type": "markdown",
      "metadata": {
        "id": "tzeu-pAPsEsn"
      },
      "source": [
        "See also: https://en.m.wikipedia.org/wiki/Quantum_optimization_algorithms"
      ]
    },
    {
      "cell_type": "markdown",
      "metadata": {
        "id": "igYVFK-qS-B3"
      },
      "source": [
        "**<font color=\"blue\">Quantum Algorithm Zoo</font>**"
      ]
    },
    {
      "cell_type": "markdown",
      "metadata": {
        "id": "KC2ibNb5S9Nc"
      },
      "source": [
        "https://quantumalgorithmzoo.org"
      ]
    },
    {
      "cell_type": "markdown",
      "metadata": {
        "id": "DZeZRsq4r5U8"
      },
      "source": [
        "###### **<font color=\"blue\">Algorithms based on the quantum Fourier transform</font>**"
      ]
    },
    {
      "cell_type": "markdown",
      "metadata": {
        "id": "oLhCiQIPqr1w"
      },
      "source": [
        "**Quantum Fourier transform**"
      ]
    },
    {
      "cell_type": "markdown",
      "metadata": {
        "id": "HwLoGI_aqtG2"
      },
      "source": [
        "https://en.m.wikipedia.org/wiki/Quantum_Fourier_transform"
      ]
    },
    {
      "cell_type": "markdown",
      "metadata": {
        "id": "ujYHUGfGq1nT"
      },
      "source": [
        "https://en.m.wikipedia.org/wiki/Fourier_transform_on_finite_groups"
      ]
    },
    {
      "cell_type": "markdown",
      "metadata": {
        "id": "hUILN6FRqZuu"
      },
      "source": [
        "**Deutsch–Jozsa algorithm**"
      ]
    },
    {
      "cell_type": "markdown",
      "metadata": {
        "id": "06rwZsB6qbK6"
      },
      "source": [
        "https://en.m.wikipedia.org/wiki/Deutsch–Jozsa_algorithm"
      ]
    },
    {
      "cell_type": "markdown",
      "metadata": {
        "id": "rs29mGrUqi_-"
      },
      "source": [
        "**Bernstein–Vazirani algorithm**"
      ]
    },
    {
      "cell_type": "markdown",
      "metadata": {
        "id": "3MHKCxMUqkZc"
      },
      "source": [
        "https://en.m.wikipedia.org/wiki/Bernstein–Vazirani_algorithm"
      ]
    },
    {
      "cell_type": "markdown",
      "metadata": {
        "id": "ocVJfp-tqdyb"
      },
      "source": [
        "**Simon's problem**"
      ]
    },
    {
      "cell_type": "markdown",
      "metadata": {
        "id": "iTpg-Zg7qfPk"
      },
      "source": [
        "https://en.m.wikipedia.org/wiki/Simon%27s_problem"
      ]
    },
    {
      "cell_type": "markdown",
      "metadata": {
        "id": "Wjr6WU7_spfs"
      },
      "source": [
        "**Quantum phase estimation algorithm**"
      ]
    },
    {
      "cell_type": "markdown",
      "metadata": {
        "id": "vAylb_iUC3_a"
      },
      "source": [
        "**Shor Algorithm**"
      ]
    },
    {
      "cell_type": "markdown",
      "metadata": {
        "id": "G39bP_rkC6g8"
      },
      "source": [
        "* Faktorisierung in primzahlen"
      ]
    },
    {
      "cell_type": "markdown",
      "metadata": {
        "id": "D3V5JCQFqUlG"
      },
      "source": [
        "https://en.m.wikipedia.org/wiki/Shor%27s_algorithm"
      ]
    },
    {
      "cell_type": "markdown",
      "metadata": {
        "id": "bXJuuTFXswKp"
      },
      "source": [
        "**Hidden subgroup problem**"
      ]
    },
    {
      "cell_type": "markdown",
      "metadata": {
        "id": "Kcfr-7xksyEn"
      },
      "source": [
        "**Boson sampling problem**"
      ]
    },
    {
      "cell_type": "markdown",
      "metadata": {
        "id": "krV0OI46s0h4"
      },
      "source": [
        "**Estimating Gauss sums**"
      ]
    },
    {
      "cell_type": "markdown",
      "metadata": {
        "id": "LOWTFItKs3G8"
      },
      "source": [
        "**Fourier fishing and Fourier checking**"
      ]
    },
    {
      "cell_type": "markdown",
      "metadata": {
        "id": "xWZS80qVr7OU"
      },
      "source": [
        "###### **<font color=\"blue\">Algorithms based on amplitude amplification</font>**"
      ]
    },
    {
      "cell_type": "markdown",
      "metadata": {
        "id": "xHm8yioTC9BH"
      },
      "source": [
        "**Grover's Algorithm**"
      ]
    },
    {
      "cell_type": "markdown",
      "metadata": {
        "id": "_oPB_YTuC_2V"
      },
      "source": [
        "* Suche in grossen Datenbanken (Squared speedup: get result in the square root of time that on classical computers)"
      ]
    },
    {
      "cell_type": "markdown",
      "metadata": {
        "id": "N1oWPyafS5Vm"
      },
      "source": [
        "https://en.m.wikipedia.org/wiki/Grover's_algorithm"
      ]
    },
    {
      "cell_type": "markdown",
      "metadata": {
        "id": "gj32_y3ZtCh4"
      },
      "source": [
        "**Quantum counting**"
      ]
    },
    {
      "cell_type": "markdown",
      "metadata": {
        "id": "Lci_KRkLr8wU"
      },
      "source": [
        "###### **<font color=\"blue\">Algorithms based on quantum walks</font>**"
      ]
    },
    {
      "cell_type": "markdown",
      "metadata": {
        "id": "YeJ08om8tGdj"
      },
      "source": [
        "**Element distinctness problem**"
      ]
    },
    {
      "cell_type": "markdown",
      "metadata": {
        "id": "6kfa9JqatIXP"
      },
      "source": [
        "**Triangle-finding problem**"
      ]
    },
    {
      "cell_type": "markdown",
      "metadata": {
        "id": "zKafpTcatKQU"
      },
      "source": [
        "**Formula evaluation**"
      ]
    },
    {
      "cell_type": "markdown",
      "metadata": {
        "id": "g5RFSUVwtMV-"
      },
      "source": [
        "**Group commutativity**"
      ]
    },
    {
      "cell_type": "markdown",
      "metadata": {
        "id": "ETGa_Rffr-gW"
      },
      "source": [
        "###### **<font color=\"blue\">BQP-complete problems</font>**"
      ]
    },
    {
      "cell_type": "markdown",
      "metadata": {
        "id": "Uat-3GG8tP5d"
      },
      "source": [
        "**Computing knot invariants**"
      ]
    },
    {
      "cell_type": "markdown",
      "metadata": {
        "id": "1ezU61NGtR0l"
      },
      "source": [
        "**Quantum simulation**"
      ]
    },
    {
      "cell_type": "markdown",
      "metadata": {
        "id": "dB_X8Cf3tUdK"
      },
      "source": [
        "**Solving a linear systems of equations**"
      ]
    },
    {
      "cell_type": "markdown",
      "metadata": {
        "id": "ee6gc0AksA0Y"
      },
      "source": [
        "###### **<font color=\"blue\">Hybrid quantum/classical algorithms</font>**"
      ]
    },
    {
      "cell_type": "markdown",
      "metadata": {
        "id": "q9wwa8zVtXbq"
      },
      "source": [
        "**QAOA**"
      ]
    },
    {
      "cell_type": "markdown",
      "metadata": {
        "id": "2wBpVSdgtZBO"
      },
      "source": [
        "**Variational quantum eigensolver**"
      ]
    },
    {
      "cell_type": "markdown",
      "metadata": {
        "id": "4a1VaFQxGrU3"
      },
      "source": [
        "#### **Software Frameworks**"
      ]
    },
    {
      "cell_type": "markdown",
      "metadata": {
        "id": "4NrFnQjaGwF8"
      },
      "source": [
        "https://strawberryfields.ai"
      ]
    },
    {
      "cell_type": "markdown",
      "metadata": {
        "id": "sv_NLwI9Gxzw"
      },
      "source": [
        "https://pennylane.ai"
      ]
    },
    {
      "cell_type": "markdown",
      "metadata": {
        "id": "faWZpw6GCtO-"
      },
      "source": [
        "## **Quantum Machine Learning**"
      ]
    },
    {
      "cell_type": "markdown",
      "metadata": {
        "id": "oLk8qkDfCxVi"
      },
      "source": [
        "###### **26 - Qboost**"
      ]
    },
    {
      "cell_type": "markdown",
      "metadata": {
        "id": "E7F7W1hYvglE"
      },
      "source": [
        "## **Fun Facts**"
      ]
    },
    {
      "cell_type": "markdown",
      "metadata": {
        "id": "jjT6NNCWSteF"
      },
      "source": [
        "1. **Quantum Computers are not a replacement for classical computers**. \n",
        "\n",
        "  * Because they are not universally faster. They are only faster for special types of calculations where you can use the fact that you have all these quantum super positions available to you at the same time to do some kind of computational parallelism. \n",
        "\n",
        "  * QC are not gonna give you any particular improvement for some document working, watch a video in high definition or browse the internet. At sequential work, classical computers work better. If you need to use a classical algorithm to get the result. \n",
        "\n",
        "  * don't think that with a quantum computer every operation is faster. In fact, they are probably going to be slower than in the computers we have today. But it is a computer (the qc) where the number of operations required to arrive at a result is exponentially small. So the improvement is not in the speed of individual operations but is in the total number of operations you need to arrive at the result.\n",
        "\n",
        "  * But that is only the case in particular types of calculations, particular algorithms. It's not universal."
      ]
    },
    {
      "cell_type": "markdown",
      "metadata": {
        "id": "Kd4UMfSYVT7s"
      },
      "source": [
        "https://csferrie.medium.com/the-stupidest-most-technologically-and-resource-inefficient-way-to-multiply-by-two-fd6d0290f7b6"
      ]
    },
    {
      "cell_type": "markdown",
      "metadata": {
        "id": "m77IbyCQVV0h"
      },
      "source": [
        "https://csferrie.medium.com/heres-why-superposition-and-entanglement-have-nothing-to-do-with-understanding-quantum-computers-b2557ed7b5a2"
      ]
    },
    {
      "cell_type": "markdown",
      "metadata": {
        "id": "xogp7CuSwG-f"
      },
      "source": [
        "###### **Other Things**"
      ]
    },
    {
      "cell_type": "markdown",
      "metadata": {
        "id": "RiQzMdJ0wI8U"
      },
      "source": [
        "https://en.m.wikipedia.org/wiki/Quantum_information"
      ]
    },
    {
      "cell_type": "markdown",
      "metadata": {
        "id": "Rf5zpy57zrVr"
      },
      "source": [
        "## **Coding**"
      ]
    },
    {
      "cell_type": "markdown",
      "metadata": {
        "id": "MpTXMA6F9mIm"
      },
      "source": [
        "###### **Libraries**"
      ]
    },
    {
      "cell_type": "code",
      "metadata": {
        "id": "z96sfDt8TcH3"
      },
      "source": [
        "# pip install -q tensorflow==2.3.1"
      ],
      "execution_count": null,
      "outputs": []
    },
    {
      "cell_type": "code",
      "metadata": {
        "id": "P3JA9BYnTerg"
      },
      "source": [
        "pip install -q tensorflow-quantum"
      ],
      "execution_count": null,
      "outputs": []
    },
    {
      "cell_type": "code",
      "metadata": {
        "id": "WXKNjwRqT0cc"
      },
      "source": [
        "import tensorflow as tf\n",
        "#import tensorflow_quantum as tfq\n",
        "\n",
        "import cirq\n",
        "import sympy\n",
        "import numpy as np\n",
        "import pandas as pd\n",
        "\n",
        "# visualization tools\n",
        "%matplotlib inline\n",
        "import matplotlib.pyplot as plt\n",
        "from cirq.contrib.svg import SVGCircuit"
      ],
      "execution_count": null,
      "outputs": []
    },
    {
      "cell_type": "markdown",
      "metadata": {
        "id": "sM4oNOMD0-M2"
      },
      "source": [
        "https://tensorflow.google.cn/quantum/tutorials/hello_many_worlds?hl=en"
      ]
    },
    {
      "cell_type": "markdown",
      "metadata": {
        "id": "7MYxdoOc1Agc"
      },
      "source": [
        "https://towardsdatascience.com/quantum-machine-learning-101-1058f24c3487"
      ]
    },
    {
      "cell_type": "code",
      "metadata": {
        "id": "6t3X4BlM05Xl",
        "colab": {
          "base_uri": "https://localhost:8080/"
        },
        "outputId": "d38bf329-383e-4de1-834e-ccc785856986"
      },
      "source": [
        "def get_data(l):\n",
        "    data = np.random.randint(0,1,(l,2))\n",
        "    label = np.ones(l)\n",
        "    data[0::2,0]=1\n",
        "    data[1::2,1]=1\n",
        "    label[0::2] = -1\n",
        "    p = np.random.permutation(l)\n",
        "    return data[p], label[p]\n",
        "\n",
        "x_train, y_train = get_data(5000)\n",
        "x_test, y_test = get_data(200)\n",
        "print(pd.DataFrame(np.concatenate((x_train, np.reshape(y_train, (-1,1))), axis=1) , columns=[\"x1\", \"x2\", \"y\"]))"
      ],
      "execution_count": null,
      "outputs": [
        {
          "output_type": "stream",
          "text": [
            "       x1   x2    y\n",
            "0     0.0  1.0  1.0\n",
            "1     0.0  1.0  1.0\n",
            "2     0.0  1.0  1.0\n",
            "3     1.0  0.0 -1.0\n",
            "4     0.0  1.0  1.0\n",
            "...   ...  ...  ...\n",
            "4995  1.0  0.0 -1.0\n",
            "4996  1.0  0.0 -1.0\n",
            "4997  1.0  0.0 -1.0\n",
            "4998  0.0  1.0  1.0\n",
            "4999  1.0  0.0 -1.0\n",
            "\n",
            "[5000 rows x 3 columns]\n"
          ],
          "name": "stdout"
        }
      ]
    },
    {
      "cell_type": "code",
      "metadata": {
        "id": "42eo9RBd1O3G"
      },
      "source": [
        "def convert_to_circuit(x):\n",
        "    qubits = cirq.GridQubit.rect(1, 2)\n",
        "    circuit = cirq.Circuit()\n",
        "    for i, val in enumerate(x):\n",
        "        if val:\n",
        "            circuit.append(cirq.X(qubits[i]))\n",
        "    return circuit"
      ],
      "execution_count": null,
      "outputs": []
    },
    {
      "cell_type": "code",
      "metadata": {
        "id": "PtYwHtDC1WHU"
      },
      "source": [
        "x_train_circ = [convert_to_circuit(x) for x in x_train]\n",
        "x_test_circ = [convert_to_circuit(x) for x in x_test]"
      ],
      "execution_count": null,
      "outputs": []
    },
    {
      "cell_type": "code",
      "metadata": {
        "id": "ULVDoX2M1Y4F",
        "colab": {
          "base_uri": "https://localhost:8080/",
          "height": 181
        },
        "outputId": "70f40afc-c571-42e7-851e-81377455a7f5"
      },
      "source": [
        "x_train_tfcirc = tfq.convert_to_tensor(x_train_circ)\n",
        "x_test_tfcirc = tfq.convert_to_tensor(x_test_circ)"
      ],
      "execution_count": null,
      "outputs": [
        {
          "output_type": "error",
          "ename": "NameError",
          "evalue": "ignored",
          "traceback": [
            "\u001b[0;31m---------------------------------------------------------------------------\u001b[0m",
            "\u001b[0;31mNameError\u001b[0m                                 Traceback (most recent call last)",
            "\u001b[0;32m<ipython-input-12-a9a0f59e4206>\u001b[0m in \u001b[0;36m<module>\u001b[0;34m()\u001b[0m\n\u001b[0;32m----> 1\u001b[0;31m \u001b[0mx_train_tfcirc\u001b[0m \u001b[0;34m=\u001b[0m \u001b[0mtfq\u001b[0m\u001b[0;34m.\u001b[0m\u001b[0mconvert_to_tensor\u001b[0m\u001b[0;34m(\u001b[0m\u001b[0mx_train_circ\u001b[0m\u001b[0;34m)\u001b[0m\u001b[0;34m\u001b[0m\u001b[0;34m\u001b[0m\u001b[0m\n\u001b[0m\u001b[1;32m      2\u001b[0m \u001b[0mx_test_tfcirc\u001b[0m \u001b[0;34m=\u001b[0m \u001b[0mtfq\u001b[0m\u001b[0;34m.\u001b[0m\u001b[0mconvert_to_tensor\u001b[0m\u001b[0;34m(\u001b[0m\u001b[0mx_test_circ\u001b[0m\u001b[0;34m)\u001b[0m\u001b[0;34m\u001b[0m\u001b[0;34m\u001b[0m\u001b[0m\n",
            "\u001b[0;31mNameError\u001b[0m: name 'tfq' is not defined"
          ]
        }
      ]
    },
    {
      "cell_type": "code",
      "metadata": {
        "id": "N5_0t8Fu1dMp",
        "colab": {
          "base_uri": "https://localhost:8080/",
          "height": 189
        },
        "outputId": "f39a5d05-9ca3-49d2-c46e-1e47dca953c4"
      },
      "source": [
        "input_qubits = cirq.GridQubit.rect(2, 1)  # 2x1 grid.\n",
        "readout = cirq.GridQubit(-1, -1)   # a qubit at [-1,-1]\n",
        "model_circuit = cirq.Circuit()\n",
        "\n",
        "model_circuit.append(cirq.X(readout))\n",
        "model_circuit.append(cirq.H(readout))\n",
        "\n",
        "alpha1 = sympy.Symbol('a1')\n",
        "model_circuit.append(cirq.XX(input_qubits[0], readout)**alpha1)\n",
        "\n",
        "alpha2 = sympy.Symbol('a2')\n",
        "model_circuit.append(cirq.XX(input_qubits[1], readout)**alpha2)\n",
        "\n",
        "beta1 = sympy.Symbol('b1')\n",
        "model_circuit.append(cirq.ZZ(input_qubits[0], readout)**beta1)\n",
        "\n",
        "beta2 = sympy.Symbol('b2')\n",
        "model_circuit.append(cirq.ZZ(input_qubits[1], readout)**beta2)\n",
        "\n",
        "model_circuit.append(cirq.H(readout))\n",
        "model_readout = cirq.Z(readout)\n",
        "SVGCircuit(model_circuit)"
      ],
      "execution_count": null,
      "outputs": [
        {
          "output_type": "stream",
          "text": [
            "findfont: Font family ['Arial'] not found. Falling back to DejaVu Sans.\n"
          ],
          "name": "stderr"
        },
        {
          "output_type": "execute_result",
          "data": {
            "text/plain": [
              "<cirq.contrib.svg.svg.SVGCircuit at 0x7f9dcf675550>"
            ],
            "image/svg+xml": "<svg xmlns=\"http://www.w3.org/2000/svg\" width=\"606.345703125\" height=\"150.0\"><line x1=\"39.810625\" x2=\"576.345703125\" y1=\"25.0\" y2=\"25.0\" stroke=\"#1967d2\" stroke-width=\"1\" /><line x1=\"39.810625\" x2=\"576.345703125\" y1=\"75.0\" y2=\"75.0\" stroke=\"#1967d2\" stroke-width=\"1\" /><line x1=\"39.810625\" x2=\"576.345703125\" y1=\"125.0\" y2=\"125.0\" stroke=\"#1967d2\" stroke-width=\"1\" /><line x1=\"237.96529296875002\" x2=\"237.96529296875002\" y1=\"25.0\" y2=\"75.0\" stroke=\"black\" stroke-width=\"3\" /><line x1=\"314.59869140625\" x2=\"314.59869140625\" y1=\"25.0\" y2=\"125.0\" stroke=\"black\" stroke-width=\"3\" /><line x1=\"391.2798046875\" x2=\"391.2798046875\" y1=\"25.0\" y2=\"75.0\" stroke=\"black\" stroke-width=\"3\" /><line x1=\"468.00863281249997\" x2=\"468.00863281249997\" y1=\"25.0\" y2=\"125.0\" stroke=\"black\" stroke-width=\"3\" /><rect x=\"10.0\" y=\"5.0\" width=\"59.62125\" height=\"40\" stroke=\"black\" fill=\"white\" stroke-width=\"0\" /><text x=\"39.810625\" y=\"25.0\" dominant-baseline=\"middle\" text-anchor=\"middle\" font-size=\"14px\" font-family=\"Arial\">(-1, -1): </text><rect x=\"10.0\" y=\"55.0\" width=\"59.62125\" height=\"40\" stroke=\"black\" fill=\"white\" stroke-width=\"0\" /><text x=\"39.810625\" y=\"75.0\" dominant-baseline=\"middle\" text-anchor=\"middle\" font-size=\"14px\" font-family=\"Arial\">(0, 0): </text><rect x=\"10.0\" y=\"105.0\" width=\"59.62125\" height=\"40\" stroke=\"black\" fill=\"white\" stroke-width=\"0\" /><text x=\"39.810625\" y=\"125.0\" dominant-baseline=\"middle\" text-anchor=\"middle\" font-size=\"14px\" font-family=\"Arial\">(1, 0): </text><rect x=\"89.62125\" y=\"5.0\" width=\"40\" height=\"40\" stroke=\"black\" fill=\"white\" stroke-width=\"1\" /><text x=\"109.62125\" y=\"25.0\" dominant-baseline=\"middle\" text-anchor=\"middle\" font-size=\"18px\" font-family=\"Arial\">X</text><rect x=\"149.62125\" y=\"5.0\" width=\"40\" height=\"40\" stroke=\"black\" fill=\"white\" stroke-width=\"1\" /><text x=\"169.62125\" y=\"25.0\" dominant-baseline=\"middle\" text-anchor=\"middle\" font-size=\"18px\" font-family=\"Arial\">H</text><rect x=\"209.62125000000003\" y=\"55.0\" width=\"56.688085937500006\" height=\"40\" stroke=\"black\" fill=\"white\" stroke-width=\"1\" /><text x=\"237.96529296875002\" y=\"75.0\" dominant-baseline=\"middle\" text-anchor=\"middle\" font-size=\"14px\" font-family=\"Arial\">XX^a1</text><rect x=\"209.62125000000003\" y=\"5.0\" width=\"56.688085937500006\" height=\"40\" stroke=\"black\" fill=\"white\" stroke-width=\"1\" /><text x=\"237.96529296875002\" y=\"25.0\" dominant-baseline=\"middle\" text-anchor=\"middle\" font-size=\"14px\" font-family=\"Arial\">XX</text><rect x=\"286.3093359375\" y=\"105.0\" width=\"56.578710937500006\" height=\"40\" stroke=\"black\" fill=\"white\" stroke-width=\"1\" /><text x=\"314.59869140625\" y=\"125.0\" dominant-baseline=\"middle\" text-anchor=\"middle\" font-size=\"14px\" font-family=\"Arial\">XX^a2</text><rect x=\"286.3093359375\" y=\"5.0\" width=\"56.578710937500006\" height=\"40\" stroke=\"black\" fill=\"white\" stroke-width=\"1\" /><text x=\"314.59869140625\" y=\"25.0\" dominant-baseline=\"middle\" text-anchor=\"middle\" font-size=\"14px\" font-family=\"Arial\">XX</text><rect x=\"362.888046875\" y=\"55.0\" width=\"56.78351562500001\" height=\"40\" stroke=\"black\" fill=\"white\" stroke-width=\"1\" /><text x=\"391.2798046875\" y=\"75.0\" dominant-baseline=\"middle\" text-anchor=\"middle\" font-size=\"14px\" font-family=\"Arial\">ZZ^b1</text><rect x=\"362.888046875\" y=\"5.0\" width=\"56.78351562500001\" height=\"40\" stroke=\"black\" fill=\"white\" stroke-width=\"1\" /><text x=\"391.2798046875\" y=\"25.0\" dominant-baseline=\"middle\" text-anchor=\"middle\" font-size=\"14px\" font-family=\"Arial\">ZZ</text><rect x=\"439.67156249999994\" y=\"105.0\" width=\"56.67414062500001\" height=\"40\" stroke=\"black\" fill=\"white\" stroke-width=\"1\" /><text x=\"468.00863281249997\" y=\"125.0\" dominant-baseline=\"middle\" text-anchor=\"middle\" font-size=\"14px\" font-family=\"Arial\">ZZ^b2</text><rect x=\"439.67156249999994\" y=\"5.0\" width=\"56.67414062500001\" height=\"40\" stroke=\"black\" fill=\"white\" stroke-width=\"1\" /><text x=\"468.00863281249997\" y=\"25.0\" dominant-baseline=\"middle\" text-anchor=\"middle\" font-size=\"14px\" font-family=\"Arial\">ZZ</text><rect x=\"516.345703125\" y=\"5.0\" width=\"40\" height=\"40\" stroke=\"black\" fill=\"white\" stroke-width=\"1\" /><text x=\"536.345703125\" y=\"25.0\" dominant-baseline=\"middle\" text-anchor=\"middle\" font-size=\"18px\" font-family=\"Arial\">H</text></svg>"
          },
          "metadata": {
            "tags": []
          },
          "execution_count": 31
        }
      ]
    },
    {
      "cell_type": "code",
      "metadata": {
        "id": "T4xnQaKz1hC-"
      },
      "source": [
        "# Build the model.\n",
        "model = tf.keras.Sequential([\n",
        "    # The input is the data-circuit, encoded as a tf.string\n",
        "    tf.keras.layers.Input(shape=(), dtype=tf.string),\n",
        "    # PQC layer returns the expected val of the readout gate @[-1,1]\n",
        "    tfq.layers.PQC(model_circuit, model_readout),\n",
        "])"
      ],
      "execution_count": null,
      "outputs": []
    },
    {
      "cell_type": "code",
      "metadata": {
        "id": "evS7OHUa1k9a"
      },
      "source": [
        "model.compile(\n",
        "    loss=tf.keras.losses.MeanSquaredError(),\n",
        "    optimizer=tf.keras.optimizers.Adam(),\n",
        "    metrics=[\"mae\"])"
      ],
      "execution_count": null,
      "outputs": []
    },
    {
      "cell_type": "markdown",
      "metadata": {
        "id": "0qnC0RiJ5xek"
      },
      "source": [
        "https://tensorflow.google.cn/api_docs/python/tf/keras/losses/Hinge"
      ]
    },
    {
      "cell_type": "markdown",
      "metadata": {
        "id": "ordCYvMR4NDP"
      },
      "source": [
        "https://www.tensorflow.org/guide/keras/train_and_evaluate"
      ]
    },
    {
      "cell_type": "code",
      "metadata": {
        "id": "7294RVsA1m8W",
        "colab": {
          "base_uri": "https://localhost:8080/"
        },
        "outputId": "715078ac-6821-479b-8699-d696aa515504"
      },
      "source": [
        "model.summary()"
      ],
      "execution_count": null,
      "outputs": [
        {
          "output_type": "stream",
          "text": [
            "Model: \"sequential\"\n",
            "_________________________________________________________________\n",
            "Layer (type)                 Output Shape              Param #   \n",
            "=================================================================\n",
            "pqc (PQC)                    (None, 1)                 4         \n",
            "=================================================================\n",
            "Total params: 4\n",
            "Trainable params: 4\n",
            "Non-trainable params: 0\n",
            "_________________________________________________________________\n"
          ],
          "name": "stdout"
        }
      ]
    },
    {
      "cell_type": "code",
      "metadata": {
        "id": "EuGvYUGo4eiZ"
      },
      "source": [
        "# Plot Losses Keras TF (simple)\n",
        "!pip install livelossplot --quiet\n",
        "from livelossplot import PlotLossesKerasTF\n",
        "\n",
        "callbacks = [PlotLossesKerasTF()]"
      ],
      "execution_count": null,
      "outputs": []
    },
    {
      "cell_type": "code",
      "metadata": {
        "id": "CBYKobIB4EaJ",
        "colab": {
          "base_uri": "https://localhost:8080/",
          "height": 683
        },
        "outputId": "3b774062-e58f-4630-a1e6-f5c76d6bd19e"
      },
      "source": [
        "model_history = model.fit(\n",
        "      x_train_tfcirc, y_train,\n",
        "      batch_size=200,\n",
        "      epochs=5,\n",
        "      verbose=1,\n",
        "      validation_data=(x_test_tfcirc, y_test),\n",
        "      callbacks=callbacks)\n",
        "\n",
        "results = model.evaluate(x_test_tfcirc, y_test)"
      ],
      "execution_count": null,
      "outputs": [
        {
          "output_type": "display_data",
          "data": {
            "image/png": "[encoded data removed]",
            "text/plain": [
              "<Figure size 864x576 with 2 Axes>"
            ]
          },
          "metadata": {
            "tags": [],
            "needs_background": "light"
          }
        },
        {
          "output_type": "stream",
          "text": [
            "Loss\n",
            "\ttraining         \t (min:    0.019, max:    0.093, cur:    0.019)\n",
            "\tvalidation       \t (min:    0.016, max:    0.072, cur:    0.016)\n",
            "mae\n",
            "\ttraining         \t (min:    0.139, max:    0.304, cur:    0.139)\n",
            "\tvalidation       \t (min:    0.128, max:    0.269, cur:    0.128)\n",
            "25/25 [==============================] - 1s 59ms/step - loss: 0.0194 - mae: 0.1392 - val_loss: 0.0164 - val_mae: 0.1281\n",
            "7/7 [==============================] - 0s 4ms/step - loss: 0.0164 - mae: 0.1281\n"
          ],
          "name": "stdout"
        }
      ]
    },
    {
      "cell_type": "code",
      "metadata": {
        "id": "S5OpKhHv4UVL",
        "colab": {
          "base_uri": "https://localhost:8080/",
          "height": 55
        },
        "outputId": "054ea872-7ee4-4f69-bbdd-fabf9b501f99"
      },
      "source": [
        "print(list(zip(model.predict(x_test_tfcirc).ravel()[:10], y_test[:10])))"
      ],
      "execution_count": null,
      "outputs": [
        {
          "output_type": "stream",
          "text": [
            "[(-0.99654704, -1.0), (0.996547, 1.0), (-0.99654704, -1.0), (0.996547, 1.0), (-0.99654704, -1.0), (0.996547, 1.0), (0.996547, 1.0), (-0.99654704, -1.0), (-0.99654704, -1.0), (-0.99654704, -1.0)]\n"
          ],
          "name": "stdout"
        }
      ]
    },
    {
      "cell_type": "markdown",
      "metadata": {
        "id": "dK6E1-t3m5eA"
      },
      "source": [
        "###### **ggg**"
      ]
    },
    {
      "cell_type": "code",
      "metadata": {
        "colab": {
          "base_uri": "https://localhost:8080/"
        },
        "id": "jmndwjCQm9Bx",
        "outputId": "6736586a-5904-4e21-ad6a-7fca11dffcce"
      },
      "source": [
        "!pip install -q tensorflow-quantum\n",
        "!pip install -q cirq"
      ],
      "execution_count": null,
      "outputs": [
        {
          "output_type": "stream",
          "text": [
            "\u001b[K     |████████████████████████████████| 5.9MB 6.5MB/s \n",
            "\u001b[K     |████████████████████████████████| 1.6MB 46.3MB/s \n",
            "\u001b[K     |████████████████████████████████| 5.6MB 44.7MB/s \n",
            "\u001b[?25h"
          ],
          "name": "stdout"
        }
      ]
    },
    {
      "cell_type": "code",
      "metadata": {
        "id": "1jLiCrZ1nFrT"
      },
      "source": [
        "import numpy as np\n",
        "import sympy\n",
        "\n",
        "# For Quantum ML\n",
        "import cirq\n",
        "import tensorflow as tf\n",
        "import tensorflow_quantum as tfq\n",
        "\n",
        "# For Visualization\n",
        "%matplotlib inline\n",
        "import matplotlib.pyplot as plt\n",
        "from cirq.contrib.svg import SVGCircuit"
      ],
      "execution_count": null,
      "outputs": []
    },
    {
      "cell_type": "code",
      "metadata": {
        "id": "l3a5vs_-nPE_"
      },
      "source": [
        "import pandas as pd"
      ],
      "execution_count": null,
      "outputs": []
    },
    {
      "cell_type": "code",
      "metadata": {
        "colab": {
          "base_uri": "https://localhost:8080/"
        },
        "id": "W75lwTERnMyZ",
        "outputId": "8c24cbe6-763f-45e0-d21d-6f9ef857d77a"
      },
      "source": [
        "def get_data(l):\n",
        "    data = np.random.randint(0,1,(l,2))\n",
        "    label = np.ones(l)\n",
        "    data[0::2,0]=1\n",
        "    data[1::2,1]=1\n",
        "    label[0::2] = -1\n",
        "    p = np.random.permutation(l)\n",
        "    return data[p], label[p]\n",
        "\n",
        "x_train, y_train = get_data(5000)\n",
        "x_test, y_test = get_data(200)\n",
        "print(pd.DataFrame(np.concatenate((x_train, np.reshape(y_train, (-1,1))), axis=1) , columns=[\"x1\", \"x2\", \"y\"]))\n"
      ],
      "execution_count": null,
      "outputs": [
        {
          "output_type": "stream",
          "text": [
            "       x1   x2    y\n",
            "0     0.0  1.0  1.0\n",
            "1     1.0  0.0 -1.0\n",
            "2     0.0  1.0  1.0\n",
            "3     0.0  1.0  1.0\n",
            "4     0.0  1.0  1.0\n",
            "...   ...  ...  ...\n",
            "4995  0.0  1.0  1.0\n",
            "4996  0.0  1.0  1.0\n",
            "4997  1.0  0.0 -1.0\n",
            "4998  0.0  1.0  1.0\n",
            "4999  1.0  0.0 -1.0\n",
            "\n",
            "[5000 rows x 3 columns]\n"
          ],
          "name": "stdout"
        }
      ]
    },
    {
      "cell_type": "code",
      "metadata": {
        "id": "-QHzvnV8nTrk"
      },
      "source": [
        "def convert_to_circuit(x):\n",
        "    qubits = cirq.GridQubit.rect(1, 2)\n",
        "    circuit = cirq.Circuit()\n",
        "    for i, val in enumerate(x):\n",
        "        if val:\n",
        "            circuit.append(cirq.X(qubits[i]))\n",
        "    return circuit\n"
      ],
      "execution_count": null,
      "outputs": []
    },
    {
      "cell_type": "code",
      "metadata": {
        "id": "mAwfigzxnW1I"
      },
      "source": [
        "x_train_circ = [convert_to_circuit(x) for x in x_train]\n",
        "x_test_circ = [convert_to_circuit(x) for x in x_test]"
      ],
      "execution_count": null,
      "outputs": []
    },
    {
      "cell_type": "code",
      "metadata": {
        "id": "0j7Kb1pdnZq_"
      },
      "source": [
        "x_train_tfcirc = tfq.convert_to_tensor(x_train_circ)\n",
        "x_test_tfcirc = tfq.convert_to_tensor(x_test_circ)"
      ],
      "execution_count": null,
      "outputs": []
    },
    {
      "cell_type": "code",
      "metadata": {
        "colab": {
          "base_uri": "https://localhost:8080/",
          "height": 189
        },
        "id": "F2gcTWrfncy5",
        "outputId": "c98d6090-4cd1-4536-a588-dce3470ee010"
      },
      "source": [
        "input_qubits = cirq.GridQubit.rect(2, 1)  # 2x1 grid.\n",
        "readout = cirq.GridQubit(-1, -1)   # a qubit at [-1,-1]\n",
        "model_circuit = cirq.Circuit()\n",
        "\n",
        "model_circuit.append(cirq.X(readout))\n",
        "model_circuit.append(cirq.H(readout))\n",
        "\n",
        "alpha1 = sympy.Symbol('a1')\n",
        "model_circuit.append(cirq.XX(input_qubits[0], readout)**alpha1)\n",
        "\n",
        "alpha2 = sympy.Symbol('a2')\n",
        "model_circuit.append(cirq.XX(input_qubits[1], readout)**alpha2)\n",
        "\n",
        "beta1 = sympy.Symbol('b1')\n",
        "model_circuit.append(cirq.ZZ(input_qubits[0], readout)**beta1)\n",
        "\n",
        "beta2 = sympy.Symbol('b2')\n",
        "model_circuit.append(cirq.ZZ(input_qubits[1], readout)**beta2)\n",
        "\n",
        "model_circuit.append(cirq.H(readout))\n",
        "model_readout = cirq.Z(readout)\n",
        "SVGCircuit(model_circuit)\n"
      ],
      "execution_count": null,
      "outputs": [
        {
          "output_type": "stream",
          "text": [
            "findfont: Font family ['Arial'] not found. Falling back to DejaVu Sans.\n"
          ],
          "name": "stderr"
        },
        {
          "output_type": "execute_result",
          "data": {
            "text/plain": [
              "<cirq.contrib.svg.svg.SVGCircuit at 0x7ff1f9d4df28>"
            ],
            "image/svg+xml": "<svg xmlns=\"http://www.w3.org/2000/svg\" width=\"606.345703125\" height=\"150.0\"><line x1=\"39.810625\" x2=\"576.345703125\" y1=\"25.0\" y2=\"25.0\" stroke=\"#1967d2\" stroke-width=\"1\" /><line x1=\"39.810625\" x2=\"576.345703125\" y1=\"75.0\" y2=\"75.0\" stroke=\"#1967d2\" stroke-width=\"1\" /><line x1=\"39.810625\" x2=\"576.345703125\" y1=\"125.0\" y2=\"125.0\" stroke=\"#1967d2\" stroke-width=\"1\" /><line x1=\"237.96529296875002\" x2=\"237.96529296875002\" y1=\"25.0\" y2=\"75.0\" stroke=\"black\" stroke-width=\"3\" /><line x1=\"314.59869140625\" x2=\"314.59869140625\" y1=\"25.0\" y2=\"125.0\" stroke=\"black\" stroke-width=\"3\" /><line x1=\"391.2798046875\" x2=\"391.2798046875\" y1=\"25.0\" y2=\"75.0\" stroke=\"black\" stroke-width=\"3\" /><line x1=\"468.00863281249997\" x2=\"468.00863281249997\" y1=\"25.0\" y2=\"125.0\" stroke=\"black\" stroke-width=\"3\" /><rect x=\"10.0\" y=\"5.0\" width=\"59.62125\" height=\"40\" stroke=\"black\" fill=\"white\" stroke-width=\"0\" /><text x=\"39.810625\" y=\"25.0\" dominant-baseline=\"middle\" text-anchor=\"middle\" font-size=\"14px\" font-family=\"Arial\">(-1, -1): </text><rect x=\"10.0\" y=\"55.0\" width=\"59.62125\" height=\"40\" stroke=\"black\" fill=\"white\" stroke-width=\"0\" /><text x=\"39.810625\" y=\"75.0\" dominant-baseline=\"middle\" text-anchor=\"middle\" font-size=\"14px\" font-family=\"Arial\">(0, 0): </text><rect x=\"10.0\" y=\"105.0\" width=\"59.62125\" height=\"40\" stroke=\"black\" fill=\"white\" stroke-width=\"0\" /><text x=\"39.810625\" y=\"125.0\" dominant-baseline=\"middle\" text-anchor=\"middle\" font-size=\"14px\" font-family=\"Arial\">(1, 0): </text><rect x=\"89.62125\" y=\"5.0\" width=\"40\" height=\"40\" stroke=\"black\" fill=\"white\" stroke-width=\"1\" /><text x=\"109.62125\" y=\"25.0\" dominant-baseline=\"middle\" text-anchor=\"middle\" font-size=\"18px\" font-family=\"Arial\">X</text><rect x=\"149.62125\" y=\"5.0\" width=\"40\" height=\"40\" stroke=\"black\" fill=\"white\" stroke-width=\"1\" /><text x=\"169.62125\" y=\"25.0\" dominant-baseline=\"middle\" text-anchor=\"middle\" font-size=\"18px\" font-family=\"Arial\">H</text><rect x=\"209.62125000000003\" y=\"55.0\" width=\"56.688085937500006\" height=\"40\" stroke=\"black\" fill=\"white\" stroke-width=\"1\" /><text x=\"237.96529296875002\" y=\"75.0\" dominant-baseline=\"middle\" text-anchor=\"middle\" font-size=\"14px\" font-family=\"Arial\">XX^a1</text><rect x=\"209.62125000000003\" y=\"5.0\" width=\"56.688085937500006\" height=\"40\" stroke=\"black\" fill=\"white\" stroke-width=\"1\" /><text x=\"237.96529296875002\" y=\"25.0\" dominant-baseline=\"middle\" text-anchor=\"middle\" font-size=\"14px\" font-family=\"Arial\">XX</text><rect x=\"286.3093359375\" y=\"105.0\" width=\"56.578710937500006\" height=\"40\" stroke=\"black\" fill=\"white\" stroke-width=\"1\" /><text x=\"314.59869140625\" y=\"125.0\" dominant-baseline=\"middle\" text-anchor=\"middle\" font-size=\"14px\" font-family=\"Arial\">XX^a2</text><rect x=\"286.3093359375\" y=\"5.0\" width=\"56.578710937500006\" height=\"40\" stroke=\"black\" fill=\"white\" stroke-width=\"1\" /><text x=\"314.59869140625\" y=\"25.0\" dominant-baseline=\"middle\" text-anchor=\"middle\" font-size=\"14px\" font-family=\"Arial\">XX</text><rect x=\"362.888046875\" y=\"55.0\" width=\"56.78351562500001\" height=\"40\" stroke=\"black\" fill=\"white\" stroke-width=\"1\" /><text x=\"391.2798046875\" y=\"75.0\" dominant-baseline=\"middle\" text-anchor=\"middle\" font-size=\"14px\" font-family=\"Arial\">ZZ^b1</text><rect x=\"362.888046875\" y=\"5.0\" width=\"56.78351562500001\" height=\"40\" stroke=\"black\" fill=\"white\" stroke-width=\"1\" /><text x=\"391.2798046875\" y=\"25.0\" dominant-baseline=\"middle\" text-anchor=\"middle\" font-size=\"14px\" font-family=\"Arial\">ZZ</text><rect x=\"439.67156249999994\" y=\"105.0\" width=\"56.67414062500001\" height=\"40\" stroke=\"black\" fill=\"white\" stroke-width=\"1\" /><text x=\"468.00863281249997\" y=\"125.0\" dominant-baseline=\"middle\" text-anchor=\"middle\" font-size=\"14px\" font-family=\"Arial\">ZZ^b2</text><rect x=\"439.67156249999994\" y=\"5.0\" width=\"56.67414062500001\" height=\"40\" stroke=\"black\" fill=\"white\" stroke-width=\"1\" /><text x=\"468.00863281249997\" y=\"25.0\" dominant-baseline=\"middle\" text-anchor=\"middle\" font-size=\"14px\" font-family=\"Arial\">ZZ</text><rect x=\"516.345703125\" y=\"5.0\" width=\"40\" height=\"40\" stroke=\"black\" fill=\"white\" stroke-width=\"1\" /><text x=\"536.345703125\" y=\"25.0\" dominant-baseline=\"middle\" text-anchor=\"middle\" font-size=\"18px\" font-family=\"Arial\">H</text></svg>"
          },
          "metadata": {
            "tags": []
          },
          "execution_count": 10
        }
      ]
    },
    {
      "cell_type": "code",
      "metadata": {
        "id": "YVq3d7tFngOv"
      },
      "source": [
        "# Build the model.\n",
        "model = tf.keras.Sequential([\n",
        "    # The input is the data-circuit, encoded as a tf.string\n",
        "    tf.keras.layers.Input(shape=(), dtype=tf.string),\n",
        "    # PQC layer returns the expected val of the readout gate @[-1,1]\n",
        "    tfq.layers.PQC(model_circuit, model_readout),\n",
        "])"
      ],
      "execution_count": null,
      "outputs": []
    },
    {
      "cell_type": "code",
      "metadata": {
        "id": "dB4300Aen0Lx"
      },
      "source": [
        "accuracy = tf.keras.metrics.Accuracy(\n",
        "    name='accuracy', dtype=None\n",
        ")"
      ],
      "execution_count": null,
      "outputs": []
    },
    {
      "cell_type": "code",
      "metadata": {
        "id": "YMl-NJs9njO5"
      },
      "source": [
        "model.compile(\n",
        "    loss=tf.keras.losses.MeanSquaredError(),\n",
        "    optimizer=tf.keras.optimizers.Adam(),\n",
        "    metrics=[accuracy])"
      ],
      "execution_count": null,
      "outputs": []
    },
    {
      "cell_type": "code",
      "metadata": {
        "id": "ZZ1jIvuBoPe2"
      },
      "source": [
        "!pip install livelossplot --quiet\n",
        "from livelossplot import PlotLossesKerasTF"
      ],
      "execution_count": null,
      "outputs": []
    },
    {
      "cell_type": "code",
      "metadata": {
        "colab": {
          "base_uri": "https://localhost:8080/",
          "height": 683
        },
        "id": "eZ1uyuiJnoJS",
        "outputId": "d0cc8535-1962-4ff9-dfa6-4bc31052f107"
      },
      "source": [
        "model_history = model.fit(\n",
        "      x_train_tfcirc, y_train,\n",
        "      batch_size=200,\n",
        "      epochs=5,\n",
        "      verbose=1,\n",
        "      validation_data=(x_test_tfcirc, y_test),\n",
        "      callbacks=[PlotLossesKerasTF()])\n",
        "\n",
        "results = model.evaluate(x_test_tfcirc, y_test)"
      ],
      "execution_count": null,
      "outputs": [
        {
          "output_type": "display_data",
          "data": {
            "image/png": "[encoded data removed]",
            "text/plain": [
              "<Figure size 864x576 with 2 Axes>"
            ]
          },
          "metadata": {
            "tags": [],
            "needs_background": "light"
          }
        },
        {
          "output_type": "stream",
          "text": [
            "accuracy\n",
            "\ttraining         \t (min:    0.000, max:    0.000, cur:    0.000)\n",
            "\tvalidation       \t (min:    0.000, max:    0.000, cur:    0.000)\n",
            "Loss\n",
            "\ttraining         \t (min:    0.728, max:    1.085, cur:    0.728)\n",
            "\tvalidation       \t (min:    0.651, max:    1.048, cur:    0.651)\n",
            "25/25 [==============================] - 2s 63ms/step - loss: 0.7280 - accuracy: 0.0000e+00 - val_loss: 0.6508 - val_accuracy: 0.0000e+00\n",
            "7/7 [==============================] - 0s 4ms/step - loss: 0.6508 - accuracy: 0.0000e+00\n"
          ],
          "name": "stdout"
        }
      ]
    },
    {
      "cell_type": "markdown",
      "metadata": {
        "id": "t6D7vXh0wCzM"
      },
      "source": [
        "###### **Line Qubits (with Hadamard)**"
      ]
    },
    {
      "cell_type": "markdown",
      "metadata": {
        "id": "LiYBqntmwWb5"
      },
      "source": [
        "* https://cirq.readthedocs.io/en/stable/generated/cirq.LineQubit.html\n",
        "\n",
        "* Gate used: Hadamard ([see doc](https://cirq.readthedocs.io/en/stable/generated/cirq.H.html))"
      ]
    },
    {
      "cell_type": "code",
      "metadata": {
        "id": "y4ktOROmyohu",
        "colab": {
          "base_uri": "https://localhost:8080/"
        },
        "outputId": "647d0f2f-0011-45df-f589-ab6609d68c69"
      },
      "source": [
        "# Step 1: Create Circuit object\n",
        "circuit = cirq.Circuit()\n",
        "\n",
        "# Step 2: Define 2 qubits\n",
        "(q0, q1) = cirq.LineQubit.range(2)\n",
        "\n",
        "# Step 3: Perform quantum gates on qubits\n",
        "circuit.append([cirq.H(q0), cirq.CNOT(q0, q1)])\n",
        "circuit.append([cirq.H(q0), cirq.CNOT(q0, q1)])\n",
        "\n",
        "# Step 4: Measure quantum bits\n",
        "circuit.append([cirq.measure(q0), cirq.measure(q1)])\n",
        "\n",
        "# Step 5: See what circuit has been produced (optional)\n",
        "print(circuit)"
      ],
      "execution_count": null,
      "outputs": [
        {
          "output_type": "stream",
          "text": [
            "0: ───H───@───H───@───M───\n",
            "          │       │\n",
            "1: ───────X───────X───M───\n"
          ],
          "name": "stdout"
        }
      ]
    },
    {
      "cell_type": "code",
      "metadata": {
        "id": "kCU3hjW5yem0",
        "colab": {
          "base_uri": "https://localhost:8080/"
        },
        "outputId": "0a2b4365-a77b-4145-ce8c-799aafa23720"
      },
      "source": [
        "# Step 6: Perform simulation of the circuit\n",
        "sim = cirq.Simulator()\n",
        "results = sim.run(circuit, repetitions=10)\n",
        "print(results)"
      ],
      "execution_count": null,
      "outputs": [
        {
          "output_type": "stream",
          "text": [
            "0=1011010110\n",
            "1=0001110111\n"
          ],
          "name": "stdout"
        }
      ]
    },
    {
      "cell_type": "markdown",
      "metadata": {
        "id": "lCpEZKEfwE6n"
      },
      "source": [
        "###### **Grid Qubits (with controlled Z)**"
      ]
    },
    {
      "cell_type": "markdown",
      "metadata": {
        "id": "XjHp3CBNwn8s"
      },
      "source": [
        "* https://cirq.readthedocs.io/en/stable/generated/cirq.GridQubit.html\n",
        "\n",
        "* Gate used: CZ - Controlled Z ([see doc](https://cirq.readthedocs.io/en/stable/generated/cirq.CZ.html))"
      ]
    },
    {
      "cell_type": "code",
      "metadata": {
        "id": "bjwXYtuwjmDw",
        "colab": {
          "base_uri": "https://localhost:8080/"
        },
        "outputId": "c6485c67-0fa0-4b35-9648-9db7115c0369"
      },
      "source": [
        "# Define quantum device\n",
        "device = cirq.google.Bristlecone\n",
        "\n",
        "# Create circuit object\n",
        "circuit = cirq.Circuit(device=device)\n",
        "\n",
        "# Define qubits\n",
        "a0, a1 = cirq.GridQubit(5, 5), cirq.GridQubit(5, 6)\n",
        "b0, b1 = cirq.GridQubit(6, 5), cirq.GridQubit(6, 6)\n",
        "\n",
        "# Perform quantum gates on qubits\n",
        "circuit.append([cirq.CZ(a0, a1), cirq.CZ(b0, b1)])\n",
        "\n",
        "# Measure quantum bits\n",
        "circuit.append([cirq.measure(a0, a1), cirq.measure(b0, b1)])\n",
        "\n",
        "# See what circuit has been produced\n",
        "print(circuit)"
      ],
      "execution_count": null,
      "outputs": [
        {
          "output_type": "stream",
          "text": [
            "(5, 5): ───@───M───────\n",
            "           │   │\n",
            "(5, 6): ───@───M───────\n",
            "\n",
            "(6, 5): ───────@───M───\n",
            "               │   │\n",
            "(6, 6): ───────@───M───\n"
          ],
          "name": "stdout"
        }
      ]
    },
    {
      "cell_type": "code",
      "metadata": {
        "id": "VtSKj4xTyp4A",
        "colab": {
          "base_uri": "https://localhost:8080/"
        },
        "outputId": "0556b2cd-abc6-44f5-d2cf-2f21bf3d1787"
      },
      "source": [
        "# Perform simulation of the circuit\n",
        "sim = cirq.Simulator()\n",
        "results = sim.run(circuit, repetitions=10)\n",
        "print(results)"
      ],
      "execution_count": null,
      "outputs": [
        {
          "output_type": "stream",
          "text": [
            "(5, 5),(5, 6)=0000000000, 0000000000\n",
            "(6, 5),(6, 6)=0000000000, 0000000000\n"
          ],
          "name": "stdout"
        }
      ]
    },
    {
      "cell_type": "markdown",
      "metadata": {
        "id": "ynHp1ZVsxctK"
      },
      "source": [
        "###### **Quantum Devices**"
      ]
    },
    {
      "cell_type": "markdown",
      "metadata": {
        "id": "Fd4XOrMIx5FO"
      },
      "source": [
        "https://cirq.readthedocs.io/en/latest/docs/google/devices.html"
      ]
    },
    {
      "cell_type": "code",
      "metadata": {
        "id": "py2IXewSuHuw",
        "colab": {
          "base_uri": "https://localhost:8080/"
        },
        "outputId": "bf921295-29e2-4933-b108-a6caf0eaf72c"
      },
      "source": [
        "print(cirq.google.Bristlecone)"
      ],
      "execution_count": null,
      "outputs": [
        {
          "output_type": "stream",
          "text": [
            "                                             (0, 5)────(0, 6)\n",
            "                                             │         │\n",
            "                                             │         │\n",
            "                                    (1, 4)───(1, 5)────(1, 6)────(1, 7)\n",
            "                                    │        │         │         │\n",
            "                                    │        │         │         │\n",
            "                           (2, 3)───(2, 4)───(2, 5)────(2, 6)────(2, 7)───(2, 8)\n",
            "                           │        │        │         │         │        │\n",
            "                           │        │        │         │         │        │\n",
            "                  (3, 2)───(3, 3)───(3, 4)───(3, 5)────(3, 6)────(3, 7)───(3, 8)───(3, 9)\n",
            "                  │        │        │        │         │         │        │        │\n",
            "                  │        │        │        │         │         │        │        │\n",
            "         (4, 1)───(4, 2)───(4, 3)───(4, 4)───(4, 5)────(4, 6)────(4, 7)───(4, 8)───(4, 9)───(4, 10)\n",
            "         │        │        │        │        │         │         │        │        │        │\n",
            "         │        │        │        │        │         │         │        │        │        │\n",
            "(5, 0)───(5, 1)───(5, 2)───(5, 3)───(5, 4)───(5, 5)────(5, 6)────(5, 7)───(5, 8)───(5, 9)───(5, 10)───(5, 11)\n",
            "         │        │        │        │        │         │         │        │        │        │\n",
            "         │        │        │        │        │         │         │        │        │        │\n",
            "         (6, 1)───(6, 2)───(6, 3)───(6, 4)───(6, 5)────(6, 6)────(6, 7)───(6, 8)───(6, 9)───(6, 10)\n",
            "                  │        │        │        │         │         │        │        │\n",
            "                  │        │        │        │         │         │        │        │\n",
            "                  (7, 2)───(7, 3)───(7, 4)───(7, 5)────(7, 6)────(7, 7)───(7, 8)───(7, 9)\n",
            "                           │        │        │         │         │        │\n",
            "                           │        │        │         │         │        │\n",
            "                           (8, 3)───(8, 4)───(8, 5)────(8, 6)────(8, 7)───(8, 8)\n",
            "                                    │        │         │         │\n",
            "                                    │        │         │         │\n",
            "                                    (9, 4)───(9, 5)────(9, 6)────(9, 7)\n",
            "                                             │         │\n",
            "                                             │         │\n",
            "                                             (10, 5)───(10, 6)\n"
          ],
          "name": "stdout"
        }
      ]
    },
    {
      "cell_type": "code",
      "metadata": {
        "id": "_Y0e_-tVxytV",
        "colab": {
          "base_uri": "https://localhost:8080/"
        },
        "outputId": "509a126c-ad2c-4c28-da21-d071a7bd4d7d"
      },
      "source": [
        "print(cirq.google.Sycamore)"
      ],
      "execution_count": null,
      "outputs": [
        {
          "output_type": "stream",
          "text": [
            "                                             (0, 5)───(0, 6)\n",
            "                                             │        │\n",
            "                                             │        │\n",
            "                                    (1, 4)───(1, 5)───(1, 6)───(1, 7)\n",
            "                                    │        │        │        │\n",
            "                                    │        │        │        │\n",
            "                           (2, 3)───(2, 4)───(2, 5)───(2, 6)───(2, 7)───(2, 8)\n",
            "                           │        │        │        │        │        │\n",
            "                           │        │        │        │        │        │\n",
            "                  (3, 2)───(3, 3)───(3, 4)───(3, 5)───(3, 6)───(3, 7)───(3, 8)───(3, 9)\n",
            "                  │        │        │        │        │        │        │        │\n",
            "                  │        │        │        │        │        │        │        │\n",
            "         (4, 1)───(4, 2)───(4, 3)───(4, 4)───(4, 5)───(4, 6)───(4, 7)───(4, 8)───(4, 9)\n",
            "         │        │        │        │        │        │        │        │\n",
            "         │        │        │        │        │        │        │        │\n",
            "(5, 0)───(5, 1)───(5, 2)───(5, 3)───(5, 4)───(5, 5)───(5, 6)───(5, 7)───(5, 8)\n",
            "         │        │        │        │        │        │        │\n",
            "         │        │        │        │        │        │        │\n",
            "         (6, 1)───(6, 2)───(6, 3)───(6, 4)───(6, 5)───(6, 6)───(6, 7)\n",
            "                  │        │        │        │        │\n",
            "                  │        │        │        │        │\n",
            "                  (7, 2)───(7, 3)───(7, 4)───(7, 5)───(7, 6)\n",
            "                           │        │        │\n",
            "                           │        │        │\n",
            "                           (8, 3)───(8, 4)───(8, 5)\n",
            "                                    │\n",
            "                                    │\n",
            "                                    (9, 4)\n"
          ],
          "name": "stdout"
        }
      ]
    }
  ]
}