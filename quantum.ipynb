{
  "nbformat": 4,
  "nbformat_minor": 0,
  "metadata": {
    "colab": {
      "name": "quantum.ipynb",
      "provenance": [],
      "collapsed_sections": [
        "RRjVYLbV2qXf",
        "NGe-yForKJ5-",
        "UapkOypalw14",
        "IIJxNgdxui1J",
        "Blm_5Aj5DCVL",
        "hUILN6FRqZuu",
        "rs29mGrUqi_-",
        "ocVJfp-tqdyb",
        "3aoRKTTAkZx5",
        "awlTmw1aiz4Q",
        "wl2dCp6SnEpR",
        "fFoHTRmWleV3",
        "8GVknVcr-7Tq",
        "WGENRWa3OhKf",
        "kMPSYVgbKTZo",
        "m-TlrXXiLQ14",
        "F_3QftqpEmsd",
        "RxXr-S9jleog"
      ],
      "include_colab_link": true
    },
    "kernelspec": {
      "name": "python3",
      "display_name": "Python 3"
    }
  },
  "cells": [
    {
      "cell_type": "markdown",
      "metadata": {
        "id": "view-in-github",
        "colab_type": "text"
      },
      "source": [
        "<a href=\"https://colab.research.google.com/github/deltorobarba/machinelearning/blob/master/quantum.ipynb\" target=\"_parent\"><img src=\"https://colab.research.google.com/assets/colab-badge.svg\" alt=\"Open In Colab\"/></a>"
      ]
    },
    {
      "cell_type": "markdown",
      "metadata": {
        "id": "46nztkAR5VJE"
      },
      "source": [
        "# **Quantum Subroutines**"
      ]
    },
    {
      "cell_type": "code",
      "metadata": {
        "id": "jObfS0OgRhq6"
      },
      "source": [
        "!pip install cirq --quiet\n",
        "import cirq\n",
        "import sympy\n",
        "from cirq.contrib.svg import SVGCircuit\n",
        "import numpy as np\n",
        "import pandas as pd\n",
        "import seaborn as sns\n",
        "import matplotlib.pyplot as plt # %matplotlib inline\n",
        "print(cirq.__version__)"
      ],
      "execution_count": null,
      "outputs": []
    },
    {
      "cell_type": "markdown",
      "metadata": {
        "id": "hXuXo_qUhzLc"
      },
      "source": [
        "![ggg](https://raw.githubusercontent.com/deltorobarba/repo/master/quantum_041.JPG)"
      ]
    },
    {
      "cell_type": "markdown",
      "metadata": {
        "id": "lEWE70Jrhnt2"
      },
      "source": [
        "https://pennylane.ai/qml/demos_qml.html"
      ]
    },
    {
      "cell_type": "markdown",
      "metadata": {
        "id": "2KLA59pXFFC4"
      },
      "source": [
        "https://www.nature.com/articles/npjqi201523#Sec12\n",
        "\n",
        "https://qiskit.org/textbook/ch-appendix/linear_algebra.html "
      ]
    },
    {
      "cell_type": "markdown",
      "source": [
        "### <font color=\"blue\">**Encoding Classical Information**"
      ],
      "metadata": {
        "id": "RRjVYLbV2qXf"
      }
    },
    {
      "cell_type": "markdown",
      "source": [
        "https://youtu.be/LHzWAyT5rMI"
      ],
      "metadata": {
        "id": "e2KI2R6h2zo6"
      }
    },
    {
      "cell_type": "markdown",
      "source": [
        "Basis Encoding"
      ],
      "metadata": {
        "id": "VucSjDxu20Ej"
      }
    },
    {
      "cell_type": "markdown",
      "source": [
        "Amplitude Encoding"
      ],
      "metadata": {
        "id": "ar868St522LS"
      }
    },
    {
      "cell_type": "markdown",
      "source": [
        "Hamiltonian Encoding"
      ],
      "metadata": {
        "id": "JCeWVGly25iY"
      }
    },
    {
      "cell_type": "markdown",
      "metadata": {
        "id": "NGe-yForKJ5-"
      },
      "source": [
        "### **<font color=\"red\">Quantum Walk**"
      ]
    },
    {
      "cell_type": "markdown",
      "metadata": {
        "id": "7M8sSLOce1Ah"
      },
      "source": [
        "https://towardsdatascience.com/creating-a-quantum-walk-with-a-quantum-coin-692dcfa30d90"
      ]
    },
    {
      "cell_type": "markdown",
      "metadata": {
        "id": "hqVgVfjDfc1k"
      },
      "source": [
        "http://quantum-technologies.iap.uni-bonn.de/de/quantum-walks.html"
      ]
    },
    {
      "cell_type": "markdown",
      "metadata": {
        "id": "Hn_YE8i4fnRK"
      },
      "source": [
        "https://quantumai.google/cirq/tutorials/quantum_walks"
      ]
    },
    {
      "cell_type": "markdown",
      "metadata": {
        "id": "A5tbIFXrZGlh"
      },
      "source": [
        "https://medium.com/qiskit/studying-quantum-walks-on-near-term-quantum-computers-f60fd2395f04"
      ]
    },
    {
      "cell_type": "markdown",
      "metadata": {
        "id": "Bj9pu2_DRf8v"
      },
      "source": [
        "* [Quantum walks](https://en.m.wikipedia.org/wiki/Quantum_walk) are quantum analogues of classical random walks. In contrast to the classical random walk, where the walker occupies definite states and the randomness arises due to stochastic transitions between states, in quantum walks randomness arises through: \n",
        "\n",
        "  (1) quantum superposition of states, \n",
        "  \n",
        "  (2) non-random, reversible unitary evolution and \n",
        "  \n",
        "  (3) collapse of the wave function due to state measurements.\n",
        "\n"
      ]
    },
    {
      "cell_type": "markdown",
      "metadata": {
        "id": "4uouCeafe8Kn"
      },
      "source": [
        "As with classical random walks, quantum walks admit formulations in both discrete time and continuous time.\n",
        "\n",
        "* Quantum walks are motivated by the widespread use of classical random walks in the design of randomized algorithms, and are part of several quantum algorithms. For some oracular problems, quantum walks provide an exponential speedup over any classical algorithm.\n",
        "\n",
        "* Quantum walks also give polynomial speedups over classical algorithms for many practical problems, such as the element distinctness problem, the triangle finding problem, and evaluating NAND trees. The well-known Grover search algorithm can also be viewed as a quantum walk algorithm\n",
        "\n",
        "* Quantum walks exhibit very different features from classical random walks. In particular, they do not converge to [limiting distributions](https://en.m.wikipedia.org/wiki/Asymptotic_distribution) and due to the power of quantum interference they may spread significantly faster or slower than their classical equivalents."
      ]
    },
    {
      "cell_type": "markdown",
      "metadata": {
        "id": "oOO6EFaBUKap"
      },
      "source": [
        "*Continuous-time quantum walks*"
      ]
    },
    {
      "cell_type": "markdown",
      "metadata": {
        "id": "3sjLkMf-Txyd"
      },
      "source": [
        "* [Continuous-time quantum walks](https://en.m.wikipedia.org/wiki/Continuous-time_quantum_walk) arise when one replaces the continuum spatial domain in the Schrödinger equation with a discrete set.\n",
        "\n",
        "* Under particular conditions, continuous-time quantum walks can provide a model for universal quantum computation."
      ]
    },
    {
      "cell_type": "markdown",
      "metadata": {
        "id": "fvSvQ1RU-Dml"
      },
      "source": [
        "###### **<font color=\"blue\">Exkurs: Qumodes, Qudits and Qutrits</font>**"
      ]
    },
    {
      "cell_type": "markdown",
      "metadata": {
        "id": "XjZNNB0TaQbK"
      },
      "source": [
        "**<font color=\"blue\">Qumodes</font>**"
      ]
    },
    {
      "cell_type": "markdown",
      "metadata": {
        "id": "1DlZq9XiLa7i"
      },
      "source": [
        "(CV systems / continuous spectra in infinite-dimensional Hilbert space)"
      ]
    },
    {
      "cell_type": "markdown",
      "metadata": {
        "id": "gggOH9nRaYSH"
      },
      "source": [
        "https://strawberryfields.ai/photonics/concepts/photonics.html"
      ]
    },
    {
      "cell_type": "markdown",
      "metadata": {
        "id": "TlkbyF8w7kF9"
      },
      "source": [
        "**<font color=\"blue\">Qudits and Qutrits</font>**"
      ]
    },
    {
      "cell_type": "markdown",
      "metadata": {
        "id": "SdOUOtCB7xcA"
      },
      "source": [
        "https://en.m.wikipedia.org/wiki/Qutrit"
      ]
    },
    {
      "cell_type": "markdown",
      "metadata": {
        "id": "6GDZWYx-7pkd"
      },
      "source": [
        "https://en.m.wikipedia.org/wiki/Qubit#Qudits_and_qutrits"
      ]
    },
    {
      "cell_type": "markdown",
      "metadata": {
        "id": "UapkOypalw14"
      },
      "source": [
        "### <font color=\"blue\">**Pending Algorithms**"
      ]
    },
    {
      "cell_type": "markdown",
      "metadata": {
        "id": "IIJxNgdxui1J"
      },
      "source": [
        "#### **<font color=\"blue\">Simple Addition with Qubits**"
      ]
    },
    {
      "cell_type": "markdown",
      "metadata": {
        "id": "OfGBWIy6S_V6"
      },
      "source": [
        "**Task 1: Addition of 1 + 0 + 0 = 1 (01 in binary): We flip q0 and q1 from 0 to 1 with Pauli-X**\n",
        "\n",
        "**Task 2: Addition of 1 + 1 + 0 = 2 (10 in binary): We flip q0 and q1 from 0 to 1 with Pauli-X**\n",
        "\n",
        "**Task 3: Addition of 1 + 1 + 1 = 3 (11 in binary): We flip q0, q1 and q2 from 0 to 1 with Pauli-X**"
      ]
    },
    {
      "cell_type": "markdown",
      "metadata": {
        "id": "cF7MxZrjaXod"
      },
      "source": [
        "https://qiskit.org/textbook/ch-states/atoms-computation.html#adder"
      ]
    },
    {
      "cell_type": "markdown",
      "metadata": {
        "id": "iKzohJI59hm1"
      },
      "source": [
        "0+0 = 00 (in decimal, this is 0+0=0)\n",
        "\n",
        "0+1 = 01 (in decimal, this is 0+1=1)\n",
        "\n",
        "1+0 = 01 (in decimal, this is 1+0=1)\n",
        "\n",
        "1+1 = 10 (in decimal, this is 1+1=2)\n",
        "\n",
        "This is called a half adder. If our computer can implement this, and if it can chain many of them together, it can add anything.\n",
        "\n"
      ]
    },
    {
      "cell_type": "code",
      "metadata": {
        "id": "y4ktOROmyohu",
        "colab": {
          "base_uri": "https://localhost:8080/"
        },
        "outputId": "a6dcbf27-7547-4ca7-f22d-5afd6282ce27"
      },
      "source": [
        "# Create Circuit object\n",
        "circuit = cirq.Circuit()\n",
        "\n",
        "# Define 2 qubits - They start with 0 (if you measure no, you'll see a 0 in both)\n",
        "(q0, q1, q2, q3) = cirq.LineQubit.range(4)\n",
        "\n",
        "\n",
        "\n",
        "## Set up calculation:\n",
        "\n",
        "# We flip q0 from 0 to 1 with Pauli-X \n",
        "circuit.append([cirq.X(q0)]) \n",
        "\n",
        "# We flip q1 from 0 to 1 with Pauli-X \n",
        "#circuit.append([cirq.X(q1)]) \n",
        "\n",
        "# We flip q2 from 0 to 1 with Pauli-X \n",
        "#circuit.append([cirq.X(q2)])\n",
        "\n",
        "\n",
        "\n",
        "# CNOT (Controlled Pauli X) for input q2 and target q0 (0 is same, 1 if different for target)\n",
        "# since q2 is 0 and q0 is 1, result will stay 1\n",
        "circuit.append([cirq.CNOT(q0, q2)])\n",
        "\n",
        "# CNOT (Controlled Pauli X) for input q2 and target q1 (0 is same, 1 if different for target)\n",
        "# since q2 is 0 and q1 is 1, result will stay 1\n",
        "circuit.append([cirq.CNOT(q1, q2)])\n",
        "\n",
        "# Toffoli (CCNOT) gate on q3 (if both inputs are equal, write 1, else 0) (perform a NOT on target qubit when both controls are in state 1)\n",
        "circuit.append([cirq.CCX(q0, q1, q3)])\n",
        "\n",
        "# Measure output quantum bits q2 and q3\n",
        "circuit.append([cirq.measure(q2), cirq.measure(q3)])\n",
        "\n",
        "# See what circuit has been produced (optional)\n",
        "print(circuit)"
      ],
      "execution_count": null,
      "outputs": [
        {
          "output_type": "stream",
          "name": "stdout",
          "text": [
            "                  ┌──┐\n",
            "0: ───X───@────────@─────────\n",
            "          │        │\n",
            "1: ───────┼───@────@─────────\n",
            "          │   │    │\n",
            "2: ───────X───X────┼M────────\n",
            "                   │\n",
            "3: ────────────────X─────M───\n",
            "                  └──┘\n"
          ]
        }
      ]
    },
    {
      "cell_type": "code",
      "metadata": {
        "id": "0xKYREY8qEe-",
        "colab": {
          "base_uri": "https://localhost:8080/"
        },
        "outputId": "8d99a1a1-b3d5-499c-9ecb-7f6a9feb68a8"
      },
      "source": [
        "# Step 6: Perform simulation of the circuit and read out result\n",
        "sim = cirq.Simulator()\n",
        "results = sim.run(circuit, repetitions=10)\n",
        "print(results)"
      ],
      "execution_count": null,
      "outputs": [
        {
          "output_type": "stream",
          "name": "stdout",
          "text": [
            "2=1111111111\n",
            "3=0000000000\n"
          ]
        }
      ]
    },
    {
      "cell_type": "markdown",
      "metadata": {
        "id": "kb80-XsV-uXr"
      },
      "source": [
        "> Read from rightmost qubit first (q3) and then next left (q2): result is 10 (binary) = 2 in decimal"
      ]
    },
    {
      "cell_type": "markdown",
      "metadata": {
        "id": "Blm_5Aj5DCVL"
      },
      "source": [
        "#### **<font color=\"red\">Basic QFT-based Subroutines (Deutsch, Bernstein, Simon)**"
      ]
    },
    {
      "cell_type": "markdown",
      "metadata": {
        "id": "hUILN6FRqZuu"
      },
      "source": [
        "###### **<font color=\"blue\">Deutsch–Jozsa</font>**"
      ]
    },
    {
      "cell_type": "markdown",
      "source": [
        "https://richardwang-qm.medium.com/cirq-programming-3-the-deutsch-jozsa-bdc31982f187"
      ],
      "metadata": {
        "id": "JvD1MDpmehqg"
      }
    },
    {
      "cell_type": "markdown",
      "metadata": {
        "id": "Pw6485Ph9chE"
      },
      "source": [
        "https://jonathan-hui.medium.com/qc-quantum-algorithm-with-an-example-cf22c0b1ec31"
      ]
    },
    {
      "cell_type": "markdown",
      "metadata": {
        "id": "iOoBIJc1G6fx"
      },
      "source": [
        "Allgemein Oracel: https://towardsdatascience.com/the-quantum-oracle-demystified-65e8ffebd5d5"
      ]
    },
    {
      "cell_type": "markdown",
      "metadata": {
        "id": "0nwYZgYLxVWY"
      },
      "source": [
        "> Constant or balanced?\n",
        "\n",
        "* nutzt Quantum Fourier Transform"
      ]
    },
    {
      "cell_type": "markdown",
      "metadata": {
        "id": "E-K_XyerNrQz"
      },
      "source": [
        "There are four different possible functions:\n",
        "* Function f_0 always returns 0.\n",
        "* Function f_1 returns 0 if the input is 0 and it returns 1 if the input is 1.\n",
        "* Function f_2 returns 1 if the input is 0 and it returns 0 if the input is 1.\n",
        "* Function f_3 always returns 1.\n",
        "\n",
        "Task: \n",
        "* Send a number of several numbers to determine, if the function is a constant or a balanced?\n",
        "* f_0 und f_3 constant, f_1 und f_2 balanced\n",
        "* classical needs at least 2 numbers (0,1), quantum needs just 1 number to solve this"
      ]
    },
    {
      "cell_type": "markdown",
      "metadata": {
        "id": "lPY2GqiBbr-g"
      },
      "source": [
        "https://towardsdatascience.com/how-to-solve-a-problem-with-quantum-computing-4b04f3f882d9"
      ]
    },
    {
      "cell_type": "markdown",
      "metadata": {
        "id": "RZS4TVTytrgi"
      },
      "source": [
        "https://qiskit.org/textbook/ch-algorithms/deutsch-jozsa.html"
      ]
    },
    {
      "cell_type": "markdown",
      "metadata": {
        "id": "Gc0bGeLfgqjM"
      },
      "source": [
        "https://medium.com/quantum-untangled/quantum-untangled-quantum-computing-deutsch-jozsa-algorithm-guide-untangled-27adf4205913"
      ]
    },
    {
      "cell_type": "markdown",
      "metadata": {
        "id": "UkToXMWXgoNf"
      },
      "source": [
        "https://medium.com/quantum-untangled/the-deutsch-jozsa-algorithm-math-circuits-and-code-quantum-algorithms-untangled-f3b28be4cfd3"
      ]
    },
    {
      "cell_type": "markdown",
      "metadata": {
        "id": "06rwZsB6qbK6"
      },
      "source": [
        "https://en.m.wikipedia.org/wiki/Deutsch–Jozsa_algorithm"
      ]
    },
    {
      "cell_type": "markdown",
      "metadata": {
        "id": "rs29mGrUqi_-"
      },
      "source": [
        "###### **<font color=\"blue\">Bernstein–Vazirani algorithm</font>**"
      ]
    },
    {
      "cell_type": "markdown",
      "metadata": {
        "id": "tTd5Xyqp1ci5"
      },
      "source": [
        "> What is a string?"
      ]
    },
    {
      "cell_type": "markdown",
      "metadata": {
        "id": "3MHKCxMUqkZc"
      },
      "source": [
        "https://en.m.wikipedia.org/wiki/Bernstein–Vazirani_algorithm"
      ]
    },
    {
      "cell_type": "markdown",
      "metadata": {
        "id": "ocVJfp-tqdyb"
      },
      "source": [
        "###### **<font color=\"blue\">Simon's problem</font>**"
      ]
    },
    {
      "cell_type": "markdown",
      "metadata": {
        "id": "u2ndKgQk61Nd"
      },
      "source": [
        "https://jonathan-hui.medium.com/qc-simons-algorithm-be570a40f6de"
      ]
    },
    {
      "cell_type": "markdown",
      "metadata": {
        "id": "36gbhuaO1dhH"
      },
      "source": [
        "> 1-1 or 2-1 ?"
      ]
    },
    {
      "cell_type": "markdown",
      "metadata": {
        "id": "iTpg-Zg7qfPk"
      },
      "source": [
        "https://en.m.wikipedia.org/wiki/Simon%27s_problem"
      ]
    },
    {
      "cell_type": "markdown",
      "metadata": {
        "id": "3aoRKTTAkZx5"
      },
      "source": [
        "###### **<font color=\"black\">Boson sampling problem ('Aaronson–Arkiphov Scheme')</font>**"
      ]
    },
    {
      "cell_type": "markdown",
      "metadata": {
        "id": "ZiKJxdJZkc4o"
      },
      "source": [
        "https://www.nature.com/articles/d41586-020-03434-7"
      ]
    },
    {
      "cell_type": "markdown",
      "metadata": {
        "id": "CKKGAvUmkeku"
      },
      "source": [
        "The Hefei team, led by Pan and Chao-Yang Lu, chose a different problem for its demonstration, called boson sampling. It was devised in 2011 by two computer scientists, Scott Aaronson and Alex Arkhipov4, then at the Massachusetts Institute of Technology in Cambridge. It entails calculating the probability distribution of many bosons — a category of fundamental particle that includes photons — whose quantum waves interfere with one another in a way that essentially randomizes the position of the particles. The probability of detecting a boson at a given position can be calculated from an equation in many unknowns."
      ]
    },
    {
      "cell_type": "markdown",
      "metadata": {
        "id": "awlTmw1aiz4Q"
      },
      "source": [
        "###### **<font color=\"black\">Quantum Minimization Algorithm (QMA)**"
      ]
    },
    {
      "cell_type": "markdown",
      "metadata": {
        "id": "oUePuMuEi11V"
      },
      "source": [
        "* Quantum algorithm for solving discrete functions minimization problems was introduced in. It is based on Grover’s search and can be represented in terms of quantum iterations circuits.\n",
        "\n",
        "* Such algorithm allows us to find global optimum as it is always searching through all possible inputs states\n",
        "\n",
        "* Christoph, D. and Hoyer, P. \"A quantum algorithm for finding the minimum\", arXiv:quant-ph/9607014 (1-2, 1996) https://arxiv.org/abs/quant-ph/9607014\n",
        "\n",
        "* https://arxiv.org/pdf/1906.10175.pdf"
      ]
    },
    {
      "cell_type": "markdown",
      "metadata": {
        "id": "wl2dCp6SnEpR"
      },
      "source": [
        "#### <font color=\"black\">**Hidden Subgroup Problem (HSP)**"
      ]
    },
    {
      "cell_type": "markdown",
      "metadata": {
        "id": "ojMpgCR3nN0o"
      },
      "source": [
        "Shor’s approach to integer factorisation is based on reducing the task to a special case of a mathematical problem known as the hidden subgroup problem (HSP), then giving an efficient quantum algorithm for this problem."
      ]
    },
    {
      "cell_type": "markdown",
      "metadata": {
        "id": "pHbyiAjwnLrU"
      },
      "source": [
        "https://arxiv.org/pdf/1511.04206.pdf"
      ]
    },
    {
      "cell_type": "markdown",
      "metadata": {
        "id": "fFoHTRmWleV3"
      },
      "source": [
        "#### <font color=\"black\">**More Quantum Linear Algebra & Optimization**"
      ]
    },
    {
      "cell_type": "markdown",
      "metadata": {
        "id": "8GVknVcr-7Tq"
      },
      "source": [
        "###### **<font color=\"blue\">Quantum Power Iteration & Inverse Iteration**"
      ]
    },
    {
      "cell_type": "markdown",
      "metadata": {
        "id": "y0nsvQAk2pbi"
      },
      "source": [
        "* used for Eigenvalue calculation in large matrices\n",
        "\n",
        "* [Power iteration (Eigenvalues)](https://en.m.wikipedia.org/wiki/Power_iteration) und [Inverse Iteration (Eigenvector)](https://en.m.wikipedia.org/wiki/Inverse_iteration)\n",
        "\n",
        "* [Quantum Power Method by a Superposition of Time-Evolved States](https://arxiv.org/abs/2008.03661)"
      ]
    },
    {
      "cell_type": "markdown",
      "metadata": {
        "id": "WGENRWa3OhKf"
      },
      "source": [
        "###### **<font color=\"blue\">Quantum Multiplication</font>**"
      ]
    },
    {
      "cell_type": "markdown",
      "metadata": {
        "id": "d5XOnFsMqZ3w"
      },
      "source": [
        "* **Boost Multiplication of Karatsuba with Quantum Computers**: In his new paper, Gidney describes a quantum way of implementing Karatsuba multiplication that doesn’t impose huge memory costs. Instead of generating intermediate values to produce a final value, he uses a method called “tail call optimization” to directly mutate inputs to outputs. \n",
        "\n",
        "* This allows the algorithm to avoid creating intermediate information that a quantum computer can never discard. “He gets rid of the issue of having to deal with extra qubits by not having extra qubits,” said Thomas Wong, a quantum information scientist at Creighton University.Gidney expects that his method will work for adapting many classical recursive algorithms to quantum computers. \n",
        "\n",
        "[A New Approach to Multiplication Opens the Door to Better Quantum Computers](https://www.quantamagazine.org/a-new-approach-to-multiplication-opens-the-door-to-better-quantum-computers-20190424/)"
      ]
    },
    {
      "cell_type": "markdown",
      "metadata": {
        "id": "kMPSYVgbKTZo"
      },
      "source": [
        "###### **<font color=\"blue\">Quantum Principal Component Analysis</blue>**"
      ]
    },
    {
      "cell_type": "markdown",
      "metadata": {
        "id": "ggSxgQVyKgpA"
      },
      "source": [
        "S. Lloyd, M. Mohseni, and P. Rebentrost, Nature Physics 10,\n",
        "631 (2014)"
      ]
    },
    {
      "cell_type": "markdown",
      "metadata": {
        "id": "-6DMII6OoTeJ"
      },
      "source": [
        "https://arxiv.org/abs/1307.0401"
      ]
    },
    {
      "cell_type": "markdown",
      "metadata": {
        "id": "m-TlrXXiLQ14"
      },
      "source": [
        "###### **<font color=\"blue\">Quantum Linear Regression</blue>**"
      ]
    },
    {
      "cell_type": "markdown",
      "metadata": {
        "id": "rT2ukxs3H77t"
      },
      "source": [
        "https://www.quantamagazine.org/new-algorithm-breaks-speed-limit-for-solving-linear-equations-20210308/"
      ]
    },
    {
      "cell_type": "markdown",
      "metadata": {
        "id": "d3Nti0fnyhrH"
      },
      "source": [
        "https://www.quantamagazine.org/teenager-finds-classical-alternative-to-quantum-recommendation-algorithm-20180731/"
      ]
    },
    {
      "cell_type": "markdown",
      "metadata": {
        "id": "9dkYcP8MJFnf"
      },
      "source": [
        "https://www.quantamagazine.org/mathematicians-inch-closer-to-matrix-multiplication-goal-20210323/"
      ]
    },
    {
      "cell_type": "markdown",
      "metadata": {
        "id": "FN4qECZUyjdU"
      },
      "source": [
        "https://www.quantamagazine.org/a-new-approach-to-multiplication-opens-the-door-to-better-quantum-computers-20190424/"
      ]
    },
    {
      "cell_type": "markdown",
      "metadata": {
        "id": "uZs7hCeDLUMX"
      },
      "source": [
        "M. Schuld, I. Sinayskiy, and F. Petruccione, arXiv preprint\n",
        "arXiv:1601.07823 (2016). https://arxiv.org/abs/1601.07823"
      ]
    },
    {
      "cell_type": "markdown",
      "metadata": {
        "id": "F_3QftqpEmsd"
      },
      "source": [
        "#### **<font color=\"black\">Quantum Simulation**"
      ]
    },
    {
      "cell_type": "markdown",
      "metadata": {
        "id": "9C5IqMewmqvJ"
      },
      "source": [
        "... (Monte Carlo, Quantum Chemistry, Materials Science and more)\n"
      ]
    },
    {
      "cell_type": "markdown",
      "metadata": {
        "id": "v9oj31u2uBvJ"
      },
      "source": [
        "###### **<font color=\"blue\">Quantum Simulators**"
      ]
    },
    {
      "cell_type": "markdown",
      "metadata": {
        "id": "fD1TTtBFuX6o"
      },
      "source": [
        "https://en.wikipedia.org/wiki/Quantum_chemistry"
      ]
    },
    {
      "cell_type": "markdown",
      "metadata": {
        "id": "DvCrZR0vlcG2"
      },
      "source": [
        "https://en.m.wikipedia.org/wiki/Quantum_simulator"
      ]
    },
    {
      "cell_type": "markdown",
      "metadata": {
        "id": "1KymXaJ7mnTc"
      },
      "source": [
        "https://de.wikipedia.org/wiki/Quantensimulation"
      ]
    },
    {
      "cell_type": "markdown",
      "metadata": {
        "id": "fZ1N5r4amWH7"
      },
      "source": [
        "quantum chemistry: https://www.youtube.com/watch?v=2XEjrwWhr88"
      ]
    },
    {
      "cell_type": "markdown",
      "metadata": {
        "id": "gpYdUEg-mYCo"
      },
      "source": [
        "How is Quantum Phase Estimation applied to Quantum Chemistry calculations: in Quantum Chemistry you are interested in dynamics = time evolution. QPE is helping us to ...so Hamiltonian dynamics is unitary, and so you can use that unitary that comes from your Hamiltonian to do simulations in chemistry."
      ]
    },
    {
      "cell_type": "markdown",
      "metadata": {
        "id": "i2-RMwUuqzGx"
      },
      "source": [
        "* Many important problems in physics, especially [low-temperature physics](https://en.m.wikipedia.org/wiki/Thermodynamics) and [many-body physics](https://en.m.wikipedia.org/wiki/Many-body_theory), remain poorly understood because the underlying quantum mechanics is vastly complex. See also [Condensed_matter_physics](https://en.m.wikipedia.org/wiki/Condensed_matter_physics) (incl. crystallography etc)\n",
        "\n",
        "* Conventional computers, including supercomputers, are inadequate for simulating quantum systems with as few as 30 particles. Better computational tools are needed to understand and **rationally design materials whose properties are believed to depend on the collective quantum behavior of hundreds of particles**.\n",
        "\n",
        "* Quantum simulators provide an alternative route to understanding the properties of these systems. These simulators create clean realizations of specific systems of interest, which allows precise realizations of their properties. Precise control over and broad tunability of parameters of the system allows the influence of various parameters to be cleanly disentangled.\n",
        "\n",
        "* Quantum simulators can solve problems which are difficult to simulate on classical computers **because they directly exploit quantum properties of real particles**. In particular, they exploit a property of quantum mechanics called superposition, wherein a quantum particle is made to be in two distinct states at the same time, for example, aligned and anti-aligned with an external magnetic field. Crucially, simulators also take advantage of a second quantum property called entanglement, allowing the behavior of even physically well separated particles to be correlated.\n",
        "\n"
      ]
    },
    {
      "cell_type": "markdown",
      "metadata": {
        "id": "B30zKlfExubw"
      },
      "source": [
        "###### **<font color=\"blue\">Stochastic Processes and Monte Carlo Simulations**"
      ]
    },
    {
      "cell_type": "markdown",
      "metadata": {
        "id": "T_S7MPwEAd-y"
      },
      "source": [
        "https://en.m.wikipedia.org/wiki/Quantum_Monte_Carlo"
      ]
    },
    {
      "cell_type": "markdown",
      "metadata": {
        "id": "dzPdRNc2uek7"
      },
      "source": [
        "https://en.wikipedia.org/wiki/Quantum_Markov_chain"
      ]
    },
    {
      "cell_type": "markdown",
      "metadata": {
        "id": "Ckq3JlcWxi1Z"
      },
      "source": [
        "https://www.nature.com/articles/s41534-021-00459-2"
      ]
    },
    {
      "cell_type": "markdown",
      "metadata": {
        "id": "kxFndYqHowue"
      },
      "source": [
        "Quantum Gaussian Process Algorithm (QGPA): https://arxiv.org/pdf/1803.10520.pdf"
      ]
    },
    {
      "cell_type": "markdown",
      "metadata": {
        "id": "2wBpVSdgtZBO"
      },
      "source": [
        "###### **<font color=\"blue\">Hybrid: Variational quantum eigensolver (i.e. Protein Folding)**"
      ]
    },
    {
      "cell_type": "markdown",
      "metadata": {
        "id": "YJV2mvPKpfdI"
      },
      "source": [
        "The VQE algorithm applies classical optimization to minimize the energy expectation of an ansatz state to find the ground state energy of a molecule. This can also be extended to find excited energies of molecules."
      ]
    },
    {
      "cell_type": "markdown",
      "metadata": {
        "id": "xC5SoRI7o9t6"
      },
      "source": [
        "*Optimization: simulations for material science and quantum chemistry, factoring numbers*"
      ]
    },
    {
      "cell_type": "markdown",
      "metadata": {
        "id": "gtH3w-sfyguE"
      },
      "source": [
        "* Known as variational quantum algorithms, they use the quantum boxes to manipulate quantum systems while shifting much of the work load to classical computers to let them do what they currently do best: solve optimization problems.\n",
        "\n",
        "* \"With variational quantum algorithms, we get the best of both worlds. We can harness the power of quantum computers for tasks that classical computers can't do easily, then use classical computers to compliment the computational power of quantum devices.\"\n",
        "\n",
        "* The algorithms are called variational because the optimization process varies the algorithm on the fly, as a kind of machine learning. It changes parameters and logic gates to minimize a cost function, which is a mathematical expression that measures how well the algorithm has performed the task. The problem is solved when the cost function reaches its lowest possible value. \n",
        "\n",
        "* In an iterative function in the variational quantum algorithm, the quantum computer estimates the cost function, then passes that result back to the classical computer. The classical computer then adjusts the input parameters and sends them to the quantum computer, which runs the optimization again. \n",
        "\n"
      ]
    },
    {
      "cell_type": "markdown",
      "metadata": {
        "id": "TqCzs1R-yjOc"
      },
      "source": [
        "https://phys-org.cdn.ampproject.org/c/s/phys.org/news/2021-08-algorithms-small-noisy-quantum-viable.amp"
      ]
    },
    {
      "cell_type": "markdown",
      "metadata": {
        "id": "0_w5kg67zuXu"
      },
      "source": [
        "https://www.nature.com/articles/s42254-021-00348-9"
      ]
    },
    {
      "cell_type": "markdown",
      "metadata": {
        "id": "3iToZ6UmowRZ"
      },
      "source": [
        "*Resource-efficient quantum algorithm for protein folding*"
      ]
    },
    {
      "cell_type": "markdown",
      "metadata": {
        "id": "aIvCGgqvoooS"
      },
      "source": [
        "* Rather than spend computational resources checking each possible fold of a protein, the quantum approach encodes the superposition of all physically meaningful ways of folding the protein into a model Hamiltonian. Then it samples these combinations statistically to find the series of folds that are the most stable.\n",
        "\n",
        "* “Everything in our body wants to be in the minimum free-energy configuration,” said Barkoutsos. “It is the most stable. And we generally say in nature — in our bodies — the most stable is the winning configuration.”\n",
        "With this approach, the researchers simulated the folding of a 10-amino acid chain called Angiotensin with a 22 qubit quantum simulator, and a seven-amino acid neuropeptide on a 20-qubit quantum computer.\n",
        "Multipurpose, open-source code\n",
        "\n",
        "* This work relied on a modified Variational Quantum Eigensolver (VQE) algorithm, a major optimization tool in the quantum arsenal, drawn from the Qiskit Application Module.\n",
        "\n",
        "* To suit their needs, the team modified the VQE to sample only the parts of the data relevant to the problem, producing a tool they called a Conditional Value-at-Risk (CVaR) VQE. In line with IBM Quantum’s open-source ethos, this tool is now available to the Qiskit community as of the latest Qiskit Nature release."
      ]
    },
    {
      "cell_type": "markdown",
      "metadata": {
        "id": "xnHRiqZvotoe"
      },
      "source": [
        "https://medium.com/qiskit/a-novel-quantum-algorithm-for-protein-folding-paving-the-way-toward-resolving-one-of-the-biggest-861112139ff0"
      ]
    },
    {
      "cell_type": "markdown",
      "metadata": {
        "id": "_P7cvzfNoyyZ"
      },
      "source": [
        "https://www.nature.com/articles/s41534-021-00368-4"
      ]
    },
    {
      "cell_type": "markdown",
      "metadata": {
        "id": "RxXr-S9jleog"
      },
      "source": [
        "#### **<font color=\"black\">Computing Knot Invariants**"
      ]
    },
    {
      "cell_type": "markdown",
      "metadata": {
        "id": "UNYzMD6Ql21u"
      },
      "source": [
        "https://en.m.wikipedia.org/wiki/Jones_polynomial"
      ]
    },
    {
      "cell_type": "markdown",
      "metadata": {
        "id": "ZejrBEwGllLl"
      },
      "source": [
        "Witten had shown that the Chern-Simons topological quantum field theory (TQFT) can be solved in terms of Jones polynomials. A quantum computer can simulate a TQFT, and thereby approximate the Jones polynomial, which as far as we know, is hard to compute classically in the worst-case scenario."
      ]
    }
  ]
}