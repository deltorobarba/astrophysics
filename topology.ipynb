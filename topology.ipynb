{
  "nbformat": 4,
  "nbformat_minor": 0,
  "metadata": {
    "colab": {
      "name": "topology.ipynb",
      "provenance": [],
      "collapsed_sections": [
        "Mm3fInXDOqwQ",
        "PLRGuVQPn2ue",
        "Z8YZ1Kcjn6NR",
        "hDFJZ41dp1JU",
        "qUQMebFWG5zh",
        "XC1gfIsUHn_W",
        "z76fMa9molVM",
        "l6VB4Qpns6g_",
        "qmIV4924KpIR",
        "-7oNhiwZroPu",
        "DA3lQL-ZqnFB",
        "K881PilDZ0HX",
        "l96I3v4kBK8K",
        "A0NOsQCDDaVK"
      ],
      "include_colab_link": true
    },
    "kernelspec": {
      "name": "python3",
      "display_name": "Python 3"
    }
  },
  "cells": [
    {
      "cell_type": "markdown",
      "metadata": {
        "id": "view-in-github",
        "colab_type": "text"
      },
      "source": [
        "<a href=\"https://colab.research.google.com/github/deltorobarba/machinelearning/blob/master/topology.ipynb\" target=\"_parent\"><img src=\"https://colab.research.google.com/assets/colab-badge.svg\" alt=\"Open In Colab\"/></a>"
      ]
    },
    {
      "cell_type": "markdown",
      "metadata": {
        "id": "2Aoj2PpxvDQV"
      },
      "source": [
        "# **Topologischer Raum**"
      ]
    },
    {
      "cell_type": "code",
      "metadata": {
        "id": "1U5_6xH7tAQq"
      },
      "source": [
        "import numpy as np\n",
        "import pandas as pd\n",
        "import seaborn as sns\n",
        "import matplotlib.pyplot as plt"
      ],
      "execution_count": null,
      "outputs": []
    },
    {
      "cell_type": "markdown",
      "metadata": {
        "id": "ostHcxEvNZ5r"
      },
      "source": [
        "![Normed Vector Space](https://upload.wikimedia.org/wikipedia/commons/thumb/9/9e/P1S2all.jpg/798px-P1S2all.jpg)"
      ]
    },
    {
      "cell_type": "markdown",
      "metadata": {
        "id": "Mm3fInXDOqwQ"
      },
      "source": [
        "## **Topological Spaces**"
      ]
    },
    {
      "cell_type": "markdown",
      "metadata": {
        "id": "PLRGuVQPn2ue"
      },
      "source": [
        "##### **Definition**"
      ]
    },
    {
      "cell_type": "markdown",
      "metadata": {
        "id": "DfazjEGwn-JX"
      },
      "source": [
        "* a topological space ([Topologischer Raum](https://de.m.wikipedia.org/wiki/Topologischer_Raum)) may be defined as a set of points, along with a set of **neighbourhoods** for each point, satisfying a set of **axioms** relating points and neighbourhoods.\n",
        "\n",
        "* The definition of a topological space **relies only upon set theory** and is the most general notion of a mathematical space that allows for the definition of concepts such as **[continuity](https://en.m.wikipedia.org/wiki/Continuous_function#Continuous_functions_between_topological_spaces), [connectedness](https://en.m.wikipedia.org/wiki/Connected_space), and [convergence](https://en.m.wikipedia.org/wiki/Limit_of_a_sequence)**.\n",
        "\n",
        "* *Other spaces, such as manifolds and metric spaces, are specializations of topological spaces with extra structures or constraints.*\n",
        "\n",
        "* Topological spaces are **studied in Point-Set Topology** (General Topology)\n",
        "\n",
        "* ein topologischer Raum ist ein elementarer Gegenstand der Topologie\n",
        "\n",
        "* Durch die Einführung einer topologischen Struktur auf einer Menge lassen sich intuitive Lagebeziehungen wie „Nähe“ und „Streben gegen“ aus dem [Anschauungsraum (Euklidischer Raum)](https://de.m.wikipedia.org/wiki/Euklidischer_Raum) auf sehr viele und sehr allgemeine Strukturen übertragen und mit präziser Bedeutung versehen."
      ]
    },
    {
      "cell_type": "markdown",
      "metadata": {
        "id": "OMyx24qQI8nt"
      },
      "source": [
        "**Definition 'Topologischer Raum': Eine Topologie ist ein Mengensystem T bestehend aus Teilmengen einer Grundmenge \n",
        "X, die offen oder offene Mengen genannt werden, und die die folgenden Axiome erfüllen:**\n",
        "\n",
        "1. Die leere Menge und die Grundmenge X sind offen.\n",
        "2. Der Durchschnitt endlich vieler offener Mengen ist offen. (Es genügt zu fordern, dass der Durchschnitt von zwei offenen Mengen offen ist.)\n",
        "3. Die Vereinigung beliebig vieler offener Mengen ist offen.\n",
        "\n",
        "**Man nennt dann $T$ eine Topologie auf $X$, und das Paar ($X$,$T$) einen topologischen Raum.**"
      ]
    },
    {
      "cell_type": "markdown",
      "metadata": {
        "id": "cIsFOMuGLqtM"
      },
      "source": [
        "https://de.m.wikipedia.org/wiki/Topologischer_Raum"
      ]
    },
    {
      "cell_type": "markdown",
      "metadata": {
        "id": "USGodVwNIRaQ"
      },
      "source": [
        "https://en.m.wikipedia.org/wiki/Topological_space"
      ]
    },
    {
      "cell_type": "markdown",
      "metadata": {
        "id": "eLPzkptCEnB9"
      },
      "source": [
        "**// Continuous Functions & Morphismen in Topology**"
      ]
    },
    {
      "cell_type": "markdown",
      "metadata": {
        "id": "UfOp_QdOLSWD"
      },
      "source": [
        "**Stetigkeit (allgemein)**"
      ]
    },
    {
      "cell_type": "markdown",
      "metadata": {
        "id": "CzrFYfWgEvGT"
      },
      "source": [
        "* eine stetige Abbildung oder stetige Funktion eine Funktion, bei der hinreichend **kleine Änderungen des Arguments nur beliebig kleine Änderungen des Funktionswerts nach sich ziehen**. Formalisieren kann man diese Eigenschaft mit der Vertauschbarkeit der Funktion mit Grenzwerten oder mit dem \n",
        "$\\varepsilon$-$\\delta$-Kriterium. (Zeichen:\n",
        "ε und δ)\n",
        "\n",
        "* Viele in der Praxis der reellen Analysis verwendete Funktionen sind stetig, insbesondere ist das für alle **differenzierbaren Funktionen** der Fall.\n",
        "\n",
        "* Für stetige Funktionen können eine Reihe nützlicher Eigenschaften bewiesen werden. Exemplarisch seien der [Zwischenwertsatz](https://de.m.wikipedia.org/wiki/Zwischenwertsatz), der [Satz vom Minimum und Maximum](https://de.m.wikipedia.org/wiki/Satz_vom_Minimum_und_Maximum) und der [Fundamentalsatz der Analysis](https://de.m.wikipedia.org/wiki/Fundamentalsatz_der_Analysis) genannt.\n",
        "\n",
        "* Allgemeiner ist das Konzept der Stetigkeit von Abbildungen in der Mathematik vor allem in den Teilgebieten der Analysis und der Topologie von zentraler Bedeutung. **Es ist möglich, Stetigkeit durch eine Bedingung zu charakterisieren, die nur Begriffe der Topologie benutzt**. Somit kann der Begriff der Stetigkeit auch auf Funktionen zwischen topologischen Räumen ausgedehnt werden. Diese allgemeine Sichtweise erweist sich aus mathematischer Sicht als der „natürlichste“ Zugang zum Stetigkeitsbegriff: **Stetige Funktionen sind diejenigen Funktionen zwischen topologischen Räumen, die mit deren Strukturen „verträglich“ sind**. Stetige Funktionen spielen also in Topologie und Analysis eine ähnliche Rolle wie Homomorphismen in der Algebra.\n",
        "\n",
        "\n"
      ]
    },
    {
      "cell_type": "markdown",
      "metadata": {
        "id": "ob-NrlaOErfR"
      },
      "source": [
        "https://de.m.wikipedia.org/wiki/Stetige_Funktion"
      ]
    },
    {
      "cell_type": "markdown",
      "metadata": {
        "id": "EYdCsuJqLYWb"
      },
      "source": [
        "**Morphismen: Stetige Abbildungen**"
      ]
    },
    {
      "cell_type": "markdown",
      "metadata": {
        "id": "kyYd9GZVLmCR"
      },
      "source": [
        "* Wie bei jeder mathematischen Struktur gibt es auch bei den topologischen Räumen\n",
        "strukturerhaltende Abbildungen (Morphismen). Hier sind es die stetigen Abbildungen: Eine Abbildung $f:(X, S) \\rightarrow(Y, T)$ ist (global) stetig, wenn das Urbild jeder offenen Teilmenge $O$ von $Y$ eine offene Menge in $X$ ist, formal: $O \\in T \\Longrightarrow f^{-1}(O) \\in S$.\n",
        "\n",
        "* Die Isomorphismen heißen hier Homöomorphismen, dies sind bijektive stetige Abbildungen, deren Umkehrung ebenfalls stetig ist. Strukturell gleichartige (isomorphe) topologische Räume nennt man homöomorph."
      ]
    },
    {
      "cell_type": "markdown",
      "metadata": {
        "id": "Z8YZ1Kcjn6NR"
      },
      "source": [
        "##### **Axioms**"
      ]
    },
    {
      "cell_type": "markdown",
      "metadata": {
        "id": "gBq8_sWimG3P"
      },
      "source": [
        "* **Ausgangspunkt:** It's not enough for elements of a topological space to be distinct (that is, unequal); we may want them to be topologically distinguishable. Similarly, it's not enough for subsets of a topological space to be disjoint; we may want them to be separated (in any of various ways).\n",
        "\n",
        "* **Distinguishable (vs Distinct Elements)**: Let X be a topological space. Then two points x and y in X **are topologically distinguishable if they do not have exactly the same [neighbourhoods](https://en.m.wikipedia.org/wiki/Neighbourhood_(mathematics)) (Umgebung)** (or equivalently the same open neighbourhoods); that is, at least one of them has a neighbourhood that is not a neighbourhood of the other (or equivalently there is an open set that one point belongs to but the other point does not).\n",
        "\n",
        "* **Separated (vs Disjoint Subsets):** Two points x and y are **separated if each of them has a neighbourhood that is not a neighbourhood of the other**; that is, neither belongs to the other's closure. More generally, two subsets A and B of X are separated if each is disjoint from the other's closure. (The closures themselves do not have to be disjoint.) "
      ]
    },
    {
      "cell_type": "markdown",
      "metadata": {
        "id": "ciQNn6buRhlA"
      },
      "source": [
        "https://en.m.wikipedia.org/wiki/Separation_axiom"
      ]
    },
    {
      "cell_type": "markdown",
      "metadata": {
        "id": "18ztKzBbSEqL"
      },
      "source": [
        "https://ncatlab.org/nlab/show/separation+axioms"
      ]
    },
    {
      "cell_type": "markdown",
      "metadata": {
        "id": "oaxt5v2vPemR"
      },
      "source": [
        "https://de.m.wikipedia.org/wiki/Trennungsaxiom"
      ]
    },
    {
      "cell_type": "markdown",
      "metadata": {
        "id": "4LhMBjBx3qVx"
      },
      "source": [
        "https://en.m.wikipedia.org/wiki/History_of_the_separation_axioms"
      ]
    },
    {
      "cell_type": "markdown",
      "metadata": {
        "id": "hDFJZ41dp1JU"
      },
      "source": [
        "##### **Types**"
      ]
    },
    {
      "cell_type": "markdown",
      "metadata": {
        "id": "kGv_TVQthAjL"
      },
      "source": [
        "**Kolmogorov Space (T<sub>0</sub>)**"
      ]
    },
    {
      "cell_type": "markdown",
      "metadata": {
        "id": "McKfZ6oJnbpU"
      },
      "source": [
        "A space is Kolmogorov if for every pair of distinct points x and y in the space, there is at least either an open set containing x but not y, or an open set containing y but not x."
      ]
    },
    {
      "cell_type": "markdown",
      "metadata": {
        "id": "R-mimalAnryI"
      },
      "source": [
        "If for every pair of distinct points of X, at least one of them has a neighborhood not containing the other. In a T0 space, all points are topologically distinguishable."
      ]
    },
    {
      "cell_type": "markdown",
      "metadata": {
        "id": "sBBzKFuxngTK"
      },
      "source": [
        "https://en.m.wikipedia.org/wiki/Kolmogorov_space"
      ]
    },
    {
      "cell_type": "markdown",
      "metadata": {
        "id": "21sEOgvQhC3D"
      },
      "source": [
        "**Fréchet Space (T<sub>1</sub>)**"
      ]
    },
    {
      "cell_type": "markdown",
      "metadata": {
        "id": "Q-cIk28nlLjD"
      },
      "source": [
        "Fréchet spaces are generalizations of Banach spaces (normed vector spaces that are complete with respect to the metric induced by the norm)."
      ]
    },
    {
      "cell_type": "markdown",
      "metadata": {
        "id": "ojYxWlJlk9_S"
      },
      "source": [
        "https://en.m.wikipedia.org/wiki/Fréchet_space"
      ]
    },
    {
      "cell_type": "markdown",
      "metadata": {
        "id": "ZLAxGRK2mIJ0"
      },
      "source": [
        "Instead, with the topology of compact convergence, C(a, b) can be given the structure of a Fréchet space: a locally convex topological vector space whose topology can be induced by a complete translation-invariant metric."
      ]
    },
    {
      "cell_type": "markdown",
      "metadata": {
        "id": "NCZgQhlfexLB"
      },
      "source": [
        "**Haussdorf Spaces (T<sub>2</sub>)**"
      ]
    },
    {
      "cell_type": "markdown",
      "metadata": {
        "id": "yYSQRA5ye-FK"
      },
      "source": [
        "* A topological space is Hausdorff if and only if it is both preregular (i.e. topologically distinguishable points are separated by neighbourhoods) and Kolmogorov (i.e. distinct points are topologically distinguishable). A topological space is preregular if and only if its Kolmogorov quotient is Hausdorff.\n",
        "\n",
        "* Almost all spaces encountered in analysis are Hausdorff; most importantly, the real numbers (under the standard metric topology on real numbers) are a Hausdorff space. More generally, all metric spaces are Hausdorff. In fact, many spaces of use in analysis, such as topological groups and topological manifolds, have the Hausdorff condition explicitly stated in their definitions."
      ]
    },
    {
      "cell_type": "markdown",
      "metadata": {
        "id": "THQQyoXwEDFm"
      },
      "source": [
        "https://en.m.wikipedia.org/wiki/Hausdorff_space"
      ]
    },
    {
      "cell_type": "markdown",
      "metadata": {
        "id": "qUQMebFWG5zh"
      },
      "source": [
        "##### **Topological Vector Space**"
      ]
    },
    {
      "cell_type": "markdown",
      "metadata": {
        "id": "rF3JibKfNEUU"
      },
      "source": [
        "https://en.m.wikipedia.org/wiki/Topological_vector_space"
      ]
    },
    {
      "cell_type": "markdown",
      "metadata": {
        "id": "_V_mqLlPmEqH"
      },
      "source": [
        "https://en.m.wikipedia.org/wiki/Locally_convex_topological_vector_space"
      ]
    },
    {
      "cell_type": "markdown",
      "metadata": {
        "id": "XC1gfIsUHn_W"
      },
      "source": [
        "## **Topological Concepts**"
      ]
    },
    {
      "cell_type": "markdown",
      "metadata": {
        "id": "z76fMa9molVM"
      },
      "source": [
        "##### **Neighourhood (Umgebung)**"
      ]
    },
    {
      "cell_type": "markdown",
      "metadata": {
        "id": "3ROc9W781Qef"
      },
      "source": [
        "* a [neighbourhood](https://en.m.wikipedia.org/wiki/Neighbourhood_(mathematics)), or neighborhood, [Umgebung](https://de.m.wikipedia.org/wiki/Umgebung_(Mathematik))  is one of the basic concepts in a topological space. It is closely related to the concepts of open set and interior. \n",
        "\n",
        "* Intuitively speaking, a neighbourhood of a point is a set of points containing that point where one can move some amount in any direction away from that point without leaving the set.\n",
        "\n",
        "* In einem topologischen Raum hat jeder Punkt x einen **Filter U(x) von Umgebungen**. Damit lässt sich der intuitive Begriff von „Nähe“ mathematisch fassen. Auch dieser Begriff kann einer Definition des Topologischen Raums zugrunde gelegt werden."
      ]
    },
    {
      "cell_type": "markdown",
      "metadata": {
        "id": "ZnAr85aoSEms"
      },
      "source": [
        "https://en.m.wikipedia.org/wiki/Locally_connected_space"
      ]
    },
    {
      "cell_type": "markdown",
      "metadata": {
        "id": "l6VB4Qpns6g_"
      },
      "source": [
        "##### **Überdeckung**"
      ]
    },
    {
      "cell_type": "markdown",
      "metadata": {
        "id": "QjNzwnmZByc7"
      },
      "source": [
        "* Überdeckung ein grundlegendes Konzept aus der Mengenlehre. \n",
        "\n",
        "* Offene Überdeckungen spielen insbesondere bei der Kompaktheit von topologischen Räumen eine wichtige Rolle."
      ]
    },
    {
      "cell_type": "markdown",
      "metadata": {
        "id": "AAo33EGvCDhf"
      },
      "source": [
        "Eine [(Mengen-)Familie](https://de.m.wikipedia.org/wiki/Mengenfamilie) $\\left(A_{i}\\right)_{i \\in I}$ von Teilmengen von $A$ heißt Überdeckung von $B \\subset A,$ wenn gilt:\n",
        "\n",
        "$\n",
        "B \\subset \\bigcup_{i \\in I} A_{i}\n",
        "$\n",
        "\n",
        "Die Überdeckung $\\left(A_{i}\\right)_{i \\in I}$ heißt endlich (oder abzählbar), wenn die Indexmenge $I$ endlich (bzw abzählbar) ist."
      ]
    },
    {
      "cell_type": "markdown",
      "metadata": {
        "id": "NWe1R6YQtAR4"
      },
      "source": [
        "https://de.m.wikipedia.org/wiki/%C3%9Cberdeckung_(Mathematik)#Offene/abgeschlossene_%C3%9Cberdeckung"
      ]
    },
    {
      "cell_type": "markdown",
      "metadata": {
        "id": "qmIV4924KpIR"
      },
      "source": [
        "##### **Überlagerung**"
      ]
    },
    {
      "cell_type": "markdown",
      "metadata": {
        "id": "gxmT70rJKrkZ"
      },
      "source": [
        "https://de.m.wikipedia.org/wiki/Überlagerung_(Topologie)"
      ]
    },
    {
      "cell_type": "markdown",
      "metadata": {
        "id": "9NWWmKbLGPX9"
      },
      "source": [
        "https://de.m.wikipedia.org/wiki/Drehgruppe"
      ]
    },
    {
      "cell_type": "markdown",
      "metadata": {
        "id": "LEalsP8GcrQI"
      },
      "source": [
        "## **Topological Invariants**"
      ]
    },
    {
      "cell_type": "markdown",
      "metadata": {
        "id": "-7oNhiwZroPu"
      },
      "source": [
        "##### **Tools**"
      ]
    },
    {
      "cell_type": "markdown",
      "metadata": {
        "id": "tE1eIlyirr9-"
      },
      "source": [
        "*Simplices*"
      ]
    },
    {
      "cell_type": "markdown",
      "metadata": {
        "id": "tkABJX_prq2B"
      },
      "source": [
        "https://de.m.wikipedia.org/wiki/Simplex_(Mathematik)"
      ]
    },
    {
      "cell_type": "markdown",
      "metadata": {
        "id": "b6AIkjrPrwRG"
      },
      "source": [
        "*Triangulierung*"
      ]
    },
    {
      "cell_type": "markdown",
      "metadata": {
        "id": "7Q0_Q8Kwrvnv"
      },
      "source": [
        "https://de.m.wikipedia.org/wiki/Triangulierung_(Topologie)"
      ]
    },
    {
      "cell_type": "markdown",
      "metadata": {
        "id": "DA3lQL-ZqnFB"
      },
      "source": [
        "##### **Invarianten**"
      ]
    },
    {
      "cell_type": "markdown",
      "metadata": {
        "id": "er_vSQ6qM0G2"
      },
      "source": [
        "**Allgemeine Invarianten in der Mathematik**"
      ]
    },
    {
      "cell_type": "markdown",
      "metadata": {
        "id": "znh05OTeM34W"
      },
      "source": [
        "https://de.m.wikipedia.org/wiki/Invariante_(Mathematik)"
      ]
    },
    {
      "cell_type": "markdown",
      "metadata": {
        "id": "ga5daDEOM4uL"
      },
      "source": [
        "**Topologische Invarianten**"
      ]
    },
    {
      "cell_type": "markdown",
      "metadata": {
        "id": "PGR8LhnyPxbp"
      },
      "source": [
        "* a topological property or topological invariant is a property of a topological space which is invariant under homeomorphisms. \n",
        "\n",
        "* That is, a property of spaces is a topological property if whenever a space X possesses that property every space homeomorphic to X possesses that property. Informally, a topological property is a property of the space that can be expressed using open sets."
      ]
    },
    {
      "cell_type": "markdown",
      "metadata": {
        "id": "LUneyXe7fsjP"
      },
      "source": [
        "1. Anzahl der Zusammenhangs-Komponenten (connected components)\n",
        "\n",
        "2. Isomorphie-Klasse der Fundamentalgruppe\n",
        "\n",
        "3. Euler-Charakteristik (älter, wurden später durch Betti verallgemeinert)\n",
        "\n",
        "4. Geschlecht einer Fläche (Genus)\n",
        "\n",
        "5. Bettizahlen eines topologischen Raumes"
      ]
    },
    {
      "cell_type": "markdown",
      "metadata": {
        "id": "Yuztyo8Jf1I1"
      },
      "source": [
        "Siehe [deutsche Definition](https://de.m.wikipedia.org/wiki/Topologische_Invariante) und [englische Definition](https://en.m.wikipedia.org/wiki/Topological_property) auf Wikipedia"
      ]
    },
    {
      "cell_type": "markdown",
      "metadata": {
        "id": "bVzT40YQxA15"
      },
      "source": [
        "**Geschlecht einer Fläche (Genus)**"
      ]
    },
    {
      "cell_type": "markdown",
      "metadata": {
        "id": "ffVZaB1kxGQA"
      },
      "source": [
        "https://de.m.wikipedia.org/wiki/Geschlecht_(Fläche)"
      ]
    },
    {
      "cell_type": "markdown",
      "metadata": {
        "id": "AdsrX5Lj4Kw5"
      },
      "source": [
        "##### **Homology & Homotopy**"
      ]
    },
    {
      "cell_type": "markdown",
      "metadata": {
        "id": "2MFfv9vbohWg"
      },
      "source": [
        "https://de.m.wikipedia.org/wiki/Homotopie"
      ]
    },
    {
      "cell_type": "markdown",
      "metadata": {
        "id": "rvlDx7ocofjq"
      },
      "source": [
        "https://de.m.wikipedia.org/wiki/Homotopiegruppe"
      ]
    },
    {
      "cell_type": "markdown",
      "metadata": {
        "id": "5Pc3X2Yzod3l"
      },
      "source": [
        "https://de.m.wikipedia.org/wiki/Homologietheorie"
      ]
    },
    {
      "cell_type": "markdown",
      "metadata": {
        "id": "MbhXTREKocM8"
      },
      "source": [
        "https://en.m.wikipedia.org/wiki/Regular_homotopy"
      ]
    },
    {
      "cell_type": "markdown",
      "metadata": {
        "id": "jS3foHAzoace"
      },
      "source": [
        "https://en.m.wikipedia.org/wiki/Homotopy_principle"
      ]
    },
    {
      "cell_type": "markdown",
      "metadata": {
        "id": "cYu_HhBuoYzM"
      },
      "source": [
        "https://en.m.wikipedia.org/wiki/Sphere_eversion"
      ]
    },
    {
      "cell_type": "markdown",
      "metadata": {
        "id": "xHL1YJFSoWy4"
      },
      "source": [
        "https://en.m.wikipedia.org/wiki/Immersion_(mathematics)"
      ]
    },
    {
      "cell_type": "markdown",
      "metadata": {
        "id": "bqCqDSxlgP2h"
      },
      "source": [
        "**Homotopy Groups (incl. Fundamental Group)**"
      ]
    },
    {
      "cell_type": "markdown",
      "metadata": {
        "id": "0ATb0M51c2y9"
      },
      "source": [
        "* Homotopy groups are used in algebraic topology to classify topological spaces. \n",
        "\n",
        "* The first and simplest homotopy group is the fundamental group, which records information about loops in a space. Intuitively, homotopy groups record information about the basic shape, or holes, of a topological space.\n",
        "\n",
        "* In modern mathematics it is common to study a category by associating to every object of this category a simpler object that still retains sufficient information about the object of interest.\n",
        "\n",
        "* **Homotopy groups are such a way of associating <u>groups</u> to topological spaces.**"
      ]
    },
    {
      "cell_type": "markdown",
      "metadata": {
        "id": "ZfjNDtefc0W6"
      },
      "source": [
        "https://en.m.wikipedia.org/wiki/Homotopy_group"
      ]
    },
    {
      "cell_type": "markdown",
      "metadata": {
        "id": "ywxwYxxthbNy"
      },
      "source": [
        "https://de.m.wikipedia.org/wiki/Homotopie"
      ]
    },
    {
      "cell_type": "markdown",
      "metadata": {
        "id": "4XOmSTgtx01Z"
      },
      "source": [
        "https://en.m.wikipedia.org/wiki/Regular_homotopy"
      ]
    },
    {
      "cell_type": "markdown",
      "metadata": {
        "id": "k2KxMXRNx2t3"
      },
      "source": [
        "https://en.m.wikipedia.org/wiki/Ambient_isotopy"
      ]
    },
    {
      "cell_type": "markdown",
      "metadata": {
        "id": "fvfZ0VtDdbqT"
      },
      "source": [
        "**Fundamental Group**"
      ]
    },
    {
      "cell_type": "markdown",
      "metadata": {
        "id": "Xg49E-nDdkHj"
      },
      "source": [
        "* **first and simplest homotopy group** is the fundamental group, which records information about loops in a space. Intuitively, homotopy groups record information about the basic shape, or holes, of a topological space.\n",
        "\n",
        "* The fundamental group of a topological space is the group of the equivalence classes under homotopy of the loops contained in the space. It records information about the basic shape, or holes, of the topological space. \n",
        "\n",
        "* The fundamental group is the first and simplest homotopy group. The fundamental group is a homotopy invariant—topological spaces that are homotopy equivalent (or the stronger case of homeomorphic) have isomorphic fundamental groups."
      ]
    },
    {
      "cell_type": "markdown",
      "metadata": {
        "id": "2evCzaPrMp_c"
      },
      "source": [
        "https://en.m.wikipedia.org/wiki/Fundamental_group"
      ]
    },
    {
      "cell_type": "markdown",
      "metadata": {
        "id": "ns7vn23dhEhw"
      },
      "source": [
        "**Homology Groups**"
      ]
    },
    {
      "cell_type": "markdown",
      "metadata": {
        "id": "ggYpc9OYhHr9"
      },
      "source": [
        "* Die Homologie ist ein mathematischer Ansatz, die Existenz von Löchern zu formalisieren. \n",
        "\n",
        "* Gewisse „sehr feine“ Löcher sind für die Homologie unsichtbar; hier kann u. U. auf die schwerer zu bestimmenden Homotopiegruppen zurückgegriffen werden.\n",
        "\n"
      ]
    },
    {
      "cell_type": "markdown",
      "metadata": {
        "id": "PaYQ7cJLhJof"
      },
      "source": [
        "https://de.m.wikipedia.org/wiki/Homologietheorie"
      ]
    },
    {
      "cell_type": "markdown",
      "metadata": {
        "id": "K881PilDZ0HX"
      },
      "source": [
        "## **Appendix**"
      ]
    },
    {
      "cell_type": "markdown",
      "metadata": {
        "id": "l96I3v4kBK8K"
      },
      "source": [
        "#### **Differentiations**"
      ]
    },
    {
      "cell_type": "markdown",
      "metadata": {
        "id": "_GYc0gaH7eFI"
      },
      "source": [
        "**Exkurs: Topologischer Vektorraum**"
      ]
    },
    {
      "cell_type": "markdown",
      "metadata": {
        "id": "gexREomUEHvd"
      },
      "source": [
        "* Ein **topologischer Vektorraum** ist ein Vektorraum, auf dem neben seiner algebraischen auch noch eine damit verträgliche topologische Struktur definiert ist.\n",
        "\n",
        "Sei $\\mathbb{K} \\in\\{\\mathbb{R}, \\mathbb{C}\\}$. Ein $\\mathbb{K}$ -Vektorraum $E$, der zugleich topologischer Raum ist, heißt topologischer Vektorraum, wenn folgende Verträglichkeitsaxiome gelten:\n",
        "* Die Vektoraddition $E \\times E \\rightarrow E$ ist stetig,\n",
        "* Die Skalarmultiplikation $\\mathbb{K} \\times E \\rightarrow E$ ist stetig.\n"
      ]
    },
    {
      "cell_type": "markdown",
      "metadata": {
        "id": "eilpikqx7j3E"
      },
      "source": [
        "https://de.m.wikipedia.org/wiki/Topologischer_Vektorraum"
      ]
    },
    {
      "cell_type": "markdown",
      "metadata": {
        "id": "lcH5zlFWPE9P"
      },
      "source": [
        "**Exkurs: Lokalkonvexer Raum**\n"
      ]
    },
    {
      "cell_type": "markdown",
      "metadata": {
        "id": "erFwYpgVB25l"
      },
      "source": [
        "* genauer: lokalkonvexe topologische Vektorräume\n",
        "\n",
        "* in der Funktionalanalysis untersuchte topologische Vektorräume mit zusätzlichen Eigenschaften. Es handelt sich dabei um topologische Vektorräume, in denen jeder Punkt über „beliebig kleine“ konvexe Umgebungen verfügt. \n",
        "\n",
        "* Alternativ können lokalkonvexe Räume auch als Vektorräume definiert werden, deren Topologie durch eine Familie von Halbnormen erzeugt wird.\n",
        "\n",
        "* Ein lokalkonvexer Raum kann als eine Verallgemeinerung eines normierten Vektorraumes bzw. eines normierbaren Vektorraumes betrachtet werden, denn die Normkugeln um 0 sind konvexe Umgebungen des Nullpunktes."
      ]
    },
    {
      "cell_type": "markdown",
      "metadata": {
        "id": "OrYA75bOCs8l"
      },
      "source": [
        "Ein topologischer Vektorraum V (über dem Körper $\\mathbb {R}$ der reellen Zahlen oder dem Körper $\\mathbb {C}$ der komplexen Zahlen) heißt lokalkonvex, wenn jede Nullumgebung U (d. h. Umgebung des Nullpunktes) eine offene Teilmenge T mit den folgenden drei Eigenschaften enthält:\n",
        "\n",
        "1. T ist konvex.\n",
        "2. T ist absorbierend (Eine Teilmenge $T$ eines reellen oder komplexen Vektorraumes $V$ heißt dabei absorbierend, wenn es zu jedem Vektor $x$ in $V$ eine positive Zahl $r$ gibt, so dass $\\alpha x$ für jede reelle bzw. komplexe Zahl $\\alpha$ mit |$\\alpha$| < r ein Element von $T$ ist.)\n",
        "3. T ist ausgewogen. (Eine Teilmenge $T$ eines reellen oder komplexen Vektorraumes $V$ heißt ausgewogen, wenn zu jedem Vektor $x$ in $T$ und jeder Zahl $r$ mit $|r| \\leq 1$ der Vektor $r x$ ebenfalls in $T$ liegt. Im Fall eines reellen Vektorraums bedeutet dies, dass die Strecke von $-x$ nach $x$ in $T$ liegt; bei einem komplexen Vektorraum bedeutet es, dass $T$ die $_{n}$ Kreisscheibe\" $\\{r x|r \\in \\mathbb{C},| r \\mid \\leq 1\\}$ enthält. Aufgrund dieser geometrischen Bedeutung werden solche Mengen manchmal auch kreisförmig genannt.)"
      ]
    },
    {
      "cell_type": "markdown",
      "metadata": {
        "id": "C-bEE-NdPIMo"
      },
      "source": [
        "https://de.m.wikipedia.org/wiki/Lokalkonvexer_Raum"
      ]
    },
    {
      "cell_type": "markdown",
      "metadata": {
        "id": "IdxkIxB1NIQV"
      },
      "source": [
        "https://en.m.wikipedia.org/wiki/Functional_analysis"
      ]
    },
    {
      "cell_type": "markdown",
      "metadata": {
        "id": "JJccWn6RVMmD"
      },
      "source": [
        "https://en.m.wikipedia.org/wiki/Geometric_measure_theory"
      ]
    },
    {
      "cell_type": "markdown",
      "metadata": {
        "id": "baQWnwxnjgh2"
      },
      "source": [
        "**Topologische Strukturen**"
      ]
    },
    {
      "cell_type": "markdown",
      "metadata": {
        "id": "GZsp7IoVjmvx"
      },
      "source": [
        "* Der geometrische Begriff des Abstands (der Metrik) ermöglicht es, in metrischen Räumen das grundlegende Konzept der modernen Analysis, die Konvergenz, zu handhaben.\n",
        "\n",
        "* Topologische Räume sind aus dem Bemühen hervorgegangen, die Konvergenz in einem allgemeinen Sinne zu behandeln (jeder metrische Raum ist ein topologischer Raum mit der Topologie, die durch die Metrik induziert wird).\n",
        "\n",
        "* Die verschiedenen topologischen Räume, sie lassen sich durch ihre möglichen lokalen Strukturen klassifizieren, erhalten ihre Struktur durch die Auszeichnung bestimmter Teilmengen als offen oder, äquivalent dazu, als abgeschlossen (Strukturen zweiter Stufe)."
      ]
    },
    {
      "cell_type": "markdown",
      "metadata": {
        "id": "h8cOVj4PjrT-"
      },
      "source": [
        "Siehe auch: [Topologie](https://de.m.wikipedia.org/wiki/Topologie_(Mathematik)), [topologischer Raum](https://de.m.wikipedia.org/wiki/Topologischer_Raum) und [Trennungsaxiom](https://de.m.wikipedia.org/wiki/Trennungsaxiom) und [Ordnungstopologie](https://de.m.wikipedia.org/wiki/Ordnungstopologie)."
      ]
    },
    {
      "cell_type": "markdown",
      "metadata": {
        "id": "FTqOe0lLST3w"
      },
      "source": [
        "**Measure Theory vs General Topology**"
      ]
    },
    {
      "cell_type": "markdown",
      "metadata": {
        "id": "lxfdJGGFSO5S"
      },
      "source": [
        "* Although there are superficial similarities, measure theory and general topology have quite different purposes.\n",
        "\n",
        "\n",
        "* The aim in topology is to define structures that permit us to **define what we mean by a continuous function**. The most common way to do this is to **define a family of subsets of a set which we regard as being open**. The family of open sets must obey two axioms: the union of any set of open sets is open, the intersection of a finite collection of open sets is open. I'll also define a neighbourhood of a point as any superset of any open set containing the point. Then we can say **a function from a space X to a space Y is continuous at x if the inverse image of any neighbourhood of f(x) is a neighbourhood of x**. (Try to see how this generalises epsilon delta definitions.)\n",
        "\n",
        "* The aim in measure theory is to **study measures of the size of a set such as length, area or volume (for example in vector spaces, or probability in probability spaces)**. Measures must obey certain axioms, the most important one being that the measure of the union of a finite number of disjoint sets is the sum of the measures. Mostly this is also extended to countable unions. It turns out that **it is not usually possible to define a measure on every subset so we define a class of measurable sets**. These obey superficially similar axioms to open sets. A countable union of measurable sets is measurable and the intersection and difference of two measurable sets is measurable. But notice the different restrictions on the number of sets. (It is quite possible, and frequently happens, that a measure is defined on a topological space. Vector spaces are an example.)\n",
        "\n",
        "* **In measure theory there is a focus on σ-algebras**, i.e. non-empty subcollections of the powerset of a fixed set Ω that are closed under countable unions and complements. **In general topology there is a focus on topologies, i.e. subcollections of the powerset of a fixed set 𝑋 that are closed under finite intersections and arbitrary unions**. They “come together” if you are dealing with σ-algebras that are generated by topologies. Then we meet the **Borel σ-algebras**. If you study general topology then you can do completely without measure theory. If you study measure theory then some (not much) knowledge of topology is required. This especially when the Borel σ-algebras are on the menu.\n",
        "\n",
        "* Measures deal with metrics and sets, which are commonly defined within a topology. General topology deals with properties of topological spaces, including the behavior of sets and sequences."
      ]
    },
    {
      "cell_type": "markdown",
      "metadata": {
        "id": "il_CbdwRSZde"
      },
      "source": [
        "https://www.quora.com/What-are-the-main-similarities-and-differences-between-measure-theory-and-general-topology"
      ]
    },
    {
      "cell_type": "markdown",
      "metadata": {
        "id": "uEw5VnuVVy_F"
      },
      "source": [
        "**Geometry, Topology & Algebraic Topology**"
      ]
    },
    {
      "cell_type": "markdown",
      "metadata": {
        "id": "vUNECYk8ZI8G"
      },
      "source": [
        "*Geometry*\n",
        "\n",
        "* The central object of study in plane geometry is congruence. Two shapes are congruent when one can be mapped to the other via a rigid motion: sliding it along, rotating it, or reflecting it. \n",
        "\n",
        "* No deformations, expansions, or other twists are allowed. So in geometry we can talk about angles, for example, since angles don't change when you slide and rotate. Congruent triangles are ones that are the same except for a possible translation (sliding), rotation and maybe reflection (taking a mirror image)."
      ]
    },
    {
      "cell_type": "markdown",
      "metadata": {
        "id": "bo496rEsV6ce"
      },
      "source": [
        "*Topology*\n",
        "\n",
        "* First, we're not limited to simple polygonal shapes in the plane - we're dealing with any \"shape\" (topological space) for which we have a notion of \"nearness\". Intuitively it's fine to think of familiar shapes in the plane, space or (if your imagination is up to it) 4 dimensions and beyond. In fact, topology is a lot more permissive than this, and allows for spaces that look like nothing that fits into any number of dimensions.\n",
        "\n",
        "* The second way topology differs from plane geometry is that the notion of \"being the same thing\", instead of congruence, is called topological invariance, which is formally defined as a bi-directional mapping of one shape to another which preserves this notion of points being near each other. It's ok to stretch and twist, it's ok to tear and paste back, but it's not ok to make a hole and keep it there, or to otherwise break things apart.\n",
        "\n",
        "* If you have a rubber band, you can use it to form a circle, an ellipse, or a square. Those are very different shapes geometrically, but from the topological perspective they are the same."
      ]
    },
    {
      "cell_type": "markdown",
      "metadata": {
        "id": "ZAlxfSbMY5-n"
      },
      "source": [
        "*Algebraic Topology*\n",
        "\n",
        "* in many ways the permissive nature of topology makes it hard to tell things apart. It's not entirely easy to show that the plane and 3d space are different topologically, which sounds a bit silly but it's a fact. Showing that 3d space isn't 4d space is even harder.\n",
        "\n",
        "* One of the ways people found to deal with those difficulties is to create gadgets (officially called functors) that map topological spaces into objects that are easier to handle - algebraic objects like vector spaces and groups. If our layperson doesn't know what those are, we can get some headway by just declaring that our gadgets map topological spaces into numbers, or lists of numbers.\n",
        "\n",
        "* We then show that if two topological spaces are the same (topologically), they will get the same numbers attached to them. Contrariwise, if two spaces are tagged with different numbers, they cannot be the same.\n",
        "\n",
        "* Defining those gadgets isn't entirely trivial. Classically this was done via things called \"homology\" and \"homotopy\" groups. The latter ones can be roughly described as counting the number of distinct ways you can put a closed rubber band inside your space. Two such rubber bands aren't considered distinct if one can be deformed into the other inside your space.\n",
        "\n"
      ]
    },
    {
      "cell_type": "markdown",
      "metadata": {
        "id": "A0NOsQCDDaVK"
      },
      "source": [
        "#### **Links**"
      ]
    },
    {
      "cell_type": "markdown",
      "metadata": {
        "id": "qJMoEkl5KwAL"
      },
      "source": [
        "**Gröbere und feinere Topologien**"
      ]
    },
    {
      "cell_type": "markdown",
      "metadata": {
        "id": "7l_ZAckpKyHF"
      },
      "source": [
        "https://de.m.wikipedia.org/wiki/Gröbere_und_feinere_Topologien"
      ]
    },
    {
      "cell_type": "markdown",
      "metadata": {
        "id": "p0eAEQsZKRrM"
      },
      "source": [
        "**Dual: abgeschlossen**"
      ]
    },
    {
      "cell_type": "markdown",
      "metadata": {
        "id": "ta5nEiqJKVDD"
      },
      "source": [
        "* Eine Teilmenge des topologischen Raums X, deren Komplement eine offene Menge ist, heißt abgeschlossen. \n",
        "\n",
        "* Wenn man die oben formulierte Definition dualisiert und das Wort „offen“ durch „abgeschlossen“ ersetzt (sowie Schnitt und Vereinigung vertauscht), ergibt sich eine gleichwertige Definition des Begriffs „topologischer Raum“ über dessen System abgeschlossener Mengen."
      ]
    },
    {
      "cell_type": "markdown",
      "metadata": {
        "id": "AfSW7_VGEDLz"
      },
      "source": [
        "https://de.m.wikipedia.org/wiki/Netz_(Topologie)"
      ]
    },
    {
      "cell_type": "markdown",
      "metadata": {
        "id": "P_HlXEdMHy4c"
      },
      "source": [
        "https://de.m.wikipedia.org/wiki/Topologische_Algebra"
      ]
    },
    {
      "cell_type": "markdown",
      "metadata": {
        "id": "yeOP-VsOAOAv"
      },
      "source": [
        "https://en.m.wikipedia.org/wiki/Fibration"
      ]
    },
    {
      "cell_type": "markdown",
      "metadata": {
        "id": "-252wtN4AQXx"
      },
      "source": [
        "https://en.m.wikipedia.org/wiki/Cofibration"
      ]
    },
    {
      "cell_type": "markdown",
      "metadata": {
        "id": "cynrfVxSDZdF"
      },
      "source": [
        "https://de.m.wikipedia.org/wiki/Grothendieck-Topologie"
      ]
    },
    {
      "cell_type": "markdown",
      "metadata": {
        "id": "RhAfY9_j8TPM"
      },
      "source": [
        "https://de.m.wikipedia.org/wiki/Algebraische_Topologie"
      ]
    },
    {
      "cell_type": "markdown",
      "metadata": {
        "id": "1QBjG7HTbqbM"
      },
      "source": [
        "https://en.m.wikipedia.org/wiki/Characterizations_of_the_category_of_topological_spaces"
      ]
    },
    {
      "cell_type": "markdown",
      "metadata": {
        "id": "-Fr1deJIbsji"
      },
      "source": [
        "https://en.m.wikipedia.org/wiki/Category_of_topological_spaces"
      ]
    },
    {
      "cell_type": "markdown",
      "metadata": {
        "id": "oG-ZTRuUbwd-"
      },
      "source": [
        "https://en.m.wikipedia.org/wiki/Topological_space"
      ]
    },
    {
      "cell_type": "markdown",
      "metadata": {
        "id": "4dIwN9kA5LPy"
      },
      "source": [
        "https://de.m.wikipedia.org/wiki/Triviale_Topologie"
      ]
    },
    {
      "cell_type": "markdown",
      "metadata": {
        "id": "Dfq1dEjg5QZN"
      },
      "source": [
        "https://de.m.wikipedia.org/wiki/Diskrete_Topologie"
      ]
    },
    {
      "cell_type": "markdown",
      "metadata": {
        "id": "OnckX_yuNrkZ"
      },
      "source": [
        "https://de.m.wikipedia.org/wiki/Geometrisierung_von_3-Mannigfaltigkeiten"
      ]
    },
    {
      "cell_type": "markdown",
      "metadata": {
        "id": "yDwfENtWNuAh"
      },
      "source": [
        "https://de.m.wikipedia.org/wiki/Differentialtopologie"
      ]
    }
  ]
}