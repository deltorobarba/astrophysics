{
  "nbformat": 4,
  "nbformat_minor": 0,
  "metadata": {
    "colab": {
      "name": "topology.ipynb",
      "provenance": [],
      "collapsed_sections": [
        "FTqOe0lLST3w",
        "uEw5VnuVVy_F",
        "DdCUxO4ZJvgu",
        "FaD5r8Gz7bwJ",
        "lcH5zlFWPE9P",
        "_GYc0gaH7eFI",
        "LEalsP8GcrQI",
        "lPg8P3TKfn0v",
        "bqCqDSxlgP2h",
        "bVzT40YQxA15",
        "fvfZ0VtDdbqT",
        "ns7vn23dhEhw",
        "MQ3ADqvthpaV",
        "AdsrX5Lj4Kw5",
        "rb29u176PcSY",
        "kGv_TVQthAjL",
        "21sEOgvQhC3D",
        "NCZgQhlfexLB",
        "MBnjV7kSt_Kq"
      ],
      "include_colab_link": true
    },
    "kernelspec": {
      "name": "python3",
      "display_name": "Python 3"
    }
  },
  "cells": [
    {
      "cell_type": "markdown",
      "metadata": {
        "id": "view-in-github",
        "colab_type": "text"
      },
      "source": [
        "<a href=\"https://colab.research.google.com/github/deltorobarba/machinelearning/blob/master/topology.ipynb\" target=\"_parent\"><img src=\"https://colab.research.google.com/assets/colab-badge.svg\" alt=\"Open In Colab\"/></a>"
      ]
    },
    {
      "cell_type": "markdown",
      "metadata": {
        "id": "2Aoj2PpxvDQV",
        "colab_type": "text"
      },
      "source": [
        "# **Algebraische Topology**"
      ]
    },
    {
      "cell_type": "code",
      "metadata": {
        "id": "1U5_6xH7tAQq",
        "colab_type": "code",
        "colab": {}
      },
      "source": [
        "import numpy as np\n",
        "import pandas as pd\n",
        "import seaborn as sns\n",
        "import matplotlib.pyplot as plt"
      ],
      "execution_count": null,
      "outputs": []
    },
    {
      "cell_type": "markdown",
      "metadata": {
        "id": "ostHcxEvNZ5r",
        "colab_type": "text"
      },
      "source": [
        "![Normed Vector Space](https://upload.wikimedia.org/wikipedia/commons/thumb/9/9e/P1S2all.jpg/798px-P1S2all.jpg)"
      ]
    },
    {
      "cell_type": "markdown",
      "metadata": {
        "id": "RhAfY9_j8TPM",
        "colab_type": "text"
      },
      "source": [
        "https://de.m.wikipedia.org/wiki/Algebraische_Topologie"
      ]
    },
    {
      "cell_type": "markdown",
      "metadata": {
        "id": "1QBjG7HTbqbM",
        "colab_type": "text"
      },
      "source": [
        "https://en.m.wikipedia.org/wiki/Characterizations_of_the_category_of_topological_spaces"
      ]
    },
    {
      "cell_type": "markdown",
      "metadata": {
        "id": "-Fr1deJIbsji",
        "colab_type": "text"
      },
      "source": [
        "https://en.m.wikipedia.org/wiki/Category_of_topological_spaces"
      ]
    },
    {
      "cell_type": "markdown",
      "metadata": {
        "id": "oG-ZTRuUbwd-",
        "colab_type": "text"
      },
      "source": [
        "https://en.m.wikipedia.org/wiki/Topological_space"
      ]
    },
    {
      "cell_type": "markdown",
      "metadata": {
        "id": "K881PilDZ0HX",
        "colab_type": "text"
      },
      "source": [
        "## **Differentiations**"
      ]
    },
    {
      "cell_type": "markdown",
      "metadata": {
        "id": "FTqOe0lLST3w",
        "colab_type": "text"
      },
      "source": [
        "#### **Measure Theory vs General Topology**"
      ]
    },
    {
      "cell_type": "markdown",
      "metadata": {
        "id": "lxfdJGGFSO5S",
        "colab_type": "text"
      },
      "source": [
        "* Although there are superficial similarities, measure theory and general topology have quite different purposes.\n",
        "\n",
        "\n",
        "* The aim in topology is to define structures that permit us to **define what we mean by a continuous function**. The most common way to do this is to **define a family of subsets of a set which we regard as being open**. The family of open sets must obey two axioms: the union of any set of open sets is open, the intersection of a finite collection of open sets is open. I'll also define a neighbourhood of a point as any superset of any open set containing the point. Then we can say **a function from a space X to a space Y is continuous at x if the inverse image of any neighbourhood of f(x) is a neighbourhood of x**. (Try to see how this generalises epsilon delta definitions.)\n",
        "\n",
        "* The aim in measure theory is to **study measures of the size of a set such as length, area or volume (for example in vector spaces, or probability in probability spaces)**. Measures must obey certain axioms, the most important one being that the measure of the union of a finite number of disjoint sets is the sum of the measures. Mostly this is also extended to countable unions. It turns out that **it is not usually possible to define a measure on every subset so we define a class of measurable sets**. These obey superficially similar axioms to open sets. A countable union of measurable sets is measurable and the intersection and difference of two measurable sets is measurable. But notice the different restrictions on the number of sets. (It is quite possible, and frequently happens, that a measure is defined on a topological space. Vector spaces are an example.)\n",
        "\n",
        "* **In measure theory there is a focus on σ-algebras**, i.e. non-empty subcollections of the powerset of a fixed set Ω that are closed under countable unions and complements. **In general topology there is a focus on topologies, i.e. subcollections of the powerset of a fixed set 𝑋 that are closed under finite intersections and arbitrary unions**. They “come together” if you are dealing with σ-algebras that are generated by topologies. Then we meet the **Borel σ-algebras**. If you study general topology then you can do completely without measure theory. If you study measure theory then some (not much) knowledge of topology is required. This especially when the Borel σ-algebras are on the menu.\n",
        "\n",
        "* Measures deal with metrics and sets, which are commonly defined within a topology. General topology deals with properties of topological spaces, including the behavior of sets and sequences."
      ]
    },
    {
      "cell_type": "markdown",
      "metadata": {
        "id": "il_CbdwRSZde",
        "colab_type": "text"
      },
      "source": [
        "https://www.quora.com/What-are-the-main-similarities-and-differences-between-measure-theory-and-general-topology"
      ]
    },
    {
      "cell_type": "markdown",
      "metadata": {
        "id": "uEw5VnuVVy_F",
        "colab_type": "text"
      },
      "source": [
        "#### **Geometry, Topology & Algebraic Topology**"
      ]
    },
    {
      "cell_type": "markdown",
      "metadata": {
        "id": "vUNECYk8ZI8G",
        "colab_type": "text"
      },
      "source": [
        "**Geometry**\n",
        "\n",
        "* The central object of study in plane geometry is congruence. Two shapes are congruent when one can be mapped to the other via a rigid motion: sliding it along, rotating it, or reflecting it. \n",
        "\n",
        "* No deformations, expansions, or other twists are allowed. So in geometry we can talk about angles, for example, since angles don't change when you slide and rotate. Congruent triangles are ones that are the same except for a possible translation (sliding), rotation and maybe reflection (taking a mirror image)."
      ]
    },
    {
      "cell_type": "markdown",
      "metadata": {
        "id": "bo496rEsV6ce",
        "colab_type": "text"
      },
      "source": [
        "**Topology**\n",
        "\n",
        "* First, we're not limited to simple polygonal shapes in the plane - we're dealing with any \"shape\" (topological space) for which we have a notion of \"nearness\". Intuitively it's fine to think of familiar shapes in the plane, space or (if your imagination is up to it) 4 dimensions and beyond. In fact, topology is a lot more permissive than this, and allows for spaces that look like nothing that fits into any number of dimensions.\n",
        "\n",
        "* The second way topology differs from plane geometry is that the notion of \"being the same thing\", instead of congruence, is called topological invariance, which is formally defined as a bi-directional mapping of one shape to another which preserves this notion of points being near each other. It's ok to stretch and twist, it's ok to tear and paste back, but it's not ok to make a hole and keep it there, or to otherwise break things apart.\n",
        "\n",
        "* If you have a rubber band, you can use it to form a circle, an ellipse, or a square. Those are very different shapes geometrically, but from the topological perspective they are the same."
      ]
    },
    {
      "cell_type": "markdown",
      "metadata": {
        "id": "ZAlxfSbMY5-n",
        "colab_type": "text"
      },
      "source": [
        "**Algebraic Topology**\n",
        "\n",
        "* in many ways the permissive nature of topology makes it hard to tell things apart. It's not entirely easy to show that the plane and 3d space are different topologically, which sounds a bit silly but it's a fact. Showing that 3d space isn't 4d space is even harder.\n",
        "\n",
        "* One of the ways people found to deal with those difficulties is to create gadgets (officially called functors) that map topological spaces into objects that are easier to handle - algebraic objects like vector spaces and groups. If our layperson doesn't know what those are, we can get some headway by just declaring that our gadgets map topological spaces into numbers, or lists of numbers.\n",
        "\n",
        "* We then show that if two topological spaces are the same (topologically), they will get the same numbers attached to them. Contrariwise, if two spaces are tagged with different numbers, they cannot be the same.\n",
        "\n",
        "* Defining those gadgets isn't entirely trivial. Classically this was done via things called \"homology\" and \"homotopy\" groups. The latter ones can be roughly described as counting the number of distinct ways you can put a closed rubber band inside your space. Two such rubber bands aren't considered distinct if one can be deformed into the other inside your space.\n",
        "\n"
      ]
    },
    {
      "cell_type": "markdown",
      "metadata": {
        "id": "DdCUxO4ZJvgu",
        "colab_type": "text"
      },
      "source": [
        "## **Properties of Topological Vector Spaces**"
      ]
    },
    {
      "cell_type": "markdown",
      "metadata": {
        "id": "FaD5r8Gz7bwJ",
        "colab_type": "text"
      },
      "source": [
        "### **Overview**"
      ]
    },
    {
      "cell_type": "markdown",
      "metadata": {
        "id": "JOvi-pxX20Xt",
        "colab_type": "text"
      },
      "source": [
        "The definition of a topological space relies only upon set theory and is the most general notion of a mathematical space that allows for the definition of concepts such as \n",
        "\n",
        "* [continuity](https://en.m.wikipedia.org/wiki/Continuous_function#Continuous_functions_between_topological_spaces): intuitively, take nearby points to nearby points,\n",
        "\n",
        "* [connectedness](https://en.m.wikipedia.org/wiki/Connected_space): \n",
        "\n",
        "* [convergence](https://en.m.wikipedia.org/wiki/Limit_of_a_sequence):\n",
        "\n",
        "Other spaces, such as manifolds and **metric spaces, are specializations of topological spaces** with extra structures or constraints. \n",
        "\n",
        "Being so general, topological spaces are a central unifying notion and appear in virtually every branch of modern mathematics. The branch of mathematics that studies topological spaces in their own right is called [point-set topology](https://en.m.wikipedia.org/wiki/General_topology) or general topology."
      ]
    },
    {
      "cell_type": "markdown",
      "metadata": {
        "id": "kPqn9q8s2IHU",
        "colab_type": "text"
      },
      "source": [
        "https://en.m.wikipedia.org/wiki/Topological_space"
      ]
    },
    {
      "cell_type": "markdown",
      "metadata": {
        "id": "v6Zlq-39wEQR",
        "colab_type": "text"
      },
      "source": [
        "https://de.m.wikipedia.org/wiki/Topologischer_Raum"
      ]
    },
    {
      "cell_type": "markdown",
      "metadata": {
        "id": "mGa9tjQO36P5",
        "colab_type": "text"
      },
      "source": [
        "**Point Set (General) Topology**"
      ]
    },
    {
      "cell_type": "markdown",
      "metadata": {
        "id": "DiQz9rYA4aCc",
        "colab_type": "text"
      },
      "source": [
        "General topology is the branch of topology that deals with the basic set-theoretic definitions and constructions used in topology. It is the foundation of most other branches of topology, including differential topology, geometric topology, and algebraic topology. Another name for general topology is point-set topology."
      ]
    },
    {
      "cell_type": "markdown",
      "metadata": {
        "id": "18sCpSGV38xo",
        "colab_type": "text"
      },
      "source": [
        "The fundamental concepts in point-set topology are continuity, compactness, and connectedness:\n",
        "\n",
        "* **Continuous functions**, intuitively, take nearby points to nearby points.\n",
        "\n",
        "* **Compact sets** are those that can be covered by finitely many sets of arbitrarily small size.\n",
        "\n",
        "* **Connected sets** are sets that cannot be divided into two pieces that are far apart."
      ]
    },
    {
      "cell_type": "markdown",
      "metadata": {
        "id": "gYdNpAYr4ILZ",
        "colab_type": "text"
      },
      "source": [
        "https://en.m.wikipedia.org/wiki/General_topology"
      ]
    },
    {
      "cell_type": "markdown",
      "metadata": {
        "id": "lcH5zlFWPE9P",
        "colab_type": "text"
      },
      "source": [
        "### **Lokalkonvexer Raum**"
      ]
    },
    {
      "cell_type": "markdown",
      "metadata": {
        "id": "C-bEE-NdPIMo",
        "colab_type": "text"
      },
      "source": [
        "https://de.m.wikipedia.org/wiki/Lokalkonvexer_Raum"
      ]
    },
    {
      "cell_type": "markdown",
      "metadata": {
        "id": "_GYc0gaH7eFI",
        "colab_type": "text"
      },
      "source": [
        "### **Topologischer Raum vs Topologischer Vektorraum**"
      ]
    },
    {
      "cell_type": "markdown",
      "metadata": {
        "id": "eilpikqx7j3E",
        "colab_type": "text"
      },
      "source": [
        "https://de.m.wikipedia.org/wiki/Topologischer_Vektorraum"
      ]
    },
    {
      "cell_type": "markdown",
      "metadata": {
        "id": "2Yb-RLTM7mqp",
        "colab_type": "text"
      },
      "source": [
        "https://de.m.wikipedia.org/wiki/Topologischer_Raum"
      ]
    },
    {
      "cell_type": "markdown",
      "metadata": {
        "id": "LEalsP8GcrQI",
        "colab_type": "text"
      },
      "source": [
        "## **Invariants of Topological Spaces**"
      ]
    },
    {
      "cell_type": "markdown",
      "metadata": {
        "id": "z7jlrnLNc6PV",
        "colab_type": "text"
      },
      "source": [
        "https://en.m.wikipedia.org/wiki/Fundamental_group"
      ]
    },
    {
      "cell_type": "markdown",
      "metadata": {
        "id": "lPg8P3TKfn0v",
        "colab_type": "text"
      },
      "source": [
        "### **Topologische Invarianten (Properties)**"
      ]
    },
    {
      "cell_type": "markdown",
      "metadata": {
        "id": "LUneyXe7fsjP",
        "colab_type": "text"
      },
      "source": [
        "1. Anzahl der Zusammenhangs-Komponenten\n",
        "\n",
        "2. Isomorphie-Klasse der Fundamentalgruppe\n",
        "\n",
        "3. Euler-Charakteristik\n",
        "\n",
        "4. Geschlecht einer Fläche\n",
        "\n",
        "5. Bettizahlen eines topologischen Raumes"
      ]
    },
    {
      "cell_type": "markdown",
      "metadata": {
        "id": "Yuztyo8Jf1I1",
        "colab_type": "text"
      },
      "source": [
        "https://de.m.wikipedia.org/wiki/Topologische_Invariante\n",
        "\n",
        "https://en.m.wikipedia.org/wiki/Topological_property"
      ]
    },
    {
      "cell_type": "markdown",
      "metadata": {
        "id": "Nuy0MwB4hT_U",
        "colab_type": "text"
      },
      "source": [
        "https://de.m.wikipedia.org/wiki/Geometrisierung_von_3-Mannigfaltigkeiten"
      ]
    },
    {
      "cell_type": "markdown",
      "metadata": {
        "id": "aysHEsMJhWuq",
        "colab_type": "text"
      },
      "source": [
        "https://de.m.wikipedia.org/wiki/Differentialtopologie"
      ]
    },
    {
      "cell_type": "markdown",
      "metadata": {
        "id": "bqCqDSxlgP2h",
        "colab_type": "text"
      },
      "source": [
        "### **Homotopy Groups**"
      ]
    },
    {
      "cell_type": "markdown",
      "metadata": {
        "id": "0ATb0M51c2y9",
        "colab_type": "text"
      },
      "source": [
        "* Homotopy groups are used in algebraic topology to classify topological spaces. \n",
        "\n",
        "* The first and simplest homotopy group is the fundamental group, which records information about loops in a space. Intuitively, homotopy groups record information about the basic shape, or holes, of a topological space."
      ]
    },
    {
      "cell_type": "markdown",
      "metadata": {
        "id": "ZfjNDtefc0W6",
        "colab_type": "text"
      },
      "source": [
        "https://en.m.wikipedia.org/wiki/Homotopy_group"
      ]
    },
    {
      "cell_type": "markdown",
      "metadata": {
        "id": "ywxwYxxthbNy",
        "colab_type": "text"
      },
      "source": [
        "https://de.m.wikipedia.org/wiki/Homotopie"
      ]
    },
    {
      "cell_type": "markdown",
      "metadata": {
        "id": "4XOmSTgtx01Z",
        "colab_type": "text"
      },
      "source": [
        "https://en.m.wikipedia.org/wiki/Regular_homotopy"
      ]
    },
    {
      "cell_type": "markdown",
      "metadata": {
        "id": "k2KxMXRNx2t3",
        "colab_type": "text"
      },
      "source": [
        "https://en.m.wikipedia.org/wiki/Ambient_isotopy"
      ]
    },
    {
      "cell_type": "markdown",
      "metadata": {
        "id": "bVzT40YQxA15",
        "colab_type": "text"
      },
      "source": [
        "### **Genus**"
      ]
    },
    {
      "cell_type": "markdown",
      "metadata": {
        "id": "ffVZaB1kxGQA",
        "colab_type": "text"
      },
      "source": [
        "https://de.m.wikipedia.org/wiki/Geschlecht_(Fläche)"
      ]
    },
    {
      "cell_type": "markdown",
      "metadata": {
        "id": "fvfZ0VtDdbqT",
        "colab_type": "text"
      },
      "source": [
        "### **Fundamental Group**"
      ]
    },
    {
      "cell_type": "markdown",
      "metadata": {
        "id": "Xg49E-nDdkHj",
        "colab_type": "text"
      },
      "source": [
        "* The fundamental group of a topological space is the group of the equivalence classes under homotopy of the loops contained in the space. It records information about the basic shape, or holes, of the topological space. \n",
        "\n",
        "* The fundamental group is the first and simplest homotopy group. The fundamental group is a homotopy invariant—topological spaces that are homotopy equivalent (or the stronger case of homeomorphic) have isomorphic fundamental groups."
      ]
    },
    {
      "cell_type": "markdown",
      "metadata": {
        "id": "ns7vn23dhEhw",
        "colab_type": "text"
      },
      "source": [
        "### **Homology Groups**"
      ]
    },
    {
      "cell_type": "markdown",
      "metadata": {
        "id": "ggYpc9OYhHr9",
        "colab_type": "text"
      },
      "source": [
        "Die Homologie ist ein mathematischer Ansatz, die Existenz von Löchern zu formalisieren. Gewisse „sehr feine“ Löcher sind für die Homologie unsichtbar; hier kann u. U. auf die schwerer zu bestimmenden Homotopiegruppen zurückgegriffen werden.\n",
        "\n"
      ]
    },
    {
      "cell_type": "markdown",
      "metadata": {
        "id": "PaYQ7cJLhJof",
        "colab_type": "text"
      },
      "source": [
        "https://de.m.wikipedia.org/wiki/Homologietheorie"
      ]
    },
    {
      "cell_type": "markdown",
      "metadata": {
        "id": "MQ3ADqvthpaV",
        "colab_type": "text"
      },
      "source": [
        "### **Triangulierung**"
      ]
    },
    {
      "cell_type": "markdown",
      "metadata": {
        "id": "WDOdJHG9hr5d",
        "colab_type": "text"
      },
      "source": [
        "https://de.m.wikipedia.org/wiki/Triangulierung_(Topologie)"
      ]
    },
    {
      "cell_type": "markdown",
      "metadata": {
        "id": "AdsrX5Lj4Kw5",
        "colab_type": "text"
      },
      "source": [
        "## **Classification of Topological Spaces**"
      ]
    },
    {
      "cell_type": "markdown",
      "metadata": {
        "id": "rb29u176PcSY",
        "colab_type": "text"
      },
      "source": [
        "#### **Trennungsaxiom**"
      ]
    },
    {
      "cell_type": "markdown",
      "metadata": {
        "id": "oaxt5v2vPemR",
        "colab_type": "text"
      },
      "source": [
        "https://de.m.wikipedia.org/wiki/Trennungsaxiom"
      ]
    },
    {
      "cell_type": "markdown",
      "metadata": {
        "id": "4LhMBjBx3qVx",
        "colab_type": "text"
      },
      "source": [
        "https://en.m.wikipedia.org/wiki/History_of_the_separation_axioms"
      ]
    },
    {
      "cell_type": "markdown",
      "metadata": {
        "id": "kGv_TVQthAjL",
        "colab_type": "text"
      },
      "source": [
        "#### **Kolmogorov Space (T<sub>0</sub>)**"
      ]
    },
    {
      "cell_type": "markdown",
      "metadata": {
        "id": "McKfZ6oJnbpU",
        "colab_type": "text"
      },
      "source": [
        "A space is Kolmogorov if for every pair of distinct points x and y in the space, there is at least either an open set containing x but not y, or an open set containing y but not x."
      ]
    },
    {
      "cell_type": "markdown",
      "metadata": {
        "id": "R-mimalAnryI",
        "colab_type": "text"
      },
      "source": [
        "If for every pair of distinct points of X, at least one of them has a neighborhood not containing the other. In a T0 space, all points are topologically distinguishable."
      ]
    },
    {
      "cell_type": "markdown",
      "metadata": {
        "id": "sBBzKFuxngTK",
        "colab_type": "text"
      },
      "source": [
        "https://en.m.wikipedia.org/wiki/Kolmogorov_space"
      ]
    },
    {
      "cell_type": "markdown",
      "metadata": {
        "id": "21sEOgvQhC3D",
        "colab_type": "text"
      },
      "source": [
        "#### **Fréchet Space (T<sub>1</sub>)**"
      ]
    },
    {
      "cell_type": "markdown",
      "metadata": {
        "id": "Q-cIk28nlLjD",
        "colab_type": "text"
      },
      "source": [
        "Fréchet spaces are generalizations of Banach spaces (normed vector spaces that are complete with respect to the metric induced by the norm)."
      ]
    },
    {
      "cell_type": "markdown",
      "metadata": {
        "id": "ojYxWlJlk9_S",
        "colab_type": "text"
      },
      "source": [
        "https://en.m.wikipedia.org/wiki/Fréchet_space"
      ]
    },
    {
      "cell_type": "markdown",
      "metadata": {
        "id": "ZLAxGRK2mIJ0",
        "colab_type": "text"
      },
      "source": [
        "Instead, with the topology of compact convergence, C(a, b) can be given the structure of a Fréchet space: a locally convex topological vector space whose topology can be induced by a complete translation-invariant metric."
      ]
    },
    {
      "cell_type": "markdown",
      "metadata": {
        "id": "_V_mqLlPmEqH",
        "colab_type": "text"
      },
      "source": [
        "https://en.m.wikipedia.org/wiki/Locally_convex_topological_vector_space"
      ]
    },
    {
      "cell_type": "markdown",
      "metadata": {
        "id": "NCZgQhlfexLB",
        "colab_type": "text"
      },
      "source": [
        "#### **Haussdorf Spaces (T<sub>2</sub>)**"
      ]
    },
    {
      "cell_type": "markdown",
      "metadata": {
        "id": "yYSQRA5ye-FK",
        "colab_type": "text"
      },
      "source": [
        "* A topological space is Hausdorff if and only if it is both preregular (i.e. topologically distinguishable points are separated by neighbourhoods) and Kolmogorov (i.e. distinct points are topologically distinguishable). A topological space is preregular if and only if its Kolmogorov quotient is Hausdorff.\n",
        "\n",
        "* Almost all spaces encountered in analysis are Hausdorff; most importantly, the real numbers (under the standard metric topology on real numbers) are a Hausdorff space. More generally, all metric spaces are Hausdorff. In fact, many spaces of use in analysis, such as topological groups and topological manifolds, have the Hausdorff condition explicitly stated in their definitions."
      ]
    },
    {
      "cell_type": "markdown",
      "metadata": {
        "id": "rF3JibKfNEUU",
        "colab_type": "text"
      },
      "source": [
        "https://en.m.wikipedia.org/wiki/Topological_vector_space"
      ]
    },
    {
      "cell_type": "markdown",
      "metadata": {
        "id": "THQQyoXwEDFm",
        "colab_type": "text"
      },
      "source": [
        "https://en.m.wikipedia.org/wiki/Hausdorff_space"
      ]
    },
    {
      "cell_type": "markdown",
      "metadata": {
        "id": "MBnjV7kSt_Kq",
        "colab_type": "text"
      },
      "source": [
        "## **Umgebung (Neighbourhood)**"
      ]
    },
    {
      "cell_type": "markdown",
      "metadata": {
        "id": "3ROc9W781Qef",
        "colab_type": "text"
      },
      "source": [
        "* a neighbourhood (or neighborhood) is one of the basic concepts in a topological space. It is closely related to the concepts of open set and interior. \n",
        "\n",
        "* Intuitively speaking, a neighbourhood of a point is a set of points containing that point where one can move some amount in any direction away from that point without leaving the set."
      ]
    },
    {
      "cell_type": "markdown",
      "metadata": {
        "id": "x2x-C0ZzuBcK",
        "colab_type": "text"
      },
      "source": [
        "https://de.m.wikipedia.org/wiki/Umgebung_(Mathematik)"
      ]
    },
    {
      "cell_type": "markdown",
      "metadata": {
        "id": "IdxkIxB1NIQV",
        "colab_type": "text"
      },
      "source": [
        "https://en.m.wikipedia.org/wiki/Functional_analysis"
      ]
    },
    {
      "cell_type": "markdown",
      "metadata": {
        "id": "JJccWn6RVMmD",
        "colab_type": "text"
      },
      "source": [
        "https://en.m.wikipedia.org/wiki/Geometric_measure_theory"
      ]
    }
  ]
}