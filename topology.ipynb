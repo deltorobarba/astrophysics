{
  "nbformat": 4,
  "nbformat_minor": 0,
  "metadata": {
    "colab": {
      "name": "topology.ipynb",
      "provenance": [],
      "collapsed_sections": [
        "LEalsP8GcrQI",
        "lPg8P3TKfn0v",
        "bqCqDSxlgP2h",
        "fvfZ0VtDdbqT",
        "ns7vn23dhEhw",
        "MQ3ADqvthpaV",
        "AdsrX5Lj4Kw5",
        "kGv_TVQthAjL",
        "21sEOgvQhC3D",
        "NCZgQhlfexLB"
      ],
      "include_colab_link": true
    },
    "kernelspec": {
      "name": "python3",
      "display_name": "Python 3"
    }
  },
  "cells": [
    {
      "cell_type": "markdown",
      "metadata": {
        "id": "view-in-github",
        "colab_type": "text"
      },
      "source": [
        "<a href=\"https://colab.research.google.com/github/deltorobarba/machinelearning/blob/master/topology.ipynb\" target=\"_parent\"><img src=\"https://colab.research.google.com/assets/colab-badge.svg\" alt=\"Open In Colab\"/></a>"
      ]
    },
    {
      "cell_type": "markdown",
      "metadata": {
        "id": "2Aoj2PpxvDQV",
        "colab_type": "text"
      },
      "source": [
        "# **Topology**"
      ]
    },
    {
      "cell_type": "code",
      "metadata": {
        "id": "1U5_6xH7tAQq",
        "colab_type": "code",
        "colab": {}
      },
      "source": [
        "import numpy as np\n",
        "import pandas as pd\n",
        "import seaborn as sns\n",
        "import matplotlib.pyplot as plt"
      ],
      "execution_count": null,
      "outputs": []
    },
    {
      "cell_type": "markdown",
      "metadata": {
        "id": "ostHcxEvNZ5r",
        "colab_type": "text"
      },
      "source": [
        "![Normed Vector Space](https://upload.wikimedia.org/wikipedia/commons/thumb/9/9e/P1S2all.jpg/798px-P1S2all.jpg)"
      ]
    },
    {
      "cell_type": "markdown",
      "metadata": {
        "id": "DdCUxO4ZJvgu",
        "colab_type": "text"
      },
      "source": [
        "## **Properties of Topological Vector Spaces**"
      ]
    },
    {
      "cell_type": "markdown",
      "metadata": {
        "id": "JOvi-pxX20Xt",
        "colab_type": "text"
      },
      "source": [
        "The definition of a topological space relies only upon set theory and is the most general notion of a mathematical space that allows for the definition of concepts such as \n",
        "\n",
        "* [continuity](https://en.m.wikipedia.org/wiki/Continuous_function#Continuous_functions_between_topological_spaces): intuitively, take nearby points to nearby points,\n",
        "\n",
        "* [connectedness](https://en.m.wikipedia.org/wiki/Connected_space): \n",
        "\n",
        "* [convergence](https://en.m.wikipedia.org/wiki/Limit_of_a_sequence):\n",
        "\n",
        "Other spaces, such as manifolds and **metric spaces, are specializations of topological spaces** with extra structures or constraints. \n",
        "\n",
        "Being so general, topological spaces are a central unifying notion and appear in virtually every branch of modern mathematics. The branch of mathematics that studies topological spaces in their own right is called [point-set topology](https://en.m.wikipedia.org/wiki/General_topology) or general topology."
      ]
    },
    {
      "cell_type": "markdown",
      "metadata": {
        "id": "kPqn9q8s2IHU",
        "colab_type": "text"
      },
      "source": [
        "https://en.m.wikipedia.org/wiki/Topological_space"
      ]
    },
    {
      "cell_type": "markdown",
      "metadata": {
        "id": "v6Zlq-39wEQR",
        "colab_type": "text"
      },
      "source": [
        "https://de.m.wikipedia.org/wiki/Topologischer_Raum"
      ]
    },
    {
      "cell_type": "markdown",
      "metadata": {
        "id": "mGa9tjQO36P5",
        "colab_type": "text"
      },
      "source": [
        "**Point Set (General) Topology**"
      ]
    },
    {
      "cell_type": "markdown",
      "metadata": {
        "id": "DiQz9rYA4aCc",
        "colab_type": "text"
      },
      "source": [
        "General topology is the branch of topology that deals with the basic set-theoretic definitions and constructions used in topology. It is the foundation of most other branches of topology, including differential topology, geometric topology, and algebraic topology. Another name for general topology is point-set topology."
      ]
    },
    {
      "cell_type": "markdown",
      "metadata": {
        "id": "18sCpSGV38xo",
        "colab_type": "text"
      },
      "source": [
        "The fundamental concepts in point-set topology are continuity, compactness, and connectedness:\n",
        "\n",
        "* **Continuous functions**, intuitively, take nearby points to nearby points.\n",
        "\n",
        "* **Compact sets** are those that can be covered by finitely many sets of arbitrarily small size.\n",
        "\n",
        "* **Connected sets** are sets that cannot be divided into two pieces that are far apart."
      ]
    },
    {
      "cell_type": "markdown",
      "metadata": {
        "id": "gYdNpAYr4ILZ",
        "colab_type": "text"
      },
      "source": [
        "https://en.m.wikipedia.org/wiki/General_topology"
      ]
    },
    {
      "cell_type": "markdown",
      "metadata": {
        "id": "LEalsP8GcrQI",
        "colab_type": "text"
      },
      "source": [
        "## **Invariants of Topological Spaces**"
      ]
    },
    {
      "cell_type": "markdown",
      "metadata": {
        "id": "z7jlrnLNc6PV",
        "colab_type": "text"
      },
      "source": [
        "https://en.m.wikipedia.org/wiki/Fundamental_group"
      ]
    },
    {
      "cell_type": "markdown",
      "metadata": {
        "id": "lPg8P3TKfn0v",
        "colab_type": "text"
      },
      "source": [
        "### **Topologische Invarianten (Properties)**"
      ]
    },
    {
      "cell_type": "markdown",
      "metadata": {
        "id": "LUneyXe7fsjP",
        "colab_type": "text"
      },
      "source": [
        "1. Anzahl der Zusammenhangs-Komponenten\n",
        "\n",
        "2. Isomorphie-Klasse der Fundamentalgruppe\n",
        "\n",
        "3. Euler-Charakteristik\n",
        "\n",
        "4. Geschlecht einer Fläche\n",
        "\n",
        "5. Bettizahlen eines topologischen Raumes"
      ]
    },
    {
      "cell_type": "markdown",
      "metadata": {
        "id": "Yuztyo8Jf1I1",
        "colab_type": "text"
      },
      "source": [
        "https://de.m.wikipedia.org/wiki/Topologische_Invariante\n",
        "\n",
        "https://en.m.wikipedia.org/wiki/Topological_property"
      ]
    },
    {
      "cell_type": "markdown",
      "metadata": {
        "id": "Nuy0MwB4hT_U",
        "colab_type": "text"
      },
      "source": [
        "https://de.m.wikipedia.org/wiki/Geometrisierung_von_3-Mannigfaltigkeiten"
      ]
    },
    {
      "cell_type": "markdown",
      "metadata": {
        "id": "aysHEsMJhWuq",
        "colab_type": "text"
      },
      "source": [
        "https://de.m.wikipedia.org/wiki/Differentialtopologie"
      ]
    },
    {
      "cell_type": "markdown",
      "metadata": {
        "id": "bqCqDSxlgP2h",
        "colab_type": "text"
      },
      "source": [
        "### **Homotopy Groups**"
      ]
    },
    {
      "cell_type": "markdown",
      "metadata": {
        "id": "0ATb0M51c2y9",
        "colab_type": "text"
      },
      "source": [
        "* Homotopy groups are used in algebraic topology to classify topological spaces. \n",
        "\n",
        "* The first and simplest homotopy group is the fundamental group, which records information about loops in a space. Intuitively, homotopy groups record information about the basic shape, or holes, of a topological space."
      ]
    },
    {
      "cell_type": "markdown",
      "metadata": {
        "id": "ZfjNDtefc0W6",
        "colab_type": "text"
      },
      "source": [
        "https://en.m.wikipedia.org/wiki/Homotopy_group"
      ]
    },
    {
      "cell_type": "markdown",
      "metadata": {
        "id": "ywxwYxxthbNy",
        "colab_type": "text"
      },
      "source": [
        "https://de.m.wikipedia.org/wiki/Homotopie"
      ]
    },
    {
      "cell_type": "markdown",
      "metadata": {
        "id": "fvfZ0VtDdbqT",
        "colab_type": "text"
      },
      "source": [
        "### **Fundamental Group**"
      ]
    },
    {
      "cell_type": "markdown",
      "metadata": {
        "id": "Xg49E-nDdkHj",
        "colab_type": "text"
      },
      "source": [
        "* The fundamental group of a topological space is the group of the equivalence classes under homotopy of the loops contained in the space. It records information about the basic shape, or holes, of the topological space. \n",
        "\n",
        "* The fundamental group is the first and simplest homotopy group. The fundamental group is a homotopy invariant—topological spaces that are homotopy equivalent (or the stronger case of homeomorphic) have isomorphic fundamental groups."
      ]
    },
    {
      "cell_type": "markdown",
      "metadata": {
        "id": "ns7vn23dhEhw",
        "colab_type": "text"
      },
      "source": [
        "### **Homology Groups**"
      ]
    },
    {
      "cell_type": "markdown",
      "metadata": {
        "id": "ggYpc9OYhHr9",
        "colab_type": "text"
      },
      "source": [
        "Die Homologie ist ein mathematischer Ansatz, die Existenz von Löchern zu formalisieren. Gewisse „sehr feine“ Löcher sind für die Homologie unsichtbar; hier kann u. U. auf die schwerer zu bestimmenden Homotopiegruppen zurückgegriffen werden.\n",
        "\n"
      ]
    },
    {
      "cell_type": "markdown",
      "metadata": {
        "id": "PaYQ7cJLhJof",
        "colab_type": "text"
      },
      "source": [
        "https://de.m.wikipedia.org/wiki/Homologietheorie"
      ]
    },
    {
      "cell_type": "markdown",
      "metadata": {
        "id": "MQ3ADqvthpaV",
        "colab_type": "text"
      },
      "source": [
        "### **Triangulierung**"
      ]
    },
    {
      "cell_type": "markdown",
      "metadata": {
        "id": "WDOdJHG9hr5d",
        "colab_type": "text"
      },
      "source": [
        "https://de.m.wikipedia.org/wiki/Triangulierung_(Topologie)"
      ]
    },
    {
      "cell_type": "markdown",
      "metadata": {
        "id": "AdsrX5Lj4Kw5",
        "colab_type": "text"
      },
      "source": [
        "## **Classification of Topological Spaces**"
      ]
    },
    {
      "cell_type": "markdown",
      "metadata": {
        "id": "4LhMBjBx3qVx",
        "colab_type": "text"
      },
      "source": [
        "https://en.m.wikipedia.org/wiki/History_of_the_separation_axioms"
      ]
    },
    {
      "cell_type": "markdown",
      "metadata": {
        "id": "kGv_TVQthAjL",
        "colab_type": "text"
      },
      "source": [
        "#### **Kolmogorov Space (T<sub>0</sub>)**"
      ]
    },
    {
      "cell_type": "markdown",
      "metadata": {
        "id": "McKfZ6oJnbpU",
        "colab_type": "text"
      },
      "source": [
        "A space is Kolmogorov if for every pair of distinct points x and y in the space, there is at least either an open set containing x but not y, or an open set containing y but not x."
      ]
    },
    {
      "cell_type": "markdown",
      "metadata": {
        "id": "R-mimalAnryI",
        "colab_type": "text"
      },
      "source": [
        "If for every pair of distinct points of X, at least one of them has a neighborhood not containing the other. In a T0 space, all points are topologically distinguishable."
      ]
    },
    {
      "cell_type": "markdown",
      "metadata": {
        "id": "sBBzKFuxngTK",
        "colab_type": "text"
      },
      "source": [
        "https://en.m.wikipedia.org/wiki/Kolmogorov_space"
      ]
    },
    {
      "cell_type": "markdown",
      "metadata": {
        "id": "21sEOgvQhC3D",
        "colab_type": "text"
      },
      "source": [
        "#### **Fréchet Space (T<sub>1</sub>)**"
      ]
    },
    {
      "cell_type": "markdown",
      "metadata": {
        "id": "Q-cIk28nlLjD",
        "colab_type": "text"
      },
      "source": [
        "Fréchet spaces are generalizations of Banach spaces (normed vector spaces that are complete with respect to the metric induced by the norm)."
      ]
    },
    {
      "cell_type": "markdown",
      "metadata": {
        "id": "ojYxWlJlk9_S",
        "colab_type": "text"
      },
      "source": [
        "https://en.m.wikipedia.org/wiki/Fréchet_space"
      ]
    },
    {
      "cell_type": "markdown",
      "metadata": {
        "id": "ZLAxGRK2mIJ0",
        "colab_type": "text"
      },
      "source": [
        "Instead, with the topology of compact convergence, C(a, b) can be given the structure of a Fréchet space: a locally convex topological vector space whose topology can be induced by a complete translation-invariant metric."
      ]
    },
    {
      "cell_type": "markdown",
      "metadata": {
        "id": "_V_mqLlPmEqH",
        "colab_type": "text"
      },
      "source": [
        "https://en.m.wikipedia.org/wiki/Locally_convex_topological_vector_space"
      ]
    },
    {
      "cell_type": "markdown",
      "metadata": {
        "id": "NCZgQhlfexLB",
        "colab_type": "text"
      },
      "source": [
        "#### **Haussdorf Spaces (T<sub>2</sub>)**"
      ]
    },
    {
      "cell_type": "markdown",
      "metadata": {
        "id": "yYSQRA5ye-FK",
        "colab_type": "text"
      },
      "source": [
        "* A topological space is Hausdorff if and only if it is both preregular (i.e. topologically distinguishable points are separated by neighbourhoods) and Kolmogorov (i.e. distinct points are topologically distinguishable). A topological space is preregular if and only if its Kolmogorov quotient is Hausdorff.\n",
        "\n",
        "* Almost all spaces encountered in analysis are Hausdorff; most importantly, the real numbers (under the standard metric topology on real numbers) are a Hausdorff space. More generally, all metric spaces are Hausdorff. In fact, many spaces of use in analysis, such as topological groups and topological manifolds, have the Hausdorff condition explicitly stated in their definitions."
      ]
    },
    {
      "cell_type": "markdown",
      "metadata": {
        "id": "rF3JibKfNEUU",
        "colab_type": "text"
      },
      "source": [
        "https://en.m.wikipedia.org/wiki/Topological_vector_space"
      ]
    },
    {
      "cell_type": "markdown",
      "metadata": {
        "id": "THQQyoXwEDFm",
        "colab_type": "text"
      },
      "source": [
        "https://en.m.wikipedia.org/wiki/Hausdorff_space"
      ]
    },
    {
      "cell_type": "markdown",
      "metadata": {
        "id": "MBnjV7kSt_Kq",
        "colab_type": "text"
      },
      "source": [
        "## **Umgebung (Neighbourhood)**"
      ]
    },
    {
      "cell_type": "markdown",
      "metadata": {
        "id": "3ROc9W781Qef",
        "colab_type": "text"
      },
      "source": [
        "* a neighbourhood (or neighborhood) is one of the basic concepts in a topological space. It is closely related to the concepts of open set and interior. \n",
        "\n",
        "* Intuitively speaking, a neighbourhood of a point is a set of points containing that point where one can move some amount in any direction away from that point without leaving the set."
      ]
    },
    {
      "cell_type": "markdown",
      "metadata": {
        "id": "x2x-C0ZzuBcK",
        "colab_type": "text"
      },
      "source": [
        "https://de.m.wikipedia.org/wiki/Umgebung_(Mathematik)"
      ]
    },
    {
      "cell_type": "markdown",
      "metadata": {
        "id": "IdxkIxB1NIQV",
        "colab_type": "text"
      },
      "source": [
        "https://en.m.wikipedia.org/wiki/Functional_analysis"
      ]
    },
    {
      "cell_type": "markdown",
      "metadata": {
        "id": "JJccWn6RVMmD",
        "colab_type": "text"
      },
      "source": [
        "https://en.m.wikipedia.org/wiki/Geometric_measure_theory"
      ]
    }
  ]
}