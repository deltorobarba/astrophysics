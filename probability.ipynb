{
  "nbformat": 4,
  "nbformat_minor": 0,
  "metadata": {
    "colab": {
      "name": "probability.ipynb",
      "provenance": [],
      "collapsed_sections": [
        "IoZiS2oORjId",
        "4S4z_HeLRbtc",
        "YlBNcfp3Rz6H",
        "GJ5sfwleTp0G",
        "v_kxlSluThye",
        "mwavcTOWSgVC"
      ],
      "include_colab_link": true
    },
    "kernelspec": {
      "name": "python3",
      "display_name": "Python 3"
    }
  },
  "cells": [
    {
      "cell_type": "markdown",
      "metadata": {
        "id": "view-in-github",
        "colab_type": "text"
      },
      "source": [
        "<a href=\"https://colab.research.google.com/github/deltorobarba/machinelearning/blob/master/probability.ipynb\" target=\"_parent\"><img src=\"https://colab.research.google.com/assets/colab-badge.svg\" alt=\"Open In Colab\"/></a>"
      ]
    },
    {
      "cell_type": "markdown",
      "metadata": {
        "id": "2Aoj2PpxvDQV",
        "colab_type": "text"
      },
      "source": [
        "# **Probability Theory**"
      ]
    },
    {
      "cell_type": "code",
      "metadata": {
        "id": "1U5_6xH7tAQq",
        "colab_type": "code",
        "colab": {}
      },
      "source": [
        "import numpy as np\n",
        "import pandas as pd\n",
        "import seaborn as sns\n",
        "import matplotlib.pyplot as plt"
      ],
      "execution_count": null,
      "outputs": []
    },
    {
      "cell_type": "markdown",
      "metadata": {
        "id": "IoZiS2oORjId",
        "colab_type": "text"
      },
      "source": [
        "### **Measure-theoretic probability theory**"
      ]
    },
    {
      "cell_type": "markdown",
      "metadata": {
        "id": "IA-XQOB0Rk43",
        "colab_type": "text"
      },
      "source": [
        "* The raison d'être of the measure-theoretic treatment of probability is that it unifies the discrete and the continuous cases, and makes the difference a question of which measure is used. Furthermore, it covers distributions that are neither discrete nor continuous nor mixtures of the two.\n",
        "\n",
        "* Other distributions may not even be a mix, for example, the Cantor distribution has no positive probability for any single point, neither does it have a density. \n",
        "\n",
        "* The modern approach to probability theory solves these problems using measure theory to define the probability space:"
      ]
    },
    {
      "cell_type": "markdown",
      "metadata": {
        "id": "iTrQPBeNRoM_",
        "colab_type": "text"
      },
      "source": [
        "Given any set $\\Omega$ (also called sample space) and a $\\sigma$ -algebra $\\mathcal{F}$ on it, a measure $P$ defined on $\\mathcal{F}$ is\n",
        "called a probability measure if $P(\\Omega)=1$\n",
        "\n",
        "If $\\mathcal{F}$ is the Borel $\\sigma$ -algebra on the set of real numbers, then there is a unique probability measure on\n",
        "$\\mathcal{F}$ for any cdf, and vice versa. The measure corresponding to a cdf is said to be induced by the cdf.\n",
        "\n",
        "This measure coincides with the pmf for discrete variables and pdf for continuous variables, making the measure-theoretic approach free of fallacies.\n",
        "\n",
        "The probability of a set $E$ in the $\\sigma$ -algebra $\\mathcal{F}$ is defined as\n",
        "\n",
        "$P(E)=\\int_{\\omega \\in E} \\mu_{F}(d \\omega)$\n",
        "\n",
        "where the integration is with respect to the measure $\\mu_{F}$ induced by $F$"
      ]
    },
    {
      "cell_type": "markdown",
      "metadata": {
        "id": "q2zSbb9oRrPM",
        "colab_type": "text"
      },
      "source": [
        "Along with providing better understanding and unification of discrete and continuous probabilities, measure-theoretic treatment also allows us to work on probabilities outside R<sup>n</sup>, as in the theory of stochastic processes. For example, to study Brownian motion, probability is defined on a space of functions.\n",
        "\n",
        "When it's convenient to work with a dominating measure, the Radon-Nikodym theorem is used to define a density as the Radon-Nikodym derivative of the probability distribution of interest with respect to this dominating measure. \n",
        "\n",
        "* Discrete densities are usually defined as this derivative with respect to a counting measure over the set of all possible outcomes. \n",
        "\n",
        "* Densities for absolutely continuous distributions are usually defined as this derivative with respect to the Lebesgue measure. \n",
        "\n",
        "* If a theorem can be proved in this general setting, it holds for both discrete and continuous distributions as well as others; separate proofs are not required for discrete and continuous distributions."
      ]
    },
    {
      "cell_type": "markdown",
      "metadata": {
        "id": "NtTcW7mPRxh0",
        "colab_type": "text"
      },
      "source": [
        "https://en.m.wikipedia.org/wiki/Probability_theory"
      ]
    },
    {
      "cell_type": "markdown",
      "metadata": {
        "id": "4S4z_HeLRbtc",
        "colab_type": "text"
      },
      "source": [
        "### **Filtrations**"
      ]
    },
    {
      "cell_type": "markdown",
      "metadata": {
        "id": "twdKxs43TtLO",
        "colab_type": "text"
      },
      "source": [
        "* In martingale theory and the theory of stochastic processes, a **filtration is an increasing sequence of σ-algebras on a measurable space**.\n",
        "\n",
        "* That is, given a measurable space $(\\Omega, \\mathcal{F}),$ a filtration is a sequence of $\\sigma$ -algebras $\\left\\{\\mathcal{F}_{t}\\right\\}_{t \\geq 0}$ with $\\mathcal{F}_{t} \\subseteq \\mathcal{F}$ where each $t$ is a non-negative real number and \n",
        "\n",
        "> $t_{1} \\leq t_{2} \\Longrightarrow \\mathcal{F}_{t_{1}} \\subseteq \\mathcal{F}_{t_{2}}$\n",
        "\n",
        "* The exact range of the \"times\" $t$ will usually depend on context: the set of values for $t$ might be discrete or continuous, bounded or unbounded. For example,\n",
        "\n",
        "> $t \\in\\{0,1, \\ldots, N\\}, \\mathbb{N}_{0},[0, T]$ or $[0,+\\infty)$\n",
        "\n",
        "* **A σ-algebra defines the set of events that can be measured, which in a probability context is equivalent to events that can be discriminated, or \"questions that can be answered at time t\".** \n",
        "\n",
        "* **Therefore, a filtration is often used to represent the change in the set of events that can be measured, through gain or loss of information**. \n",
        "\n",
        "* A typical example is in mathematical finance, where a filtration represents the information available up to and including each time t, and is more and more precise (the set of measurable events is staying the same or increasing) as more information from the evolution of the stock price becomes available."
      ]
    },
    {
      "cell_type": "markdown",
      "metadata": {
        "id": "HHZ_qSHtTttI",
        "colab_type": "text"
      },
      "source": [
        "A Filtration is a growing sequence of sigma algebras\n",
        "\n",
        "> $\\mathcal{F}_{1} \\subseteq \\mathcal{F}_{2} \\ldots \\subseteq \\mathcal{F}_{n}$"
      ]
    },
    {
      "cell_type": "markdown",
      "metadata": {
        "id": "ydUyoWHMTxuH",
        "colab_type": "text"
      },
      "source": [
        "When talking of martingales we need to talk of conditional expectations, and in particular conditional expectations w.r.t σ algebra's. So whenever we write\n",
        "\n",
        "> $E\\left[Y_{n} \\mid X_{1}, X_{2}, \\ldots, X_{n}\\right]$\n",
        "\n",
        "which can be written as\n",
        "\n",
        "> $E\\left[Y_{n+1} \\mid \\mathcal{F}_{n}\\right]$\n",
        "\n",
        "where F𝑛 is a sigma algebra that makes random variables\n",
        "\n",
        "> $X_{1}, \\ldots, X_{n}$\n",
        "\n",
        "measurable. Finally a flitration F1,…Fn is simply an increasing sequence of sigma algebras. That is **we are conditioning on growing amounts of information**."
      ]
    },
    {
      "cell_type": "markdown",
      "metadata": {
        "id": "PBSsj3NATji0",
        "colab_type": "text"
      },
      "source": [
        "* Der Begriff der Filtrierung ist unerlässlich, um, ausgehend vom Begriff des stochastischen Prozesses,\n",
        "wichtige Begriffe wie Martingale oder Stoppzeiten einzuführen.\n",
        "\n",
        "* Als Menge $T$ wird wie bei stochastischen Prozessen meist $\\mathbb{R}_{+}$ oder $\\mathbb{N}_{0}$ gewählt und $t \\in T$ als Zeitpunkt interpretiert.\n",
        "\n",
        "* **$\\sigma$ -Algebren modellieren verfügbare Information**. Die Mengen der $\\sigma$ -Algebra $\\mathcal{F}_{t}$ geben zu jedem Zeitpunkt $t$ an, wie viele Informationen zur Zeit bekannt sind. Für jedes Ereignis $A \\subseteq \\Omega$ bedeutet $A \\in \\mathcal{F}_{t}$ übersetzt, dass zum Zeitpunkt $t$ die Frage $,$ ist $\\omega \\in A ?^{\\prime \\prime}$ eindeutig mit $,$ ja\" oder $,$ nein\" beantwortet werden kann. \n",
        "\n",
        "* Dass die Filtrierung stets aufsteigend geordnet ist, bedeutet demnach, **dass eine einmal erlangte Information nicht mehr verloren geht.**\n",
        "\n",
        "* Ist ein stochastischer Prozess $\\left(X_{t}\\right)_{t \\in T}$ an eine Filtrierung $\\left(\\mathcal{F}_{t}\\right)_{t \\in T}$ adaptiert, bedeutet dies also, dass der Verlauf der Funktion $s \\mapsto X_{s}(\\omega)$ im Intervall $[0, t]$ zum Zeitpunkt $t$ (für beliebiges, aber unbekanntes $\\omega \\in \\Omega$ und in Hinsicht auf die durch Ereignisse $A \\in \\mathcal{F}_{s}, s \\in[0, t]$ formulierbaren Fragen bekannt ist.\n",
        "\n",
        "* Der Begriff wird aufgrund seiner Bedeutung in den meisten fortgeschrittenen Lehrbüchern über stochastische Prozesse definiert. In einigen Lehrbüchern, zum Beispiel im Buch Probability von Albert N. Schirjajew, wird der Begriff aus didaktischen Gründen zunächst umfassend für Prozesse mit diskreten\n",
        "Werten in diskreter Zeit eingeführt."
      ]
    },
    {
      "cell_type": "markdown",
      "metadata": {
        "id": "j1jbiHbhTmjI",
        "colab_type": "text"
      },
      "source": [
        "https://de.m.wikipedia.org/wiki/Filtrierung_(Wahrscheinlichkeitstheorie)"
      ]
    },
    {
      "cell_type": "markdown",
      "metadata": {
        "id": "5KPYnylSIyek",
        "colab_type": "text"
      },
      "source": [
        "**Filtration in Finance**"
      ]
    },
    {
      "cell_type": "markdown",
      "metadata": {
        "id": "kWRt0ouzRfq3",
        "colab_type": "text"
      },
      "source": [
        "* In a multiperiod market, information about the market scenario is revealed in stages. \n",
        "\n",
        "* Some events may be completely determined by the end of the first trading period, others by the end of the second, and others not until the termination of all trading. \n",
        "\n",
        "* This suggests the following classification of events: for each t ≤ T ,\n",
        "\n",
        "(1) Ft = {all events determined in the first t trading periods}.\n",
        "\n",
        "* The finite sequence (Ft)0≤t≤T is a filtration of the space Ω of market scenarios. \n",
        "\n",
        "* In general, a filtration of a set Ω (not necessarily finite) is defined to be a collection Ft, indexed by a time parameter t (time may be either discrete or continuous), such that\n",
        "\n",
        "(a) each Ft is a σ−algebra of subsets (events) of Ω; and \n",
        "\n",
        "(b) if s<t then Fs ⊆Ft."
      ]
    },
    {
      "cell_type": "markdown",
      "metadata": {
        "id": "MuA_GsRdTpdF",
        "colab_type": "text"
      },
      "source": [
        "**Beispiel**\n",
        "\n",
        "* Betrachtet man als Beispiel einen Wahrscheinlichkeitsraum $(\\mathbb{Z}, \\mathcal{P}(\\mathbb{Z}), P)$ mit abzählbarer Grundmenge $\\mathbb{Z}$ die standardmäßig mit der Potenzmenge als $\\sigma$ -Algebra ausgestattet ist, so wäre eine mögliche Filtrierung beispielsweise\n",
        "\n",
        "> $\\mathcal{F}_{n}:=\\sigma(\\mathcal{P}(\\{-n, \\ldots, n\\}))$\n",
        "\n",
        "* Sie modelliert die Informationen, dass man bis zum n-ten Zeitschritt sich bis zu n Schritte vom Ursprung entfernt hat und wäre beispielsweise die passende Filtrierung für einen einfachen symmetrischen Random\n",
        "Walk."
      ]
    },
    {
      "cell_type": "markdown",
      "metadata": {
        "id": "Dakkth8kTba4",
        "colab_type": "text"
      },
      "source": [
        "**Filtration and Stochastic Processes**"
      ]
    },
    {
      "cell_type": "markdown",
      "metadata": {
        "id": "8f7--tqiTdyL",
        "colab_type": "text"
      },
      "source": [
        "https://almostsure.wordpress.com/2009/11/08/filtrations-and-adapted-processes/"
      ]
    },
    {
      "cell_type": "markdown",
      "metadata": {
        "id": "cUaeKRFSTfWJ",
        "colab_type": "text"
      },
      "source": [
        "* In mathematics, a filtration $\\mathcal{F}$ is an indexed family $\\left(S_{i}\\right)_{i \\in I}$ of subobjects of a given algebraic structure $S,$ with the index $i$ running over some totally ordered index set $I$, subject to the condition\n",
        "that\n",
        "\n",
        "> if $i \\leq j$ in $I,$ then $S_{i} \\subset S_{j}$\n",
        "\n",
        "* If the index i is the time parameter of some stochastic process, then the filtration can be interpreted as **representing all historical but not future information available about the stochastic process**, with the algebraic structure S<sub>i</sub> gaining in complexity with time. \n",
        "\n",
        "* Hence, a process that is adapted to a filtration F, is also called **non-anticipating**, i.e. one that cannot see into the future.\n",
        "\n",
        "* Eine Filtrierung (auch Filtration, Filterung oder Filtern) ist in der Theorie der stochastischen Prozesse eine Familie von verschachtelten σ-Algebren. Sie modelliert die zu verschiedenen Zeitpunkten verfügbaren Informationen zum Verlauf eines Zufallsprozesses."
      ]
    },
    {
      "cell_type": "markdown",
      "metadata": {
        "id": "aItl9UHSTMPk",
        "colab_type": "text"
      },
      "source": [
        "https://de.m.wikipedia.org/wiki/Filtrierung_(Wahrscheinlichkeitstheorie)"
      ]
    },
    {
      "cell_type": "markdown",
      "metadata": {
        "id": "YlBNcfp3Rz6H",
        "colab_type": "text"
      },
      "source": [
        "### **Adapted Process**"
      ]
    },
    {
      "cell_type": "markdown",
      "metadata": {
        "id": "PDPqovDyR3ll",
        "colab_type": "text"
      },
      "source": [
        "* for exmaple in Finance\n",
        "\n",
        "* The share prices of assets in a multiperiod market depend on market scenarios, but evolve in such a way that their values at any time t, being observable at time t, do not depend on the unobservable post-t futures of the scenarios. \n",
        "\n",
        "* Thus, the price process St of a traded asset is **adapted to the natural filtration** (Ft)0≤t≤T defined by (1). \n",
        "\n",
        "* In general, a sequence Xt of random variables is said to be **adapted to a filtration** (Ft)0≤t≤T if, for each t, the random variable Xt is **Ft−measurable**, that is, if all events of the form {ω : Xt(ω) ∈ B}, where **B is a Borel** subset of the real numbers R, are members of the σ−algebra Ft."
      ]
    },
    {
      "cell_type": "markdown",
      "metadata": {
        "id": "GJ5sfwleTp0G",
        "colab_type": "text"
      },
      "source": [
        "### **Martingales**"
      ]
    },
    {
      "cell_type": "markdown",
      "metadata": {
        "id": "xJFV1b0SVIDD",
        "colab_type": "text"
      },
      "source": [
        "Let (Ω,F,P) be a probability space and (Ft)0≤t≤T or (Ft)0≤t<∞ a filtration by sub- σ−algebras of F. An adapted sequence Xt of integrable random variables is defined to be a\n",
        "\n",
        "* martingale if E(Xt+1|Ft) = Xt ∀t (=for all t).\n",
        "* submartingale if E(Xt+1|Ft) ≥ Xt ∀t.\n",
        "* supermartingale if E(Xt+1|Ft) ≤ Xt ∀t."
      ]
    },
    {
      "cell_type": "markdown",
      "metadata": {
        "id": "6r27yD1jVKcH",
        "colab_type": "text"
      },
      "source": [
        "A measure space is a triple $\\langle X, \\mathcal{F}, \\mu\\rangle$ where $\\langle X, \\mathcal{F}\\rangle$ is a measurable space and $\\mu$ is a measure defined on it. If $\\mu$ is in fact a probability measure we speak of a probability space and call its\n",
        "underlying measurable space a sample space. The points of a sample space are called samples\n",
        "and represent potential outcomes while the measurable sets (complexes) are called events and\n",
        "represent properties of outcomes for which we wish to assign probabilities. (Many use the term\n",
        "sample space simply for the underlying set of a probability space, particularly in the case where\n",
        "every subset is an event.) Measure spaces and probability spaces play a foundational role in\n",
        "measure theory and probability theory respectively."
      ]
    },
    {
      "cell_type": "markdown",
      "metadata": {
        "id": "v_kxlSluThye",
        "colab_type": "text"
      },
      "source": [
        "### **Stopping Time**"
      ]
    },
    {
      "cell_type": "markdown",
      "metadata": {
        "id": "XTlfEwihSoCY",
        "colab_type": "text"
      },
      "source": [
        "**Optional Stopping Theorem**"
      ]
    },
    {
      "cell_type": "markdown",
      "metadata": {
        "id": "KkWnh7gmSp_P",
        "colab_type": "text"
      },
      "source": [
        "* Das Optional Stopping Theorem ist ein mathematischer Satz über Martingale, eine spezielle Klasse von stochastischen Prozessen, und damit der Wahrscheinlichkeitstheorie zuzuordnen."
      ]
    },
    {
      "cell_type": "markdown",
      "metadata": {
        "id": "ACEdUaw8SsLa",
        "colab_type": "text"
      },
      "source": [
        "https://de.m.wikipedia.org/wiki/Optional_Stopping_Theorem"
      ]
    },
    {
      "cell_type": "markdown",
      "metadata": {
        "id": "Wt61hl-eStyZ",
        "colab_type": "text"
      },
      "source": [
        "**Optional Sampling Theorem**"
      ]
    },
    {
      "cell_type": "markdown",
      "metadata": {
        "id": "90UhOSzKSvwX",
        "colab_type": "text"
      },
      "source": [
        "* Eine populäre Version dieses Theorems besagt, dass es bei einem fairen, sich wiederholenden Spiel keine Abbruchstrategie gibt, mit der man seinen Gesamtgewinn verbessern kann."
      ]
    },
    {
      "cell_type": "markdown",
      "metadata": {
        "id": "KATpf77vSzZC",
        "colab_type": "text"
      },
      "source": [
        "https://de.m.wikipedia.org/wiki/Optional_Sampling_Theorem"
      ]
    },
    {
      "cell_type": "markdown",
      "metadata": {
        "id": "VB0x_AXTS1Hv",
        "colab_type": "text"
      },
      "source": [
        "**Starke Markoweigenschaft**"
      ]
    },
    {
      "cell_type": "markdown",
      "metadata": {
        "id": "lILdY--jS2-Q",
        "colab_type": "text"
      },
      "source": [
        "https://de.m.wikipedia.org/wiki/Starke_Markoweigenschaft"
      ]
    },
    {
      "cell_type": "markdown",
      "metadata": {
        "id": "UdtBxMWdTBtK",
        "colab_type": "text"
      },
      "source": [
        "**Stoppzeit (Markov Moment)**"
      ]
    },
    {
      "cell_type": "markdown",
      "metadata": {
        "id": "71iQf0RdTDNJ",
        "colab_type": "text"
      },
      "source": [
        "* In der Stochastik bezeichnet der Begriff der Stoppzeit eine spezielle Art von Zufallsvariablen, die auf filtrierten Wahrscheinlichkeitsräumen definiert werden. \n",
        "\n",
        "* Stoppzeiten sind nicht nur von Bedeutung für die Theorie der stochastischen Prozesse (beispielsweise bei der Lokalisierung von Prozessklassen oder Untersuchungen von gestoppten Prozessen), sondern auch von praktischer Relevanz, etwa für das Problem des optimalen Ausübungszeitpunkts für amerikanische Optionen.\n",
        "\n",
        "* Eine Stoppzeit kann man als die Wartezeit interpretieren, die vergeht, bis ein bestimmtes zufälliges Ereignis eintritt. Wenn wie üblich die Filtrierung die vorhandene Information zu verschiedenen Zeitpunkten angibt, bedeutet die obige Bedingung also, dass zu jeder Zeit bekannt sein soll, ob dieses Ereignis bereits eingetreten ist oder nicht.\n",
        "\n"
      ]
    },
    {
      "cell_type": "markdown",
      "metadata": {
        "id": "y9XXp_tQTFfW",
        "colab_type": "text"
      },
      "source": [
        "https://de.m.wikipedia.org/wiki/Stoppzeit"
      ]
    },
    {
      "cell_type": "markdown",
      "metadata": {
        "id": "m9N4JsisTHOz",
        "colab_type": "text"
      },
      "source": [
        "**Filtrierung von Stoppzeiten**"
      ]
    },
    {
      "cell_type": "markdown",
      "metadata": {
        "id": "X0VXIdxXTI94",
        "colab_type": "text"
      },
      "source": [
        "* Eine Stoppzeit $\\tau: \\Omega \\rightarrow[0, \\infty]$ bezüglich einer beliebigen Filtrierung $\\left(\\mathcal{F}_{t}\\right)_{t \\in[0, \\infty)}$ erzeugt in Analogie zur natürlichen Filtrierung eine $\\sigma$ -Algebra, die sogenannte $\\sigma$ -Algebra der $\\tau$ -Vergangenheit\n",
        "\n",
        "$\\mathcal{F}_{\\tau}:=\\left\\{A \\in \\mathcal{F}_{\\infty} \\mid \\forall t \\in[0, \\infty): A \\cap\\{\\tau \\leq t\\} \\in \\mathcal{F}_{t}\\right\\} \\text { mit } \\mathcal{F}_{\\infty}=\\sigma\\left(\\bigcup_{t \\in[0, \\infty)} \\mathcal{F}_{t}\\right)$\n",
        "\n",
        "* Sei nun $\\left(\\tau_{j}\\right)_{j \\in J}$ eine geordnete Familie von Stoppzeiten mit $P\\left(\\tau_{i} \\leq \\tau_{j}\\right)=1$ für alle $i, j \\in J$ mit $i \\leq j$ dann ist die Familie $\\left(\\mathcal{F}_{\\tau_{j}}\\right)_{j \\in J}$ eine Filtrierung, diese ist beim Studium von Stoppzeiten stochastischer Prozesse von Bedeutung. \n",
        "\n",
        "* In Analogie erzeugt man die rechtsstetige Version der Filtrierung $\\left(\\mathcal{F}_{\\tau_{j}+}\\right)_{j \\in J}$ wobei:\n",
        "\n",
        "$\\mathcal{F}_{r+}:=\\left\\{A \\in \\mathcal{F}_{\\infty} \\mid \\forall t \\in[0, \\infty): A \\cap\\{\\tau \\leq t\\} \\in \\mathcal{F}_{t+}\\right\\} \\text { und } \\mathcal{F}_{t+}=\\bigcap_{u \\in(t, \\infty)} \\mathcal{F}_{u}$\n",
        "\n",
        "* Es gilt immer $\\mathcal{F}_{\\tau} \\subseteq \\mathcal{F}_{r+}$"
      ]
    },
    {
      "cell_type": "markdown",
      "metadata": {
        "id": "NzXTTVxeTOIU",
        "colab_type": "text"
      },
      "source": [
        "**Vorhersagbarer Prozess**"
      ]
    },
    {
      "cell_type": "markdown",
      "metadata": {
        "id": "RLO880D6TPsQ",
        "colab_type": "text"
      },
      "source": [
        "https://de.m.wikipedia.org/wiki/Vorhersagbarer_Prozess"
      ]
    },
    {
      "cell_type": "markdown",
      "metadata": {
        "id": "mwavcTOWSgVC",
        "colab_type": "text"
      },
      "source": [
        "### **σ-Algebra der τ-Vergangenheit**"
      ]
    },
    {
      "cell_type": "markdown",
      "metadata": {
        "id": "yhsdp5wBSiAq",
        "colab_type": "text"
      },
      "source": [
        "* Die σ-Algebra der τ-Vergangenheit ist ein **Mengensystem**, sowie ein von der Stoppzeit abgeleitetes Konzept\n",
        "\n",
        "* Die σ-Algebra der τ-Vergangenheit ist eine **spezielle σ-Algebra**, welche über die Filtrierung und die Stoppzeit definiert wird. Sie findet beispielsweise Anwendung bei der Definition der starken Markow-Eigenschaft und dem Optional Sampling Theorem.\n",
        "\n",
        "* Sie entsteht durch Kombination einer Filtrierung mit einer Stoppzeit und findet meist Anwendung bei Aussagen über gestoppte Prozesse, also stochastische Prozesse, die an einem zufälligen Zeitpunkt angehalten werden. Zu diesen Aussagen gehören beispielsweise das Optional Stopping Theorem, das Optional Sampling Theorem und die Definition der starken Markow-Eigenschaft.\n",
        "\n",
        "* Gegeben sei ein Wahrscheinlichkeitsraum $(\\Omega, \\mathcal{A}, P)$ sowie eine Filtrierung $\\mathbb{F}=\\left(\\mathcal{F}_{t}\\right)_{t \\in T}$ bezüglich der Ober- $\\sigma$ -Algebra $\\mathcal{A}$ und eine Stoppzeit $\\tau$ bezüglich $\\mathbb{F}$. Dann heißt\n",
        "\n",
        "$\\mathcal{F}_{\\tau}=\\left\\{A \\in \\mathcal{A} \\mid A \\cap\\{\\tau \\leq t\\} \\in \\mathcal{F}_{t} \\text { für alle } t \\in T\\right\\}$\n",
        "\n",
        "die $\\sigma$ -Algebra der $\\tau$ -Vergangenheit."
      ]
    },
    {
      "cell_type": "markdown",
      "metadata": {
        "id": "XrJVzH6bSlVG",
        "colab_type": "text"
      },
      "source": [
        "https://de.m.wikipedia.org/wiki/Σ-Algebra_der_τ-Vergangenheit"
      ]
    }
  ]
}