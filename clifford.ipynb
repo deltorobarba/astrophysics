{
  "nbformat": 4,
  "nbformat_minor": 0,
  "metadata": {
    "colab": {
      "name": "clifford.ipynb",
      "provenance": [],
      "collapsed_sections": [
        "gtVpGRmXmxsQ",
        "dZyrqX-lP12B",
        "AIhq8iBP5D8V",
        "QKJK7bVyI0Pz",
        "xkz1uowKnGCb",
        "nluztZWq5CBv",
        "GwjNETnA39Kz",
        "QUeIvb7v-hux",
        "hx-KlCGO3UWc",
        "ORbicTFB7W9Y",
        "l89mwai7941T",
        "PBDuUwqs41hD",
        "u9A2pEhQm3dM",
        "aG1uYW0Y3PLI"
      ],
      "include_colab_link": true
    },
    "kernelspec": {
      "name": "python3",
      "display_name": "Python 3"
    }
  },
  "cells": [
    {
      "cell_type": "markdown",
      "metadata": {
        "id": "view-in-github",
        "colab_type": "text"
      },
      "source": [
        "<a href=\"https://colab.research.google.com/github/deltorobarba/machinelearning/blob/master/clifford.ipynb\" target=\"_parent\"><img src=\"https://colab.research.google.com/assets/colab-badge.svg\" alt=\"Open In Colab\"/></a>"
      ]
    },
    {
      "cell_type": "markdown",
      "metadata": {
        "id": "HjNmcYpFuFTY"
      },
      "source": [
        "# **Geometric Algebra (Clifford & Grassmann Algebra)**"
      ]
    },
    {
      "cell_type": "code",
      "metadata": {
        "id": "RYViK39mt7Nj",
        "colab": {
          "base_uri": "https://localhost:8080/",
          "height": 35
        },
        "outputId": "0168c965-db78-461b-ba19-50df85a9e604"
      },
      "source": [
        "import numpy as np\n",
        "import pandas as pd\n",
        "import seaborn as sns\n",
        "import matplotlib.pyplot as plt"
      ],
      "execution_count": null,
      "outputs": [
        {
          "output_type": "stream",
          "text": [
            "2.2.0\n"
          ],
          "name": "stdout"
        }
      ]
    },
    {
      "cell_type": "markdown",
      "metadata": {
        "id": "gtVpGRmXmxsQ"
      },
      "source": [
        "#### **Outer Product, Exterior Product & Tensor Product**"
      ]
    },
    {
      "cell_type": "markdown",
      "metadata": {
        "id": "6b4tnCyKqA5B"
      },
      "source": [
        "https://math.stackexchange.com/questions/182024/relation-between-interior-product-inner-product-exterior-product-outer-produc"
      ]
    },
    {
      "cell_type": "markdown",
      "metadata": {
        "id": "dZyrqX-lP12B"
      },
      "source": [
        "###### **Inner Product vs Interior Product vs Outer Product (u $\\otimes$ v)**"
      ]
    },
    {
      "cell_type": "markdown",
      "metadata": {
        "id": "Jx8aDP7MrOP1"
      },
      "source": [
        "**inner product of vectors and the interior product**"
      ]
    },
    {
      "cell_type": "markdown",
      "metadata": {
        "id": "0NsTtzscrySV"
      },
      "source": [
        "* The relation between the inner product of vectors and the interior product is that **if you have a metric tensor (and thus a canonical relation between vectors and covectors $=1$ -forms), the inner product of two vectors is the interior product of one of the vectors and the 1 -form associated with the other one.**\n",
        "\n",
        "  * Vector 1, Covector 1, Vector 2, Covector 2:\n",
        "\n",
        "  * Inner Product of Vector 1 & Vector 2 = Interior Product of Vector 1 & Covector 2 (??)\n",
        "\n",
        "* That is, if $g$ is the metric tensor, then the inner product of the vectors $v$ and $w$ is $g(v, w)$, and the 1-form $\\omega$ associated with $v$ is defined by $\\omega(w)=g(v, w)$. Then it is obvious that $l_{w}(\\omega)=\\omega(w)=g(v, w)$"
      ]
    },
    {
      "cell_type": "markdown",
      "metadata": {
        "id": "RJwii7nXsGBy"
      },
      "source": [
        "[Source](https://math.stackexchange.com/questions/182024/relation-between-interior-product-inner-product-exterior-product-outer-produc)"
      ]
    },
    {
      "cell_type": "markdown",
      "metadata": {
        "id": "imopcD03rPSa"
      },
      "source": [
        "**Inner Product vs Outer Product (u  ⊗  v)**"
      ]
    },
    {
      "cell_type": "markdown",
      "metadata": {
        "id": "GT1VrPV6r3xc"
      },
      "source": [
        "* The outer product is, as noted in answer to the other question you referred to, related to the tensor product. Indeed, if we associate row vectors with 1 -forms and column vectors with vectors, then we can write (using Einstein summation convention) the outer product of the vector $w=w^{i} e_{i}$ and the 1 -form $\\omega=\\omega_{i} e^{i}$ as the $(1,1)$ tensor $M=w^{i} \\omega_{j} e_{i} \\otimes e^{j}$ which describes an object that maps vectors to vectors. \n",
        "\n",
        "* Its relation to the inner product is that you get the inner product of $w$ and $\\omega$ by contracting the two indices of $M$ (which in the language of matrices corresponds to the trace of $M$ )."
      ]
    },
    {
      "cell_type": "markdown",
      "metadata": {
        "id": "ZgmTZ_OrsIIf"
      },
      "source": [
        "[Source](https://math.stackexchange.com/questions/182024/relation-between-interior-product-inner-product-exterior-product-outer-produc)"
      ]
    },
    {
      "cell_type": "markdown",
      "metadata": {
        "id": "Tveo3ybRR8i0"
      },
      "source": [
        "The outer product u ⊗ v is equivalent to a matrix multiplication $uv^T$"
      ]
    },
    {
      "cell_type": "markdown",
      "metadata": {
        "id": "RCLUxq9pSDRg"
      },
      "source": [
        "https://en.m.wikipedia.org/wiki/Outer_product"
      ]
    },
    {
      "cell_type": "markdown",
      "metadata": {
        "id": "GOwqpVmNRPKM"
      },
      "source": [
        "youtube: https://m.youtube.com/watch?v=FCmH4MqbFGs"
      ]
    },
    {
      "cell_type": "markdown",
      "metadata": {
        "id": "LQ6OJIhVP_sM"
      },
      "source": [
        "> inner product: $u^T v$ -> Scalar (in quantum: Bra-Ket)\n",
        "\n",
        "> outer product: $u v^T$ -> Matrix (in quantum: Ket-Bra)"
      ]
    },
    {
      "cell_type": "markdown",
      "metadata": {
        "id": "PDyZvUpDQkQV"
      },
      "source": [
        "![ggg](https://raw.githubusercontent.com/deltorobarba/repo/master/tensor_386.png)"
      ]
    },
    {
      "cell_type": "markdown",
      "metadata": {
        "id": "8PRVd-pUQhqt"
      },
      "source": [
        "![ggg](https://raw.githubusercontent.com/deltorobarba/repo/master/tensor_385.png)"
      ]
    },
    {
      "cell_type": "markdown",
      "metadata": {
        "id": "OAJ0fRLnbSWR"
      },
      "source": [
        "Looking at them, one has to wonder how the outer product of two vectors became not another vector but rather a linear transformation. Here’s what’s going on. From a calculation perspective, our the outer product illustrated above produces a linear transformation  ℝ3→ℝ2, which we could fully describe by ...\n",
        "\n",
        "https://www.quora.com/Is-the-wedge-product-the-same-thing-as-the-general-outer-product-If-not-why-is-the-wedge-symbol-used-for-both"
      ]
    },
    {
      "cell_type": "markdown",
      "metadata": {
        "id": "AIhq8iBP5D8V"
      },
      "source": [
        "###### **Exterior product (wedge product u $\\wedge$ v) vs Cross Product**"
      ]
    },
    {
      "cell_type": "markdown",
      "metadata": {
        "id": "MCZDZan0RSsy"
      },
      "source": [
        "https://towardsdatascience.com/exterior-product-ecd5836c28ab"
      ]
    },
    {
      "cell_type": "markdown",
      "metadata": {
        "id": "IgGpzsgZ5J0A"
      },
      "source": [
        "* the exterior product or wedge product of vectors is an algebraic construction used in geometry to study areas, volumes, and their higher-dimensional analogues. \n",
        "\n",
        "* The exterior product of two vectors $u$ and $v$, denoted by $u\\wedge v$, is called a bivector and lives in a space called the exterior square, a vector space that is distinct from the original space of vectors."
      ]
    },
    {
      "cell_type": "markdown",
      "metadata": {
        "id": "fsaM6bYpckyU"
      },
      "source": [
        "The exterior product, commonly called the wedge product, acts on tangent vectors and is an important operation in differential geometry that generalizes the cross product of 3-vectors. "
      ]
    },
    {
      "cell_type": "markdown",
      "metadata": {
        "id": "F_7Wq5yAcmt6"
      },
      "source": [
        "https://www.sciencedirect.com/topics/mathematics/exterior-product"
      ]
    },
    {
      "cell_type": "markdown",
      "metadata": {
        "id": "RPW7TmHSqu9k"
      },
      "source": [
        "The **exterior product** is related to the tensor product in that the exterior product of two forms (a form is a skew-symmetric tensor of type (0,𝑝)) is just the antisymmetrization of the tensor product.\n",
        "\n",
        "The **cross product** is a speciality of the three-dimensional space; here the space of 2-forms has the same dimension as the space of 1-forms; indeed, given a metric, the hodge star maps between them. Since the metric also allows to associate vectors and 1-forms, you can define the cross product of v and 𝑤 by the following procedure: Determine the 1-forms corresponding to 𝑣 and 𝑤, calculate their exterior product (which is a 2-form), apply the Hodge star to the result (which, given that we are in three dimensions, again results in a 1-form), and finally determine the vector corresponding to that 1-form.\n",
        "\n",
        "https://math.stackexchange.com/questions/182024/relation-between-interior-product-inner-product-exterior-product-outer-produc"
      ]
    },
    {
      "cell_type": "markdown",
      "metadata": {
        "id": "QKJK7bVyI0Pz"
      },
      "source": [
        "###### **Tensor Product $\\otimes$**"
      ]
    },
    {
      "cell_type": "markdown",
      "metadata": {
        "id": "l-E_WJv_3Tis"
      },
      "source": [
        "* The outer product of tensors is also referred to as their [tensor product](https://en.m.wikipedia.org/wiki/Tensor_product), and can be used to define the tensor algebra.  https://en.m.wikipedia.org/wiki/Outer_product\n",
        "\n",
        "> The tensor product can be considered as a generalization and abstraction of the outer product. https://en.m.wikipedia.org/wiki/Tensor_product\n",
        "\n",
        "* a collection of tensor products attached to another space is called a [tensor bundle](https://en.m.wikipedia.org/wiki/Tensor_field)"
      ]
    },
    {
      "cell_type": "markdown",
      "metadata": {
        "id": "mQea5wnB8q8t"
      },
      "source": [
        "Siehe auch: https://www.math3ma.com/blog/the-tensor-product-demystified"
      ]
    },
    {
      "cell_type": "markdown",
      "metadata": {
        "id": "xkz1uowKnGCb"
      },
      "source": [
        "#### **Exterior Algebra, Multivectors & Multilinear Algebra**"
      ]
    },
    {
      "cell_type": "markdown",
      "metadata": {
        "id": "nluztZWq5CBv"
      },
      "source": [
        "###### **Exterior Algebra (Grassman Algebra)**"
      ]
    },
    {
      "cell_type": "markdown",
      "metadata": {
        "id": "1ZTkDLni4-bN"
      },
      "source": [
        "* The exterior algebra, or Grassmann algebra after Hermann Grassmann, is the algebraic system whose product is the exterior product. \n",
        "\n",
        "* The exterior algebra provides an algebraic setting in which to answer geometric questions. "
      ]
    },
    {
      "cell_type": "markdown",
      "metadata": {
        "id": "X12x0S4F4u5J"
      },
      "source": [
        "https://en.m.wikipedia.org/wiki/Exterior_algebra"
      ]
    },
    {
      "cell_type": "markdown",
      "metadata": {
        "id": "n80h1Abb8aqA"
      },
      "source": [
        "**Grassmann–Cayley algebra**"
      ]
    },
    {
      "cell_type": "markdown",
      "metadata": {
        "id": "3iwgA7Oo8l3P"
      },
      "source": [
        "* a Grassmann–Cayley algebra is the exterior algebra with an additional product, which may be called the shuffle product or the regressive product.\n",
        "\n",
        "* **It is the most general structure in which projective properties are expressed in a coordinate-free way.**\n",
        "\n",
        "* The technique is based on work by German mathematician Hermann Grassmann on exterior algebra, and subsequently by British mathematician Arthur Cayley's work on matrices and linear algebra. It is a form of modeling algebra for use in projective geometry.\n",
        "\n",
        "* The technique uses subspaces as basic elements of computation, a formalism which allows the translation of synthetic geometric statements into invariant algebraic statements. This can create a useful framework for the modeling of [conics](https://en.m.wikipedia.org/wiki/Conic) and [quadrics](https://en.m.wikipedia.org/wiki/Quadric) among other forms, and in tensor mathematics. It also has a number of applications in robotics, particularly for the kinematical analysis of manipulators."
      ]
    },
    {
      "cell_type": "markdown",
      "metadata": {
        "id": "41UwL0Qu8e15"
      },
      "source": [
        "https://en.m.wikipedia.org/wiki/Grassmann–Cayley_algebra"
      ]
    },
    {
      "cell_type": "markdown",
      "metadata": {
        "id": "GwjNETnA39Kz"
      },
      "source": [
        "###### **Multivector (p-vectors / Clifford number)**"
      ]
    },
    {
      "cell_type": "markdown",
      "metadata": {
        "id": "E4nBW88S6WVF"
      },
      "source": [
        "* The exterior product (also called the wedge product) used to construct multivectors is multilinear (linear in each input), associative and alternating.\n",
        "\n",
        "* The exterior product of k vectors or a sum of such products (for a single k) is called a grade k multivector, or a k-vector. The maximum grade of a multivector is the dimension of the vector space V.\n",
        "\n",
        "> For k = 0, 1, 2 and 3, k-vectors are often called respectively scalars, vectors, [bivectors](https://en.m.wikipedia.org/wiki/Bivector) and trivectors; they are respectively dual to [0-forms, 1-forms, 2-forms and 3-forms](https://en.m.wikipedia.org/wiki/Differential_form)"
      ]
    },
    {
      "cell_type": "markdown",
      "metadata": {
        "id": "ccYz_e_94Aap"
      },
      "source": [
        "https://en.m.wikipedia.org/wiki/Multivector"
      ]
    },
    {
      "cell_type": "markdown",
      "metadata": {
        "id": "F7KOBlbL_CtN"
      },
      "source": [
        "**what's the relationship of tensor and multivector**"
      ]
    },
    {
      "cell_type": "markdown",
      "metadata": {
        "id": "wfVBRHBk_F-D"
      },
      "source": [
        "The short answer is that all multivectors are tensors, but not all tensors are multivectors, so geometric algebra is not and cannot be isomorphic to tensor algebra.\n",
        "\n",
        "However, we can try to embed geometric algebra inside of tensor algebra. These resources give some guidelines for doing so (in the special case where the vector space is ℝ3 and the inner product is the \"regular\" inner product, as opposed to say the Minkowski metric on ℝ4):\n",
        "\n",
        "http://www2.ic.uff.br/~laffernandes/teaching/2013.1/topicos_ag/lecture_18%20-%20Tensor%20Representation.pdf\n",
        "\n",
        "https://www.docdroid.net/uwfvUxE/tensor-representation-of-geometric-algebra.pdf.html"
      ]
    },
    {
      "cell_type": "markdown",
      "metadata": {
        "id": "30hevdq5_MPP"
      },
      "source": [
        "https://math.stackexchange.com/questions/725350/is-geometric-algebra-isomorphic-to-tensor-algebra"
      ]
    },
    {
      "cell_type": "markdown",
      "metadata": {
        "id": "PhniX91n_URc"
      },
      "source": [
        "Every multivector corresponds to a tensor, but not every tensor corresponds to a multivector.\n",
        "\n",
        "The classic picture of a tensor is a linear map, acting on any number of vectors and dual vectors, to produce a scalar. Inspired by exterior and geometric algebra, you can say a tensor acts on any number of vector or dual vector blades.\n",
        "\n",
        "For example, rotation operators can be viewed as tensors: ...."
      ]
    },
    {
      "cell_type": "markdown",
      "metadata": {
        "id": "awkoUXXd_P76"
      },
      "source": [
        "https://math.stackexchange.com/questions/806671/whats-the-relationship-of-tensor-and-multivector/1846516#1846516"
      ]
    },
    {
      "cell_type": "markdown",
      "metadata": {
        "id": "QUeIvb7v-hux"
      },
      "source": [
        "###### **Multilinear Algebra**"
      ]
    },
    {
      "cell_type": "markdown",
      "metadata": {
        "id": "Bfg3NU4k-s2k"
      },
      "source": [
        "* multilinear algebra extends the methods of linear algebra.\n",
        "\n",
        "> Just as linear algebra is built on the concept of a vector and develops the theory of vector spaces, **multilinear algebra builds on the concepts of p-vectors and multivectors with Grassmann algebra (Exterior Algebra).**"
      ]
    },
    {
      "cell_type": "markdown",
      "metadata": {
        "id": "nWprP8yv-pZi"
      },
      "source": [
        "https://en.m.wikipedia.org/wiki/Multilinear_algebra"
      ]
    },
    {
      "cell_type": "markdown",
      "metadata": {
        "id": "hx-KlCGO3UWc"
      },
      "source": [
        "#### **Geometric Algebra & Clifford Algebra**"
      ]
    },
    {
      "cell_type": "markdown",
      "metadata": {
        "id": "9aFXWWaOV2sl"
      },
      "source": [
        "**Geometric Product** *Sum of inner product (dot) and outer product (wedge). Is the geometric product of any two vectors a and b as the sum of a symmetric product and an antisymmetric product:*\n",
        "\n",
        "> $a b=\\frac{1}{2}(a b+b a)+\\frac{1}{2}(a b-b a) =a \\cdot b+a \\wedge b$"
      ]
    },
    {
      "cell_type": "markdown",
      "metadata": {
        "id": "ORbicTFB7W9Y"
      },
      "source": [
        "###### **Quadratische Form & Quadriken**"
      ]
    },
    {
      "cell_type": "markdown",
      "metadata": {
        "id": "2K-6shHrEOYE"
      },
      "source": [
        "**Quadratische Form**"
      ]
    },
    {
      "cell_type": "markdown",
      "metadata": {
        "id": "M97DMKWd7c96"
      },
      "source": [
        "* Eine [quadratische Form](https://de.m.wikipedia.org/wiki/Quadratische_Form) ist in der Mathematik eine Funktion, die sich in einigen Aspekten wie die quadratische Funktion $x\\mapsto x^2$ verhält. **Ein Polynom, welches ausschließlich Terme zweiten Grades enthält, ist eine quadratische Form.** \n",
        "\n",
        "* The best known example of a quadratic form is the square of the amount of a vector:\n",
        "\n",
        "> $|\\vec{v}|^{2}=x^{2}+y^{2}+z^{2}+\\ldots$ (like in quantum mechanica on Bloch sphere)\n",
        "\n",
        "* Quadratische Formen tauchen in vielen Bereichen der Mathematik auf. In der Geometrie dienen sie dazu, Metriken einzuführen, in der Elementargeometrie zur Beschreibung von Kegelschnitten. Sie sind aber, falls zum Beispiel über den rationalen oder ganzen Zahlen betrachtet, auch ein klassischer Gegenstand der Zahlentheorie, in der man etwa nach den Zahlen fragt, die sich durch eine quadratische Form darstellen lassen. "
      ]
    },
    {
      "cell_type": "markdown",
      "metadata": {
        "id": "Wdc9m21Q-Elf"
      },
      "source": [
        "**Quadriken**"
      ]
    },
    {
      "cell_type": "markdown",
      "metadata": {
        "id": "rFl-7p_P-Ifl"
      },
      "source": [
        "![ggg](https://upload.wikimedia.org/wikipedia/commons/thumb/3/39/Quadriken-7.svg/640px-Quadriken-7.svg.png)\n",
        "\n",
        "*Quadriken im dreidimensionalen Raum: ein- und zweischaliges Hyperboloid, Ellipsoid, hyperbolisches Paraboloid, Zylinder, elliptisches Paraboloid und Kegel (von links nach rechts)*"
      ]
    },
    {
      "cell_type": "markdown",
      "metadata": {
        "id": "CU8dU8hfC9ht"
      },
      "source": [
        "Zum Beispiel beschreibt die Menge der Punkte\n",
        "\n",
        "$\n",
        "Q=\\left\\{(x, y) \\in \\mathbb{R}^{2} \\mid 2 x^{2}+3 y^{2}=5\\right\\}\n",
        "$\n",
        "\n",
        "eine [Ellipse](https://de.m.wikipedia.org/wiki/Ellipse) in der Ebene. Die Menge der Punkte\n",
        "\n",
        "$\n",
        "Q=\\left\\{(x, y, z) \\in \\mathbb{R}^{3} \\mid x^{2}+y^{2}-z^{2}=1\\right\\}\n",
        "$\n",
        "\n",
        "beschreibt ein einschaliges [Hyperboloid](https://de.m.wikipedia.org/wiki/Hyperboloid) im dreidimensionalen Raum."
      ]
    },
    {
      "cell_type": "markdown",
      "metadata": {
        "id": "s07_sgeE-ZSD"
      },
      "source": [
        "* Eine [Quadrik](https://de.m.wikipedia.org/wiki/Quadrik) (von lateinisch quadra Quadrat) ist in der Mathematik die Lösungsmenge einer quadratischen Gleichung mehrerer Unbekannter. \n",
        "\n",
        "* In zwei Dimensionen bildet eine Quadrik im Regelfall eine Kurve in der Ebene, wobei es sich dann um einen Kegelschnitt handelt. In drei Dimensionen beschreibt eine Quadrik im Regelfall eine Fläche im Raum, die auch Fläche zweiter Ordnung oder quadratische Fläche genannt wird. Allgemein handelt es sich bei einer Quadrik um eine [algebraische Varietät](https://de.m.wikipedia.org/wiki/Algebraische_Varietät), also um eine spezielle Hyperfläche, in einem endlichdimensionalen reellen Koordinatenraum. \n",
        "\n",
        "* Durch eine Hauptachsentransformation lässt sich jede Quadrik auf eine von drei möglichen Normalformen transformieren. Auf diese Weise können Quadriken in verschiedene grundlegende Typen klassifiziert werden.\n",
        "\n",
        "* Quadriken werden insbesondere in der analytischen und der projektiven Geometrie untersucht. Anwendungen für Quadriken in Technik und Naturwissenschaften finden sich unter anderem in der Geodäsie (Referenzellipsoid), der Architektur (Tragwerkskonstruktion) oder der Optik (Parabolspiegel)."
      ]
    },
    {
      "cell_type": "markdown",
      "metadata": {
        "id": "tvHE8JXR-qag"
      },
      "source": [
        "> Eine [algebraische Varietät](https://de.m.wikipedia.org/wiki/Algebraische_Varietät) ein geometrisches Objekt, das durch Polynomgleichungen beschrieben werden kann."
      ]
    },
    {
      "cell_type": "markdown",
      "metadata": {
        "id": "XtUhxyWI_dRk"
      },
      "source": [
        "Eine Quadrik ist eine Punktmenge im $n$ -dimensionalen reellen Koordinatenraum $\\mathbb{R}^{n}$ der Form\n",
        "\n",
        ">$\n",
        "Q=\\left\\{\\left(x_{1}, \\ldots, x_{n}\\right) \\in \\mathbb{R}^{n} \\mid q\\left(x_{1}, \\ldots, x_{n}\\right)=0\\right\\}\n",
        "$\n",
        "\n",
        "wobei\n",
        "\n",
        "> $\n",
        "q\\left(x_{1}, \\ldots, x_{n}\\right)=\\sum_{i, j=1}^{n} a_{i j} x_{i} x_{j}+2 \\sum_{i=1}^{n} b_{i} x_{i}+c\n",
        "$\n",
        "\n",
        "ein **quadratisches Polynom (=quadratische Form)** in den Variablen $x_{1}, \\ldots, x_{n}$ ist. Mindestens einer der Polynomkoeffizienten $a_{11}, \\ldots, a_{n n}$ muss dabei ungleich null sein. Zudem kann ohne Einschränkung vorausgesetzt werden, dass $a_{i j}=a_{j i}$ für alle $i, j \\in\\{1, \\ldots, n\\}$ gilt. \n",
        "\n",
        "> **Eine Quadrik ist damit die Nullstellenmenge eines quadratischen Polynoms (quadratische Form) mehrerer Variablen beziehungsweise die Lösungsmenge einer quadratischen Gleichung mit mehreren Unbekannten.**"
      ]
    },
    {
      "cell_type": "markdown",
      "metadata": {
        "id": "JdMdM-xcCaYZ"
      },
      "source": [
        "[Quadratische Gleichung](https://de.m.wikipedia.org/wiki/Quadratische_Gleichung): $a x^{2}+b x+c=0$ (Gleichung mit einem Polynom zweiten Grades deren Lösungsmenge ihre Nullstellen ergibt)"
      ]
    },
    {
      "cell_type": "markdown",
      "metadata": {
        "id": "TWCD4uaJCc2u"
      },
      "source": [
        "[Quadratische Funktion](https://de.m.wikipedia.org/wiki/Quadratische_Funktion): $f(x)=a x^{2}+b x+c$ mit $a \\neq 0$ (Eine quadratische Funktion (auch ganzrationale Funktion zweiten Grades) ist eine Funktion, die als Funktionsterm ein Polynom vom Grad 2 besitzt)."
      ]
    },
    {
      "cell_type": "markdown",
      "metadata": {
        "id": "l89mwai7941T"
      },
      "source": [
        "###### **Clifford Algebra**"
      ]
    },
    {
      "cell_type": "markdown",
      "metadata": {
        "id": "hpDLgvWd5lNI"
      },
      "source": [
        "> A [Clifford algebra](https://en.m.wikipedia.org/wiki/Clifford_algebra) is an algebra generated by a vector space with a [quadratic form](https://en.m.wikipedia.org/wiki/Quadratic_form), and is a unital [associative algebra](https://en.m.wikipedia.org/wiki/Associative_algebra) (not commutative, but anti-commutative!). \n",
        "\n",
        "* The best known example of a quadratic form is the square of the amount of a vector: $|\\vec{v}|^{2}=x^{2}+y^{2}+z^{2}+\\ldots$ (like used in quantum mechanics on Bloch sphere)\n",
        "\n",
        "* As K-algebras, they generalize the real numbers, complex numbers, quaternions and several other hypercomplex number systems.\n",
        "\n",
        "> The theory of Clifford algebras is intimately connected with the theory of [quadratic forms](https://en.m.wikipedia.org/wiki/Quadratic_form) and [orthogonal transformations](https://en.m.wikipedia.org/wiki/Orthogonal_group) (Orthogonal group, like SO(2), SO(3) and SO(4)). \n",
        "\n",
        "* Clifford algebras have important applications in a variety of fields including geometry, theoretical physics and digital image processing. "
      ]
    },
    {
      "cell_type": "markdown",
      "metadata": {
        "id": "374yeWn8HmKu"
      },
      "source": [
        "A Clifford algebra is a unital associative algebra that contains and is generated by a vector space $V$ over a field $K_{1}$ where $V$ is equipped with a quadratic form $Q: V \\rightarrow K$. The Clifford algebra $\\mathrm{Cl}(V, Q)$ is the \"freest\" algebra generated by $V$ subject to the condition\n",
        "\n",
        "> $v^{2}=Q(v) 1$ for all $v \\in V$\n",
        "\n",
        "where the product on the left is that of the algebra, and the 1 is its [multiplicative identity](https://en.m.wikipedia.org/wiki/Identity_element#Definitions) (neutral element)."
      ]
    },
    {
      "cell_type": "markdown",
      "metadata": {
        "id": "DTiTRoCGLUu3"
      },
      "source": [
        "See also: https://en.m.wikipedia.org/wiki/Clifford_algebra#Universal_property_and_construction"
      ]
    },
    {
      "cell_type": "markdown",
      "metadata": {
        "id": "fAa9HaQFLslQ"
      },
      "source": [
        "> **For a complete classification of these algebras see [Classification of Clifford algebras](https://en.m.wikipedia.org/wiki/Classification_of_Clifford_algebras).**"
      ]
    },
    {
      "cell_type": "markdown",
      "metadata": {
        "id": "jb2CtiMLNIm0"
      },
      "source": [
        "> **See also [Hierarchy if Clifford Algebra](https://en.m.wikipedia.org/wiki/Basil_Hiley#Hierarchy_of_Clifford_algebras)**"
      ]
    },
    {
      "cell_type": "markdown",
      "metadata": {
        "id": "8fKYbgJKPh6o"
      },
      "source": [
        "For quantum mechanics see also Clifford Gates and Clifford Group: https://en.m.wikipedia.org/wiki/Clifford_gates"
      ]
    },
    {
      "cell_type": "markdown",
      "metadata": {
        "id": "oiuMx4qNHOW1"
      },
      "source": [
        "*Clifford Algebra & Free Algebra*"
      ]
    },
    {
      "cell_type": "markdown",
      "metadata": {
        "id": "70K1NVMYHa3p"
      },
      "source": [
        "* for Clifford Algebra: The idea of being the \"freest\" or \"most general\" algebra subject to this identity can be formally expressed through the notion of a [universal property](https://en.m.wikipedia.org/wiki/Universal_property) (from category theory).\n",
        "\n",
        "* in the area of abstract algebra known as ring theory, a [free algebra](https://en.m.wikipedia.org/wiki/Free_algebra) is the noncommutative analogue of a polynomial ring since its elements may be described as \"polynomials\" with non-commuting variables. Likewise, the polynomial ring may be regarded as a free commutative algebra."
      ]
    },
    {
      "cell_type": "markdown",
      "metadata": {
        "id": "Mk3GziqyJs0d"
      },
      "source": [
        "*Clifford Algebra & Exterior Algebra*"
      ]
    },
    {
      "cell_type": "markdown",
      "metadata": {
        "id": "_CHo4V4sJxTg"
      },
      "source": [
        "* Clifford Algebra as a quantization of the exterior algebra\n",
        "\n",
        "* Clifford algebras are closely related to exterior algebras. Indeed, if Q = 0 then the Clifford algebra Cl(V, Q) is just the exterior algebra ⋀(V). For nonzero Q there exists a canonical linear isomorphism between ⋀(V) and Cl(V, Q) whenever the ground field K does not have characteristic two. \n",
        "\n",
        "* Clifford multiplication together with the distinguished subspace is strictly richer than the exterior product since it makes use of the extra information provided by Q.\n",
        "\n",
        "* The Clifford algebra is a [filtered algebra](https://en.m.wikipedia.org/wiki/Filtered_algebra), the [associated graded algebra](https://en.m.wikipedia.org/wiki/Associated_graded_ring) is the exterior algebra.\n",
        "\n",
        "* More precisely, Clifford algebras may be thought of as quantizations (cf. quantum group) of the exterior algebra, in the same way that the Weyl algebra is a quantization of the symmetric algebra.\n",
        "\n",
        "* Weyl algebras and Clifford algebras admit a further structure of a *-algebra, and can be unified as even and odd terms of a [superalgebra](https://en.m.wikipedia.org/wiki/Superalgebra), as discussed in [CCR and CAR algebras](https://en.m.wikipedia.org/wiki/CCR_and_CAR_algebras).\n",
        "\n",
        "* https://en.m.wikipedia.org/wiki/Clifford_algebra#Relation_to_the_exterior_algebra"
      ]
    },
    {
      "cell_type": "markdown",
      "metadata": {
        "id": "Ix-kuRDyJ1xI"
      },
      "source": [
        "*Clifford Algebra & Geometric Algebra*"
      ]
    },
    {
      "cell_type": "markdown",
      "metadata": {
        "id": "-b5QwcoIJ9XD"
      },
      "source": [
        "* Geometric Algebra is a special form of the more general Clifford algebra\n",
        "\n",
        "* Geometric algebra is distinguished from Clifford algebra in general by its restriction to real numbers and its emphasis on its geometric interpretation and physical applications."
      ]
    },
    {
      "cell_type": "markdown",
      "metadata": {
        "id": "f_cAp-kJHTt8"
      },
      "source": [
        "*Other notes*"
      ]
    },
    {
      "cell_type": "markdown",
      "metadata": {
        "id": "4ii7VpEQ99cf"
      },
      "source": [
        "https://en.m.wikipedia.org/wiki/Clifford_algebra"
      ]
    },
    {
      "cell_type": "markdown",
      "metadata": {
        "id": "5ipcboQg9slR"
      },
      "source": [
        "...the geometric algebra for this quadratic space is the Clifford algebra... [Source](https://en.m.wikipedia.org/wiki/Geometric_algebra)"
      ]
    },
    {
      "cell_type": "markdown",
      "metadata": {
        "id": "IkXH4DIyqLcT"
      },
      "source": [
        "Clifford algebras were born of a synthesis of inner product spaces and Grassmann's exterior algebras, both of which have geometric applications.\n",
        "\n",
        "A Clifford algebra is constructed from an inner product space (𝑉,𝑄) by generating an associative algebra (whose product is a descendant of the tensor product in the tensor algebra for 𝑉). These are compatible in a sense made clear in the Wiki.\n",
        "\n",
        "https://math.stackexchange.com/questions/182024/relation-between-interior-product-inner-product-exterior-product-outer-produc"
      ]
    },
    {
      "cell_type": "markdown",
      "metadata": {
        "id": "5O7ARLVKEMtb"
      },
      "source": [
        "*Applications*"
      ]
    },
    {
      "cell_type": "markdown",
      "metadata": {
        "id": "8LaogblUQFCU"
      },
      "source": [
        "* One of the principal applications of the exterior algebra is in differential geometry where it is used to define the bundle of differential forms on a smooth manifold. In the case of a (pseudo-)Riemannian manifold, the tangent spaces come equipped with a natural quadratic form induced by the metric. Thus, one can define a Clifford bundle in analogy with the exterior bundle. This has a number of important applications in Riemannian geometry. Perhaps more importantly is the link to a spin manifold, its associated spinor bundle and spinc manifolds.\n",
        "\n",
        "* More: https://en.m.wikipedia.org/wiki/Clifford_algebra#Applications"
      ]
    },
    {
      "cell_type": "markdown",
      "metadata": {
        "id": "PBDuUwqs41hD"
      },
      "source": [
        "###### **Examples of Clifford Algebras $Cℓ_{p,q}$**"
      ]
    },
    {
      "cell_type": "markdown",
      "metadata": {
        "id": "ez_AiYmG7jlZ"
      },
      "source": [
        "Examples of geometric algebras applied in physics include the spacetime algebra (and the less common algebra of physical space) and the conformal geometric algebra. "
      ]
    },
    {
      "cell_type": "markdown",
      "metadata": {
        "id": "52gTAev0ONVc"
      },
      "source": [
        "See also hierrchy of clifford algebra: https://en.m.wikipedia.org/wiki/Basil_Hiley#"
      ]
    },
    {
      "cell_type": "markdown",
      "metadata": {
        "id": "qtYXK1mMsVJ1"
      },
      "source": [
        "**Spacetime Algebra $Cℓ_{1,3}$ - Dirac equation**"
      ]
    },
    {
      "cell_type": "markdown",
      "metadata": {
        "id": "XpcLv6jEsXdM"
      },
      "source": [
        "https://en.m.wikipedia.org/wiki/Spacetime_algebra"
      ]
    },
    {
      "cell_type": "markdown",
      "metadata": {
        "id": "OnJEvmNO7dYq"
      },
      "source": [
        "**Algebra of physical space $Cℓ_{3,0}$ - Pauli equation**"
      ]
    },
    {
      "cell_type": "markdown",
      "metadata": {
        "id": "TJfmHntO7faa"
      },
      "source": [
        "https://en.m.wikipedia.org/wiki/Algebra_of_physical_space"
      ]
    },
    {
      "cell_type": "markdown",
      "metadata": {
        "id": "UfldA-xy7syc"
      },
      "source": [
        "**Conformal geometric algebra $Cℓ_{4,2}$ - Twistor equation**"
      ]
    },
    {
      "cell_type": "markdown",
      "metadata": {
        "id": "6BeeYYzd7wJx"
      },
      "source": [
        "https://en.m.wikipedia.org/wiki/Conformal_geometric_algebra"
      ]
    },
    {
      "cell_type": "markdown",
      "metadata": {
        "id": "pXO5ws0x0s59"
      },
      "source": [
        "**Dirac Algebra** $Cℓ_4$(C)"
      ]
    },
    {
      "cell_type": "markdown",
      "metadata": {
        "id": "5c6HFeYOs82w"
      },
      "source": [
        "https://en.m.wikipedia.org/wiki/Dirac_algebra"
      ]
    },
    {
      "cell_type": "markdown",
      "metadata": {
        "id": "u9A2pEhQm3dM"
      },
      "source": [
        "###### **Geometric Algebra**"
      ]
    },
    {
      "cell_type": "markdown",
      "metadata": {
        "id": "ukOIxIq-I--I"
      },
      "source": [
        "* Geometric algebra (GA) is an extension or completion of vector algebra (VA)\n",
        "\n",
        "> **Geometric Product: Sum of inner product (dot) and outer product (wedge)**\n",
        "\n",
        "* Magnitude of u wedge v (=bivector) is the area of a parallelogram - similar to cross product, but not restricted to R3 like [cross product](https://en.m.wikipedia.org/wiki/Cross_product) (including magnitude and orientation)"
      ]
    },
    {
      "cell_type": "markdown",
      "metadata": {
        "id": "1-CSp4rSuMjT"
      },
      "source": [
        "* Geometric algebra is distinguished from Clifford algebra in general by its restriction to real numbers and its emphasis on its geometric interpretation and physical applications.\n",
        "\n",
        "* A Clifford algebra is a unital associative algebra that contains and is generated by a vector space V over a field K, where V is equipped with a quadratic form Q.\n",
        "\n",
        "* A Geometric algebra is a Clifford algebra of a vector space over the field of real numbers endowed with a quadratic form.\n",
        "\n",
        "* **So a Geometric Algebra is a special form of the more general Clifford algebra**. In particular it is a CA over the reals. Additionally rather than being just an abstract object it has specific geometric meaning. For instance the 3+1 dimensional spacetime algebra is a Geometric algebra.\n",
        "\n",
        "https://www.quora.com/How-are-geometric-algebra-and-Clifford-algebra-different"
      ]
    },
    {
      "cell_type": "markdown",
      "metadata": {
        "id": "CwnxoD_P7PH_"
      },
      "source": [
        "https://en.m.wikipedia.org/wiki/Geometric_algebra"
      ]
    },
    {
      "cell_type": "markdown",
      "metadata": {
        "id": "nCXYaunx8QUt"
      },
      "source": [
        "* Clifford's contribution was to define a new product, the geometric product, that unified the Grassmann and Hamilton algebras into a single structure. \n",
        "\n",
        "* Adding the dual of the Grassmann exterior product (the \"meet\") allows the use of the [Grassmann–Cayley algebra](https://en.m.wikipedia.org/wiki/Grassmann–Cayley_algebra), and a conformal version of the latter together with a conformal Clifford algebra yields a conformal geometric algebra (CGA) providing a framework for classical geometries.[1] In practice, these and several derived operations allow a correspondence of elements, subspaces and operations of the algebra with geometric interpretations."
      ]
    },
    {
      "cell_type": "markdown",
      "metadata": {
        "id": "d-hYegtjJPlc"
      },
      "source": [
        "clifford algebra, bivector, wedge product"
      ]
    },
    {
      "cell_type": "markdown",
      "metadata": {
        "id": "aG1uYW0Y3PLI"
      },
      "source": [
        "###### **Differences of Geometric Algebra to other Algebras**"
      ]
    },
    {
      "cell_type": "markdown",
      "metadata": {
        "id": "9-FKqSAOJHcZ"
      },
      "source": [
        "**Geometric Algebra vs Tensor Algebra**"
      ]
    },
    {
      "cell_type": "markdown",
      "metadata": {
        "id": "ujWOGX-AJB5x"
      },
      "source": [
        "* Every element of a geometric algebra can be identified with a tensor, but not every tensor can be identified with an element of a geometric algebra."
      ]
    },
    {
      "cell_type": "markdown",
      "metadata": {
        "id": "BVXAS-DFJF4Y"
      },
      "source": [
        "https://math.stackexchange.com/questions/725350/is-geometric-algebra-isomorphic-to-tensor-algebra"
      ]
    },
    {
      "cell_type": "markdown",
      "metadata": {
        "id": "Q4T0cXcG3LO-"
      },
      "source": [
        "**Comparison of vector algebra and geometric algebra**"
      ]
    },
    {
      "cell_type": "markdown",
      "metadata": {
        "id": "4PgRsjnq3pY_"
      },
      "source": [
        "* Geometric algebra (GA) is an extension or completion of vector algebra (VA)"
      ]
    },
    {
      "cell_type": "markdown",
      "metadata": {
        "id": "AjCbRpd93OVA"
      },
      "source": [
        "https://en.m.wikipedia.org/wiki/Comparison_of_vector_algebra_and_geometric_algebra"
      ]
    }
  ]
}