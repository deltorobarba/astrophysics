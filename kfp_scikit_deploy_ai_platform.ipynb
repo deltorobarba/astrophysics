{
  "nbformat": 4,
  "nbformat_minor": 0,
  "metadata": {
    "kernelspec": {
      "display_name": "Python 3",
      "language": "python",
      "name": "python3"
    },
    "language_info": {
      "codemirror_mode": {
        "name": "ipython",
        "version": 3
      },
      "file_extension": ".py",
      "mimetype": "text/x-python",
      "name": "python",
      "nbconvert_exporter": "python",
      "pygments_lexer": "ipython3",
      "version": "3.5.3"
    },
    "colab": {
      "name": "kfp_scikit-deploy-ai-platform.ipynb",
      "provenance": [],
      "include_colab_link": true
    }
  },
  "cells": [
    {
      "cell_type": "markdown",
      "metadata": {
        "id": "view-in-github",
        "colab_type": "text"
      },
      "source": [
        "<a href=\"https://colab.research.google.com/github/deltorobarba/machinelearning/blob/master/kfp_scikit_deploy_ai_platform.ipynb\" target=\"_parent\"><img src=\"https://colab.research.google.com/assets/colab-badge.svg\" alt=\"Open In Colab\"/></a>"
      ]
    },
    {
      "cell_type": "code",
      "metadata": {
        "id": "YVKVVls2icmx",
        "colab_type": "code",
        "colab": {}
      },
      "source": [
        "YOUR_NAME = 'Your_Name' #change to your name\n",
        "EXPERIMENT_NAME = 'Scikit Learn CAIP Deploy V1.1 %s' % (YOUR_NAME) # change to your experiment name "
      ],
      "execution_count": 0,
      "outputs": []
    },
    {
      "cell_type": "code",
      "metadata": {
        "id": "DNAzpiQmicm0",
        "colab_type": "code",
        "colab": {},
        "outputId": "e1f69c8d-c420-41bd-cce9-b90a372b883c"
      },
      "source": [
        "import kfp.components as comp\n",
        "\n",
        "mlengine_deploy_op = comp.load_component_from_url(\n",
        "    'https://raw.githubusercontent.com/kubeflow/pipelines/17a104eac09e29bd39c0edc933f7fc53a5f98ef7/components/gcp/ml_engine/deploy/component.yaml')\n",
        "help(mlengine_deploy_op)"
      ],
      "execution_count": 0,
      "outputs": [
        {
          "output_type": "stream",
          "text": [
            "Help on function Deploying a trained model to Cloud Machine Learning Engine:\n",
            "\n",
            "Deploying a trained model to Cloud Machine Learning Engine(model_uri:'GCSPath', project_id:'GCPProjectID', model_id:'String'='', version_id:'String'='', runtime_version:'String'='', python_version:'String'='', model:'Dict'='', version:'Dict'='', replace_existing_version:'Bool'='Fasle', set_default:'Bool'='False', wait_interval:'Integer'='30')\n",
            "    Deploying a trained model to Cloud Machine Learning Engine\n",
            "    A Kubeflow Pipeline component to deploy a trained model from a Cloud Storage\n",
            "    path to a Cloud Machine Learning Engine service.\n",
            "\n"
          ],
          "name": "stdout"
        }
      ]
    },
    {
      "cell_type": "code",
      "metadata": {
        "id": "du419qDmicm2",
        "colab_type": "code",
        "colab": {}
      },
      "source": [
        "import datetime as datetime\n",
        "\n",
        "# Required Parameters\n",
        "PROJECT_ID = 'kfp-primer-workshop'\n",
        "\n",
        "# Optional Parameters\n",
        "EXPERIMENT_NAME = EXPERIMENT_NAME\n",
        "TRAINED_MODEL_PATH = 'gs://kfp-scikit/model/output/model/' # change to your gcs path\n",
        "VERSION = \"Marketing_V_%s_%s\" % (datetime.datetime.now(), YOUR_NAME)"
      ],
      "execution_count": 0,
      "outputs": []
    },
    {
      "cell_type": "code",
      "metadata": {
        "id": "_dKMs6Nkicm4",
        "colab_type": "code",
        "colab": {}
      },
      "source": [
        "import kfp.dsl as dsl\n",
        "import kfp.gcp as gcp\n",
        "import json\n",
        "@dsl.pipeline(\n",
        "    name='CAIP deploy pipeline',\n",
        "    description='CAIP deploy pipeline'\n",
        ")\n",
        "def pipeline(\n",
        "    model_uri = 'gs://kfp-scikit/model/output/model/', # change to your gcs path\n",
        "    project_id = PROJECT_ID,\n",
        "    model_id = 'kfp_sample_model',\n",
        "    version_id = VERSION,\n",
        "    runtime_version = '1.14',\n",
        "    python_version = '3.5',\n",
        "    version = '',\n",
        "    replace_existing_version = 'True',\n",
        "    set_default = 'True',\n",
        "    wait_interval = '30'):\n",
        "    task = mlengine_deploy_op(\n",
        "        model_uri=model_uri, \n",
        "        project_id=project_id, \n",
        "        model_id=model_id, \n",
        "        version_id=version_id, \n",
        "        runtime_version=runtime_version, \n",
        "        python_version=python_version,\n",
        "        version=version, \n",
        "        replace_existing_version=replace_existing_version, \n",
        "        set_default=set_default, \n",
        "        wait_interval=wait_interval).apply(gcp.use_gcp_secret('user-gcp-sa'))"
      ],
      "execution_count": 0,
      "outputs": []
    },
    {
      "cell_type": "code",
      "metadata": {
        "id": "Mvc7Op_Bicm5",
        "colab_type": "code",
        "colab": {}
      },
      "source": [
        "pipeline_func = pipeline\n",
        "pipeline_filename = pipeline_func.__name__ + '.zip'\n",
        "import kfp.compiler as compiler\n",
        "compiler.Compiler().compile(pipeline_func, pipeline_filename)"
      ],
      "execution_count": 0,
      "outputs": []
    },
    {
      "cell_type": "code",
      "metadata": {
        "id": "8tm9ku6qicm7",
        "colab_type": "code",
        "colab": {},
        "outputId": "72d0fe45-d9c1-4003-fc5a-1d996fe9f453"
      },
      "source": [
        "#Specify pipeline argument values\n",
        "arguments = {}\n",
        "\n",
        "#Get or create an experiment and submit a pipeline run\n",
        "import kfp\n",
        "client = kfp.Client()\n",
        "experiment = client.create_experiment(EXPERIMENT_NAME)\n",
        "\n",
        "#Submit a pipeline run\n",
        "run_name = pipeline_func.__name__ + ' run'\n",
        "run_result = client.run_pipeline(experiment.id, run_name, pipeline_filename, arguments)"
      ],
      "execution_count": 0,
      "outputs": [
        {
          "output_type": "display_data",
          "data": {
            "text/html": [
              "Experiment link <a href=\"/pipeline/#/experiments/details/d4b25686-c089-4181-8015-ce1073e90c62\" target=\"_blank\" >here</a>"
            ],
            "text/plain": [
              "<IPython.core.display.HTML object>"
            ]
          },
          "metadata": {
            "tags": []
          }
        },
        {
          "output_type": "display_data",
          "data": {
            "text/html": [
              "Run link <a href=\"/pipeline/#/runs/details/c7be20cf-d093-11e9-9b09-42010a800190\" target=\"_blank\" >here</a>"
            ],
            "text/plain": [
              "<IPython.core.display.HTML object>"
            ]
          },
          "metadata": {
            "tags": []
          }
        }
      ]
    },
    {
      "cell_type": "code",
      "metadata": {
        "id": "lRMkvAk0icm9",
        "colab_type": "code",
        "colab": {},
        "outputId": "cb3ee32d-a225-4fd9-b47b-d295c1ebf44a"
      },
      "source": [
        "{\n",
        "\"instances\": [[45,\"admin.\",\"divorced\",\"secondary\",2353,true,false,\"cellular\",5,\"mar\",182,1,107,2,\"other\"]\n",
        "]\n",
        "}"
      ],
      "execution_count": 0,
      "outputs": [
        {
          "output_type": "stream",
          "text": [
            "Writing predict.json\n"
          ],
          "name": "stdout"
        }
      ]
    },
    {
      "cell_type": "code",
      "metadata": {
        "id": "metWz3QDicm-",
        "colab_type": "code",
        "colab": {}
      },
      "source": [
        ""
      ],
      "execution_count": 0,
      "outputs": []
    }
  ]
}