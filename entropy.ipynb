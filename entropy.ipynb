{
  "nbformat": 4,
  "nbformat_minor": 0,
  "metadata": {
    "colab": {
      "name": "entropy.ipynb",
      "provenance": [],
      "collapsed_sections": [],
      "include_colab_link": true
    },
    "kernelspec": {
      "name": "python3",
      "display_name": "Python 3"
    }
  },
  "cells": [
    {
      "cell_type": "markdown",
      "metadata": {
        "id": "view-in-github",
        "colab_type": "text"
      },
      "source": [
        "<a href=\"https://colab.research.google.com/github/deltorobarba/machinelearning/blob/master/entropy.ipynb\" target=\"_parent\"><img src=\"https://colab.research.google.com/assets/colab-badge.svg\" alt=\"Open In Colab\"/></a>"
      ]
    },
    {
      "cell_type": "markdown",
      "metadata": {
        "id": "2Aoj2PpxvDQV",
        "colab_type": "text"
      },
      "source": [
        "# **Information Entropy**"
      ]
    },
    {
      "cell_type": "code",
      "metadata": {
        "id": "1U5_6xH7tAQq",
        "colab_type": "code",
        "colab": {}
      },
      "source": [
        "import numpy as np\n",
        "import pandas as pd\n",
        "import seaborn as sns\n",
        "import matplotlib.pyplot as plt"
      ],
      "execution_count": null,
      "outputs": []
    },
    {
      "cell_type": "markdown",
      "metadata": {
        "id": "OagtrigB2Sc-",
        "colab_type": "text"
      },
      "source": [
        "#### **Entropy (information theory)**"
      ]
    },
    {
      "cell_type": "markdown",
      "metadata": {
        "id": "E7Ja09Ac2WRc",
        "colab_type": "text"
      },
      "source": [
        "https://en.m.wikipedia.org/wiki/Entropy_(information_theory)"
      ]
    },
    {
      "cell_type": "markdown",
      "metadata": {
        "id": "hzF2bXuy2l25",
        "colab_type": "text"
      },
      "source": [
        "https://en.m.wikipedia.org/wiki/Jensen%27s_inequality"
      ]
    },
    {
      "cell_type": "markdown",
      "metadata": {
        "id": "EhYmPAGW2oGk",
        "colab_type": "text"
      },
      "source": [
        "https://en.m.wikipedia.org/wiki/Fisher_information#Matrix_form"
      ]
    },
    {
      "cell_type": "markdown",
      "metadata": {
        "id": "W7tjIIei22xi",
        "colab_type": "text"
      },
      "source": [
        "https://en.m.wikipedia.org/wiki/Information_content"
      ]
    }
  ]
}