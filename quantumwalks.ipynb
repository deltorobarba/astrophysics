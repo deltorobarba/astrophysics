{
  "nbformat": 4,
  "nbformat_minor": 0,
  "metadata": {
    "colab": {
      "provenance": [],
      "authorship_tag": "ABX9TyMk53hOIGBGfzDz2Zd2PD45",
      "include_colab_link": true
    },
    "kernelspec": {
      "name": "python3",
      "display_name": "Python 3"
    },
    "language_info": {
      "name": "python"
    }
  },
  "cells": [
    {
      "cell_type": "markdown",
      "metadata": {
        "id": "view-in-github",
        "colab_type": "text"
      },
      "source": [
        "<a href=\"https://colab.research.google.com/github/deltorobarba/sciences/blob/master/quantumwalks.ipynb\" target=\"_parent\"><img src=\"https://colab.research.google.com/assets/colab-badge.svg\" alt=\"Open In Colab\"/></a>"
      ]
    },
    {
      "cell_type": "markdown",
      "source": [
        "## <font color=\"blue\">**Quantum Walks**"
      ],
      "metadata": {
        "id": "a1VNgmJMpYSL"
      }
    },
    {
      "cell_type": "code",
      "execution_count": null,
      "metadata": {
        "id": "x4HLe5BCpSDS"
      },
      "outputs": [],
      "source": []
    },
    {
      "cell_type": "markdown",
      "source": [
        "Quantum walks in finance: https://youtu.be/mRIjRbIQyE4?si=AI9NhARYgBT9ZmC9\n",
        "\n",
        "Quantum walks in hierarchical graphs: https://youtu.be/b53G80uQ3t0?si=Nsqov_FaD2t9EbN0"
      ],
      "metadata": {
        "id": "7n_brbbCpT1z"
      }
    }
  ]
}