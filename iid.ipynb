{
  "nbformat": 4,
  "nbformat_minor": 0,
  "metadata": {
    "colab": {
      "name": "iid.ipynb",
      "provenance": [],
      "collapsed_sections": [],
      "include_colab_link": true
    },
    "kernelspec": {
      "name": "python3",
      "display_name": "Python 3"
    }
  },
  "cells": [
    {
      "cell_type": "markdown",
      "metadata": {
        "id": "view-in-github",
        "colab_type": "text"
      },
      "source": [
        "<a href=\"https://colab.research.google.com/github/deltorobarba/machinelearning/blob/master/iid.ipynb\" target=\"_parent\"><img src=\"https://colab.research.google.com/assets/colab-badge.svg\" alt=\"Open In Colab\"/></a>"
      ]
    },
    {
      "cell_type": "markdown",
      "metadata": {
        "id": "2Aoj2PpxvDQV",
        "colab_type": "text"
      },
      "source": [
        "# **Identically and Independently Distributed Data**"
      ]
    },
    {
      "cell_type": "code",
      "metadata": {
        "id": "1U5_6xH7tAQq",
        "colab_type": "code",
        "colab": {}
      },
      "source": [
        "import numpy as np\n",
        "import pandas as pd\n",
        "import seaborn as sns\n",
        "import matplotlib.pyplot as plt"
      ],
      "execution_count": null,
      "outputs": []
    },
    {
      "cell_type": "markdown",
      "metadata": {
        "id": "Wtuq5w1lM75E",
        "colab_type": "text"
      },
      "source": [
        "**Properties of IID**"
      ]
    },
    {
      "cell_type": "markdown",
      "metadata": {
        "id": "_RsjEDg5vnI1",
        "colab_type": "text"
      },
      "source": [
        "* In probability theory and statistics, a collection of random variables is independent and identically distributed if each random variable has the same probability distribution as the others and all are mutually independent. This property is usually abbreviated as i.i.d. or iid or IID. Herein, i.i.d. is used, because it is the most prevalent.\n",
        "\n",
        "* In machine learning theory, i.i.d. assumption is often made for training datasets to imply that all samples stem from the same generative process and that the generative process is assumed to have no memory of past generated samples.\n",
        "\n",
        "https://en.m.wikipedia.org/wiki/Independent_and_identically_distributed_random_variables"
      ]
    },
    {
      "cell_type": "markdown",
      "metadata": {
        "id": "yFE1f_zqM4W1",
        "colab_type": "text"
      },
      "source": [
        "Independence of the trials implies that the process is memoryless. Given that the probability p is known, past outcomes provide no information about future outcomes. (If p is unknown, however, the past informs about the future indirectly, through inferences about p.)\n",
        "\n",
        "If the process is infinite, then from any point the future trials constitute a Bernoulli process identical to the whole process, the fresh-start property."
      ]
    },
    {
      "cell_type": "markdown",
      "metadata": {
        "id": "plHbTb8ovK6A",
        "colab_type": "text"
      },
      "source": [
        "**Examples of IID**"
      ]
    },
    {
      "cell_type": "markdown",
      "metadata": {
        "id": "PTf1_dRcMjcd",
        "colab_type": "text"
      },
      "source": [
        "* Bernoulli process is a sequence of independent identically distributed Bernoulli trials. A Bernoulli process is a finite or infinite sequence of binary random variables, so it is a discrete-time stochastic process that takes only two values, canonically 0 and 1. The component Bernoulli variables Xi are identically distributed and independent. Prosaically, a Bernoulli process is a repeated coin flipping, possibly with an unfair coin (but with consistent unfairness)."
      ]
    },
    {
      "cell_type": "markdown",
      "metadata": {
        "id": "h4O6O1IlMpux",
        "colab_type": "text"
      },
      "source": [
        "**Examples of Non-IID**"
      ]
    }
  ]
}