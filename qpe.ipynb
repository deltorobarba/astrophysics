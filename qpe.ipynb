{
  "nbformat": 4,
  "nbformat_minor": 0,
  "metadata": {
    "colab": {
      "name": "qpe.ipynb",
      "provenance": [],
      "collapsed_sections": [
        "W3k8xcd_SafQ",
        "QuAipDzXfNAU",
        "3Ix2wywNSf-u",
        "usifZJqwSk7f"
      ],
      "include_colab_link": true
    },
    "kernelspec": {
      "name": "python3",
      "display_name": "Python 3"
    }
  },
  "cells": [
    {
      "cell_type": "markdown",
      "metadata": {
        "id": "view-in-github",
        "colab_type": "text"
      },
      "source": [
        "<a href=\"https://colab.research.google.com/github/deltorobarba/machinelearning/blob/master/qpe.ipynb\" target=\"_parent\"><img src=\"https://colab.research.google.com/assets/colab-badge.svg\" alt=\"Open In Colab\"/></a>"
      ]
    },
    {
      "cell_type": "markdown",
      "metadata": {
        "id": "uYQVihuXzx6u"
      },
      "source": [
        "# **Quantum Phase Estimation**"
      ]
    },
    {
      "cell_type": "code",
      "metadata": {
        "id": "jObfS0OgRhq6"
      },
      "source": [
        "!pip install cirq --quiet\n",
        "import cirq\n",
        "import sympy\n",
        "from cirq.contrib.svg import SVGCircuit\n",
        "import numpy as np\n",
        "import pandas as pd\n",
        "import seaborn as sns\n",
        "import matplotlib.pyplot as plt # %matplotlib inline\n",
        "print(cirq.__version__)"
      ],
      "execution_count": null,
      "outputs": []
    },
    {
      "cell_type": "markdown",
      "metadata": {
        "id": "W3k8xcd_SafQ"
      },
      "source": [
        "###### <font color=\"orange\">**Overview**"
      ]
    },
    {
      "cell_type": "markdown",
      "metadata": {
        "id": "XFT-UWW8LstI"
      },
      "source": [
        "> The phase estimation algorithm is used to determine the eigenvalues of a unitary operator\n",
        "\n",
        "Computing eigenvalues has an enormous number of applications in an enormous number of fields. As such, the phase estimation algorithm is used in a large number of other quantum algorithms from solving linear systems of equations in linear algebra (search for the HHL algorithm) to minimizing the number of features required in machine learning applications (search for quantum principal component analysis)."
      ]
    },
    {
      "cell_type": "markdown",
      "metadata": {
        "id": "2i1sshG8UYNI"
      },
      "source": [
        "(Eigen- hat immer was mit Stabilitat zub tun!). Es sei eine quadratische Matrix $A$ gegeben. Die Suche nach einem Vektor $v \\neq 0$ und einer Zahl $\\lambda$\n",
        "sodass folgende Gleichung erfüllt ist, nennt man Eigenwertproblem:\n",
        "\n",
        ">$\n",
        "A \\cdot v=\\lambda \\cdot v\n",
        "$\n",
        "\n",
        "*Man wendet eine Matrix als Transformation an einen Vektor an, und dieser Vektor wird nur verlangert und verkurzt (und bleibt gleich), aber verandert nicht seine Richtung. Z.B. die Hauptachse bei einer Rotation*.\n",
        "\n",
        "* $A$ is the matrix representing some transformation\n",
        "* Den Faktor $\\lambda$  nennt man dann den zugehörigen **Eigenwert** (reell oder komplex), \n",
        "* der Vektor $v$ heißt dann **Eigenvektor** (darf nicht der Nullvektor sein). \n",
        "* Die Menge der Eigenwerte einer Matrix wird als **Spektrum** der Matrix bezeichnet.\n",
        "\n",
        "**Matrix-Vector-Multiplication: $A \\cdot v$ gives same result as just scaling the Eigenvector $\\lambda \\cdot v$.** \n",
        "\n",
        "(Calculating via determinant: The tweaked transformation squishes space into a lower dimension. Daher muss rang < n sein)!)"
      ]
    },
    {
      "cell_type": "markdown",
      "metadata": {
        "id": "Ti0MmESYOnrd"
      },
      "source": [
        "**Remember from Eigenvalue problem: Ax = λx in our case with the unitary operator: Ux = λx**\n",
        "\n",
        "> $Ux =$ <font color=\"red\">$e^{2πi*0.\\varphi_{1} \\varphi_{2} \\cdots \\varphi_{n} }$</font> $x$\n",
        "\n",
        "> Beispiel: Wenn $0.\\varphi_{1} \\varphi_{2} \\cdots \\varphi_{n} = 0$, dann ist $e^{2πi*0}$ = λ = 1, so dass Ux = 1x. Damit ist λ = 1 ist der Eigenwert von f.\n",
        "\n",
        "* Since |λ| = 1, we can write it without loss of generality as λ = $e^{2πiφ}$, where $e^{2πi}$ = 1 and 0 ≤ φ ≤ 1 is called the phase\n",
        "\n",
        "* We saw that in QFT, φ being between 0 and 1 $\\rightarrow$ $\\mathrm{e}^{2 \\pi \\mathrm{i}\\left(\\frac{\\mathrm{x}_{1}}{2}+\\frac{x_{2}}{4}+\\frac{x_{3}}{8}\\right)}$\n",
        "\n",
        "* The term “estimation” comes about not from the fact that quantum computation is probabilistic, but rather in the degree of precision that we are going to compute, or estimate, the phase to.\n",
        "\n",
        "* The phase φ is going to be between zero and one, so we can write it as a decimal in binary notation as follows: $φ = 0.φ_1 φ_2 ···φ_n$, where each φi is either zero or one\n",
        "\n",
        "  * The expression $\\phi=0 . \\phi_{1} \\phi_{2} \\cdots \\phi_{n}$ is equivalent to $\\phi=0 . \\phi_{1} \\phi_{2} \\cdots \\phi_{n} \\Longleftrightarrow \\phi=\\sum_{k=1}^{n} \\phi_{k} 2^{-k}$. Some numbers as binary decimals: \n",
        "  \n",
        "    * <font color=\"blue\">The number 0.5 in decimal is 0.1 in binary, since 0.1 ≡ (1) · $2^{−1}$ = 1/2 = 0.5. Note that 0.1 is the same as 0.100000....</font>\n",
        "\n",
        "    * <font color=\"blue\">The number 0.75 in decimal is 0.11 in binary, since 0.11 ≡ (1)·$2^{−1}$ +1·$2^{−2}$ = 1/2+1/4 = 3/4 = 0.75. So we get more precision with more qubits</font>\n",
        "\n",
        "    * 0.111 = 0.875\n",
        "\n",
        "    * 0.1111 = 0.9375 in decimal, because: $0 \\cdot 2^{0}+1 \\cdot 2^{-1}+1 \\cdot 2^{-2}+1 \\cdot 2^{-3}+1 \\cdot 2^{-4}=0 \\cdot 1+1 \\cdot 0.5+1 \\cdot 0.25+1 \\cdot 0.125+1 \\cdot 0.0625=0+0.5+0.25+0.125+0.0625=0.937510$\n",
        "\n",
        "  * Check also what is the value of the infinitely repeating binary decimal 0.1111111...\n",
        "  \n",
        "  * If it needed to be proved, the above exercise proves that 0 ≤ 0.φ1φ2 · · · ≤ 1"
      ]
    },
    {
      "cell_type": "markdown",
      "metadata": {
        "id": "ZvNUoTns8BF_"
      },
      "source": [
        "**Warum nutzt man bei QPE den Operator $U^{2^n}$?**\n",
        "\n",
        "* $U^{2^0}$: 1 (decimal) = 00001\n",
        "\n",
        "* $U^{2^1}$: 2 (decimal) = 00010\n",
        "\n",
        "* $U^{2^2}$: 4 (decimal) = 00100\n",
        "\n",
        "* $U^{2^3}$: 8 (decimal) = 01000\n",
        "\n",
        "* $U^{2^4}$: 16 (decimal) = 10000\n",
        "\n",
        "\n",
        "**So for falls die Phase 0.111 ist, wuerde bei 3 Qubits QPE berechnen:**\n",
        "\n",
        "* $e^{2 \\pi i 0. \\varphi_{1} \\varphi_{2} \\varphi_{3}}$</font> = $e^{2 \\pi i 0.(U^{2^0} + U^{2^1} + U^{2^2})}$  = <font color=\"red\">$e^{2 \\pi i 0.001 + 010 + 100)}$</font>  = $e^{2 \\pi i 0.111}$\n",
        "\n",
        "* in this case the phase $\\theta$ = 0.111\n",
        "\n",
        "\n",
        "**Compare that with Quantum Fourier Transform:**\n",
        "\n",
        "* In $\\frac{1}{\\sqrt{2}}\\left(|0\\rangle+\\mathrm{e}^{2 \\pi \\mathrm{i}\\left(\\frac{\\mathrm{x}_{1}}{2}+\\frac{x_{2}}{4}+\\frac{x_{3}}{8}\\right)}|1\\rangle\\right)$ dieser Teil ist die **Phase $\\theta$** = $(\\frac{\\mathrm{x}_{1}}{2}+\\frac{x_{2}}{4}+\\frac{x_{3}}{8})$ \n",
        "\n",
        "* Let's say all $x_1, x_2$ and $x_3$ = 1 $\\rightarrow$ $\\mathrm{e}^{2 \\pi \\mathrm{i}\\left(\\frac{{1}}{2}+\\frac{1}{4}+\\frac{1}{8}\\right)}$ = $\\mathrm{e}^{2 \\pi \\mathrm{i}(0.5+0.25+0.125)}$ and in binary form: <font color=\"red\">$\\mathrm{e}^{2 \\pi \\mathrm{i}(0.100+0.010+0.001)}$</font>\n",
        "\n",
        "* **We see that in QFT and QPE it's the same (both in red)!**\n",
        "\n",
        "Jedes $U^{2^n}$ wird immer dann aktiviert, wenn im Control-Qubit oben eine 1 gemessen wird (siehe Bild hier unten):"
      ]
    },
    {
      "cell_type": "markdown",
      "metadata": {
        "id": "yzz61dyQB_6X"
      },
      "source": [
        "![ggg](https://raw.githubusercontent.com/deltorobarba/repo/master/quantum_118.png)"
      ]
    },
    {
      "cell_type": "markdown",
      "metadata": {
        "id": "et3XRupiWg0n"
      },
      "source": [
        "**QPE in Steps:** [Source](https://www.ryanlarose.com/uploads/1/1/5/8/115879647/quic03-phase-estimation.pdf)\n",
        "\n",
        "![gg](https://raw.githubusercontent.com/deltorobarba/repo/master/quantum_117.png)\n",
        "\n",
        "\n",
        "* We let U be a unitary operator and |ψ⟩ an eigenstate* (Eigenvector, Hadamard (+) is an Eigenstate) with eigenvalue $λ = e^{2πi0.φ_1}$\n",
        "\n",
        "1. We first perform a Hadamard gate on the first qubit to get the state \n",
        "\n",
        "  * Original state of both qubits: $|0\\rangle \\otimes|\\psi\\rangle$\n",
        "  \n",
        "  * Hadamard on first qubit: $|+\\rangle \\otimes|\\psi\\rangle$ =\n",
        "  \n",
        "  * <font color=\"red\">Distribute superposition: $|0\\rangle|\\psi\\rangle+|1\\rangle|\\psi\\rangle$</font>\n",
        "\n",
        "  * <font color=\"blue\">this part above is the rule from tensor products: If the state of the first particle is a superposition of two states, the state of the two-particle system is also a superposition: $\\left(v_{1}+v_{2}\\right) \\otimes w=v_{1} \\otimes w+v_{2} \\otimes w$\n",
        "</font>\n",
        "\n",
        "  * we have intentionally omitted the normalization factor of 1/√2 for clarity\n",
        "\n",
        "2. We then perform a controlled U operation, which we have written as $U^{2^0}$\n",
        "\n",
        "  * $|0\\rangle|\\psi\\rangle+|1\\rangle$ <font color=\"red\">$U$</font> $|\\psi\\rangle$ =\n",
        "\n",
        "  * $|0\\rangle|\\psi\\rangle+$ <font color=\"red\">$e^{2 \\pi i 0. \\phi_{1}}$</font> $|1\\rangle|\\psi\\rangle$ =\n",
        "\n",
        "  * $|0\\rangle+$ <font color=\"red\">$e^{2 \\pi i 0. \\phi_{1}}$</font> $|1\\rangle) \\otimes|\\psi\\rangle$\n",
        "\n",
        "* Here are 2 things very important: \n",
        "  \n",
        "    * The second qubit register containing |ψ⟩ hasn’t changed. We shouldn’t expect it to, **since |ψ⟩ is an eigenstate of U. Thus, no matter how many times we apply U to this register, nothing happens to |ψ⟩**. But if we apply it more often it will 'amplify' the phase (Not in the sense of amplitude amplification)\n",
        "    \n",
        "    * what’s the point of applying U then? The effect was that **it wrote some information about the eigenvalue into the relative phase of the first qubit**. Namely, the entire effect was to\n",
        "map: $|0\\rangle+|1\\rangle \\mapsto|0\\rangle+e^{2 \\pi i 0. \\phi_{1}}|1\\rangle$\n",
        "\n",
        "3. How can we read out this information from the quantum state? Consider the effect of applying another Hadamard transformation on the first qubit (without another H we will always measure 50/50 % a 0 or 1), which will produce (ignoring the normalization factor of 1/2): \n",
        "\n",
        "  * $H(|0\\rangle+$ <font color=\"red\">$e^{2 \\pi i 0 \\cdot \\phi_{1}}$</font> $|1\\rangle)=$ $(1+$<font color=\"red\">$e^{2 \\pi i 0. \\phi_{1}}$</font>$)|0\\rangle$ + $(1-$<font color=\"red\">$e^{2 \\pi i 0 . \\phi_{1}}$</font>$)|1\\rangle$\n",
        "\n",
        "  * for more than 1 Qubit we use on Quantum Phase Estimation $\\frac{1}{2^{\\frac{n}{2}}} \\sum_{k=0}^{2^{n}-1} e^{2 \\pi i \\theta k}$ then the inverse Quantum Fourier transform:  <font color=\"red\">$ \\frac{1}{2^{\\frac{n}{2}}} \\sum_{x=0}^{2^{n}-1} e^{\\frac{-2 \\pi i k x}{2^{n}}}|x\\rangle$</font> so that: $\\frac{1}{2^{\\frac{n}{2}}} \\sum_{k=0}^{2^{n}-1} e^{2 \\pi i \\theta k}$ <font color=\"red\">$ \\frac{1}{2^{\\frac{n}{2}}} \\sum_{x=0}^{2^{n}-1} e^{\\frac{-2 \\pi i k x}{2^{n}}}|x\\rangle$</font>\n",
        "\n",
        "  * inverse QFT for 1 Qubit is: $ \\frac{1}{2^{\\frac{1}{2}}} \\sum_{x=0}^{2^{1}-1} e^{\\frac{-2 \\pi i k x}{2^{1}}}|x\\rangle$ = $\\frac{1}{\\sqrt{2}} e^{-1 \\pi i k x}$ fur $k$ = $\\varphi$ = 0 and $x$ = 0. --> somehting is not right here yet!\n",
        "\n",
        "Thus, we measure with certainty (i.e., not probabilistically) a state that tells us exactly what the phase,\n",
        "and hence the eigenvalue, is.\n",
        "\n",
        "*Why are we starting with an eigenstate? Doesn’t this defeat the whole purpose? After all, we could just do U|ψ⟩ and see what it’s effect was. Answer: here, we’re just using the eigenstate for pedagogical purposes. As we’ll see, the general phase estimation algorithm does not require this."
      ]
    },
    {
      "cell_type": "markdown",
      "metadata": {
        "id": "DTQduwVb5R5p"
      },
      "source": [
        "Remember in **Quantum Fourier Transform**: \n",
        "\n",
        "\n",
        "> x1 = $\\frac{1}{\\sqrt{2}}\\left(|0\\rangle+\\mathrm{e}^{2 \\pi \\mathrm{i}\\left(\\frac{\\mathrm{x}_{1}}{2}+\\frac{x_{2}}{4}+\\frac{x_{3}}{8}\\right)}|1\\rangle\\right)$ \n",
        "\n",
        "* <font color=\"blue\">$e^{2\\pi i}$ = 1</font>\n",
        "\n",
        "* In QFT we change the phase <font color=\"blue\">$\\theta$ in $e^{2\\pi i \\theta}$</font> (<font color=\"red\">=Eigenvalue of Oracle function $U$ associated with an eigenvector |u⟩</font>)\n",
        "\n",
        "* Phase <font color=\"blue\">$\\theta$ is $\\frac{x_n}{2^{k}}$ with $x_n$ 0 or 1</font> state and $k$ number of Qubits.\n",
        "\n",
        "* A controlled-R quantum gate applies a relative phase change to |1>. The matrix form of this operator is: <font color=\"blue\">$\\hat{R}_{k}=\\left(\\begin{array}{cc}1 & 0 \\\\ 0 & e^{2 \\pi i / 2^{k}}\\end{array}\\right)$"
      ]
    },
    {
      "cell_type": "markdown",
      "metadata": {
        "id": "2f7UKWz2y03L"
      },
      "source": [
        "**Now in Phase Estimation**: \n",
        "\n",
        "> In $\\frac{1}{\\sqrt{2}}\\left(|0\\rangle+\\mathrm{e}^{2 \\pi \\mathrm{i}\\left(\\frac{\\mathrm{x}_{1}}{2}+\\frac{x_{2}}{4}+\\frac{x_{3}}{8}\\right)}|1\\rangle\\right)$ dieser Teil ist die **Phase $\\theta$** = $(\\frac{\\mathrm{x}_{1}}{2}+\\frac{x_{2}}{4}+\\frac{x_{3}}{8})$ \n",
        "\n",
        "Quantum phase estimation addresses the following problem:\n",
        "* We have a $n$-qubit oracle function $U$, encoded in the form of a controlled- $U$ unitary.\n",
        "* **$U$ has an eigenvalue $e^{2 \\pi i \\phi}$, associated with an eigenvector $|u\\rangle$ which we can prepare.**\n",
        "* <font color=\"red\">**We wish to estimate the phase, $\\phi$, of the eigenvalue to $t$ bits of precision.**\n",
        "\n",
        "*Given a unitary operator $U$, the algorithm estimates $\\theta$ in $U|\\psi\\rangle=e^{2 \\pi i \\theta}|\\psi\\rangle .$*\n",
        "\n",
        "* Here $|\\psi\\rangle$ is an eigenvector and $e^{2 \\pi i \\theta}$ is the corresponding eigenvalue. \n",
        "\n",
        "* <font color=\"red\">For example: the eigenvalues of X are −1 and 1 and have the eigenvectors |−⟩ and |+⟩ respectively.*</font>\n",
        "\n",
        "*Since $U$ is unitary, all of its eigenvalues have a norm of 1.*"
      ]
    },
    {
      "cell_type": "markdown",
      "metadata": {
        "id": "6KSwPWSvQ0en"
      },
      "source": [
        "**Exkurs**:\n",
        "\n",
        "* und $\\mathrm{e}^{2 \\pi \\mathrm{i}}$ = 1 \n",
        "\n",
        "* weil $\\mathrm{e}^{\\pi \\mathrm{i}}$ = -1\n",
        "\n",
        "* und: 1 + $\\mathrm{e}^{\\pi \\mathrm{i}}$ = 0, Spezialfall der [Eulerschen Formel](https://3.141592653589793238462643383279502884197169399375105820974944592.eu/e-hoch-ipi-und-die-eulersche-identitaet/): $e^{i x}=\\cos (x)+i \\sin (x)$\n",
        "\n",
        "*Die Eulersche Formel / Identität lässt sich sehr anschaulich mit Hilfe von Taylor-Reihen erklären und beweisen. Setzt man x=π in die Eulersche Formel ein, so bleibt wegen cos(π)=-1 und sin(π)=0 genau das gewünschte Resultat übrig.*"
      ]
    },
    {
      "cell_type": "markdown",
      "metadata": {
        "id": "TdlCGVjL964z"
      },
      "source": [
        "**Quantum Phase Estimation**"
      ]
    },
    {
      "cell_type": "markdown",
      "metadata": {
        "id": "hs3iVMYEOSrz"
      },
      "source": [
        "* algorithm for determining the eigenvalues of a unitary operator\n",
        "\n",
        "* the [quantum phase estimation algorithm](https://en.m.wikipedia.org/wiki/Quantum_phase_estimation_algorithm) (also referred to as quantum eigenvalue estimation algorithm), is a quantum algorithm to estimate the phase (or eigenvalue) of an eigenvector of a unitary operator. \n",
        "\n",
        "* More precisely, given a unitary matrix $U$ and a quantum state $|\\psi\\rangle$ such that $U|\\psi\\rangle=e^{2 \\pi i \\theta}|\\psi\\rangle$, the algorithm estimates the value of $\\theta$ with high probability within additive error $\\varepsilon$, using $O(\\log (1 / \\varepsilon))$ qubits (without counting the ones used to encode the eigenvector state) and $O(1 / \\varepsilon)$ controlled- $U$ operations. \n",
        "\n",
        "* The algorithm was initially introduced by Alexei Kitaev in 1995.\n",
        "\n",
        "* Phase estimation is frequently used as a subroutine in other quantum algorithms, such as Shor's algorithm and the quantum algorithm for linear systems of equations."
      ]
    },
    {
      "cell_type": "markdown",
      "metadata": {
        "id": "DdumWm_ZQExJ"
      },
      "source": [
        "Remember from phase shift R-gates (Pauli Z, S, T, etc):\n",
        "\n",
        "> $P(\\varphi)=\\left[\\begin{array}{ll}1 & 0 \\\\ 0 & e^{\\varphi i}\\end{array}\\right]$\n",
        "\n",
        "here 𝜑 (phi) is the phase shift (azimuth) with the period 2𝜋, so:\n",
        "\n",
        "> $P(\\varphi)=\\left[\\begin{array}{ll}1 & 0 \\\\ 0 & e^{2𝜋i}\\end{array}\\right]$\n",
        "\n",
        "$\\theta$ (theta) is then the other component to determine position on Bloch sphere. So that it becomes:\n",
        "\n",
        "> $P(\\varphi)=\\left[\\begin{array}{ll}1 & 0 \\\\ 0 & e^{2 \\pi i \\theta}\\end{array}\\right]$"
      ]
    },
    {
      "cell_type": "markdown",
      "metadata": {
        "id": "BTKtdsbfSbYy"
      },
      "source": [
        "phi: $\\phi$ bzw. $\\varphi$ is azimuth = phase"
      ]
    },
    {
      "cell_type": "markdown",
      "metadata": {
        "id": "eSOrCN5j8QzD"
      },
      "source": [
        "https://quantum-computing.ibm.com/composer/docs/iqx/guide/quantum-phase-estimation"
      ]
    },
    {
      "cell_type": "markdown",
      "metadata": {
        "id": "cGEsuA3Loy_Q"
      },
      "source": [
        "**Zusammenhang QFT & QPE:**"
      ]
    },
    {
      "cell_type": "markdown",
      "metadata": {
        "id": "xITdjQPll1bU"
      },
      "source": [
        "Für Qubit 2 ausführliche Erläuterung, warum es dem T Gate entspricht:\n",
        "\n",
        "> $\n",
        "T|1\\rangle=\\left[\\begin{array}{ll}\n",
        "1 & 0 \\\\\n",
        "0 & e^{\\frac{i \\pi}{4}}\n",
        "\\end{array}\\right]\\left[\\begin{array}{l}\n",
        "0 \\\\\n",
        "1\n",
        "\\end{array}\\right]=e^{\\frac{i \\pi}{4}}|1\\rangle\n",
        "$\n",
        "\n",
        "Quantum Phase Estimation will give us $\\theta$ where:\n",
        "\n",
        "> $\n",
        "T|1\\rangle=e^{2 i \\pi \\theta}|1\\rangle\n",
        "$\n",
        "\n",
        "We expect to find für x=1 und n=3 in der QFT formel $e^{\\frac{2 \\pi i 1}{8}}$):\n",
        "\n",
        "> $\n",
        "\\theta=\\frac{1}{8}\n",
        "$\n",
        "\n",
        "Diesen Wert sieht man oben in Qubit 2 !!"
      ]
    },
    {
      "cell_type": "markdown",
      "metadata": {
        "id": "5zdGOph1onK5"
      },
      "source": [
        "> $\\theta = \\frac{x}{2^n}$\n",
        "\n",
        "fur x= 0 or 1 in a given qubit, and n=number of qubits\n",
        "\n",
        "für: $e^{2 i \\pi \\theta}|1\\rangle$"
      ]
    },
    {
      "cell_type": "markdown",
      "metadata": {
        "id": "kWASb0cOAqKB"
      },
      "source": [
        "**Example: T-Gate**"
      ]
    },
    {
      "cell_type": "markdown",
      "metadata": {
        "id": "ekBrdix5AwOu"
      },
      "source": [
        "Let's take a gate we know well, the $T$-gate, and use Quantum Phase Estimation to estimate its phase. You will remember that the $T$-gate adds a phase of $e^{\\frac{i \\pi}{4}}$ to the state $|1\\rangle$ :\n",
        "\n",
        "$\n",
        "T|1\\rangle=\\left[\\begin{array}{ll}\n",
        "1 & 0 \\\\\n",
        "0 & e^{\\frac{i \\pi}{4}}\n",
        "\\end{array}\\right]\\left[\\begin{array}{l}\n",
        "0 \\\\\n",
        "1\n",
        "\\end{array}\\right]=e^{\\frac{i \\pi}{4}}|1\\rangle\n",
        "$\n",
        "\n",
        "Since QPE will give us $\\theta$ where:\n",
        "\n",
        "$\n",
        "T|1\\rangle=e^{2 i \\pi \\theta}|1\\rangle\n",
        "$\n",
        "\n",
        "We expect to find:\n",
        "\n",
        "$\n",
        "\\theta=\\frac{1}{8}\n",
        "$"
      ]
    },
    {
      "cell_type": "markdown",
      "metadata": {
        "id": "mSYdtNizBDB4"
      },
      "source": [
        "Proof:\n",
        "\n",
        "* $P(\\varphi)=\\left[\\begin{array}{ll}1 & 0 \\\\ 0 & e^{2 \\pi i \\theta}\\end{array}\\right]$\n",
        "\n",
        "* $e^{2 \\pi i \\theta}$ with $\\theta=\\frac{1}{8}$\n",
        "\n",
        "* $e^{2 \\pi i \\frac{1}{8}}$\n",
        "\n",
        "* $e^{\\frac{\\pi i}{4}}$ = $T|1\\rangle$"
      ]
    },
    {
      "cell_type": "markdown",
      "metadata": {
        "id": "QuAipDzXfNAU"
      },
      "source": [
        "###### **<font color=\"black\">Understand Connection between Phase & Measurement Probability**"
      ]
    },
    {
      "cell_type": "markdown",
      "metadata": {
        "id": "maEauPwC3R2E"
      },
      "source": [
        "https://javafxpert.github.io/grok-bloch/"
      ]
    },
    {
      "cell_type": "code",
      "metadata": {
        "id": "IsKhRqln2QM9"
      },
      "source": [
        "# Create Vanilla Qubits\n",
        "# Named Qubit\n",
        "a = cirq.NamedQubit(\"a\")\n",
        "\n",
        "#Line-Qubit\n",
        "qubits = cirq.LineQubit.range(1)"
      ],
      "execution_count": null,
      "outputs": []
    },
    {
      "cell_type": "markdown",
      "metadata": {
        "id": "TMzfeyUJ4PE6"
      },
      "source": [
        "See how you can change the outcome if you change the phase:"
      ]
    },
    {
      "cell_type": "code",
      "metadata": {
        "colab": {
          "base_uri": "https://localhost:8080/"
        },
        "id": "cNUYOd9a2TD9",
        "outputId": "f708fcd0-a696-4687-fe8c-26048c56f4e1"
      },
      "source": [
        "# Define operations\n",
        "ops=[cirq.H(a), # Superposition\n",
        "     cirq.Z(a), # Change phase of qubit\n",
        "     cirq.T(a), # Change phase of qubit a bit more\n",
        "     # Phase is now: 1*π for Z + 0,25*π for T = 1,25*π\n",
        "     cirq.H(a), # without the second H, the probability is always around 50/50 after measurement !!\n",
        "     cirq.measure(a)] # Measurement\n",
        "\n",
        "# Build circuit\n",
        "circuit=cirq.Circuit(ops)\n",
        "\n",
        "print(circuit)"
      ],
      "execution_count": null,
      "outputs": [
        {
          "output_type": "stream",
          "name": "stdout",
          "text": [
            "a: ───H───Z───T───H───M───\n"
          ]
        }
      ]
    },
    {
      "cell_type": "code",
      "metadata": {
        "colab": {
          "base_uri": "https://localhost:8080/"
        },
        "id": "fwMqXPdq2VSf",
        "outputId": "0d2d6ff4-7549-4499-b176-09c04ef639c6"
      },
      "source": [
        "simulator = cirq.Simulator()\n",
        "result = simulator.run(circuit,repetitions=100000)\n",
        "print('Measurement results')\n",
        "print(result)"
      ],
      "execution_count": null,
      "outputs": [
        {
          "output_type": "stream",
          "name": "stdout",
          "text": [
            "Measurement results\n",
            "a=1111110101111111111111101111011111111111011101011111110111111011111011111111100111011011111011111111111111111111011110111101111111111100101111011111111111111011111111111110101111111111111111101101001111111111111011111111111111111011110111110111111111111101111111011111011111110010111011111111111111101011111111111111111111011101111110111111110111101011111101101111111111111111111111111111111111101111110011111111111101111111111110111111011111111111111111101101111011010111111111101010101111101111110111111111111111111111111101110111110111101111011111110111110111111111001111111110001111111110111011111011111011110111111011111111111111111111011111111110111111111100111011111110111111111111111111011001010111111111001111111111111110011111110100110011111111111111111111111111011111111111101111111111110111101100111111111111111111111011110101111001111111011111111111111111111111111110111111111111111111111111111111111111111111110010111111111111111111011111111111111111111011101011111111101111111110101111111110111111110111011011011111111111111111111111111110111001111111011011111101111110111110111111111111111101111110011111110111111111101111101111011111101111111101111101110111011111111011110111111111111110111111111101111011111111111111101011111001111011111111111111111110111111101111110101111111111111111111111111101011101001011101100101011111011111111101111101110011111111111111111111011011111111111011111101110111111111111111111111111111111111110101111111101111001111110101111111111111111111111011111111111111010111111110111110010111111111111111111110111111111101100111111111111101111100111011111011111111111111111101111111110111111111111101111111111101111111111111011111111111011111111111111101111100111111111111111111111011110111101011111111111111111111110111101111101111111111101111111110110101111110111101111111111111111111111001111111011111111111110111011111110110111110111111011111001110111110111111111111111111111111111111111111111101111110111111011111111111111111111110111111110111110101111010111111111101101011111111111111011001111100110101111111011111111111101111111111011111111111111111111110111011101111011111111111111111111111101100111111110111111111111110111010111111111100010111111111110111111111100110111111101111111111111100111111111101101111111111111111111111111010111111111111111111111111010011111111111101111101111111111111111111111111111011011111110111111111111111101011111001111111111011111011101110111101011101110101111111111011111111111111111101111111111111001110111011111111111011010010111111011111111110111111101111111111111101011111111101111111010111111111111110111111111111111111011111111111110111011111011011011111011111111011110111111111111111111111111111111011101011110111110111111111111111111111011110111111101111111111111010111111011111010101111111111111110111101110111110111111101011111101111111111111111011111111111101111111010111101110111011111111111111101111111111110111101111011011010111111111110111111111111110111111111100111111101111101111111111111111111110111101011111110111011111001111111111111111101101110110011111110111111111111110110101111001100111111111111111111111110111111010010111111111101011111111111101111111111101110111111110111111111111111101111111011010011111011111111101111111011011110111111011111101111111001101111110111110111011111111111011011010111111111101111101001011111111111110110111111111110111111111011110111111111101111111110111110011111111110110111111111110111111111011011111011011011110111101010111010011111011101111111011110111011111011111011110001111110111011111111110001111011111111111100100100111110111111111101111101100011111111111001101111110101111111111011101111101111101111111101111110111110111111101111110111111100111110111111101111111110111111111101111110111101111111111101111111111101100111110111111101111111011111101101101011111111111111111101110111111101111110100111011110110111111101111111111111011011010111111111110101111111100010111111011111111110110011111101111101111111111111111111111111111111111101110111111111101111110101111110111010111111101111111110111010111111111111110001111110111111110111111111111111111111111111111110111111111111111111111011111111111111111011101111111111111111111111111111111110111111111110110111111111111111000111111111011111101011101111111111111111101011111111111111011110101111111111101111011101110111111111111111101110111111111111111111111111111111111111010111111011011111111111101111111010111111111111111011111111111111111011011100111111011111111111101111101111101111111111101111111001111111111110110111110110111011101011101111111111111101111110111110110111111111011011111101111111111111110101110111111111111110111111111100111111111111101111111111111111111111111101110111101111111001111011100111011101111011010111111111111001111101011111110101111111111101111111111101111101101111111101111111111101100000111111101111111111111101011111111101111111100011111111110111011111011111011111111111111111111111111101101101101111011101111111111111011101111111011111100111101111111111111011110101111111011111011110110111110011011111111111111101011111110111111110111011110101111111111110111111010111111011011111111101101111101111011111101111111011111111111011011110111110111011111110111111110111111111101110111111101110111111101111111100110111111111111100101111111110111111111011111111111111111111110101111110001101111111111110011111111111111111110111111111111101111111111001110111010110111111111111111111111101110111111101011011101011111111111111111110111111111110111111111111111101111011111111111001111111111111111110111111101111101101111111111111101111111110011110111011110111111111011101111111111100111110010111111110111111111111111111111110110001100111111111111111111111101111111111101101111111101011010111101111111111111101011111110011111111111111111110011001111110110111101110111111101111111111111011100101111110111011111111101111111111111110110111111011111111101111110111111111111111101101111011011011110111111111101111001010100111011111111111111010011111111111111111111111111111101111100110111111111111100111111111111111111110101111111101111111100111110101011111111111110101110111110011111111101111111100101111111111111101110111110011111111101111111111111111101111101111111111110011101011011101110101110111110110111101111111001011111011011111111111111111101111111111111111111111011111111111111111110111111111111111110011111110111001111111111111011011110111110111101111011111111110111111111011111101011101111111111111111111010111111111101111111111111110011111111111111111101111111111101111111100111110111111111101110101111100111111111101111010111111111110111111111111011110101111111110111110111111011111111011111011101111111111111101011111011111110110100111101101111011111111111111111101101110111110111111110111001101111101011111101111011011110111111011011111111011111111110101111011111111101111111010110111111110011110111110111111110001011110111111101000110101111111111111111111011111111111111111111111111111111101111111111101111111111111111011111111111111101111111111101101111101101011111111111111111111111111111111111111101111011111111110111111011101110111101111111111111011011111111101111111111111110111101111111010101111100111101111111111101111111111111111001110011011011111111111111111011001111111111001111111111111111110101111111111111111111011011111111111110101010011111101110110111111111001111101100111111010101111111111111101111111111111101111111111111110111011111111111101101110111111111011111111111111111101111111111111111110111110101111111111111101111011011101111011110111111111110111011101111101011110001111110111111011111111011110111111110111111111111111111111111011101011111110111111110111111111111111111011111110111110111101111111111001010111111111111011011111111111111101111111111101011101111111110111111111010101011111111101111011111111101111111111011011101111001111110101111111111011101111011111111111111111111111111011111111111111111111111110011111111111111100111110101111111011110111111011100011111111111111101110111111011111110111111110010110111101011101101101111111111101111111010111110111101111111111111111111101011111101111011001011111101111001111111110111111111110111010111111111101111111111111111111101111111111111111011101111101111111110111101111111111111111111011111111100111111111101011111101111111111111011111111111111111111011111111111101111111110111111011101011111111111101111111111101101111111111111111011111111111111111111111111110111111011111101111111111111111011111110101000111111111111110111110110101111111111111100011111011111101100111101111111111111011011011111111111001101111111110101111101010111111100111100111111111111111110111011111111111111111111111011111111111011111111111001111110011010011111111111101101111101011111111111101111111011111111011011001111111111011111111011111010110110111111111111101001111100111111011111111111011111110111111101011111011111111111111111111111001011111110111111111111101011101011111101110011111111110111101111101111011011111111111111111111101111101101111111111111111001101111011111111101011011011111111111111111111111111111111111111011110111111110111111111101111111111101111111101111110111111111111111111011111011111100010111111110111000101111101001111111111101101111111110111111111111111101111111111111111111101111000011111111011101111011111111111011111110111101101111111110110101101111111111011011111111111111111111111110110101101111111111111110101111111111101111111111110111011111111111111100111111111111011111111111111110110011101000111111111110111111111111111110101010111101111111111110111111101110111011111011110101111111111111100111011111111111111011111111110111111100111111111111111111111011111111111111111010110111111111011111111110111011111011101111111011111111110110111111110110011101011111111111011011011011111111110111111111111111011101111111101111111111101111111111111111110111111111111110111111100111111111110110111111011011110111111111111111110101011111101101111111011111111101111111111111111101111110111011111011111111111101001111111111111011111111011111111111111011011110101011110111111101111111001111010010011111101111011111111111101111111111101111111111111111111111110110110111111111111110001111110111111111111111111111111001111011111110111011111110111111110111111111111011111111110111011111001011011111111111111000111111111101101111110110110111111110010111111011111101101111011111111011110111111111111111111111111111111011011111111111111111111101111111111111111111111111111111111111111101101111111110111111111111111011111111111111111111111111011011110011101111111111111111100001111111110011111101111110011001111111111111111111111111111110111011111111111011110111111111010111111111011111111101111111111111111111111110110110101111001111101111111101111001111001111011110111111101111111111110011001011110111111011010111111111111111111111000110111111111111111111110110101111111111111111111111101011110011001111111111111111011001111111111101111111111111111111111111010111111111111111110101111001111111101101111101111111001101111111111110111111110110111111111111111111111111011111111011111111111111111010011111111111111111111111111011111111111101011111111111111101111111111111111011101111111011111101111011111111110110111111111110111011111110011111111100111111001101111111111111111110111111111001101110011001011111011111111111111111111010111111110111111101111111111111111111111111111011111111111101111111101110111111110011111110111110111101001111111101111111111101110111111111111111110111111101111111111111111011011111111111101101101101111111101011111111111110101111111111101111101111111010111111011110111111111111011111111111011111011111110011101111111000111111111111101100111011111111110111111001111001111111111111111111110111111001111111111011111110110111101111111010111111111110011101111110011011111111111101101011111101111011110110111110010011101111111111011111111111101110011111111111111111111111111111111011111010101111111111101110111111111111111111001111111111101111111110011110111111001111111111110111011110111111111011111111111110101011110111011111110111111111111111111111111111111111111111111111111011100111111111111111011111111110011101110111110111111110111111111111111011111111011011101111110011111011111111110110011111110111011110111111111111011111111011111101111111011111111111101000110101010111111011111111111111111011101111111111111110011111101111111111111111101010111111111111111101101111100111011101010110111111111111111111101111110101101111111111100111111101111111111011111011101111111011011111111111011111111111101110000111110111011011111111001111111111011111011111111111110111011000101111101101111111111110110111011110011110111111101011011111111111011111111111111011110110111110111111101111011111111111111111111111101111111111111111101111111011110111010111110111111101111111111111011101111111110111011101111101011111111101111101110111111111011111101111110111111111111111111111111111011111111111111111111101111111111111111111111110010111111111111011111110010111111111111111110111111101100111110111111111111111111101111111011111111111111101111111011111111110011111111110110111110111111111011111111111111111011110111111111011111110101111010111101111111110111011011001110111011111111111110111111111111111111111111111010110101001111101110111111111101101101101111111111011111001111111111111111111101011111111111111011111111111111011111111101010011111110111101111101111110011011100110111100101111001110101111111111111111111111110111011111110110111111111111111101110111011111111011111111111011111011011111111111111111111111111111101011111111111111111101111111111110111111111111100011101111111111101111111111111111111111111111111011111111111111111111101111111101101111111111101011111011111111111111111111101111111111111111111111111111110111111111111110111110111111111110011100111111111111100110010111111111110110011111111111111111111110101111111101111111011101011011111110011111111111111110111111101010111111111001111111111110110101110111101111111111110110111101110101111111111111111101111111111111111111111101101111111111111101101100111111111111111011111111111110101101110011111111111111111011111011111111110100110111111111111111111111111111010110001011101111110011111110111011111001011111111111111111111110110111111111111111011111111110111110100111111101111101111111011111101111111111111101111110111111111111011110111111111111111111111111011101111111001111001111111111111111111111011111101010111111111011110111011111011111111111101111010111110111111111111111111011111111011101111110111111011111111110111101011111011111111111111111101110011111011111101011011111011111111101101110111111111111110111110100111111111111011101011111011101111111101010111110000110101111111111011111111011111110100101011110111111110111111111111111111100011011011111101111111111100111110110111011110010011001101010110011111111101110011110011111101011111111111011010111101111111111111110111111101110011111111011101011111111111111111111111101100111011111111111111111111101011111111111101111110110111111111111110111111101011111111111110111111111111110111101100111110110110111111111111111111111111101011011111111111111111111111110111111110110111011111111111111111111101101111101111101111111111111111101011111111110111111111110011011101101111111001111111111001111011111011111110110111111111111111111111110111110111111011111011111111000011111111111111111101111111111111101011111111101011111111111111110111111001111101111101111111111011111111111110111011011011111111111111111001111111111111111011011111111111101111100110111111001111111111101111101100111111111111111111111111111111111101111100011011110011111111101100011111110111110101011111111111101111111101111101111111110111011111111110111011111100111111111011111011011111111101011111111100101101101111111011111111101111111011111101010111110111111111011111011101010111110011111010100111111101111111111111011111111111111111111110110011111111111000111110011111111010111111111110110111111010111111111111011010101111111111011111111101111111011111111111111010111111101111101111011101111111110011111111111111111011111111111001111011101011111101011111111011111111111111110111111111111111111111110101101111111111011011111111111010111110110011010101111111111111110111011111101111011111101111101110011111111011111011110111011111111111111111001001100110111111000111111101111111101111111111111011101011111111111111111111111101111101011011011111111111111111110011111101111111111011111111111101111101101111111011111111111111111011111111011011111110110111111111111111110111110111000111111111111101110111111111111111100111011111111101111111100101011011111111111100111011111111110101100111111111101111110111111111110101111110010111111111111111111111110111101100111101101111101001111110111110111111110111111111011001111101111110111011111110011111110111101111110101011111110111111110111111101111111111011100101110110101111111111101111101111111010111111111111111111111101111111111111111111100111111001110111110111101111110110111111111111111111111011111100111011111101111101110110111111111011111111111110111111110011111011111111111111111111010111111111011010111111111111111111111111101111101111111110011111111001111111111111111111110111110111111101111011101111111011011111111101011111110111011110011111111111110111101111111111111111111111110111111111101111010110011111111111010111101111110111001111110111111111111111011111111111111111110101111111111111101100110001011111111101111011101001011110011110111111111110011101111111111111111011011111111111111110111011111111110100111100111111111111110110111011101110111111111111111111111111011111111111111011110111111111111011111011111101101110111111011111111001111011100111011111101011011010111011111110111011111000111011111111111101011101111111111111111111111111111111001111011111111111110011111111111011111111101111111110111111101111111111110111010100110101111110111011111111011101111111001101111110111111110111010111111111111011101101011111111101111111111111101111010111111111111111110111101111111110111111011111111111111111101111111111110110111000111111111111111111110111110111110111101101101111011111111111111111111111111110100111111011111010111111111111111111101110011101111011011111101111111111111111111111111111111111111111011111110111111011111011111111111111111110101111111111111110111011111110111111111011010111111101101110010111111111010111111111111111111111110111101101111111011111111111000011110101111111011011111111111011111111111111111110111110111110111010101110111111111011111111101101101111011111111111011111101011111111010111111110110111111011111101011101111111111011111111110011011111011111111111111111111111111101111101111110011101111111111001110011111111111011111110001101111111111111111111111011110111111101111011111111010100101111111111111111111100011100111011011111111110011111111111110101111111111111111101101111111110111111111011111111010110111011111111111111100100110111101111111100010111111111111110111110011010110011110100001111111111111101111111111111111111110111101111111111111111111111111111111110010011111111111111000111110111101110111011111101111111011111111111111111011111111111111111111111111110111111111011111111111111111110110111111110110110001111111111110111111111111011111111111101011111111111101111101010111111111100111101011101111111111011101111011111101111011101111111111011011111101101111001111011110101110111111111111111111111101011111011011111111111111111101111111111111111110101101110111111111111100111111110101111111111111111111011011111111111100101111111111111111110111111011100111111110111001011111101101111111110101111111111111111010110111111111111010101111111111111111110111111111111011111011111101101110111111011011111111111011111101111111011110110111011111111011111111111111111101111111111111111111010111111010101111111101110100111111111111101110111111111111111111111111111101111111011110111101111111100111111101111011111111110111011111110011100111101110101110011111111111111111111111101111111101101110100111010111101111111110111111111111111111011111111111111011011011111110111111111101110111101011011111111111111101111100011101111111111011111111011111110111111111111110100110111010111001111101111110111111111111111111111101110111011111111111011111110011111111011111111111111111110111111111111111111111101101111111111011001101011111111111101111110111111111111110001111111111111111110111111111010111100100111111111001110010111111111100111111111111111111111111111111111010111111111110111111111011111101111111111111111111111101101111101111111111111111011101111011110111111011111111111110111111111011011111111001011111111111111111111011111111111110110111111110110111111101111111111101111010110101111111110111111111111111101111111111011111011111111111111111011101110111011001111110111011110010011110010111101111001111111111111111111111011111011111111111111100111111111011110011111101111111111111011011110111110111110111111111101111111010111111111111011111111010110111111111111101111111011011011011011111111111111111111100110110101101110111111111110010111111110110111101011011111110111111111111111111111101011110111111111111111111111101111111111110011111111101011111110110111111111111110111011101111111111111111101111111111011111110111111011111111011111111111111111111101001011101101111100011111111111111111111111111011111111111111001011111011111111011110111101111011111011110111111010111111101101111110101100111111111111101101110111011011011111110111011011111111111111101111111110111111101111111111111110111110111110011110011101111011101111001111111111111111111011111011111011111111101111101111101111111111110011101111101111011111111110111111111111011111111111111111111111111110011110111111101111111111110111111101011111111111111111111111101111111111111111111111101111111011111111111111100010111111111111101111101110110001101111111111111111111111111111101100110011111101111111111111111111011101110111110111101011111110111110101111111111111111011111111111111111111111011111101111111111111111010010111111011110111101111111111101111111111111111111111111111101011010111111111111011111111111111110111110111111111111111110111111111101110101111011111100111111011111111111111111111100111111111111111111111010011111111011110110111111111001111011110111010101011111111111011110110110011011011111111111111101101111111111111111111110111111110010111111101111111111111101110111111111111111010110110111111111111111111011110111110111111111111111011111111101111101011111111111010101111101111111111011011111101110111111111111111011101111111111010101111111111011101111111111111001111111111111111101111111111001111111110111111011011111111111111111111111100111110011011111111111111101111111011111111111111110111111111111111111101111111011101011111111110111111111111111111111111111101111111111011111011111101111111111111111101111001111110111110111011101111110111111111111111011111011111111111111111111010111011111011101011110111111111111001111001111110101111111010111011001111110001110111110111111111111010111101111111110111100011111111111110101011100111111111001111110111110111111100110111111111101111111101010011110111101101110011111110001111101111111111111110111111111111111111111111100011111101111111111111111101110011111110010111111101111111111010111101111111111111111010111101110111111111111111011111110111101101011100111111111111110111111111111111110101111111111111111110011111111110101101011111111111111111110111111101101110111110111111111111110111011111011111111111111111001111110101110111111111010111101011111010111111110111111111111111101111101111111111111111111010010111010111111110011011111000111111111111111100111111111111111101111111100111111010111111011111111111111111011111110111111101111110110111111101111110011101111011111111110111111011111100101111111111011111111111111111111111111110111111111001111111011011110111100111111101110011111111111111111101110111111111111011111111111011111100111111110111111110111110110111111111111111111111111001101100111110111011011111111111111111111101111111011101111111001111111101111110110111111111111011111111111111111011011110110101111101110110111111101110111111110111111111111111010100110111011101101100101111101111111111101110111111111111111111101110110011111101111011111111111111111111011010001111111101111011110011111111111111110101111011111011111101111111011011011111110111101011111110110111111110111111111111011111111111110110111101111011111111110111111111111111011111001111111111111111111111110111111111100101111110111111111111111110111111111101111011010111111111111111111110111111111111011111111101111011111111111110110111110111110111111101111101011111111011111101101111110111111111100111111111101010101111111011111111111101111111111111111101111110111110111011111111111100111101111111111111101111011011110111110011010101111111111111110011110111111111111111111111110111111100110101010111011111111111101111110111110111010101110111111011111100111110011011111001111111111111101101011111101011111101111111111111111111111111111111101111101111111110111111111001111111001111111111111111111111111110110110111111101011111111111111101111111111111111011111011111011011111110011111111011111111111111101101111110111111111111111111110001111111111011011110111011111111111111101111110001111111111101011110111101111110111111111111111100111111111111111111111101111111111011111111111111101110111111111111011111101111111111110101111111111110101011011111111011010111111111010111111111111101101111110111111111110111111111111101111111111111111110111111111100111011101110101111111111111111110101011111111111011101110111111111111111101011011111111111101111110101111011111101011111111011111011101110111101111101111111011111110111111111101111100111111101111111101110111111111011111111101111011111101011110110011101111011111111111111110111110011101111111111111111111101111111111111111111011111110111111110111111111111110011010011010110111110111111110111011111111111110111101111101111110011011111111100111011111110101111011101111111110011011111111111111011101111101111101011011111111111011111111111110111100001101011111101111110111011011101111111011111011110111110111111111111111111011111111010111110111110011111111111111110111111111111111111111110111111111111111111101110101101111011111111111111111111101101111101101111111111111111111111111111111111111111111111111101100111111111111110111110111111011111111111111111111111111111111111111011111111011111111111011111010111011110101101111101111101011111111111111101111111111111111111111111111111111110111111111110110111111111111011111110111111111111111110111101110110111101111011011111111110011111111111111110010110011110111110111111110111110111111111111011110111111110111111111111111111101111111101111111101111011010011111111110111111001111011001101111111011110110111011110111111111110111111011011111111111111111111111110110011011011111111111111011101111101011110010111111111011111011111011011011110011111111111111011110111111111101101111101011101111110111111111111111011001111111010111111111111011111101111111111111111110111110010111111101101111110111110101111111011111110111111111110111110011111111111111111110110111111111111111111111101111111111111111111111101111101111101111111011111001111111110111111111111101111111111111111111010111111111111110111011111101110110111111011110111111001111111111111001111111011011111111011111101111111111111110011101111001111101111101111111101110110111011111111011101111011111111111111011111111111011111011111011011101111101001111110100111111111111111111111111111111111101101011111111011111111111111011111101111111111111111111011101100011011011111011111110101111111001111111111111111111111111011110001011101010111011110111111111111111111101111011111101101101110110111011111011111010111100011111001111101111110100111111111111111101011111111111011111111111110011011101111111111101111111111111101001111111111111111110111111011011111011111111111111111111111110111111111111111111100111101111011111111011111111111001111111111011011011101111111100111011101101111011111111111111101100111111001111111111110111110111111000101011111101110111110111111111111111101110111111110110110110110111111111110111111010101111011101111111011011111111010111101111111110111000111101111111111111100111111011111111111111111011111111111111110110101101110111111110011111111110111111111111011011111101011111001111101111000011110101101101111110111001101111111111111111111111111111111111011111101111111111011111111111111110010011100111011100111111101101111100111111111111111111101110111100111011111110111110111111101110111101111111100101011111111101111111111111111111111110111111111111110111111111111111111011110011110100111101111010011111010111111111111111111111111001111011111111101111101010111111110100111111111111011111101101111111111111100111111011111111111001111110111111111110111111001110111011101100111111111111111101111111111101111011111111111101111101111111101111101111110111111011111111111111110111111111011111011110111011111111111110111111110110111111110111011011111111111111111110110001111111111101101110111111101101111111011111111110111110101110111111111101111111111111000011111111101101110011101111111111111110011110111101111111101111111111111111111110111101101111011110111111111110111111011111111111111111111110101111111111100000111111111110111101101011110111111011111111001011111111111111111111111100111111111111111111111111111110011111111001111111111111111111111111111111101111101111110101101001111111111111111111111111111101111011111011111001011010111101011111111111111001101111011011111101111111011111111011101111111111111011100111111100111111111001111110111101111101111111111010111111111111011111111111111111111001111111111111011111111011111111111111011111111111111101111111111111111111101111101101111110111110111111111111110011111111111011111111111111111111111111011011111101011111111111111011111111010101101110111111111110101111111101110110110101111011111010011111101011100111001111111001111110110011111111111000110111110100011110011101111111011111110111101111111011111111111111111111100111111111111101101111111111111111111111110111111111111111001111101110101111111111111001111111111011111111110111111110111111111101111101111011110111111111111011101111011011111111101110111001111000101111111111101011111111111111111110011111111111111111101101010110011111110111001111111111111111011001111111110101110111111111100011111111110111111111110111111111100110111111110111101111111111111111111111111111110111110111111111101111111101111111111111111010111101111011111111111011110111011011111111111111111111100101111011111111001100011101111111100111111111111111010111111111111001110111111111011001101111101111111111111111111011111111111011101000111111111011011111011111110111111111111110111110011001111111111011111111111111111110111011111111011011111111011111001111111111111111011111011111101111111101001011101111111011101111111011111011111111111111101111111111110110111111110111111110111110011101111100111111110001111010111111111111111111111011100111111111111010001110111111110111111111111111110101010111001111110101110111111111111111111111111111111111111110111110111111101101000111110111111101011101110111111111111111111101111011111001111111111010111111111101101111111111111110111111011111111111111111111111111111111111111110111111101111111111110101011111111111111111111111101100111001111111111101010101111111011100111111110111101011111101011111111111111111111111110011111111010111111111011111111111111111101111111111111111111111110111011111111101101111111111110111010111111111111111111011110111111011011111111111111111111111011111111111111111111111111101110111011111111111110111111111010111111110110110111111111111111111011011101111111110101110111111101111101011101111011001111111111111111111101111011100101111111011111111110001111111101111111111111111101111111110011111111111011111101111111011101111111111110011110111110011111101111111111110111110111111111011111111111111111111011111011011111111111011011111111111011111111011011111111111111111100011011111111111111011111111111111011101101111111111110100101110111111111111101110111111001111111111111111010101110111111111111001101111111101111111111101111110111100111111111110111111111111111100111101110111110111111111110001111101111111111111111111111111101110111111100101011111111010010101111101111010111111110111111111011101111001101110111111101101111011111111110111111011111111110111111111110101111101010110111111111111011111100011111110111111110111111011011111111110111101101111001111101001110111101111111111011111111111011111111111111001111111111011101111111111111111111111111111011111110110111111110110111111111110111110110111110111111111110111110110111111101111111101011111101011111111010101101111010111111101111101101110111111011111111011101111011111111111111111111111111101111111101111111111101111111111111111111110001111111111111001101011010111111111111111010111111111111111101110010010110011111111111111111111101111100110111101111011111111111110111111111101111111111110110111111110110111111111011101011111110010111011111111110110111101110110111111111101001011111111111101111111110111111110011110111110111111110111011111101111110011111111010001111111111011111011101011110111111111110111101111111111111111111111111110111111111101011011100010111101111111111011111111101101111101001111111001111111111111110111111111101111111101111111110111110101111111111111111111101111111111101101101101111111111101101110101101011110111101011111011111111111110110110111111011111110111111101111111110010111111100110111011101111111111001101111011111111111111101111111111110111110111111111101011111111111111111111111111111101111111101111111111011001110111111111111111011111111111011011111111111101011111111111001111101111111111011111110111011101111111011111111111111111101011111010111111111111101111111111111111111011111101101111111101111111111111111101011011111111111110110111001111101011110101111101111111111111111111111111111111110011110011111111111101111111111001011111111111111111111111111011111111011101111010110011111111111111111111111111111010111101110111111111111111101111110111101111111111111111101111111111111100111001111100111111011101111101011111111101110111111101110111111111111101100010011110110111110111111111111101111111111111111001111111101111111111111111101111110111111111100110111111101111110110110111111101111111111011111111111111011011010111111111111110110110111011111111101111111111011111111101111111111111111111111110111111101101111111011011111111111011111111111111110111101111100011001111111011001110111111010111101111101111111011011110011111111110111111110110111111111111110111111111111111111111011111111111111101011011010111110111101111111111011111111111111101111111111111011011111110111111111111111111111010111111111111111111011111111111111101111111111111001111111111111011111111111111111011101011110111110111110111111111111111111011111111111111101011111111111010110111011111110111111110111101111111111100111011111111011111111111111110111110111111111111011001011011011111111111111111001010111111111111111101110111100111010111111100111111101101100111111111111110101111111111011111111011111110111111111101111110111110110111101111011111111111111011111011111111011111111111011101111111110111101101101101101110111110010111110110011111111111111111111111110111010011101111101011111110111111111101111111100110111111111010111111111111111111101111101111101111111110111111100111111111101011111111111011111111110101110111111111111011111111101111011111011110110101111111111111101101111001011111110111001111111101111110111111111111111100101101111110111011101101111111111111011111111111111111011110000101111111011111111111111111111111111011110111111111111101101101111111111110111111011001111111111110111011101101111111011101111111111111111011111010110101111011111111111001111111111111011111011001111111111111111111111111111111111111110111111111101111010111101111110111111011111101110111111111110111111011111111111110111110111001111111111111101111111111111111110111111111111011111111111110111110111111010001110111101110111010111011101011111111111111101111111101111111110010110111111101111110111101111111111101110111111101011111111111011110111111110111111111001101110111111111110011111101111111111101110111111111101110101111111111111101111110100111101111110101011111111111101111111110111110011010101110111111111111011011111111111111111111111111111011011111111111111111110111101111111111111111111111111111111111100101111111111111111111111101111111111111111111111111101111110111111110110110111110111111111011111111111111111111110110111111111111111011111001111011101111011011111010110111111101011001111111101011110110111101111111110101111111111110101111111111111111110111111011111111111111110110111111111101111111111111111101111111111110111111111111111110011010111111111111111101101111111111111111101111110111111110111111101111111101111111100111011111101111111111111111111100110111111111111111101011111101111011101101111111110111111011111111111110001111111111101111111111111111111111111110111111111100111110111111111111111111111111111111110100010111011110111110111111011111011111111111111101111111111111111110111111101101101111110101011101111111111111111111101111111111111111111011111011111111111111110101111111111111111111111011101111011111111111111110111110101111111111111111111111111111111110111110110111101111101111111111111111111011111111110100111111011111111011111101111111111110111011111111011111111111111110011111101011111111011111101111101111111111010111111011001111110011111111111101111110111011111111111111011111111111111111011111111111111111110111111111111111111010111011110111111111111111110111111011111111111111111111111111111111110111111111111111011101110010111111111111111101111111111111101111111111111111111011101010011111111011101111111111101111110111111111001110111111100111110111001111111111100111111011011111111011110111111111111111111110111110111101101101110111111111111111111111100111111111101100111111111111010110101101111011101111111111111011111111111111110111111110111111011110011011110110111101110101011101110111110111101111111111111111101110111011011011111110110101111111011111111111110111111111011111011111111111101011110100101101111110011111111111101111011111111111111111011111001111011111111111110111111101111111011111111111110011111110111010101101111111111011111111111011111111111111111101111110111110011111111101111111011110111110101111011111110101111111110101111110111111111110101111111100011111111111111011101101111110110111011110111111111111111110111111111111110100111011110011111111011111110111111101111101111111011111111111111110111111011101111110111001111110110111011101111111101111111111011111111011111111111111110111111111110111111110011111111111111111111111110110101111111101111011111110111111111111110111111111110111110111111110111111111111110001111011110111111111111101111011111111011101101111011110111111001111111111111101111010111111101111111111111111100011111111111111111110011111111111110111001110111011111111110100111111100111111011111111101111111111111111111111111111111111111101111111010111111111101111101111101111111110100011110011111011111010111011110111111101011111101110110111101110111011111111111001111010100111101111111111111111111100111111111111011111101110100010111100111111110111101101111111111111111111111111111111111111111011111111111101111111111111011111111001101111111111101111111011111111111111111101101110111011101011110111111111101111111111111101111111011011100011100111111111111011111111101111111111001101110111111111111110111111110111111111111111111111011011011111111111111111111111111110111111111110111111111111110010111111101110101111111111111110111110111111110111101110101110111111100011111111111111111100011111111011111111011011111111111111111111111111100110111111101101111110111110101111111110110111111101111111111110111111001111110110011011111010111101101111101111011101111111111111101111111111111101111111010111101011111011110111010111100110111111101101110111111011111111111111111011111111100111111110111110010101111111111111111111101111101001111101111011111111111111101111111111111111111111111101011111111111011001111111111111110111101010111100111111101101101111111110111110111111111111111111111111101111101101101101111011011111011111111101111111110111111111101111111111111111111111111111011111111111111111101111101110001111111101111011110101111101111111111101100111111111110101110110110111111101111111011111111111111100010111111111111101111111111111010111111111001111111111111111111011001111111101101101111111111011111101111111110011111111110111110111111111111111111111110111001011011111111111111111111111111111110111111111111110111011111111110101111011111011111111111101110010111111111011111111100111101111011110110011110111111111101111111000111110111111111111111101111110001111111111011110111111111111110101111111111101110100111110111110001110101111111111111011011111111010111111110111101111111111101111111111111101010011010110111101011111111011111110111111111111101111011011110110011111111110111100111101111111111010111111001111111111011111110101111111011111011010001111101111111111111111111111111011111111110111111111111011111111101001111111111111111111111111101101011110110111111111111111110111011111111111111101110101101111101010111011111011011010111111111111111101111110111111011101111101111111110111101011111111111111101110101111101111011111111001111111111111111101101111111111111110111101111110101100100110011111111111111001111111111111111111111111111111101111011111111111101011011110111111111111111111101010011111111111111111110111111111111110111111111101001110110101011110011110111101111101001111111111111111111111111111110110110111111111111111111111111110111100111111101111100101111111111110111111100111111101110111011111111111101111000111011111111111111011101111101101111111111111011111111011111010111111111111111111100101011110111011111111110111110111111111111111111111101111111111111110101101111111111101111010011110110111111111111111011111111111111101111110101111111110111111111101111111111111111111110011111111110111110111111111011010111111110011011111111010110011011111101111111010101110011010111110101111111111101110110110111111110111011011111111111010110111111111111101111111011101111111011111111010011110111111111111110111110101111101101111111011101110111100111111101111111011101101111111101111100111111110011111111111111011111111111101011111111110111111110111111111010111111111101111111111111111111111111011101111110011011111111110011101111111101111111101111111101111110100011111001001111101111111111111111111011111111111011111111011111101011111111111111111111111111111111110111111111111011101111101111111111111111111110111110111111111111011110111111111111111111101111111111100101001110111111101111111110111100111111110111111110011011111110111111111110111101111111011111111111111110111111110111001111110111111111111111101111111110111111111111111011101111110111101111011111111111111110111111101111111111110111111111101110111001111111110111111110111101111111111110110101101111111101111110011111111101111101011111011111111111101011110010111101011111111111111111101110111111111011110111111111111111111101111111111111111111111111111111101111111111111111101111111011111011011101110111111111111111100101001101111011101011011111111111111111111110001111111111111111111101111111111011111111111111111101111011111111011101111111111111011111001110110110111110111110111111111111111110101100010100111011111101111111111111111011111111111110011101011111111111111011111110110111111111111011111110111010111111111111111111111101111101111111111111100010011111111011111111110111111111110111011111111111111111100111110011111111111010111111111111111111110110111111111111111110111100111111101111111110111100111111111111111111111111101111011111111111101111111111111111110111111111110111111110111000111111101011111111011111110111111101111111010011111111111111111111111111111011111111101111111111011111110110111111111111011101011101110111111111111111101111111101111111111111011110111101111010111111111101111111111111111111110011111111110011101111100111111111110111111111111111101111111111111011111011111110110111110111111111111111111111011111111111111011101101111111111110111111111110111111111100001111111101111011111111001111111110111111111111110111111111111100110110111111111111111111111111111100111111111101111110101100111111111111010111111111010011011111111101110111110111111111111111110111111111110111111111101111101110111111110111111011111111111111101111011111111100111011111111111011111010111111100111101111101111110111001101101110111101111111011111111111101111111111111101101110111111101101011101111101111111111111110111001011111101111111111111111111100111110111001111110111111111111111111110111101101110110101101100111111111111111111111111111111100010111111111111111111111011111101001011101111111111011101111011111111110111111101111111011111110010111111111111011111111110111101111111111110011111011111111111111111100111111110111111111111101111111011011111111010111101111111111111111111111111111111111111110110111111111111111111101011010111111111101011100111111111111111111111111111110101111111111110111111111111011101111111110010111111111111111111101111110011111111111111011001101111111111111111111111111111111011111111111111100111111111111111111011111111111111111111111111111111111111101111111100111111110111101111111101111011001011011111111011011111111101110111101111111111111111011111111111011111111110110111111111111111111111101110111110011111111011111111111110111111001110110111011011111110001111011111111111011011101111111001111010111011111110101111111111111111111111111010011111111001011010111110110111111111110111011111101111111111111111001111111011111111101111111110111111111111111111111111111100101111000101111111110111110011111111110111111111011011011111011110111011111111101111111011111111011111111101111110010001111111111111011110111110101111111111111011011111111111111011111011111011111010101111111101111111111111111100111110111111111111101011111111101111110111011111101111111101101111111011110111110111101111111111111110111111111111111101111111111111110111111111111111110111111011111111111111111010111011011111111110000111111111101111111111001100111111001111011101111011011011011111111111111110111111011101111011101111101101111111111101111110111101111111011111101111100111111101011110111101111110101110110111111011111111111110111011111111111011111110111111101111111011111100111101011010111010111111101101111111011111111111111111111011111111111111111111111111111111111111110111111111101111111111110011111111111111111111101110111111111111101011111111101101111101111111100110011011111111111111111011011101111011111111111111110111101111110111111110111111101111111101111111111111111111111100111011111111111011110110011111111110101111110111111101111111010111111111111111001111111111001110111111101111111111111110101111111111101111101111111111111111111111101111011101111011111111101001110110111111111111111111101111110111111110111100101111111111111111110001101011111111111101111111110111111111100111101111111111101111100111110111111111110111111111110111110111100111101111011001011111111111111111111111101011111111010011111111111111010111011111011011111111111111111111110111100101110111111011111111011111111111111110111111011111111001111101001110101101011111110111111101011111111011111111011111111101110111111111111110110111011111111111101101110111011011111111111011011011110111111111110111101111111111011111110101111111011111111111111111111110111111111010101111111101111111111101011111111111011111101111111111111111100110110111111111110111111011101110110111101100110111111111011100111101111011101110101011111101111111111011101110111111110110011110111101111111111011111111111011110101111111101111101111011001111111111110110101101111011100111111011111111111111111111111111110111010111111101110111101111011111111110111111011111001111111111101111111111111001111111111111110111101111101111111011110111111101011111101111111101111111111111111111111111111111111111101111111111111110111100111101101101111111111111111111111111111101111011111110010111111110101011101101111111111001111111111011111111111111111110101111111111101111110111111111111111111111111111110111101100111111111011101101111111101111111111111111110111101111111110111111011111110111111001111011111111111101110111111111111111111111110110111111011011111101111011010011101101111111111111101101011111111001011101111111111111111110111101111111111111111110111011111011110110111100001111111111111111111111111111100011111111111110100111111111111111111111111111111101101111111111111111101101101101111111010111111111110111110011111111111111011011111000111111111111111011111111111111010111010111111111111011110111111101111101110111111111111111011111111111111110111111111110111111111011110111011111111111101101011001111111111111111111011110011101111111010111111111110111111100111111111110111101111101011111111111111111111110101111111111001111011111111111011111111111111111111111111101111111111110111111111111111101101111111111101011101111111011111111011110111101111111111101111101111111111000101110001111101111111111111111111111111110101111110111111011101101011111111111111010111111111111110101111110111011110110111111011110111011101110011101111110111011111111111001110111110111101111111111111111111011111100101111111111111111110111100111111111111111111111111110110111111111101111101011111111111011111111111111111111111010111111111010110111011101111010111101111111111111111001111111011111111100110111101111111101101111111111111101111111111111101111011111110010111001011111101101110101111111111111101101111111110111111111111111111110111111111111111110111111110101111111001111111111111111011111110111111111110110111111101100111111111111110111100111111111111011110110101111111101111111101110111101100111111111101111111111111111110111111111011111001111111101011111111011111110011101111111111101111011111111111111111011111111110111111011111111111011101111111100100111011111101111111111111111110111111110110001111110111110111111111111010111101111111111111111110001111001011111111111111111110011111111011011101111111111011001111111000100011101111110111111110010111111111111111111110111111101111101110111111101100111111111111111101001111111111111101111011110111111111111111111111111111111111101111111100001101101111011111111111111101111110111111011111111111101111111011111011111111101111111111111011110111111011111111111111111101110111110111101010101100011111111111011111111111111111111011111111111111111011111011101011011111111111111011110111011111000111111111111111011111111110011111111011000011111101011101111011111100111111111111000111111110011111011101110101110001111111111111001111111011111111011110000111111111110101111011011100111110111111111111111111111111110111111101110011011011011111111111011111111111101011111111111101111111011111111111111011111110111111111011111111111110110101111111111111111111111110111111001101111101111111101111110011011111111000110111101111111111111111111101111111111110110111011101111111110110101111111111111110111011101101111110111110110011011100111111100101111101111011011111110110111111101100111011110111111001101111011111001111111011111111011011110111110011111111111111011001111111111111111111101111101101100111111111111011111111111110100111111111111100111011101111011111111111111111111011100111111011111011111111111111111101111111111111111111111011111011110100111110111011111101111111111111111111011011111111111111101110111111111011001111111111111111110111011011111111111110111011111111011111111011111111111011111111101111110011111111111110111100111111111111111111000111111111111111100111111111111111111111111111111111111101111111101000111111110111111111011111111111111110011111110111111101110101111111111011111011111111111101111011111111110111111111011101111101111011111111111111111101011111011111111111110111111101110101111010111010110101111111111101101011111111111110101110011111001011010111111111110011011111111111111111111011111111111111111111111110011111111111111111111111111110110111111110011110111111110111111111011111111101010110111111111111111001111111111111111110111111101110111111111111110110111011101101101101010011011011111111111111111111111101011111011111111111111111100111111111111111111111101111111111111110111111111011111111111111111111011111111011111001111111011111101101011111011111100111110110101000111111111111111111111111010111011111111011111111111111111011101111111111111111111101001110011111111111111111111110111111011011111111111110011111101111110010111111111111010111111111011111101111111111111110101111111110111111111101111101111111111110011111101111111101101111111110111010110111110110111001110111111111111011101111011110111111111101110011111111111111111111011111111111011011111111111111111110011111111111111010111110111111111111111111111101111011111111111101111011101111111111010111111110101111101110110110111110111110111111101111111111101101111111011101111111101111111110111111011111111111101111101111111011111111111111111001111111111110111111111101011111110011111111111111111111111111111111110111111111011111111110111101011101111111111111111111011111001111111111110111110111111101011111101001011111111111011101111110011011111111101111110110111111111100110110111111101111101111010111101111111111011111011111101111111111110111110111111110110111110111011001110111110110110111011111101011111110111100111011011010011011101111011011111110111111111111110101111001111101101111011111110111110111110111101111011111111111111111110110111111111110011110111010111011101111111111111111111111111111111111111111111101111111111100101111110011111111111101010111101111111111101101111111111111111111111101101101110011111111011111101111011111111111111110111110111111110110111101111111111110111110111111101111111111110101111100111111111110111111100111111110010101011011111101111111111111110011111111111111111111111111111111111011111010111111111111101111101111111111111011101110111111111101011101101010111101111111111111101011011111101111110011111111111111101111101111011111011110111111110101011101110111111111101101111111101110111101111111110111111011011111101010111101001011101011011111111111111111011111111111111111111111101110111111111111011111111111111101111111111101111111101011111011111110111101111111001111111111011110101111101101110111111111111111110111110110111101111101110011111111110011111111111111101110111010100111111111111101111101110101011101011101101101111111110011110111111111111110111111111111111111111111011111111011111111011111111110000110111111111111111101111111110111111001111111011011110011111111111111100111011101111111011101111101101111111111111111111101111111111111111110011101111110111111110101111111011110111111111111101101111111111101111110111111111011101111111111111111111111111111111011111111111101111101111111110111111111111111111110011111111100111001010111111111111111110111101111111111111110110111111011111111110110111111111111111111110111101110110111111111111111111111111001111111110111011111111111111111001111111111101111111111100110101011111111111111111111110111111101111111101001111111111011111111111100111111111111100111011111111111111100111110110111111100111111111101011111111111111101011111111101101011001011011111111111111110111011111101111111110111111101111111111111100111110111110111111011111111100101110111110111111111111111101111011111111111111101111111101111111111101111110111111011111011111110100111011101111111101111110011111111110111111111010011111111101111010110111111100111010111111110111111111111111111111111110111111111101111111111111111111111011110111111110000110111100001111111101101111100111111111110110110111111111111111111110111111101111111011001111111010111111111110111011101111111111101111011010111111110111111111110111110111110101111101111111011111111011001110111111110111110111101111111111111111100111101101111111111111111111111111111111111011011111111101110100111111110111111111111111111111111111111111111111111111111111111111111111111111110111011111100111111111110101010111001111111011111101111101111101101011111011101100011111111111111111111111111110111111111110111101111111111001111111100111010010111111100110110111110111111101111111111110101111111011111111011101111111111111111111111011111101111111101111111111110111011011111111111111111111100111111110111011111111111111110111111110111111011010111111111111110111111010111111111110111110111101111111111111111011111011111101111111110111101111011111110111101110111111111110101111111111111111101111111111111011111100101101111111111111111111011011111111110111111100111110111111110111111111111111011110111111101111111111110111111011101111100100011111111111111011111111101111101111101111111111111111111111111111011110110111111111111011010010111001111111011111111111111111111111111111011111111110110101100111010011010111011101111101101111011111011111111110100111111111111111100111111110111011101100110111110111110111110111111111011111111111111111101101111111111111111101010111111101011111111111011111111111111111111111110100111101111111111111111011111111111001011111111111111111111001111111101111111111111011011101111111111111110101110111110010101111111111111111011111011111010010111101101110011111111001111111111111001110111111111111111111111101111111011111111111101111111111111110011111111110101111011101111111111111111111111111011101111110111000111111101111111111001111111111111011011111101111111101111101101111100111100111111110111111111110011011111111111111111111111111111110111111111110111111111111111111101101111110111101111111011111111111011111111111101111011101101001111111110111111011111111111111110111111111111111111011111110100111111011111111110011101111111111111111110111101111111111111111011110010000111101111111111011011001111111101111111111111111111111111111001111111111011101111111111110111111111111111101110111101110111110111100111111111111011011111111111101101111100111111111110111101111110101111011111111111011111111111111110000111111111011111111111101101111111101111111111011111111111111011101111111111111111011111011111101111111001100111111111111101111111111101111111111111111011110111111111111111110111111110001111110110101101111111111101101111111100111111111111111111011111111111101111111111111101111111111011111110100011111101011111111111111111111011111111110011111010001111111110111111111110011000101111111111011110110111011111111111110111011111111111110010111111011111111110111011011110110001111011111111111111111111111011111111111101111011111111111111011111111111111110101110011110111100111111111111101011111001110111111110111111110010111111111110111111111111011111101111111101111111111110110111111111111011011011111111110111111100000101111111111111111101101111111111111111101111111111111111111011111101011101111111111111111110111111111111111110111111111111111111010111111110110111011111111111111101011111001111111111111111101111100111111111111111111111111111111111111111001110101111111111100111100111111011101111111111111110111010110111111000101101111111111111111111110101111111111011111111111101111111001110110111111111111111111111011111111111011101111111111110111111111111111011111111111111110110001111011111111110101111011011111010111011110111111101111111111111111110111011111111111011111111111111110111111101011111111111011111111111111111111111111111111011111101110101110111111111111011011111110101110110011101111101111011111111110111101010111100111111111111001111111011011111110111111111101111111111111011011111111011101101111100110111111111110111111110111111110011111111111111111111101111101111111111101111111111111111011111111111101110111101101011111111111111110110111011101110111111110110110111110101111111111101010111111111011111111100011101111111111111011110101111111011110111011111111110111110011110111111111011110010111110111111101111001101111111111101011111111011111111011111111101111110011111110101111111011111111011111011111101111111111111111011111111111111111111111111101101111010011111111101011111111111100011101111111111111111111111111110111111111111101111011011001111111111111110111110111111101111010111111110111101111111111011011110111111011111111110111110001111011111111111111111111111111111111011111110110101111111111110110111011101101110110111111111111111110111111111111111110011111111110111111111111101110111110111111101111111010111111111111011111111111111111110111111111111111100111111111101111111111111111110111111111110111111011111111111111111010111101111111011101111111111110001111111101111111111111111111111110101111101111111111111111101111101001011111101111111111110111101111101110111101111110011111111110110011111110111111111111111110111111110101011111110111101111111011111111110110111111111111010111111110111111011011110101110110011111111111111111111111111000111010111111100011110111111111111111011111111111111111111111111111111011101101110110111111111111111111111001111101111011111111001101111101111111111111101111111111010111111111111101111111111111110110110110111111111111111111011101111111111111110111101111101101111111111110101010111111011111111111101111111100111010101111111111111011011111111111110111111111111111111111111101111111111111010111111111101111111110110111111111111110111111011111101111101100111101110111111111111111111110110011011101101001111111111111111101110111111110111111111111111111110111111111101111010111111111101111111111101111101111111111111111110111111111101111011111110110001101111110111111011110110111111111011111001111101111110111110111101111111111111111111111110111111111110111111101101101111111111111101110110101101101111111011111111101111111111111111111110011111111011110011111111111111111111111111100010011011011111110111111111101111111000101111111111111011110111111110101110111111111011110110111111111111111011001111100111011111111111111111111111111110110111101010110111111111111111111111011111111110111111111111111111111111111111111111111111111111101111111000111101101111111111011010001101111111010101111111111111100111111111111111100111111001110111111111111111111100111111111111111111111111110111111110000111111110111110110011111111111111111111110111100011111101111110111111111111111111111111111111111111111111111101111110111110111111111011111001111111111111111111111111111111010111111111111110111111101011111111110101111100110111111011111111111110011001111100111111101111110111111111111111111111111111111111111111111111111011111111111011111111111111111111111111001011111001100111111111111101111111011111101000111011111111111110111111001111111111111111011110111111111111111111111110011111111001110101111111111111011101110111011111001111110101110000101111011111111111111111101111001111111011101011111111111111111110101111111111111111110111010010111011110100101111111101111110111110111111000111110111111011011111111011101110111110111101101111101111111111111111111111101111111111111111110111111111111110111011111111111110110001111111011101111111111111111111111101111111101111110111111111011101101111111111111011111110111111111011111111101111110111110111111111111111111111110111101111111011111111011111011111111110111111111111011010111111111100110011111111111111001011111111111111011111111111010011111111111101100111111111111111111111100111101101111111110111101110111011111100110101111110111101101111111111111111111101010111111111111111111111110111011001111111111111111111111111110011111111111111111111111101110110110111101111110111111111111011011011111110101111001110101111111111101111111111100111111111111111111011011111111101111110111011111110111111111111111111111111111111111111110001111111110001111011111111011111011111111111011111110111111111111111101111111111111111100110111011111111111111110101111011011111111011111111101111111111101101111111011111111110100111111110111101111111101111111111011111111111111111111011101111111111111101100111111110111111011111101111111111101111111110111111111111011110111111101101111111111110111011111101111111101001111110111111101111111110111111111111111111111111111011101100111011111011111101111111111110111110111111101111110110111111011111111111110111111111101111001111111110110111011011101111111110011111111011111111111110111111111111111111111110001111110011011001001110111111111111101111110101110011111101111101111111111011111101110111111111111111111111111101111001111111111101111111010111111111110111001111110111110101101111011111101111011111011111111111111000101011010011111111111111111111111010111111111111111111110111110111101111101111111110111111111110010101111111111111010100110101111111111111111101101001111111011111100001111101111011111111111110111111111100111011111111011111111011111111111111011111101111111111111101101111101011010111110111111011111110111111111111111110111111110111010111011111011110101110111111111111111111111111110111101111111111111101111111111111011101111111111101111111101111111011010111111110010011111111111110111111111001101101111111111101111111111111111110111011111111011111111100101111111011111111111111101111111111101001010111111110111111111101110111111111111101111111111110111111111111111111111101101101111111111111111111110011111111111110111011110111100111100111111111111111110111111111110111111110011111111111111101110111111011111011111111110011111111111110111011111101111111011101111111111110111111111111110010111110111011111111011111100111101111111101101111011111011111001111111111111110111110011111111100111101011111101111111111111100101101011111001011111111110101111110111111111111111111111111111100111011111011111101111101011111111111111111111011111011101110111111111111111111101101111111111111111111101111111111111111101111111111111100110110111111111011011111101110111011101111111111111111011111110111111101111011011111111101111111111011110111111011110111110111111111101111111111011111111111110111111111111001111111111001111111011111111111111111111111111110011110111101111111101111011110110111011111111111111111011111111111011111111110111001111001101011101111111111111111111111100111111011111101101101111111101011111111111100100101111101111011111111111111111011111111111110111111111110011111111111111101110011011111100111111101111011101110111111111111111011111111101111101111111111101111011111111111111101101111111101111111100011111111110111111011111010111101111111011111101101111111101111101101101111011101111011101101111111110111111111111111111101111110010111101111111101110111111110011111111111111011101110100111011111110111111111111111011111111111100101001011111110010101101111111111111110111101111101111111110110011111111111000111111101011111111110110111101111110111111110111111111111111111111111001111110011110111011111001111111101111111111111111111110111101101011111111011111010101111111110111111101101111110111011111111111110101101111101111111011001111111111111111111111111011011111101111111111111011110101101111111111001111111111111111111111110110110011111111111111110101111111110111111101111111011111011111101110111110111101011101111111111111111101111111111111110101110111110111111110101111111111101101111111111111111111111111111111111111111101111111110110111110111111111101111111011111111111010111110111101110111111111111110111101101110101111111111011110111111111111111111111101111111101101111111111111111111111111111101101111111111110111101111111111101111011111111111011111111111111111111110110111111110111110111111111111111111111011011111111111111110111110011111111101111111111111011010111111111111111110111111111011101111111111111110110111101111111111110011100111110111111111111111110010101111111110111110111111011101111111111111111111011111100111101111111111101111111101111111101111111111110110011111111111011111010111111110111111111010111111111110010111010111011111110111111101011111111111111111110111111011111111110111001101111001111111111110011111111111111111111110111111110110101111111111111010111111111010111110111111111111110111011111011110111111101001101111001110110011111011101110111111111111111011111011111111111101011111111110101111110111001111011011011010011111111110101111111111101111111111101111111111111101111111111111111110111111001010111100111011011101110111111110101111111110011111111111101101111111111111011111111111111001110111110111111011111111111111111111111111110111011111011111110111011110111111111111110101111110111111111111010101111111111111111111111111111011111101110110110111011111111101111111111111111111111011011110111111110111101111111101111011111111111111111011111011111011111111111110111111011111111111111111110111111001111111110110111111011101111111111101100110100011111111111110101111111111111111111101111111011111111111111111101111111011111111111011111111101111110111111101010011111110111111110111111011111011011111111111101111101111111100110111011111111011111111111111111111101011011110010111111111110111110110111111111111111111111111111111111111011111111000111101111111101111111111011111111111111111011011111111111111110111111010111000111111111111110101110111111101011111110101111100111101100111111111111111101110111111111111110111111111101011101101111111101111111011110110111110111101111111111011111111111111110111010111111111111001111111111011111111011011011111111111011110111111010110101101111111110111101111111101101111111011001111101100011111111110111111110011111110011011111011111111001111111111101101101111011001111111111111111110101111111111111101111111111101111111111111111101111111001111101111111101111101100011011111111111110111111110111011111111111100011111011111111111111111111111111111111111111111101111101001001111011011111111101111111111011100111111110111101111111101111111111111110101111111110111011101101111111111111111111101111111011111111111111111101111111010011111111111110110101101111111111111111111111111111111111111001111101111111101111111111110111111111111111101101011111011111111111110111100111111011111111111111100111111110101111110110011100111101111011111110110111101111011111111110111111111110111111111111110111011011111111011011011111111101101111110111111011110111011111101001111111110101111111111011110111011111011111100110100111011111111111111111111111111110111111111111101011111111111111010111011101111111111110111111111111101111110111101111111111100111111111110111101111011110111111111111111011111101011111111111111111111111110111111111111111111111011111111111110011111111110111111110111111001111111111111111110111111111111101111110111111110110101001011101011111001100101101110111111100111111111111001111111111111111011111111110111111111110111101111011010111111001111101110111011111011110011111111111111111010111101110111111111111111111111111111111111111111110111111011111111111111111110111111111111011111111011111111101110111111011111011111111111001111111111111101110111111011110010011011111111110101110111110111011111101111101110011111111111110111111101111111111101101011101111101111111111111111111111110101101111111111110111010011110011111111111011111111111111111111111111110111111111101111111111110011101111101111111111111111111011011011111111100110111101111111101101111101111111101111111110111111111111111111110111111111011111111111001100011111110101101111101011111111110111111111101110111111101111111101111111010110001011110111110111001110111111111010011000110111011111001111111111111111111111011111111111111111011111101101111111111111110111101101111110111111111011111111011111101011111111011111101111110111111111111110111101011111100111101101111111111111011111110111111111011111011110111110111101111111111111111011111001111111111011101111111111111111111111111011111111111111111110110111111111011111111111111111111011111111011111110110111111111111111111110101111111111111110110110111011111111101111110111111111111111111101111111101111111110111111111011101111111010110111010111111111111110011101110101100111010111110111111101110111111110111110110111111110100011101010110101110101111101110111101101101101001011110011111111111011110011011010101111110111101100111111111100101111111111111111101110111111111011011111111011100100111011101110111111111111111110111111110111110101111110110110110111111011111111111011110011111111001111111111111111111011111011001111111111011111110111111111011111011111111011111111111011011111111101111011111101111101101101011111111111111110011111011111111010011011111101111111111101111111111111111111011110110101110111110111101110111111001111011011111111111111101111011111111110111111111011111110111111110111111111101110111111111110111011110111110011111111111101110111111110010011111101111111111111111111110111111011111111111110111111111111101110011011111110110111101011110101111111100111111111111111111111111111111111111110111111011111111111110111101100110111011111111111011111111111111111011111011111110100111010101111011111111010111100111111111010111111111111101011111111111111111111110111111111111111101111111111111111111010111101101111101101111010111101111011111111111111011101101101001111111111111111111111000101100011111110101111111111011110111111111011111011111111110111111100111111110111111111111110111111111101111110101111111111101111111111111111111111111111010111001101111011111101111111111101111111111111111110110111011110111111101010111011111111111101111100111110011011111101111111111111111111111110111111111101111011111111110111011111110111111011111011101111111110111101111111111101111111101110111111001111111111111101111011111111111111111111111100111101011111010111111101101101111011101111110101101111011110111111101110010111110111110011111111100111111111111111111111111111111100111011111111101110111001111110111111111111111111111110111111110101111111111110110010111111011111111111111111111111010101011111111111101111111111111101101111111111111111111110011111011011111111111111111111111111110101111111111111101011001111111111111011011011001111101111111110111111011011111001111111110011111111011111111110111111101111111111000111011101111111111111111011111111111111111111111111111111111111011111111110111111111111111001111110011111111111110110101111011111111110111111111111101010011111111111111111111111111111101011111011111100011001101111111111111111111111101100101011111111111111110011010110100111111110111101111111001011101111111011111011110101111111111010111111111101111111001111111111111111101111111110110111011111111110001110111011100111010111011001111111101111111110111110111111100111111100111010101111111100110111101110110101111111011011111110110111111111111111111011111111111111111110011111001111111101111111111001111110111110111010110111111111111111111010101111111001111011110111111011111111101011101111111111111100111111111110111011111100001111111101111111111101101111011111111111111101111111111011011111011101111111101111011111110011011011110111010111111110111111110111111011111111110101111011011111010111110111111111111111011110111111111111111011111110010111111111111111101011011101110111111111111111111111101111111111110111111111111010111111111111011111111111111111111111000111111111111111111101111011111111111111111011111111111111111110111001111111001111111111100110011111111111011111110111111110111001111110011101111111111011111111110101111111110111110111111111111111101111111111111111011111101111110111111110111111011111111110111011111011111111011111111111110111111011011111110111111011110001111111111101101011111011111110111011110111010111001111111110111111110111111111011111111110001011101110110110011111111111110111111111111111111011111111111011101111111111111110111111111101111111111111111111111111101111001101011111111101111011111111111011111110111111110111011111011111011011011001111111101111111111111111111110011101111110111111111010111101111101111011111100111110110101111111101111111001111110111101101011110111111111111111011011111011011011111111111111111011101011111111111111101111111011111111111111101111110011111101111111011101111111110111111111111111111111101111111101111111101101111111111111111111111101111111111111111111111011011111011011001111111110111001111111110110011111111111110111111111111011111110110101111111111101101111110011111011111111111111111101111011101110111111111011111111101111110101111111111111111111110101111111100110111110111101111001111111101101111111111111110101111111111111111111011111100110111111101111011110111111010111111111111110110010111111111011101101101111111101101111100111111111110101111111111110111111101111111111111111111101101111111111111111111111111111110111111101111111111111111111111111011010111011101111111101111111111011011101101111111111101011110111101111111011000111111111111111111001111111111111101111101110101111011111111111110111111111111010110111111111110111111111111111011111111101111111111110111110011111111111111111111111011101111011110000111111111110110111110111100011011111111110111011111111111110111111111111111101000111001101111111101011111111111111001111101111111111111111111101111101111111011111111111101111111101111011011111011111110111101111110111111111010111111101111111111101111111011110111111110101111111111111100111010111111011101101111111111011101111110011011111111111111111111111111111000101111101110111111111111111011111110110111111111111111111111111010111111110010111111110111111111101111100111111111111111111111111111111110111111011011101111111110111111111111101110111101111111011011101111111111110110111111111111111111111111111110111100111110111111101111101111111111111111111101101111111111111111011101010110111111101001101111101111111111010111111111110011111011111101111111001110111111100111111111111110101111011111110110111011111011110111111011110111011111110111110011111011111111111111100111011111111110111111010110110111111111111111111011111101110110111111101111111001111111111101110111100111111111110110111111110111110111011111101111110111011111001111101111111101111101011101111111110001111111111001111111110111111011110111111111101111101111011111111111111011111111101111111111111111011011110011111101111101110111111111111111101111111111011111111111111111111111111111111110111111111100111111111111111110111111111101111111101110101111111111111110111010111101111111111111111111111101110011111111111101111111111111111111110111110111010111101001111101111110111111111010011101111111000111011111111111011110111111111010000101101101111101101111111111111111111110111011111111111101111101100111111111110111110111111111011101111111111111111111110111111111111111111111010111111111011111110111111101110111111111111111110111101111111011110111111011110111110111111111111111111111111111110110111111111111011011111101111111111101111111011111111111110111111101101101111110111111111011111111111111111111111011111111111111110111111111110111001111011111110111111110111111111111111101110110100111111011111111011101101111101011111011111110111110111111111110111111011101101111111111111111111111101101111111110111111110011111011111111111111111111011111111110111111011111111110111111110111111111111111111110010111111111101111110111111111111101111111101110101111111111001111110101111111111111001111111111111011111111011111111011111111011111111011111111001111011111111011101111111111111111110111011111111111011110111111111111111111111111101111111111111111011011011111101111111111111111111100111111111111111111111111111111111111111111110110111111111110110111111111111111111100111101111111111111111111111011110111111101011111101100111111111111110111101101011101111111111111001111110111111011001111111111111111010011111111101101001111111111111110011111111111111111011111110101111111111111111100110111111111111111111111111111111111111111101101110101101101011111111101111111110011111110110111111101111111011111111111110111111111111101111111111111101111011101111110011111111111111111111111111110111111111010111111111111110111101111111011111111111111111110111101111111111111111111110111110111010111110111111111011111111111111101110111111111011111111111111111111111111110111111110111011101111111111101111011111101101111111001111111111111111111111111110000111111011011111110101101111100111011110011010111101110110101001111111011001110111111100110100111111111010111011111111111111111011011111111101101111111101101111111111101111111111111110111101110110110001111111110111111111101111011110111011111111111101010111011111001111111011111011111101111101110111111111111111111110111111011111111111111111111111111111011110111111011111111111011111101111110111110111101111101010110111011111010011111111111110111101111111111101011011111111111111111111110111111101011111111111001110111111110111111101110111111111011110111111111101111111101111111111011110110011011111011111011111110111110111011111111111101101101011111111111111001111111111111111111111111011111101111111101111111111111111111001111111111111111111111111111111111111111110111110111111111111001111110111111001011101111111101111111111011110110101001111111011111111111111111110111111100111111011111111111010111111111110111101111110110111111111111100111111111101111111110110101111100011111111110111111010110110110111011111111111111111111111111110111111111111111111011111011011111111110111111001111111111110011111110011111011101111111101111111110111111111011111111011111111111110101111110111111110110101110111111111111111111111111111011110111101111011111001111111011111100110111110100111011111011110110111110111111111111111011111110111011110111101100110101110111010110011101010111111111110110111001111111111011111111011111110111011111110101110110111110111110110111011111111110111001111111111101111111101111111111111111110111111111111111110110101111111100101111111011111111011111110111111111111001011110111111110101111111111111111111111011111111111111011011111111111101111111111111011111100101011011111111111111111111111111111011101111011111111111011111110111111111111111111011011111110011111111111110101111111111011111111111011111111111110111101110111011111110101110111011111111111111111011111101111011011011110010101111001111101111111111110011111111111111111111111111111011111110110111111111111111110110111001110111111111110011101110101111111111111111111111111111101010111111111011011110111111111111010111010011001101101111111111110111101111111110111111111111011111010101111011111111111111011111111111111111110110111110011001111010111111111101111111110111111111111111111111111111111100110111111110110111111110111111111111101111100101111111111111111011111111111111110101111111111111011001101111110111011110111111111101111111110111101111111010101111101111111010111110111111101010111101111111111111111111111001111011111111101011011111011110111101111111010111111111111111111111111111111011111101111111101101101101111111111111111111111111110111111110111111111111111111111111111111111101111010011111110111111011111111111111111111111111111101111110111111111101011111111110110110111111011111110111110111101111101110101110110111111110111111111011111111111111111111111100111101110111011110110111110111111111111101111110111111100111111011111110011111111111101101111101011111111111111111111111111111011110011011111011111111111111111111111101011110110111111101111111111001111111111111011111111111111001100111111111111111110101111111101111111111001111111111111111111111111101111011111111010011111111111110111110101110111111111111110111011111110111101011111111111111111011111111111111111111111101101111111111111111111011110111111111111111111111111111011111010110100011111111111101111111111111011111111111111111111111100111111111111101111111101110111111110111111110111111111111110111110101101111111111111111111111111111111111111111111111111111110111111101111101111011101101011111011110111110101111110111110111011111110111010101110111111111110111111111101110111101111111111111111111110111001111111011111010111101111111011111110111011111111111101011111111110011111111111101101111111111100111111111111110110011111110111110101101101101110111011111101111111110111111111011011101010010111101111111011111111111111111011110111111111110010111111111001011011101111111111101011101101111111011111111010100111111111111111111111111111111011111111111111111010111111111111111101011111111110110110111110011110101111111111101111001111110110110111111111101101111011111111111110010111010101111111111100111001111110111000111101111101001110111100110111100111011111111111111111110110111111111111011110111110011111111111110111111101111011111011111111101101111011110011111110111101111111111001101101111111111111011111101011111010011111111110101111011110111110011011111000111011111011101111111101110111110110111111111111111111111011111110011110110111111110111110111110111110101111101110111111111111101011111111111111110111111111110111111111111011111111010111101110111110011111011111111111110100111011111111111001111101111111110111110110011111111110010011111101111111111110101111111110110111111101111011111101111111111111111110011011111111101101110110111111010111011111110111111011111111111111011110111111111000111111001111111110111111111111011111011111111101110111111111111100010111111111111110111111011111111111111011011111111111111111111110110011111111111101111101111111111111111111111111111111011111111101111011111110111100111101111101111111111111111111110110110111111110111011001111011011111011111111101110111111111111111111111111111111111011111111011111111111101110111111111101111100111101111111111110111110111111110110111111110111110011010111111111010111011011111111111111101111111111011111101111111111111101011111111111111111111001111101111111011111101111111001111111110110111111011110111111011111110100111111101110101111111111111110111111111111111111011111111110111101011111011101111011111111111111101011010111111111111111111111110011101111111111111111111111110101111110110111110111111111001101111010111111110110111111111111111011111101111111111111101110111101111111111111111111111111101111101110111111111111111011011111101110111111101111111101101011100110111111110111111111101111111111111100111111111111111011111111111111111111111111111111011111011111111011111111111111110111111111111111111111111111111111111110111111111111101111011111101111011011110111110011111011111110111001011110111111111101111111111111111110111110111110111111111110111111110101111111111111111011111111111111111111111111111111110111111111110011111101111111111111111101111101111101110101111010011111110111011111111111110010110110111111111111111111110100011111111111111111111111111111111110111111111110110111011111111101111111111110111110011111101111011111111011110111111111110111111111111111111011111011100111111010111111111111111011111110101111111111111111111111110011111111111111011111110101001110111111100011101111111011111111111111111111111011011111111111011110110111101111011101111110111111110111110111101111111111111111111111111111111011101010111111111011111111011110110101101011111111111111111111111111111101010110110101111111111011110011111111111111111110110101111100110011111111111111011111111010111111111110101111111001101111111101111111110111111101111111111001111111111111011111111111111110111010101111111111111111111111111111111111110011111011110110111111111100111111111111111111111011111111111110011111011111001111101110101011111011101111111111111111111110111111111111010111110110011111101111001111111111011111111101011111011111101111111111111111110010111111110111011111111110111111011111111111111111110111111111111110111011111101110110101011111111111111001110111010011110111101111011111111111100011111110111111111111011111111111101111111101111111011011111110111111101011111111110111111101110111111100101110111111011111111111001101101111111111011111111101111111111111111110111111111111011111011111111111111111111110110010111111111110011101011111101111111111111111111101011111111111111111111111110111100111111111110111111111001111111011111011111111111111101111111111111110111111100111111111111111011111011110111110011111101110111111101111111111111111111111111111111111111111111111111101111111111110111111111111110101110101110111100001111101111111111111100100011111101100011111111111010001110111111111111111101111011111111111111111011111111111111011101011111101111111111111111111111111111010111111111111111111101110111111111111111111011111111111111111110001101111111111111111111110110010011101111111111110100111111110111011101010110011111111011111111111110111110110111111111011101111111110100111010111111111101101111110111111111111110111101001111111101111101111111011111011011011111111101111111111111110111111111011111111111111110101010110111111111111110111001111110111111111101111011111111001110111111111011111001111111111111011111101111111011111111111011111111111101100001111111111111111111111110111111111100111111111101101011111111101111111011111011111111011110111010111111110110101011011101111111100111111111110110111111110011101101111011111111101011101111101111111011111011110111111110011101011111111111110111010101111111111111111111111111111011111111111111111110101111111011111111101111111110111111110101101111101101111111010111111101101011111111110111111111110111111111111111111111110111011111110111111011111101010111111011110111111111110011010111111101111111110111111111111110101011111111101101101111011111011011111111110111101101011001111101111111110101010101111111110101011101111111111111111111110111101011111110111111111111100110011111111111111111111111111111101011111111011111011111111111111111111111110111111101111111111111011101101111111111111111111111100111111101111111110011111111110111101111011111101111111011011111111111111101100111111111110111111111111111110101111111110111111101101111101111111111111111111101111111111011111111111011111111011110011111111111011111011111111111111011111101110101111101101111011110110011111110111101111111111111001111111010111111111110111011110111111111111110111101011111110101110100111111111111111111111111111111111111111111110111101111111001111111111011111111110111111111111111111111111111111101111110101110111110111011110111111111111101111111111111101011011111100111111111111101111111110110111111100111100111111111111101110011111111111101110110111111101111111111111101111101101111111111111111011111111111111111011111001111111101111101111110111111111101011111111110111111111001111111111101111111111101111110111101110111111111011111111111011011101110111111111111001111111111111111111011111111111111011101111011101111011111111110111111101111111111110111111111101011100011111111111111011111100111111111111111111111011101110011111101111111111111111111111111111111110111111111101011110111111110111011111111111111111111001011011111111110111111111111101111111111111111111111001110101111111110111111111011111111011111011101001011111111111111101111111111111111111111111111011100111111110011111111111111011111111011110101111101111100111111110111111011110111011111111011111011110111110110110111111111111111110101001111111111111001111111111011010111111110011111011101101111111111111111111111111111111111111111100011111111111110111101111110111111011111111111111111111111111111111010011111110101111111100111111111111111111101011101111111110111111111111111101101110111111111110111111111111111111110110110111111101011011101110111111011111011111011111101111111111111111111101010111101111101111111011011100111111100101101101111111011111110111011001111111111110111100111111111111111111111111101111111111110011111111111011110111110101111111100111000101111110111111111111111111010111111101000011111111110111111111111101111111111101010111110110111111010111111111111100111111110111111111101111111100111111111111111111101110111101111111110111111011111001101110111111111110111110101111111111101110111111111110111111111101111111111111110011111111111111111101111101111111101011111111111111111110101101111011111011011101101111111111100100110011111101111111101111111101101111011111111111111011111100011101111111111011011111111111101111101011111101101001101111111010111111111011011110111110000111111110111111011101111111011111111111111011011011101111111111011111111111101011111110110111101110111111110111111001111111111111111111111111111111011101101111111111111111110111101111111111111111111111101111111110111100110111111111111011111111101110110011111111101111110111111011111011111011111111111111110111010111101011111111110111011111011110111111101111111101101111111010001101111101011110101011001011110111111111101111011101111111111111111111111111111101111111111010101111111111111100101111011111111111011011110101111101111111111111111101110011011111111101111111011011011111111111111011110111111110111101011111101111111111111111111111101110111111111111111111101111111111111001111111011111111111111011110111111100111111110110110101111111111111111110010011110111111111111111111011001011111111111100111111110111111111111111111101111111111110101011111111011011111001111111001111110111111111111111111110111111111111111111011111111110110011111111111111111110111110111111111111110111110111111111111111101111111111110110111111110101111111111111111111011111111111101101011001111110111011111111111011111111111111101111111111111111011101011110111111101111110111011111111110111111111100111111111111011011111001111111111111110110111011111110111111111111001011111110111111110111110101111111110111101111111011111011100111111111111111101111111111001111111111111011111101111101111111110111111111111111001011111111101111111110111111111100111111111110111111111111111111111111111111010110101111011111110111111111111111110101111010111100010011011011111100111111111011111011111111111111111110111011111110011111111111111111111001101111111111011100111111111111111010111101101111011111011111111111111111111101111111011111111111111111111110110101111111111011101111111101111111111111011111011111101011111111010111011111010111111110111111011101111111101011111111111111001111111101111111111101011111111110111111111111111001111111111111110111101111111111101011111111111111110111111111111101101101111111111110111111111110101111111011111111111111100111111111011011011101111111111101011111111111110111111111011111111111111011111111111111011001110111111111111011110111110110111111111111111111111111110101111111111111111111110111110111111111110111111111101111101111101111010011111001111111111111111101111110111111111111111110111111111111110101011101111111101011111111111001111101111100111111111011111111111111111111111111111111111011111111111101111111111111111111111110110111111110111110011111111111111111000101111101110111100111111111101101111111111101110111111111101111011111111011111010111111111110111111111111011111111011111110111111011111111011111101011111011111111111110111111111111100110101111111111110011111101111011110101110111111111111111111111110011110101111111111101111111001111011011111110111001001111111011111111001010111111111110001111110111011111111111110100101001111111011111000111111110011001111111111111110111111101011111111101111111111011111111101111101101111111111111111111110111111111111101011101111111111010111111111111110111111111111111111111111111011111111111111111111011101111001011110111011111111011111011011111011111110011011011101111101111111111111011011111111111010111000110011111111110111110110111000111011110111111100101111111111111111101111100111110111100111101110110111110110111111111111111111101111111111111111110111011111111111110111111111111111111111101110010111100110111110100111111111111101100110111111111111111111111111111111011111110111100110110111011110111011111110111111111111111111101110110111110111111111111111111111111111110111110110000111111110111101111011111111111111110011011011111101111111111111111111101111110111111101111011111011111110111111101111111111011111101111111101111111111011010011111111110010011111111110111111111100111111111111111111111111110111111111111111011111111111111100111011111111011110111111111111111110110111100111111111111111111111111011100111011111111011111111111111001111111011111111111110111111011101111101011111111111101111101111111111111111110101111101011111111111111101011111110111111111111111111110110111110100111101111100111111111111111111101111111111111111101111111011111111101111011111101101111111111111111011111110111111001110110101010111110111111110111001010010111001111001111111101011111011001011111101111101111111111111111111100111011101011111111111111111111111111101101101011111010110100111111111011101111110111111111101011111111111111111111011111110100010001111100011111111111111111111111011110111111101111111100111111111110111100110110101111111011110111101110111111011111100111110101110111101111111110111101111110111101111101111111111111111111111111111111111011111111101110111010111111111111111011101110011111011111111111111101111111111110110111111111101111101001111110111110111111101101111011111111011010111111111111110111111010111000011111110110101111111110111011111111111111101111001110101101111111111111111110111011111110111011111111101111011111111010111111011111111011111011011111110111111111111111111111111101011110111111111111011111111111111111101111111111111111111111111101111101111111111111111101101111011101111111111101011101111111111111111111111111111111111111110101110001101110111111110111111111111111110100011111111101111010100110111111111111111111011111111111011111011111111111111111101111111111111011111111111111101111111111111011111111100110111001111111111010111111111101111111111011011111011111111111011111101111111101111111111111111111111111111111111111011111111111111111110111101111101111110101110101111110111110111111110101111111110111100111111110111111111110111010111111111111111101111011111101111111101111111111110111011111111111011111111111111111110101111111101110111111111111111111111111110111111111110111111111101010111101101111111101000111111111011111110111111111101110101111111111111111010101111111111011111101111101111111111001111111110101111110110111111101011111111111111111111111101111111011111011110011011111011111111110001111111111110111111011111111111011011111111110011111110111111111111111111111011111011111101111111111111111111110111110111110011111111111111110101101111111011111011111111111111111110110011111111111101111111111111111101101111011111111111111110111111111111110111111111111111110111111111111111111011111011111111111110111110110011111111111110111111110111110111111111111100110111011011101111110111111111111011111111111110100010111111111111111111001101111111111111111011111110110111101011111101111111111111101110111111111110011111111111111101100111011111111111111111111011111111111101111111111111011111111011111101111101111111111111111110011100110011110111111111011111111111111110111111011110111111011100111111011111101111011111101111111001101011110111110111111110101111111011101111111111111010011101111111111111111001111011111101111011111111100011110110110111111111011111111111111111010111011111111111111111011001111011111010111111111111111111111101010110111111101111111111011011111111011111111111011011111010111101111111101110011001111111111111111111111111111111101101110110011011001111111111111011100111111011110110111111110111111111111111110011111111111001110110111011100111111111111111111111111011110111111110011111011111111111011101111111011111101101110111111111111001101111011111101101111111111101110111111110111011111011111111111101111111111110111110111011011111111011111111111111111111111101011111101111101011111111011101111111101001111111110110111111011111111111111100111011111111101111110111111101111101111110111111111111111111111111111011111110111111101011111111111110111111110111111111101001111111111111111011110111111110010111111110110101111111111111111111011111111111111111111011111110111101101010011100110110011111101011111101111110111111111101101011111011111111111111111001011111111011111001111111111111111111111101110111111111111111111111111011011101111011001111111111111101111101111110111101111011111110011111111101110111111110101111111111110011110111111110111111111111111111111010011111101101111101111101101111111111111110111011111011111111111111111101010111111111011110111111111110101111111111111111111111111111111111011110111111111111111111111011111110111011111111111010111111111110111111111011111111111011011111111001111111110101111111111111110101011111111111001111111111111111111111111111001110111111111111111111111111101111111011111111110010101111111111010111101101111111111111111101111111111111111110111111111111111101111111011111111111110110111110111111111111111111001100111011111110101011101101111111111111011110111110101101111011111111110111111111111111111111111111111110111111111111111011010111111111111101111111101111111111011111110111101111111111111110111111111111111111111111111111111111111111111011111111111111111110101100111111111111101111111111111111111010101111111111111111111111111011111011101111111110111110110111011101111111011111111111111110111101110111101011100110111111101111111110111111110111011110111111111111101111111110111111111111111111111111101101010111111111101111101111111010111111111111011111111110111110111001100111111111011100111111111011111111111111\n"
          ]
        }
      ]
    },
    {
      "cell_type": "markdown",
      "metadata": {
        "id": "rBVI38bO_Z_m"
      },
      "source": [
        "Without the additional T-operation, the result would be 100% = 1"
      ]
    },
    {
      "cell_type": "code",
      "metadata": {
        "colab": {
          "base_uri": "https://localhost:8080/",
          "height": 295
        },
        "id": "Tg9vOB5M2X01",
        "outputId": "57ca12be-e162-422a-d552-10d75372a85e"
      },
      "source": [
        "# Visualization\n",
        "# After doing that, you should see the quantum state become ∣00⟩+∣11⟩\n",
        "_ = cirq.vis.plot_state_histogram(result) #, plt.subplot())"
      ],
      "execution_count": null,
      "outputs": [
        {
          "output_type": "display_data",
          "data": {
            "image/png": "[encoded data removed]",
            "text/plain": [
              "<Figure size 432x288 with 1 Axes>"
            ]
          },
          "metadata": {
            "needs_background": "light"
          }
        }
      ]
    },
    {
      "cell_type": "markdown",
      "metadata": {
        "id": "v6xbqihA5Bk1"
      },
      "source": [
        "> **<font color=\"red\">We can reverse-engineer / extract the phase just from looking at the probability measures at end = Quantum Phase Estimation**"
      ]
    },
    {
      "cell_type": "code",
      "metadata": {
        "colab": {
          "base_uri": "https://localhost:8080/"
        },
        "id": "kuR-C_ko2Z3g",
        "outputId": "8662f014-5e1f-44d0-d831-c251eca868f8"
      },
      "source": [
        "result.histogram(key=\"a\")"
      ],
      "execution_count": null,
      "outputs": [
        {
          "output_type": "execute_result",
          "data": {
            "text/plain": [
              "Counter({0: 14573, 1: 85427})"
            ]
          },
          "metadata": {},
          "execution_count": 29
        }
      ]
    },
    {
      "cell_type": "markdown",
      "metadata": {
        "id": "2Rx62HY4_IDH"
      },
      "source": [
        "Result is around 0.14742. "
      ]
    },
    {
      "cell_type": "markdown",
      "metadata": {
        "id": "3Ix2wywNSf-u"
      },
      "source": [
        "###### **<font color=\"black\">Step by Step Explanation**"
      ]
    },
    {
      "cell_type": "markdown",
      "metadata": {
        "id": "h4ySKrZpPqVm"
      },
      "source": [
        "https://jonathan-hui.medium.com/qc-phase-estimation-in-shors-algorithm-acef265ebe50"
      ]
    },
    {
      "cell_type": "markdown",
      "metadata": {
        "id": "oNHEOloPEuq4"
      },
      "source": [
        "https://www.youtube.com/watch?v=5kcoaanYyZw"
      ]
    },
    {
      "cell_type": "markdown",
      "metadata": {
        "id": "BC-SHdwZFZ0H"
      },
      "source": [
        "![ggg](https://raw.githubusercontent.com/deltorobarba/repo/master/quantum_084.png)"
      ]
    },
    {
      "cell_type": "markdown",
      "metadata": {
        "id": "pfyT1XHAEyVQ"
      },
      "source": [
        ">**See below: Remember that a unitary matrix has eigenvalues of the form $e^{i \\theta_{\\psi}}$ (ohne $2 \\pi$ wie oben bei QFT) and that it has eigenvectors that form an orthonormal basis**"
      ]
    },
    {
      "cell_type": "markdown",
      "metadata": {
        "id": "AG-6ThVrEdXJ"
      },
      "source": [
        "![ggg](https://raw.githubusercontent.com/deltorobarba/repo/master/quantum_083.png)"
      ]
    },
    {
      "cell_type": "markdown",
      "metadata": {
        "id": "7jygkOCqL9c9"
      },
      "source": [
        "The problem: in both cases the probability is 0,5, just differs by the phase added:"
      ]
    },
    {
      "cell_type": "markdown",
      "metadata": {
        "id": "1p-zzXyW-tU6"
      },
      "source": [
        "![ggg](https://raw.githubusercontent.com/deltorobarba/repo/master/quantum_078.png)"
      ]
    },
    {
      "cell_type": "markdown",
      "metadata": {
        "id": "VSvCLdgF_YQC"
      },
      "source": [
        "![ggg](https://raw.githubusercontent.com/deltorobarba/repo/master/quantum_079.png)"
      ]
    },
    {
      "cell_type": "markdown",
      "metadata": {
        "id": "6rHCBrjo_ZWr"
      },
      "source": [
        "![ggg](https://raw.githubusercontent.com/deltorobarba/repo/master/quantum_080.png)"
      ]
    },
    {
      "cell_type": "markdown",
      "metadata": {
        "id": "RspVzMvD_tpb"
      },
      "source": [
        "**The probability of measuring 0 and 1 is each 0,5, but there is a small factor that makes them differ from 0,5, depending on the phase (angle):**"
      ]
    },
    {
      "cell_type": "markdown",
      "metadata": {
        "id": "scRiAADhBR3t"
      },
      "source": [
        "![ggg](https://raw.githubusercontent.com/deltorobarba/repo/master/quantum_081.png)"
      ]
    },
    {
      "cell_type": "markdown",
      "metadata": {
        "id": "JfuLYJcCpC6B"
      },
      "source": [
        "Beachte: One complete turn (360°) is equal to 2π radians, so 180° is equal to π radians, or equivalently, the degree is a mathematical constant: **1° = π⁄180**.\n",
        "https://en.wikipedia.org/wiki/Degree_(angle)\n",
        "\n",
        "![ggg](https://upload.wikimedia.org/wikipedia/commons/thumb/7/7c/Degree_diagram.svg/440px-Degree_diagram.svg.png)"
      ]
    },
    {
      "cell_type": "markdown",
      "metadata": {
        "id": "E0oYz_yZBCoU"
      },
      "source": [
        "> **In the different between the probability of measuring 0 or 1, you've encoded that phase! (In other words: you've taken that phase information and turned it into and amplitude that you can measure.**"
      ]
    },
    {
      "cell_type": "markdown",
      "metadata": {
        "id": "YT9mmW3yBvE6"
      },
      "source": [
        "**How to do this experimentally: you do a million shots of the experiment, collect statistics and check what the statistics say. How many times did I get zero? How many times did I get one? The hope is that the difference between the statistics of zero and one would allow us to back out theta**."
      ]
    },
    {
      "cell_type": "markdown",
      "metadata": {
        "id": "2Yh0-S6uCpJk"
      },
      "source": [
        "**Next level: now getting more precision with more qubits:** (there is another circuit to prepare Psi yet, which is assumed to be given here)"
      ]
    },
    {
      "cell_type": "markdown",
      "metadata": {
        "id": "HEjPkGR-Di0v"
      },
      "source": [
        "![ggg](https://raw.githubusercontent.com/deltorobarba/repo/master/quantum_082.png)"
      ]
    },
    {
      "cell_type": "markdown",
      "metadata": {
        "id": "PKlTEcuzGsM0"
      },
      "source": [
        "writing out the calculation:"
      ]
    },
    {
      "cell_type": "markdown",
      "metadata": {
        "id": "nBA3DT74GqUd"
      },
      "source": [
        "![ggg](https://raw.githubusercontent.com/deltorobarba/repo/master/quantum_085.png)"
      ]
    },
    {
      "cell_type": "markdown",
      "metadata": {
        "id": "8W4YwH23Guk5"
      },
      "source": [
        "**Comparing QPE with QFT (QPE is the same as QFT with a different phase):**"
      ]
    },
    {
      "cell_type": "markdown",
      "metadata": {
        "id": "ib1qf44PHLJJ"
      },
      "source": [
        "![ggg](https://raw.githubusercontent.com/deltorobarba/repo/master/quantum_086.png)"
      ]
    },
    {
      "cell_type": "markdown",
      "metadata": {
        "id": "jSEWnFnxH3I6"
      },
      "source": [
        "It's like applying a QFT of something (of a special phase $\\frac{\\theta_{\\psi}}{2^{n}} 2 \\pi$, the green box above!), and in order to get back to the original state you need to apply an inverse QFT at the end:"
      ]
    },
    {
      "cell_type": "markdown",
      "metadata": {
        "id": "IPwszYRAH2Js"
      },
      "source": [
        "![ggg](https://raw.githubusercontent.com/deltorobarba/repo/master/quantum_087.png)"
      ]
    },
    {
      "cell_type": "markdown",
      "metadata": {
        "id": "usifZJqwSk7f"
      },
      "source": [
        "###### **<font color=\"black\">Cirq Example**"
      ]
    },
    {
      "cell_type": "markdown",
      "metadata": {
        "id": "HgfB0IKekeeB"
      },
      "source": [
        "https://qiskit.org/textbook/ch-algorithms/quantum-phase-estimation.html#creating_the_circuit"
      ]
    },
    {
      "cell_type": "markdown",
      "metadata": {
        "id": "aM5nccmSkg_t"
      },
      "source": [
        "https://arxiv.org/pdf/1910.11696.pdf"
      ]
    },
    {
      "cell_type": "markdown",
      "metadata": {
        "id": "8ZwuxaKm4lF2"
      },
      "source": [
        "![gg](https://upload.wikimedia.org/wikipedia/commons/a/a5/PhaseCircuit-crop.svg)"
      ]
    },
    {
      "cell_type": "markdown",
      "metadata": {
        "id": "5vUYeIG9TEuB"
      },
      "source": [
        "![ggg](https://raw.githubusercontent.com/deltorobarba/repo/master/quantum_115.png)"
      ]
    },
    {
      "cell_type": "markdown",
      "metadata": {
        "id": "r8u3NsIlTNsO"
      },
      "source": [
        "$U$ = $Z^{2^{n-n}}$ \n",
        "\n",
        "Z = $e^{\\pi}$ \n",
        "\n",
        "* $Z$ entspricht $\\pi$ (ein halber Kreis, zB von +1 zu -1 auf X-Achse) \n",
        "\n",
        "\n",
        "then:\n",
        "\n",
        "> <font color=\"blue\">$U$ = $e^{\\pi * 2^{n-n}}$\n"
      ]
    },
    {
      "cell_type": "markdown",
      "metadata": {
        "id": "4PM9tfXZTjz6"
      },
      "source": [
        "https://www.youtube.com/watch?v=YpcT8u2a2jc&list=PLOFEBzvs-VvrXTMy5Y2IqmSaUjfnhvBHR"
      ]
    },
    {
      "cell_type": "code",
      "metadata": {
        "id": "-zxsy6Cc5Wrx"
      },
      "source": [
        "\"\"\"Set up the unitary and number of bits to use in phase estimation.\"\"\"\n",
        "# Value of θ which appears in the definition of the unitary U above.\n",
        "# Try different values.\n",
        "theta = 0.234\n",
        "\n",
        "# Define the unitary U.\n",
        "U = cirq.Z ** (2 * theta)\n",
        "\n",
        "# Accuracy of the estimate for theta. Try different values.\n",
        "n_bits = 3"
      ],
      "execution_count": null,
      "outputs": []
    },
    {
      "cell_type": "markdown",
      "metadata": {
        "id": "AnahDQbu-L5F"
      },
      "source": [
        "Now we can build the first part of the circuit (up until the inverse QFT) for phase estimation.\n",
        "\n"
      ]
    },
    {
      "cell_type": "code",
      "metadata": {
        "colab": {
          "base_uri": "https://localhost:8080/"
        },
        "id": "NMG3fjxw5aXU",
        "outputId": "1c03b6ea-3411-41ae-f6e8-2f842b981423"
      },
      "source": [
        "\"\"\"Build the first part of the circuit for phase estimation.\"\"\"\n",
        "# Get qubits for the phase estimation circuit.\n",
        "qubits = cirq.LineQubit.range(n_bits)\n",
        "u_bit = cirq.NamedQubit('u')\n",
        "\n",
        "# Build the first part of the phase estimation circuit.\n",
        "phase_estimator = cirq.Circuit(cirq.H.on_each(*qubits))\n",
        "\n",
        "for i, bit in enumerate(qubits):\n",
        "    phase_estimator.append(cirq.ControlledGate(U).on(bit, u_bit) ** (2 ** (n_bits - i - 1)))\n",
        "    # explanation: U-rot control aktiviert wenn entsprechendes qubit in state 1\n",
        "    # dann aktiviere formel: U^2^(n-1) ...U^2^(n-2) ...U^2^(n-n)\n",
        "\n",
        "print(phase_estimator)"
      ],
      "execution_count": null,
      "outputs": [
        {
          "output_type": "stream",
          "name": "stdout",
          "text": [
            "0: ───H───@──────────────────────────────\n",
            "          │\n",
            "1: ───H───┼──────────@───────────────────\n",
            "          │          │\n",
            "2: ───H───┼──────────┼─────────@─────────\n",
            "          │          │         │\n",
            "u: ───────Z^-0.128───Z^0.936───Z^0.468───\n"
          ]
        }
      ]
    },
    {
      "cell_type": "markdown",
      "metadata": {
        "id": "BaPWYUPs90EP"
      },
      "source": [
        "> <font color=\"blue\">$U$ = $Z^{2^{n-n}}$ = $e^{\\pi * 2^{n-n}}$ fur das erste Gate: = $e^{\\pi * (-0.128)}$ ????\n"
      ]
    },
    {
      "cell_type": "markdown",
      "metadata": {
        "id": "KoxXF9-W9orx"
      },
      "source": [
        "**The controlled u gate**:\n",
        "\n",
        "$0\\rangle \\mapsto|00\\rangle$\n",
        "\n",
        "$|01\\rangle \\mapsto|01\\rangle$\n",
        "\n",
        "$|10\\rangle \\mapsto|1\\rangle \\otimes U|0\\rangle=|1\\rangle \\otimes\\left(u_{00}|0\\rangle+u_{10}|1\\rangle\\right)$\n",
        "\n",
        "$|11\\rangle \\mapsto|1\\rangle \\otimes U|1\\rangle=|1\\rangle \\otimes\\left(u_{01}|0\\rangle+u_{11}|1\\rangle\\right)$\n",
        "\n",
        "The matrix representing the controlled $U$ is\n",
        "\n",
        ">$\n",
        "\\mathrm{C} U=\\left[\\begin{array}{cccc}\n",
        "1 & 0 & 0 & 0 \\\\\n",
        "0 & 1 & 0 & 0 \\\\\n",
        "0 & 0 & u_{00} & u_{01} \\\\\n",
        "0 & 0 & u_{10} & u_{11}\n",
        "\\end{array}\\right]\n",
        "$\n",
        "\n",
        "**When U is one of the Pauli operators, X,Y, Z, the respective terms \"controlled-X\", \"controlled-Y\", or \"controlled-Z\" are sometimes used**. \n",
        "Sometimes this is shortened to just CX, CY and CZ."
      ]
    },
    {
      "cell_type": "markdown",
      "metadata": {
        "id": "QmWbdiv6-JNa"
      },
      "source": [
        "The next step is to perform the inverse QFT on the estimation qubits and measure them.\n",
        "\n"
      ]
    },
    {
      "cell_type": "code",
      "metadata": {
        "id": "Bv_xQnY__HDH"
      },
      "source": [
        "def make_qft_inverse(qubits):\n",
        "    \"\"\"Generator for the inverse QFT on a list of qubits.\"\"\"\n",
        "    qreg = list(qubits)[::-1]\n",
        "    while len(qreg) > 0:\n",
        "        q_head = qreg.pop(0)\n",
        "        yield cirq.H(q_head)\n",
        "        for i, qubit in enumerate(qreg):\n",
        "            yield (cirq.CZ ** (-1 / 2 ** (i + 1)))(qubit, q_head)"
      ],
      "execution_count": null,
      "outputs": []
    },
    {
      "cell_type": "code",
      "metadata": {
        "colab": {
          "base_uri": "https://localhost:8080/"
        },
        "id": "O0Y0JrNv-oyU",
        "outputId": "90b9d707-c716-4455-e791-0a7be67e950b"
      },
      "source": [
        "\"\"\"Build the last part of the circuit (inverse QFT) for phase estimation.\"\"\"\n",
        "# Do the inverse QFT.\n",
        "phase_estimator.append(make_qft_inverse(qubits[::-1]))\n",
        "\n",
        "# Add measurements to the end of the circuit\n",
        "phase_estimator.append(cirq.measure(*qubits, key='m'))\n",
        "print(phase_estimator)"
      ],
      "execution_count": null,
      "outputs": [
        {
          "output_type": "stream",
          "name": "stdout",
          "text": [
            "                                         ┌────────┐\n",
            "0: ───H───@──────────H─────────@──────────@────────────────────────M('m')───\n",
            "          │                    │          │                        │\n",
            "1: ───H───┼──────────@─────────@^-0.5─────┼──────H────@────────────M────────\n",
            "          │          │                    │           │            │\n",
            "2: ───H───┼──────────┼─────────@──────────@^-0.25─────@^-0.5───H───M────────\n",
            "          │          │         │\n",
            "u: ───────Z^-0.128───Z^0.936───Z^0.468──────────────────────────────────────\n",
            "                                         └────────┘\n"
          ]
        }
      ]
    },
    {
      "cell_type": "markdown",
      "metadata": {
        "id": "2DlNB7E2DPKs"
      },
      "source": [
        "The initial state for u_bit is the  state, but the phase for this state is trivial with the operator we chose. Inserting a Pauli  operator at the begining of the circuit changes this to the  state, which has the nontrivial  phase."
      ]
    },
    {
      "cell_type": "code",
      "metadata": {
        "colab": {
          "base_uri": "https://localhost:8080/"
        },
        "id": "5CwyPtisDS3H",
        "outputId": "8bca8a39-e56e-405a-ff41-622e754740e0"
      },
      "source": [
        "\"\"\"Set the input state of the eigenvalue register.\"\"\"\n",
        "# Add gate to change initial state to |1>.\n",
        "phase_estimator.insert(0, cirq.X(u_bit))\n",
        "\n",
        "print(phase_estimator)"
      ],
      "execution_count": null,
      "outputs": [
        {
          "output_type": "stream",
          "name": "stdout",
          "text": [
            "                                         ┌────────┐\n",
            "0: ───H───@──────────H─────────@──────────@────────────────────────M('m')───\n",
            "          │                    │          │                        │\n",
            "1: ───H───┼──────────@─────────@^-0.5─────┼──────H────@────────────M────────\n",
            "          │          │                    │           │            │\n",
            "2: ───H───┼──────────┼─────────@──────────@^-0.25─────@^-0.5───H───M────────\n",
            "          │          │         │\n",
            "u: ───X───Z^-0.128───Z^0.936───Z^0.468──────────────────────────────────────\n",
            "                                         └────────┘\n"
          ]
        }
      ]
    },
    {
      "cell_type": "code",
      "metadata": {
        "colab": {
          "base_uri": "https://localhost:8080/"
        },
        "id": "UPBFj8JyDYCd",
        "outputId": "246923e4-5eb1-40ac-d1fd-7852dcda9373"
      },
      "source": [
        "\"\"\"Simulate the circuit and convert from measured bit values to estimated θ values.\"\"\"\n",
        "# Simulate the circuit.\n",
        "sim = cirq.Simulator()\n",
        "result = sim.run(phase_estimator, repetitions=10)\n",
        "\n",
        "# Convert from output bitstrings to estimate θ values.\n",
        "theta_estimates = np.sum(2 ** np.arange(n_bits) * result.measurements['m'], axis=1) / 2**n_bits\n",
        "print(theta_estimates)"
      ],
      "execution_count": null,
      "outputs": [
        {
          "output_type": "stream",
          "name": "stdout",
          "text": [
            "[0.25  0.25  0.25  0.25  0.25  0.25  0.25  0.25  0.25  0.125]\n"
          ]
        }
      ]
    },
    {
      "cell_type": "markdown",
      "metadata": {
        "id": "dYHOFdFMDqt-"
      },
      "source": [
        "**Here is a solution that just consists of what we did in previous cells all put together.**"
      ]
    },
    {
      "cell_type": "code",
      "metadata": {
        "id": "B2iff49oDyK9"
      },
      "source": [
        "def phase_estimation(theta, n_bits, n_reps=10, prepare_eigenstate_gate=cirq.X):\n",
        "    # Define qubit registers.\n",
        "    qubits = cirq.LineQubit.range(n_bits)\n",
        "    u_bit = cirq.NamedQubit('u')\n",
        "\n",
        "    # Define the unitary U.\n",
        "    U = cirq.Z ** (2 * theta)\n",
        "\n",
        "    # Start with Hadamards on every qubit.\n",
        "    phase_estimator = cirq.Circuit(cirq.H.on_each(*qubits))\n",
        "\n",
        "    # Do the controlled powers of the unitary U.\n",
        "    for i, bit in enumerate(qubits):\n",
        "        phase_estimator.append(cirq.ControlledGate(U).on(bit, u_bit) ** (2 ** (n_bits - 1 - i)))\n",
        "\n",
        "    # Do the inverse QFT.\n",
        "    phase_estimator.append(make_qft_inverse(qubits[::-1]))\n",
        "\n",
        "    # Add measurements.\n",
        "    phase_estimator.append(cirq.measure(*qubits, key='m'))\n",
        "\n",
        "    # Gate to choose initial state for the u_bit. Placing X here chooses the |1> state.\n",
        "    phase_estimator.insert(0, prepare_eigenstate_gate.on(u_bit))\n",
        "\n",
        "    # Code to simulate measurements\n",
        "    sim = cirq.Simulator()\n",
        "    result = sim.run(phase_estimator, repetitions=n_reps)\n",
        "\n",
        "    # Convert measurements into estimates of theta\n",
        "    theta_estimates = np.sum(2**np.arange(n_bits)*result.measurements['m'], axis=1)/2**n_bits\n",
        "\n",
        "    return theta_estimates"
      ],
      "execution_count": null,
      "outputs": []
    },
    {
      "cell_type": "code",
      "metadata": {
        "id": "QXYdv6C1D12B"
      },
      "source": [
        "\"\"\"Analyze convergence vs n_bits.\"\"\"\n",
        "# Set the value of theta. Try different values.\n",
        "theta = 0.123456\n",
        "\n",
        "max_nvals = 16\n",
        "nvals = np.arange(1, max_nvals, step=1)\n",
        "\n",
        "# Get the estimates at each value of n.\n",
        "estimates = []\n",
        "for n in nvals:\n",
        "    estimate = phase_estimation(theta=theta, n_bits=n, n_reps=1)[0]\n",
        "    estimates.append(estimate)"
      ],
      "execution_count": null,
      "outputs": []
    },
    {
      "cell_type": "code",
      "metadata": {
        "colab": {
          "base_uri": "https://localhost:8080/"
        },
        "id": "uK1WFAjgEqed",
        "outputId": "04423c54-a313-43c5-85ab-ccceff5f9887"
      },
      "source": [
        "print(theta_estimates)"
      ],
      "execution_count": null,
      "outputs": [
        {
          "output_type": "stream",
          "name": "stdout",
          "text": [
            "[0.25  0.25  0.25  0.25  0.25  0.25  0.25  0.25  0.25  0.125]\n"
          ]
        }
      ]
    },
    {
      "cell_type": "code",
      "metadata": {
        "colab": {
          "base_uri": "https://localhost:8080/"
        },
        "id": "6Ax-u59AEnmD",
        "outputId": "a3dd79c5-8217-4bcb-c21f-8dbd6d0c8fc7"
      },
      "source": [
        "print(estimates)"
      ],
      "execution_count": null,
      "outputs": [
        {
          "output_type": "stream",
          "name": "stdout",
          "text": [
            "[0.0, 0.0, 0.125, 0.125, 0.125, 0.125, 0.125, 0.16015625, 0.123046875, 0.123046875, 0.12353515625, 0.121337890625, 0.1234130859375, 0.12347412109375, 0.123443603515625]\n"
          ]
        }
      ]
    },
    {
      "cell_type": "code",
      "metadata": {
        "colab": {
          "base_uri": "https://localhost:8080/",
          "height": 276
        },
        "id": "uDBJQJQJD4PP",
        "outputId": "b4af330e-9d85-468c-d702-f02e7c68b5ff"
      },
      "source": [
        "\"\"\"Plot the results.\"\"\"\n",
        "plt.style.use(\"seaborn-whitegrid\")\n",
        "\n",
        "plt.plot(nvals, estimates, \"--o\", label=\"Phase estimation\")\n",
        "plt.axhline(theta, label=\"True value\", color=\"black\")\n",
        "\n",
        "plt.legend()\n",
        "plt.xlabel(\"Number of bits\")\n",
        "plt.ylabel(r\"$\\theta$\");"
      ],
      "execution_count": null,
      "outputs": [
        {
          "output_type": "display_data",
          "data": {
            "image/png": "[encoded data removed]",
            "text/plain": [
              "<Figure size 432x288 with 1 Axes>"
            ]
          },
          "metadata": {}
        }
      ]
    }
  ]
}