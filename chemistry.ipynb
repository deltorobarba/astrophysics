{
  "nbformat": 4,
  "nbformat_minor": 0,
  "metadata": {
    "colab": {
      "name": "chemistry.ipynb",
      "provenance": [],
      "collapsed_sections": [
        "viMjVEPxM49g",
        "oMxZ7Xs_fZwe",
        "dxEPFgLpozcx",
        "BYZe8m38O7A4",
        "i6XevCo6oqZb",
        "5BniQUsrPHK-",
        "s5NANy2NXO_C",
        "9NynH96ZPANa",
        "suClYdz3XBOR",
        "3qfBj5vRO2uZ",
        "Ao8gLLYDukl6",
        "nUlAyTMVn_mh"
      ],
      "include_colab_link": true
    },
    "kernelspec": {
      "name": "python3",
      "display_name": "Python 3"
    }
  },
  "cells": [
    {
      "cell_type": "markdown",
      "metadata": {
        "id": "view-in-github",
        "colab_type": "text"
      },
      "source": [
        "<a href=\"https://colab.research.google.com/github/deltorobarba/machinelearning/blob/master/chemistry.ipynb\" target=\"_parent\"><img src=\"https://colab.research.google.com/assets/colab-badge.svg\" alt=\"Open In Colab\"/></a>"
      ]
    },
    {
      "cell_type": "markdown",
      "metadata": {
        "id": "uYQVihuXzx6u"
      },
      "source": [
        "# **Quantum (Computational) Chemistry**"
      ]
    },
    {
      "cell_type": "code",
      "source": [
        "import sympy\n",
        "import numpy as np\n",
        "import pandas as pd\n",
        "import seaborn as sns\n",
        "import matplotlib.pyplot as plt"
      ],
      "metadata": {
        "id": "3iZECPAap2px"
      },
      "execution_count": null,
      "outputs": []
    },
    {
      "cell_type": "code",
      "source": [
        "# Quantum Computing Libraries\n",
        "!pip install cirq --quiet\n",
        "import cirq\n",
        "from cirq.contrib.svg import SVGCircuit\n",
        "print(cirq.__version__)"
      ],
      "metadata": {
        "id": "9yft4U8Qp1TS"
      },
      "execution_count": null,
      "outputs": []
    },
    {
      "cell_type": "markdown",
      "source": [
        "### **<font color=\"blue\">Quantum Chemistry $\\hat{H}_{elec}$**"
      ],
      "metadata": {
        "id": "viMjVEPxM49g"
      }
    },
    {
      "cell_type": "markdown",
      "source": [
        "https://pennylane.ai/qml/demos/tutorial_quantum_chemistry.html"
      ],
      "metadata": {
        "id": "Ro2Tzcq77iPe"
      }
    },
    {
      "cell_type": "markdown",
      "metadata": {
        "id": "LmM9RdpaTuOI"
      },
      "source": [
        "###### **Mean-field theory**"
      ]
    },
    {
      "cell_type": "markdown",
      "metadata": {
        "id": "CSb7xj1fTynB"
      },
      "source": [
        "* In physics and probability theory, [mean-field theory](https://en.m.wikipedia.org/wiki/Mean-field_theory) (aka MFT or rarely self-consistent field theory) studies the behavior of high-dimensional random (stochastic) models by studying a simpler model that approximates the original by averaging over degrees of freedom (the number of values in the final calculation of a statistic that are free to vary). Such models consider many individual components that interact with each other. \n",
        "\n",
        "* In MFT, the effect of all the other individuals on any given individual is approximated by a single averaged effect, **thus reducing a [many-body problem](https://en.m.wikipedia.org/wiki/Many-body_problem) to a [one-body problem (two body)](https://en.m.wikipedia.org/wiki/Two-body_problem)**."
      ]
    },
    {
      "cell_type": "markdown",
      "source": [
        "###### **Atomic orbitals & Molecular orbital**"
      ],
      "metadata": {
        "id": "9sWPQiPBgr3n"
      }
    },
    {
      "cell_type": "markdown",
      "source": [
        "* a [molecular orbital](https://en.m.wikipedia.org/wiki/Molecular_orbital) is a mathematical function **describing the location and wave-like behavior of an electron in a molecule**. \n",
        "\n",
        "* This function can be used to calculate chemical and physical properties such as the probability of finding an electron in any specific region. \n",
        "\n",
        "* The terms atomic orbital and molecular orbital were introduced by Robert S. Mulliken in 1932 to mean one-electron orbital wave functions. At an elementary level, they are **used to describe the region of space in which a function has a significant amplitude**.\n",
        "\n",
        "* In an isolated atom, the orbital electrons' location is determined by functions called [atomic orbitals](https://en.m.wikipedia.org/wiki/Atomic_orbital). When multiple atoms combine chemically into a molecule, the electrons' locations are determined by the molecule as a whole, so **the atomic orbitals combine to form molecular orbitals**. The electrons from the constituent atoms occupy the molecular orbitals. \n",
        "\n",
        "* Mathematically, **molecular orbitals are an approximate solution to the Schrödinger equation for the electrons in the field of the molecule's [atomic nuclei](https://en.m.wikipedia.org/wiki/Atomic_nucleus)**. \n",
        "\n",
        "* They are usually constructed by combining [atomic orbitals](https://en.m.wikipedia.org/wiki/Atomic_orbital) or [hybrid orbitals](https://en.m.wikipedia.org/wiki/Orbital_hybridisation) from each atom of the molecule, or other molecular orbitals from groups of atoms. **They can be quantitatively calculated using the Hartree–Fock or self-consistent field (SCF) methods**.\n",
        "\n",
        "\n"
      ],
      "metadata": {
        "id": "dIxDlL_Fgxlw"
      }
    },
    {
      "cell_type": "markdown",
      "source": [
        "Molecular orbitals are of three types: \n",
        "\n",
        "* bonding orbitals which have an energy lower than the energy of the atomic orbitals which formed them, and thus promote the chemical bonds which hold the molecule together; \n",
        "\n",
        "* antibonding orbitals which have an energy higher than the energy of their constituent atomic orbitals, and so oppose the bonding of the molecule, and \n",
        "\n",
        "* non-bonding orbitals which have the same energy as their constituent atomic orbitals and thus have no effect on the bonding of the molecule.\n",
        "\n",
        "\n"
      ],
      "metadata": {
        "id": "Xi4w3I2grLD-"
      }
    },
    {
      "cell_type": "markdown",
      "source": [
        "A molecular orbital (MO) can be used to **represent the regions in a molecule where an electron occupying that orbital is likely to be found**. \n",
        "\n",
        "* Molecular orbitals are approximate solutions to the Schrödinger equation for the electrons in the electric field of the molecule's atomic nuclei. \n",
        "\n",
        "* However calculating the orbitals directly from this equation is far too intractable a problem. Instead **they are obtained from the combination of atomic orbitals, which predict the location of an electron in an atom**. \n",
        "\n",
        "* A molecular orbital can specify the electron configuration of a molecule: \n",
        "\n",
        "  * the spatial distribution and energy of one (or one pair of) electron(s). \n",
        "  \n",
        "  * Most commonly a MO is represented as a linear combination of atomic orbitals (the LCAO-MO method), especially in qualitative or very approximate usage. They are invaluable in providing a simple model of bonding in molecules, understood through molecular orbital theory. Most present-day methods in computational chemistry begin by calculating the MOs of the system. \n",
        "  \n",
        "  * **A molecular orbital describes the behavior of one electron in the electric field generated by the nuclei and some average distribution of the other electrons**. In the case of two electrons occupying the same orbital, the Pauli principle demands that they have opposite spin. Necessarily this is an approximation, and highly accurate descriptions of the molecular electronic wave function do not have orbitals (see configuration interaction).\n",
        "\n"
      ],
      "metadata": {
        "id": "-TT0WIgtp_Gw"
      }
    },
    {
      "cell_type": "markdown",
      "source": [
        "See also example: https://en.wikipedia.org/wiki/Trigonal_planar_molecular_geometry"
      ],
      "metadata": {
        "id": "qgnQoU4XrGAS"
      }
    },
    {
      "cell_type": "markdown",
      "source": [
        "###### **Molekülorbitaltheorie (MO-Theorie)**"
      ],
      "metadata": {
        "id": "0k57PJfQnBoq"
      }
    },
    {
      "cell_type": "markdown",
      "source": [
        "* Die [Molekülorbitaltheorie](https://de.m.wikipedia.org/wiki/Molek%C3%BClorbitaltheorie) (kurz MO-Theorie) bzw. [Molecular orbital theory](https://en.m.wikipedia.org/wiki/Molecular_orbital_theory) ist neben der Valenzbindungstheorie (VB-Theorie) eine von zwei komplementären Möglichkeiten, <font color=\"blue\">**die Elektronenstruktur von Molekülen zu beschreiben**.</font>\n",
        "\n",
        "* Beim MO-Verfahren werden über das Molekül delokalisierte Molekülorbitale durch eine Linearkombination ([LCAO-Methode](https://de.m.wikipedia.org/wiki/LCAO-Methode)) der Atomorbitale aller Atome eines Moleküls gebildet. \n",
        "\n",
        "* Dabei wird zwischen bindenden und antibindenden Molekülorbitalen unterschieden. \n",
        "\n",
        "* Das Verfahren wird heute für die meisten quantenchemischen Rechnungen verwendet.\n"
      ],
      "metadata": {
        "id": "E7eFXQWWm_cI"
      }
    },
    {
      "cell_type": "markdown",
      "source": [
        "Eine zeitunabhängige $n$-Elektronen-Wellenfunktion hat, wenn der Spin nicht beachtet wird, die allgemeine Form $\\Psi\\left(\\vec{r}_{1}, \\ldots \\vec{r}_{n}\\right)$. \n",
        "\n",
        "* Das Produkt mit der komplex konjugierten Funktion $\\Psi^{*}\\left(\\vec{r}_{1}, \\ldots \\vec{r}_{n}\\right) \\cdot \\Psi\\left(\\vec{r}_{1}, \\ldots \\vec{r}_{n}\\right)$ ist reell und gibt die Wahrscheinlichkeitsdichte wieder, das erste Elektron an der Stelle $\\vec{r}_{1}$, das 2-te an der Stelle $\\vec{r}_{2}$ usw. zu finden.\n",
        "\n",
        "\n",
        "* <font color=\"blue\">**Die exakte Wellenfunktion lässt sich für Mehrelektronensysteme analytisch nicht finden. Eine zielführende Vereinfachung ist es, die Elektronen als stochastisch unabhängig anzusehen**</font>. Mathematisch bedeutet das, einen Produktansatz zu verwenden $\\Psi\\left(\\vec{r}_{1}, \\ldots \\vec{r}_{n}\\right)=\\prod_{i=1}^{n} \\Psi_{i}\\left(\\vec{r}_{i}\\right)$. Dieser Ansatz ist auch als Hartree-Produkt bekannt. <font color=\"blue\">**Die $\\Psi_{i}\\left(\\vec{r}_{i}\\right)$ geben die Aufenthaltsbereiche für die einzelnen Elektronen an**</font>. Sie werden als Molekülorbitale bezeichnet. \n",
        "\n",
        "* Um das Pauli-Prinzip einzuhalten, wird die Wellenfunktion als [Slater-Determinante](https://de.m.wikipedia.org/wiki/Slater-Determinante) (ein antisymmetrisierter Produktansatz) angesetzt. Dabei ist gewährleistet, dass die Wellenfunktion [antisymmetrisch](https://de.m.wikipedia.org/wiki/Antisymmetrische_Funktion) unter Vertauschung zweier ununterscheidbarer Elektronen ist, wie es für Fermionen gelten muss."
      ],
      "metadata": {
        "id": "Q4rK6hDltmRb"
      }
    },
    {
      "cell_type": "markdown",
      "source": [
        "Abgesehen davon, **dass MO-Schemata eine vereinfachte, modellhafte Beschreibung darstellen**, ist zu beachten, dass sie in der MO-Theorie nicht eindeutig bestimmt sind. \n",
        "\n",
        "* Entscheidend ist nur die Summe über alle quadrierten Orbitale, die Elektronendichte (das ist auch die Grundlage für die [Dichtefunktionaltheorie DFT](https://de.m.wikipedia.org/wiki/Dichtefunktionaltheorie_(Quantenphysik))). Mathematisch gesprochen ist die Wellenfunktion gegenüber einer unitären Lineartransformation invariant. \n",
        "\n",
        "* So lassen sich neben den oft als kanonische MOs bezeichneten Orbitale verschieden andere Darstellungen finden, z. B. Localized Molecular Orbitals (LMOs)."
      ],
      "metadata": {
        "id": "BuphkOZvuO8g"
      }
    },
    {
      "cell_type": "markdown",
      "source": [
        "###### **Valenzbindungstheorie (Valence bond theory)**"
      ],
      "metadata": {
        "id": "mmmpM_A5mbzb"
      }
    },
    {
      "cell_type": "markdown",
      "source": [
        "https://de.m.wikipedia.org/wiki/Valenzbindungstheorie"
      ],
      "metadata": {
        "id": "EXGXYvxTmezI"
      }
    },
    {
      "cell_type": "markdown",
      "source": [
        "###### **Molecular Hamiltonian**"
      ],
      "metadata": {
        "id": "O-qsVPgAZrHt"
      }
    },
    {
      "cell_type": "markdown",
      "source": [
        "The Schrödinger equation can then be solved (usually approximately) for the electronic wavefunction for fixed nuclear distances. The plot of electronic energy as a function of nuclear distances is called the potential energy surface.\n",
        "The P.E. surface represents the potential within which the nuclei move. Motion of nuclei on this surface corresponds to molecular vibration. (Rotation is considered as a special case of vibration in which internuclear distances are fixed.)"
      ],
      "metadata": {
        "id": "-PN0bJUAcnJU"
      }
    },
    {
      "cell_type": "markdown",
      "source": [
        "https://en.m.wikipedia.org/wiki/Molecular_Hamiltonian"
      ],
      "metadata": {
        "id": "CAq34hTBZumL"
      }
    },
    {
      "cell_type": "markdown",
      "source": [
        "###### **Born–Oppenheimer Approximation**"
      ],
      "metadata": {
        "id": "d1cHwxmNNY9m"
      }
    },
    {
      "cell_type": "markdown",
      "source": [
        "* [Born–Oppenheimer Approximation](https://en.m.wikipedia.org/wiki/Born–Oppenheimer_approximation) is the best known mathematical approximation in molecular dynamics\n",
        "\n",
        "* it is the assumption that the **wave functions of atomic nuclei and electrons in a molecule can be treated separately**, based on the fact that the nuclei are much heavier than the electrons\n",
        "\n",
        "* The approximation is **widely used in quantum chemistry to speed up the computation of molecular wavefunctions** and other properties for large molecules.\n",
        "\n",
        "* There are **cases where the assumption of separable motion no longer holds**, which make the approximation lose validity (it is said to \"break down\"), but is then **often used as a starting point for more refined methods**.\n",
        "\n",
        "* In molecular [spectroscopy](https://en.m.wikipedia.org/wiki/Spectroscopy), using the BO approximation means <font color=\"blue\">**considering molecular energy as a sum of independent terms**</font>, e.g.: \n",
        "\n",
        "> $E_{\\text{total}}=E_{\\text{electronic}}+E_{\\text{vibrational}}+E_{\\text{rotational}}+E_{\\text{nuclear spin}}$ \n",
        "\n",
        "* These terms are of different orders of magnitude and the nuclear spin energy is so small that it is often omitted. \n",
        "\n",
        "* The electronic energies $E_{\\text{electronic}}$ consist of kinetic energies, interelectronic repulsions, internuclear repulsions, and electron–nuclear attractions, which are the terms typically included when computing the electronic structure of molecules.\n",
        "\n",
        "* *Example: The benzene molecule consists of 12 nuclei and 42 electrons. The Schrödinger equation, which must be solved to obtain the energy levels and wavefunction of this molecule, is a partial differential eigenvalue equation in the three-dimensional coordinates of the nuclei and electrons, giving 3 × 12 + 3 × 42 = 36 nuclear + 126 electronic = 162 variables for the wave function. The computational complexity, i.e. the computational power required to solve an eigenvalue equation, increases faster than the square of the number of coordinates.*"
      ],
      "metadata": {
        "id": "PtKegyd4NWt8"
      }
    },
    {
      "cell_type": "markdown",
      "source": [
        "**The Born-Oppenheimer Approximation states that electronic motion is so fast that\n",
        "nuclei can be considered fixed**: the mass of a nuclear is so much greater than the mass of an electron, we set the nuclei as fixed, or the kinetic energy of the nuclei are zero (1 proton weighs about 1,800 times more than a single electron, and mist nuclei are even heavier than hydrogen nuclei, i.e. Carbon nucleus is 20,000 times heavier than an electron). We're going to solve of the wavefunction of the electrons at a fixed position of the nuclei.\n",
        "\n",
        "The potential energy surface then corresponds to a plot of the energy of the system as a function of nuclear coordinates.\n"
      ],
      "metadata": {
        "id": "yWTLe6wJcV13"
      }
    },
    {
      "cell_type": "markdown",
      "source": [
        "See also video: [Quantum Chemistry 10.1 - Hydrogen Molecule Hamiltonian](https://www.youtube.com/watch?v=BBoE6NRRZ8k)"
      ],
      "metadata": {
        "id": "4G-2VnJpiCCP"
      }
    },
    {
      "cell_type": "markdown",
      "source": [
        "See also Video: [Quantum Chemistry 10.2 - Born-Oppenheimer Approximation](https://www.youtube.com/watch?v=UGB2psWD69s)"
      ],
      "metadata": {
        "id": "2_BCP3uZX704"
      }
    },
    {
      "cell_type": "markdown",
      "source": [
        "![ggg](https://raw.githubusercontent.com/deltorobarba/repo/master/quantum_306.png)"
      ],
      "metadata": {
        "id": "RcOFjn1SX4DP"
      }
    },
    {
      "cell_type": "markdown",
      "source": [
        "###### **The Franck-Condon principle**"
      ],
      "metadata": {
        "id": "kN03L0w9Zv_e"
      }
    },
    {
      "cell_type": "markdown",
      "source": [
        "https://en.m.wikipedia.org/wiki/Franck–Condon_principle"
      ],
      "metadata": {
        "id": "MuFVgbfeM_u-"
      }
    },
    {
      "cell_type": "markdown",
      "source": [
        "Video: [The Franck-Condon principle](https://www.youtube.com/watch?v=mf_zFHxiY28)"
      ],
      "metadata": {
        "id": "Vlqy9XsXceR9"
      }
    },
    {
      "cell_type": "markdown",
      "source": [
        "###### **Potential energy surface**"
      ],
      "metadata": {
        "id": "foVHaknBbD3-"
      }
    },
    {
      "cell_type": "markdown",
      "source": [
        "The potential energy surface then corresponds to a plot of the energy of\n",
        "the system as a function of nuclear coordinates."
      ],
      "metadata": {
        "id": "RgEThTCZdBSL"
      }
    },
    {
      "cell_type": "markdown",
      "source": [
        "https://en.m.wikipedia.org/wiki/Potential_energy_surface"
      ],
      "metadata": {
        "id": "o1T5Nqq_bGo5"
      }
    },
    {
      "cell_type": "markdown",
      "source": [
        "###### **First & Second quantization & Quantum many-body states**"
      ],
      "metadata": {
        "id": "XKOw8Xged7DR"
      }
    },
    {
      "cell_type": "markdown",
      "source": [
        "https://en.m.wikipedia.org/wiki/Second_quantization"
      ],
      "metadata": {
        "id": "h5MJAW_1eAZu"
      }
    },
    {
      "cell_type": "markdown",
      "source": [
        "###### **Fock States, Fock space & Vacuum State**"
      ],
      "metadata": {
        "id": "JYWliFZdeifA"
      }
    },
    {
      "cell_type": "markdown",
      "source": [
        "https://en.m.wikipedia.org/wiki/Fock_space"
      ],
      "metadata": {
        "id": "Vv2SkPgyem4v"
      }
    },
    {
      "cell_type": "markdown",
      "source": [
        "All the Fock states form a complete basis of the many-body Hilbert space, or Fock space."
      ],
      "metadata": {
        "id": "LOnrrH5gehqz"
      }
    },
    {
      "cell_type": "markdown",
      "source": [
        "The Fock state with all occupation numbers equal to zero is called the [vacuum state](https://en.m.wikipedia.org/wiki/Quantum_vacuum_state)"
      ],
      "metadata": {
        "id": "3z8WlIHhe4Ej"
      }
    },
    {
      "cell_type": "markdown",
      "source": [
        "Video: [Fock space: variable number of quantum particles](https://www.youtube.com/watch?v=jAw9WMkcCj0)"
      ],
      "metadata": {
        "id": "cq56Gi5ArfXo"
      }
    },
    {
      "cell_type": "markdown",
      "source": [
        "* the first postulate of quantum mechanics tells us that all the action happens in a vector space called 'state space'\n",
        "\n",
        "* in many situations all we need to consider is a fixed number of particles, ranging from one-dimensional problems to multi-particle systems where we had tensor product state spaces\n",
        "\n",
        "* now we take this a step further and consider a state space that allows a variable number of particles = Fock space\n",
        "\n",
        "* the Fock space is the state space in which quantum mechanics happens when we work in the second quantization formalism\n",
        "\n",
        "* plays a big role in quantum field theory, quantum statistical mechanics and many more\n",
        "\n",
        "* states with a well-defined number of particles are called Fock states\n",
        "\n",
        "* a Fock state has a fixed number of particles and a Fock state belongs to a subspace of the Fock space $\\mathcal{F}_N$\n",
        "\n",
        "> $\\mathcal{F}=\\mathcal{F}_{0} \\oplus \\mathcal{F}_{1} \\oplus \\mathcal{F}_{2} \\oplus \\cdots \\oplus \\mathcal{F}_{N} \\oplus \\cdots$\n",
        "\n",
        "* a very important Fock state is the 'vacuum state' with zero particles\n",
        "\n",
        "* the power of Fock space is that it allows us to go beyond a fixed number of particles in Fock states: doing this by forming linear superpositions of states corresponding to different number of particles\n",
        "\n",
        "* To navigate the Fock space: creation and annihilation operators"
      ],
      "metadata": {
        "id": "KZAcsUfurxwM"
      }
    },
    {
      "cell_type": "markdown",
      "source": [
        "###### **Spectroscopy**"
      ],
      "metadata": {
        "id": "MqAG3BwnNk8T"
      }
    },
    {
      "cell_type": "markdown",
      "source": [
        "https://en.m.wikipedia.org/wiki/Spectroscopy"
      ],
      "metadata": {
        "id": "KLzq1AWoUNxY"
      }
    },
    {
      "cell_type": "markdown",
      "source": [
        "###### **More stuff**"
      ],
      "metadata": {
        "id": "aR2iBYtTmemX"
      }
    },
    {
      "cell_type": "markdown",
      "source": [
        "[Quantum Chemistry 9.1 - Atomic Units](https://www.youtube.com/watch?v=93S-9Izr0nI)"
      ],
      "metadata": {
        "id": "mVdlHrs3mjG9"
      }
    },
    {
      "cell_type": "markdown",
      "source": [
        "https://slideplayer.com/slide/2770098/"
      ],
      "metadata": {
        "id": "5Y72YuIrmfwJ"
      }
    },
    {
      "cell_type": "markdown",
      "source": [
        "MODULE 11\n",
        "\n",
        "The extra electron adds the distances $r_{12}, r_{28}$, and $r_{2 A}$.\n",
        "\n",
        "This adds complexity in that an electron-electron repulsion term appears, as well as two more electron-nucleon potential energy terms.\n",
        "\n",
        "The hamiltonian for the hydrogen molecule in the Born-Oppenheimer approximation and in atomic units is\n",
        "\n",
        "$\n",
        "\\hat{H}=-\\frac{1}{2}\\left(\\nabla_{1}^{2}+\\nabla_{2}^{2}\\right)-\\frac{1}{r_{1 A}}-\\frac{1}{r_{18}}-\\frac{1}{r_{2 A}}-\\frac{1}{r_{2 B}}+\\frac{1}{r_{12}}+\\frac{1}{R}\n",
        "$\n"
      ],
      "metadata": {
        "id": "TLV6R3CKmli3"
      }
    },
    {
      "cell_type": "markdown",
      "source": [
        "https://www.youtube.com/watch?v=qc1TGwedSIc"
      ],
      "metadata": {
        "id": "eop7trevmoQi"
      }
    },
    {
      "cell_type": "markdown",
      "source": [
        "[The Hy­dro­gen Mol­e­cule](https://web1.eng.famu.fsu.edu/~dommelen/quantum/style_a/hmol.html)"
      ],
      "metadata": {
        "id": "0XlHfdPzSsih"
      }
    },
    {
      "cell_type": "markdown",
      "source": [
        "[Pennylane: Building molecular Hamiltonians](https://pennylane.ai/qml/demos/tutorial_quantum_chemistry.html)"
      ],
      "metadata": {
        "id": "BjJ0dseTK4Mx"
      }
    },
    {
      "cell_type": "markdown",
      "source": [
        "[Pennylane: Optimization of molecular geometries](https://pennylane.ai/qml/demos/tutorial_mol_geo_opt.html)"
      ],
      "metadata": {
        "id": "RJ9gWoLVKuaf"
      }
    },
    {
      "cell_type": "markdown",
      "source": [
        "[Pennylane: VQE in different spin sectors](https://pennylane.ai/qml/demos/tutorial_vqe_spin_sectors.html)"
      ],
      "metadata": {
        "id": "mPyB3NHbK0Qw"
      }
    },
    {
      "cell_type": "markdown",
      "source": [
        "[Pennylane: Givens rotations for quantum chemistry](https://pennylane.ai/qml/demos/tutorial_givens_rotations.html)"
      ],
      "metadata": {
        "id": "30pPPxLiMuOf"
      }
    },
    {
      "cell_type": "markdown",
      "source": [
        "[Chem Libretexts: Geometry_of_Molecules](https://chem.libretexts.org/Bookshelves/Physical_and_Theoretical_Chemistry_Textbook_Maps/Supplemental_Modules_(Physical_and_Theoretical_Chemistry)/Chemical_Bonding/Lewis_Theory_of_Bonding/Geometry_of_Molecules)\n"
      ],
      "metadata": {
        "id": "W3r3QvUBSdHu"
      }
    },
    {
      "cell_type": "markdown",
      "source": [
        "[Wiki: Molecular Geometry](https://en.m.wikipedia.org/wiki/Molecular_geometry)"
      ],
      "metadata": {
        "id": "1i23eO3xSkUC"
      }
    },
    {
      "cell_type": "markdown",
      "source": [
        "[Wiki: (Hartree) atomic units](https://en.m.wikipedia.org/wiki/Hartree_atomic_units)"
      ],
      "metadata": {
        "id": "8zDxoXowLG9H"
      }
    },
    {
      "cell_type": "markdown",
      "source": [
        "[Wiki: Born–Oppenheimer_approximation](https://en.m.wikipedia.org/wiki/Born–Oppenheimer_approximation)"
      ],
      "metadata": {
        "id": "Y1WCv_V5LB3u"
      }
    },
    {
      "cell_type": "markdown",
      "source": [
        "[Wiki: Minimal Basis Sets (STO-NG-Basissätze)](https://de.m.wikipedia.org/wiki/STO-NG-Basissätze)"
      ],
      "metadata": {
        "id": "Zh2DREP5LLvw"
      }
    },
    {
      "cell_type": "markdown",
      "source": [
        "[Wiki: Molecular Orbital](https://en.m.wikipedia.org/wiki/Molecular_orbital)"
      ],
      "metadata": {
        "id": "UT_OiDQBLUh8"
      }
    },
    {
      "cell_type": "markdown",
      "source": [
        "[Wiki: Jordan-Wigner encoding (transformation)](https://de.m.wikipedia.org/wiki/Jordan-Wigner-Transformation)"
      ],
      "metadata": {
        "id": "eFOa4ebaLd8x"
      }
    },
    {
      "cell_type": "markdown",
      "source": [
        "[Wiki: Hartree-Fock (HF) state](https://en.wikipedia.org/wiki/Hartree–Fock_method)"
      ],
      "metadata": {
        "id": "NdeZGiGkLhUz"
      }
    },
    {
      "cell_type": "markdown",
      "source": [
        "### **<font color=\"blue\">Computational Chemistry $\\phi_i$**"
      ],
      "metadata": {
        "id": "oMxZ7Xs_fZwe"
      }
    },
    {
      "cell_type": "markdown",
      "metadata": {
        "id": "dxEPFgLpozcx"
      },
      "source": [
        "###### **Density matrix renormalization group**"
      ]
    },
    {
      "cell_type": "markdown",
      "source": [
        "* The [density matrix renormalization group](https://en.m.wikipedia.org/wiki/Density_matrix_renormalization_group) (DMRG) is a numerical variational technique devised to obtain the low-energy physics of quantum many-body systems with high accuracy. \n",
        "\n",
        "* **As a variational method, DMRG is an efficient algorithm that attempts to find the lowest-energy matrix product state wavefunction of a Hamiltonian**. It was invented in 1992 by Steven R. White and it is nowadays the most efficient method for 1-dimensional systems."
      ],
      "metadata": {
        "id": "ud6n5VfJKdAu"
      }
    },
    {
      "cell_type": "markdown",
      "source": [
        "###### **Fock Operator and Hartree–Fock Method**"
      ],
      "metadata": {
        "id": "BYZe8m38O7A4"
      }
    },
    {
      "cell_type": "markdown",
      "source": [
        "*Task: Calculating Molecular Orbitals. Describe orbital energies & wavefunctions (of electrons in molecules) of many body systems (Vielteilchensysteme)*"
      ],
      "metadata": {
        "id": "F1IkBgsi3F68"
      }
    },
    {
      "cell_type": "markdown",
      "source": [
        "Fock Operator Video: https://www.youtube.com/watch?v=3ph5XtkRVl0"
      ],
      "metadata": {
        "id": "gcacxMmYzpoY"
      }
    },
    {
      "cell_type": "markdown",
      "source": [
        "Die Hartree-Fock-Gleichung lautet:\n",
        "\n",
        ">$\n",
        "\\hat{F}\\left|\\phi_{m}\\right\\rangle=\\varepsilon_{m}\\left|\\phi_{m}\\right\\rangle\n",
        "$\n",
        "\n",
        "mit dem Fock-Operator $\\hat{F}:$\n",
        "\n",
        ">$\n",
        "\\hat{F}_{i}=\\hat{h}_{i}+\\sum_{j=1}^{N_{\\text {Elektr. }}}\\left(2 \\hat{J}_{j}-\\hat{K}_{j}\\right)\n",
        "$\n",
        "\n",
        "* Der Fock-Operator ist ein effektiver Ein-Elektronen-Operator, der die kinetische Energie eines Elektrons $i$, die Coulomb-Anziehung mit dem Kern $\\left(\\hat{h}_{i}\\right)$ und die Coulomb-Abstoßung zu allen anderen Elektronen $j\\left(\\hat{J}_{j}\\right.$ und $\\hat{K}_{j}$ ) beschreibt. \n",
        "\n",
        "* $\\hat{J}_{j}$ und $\\hat{K}_{j}$ beschreiben als lokaler Coulomb-Operator und Austauschoperator die mittelwertartige Wechselwirkung mit allen anderen Teilchen. \n",
        "\n",
        "* Der Fock-Operator hängt somit von seinen eigenen Eigenfunktionen (da alle besetzten Orbitale bekannt sein müssen) ab, die Hartree-Fock-Gleichung ist somit nicht-linear, was eine iterative-Lösung notwendig macht. \n",
        "\n",
        "* Die Lösungen des SCF-Durchlaufs (Self-Consistent-Field-Methode) in HF sind die optimierten Orbitale $\\phi _{m}$ als Eigenfunktionen des Fock-Operators mit den dazugehörigen Eigenenergien als Orbitalenergien $\\varepsilon _{m}$."
      ],
      "metadata": {
        "id": "LSajaBI335dQ"
      }
    },
    {
      "cell_type": "markdown",
      "source": [
        "In the [HF approximation](https://en.m.wikipedia.org/wiki/Hartree–Fock_method), each electron in the molecule is treated as an independent particle that moves under the influence of the Coulomb potential due to the nuclei, and a mean field generated by all other electrons. \n",
        "\n",
        "* The optimized coefficients are precisely what we need to build the second-quantized Hamiltonian.\n",
        "\n",
        "* [Hartree-Fock-Methode](https://de.m.wikipedia.org/wiki/Hartree-Fock-Methode) ist eine probabilistische Parameterschätzung und ermöglicht es, Orbitalenergien und Wellenfunktionen von quantenmechanischen Vielteilchensystemen näherungsweise zu berechnen und ist eine so genannte Ab-initio-Methode, d. h. sie kommt ohne empirische Parameter aus und benötigt nur Naturkonstanten. Sie ist der Ausgangspunkt für Post-Hartree-Fock-Methoden, welche die Genauigkeit der Berechnungen verbessern.\n",
        "\n",
        "Die Hartree-Fock-Methode ist die Basis der Molekülorbitaltheorie.\n",
        "\n",
        "* Die Hartree-Fock-Methode ist die Basis der Molekülorbitaltheorie."
      ],
      "metadata": {
        "id": "ftL85pArfotv"
      }
    },
    {
      "cell_type": "markdown",
      "source": [
        "Die [Hartree-Fock-Methode](https://de.m.wikipedia.org/wiki/Hartree-Fock-Methode) geht von der zeitunabhängigen Schrödinger-Gleichung (hier in Dirac-Notation)\n",
        "\n",
        ">$\n",
        "\\hat{H}|\\psi\\rangle=E|\\psi\\rangle\n",
        "$\n",
        "\n",
        "aus, welche die Energie $E$ eines Systems aus der Wellenfunktion $|\\psi\\rangle$ berechnet, indem die Eigenwerte des Hamilton-Operators $\\hat{H}$ zu dieser Wellenfunktion gesucht werden. \n",
        "\n",
        "* Im Hamilton-Operator werden alle Energiebeiträge der Teilchen und Felder im System sowie deren Wechselwirkungen untereinander beschrieben. \n",
        "\n",
        "* In vielen praktisch wichtigen Systemen (wie z. B. den Elektronen in einem Molekül) sind die Teilchen miteinander korreliert und beeinflussen sich gegenseitig. Dadurch kann die Schrödinger-Gleichung für solche Systeme nicht mehr exakt, sondern nur noch näherungsweise gelöst werden."
      ],
      "metadata": {
        "id": "VKw10alwvhsP"
      }
    },
    {
      "cell_type": "markdown",
      "source": [
        "In computational physics and chemistry, the [Hartree–Fock (HF) method](https://en.m.wikipedia.org/wiki/Hartree%E2%80%93Fock_method) is a method of approximation for the determination of the wave function and the energy of a [quantum many-body system](https://en.m.wikipedia.org/wiki/Many-body_problem) <u>**in a stationary state**</u>.\n",
        "\n",
        "* The Hartree–Fock method often assumes that the exact N-body wave function of the system can be approximated \n",
        "\n",
        "  * by a single [Slater determinant](https://en.m.wikipedia.org/wiki/Slater_determinant) (in the case where the particles are fermions) or \n",
        "  \n",
        "  * by a single [permanent](https://en.m.wikipedia.org/wiki/Permanent_(mathematics)) (in the case of bosons) of N [spin-orbitals](https://en.m.wikipedia.org/wiki/Atomic_orbital). \n",
        "\n",
        "* By invoking the [variational method](https://en.m.wikipedia.org/wiki/Calculus_of_variations), one can derive a set of N-coupled equations for the N spin orbitals. A solution of these equations yields the Hartree–Fock wave function and energy of the system.\n"
      ],
      "metadata": {
        "id": "ch9CwN8KKPbU"
      }
    },
    {
      "cell_type": "markdown",
      "source": [
        "Die Hartree-Fock-Methode vereinfacht die Wechselwirkungen der Teilchen untereinander so, dass diese nicht mehr jeweils paarweise untereinander wechselwirken, sondern mit einem [Feld](https://de.m.wikipedia.org/wiki/Feld_(Physik)), das von allen anderen Teilchen im Mittelwert erzeugt wird – dem so genannten mean field (mittleren Feld). Das Feld hängt zwar immer noch vom Verhalten der einzelnen Teilchen ab, die Lösung kann aber jetzt schrittweise berechnet werden:\n",
        "\n",
        "1. Ein Ausgangszustand wird ausgewählt und daraus das Feld erzeugt.\n",
        "\n",
        "2. Mit diesem wird dann die Schrödingergleichung für jedes einzelne Teilchen gelöst.\n",
        "\n",
        "3. Zusammengenommen ergeben die einzelnen Lösungen dann einen neuen Zustand und ein neues Feld.\n",
        "\n",
        "Dieser Vorgang wird wiederholt, bis sich aufeinanderfolgende Lösungen nur mehr geringfügig unterscheiden, das Feld also zu Lösungen führt, die das Feld selbst konsistent wieder erzeugen. Daraus leitet sich der Begriff self-consistent field ab, der für diesen Teil der Hartree-Fock-Methode verwendet wird."
      ],
      "metadata": {
        "id": "Zg5rnVoEzOZR"
      }
    },
    {
      "cell_type": "markdown",
      "source": [
        "Als Wellenfunktionen für die behandelten Vielteilchensysteme werden bei Bosonen ein symmetrisches (Hartree-)Produkt von Einteilchenwellenfunktionen verwendet, bei Fermionen (wie Elektronen, Protonen und Neutronen) eine antisymmetrische Kombination dieser Produkte (eine sogenannte Slater-Determinante).\n",
        "\n",
        "* Um die Schrödingergleichung zu lösen, werden diese Einteilchenwellenfunktionen so variiert, dass die aus der Gleichung entstehende Energie minimal wird. Aufgrund des [Rayleigh-Ritz-Prinzips](https://de.m.wikipedia.org/wiki/Rayleigh-Ritz-Prinzip) (=Variationsprinzip zur Bestimmung des kleinsten Eigenwerts eines Eigenwertproblems) ist diese Energie dann eine obere Grenze für die tatsächliche Energie des Systems. \n",
        "\n",
        "* Die dadurch berechnete Wellenfunktion des gesamten Systems ist allerdings nicht notwendigerweise eine Annäherung der tatsächlichen Wellenfunktion.\n"
      ],
      "metadata": {
        "id": "4kFWmlwbzmAb"
      }
    },
    {
      "cell_type": "markdown",
      "metadata": {
        "id": "i6XevCo6oqZb"
      },
      "source": [
        "###### **Ritz Method**"
      ]
    },
    {
      "cell_type": "markdown",
      "metadata": {
        "id": "KMCDQfqne-OT"
      },
      "source": [
        "* The [Ritz method](https://en.wikipedia.org/wiki/Ritz_method) is a direct method to find an approximate solution for [boundary value problems](https://en.wikipedia.org/wiki/Boundary_value_problem). The method is named after Walther Ritz, although also commonly called the [Rayleigh–Ritz method](https://en.wikipedia.org/wiki/Rayleigh–Ritz_method) and the [Ritz-Galerkin method](https://en.wikipedia.org/wiki/Galerkin_method).\n",
        "\n",
        "* In quantum mechanics, a system of particles can be described in terms of an \"energy functional\" or Hamiltonian, which will measure the energy of any proposed configuration of said particles. \n",
        "  \n",
        "  * It turns out that certain privileged configurations are more likely than other configurations, and this has to do with the eigenanalysis (\"analysis of characteristics\") of this Hamiltonian system.\n",
        "  \n",
        "  * Because it is often impossible to analyze all of the infinite configurations of particles to find the one with the least amount of energy, it becomes essential to be able to approximate this Hamiltonian in some way for the purpose of numerical computations.\n",
        "\n",
        "* The Ritz method can be used to achieve this goal. In the language of mathematics, it is exactly the [finite element method](https://en.wikipedia.org/wiki/Finite_element_method) used to compute the eigenvectors and eigenvalues of a Hamiltonian system.\n"
      ]
    },
    {
      "cell_type": "markdown",
      "metadata": {
        "id": "IZUxYddIJX3p"
      },
      "source": [
        "https://www.youtube.com/watch?v=w4ijyrdLbNA"
      ]
    },
    {
      "cell_type": "markdown",
      "metadata": {
        "id": "iRJzZmE1ouKD"
      },
      "source": [
        "https://en.m.wikipedia.org/wiki/Ritz_method"
      ]
    },
    {
      "cell_type": "markdown",
      "metadata": {
        "id": "tWQd156Uortc"
      },
      "source": [
        "https://en.m.wikipedia.org/wiki/Rayleigh%E2%80%93Ritz_method"
      ]
    },
    {
      "cell_type": "markdown",
      "source": [
        "###### **Self-consistent field (SCF) method**"
      ],
      "metadata": {
        "id": "5BniQUsrPHK-"
      }
    },
    {
      "cell_type": "markdown",
      "source": [
        "Video: [Computational Chemistry 4.27 - Self-Consistent Field](https://www.youtube.com/watch?v=x-O3_t4GVy8)"
      ],
      "metadata": {
        "id": "WjURga2L0Pii"
      }
    },
    {
      "cell_type": "markdown",
      "source": [
        "Die [Self-Consistent-Field-Methode (SCF)](https://de.m.wikipedia.org/wiki/Self-Consistent-Field-Methode) ist ein iteratives Lösungsverfahren in der Computerchemie. SCF ist eine von vielen Möglichkeiten zur Lösung von Molekülberechnungen. Das self-consistent-field (dt. selbstkonsistentes Feld) ist eine Menge von Funktionen, die eine Eigenwertgleichung löst."
      ],
      "metadata": {
        "id": "9u7MooyP46Eq"
      }
    },
    {
      "cell_type": "markdown",
      "source": [
        "Da die Fock-Matrix von ihren eigenen Lösungen abhängt muss sie iterativ gelöst werden, dies geschieht mit der SCF-Methode. Ein typischer SCF-Ablauf sieht wie folgt aus:\n",
        "\n",
        "1. Berechnung aller Ein- und Zweielektronenintegrale.\n",
        "2. Erzeugung geeigneter MO-Koeffizienten.\n",
        "3. Bildung der anfänglichen Dichte-Matrix.\n",
        "4. Bildung der Fock-Matrix als Ein-Elektron-Integrale und der Dichtematrix mal der Zwei-Elektronen-Integrale.\n",
        "5. Diagonalisierung der Fock-Matrix. Als Ergebnis enthalten die Eigenvektoren die neuen MO-Koeffizienten.\n",
        "6. Bildung einer neuen Dichte-Matrix. Wenn sich die neue Dichte-Matrix und die anfängliche Dichte-Matrix gleichen kann der SCF-Durchlauf beendet werden, wenn nicht beginnt der Zyklus wieder bei Schritt 4 mit der neuen Dichte-Matrix."
      ],
      "metadata": {
        "id": "L-ArYUYz4wrz"
      }
    },
    {
      "cell_type": "markdown",
      "source": [
        "###### **Time-evolving block decimation**"
      ],
      "metadata": {
        "id": "s5NANy2NXO_C"
      }
    },
    {
      "cell_type": "markdown",
      "source": [
        "https://en.m.wikipedia.org/wiki/Time-evolving_block_decimation"
      ],
      "metadata": {
        "id": "RoghDHRPXRzp"
      }
    },
    {
      "cell_type": "markdown",
      "source": [
        "###### **Post–Hartree–Fock**"
      ],
      "metadata": {
        "id": "9NynH96ZPANa"
      }
    },
    {
      "cell_type": "markdown",
      "source": [
        "Video: [Quantum Chemistry 9.11 - Post Hartree-Fock Methods](https://www.youtube.com/watch?v=oU1zO2bPPB4)"
      ],
      "metadata": {
        "id": "5z5LnVX6rUb9"
      }
    },
    {
      "cell_type": "markdown",
      "source": [
        "In computational chemistry, [post–Hartree–Fock methods](https://en.m.wikipedia.org/wiki/Post%E2%80%93Hartree%E2%80%93Fock) are the set of **methods developed to improve on the Hartree–Fock (HF), or self-consistent field (SCF) method**. \n",
        "\n",
        "**They add electron correlation which is a more accurate way of including the repulsions between electrons** than in the Hartree–Fock method where repulsions are only averaged.\n",
        "\n"
      ],
      "metadata": {
        "id": "teDdkKCk617c"
      }
    },
    {
      "cell_type": "markdown",
      "source": [
        "**In general, the SCF procedure makes several assumptions** about the nature of the multi-body Schrödinger equation and its set of solutions:\n",
        "\n",
        "1. For molecules, the Born–Oppenheimer approximation is inherently assumed. The true wavefunction should also be a function of the coordinates of each of the nuclei.\n",
        "\n",
        "2. Typically, relativistic effects are completely neglected. The momentum operator is assumed to be completely nonrelativistic.\n",
        "\n",
        "3. The basis set is composed of a finite number of orthogonal functions. The true wavefunction is a linear combination of functions from a complete (infinite) basis set.\n",
        "\n",
        "4. The energy eigenfunctions are assumed to be products of one-electron wavefunctions. The effects of electron correlation, beyond that of exchange energy resulting from the anti-symmetrization of the wavefunction, are completely neglected.\n",
        "\n",
        "For the great majority of systems under study, in particular for excited states and processes such as molecular dissociation reactions, **the fourth item is by far the most important**. As a result, the term post–Hartree–Fock method is typically used for methods of approximating the electron correlation of a system.\n",
        "\n",
        "Usually, post–Hartree–Fock methods give more accurate results than Hartree–Fock calculations, although the added accuracy comes with the price of added computational cost."
      ],
      "metadata": {
        "id": "C5Pq-W1s6q64"
      }
    },
    {
      "cell_type": "markdown",
      "source": [
        "* Configuration interaction (CI)\n",
        "\n",
        "* Coupled cluster (CC)\n",
        "\n",
        "* Multi-configuration time-dependent Hartree (MCTDH)\n",
        "\n",
        "* Møller–Plesset perturbation theory (MP2, MP3, MP4 etc.)\n",
        "\n",
        "* Quadratic configuration interaction (QCI)\n",
        "\n",
        "* Quantum chemistry composite methods (G2, G3, CBS, T1. etc.)"
      ],
      "metadata": {
        "id": "4T7wWB526Vja"
      }
    },
    {
      "cell_type": "markdown",
      "source": [
        "Related Methods that use more than one determinant are not strictly post–Hartree–Fock methods, as they use a single determinant as reference, but they often use similar perturbation, or configuration interaction methods to improve the description of electron correlation. These methods include:\n",
        "\n",
        "* Multi-configurational self-consistent field (MCSCF)\n",
        "\n",
        "* Multireference single and double configuration interaction (MRCISD)\n",
        "\n",
        "* N-electron valence state perturbation theory (NEVPT)."
      ],
      "metadata": {
        "id": "XSEMLrbI7E8z"
      }
    },
    {
      "cell_type": "markdown",
      "source": [
        "###### **Multi-configuration time-dependent Hartree (MCTDH)**"
      ],
      "metadata": {
        "id": "suClYdz3XBOR"
      }
    },
    {
      "cell_type": "markdown",
      "source": [
        "https://en.m.wikipedia.org/wiki/Multi-configuration_time-dependent_Hartree"
      ],
      "metadata": {
        "id": "bUm6GADOXGTH"
      }
    },
    {
      "cell_type": "markdown",
      "source": [
        "###### **Configuration interaction**"
      ],
      "metadata": {
        "id": "3qfBj5vRO2uZ"
      }
    },
    {
      "cell_type": "markdown",
      "source": [
        "[Configuration interaction (CI)](https://en.m.wikipedia.org/wiki/Configuration_interaction) is a post-Hartree–Fock linear variational method for solving the nonrelativistic Schrödinger equation within the Born–Oppenheimer approximation for a quantum chemical multi-electron system. Mathematically, **configuration simply describes the linear combination of Slater determinants used for the wave function.**"
      ],
      "metadata": {
        "id": "tInLysCf5UbA"
      }
    },
    {
      "cell_type": "markdown",
      "source": [
        "In terms of a specification of orbital occupation (for instance,\n",
        "$\\left.(1 \\mathrm{~s})^{2}(2 \\mathrm{~s})^{2}(2 \\mathrm{p})^{1} \\ldots\\right)$, interaction means the mixing (interaction) of\n",
        "different electronic configurations (states). \n",
        "\n",
        "* Due to the long\n",
        "$\\mathrm{CPU}$ time and large memory required for $\\mathrm{Cl}$ calculations, the\n",
        "method is limited to relatively small systems.\n",
        "\n",
        "* In contrast to the Hartree-Fock method, in order to account for\n",
        "electron correlation, $\\mathrm{Cl}$ **uses a variational wave function that is\n",
        "a linear combination of configuration state functions (CSFs)\n",
        "built from spin orbitals (denoted by the superscript SO)**,\n",
        "\n",
        "> $\\Psi=\\sum_{I=0} c_{I} \\Phi_{I}^{S O}=c_{0} \\Phi_{0}^{S O}+c_{1} \\Phi_{1}^{S O}+\\ldots$\n",
        "\n",
        "* where $\\Psi$ is usually the electronic ground state of the system. \n",
        "\n",
        "* If\n",
        "the expansion includes all possible CSFs of the appropriate\n",
        "symmetry, then this is a full configuration interaction"
      ],
      "metadata": {
        "id": "2nNIkiue5p4p"
      }
    },
    {
      "cell_type": "markdown",
      "source": [
        "###### **Density Functional theory / Dichtefunktionaltheorie (DFT)**"
      ],
      "metadata": {
        "id": "Ao8gLLYDukl6"
      }
    },
    {
      "cell_type": "markdown",
      "source": [
        "https://de.m.wikipedia.org/wiki/Dichtefunktionaltheorie_(Quantenphysik)"
      ],
      "metadata": {
        "id": "SlpgyR5cumHS"
      }
    },
    {
      "cell_type": "markdown",
      "source": [
        "https://www.chemistryworld.com/news/algorithm-out-of-googles-deepmind-finesses-dft-calculations/4014939.article\n"
      ],
      "metadata": {
        "id": "og3y-OQfWW_L"
      }
    },
    {
      "cell_type": "markdown",
      "source": [
        "###### **LCAO-Methode**"
      ],
      "metadata": {
        "id": "nUlAyTMVn_mh"
      }
    },
    {
      "cell_type": "markdown",
      "source": [
        "https://de.m.wikipedia.org/wiki/LCAO-Methode"
      ],
      "metadata": {
        "id": "0W5e30QroCAC"
      }
    },
    {
      "cell_type": "markdown",
      "source": [
        "###### **Molekularfeldtheorie (Mean Field Theory)**"
      ],
      "metadata": {
        "id": "XX6ldLuZPotz"
      }
    },
    {
      "cell_type": "markdown",
      "source": [
        "https://de.m.wikipedia.org/wiki/Molekularfeldtheorie"
      ],
      "metadata": {
        "id": "hnf7tA5HPsBP"
      }
    }
  ]
}