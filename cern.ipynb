{
  "nbformat": 4,
  "nbformat_minor": 0,
  "metadata": {
    "colab": {
      "provenance": [],
      "collapsed_sections": [
        "Gi9vCahYLvix",
        "omYrKJNm58dU",
        "RVZO1oCK5-_F",
        "clh2iHy-Okie"
      ],
      "include_colab_link": true
    },
    "kernelspec": {
      "name": "python3",
      "display_name": "Python 3"
    },
    "language_info": {
      "name": "python"
    }
  },
  "cells": [
    {
      "cell_type": "markdown",
      "metadata": {
        "id": "view-in-github",
        "colab_type": "text"
      },
      "source": [
        "<a href=\"https://colab.research.google.com/github/deltorobarba/sciences/blob/master/cern.ipynb\" target=\"_parent\"><img src=\"https://colab.research.google.com/assets/colab-badge.svg\" alt=\"Open In Colab\"/></a>"
      ]
    },
    {
      "cell_type": "markdown",
      "source": [
        "## **CERN Quantum Computing in High-Energy Physics 2022**"
      ],
      "metadata": {
        "id": "hWg6jjQc4aj3"
      }
    },
    {
      "cell_type": "markdown",
      "source": [
        "***Event***: [*International Conference on Quantum Technologies for High-Energy Physics (QT4HEP22)*](https://indico.cern.ch/event/1190278/)"
      ],
      "metadata": {
        "id": "G6Bb51hqCqt_"
      }
    },
    {
      "cell_type": "markdown",
      "source": [
        "**Annalisa Pawlosky, PhD**, *Research Scientist at Google*\n",
        "\n",
        "[Google Scholar](#) $\\cdot$ [LinkedIn](https://www.linkedin.com/in/annalisa-pawlosky-bb7579178/)\n",
        "\n",
        "**Alexander Del Toro Barba, PhD**, *Quantum Computing Practice Lead at Google Cloud*\n",
        "\n",
        "[Google Scholar](https://scholar.google.com/citations?hl=en&user=fddyK-wAAAAJ) $\\cdot$ [LinkedIn](https://www.linkedin.com/in/deltorobarba/)\n"
      ],
      "metadata": {
        "id": "Mw83fgPuBu-6"
      }
    },
    {
      "cell_type": "markdown",
      "source": [
        "###### *Libraries*"
      ],
      "metadata": {
        "id": "Gi9vCahYLvix"
      }
    },
    {
      "cell_type": "code",
      "source": [
        "!pip install tensorflow==2.7.0 -q\n",
        "!pip install tensorflow-quantum==0.7.2 -q\n",
        "\n",
        "import importlib, pkg_resources\n",
        "importlib.reload(pkg_resources)\n",
        "\n",
        "import tensorflow as tf\n",
        "import tensorflow_quantum as tfq\n",
        "\n",
        "import cirq\n",
        "import sympy\n",
        "import numpy as np\n",
        "\n",
        "%matplotlib inline\n",
        "import matplotlib.pyplot as plt\n",
        "from cirq.contrib.svg import SVGCircuit\n",
        "\n",
        "print('Cirq version:', cirq.__version__)\n",
        "print('TensorFlow version:', tf.__version__)\n",
        "print('TensorFlow Quantum version:', tfq.__version__)"
      ],
      "metadata": {
        "id": "pHUBitxCFpsI"
      },
      "execution_count": null,
      "outputs": []
    },
    {
      "cell_type": "markdown",
      "source": [
        "#### **Part 1: Cirq**"
      ],
      "metadata": {
        "id": "omYrKJNm58dU"
      }
    },
    {
      "cell_type": "markdown",
      "source": [
        "https://quantumai.google/cirq"
      ],
      "metadata": {
        "id": "w_DMTCkZDPD7"
      }
    },
    {
      "cell_type": "code",
      "source": [
        "# Pick a qubit.\n",
        "qubit = cirq.GridQubit(0, 0)\n",
        "\n",
        "# Create a circuit\n",
        "circuit = cirq.Circuit(\n",
        "    cirq.X(qubit)**0.5,  # Square root of NOT.\n",
        "    cirq.measure(qubit, key='m')  # Measurement.\n",
        ")\n",
        "print(\"Circuit:\")\n",
        "print(circuit)\n",
        "\n",
        "# Simulate the circuit several times.\n",
        "simulator = cirq.Simulator()\n",
        "result = simulator.run(circuit, repetitions=20)\n",
        "print(\"Results:\")\n",
        "print(result)"
      ],
      "metadata": {
        "colab": {
          "base_uri": "https://localhost:8080/"
        },
        "id": "2quOj3FNDM0z",
        "outputId": "07876c93-ac48-4992-d6e8-344df90a7e07"
      },
      "execution_count": null,
      "outputs": [
        {
          "output_type": "stream",
          "name": "stdout",
          "text": [
            "Circuit:\n",
            "(0, 0): ───X^0.5───M('m')───\n",
            "Results:\n",
            "m=10011100110010100110\n"
          ]
        }
      ]
    },
    {
      "cell_type": "markdown",
      "source": [
        "#### **Part 2: TensorFlow Quantum**"
      ],
      "metadata": {
        "id": "RVZO1oCK5-_F"
      }
    },
    {
      "cell_type": "markdown",
      "source": [
        "https://www.tensorflow.org/quantum"
      ],
      "metadata": {
        "id": "g18zQeXOL6IZ"
      }
    },
    {
      "cell_type": "markdown",
      "source": [
        "#### **Part 3: QuantumVM**"
      ],
      "metadata": {
        "id": "clh2iHy-Okie"
      }
    },
    {
      "cell_type": "markdown",
      "source": [
        "[Quantum-Virtual-Machine](https://quantumai.google/quantum-virtual-machine)\n",
        "\n",
        "* [Documentation here](https://quantumai.google/cirq/simulate/quantum_virtual_machine)\n",
        "\n",
        "* [Launch QVM learning version in Colab](https://colab.sandbox.google.com/github/quantumlib/Cirq/blob/master/docs/simulate/qvm_basic_example.ipynb)"
      ],
      "metadata": {
        "id": "XolOb08MOyIi"
      }
    }
  ]
}