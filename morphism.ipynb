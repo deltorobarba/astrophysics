{
  "nbformat": 4,
  "nbformat_minor": 0,
  "metadata": {
    "colab": {
      "name": "morphism.ipynb",
      "provenance": [],
      "collapsed_sections": [
        "H3WAbAG87DpA",
        "7I0Sj-e-6x6L",
        "LtmwEv1q6VqA",
        "c9UY_fpc-dAF",
        "IRd6gnIaP5Yv",
        "vrvr-3x8ooDF",
        "ypY_hbb0QSPX",
        "quHXje_VQWHH",
        "IFXyqXaLQQQw",
        "6qCyNILtQke3",
        "k5pob0z5Qrk3",
        "QPpM4ns_Qgke",
        "C8MxT7kh0K_V",
        "E_r-ToqU0H4a",
        "pacCQAp--ldC",
        "PmM2fIh3-rfG",
        "Mny8a5t4-wOE"
      ],
      "include_colab_link": true
    },
    "kernelspec": {
      "name": "python3",
      "display_name": "Python 3"
    }
  },
  "cells": [
    {
      "cell_type": "markdown",
      "metadata": {
        "id": "view-in-github",
        "colab_type": "text"
      },
      "source": [
        "<a href=\"https://colab.research.google.com/github/deltorobarba/machinelearning/blob/master/morphism.ipynb\" target=\"_parent\"><img src=\"https://colab.research.google.com/assets/colab-badge.svg\" alt=\"Open In Colab\"/></a>"
      ]
    },
    {
      "cell_type": "markdown",
      "metadata": {
        "id": "2Aoj2PpxvDQV",
        "colab_type": "text"
      },
      "source": [
        "# **Morphismen**"
      ]
    },
    {
      "cell_type": "code",
      "metadata": {
        "id": "1U5_6xH7tAQq",
        "colab_type": "code",
        "colab": {}
      },
      "source": [
        "import numpy as np\n",
        "import pandas as pd\n",
        "import seaborn as sns\n",
        "import matplotlib.pyplot as plt"
      ],
      "execution_count": null,
      "outputs": []
    },
    {
      "cell_type": "markdown",
      "metadata": {
        "id": "z3mp9MAE6rnu",
        "colab_type": "text"
      },
      "source": [
        "### **Grundlegende Begriffe**"
      ]
    },
    {
      "cell_type": "markdown",
      "metadata": {
        "id": "H3WAbAG87DpA",
        "colab_type": "text"
      },
      "source": [
        "##### **Category Theory**"
      ]
    },
    {
      "cell_type": "markdown",
      "metadata": {
        "id": "ymTd9h4j7GQb",
        "colab_type": "text"
      },
      "source": [
        "* Die Kategorientheorie lässt sich, ähnlich wie die universelle Algebra, als allgemeine Theorie mathematischer Strukturen auffassen (klassische Strukturen sind z. B. Gruppen, Ringe, Moduln und topologische Räume).\n",
        "\n",
        "* Dabei werden Eigenschaften mathematischer Strukturen allerdings nicht über Relationen zwischen Elementen der Trägermenge(n) definiert, sondern mittels Morphismen und Funktoren quasi über Vergleiche sowohl innerhalb von als auch zwischen Kategorien."
      ]
    },
    {
      "cell_type": "markdown",
      "metadata": {
        "id": "SHe-6JFB7JLx",
        "colab_type": "text"
      },
      "source": [
        "https://de.m.wikipedia.org/wiki/Kategorientheorie"
      ]
    },
    {
      "cell_type": "markdown",
      "metadata": {
        "id": "7I0Sj-e-6x6L",
        "colab_type": "text"
      },
      "source": [
        "##### **Morphismus**"
      ]
    },
    {
      "cell_type": "markdown",
      "metadata": {
        "id": "-x4GjB7R60YJ",
        "colab_type": "text"
      },
      "source": [
        "* ist eine Funktion in Kategorientheorie\n",
        "\n",
        "* In der Kategorientheorie (einem Teilgebiet der Mathematik) betrachtet man sogenannte (abstrakte) Kategorien, die jeweils gegeben sind durch eine Klasse von Objekten und für je zwei Objekte X und Y eine Klasse von Morphismen von X nach Y (auch als Pfeile bezeichnet).\n",
        "\n",
        "* Man schreibt: 𝑓:𝑋→𝑌\n",
        "\n",
        "* Zu der Kategorie gehört noch eine partielle Verknüpfung der Morphismen, die bestimmte Bedingungen erfüllen muss.\n",
        "\n",
        "* Interpretiert man Mengen mit gleicher Struktur als Objekte und die Funktionen zwischen den zugrunde liegenden Mengen, die mit deren Struktur verträglich sind, als zugehörige Morphismen, so spricht man von einer konkreten Kategorie. Die Verknüpfung der Morphismen entspricht dann der gewöhnlichen Hintereinanderausführung von Funktionen.\n",
        "\n",
        "* Es gibt aber auch ganz anders gebildete konkrete Kategorien, in denen Morphismen nicht als Funktionen zwischen den Objekten auftreten, etwa die Kategorie Toph, deren Objekte topologische Räume und deren Morphismen Homotopieklassen stetiger Funktionen sind, oder die Kategorie Rel, deren Objekte Mengen und deren Morphismen Relationen sind."
      ]
    },
    {
      "cell_type": "markdown",
      "metadata": {
        "id": "mUT_FWsZ6_9G",
        "colab_type": "text"
      },
      "source": [
        "https://de.m.wikipedia.org/wiki/Morphismus"
      ]
    },
    {
      "cell_type": "markdown",
      "metadata": {
        "id": "LtmwEv1q6VqA",
        "colab_type": "text"
      },
      "source": [
        "##### **Funktor**"
      ]
    },
    {
      "cell_type": "markdown",
      "metadata": {
        "id": "mZt_7I_P6YQi",
        "colab_type": "text"
      },
      "source": [
        "* strukturerhaltende Abbildung zwischen zwei Kategorien\n",
        "\n",
        "* Funktoren sind ein zentrales Grundkonzept des mathematischen Teilgebiets der Kategorientheorie. Ein Funktor ist eine strukturerhaltende Abbildung zwischen zwei Kategorien. Konkrete Funktoren haben in vielen Teilgebieten der Mathematik eine besondere Bedeutung.\n",
        "\n",
        "* Funktoren werden auch Diagramme genannt (mitunter nur in bestimmten Kontexten), da sie eine formale Abstraktion [kommutativer Diagramme](https://de.m.wikipedia.org/wiki/Kommutatives_Diagramm) darstellen."
      ]
    },
    {
      "cell_type": "markdown",
      "metadata": {
        "id": "kIwT21wm6cks",
        "colab_type": "text"
      },
      "source": [
        "https://de.m.wikipedia.org/wiki/Funktor_(Mathematik)"
      ]
    },
    {
      "cell_type": "markdown",
      "metadata": {
        "id": "c9UY_fpc-dAF",
        "colab_type": "text"
      },
      "source": [
        "##### **Injektive, surjektive & bijektive Abbildungen**"
      ]
    },
    {
      "cell_type": "markdown",
      "metadata": {
        "id": "RFgQPMjQ_2QB",
        "colab_type": "text"
      },
      "source": [
        "![alternativer Text](https://upload.wikimedia.org/wikipedia/commons/thumb/0/02/Injection.svg/240px-Injection.svg.png)"
      ]
    },
    {
      "cell_type": "markdown",
      "metadata": {
        "id": "AZ_sMORDL_Ai",
        "colab_type": "text"
      },
      "source": [
        "* Jedes Element von Y hat höchstens ein Urbild: A, B, D je eines, C keines.\n",
        "\n",
        "* Die Zielmenge kann daher nicht weniger mächtig als die Definitionsmenge sein, d. h., sie kann nicht weniger Elemente enthalten.\n",
        "\n",
        "* injektiv, wenn es zu jedem Element y der Zielmenge Y höchstens ein (also eventuell gar kein) Element x der Ausgangs- oder Definitionsmenge X gibt, das darauf zielt, wenn also **nie zwei verschiedene Elemente der Definitionsmenge auf dasselbe Element der Zielmenge abgebildet werden**"
      ]
    },
    {
      "cell_type": "markdown",
      "metadata": {
        "id": "spo-zVLSLUsq",
        "colab_type": "text"
      },
      "source": [
        "https://de.m.wikipedia.org/wiki/Injektive_Funktion"
      ]
    },
    {
      "cell_type": "markdown",
      "metadata": {
        "id": "EsAaO511Ln_G",
        "colab_type": "text"
      },
      "source": [
        "![alternativer Text](https://upload.wikimedia.org/wikipedia/commons/thumb/6/6c/Surjection.svg/240px-Surjection.svg.png)"
      ]
    },
    {
      "cell_type": "markdown",
      "metadata": {
        "id": "SpROKRjkLzec",
        "colab_type": "text"
      },
      "source": [
        "jedes Element der Zielmenge hat mindestens ein Urbild (rechtstotalen Funktionen)"
      ]
    },
    {
      "cell_type": "markdown",
      "metadata": {
        "id": "oECpC2jOLWnI",
        "colab_type": "text"
      },
      "source": [
        "https://de.m.wikipedia.org/wiki/Surjektive_Funktion"
      ]
    },
    {
      "cell_type": "markdown",
      "metadata": {
        "id": "_lQ2nNu6Ljv4",
        "colab_type": "text"
      },
      "source": [
        "![alternativer Text](https://upload.wikimedia.org/wikipedia/commons/thumb/a/a5/Bijection.svg/240px-Bijection.svg.png)"
      ]
    },
    {
      "cell_type": "markdown",
      "metadata": {
        "id": "4TEi36wZLYis",
        "colab_type": "text"
      },
      "source": [
        "https://de.m.wikipedia.org/wiki/Bijektive_Funktion"
      ]
    },
    {
      "cell_type": "markdown",
      "metadata": {
        "id": "LWCt5Sx8VIzJ",
        "colab_type": "text"
      },
      "source": [
        "##### **Ordnungsrelation**"
      ]
    },
    {
      "cell_type": "markdown",
      "metadata": {
        "id": "fcwSBGRmVO-v",
        "colab_type": "text"
      },
      "source": [
        "* Eigenschaft jeweils zweier Elemente einer Menge\n",
        "\n",
        "* Ordnungsrelationen sind Verallgemeinerungen der „kleiner-gleich“-Beziehung. Sie erlauben es, Elemente einer Menge miteinander zu vergleichen.\n",
        "\n",
        "* Eine Ordnungsrelation ist formal eine [zweistellige Relation](https://de.m.wikipedia.org/wiki/Relation_(Mathematik)#Zweistellige_Relation) $R \\subseteq M \\times M$ auf einer Menge $M$ mit bestimmten unten aufgeführten Eigenschaften, worunter immer die Transitivität ist.\n",
        "\n",
        "* *Exkurs: Eine zweistellige Relation $R$ (auch binäre Relation genannt) zwischen zwei Mengen $A$ und $B$ ist eine Teilmenge des kartesischen Produkts $A \\times B=\\{(a, b) \\mid a \\in A, b \\in B\\}:$ $R \\subseteq A \\times B$. Die Menge $A$ wird als Quellmenge (englisch: set of departure) der Relation $R$ bezeichnet, die Menge $B$ als Zielmenge (englisch: set of destination).*"
      ]
    },
    {
      "cell_type": "markdown",
      "metadata": {
        "id": "KHUP6XJrWzDF",
        "colab_type": "text"
      },
      "source": [
        "**(Schwache) Totalordnung (lineare Ordnung)**\n",
        "\n",
        "Eine Relation $\\leq$ auf einer Menge $M$ wird (schwache) Totalordnung oder totale Ordnung oder einfach (schwache) Ordnung genannt, wenn die Forderungen\n",
        "\n",
        "* $x \\leq x$ \t(**Reflexivität**)\n",
        "\n",
        "* $x \\leq y \\wedge y \\leq x \\Rightarrow x=y$\n",
        "(**Antisymmetrie**)\n",
        "\n",
        "* $x \\leq y \\wedge y \\leq z \\Rightarrow x \\leq z$ (**Transitivität**)\n",
        "\n",
        "* $x \\leq y \\vee y \\leq x$ (**Totalität**)\n",
        "\n",
        "für alle $x, y, z \\in M$ erfült sind. \n",
        "\n",
        "Da dies bei der Zahlengeraden, der , Linie\", der Fall ist, wird eine Totalordnung auch lineare Ordnung genannt. Ferner gibt es für totalgeordnete Untermengen von partiell geordneten Mengen die Bezeichnung Kette."
      ]
    },
    {
      "cell_type": "markdown",
      "metadata": {
        "id": "Gx2gPD8DXwrf",
        "colab_type": "text"
      },
      "source": [
        "Beispiel und Gegenbeispiel:\n",
        "\n",
        "* Ein Beispiel ist die Relation $\\leq($, kleinergleich\") auf den ganzen Zahlen $\\mathbb{Z}$.\n",
        "\n",
        "* Ein Gegenbeispiel ist die Teilmengenbeziehung $\\subseteq$ auf der Potenzmenge von $\\mathbb{Z}:$ sie ist nicht total, denn es gilt weder \\{1,2\\}$\\subseteq\\{2,3\\}$ noch \\{2,3\\}$\\subseteq\\{1,2\\}$."
      ]
    },
    {
      "cell_type": "markdown",
      "metadata": {
        "id": "iUQFcFxdYpSL",
        "colab_type": "text"
      },
      "source": [
        "**(Strenge) Totalordnung**\n",
        "\n",
        "Eine Relation $<$ auf $M$ heißt strenge (oder auch starke) Totalordnung, wenn\n",
        "\n",
        "* $x<y \\wedge y<z \\Rightarrow x<z$ (**Transitivität**)\n",
        "\n",
        "* entweder $x<y$ oder $x=y$ oder $y<x$\n",
        "(**Trichotomie**)\n",
        "\n",
        "für alle $x, y, z \\in M$ gilt.\n",
        "\n",
        "(In der Mathematik ist die Einteilung der reellen Zahlen in positive und negative Zahlen und die Null eine Trichotomie im strengen Sinne. Eine Verallgemeinerung davon ist die Trichotomie der Ordnung: Für reelle Zahlen a und b gilt genau eine der Beziehungen:\n",
        "\n",
        "a < b\n",
        "\n",
        "a = b\n",
        "\n",
        "a > b\n",
        "\n",
        "Diese Eigenschaft gilt in jeder total geordneten Menge.)"
      ]
    },
    {
      "cell_type": "markdown",
      "metadata": {
        "id": "Yoh8FDTcVMWY",
        "colab_type": "text"
      },
      "source": [
        "https://de.m.wikipedia.org/wiki/Ordnungsrelation"
      ]
    },
    {
      "cell_type": "markdown",
      "metadata": {
        "id": "u9B6KgbpAAMR",
        "colab_type": "text"
      },
      "source": [
        "### **Summary**"
      ]
    },
    {
      "cell_type": "markdown",
      "metadata": {
        "id": "tCnN4xXj_30Q",
        "colab_type": "text"
      },
      "source": [
        "![alternativer Text](https://raw.githubusercontent.com/deltorobarba/machinelearning/master/morphismen.jpg)"
      ]
    },
    {
      "cell_type": "markdown",
      "metadata": {
        "id": "rKuWVM1ZAHlK",
        "colab_type": "text"
      },
      "source": [
        "Source: [Morphismen Übersicht](https://youtu.be/KngDroAqUT0)"
      ]
    },
    {
      "cell_type": "markdown",
      "metadata": {
        "id": "IRd6gnIaP5Yv",
        "colab_type": "text"
      },
      "source": [
        "### **Homomorphismus**"
      ]
    },
    {
      "cell_type": "markdown",
      "metadata": {
        "id": "vrvr-3x8ooDF",
        "colab_type": "text"
      },
      "source": [
        "##### **Overview**"
      ]
    },
    {
      "cell_type": "markdown",
      "metadata": {
        "id": "Jq7dlrQquZLg",
        "colab_type": "text"
      },
      "source": [
        "* strukturerhaltende Abbildungen (gleiche Gestalt von Original auf Bild)\n",
        "\n",
        "* Als Homomorphismus (zusammengesetzt aus altgriechisch ὁμός homós ‚gleich‘ oder ‚ähnlich‘, und altgriechisch μορφή morphé ‚Form‘; nicht zu verwechseln mit Homöomorphismus) werden in der Mathematik Abbildungen (=Funktionen) bezeichnet, die eine (oft algebraische) mathematische Struktur erhalten bzw. damit verträglich sind. \n",
        "\n",
        "* Ein Homomorphismus bildet die Elemente aus der einen Menge so in die andere Menge ab, dass sich ihre Bilder dort hinsichtlich der Struktur ebenso verhalten, wie sich deren Urbilder in der Ausgangsmenge verhalten."
      ]
    },
    {
      "cell_type": "markdown",
      "metadata": {
        "id": "eglIHPiIHjqn",
        "colab_type": "text"
      },
      "source": [
        "* ein Homomorphismus ist strukturerhaltend, d.h. zB die originale 2D Ebene ist im neuen Vektorraum nur verschoben, oder auf eine Linie gezogen (aber mit Nullpunkt) oder sogar nur ein Punkt (alle Punkte vom Original 2D konzentrieren sich auf einen Punkt in der Abbildung\n",
        "\n",
        "* kein Homomorphismus ist eine Gruppe (zB 2D Ebene), wenn alle entsprechenden Punkte in der Abbildung in einer Dimension größer liegen, oder total verteilt sind, oder die Ebene identisch ist aber ein Loch in der Abbildung aber nicht im Original existiert."
      ]
    },
    {
      "cell_type": "markdown",
      "metadata": {
        "id": "X1RwTzZgIVMk",
        "colab_type": "text"
      },
      "source": [
        "https://youtu.be/KK_fHodz-lQ"
      ]
    },
    {
      "cell_type": "markdown",
      "metadata": {
        "id": "jCNkozbcHgYo",
        "colab_type": "text"
      },
      "source": [
        "Ein (Vektorraum-) Homomorphismus ist eine Abbildung $\\varphi: V \\rightarrow W$ zwischen $K$ -Vektorräumen $V$ und $W$ mit den folgenden Eigenschaften:\n",
        "\n",
        "1. $\\varphi(v+u)=\\varphi(v)+\\varphi(u)$ für alle $u$ und $v \\in V$\n",
        "\n",
        "2. $\\varphi(\\lambda \\cdot v)=\\lambda \\cdot \\varphi(v) \\quad$ für alle $\\lambda \\in K$ und $v \\in V$ (Skalarmultiplikation)"
      ]
    },
    {
      "cell_type": "markdown",
      "metadata": {
        "id": "5MfN_h3GkOjN",
        "colab_type": "text"
      },
      "source": [
        "https://de.m.wikipedia.org/wiki/Homomorphismus"
      ]
    },
    {
      "cell_type": "markdown",
      "metadata": {
        "id": "ypY_hbb0QSPX",
        "colab_type": "text"
      },
      "source": [
        "##### **Gruppenhomomorphismus**"
      ]
    },
    {
      "cell_type": "markdown",
      "metadata": {
        "id": "xnUDHhWr-XCF",
        "colab_type": "text"
      },
      "source": [
        "Gegeben seien zwei Gruppen $(G, *)$ und $(H, \\star) .$ Eine Funktion $\\phi: G \\rightarrow H$ heißt Gruppenhomomorphismus, wenn für alle Elemente $g_{1}, g_{2} \\in G$ gilt:\n",
        "\n",
        "> $\\phi\\left(g_{1} * g_{2}\\right)=\\phi\\left(g_{1}\\right) \\star \\phi\\left(g_{2}\\right)$\n",
        "\n",
        "Aus dieser Bedingung folgt unmittelbar, dass\n",
        "\n",
        "> $\\phi\\left(e_{G}\\right)=e_{H}$\n",
        "\n",
        "für die neutralen Elemente $e_{G} \\in G, e_{H} \\in H$ und dann\n",
        "\n",
        "> $\\phi\\left(g^{-1}\\right)=\\phi(g)^{-1}$\n",
        "\n",
        "für alle $g \\in G$ gelten muss sowie, mittels vollständiger Induktion, dass $\\phi\\left(g_{1} * \\ldots * g_{n}\\right)=\\phi\\left(g_{1}\\right) \\star \\ldots \\star \\phi\\left(g_{n}\\right)$ für eine beliebige endliche Anzahl von Faktoren gilt."
      ]
    },
    {
      "cell_type": "markdown",
      "metadata": {
        "id": "4Lpj_kMm_Ngc",
        "colab_type": "text"
      },
      "source": [
        "**Beispiel**"
      ]
    },
    {
      "cell_type": "markdown",
      "metadata": {
        "id": "BvzLRIz6_Po4",
        "colab_type": "text"
      },
      "source": [
        "* **Gegeben** seien zwei Gruppen: G reelle Zahlen mit Addition (R, +) und H reelle Zahlen mit Multiplikation (R, *). Neutrales Element in G ist Null, und in H ist 1.\n",
        "\n",
        "* **Aufgabe**: prüfen ob ein Homomorphismus zwischen diesen algebraischen Gruppen besteht\n",
        "\n",
        "* **Funktion / Abbildung zum Testen**: f (x) = e <sup>x</sup> bzw. f : x -> e <sup>x</sup>\n",
        "\n",
        "**Test** \n",
        "\n",
        "* Kriterium: $\\phi\\left(n_{G}\\right)=n_{H}$ (n steht für neutrales Element, man kann auch e schreiben)\n",
        "\n",
        "* Proof: e<sup>0</sup> (die Funktion 𝜙 = e hoch dem neutralen Element der ersten Gruppe) = 1 (neutrales Element der zweiten Gruppe)"
      ]
    },
    {
      "cell_type": "markdown",
      "metadata": {
        "id": "_UEBw5Z0ogl3",
        "colab_type": "text"
      },
      "source": [
        "https://de.m.wikipedia.org/wiki/Gruppenhomomorphismus"
      ]
    },
    {
      "cell_type": "markdown",
      "metadata": {
        "id": "quHXje_VQWHH",
        "colab_type": "text"
      },
      "source": [
        "##### **Körperhomomorphismus**"
      ]
    },
    {
      "cell_type": "markdown",
      "metadata": {
        "id": "fKXlGe0DEXeS",
        "colab_type": "text"
      },
      "source": [
        "Seien $\\left(K ;+K ; *_{K}\\right)$ und $\\left(L ;+_{L} ; *_{L}\\right)$ zwei Körper.\n",
        "\n",
        "Eine Funktion $f: K \\rightarrow L$ heißt Körperhomomorphismus, falls sie folgende Axiome erfüllen:\n",
        "\n",
        "1. $f\\left(0_{K}\\right)=0_{L}$ sowie $f\\left(1_{K}\\right)=1_{L}$\n",
        "\n",
        "2. $\\forall a ; b \\in K: f(a+\\kappa b)=f(a)+_{L} f(b)$\n",
        "\n",
        "3. $\\forall a ; b \\in K: f\\left(a *_{K} b\\right)=f(a) *_{L} f(b)$"
      ]
    },
    {
      "cell_type": "markdown",
      "metadata": {
        "id": "76R5eWlAD5tL",
        "colab_type": "text"
      },
      "source": [
        "https://de.m.wikipedia.org/wiki/Körperhomomorphismus"
      ]
    },
    {
      "cell_type": "markdown",
      "metadata": {
        "id": "IFXyqXaLQQQw",
        "colab_type": "text"
      },
      "source": [
        "##### **Ringhomomorphismus**"
      ]
    },
    {
      "cell_type": "markdown",
      "metadata": {
        "id": "WY71AyVvlbsL",
        "colab_type": "text"
      },
      "source": [
        "Gegeben seien zwei Ringe $(R,+, \\cdot)$ und $(S, \\oplus, \\otimes)$. Eine Funktion $\\varphi: R \\rightarrow S$ heißt Ringhomomorphismus, wenn für alle Elemente $a, b$ von $R$ gilt:\n",
        "\n",
        "$$\n",
        "\\varphi(a+b)=\\varphi(a) \\oplus \\varphi(b) \\text { und } \\varphi(a \\cdot b)=\\varphi(a) \\otimes \\varphi(b)\n",
        "$$\n",
        "\n",
        "Die Gleichung besagt, dass der Homomorphismus strukturerhaltend ist: Es ist egal, ob man erst zwei Elemente verknüpft, und das Ergebnis abbildet, oder erst die zwei Elemente abbildet, und dann\n",
        "die Bilder verknüpft."
      ]
    },
    {
      "cell_type": "markdown",
      "metadata": {
        "id": "5FQ6_W7HlIEl",
        "colab_type": "text"
      },
      "source": [
        "https://de.m.wikipedia.org/wiki/Ringhomomorphismus"
      ]
    },
    {
      "cell_type": "markdown",
      "metadata": {
        "id": "6qCyNILtQke3",
        "colab_type": "text"
      },
      "source": [
        "##### **Algebrenhomomorphismus**"
      ]
    },
    {
      "cell_type": "markdown",
      "metadata": {
        "id": "1R1Rxx85nwHq",
        "colab_type": "text"
      },
      "source": [
        "Eine Abbildung $f: A \\rightarrow B$ zwischen zwei $K$ -Algebren ist ein Homomorphismus, falls folgendes gilt:\n",
        "\n",
        "* $(\\lambda x)=\\lambda f(x)$ für alle $\\lambda \\in K, x \\in A$\n",
        "\n",
        "* $f(x+y)=f(x)+f(y)$ für alle $x, y \\in A$\n",
        "\n",
        "* $(x \\cdot y)=f(x) \\cdot f(y)$ für alle $x, y \\in A$\n",
        "\n",
        "* Gegebenenfalls $f(1)=1$, wobei mit 1 die Einselemente in den Algebren bezeichnet seien."
      ]
    },
    {
      "cell_type": "markdown",
      "metadata": {
        "id": "dBkWP9hNnbDI",
        "colab_type": "text"
      },
      "source": [
        "https://de.m.wikipedia.org/wiki/Algebra_über_einem_Körper#Algebrenhomomorphismen"
      ]
    },
    {
      "cell_type": "markdown",
      "metadata": {
        "id": "k5pob0z5Qrk3",
        "colab_type": "text"
      },
      "source": [
        "##### **Vektorraumhomomorphismus (Lineare Abbildung)**"
      ]
    },
    {
      "cell_type": "markdown",
      "metadata": {
        "id": "YF_VVnMsq1Qj",
        "colab_type": "text"
      },
      "source": [
        "Seien $V$ und $W$ Vektorräume über einem gemeinsamen Grundkörper $K .$ Eine Abbildung $f: V \\rightarrow W$ heißt lineare Abbildung, wenn für alle $x, y \\in V$ und $a \\in K$ die folgenden Bedingungen\n",
        "gelten:\n",
        "\n",
        "* $\\boldsymbol{f}$ ist homogen:\n",
        "$$\n",
        "f(a x)=a f(x)\n",
        "$$\n",
        "\n",
        "* $\\boldsymbol{f}$ ist additiv:\n",
        "$$\n",
        "f(x+y)=f(x)+f(y)\n",
        "$$\n",
        "\n",
        "Die zwei obigen Bedingungen kann man auch zusammenfassen:\n",
        "\n",
        "> $$\n",
        "f(a x+y)=a f(x)+f(y)\n",
        "$$\n",
        "\n",
        "Für $y=0_{V}$ geht diese in die Bedingung für die Homogenität und für $a=1_{K}$ in diejenige für die Additivität über. Eine weitere, gleichwertige Bedingung ist die Forderung, dass der Graph der Abbildung $f$ ein Untervektorraum der Summe der Vektorräume $V$ und $W$ ist."
      ]
    },
    {
      "cell_type": "markdown",
      "metadata": {
        "id": "eovWfQe3pBQN",
        "colab_type": "text"
      },
      "source": [
        "* Lineare Abbildung: homogene und additive Abbildung\n",
        "\n",
        "* Eine lineare Abbildung (auch lineare Transformation oder Vektorraumhomomorphismus genannt) ist in der linearen Algebra ein wichtiger Typ von Abbildung zwischen zwei Vektorräumen über demselben Körper. \n",
        "\n",
        "* Bei einer linearen Abbildung ist es unerheblich, ob man zwei Vektoren zuerst addiert und dann deren Summe abbildet oder zuerst die Vektoren abbildet und dann die Summe der Bilder bildet. Gleiches gilt für die Multiplikation mit einem Skalar aus dem Grundkörper."
      ]
    },
    {
      "cell_type": "markdown",
      "metadata": {
        "id": "p_75qVqkpwzD",
        "colab_type": "text"
      },
      "source": [
        "![xyz](https://upload.wikimedia.org/wikipedia/commons/thumb/3/33/Reflection_of_a_triangle_about_the_y_axis.svg/320px-Reflection_of_a_triangle_about_the_y_axis.svg.png)"
      ]
    },
    {
      "cell_type": "markdown",
      "metadata": {
        "id": "h6-PQJIIp_NL",
        "colab_type": "text"
      },
      "source": [
        "*Achsenspiegelung als Beispiel einer linearen Abbildung*"
      ]
    },
    {
      "cell_type": "markdown",
      "metadata": {
        "id": "tOgfgrz8psEB",
        "colab_type": "text"
      },
      "source": [
        "* Das abgebildete Beispiel einer Spiegelung an der Y-Achse verdeutlicht dies. Der Vektor $c$ ist die Summe der Vektoren $a$ und $b$ und sein Bild ist der Vektor $c^{\\prime} .$ Man erhält $c^{\\prime}$ aber auch, wenn man die Bilder $a^{\\prime}$ und $b^{\\prime}$ der Vektoren $a$ und $b$ addiert.\n",
        "\n",
        "* Man sagt dann, dass eine lineare Abbildung mit den Verknüpfungen Vektoraddition und skalarer\n",
        "Multiplikation verträglich ist. Es handelt sich somit bei der linearen Abbildung um einen\n",
        "Homomorphismus (strukturerhaltende Abbildung) zwischen Vektorräumen."
      ]
    },
    {
      "cell_type": "markdown",
      "metadata": {
        "id": "WOPz-c8iuDa5",
        "colab_type": "text"
      },
      "source": [
        "![xxx](https://upload.wikimedia.org/wikipedia/commons/thumb/a/a6/Compatibility_of_linear_map_with_addition_1.svg/640px-Compatibility_of_linear_map_with_addition_1.svg.png)"
      ]
    },
    {
      "cell_type": "markdown",
      "metadata": {
        "id": "cW32LF3luQmE",
        "colab_type": "text"
      },
      "source": [
        "*Visualisierung der Verträglichkeit mit der Vektoraddition: Jedes durch $v_{1}$, $v_{2}$ und $v_{3}=v_{1}+v_{2}$ gegebene Additions dreieck bleibt durch die lineare Abbildung $f$ erhalten. Auch $f\\left(v_{1}\\right), f\\left(v_{2}\\right)$ und $f\\left(v_{1}+v_{2}\\right)$ bildet ein Additionsdreieck und es gilt $f\\left(v_{1}+v_{2}\\right)=f\\left(v_{1}\\right)+f\\left(v_{2}\\right)$*"
      ]
    },
    {
      "cell_type": "markdown",
      "metadata": {
        "id": "An-atfdpuWr6",
        "colab_type": "text"
      },
      "source": [
        "![xxx](https://upload.wikimedia.org/wikipedia/commons/thumb/4/4e/Compatibility_of_linear_map_with_addition_2.svg/640px-Compatibility_of_linear_map_with_addition_2.svg.png)"
      ]
    },
    {
      "cell_type": "markdown",
      "metadata": {
        "id": "7e9iDwKduhT-",
        "colab_type": "text"
      },
      "source": [
        "*Bei Abbildungen, die sich nicht mit der Addition vertragen, gibt es Vektoren $v_{1}, v_{2}$ und $v_{3}=v_{1}+v_{2},$ sodass $f\\left(v_{1}\\right), f\\left(v_{2}\\right)$ und $f\\left(v_{1}+v_{2}\\right)$ kein Additionsdreieck bilden, weil $f\\left(v_{1}+v_{2}\\right) \\neq f\\left(v_{1}\\right)+f\\left(v_{2}\\right)$ ist. Eine solche Abbildung ist nicht linear.*"
      ]
    },
    {
      "cell_type": "markdown",
      "metadata": {
        "id": "M_HrnzymuzzS",
        "colab_type": "text"
      },
      "source": [
        "**Beispiele für Vektorraumhomomorphismus**\n",
        "\n",
        "* Für $V=W=\\mathbb{R}$ hat jede lineare Abbildung die Gestalt $f(x)=m x$ mit $m \\in \\mathbb{R}$\n",
        "\n",
        "* Es sei $V=\\mathbb{R}^{n}$ und $W=\\mathbb{R}^{m}$. Dann wird für jede $m \\times n$ -Matrix $A$ mit Hilfe der Matrizenmultiplikation eine lineare Abbildung $f: \\mathbb{R}^{n} \\rightarrow \\mathbb{R}^{m}$ durch\n",
        "\n",
        "$f(x)=A x=\\left(\\begin{array}{ccc}a_{11} & \\cdots & a_{1 n} \\\\ \\vdots & & \\vdots \\\\ a_{m 1} & \\cdots & a_{m n}\\end{array}\\right)\\left(\\begin{array}{c}x_{1} \\\\ \\vdots \\\\ x_{n}\\end{array}\\right)$\n",
        "definiert. \n",
        "\n",
        "Jede lineare Abbildung von $\\mathbb{R}^{n}$ nach $\\mathbb{R}^{m}$ kann so dargestellt werden."
      ]
    },
    {
      "cell_type": "markdown",
      "metadata": {
        "id": "sTIBq-jaqJnb",
        "colab_type": "text"
      },
      "source": [
        "**Vektorraumhomomorphismus in der Funktionalanalyse**\n",
        "\n",
        "* In der Funktionalanalysis, bei der Betrachtung unendlichdimensionaler Vektorräume, die eine Topologie tragen, spricht man meist von linearen Operatoren statt von linearen Abbildungen. \n",
        "\n",
        "* Formal gesehen sind die Begriffe gleichbedeutend. Bei unendlichdimensionalen Vektorräumen ist jedoch die Frage der Stetigkeit bedeutsam, während Stetigkeit immer vorliegt bei linearen Abbildungen zwischen endlichdimensionalen reellen Vektorräumen (jeweils mit der euklidischen Norm) oder allgemeiner zwischen endlichdimensionalen [hausdorffschen](https://de.m.wikipedia.org/wiki/Hausdorff-Raum) [topologischen Vektorräumen.](https://de.m.wikipedia.org/wiki/Topologischer_Vektorraum)"
      ]
    },
    {
      "cell_type": "markdown",
      "metadata": {
        "id": "5Nlu00vko2v9",
        "colab_type": "text"
      },
      "source": [
        "https://de.m.wikipedia.org/wiki/Lineare_Abbildung"
      ]
    },
    {
      "cell_type": "markdown",
      "metadata": {
        "id": "QPpM4ns_Qgke",
        "colab_type": "text"
      },
      "source": [
        "##### **Modulhomomorphismus**"
      ]
    },
    {
      "cell_type": "markdown",
      "metadata": {
        "id": "3HFYjRz6wJC2",
        "colab_type": "text"
      },
      "source": [
        "* Ersetzt man in der Definition der linearen Abbildung zwischen Vektorräumen den Körper durch einen Ring, erhält man einen Modulhomomorphismus. Der Ring braucht nicht kommutativ zu sein."
      ]
    },
    {
      "cell_type": "markdown",
      "metadata": {
        "id": "zy7dUfigwexj",
        "colab_type": "text"
      },
      "source": [
        "Es seien zwei Rechtsmoduln $M, N$ über einem Ring $R$ gegeben. Eine Abbildung $f: M \\rightarrow N$ heißt Homomorphismus von $M$ nach $N$, wenn für alle $m_{1}, m_{2} \\in M$ und alle $r \\in R$ gilt:\n",
        "\n",
        "> $\n",
        "f\\left(m_{1}+m_{2}\\right)=f\\left(m_{1}\\right)+f\\left(m_{2}\\right) \\text { und } f\\left(m_{1} \\cdot r\\right)=f\\left(m_{1}\\right) \\cdot r\n",
        "$"
      ]
    },
    {
      "cell_type": "markdown",
      "metadata": {
        "id": "MANsKCUYozN5",
        "colab_type": "text"
      },
      "source": [
        "https://de.m.wikipedia.org/wiki/Modulhomomorphismus"
      ]
    },
    {
      "cell_type": "markdown",
      "metadata": {
        "id": "s2PvBbtlRBfm",
        "colab_type": "text"
      },
      "source": [
        "##### **Lie-Algebren-Homomorphismus**"
      ]
    },
    {
      "cell_type": "markdown",
      "metadata": {
        "id": "C8MxT7kh0K_V",
        "colab_type": "text"
      },
      "source": [
        "### **Isomorphismus**"
      ]
    },
    {
      "cell_type": "markdown",
      "metadata": {
        "id": "wp5JI4Ft4VDr",
        "colab_type": "text"
      },
      "source": [
        "**In der universellen Algebra**"
      ]
    },
    {
      "cell_type": "markdown",
      "metadata": {
        "id": "q_nd7gb00Ona",
        "colab_type": "text"
      },
      "source": [
        "* ist ein bijektiver Homomorphismus\n",
        "\n",
        "* eine Abbildung zwischen zwei mathematischen Strukturen, durch die Teile einer Struktur auf bedeutungsgleiche Teile einer anderen Struktur umkehrbar eindeutig (bijektiv) abgebildet werden.\n",
        "\n",
        "* siehe auch [Bijektive Funktion](https://de.m.wikipedia.org/wiki/Bijektive_Funktion) - eigene Namen wie Isomorphismus, Diffeomorphismus, Homöomorphismus, Spiegelung oder Ähnliches. Hier sind dann in der Regel noch zusätzliche Forderungen in Hinblick auf die Erhaltung der jeweils betrachteten Struktur zu erfüllen.\n",
        "\n",
        "In der universellen Algebra heißt eine Funktion φ ([phi](https://de.m.wikipedia.org/wiki/Phi)) zwischen zwei algebraischen Strukturen (zum Beispiel Gruppen, Ringen, Körpern oder Vektorräumen) ein Isomorphismus, wenn:\n",
        "\n",
        "* $\\varphi$ bijektiv ist,\n",
        "\n",
        "* $\\varphi$ ein Homomorphismus ist.\n",
        "\n",
        "Isomorphe Strukturen sind in gewisser Weise „das gleiche“, nämlich dann, wenn man von der Darstellung der Elemente der zugrundeliegenden Mengen und den Namen der Relationen und Verknüpfungen absieht."
      ]
    },
    {
      "cell_type": "markdown",
      "metadata": {
        "id": "sJDvkS_BTWTn",
        "colab_type": "text"
      },
      "source": [
        "* Gibt es einen Isomorphismus zwischen zwei algebraischen Strukturen, dann heißen die beiden Strukturen zueinander isomorph. Isomorphe Strukturen sind in gewisser Weise „das gleiche“, nämlich dann, wenn man von der Darstellung der Elemente der zugrundeliegenden Mengen und den Namen der Relationen und Verknüpfungen absieht.\n",
        "\n",
        "* Die Aussage ${ }_{n} X$ und $Y$ sind isomorph\" wird üblicherweise durch $\\simeq$ oder durch $X \\cong Y$ notiert.\n",
        "\n",
        "* Ist $\\varphi$ ein bijektiver Homomorphismus zwischen zwei algebraischen Strukturen, dann ist immer auch $\\varphi^{-1}$ ein bijektiver Homomorphismus."
      ]
    },
    {
      "cell_type": "markdown",
      "metadata": {
        "id": "T0gDL3Hz4X6e",
        "colab_type": "text"
      },
      "source": [
        "**In der Kategorientheorie**"
      ]
    },
    {
      "cell_type": "markdown",
      "metadata": {
        "id": "S6RtRWI_10iv",
        "colab_type": "text"
      },
      "source": [
        "* Der oben in der universellen Algebra definierte Isomorphismus ist ein Spezialfall des in der Kategorientheorie definierten Isomorphismus: In der Kategorientheorie definiert man einen Isomorphismus allgemein als einen Morphismus f : X → Y, der ein beidseitiges Inverses f<sup>-1</sup> : Y → X besitzt: f ∘ f<sup>-1</sup> = id <sub>Y</sub> und f<sup>-1</sup> ∘ f = id <sub>X</sub>.\n",
        "\n",
        "* Weitere Spezialfälle dieses Isomorphiebegriffes sind beispielsweise [Homöomorphismen](https://de.m.wikipedia.org/wiki/Homöomorphismus) als Isomorphismen in der Kategorie der topologischen Räume und stetige Abbildungen oder [Homotopieäquivalenzen](https://de.m.wikipedia.org/wiki/Homotopie#Homotopieäquivalenz) als Isomorphismen in der Kategorie der topologischen Räume mit den [Homotopieklassen](https://de.m.wikipedia.org/wiki/Homotopie) von Abbildungen als Morphismen.\n",
        "\n",
        "* In der Kategorientheorie ist von entscheidender Bedeutung, dass die Eigenschaft Isomorphismus unter jedem Funktor erhalten bleibt, d. $\\mathrm{h}$. ist $f: X \\rightarrow Y$ ein Isomorphismus in einer Kategorie $C$ und $F: C \\rightarrow D$ ein Funktor, dann ist $F(f): F(X) \\rightarrow F(Y)$ ebenfalls ein Isomorphismus, in der Kategorie $D$. \n",
        "\n",
        "* In der algebraischen Topologie wird diese Eigenschaft häufig festgestellt, um Räume in Relation bringen zu können: sind beispielsweise die Fundamentalgruppen zweier Räume isomorph, so sind die Räume homöomorph."
      ]
    },
    {
      "cell_type": "markdown",
      "metadata": {
        "id": "Zvn1CCA80RT2",
        "colab_type": "text"
      },
      "source": [
        "https://de.m.wikipedia.org/wiki/Isomorphismus"
      ]
    },
    {
      "cell_type": "markdown",
      "metadata": {
        "id": "JLMn2lws52Su",
        "colab_type": "text"
      },
      "source": [
        "**Sonderfall: Homöomorphismus**"
      ]
    },
    {
      "cell_type": "markdown",
      "metadata": {
        "id": "eBG_pS8655o1",
        "colab_type": "text"
      },
      "source": [
        "* In der algebraischen Topologie wird die Eigenschaft des Isomorphismus häufig festgestellt, um Räume in Relation bringen zu können: **Sind (beispielsweise) die [Fundamentalgruppen](https://de.m.wikipedia.org/wiki/Fundamentalgruppe) zweier Räume isomorph, so sind die Räume homöomorph.**\n",
        "\n",
        "* Homöomorphismus ist eine umkehrbare Abbildung zwischen zwei topologischen Räumen"
      ]
    },
    {
      "cell_type": "markdown",
      "metadata": {
        "id": "HK1PwhI-57sy",
        "colab_type": "text"
      },
      "source": [
        "https://de.m.wikipedia.org/wiki/Homöomorphismus"
      ]
    },
    {
      "cell_type": "markdown",
      "metadata": {
        "id": "E_r-ToqU0H4a",
        "colab_type": "text"
      },
      "source": [
        "### **Endomorphismus**"
      ]
    },
    {
      "cell_type": "markdown",
      "metadata": {
        "id": "Q-QqbBc4KtGu",
        "colab_type": "text"
      },
      "source": [
        "https://de.m.wikipedia.org/wiki/Endomorphismus"
      ]
    },
    {
      "cell_type": "markdown",
      "metadata": {
        "id": "pacCQAp--ldC",
        "colab_type": "text"
      },
      "source": [
        "### **Automorphismus**"
      ]
    },
    {
      "cell_type": "markdown",
      "metadata": {
        "id": "98qpJfBQK2qu",
        "colab_type": "text"
      },
      "source": [
        "https://de.m.wikipedia.org/wiki/Automorphismus"
      ]
    },
    {
      "cell_type": "markdown",
      "metadata": {
        "id": "PmM2fIh3-rfG",
        "colab_type": "text"
      },
      "source": [
        "### **Epimorphismus**"
      ]
    },
    {
      "cell_type": "markdown",
      "metadata": {
        "id": "tw7_nIcxK8hI",
        "colab_type": "text"
      },
      "source": [
        "https://de.m.wikipedia.org/wiki/Epimorphismus"
      ]
    },
    {
      "cell_type": "markdown",
      "metadata": {
        "id": "Mny8a5t4-wOE",
        "colab_type": "text"
      },
      "source": [
        "### **Monomorphismus**"
      ]
    },
    {
      "cell_type": "markdown",
      "metadata": {
        "id": "4x8yPcRVKx8U",
        "colab_type": "text"
      },
      "source": [
        "https://de.m.wikipedia.org/wiki/Monomorphismus"
      ]
    }
  ]
}