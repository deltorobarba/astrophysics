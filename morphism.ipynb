{
  "nbformat": 4,
  "nbformat_minor": 0,
  "metadata": {
    "colab": {
      "name": "morphism.ipynb",
      "provenance": [],
      "collapsed_sections": [
        "C8MxT7kh0K_V",
        "IRd6gnIaP5Yv"
      ],
      "include_colab_link": true
    },
    "kernelspec": {
      "name": "python3",
      "display_name": "Python 3"
    }
  },
  "cells": [
    {
      "cell_type": "markdown",
      "metadata": {
        "id": "view-in-github",
        "colab_type": "text"
      },
      "source": [
        "<a href=\"https://colab.research.google.com/github/deltorobarba/machinelearning/blob/master/morphism.ipynb\" target=\"_parent\"><img src=\"https://colab.research.google.com/assets/colab-badge.svg\" alt=\"Open In Colab\"/></a>"
      ]
    },
    {
      "cell_type": "markdown",
      "metadata": {
        "id": "2Aoj2PpxvDQV",
        "colab_type": "text"
      },
      "source": [
        "# **Morphismen**"
      ]
    },
    {
      "cell_type": "code",
      "metadata": {
        "id": "1U5_6xH7tAQq",
        "colab_type": "code",
        "colab": {}
      },
      "source": [
        "import numpy as np\n",
        "import pandas as pd\n",
        "import seaborn as sns\n",
        "import matplotlib.pyplot as plt"
      ],
      "execution_count": null,
      "outputs": []
    },
    {
      "cell_type": "markdown",
      "metadata": {
        "id": "C8MxT7kh0K_V",
        "colab_type": "text"
      },
      "source": [
        "### **Isomorphismus**"
      ]
    },
    {
      "cell_type": "markdown",
      "metadata": {
        "id": "q_nd7gb00Ona",
        "colab_type": "text"
      },
      "source": [
        "* ist ein bijektiver Homomorphismus\n",
        "\n",
        "* eine Abbildung zwischen zwei mathematischen Strukturen, durch die Teile einer Struktur auf bedeutungsgleiche Teile einer anderen Struktur umkehrbar eindeutig (bijektiv) abgebildet werden.\n",
        "\n",
        "* siehe auch [Bijektive Funktion](https://de.m.wikipedia.org/wiki/Bijektive_Funktion) - eigene Namen wie Isomorphismus, Diffeomorphismus, Homöomorphismus, Spiegelung oder Ähnliches. Hier sind dann in der Regel noch zusätzliche Forderungen in Hinblick auf die Erhaltung der jeweils betrachteten Struktur zu erfüllen.\n",
        "\n",
        "In der universellen Algebra heißt eine Funktion φ ([phi](https://de.m.wikipedia.org/wiki/Phi)) zwischen zwei algebraischen Strukturen (zum Beispiel Gruppen, Ringen, Körpern oder Vektorräumen) ein Isomorphismus, wenn:\n",
        "\n",
        "* $\\varphi$ bijektiv ist,\n",
        "\n",
        "* $\\varphi$ ein Homomorphismus ist.\n",
        "\n",
        "Isomorphe Strukturen sind in gewisser Weise „das gleiche“, nämlich dann, wenn man von der Darstellung der Elemente der zugrundeliegenden Mengen und den Namen der Relationen und Verknüpfungen absieht."
      ]
    },
    {
      "cell_type": "markdown",
      "metadata": {
        "id": "S6RtRWI_10iv",
        "colab_type": "text"
      },
      "source": [
        "* Der oben in der universellen Algebra definierte Isomorphismus ist ein Spezialfall des in der Kategorientheorie definierten Isomorphismus: In der Kategorientheorie definiert man einen Isomorphismus allgemein als einen Morphismus f : X → Y, der ein beidseitiges Inverses f<sup>-1</sup> : Y → X besitzt: f ∘ f<sup>-1</sup> = id <sub>Y</sub> und f<sup>-1</sup> ∘ f = id <sub>X</sub>.\n",
        "\n",
        "* Weitere Spezialfälle dieses Isomorphiebegriffes sind beispielsweise Homöomorphismen als Isomorphismen in der Kategorie der topologischen Räume und stetige Abbildungen oder Homotopieäquivalenzen als Isomorphismen in der Kategorie der topologischen Räume mit den Homotopieklassen von Abbildungen als Morphismen."
      ]
    },
    {
      "cell_type": "markdown",
      "metadata": {
        "id": "Zvn1CCA80RT2",
        "colab_type": "text"
      },
      "source": [
        "https://de.m.wikipedia.org/wiki/Isomorphismus"
      ]
    },
    {
      "cell_type": "markdown",
      "metadata": {
        "id": "E_r-ToqU0H4a",
        "colab_type": "text"
      },
      "source": [
        "### **Endomorphismus**"
      ]
    },
    {
      "cell_type": "markdown",
      "metadata": {
        "id": "IRd6gnIaP5Yv",
        "colab_type": "text"
      },
      "source": [
        "### **Homomorphismus**"
      ]
    },
    {
      "cell_type": "markdown",
      "metadata": {
        "id": "Jq7dlrQquZLg",
        "colab_type": "text"
      },
      "source": [
        "* Als Homomorphismus (zusammengesetzt aus altgriechisch ὁμός homós ‚gleich‘ oder ‚ähnlich‘, und altgriechisch μορφή morphé ‚Form‘; nicht zu verwechseln mit Homöomorphismus) werden in der Mathematik Abbildungen (=Funktionen) bezeichnet, die eine (oft algebraische) mathematische Struktur erhalten bzw. damit verträglich sind. \n",
        "\n",
        "* Ein Homomorphismus bildet die Elemente aus der einen Menge so in die andere Menge ab, dass sich ihre Bilder dort hinsichtlich der Struktur ebenso verhalten, wie sich deren Urbilder in der Ausgangsmenge verhalten."
      ]
    },
    {
      "cell_type": "markdown",
      "metadata": {
        "id": "xb9UQxzdRS4C",
        "colab_type": "text"
      },
      "source": [
        "https://de.m.wikipedia.org/wiki/Homomorphismus"
      ]
    },
    {
      "cell_type": "markdown",
      "metadata": {
        "id": "ypY_hbb0QSPX",
        "colab_type": "text"
      },
      "source": [
        "#### **Gruppenhomomorphismus**"
      ]
    },
    {
      "cell_type": "markdown",
      "metadata": {
        "id": "quHXje_VQWHH",
        "colab_type": "text"
      },
      "source": [
        "#### **Körperhomomorphismus**"
      ]
    },
    {
      "cell_type": "markdown",
      "metadata": {
        "id": "IFXyqXaLQQQw",
        "colab_type": "text"
      },
      "source": [
        "#### **Ringhomomorphismus**"
      ]
    },
    {
      "cell_type": "markdown",
      "metadata": {
        "id": "6qCyNILtQke3",
        "colab_type": "text"
      },
      "source": [
        "#### **Algebrenhomomorphismus**"
      ]
    },
    {
      "cell_type": "markdown",
      "metadata": {
        "id": "k5pob0z5Qrk3",
        "colab_type": "text"
      },
      "source": [
        "#### **Vektorraumhomomorphismus (Lineare Abbildung)**"
      ]
    },
    {
      "cell_type": "markdown",
      "metadata": {
        "id": "QPpM4ns_Qgke",
        "colab_type": "text"
      },
      "source": [
        "#### **Modulhomomorphismus**"
      ]
    },
    {
      "cell_type": "markdown",
      "metadata": {
        "id": "s2PvBbtlRBfm",
        "colab_type": "text"
      },
      "source": [
        "#### **Lie-Algebren-Homomorphismus**"
      ]
    }
  ]
}