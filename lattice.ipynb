{
  "nbformat": 4,
  "nbformat_minor": 0,
  "metadata": {
    "colab": {
      "name": "lattice.ipynb",
      "provenance": [],
      "collapsed_sections": [
        "K0UpZzAKftF8",
        "t6_txpIWhm2L",
        "QYMsn5TXf2Tz",
        "ravlJlNS2SVC"
      ],
      "include_colab_link": true
    },
    "kernelspec": {
      "name": "python3",
      "display_name": "Python 3"
    }
  },
  "cells": [
    {
      "cell_type": "markdown",
      "metadata": {
        "id": "view-in-github",
        "colab_type": "text"
      },
      "source": [
        "<a href=\"https://colab.research.google.com/github/deltorobarba/machinelearning/blob/master/lattice.ipynb\" target=\"_parent\"><img src=\"https://colab.research.google.com/assets/colab-badge.svg\" alt=\"Open In Colab\"/></a>"
      ]
    },
    {
      "cell_type": "markdown",
      "metadata": {
        "id": "2Aoj2PpxvDQV"
      },
      "source": [
        "# **Verband (Lattice)**"
      ]
    },
    {
      "cell_type": "code",
      "metadata": {
        "id": "1U5_6xH7tAQq"
      },
      "source": [
        "import numpy as np\n",
        "import pandas as pd\n",
        "import seaborn as sns\n",
        "import matplotlib.pyplot as plt"
      ],
      "execution_count": null,
      "outputs": []
    },
    {
      "cell_type": "markdown",
      "metadata": {
        "id": "K0UpZzAKftF8"
      },
      "source": [
        "##### **Verband (Lattice)**"
      ]
    },
    {
      "cell_type": "markdown",
      "metadata": {
        "id": "g7DVt8p93YNw"
      },
      "source": [
        "https://de.m.wikipedia.org/wiki/Verband_(Mathematik)"
      ]
    },
    {
      "cell_type": "markdown",
      "metadata": {
        "id": "uJxOdQZjRxmk"
      },
      "source": [
        "Ein Verband ist ein Tripel (V, ⊓, ⊔), bestehend aus einer nichtleeren Menge V und zwei Operationen ⊓ : V×V →V (lies: et)und ⊔ : V×V →V (lies:vel), fur die folgende Rechenregeln gelten:\n",
        "\n",
        "* Beide Operationen sind **kommutativ**, d. h., u⊓v = v⊓u und u⊔v = v⊔u f u ̈ r a l l e u , v ∈ V .\n",
        "\n",
        "* Beide Operationen sind **assoziativ**, d. h., (u ⊓ v) ⊓ w = u ⊓ (v ⊓ w) und ( u ⊔ v ) ⊔ w = u ⊔ ( v ⊔ w ) f u ̈ r a l l e u , v , w ∈ V .\n",
        "\n",
        "* Es gelten die **Verschmelzungsgesetze**, d. h., u⊓(u⊔v) = u und u⊔(u⊓v) = u f u ̈ r a l l e u , v ∈ V .\n",
        "\n",
        "Ein Verband (V,⊓,⊔) wird auch kuerzer V geschrieben, sofern klar ist, um welche Operationen es sich handelt. Ein Verband V heißt endlich, wenn die Menge V endlich ist."
      ]
    },
    {
      "cell_type": "markdown",
      "metadata": {
        "id": "s2xBQMKOg1Ve"
      },
      "source": [
        "* Ein Verband ist eine algebraische Struktur, **deren zwei innere Verknüpfungen im allgemeinen Fall nicht als Addition und Multiplikation aufgefasst werden können** (zB grösser gleich und kleiner gleich Relationen zwischen Mengenelementen)\n",
        "\n",
        "* Als algebraische Struktur ist ein Verband dadurch gekennzeichnet, dass es zwei assoziative und kommutative Operationen gibt, für die die Absorptionsgesetze kennzeichnend sind: Für beliebige Elemente gilt u ∨ (u ∧ v) = u und u ∧ (u ∨ v) = u.\n",
        "\n",
        "* Für jede in der Verbandstheorie vorkommende algebraische Aussage gibt es eine direkte Übersetzung in eine Ordnungsaussage und umgekehrt."
      ]
    },
    {
      "cell_type": "markdown",
      "metadata": {
        "id": "YMZNsl4uKyXF"
      },
      "source": [
        "Ein Verband $(V, \\vee, \\wedge)$ ist eine Menge $V$ mit zwei inneren binären Verknüpfungen $\\vee$ (Vereinigung, engl. join) und $\\wedge$ (Durchschnitt, engl. meet), die folgenden Bedingungen für alle $u, v, w$ aus $V$ genügen:\n",
        "\n",
        "**Assoziativgesetze**:\n",
        "\n",
        "$ u \\vee(v \\vee w)=(u \\vee v) \\vee w$\n",
        "\n",
        "$ u \\wedge(v \\wedge w)=(u \\wedge v) \\wedge w$\n",
        "\n",
        "**Kommutativgesetze**:\n",
        "\n",
        "$ u \\vee \\boldsymbol{v}=v \\vee u$\n",
        "\n",
        "$ u \\wedge v=v \\wedge u$\n",
        "\n",
        "**Absorptionsgesetze**:\n",
        "\n",
        "$ u \\vee(u \\wedge v)=u$\n",
        "\n",
        "$ u \\wedge(u \\vee v)=u$\n",
        "\n",
        "Aus diesen Bedingungen folgt die [**Idempotenz**](https://de.m.wikipedia.org/wiki/Idempotenz) beider Verknüpfungen:\n",
        "\n",
        "$ u \\vee \\boldsymbol{u}=u$\n",
        "\n",
        "$ u \\wedge u=u$\n",
        "\n",
        "**$V$ ist also bezüglich jeder einzelnen Verknüpfung ein Halbverband, $d$. h. eine kommutative [Halbgruppe](https://de.m.wikipedia.org/wiki/Halbgruppe),** der jedes Element idempotent ist. Die Verknüpfungen treten bei den Absorptionsgesetzen in\n",
        "Wechselwirkung."
      ]
    },
    {
      "cell_type": "markdown",
      "metadata": {
        "id": "suo2vIgK00Mr"
      },
      "source": [
        "**Beispiele für Verbände:**\n",
        "\n",
        "* Die Menge aller Aussagen bildet zusammen mit Konjunktion und Disjunktion nach Satz 1.9 einen Verband, den so genannten Aus- sagenverband.\n",
        "\n",
        "* Die Potenzmenge P (A) einer Menge A bildet zusammen mit Durchschnitt und Vereinigung nach Satz 3.7 den Potenzmengenverband von A.\n",
        "\n",
        "* Die Menge aller natuerlichen Zahlen N<sub>0</sub> bildet mit ggT und kgV nach Kap. 13 den so genannten natu ̈rlichen Teilerverband.\n",
        "\n",
        "* Die Menge aller Unterra ̈ume eines Vektorraums V bildet mit Durchschnitt und Summe den so genannten Unterraumverband von V , wobei die Summe durchU+W ={u+w|u∈U,w∈W}gegebenist.\n",
        "\n",
        "* die z. B. in der Mengenlehre, der Logik und als Schaltalgebren auftretenden Booleschen Algebren sind Verbände.\n",
        "\n",
        "* [totale Ordnungen](https://de.m.wikipedia.org/wiki/Ordnungsrelation#Totalordnung), die z. B. in den verschiedenen Zahlbereichen wie N  (natürliche Zahlen), Z (ganze Zahlen), Q (rationale Zahlen) oder R (reelle Zahlen) auftreten, sind Verbände.\n",
        "\n",
        "* für jede beliebige natürliche Zahl ist die Menge der Teiler (durch die Teilbarkeit geordnet) ein Verband.\n",
        "\n",
        "* die Unterstrukturen einer beliebigen algebraischen oder sonstigen Struktur bilden einen Verband mit der Teilmengenrelation als Ordnung.\n",
        "\n",
        "* ALSO: Das Hasse-Diagramm zeigt die Teiler der Zahl 12, bezüglich der durch die Teilbarkeit gegebenen Ordnungsbeziehung (https://mathepedia.de/Hasse_Diagramme.html)"
      ]
    },
    {
      "cell_type": "markdown",
      "metadata": {
        "id": "gnn7w0CKfvko"
      },
      "source": [
        "https://de.m.wikipedia.org/wiki/Verband_(Mathematik)"
      ]
    },
    {
      "cell_type": "markdown",
      "metadata": {
        "id": "enrSGr1-bNY9"
      },
      "source": [
        "https://en.m.wikipedia.org/wiki/Lattice_(order)"
      ]
    },
    {
      "cell_type": "markdown",
      "metadata": {
        "id": "ZaWMOhMSh5je"
      },
      "source": [
        "**Ordnungstheorie**: https://mathepedia.de/Verbaende.html"
      ]
    },
    {
      "cell_type": "markdown",
      "metadata": {
        "id": "5bdxlQbQBlwx"
      },
      "source": [
        "https://en.wikipedia.org/wiki/Algebraic_structure\n",
        "\n",
        "Check: Two sets with operations"
      ]
    },
    {
      "cell_type": "markdown",
      "metadata": {
        "id": "GqvDwx9rBoAR"
      },
      "source": [
        "https://de.m.wikipedia.org/wiki/Algebraische_Struktur"
      ]
    },
    {
      "cell_type": "markdown",
      "metadata": {
        "id": "QfmcVnYsJshi"
      },
      "source": [
        "**Absorption (Logik)**"
      ]
    },
    {
      "cell_type": "markdown",
      "metadata": {
        "id": "2s51QFKzJ76J"
      },
      "source": [
        "* Das Absorptionsgesetz der Aussagenlogik besagt, dass eine Aussage absorbiert wird, d. h., dass ihre Belegung für die Auswertung der Gesamtformel irrelevant ist, wenn sie hintereinander konjunktiv und disjunktiv mit einer anderen Aussage verknüpft wird, wobei die Reihenfolge der Verknüpfungen keine Rolle spielt.\n",
        "\n",
        "Absorptionsgesetze in der Verbandstheorie:\n",
        "\n",
        "$u \\vee(u \\wedge v)=u$\n",
        "\n",
        "$u \\wedge(u \\vee v)=u$"
      ]
    },
    {
      "cell_type": "markdown",
      "metadata": {
        "id": "rgHOEdfCJuhn"
      },
      "source": [
        "https://de.m.wikipedia.org/wiki/Absorption_(Logik)"
      ]
    },
    {
      "cell_type": "markdown",
      "metadata": {
        "id": "3E9FRg7kRfHs"
      },
      "source": [
        "**Hintergrund zu Verbaenden**"
      ]
    },
    {
      "cell_type": "markdown",
      "metadata": {
        "id": "l93P5wnr824U"
      },
      "source": [
        "* Das Verbandskonzept geht auf Dedekind und Schroeder zurueck (Ende des 19. Jahrhunderts).\n",
        "\n",
        "* Bei Dedekind heißen solche Strukturen Dualgruppen. Der Name Verband wurde von Fritz Klein (ca. 1930) gewaehlt. Garrett Birkhoff, der Begruender der modernen Verbandstheorie, praegte den englischen Begriff lattice.\n",
        "\n",
        "* Ein Verband ist **eine Struktur, die sowohl als [Ordnungsstruktur (Ordnungsrelation)](https://de.m.wikipedia.org/wiki/Ordnungsrelation) als auch als [algebraische Struktur](https://de.m.wikipedia.org/wiki/Algebraische_Struktur)** vollständig beschrieben werden kann. \n",
        "\n",
        "* Als Ordnungsstruktur ist ein Verband dadurch gekennzeichnet, dass es zu je zwei Elementen \n",
        "a, \n",
        "b ein Supremum \n",
        "a\n",
        "∨\n",
        "b gibt, d. h. ein eindeutig bestimmtes kleinstes Element, das größer oder gleich\n",
        "a und \n",
        "b ist, und umgekehrt ein Infimum \n",
        "a\n",
        "∧\n",
        "b, ein größtes Element, das kleiner oder gleich \n",
        "a und\n",
        "b ist. \n",
        "\n",
        "* Als algebraische Struktur ist ein Verband dadurch gekennzeichnet, dass es zwei assoziative und kommutative Operationen gibt, für die die Absorptionsgesetze kennzeichnend sind: Für beliebige Elemente gilt\n",
        "\n",
        "> $u \\vee(u \\wedge v)=u$ und $u \\wedge(u \\vee v)=u$\n",
        "\n",
        "* **Für jede in der Verbandstheorie vorkommende algebraische Aussage gibt es eine direkte Übersetzung in eine Ordnungsaussage und umgekehrt**. Diese Übersetzung ist in den meisten Fällen auch anschaulich nachzuvollziehen. \n",
        "\n",
        "* Die Möglichkeit, Ergebnisse doppelt zu interpretieren und dadurch besser zu verstehen, macht die Untersuchung und die Verwendung von Aussagen aus der Verbandstheorie so interessant. Der Begriff Verband wurde im hier beschriebenen Sinne von Fritz Klein-Barmen geprägt."
      ]
    },
    {
      "cell_type": "markdown",
      "metadata": {
        "id": "t6_txpIWhm2L"
      },
      "source": [
        "##### **Beispiel: Boolesche Algebra**"
      ]
    },
    {
      "cell_type": "markdown",
      "metadata": {
        "id": "W_X5DTD42oU9"
      },
      "source": [
        "> In der Mathematik ist eine boolesche Algebra (oder ein boolescher Verband) eine spezielle algebraische Struktur, die die Eigenschaften der logischen Operatoren UND, ODER, NICHT sowie die Eigenschaften der mengentheoretischen Verknüpfungen Durchschnitt, Vereinigung, Komplement verallgemeinert. Gleichwertig zu booleschen Algebren sind boolesche Ringe, die von UND und ENTWEDER-ODER (exklusiv-ODER) beziehungsweise Durchschnitt und symmetrischer Differenz ausgehen.\n",
        "\n",
        "Die boolesche Algebra ist die Grundlage bei der Entwicklung von digitaler Elektronik und wird in allen modernen Programmiersprachen zur Verfügung gestellt. Sie wird auch in der Satztheorie und der Statistik verwendet."
      ]
    },
    {
      "cell_type": "markdown",
      "metadata": {
        "id": "k4Sp21V_hWFP"
      },
      "source": [
        "https://de.m.wikipedia.org/wiki/Boolesche_Algebra"
      ]
    },
    {
      "cell_type": "markdown",
      "metadata": {
        "id": "1yoiK_Z2hS2b"
      },
      "source": [
        "Eine Algebra (Plural: Algebren) **ist eine Verallgemeinerung des Begriffes Ring**.\n",
        "Es gibt zwei grundsätzlich verschiedene Arten von Algebren:\n",
        "\n",
        "1. Boolesche Algebren, insbesondere Mengenalgebren wie z.B. σ-Algebren\n",
        "\n",
        "2. Algebren über Ringen, die eine Art Synthese aus den Begriffen Vektorraum und Ring darstellen."
      ]
    },
    {
      "cell_type": "markdown",
      "metadata": {
        "id": "0XBejTPwhPaA"
      },
      "source": [
        "https://mathepedia.de/Algebren.html"
      ]
    },
    {
      "cell_type": "markdown",
      "metadata": {
        "id": "h3EItm12hE7r"
      },
      "source": [
        "**Boolsche Algebra**"
      ]
    },
    {
      "cell_type": "markdown",
      "metadata": {
        "id": "sOC7zkQkhHlR"
      },
      "source": [
        "* Eine **Boolesche Algebra (oder ein boolescher Verband) ist ein Verband**, bzw. eine spezielle algebraische Struktur, die die Eigenschaften der logischen Operatoren UND, ODER, NICHT sowie die Eigenschaften der mengentheoretischen Verknüpfungen Durchschnitt, Vereinigung, Komplement verallgemeinert. \n",
        "\n",
        "* Gleichwertig zu booleschen Algebren sind boolesche Ringe, die von UND und ENTWEDER-ODER (exklusiv-ODER) beziehungsweise Durchschnitt und symmetrischer Differenz ausgehen.\n",
        "\n",
        "* Die boolesche Algebra ist die Grundlage bei der Entwicklung von digitaler Elektronik und wird in allen modernen Programmiersprachen zur Verfügung gestellt. Sie wird auch in der Satztheorie und der Statistik verwendet.\n",
        "\n",
        "* Eine **Boolesche Algebra (oder ein boolescher Verband) ist ein Verband**, in dem die beiden Verknüpfungen je ein neutrales Element haben, a ∪ 0 = a und a ∩ 1 = a, und in dem jedes Element ein bezüglich beider Verknüpfungen übereinstimmendes Komplement h"
      ]
    },
    {
      "cell_type": "markdown",
      "metadata": {
        "id": "1Ea-fe4W_emT"
      },
      "source": [
        "**Definition der Boolschen Algebra als Verband:**\n",
        "\n",
        "* **Eine boolesche Algebra ist ein distributiver komplementärer Verband**. Diese Definition geht nur von den Verknüpfungen $\\wedge$ und $\\vee$ aus und umfasst die Existenz von 0,1 und $\\neg$ und die unabhängigen Axiome (1)$\\left(1^{\\prime}\\right)(2)$ $\\left(2^{\\prime}\\right)(11)\\left(11^{\\prime}\\right)(4)(9)\\left(9^{\\prime}\\right)$ des gleichwertigen Axiomensystems von Peano. \n",
        "\n",
        "* Auf einer booleschen Algebra ist wie in jedem Verband durch $a \\leq b \\Longleftrightarrow a=a \\wedge b$ eine partielle Ordnung definierbar; bei ihr haben je zwei Elemente ein Supremum und ein Infimum. \n",
        "\n",
        "* Bei der mengentheoretischen Interpretation ist $\\leq$ gleichbedeutend zur Teilmengenordnung $\\subseteq$"
      ]
    },
    {
      "cell_type": "markdown",
      "metadata": {
        "id": "GfcFvGUzAU4M"
      },
      "source": [
        "**Boolesche Ringe**\n",
        "\n",
        "* Eine andere Sichtweise auf boolesche Algebren besteht in sogenannten booleschen Ringen: Das sind Ringe mit Einselement, die zusätzlich idempotent sind, also das Idempotenzgesetz \n",
        "a\n",
        "⋅\n",
        "a\n",
        "=\n",
        "a erfüllen. \n",
        "\n",
        "* Jeder idempotente Ring ist kommutativ. Die Addition im booleschen Ring entspricht bei der mengentheoretischen Interpretation der symmetrischen Differenz und bei aussagenlogischer Interpretation der Alternative ENTWEDER-ODER (exclusiv-ODER, XOR); die Multiplikation entspricht der Durchschnittsbildung beziehungsweise der Konjunktion UND."
      ]
    },
    {
      "cell_type": "markdown",
      "metadata": {
        "id": "0p0KsPea3-pX"
      },
      "source": [
        "https://de.m.wikipedia.org/wiki/Aussagenlogik"
      ]
    },
    {
      "cell_type": "markdown",
      "metadata": {
        "id": "QYMsn5TXf2Tz"
      },
      "source": [
        "##### **Beispiel: Mengenalgebra (Field of Sets) wie Sigma-Algebra**"
      ]
    },
    {
      "cell_type": "markdown",
      "metadata": {
        "id": "_GOi9QJC2KKM"
      },
      "source": [
        "> In der Mathematik ist (Mengen-)Algebra ein Grundbegriff der Maßtheorie. Er beschreibt ein nicht-leeres Mengensystem, das vereinigungs- und komplementstabil ist."
      ]
    },
    {
      "cell_type": "markdown",
      "metadata": {
        "id": "UtsldPtaf407"
      },
      "source": [
        "https://de.m.wikipedia.org/wiki/Algebra_(Mengensystem)"
      ]
    },
    {
      "cell_type": "markdown",
      "metadata": {
        "id": "jikzDMPXA51Q"
      },
      "source": [
        "Die Potenzmenge einer Menge $S$ wird mit Durchschnitt, Vereinigung und dem Komplement $A^{\\complement}:=\\{x \\mid(x \\in S) \\wedge(x \\notin A)\\}$ zu einer booleschen Algebra, bei der 0 die leere Menge $\\emptyset$ und 1 die ganze Menge $S$ ist. Der Sonderfall $S=\\emptyset$ ergibt die einelementige Potenzmenge mit $1=0 .$ \n",
        "\n",
        "Auch jeder $S$ enthaltende, bezüglich Vereinigung und Komplement abgeschlossene Teilbereich der Potenzmenge von $S$ ist eine boolesche Algebra, die als Teilmengenverband oder Mengenalgebra bezeichnet wird. Der Darstellungssatz von Stone besagt, dass jede boolesche Algebra isomorph (s. u.) zu einer Mengenalgebra ist. Daraus folgt, dass die Mächtigkeit jeder endlichen booleschen\n",
        "Algebra eine Zweierpotenz ist.\n",
        "\n",
        "Über die Venn-Diagramme veranschaulicht die Mengenalgebra boolesche Gesetze, beispielsweise Distributiv- und deMorgansche-Gesetze. Darüber hinaus basiert auf ihrer Form als KV-Diagramm eine bekannte Methode der systematischen Vereinfachung boolescher Ausdrücke in der Schaltalgebra.\n",
        "Weitere Beispiele für boolesche Mengenalgebren stammen aus der Topologie. \n",
        "\n",
        "Die Menge der abgeschlossenen offenen Mengen eines topologischen Raums bildet mit den üblichen Operationen für die Vereinigung, den Durchschnitt und das Komplement von Mengen eine boolesche Algebra. Die regulär abgeschlossenen Mengen und die regulär offenen Mengen stellen mit den jeweiligen regularisierten Mengenoperationen $\\cap^{*}, \\cup^{*}$ und $C^{*}$ ebenfalls boolesche Algebren dar."
      ]
    },
    {
      "cell_type": "markdown",
      "metadata": {
        "id": "W6m2f_P1hdXY"
      },
      "source": [
        "* **Mengenalgebra**: eine Boolesche Algebra, deren Elemente Mengen sind, nämlich Teilmengen einer Grundmenge X, mit den Mengenoperatoren ∪ und ∩ als Verknüpfungen, mit dem Nullelement ∅ und dem Einselement X.\n",
        "\n",
        "* **σ-Algebra**: eine bezüglich abzählbar-unendlicher Verknüpfungen abgeschlossene Mengenalgebra. **Messraum und Maßraum sind spezielle σ-Algebren.**\n",
        "\n",
        "* **Borel-Algebra** macht einen topologischen Raum zum Maßraum: sie ist die kleinste σ-Algebra, die eine gegebene Topologie enthält.\n",
        "\n",
        "* **Zweiwertige Boolesche Algebra**: hat nur die Elemente 0 und 1."
      ]
    },
    {
      "cell_type": "markdown",
      "metadata": {
        "id": "ravlJlNS2SVC"
      },
      "source": [
        "##### **Beispiel: Totale Ordnungen**"
      ]
    },
    {
      "cell_type": "markdown",
      "metadata": {
        "id": "p8inHVjG2a_y"
      },
      "source": [
        "https://de.m.wikipedia.org/wiki/Ordnungsrelation#Totalordnung"
      ]
    },
    {
      "cell_type": "markdown",
      "metadata": {
        "id": "Rn7ymwco2X4v"
      },
      "source": [
        "totale Ordnungen, die z. B. in den verschiedenen Zahlbereichen wie \n",
        "N\n",
        "\\mathbb {N}  (natürliche Zahlen), \n",
        "Z\n",
        "\\mathbb {Z} (ganze Zahlen), \n",
        "Q\n",
        "\\mathbb {Q}  (rationale Zahlen) oder \n",
        "R\n",
        "\\mathbb {R}  (reelle Zahlen) auftreten, sind Verbände."
      ]
    }
  ]
}