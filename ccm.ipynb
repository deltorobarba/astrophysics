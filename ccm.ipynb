{
  "nbformat": 4,
  "nbformat_minor": 0,
  "metadata": {
    "colab": {
      "name": "ccm.ipynb",
      "provenance": [],
      "collapsed_sections": [],
      "toc_visible": true,
      "include_colab_link": true
    },
    "kernelspec": {
      "name": "python3",
      "display_name": "Python 3"
    }
  },
  "cells": [
    {
      "cell_type": "markdown",
      "metadata": {
        "id": "view-in-github",
        "colab_type": "text"
      },
      "source": [
        "<a href=\"https://colab.research.google.com/github/deltorobarba/machinelearning/blob/master/ccm.ipynb\" target=\"_parent\"><img src=\"https://colab.research.google.com/assets/colab-badge.svg\" alt=\"Open In Colab\"/></a>"
      ]
    },
    {
      "cell_type": "markdown",
      "metadata": {
        "id": "9n0-469qA0YV"
      },
      "source": [
        "# CCM & PAI\n",
        "\n",
        "**Convergent Cross Mapping & Pairwise Asymmetric Inference**"
      ]
    },
    {
      "cell_type": "markdown",
      "metadata": {
        "id": "lz2D7pzTBD-m"
      },
      "source": [
        "*Authors: Cátia Fortunato & Alexander Del Toro Barba*"
      ]
    },
    {
      "cell_type": "markdown",
      "metadata": {
        "id": "qHfnL69ueTAz"
      },
      "source": [
        "**Data Set**\n",
        "\n",
        "https://webdav.tuebingen.mpg.de/cause-effect/\n",
        "\n",
        "Choose one data set where correlation is low, one where is high"
      ]
    },
    {
      "cell_type": "markdown",
      "metadata": {
        "id": "b9kfcqaEekXC"
      },
      "source": [
        "**Next Steps**\n",
        "\n",
        "* Alex: read PAI paper\n",
        "* Choose data sets\n",
        "* Cátia: Code for CCM in Colab\n",
        "\n"
      ]
    },
    {
      "cell_type": "code",
      "metadata": {
        "id": "mVoqiLSATtsG"
      },
      "source": [
        "# Import packages\n",
        "import numpy as np\n",
        "import sklearn\n",
        "from decimal import *\n",
        "from numpy import linalg as LA\n",
        "import matplotlib.pyplot as plt\n",
        "from mpl_toolkits.mplot3d import Axes3D"
      ],
      "execution_count": null,
      "outputs": []
    },
    {
      "cell_type": "markdown",
      "metadata": {
        "id": "U4w2s_NqyDmf"
      },
      "source": [
        "# Convergent Cross Mapping"
      ]
    },
    {
      "cell_type": "markdown",
      "metadata": {
        "id": "8r3_8S9HEbrd"
      },
      "source": [
        "## Code"
      ]
    },
    {
      "cell_type": "code",
      "metadata": {
        "id": "sK9D0XeIUGFL"
      },
      "source": [
        "## Code for CCM \n",
        "def compute_corr(y_pred, y_target):\n",
        "    corr=np.corrcoef(y_pred,y_target)[1,0]\n",
        "    return corr\n",
        "\n",
        "def build_shadow_manifold(X,tau,E,T):\n",
        "  '''Build the shadow manifold of the time series signal X, with dimension E and lag time tau'''\n",
        "  shadow_M=np.zeros((len(X[(E-1)*tau:]),E))\n",
        "  for i in range(E):\n",
        "    shadow_M[:,i]=X[(E-i-1)*tau:len(X)-i*tau]\n",
        "  return shadow_M\n",
        "\n",
        "def sample_manifold(M,L):\n",
        "  '''Randomly select L points from the shadow manifold M'''\n",
        "  new_M=np.zeros((L,M.shape[1]))\n",
        "  idx=np.random.randint(M.shape[0],size=L)\n",
        "  new_M=M[idx,:]\n",
        "  return new_M, idx\n",
        "\n",
        "def nearest_points(shadow_m,recon_shadow_m,idx,E):\n",
        "  '''Find the nearest neighbours in the '''\n",
        "  distances=np.zeros((shadow_m.shape[0],recon_shadow_m.shape[0]+1))\n",
        "  distances[:,0]=np.array(range(0,shadow_m.shape[0]))\n",
        "  dist_matrix=np.zeros((shadow_m.shape[0],E+1))\n",
        "  indices=np.zeros((shadow_m.shape[0],E+1)) # the first column is the index\n",
        "\n",
        "  for i in range(shadow_m.shape[0]): # for each point in the manifold\n",
        "    distances[i,1:]=LA.norm(shadow_m[i,:]-recon_shadow_m,axis=1) #distance between the point and all the points in the library\n",
        "    vec=distances[i,1:]\n",
        "    for j in range(E+1):\n",
        "      min_val=np.min(vec)\n",
        "      idx_i=np.where(vec==min_val)[0]\n",
        "      if idx_i[0]==np.int(distances[i,0]):\n",
        "        vec[idx_i]=1000\n",
        "        min_val=np.min(vec)\n",
        "        idx_i=np.where(vec==min_val)[0]\n",
        "      vec[idx_i]=1000\n",
        "      distances[i,j]=min_val\n",
        "      indices[i,j]=idx[idx_i[0]]\n",
        "  return distances, indices\n",
        "\n",
        "def compute_weights(shadow,distances,indices,T,E,eps=0.00001):\n",
        "  '''Compute the weights based on the simplex projection and exponential decay'''\n",
        "    weights=np.zeros((len(shadow),E+1))\n",
        "    weights_u=np.zeros((len(shadow),E+1))\n",
        "    MY_pred=np.zeros((len(shadow),E))\n",
        "    for i in range (len(shadow)):\n",
        "        for j in range(0,E+1):\n",
        "            num=(distances[i,j])\n",
        "            den=(eps+distances[i,1])\n",
        "            weights_u[i,j-1]=np.exp(-(num)/(den))\n",
        "        if np.isinf(np.sum(weights[i,:])):\n",
        "            weights[i,0]=1\n",
        "        else:\n",
        "            weights[i,:]=weights_u[i,:]/np.sum(weights_u[i,:])\n",
        "        MY_pred[i,:]=np.dot(weights[i,:],(list(shadow[np.int(j),:] for j in indices[i,:])))\n",
        "    return weights, MY_pred\n",
        "\n",
        "def compute_xmap(X,Y,T,E,tau,L):\n",
        "    '''Compute the convergent cross mapping between X and Y'''\n",
        "    \n",
        "    # Build the shadow manifold \n",
        "    shadow_x=build_shadow_manifold(X,tau,E,T)\n",
        "    shadow_y=build_shadow_manifold(Y,tau,E,T)\n",
        "    \n",
        "    \n",
        "    # Select randomly L points from the shadow manifold \n",
        "    recon_Mx, idx_x=sample_manifold(shadow_x,L)\n",
        "    recon_My, idx_y=sample_manifold(shadow_y,L)  \n",
        "    \n",
        "    ########## Predict Y from X ##########################\n",
        "\n",
        "    \n",
        "    # find nearest neighbors\n",
        "\n",
        "    distances_x, indices_x=nearest_points(shadow_x,recon_Mx,idx_x,E)\n",
        "\n",
        "    # compute weights\n",
        "    weights_w_x, My_pred=compute_weights(shadow_y,distances_x,indices_x,T,E)\n",
        "    y_pred=My_pred[:,0]\n",
        "    y_target=shadow_y[:,0]\n",
        "\n",
        "    \n",
        "    ########## Predict X from Y ##########################\n",
        "\n",
        "    # find nearest neighbors\n",
        "\n",
        "    distances_y, indices_y=nearest_points(shadow_y, recon_My,idx_y,E)\n",
        "\n",
        "    \n",
        "    # compute weights\n",
        "    weights_w_y, Mx_pred=compute_weights(shadow_x,distances_y,indices_y,T,E)\n",
        "    x_pred=Mx_pred[:,0]\n",
        "    x_target=shadow_x[:,0]\n",
        "\n",
        "    return y_pred, y_target, x_pred, x_target\n",
        "\n",
        "def example(X,Y,T,tau,E,L,emsemble):\n",
        "    rhox=np.zeros((len(L),emsemble))\n",
        "    rhoy=np.zeros((len(L),emsemble))\n",
        "    for i in range(len(L)):\n",
        "        for j in range (emsemble):\n",
        "            \n",
        "            y_pred, y_target, x_pred, x_target = compute_xmap(X,Y,T,E,tau,L[i])\n",
        "            rhox[i,j]=compute_corr(y_pred,y_target)\n",
        "            rhoy[i,j]=compute_corr(x_pred,x_target)\n",
        "\n",
        "    rhox_mean=np.mean(rhox,1)\n",
        "    rhoy_mean=np.mean(rhoy,1)\n",
        "    rhox_std=np.std(rhox,1)\n",
        "    rhoy_std=np.std(rhoy,1)\n",
        "    return rhox_mean,rhoy_mean,rhox_std,rhoy_std,L \n"
      ],
      "execution_count": null,
      "outputs": []
    },
    {
      "cell_type": "markdown",
      "metadata": {
        "id": "St2bNp_X4Xdl"
      },
      "source": [
        "## Ephemeral regimes in a coupled dynamic system"
      ]
    },
    {
      "cell_type": "markdown",
      "metadata": {
        "id": "8H1K8qhuC4Md"
      },
      "source": [
        "Considering the example of a non linear chaotic model that follows the two sets of equations:\n",
        "\n",
        " $X(t+1)=X(t)[r_x - r_xX(t)-\\beta_{x,y}Y(t)]$\n",
        "\n",
        " $Y(t+1)=Y(t)[r_y - r_yY(t)-\\beta_{y,x}X(t)]$\n",
        "\n",
        " The first example we set $\\beta_{x,y}$ to be 0.02 and $\\beta_{y,x}$ to be 0.1. In this context the value chosen for $\\beta_{x,y}$ will describe how much $Y$ influences $X$. And, as a consequence,  $\\beta_{y,x}$ reflects how much $X$ influences $Y$. Given that $\\beta_{x,y}$ is greater than $\\beta_{y,x}$, $X$ will influence $Y$ more than the other way around. "
      ]
    },
    {
      "cell_type": "code",
      "metadata": {
        "id": "mv17z1D54YhM"
      },
      "source": [
        "T=8000\n",
        "rx=3.8\n",
        "ry=3.5\n",
        "betaxy=0.02\n",
        "betayx=0.1\n",
        "\n",
        "x=np.zeros((T))\n",
        "y=np.zeros((T))\n",
        "x[0]=0.2\n",
        "y[0]=0.4\n",
        "\n",
        "for i in range(T-1):\n",
        "    x[i+1]=x[i]*(rx-rx*x[i]-betaxy*y[i])\n",
        "    y[i+1]=y[i]*(ry-ry*y[i]-betayx*x[i])"
      ],
      "execution_count": null,
      "outputs": []
    },
    {
      "cell_type": "code",
      "metadata": {
        "id": "1pPUE0AF4fqF"
      },
      "source": [
        "E=3\n",
        "tau=1\n",
        "L=list(range(E+1,3000,200))\n",
        "emsemble=10\n",
        "rhox_mean,rhoy_mean,rhox_std,rhoy_std,L = example(x,y,T,tau,E,L,emsemble)"
      ],
      "execution_count": null,
      "outputs": []
    },
    {
      "cell_type": "code",
      "metadata": {
        "id": "edZrqdnI54J3",
        "colab": {
          "base_uri": "https://localhost:8080/",
          "height": 296
        },
        "outputId": "0241fa5c-7d0b-4958-861a-1b6e6f31fbd9"
      },
      "source": [
        "fig2=plt.figure()\n",
        "ax2=fig2.add_subplot(111)\n",
        "ax2.plot(L,rhox_mean,'red')\n",
        "ax2.plot(L,rhoy_mean,'blue')\n",
        "ax2.set_xlabel('Library size (L)')\n",
        "ax2.set_ylabel('Correlation ')\n",
        "plt.legend(('Y|Mx','X|My'))"
      ],
      "execution_count": null,
      "outputs": [
        {
          "output_type": "execute_result",
          "data": {
            "text/plain": [
              "<matplotlib.legend.Legend at 0x7fd5d4714b70>"
            ]
          },
          "metadata": {
            "tags": []
          },
          "execution_count": 10
        },
        {
          "output_type": "display_data",
          "data": {
            "image/png": "[encoded data removed]",
            "text/plain": [
              "<Figure size 432x288 with 1 Axes>"
            ]
          },
          "metadata": {
            "tags": []
          }
        }
      ]
    },
    {
      "cell_type": "markdown",
      "metadata": {
        "id": "9zOMOma-TEZj"
      },
      "source": [
        "Since $X$ is influencing $Y$ more than the other way around, the convergence of $X|M_y$ will be faster than that of $Y|M_x$."
      ]
    },
    {
      "cell_type": "markdown",
      "metadata": {
        "id": "yTMfDIdBTWS4"
      },
      "source": [
        "Let's now consider the case of unidirectional causality. To simulate this model, we will be considering the same set of equations previously used but we are going to set one of the values of $\\beta$ to be 0. "
      ]
    },
    {
      "cell_type": "code",
      "metadata": {
        "id": "kphtMRJZTs3m"
      },
      "source": [
        "T=8000\n",
        "rx=3.8\n",
        "ry=3.5\n",
        "betaxy=0\n",
        "betayx=0.1\n",
        "\n",
        "x=np.zeros((T))\n",
        "y=np.zeros((T))\n",
        "x[0]=0.2\n",
        "y[0]=0.4\n",
        "\n",
        "for i in range(T-1):\n",
        "    x[i+1]=x[i]*(rx-rx*x[i]-betaxy*y[i])\n",
        "    y[i+1]=y[i]*(ry-ry*y[i]-betayx*x[i])"
      ],
      "execution_count": null,
      "outputs": []
    },
    {
      "cell_type": "code",
      "metadata": {
        "id": "PQPENx7DTvWG"
      },
      "source": [
        "E=3\n",
        "tau=1\n",
        "L=list(range(E+1,3000,200))\n",
        "emsemble=10\n",
        "rhox_mean,rhoy_mean,rhox_std,rhoy_std,L = example(x,y,T,tau,E,L,emsemble)"
      ],
      "execution_count": null,
      "outputs": []
    },
    {
      "cell_type": "code",
      "metadata": {
        "id": "wolqPkcPTxci",
        "colab": {
          "base_uri": "https://localhost:8080/",
          "height": 296
        },
        "outputId": "c71004fd-dfe4-4839-b29d-5fb8c9b88c1b"
      },
      "source": [
        "fig2=plt.figure()\n",
        "ax2=fig2.add_subplot(111)\n",
        "ax2.plot(L,rhox_mean,'red')\n",
        "ax2.plot(L,rhoy_mean,'blue')\n",
        "ax2.set_xlabel('Library size (L)')\n",
        "ax2.set_ylabel('Correlation ')\n",
        "plt.legend(('Y|Mx','X|My'))"
      ],
      "execution_count": null,
      "outputs": [
        {
          "output_type": "execute_result",
          "data": {
            "text/plain": [
              "<matplotlib.legend.Legend at 0x7fd5d46faf98>"
            ]
          },
          "metadata": {
            "tags": []
          },
          "execution_count": 13
        },
        {
          "output_type": "display_data",
          "data": {
            "image/png": "[encoded data removed]",
            "text/plain": [
              "<Figure size 432x288 with 1 Axes>"
            ]
          },
          "metadata": {
            "tags": []
          }
        }
      ]
    },
    {
      "cell_type": "markdown",
      "metadata": {
        "id": "BsCSbCfZZVrv"
      },
      "source": [
        "In this case since we set  $\\beta_{x,y}$  to zero, $Y$ has no influence on $X$ therefore, when we try to use $X$ to predict $Y$ the plot does not converge to 1. From these two results it is possible to see that the model clearly distinguishes between bidirectional and unidirectional causality. "
      ]
    },
    {
      "cell_type": "markdown",
      "metadata": {
        "id": "kIDwlEJBb4b6"
      },
      "source": [
        "# Pairwise Assymetric Inference"
      ]
    },
    {
      "cell_type": "markdown",
      "metadata": {
        "id": "xkqeUUBUAGe7"
      },
      "source": [
        "They use squared pearson correlation instead of the unsquared like the original CCM paper. I believe this is because here they are subtracting values of correlation and is to prevent cases of subtracting negative numbers and give the wrong sense of causality. \n",
        "\n",
        "They construct the shadow manifold in a different way where each point in the manifold is described as follows:\n",
        "\n",
        "$X'_t=(X_t,X_{t-\\tau},X_{t-2\\tau},...,Y_t)$\n",
        "\n",
        "They then use the weights of this new manifold to estimate the values of X. \n"
      ]
    },
    {
      "cell_type": "markdown",
      "metadata": {
        "id": "HjpXu1nKipRB"
      },
      "source": [
        "#Code"
      ]
    },
    {
      "cell_type": "code",
      "metadata": {
        "id": "6tEMdHjYb7am"
      },
      "source": [
        "def compute_corr_pai(y_pred, y_target):\n",
        "    corr=np.corrcoef(y_pred,y_target)[1,0]\n",
        "    corr=corr**2\n",
        "    return corr\n",
        "\n",
        "def compute_manifold_pai(X,Y,tau,E):\n",
        "  shadow_M=np.zeros((len(X[(E-1)*tau:]),E+1))\n",
        "  for i in range(E):\n",
        "    shadow_M[:,i]=X[(E-i-1)*tau:len(X)-i*tau]\n",
        "  shadow_M[:,E]=Y[(E-1)*tau:len(Y)]\n",
        "  return shadow_M\n",
        "\n",
        "def compute_weights_pai(shadow,distances,indices,T,E,eps=0.00001):\n",
        "  #'''Compute the weights based on the simplex projection and exponential decay'''\n",
        "    weights=np.zeros(indices.shape)\n",
        "    weights_u=np.zeros(indices.shape)\n",
        "    MY_pred=np.zeros((len(shadow),E))\n",
        "    for i in range (len(shadow)):\n",
        "        for j in range(0,indices.shape[1]):\n",
        "            num=(distances[i,j])\n",
        "            den=(eps+distances[i,1])\n",
        "            weights_u[i,j-1]=np.exp(-(num)/(den))\n",
        "        if np.isinf(np.sum(weights[i,:])):\n",
        "            weights[i,0]=1\n",
        "        else:\n",
        "            weights[i,:]=weights_u[i,:]/np.sum(weights_u[i,:])\n",
        "        MY_pred[i,:]=np.dot(weights[i,:],(list(shadow[np.int(j),:] for j in indices[i,:])))\n",
        "    return weights, MY_pred\n",
        "\n",
        "def compute_pai(X,Y,T,E,tau,L):\n",
        "\n",
        "  # Use YX to predict Y ############################\n",
        "\n",
        "  manifold_YX = compute_manifold_pai(Y,X,tau,E)\n",
        "  manifold_Y = build_shadow_manifold(Y,tau,E,T)\n",
        "\n",
        "  recon_manifold_YX, idx_y=sample_manifold(manifold_YX,L)\n",
        "\n",
        "  distances_y, indices_y=nearest_points(manifold_YX,recon_manifold_YX,idx_y,E+1)\n",
        "\n",
        "  weights_w_y, My_pred=compute_weights_pai(manifold_Y,distances_y,indices_y,T,E)\n",
        "  y_pred=My_pred[:,0]\n",
        "  y_target=manifold_Y[:,0]\n",
        "\n",
        "  # Use XY to predict X ############################\n",
        "\n",
        "  manifold_XY = compute_manifold_pai(X,Y,tau,E)\n",
        "  manifold_X = build_shadow_manifold(X,tau,E,T)\n",
        "\n",
        "  recon_manifold_XY, idx_x=sample_manifold(manifold_XY,L)\n",
        "\n",
        "  distances_x, indices_x=nearest_points(manifold_XY,recon_manifold_XY,idx_x,E+1)\n",
        "\n",
        "  weights_w_x, Mx_pred=compute_weights_pai(manifold_X,distances_x,indices_x,T,E)\n",
        "  x_pred=Mx_pred[:,0]\n",
        "  x_target=manifold_X[:,0]\n",
        "\n",
        "  return y_pred, y_target, x_pred, x_target\n",
        "\n",
        "def run_pai(X,Y,T,tau,E,L,emsemble):\n",
        "  C_X_XY=np.zeros((len(L),emsemble))\n",
        "  C_Y_YX=np.zeros((len(L),emsemble))\n",
        "  for i in range(len(L)):\n",
        "    for j in range(emsemble):\n",
        "      #print(\"L =\"+str(i)+\" and emsemble =\"+str(j))\n",
        "      y_pred, y_target, x_pred, x_target = compute_pai(X,Y,T,E,tau,L[i])\n",
        "      C_Y_YX[i,j]=compute_corr_pai(y_pred,y_target)\n",
        "      C_X_XY[i,j]=compute_corr_pai(x_pred,x_target)\n",
        "  rhox_mean=np.mean(C_X_XY,1)\n",
        "  rhoy_mean=np.mean(C_Y_YX,1)\n",
        "  rhox_std=np.std(C_X_XY,1)\n",
        "  rhoy_std=np.std(C_Y_YX,1)\n",
        "  delta=rhox_mean-rhoy_mean\n",
        "  return rhox_mean,rhoy_mean,rhox_std,rhoy_std,L,delta \n",
        "\n"
      ],
      "execution_count": null,
      "outputs": []
    },
    {
      "cell_type": "code",
      "metadata": {
        "id": "y8s8tfs5icPl"
      },
      "source": [
        ""
      ],
      "execution_count": null,
      "outputs": []
    },
    {
      "cell_type": "markdown",
      "metadata": {
        "id": "ssMwMr0nikXX"
      },
      "source": [
        "## Test PAI\n"
      ]
    },
    {
      "cell_type": "markdown",
      "metadata": {
        "id": "tn4WbMQYEzN8"
      },
      "source": [
        "Test when X is causing Y, but Y is **not** cuasing X."
      ]
    },
    {
      "cell_type": "code",
      "metadata": {
        "id": "OL8WYYOTimqV"
      },
      "source": [
        "T=8000\n",
        "rx=3.8\n",
        "ry=3.5\n",
        "betaxy=0\n",
        "betayx=0.1\n",
        "\n",
        "x=np.zeros((T))\n",
        "y=np.zeros((T))\n",
        "x[0]=0.2\n",
        "y[0]=0.4\n",
        "\n",
        "for i in range(T-1):\n",
        "    x[i+1]=x[i]*(rx-rx*x[i]-betaxy*y[i])\n",
        "    y[i+1]=y[i]*(ry-ry*y[i]-betayx*x[i])"
      ],
      "execution_count": null,
      "outputs": []
    },
    {
      "cell_type": "code",
      "metadata": {
        "id": "XXLIcsAMivIL"
      },
      "source": [
        "E=3\n",
        "tau=1\n",
        "L=list(range(E+2,3000,200))\n",
        "emsemble=10\n",
        "rhox_mean,rhoy_mean,rhox_std,rhoy_std,L,delta = run_pai(x,y,T,tau,E,L,emsemble)"
      ],
      "execution_count": null,
      "outputs": []
    },
    {
      "cell_type": "code",
      "metadata": {
        "id": "E_7F3RNKi0-t",
        "colab": {
          "base_uri": "https://localhost:8080/",
          "height": 282
        },
        "outputId": "745c2bae-76d9-4d3d-9838-bccb5b4bc3c7"
      },
      "source": [
        "plt.scatter(L[1:], delta[1:])"
      ],
      "execution_count": null,
      "outputs": [
        {
          "output_type": "execute_result",
          "data": {
            "text/plain": [
              "<matplotlib.collections.PathCollection at 0x7ff4f5e65e10>"
            ]
          },
          "metadata": {
            "tags": []
          },
          "execution_count": 38
        },
        {
          "output_type": "display_data",
          "data": {
            "image/png": "[encoded data removed]",
            "text/plain": [
              "<Figure size 432x288 with 1 Axes>"
            ]
          },
          "metadata": {
            "tags": []
          }
        }
      ]
    },
    {
      "cell_type": "code",
      "metadata": {
        "id": "paypvcKSog4w",
        "colab": {
          "base_uri": "https://localhost:8080/",
          "height": 85
        },
        "outputId": "0ad8dd9f-abc9-46a5-844b-1a52366ce59d"
      },
      "source": [
        "delta "
      ],
      "execution_count": null,
      "outputs": [
        {
          "output_type": "execute_result",
          "data": {
            "text/plain": [
              "array([-2.48426726e-01, -4.91172167e-04,  7.08404421e-04,  6.47909949e-04,\n",
              "        6.16968601e-04,  5.97791288e-04,  4.80684331e-04,  4.94509308e-04,\n",
              "        4.21745681e-04,  3.56037038e-04,  3.53922690e-04,  3.35719868e-04,\n",
              "        2.95643589e-04,  2.76090793e-04,  2.45922668e-04])"
            ]
          },
          "metadata": {
            "tags": []
          },
          "execution_count": 39
        }
      ]
    },
    {
      "cell_type": "markdown",
      "metadata": {
        "id": "nz4elawBE81j"
      },
      "source": [
        "Test when Y is causing X, but X is **not** causing Y."
      ]
    },
    {
      "cell_type": "code",
      "metadata": {
        "id": "95nYL9DCFEkg"
      },
      "source": [
        "T=8000\n",
        "rx=3.8\n",
        "ry=3.5\n",
        "betaxy=0.1\n",
        "betayx=0\n",
        "\n",
        "x=np.zeros((T))\n",
        "y=np.zeros((T))\n",
        "x[0]=0.2\n",
        "y[0]=0.4\n",
        "\n",
        "for i in range(T-1):\n",
        "    x[i+1]=x[i]*(rx-rx*x[i]-betaxy*y[i])\n",
        "    y[i+1]=y[i]*(ry-ry*y[i]-betayx*x[i])"
      ],
      "execution_count": null,
      "outputs": []
    },
    {
      "cell_type": "code",
      "metadata": {
        "id": "UsMkKtN9FGKb"
      },
      "source": [
        "E=3\n",
        "tau=1\n",
        "L=list(range(E+2,3000,200))\n",
        "emsemble=10\n",
        "rhox_mean,rhoy_mean,rhox_std,rhoy_std,L,delta = run_pai(x,y,T,tau,E,L,emsemble)"
      ],
      "execution_count": null,
      "outputs": []
    },
    {
      "cell_type": "code",
      "metadata": {
        "id": "wTeiorLAFRXa",
        "colab": {
          "base_uri": "https://localhost:8080/",
          "height": 284
        },
        "outputId": "0d9753b5-563c-4cca-b099-ed8123242442"
      },
      "source": [
        "plt.scatter(L[1:], delta[1:])"
      ],
      "execution_count": null,
      "outputs": [
        {
          "output_type": "execute_result",
          "data": {
            "text/plain": [
              "<matplotlib.collections.PathCollection at 0x7f55dabe0400>"
            ]
          },
          "metadata": {
            "tags": []
          },
          "execution_count": 7
        },
        {
          "output_type": "display_data",
          "data": {
            "image/png": "[encoded data removed]",
            "text/plain": [
              "<Figure size 432x288 with 1 Axes>"
            ]
          },
          "metadata": {
            "tags": []
          }
        }
      ]
    },
    {
      "cell_type": "code",
      "metadata": {
        "id": "1CCiXtSXFTGI",
        "colab": {
          "base_uri": "https://localhost:8080/",
          "height": 85
        },
        "outputId": "aa9f037a-0537-4bc9-970b-f2006ab18121"
      },
      "source": [
        "delta "
      ],
      "execution_count": null,
      "outputs": [
        {
          "output_type": "execute_result",
          "data": {
            "text/plain": [
              "array([-2.58855199e-01, -1.00333833e-02, -4.20972606e-03, -2.15205010e-03,\n",
              "       -1.35944978e-03, -8.84121387e-04, -7.51935224e-04, -6.41912309e-04,\n",
              "       -5.42233343e-04, -4.19840156e-04, -4.06986958e-04, -2.88959563e-04,\n",
              "       -2.73575077e-04, -2.06207516e-04, -2.12120421e-04])"
            ]
          },
          "metadata": {
            "tags": []
          },
          "execution_count": 8
        }
      ]
    },
    {
      "cell_type": "markdown",
      "metadata": {
        "id": "bn1VQEmgFVoU"
      },
      "source": [
        "Test when both X and Y are causing eachother, but one has a stronger impact. "
      ]
    },
    {
      "cell_type": "code",
      "metadata": {
        "id": "7n8Q3JPIFUfK"
      },
      "source": [
        "T=8000\n",
        "rx=3.8\n",
        "ry=3.5\n",
        "betaxy=0.02\n",
        "betayx=0.1\n",
        "\n",
        "x=np.zeros((T))\n",
        "y=np.zeros((T))\n",
        "x[0]=0.2\n",
        "y[0]=0.4\n",
        "\n",
        "for i in range(T-1):\n",
        "    x[i+1]=x[i]*(rx-rx*x[i]-betaxy*y[i])\n",
        "    y[i+1]=y[i]*(ry-ry*y[i]-betayx*x[i])"
      ],
      "execution_count": null,
      "outputs": []
    },
    {
      "cell_type": "code",
      "metadata": {
        "id": "aIT-zUJSHLpp"
      },
      "source": [
        "E=3\n",
        "tau=1\n",
        "L=list(range(E+2,3000,200))\n",
        "emsemble=10\n",
        "rhox_mean,rhoy_mean,rhox_std,rhoy_std,L,delta = run_pai(x,y,T,tau,E,L,emsemble)"
      ],
      "execution_count": null,
      "outputs": []
    },
    {
      "cell_type": "code",
      "metadata": {
        "id": "EGBScl5WHNnC",
        "colab": {
          "base_uri": "https://localhost:8080/",
          "height": 282
        },
        "outputId": "d6d5ccd5-f91d-452e-ba25-f07709895784"
      },
      "source": [
        "plt.scatter(L[1:], delta[1:])"
      ],
      "execution_count": null,
      "outputs": [
        {
          "output_type": "execute_result",
          "data": {
            "text/plain": [
              "<matplotlib.collections.PathCollection at 0x7f55d7f41ac8>"
            ]
          },
          "metadata": {
            "tags": []
          },
          "execution_count": 11
        },
        {
          "output_type": "display_data",
          "data": {
            "image/png": "[encoded data removed]",
            "text/plain": [
              "<Figure size 432x288 with 1 Axes>"
            ]
          },
          "metadata": {
            "tags": []
          }
        }
      ]
    },
    {
      "cell_type": "code",
      "metadata": {
        "id": "xjxRYZuyHPT9",
        "colab": {
          "base_uri": "https://localhost:8080/",
          "height": 85
        },
        "outputId": "e42b89f8-8340-4f4f-cb84-ddf590115c95"
      },
      "source": [
        "delta "
      ],
      "execution_count": null,
      "outputs": [
        {
          "output_type": "execute_result",
          "data": {
            "text/plain": [
              "array([-2.24490728e-01, -1.12388726e-03,  6.25977853e-04,  8.51563607e-04,\n",
              "        6.95326049e-04,  5.46260750e-04,  4.81318152e-04,  4.19743329e-04,\n",
              "        3.55749875e-04,  3.02462944e-04,  2.79601835e-04,  2.37007864e-04,\n",
              "        2.30527883e-04,  2.02701549e-04,  1.91995554e-04])"
            ]
          },
          "metadata": {
            "tags": []
          },
          "execution_count": 12
        }
      ]
    },
    {
      "cell_type": "markdown",
      "metadata": {
        "id": "RzH-K3n5KUD2"
      },
      "source": [
        "From this test we can see than, as proposed in the paper, this method is able to identify which variable is the driver in the case of unidirectional causality. When tested for bidirectional causality, and one of the variables is stronger, the method identifies the varible that has a stronger effect. \n"
      ]
    },
    {
      "cell_type": "code",
      "metadata": {
        "id": "eeOJR5jMLHs8"
      },
      "source": [
        ""
      ],
      "execution_count": null,
      "outputs": []
    }
  ]
}