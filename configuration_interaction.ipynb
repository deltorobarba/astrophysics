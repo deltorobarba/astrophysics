{
  "nbformat": 4,
  "nbformat_minor": 0,
  "metadata": {
    "colab": {
      "provenance": [],
      "authorship_tag": "ABX9TyP1xpZquP+WqnuIO93weFEe",
      "include_colab_link": true
    },
    "kernelspec": {
      "name": "python3",
      "display_name": "Python 3"
    },
    "language_info": {
      "name": "python"
    }
  },
  "cells": [
    {
      "cell_type": "markdown",
      "metadata": {
        "id": "view-in-github",
        "colab_type": "text"
      },
      "source": [
        "<a href=\"https://colab.research.google.com/github/deltorobarba/sciences/blob/master/configuration_interaction.ipynb\" target=\"_parent\"><img src=\"https://colab.research.google.com/assets/colab-badge.svg\" alt=\"Open In Colab\"/></a>"
      ]
    },
    {
      "cell_type": "markdown",
      "source": [
        "# **Configuration Interaction (CI)**"
      ],
      "metadata": {
        "id": "eU3XH7emGqyX"
      }
    },
    {
      "cell_type": "code",
      "source": [
        "!pip install pyscf geometric -q"
      ],
      "metadata": {
        "id": "TErie0efGhPw"
      },
      "execution_count": null,
      "outputs": []
    },
    {
      "cell_type": "code",
      "execution_count": null,
      "metadata": {
        "id": "ttEFdYRfGc6K",
        "colab": {
          "base_uri": "https://localhost:8080/"
        },
        "outputId": "1b0d63c4-2041-4529-e467-35225e99bafa"
      },
      "outputs": [
        {
          "output_type": "execute_result",
          "data": {
            "text/plain": [
              "<pyscf.gto.mole.Mole at 0x7ff7a4e01f50>"
            ]
          },
          "metadata": {},
          "execution_count": 2
        }
      ],
      "source": [
        "from pyscf import gto, scf\n",
        "from pyscf import tdscf  # For CIS calculations (using TDHF)\n",
        "from pyscf import ci     # For CISD calculations\n",
        "from pyscf import fci    # For FCI calculations\n",
        "\n",
        "# Define the molecule\n",
        "mol = gto.Mole()\n",
        "mol.atom = '''\n",
        "    N  0.0000  0.0000  0.2000\n",
        "    H  0.0000  0.9433 -0.2000\n",
        "    H  0.8165 -0.4717 -0.2000\n",
        "    H -0.8165 -0.4717 -0.2000\n",
        "'''\n",
        "\n",
        "# Name\n",
        "molecule = 'Ammonia (NH₃)'\n",
        "\n",
        "# Set basis set\n",
        "mol.basis = 'cc-pvdz' # Alternatively: sto-3g, cc-pvdz,6-31G\n",
        "\n",
        "# Define the molecule using gto.M() function\n",
        "mol.build()"
      ]
    },
    {
      "cell_type": "code",
      "source": [
        "# Step 1: Perform a HF-SCF calculation to obtain the reference wavefunction\n",
        "mf = scf.RHF(mol)\n",
        "hf_energy = mf.kernel()\n",
        "print(f\"HF-SCF energy: {hf_energy:.8f} Hartree\")\n",
        "\n",
        "# Step 2: Perform Configuration Interaction calculations\n",
        "\n",
        "# CIS (Using TDHF which is equivalent to CIS for singlet excited states)\n",
        "cis_calc = tdscf.TDA(mf)  # TDA approximation is equivalent to CIS\n",
        "cis_e, cis_v = cis_calc.kernel()\n",
        "cis_energy = cis_e[0] + hf_energy  # First excited state energy\n",
        "\n",
        "# CISD\n",
        "cisd_calc = ci.CISD(mf)\n",
        "cisd_energy = cisd_calc.kernel()[0]  # Get the ground state energy\n",
        "\n",
        "# FCI - Note: This can be very computationally expensive\n",
        "cisolver = fci.FCI(mf)\n",
        "fci_energy = cisolver.kernel()[0]\n",
        "\n",
        "# Print the results\n",
        "print(f\"Molecule: {molecule}\")\n",
        "print(f\"Basis Set: {mol.basis}\")\n",
        "print(f\"HF-SCF energy: {hf_energy:.8f} Hartree\")\n",
        "print(f\"CIS excited state energy: {cis_energy:.8f} Hartree\")\n",
        "print(f\"CIS excitation energy: {cis_e[0]:.8f} Hartree\")\n",
        "print(f\"CISD correlation energy: {cisd_energy - hf_energy:.8f} Hartree\")\n",
        "print(f\"CISD total energy: {cisd_energy:.8f} Hartree\")\n",
        "print(f\"FCI correlation energy: {fci_energy - hf_energy:.8f} Hartree\")\n",
        "print(f\"FCI total energy: {fci_energy:.8f} Hartree\")\n",
        "\n",
        "# Analyze the CISD wavefunction\n",
        "cisd_coeff = cisd_calc.ci\n",
        "print(\"\\nCISD Wavefunction Analysis:\")\n",
        "print(f\"Reference determinant weight: {cisd_coeff[0]**2:.6f}\")\n",
        "\n",
        "# Calculate contributions from singles and doubles\n",
        "from pyscf.ci import cisd_slow\n",
        "nelec = mol.nelectron\n",
        "nocc = nelec // 2\n",
        "nvir = mf.mo_coeff.shape[1] - nocc\n",
        "\n",
        "# Get singles and doubles contribution\n",
        "singles_norm = 0\n",
        "doubles_norm = 0\n",
        "\n",
        "# Singles contribution\n",
        "singles_norm = sum(abs(cisd_coeff[i])**2 for i in range(1, nocc*nvir+1))\n",
        "\n",
        "# Doubles contribution\n",
        "doubles_norm = sum(abs(cisd_coeff[i])**2 for i in range(nocc*nvir+1, len(cisd_coeff)))\n",
        "\n",
        "print(f\"Singles contribution: {singles_norm:.6f}\")\n",
        "print(f\"Doubles contribution: {doubles_norm:.6f}\")\n",
        "print(f\"Total normalization check: {cisd_coeff[0]**2 + singles_norm + doubles_norm:.6f}\")"
      ],
      "metadata": {
        "colab": {
          "base_uri": "https://localhost:8080/"
        },
        "id": "RyYvTwMgRX_s",
        "outputId": "b2e89f22-24cc-497f-ebfa-307379276dac"
      },
      "execution_count": null,
      "outputs": [
        {
          "output_type": "stream",
          "name": "stdout",
          "text": [
            "converged SCF energy = -56.1950297883988\n",
            "HF-SCF energy: -56.19502979 Hartree\n",
            "Excited State energies (eV)\n",
            "[ 8.4938025  10.41834095 10.41969605]\n",
            "E(RCISD) = -56.39219281916399  E_corr = -0.1971630307651702\n"
          ]
        }
      ]
    },
    {
      "cell_type": "markdown",
      "source": [
        "* CIS calculation: PySCF doesn't have a direct ci.CIS module. Instead, we use the Time-Dependent Hartree-Fock (TDHF) approach with the Tamm-Dancoff Approximation (TDA), which is equivalent to CIS for excited states.\n",
        "* Wavefunction analysis: this is a simplified analysis of the CISD wavefunction by directly summing over the appropriate coefficients.\n",
        "\n",
        "This script performs:\n",
        "\n",
        "1. Hartree-Fock (HF) calculation as the reference\n",
        "2. Configuration Interaction Singles (CIS)\n",
        "3. Configuration Interaction Singles and Doubles (CISD)\n",
        "4. Full Configuration Interaction (FCI) - note this is very computationally expensive\n",
        "\n",
        "The code also analyzes the CISD wavefunction to show the contributions from the reference determinant, single excitations, and double excitations.\n",
        "\n",
        "A few important notes:\n",
        "- **CIS is primarily used for excited states, not ground state correlation energy (the first excited state energy is reported)**\n",
        "- CISD includes single and double excitations and is commonly used for ground state calculations\n",
        "- FCI is the exact solution within the given basis set but scales factorially with system size\n",
        "- For larger molecules, you may want to use truncated CI methods or other approaches like CASCI (Complete Active Space CI)\n",
        "\n",
        "Would you like me to explain any specific part of this code in more detail?"
      ],
      "metadata": {
        "id": "k7ay6asfR2h2"
      }
    }
  ]
}