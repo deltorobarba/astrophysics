{
  "nbformat": 4,
  "nbformat_minor": 0,
  "metadata": {
    "colab": {
      "provenance": [],
      "authorship_tag": "ABX9TyMaFyrqrCLROGR9PPyxj7Zh",
      "include_colab_link": true
    },
    "kernelspec": {
      "name": "python3",
      "display_name": "Python 3"
    },
    "language_info": {
      "name": "python"
    }
  },
  "cells": [
    {
      "cell_type": "markdown",
      "metadata": {
        "id": "view-in-github",
        "colab_type": "text"
      },
      "source": [
        "<a href=\"https://colab.research.google.com/github/deltorobarba/astrophysics/blob/master/vqe_ising.ipynb\" target=\"_parent\"><img src=\"https://colab.research.google.com/assets/colab-badge.svg\" alt=\"Open In Colab\"/></a>"
      ]
    },
    {
      "cell_type": "markdown",
      "source": [
        "# **Variational Quantum Eigensolver to optimize an Ising model**"
      ],
      "metadata": {
        "id": "15cRZgN5VBMw"
      }
    },
    {
      "cell_type": "markdown",
      "source": [
        "Code example: Use the variational quantum eigensolver in Cirq to optimize an Ising model. This demonstrates the four key components of VQE: defining the Hamiltonian (the problem to solve), creating a parameterized quantum circuit (the Ansatz), computing the expectation value of the Hamiltonian, and optimizing the parameters to find the ground state energy."
      ],
      "metadata": {
        "id": "BYj2uPpYVMJT"
      }
    },
    {
      "cell_type": "code",
      "source": [
        "!pip install cirq -q"
      ],
      "metadata": {
        "colab": {
          "base_uri": "https://localhost:8080/"
        },
        "id": "QQDrnqJoVNyb",
        "outputId": "86675024-6756-4dfc-a214-7552030a392e"
      },
      "execution_count": 1,
      "outputs": [
        {
          "output_type": "stream",
          "name": "stdout",
          "text": [
            "\u001b[?25l     \u001b[90m━━━━━━━━━━━━━━━━━━━━━━━━━━━━━━━━━━━━━━━━\u001b[0m \u001b[32m0.0/45.6 kB\u001b[0m \u001b[31m?\u001b[0m eta \u001b[36m-:--:--\u001b[0m\r\u001b[2K     \u001b[90m━━━━━━━━━━━━━━━━━━━━━━━━━━━━━━━━━━━━━━━━\u001b[0m \u001b[32m45.6/45.6 kB\u001b[0m \u001b[31m3.4 MB/s\u001b[0m eta \u001b[36m0:00:00\u001b[0m\n",
            "\u001b[?25h  Preparing metadata (setup.py) ... \u001b[?25l\u001b[?25hdone\n",
            "\u001b[2K   \u001b[90m━━━━━━━━━━━━━━━━━━━━━━━━━━━━━━━━━━━━━━━━\u001b[0m \u001b[32m1.9/1.9 MB\u001b[0m \u001b[31m37.7 MB/s\u001b[0m eta \u001b[36m0:00:00\u001b[0m\n",
            "\u001b[2K   \u001b[90m━━━━━━━━━━━━━━━━━━━━━━━━━━━━━━━━━━━━━━━━\u001b[0m \u001b[32m532.7/532.7 kB\u001b[0m \u001b[31m30.1 MB/s\u001b[0m eta \u001b[36m0:00:00\u001b[0m\n",
            "\u001b[2K   \u001b[90m━━━━━━━━━━━━━━━━━━━━━━━━━━━━━━━━━━━━━━━━\u001b[0m \u001b[32m60.5/60.5 kB\u001b[0m \u001b[31m4.6 MB/s\u001b[0m eta \u001b[36m0:00:00\u001b[0m\n",
            "\u001b[2K   \u001b[90m━━━━━━━━━━━━━━━━━━━━━━━━━━━━━━━━━━━━━━━━\u001b[0m \u001b[32m69.3/69.3 kB\u001b[0m \u001b[31m5.4 MB/s\u001b[0m eta \u001b[36m0:00:00\u001b[0m\n",
            "\u001b[2K   \u001b[90m━━━━━━━━━━━━━━━━━━━━━━━━━━━━━━━━━━━━━━━━\u001b[0m \u001b[32m596.5/596.5 kB\u001b[0m \u001b[31m26.2 MB/s\u001b[0m eta \u001b[36m0:00:00\u001b[0m\n",
            "\u001b[2K   \u001b[90m━━━━━━━━━━━━━━━━━━━━━━━━━━━━━━━━━━━━━━━━\u001b[0m \u001b[32m203.2/203.2 kB\u001b[0m \u001b[31m15.1 MB/s\u001b[0m eta \u001b[36m0:00:00\u001b[0m\n",
            "\u001b[2K   \u001b[90m━━━━━━━━━━━━━━━━━━━━━━━━━━━━━━━━━━━━━━━━\u001b[0m \u001b[32m53.0/53.0 kB\u001b[0m \u001b[31m3.5 MB/s\u001b[0m eta \u001b[36m0:00:00\u001b[0m\n",
            "\u001b[2K   \u001b[90m━━━━━━━━━━━━━━━━━━━━━━━━━━━━━━━━━━━━━━━━\u001b[0m \u001b[32m6.5/6.5 MB\u001b[0m \u001b[31m63.2 MB/s\u001b[0m eta \u001b[36m0:00:00\u001b[0m\n",
            "\u001b[2K   \u001b[90m━━━━━━━━━━━━━━━━━━━━━━━━━━━━━━━━━━━━━━━━\u001b[0m \u001b[32m2.3/2.3 MB\u001b[0m \u001b[31m56.6 MB/s\u001b[0m eta \u001b[36m0:00:00\u001b[0m\n",
            "\u001b[2K   \u001b[90m━━━━━━━━━━━━━━━━━━━━━━━━━━━━━━━━━━━━━━━━\u001b[0m \u001b[32m2.7/2.7 MB\u001b[0m \u001b[31m55.0 MB/s\u001b[0m eta \u001b[36m0:00:00\u001b[0m\n",
            "\u001b[2K   \u001b[90m━━━━━━━━━━━━━━━━━━━━━━━━━━━━━━━━━━━━━━━━\u001b[0m \u001b[32m1.7/1.7 MB\u001b[0m \u001b[31m56.5 MB/s\u001b[0m eta \u001b[36m0:00:00\u001b[0m\n",
            "\u001b[2K   \u001b[90m━━━━━━━━━━━━━━━━━━━━━━━━━━━━━━━━━━━━━━━━\u001b[0m \u001b[32m117.7/117.7 kB\u001b[0m \u001b[31m9.8 MB/s\u001b[0m eta \u001b[36m0:00:00\u001b[0m\n",
            "\u001b[2K   \u001b[90m━━━━━━━━━━━━━━━━━━━━━━━━━━━━━━━━━━━━━━━━\u001b[0m \u001b[32m739.1/739.1 kB\u001b[0m \u001b[31m40.8 MB/s\u001b[0m eta \u001b[36m0:00:00\u001b[0m\n",
            "\u001b[?25h  Building wheel for rpcq (setup.py) ... \u001b[?25l\u001b[?25hdone\n"
          ]
        }
      ]
    },
    {
      "cell_type": "code",
      "execution_count": 2,
      "metadata": {
        "colab": {
          "base_uri": "https://localhost:8080/"
        },
        "id": "7beKZo94U6zE",
        "outputId": "3d80ba66-de19-47f6-9aad-aa55d9891bb4"
      },
      "outputs": [
        {
          "output_type": "stream",
          "name": "stdout",
          "text": [
            "Running VQE for 4 qubits...\n",
            "Estimated Ground State Energy: -4.23966670781374\n",
            "\n",
            "Optimal Circuit:\n",
            "                                                    ┌──────────┐\n",
            "0: ───Rx(1.02π)────Rz(1.74π)────@────────────────────@─────────────Rx(-1.9π)────Rz(-0.456π)───\n",
            "                                │                    │\n",
            "1: ───Rx(0.562π)───Rz(1.93π)────@───@───Rx(1.61π)────┼Rz(1.77π)───────────────────────────────\n",
            "                                    │                │\n",
            "2: ───Rx(0.008π)───Rz(-1.81π)───────@───@────────────┼Rx(1.08π)────Rz(1.58π)──────────────────\n",
            "                                        │            │\n",
            "3: ───Rx(1.83π)────Rz(1.84π)────────────@────────────@─────────────Rx(0.824π)───Rz(0.909π)────\n",
            "                                                    └──────────┘\n"
          ]
        }
      ],
      "source": [
        "import cirq\n",
        "import numpy as np\n",
        "import scipy.optimize\n",
        "\n",
        "# 1. Define the Hamiltonian (Ising Model)\n",
        "def ising_hamiltonian(qubits, J=1.0, h=0.5):\n",
        "    \"\"\"Creates an Ising model Hamiltonian.\"\"\"\n",
        "    hamiltonian = cirq.PauliSum()\n",
        "    for i in range(len(qubits)):\n",
        "        hamiltonian += -J * cirq.Z(qubits[i]) * cirq.Z(qubits[(i + 1) % len(qubits)])  # Periodic boundary\n",
        "        hamiltonian += -h * cirq.X(qubits[i])  # Using X instead of Z for transverse field\n",
        "    return hamiltonian\n",
        "\n",
        "# 2. Define the Ansatz (Parameterized Quantum Circuit)\n",
        "def ansatz(qubits, params):\n",
        "    \"\"\"Creates a simple hardware-efficient ansatz.\"\"\"\n",
        "    circuit = cirq.Circuit()\n",
        "\n",
        "    # First layer of rotations\n",
        "    for i, qubit in enumerate(qubits):\n",
        "        circuit.append(cirq.rx(params[2 * i])(qubit))\n",
        "        circuit.append(cirq.rz(params[2 * i + 1])(qubit))\n",
        "\n",
        "    # Entangling layer\n",
        "    for i in range(len(qubits)):\n",
        "        circuit.append(cirq.CZ(qubits[i], qubits[(i + 1) % len(qubits)]))\n",
        "\n",
        "    # Second layer of rotations\n",
        "    offset = 2 * len(qubits)\n",
        "    for i, qubit in enumerate(qubits):\n",
        "        circuit.append(cirq.rx(params[offset + 2 * i])(qubit))\n",
        "        circuit.append(cirq.rz(params[offset + 2 * i + 1])(qubit))\n",
        "\n",
        "    return circuit\n",
        "\n",
        "# 3. Calculate the Expectation Value\n",
        "def expectation_value(qubits, params, hamiltonian, simulator):\n",
        "    \"\"\"Calculates the expectation value of the Hamiltonian.\"\"\"\n",
        "    circuit = ansatz(qubits, params)\n",
        "\n",
        "    # The key fix: create a proper qubit-to-index mapping\n",
        "    qubit_map = {qubit: i for i, qubit in enumerate(qubits)}\n",
        "\n",
        "    result = simulator.simulate(circuit)\n",
        "    state_vector = result.final_state_vector\n",
        "\n",
        "    return hamiltonian.expectation_from_state_vector(state_vector, qubit_map).real\n",
        "\n",
        "# 4. Optimization\n",
        "def vqe_optimization(num_qubits, simulator, max_iterations=100):\n",
        "    \"\"\"Performs VQE optimization.\"\"\"\n",
        "    qubits = cirq.LineQubit.range(num_qubits)\n",
        "    hamiltonian = ising_hamiltonian(qubits)\n",
        "\n",
        "    # 4 parameters per qubit (2 rotation angles per layer × 2 layers)\n",
        "    initial_params = np.random.uniform(0, 2 * np.pi, 4 * num_qubits)\n",
        "\n",
        "    def cost_function(params):\n",
        "        return expectation_value(qubits, params, hamiltonian, simulator)\n",
        "\n",
        "    result = scipy.optimize.minimize(\n",
        "        cost_function,\n",
        "        initial_params,\n",
        "        method='COBYLA',\n",
        "        options={'maxiter': max_iterations}\n",
        "    )\n",
        "\n",
        "    # Return both the optimized energy and parameters\n",
        "    return result.fun, result.x\n",
        "\n",
        "# Example Usage\n",
        "def main():\n",
        "    num_qubits = 4\n",
        "    simulator = cirq.Simulator()\n",
        "\n",
        "    print(f\"Running VQE for {num_qubits} qubits...\")\n",
        "    ground_state_energy, optimal_params = vqe_optimization(num_qubits, simulator)\n",
        "\n",
        "    print(f\"Estimated Ground State Energy: {ground_state_energy}\")\n",
        "\n",
        "    # Optional: Visualize the optimal circuit\n",
        "    qubits = cirq.LineQubit.range(num_qubits)\n",
        "    optimal_circuit = ansatz(qubits, optimal_params)\n",
        "    print(\"\\nOptimal Circuit:\")\n",
        "    print(optimal_circuit)\n",
        "\n",
        "if __name__ == \"__main__\":\n",
        "    main()"
      ]
    }
  ]
}