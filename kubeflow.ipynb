{
  "nbformat": 4,
  "nbformat_minor": 0,
  "metadata": {
    "kernelspec": {
      "display_name": "Python 3",
      "language": "python",
      "name": "python3"
    },
    "language_info": {
      "codemirror_mode": {
        "name": "ipython",
        "version": 3
      },
      "file_extension": ".py",
      "mimetype": "text/x-python",
      "name": "python",
      "nbconvert_exporter": "python",
      "pygments_lexer": "ipython3",
      "version": "3.6.7"
    },
    "colab": {
      "name": "kubeflow.ipynb",
      "provenance": [],
      "include_colab_link": true
    }
  },
  "cells": [
    {
      "cell_type": "markdown",
      "metadata": {
        "id": "view-in-github",
        "colab_type": "text"
      },
      "source": [
        "<a href=\"https://colab.research.google.com/github/deltorobarba/machinelearning/blob/master/kubeflow.ipynb\" target=\"_parent\"><img src=\"https://colab.research.google.com/assets/colab-badge.svg\" alt=\"Open In Colab\"/></a>"
      ]
    },
    {
      "cell_type": "markdown",
      "metadata": {
        "id": "MPlkjt85Jp3P",
        "colab_type": "text"
      },
      "source": [
        "# Kubeflow"
      ]
    },
    {
      "cell_type": "code",
      "metadata": {
        "id": "Vkx75oYjImW_",
        "colab_type": "code",
        "colab": {}
      },
      "source": [
        "# imports"
      ],
      "execution_count": 0,
      "outputs": []
    },
    {
      "cell_type": "code",
      "metadata": {
        "id": "nLwyvRsAImXR",
        "colab_type": "code",
        "colab": {}
      },
      "source": [
        "%%capture\n",
        "\n",
        "# Install the SDK (Uncomment the code if the SDK is not installed before)\n",
        "!pip3 install --upgrade pip -q\n",
        "!pip3 install kfp --upgrade -q\n",
        "!pip3 install pandas --upgrade -q"
      ],
      "execution_count": 0,
      "outputs": []
    },
    {
      "cell_type": "code",
      "metadata": {
        "id": "k5Ih2rdIImXX",
        "colab_type": "code",
        "colab": {}
      },
      "source": [
        "import json\n",
        "\n",
        "import kfp\n",
        "import kfp.compiler as compiler\n",
        "import kfp.components as comp\n",
        "import kfp.dsl as dsl\n",
        "import kfp.gcp as gcp\n",
        "\n",
        "import pandas as pd\n",
        "\n",
        "import time"
      ],
      "execution_count": 0,
      "outputs": []
    },
    {
      "cell_type": "code",
      "metadata": {
        "id": "m-L6ro1uImXe",
        "colab_type": "code",
        "colab": {}
      },
      "source": [
        "# Pipeline\n",
        "# constants"
      ],
      "execution_count": 0,
      "outputs": []
    },
    {
      "cell_type": "code",
      "metadata": {
        "id": "rXR35r97ImXi",
        "colab_type": "code",
        "colab": {}
      },
      "source": [
        "# Required Parameters\n",
        "PROJECT_ID = 'lunar-demo'\n",
        "GCS_WORKING_DIR = 'gs://lunar-demo-kubeflow-bucket/chicagocrime' # No ending slash\n",
        "\n",
        "# Optional Parameters\n",
        "REGION = 'us-central1'\n",
        "RUNTIME_VERSION = '1.13'\n",
        "PACKAGE_URIS=json.dumps(['gs://chicago-crime/chicago_crime_trainer-0.0.tar.gz'])\n",
        "TRAINER_OUTPUT_GCS_PATH = GCS_WORKING_DIR + '/train/output/' + str(int(time.time())) + '/'\n",
        "DATA_GCS_PATH = GCS_WORKING_DIR + '/reports.csv'\n",
        "PYTHON_MODULE = 'trainer.task'\n",
        "TRAINER_ARGS =  json.dumps([\n",
        "    '--data-file-url', DATA_GCS_PATH,\n",
        "    '--job-dir', GCS_WORKING_DIR\n",
        "])\n",
        "EXPERIMENT_NAME = 'Chicago Crime Prediction'\n",
        "PIPELINE_NAME = 'Chicago Crime Prediction'\n",
        "PIPELINE_FILENAME_PREFIX = 'chicago'\n",
        "PIPELINE_DESCRIPTION =''"
      ],
      "execution_count": 0,
      "outputs": []
    },
    {
      "cell_type": "code",
      "metadata": {
        "id": "fZNyKiLCImXm",
        "colab_type": "code",
        "colab": {}
      },
      "source": [
        "# Download Data\n",
        "# Define a download function that uses the BigQuery component"
      ],
      "execution_count": 0,
      "outputs": []
    },
    {
      "cell_type": "code",
      "metadata": {
        "id": "dRPMAweyImXu",
        "colab_type": "code",
        "colab": {}
      },
      "source": [
        "bigquery_query_op = comp.load_component_from_url(\n",
        "    'https://raw.githubusercontent.com/kubeflow/pipelines/1f65a564d4d44fa5a0dc6c59929ca2211ebb3d1c/components/gcp/bigquery/query/component.yaml')\n",
        "\n",
        "QUERY = \"\"\"\n",
        "    SELECT count(*) as count, TIMESTAMP_TRUNC(date, DAY) as day\n",
        "    FROM `bigquery-public-data.chicago_crime.crime`\n",
        "    GROUP BY day\n",
        "    ORDER BY day\n",
        "\"\"\"\n",
        "\n",
        "def download(project_id, data_gcs_path):\n",
        "\n",
        "    return bigquery_query_op(\n",
        "        query=QUERY,\n",
        "        project_id=project_id,\n",
        "        output_gcs_path=data_gcs_path\n",
        "    ).apply(\n",
        "       gcp.use_gcp_secret('user-gcp-sa') \n",
        "    )"
      ],
      "execution_count": 0,
      "outputs": []
    },
    {
      "cell_type": "code",
      "metadata": {
        "id": "1_v-YjB-ImXy",
        "colab_type": "code",
        "colab": {}
      },
      "source": [
        "# Train the model\n",
        "# Run training code that will pre-process the data and then submit a training job to AI Platform"
      ],
      "execution_count": 0,
      "outputs": []
    },
    {
      "cell_type": "code",
      "metadata": {
        "id": "gBbjI6glImX2",
        "colab_type": "code",
        "colab": {}
      },
      "source": [
        "mlengine_train_op = comp.load_component_from_url(\n",
        "    'https://raw.githubusercontent.com/kubeflow/pipelines/1f65a564d4d44fa5a0dc6c59929ca2211ebb3d1c/components/gcp/ml_engine/train/component.yaml')\n",
        "\n",
        "def train(project_id,\n",
        "          trainer_args,\n",
        "          package_uris,\n",
        "          trainer_output_gcs_path,\n",
        "          gcs_working_dir,\n",
        "          region,\n",
        "          python_module,\n",
        "          runtime_version):\n",
        "        \n",
        "    return mlengine_train_op(\n",
        "        project_id=project_id, \n",
        "        python_module=python_module,\n",
        "        package_uris=package_uris,\n",
        "        region=region,\n",
        "        args=trainer_args,\n",
        "        job_dir=trainer_output_gcs_path,\n",
        "        runtime_version=runtime_version\n",
        "    ).apply(gcp.use_gcp_secret('user-gcp-sa'))"
      ],
      "execution_count": 0,
      "outputs": []
    },
    {
      "cell_type": "code",
      "metadata": {
        "id": "rL_4jvl6ImX6",
        "colab_type": "code",
        "colab": {}
      },
      "source": [
        "# Deploy model\n",
        "# Deploy the model with the ID given from the training step"
      ],
      "execution_count": 0,
      "outputs": []
    },
    {
      "cell_type": "code",
      "metadata": {
        "id": "uPqjVUy6ImX-",
        "colab_type": "code",
        "colab": {}
      },
      "source": [
        "mlengine_deploy_op = comp.load_component_from_url(\n",
        "    'https://raw.githubusercontent.com/kubeflow/pipelines/1f65a564d4d44fa5a0dc6c59929ca2211ebb3d1c/components/gcp/ml_engine/deploy/component.yaml')\n",
        "\n",
        "def deploy(\n",
        "    project_id,\n",
        "    model_uri,\n",
        "    model_id,\n",
        "    runtime_version):\n",
        "    \n",
        "    return mlengine_deploy_op(\n",
        "        model_uri=model_uri,\n",
        "        project_id=project_id, \n",
        "        model_id=model_id, \n",
        "        runtime_version=runtime_version, \n",
        "        replace_existing_version=True, \n",
        "        set_default=True).apply(gcp.use_gcp_secret('user-gcp-sa'))"
      ],
      "execution_count": 0,
      "outputs": []
    },
    {
      "cell_type": "code",
      "metadata": {
        "id": "Vet4_mF2ImYD",
        "colab_type": "code",
        "colab": {}
      },
      "source": [
        "# Define pipeline"
      ],
      "execution_count": 0,
      "outputs": []
    },
    {
      "cell_type": "code",
      "metadata": {
        "id": "vFwj5oYbImYG",
        "colab_type": "code",
        "colab": {}
      },
      "source": [
        "@dsl.pipeline(\n",
        "    name=PIPELINE_NAME,\n",
        "    description=PIPELINE_DESCRIPTION\n",
        ")\n",
        "\n",
        "def pipeline(\n",
        "    data_gcs_path=dsl.PipelineParam(name='data_gcs_path', value=DATA_GCS_PATH),\n",
        "    gcs_working_dir=dsl.PipelineParam(name='gcs_working_dir', value=GCS_WORKING_DIR),\n",
        "    project_id=dsl.PipelineParam(name='project_id', value=PROJECT_ID),\n",
        "    python_module=dsl.PipelineParam(name='python_module', value=PYTHON_MODULE),\n",
        "    region=dsl.PipelineParam(name='region', value=REGION),\n",
        "    runtime_version=dsl.PipelineParam(name='runtime_version', value=RUNTIME_VERSION),\n",
        "    package_uris=dsl.PipelineParam(name='package_uris', value=PACKAGE_URIS),\n",
        "    trainer_output_gcs_path=dsl.PipelineParam(name='trainer_output_gcs_path', value=TRAINER_OUTPUT_GCS_PATH),\n",
        "    trainer_args=dsl.PipelineParam(name='trainer_args', value=TRAINER_ARGS),\n",
        "):      \n",
        "    download_task = download(project_id,\n",
        "                             data_gcs_path)\n",
        "\n",
        "    train_task = train(project_id,\n",
        "                       trainer_args,\n",
        "                       package_uris,\n",
        "                       trainer_output_gcs_path,\n",
        "                       gcs_working_dir,\n",
        "                       region,\n",
        "                       python_module,\n",
        "                       runtime_version).after(download_task)\n",
        "    \n",
        "    deploy_task = deploy(project_id,\n",
        "                         train_task.outputs['job_dir'],\n",
        "                         train_task.outputs['job_id'],\n",
        "                         runtime_version)    \n",
        "    return True\n",
        "\n",
        "# Reference for invocation later\n",
        "pipeline_func = pipeline"
      ],
      "execution_count": 0,
      "outputs": []
    },
    {
      "cell_type": "code",
      "metadata": {
        "id": "qZvZkFnGImYJ",
        "colab_type": "code",
        "colab": {}
      },
      "source": [
        "# compile pipeline"
      ],
      "execution_count": 0,
      "outputs": []
    },
    {
      "cell_type": "code",
      "metadata": {
        "id": "ALlg-swvImYM",
        "colab_type": "code",
        "colab": {}
      },
      "source": [
        "pipeline_filename = PIPELINE_FILENAME_PREFIX + '.pipeline.tar.gz'\n",
        "\n",
        "compiler.Compiler().compile(pipeline_func, pipeline_filename)"
      ],
      "execution_count": 0,
      "outputs": []
    },
    {
      "cell_type": "code",
      "metadata": {
        "id": "3pq5ekHLImYQ",
        "colab_type": "code",
        "colab": {}
      },
      "source": [
        "# Submit the pipeline for execution"
      ],
      "execution_count": 0,
      "outputs": []
    },
    {
      "cell_type": "code",
      "metadata": {
        "id": "uiWHHrJwImYX",
        "colab_type": "code",
        "outputId": "40c587b1-0132-4d39-a279-a36e2f0df7a0",
        "colab": {}
      },
      "source": [
        "# Specify pipeline argument values\n",
        "arguments = {}\n",
        "\n",
        "# Get or create an experiment and submit a pipeline run\n",
        "client = kfp.Client()\n",
        "try:\n",
        "    experiment = client.get_experiment(experiment_name=EXPERIMENT_NAME)\n",
        "except:\n",
        "    experiment = client.create_experiment(EXPERIMENT_NAME)\n",
        "\n",
        "# Submit a pipeline run\n",
        "run_name = pipeline_func.__name__ + ' run'\n",
        "run_result = client.run_pipeline(experiment.id, run_name, pipeline_filename, arguments)"
      ],
      "execution_count": 0,
      "outputs": [
        {
          "output_type": "display_data",
          "data": {
            "text/html": [
              "Experiment link <a href=\"/pipeline/#/experiments/details/aa25f66c-daf3-40a2-b134-0dffefeaa0e5\" target=\"_blank\" >here</a>"
            ],
            "text/plain": [
              "<IPython.core.display.HTML object>"
            ]
          },
          "metadata": {
            "tags": []
          }
        },
        {
          "output_type": "display_data",
          "data": {
            "text/html": [
              "Run link <a href=\"/pipeline/#/runs/details/b163ec71-ac7d-11e9-acef-42010a80026e\" target=\"_blank\" >here</a>"
            ],
            "text/plain": [
              "<IPython.core.display.HTML object>"
            ]
          },
          "metadata": {
            "tags": []
          }
        }
      ]
    },
    {
      "cell_type": "code",
      "metadata": {
        "id": "5uKkPtTDImYc",
        "colab_type": "code",
        "colab": {}
      },
      "source": [
        ""
      ],
      "execution_count": 0,
      "outputs": []
    }
  ]
}