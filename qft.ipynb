{
  "nbformat": 4,
  "nbformat_minor": 0,
  "metadata": {
    "colab": {
      "name": "qft.ipynb",
      "provenance": [],
      "collapsed_sections": [
        "7mbLlEbFgAZs",
        "pq1iWq1zdZ34",
        "oB_uPKNk3k-L",
        "Kt9QaDRxdkOo",
        "P_oCKNQoWrJM",
        "a2P7AWGVFixc"
      ],
      "include_colab_link": true
    },
    "kernelspec": {
      "name": "python3",
      "display_name": "Python 3"
    }
  },
  "cells": [
    {
      "cell_type": "markdown",
      "metadata": {
        "id": "view-in-github",
        "colab_type": "text"
      },
      "source": [
        "<a href=\"https://colab.research.google.com/github/deltorobarba/machinelearning/blob/master/qft.ipynb\" target=\"_parent\"><img src=\"https://colab.research.google.com/assets/colab-badge.svg\" alt=\"Open In Colab\"/></a>"
      ]
    },
    {
      "cell_type": "markdown",
      "metadata": {
        "id": "uYQVihuXzx6u"
      },
      "source": [
        "# **Quantum Fourier Transform**"
      ]
    },
    {
      "cell_type": "code",
      "metadata": {
        "id": "jObfS0OgRhq6"
      },
      "source": [
        "!pip install cirq --quiet\n",
        "import cirq\n",
        "import sympy\n",
        "from cirq.contrib.svg import SVGCircuit\n",
        "import numpy as np\n",
        "import pandas as pd\n",
        "import seaborn as sns\n",
        "import matplotlib.pyplot as plt # %matplotlib inline\n",
        "print(cirq.__version__)"
      ],
      "execution_count": null,
      "outputs": []
    },
    {
      "cell_type": "markdown",
      "metadata": {
        "id": "7mbLlEbFgAZs"
      },
      "source": [
        "###### <font color=\"blue\">**Overview**"
      ]
    },
    {
      "cell_type": "markdown",
      "metadata": {
        "id": "5zGl2AZy0U6y"
      },
      "source": [
        "> **Quantum Fourier Transform is the change from one basis (computational) to another (Fourier basis) - [Quantum Fourier Transform is the inverse Discrete Fourier Transform]**"
      ]
    },
    {
      "cell_type": "markdown",
      "metadata": {
        "id": "pZDS9weZ9O67"
      },
      "source": [
        "https://jonathan-hui.medium.com/qc-quantum-fourier-transform-45436f90a43"
      ]
    },
    {
      "cell_type": "markdown",
      "metadata": {
        "id": "aNfJr0RePpZW"
      },
      "source": [
        "https://qiskit.org/textbook/ch-algorithms/quantum-fourier-transform.html"
      ]
    },
    {
      "cell_type": "markdown",
      "metadata": {
        "id": "fCwQAKLTTOfM"
      },
      "source": [
        "https://prod-edxapp.edx-cdn.org/assets/courseware/v1/8f101da9d14cfeec83df9e42a70562bf/c4x/BerkeleyX/CS-191x/asset/chap5.pdf"
      ]
    },
    {
      "cell_type": "markdown",
      "metadata": {
        "id": "7ipOz4xfYR7f"
      },
      "source": [
        "* Blog Post: https://jonathan-hui.medium.com/qc-quantum-fourier-transform-45436f90a43\n",
        "\n",
        "* Qiskit: https://qiskit.org/textbook/ch-algorithms/quantum-fourier-transform.html\n",
        "\n",
        "* Cirq: https://quantumai.google/cirq/tutorials/educators/textbook_algorithms\n",
        "\n",
        "* Youtube: https://youtu.be/rRblvBZkz7A\n",
        "\n",
        "* IBM Youtube: https://youtu.be/mAHC1dWKNYE\n",
        "\n",
        "* Classical Discrete Fourier Transform : https://en.m.wikipedia.org/wiki/Discrete_Fourier_transform\n",
        "\n",
        "* https://physics.stackexchange.com/questions/219581/how-quantum-fourier-transform-equal-to-hadamard-transform-on-4-by-4-matrix\n",
        "\n",
        "* https://physics.stackexchange.com/questions/56510/how-to-write-the-matrices-for-hadamard-gates-acting-on-differen-qubits?rq=1"
      ]
    },
    {
      "cell_type": "markdown",
      "metadata": {
        "id": "ATRazkgUWDMc"
      },
      "source": [
        "* the [quantum Fourier transform](https://en.m.wikipedia.org/wiki/Quantum_Fourier_transform) (for short: QFT) is a linear transformation on quantum bits, and is the quantum analogue of the inverse discrete Fourier transform.\n",
        "\n",
        "> The quantum Fourier transform is the classical discrete Fourier transform applied to the vector of amplitudes of a quantum state\n",
        "\n",
        "* The quantum Fourier transform is a part of many quantum algorithms, notably Shor's algorithm for factoring and computing the discrete logarithm, the quantum phase estimation algorithm for estimating the eigenvalues of a unitary operator, and algorithms for the hidden subgroup problem. \n",
        "\n",
        "* The quantum Fourier transform was invented by Don Coppersmith.\n",
        "\n",
        "* The quantum Fourier transform can be performed efficiently on a quantum computer, with a particular decomposition into a product of simpler unitary matrices. \n",
        "\n",
        "* However, the quantum Fourier transform acts on a quantum state, whereas the classical Fourier transform acts on a vector, so not every task that uses the classical Fourier transform can take advantage of this exponential speedup."
      ]
    },
    {
      "cell_type": "markdown",
      "metadata": {
        "id": "d7o0zqlNE2GS"
      },
      "source": [
        "**Prerequisite (Update)**"
      ]
    },
    {
      "cell_type": "markdown",
      "metadata": {
        "id": "pjpCeYCKp8vb"
      },
      "source": [
        "![ggg](https://raw.githubusercontent.com/deltorobarba/repo/master/quantum_046.png)"
      ]
    },
    {
      "cell_type": "markdown",
      "metadata": {
        "id": "eLwk5kVIqSPq"
      },
      "source": [
        "**Formula for Quantum Fourier Transform:**"
      ]
    },
    {
      "cell_type": "markdown",
      "metadata": {
        "id": "Au75iji5p-ny"
      },
      "source": [
        "![ggg](https://raw.githubusercontent.com/deltorobarba/repo/master/quantum_047.png)"
      ]
    },
    {
      "cell_type": "markdown",
      "metadata": {
        "id": "ElE7SA05X5sL"
      },
      "source": [
        "So the QFT can be implemented with a series of the controlled-R gate as below:\n",
        "\n",
        "![ggg](https://raw.githubusercontent.com/deltorobarba/repo/master/quantum_041.JPG)"
      ]
    },
    {
      "cell_type": "markdown",
      "metadata": {
        "id": "Fu2VPPLHXubR"
      },
      "source": [
        "A controlled-R quantum gate applies a relative phase change to |1>. The matrix form of this operator is:\n",
        "\n",
        "> $\\hat{R}_{k}=\\left(\\begin{array}{cc}1 & 0 \\\\ 0 & e^{2 \\pi i / 2^{k}}\\end{array}\\right)$\n",
        "\n",
        "Please note that $e^{2 \\pi i}$ = 1"
      ]
    },
    {
      "cell_type": "markdown",
      "metadata": {
        "id": "GNZs9Z41uDwI"
      },
      "source": [
        "y ist fur die computational states, und n=4 zB ist dann 100 der computation state in binary form"
      ]
    },
    {
      "cell_type": "markdown",
      "metadata": {
        "id": "eHsiTy9AdD3w"
      },
      "source": [
        "y = 0 oder 1. bei 0 verschwindet der ganze term"
      ]
    },
    {
      "cell_type": "markdown",
      "metadata": {
        "id": "YfTVXA3KdxrA"
      },
      "source": [
        "**Quantum Fourier Transform: Compactify for Circuit Representation**"
      ]
    },
    {
      "cell_type": "markdown",
      "metadata": {
        "id": "n3WzmRpH7pQQ"
      },
      "source": [
        "https://www.youtube.com/watch?v=mAHC1dWKNYE"
      ]
    },
    {
      "cell_type": "markdown",
      "metadata": {
        "id": "Z5s9m0mxshhD"
      },
      "source": [
        "**Notationshinweise:**"
      ]
    },
    {
      "cell_type": "markdown",
      "metadata": {
        "id": "F0x0xV_1s0_s"
      },
      "source": [
        "4 ist: 100, 3 ist 11 etc."
      ]
    },
    {
      "cell_type": "markdown",
      "metadata": {
        "id": "6_v07tBCszMN"
      },
      "source": [
        "![ggg](https://raw.githubusercontent.com/deltorobarba/repo/master/quantum_048.png)"
      ]
    },
    {
      "cell_type": "markdown",
      "metadata": {
        "id": "KfnBk0GW8e-x"
      },
      "source": [
        "**Compactify** writing y (note on top how N in the denominator cancels out with new way of writing y)"
      ]
    },
    {
      "cell_type": "markdown",
      "metadata": {
        "id": "REQZzRzz9WlW"
      },
      "source": [
        "Problem: this notation doesn't say much on how to build the quantum circuit:\n",
        "\n",
        "> $\\frac{1}{\\sqrt{N}} \\sum_{y=0}^{N-1} e^{\\frac{2 \\pi i x y}{N}}|y\\rangle$\n"
      ]
    },
    {
      "cell_type": "markdown",
      "metadata": {
        "id": "kh2L8go696PF"
      },
      "source": [
        "![ggg](https://raw.githubusercontent.com/deltorobarba/repo/master/quantum_047.png)"
      ]
    },
    {
      "cell_type": "markdown",
      "metadata": {
        "id": "XzSQjBim98a4"
      },
      "source": [
        "We need a bit of manipulation y:"
      ]
    },
    {
      "cell_type": "markdown",
      "metadata": {
        "id": "TarOBBgo8dZL"
      },
      "source": [
        "![ggg](https://raw.githubusercontent.com/deltorobarba/repo/master/quantum_054.png)"
      ]
    },
    {
      "cell_type": "markdown",
      "metadata": {
        "id": "6SyZdgUf_qPK"
      },
      "source": [
        "https://www.youtube.com/watch?v=pq2jkfJlLmY&t=1784s"
      ]
    },
    {
      "cell_type": "markdown",
      "metadata": {
        "id": "jtLzXV7n-NDj"
      },
      "source": [
        "So, aus \n",
        "\n",
        "<font color=\"red\"> $|\\tilde{x}\\rangle = \\frac{1}{\\sqrt{N}} \\sum_{y=0}^{N-1} e^{\\frac{2 \\pi i x y}{N}}|y\\rangle$ \n",
        "\n",
        "wird dann: \n",
        "\n",
        "<font color=\"blue\"> $|\\tilde{x}\\rangle = \\frac{1}{\\sqrt{N}} \\sum_{y=0}^{N-1} e^{\\frac{2 \\pi i \\sum_{k=1}^{n} y^{k}}{2^k}}|y_1,y_2,..y_n\\rangle$ \n",
        "\n",
        "bzw.:\n",
        "\n",
        "<font color=\"blue\"> $=\\frac{1}{\\sqrt{N}} \\sum_{y=0}^{N-1} \\prod_{k=1}^{n} e^{\\frac{2 \\pi i x y k}{2^k}}|y_1,y_2,..y_n\\rangle$ \n"
      ]
    },
    {
      "cell_type": "markdown",
      "metadata": {
        "id": "TNu3a97ODZ_b"
      },
      "source": [
        "Doing this for $y_1$ and $y_2$ etc, here you can build a circuit from (and without the fraction it looks like a Hadamard transform):"
      ]
    },
    {
      "cell_type": "markdown",
      "metadata": {
        "id": "Afirc5ZmEBrX"
      },
      "source": [
        "![ggg](https://raw.githubusercontent.com/deltorobarba/repo/master/quantum_055.png)"
      ]
    },
    {
      "cell_type": "markdown",
      "metadata": {
        "id": "MKjUppZDEdVl"
      },
      "source": [
        "Now you can see it boils down to the different phases when you transform from the computational basis to the Fourier basis: (the question is only how do you apply those phases in the circuit?)"
      ]
    },
    {
      "cell_type": "markdown",
      "metadata": {
        "id": "Qc-aA6G4EpOC"
      },
      "source": [
        "![ggg](https://raw.githubusercontent.com/deltorobarba/repo/master/quantum_056.png)"
      ]
    },
    {
      "cell_type": "markdown",
      "metadata": {
        "id": "uhY9-cBcFlTd"
      },
      "source": [
        "Here with a concrete example:"
      ]
    },
    {
      "cell_type": "markdown",
      "metadata": {
        "id": "sFar4z6cFkAP"
      },
      "source": [
        "![ggg](https://raw.githubusercontent.com/deltorobarba/repo/master/quantum_057.png)"
      ]
    },
    {
      "cell_type": "markdown",
      "metadata": {
        "id": "ZaBg4IJ_n18k"
      },
      "source": [
        "* $e^{\\frac{2*\\pi*i*5}{2}}$ ist -1 =(e^((2*pi*i*5)/2))\n",
        "\n",
        "* (e^((2*pi*i*5)/4)) = i\n",
        "\n",
        "* =(e^((2*pi*i*5)/8)) = -0,707106781 - 0,707106781 i"
      ]
    },
    {
      "cell_type": "markdown",
      "metadata": {
        "id": "yG6ersF-nHgk"
      },
      "source": [
        "> =(e^((2*pi*i*5)/2)) gibt hierbei den Azimut an (Horizontale Phase), und (1/√ 8) die Höhe (fur Probability) ???"
      ]
    },
    {
      "cell_type": "markdown",
      "metadata": {
        "id": "OA5BJ16Al6Jm"
      },
      "source": [
        "Going back to the 1 Qubit case with the formula above:\n",
        "\n",
        "* =(e^((2*pi*i*1)/2)) = -1\n",
        "\n",
        "* =(e^((2*pi*i*2)/2)) = 1\n",
        "\n",
        "Siehe hier das Ergebnis (mit der unmodifizierten, alten Formel):"
      ]
    },
    {
      "cell_type": "markdown",
      "metadata": {
        "id": "2qIXmH2umkJL"
      },
      "source": [
        "![ddd](https://raw.githubusercontent.com/deltorobarba/repo/master/quantum_045.png)"
      ]
    },
    {
      "cell_type": "markdown",
      "metadata": {
        "id": "ruSnVepASrMB"
      },
      "source": [
        "**Observations before creating the QFT circuit**"
      ]
    },
    {
      "cell_type": "markdown",
      "metadata": {
        "id": "HpqwwZO5Sv09"
      },
      "source": [
        "First see the notation whenever there is a 1 with a phase. Please note the $2^{n-1 etc.}$ used before for each one:"
      ]
    },
    {
      "cell_type": "markdown",
      "metadata": {
        "id": "XFwk9kj9R1Vr"
      },
      "source": [
        "![ggg](https://raw.githubusercontent.com/deltorobarba/repo/master/quantum_062.jpg)"
      ]
    },
    {
      "cell_type": "markdown",
      "metadata": {
        "id": "QY1JwfwCSOa_"
      },
      "source": [
        "*Second observation: under (2) you can see the phase state of |1111>, which you can rewrite with the product of $e^{2 \\pi i[...]}$*"
      ]
    },
    {
      "cell_type": "markdown",
      "metadata": {
        "id": "ET2yQbjPR5e9"
      },
      "source": [
        "![ggg](https://raw.githubusercontent.com/deltorobarba/repo/master/quantum_063.jpg)"
      ]
    },
    {
      "cell_type": "markdown",
      "metadata": {
        "id": "dVRMr8_2R-0Z"
      },
      "source": [
        "**So what do you need to construct a QFT circuit?**"
      ]
    },
    {
      "cell_type": "markdown",
      "metadata": {
        "id": "3gOVJtKqSD8c"
      },
      "source": [
        "*First a Hamadard, which you can write in the notation below, making Hadamard looking similar to QFT: (please note that one normalization is missing at the last term)*"
      ]
    },
    {
      "cell_type": "markdown",
      "metadata": {
        "id": "_RZPfgX-RwP4"
      },
      "source": [
        "![ggg](https://raw.githubusercontent.com/deltorobarba/repo/master/quantum_061.jpg)"
      ]
    },
    {
      "cell_type": "markdown",
      "metadata": {
        "id": "fez8RD-nUV14"
      },
      "source": [
        "*UROT is applying a phase (a unitary rotation)*"
      ]
    },
    {
      "cell_type": "markdown",
      "metadata": {
        "id": "GeQ68EDtVa5K"
      },
      "source": [
        "![ggg](https://raw.githubusercontent.com/deltorobarba/repo/master/quantum_064.jpg)"
      ]
    },
    {
      "cell_type": "markdown",
      "metadata": {
        "id": "ptDQBAkVXYMW"
      },
      "source": [
        "**Creating the QFT circuit**"
      ]
    },
    {
      "cell_type": "markdown",
      "metadata": {
        "id": "1r-qm4OBXcMs"
      },
      "source": [
        "*This is what you need only to create x1:*"
      ]
    },
    {
      "cell_type": "markdown",
      "metadata": {
        "id": "9nLkqgShXa_Y"
      },
      "source": [
        "![ggg](https://raw.githubusercontent.com/deltorobarba/repo/master/quantum_065.jpg)"
      ]
    },
    {
      "cell_type": "markdown",
      "metadata": {
        "id": "FE6XFNKuXoN5"
      },
      "source": [
        "*And this series of gates gives you exactly the terms that you get here (see black arrow). The expression $\\frac{x}{2^n}$ (=$\\theta$ as we will see later in quantum phase estimation). All of the rotations are applying different phases on to the first qubit.*"
      ]
    },
    {
      "cell_type": "markdown",
      "metadata": {
        "id": "8wRf6l3BYJU7"
      },
      "source": [
        "![ggg](https://raw.githubusercontent.com/deltorobarba/repo/master/quantum_066.jpg)"
      ]
    },
    {
      "cell_type": "markdown",
      "metadata": {
        "id": "tHba8THd2ZRF"
      },
      "source": [
        "**Komplettes Circuit**"
      ]
    },
    {
      "cell_type": "markdown",
      "metadata": {
        "id": "I18eE4Pt2Xs7"
      },
      "source": [
        "![ggg](https://raw.githubusercontent.com/deltorobarba/repo/master/quantum_067.png)"
      ]
    },
    {
      "cell_type": "markdown",
      "metadata": {
        "id": "M0nFi24F2vGz"
      },
      "source": [
        "![ggg](https://raw.githubusercontent.com/deltorobarba/repo/master/quantum_068.png)"
      ]
    },
    {
      "cell_type": "markdown",
      "metadata": {
        "id": "pq1iWq1zdZ34"
      },
      "source": [
        "###### **Quantum Fourier Transform with 1 Qubit**"
      ]
    },
    {
      "cell_type": "markdown",
      "metadata": {
        "id": "ZjobOe_PEVSo"
      },
      "source": [
        "**QFT**\n",
        "\n",
        "> <font color=\"blue\">$e^{2\\pi i}$ = 1\n",
        "\n",
        "> In QFT we change the phase <font color=\"blue\">$\\theta$ in $e^{2\\pi i \\theta}$</font> (=Eigenvalue of Oracle function $U$ associated with an eigenvector |u⟩)\n",
        "\n",
        "> Phase <font color=\"blue\">$\\theta$ is $\\frac{x_n}{2^{k}}$ with $x_n$ 0 or 1</font> state and $k$ number of Qubits.\n",
        "\n",
        "A controlled-R quantum gate applies a relative phase change to |1>. \n",
        "\n",
        "> The matrix form of this operator is: <font color=\"blue\">$\\hat{R}_{k}=\\left(\\begin{array}{cc}1 & 0 \\\\ 0 & e^{2 \\pi i / 2^{k}}\\end{array}\\right)$"
      ]
    },
    {
      "cell_type": "markdown",
      "metadata": {
        "id": "1LoC1Ai1lpif"
      },
      "source": [
        "**For n = 1 Qubit:**\n",
        "\n",
        "> <font color=\"blue\">$\\tilde{x_1}$ = $\\frac{1}{\\sqrt{2}}\\left(|0\\rangle+\\mathrm{e}^{2 \\pi \\mathrm{i}\\left(\\frac{x_1}{2^{n_{x_1}}}\\right)}|1\\rangle\\right)$</font> = $\\frac{1}{\\sqrt{2}}\\left(|0\\rangle+\\mathrm{e}^{2 \\pi \\mathrm{i}\\left(\\frac{x_1}{2^1}\\right)}|1\\rangle\\right)$ \n",
        "\n",
        "* <font color=\"blue\">Für x = 0 $\\Rightarrow$ $\\tilde{x_1}$</font> = $\\frac{1}{\\sqrt{2}}\\left(|0\\rangle+\\mathrm{e}^{2 \\pi \\mathrm{i}\\left(\\frac{x_1}{2^1}\\right)}|1\\rangle\\right)$  = $\\mathrm{e}^{2 \\pi \\mathrm{i}\\left(\\frac{0}{2}\\right)}$ = $\\mathrm{e}^{2 \\pi \\mathrm{i} 0}$  = $\\mathrm{e}^{0}$ = 1 (no rotation away from original H superposition)\n",
        "\n",
        "* <font color=\"blue\">Für x = 1 $\\Rightarrow$ $\\tilde{x_1}$</font> = $\\frac{1}{\\sqrt{2}}\\left(|0\\rangle+\\mathrm{e}^{2 \\pi \\mathrm{i}\\left(\\frac{x_1}{2^1}\\right)}|1\\rangle\\right)$ = $\\mathrm{e}^{2 \\pi \\mathrm{i}\\left(\\frac{1}{2}\\right)}$ = $\\mathrm{e}^{\\pi \\mathrm{i}}$ = Z-Rotation aus -1"
      ]
    },
    {
      "cell_type": "markdown",
      "metadata": {
        "id": "x5kWr5Au0Rf-"
      },
      "source": [
        "**1 Qubit QFT that does this? - Hadamard gate:**"
      ]
    },
    {
      "cell_type": "markdown",
      "metadata": {
        "id": "Apm_2RVZrUTD"
      },
      "source": [
        "**One qubit QFT matrix**: $\\frac{1}{\\sqrt{2}}\\left(\\begin{array}{ll}1 & 1 \\\\ 1 & \\mathrm{e}^{\\pi i}\\end{array}\\right)$, where $\\mathrm{e}^{\\pi \\mathrm{i}}$ = -1. So it is: <font color=\"blue\"> QFT für x=1 = $\\frac{1}{\\sqrt{2}}\\left(\\begin{array}{ll}1 & 1 \\\\ 1 & -1\\end{array}\\right)$\n",
        "\n",
        "**Compare with Hadamard transform matrix:** \n",
        "\n",
        "In quantum computing, the Hadamard gate is a one-qubit rotation, mapping the qubitbasis states $|0\\rangle$ and $|1\\rangle$ to two **superposition** states with **equal weight of the computational basis** states $|0\\rangle$ and $|1\\rangle$. Usually the phases are chosen so that\n",
        "\n",
        ">$\n",
        "H=\\frac{|0\\rangle+|1\\rangle}{\\sqrt{2}}\\langle 0|+\\frac{|0\\rangle-|1\\rangle}{\\sqrt{2}}\\langle 1|\n",
        "$\n",
        "\n",
        "in Dirac notation. This corresponds to the transformation matrix\n",
        "\n",
        "> <font color=\"blue\">$\n",
        "H_{1}=\\frac{1}{\\sqrt{2}}\\left(\\begin{array}{cc}\n",
        "1 & 1 \\\\\n",
        "1 & -1\n",
        "\\end{array}\\right)\n",
        "$\n",
        "\n",
        "in the $|0\\rangle,|1\\rangle$ basis, also known as the computational basis. The states $\\frac{|0\\rangle+|1\\rangle}{\\sqrt{2}}$ and $\\frac{|0\\rangle-|1\\rangle}{\\sqrt{2}}$ are known as $|+\\rangle$ and $|-\\rangle$ respectively, and together constitute the polar basis in quantum computing."
      ]
    },
    {
      "cell_type": "markdown",
      "metadata": {
        "id": "hWPlZI5_0GFZ"
      },
      "source": [
        "![ggg](https://raw.githubusercontent.com/deltorobarba/repo/master/quantum_049.png)"
      ]
    },
    {
      "cell_type": "markdown",
      "metadata": {
        "id": "5DTee1BBuWBb"
      },
      "source": [
        "Follow and try movement here for 0: H Gate. For 1: X gate followed bz H gate:\n",
        "\n",
        "* https://javafxpert.github.io/grok-bloch/\n",
        "\n",
        "* https://www.st-andrews.ac.uk/physics/quvis/simulations_html5/sims/blochsphere/blochsphere.html"
      ]
    },
    {
      "cell_type": "markdown",
      "metadata": {
        "id": "i83SjI5NV8vq"
      },
      "source": [
        "![ggg](https://raw.githubusercontent.com/deltorobarba/repo/master/quantum_073.jpg)\n",
        "\n",
        "https://demonstrations.wolfram.com/QuantumFourierTransformCircuit/"
      ]
    },
    {
      "cell_type": "markdown",
      "metadata": {
        "id": "-LpKkI-GcJEl"
      },
      "source": [
        "Reminder: QFT Formel:\n",
        "\n",
        "![ggg](https://raw.githubusercontent.com/deltorobarba/repo/master/quantum_047.png)"
      ]
    },
    {
      "cell_type": "markdown",
      "metadata": {
        "id": "kaeJVJrb2EFU"
      },
      "source": [
        "**Why Hadamard transform is exactly a 1 qubit Quantum Fourier Transform:** (see result of + for 0 state and - for 1 state)"
      ]
    },
    {
      "cell_type": "markdown",
      "metadata": {
        "id": "kxOMDIlC2Cwx"
      },
      "source": [
        "![ggg](https://raw.githubusercontent.com/deltorobarba/repo/master/quantum_045.png)"
      ]
    },
    {
      "cell_type": "markdown",
      "metadata": {
        "id": "8u4NwBOOwNgn"
      },
      "source": [
        "Siehe oben unter 'Mathermatik\": Matrix-Vector-Multiplication (Single Qubit)\n",
        "\n",
        "> <font color=\"blue\">$H |0\\rangle$</font> $ = \\frac{1}{\\sqrt{2}}\\left(\\begin{array}{cc}1 & 1 \\\\ 1 & -1\\end{array}\\right)\\left[\\begin{array}{l}1 \\\\ 0\\end{array}\\right] =\\frac{1}{\\sqrt{2}}\\left[\\begin{array}{c}1 \\\\ 1\\end{array}\\right]$ <font color=\"blue\">$ \\,\\,= |+\\rangle$ = $\\frac{1}{\\sqrt{2}}(|0\\rangle+|1\\rangle)$\n",
        "\n",
        "> <font color=\"blue\">$H |1\\rangle$</font>$ = \\frac{1}{\\sqrt{2}}\\left(\\begin{array}{cc}1 & 1 \\\\ 1 & -1\\end{array}\\right)\\left[\\begin{array}{l}0 \\\\ 1\\end{array}\\right]=\\frac{1}{\\sqrt{2}}\\left[\\begin{array}{c}1 \\\\ -1\\end{array}\\right]$ <font color=\"blue\">$ = |-\\rangle$ = $\\frac{1}{\\sqrt{2}}(|0\\rangle-|1\\rangle)$\n",
        "\n",
        "$|+\\rangle=\\frac{1}{\\sqrt{2}}(|0\\rangle+|1\\rangle)$ weil <font color=\"gray\">wegen $|0\\rangle=\\left[\\begin{array}{l}1 \\\\ 0\\end{array}\\right]$ und $|1\\rangle=\\left[\\begin{array}{l}0 \\\\ 1\\end{array}\\right]$ daher:</font> $\\frac{1}{\\sqrt{2}}\\left[\\begin{array}{ll}1 + 0 \\\\ 0 + 1\\end{array}\\right]=\\frac{1}{\\sqrt{2}}\\left[\\begin{array}{c}1 \\\\ 1\\end{array}\\right]$\n",
        "\n",
        "$|-\\rangle=\\frac{1}{\\sqrt{2}}(|0\\rangle-|1\\rangle)$ weil: $\\frac{1}{\\sqrt{2}}\\left[\\begin{array}{ll}1 - 0 \\\\ 0 - 1\\end{array}\\right]=\\frac{1}{\\sqrt{2}}\\left[\\begin{array}{c}1 \\\\ -1\\end{array}\\right]$"
      ]
    },
    {
      "cell_type": "markdown",
      "metadata": {
        "id": "LxcZhaiAdcXr"
      },
      "source": [
        "2 im denominator verschwindet hier. 2^n für n=1 qubit. mit 2 oben und unten verschwinden beide."
      ]
    },
    {
      "cell_type": "markdown",
      "metadata": {
        "id": "oB_uPKNk3k-L"
      },
      "source": [
        "###### **Quantum Fourier Transform with 2 Qubits**"
      ]
    },
    {
      "cell_type": "markdown",
      "metadata": {
        "id": "gQPMbMPuET0l"
      },
      "source": [
        "**QFT**\n",
        "\n",
        "> <font color=\"blue\">$e^{2\\pi i}$ = 1\n",
        "\n",
        "> In QFT we change the phase <font color=\"blue\">$\\theta$ in $e^{2\\pi i \\theta}$</font> (=Eigenvalue of Oracle function $U$ associated with an eigenvector |u⟩)\n",
        "\n",
        "> Phase <font color=\"blue\">$\\theta$ is $\\frac{x_n}{2^{k}}$ with $x_n$ 0 or 1</font> state and $k$ number of Qubits.\n",
        "\n",
        "A controlled-R quantum gate applies a relative phase change to |1>. \n",
        "\n",
        "> The matrix form of this operator is: <font color=\"blue\">$\\hat{R}_{k}=\\left(\\begin{array}{cc}1 & 0 \\\\ 0 & e^{2 \\pi i / 2^{k}}\\end{array}\\right)$"
      ]
    },
    {
      "cell_type": "markdown",
      "metadata": {
        "id": "n7ik6JdGSWHl"
      },
      "source": [
        "**For n = 2 Qubits. Results for: $x_1$ = 0 oder 1, $x_2$ = 0 oder 1**\n",
        "\n",
        "> <font color=\"blue\">$\\tilde{x_1}$ = $\\frac{1}{\\sqrt{2}}\\left(|0\\rangle+\\mathrm{e}^{2 \\pi \\mathrm{i}\\left(\\frac{x_1}{2^{n_{x_1}}}+\\frac{x_2}{2^{n_{x_2}}}\\right)}|1\\rangle\\right)$</font> = $\\frac{1}{\\sqrt{2}}\\left(|0\\rangle+\\mathrm{e}^{2 \\pi \\mathrm{i}\\left(\\frac{x_1}{2^1}+\\frac{x_2}{2^2}\\right)}|1\\rangle\\right)$ = $\\frac{1}{\\sqrt{2}}\\left(|0\\rangle+\\mathrm{e}^{2 \\pi \\mathrm{i}\\left(\\frac{x_1}{2}+\\frac{x_2}{4}\\right)}|1\\rangle\\right)$\n",
        "\n",
        "* Falls nur $\\tilde{x_1}$ aktiviert, dann ist es eine Z-Rotation im Wert von $\\pi$ = -1\n",
        "\n",
        "* Falls nur $\\tilde{x_2}$ aktiviert, dann ist es eine S-Rotation im Wert von $\\frac{\\pi}{2}$ = i\n",
        "\n",
        "* Falls beide $\\tilde{x_1}$ und $\\tilde{x_2}$ aktiviert, dann ist es eine Rotation $\\pi$ + $\\frac{\\pi}{2}$, also -i.\n",
        "\n",
        "> <font color=\"blue\">$\\tilde{x_2}$ = $\\frac{1}{\\sqrt{2}}\\left(|0\\rangle+\\mathrm{e}^{2 \\pi \\mathrm{i}\\left(\\frac{x_2}{2^{n_{x_1}}}\\right)}|1\\rangle\\right)$</font> = $\\frac{1}{\\sqrt{2}}\\left(|0\\rangle+\\mathrm{e}^{2 \\pi \\mathrm{i}\\left(\\frac{x_2}{2^1}\\right)}|1\\rangle\\right)$ = $\\frac{1}{\\sqrt{2}}\\left(|0\\rangle+\\mathrm{e}^{\\pi \\mathrm{i}x_2}|1\\rangle\\right)$\n",
        "\n",
        "* Falls aktiviert, dann ist $\\tilde{x_3}$ immer eine Z-Rotation im Wert von $\\pi$.\n"
      ]
    },
    {
      "cell_type": "markdown",
      "metadata": {
        "id": "4NKKRccWV942"
      },
      "source": [
        "![ggg](https://raw.githubusercontent.com/deltorobarba/repo/master/quantum_074.jpg)"
      ]
    },
    {
      "cell_type": "markdown",
      "metadata": {
        "id": "CrAP7muZY6PM"
      },
      "source": [
        "*Results for 0: $x_1$ = 0, $x_2$ = 0*\n",
        "\n",
        "* <font color=\"blue\">$\\tilde{x_1}$ =</font> $\\frac{1}{\\sqrt{2}}\\left(|0\\rangle+\\mathrm{e}^{2 \\pi \\mathrm{i}\\left(\\frac{x_1}{2}+\\frac{x_2}{4}\\right)}|1\\rangle\\right)$ = $\\frac{1}{\\sqrt{2}}\\left(|0\\rangle+\\mathrm{e}^{2 \\pi \\mathrm{i}\\left(\\frac{0}{2}+\\frac{0}{4}\\right)}|1\\rangle\\right)$  = $\\mathrm{e}^{2 \\pi \\mathrm{i} 0}$ = $\\mathrm{e}^{0}$ = 1 (no rotation away from original H superposition)\n",
        "\n",
        "* <font color=\"blue\">$\\tilde{x_2}$ = </font>$\\frac{1}{\\sqrt{2}}\\left(|0\\rangle+\\mathrm{e}^{\\pi \\mathrm{i}x_2}|1\\rangle\\right)$ = $\\frac{1}{\\sqrt{2}}\\left(|0\\rangle+\\mathrm{e}^{\\pi \\mathrm{i}0}|1\\rangle\\right)$ = $\\mathrm{e}^{0}$ = 1 (no rotation away from original H superposition)"
      ]
    },
    {
      "cell_type": "markdown",
      "metadata": {
        "id": "-GjFcdiVaHnK"
      },
      "source": [
        "*Results for 1: $x_1$ = 0, $x_2$ = 1*\n",
        "\n",
        "* <font color=\"blue\">$\\tilde{x_1}$ =</font> $\\frac{1}{\\sqrt{2}}\\left(|0\\rangle+\\mathrm{e}^{2 \\pi \\mathrm{i}\\left(\\frac{x_1}{2}+\\frac{x_2}{4}\\right)}|1\\rangle\\right)$ = $\\frac{1}{\\sqrt{2}}\\left(|0\\rangle+\\mathrm{e}^{2 \\pi \\mathrm{i}\\left(\\frac{0}{2}+\\frac{1}{4}\\right)}|1\\rangle\\right)$ = $\\mathrm{e}^{2 \\pi \\mathrm{i}\\left(\\frac{1}{4}\\right)}$  = $\\mathrm{e}^{\\frac{\\pi }{2}\\mathrm{i}}$ Rotation = i\n",
        "\n",
        "* <font color=\"blue\">$\\tilde{x_2}$ = </font>$\\frac{1}{\\sqrt{2}}\\left(|0\\rangle+\\mathrm{e}^{\\pi \\mathrm{i}x_2}|1\\rangle\\right)$ = $\\frac{1}{\\sqrt{2}}\\left(|0\\rangle+\\mathrm{e}^{\\pi \\mathrm{i}1}|1\\rangle\\right)$ = $\\mathrm{e}^{\\pi \\mathrm{i}}$ Rotation = -1"
      ]
    },
    {
      "cell_type": "markdown",
      "metadata": {
        "id": "z7kKULRCbwEm"
      },
      "source": [
        "*Results for 2: $x_1$ = 1, $x_2$ = 0*\n",
        "\n",
        "* <font color=\"blue\">$\\tilde{x_1}$ =</font> $\\frac{1}{\\sqrt{2}}\\left(|0\\rangle+\\mathrm{e}^{2 \\pi \\mathrm{i}\\left(\\frac{x_1}{2}+\\frac{x_2}{4}\\right)}|1\\rangle\\right)$ = $\\frac{1}{\\sqrt{2}}\\left(|0\\rangle+\\mathrm{e}^{2 \\pi \\mathrm{i}\\left(\\frac{1}{2}+\\frac{0}{4}\\right)}|1\\rangle\\right)$ = $\\mathrm{e}^{2 \\pi \\mathrm{i}\\left(\\frac{1}{2}\\right)}$  = $\\mathrm{e}^{\\pi \\mathrm{i}}$ Rotation = -1\n",
        "\n",
        "* <font color=\"blue\">$\\tilde{x_2}$ = </font>$\\frac{1}{\\sqrt{2}}\\left(|0\\rangle+\\mathrm{e}^{\\pi \\mathrm{i}x_2}|1\\rangle\\right)$ = $\\frac{1}{\\sqrt{2}}\\left(|0\\rangle+\\mathrm{e}^{\\pi \\mathrm{i}1}|1\\rangle\\right)$ = $\\mathrm{e}^{\\pi \\mathrm{i}}$ Rotation = -1"
      ]
    },
    {
      "cell_type": "markdown",
      "metadata": {
        "id": "IdQm-1FyUCv7"
      },
      "source": [
        "*Results for 3: $x_1$ = 1, $x_2$ = 1*\n",
        "\n",
        "* <font color=\"blue\">$\\tilde{x_1}$ =</font> $\\frac{1}{\\sqrt{2}}\\left(|0\\rangle+\\mathrm{e}^{2 \\pi \\mathrm{i}\\left(\\frac{x_1}{2}+\\frac{x_2}{4}\\right)}|1\\rangle\\right)$ = $\\frac{1}{\\sqrt{2}}\\left(|0\\rangle+\\mathrm{e}^{2 \\pi \\mathrm{i}\\left(\\frac{1}{2}+\\frac{1}{4}\\right)}|1\\rangle\\right)$ = $\\mathrm{e}^{2 \\pi \\mathrm{i}\\left(\\frac{2}{4}+\\frac{1}{4}\\right)}$  = $\\mathrm{e}^{1,5 \\pi \\mathrm{i}}$ Rotation = -i\n",
        "\n",
        "* <font color=\"blue\">$\\tilde{x_2}$ = </font>$\\frac{1}{\\sqrt{2}}\\left(|0\\rangle+\\mathrm{e}^{\\pi \\mathrm{i}x_2}|1\\rangle\\right)$ = $\\frac{1}{\\sqrt{2}}\\left(|0\\rangle+\\mathrm{e}^{\\pi \\mathrm{i}1}|1\\rangle\\right)$ = $\\mathrm{e}^{\\pi \\mathrm{i}}$ Rotation = -1"
      ]
    },
    {
      "cell_type": "code",
      "metadata": {
        "colab": {
          "base_uri": "https://localhost:8080/"
        },
        "id": "jQTyJh-JcZmd",
        "outputId": "860ed1be-bfa3-45f0-9d86-5ee8fbd6e813"
      },
      "source": [
        "def make_qft(qubits):\n",
        "\n",
        "    # Generate list of qubits\n",
        "    qreg = list(qubits)\n",
        "    \n",
        "    # Make sure list is longer than 0 qubits:\n",
        "    while len(qreg) > 0:\n",
        "    \n",
        "    # Remove first qubit from list and return its value (set as head-qubit):\n",
        "        q_head = qreg.pop(0)\n",
        "    \n",
        "    # Apply Hadamard superposition to this head-qubit\n",
        "        yield cirq.H(q_head)\n",
        "\n",
        "    # Enumerate through list with i (index position) and corresponding qubit value (0 or 1)\n",
        "        for i, qubit in enumerate(qreg):\n",
        "\n",
        "    # Apply Controlled-Z * Theta-Phase-Shift on target ('q-head') if control-qubit ('qubit') is in state 1\n",
        "            yield (cirq.CZ ** (1 / 2 ** (i + 1)))(qubit, q_head)\n",
        "\n",
        "    # Iterating through until \"while len(qreg) = 0\", then processes stops\n",
        "\n",
        "\"\"\"Visually check the QFT circuit.\"\"\"\n",
        "qubits = cirq.LineQubit.range(2)\n",
        "qft = cirq.Circuit(make_qft(qubits))\n",
        "print(qft)"
      ],
      "execution_count": null,
      "outputs": [
        {
          "output_type": "stream",
          "name": "stdout",
          "text": [
            "0: ───H───@───────────\n",
            "          │\n",
            "1: ───────@^0.5───H───\n"
          ]
        }
      ]
    },
    {
      "cell_type": "markdown",
      "metadata": {
        "id": "Kt9QaDRxdkOo"
      },
      "source": [
        "###### **<font color=\"black\">Quantum Fourier Transform with 3 Qubits**"
      ]
    },
    {
      "cell_type": "markdown",
      "metadata": {
        "id": "6B2JTnl2EanL"
      },
      "source": [
        "**QFT**\n",
        "\n",
        "> <font color=\"blue\">$e^{2\\pi i}$ = 1\n",
        "\n",
        "> In QFT we change the phase <font color=\"blue\">$\\theta$ in $e^{2\\pi i \\theta}$</font> (=Eigenvalue of Oracle function $U$ associated with an eigenvector |u⟩)\n",
        "\n",
        "> Phase <font color=\"blue\">$\\theta$ is $\\frac{x_n}{2^{k}}$ with $x_n$ 0 or 1</font> state and $k$ number of Qubits.\n",
        "\n",
        "A controlled-R quantum gate applies a relative phase change to |1>. \n",
        "\n",
        "> The matrix form of this operator is: <font color=\"blue\">$\\hat{R}_{k}=\\left(\\begin{array}{cc}1 & 0 \\\\ 0 & e^{2 \\pi i / 2^{k}}\\end{array}\\right)$"
      ]
    },
    {
      "cell_type": "markdown",
      "metadata": {
        "id": "rvyYOum0aIIm"
      },
      "source": [
        "**For n = 3 Qubits. Results for: $x_1 = 1$, $x_2 = 1$, $x_3 = 1$**\n",
        "\n",
        "> <font color=\"blue\">$\\tilde{x_1}$ = $\\frac{1}{\\sqrt{2}}\\left(|0\\rangle+\\mathrm{e}^{2 \\pi \\mathrm{i}\\left(\\frac{\\mathrm{x}_{1}}{2^{n_{x_1}}}+\\frac{x_{2}}{2^{n_{x_2}}}+\\frac{x_{3}}{2^{n_{x_3}}}\\right)}|1\\rangle\\right)$</font> = $\\frac{1}{\\sqrt{2}}\\left(|0\\rangle+\\mathrm{e}^{2 \\pi \\mathrm{i}\\left(\\frac{\\mathrm{x}_{1}}{2^1}+\\frac{x_{2}}{2^2}+\\frac{x_{3}}{2^3}\\right)}|1\\rangle\\right)$  = $\\frac{1}{\\sqrt{2}}\\left(|0\\rangle+\\mathrm{e}^{2 \\pi \\mathrm{i}\\left(\\frac{\\mathrm{x}_{1}}{2}+\\frac{x_{2}}{4}+\\frac{x_{3}}{8}\\right)}|1\\rangle\\right)$\n",
        "\n",
        "* Falls nur $\\tilde{x_1}$ aktiviert, dann ist es eine Z-Rotation im Wert von $\\pi$ = -1\n",
        "\n",
        "* Falls nur $\\tilde{x_2}$ aktiviert, dann ist es eine S-Rotation im Wert von $\\frac{\\pi}{2}$ = i\n",
        "\n",
        "* Falls nur $\\tilde{x_3}$ aktiviert, dann ist es eine T-Rotation im Wert von $\\frac{\\pi}{4}$ = zwischen 1 und i\n",
        "\n",
        "> <font color=\"blue\">$\\tilde{x_2}$ = $\\frac{1}{\\sqrt{2}}\\left(|0\\rangle+\\mathrm{e}^{2 \\pi \\mathrm{i}\\left(\\frac{x_2}{2^{n_{x_1}}}+\\frac{x_3}{2^{n_{x_2}}}\\right)}|1\\rangle\\right)$</font> = $\\frac{1}{\\sqrt{2}}\\left(|0\\rangle+\\mathrm{e}^{2 \\pi \\mathrm{i}\\left(\\frac{x_2}{2^1}+\\frac{x_3}{2^2}\\right)}|1\\rangle\\right)$ = $\\frac{1}{\\sqrt{2}}\\left(|0\\rangle+\\mathrm{e}^{2 \\pi \\mathrm{i}\\left(\\frac{x_2}{2}+\\frac{x_3}{4}\\right)}|1\\rangle\\right)$\n",
        "\n",
        "* Falls nur $\\tilde{x_2}$ aktiviert, dann ist es eine Z-Rotation im Wert von $\\pi$ = -1\n",
        "\n",
        "* Falls nur $\\tilde{x_3}$ aktiviert, dann ist es eine S-Rotation im Wert von $\\frac{\\pi}{2}$ = i\n",
        "\n",
        "* Falls beide $\\tilde{x_2}$ und $\\tilde{x_3}$ aktiviert, dann ist es eine Rotation $\\pi$ + $\\frac{\\pi}{2}$ = -i\n",
        "\n",
        "> <font color=\"blue\">$\\tilde{x_3}$ = $\\frac{1}{\\sqrt{2}}\\left(|0\\rangle+\\mathrm{e}^{2 \\pi \\mathrm{i}\\left(\\frac{x_3}{2^{n_{x_1}}}\\right)}|1\\rangle\\right)$</font> = $\\frac{1}{\\sqrt{2}}\\left(|0\\rangle+\\mathrm{e}^{2 \\pi \\mathrm{i}\\left(\\frac{x_3}{2^1}\\right)}|1\\rangle\\right)$ = $\\frac{1}{\\sqrt{2}}\\left(|0\\rangle+\\mathrm{e}^{\\pi \\mathrm{i}x_3}|1\\rangle\\right)$\n",
        "\n",
        "* Falls aktiviert, dann ist $\\tilde{x_3}$ immer eine Z-Rotation im Wert von $\\pi$.\n"
      ]
    },
    {
      "cell_type": "markdown",
      "metadata": {
        "id": "8yRvhK-ihzM7"
      },
      "source": [
        "Use these to check calculations:"
      ]
    },
    {
      "cell_type": "markdown",
      "metadata": {
        "id": "iuDwy1VqhxXs"
      },
      "source": [
        "https://javafxpert.github.io/grok-bloch/"
      ]
    },
    {
      "cell_type": "markdown",
      "metadata": {
        "id": "aQNWGX4lhyuF"
      },
      "source": [
        "https://www.st-andrews.ac.uk/physics/quvis/simulations_html5/sims/blochsphere/blochsphere.html"
      ]
    },
    {
      "cell_type": "markdown",
      "metadata": {
        "id": "BZZ4WG-seIUj"
      },
      "source": [
        "*Formel für Quantum Fourier Transform:*"
      ]
    },
    {
      "cell_type": "markdown",
      "metadata": {
        "id": "Ve3FvoKmeAfE"
      },
      "source": [
        "![ggg](https://raw.githubusercontent.com/deltorobarba/repo/master/quantum_047.png)"
      ]
    },
    {
      "cell_type": "markdown",
      "metadata": {
        "id": "TMSfAVtgeNsB"
      },
      "source": [
        "*Visualisierung eines QFT in 3 Qubits im Computational State |000>:*"
      ]
    },
    {
      "cell_type": "markdown",
      "metadata": {
        "id": "JIpnDOQD0M8V"
      },
      "source": [
        "![ggg](https://raw.githubusercontent.com/deltorobarba/repo/master/quantum_050.png)"
      ]
    },
    {
      "cell_type": "markdown",
      "metadata": {
        "id": "aSpL_EdpeYxc"
      },
      "source": [
        "*QFT mit 3 Qubits in einem Circuit mit S- und T-Gates:*"
      ]
    },
    {
      "cell_type": "markdown",
      "metadata": {
        "id": "J6KB50KcvvVC"
      },
      "source": [
        "![ggg](https://raw.githubusercontent.com/deltorobarba/repo/master/quantum_076.jpg)"
      ]
    },
    {
      "cell_type": "markdown",
      "metadata": {
        "id": "MkCgM7yrmmQj"
      },
      "source": [
        "> **Wenn man im Hadamard + Status beginnt, und wendet dann ein S -Gate an, entspricht das einer Rotation 𝜋/2. Das entspricht 𝜇 und ist i. T ist entsprechend eine Rotation 𝜋/4.**"
      ]
    },
    {
      "cell_type": "markdown",
      "metadata": {
        "id": "IWQGtfWZr9eh"
      },
      "source": [
        "*Berechnung eines QFT in 3 Qubits im Computational State |011>:*"
      ]
    },
    {
      "cell_type": "markdown",
      "metadata": {
        "id": "Yiw8JVwyrXJ5"
      },
      "source": [
        "![gg](https://raw.githubusercontent.com/deltorobarba/repo/master/quantum_114.jpg)\n"
      ]
    },
    {
      "cell_type": "markdown",
      "metadata": {
        "id": "xgT0F6uYrj8-"
      },
      "source": [
        "Ein Z-Gate ist dann in x1, weil $\\pi$\\2"
      ]
    },
    {
      "cell_type": "markdown",
      "metadata": {
        "id": "h0VcRa7Gr0kS"
      },
      "source": [
        "![gg](https://raw.githubusercontent.com/deltorobarba/repo/master/quantum_072.png)\n"
      ]
    },
    {
      "cell_type": "markdown",
      "metadata": {
        "id": "T3lO3PGav1-q"
      },
      "source": [
        "https://www.cl.cam.ac.uk/teaching/1920/QuantComp/Quantum_Computing_Lecture_9.pdf"
      ]
    },
    {
      "cell_type": "markdown",
      "metadata": {
        "id": "iHos0ZygsCE-"
      },
      "source": [
        "**Berechnung eines QFT in 3 Qubits im Computational State |001>:**"
      ]
    },
    {
      "cell_type": "markdown",
      "metadata": {
        "id": "ffaW3YElV_vG"
      },
      "source": [
        "![ggg](https://raw.githubusercontent.com/deltorobarba/repo/master/quantum_075.jpg)"
      ]
    },
    {
      "cell_type": "markdown",
      "metadata": {
        "id": "0hjkvW3MytXm"
      },
      "source": [
        "In die Formel oben eingegeben für ein 3 Qubit mit $x_1=0, x_2=0$ und $x_3=1$ ergibt sich folgendes in umgekehrter Reihenfolge (deswegen muss das Swap-Gate machträglich angewandt werden):\n",
        "\n",
        "* Qubit $x_1$ (=ohne Swap-Gate wie oben $x_3$): $e^{\\frac{2 * \\pi * i * 1}{2^{1}}}=-1$ (Z-Gate, weil negativ Hadamard)\n",
        "\n",
        "* Qubit $x_2$: $e^{\\frac{2 * \\pi * i * 1}{2^{2}}}=e^{\\frac{2 * \\pi * i * 1}{4}}=\\mathrm{i}$ (=S-Gate)\n",
        "\n",
        "* Qubit $x_3$ (=$x_1$ im circuit oben): $e^{\\frac{2 * \\pi * i * 1}{2^{3}}}=e^{\\frac{2 * \\pi * i * 1}{8}}=e^{\\frac{\\pi i}{4}}$ (=T-Gate transform)\n",
        "\n",
        "Controlled U-ROT Gate: immer da, wo control qubit eine 1 ist, wird die entsprechende Rotation übernommen, bei 0 hingegen passiert nix.\n",
        "\n",
        "Das stimmt überein mit der folgenden geometrischen Darstellung (*3 Qubit Quantum Fourier transformation with 001 in computational state: first state is 180 degree rotated, secind by 90 degree, third by 45 degree from Hadamard + Superposition state - Rotationen werden durch UROT gates bestimmt, und aktiviert überall do, wo control =1 ist*):\n"
      ]
    },
    {
      "cell_type": "markdown",
      "metadata": {
        "id": "RPai3gA7zQmV"
      },
      "source": [
        "![ggg](https://raw.githubusercontent.com/deltorobarba/repo/master/quantum_051.png)"
      ]
    },
    {
      "cell_type": "markdown",
      "metadata": {
        "id": "M6vTN7AbqyHZ"
      },
      "source": [
        "Mit der neuen Formel von unten $e^{\\frac{2 \\pi i x}{2^n}}$ angewandt für obiges Beispiel: 001 is 1 = x in decimal, und 3 Qubits n= 1,2 und 3:\n",
        "\n",
        "* Qubit 0: $e^{\\frac{2*\\pi* i*1}{2^1}}$ = -1 (korrekt siehe oben)\n",
        "\n",
        "* Qubit 1: $e^{\\frac{2*\\pi* i*1}{2^2}}$ = $e^{\\frac{2*\\pi* i*1}{4}}$ = i (korrekt siehe oben)\n",
        "\n",
        "* Qubit 2: $e^{\\frac{2*\\pi* i*1}{2^3}}$ = $e^{\\frac{2*\\pi* i*1}{8}}$= \n",
        "\n",
        "  * Müsste sein laut Bloch sphere: $e^{i * {\\pi / 4}}$ bzw. $e^{i* (0,25 *\\pi)}$\n",
        "\n",
        "  * Laut Berechnung mit Formel unten: $e^{\\frac{2 \\pi i 1}{8}}$ = $e^{\\frac{\\pi i}{4}}$ = $e^{(0,25*\\pi) * i}$ = korrekt!!\n",
        "\n",
        "  * check geometrically [here](https://javafxpert.github.io/grok-bloch/) und [here](https://www.st-andrews.ac.uk/physics/quvis/simulations_html5/sims/blochsphere/blochsphere.html)\n",
        "\n",
        "  * Das ist übrigens das T gate (halbes s gate, was ein halbes z gate ist). siehe unten beispiel bei phase estimation."
      ]
    },
    {
      "cell_type": "markdown",
      "metadata": {
        "id": "kOL6OubotHk0"
      },
      "source": [
        "**Unten: 5 = 101 in der Fourier Basis**"
      ]
    },
    {
      "cell_type": "markdown",
      "metadata": {
        "id": "RpaBjhdMs_Ux"
      },
      "source": [
        "https://qiskit.org/textbook/ch-algorithms/quantum-phase-estimation.html#creating_the_circuit"
      ]
    },
    {
      "cell_type": "markdown",
      "metadata": {
        "id": "pX9RQCdstBN1"
      },
      "source": [
        "![ggg](https://raw.githubusercontent.com/deltorobarba/repo/master/quantum_116.png)"
      ]
    },
    {
      "cell_type": "markdown",
      "metadata": {
        "id": "Ecb9-K-qDVbT"
      },
      "source": [
        "* The number we want to store dictates the angle at which each qubit is rotated around the Z-axis. \n",
        "\n",
        "* In the state $|\\tilde{0}\\rangle$, all qubits are in the state $|+\\rangle$. \n",
        "\n",
        "* In the example above, to encode the state $|\\tilde{5}\\rangle$ (=101) on n=3 qubits, we rotated the leftmost qubit by $\\frac{5}{2^{n}}=\\frac{5}{8}$ full turns $\\left(\\frac{5}{8} \\times 2 \\pi\\right.$ radians). \n",
        "\n",
        "* The next qubit is turned double this $\\left(\\frac{10}{8} \\times 2 \\pi\\right.$ radians, or $\\frac{10}{8}$ full turns), this angle is then doubled for the qubit after, and so on.\n",
        "\n",
        "* **Note the frequency with which each qubit changes. The leftmost qubit (qubit 0 ) in this case has the lowest frequency, and the rightmost the highest.**"
      ]
    },
    {
      "cell_type": "markdown",
      "metadata": {
        "id": "fQ7tCZRetUEX"
      },
      "source": [
        "* In the Fourier basis the topmost qubit completes one full rotation when counting between 0 and $2^{t}$ .\n",
        "\n",
        "* To count to a number, $x$ between 0 and $2^{t}$ (t = qubits), we rotate this qubit by $\\frac{x}{2^{t}}$ around the z-axis. \n",
        "\n",
        "* For the next qubit we rotate by $\\frac{2 x}{2^{t}}$, then $\\frac{4 x}{2^{t}}$ for the third qubit. In this case x is not 0 or 1, but the decimal number = 5 !!!"
      ]
    },
    {
      "cell_type": "markdown",
      "metadata": {
        "id": "nTD0YHtHuRtG"
      },
      "source": [
        "> x1 = $\\frac{1}{\\sqrt{2}}\\left(|0\\rangle+\\mathrm{e}^{2 \\pi \\mathrm{i}\\left(\\frac{\\mathrm{x}_{1}}{2}+\\frac{x_{2}}{4}+\\frac{x_{3}}{8}\\right)}|1\\rangle\\right)$ = $\\frac{1}{\\sqrt{2}}\\left(|0\\rangle+\\mathrm{e}^{2 \\pi \\mathrm{i}\\left(\\frac{1}{2}+\\frac{0}{4}+\\frac{1}{8}\\right)}|1\\rangle\\right)$ = $\\frac{1}{\\sqrt{2}}\\left(|0\\rangle+\\mathrm{e}^{2 \\pi \\mathrm{i}\\left(\\frac{1}{2}+\\frac{1}{8}\\right)}|1\\rangle\\right)$ \n",
        "\n",
        "> = $\\frac{1}{\\sqrt{2}}\\left(|0\\rangle+\\mathrm{e}^{2 \\pi \\mathrm{i}\\left(\\frac{4}{8}+\\frac{1}{8}\\right)}|1\\rangle\\right)$ = $\\frac{1}{\\sqrt{2}}\\left(|0\\rangle+\\mathrm{e}^{2 \\pi \\mathrm{i}\\left(\\frac{5}{8}\\right)}|1\\rangle\\right)$= $\\mathrm{e}^{1,25 * \\pi \\mathrm{i}}$ fur qubit 0 (roter Pfeil ist dann zwischen -1 und -i)\n"
      ]
    },
    {
      "cell_type": "markdown",
      "metadata": {
        "id": "OQkr4N9XyBqc"
      },
      "source": [
        "**Achtung**: In $\\frac{1}{\\sqrt{2}}\\left(|0\\rangle+\\mathrm{e}^{2 \\pi \\mathrm{i}\\left(\\frac{\\mathrm{x}_{1}}{2}+\\frac{x_{2}}{4}+\\frac{x_{3}}{8}\\right)}|1\\rangle\\right)$ diser Teil ist die **Phase $\\theta$** = $(\\frac{\\mathrm{x}_{1}}{2}+\\frac{x_{2}}{4}+\\frac{x_{3}}{8})$ und $\\mathrm{e}^{2 \\pi \\mathrm{i}}$ = 1 (spater wichtig fur Phase Estimation)."
      ]
    },
    {
      "cell_type": "markdown",
      "metadata": {
        "id": "U6yxGVQlvzV2"
      },
      "source": [
        "> x2 = $\\frac{1}{\\sqrt{2}}\\left(|0\\rangle+\\mathrm{e}^{2 \\pi \\mathrm{i}\\left(\\frac{0}{2}+\\frac{1}{4}\\right)}|1\\rangle\\right)$ = $e^{0,5 * \\pi i} $ fur qubit 1\n"
      ]
    },
    {
      "cell_type": "markdown",
      "metadata": {
        "id": "RxUuQV81uQwu"
      },
      "source": [
        "\n",
        "\n",
        "> x3 = $\\frac{1}{\\sqrt{2}}\\left(|0\\rangle+\\mathrm{e}^{\\pi \\mathrm{i} 0}|1\\rangle\\right)$ = $e^{\\pi i 0} = -1$ fur fur qubit 2 "
      ]
    },
    {
      "cell_type": "markdown",
      "metadata": {
        "id": "WYfMuYkhknYC"
      },
      "source": [
        "**Weitere Kombinationen**"
      ]
    },
    {
      "cell_type": "markdown",
      "metadata": {
        "id": "Vtk6rwPMzvBs"
      },
      "source": [
        "![ggg](https://raw.githubusercontent.com/deltorobarba/repo/master/quantum_075.jpg)"
      ]
    },
    {
      "cell_type": "markdown",
      "metadata": {
        "id": "Qz0azdIL3W5N"
      },
      "source": [
        "![ggg](https://raw.githubusercontent.com/deltorobarba/repo/master/quantum_069.png)"
      ]
    },
    {
      "cell_type": "markdown",
      "metadata": {
        "id": "L9RtUh5w3Z6j"
      },
      "source": [
        "![ggg](https://raw.githubusercontent.com/deltorobarba/repo/master/quantum_070.png)"
      ]
    },
    {
      "cell_type": "markdown",
      "metadata": {
        "id": "CAjSjT0B3baV"
      },
      "source": [
        "![ggg](https://raw.githubusercontent.com/deltorobarba/repo/master/quantum_071.png)"
      ]
    },
    {
      "cell_type": "markdown",
      "metadata": {
        "id": "mv4JG6CpgZx9"
      },
      "source": [
        "> x1 = $\\frac{1}{\\sqrt{2}}\\left(|0\\rangle+\\mathrm{e}^{2 \\pi \\mathrm{i}\\left(\\frac{\\mathrm{x}_{1}}{2}+\\frac{x_{2}}{4}+\\frac{x_{3}}{8}\\right)}|1\\rangle\\right)$ = $\\frac{1}{\\sqrt{2}}\\left(|0\\rangle+\\mathrm{e}^{2 \\pi \\mathrm{i}\\left(\\frac{0}{2}+\\frac{1}{4}+\\frac{0}{8}\\right)}|1\\rangle\\right)$ = $\\mathrm{e}^{\\pi \\mathrm{i}/2}$ = qubit 0\n",
        "\n",
        "> x2 = $\\frac{1}{\\sqrt{2}}\\left(|0\\rangle+\\mathrm{e}^{2 \\pi \\mathrm{i}\\left(\\frac{1}{2}+\\frac{0}{4}\\right)}|1\\rangle\\right)$ = $e^{\\pi i} = -$ = qubit 1\n",
        "\n",
        "> x3 = $\\frac{1}{\\sqrt{2}}\\left(|0\\rangle+\\mathrm{e}^{\\pi \\mathrm{i} 0}|1\\rangle\\right)$ = $e^{\\pi i 0} = 1$ = qubit 2"
      ]
    },
    {
      "cell_type": "markdown",
      "metadata": {
        "id": "SOibyHr_3crV"
      },
      "source": [
        "![ggg](https://raw.githubusercontent.com/deltorobarba/repo/master/quantum_072.png)"
      ]
    },
    {
      "cell_type": "markdown",
      "metadata": {
        "id": "8ryBG3pd0GiR"
      },
      "source": [
        "> $\\frac{1}{\\sqrt{2}}\\left(|0\\rangle+\\mathrm{e}^{2 \\pi i\\left(\\frac{x_{1}}{2}+\\frac{x_{2}}{4}+\\frac{x_{3}}{8}\\right)}|1\\rangle\\right)$ = $e^{2* \\pi i (1/4 + 1/8)}$ = $e^{0,75 \\pi i}$ = qubit 0\n",
        "\n",
        "> $\\frac{1}{\\sqrt{2}}\\left(|0\\rangle+\\mathrm{e}^{2 \\pi i\\left(\\frac{x_{2}}{2}+\\frac{x_{3}}{4}\\right)}|1\\rangle\\right)$ = $e^{1,5* \\pi i}$ = $e^{i 3*\\pi/2}$ =  -i = qubit 1\n",
        "\n",
        "> $\\frac{1}{\\sqrt{2}}\\left(|0\\rangle+\\mathrm{e}^{\\pi i x_3}|1\\rangle\\right)$ = $e^{\\pi i 1}$ = -1 (Hadamard negativ) fur qubit 2"
      ]
    },
    {
      "cell_type": "markdown",
      "metadata": {
        "id": "P_oCKNQoWrJM"
      },
      "source": [
        "###### **<font color=\"black\">Quantum Fourier Transform: Cirq Code Example**"
      ]
    },
    {
      "cell_type": "markdown",
      "metadata": {
        "id": "uWp3l3bZtNjL"
      },
      "source": [
        "https://www.mlq.ai/quantum-programming-google-cirq/"
      ]
    },
    {
      "cell_type": "markdown",
      "metadata": {
        "id": "OatV0_6z06Aj"
      },
      "source": [
        "https://quantumai.google/cirq/tutorials/educators/textbook_algorithms"
      ]
    },
    {
      "cell_type": "code",
      "metadata": {
        "id": "FJH1lHD3gSo-"
      },
      "source": [
        "def make_qft(qubits):\n",
        "\n",
        "    # Generate list of qubits\n",
        "    qreg = list(qubits)\n",
        "    \n",
        "    # Make sure list is longer than 0 qubits:\n",
        "    while len(qreg) > 0:\n",
        "    \n",
        "    # Remove first qubit from list and return its value (set as head-qubit):\n",
        "        q_head = qreg.pop(0)\n",
        "    \n",
        "    # Apply Hadamard superposition to this head-qubit\n",
        "        yield cirq.H(q_head)\n",
        "\n",
        "    # Enumerate through list with i (index position) and corresponding qubit value (0 or 1)\n",
        "        for i, qubit in enumerate(qreg):\n",
        "\n",
        "    # Apply Controlled-Z * Theta-Phase-Shift on target ('q-head') if control-qubit ('qubit') is in state 1\n",
        "            yield (cirq.CZ ** (1 / 2 ** (i + 1)))(qubit, q_head)\n",
        "\n",
        "    # Iterating through until \"while len(qreg) = 0\", then processes stops"
      ],
      "execution_count": null,
      "outputs": []
    },
    {
      "cell_type": "markdown",
      "metadata": {
        "id": "pq9iZuED9nT5"
      },
      "source": [
        "https://realpython.com/python-enumerate/"
      ]
    },
    {
      "cell_type": "markdown",
      "metadata": {
        "id": "B-fvz--23UBh"
      },
      "source": [
        "$C R_{j}=C Z^{1 / 2^{j-1}}$\n",
        "\n",
        "* $Z$ entspricht $\\pi$ (ein halber Kreis, zB von +1 zu -1 auf X-Achse) \n",
        "\n",
        "* $S$ entspricht $\\frac{\\pi}{2}$, also wenn qubit 1 = 1, dann bei qubit 0 das $S$ transform anwenden (0,5)\n",
        "\n",
        "  * S: The square root of Z gate, equivalent to cirq.Z ** 0.5\n",
        "\n",
        "  * See: https://quantumai.google/cirq/gates\n",
        "\n",
        "* $T$ entspricht $\\frac{\\pi}{4}$"
      ]
    },
    {
      "cell_type": "code",
      "metadata": {
        "colab": {
          "base_uri": "https://localhost:8080/"
        },
        "id": "D7s60RrUgWEH",
        "outputId": "2e6a3181-6734-4f4e-b512-f1bb83f6337c"
      },
      "source": [
        "\"\"\"Visually check the QFT circuit.\"\"\"\n",
        "qubits = cirq.LineQubit.range(3)\n",
        "qft = cirq.Circuit(make_qft(qubits))\n",
        "print(qft)"
      ],
      "execution_count": null,
      "outputs": [
        {
          "output_type": "stream",
          "name": "stdout",
          "text": [
            "                  ┌───────┐\n",
            "0: ───H───@────────@──────────────────────\n",
            "          │        │\n",
            "1: ───────@^0.5────┼─────H────@───────────\n",
            "                   │          │\n",
            "2: ────────────────@^0.25─────@^0.5───H───\n",
            "                  └───────┘\n"
          ]
        }
      ]
    },
    {
      "cell_type": "code",
      "metadata": {
        "colab": {
          "base_uri": "https://localhost:8080/"
        },
        "id": "eYSQlnJT8xw9",
        "outputId": "14e53ecf-267c-4b24-c36c-a2ddfa4b1915"
      },
      "source": [
        "qreg = list(qubits)\n",
        "qreg"
      ],
      "execution_count": null,
      "outputs": [
        {
          "output_type": "execute_result",
          "data": {
            "text/plain": [
              "[cirq.LineQubit(0), cirq.LineQubit(1), cirq.LineQubit(2), cirq.LineQubit(3)]"
            ]
          },
          "metadata": {},
          "execution_count": 32
        }
      ]
    },
    {
      "cell_type": "markdown",
      "metadata": {
        "id": "2YS8WU-x2bSA"
      },
      "source": [
        "![ggg](https://raw.githubusercontent.com/deltorobarba/repo/master/quantum_076.jpg)"
      ]
    },
    {
      "cell_type": "markdown",
      "metadata": {
        "id": "S61rSBc81fWg"
      },
      "source": [
        "![gg](https://raw.githubusercontent.com/deltorobarba/repo/master/quantum_114.jpg)\n"
      ]
    },
    {
      "cell_type": "markdown",
      "metadata": {
        "id": "lroVQifD2Wza"
      },
      "source": [
        "![ggg](https://raw.githubusercontent.com/deltorobarba/repo/master/quantum_075.jpg)"
      ]
    },
    {
      "cell_type": "code",
      "metadata": {
        "colab": {
          "base_uri": "https://localhost:8080/"
        },
        "id": "ToIvGgZA0np3",
        "outputId": "99ca0e89-c3aa-402d-a55f-7a679974def8"
      },
      "source": [
        "\"\"\"Visually check the QFT circuit.\"\"\"\n",
        "qubits = cirq.LineQubit.range(4)\n",
        "qft = cirq.Circuit(make_qft(qubits))\n",
        "print(qft)"
      ],
      "execution_count": null,
      "outputs": [
        {
          "output_type": "stream",
          "name": "stdout",
          "text": [
            "                  ┌───────┐   ┌────────────┐   ┌───────┐\n",
            "0: ───H───@────────@───────────@───────────────────────────────────────\n",
            "          │        │           │\n",
            "1: ───────@^0.5────┼─────H─────┼──────@─────────@──────────────────────\n",
            "                   │           │      │         │\n",
            "2: ────────────────@^0.25──────┼──────@^0.5─────┼─────H────@───────────\n",
            "                               │                │          │\n",
            "3: ────────────────────────────@^(1/8)──────────@^0.25─────@^0.5───H───\n",
            "                  └───────┘   └────────────┘   └───────┘\n"
          ]
        }
      ]
    },
    {
      "cell_type": "code",
      "metadata": {
        "colab": {
          "base_uri": "https://localhost:8080/"
        },
        "id": "VLaH1fQk0uxo",
        "outputId": "d45872a3-2eb5-4f02-d07b-2f25cb9aeebf"
      },
      "source": [
        "\"\"\"Visually check the QFT circuit.\"\"\"\n",
        "qubits = cirq.LineQubit.range(8)\n",
        "qft = cirq.Circuit(make_qft(qubits))\n",
        "print(qft)"
      ],
      "execution_count": null,
      "outputs": [
        {
          "output_type": "stream",
          "name": "stdout",
          "text": [
            "                  ┌───────┐   ┌────────────┐   ┌───────────────┐   ┌───────────────────┐   ┌──────────────────────┐   ┌──────────────────────────┐   ┌──────────────────────┐   ┌───────────────────┐   ┌───────────────┐   ┌────────────┐   ┌───────┐\n",
            "0: ───H───@────────@───────────@────────────────@───────────────────@───────────────────────@──────────────────────────@─────────────────────────────────────────────────────────────────────────────────────────────────────────────────────────────────────────────\n",
            "          │        │           │                │                   │                       │                          │\n",
            "1: ───────@^0.5────┼─────H─────┼──────@─────────┼───────@───────────┼──────@────────────────┼──────@───────────────────┼──────@───────────────────────@──────────────────────────────────────────────────────────────────────────────────────────────────────────────\n",
            "                   │           │      │         │       │           │      │                │      │                   │      │                       │\n",
            "2: ────────────────@^0.25──────┼──────@^0.5─────┼───────┼─────H─────┼──────┼──────@─────────┼──────┼───────@───────────┼──────┼──────@────────────────┼──────@───────────────────@───────────────────────────────────────────────────────────────────────────────────\n",
            "                               │                │       │           │      │      │         │      │       │           │      │      │                │      │                   │\n",
            "3: ────────────────────────────@^(1/8)──────────┼───────@^0.25──────┼──────┼──────@^0.5─────┼──────┼───────┼─────H─────┼──────┼──────┼──────@─────────┼──────┼───────@───────────┼──────@────────────────@───────────────────────────────────────────────────────────\n",
            "                                                │                   │      │                │      │       │           │      │      │      │         │      │       │           │      │                │\n",
            "4: ─────────────────────────────────────────────@^(1/16)────────────┼──────@^(1/8)──────────┼──────┼───────@^0.25──────┼──────┼──────┼──────@^0.5─────┼──────┼───────┼─────H─────┼──────┼──────@─────────┼───────@───────────@───────────────────────────────────────\n",
            "                                                                    │                       │      │                   │      │      │                │      │       │           │      │      │         │       │           │\n",
            "5: ─────────────────────────────────────────────────────────────────@^0.031─────────────────┼──────@^(1/16)────────────┼──────┼──────@^(1/8)──────────┼──────┼───────@^0.25──────┼──────┼──────@^0.5─────┼───────┼─────H─────┼──────@─────────@──────────────────────\n",
            "                                                                                            │                          │      │                       │      │                   │      │                │       │           │      │         │\n",
            "6: ─────────────────────────────────────────────────────────────────────────────────────────@^0.016────────────────────┼──────@^0.031─────────────────┼──────@^(1/16)────────────┼──────@^(1/8)──────────┼───────@^0.25──────┼──────@^0.5─────┼─────H────@───────────\n",
            "                                                                                                                       │                              │                          │                       │                   │                │          │\n",
            "7: ────────────────────────────────────────────────────────────────────────────────────────────────────────────────────@^0.008────────────────────────@^0.016────────────────────@^0.031─────────────────@^(1/16)────────────@^(1/8)──────────@^0.25─────@^0.5───H───\n",
            "                  └───────┘   └────────────┘   └───────────────┘   └───────────────────┘   └──────────────────────┘   └──────────────────────────┘   └──────────────────────┘   └───────────────────┘   └───────────────┘   └────────────┘   └───────┘\n"
          ]
        }
      ]
    },
    {
      "cell_type": "markdown",
      "metadata": {
        "id": "a2P7AWGVFixc"
      },
      "source": [
        "###### **Inverse Quantum Fourier Transform ('QFT Dagger')**"
      ]
    },
    {
      "cell_type": "markdown",
      "metadata": {
        "id": "t_v2zVb4FlJi"
      },
      "source": [
        "Reminder of QFT:\n",
        "\n",
        "* $QFT\\,\\,|x\\rangle=|\\tilde{x}\\rangle=$ $\\frac{1}{\\sqrt{N}} \\sum_{y=0}^{N-1} e^{\\frac{2 \\pi i}{N} x y} |y\\rangle$\n",
        "\n",
        "**Remember: Dagger is a complex conjugate operation!**\n",
        "\n",
        "QFT inverse (see -2 turning i in -i which is a complex conjugate operation):\n",
        "\n",
        "* $QFT^{\\dagger}|\\tilde{x}\\rangle=|x\\rangle=$ $\\frac{1}{\\sqrt{N}} \\sum_{y=0}^{N-1} e^{\\frac{-2 \\pi i}{N} x y} |y\\rangle$ \n",
        "\n",
        "\n",
        "The operator is then (\n",
        "We have already seen that the Hadamard gate is self-inverse, and the same is clearly true for the SWAP gate; the inverse of the rotations gate $R_k$ is given by):\n",
        "\n",
        "> The matrix form of inverse QFT operator is: <font color=\"blue\">${R^{\\dagger}}_{k}=\\left(\\begin{array}{cc}1 & 0 \\\\ 0 & e^{-2 \\pi i / 2^{k}}\\end{array}\\right)$</font> and compare with QFT operator:  <font color=\"blue\">$\\hat{R}_{k}=\\left(\\begin{array}{cc}1 & 0 \\\\ 0 & e^{2 \\pi i / 2^{k}}\\end{array}\\right)$\n",
        "\n",
        "https://www.cl.cam.ac.uk/teaching/1920/QuantComp/Quantum_Computing_Lecture_9.pdf"
      ]
    },
    {
      "cell_type": "markdown",
      "metadata": {
        "id": "ki7qQITzNkfA"
      },
      "source": [
        "> So for the phase <font color=\"blue\">$\\theta$ in $e^{-2\\pi i \\theta}$</font>, we apply our previous phase <font color=\"blue\">$\\theta$ is $\\frac{x_n}{2^{k}}$ with $x_n$ 0 or 1</font> state and $k$ number of Qubits."
      ]
    },
    {
      "cell_type": "markdown",
      "metadata": {
        "id": "LENSkji0G4Pt"
      },
      "source": [
        "**Example: 1 Qubit, that was in computational state 1**, and is now in Fourier state = -1 = $\\mathrm{e}^{\\pi \\mathrm{i}}$\n",
        "\n",
        "* <font color=\"blue\">$QFT$ für x = 1 $\\Rightarrow$ $\\tilde{x}$</font> = $\\frac{1}{\\sqrt{2}}\\left(|0\\rangle+\\mathrm{e}^{2 \\pi \\mathrm{i}\\left(\\frac{x_1}{2^1}\\right)}|1\\rangle\\right)$ = $\\mathrm{e}^{2 \\pi \\mathrm{i}\\left(\\frac{1}{2}\\right)}$ = $\\mathrm{e}^{\\pi \\mathrm{i}}$ = -1\n",
        "\n",
        "* <font color=\"blue\">$QFT^{\\dagger}$ für $\\tilde{x}$ = -1 $\\Rightarrow$ $x$</font> = $\\frac{1}{\\sqrt{2}}\\left(|0\\rangle+\\mathrm{e}^{-2 \\pi \\mathrm{i}\\left(\\frac{\\tilde{x}}{2^1}\\right)}|1\\rangle\\right)$ = $\\mathrm{e}^{-2 \\pi \\mathrm{i}\\left(\\frac{-1}{2}\\right)}$ = $\\mathrm{e}^{\\pi \\mathrm{i}}$ = -1 multipliziert mit $\\frac{1}{\\sqrt{2}}$ = -0.70710678118 (=eine Bewegung nach unten zum computational state 1 - ?? stimmt das?)"
      ]
    },
    {
      "cell_type": "markdown",
      "metadata": {
        "id": "ZgDh1fKhKx_A"
      },
      "source": [
        "> Remember: $1 / \\sqrt{2} \\approx(0.71+0 i)$ (Es ist 0i weil kein Anteil i auf der Position liegt. siehe S gate und fourier transform.)"
      ]
    }
  ]
}