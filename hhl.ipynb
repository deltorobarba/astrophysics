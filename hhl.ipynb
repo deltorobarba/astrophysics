{
  "nbformat": 4,
  "nbformat_minor": 0,
  "metadata": {
    "colab": {
      "name": "hhl.ipynb",
      "provenance": [],
      "collapsed_sections": [
        "DuqBj0b2Igpf",
        "HTF-4382uo5n",
        "dToaU4Glugq8"
      ],
      "include_colab_link": true
    },
    "kernelspec": {
      "name": "python3",
      "display_name": "Python 3"
    }
  },
  "cells": [
    {
      "cell_type": "markdown",
      "metadata": {
        "id": "view-in-github",
        "colab_type": "text"
      },
      "source": [
        "<a href=\"https://colab.research.google.com/github/deltorobarba/machinelearning/blob/master/hhl.ipynb\" target=\"_parent\"><img src=\"https://colab.research.google.com/assets/colab-badge.svg\" alt=\"Open In Colab\"/></a>"
      ]
    },
    {
      "cell_type": "markdown",
      "metadata": {
        "id": "uYQVihuXzx6u"
      },
      "source": [
        "# **Harrow-Hassidim-Lloyd Algorithm (HHL)**"
      ]
    },
    {
      "cell_type": "code",
      "metadata": {
        "id": "jObfS0OgRhq6"
      },
      "source": [
        "!pip install cirq --quiet\n",
        "import cirq\n",
        "import sympy\n",
        "from cirq.contrib.svg import SVGCircuit\n",
        "import numpy as np\n",
        "import pandas as pd\n",
        "import seaborn as sns\n",
        "import matplotlib.pyplot as plt # %matplotlib inline\n",
        "print(cirq.__version__)"
      ],
      "execution_count": null,
      "outputs": []
    },
    {
      "cell_type": "markdown",
      "metadata": {
        "id": "DuqBj0b2Igpf"
      },
      "source": [
        "###### **<font color=\"blue\">Overview of HHL</font>**"
      ]
    },
    {
      "cell_type": "markdown",
      "metadata": {
        "id": "Ymoe7LgXrWL_"
      },
      "source": [
        "The [quantum algorithm for linear systems of equations](https://en.m.wikipedia.org/wiki/Quantum_algorithm_for_linear_systems_of_equations) designed by Aram Harrow, Avinatan Hassidim, and Seth Lloyd.\n",
        "\n",
        "> is a quantum algorithm for solving linear systems. \n",
        "\n",
        "> The algorithm estimates the result of a scalar measurement on the solution vector to a given linear system of equations.\n",
        "\n",
        "* The algorithm is one of the main fundamental algorithms expected to provide a speedup over their classical counterparts, along with Shor's factoring algorithm, Grover's search algorithm, the quantum fourier transform and quantum simulation. \n",
        "\n",
        "* Provided the linear system is sparse and has a low condition number $\\kappa_{1}$ and that the user is interested in the result of a scalar measurement on the solution vector, instead of the values of the solution vector itself, then the algorithm has a runtime of $O\\left(\\log (N) \\kappa^{2}\\right)$, where $N$ is the number of variables in the linear system. This offers an exponential speedup over the fastest classical algorithm, which runs in $O(N \\kappa)$ (or $O(N \\sqrt{\\kappa})$ for positive semidefinite matrices)."
      ]
    },
    {
      "cell_type": "markdown",
      "metadata": {
        "id": "0pfhXMt-vq9J"
      },
      "source": [
        "**Promise**: \n",
        "\n",
        "* Solving 10,000 linear equation: a classical computer needs in best case 10,000 steps. HHL just 13.\n",
        "\n",
        "* Unlike the classical solutions to the Deutsch-Jozsa and search problems, most of our classical methods for matrix manipulation do work in polynomial time. However, as data analysis becomes more and more powerful (and more and more demanding on today’s computers), the size of these matrices can make even polynomial time too long."
      ]
    },
    {
      "cell_type": "markdown",
      "metadata": {
        "id": "-Nk2sy0ovs5n"
      },
      "source": [
        "**Disadvantages:**\n",
        "\n",
        "* solution vector is not yielded (rather it prepares a quantum state that is proportional to the solution): Actually reading out the solution vector would take O(N)time, so we can only maintain the logarithmic runtime by sampling the solution vector like ⟨x|M|x⟩, where M is a quantum-mechanical operator. Therefore, **HHL is useful mainly in applications where only samples from the solution vector are needed**. \n",
        "\n",
        "* Entries of matrix have to be sparse: Additionally, although HHL is exponentially faster than Conjugate Gradient in N, it is polynomially slower in s and 𝜅, so HHL is restricted to only those matrices that are sparse and have low condition numbers.\n",
        "\n",
        "* Must satisfy robust invertibility (means that entries of matrix must all approx. of same size)\n",
        "\n",
        "* Preparation of input vector is complicated\n"
      ]
    },
    {
      "cell_type": "markdown",
      "metadata": {
        "id": "AkF6-ZITtr7v"
      },
      "source": [
        "https://en.wikipedia.org/wiki/Quantum_algorithm_for_linear_systems_of_equations"
      ]
    },
    {
      "cell_type": "markdown",
      "metadata": {
        "id": "xsCX48YvttGG"
      },
      "source": [
        "https://en.wikipedia.org/wiki/Quantum_optimization_algorithms"
      ]
    },
    {
      "cell_type": "markdown",
      "metadata": {
        "id": "zFxhAdMPyZSq"
      },
      "source": [
        "https://www.quantamagazine.org/a-new-approach-to-multiplication-opens-the-door-to-better-quantum-computers-20190424/"
      ]
    },
    {
      "cell_type": "markdown",
      "metadata": {
        "id": "8rZnrWRuye6T"
      },
      "source": [
        "https://www.quantamagazine.org/teenager-finds-classical-alternative-to-quantum-recommendation-algorithm-20180731/"
      ]
    },
    {
      "cell_type": "markdown",
      "metadata": {
        "id": "CDrgK9b_Pn1J"
      },
      "source": [
        "https://medium.com/mit-6-s089-intro-to-quantum-computing/hhl-solving-linear-systems-of-equations-with-quantum-computing-efb07eb32f74"
      ]
    },
    {
      "cell_type": "markdown",
      "metadata": {
        "id": "RZVFhm-v0-BI"
      },
      "source": [
        "https://qiskit.org/textbook/ch-applications/hhl_tutorial.html"
      ]
    },
    {
      "cell_type": "markdown",
      "metadata": {
        "id": "gRu5vAkIIp5w"
      },
      "source": [
        "https://en.m.wikipedia.org/wiki/Quantum_algorithm_for_linear_systems_of_equations"
      ]
    },
    {
      "cell_type": "markdown",
      "metadata": {
        "id": "HTF-4382uo5n"
      },
      "source": [
        "###### <font color=\"blue\">**Applications of HHL & Familiar methods**"
      ]
    },
    {
      "cell_type": "markdown",
      "metadata": {
        "id": "BIlaaHIR08KF"
      },
      "source": [
        "* Systems of linear equations arise naturally in many real-life applications in a wide range of areas, such as in the solution of Partial Differential Equations, the calibration of financial models, fluid simulation or numerical field calculation. \n",
        "\n",
        "* Makes use of Quantum Phase Estimation\n",
        "\n",
        "* Quantum Matrix Inversion\n",
        "\n",
        "* **Used in many quantum machine learning algorithms as a building block**\n"
      ]
    },
    {
      "cell_type": "markdown",
      "metadata": {
        "id": "YObfeUgOQfyO"
      },
      "source": [
        "**Applications of HHL**\n",
        "\n",
        "* The quantum algorithm for linear systems of equations has been applied to a support vector machine, which is an optimized linear or non-linear binary classifier (https://arxiv.org/abs/1307.0471v2)\n",
        "\n",
        "* for Least-squares fitting (https://arxiv.org/abs/1204.5242)\n",
        "\n",
        "* for finite-element-methods (https://arxiv.org/abs/1512.05903) (but only for higher problems which include solutions with higher-order derivatives and large spatial dimensions. For example, problems in many-body dynamics require the solution of equations containing derivatives on orders scaling with the number of bodies, and some problems in computational finance, such as Black-Scholes models, require large spatial dimensions)"
      ]
    },
    {
      "cell_type": "markdown",
      "metadata": {
        "id": "z8zUGVpJ3__u"
      },
      "source": [
        "**Familiar methods of solutions**\n",
        "\n",
        "* Substitution method\n",
        "* Graphical method\n",
        "* Matrix method\n",
        "* Cramer's rule\n",
        "* Gaussian elimination"
      ]
    },
    {
      "cell_type": "markdown",
      "metadata": {
        "id": "dToaU4Glugq8"
      },
      "source": [
        "###### <font color=\"blue\">**Approach and Subroutines**"
      ]
    },
    {
      "cell_type": "markdown",
      "metadata": {
        "id": "tHP9P0QWxwLB"
      },
      "source": [
        "[Peter Witteg: Quantum Machine Learning - 37 - Overview of the HHL Algorithm](https://m.youtube.com/watch?v=hQpdPM-6wtU)"
      ]
    },
    {
      "cell_type": "markdown",
      "metadata": {
        "id": "GBhbEu38xh-T"
      },
      "source": [
        "[Google Quantum: Quantum Algorithms for Systems of Linear Equations (Quantum Summer Symposium 2020)](https://m.youtube.com/watch?v=Xvp56xeNZo4)"
      ]
    },
    {
      "cell_type": "markdown",
      "metadata": {
        "id": "LKEqJ1OVvYPS"
      },
      "source": [
        "> **Given a matrix $A \\in \\mathbb{C}^{N \\times N}$ and a vector $\\vec{b} \\in \\mathbb{C}^{N}$, find $\\vec{x} \\in \\mathbb{C}^{N}$ satisfying $A \\vec{x}=\\vec{b}$**"
      ]
    },
    {
      "cell_type": "markdown",
      "metadata": {
        "id": "_IuSjd7YPB-Q"
      },
      "source": [
        "> The spectrum of $A$ is given by: $A\\left|v_{j}\\right\\rangle=\\lambda_{j}\\left|v_{j}\\right\\rangle, 1 \\geq\\left|\\lambda_{j}\\right| \\geq 1 / \\kappa$"
      ]
    },
    {
      "cell_type": "markdown",
      "metadata": {
        "id": "81ME-3izvfRP"
      },
      "source": [
        "> *One crucial remark to keep in mind is that the classical algorithm returns the full solution, while the HHL can only approximate functions of the solution vector.*"
      ]
    },
    {
      "cell_type": "markdown",
      "metadata": {
        "id": "RPc-sWLFPAl8"
      },
      "source": [
        "**Main Subroutines in HHL:**\n",
        "\n",
        "* Hamiltonian simulation\n",
        "* Phase estimation (newer: linear combination of unitaries)\n",
        "* (Variable-time) amplitude amplification"
      ]
    },
    {
      "cell_type": "markdown",
      "metadata": {
        "id": "Ij_dB1BOtFEY"
      },
      "source": [
        "**HHL-Approach**\n",
        "\n",
        "1. Prepare the initial state $|b\\rangle$. Note that $|b\\rangle=\\sum_{j} c_{j}\\left|v_{j}\\right\\rangle$.\n",
        "\n",
        "2. Use the so-called phase estimation algorithm to perform the map\n",
        "$|b\\rangle \\rightarrow \\sum_{j} c_{j}\\left|v_{j}\\right\\rangle\\left|\\tilde{\\lambda}_{j}\\right\\rangle$\n",
        "\n",
        "* $|\\tilde{\\lambda}_{j}\\rangle$ -> This register contains the eigenvalue estimates.\n",
        "\n",
        "3. Apply a one-qubit conditional rotation to perform the map\n",
        "$|0\\rangle \\rightarrow \\frac{1}{\\kappa \\tilde{\\lambda}_{j}}|0\\rangle+\\sqrt{1-\\frac{1}{\\kappa^{2} \\tilde{\\lambda}_{j}^{2}}}|1\\rangle$\n",
        "\n",
        "4. Undo step 2 - apply the inverse of phase estimation\n",
        "$\\sum_{j} \\frac{c_{j}}{\\kappa \\tilde{\\lambda}_{j}}\\left|v_{j}\\right\\rangle|0\\rangle+|\\mathrm{bad}\\rangle|1\\rangle \\approx \\frac{1}{\\kappa A}|b\\rangle|0\\rangle+|\\mathrm{bad}\\rangle|1\\rangle$\n",
        "\n",
        "5. Use amplitude amplification to get rid of the „bad“ part of the state with |1>\n"
      ]
    }
  ]
}