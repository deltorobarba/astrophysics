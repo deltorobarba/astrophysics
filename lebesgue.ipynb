{
  "nbformat": 4,
  "nbformat_minor": 0,
  "metadata": {
    "colab": {
      "name": "lebesgue.ipynb",
      "provenance": [],
      "collapsed_sections": [],
      "include_colab_link": true
    },
    "kernelspec": {
      "name": "python3",
      "display_name": "Python 3"
    }
  },
  "cells": [
    {
      "cell_type": "markdown",
      "metadata": {
        "id": "view-in-github",
        "colab_type": "text"
      },
      "source": [
        "<a href=\"https://colab.research.google.com/github/deltorobarba/machinelearning/blob/master/lebesgue.ipynb\" target=\"_parent\"><img src=\"https://colab.research.google.com/assets/colab-badge.svg\" alt=\"Open In Colab\"/></a>"
      ]
    },
    {
      "cell_type": "markdown",
      "metadata": {
        "id": "2Aoj2PpxvDQV",
        "colab_type": "text"
      },
      "source": [
        "# **Lebesgue Measure & Integration**"
      ]
    },
    {
      "cell_type": "code",
      "metadata": {
        "id": "1U5_6xH7tAQq",
        "colab_type": "code",
        "colab": {}
      },
      "source": [
        "import numpy as np\n",
        "import pandas as pd\n",
        "import seaborn as sns\n",
        "import matplotlib.pyplot as plt"
      ],
      "execution_count": null,
      "outputs": []
    },
    {
      "cell_type": "markdown",
      "metadata": {
        "id": "sOQpEWyaUzLd",
        "colab_type": "text"
      },
      "source": [
        "**Metric vs Measure**"
      ]
    },
    {
      "cell_type": "markdown",
      "metadata": {
        "id": "-5l12o7KU3Ux",
        "colab_type": "text"
      },
      "source": [
        "https://math.stackexchange.com/questions/3045513/measure-and-metric"
      ]
    },
    {
      "cell_type": "markdown",
      "metadata": {
        "id": "50GZiaUIEyRq",
        "colab_type": "text"
      },
      "source": [
        "## **Measure**"
      ]
    },
    {
      "cell_type": "markdown",
      "metadata": {
        "id": "8Gyt5MJLE-aH",
        "colab_type": "text"
      },
      "source": [
        "Es sei \n",
        "A\n",
        "{\\mathcal {A}} eine σ-Algebra über einer nicht-leeren Grundmenge \n",
        "Ω\n",
        "\\Omega . Eine Funktion \n",
        "μ\n",
        ":\n",
        "A\n",
        "→\n",
        "[\n",
        "0\n",
        ",\n",
        "∞\n",
        "]\n",
        "\\mu \\colon {\\mathcal {A}}\\to [0,\\infty ] heißt Maß auf \n",
        "A\n",
        "{\\mathcal {A}}, wenn die beiden folgenden Bedingungen erfüllt sind:"
      ]
    },
    {
      "cell_type": "markdown",
      "metadata": {
        "id": "9MJWcesVFBxz",
        "colab_type": "text"
      },
      "source": [
        "https://de.m.wikipedia.org/wiki/Maß_(Mathematik)"
      ]
    },
    {
      "cell_type": "markdown",
      "metadata": {
        "id": "NRRurF4EXfNH",
        "colab_type": "text"
      },
      "source": [
        "## **Lebesgue Measure**"
      ]
    },
    {
      "cell_type": "markdown",
      "metadata": {
        "id": "vu1xjjj9Xhny",
        "colab_type": "text"
      },
      "source": [
        "* The Lebesgue measure is the standard way of assigning a measure to subsets of n-dimensional Euclidean space. For n = 1, 2, or 3, it coincides with the standard measure of length, area, or volume. In general, it is also called n-dimensional volume, n-volume, or simply volume.\n",
        "\n",
        "* It is used throughout real analysis, in particular to define Lebesgue integration. Sets that can be assigned a Lebesgue measure are called Lebesgue-measurable; the measure of the Lebesgue-measurable set A is here denoted by λ(A)."
      ]
    },
    {
      "cell_type": "markdown",
      "metadata": {
        "id": "d45p3aEnFFo5",
        "colab_type": "text"
      },
      "source": [
        "https://en.m.wikipedia.org/wiki/Lebesgue_measure"
      ]
    },
    {
      "cell_type": "markdown",
      "metadata": {
        "id": "aEjRNUZ6hCOu",
        "colab_type": "text"
      },
      "source": [
        "## **Lebesgue Integration**"
      ]
    },
    {
      "cell_type": "markdown",
      "metadata": {
        "id": "kXlhAsO9FIHb",
        "colab_type": "text"
      },
      "source": [
        "https://en.m.wikipedia.org/wiki/Lebesgue_integration"
      ]
    }
  ]
}