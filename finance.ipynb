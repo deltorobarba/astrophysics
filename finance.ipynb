{
 "cells": [
  {
   "cell_type": "markdown",
   "metadata": {},
   "source": [
    "# **Financial Time Series Forecasting on Google Cloud Platform**"
   ]
  },
  {
   "cell_type": "markdown",
   "metadata": {},
   "source": [
    "**Import Libraries**"
   ]
  },
  {
   "cell_type": "code",
   "execution_count": 28,
   "metadata": {},
   "outputs": [
    {
     "name": "stdout",
     "output_type": "stream",
     "text": [
      "time: 9.83 ms (started: 2021-03-11 08:03:42 +00:00)\n"
     ]
    }
   ],
   "source": [
    "import numpy as np\n",
    "import pandas as pd\n",
    "import seaborn as sns\n",
    "import matplotlib.pyplot as plt"
   ]
  },
  {
   "cell_type": "code",
   "execution_count": 29,
   "metadata": {},
   "outputs": [
    {
     "name": "stdout",
     "output_type": "stream",
     "text": [
      "The autotime extension is already loaded. To reload it, use:\n",
      "  %reload_ext autotime\n",
      "time: 2.45 s (started: 2021-03-11 08:03:47 +00:00)\n"
     ]
    }
   ],
   "source": [
    "!pip install --quiet ipython-autotime pandas_gbq\n",
    "%load_ext autotime"
   ]
  },
  {
   "cell_type": "markdown",
   "metadata": {},
   "source": [
    "# **Load Data**"
   ]
  },
  {
   "cell_type": "markdown",
   "metadata": {},
   "source": [
    "**[Option 1] Load Data from Google Cloud Storage**"
   ]
  },
  {
   "cell_type": "code",
   "execution_count": null,
   "metadata": {},
   "outputs": [],
   "source": [
    "# !gsutil cp gs://lunar-demo/series.csv ."
   ]
  },
  {
   "cell_type": "markdown",
   "metadata": {},
   "source": [
    "**[Option 2] Load Data from BigQuery**"
   ]
  },
  {
   "cell_type": "code",
   "execution_count": 30,
   "metadata": {},
   "outputs": [
    {
     "name": "stdout",
     "output_type": "stream",
     "text": [
      "time: 1.19 ms (started: 2021-03-11 08:03:58 +00:00)\n"
     ]
    }
   ],
   "source": [
    "_FINANCE_PROJECT_NAME = u\"lunar-demo\"\n",
    "\n",
    "def run_finance_query(query, index_col=\"date\"):\n",
    "  return pd.read_gbq(\n",
    "    query,\n",
    "    project_id=_FINANCE_PROJECT_NAME,\n",
    "    index_col=index_col,\n",
    "    dialect=\"standard\").sort_index()"
   ]
  },
  {
   "cell_type": "code",
   "execution_count": 31,
   "metadata": {},
   "outputs": [
    {
     "name": "stdout",
     "output_type": "stream",
     "text": [
      "time: 1.36 s (started: 2021-03-11 08:04:05 +00:00)\n"
     ]
    }
   ],
   "source": [
    "# 'financial data'\n",
    "stockprice_raw = run_finance_query(\n",
    "    \"SELECT * FROM `lunar-demo.repo.timeseries` order by date asc\")"
   ]
  },
  {
   "cell_type": "code",
   "execution_count": 32,
   "metadata": {},
   "outputs": [
    {
     "data": {
      "text/html": [
       "<div>\n",
       "<style scoped>\n",
       "    .dataframe tbody tr th:only-of-type {\n",
       "        vertical-align: middle;\n",
       "    }\n",
       "\n",
       "    .dataframe tbody tr th {\n",
       "        vertical-align: top;\n",
       "    }\n",
       "\n",
       "    .dataframe thead th {\n",
       "        text-align: right;\n",
       "    }\n",
       "</style>\n",
       "<table border=\"1\" class=\"dataframe\">\n",
       "  <thead>\n",
       "    <tr style=\"text-align: right;\">\n",
       "      <th></th>\n",
       "      <th>google</th>\n",
       "      <th>apple</th>\n",
       "      <th>microsoft</th>\n",
       "    </tr>\n",
       "    <tr>\n",
       "      <th>date</th>\n",
       "      <th></th>\n",
       "      <th></th>\n",
       "      <th></th>\n",
       "    </tr>\n",
       "  </thead>\n",
       "  <tbody>\n",
       "    <tr>\n",
       "      <th>2010-02-01 00:00:00+00:00</th>\n",
       "      <td>265.51</td>\n",
       "      <td>280.42</td>\n",
       "      <td>299.63</td>\n",
       "    </tr>\n",
       "    <tr>\n",
       "      <th>2010-02-02 00:00:00+00:00</th>\n",
       "      <td>264.57</td>\n",
       "      <td>285.87</td>\n",
       "      <td>293.80</td>\n",
       "    </tr>\n",
       "    <tr>\n",
       "      <th>2010-02-03 00:00:00+00:00</th>\n",
       "      <td>269.40</td>\n",
       "      <td>279.49</td>\n",
       "      <td>297.20</td>\n",
       "    </tr>\n",
       "    <tr>\n",
       "      <th>2010-02-04 00:00:00+00:00</th>\n",
       "      <td>262.41</td>\n",
       "      <td>282.35</td>\n",
       "      <td>299.44</td>\n",
       "    </tr>\n",
       "    <tr>\n",
       "      <th>2010-02-05 00:00:00+00:00</th>\n",
       "      <td>264.65</td>\n",
       "      <td>284.06</td>\n",
       "      <td>302.08</td>\n",
       "    </tr>\n",
       "  </tbody>\n",
       "</table>\n",
       "</div>"
      ],
      "text/plain": [
       "                           google   apple  microsoft\n",
       "date                                                \n",
       "2010-02-01 00:00:00+00:00  265.51  280.42     299.63\n",
       "2010-02-02 00:00:00+00:00  264.57  285.87     293.80\n",
       "2010-02-03 00:00:00+00:00  269.40  279.49     297.20\n",
       "2010-02-04 00:00:00+00:00  262.41  282.35     299.44\n",
       "2010-02-05 00:00:00+00:00  264.65  284.06     302.08"
      ]
     },
     "execution_count": 32,
     "metadata": {},
     "output_type": "execute_result"
    },
    {
     "name": "stdout",
     "output_type": "stream",
     "text": [
      "time: 20.6 ms (started: 2021-03-11 08:04:08 +00:00)\n"
     ]
    }
   ],
   "source": [
    "stockprice_raw.head()"
   ]
  },
  {
   "cell_type": "markdown",
   "metadata": {},
   "source": [
    "**[Option 3] Load Data from Github**"
   ]
  },
  {
   "cell_type": "code",
   "execution_count": 33,
   "metadata": {},
   "outputs": [
    {
     "data": {
      "text/html": [
       "<div>\n",
       "<style scoped>\n",
       "    .dataframe tbody tr th:only-of-type {\n",
       "        vertical-align: middle;\n",
       "    }\n",
       "\n",
       "    .dataframe tbody tr th {\n",
       "        vertical-align: top;\n",
       "    }\n",
       "\n",
       "    .dataframe thead th {\n",
       "        text-align: right;\n",
       "    }\n",
       "</style>\n",
       "<table border=\"1\" class=\"dataframe\">\n",
       "  <thead>\n",
       "    <tr style=\"text-align: right;\">\n",
       "      <th></th>\n",
       "      <th>date</th>\n",
       "      <th>price1</th>\n",
       "      <th>price2</th>\n",
       "      <th>price3</th>\n",
       "    </tr>\n",
       "  </thead>\n",
       "  <tbody>\n",
       "    <tr>\n",
       "      <th>0</th>\n",
       "      <td>2010-02-01</td>\n",
       "      <td>265.514771</td>\n",
       "      <td>280.416718</td>\n",
       "      <td>299.634420</td>\n",
       "    </tr>\n",
       "    <tr>\n",
       "      <th>1</th>\n",
       "      <td>2010-02-02</td>\n",
       "      <td>264.568329</td>\n",
       "      <td>285.866858</td>\n",
       "      <td>293.798048</td>\n",
       "    </tr>\n",
       "    <tr>\n",
       "      <th>2</th>\n",
       "      <td>2010-02-03</td>\n",
       "      <td>269.400208</td>\n",
       "      <td>279.490699</td>\n",
       "      <td>297.201112</td>\n",
       "    </tr>\n",
       "    <tr>\n",
       "      <th>3</th>\n",
       "      <td>2010-02-04</td>\n",
       "      <td>262.406433</td>\n",
       "      <td>282.354225</td>\n",
       "      <td>299.442578</td>\n",
       "    </tr>\n",
       "    <tr>\n",
       "      <th>4</th>\n",
       "      <td>2010-02-05</td>\n",
       "      <td>264.653015</td>\n",
       "      <td>284.056413</td>\n",
       "      <td>302.076580</td>\n",
       "    </tr>\n",
       "  </tbody>\n",
       "</table>\n",
       "</div>"
      ],
      "text/plain": [
       "         date      price1      price2      price3\n",
       "0  2010-02-01  265.514771  280.416718  299.634420\n",
       "1  2010-02-02  264.568329  285.866858  293.798048\n",
       "2  2010-02-03  269.400208  279.490699  297.201112\n",
       "3  2010-02-04  262.406433  282.354225  299.442578\n",
       "4  2010-02-05  264.653015  284.056413  302.076580"
      ]
     },
     "execution_count": 33,
     "metadata": {},
     "output_type": "execute_result"
    },
    {
     "name": "stdout",
     "output_type": "stream",
     "text": [
      "time: 233 ms (started: 2021-03-11 08:04:27 +00:00)\n"
     ]
    }
   ],
   "source": [
    "url = 'https://raw.githubusercontent.com/deltorobarba/repo/master/series.csv'\n",
    "series_raw = pd.read_csv(url)\n",
    "series_raw.head()"
   ]
  },
  {
   "cell_type": "markdown",
   "metadata": {},
   "source": [
    "# **Display & Analyse Data**"
   ]
  },
  {
   "cell_type": "code",
   "execution_count": 35,
   "metadata": {},
   "outputs": [
    {
     "data": {
      "text/html": [
       "<div>\n",
       "<style scoped>\n",
       "    .dataframe tbody tr th:only-of-type {\n",
       "        vertical-align: middle;\n",
       "    }\n",
       "\n",
       "    .dataframe tbody tr th {\n",
       "        vertical-align: top;\n",
       "    }\n",
       "\n",
       "    .dataframe thead th {\n",
       "        text-align: right;\n",
       "    }\n",
       "</style>\n",
       "<table border=\"1\" class=\"dataframe\">\n",
       "  <thead>\n",
       "    <tr style=\"text-align: right;\">\n",
       "      <th></th>\n",
       "      <th>google</th>\n",
       "      <th>apple</th>\n",
       "      <th>microsoft</th>\n",
       "    </tr>\n",
       "    <tr>\n",
       "      <th>date</th>\n",
       "      <th></th>\n",
       "      <th></th>\n",
       "      <th></th>\n",
       "    </tr>\n",
       "  </thead>\n",
       "  <tbody>\n",
       "    <tr>\n",
       "      <th>2010-02-01</th>\n",
       "      <td>265.514771</td>\n",
       "      <td>280.416718</td>\n",
       "      <td>299.634420</td>\n",
       "    </tr>\n",
       "    <tr>\n",
       "      <th>2010-02-02</th>\n",
       "      <td>264.568329</td>\n",
       "      <td>285.866858</td>\n",
       "      <td>293.798048</td>\n",
       "    </tr>\n",
       "    <tr>\n",
       "      <th>2010-02-03</th>\n",
       "      <td>269.400208</td>\n",
       "      <td>279.490699</td>\n",
       "      <td>297.201112</td>\n",
       "    </tr>\n",
       "    <tr>\n",
       "      <th>2010-02-04</th>\n",
       "      <td>262.406433</td>\n",
       "      <td>282.354225</td>\n",
       "      <td>299.442578</td>\n",
       "    </tr>\n",
       "    <tr>\n",
       "      <th>2010-02-05</th>\n",
       "      <td>264.653015</td>\n",
       "      <td>284.056413</td>\n",
       "      <td>302.076580</td>\n",
       "    </tr>\n",
       "  </tbody>\n",
       "</table>\n",
       "</div>"
      ],
      "text/plain": [
       "                google       apple   microsoft\n",
       "date                                          \n",
       "2010-02-01  265.514771  280.416718  299.634420\n",
       "2010-02-02  264.568329  285.866858  293.798048\n",
       "2010-02-03  269.400208  279.490699  297.201112\n",
       "2010-02-04  262.406433  282.354225  299.442578\n",
       "2010-02-05  264.653015  284.056413  302.076580"
      ]
     },
     "execution_count": 35,
     "metadata": {},
     "output_type": "execute_result"
    },
    {
     "name": "stdout",
     "output_type": "stream",
     "text": [
      "time: 19 ms (started: 2021-03-11 08:05:16 +00:00)\n"
     ]
    }
   ],
   "source": [
    "series = series_raw.set_index('date').rename(columns={\"price1\": \"google\", \"price2\": \"apple\", \"price3\" : \"microsoft\"})\n",
    "series.index = pd.to_datetime(series.index, utc=False)\n",
    "series.head()"
   ]
  },
  {
   "cell_type": "code",
   "execution_count": 36,
   "metadata": {},
   "outputs": [
    {
     "name": "stdout",
     "output_type": "stream",
     "text": [
      "time: 373 µs (started: 2021-03-11 08:05:29 +00:00)\n"
     ]
    }
   ],
   "source": [
    "#series = stockprice_raw "
   ]
  },
  {
   "cell_type": "code",
   "execution_count": 37,
   "metadata": {},
   "outputs": [
    {
     "data": {
      "text/plain": [
       "<AxesSubplot:title={'center':'Stock Prices - Daily Values'}, xlabel='date'>"
      ]
     },
     "execution_count": 37,
     "metadata": {},
     "output_type": "execute_result"
    },
    {
     "data": {
      "image/png": "[encoded data removed]",
      "text/plain": [
       "<Figure size 1080x576 with 1 Axes>"
      ]
     },
     "metadata": {},
     "output_type": "display_data"
    },
    {
     "name": "stdout",
     "output_type": "stream",
     "text": [
      "time: 417 ms (started: 2021-03-11 08:05:30 +00:00)\n"
     ]
    }
   ],
   "source": [
    "sns.set(rc={'figure.figsize':(15, 8), \"lines.linewidth\": 1.0})\n",
    "series.plot(title='Stock Prices - Daily Values')"
   ]
  },
  {
   "cell_type": "code",
   "execution_count": 38,
   "metadata": {},
   "outputs": [
    {
     "data": {
      "image/png": "[encoded data removed]",
      "text/plain": [
       "<Figure size 1080x576 with 1 Axes>"
      ]
     },
     "metadata": {},
     "output_type": "display_data"
    },
    {
     "name": "stdout",
     "output_type": "stream",
     "text": [
      "time: 322 ms (started: 2021-03-11 08:08:47 +00:00)\n"
     ]
    }
   ],
   "source": [
    "from statsmodels.graphics.tsaplots import plot_acf\n",
    "plot_acf(series.google)\n",
    "plt.title('Stockprice - Autocorrelation')\n",
    "plt.show()"
   ]
  },
  {
   "cell_type": "code",
   "execution_count": 17,
   "metadata": {},
   "outputs": [
    {
     "data": {
      "image/png": "[encoded data removed]",
      "text/plain": [
       "<Figure size 1080x576 with 1 Axes>"
      ]
     },
     "metadata": {},
     "output_type": "display_data"
    },
    {
     "name": "stdout",
     "output_type": "stream",
     "text": [
      "time: 274 ms (started: 2021-03-08 10:34:11 +00:00)\n"
     ]
    }
   ],
   "source": [
    "from statsmodels.graphics.tsaplots import plot_pacf\n",
    "plot_pacf(series.google)\n",
    "plt.title('Stockprice - Partial Autocorrelation')\n",
    "plt.show()"
   ]
  },
  {
   "cell_type": "code",
   "execution_count": 18,
   "metadata": {},
   "outputs": [
    {
     "name": "stderr",
     "output_type": "stream",
     "text": [
      "*c* argument looks like a single numeric RGB or RGBA sequence, which should be avoided as value-mapping will have precedence in case its length matches with *x* & *y*.  Please use the *color* keyword-argument or provide a 2-D array with a single row if you intend to specify the same RGB or RGBA value for all points.\n"
     ]
    },
    {
     "data": {
      "image/png": "[encoded data removed]",
      "text/plain": [
       "<Figure size 1080x576 with 1 Axes>"
      ]
     },
     "metadata": {},
     "output_type": "display_data"
    },
    {
     "name": "stdout",
     "output_type": "stream",
     "text": [
      "time: 225 ms (started: 2021-03-08 10:34:12 +00:00)\n"
     ]
    }
   ],
   "source": [
    "from pandas.plotting import lag_plot\n",
    "lag_plot(series.google)\n",
    "plt.title('Stockprice - Autocorrelation Lag Plot')\n",
    "plt.show()"
   ]
  },
  {
   "cell_type": "code",
   "execution_count": 19,
   "metadata": {},
   "outputs": [
    {
     "data": {
      "text/html": [
       "<div>\n",
       "<style scoped>\n",
       "    .dataframe tbody tr th:only-of-type {\n",
       "        vertical-align: middle;\n",
       "    }\n",
       "\n",
       "    .dataframe tbody tr th {\n",
       "        vertical-align: top;\n",
       "    }\n",
       "\n",
       "    .dataframe thead th {\n",
       "        text-align: right;\n",
       "    }\n",
       "</style>\n",
       "<table border=\"1\" class=\"dataframe\">\n",
       "  <thead>\n",
       "    <tr style=\"text-align: right;\">\n",
       "      <th></th>\n",
       "      <th>google</th>\n",
       "      <th>apple</th>\n",
       "      <th>microsoft</th>\n",
       "    </tr>\n",
       "    <tr>\n",
       "      <th>date</th>\n",
       "      <th></th>\n",
       "      <th></th>\n",
       "      <th></th>\n",
       "    </tr>\n",
       "  </thead>\n",
       "  <tbody>\n",
       "    <tr>\n",
       "      <th>2010-02-01 00:00:00+00:00</th>\n",
       "      <td>265.51</td>\n",
       "      <td>280.42</td>\n",
       "      <td>299.63</td>\n",
       "    </tr>\n",
       "    <tr>\n",
       "      <th>2010-02-02 00:00:00+00:00</th>\n",
       "      <td>264.57</td>\n",
       "      <td>285.87</td>\n",
       "      <td>293.80</td>\n",
       "    </tr>\n",
       "    <tr>\n",
       "      <th>2010-02-03 00:00:00+00:00</th>\n",
       "      <td>269.40</td>\n",
       "      <td>279.49</td>\n",
       "      <td>297.20</td>\n",
       "    </tr>\n",
       "    <tr>\n",
       "      <th>2010-02-04 00:00:00+00:00</th>\n",
       "      <td>262.41</td>\n",
       "      <td>282.35</td>\n",
       "      <td>299.44</td>\n",
       "    </tr>\n",
       "    <tr>\n",
       "      <th>2010-02-05 00:00:00+00:00</th>\n",
       "      <td>264.65</td>\n",
       "      <td>284.06</td>\n",
       "      <td>302.08</td>\n",
       "    </tr>\n",
       "    <tr>\n",
       "      <th>...</th>\n",
       "      <td>...</td>\n",
       "      <td>...</td>\n",
       "      <td>...</td>\n",
       "    </tr>\n",
       "    <tr>\n",
       "      <th>2020-01-23 00:00:00+00:00</th>\n",
       "      <td>1486.65</td>\n",
       "      <td>1448.56</td>\n",
       "      <td>1295.50</td>\n",
       "    </tr>\n",
       "    <tr>\n",
       "      <th>2020-01-24 00:00:00+00:00</th>\n",
       "      <td>1466.71</td>\n",
       "      <td>1415.14</td>\n",
       "      <td>1313.33</td>\n",
       "    </tr>\n",
       "    <tr>\n",
       "      <th>2020-01-27 00:00:00+00:00</th>\n",
       "      <td>1433.90</td>\n",
       "      <td>1433.18</td>\n",
       "      <td>1318.58</td>\n",
       "    </tr>\n",
       "    <tr>\n",
       "      <th>2020-01-28 00:00:00+00:00</th>\n",
       "      <td>1452.56</td>\n",
       "      <td>1438.64</td>\n",
       "      <td>NaN</td>\n",
       "    </tr>\n",
       "    <tr>\n",
       "      <th>2020-01-29 00:00:00+00:00</th>\n",
       "      <td>1458.63</td>\n",
       "      <td>NaN</td>\n",
       "      <td>NaN</td>\n",
       "    </tr>\n",
       "  </tbody>\n",
       "</table>\n",
       "<p>2516 rows × 3 columns</p>\n",
       "</div>"
      ],
      "text/plain": [
       "                            google    apple  microsoft\n",
       "date                                                  \n",
       "2010-02-01 00:00:00+00:00   265.51   280.42     299.63\n",
       "2010-02-02 00:00:00+00:00   264.57   285.87     293.80\n",
       "2010-02-03 00:00:00+00:00   269.40   279.49     297.20\n",
       "2010-02-04 00:00:00+00:00   262.41   282.35     299.44\n",
       "2010-02-05 00:00:00+00:00   264.65   284.06     302.08\n",
       "...                            ...      ...        ...\n",
       "2020-01-23 00:00:00+00:00  1486.65  1448.56    1295.50\n",
       "2020-01-24 00:00:00+00:00  1466.71  1415.14    1313.33\n",
       "2020-01-27 00:00:00+00:00  1433.90  1433.18    1318.58\n",
       "2020-01-28 00:00:00+00:00  1452.56  1438.64        NaN\n",
       "2020-01-29 00:00:00+00:00  1458.63      NaN        NaN\n",
       "\n",
       "[2516 rows x 3 columns]"
      ]
     },
     "execution_count": 19,
     "metadata": {},
     "output_type": "execute_result"
    },
    {
     "name": "stdout",
     "output_type": "stream",
     "text": [
      "time: 12.9 ms (started: 2021-03-08 10:34:13 +00:00)\n"
     ]
    }
   ],
   "source": [
    "seasonal_plots = series.copy()\n",
    "seasonal_plots"
   ]
  },
  {
   "cell_type": "code",
   "execution_count": 39,
   "metadata": {},
   "outputs": [
    {
     "data": {
      "image/png": "[encoded data removed]",
      "text/plain": [
       "<Figure size 1200x400 with 2 Axes>"
      ]
     },
     "metadata": {},
     "output_type": "display_data"
    },
    {
     "name": "stdout",
     "output_type": "stream",
     "text": [
      "time: 1.03 s (started: 2021-03-11 08:09:00 +00:00)\n"
     ]
    }
   ],
   "source": [
    "# Trend and Seasonality Test\n",
    "seasonal_plots = series.copy()\n",
    "seasonal_plots = seasonal_plots.drop(columns=['microsoft', 'apple'])\n",
    "seasonal_plots.reset_index(inplace=True)\n",
    "\n",
    "# Prepare data\n",
    "seasonal_plots['year'] = [d.year for d in seasonal_plots.date]\n",
    "seasonal_plots['month'] = [d.strftime('%b') for d in seasonal_plots.date]\n",
    "years = seasonal_plots['year'].unique()\n",
    "\n",
    "# Draw Plot\n",
    "fig, axes = plt.subplots(1, 2, figsize=(15,5), dpi= 80)\n",
    "sns.boxplot(x='year', y='google', data=seasonal_plots, ax=axes[0])\n",
    "sns.boxplot(x='month', y='google', data=seasonal_plots.loc[~seasonal_plots.year.isin([1991, 2008]), :])\n",
    "\n",
    "# Set Title\n",
    "axes[0].set_title('Year-wise Box Plot\\n(The Trend)', fontsize=12); \n",
    "axes[1].set_title('Month-wise Box Plot\\n(The Seasonality)', fontsize=12)\n",
    "plt.show()"
   ]
  },
  {
   "cell_type": "code",
   "execution_count": 21,
   "metadata": {},
   "outputs": [
    {
     "name": "stderr",
     "output_type": "stream",
     "text": [
      "/opt/conda/lib/python3.7/site-packages/seaborn/distributions.py:2557: FutureWarning: `distplot` is a deprecated function and will be removed in a future version. Please adapt your code to use either `displot` (a figure-level function with similar flexibility) or `histplot` (an axes-level function for histograms).\n",
      "  warnings.warn(msg, FutureWarning)\n",
      "/opt/conda/lib/python3.7/site-packages/seaborn/distributions.py:2056: FutureWarning: The `axis` variable is no longer used and will be removed. Instead, assign variables directly to `x` or `y`.\n",
      "  warnings.warn(msg, FutureWarning)\n"
     ]
    },
    {
     "data": {
      "image/png": "[encoded data removed]",
      "text/plain": [
       "<Figure size 936x288 with 1 Axes>"
      ]
     },
     "metadata": {},
     "output_type": "display_data"
    },
    {
     "name": "stdout",
     "output_type": "stream",
     "text": [
      "time: 385 ms (started: 2021-03-08 10:34:16 +00:00)\n"
     ]
    }
   ],
   "source": [
    "sns.set(rc={'figure.figsize':(13, 4)})\n",
    "sns.distplot((series.google), hist=True, rug=True, color ='red').set_title('Stockprice - Kernel Density Estimation & Rug Plot')\n",
    "plt.show()"
   ]
  },
  {
   "cell_type": "code",
   "execution_count": 22,
   "metadata": {},
   "outputs": [
    {
     "data": {
      "text/plain": [
       "<seaborn.axisgrid.PairGrid at 0x7f09b8319810>"
      ]
     },
     "execution_count": 22,
     "metadata": {},
     "output_type": "execute_result"
    },
    {
     "data": {
      "image/png": "[encoded data removed]",
      "text/plain": [
       "<Figure size 540x540 with 12 Axes>"
      ]
     },
     "metadata": {},
     "output_type": "display_data"
    },
    {
     "name": "stdout",
     "output_type": "stream",
     "text": [
      "time: 1.57 s (started: 2021-03-08 10:34:18 +00:00)\n"
     ]
    }
   ],
   "source": [
    "sns.set(rc={'figure.figsize':(13, 4)})\n",
    "sns.pairplot(series, diag_kind='kde')"
   ]
  },
  {
   "cell_type": "code",
   "execution_count": null,
   "metadata": {},
   "outputs": [],
   "source": [
    "grangercausality = series.copy()\n",
    "grangercausality = grangercausality.drop(columns=['microsoft'])\n",
    "grangercausality = grangercausality.diff()\n",
    "grangercausality = grangercausality.dropna()\n",
    "grangercausality"
   ]
  },
  {
   "cell_type": "code",
   "execution_count": null,
   "metadata": {},
   "outputs": [],
   "source": [
    "# Granger Causality\n",
    "# Null hypothesis: x2 does NOT Granger cause x1\n",
    "# Reject null hypothesis if the p-values are below 0.05\n",
    "import statsmodels.api as sm\n",
    "import statsmodels.tsa.stattools\n",
    "\n",
    "statsmodels.tsa.stattools.grangercausalitytests(grangercausality, maxlag = 5, addconst=True, verbose=True)"
   ]
  },
  {
   "cell_type": "code",
   "execution_count": null,
   "metadata": {},
   "outputs": [],
   "source": [
    "sns.set(rc={'figure.figsize':(17, 8), \"lines.linewidth\": 1.0})\n",
    "# get delta between time series\n",
    "grangercausality['delta'] = (grangercausality.google) - (grangercausality.apple)\n",
    "# visualize\n",
    "grangercausality.delta.plot(title='Stock Prices - Daily Values')"
   ]
  },
  {
   "cell_type": "code",
   "execution_count": null,
   "metadata": {},
   "outputs": [],
   "source": [
    "sns.set(rc={'figure.figsize':(17, 8), \"lines.linewidth\": 1.0})\n",
    "# normalize series\n",
    "grangercausality = grangercausality.apply(lambda x: x/x.cummax(), axis=0)\n",
    "# visualize\n",
    "grangercausality.delta.plot(title='Stock Prices - Daily Values')"
   ]
  },
  {
   "cell_type": "markdown",
   "metadata": {},
   "source": [
    "**What is the time span? (until when do we have data?)**"
   ]
  },
  {
   "cell_type": "code",
   "execution_count": 13,
   "metadata": {},
   "outputs": [
    {
     "data": {
      "text/html": [
       "<div>\n",
       "<style scoped>\n",
       "    .dataframe tbody tr th:only-of-type {\n",
       "        vertical-align: middle;\n",
       "    }\n",
       "\n",
       "    .dataframe tbody tr th {\n",
       "        vertical-align: top;\n",
       "    }\n",
       "\n",
       "    .dataframe thead th {\n",
       "        text-align: right;\n",
       "    }\n",
       "</style>\n",
       "<table border=\"1\" class=\"dataframe\">\n",
       "  <thead>\n",
       "    <tr style=\"text-align: right;\">\n",
       "      <th></th>\n",
       "      <th>google</th>\n",
       "      <th>apple</th>\n",
       "      <th>microsoft</th>\n",
       "    </tr>\n",
       "    <tr>\n",
       "      <th>date</th>\n",
       "      <th></th>\n",
       "      <th></th>\n",
       "      <th></th>\n",
       "    </tr>\n",
       "  </thead>\n",
       "  <tbody>\n",
       "    <tr>\n",
       "      <th>2020-01-23</th>\n",
       "      <td>1486.650024</td>\n",
       "      <td>1448.563926</td>\n",
       "      <td>1295.499336</td>\n",
       "    </tr>\n",
       "    <tr>\n",
       "      <th>2020-01-24</th>\n",
       "      <td>1466.709961</td>\n",
       "      <td>1415.138255</td>\n",
       "      <td>1313.333003</td>\n",
       "    </tr>\n",
       "    <tr>\n",
       "      <th>2020-01-27</th>\n",
       "      <td>1433.900024</td>\n",
       "      <td>1433.183293</td>\n",
       "      <td>1318.579432</td>\n",
       "    </tr>\n",
       "    <tr>\n",
       "      <th>2020-01-28</th>\n",
       "      <td>1452.560059</td>\n",
       "      <td>1438.639002</td>\n",
       "      <td>NaN</td>\n",
       "    </tr>\n",
       "    <tr>\n",
       "      <th>2020-01-29</th>\n",
       "      <td>1458.630005</td>\n",
       "      <td>NaN</td>\n",
       "      <td>NaN</td>\n",
       "    </tr>\n",
       "  </tbody>\n",
       "</table>\n",
       "</div>"
      ],
      "text/plain": [
       "                 google        apple    microsoft\n",
       "date                                             \n",
       "2020-01-23  1486.650024  1448.563926  1295.499336\n",
       "2020-01-24  1466.709961  1415.138255  1313.333003\n",
       "2020-01-27  1433.900024  1433.183293  1318.579432\n",
       "2020-01-28  1452.560059  1438.639002          NaN\n",
       "2020-01-29  1458.630005          NaN          NaN"
      ]
     },
     "execution_count": 13,
     "metadata": {},
     "output_type": "execute_result"
    }
   ],
   "source": [
    "series.tail()"
   ]
  },
  {
   "cell_type": "markdown",
   "metadata": {},
   "source": [
    "**Are there any missing data?**"
   ]
  },
  {
   "cell_type": "code",
   "execution_count": 40,
   "metadata": {},
   "outputs": [
    {
     "data": {
      "text/plain": [
       "google       0\n",
       "apple        1\n",
       "microsoft    2\n",
       "dtype: int64"
      ]
     },
     "execution_count": 40,
     "metadata": {},
     "output_type": "execute_result"
    },
    {
     "name": "stdout",
     "output_type": "stream",
     "text": [
      "time: 7.58 ms (started: 2021-03-11 08:09:10 +00:00)\n"
     ]
    }
   ],
   "source": [
    "series.apply(lambda x: sum(x.isnull()),axis=0) "
   ]
  },
  {
   "cell_type": "markdown",
   "metadata": {},
   "source": [
    "**Drop NaN values**"
   ]
  },
  {
   "cell_type": "code",
   "execution_count": 41,
   "metadata": {},
   "outputs": [
    {
     "data": {
      "text/html": [
       "<div>\n",
       "<style scoped>\n",
       "    .dataframe tbody tr th:only-of-type {\n",
       "        vertical-align: middle;\n",
       "    }\n",
       "\n",
       "    .dataframe tbody tr th {\n",
       "        vertical-align: top;\n",
       "    }\n",
       "\n",
       "    .dataframe thead th {\n",
       "        text-align: right;\n",
       "    }\n",
       "</style>\n",
       "<table border=\"1\" class=\"dataframe\">\n",
       "  <thead>\n",
       "    <tr style=\"text-align: right;\">\n",
       "      <th></th>\n",
       "      <th>google</th>\n",
       "      <th>apple</th>\n",
       "      <th>microsoft</th>\n",
       "    </tr>\n",
       "    <tr>\n",
       "      <th>date</th>\n",
       "      <th></th>\n",
       "      <th></th>\n",
       "      <th></th>\n",
       "    </tr>\n",
       "  </thead>\n",
       "  <tbody>\n",
       "    <tr>\n",
       "      <th>2020-01-21</th>\n",
       "      <td>1484.400024</td>\n",
       "      <td>1469.037495</td>\n",
       "      <td>1349.910513</td>\n",
       "    </tr>\n",
       "    <tr>\n",
       "      <th>2020-01-22</th>\n",
       "      <td>1485.949951</td>\n",
       "      <td>1469.120434</td>\n",
       "      <td>1329.138464</td>\n",
       "    </tr>\n",
       "    <tr>\n",
       "      <th>2020-01-23</th>\n",
       "      <td>1486.650024</td>\n",
       "      <td>1448.563926</td>\n",
       "      <td>1295.499336</td>\n",
       "    </tr>\n",
       "    <tr>\n",
       "      <th>2020-01-24</th>\n",
       "      <td>1466.709961</td>\n",
       "      <td>1415.138255</td>\n",
       "      <td>1313.333003</td>\n",
       "    </tr>\n",
       "    <tr>\n",
       "      <th>2020-01-27</th>\n",
       "      <td>1433.900024</td>\n",
       "      <td>1433.183293</td>\n",
       "      <td>1318.579432</td>\n",
       "    </tr>\n",
       "  </tbody>\n",
       "</table>\n",
       "</div>"
      ],
      "text/plain": [
       "                 google        apple    microsoft\n",
       "date                                             \n",
       "2020-01-21  1484.400024  1469.037495  1349.910513\n",
       "2020-01-22  1485.949951  1469.120434  1329.138464\n",
       "2020-01-23  1486.650024  1448.563926  1295.499336\n",
       "2020-01-24  1466.709961  1415.138255  1313.333003\n",
       "2020-01-27  1433.900024  1433.183293  1318.579432"
      ]
     },
     "execution_count": 41,
     "metadata": {},
     "output_type": "execute_result"
    },
    {
     "name": "stdout",
     "output_type": "stream",
     "text": [
      "time: 13.2 ms (started: 2021-03-11 08:09:12 +00:00)\n"
     ]
    }
   ],
   "source": [
    "series = series.dropna()\n",
    "series.tail()"
   ]
  },
  {
   "cell_type": "markdown",
   "metadata": {},
   "source": [
    "**Write cleaned time series as table called 'series' to bigquery**"
   ]
  },
  {
   "cell_type": "code",
   "execution_count": 42,
   "metadata": {},
   "outputs": [
    {
     "name": "stderr",
     "output_type": "stream",
     "text": [
      "1it [00:06,  6.15s/it]"
     ]
    },
    {
     "name": "stdout",
     "output_type": "stream",
     "text": [
      "time: 7.56 s (started: 2021-03-11 08:09:13 +00:00)\n"
     ]
    },
    {
     "name": "stderr",
     "output_type": "stream",
     "text": [
      "\n"
     ]
    }
   ],
   "source": [
    "series = series.reset_index()\n",
    "project_id = !gcloud config get-value project\n",
    "series.to_gbq('banking.series', project_id=project_id[0])"
   ]
  },
  {
   "cell_type": "markdown",
   "metadata": {},
   "source": [
    "# **Regression (Forecasting) in BigQuery**"
   ]
  },
  {
   "cell_type": "markdown",
   "metadata": {},
   "source": [
    "**Train BigQuery**"
   ]
  },
  {
   "cell_type": "code",
   "execution_count": 43,
   "metadata": {},
   "outputs": [
    {
     "data": {
      "text/html": [
       "<div>\n",
       "<style scoped>\n",
       "    .dataframe tbody tr th:only-of-type {\n",
       "        vertical-align: middle;\n",
       "    }\n",
       "\n",
       "    .dataframe tbody tr th {\n",
       "        vertical-align: top;\n",
       "    }\n",
       "\n",
       "    .dataframe thead th {\n",
       "        text-align: right;\n",
       "    }\n",
       "</style>\n",
       "<table border=\"1\" class=\"dataframe\">\n",
       "  <thead>\n",
       "    <tr style=\"text-align: right;\">\n",
       "      <th></th>\n",
       "    </tr>\n",
       "  </thead>\n",
       "  <tbody>\n",
       "  </tbody>\n",
       "</table>\n",
       "</div>"
      ],
      "text/plain": [
       "Empty DataFrame\n",
       "Columns: []\n",
       "Index: []"
      ]
     },
     "execution_count": 43,
     "metadata": {},
     "output_type": "execute_result"
    },
    {
     "name": "stdout",
     "output_type": "stream",
     "text": [
      "time: 1min 32s (started: 2021-03-11 08:10:09 +00:00)\n"
     ]
    }
   ],
   "source": [
    "%%bigquery\n",
    "CREATE MODEL `lunar-demo.banking.arima`\n",
    " OPTIONS(MODEL_TYPE='ARIMA',\n",
    "         time_series_timestamp_col='date',\n",
    "         time_series_data_col='google') AS\n",
    "SELECT\n",
    "  date,\n",
    "  google\n",
    "FROM\n",
    "  `banking.series`"
   ]
  },
  {
   "cell_type": "code",
   "execution_count": 44,
   "metadata": {},
   "outputs": [
    {
     "data": {
      "text/html": [
       "<div>\n",
       "<style scoped>\n",
       "    .dataframe tbody tr th:only-of-type {\n",
       "        vertical-align: middle;\n",
       "    }\n",
       "\n",
       "    .dataframe tbody tr th {\n",
       "        vertical-align: top;\n",
       "    }\n",
       "\n",
       "    .dataframe thead th {\n",
       "        text-align: right;\n",
       "    }\n",
       "</style>\n",
       "<table border=\"1\" class=\"dataframe\">\n",
       "  <thead>\n",
       "    <tr style=\"text-align: right;\">\n",
       "      <th></th>\n",
       "      <th>ar_coefficients</th>\n",
       "      <th>ma_coefficients</th>\n",
       "      <th>intercept_or_drift</th>\n",
       "    </tr>\n",
       "  </thead>\n",
       "  <tbody>\n",
       "    <tr>\n",
       "      <th>0</th>\n",
       "      <td>[-0.3631838810303424, -0.6480094071529039, 0.1...</td>\n",
       "      <td>[0.5297251029398097, 0.9159993018852919]</td>\n",
       "      <td>0.298336</td>\n",
       "    </tr>\n",
       "  </tbody>\n",
       "</table>\n",
       "</div>"
      ],
      "text/plain": [
       "                                     ar_coefficients  \\\n",
       "0  [-0.3631838810303424, -0.6480094071529039, 0.1...   \n",
       "\n",
       "                            ma_coefficients  intercept_or_drift  \n",
       "0  [0.5297251029398097, 0.9159993018852919]            0.298336  "
      ]
     },
     "execution_count": 44,
     "metadata": {},
     "output_type": "execute_result"
    },
    {
     "name": "stdout",
     "output_type": "stream",
     "text": [
      "time: 2.47 s (started: 2021-03-11 08:12:23 +00:00)\n"
     ]
    }
   ],
   "source": [
    "%%bigquery\n",
    "SELECT * \n",
    "FROM ML.ARIMA_COEFFICIENTS(MODEL banking.arima)"
   ]
  },
  {
   "cell_type": "code",
   "execution_count": 45,
   "metadata": {},
   "outputs": [
    {
     "data": {
      "text/html": [
       "<div>\n",
       "<style scoped>\n",
       "    .dataframe tbody tr th:only-of-type {\n",
       "        vertical-align: middle;\n",
       "    }\n",
       "\n",
       "    .dataframe tbody tr th {\n",
       "        vertical-align: top;\n",
       "    }\n",
       "\n",
       "    .dataframe thead th {\n",
       "        text-align: right;\n",
       "    }\n",
       "</style>\n",
       "<table border=\"1\" class=\"dataframe\">\n",
       "  <thead>\n",
       "    <tr style=\"text-align: right;\">\n",
       "      <th></th>\n",
       "      <th>non_seasonal_p</th>\n",
       "      <th>non_seasonal_d</th>\n",
       "      <th>non_seasonal_q</th>\n",
       "      <th>has_drift</th>\n",
       "      <th>log_likelihood</th>\n",
       "      <th>AIC</th>\n",
       "      <th>variance</th>\n",
       "      <th>seasonal_periods</th>\n",
       "    </tr>\n",
       "  </thead>\n",
       "  <tbody>\n",
       "    <tr>\n",
       "      <th>0</th>\n",
       "      <td>3</td>\n",
       "      <td>1</td>\n",
       "      <td>2</td>\n",
       "      <td>True</td>\n",
       "      <td>-11735.069371</td>\n",
       "      <td>23484.138742</td>\n",
       "      <td>36.502184</td>\n",
       "      <td>[WEEKLY, YEARLY]</td>\n",
       "    </tr>\n",
       "    <tr>\n",
       "      <th>1</th>\n",
       "      <td>3</td>\n",
       "      <td>1</td>\n",
       "      <td>2</td>\n",
       "      <td>False</td>\n",
       "      <td>-11738.278048</td>\n",
       "      <td>23488.556095</td>\n",
       "      <td>36.566449</td>\n",
       "      <td>[WEEKLY, YEARLY]</td>\n",
       "    </tr>\n",
       "    <tr>\n",
       "      <th>2</th>\n",
       "      <td>4</td>\n",
       "      <td>1</td>\n",
       "      <td>1</td>\n",
       "      <td>True</td>\n",
       "      <td>-11831.027466</td>\n",
       "      <td>23676.054931</td>\n",
       "      <td>38.481354</td>\n",
       "      <td>[WEEKLY, YEARLY]</td>\n",
       "    </tr>\n",
       "    <tr>\n",
       "      <th>3</th>\n",
       "      <td>4</td>\n",
       "      <td>1</td>\n",
       "      <td>0</td>\n",
       "      <td>True</td>\n",
       "      <td>-11852.466527</td>\n",
       "      <td>23716.933054</td>\n",
       "      <td>38.937325</td>\n",
       "      <td>[WEEKLY, YEARLY]</td>\n",
       "    </tr>\n",
       "    <tr>\n",
       "      <th>4</th>\n",
       "      <td>5</td>\n",
       "      <td>1</td>\n",
       "      <td>0</td>\n",
       "      <td>True</td>\n",
       "      <td>-11852.464640</td>\n",
       "      <td>23718.929279</td>\n",
       "      <td>38.937285</td>\n",
       "      <td>[WEEKLY, YEARLY]</td>\n",
       "    </tr>\n",
       "    <tr>\n",
       "      <th>5</th>\n",
       "      <td>4</td>\n",
       "      <td>1</td>\n",
       "      <td>0</td>\n",
       "      <td>False</td>\n",
       "      <td>-11855.930338</td>\n",
       "      <td>23721.860676</td>\n",
       "      <td>39.011350</td>\n",
       "      <td>[WEEKLY, YEARLY]</td>\n",
       "    </tr>\n",
       "    <tr>\n",
       "      <th>6</th>\n",
       "      <td>4</td>\n",
       "      <td>1</td>\n",
       "      <td>1</td>\n",
       "      <td>False</td>\n",
       "      <td>-11855.927659</td>\n",
       "      <td>23723.855317</td>\n",
       "      <td>39.011292</td>\n",
       "      <td>[WEEKLY, YEARLY]</td>\n",
       "    </tr>\n",
       "    <tr>\n",
       "      <th>7</th>\n",
       "      <td>5</td>\n",
       "      <td>1</td>\n",
       "      <td>0</td>\n",
       "      <td>False</td>\n",
       "      <td>-11855.928654</td>\n",
       "      <td>23723.857308</td>\n",
       "      <td>39.011314</td>\n",
       "      <td>[WEEKLY, YEARLY]</td>\n",
       "    </tr>\n",
       "    <tr>\n",
       "      <th>8</th>\n",
       "      <td>0</td>\n",
       "      <td>1</td>\n",
       "      <td>3</td>\n",
       "      <td>True</td>\n",
       "      <td>-11857.058855</td>\n",
       "      <td>23724.117711</td>\n",
       "      <td>39.035650</td>\n",
       "      <td>[WEEKLY, YEARLY]</td>\n",
       "    </tr>\n",
       "    <tr>\n",
       "      <th>9</th>\n",
       "      <td>3</td>\n",
       "      <td>1</td>\n",
       "      <td>1</td>\n",
       "      <td>True</td>\n",
       "      <td>-11856.182812</td>\n",
       "      <td>23724.365624</td>\n",
       "      <td>39.016856</td>\n",
       "      <td>[WEEKLY, YEARLY]</td>\n",
       "    </tr>\n",
       "    <tr>\n",
       "      <th>10</th>\n",
       "      <td>0</td>\n",
       "      <td>1</td>\n",
       "      <td>5</td>\n",
       "      <td>True</td>\n",
       "      <td>-11855.681296</td>\n",
       "      <td>23725.362593</td>\n",
       "      <td>39.005741</td>\n",
       "      <td>[WEEKLY, YEARLY]</td>\n",
       "    </tr>\n",
       "    <tr>\n",
       "      <th>11</th>\n",
       "      <td>1</td>\n",
       "      <td>1</td>\n",
       "      <td>3</td>\n",
       "      <td>True</td>\n",
       "      <td>-11857.031672</td>\n",
       "      <td>23726.063343</td>\n",
       "      <td>39.035044</td>\n",
       "      <td>[WEEKLY, YEARLY]</td>\n",
       "    </tr>\n",
       "    <tr>\n",
       "      <th>12</th>\n",
       "      <td>0</td>\n",
       "      <td>1</td>\n",
       "      <td>4</td>\n",
       "      <td>True</td>\n",
       "      <td>-11857.068474</td>\n",
       "      <td>23726.136948</td>\n",
       "      <td>39.035855</td>\n",
       "      <td>[WEEKLY, YEARLY]</td>\n",
       "    </tr>\n",
       "    <tr>\n",
       "      <th>13</th>\n",
       "      <td>3</td>\n",
       "      <td>1</td>\n",
       "      <td>0</td>\n",
       "      <td>True</td>\n",
       "      <td>-11858.372799</td>\n",
       "      <td>23726.745598</td>\n",
       "      <td>39.063785</td>\n",
       "      <td>[WEEKLY, YEARLY]</td>\n",
       "    </tr>\n",
       "    <tr>\n",
       "      <th>14</th>\n",
       "      <td>2</td>\n",
       "      <td>1</td>\n",
       "      <td>3</td>\n",
       "      <td>True</td>\n",
       "      <td>-11857.003051</td>\n",
       "      <td>23728.006103</td>\n",
       "      <td>39.034440</td>\n",
       "      <td>[WEEKLY, YEARLY]</td>\n",
       "    </tr>\n",
       "    <tr>\n",
       "      <th>15</th>\n",
       "      <td>1</td>\n",
       "      <td>1</td>\n",
       "      <td>4</td>\n",
       "      <td>True</td>\n",
       "      <td>-11857.009920</td>\n",
       "      <td>23728.019840</td>\n",
       "      <td>39.034586</td>\n",
       "      <td>[WEEKLY, YEARLY]</td>\n",
       "    </tr>\n",
       "    <tr>\n",
       "      <th>16</th>\n",
       "      <td>3</td>\n",
       "      <td>1</td>\n",
       "      <td>1</td>\n",
       "      <td>False</td>\n",
       "      <td>-11859.259508</td>\n",
       "      <td>23728.519016</td>\n",
       "      <td>39.082725</td>\n",
       "      <td>[WEEKLY, YEARLY]</td>\n",
       "    </tr>\n",
       "    <tr>\n",
       "      <th>17</th>\n",
       "      <td>0</td>\n",
       "      <td>1</td>\n",
       "      <td>3</td>\n",
       "      <td>False</td>\n",
       "      <td>-11860.332331</td>\n",
       "      <td>23728.664663</td>\n",
       "      <td>39.105777</td>\n",
       "      <td>[WEEKLY, YEARLY]</td>\n",
       "    </tr>\n",
       "    <tr>\n",
       "      <th>18</th>\n",
       "      <td>0</td>\n",
       "      <td>1</td>\n",
       "      <td>5</td>\n",
       "      <td>False</td>\n",
       "      <td>-11858.516646</td>\n",
       "      <td>23729.033293</td>\n",
       "      <td>39.066340</td>\n",
       "      <td>[WEEKLY, YEARLY]</td>\n",
       "    </tr>\n",
       "    <tr>\n",
       "      <th>19</th>\n",
       "      <td>1</td>\n",
       "      <td>1</td>\n",
       "      <td>3</td>\n",
       "      <td>False</td>\n",
       "      <td>-11860.163838</td>\n",
       "      <td>23730.327676</td>\n",
       "      <td>39.102128</td>\n",
       "      <td>[WEEKLY, YEARLY]</td>\n",
       "    </tr>\n",
       "    <tr>\n",
       "      <th>20</th>\n",
       "      <td>0</td>\n",
       "      <td>1</td>\n",
       "      <td>4</td>\n",
       "      <td>False</td>\n",
       "      <td>-11860.296796</td>\n",
       "      <td>23730.593591</td>\n",
       "      <td>39.105001</td>\n",
       "      <td>[WEEKLY, YEARLY]</td>\n",
       "    </tr>\n",
       "    <tr>\n",
       "      <th>21</th>\n",
       "      <td>3</td>\n",
       "      <td>1</td>\n",
       "      <td>0</td>\n",
       "      <td>False</td>\n",
       "      <td>-11861.454779</td>\n",
       "      <td>23730.909558</td>\n",
       "      <td>39.129847</td>\n",
       "      <td>[WEEKLY, YEARLY]</td>\n",
       "    </tr>\n",
       "    <tr>\n",
       "      <th>22</th>\n",
       "      <td>1</td>\n",
       "      <td>1</td>\n",
       "      <td>1</td>\n",
       "      <td>True</td>\n",
       "      <td>-11861.643503</td>\n",
       "      <td>23731.287007</td>\n",
       "      <td>39.133977</td>\n",
       "      <td>[WEEKLY, YEARLY]</td>\n",
       "    </tr>\n",
       "    <tr>\n",
       "      <th>23</th>\n",
       "      <td>2</td>\n",
       "      <td>1</td>\n",
       "      <td>3</td>\n",
       "      <td>False</td>\n",
       "      <td>-11860.161288</td>\n",
       "      <td>23732.322577</td>\n",
       "      <td>39.102080</td>\n",
       "      <td>[WEEKLY, YEARLY]</td>\n",
       "    </tr>\n",
       "    <tr>\n",
       "      <th>24</th>\n",
       "      <td>1</td>\n",
       "      <td>1</td>\n",
       "      <td>4</td>\n",
       "      <td>False</td>\n",
       "      <td>-11860.163821</td>\n",
       "      <td>23732.327641</td>\n",
       "      <td>39.102128</td>\n",
       "      <td>[WEEKLY, YEARLY]</td>\n",
       "    </tr>\n",
       "    <tr>\n",
       "      <th>25</th>\n",
       "      <td>2</td>\n",
       "      <td>1</td>\n",
       "      <td>0</td>\n",
       "      <td>True</td>\n",
       "      <td>-11862.616346</td>\n",
       "      <td>23733.232691</td>\n",
       "      <td>39.154873</td>\n",
       "      <td>[WEEKLY, YEARLY]</td>\n",
       "    </tr>\n",
       "    <tr>\n",
       "      <th>26</th>\n",
       "      <td>2</td>\n",
       "      <td>1</td>\n",
       "      <td>1</td>\n",
       "      <td>True</td>\n",
       "      <td>-11861.646136</td>\n",
       "      <td>23733.292273</td>\n",
       "      <td>39.134033</td>\n",
       "      <td>[WEEKLY, YEARLY]</td>\n",
       "    </tr>\n",
       "    <tr>\n",
       "      <th>27</th>\n",
       "      <td>1</td>\n",
       "      <td>1</td>\n",
       "      <td>2</td>\n",
       "      <td>True</td>\n",
       "      <td>-11861.666115</td>\n",
       "      <td>23733.332231</td>\n",
       "      <td>39.134462</td>\n",
       "      <td>[WEEKLY, YEARLY]</td>\n",
       "    </tr>\n",
       "    <tr>\n",
       "      <th>28</th>\n",
       "      <td>2</td>\n",
       "      <td>1</td>\n",
       "      <td>2</td>\n",
       "      <td>True</td>\n",
       "      <td>-11860.799505</td>\n",
       "      <td>23733.599009</td>\n",
       "      <td>39.115866</td>\n",
       "      <td>[WEEKLY, YEARLY]</td>\n",
       "    </tr>\n",
       "    <tr>\n",
       "      <th>29</th>\n",
       "      <td>1</td>\n",
       "      <td>1</td>\n",
       "      <td>1</td>\n",
       "      <td>False</td>\n",
       "      <td>-11864.914392</td>\n",
       "      <td>23735.828784</td>\n",
       "      <td>39.204222</td>\n",
       "      <td>[WEEKLY, YEARLY]</td>\n",
       "    </tr>\n",
       "    <tr>\n",
       "      <th>30</th>\n",
       "      <td>1</td>\n",
       "      <td>1</td>\n",
       "      <td>0</td>\n",
       "      <td>True</td>\n",
       "      <td>-11865.089572</td>\n",
       "      <td>23736.179145</td>\n",
       "      <td>39.208045</td>\n",
       "      <td>[WEEKLY, YEARLY]</td>\n",
       "    </tr>\n",
       "    <tr>\n",
       "      <th>31</th>\n",
       "      <td>1</td>\n",
       "      <td>1</td>\n",
       "      <td>2</td>\n",
       "      <td>False</td>\n",
       "      <td>-11864.914376</td>\n",
       "      <td>23737.828752</td>\n",
       "      <td>39.204222</td>\n",
       "      <td>[WEEKLY, YEARLY]</td>\n",
       "    </tr>\n",
       "    <tr>\n",
       "      <th>32</th>\n",
       "      <td>2</td>\n",
       "      <td>1</td>\n",
       "      <td>1</td>\n",
       "      <td>False</td>\n",
       "      <td>-11864.914382</td>\n",
       "      <td>23737.828764</td>\n",
       "      <td>39.204222</td>\n",
       "      <td>[WEEKLY, YEARLY]</td>\n",
       "    </tr>\n",
       "    <tr>\n",
       "      <th>33</th>\n",
       "      <td>2</td>\n",
       "      <td>1</td>\n",
       "      <td>0</td>\n",
       "      <td>False</td>\n",
       "      <td>-11866.025494</td>\n",
       "      <td>23738.050987</td>\n",
       "      <td>39.228132</td>\n",
       "      <td>[WEEKLY, YEARLY]</td>\n",
       "    </tr>\n",
       "    <tr>\n",
       "      <th>34</th>\n",
       "      <td>2</td>\n",
       "      <td>1</td>\n",
       "      <td>2</td>\n",
       "      <td>False</td>\n",
       "      <td>-11864.046770</td>\n",
       "      <td>23738.093539</td>\n",
       "      <td>39.185571</td>\n",
       "      <td>[WEEKLY, YEARLY]</td>\n",
       "    </tr>\n",
       "    <tr>\n",
       "      <th>35</th>\n",
       "      <td>0</td>\n",
       "      <td>1</td>\n",
       "      <td>2</td>\n",
       "      <td>True</td>\n",
       "      <td>-11865.482459</td>\n",
       "      <td>23738.964918</td>\n",
       "      <td>39.216511</td>\n",
       "      <td>[WEEKLY, YEARLY]</td>\n",
       "    </tr>\n",
       "    <tr>\n",
       "      <th>36</th>\n",
       "      <td>1</td>\n",
       "      <td>1</td>\n",
       "      <td>0</td>\n",
       "      <td>False</td>\n",
       "      <td>-11868.769321</td>\n",
       "      <td>23741.538642</td>\n",
       "      <td>39.287236</td>\n",
       "      <td>[WEEKLY, YEARLY]</td>\n",
       "    </tr>\n",
       "    <tr>\n",
       "      <th>37</th>\n",
       "      <td>0</td>\n",
       "      <td>1</td>\n",
       "      <td>1</td>\n",
       "      <td>True</td>\n",
       "      <td>-11869.094297</td>\n",
       "      <td>23744.188595</td>\n",
       "      <td>39.294287</td>\n",
       "      <td>[WEEKLY, YEARLY]</td>\n",
       "    </tr>\n",
       "    <tr>\n",
       "      <th>38</th>\n",
       "      <td>0</td>\n",
       "      <td>1</td>\n",
       "      <td>2</td>\n",
       "      <td>False</td>\n",
       "      <td>-11869.156349</td>\n",
       "      <td>23744.312699</td>\n",
       "      <td>39.295594</td>\n",
       "      <td>[WEEKLY, YEARLY]</td>\n",
       "    </tr>\n",
       "    <tr>\n",
       "      <th>39</th>\n",
       "      <td>0</td>\n",
       "      <td>1</td>\n",
       "      <td>1</td>\n",
       "      <td>False</td>\n",
       "      <td>-11873.066123</td>\n",
       "      <td>23750.132245</td>\n",
       "      <td>39.379962</td>\n",
       "      <td>[WEEKLY, YEARLY]</td>\n",
       "    </tr>\n",
       "    <tr>\n",
       "      <th>40</th>\n",
       "      <td>0</td>\n",
       "      <td>1</td>\n",
       "      <td>0</td>\n",
       "      <td>True</td>\n",
       "      <td>-11918.008840</td>\n",
       "      <td>23840.017681</td>\n",
       "      <td>40.362883</td>\n",
       "      <td>[WEEKLY, YEARLY]</td>\n",
       "    </tr>\n",
       "    <tr>\n",
       "      <th>41</th>\n",
       "      <td>0</td>\n",
       "      <td>1</td>\n",
       "      <td>0</td>\n",
       "      <td>False</td>\n",
       "      <td>-11923.208962</td>\n",
       "      <td>23848.417923</td>\n",
       "      <td>40.478151</td>\n",
       "      <td>[WEEKLY, YEARLY]</td>\n",
       "    </tr>\n",
       "  </tbody>\n",
       "</table>\n",
       "</div>"
      ],
      "text/plain": [
       "    non_seasonal_p  non_seasonal_d  non_seasonal_q  has_drift  log_likelihood  \\\n",
       "0                3               1               2       True   -11735.069371   \n",
       "1                3               1               2      False   -11738.278048   \n",
       "2                4               1               1       True   -11831.027466   \n",
       "3                4               1               0       True   -11852.466527   \n",
       "4                5               1               0       True   -11852.464640   \n",
       "5                4               1               0      False   -11855.930338   \n",
       "6                4               1               1      False   -11855.927659   \n",
       "7                5               1               0      False   -11855.928654   \n",
       "8                0               1               3       True   -11857.058855   \n",
       "9                3               1               1       True   -11856.182812   \n",
       "10               0               1               5       True   -11855.681296   \n",
       "11               1               1               3       True   -11857.031672   \n",
       "12               0               1               4       True   -11857.068474   \n",
       "13               3               1               0       True   -11858.372799   \n",
       "14               2               1               3       True   -11857.003051   \n",
       "15               1               1               4       True   -11857.009920   \n",
       "16               3               1               1      False   -11859.259508   \n",
       "17               0               1               3      False   -11860.332331   \n",
       "18               0               1               5      False   -11858.516646   \n",
       "19               1               1               3      False   -11860.163838   \n",
       "20               0               1               4      False   -11860.296796   \n",
       "21               3               1               0      False   -11861.454779   \n",
       "22               1               1               1       True   -11861.643503   \n",
       "23               2               1               3      False   -11860.161288   \n",
       "24               1               1               4      False   -11860.163821   \n",
       "25               2               1               0       True   -11862.616346   \n",
       "26               2               1               1       True   -11861.646136   \n",
       "27               1               1               2       True   -11861.666115   \n",
       "28               2               1               2       True   -11860.799505   \n",
       "29               1               1               1      False   -11864.914392   \n",
       "30               1               1               0       True   -11865.089572   \n",
       "31               1               1               2      False   -11864.914376   \n",
       "32               2               1               1      False   -11864.914382   \n",
       "33               2               1               0      False   -11866.025494   \n",
       "34               2               1               2      False   -11864.046770   \n",
       "35               0               1               2       True   -11865.482459   \n",
       "36               1               1               0      False   -11868.769321   \n",
       "37               0               1               1       True   -11869.094297   \n",
       "38               0               1               2      False   -11869.156349   \n",
       "39               0               1               1      False   -11873.066123   \n",
       "40               0               1               0       True   -11918.008840   \n",
       "41               0               1               0      False   -11923.208962   \n",
       "\n",
       "             AIC   variance  seasonal_periods  \n",
       "0   23484.138742  36.502184  [WEEKLY, YEARLY]  \n",
       "1   23488.556095  36.566449  [WEEKLY, YEARLY]  \n",
       "2   23676.054931  38.481354  [WEEKLY, YEARLY]  \n",
       "3   23716.933054  38.937325  [WEEKLY, YEARLY]  \n",
       "4   23718.929279  38.937285  [WEEKLY, YEARLY]  \n",
       "5   23721.860676  39.011350  [WEEKLY, YEARLY]  \n",
       "6   23723.855317  39.011292  [WEEKLY, YEARLY]  \n",
       "7   23723.857308  39.011314  [WEEKLY, YEARLY]  \n",
       "8   23724.117711  39.035650  [WEEKLY, YEARLY]  \n",
       "9   23724.365624  39.016856  [WEEKLY, YEARLY]  \n",
       "10  23725.362593  39.005741  [WEEKLY, YEARLY]  \n",
       "11  23726.063343  39.035044  [WEEKLY, YEARLY]  \n",
       "12  23726.136948  39.035855  [WEEKLY, YEARLY]  \n",
       "13  23726.745598  39.063785  [WEEKLY, YEARLY]  \n",
       "14  23728.006103  39.034440  [WEEKLY, YEARLY]  \n",
       "15  23728.019840  39.034586  [WEEKLY, YEARLY]  \n",
       "16  23728.519016  39.082725  [WEEKLY, YEARLY]  \n",
       "17  23728.664663  39.105777  [WEEKLY, YEARLY]  \n",
       "18  23729.033293  39.066340  [WEEKLY, YEARLY]  \n",
       "19  23730.327676  39.102128  [WEEKLY, YEARLY]  \n",
       "20  23730.593591  39.105001  [WEEKLY, YEARLY]  \n",
       "21  23730.909558  39.129847  [WEEKLY, YEARLY]  \n",
       "22  23731.287007  39.133977  [WEEKLY, YEARLY]  \n",
       "23  23732.322577  39.102080  [WEEKLY, YEARLY]  \n",
       "24  23732.327641  39.102128  [WEEKLY, YEARLY]  \n",
       "25  23733.232691  39.154873  [WEEKLY, YEARLY]  \n",
       "26  23733.292273  39.134033  [WEEKLY, YEARLY]  \n",
       "27  23733.332231  39.134462  [WEEKLY, YEARLY]  \n",
       "28  23733.599009  39.115866  [WEEKLY, YEARLY]  \n",
       "29  23735.828784  39.204222  [WEEKLY, YEARLY]  \n",
       "30  23736.179145  39.208045  [WEEKLY, YEARLY]  \n",
       "31  23737.828752  39.204222  [WEEKLY, YEARLY]  \n",
       "32  23737.828764  39.204222  [WEEKLY, YEARLY]  \n",
       "33  23738.050987  39.228132  [WEEKLY, YEARLY]  \n",
       "34  23738.093539  39.185571  [WEEKLY, YEARLY]  \n",
       "35  23738.964918  39.216511  [WEEKLY, YEARLY]  \n",
       "36  23741.538642  39.287236  [WEEKLY, YEARLY]  \n",
       "37  23744.188595  39.294287  [WEEKLY, YEARLY]  \n",
       "38  23744.312699  39.295594  [WEEKLY, YEARLY]  \n",
       "39  23750.132245  39.379962  [WEEKLY, YEARLY]  \n",
       "40  23840.017681  40.362883  [WEEKLY, YEARLY]  \n",
       "41  23848.417923  40.478151  [WEEKLY, YEARLY]  "
      ]
     },
     "execution_count": 45,
     "metadata": {},
     "output_type": "execute_result"
    },
    {
     "name": "stdout",
     "output_type": "stream",
     "text": [
      "time: 2.33 s (started: 2021-03-11 08:12:26 +00:00)\n"
     ]
    }
   ],
   "source": [
    "%%bigquery\n",
    "SELECT * \n",
    "FROM ML.EVALUATE(MODEL banking.arima)"
   ]
  },
  {
   "cell_type": "code",
   "execution_count": 46,
   "metadata": {},
   "outputs": [
    {
     "data": {
      "text/html": [
       "<div>\n",
       "<style scoped>\n",
       "    .dataframe tbody tr th:only-of-type {\n",
       "        vertical-align: middle;\n",
       "    }\n",
       "\n",
       "    .dataframe tbody tr th {\n",
       "        vertical-align: top;\n",
       "    }\n",
       "\n",
       "    .dataframe thead th {\n",
       "        text-align: right;\n",
       "    }\n",
       "</style>\n",
       "<table border=\"1\" class=\"dataframe\">\n",
       "  <thead>\n",
       "    <tr style=\"text-align: right;\">\n",
       "      <th></th>\n",
       "      <th>training_run</th>\n",
       "      <th>iteration</th>\n",
       "      <th>duration_ms</th>\n",
       "    </tr>\n",
       "  </thead>\n",
       "  <tbody>\n",
       "    <tr>\n",
       "      <th>0</th>\n",
       "      <td>0</td>\n",
       "      <td>0</td>\n",
       "      <td>81865</td>\n",
       "    </tr>\n",
       "  </tbody>\n",
       "</table>\n",
       "</div>"
      ],
      "text/plain": [
       "   training_run  iteration  duration_ms\n",
       "0             0          0        81865"
      ]
     },
     "execution_count": 46,
     "metadata": {},
     "output_type": "execute_result"
    },
    {
     "name": "stdout",
     "output_type": "stream",
     "text": [
      "time: 2.14 s (started: 2021-03-11 08:12:33 +00:00)\n"
     ]
    }
   ],
   "source": [
    "%%bigquery\n",
    "SELECT * \n",
    "FROM ML.TRAINING_INFO(MODEL banking.arima)"
   ]
  },
  {
   "cell_type": "markdown",
   "metadata": {},
   "source": [
    "# **Classification in BigQuery**"
   ]
  },
  {
   "cell_type": "code",
   "execution_count": 47,
   "metadata": {},
   "outputs": [
    {
     "data": {
      "text/html": [
       "<div>\n",
       "<style scoped>\n",
       "    .dataframe tbody tr th:only-of-type {\n",
       "        vertical-align: middle;\n",
       "    }\n",
       "\n",
       "    .dataframe tbody tr th {\n",
       "        vertical-align: top;\n",
       "    }\n",
       "\n",
       "    .dataframe thead th {\n",
       "        text-align: right;\n",
       "    }\n",
       "</style>\n",
       "<table border=\"1\" class=\"dataframe\">\n",
       "  <thead>\n",
       "    <tr style=\"text-align: right;\">\n",
       "      <th></th>\n",
       "      <th>date</th>\n",
       "      <th>google</th>\n",
       "      <th>apple</th>\n",
       "      <th>microsoft</th>\n",
       "    </tr>\n",
       "  </thead>\n",
       "  <tbody>\n",
       "    <tr>\n",
       "      <th>0</th>\n",
       "      <td>2010-02-01</td>\n",
       "      <td>265.514771</td>\n",
       "      <td>280.416718</td>\n",
       "      <td>299.634420</td>\n",
       "    </tr>\n",
       "    <tr>\n",
       "      <th>1</th>\n",
       "      <td>2010-02-02</td>\n",
       "      <td>264.568329</td>\n",
       "      <td>285.866858</td>\n",
       "      <td>293.798048</td>\n",
       "    </tr>\n",
       "    <tr>\n",
       "      <th>2</th>\n",
       "      <td>2010-02-03</td>\n",
       "      <td>269.400208</td>\n",
       "      <td>279.490699</td>\n",
       "      <td>297.201112</td>\n",
       "    </tr>\n",
       "    <tr>\n",
       "      <th>3</th>\n",
       "      <td>2010-02-04</td>\n",
       "      <td>262.406433</td>\n",
       "      <td>282.354225</td>\n",
       "      <td>299.442578</td>\n",
       "    </tr>\n",
       "    <tr>\n",
       "      <th>4</th>\n",
       "      <td>2010-02-05</td>\n",
       "      <td>264.653015</td>\n",
       "      <td>284.056413</td>\n",
       "      <td>302.076580</td>\n",
       "    </tr>\n",
       "  </tbody>\n",
       "</table>\n",
       "</div>"
      ],
      "text/plain": [
       "        date      google       apple   microsoft\n",
       "0 2010-02-01  265.514771  280.416718  299.634420\n",
       "1 2010-02-02  264.568329  285.866858  293.798048\n",
       "2 2010-02-03  269.400208  279.490699  297.201112\n",
       "3 2010-02-04  262.406433  282.354225  299.442578\n",
       "4 2010-02-05  264.653015  284.056413  302.076580"
      ]
     },
     "execution_count": 47,
     "metadata": {},
     "output_type": "execute_result"
    },
    {
     "name": "stdout",
     "output_type": "stream",
     "text": [
      "time: 10.7 ms (started: 2021-03-11 08:12:35 +00:00)\n"
     ]
    }
   ],
   "source": [
    "series.head()"
   ]
  },
  {
   "cell_type": "code",
   "execution_count": 23,
   "metadata": {},
   "outputs": [
    {
     "data": {
      "text/html": [
       "<div>\n",
       "<style scoped>\n",
       "    .dataframe tbody tr th:only-of-type {\n",
       "        vertical-align: middle;\n",
       "    }\n",
       "\n",
       "    .dataframe tbody tr th {\n",
       "        vertical-align: top;\n",
       "    }\n",
       "\n",
       "    .dataframe thead th {\n",
       "        text-align: right;\n",
       "    }\n",
       "</style>\n",
       "<table border=\"1\" class=\"dataframe\">\n",
       "  <thead>\n",
       "    <tr style=\"text-align: right;\">\n",
       "      <th></th>\n",
       "      <th>date</th>\n",
       "      <th>google</th>\n",
       "      <th>apple</th>\n",
       "      <th>microsoft</th>\n",
       "      <th>delta</th>\n",
       "    </tr>\n",
       "  </thead>\n",
       "  <tbody>\n",
       "    <tr>\n",
       "      <th>1</th>\n",
       "      <td>2010-02-02</td>\n",
       "      <td>264.568329</td>\n",
       "      <td>285.866858</td>\n",
       "      <td>293.798048</td>\n",
       "      <td>-0.946442</td>\n",
       "    </tr>\n",
       "    <tr>\n",
       "      <th>2</th>\n",
       "      <td>2010-02-03</td>\n",
       "      <td>269.400208</td>\n",
       "      <td>279.490699</td>\n",
       "      <td>297.201112</td>\n",
       "      <td>4.831879</td>\n",
       "    </tr>\n",
       "    <tr>\n",
       "      <th>3</th>\n",
       "      <td>2010-02-04</td>\n",
       "      <td>262.406433</td>\n",
       "      <td>282.354225</td>\n",
       "      <td>299.442578</td>\n",
       "      <td>-6.993775</td>\n",
       "    </tr>\n",
       "    <tr>\n",
       "      <th>4</th>\n",
       "      <td>2010-02-05</td>\n",
       "      <td>264.653015</td>\n",
       "      <td>284.056413</td>\n",
       "      <td>302.076580</td>\n",
       "      <td>2.246582</td>\n",
       "    </tr>\n",
       "    <tr>\n",
       "      <th>5</th>\n",
       "      <td>2010-02-08</td>\n",
       "      <td>265.738953</td>\n",
       "      <td>286.151405</td>\n",
       "      <td>302.238798</td>\n",
       "      <td>1.085938</td>\n",
       "    </tr>\n",
       "  </tbody>\n",
       "</table>\n",
       "</div>"
      ],
      "text/plain": [
       "        date      google       apple   microsoft     delta\n",
       "1 2010-02-02  264.568329  285.866858  293.798048 -0.946442\n",
       "2 2010-02-03  269.400208  279.490699  297.201112  4.831879\n",
       "3 2010-02-04  262.406433  282.354225  299.442578 -6.993775\n",
       "4 2010-02-05  264.653015  284.056413  302.076580  2.246582\n",
       "5 2010-02-08  265.738953  286.151405  302.238798  1.085938"
      ]
     },
     "execution_count": 23,
     "metadata": {},
     "output_type": "execute_result"
    },
    {
     "name": "stdout",
     "output_type": "stream",
     "text": [
      "time: 17.4 ms\n"
     ]
    }
   ],
   "source": [
    "classification = series.copy()\n",
    "classification['delta'] = classification.google.diff()\n",
    "classification = classification.dropna()\n",
    "classification.head()"
   ]
  },
  {
   "cell_type": "code",
   "execution_count": 24,
   "metadata": {},
   "outputs": [
    {
     "data": {
      "text/html": [
       "<div>\n",
       "<style scoped>\n",
       "    .dataframe tbody tr th:only-of-type {\n",
       "        vertical-align: middle;\n",
       "    }\n",
       "\n",
       "    .dataframe tbody tr th {\n",
       "        vertical-align: top;\n",
       "    }\n",
       "\n",
       "    .dataframe thead th {\n",
       "        text-align: right;\n",
       "    }\n",
       "</style>\n",
       "<table border=\"1\" class=\"dataframe\">\n",
       "  <thead>\n",
       "    <tr style=\"text-align: right;\">\n",
       "      <th></th>\n",
       "      <th>date</th>\n",
       "      <th>google</th>\n",
       "      <th>apple</th>\n",
       "      <th>microsoft</th>\n",
       "      <th>delta</th>\n",
       "      <th>classifier</th>\n",
       "    </tr>\n",
       "  </thead>\n",
       "  <tbody>\n",
       "    <tr>\n",
       "      <th>1</th>\n",
       "      <td>2010-02-02</td>\n",
       "      <td>264.568329</td>\n",
       "      <td>285.866858</td>\n",
       "      <td>293.798048</td>\n",
       "      <td>-0.946442</td>\n",
       "      <td>0.0</td>\n",
       "    </tr>\n",
       "    <tr>\n",
       "      <th>2</th>\n",
       "      <td>2010-02-03</td>\n",
       "      <td>269.400208</td>\n",
       "      <td>279.490699</td>\n",
       "      <td>297.201112</td>\n",
       "      <td>4.831879</td>\n",
       "      <td>1.0</td>\n",
       "    </tr>\n",
       "    <tr>\n",
       "      <th>3</th>\n",
       "      <td>2010-02-04</td>\n",
       "      <td>262.406433</td>\n",
       "      <td>282.354225</td>\n",
       "      <td>299.442578</td>\n",
       "      <td>-6.993775</td>\n",
       "      <td>0.0</td>\n",
       "    </tr>\n",
       "    <tr>\n",
       "      <th>4</th>\n",
       "      <td>2010-02-05</td>\n",
       "      <td>264.653015</td>\n",
       "      <td>284.056413</td>\n",
       "      <td>302.076580</td>\n",
       "      <td>2.246582</td>\n",
       "      <td>1.0</td>\n",
       "    </tr>\n",
       "    <tr>\n",
       "      <th>5</th>\n",
       "      <td>2010-02-08</td>\n",
       "      <td>265.738953</td>\n",
       "      <td>286.151405</td>\n",
       "      <td>302.238798</td>\n",
       "      <td>1.085938</td>\n",
       "      <td>1.0</td>\n",
       "    </tr>\n",
       "  </tbody>\n",
       "</table>\n",
       "</div>"
      ],
      "text/plain": [
       "        date      google       apple   microsoft     delta  classifier\n",
       "1 2010-02-02  264.568329  285.866858  293.798048 -0.946442         0.0\n",
       "2 2010-02-03  269.400208  279.490699  297.201112  4.831879         1.0\n",
       "3 2010-02-04  262.406433  282.354225  299.442578 -6.993775         0.0\n",
       "4 2010-02-05  264.653015  284.056413  302.076580  2.246582         1.0\n",
       "5 2010-02-08  265.738953  286.151405  302.238798  1.085938         1.0"
      ]
     },
     "execution_count": 24,
     "metadata": {},
     "output_type": "execute_result"
    },
    {
     "name": "stdout",
     "output_type": "stream",
     "text": [
      "time: 15.7 ms\n"
     ]
    }
   ],
   "source": [
    "classification['classifier'] = classification['delta']\n",
    "classification['classifier'].values[classification['classifier'] < 0] = 0\n",
    "classification['classifier'].values[classification['classifier'] > 0] = 1\n",
    "classification.head()"
   ]
  },
  {
   "cell_type": "code",
   "execution_count": 26,
   "metadata": {},
   "outputs": [
    {
     "data": {
      "text/plain": [
       "array([0., 1.])"
      ]
     },
     "execution_count": 26,
     "metadata": {},
     "output_type": "execute_result"
    },
    {
     "name": "stdout",
     "output_type": "stream",
     "text": [
      "time: 3.36 ms\n"
     ]
    }
   ],
   "source": [
    "classification.classifier.unique()"
   ]
  },
  {
   "cell_type": "code",
   "execution_count": 27,
   "metadata": {},
   "outputs": [
    {
     "data": {
      "text/plain": [
       "'In 52% of all values are 1 (value going up)'"
      ]
     },
     "execution_count": 27,
     "metadata": {},
     "output_type": "execute_result"
    },
    {
     "name": "stdout",
     "output_type": "stream",
     "text": [
      "time: 6.85 ms\n"
     ]
    }
   ],
   "source": [
    "# Fun Fact: How many times the value of the series went up?\n",
    "\"In %s%% of all values are 1 (value going up)\" % np.int_(len(classification.loc[classification.classifier > 0]) / len((classification.classifier)) * 100)"
   ]
  },
  {
   "cell_type": "markdown",
   "metadata": {},
   "source": [
    "**Write table to BigQuery as table called 'classification'**"
   ]
  },
  {
   "cell_type": "code",
   "execution_count": 28,
   "metadata": {},
   "outputs": [
    {
     "name": "stderr",
     "output_type": "stream",
     "text": [
      "1it [00:03,  3.21s/it]"
     ]
    },
    {
     "name": "stdout",
     "output_type": "stream",
     "text": [
      "time: 4.24 s\n"
     ]
    },
    {
     "name": "stderr",
     "output_type": "stream",
     "text": [
      "\n"
     ]
    }
   ],
   "source": [
    "project_id = !gcloud config get-value project\n",
    "classification.to_gbq('banking.classification', project_id=project_id[0])"
   ]
  },
  {
   "cell_type": "markdown",
   "metadata": {},
   "source": [
    "**Train Model (Classification)**"
   ]
  },
  {
   "cell_type": "code",
   "execution_count": 29,
   "metadata": {},
   "outputs": [
    {
     "data": {
      "text/html": [
       "<div>\n",
       "<style scoped>\n",
       "    .dataframe tbody tr th:only-of-type {\n",
       "        vertical-align: middle;\n",
       "    }\n",
       "\n",
       "    .dataframe tbody tr th {\n",
       "        vertical-align: top;\n",
       "    }\n",
       "\n",
       "    .dataframe thead th {\n",
       "        text-align: right;\n",
       "    }\n",
       "</style>\n",
       "<table border=\"1\" class=\"dataframe\">\n",
       "  <thead>\n",
       "    <tr style=\"text-align: right;\">\n",
       "      <th></th>\n",
       "    </tr>\n",
       "  </thead>\n",
       "  <tbody>\n",
       "  </tbody>\n",
       "</table>\n",
       "</div>"
      ],
      "text/plain": [
       "Empty DataFrame\n",
       "Columns: []\n",
       "Index: []"
      ]
     },
     "execution_count": 29,
     "metadata": {},
     "output_type": "execute_result"
    },
    {
     "name": "stdout",
     "output_type": "stream",
     "text": [
      "time: 1min 6s\n"
     ]
    }
   ],
   "source": [
    "%%bigquery\n",
    "CREATE OR REPLACE MODEL\n",
    "  `banking.log_reg`\n",
    "OPTIONS\n",
    "  ( model_type='LOGISTIC_REG',\n",
    "    auto_class_weights=TRUE,\n",
    "    input_label_cols=['classifier']\n",
    "  ) AS\n",
    "SELECT\n",
    "  *\n",
    "FROM\n",
    "  `banking.classification`"
   ]
  },
  {
   "cell_type": "code",
   "execution_count": 30,
   "metadata": {},
   "outputs": [
    {
     "data": {
      "text/html": [
       "<div>\n",
       "<style scoped>\n",
       "    .dataframe tbody tr th:only-of-type {\n",
       "        vertical-align: middle;\n",
       "    }\n",
       "\n",
       "    .dataframe tbody tr th {\n",
       "        vertical-align: top;\n",
       "    }\n",
       "\n",
       "    .dataframe thead th {\n",
       "        text-align: right;\n",
       "    }\n",
       "</style>\n",
       "<table border=\"1\" class=\"dataframe\">\n",
       "  <thead>\n",
       "    <tr style=\"text-align: right;\">\n",
       "      <th></th>\n",
       "      <th>training_run</th>\n",
       "      <th>iteration</th>\n",
       "      <th>loss</th>\n",
       "      <th>eval_loss</th>\n",
       "      <th>learning_rate</th>\n",
       "      <th>duration_ms</th>\n",
       "    </tr>\n",
       "  </thead>\n",
       "  <tbody>\n",
       "    <tr>\n",
       "      <th>0</th>\n",
       "      <td>0</td>\n",
       "      <td>11</td>\n",
       "      <td>0.294566</td>\n",
       "      <td>0.326588</td>\n",
       "      <td>3.2</td>\n",
       "      <td>2964</td>\n",
       "    </tr>\n",
       "    <tr>\n",
       "      <th>1</th>\n",
       "      <td>0</td>\n",
       "      <td>10</td>\n",
       "      <td>0.305239</td>\n",
       "      <td>0.326822</td>\n",
       "      <td>3.2</td>\n",
       "      <td>2843</td>\n",
       "    </tr>\n",
       "    <tr>\n",
       "      <th>2</th>\n",
       "      <td>0</td>\n",
       "      <td>9</td>\n",
       "      <td>0.317393</td>\n",
       "      <td>0.342256</td>\n",
       "      <td>1.6</td>\n",
       "      <td>2760</td>\n",
       "    </tr>\n",
       "    <tr>\n",
       "      <th>3</th>\n",
       "      <td>0</td>\n",
       "      <td>8</td>\n",
       "      <td>0.326039</td>\n",
       "      <td>0.349771</td>\n",
       "      <td>0.8</td>\n",
       "      <td>3008</td>\n",
       "    </tr>\n",
       "    <tr>\n",
       "      <th>4</th>\n",
       "      <td>0</td>\n",
       "      <td>7</td>\n",
       "      <td>0.330012</td>\n",
       "      <td>0.358822</td>\n",
       "      <td>1.6</td>\n",
       "      <td>4421</td>\n",
       "    </tr>\n",
       "    <tr>\n",
       "      <th>5</th>\n",
       "      <td>0</td>\n",
       "      <td>6</td>\n",
       "      <td>0.342627</td>\n",
       "      <td>0.363844</td>\n",
       "      <td>1.6</td>\n",
       "      <td>2571</td>\n",
       "    </tr>\n",
       "    <tr>\n",
       "      <th>6</th>\n",
       "      <td>0</td>\n",
       "      <td>5</td>\n",
       "      <td>0.349288</td>\n",
       "      <td>0.376734</td>\n",
       "      <td>6.4</td>\n",
       "      <td>3131</td>\n",
       "    </tr>\n",
       "    <tr>\n",
       "      <th>7</th>\n",
       "      <td>0</td>\n",
       "      <td>4</td>\n",
       "      <td>0.427495</td>\n",
       "      <td>0.450884</td>\n",
       "      <td>3.2</td>\n",
       "      <td>2966</td>\n",
       "    </tr>\n",
       "    <tr>\n",
       "      <th>8</th>\n",
       "      <td>0</td>\n",
       "      <td>3</td>\n",
       "      <td>0.506521</td>\n",
       "      <td>0.525104</td>\n",
       "      <td>1.6</td>\n",
       "      <td>3610</td>\n",
       "    </tr>\n",
       "    <tr>\n",
       "      <th>9</th>\n",
       "      <td>0</td>\n",
       "      <td>2</td>\n",
       "      <td>0.579075</td>\n",
       "      <td>0.590969</td>\n",
       "      <td>0.8</td>\n",
       "      <td>3082</td>\n",
       "    </tr>\n",
       "    <tr>\n",
       "      <th>10</th>\n",
       "      <td>0</td>\n",
       "      <td>1</td>\n",
       "      <td>0.635152</td>\n",
       "      <td>0.641435</td>\n",
       "      <td>0.4</td>\n",
       "      <td>3547</td>\n",
       "    </tr>\n",
       "    <tr>\n",
       "      <th>11</th>\n",
       "      <td>0</td>\n",
       "      <td>0</td>\n",
       "      <td>0.671864</td>\n",
       "      <td>0.674250</td>\n",
       "      <td>0.2</td>\n",
       "      <td>3536</td>\n",
       "    </tr>\n",
       "  </tbody>\n",
       "</table>\n",
       "</div>"
      ],
      "text/plain": [
       "    training_run  iteration      loss  eval_loss  learning_rate  duration_ms\n",
       "0              0         11  0.294566   0.326588            3.2         2964\n",
       "1              0         10  0.305239   0.326822            3.2         2843\n",
       "2              0          9  0.317393   0.342256            1.6         2760\n",
       "3              0          8  0.326039   0.349771            0.8         3008\n",
       "4              0          7  0.330012   0.358822            1.6         4421\n",
       "5              0          6  0.342627   0.363844            1.6         2571\n",
       "6              0          5  0.349288   0.376734            6.4         3131\n",
       "7              0          4  0.427495   0.450884            3.2         2966\n",
       "8              0          3  0.506521   0.525104            1.6         3610\n",
       "9              0          2  0.579075   0.590969            0.8         3082\n",
       "10             0          1  0.635152   0.641435            0.4         3547\n",
       "11             0          0  0.671864   0.674250            0.2         3536"
      ]
     },
     "execution_count": 30,
     "metadata": {},
     "output_type": "execute_result"
    },
    {
     "name": "stdout",
     "output_type": "stream",
     "text": [
      "time: 1.18 s\n"
     ]
    }
   ],
   "source": [
    "%%bigquery\n",
    "SELECT * \n",
    "FROM ML.TRAINING_INFO(MODEL banking.log_reg)"
   ]
  },
  {
   "cell_type": "code",
   "execution_count": 31,
   "metadata": {},
   "outputs": [
    {
     "data": {
      "text/html": [
       "<div>\n",
       "<style scoped>\n",
       "    .dataframe tbody tr th:only-of-type {\n",
       "        vertical-align: middle;\n",
       "    }\n",
       "\n",
       "    .dataframe tbody tr th {\n",
       "        vertical-align: top;\n",
       "    }\n",
       "\n",
       "    .dataframe thead th {\n",
       "        text-align: right;\n",
       "    }\n",
       "</style>\n",
       "<table border=\"1\" class=\"dataframe\">\n",
       "  <thead>\n",
       "    <tr style=\"text-align: right;\">\n",
       "      <th></th>\n",
       "      <th>precision</th>\n",
       "      <th>recall</th>\n",
       "      <th>accuracy</th>\n",
       "      <th>f1_score</th>\n",
       "      <th>log_loss</th>\n",
       "      <th>roc_auc</th>\n",
       "    </tr>\n",
       "  </thead>\n",
       "  <tbody>\n",
       "    <tr>\n",
       "      <th>0</th>\n",
       "      <td>0.828179</td>\n",
       "      <td>0.967871</td>\n",
       "      <td>0.881874</td>\n",
       "      <td>0.892593</td>\n",
       "      <td>0.326588</td>\n",
       "      <td>0.978576</td>\n",
       "    </tr>\n",
       "  </tbody>\n",
       "</table>\n",
       "</div>"
      ],
      "text/plain": [
       "   precision    recall  accuracy  f1_score  log_loss   roc_auc\n",
       "0   0.828179  0.967871  0.881874  0.892593  0.326588  0.978576"
      ]
     },
     "execution_count": 31,
     "metadata": {},
     "output_type": "execute_result"
    },
    {
     "name": "stdout",
     "output_type": "stream",
     "text": [
      "time: 834 ms\n"
     ]
    }
   ],
   "source": [
    "%%bigquery\n",
    "SELECT * \n",
    "FROM ML.EVALUATE(MODEL banking.log_reg)"
   ]
  },
  {
   "cell_type": "code",
   "execution_count": 32,
   "metadata": {},
   "outputs": [
    {
     "data": {
      "text/html": [
       "<div>\n",
       "<style scoped>\n",
       "    .dataframe tbody tr th:only-of-type {\n",
       "        vertical-align: middle;\n",
       "    }\n",
       "\n",
       "    .dataframe tbody tr th {\n",
       "        vertical-align: top;\n",
       "    }\n",
       "\n",
       "    .dataframe thead th {\n",
       "        text-align: right;\n",
       "    }\n",
       "</style>\n",
       "<table border=\"1\" class=\"dataframe\">\n",
       "  <thead>\n",
       "    <tr style=\"text-align: right;\">\n",
       "      <th></th>\n",
       "      <th>expected_label</th>\n",
       "      <th>_0</th>\n",
       "      <th>_1</th>\n",
       "    </tr>\n",
       "  </thead>\n",
       "  <tbody>\n",
       "    <tr>\n",
       "      <th>0</th>\n",
       "      <td>0</td>\n",
       "      <td>192</td>\n",
       "      <td>50</td>\n",
       "    </tr>\n",
       "    <tr>\n",
       "      <th>1</th>\n",
       "      <td>1</td>\n",
       "      <td>8</td>\n",
       "      <td>241</td>\n",
       "    </tr>\n",
       "  </tbody>\n",
       "</table>\n",
       "</div>"
      ],
      "text/plain": [
       "  expected_label   _0   _1\n",
       "0              0  192   50\n",
       "1              1    8  241"
      ]
     },
     "execution_count": 32,
     "metadata": {},
     "output_type": "execute_result"
    },
    {
     "name": "stdout",
     "output_type": "stream",
     "text": [
      "time: 974 ms\n"
     ]
    }
   ],
   "source": [
    "%%bigquery\n",
    "SELECT * \n",
    "FROM ML.CONFUSION_MATRIX(MODEL banking.log_reg)"
   ]
  },
  {
   "cell_type": "code",
   "execution_count": 33,
   "metadata": {},
   "outputs": [
    {
     "data": {
      "text/html": [
       "<div>\n",
       "<style scoped>\n",
       "    .dataframe tbody tr th:only-of-type {\n",
       "        vertical-align: middle;\n",
       "    }\n",
       "\n",
       "    .dataframe tbody tr th {\n",
       "        vertical-align: top;\n",
       "    }\n",
       "\n",
       "    .dataframe thead th {\n",
       "        text-align: right;\n",
       "    }\n",
       "</style>\n",
       "<table border=\"1\" class=\"dataframe\">\n",
       "  <thead>\n",
       "    <tr style=\"text-align: right;\">\n",
       "      <th></th>\n",
       "      <th>threshold</th>\n",
       "      <th>recall</th>\n",
       "      <th>false_positive_rate</th>\n",
       "      <th>true_positives</th>\n",
       "      <th>false_positives</th>\n",
       "      <th>true_negatives</th>\n",
       "      <th>false_negatives</th>\n",
       "    </tr>\n",
       "  </thead>\n",
       "  <tbody>\n",
       "    <tr>\n",
       "      <th>0</th>\n",
       "      <td>9.999999e-01</td>\n",
       "      <td>0.004016</td>\n",
       "      <td>0.000000</td>\n",
       "      <td>1</td>\n",
       "      <td>0</td>\n",
       "      <td>242</td>\n",
       "      <td>248</td>\n",
       "    </tr>\n",
       "    <tr>\n",
       "      <th>1</th>\n",
       "      <td>9.998490e-01</td>\n",
       "      <td>0.020080</td>\n",
       "      <td>0.000000</td>\n",
       "      <td>5</td>\n",
       "      <td>0</td>\n",
       "      <td>242</td>\n",
       "      <td>244</td>\n",
       "    </tr>\n",
       "    <tr>\n",
       "      <th>2</th>\n",
       "      <td>9.971835e-01</td>\n",
       "      <td>0.040161</td>\n",
       "      <td>0.000000</td>\n",
       "      <td>10</td>\n",
       "      <td>0</td>\n",
       "      <td>242</td>\n",
       "      <td>239</td>\n",
       "    </tr>\n",
       "    <tr>\n",
       "      <th>3</th>\n",
       "      <td>9.931476e-01</td>\n",
       "      <td>0.060241</td>\n",
       "      <td>0.000000</td>\n",
       "      <td>15</td>\n",
       "      <td>0</td>\n",
       "      <td>242</td>\n",
       "      <td>234</td>\n",
       "    </tr>\n",
       "    <tr>\n",
       "      <th>4</th>\n",
       "      <td>9.901593e-01</td>\n",
       "      <td>0.080321</td>\n",
       "      <td>0.000000</td>\n",
       "      <td>20</td>\n",
       "      <td>0</td>\n",
       "      <td>242</td>\n",
       "      <td>229</td>\n",
       "    </tr>\n",
       "    <tr>\n",
       "      <th>...</th>\n",
       "      <td>...</td>\n",
       "      <td>...</td>\n",
       "      <td>...</td>\n",
       "      <td>...</td>\n",
       "      <td>...</td>\n",
       "      <td>...</td>\n",
       "      <td>...</td>\n",
       "    </tr>\n",
       "    <tr>\n",
       "      <th>96</th>\n",
       "      <td>9.273249e-03</td>\n",
       "      <td>1.000000</td>\n",
       "      <td>0.921488</td>\n",
       "      <td>249</td>\n",
       "      <td>223</td>\n",
       "      <td>19</td>\n",
       "      <td>0</td>\n",
       "    </tr>\n",
       "    <tr>\n",
       "      <th>97</th>\n",
       "      <td>4.885302e-03</td>\n",
       "      <td>1.000000</td>\n",
       "      <td>0.942149</td>\n",
       "      <td>249</td>\n",
       "      <td>228</td>\n",
       "      <td>14</td>\n",
       "      <td>0</td>\n",
       "    </tr>\n",
       "    <tr>\n",
       "      <th>98</th>\n",
       "      <td>7.403874e-04</td>\n",
       "      <td>1.000000</td>\n",
       "      <td>0.962810</td>\n",
       "      <td>249</td>\n",
       "      <td>233</td>\n",
       "      <td>9</td>\n",
       "      <td>0</td>\n",
       "    </tr>\n",
       "    <tr>\n",
       "      <th>99</th>\n",
       "      <td>3.446860e-04</td>\n",
       "      <td>1.000000</td>\n",
       "      <td>0.983471</td>\n",
       "      <td>249</td>\n",
       "      <td>238</td>\n",
       "      <td>4</td>\n",
       "      <td>0</td>\n",
       "    </tr>\n",
       "    <tr>\n",
       "      <th>100</th>\n",
       "      <td>2.912948e-07</td>\n",
       "      <td>1.000000</td>\n",
       "      <td>1.000000</td>\n",
       "      <td>249</td>\n",
       "      <td>242</td>\n",
       "      <td>0</td>\n",
       "      <td>0</td>\n",
       "    </tr>\n",
       "  </tbody>\n",
       "</table>\n",
       "<p>101 rows × 7 columns</p>\n",
       "</div>"
      ],
      "text/plain": [
       "        threshold    recall  false_positive_rate  true_positives  \\\n",
       "0    9.999999e-01  0.004016             0.000000               1   \n",
       "1    9.998490e-01  0.020080             0.000000               5   \n",
       "2    9.971835e-01  0.040161             0.000000              10   \n",
       "3    9.931476e-01  0.060241             0.000000              15   \n",
       "4    9.901593e-01  0.080321             0.000000              20   \n",
       "..            ...       ...                  ...             ...   \n",
       "96   9.273249e-03  1.000000             0.921488             249   \n",
       "97   4.885302e-03  1.000000             0.942149             249   \n",
       "98   7.403874e-04  1.000000             0.962810             249   \n",
       "99   3.446860e-04  1.000000             0.983471             249   \n",
       "100  2.912948e-07  1.000000             1.000000             249   \n",
       "\n",
       "     false_positives  true_negatives  false_negatives  \n",
       "0                  0             242              248  \n",
       "1                  0             242              244  \n",
       "2                  0             242              239  \n",
       "3                  0             242              234  \n",
       "4                  0             242              229  \n",
       "..               ...             ...              ...  \n",
       "96               223              19                0  \n",
       "97               228              14                0  \n",
       "98               233               9                0  \n",
       "99               238               4                0  \n",
       "100              242               0                0  \n",
       "\n",
       "[101 rows x 7 columns]"
      ]
     },
     "execution_count": 33,
     "metadata": {},
     "output_type": "execute_result"
    },
    {
     "name": "stdout",
     "output_type": "stream",
     "text": [
      "time: 699 ms\n"
     ]
    }
   ],
   "source": [
    "%%bigquery\n",
    "SELECT * \n",
    "FROM ML.ROC_CURVE(MODEL banking.log_reg)"
   ]
  },
  {
   "cell_type": "markdown",
   "metadata": {},
   "source": [
    "# **Regression in AutoML (Tables) Forecasting**"
   ]
  },
  {
   "cell_type": "code",
   "execution_count": 34,
   "metadata": {},
   "outputs": [
    {
     "data": {
      "text/html": [
       "<div>\n",
       "<style scoped>\n",
       "    .dataframe tbody tr th:only-of-type {\n",
       "        vertical-align: middle;\n",
       "    }\n",
       "\n",
       "    .dataframe tbody tr th {\n",
       "        vertical-align: top;\n",
       "    }\n",
       "\n",
       "    .dataframe thead th {\n",
       "        text-align: right;\n",
       "    }\n",
       "</style>\n",
       "<table border=\"1\" class=\"dataframe\">\n",
       "  <thead>\n",
       "    <tr style=\"text-align: right;\">\n",
       "      <th></th>\n",
       "      <th>date</th>\n",
       "      <th>google</th>\n",
       "      <th>apple</th>\n",
       "      <th>microsoft</th>\n",
       "    </tr>\n",
       "  </thead>\n",
       "  <tbody>\n",
       "    <tr>\n",
       "      <th>0</th>\n",
       "      <td>2010-02-01</td>\n",
       "      <td>265.514771</td>\n",
       "      <td>280.416718</td>\n",
       "      <td>299.634420</td>\n",
       "    </tr>\n",
       "    <tr>\n",
       "      <th>1</th>\n",
       "      <td>2010-02-02</td>\n",
       "      <td>264.568329</td>\n",
       "      <td>285.866858</td>\n",
       "      <td>293.798048</td>\n",
       "    </tr>\n",
       "    <tr>\n",
       "      <th>2</th>\n",
       "      <td>2010-02-03</td>\n",
       "      <td>269.400208</td>\n",
       "      <td>279.490699</td>\n",
       "      <td>297.201112</td>\n",
       "    </tr>\n",
       "    <tr>\n",
       "      <th>3</th>\n",
       "      <td>2010-02-04</td>\n",
       "      <td>262.406433</td>\n",
       "      <td>282.354225</td>\n",
       "      <td>299.442578</td>\n",
       "    </tr>\n",
       "    <tr>\n",
       "      <th>4</th>\n",
       "      <td>2010-02-05</td>\n",
       "      <td>264.653015</td>\n",
       "      <td>284.056413</td>\n",
       "      <td>302.076580</td>\n",
       "    </tr>\n",
       "  </tbody>\n",
       "</table>\n",
       "</div>"
      ],
      "text/plain": [
       "        date      google       apple   microsoft\n",
       "0 2010-02-01  265.514771  280.416718  299.634420\n",
       "1 2010-02-02  264.568329  285.866858  293.798048\n",
       "2 2010-02-03  269.400208  279.490699  297.201112\n",
       "3 2010-02-04  262.406433  282.354225  299.442578\n",
       "4 2010-02-05  264.653015  284.056413  302.076580"
      ]
     },
     "execution_count": 34,
     "metadata": {},
     "output_type": "execute_result"
    },
    {
     "name": "stdout",
     "output_type": "stream",
     "text": [
      "time: 12.6 ms\n"
     ]
    }
   ],
   "source": [
    "series.head()"
   ]
  },
  {
   "cell_type": "markdown",
   "metadata": {},
   "source": [
    "**Add unique identifier for AutoML Forecasting**"
   ]
  },
  {
   "cell_type": "code",
   "execution_count": 35,
   "metadata": {},
   "outputs": [
    {
     "data": {
      "text/html": [
       "<div>\n",
       "<style scoped>\n",
       "    .dataframe tbody tr th:only-of-type {\n",
       "        vertical-align: middle;\n",
       "    }\n",
       "\n",
       "    .dataframe tbody tr th {\n",
       "        vertical-align: top;\n",
       "    }\n",
       "\n",
       "    .dataframe thead th {\n",
       "        text-align: right;\n",
       "    }\n",
       "</style>\n",
       "<table border=\"1\" class=\"dataframe\">\n",
       "  <thead>\n",
       "    <tr style=\"text-align: right;\">\n",
       "      <th></th>\n",
       "      <th>date</th>\n",
       "      <th>google</th>\n",
       "      <th>apple</th>\n",
       "      <th>microsoft</th>\n",
       "      <th>unique_id</th>\n",
       "    </tr>\n",
       "  </thead>\n",
       "  <tbody>\n",
       "    <tr>\n",
       "      <th>0</th>\n",
       "      <td>2010-02-01</td>\n",
       "      <td>265.514771</td>\n",
       "      <td>280.416718</td>\n",
       "      <td>299.634420</td>\n",
       "      <td>42</td>\n",
       "    </tr>\n",
       "    <tr>\n",
       "      <th>1</th>\n",
       "      <td>2010-02-02</td>\n",
       "      <td>264.568329</td>\n",
       "      <td>285.866858</td>\n",
       "      <td>293.798048</td>\n",
       "      <td>42</td>\n",
       "    </tr>\n",
       "    <tr>\n",
       "      <th>2</th>\n",
       "      <td>2010-02-03</td>\n",
       "      <td>269.400208</td>\n",
       "      <td>279.490699</td>\n",
       "      <td>297.201112</td>\n",
       "      <td>42</td>\n",
       "    </tr>\n",
       "    <tr>\n",
       "      <th>3</th>\n",
       "      <td>2010-02-04</td>\n",
       "      <td>262.406433</td>\n",
       "      <td>282.354225</td>\n",
       "      <td>299.442578</td>\n",
       "      <td>42</td>\n",
       "    </tr>\n",
       "    <tr>\n",
       "      <th>4</th>\n",
       "      <td>2010-02-05</td>\n",
       "      <td>264.653015</td>\n",
       "      <td>284.056413</td>\n",
       "      <td>302.076580</td>\n",
       "      <td>42</td>\n",
       "    </tr>\n",
       "  </tbody>\n",
       "</table>\n",
       "</div>"
      ],
      "text/plain": [
       "        date      google       apple   microsoft unique_id\n",
       "0 2010-02-01  265.514771  280.416718  299.634420        42\n",
       "1 2010-02-02  264.568329  285.866858  293.798048        42\n",
       "2 2010-02-03  269.400208  279.490699  297.201112        42\n",
       "3 2010-02-04  262.406433  282.354225  299.442578        42\n",
       "4 2010-02-05  264.653015  284.056413  302.076580        42"
      ]
     },
     "execution_count": 35,
     "metadata": {},
     "output_type": "execute_result"
    },
    {
     "name": "stdout",
     "output_type": "stream",
     "text": [
      "time: 15.4 ms\n"
     ]
    }
   ],
   "source": [
    "automl = series.copy()\n",
    "automl['unique_id'] = '42'\n",
    "automl.head()"
   ]
  },
  {
   "cell_type": "markdown",
   "metadata": {},
   "source": [
    "**How many entries are there? (minimum 2000 for AutoML Forecasting)**"
   ]
  },
  {
   "cell_type": "code",
   "execution_count": 36,
   "metadata": {},
   "outputs": [
    {
     "data": {
      "text/plain": [
       "date         2514\n",
       "google       2514\n",
       "apple        2514\n",
       "microsoft    2514\n",
       "unique_id    2514\n",
       "dtype: int64"
      ]
     },
     "execution_count": 36,
     "metadata": {},
     "output_type": "execute_result"
    },
    {
     "name": "stdout",
     "output_type": "stream",
     "text": [
      "time: 8.44 ms\n"
     ]
    }
   ],
   "source": [
    "automl.count()"
   ]
  },
  {
   "cell_type": "markdown",
   "metadata": {},
   "source": [
    "**Missing Data?**"
   ]
  },
  {
   "cell_type": "code",
   "execution_count": 37,
   "metadata": {},
   "outputs": [
    {
     "data": {
      "text/plain": [
       "date         0\n",
       "google       0\n",
       "apple        0\n",
       "microsoft    0\n",
       "unique_id    0\n",
       "dtype: int64"
      ]
     },
     "execution_count": 37,
     "metadata": {},
     "output_type": "execute_result"
    },
    {
     "name": "stdout",
     "output_type": "stream",
     "text": [
      "time: 24.1 ms\n"
     ]
    }
   ],
   "source": [
    "automl.apply(lambda x: sum(x.isnull()),axis=0) "
   ]
  },
  {
   "cell_type": "markdown",
   "metadata": {},
   "source": [
    "**Write table as table called 'automl' in Bigquery**"
   ]
  },
  {
   "cell_type": "code",
   "execution_count": 38,
   "metadata": {},
   "outputs": [
    {
     "name": "stderr",
     "output_type": "stream",
     "text": [
      "1it [00:03,  3.40s/it]"
     ]
    },
    {
     "name": "stdout",
     "output_type": "stream",
     "text": [
      "time: 4.44 s\n"
     ]
    },
    {
     "name": "stderr",
     "output_type": "stream",
     "text": [
      "\n"
     ]
    }
   ],
   "source": [
    "project_id = !gcloud config get-value project\n",
    "automl.to_gbq('banking.automl', project_id=project_id[0])"
   ]
  },
  {
   "cell_type": "code",
   "execution_count": null,
   "metadata": {},
   "outputs": [],
   "source": []
  }
 ],
 "metadata": {
  "environment": {
   "name": "tf2-gpu.2-3.m65",
   "type": "gcloud",
   "uri": "gcr.io/deeplearning-platform-release/tf2-gpu.2-3:m65"
  },
  "kernelspec": {
   "display_name": "Python 3",
   "language": "python",
   "name": "python3"
  },
  "language_info": {
   "codemirror_mode": {
    "name": "ipython",
    "version": 3
   },
   "file_extension": ".py",
   "mimetype": "text/x-python",
   "name": "python",
   "nbconvert_exporter": "python",
   "pygments_lexer": "ipython3",
   "version": "3.8.5"
  }
 },
 "nbformat": 4,
 "nbformat_minor": 4
}
