{
  "nbformat": 4,
  "nbformat_minor": 0,
  "metadata": {
    "colab": {
      "name": "levy.ipynb",
      "provenance": [],
      "collapsed_sections": [],
      "include_colab_link": true
    },
    "kernelspec": {
      "name": "python3",
      "display_name": "Python 3"
    }
  },
  "cells": [
    {
      "cell_type": "markdown",
      "metadata": {
        "id": "view-in-github",
        "colab_type": "text"
      },
      "source": [
        "<a href=\"https://colab.research.google.com/github/deltorobarba/machinelearning/blob/master/levy.ipynb\" target=\"_parent\"><img src=\"https://colab.research.google.com/assets/colab-badge.svg\" alt=\"Open In Colab\"/></a>"
      ]
    },
    {
      "cell_type": "markdown",
      "metadata": {
        "id": "2Aoj2PpxvDQV",
        "colab_type": "text"
      },
      "source": [
        "# **Lévy Process**"
      ]
    },
    {
      "cell_type": "code",
      "metadata": {
        "id": "1U5_6xH7tAQq",
        "colab_type": "code",
        "colab": {}
      },
      "source": [
        "import numpy as np\n",
        "import pandas as pd\n",
        "import seaborn as sns\n",
        "import matplotlib.pyplot as plt"
      ],
      "execution_count": null,
      "outputs": []
    },
    {
      "cell_type": "markdown",
      "metadata": {
        "id": "dTQP6Jd68WsL",
        "colab_type": "text"
      },
      "source": [
        "* A Lévy process is a stochastic process with **[independent, stationary increments](https://de.m.wikipedia.org/wiki/Prozess_mit_unabhängigen_Zuwächsen)** (= the course of the future of the process is independent of the past): it represents the motion of a point whose successive displacements are random and independent, and statistically identical over different time intervals of the same length. \n",
        "\n",
        "* A Lévy process may thus be viewed as the **continuous-time analog of a random walk**.\n",
        "\n",
        "* The most well known **examples of Lévy processes are Wiener process (~ Brownian motion), and Poisson process**. Aside from Brownian motion with drift, all other proper (that is, not deterministic) Lévy processes have discontinuous paths."
      ]
    },
    {
      "cell_type": "markdown",
      "metadata": {
        "id": "kzJCdV5-9id3",
        "colab_type": "text"
      },
      "source": [
        "**Properties**"
      ]
    },
    {
      "cell_type": "markdown",
      "metadata": {
        "id": "ImG6k7IQ9kKp",
        "colab_type": "text"
      },
      "source": [
        "1. X<sub>0</sub> = 0, almost surely\n",
        "2. Independence of increments\n",
        "3. Stationary increments\n",
        "4. Continuity in probability"
      ]
    },
    {
      "cell_type": "markdown",
      "metadata": {
        "id": "Jmnk-Rxs9-LQ",
        "colab_type": "text"
      },
      "source": [
        "**Lévy–Itô decomposition**"
      ]
    },
    {
      "cell_type": "markdown",
      "metadata": {
        "id": "oQViriVk98F1",
        "colab_type": "text"
      },
      "source": [
        "Because the characteristic functions of independent random variables multiply, the Lévy–Khintchine theorem suggests that every Lévy process is the sum of Brownian motion with drift and another independent random variable. The Lévy–Itô decomposition describes the latter as a (stochastic) sum of independent Poisson random variables."
      ]
    }
  ]
}