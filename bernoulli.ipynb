{
  "nbformat": 4,
  "nbformat_minor": 0,
  "metadata": {
    "colab": {
      "name": "bernoulli.ipynb",
      "provenance": [],
      "collapsed_sections": [],
      "include_colab_link": true
    },
    "kernelspec": {
      "name": "python3",
      "display_name": "Python 3"
    }
  },
  "cells": [
    {
      "cell_type": "markdown",
      "metadata": {
        "id": "view-in-github",
        "colab_type": "text"
      },
      "source": [
        "<a href=\"https://colab.research.google.com/github/deltorobarba/machinelearning/blob/master/bernoulli.ipynb\" target=\"_parent\"><img src=\"https://colab.research.google.com/assets/colab-badge.svg\" alt=\"Open In Colab\"/></a>"
      ]
    },
    {
      "cell_type": "markdown",
      "metadata": {
        "id": "2Aoj2PpxvDQV",
        "colab_type": "text"
      },
      "source": [
        "# **Bernoulli Process**"
      ]
    },
    {
      "cell_type": "code",
      "metadata": {
        "id": "1U5_6xH7tAQq",
        "colab_type": "code",
        "colab": {}
      },
      "source": [
        "import numpy as np\n",
        "import pandas as pd\n",
        "import seaborn as sns\n",
        "import matplotlib.pyplot as plt"
      ],
      "execution_count": null,
      "outputs": []
    },
    {
      "cell_type": "markdown",
      "metadata": {
        "id": "GaFWBH8Ju9Sl",
        "colab_type": "text"
      },
      "source": [
        "**Bernoulli Distribution**"
      ]
    },
    {
      "cell_type": "markdown",
      "metadata": {
        "id": "qUXl-mMMu_XP",
        "colab_type": "text"
      },
      "source": [
        "* The Bernoulli distribution is the discrete probability distribution of a random variable which takes a binary, boolean output: 1 with probability p, and 0 with probability (1-p). \n",
        "\n",
        "* The idea is that, whenever you are running an experiment which might lead either to a success or to a failure, you can associate with your success (labeled with 1) a probability p, while your insuccess (labeled with 0) will have probability (1-p).\n",
        "\n",
        "* The repetition of multiple independent Bernoulli trials is called a Bernoulli process.\n",
        "\n",
        "* The outcomes of a Bernoulli process will follow a [Binomial distribution](https://en.m.wikipedia.org/wiki/Binomial_distribution). As such, the Bernoulli distribution would be a Binomial distribution with a single trial. The [Bernoulli distribution](https://en.m.wikipedia.org/wiki/Bernoulli_distribution) is a special case of the binomial distribution where a single trial is conducted (so n would be 1 for such a binomial distribution). It is also a special case of the two-point distribution, for which the possible outcomes need not be 0 and 1."
      ]
    },
    {
      "cell_type": "markdown",
      "metadata": {
        "id": "tS4xLFq4xhAF",
        "colab_type": "text"
      },
      "source": [
        "https://machinelearningmastery.com/discrete-probability-distributions-for-machine-learning/"
      ]
    },
    {
      "cell_type": "markdown",
      "metadata": {
        "id": "plHbTb8ovK6A",
        "colab_type": "text"
      },
      "source": [
        "**Bernoulli Process**"
      ]
    },
    {
      "cell_type": "markdown",
      "metadata": {
        "id": "eaAvA4JovM_-",
        "colab_type": "text"
      },
      "source": [
        "* A Bernoulli process is a finite or infinite sequence of binary random variables, so it is a discrete-time stochastic process that takes only two values, canonically 0 and 1. \n",
        "\n",
        "* The component Bernoulli variables X<sub>i</sub> are [identically distributed and independent](https://en.m.wikipedia.org/wiki/Independent_and_identically_distributed_random_variables). Prosaically, a Bernoulli process is a repeated coin flipping, possibly with an unfair coin (but with consistent unfairness). \n",
        "\n",
        "* Every variable X<sub>i</sub> in the sequence is associated with a Bernoulli trial or experiment. They all have the same Bernoulli distribution. Much of what can be said about the Bernoulli process can also be generalized to more than two outcomes (such as the process for a six-sided dice); this generalization is known as the **Bernoulli scheme**.\n",
        "\n",
        "* The problem of determining the process, given only a limited sample of Bernoulli trials, may be called the problem of checking whether a coin is fair."
      ]
    },
    {
      "cell_type": "markdown",
      "metadata": {
        "id": "mBL6rCwivxfm",
        "colab_type": "text"
      },
      "source": [
        "**Properties**\n",
        "\n",
        "A Bernoulli process is a **finite or infinite sequence of independent random variables** X1, X2, X3, ..., such that:\n",
        "\n",
        "* for each i, the value of Xi is either 0 or 1;\n",
        "\n",
        "* for all values of i, the probability p that Xi = 1 is the same.\n",
        "\n",
        "In other words, a Bernoulli process is a **sequence of independent identically distributed** Bernoulli trials.\n",
        "\n",
        "Independence of the trials implies that the **process is memoryless**. Given that the probability p is known, past outcomes provide no information about future outcomes. (If p is unknown, however, the past informs about the future indirectly, through inferences about p.)\n",
        "\n",
        "If the process is infinite, then from any point the future trials constitute a Bernoulli process identical to the whole process, the fresh-start property.\n",
        "\n"
      ]
    }
  ]
}