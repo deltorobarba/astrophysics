{
  "nbformat": 4,
  "nbformat_minor": 0,
  "metadata": {
    "colab": {
      "name": "numbers.ipynb",
      "provenance": [],
      "collapsed_sections": [
        "Svom57p5qUBF",
        "2jRlk3PitK_X",
        "jhzECODotDAs",
        "8aMAo18a7XaV",
        "dPQ32QlkY-5A",
        "la1Mt1SYtAGp",
        "f-Me7uqcZVn_",
        "2Aoj2PpxvDQV",
        "aXtkYuCrMR-l",
        "YWRcT954gnhQ",
        "Ew0Gfkwt2CBu",
        "nrkLBUH1hb36",
        "qYW5u_0Oi7l5",
        "_Syw4dL96u31",
        "4SpYIJ602L38",
        "F1l9_Erf5T5S",
        "Tg7TfvlQN8-t",
        "00B-3E6wT_WN",
        "QwmusuE_vi8z",
        "_BMwC_7ev16S",
        "n7txO-4l254v",
        "EfrXUsI54L2_",
        "2MenUOeZ94mb",
        "7cOvYI6xr_fl",
        "9CK7lhFotFU6",
        "AkGlQfd1yMiD",
        "5cGTdIiSj7T2",
        "0TTjGoOihEYB",
        "Ov6v_nkqxnBn",
        "Icf9R4rz53z_",
        "QmfX-CNmOZGr",
        "ftKE9QkO55-i",
        "zgH-0xLyEbqM",
        "lWaTQAuEG2m6",
        "gdkIExFtEh8W",
        "rw9GQgLL-qm-",
        "zN-mlxJyUxVU",
        "xfdBIY5Y-eNj",
        "amqD-XmcNbdW",
        "y7OksUkfrCUH",
        "6A1WfmYqHxFw",
        "kDlJ7rtrH1Jk",
        "_QgKCNimH6Sa",
        "Oc36OYMXjGCI",
        "vVa4sBaTvj6U",
        "U3xyzZzNOEhv",
        "4JijVDdYpeTw",
        "_DcbvY2o-JyH",
        "xkZ5JGgOF0sg",
        "rHbqVW7sb0Pg",
        "VMXeo-KcVurT",
        "uPNSndPtbrJ0",
        "gOMKrtkmE8ua",
        "_F7C0w0HcBTE",
        "JUgCSRigbYcL",
        "7urGQ-Mimc1B",
        "hIwXOz85zxW_",
        "oWWNNyv_EaUV",
        "ns0WTkvNEDAQ",
        "_ewrnIMeGMaB",
        "2NTzou7vkNpJ",
        "Zn9KRGIxmuMA",
        "TIlHfzneEmUl",
        "pjRri_I_FHtx",
        "Qy5Bzgs2FlRp",
        "7VusXlsGmEqM",
        "m6JGAp7gkVxN",
        "TJ19WJwUEMSI",
        "0aIi9hlrERqr",
        "3lyG3ihYEZnO",
        "tCPgHXFiCKpH"
      ],
      "include_colab_link": true
    },
    "kernelspec": {
      "name": "python3",
      "display_name": "Python 3"
    }
  },
  "cells": [
    {
      "cell_type": "markdown",
      "metadata": {
        "id": "view-in-github",
        "colab_type": "text"
      },
      "source": [
        "<a href=\"https://colab.research.google.com/github/deltorobarba/machinelearning/blob/master/numbers.ipynb\" target=\"_parent\"><img src=\"https://colab.research.google.com/assets/colab-badge.svg\" alt=\"Open In Colab\"/></a>"
      ]
    },
    {
      "cell_type": "markdown",
      "metadata": {
        "id": "HjNmcYpFuFTY"
      },
      "source": [
        "# **Number Theory**"
      ]
    },
    {
      "cell_type": "code",
      "metadata": {
        "id": "RYViK39mt7Nj"
      },
      "source": [
        "import numpy as np\n",
        "import pandas as pd\n",
        "import seaborn as sns\n",
        "import matplotlib.pyplot as plt"
      ],
      "execution_count": null,
      "outputs": []
    },
    {
      "cell_type": "markdown",
      "metadata": {
        "id": "ED1yBASxixcf"
      },
      "source": [
        "![analysis](https://upload.wikimedia.org/wikipedia/commons/c/c5/3d-function-9.svg)"
      ]
    },
    {
      "cell_type": "markdown",
      "metadata": {
        "id": "rqf19S3QV5Pj"
      },
      "source": [
        "## **Zahlentheorie**"
      ]
    },
    {
      "cell_type": "markdown",
      "metadata": {
        "id": "rh2F-UNLrsm0"
      },
      "source": [
        "https://de.m.wikipedia.org/wiki/Reihenentwicklung"
      ]
    },
    {
      "cell_type": "markdown",
      "metadata": {
        "id": "Svom57p5qUBF"
      },
      "source": [
        "##### **Zahlenarten**"
      ]
    },
    {
      "cell_type": "markdown",
      "metadata": {
        "id": "5g878nE6q7lX"
      },
      "source": [
        "![ggg](https://raw.githubusercontent.com/deltorobarba/repo/master/number_001.jpg)"
      ]
    },
    {
      "cell_type": "markdown",
      "metadata": {
        "id": "RTNHMgPsrj4B"
      },
      "source": [
        "**Transcendental numbers:**\n",
        "\n",
        "* pie π or Euler number\n",
        "\n",
        "* Never end after comma: 3.14159265358979323846....\n",
        "\n",
        "* Cannot be displayed as fraction"
      ]
    },
    {
      "cell_type": "markdown",
      "metadata": {
        "id": "VmVu9D8nrvsY"
      },
      "source": [
        "**p-adic numbers**\n",
        "\n",
        "* infinite before comma: ....985356295141.3\n",
        "\n",
        "* [p-adische Zahl](https://de.m.wikipedia.org/wiki/P-adische_Zahl) ist eine Zahl, die sich in einer Potenzreihe zu einer Primzahl darstellen lässt\n",
        "\n",
        "* p-adic number systems emerge from modular arithmetic\n",
        "\n",
        "* https://www.quantamagazine.org/how-the-towering-p-adic-numbers-work-20201019/\n",
        "\n",
        "* https://www.quantamagazine.org/peter-scholze-and-the-future-of-arithmetic-geometry-20160628/\n",
        "\n",
        "* https://www.quantamagazine.org/with-a-new-shape-mathematicians-link-geometry-and-numbers-20210719/"
      ]
    },
    {
      "cell_type": "markdown",
      "metadata": {
        "id": "NCJeuj1NrREv"
      },
      "source": [
        "**Negative and imaginary numbers**\n",
        "\n",
        "* Video: imaginary numbers: https://youtu.be/sZrOxm5Gszk\n",
        "\n",
        "* Negative numbers good for alternating phenomana: keeping track of a sign of  alternating systems (like a light switch). Keep track of any systems that toggles.\n",
        "\n",
        "* Complex / imaginary numbers good for keeping track of systems that rotate (when we multiply numbers by the imaginary part i, the result rotates anti-clockwise)"
      ]
    },
    {
      "cell_type": "markdown",
      "metadata": {
        "id": "2jRlk3PitK_X"
      },
      "source": [
        "##### **Infinity**"
      ]
    },
    {
      "cell_type": "markdown",
      "metadata": {
        "id": "SgApbaEMtNxQ"
      },
      "source": [
        "https://youtu.be/X56zst79Xjg"
      ]
    },
    {
      "cell_type": "markdown",
      "metadata": {
        "id": "jhzECODotDAs"
      },
      "source": [
        "##### **Zahlentheorie**"
      ]
    },
    {
      "cell_type": "markdown",
      "metadata": {
        "id": "ObK-2d-DYtcF"
      },
      "source": [
        "https://de.m.wikipedia.org/wiki/Zahlentheorie"
      ]
    },
    {
      "cell_type": "markdown",
      "metadata": {
        "id": "rmAijhxIV8e-"
      },
      "source": [
        "https://de.m.wikipedia.org/wiki/Analytische_Zahlentheorie"
      ]
    },
    {
      "cell_type": "markdown",
      "metadata": {
        "id": "gH4h8gml67jK"
      },
      "source": [
        "https://de.m.wikipedia.org/wiki/Algebraische_Zahlentheorie"
      ]
    },
    {
      "cell_type": "markdown",
      "metadata": {
        "id": "Vzx_Xs-4Ge0z"
      },
      "source": [
        "https://de.m.wikipedia.org/wiki/Algorithmische_Zahlentheorie"
      ]
    },
    {
      "cell_type": "markdown",
      "metadata": {
        "id": "DcCS_sAWGG9J"
      },
      "source": [
        "https://de.m.wikipedia.org/wiki/Diophantische_Gleichung"
      ]
    },
    {
      "cell_type": "markdown",
      "metadata": {
        "id": "8aMAo18a7XaV"
      },
      "source": [
        "##### **Diskreter Logarithmus & Elliptic Curve Cryptography**"
      ]
    },
    {
      "cell_type": "markdown",
      "metadata": {
        "id": "P5nIctyP7af8"
      },
      "source": [
        "https://de.m.wikipedia.org/wiki/Diskreter_Logarithmus"
      ]
    },
    {
      "cell_type": "markdown",
      "metadata": {
        "id": "QAleyxFD-BAA"
      },
      "source": [
        "Man benutzt RSA algorithmus heute nicht mehr (obwohl sehr anschaulich), sondern nutzt asymmetrische kryptographie auf der basis von ellyptischen kurven (ecc).\n",
        "\n",
        "Elliptische Kurven sind mathematische Funktionen, welche die Funktionsgleichung $y^{\\wedge} 2=x^{\\wedge} 3+a x+b$ erfullen. Sle werden unter anderem in der modernen Kryptografie verwendet, insbesondere im Zusammenhang mit der asymmotrischen Verschlusselung, wo sle die Nachfolge von RSA angetreten haben. Was sind elliptische Kurven und wie funktionleren sie?"
      ]
    },
    {
      "cell_type": "markdown",
      "metadata": {
        "id": "l9hJC_uo-kxq"
      },
      "source": [
        "https://youtu.be/R8Zl9fIEdl4"
      ]
    },
    {
      "cell_type": "markdown",
      "metadata": {
        "id": "RUhGm6bKFRV2"
      },
      "source": [
        "https://youtu.be/OEltqmZAti8"
      ]
    },
    {
      "cell_type": "markdown",
      "metadata": {
        "id": "II54dBpT7csf"
      },
      "source": [
        "https://de.m.wikipedia.org/wiki/Elliptic_Curve_Cryptography"
      ]
    },
    {
      "cell_type": "markdown",
      "metadata": {
        "id": "7DuH1DyI80yw"
      },
      "source": [
        "https://de.m.wikipedia.org/wiki/Elliptische_Kurve"
      ]
    },
    {
      "cell_type": "markdown",
      "metadata": {
        "id": "dPQ32QlkY-5A"
      },
      "source": [
        "##### **elliptic curves**"
      ]
    },
    {
      "cell_type": "markdown",
      "metadata": {
        "id": "9g4hhCD7ZDVP"
      },
      "source": [
        "https://en.m.wikipedia.org/wiki/Elliptic_curve"
      ]
    },
    {
      "cell_type": "markdown",
      "metadata": {
        "id": "jn36bHnkZGj2"
      },
      "source": [
        "https://www.quantamagazine.org/mathematicians-set-numbers-in-motion-to-unlock-their-secrets-20210222/"
      ]
    },
    {
      "cell_type": "markdown",
      "metadata": {
        "id": "la1Mt1SYtAGp"
      },
      "source": [
        "##### **Primzahlen**"
      ]
    },
    {
      "cell_type": "markdown",
      "metadata": {
        "id": "IjhvdrtYYyho"
      },
      "source": [
        "https://de.m.wikipedia.org/wiki/Primzahl"
      ]
    },
    {
      "cell_type": "markdown",
      "metadata": {
        "id": "uhxLznQmu9RB"
      },
      "source": [
        "https://de.m.wikipedia.org/wiki/Primzahlsatz"
      ]
    },
    {
      "cell_type": "markdown",
      "metadata": {
        "id": "HzwenUT4kcTJ"
      },
      "source": [
        "**Riemannsche Vermutung (Primzahlverteilung & Zeta-Funktion)**"
      ]
    },
    {
      "cell_type": "markdown",
      "metadata": {
        "id": "0kFaA3R5k-Wi"
      },
      "source": [
        "* Die Verteilung der Primzahlen ist sehr merkwürdig und damit interessant. So zeigt die Verteilung von Primzahlen in (relativ) kurzen Intervallen eine gewisse „Zufälligkeit“, während andererseits beliebig lange Intervalle existieren, die keine Primzahl enthalten. \n",
        "\n",
        "* Bernhard Riemann setzte sich in seiner Arbeit „Ueber die Anzahl der Primzahlen unter einer gegebenen Grösse“ (1859) zum Ziel, die Verteilung der Primzahlen mit analytischen Methoden zu bestimmen, stieß dabei auf Riemannsche ζ-Funktion und formulierte die Riemannsche Vermutung. Basierend auf den Riemannschen Ideen gelang 1896 der Beweis des Primzahlsatzes, mit dem man für große Zahlen x mit immer größerer relativer Genauigkeit sagen kann, wieviele Primzahlen ≤ x es gibt. \n",
        "\n",
        "* Will man diese Anzahlen noch genauer wissen, so kommt man schnell in einen Bereich mathematischer Fragestellungen mit zahlreichen offenen Problemen, z. B. den Goldbach-Problemen oder Fragen über Primzahlzwillinge."
      ]
    },
    {
      "cell_type": "markdown",
      "metadata": {
        "id": "-pyEckWrkDod"
      },
      "source": [
        "https://www.spektrum.de/lexikon/mathematik/primzahlverteilung/8085"
      ]
    },
    {
      "cell_type": "markdown",
      "metadata": {
        "id": "JWKswGfnYvk6"
      },
      "source": [
        "https://de.m.wikipedia.org/wiki/Riemannsche_Vermutung"
      ]
    },
    {
      "cell_type": "markdown",
      "metadata": {
        "id": "ZGwbuKVvkiW4"
      },
      "source": [
        "https://de.m.wikipedia.org/wiki/Riemannsche_Zetafunktion"
      ]
    },
    {
      "cell_type": "markdown",
      "metadata": {
        "id": "etVUIYaMkFtb"
      },
      "source": [
        "**Primfaktorzerlegung (Faktorisierungsverfahren)**"
      ]
    },
    {
      "cell_type": "markdown",
      "metadata": {
        "id": "Ro5ykeSb8JbL"
      },
      "source": [
        "https://de.m.wikipedia.org/wiki/Primfaktorzerlegung"
      ]
    },
    {
      "cell_type": "markdown",
      "metadata": {
        "id": "4UX2Agd8tKd1"
      },
      "source": [
        "https://de.m.wikipedia.org/wiki/Faktorisierungsverfahren"
      ]
    },
    {
      "cell_type": "markdown",
      "metadata": {
        "id": "kxAquBRy76Wn"
      },
      "source": [
        "https://de.m.wikipedia.org/wiki/Zusammengesetzte_Zahl"
      ]
    },
    {
      "cell_type": "markdown",
      "metadata": {
        "id": "-vs8FcHV780x"
      },
      "source": [
        "https://de.m.wikipedia.org/wiki/Teilbarkeit"
      ]
    },
    {
      "cell_type": "markdown",
      "metadata": {
        "id": "5lHaIHec7mni"
      },
      "source": [
        "https://de.m.wikipedia.org/wiki/Fermat-Zahl"
      ]
    },
    {
      "cell_type": "markdown",
      "metadata": {
        "id": "QVK8COQdsXi0"
      },
      "source": [
        "https://de.m.wikipedia.org/wiki/Mersenne-Zahl"
      ]
    },
    {
      "cell_type": "markdown",
      "metadata": {
        "id": "5voGOgLUs_EC"
      },
      "source": [
        "https://de.m.wikipedia.org/wiki/Lucas-Lehmer-Test"
      ]
    },
    {
      "cell_type": "markdown",
      "metadata": {
        "id": "mu7aelGOta3K"
      },
      "source": [
        "Teste mit 11213:"
      ]
    },
    {
      "cell_type": "code",
      "metadata": {
        "id": "IjDUJkVKsyVg"
      },
      "source": [
        "#Lucas-Lehmer-Test fuer Python 3\n",
        "print('Lucas-Lehmer-Test (Mersenne-Zahlen)')\n",
        "p = int(input('Exponent p von 2^p-1 '))\n",
        "m = 2 ** p-1\n",
        "print('m = 2 ^', p, '- 1 =', m)\n",
        "s = 4\n",
        "for i in range (2, p):\n",
        "    s = (s * s - 2) % m\n",
        "print('ist {}eine Mersenne-Primzahl'.format('' if s == 0 else 'k'))"
      ],
      "execution_count": null,
      "outputs": []
    },
    {
      "cell_type": "markdown",
      "metadata": {
        "id": "f-Me7uqcZVn_"
      },
      "source": [
        "##### **Modulform**"
      ]
    },
    {
      "cell_type": "markdown",
      "metadata": {
        "id": "rz0sqMmyZawo"
      },
      "source": [
        "https://de.m.wikipedia.org/wiki/Modulform"
      ]
    },
    {
      "cell_type": "markdown",
      "metadata": {
        "id": "Tth-FwmWZwxa"
      },
      "source": [
        "https://www.quantamagazine.org/moonshine-link-discovered-for-pariah-symmetries-20170922/"
      ]
    },
    {
      "cell_type": "markdown",
      "metadata": {
        "id": "ftGksyd3ZhYe"
      },
      "source": [
        "https://www.quantamagazine.org/universal-math-solutions-in-dimensions-8-and-24-20190513/"
      ]
    },
    {
      "cell_type": "markdown",
      "metadata": {
        "id": "2Aoj2PpxvDQV"
      },
      "source": [
        "## **Funktionalanalysis**"
      ]
    },
    {
      "cell_type": "markdown",
      "metadata": {
        "id": "aXtkYuCrMR-l"
      },
      "source": [
        "#### **Introduction**"
      ]
    },
    {
      "cell_type": "markdown",
      "metadata": {
        "id": "fEIYn_Espuwu"
      },
      "source": [
        "Functional Analysis: https://youtube.com/playlist?list=PLBh2i93oe2qsGKDOsuVVw-OCAfprrnGfr"
      ]
    },
    {
      "cell_type": "markdown",
      "metadata": {
        "id": "JSntgi3PyqFp"
      },
      "source": [
        "Weitergehende analytische Eigenschaften, wie [Stetigkeit](https://de.wikipedia.org/wiki/Stetige_Funktion), [Differenzierbarkeit](https://de.wikipedia.org/wiki/Differenzierbarkeit) oder [Integrierbarkeit](https://de.wikipedia.org/wiki/Integralrechnung), erfordern auf der Definitionsmenge zumindest eine [topologische](https://de.wikipedia.org/wiki/Topologischer_Raum), [metrische](https://de.wikipedia.org/wiki/Metrischer_Raum) oder [maßtheoretische](https://de.wikipedia.org/wiki/Maßraum) Struktur."
      ]
    },
    {
      "cell_type": "markdown",
      "metadata": {
        "id": "lRaJUh0m5PR8"
      },
      "source": [
        "**Analysis**\n",
        "\n",
        "Die Begriffe der Norm (als Verallgemeinerung des Betrags), der Konvergenz, der Stetigkeit und der Grenzwerte lassen sich einfach von einer in mehrere Dimensionen verallgemeinern.\n",
        "\n",
        "https://de.m.wikipedia.org/wiki/Analysis\n",
        "\n",
        "* Gewöhnliche Differentialgleichungen, Eindimensionale Differential- & Integralrechnung"
      ]
    },
    {
      "cell_type": "markdown",
      "metadata": {
        "id": "syMDia1r2w89"
      },
      "source": [
        "* Functional analysis is organized around adequate techniques to bring function spaces as topological vector spaces within reach of the ideas that would apply to normed spaces of finite dimension. \n",
        "\n",
        "* Die historischen Wurzeln der Funktionalanalysis liegen im Studium der **Fouriertransformation** und aahnlicher Transformationen sowie der Untersuchung von Differential- und Integralgleichungen. \n",
        "\n",
        "* Der Wortbestandteil ”funktional“ geht auf die **Variationsrechnung** zuru ̈ck.\n",
        "\n",
        "* Grundlage der Funktionalanalysis sind Vektorräume über den reellen oder komplexen Zahlen. Der Grundbegriff ist hier der topologische Vektorraum, der dadurch gekennzeichnet ist, **dass die Vektorraumverknüpfungen stetig sind**, etwas konkreter werden auch lokalkonvexe topologische Vektorräume und Fréchet-Räume untersucht. \n",
        "\n",
        "* Wichtige Aussagen sind dabei der Satz von Hahn-Banach, der Satz von Baire und der Satz von Banach-Steinhaus. Insbesondere in der Lösungstheorie partieller Differentialgleichungen spielen diese eine wichtige Rolle, darüber hinaus in der Fredholm-Theorie.\n",
        "\n",
        "* Der wichtigste Spezialfall **lokalkonvexer topologischer Vektorräume** sind **normierte Vektorräume**. Sind diese zusätzlich vollständig, dann heißen sie **Banachräume**. Noch spezieller betrachtet man **Hilberträume**, bei denen die Norm von einem Skalarprodukt erzeugt wird. Diese Räume sind von grundlegender Bedeutung für die mathematische Formulierung der Quantenmechanik. Ein wichtiger Untersuchungsgegenstand sind stetige lineare Operatoren auf Banach- oder Hilberträumen.\n",
        "\n"
      ]
    },
    {
      "cell_type": "markdown",
      "metadata": {
        "id": "TE7kF3loVHOV"
      },
      "source": [
        "Folgende Themen sollen behandelt werden:\n",
        "\n",
        "* Distributionen\n",
        "* Unbeschränkte Operatoren, Spektralsatz \n",
        "* Banach-Räume, Hilbert-Räume (insbesondere Lp- und **Sobolev Räume**) und beschränkte lineare Operatoren darauf.\n",
        "* Pseudodifferentialoperatoren\n",
        "* Grundlegende Sätze der Funktionalanalysis (Hahn-Banach, Banach-Steinhaus, Satz vom abgeschlossenen Graphen...)\n",
        "* Kompakte Operatoren und Fredholm Theorie\n",
        "* Spektraltheorie kompakter Operatoren\n",
        "* Grundzüge nicht beschränkter Operatoren\n",
        "* Anwendungen auf Randwertprobleme elliptischer partieller Differentialgleichungen\n"
      ]
    },
    {
      "cell_type": "markdown",
      "metadata": {
        "id": "m_PWlqHc1iRr"
      },
      "source": [
        "Der große Reiz der Funktionalanalysis ist, dass die im Grundstudium erworbenen Konzepte der Analysis (Stetigkeit, Grenzwerte, Vollständigkeit) und Linearen Algebra (Vektorräume, lineare Abbildungen, Eigenwerte) konsequent zusammengeführt werden und gemeinsam eine Theorie liefern, die wiederrum in vielen Bereichen der Mathematik und Physik ein unabdingbares Werkzeug ist. Im Rahmen des Masterschwerpunktes Partielle Differentialgleichungen sollen in dieser Vorlesung insbesondere die Anwendung im Studium partieller Differentialgleichungen im Fokus liegen.\n",
        "\n",
        "\n",
        "**In der Funktionalanalysis betrachtet man topologische Vektorräume, d. h. Vektorräume, auf denen man von Konvergenz sprechen und dementsprechend auch unendliche Summen bilden kann**. Good overview [here](https://matheplanet.com/default3.html?call=article.php?sid=1192&ref=https%3A%2F%2Fwww.google.de%2F)\n",
        "\n",
        "**Das Ziel der Funktionalanalysis** ist es nicht zuletzt, die **<u>Methoden der mehrdimensionalen Analysis auf unendlichdimensionale Räume auszudehnen und dabei insbesondere Konzepte wie Konvergenz, Stetigkeit und Differenzierbarkeit zu untersuchen</u>**. \n",
        "\n",
        "Daher werden a priori **nur Vektorräume betrachtet, die zumindest eine topologische Struktur tragen, also die topologischen Vektorräume**. Zu ihnen zählen unter anderem alle normierten Vektorräume und insbesondere die Banach- und Hilberträume."
      ]
    },
    {
      "cell_type": "markdown",
      "metadata": {
        "id": "1-3oAK-Y8cDo"
      },
      "source": [
        "https://de.m.wikipedia.org/wiki/Nichtstandardanalysis"
      ]
    },
    {
      "cell_type": "markdown",
      "metadata": {
        "id": "B7WATitX0-3R"
      },
      "source": [
        "**Numerische Mathematik**"
      ]
    },
    {
      "cell_type": "markdown",
      "metadata": {
        "id": "c6jng2rDf625"
      },
      "source": [
        "https://de.m.wikipedia.org/wiki/Gleichung#Einteilung_nach_(Nicht)Linearität\n",
        "\n",
        "siehe unter Differentialgleichungen"
      ]
    },
    {
      "cell_type": "markdown",
      "metadata": {
        "id": "eVrlkUVbgUK8"
      },
      "source": [
        "https://de.m.wikipedia.org/wiki/Liste_numerischer_Verfahren#Numerik_gewöhnlicher_Differentialgleichungen"
      ]
    },
    {
      "cell_type": "markdown",
      "metadata": {
        "id": "Qut1fCf64x2s"
      },
      "source": [
        "Test functions for optimization (for numerik):\n",
        "\n",
        "https://towardsdatascience.com/optimization-eye-pleasure-78-benchmark-test-functions-for-single-objective-optimization-92e7ed1d1f12\n",
        "\n",
        "https://en.m.wikipedia.org/wiki/Test_functions_for_optimization\n"
      ]
    },
    {
      "cell_type": "markdown",
      "metadata": {
        "id": "MroC1PSueG54"
      },
      "source": [
        "https://de.m.wikipedia.org/wiki/Approximation"
      ]
    },
    {
      "cell_type": "markdown",
      "metadata": {
        "id": "3Vkz5hPTeTZs"
      },
      "source": [
        "Für viele mathematische Probleme, wie zum Beispiel die Optimierung oder das Lösen von partiellen Differentialgleichungen, existieren eine Vielzahl numerischer Verfahren und Algorithmen. Eine kommentierte Zusammenstellung von ausgewählten numerischen Verfahren findet man unter Liste numerischer Verfahren.\n",
        "\n"
      ]
    },
    {
      "cell_type": "markdown",
      "metadata": {
        "id": "FvVxCuyVeVWU"
      },
      "source": [
        "https://de.m.wikipedia.org/wiki/Liste_numerischer_Verfahren"
      ]
    },
    {
      "cell_type": "markdown",
      "metadata": {
        "id": "9-6neOIyehgd"
      },
      "source": [
        "https://de.m.wikipedia.org/wiki/Optimierung_(Mathematik)#Nichtlineare_Optimierung"
      ]
    },
    {
      "cell_type": "markdown",
      "metadata": {
        "id": "_Zf3_7yVe2Mn"
      },
      "source": [
        "https://de.m.wikipedia.org/wiki/Optimierungsproblem"
      ]
    },
    {
      "cell_type": "markdown",
      "metadata": {
        "id": "l0AWdyh5foo3"
      },
      "source": [
        "https://de.m.wikipedia.org/wiki/Gleichung#Einteilung_nach_(Nicht)Linearität"
      ]
    },
    {
      "cell_type": "markdown",
      "metadata": {
        "id": "3nCr98-hm27D"
      },
      "source": [
        "* [numerische Mathematik](https://de.m.wikipedia.org/wiki/Numerische_Mathematik), auch Numerik, beschäftigt sich mit der Konstruktion und Analyse von Algorithmen für kontinuierliche mathematische Probleme.\n",
        "\n",
        "  * jede Menge, welche die Mächtigkeit der reellen Zahlen hat, ist ein [Kontinuum](https://de.m.wikipedia.org/wiki/Kontinuum_(Mathematik))\n",
        "\n",
        "* Hauptanwendung ist dabei die näherungsweise Berechnung von Lösungen durch Approximationsalgorithmen mit Hilfe von Computern"
      ]
    },
    {
      "cell_type": "markdown",
      "metadata": {
        "id": "uwDeAVIFoZ95"
      },
      "source": [
        "**Approximation**"
      ]
    },
    {
      "cell_type": "markdown",
      "metadata": {
        "id": "JEsIYTEHr6gU"
      },
      "source": [
        "* Von besonderem Interesse ist die **Näherung von Funktionen**, beispielsweise für Näherungslösungen nicht exakt lösbarer Differentialgleichungen. Die häufigste Form ist die Approximation mit Polynomen, da diese einfach ableitbar, integrierbar und berechenbar sind. \n",
        "\n",
        "* Hier beruht das am weitesten verbreitete Verfahren auf der **Taylorreihenentwicklung**. Von großer praktischer Bedeutung ist auch die **Fourieranalyse**, bei der periodische Funktionen in unendlichen Reihen von Sinus- und Kosinusfunktionen entwickelt werden."
      ]
    },
    {
      "cell_type": "markdown",
      "metadata": {
        "id": "p7GYQv5locTo"
      },
      "source": [
        "https://de.m.wikipedia.org/wiki/Approximation"
      ]
    },
    {
      "cell_type": "markdown",
      "metadata": {
        "id": "6BDmeaqEqp_X"
      },
      "source": [
        "https://de.m.wikipedia.org/wiki/Gleitkommazahl"
      ]
    },
    {
      "cell_type": "markdown",
      "metadata": {
        "id": "6mcKqgkorOeA"
      },
      "source": [
        "https://de.m.wikipedia.org/wiki/NP-Vollständigkeit"
      ]
    },
    {
      "cell_type": "markdown",
      "metadata": {
        "id": "SVZ9QMZ0svA7"
      },
      "source": [
        "https://de.m.wikipedia.org/wiki/Landau-Symbole"
      ]
    },
    {
      "cell_type": "markdown",
      "metadata": {
        "id": "P9r-DD3G05uP"
      },
      "source": [
        "**Interpolation (Approximation)**"
      ]
    },
    {
      "cell_type": "markdown",
      "metadata": {
        "id": "TrdXR7Ge082w"
      },
      "source": [
        "* bei der [Interpolation](https://de.m.wikipedia.org/wiki/Interpolation_(Mathematik)) soll zu gegebenen diskreten Daten (z. B. Messwerten) eine stetige Funktion (= Interpolante oder Interpolierende) gefunden werden, die diese Daten abbildet. Man sagt dann, die Funktion interpoliert die Daten.\n",
        "\n",
        "* Die Interpolation ist eine Art der Approximation: Die betrachtete Funktion wird durch die Interpolationsfunktion in den Stützstellen exakt wiedergegeben und in den restlichen Punkten immerhin näherungsweise\n",
        "\n",
        "* Da Polynome mit zunehmendem Grad immer instabiler werden, d. h. stark zwischen den Interpolationspunkten schwingen, werden in der Praxis Polynome mit einem Grad größer als 5 kaum eingesetzt. Stattdessen **interpoliert man einen großen Datensatz stückweise**."
      ]
    },
    {
      "cell_type": "markdown",
      "metadata": {
        "id": "viIowDimuj57"
      },
      "source": [
        "**Gaußprozess-Regression (Kriging)**"
      ]
    },
    {
      "cell_type": "markdown",
      "metadata": {
        "id": "-VFcNx_HunB6"
      },
      "source": [
        "https://de.m.wikipedia.org/wiki/Kriging"
      ]
    },
    {
      "cell_type": "markdown",
      "metadata": {
        "id": "ySw1i9g-urdf"
      },
      "source": [
        "https://de.m.wikipedia.org/wiki/Gauß-Prozess#Gaußprozess-Regression"
      ]
    },
    {
      "cell_type": "markdown",
      "metadata": {
        "id": "nKH3bOsT1u2T"
      },
      "source": [
        "https://medium.com/criteo-engineering/hyper-parameter-optimization-algorithms-2fe447525903"
      ]
    },
    {
      "cell_type": "markdown",
      "metadata": {
        "id": "eH2BF11w1EFA"
      },
      "source": [
        "**Ausgleichungsrechnung (Curve Fitting)**"
      ]
    },
    {
      "cell_type": "markdown",
      "metadata": {
        "id": "H2v4gYzC1G8R"
      },
      "source": [
        "https://de.m.wikipedia.org/wiki/Ausgleichungsrechnung"
      ]
    },
    {
      "cell_type": "markdown",
      "metadata": {
        "id": "YWRcT954gnhQ"
      },
      "source": [
        "#### **Folgen, Reihen & Potenzreihen (Taylor Series)**"
      ]
    },
    {
      "cell_type": "markdown",
      "metadata": {
        "id": "9k0IRlzZTD_S"
      },
      "source": [
        "Funktionsvorschrift:\n",
        "\n",
        "$a_{i}=a_{1} \\cdot q^{i-1}$ bzw $a_{i}=a_{0} \\cdot q^{i}$ für Anfangsglied a1. Oder auch (andere Folge): $a_{i}=a_{0} \\cdot q^{i}$\n",
        "\n",
        "Rekursionsvorschrift (wie Fibonacci):\n",
        "\n",
        "$a_{i+1}=a_{i} \\cdot q$. Oder auch (andere Folge): $a_{i}=q \\cdot a_{i-1}$"
      ]
    },
    {
      "cell_type": "markdown",
      "metadata": {
        "id": "1iVVmavnMs8Y"
      },
      "source": [
        "**Folgen (Sequence)**"
      ]
    },
    {
      "cell_type": "markdown",
      "metadata": {
        "id": "uXaqAY-wE8Lk"
      },
      "source": [
        "https://de.m.wikipedia.org/wiki/Folge_(Mathematik)"
      ]
    },
    {
      "cell_type": "markdown",
      "metadata": {
        "id": "gPsWJyrxRxSD"
      },
      "source": [
        "https://de.m.wikipedia.org/wiki/Arithmetische_Folge"
      ]
    },
    {
      "cell_type": "markdown",
      "metadata": {
        "id": "jp4AotiIR_q8"
      },
      "source": [
        "https://de.m.wikipedia.org/wiki/Geometrische_Folge"
      ]
    },
    {
      "cell_type": "markdown",
      "metadata": {
        "id": "yamnfXWzMlt-"
      },
      "source": [
        "https://de.m.wikipedia.org/wiki/Funktionenfolge"
      ]
    },
    {
      "cell_type": "markdown",
      "metadata": {
        "id": "7FtCmwBXMnbQ"
      },
      "source": [
        "https://de.m.wikipedia.org/wiki/Mengenfolge"
      ]
    },
    {
      "cell_type": "markdown",
      "metadata": {
        "id": "evfJUtm6TzJ9"
      },
      "source": [
        "https://de.m.wikipedia.org/wiki/Folgenraum"
      ]
    },
    {
      "cell_type": "markdown",
      "metadata": {
        "id": "rTMxIk05MsRQ"
      },
      "source": [
        "https://de.m.wikipedia.org/wiki/Grenzwert_(Folge)"
      ]
    },
    {
      "cell_type": "markdown",
      "metadata": {
        "id": "SagK-Q_DOmzn"
      },
      "source": [
        "https://de.m.wikipedia.org/wiki/Fibonacci-Folge"
      ]
    },
    {
      "cell_type": "markdown",
      "metadata": {
        "id": "ao7t4ADsuAiW"
      },
      "source": [
        "https://de.m.wikipedia.org/wiki/Lucas-Folge"
      ]
    },
    {
      "cell_type": "markdown",
      "metadata": {
        "id": "E1vu6jDyuZ4v"
      },
      "source": [
        "https://de.m.wikipedia.org/wiki/Perrin-Folge"
      ]
    },
    {
      "cell_type": "markdown",
      "metadata": {
        "id": "_ns372oTMu6j"
      },
      "source": [
        "**Reihen (Series)**"
      ]
    },
    {
      "cell_type": "markdown",
      "metadata": {
        "id": "8fc_aAEqEzH9"
      },
      "source": [
        "https://de.m.wikipedia.org/wiki/Reihe_(Mathematik)"
      ]
    },
    {
      "cell_type": "markdown",
      "metadata": {
        "id": "yPCGzXfJOYLu"
      },
      "source": [
        "https://de.m.wikipedia.org/wiki/Arithmetische_Reihe"
      ]
    },
    {
      "cell_type": "markdown",
      "metadata": {
        "id": "F3nVMIvrObOB"
      },
      "source": [
        "https://de.m.wikipedia.org/wiki/Geometrische_Reihe"
      ]
    },
    {
      "cell_type": "markdown",
      "metadata": {
        "id": "6Hh0O951WVpt"
      },
      "source": [
        "https://de.m.wikipedia.org/wiki/Dirichletreihe"
      ]
    },
    {
      "cell_type": "markdown",
      "metadata": {
        "id": "8EKbYhZnqpJ8"
      },
      "source": [
        "https://de.m.wikipedia.org/wiki/Lambert-Reihe"
      ]
    },
    {
      "cell_type": "markdown",
      "metadata": {
        "id": "pxTgc5dOqsGp"
      },
      "source": [
        "https://de.m.wikipedia.org/wiki/Eisensteinreihe"
      ]
    },
    {
      "cell_type": "markdown",
      "metadata": {
        "id": "mZq0YyAiEzdw"
      },
      "source": [
        "https://de.m.wikipedia.org/wiki/Potenzreihe"
      ]
    },
    {
      "cell_type": "markdown",
      "metadata": {
        "id": "x9CxVo7-OxvM"
      },
      "source": [
        "https://de.m.wikipedia.org/wiki/Taylorreihe"
      ]
    },
    {
      "cell_type": "markdown",
      "metadata": {
        "id": "4-9n_vYKPUBv"
      },
      "source": [
        "**Fakultät**"
      ]
    },
    {
      "cell_type": "markdown",
      "metadata": {
        "id": "UnbKM84bPTbQ"
      },
      "source": [
        "https://de.m.wikipedia.org/wiki/Fakultät_(Mathematik)"
      ]
    },
    {
      "cell_type": "markdown",
      "metadata": {
        "id": "OeO_i6Z9-rLD"
      },
      "source": [
        "**Taylor Series Expansion**"
      ]
    },
    {
      "cell_type": "code",
      "metadata": {
        "id": "zbSVcoYLEfqI",
        "cellView": "form",
        "colab": {
          "base_uri": "https://localhost:8080/",
          "height": 326
        },
        "outputId": "881a6dcd-91d4-44c1-c741-da7b71d3df96"
      },
      "source": [
        "#@title\n",
        "\n",
        "import math\n",
        "import numpy as np\n",
        "import matplotlib.pyplot as plt\n",
        "import pandas.util.testing as tm\n",
        "import seaborn as sns\n",
        "# if using a Jupyter notebook, include:\n",
        "%matplotlib inline\n",
        "\n",
        "sns.set(rc={'figure.figsize':(10, 5), \"lines.linewidth\": 1.0})\n",
        "\n",
        "def func_cos(x, n):\n",
        "    cos_approx = 0\n",
        "    for i in range(n):\n",
        "        coef = (-1)**i\n",
        "        num = x**(2*i)\n",
        "        denom = math.factorial(2*i)\n",
        "        cos_approx += ( coef ) * ( (num)/(denom) )\n",
        "    \n",
        "    return cos_approx\n",
        "\n",
        "angles = np.arange(-2*np.pi,2*np.pi,0.1)\n",
        "p_cos = np.cos(angles)\n",
        "\n",
        "fig, ax = plt.subplots()\n",
        "ax.plot(angles,p_cos)\n",
        "\n",
        "# add lines for between 1 and 6 terms in the Taylor Series\n",
        "for i in range(1,6):\n",
        "    t_cos = [func_cos(angle,i) for angle in angles]\n",
        "    ax.plot(angles,t_cos)\n",
        "\n",
        "ax.set_ylim([-7,4])\n",
        "\n",
        "# set up legend\n",
        "legend_lst = ['cos() function']\n",
        "for i in range(1,6):\n",
        "    legend_lst.append(f'Taylor Series - {i} terms')\n",
        "ax.legend(legend_lst, loc=3)\n",
        "\n",
        "plt.show()"
      ],
      "execution_count": null,
      "outputs": [
        {
          "output_type": "display_data",
          "data": {
            "image/png": "[encoded data removed]",
            "text/plain": [
              "<Figure size 720x360 with 1 Axes>"
            ]
          },
          "metadata": {
            "tags": []
          }
        }
      ]
    },
    {
      "cell_type": "markdown",
      "metadata": {
        "id": "AbtgxHoOCI7O"
      },
      "source": [
        "The Taylor expansion is one of the most beautiful ideas in mathematics. The intuition is simple: most functions are smooth over ranges we’re interested in. And polynomials are also smooth. So for every smooth function, we should be able to write down a polynomial that approximates it pretty well.\n",
        "\n",
        "And in fact, if our polynomial contains enough terms it will exactly equal the original function. Since polynomials are easier to work with than almost any other kind of function, this usually turns hard problems into easy ones. The Taylor formula is the key. It gives us an equation for the polynomial expansion for every smooth function f."
      ]
    },
    {
      "cell_type": "markdown",
      "metadata": {
        "id": "7N13isn29kAo"
      },
      "source": [
        "**Approach**\n",
        "\n",
        "* In order to turn a function into a series of power terms we want to have this expansion:\n",
        "\n",
        "* f(x) = c<sub>0</sub> + c<sub>1</sub>(x-a) + c<sub>2</sub>(x-a)<sup>2</sup> + c<sub>3</sub>(x-a)<sup>3</sup> + ...\n",
        "\n",
        "* Then we choose a value \"a\", and work out the values c0 , c1 , c2 , ... etc, which it is done using derivatives (so we must know the derivative of our function). Note: A **Maclaurin Series** is a Taylor Series where a=0.\n",
        "* We just need to calculate the first n derivatives of f, evaluate them at c, divide each one by n!, and sum up these terms. The result will be a good approximation to our original function. The more terms we add on, the more accurate the polynomial approximation will be."
      ]
    },
    {
      "cell_type": "markdown",
      "metadata": {
        "id": "jPnin5Mt-8fX"
      },
      "source": [
        "**Summary** \n",
        "\n",
        "In mathematical analysis Taylor series is used to turn or represent a smooth non-polynomial function (like e<sup>x</sup>) into a series of power terms around a location, which is the limit of the Taylor polynomials. This series development is called the Taylor development.\n",
        "\n",
        "* **What?** (Definition): A Taylor Series is an expansion of some function into an infinite sum of polynomial terms, where each term has a larger exponent like x, x<sup>2</sup>, x<sup>3</sup>, etc.\n",
        "* **How?** (Approach): Take non-polynomial function (for example: e<sup>x</sup>) and find approximate polynomial. We can use the first few terms of a Taylor Series to get an approximate value for a function. Note: The key thing is to know the derivatives of your function f(x). Derivative of Polynome = Derivative of Function\n",
        "* **Why?** (Objective): Simplifies calculation of values, computing its derivatives or integral."
      ]
    },
    {
      "cell_type": "markdown",
      "metadata": {
        "id": "4AoaGsWYpfqO"
      },
      "source": [
        "**Additional Ressources**\n",
        "\n",
        "* [Studyflix - Taylorreihen](https://studyflix.de/mathematik/taylorreihen-910)\n",
        "* ['Taylor Series on Wikipedia'](https://de.m.wikipedia.org/wiki/Taylorreihe)\n",
        "* ['Maths is Fun'](https://www.mathsisfun.com/algebra/taylor-series.html)\n",
        "* ['Easy Way to Remember the Taylor Series Expansion'](https://medium.com/@andrew.chamberlain/an-easy-way-to-remember-the-taylor-series-expansion-a7c3f9101063)"
      ]
    },
    {
      "cell_type": "markdown",
      "metadata": {
        "id": "Tx87L-GOhWb-"
      },
      "source": [
        "**Code Taylor Series**"
      ]
    },
    {
      "cell_type": "markdown",
      "metadata": {
        "id": "Segj_vpehbe-"
      },
      "source": [
        "*The following code examples are taken from ['Python for Undergraduate Engineers'](https://pythonforundergradengineers.com/creating-taylor-series-functions-with-python.html)*"
      ]
    },
    {
      "cell_type": "markdown",
      "metadata": {
        "id": "P1K2i_QBBJkI"
      },
      "source": [
        "A Taylor Series is an infinite series of mathematical terms that when summed together approximate a mathematical function. A Taylor Series can be used to approximate e<sup>x</sup>, and cosine.\n",
        "\n",
        "An example of a Taylor Series that approximates e<sup>x</sup> is below."
      ]
    },
    {
      "cell_type": "markdown",
      "metadata": {
        "id": "cBZuYXa1vZHw"
      },
      "source": [
        "> $e^{x} \\approx \\sum_{n=0}^{\\infty} \\frac{x^{n}}{n !} \\approx 1+x+\\frac{x^{2}}{2 !}+\\frac{x^{3}}{3 !}+\\frac{x^{4}}{4 !}+\\ldots$"
      ]
    },
    {
      "cell_type": "markdown",
      "metadata": {
        "id": "QA44ExrUvdu_"
      },
      "source": [
        "We can see that each term in the Taylor Series expansion is dependent on that term's place in the series. Below is a chart that shows each term of the Taylor Series in a row."
      ]
    },
    {
      "cell_type": "markdown",
      "metadata": {
        "id": "u-8RY7u9uQwe"
      },
      "source": [
        "* Term: x<sup>0</sup>/0! - Code: x**0/math.factorial(0)\n",
        "* Term: x<sup>1</sup>/1! - Code: x**1/math.factorial(1)\n",
        "* ...\n"
      ]
    },
    {
      "cell_type": "markdown",
      "metadata": {
        "id": "KynUOJM5g31R"
      },
      "source": [
        "**Code the Taylor Series by writing out each term individually**\n",
        "\n",
        "We can combine these terms in a line of Python code to estimate e<sup>2</sup>\n",
        ". The code below calculates the sum of the first five terms of the Taylor Series expansion of e<sup>x</sup>\n",
        ", where x=2."
      ]
    },
    {
      "cell_type": "markdown",
      "metadata": {
        "id": "tJOQ7zNWCFj-"
      },
      "source": [
        "$e^{x} \\approx \\sum_{n=0}^{\\infty} \\frac{x^{n}}{n !} \\approx 1+x+\\frac{x^{2}}{2 !}+\\frac{x^{3}}{3 !}+\\frac{x^{4}}{4 !}+\\ldots$"
      ]
    },
    {
      "cell_type": "markdown",
      "metadata": {
        "id": "L7pgIOBiCL-X"
      },
      "source": [
        "We can see that each term in the Taylor Series expansion is dependent on that term's place in the series. "
      ]
    },
    {
      "cell_type": "code",
      "metadata": {
        "id": "JOFDWH4Og0J9",
        "colab": {
          "base_uri": "https://localhost:8080/",
          "height": 35
        },
        "outputId": "df5d3e1b-2673-4f41-94cc-1d0388ec3963"
      },
      "source": [
        "import math\n",
        "\n",
        "x = 2\n",
        "e_to_2 = x**0/math.factorial(0) + x**1/math.factorial(1) + x**2/math.factorial(2) + x**3/math.factorial(3) + x**4/math.factorial(4)\n",
        "print(e_to_2)"
      ],
      "execution_count": null,
      "outputs": [
        {
          "output_type": "stream",
          "text": [
            "7.0\n"
          ],
          "name": "stdout"
        }
      ]
    },
    {
      "cell_type": "markdown",
      "metadata": {
        "id": "BIcs2jzFhuoT"
      },
      "source": [
        "Our Taylor Series approximation of e<sup>2</sup>\n",
        " was calculated as 7.0. Let's compare our Taylor Series approximation to Python's math.exp() function. Python's math.exp() function raises e\n",
        " to any power. In our case, we want to use math.exp(2) because we want to calculate e2\n",
        "."
      ]
    },
    {
      "cell_type": "code",
      "metadata": {
        "id": "HXtQHwl9h39R",
        "colab": {
          "base_uri": "https://localhost:8080/",
          "height": 35
        },
        "outputId": "6f902aaf-49c5-458e-df57-baecbe8bf28b"
      },
      "source": [
        "print(math.exp(2))"
      ],
      "execution_count": null,
      "outputs": [
        {
          "output_type": "stream",
          "text": [
            "7.38905609893065\n"
          ],
          "name": "stdout"
        }
      ]
    },
    {
      "cell_type": "markdown",
      "metadata": {
        "id": "1GG1wfJUiCMX"
      },
      "source": [
        "**Use a for loop to calculate a Taylor Series**\n",
        "\n",
        "If we want to get closer to the value of e<sup>x</sup>\n",
        ", we need to add more terms to our Taylor Series. The problem is coding each individual term is time-consuming and repetitive. Instead of coding each term individually, we can use a for loop. A for loop is a repetition structure in Python that runs a section of code a specified number of times. The syntax for coding a for loop in Python using the range() function is below:"
      ]
    },
    {
      "cell_type": "code",
      "metadata": {
        "id": "TZJ8oXViiEEk"
      },
      "source": [
        "for <var> in range(<num>):\n",
        "    <code>"
      ],
      "execution_count": null,
      "outputs": []
    },
    {
      "cell_type": "markdown",
      "metadata": {
        "id": "KFTv2daMiVEX"
      },
      "source": [
        "Where 'var' is any valid Python variable name and 'num' is an integer to determines how many times the 'code' in the loop runs.\n",
        "\n",
        "We can recreate our approximation of e<sup>2</sup>\n",
        " with 5 terms using a for loop. Note we need to set the variable e_to_2 to 0 before the loop starts. The mathematical operator += in the line e_to_2 += x**i/math.factorial(i) is equivalent to e_to_2 = e_to_2 + x**i/math.factorial(i)."
      ]
    },
    {
      "cell_type": "code",
      "metadata": {
        "id": "LTgqzziHitg2",
        "colab": {
          "base_uri": "https://localhost:8080/",
          "height": 35
        },
        "outputId": "7c05cd4d-1f4d-4f29-f45a-e9d5a1f42cb4"
      },
      "source": [
        "import math\n",
        "\n",
        "x = 2\n",
        "e_to_2 = 0\n",
        "for i in range(5):\n",
        "    e_to_2 += x**i/math.factorial(i)\n",
        "    \n",
        "print(e_to_2)"
      ],
      "execution_count": null,
      "outputs": [
        {
          "output_type": "stream",
          "text": [
            "7.0\n"
          ],
          "name": "stdout"
        }
      ]
    },
    {
      "cell_type": "markdown",
      "metadata": {
        "id": "m3E58kGFi0qC"
      },
      "source": [
        "The result 7.0 is the same as the result we calculated when we wrote out each term of the Taylor Series individually.\n",
        "\n",
        "An advantage of using a for loop is that we can easily increase the number of terms. If we increase the number of times the for loop runs, we increase the number of terms in the Taylor Series expansion. Let's try 10 terms. Note how the line for i in range(10): now includes 10 passed to the range() function."
      ]
    },
    {
      "cell_type": "code",
      "metadata": {
        "id": "FDPHcutei3gm",
        "colab": {
          "base_uri": "https://localhost:8080/",
          "height": 35
        },
        "outputId": "26137a89-3559-44d3-cc70-8c2f7c88cd28"
      },
      "source": [
        "import math\n",
        "\n",
        "x = 2\n",
        "e_to_2 = 0\n",
        "for i in range(10):\n",
        "    e_to_2 += x**i/math.factorial(i)\n",
        "    \n",
        "print(e_to_2)"
      ],
      "execution_count": null,
      "outputs": [
        {
          "output_type": "stream",
          "text": [
            "7.3887125220458545\n"
          ],
          "name": "stdout"
        }
      ]
    },
    {
      "cell_type": "markdown",
      "metadata": {
        "id": "ZF_xOwWRjJ0c"
      },
      "source": [
        "**Refactor the for loop into a function**\n",
        "\n",
        "Next, let's refactor the code above that contained a for loop (which calculated e2\n",
        ") into a function that can compute e\n",
        " raised to any power estimated with any number of terms in the Taylor Series. The general syntax to define a function in Python is below."
      ]
    },
    {
      "cell_type": "code",
      "metadata": {
        "id": "VHJT6PEYjLyO"
      },
      "source": [
        "def <func name>(<arg 1>, <arg 2>, ...):\n",
        "    <code>\n",
        "    return <output>"
      ],
      "execution_count": null,
      "outputs": []
    },
    {
      "cell_type": "markdown",
      "metadata": {
        "id": "p5Hv3ivFjR9-"
      },
      "source": [
        "Where def is the Python keyword that defines a function, 'func name' is a valid Python variable name, and 'arg 1', 'arg 2' are the input arguments passed to the function. 'code' that runs when the function is called must be indented (the standard indentation is 4 spaces). The keyword return denotes the 'output' of the function."
      ]
    },
    {
      "cell_type": "code",
      "metadata": {
        "id": "99r8mEyqjdUq"
      },
      "source": [
        "import math\n",
        "\n",
        "def func_e_to_2(n):\n",
        "    x = 2\n",
        "    e_to_2 = 0\n",
        "    for i in range(n):\n",
        "        e_to_2 += x**i/math.factorial(i)\n",
        "    \n",
        "    return e_to_2"
      ],
      "execution_count": null,
      "outputs": []
    },
    {
      "cell_type": "markdown",
      "metadata": {
        "id": "XkAUVYWKjgJT"
      },
      "source": [
        "If we call our function func_e_to_2() with the input argument 10, the result is the same as when we ran the for loop 10 times."
      ]
    },
    {
      "cell_type": "code",
      "metadata": {
        "id": "GJ6fhbLLjiTy",
        "colab": {
          "base_uri": "https://localhost:8080/",
          "height": 35
        },
        "outputId": "05f591a4-498f-429e-c8ab-0863562121bd"
      },
      "source": [
        "out = func_e_to_2(10)\n",
        "print(out)"
      ],
      "execution_count": null,
      "outputs": [
        {
          "output_type": "stream",
          "text": [
            "7.3887125220458545\n"
          ],
          "name": "stdout"
        }
      ]
    },
    {
      "cell_type": "markdown",
      "metadata": {
        "id": "4zcd_qInj_ff"
      },
      "source": [
        "**Generalize Function**\n",
        "\n",
        "We can make our function more general by setting x (the number that e\n",
        "gets raised to) as an input argument. Note how now there are two input arguments in the function definition (x, n). x is the number e\n",
        " is raised to, and n is the number of terms in the Taylor Series (which is the number of times the for loop runs on the inside of the function definition)."
      ]
    },
    {
      "cell_type": "code",
      "metadata": {
        "id": "hJh-7b1KkByb"
      },
      "source": [
        "import math\n",
        "\n",
        "def func_e(x, n):\n",
        "    e_approx = 0\n",
        "    for i in range(n):\n",
        "        e_approx += x**i/math.factorial(i)\n",
        "    \n",
        "    return e_approx"
      ],
      "execution_count": null,
      "outputs": []
    },
    {
      "cell_type": "markdown",
      "metadata": {
        "id": "XlZxAHxgkHWK"
      },
      "source": [
        "Let's calculate e<sup>2</sup> using 10 terms with our new func_e() function."
      ]
    },
    {
      "cell_type": "code",
      "metadata": {
        "id": "L0YQXd1HkOAN",
        "colab": {
          "base_uri": "https://localhost:8080/",
          "height": 35
        },
        "outputId": "a747979a-e88f-462d-9303-db0bafc2d544"
      },
      "source": [
        "out = func_e(2,10)\n",
        "print(out)"
      ],
      "execution_count": null,
      "outputs": [
        {
          "output_type": "stream",
          "text": [
            "7.3887125220458545\n"
          ],
          "name": "stdout"
        }
      ]
    },
    {
      "cell_type": "markdown",
      "metadata": {
        "id": "XxyeZkyckXzN"
      },
      "source": [
        "An advantage to writing our Taylor Series expansion in a function is that now the Taylor Series approximation calculation is reusable and can be called in one line of code. For instance, we can estimate the value of e5\n",
        "with 10 terms, by calling our func_e() function with the input arguments (5,10)."
      ]
    },
    {
      "cell_type": "code",
      "metadata": {
        "id": "DAxOg6MKkagM",
        "colab": {
          "base_uri": "https://localhost:8080/",
          "height": 35
        },
        "outputId": "9bb76e5f-0f10-4856-9baa-a2f829da444a"
      },
      "source": [
        "out = func_e(5,10)\n",
        "print(out)"
      ],
      "execution_count": null,
      "outputs": [
        {
          "output_type": "stream",
          "text": [
            "143.68945656966488\n"
          ],
          "name": "stdout"
        }
      ]
    },
    {
      "cell_type": "markdown",
      "metadata": {
        "id": "CCocNIUGkhGa"
      },
      "source": [
        "The result is 143.68945.... Let's see how close this value is to Python's exp() function when we make the same calculation e<sup>5</sup>\n",
        "."
      ]
    },
    {
      "cell_type": "code",
      "metadata": {
        "id": "bOFMNQYukeQd",
        "colab": {
          "base_uri": "https://localhost:8080/",
          "height": 35
        },
        "outputId": "a505fa44-6d46-4527-920d-881f2878886f"
      },
      "source": [
        "out = math.exp(5)\n",
        "print(out)"
      ],
      "execution_count": null,
      "outputs": [
        {
          "output_type": "stream",
          "text": [
            "148.4131591025766\n"
          ],
          "name": "stdout"
        }
      ]
    },
    {
      "cell_type": "markdown",
      "metadata": {
        "id": "u1Z8RUFHkzyF"
      },
      "source": [
        "**Use a for loop to calculate the difference between the Taylor Series expansion and Python's exp() function**"
      ]
    },
    {
      "cell_type": "markdown",
      "metadata": {
        "id": "QepmDGr7k3-Q"
      },
      "source": [
        "Now let's use a for loop to calculate the difference between the Taylor Series expansion as calculated by our func_e() function compared to Python's exp() function. We'll calculate the difference between the two functions when we use between 1 and 10 terms in the Taylor Series expansion.\n",
        "\n",
        "The code below uses f-strings, which is a Python syntax for inserting the value of a variable in a string. The general syntax for an f-string in Python is below."
      ]
    },
    {
      "cell_type": "code",
      "metadata": {
        "id": "8e4E-Cp-k9lN"
      },
      "source": [
        "f'string statment {<var>}'"
      ],
      "execution_count": null,
      "outputs": []
    },
    {
      "cell_type": "markdown",
      "metadata": {
        "id": "gZvnYcX2lCwZ"
      },
      "source": [
        "Where f denotes the beginning of an f-string, the f-string is surrounded by quotes ' ', and the variable 'var' is enclosed in curly braces { }. The value of 'var' will be printed out without the curly braces."
      ]
    },
    {
      "cell_type": "code",
      "metadata": {
        "id": "kgr-AwWilATC",
        "colab": {
          "base_uri": "https://localhost:8080/",
          "height": 217
        },
        "outputId": "b6398824-2a40-460c-9a5e-07da685e36d7"
      },
      "source": [
        "import math\n",
        "\n",
        "x = 5\n",
        "for i in range(1,11):\n",
        "    e_approx = func_e(x,i)\n",
        "    e_exp = math.exp(x)\n",
        "    e_error = abs(e_approx - e_exp)\n",
        "    print(f'{i} terms: Taylor Series approx= {e_approx}, exp calc= {e_exp}, error = {e_error}')"
      ],
      "execution_count": null,
      "outputs": [
        {
          "output_type": "stream",
          "text": [
            "1 terms: Taylor Series approx= 1.0, exp calc= 148.4131591025766, error = 147.4131591025766\n",
            "2 terms: Taylor Series approx= 6.0, exp calc= 148.4131591025766, error = 142.4131591025766\n",
            "3 terms: Taylor Series approx= 18.5, exp calc= 148.4131591025766, error = 129.9131591025766\n",
            "4 terms: Taylor Series approx= 39.33333333333333, exp calc= 148.4131591025766, error = 109.07982576924327\n",
            "5 terms: Taylor Series approx= 65.375, exp calc= 148.4131591025766, error = 83.0381591025766\n",
            "6 terms: Taylor Series approx= 91.41666666666667, exp calc= 148.4131591025766, error = 56.99649243590993\n",
            "7 terms: Taylor Series approx= 113.11805555555556, exp calc= 148.4131591025766, error = 35.29510354702104\n",
            "8 terms: Taylor Series approx= 128.61904761904762, exp calc= 148.4131591025766, error = 19.79411148352898\n",
            "9 terms: Taylor Series approx= 138.30716765873015, exp calc= 148.4131591025766, error = 10.105991443846449\n",
            "10 terms: Taylor Series approx= 143.68945656966488, exp calc= 148.4131591025766, error = 4.723702532911716\n"
          ],
          "name": "stdout"
        }
      ]
    },
    {
      "cell_type": "markdown",
      "metadata": {
        "id": "KImorNkqlRHI"
      },
      "source": [
        "Note how the error decreases as we add terms to the Taylor Series. When the Taylor Series only has 1 term, the error is 147.41.... When 10 terms are used in the Taylor Series, the error goes down to 4.7237...."
      ]
    },
    {
      "cell_type": "markdown",
      "metadata": {
        "id": "LTj_hxTklT7Z"
      },
      "source": [
        "**Use a break statement to exit a for loop early**"
      ]
    },
    {
      "cell_type": "markdown",
      "metadata": {
        "id": "Oh3AbK6_lX0k"
      },
      "source": [
        "How many terms would it take to produce an error of less than 1? We can use a break statement to drop out of the for loop when the error is less than 1. The code below calculates how many terms are needed in the Taylor Series, when e<sup>5</sup> is calculated, to keep the error less than 1."
      ]
    },
    {
      "cell_type": "code",
      "metadata": {
        "id": "Ig1NbJgJle5-",
        "colab": {
          "base_uri": "https://localhost:8080/",
          "height": 55
        },
        "outputId": "63071a1c-d791-46c2-90e8-c6587fc9e0cb"
      },
      "source": [
        "import math\n",
        "\n",
        "x = 5\n",
        "for i in range(1,20):\n",
        "    e_approx = func_e(x,i)\n",
        "    e_exp = math.exp(x)\n",
        "    e_error = abs(e_approx - e_exp)\n",
        "    if e_error < 1:\n",
        "        break\n",
        "        \n",
        "print(f'{i} terms: Taylor Series approx= {e_approx}, exp calc= {e_exp}, error = {e_error}')"
      ],
      "execution_count": null,
      "outputs": [
        {
          "output_type": "stream",
          "text": [
            "12 terms: Taylor Series approx= 147.60384850489015, exp calc= 148.4131591025766, error = 0.8093105976864479\n"
          ],
          "name": "stdout"
        }
      ]
    },
    {
      "cell_type": "markdown",
      "metadata": {
        "id": "M0eEUG8xliuv"
      },
      "source": [
        "The output shows that it takes 12 terms in the Taylor Series to drop the error below 1."
      ]
    },
    {
      "cell_type": "markdown",
      "metadata": {
        "id": "n3QOyKV6llLn"
      },
      "source": [
        "**Create a function to estimate the value of cos(x) using a Taylor Series**"
      ]
    },
    {
      "cell_type": "markdown",
      "metadata": {
        "id": "TCD71ucQlqAv"
      },
      "source": [
        "Next, let's calculate the value of the cosine function using a Taylor Series. The Taylor Series expansion for cos(x)\n",
        " is below."
      ]
    },
    {
      "cell_type": "markdown",
      "metadata": {
        "id": "lfbALSfilqkI"
      },
      "source": [
        "$\\cos (x) \\approx \\sum_{n=0}^{\\infty}(-1)^{n} \\frac{x^{2 n}}{(2 n) !} \\approx 1-\\frac{x^{2}}{2 !}+\\frac{x^{4}}{4 !}-\\frac{x^{6}}{6 !}+\\frac{x^{8}}{8 !}-\\frac{x^{10}}{10 !}+\\ldots$\n",
        "\n"
      ]
    },
    {
      "cell_type": "markdown",
      "metadata": {
        "id": "uFW_KCaxmHs2"
      },
      "source": [
        "We can code this formula into a function that contains a for loop. Note the variable x is the value we are trying to find the cosine of, the variable n is the number of terms in the Taylor Series, and the variable i is the loop index which is also the Taylor Series term number. We are using a separate variable for the coefficient coef which is equal to (−1)<sup>i</sup>\n",
        ", the numerator num which is equal to x<sup>2i</sup>\n",
        " and the denominator denom which is equal to (2i!)\n",
        ". Breaking the Taylor Series formula into three parts can cut down on coding errors."
      ]
    },
    {
      "cell_type": "code",
      "metadata": {
        "id": "JyTZDqa0mcLP"
      },
      "source": [
        "import math\n",
        "\n",
        "def func_cos(x, n):\n",
        "    cos_approx = 0\n",
        "    for i in range(n):\n",
        "        coef = (-1)**i\n",
        "        num = x**(2*i)\n",
        "        denom = math.factorial(2*i)\n",
        "        cos_approx += ( coef ) * ( (num)/(denom) )\n",
        "    \n",
        "    return cos_approx"
      ],
      "execution_count": null,
      "outputs": []
    },
    {
      "cell_type": "markdown",
      "metadata": {
        "id": "sozWpPVamffR"
      },
      "source": [
        "Let's use our func_cos() function to estimate the cosine of 45 degrees. Note that func_cos() function computes the cosine of an angle in radians. If we want to calculate the cosine of 45 degrees using our function, we first have to convert 45 degrees into radians. Luckily, Python's math module has a function called radians() that makes the angle conversion early."
      ]
    },
    {
      "cell_type": "code",
      "metadata": {
        "id": "GgR1ehFhmhe6",
        "colab": {
          "base_uri": "https://localhost:8080/",
          "height": 35
        },
        "outputId": "abc06505-526c-497e-fcbf-741cb4af1fa2"
      },
      "source": [
        "angle_rad = (math.radians(45))\n",
        "out = func_cos(angle_rad,5)\n",
        "print(out)"
      ],
      "execution_count": null,
      "outputs": [
        {
          "output_type": "stream",
          "text": [
            "0.7071068056832942\n"
          ],
          "name": "stdout"
        }
      ]
    },
    {
      "cell_type": "markdown",
      "metadata": {
        "id": "evCxeqiAmnZG"
      },
      "source": [
        "Using our func_cos() function and 5 terms in the Taylor Series approximation, we estimate the cosine of 45 degrees is 0.707106805.... Let's check our func_cos() function compared to Python's cos() function from the math module."
      ]
    },
    {
      "cell_type": "code",
      "metadata": {
        "id": "rbncvdx9mpLZ",
        "colab": {
          "base_uri": "https://localhost:8080/",
          "height": 35
        },
        "outputId": "397bbe47-942a-4945-8843-d0090ab32667"
      },
      "source": [
        "out = math.cos(angle_rad)\n",
        "print(out)"
      ],
      "execution_count": null,
      "outputs": [
        {
          "output_type": "stream",
          "text": [
            "0.7071067811865476\n"
          ],
          "name": "stdout"
        }
      ]
    },
    {
      "cell_type": "markdown",
      "metadata": {
        "id": "c-FbetYfmrws"
      },
      "source": [
        "Using Python's cos() function, the cosine of 45 degrees returns 0.707106781... This value is very close to the approximation calculated using our func_cos() function."
      ]
    },
    {
      "cell_type": "markdown",
      "metadata": {
        "id": "ADSK39FNmuMv"
      },
      "source": [
        "**Build a plot to compare the Taylor Series approximation to Python's cos() function**"
      ]
    },
    {
      "cell_type": "markdown",
      "metadata": {
        "id": "am5nuPzOmy_y"
      },
      "source": [
        "In the last part of this post, we are going to build a plot that shows how the Taylor Series approximation calculated by our func_cos() function compares to Python's cos() function.\n",
        "\n",
        "The idea is to make a plot that has one line for Python's cos() function and lines for the Taylor Series approximation based on different numbers of terms.\n",
        "\n",
        "For instance, if we use 3 terms in the Taylor Series approximation, our plot has two lines. One line for Python's cos() function and one line for our func_cos() function with three terms in the Taylor series approximation. We'll calculate the cosine using both functions for angles between −2π\n",
        "radians and 2π\n",
        " radians."
      ]
    },
    {
      "cell_type": "code",
      "metadata": {
        "id": "QHt4EcR_m32_",
        "colab": {
          "base_uri": "https://localhost:8080/",
          "height": 377
        },
        "outputId": "84e63962-dac2-485b-e603-7d920559cffb"
      },
      "source": [
        "import math\n",
        "import numpy as np\n",
        "import matplotlib.pyplot as plt\n",
        "import seaborn as sns\n",
        "# if using a Jupyter notebook, include:\n",
        "%matplotlib inline\n",
        "\n",
        "sns.set(rc={'figure.figsize':(8, 6), \"lines.linewidth\": 1.0})\n",
        "\n",
        "angles = np.arange(-2*np.pi,2*np.pi,0.1)\n",
        "p_cos = np.cos(angles)\n",
        "t_cos = [func_cos(angle,3) for angle in angles]\n",
        "\n",
        "fig, ax = plt.subplots()\n",
        "ax.plot(angles,p_cos)\n",
        "ax.plot(angles,t_cos)\n",
        "ax.set_ylim([-5,5])\n",
        "ax.legend(['cos() function','Taylor Series - 3 terms'])\n",
        "\n",
        "plt.show()"
      ],
      "execution_count": null,
      "outputs": [
        {
          "output_type": "display_data",
          "data": {
            "image/png": "[encoded data removed]",
            "text/plain": [
              "<Figure size 576x432 with 1 Axes>"
            ]
          },
          "metadata": {
            "tags": []
          }
        }
      ]
    },
    {
      "cell_type": "markdown",
      "metadata": {
        "id": "ndke4hyEnB7q"
      },
      "source": [
        "We can use a for loop to see how much better adding additional terms to our Taylor Series approximation compares to Python's cos() function."
      ]
    },
    {
      "cell_type": "code",
      "metadata": {
        "id": "Dpd-dHAtnEcd",
        "cellView": "form",
        "colab": {
          "base_uri": "https://localhost:8080/",
          "height": 272
        },
        "outputId": "fa044bc4-c174-4002-d0fb-3f55f441720f"
      },
      "source": [
        "#@title\n",
        "import math\n",
        "import numpy as np\n",
        "import matplotlib.pyplot as plt\n",
        "import seaborn as sns\n",
        "# if using a Jupyter notebook, include:\n",
        "%matplotlib inline\n",
        "\n",
        "sns.set(rc={'figure.figsize':(10, 4), \"lines.linewidth\": 1.0})\n",
        "\n",
        "angles = np.arange(-2*np.pi,2*np.pi,0.1)\n",
        "p_cos = np.cos(angles)\n",
        "\n",
        "fig, ax = plt.subplots()\n",
        "ax.plot(angles,p_cos)\n",
        "\n",
        "# add lines for between 1 and 6 terms in the Taylor Series\n",
        "for i in range(1,6):\n",
        "    t_cos = [func_cos(angle,i) for angle in angles]\n",
        "    ax.plot(angles,t_cos)\n",
        "\n",
        "ax.set_ylim([-7,4])\n",
        "\n",
        "# set up legend\n",
        "legend_lst = ['cos() function']\n",
        "for i in range(1,6):\n",
        "    legend_lst.append(f'Taylor Series - {i} terms')\n",
        "ax.legend(legend_lst, loc=3)\n",
        "\n",
        "plt.show()"
      ],
      "execution_count": null,
      "outputs": [
        {
          "output_type": "display_data",
          "data": {
            "image/png": "[encoded data removed]",
            "text/plain": [
              "<Figure size 720x288 with 1 Axes>"
            ]
          },
          "metadata": {
            "tags": []
          }
        }
      ]
    },
    {
      "cell_type": "markdown",
      "metadata": {
        "id": "h2ntB8WRnH9z"
      },
      "source": [
        "We see the Taylor Series with 5 terms (the brown line) comes closest to approximating Python's cos() function. The Taylor Series with 5 terms is a good approximation of the cosine of angles between about −π\n",
        " and π\n",
        "radians. The Taylor Series with 5 terms is a worse approximation for angles less than −π\n",
        " or greater than π\n",
        ". As the angle gets further away from zero radians, the estimate of the cosine using a Taylor Series gets worse and worse."
      ]
    },
    {
      "cell_type": "markdown",
      "metadata": {
        "id": "Ew0Gfkwt2CBu"
      },
      "source": [
        "#### **Spaces**"
      ]
    },
    {
      "cell_type": "markdown",
      "metadata": {
        "id": "nrkLBUH1hb36"
      },
      "source": [
        "###### **Overview**"
      ]
    },
    {
      "cell_type": "markdown",
      "metadata": {
        "id": "UBr83BK4q-q-"
      },
      "source": [
        "Ubersichr Räume: skalarprodukt etc: https://youtu.be/xshaxciJb24"
      ]
    },
    {
      "cell_type": "markdown",
      "metadata": {
        "id": "_JFo32C3rvIC"
      },
      "source": [
        "cauchy sequence: https://youtu.be/3olS8tyoQEE"
      ]
    },
    {
      "cell_type": "markdown",
      "metadata": {
        "id": "ostHcxEvNZ5r"
      },
      "source": [
        "![Normed Vector Space](https://upload.wikimedia.org/wikipedia/en/7/74/Mathematical_Spaces.png)"
      ]
    },
    {
      "cell_type": "markdown",
      "metadata": {
        "id": "BXxHvgntFDSt"
      },
      "source": [
        "Quelle: [Mathematical Spaces](https://en.m.wikipedia.org/wiki/Space_(mathematics))"
      ]
    },
    {
      "cell_type": "markdown",
      "metadata": {
        "id": "mYX8BpsE7IqC"
      },
      "source": [
        "**What constitutes a 'space'?**"
      ]
    },
    {
      "cell_type": "markdown",
      "metadata": {
        "id": "zqI_Wvvlu5y7"
      },
      "source": [
        "* **A space is a [set](https://en.m.wikipedia.org/wiki/Set_(mathematics)) - (sometimes called a [universe - Grundmenge](https://en.m.wikipedia.org/wiki/Universe_(mathematics))) with some added structure.**\n",
        "\n",
        "* A space consists of selected **mathematical objects that are treated as points**, and selected **relationships between these points**.\n",
        "\n",
        "* The nature of the points can vary widely: for example, the **points can be elements of a set, functions on another space, or subspaces of another space.**\n",
        "\n",
        "* While modern mathematics uses many types of spaces, such as Euclidean spaces, linear spaces, topological spaces, Hilbert spaces, or probability spaces, **it does not define the notion of \"space\" itself.** \n",
        "\n",
        "**[Taxonomy of Spaces](https://en.m.wikipedia.org/wiki/Space_(mathematics)#Taxonomy_of_spaces)**: While each type of space has its own definition, the general idea of \"space\" evades formalization.\n",
        "\n",
        "* **It is the relationships that define the nature of the space**. More precisely, isomorphic spaces are considered identical, where an isomorphism between two spaces is a one-to-one correspondence between their points that preserves the relationships. For example, the relationships between the points of a three-dimensional Euclidean space are uniquely determined by Euclid's axioms, and all three-dimensional Euclidean spaces are considered identical.\n",
        "\n",
        "* They are frequently described as different types of [manifolds](https://en.m.wikipedia.org/wiki/Manifold), which are **spaces that locally approximate to Euclidean space**, and where the properties are defined largely on local connectedness of points that lie on the manifold. \n",
        "\n",
        "**Important Spaces**: Vektorräume und topologische Räume, Metrische und uniforme Räume, Normierte Räume und Skalarprodukträume, Affine und projektive Räume, Differenzierbare und Riemannsche Mannigfaltigkeiten, Messräume, Maßräume und Wahrscheinlichkeitsräume"
      ]
    },
    {
      "cell_type": "markdown",
      "metadata": {
        "id": "1f3hd9w12Kqi"
      },
      "source": [
        "**Summary: From Norm to Norm Topology**"
      ]
    },
    {
      "cell_type": "markdown",
      "metadata": {
        "id": "VdbhSogUTX9R"
      },
      "source": [
        "Eine [Normtopologie](https://de.m.wikipedia.org/wiki/Normtopologie) (siehe auch: [Norm: Normierte Raume](https://de.m.wikipedia.org/wiki/Norm_(Mathematik)#Normierte_Räume) ) ist eine Topologie auf einem normierten Vektorraum, die durch die Norm des Vektorraums induziert wurde.\n",
        "\n",
        "1. Ist $(V,\\|\\cdot\\|)$ ein normierter Vektorraum, so induziert die Norm des Raums durch Differenzenbildung zweier Vektoren $x, y \\in V$ eine Metrik\n",
        "$\n",
        "d(x, y):=\\|x-y\\| .\n",
        "$\n",
        "auf $V$. Mit dieser Metrik wird der Vektorraum zu einem metrischen Raum $(V, d)$. \n",
        "\n",
        "2. Eine Metrik kann nun verwendet werden, um eine $\\varepsilon$ -Umgebung um einen Vektor $x \\in V$ durch\n",
        "$\n",
        "U_{\\varepsilon}(x):=\\{y \\in V, d(x, y)<\\varepsilon\\}\n",
        "$\n",
        "zu definieren. Damit heißt dann eine Teilmenge $M \\subset V$ offen, falls\n",
        "$\n",
        "\\forall x \\in M \\exists \\varepsilon>0: U_{\\varepsilon}(x) \\subset M\n",
        "$\n",
        "gilt. Über diese offenen Mengen induziert die Metrik nun auf $V$ eine Topologie\n",
        "$\n",
        "\\mathcal{T}:=\\{M \\subset V, M \\text { offen }\\}\n",
        "$.\n",
        "\n",
        "3. Mit dieser Topologie wird der Vektorraum zu einem topologischen Vektorraum ($\\mathcal {V}$ , $\\mathcal {T}$) und diese letztendlich von der Norm induzierte Topologie heißt Normtopologie."
      ]
    },
    {
      "cell_type": "markdown",
      "metadata": {
        "id": "69ctNRHBvHbg"
      },
      "source": [
        "Topologischer Raum |  | dazugehörige Struktur\n",
        "--- | --- | ---\n",
        "[Euklidischer Raum](https://de.m.wikipedia.org/wiki/Euklidischer_Raum) | hat | Skalarprodukt\n",
        "[Normierter Raum](https://de.m.wikipedia.org/wiki/Normierter_Raum) | hat | Norm\n",
        "[Metrischer Raum](https://de.m.wikipedia.org/wiki/Metrischer_Raum) | hat | Metrik\n",
        "[Uniformer Raum](https://de.m.wikipedia.org/wiki/Uniformer_Raum) | hat | Uniforme Struktur\n",
        "[Topologischer Raum](https://de.m.wikipedia.org/wiki/Topologischer_Raum) | hat | Topologie"
      ]
    },
    {
      "cell_type": "markdown",
      "metadata": {
        "id": "EX3MWnkavJSo"
      },
      "source": [
        "Quelle: [Einordnung in die Hierarchie mathematischer Strukturen](https://de.m.wikipedia.org/wiki/Metrischer_Raum#Einordnung_in_die_Hierarchie_mathematischer_Strukturen) sowie [Topologische Räume](https://de.m.wikipedia.org/wiki/Topologischer_Raum#Beispiele)"
      ]
    },
    {
      "cell_type": "markdown",
      "metadata": {
        "id": "mEWNHFTs3MuK"
      },
      "source": [
        "![xxx](https://upload.wikimedia.org/wikipedia/commons/thumb/a/a2/Beziehungen_zwischen_mathematischen_Räumen.svg/220px-Beziehungen_zwischen_mathematischen_Räumen.svg.png)"
      ]
    },
    {
      "cell_type": "markdown",
      "metadata": {
        "id": "z7g61tVkvMXM"
      },
      "source": [
        "![alternativer Text](https://upload.wikimedia.org/wikipedia/commons/thumb/d/dc/Mathematical_implication_diagram-alt-large-print.svg/640px-Mathematical_implication_diagram-alt-large-print.svg.png)"
      ]
    },
    {
      "cell_type": "markdown",
      "metadata": {
        "id": "KgAkdiOavOOH"
      },
      "source": [
        "Quelle: [Overview of types of abstract spaces](https://en.m.wikipedia.org/wiki/Space_(mathematics))"
      ]
    },
    {
      "cell_type": "markdown",
      "metadata": {
        "id": "76WfNtSKPS3_"
      },
      "source": [
        "**Vektorraum**"
      ]
    },
    {
      "cell_type": "markdown",
      "metadata": {
        "id": "dEYgQOwausMk"
      },
      "source": [
        "Abstract Vector Spaces: https://youtu.be/TgKwz5Ikpc8"
      ]
    },
    {
      "cell_type": "markdown",
      "metadata": {
        "id": "hbITYPNHEkj5"
      },
      "source": [
        "**More about Vector Spaces under 'Algebra'**\n",
        "\n",
        "* There are many diverse mathematical objects that are called spaces. For example, [vector spaces](https://en.m.wikipedia.org/wiki/Vector_space) such as [function spaces](https://en.m.wikipedia.org/wiki/Function_space) may have infinite numbers of independent dimensions and a notion of distance very different from Euclidean space, and [topological spaces](https://en.m.wikipedia.org/wiki/Topological_space) replace the concept of distance with a more abstract idea of nearness.\n",
        "\n",
        "* **Infinite-dimensional vector spaces arise naturally in mathematical analysis, as function spaces**, whose vectors are functions. These vector spaces are generally endowed with additional structure, which may be a topology, allowing the consideration of issues of proximity and continuity. \n",
        "\n",
        "* Among these topologies, those that are defined by a norm or inner product are more commonly used, as having a notion of distance between two vectors. This is particularly the case of **Banach spaces and Hilbert spaces**, which are fundamental in mathematical analysis."
      ]
    },
    {
      "cell_type": "markdown",
      "metadata": {
        "id": "c0cwoXwB8gZ5"
      },
      "source": [
        "**Konkrete form of vectors don't matter (matrices, vectors, functions, pie transforms etc). All what matters are the 8 axioms which define a vector space:**\n",
        "\n",
        "![cc](https://raw.githubusercontent.com/deltorobarba/repo/master/vectorspace_axioms.png)\n",
        "\n",
        "https://www.youtube.com/watch?v=TgKwz5Ikpc8&list=WL&index=33&t=638s"
      ]
    },
    {
      "cell_type": "markdown",
      "metadata": {
        "id": "NV5j--Nm5XWi"
      },
      "source": [
        "**Funktionenraum**"
      ]
    },
    {
      "cell_type": "markdown",
      "metadata": {
        "id": "7SaeXgZM5beC"
      },
      "source": [
        "> **Vektorräume, deren Elemente selbst Funktionen sind, nennt man Funktionenräume.**\n",
        "\n",
        "A function space is a set of functions between two fixed sets. Often, the domain and/or codomain will have additional structure which is inherited by the function space. For example, the set of functions from any set X into a vector space has a natural vector space structure given by pointwise addition and scalar multiplication. In other scenarios, the function space might inherit a topological or metric structure, hence the name function space.\n",
        "\n",
        "* Ein [Funktionenraum](https://de.wikipedia.org/wiki/Funktionenraum) ist **eine Menge von Funktionen, die alle denselben Definitionsbereich besitzen**. Allerdings kann der Begriff Funktionenraum ähnlich wie der mathematische Begriff Raum nicht scharf abgegrenzt werden.\n",
        "\n",
        "* Meist ist ein Funktionenraum mit einer **Vektoraddition und Skalarmultiplikation** versehen, so dass er einen Vektorraum bildet, dann spricht man von einem **linearen Funktionenraum**\n",
        "\n",
        "* Viele wichtige lineare Funktionenräume sind unendlichdimensional. Diese bilden einen wichtigen Untersuchungsgegenstand der Funktionalanalysis. \n",
        "\n",
        "* Lineare Funktionenräume werden häufig mit einer Norm versehen, sodass ein normierter Raum oder – im Falle der Vollständigkeit – sogar ein Banachraum entsteht. In anderen Fällen werden lineare Funktionenräume durch Definition einer Topologie zu einem topologischen Vektorraum oder einem lokalkonvexen Raum.\n",
        "\n",
        "* Funktionenräume sind im Bereich der linearen Algebra Vektorräume, deren Elemente als Funktionen aufgefasst werden. Hauptsächlich werden Funktionenräume allerdings im Bereich der Funktionalanalysis betrachtet. **Hier wird unter einem Funktionenraum ein Vektorraum mit einer topologischen Struktur verstanden, dessen Elemente als Funktionen aufgefasst werden.**\n",
        "\n"
      ]
    },
    {
      "cell_type": "markdown",
      "metadata": {
        "id": "KaQdyD6pKNo_"
      },
      "source": [
        "Meist ist ein Funktionenraum mit einer Vektoraddition und Skalarmultiplikation versehen, so dass er einen Vektorraum bildet, dann spricht man von einem linearen Funktionenraum\n",
        "\n",
        "* L∞ is a **function space** (Funktionenraum). Its elements are the essentially bounded measurable functions. \n",
        "\n",
        "* More precisely, L∞ is defined based on an underlying measure space, (S, Σ, μ). Start with the set of all measurable functions from S to R which are essentially bounded, i.e. bounded up to a set of measure zero. Two such functions are identified if they are equal almost everywhere. Denote the resulting set by L∞(S, μ).\n",
        "\n",
        "* **The sequence space (Folgenraum) is a special case of the [function space](https://en.m.wikipedia.org/wiki/Function_space) / [Funktionenraum](https://de.m.wikipedia.org/wiki/Funktionenraum): $\\ell_{\\infty}=L_{\\infty}(\\mathbb{N})$ where the natural numbers are equipped with the counting measure.** [source](https://en.m.wikipedia.org/wiki/L-infinity)\n"
      ]
    },
    {
      "cell_type": "markdown",
      "metadata": {
        "id": "QyBc99P47hHM"
      },
      "source": [
        "**In der linearen Algebra**: Sei $D$ eine nichtleere Menge und $V$ ein Vektorraum über einem Körper $K$, dann bezeichnet $V^{D}$ (auch $\\mathrm{Abb}(D, V)$ oder $F(D, V)$ ) die Menge aller Funktionen von $D$ nach $V$. Die Menge $V^{D}$ wird für $f, g \\in V^{D}$ und für Skalare $\\lambda \\in K$ durch die folgenden beiden Verknüpfungen zu einem Vektorraum:\n",
        "Addition: $(f+g): D \\rightarrow V, x \\mapsto f(x)+g(x)$\n",
        "Skalarmultiplikation $\\lambda f: D \\rightarrow V, x \\mapsto \\lambda \\cdot f(x)$\n",
        "Dieser Vektorraum $V^{D}$ und die Untervektorrăume von $V^{D}$ werden im Bereich der linearen Algebra als Funktionenraum bezeichnet.\n"
      ]
    },
    {
      "cell_type": "markdown",
      "metadata": {
        "id": "wcOvWPVApLl1"
      },
      "source": [
        "**In der Funktionalanalysis:** \n",
        "\n",
        "* Sei $D$ eine nichtleere Menge, $V$ ein topologischer Vektorraum (oftmals ein Banachraum oder lokalkonvexer Vektorraum) und $V^{D}$ der Vektorraum aller Abbildungen von $D$ nach $V$. Ein linearer Funktionenraum im Bereich der Funktionalanalysis ist ein Untervektorraum von $V^{D},$ der mit einer von $V$ abgeleiteten topologischen Struktur versehen ist.\n",
        "\n",
        "* **$C^{p}(D)$ der Raum der $p$ -fach stetig differenzierbaren Funktionen mit $p \\in \\mathbb{N} \\cup\\{0, \\infty\\}$ ist ein Funktionenraum**. **Falls $D$ kompakt ist**, ist der Raum bezüglich der üblichen Norm $\\|f\\|_{\\mathcal{C}^{p}(D)}=\\sup _{k \\leq p} \\sup _{x \\in D}\\left|f^{(k)}(x)\\right|$ **ein Banachraum**. ${ }^{[5]}$ Siehe Differentiationsklasse.\n",
        "\n",
        "* **$C_{0}^{\\infty}, C_{c}^{\\infty}$ oder $\\mathcal{D}(D)$ der Raum der [Testfunktionen](https://de.wikipedia.org/wiki/Testfunktion) ist ein Funktionenraum**. Er enthält alle glatten Funktionen mit kompaktem Träger und ist mit der Topologie versehen, welche durch den Konvergenzbegriff induziert wird. Eine Folge $\\left(\\phi_{j}\\right)_{j \\in J}$ konvergiert in $\\mathcal{D}(D)$ gegen $\\phi,$ wenn es ein Kompaktum $K \\subset D$ gibt mit $\\operatorname{supp}\\left(\\phi_{j}\\right) \\subset K$ für alle $j,$ und\n",
        "$\\lim _{j \\rightarrow \\infty} \\sup _{x \\in K}\\left|\\partial_{x}^{\\alpha}\\left(\\phi_{j}(x)-\\phi(x)\\right)\\right|=0\n",
        "$ für alle Multiindizes $\\alpha \\in \\mathbb{N}^{n}$ gilt.\n",
        "\n",
        "* **$L^{p}(D)$ der Raum der $p$ -fach Lebesgue-integrierbaren Funktionen (siehe $L^{p}$ ) ist ein Funktionenraum & ein zentraler Gegenstand der Funktionalanalysis**. Dieser Raum besteht nicht aus einzelnen Funktionen, sondern aus Äquivalenzklassen von Funktionen, welche sich nur auf einer Lebesgue-Nullmenge unterscheiden. Aus diesem Grund ist für $p \\geq 1$ auch die $L^{p}$ -Norm\n",
        "$ \\|f\\|_{L^{p}(D)}=\\left(\\int_{D}|f(x)|^{p} \\mathrm{~d} x\\right)^{1 / p}\n",
        "$ positiv definit und damit wirklich eine Norm. Bezüglich dieser Norm ist der $L^{p}$ -Raum auf kompakten Mengen ebenfalls ein Banachraum. Der Spezialfall $L^{2}$ ist sogar ein Hilbertraum. Dieser Raum wird in der Quantenmechanik häufig benutzt. Es ist der Raum der Wellenfunktionen. Für $0<p<1$ kann man die $L^{p}$ -Räume analog definieren, jedoch sind diese keine normierten Räume.\n",
        "\n",
        "* [Siehe hier mehr](https://de.wikipedia.org/wiki/Funktionenraum#Funktionalanalysis) Beispiele aus der Funktionalanalysis"
      ]
    },
    {
      "cell_type": "markdown",
      "metadata": {
        "id": "nlRmIu1LpJu1"
      },
      "source": [
        "**In der Topologie**: \n",
        "\n",
        "* In der Topologie versteht man unter einem Funktionenraum einen topologischen Raum, dessen Elemente Funktionen von einer Menge oder einem topologischen Raum $X$ in einen topologischen Raum $Y$ sind und dessen Topologie von der Topologie von $X$ und $Y$ und eventuellen Zusatzstrukturen, wie zum Beispiel einer Metrik oder einer uniformen Struktur, abgeleitet ist. Häufig wird die Kompakt-Offen-Topologie verwendet.\n",
        "\n",
        "* Sind $M$ und $N$ topologische Räume, so schreibt man $\\mathcal{C}(M, N)$ für die Menge der stetigen Funktionen $f: M \\rightarrow N$.\n",
        "\n",
        "* Ist auf $N$ eine Metrik $d$ gegeben, dann kann man sinnvoll von der Menge der beschränkten Funktionen sprechen (auch ohne Topologie auf $M$ ). Für diese Abbildungsmenge wird unter anderem die Notation $B(M, N)$ verwendet. Ist auch auf $M$ eine Topologie definiert, schreibt man $\\mathcal{C}_{b}(M, N)$ für die Menge der beschränkten stetigen Funktionen. Auf diesen Räumen wird durch\n",
        "$$\n",
        "d_{\\infty}:(f, g) \\mapsto \\sup _{x \\in M} d(f(x), g(x))\n",
        "$$\n",
        "eine Metrik definiert. Alternativ ist auch die Metrik\n",
        "$$\n",
        "d_{\\infty}^{\\prime}:(f, g) \\mapsto \\min \\left\\{1, \\sup _{x \\in M} d(f(x), g(x))\\right\\}\n",
        "$$\n",
        "möglich. **Diese beiden Metriken <u>erzeugen aber dieselben offenen Mengen</u>, sodass sie äquivalent behandelt werden können.**"
      ]
    },
    {
      "cell_type": "markdown",
      "metadata": {
        "id": "4-F4FsRP0mB4"
      },
      "source": [
        "**Folgenraum**"
      ]
    },
    {
      "cell_type": "markdown",
      "metadata": {
        "id": "LrzUZWDm0mB4"
      },
      "source": [
        "* **Ein [Folgenraum](https://de.m.wikipedia.org/wiki/Folgenraum) (Sequence Space) ist ein in der Mathematik betrachteter Vektorraum**, dessen Elemente Zahlenfolgen sind. \n",
        "\n",
        "* Viele in der Funktionalanalysis auftretende Vektorräume sind Folgenräume oder können durch solche repräsentiert werden. Zu den Beispielen zählen u. a. die wichtigen Räume wie ℓ∞ aller beschränkten Folgen oder c0 aller gegen 0 konvergenten Folgen.\n",
        "\n",
        "* **Werden Normen bzw. Systeme von Normen oder Halbnormen auf Folgenräumen definiert, erhält man normierte Räume bzw. lokalkonvexe Räume.**\n",
        "\n",
        "* A **sequence space** (Folgenraum) is a vector space whose elements are infinite sequences of real or complex numbers. \n",
        "\n",
        "* Equivalently, it is a **function space** (Funktionenraum) whose elements are functions from the natural numbers to the field K of real or complex numbers. \n",
        "\n",
        "* The set of all such functions is naturally identified with the set of all possible infinite sequences with elements in K, and **can be turned into a vector space** under the operations of pointwise addition of functions and pointwise scalar multiplication. All sequence spaces are linear subspaces of this space. Sequence spaces are typically equipped with a norm, or at least the structure of a topological vector space.\n",
        "\n",
        "* The **most important sequence spaces in analysis are the ℓp spaces**, consisting of the p-power summable sequences, with the p-norm. These are special cases of Lp spaces for the counting measure on the set of natural numbers. \n",
        "\n",
        "* Other important classes of sequences like convergent sequences or null sequences (Nullfolgen) form sequence spaces, respectively denoted c and c0, with the sup norm. Any sequence space can also be equipped with the topology of pointwise convergence, under which it becomes a special kind of Fréchet space called FK-space.\n",
        "\n",
        "* The vector space ℓ∞ is a **sequence space** (Folgenraum) whose elements are the bounded sequences. The vector space operations, addition and scalar multiplication, are applied coordinate by coordinate. \n",
        "\n",
        "* $\\ell^{\\infty},$ the (real or complex) vector space of bounded sequences with the **[supremum norm](https://de.m.wikipedia.org/wiki/Supremumsnorm)**, and $L^{\\infty}=L^{\\infty}(X, \\Sigma, \\mu)$, the vector space of essentially bounded measurable functions with the **[essential supremum norm](https://de.m.wikipedia.org/wiki/Wesentliches_Supremum)**, are two closely related Banach spaces. \n",
        "\n",
        "* In fact the former is a special case of the latter. As a Banach space they are the continuous dual of the Banach spaces $\\ell_{1}$ of absolutely summable sequences, and $L^{1}=L^{1}(X, \\Sigma, \\mu)$ of absolutely integrable measurable functions (if the measure space fulfills the conditions of being localizable and therefore\n",
        "semifinite). \n",
        "\n",
        "* Pointwise multiplication gives them the structure of a Banach algebra, and in fact they are the standard examples of abelian Von Neumann algebras."
      ]
    },
    {
      "cell_type": "markdown",
      "metadata": {
        "id": "qYW5u_0Oi7l5"
      },
      "source": [
        "###### **Inner Product Space**"
      ]
    },
    {
      "cell_type": "markdown",
      "metadata": {
        "id": "n8zULN0xDv3J"
      },
      "source": [
        "**Inner Product**"
      ]
    },
    {
      "cell_type": "markdown",
      "metadata": {
        "id": "A-3TsP_aDsFR"
      },
      "source": [
        "**Das innere Produkt (Skalarprodukt / Produktpunkt called when applied to functions - the alternate name of inner product in linear algebra is 'dot product') stellt quasi eine Geometrie im Vektorraum her, wir können dadurch definieren, welche Vektoren orthogonal, und welche parallel zueinander sind.**\n",
        "\n",
        "* **Das Skalarprodukt benötigt man**, \n",
        "  * um die Lange von Vektoren zu berechnen, \n",
        "  * den Winkel zwischen Vektoren zu berechnen (uber Cosinus von Alpha) und \n",
        "  * ob zwei Vektoren senkrecht zueinander stehen.\n",
        "\n",
        "* Das **Dot Product / Scalar Product / [Skalarprodukt](https://de.wikipedia.org/wiki/Skalarprodukt)** (auch inneres Produkt oder Punktprodukt) ist eine [mathematische Verknüpfung](https://de.wikipedia.org/wiki/Verknüpfung_(Mathematik)), die zwei Vektoren eine Zahl (Skalar) zuordnet. \n",
        "\n",
        "* **Scalar vs Scalar Product**: A [scalar](https://en.wikipedia.org/wiki/Scalar_(mathematics)) is an element of a field which is used to define a vector space. A quantity described by multiple scalars, such as having both direction and magnitude, is called a vector. The [determinant](https://en.wikipedia.org/wiki/Determinant) is a scalar value that can be computed from the elements of a **square matrix** and encodes certain properties of the linear transformation described by the matrix. Geometrically, the determinant can be viewed as the volume scaling factor of the linear transformation described by the matrix.\n",
        "\n",
        "* Geometrisch berechnet man das Skalarprodukt zweier Vektoren $\\vec{a}$ und $\\vec{b}$ nach der Formel:\n",
        "\n",
        "> $\n",
        "\\vec{a} \\cdot \\vec{b}=|\\vec{a}||\\vec{b}| \\cos \\alpha(\\vec{a}, \\vec{b})\n",
        "$\n",
        "\n",
        "* Null, wenn sie senkrecht zueinander stehen, und maximal, wenn sie die gleiche Richtung haben.\n",
        "\n",
        "* **A common special case of the inner product is the scalar product or dot product, is written with a centered dot a ⋅ b.**\n",
        "\n",
        "* In [Inner product spaces](https://en.m.wikipedia.org/wiki/Inner_product_space) the inner product is the dot product, also known as the scalar product. (They generalize Euclidean spaces to vector spaces of any (possibly infinite) dimension.)\n",
        "\n",
        "* Ist das Skalarprodukt von zwei Vektoren $\n",
        "\\vec{a} \\cdot \\vec{b}= 0$, dann folgt daraus, dass diese orthogonal zueinander stehen.\n",
        "\n",
        "* Examples:\n",
        "\n",
        "  * A simple example is the real numbers $\\mathbb{R}$ with the standard multiplication as the inner product $\\langle x, y\\rangle:=x y$"
      ]
    },
    {
      "cell_type": "markdown",
      "metadata": {
        "id": "nIFUizKhZCSb"
      },
      "source": [
        "* Metric -> measures distances\n",
        "* Norm -> measures distances, lengths\n",
        "* Inner product -> measures distances, lengths, angles"
      ]
    },
    {
      "cell_type": "markdown",
      "metadata": {
        "id": "u6umQWXI-w6Z"
      },
      "source": [
        "**Inner Product of Functions**\n",
        "\n",
        "* **says how similar two functions are ** (how much they align with each other)\n",
        "\n",
        "* i.e. if they are orthogonal, then zero. if they are very similar, then they have a large inner product\n",
        "\n",
        "> $\\langle f(x), g(x)\\rangle=\\int_{a}^{b} f(x) g(x) d x$\n",
        "\n",
        "* You can also take samples from both functions and calculate the inner product between both. Up to infinity, you get at the integral like written above:\n",
        "\n",
        "> $\\langle f, g\\rangle=g^{\\top} {f}$ = $\\langle f, g \\rangle \\Delta x=\\sum_{k=1}^{n} f\\left(x_{n}\\right) g\\left(x_{n}\\right) \\Delta x$\n",
        "\n",
        "* this is the Riemann approximation of the continuuos integral above\n",
        "\n",
        "* be aware: you need to transpose the vector g, in order to compute the inner product with f ?? also you need to take delta x to normalize, otherwise the sum with blow up.\n",
        "\n",
        "* **Inner product of function are used a lot in Fourier Transform**\n",
        "\n",
        "https://www.youtube.com/watch?v=g-eNeXlZKAQ&list=LL&index=7&t=11s"
      ]
    },
    {
      "cell_type": "markdown",
      "metadata": {
        "id": "bnMZ_vRLDyyc"
      },
      "source": [
        "**Inner Product Space**"
      ]
    },
    {
      "cell_type": "markdown",
      "metadata": {
        "id": "gtcOpkYQjFKx"
      },
      "source": [
        "* Der **[Inner Product Space](https://en.m.wikipedia.org/wiki/Inner_product_space)** (Prähilbertraum bzw. Skalarprodukt) ist ein **Vektorraum**, auf dem ein **inneres Produkt definiert ist**. \n",
        "\n",
        "* An [inner product space](https://en.m.wikipedia.org/wiki/Inner_product_space) is a normed space, **where the norm of a vector is the square root of the inner product of the vector by itself**: $\\sqrt{\\vec{x} \\cdot \\vec{x}} = \\sqrt{{x}^{2}}$\n",
        "\n",
        "* [Inner product spaces](https://en.m.wikipedia.org/wiki/Inner_product_space) generalize **Euclidean spaces (in which the inner product is the dot product, also known as the scalar product**) to vector spaces of any (possibly infinite) dimension.\n",
        "\n",
        "An **inner product space** is a vector space $V$ over the field $\\mathbb{F}$ together with a map\n",
        "\n",
        "$\n",
        "\\langle\\cdot, \\cdot\\rangle: V \\times V \\rightarrow \\mathbb{F}\n",
        "$\n",
        "\n",
        "called an inner product that satisfies the following conditions $(1),(2),$ and $(3)$ for all vectors $x, y, z \\in V$ and all scalars $a \\in \\mathbb{F}:$ [see here](https://en.m.wikipedia.org/wiki/Inner_product_space)\n",
        "\n",
        "* In linear algebra, **an inner product space is a vector space with an additional structure called an inner product**. This additional structure associates each pair of vectors in the space with a scalar quantity known as the inner product of the vectors. Geometric interpretation of the angle between two vectors defined using an inner product.\n",
        "\n",
        "> **Inner products allow the rigorous introduction of intuitive geometrical notions such as the length of a vector or the angle between two vectors**. They also provide the means of defining orthogonality between vectors (**zero inner product**). \n",
        "\n",
        "* **Inner product spaces generalize Euclidean spaces** (in which the inner product is the **dot product**, also known as the scalar product) to vector spaces of any (possibly infinite) dimension, and are studied in functional analysis. \n",
        "\n",
        "> An inner product **naturally induces an associated norm**, (|x| and |y| are the norms of x and y, in the picture) thus an inner product space is also a normed vector space. A complete space with an inner product is called a Hilbert space. "
      ]
    },
    {
      "cell_type": "markdown",
      "metadata": {
        "id": "g39QbB44D61P"
      },
      "source": [
        "**Pre-Hilbert Space**"
      ]
    },
    {
      "cell_type": "markdown",
      "metadata": {
        "id": "ebcU_rhpD5H3"
      },
      "source": [
        "* **An (incomplete) space with an inner product is called a pre-Hilbert space**, since its completion with respect to the norm induced by the inner product is a Hilbert space. Inner product spaces over the field of complex numbers are sometimes referred to as unitary spaces."
      ]
    },
    {
      "cell_type": "markdown",
      "metadata": {
        "id": "_Syw4dL96u31"
      },
      "source": [
        "###### **Normed Vector Space**"
      ]
    },
    {
      "cell_type": "markdown",
      "metadata": {
        "id": "GCXP396NF0kv"
      },
      "source": [
        "**Norm**"
      ]
    },
    {
      "cell_type": "markdown",
      "metadata": {
        "id": "mhAD7kvd3uuL"
      },
      "source": [
        "> **Eine Norm gibt die Größe eines Elements in einem Vektorraum an.**\n",
        "\n",
        "Eine **[Norm](https://de.wikipedia.org/wiki/Norm_(Mathematik)) ist eine Abbildung (Funktion)** $\\|\\cdot\\|: V \\rightarrow \\mathbb{R}_{0}^{+}$, welche einem Element von einem reellen oder komplexen Vektorraum eine **nicht-negative reelle Zahl** $\\mathbb{R}^{\\geq \\ 0 }$ zuordnet und folgende Eigenschaften besitzt (für alle $x, y$ aus dem $\\mathbb{K}$ Vektorraum und alle $\\lambda$ aus $\\mathbb{K}$):\n",
        "\n",
        "1. **[Definitheit](https://de.m.wikipedia.org/wiki/Definitheit)**: \n",
        "  * It is **nonnegative**, that is for every vector x, one has ‖x‖ ≥ 0. \n",
        "  * It is **positive on nonzero vectors**, that is, ‖x‖ = 0 ⟺ x = 0.\n",
        "\n",
        "2. **[Absolute Homogenität](https://de.m.wikipedia.org/wiki/Homogene_Funktion)**: For every vector x, and every **scalar α**, one has ‖ α x ‖ = | α | ‖ x ‖.\n",
        "\n",
        "3. **[Subadditivität, Dreiecksungleichung](https://de.m.wikipedia.org/wiki/Additive_Funktion#Sub-_und_Superadditivität)**: for every vectors x and y, one has ‖ x+y ‖ ≤ ‖ x ‖ + ‖ y ‖.\n",
        "\n",
        "A norm is the generalization to real vector spaces of the intuitive notion of \"length\" in the real world."
      ]
    },
    {
      "cell_type": "markdown",
      "metadata": {
        "id": "pgJe0PPqHNwO"
      },
      "source": [
        "Satisfy the properties of a \"**length function**\" (or norm), which are that:\n",
        "\n",
        "1. only the zero vector has zero length,\n",
        "\n",
        "2. lhe length of the vector is positive homogeneous with respect to multiplication by a scalar (positive homogeneity), and\n",
        "\n",
        "3. the length of the sum of two vectors is no larger than the sum of lengths of the vectors (triangle inequality)."
      ]
    },
    {
      "cell_type": "markdown",
      "metadata": {
        "id": "ve2sdCz3JKyx"
      },
      "source": [
        "Das [**Minkowski-Funktional**](https://de.wikipedia.org/wiki/Minkowski-Funktional), oft auch Eichfunktional genannt, ist eine Verallgemeinerung des Normbegriffes."
      ]
    },
    {
      "cell_type": "markdown",
      "metadata": {
        "id": "NEDytFMoZEpX"
      },
      "source": [
        "* Metric -> measures distances\n",
        "* Norm -> measures distances, lengths\n",
        "* Inner product -> measures distances, lengths, angles"
      ]
    },
    {
      "cell_type": "markdown",
      "metadata": {
        "id": "HVsqgPNWLrIl"
      },
      "source": [
        "**From Inner Products to Norms**"
      ]
    },
    {
      "cell_type": "markdown",
      "metadata": {
        "id": "H8DuIHMoLwfk"
      },
      "source": [
        "Eine Norm kann (muss aber nicht) von einem [Skalarprodukt](https://de.wikipedia.org/wiki/Skalarprodukt) abgeleitet werden (eine sogenannte ['Skalarproduktnorm'](https://de.m.wikipedia.org/wiki/Skalarproduktnorm)). In diesem Fall is **the norm of a vector the square root of the inner product of the vector by itself**. \n",
        "\n",
        "> An inner product **naturally induces an associated norm**, (|x| and |y| are the norms of x and y, in the picture) thus an inner product space is also a normed vector space. A complete space with an inner product is called a Hilbert space.\n",
        "\n",
        "**Any normed vector space is a metric space** by defining d(x, y) = ‖ y - x ‖, see also metrics on vector spaces. (If such a space is complete, we call it a Banach space.) "
      ]
    },
    {
      "cell_type": "markdown",
      "metadata": {
        "id": "CKjrTqQARKrW"
      },
      "source": [
        "**Halbnorm**"
      ]
    },
    {
      "cell_type": "markdown",
      "metadata": {
        "id": "-S0X3B0bE6_6"
      },
      "source": [
        "* die [Halbnorm](https://de.wikipedia.org/wiki/Halbnorm) (oder unter einer Seminorm) ist ein Funktional, das sowohl absolut homogen als auch subadditiv ist.\n",
        "\n",
        "* Mit dem Konzept der Halbnorm wird das Konzept der Norm verallgemeinert, **indem auf die Eigenschaft der positiven Definitheit verzichtet wird**. \n",
        "\n",
        "* Jede Halbnorm ist nichtnegativ, symmetrisch bezüglich Vorzeichenumkehr, sublinear und konvex. \n",
        "\n",
        "* Aus jeder Halbnorm kann durch Restklassenbildung eine zugehörige Norm abgeleitet werden. \n",
        "\n",
        "* Mit Hilfe von Familien von Halbnormen können auch lokalkonvexe Vektorräume definiert werden. Halbnormen werden insbesondere in der linearen Algebra und in der Funktionalanalysis studiert. Eng verwandt mit dem Konzept der Halbnorm ist das Konzept des Minkowski-Funktionals.\n",
        "\n",
        "Sei $V$ ein Vektorraum über dem Kōrper $\\mathbb{K} \\in\\{\\mathbb{R}, \\mathbb{C}\\}$. Eine Halbnorm auf $V$ ist eine Abbildung $p: V \\rightarrow \\mathbb{R}_{0}^{+}$ mit den Eigenschaften **absolute Homogenität und Subadditivität**,  das heißt fur alle $\\lambda \\in \\mathbb{K}$ und für alle $x, y \\in V$ qelten $p(\\lambda x)=|\\lambda| p(x) \\quad$ (absolute Homogenitãt) und $ p(x+y) \\leq p(x)+p(y) \\quad \\text { (Subadditivität), }$ wobei | : | den Betrag des Skalars darstelit. Ein Vektorraum zusammen mit einer Halbnorm heißt halbnormierter Raum $(V, p)$\n",
        "\n",
        "Beispiele: \n",
        "\n",
        "* Jede Norm ist eine Halbnorm, die zudem auch positiv definit ist.\n",
        "\n",
        "* Die Nullfunktion $p\\equiv 0$, die jedes Element des Vektorraums auf Null abbildet, ist eine Halbnorm.\n",
        "\n",
        "![xxx](https://upload.wikimedia.org/wikipedia/commons/thumb/7/72/Seminorm_qtl1.svg/440px-Seminorm_qtl1.svg.png)\n",
        "\n",
        "*Die Funktion $p(x, y)=|x-y|$ ist eine Halbnorm im Raum $\\mathbb{R}^{2}$*"
      ]
    },
    {
      "cell_type": "markdown",
      "metadata": {
        "id": "5e3P8IZMKnRD"
      },
      "source": [
        "****Beispiele fur Normen (auf <u>endlichdimensionalen</u> Vektorräumen)****"
      ]
    },
    {
      "cell_type": "markdown",
      "metadata": {
        "id": "qygj95-xb7Eu"
      },
      "source": [
        "* **Zahlnorm**: Beispiel fur eine [Zahlnorm](https://de.m.wikipedia.org/wiki/Norm_(Mathematik)#Zahlnormen) ist die [Betragsnorm](https://de.m.wikipedia.org/wiki/Betragsfunktion). Die Betragsnorm ist **induziert vom Standardskalarprodukt** (erfüllt die drei Normaxiome Definitheit, absolute Homogenität und Subadditivität) zweier reeller bzw. komplexen Zahlen. Die Betragsnorm ist. der Betrag einer reellen Zahl $z \\in \\mathbb{R}$:\n",
        "  > $\n",
        "\\|z\\|=|z|=\\sqrt{z^{2}}=\\left\\{\\begin{array}{cl}\n",
        "z & \\text { für } z \\geq 0 \\\\\n",
        "-z & \\text { für } z<0 .\n",
        "\\end{array}\\right.$\n",
        "\n",
        "* **Matrixnorm**: Siehe [Norm -> Matrixnorm](https://de.m.wikipedia.org/wiki/Norm_(Mathematik)#Matrixnormen) und [Matrixnorm](https://de.m.wikipedia.org/wiki/Matrixnorm)\n",
        "\n",
        "* **Vektornormen (p-Normen)**\n",
        "  * Die [$p$ -Normen](https://de.m.wikipedia.org/wiki/P-Norm) sind eine Klasse von [Vektornormen](https://de.m.wikipedia.org/wiki/Norm_(Mathematik)#Vektornormen), die für reelle Zahlen $p \\geq 1$ definiert sind. Die $p$ -Norm eines reellen oder komplexen Vektors $x=\\left(x_{1}, \\ldots, x_{n}\\right) \\in \\mathbb{K}^{n}$ mit $\\mathbb{K}=\\mathbb{R}$ oder $\\mathbb{K}=\\mathbb{C}$ ist für reelles\n",
        "$1 \\leq p<\\infty$ definiert durch:\n",
        "\n",
        "  > **$\\|x\\|_{p}:=\\left(\\sum_{i=1}^{n}\\left|x_{i}\\right|^{p}\\right)^{1 / p}$**\n",
        "\n",
        "  * **Wichtige Spezialfälle** sind dabei die \n",
        "  * **Summennorm** (p=1, Lasso): $\\|x\\|_{1}=\\sum_{i=1}^{n}\\left|x_{i}\\right|$\n",
        "  * **Euklidische Norm** (p=2, Ridge): $\\|x\\|_{2}= \\left(x_{1}^{2}+x_{2}^{2}+\\cdots+x_{n}^{2}\\right)^{1 / 2} = \\sqrt{\\sum_{i=1}^{n}\\left|x_{i}\\right|^{2}}$. \n",
        "  * **Maximumsnorm** als Grenzwert für $p \\rightarrow \\infty$ \n",
        "  * p-Normen **erfüllen die Minkowski-Ungleichung sowie die Hölder-Ungleichung**.\n",
        "  * For all p ≥ 1, the p-norms erfüllen die drei Normaxiome Definitheit, absolute Homogenität und Subadditivität."
      ]
    },
    {
      "cell_type": "markdown",
      "metadata": {
        "id": "BzwsYyJMZkys"
      },
      "source": [
        "**Normed Vector Space**"
      ]
    },
    {
      "cell_type": "markdown",
      "metadata": {
        "id": "0MpcxqCJZoQT"
      },
      "source": [
        "\n",
        "**A [normed vector space](https://en.m.wikipedia.org/wiki/Normed_vector_space) or normed space is a vector space over the real or complex numbers, on which a norm is defined**. \n",
        "\n",
        "> Ist $V$ ein [Vektorraum](https://de.m.wikipedia.org/wiki/Vektorraum) über dem Körper $\\mathbb{K}$ der reellen oder der komplexen Zahlen und $\\|\\cdot\\|: V \\rightarrow \\mathbb{R}_{0}^{+}$ eine Norm auf $V,$ dann nennt man das Paar $(V,\\|\\cdot\\|)$ einen **normierten Vektorraum**.\n",
        "\n",
        "**Any normed vector space is a metric space** by defining d(x, y) = ‖ y - x ‖, see also metrics on vector spaces. (If such a space is complete, we call it a Banach space.)\n",
        "\n",
        "**Be careful**: A [vector space](https://en.m.wikipedia.org/wiki/Vector_space) is an [algebraic structure](https://en.m.wikipedia.org/wiki/Outline_of_algebraic_structures), meanwhile a [normed vector space](https://en.m.wikipedia.org/wiki/Normed_vector_space) is a type of [abstract (topological) space](https://en.m.wikipedia.org/wiki/Space_(mathematics)#Taxonomy_of_spaces) (a normed vector space is a vector space over the real or complex numbers, on which a norm is defined). (See also [Topological Vector Space](https://en.m.wikipedia.org/wiki/Topological_vector_space)"
      ]
    },
    {
      "cell_type": "markdown",
      "metadata": {
        "id": "BXryTztK_153"
      },
      "source": [
        "**Banachraum**"
      ]
    },
    {
      "cell_type": "markdown",
      "metadata": {
        "id": "27wE3ZTM_154"
      },
      "source": [
        "* **$\\mathbb{R}$<sup>n</sup> together with the p-norm is a [Banach space](https://de.wikipedia.org/wiki/Banachraum) = ein vollständiger normierter Vektorraum**. This Banach space is the Lp-space over Rn. \n",
        "\n",
        "* Ein **[Banachraum](https://en.m.wikipedia.org/wiki/Banach_space)** ist ein vollständiger normierter (Vektor-)Raum. Ein vollständiger normierter Vektorraum (complete normed vector space) heißt Banachraum. \n",
        "\n",
        "  * A Banach space is a vector space X over any scalar field K that is equipped with a norm ‖⋅‖ <sub>X</sub> and that is complete with respect to the distance function induced by the norm\n",
        "\n",
        "  * Basic examples of Banach spaces include: the $L^{p}$ spaces and their special cases, the sequence spaces\n",
        "$\\ell^{p}$ that consist of scalar sequences indexed by $\\mathrm{N} ;$ among them, the space $\\ell^{1}$ of absolutely summable sequences and the space $\\ell^{2}$ of square summable sequences; the space $c_{0}$ of sequences tending to zero and the space $\\ell^{\\infty}$ of bounded sequences; the space $C(K)$ of continuous scalar functions on a compact\n",
        "Hausdorff space $K$, equipped with the max norm\n",
        "\n",
        "* Viele **Folgenräume $\\ell$** oder **Funktionenräume $L$** sind unendlichdimensionale Banachräume. Function Spaces $L$ are a type of infinite vector space. \n",
        "\n",
        "  * **Lp spaces are function spaces defined using a natural generalization of the p-norm for finite-dimensional vector spaces**. They are sometimes called Lebesgue spaces. Lp spaces form an important class of Banach spaces in functional analysis, and of topological vector spaces.\n",
        "\n",
        "  * Infinite-dimensional **vector spaces arise naturally in mathematical analysis, as function spaces**, whose vectors are functions. These vector spaces are generally endowed with additional structure, which may be a topology, allowing the consideration of issues of proximity and continuity. Among these topologies, those that are defined by a norm or inner product are more commonly used, as having a notion of distance between two vectors. This is particularly the case of Banach spaces and Hilbert spaces, which are fundamental in mathematical analysis."
      ]
    },
    {
      "cell_type": "markdown",
      "metadata": {
        "id": "25a9f-r__9K9"
      },
      "source": [
        "**Hilbertraum**"
      ]
    },
    {
      "cell_type": "markdown",
      "metadata": {
        "id": "R5560CRM_9K9"
      },
      "source": [
        "* Ein Banachraum, dessen Norm durch ein Skalarprodukt induziert ist, heißt **[Hilbertraum](https://de.wikipedia.org/wiki/Hilbertraum)**. (z.B. p2-Norm (Euklidische Norm). Lässt man die Bedingung der Vollständigkeit fallen, spricht man von einem Prähilbertraum.)\n",
        "\n",
        "* Die Struktur eines Hilbertraums ist eindeutig festgelegt durch seine Hilbertraumdimension. Diese kann eine beliebige Kardinalzahl sein. Ist die Dimension endlich und betrachtet man als Körper die reellen Zahlen, so handelt es sich um einen euklidischen Raum.\n",
        "\n",
        "* Hilberträume tragen durch ihr Skalarprodukt eine topologische Struktur. Dadurch sind hier im Gegensatz zu allgemeinen Vektorräumen Grenzwertprozesse möglich. \n",
        "\n",
        "* Hilbert space is the space of all possible quantum wave functions\n",
        "* Could be infinite or finite dimensional space\n",
        "Hilbert space dimension mean you a way of mathematically representing how much information is contained in the state of a system\n",
        "* Classical mechanics: location is 3 coordinates, entire physical state: position + velocity, which has itself 3 components = 6 dimension (so-called phase space). Plus orientation in space is another 3 dimensions.\n",
        "* Take a 2 dimensional vector space. We get the dot product between the two vectors and the (euclidean) norm (=length of a vector). Hilbert spaces is now the generalization of this concept from 2 dimensions to infinity of dimensions (infinite number of coordinates). With the condition that the sum of the squares (length / norm) of all coordinates has to be bounded in less than infinity. Ordered systems of numbers which satisfy these two properties are called Hilbert spaces.\n",
        "* In order to study the solution of Schrodingers equation (so called wave function) you need to understand the Hilbert space and study it in its context. "
      ]
    },
    {
      "cell_type": "markdown",
      "metadata": {
        "id": "bnCRzBZ3_iBj"
      },
      "source": [
        "**L<sup>p</sup> Spaces**"
      ]
    },
    {
      "cell_type": "markdown",
      "metadata": {
        "id": "SowGQi_UAvE7"
      },
      "source": [
        "* [L<sup>p</sup>-Raum](https://de.m.wikipedia.org/wiki/Lp-Raum) sind spezielle Räume, die aus allen p-fach integrierbaren Funktionen bestehen. Das $p$ in der Bezeichnung ist ein reeller Parameter: Für jede Zahl $0<p \\leq \\infty$ ist ein $L^{p}$ -Raum definiert. Die Konvergenz in diesen Räumen wird als Konvergenz im $p$ -ten Mittel bezeichnet.\n",
        "\n",
        "* diese Räume werden über das Lebesgue-Integral definiert\n",
        "\n",
        "* Im Fall Banachraum-wertiger Funktionen bezeichnet man sie auch als Bochner-Lebesgue-Räume. \n",
        "\n",
        "[**Konvergenz_im_p-ten_Mittel**](https://de.m.wikipedia.org/wiki/Konvergenz_im_p-ten_Mittel)\n",
        "\n",
        "${\\mathcal {L}}^{p}$ mit Halbnorm\n",
        "\n",
        "${\\mathcal {L}}^{p}$ mit Norm\n",
        "\n",
        "Hilbertraum ${\\mathcal {L}}^{2}$"
      ]
    },
    {
      "cell_type": "markdown",
      "metadata": {
        "id": "diVqOYFUpRJ_"
      },
      "source": [
        "* Der **normierte Vektorraum** $L^{p}$ ist [vollständig](https://de.m.wikipedia.org/wiki/Vollständiger_Raum) und damit ein [Banachraum](https://de.m.wikipedia.org/wiki/Banachraum), die Norm $\\|\\cdot\\|_{L} p$ wird **$L^{p}$ Norm** genannt.\n",
        "\n",
        "* Auch wenn man von sogenannten $L^{p}$ -Funktionen spricht, handelt es sich dabei um die gesamte Äquivalenzklasse einer klassischen Funktion. Allerdings liegen im Falle des Lebesgue-Maßes auf dem $\\mathbb{R}^{n}$ zwei verschiedene stetige Funktionen nie in der gleichen Äquivalenzklasse, so dass der $L^{p}$\n",
        "-Begriff eine natürliche Erweiterung des Begriffs stetiger Funktionen darstellt.\n",
        "\n",
        "* The [**Lp spaces**](https://de.m.wikipedia.org/wiki/Lp-Raum) are [function spaces](https://en.m.wikipedia.org/wiki/Function_space) defined using a natural **generalization of the p-norm for finite-dimensional vector spaces**. They are sometimes called **Lebesgue spaces**.\n",
        "\n",
        "* A normed vector space is automatically a metric space, by defining the metric in terms of the norm in the natural way. But a metric space may have no algebraic (vector) structure — i.e., it may not be a vector space — so the concept of a **metric space is a generalization of the concept of a normed vector space**.\n",
        "\n",
        "* Lp spaces form an important class of [Banach spaces](https://en.m.wikipedia.org/wiki/Banach_space) in functional analysis, and of topological vector spaces.\n",
        "\n",
        "* In statistics, measures of central tendency and statistical dispersion, such as the mean, median, and standard deviation, are defined in terms of Lp metrics, and measures of central tendency can be characterized as [solutions to variational problems](https://en.m.wikipedia.org/wiki/Central_tendency#Solutions_to_variational_problems)\n",
        "\n",
        "* An Lp space may be defined as a space of measurable functions for which the p-th power of the absolute value is Lebesgue integrable, where functions which agree almost everywhere are identified. \n",
        "\n",
        "* More generally, let 1 ≤ p < ∞ and (S, Σ, μ) be a [measure space](https://en.m.wikipedia.org/wiki/Measure_space). Consider the set of all measurable functions from S to C or R whose absolute value raised to the p-th power has a finite integral, or equivalently, that\n",
        "\n",
        "> $\\|f\\|_{p} \\equiv\\left(\\int_{S}|f|^{p} \\mathrm{d} \\mu\\right)^{1 / p}<\\infty$"
      ]
    },
    {
      "cell_type": "markdown",
      "metadata": {
        "id": "EQCX8nw4AygM"
      },
      "source": [
        "**F-Space**"
      ]
    },
    {
      "cell_type": "markdown",
      "metadata": {
        "id": "zf1t7-ekA01-"
      },
      "source": [
        "* The **space Lp for 0 < p < 1 is an [F-space](https://en.m.wikipedia.org/wiki/F-space)**: it admits a complete translation-invariant metric with respect to which the vector space operations are continuous. It is also locally bounded, much like the case p ≥ 1.\n",
        "\n",
        "* Some authors use the term [Fréchet space](https://en.m.wikipedia.org/wiki/Fr%C3%A9chet_space) rather than F-space, but usually the term \"Fréchet space\" is reserved for locally convex F-spaces. Some other authors use the term \"F-space\" as a synonym of \"Fréchet space\", by which they mean a locally convex complete metrizable TVSs. The metric may or may not necessarily be part of the structure on an F-space; many authors only require that such a space be metrizable in a manner that satisfies the above properties."
      ]
    },
    {
      "cell_type": "markdown",
      "metadata": {
        "id": "0EgxdbAJA-6l"
      },
      "source": [
        "**Hardy-Räume**"
      ]
    },
    {
      "cell_type": "markdown",
      "metadata": {
        "id": "3igCgtztA-6s"
      },
      "source": [
        "Untersucht man statt der messbaren Funktionen nur die holomorphen beziehungsweise die harmonischen Funktionen auf Integrierbarkeit, so werden die entsprechenden $L^{p}$-Räume Hardy-Räume genannt."
      ]
    },
    {
      "cell_type": "markdown",
      "metadata": {
        "id": "o_OL0yBfA-6s"
      },
      "source": [
        "https://de.m.wikipedia.org/wiki/Lp-Raum#Hardy-R%C3%A4ume"
      ]
    },
    {
      "cell_type": "markdown",
      "metadata": {
        "id": "fEirVPzsA-6s"
      },
      "source": [
        "https://de.m.wikipedia.org/wiki/Hardy-Raum"
      ]
    },
    {
      "cell_type": "markdown",
      "metadata": {
        "id": "1CgxDns4AhA3"
      },
      "source": [
        "**Sobolev-Raum**"
      ]
    },
    {
      "cell_type": "markdown",
      "metadata": {
        "id": "Hhk0w7hOAhBK"
      },
      "source": [
        "* A Sobolev space is a vector space of functions equipped with a norm that is a combination of Lp-norms of the function together with its derivatives up to a given order. The derivatives are understood in a suitable weak sense to make the space complete, i.e. a Banach space. \n",
        "\n",
        "* **Intuitively, a Sobolev space is a space of functions**\n",
        "\n",
        "  * **possessing sufficiently many derivatives** for some application domain, such as partial differential equations, \n",
        "\n",
        "  * and **equipped with a norm** that measures both the size and regularity of a function.\n",
        "\n",
        "* Their importance comes from the fact that **weak solutions of some important partial differential equations exist in appropriate Sobolev spaces**, even when there are no strong solutions in spaces of continuous functions with the derivatives understood in the classical sense.\n",
        "\n",
        "* Ein [Sobolev-Raum](https://de.wikipedia.org/wiki/Sobolev-Raum), ist ein **Funktionenraum** von schwach differenzierbaren Funktionen, der **zugleich ein Banachraum ist.** \n",
        "\n",
        "* Sobolevräume sind ein grundlegendes Werkzeug bei der Behandlung von Partial Differential Equatoons (rein und angewandt).\n",
        "\n",
        "* Das Konzept wurde durch die systematische Theorie der Variationsrechnung zu Anfang des 20. Jahrhunderts wesentlich vorangetrieben. **Diese minimiert Funktionale über Funktionen.** Heute bilden Sobolev-Räume die Grundlage der Lösungstheorie partieller Differentialgleichungen.\n",
        "\n",
        "* Partielle Differentialgleichungen betrachtet man meistens auf Sobolew-Räumen. In diesen Räumen werden Funktionen, die bis auf Nullmengen übereinstimmen, als gleich angesehen. Da der Rand eines Gebietes üblicherweise eine Nullmenge ist, ist der Begriff der Randbedingung problematisch. Lösungen für dieses Problem sind sobolewsche Einbettungssätze oder – allgemeiner – [**Spuroperatoren**](https://de.wikipedia.org/wiki/Sobolev-Raum#Spuroperator).\n",
        "\n",
        "Der Sobolev-Raum ist der Raum derjenigen reellwertigen Funktionen $u \\in L^{p}(\\Omega),$ deren gemischte partielle schwache Ableitungen bis zur Ordnung $k$ im Lebesgue-Raum $L^{p}(\\Omega)$ liegen."
      ]
    },
    {
      "cell_type": "markdown",
      "metadata": {
        "id": "JKfWc-JbScsh"
      },
      "source": [
        "https://www.wias-berlin.de/people/john/LEHRE/TH_NUM_PDE/th_num_pde_04.pdf"
      ]
    },
    {
      "cell_type": "markdown",
      "metadata": {
        "id": "4SpYIJ602L38"
      },
      "source": [
        "###### **Metric Space**"
      ]
    },
    {
      "cell_type": "markdown",
      "metadata": {
        "id": "CaYHl5ak9Xwt"
      },
      "source": [
        "**Metric**"
      ]
    },
    {
      "cell_type": "markdown",
      "metadata": {
        "id": "_gcLfqnPX33L"
      },
      "source": [
        "> **Eine Metrik definiert Abstände zwischen Elementen des Vektorraumes.**\n",
        "\n",
        "Eine Metrik (auch Abstandsfunktion) ist eine Funktion, die je zwei Elementen des Raums einen nicht negativen reellen Wert zuordnet, der als Abstand der beiden Elemente voneinander aufgefasst werden kann. \n",
        "\n",
        "Sei M eine Menge. **<u>Eine Metrik ist eine Abbildung</u>** d: $M \\times M \\rightarrow \\mathbb{R}$ auf $M \\times M$ wenn folgende drei Axiome erfüllt sind:\n",
        "\n",
        "1. Beide zusammen bilde Positive Definitheit (**positive definiteness**):\n",
        "  * $d(x, y) \\geq 0$ (**non-negativity**) sowie \n",
        "  * $d(x, y)=0$ if and only if $x=y$ (Gleichheit gilt genau dann, wenn $x=y$, **identity of indiscernibles**) für alle $x, y \\in M$.  \n",
        "\n",
        "2. $d(x, y)=d(y, x)$ (**symmetry**) Symmetrie\n",
        "$d(x, y)=d(y, x) \\forall x, y \\in M$\n",
        "\n",
        "4. $d(x, z) \\leq d(x, y)+d(y, z)$ (**Dreiecksungleichung / subadditivity / triangle inequality**) $\\forall x, y, z \\in M$\n",
        "\n",
        "**Metriken geben einem Raum eine globale und eine lokale mathematische Struktur**:\n",
        "  * Die globale Struktur kommt in **geometrischen Eigenschaften wie der Kongruenz** von Figuren zum Ausdruck. \n",
        "  * Die lokale metrische Struktur, also die Definition kleiner Abstände, ermöglicht unter bestimmten zusätzlichen Voraussetzungen die Einführung von **Differentialoperationen**.\n"
      ]
    },
    {
      "cell_type": "markdown",
      "metadata": {
        "id": "t68wtvnCLgEA"
      },
      "source": [
        "**Begriffsabgrenzungen**\n",
        "\n",
        "* **Divergence** fullfills property of positive definiteness (1 + 2)\n",
        "\n",
        "* **Distance** fullfills property of positive definiteness and symmetrie (1 + 2+ 3)\n",
        "\n",
        "* **Metric** fullfills property of positive definiteness, symmetrie and triangle inequality (1 + 2 + 3 + 4). Häufig wird auch eine Metrik als [Distanzfunktion](https://de.m.wikipedia.org/wiki/Distanzfunktion) bezeichnet.\n",
        "\n",
        "* **Metric Space**: Together with the set, a metric makes up a metric space."
      ]
    },
    {
      "cell_type": "markdown",
      "metadata": {
        "id": "5dbPC197ZG5V"
      },
      "source": [
        "* Metric -> measures distances\n",
        "* Norm -> measures distances, lengths\n",
        "* Inner product -> measures distances, lengths, angles"
      ]
    },
    {
      "cell_type": "markdown",
      "metadata": {
        "id": "SM6MMh6W_HBc"
      },
      "source": [
        "**Von Normen zu Metriken**\n",
        "\n",
        "> **A norm induces a (distance) metric by the formula d (x,y) = ‖ y-x ‖.**\n",
        "\n",
        "* Jede Norm auf einem Vektorraum induziert durch die Festlegung $d(x, y) \\equiv\\|x-y\\|$ eine Metrik. Somit ist jeder normierte Vektorraum (und erst recht jeder Innenproduktraum, Banachraum oder Hilbertraum) ein metrischer Raum.\n",
        "\n",
        "* **Aber Achtung**: nicht jede Metrik ist durch eine Norm induziert! Jede Norm induziert eine Metrik, aber nicht umgekehrt.\n",
        "\n",
        "* Difference Metric to Norm: **Instead of distance between points, a norm gives us the length of a vector, as measured from the origin.** "
      ]
    },
    {
      "cell_type": "markdown",
      "metadata": {
        "id": "8QdrlGVRmlmx"
      },
      "source": [
        "**Aus Normen erzeugte Metriken**\n",
        "\n",
        "* **Eine Metrik, die aus einer $p$ -Norm abgeleitet ist, heißt auch [Minkowski metrik / distance](https://en.m.wikipedia.org/wiki/Minkowski_distance) (L<sup>p</sup> Distances)**. It is a metric in a normed vector space. p need not be an integer, but it cannot be less than 1, because otherwise the triangle inequality does not hold (which is possible, but then it's not a metric anymore). Wichtige Spezialfälle sind:\n",
        "  * Manhattan-Metrik zu $p=1$, \n",
        "  * euklidische Metrik zu $p=2$\n",
        "    * In physical space the Euclidean distance is in a way the most natural one, because in this case the length of a rigid body does not change with rotation.) \n",
        "    * Im euklidische Raum mit seiner durch den Satz des Pythagoras gegebenen euklidischen Metrik (zur euklidischen Norm für $p=2$ ) $d(x, y)=\\sqrt{\\left(x_{1}-y_{1}\\right)^{2}+\\cdots+\\left(x_{n}-y_{n}\\right)^{2}}$\n",
        "  * Maximum-Metrik zu $p=\\infty$ (Chebyshev distance)\n",
        "\n",
        "* der eindimensionale Raum der reellen oder komplexen Zahlen mit dem absoluten Betrag als Norm (mit beliebigem $p$ ) und der dadurch gegebenen **Betragsmetrik** $d(x, y)=|x-y|$\n",
        "\n",
        "* Als eine [**Fréchet-Metrik**](https://de.m.wikipedia.org/wiki/Fréchet-Metrik) wird gelegentlich eine Metrik $d(x, y)=\\rho(x-y)$ bezeichnet, die von einer Funktion $\\rho$ induziert wird, welche die meisten Eigenschaften einer Norm besitzt, aber nicht homogen ist. **Sie stellt eine Verbindung zwischen Metrik und Norm her.**\n"
      ]
    },
    {
      "cell_type": "markdown",
      "metadata": {
        "id": "bUnISc3anLSR"
      },
      "source": [
        "**Nicht aus Normen erzeugte Metriken**\n",
        "\n",
        "* Auf jeder Menge lässt sich eine triviale Metrik, die sogenannte gleichmäßig diskrete Metrik (die sogar eine Ultrametrik ist) definieren: $d(x, y)=\\left\\{\\begin{array}{ll}0 & \\text { für } x=y \\\\ 1 & \\text { für } x \\neq y\\end{array}\\right.$\n",
        "\n",
        "* Im Allgemeinen **nicht durch eine Norm induziert ist die riemannsche Metrik**, die aus einer differenzierbaren Mannigfaltigkeit eine [riemannsche Mannigfaltigkeit](https://en.m.wikipedia.org/wiki/Riemannian_manifold) macht. (zB  Die kürzesten Strecken zwischen unterschiedlichen Punkten (die sogenannten Geodäten) sind nicht zwingend Geradenstücke, sondern können gekrümmte Kurven sein. Die Winkelsumme von Dreiecken kann, im Gegensatz zur Ebene, auch größer (z. B. Kugel) oder kleiner (hyperbolische Räume) als 180° sein.\n",
        "\n",
        "* Die [französische Eisenbahnmetrik](https://de.m.wikipedia.org/wiki/Französische_Eisenbahnmetrik). \n",
        "\n",
        "* Die [Hausdorff-Metrik](https://de.m.wikipedia.org/wiki/Hausdorff-Metrik) misst den **Abstand zwischen Teilmengen, nicht Elementen, eines metrischen Raums**; man könnte sie als Metrik zweiten Grades bezeichnen, denn sie greift auf eine Metrik ersten Grades zwischen den Elementen des metrischen Raums zurück.\n",
        "\n",
        "* Der [Hamming-Abstand](https://de.m.wikipedia.org/wiki/Hamming-Abstand) ist eine Metrik auf dem Coderaum, die die Unterschiedlichkeit von (gleich langen) Zeichenketten angibt. Die [Levenshetin Distance](https://de.m.wikipedia.org/wiki/Levenshtein-Distanz) kann als Erweiterung des Hamming-Abstands angesehen werden. Die Levenshtein-Distanz kann als Sonderform der [Dynamic Time Warpening](https://de.m.wikipedia.org/wiki/Dynamic-Time-Warping) (DTW) betrachtet werden. Siehe auch [Lee distance](https://en.m.wikipedia.org/wiki/Lee_distance), [Jaro–Winkler distance](https://en.m.wikipedia.org/wiki/Jaro–Winkler_distance) & [Edit Distance](https://en.m.wikipedia.org/wiki/Edit_distance).\n",
        "\n",
        "* Mehr Beispiele von nicht aus Normen erzeugten Metriken [hier](https://de.m.wikipedia.org/wiki/Metrischer_Raum#Nicht_durch_Normen_erzeugte_Metriken)\n"
      ]
    },
    {
      "cell_type": "markdown",
      "metadata": {
        "id": "dYAJd3-q_d8N"
      },
      "source": [
        "**Metric Space**"
      ]
    },
    {
      "cell_type": "markdown",
      "metadata": {
        "id": "M-8s7XOx_Mxn"
      },
      "source": [
        "Unter einem [metrischen Raum](https://de.m.wikipedia.org/wiki/Metrischer_Raum) (metric space) versteht man in der Mathematik eine Menge, auf der eine Metrik definiert ist. \n",
        "\n",
        "> **Das Paar $(M, d)$ nennt man einen <u>[metrischen Raum](https://de.m.wikipedia.org/wiki/Metrischer_Raum) (metric space)</u>**. \n",
        "\n",
        "Beispiel fur einen metrischen Raum: \n",
        "* Die Menge der reellen Zahlen $\\mathbb{R}$ mit der Abstandsmetrik $d(x, y):=|x-y|$ bilden einen metrischen Raum."
      ]
    },
    {
      "cell_type": "markdown",
      "metadata": {
        "id": "JM2w6L6-BCPu"
      },
      "source": [
        "**Isometrie**"
      ]
    },
    {
      "cell_type": "markdown",
      "metadata": {
        "id": "qEzdckJipzyi"
      },
      "source": [
        "*  In einem metrischen Raum (aber nicht direkt in einem topologischen Raum) sind beschränkte Mengen und Cauchy-Folgen definiert. \n",
        "\n",
        "* **Isomorphismen zwischen metrischen Räumen heißen Isometrien**. Ein metrischer Raum heißt vollständig, falls alle Cauchy-Folgen konvergieren. Jeder nicht vollständige Raum ist isometrisch in seine Vervollständigung eingebettet. Jeder kompakte metrische Raum ist vollständig; die reelle Zahlengerade ist nicht kompakt aber vollständig; das offene Intervall ( 0 , 1 ) (0,1) ist nicht vollständig.\n",
        "\n",
        "* Eine [Isometrie](https://de.m.wikipedia.org/wiki/Isometrie) ist eine Abbildung, die zwei metrische Räume aufeinander abbildet und dabei die Metrik – also die Abstände zwischen je zwei Punkten – erhält. ps: [Isometrische Isomorphie](https://de.m.wikipedia.org/wiki/Isometrische_Isomorphie) beschreibt in der Funktionalanalysis einen Zusammenhang zwischen zwei unterschiedlichen Räumen, die geometrisch identisch sind.\n",
        "\n",
        "* Sind zwei metrische Räume $\\left(M_{1}, d_{1}\\right),\\left(M_{2}, d_{2}\\right)$ gegeben, und ist $f: M_{1} \\rightarrow M_{2}$ eine Abbildung mit der Eigenschaft\n",
        "\n",
        "> $d_{2}(f(x), f(y))=d_{1}(x, y)$ für alle $x, y \\in M_{1}$\n",
        "\n",
        "* dann heißt $f$ Isometrie von $M_{1}$ nach $M_{2}$. Eine solche Abbildung ist stets injektiv. \n",
        "\n",
        "* Ist $f$ sogar bijektiv, dann heißt $f$ **isometrischer Isomorphismus**, und die Räume $M_{1}$ und $M_{2}$ heißen is isometrische Einbettung von $M_{1}$ in $M_{2}$"
      ]
    },
    {
      "cell_type": "markdown",
      "metadata": {
        "id": "CXylGv101ZwI"
      },
      "source": [
        "https://de.m.wikipedia.org/wiki/Metrisierbarer_Raum"
      ]
    },
    {
      "cell_type": "markdown",
      "metadata": {
        "id": "7NfzTtMmJl9E"
      },
      "source": [
        "https://en.m.wikipedia.org/wiki/Cauchy_space"
      ]
    },
    {
      "cell_type": "markdown",
      "metadata": {
        "id": "n7d7_An6wMZW"
      },
      "source": [
        "https://en.m.wikipedia.org/wiki/Continuous_function#Continuous_functions_between_metric_spaces"
      ]
    },
    {
      "cell_type": "markdown",
      "metadata": {
        "id": "9A0RiFz6sHZ-"
      },
      "source": [
        "https://en.m.wikipedia.org/wiki/Distance#General_metric"
      ]
    },
    {
      "cell_type": "markdown",
      "metadata": {
        "id": "Zgefp2KSyCZ7"
      },
      "source": [
        "**Vollständiger Raum**"
      ]
    },
    {
      "cell_type": "markdown",
      "metadata": {
        "id": "SGKmJwx6yQHr"
      },
      "source": [
        "* Ein vollständiger Raum ist in der Analysis ein metrischer Raum, in dem jede Cauchy-Folge von Elementen des Raums konvergiert. Zum Beispiel ist der Raum der rationalen Zahlen mit der Betragsmetrik nicht vollständig, weil etwa die Zahl $\\sqrt{2}$ nicht rational ist, es jedoch Cauchy-Folgen rationaler Zahlen gibt, die bei Einbettung der rationalen Zahlen in die reellen Zahlen gegen $\\sqrt{2}$ und somit gegen keine rationale Zahl konvergieren. Es ist aber stets möglich, die Löcher auszufüllen, also einen unvollständigen metrischen Raum zu vervollständigen. Im Fall der rationalen Zahlen erhält man dadurch den Raum der reellen Zahlen."
      ]
    },
    {
      "cell_type": "markdown",
      "metadata": {
        "id": "CPBafU8zyD7m"
      },
      "source": [
        "https://de.wikipedia.org/wiki/Vollständiger_Raum"
      ]
    },
    {
      "cell_type": "markdown",
      "metadata": {
        "id": "F1l9_Erf5T5S"
      },
      "source": [
        "###### **Topological Space**"
      ]
    },
    {
      "cell_type": "markdown",
      "metadata": {
        "id": "QL5kqJ34HhRF"
      },
      "source": [
        "**Topology**"
      ]
    },
    {
      "cell_type": "markdown",
      "metadata": {
        "id": "zCU-DP5e7sX7"
      },
      "source": [
        "Sei $X$ eine Menge und $T \\subset (M)$ ein System von Teilmengen von M. Eine Topologie ist ein Mengensystem $T$ bestehend aus Teilmengen einer Grundmenge $X$, die offen oder offene Mengen genannt werden, und die die folgenden Axiome erfüllen:\n",
        "\n",
        "1. **Die leere Menge und die Grundmenge X sind offen**: $\\varnothing, M \\in T$ (Die leere Menge und Menge selbst gehören zur Topologie)\n",
        "2. **Der Durchschnitt endlich vieler offener Mengen ist offen**. (Es genügt zu fordern, dass der Durchschnitt von zwei offenen Mengen offen ist): $\\Omega_{1}, \\Omega_{2} \\in T \\Rightarrow \\Omega_{1} \\cap \\Omega_{2} \\in T$. D. h. wenn zwei Mengen zur Topologie gehören, dann auch deren Durchschnitt.\n",
        "3. **Die Vereinigung beliebig vieler offener Mengen ist offen**: Ist $I$ eine beliebige Indexmenge und sind $\\left(\\Omega_{i}\\right)_{i \\in I}$ Elemente von $T$ ,\n",
        "dann ist auch $\\bigcup_{i \\in \\mathrm{I}} \\Omega_{i} \\in T$ (Das bedeutet nichts anderes als dass die Vereinigung von beliebig vielen offenen Mengen wieder offen ist.)"
      ]
    },
    {
      "cell_type": "markdown",
      "metadata": {
        "id": "MKXq8hPxEjay"
      },
      "source": [
        "**From Metric to Topology**\n",
        "\n",
        "* A metric on a space induces topological properties like open and closed sets, which lead to the study of more abstract topological spaces. \n",
        "\n",
        "* In einem metrischen Raum werden Abstände zwischen Punkten definiert. Jeder metrische Raum ist auch ein topologischer Raum.\n",
        "\n",
        "* Der Begriff „topologischer Raum“ verallgemeinert den Begriff „metrischer Raum“: Jeder metrische Raum ist ein topologischer Raum mit der Topologie, die durch die Metrik induziert wird (siehe dazu [Umgebung](https://de.m.wikipedia.org/wiki/Umgebung_(Mathematik))). Jeder metrische Raum ist ein [Hausdorff-Raum](https://de.m.wikipedia.org/wiki/Hausdorff-Raum).\n"
      ]
    },
    {
      "cell_type": "markdown",
      "metadata": {
        "id": "gwzpcqG1Hem0"
      },
      "source": [
        "**Topological Space**"
      ]
    },
    {
      "cell_type": "markdown",
      "metadata": {
        "id": "UxqaDubTHd-o"
      },
      "source": [
        "**Man nennt $T$ eine Topologie auf $X$, und das Paar ($X$,$T$) einen topologischen Raum.**"
      ]
    },
    {
      "cell_type": "markdown",
      "metadata": {
        "id": "ixMvjCdbLiBj"
      },
      "source": [
        "* a topological space ([Topologischer Raum](https://de.m.wikipedia.org/wiki/Topologischer_Raum)) may be defined as a set of points, along with a set of **neighbourhoods** for each point, satisfying a set of **axioms** relating points and neighbourhoods.\n",
        "\n",
        "* The definition of a topological space **relies only upon set theory** and is the most general notion of a mathematical space that allows for the definition of concepts such as **[continuity](https://en.m.wikipedia.org/wiki/Continuous_function#Continuous_functions_between_topological_spaces), [connectedness](https://en.m.wikipedia.org/wiki/Connected_space), and [convergence](https://en.m.wikipedia.org/wiki/Limit_of_a_sequence)**.\n",
        "\n",
        "* **Other spaces, such as manifolds and metric spaces, are specializations of topological spaces with extra structures or constraints.**\n",
        "\n",
        "* Topological spaces are **studied in Point-Set Topology** (General Topology)\n",
        "\n",
        "* ein topologischer Raum ist ein elementarer Gegenstand der Topologie\n",
        "\n",
        "* Durch die Einführung einer topologischen Struktur auf einer Menge lassen sich intuitive Lagebeziehungen wie **„Nähe“ und „Streben gegen“** aus dem [Anschauungsraum (Euklidischer Raum)](https://de.m.wikipedia.org/wiki/Euklidischer_Raum) auf sehr viele und sehr allgemeine Strukturen übertragen und mit präziser Bedeutung versehen."
      ]
    },
    {
      "cell_type": "markdown",
      "metadata": {
        "id": "mMhlhwMT6hcE"
      },
      "source": [
        "**Beispiele:**\n",
        "\n",
        "* Das einfachste Beispiel eines topologischen Raumes ist die Menge der reellen Zahlen. Dabei ist die Topologie, also das System der offenen Teilmengen so erklärt, dass wir eine Menge $\\Omega$ C $\\mathbb{R}$ offen nennen, wenn sie sich als Vereinigung von offenen Intervallen darstellen lässt."
      ]
    },
    {
      "cell_type": "markdown",
      "metadata": {
        "id": "AIZH5E3tBjS8"
      },
      "source": [
        "**Separation Axioms**: Topologische Räume können [klassifiziert werden nach Kolmogorov](https://en.m.wikipedia.org/wiki/History_of_the_separation_axioms)."
      ]
    },
    {
      "cell_type": "markdown",
      "metadata": {
        "id": "uzQUU6SKBjYm"
      },
      "source": [
        "**Topological Vector Space**"
      ]
    },
    {
      "cell_type": "markdown",
      "metadata": {
        "id": "6tNzMCPIBjYm"
      },
      "source": [
        "Ein **[topologischer Vektorraum](https://de.m.wikipedia.org/wiki/Topologischer_Vektorraum)** / [Topological Vector Space](https://en.m.wikipedia.org/wiki/Topological_vector_space) ist ein Vektorraum, auf dem neben seiner algebraischen auch noch eine damit verträgliche topologische Struktur definiert ist.\n",
        "\n",
        "Sei $\\mathbb{K} \\in\\{\\mathbb{R}, \\mathbb{C}\\}$. Ein $\\mathbb{K}$ -Vektorraum $E$, der zugleich topologischer Raum ist, heißt topologischer Vektorraum, wenn folgende Verträglichkeitsaxiome gelten:\n",
        "* Die Vektoraddition $E \\times E \\rightarrow E$ ist stetig,\n",
        "* Die Skalarmultiplikation $\\mathbb{K} \\times E \\rightarrow E$ ist stetig.\n"
      ]
    },
    {
      "cell_type": "markdown",
      "metadata": {
        "id": "unylnM42C38i"
      },
      "source": [
        "**Lokalkonvexer Raum**"
      ]
    },
    {
      "cell_type": "markdown",
      "metadata": {
        "id": "ABebGw_-C380"
      },
      "source": [
        "* genauer: lokalkonvexe topologische Vektorräume\n",
        "\n",
        "* in der Funktionalanalysis untersuchte topologische Vektorräume mit zusätzlichen Eigenschaften. \n",
        "\n",
        "* Es handelt sich dabei **um topologische Vektorräume, in denen jeder Punkt über „beliebig kleine“ [konvexe](https://de.wikipedia.org/wiki/Konvexe_Menge) Umgebungen verfügt**. \n",
        "\n",
        "  * konvex heisst eine Teilmenge eines euklidischen Raums konvex, wenn für je zwei beliebige Punkte, die zur Menge gehören, auch stets deren Verbindungsstrecke ganz in der Menge liegt. Dies garantiert, dass die Menge an keiner Stelle eine (konkave) Einbuchtung hat.\n",
        "\n",
        "  * Beispiele: Jeder Vektorraum, der $\\mathbb {R}$  enthält, ist konvex, ebenso Halbebenen und Halbräume. Strecken und Geraden sind konvexe Mengen. Jede Dreiecksfläche ist konvex. Kreisscheiben und Kugeln sind konvex, sogar streng konvex. Die für die Theorie der normierten Räume wichtigste konvexe Menge ist die Einheitskugel.\n",
        "\n",
        "* Alternativ können lokalkonvexe Räume auch als Vektorräume definiert werden, deren Topologie durch eine Familie von Halbnormen erzeugt wird.\n",
        "\n",
        "* Ein lokalkonvexer Raum kann als eine **Verallgemeinerung eines normierten Vektorraumes** bzw. eines normierbaren Vektorraumes betrachtet werden, denn die Normkugeln um 0 sind konvexe Umgebungen des Nullpunktes.\n",
        "\n",
        "Ein topologischer Vektorraum $V$ (über dem Körper $\\mathbb {R}$ der reellen Zahlen oder dem Körper $\\mathbb {C}$ der komplexen Zahlen) heißt lokalkonvex, wenn jede Nullumgebung U (d. h. Umgebung des Nullpunktes) eine offene Teilmenge T mit den folgenden drei Eigenschaften enthält:\n",
        "\n",
        "1. **T ist konvex**.\n",
        "2. **T ist absorbierend** \n",
        "  * Eine Teilmenge $T$ eines reellen oder komplexen Vektorraumes $V$ heißt dabei absorbierend, wenn es zu jedem Vektor $x$ in $V$ eine positive Zahl $r$ gibt, so dass $\\alpha x$ für jede reelle bzw. komplexe Zahl $\\alpha$ mit |$\\alpha$| < r ein Element von $T$ ist.\n",
        "  * Eine absorbierende Menge bezeichnet eine Teilmenge eines Vektorraumes, die anschaulich so mit Skalaren vergrößert werden kann, dass irgendwann jeder Punkt in ihr enthalten ist und dieser bei weiterer Vergrößerung die Menge auch nicht mehr verlässt.\n",
        "  * Die Menge $T$ wird also durch $\\alpha$ so vergrößert, bis sie jedes Element des Vektorraumes absorbiert.\n",
        "\n",
        "3. **T ist ausgewogen**. \n",
        "  * Eine ausgewogene Menge bezeichnet in der Funktionalanalysis eine Teilmenge eines Vektorraumes, die sich dadurch auszeichnet, dass zu jedem Element der Menge auch das negative dieses Elementes in der Menge enthalten ist und die gesamte Verbindungsstrecke zwischen diesen beiden Elementen.\n",
        "  * Eine Teilmenge $T$ eines reellen oder komplexen Vektorraumes $V$ heißt ausgewogen, wenn zu jedem Vektor $x$ in $T$ und jeder Zahl $r$ mit $|r| \\leq 1$ der Vektor $r x$ ebenfalls in $T$ liegt. Im Fall eines reellen Vektorraums bedeutet dies, dass die Strecke von $-x$ nach $x$ in $T$ liegt; bei einem komplexen Vektorraum bedeutet es, dass $T$ die $_{n}$ Kreisscheibe\" $\\{r x|r \\in \\mathbb{C},| r \\mid \\leq 1\\}$ enthält. Aufgrund dieser geometrischen Bedeutung werden solche Mengen manchmal auch kreisförmig genannt.\n",
        "\n",
        "**Beispiele**\n",
        "\n",
        "* Alle normierten Räume (insb. alle Banachräume) sind lokalkonvex, wobei die Familie $\\mathcal{P}$ nur die (echte) Norm enthält.\n",
        "\n",
        "* Alle topologischen Vektorräume mit der schwachen Topologie.\n",
        "\n",
        "https://de.wikipedia.org/wiki/Lokalkonvexer_Raum\n",
        "\n",
        "https://matheplanet.com/default3.html?call=article.php?sid=1159&ref=https%3A%2F%2Fwww.google.com%2F\n",
        "\n",
        "https://en.m.wikipedia.org/wiki/Locally_convex_topological_vector_space\n",
        "\n",
        "https://en.m.wikipedia.org/wiki/Geometric_measure_theory"
      ]
    },
    {
      "cell_type": "markdown",
      "metadata": {
        "id": "ClDwJhNSBr-q"
      },
      "source": [
        "**Frechet-Räume**"
      ]
    },
    {
      "cell_type": "markdown",
      "metadata": {
        "id": "7Mx_opXBBr-r"
      },
      "source": [
        "* [Fréchet-Spaces](https://de.m.wikipedia.org/wiki/Fréchet-Raum) sind Verallgemeinerungen des Banachraums und topologische Vektorraum mit speziellen Eigenschaften. Die Hauptvertreter von Fréchet-Räumen sind Vektorräume von glatten Funktionen. Diese Räume lassen sich zwar mit verschiedenen Normen ausstatten, **sind aber bezüglich keiner Norm vollständig**, also keine Banachräume. Man kann auf ihnen aber eine Topologie definieren, sodass viele Sätze, die in Banachräumen gelten, ihre Gültigkeit behalten.\n",
        "\n",
        "* Es handelt sich um einen **topologischen Vektorraum** mit speziellen Eigenschaften, die ihn als **Verallgemeinerung des Banachraums** charakterisieren.\n",
        "\n",
        "* Die Hauptvertreter von [Fréchet-Spaces](https://de.m.wikipedia.org/wiki/Fréchet-Raum) sind Vektorräume von [glatten Funktionen](https://de.wikipedia.org/wiki/Glatte_Funktion). \n",
        "  * Eine glatte Funktion ist eine mathematische Funktion, die unendlich oft differenzierbar (insbesondere stetig) ist.\n",
        "\n",
        "* Diese Räume lassen sich zwar mit verschiedenen Normen ausstatten, **sind aber bezüglich keiner Norm vollständig**, also keine Banachräume. Man kann auf ihnen aber eine Topologie definieren, sodass viele Sätze, die in Banachräumen gelten, ihre Gültigkeit behalten."
      ]
    },
    {
      "cell_type": "markdown",
      "metadata": {
        "id": "o5kKGVY_B0Ls"
      },
      "source": [
        "**Uniform Spaces**"
      ]
    },
    {
      "cell_type": "markdown",
      "metadata": {
        "id": "dUGnGb0RB0L-"
      },
      "source": [
        "* **Uniforme Räume erlauben es zwar nicht Abstände einzuführen**, aber trotzdem Begriffe wie gleichmäßige Stetigkeit, Cauchy-Folgen, Vollständigkeit und Vervollständigung zu definieren. Jeder uniforme Raum ist auch ein topologischer Raum. \n",
        "\n",
        "* **Jeder topologische Vektorraum (egal ob metrisierbar oder nicht) ist auch ein uniformer Raum**. Allgemeiner ist jede kommutative topologische Gruppe ein uniformer Raum. Eine nichtkommutative topologische Gruppe trägt jedoch zwei uniforme Strukturen, eine links-invariante und eine rechts-invariante. Topologische Vektorräume sind in endlichen Dimensionen vollständig, in unendlichen Dimensionen im Allgemeinen aber nicht.\n",
        "\n",
        "https://de.m.wikipedia.org/wiki/Uniformer_Raum"
      ]
    },
    {
      "cell_type": "markdown",
      "metadata": {
        "id": "Tg7TfvlQN8-t"
      },
      "source": [
        "###### **Normen auf Vektorräumen**"
      ]
    },
    {
      "cell_type": "markdown",
      "metadata": {
        "id": "4BYu8q7lJTFQ"
      },
      "source": [
        "**Normen auf endlichdimensionalen Vektorräumen**"
      ]
    },
    {
      "cell_type": "markdown",
      "metadata": {
        "id": "wci0t1WeJTFf"
      },
      "source": [
        "**Spezialfall p1-Norm (Summennorm / Lasso)**"
      ]
    },
    {
      "cell_type": "markdown",
      "metadata": {
        "id": "QWpYJOL2JTFg"
      },
      "source": [
        "* Summennorm, Betragssummennorm oder 1-Norm ist in der Mathematik eine **Vektornorm**. Sie ist definiert als die Summe der Beträge der Vektorkomponenten und ist eine spezielle p-Norm für die Wahl von p=1.\n",
        "\n",
        "* **Die Summennorm benutzt man zB wenn man nicht jeden Weg im Raum gehen kann**, also zB Taxis in Manhattan koennen sich nur in senkrechten und waagerechten Abschnitten bewegen (daher auch Manhattan-Metrik oder Taxi-Metrik, da sie den Abstand zweier Punkte wie die Fahrtstrecke auf einem gitterförmigen Stadtplan misst).\n",
        "\n",
        "* Die Einheitssphäre der reellen Summennorm ist ein Kreuzpolytop mit minimalem Volumen über alle p-Normen. **Daher ergibt die Summennorm für einen gegebenen Vektor den größten Wert aller p-Normen**. (zB 3 + (-2) + 6 = 11 in Summennorm, aber = 7 in euklidischer Norm fur p=2)\n",
        "\n",
        "* Die von der Summennorm abgeleitete Metrik ist die Manhattan-Metrik / Taxi Metrik (also die Distance zwischen zwei Punkten)\n",
        "\n",
        "* Die Summennorm ist im Gegensatz zur euklidischen Norm (2-Norm) **nicht von einem Skalarprodukt induziert.**\n",
        "\n",
        "* Die von der Summennorm [induzierte Matrixnorm](https://de.m.wikipedia.org/wiki/Natürliche_Matrixnorm) ist die [Spaltensummennorm](https://de.m.wikipedia.org/wiki/Spaltensummennorm).\n",
        "\n",
        "* Techniques which use an L1 penalty, like LASSO, encourage solutions where many parameters are zero. \n",
        "\n",
        "* The Manhattan norm gives rise to the Manhattan distance, where the distance between any two points, or vectors, is the sum of the differences between corresponding coordinates.\n",
        "\n",
        "* https://en.m.wikipedia.org/wiki/Taxicab_geometry\n",
        "\n",
        "* https://en.m.wikipedia.org/wiki/Lasso_(statistics)"
      ]
    },
    {
      "cell_type": "markdown",
      "metadata": {
        "id": "acxHwJYBJTFg"
      },
      "source": [
        "![alternativer Text](https://upload.wikimedia.org/wikipedia/commons/thumb/d/d9/Euclid_Octahedron_3.svg/240px-Euclid_Octahedron_3.svg.png)"
      ]
    },
    {
      "cell_type": "markdown",
      "metadata": {
        "id": "C6yzL3CXJTFh"
      },
      "source": [
        "*Kreuzpolytop: Der Einheitssphäre der Summennorm ist in drei Dimensionen ein Oktaeder*"
      ]
    },
    {
      "cell_type": "markdown",
      "metadata": {
        "id": "oo5Krza_JTFh"
      },
      "source": [
        "**Beispiel (reeller Vektor):**\n",
        "\n",
        "Die Summennorm des reellen Vektors $x=(3,-2,6) \\in \\mathbb{R}^{3}$ ist gegeben als\n",
        "\n",
        "$\\|x\\|_{1}=|3|+|-2|+|6|=11$"
      ]
    },
    {
      "cell_type": "markdown",
      "metadata": {
        "id": "XM9AjsGfJTFh"
      },
      "source": [
        "https://de.m.wikipedia.org/wiki/Summennorm"
      ]
    },
    {
      "cell_type": "markdown",
      "metadata": {
        "id": "P3Hm5w4MJTFh"
      },
      "source": [
        "**Spezialfall p2-Norm (Euklidische Norm / Ridge)**"
      ]
    },
    {
      "cell_type": "markdown",
      "metadata": {
        "id": "pQsNOKBhJTFh"
      },
      "source": [
        "* Die euklidische Norm, Standardnorm oder 2-Norm ist eine in der Mathematik häufig verwendete Vektornorm. \n",
        "\n",
        "* Im zwei- und dreidimensionalen euklidischen Raum **entspricht die euklidische Norm der anschaulichen Länge (oder dem Betrag) eines Vektors** und kann mit dem Satz des Pythagoras berechnet werden. \n",
        "\n",
        "* Die euklidische Norm ist eine **von einem Skalarprodukt induzierte Norm** (im Ggs zur p1-Norm). Siehe: https://de.m.wikipedia.org/wiki/Skalarproduktnorm (In einem endlichdimensionalen reellen oder komplexen Vektorraum mit dem Standardskalarprodukt entspricht die Skalarproduktnorm gerade der euklidischen Norm.)\n",
        "\n",
        "* Techniques which use an L2 penalty, like ridge regression, encourage solutions where most parameter values are small.\n",
        "\n",
        "* Exkurs: [Elastic Net](https://en.m.wikipedia.org/wiki/Elastic_net_regularization) regularization uses a penalty term that is a combination of the L1 norm and the L2 norm of the parameter vector.\n",
        "\n",
        "* The length of a vector x = (x1, x2, ..., xn) in the n-dimensional real vector space Rn is usually given by the **Euclidean norm**:\n",
        "\n",
        "> $\\|x\\|_{2}=\\left(x_{1}^{2}+x_{2}^{2}+\\cdots+x_{n}^{2}\\right)^{1 / 2}$"
      ]
    },
    {
      "cell_type": "markdown",
      "metadata": {
        "id": "X4iaApIqJTFi"
      },
      "source": [
        "Die Euclidean Norm besitzt als eine von einem Skalarprodukt [induzierte Norm](https://de.m.wikipedia.org/wiki/Skalarproduktnorm) **neben den [drei Normaxiomen](https://de.m.wikipedia.org/wiki/Norm_(Mathematik)#Definition) eine Reihe weiterer Eigenschaften**:\n",
        "\n",
        "* die Gültigkeit der [Cauchy-Schwarz-Ungleichung](https://de.m.wikipedia.org/wiki/Cauchy-Schwarzsche_Ungleichung)\n",
        "* der [Parallelogrammgleichung](https://de.m.wikipedia.org/wiki/Parallelogrammgleichung)\n",
        "* sowie eine Invarianz unter unitären Transformationen (Die euklidische Norm ändert sich also unter unitären Transformationen nicht. Für reelle Vektoren sind solche Transformationen beispielsweise Drehungen des Vektors um den Nullpunkt. Diese Eigenschaft wird zum Beispiel bei der numerischen Lösung linearer Ausgleichsprobleme über die **Methode der kleinsten Quadrate mittels QR-Zerlegungen genutzt**.)\n",
        "\n",
        "Für orthogonale Vektoren erfüllt die euklidische Norm selbst eine allgemeinere Form des Satzes des Pythagoras."
      ]
    },
    {
      "cell_type": "markdown",
      "metadata": {
        "id": "rNRashjyJTFi"
      },
      "source": [
        "* Von der euklidischen Norm werden Begriffe wie der euklidische Abstand und die euklidische Topologie abgeleitet. \n",
        "\n",
        "* Sie **kann auf unendlichdimensionale Vektorräume verallgemeinert werden**, beispielsweise auf **Folgenräume durch die ℓ2-Norm** und auf **Funktionenräume durch die [L2-Norm](https://de.m.wikipedia.org/wiki/Lp-Raum#Der_Hilbertraum_L2) (Hilbertraum L2)**.\n",
        "\n",
        "* Sieht man eine Matrix mit reellen oder komplexen Einträgen als entsprechend langen Vektor an, so kann die euklidische Norm auch für Matrizen definiert werden und heißt dann [**Frobeniusnorm**](https://de.m.wikipedia.org/wiki/Frobeniusnorm). Die euklidische Norm kann auch auf unendlichdimensionale Vektorräume über den reellen oder komplexen Zahlen verallgemeinert werden und hat dann zum Teil eigene Namen."
      ]
    },
    {
      "cell_type": "markdown",
      "metadata": {
        "id": "hQwLAxjhJTFi"
      },
      "source": [
        "https://de.m.wikipedia.org/wiki/Euklidische_Norm"
      ]
    },
    {
      "cell_type": "markdown",
      "metadata": {
        "id": "UF5c_mEQJTFj"
      },
      "source": [
        "See also: https://en.m.wikipedia.org/wiki/Non-Euclidean_geometry"
      ]
    },
    {
      "cell_type": "markdown",
      "metadata": {
        "id": "m_F_WvyUJTFj"
      },
      "source": [
        "**Spezialfall p∞-Norm (Maximumsnorm bzw. Unendlich-Norm)**"
      ]
    },
    {
      "cell_type": "markdown",
      "metadata": {
        "id": "DSyPKySYJTFj"
      },
      "source": [
        "* Die Maximumsnorm, Maximumnorm oder Tschebyschew-Norm ist eine spezielle Norm für Funktionen beziehungsweise für Vektoren oder Matrizen. Sie ist ein Spezialfall der [Supremumsnorm](https://de.m.wikipedia.org/wiki/Supremumsnorm).\n",
        "\n",
        "* Anschaulich gesprochen ist **der aus der Maximumsnorm abgeleitete Abstand immer dann relevant, wenn man sich in einem mehrdimensionalen Raum in alle Dimensionen gleichzeitig und unabhängig voneinander gleich schnell bewegen kann**. (zB Rochade beim Schach)\n",
        "\n",
        "* Allgemeiner kann die Maximumsnorm benutzt werden, um zu bestimmen, wie schnell man sich in einem zwei- oder dreidimensionalen Raum bewegen kann, wenn angenommen wird, dass die Bewegungen in x-, y- (und z-)Richtung unabhängig, gleichzeitig und mit gleicher Geschwindigkeit erfolgen.\n",
        "\n",
        "\n",
        "* Noch allgemeiner kann man ein System betrachten, dessen Zustand durch n unabhängige Parameter bestimmt wird. An allen Parametern können gleichzeitig und ohne gegenseitige Beeinflussung Änderungen vorgenommen werden. **Dann „misst“ die Maximumsnorm in Rn die Zeit, die man benötigt, um das System von einem Zustand in einen anderen zu überführen**. Voraussetzung hierfür ist allerdings, dass man die Parameter so normiert hat, dass gleiche Abstände zwischen den Werten auch gleichen Änderungszeiten entsprechen. Andernfalls müsste man eine gewichtete Version der Maximumsnorm verwenden, die die unterschiedlichen Änderungsgeschwindigkeiten der Parameter berücksichtigt.\n"
      ]
    },
    {
      "cell_type": "markdown",
      "metadata": {
        "id": "WHivS3xWJTFj"
      },
      "source": [
        "Für einen Vektor $x=\\left(x_{1}, \\ldots, x_{n}\\right) \\in \\mathbb{R}^{n}$ nennt man\n",
        "\n",
        "> $\\|x\\|_{\\max }:=\\max \\left(\\left|x_{1}\\right|, \\ldots,\\left|x_{n}\\right|\\right)$ \n",
        "\n",
        "die Maximumsnorm von x. \n",
        "\n",
        "* Die **Maximumsnorm kann auch als Grenzfall der $p$ -Normen** $\\|x\\|_{p}:=\\left(\\sum_{i=1}^{n}\\left|x_{i}\\right|^{p}\\right)^{1 / p}$ aufgefasst werden. Lässt man $p$ gegen unendlich laufen, so erhält man\n",
        "aus der $p$ -Norm die Maximumsnorm.\n",
        "\n",
        "* **Aus diesem Grund wird die Maximumsnorm für Vektoren auch als $\\infty$ -Norm (Unendlich-Norm) bezeichnet.**"
      ]
    },
    {
      "cell_type": "markdown",
      "metadata": {
        "id": "xirVrWDQJTFk"
      },
      "source": [
        "Für den Grenzwert p→ ∞ erhält man die ∞-Norm (Unendlich-Norm), die oft auch zu den p-Normen gezählt wird. Sie wird auch **Maximumsnorm oder Tschebyschow-Norm** genannt und ist definiert durch"
      ]
    },
    {
      "cell_type": "markdown",
      "metadata": {
        "id": "aCPVuwZfJTFk"
      },
      "source": [
        "> $\\|x\\|_{\\infty}=\\max _{i=1, \\ldots, n}\\left|x_{i}\\right|$"
      ]
    },
    {
      "cell_type": "markdown",
      "metadata": {
        "id": "Cpb_QjGzJTFk"
      },
      "source": [
        "Dass die Maximumsnorm tatsächlich als Grenzwert der $p$ -Normen für $p \\rightarrow \\infty$ entsteht, folgt für $x \\neq 0$\n",
        "aus\n",
        "\n",
        "> $\\lim _{p \\rightarrow \\infty}\\|x\\|_{p}=\\lim _{p \\rightarrow \\infty}\\left(\\sum_{i=1}^{n}\\left|x_{i}\\right|^{p}\\right)^{1 / p}=\\|x\\|_{\\infty} \\cdot \\lim _{p \\rightarrow \\infty}\\left(\\sum_{i=1}^{n}\\left(\\frac{\\left|x_{i}\\right|}{\\|x\\|_{\\infty}}\\right)^{p}\\right)^{1 / p}=\\|x\\|_{\\infty} \\cdot \\lim _{p \\rightarrow \\infty} S^{1 / p}=\\|x\\|_{\\infty}$"
      ]
    },
    {
      "cell_type": "markdown",
      "metadata": {
        "id": "h4nHn2PCJTFk"
      },
      "source": [
        "* For a real number p ≥ 1, the p-norm or Lp-norm of x is defined by\n",
        "\n",
        "> $\\|x\\|_{p}=\\left(\\left|x_{1}\\right|^{p}+\\left|x_{2}\\right|^{p}+\\cdots+\\left|x_{n}\\right|^{p}\\right)^{1 / p}$\n",
        "\n",
        "* The absolute value bars are unnecessary when p is a rational number and, in reduced form, has an even numerator.\n",
        "\n",
        "* The L∞-norm or maximum norm (or uniform norm) is the limit of the Lp-norms for p → ∞. It turns out that this limit is equivalent to the following definition:\n",
        "\n",
        "> $\\|x\\|_{\\infty}=\\max \\left\\{\\left|x_{1}\\right|,\\left|x_{2}\\right|, \\ldots,\\left|x_{n}\\right|\\right\\}$"
      ]
    },
    {
      "cell_type": "markdown",
      "metadata": {
        "id": "09NVokpiJTFk"
      },
      "source": [
        "https://de.m.wikipedia.org/wiki/Maximumsnorm"
      ]
    },
    {
      "cell_type": "markdown",
      "metadata": {
        "id": "PNebzB5PeTep"
      },
      "source": [
        "**Normen auf unendlichdimensionalen Vektorräumen**"
      ]
    },
    {
      "cell_type": "markdown",
      "metadata": {
        "id": "2KesWFfaTmuu"
      },
      "source": [
        "**Supremumsnorm**"
      ]
    },
    {
      "cell_type": "markdown",
      "metadata": {
        "id": "X0mN6eYZT6rC"
      },
      "source": [
        "* Im Gegensatz zur Maximumsnorm wird die Supremumsnorm $\\|f\\|_{\\text {sup }}:=\\sup _{t \\in X}|f(t)|$ nicht für stetige, sondern für beschränkte Funktionen $f$ definiert. \n",
        "\n",
        "* In diesem Fall ist es nicht notwendig, dass $X$ kompakt ist; $X$ kann eine beliebige Menge sein. \n",
        "\n",
        "* **Da stetige Funktionen auf kompakten Räumen beschränkt sind, ist die Maximumsnorm ein Spezialfall der Supremumsnorm**.\n",
        "\n",
        "* Die Supremumsnorm (auch Unendlich-Norm genannt) ist in der Mathematik eine Norm auf dem Funktionenraum der beschränkten Funktionen. Im einfachsten Fall einer reell- oder komplexwertigen beschränkten Funktion ist die Supremumsnorm das Supremum der Beträge der Funktionswerte. Allgemeiner betrachtet man Funktionen, deren Zielmenge ein normierter Raum ist, und die Supremumsnorm ist dann das Supremum der Normen der Funktionswerte. \n",
        "\n",
        "* **Für stetige Funktionen auf einer kompakten Menge ist die Maximumsnorm ein wichtiger Spezialfall der Supremumsnorm.**"
      ]
    },
    {
      "cell_type": "markdown",
      "metadata": {
        "id": "FrQFlg6EWE26"
      },
      "source": [
        "![alternativer Text](https://upload.wikimedia.org/wikipedia/commons/thumb/6/66/Graf_arctg.svg/260px-Graf_arctg.svg.png)"
      ]
    },
    {
      "cell_type": "markdown",
      "metadata": {
        "id": "q9WdCWwbWJVf"
      },
      "source": [
        "*Die Supremumsnorm der reellen Arkustangens-Funktion ist π/2. Auch wenn die Funktion diesen Wert betragsmäßig nirgendwo annimmt, so bildet er dennoch die kleinste obere Schranke.*"
      ]
    },
    {
      "cell_type": "markdown",
      "metadata": {
        "id": "QIHI-jmUWwUr"
      },
      "source": [
        "Supremumsnorm vs Maximumsnorm:\n",
        "\n",
        "* So ist etwa die **Supremumsnorm** der linearen Funktion $f(x)=x$ in diesem Intervall gleich $1 .$ Die Funktion nimmt diesen Wert zwar innerhalb des Intervalls nicht an, kommt inm jedoch beliebig nahe. \n",
        "\n",
        "* Wählt man stattdessen das abgeschlossene Einheitsintervall $M=[0,1]$, dann wird der Wert 1 angenommen und die Supremumsnorm entspricht der **Maximumsnorm**."
      ]
    },
    {
      "cell_type": "markdown",
      "metadata": {
        "id": "fDKcUEhwTZKC"
      },
      "source": [
        "https://de.m.wikipedia.org/wiki/Supremumsnorm"
      ]
    },
    {
      "cell_type": "markdown",
      "metadata": {
        "id": "U3OOjvbpXuEt"
      },
      "source": [
        "https://de.m.wikipedia.org/wiki/Wesentliches_Supremum"
      ]
    },
    {
      "cell_type": "markdown",
      "metadata": {
        "id": "T7WmLvFSen-z"
      },
      "source": [
        "**Folgennormen im Folgenraum**"
      ]
    },
    {
      "cell_type": "markdown",
      "metadata": {
        "id": "FEBTrzWdmp1Y"
      },
      "source": [
        "Siehe auch: Folgenraum https://de.m.wikipedia.org/wiki/Folgenraum"
      ]
    },
    {
      "cell_type": "markdown",
      "metadata": {
        "id": "o5vA04__k9hN"
      },
      "source": [
        "Die $\\ell^{p}$ -Normen sind die Verallgemeinerung der $p$ -Normen auf Folgenräume, wobei lediglich die endliche Summe durch eine unendliche ersetzt wird. Die $\\ell^{p}$ -Norm einer in $p$ -ter Potenz betragsweise summierbaren Folge ist für reelles $1 \\leq p<\\infty$ dann definiert als\n",
        "\n",
        "> $\\left\\|\\left(a_{n}\\right)\\right\\|_{\\ell^{p}}=\\left(\\sum_{n=1}^{\\infty}\\left|a_{n}\\right|^{p}\\right)^{1 / p}$\n",
        "\n",
        "Versehen mit diesen Normen werden die $\\ell$ - Räume jeweils zu vollständigen normierten Räumen. ${ }^{[6]}$ Für den Grenzwert $p \\rightarrow \\infty$ ergibt sich der Raum der beschränkten Folgen $\\ell^{\\infty}$ mit der Supremumsnorm. "
      ]
    },
    {
      "cell_type": "markdown",
      "metadata": {
        "id": "3T_E2UeNOdOW"
      },
      "source": [
        "$\\ell^{1}-$ Norm (**Folgenraum**)\n",
        "\n",
        "* Die $\\ell^{1}$ -Norm ist die Verallgemeinerung der Summennorm auf den Folgenraum $\\ell^{1}$ der **betragsweise summierbaren Folgen** $\\left(a_{n}\\right)_{n} \\in \\mathbb{K}^{N} .$ \n",
        "\n",
        "* Hierbei wird lediglich **die endliche Summe durch eine unendliche ersetzt** und die $\\ell^{\\text {t }}$ -Norm ist dann gegeben als\n",
        "\n",
        "> $\\left\\|\\left(a_{n}\\right)\\right\\|_{\\ell^{1}}=\\sum_{n=1}^{\\infty}\\left|a_{n}\\right|$"
      ]
    },
    {
      "cell_type": "markdown",
      "metadata": {
        "id": "MRax0LTq5PpT"
      },
      "source": [
        "$\\ell^{2}-$ Norm (**Folgenraum**)\n",
        "\n",
        "* Die $\\ell^{2}-$ Norm ist die Verallgemeinerung der euklidischen Norm auf den [Folgenraum](https://de.m.wikipedia.org/wiki/Folgenraum) $\\ell^{2}$ der quadratisch summierbaren Folgen $\\left(a_{n}\\right)_{n} \\in \\mathbb{K}^{\\mathrm{N}} .$ Hierbei wird lediglich die endliche Summe durch eine unendliche ersetzt und die $\\ell^{2}$ -Norm ist dann gegeben als\n",
        "\n",
        "> $\\left\\|\\left(a_{n}\\right)\\right\\|_{\\ell^{2}}=\\left(\\sum_{n=1}^{\\infty}\\left|a_{n}\\right|^{2}\\right)^{1 / 2}$\n",
        "\n",
        "* Die ℓ-p -Räume sind ein Spezialfall der allgemeineren Lp-Räume, wenn man das Zählmaß auf dem Raum N betrachtet."
      ]
    },
    {
      "cell_type": "markdown",
      "metadata": {
        "id": "q4x8mIupEplw"
      },
      "source": [
        "$\\ell^{∞}$ -Norm (**Folgenraum**)\n",
        "\n",
        "* The vector space ℓ∞ is a **sequence space** (Folgenraum) whose elements are the bounded sequences. The vector space operations, addition and scalar multiplication, are applied coordinate by coordinate.\n",
        "\n",
        "* $\\ell^{\\infty},$ the (real or complex) vector space of bounded sequences with the **[supremum norm](https://de.m.wikipedia.org/wiki/Supremumsnorm)**, and $L^{\\infty}=L^{\\infty}(X, \\Sigma, \\mu)$, the vector space of essentially bounded measurable functions with the **[essential supremum norm](https://de.m.wikipedia.org/wiki/Wesentliches_Supremum)**, are two closely related Banach spaces. \n",
        "\n",
        "* In fact the former is a special case of the latter. As a Banach space they are the continuous dual of the Banach spaces $\\ell_{1}$ of absolutely summable sequences, and $L^{1}=L^{1}(X, \\Sigma, \\mu)$ of absolutely integrable measurable functions (if the measure space fulfills the conditions of being localizable and therefore\n",
        "semifinite). \n",
        "\n",
        "* Pointwise multiplication gives them the structure of a Banach algebra, and in fact they are the standard examples of abelian Von Neumann algebras."
      ]
    },
    {
      "cell_type": "markdown",
      "metadata": {
        "id": "HHSE1UbcYFEP"
      },
      "source": [
        "**The sequence space (Folgenraum) is a special case of the function space (Funktionenraum): $\\ell_{\\infty}=L_{\\infty}(\\mathbb{N})$ where the natural numbers are equipped with the counting measure.**"
      ]
    },
    {
      "cell_type": "markdown",
      "metadata": {
        "id": "NGbGWZcDesxh"
      },
      "source": [
        "**Funktionennormen im Funktionenraum**"
      ]
    },
    {
      "cell_type": "markdown",
      "metadata": {
        "id": "rQkUf4jxmXjv"
      },
      "source": [
        "Siehe auch L-p-Raum: https://de.m.wikipedia.org/wiki/Lp-Raum"
      ]
    },
    {
      "cell_type": "markdown",
      "metadata": {
        "id": "oE7-MOw4l_FH"
      },
      "source": [
        "Die $\\mathcal{L}^{p}$ -Normen einer in $p$ -ter Potenz **Lebesgue-integrierbaren Funktion** mit $1<p<\\infty$ sind in Analogie zu den $\\ell^{p}$ -Normen definiert als\n",
        "\n",
        "> $\n",
        "\\|f\\|_{\\mathcal{L}^{P}(\\Omega)}=\\left(\\int_{\\Omega}|f(x)|^{p} d x\\right)^{1 / p}\n",
        "$\n",
        "\n",
        "**wobei die Summe durch ein Integral ersetzt wurde**. Ebenso wie bei der wesentlichen Supremumsnorm sind diese Narmen zunächst nur Halbnormen, da nicht nur die Nullfunktion, sondern auch alle Funktionen, die sich nur an einer Menge mit Maß Null II von der Nullfunktion unterscheiden, zu Null integriert werden. Daher betrachtet man wieder die Menge der Äauivalenzklassen unnn Funktionen $[f] \\in L^{p}(\\Omega)$, die fast überall gleich sind, und definiert auf diesen $L^{p}$ -Räumen die $L^{p}$ -Normen durch\n",
        "$\\|[f]\\|_{L P(\\Omega)}=\\|f\\|_{\\mathcal{L}^{p}(\\Omega)}$"
      ]
    },
    {
      "cell_type": "markdown",
      "metadata": {
        "id": "TpfpULLzPBb8"
      },
      "source": [
        "$L^{1}$ -Norm (**Funktionenraum**)\n",
        "\n",
        "* Weiter kann die Summennorm auf den Funktionenraum $L^{1}(\\Omega)$ der auf einer Menge $\\Omega$ betragsweise integrierbaren Funktionen verallgemeinert werden, was in zwei Schritten geschieht. Zunächst wird die $\\mathcal{L}^{1}$ Norm einer **betragsweise Lebesgue-integrierbaren Funktion** $f: \\Omega \\rightarrow \\mathbb{K}$ als\n",
        "\n",
        "> $\\|f\\|_{\\mathcal{L}^{1}(\\Omega)}=\\int_{\\Omega}|f(x)| d x$\n",
        "\n",
        "* definiert, wobei im Vergleich zur $\\ell^{1}$ -Norm lediglich die Summe durch ein Integral ersetzt wurde. Dies ist zunächst nur eine Halbnorm, da nicht nur die Nullfunktion, sondern auch alle Funktionen, die sich nur an einer Menge mit Lebesgue-Maß Null von der Nullfunktion unterscheiden, zu Null integriert werden. \n",
        "\n",
        "* Daher betrachtet man die Menge der Äquivalenzklassen von Funktionen $[f] \\in L^{1}(\\Omega)$, die fast überall gleich sind, und erhält auf diesem $L^{1}$ -Raum die $L^{1}$ -Norm durch\n",
        "\n",
        "> $\\|[f]\\|_{L^{1}(\\Omega)}=\\|f\\|_{\\mathcal{L}^{1}(\\Omega)}$"
      ]
    },
    {
      "cell_type": "markdown",
      "metadata": {
        "id": "Peq0MPwB6WKs"
      },
      "source": [
        "$L^{2}-$ Norm (**Funktionenraum**)\n",
        "\n",
        "* Weiter kann die euklidische Norm auf den [Funktionenraum](https://de.m.wikipedia.org/wiki/Funktionenraum) $L^{2}(\\Omega)$ der auf einer Menge $\\Omega$ quadratisch integrierbaren Funktionen verallgemeinert werden, was in zwei Schritten geschieht. Zunächst wird die $\\mathcal{L}^{2}$ Norm einer quadratisch Lebesgue-integrierbaren Funktion $f: \\Omega \\rightarrow \\mathbb{K}$ als\n",
        "\n",
        "> $\\|f\\|_{\\mathcal{L}^{2}(\\Omega)}=\\left(\\int_{\\Omega}|f(x)|^{2} d x\\right)^{1 / 2}$\n",
        "\n",
        "* definiert, wobei im Vergleich zur $\\ell^{2}$ -Norm lediglich die Summe durch ein Integral ersetzt wurde. Dies ist zunächst nur eine Halbnorm, da nicht nur die Nullfunktion, sondern auch alle Funktionen, die sich nur an einer Menge mit Lebesgue-Maß Null von der Nullfunktion unterscheiden, zu Null integriert werden. Daher betrachtet man die Menge der Äquivalenzklassen von Funktionen $[f] \\in L^{2}(\\Omega),$ die fast überall gleich sind, und erhält auf diesem $L^{2}$ -Raum die $L^{2}$ -Norm durch\n",
        "\n",
        "> $\\|[f]\\|_{L^{2}(\\Omega)}=\\|f\\|_{\\mathcal{L}^{2}(\\Omega)}$\n",
        "\n",
        "* Der Raum $L^{2}(\\Omega)$ ist ein Hilbertraum mit dem Skalarprodukt zweier Funktionen\n",
        "\n",
        "> $\\langle f, g\\rangle_{L_{2}(\\Omega)}=\\int_{\\Omega} \\overline{f(x)} \\cdot g(x) d x$\n",
        "\n",
        "* Er lässt sich von dem Lebesgue-Maß auch auf allgemeine Maße verallgemeinern."
      ]
    },
    {
      "cell_type": "markdown",
      "metadata": {
        "id": "n_06FIa0fPaB"
      },
      "source": [
        "$L^{∞}$ -Norm (**Funktionenraum**)\n",
        "\n",
        "* L∞ is a **function space** (Funktionenraum). Its elements are the essentially bounded measurable functions. More precisely, L∞ is defined based on an underlying measure space, (S, Σ, μ). Start with the set of all measurable functions from S to R which are essentially bounded, i.e. bounded up to a set of measure zero. Two such functions are identified if they are equal almost everywhere. Denote the resulting set by L∞(S, μ)."
      ]
    },
    {
      "cell_type": "markdown",
      "metadata": {
        "id": "vapievvRO-no"
      },
      "source": [
        "**Aus Normen erzeugte Metriken**"
      ]
    },
    {
      "cell_type": "markdown",
      "metadata": {
        "id": "MuEF8UFVN24Y"
      },
      "source": [
        "**L1 - Manhattan Distance (Lasso)**\n",
        "\n",
        "* The Manhattan norm gives rise to the [Manhattan distance](https://de.m.wikipedia.org/wiki/Manhattan-Metrik), where the distance between any two points, or vectors, is the sum of the differences between corresponding coordinates.\n",
        "\n",
        "* **Die Manhattan-Metrik ist die von der Summennorm (1-Norm) eines Vektorraums erzeugte Metrik.**\n",
        "\n",
        "* **Aber: Die Summennorm ist nicht von einem Skalarprodukt induziert.**\n",
        "\n",
        "* Die Manhattan-Metrik (auch Manhattan-Distanz, Taxi- oder Cityblock-Metrik) ist eine Metrik, in der die Distanz d zwischen zwei Punkten a und b als die Summe der absoluten Differenzen ihrer Einzelkoordinaten definiert wird:\n",
        "\n",
        "> $d(a, b)=\\sum_{i}\\left|a_{i}-b_{i}\\right|$\n",
        "\n",
        "**L2 - Euclidean Distance (Ridge)**\n",
        "* The **euclidean distance** is the L2-norm of the difference, **a special case of the Minkowski distance with p=2**. It is the natural distance in a geometric interpretation.\n",
        "\n",
        "> $d_{2}:(x, y) \\mapsto\\|x-y\\|_{2}=\\sqrt{d_{\\mathrm{SSD}}}=\\sqrt{\\sum_{i=1}^{n}\\left(x_{i}-y_{i}\\right)^{2}}$\n",
        "\n",
        "* Together with the [Euclidean distance](https://en.m.wikipedia.org/wiki/Euclidean_distance) the Euclidean space is a metric space (x element R, d). http://theanalysisofdata.com/probability/B_4.html\n",
        "\n",
        "* (See also [Tikhonov Regularization (Ridge)](https://en.m.wikipedia.org/wiki/Tikhonov_regularization)\n",
        "\n",
        "**L ∞ - Chebyshev Distance**\n",
        "\n",
        "* [Chebyshev distance](https://en.m.wikipedia.org/wiki/Chebyshev_distance) (or Tchebychev distance), maximum metric, or L∞ metric is a metric defined on a vector space **where the distance between two vectors is the greatest of their differences** along any coordinate dimension.\n",
        "\n",
        "* The maximum norm gives rise to the **Chebyshev distance** or chessboard distance, the minimal number of moves a chess king would take to travel from x to y. The Chebyshev distance is the L∞-norm of the difference, a special case of the Minkowski distance where p goes to infinity. It is also known as Chessboard distance.\n",
        "\n",
        "> $d_{\\infty}:(x, y) \\mapsto\\|x-y\\|_{\\infty}=\\lim _{p \\rightarrow \\infty}\\left(\\sum_{i=1}^{n}\\left|x_{i}-y_{i}\\right|^{p}\\right)^{\\frac{1}{p}}=\\max _{i}\\left|x_{i}-y_{i}\\right|$"
      ]
    },
    {
      "cell_type": "markdown",
      "metadata": {
        "id": "00B-3E6wT_WN"
      },
      "source": [
        "###### **Units Vector, Circle & Sphere**"
      ]
    },
    {
      "cell_type": "markdown",
      "metadata": {
        "id": "OufqT-Z6E9fS"
      },
      "source": [
        "**Einheitsvektor (Unit Vector)**"
      ]
    },
    {
      "cell_type": "markdown",
      "metadata": {
        "id": "OMv1seK6E7fo"
      },
      "source": [
        "* Ein Vektor der Einheitssphäre heißt [Einheitsvektor](https://de.wikipedia.org/wiki/Einheitsvektor) bzw. [Unit Vector](https://en.wikipedia.org/wiki/Unit_vector). \n",
        "\n",
        "* Zu jedem Vektor $x \\neq 0$ erhält man durch Normierung $\\frac{x}{\\|x\\|}$ den zugehörigen Einheitsvektor.\n",
        "\n",
        "* Ein Einheitsvektor ist in der analytischen Geometrie ein Vektor der Länge Eins. **In der linearen Algebra und der Funktionalanalysis wird der Begriff der Länge auf allgemeine Vektorräume zum Begriff der Norm verallgemeinert**. \n",
        "\n",
        "* Ein Vektor in einem normierten Vektorraum, das heißt einem Vektorraum, auf dem eine Norm definiert ist, heißt Einheitsvektor oder normierter Vektor, **wenn seine Norm Eins beträgt** (fur euklidisch, Summennorm und Maximumsnorm??)"
      ]
    },
    {
      "cell_type": "markdown",
      "metadata": {
        "id": "fdWVU2YRYZ0t"
      },
      "source": [
        "**Einheitskreis (Unit Circle)**"
      ]
    },
    {
      "cell_type": "markdown",
      "metadata": {
        "id": "TC_GtMMcwt1e"
      },
      "source": [
        "* Der [Einheitskreis](https://de.wikipedia.org/wiki/Einheitskreis) bzw. [unit circle](https://en.wikipedia.org/wiki/Unit_circle) ist der Kreis (**im zweidimensionalen reellen Vektorraum**), dessen Radius die Länge 1 hat (Skalar $r \\in \\mathbb{K}$ mit $r>0$ ) und dessen Mittelpunkt ($x_{0} \\in V$) mit dem Koordinatenursprung eines kartesischen Koordinatensystems der Ebene übereinstimmt. \n",
        "\n",
        "* **Der Einheitskreis besteht aus den Punkten (x, y) der Ebene, für die $x^{2}+y^{2}$ = 1 gilt.** (bzw. $x_{1}^{2}$ + $x_{2}^{2}$ = 1)\n",
        "\n",
        "* In der Einheitskugel wendet man dann Betrag + Wurzel (**euklidische Norm**), oder die Summe der Beträge (**Summennorm**) oder das Maximum aller Beträge (**Maximumsnorm**) an. \n",
        "\n",
        "* Zur Normalisierung (??) siehe p-Norm: $\n",
        "\\|x\\|_{p}:=\\left(\\sum_{i=1}^{n}\\left|x_{i}\\right|^{p}\\right)^{1 / p}\n",
        "$"
      ]
    },
    {
      "cell_type": "markdown",
      "metadata": {
        "id": "tPTYbbpvYcnL"
      },
      "source": [
        "**Einheitskugel (Unit Sphere) unter verschiedenen Normen**"
      ]
    },
    {
      "cell_type": "markdown",
      "metadata": {
        "id": "jjtKryVdQp82"
      },
      "source": [
        "![xx](https://upload.wikimedia.org/wikipedia/commons/thumb/2/2c/Unit_disc_2-norm_qtl1.svg/240px-Unit_disc_2-norm_qtl1.svg.png)\n",
        "\n",
        "*Einheitskugel (rot) und -sphäre (blau) für die euklidische Norm in zwei Dimensionen* ([Source](https://de.wikipedia.org/wiki/Einheitskugel))"
      ]
    },
    {
      "cell_type": "markdown",
      "metadata": {
        "id": "IgWu5QWpYVqR"
      },
      "source": [
        "* **Wählt man in der Definition $x_{0}=0$ und $r=1,$ so nennt man die entstehenden Mengen Einheitskugel bzw. Einheitssphäre.** Das bedeutet, die [Einheitskugel](https://de.wikipedia.org/wiki/Einheitskugel) ist die Kugel mit Radius eins um den Nullpunkt eines Vektorraums. \n",
        "\n",
        "* Die Begriffe $_{n}$ Kugel\" bzw. Sphäre\" sind dabei sehr allgemein zu sehen - beispielsweise kann eine Normkugel auch Ecken und Kanten besitzen - und **fallen nur im Spezialfall der euklidischen Vektornorm mit dem aus der Geometrie bekannten Kugelbegriff zusammen**. \n",
        "\n",
        "* **Wird eine andere Norm als die euklidische Norm zur Abstandsmessung benutzt, so ist die Form des Einheitskreises im kartesischen Koordinatensystem eine andere**. Die geometrische Gestalt der Einheitskugel hängt von der gewählten Norm ab und ist nur mit der euklidischen Norm tatsächlich kugelförmig. Einheitskugeln können alternativ im $\\mathbb{R}^{n}$ bezüglich anderer Normen definiert werden.\n",
        "\n",
        "  * Der Einheitskreis fur die **euklidische Norm** ist eine Kugel. Im Falle des euklidischen Raumes $\\mathbb{R}^{n}$ definiert man die abgeschlossene Einheitskugel bezüglich der **euklidischen Norm** $\\|x\\|_{2}=\\sqrt{x_{1}^{2}+x_{2}^{2}+\\cdots+x_{n}^{2}}$ mittels $\\overline{B_{R^{n}}}:=\\left\\{x \\in \\mathbb{R}^{n}:\\|x\\|_{2} \\leq 1\\right\\}$. \n",
        "\n",
        "  * Der Einheitskreis fur die **Summennorm** ist ein Quadrat mit den Ecken (±1,0) und (0,±1). Die Einheitskugel der **Summennorm** (1-Norm) ist definiert $\\|x\\|_{1}=\\left|x_{1}\\right|+\\left|x_{2}\\right|+\\cdots+\\left|x_{n}\\right|$. \n",
        "\n",
        "  * Der Einheitskreis fur die Maximumsnorm ist ein Quadrat mit den Ecken (±1,±1). Die Einheitskugel der  **Maximumsnorm** ist definiert $\\|x\\|_{\\infty}=\\max \\left\\{\\left|x_{1}\\right|,\\left|x_{2}\\right|, \\ldots,\\left|x_{n}\\right|\\right\\} .$\n",
        "\n",
        "  * Siehe p-Norm: $\n",
        "\\|x\\|_{p}:=\\left(\\sum_{i=1}^{n}\\left|x_{i}\\right|^{p}\\right)^{1 / p}\n",
        "$\n",
        "\n",
        "* Bei der Betrachtung von [Umgebungen](https://de.wikipedia.org/wiki/Umgebung_(Mathematik)) (in Topologie) wird die Einheitskugel auch als 1-Kugel oder 1-Ball bezeichnet."
      ]
    },
    {
      "cell_type": "markdown",
      "metadata": {
        "id": "-IBw1G4RYqKN"
      },
      "source": [
        "**Normkugel bzw. Normsphäre**"
      ]
    },
    {
      "cell_type": "markdown",
      "metadata": {
        "id": "aKTnPyITYtdA"
      },
      "source": [
        "* Für einen gegebenen Vektor $x_{0} \\in V$ und einen Skalar $r \\in \\mathbb{K}$ mit $r>0$\n",
        "\n",
        "> heißt die Menge $\\left\\{x \\in V:\\left\\|x-x_{0}\\right\\|<r\\right\\}$ bzw. $\\left\\{x \\in V:\\left\\|x-x_{0}\\right\\| \\leq r\\right\\}$ [offene](https://de.wikipedia.org/wiki/Offene_Menge) bzw. [abgeschlossene](https://de.wikipedia.org/wiki/Abgeschlossene_Menge) **Normkugel** und \n",
        "\n",
        "> heißt die Menge $\\left\\{x \\in V:\\left\\|x-x_{0}\\right\\|=r\\right\\}$ heißt **Normsphäre** um $x_{0}$ mit Radius $r .$ \n",
        "\n",
        "* Jede [Normkugel](https://de.m.wikipedia.org/wiki/Norm_(Mathematik)#Normkugeln) bzw. Normsphäre **entsteht aus der entsprechenden Einheitskugel bzw. Einheitssphäre** durch Skalierung mit dem Faktor $r$ und Translation um den Vektor $x_{0}$.\n",
        "\n",
        "* **Norm = 1**: Diese [Einheitssphäre](https://de.wikipedia.org/wiki/Sphäre_(Mathematik)) (Oberflache der Kugel) ist der Rand der Einheitskugel, **im zweidimensionalen reellen Vektorraum mit der euklidischen Norm ist dies der [Einheitskreis](https://de.wikipedia.org/wiki/Einheitskreis)**. Die Einheitssphäre bildet somit den Rand der Einheitskugel.\n",
        "\n",
        "* **Norm < 1**: Die Menge der Vektoren **mit Norm kleiner als eins wird Einheitskugel des normierten Raums genannt**. Sie ist eine konvexe und zentralsymmetrische Menge, im Allgemeinen aber kein Ellipsoid, beispielsweise kann sie auch ein konvexer Polyeder sein. Die Parallelogrammgleichung ist in normierten Räumen im Allgemeinen nicht erfüllt, sie gilt aber für Vektoren in euklidischen Räumen, was daraus folgt, dass das Quadrat der euklidischen Norm eines Vektors dem Skalarprodukt mit sich selbst entspricht."
      ]
    },
    {
      "cell_type": "markdown",
      "metadata": {
        "id": "QwmusuE_vi8z"
      },
      "source": [
        "#### **Operatoren**"
      ]
    },
    {
      "cell_type": "markdown",
      "metadata": {
        "id": "SE_LCXQrY_SM"
      },
      "source": [
        "\n",
        "https://de.wikipedia.org/wiki/Unit%C3%A4rer_Operator\n",
        "\n",
        "https://de.wikipedia.org/wiki/Laplace-Operator\n",
        "\n",
        "https://de.wikipedia.org/wiki/Selbstadjungierter_Operator"
      ]
    },
    {
      "cell_type": "markdown",
      "metadata": {
        "id": "L1jPRLiHqR78"
      },
      "source": [
        "Solving het equation: https://youtu.be/ToIXSwZ1pJU"
      ]
    },
    {
      "cell_type": "markdown",
      "metadata": {
        "id": "Jk36BF1D1w6k"
      },
      "source": [
        "**Operatoren sind Abbildungen zwischen Funktionenräumen (um sie von den Elementen von Funktionenräumen zu unterscheiden, die Funktionen heissen).** \n",
        "\n",
        "* Ahnlich wie bei Funktoren, als strukturerhaltende Abbildung zwischen zwei Kategorien, in denen selbst Funktionen existieren).\n",
        "\n",
        "* Ein [Operator](https://de.wikipedia.org/wiki/Operator_(Mathematik)) ist eine mathematische Vorschrift, durch die man aus mathematischen Objekten neue Objekte bilden kann.\n",
        "\n",
        "* Er kann eine standardisierte Funktion oder eine Vorschrift über Funktionen sein. \n",
        "\n",
        "* In der Funktionalanalysis hat man es mit Vektorräumen zu tun, deren Elemente selbst Funktionen sind. Diese Räume nennt man auch [Funktionenräume](https://de.wikipedia.org/wiki/Funktionenraum). Um die Elemente (=Funktionen) dieser Vektorräume besser von den Abbildungen zwischen solchen Vektorräumen zu unterscheiden, nennt man letztere auch Operatoren. \n",
        "\n",
        "* Daher: **Abbildungen zwischen solchen Vektorräumen von Funktionen / Funktionenräumen bezeichnet man auch als Operatoren.**\n",
        "\n",
        "* Beispiele für Operatoren sind:\n",
        "\n",
        "  * Operatoren für die Grundrechenarten: +, -, *, /\n",
        "\n",
        "  * Funktionaloperatoren (im Sinne der Funktionalanalysis): $\\frac{d}{d x} \\int \\nabla$ grad div rot"
      ]
    },
    {
      "cell_type": "markdown",
      "metadata": {
        "id": "KX8x82Y91lKD"
      },
      "source": [
        "![cc](https://raw.githubusercontent.com/deltorobarba/repo/master/operator.png)\n",
        "\n",
        "[Image Source](https://me-lrt.de/operator-linear-beschrankt)"
      ]
    },
    {
      "cell_type": "markdown",
      "metadata": {
        "id": "q1A4i4rhFaBn"
      },
      "source": [
        "**Unterschied Operator und Funktion**: \n",
        "\n",
        "* Was den mathematischen Formalismus angeht, gibt es keinen Unterschied zwischen einem Operator und einer Funktion (und einer Abbildung). \n",
        "\n",
        "* Allerdings gibt es einen 'philosophischen' Unterschied: Operatoren werden meistens für zwei Typen von Funktionen verwendet: a) Grundlegende Rechenoperationen. b) **Funktionen, deren Argumente ebenfalls Funktionen sind**. c) Funktionen in der Meta-Ebene. Mehr dazu steht im bereits verlinkten Wikipedia-Artikel."
      ]
    },
    {
      "cell_type": "markdown",
      "metadata": {
        "id": "tmaM6aJEqabp"
      },
      "source": [
        "**Types of Operators**"
      ]
    },
    {
      "cell_type": "markdown",
      "metadata": {
        "id": "QhuKDq0EwC4H"
      },
      "source": [
        "**Lineare & nicht-lineare Operatoren**"
      ]
    },
    {
      "cell_type": "markdown",
      "metadata": {
        "id": "HiqVhXXPIGRN"
      },
      "source": [
        "[Lineare Operatoren](https://de.wikipedia.org/wiki/Linearer_Operator): In Funktionalanalysis betrachtet man Eigenschaften von Abbildungen zwischen (unendlichdimensionalen) Banachräumen. **Lineare Abbildungen heißen [lineare Operatoren](https://de.wikipedia.org/wiki/Lineare_Abbildung)**, nichtlineare Abbildungen werden nichtlineare Operatoren genannt.\n",
        "\n",
        "* Die Bedeutung linearer Operatoren besteht darin, dass sie die lineare Struktur des unterliegenden Raumes respektieren, d. h., sie sind Homomorphismen zwischen Vektorräumen [Source](https://de.wikipedia.org/wiki/Linearer_Operator)\n",
        "\n",
        "* Der Begriff linearer Operator wurde in der Funktionalanalysis (einem Teilgebiet der Mathematik) eingeführt und ist **synonym zum Begriff der linearen Abbildung**. Eine lineare Abbildung ist eine **strukturerhaltende Abbildung zwischen Vektorräumen über einem gemeinsamen Körper**. \n",
        "\n",
        "* Werden Vektorräume über dem Körper der reellen oder komplexen Zahlen betrachtet und sind diese mit einer Topologie versehen (lokalkonvexe Räume, normierte Räume, Banachräume), so spricht man vorzugsweise von linearen Operatoren.\n",
        "\n",
        "* **Anwendungen linearer Operatoren sind:**\n",
        "\n",
        "  * Die Beschreibung von Koordinatentransformationen im dreidimensionalen Euklidischen Raum (**Spiegelung, Drehung, Streckung**) und der [Lorentztransformation](https://de.wikipedia.org/wiki/Lorentz-Transformation) in der vierdimensionalen Raumzeit durch Matrizen.\n",
        "\n",
        "  * Die Entwicklung von Lösungstheorien für Differential- und Integralgleichungen, siehe Sobolew-Raum und Distribution.\n",
        "  \n",
        "  * Die Darstellung von Observablen in der Quantenmechanik und die Beschreibung der Dynamik eines quantenmechanischen Systems durch seinen Hamilton-Operator H in der Schrödingergleichung."
      ]
    },
    {
      "cell_type": "markdown",
      "metadata": {
        "id": "LsmBkA0uVtGx"
      },
      "source": [
        "**Operatornorm**"
      ]
    },
    {
      "cell_type": "markdown",
      "metadata": {
        "id": "3o1R4h0tV_Eh"
      },
      "source": [
        "* Eine [Operatornorm](https://de.wikipedia.org/wiki/Operatornorm) ist ein Objekt aus dem mathematischen Teilgebiet der Funktionalanalysis. Die Operatornorm verallgemeinert die Idee, einem Objekt eine Länge zuzuordnen, auf die Menge der linearen Operatoren. \n",
        "\n",
        "* Sind die zu betrachtenden Operatoren stetig, so ist die Operatornorm eine echte Norm, andernfalls kann die Operatornorm den Wert unendlich annehmen. Die Operatornorm einer linearen Abbildung zwischen endlichdimensionalen Vektorräumen ist nach Wahl einer Basis eine natürliche Matrixnorm.\n",
        "\n",
        "* Die Operatornorm besitzt neben den für Normen charakteristischen drei Eigenschaften **Definitheit**, **absolute Homogenität** und **Dreiecksungleichung** noch weitere:\n",
        "\n",
        "  * **Gültigkeit der fundamentalen Ungleichung**\n",
        "\n",
        "  * **Submultiplikativität**\n",
        "\n",
        "  * **Beschränktheit**: Die Operatornorm linearer Abbildungen zwischen endlichdimensionalen Vektorräumen ist stets endlich, da die Einheitskugel eine kompakte Menge ist. Somit ist im endlichdimensionalen Fall die Operatornorm immer eine echte Norm. Für unendlichdimensionale Vektorräume gilt dies nicht immer. Operatoren, deren Norm unendlich als Wert annimmt, werden unbeschränkt genannt. Auf Räumen mit solch unbeschränkten Operatoren ist die Operatornorm streng genommen keine echte Norm. Man kann zeigen, dass ein linearer Operator zwischen normierten Räumen genau dann eine endliche Operatornorm hat, wenn er beschränkt und damit stetig ist. Insbesondere wird dadurch der Raum der stetigen linearen Operatoren zu einem normierten Vektorraum.\n",
        "\n",
        "  * **Vollständigkeit**"
      ]
    },
    {
      "cell_type": "markdown",
      "metadata": {
        "id": "zLs-5VKnBfhz"
      },
      "source": [
        "**Beschränkte und unbeschränkte lineare Operatoren**"
      ]
    },
    {
      "cell_type": "markdown",
      "metadata": {
        "id": "gFyA9Gov_W78"
      },
      "source": [
        "[**Beschränkter Operator**](https://de.wikipedia.org/wiki/Beschränkter_Operator)\n",
        "\n",
        "* Im Gegensatz zu endlichdimensionalen Räumen, wo lineare Operatoren stets beschränkt sind, tauchen bei unendlichdimensionalen Räumen auch unbeschränkte lineare Operatoren auf.\n",
        "\n",
        "* Ein linearer Operator ist genau dann beschränkt, wenn er stetig ist, also eine der\n",
        "folgenden äquivalenten Bedingungen erfülit:\n",
        "\n",
        "  * falls $x_{n} \\rightarrow x,$ so gilt $T x_{n} \\rightarrow T x$ in der von der jeweiligen Norm induzierten\n",
        "Metrik,\n",
        "\n",
        "  * für alle $x_{0} \\in X$ und alle $\\epsilon>0$ gibt es ein $\\delta>0$ mit\n",
        "$\n",
        "\\left\\|x-x_{0}\\right\\|<\\delta \\Rightarrow\\left\\|T x-T x_{0}\\right\\|<\\epsilon\n",
        "$\n",
        "\n",
        "  * Urbilder offener Mengen sind offen.\n",
        "\n",
        "* Beschränkte lineare Operatoren werden deshalb oft als **stetige lineare Operatoren** bezeichnet. Wenn die Linearität vorausgesetzt wird, spricht man häufig auch nur von stetigen Operatoren oder beschränkten Operatoren. **Ist der Bildraum der Skalarenkörper, sagt man Funktional statt Operator.**"
      ]
    },
    {
      "cell_type": "markdown",
      "metadata": {
        "id": "13D6ESkWhld6"
      },
      "source": [
        "**Unbeschränkte lineare Operatoren auf Hilberträumen**:\n",
        "\n",
        "* lässt man oft auch Operatoren zu, deren Definitionsbereich (Domäne) lediglich ein Unterraum des betrachteten Raumes ist, so lässt man als Definitionsbereich auch einen Prähilbertraum als Teilraum eines Hilbertraums zu, präziser spricht man dann von dicht definierten unbeschränkten linearen Operatoren (s. u.). Der Operator wird als **partielle Abbildung** aufgefasst.\n",
        "\n",
        "* **Differential- und Multiplikationsoperatoren sind i. A. unbeschränkt.** (Viele Anwendungsbeispiele werden durch unbeschränkte Operatoren beschrieben (z.B. Differentialoperatoren). Während beschränkte Operatoren auf dem ganzen Hilbertraum H definiert sind, werden unbeschränkte Operatoren immer auf einem Definitionsbereich D(T ) ⊂ H betrachtet.)\n",
        "\n",
        "* Die Darstellung von Observablen der Quantenmechanik erfordert unbeschränkte lineare Operatoren, da die den Observablen zugeordneten Operatoren i. A. unbeschränkt sind.\n",
        "\n",
        "* Der [Laplace-Operator](https://de.wikipedia.org/wiki/Laplace-Operator) (=linearen Differentialoperator) $\\Delta \\colon D(\\Delta )\\to L^{2}(\\mathbb{R} ^{n})$ ist ein unbeschränkter Operator."
      ]
    },
    {
      "cell_type": "markdown",
      "metadata": {
        "id": "LMVGH4LI1BU-"
      },
      "source": [
        "**Selbstadjungierte & symmetrische Operatoren**"
      ]
    },
    {
      "cell_type": "markdown",
      "metadata": {
        "id": "sMFqLOTn1DYx"
      },
      "source": [
        "* Sei $H$ ein Hilbertraum. Ein linearer Operator $T: D(T) \\rightarrow H$ heißt symmetrisch bzw. selbstadjungiert, falls\n",
        "\n",
        "> $\\langle T y, x\\rangle=\\langle y, T x\\rangle$\n",
        "\n",
        "* Der [selbstadjungierte Operator](https://de.wikipedia.org/wiki/Selbstadjungierter_Operator) ist eine Verallgemeinerung der selbstadjungierten Matrix. Siehe auch [Adjungierter_Operator](https://de.m.wikipedia.org/wiki/Adjungierter_Operator)\n",
        "\n",
        "* ein [symmetrischer Operator](https://de.wikipedia.org/wiki/Symmetrischer_Operator) ist ein **linearer Operator** und wird in der Funktionalanalysis im Kontext **unbeschränkter Operatoren** betrachtet\n",
        "\n",
        "* ein **beschränkter symmetrischer Operator ist ein selbstadjungierter Operator**.\n",
        "\n",
        "* **Unterschiede:**\n",
        "\n",
        "  * Symmetrische Operatoren koennen auch nicht-reelle Eigenwerte haben (im Gegensatz zu den selbstadjungierten Operatoren)\n",
        "\n",
        "  * Bei symmetrischen Operatoren wird nicht gefordert, dass der Operator $T$ dicht definiert sein muss (im Gegensatz zum selbstadjungierten Operator)\n",
        "\n",
        "  * Ist $T$ dicht definiert (und damit der adjungierte Operator wohl definiert), so ist $T$ genau dann symmetrisch, wenn $T\\subseteq T^{*}$ gilt.\n",
        "\n",
        "  * Nur fur selbstadjungierten Operatoren kann eine Spektralzerlegung gezeigt werden \n",
        "  \n",
        "  * Für beschränkte Operatoren fallen die Begriffe selbstadjungiert und symmetrisch zusammen (daher sind symmetrische, nicht selbstadjungierte Operatoren immer unbeschränkt)"
      ]
    },
    {
      "cell_type": "markdown",
      "metadata": {
        "id": "13h_Mle0qiRs"
      },
      "source": [
        "**Spezielle Klassen von Operatoren sind etwa [kompakte Operatoren](https://de.wikipedia.org/wiki/Kompakter_Operator) oder [Fredholm-Operatoren](https://de.wikipedia.org/wiki/Fredholm-Operator).**"
      ]
    },
    {
      "cell_type": "markdown",
      "metadata": {
        "id": "3qRI2jKxCb6M"
      },
      "source": [
        "**Operatortopologie**"
      ]
    },
    {
      "cell_type": "markdown",
      "metadata": {
        "id": "vb6xhMMlAi_p"
      },
      "source": [
        "* [Operatortopologien](https://de.m.wikipedia.org/wiki/Operatortopologie) sindverschiedene Topologien auf dem Raum der stetigen, linearen Operatoren auf einem Hilbertraum. "
      ]
    },
    {
      "cell_type": "markdown",
      "metadata": {
        "id": "XBT6dfRP9P6X"
      },
      "source": [
        "**Operatoralgebra (Banach-, C<sup>*</sup>- und W<sup>*</sup>-Algebren)**"
      ]
    },
    {
      "cell_type": "markdown",
      "metadata": {
        "id": "2CUO12L19ARp"
      },
      "source": [
        "* [Operatoralgebren](https://de.m.wikipedia.org/wiki/Operatoralgebra) sind  **Verallgemeinerungen der [Matrizenalgebren](http://www-hm.ma.tum.de/ws0607/ei1/folien/Folie_11_RechnenMitMatrizen.pdf)** der linearen Algebra\n",
        "\n",
        "* Sind $E, F, G$ normierte Räume und $A: E \\rightarrow F$ und $B: F \\rightarrow G$ stetige, lineare Operatoren, so ist auch deren Komposition ein stetiger, linearer Operator $B \\circ A: E \\rightarrow G,$ und für die Operatornormen gilt $\\|B \\circ A\\| \\leq\\|B\\| \\cdot\\|A\\| .$ \n",
        "\n",
        "* Daher wird der Raum $L(E)$ der stetigen, linearen Operatoren von $E$ in sich mit der Komposition als Multiplikation zu einer normierten Algebra, die bei vollständiaem $E$ sogar eine Banachalgebra ist.\n",
        "\n",
        "* Diese Algebren und ihre Unteralgebren nennt man Operatoralgebren, wobei der Fall, dass $E$ ein Hilbertraum ist, besonders intensiv untersucht wird. "
      ]
    },
    {
      "cell_type": "markdown",
      "metadata": {
        "id": "KtqhC3TW97-U"
      },
      "source": [
        "**Banachalgebren als Operatoralgebren**\n",
        "\n",
        "* Jede normierte Algebra $\\mathcal{A}$ kann als Operatoralgebra dargestellt werden. \n",
        "\n",
        "* Die sogenannte linksreguläre Darstellung von $\\mathcal{A},$ die jedem Element $A$ den Operator $\\ell_{A} \\in L(\\mathcal{A})$ zuordnet, wobei $\\ell_{A}(B):=A B$, ist ein isometrischer Homomorphismus, falls $\\mathcal{A}$ ein Einselement besitzt. Ist kein Einselement vorhanden, so adjungiere man eines.\n",
        "\n",
        "* Welche Homomorphismen von einer Banachalgebra in eine Operatoralgebra existieren, wird in der Darstellungstheorie untersucht. \n",
        "\n",
        "* Ein besonderes Interesse gilt dabei **Darstellungen auf Hilberträumen**, das heißt Homomorphismen in die Operatoralgebra über einem Hilbertraum, was zu den Begriffen **Von-Neumann-Algebra und C*-Algebra** führt.\n",
        "\n",
        "* Operatoralgebren über Banachräumen, speziell über Hilberträumen, erlauben die Einführung zusätzlicher Topologien wie etwa die **starke oder schwache Operatortopologie**, wobei gerade letzterer wegen der Kompaktheit der Einheitskugel eine besondere Bedeutung zukommt."
      ]
    },
    {
      "cell_type": "markdown",
      "metadata": {
        "id": "kvV9g-7G_a0Y"
      },
      "source": [
        "**Banach-Algebren**"
      ]
    },
    {
      "cell_type": "markdown",
      "metadata": {
        "id": "ij2aZqcn6EgP"
      },
      "source": [
        "* [Banachalgebren](https://de.wikipedia.org/wiki/Banachalgebra), siehe auch [hier](https://mathepedia.de/Banachalgebra.html), sind mathematische **Objekte der Funktionalanalysis**, die einige wesentliche Eigenschaften mit bekannten Funktionenräumen (z. B. Mengen stetiger oder integrierbarer Funktionen) gemeinsam haben, und deren Verallgemeinerung sie daher sind.\n",
        "\n",
        "* Eine Banachalgebra ist ein Vektorraum, in dem auch ein Produkt und eine Norm so definiert sind, dass gewisse Verträglichkeitsbedingungen erfüllt sind."
      ]
    },
    {
      "cell_type": "markdown",
      "metadata": {
        "id": "SDpB4mwPSGuP"
      },
      "source": [
        "https://mathepedia.de/Banachalgebra.html"
      ]
    },
    {
      "cell_type": "markdown",
      "metadata": {
        "id": "bj9TI7MYBxsD"
      },
      "source": [
        "**C*-Algebren**"
      ]
    },
    {
      "cell_type": "markdown",
      "metadata": {
        "id": "pmO_u2zYzLWp"
      },
      "source": [
        "A C* algebra is an algebra (over $C$), \n",
        "* algebra: you have a vector space and you can multiply the vectors as well, and that multiplication is distributive over that vector addition. \n",
        "\n",
        "* It's an algebra with an involution * : A -> A (you can to where you started if you apply it twice), \n",
        "\n",
        "* because it's and involution, it's also an anti-homomorphism. If you have two elements a1 and a2 from A and then you take their star (a1,a2)* = a2*a1* (applied to the other direction)\n",
        "\n",
        "* and has a norm ||.|| : A -> $\\mathbb{R}$ satisfying several conditions"
      ]
    },
    {
      "cell_type": "markdown",
      "metadata": {
        "id": "eCjzoeeYyHAA"
      },
      "source": [
        "https://www.youtube.com/watch?v=NbgpY0hkFi0"
      ]
    },
    {
      "cell_type": "markdown",
      "metadata": {
        "id": "uVno5eLEFD31"
      },
      "source": [
        "* [C*-Algebren](https://de.wikipedia.org/wiki/C*-Algebra) sind eine Abstraktion der beschränkten linearen Operatoren auf einem Hilbertraum, sie spielen daher in der mathematischen Beschreibung der Quantenmechanik eine Rolle.\n",
        "\n",
        "* C<sup>*</sup>-Algebren **sind spezielle Banachalgebren**, bei denen ein enger Zusammenhang zwischen algebraischen und topologischen Eigenschaften besteht; die Kategorie der lokalkompakten Räume erweist sich als äquivalent zur Kategorie der kommutativen C<sup>*</sup>-Algebren, daher wird die **Theorie der C<sup>*</sup>-Algebren auch als nichtkommutative Topologie** angesehen. \n",
        "\n",
        "* Sofern eine solche nichtkommutative Topologie von einer Metrik induziert wird, wird diese durch das relativ neue Forschungsfeld der nichtkommutativen Geometrie erfasst,"
      ]
    },
    {
      "cell_type": "markdown",
      "metadata": {
        "id": "czZ_JpboBnHf"
      },
      "source": [
        "**W*-Algebren (Von-Neumann-Algebra)**"
      ]
    },
    {
      "cell_type": "markdown",
      "metadata": {
        "id": "_MvZ6ZoTBt1c"
      },
      "source": [
        "* [Von-Neumann-Algebra](https://de.m.wikipedia.org/wiki/Von-Neumann-Algebra) ist eine \n",
        "mathematische Struktur in der Funktionalanalysis\n",
        "\n",
        "* Jede Von-Neumann-Algebra ist eine C*-Algebra und somit auch eine Banachalgebra.\n",
        "\n",
        "* Von-Neumann-Algebren enthalten sehr viele Orthogonalprojektionen; jeder Operator ist in der Normtopologie Limes von Linearkombinationen von Orthogonalprojektionen. Dies ist ein wesentlicher Unterschied zu den C*-Algebren"
      ]
    },
    {
      "cell_type": "markdown",
      "metadata": {
        "id": "CTJe36-LbQhm"
      },
      "source": [
        "**C* und W*-dynamische Systeme**"
      ]
    },
    {
      "cell_type": "markdown",
      "metadata": {
        "id": "11y4fH_0bBJ7"
      },
      "source": [
        "[C<sup>*</sup>-dynamische Systeme](https://de.wikipedia.org/wiki/C*-dynamisches_System) werden im mathematischen Teilgebiet der Funktionalanalysis untersucht. Es handelt sich um eine Konstruktion, mit der man aus einer C<sup>*</sup>-Algebra und einer lokalkompakten Gruppe, die in gewisser Weise auf der C<sup>*</sup>-Algebra operiert, eine neue C<sup>*</sup>-Algebra gewinnt. Diese Konstruktion verallgemeinert die klassischen dynamischen Systeme, bei denen die Gruppe der ganzen Zahlen auf einem kompakten Hausdorffraum operiert. Der Prototyp eines C<sup>*</sup>-dynamischen Systems ist die irrationale Rotationsalgebra.\n"
      ]
    },
    {
      "cell_type": "markdown",
      "metadata": {
        "id": "--jG_vUDa6Gl"
      },
      "source": [
        "https://de.wikipedia.org/wiki/W*-dynamisches_System"
      ]
    },
    {
      "cell_type": "markdown",
      "metadata": {
        "id": "QnyyroR0a8jB"
      },
      "source": [
        "https://de.wikipedia.org/wiki/Irrationale_Rotationsalgebra"
      ]
    },
    {
      "cell_type": "markdown",
      "metadata": {
        "id": "UBGlUuYsYwrV"
      },
      "source": [
        "**Spur**"
      ]
    },
    {
      "cell_type": "markdown",
      "metadata": {
        "id": "7QwX8vJoYzb3"
      },
      "source": [
        "https://de.wikipedia.org/wiki/Spur_(Mathematik)"
      ]
    },
    {
      "cell_type": "markdown",
      "metadata": {
        "id": "8mOs339CCqaB"
      },
      "source": [
        "**Differential- & Nabla-Operator**"
      ]
    },
    {
      "cell_type": "markdown",
      "metadata": {
        "id": "LMHo3RHvGuC9"
      },
      "source": [
        "Der [**Nabla Operator**](https://de.wikipedia.org/wiki/Nabla-Operator) $\\nabla$ ist ein Symbol, das in der Vektor- und Tensoranalysis benutzt wird, **um kontextabhängig einen der drei Differentialoperatoren Gradient, Divergenz oder Rotation zu notieren**. Es ist zur Bestimmung des Gradienten einer mehrdimensionalen Funktion. Mit einem der drei Differentialoperatoren [Gradient](https://de.wikipedia.org/wiki/Gradient_(Mathematik)) (Anwendung im [Gradientenverfahren](https://de.wikipedia.org/wiki/Gradientenverfahren) in der Numerik), [Divergenz](https://de.wikipedia.org/wiki/Divergenz_eines_Vektorfeldes) oder [Rotation](https://de.wikipedia.org/wiki/Rotation_eines_Vektorfeldes) "
      ]
    },
    {
      "cell_type": "markdown",
      "metadata": {
        "id": "7djS_WIYEDqk"
      },
      "source": [
        "https://www.youtube.com/watch?v=YW-bUVIOpB0&t=51s"
      ]
    },
    {
      "cell_type": "markdown",
      "metadata": {
        "id": "qp0fCUaACtzz"
      },
      "source": [
        "* **Differential**: Der [**Differentialoperator**](https://de.wikipedia.org/wiki/Differentialoperator) $\\frac{\\mathrm{d}}{\\mathrm{d} x}$ zur Bildung von [Differentialen](https://de.wikipedia.org/wiki/Differential_(Mathematik)) (ist eine Funktion, die einer Funktion eine Funktion zuordnet und die Ableitung nach einer oder mehreren Variablen enthält.)\n",
        "\n",
        "* [**Nabla Operator**](https://de.wikipedia.org/wiki/Nabla-Operator) $\\nabla$ zur Bestimmung des Gradienten einer mehrdimensionalen Funktion. Mit einem der drei **Differentialoperatoren**.\n",
        "\n",
        "* Der [**Differentialoperator**](https://de.wikipedia.org/wiki/Differentialoperator) $\\frac{\\mathrm{d}}{\\mathrm{d} x}$ zur Bildung von [Differentialen](https://de.wikipedia.org/wiki/Differential_(Mathematik)) (ist eine Funktion, die einer Funktion eine Funktion zuordnet und die Ableitung nach einer oder mehreren Variablen enthält.)\n",
        "  * [Gradient](https://de.wikipedia.org/wiki/Gradient_(Mathematik)): Gibt die Richtung und Stärke des steilsten Anstiegs eines Skalarfeldes an. Der Gradient eines Skalarfeldes ist ein Vektorfeld. $\\operatorname{grad} \\phi:=\\vec{\\nabla} \\phi=\\left(\\begin{array}{c}\\frac{\\partial \\phi}{\\partial x} \\\\ \\frac{\\partial \\phi}{\\partial y} \\\\ \\frac{\\partial \\phi}{\\partial z}\\end{array}\\right)$\n",
        "  * [Divergenz](https://de.wikipedia.org/wiki/Divergenz_eines_Vektorfeldes): Gibt die Tendenz eines Vektorfeldes an, von Punkten wegzufließen. $\\operatorname{div} \\vec{F}:=\\vec{\\nabla} \\cdot \\vec{F}=\\frac{\\partial F_{x}}{\\partial x}+\\frac{\\partial F_{y}}{\\partial y}+\\frac{\\partial F_{z}}{\\partial z}$\n",
        "  * [Rotation](https://de.wikipedia.org/wiki/Rotation_eines_Vektorfeldes): Gibt die Tendenz eines Vektorfeldes an, um Punkte zu rotieren. $\\operatorname{rot} \\vec{F}:=\\vec{\\nabla} \\times \\vec{F}=\\left(\\begin{array}{c}\\frac{\\partial F_{z}}{\\partial y}-\\frac{\\partial F_{y}}{\\partial z} \\\\ \\frac{\\partial F_{x}}{\\partial z}-\\frac{\\partial F_{z}}{\\partial x} \\\\ \\frac{\\partial F_{y}}{\\partial x}-\\frac{\\partial F_{x}}{\\partial y}\\end{array}\\right)$\n",
        "\n",
        "* **Diese drei Rechenoperationen sind in der Vektoranalysis von besonderer Bedeutung**, weil sie Felder produzieren, die sich bei räumlicher Drehung des ursprünglichen Feldes mitdrehen. Operativ formuliert: Bei Gradient, Rotation und Divergenz spielt es keine Rolle, ob sie vor oder nach einer Drehung angewendet werden. Diese Eigenschaft folgt aus den **koordinatenunabhängigen** Definitionen. "
      ]
    },
    {
      "cell_type": "markdown",
      "metadata": {
        "id": "1wrniQU1bLt1"
      },
      "source": [
        "https://www.youtube.com/watch?v=rB83DpBJQsE"
      ]
    },
    {
      "cell_type": "markdown",
      "metadata": {
        "id": "xBPV5D-uD_b7"
      },
      "source": [
        "**Pseudodifferentialoperatoren**"
      ]
    },
    {
      "cell_type": "markdown",
      "metadata": {
        "id": "XM42Ynw8D-JR"
      },
      "source": [
        "* Die [Pseudodifferentialoperatoren](https://de.wikipedia.org/wiki/Pseudodifferentialoperator) sind eine Verallgemeinerung von Differentialoperatoren. Sie ermöglichen, aufbauend auf dem Grundbegriff der Distribution und auf der Fouriertransformation, ein ganz neues Verständnis für die Lösung partieller Differen- tialgleichungen."
      ]
    },
    {
      "cell_type": "markdown",
      "metadata": {
        "id": "bwYpnVOwaix_"
      },
      "source": [
        "**Integraloperator**"
      ]
    },
    {
      "cell_type": "markdown",
      "metadata": {
        "id": "SUufrzvG0k9U"
      },
      "source": [
        "https://de.wikipedia.org/wiki/Integraloperator"
      ]
    },
    {
      "cell_type": "markdown",
      "metadata": {
        "id": "A3vStkeCs5C0"
      },
      "source": [
        "https://www.biancahoegel.de/mathe/operator/integraloperator.html"
      ]
    },
    {
      "cell_type": "markdown",
      "metadata": {
        "id": "BT7Om_iXSlcA"
      },
      "source": [
        "* **Integral**: Der [**Volterraoperator**](https://de.wikipedia.org/wiki/Integraloperator#Volterraoperator) $\\int_{0}^{t}$ zur Bildung des [bestimmten Integrals](https://de.wikipedia.org/wiki/Integralrechnung) (ist ein Beispiel fur einen [Integraloperator](https://de.wikipedia.org/wiki/Integraloperator). Operatoren wie diese, die einer Funktion eine Zahl zuordnen, nennt man [Funktional](https://de.wikipedia.org/wiki/Funktional).\n",
        "\n",
        "  * Die Fourier-Transformation ${\\mathcal {F}}$ ist z.B. ein **linearer Operator** (siehe unten). \n",
        "  \n",
        "* Ein [linearer Integraloperator](https://de.wikipedia.org/wiki/Integraloperator) ist ein mathematisches Objekt aus der Funktionalanalysis. Dieses Objekt ist ein linearer Operator, der mit einer bestimmten Integralschreibweise mit einem Integralkern dargestellt werden kann."
      ]
    },
    {
      "cell_type": "markdown",
      "metadata": {
        "id": "_BMwC_7ev16S"
      },
      "source": [
        "#### **Funktional (Covector / 1-Form)**"
      ]
    },
    {
      "cell_type": "markdown",
      "metadata": {
        "id": "htTRyfMp8W_e"
      },
      "source": [
        "* Eine [Linearform](https://de.wikipedia.org/wiki/Linearform) ist ein Objekt aus dem mathematischen Teilgebiet der linearen Algebra. Es handelt sich dabei um eine lineare Abbildung von einem Vektorraum in den zugrundeliegenden Körper.\n",
        "\n",
        "* Im Kontext der Funktionalanalysis, das heißt im Falle eines topologischen \n",
        "$\\mathbb {R}$ - oder \n",
        "$\\mathbb {C}$-Vektorraums, sind die betrachteten Linearformen meistens stetige lineare Funktionale."
      ]
    },
    {
      "cell_type": "markdown",
      "metadata": {
        "id": "HckvbGsx8fxq"
      },
      "source": [
        "Covectors are also called called one-form because they take one vector and outout a scalar. \n",
        "\n",
        "* In math they are called Funktionale, Linearformen oder auch 1-Formen\n",
        "\n",
        "* in physics they are more often called covariant vectors, or covectors\n",
        "\n",
        "This scalar can be a integrand (Wegintegral) or Differential, Temperature, Speed etc..\n",
        "\n",
        "(meanwhile a metric tensor is two-form because it takes 2 vectors to output one scalar, which is length or angle)."
      ]
    },
    {
      "cell_type": "markdown",
      "metadata": {
        "id": "HXSAGnPb8wHJ"
      },
      "source": [
        "**A form is a function that takes vectors as inputs and outputs a number:**\n",
        "\n",
        "> $V \\times V \\times \\cdots \\times V \\rightarrow \\mathbb{R}$\n",
        "\n"
      ]
    },
    {
      "cell_type": "markdown",
      "metadata": {
        "id": "_GrnweI78yCA"
      },
      "source": [
        "**Covectors are linear forms (=1-forms)**\n",
        "\n",
        "* they take one vector as input to output a number (scalar):\n",
        "\n",
        ">  $\\alpha: V \\rightarrow \\mathbb{R}$\n",
        "\n",
        "* and they follow the linearity properties:\n",
        "\n",
        "  * $\\alpha(\\vec{v}+\\vec{w})=\\alpha(\\vec{v})+\\alpha(\\vec{w})$\n",
        "\n",
        "  * $\\alpha(n \\vec{v})=n \\alpha(\\vec{v})$"
      ]
    },
    {
      "cell_type": "markdown",
      "metadata": {
        "id": "SAh-la3b80--"
      },
      "source": [
        "**Bilinear Forms (=2-Forms)**\n",
        "\n",
        "* they take two vectors as input to output a number (scalar):\n",
        "\n",
        "> $\\mathcal{B}: V \\times V \\rightarrow \\mathbb{R}$\n",
        "\n",
        "* and they follow the linearity properties:\n",
        "\n",
        "  * $a \\mathcal{B}(\\vec{v}, \\vec{w})=\\mathcal{B}(a \\vec{v}, \\vec{w})=\\mathcal{B}(\\vec{v}, a \\vec{w})$\n",
        "\n",
        "  * $\\mathcal{B}(\\vec{v}+\\vec{u}, \\vec{w})=\\mathcal{B}(\\vec{v}, \\vec{w})+\\mathcal{B}(\\vec{u}, \\vec{w})$\n",
        "\n",
        "  * $\\mathcal{B}(\\vec{v}, \\vec{w}+\\vec{t})=\\mathcal{B}(\\vec{v}, \\vec{w})+\\mathcal{B}(\\vec{v}, \\vec{t})$\n"
      ]
    },
    {
      "cell_type": "markdown",
      "metadata": {
        "id": "qCkgiHOe87uE"
      },
      "source": [
        "Relationship between linear and bilinear forms: If look at the bilinear form rules and focus only on the rules that involve the first input and pretend the second input $\\vec{w}$ is fixed, $\\mathcal{B}$ looks very much like a covector or a linear form (scale input linearly and addition is linear). **So if we say that $\\mathcal{B}$ is a bilinear form, it's because it's a form where each individual input is linear while the other input is held constant!**"
      ]
    },
    {
      "cell_type": "markdown",
      "metadata": {
        "id": "geJ8Gq8q9Jr0"
      },
      "source": [
        "ps: the metric tensor is a bilinear form, but it's a very specific example of a bilinear form. the metric tensor has 2 additional properties that other bilinear forms might not have: components are symmetric, output must be positive."
      ]
    },
    {
      "cell_type": "markdown",
      "metadata": {
        "id": "YM6Ybs037_Sj"
      },
      "source": [
        "> **Siehe auch [Level Sets](https://en.wikipedia.org/wiki/Level_set) bzw. Niveaumenge** (= die Menge aller Punkte des Definitionsbereichs einer Funktion, denen ein gleicher Funktionswert zugeordnet ist.)"
      ]
    },
    {
      "cell_type": "markdown",
      "metadata": {
        "id": "_eErFiso79K1"
      },
      "source": [
        "![ggg](https://raw.githubusercontent.com/deltorobarba/repo/master/tensor_127.png)"
      ]
    },
    {
      "cell_type": "markdown",
      "metadata": {
        "id": "QY5kGJH28D2G"
      },
      "source": [
        "![ggg](https://raw.githubusercontent.com/deltorobarba/repo/master/tensor_125.png)"
      ]
    },
    {
      "cell_type": "markdown",
      "metadata": {
        "id": "e_mH_IBk7AJf"
      },
      "source": [
        "https://en.wikipedia.org/wiki/Functional_(mathematics)"
      ]
    },
    {
      "cell_type": "markdown",
      "metadata": {
        "id": "AWvUN7IR7B1r"
      },
      "source": [
        "https://de.wikipedia.org/wiki/Linearform"
      ]
    },
    {
      "cell_type": "markdown",
      "metadata": {
        "id": "Z2gaucfCv5BP"
      },
      "source": [
        "* **Ein [Funktional](https://de.m.wikipedia.org/wiki/Funktional) bzw. [functional](https://en.m.wikipedia.org/wiki/Functional_(mathematics)) J[y] bildet eine <u>Funktion</u> y(x) auf eine <u>Zahl</u> ab.**\n",
        "\n",
        "> Sei $V$ ein $\\mathbb{K}$ -Vektorraum mit $\\mathbb{K} \\in\\{\\mathbb{R}, \\mathbb{C}\\} .$ Ein Funktional $T$ ist eine Abbildung $T: V \\rightarrow \\mathbb{K} .$\n",
        "\n",
        "* eine Funktion, deren Definitionsmenge (Urbilder) als Teilmenge in einem Vektorraum V enthalten ist, während ihre Zielmenge in dem zugehörigen Skalarkörper liegt (zB von einer Fläche R<sup>2</sup> in eine Linie R)\n",
        "\n",
        "* Exkurs Funktionalanalyse: Hier ist der untersuchte Vektorraum V zumeist ein Funktionenraum, also ein Vektorraum, dessen Elemente reell- oder komplexwertige Funktionen sind, wobei diesen durch Funktionale Skalare zugeordnet werden. \n",
        "\n",
        "* Als bedeutendes Beispiel eines solchen Funktionals kann etwa das [Lebesgue-Integral](https://de.m.wikipedia.org/wiki/Lebesgue-Integral) gelten."
      ]
    },
    {
      "cell_type": "markdown",
      "metadata": {
        "id": "HSN7s0zcE5Rx"
      },
      "source": [
        "> Lebesgue definite integral is a functional, but a [definite Bochner integral](https://math.stackexchange.com/questions/924427/are-all-definite-integrals-considered-functionals) is not a functional, but a linear operator."
      ]
    },
    {
      "cell_type": "markdown",
      "metadata": {
        "id": "awbdQaH-wzAK"
      },
      "source": [
        "**Unterschied zwischen Funktion und Funktional**"
      ]
    },
    {
      "cell_type": "markdown",
      "metadata": {
        "id": "br-g6M4p2tPd"
      },
      "source": [
        "**Function:**\n",
        "$\\mathbb{R} \\rightarrow f(x) \\rightarrow \\mathbb{R}$\n",
        "\n",
        "**Functional:**\n",
        "$f(x) \\rightarrow J[f(x)] \\rightarrow \\mathbb{R}$"
      ]
    },
    {
      "cell_type": "markdown",
      "metadata": {
        "id": "L9pDmvzc27ag"
      },
      "source": [
        "* Eine Funktion bildet Elemente eines Körpers auf andere ab, zum Beispiel. $f: \\mathbb{R}^{3} \\rightarrow \\mathbb{R}^{2}$\n",
        "\n",
        "* Ein Funktional hingegen ist ein Operator, der Elemente eines Vektorraumes $V$ auf den [Skalarkörper](https://de.wikipedia.org/wiki/Skalar_(Mathematik))\n",
        "$K$ abbildet, über dem $V$ modelliert ist. Diese Elemente können zum Beispiel selber Funktionen sein\n",
        "(wenn der Vektorraum ein Funktionenraum ist)"
      ]
    },
    {
      "cell_type": "markdown",
      "metadata": {
        "id": "eU75x1wPLJhq"
      },
      "source": [
        "**Example of [Linear functional](https://de.m.wikipedia.org/wiki/Funktional#Lineare_Funktionale)**"
      ]
    },
    {
      "cell_type": "markdown",
      "metadata": {
        "id": "4VNcfHpPNdiI"
      },
      "source": [
        "* In den meisten Bereichen der Funktionalanalysis, etwa in der Theorie der topologischen Vektorräume, wird der Begriff Funktional (ohne weiteren Zusatz) als Synonym für lineare Funktionale benutzt. \n",
        "\n",
        "* Ein solches Funktional ist also definitionsgemäß eine Linearform, also **eine lineare Abbildung des Vektorraumes $V$ in seinen Skalarkörper $K$.**\n",
        "\n",
        "* Die Menge all dieser Funktionale ist wiederum in natürlicher Form ein Vektorraum uber dem gleichen Körper $\\mathbb{K}$, indem man für zwei Funktionale $f$ und $g$ über $V$ die Addition und Skalarmultiplikation punktweise definiert, $d .$ h.\n",
        "\n",
        "> $\n",
        "(f+g)(x):=f(x)+g(x) \\quad(\\lambda f)(x):=\\lambda(f(x)), x \\in V\n",
        "$\n",
        "\n",
        "* Der Vektorraum der linearen Funktionale auf dem Vektorraum $V$ wird der algebraische **Dualraum** genannt und oft mit $V^{*}$ bezeichnet."
      ]
    },
    {
      "cell_type": "markdown",
      "metadata": {
        "id": "yO693Lr5ttLu"
      },
      "source": [
        "**Funktionaldeterminante**"
      ]
    },
    {
      "cell_type": "markdown",
      "metadata": {
        "id": "ozH0k-1StvhC"
      },
      "source": [
        "* Die [Funktionaldeterminante](https://de.wikipedia.org/wiki/Funktionaldeterminante) oder Jacobi-Determinante ist eine mathematische Größe, die in der mehrdimensionalen Integralrechnung, also der **Berechnung von Oberflächen- und Volumenintegralen**, eine Rolle spielt. Insbesondere findet sie in der Flächenformel und dem aus dieser hervorgehenden Transformationssatz Verwendung.\n",
        "\n",
        "* Für eine differenzierbare Funktion $f: \\mathbb{R}^{n} \\rightarrow \\mathbb{R}^{n}$ ist die Funktionaldeterminante definiert als\n",
        "die Determinante der Jacobi-Matrix von $f,$ also als\n",
        "det $D f(x)$\n",
        "mit\n",
        "$\n",
        "D f(x)=\\left(\\frac{\\partial f_{i}}{\\partial x_{j}}(x)\\right)_{i, j=1, \\ldots, n}\n",
        "$\n",
        "\n",
        "* Für die Transformation von Volumenelementen, einen wichtigen Anwendungsfall in der Physik, reicht diese Definition aus. Die Flächenformel der Maß- und Integrationstheorie beschreibt dagegen auch, wie sich Integrale über Funktionen, die Räume unterschiedlicher Dimension ineinander abbilden, transformieren. \n",
        "\n",
        "* Beispiel: Bei der Integration über geometrische Objekte ist es oft unpraktisch, über kartesische Koordinaten zu integrieren. So lässt sich in der Physik das Integral über ein radialsymmetrisches Potentialfeld, dessen Wert nur von einem Radius $r$ abhängt, wesentlich leichter in Kugelkoordinaten berechnen.\n",
        "Um dies zu tun, wendet man eine Koordinatentransformation $\\Phi$  an."
      ]
    },
    {
      "cell_type": "markdown",
      "metadata": {
        "id": "gQTz9Ux4z3fz"
      },
      "source": [
        "**Linearform**"
      ]
    },
    {
      "cell_type": "markdown",
      "metadata": {
        "id": "AU3vmZmUPDVe"
      },
      "source": [
        "Stetige lineare Funktionale ([Linearform](https://de.m.wikipedia.org/wiki/Linearform)): \n",
        "\n",
        "* **In einem topologischen Vektorraum sind im Allgemeinen nicht alle linearen Funktionale steti**g. \n",
        "\n",
        "> **A typical example of a linear functional is integration** [Source](https://en.m.wikipedia.org/wiki/Linear_form)\n",
        "\n",
        "* Die stetigen linearen Funktionale innerhalb des algebraischen Dualraums, also die auf $V$ gegebenen stetigen [Linearformen](https://de.m.wikipedia.org/wiki/Linearform), bilden einen linearen Unterraum von $V^{*}$. **Dies ist der topologische Dualraum von $V$, der in der Funktionalanalysis einer der Hauptgegenstände ist.** \n",
        "\n",
        "* Er wird meist mit der Bezeichnung $V'$ gekennzeichnet, von einigen Autoren jedoch auch mit derselben Bezeichnung wie der algebraische Dualraum, also ebenfalls mit $V^{*}$.\n",
        "\n",
        "* Im Kontext der Funktionalanalysis, das heißt im Falle eines topologischen \n",
        "$\\mathbb {R}$ - oder $\\mathbb {C}$-Vektorraums, sind die betrachteten Linearformen meistens [stetige lineare Funktionale](https://de.m.wikipedia.org/wiki/Funktional#Stetige_lineare_Funktionale).\n",
        "\n",
        "* Es sei $K$ ein Körper und $V$ ein $K$ -Vektorraum. Eine Abbildung $f: V \\rightarrow K$ heißt Linearform, wenn für alle Vektoren $x, y \\in V$ und Skalare $\\alpha \\in K$ gilt:\n",
        "\n",
        "1. $f(x+y)=f(x)+f(y)$ (**Additivität**);\n",
        "\n",
        "2. $f(\\alpha x)=\\alpha f(x)$ (**Homogenität**).\n",
        "\n",
        "* 'Linear form' is a more modern and abstract concept of 'functional': In modern linear algebra, functional refers to a linear mapping from a vector space $V$ into its field of scalars, i.e., it refers to an element of the dual space $V^{*}$. \n",
        "\n",
        "* Die Linearform ist ein Begriff aus dem mathematischen Teilgebiet der linearen Algebra. Man bezeichnet damit eine lineare Abbildung von einem Vektorraum in den zugrundeliegenden Körper.\n",
        "\n",
        "* **Übergang zu Dualraum**: Die Menge aller Linearformen (= stetigen, linearen Abbildungen) über einem gegebenen Vektorraum $V$ bildet dessen Dualraum $V^{*}$ und damit selbst wieder in natürlicher Weise einen $K$ -Vektorraum."
      ]
    },
    {
      "cell_type": "markdown",
      "metadata": {
        "id": "iIbQuPITZ5m7"
      },
      "source": [
        "**Bilinearform**"
      ]
    },
    {
      "cell_type": "markdown",
      "metadata": {
        "id": "4kUzcVZQaDG-"
      },
      "source": [
        "[Bilinearform](https://de.wikipedia.org/wiki/Bilinearform), Bilinearform: cross product of two vectors, normal and tangent, see [Frenet–Serret_formulas](https://en.m.wikipedia.org/wiki/Frenet–Serret_formulas)."
      ]
    },
    {
      "cell_type": "markdown",
      "metadata": {
        "id": "sjqKk4EMJh4k"
      },
      "source": [
        "**[One-form](https://en.m.wikipedia.org/wiki/One-form) (Pfaffsche Form)**"
      ]
    },
    {
      "cell_type": "markdown",
      "metadata": {
        "id": "y_YJP6zFQgk1"
      },
      "source": [
        "* In linear algebra, a one-form on a vector space is the same as a linear functional (linear form) on the space. \n",
        "\n",
        "* The usage of one-form in this context usually distinguishes the one-forms from higher-degree multilinear functionals on the space. For details, see [linear functional / linear form](https://en.m.wikipedia.org/wiki/Linear_form)."
      ]
    },
    {
      "cell_type": "markdown",
      "metadata": {
        "id": "8mt9jLwJIlKa"
      },
      "source": [
        "**Example of [Non-linear functional](https://de.m.wikipedia.org/wiki/Funktional#Nichtlineare_Funktionale)**\n",
        "\n",
        "* Nichtlineare Funktionale traten historisch erstmals in der **Variationsrechnung** auf. \n",
        "\n",
        "* Ihr Studium unterscheidet sich grundlegend von dem der oben beschriebenen linearen Funktionale. In der Variationsrechnung setzt man es sich beispielsweise zum Ziel, die Extremalpunkte solcher Funktionalpunkte zu bestimmen. \n",
        "\n",
        "* Zu diesem Zweck benötigt man eine Verallgemeinerung des Ableitungsbegriffs der mehrdimensionalen Analysis, d. h. eine Definition des Differentials des Funktionals. In der Variationsrechnung und in den Anwendungen ist dieses Differential unter dem Namen Variationsableitung bekannt, mathematisch präzisiert wird der Begriff z. B. durch die Fréchet-Ableitung und die Gateaux-Ableitung."
      ]
    },
    {
      "cell_type": "markdown",
      "metadata": {
        "id": "W8l9oubJL290"
      },
      "source": [
        "[**Functional derivative**](https://en.m.wikipedia.org/wiki/Functional_derivative)"
      ]
    },
    {
      "cell_type": "markdown",
      "metadata": {
        "id": "-evrFl9ZJ8c1"
      },
      "source": [
        "* Functional derivatives are used in Lagrangian mechanics. They are derivatives of functionals: i.e. they carry information on how a functional changes when the input function changes by a small amount."
      ]
    },
    {
      "cell_type": "markdown",
      "metadata": {
        "id": "ZBGRXzCzHdHm"
      },
      "source": [
        "[**Functional integration**](https://en.m.wikipedia.org/wiki/Functional_integration)"
      ]
    },
    {
      "cell_type": "markdown",
      "metadata": {
        "id": "UdfJLCj5J-sg"
      },
      "source": [
        "* Richard Feynman used functional integrals as the central idea in his sum over the histories formulation of quantum mechanics. This usage implies an integral taken over some function space."
      ]
    },
    {
      "cell_type": "markdown",
      "metadata": {
        "id": "n7txO-4l254v"
      },
      "source": [
        "#### **Dualraum (=Menge aller Funktionale)**"
      ]
    },
    {
      "cell_type": "markdown",
      "metadata": {
        "id": "G7hBtcqkOjDR"
      },
      "source": [
        "**Der topologische Dualraum**"
      ]
    },
    {
      "cell_type": "markdown",
      "metadata": {
        "id": "DtaQ30kuOaZQ"
      },
      "source": [
        "Falls der zugrundeliegende Vektorraum \n",
        "$V$ ein topologischer Vektorraum ist, kann man zusätzlich zum algebraischen auch den topologischen Dualraum betrachten. Dieser ist die Menge aller stetigen linearen Funktionale und wird in der Regel mit \n",
        "$V\\,'$ bezeichnet. Die Unterscheidung zwischen algebraischem und topologischem Dualraum ist nur dann wichtig, wenn \n",
        "$V$ ein unendlichdimensionaler Raum ist, da alle linearen Operatoren, die auf einem endlichdimensionalen topologischen Vektorraum definiert sind, auch stetig sind. \n",
        "\n",
        "Somit sind der algebraische und der topologische Dualraum identisch. Wenn im Zusammenhang mit topologischen Vektorräumen von einem Dualraum die Rede ist, ist meistens der topologische Dualraum gemeint. Das Studium dieser Dualräume ist eines der Hauptgebiete der Funktionalanalysis."
      ]
    },
    {
      "cell_type": "markdown",
      "metadata": {
        "id": "Wpl9KJI1OX2e"
      },
      "source": [
        "https://de.wikipedia.org/wiki/Dualraum#Der_topologische_Dualraum"
      ]
    },
    {
      "cell_type": "markdown",
      "metadata": {
        "id": "GtI4LdT4BWYX"
      },
      "source": [
        "Beim Studium normierter Räume ist die Untersuchung des Dualraumes wichtig. Der Dualraum besteht aus allen **stetigen linearen** Funktionen vom **normierten** Raum in seinen Skalarkörper, also in die reellen oder komplexen Zahlen. Der Bidual, also der Dualraum des Dualraums, muss nicht isomorph zum ursprünglichen Raum sein, aber es gibt stets einen natürlichen Monomorphismus von einem Raum in seinen Bidual. Ist dieser spezielle Monomorphismus auch surjektiv, dann spricht man von einem reflexiven Banachraum.\n",
        "\n"
      ]
    },
    {
      "cell_type": "markdown",
      "metadata": {
        "id": "2IWExb4pLbRI"
      },
      "source": [
        "Dualraum: https://youtu.be/2vvjrBbcTZU"
      ]
    },
    {
      "cell_type": "markdown",
      "metadata": {
        "id": "0dayuxImzTOv"
      },
      "source": [
        "* In den meisten Bereichen der Funktionalanalysis, etwa in der Theorie der [topologischen\n",
        "Vektorräume](https://de.m.wikipedia.org/wiki/Topologischer_Vektorraum), wird der Begriff Funktional (ohne weiteren Zusatz) als Synonym für lineare Funktionale\n",
        "benutzt. \n",
        "\n",
        "* Ein solches Funktional ist also definitionsgemäß eine [Linearform](https://de.m.wikipedia.org/wiki/Linearform), also eine lineare\n",
        "Abbildung des Vektorraumes $V$ in seinen Skalarkörper $\\mathbb{K}$. \n",
        "\n",
        "* Die Menge all dieser Funktionale ist\n",
        "wiederum in natürlicher Form ein Vektorraum über dem gleichen Körper $\\mathbb{K}$, indem man für zwei\n",
        "Funktionale $f$ und $g$ über $V$ die Addition und Skalarmultiplikation punktweise definiert, d. h.\n",
        "\n",
        "\n",
        "> $\n",
        "(f+g)(x):=f(x)+g(x) \\quad(\\lambda f)(x):=\\lambda(f(x)), x \\in V\n",
        "$\n",
        "\n",
        "Der Vektorraum der linearen Funktionale auf dem Vektorraum $V$ wird der algebraische Dualraum genannt und oft mit $V^{*}$ bezeichnet."
      ]
    },
    {
      "cell_type": "markdown",
      "metadata": {
        "id": "VWv2DHm71k_n"
      },
      "source": [
        "**Beispiele von Dualräumen**"
      ]
    },
    {
      "cell_type": "markdown",
      "metadata": {
        "id": "QPIQCssA1-w-"
      },
      "source": [
        "Für den Vektorraum $V=\\mathbb{R}^{n}$ **ist der Dualraum kanonisch isomorph zum Vektorraum selbst**, $\\mathrm{d} .$ h. $V \\cong V$ Der kanonische Isomorphismus $I: \\mathbb{R}^{n} \\rightarrow\\left(\\mathbb{R}^{n}\\right)^{*}$ wird dabei über das [Standardskalarprodukt](https://de.m.wikipedia.org/wiki/Standardskalarprodukt) vermittelt:\n",
        "\n",
        "$\n",
        "(I(x))(y):=\\langle x, y\\rangle=\\sum_{i=1}^{n} x_{i} \\cdot y_{i}\n",
        "$\n",
        "\n",
        "Für den Vektorraum $V=\\mathbb{C}^{n}$ gilt ähnliches wie im ersten Fall, allerdings ist die kanonische Abbildung $I: \\mathbb{C}^{n} \\rightarrow\\left(\\mathbb{C}^{n}\\right)^{*}$ in diesem Fall semilinear:\n",
        "\n",
        "$\n",
        "(I(x))(y):=\\langle x, y\\rangle=\\sum_{i=1}^{n} \\overline{x_{i}} \\cdot y_{i}\n",
        "$\n",
        "\n",
        "Der Dualraum ist in diesem Fall also gleich groB, hat aber bezüglich der kanonischen Abbildung eine\n",
        "andere Skalarmultiplikation. Im Sinne der linearen Algebra sagt man auch: Der Dualraum ist kanonisch\n",
        "isomorph zum komplex konjugierten Vektorraum."
      ]
    },
    {
      "cell_type": "markdown",
      "metadata": {
        "id": "OuJVFzQ22tcK"
      },
      "source": [
        "*Beispiele topologischer Dualräume*\n",
        "\n",
        "* Für endlichdimensionale Vektorräume gibt es eine natürliche Topologie ([Normtopologie](https://de.m.wikipedia.org/wiki/Normtopologie)), die aus der euklidischen Norm hervorgeht (genauer gesagt: aus einer beliebigen euklidischen Norm, wenn man eine Basis wählt). Dies ist gerade die Topologie, die der normalen Standard-Analysis zugrunde liegt, und in dieser ist jedes lineare Funktional stetig. Das heißt, der algebraische Dualraum ist gleich dem topologischen Dualraum.\n",
        "\n",
        "* Im unendlichdimensionalen Fall ist der topologische Dualraum (fast) immer ein echter Teilraum des algebraischen Dualraumes.\n",
        "\n",
        "* In **normierten Vektorräumen ist ein Funktional $f$ genau dann stetig, wenn es beschränkt ist**, das heißt $\\sup _{\\|x\\| \\leq 1}|f(x)|<\\infty$. Der topologische Dualraum ist dann automatisch ein Banachraum mit der oben angegebenen Supremumsnorm.\n",
        "\n",
        "* In Hilberträumen ist der topologische Dualraum kanonisch mit dem Ursprungsraum identifizierbar (Darstellungssatz von Fréchet-Riesz). Die Identifikation erfolgt wie im endlichdimensionalen Fall über das Skalarprodukt: $(I(y)):=\\langle\\cdot, y\\rangle$\n",
        "\n",
        "* Der topologische Dualraum des Raumes der unendlich oft stetig differenzierbaren Funktionen mit kompaktem Träger auf der reellen Achse (die so genannten Testfunktionen) mit einer bestimmten (hier nicht näher erklärten) Topologie wird als Raum der [Distributionen](https://de.m.wikipedia.org/wiki/Distribution_(Mathematik)) bezeichnet. In diesem Raum liegt auch das weiter oben genannte Beispiel des Dirac-Delta-Funktionals."
      ]
    },
    {
      "cell_type": "markdown",
      "metadata": {
        "id": "EfrXUsI54L2_"
      },
      "source": [
        "#### **Distributionen**"
      ]
    },
    {
      "cell_type": "markdown",
      "metadata": {
        "id": "usqikWJzWLik"
      },
      "source": [
        "https://www.youtube.com/watch?v=1Vm9p4CvyV4"
      ]
    },
    {
      "cell_type": "markdown",
      "metadata": {
        "id": "2zWKKdasSS1o"
      },
      "source": [
        "https://en.wikipedia.org/wiki/Generalized_function"
      ]
    },
    {
      "cell_type": "markdown",
      "metadata": {
        "id": "a4JbcHO2SUiV"
      },
      "source": [
        "https://en.wikipedia.org/wiki/Distribution_(mathematics)"
      ]
    },
    {
      "cell_type": "markdown",
      "metadata": {
        "id": "dXWokdbUSK4s"
      },
      "source": [
        "https://mathepedia.de/Distributionen.html"
      ]
    },
    {
      "cell_type": "markdown",
      "metadata": {
        "id": "CF7FtCK145Zl"
      },
      "source": [
        "* Eine Distribution bezeichnet eine **besondere Art eines Funktionals** (=eine Funktion, die anderen Funktionen eine Zahl zuordnet) im Bereich der partiellen Differentialgleichungen\n",
        "\n",
        "* Es gibt partielle Differentialgleichungen, die hinreichend oft differenzierbare oder gar keine klassischen Lösungen haben, aber Lösungen im distributionellen Sinn. \n",
        "\n",
        "* Daher können Distributionen als eine **Verallgemeinerung von Funktionen** angesehen werden. (z.B. kann man jede Distribution differenzieren.)\n",
        "\n",
        "* Problem: Losungen mit 'Knicken' in Differentialgleichungen. Begriff einer Ableitung ist zu stark, man muss also die Losungen verallgemeinern.\n",
        "\n",
        "* zB Ableitung der [Heaviside Funktion](https://de.wikipedia.org/wiki/Heaviside-Funktion) - \n",
        "\n",
        "  * Nutzung der Delta Funktion. Delta Funktion ist Null ausserhalb der kritischen Stelle Null.\n",
        "  * Aber: delta ist keine Funktion im ublichen Sinn. Delta ist Null fast uberall (bez. des Lebesgue Masses)\n",
        "  * Das heisst jegliches Integral ist Null.\n",
        "\n",
        "* Losung: Delta wird als 'Distribution' definiert (oder auch: 'verallgemeinerte Funktion'). Funktionen fasst man jetzt als eine Dichte auf (zB Massedichte auf einem eindimensionalen Stab). Delta-Funktion ist dann eine singulare Dichte (Punktmasse).\n",
        "\n",
        "https://www.youtube.com/watch?v=c5WYrQK_7ls\n",
        "\n",
        "* Testfunktionen: Miss die Dichte aus mit einem 'virtuellen Messgerat' unterhalb einer Funktion. Sollten stetig und lokalisiert sein. \n",
        "\n"
      ]
    },
    {
      "cell_type": "markdown",
      "metadata": {
        "id": "AA3C2OhEHkhZ"
      },
      "source": [
        "Test Functions for Optimizations:\n",
        "\n",
        "https://towardsdatascience.com/optimization-eye-pleasure-78-benchmark-test-functions-for-single-objective-optimization-92e7ed1d1f12"
      ]
    },
    {
      "cell_type": "markdown",
      "metadata": {
        "id": "kkc6g0_ebFGu"
      },
      "source": [
        "Sei $\\Omega \\subset \\mathbb{R}^{n}$ eine offene, nichtleere Menge. Eine Distribution $T$ ist ein stetiges und lineares Funktional auf dem Raum der [Testfunktionen](https://de.m.wikipedia.org/wiki/Testfunktion) $\\mathcal{D}(\\Omega)$.\n",
        "\n",
        "In anderen Worten eine Abbildung $T: \\mathcal{D}(\\Omega) \\rightarrow \\mathbb{C}$ bzw. $\\mathbb{R},$ so dass für alle $\\phi_{1}, \\phi_{2} \\in \\mathcal{D}(\\Omega)$ und $\\lambda \\in \\mathbb{C}$ gilt $T\\left(\\phi_{1}+\\lambda \\phi_{2}\\right)=T\\left(\\phi_{1}\\right)+\\lambda T\\left(\\phi_{2}\\right)$ und $T\\left(\\phi_{n}\\right) \\rightarrow T(\\phi)$ wann immer $\\phi_{n} \\rightarrow \\phi$ in $\\mathcal{D}(\\Omega)$"
      ]
    },
    {
      "cell_type": "markdown",
      "metadata": {
        "id": "wKQfU_qJZeQ3"
      },
      "source": [
        "**Temperierte Distribution**\n",
        "\n",
        "* Eine [temperierte Distribution](https://de.m.wikipedia.org/wiki/Temperierte_Distribution) ist ein Spezialfall einer Distribution\n",
        "\n",
        "* Laurent Schwartz führte 1947 den Raum der temperierten Distributionen ein, um die Fourier-Transformation in seine Distributionentheorie integrieren zu können."
      ]
    },
    {
      "cell_type": "markdown",
      "metadata": {
        "id": "q0RpKoo8XswO"
      },
      "source": [
        "**Delta-Distribution** ([Dirac-Funktion](https://de.m.wikipedia.org/wiki/Delta-Distribution))\n",
        "* ist eine spezielle irreguläre Distribution mit kompaktem Träger. Sie hat in der Mathematik und Physik grundlegende Bedeutung. Ihr übliches Formelsymbol ist δ (kleines Delta)."
      ]
    },
    {
      "cell_type": "markdown",
      "metadata": {
        "id": "gUQJVjiw4Ou5"
      },
      "source": [
        "https://de.m.wikipedia.org/wiki/Distribution_(Mathematik)"
      ]
    },
    {
      "cell_type": "markdown",
      "metadata": {
        "id": "pXO6GrABRMxJ"
      },
      "source": [
        "**Algebras of generalized functions**"
      ]
    },
    {
      "cell_type": "markdown",
      "metadata": {
        "id": "b6Ly8zs8RdZQ"
      },
      "source": [
        "* become accepted as definitive, for many purposes, was the theory of distributions, developed by Laurent Schwartz. It can be called a principled theory, based on duality theory for topological vector spaces.\n",
        "\n",
        "* This theory was very successful and is still widely used, but suffers from the main drawback that **it allows only linear operations.** In other words, **distributions cannot be multiplied** (except for very special cases): unlike most classical function spaces, they are not an algebra. For example it is not meaningful to square the Dirac delta function. Work of Schwartz from around 1954 showed that was an intrinsic difficulty.\n",
        "\n",
        "* Another solution of the multiplication problem is dictated by the [path integral formulation](https://en.wikipedia.org/wiki/Path_integral_formulation) of quantum mechanics. Since this is required to be equivalent to the Schrödinger theory of quantum mechanics which is invariant under coordinate transformations, this property must be shared by path integrals. This fixes all products of generalized functions as shown by H. Kleinert and A. Chervyakov. The result is equivalent to what can be derived from [dimensional regularization](https://en.wikipedia.org/wiki/Dimensional_regularization).\n",
        "\n",
        "* **The problem of multiplication of distributions, a limitation of the Schwartz distribution theory, becomes serious for non-linear problems.**\n",
        "\n"
      ]
    },
    {
      "cell_type": "markdown",
      "metadata": {
        "id": "Vah1nYJrRRUe"
      },
      "source": [
        "https://en.wikipedia.org/wiki/Generalized_function#Algebras_of_generalized_functions"
      ]
    },
    {
      "cell_type": "markdown",
      "metadata": {
        "id": "hIeZyPJFY6zQ"
      },
      "source": [
        "**Test Function**"
      ]
    },
    {
      "cell_type": "markdown",
      "metadata": {
        "id": "HGPKMjmZrkfa"
      },
      "source": [
        "* Als Testfunktionen bezeichnet man gewisse Typen von Funktionen, die in der Distributionentheorie eine wesentliche Rolle spielen. Üblicherweise **fasst man Testfunktionen eines bestimmten Typs zu einem Vektorraum** zusammen. \n",
        "\n",
        "* **Die zugehörigen Distributionen sind dann lineare Funktionale auf diesen Vektorräumen**. Ihr Name rührt daher, dass man die Distributionen (im Sinne linearer Abbildungen) auf die Testfunktionen anwendet und dadurch testet\n",
        "\n",
        "* Es gibt verschiedene Arten von Testfunktionen. In der mathematischen Literatur werden häufig der Raum der glatten Funktionen mit kompaktem Träger oder der Schwartz-Raum als Testfunktionenraum bezeichnet."
      ]
    },
    {
      "cell_type": "markdown",
      "metadata": {
        "id": "G6SK2fviw7Fx"
      },
      "source": [
        "formulier problem in variationell (sobolove räume), und dann Eigenschaften von Testfunktionen ausnutzen"
      ]
    },
    {
      "cell_type": "markdown",
      "metadata": {
        "id": "EkzmP7czg9vE"
      },
      "source": [
        "https://www.youtube.com/watch?v=beu28z_q3po"
      ]
    },
    {
      "cell_type": "markdown",
      "metadata": {
        "id": "b_GNr0ICY8zM"
      },
      "source": [
        "https://en.wikipedia.org/wiki/Bump_function"
      ]
    },
    {
      "cell_type": "markdown",
      "metadata": {
        "id": "dOcnX24HY_CW"
      },
      "source": [
        "https://de.m.wikipedia.org/wiki/Testfunktion"
      ]
    },
    {
      "cell_type": "markdown",
      "metadata": {
        "id": "kP3NPe1VZAEO"
      },
      "source": [
        "https://en.m.wikipedia.org/wiki/Test_functions_for_optimization"
      ]
    },
    {
      "cell_type": "markdown",
      "metadata": {
        "id": "IqWJSAyutp_e"
      },
      "source": [
        "**Schwarz-Raum**"
      ]
    },
    {
      "cell_type": "markdown",
      "metadata": {
        "id": "ZdsUKksJttCJ"
      },
      "source": [
        "https://de.m.wikipedia.org/wiki/Schwartz-Raum"
      ]
    },
    {
      "cell_type": "markdown",
      "metadata": {
        "id": "2MenUOeZ94mb"
      },
      "source": [
        "#### **Nichtstandardanalysis**"
      ]
    },
    {
      "cell_type": "markdown",
      "metadata": {
        "id": "TDTU_RUu5wu1"
      },
      "source": [
        "**Nichtstandardanalysis (Infinitesimalrechnung)**"
      ]
    },
    {
      "cell_type": "markdown",
      "metadata": {
        "id": "11Txw-FXHCdM"
      },
      "source": [
        "https://youtu.be/WYijIV5JrKg"
      ]
    },
    {
      "cell_type": "markdown",
      "metadata": {
        "id": "P6Y_nhc_-u7P"
      },
      "source": [
        "* There are also applications of nonstandard analysis to the theory of stochastic processes, particularly constructions of Brownian motion as random walks. "
      ]
    },
    {
      "cell_type": "markdown",
      "metadata": {
        "id": "Fnbn2KGz-YM5"
      },
      "source": [
        "https://de.m.wikipedia.org/wiki/Nichtstandardanalysis"
      ]
    },
    {
      "cell_type": "markdown",
      "metadata": {
        "id": "2vBW-IBcqmDY"
      },
      "source": [
        "https://de.m.wikipedia.org/wiki/Infinitesimalrechnung"
      ]
    },
    {
      "cell_type": "markdown",
      "metadata": {
        "id": "vu9AtQtn9-b0"
      },
      "source": [
        "\n",
        "https://en.wikipedia.org/wiki/Surreal_number\n",
        "\n",
        "https://en.wikipedia.org/wiki/Hyperreal_number\n",
        "\n",
        "https://en.wikipedia.org/wiki/Infinitesimal\n"
      ]
    },
    {
      "cell_type": "markdown",
      "metadata": {
        "id": "7cOvYI6xr_fl"
      },
      "source": [
        "#### ****Integraltransformationen****"
      ]
    },
    {
      "cell_type": "markdown",
      "metadata": {
        "id": "9CK7lhFotFU6"
      },
      "source": [
        "##### **Uncertainty Principle**"
      ]
    },
    {
      "cell_type": "markdown",
      "metadata": {
        "id": "ii4i3jgAc_VT"
      },
      "source": [
        "https://jeremykun.com/2013/12/30/the-two-dimensional-fourier-transform-and-digital-watermarking/"
      ]
    },
    {
      "cell_type": "markdown",
      "metadata": {
        "id": "68omXsiyr8wB"
      },
      "source": [
        "Einige Integraloperatoren nennt man traditionell eher [Integraltransformationen](https://de.wikipedia.org/wiki/Integraloperator#Integraltransformationen). Sie spielen zum Beispiel in der Signalverarbeitung eine wesentliche Rolle und dienen der besseren Handhabe und Analyse des Informationsgehaltes eines Signals x.\n",
        "\n",
        "  * [Fourier-Transformation](https://de.m.wikipedia.org/wiki/Fourier-Transformation)\n",
        "\n",
        "  * [Laplace-Transformation](https://de.m.wikipedia.org/wiki/Laplace-Transformation)"
      ]
    },
    {
      "cell_type": "markdown",
      "metadata": {
        "id": "a1O3GLIzydbX"
      },
      "source": [
        "Exkurs: siehe [Liste von Transformationen in der Mathematik](https://de.wikipedia.org/wiki/Liste_von_Transformationen_in_der_Mathematik)"
      ]
    },
    {
      "cell_type": "markdown",
      "metadata": {
        "id": "CVio9HDr8sQL"
      },
      "source": [
        "**Integraltransformationen**"
      ]
    },
    {
      "cell_type": "markdown",
      "metadata": {
        "id": "9GbLrP_B1TV7"
      },
      "source": [
        "https://www.youtube.com/watch?v=MBnnXbOM5S4"
      ]
    },
    {
      "cell_type": "markdown",
      "metadata": {
        "id": "Zq2O_fzItHn5"
      },
      "source": [
        "![cc](https://raw.githubusercontent.com/deltorobarba/repo/master/fourier_01.PNG)"
      ]
    },
    {
      "cell_type": "markdown",
      "metadata": {
        "id": "sMbY7VJbtL7P"
      },
      "source": [
        "![cc](https://raw.githubusercontent.com/deltorobarba/repo/master/fourier_02.png)"
      ]
    },
    {
      "cell_type": "markdown",
      "metadata": {
        "id": "zIjxp_eItPpd"
      },
      "source": [
        "* short signal correlate with a wide range of frequencies, and only wide signals correlate with a short range of frequencies (denser probability)\n",
        "\n",
        "* Fourier transform gives a way to view any signal not only in terms of intensity at each point in time, but instead in terms of strengths of various frequencies within it.\n",
        "\n",
        "* Fourier transform: follow the center of mass of the wound-up graph within frequency F, the position of that center of mass encodes the strengths of that frequency in the original signal\n",
        "\n",
        "* the distance between that center of mass and origin captures the strengths of that frequency and the angle of that center of mass (the horizontal / sine-values at y-axes / imaginary numbers) corresponds to the phase of the given frequency.\n",
        "\n",
        "https://blogs.arubanetworks.com/industries/frequency-cycle-wavelength-amplitude-and-phase/"
      ]
    },
    {
      "cell_type": "markdown",
      "metadata": {
        "id": "k7PjHTH-unrj"
      },
      "source": [
        "![cc](https://raw.githubusercontent.com/deltorobarba/repo/master/fourier_04.png)"
      ]
    },
    {
      "cell_type": "markdown",
      "metadata": {
        "id": "aN6vBU4HupqB"
      },
      "source": [
        "* this graph above says that the dominant frequency of this signal is at 5 beats per second.\n",
        "\n",
        "* equally importantly (the graph below) the fact that it's a little spread out around that five is an indication that pure sine waves near 5 beats per second also correlate pretty well with the signal - that is key for the uncertainty principle !!"
      ]
    },
    {
      "cell_type": "markdown",
      "metadata": {
        "id": "oCo8rXxoukot"
      },
      "source": [
        "![cc](https://raw.githubusercontent.com/deltorobarba/repo/master/fourier_03.png)"
      ]
    },
    {
      "cell_type": "markdown",
      "metadata": {
        "id": "PGuAdWQiwmai"
      },
      "source": [
        "* So what happens of we change the length of the signal? The Fourier transform gets sharper / more confident with a sharp drop-off in the magnitude as the frequency shifts away from the 5 beats per second. \n",
        "\n",
        "* a signal concentrated in time must have a spread out Fourier transform meaning it correlates with a wide range of frequencies"
      ]
    },
    {
      "cell_type": "markdown",
      "metadata": {
        "id": "hyhjIsHOwo4z"
      },
      "source": [
        "![cc](https://raw.githubusercontent.com/deltorobarba/repo/master/fourier_05.png)"
      ]
    },
    {
      "cell_type": "markdown",
      "metadata": {
        "id": "UDGSvVS7wpvk"
      },
      "source": [
        "![cc](https://raw.githubusercontent.com/deltorobarba/repo/master/fourier_06.png)"
      ]
    },
    {
      "cell_type": "markdown",
      "metadata": {
        "id": "r5tmZImQx9sE"
      },
      "source": [
        "* For a long period of time, the area under the 5 beats per second is smaller and sharper, because it is more sure about the result of 5 beats per second given many examples.\n",
        "\n",
        "* If on the other hand the signal was localized to a short period of time, the frequency plot corresponds to a much broader peak around the five beats per second"
      ]
    },
    {
      "cell_type": "markdown",
      "metadata": {
        "id": "My8esM3NxNGK"
      },
      "source": [
        "![cc](https://raw.githubusercontent.com/deltorobarba/repo/master/fourier_07.png)"
      ]
    },
    {
      "cell_type": "markdown",
      "metadata": {
        "id": "IYiMzf7mxOJC"
      },
      "source": [
        "![cc](https://raw.githubusercontent.com/deltorobarba/repo/master/fourier_08.png)"
      ]
    },
    {
      "cell_type": "markdown",
      "metadata": {
        "id": "AkGlQfd1yMiD"
      },
      "source": [
        "##### **Fourier Transform**"
      ]
    },
    {
      "cell_type": "markdown",
      "metadata": {
        "id": "1qH-oTUz1Eq4"
      },
      "source": [
        "Fourier transform: thinking of a wave function in time to a wave function over space. Tells us how much various pure frequencies corresponds with the wave in time. "
      ]
    },
    {
      "cell_type": "markdown",
      "metadata": {
        "id": "48e7bXmM1GPG"
      },
      "source": [
        "![cc](https://raw.githubusercontent.com/deltorobarba/repo/master/fourier_09.png)"
      ]
    },
    {
      "cell_type": "markdown",
      "metadata": {
        "id": "jQEjmTC41Iw_"
      },
      "source": [
        "![cc](https://raw.githubusercontent.com/deltorobarba/repo/master/fourier_10.png)"
      ]
    },
    {
      "cell_type": "markdown",
      "metadata": {
        "id": "NF31Jo3g5Bib"
      },
      "source": [
        "> **Fourier** $\\quad X(\\omega)=\\int_{-\\infty}^{\\infty} x(t) e^{-i \\omega t} d t$"
      ]
    },
    {
      "cell_type": "markdown",
      "metadata": {
        "id": "FVZQtqFt4a3P"
      },
      "source": [
        "- Transform signal intensity (y) on time (x) via a circle to detect the center of mass and display in a new coordinate system to show intensity (y) on frequencies (x) with center of mass. \n",
        "- Circle: complex plane, where center of mass has real (y = cosine) and imaginary part (x = sine)\n",
        "- $e^-2 * \\pi * f * t$ (Euler!)\n",
        "    - Minus sign is for clockwise rotation\n",
        "    - Rotate at a rate of one circle per second\n",
        "    - 2 $pie$ describes the full length of its circumsphere\n",
        "    - t is time past\n",
        "    - f is frequency, if it’s 1/10, then the vector makes one full turn every 10 seconds.\n",
        "- Technically: compute the integral \n",
        "- Frequency function is a complex function!\n",
        "https://www.youtube.com/watch?v=spUNpyF58BY \n",
        "- Cosine: reals, sine: complex, but ignored in Fourier (?)  (with area under curve)\n",
        "https://www.youtube.com/watch?v=3gjJDuCAEQQ&t=267s \n",
        "https://de.wikipedia.org/wiki/Frequenzspektrum#Frequenzspektrum_eines_Zeitsignals\n"
      ]
    },
    {
      "cell_type": "markdown",
      "metadata": {
        "id": "6jwn-XLJRW54"
      },
      "source": [
        "In some texts, for a function $f$ on the input range [0,1] , its Fourier series is presented like this:\n",
        "\n",
        "> $\n",
        "f(t)=\\frac{a_{0}}{2}+\\sum_{n=1}^{\\infty}\\left(a_{n} \\cos (n \\cdot 2 \\pi t)+b_{n} \\sin (n \\cdot 2 \\pi t)\\right)\n",
        "$\n",
        "\n",
        "where\n",
        "\n",
        "> $\n",
        "\\begin{aligned}\n",
        "a_{n} &=2 \\int_{0}^{1} f(t) \\cos (n \\cdot 2 \\pi t) d t \\\\\n",
        "b_{n} &=2 \\int_{0}^{1} f(t) \\sin (n \\cdot 2 \\pi t) d t\n",
        "\\end{aligned}\n",
        "$"
      ]
    },
    {
      "cell_type": "markdown",
      "metadata": {
        "id": "bHxkRX5L1ffl"
      },
      "source": [
        "sin ist hier der Integralkern? [siehe hier](https://de.wikipedia.org/wiki/Integraloperator#Integraltransformationen)"
      ]
    },
    {
      "cell_type": "markdown",
      "metadata": {
        "id": "ZrHBjl-kiHAw"
      },
      "source": [
        "[**Fourier-Transformation**](https://de.m.wikipedia.org/wiki/Fourier-Transformation)\n"
      ]
    },
    {
      "cell_type": "markdown",
      "metadata": {
        "id": "uMhGjW8sij-8"
      },
      "source": [
        "![cc](https://raw.githubusercontent.com/deltorobarba/repo/master/fourier_11a.png)"
      ]
    },
    {
      "cell_type": "markdown",
      "metadata": {
        "id": "-Givb-ijikyY"
      },
      "source": [
        "![cc](https://raw.githubusercontent.com/deltorobarba/repo/master/fourier_12a.png)"
      ]
    },
    {
      "cell_type": "markdown",
      "metadata": {
        "id": "zM8K0fsOilll"
      },
      "source": [
        "![cc](https://raw.githubusercontent.com/deltorobarba/repo/master/fourier_13a.png)"
      ]
    },
    {
      "cell_type": "markdown",
      "metadata": {
        "id": "qJjZWIPJimeU"
      },
      "source": [
        "![cc](https://raw.githubusercontent.com/deltorobarba/repo/master/fourier_14a.png)"
      ]
    },
    {
      "cell_type": "markdown",
      "metadata": {
        "id": "lR0iiHD1inZ0"
      },
      "source": [
        "![cc](https://raw.githubusercontent.com/deltorobarba/repo/master/fourier_15a.png)"
      ]
    },
    {
      "cell_type": "markdown",
      "metadata": {
        "id": "0T9BuHXAjCZb"
      },
      "source": [
        "https://www.youtube.com/watch?v=spUNpyF58BY"
      ]
    },
    {
      "cell_type": "markdown",
      "metadata": {
        "id": "g5ICsEoyJMnT"
      },
      "source": [
        "* is a coordinate transform to make something similar\n",
        "* used for representing data and image compression\n",
        "* approximate solutions for partial differential equations\n",
        "* Fourier used it in heat equation\n",
        "* Fourier transform is a coordinate transform to diagonalize the laplacian operator in heat equation. \n",
        "\n",
        "> The laplacian operator has eigenvalues and eigenfunctions like linear operators, **and the eigenfunctions are sines & cosines with a particular frequency** determined by the boundary conditions and the geometry of this object (i.e. a hot plate), and **corresponding eigenvalues are the spatial frequencies**\n",
        "\n",
        "> **Just like x and y axis form basis for vector spaces, sine and cosine form an orthogonal basis for the function space** (of possible functions)\n",
        "\n",
        "* Make heat equation simpler by transforming it into an eigenvector eigenvalue coordinate system \n",
        "* SVD (singular value decomposition) is like a data driven extension of FFT\n",
        "* **approximate a function by a sum of sines and cosines of increasing high frequencies**. Like in heat equation: Sine gives you position, and it's first derivative (steigung der funktion sinus) its cosine and the second derivative is -sin. \n",
        "\n",
        "* **scales down exponentially (very important!)** ([Video Source](https://www.youtube.com/watch?v=ToIXSwZ1pJU)\n",
        "\n",
        "![pp](https://raw.githubusercontent.com/deltorobarba/repo/master/heatequation.png)\n",
        "\n",
        "* **Fast Fourier Transform** is a newer, but very important approach\n",
        "\n",
        "* Fourier transform laid foundation for function spaces, like Hilbert space (pivotal for understanding quantum mechanics)\n"
      ]
    },
    {
      "cell_type": "markdown",
      "metadata": {
        "id": "HA9H0DWwbHTs"
      },
      "source": [
        "https://www.youtube.com/watch?v=spUNpyF58BY"
      ]
    },
    {
      "cell_type": "markdown",
      "metadata": {
        "id": "acZQX8_eJCkI"
      },
      "source": [
        "* Fourier series are linear, means a + b = sum of both\n",
        "\n",
        "* high frequencies decay faster than low frequencies, leaving them longer stay\n",
        "\n",
        "* Infinite sum of rational numbers is an irrational number (like heading towards pie / 4), the infinite sum of wavy continuous functions can equal a discontinuous flat function (like a step function)\n",
        "\n",
        "**Complexity of decomposition as a sum of many rotations entirely captured in this expression:**\n",
        "\n",
        "> $c_{n}=\\int_{0}^{1} e^{-2 \\pi i n t} f(t) d t$\n",
        "\n",
        "**It treats the path like a complex function, and for a certain range of values for n, it computes the integral to find each coefficient c_n You do that via numerical integration.**\n",
        "\n",
        "After computing the values (number fo coefficients) each one determines the initial angle and mangnitude for the little vectors and then you set them all rotating, adding them all tip to tail. The path drawn out by the final tip is some approximation of the original path. As the number of vectors used approaches infinity, it gets more and more accurate. "
      ]
    },
    {
      "cell_type": "markdown",
      "metadata": {
        "id": "2gCZHW1rQxce"
      },
      "source": [
        "> **$c_{n}=\\int_{0}^{1} \\operatorname{step}(t) e^{-n \\cdot 2 \\pi i t} d t=\\int_{0}^{0.5} 1 \\cdot e^{-n \\cdot 2 \\pi i t} d t+\\int_{0.5}^{1}-1 \\cdot e^{-n \\cdot 2 \\pi i t} d t$**\n",
        "\n",
        "**Challenge 1**: Show that $c_{n}=\\frac{2}{n \\pi i}$ for odd $n$ and 0 otherwise\n",
        "\n",
        "**Challenge 2**: Using $\\sin (x)=\\left(e^{i x}-e^{-i x}\\right) / 2 i$, show that\n",
        "\n",
        "$\n",
        "\\operatorname{step}(t)=\\sum_{n=-\\infty}^{\\infty} c_{n} e^{n \\cdot 2 \\pi i t}=\\sum_{n=1,3,5, \\ldots} \\frac{4}{n \\pi} \\sin (n \\cdot 2 \\pi t)\n",
        "$\n",
        "\n",
        "**Challenge 3**: How can you turn this drawing into an expansion with cosines? (Hint: Draw the sine waves over [0.25, 0.75])"
      ]
    },
    {
      "cell_type": "markdown",
      "metadata": {
        "id": "7SNzEh7GIpZd"
      },
      "source": [
        "https://www.youtube.com/watch?v=r6sGWTCMz2k"
      ]
    },
    {
      "cell_type": "markdown",
      "metadata": {
        "id": "Sx5HONkGJTAY"
      },
      "source": [
        "https://www.youtube.com/watch?v=jNC0jxb0OxE&list=PLMrJAkhIeNNT_Xh3Oy0Y4LTj0Oxo8GqsC"
      ]
    },
    {
      "cell_type": "markdown",
      "metadata": {
        "id": "5cGTdIiSj7T2"
      },
      "source": [
        "##### **Laplace Transform**"
      ]
    },
    {
      "cell_type": "markdown",
      "metadata": {
        "id": "RdzChTAr_hrx"
      },
      "source": [
        "https://www.youtube.com/watch?v=n2y7n6jw5d0"
      ]
    },
    {
      "cell_type": "markdown",
      "metadata": {
        "id": "bVBdixfsApic"
      },
      "source": [
        "Difference Fourier (left) & Laplace (right):"
      ]
    },
    {
      "cell_type": "markdown",
      "metadata": {
        "id": "sdDSJdpPAzMK"
      },
      "source": [
        "![cc](https://raw.githubusercontent.com/deltorobarba/repo/master/laplace_04.png)"
      ]
    },
    {
      "cell_type": "markdown",
      "metadata": {
        "id": "G-S4KCYYBIfv"
      },
      "source": [
        "Fourier (right - here it is including the negative numbers side) and Laplace (left):"
      ]
    },
    {
      "cell_type": "markdown",
      "metadata": {
        "id": "7jR3oMqSBLUl"
      },
      "source": [
        "![cc](https://raw.githubusercontent.com/deltorobarba/repo/master/laplace_05.png)"
      ]
    },
    {
      "cell_type": "markdown",
      "metadata": {
        "id": "sqZ8jJzTBlsP"
      },
      "source": [
        "If Alpha is swept through the plane, we get the entire Laplace transform plot"
      ]
    },
    {
      "cell_type": "markdown",
      "metadata": {
        "id": "OeAsqzfRBtB0"
      },
      "source": [
        "![cc](https://raw.githubusercontent.com/deltorobarba/repo/master/laplace_06.png)"
      ]
    },
    {
      "cell_type": "markdown",
      "metadata": {
        "id": "Ts9_HIf3CM5x"
      },
      "source": [
        "Using a third dimension for the magnitudes, it looks like following. This is a Laplace Transform of the original function e<sup>-t</sup>sin*t"
      ]
    },
    {
      "cell_type": "markdown",
      "metadata": {
        "id": "cYcTz1fvCLYj"
      },
      "source": [
        "![cc](https://raw.githubusercontent.com/deltorobarba/repo/master/laplace_07.png)"
      ]
    },
    {
      "cell_type": "markdown",
      "metadata": {
        "id": "vI4elKKKCxEt"
      },
      "source": [
        "Here the original function on left and the Fourier transform as blue slice for a given alpha within the Laplace transform:"
      ]
    },
    {
      "cell_type": "markdown",
      "metadata": {
        "id": "ESrhF_dRCv_E"
      },
      "source": [
        "![cc](https://raw.githubusercontent.com/deltorobarba/repo/master/laplace_08.png)"
      ]
    },
    {
      "cell_type": "markdown",
      "metadata": {
        "id": "0GKh4Zt_DU9t"
      },
      "source": [
        "Alpha equals the zero = the exponential in the Laplace function is just 1, and line yields the Fourier transform of the original function:"
      ]
    },
    {
      "cell_type": "markdown",
      "metadata": {
        "id": "SiSldrXtDk03"
      },
      "source": [
        "![cc](https://raw.githubusercontent.com/deltorobarba/repo/master/laplace_09.png)"
      ]
    },
    {
      "cell_type": "markdown",
      "metadata": {
        "id": "MQ-YQmewDwMH"
      },
      "source": [
        "Here you can see how the Fourier transform is a slice of the Laplace Transform:"
      ]
    },
    {
      "cell_type": "markdown",
      "metadata": {
        "id": "93XFVrktEPRg"
      },
      "source": [
        "![cc](https://raw.githubusercontent.com/deltorobarba/repo/master/laplace_10.png)"
      ]
    },
    {
      "cell_type": "markdown",
      "metadata": {
        "id": "Wk7tYHfYGqvO"
      },
      "source": [
        "If we add all alpha beyond zero, we get the other slices. At the Fourier transform visualization on the right side with the blue slicer within the Laplace visualization. We see how the original function on the left side approaches a sinusoidal curve. Please consider only half of the Fourier slice to see just one large peak instead of two, as used above in Fourier transforms. "
      ]
    },
    {
      "cell_type": "markdown",
      "metadata": {
        "id": "YxgCy5pCG1jy"
      },
      "source": [
        "![cc](https://raw.githubusercontent.com/deltorobarba/repo/master/laplace_11.png)\n",
        "\n"
      ]
    },
    {
      "cell_type": "markdown",
      "metadata": {
        "id": "zDK4yOHIHLyJ"
      },
      "source": [
        "..and reaching a sinusoidal function with the Fourier visualization with infinite spikes (know as [**the poles**](https://de.wikipedia.org/wiki/Polstelle)) of the frequency on the right side:"
      ]
    },
    {
      "cell_type": "markdown",
      "metadata": {
        "id": "VervDhEzHKkP"
      },
      "source": [
        "![cc](https://raw.githubusercontent.com/deltorobarba/repo/master/laplace_12.png)"
      ]
    },
    {
      "cell_type": "markdown",
      "metadata": {
        "id": "AKd5VLq_H945"
      },
      "source": [
        "Visualization of Laplace transform of above function on 2D (without z as third dimension to show height of peaks):"
      ]
    },
    {
      "cell_type": "markdown",
      "metadata": {
        "id": "Oq30FI5WH85n"
      },
      "source": [
        "![cc](https://raw.githubusercontent.com/deltorobarba/repo/master/laplace_13.png)"
      ]
    },
    {
      "cell_type": "markdown",
      "metadata": {
        "id": "XSYPZ7FbDXLX"
      },
      "source": [
        "**Components of Laplace Transform**::"
      ]
    },
    {
      "cell_type": "markdown",
      "metadata": {
        "id": "-JqE7oEBALZV"
      },
      "source": [
        "Sinosoidal component:"
      ]
    },
    {
      "cell_type": "markdown",
      "metadata": {
        "id": "_xF5ZBgK_v6h"
      },
      "source": [
        "![cc](https://raw.githubusercontent.com/deltorobarba/repo/master/laplace_01.png)"
      ]
    },
    {
      "cell_type": "markdown",
      "metadata": {
        "id": "e8jPhrTDAIyQ"
      },
      "source": [
        "Exponential component:"
      ]
    },
    {
      "cell_type": "markdown",
      "metadata": {
        "id": "PzPgSN9g_qIZ"
      },
      "source": [
        "![cc](https://raw.githubusercontent.com/deltorobarba/repo/master/laplace_02.png)"
      ]
    },
    {
      "cell_type": "markdown",
      "metadata": {
        "id": "nMlhvRKeANFw"
      },
      "source": [
        "Combination of both:"
      ]
    },
    {
      "cell_type": "markdown",
      "metadata": {
        "id": "foOftWk3_q7s"
      },
      "source": [
        "![cc](https://raw.githubusercontent.com/deltorobarba/repo/master/laplace_03.png)"
      ]
    },
    {
      "cell_type": "markdown",
      "metadata": {
        "id": "rZDZvdqaj9pt"
      },
      "source": [
        "* shows which sinosoidal AND exponential frequencies are in a signal\n",
        "\n",
        "* a generalized Fourier transform! Fourier transform is just a slice of the Laplace transform\n",
        "\n",
        "* Fourier: input complex, output real. Laplace: Input complex, output complex (??)"
      ]
    },
    {
      "cell_type": "markdown",
      "metadata": {
        "id": "ImhmFbOnmaUS"
      },
      "source": [
        "**Fourier** $\\quad X(\\omega)=\\int_{-\\infty}^{\\infty} x(t) e^{-i \\omega t} d t$\n",
        "\n",
        "**Laplace** $\\quad X(s)=\\int_{0}^{\\infty} x(t) e^{-s t} d t$ \n",
        "\n",
        "with s = ${\\alpha + i \\omega}$"
      ]
    },
    {
      "cell_type": "markdown",
      "metadata": {
        "id": "1gNvynrixNsM"
      },
      "source": [
        "* Use Cases of Laplace transform: PDE to ODE, ODE to algebraic equation, control theory\n",
        "\n",
        "* Following functions cannot be applied Fourier transform: e^lambda t or Heaviside function (because they don’t decay to zero (on y) on both sides to infinity (x)"
      ]
    },
    {
      "cell_type": "markdown",
      "metadata": {
        "id": "ByG6QUb25LL-"
      },
      "source": [
        "Laplace intro:\n",
        "\n",
        "https://www.youtube.com/watch?v=n2y7n6jw5d0&t=848s\n",
        "\n",
        "https://youtu.be/ZGPtPkTft8g?t=356\n",
        "\n",
        "https://www.youtube.com/watch?v=7UvtU75NXTg&list=LL&index=1&t=419s"
      ]
    },
    {
      "cell_type": "markdown",
      "metadata": {
        "id": "pVxJ02zzlNwy"
      },
      "source": [
        "https://www.youtube.com/watch?v=n2y7n6jw5d0"
      ]
    },
    {
      "cell_type": "markdown",
      "metadata": {
        "id": "0TTjGoOihEYB"
      },
      "source": [
        "##### **Z-Transformation**"
      ]
    },
    {
      "cell_type": "markdown",
      "metadata": {
        "id": "mvXAWPfWhHvj"
      },
      "source": [
        "https://de.m.wikipedia.org/wiki/Z-Transformation"
      ]
    },
    {
      "cell_type": "markdown",
      "metadata": {
        "id": "Ov6v_nkqxnBn"
      },
      "source": [
        "##### **Wavelets**"
      ]
    },
    {
      "cell_type": "markdown",
      "metadata": {
        "id": "3Z5kqTCLxos4"
      },
      "source": [
        "https://math.stackexchange.com/questions/279980/difference-between-fourier-transform-and-wavelets"
      ]
    },
    {
      "cell_type": "markdown",
      "metadata": {
        "id": "Icf9R4rz53z_"
      },
      "source": [
        "## **Differentialgleichungen**"
      ]
    },
    {
      "cell_type": "markdown",
      "metadata": {
        "id": "7YxWFwf0HLzk"
      },
      "source": [
        "https://www.quantamagazine.org/new-neural-networks-solve-hardest-equations-faster-than-ever-20210419/"
      ]
    },
    {
      "cell_type": "markdown",
      "metadata": {
        "id": "QmfX-CNmOZGr"
      },
      "source": [
        "#### **Differenzialrechnung (Ableitungen)**"
      ]
    },
    {
      "cell_type": "markdown",
      "metadata": {
        "id": "hvmNoUK4JpdS"
      },
      "source": [
        "Die Ableitung ist zunächst nur für einen Punkt $\\left(x_{0} \\mid f\\left(x_{0}\\right)\\right)$ auf dem Graphen einer Funktion $f(x)$ bzw. für eine Stelle $x_{0}$ definiert. Sie ist gegeben durch:\n",
        "\n",
        "> $\\lim _{x \\rightarrow x_{0}} \\frac{f(x)-f\\left(x_{0}\\right)}{x-x_{0}}$ oder alternativ $\\lim _{h \\rightarrow 0} \\frac{f\\left(x_{0}+h\\right)-f\\left(x_{0}\\right)}{h}$\n",
        "\n",
        "Anschaulich erhält man durch den [Differenzenquotienten](https://de.serlo.org/mathe/1669/differenzenquotient) die Steigung der Sekante an den Funktionsgraphen von dem Punkt x\n",
        "0\n",
        " und einem anderen Punkt. Die Idee bei beiden Defintionen ist, dass man die Tangente durch Sekanten annähert, indem man den x-Wert des zweiten Punktes immer näher an x\n",
        "0\n",
        " wählt. "
      ]
    },
    {
      "cell_type": "markdown",
      "metadata": {
        "id": "MpnWK1cmKK5d"
      },
      "source": [
        "![ff](https://raw.githubusercontent.com/deltorobarba/repo/master/ableitung.png)\n",
        "\n",
        "*Drittes Bild mit A = B: Die Steigung dieser Tangente ist gleich der Ableitung an der Stelle x0*\n",
        "\n"
      ]
    },
    {
      "cell_type": "markdown",
      "metadata": {
        "id": "f3yAwA1_BLFb"
      },
      "source": [
        "Jede differenzierbare Funktion ist stetig, die Umkehrung gilt jedoch nicht."
      ]
    },
    {
      "cell_type": "markdown",
      "metadata": {
        "id": "M9NhdqqJ_y0C"
      },
      "source": [
        "**Alternative Notationen**"
      ]
    },
    {
      "cell_type": "markdown",
      "metadata": {
        "id": "J1fJyenfAvRg"
      },
      "source": [
        "$f^{\\prime}(x)=\\frac{\\mathrm{d} f}{\\mathrm{~d} x}(x)=\\frac{\\mathrm{d} f(x)}{\\mathrm{d} x}=\\frac{\\mathrm{d}}{\\mathrm{d} x} f(x)$"
      ]
    },
    {
      "cell_type": "markdown",
      "metadata": {
        "id": "SFPb9KMIJBF2"
      },
      "source": [
        "https://de.serlo.org/mathe/1795/ableitung"
      ]
    },
    {
      "cell_type": "markdown",
      "metadata": {
        "id": "FbKE76s03IIu"
      },
      "source": [
        "**Differentenquotient vs Differentalquotient**"
      ]
    },
    {
      "cell_type": "markdown",
      "metadata": {
        "id": "Qzrgbw2f8qHA"
      },
      "source": [
        "> Der **Differentenquotient** $\\lim _{h \\rightarrow 0} \\frac{f\\left(x_{0}+h\\right)-f\\left(x_{0}\\right)}{h}$ gibt die Steigung durch 2 Punkte an. Mit lim fur h gegen Null im Differentenquotienten ergibt es den **Differentialquotient** f<sup>'</sup> (x<sub>0</sub>) (erste Ableitung, das ist die Steigung an einer Stelle)."
      ]
    },
    {
      "cell_type": "markdown",
      "metadata": {
        "id": "SWoPgtWy97m0"
      },
      "source": [
        "> Notation mit dem [Differentialoperator](https://www.youtube.com/watch?v=LjeFmpkoUxQ&list=PLLTAHuUj-zHhJSdV8hqWaydgOWjF-fYK0&index=3): $\\frac{\\mathrm{d}}{\\mathrm{~d} x}$ sieht folgendermassen aus: $f^{\\prime}\\left(x\\right)$ = $\\frac{\\mathrm{d}}{\\mathrm{~d} x}\\left(f(x)\\right)$"
      ]
    },
    {
      "cell_type": "markdown",
      "metadata": {
        "id": "UnbYnGzHJG7k"
      },
      "source": [
        "**Mehrfache Ableitungen**\n",
        "\n",
        "* Erste Ableitung gibt die Steigung einer Funktion\n",
        "* Zweite Ableitung: Wann ist die Steigung konstant?\n",
        "* Zum Beispiel ist die erste Ableitung des Orts x(t) nach der Zeit t die Momentangeschwindigkeit, die zweite Ableitung die Beschleunigung."
      ]
    },
    {
      "cell_type": "markdown",
      "metadata": {
        "id": "E0Ql0LAXOfS3"
      },
      "source": [
        "**Von der Ableitung zur Ableitungsfunktion (Die Ableitung als Funktion mit dem Differenzenquotient)**"
      ]
    },
    {
      "cell_type": "markdown",
      "metadata": {
        "id": "EcgNny9VAdc6"
      },
      "source": [
        "Von der Ableitung an einem bestimmten Punkt ist es nur ein kleiner Schritt zur Ableitung auf dem ganzen Definitionsbereich. Denn alle \"normalen\" Funktionen (die in der Schule behandelt werden) besitzen für alle $x \\in D$ den gleichen Differenzenquotienten in Abhängigkeit von $x$. In dem Fall kann man die Ableitungen mit Hilfe der Ableitungsregeln bestimmen.\n",
        "\n",
        "Beispiel mit $f(x)=x^{2}$\n",
        "\n",
        "Wir berechnen die Ableitung der Funktkon $f(x)=x^{2}$ und benutzen die Definition $\\lim _{x \\rightarrow x_{0}} \\frac{f(x)-f\\left(x_{0}\\right)}{x-x_{0}} .$ Mit Hilfe der [dritten binomischen Formel](https://de.wikipedia.org/wiki/Binomische_Formeln) bekommen wir für die Ableitung $\\lim _{x \\rightarrow x_{0}} \\frac{x^{2}-x_{0}^{2}}{x-x_{0}}=\\lim _{x \\rightarrow x_{0}} \\frac{\\left(x+x_{0}\\right)\\left(x-x_{0}\\right)}{x-x_{0}}=\\lim _{x \\rightarrow x_{0}}\\left(x+x_{0}\\right)=2 x_{0} .$ Das\n",
        "heißt, dass egal an welchem Punkt $x_{0}$ wir die Ableitung ausrechnen, wir bekommen immer $2 x_{0}$"
      ]
    },
    {
      "cell_type": "markdown",
      "metadata": {
        "id": "VM6pwdZqLhmI"
      },
      "source": [
        "* **Eine Ableitungsfunktion (kurz: Ableitung) ist eine Funktion, die jeder Stelle x0 den Wert ihres Differentialquotienten zuordnet.**\n",
        "\n",
        "* Die Ableitungsfunktion zu einer gegebenen Funktion f ist – vereinfacht ausgedrückt – die Tangentensteigungsfunktion. Das bedeutet: An jeder Stelle x hat die Steigung der Tangente an den Graphen von f einen bestimmten Wert, welcher der Ableitung der Funktion entspricht. Nun kannst du quasi mit einem Lineal den Graphen von f \"abfahren\". Das Lineal soll dabei immer tangential an den Graphen anliegen. Wenn du dann die Steigung des Lineals Punkt für Punkt in ein Diagramm überträgst, erhältst du ein Bild der Ableitungsfunktion. Dabei musst du die Funktionsgleichung selbst nicht kennen, sondern nur den Graphen."
      ]
    },
    {
      "cell_type": "markdown",
      "metadata": {
        "id": "uEtmL-kkCloc"
      },
      "source": [
        "**Definition: Differenzierbarkeit**"
      ]
    },
    {
      "cell_type": "markdown",
      "metadata": {
        "id": "RKcxkknbBh4n"
      },
      "source": [
        "Eine Funktion $f: U \\rightarrow \\mathbb{R},$ die ein **offenes Intervall** $U$ in die reellen Zahlen abbildet, heißt differenzierbar an der Stelle $x_{0} \\in U$, falls der Grenzwert\n",
        "\n",
        "> $\n",
        "\\lim _{x \\rightarrow x_{0}} \\frac{f(x)-f\\left(x_{0}\\right)}{x-x_{0}}=\\lim _{h \\rightarrow 0} \\frac{f\\left(x_{0}+h\\right)-f\\left(x_{0}\\right)}{h} \\quad\\left(\\text { mit } h=x-x_{0}\\right)\n",
        "$\n",
        "\n",
        "existiert. Dieser Grenzwert heißt Differentialquotient oder Ableitung von $f$ nach $x$ an der Stelle $x_{0}$ und wird notiert als\n",
        "\n",
        "> $f^{\\prime}\\left(x_{0}\\right)$ oder $\\left.\\frac{\\mathrm{d} f(x)}{\\mathrm{d} x}\\right|_{x=x_{0}}$ oder $\\frac{\\mathrm{d} f}{\\mathrm{~d} x}\\left(x_{0}\\right)$ oder $\\frac{\\mathrm{d}}{\\mathrm{d} x} f\\left(x_{0}\\right)$"
      ]
    },
    {
      "cell_type": "markdown",
      "metadata": {
        "id": "Z9M3ftNNCcuy"
      },
      "source": [
        "**Eine weitere Definition ist**: Es gibt eine an der Stelle $x_{0}$ stetige Funktion $r$ mit $r\\left(x_{0}\\right)=0$ und eine Konstante $L$, sodass für alle $x$ gilt\n",
        "\n",
        "> $\n",
        "f(x)=f\\left(x_{0}\\right)+L\\left(x-x_{0}\\right)+r(x)\\left(x-x_{0}\\right)\n",
        "$\n",
        "\n",
        "Die Bedingungen $r\\left(x_{0}\\right)=0$ und dass $r$ an der Stelle $x_{0}$ stetig ist, bedeuten gerade, dass das \" Restglied\" $r(x)$ für $x$ gegen $x_{0}$ gegen 0 konvergiert."
      ]
    },
    {
      "cell_type": "markdown",
      "metadata": {
        "id": "gjmZZyPHuUbW"
      },
      "source": [
        "**Partielle Ableitung**"
      ]
    },
    {
      "cell_type": "markdown",
      "metadata": {
        "id": "sjdC7eHEw1be"
      },
      "source": [
        "Die ersten partiellen Ableitungen lassen sich in einem Vektor anordnen, dem Gradienten von\n",
        "$f:$\n",
        "\n",
        "> $\n",
        "\\operatorname{grad} f=\\nabla f:=\\left(\\frac{\\partial f}{\\partial x_{1}}, \\ldots, \\frac{\\partial f}{\\partial x_{n}}\\right)^{T}\n",
        "$\n",
        "\n",
        "Hierbei ist $\\nabla$ der Nabla-Operator."
      ]
    },
    {
      "cell_type": "markdown",
      "metadata": {
        "id": "HGSYWhoquWuT"
      },
      "source": [
        "https://de.wikipedia.org/wiki/Partielle_Ableitung"
      ]
    },
    {
      "cell_type": "markdown",
      "metadata": {
        "id": "x-VLzJWGxwbO"
      },
      "source": [
        "Die [**Jacobi-Matrix**](https://de.wikipedia.org/wiki/Jacobi-Matrix) (auch Funktionalmatrix, Ableitungsmatrix oder Jacobische genannt) einer differenzierbaren Funktion $f: \\mathbb{R}^{n} \\rightarrow \\mathbb{R}^{m}$ ist die $m \\times n$ -Matrix **sämtlicher erster\n",
        "partieller Ableitungen**. Im Falle der totalen Differenzierbarkeit bildet sie die Matrix-Darstellung der als lineare Abbildung aufgefassten ersten Ableitung der Funktion $f$ bezüglich der Standardbasen des $\\mathbb{R}^{n}$ und des $\\mathbb{R}^{m}$"
      ]
    },
    {
      "cell_type": "markdown",
      "metadata": {
        "id": "YHfl85L544d0"
      },
      "source": [
        "Für $a\\in U$ die Jacobi-Matrix ist im Punkt a definiert durch:"
      ]
    },
    {
      "cell_type": "markdown",
      "metadata": {
        "id": "Dr-6LNw44o18"
      },
      "source": [
        "> $J_{f}(a):=\\left(\\frac{\\partial f_{i}}{\\partial x_{j}}(a)\\right)_{i=1, \\ldots, m ; j=1, \\ldots, n}=\\left(\\begin{array}{cccc}\n",
        "\\frac{\\partial f_{1}}{\\partial x_{1}}(a) & \\frac{\\partial f_{1}}{\\partial x_{2}}(a) & \\cdots & \\frac{\\partial f_{1}}{\\partial x_{n}}(a) \\\\\n",
        "\\vdots & \\vdots & \\ddots & \\vdots \\\\\n",
        "\\frac{\\partial f_{m}}{\\partial x_{1}}(a) & \\frac{\\partial f_{m}}{\\partial x_{2}}(a) & \\cdots & \\frac{\\partial f_{m}}{\\partial x_{n}}(a)\n",
        "\\end{array}\\right)$"
      ]
    },
    {
      "cell_type": "markdown",
      "metadata": {
        "id": "EpVRFDNexCy7"
      },
      "source": [
        "Die **zweiten partiellen Ableitungen** lassen sich in einer Matrix anordnen, der [Hesse-Matrix](https://de.wikipedia.org/wiki/Hesse-Matrix)\n",
        "\n",
        "> $\n",
        "\\mathrm{H}_{f}=\\left(\\frac{\\partial^{2} f}{\\partial x_{i} \\partial x_{j}}\\right)=\\left(\\begin{array}{ccc}\n",
        "\\frac{\\partial^{2} f}{\\partial x_{1} \\partial x_{1}} & \\cdots & \\frac{\\partial^{2} f}{\\partial x_{1} \\partial x_{n}} \\\\\n",
        "\\vdots & \\ddots & \\vdots \\\\\n",
        "\\frac{\\partial^{2} f}{\\partial x_{n} \\partial x_{1}} & \\cdots & \\frac{\\partial^{2} f}{\\partial x_{n} \\partial x_{n}}\n",
        "\\end{array}\\right)\n",
        "$"
      ]
    },
    {
      "cell_type": "markdown",
      "metadata": {
        "id": "l6HivJbCeGfs"
      },
      "source": [
        "**Schwache Ableitung & schwache Lösung**"
      ]
    },
    {
      "cell_type": "markdown",
      "metadata": {
        "id": "v4I7IyMVeJte"
      },
      "source": [
        "* Eine [schwache Ableitung](https://de.wikipedia.org/wiki/Schwache_Ableitung) bzw. [weak derivative](https://en.wikipedia.org/wiki/Weak_derivative) ist in der Funktionalanalysis, einem Teilgebiet der Mathematik, eine Erweiterung des Begriffs der gewöhnlichen (klassischen) Ableitung. \n",
        "\n",
        "* Er ermöglicht es, Funktionen eine Ableitung zuzuordnen, die nicht (stark bzw. im klassischen Sinne) differenzierbar sind.\n",
        "\n",
        "* Schwache Ableitungen spielen eine große Rolle in der Theorie der partiellen Differentialgleichungen. **Räume schwach differenzierbarer Funktionen sind die Sobolev-Räume**. \n",
        "\n",
        "* Ein noch allgemeinerer Begriff der Ableitung ist die Distributionenableitung.\n",
        "\n",
        "* In mathematics, a weak derivative is a generalization of the concept of the derivative of a function (strong derivative) **for functions not assumed differentiable, but only integrable**, i.e., to lie in the $L^{p}$ space $L^{1}([a, b])$. See distributions for a more general definition."
      ]
    },
    {
      "cell_type": "markdown",
      "metadata": {
        "id": "0LrC4fHuJcow"
      },
      "source": [
        "**This concept gives rise to the definition of [weak solutions](https://en.wikipedia.org/wiki/Weak_solution) in Sobolev spaces, which are useful for problems of differential equations and in functional analysis.**"
      ]
    },
    {
      "cell_type": "markdown",
      "metadata": {
        "id": "r3mxaFV-_z_K"
      },
      "source": [
        "Betrachtet man eine auf einem offenen Intervall $I=] a, b[$ differenzierbare Funktion $f$ und\n",
        "eine Testfunktion $\\varphi$ (das heißt, $\\varphi$ ist beliebig oft differenzierbar und besitzt einen kompakten Träger), dann gilt\n",
        "\n",
        ">$\n",
        "\\int_{I} f^{\\prime}(t) \\varphi(t) \\mathrm{d} t=-\\int_{I} f(t) \\varphi^{\\prime}(t) \\mathrm{d} t\n",
        "$\n",
        "\n",
        "Hierbei wurde die partielle Integration verwendet, wobei die Randterme wegfallen $(\\varphi(a)=$ $0, \\varphi(b)=0)$\n",
        "Ist $f$ eine $L^{2}$ -Funktion, dann kann, selbst wenn $f$ nicht differenzierbar ist (genauer: keinen differenzierbaren Vertreter in der Äquivalenzklasse besitzt), eine Funktion $g \\in L^{2}(a, b)$ existieren, die die Gleichung\n",
        "\n",
        "> $\n",
        "\\int_{I} g(t) \\varphi(t) \\mathrm{d} t=-\\int_{I} f(t) \\varphi^{\\prime}(t) \\mathrm{d} t\n",
        "$\n",
        "\n",
        "für jede Testfunktion $\\varphi$ erfüllt. Eine solche Funktion $g$ heißt schwache Ableitung von $f$. Man schreibt wie bei der starken Ableitung $f^{\\prime}:=g$."
      ]
    },
    {
      "cell_type": "markdown",
      "metadata": {
        "id": "JQ9f_6E__b-a"
      },
      "source": [
        "* Ferner **stimmen bei jeder stark differenzierbaren Funktion starke und schwache Ableitung überein**, so dass man von einer Verallgemeinerung des Ableitungsbegriffs sprechen kann. \n",
        "\n",
        "* Im Gegensatz zur starken Ableitung ist die **schwache Ableitung aber nicht punktweise, sondern nur für die ganze Funktion definiert.**\n",
        "\n",
        "* Es ist zu beachten, dass sich die schwache Differenzierbarkeit immer auf die gesamte Funktion bezieht und nicht (wie die gewöhnliche Ableitung) punktweise definiert ist. **Punktweise muss eine Ableitung nicht einmal existieren**. Es lässt sich allerdings zeigen, dass hinreichend oft vorhandene, schwache Differenzierbarkeit auch wieder Differenzierbarkeit im üblichen Sinne (starke oder gewöhnliche Differenzierbarkeit) nach sich zieht. \n",
        "\n",
        "* **D.h. es gibt Einbettungen eines Sobolew-Raums mit $n$ schwachen Ableitungen in Räume $k$ -fach differenzierbarer Funktionen $C^{k}$ mit $n>k \\geq 0$.**\n",
        "\n",
        "* Man kann statt $f, f^{\\prime} \\in L^{2}$ auch allgemeiner $f, f^{\\prime} \\in L^{p}$ für $1 \\leq p \\leq \\infty$ fordern. **Die Teilmenge der Funktionen aus $L^{p}$ in der $n \\geq 1$ schwache Ableitungen existieren ist ein sogenannter Sobolew-Raum.**\n",
        "\n"
      ]
    },
    {
      "cell_type": "markdown",
      "metadata": {
        "id": "dnQyQdvBIVBt"
      },
      "source": [
        "**Examples**: "
      ]
    },
    {
      "cell_type": "markdown",
      "metadata": {
        "id": "_JzbucSUHcx1"
      },
      "source": [
        "The **absolute value function** u : [−1, 1] → [0, 1], u(t) = |t|, which is not differentiable at t = 0, has a weak derivative v known as the [**sign function**](https://de.wikipedia.org/wiki/Vorzeichenfunktion) given by\n",
        "\n",
        "![gg](https://mathepedia.de/img/Abs_x.png)\n",
        "\n",
        "*Signumfunktion als schwache Ableitung der Betragsfunktions*"
      ]
    },
    {
      "cell_type": "markdown",
      "metadata": {
        "id": "lonnjf2vIO3N"
      },
      "source": [
        "The **characteristic function** of the rational numbers $1_{\\mathbb{Q}}$  is nowhere differentiable yet has a weak derivative."
      ]
    },
    {
      "cell_type": "markdown",
      "metadata": {
        "id": "wl-sETcUIL-z"
      },
      "source": [
        "The **Cantor function** c does not have a weak derivative, despite being differentiable almost everywhere. "
      ]
    },
    {
      "cell_type": "markdown",
      "metadata": {
        "id": "phajjQs3MCzs"
      },
      "source": [
        "**Schwache Lösung**"
      ]
    },
    {
      "cell_type": "markdown",
      "metadata": {
        "id": "f9NJ-LSwMvyw"
      },
      "source": [
        "* Avoiding the language of distributions, one starts with a differential equation and rewrites it in such a way that **no derivatives of the solution of the equation show up** (the new form is called the weak formulation, and the solutions to it are called weak solutions). \n",
        "\n",
        "* The weak formulation allows one to **find solutions to a differential equation which are not differentiable**.\n",
        "\n",
        "* Weak solutions are important because a great many differential equations encountered in modelling real-world phenomena do not admit of sufficiently smooth solutions, and the only way of solving such equations is using the weak formulation. \n",
        "\n",
        "* Even in situations where an equation does have differentiable solutions, it is often convenient to first prove the existence of weak solutions and only later show that those solutions are in fact smooth enough.\n",
        "\n",
        "The general idea which follows from this example is that, when solving a differential equation in $u,$ **one can rewrite it using a test function $\\varphi,$ such that whatever derivatives in $u$ show up in the equation, they are \"transferred\" via integration by parts to $\\varphi$,** resulting in an equation without derivatives of $u$. This new equation generalizes the original equation to include solutions which are not necessarily differentiable.\n"
      ]
    },
    {
      "cell_type": "markdown",
      "metadata": {
        "id": "EH9kxcz_MFEe"
      },
      "source": [
        "https://de.wikipedia.org/wiki/Schwache_Lösung"
      ]
    },
    {
      "cell_type": "markdown",
      "metadata": {
        "id": "I0Shd3mlMMe6"
      },
      "source": [
        "https://en.wikipedia.org/wiki/Weak_solution"
      ]
    },
    {
      "cell_type": "markdown",
      "metadata": {
        "id": "ftKE9QkO55-i"
      },
      "source": [
        "#### **Differentialgleichungen**"
      ]
    },
    {
      "cell_type": "markdown",
      "metadata": {
        "id": "Tv-U56lOF-D-"
      },
      "source": [
        "**Differentiationsklasse**"
      ]
    },
    {
      "cell_type": "markdown",
      "metadata": {
        "id": "kMVNVx-U0aex"
      },
      "source": [
        "https://de.wikipedia.org/wiki/Differentiationsklasse"
      ]
    },
    {
      "cell_type": "markdown",
      "metadata": {
        "id": "Mbhn1WaF55-i"
      },
      "source": [
        "**Differential Equations**\n",
        "\n",
        "* **easier to describe change than absolute amounts** \n",
        "\n",
        "  * Like for population growth: how they increase is more interesting than what particular value they have at a certain point in time\n",
        "  * Veränderungen sind leichter zu beschreiben als absolute Beträge (wie für die Bevölkerung: wie sie zunehmen als welchen bestimmten Wert sie zu einem bestimmten Zeitpunkt haben)\n",
        "\n",
        "* Newton physics: most often described in terms of force, and force determines acceleration, which is a statement about change\n",
        "\n",
        "* **Ordinary Differential Equations**: one input, often time t. \n",
        "\n",
        "> $\\ddot{\\theta}(t)=-\\mu \\dot{\\theta}(t)-\\frac{g}{L} \\sin (\\theta(t))$\n",
        "\n",
        "* **Partial Differential Equations**: multiple inputs, a whole continuum of values changing with time, like temperature at every point in a solid body, or velocity of a fluid at every point in space\n",
        "\n",
        "> $\\frac{\\partial T}{\\partial t}(x, y, t)=\\frac{\\partial^{2} T}{\\partial x^{2}}(x, y, t)+\\frac{\\partial^{2} T}{\\partial y^{2}}(x, y, t)$\n"
      ]
    },
    {
      "cell_type": "markdown",
      "metadata": {
        "id": "pGSI851Z55-i"
      },
      "source": [
        "Differentil Equations: https://youtube.com/playlist?list=PLZHQObOWTQDNPOjrT6KVlfJuKtYTftqH6"
      ]
    },
    {
      "cell_type": "markdown",
      "metadata": {
        "id": "Z7TQ1RqU55-j"
      },
      "source": [
        "* Eine Differentialgleichung ist eine mathematische **Gleichung für eine gesuchte Funktion** von einer oder mehreren Variablen, **in der auch Ableitungen dieser Funktion vorkommen**. Differentialgleichungen sind also Gleichungen, in denen \n",
        "  * **Ableitungen** einer \n",
        "  * **unbekannten Funktion** auftauchen.\n",
        "\n",
        "* Differentialgleichungen werden überall dort verwendet, wo die Änderung einer Größe von der gleichen Größe selbst abhängt. Diese Funktion nutzt man zur Modellierung physikalischer Vorgänge wie Wachstum, Bewegung oder Kräfte. Beispiele:\n",
        "\n",
        "  * Die Funktion f beschreibt den Ort, dann beschreibt die f´ die Änderung des Ortes und das ist nichts anderes, als die Geschwindigkeit. \n",
        "\n",
        "  * Die Funktion f beschreibt die Größe eine Bevölkerung, dann beschreibt f´deren Änderung und das ist nichts anderes als das Bevölkerungswachstum\n",
        "\n",
        "  * Allgemein beschreibt die Funktion f eine Größe und f´die Änderungsrate dieser Größe.\n",
        "\n",
        "* Die **Lösung einer Differentialgleichung** kann im Allgemeinen nicht durch die Gleichung selbst eindeutig bestimmt werden, sondern **benötigt zusätzlich noch weitere Anfangs- oder Randwerte zu exakten Bestimmung**. \n",
        "\n",
        "* Daher ist es nicht möglich, eine allgemein gültige Lösungsmethodik anzugeben. Nur für gewöhnliche, integrable Differentialgleichungen existiert ein allgemeines Lösungsverfahren.\n",
        "Folgende Lösungsverfahren sind möglich:\n",
        "\n",
        "  * Für gewöhnliche Differentialgleichungen benutzt man die **Umkehrung des Differenzierens**, in dem man die Stammfunktion aufsucht und so die Differentialgleichung integriert. **Die Lösungsfunktion ist dann einfach die Stammfunktion der Differentialgleichung**. Beispiel: f´(x) = 4, dann ist die Stammfunktion F(x) = 4x + C und somit die Lösung der Differentialgleichung.\n",
        "\n",
        "  * Partielle Differentialgleichungen werden in erster Linie durch Trennung der Variablen und spätere Integration gelöst. Zum Beispiel durch (n-fache) Integration fur f(x) = x<sup>2</sup> bestimmt man das unbestimmte Integral $y=\\int f(x) \\mathrm{d} x+C$ (Siehe [hier](https://www.lern-online.net/mathematik/analysis/differentialrechnung/differentialgleichung/differentialgleichung-1-ordnung-loesen/) und [hier](https://www.youtube.com/watch?v=wUwxsEbEwHA)).\n",
        "\n",
        "  * **Aber Achtung: ein mathematisches Modell (stetig, differenzierbar) kann die Realität oft nur unzureichend widerspiegeln. Beispiel ist die Zinseszinsrechnung. Oder bei Computern: Ein kontinuierlicher Vorgang wird diskret modelliert, z. B. bei der Simulation von Bewegungen am Computer, da der Computer nur in diskreten Schritten rechnen kann.** ([Source](https://www.spektrum.de/spektrum/projekt2/gaes3.htm))\n",
        "\n",
        "* **Beispiel: Bewegungsgleichung**\n",
        "\n",
        "  * **Gegeben** sind die Beschleunigung = zweifache Ableitung\n",
        "\n",
        "  * **Gesucht** (unbekannte Funktion): Gesucht ist eine Gleichung x(t), die den Ort angibt, an dem sich der fallende Stein zu einer bestimmten Zeit befindet.\n",
        "\n",
        "  * **Lösung**: Integration, und zwar zweifach - Umkehrung der zweifachen Differentiation (hierbei in Gestalt einer Differentialgleichung zweiter Ordnung)\n",
        "  \n",
        "  * Hierbei kann man aus einer gegebenen Beschleunigung auf die Ortsfunktion eines Körpers zurückzuschließen, also wo befindet sich ein fallendes Objekt zum Zeitpunkt t? Man kennt nur Masse und Beschleunigung. Die mathematische Schwierigkeit dieses Problems rührt daher, dass Ort, Geschwindigkeit und Beschleunigung Vektoren sind, die im Allgemeinen nicht in die gleiche Richtung zeigen, und dass die Kraft von der Zeit t und vom Ort ${\\vec {s}}$ abhängen kann.\n",
        "\n",
        "* Siehe auch [weitere Beispiele einfacher Differentialgleichungen aus der Natur](https://www.spektrum.de/spektrum/projekt2/gaes3.htm):\n",
        "\n",
        "  * Radioaktiver Zerfall\n",
        "\n",
        "  * Zinsrechnung\n",
        "\n",
        "* Bei Differentialgleichungen bekommt man dann als Loesung auch eine Funktion und keine Zahl: **Die Lösung einer Differentialgleichung ist immer eine Funktion (oder im Falle eines Systems von Differentialgleichungen mehrere Funktionen). Es ist jedoch nicht jede Differentialgleichung lösbar.** [Source](https://mathepedia.de/Gewoehnliche_Differentialgleichungen.html)\n",
        "\n",
        "* In den Differentialgleichungen werden Funktionen nicht mit f(x), sondern mit y(x) bezeichnet\n",
        "\n",
        "* Da viele Modelle mehrdimensional sind, sind bei der Formulierung häufig die partiellen Ableitungen sehr wichtig, mit denen sich **partielle Differentialgleichungen** formulieren lassen. Mathematisch kompakt werden diese mittels **Differentialoperatoren** beschrieben und analysiert."
      ]
    },
    {
      "cell_type": "markdown",
      "metadata": {
        "id": "FqpXz9l155-j"
      },
      "source": [
        "https://www.lernort-mint.de/mathematik/ableitung/differentialgleichungen-verwendung/"
      ]
    },
    {
      "cell_type": "markdown",
      "metadata": {
        "id": "Zr37w1yB55-j"
      },
      "source": [
        "https://www.th-nuernberg.de/fileadmin/fakultaeten/amp/Stry/kapitel10.pdf"
      ]
    },
    {
      "cell_type": "markdown",
      "metadata": {
        "id": "6CEIzzEr55-j"
      },
      "source": [
        "https://avhschule.de/differentialgleichungen/"
      ]
    },
    {
      "cell_type": "markdown",
      "metadata": {
        "id": "nbgmntwx55-j"
      },
      "source": [
        "https://de.wikipedia.org/wiki/Differentialrechnung"
      ]
    },
    {
      "cell_type": "markdown",
      "metadata": {
        "id": "zgH-0xLyEbqM"
      },
      "source": [
        "#### **Gewöhnliche Differentialgleichungen** "
      ]
    },
    {
      "cell_type": "markdown",
      "metadata": {
        "id": "StDkAyg_Rg-k"
      },
      "source": [
        "* Eine gewöhnliche Differentialgleichung ist eine Differentialgleichung, bei der zu einer gesuchten Funktion **nur Ableitungen nach genau einer Variablen** auftreten.\n",
        "\n",
        "* Viele physikalische, chemische und biologische Vorgänge in der Natur lassen sich mit solchen Gleichungen mathematisch beschreiben, z. B. der radioaktive Zerfall, Bewegungsvorgänge von Körpern, viele Arten von Schwingungsvorgängen oder das Wachstumsverhalten von Tier-Populationen. In naturwissenschaftlichen Modellen werden gewöhnliche Differentialgleichungen daher häufig eingesetzt, um solche Vorgänge zu analysieren, zu simulieren oder um Vorhersagen abgeben zu können.\n",
        "\n",
        "* **In vielen Fällen kann die Differentialgleichung nicht analytisch gelöst werden**. Man ist daher auf numerische Verfahren angewiesen. \n",
        "\n",
        "* Gewöhnliche Differentialgleichungen beliebiger Ordnung **lassen sich immer auf ein System von gewöhnlichen Differentialgleichungen erster Ordnung zurückführen**. "
      ]
    },
    {
      "cell_type": "markdown",
      "metadata": {
        "id": "xFjY-OhzQpqf"
      },
      "source": [
        "https://de.wikipedia.org/wiki/Gewöhnliche_Differentialgleichung"
      ]
    },
    {
      "cell_type": "markdown",
      "metadata": {
        "id": "TcDCp0rIXcNu"
      },
      "source": [
        "Eine (gewöhnliche) Differentialgleichung erster Ordnung hat die Form \n",
        "\n",
        "> $y^{\\prime}=f(x, y)$ (explizite Form) \n",
        "\n",
        "> $F\\left(x, y, y^{\\prime}\\right)=0$ (implizite Form)\n",
        "\n",
        "(Achtung: y steht hierbei fur eine ganze Funktion, nicht nur einen y-Wert!)\n",
        "\n",
        "Der einfachste Typ einer solchen Differentialgleichung hat die Gestalt:\n",
        "\n",
        "> $\n",
        "y^{\\prime}=f(x)\n",
        "$\n",
        "\n",
        "hängt also nur von $x$ und nicht von $y$ ab. Diese Differentialgleichung kann durch Integrieren gelöst werden. Die allgemeine Lösung ergibt sich dann mit $y=\\int f(x) \\mathrm{d} x+C$. [Source](https://mathepedia.de/DGL_Erster_Ordnung.html)\n",
        "\n",
        "Ist die Differentialgleichung nach der **höchsten Ableitung aufgelöst**, so nennt man die gewöhnliche Differentialgleichung **explizit**, d. h., es gilt:\n",
        "\n",
        "> $y^{(n)}(x)=f\\left(x, y(x), y^{\\prime}(x), \\ldots, y^{(n-1)}(x)\\right)$ bzw.\n",
        "\n",
        "> $y^{(n)}=f\\left(x, y, y^{\\prime}, \\ldots, y^{(n-1)}\\right)$\n",
        "\n",
        "Funktionsgraphen werden in der Regel durch eine Gleichung y=f(x) beschrieben und sind deswegen explizit dargestellte Kurven\n",
        "\n",
        "In den Anwendungen sind explizite gewöhnliche Differentialgleichungen mathematisch einfacher zu verarbeiten. Die höchste vorkommende Ableitungsordnung n wird Ordnung der Differentialgleichung genannt. ([Source](https://de.m.wikipedia.org/wiki/Gewöhnliche_Differentialgleichung))\n",
        "\n",
        "Eine **explizite** gewöhnliche Differentialgleichung 1. Ordnung hat die Gestalt: \n",
        "\n",
        "> $y^{\\prime}(x)=f(x, y(x))$"
      ]
    },
    {
      "cell_type": "markdown",
      "metadata": {
        "id": "qRobucScQj3W"
      },
      "source": [
        "**Implizite gewöhnliche Differentialgleichung**\n",
        "\n",
        "Eine gewöhnliche Differentialgleichung für die gesuchte Funktion $y(x)$ heisst **implizit**, wenn sie in der Form ist:\n",
        "\n",
        "> $F\\left(x, y(x), y^{\\prime}(x), \\ldots, y^{(n)}(x)\\right)=0$\n",
        "\n",
        "* Die implizite Differentiation (auch implizite Ableitung) ist eine Möglichkeit, **eine Funktion, die nicht explizit durch einen Term, sondern nur implizit durch eine Gleichung gegeben ist** (auch implizite Kurve), mit Hilfe der mehrdimensionalen Differentialrechnung abzuleiten. \n",
        "* Sie kann oft auch benutzt werden, um die Ableitung von Funktionen, die zwar explizit gegeben sind, **in dieser Form aber schwierig abzuleiten sind**, zu bestimmen.\n",
        "* Eine implizite Kurve ist in der Mathematik eine Kurve in der euklidischen Ebene, die durch eine Gleichung der Form F(x, y) = 0\n",
        "* Eine implizite Kurve ist also die Gesamtheit der Nullstellen einer Funktion von zwei Variablen. \n",
        "* Implizit bedeutet, dass die Gleichung der Kurve nicht nach x oder y aufgelöst ist.\n",
        "* Siehe auch: [Implizite_Kurve](https://de.wikipedia.org/wiki/Implizite_Kurve) und [Implizite Differentiation](https://de.wikipedia.org/wiki/Implizite_Differentiation)"
      ]
    },
    {
      "cell_type": "markdown",
      "metadata": {
        "id": "kWsfKUCnQmp4"
      },
      "source": [
        "**Explizite gewöhnliche Differentialgleichung**\n",
        "\n",
        "Funktionsgraphen werden in der Regel durch eine Gleichung y=f(x) beschrieben und sind deswegen explizit dargestellte Kurven\n",
        "\n",
        "\n",
        "Ist die Differentialgleichung nach der **höchsten Ableitung aufgelöst**, so nennt man die gewöhnliche Differentialgleichung **explizit**, d. h., es gilt:\n",
        "\n",
        "> $y^{(n)}(x)=f\\left(x, y(x), y^{\\prime}(x), \\ldots, y^{(n-1)}(x)\\right)$ bzw.\n",
        "\n",
        "> $y^{(n)}=f\\left(x, y, y^{\\prime}, \\ldots, y^{(n-1)}\\right)$\n",
        "\n",
        "\n",
        "In den Anwendungen sind explizite gewöhnliche Differentialgleichungen mathematisch einfacher zu verarbeiten. Die höchste vorkommende Ableitungsordnung n wird Ordnung der Differentialgleichung genannt. \n",
        "\n",
        "Eine **explizite** gewöhnliche Differentialgleichung 1. Ordnung hat die Gestalt: \n",
        "\n",
        "> $y^{\\prime}(x)=f(x, y(x))$\n",
        "\n",
        "Extrempunkte: erste Ableitung ist Null."
      ]
    },
    {
      "cell_type": "markdown",
      "metadata": {
        "id": "-65YEbd0SwBp"
      },
      "source": [
        "**Implizit vs explizit**\n",
        "\n",
        "* Eine Funktion kann in Form 𝑦=𝑓(𝑥) dargestellt werden. Das bedeutet, dass diese Funktion nach der Variablen 𝑦 aufgelöst ist. Man spricht in diesem Fall von einer expliziten Darstellung.\n",
        "\n",
        "* Da bei dieser Darstellungsform jedem 𝑥-Wert nur ein 𝑦-Wert zugeordnet wird, können einfache und häufig notwendige Kurven wie Ellipsen oder Kreislinien nicht geschlossen dargestellt werden (zu jedem 𝑥-Wert existieren mehrere 𝑦-Werte), d.h. es wird zur Darstellung mehr als eine Funktion benötigt. Damit für die Darstellung von Ellipsen oder Kreisen nicht mehrere Funktionen aufgestellt werden müssen, kann man diese auch in impliziter Form angeben.\n",
        "\n",
        "* Implizite Darstellung: Bei der impliziten Darstellungsform ist die Funktion nicht nach einer der beiden Variablen aufgelöst. Die Funktion wird als Menge aller Nullstellen von 𝐹 angegeben und hat die Form:\n",
        "\n",
        "> $𝐹 (𝑥,𝑦)=0$\n",
        "\n",
        "* Mit Hilfe der impliziten Darstellung können auch Ellipsen und Kreise dargelegt werden. Anwendungsbeispiele: Um einen Kreis abzubilden, bedarf es bei der expliziten Darstellung zwei Funktionen. \n",
        "\n",
        "https://www.ingenieurkurse.de/hoehere-mathematik-analysis-gewoehnliche-differentialgleichungen/darstellungsarten-ebener-kurven/implizite-und-explizite-darstellung.html"
      ]
    },
    {
      "cell_type": "markdown",
      "metadata": {
        "id": "IZlQP87eROED"
      },
      "source": [
        "**Kurvenschar (Funktionsschar)**"
      ]
    },
    {
      "cell_type": "markdown",
      "metadata": {
        "id": "vC2FVkDNRRdO"
      },
      "source": [
        "* Die Lösungsmenge einer gewöhnlichen Differentialgleichung ist im allgemeinen eine Funktionenschar.\n",
        "\n",
        "* Die Lösungsmenge einer gewöhnlichen Differentialgleichung ist im allgemeinen eine Funktionenschar. Sucht man eine spezielle Lösung (Funktion) so reicht die Vorgabe der Differentialgleichung nicht aus.(man braucht nfngs- und randbedingung?)\n",
        "\n",
        "* Eine [Kurvenschar](https://de.wikipedia.org/wiki/Kurvenschar), auch [Funktionenschar](https://mathepedia.de/Kurvenscharen.html), Funktionsschar oder Parameterfunktion, ist eine Menge verschiedener Kurven, deren **Abbildungsvorschriften sich in mindestens einem Parameter unterscheiden**. Sonderfälle sind das Büschel, eine einparametrige Schar, und das Bündel, eine Schar mit einem allen Funktionen gemeinsamen Punkt.\n",
        "\n",
        "![cc](https://upload.wikimedia.org/wikipedia/commons/thumb/2/22/Kurvenschar_parabel.svg/360px-Kurvenschar_parabel.svg.png)\n",
        "\n",
        "*Parabelschar $f_{a}(x)=a x^{2}$. Bündel in (0,0) und Büschel in $a$*\n"
      ]
    },
    {
      "cell_type": "markdown",
      "metadata": {
        "id": "CCqE_cd7U5Vw"
      },
      "source": [
        "**Beispiel fur gewohnliche Differentialgleichungen (linear und nichtlinear)**"
      ]
    },
    {
      "cell_type": "markdown",
      "metadata": {
        "id": "PH40tE-BU-x-"
      },
      "source": [
        "https://de.wikipedia.org/wiki/Lotka-Volterra-Gleichungen"
      ]
    },
    {
      "cell_type": "markdown",
      "metadata": {
        "id": "_V_2fb9vVJCf"
      },
      "source": [
        "https://de.wikipedia.org/wiki/Hodgkin-Huxley-Modell"
      ]
    },
    {
      "cell_type": "markdown",
      "metadata": {
        "id": "lWaTQAuEG2m6"
      },
      "source": [
        "#### **Autonome Differentialgleichung**"
      ]
    },
    {
      "cell_type": "markdown",
      "metadata": {
        "id": "KKVNzeFUG6BO"
      },
      "source": [
        "Die zeitliche Entwicklung eines Punktes im Phasenraum wird durch Differentialgleichungen beschrieben und durch Trajektorien (Bahnkurven, Orbit) im Phasenraum dargestellt. Dies sind **Differentialgleichungen erster Ordnung in der Zeit** und durch einen Anfangspunkt eindeutig festgelegt. Ist die Differentialgleichung zeitunabhängig, sind dies **autonome Differentialgleichungen**.\n",
        "\n",
        "Als [autonome Differentialgleichung](https://de.wikipedia.org/wiki/Autonome_Differentialgleichung) oder autonomes System bezeichnet man einen Typ von gewöhnlichen Differentialgleichungen, **der nicht explizit von der unabhängigen Variable abhängt**.\n",
        "\n",
        "Zum Beispiel ist die Differentialgleichung für den [harmonischen Oszillator](https://de.wikipedia.org/wiki/Harmonischer_Oszillator) autonom:\n",
        "\n",
        ">$\n",
        "y^{\\prime \\prime}(x)+\\lambda \\cdot y(x)=0\n",
        "$\n",
        "\n",
        "Die Mathieusche Differentialgleichung dagegen nicht:\n",
        "\n",
        ">$\n",
        "y^{\\prime \\prime}(x)+[\\lambda+\\gamma \\cos (x)] \\cdot y(x)=0\n",
        "$\n",
        "\n",
        "da sie explizit von der unabhängigen Variable $x$ abhängt (ein Parameter wird „von außen“ periodisch verändert). \n",
        "\n",
        "Die unabhängige Variable steht in den Anwendungen häufig für die Zeit."
      ]
    },
    {
      "cell_type": "markdown",
      "metadata": {
        "id": "CL9Ic_94UozH"
      },
      "source": [
        "**Siehe auch dynamical systems:**"
      ]
    },
    {
      "cell_type": "markdown",
      "metadata": {
        "id": "RUeuF6cJxKwE"
      },
      "source": [
        "\n",
        "> $\\dot{x}=$ rate of change of $x$ as time changes\n",
        "\n",
        "> $\\dot{y}=$ rate of change of $y$ as time changes\n",
        "\n",
        "They depend on t:\n",
        "\n",
        "$\\frac{d x}{d t}=$ rate of change of $x$ as time changes $\\frac{d y}{d t}=$ rate of change of $y$ as time changes\n",
        "\n",
        "but the differential equation that describe x dot and y dot don’t actually involve time t:\n",
        "\n",
        "> $\\dot{x}=-y-0.1 x$\n",
        "\n",
        "> $\\dot{y}=x-0.4 y$\n",
        "\n",
        "This makes them autonomous. Each combination of x and y to only corresponds to one combination of x dot and y dot.\n",
        "\n",
        "You can represent it in a dynamical system called the phase space. Each point in space is a unique state of the system. And has its own rate of change shown as a vector. "
      ]
    },
    {
      "cell_type": "markdown",
      "metadata": {
        "id": "gdkIExFtEh8W"
      },
      "source": [
        "#### **Partielle Differentialgleichung**"
      ]
    },
    {
      "cell_type": "markdown",
      "metadata": {
        "id": "MhCrLrMK7Jmg"
      },
      "source": [
        "\n",
        "https://en.m.wikipedia.org/wiki/Elliptic_partial_differential_equation\n",
        "\n",
        "https://en.m.wikipedia.org/wiki/Partial_differential_equation\n",
        "\n",
        "https://en.m.wikipedia.org/wiki/Elliptic_operator\n",
        "\n"
      ]
    },
    {
      "cell_type": "markdown",
      "metadata": {
        "id": "LwhDu5akcQCx"
      },
      "source": [
        "* Partielle Differenzen werden angegeben mit $\\partial$\n",
        "\n",
        "* Erlauterung in [Youtube](https://www.youtube.com/watch?v=ly4S0oi3Yz8)\n",
        "\n",
        "* Ω als Teilmenge von $R$<sup>n</sup> ist als Gebiet offen und zusammenhängend\n",
        "\n",
        "* Offene Mengen sind wichtig fur die Bildung einer Ableitung (weil man ja keinen rand mochte, sondern an jedem Punkt der Menge differenzieren, einen Differenzenquotienten bilden). Man braucht genügend Punkte in der Umgebung - man kann eine Kugel um jeden Punkt legen, der komplett in der Menge Ω liegt (siehe auch Definition von offen in einem metrischen Raum). Offenheitsbedingungen verwenden, um Grenzwerte zu definieren, u.a. von diesen Differenzenquotienten\n",
        "\n",
        "* Zusammenhängend: wählen wir 2 Punkte aus der Menge, finden wir immer einen direkten Weg zwischen ihnen (man kann eine stetige Abbildung vom Intervall Punkt 1 zu Punkt 2 bilden (muss keine Gerade sein).\n",
        "\n",
        "**Eine partielle Differentialgleichung in Ω ist eine Bedingung in der Form:**\n",
        "\n",
        "> $F\\left(x, u, \\left(\\partial^{\\alpha} u\\right)_{1 \\leqslant|\\alpha| \\leq m}\\right)=0$\n",
        "\n",
        "> $(x \\in \\Omega, u: \\Omega \\rightarrow \\mathbb{R}, \\quad \\alpha \\quad$ Multindex $)$\n",
        "\n",
        "**Eine klassische Losung der partiellen Differentialgleichung (PDE) ist:**\n",
        "\n",
        "> $u: \\Omega \\rightarrow \\mathbb{R} \\quad, \\quad u \\in C^{m}(\\Omega)$ mit\n",
        "\n",
        "> $\\forall_{x \\in \\Omega} \\quad F\\left(x, u(x), \\quad\\left(\\partial^{\\alpha} u(x)\\right)_{1 \\leq |\\alpha| \\leq m}\\right)$\n",
        "\n",
        "**Partielle Differentialgleichungen werden in erster Linie durch Trennung der Variablen und spätere Integration gelöst.**\n",
        "\n",
        "Die Zahl m heisst die Ordnung der PDE, wenn sie minimal gewahlt ist."
      ]
    },
    {
      "cell_type": "markdown",
      "metadata": {
        "id": "5LgbB0zJkTri"
      },
      "source": [
        "https://www.youtube.com/watch?v=vBxifpKoVwc&t=25s"
      ]
    },
    {
      "cell_type": "markdown",
      "metadata": {
        "id": "wW0-eczlexDp"
      },
      "source": [
        "**Lineare PDE auf Ω (Gebiet)**"
      ]
    },
    {
      "cell_type": "markdown",
      "metadata": {
        "id": "snEgLyDrKZDK"
      },
      "source": [
        "Sobolevräume sind ein grundlegendes Werkzeug bei der Behandlung von PDG (rein und angewandt)."
      ]
    },
    {
      "cell_type": "markdown",
      "metadata": {
        "id": "BInJzezlpcTk"
      },
      "source": [
        "See also **Variational Formulations** - wichtig fur partielle Differentialgleichungen"
      ]
    },
    {
      "cell_type": "markdown",
      "metadata": {
        "id": "B7dGv8cd5PAq"
      },
      "source": [
        "https://de.wikipedia.org/wiki/Partielle_Differentialgleichung"
      ]
    },
    {
      "cell_type": "markdown",
      "metadata": {
        "id": "xPzLkIswFifn"
      },
      "source": [
        "**// Gleichungen**"
      ]
    },
    {
      "cell_type": "markdown",
      "metadata": {
        "id": "j8bIXZBFPx0r"
      },
      "source": [
        "**Euler-Gleichungen** (siehe auch unter Variationsanalyse)"
      ]
    },
    {
      "cell_type": "markdown",
      "metadata": {
        "id": "_N6Tf-eKPI3y"
      },
      "source": [
        "* Euler-Gleichungen (Strömungsmechanik)\n",
        "\n",
        "* bildet dann ein System von **nichtlinearen partiellen** Differentialgleichungen **erster Ordnung**\n",
        "\n",
        "* Wird die Viskosität vernachlässigt ($\\eta =\\lambda =0$), so erhält man die Euler-Gleichungen (hier für den kompressiblen Fall)\n",
        "\n",
        "> $\\rho \\frac{\\partial \\vec{v}}{\\partial t}+\\rho(\\vec{v} \\cdot \\nabla) \\vec{v}=-\\nabla p+\\vec{f}$\n",
        "\n",
        "https://de.wikipedia.org/wiki/Euler-Gleichungen_(Strömungsmechanik)"
      ]
    },
    {
      "cell_type": "markdown",
      "metadata": {
        "id": "HgKFeXcDPwAv"
      },
      "source": [
        "**Navier-Stokes-Gleichungen**"
      ]
    },
    {
      "cell_type": "markdown",
      "metadata": {
        "id": "v4wALvauPTCj"
      },
      "source": [
        "* Die Gleichungen sind eine **Erweiterung der Euler-Gleichungen** der Strömungsmechanik **um Viskosität beschreibende Terme** (Die Navier-Stokes-Gleichungen beinhalten die Euler-Gleichungen als den Sonderfall, in dem die innere Reibung (Viskosität) und die Wärmeleitung des Fluids vernachlässigt werden.)\n",
        "\n",
        "* bildet dann ein System von **nichtlinearen partiellen** Differentialgleichungen **zweiter Ordnung**\n",
        "\n",
        "* Die Navier-Stokes-Gleichungen bilden das Verhalten von Wasser, Luft und Ölen ab und werden daher in diskretisierter Form bei der Entwicklung von Fahrzeugen wie Autos und Flugzeugen angewendet. \n",
        "\n",
        "* Dies geschieht in Näherungsform, da keine exakten analytischen Lösungen für diese komplizierten Anwendungsfälle bekannt sind.\n",
        "\n",
        "> $\\rho \\overrightarrow{\\vec{v}}=\\rho\\left(\\frac{\\partial \\vec{v}}{\\partial t}+(\\vec{v} \\cdot \\nabla) \\vec{v}\\right)=-\\nabla p+\\mu \\Delta \\vec{v}+(\\lambda+\\mu) \\nabla(\\nabla \\cdot \\vec{v})+\\vec{f}$\n",
        "\n",
        "https://de.wikipedia.org/wiki/Navier-Stokes-Gleichungen\n",
        "\n",
        "https://de.wikipedia.org/wiki/Numerische_Strömungsmechanik"
      ]
    },
    {
      "cell_type": "markdown",
      "metadata": {
        "id": "uYr5dvnlGOPC"
      },
      "source": [
        "**Exkurs: Fluiddynamik**"
      ]
    },
    {
      "cell_type": "markdown",
      "metadata": {
        "id": "NNoa9aLYGQUu"
      },
      "source": [
        "https://de.wikipedia.org/wiki/Fluiddynamik"
      ]
    },
    {
      "cell_type": "markdown",
      "metadata": {
        "id": "2OK_z8u7FxgT"
      },
      "source": [
        "**Stokes-Gleichungen**"
      ]
    },
    {
      "cell_type": "markdown",
      "metadata": {
        "id": "aw6StMBYFzY_"
      },
      "source": [
        "https://de.wikipedia.org/wiki/Navier-Stokes-Gleichungen#Stokes-Gleichung"
      ]
    },
    {
      "cell_type": "markdown",
      "metadata": {
        "id": "6QSq6KA1Fqdh"
      },
      "source": [
        "**Potentialgleichungen**"
      ]
    },
    {
      "cell_type": "markdown",
      "metadata": {
        "id": "BjCTnnjIFsJU"
      },
      "source": [
        "https://de.wikipedia.org/wiki/Potentialströmung"
      ]
    },
    {
      "cell_type": "markdown",
      "metadata": {
        "id": "5swSZlsF7oGD"
      },
      "source": [
        "**Black–Scholes-Model**"
      ]
    },
    {
      "cell_type": "markdown",
      "metadata": {
        "id": "OTIv3qZf7rQE"
      },
      "source": [
        "https://de.wikipedia.org/wiki/Black-Scholes-Modell"
      ]
    },
    {
      "cell_type": "markdown",
      "metadata": {
        "id": "9fm1w6KjFQpT"
      },
      "source": [
        "**// Loesungsverfahren**"
      ]
    },
    {
      "cell_type": "markdown",
      "metadata": {
        "id": "FBOaLmn9FZd0"
      },
      "source": [
        "https://de.wikipedia.org/wiki/Finite-Elemente-Methode"
      ]
    },
    {
      "cell_type": "markdown",
      "metadata": {
        "id": "dwGNSrciFVKW"
      },
      "source": [
        "https://de.wikipedia.org/wiki/Spektralmethode"
      ]
    },
    {
      "cell_type": "markdown",
      "metadata": {
        "id": "HLu350gHFXtS"
      },
      "source": [
        "https://de.wikipedia.org/wiki/Liste_numerischer_Verfahren"
      ]
    },
    {
      "cell_type": "markdown",
      "metadata": {
        "id": "S0BvtcWdDkA6"
      },
      "source": [
        "**Charakteristische Gleichung & Methode der Charakteristiken**"
      ]
    },
    {
      "cell_type": "markdown",
      "metadata": {
        "id": "u7fW5fPlDiOl"
      },
      "source": [
        "https://de.wikipedia.org/wiki/Charakteristische_Gleichung"
      ]
    },
    {
      "cell_type": "markdown",
      "metadata": {
        "id": "XWOUvVgEEGAb"
      },
      "source": [
        "**Methode der Charakteristiken**"
      ]
    },
    {
      "cell_type": "markdown",
      "metadata": {
        "id": "3Wx8fLLOESk1"
      },
      "source": [
        "* Die Methode der Charakteristiken ist eine Methode zur Lösung partieller\n",
        "Differentialgleichungen (PDGL/PDE), die typischerweise erster Ordnung und\n",
        "quasilinear sind, also Gleichungen vom Typ\n",
        "\n",
        "> $\n",
        "P(x, t, u) \\frac{\\partial u}{\\partial t}+Q(x, t, u) \\frac{\\partial u}{\\partial x}=R(x, t, u)\n",
        "$\n",
        "\n",
        "* für eine Funktion $u(x, t)$ mit der Anfangsbedingung $u(x, 0)=f(x)$. (Dabei heißt eine Gleichung quasilinear, falls sie in der höchsten Ableitung linear ist).\n",
        "\n",
        "* Die grundlegende Idee besteht darin, **die PDE durch eine geeignete Koordinatentransformation auf ein System gewöhnlicher Differentialgleichungen auf bestimmten Hyperflächen, sogenannten Charakteristiken, zurückzuführen.**\n",
        "\n",
        "* Die PDE kann dann als Anfangswertproblem in dem neuen System mit Anfangswerten auf den die Charakteristik schneidenden Hyperflächen gelöst werden. Störungen breiten sich längs der Charakteristiken aus.\n",
        "\n",
        "* Charakteristiken spielen eine Rolle in der qualitativen Diskussion der Lösung bestimmter PDE und in der Frage, wann Anfangswertprobleme für diese PDE korrekt gestellt sind.\n"
      ]
    },
    {
      "cell_type": "markdown",
      "metadata": {
        "id": "FOOie2DlDnLw"
      },
      "source": [
        "https://en.wikipedia.org/wiki/Method_of_characteristics"
      ]
    },
    {
      "cell_type": "markdown",
      "metadata": {
        "id": "rw9GQgLL-qm-"
      },
      "source": [
        "#### **Stochastische Differentialgleichungen**"
      ]
    },
    {
      "cell_type": "markdown",
      "metadata": {
        "id": "_IJLEoSs-mKd"
      },
      "source": [
        "Eine [stochastischen Differentialgleichung](https://de.wikipedia.org/wiki/Stochastische_Differentialgleichung) ist eine Verallgemeinerung des Begriffs der gewöhnlichen Differentialgleichung auf stochastische Prozesse. Stochastische Differentialgleichungen werden in zahlreichen Anwendungen eingesetzt, **um zeitabhängige Vorgänge zu modellieren**, die neben deterministischen Einflüssen zusätzlich **stochastischen Störfaktoren (Rauschen)** ausgesetzt sind."
      ]
    },
    {
      "cell_type": "markdown",
      "metadata": {
        "id": "zN-mlxJyUxVU"
      },
      "source": [
        "#### **Anfangs- & Randwertproblem**"
      ]
    },
    {
      "cell_type": "markdown",
      "metadata": {
        "id": "xbR-3EnGQ33f"
      },
      "source": [
        "Beispielsweise werden alle schwingenden Pendel durch eine Differentialgleichung beschrieben (siehe: Pendelgleichung), und der generelle Bewegungsablauf folgt immer dem gleichen Prinzip. Der konkrete Bewegungsablauf ist jedoch durch die Rand- oder Anfangsbedingung(en) (wann wurde das Pendel angestoßen, und wie weit) bestimmt. Die Lösbarkeit von Anfangswertproblemen bei gewöhnlichen Differentialgleichungen 1. Ordnung wird durch den Satz von Picard-Lindelöf beschrieben.\n",
        "\n",
        "https://mathepedia.de/Gewoehnliche_Differentialgleichungen.html"
      ]
    },
    {
      "cell_type": "markdown",
      "metadata": {
        "id": "qKrBEYITQwic"
      },
      "source": [
        "**Anfangswertprobleme (Cauchy-Problem)**"
      ]
    },
    {
      "cell_type": "markdown",
      "metadata": {
        "id": "9Gn21EXNnps9"
      },
      "source": [
        "\n",
        "\n",
        "Wer zu einer Differentialgleichung eine **Anfangsbedingung** hinzufügt, stellt damit ein **Anfangswertproblem**. Eine besonders spannende Frage lautet dabei, wie eine Anfangsbedingung zu einer gegebenen Differentialgleichung beschaffen sein muss, damit das entstehende Anfangswertproblem **genau eine eindeutig bestimmte Lösung zulässt**."
      ]
    },
    {
      "cell_type": "markdown",
      "metadata": {
        "id": "__z4QH_EiQZw"
      },
      "source": [
        "Der freie Fall (etwa eines Apfels vom Baum) wird beschrieben durch die Bewegungsgleichung\n",
        "\n",
        ">$\n",
        "\\begin{aligned}\n",
        "y^{\\prime \\prime}(t) &=-g \\\\\n",
        "\\Rightarrow y^{\\prime}(t) &=-g \\cdot t+v_{0}\n",
        "\\end{aligned}$\n",
        "\n",
        "mit der Konstanten $g \\approx 9,81 \\mathrm{~m} / \\mathrm{s}^{2}$ (Erdbeschleunigung).\n",
        "Die Lösungsmenge dieser Differentialgleichung besteht zunächst aus allen Funktionen der Form\n",
        "\n",
        ">$\n",
        "\\Rightarrow y(t)=-\\frac{1}{2} g t^{2}+v_{0} \\cdot t+y_{0}\n",
        "$\n",
        "\n",
        "mit beliebigen Integrationskonstanten $y_{0}$ und $v_{0}$.\n",
        "Eine mögliche Anfangsbedingung sagt z. B. aus, dass der Apfel zu Beginn der Bewegung an einem\n",
        "Ast in drei Metern Höhe hängt:\n",
        "\n",
        ">$\n",
        "y(0)=y_{0}=3 \\mathrm{~m}\n",
        "$\n",
        "\n",
        "und sich in Ruhe befindet:\n",
        "\n",
        ">$\n",
        "y^{\\prime}(0)=v_{0}=0 \\mathrm{~m} / \\mathrm{s}\n",
        "$\n",
        "\n",
        "Diese Anfangsbedingung zeichnet nun in der Lösungsmenge der Differentialgleichung die eine Funktion\n",
        "\n",
        ">$\n",
        "\\Rightarrow y(t)=3 \\mathrm{~m}-\\frac{1}{2} g t^{2}\n",
        "$\n",
        "\n",
        "als die eindeutig bestimmte Lösung des Anfangswertproblems aus (Loesung dann zB uber das [Runge-Kutta-Verfahren](https://de.wikipedia.org/wiki/Runge-Kutta-Verfahren) - Einschrittverfahren zur näherungsweisen Lösung von Anfangswertproblemen in der numerischen Mathematik)."
      ]
    },
    {
      "cell_type": "markdown",
      "metadata": {
        "id": "Lk442LLDjL8y"
      },
      "source": [
        "https://de.wikipedia.org/wiki/Anfangsbedingung"
      ]
    },
    {
      "cell_type": "markdown",
      "metadata": {
        "id": "9ZR3H5KyQ8YZ"
      },
      "source": [
        "* Das Gegenstück zum Randwertproblem ist das [Anfangswertproblem](https://mathepedia.de/Anfangswertprobleme.html) auch [hier](https://de.wikipedia.org/wiki/Anfangswertproblem), bei dem die Lösung für einen beliebigen Punkt im Definitionsbereich vorgegeben wird.\n",
        "\n",
        "* Als Anfangswertproblem bezeichnet eine **wichtige Klasse von Differentialgleichungen**. Die Lösung eines Anfangswertproblems ist die Lösung der Differentialgleichung unter zusätzlicher Berücksichtigung eines vorgegebenen Anfangswertes.\n",
        "\n",
        "* **Die Lösungsmenge einer gewöhnlichen Differentialgleichung ist im allgemeinen eine Funktionenschar**. Sucht man eine spezielle Lösung (Funktion) so reicht die Vorgabe der Differentialgleichung nicht aus.\n",
        "\n",
        "* Sind neben der Differentialgleichung $F\\left(x, y, y^{\\prime}, \\ldots, y^{(n)}\\right.$) außerdem noch Anfangsbedingungen der Form $\n",
        "y\\left(x_{0}\\right)=c_{0}, y^{\\prime}\\left(x_{0}\\right)=c_{1}, \\ldots, y^{(n)}\\left(x_{0}\\right)=c_{n}$ gegeben, so spricht man von einem Anfangswertproblem.\n",
        "\n",
        "* Beispiel: Allgemeine Lösung der Differentialgleichung $y^{\\prime}=y$ ist $y=C \\mathrm{e}^{x}$. Mit der Anfangsbedingung $y(0)=2$ erhalten wir die Gleichung $2=C \\cdot 1$ und finden $y=2 \\cdot \\mathrm{e}^{x}$ als Lösung des Anfangswertproblems.\n",
        "\n",
        "* Verallgemeinert man das Cauchy-Problem auf mehrere Veränderliche, etwa n Veränderliche $x_{1},\\dotsc ,x_{n}$, so erhält man partielle Differentialgleichungen. "
      ]
    },
    {
      "cell_type": "markdown",
      "metadata": {
        "id": "cPxOFEGHU6-f"
      },
      "source": [
        "Ein Anfangswertproblem **erster Ordnung** ist ein Gleichungssystem, das aus einer gewöhnlichen Differentialgleichung erster Ordnung\n",
        "\n",
        "> $\n",
        "y^{\\prime}(t)=f(t, y(t))\n",
        "$\n",
        "\n",
        "und einer zusätzlichen Anfangsbedingung\n",
        "\n",
        "> $\n",
        "y\\left(t_{0}\\right)=y_{0}\n",
        "$\n",
        "\n",
        "besteht, mit\n",
        "- dem Anfangswert $y_{0}$ und\n",
        "- einem Zeitpunkt $t_{0} \\in \\mathbb{R}$.\n",
        "\n",
        "Eine konkrete Funktion $y$ ist eine Lösung des Anfangswertproblems. wenn sie beide Gleichungen erfüllt. Gesucht ist also eine Funktion $y$, die die **Bedingungen der Differentialgleichung und des Anfangswertes** erfüllt.\n",
        "\n",
        "Ist die Funktion $f$ stetig, so ist dies nach dem Hauptsatz der Integralrechnung genau\n",
        "dann der Fall, wenn\n",
        "\n",
        "> $\n",
        "y(t)=y_{0}+\\int_{t_{0}}^{t} f(s, y(s)) d s\n",
        "$\n",
        "\n",
        "für alle $t$ im Definitionsintervall gilt."
      ]
    },
    {
      "cell_type": "markdown",
      "metadata": {
        "id": "THi5Mx3uQyx0"
      },
      "source": [
        "**Randwertproblem (Boundary value)**"
      ]
    },
    {
      "cell_type": "markdown",
      "metadata": {
        "id": "KfUxHFgakA7f"
      },
      "source": [
        "Bei partiellen Differentialgleichungen, wenn also die gesuchte Funktion nicht nur von einer, sondern von mehreren Variablen abhängt, werden oftmals [Randbedingungen](https://de.wikipedia.org/wiki/Randbedingung) an Stelle von Anfangsbedingungen verwendet. Manchmal wird dann der Spezialfall einer Randbedingung, deren Definitionsbereich eine Hyperebene im vollen Definitionsbereich der Differentialgleichung bildet, Anfangsbedingung genannt.\n",
        "\n",
        "In der Betriebswirtschaftslehre und der Volkswirtschaftslehre entsprechen die Randbedingungen den kurzfristig oder gar nicht durch den Entscheidungsträger beeinflussbaren Datenparametern wie beispielsweise die Umweltzustände der Witterung oder der Gesetze.\n",
        "\n"
      ]
    },
    {
      "cell_type": "markdown",
      "metadata": {
        "id": "qkV16ad4XIXS"
      },
      "source": [
        "Sei die gegebene Differentialgleichung $y^{\\prime \\prime}(x)=-y(x)$. Die Lösungsmenge dieser Gleichung ist $a \\sin (x)+b \\cos (x)$.\n",
        "\n",
        "* Gesucht ist die Lösung mit $y(0)=1$ und $y(\\pi / 2)=0 \\Rightarrow$ Die Lösung ist $y=\\cos (x)$.\n",
        "\n",
        "* Periodische Randbedingung: Gesuchtłist die Lösung mit $y(0)=0$ und $y(\\pi)=0 \\Rightarrow$ Es gibt unendlich viele Lösungen der Form $a \\sin (x)$ mit beliebigem $a$.\n",
        "\n",
        "* Gesucht ist die Lösung mit $y(0)=0$ und $y(2 \\pi)=1 \\Rightarrow$ Es gibt keine Lösung."
      ]
    },
    {
      "cell_type": "markdown",
      "metadata": {
        "id": "SwkYHmmJXfrc"
      },
      "source": [
        "Arten von Randbedingungen (Es gibt unterschiedliche Möglichkeiten, auf dem Rand des betrachteten Gebietes Werte vorzuschreiben):\n",
        "\n",
        "* Werte der Lösung vorschreiben; im Fall einer auf dem Intervall $[a, b]$ definierten gewöhnlichen Differentialgleichung schreibt man also $y(a)$ und $y(b)$ vor und spricht\n",
        "dann von [**Dirichlet-Randbedingungen**](https://de.wikipedia.org/wiki/Dirichlet-Randbedingung). \n",
        "\n",
        "* Bedingungen an die Ableitungen stellen, also $y^{\\prime}(a)$ und $y^{\\prime}(b)$ vorgeben, dann spricht man [**von Neumann-Randbedingungen**](https://de.wikipedia.org/wiki/Neumann-Randbedingung) (bei gewöhnlichen Differentialgleichungen, wie oben ausgeführt, von Anfangsbedingungen). \n",
        "\n",
        "* Ein Spezialfall sind [**periodische Randbedingungen**](https://de.wikipedia.org/wiki/Periodische_Randbedingung), hier muss (im Beispiel einer auf dem Intervall $[a, b]$ betrachteten gewöhnlichen Differentialgleichung) gelten: $y(a)=y(b)$ bzw. $y^{\\prime}(a)=y^{\\prime}(b)$."
      ]
    },
    {
      "cell_type": "markdown",
      "metadata": {
        "id": "aZjLhnrC37pt"
      },
      "source": [
        "[Randwertprobleme](https://de.m.wikipedia.org/wiki/Randwertproblem) nennt man eine **wichtige Klasse von Problemstellungen**, bei denen zu einer vorgegebenen [Differentialgleichung](https://de.m.wikipedia.org/wiki/Differentialgleichung) Lösungen gesucht werden, die auf dem **Rand des Definitionsbereiches** vorgegebene Funktionswerte (Randbedingungen) annehmen sollen. \n",
        "\n",
        "* Im Falle einer gewöhnlichen Differentialgleichung ist der Definitionsbereich der Funktion ein abgeschlossenes Intervall.\n",
        "\n",
        "* Siehe auch: https://de.wikipedia.org/wiki/Dirichlet-Randbedingung\n",
        "\n",
        "* Beim **Dirichlet-Problem** werden Funktionswerte auf dem Rand vorgegeben. Anstatt Funktionswerten werden beim **Neumann-Problem** Ableitungswerte vorgeschrieben. Die **schiefe Randbedingung** stellt eine Kombination der beiden vorangehenden Probleme dar. Hierbei soll die gesuchte Funktion auf dem Rand gleich ihrer Normalenableitung auf dem Rand sein.\n",
        "\n",
        "* Werden hier statt zwei Werten nur an einem Randpunkt des Intervalles – meistens a – Werte für u und zusätzlich für Ableitungen von u vorgegeben, so spricht man von einem Anfangswertproblem und nennt die vorgegebenen Werte seine Anfangsbedingungen.\n",
        "\n",
        "* Partielle Differentialgleichungen betrachtet man meistens auf Sobolew-Räumen. In diesen Räumen werden Funktionen, die bis auf Nullmengen übereinstimmen, als gleich angesehen. Da der Rand eines Gebietes üblicherweise eine Nullmenge ist, ist der Begriff der Randbedingung problematisch. Lösungen für dieses Problem sind sobolewsche Einbettungssätze oder – allgemeiner – Spuroperatoren.\n",
        "\n",
        "* Randwertaufgaben haben nicht immer eine Lösung (siehe Beispiel unten), im Falle ihrer Existenz ist die Lösung nicht in allen Fällen eindeutig. Die Berechnung einer Näherungslösung für eine Randwertaufgabe mit Mitteln der numerischen Mathematik ist oft aufwendig und läuft meist auf die Lösung sehr großer Gleichungssysteme hinaus."
      ]
    },
    {
      "cell_type": "markdown",
      "metadata": {
        "id": "xfdBIY5Y-eNj"
      },
      "source": [
        "#### **Wetter- & Klimavorhersage**"
      ]
    },
    {
      "cell_type": "markdown",
      "metadata": {
        "id": "xnhq7rjuEW9l"
      },
      "source": [
        "**Meteorology**"
      ]
    },
    {
      "cell_type": "markdown",
      "metadata": {
        "id": "7xIi2fJ8EYkj"
      },
      "source": [
        "https://en.wikipedia.org/wiki/Meteorology"
      ]
    },
    {
      "cell_type": "markdown",
      "metadata": {
        "id": "iIFhaPuaEx8S"
      },
      "source": [
        "https://www.grund-wissen.de/diplomarbeit/physik-der-atmoshpaere.html"
      ]
    },
    {
      "cell_type": "markdown",
      "metadata": {
        "id": "S59bbwoy_I_P"
      },
      "source": [
        "**Wettervorhersage**"
      ]
    },
    {
      "cell_type": "markdown",
      "metadata": {
        "id": "bxNFb2DDE0-R"
      },
      "source": [
        "https://lu-glidz.blogspot.com/2016/10/meteomodelle-besser-verstehen.html"
      ]
    },
    {
      "cell_type": "markdown",
      "metadata": {
        "id": "LvNjDi05_Ezj"
      },
      "source": [
        "* Als physikalisches Ereignis lässt sich das Wetter durch entsprechende Naturgesetze beschreiben. Die grundlegende Idee einer Wetterprognose ist es, aus einem bereits vergangenen und dem aktuellen Zustand der Atmosphäre, unter Anwendung der bekannten physikalischen Regeln, einen Zustand in der Zukunft abzuleiten.\n",
        "\n",
        "* Die mathematischen Konstrukte, welche diese physikalischen Regeln beschreiben, sind allerdings sogenannte nichtlineare Gleichungen. Das bedeutet, dass bereits kleine Änderungen im Ausgangszustand zu relativ großen Veränderungen am Ergebnis der Rechnung führen können (siehe auch: Schmetterlingseffekt).\n",
        "\n",
        "* Es wird im Wesentlichen zwischen einer manuellen oder [synoptischen Wettervorhersage](https://de.wikipedia.org/wiki/Synoptische_Meteorologie) und einer numerischen Wettervorhersage unterschieden, wobei heute immer noch eine Kombination beider Verfahren zur Anwendung kommt. Dies hängt damit zusammen, dass auch aktuelle numerische Prognosemodelle unzureichende Ergebnisse liefern. Um die lokale Klimatologie von Wetterstationen zu berücksichtigen, werden heutzutage den numerischen Berechnungen noch statistische Verfahren nachgeschaltet, wie z. B. die MOS-Verfahren Model Output Statistics.\n",
        "\n",
        "* Die Daten über den aktuellen Zustand der Atmosphäre kommen von einem Netz von Bodenmessstationen, die **Windgeschwindigkeit, Temperatur, Luftdruck und Luftfeuchtigkeit sowie Niederschlagsmengen** messen. Zusätzlich werden auch Daten von Radiosonden, Wettersatelliten, Verkehrsflugzeugen und Wetterschiffen verwendet. **Problematisch ist dabei die unregelmäßige Verteilung dieser Beobachtungen und Messungen, sowie die Tatsache**, dass in geringer entwickelten Ländern und über den Ozeanen relativ wenige Messstationen vorhanden sind.\n"
      ]
    },
    {
      "cell_type": "markdown",
      "metadata": {
        "id": "MOdwOPOjAH6S"
      },
      "source": [
        "**Verlässlichkeit der Wetterprognosen**"
      ]
    },
    {
      "cell_type": "markdown",
      "metadata": {
        "id": "yGf9ntpxAEw-"
      },
      "source": [
        "\n",
        "* Heute ist eine Prognose für die kommende Woche ungefähr so zuverlässig, wie sie es vor dreißig Jahren für den nächsten Tag war. Die 24-Stunden-Vorhersage erreicht eine Eintreffgenauigkeit von gut 90 %. Die Treffsicherheit für die kommenden 3 Tage beträgt etwas mehr als 75 %. 2008 war eine Sieben-Tage-Vorhersage besser als die Zwei-Tage-Vorhersage zu Beginn des Computerzeitalters 1968.\n",
        "\n",
        "* Die Zuverlässigkeit schwankt jedoch sehr stark in Abhängigkeit von der Wetterlage. So ist es bei einer stabilen Winterhochdrucklage manchmal problemlos möglich eine Woche mit 90 % Sicherheit zu prognostizieren. Dagegen liegt die Prognosegüte bei einer instabilen Gewitterlage im Sommer oft deutlich unter 70 % für 24 Stunden. Ebenfalls muss man bei der Prognosegüte zwischen Temperatur und Niederschlag unterscheiden. Temperaturen können deutlich genauer als Niederschlag prognostiziert werden.\n",
        "\n",
        "* Mit einer Trefferquote von über 90 Prozent sagt der Deutsche Wetterdienst heute die Temperatur des folgenden Tages voraus, vor 30 Jahren betrug dieser Wert nur gut 70 Prozent; bei der Windgeschwindigkeit sind die Angaben in über 95 Prozent korrekt, bei der Niederschlagsmenge in über 80 Prozent der Fälle.\n",
        "\n",
        "* Siehe auch [History of numerical weather prediction](https://en.wikipedia.org/wiki/History_of_numerical_weather_prediction)"
      ]
    },
    {
      "cell_type": "markdown",
      "metadata": {
        "id": "fuosisT4AhDJ"
      },
      "source": [
        "**Die Theorie der Meteorologie ist zwar durch die [Gasgesetze](https://de.wikipedia.org/wiki/Gasgesetze), die [Thermodynamik](https://de.wikipedia.org/wiki/Thermodynamik) und die [Strömungslehre](https://de.wikipedia.org/wiki/Strömungsmechanik), hier insbesondere der [Fluiddynamik](https://de.wikipedia.org/wiki/Fluiddynamik) und der [Numerischen Strömungsmechanik](https://de.wikipedia.org/wiki/Numerische_Strömungsmechanik), weitgehend geklärt, kann aber durch kleinräumige Effekte von bis zu Kilometer-Dimensionen nicht alle Luftbewegungen mit ausreichender Genauigkeit berechnen.**"
      ]
    },
    {
      "cell_type": "markdown",
      "metadata": {
        "id": "AIb0pAG9ek50"
      },
      "source": [
        "**Numerical Weather Prediction**"
      ]
    },
    {
      "cell_type": "markdown",
      "metadata": {
        "id": "Ju4PQ0SY7ITy"
      },
      "source": [
        "* Numerische Wettervorhersagen (engl. numerical weather predictions, NWPs) sind **rechnergestützte** [Wettervorhersagen](https://de.wikipedia.org/wiki/Wettervorhersage). \n",
        "\n",
        "* Aus dem Zustand der Atmosphäre zu einem gegebenen Anfangszeitpunkt wird durch numerische Lösung der relevanten Gleichungen der Zustand zu späteren Zeiten berechnet: im trockenadiabatischen Fall: \n",
        "  * [Navier-Stokes-Gleichungen](https://de.wikipedia.org/wiki/Navier-Stokes-Gleichungen), \n",
        "  * [thermische Zustandsgleichung idealer Gase](https://de.wikipedia.org/wiki/Thermische_Zustandsgleichung_idealer_Gase), \n",
        "  * [Erster Hauptsatz der Thermodynamik](https://de.wikipedia.org/wiki/Erster_Hauptsatz_der_Thermodynamik), \n",
        "  * [Kontinuitätsgleichung](https://de.wikipedia.org/wiki/Kontinuitätsgleichung),\n",
        "\n",
        "* Und im feuchtdiabatischen Fall weitere Kontinuitätsgleichungen sowie [Strahlungsübertragungsgleichungen](https://de.wikipedia.org/wiki/Strahlungstransport). \n",
        "\n",
        "* Diese Berechnungen umfassen teilweise einen Prognosezeitraum von mehr als 14 Tagen und sind die Basis aller heutigen Wettervorhersagen. Im operationellen Betrieb werden sie zumeist durch statistische Verfahren (s. [Model Output Statistics](https://de.wikipedia.org/wiki/Model_Output_Statistics)) nachbereitet.\n",
        "\n",
        "* In einem solchen numerischen Vorhersagemodell wird das Rechengebiet mit Gitterzellen und/oder durch eine spektrale Darstellung diskretisiert, so dass die relevanten physikalischen Größen im dreidimensionalen Raum und als Funktionen der Zeit dargestellt werden können wie vor allem \n",
        "  * Temperatur, \n",
        "  * Luftdruck, \n",
        "  * Dichte, \n",
        "  * Windrichtung und \n",
        "  * Windgeschwindigkeit.\n",
        "\n",
        "* Die physikalischen Beziehungen, die den Zustand der Atmosphäre und seine Veränderung beschreiben, werden als System partieller Differentialgleichungen modelliert. Dieses [dynamische System](https://de.wikipedia.org/wiki/Dynamisches_System) wird mit Verfahren der Numerik, welche als Computerprogramme implementiert sind, näherungsweise gelöst.\n",
        "\n",
        "* Siehe [Modelle](https://de.wikipedia.org/wiki/Numerische_Wettervorhersage#Modelle)\n"
      ]
    },
    {
      "cell_type": "markdown",
      "metadata": {
        "id": "UWQ8yIxG_uj0"
      },
      "source": [
        "**Meteorologische Grundgleichungen**"
      ]
    },
    {
      "cell_type": "markdown",
      "metadata": {
        "id": "GpvbwXa__sUE"
      },
      "source": [
        "Im Wesentlichen spielen fünf Kenngrößen für die Beschreibung von großräumigen Luftströmungen eine zentrale Rolle: **Die Windgeschwindigkeit, der Luftdruck, die Lufttemperatur, sowie die Luftdichte und ihr Wassergehalt**. Die Gleichungen, welche die genannten Kenngrößen miteinander in Relation bringen, werden meteorologische Grundgleichungen genannt. Bezogen auf eine Volumeneinheit lauten sie wie folgt:"
      ]
    },
    {
      "cell_type": "markdown",
      "metadata": {
        "id": "Vv2YrSvFAAp4"
      },
      "source": [
        "> **Ideale Gasgleichung**: $p=\\rho \\cdot R \\cdot T$\n",
        "\n",
        "Sie stellt eine Vereinfachung der [Van-der-Waals-Gleichung](https://de.wikipedia.org/wiki/Van-der-Waals-Gleichung) dar (eine [Zustandsgleichung](https://de.wikipedia.org/wiki/Zustandsgleichung) für Gase), und beschreibt den linearen Zusammenhang zwischen Druck $p$, Dichte $\\rho$ und Temperatur $T$. $R$ steht für die ideale Gaskonstante. Für eine trockene atmosphärische Zusammensetzung liefert die Gleichung gute Ergebnisse bei geringem Rechenaufwand. Wasserdampf wird gesondert behandelt."
      ]
    },
    {
      "cell_type": "markdown",
      "metadata": {
        "id": "8P80piEcAsPt"
      },
      "source": [
        "> **Kontinuitätsgleichung**: $\\frac{\\mathrm{d} \\rho}{\\mathrm{d} t}=-\\rho \\cdot \\vec{\\nabla} \\cdot \\vec{v}$\n",
        "\n",
        "Die Gleichung impliziert die Massenerhaltung. Der Nettofluss $\\vec{\\nabla} \\cdot \\vec{v}$ (Divergenz durch ein Volumenelement) muss gleich der zeitlichen Dichteänderung sein."
      ]
    },
    {
      "cell_type": "markdown",
      "metadata": {
        "id": "xvg-6N7VA_NY"
      },
      "source": [
        "> **Wasserdampf-Bilanzgleichung**: $\\frac{\\mathrm{d} \\rho_{\\mathrm{w}}}{\\mathrm{d} t}=-\\rho_{\\mathrm{w}} \\cdot \\vec{\\nabla} \\cdot \\vec{v}+\\dot{W}$\n",
        "\n",
        "Die Gleichung liefert die Kontinuitätsgleichung für den Wasserdampf. Sie unterscheidet sich von der Kontinuitätsgleichung insofern, dass es zu Feuchteänderungen durch Phasenübergänge (Niederschlag, Verdunstung) kommen kann."
      ]
    },
    {
      "cell_type": "markdown",
      "metadata": {
        "id": "qoi8O1-0BQfJ"
      },
      "source": [
        "> **Erster Hauptsatz der Thermodynamik**: $\\frac{\\mathrm{d} T}{\\mathrm{~d} t}=\\frac{1}{\\rho \\cdot c_{\\mathrm{p}}} \\cdot \\frac{\\mathrm{d} p}{\\mathrm{~d} t}+\\frac{\\dot{Q}}{c_{\\mathrm{p}}}$\n",
        "\n",
        "Die Gleichung beschreibt den Energieerhaltungssatz der Thermodynamik: Bei konstantem Volumen resultieren Temperaturänderungen entweder aus Druckänderungen oder aus einem Wärmestrom $\\dot{Q}$ (Wärmezufuhr bzw. abfluss). $c_{\\mathrm{p}}$ steht für die spezifische Wärmekapazität eines Gases bei konstantem Druck."
      ]
    },
    {
      "cell_type": "markdown",
      "metadata": {
        "id": "0s63ZfJQB6hr"
      },
      "source": [
        "> **Navier-Stokes-Gleichung**: $\\rho \\cdot \\frac{\\mathrm{d} \\vec{v}}{\\mathrm{~d} t}=-\\vec{\\nabla} p+\\rho \\cdot \\vec{g}_{\\mathrm{s}}-2 \\cdot \\rho \\cdot \\vec{\\Omega} \\times \\vec{v}+\\vec{\\nabla} \\cdot \\vec{P}_{\\mathrm{R}}$\n",
        "\n",
        "Die Gleichung entspricht dem 2 . Newtonschen Axiom $\\vec{F}=\\frac{\\mathrm{d}(m \\cdot \\vec{v})}{\\mathrm{d} t}$ bezogen auf ein festes Volumen: Die Änderung des Geschwindigkeitsvektors $\\vec{v}$, multipliziert mit seiner Dichte, ist gleich der Summe der resultierenden Kräfte (Druckgradient, Schwerebeschleunigung, sowie Einfluss von Coriolis-Kraft und Reibung)."
      ]
    },
    {
      "cell_type": "markdown",
      "metadata": {
        "id": "xFk-LY-MCM_t"
      },
      "source": [
        "Den einzelnen Gleichungen kommen in der Praxis verschiedene Aufgaben zu. Die Navier-Stokes-Gleichung soll Auskunft über die zeitliche Entwicklung von horizontalen wie vertikalen Luftströmungen ergeben. Dazu sind Kenntnisse der Anfangs- und Randbedingungen nötig, die sich aus Modellannahmen, der Diagnose-Gleichung (1) und den übrigen Prognose-Gleichungen (2) bis (4) ergeben."
      ]
    },
    {
      "cell_type": "markdown",
      "metadata": {
        "id": "Ku1eQjvuC5zi"
      },
      "source": [
        "Die Eulersche Gleichung: Zunächst soll die die Atmosphäre als ein ideales Fluid **ohne Reibung $(\\eta=0)$** betrachtet werden. Somit vereinfacht sich die Navier-Stokes-Gleichung zur sogenannten Eulerschen Gleichung:\n",
        "\n",
        "> **Eulersche Gleichung**: $\\rho \\cdot \\frac{\\mathrm{d} \\vec{v}}{\\mathrm{~d} t}=-\\vec{\\nabla} p+\\rho \\cdot \\vec{g}_{s}-2 \\cdot \\rho \\cdot \\vec{\\Omega} \\times \\vec{v}$\n",
        "\n",
        "Die Gleichung wird verständlicher, wenn man sich einige Spezialfälle ansieht. Rest: https://www.grund-wissen.de/diplomarbeit/physik-der-atmoshpaere.html"
      ]
    },
    {
      "cell_type": "markdown",
      "metadata": {
        "id": "zj7kxOcmCw4S"
      },
      "source": [
        "**Methods used**"
      ]
    },
    {
      "cell_type": "markdown",
      "metadata": {
        "id": "j6YjfT8pClpi"
      },
      "source": [
        "* The equations used are nonlinear partial differential equations which are impossible to solve exactly through analytical methods, with the exception of a few idealized cases.\n",
        "\n",
        "* Extremely small errors in temperature, winds, or other initial inputs given to numerical models **will amplify and double every five days.**\n",
        "\n",
        "* Therefore, numerical methods obtain approximate solutions. Different models use different solution methods: some global models and almost all regional models use [finite difference methods](https://en.wikipedia.org/wiki/Finite_difference_method) for all three spatial dimensions, while other global models and a few regional models use [spectral methods](https://en.wikipedia.org/wiki/Spectral_method) for the horizontal dimensions and finite-difference methods in the vertical.\n",
        "\n",
        "* https://en.wikipedia.org/wiki/Flow-following,_finite-volume_Icosahedral_Model\n",
        "\n",
        "* https://en.wikipedia.org/wiki/Ensemble_forecasting\n",
        "\n",
        "* https://en.wikipedia.org/wiki/Model_output_statistics\n",
        "\n",
        "* See also Air quality models, Tropical cyclone models and Ocean models under https://en.wikipedia.org/wiki/History_of_numerical_weather_prediction"
      ]
    },
    {
      "cell_type": "markdown",
      "metadata": {
        "id": "S7cGhgvsCO3A"
      },
      "source": [
        "*Models use systems of differential equations based on the laws of physics, fluid motion, and chemistry, and use a coordinate system which divides the planet into a 3D grid. Winds, heat transfer, radiation, relative humidity, and surface hydrology are calculated within each grid and evaluate interactions with neighboring points.*\n",
        "\n",
        "![jj](https://upload.wikimedia.org/wikipedia/commons/b/b1/Global_Climate_Model.png)"
      ]
    },
    {
      "cell_type": "markdown",
      "metadata": {
        "id": "ZSINydf3-2L6"
      },
      "source": [
        "**Abgrenzung zur Klimamodellierung**"
      ]
    },
    {
      "cell_type": "markdown",
      "metadata": {
        "id": "lk9TwoCG85HM"
      },
      "source": [
        "* https://en.wikipedia.org/wiki/Climate_model\n",
        "\n",
        "* [Klimamodelle](https://de.wikipedia.org/wiki/Klimamodell) haben prinzipiell denselben Aufbau wie Wettervorhersagemodelle (Diskretisierung auf einem Gitter bzw. im Spektralraum, numerische Lösung derselben physikalischen Gleichungen, Parametrisierungen). Es gibt ebenfalls Global- und Ausschnittsmodelle. \n",
        "\n",
        "* **Zeitraum**: Allerdings ist die Vorhersagezielsetzung (mittlerer Zustand der Atmosphäre über Jahreszeiten bis Jahrtausenden (Klima) versus möglichst exakter Zustand der Atmosphäre in den nächsten Stunden bis Tagen (Wetter)). \n",
        "\n",
        "* **Anfangs- vs. Randwertproblem**: In der Wettervorhersage kommt der Kenntnis des Ausgangszustands (**Anfangswertproblem**) mittels [Datenassimilation](https://de.wikipedia.org/wiki/Datenassimilation) bzw. [Data assimilation](https://en.wikipedia.org/wiki/Data_assimilation) eine bedeutende Rolle zu. Die Details einer individuellen Wettersituation verschwinden dagegen durch die zeitliche Mittelung in Klimamodellen. Diese benötigen hingegen eine möglichst genaue Kenntnis und Zukunftsprojektion der Änderung der äußeren Antriebe (**Randwertproblem**) wie Schwankungen in der Solarstrahlung, der Meerestemperatur (deshalb häufige Kopplung mit einem Ozeanmodell) oder der atmosphärischen Zusammensetzung (Aerosole, Treibhausgasemissionen aus natürlichen und künstlichen Quellen), der Bodenbeschaffenheit (Änderung der Vegetation durch Landwirtschaft mit Auswirkungen auf die Strahlung und den Wasserkreislauf) etc."
      ]
    },
    {
      "cell_type": "markdown",
      "metadata": {
        "id": "hQDmV23uEpYw"
      },
      "source": [
        "**weather and environmental monitoring stations**"
      ]
    },
    {
      "cell_type": "markdown",
      "metadata": {
        "id": "qLu4-Mb1EroU"
      },
      "source": [
        "https://en.wikipedia.org/wiki/Mesonet"
      ]
    },
    {
      "cell_type": "markdown",
      "metadata": {
        "id": "_AZw0LJ4EMfT"
      },
      "source": [
        "**Quantitative Precipitation Forecast**"
      ]
    },
    {
      "cell_type": "markdown",
      "metadata": {
        "id": "lZnH8OpvZDWB"
      },
      "source": [
        "*Long-term mean precipitation by month*\n",
        "\n",
        "![ff](https://upload.wikimedia.org/wikipedia/commons/b/b7/Precipitation_longterm_mean.gif)"
      ]
    },
    {
      "cell_type": "markdown",
      "metadata": {
        "id": "C680hiVDEPVl"
      },
      "source": [
        "* [Precipitation](https://en.wikipedia.org/wiki/Precipitation) is any product of the condensation of atmospheric water vapor that falls under gravitational pull from clouds\n",
        "\n",
        "* The [quantitative precipitation forecast](https://en.wikipedia.org/wiki/Quantitative_precipitation_forecast) (abbreviated QPF) is the expected amount of melted precipitation accumulated over a specified time period over a specified area.\n",
        "\n",
        "* Algorithms exist to forecast rainfall based on short term [radar trends](https://en.wikipedia.org/wiki/Weather_radar), within a matter of hours. Radar imagery forecasting techniques show higher skill than model forecasts within 6 to 7 hours of the time of the radar image.\n",
        "\n",
        "* **Exkurs**: Als [Peplosphäre](https://de.wikipedia.org/wiki/Peplosphäre) bzw. [Planetary boundary layer](https://en.wikipedia.org/wiki/Planetary_boundary_layer), planetare Grenzschicht oder atmosphärische Grenzschicht (englisch atmospheric boundary layer) wird der untere Teil der Erdatmosphäre bezeichnet, der an die Erdoberfläche grenzt und insbesondere durch Bodenreibung und Erwärmung turbulenzverursachend im Zeitbereich von Stunden beeinflusst wird. Typischerweise sind dies die untersten 1,5 bis 2 Kilometer in Höhe, abhängig von Wind- und Temperaturverhältnissen. **In dieser Grenzschicht der Atmosphäre liegt der primäre Motor des Wettergeschehens.**"
      ]
    },
    {
      "cell_type": "markdown",
      "metadata": {
        "id": "UyfEDcaKWJKi"
      },
      "source": [
        "Ensemble Forecasting\n",
        "\n",
        "* The detail that can be given into a forecast decreases with time as these errors increase. There becomes a point when the errors are so large that the forecast has no correlation with the actual state of the atmosphere. Looking at a single forecast model gives no indication of how likely that forecast is to be correct.\n",
        "\n",
        "* The uncertainty in the forecast can then be assessed by the range of different forecasts produced. \n",
        "\n",
        "* Ensemble forecasts are increasingly being used for operational weather forecasting (for example at European Centre for Medium-Range Weather Forecasts (ECMWF), National Centers for Environmental Prediction (NCEP), and the Canadian forecasting center)."
      ]
    },
    {
      "cell_type": "markdown",
      "metadata": {
        "id": "z44G4EIaWlCf"
      },
      "source": [
        "Forecasting Verification\n",
        "\n",
        "* Rainfall forecasts can be verified a number of ways. Rain gauge observations can be gridded into areal averages, which are then compared to the grids for the forecast models. Weather radar estimates can be used outright, or corrected for rain gauge observations.\n",
        "\n",
        "* Several statistical scores can be based on the observed and forecast fields. \n",
        "\n",
        "* One, known as a bias, compares the size of the forecast field to the observed field, with the goal of a score of 1. \n",
        "\n",
        "* The threat score involves the intersection of the forecast and observed sets, with a maximum possible verification score of 1. The probability of detection, or POD, is found by dividing the overlap between the forecast and observed fields by the size of the observed field: the goal here is a score of 1. \n",
        "\n",
        "* The critical success index, or CSI, divides the overlap between the forecast and observed fields by the combined size of the forecast and observed fields: the goal here is a score of 1. \n",
        "\n",
        "* The false alarm rate, or FAR, divides the area of the forecast which does not overlap the observed field by the size of the forecasted area. The goal value in this measure is zero."
      ]
    },
    {
      "cell_type": "markdown",
      "metadata": {
        "id": "gYmWELL8q5kN"
      },
      "source": [
        "https://en.m.wikipedia.org/wiki/Probability_of_precipitation"
      ]
    },
    {
      "cell_type": "markdown",
      "metadata": {
        "id": "zdKs_sMTANeK"
      },
      "source": [
        "https://en.wikipedia.org/wiki/Burgers%27_equation"
      ]
    },
    {
      "cell_type": "markdown",
      "metadata": {
        "id": "amqD-XmcNbdW"
      },
      "source": [
        "## **Funktionentheorie**"
      ]
    },
    {
      "cell_type": "markdown",
      "metadata": {
        "id": "y7OksUkfrCUH"
      },
      "source": [
        "#### **Anwendungen**"
      ]
    },
    {
      "cell_type": "markdown",
      "metadata": {
        "id": "tN-vaCcWrF4t"
      },
      "source": [
        "Die [Funktionentheorie](https://de.wikipedia.org/wiki/Funktionentheorie) befasst sich mit der Theorie differenzierbarer komplexwertiger Funktionen mit komplexen Variablen. Da insbesondere die Funktionentheorie einer komplexen Variablen reichlich Gebrauch von Methoden aus der reellen Analysis macht, nennt man das Teilgebiet auch komplexe Analysis.\n",
        "\n",
        "* Für holomorphe Funktionen gilt, dass Real- und Imaginärteil [harmonische Funktionen](https://de.wikipedia.org/wiki/Harmonische_Funktion) sind, also die [Laplace-Gleichung](https://de.wikipedia.org/wiki/Laplace-Gleichung) erfüllen. Dies verknüpft die Funktionentheorie mit den partiellen Differentialgleichungen, beide Gebiete haben sich regelmäßig gegenseitig beeinflusst.\n",
        "\n",
        "* Das Wegintegral einer holomorphen Funktion ist vom Weg unabhängig. Dies war historisch das erste Beispiel einer Homotopieinvarianz. Aus diesem Aspekt der Funktionentheorie entstanden viele Ideen der algebraischen Topologie, beginnend mit Bernhard Riemann."
      ]
    },
    {
      "cell_type": "markdown",
      "metadata": {
        "id": "6A1WfmYqHxFw"
      },
      "source": [
        "#### **Komplexwertige Funktion**"
      ]
    },
    {
      "cell_type": "markdown",
      "metadata": {
        "id": "99zFAq5kvWQ0"
      },
      "source": [
        "**Komplexe Funktion**"
      ]
    },
    {
      "cell_type": "markdown",
      "metadata": {
        "id": "MdmbwvHZAec-"
      },
      "source": [
        "* Eine [komplexe Funktion](https://de.wikipedia.org/wiki/Funktionentheorie#Komplexe_Funktionen) ordnet einer komplexen Zahl eine weitere [komplexe Zahl](https://de.m.wikipedia.org/wiki/Komplexe_Zahl) zu\n",
        "\n",
        "* Da jede komplexe Zahl durch zwei reelle Zahlen in\n",
        "der Form $x+$ iy geschrieben werden kann, lässt sich eine allgemeine Form einer komplexen Funktion darstellen durch:\n",
        "\n",
        "> $\n",
        "x+i y \\mapsto f(x+i y)=u(x, y)+i v(x, y)\n",
        "$\n",
        "\n",
        "* Dabei sind $u(x, y)$ und $v(x, y)$ reelle Funktionen, die von zwei reellen Variablen $x$ und $y$ abhängen. \n",
        "\n",
        "* $u(x, y)$ heißt der Realteil und $v(x, y)$ der Imaginärteil der Funktion. \n",
        "\n",
        "* **Insofern ist eine komplexe Funktion nichts anderes als eine Abbildung von $\\mathbb{R}^{2}$ nach $\\mathbb{R}^{2}$ (also eine Abbildung, die zwei reellen Zahlen wieder zwei reelle Zahlen zuordnet).** \n",
        "\n",
        "* **Tatsächlich könnte man die Funktionentheorie auch mit Methoden der reellen Analysis aufbauen.**\n",
        "\n",
        "* Der Unterschied zur reellen Analysis wird erst deutlicher, wenn man **komplex-differenzierbare Funktionen** betrachtet und dabei die <u>**multiplikative Struktur des Körpers der komplexen Zahlen**</u> ins Spiel bringt, die dem Vektorraum $\\mathbb{R}^{2}$ fehlt. \n",
        "\n",
        "* Wie auch bei reellwertigen und reellen Funktionen ist die Verwendung des Begriffes einer komplexen Funktion in der Literatur aber nicht eindeutig. Teilweise wird er synonym mit einer komplexwertigen Funktion verwendet, teilweise wird er auch nur für komplexwertige Funktionen einer komplexen Variablen verwendet, also Funktionen\n",
        "\n",
        "> $\n",
        "f: D \\rightarrow \\mathbb{C}\n",
        "$\n",
        "\n",
        "bei denen $D \\subseteq \\mathbb{C}$ ist.\n"
      ]
    },
    {
      "cell_type": "markdown",
      "metadata": {
        "id": "jcE_zsb3Cbg1"
      },
      "source": [
        "**Komplexwertige Funktion**"
      ]
    },
    {
      "cell_type": "markdown",
      "metadata": {
        "id": "TDS2jqpHCZov"
      },
      "source": [
        "* Eine [komplexwertige Funktion](https://de.wikipedia.org/wiki/Komplexwertige_Funktion) ist eine Funktion, deren Funktionswerte komplexe Zahlen sind\n",
        "\n",
        "* Eng damit verwandt ist der Begriff der **komplexen Funktion**, der in der Literatur aber nicht eindeutig verwendet wird\n",
        "\n",
        "* Komplexwertige Funktionen werden in der Analysis und in der Funktionentheorie untersucht und haben vielfältige Anwendungen wie zum Beispiel in der Physik und der Elektrotechnik, wo sie beispielsweise zur Beschreibung von Schwingungen dienen.\n",
        "\n",
        "* Eine komplexwertige Funktion ist eine Funktion\n",
        "$f: D \\rightarrow \\mathbb{C}$ bei der die Zielmenge die Menge der komplexen Zahlen ist. \n",
        "\n",
        "* **An die Definitionsmenge $D$ sind keine Anforderungen gestellt**.\n",
        "\n",
        "* **Aufgrund der Einbettung der reellen Zahlen in die komplexen Zahlen lassen sich alle reellwertigen Funktionen auch als komplexwertige Funktionen auffassen.**"
      ]
    },
    {
      "cell_type": "markdown",
      "metadata": {
        "id": "ayG-ecLwEAZI"
      },
      "source": [
        "**Beispiele komplexwertige Funktionen**"
      ]
    },
    {
      "cell_type": "markdown",
      "metadata": {
        "id": "kPI6QTKfEKXh"
      },
      "source": [
        "* Die Funktion $f: \\mathbb{R} \\rightarrow \\mathbb{C}$ definiert durch $f(x)= \\mathrm{e}^{\\mathrm{i} x}=\\cos (x)+\\mathrm{i} \\sin (x)$ ist eine komplexwertige Funktion einer reellen Variable, und zwar die [Eulersche Formel](https://de.wikipedia.org/wiki/Eulersche_Formel) "
      ]
    },
    {
      "cell_type": "markdown",
      "metadata": {
        "id": "kDlJ7rtrH1Jk"
      },
      "source": [
        "#### **Holomorphe & meromorphe Funktion**"
      ]
    },
    {
      "cell_type": "markdown",
      "metadata": {
        "id": "15PRPrWyirIy"
      },
      "source": [
        "https://home.mathematik.uni-freiburg.de/ziegler/skripte/funktion.total.pdf"
      ]
    },
    {
      "cell_type": "markdown",
      "metadata": {
        "id": "7EJZSgXRNcuH"
      },
      "source": [
        "**Holomorphe Funktion**"
      ]
    },
    {
      "cell_type": "markdown",
      "metadata": {
        "id": "YPpqu4CjYvL7"
      },
      "source": [
        "* Holomorphie ist eine Eigenschaft von bestimmten komplexwertigen Funktionen\n",
        "\n",
        "* [Holomorphe Funktionen](https://de.wikipedia.org/wiki/Holomorphe_Funktion) sind **an jedem Punkt komplex differenzierbar**. \n",
        "\n",
        "* Eine Funktion $f\\colon U\\to {\\mathbb  {C}}$ mit einer offenen Menge $ U\\subseteq \\mathbb {C}$ heißt holomorph, falls sie in jedem Punkt von $U$ komplex differenzierbar ist.\n",
        "\n",
        "* Holomorphie eine sehr starke Eigenschaft ist, die im Reellen kein Pendant besitzen (z.B. ist jede holomorphe Funktion beliebig oft (stetig) differenzierbar und lässt sich lokal in jedem Punkt in eine Potenzreihe entwickeln.)"
      ]
    },
    {
      "cell_type": "markdown",
      "metadata": {
        "id": "YaIeo8ZJN1D1"
      },
      "source": [
        "Es sei $U \\subseteq \\mathbb{C}$ eine offene Teilmenge der komplexen Ebene und $z_{0} \\in U$ ein Punkt dieser Teilmenge. Eine Funktion $f: U \\rightarrow \\mathbb{C}$ heißt komplex differenzierbar im Punkt $z_{0}$, falls der Grenzwert\n",
        "\n",
        ">$\n",
        "\\lim _{h \\rightarrow 0} \\frac{f\\left(z_{0}+h\\right)-f\\left(z_{0}\\right)}{h}\n",
        "$\n",
        "\n",
        "existiert. Man bezeichnet ihn dann als $f^{\\prime}\\left(z_{0}\\right)$.\n",
        "\n",
        "Die Funktion $f$ heißt holomorph im Punkt $z_{0}$, falls eine Umgebung von $z_{0}$ existiert, in der $f$ komplex differenzierbar ist. Ist $f$ auf ganz $U$ holomorph, so nennt man $f$ holomorph. \n",
        "\n",
        "**Ist weiter $U=\\mathbb{C},$ so nennt man $f$ eine <u>ganze Funktion</u>**.\n"
      ]
    },
    {
      "cell_type": "markdown",
      "metadata": {
        "id": "tGW5pRBeTmdM"
      },
      "source": [
        "**Cauchy-Riemannsche Differentialgleichungen**"
      ]
    },
    {
      "cell_type": "markdown",
      "metadata": {
        "id": "7StjTRqJOsq4"
      },
      "source": [
        "* Siehe [Cauchy-Riemannsche Differentialgleichungen](https://de.wikipedia.org/wiki/Cauchy-Riemannsche_partielle_Differentialgleichungen) - Mit einer Einleitung [hier](https://de.wikipedia.org/wiki/Holomorphe_Funktion#Cauchy-Riemannsche_Differentialgleichungen). \n",
        "\n",
        "* Zerlegt man eine Funktion $f(x+i y)=u(x, y)+i v(x, y)$ in ihren Real-und Imaginärteil mit reellen Funktionen $u, v,$ so hat die totale Ableitung $L$ als Darstellungsmatrix die **Jacobi-Matrix**\n",
        "\n",
        ">$\n",
        "\\left(\\begin{array}{ll}\n",
        "\\frac{\\partial u}{\\partial x} & \\frac{\\partial u}{\\partial y} \\\\\n",
        "\\frac{\\partial v}{\\partial x} & \\frac{\\partial v}{\\partial y}\n",
        "\\end{array}\\right)\n",
        "$\n",
        "\n",
        "Folglich ist die Funktion $f$ genau dann komplex differenzierbar, wenn sie reell differenzierbar ist und für $u, v$ die Cauchy-Riemannschen Differentialgleichungen\n",
        "\n",
        ">$\n",
        "\\begin{array}{l}\n",
        "\\frac{\\partial u}{\\partial x}=\\frac{\\partial v}{\\partial y} \\\\\n",
        "\\frac{\\partial u}{\\partial y}=-\\frac{\\partial v}{\\partial x}\n",
        "\\end{array}\n",
        "$\n",
        "\n",
        "erfüllt sind."
      ]
    },
    {
      "cell_type": "markdown",
      "metadata": {
        "id": "Kdjw2S8ApIbE"
      },
      "source": [
        "[Jacobi-Matrix einer holomorphen Funktion](https://de.wikipedia.org/wiki/Jacobi-Matrix#Jacobi-Matrix_einer_holomorphen_Funktion)\n",
        "\n",
        "* Matrix partieller Ableitungen einer komplexen Funktion"
      ]
    },
    {
      "cell_type": "markdown",
      "metadata": {
        "id": "SQVyBafHPTUq"
      },
      "source": [
        "**Biholomorphe Funktionen**"
      ]
    },
    {
      "cell_type": "markdown",
      "metadata": {
        "id": "4VeegSuMPXcu"
      },
      "source": [
        "* Eine Funktion, die holomorph, bijektiv und deren Umkehrfunktion holomorph ist, nennt man [biholomorph](https://de.wikipedia.org/wiki/Biholomorphe_Abbildung). \n",
        "\n",
        "* Im Fall einer komplexen Veränderlichen ist das äquivalent dazu, dass die Abbildung bijektiv und konform ist. \n",
        "* Aus Sicht der Kategorientheorie ist eine biholomorphe Abbildung ein Isomorphismus."
      ]
    },
    {
      "cell_type": "markdown",
      "metadata": {
        "id": "LTzOYMmJW-C9"
      },
      "source": [
        "**Analytische Funktion (=holomorph)**"
      ]
    },
    {
      "cell_type": "markdown",
      "metadata": {
        "id": "kXNafAzsW_vP"
      },
      "source": [
        "* Als [analytische Funktion](https://de.wikipedia.org/wiki/Analytische_Funktion) bezeichnet man eine Funktion, die lokal durch eine **konvergente Potenzreihe** gegeben ist.\n",
        "\n",
        "* Aufgrund der Unterschiede zwischen reeller und komplexer Analysis spricht man zur Verdeutlichung oft auch explizit von reell-analytischen oder komplex-analytischen Funktionen. \n",
        "\n",
        "* **Im Komplexen sind die Eigenschaften analytisch und holomorph äquivalent.**\n",
        "\n",
        "* **Ist eine Funktion in der gesamten komplexen Ebene definiert und analytisch, nennt man sie ganz.**\n"
      ]
    },
    {
      "cell_type": "markdown",
      "metadata": {
        "id": "R5YwRn5kXhgN"
      },
      "source": [
        "Es sei $\\mathbb{K}=\\mathbb{R}$ oder $\\mathbb{K}=\\mathbb{C} .$ Es sei $D \\subseteq \\mathbb{K}$ eine offene Teilmenge. Eine Funktion $f: D \\rightarrow \\mathbb{K}$ heißt analytisch im Punkt $x_{0} \\in D,$ wenn es eine **Potenzreihe**\n",
        "\n",
        ">$\n",
        "\\sum_{n=0}^{\\infty} a_{n}\\left(x-x_{0}\\right)^{n}\n",
        "$\n",
        "\n",
        "gibt, die auf einer Umgebung von $x_{0}$ gegen $f(x)$ konvergiert. Ist $f$ in jedem Punkt von $D$ analytisch, so heißt $f$ analytisch.\n",
        "\n",
        "Viele gängige Funktionen der reellen Analysis wie beispielsweise Polynome, Exponential- und Logarithmusfunktionen, trigonometrische Funktionen und rationale Ausdrücke in diesen Funktionen sind analytisch. "
      ]
    },
    {
      "cell_type": "markdown",
      "metadata": {
        "id": "izCWb7MLMDht"
      },
      "source": [
        "**Ganze Funktion**"
      ]
    },
    {
      "cell_type": "markdown",
      "metadata": {
        "id": "8GiFSM9LMFFp"
      },
      "source": [
        "* In der Funktionentheorie ist eine [ganze Funktion](https://de.wikipedia.org/wiki/Ganze_Funktion) eine Funktion, **die in der gesamten komplexen Zahleneben**e $\\mathbb {C}$  holomorph (also analytisch) ist. \n",
        "\n",
        "* an entire function, also called an integral function, is a complex-valued function that is holomorphic at all finite points over the whole complex plane. \n",
        "\n",
        "* **Every entire function f(z) can be represented as a power series**\n",
        "\n",
        "* Typische Beispiele ganzer Funktionen sind Polynome oder die **Exponentialfunktion** sowie Summen, Produkte und Verknüpfungen davon, etwa die **trigonometrischen Funktionen** und die **Hyperbelfunktionen**.\n",
        "\n",
        "* Jede ganze Funktion kann als eine überall konvergierende Potenzreihe um ein beliebiges Zentrum dargestellt werden. Weder der Logarithmus noch die Wurzelfunktion sind ganz.\n",
        "\n",
        "* Eine ganze Funktion kann eine **isolierte Singularität**, insbesondere sogar eine wesentliche Singularität im komplexen Punkt im Unendlichen (und nur da) besitzen."
      ]
    },
    {
      "cell_type": "markdown",
      "metadata": {
        "id": "KfgjvFmLNIqE"
      },
      "source": [
        "**Beispiele**\n",
        "\n",
        "* der Kehrwert der Gammafunktion $1 / \\Gamma(z)$ \n",
        "\n",
        "* die Fehlerfunktion $\\operatorname{erf}(z)$ \n",
        "\n",
        "* der Integralsinus $\\operatorname{Si}(z)$ \n",
        "\n",
        "* die Airy-Funktionen $\\operatorname{Ai}(z)$ und $\\operatorname{Bi}(z)$ \n",
        "\n",
        "* die Fresnelschen Integrale $S(z)$ und $C(z)$ \n",
        "\n",
        "* die Riemannsche Xi-Funktion $\\xi(z)$ \n",
        "\n",
        "* die Besselfunktionen erster Art $J_{n}(z)$ für ganzzahlige $n$ \n",
        "\n",
        "* die Struve-Funktionen $H_{n}(z)$ für ganzzahlige $n>-2$"
      ]
    },
    {
      "cell_type": "markdown",
      "metadata": {
        "id": "3-8kuLxEMXKT"
      },
      "source": [
        "*Die Airy-Funktion $ \\operatorname {Bi} (x+iy)$ (hier der Realteil) ist eine ganze Funktion.*\n",
        "\n",
        "![gg](https://upload.wikimedia.org/wikipedia/commons/9/98/AiryBi_Real_Surface.png)"
      ]
    },
    {
      "cell_type": "markdown",
      "metadata": {
        "id": "Glmu9FngKNv6"
      },
      "source": [
        "**Potenzreihe**"
      ]
    },
    {
      "cell_type": "markdown",
      "metadata": {
        "id": "WHmZPiENUx-L"
      },
      "source": [
        "https://www.youtube.com/watch?v=CeEfXWalXeU"
      ]
    },
    {
      "cell_type": "markdown",
      "metadata": {
        "id": "z634qYWILLmN"
      },
      "source": [
        "Unter einer [Potenzreihe](https://de.wikipedia.org/wiki/Potenzreihe) $P(x)$ versteht man in der Analysis eine unendliche Reihe der Form\n",
        "\n",
        ">$\n",
        "P(x)=\\sum_{n=0}^{\\infty} a_{n}\\left(x-x_{0}\\right)^{n}\n",
        "$\n",
        "\n",
        "mit einer beliebigen Folge $\\left(a_{n}\\right)_{n \\in \\mathbb{N}_{0}}$ reeller oder komplexer Zahlen\n",
        "dem Entwicklungspunkt $x_{0}$ der Potenzreihe.\n",
        "\n",
        "Potenzreihen spielen eine wichtige Rolle in der Funktionentheorie und **erlauben oft eine sinnvolle Fortsetzung reeller Funktionen in die komplexe Zahlenebene**. Insbesondere stellt sich die Frage, für welche reellen oder komplexen Zahlen eine Potenzreihe konvergiert. Diese Frage führt zum Begriff des [Konvergenzradius](https://de.wikipedia.org/wiki/Konvergenzradius)."
      ]
    },
    {
      "cell_type": "markdown",
      "metadata": {
        "id": "HCXhbAt9Ut9y"
      },
      "source": [
        "Youtube: Konvergenzradius https://www.youtube.com/watch?v=wSfLtkb-ORY"
      ]
    },
    {
      "cell_type": "markdown",
      "metadata": {
        "id": "ma4ElMlYKVwk"
      },
      "source": [
        "* Jede Polynomfunktion lässt sich als Potenzreihe auffassen, bei der fast alle Koeffizienten $a_{n}$ gleich 0 sind. \n",
        "\n",
        "* Wichtige andere Beispiele sind **Taylorreihe** und **Maclaurinsche Reihe**. \n",
        "\n",
        "* Funktionen, die sich durch eine Potenzreihe darstellen lassen, werden auch [analytische Funktionen](https://de.wikipedia.org/wiki/Analytische_Funktion) genannt. \n",
        "\n",
        "Beispielhaft die Potenzreihendarstellung einiger bekannter Funktionen:\n",
        "\n",
        "* **Exponentialfunktion**: $e^{x}=\\exp (x)=\\sum_{n=0}^{\\infty} \\frac{x^{n}}{n !}=\\frac{x^{0}}{0 !}+\\frac{x^{1}}{1 !}+\\frac{x^{2}}{2 !}+\\frac{x^{3}}{3 !}+\\cdots$ für alle\n",
        "$x \\in \\mathbb{R},$ d. h., der Konvergenzradius ist unendlich. \n",
        "\n",
        "* **Sinus**: $\\sin (x)=\\sum_{n=0}^{\\infty}(-1)^{n} \\frac{x^{2 n+1}}{(2 n+1) !}=\\frac{x}{1 !}-\\frac{x^{3}}{3 !}+\\frac{x^{5}}{5 !} \\mp \\cdots$\n",
        "\n",
        "* **Kosinus**: $\\cos (x)=\\sum_{n=0}^{\\infty}(-1)^{n} \\frac{x^{2 n}}{(2 n) !}=\\frac{x^{0}}{0 !}-\\frac{x^{2}}{2 !}+\\frac{x^{4}}{4 !} \\mp \\cdots$"
      ]
    },
    {
      "cell_type": "markdown",
      "metadata": {
        "id": "_N1e5DmRoyZm"
      },
      "source": [
        "**Laurent-Reihe**"
      ]
    },
    {
      "cell_type": "markdown",
      "metadata": {
        "id": "6Era7KDwoxIS"
      },
      "source": [
        "**Exkurs**: Die Laurent-Reihe ist eine **unendliche Reihe ähnlich einer Potenzreihe**, aber zusätzlich **mit negativen Exponenten**. Allgemein hat eine Laurent-Reihe in $x$ mit Entwicklungspunkt $c$ diese Gestalt (Dabei sind die $a_{n}$ und $c$ meist komplexe Zahlen):\n",
        "\n",
        ">$\n",
        "f(x)=\\sum_{n=-\\infty}^{\\infty} a_{n}(x-c)^{n}\n",
        "$\n",
        "\n",
        "Es sei $D$ eine nichtleere offene Teilmenge der Menge $\\mathbb{C}$ der komplexen Zahlen und $P_{f}$ eine weitere Teilmenge von $\\mathbb{C}$, die nur aus isolierten Punkten besteht. Eine Funktion $f$ heißt meromorph, wenn sie für Werte aus $D \\backslash P_{f}$ definiert und holomorph ist und für Werte aus $P_{f}$ Pole hat. $P_{f}$ wird als Polstellenmenge von $f$ bezeichnet.\n",
        "\n",
        "* Zerlegung einer komplex differenzierbaren Funktion"
      ]
    },
    {
      "cell_type": "markdown",
      "metadata": {
        "id": "Ji-KdqErueSE"
      },
      "source": [
        "**Meromorphe Funktion**"
      ]
    },
    {
      "cell_type": "markdown",
      "metadata": {
        "id": "1i4Q4vb9RlIR"
      },
      "source": [
        "* Meromorphie ist eine Eigenschaft von bestimmten komplexwertigen Funktionen\n",
        "\n",
        "* Für viele Fragestellungen der Funktionentheorie ist der **Begriff der holomorphen Funktion zu speziell**. \n",
        "\n",
        "* Dies liegt daran, dass der Kehrwert $\\frac{1}{f}$ einer holomorphen Funktion $f$ an einer Nullstelle von $f$ eine Definitionslücke hat und somit $\\frac{1}{f}$ dort auch **nicht komplex differenzierbar ist**. \n",
        "\n",
        "* Man führt daher den allgemeineren Begriff der [meromorphen Funktion](https://de.wikipedia.org/wiki/Meromorphe_Funktion) ein, die auch **isolierte Polstellen** besitzen kann.\n",
        "\n",
        "* Meromorphe Funktionen lassen sich lokal als [Laurentreihen](https://de.wikipedia.org/wiki/Laurent-Reihe) mit abbrechendem Hauptteil darstellen. Ist $U$ ein Gebiet von $\\mathbb{C},$ so bildet die Menge der auf $U$ meromorphen Funktionen einen Körper.\n",
        "\n",
        "* Alle holomorphen Funktionen sind auch meromorph, da ihre Polstellenmenge leer ist.\n",
        "\n",
        "Zum Beispiel ist die Gamma-Funktion meromorph, weil sie holomorph ist auf $\\mathbb{C}$, abgesehen von abzahlbar vielen nicht-hebbaren Singularitaeten (hierbei in allen negativen ganzen Zahlen, da der Definitionsbereich einer Gammafunktion $\\mathbb{C}$  \\ -$\\mathbb{N}$ <sub>0</sub> ist).\n",
        "\n",
        "Beispiele:\n",
        "\n",
        "* [Gamma Funktion](https://en.wikipedia.org/wiki/Gamma_function)\n",
        "\n",
        "* [Elliptische Funktion](https://de.wikipedia.org/wiki/Elliptische_Funktion)"
      ]
    },
    {
      "cell_type": "markdown",
      "metadata": {
        "id": "mpQpsaJhntsj"
      },
      "source": [
        "https://www.youtube.com/watch?v=NdVHBO3nCCM"
      ]
    },
    {
      "cell_type": "markdown",
      "metadata": {
        "id": "_QgKCNimH6Sa"
      },
      "source": [
        "#### **Singularität & Polstelle**"
      ]
    },
    {
      "cell_type": "markdown",
      "metadata": {
        "id": "OjZAY8WRubkK"
      },
      "source": [
        "**Isolierte Singularität**"
      ]
    },
    {
      "cell_type": "markdown",
      "metadata": {
        "id": "wx-597ruaSQx"
      },
      "source": [
        "https://www.youtube.com/watch?v=UC_ZTbDVWTM"
      ]
    },
    {
      "cell_type": "markdown",
      "metadata": {
        "id": "ej4umwH7Tb5m"
      },
      "source": [
        "* [Isolierte Singularitäten](https://de.wikipedia.org/wiki/Isolierte_Singularität) sind besondere [**isolierte Punkte**](https://de.wikipedia.org/wiki/Isolierter_Punkt) in der Quellmenge einer holomorphen Funktion. \n",
        "\n",
        "* Man unterscheidet bei isolierten Singularitäten zwischen **hebbaren Singularitäten**, **Polstellen** und **wesentlichen Singularitäten**.\n",
        "\n",
        "* Es sei $\\Omega \\subseteq \\mathbb{C}$ eine offene Teilmenge, $z_{0} \\in \\Omega$. Ferner sei $f: \\Omega \\backslash\\left\\{z_{0}\\right\\} \\rightarrow \\mathbb{C}$ eine holomorphe komplexwertige Funktion. Dann heißt $z_{0}$ isolierte Singularität von $f$."
      ]
    },
    {
      "cell_type": "markdown",
      "metadata": {
        "id": "uuAgJBUpT0Oo"
      },
      "source": [
        "**Klasse 1: Hebbare Singularität (Definitionslücke)**"
      ]
    },
    {
      "cell_type": "markdown",
      "metadata": {
        "id": "6rOVJ5i3U_Ln"
      },
      "source": [
        "* Der Punkt $z_{0}$ heißt [hebbare Singularität](https://de.wikipedia.org/wiki/Definitionslücke), wenn $f$ auf $\\Omega$ holomorph fortsetzbar ist. \n",
        "\n",
        "* Hat Grenzwert in Form von einer Zahl bzw. nach dem riemannschen Hebbarkeitssatz, wenn $f$ in einer Umgebung von $z_{0}$ beschränkt ist.\n",
        "\n",
        "> $\\lim _{z \\rightarrow z_{0}} f(z)=c$\n",
        "\n",
        "> $f(z)$ beschrankt in $U\\left(z_{0}\\right)$"
      ]
    },
    {
      "cell_type": "markdown",
      "metadata": {
        "id": "wAm2tWA_vART"
      },
      "source": [
        "**Klasse 2: Polstelle**"
      ]
    },
    {
      "cell_type": "markdown",
      "metadata": {
        "id": "8wykSXcsVCAo"
      },
      "source": [
        "* im Prinzip das gleiche wie bei hebbaren Singularitaten, aber mit dem Unterschied, dass die Funktion nah an der Singularitat unbeschraenkt ist = also ins unendliche geht $\\lim _{z \\rightarrow z_{0}}|f(z)|=\\infty$\n",
        "\n",
        "Alternative Definition:\n",
        "\n",
        "> $\\lim _{z \\rightarrow z_{0}} f(z) \\cdot\\left(z-z_{0}\\right)^{k}=c \\neq 0(k \\geqslant 1)$\n",
        "\n",
        "Man multipliziert an den unendlichen Funktionswert immer oefter eine fast Null in Form des Polynoms $\\left(z-z_{0}\\right)^{k}$, bis man eine endliche komplexe Zahl als Grenzwert hat, und nicht mehr unendlich (aber nicht Null). Die Anzahl der Polynome k multipliziert mit dem Funktionswert ist der Grad / Ordnung der Polstelle.\n",
        "\n",
        "* Der Punkt $z_{0}$ heißt [Polstelle](https://de.wikipedia.org/wiki/Polstelle) oder $P o l$, wenn \n",
        "\n",
        "  * $z_{0}$ **keine hebbare Singularität ist** und \n",
        "  * es eine natürliche $\\operatorname{Zahl} k$ gibt, sodass $\\left(z-z_{0}\\right)^{k} \\cdot f(z)$ **eine hebbare Singularität bei $z_{0}$ hat**. \n",
        "\n",
        "* Ist das $k$ minimal gewählt, dann sagt man $f$ habe in $z_{0}$ einen Pol $k$ -ter Ordnung.\n",
        "\n",
        "* Man bezeichnet eine einpunktige Definitionslücke einer Funktion als Polstelle oder auch kürzer als Pol, wenn die Funktionswerte in jeder Umgebung des Punktes (betragsmäßig) beliebig groß werden.\n",
        "\n",
        "* Damit gehören die Polstellen zu den isolierten Singularitäten. \n",
        "\n",
        "* Das Besondere an Polstellen ist, dass sich die Punkte in einer Umgebung **nicht chaotisch verhalten, sondern in einem gewissen Sinne gleichmäßig gegen unendlich streben**. Deshalb können dort Grenzwertbetrachtungen durchgeführt werden.\n",
        "\n",
        "* Generell spricht man nur bei [glatten](https://de.wikipedia.org/wiki/Glatte_Funktion) (stetig & differenzierbar) oder [analytischen Funktionen](https://de.wikipedia.org/wiki/Analytische_Funktion) von Polen. "
      ]
    },
    {
      "cell_type": "markdown",
      "metadata": {
        "id": "5I61uFSlYqw-"
      },
      "source": [
        "*Fur reelle Funktionen: f(x)=1/x hat einen Pol erster Ordnung an der Stelle x=0**\n",
        "\n",
        "![gg](https://upload.wikimedia.org/wikipedia/commons/9/90/GraphKehrwertfunktion.png)"
      ]
    },
    {
      "cell_type": "markdown",
      "metadata": {
        "id": "pk3Y078XWH2E"
      },
      "source": [
        "*Der Absolutwert der Gammafunktion geht nach Unendlich an den Polstellen (links). Rechts hat sie keine Polstellen und steigt nur schnell an.*\n",
        "\n",
        "*The [gamma function](https://en.wikipedia.org/wiki/Gamma_function) is meromorphic in the whole complex plane.*\n",
        "\n",
        "![ff](https://upload.wikimedia.org/wikipedia/commons/3/33/Gamma_abs_3D.png)"
      ]
    },
    {
      "cell_type": "markdown",
      "metadata": {
        "id": "zDM4NxaKU6oj"
      },
      "source": [
        "**Klasse 3: Wesentliche Singularität**"
      ]
    },
    {
      "cell_type": "markdown",
      "metadata": {
        "id": "IsNpaYyHVD4o"
      },
      "source": [
        "* nicht hebbar und keine Polstelle, dann heißt $z_{0}$ eine wesentliche Singularität von $f$\n",
        "\n",
        "* zum Beispiel fur $f(z)=e^{-\\frac{1}{z}}, z_{0}=0$, eine Funktion die von links ins unendliche strebt, und von rechts nach Null\n",
        "  * keine hebbare Singularitaet, weil zwei verschiedene Grenzwerte existieren und eine davon nicht endlich ist.\n",
        "  * keine Polstelle, weil ein Grenzwert gleich Null ist (muss aber unbeschraenkt sein bei Polstellen)"
      ]
    },
    {
      "cell_type": "markdown",
      "metadata": {
        "id": "L0cgjDPMVmko"
      },
      "source": [
        "*Plot der Funktion $\\exp(1/z)$. Sie hat im Nullpunkt eine wesentliche Singularität (Bildmitte). Der Farbton entspricht dem komplexen Argument des Funktionswertes, während die Helligkeit seinen Betrag darstellt. Hier sieht man, dass sich die wesentliche Singularität unterschiedlich verhält, je nachdem, wie man sich ihr nähert (im Gegensatz dazu wäre ein Pol gleichmäßig weiß).*\n",
        "\n",
        "![ff](https://upload.wikimedia.org/wikipedia/commons/0/0b/Essential_singularity.png)"
      ]
    },
    {
      "cell_type": "markdown",
      "metadata": {
        "id": "Oc36OYMXjGCI"
      },
      "source": [
        "#### **Cauchysche Integralformel & Integralsatz**"
      ]
    },
    {
      "cell_type": "markdown",
      "metadata": {
        "id": "WqNGqIe3p8jh"
      },
      "source": [
        "**Cauchysche Integralformel**"
      ]
    },
    {
      "cell_type": "markdown",
      "metadata": {
        "id": "BPSHsrLNpJDv"
      },
      "source": [
        "* Die [cauchysche Integralformel](https://de.wikipedia.org/wiki/Cauchysche_Integralformel) ist eine der fundamentalen Aussagen der Funktionentheorie, eines Teilgebietes der Mathematik. \n",
        "\n",
        "* Sie besagt in ihrer schwächsten Form, dass die Werte einer holomorphen Funktion $f$ im Inneren einer Kreisscheibe bereits durch ihre Werte auf dem Rand dieser Kreisscheibe bestimmt sind.\n",
        "\n",
        "* Eine starke Verallgemeinerung davon ist der Residuensatz."
      ]
    },
    {
      "cell_type": "markdown",
      "metadata": {
        "id": "IV1pfCzHqCvk"
      },
      "source": [
        "**Residuensatz**"
      ]
    },
    {
      "cell_type": "markdown",
      "metadata": {
        "id": "lVLX7lrIqBtX"
      },
      "source": [
        "* Der [Residuensatz](https://de.wikipedia.org/wiki/Residuensatz) ist ein wichtiger Satz der Funktionentheorie. Er stellt eine **Verallgemeinerung des cauchyschen Integralsatzes und der cauchyschen Integralformel** dar. Seine Bedeutung liegt nicht nur in den weitreichenden Folgen innerhalb der Funktionentheorie, sondern auch in der Berechnung von Integralen über reelle Funktionen.\n",
        "\n",
        "* Er besagt, dass das Kurvenintegral längs einer geschlossenen Kurve über eine bis auf isolierte Singularitäten holomorphe Funktion lediglich vom Residuum in den Singularitäten im Innern der Kurve und der Umlaufzahl der Kurve um diese Singularitäten abhängt. Anstelle eines Kurvenintegrals muss man also nur Residuen und Umlaufzahlen berechnen, was in vielen Fällen einfacher ist."
      ]
    },
    {
      "cell_type": "markdown",
      "metadata": {
        "id": "7fDF9pi7qE2D"
      },
      "source": [
        "**Cauchyscher Integralsatz**"
      ]
    },
    {
      "cell_type": "markdown",
      "metadata": {
        "id": "ivq0YtFjjOPz"
      },
      "source": [
        "* Der [cauchysche Integralsatz](https://de.wikipedia.org/wiki/Cauchyscher_Integralsatz)  ist einer der wichtigsten Sätze der Funktionentheorie. \n",
        "\n",
        "* Er handelt von Kurvenintegralen für holomorphe (auf einer offenen Menge komplex-differenzierbare) Funktionen. \n",
        "\n",
        "* Im Kern besagt er, dass zwei dieselben Punkte verbindende Wege das gleiche Wegintegral besitzen, falls die Funktion überall zwischen den zwei Wegen holomorph ist. \n",
        "\n",
        "* Der Satz gewinnt seine Bedeutung unter anderem daraus, dass man ihn zum Beweis der cauchyschen Integralformel und des Residuensatzes benutzt.\n",
        "\n"
      ]
    },
    {
      "cell_type": "markdown",
      "metadata": {
        "id": "vVa4sBaTvj6U"
      },
      "source": [
        "#### **Komplexe Geometrie / Mannigfaltigkeit**"
      ]
    },
    {
      "cell_type": "markdown",
      "metadata": {
        "id": "XsBA8JfTq1-t"
      },
      "source": [
        "**Komplexe Mannigfaltigkeit**"
      ]
    },
    {
      "cell_type": "markdown",
      "metadata": {
        "id": "jHnY-neXsG_j"
      },
      "source": [
        "* [Einfuhrung in Mannigfaltigkeit](https://www.youtube.com/watch?v=0CLXHZ6pweU)\n",
        "\n",
        "* Eine komplexe Mannigfaltigkeit, auch [komplex-analytische Mannigfaltigkeit](https://de.wikipedia.org/wiki/Komplexe_Mannigfaltigkeit), grundlegender Begriff in der Funktionentheorie mehrerer Variabler.\n",
        "\n",
        "* Eine komplexe Mannigfaltigkeit ist eine differenzierbare Mannigfaltigkeit, deren Koordinatenkarten Werte in ℂn annehmen, und deren Übergangsabbildungen holomorph sind."
      ]
    },
    {
      "cell_type": "markdown",
      "metadata": {
        "id": "iECbFrJWvCFg"
      },
      "source": [
        "*Komplexe Karte*"
      ]
    },
    {
      "cell_type": "markdown",
      "metadata": {
        "id": "0iLfZQ5KuhOp"
      },
      "source": [
        "Eine komplexe Mannigfaltigkeit $M$ der Dimension $n$ ist ein Hausdorffraum, für den jeder Punkt eine Umgebung U besitzt, die [homöomorph](https://de.wikipedia.org/wiki/Hom%C3%B6omorphismus) zu einer offenen Teilmenge $V \\subset \\mathbb{C}^{n}$ ist. Ein solcher Homöomorphismus $z: U \\rightarrow V$ heißt eine **komplexe\n",
        "(Koordinaten-)Karte**. Zwei komplexe Karten $z_{a}: U_{a} \\rightarrow V_{a}, z_{\\beta}$ :\n",
        "$U_{\\beta} \\rightarrow V_{\\beta}$ heißen biholomorph verträglich, wenn die sog. Übergangsabbildung\n",
        "\n",
        "> $\n",
        "z_{\\beta} \\circ z_{\\alpha}^{-1}: z_{\\alpha}\\left(U_{\\alpha} \\cap U_{\\beta}\\right) \\rightarrow z_{\\beta}\\left(U_{\\alpha} \\cap U_{\\beta}\\right)\n",
        "$\n",
        "\n",
        "(biholomorph ist (im Fall $\\left.U_{a} \\cap U_{\\beta} \\neq \\varnothing\\right)$. Man nennt $z=\\left(z^{1}, \\ldots, z^{n}\\right): U \\rightarrow V$ auch lokale Koordinate."
      ]
    },
    {
      "cell_type": "markdown",
      "metadata": {
        "id": "E89_dh1jvDzD"
      },
      "source": [
        "*Komplexer Atlas*"
      ]
    },
    {
      "cell_type": "markdown",
      "metadata": {
        "id": "s9x82BNau6s8"
      },
      "source": [
        "* Ein **komplexer Atlas** $\\mathcal{A}$ auf $M$ ist eine Familie $\\left\\{U_{o} Z_{a}\\right\\}$ paarweise biholomorph verträglicher komplexer Karten, für die die $U_{a}$ eine offene Überdeckung von $M$ bilden. \n",
        "\n",
        "* Zwei Atlanten $\\mathcal{A}, \\mathcal{A}^{\\prime}$ auf $M$ heißen biholomorph verträglich, falls jede Karte von $\\mathcal{A}$ biholomorph verträglich mit jeder Karte von $\\mathcal{A}^{\\prime}$ ist. Die biholomorphe Verträglichkeit zwischen komplexen Atlanten ist eine Äquivalenzrelation.\n"
      ]
    },
    {
      "cell_type": "markdown",
      "metadata": {
        "id": "NiOd6nsBvFR8"
      },
      "source": [
        "*Komplexe Struktur*"
      ]
    },
    {
      "cell_type": "markdown",
      "metadata": {
        "id": "ZnTr0xpTu89q"
      },
      "source": [
        "* Unter einer **komplexen Struktur** versteht man eine Äquivalenzklasse biholomorph äquivalenter Atlanten auf $M$. Jede komplexe Struktur auf $M$ enthält einen eindeutig bestimmten maximalen komplexen Atlas $\\mathcal{A}^{*}$ : Ist $\\mathcal{A}$ ein beliebiger Atlas der komplexen Struktur, dann besteht $\\mathcal{A}^{*}$ aus allen komplexen Karten, die mit jeder Karte von $\\mathcal{A}$ biholomorph verträglich sind. Eine komplexe Mannigfaltigkeit der Dimension $n$ ist eine Mannigfaltigkeit der Dimension $n$ mit einer komplexen Struktur\n",
        "\n",
        "* Eine komplexe Struktur ist ein bezüglich Inklusion maximaler komplexer Atlas. Jeder komplexe Atlas ist in genau einer komplexen Struktur enthalten, nämlich in der Vereinigung aller zu ihm äquivalenten Atlanten. Dabei sind zwei komplexe Atlanten äquivalent, falls ihre Vereinigungsmenge ebenfalls ein komplexer Atlas ist (d. h. wenn alle Kartenwechselabbildungen zwischen den beiden Atlanten biholomorph sind). Bemerkung: Alternativ kann man eine komplexe Struktur auch als eine Äquivalenzklasse bezüglich dieses Äquivalenzbegriffs definieren.\n",
        "\n"
      ]
    },
    {
      "cell_type": "markdown",
      "metadata": {
        "id": "SVcscJcswgDq"
      },
      "source": [
        "*Komplexe Mannigfaltigkeit*"
      ]
    },
    {
      "cell_type": "markdown",
      "metadata": {
        "id": "CXkvyXpywask"
      },
      "source": [
        "* Versieht man $M$ nun mit einer solchen komplexen Struktur, so spricht man von einer komplexen Mannigfaltigkeit. Genauer gesagt ist ein 2 -Tupel $(M, S)$ eine komplexe Mannigfaltigkeit der Dimension $n$, wenn $S$ eine komplexe Struktur der Dimension $n$ auf $M$ ist. Die Karten aus $S$ werden dann auch als Karten der\n",
        "komplexen Mannigfaltigkeit bezeichnet."
      ]
    },
    {
      "cell_type": "markdown",
      "metadata": {
        "id": "ZjJMKdLQ2Xo6"
      },
      "source": [
        "*Holomorphe Funktionen, Strukturgarbe*"
      ]
    },
    {
      "cell_type": "markdown",
      "metadata": {
        "id": "JV7MEgtA2VxA"
      },
      "source": [
        "* Eine Funktion $f: M \\rightarrow \\mathbb{C}$ heißt holomorph in $x \\in M,$ wenn für eine Karte $(U, \\phi)$ mit $x \\in U$ die Funktion $f \\circ \\phi^{-1}: \\phi(U) \\rightarrow \\mathbb{C}$ eine in $\\phi(x)$ holomorphe Funktion ist. Wegen der obigen Kompatibilitätsbedingung ist diese Bedingung unabhängig von der gewählten Karte. Eine Funktion heißt holomorph auf einer offenen Teilmenge $U \\subset M$, wenn sie in jedem Punkt $x \\in U$ holomorph ist.\n",
        "\n",
        "* Als Strukturgarbe $\\mathcal{O}_{M}$ der komplexen Mannigfaltigkeit $M$ wird die Garbe der holomorphen Funktionen bezeichnet. $\\left(M, \\mathcal{O}_{M}\\right)$ ist ein geringter Raum.\n",
        "\n",
        "* Da das Konzept der [Garben](https://de.wikipedia.org/wiki/Garbe_(Mathematik)) in der Funktionentheorie mehrerer Veränderlicher eine so zentrale Rolle spielt, ist die folgende Charakterisierung der Struktur einer komplexen Mannigfaltigkeit geeigneter, wobei $X$ einen Hausdorffraum bezeichne und $_{X} \\mathcal{O}$ eine Untergarbe der Garbe $_{X} C$ der stetigen Funktionen auf $X$ :\n",
        "\n",
        "* Ein [geringter Raum](https://de.wikipedia.org/wiki/Geringter_Raum) $(X, X \\mathcal{O})$ heißt komplexe Mannigfaltigkeit, wenn jedes $x \\in X$ eine Umgebung $U$ besitzt, so daß $\\left(U,\\left.x \\mathcal{O}\\right|_{U}\\right)$ isomorph ist zu einem geringten Raum $\\left(\\left.V_{, n} \\mathcal{O}\\right|_{V}\\right),$ wobei $V$ ein offener Unterraum im $\\mathbb{C}^{n}$ ist und ${ }_{n} \\mathcal{O}$ die Garbe der Keime der holomorphen Funktionen auf $X$."
      ]
    },
    {
      "cell_type": "markdown",
      "metadata": {
        "id": "MLPaFd7hxq0J"
      },
      "source": [
        "Unter einer Abbildung von geringten Räumen\n",
        "\n",
        ">$\n",
        "\\left(X,_{X} \\odot\\right),\\left(Y,_{Y} \\odot\\right)\n",
        "$\n",
        "\n",
        "versteht man dabei eine stetige Abbildung $f \\cdot X \\rightarrow Y$, so daß für jedes $x \\in X$ und $h \\in{ }_{Y} \\mathcal{O}_{f(x)}$ glit $h \\circ f \\in{ }_{X} \\mathcal{O}_{f(x)} .$ Man bezeichnet die Abbildung ${ }_{Y} \\mathcal{O}_{f(x)} \\rightarrow{ }_{X} \\mathcal{O}_{x}, h \\mapsto h \\circ f$ mit $f^{*}$. Die Abbildung $f$ ist ein Isomorphismus, wenn $\\mathrm{sie}$ ein Homöomorphismus und eine Injektion ist (dann ist auch $f^{-1}: Y \\rightarrow X$ eine Injektion, da $\\left(f^{-1}\\right)^{*}=\\left(f^{*}\\right)^{-1}$ ).\n",
        "Liegt $a \\in X$ in einem offenen Unterraum $U \\cong V \\subset \\mathbb{C}^{n}$, dann heißt $n$ die Dimension\n",
        "$\\operatorname{dim}_{a} x$ von $X$ an der Stelle a. Sie ist wohldefiniert, da die Funktion $X \\rightarrow \\mathbb{Z}, x \\mapsto \\operatorname{dim}_{x}$ X stetig und damit konstant auf jeder Zusammenhangskomponente von $X$ ist."
      ]
    },
    {
      "cell_type": "markdown",
      "metadata": {
        "id": "59ijJqOSxv0A"
      },
      "source": [
        "Komplexe Mannigfaltigkeiten sind reduzierte komplexe Räume, die lokal aussehen\" wie singularitätenfreie analytische Mengen.\n",
        "\n",
        "* Ist $z=\\left(z_{1}, \\ldots, z_{n}\\right)$ eine komplexe Karte auf der offenen Menge $U \\subset X$ und setzt man $z_{\\nu}=x_{\\nu}+\\sqrt{-1} y_{\\nu},$ so ist $\\left(x_{1}, \\ldots, x_{n}, y_{1}, \\ldots, y_{n}\\right)$ eine Karte der\n",
        "zugrundeliegenden reell-analytischen Mannigfaltigkeit. \n",
        "\n",
        "* Ist $T(X)$ das reelle Tangentialbündel, so ist $\\left(\\frac{\\partial}{\\partial x_{1}}, \\ldots, \\frac{\\partial}{\\partial x_{n}}, \\frac{\\partial}{\\partial y_{1}}, \\ldots, \\frac{\\partial}{\\partial y_{n}}\\right)$ (eine Basis auf $U$.\n",
        "Durch $J\\left(\\frac{\\partial}{\\partial x_{\\nu}}\\right)=\\frac{\\partial}{\\partial y_{\\nu}}$ und $J\\left(\\frac{\\partial}{\\partial x_{\\nu}}\\right)=-\\frac{\\partial}{\\partial y_{\\nu}}$ erhält man eine lineare Abbildung $J$\n",
        "$: T(X) \\rightarrow T(X)$ mit $J^{2}=-1$ (wegen der Cauchy-Riemannschen Differentialgleichung ist die Definition von J unabhängig von der Wahl der komplexen Karten). \n",
        "\n",
        "* Dementsprechend definiert man eine fast komplexe Struktur auf einer $C^{\\infty}$ Mannigfaltigkeit $X$ als eine lineare Abbildung $J: T(X) \\rightarrow T(X)$ des Tangentialbündels mit $\\mathcal{J}^{2}=-1$. Eine solche heißt integrabel, wenn es eine komplex-analytische Struktur auf $X$ gibt mit $X$ als zugrundeliegender $C^{\\infty}$ Mannigfaltigkeit so, daß J durch diese komplexe Struktur induziert wird. \n",
        "\n",
        "* Eine solche komplexe Struktur ist eindeutig bestimmt: J operiert auch auf dem Kotangentialbündel $T^{*}(X)$, und ist für komplexwertige $C^{\\infty}$ Funktionen $\\bar{\\partial} f$ die Projektion von $d f \\in T^{*}(X) \\otimes C$ auf den Eigenraum zum Eigenwert $-\\sqrt{-1}$ von $J$, so ist $\\widehat{O}_{X}=\\operatorname{Ker}(\\bar{\\partial})$"
      ]
    },
    {
      "cell_type": "markdown",
      "metadata": {
        "id": "Iu4kjiOvyS36"
      },
      "source": [
        "Für (lokale) $C^{\\infty}$ -Vektorfelder $v, w$ liefert\n",
        "\n",
        ">$\n",
        "[v, w]-[J v, J w]+J[J v, w]+J[v, J w]\n",
        "$\n",
        "\n",
        "eine lineare Abbildung\n",
        "\n",
        ">$\n",
        "N: \\stackrel{2}{\\wedge} T(X) \\rightarrow T(X)\n",
        "$\n",
        "\n",
        "genannt Nirenberg-Tensor. J ist genau dann integrabel, wenn $N \\equiv 0$ auf $X$.\n",
        "Eine komplexe Untermannigfaltigkeit ist eine singularitätenfreie analytische Menge $A \\subset X$. Besitzt $A$ die Kodimension $d,$ dann heißt das, daß es zu jedem $x_{0} \\in A$ eine Umgebung $U=U\\left(x_{0}\\right) \\subset X$ und holomorphe Funktionen $f_{1}, \\ldots, f_{d}$ auf $U$ gibt, so daß gilt:\n",
        "1) $A \\cap U=\\left\\{x \\in U: f_{1}(x)=\\ldots f_{d}(x)=0\\right\\}$\n",
        "2) Rang $_{x}\\left(f_{1}, \\ldots, f_{d}\\right)=d$ für alle $x \\in U$.\n",
        "$X$ induziert auf $A$ in kanonischer Weise die Struktur einer $(n-d)$ -dimensionalen Mannigfaltigkeit, und die natürliche Einbettung $j_{A}: A \\hookrightarrow X$ ist holomorph."
      ]
    },
    {
      "cell_type": "markdown",
      "metadata": {
        "id": "WU-Glg9oxSe6"
      },
      "source": [
        "https://www.spektrum.de/lexikon/mathematik/komplexe-mannigfaltigkeit/6649"
      ]
    },
    {
      "cell_type": "markdown",
      "metadata": {
        "id": "V2cIkYzZvtUh"
      },
      "source": [
        "https://de.wikipedia.org/wiki/Funktionentheorie#Komplexe_Geometrie"
      ]
    },
    {
      "cell_type": "markdown",
      "metadata": {
        "id": "-Hdqmh4cq4nl"
      },
      "source": [
        "**Kähler-Mannigfaltigkeit**"
      ]
    },
    {
      "cell_type": "markdown",
      "metadata": {
        "id": "pT5FlO59qsYT"
      },
      "source": [
        "* Man bezeichnet mit [Kähler-Mannigfaltigkeit](https://de.wikipedia.org/wiki/K%C3%A4hler-Mannigfaltigkeit) eine glatte Mannigfaltigkeit zusammen mit einer komplexen Struktur und einer riemannschen Metrik (im Sinne einer riemannschen Mannigfaltigkeit), die miteinander verträglich sind.\n",
        "\n",
        "* Der Begriff der Kähler-Mannigfaltigkeit findet Anwendung in der Darstellungstheorie von Lie-Gruppen und ist ein zentraler Begriff der geometrischen Quantisierung. Ein auch in der Stringtheorie wichtiges Beispiel für Kähler-Mannigfaltigkeiten sind Calabi-Yau-Mannigfaltigkeiten."
      ]
    },
    {
      "cell_type": "markdown",
      "metadata": {
        "id": "5nbIiGOrrWw2"
      },
      "source": [
        "[Quaternionische Kähler-Mannigfaltigkeit](https://de.wikipedia.org/wiki/Quaternionische_K%C3%A4hler-Mannigfaltigkeit)\n"
      ]
    },
    {
      "cell_type": "markdown",
      "metadata": {
        "id": "bYbiy5emkcnM"
      },
      "source": [
        "## **Dynamical Systems**"
      ]
    },
    {
      "cell_type": "markdown",
      "metadata": {
        "id": "obJoHunGx367"
      },
      "source": [
        "https://www.youtube.com/watch?v=VxYcWn6AQsg"
      ]
    },
    {
      "cell_type": "markdown",
      "metadata": {
        "id": "pidsi3CCz2z5"
      },
      "source": [
        "https://www.quantamagazine.org/mathematicians-identify-threshold-at-which-shapes-give-way-20210603/"
      ]
    },
    {
      "cell_type": "markdown",
      "metadata": {
        "id": "U3xyzZzNOEhv"
      },
      "source": [
        "#### **Overview & Summary**"
      ]
    },
    {
      "cell_type": "markdown",
      "metadata": {
        "id": "6NqT2XMsak0v"
      },
      "source": [
        "https://www.youtube.com/watch?v=uzJXeluCKMs&t=91s"
      ]
    },
    {
      "cell_type": "markdown",
      "metadata": {
        "id": "P3c-Uv6xOVcH"
      },
      "source": [
        "**Chaos**"
      ]
    },
    {
      "cell_type": "markdown",
      "metadata": {
        "id": "wd_1yAgSErNZ"
      },
      "source": [
        "*Chaotic deterministic systems*:\n",
        "\n",
        "* deterministic: not random, but one clear outcome\n",
        "* chaotic: no observable pattern on how they behave (aperiodic behavior over time)\n",
        "* extremely sensitive to small changes in the initial conditions (also: it's impossible to know all the initial conditions with zero margin of error, like temperature until infinite decimal places)\n",
        "\n",
        "Most important research task hence: **After what period of time it is simoly not worth to predict the future anymore?**\n",
        "\n",
        "* Roots of chaos in differential equations and dynamical systems (how any physical system evolves in the real world)"
      ]
    },
    {
      "cell_type": "markdown",
      "metadata": {
        "id": "NvGb67r8UwHq"
      },
      "source": [
        "**Dynamical System**"
      ]
    },
    {
      "cell_type": "markdown",
      "metadata": {
        "id": "WbX-pspSOvk1"
      },
      "source": [
        "> Dynamical system: involves one or more variables that change over time according to autonomous differential equations."
      ]
    },
    {
      "cell_type": "markdown",
      "metadata": {
        "id": "-W6s14-oNcBb"
      },
      "source": [
        "\n",
        "> $\\dot{x}=$ rate of change of $x$ as time changes\n",
        "\n",
        "> $\\dot{y}=$ rate of change of $y$ as time changes\n",
        "\n",
        "They depend on t:\n",
        "\n",
        "$\\frac{d x}{d t}=$ rate of change of $x$ as time changes $\\frac{d y}{d t}=$ rate of change of $y$ as time changes\n",
        "\n",
        "but the differential equation that describe x dot and y dot don’t actually involve time t:\n",
        "\n",
        "> $\\dot{x}=-y-0.1 x$\n",
        "\n",
        "> $\\dot{y}=x-0.4 y$\n",
        "\n",
        "This makes them autonomous. Each combination of x and y to only corresponds to one combination of x dot and y dot.\n",
        "\n",
        "You can represent it in a dynamical system called the phase space. Each point in space is a unique state of the system. And has its own rate of change shown as a vector. "
      ]
    },
    {
      "cell_type": "markdown",
      "metadata": {
        "id": "2e_Lcuv0N7YP"
      },
      "source": [
        "For this specific system shown, the vector field looks like this, and let scatter a bunch of random points around to represent different possible states see how they evolve and move around: They all spiral towards the center."
      ]
    },
    {
      "cell_type": "markdown",
      "metadata": {
        "id": "KIujOlBtNqx-"
      },
      "source": [
        "![gg](https://raw.githubusercontent.com/deltorobarba/repo/master/chaos_01.png)"
      ]
    },
    {
      "cell_type": "markdown",
      "metadata": {
        "id": "eKBSSxLEOeok"
      },
      "source": [
        "**Attractors**"
      ]
    },
    {
      "cell_type": "markdown",
      "metadata": {
        "id": "xbHgUrRjOtNL"
      },
      "source": [
        "> An attractor is a set of points in the phase space which attracts all the trajectories in an area surrounding it - the basin of attraction."
      ]
    },
    {
      "cell_type": "markdown",
      "metadata": {
        "id": "DloWwMM4PBQd"
      },
      "source": [
        "For the exampe above the attraction is zero, and the basin is every point in space. Notice that at the origin x dot and y dot also equal zero.\n",
        "\n",
        "$\\dot{x}=-(0)-0.1(0)=0$\n",
        "\n",
        "$\\dot{y}=(0)-0.4(0)=0$\n",
        "\n",
        "The origin is in this case **fixed point (attractor)**, because every point in there will stay forever. It seem like an inevitability, hence determinism (as chaos is)."
      ]
    },
    {
      "cell_type": "markdown",
      "metadata": {
        "id": "SIxPvBMNPxlE"
      },
      "source": [
        "But there are also other types of attractors, like the Van der Pol oscillator:"
      ]
    },
    {
      "cell_type": "markdown",
      "metadata": {
        "id": "nkfTe33IQAY0"
      },
      "source": [
        "> $\\dot{x}=\\mu\\left(x-\\frac{1}{3} x^{3}-y\\right)$\n",
        "\n",
        "> $\\dot{y}=\\frac{1}{\\mu} x$"
      ]
    },
    {
      "cell_type": "markdown",
      "metadata": {
        "id": "jvBJNo0OQe6b"
      },
      "source": [
        "It creates something called: \"**Limit Cycle Attractor**\":\n",
        "\n",
        "* it doesn't end up in a point\n",
        "\n",
        "* typically appear in physical systems with some sort of oscillation (electrical circuits, tectonic plates, etc)."
      ]
    },
    {
      "cell_type": "markdown",
      "metadata": {
        "id": "PkfT8XP8QmJd"
      },
      "source": [
        "![gg](https://raw.githubusercontent.com/deltorobarba/repo/master/chaos_02.png)"
      ]
    },
    {
      "cell_type": "markdown",
      "metadata": {
        "id": "DoEH4nS-SRJV"
      },
      "source": [
        "**Strange Attractor**"
      ]
    },
    {
      "cell_type": "markdown",
      "metadata": {
        "id": "OAZ-MJo-RH_g"
      },
      "source": [
        "Lorenz Attractor:"
      ]
    },
    {
      "cell_type": "markdown",
      "metadata": {
        "id": "Luo2ipo2RaUH"
      },
      "source": [
        "Lorenz system describes convection cycles in the atmoshphere. Very sensitive to changes in initial conditions already after a short time:\n",
        "\n",
        "> $\\dot{x}=\\sigma(y-x)$\n",
        "\n",
        "> $\\dot{y}=x(\\rho-z)-y$\n",
        "\n",
        "> $\\dot{z}=x y-\\beta z$"
      ]
    },
    {
      "cell_type": "markdown",
      "metadata": {
        "id": "LqcSX6E9SUuV"
      },
      "source": [
        "The Lorenz equations have a few parameters that can be tweaked to alter the behavior of a system. This is what is known as ‘strange attractor’:\n",
        "\n",
        "> $\\dot{x}=10(y-x)$\n",
        "\n",
        "> $\\dot{y}=x(28-z)-y$\n",
        "\n",
        "> $\\dot{z}=x y-\\frac{8}{3} z$"
      ]
    },
    {
      "cell_type": "markdown",
      "metadata": {
        "id": "Y5S3wPimSfoo"
      },
      "source": [
        "> **A strange attractor is and attractor that has a fractal dimension**"
      ]
    },
    {
      "cell_type": "markdown",
      "metadata": {
        "id": "CwIU85TCTPgt"
      },
      "source": [
        "1. No point in the space is ever visited more than once by the same trajectory - it that happens, the trajectory would travel in a predictable loop. \n",
        "2. And no 2 trajectories will ever intersect. If that happened, they would merge into the same path, giving two different sets of initial conditions the same outcome."
      ]
    },
    {
      "cell_type": "markdown",
      "metadata": {
        "id": "39clKcldTSa8"
      },
      "source": [
        "![gg](https://raw.githubusercontent.com/deltorobarba/repo/master/chaos_03.png)"
      ]
    },
    {
      "cell_type": "markdown",
      "metadata": {
        "id": "ffI5UaQzVDh4"
      },
      "source": [
        "A single trajectory will visit an infinite number of points in this limited space, and this limited space will have an infinite number of trajectories. \n",
        "\n",
        "* Trajectories are just curved, so they should be 1-dimensional..normally!\n",
        "* For the strange attractor: no matter how much you zoom in on this attractor, you can always find more and more trajectories everywhere.\n",
        "* That’s why this attractor is said to have a **non integer dimension** - it’s **made up of infinite long curves in a finite space, which are so detailed, that they start to partially fill up higher dimensions**. It’s not 1, 2 or 3 dimensional, its somewhere in between. (=detail at arbitrarily small scales)\n",
        "\n",
        "Conclusion: Lorenz attractor is a fractal space, and hence a strange attractor."
      ]
    },
    {
      "cell_type": "markdown",
      "metadata": {
        "id": "n7Xgi0pqVbok"
      },
      "source": [
        "Differentiation: not every strange attractor is a chaotic attractor. But a lorenz attractor is both."
      ]
    },
    {
      "cell_type": "markdown",
      "metadata": {
        "id": "RpPv3PGEVZda"
      },
      "source": [
        "![gg](https://raw.githubusercontent.com/deltorobarba/repo/master/chaos_04.png)"
      ]
    },
    {
      "cell_type": "markdown",
      "metadata": {
        "id": "UuGzpghuWBxv"
      },
      "source": [
        "Even is both points started at the same point, small initial differences can bring them to complete different paths:"
      ]
    },
    {
      "cell_type": "markdown",
      "metadata": {
        "id": "23nU0DkKV7II"
      },
      "source": [
        "![gg](https://raw.githubusercontent.com/deltorobarba/repo/master/chros_05.png)"
      ]
    },
    {
      "cell_type": "markdown",
      "metadata": {
        "id": "7qZFAoc8WMnJ"
      },
      "source": [
        "The difference in trajectories increases exponentially:"
      ]
    },
    {
      "cell_type": "markdown",
      "metadata": {
        "id": "gOAWTDsoV7-F"
      },
      "source": [
        "![gg](https://raw.githubusercontent.com/deltorobarba/repo/master/chaos_06.png)"
      ]
    },
    {
      "cell_type": "markdown",
      "metadata": {
        "id": "-Cqh9B_mWZqp"
      },
      "source": [
        "**$\\lambda$ stands for Lyapunov exponent**\n",
        "\n",
        "$\\lambda$ > 0, trajectories will increase exponentially (= chaotic)\n",
        "\n",
        "$\\lambda$ = 0, distance will stay constant\n",
        "\n",
        "$\\lambda$ < 0, distance will converge to zero."
      ]
    },
    {
      "cell_type": "markdown",
      "metadata": {
        "id": "wOplsvl0W4PE"
      },
      "source": [
        "Unfortunately there is no way to find the Lyapunov exponent only by looking at the equations. It is measured by running the simulation, keeping track of mainy pairs of trajectories, and find the average rate of change in their distance.\n",
        "\n",
        "But it provides a simple metric to comunicate how chaotic a system is."
      ]
    },
    {
      "cell_type": "markdown",
      "metadata": {
        "id": "F2zxZLw7Xodd"
      },
      "source": [
        "**For the Lorenz attractor it is $\\lambda$ ≈ 0.9**\n",
        "\n",
        "Used to find out duration in which the predictions are valid: \"Predictability Horizon\". We get this by re-arranging our previous equation $d_{t}=d_{0} e^{\\lambda t}$:\n",
        "\n",
        "> Predictability horizon $=\\frac{1}{\\lambda} \\ln \\frac{a}{d_{0}}$\n",
        "\n",
        "$d_{0}=$ initial error \n",
        "\n",
        "$a=$ maximum allowed error\n",
        "\n",
        "Fo the Lorenz attractor, after 10 time steps, any error would have multiplied by 8,000 already."
      ]
    },
    {
      "cell_type": "markdown",
      "metadata": {
        "id": "V72Dst2pYpVm"
      },
      "source": [
        "Example what that means with this exponential divergence:\n",
        "\n",
        "We have a simulation that predicts where ocean currents flow, and you want to keep the error less than 1,000 km. \n",
        "* If you ran it twice, once an initial error of 1m and once the initial error was a million times smaller than one micrometer (0,000001m), how much longer  the simulation with the smaller error would stay below the margin of error.\n",
        "* The simulation would be valid 9 days instead of 3 days, but for an initial error that is a million times smaller !!\n",
        "\n",
        "Let’s write the expressions for the two predictability horizons, and put them in a fraction:\n",
        "\n",
        "> $\\frac{\\left(\\frac{1}{\\lambda} \\ln \\frac{1000}{0.000001}\\right)}{\\left(\\frac{1}{\\lambda} \\ln \\frac{1000}{1}\\right)}$\n",
        "\n",
        "> = $\\frac{\\left(\\frac{1}{\\lambda} \\ln 10^{9}\\right)}{\\left(\\frac{1}{\\lambda} \\ln 10^{3}\\right)}$\n",
        "\n",
        "> = $\\frac{\\left(9 \\cdot \\frac{1}{\\lambda} \\ln 10\\right)}{\\left(3 \\cdot \\frac{1}{\\lambda} \\ln 10\\right)}$\n",
        "\n",
        "> = $\\frac{9}{3}$. \n",
        "\n",
        "= It’s 3 times longer.\n"
      ]
    },
    {
      "cell_type": "markdown",
      "metadata": {
        "id": "4JijVDdYpeTw"
      },
      "source": [
        "#### **Chaos Theory**"
      ]
    },
    {
      "cell_type": "markdown",
      "metadata": {
        "id": "vf946YGPkfYP"
      },
      "source": [
        "https://en.m.wikipedia.org/wiki/Chaos_theory"
      ]
    },
    {
      "cell_type": "markdown",
      "metadata": {
        "id": "oHjYrrAv_4gQ"
      },
      "source": [
        "https://en.m.wikipedia.org/wiki/Lyapunov_time"
      ]
    },
    {
      "cell_type": "markdown",
      "metadata": {
        "id": "kyz_N98ZjBEO"
      },
      "source": [
        "https://en.m.wikipedia.org/wiki/Lyapunov_exponent"
      ]
    },
    {
      "cell_type": "markdown",
      "metadata": {
        "id": "JtW7Ki2lAFWG"
      },
      "source": [
        "https://en.m.wikipedia.org/wiki/Supersymmetric_theory_of_stochastic_dynamics"
      ]
    },
    {
      "cell_type": "markdown",
      "metadata": {
        "id": "hpigl7DBWHmm"
      },
      "source": [
        "https://www.quantamagazine.org/chaos-theory-in-ecology-predicts-future-populations-20151013/"
      ]
    },
    {
      "cell_type": "markdown",
      "metadata": {
        "id": "OMvhl1bS9j7Y"
      },
      "source": [
        "https://en.m.wikipedia.org/wiki/Phase_space"
      ]
    },
    {
      "cell_type": "markdown",
      "metadata": {
        "id": "Du80X2o_WpAz"
      },
      "source": [
        "**Julia Set & Fatou Set**"
      ]
    },
    {
      "cell_type": "markdown",
      "metadata": {
        "id": "Lzg0A18pWQO7"
      },
      "source": [
        "https://en.m.wikipedia.org/wiki/Julia_set"
      ]
    },
    {
      "cell_type": "markdown",
      "metadata": {
        "id": "15lYRV7UnwrT"
      },
      "source": [
        "https://en.m.wikipedia.org/wiki/Dynamical_system"
      ]
    },
    {
      "cell_type": "markdown",
      "metadata": {
        "id": "ViHqpm63n0Os"
      },
      "source": [
        "https://en.m.wikipedia.org/wiki/Deterministic_system"
      ]
    },
    {
      "cell_type": "markdown",
      "metadata": {
        "id": "0oJSt90Zne8M"
      },
      "source": [
        "Many phenomena in nature can be described by dynamical systems; chaos theory makes precise the ways in which many of these systems exhibit unpredictable yet still deterministic behavior."
      ]
    },
    {
      "cell_type": "markdown",
      "metadata": {
        "id": "zRnrU0ltn6pQ"
      },
      "source": [
        "https://en.m.wikipedia.org/wiki/Mathematics#Pure_mathematics"
      ]
    },
    {
      "cell_type": "markdown",
      "metadata": {
        "id": "yAfkwYDoFmEs"
      },
      "source": [
        "**Komplexes System**"
      ]
    },
    {
      "cell_type": "markdown",
      "metadata": {
        "id": "3YzAyotrq51A"
      },
      "source": [
        "* Complexity theory is rooted in chaos theory bzw: In a sense chaotic systems can be regarded as a subset of complex systems distinguished precisely by this absence of historical dependence. \n",
        "\n",
        "* Chaos is sometimes viewed as extremely complicated information, rather than as an absence of order.\n",
        "\n",
        "* The emergence of complexity theory shows a domain between deterministic order and randomness which is complex. This is referred to as the [\"edge of chaos\"](https://en.wikipedia.org/wiki/Edge_of_chaos).\n",
        "\n",
        "* **When one analyzes complex systems, sensitivity to initial conditions, for example, is not an issue as important as it is within chaos theory, in which it prevails.**\n",
        "\n",
        "https://en.wikipedia.org/wiki/Complex_system#Complexity_and_chaos_theory"
      ]
    },
    {
      "cell_type": "markdown",
      "metadata": {
        "id": "8XhaRvZ0dXcJ"
      },
      "source": [
        "* [Komplexe Systeme](https://de.wikipedia.org/wiki/Komplexes_System) sind Systeme (Gesamtheiten von Objekten, die sich in einem ganzheitlichen Zusammenhang befinden und durch die Wechselbeziehungen untereinander gegenüber ihrer Umgebung abzugrenzen sind), welche sich der Vereinfachung verwehren und vielschichtig bleiben. \n",
        "\n",
        "* Siehe auch [Systemeigenschaften#Komplexität](https://de.wikipedia.org/wiki/Systemeigenschaften#Komplexität)\n",
        "\n",
        "* Insbesondere gehören hierzu die [komplexen adaptiven Systeme](https://de.wikipedia.org/wiki/Komplexes_adaptives_System), die imstande sind, sich an ihre Umgebung anzupassen.\n",
        "\n",
        "* Ihre Analyse ist Sache der [Komplexitätstheorie](https://de.wikipedia.org/wiki/Komplexitätstheorie) (englisch complexity theory) bzw. Systemtheorie.\n",
        "\n",
        "* Komplexe Systeme sind z. B. das Gehirn, das Internet, Finanzmärkte, multinationale Konzerne, aber eben auch das menschliche Nervensystem, der Mensch selbst, Infrastrukturnetze etc."
      ]
    },
    {
      "cell_type": "markdown",
      "metadata": {
        "id": "on4GTn_0efWt"
      },
      "source": [
        "Komplexe Systeme zeigen eine Reihe von Eigenschaften (Auswahl):\n",
        "\n",
        "1. **Agentenbasiert**: Komplexe Systeme bestehen aus einzelnen Teilen, die miteinander in Wechselwirkung stehen (Moleküle, Individuen, Software-Agenten etc.).\n",
        "2. **Nichtlinearität**: Kleine Störungen des Systems oder minimale Unterschiede in den Anfangsbedingungen führen oft zu sehr unterschiedlichen Ergebnissen (Schmetterlingseffekt, Phasenübergänge). Die Wirkzusammenhänge der Systemkomponenten sind im Allgemeinen nichtlinear.\n",
        "3. [**Emergenz**](https://de.wikipedia.org/wiki/Emergenz): Im Gegensatz zu lediglich komplizierten Systemen zeigen komplexe Systeme Emergenz. Entgegen einer verbreiteten Vereinfachung bedeutet Emergenz nicht, dass die Eigenschaften der emergierenden Systemebenen von den darunter liegenden Ebenen vollständig unabhängig sind. Emergente Eigenschaften lassen sich jedoch auch nicht aus der isolierten Analyse des Verhaltens einzelner Systemkomponenten erklären und nur sehr begrenzt ableiten.\n",
        "4. **Wechselwirkung** (Interaktion): Die Wechselwirkungen zwischen den Teilen des Systems (Systemkomponenten) sind lokal, ihre Auswirkungen in der Regel global.\n",
        "5. **Offenes System**: Komplexe Systeme sind üblicherweise offene Systeme. Sie stehen also im Kontakt mit ihrer Umgebung und befinden sich fern vom thermodynamischen Gleichgewicht. Das bedeutet, dass sie von einem permanenten Durchfluss von Energie bzw. Materie abhängen.\n",
        "6. **Selbstorganisation**: Dies ermöglicht die Bildung insgesamt stabiler Strukturen (Selbststabilisierung oder Homöostase), die ihrerseits das thermodynamische Ungleichgewicht aufrechterhalten. Sie sind dabei in der Lage, Informationen zu verarbeiten bzw. zu lernen.\n",
        "7. **Selbstregulation**: Dadurch können sie die Fähigkeit zur inneren Harmonisierung entwickeln. Sie sind also in der Lage, aufgrund der Informationen und derer Verarbeitung das innere Gleichgewicht und Balance zu verstärken.\n",
        "8. **Pfade**: Komplexe Systeme zeigen Pfadabhängigkeit: Ihr zeitliches Verhalten ist nicht nur vom aktuellen Zustand, sondern auch von der Vorgeschichte des Systems abhängig.\n",
        "9. **Attraktoren**: Die meisten komplexen Systeme weisen so genannte Attraktoren auf, d. h., dass das System unabhängig von seinen Anfangsbedingungen bestimmte Zustände oder Zustandsabfolgen anstrebt, wobei diese Zustandsabfolgen auch chaotisch sein können; dies sind die „seltsamen Attraktoren“ der Chaosforschung."
      ]
    },
    {
      "cell_type": "markdown",
      "metadata": {
        "id": "enazi1-1sBBr"
      },
      "source": [
        "Some [complex systems](https://en.wikipedia.org/wiki/Complex_system), for example, are also [complex networks](https://en.wikipedia.org/wiki/Complex_network), which have properties such as phase transitions and power-law degree distributions that readily lend themselves to emergent or chaotic behavior. The fact that the number of edges in a [complete graph](https://en.wikipedia.org/wiki/Complete_graph) grows quadratically in the number of vertices sheds additional light on the source of complexity in large networks: as a network grows, the number of relationships between entities quickly dwarfs the number of entities in the network."
      ]
    },
    {
      "cell_type": "markdown",
      "metadata": {
        "id": "_DcbvY2o-JyH"
      },
      "source": [
        "#### **Dynamisches System**"
      ]
    },
    {
      "cell_type": "markdown",
      "metadata": {
        "id": "of7Da7rfOTfB"
      },
      "source": [
        "> **A dynamical system involves one or more variables that change over time according to autonomous differential equations.**"
      ]
    },
    {
      "cell_type": "markdown",
      "metadata": {
        "id": "rSqLmeHzcQhw"
      },
      "source": [
        "https://en.m.wikipedia.org/wiki/Dynamical_systems_theory"
      ]
    },
    {
      "cell_type": "markdown",
      "metadata": {
        "id": "xkZ5JGgOF0sg"
      },
      "source": [
        "###### **Definition & Properties**"
      ]
    },
    {
      "cell_type": "markdown",
      "metadata": {
        "id": "0-OG2Rw8EzzH"
      },
      "source": [
        "* Ein (deterministisches) [dynamisches System](https://de.wikipedia.org/wiki/Dynamisches_System) ist ein mathematisches Modell eines zeitabhängigen Prozesses, der homogen bezüglich der Zeit ist, dessen weiterer Verlauf also nur vom Anfangszustand, aber nicht von der Wahl des Anfangszeitpunkts abhängt. \n",
        "\n",
        "* Dynamische Systeme finden vielfältige Anwendungen auf Prozesse in der Mathematik (z. B. Zahlentheorie, Stochastik), in der Physik (z. B. Pendelbewegung, Klimamodelle) oder in der theoretischen Biologie (z. B. Räuber-Beute-Modelle).\n",
        "\n",
        "* Man unterscheidet zwischen **diskreter und kontinuierlicher Zeitentwicklung**. Bei einem zeitdiskreten dynamischen System ändern sich die Zustände in äquidistanten Zeitsprüngen, d. h. in aufeinanderfolgenden, stets gleich großen zeitlichen Abständen, während die Zustandsänderungen eines zeitkontinuierlichen dynamischen Systems in infinitesimal kleinen Zeitschritten stattfinden. Das wichtigste Beschreibungsmittel für zeitkontinuierliche dynamische Systeme sind **autonome gewöhnliche Differenzialgleichungen**.\n",
        "\n",
        "* Wichtige Fragestellungen im Zusammenhang mit dynamischen Systemen betreffen vor allem ihr Langzeitverhalten (zum Beispiel [Stabilität](https://de.wikipedia.org/wiki/Stabilitätstheorie), [Periodizität](https://de.wikipedia.org/wiki/Periodische_Funktion), [Chaos](https://de.wikipedia.org/wiki/Chaosforschung) und [Ergodizität](https://de.wikipedia.org/wiki/Ergodizität)), die [Systemidentifikation](https://de.wikipedia.org/wiki/Systemidentifikation) und ihre [Regelung](https://de.wikipedia.org/wiki/Regelung_(Natur_und_Technik)).\n",
        "\n",
        "* [Dynamik](https://de.wikipedia.org/wiki/Systemeigenschaften#Dynamik) ist gekennzeichnet durch das zeitliche Verhalten des Systems. Statische Systeme zeigen ohne Einflüsse von außen sowohl auf der Makroebene als auch auf der Mikroebene keine Veränderungen (Beispiel: ruhendes Pendel). Dynamische Systeme sind auf der Mikroebene dauernden Veränderungen unterworfen, können aber zumindest zeitweise auf der Makroebene einen stationären Zustand einnehmen (Beispiele: chemische Gleichgewichtsreaktion, Ökosystem Wald). **Ob ein System als statisch oder dynamisch betrachtet wird, hängt vom Zeitmaßstab und von der Zeitdauer der Beobachtung des Systems ab.** Dies wird deutlich bei Systemen im Gleichgewicht, die aber um ihre Gleichgewichtslage schwanken: Ist der Beobachtungszeitraum zu kurz, kann nicht ermittelt werden, ob es sich um Schwankungen um einen Mittelwert handelt oder ob ein ansteigender oder absinkender Trend vorliegt (Beispiel: Klimaschwankungen seit Beginn der direkten Messungen). Wird ein sehr großer Maßstab gewählt, sind die Schwankungen gar nicht feststellbar; das System verhält sich scheinbar statisch."
      ]
    },
    {
      "cell_type": "markdown",
      "metadata": {
        "id": "lrUUwfzwMXIb"
      },
      "source": [
        "Ein dynamisches System ist ein Tripel $(T, X, \\Phi)$, bestehend aus \n",
        "\n",
        "* **Zeitraum**: einer Menge $T=\\mathbb{N}_{0}, \\mathbb{Z}, \\mathbb{R}_{0}^{+}$ oder $\\mathbb{R}$, \n",
        "* **Zustandsraum** (dem Phasenraum): einer nichtleeren Menge $X$, \n",
        "* **Operation** $\\Phi: T \\times X \\rightarrow X$ von $T$ auf $X,$ \n",
        "\n",
        "so dass für alle Zustände $x \\in X$ und alle Zeitpunkte $t, s \\in T$ gilt:\n",
        "\n",
        "1. **Identitätseigenschaft**: $\\Phi(0, x)=x$\n",
        "\n",
        "2. **Halbgruppeneigenschaft**: $\\Phi(s, \\Phi(t, x))=\\Phi(s+t, x)$\n",
        "\n",
        "Wenn $T=\\mathbb{N}_{0}$ oder $T=\\mathbb{Z}$ ist, dann heißt $(T, X, \\Phi)$ **zeitdiskret** oder kurz diskret, und mit $T=\\mathbb{R}_{0}^{+}$ oder $T=\\mathbb{R}$ nennt man $(T, X, \\Phi)$ **zeitkontinuierlich** oder kontinuierlich. \n",
        "\n",
        "$(T, X, \\Phi)$ wird außerdem als diskretes oder kontinuierliches dynamisches System für reelle Zeit oder als invertierbar bezeichnet, falls $T=\\mathbb{Z}$ bzw. $T=\\mathbb{R}$ gilt."
      ]
    },
    {
      "cell_type": "markdown",
      "metadata": {
        "id": "gZET2JecNqP5"
      },
      "source": [
        "* Für jedes $x \\in X$ heißt die Abbildung $\\beta_{x}: T \\rightarrow X, t \\mapsto \\beta_{x}(t):=\\Phi(t, x)$ die Bewegung von $x=\\beta_{x}(0),$ und\n",
        "die Menge $O(x):=\\left\\{\\beta_{x}(t) \\mid t \\in T\\right\\}$ wird die Bahn (der (volle) Orbit, die Trajektorie, die Phasenkurve, die Bahnkurve, die Lösungskurve) von $x$ genannt. \n",
        "\n",
        "* Der positive Halborbit oder Vorwärtsorbit von $x$ ist $O^{+}(x):=\\left\\{\\beta_{x}(t) \\mid t \\in T \\cap \\mathbb{R}_{0}^{+}\\right\\}$ und, falls $(T, X, \\Phi)$ invertierbar ist, ist\n",
        "$O^{-}(x):=\\left\\{\\beta_{x}(t) \\mid-t \\in T \\cap \\mathbb{R}_{0}^{+}\\right\\}$ der negative Halborbit oder\n",
        "Rückwärtsorbit von $x .$"
      ]
    },
    {
      "cell_type": "markdown",
      "metadata": {
        "id": "HjjRXC07NssR"
      },
      "source": [
        "* Ein diskretes dynamisches System $(T, X, \\Phi)$ ist stetig, wenn sein Zustandsraum $X$ ein (nichtleerer) **metrischer Raum** ist und wenn jede zu einem Zeitpunkt $t \\in T$ gehörende Transformation $\\varphi_{t}: X \\rightarrow X, x \\mapsto \\varphi_{t}(x):=\\Phi(t, x),$ stetig ist.\n",
        "\n",
        "* Man nennt ein kontinuierliches dynamisches System $(T, X, \\Phi)$ stetig oder einen [Halbfluss](https://de.wikipedia.org/wiki/Fluss_(Mathematik)), wenn sein Zustandsraum $X$ ein metrischer Raum ist und wenn\n",
        "jede zu einem Zeitpunkt gehörende Transformation sowie jede Bewegung eines Zustands stetig ist. \n",
        "\n",
        "* Außerdem nennt man ein stetiges diskretes dynamisches System $(\\mathbb{Z}, X, \\Phi)$ auch eine Kaskade und einen Halbfluss $(\\mathbb{R}, X, \\Phi)$ einen Fluss. \n",
        "\n",
        "* Der Zustandsraum eines stetigen dynamischen Systems wird auch als [Phasenraum](https://de.wikipedia.org/wiki/Phasenraum) und von jedem $x_{0} \\in X$ der Orbit als die Phasenkurve oder Trajektorie von $x_{0}$ bezeichnet, die einfach $x: t \\mapsto x(t)$ geschrieben wird mit $x(0)=x_{0}$."
      ]
    },
    {
      "cell_type": "markdown",
      "metadata": {
        "id": "rHbqVW7sb0Pg"
      },
      "source": [
        "###### **Beispiele: Exponentielles Wachstum & Federpendel**"
      ]
    },
    {
      "cell_type": "markdown",
      "metadata": {
        "id": "CavQUAbfJuQs"
      },
      "source": [
        "**Beispiel: Exponentielles Wachstum**\n",
        "\n",
        "Die charakterisierende Eigenschaft eines dynamischen Systems ist, dass **der Zustand zwar von der verstrichenen Zeit $t \\in T$ und vom Anfangswert $x_{0} \\in X$ abhängt, jedoch nicht von der Wahl der Anfangszeitpunkts**. \n",
        "\n",
        "Sei etwa $y_{0}, y_{1}, y_{2}, \\ldots$ eine weitere exponentiell wachsende Population mit dem gleichen Wachstumsfaktor $a$, aber mit dem Anfangswert $y_{0}=x_{t}$ gegeben. Zu einem Zeitpunkt $s \\in T$ gilt dann\n",
        "\n",
        ">$\n",
        "y_{s}=a^{s} y_{0}=a^{s} a^{t} x_{0}=a^{s+t} x_{0}=x_{s+t}\n",
        "$\n",
        "\n",
        "Die zweite Population wächst also im Zeitabschnitt $[0, s]$ genauso wie die erste im Zeitabschnitt $[t, s+t]$. \n",
        "\n",
        "Dieses Verhalten lässt sich noch anders ausdrücken: Die sogenannte **Flussfunktion** $\\Phi: T \\times X \\rightarrow X$, die jedem Zeitpunkt $t \\in T$ und jedem Anfangszustand $x \\in X$ den Zustand $\\Phi(t, x)$ zum Zeitpunkt $t$ zuordnet, hier also $\\Phi(t, x)=a^{t} x,$ erfüllt für alle $s, t \\in T$ und alle $x \\in X$ die Gleichung\n",
        "\n",
        ">$\n",
        "\\Phi(s, \\Phi(t, x))=\\Phi(s+t, x)\n",
        "$\n",
        "\n",
        "Das ist die sogenannte **Halbgruppeneigenschaft des Flusses eines dynamischen Systems**."
      ]
    },
    {
      "cell_type": "markdown",
      "metadata": {
        "id": "VvJa1SUhKwnk"
      },
      "source": [
        "**Beispiel: Federpendel**\n",
        "\n",
        "Der Zustand eines solchen Systems zu einem Zeitpunkt $t \\in T=[0, \\infty)$ ist gegeben als das geordnete Paar $(x(t), v(t))$, bestehend aus dem Ort $x(t)$ und der Geschwindigkeit $v(t)$. Insbesondere ist dann **der gesamte Bewegungsablauf durch die Vorgabe einer Anfangsposition $x(0)=x_{0}$ zusammen mit einer Anfangsgeschwindigkeit $v(0)=v_{0}$ eindeutig bestimmt** (daher deterministisch und nicht stochastisch!). Im Fall einer eindimensionalen Bewegung ist somit der Zustandsraum $X=\\mathbb{R}^{2}$.\n",
        "\n",
        "Als konkretes Beispiel soll ein Federpendel betrachtet werden, auf dessen Massestück mit der Masse $m$ die Rückstellkraft der Feder sowie möglicherweise eine geschwindigkeitsabhängige Reibungskraft einwirkt. Bezeichnet man die Gesamtkraft mit $F(x(t), v(t)),$ so ergibt sich für den Zustand das gewöhnliche Differentialgleichungssystem\n",
        "\n",
        ">$\n",
        "\\begin{aligned}\n",
        "\\dot{x}(t) &=v(t) \\\\\n",
        "\\dot{v}(t) &=\\frac{1}{m} F(x(t), v(t))\n",
        "\\end{aligned}\n",
        "$\n",
        "\n",
        "wobei der Punkt über den Variablen die Ableitung nach der - in diesem Beispiel kontinuierlichen - Zeit bezeichnet. Die erste Gleichung besagt, dass die\n",
        "Geschwindigkeit die Ableitung des Ortes nach der Zeit ist, und die zweite ergibt sich direkt aus dem zweiten newtonschen Axiom, nach dem Masse mal Beschleunigung gleich der auf den Massepunkt wirkenden Gesamtkraft ist."
      ]
    },
    {
      "cell_type": "markdown",
      "metadata": {
        "id": "TwJhXPAYMH5y"
      },
      "source": [
        "Es lässt sich zeigen, dass auch bei diesem System der Fluss\n",
        "\n",
        ">$\n",
        "\\Phi: T \\times X \\rightarrow X, \\quad \\Phi\\left(t, x_{0}, v_{0}\\right)=(x(t), v(t))\n",
        "$\n",
        "\n",
        "die **Halbgruppeneigenschaft** erfüllt. Betrachtet man den Verlauf des Systemzustandes im Zustandsraum $X=\\mathbb{R}^{2},$ also die sogenannte $\\mathrm{Bahn}$ $\\left\\{(x(t), v(t)) \\in \\mathbb{R}^{2} \\mid t \\geq 0\\right\\},$ so ergibt sich bei einer **gedämpften Schwingung des Federpendels eine Trajektorie**, die spiralförmig auf die Ruhelage (0,0) zuläuft."
      ]
    },
    {
      "cell_type": "markdown",
      "metadata": {
        "id": "VMXeo-KcVurT"
      },
      "source": [
        "###### **Phasenraum und Trajektorie**"
      ]
    },
    {
      "cell_type": "markdown",
      "metadata": {
        "id": "fYGXfTQpV2tS"
      },
      "source": [
        "* Der [Phasenraum](https://de.wikipedia.org/wiki/Phasenraum) beschreibt die Menge aller möglichen Zustände eines dynamischen Systems. Ein Zustand wird durch einen Punkt im Phasenraum eindeutig abgebildet. \n",
        "\n",
        "* In der Mechanik besteht er aus verallgemeinerten Koordinaten (Konfigurationsraum) und zugehörigen verallgemeinerten Geschwindigkeiten (siehe Prinzip der virtuellen Leistung).\n",
        "\n",
        "* Die zeitliche Entwicklung eines Punktes im Phasenraum wird durch **Differentialgleichungen** beschrieben und durch **Trajektorien** (Bahnkurven, Orbit) im Phasenraum dargestellt. Dies sind **Differentialgleichungen erster Ordnung in der Zeit** und durch einen Anfangspunkt eindeutig festgelegt (ist die Differentialgleichung zeitunabhängig, sind dies **autonome Differentialgleichungen**). Dementsprechend kreuzen sich zwei Trajektorien im Phasenraum auch nicht, da an einem Kreuzungspunkt der weitere Verlauf nicht eindeutig ist. Geschlossene Kurven beschreiben oszillierende (periodische) Systeme.\n"
      ]
    },
    {
      "cell_type": "markdown",
      "metadata": {
        "id": "WGBpHADjWBSt"
      },
      "source": [
        "*Konstruktion eines Phasen(raum)porträts für ein [mathematisches Pendel](https://de.wikipedia.org/wiki/Mathematisches_Pendel)*\n",
        "\n",
        "![hh](https://upload.wikimedia.org/wikipedia/commons/c/cd/Pendulum_phase_portrait_illustration.svg)"
      ]
    },
    {
      "cell_type": "markdown",
      "metadata": {
        "id": "uPNSndPtbrJ0"
      },
      "source": [
        "###### **Fluss**"
      ]
    },
    {
      "cell_type": "markdown",
      "metadata": {
        "id": "LclyTUbSbssP"
      },
      "source": [
        "* Das Konzept eines [(Phasen-)Flusses](https://de.wikipedia.org/wiki/Fluss_(Mathematik)) in der Mathematik ermöglicht die **Beschreibung zeitabhängiger (System-)Zustände**. Es ist deshalb vor allem für die **Analyse gewöhnlicher Differentialgleichungen** von Bedeutung und findet damit Anwendung in vielen Bereichen der Mathematik und Physik. \n",
        "\n",
        "* Formal ist der Fluss eine Operation einer Parameterhalbgruppe $(\\Gamma,+)$ auf einer Menge\n",
        "$X$. Meist, insbesondere in der Theorie der Gewöhnlichen Differentialgleichungen, wird unter einem Fluss eine Operation der Halbgruppe $\\left(\\mathbb{R}_{\\geq 0},+\\right)$ verstanden.\n",
        "\n",
        "* Im Hinblick auf die Analyse dynamischer Systeme beschreibt der Fluss die **Bewegung im Phasenraum im Laufe der Zeit**. Hierbei spricht man in Abhängigkeit von der Parametermenge $\\Gamma$ von einem kontinuierlichen dynamischen System $(\\Gamma=\\mathbb{R})$ oder einem diskreten dynamischen System $\\Gamma=\\mathbb{N})$\n",
        "\n",
        "\n",
        "Betrachten wir ein System gewöhnlicher Differentialgleichungen\n",
        "\n",
        ">$\n",
        "\\dot{\\mathbf{x}}=\\mathbf{F}(t, \\mathbf{x})\n",
        "$\n",
        "\n",
        "mit $\\mathbf{x} \\in \\mathbb{R}^{n}$ oder einer offenen Teilmenge davon, so werden durch den Phasenfluss die Lösungen dieses Systems in Abhängigkeit vom Anfangszustand angegeben. Man wählt dann oft auch eine implizite Form der Flussangabe und schreibt\n",
        "$\\mathbf{x}(t)$ bzw. $\\mathbf{x}(0)$"
      ]
    },
    {
      "cell_type": "markdown",
      "metadata": {
        "id": "f0edf0aTciqG"
      },
      "source": [
        "Sei $X$ eine Menge, $\\Gamma$ eine Parametermenge. Eine Abbildung\n",
        "\n",
        ">$\n",
        "\\varphi: X \\times \\Gamma \\rightarrow X\n",
        "$\n",
        "\n",
        "heißt Fluss, wenn die folgenden Bedingungen erfüllt sind:\n",
        "\n",
        ">$\n",
        "\\varphi(x, 0)=x \\forall x \\in X\n",
        "$\n",
        "\n",
        "und\n",
        "\n",
        ">$\n",
        "\\varphi(\\varphi(x, s), t)=\\varphi(x, s+t) \\forall x \\in X, s, t \\in \\Gamma\n",
        "$\n",
        "\n",
        "Wir haben also eine [Halbgruppenwirkung](https://de.wikipedia.org/wiki/Halbgruppe).\n",
        "Die Menge\n",
        "\n",
        ">$\n",
        "\\mathcal{O}(x, \\varphi):=\\{\\varphi(x, t) \\mid t \\in \\Gamma\\}\n",
        "$\n",
        "\n",
        "heißt [Orbit](https://de.wikipedia.org/wiki/Gruppenoperation#Bahn) (Gruppenoperation: Bahn) von $x$. Falls die Abbildung $\\varphi: X \\times \\Gamma \\rightarrow X$ differenzierbar ist, spricht man auch von einem differenzierbaren Fluss."
      ]
    },
    {
      "cell_type": "markdown",
      "metadata": {
        "id": "l17CdhRn5_rQ"
      },
      "source": [
        "https://www.quantamagazine.org/with-arithmetic-dynamics-mathematicians-unlock-new-insights-20210222"
      ]
    },
    {
      "cell_type": "markdown",
      "metadata": {
        "id": "JFsothqp6Cav"
      },
      "source": [
        "https://en.m.wikipedia.org/wiki/Arithmetic_dynamics"
      ]
    },
    {
      "cell_type": "markdown",
      "metadata": {
        "id": "gOMKrtkmE8ua"
      },
      "source": [
        "###### **Determiniertheit in einem System**"
      ]
    },
    {
      "cell_type": "markdown",
      "metadata": {
        "id": "y2IBSmekE68A"
      },
      "source": [
        "* Die [Determiniertheit (als Systemeigenschaft)](https://de.wikipedia.org/wiki/Systemeigenschaften#Determiniertheit) ist der Grad der „Vorbestimmtheit“ des Systems: Ein System geht von einem Zustand Z1 in den Zustand Z2 über: Z1 → Z2. Bei deterministischen Systemen ist dieser Übergang bestimmt (zwingend), bei stochastischen wahrscheinlich.\n",
        "\n",
        "* Deterministische Systeme erlauben prinzipiell die Ableitung ihres Verhaltens aus einem vorherigen Zustand, stochastische Systeme nicht. \n",
        "\n",
        "* Klassische deterministische Systeme erlauben eine eindeutige Bestimmung ihres Zustandes zu jedem Zeitpunkt der Vergangenheit und Zukunft mit hinreichender Genauigkeit (Beispiel: Planetenbewegung). \n",
        "\n",
        "* Hinreichend ist hier bezogen auf menschlich überschaubare, bzw. relevante Zeiträume und Größenordnungen. Die Entwicklung chaotischer Systeme ist nicht immer eindeutig bestimmbar, da alle Parameter mit theoretisch unendlich großer Genauigkeit bekannt sein müssen, sie sind empfindlich gegenüber den Anfangsbedingungen. \n",
        "\n",
        "* Mit geeigneten (mathematischen) Modellen lassen sich relevante Aussagen über Vergangenheit und Zukunft von deterministischen und stochastischen Systemen machen. \n",
        "\n",
        "* **Aus der Komplexität eines Systems lässt sich keine Aussage über die Vorhersagbarkeit treffen**: Es gibt einfache deterministische Systeme, die chaotisch sind (z. B. Doppelpendel) und komplexe deterministische Systeme (Chloroplasten bei der Photosynthese).\n"
      ]
    },
    {
      "cell_type": "markdown",
      "metadata": {
        "id": "_F7C0w0HcBTE"
      },
      "source": [
        "###### **Weitere Properties**"
      ]
    },
    {
      "cell_type": "markdown",
      "metadata": {
        "id": "fuApQHQBj051"
      },
      "source": [
        "**Ergodizität**"
      ]
    },
    {
      "cell_type": "markdown",
      "metadata": {
        "id": "L6Lh2Avuj3un"
      },
      "source": [
        "https://de.m.wikipedia.org/wiki/Ergodizität"
      ]
    },
    {
      "cell_type": "markdown",
      "metadata": {
        "id": "BlnUe6JakMRT"
      },
      "source": [
        "**Stabilitätstheorie**"
      ]
    },
    {
      "cell_type": "markdown",
      "metadata": {
        "id": "jESOyJ3jkPvD"
      },
      "source": [
        "https://de.m.wikipedia.org/wiki/Stabilitätstheorie"
      ]
    },
    {
      "cell_type": "markdown",
      "metadata": {
        "id": "aMAfpCIkkEH5"
      },
      "source": [
        "**Periodizität**"
      ]
    },
    {
      "cell_type": "markdown",
      "metadata": {
        "id": "rqJFCL_OkHtL"
      },
      "source": [
        "https://de.m.wikipedia.org/wiki/Periodische_Funktion"
      ]
    },
    {
      "cell_type": "markdown",
      "metadata": {
        "id": "m066sar7fCUi"
      },
      "source": [
        "#### **Attraktor**"
      ]
    },
    {
      "cell_type": "markdown",
      "metadata": {
        "id": "JUgCSRigbYcL"
      },
      "source": [
        "###### **Definition & Properties**"
      ]
    },
    {
      "cell_type": "markdown",
      "metadata": {
        "id": "cxw1WlN9hhlY"
      },
      "source": [
        "* [Attraktor](https://de.wikipedia.org/wiki/Attraktor) ist ein Begriff aus der Theorie dynamischer Systeme und beschreibt **eine Untermenge eines Phasenraums** (d. h. eine gewisse Anzahl von Zuständen), auf die sich ein dynamisches System im Laufe der Zeit zubewegt und die unter der Dynamik dieses Systems nicht mehr verlassen wird. \n",
        "\n",
        "* Das heißt, eine Menge von Variablen nähert sich im Laufe der Zeit (asymptotisch) einem bestimmten Wert, einer Kurve oder etwas Komplexerem (also einer Region im n-dimensionalen Raum) und bleibt dann im weiteren Zeitverlauf in der Nähe dieses Attraktors.\n",
        "\n",
        "* Bekannte Beispiele sind der [Lorenz-Attraktor](https://de.wikipedia.org/wiki/Lorenz-Attraktor), der [Rössler-Attraktor](https://de.wikipedia.org/wiki/R%C3%B6ssler-Attraktor) und die [Nullstellen](https://de.wikipedia.org/wiki/Nullstelle) einer differenzierbaren Funktion, welche Attraktoren des zugehörigen Newton-Verfahrens sind.\n",
        "\n",
        "* Die Menge aller Punkte des Phasenraums, die unter der Dynamik demselben Attraktor zustreben, heißt Attraktions- oder Einzugsgebiet dieses Attraktors.\n",
        "\n",
        "\n",
        "\n",
        "\n"
      ]
    },
    {
      "cell_type": "markdown",
      "metadata": {
        "id": "WBdZoswqqFDH"
      },
      "source": [
        "Unter einem Attraktor versteht man eine Teilmenge $A \\subseteq X$,\n",
        "die den folgenden Bedingungen genügt\n",
        "1. $A$ ist vorwärts invariant;\n",
        "2. Das Sammelbecken $B(A)$ ist eine Umgebung von $A$;\n",
        "3. $A$ ist eine minimale nicht leere Teilmenge von $X$ mit Bedingungen 1\n",
        "und 2 .\n",
        "\n",
        "Bedingung 1 erfordert eine gewisse Stabilität des Attraktors. Daraus folgt offensichtlich, dass $A \\subseteq B(A)$. Anhand Bedingung 2 wird weiterhin verlangt, dass $A \\subseteq B(A)^{\\circ}$ und bedeutet u. a., jeder Punkt in einer gewissen Nähe von $A$ nähere sich dem Attraktor beliebig. Manche Autoren lassen Bedingung 2 weg. Bedingung 3 erfordert, dass der Attraktor nicht in weitere Komponenten zerlegt werden kann (ansonsten\n",
        "wäre bspw. der ganze Raum trivialerweise ein Attraktor)."
      ]
    },
    {
      "cell_type": "markdown",
      "metadata": {
        "id": "m9Lh73tXqmwo"
      },
      "source": [
        "Formal betrachte man ein **dynamisches System** bestehend aus einem topologischen Raum $X$ und einer Transformation $f: \\mathcal{T} \\times X \\longrightarrow X$, wobei $\\mathcal{T}$ ein linear geordnetes Monoid ist wie $\\mathcal{T}=\\mathbb{N}, \\mathbb{Z},[0, \\infty[$ oder $\\mathbb{R}$ und $f$ normalerweise stetig oder mindestens messbar ist (oder mindestens wird verlangt, dass $f(t, \\cdot): X \\longrightarrow X$ stetig/messbar ist für jedes $t \\in \\mathcal{T}$ ) und erfüllt\n",
        "$f(t+s, x)=f(t, f(s, x))$ für alle »Zeiten « $t, s \\in \\mathcal{T}$\n",
        "und Punkte $x \\in X$.\n",
        "\n",
        "**Definition 1**. Eine Teilmenge $A \\subseteq X$ heißt dann vorwärts\n",
        "invariant, wenn\n",
        "\n",
        ">$\n",
        "\\forall t \\geq 0: f(t, A) \\subseteq A\n",
        "$\n",
        "\n",
        "Mit anderen Worten sobald ein Punkt in einen Attraktor\n",
        "gelangt, entkommt er der Teilmenge nicht.\n",
        "\n",
        "**Definition 2**. Unter dem Sammelbecken einer Teilmenge\n",
        "$A \\subseteq X$ versteht man die Menge\n",
        "\n",
        ">$\n",
        "B(A):=\\left\\{x \\in X \\mid \\forall U \\in \\mathcal{N}(A): \\exists t_{0} \\geq 0: \\forall t \\geq t_{0}:\\right.\n",
        "$\n",
        "\n",
        "wobei $\\mathcal{N}(A)$ die Menge der Umgebungen von $A$ ist. Mit Worten ist ein Punkt, $x \\in X$, in $B(A)$ genau dann, wenn für alle Umgebungen $U$ von $A$ dieser Punkt ab einem Zeitpunkt sich immer in dieser Umgebung aufhält.\n",
        "\n",
        "**Bemerkung**. Im Falle eines kompakten metrisierten Raums $(X, d)$ ist diese Definition äquivalent zu\n",
        "\n",
        ">$\n",
        "B(A):=\\left\\{x \\in X \\mid \\lim _{t \\rightarrow \\infty} d(f(t, x), A)=0\\right\\}\n",
        "$\n",
        "\n",
        "**Bemerkung**. Angenommen, der Raum sei metrisierbar und $A$\n",
        "sei kompakt. Aus der Definition eines Sammelbeckens geht hervor, dass $B(A)$ vorwärts invariant ist und $\\bigcap\\{f(t, B(A)) \\mid t>0\\}=\\bar{A}$. Manche Autoren definieren das Sammelbecken als die (offene) Menge mit diesen beiden Eigenschaften.\n"
      ]
    },
    {
      "cell_type": "markdown",
      "metadata": {
        "id": "AfPQZ219iLIw"
      },
      "source": [
        "**Dynamische Systeme beschreiben Zustandsänderungen in Abhängigkeit von der Zeit t**. Für die mathematische Definition wird das reale System oft in der stark vereinfachten Form eines mathematischen Modells betrachtet. Beispiele sind\n",
        "\n",
        "* das Strömungsverhalten von Flüssigkeiten und Gasen\n",
        "* Bewegungen von Himmelskörpern unter gegenseitiger Beeinflussung durch die Gravitation\n",
        "* Populationsgrößen von Lebewesen unter Berücksichtigung der Räuber-Beute-Beziehung oder\n",
        "* die Entwicklung wirtschaftlicher Kenngrößen unter Einfluss der Marktgesetze.\n",
        "\n",
        "Das Langzeitverhalten eines dynamischen Systems lässt sich durch den globalen Attraktor beschreiben, da bei physikalischen oder technischen Systemen oft **Dissipation vorliegt, insbesondere Reibung**.\n",
        "\n",
        "**Jeder Zustand ist ein Punkt im Phasenraum und wird durch beliebig viele [Zustandsgrößen](https://de.wikipedia.org/wiki/Zustandsgr%C3%B6%C3%9Fe) dargestellt, welche die Dimensionen des Phasenraums bilden.**\n",
        "\n",
        "* kontinuierliche Systeme werden durch Linien (Trajektorien) repräsentiert\n",
        "* diskrete Systeme werden durch Mengen isolierter Punkte repräsentiert."
      ]
    },
    {
      "cell_type": "markdown",
      "metadata": {
        "id": "7urGQ-Mimc1B"
      },
      "source": [
        "###### **Attraktoren, die im Phasenraum eine ganzzahlige Dimension besitzen**"
      ]
    },
    {
      "cell_type": "markdown",
      "metadata": {
        "id": "g8cai3DPiwy4"
      },
      "source": [
        "Bei der Untersuchung dynamischer Systeme interessiert man sich – ausgehend von einem bestimmten [Anfangszustand (=Anfangsbedingung)](https://de.wikipedia.org/wiki/Anfangsbedingung) – vor allem für das Verhalten für $t\\to \\infty$ . Der Grenzwert in diesem Fall wird als Attraktor bezeichnet. Typische und häufige Beispiele von Attraktoren sind:\n",
        "\n",
        "* **asymptotisch stabile Fixpunkte**: Das System nähert sich immer stärker einem bestimmten Endzustand an, in dem die Dynamik erliegt; ein statisches System entsteht. Typisches Beispiel ist ein gedämpftes Pendel, das sich dem Ruhezustand im tiefsten Punkt annähert.\n",
        "\n",
        "* **(asymptotisch) stabile Grenzzyklen**: Der Endzustand ist die Abfolge gleicher Zustände, die periodisch durchlaufen werden (periodische Orbits). Ein Beispiel dafür ist die Simulation der Räuber-Beute-Beziehung, die für bestimmte Parameter der Rückkoppelung auf ein periodisches Ansteigen und Sinken der Populationsgrößen hinausläuft.\n",
        "\n",
        "* Für ein hybrides dynamisches System mit chaotischer Dynamik konnte im $\\mathbb {R} ^{n}$ die Oberfläche eines [n-Simplex](https://de.wikipedia.org/wiki/Simplex_(Mathematik)) als Attraktor identifiziert werden: (asymptotisch stabile) Grenztori: Treten mehrere miteinander inkommensurable Frequenzen auf, so ist die Trajektorie nicht geschlossen, und der Attraktor ist ein Grenztorus, der von der Trajektorie asymptotisch vollständig ausgefüllt wird. Die zu diesem Attraktor korrespondierende Zeitreihe ist quasiperiodisch, d. h., es gibt keine echte Periode, aber das Frequenzspektrum besteht aus scharfen Linien.\n",
        "\n",
        "**Diese Beispiele sind Attraktoren, die im Phasenraum eine ganzzahlige Dimension besitzen.**"
      ]
    },
    {
      "cell_type": "markdown",
      "metadata": {
        "id": "sVcrXskTme_C"
      },
      "source": [
        "###### **Attraktoren, die im Phasenraum eine fraktale Dimension besitzen**"
      ]
    },
    {
      "cell_type": "markdown",
      "metadata": {
        "id": "qMS8uZlNlFTx"
      },
      "source": [
        "Die Existenz von Attraktoren mit komplizierterer Struktur war zwar schon länger bekannt, man betrachtete sie aber zunächst als instabile Sonderfälle, deren Auftreten nur bei bestimmter Wahl des Ausgangszustands und der Systemparameter beobachtet wird. Dies änderte sich mit der Definition eines neuen, speziellen Typs von Attraktor:\n",
        "\n",
        "* [Seltsamer Attraktor](https://de.wikipedia.org/wiki/Seltsamer_Attraktor): In seinem Endzustand zeigt das System häufig ein chaotisches Verhalten (es gibt jedoch auch Ausnahmen, z. B. quasiperiodisch angetriebene nichtlineare Systeme). \n",
        "\n",
        "* Der seltsame Attraktor lässt sich **nicht in einer geschlossenen geometrischen Form** beschreiben und **besitzt keine ganzzahlige Dimension**. Attraktoren nichtlinearer dynamischer Systeme weisen dann eine **fraktale Struktur** auf. \n",
        "\n",
        "* Wichtiges Merkmal ist das chaotische Verhalten, d. h., jede noch so geringe Änderung des Anfangszustands führt im weiteren Verlauf zu signifikanten Zustandsänderungen. Prominentestes Beispiel ist der **Lorenz-Attraktor, der bei der Modellierung von Luftströmungen in der Atmosphäre entdeckt wurde**."
      ]
    },
    {
      "cell_type": "markdown",
      "metadata": {
        "id": "StUL1uXTbMRz"
      },
      "source": [
        "**Fixed Point Attractor**"
      ]
    },
    {
      "cell_type": "markdown",
      "metadata": {
        "id": "pR7zd5yd4Od5"
      },
      "source": [
        "https://en.m.wikipedia.org/wiki/Attractor#Fixed_point"
      ]
    },
    {
      "cell_type": "markdown",
      "metadata": {
        "id": "6mjL_K3rbH1-"
      },
      "source": [
        "**Limit Cycle Attractor**"
      ]
    },
    {
      "cell_type": "markdown",
      "metadata": {
        "id": "5GZN1M4n4R-3"
      },
      "source": [
        "https://en.m.wikipedia.org/wiki/Limit_cycle"
      ]
    },
    {
      "cell_type": "markdown",
      "metadata": {
        "id": "Oy_2LXvJlrSs"
      },
      "source": [
        "**Strange Attractor**"
      ]
    },
    {
      "cell_type": "markdown",
      "metadata": {
        "id": "D_mjSlSultzR"
      },
      "source": [
        "* Ein [seltsamer Attraktor](https://de.wikipedia.org/wiki/Seltsamer_Attraktor) ist ein Attraktor, also ein Ort im Phasenraum, der den Endzustand eines dynamischen Prozesses darstellt, dessen fraktale Dimension nicht ganzzahlig und dessen Kolmogorov-Entropie echt positiv ist. \n",
        "\n",
        "* Es handelt sich damit um ein Fraktal, das nicht in geschlossener Form geometrisch beschrieben werden kann. Gelegentlich wird auch der Begriff chaotischer Attraktor bevorzugt, da die „Seltsamkeit“ dieses Objekts sich mit den Mitteln der Chaostheorie erklären lässt. Der dynamische Prozess zeigt ein aperiodisches Verhalten.\n",
        "\n"
      ]
    },
    {
      "cell_type": "markdown",
      "metadata": {
        "id": "opYSezsz4f3V"
      },
      "source": [
        "**Example of a Strange Attractor: Rössler attractor**"
      ]
    },
    {
      "cell_type": "markdown",
      "metadata": {
        "id": "_M7ApGCo4eqm"
      },
      "source": [
        "https://en.m.wikipedia.org/wiki/Rössler_attractor"
      ]
    },
    {
      "cell_type": "markdown",
      "metadata": {
        "id": "ZWulO_HC4vua"
      },
      "source": [
        "**Example of a Strange Attractor: Double-scroll / Multiscroll attractor**"
      ]
    },
    {
      "cell_type": "markdown",
      "metadata": {
        "id": "vPASjk1u4z0Q"
      },
      "source": [
        "https://en.m.wikipedia.org/wiki/Multiscroll_attractor"
      ]
    },
    {
      "cell_type": "markdown",
      "metadata": {
        "id": "F7aLTbbz46Ec"
      },
      "source": [
        "**Example of a Strange Attractor: Hénon map**"
      ]
    },
    {
      "cell_type": "markdown",
      "metadata": {
        "id": "AehEZTX946_1"
      },
      "source": [
        "https://en.m.wikipedia.org/wiki/Hénon_map"
      ]
    },
    {
      "cell_type": "markdown",
      "metadata": {
        "id": "Yn9Gvo_6Wch2"
      },
      "source": [
        "**Example of a Strange Attractor: Lorenz Attraktor**"
      ]
    },
    {
      "cell_type": "markdown",
      "metadata": {
        "id": "lxAvwOlbmQn8"
      },
      "source": [
        "Der [Lorenz-Attraktor](https://de.wikipedia.org/wiki/Lorenz-Attraktor) (englisch: [Lorenz System](https://en.wikipedia.org/wiki/Lorenz_system))ist der seltsame Attraktor eines Systems von drei gekoppelten, nichtlinearen **gewöhnlichen Differentialgleichungen**:\n",
        "\n",
        "$\\dot{X}=a(Y-X)$\n",
        "\n",
        "$\\dot{Y}=X(b-Z)-Y$\n",
        "\n",
        "$\\dot{Z}=X Y-c Z$\n",
        "\n",
        "* Formuliert wurde das System um 1963 von dem Meteorologen Edward N. Lorenz, der es als Idealisierung eines [hydrodynamischen Systems (Fluiddynamik)](https://de.wikipedia.org/wiki/Fluiddynamik) entwickelte. Basierend auf einer Arbeit von Barry Saltzman (1931–2001) ging es Lorenz dabei um eine Modellierung der Zustände in der Erdatmosphäre zum Zweck einer Langzeitvorhersage. \n",
        "\n",
        "* Allerdings betonte Lorenz, dass das von ihm entwickelte System allenfalls für sehr begrenzte Parameterbereiche von $a,b,c$ realistische Resultate liefert.\n",
        "\n",
        "* Die mathematische Beschreibung des Modells durch die Navier-Stokes-Gleichungen führt über verschiedene Vereinfachungen, beispielsweise endlich abgebrochene Reihendarstellungen, zu dem oben angegebenen Gleichungssystem.\n",
        "\n",
        "* Die numerische Lösung des Systems zeigt bei bestimmten Parameterwerten deterministisch chaotisches Verhalten, die Trajektorien folgen einem seltsamen Attraktor. Damit spielt der Lorenzattraktor für die mathematische Chaostheorie eine Rolle, denn die Gleichungen stellen wohl eines der einfachsten Systeme mit chaotischem Verhalten dar.\n",
        "\n",
        "* Die typische Parametereinstellung mit chaotischer Lösung lautet: $a=10,b=28$ und $c=8/3$, wobei \n",
        "  * $a$ mit der [Prandtl-Zahl](https://de.wikipedia.org/wiki/Prandtl-Zahl) (=dimensionslose Kennzahl von Fluiden, das heißt von Gasen oder tropfbaren Flüssigkeiten. Sie ist definiert als Verhältnis zwischen kinematischer Viskosität und Temperaturleitfähigkeit. Die Prandtl-Zahl stellt die Verknüpfung des Geschwindigkeitfeldes mit dem Temperaturfeld eines Fluids dar.) \n",
        "  * $b$ mit der [Rayleigh-Zahl](https://de.wikipedia.org/wiki/Rayleigh-Zahl) (=eine dimensionslose Kennzahl, die den Charakter der Wärmeübertragung innerhalb eines Fluids beschreibt) identifiziert werden kann."
      ]
    },
    {
      "cell_type": "code",
      "metadata": {
        "colab": {
          "base_uri": "https://localhost:8080/",
          "height": 466
        },
        "id": "sG0iVFcT-CwX",
        "outputId": "afce46c3-fc83-4b7c-8c10-89594b456dc2"
      },
      "source": [
        "import numpy as np\n",
        "import matplotlib.pyplot as plt\n",
        "import seaborn as sns\n",
        "from scipy.integrate import odeint\n",
        "from mpl_toolkits.mplot3d import Axes3D\n",
        "\n",
        "rho = 28.0\n",
        "sigma = 10.0\n",
        "beta = 8.0 / 3.0\n",
        "\n",
        "def f(state, t):\n",
        "    x, y, z = state  # Unpack the state vector\n",
        "    return sigma * (y - x), x * (rho - z) - y, x * y - beta * z  # Derivatives\n",
        "\n",
        "state0 = [1.0, 1.0, 1.0]\n",
        "t = np.arange(0.0, 40.0, 0.01)\n",
        "\n",
        "states = odeint(f, state0, t)\n",
        "\n",
        "fig = plt.figure()\n",
        "ax = fig.gca(projection=\"3d\")\n",
        "ax.plot(states[:, 0], states[:, 1], states[:, 2])\n",
        "plt.draw()\n",
        "plt.show()\n",
        "sns.set(rc={'figure.figsize':(10, 10), \"lines.linewidth\": 1.0})"
      ],
      "execution_count": null,
      "outputs": [
        {
          "output_type": "display_data",
          "data": {
            "image/png": "[encoded data removed]",
            "text/plain": [
              "<Figure size 720x576 with 1 Axes>"
            ]
          },
          "metadata": {
            "tags": []
          }
        }
      ]
    },
    {
      "cell_type": "markdown",
      "metadata": {
        "id": "hIwXOz85zxW_"
      },
      "source": [
        "#### **Fractal Geometry (Fractal Dimensions)**"
      ]
    },
    {
      "cell_type": "markdown",
      "metadata": {
        "id": "oWWNNyv_EaUV"
      },
      "source": [
        "##### **Properties & Definition**"
      ]
    },
    {
      "cell_type": "markdown",
      "metadata": {
        "id": "NzaMSBJmGj_F"
      },
      "source": [
        "* a [fractal](https://en.m.wikipedia.org/wiki/Fractal) is a subset of Euclidean space with a fractal dimension that strictly exceeds its topological dimension. Fractals appear the same at different scales, as illustrated in successive magnifications of the Mandelbrot set.\n",
        "\n",
        "* Fractals exhibit similar patterns at increasingly smaller scales, a property called self-similarity, also known as expanding symmetry or unfolding symmetry; if this replication is exactly the same at every scale, as in the Menger sponge,it is called affine self-similar. \n",
        "\n",
        "* Fractal geometry lies within the mathematical branch of measure theory."
      ]
    },
    {
      "cell_type": "markdown",
      "metadata": {
        "id": "zaT6hyqeszcF"
      },
      "source": [
        "What is a fractal dimension? https://youtu.be/yQfu8jSo5b0"
      ]
    },
    {
      "cell_type": "markdown",
      "metadata": {
        "id": "FLRMLXWLqZK-"
      },
      "source": [
        "**Self-Similarity**"
      ]
    },
    {
      "cell_type": "markdown",
      "metadata": {
        "id": "P_Y4uZ0os73b"
      },
      "source": [
        "Fractals are typiclly not self-similar! https://youtu.be/gB9n2gHsHN4"
      ]
    },
    {
      "cell_type": "markdown",
      "metadata": {
        "id": "1H-mHksrqc9w"
      },
      "source": [
        "https://en.m.wikipedia.org/wiki/Self-similarity"
      ]
    },
    {
      "cell_type": "markdown",
      "metadata": {
        "id": "nWAQKraBqhh6"
      },
      "source": [
        "**Self-Orgainzation**"
      ]
    },
    {
      "cell_type": "markdown",
      "metadata": {
        "id": "blU1pDtRqlz6"
      },
      "source": [
        "https://en.m.wikipedia.org/wiki/Self-organization"
      ]
    },
    {
      "cell_type": "markdown",
      "metadata": {
        "id": "W15bYgg-qucB"
      },
      "source": [
        "**Feedback Loops**"
      ]
    },
    {
      "cell_type": "markdown",
      "metadata": {
        "id": "VfKqYeTCqxx5"
      },
      "source": [
        "https://en.m.wikipedia.org/wiki/Feedback"
      ]
    },
    {
      "cell_type": "markdown",
      "metadata": {
        "id": "ns0WTkvNEDAQ"
      },
      "source": [
        "##### **Ways of determining the fractal dimension of a set S in a Euclidean space $R^n$**"
      ]
    },
    {
      "cell_type": "markdown",
      "metadata": {
        "id": "-U7Azl_DJfzc"
      },
      "source": [
        "https://de.m.wikipedia.org/wiki/Fraktale_Dimension"
      ]
    },
    {
      "cell_type": "markdown",
      "metadata": {
        "id": "_ewrnIMeGMaB"
      },
      "source": [
        "###### **Packing dimension**"
      ]
    },
    {
      "cell_type": "markdown",
      "metadata": {
        "id": "FiQMTShkGQ3v"
      },
      "source": [
        "* the [packing dimension](https://en.m.wikipedia.org/wiki/Packing_dimension) is one of a number of concepts that can be used to define the dimension of a subset of a metric space. \n",
        "\n",
        "* Packing dimension is in some sense dual to Hausdorff dimension, since packing dimension is constructed by \"packing\" small open balls inside the given subset, whereas Hausdorff dimension is constructed by covering the given subset by such small open balls."
      ]
    },
    {
      "cell_type": "markdown",
      "metadata": {
        "id": "2NTzou7vkNpJ"
      },
      "source": [
        "###### **Effective Dimension**"
      ]
    },
    {
      "cell_type": "markdown",
      "metadata": {
        "id": "5vcByK76lYQ0"
      },
      "source": [
        "* [effective dimension](https://en.m.wikipedia.org/wiki/Effective_dimension) is a modification of Hausdorff dimension and other fractal dimensions which places it in a computability theory setting.\n",
        "\n",
        "* There are several variations (various notions of effective dimension) of which the most common is effective Hausdorff dimension.\n",
        "\n",
        "* **Hausdorff dimension generalizes the well-known integer dimensions assigned to points, lines, planes, etc. by allowing one to distinguish between objects of intermediate size between these integer-dimensional objects.** \n",
        "\n",
        "* For example, [fractal](https://en.m.wikipedia.org/wiki/List_of_fractals_by_Hausdorff_dimension) subsets of the plane may have intermediate dimension between 1 and 2, as they are \"larger\" than lines or curves, and yet \"smaller\" than filled circles or rectangles. \n",
        "\n",
        "* Effective dimension modifies Hausdorff dimension by requiring that objects with small effective dimension be not only small but also locatable (or partially locatable) in a computable sense. As such, objects with large Hausdorff dimension also have large effective dimension, and objects with small effective dimension have small Hausdorff dimension, but an object can have small Hausdorff but large effective dimension. \n",
        "\n",
        "* An example is an algorithmically random point on a line, which has Hausdorff dimension 0 (since it is a point) but effective dimension 1 (because, roughly speaking, it can't be effectively localized any better than a small interval, which has Hausdorff dimension 1)."
      ]
    },
    {
      "cell_type": "markdown",
      "metadata": {
        "id": "Zn9KRGIxmuMA"
      },
      "source": [
        "###### **Hausdorff dimension**"
      ]
    },
    {
      "cell_type": "markdown",
      "metadata": {
        "id": "ULUq2WwOmzuu"
      },
      "source": [
        "* Hausdorff dimension is a measure of roughness, or more specifically, fractal dimension, that was first introduced in 1918 by mathematician Felix Hausdorff.\n",
        "\n",
        "* For instance, the Hausdorff dimension of a single point is zero, of a line segment is 1, of a square is 2, and of a cube is 3. That is, for sets of points that define a smooth shape or a shape that has a small number of corners—the shapes of traditional geometry and science—the Hausdorff dimension **is an integer agreeing with the usual sense of dimension, also known as the [topological dimension (inductive dimension)](https://en.m.wikipedia.org/wiki/Inductive_dimension)**. \n",
        "\n",
        "* However, formulas have also been developed that allow calculation of the dimension of other less simple objects, where, solely on the basis of their properties of scaling and self-similarity, one is led to the conclusion that particular objects—including fractals—have non-integer Hausdorff dimensions. \n",
        "\n",
        "* Because of the significant technical advances made by Abram Samoilovitch Besicovitch allowing computation of dimensions for highly irregular or \"rough\" sets, this dimension is also commonly referred to as the Hausdorff–Besicovitch dimension."
      ]
    },
    {
      "cell_type": "markdown",
      "metadata": {
        "id": "v1u8I5FDn4ru"
      },
      "source": [
        "![gg](https://upload.wikimedia.org/wikipedia/commons/thumb/d/d9/KochFlake.svg/362px-KochFlake.svg.png)\n",
        "\n",
        "*Example of non-integer dimensions. The first four iterations of the Koch curve, where after each iteration, all original line segments are replaced with four, each a self-similar copy that is 1/3 the length of the original. One formalism of the Hausdorff dimension uses this **scale factor** (3) and the number of **self-similar** objects (4) to calculate the dimension, D, after the first iteration to be D = (log N)/(log S) = (log 4)/(log 3) ≈ 1.26. That is, while the Hausdorff dimension of a single point is zero, of a line segment is 1, of a square is 2, and of a cube is 3, for fractals such as this, the object can have a non-integer dimension.*"
      ]
    },
    {
      "cell_type": "markdown",
      "metadata": {
        "id": "o579LE61q0rS"
      },
      "source": [
        "**Haussdorf Dimension vs Lebesgue covering (topological) dimension**"
      ]
    },
    {
      "cell_type": "markdown",
      "metadata": {
        "id": "HssxYOUfrCHn"
      },
      "source": [
        "* Every space filling curve hits some points multiple times, and does not have a continuous inverse. It is impossible to map two dimensions onto one in a way that is continuous and continuously invertible. The topological dimension, also called Lebesgue covering dimension, explains why. This dimension is n if, in every covering of X by small open balls, there is at least one point where n + 1 balls overlap. For example, when one covers a line with short open intervals, some points must be covered twice, giving dimension n = 1.\n",
        "\n",
        "* But topological dimension is a very crude measure of the local size of a space (size near a point). A curve that is almost space-filling can still have topological dimension one, even if it fills up most of the area of a region. A fractal has an integer topological dimension, but in terms of the amount of space it takes up, it behaves like a higher-dimensional space.\n",
        "\n",
        "https://en.m.wikipedia.org/wiki/Hausdorff_dimension"
      ]
    },
    {
      "cell_type": "markdown",
      "metadata": {
        "id": "9EdmeMWyq7vL"
      },
      "source": [
        "https://en.m.wikipedia.org/wiki/Lebesgue_covering_dimension"
      ]
    },
    {
      "cell_type": "markdown",
      "metadata": {
        "id": "7pJ67pVgq-ft"
      },
      "source": [
        "https://en.m.wikipedia.org/wiki/Inductive_dimension"
      ]
    },
    {
      "cell_type": "markdown",
      "metadata": {
        "id": "TIlHfzneEmUl"
      },
      "source": [
        "###### **Minkowski–Bouligand dimension (Box Counting Dimension)**"
      ]
    },
    {
      "cell_type": "markdown",
      "metadata": {
        "id": "tI_DorMsEwO9"
      },
      "source": [
        "The [Minkowski–Bouligand dimension](https://en.m.wikipedia.org/wiki/Minkowski–Bouligand_dimension), also known as Minkowski dimension or box-counting dimension, is a way of determining the fractal dimension of a set S in a Euclidean space Rn, or more generally in a metric space (X, d). I"
      ]
    },
    {
      "cell_type": "markdown",
      "metadata": {
        "id": "H0D3EdvdE6EP"
      },
      "source": [
        "![ggg](https://upload.wikimedia.org/wikipedia/commons/thumb/2/28/Great_Britain_Box.svg/640px-Great_Britain_Box.svg.png)"
      ]
    },
    {
      "cell_type": "markdown",
      "metadata": {
        "id": "pjRri_I_FHtx"
      },
      "source": [
        "###### **Information dimension**"
      ]
    },
    {
      "cell_type": "markdown",
      "metadata": {
        "id": "D2LsIijFFRgE"
      },
      "source": [
        "In [information theory](https://en.m.wikipedia.org/wiki/Information_dimension), information dimension is an information measure for random vectors in Euclidean space, based on the normalized entropy of finely quantized versions of the random vectors. This concept was first introduced by Alfréd Rényi in 1959.\n",
        "\n",
        "Simply speaking, it is a measure of the fractal dimension of a probability distribution. It characterizes the growth rate of the Shannon entropy given by successively finer discretizations of the space.\n",
        "\n",
        "In 2010, Wu and Verdú gave an operational characterization of [Rényi information dimension](https://en.m.wikipedia.org/wiki/Rényi_entropy) as the fundamental limit of almost [lossless data compression](https://en.m.wikipedia.org/wiki/Lossless_compression) for analog sources under various regularity constraints of the encoder/decoder."
      ]
    },
    {
      "cell_type": "markdown",
      "metadata": {
        "id": "Qy5Bzgs2FlRp"
      },
      "source": [
        "###### **Rényi entropy**"
      ]
    },
    {
      "cell_type": "markdown",
      "metadata": {
        "id": "DXulHuilFo3U"
      },
      "source": [
        "* In information theory, the [Rényi entropy](https://en.m.wikipedia.org/wiki/Rényi_entropy) generalizes the Hartley entropy, the Shannon entropy, the collision entropy and the min-entropy. Entropies quantify the diversity, uncertainty, or randomness of a system. The entropy is named after Alfréd Rényi.\n",
        "\n",
        "* **In the context of fractal dimension estimation, the Rényi entropy forms the basis of the concept of generalized dimensions.**\n",
        "\n",
        "* The Rényi entropy is important in ecology and statistics as index of diversity. The Rényi entropy is also important in quantum information, where it can be used as a measure of entanglement. In the Heisenberg XY spin chain model, the Rényi entropy as a function of α can be calculated explicitly by virtue of the fact that it is an [automorphic function](https://en.m.wikipedia.org/wiki/Automorphic_function) with respect to a particular subgroup of the [modular group](https://en.m.wikipedia.org/wiki/Modular_group). In theoretical computer science, the min-entropy is used in the context of randomness extractors."
      ]
    },
    {
      "cell_type": "markdown",
      "metadata": {
        "id": "7VusXlsGmEqM"
      },
      "source": [
        "###### **List of fractals by Hausdorff dimension**"
      ]
    },
    {
      "cell_type": "markdown",
      "metadata": {
        "id": "8s1mE7R_mkow"
      },
      "source": [
        "Benoit Mandelbrot has stated that \"A fractal is by definition a set for which the Hausdorff-Besicovitch dimension strictly exceeds the topological dimension.\" Presented here is a list of fractals ordered by increasing Hausdorff dimension, with the purpose of visualizing what it means for a fractal to have a low or a high dimension"
      ]
    },
    {
      "cell_type": "markdown",
      "metadata": {
        "id": "Op5QVGhfoiHR"
      },
      "source": [
        "Deterministic fractals\n",
        "\n",
        "* Julia set\n",
        "\n",
        "* Logistic map (Feigenbaum Attractor)\n",
        "\n",
        "* Peano curve\n",
        "\n",
        "* Pentaflake\n",
        "\n",
        "* 3D Hilbert curve\n",
        "\n",
        "* and many more.."
      ]
    },
    {
      "cell_type": "markdown",
      "metadata": {
        "id": "Os90Gn1WonSe"
      },
      "source": [
        "Random and natural fractals\n",
        "\n",
        "* Zeros of a Wiener process\n",
        "\n",
        "* Brownian motion\n",
        "\n",
        "* Coastline of Ireland, Great Britain or Norway\n",
        "\n",
        "* von Koch curve with random orientation\n",
        "\n",
        "* The surface of Broccoli, or human brain\n",
        "\n",
        "* Distribution of [galaxy clusters](https://en.m.wikipedia.org/wiki/Galaxy_cluster)\n",
        "\n",
        "* and more.."
      ]
    },
    {
      "cell_type": "markdown",
      "metadata": {
        "id": "c4_6jxiHmGzH"
      },
      "source": [
        "https://en.m.wikipedia.org/wiki/List_of_fractals_by_Hausdorff_dimension"
      ]
    },
    {
      "cell_type": "markdown",
      "metadata": {
        "id": "izEi0GSjz33K"
      },
      "source": [
        "https://www.youtube.com/watch?v=gB9n2gHsHN4\n",
        "\n",
        "https://www.youtube.com/watch?v=FFftmWSzgmk\n",
        "\n",
        "https://de.wikipedia.org/wiki/Fraktal"
      ]
    },
    {
      "cell_type": "markdown",
      "metadata": {
        "id": "cbLsj_DNz1a6"
      },
      "source": [
        "* idealization is everything is smooth (rebellion against calculus, differentiable, where assumption is things look smooth if you zoom in enough)\n",
        "\n",
        "* Mandelbrot: nature is fractal (capture roughness)\n",
        "\n",
        "* self-similar shapes give a basis for modeling the regularity in some forms of roughness \n",
        "\n",
        "* but that doesn't mean all is only perfectly self-similar either!! (Perfect self similar are: Von Koch snowflake, Sierpensky triangle)\n",
        "\n",
        "* Fractal dimension: Sierpensky triangle is 1,585 dimensional, Von Koch snowflake is 1,262 dimensional, Britain coast line 1,21 dimensional, Norway: 1,52 dimensional, calm sea 2,05 dimensional, waves 2,3 dimensional\n",
        "\n",
        "* **Fractals are shapes with a non-integer dimension, captures idea of roughness,  but dimension can vary depending on how much you zoom in**. \n",
        "\n",
        "* Approaches: \n",
        "\n",
        "\t* Box routing dimension\n",
        "\t* Information dimension\n",
        "\t* Hausdorff dimension\n",
        "\t* Packing dimension\n",
        "\n",
        "* But a shape is considered a fractal only when the measures dimension stays approximately constant across multiple different scales\n",
        "\n",
        "* **Is it fractal? Yes - probably from nature, No - probably man-made**"
      ]
    },
    {
      "cell_type": "markdown",
      "metadata": {
        "id": "m6JGAp7gkVxN"
      },
      "source": [
        "##### **Fractal curves & Space-filling curve**"
      ]
    },
    {
      "cell_type": "markdown",
      "metadata": {
        "id": "YTnM2ItaDKlY"
      },
      "source": [
        "**Fractal curves**"
      ]
    },
    {
      "cell_type": "markdown",
      "metadata": {
        "id": "AETZ4l1FDOy_"
      },
      "source": [
        "A [fractal curve](https://en.m.wikipedia.org/wiki/Fractal_curve) is, loosely, a mathematical curve whose shape retains the same general pattern of irregularity, regardless of how high it is magnified, that is, its graph takes the form of a fractal.\n",
        "\n",
        "In general, fractal curves are nowhere rectifiable curves — that is, **they do not have finite length** — and every subarc longer than a single point has infinite length.\n",
        "\n",
        "An extremely famous example is the boundary of the Mandelbrot set."
      ]
    },
    {
      "cell_type": "markdown",
      "metadata": {
        "id": "douT1UzWDIIH"
      },
      "source": [
        "**Space-filling curve**"
      ]
    },
    {
      "cell_type": "markdown",
      "metadata": {
        "id": "yuld39lLC2Ah"
      },
      "source": [
        "[Space-filling curves](https://en.m.wikipedia.org/wiki/Space-filling_curve) are special cases of fractal curves. No differentiable space-filling curve can exist. Roughly speaking, differentiability puts a bound on how fast the curve can turn."
      ]
    },
    {
      "cell_type": "markdown",
      "metadata": {
        "id": "9KiXTEBWZN5U"
      },
      "source": [
        "https://youtu.be/3s7h2MHQtxc"
      ]
    },
    {
      "cell_type": "markdown",
      "metadata": {
        "id": "tZ6e_9hY1EZG"
      },
      "source": [
        "* Hilbert curve and Peano curve are examples of deterministic fractals"
      ]
    },
    {
      "cell_type": "markdown",
      "metadata": {
        "id": "NQkjzZgukcLS"
      },
      "source": [
        "*Three iterations of the Peano curve construction, whose limit is a space-filling curve.*\n",
        "\n",
        "![hhh](https://upload.wikimedia.org/wikipedia/commons/thumb/6/64/Peanocurve.svg/640px-Peanocurve.svg.png)"
      ]
    },
    {
      "cell_type": "markdown",
      "metadata": {
        "id": "MfMqVbCBknWL"
      },
      "source": [
        "* a [space-filling curve](https://en.m.wikipedia.org/wiki/Space-filling_curve) is a curve whose range contains the entire 2-dimensional unit square (or more generally an n-dimensional unit hypercube).\n",
        "\n",
        "* space-filling curves in the 2-dimensional plane are sometimes called Peano curves, but that phrase also refers to the [Peano curve](https://en.m.wikipedia.org/wiki/Peano_curve), the specific example of a space-filling curve found by Peano.\n",
        "\n",
        "* In particular, the S2 cells are ordered sequentially along a space-filling curve (a type of fractal). The particular curve used by S2 is called the S2 space-filling curve, and consists of six Hilbert curves linked together to form a single continuous loop over the entire sphere. Here is an illustration of the S2 curve after 5 levels of subdivision:"
      ]
    },
    {
      "cell_type": "markdown",
      "metadata": {
        "id": "TJ19WJwUEMSI"
      },
      "source": [
        "##### **Fractal Sets**"
      ]
    },
    {
      "cell_type": "markdown",
      "metadata": {
        "id": "uL33tWzdaS1s"
      },
      "source": [
        "http://www.malinc.se/m/Lorenz.php"
      ]
    },
    {
      "cell_type": "markdown",
      "metadata": {
        "id": "0aIi9hlrERqr"
      },
      "source": [
        "###### **Mandelbrot Set**"
      ]
    },
    {
      "cell_type": "markdown",
      "metadata": {
        "id": "RTxVjV8PEXYh"
      },
      "source": [
        "Mandelbrot set: https://youtu.be/FFftmWSzgmk"
      ]
    },
    {
      "cell_type": "markdown",
      "metadata": {
        "id": "3lyG3ihYEZnO"
      },
      "source": [
        "###### **Julia Set**"
      ]
    },
    {
      "cell_type": "markdown",
      "metadata": {
        "id": "CBAcPTVQGrKL"
      },
      "source": [
        "The Mandelbrot set is kind of like a map of Julia sets"
      ]
    },
    {
      "cell_type": "markdown",
      "metadata": {
        "id": "hsnYuvatEfoC"
      },
      "source": [
        "https://de.m.wikipedia.org/wiki/Julia-Menge"
      ]
    },
    {
      "cell_type": "markdown",
      "metadata": {
        "id": "fKk595_SJ52d"
      },
      "source": [
        "https://de.m.wikipedia.org/wiki/Newtonfraktal"
      ]
    },
    {
      "cell_type": "markdown",
      "metadata": {
        "id": "tCPgHXFiCKpH"
      },
      "source": [
        "###### **Logistic Map & Feigenbaum Constant**"
      ]
    },
    {
      "cell_type": "markdown",
      "metadata": {
        "id": "pFgJ4y7LCPWP"
      },
      "source": [
        "https://de.m.wikipedia.org/wiki/Logistische_Gleichung"
      ]
    },
    {
      "cell_type": "markdown",
      "metadata": {
        "id": "F1qfRhwpCQ1Q"
      },
      "source": [
        "https://de.m.wikipedia.org/wiki/Feigenbaum-Konstante"
      ]
    },
    {
      "cell_type": "markdown",
      "metadata": {
        "id": "Mt5cu2yjCWJ3"
      },
      "source": [
        "![gg](https://upload.wikimedia.org/wikipedia/commons/thumb/7/7d/LogisticMap_BifurcationDiagram.png/640px-LogisticMap_BifurcationDiagram.png)"
      ]
    },
    {
      "cell_type": "code",
      "metadata": {
        "colab": {
          "base_uri": "https://localhost:8080/",
          "height": 295
        },
        "id": "Ho65-FaoJZhF",
        "outputId": "ab53eb6b-7690-4997-95c5-73903fe24b96"
      },
      "source": [
        "import numpy as np\n",
        "import matplotlib.pyplot as plt\n",
        "\n",
        "N_points = 4000000\n",
        "N_steps = 500\n",
        "r = np.linspace(0,4,N_points)\n",
        "y = np.random.uniform(0,1,size=N_points)\n",
        "\n",
        "for _ in range(N_steps):\n",
        "    y = r*y*(1-y)\n",
        "    \n",
        "fig, biax = plt.subplots()\n",
        "biax.plot(r, y, '.-', linewidth=0, markersize=0.25)\n",
        "biax.set(xlabel='Wachstumsrate (r)', ylabel='Equilibrium (lims)', title='Bifurcation')\n",
        "plt.show()"
      ],
      "execution_count": null,
      "outputs": [
        {
          "output_type": "display_data",
          "data": {
            "image/png": "[encoded data removed]",
            "text/plain": [
              "<Figure size 432x288 with 1 Axes>"
            ]
          },
          "metadata": {
            "tags": [],
            "needs_background": "light"
          }
        }
      ]
    },
    {
      "cell_type": "markdown",
      "metadata": {
        "id": "d5nqxI_KCfZO"
      },
      "source": [
        "https://youtu.be/ovJcsL7vyrk"
      ]
    },
    {
      "cell_type": "markdown",
      "metadata": {
        "id": "9tAGVtrXD48J"
      },
      "source": [
        "This bifurcation diagram is part of the Mandelbrot set, but turned around and seen from the side"
      ]
    },
    {
      "cell_type": "markdown",
      "metadata": {
        "id": "bR8rl5PrF_bX"
      },
      "source": [
        "![ggg](https://raw.githubusercontent.com/deltorobarba/repo/master/mandelbrot_01.jpg)"
      ]
    },
    {
      "cell_type": "markdown",
      "metadata": {
        "id": "xRzMZIYtGOhQ"
      },
      "source": [
        "![ggg](https://raw.githubusercontent.com/deltorobarba/repo/master/mandelbrot_02.jpg)"
      ]
    },
    {
      "cell_type": "markdown",
      "metadata": {
        "id": "Dlh7BPoNGR7R"
      },
      "source": [
        "![ggg](https://raw.githubusercontent.com/deltorobarba/repo/master/mandelbrot_03.jpg)"
      ]
    },
    {
      "cell_type": "markdown",
      "metadata": {
        "id": "OwZwq7OlGUXk"
      },
      "source": [
        "![ggg](https://raw.githubusercontent.com/deltorobarba/repo/master/mandelbrot_04.jpg)"
      ]
    }
  ]
}