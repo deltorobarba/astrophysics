{
  "nbformat": 4,
  "nbformat_minor": 0,
  "metadata": {
    "colab": {
      "name": "numbers.ipynb",
      "provenance": [],
      "collapsed_sections": [
        "jhzECODotDAs",
        "Svom57p5qUBF",
        "2jRlk3PitK_X",
        "la1Mt1SYtAGp",
        "Z8dIVLbBT2pF",
        "8aMAo18a7XaV",
        "dPQ32QlkY-5A",
        "f-Me7uqcZVn_"
      ],
      "include_colab_link": true
    },
    "kernelspec": {
      "name": "python3",
      "display_name": "Python 3"
    }
  },
  "cells": [
    {
      "cell_type": "markdown",
      "metadata": {
        "id": "view-in-github",
        "colab_type": "text"
      },
      "source": [
        "<a href=\"https://colab.research.google.com/github/deltorobarba/machinelearning/blob/master/numbers.ipynb\" target=\"_parent\"><img src=\"https://colab.research.google.com/assets/colab-badge.svg\" alt=\"Open In Colab\"/></a>"
      ]
    },
    {
      "cell_type": "markdown",
      "metadata": {
        "id": "HjNmcYpFuFTY"
      },
      "source": [
        "# **Number Theory**"
      ]
    },
    {
      "cell_type": "code",
      "metadata": {
        "id": "RYViK39mt7Nj"
      },
      "source": [
        "import numpy as np\n",
        "import pandas as pd\n",
        "import seaborn as sns\n",
        "import matplotlib.pyplot as plt"
      ],
      "execution_count": null,
      "outputs": []
    },
    {
      "cell_type": "markdown",
      "metadata": {
        "id": "oZqsloMdyQ6F"
      },
      "source": [
        "![numbers](https://upload.wikimedia.org/wikipedia/commons/thumb/1/14/E8Petrie.svg/239px-E8Petrie.svg.png)"
      ]
    },
    {
      "cell_type": "markdown",
      "metadata": {
        "id": "jhzECODotDAs"
      },
      "source": [
        "##### **Zahlentheorie**"
      ]
    },
    {
      "cell_type": "markdown",
      "metadata": {
        "id": "rh2F-UNLrsm0"
      },
      "source": [
        "https://de.m.wikipedia.org/wiki/Reihenentwicklung"
      ]
    },
    {
      "cell_type": "markdown",
      "metadata": {
        "id": "I1YDJgZvyZzE"
      },
      "source": [
        "https://en.m.wikipedia.org/wiki/Pure_mathematics"
      ]
    },
    {
      "cell_type": "markdown",
      "metadata": {
        "id": "ObK-2d-DYtcF"
      },
      "source": [
        "https://de.m.wikipedia.org/wiki/Zahlentheorie"
      ]
    },
    {
      "cell_type": "markdown",
      "metadata": {
        "id": "rmAijhxIV8e-"
      },
      "source": [
        "https://de.m.wikipedia.org/wiki/Analytische_Zahlentheorie"
      ]
    },
    {
      "cell_type": "markdown",
      "metadata": {
        "id": "gH4h8gml67jK"
      },
      "source": [
        "https://de.m.wikipedia.org/wiki/Algebraische_Zahlentheorie"
      ]
    },
    {
      "cell_type": "markdown",
      "metadata": {
        "id": "Vzx_Xs-4Ge0z"
      },
      "source": [
        "https://de.m.wikipedia.org/wiki/Algorithmische_Zahlentheorie"
      ]
    },
    {
      "cell_type": "markdown",
      "metadata": {
        "id": "DcCS_sAWGG9J"
      },
      "source": [
        "https://de.m.wikipedia.org/wiki/Diophantische_Gleichung\n",
        "\n",
        "Polynomfunktion mit ganzzahligen Koeffizienten ist und nur ganzzahlige Lösungen gesucht werden"
      ]
    },
    {
      "cell_type": "markdown",
      "metadata": {
        "id": "Svom57p5qUBF"
      },
      "source": [
        "### **Zahlenarten**"
      ]
    },
    {
      "cell_type": "markdown",
      "metadata": {
        "id": "5g878nE6q7lX"
      },
      "source": [
        "![ggg](https://raw.githubusercontent.com/deltorobarba/repo/master/number_001.jpg)"
      ]
    },
    {
      "cell_type": "markdown",
      "metadata": {
        "id": "RTNHMgPsrj4B"
      },
      "source": [
        "**Transcendental numbers:**\n",
        "\n",
        "* pie π or Euler number\n",
        "\n",
        "* Never end after comma: 3.14159265358979323846....\n",
        "\n",
        "* Cannot be displayed as fraction\n",
        "\n",
        "* [Transzedente Zahl](https://de.m.wikipedia.org/wiki/Transzendente_Zahl) heisst eine reelle Zahl (oder allgemeiner eine komplexe Zahl), wenn sie nicht Nullstelle eines (vom Nullpolynom verschiedenen) Polynoms mit ganzzahligen Koeffizienten ist. Andernfalls handelt es sich um eine algebraische Zahl. Jede reelle transzendente Zahl ist überdies irrational.\n",
        "\n",
        "* omnem rationem transcendunt, lat.: Sie sind jenseits aller Vernunft\n",
        "\n"
      ]
    },
    {
      "cell_type": "markdown",
      "metadata": {
        "id": "VmVu9D8nrvsY"
      },
      "source": [
        "**p-adic numbers**\n",
        "\n",
        "* infinite before comma: ....985356295141.3\n",
        "\n",
        "* [p-adische Zahl](https://de.m.wikipedia.org/wiki/P-adische_Zahl) ist eine Zahl, die sich in einer Potenzreihe zu einer Primzahl darstellen lässt\n",
        "\n",
        "* p-adic number systems emerge from modular arithmetic\n",
        "\n",
        "* https://www.quantamagazine.org/how-the-towering-p-adic-numbers-work-20201019/\n",
        "\n",
        "* https://www.quantamagazine.org/peter-scholze-and-the-future-of-arithmetic-geometry-20160628/\n",
        "\n",
        "* https://www.quantamagazine.org/with-a-new-shape-mathematicians-link-geometry-and-numbers-20210719/"
      ]
    },
    {
      "cell_type": "markdown",
      "metadata": {
        "id": "NCJeuj1NrREv"
      },
      "source": [
        "**Negative and imaginary numbers**\n",
        "\n",
        "* Video: imaginary numbers: https://youtu.be/sZrOxm5Gszk\n",
        "\n",
        "* Negative numbers good for alternating phenomana: keeping track of a sign of  alternating systems (like a light switch). Keep track of any systems that toggles.\n",
        "\n",
        "* Complex / imaginary numbers good for keeping track of systems that rotate (when we multiply numbers by the imaginary part i, the result rotates anti-clockwise)"
      ]
    },
    {
      "cell_type": "markdown",
      "metadata": {
        "id": "Q2-azta81gIJ"
      },
      "source": [
        "**Hyperkomplexe Zahlen**\n",
        "\n",
        "* [Hyperkomplexe Zahlen](https://de.m.wikipedia.org/wiki/Hyperkomplexe_Zahl) sind Verallgemeinerungen der komplexen Zahlen."
      ]
    },
    {
      "cell_type": "markdown",
      "metadata": {
        "id": "2jRlk3PitK_X"
      },
      "source": [
        "### **Infinity**"
      ]
    },
    {
      "cell_type": "markdown",
      "metadata": {
        "id": "SgApbaEMtNxQ"
      },
      "source": [
        "https://youtu.be/X56zst79Xjg"
      ]
    },
    {
      "cell_type": "markdown",
      "metadata": {
        "id": "la1Mt1SYtAGp"
      },
      "source": [
        "### **Primzahlen**"
      ]
    },
    {
      "cell_type": "markdown",
      "metadata": {
        "id": "IjhvdrtYYyho"
      },
      "source": [
        "https://de.m.wikipedia.org/wiki/Primzahl"
      ]
    },
    {
      "cell_type": "markdown",
      "metadata": {
        "id": "uhxLznQmu9RB"
      },
      "source": [
        "https://de.m.wikipedia.org/wiki/Primzahlsatz"
      ]
    },
    {
      "cell_type": "markdown",
      "metadata": {
        "id": "HzwenUT4kcTJ"
      },
      "source": [
        "**Riemannsche Vermutung (Primzahlverteilung & Zeta-Funktion)**"
      ]
    },
    {
      "cell_type": "markdown",
      "metadata": {
        "id": "0kFaA3R5k-Wi"
      },
      "source": [
        "* Die Verteilung der Primzahlen ist sehr merkwürdig und damit interessant. So zeigt die Verteilung von Primzahlen in (relativ) kurzen Intervallen eine gewisse „Zufälligkeit“, während andererseits beliebig lange Intervalle existieren, die keine Primzahl enthalten. \n",
        "\n",
        "* Bernhard Riemann setzte sich in seiner Arbeit „Ueber die Anzahl der Primzahlen unter einer gegebenen Grösse“ (1859) zum Ziel, die Verteilung der Primzahlen mit analytischen Methoden zu bestimmen, stieß dabei auf Riemannsche ζ-Funktion und formulierte die Riemannsche Vermutung. Basierend auf den Riemannschen Ideen gelang 1896 der Beweis des Primzahlsatzes, mit dem man für große Zahlen x mit immer größerer relativer Genauigkeit sagen kann, wieviele Primzahlen ≤ x es gibt. \n",
        "\n",
        "* Will man diese Anzahlen noch genauer wissen, so kommt man schnell in einen Bereich mathematischer Fragestellungen mit zahlreichen offenen Problemen, z. B. den Goldbach-Problemen oder Fragen über Primzahlzwillinge."
      ]
    },
    {
      "cell_type": "markdown",
      "metadata": {
        "id": "-pyEckWrkDod"
      },
      "source": [
        "https://www.spektrum.de/lexikon/mathematik/primzahlverteilung/8085"
      ]
    },
    {
      "cell_type": "markdown",
      "metadata": {
        "id": "JWKswGfnYvk6"
      },
      "source": [
        "https://de.m.wikipedia.org/wiki/Riemannsche_Vermutung"
      ]
    },
    {
      "cell_type": "markdown",
      "metadata": {
        "id": "ZGwbuKVvkiW4"
      },
      "source": [
        "https://de.m.wikipedia.org/wiki/Riemannsche_Zetafunktion"
      ]
    },
    {
      "cell_type": "markdown",
      "metadata": {
        "id": "etVUIYaMkFtb"
      },
      "source": [
        "**Primfaktorzerlegung (Faktorisierungsverfahren)**"
      ]
    },
    {
      "cell_type": "markdown",
      "metadata": {
        "id": "Ro5ykeSb8JbL"
      },
      "source": [
        "https://de.m.wikipedia.org/wiki/Primfaktorzerlegung"
      ]
    },
    {
      "cell_type": "markdown",
      "metadata": {
        "id": "4UX2Agd8tKd1"
      },
      "source": [
        "https://de.m.wikipedia.org/wiki/Faktorisierungsverfahren"
      ]
    },
    {
      "cell_type": "markdown",
      "metadata": {
        "id": "kxAquBRy76Wn"
      },
      "source": [
        "https://de.m.wikipedia.org/wiki/Zusammengesetzte_Zahl"
      ]
    },
    {
      "cell_type": "markdown",
      "metadata": {
        "id": "-vs8FcHV780x"
      },
      "source": [
        "https://de.m.wikipedia.org/wiki/Teilbarkeit"
      ]
    },
    {
      "cell_type": "markdown",
      "metadata": {
        "id": "5lHaIHec7mni"
      },
      "source": [
        "https://de.m.wikipedia.org/wiki/Fermat-Zahl"
      ]
    },
    {
      "cell_type": "markdown",
      "metadata": {
        "id": "QVK8COQdsXi0"
      },
      "source": [
        "https://de.m.wikipedia.org/wiki/Mersenne-Zahl"
      ]
    },
    {
      "cell_type": "markdown",
      "metadata": {
        "id": "5voGOgLUs_EC"
      },
      "source": [
        "https://de.m.wikipedia.org/wiki/Lucas-Lehmer-Test"
      ]
    },
    {
      "cell_type": "markdown",
      "metadata": {
        "id": "mu7aelGOta3K"
      },
      "source": [
        "Teste mit 11213:"
      ]
    },
    {
      "cell_type": "code",
      "metadata": {
        "id": "IjDUJkVKsyVg"
      },
      "source": [
        "#Lucas-Lehmer-Test fuer Python 3\n",
        "print('Lucas-Lehmer-Test (Mersenne-Zahlen)')\n",
        "p = int(input('Exponent p von 2^p-1 '))\n",
        "m = 2 ** p-1\n",
        "print('m = 2 ^', p, '- 1 =', m)\n",
        "s = 4\n",
        "for i in range (2, p):\n",
        "    s = (s * s - 2) % m\n",
        "print('ist {}eine Mersenne-Primzahl'.format('' if s == 0 else 'k'))"
      ],
      "execution_count": null,
      "outputs": []
    },
    {
      "cell_type": "markdown",
      "metadata": {
        "id": "Z8dIVLbBT2pF"
      },
      "source": [
        "### **Elliptic Curves**"
      ]
    },
    {
      "cell_type": "markdown",
      "metadata": {
        "id": "8aMAo18a7XaV"
      },
      "source": [
        "##### **Diskreter Logarithmus & Elliptic Curve Cryptography**"
      ]
    },
    {
      "cell_type": "markdown",
      "metadata": {
        "id": "P5nIctyP7af8"
      },
      "source": [
        "https://de.m.wikipedia.org/wiki/Diskreter_Logarithmus"
      ]
    },
    {
      "cell_type": "markdown",
      "metadata": {
        "id": "QAleyxFD-BAA"
      },
      "source": [
        "Man benutzt RSA algorithmus heute nicht mehr (obwohl sehr anschaulich), sondern nutzt asymmetrische kryptographie auf der basis von ellyptischen kurven (ecc).\n",
        "\n",
        "Elliptische Kurven sind mathematische Funktionen, welche die Funktionsgleichung $y^{\\wedge} 2=x^{\\wedge} 3+a x+b$ erfullen. Sle werden unter anderem in der modernen Kryptografie verwendet, insbesondere im Zusammenhang mit der asymmotrischen Verschlusselung, wo sle die Nachfolge von RSA angetreten haben. Was sind elliptische Kurven und wie funktionleren sie?"
      ]
    },
    {
      "cell_type": "markdown",
      "metadata": {
        "id": "l9hJC_uo-kxq"
      },
      "source": [
        "https://youtu.be/R8Zl9fIEdl4"
      ]
    },
    {
      "cell_type": "markdown",
      "metadata": {
        "id": "RUhGm6bKFRV2"
      },
      "source": [
        "https://youtu.be/OEltqmZAti8"
      ]
    },
    {
      "cell_type": "markdown",
      "metadata": {
        "id": "II54dBpT7csf"
      },
      "source": [
        "https://de.m.wikipedia.org/wiki/Elliptic_Curve_Cryptography"
      ]
    },
    {
      "cell_type": "markdown",
      "metadata": {
        "id": "7DuH1DyI80yw"
      },
      "source": [
        "https://de.m.wikipedia.org/wiki/Elliptische_Kurve"
      ]
    },
    {
      "cell_type": "markdown",
      "metadata": {
        "id": "dPQ32QlkY-5A"
      },
      "source": [
        "##### **elliptic curves**"
      ]
    },
    {
      "cell_type": "markdown",
      "metadata": {
        "id": "9g4hhCD7ZDVP"
      },
      "source": [
        "https://en.m.wikipedia.org/wiki/Elliptic_curve"
      ]
    },
    {
      "cell_type": "markdown",
      "metadata": {
        "id": "jn36bHnkZGj2"
      },
      "source": [
        "https://www.quantamagazine.org/mathematicians-set-numbers-in-motion-to-unlock-their-secrets-20210222/"
      ]
    },
    {
      "cell_type": "markdown",
      "metadata": {
        "id": "f-Me7uqcZVn_"
      },
      "source": [
        "### **Modulform**"
      ]
    },
    {
      "cell_type": "markdown",
      "metadata": {
        "id": "rz0sqMmyZawo"
      },
      "source": [
        "https://de.m.wikipedia.org/wiki/Modulform"
      ]
    },
    {
      "cell_type": "markdown",
      "metadata": {
        "id": "Tth-FwmWZwxa"
      },
      "source": [
        "https://www.quantamagazine.org/moonshine-link-discovered-for-pariah-symmetries-20170922/"
      ]
    },
    {
      "cell_type": "markdown",
      "metadata": {
        "id": "ftGksyd3ZhYe"
      },
      "source": [
        "https://www.quantamagazine.org/universal-math-solutions-in-dimensions-8-and-24-20190513/"
      ]
    }
  ]
}