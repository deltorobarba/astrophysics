{
  "nbformat": 4,
  "nbformat_minor": 0,
  "metadata": {
    "colab": {
      "name": "variation.ipynb",
      "provenance": [],
      "collapsed_sections": [
        "JwFVzOmeQTa8",
        "VwBNw0I30_GX",
        "9AR9PIXysIa4",
        "pd2IsJ_CSCS6",
        "bcxaUB6UFfh8",
        "KYzlWwuA8hXl",
        "ttEWWgIVr9Sl"
      ],
      "include_colab_link": true
    },
    "kernelspec": {
      "name": "python3",
      "display_name": "Python 3"
    }
  },
  "cells": [
    {
      "cell_type": "markdown",
      "metadata": {
        "id": "view-in-github",
        "colab_type": "text"
      },
      "source": [
        "<a href=\"https://colab.research.google.com/github/deltorobarba/machinelearning/blob/master/variation.ipynb\" target=\"_parent\"><img src=\"https://colab.research.google.com/assets/colab-badge.svg\" alt=\"Open In Colab\"/></a>"
      ]
    },
    {
      "cell_type": "markdown",
      "metadata": {
        "id": "Gdr6F1zuU4MG"
      },
      "source": [
        "# **Variationsrechnung**"
      ]
    },
    {
      "cell_type": "code",
      "metadata": {
        "id": "RYViK39mt7Nj",
        "colab": {
          "base_uri": "https://localhost:8080/",
          "height": 35
        },
        "outputId": "0168c965-db78-461b-ba19-50df85a9e604"
      },
      "source": [
        "import numpy as np\n",
        "import pandas as pd\n",
        "import seaborn as sns\n",
        "import matplotlib.pyplot as plt"
      ],
      "execution_count": null,
      "outputs": [
        {
          "output_type": "stream",
          "text": [
            "2.2.0\n"
          ],
          "name": "stdout"
        }
      ]
    },
    {
      "cell_type": "markdown",
      "metadata": {
        "id": "OgLz8uc1s9dv"
      },
      "source": [
        "![geometry](https://raw.githubusercontent.com/deltorobarba/repo/master/geometry_header.png)"
      ]
    },
    {
      "cell_type": "markdown",
      "metadata": {
        "id": "JDN-b9pzHAJa"
      },
      "source": [
        "Why Lagrangian Mechanics is BETTER than Newtonian Mechanics F=ma | Euler-Lagrange Equation | Parth G: https://youtu.be/KpLno70oYHE"
      ]
    },
    {
      "cell_type": "markdown",
      "metadata": {
        "id": "R4_aBJXTw_C3"
      },
      "source": [
        "Lagrangian mechanics & principle of least action by up and atom (jade): https://www.youtube.com/watch?v=dPxhTiiq-1A"
      ]
    },
    {
      "cell_type": "markdown",
      "metadata": {
        "id": "v2JDEFznHDO0"
      },
      "source": [
        "Introduction to Variational Calculus - Deriving the Euler-Lagrange Equation: https://youtu.be/VCHFCXgYdvY"
      ]
    },
    {
      "cell_type": "markdown",
      "metadata": {
        "id": "JwFVzOmeQTa8"
      },
      "source": [
        "#### **Operators in Classical Mechanics**"
      ]
    },
    {
      "cell_type": "markdown",
      "metadata": {
        "id": "P_W1NwiyQqUp"
      },
      "source": [
        "In classical mechanics, the movement of a particle (or system of particles) is completely determined by the **Lagrangian** $L(q, \\dot{q}, t)$ or equivalently the **Hamiltonian** $H(q, p, t)$, a function of the generalized coordinates $q$, generalized velocities $\\dot{q}=\\mathrm{d} q / \\mathrm{d} t$ and its conjugate momenta:\n",
        "\n",
        ">$\n",
        "p=\\frac{\\partial L}{\\partial \\dot{q}}\n",
        "$"
      ]
    },
    {
      "cell_type": "markdown",
      "metadata": {
        "id": "A-uwpuaNQ9di"
      },
      "source": [
        "If either $L$ or $H$ is independent of a generalized coordinate $q$, meaning the $L$ and $H$ do not change when $q$ is changed, which in turn means the dynamics of the particle are still the same even when q changes, the corresponding momenta conjugate to those coordinates will be conserved (this is part of Noether's theorem, and the invariance of motion with respect to the coordinate $q$ is a symmetry). **Operators in classical mechanics are related to these symmetries.**\n",
        "\n",
        "More technically, when $H$ is invariant under the action of a certain group of transformations $G$ :\n",
        "\n",
        ">$\n",
        "S \\in G, H(S(q, p))=H(q, p)\n",
        "$\n",
        "\n",
        "the elements of $G$ are physical operators, which map physical states among themselves."
      ]
    },
    {
      "cell_type": "markdown",
      "metadata": {
        "id": "XjfJR767RL7z"
      },
      "source": [
        "*Table of classical mechanics operators*"
      ]
    },
    {
      "cell_type": "markdown",
      "metadata": {
        "id": "MJtXk_ZnSWqY"
      },
      "source": [
        "$$\n",
        "\\begin{array}{|l|l|l|l|}\n",
        "\\hline  {\\text { Transformation }} & \\text { Operator } & {\\text { Position }} &{\\text { Momentum }} \\\\\n",
        "\\hline \\text { Translational symmetry } & X(\\mathbf{a}) & \\mathbf{r} \\rightarrow \\mathbf{r}+\\mathbf{a} & \\mathbf{p} \\rightarrow \\mathbf{p} \\\\\n",
        "\\hline \\text { Time translation symmetry } & U\\left(t_{0}\\right) & \\mathbf{r}(t) \\rightarrow \\mathbf{r}\\left(t+t_{0}\\right) & \\mathbf{p}(t) \\rightarrow \\mathbf{p}\\left(t+t_{0}\\right) \\\\\n",
        "\\hline \\text { Rotational invariance } & R(\\hat{\\mathbf{n}}, \\theta) & \\mathbf{r} \\rightarrow R(\\hat{\\mathbf{n}}, \\theta) \\mathbf{r} & \\mathbf{p} \\rightarrow R(\\hat{\\mathbf{n}}, \\theta) \\mathbf{p} \\\\\n",
        "\\hline \\text { Galilean transformations } & G(\\mathbf{v}) & \\mathbf{r} \\rightarrow \\mathbf{r}+\\mathbf{v} t & \\mathbf{p} \\rightarrow \\mathbf{p}+m \\mathbf{v} \\\\\n",
        "\\hline \\text { Parity } & P & \\mathbf{r} \\rightarrow-\\mathbf{r} & \\mathbf{p} \\rightarrow-\\mathbf{p} \\\\\n",
        "\\hline \\text { T-symmetry } & T & \\mathbf{r} \\rightarrow \\mathbf{r}(-t) & \\mathbf{p} \\rightarrow-\\mathbf{p}(-t) \\\\\n",
        "\\hline\n",
        "\\end{array}\n",
        "$$"
      ]
    },
    {
      "cell_type": "markdown",
      "metadata": {
        "id": "8EY7BtbbRVdP"
      },
      "source": [
        "where $R(\\hat{\\boldsymbol{n}}, \\theta)$ is the rotation matrix about an axis defined by the unit vector $\\hat{\\boldsymbol{n}}$ and angle $\\theta$."
      ]
    },
    {
      "cell_type": "markdown",
      "metadata": {
        "id": "PbBg1DaJQHll"
      },
      "source": [
        "[Operators in classical mechanics](https://en.m.wikipedia.org/wiki/Operator_(physics)#Operators_in_quantum_mechanics)"
      ]
    },
    {
      "cell_type": "markdown",
      "metadata": {
        "id": "VwBNw0I30_GX"
      },
      "source": [
        "#### **Geometrie**"
      ]
    },
    {
      "cell_type": "markdown",
      "metadata": {
        "id": "5BanCpbeJFnk"
      },
      "source": [
        "http://www.joergresag.privat.t-online.de/mybk2htm/chap514.htm"
      ]
    },
    {
      "cell_type": "markdown",
      "metadata": {
        "id": "McmF7fYT2r0T"
      },
      "source": [
        "In jeder Geometrie interessiert man sich für diejenigen **Transformationen, die bestimmte Eigenschaften nicht zerstören** (also ihre **Automorphismen**): Zum Beispiel ändern weder eine Parallelverschiebung noch eine Drehung oder Spiegelung in einer zweidimensionalen euklidischen Geometrie die Abstände von Punkten. Umgekehrt ist jede Transformation, die die Abstände von Punkten nicht ändert, eine Zusammensetzung von Parallelverschiebungen, Drehungen und Spiegelungen. Man sagt, dass diese Abbildungen die **Transformationsgruppe** bilden, die zu einer ebenen euklidischen Geometrie gehört, und dass der Abstand zweier Punkte eine euklidische **Invariante** darstellt."
      ]
    },
    {
      "cell_type": "markdown",
      "metadata": {
        "id": "cPQWDbEsAWLu"
      },
      "source": [
        "**Typen an Geometrien**"
      ]
    },
    {
      "cell_type": "markdown",
      "metadata": {
        "id": "tyjRNIMUEkBd"
      },
      "source": [
        "https://de.m.wikipedia.org/wiki/Analytische_Geometrie"
      ]
    },
    {
      "cell_type": "markdown",
      "metadata": {
        "id": "1THvVVC01Mll"
      },
      "source": [
        "* [Projektive Geometrie](https://de.wikipedia.org/wiki/Projektive_Geometrie) und [Affine Geometrie](https://de.wikipedia.org/wiki/Affine_Geometrie): Solche Geometrien bestehen meist aus Punkten und Geraden, und die Axiome betreffen Verbindungsgeraden von Punkten und die Schnittpunkte von Geraden. Affine und projektive Geometrien kommen meist in Paaren: Das Hinzufügen von Fernelementen macht eine affine Geometrie zu einer projektiven, und das Entfernen einer Geraden bzw. einer Ebene mit ihren Punkten macht aus einer zwei- bzw. dreidimensionalen projektiven Geometrie eine affine. In wichtigen Fällen können die Punkte auf einer Geraden in der affinen Geometrie so angeordnet werden, dass sich Halbgeraden und Strecken definieren lassen. In diesen Fällen nennt man die affine Geometrie und ihren projektiven Abschluss 'angeordnet'.\n",
        "\n",
        "  * [Projektiver_Raum](https://de.wikipedia.org/wiki/Projektiver_Raum)\n",
        "\n",
        "  * [Affiner_Raum](https://de.wikipedia.org/wiki/Affiner_Raum)\n",
        "\n",
        "* [Euklidische Geometrie](https://de.wikipedia.org/wiki/Euklidische_Geometrie): Darunter versteht man üblicherweise die aus den Axiomen und Postulaten Euklids abgeleitete Geometrie. Weil der seit Euklid überlieferte Aufbau der Theorie noch Lücken enthielt, hat David Hilbert in seinen Grundlagen der Geometrie (1899 und viele weitere Auflagen) ein Axiomensystem aufgestellt, aus dem er die euklidische Geometrie bis auf Isomorphie eindeutig aufbauen konnte. Danach kann diese eindeutig beschrieben werden als der dreidimensionale reelle Vektorraum, in dem die Punkte durch die Vektoren dargestellt werden und die Geraden durch die Nebenklassen der eindimensionalen Unterräume. Strecken, Senkrechtstehen, Winkel usw. werden wie in der seit Descartes üblichen analytischen Geometrie erklärt.\n",
        "\n",
        "  * [Euklidischer_Raum](https://de.wikipedia.org/wiki/Euklidischer_Raum)\n",
        "\n",
        "* [Nichteuklidische Geometrie](https://de.wikipedia.org/wiki/Nichteuklidische_Geometrie): Geometrien, deren Eigenschaften in vielem analog zur euklidischen Geometrie sind, in denen jedoch das Parallelenpostulat (auch Parallelenaxiom genannt) nicht gilt. Man unterscheidet elliptische und hyperbolische Geometrien.\n",
        "\n",
        "* [Absolute Geometrie](https://de.wikipedia.org/wiki/Absolute_Geometrie): ist der gemeinsame Unterbau der euklidischen und der nichteuklidischen Geometrien, d. h. die Menge aller Sätze, die ohne das Parallelenpostulat bewiesen werden.\n",
        "\n",
        "* [Synthetische Geometrie](https://de.wikipedia.org/wiki/Synthetische_Geometrie) führt den klassischen Ansatz der „reinen“ Geometrie fort, indem anstelle algebraischer Objekte (Koordinaten, Morphismen …) abstrakte geometrische Objekte (Punkte, Geraden) und deren Beziehungen (Schnitt, Parallelität, Orthogonalität …) zugrunde gelegt werden. Die Inzidenzstruktur gehört hier heute zu den allgemeinsten Ansätzen. Beispiele von nicht linearen Inzidenzstrukturen sind die Benz-Ebenen.\n"
      ]
    },
    {
      "cell_type": "markdown",
      "metadata": {
        "id": "sZRNJ0B33HV8"
      },
      "source": [
        "**Grundlegende Sätze**"
      ]
    },
    {
      "cell_type": "markdown",
      "metadata": {
        "id": "cqXe2grs3Kdu"
      },
      "source": [
        "https://de.wikipedia.org/wiki/Satz_des_Pythagoras"
      ]
    },
    {
      "cell_type": "markdown",
      "metadata": {
        "id": "rvqZh0FU3Mm6"
      },
      "source": [
        "https://de.wikipedia.org/wiki/Kosinussatz"
      ]
    },
    {
      "cell_type": "markdown",
      "metadata": {
        "id": "HfcGUBLe3OvI"
      },
      "source": [
        "https://de.wikipedia.org/wiki/Trigonometrischer_Pythagoras"
      ]
    },
    {
      "cell_type": "markdown",
      "metadata": {
        "id": "B_bf6Uds3b8S"
      },
      "source": [
        "Zusatzlich siehe auch [Zentralprojektion](https://de.wikipedia.org/wiki/Zentralprojektion) und [Zykloide](https://de.wikipedia.org/wiki/Zykloide)"
      ]
    },
    {
      "cell_type": "markdown",
      "metadata": {
        "id": "JDJq4saXMmeT"
      },
      "source": [
        "**Differentialgeometrie**"
      ]
    },
    {
      "cell_type": "markdown",
      "metadata": {
        "id": "czHKt9s9Mlc0"
      },
      "source": [
        "Die [Differentialgeometrie](https://de.wikipedia.org/wiki/Differentialgeometrie) stellt die Synthese von Analysis und Geometrie dar."
      ]
    },
    {
      "cell_type": "markdown",
      "metadata": {
        "id": "9AR9PIXysIa4"
      },
      "source": [
        "#### **Gegenstand der Variationsrechnung**"
      ]
    },
    {
      "cell_type": "markdown",
      "metadata": {
        "id": "4_on0MZCUMWI"
      },
      "source": [
        "**Variation**"
      ]
    },
    {
      "cell_type": "markdown",
      "metadata": {
        "id": "w9ULU9gH-F0N"
      },
      "source": [
        "![cc](https://upload.wikimedia.org/wikipedia/commons/1/10/Total_variation.gif)\n",
        "\n",
        "*As the green ball travels on the graph of the given function, the length of the path travelled by that ball's projection on the y-axis, shown as a red ball, is the total variation of the function.*"
      ]
    },
    {
      "cell_type": "markdown",
      "metadata": {
        "id": "EkItUc9NUPLf"
      },
      "source": [
        "* the [total variation](https://en.wikipedia.org/wiki/Total_variation) identifies several slightly different concepts, related to the (local or global) structure of the codomain of a function or a measure. For a real-valued continuous function f, defined on an interval [a, b] ⊂ ℝ, its total variation on the interval of definition is a measure of the one-dimensional [arclength](https://en.wikipedia.org/wiki/Arc_length) of the curve with parametric equation x ↦ f(x), for x ∈ [a, b].\n",
        "\n",
        "* In der Variationsrechnung und der Theorie der stochastischen Prozesse ist die [Variation](https://de.wikipedia.org/wiki/Variation_(Mathematik)) (auch totale Variation genannt) einer Funktion **ein Maß für das lokale Schwingungsverhalten der Funktion**. \n",
        "\n",
        "* Bei den stochastischen Prozessen ist die Variation von besonderer Bedeutung, da sie die Klasse der zeitstetigen Prozesse in zwei fundamental verschiedene Unterklassen unterteilt: jene mit endlicher und solche mit unendlicher Variation."
      ]
    },
    {
      "cell_type": "markdown",
      "metadata": {
        "id": "o_X2Fv7rUuny"
      },
      "source": [
        "Die [erste Variation](https://de.wikipedia.org/wiki/Erste_Variation) ist eine verallgemeinerte Richtungsableitung eines Funktionals. Ihre Eigenschaften sind in der angewandten Mathematik und der theoretischen Physik relevant. Die erste Variation spielt eine zentrale Rolle in der Variationsrechnung und wird in der analytischen Mechanik genutzt. Ein verwandtes Konzept ist die Funktionalableitung."
      ]
    },
    {
      "cell_type": "markdown",
      "metadata": {
        "id": "xRSLhtGHUz6-"
      },
      "source": [
        "In der Analysis ist eine Funktion von [beschränkter Variation](https://de.wikipedia.org/wiki/Beschränkte_Variation) (beschränkter Schwankung), wenn ihre totale Variation (totale Schwankung) endlich ist, sie also in gewisser Weise nicht beliebig stark oszilliert. Diese Begriffe hängen eng mit der Stetigkeit und der Integrierbarkeit von Funktionen zusammen."
      ]
    },
    {
      "cell_type": "markdown",
      "metadata": {
        "id": "LTt3OLla2IRt"
      },
      "source": [
        "**Variational Principle**"
      ]
    },
    {
      "cell_type": "markdown",
      "metadata": {
        "id": "yjqXlKua2Mj8"
      },
      "source": [
        "* a [variational principle](https://en.wikipedia.org/wiki/Variational_principle) is one that enables a problem to be solved using calculus of variations, which concerns finding such functions which optimize the values of quantities that depend upon those functions. \n",
        "\n",
        "* For example, the problem of determining the shape of a hanging chain suspended at both ends—a catenary—can be solved using variational calculus, and in this case, the variational principle is the following: The solution is a function that minimizes the gravitational potential energy of the chain.\n",
        "\n",
        "* Any physical law which can be expressed as a variational principle describes a **self-adjoint operator.** These expressions are also called Hermitian. Such an expression describes an invariant under a Hermitian transformation."
      ]
    },
    {
      "cell_type": "markdown",
      "metadata": {
        "id": "jBVibsq7UgT9"
      },
      "source": [
        "**Variationsrechnung**"
      ]
    },
    {
      "cell_type": "markdown",
      "metadata": {
        "id": "UXIblPI6_-oP"
      },
      "source": [
        "\n",
        "\n",
        "* **Find [stationary points](https://internal.ncl.ac.uk/ask/numeracy-maths-statistics/core-mathematics/calculus/stationary-points.html) (=derivative is zero, local minima or maxima) of a functional, like an integral I[f] (=here for example the path lenghts, or time spent travelling) is minimal between two points a and b.**\n",
        "\n",
        "  * A stationary point of a function $f(x)$ is a point where the derivative of $f(x)$ is equal to 0 . \n",
        "  * These points are called \"stationary\" because at these points the function is neither increasing nor decreasing. \n",
        "  * Graphically, this corresponds to points on the graph of $f(x)$ where the tangent to the curve is a horizontal line.\n",
        " * The stationary points of a function $y=f(x)$ are the solutions to $\n",
        "\\frac{d y}{d x}=0 $. This repeats in mathematical notation the definition given above: \"points where the gradient of the function is zero\".\n",
        "\n",
        "* **The integral is a functional (=function of functions), its stationary point is a fix point / minima of a functional (not function). Solve (usually differential) equations for stationary function f(x) (via calculus of variations)**\n",
        "\n",
        "* from regular calculus to calculus of variations: find stationary functions, not only stationary points, a function becomes a functional.\n",
        "\n",
        "* **Typical problem in variational calculus: find minimal path between points A and B, not necessarily a linear one (in physics for examples check Brachistochrone !)**. \n",
        "\n",
        "* Also consider that velocity depending on position changes the minimum paths or time to travel (later in vector analysis relevant for Kurvenintegral)\n",
        "\n",
        "In general, Calculus of variations seeks to find y = f(x) such that this integral:\n",
        "\n",
        "> $I[f]=\\int_{x_{1}}^{x_{2}} F\\left(x, y, \\frac{d y}{d x}\\right) d x$\n",
        "\n",
        "is stationary (ps: $\\frac{d y}{d x}$ = $y'$)"
      ]
    },
    {
      "cell_type": "markdown",
      "metadata": {
        "id": "uWS6r7zeXBiF"
      },
      "source": [
        "https://www.youtube.com/watch?v=6HeQc7CSkZs&list=PLdgVBOaXkb9CD8igcUr9Fmn5WXLpE8ZE_"
      ]
    },
    {
      "cell_type": "markdown",
      "metadata": {
        "id": "gtfLe2I18pBF"
      },
      "source": [
        "https://www.youtube.com/playlist?list=PLdgVBOaXkb9CD8igcUr9Fmn5WXLpE8ZE_"
      ]
    },
    {
      "cell_type": "markdown",
      "metadata": {
        "id": "d-YucyzLNVXX"
      },
      "source": [
        "1. Die [Variationsrechnung](https://de.wikipedia.org/wiki/Variationsrechnung) ist eine **Erweiterung der Funktionalanalysis und beschaeftigt sich mit <u>nichtlinearen Funktionalen</u>** (in der Funktionalanalysis sind es linear Funktionale)\n",
        "\n",
        "2. The [calculus of variations](https://en.m.wikipedia.org/wiki/Calculus_of_variations) is a field that **uses variations, which are small changes in functions and functionals, to find maxima and minima of functionals**: mappings from a set of functions to the real numbers. Functionals are often expressed as definite integrals involving functions and their derivatives. <u>**Functions that maximize or minimize functionals may be found using the Euler–Lagrange equation of the calculus of variations.**</u>\n",
        "\n",
        "* In calculus of variations we are **NOT concerned with finding fix points of functions (like local maxima in a function), but rather fix points of functionals.**\n",
        "\n",
        "\n",
        "* dann führt eine Variation der Wirkung: https://de.m.wikipedia.org/wiki/Feldtheorie_(Physik)#Formalismus\n",
        "\n",
        "* Beispiel: https://de.wikipedia.org/wiki/Fluiddynamik\n",
        "\n",
        "* Martin: formulier problem in variationelle formulierung (dann bist du in sobolove räume), und dann Eigenschaften von Testfunktionen ausnutzen"
      ]
    },
    {
      "cell_type": "markdown",
      "metadata": {
        "id": "3sKOpLJ5il05"
      },
      "source": [
        "**Variation der Elemente**"
      ]
    },
    {
      "cell_type": "markdown",
      "metadata": {
        "id": "qWojWs7Px8DZ"
      },
      "source": [
        "* die [Variation der Elemente](https://de.wikipedia.org/wiki/Variation_der_Elemente) ist eine im 19. Jahrhundert entwickelte Methode zur genauen Bahnbestimmung von Himmelskörpern. Sie dient bis heute zur Modellierung von [Bahnstörungen](https://de.wikipedia.org/wiki/Bahnstörung)."
      ]
    },
    {
      "cell_type": "markdown",
      "metadata": {
        "id": "eloiR80j3LKg"
      },
      "source": [
        "**Brachistochrone & Tautochronie**"
      ]
    },
    {
      "cell_type": "markdown",
      "metadata": {
        "id": "Caqyohtk9JPX"
      },
      "source": [
        "https://www.youtube.com/watch?v=zYOAUG8PxyM"
      ]
    },
    {
      "cell_type": "markdown",
      "metadata": {
        "id": "VpbYH6ya6lV_"
      },
      "source": [
        "* Brachistochrone: Path between 2 points $A$ and $B$ which minimizes the time taken by a particle falling from $A$ to $B$ under the influence of gravity.\n",
        "\n",
        "* Time = distance / speed. Goal: Mix of minimize distance and maximize speed\n",
        "\n",
        "* Johann I Bernoulli hat sich mit dem **Problem des schnellsten Falles** beschäftigt. Im Jahre 1696 fand er schließlich die Lösung in der **Brachistochrone**. Heute sieht man dies oft als die **Geburtsstunde der Variationsrechnung**."
      ]
    },
    {
      "cell_type": "markdown",
      "metadata": {
        "id": "NWNCf_416SQR"
      },
      "source": [
        "[**Brachistochrone Curve**](https://en.wikipedia.org/wiki/Brachistochrone_curve) (in rot): Der Körper gleitet auf einer solchen Bahn schneller zum Ziel als auf jeder anderen Bahn, beispielsweise auf einer geradlinigen, obwohl diese kürzer ist.\n",
        "\n",
        "\n",
        "![vv](https://upload.wikimedia.org/wikipedia/commons/6/63/Brachistochrone.gif)"
      ]
    },
    {
      "cell_type": "markdown",
      "metadata": {
        "id": "YMvO3MMS6JFg"
      },
      "source": [
        "**Tautochronie** der Brachistochrone – von jedem Startpunkt auf der Kurve erreichen die Kugeln das „Ziel“ gleichzeitig.\n",
        "\n",
        "![ff](https://upload.wikimedia.org/wikipedia/commons/b/bd/Tautochrone_curve.gif)"
      ]
    },
    {
      "cell_type": "markdown",
      "metadata": {
        "id": "TnIIOyg7sUWT"
      },
      "source": [
        "**Gâteaux-Differential**"
      ]
    },
    {
      "cell_type": "markdown",
      "metadata": {
        "id": "ZO6d-DQEsTA4"
      },
      "source": [
        "* [Gâteaux-Differential](https://de.wikipedia.org/wiki/Gâteaux-Differential) ist eine **Verallgemeinerung des gewöhnlichen Differentiationsbegriffes** dar, indem es die Richtungsableitung auch in unendlichdimensionalen Räumen definiert."
      ]
    },
    {
      "cell_type": "markdown",
      "metadata": {
        "id": "pd2IsJ_CSCS6"
      },
      "source": [
        "#### **Principle of Stationary Action & Hamilton'sches Prinzip**"
      ]
    },
    {
      "cell_type": "markdown",
      "metadata": {
        "id": "U1_LTPqfTDH4"
      },
      "source": [
        "![ff](https://raw.githubusercontent.com/deltorobarba/repo/master/lagrange_01.png)"
      ]
    },
    {
      "cell_type": "markdown",
      "metadata": {
        "id": "L5BT3mKBTKRs"
      },
      "source": [
        "![ff](https://raw.githubusercontent.com/deltorobarba/repo/master/lagrange_02.png)"
      ]
    },
    {
      "cell_type": "markdown",
      "metadata": {
        "id": "_RWhECg9U_Oh"
      },
      "source": [
        "* Total energy = kinetic energy - potential energy.\n",
        "\n",
        "* Kinetic - potential energy = Lagrangian $L$\n",
        "\n",
        "* Kinetic energy depends on velocity of a particle (detonated with a dot over x,y,z), potential energy depends on position of a particle x,y,z. Hence the Lagrangian of a particle depends on all of the positions and all of their time derivatives. \n",
        "\n",
        "* **Use and solve the three Lagrangian equations in order to determine the equation of motion of a particle (and Lagrange equations are equivalent to Newton's second law)**\n",
        "\n",
        "* And they can easily applied to other coordinate systems than cartesian (i.e cylindric, or spherical)\n",
        "\n",
        "* Also: **Lagrange equations are very similar to Euler-Lagrange Equations!**\n",
        "\n",
        "* Because the three Lagrange equations very strongly resemble the Euler-Lagrange-equation, there must be some functional that's being made stationary by Lagrange equations\n",
        "\n",
        "* **$S$ is the action integral (= a functional!)**\n",
        "\n"
      ]
    },
    {
      "cell_type": "markdown",
      "metadata": {
        "id": "o-nJvdQFOk7w"
      },
      "source": [
        "[The Principle of Stationary Action](https://www.youtube.com/watch?v=M05ixbSOY80): If a particle/system $P$ travels from one point to another in the time interval $\\left[t_{1}, t_{2}\\right]$, the path the particle traverses is such that this function:\n",
        "\n",
        "> $\n",
        "S=\\int_{t_{1}}^{t_{2}} \\mathcal{L} \\text { dt}$\n",
        "\n",
        "is stationary. "
      ]
    },
    {
      "cell_type": "markdown",
      "metadata": {
        "id": "W-B68-upYzGV"
      },
      "source": [
        "$L$ is the Lagrangian of the particle: $L=E_{u}-U$. \n",
        "\n",
        "Need to solve Lagrange equations to make $S$ stationary:\n",
        "\n",
        "$\\frac{\\partial L}{\\partial q_{1}}=\\frac{d}{d t}\\left(\\frac{\\partial L}{\\partial \\dot{q}_{1}}\\right), \\frac{\\partial L}{\\partial q_{2}}=\\frac{d}{d t}\\left(\\frac{\\partial L}{\\partial \\dot{q}_{2}}\\right), \\frac{\\partial L}{\\partial q_{3}}=\\frac{d}{d t}\\left(\\frac{\\partial L}{\\partial \\dot{q}_{3}}\\right) \\quad \\begin{array}{c}\\\\ \\end{array}$\n",
        "\n",
        "We can use a general coordinate system:\n",
        "$\\\\ {\\left[q_{1}(t), q_{2}(t), q_{3}(t)\\right]}$"
      ]
    },
    {
      "cell_type": "markdown",
      "metadata": {
        "id": "AUccaxMqCONs"
      },
      "source": [
        "**Hamilton'sches Prinzip (Wirkungsfunktional)**"
      ]
    },
    {
      "cell_type": "markdown",
      "metadata": {
        "id": "0YUSTnxUCj_B"
      },
      "source": [
        "> Das [Hamilton'sche Prinzip](https://de.wikipedia.org/wiki/Hamiltonsches_Prinzip) zeichnet tatsachlich durchlaufene Bahnen dadurch aus, **dass bei ihnen die Wirkung (=Funktional) S[q] (verglichen mit anderen Bahnen) ein Minimum annimmt (minimal variation ??)**.\n",
        "\n",
        "* Das Hamiltonsche Prinzip der Theoretischen Mechanik ist ein **Extremalprinzip**. Physikalische Felder und Teilchen nehmen danach für eine bestimmte Größe einen extremalen (d. h. größten oder kleinsten) Wert an. Diese Bewertung nennt man Wirkung, mathematisch ist die Wirkung ein Funktional, daher auch die Bezeichnung **Wirkungsfunktional**.\n",
        "\n",
        "* Die Wirkung erweist sich in vielen Fällen nicht als minimal, sondern nur als **„stationär“** (d. h. extremal). Deshalb wird das Prinzip von manchen Lehrbuchautoren auch das Prinzip der **stationären Wirkung** genannt. Manche Autoren nennen das Hamiltonsche Prinzip auch **'Prinzip der kleinsten Wirkung'**, was jedoch – wie oben ausgeführt – nicht präzise ist.\n",
        "\n",
        "* Hamilton's principle states that the true evolution of a physical system is a solution of the functional equation:\n",
        "\n",
        "> $\\frac{\\delta \\mathcal{S}}{\\delta \\mathbf{q}(t)}=0$\n",
        "\n",
        "* That is, the system takes a path in configuration space for which the action is stationary, with fixed boundary conditions at the beginning and the end of the path."
      ]
    },
    {
      "cell_type": "markdown",
      "metadata": {
        "id": "lcfFakZPDSlA"
      },
      "source": [
        "![ff](https://upload.wikimedia.org/wikipedia/commons/thumb/1/1c/Least_action_principle.svg/500px-Least_action_principle.svg.png)\n",
        "\n",
        "*As the system evolves, q traces a path through configuration space (only some are shown). The path taken by the system (red) has a stationary action (δS = 0) under small changes in the configuration of the system (δq).*"
      ]
    },
    {
      "cell_type": "markdown",
      "metadata": {
        "id": "LF02FafGzZ1l"
      },
      "source": [
        "*Feynman Path Integral*"
      ]
    },
    {
      "cell_type": "markdown",
      "metadata": {
        "id": "8rTSTqyoGEgM"
      },
      "source": [
        "Richard Feynman zeigte in den 1940ern, dass sich das Hamiltonsche Prinzip in der Quantenfeldtheorie gerade dadurch ergibt, dass alle möglichen Pfade (auch die nicht zielgerichteten) zulässig sind und aufintegriert werden. Dabei überlagern sich Pfade mit extremaler Wirkung konstruktiv und davon abweichende destruktiv, so dass die Natur schließlich zielgerichtet erscheint."
      ]
    },
    {
      "cell_type": "markdown",
      "metadata": {
        "id": "3Nkva05HzCsJ"
      },
      "source": [
        "Principle of least action is equivalent to newtonian mechanics (one can derive the on from the other). And both is for large scale objects, **meanwhile the principle of least action is the large scale approximation of the feynman path integral on quantum objects!** source at Min 7:53 here: https://www.youtube.com/watch?v=dPxhTiiq-1A"
      ]
    },
    {
      "cell_type": "markdown",
      "metadata": {
        "id": "bcxaUB6UFfh8"
      },
      "source": [
        "#### **Langrange Formalismus (Lagrange Equation)**"
      ]
    },
    {
      "cell_type": "markdown",
      "metadata": {
        "id": "juoWoVAzFb7x"
      },
      "source": [
        "Eingeführte Formulierung der klassischen Mechanik, in der die Dynamik eines Systems durch **eine einzige skalare Funktion, die Lagrange-Funktion**, beschrieben wird. Der Formalismus ist (im Gegensatz zu der newtonschen Mechanik, die a priori nur in Inertialsystemen gilt) auch in beschleunigten Bezugssystemen gültig. Der Lagrange-Formalismus ist invariant gegen Koordinatentransformationen.\n",
        "\n",
        "Der [Langrange Formalismus](https://de.wikipedia.org/wiki/Lagrange-Formalismus) ist eine mögliche (von vielen!) Formulierung der klassischen Mechanik. Hier wird die Dynamik eines Systems durch die Langrange-Funktion L(${\\boldsymbol{q}}$, $\\dot{\\boldsymbol{q}}$, $t$) beschrieben:\n",
        "\n",
        "* ${\\boldsymbol{q}}$ = (q1, q2, ..., qw) - allgemeine Koordinaten im Raum\n",
        "* $\\dot{\\boldsymbol{q}}$ = (d / dt) q ... ($\\dot{\\boldsymbol{q}}$1, $\\dot{\\boldsymbol{q}}$2.. $\\dot{\\boldsymbol{q}}$n) - Vektor der Wirkung (allgemeine Geschwindigkeiten)\n",
        "* $t$ - Zeit (Die explizite Zeitabhängige berücksichtigt externe, zeitabhängige Faktoren (z.B. Magnet-Felder etc). Wird auf Null gesetzt, denn bei einem Wechsel in die mikroskopische Theorie verschwindet die Zeit)\n",
        "\n",
        "> $L_{x}(q, \\dot{q}, t)$ wird zu: $L_{x}(q, \\dot{q})$ = $T$<sub>kin</sub> - $V$<sub>pot</sub>"
      ]
    },
    {
      "cell_type": "markdown",
      "metadata": {
        "id": "yh3-XC92HP_o"
      },
      "source": [
        "https://www.youtube.com/watch?v=V8CR4GVg5Io&t=301s"
      ]
    },
    {
      "cell_type": "markdown",
      "metadata": {
        "id": "xj_FQa3ZHR25"
      },
      "source": [
        "https://www.youtube.com/watch?v=EceVJJGAFFI"
      ]
    },
    {
      "cell_type": "markdown",
      "metadata": {
        "id": "I6yxA1-8Glkp"
      },
      "source": [
        "**Fluiddynamik**"
      ]
    },
    {
      "cell_type": "markdown",
      "metadata": {
        "id": "iJNcqO0LGdAR"
      },
      "source": [
        "Im Allgemeinen wird die Bewegung eines Fluids durch die Navier-Stokes-Gleichungen beschrieben. Im Falle kleiner Viskosität und damit hoher Reynolds-Zahl können Reibungseffekte vernachlässigt werden und als Bewegungsgleichung des Fluids gilt in guter Näherung die Euler-Gleichung:\n",
        "\n",
        "> formel hier\n",
        "\n",
        "Diese setzt die Geschwindigkeitsänderung des Fluids an einem Ort mit dem in der Umgebung herrschenden Druck \n",
        "p\n",
        "p in Verbindung. Häufig wird die Euler-Gleichung für die Berechnung bewegter Gase verwendet, während bei der Berechnung bewegter Flüssigkeiten meist die Navier-Stokes-Gleichungen verwendet werden.\n",
        "\n",
        "https://de.m.wikipedia.org/wiki/Fluiddynamik"
      ]
    },
    {
      "cell_type": "markdown",
      "metadata": {
        "id": "KYzlWwuA8hXl"
      },
      "source": [
        "#### **Euler–Lagrange Equation**"
      ]
    },
    {
      "cell_type": "markdown",
      "metadata": {
        "id": "dSDm60df1uY6"
      },
      "source": [
        "The Euler–Lagrange equation is an equation satisfied by a function q of a real argument t, which is a stationary point of the functional:\n",
        "\n",
        "> $S(\\boldsymbol{q})=\\int_{a}^{b} L(t, \\boldsymbol{q}(t), \\dot{\\boldsymbol{q}}(t)) \\mathrm{d} t$\n",
        "\n",
        "* ${\\boldsymbol{q}}$ - Koordinaten im Raum\n",
        "* $\\dot{\\boldsymbol{q}}$ - Vektor der Wirkung\n",
        "* t - Zeit (wird auf Null gesetzt, den bei einem Wechsel in die mikroskopische Theorie verschwindet die Zeit)\n",
        "\n",
        "The Euler–Lagrange equation, then, is given by\n",
        "\n",
        "> $L_{x}(t, q(t), \\dot{q}(t))-\\frac{\\mathrm{d}}{\\mathrm{d} t} L_{v}(t, q(t), \\dot{q}(t))=0$\n",
        "\n",
        "* partial derivative of one dimension, then second dimension and then time"
      ]
    },
    {
      "cell_type": "markdown",
      "metadata": {
        "id": "7YgD5e1WCrQG"
      },
      "source": [
        "Youtube: [Derivation of the Euler-Lagrange Equation](https://www.youtube.com/watch?v=sFqp2lCEvwM&list=PLdgVBOaXkb9CD8igcUr9Fmn5WXLpE8ZE_&index=2)"
      ]
    },
    {
      "cell_type": "markdown",
      "metadata": {
        "id": "V2qfbPen7OHY"
      },
      "source": [
        "https://www.youtube.com/watch?v=V0wx0JBEgZc"
      ]
    },
    {
      "cell_type": "markdown",
      "metadata": {
        "id": "a8e1OmDf8qdS"
      },
      "source": [
        "* the [Euler equation](https://en.m.wikipedia.org/wiki/Euler–Lagrange_equation) is a **second-order partial differential** equation whose **solutions are the functions for which a given functional is stationary**.\n",
        "\n",
        "* Because **a differentiable functional is stationary at its local extrema**, the Euler–Lagrange equation is useful for solving optimization problems in which, given some functional, one seeks the function minimizing or maximizing it. \n",
        "\n",
        "* This is analogous to [Fermat's theorem](https://en.m.wikipedia.org/wiki/Fermat%27s_theorem_(stationary_points)) in calculus, stating that at any point where a differentiable function attains a local extremum its derivative is zero.\n",
        "\n",
        "* In Lagrangian mechanics, according to [Hamilton's principle](https://en.m.wikipedia.org/wiki/Hamilton%27s_principle) of stationary action, the evolution of a physical system is described by the solutions to the Euler equation for the action of the system. In this context Euler equations are usually called Lagrange equations. In classical mechanics, it is equivalent to Newton's laws of motion, but it has the advantage that it takes the same form in any system of generalized coordinates, and it is better suited to generalizations.\n",
        "\n",
        "  * Hamilton's principle is William Rowan Hamilton's formulation of the [principle of stationary action](https://en.m.wikipedia.org/wiki/Principle_of_least_action) (also called: 'Principle of least action'). It states that the **dynamics of a physical system are determined by a variational problem for a functional based on a single function**, the Lagrangian, which may contain all physical information concerning the system and the forces acting on it. The variational problem is equivalent to and allows for the derivation of the differential equations of motion of the physical system\n"
      ]
    },
    {
      "cell_type": "markdown",
      "metadata": {
        "id": "Hvq9Ze9vgJ-T"
      },
      "source": [
        "https://de.wikipedia.org/wiki/Variationsrechnung#Euler-Lagrange-Gleichung;_Variationsableitung;_weitere_notwendige_bzw._hinreichende_Bedingungen"
      ]
    },
    {
      "cell_type": "markdown",
      "metadata": {
        "id": "ttEWWgIVr9Sl"
      },
      "source": [
        "#### **Fundamentallemma & -satz**"
      ]
    },
    {
      "cell_type": "markdown",
      "metadata": {
        "id": "Z3b7M8Nygvq7"
      },
      "source": [
        "**Fundamentallemma der Variationsrechnung**"
      ]
    },
    {
      "cell_type": "markdown",
      "metadata": {
        "id": "-FRcJghJgyjL"
      },
      "source": [
        "https://de.wikipedia.org/wiki/Fundamentallemma_der_Variationsrechnung"
      ]
    },
    {
      "cell_type": "markdown",
      "metadata": {
        "id": "ULsopNsIg5dZ"
      },
      "source": [
        "**Fundamentalsatz der Variationsrechnung**"
      ]
    },
    {
      "cell_type": "markdown",
      "metadata": {
        "id": "CwkRUt1ihCd_"
      },
      "source": [
        "* Fundamental Theorem of the Calculus of Variations - [Fundamentalsatz der Variationsrechnung](https://de.wikipedia.org/wiki/Fundamentalsatz_der_Variationsrechnung)\n",
        "\n",
        "* eng verwandt mit dem [weierstraßschen Satz vom Minimum](https://de.wikipedia.org/wiki/Satz_vom_Minimum_und_Maximum)\n",
        "\n",
        "* Er behandelt die in der Variationsrechnung zentrale Frage, unter welchen Bedingungen reellwertige Funktionale ein Minimum annehmen."
      ]
    }
  ]
}