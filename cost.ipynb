{
  "nbformat": 4,
  "nbformat_minor": 0,
  "metadata": {
    "colab": {
      "name": "cost.ipynb",
      "provenance": [],
      "collapsed_sections": [
        "g0YmU-eNebrW",
        "Z1FZ-FjIfW1T",
        "20CokCGpfG3U",
        "VgN4moVsem7G",
        "W8-r2TGwefJj",
        "AmqQ5UuaFxPE",
        "zy6HK9uZG4NF",
        "MUL3Y97WG7n6",
        "iztigyeof0qt",
        "P5M6fDm8iJbf",
        "M9V8uoymHN3M",
        "i7utPdOPHfya",
        "-bRPT7j2Hjpr",
        "qPHAqSSzGRWu",
        "D7E3wg4yjGBj",
        "-FpKoePhiyJn",
        "h9_FrV4ZjMIx",
        "jieM-rKQjf_L",
        "d7Fs8xDgjqGa",
        "1KMGvau7juCt",
        "iAuSM7rYi0nW",
        "mH4zizimhRVU",
        "YfVxKUnwXK8Z"
      ],
      "include_colab_link": true
    },
    "kernelspec": {
      "name": "python3",
      "display_name": "Python 3"
    }
  },
  "cells": [
    {
      "cell_type": "markdown",
      "metadata": {
        "id": "view-in-github",
        "colab_type": "text"
      },
      "source": [
        "<a href=\"https://colab.research.google.com/github/deltorobarba/machinelearning/blob/master/cost.ipynb\" target=\"_parent\"><img src=\"https://colab.research.google.com/assets/colab-badge.svg\" alt=\"Open In Colab\"/></a>"
      ]
    },
    {
      "cell_type": "markdown",
      "metadata": {
        "id": "HjNmcYpFuFTY"
      },
      "source": [
        "# **Cost (Loss) & Reward Functions**"
      ]
    },
    {
      "cell_type": "code",
      "metadata": {
        "id": "8wxrDRida0pp",
        "outputId": "b5d5b993-9517-4bb5-b2cb-1c1b696dfc4b",
        "colab": {
          "base_uri": "https://localhost:8080/"
        }
      },
      "source": [
        "!pip install livelossplot --quiet\n",
        "from livelossplot import PlotLossesKerasTF\n",
        "import tensorflow as tf\n",
        "print(tf.__version__)"
      ],
      "execution_count": 1,
      "outputs": [
        {
          "output_type": "stream",
          "text": [
            "2.3.0\n"
          ],
          "name": "stdout"
        }
      ]
    },
    {
      "cell_type": "markdown",
      "metadata": {
        "id": "gOhC8gWddYz_"
      },
      "source": [
        "##### **Introduction**"
      ]
    },
    {
      "cell_type": "markdown",
      "metadata": {
        "id": "-L9Rza0hlnNE"
      },
      "source": [
        "$\\min _{W}\\left\\{L(W):=\\frac{1}{m} \\sum_{i=1}^{m} \\ell\\left(W ; x_{i}, y_{i}\\right)+\\lambda r(W)\\right\\}$"
      ]
    },
    {
      "cell_type": "markdown",
      "metadata": {
        "id": "UtSoZCm6A8iN"
      },
      "source": [
        "Complete list of [Loss / Cost Functions in TF](https://www.tensorflow.org/api_docs/python/tf/keras/losses/)"
      ]
    },
    {
      "cell_type": "markdown",
      "metadata": {
        "id": "tOaMQSLdJk2u"
      },
      "source": [
        "https://heartbeat.fritz.ai/5-regression-loss-functions-all-machine-learners-should-know-4fb140e9d4b0\n",
        "\n",
        "https://medium.com/@phuctrt/loss-functions-why-what-where-or-when-189815343d3f\n",
        "\n",
        "https://towardsdatascience.com/what-is-loss-function-1e2605aeb904\n",
        "\n",
        "https://datascience.stackexchange.com/questions/10188/why-do-cost-functions-use-the-square-error\n",
        "\n",
        "https://towardsdatascience.com/coding-deep-learning-for-beginners-linear-regression-part-2-cost-function-49545303d29f"
      ]
    },
    {
      "cell_type": "markdown",
      "metadata": {
        "id": "g0YmU-eNebrW"
      },
      "source": [
        "### **Cost Functions for Time Series Forecasting**"
      ]
    },
    {
      "cell_type": "markdown",
      "metadata": {
        "id": "Z1FZ-FjIfW1T"
      },
      "source": [
        "##### **Root-Mean-Square Error (RMSE)**"
      ]
    },
    {
      "cell_type": "code",
      "metadata": {
        "id": "3cE7mWb3fYeP"
      },
      "source": [
        ""
      ],
      "execution_count": null,
      "outputs": []
    },
    {
      "cell_type": "markdown",
      "metadata": {
        "id": "W7DiXtVUfZv3"
      },
      "source": [
        "* https://en.m.wikipedia.org/wiki/Root-mean-square_deviation"
      ]
    },
    {
      "cell_type": "markdown",
      "metadata": {
        "id": "20CokCGpfG3U"
      },
      "source": [
        "##### **Mean Absolute Deviation (MAD)**"
      ]
    },
    {
      "cell_type": "code",
      "metadata": {
        "id": "jmv7Hhr5fKTW"
      },
      "source": [
        ""
      ],
      "execution_count": null,
      "outputs": []
    },
    {
      "cell_type": "markdown",
      "metadata": {
        "id": "YRol7i0AfKgV"
      },
      "source": [
        "* https://en.m.wikipedia.org/wiki/Average_absolute_deviation"
      ]
    },
    {
      "cell_type": "markdown",
      "metadata": {
        "id": "VgN4moVsem7G"
      },
      "source": [
        "##### **Mean Absolute Percentage Error (MAPE)**"
      ]
    },
    {
      "cell_type": "code",
      "metadata": {
        "id": "C0besM03eqMI"
      },
      "source": [
        ""
      ],
      "execution_count": null,
      "outputs": []
    },
    {
      "cell_type": "markdown",
      "metadata": {
        "id": "xCaQs6DTevbo"
      },
      "source": [
        "* https://en.m.wikipedia.org/wiki/Mean_absolute_percentage_error"
      ]
    },
    {
      "cell_type": "markdown",
      "metadata": {
        "id": "W8-r2TGwefJj"
      },
      "source": [
        "##### **Symmetric Mean Absolute Percentage Error (sMAPE)**"
      ]
    },
    {
      "cell_type": "code",
      "metadata": {
        "id": "JfBnOe2TejxO"
      },
      "source": [
        ""
      ],
      "execution_count": null,
      "outputs": []
    },
    {
      "cell_type": "markdown",
      "metadata": {
        "id": "trnmeQ--ezQl"
      },
      "source": [
        "* https://en.m.wikipedia.org/wiki/Symmetric_mean_absolute_percentage_error"
      ]
    },
    {
      "cell_type": "markdown",
      "metadata": {
        "id": "AmqQ5UuaFxPE"
      },
      "source": [
        "### **Cost Functions for Regression**"
      ]
    },
    {
      "cell_type": "markdown",
      "metadata": {
        "id": "Zpcc_fhBNRiQ"
      },
      "source": [
        "![xx](https://raw.githubusercontent.com/deltorobarba/machinelearning/master/regression_loss.PNG)"
      ]
    },
    {
      "cell_type": "markdown",
      "metadata": {
        "id": "zy6HK9uZG4NF"
      },
      "source": [
        "##### **Mean Squared Error (L2 or Quadratic Loss)**"
      ]
    },
    {
      "cell_type": "code",
      "metadata": {
        "id": "_a9PTm_aGIaH"
      },
      "source": [
        "loss = 'mse'"
      ],
      "execution_count": 2,
      "outputs": []
    },
    {
      "cell_type": "markdown",
      "metadata": {
        "id": "FlQ3pcb3JrHK"
      },
      "source": [
        "* [Wikipedia](https://de.m.wikipedia.org/wiki/Methode_der_kleinsten_Quadrate)"
      ]
    },
    {
      "cell_type": "code",
      "metadata": {
        "id": "WRmCUqgTgkLt"
      },
      "source": [
        "def mse(predictions, targets):\n",
        "    # Retrieving number of samples in dataset\n",
        "    samples_num = len(predictions)\n",
        "    \n",
        "    # Summing square differences between predicted and expected values\n",
        "    accumulated_error = 0.0\n",
        "    for prediction, target in zip(predictions, targets):\n",
        "        accumulated_error += (prediction - target)**2\n",
        "        \n",
        "    # Calculating mean and dividing by 2\n",
        "    mae_error = (1.0 / (2*samples_num)) * accumulated_error\n",
        "    \n",
        "    return mae_error"
      ],
      "execution_count": null,
      "outputs": []
    },
    {
      "cell_type": "markdown",
      "metadata": {
        "id": "MUL3Y97WG7n6"
      },
      "source": [
        "##### **Mean Absolute Error (L1 Loss)**"
      ]
    },
    {
      "cell_type": "code",
      "metadata": {
        "id": "wTBTWNouBf4e"
      },
      "source": [
        "loss = 'mae'"
      ],
      "execution_count": null,
      "outputs": []
    },
    {
      "cell_type": "markdown",
      "metadata": {
        "id": "dwewFlH5dtSO"
      },
      "source": [
        "* Computes the mean of absolute difference between labels and predictions."
      ]
    },
    {
      "cell_type": "code",
      "metadata": {
        "id": "fZlsXjjYguS_"
      },
      "source": [
        "def mae(predictions, targets):\n",
        "    # Retrieving number of samples in dataset\n",
        "    samples_num = len(predictions)\n",
        "    \n",
        "    # Summing absolute differences between predicted and expected values\n",
        "    accumulated_error = 0.0\n",
        "    for prediction, target in zip(predictions, targets):\n",
        "        accumulated_error += np.abs(prediction - target)\n",
        "        \n",
        "    # Calculating mean\n",
        "    mae_error = (1.0 / samples_num) * accumulated_error\n",
        "    \n",
        "    return mae_error"
      ],
      "execution_count": null,
      "outputs": []
    },
    {
      "cell_type": "markdown",
      "metadata": {
        "id": "by0MnQ9bN0LH"
      },
      "source": [
        "**MSE vs MSE**\n",
        "\n",
        "One big problem in using MAE loss (for neural nets especially) is that its gradient is the same throughout, which means the gradient will be large even for small loss values. This isn’t good for learning. To fix this, we can use dynamic learning rate which decreases as we move closer to the minima. MSE behaves nicely in this case and will converge even with a fixed learning rate. The gradient of MSE loss is high for larger loss values and decreases as loss approaches 0, making it more precise at the end of training (see figure below.)"
      ]
    },
    {
      "cell_type": "markdown",
      "metadata": {
        "id": "daG9qEDxOCyo"
      },
      "source": [
        "![xx](https://raw.githubusercontent.com/deltorobarba/machinelearning/master/mae_vs_mse.PNG)"
      ]
    },
    {
      "cell_type": "markdown",
      "metadata": {
        "id": "iztigyeof0qt"
      },
      "source": [
        "##### **Mean Squared Logarithmic Error (MSLR)**"
      ]
    },
    {
      "cell_type": "code",
      "metadata": {
        "id": "YVndjV5xf5tY"
      },
      "source": [
        ""
      ],
      "execution_count": null,
      "outputs": []
    },
    {
      "cell_type": "markdown",
      "metadata": {
        "id": "a0fMbvjdf57W"
      },
      "source": [
        "* https://www.tensorflow.org/api_docs/python/tf/keras/losses/MeanSquaredLogarithmicError"
      ]
    },
    {
      "cell_type": "markdown",
      "metadata": {
        "id": "P5M6fDm8iJbf"
      },
      "source": [
        "##### **(normalized) sum of square error**"
      ]
    },
    {
      "cell_type": "code",
      "metadata": {
        "id": "gBkLl8xNiQ0t"
      },
      "source": [
        ""
      ],
      "execution_count": null,
      "outputs": []
    },
    {
      "cell_type": "markdown",
      "metadata": {
        "id": "aisKPTTLiSdO"
      },
      "source": [
        "* https://de.m.wikipedia.org/wiki/Residuenquadratsumme"
      ]
    },
    {
      "cell_type": "markdown",
      "metadata": {
        "id": "M9V8uoymHN3M"
      },
      "source": [
        "##### **Huber Loss (Smooth Mean Absolute Error)**"
      ]
    },
    {
      "cell_type": "code",
      "metadata": {
        "id": "36nuCq7bHY9N"
      },
      "source": [
        "loss = tf.keras.losses.Huber(\n",
        "    delta=1.0, reduction=losses_utils.ReductionV2.AUTO, name='huber_loss'\n",
        ")"
      ],
      "execution_count": null,
      "outputs": []
    },
    {
      "cell_type": "markdown",
      "metadata": {
        "id": "NonIaG1MOoo6"
      },
      "source": [
        "![xx](https://upload.wikimedia.org/wikipedia/commons/thumb/c/cc/Huber_loss.svg/320px-Huber_loss.svg.png)\n",
        "\n",
        "*Huber loss (green, \n",
        "δ\n",
        "=\n",
        "1) and squared error loss (blue) as a function of \n",
        "y\n",
        "−\n",
        "f\n",
        "(\n",
        "x\n",
        ")*"
      ]
    },
    {
      "cell_type": "markdown",
      "metadata": {
        "id": "dbvRBSBjQLJC"
      },
      "source": [
        "$L_{\\delta}(y, f(x))=\\left\\{\\begin{array}{ll}\n",
        "\\frac{1}{2}(y-f(x))^{2} & \\text { for }|y-f(x)| \\leq \\delta \\\\\n",
        "\\delta|y-f(x)|-\\frac{1}{2} \\delta^{2} & \\text { otherwise }\n",
        "\\end{array}\\right.$"
      ]
    },
    {
      "cell_type": "markdown",
      "metadata": {
        "id": "2u-W2FmUOZAC"
      },
      "source": [
        "* It's less sensitive to outliers in data than the squared error loss. It’s also differentiable at 0. It’s basically absolute error, which becomes quadratic when error is small.  How small that error has to be to make it quadratic depends on a hyperparameter 𝛿. Huber loss approaches MSE when 𝛿 ~ 0 and MAE when 𝛿 ~ ∞.\n",
        "\n",
        "* The choice of delta is critical because it determines what you’re willing to consider as an outlier. Residuals larger than delta are minimized with L1 (which is less sensitive to large outliers), while residuals smaller than delta are minimized “appropriately” with L2.\n",
        "\n",
        "* One big problem with using MAE for training of neural nets is its constantly large gradient, which can lead to missing minima at the end of training using gradient descent. For MSE, gradient decreases as the loss gets close to its minima, making it more precise.\n",
        "Huber loss can be really helpful in such cases, as it curves around the minima which decreases the gradient. And it’s more robust to outliers than MSE. Therefore, **it combines good properties from both MSE and MAE**. \n",
        "\n",
        "* However, the problem with Huber loss is that we might need to train hyperparameter delta which is an iterative process.\n",
        "\n",
        "* [Wiki](https://en.m.wikipedia.org/wiki/Huber_loss)"
      ]
    },
    {
      "cell_type": "markdown",
      "metadata": {
        "id": "i7utPdOPHfya"
      },
      "source": [
        "##### **Log-Cosh Loss**"
      ]
    },
    {
      "cell_type": "code",
      "metadata": {
        "id": "4txMn1YnHjXc"
      },
      "source": [
        "loss = tf.keras.losses.LogCosh()"
      ],
      "execution_count": null,
      "outputs": []
    },
    {
      "cell_type": "markdown",
      "metadata": {
        "id": "kUYfXn-xLED_"
      },
      "source": [
        "* Log-cosh is another function used in regression tasks that’s smoother than L2\n",
        "* Log-cosh is the logarithm of the hyperbolic cosine of the prediction error.\n",
        "* [Wiki Hyperbolic Functions](https://en.m.wikipedia.org/wiki/Hyperbolic_functions), [TF Class](https://www.tensorflow.org/api_docs/python/tf/keras/losses/LogCosh)"
      ]
    },
    {
      "cell_type": "markdown",
      "metadata": {
        "id": "-bRPT7j2Hjpr"
      },
      "source": [
        "##### **Quantile Loss (Pinball Loss)**"
      ]
    },
    {
      "cell_type": "code",
      "metadata": {
        "id": "7gNvk2yzHko8"
      },
      "source": [
        "loss = tfa.losses.PinballLoss(tau=.1)"
      ],
      "execution_count": null,
      "outputs": []
    },
    {
      "cell_type": "markdown",
      "metadata": {
        "id": "A23UY_EtKCYA"
      },
      "source": [
        "![xx](https://upload.wikimedia.org/wikipedia/commons/thumb/b/b7/Pinball_Loss_Function.svg/320px-Pinball_Loss_Function.svg.png)\n",
        "\n",
        "*Pinball-Verlustfunktion mit \n",
        "τ\n",
        "=0,9. Für \n",
        "ε\n",
        "<\n",
        "0 beträgt der Fehler \n",
        "−\n",
        "0\n",
        ",\n",
        "1\n",
        "ε, für \n",
        "ε\n",
        "≥\n",
        "0 beträgt er \n",
        "0\n",
        ",\n",
        "9\n",
        "ε.*"
      ]
    },
    {
      "cell_type": "markdown",
      "metadata": {
        "id": "V61VVogsIIED"
      },
      "source": [
        "* estimates conditional “quantile” of a response variable given certain values of predictor variables\n",
        "* is an extension of MAE (when quantile is 50th percentile, it’s MAE)\n",
        "* Im Gegensatz zur Kleinste-Quadrate-Schätzung, die den Erwartungswert der Zielgröße schätzt, ist die Quantilsregression dazu geeignet, ihre Quantile zu schätzen. \n",
        "* [Wikipedia](https://de.m.wikipedia.org/wiki/Quantilsregression), [TF Class](https://www.tensorflow.org/addons/api_docs/python/tfa/losses/PinballLoss) & [TF Function](https://www.tensorflow.org/addons/api_docs/python/tfa/losses/pinball_loss)"
      ]
    },
    {
      "cell_type": "markdown",
      "metadata": {
        "id": "qPHAqSSzGRWu"
      },
      "source": [
        "### **Cost Functions for Classification**"
      ]
    },
    {
      "cell_type": "markdown",
      "metadata": {
        "id": "D7E3wg4yjGBj"
      },
      "source": [
        "##### **Binary Cross-Entropy**"
      ]
    },
    {
      "cell_type": "code",
      "metadata": {
        "id": "ROTyn_fojPI0"
      },
      "source": [
        ""
      ],
      "execution_count": null,
      "outputs": []
    },
    {
      "cell_type": "markdown",
      "metadata": {
        "id": "-FpKoePhiyJn"
      },
      "source": [
        "##### **Categorical Cross Entropy**"
      ]
    },
    {
      "cell_type": "code",
      "metadata": {
        "id": "LlC2R-7WjOvV"
      },
      "source": [
        ""
      ],
      "execution_count": null,
      "outputs": []
    },
    {
      "cell_type": "markdown",
      "metadata": {
        "id": "h9_FrV4ZjMIx"
      },
      "source": [
        "##### **Sparse Cross-Entropy**"
      ]
    },
    {
      "cell_type": "code",
      "metadata": {
        "id": "Deqvu9M1BZ4n"
      },
      "source": [
        "loss = tf.keras.losses.SparseCategoricalCrossentropy(from_logits=True)"
      ],
      "execution_count": null,
      "outputs": []
    },
    {
      "cell_type": "code",
      "metadata": {
        "id": "b2Ionbd8BCSM"
      },
      "source": [
        "loss = 'sparse_categorical_crossentropy'"
      ],
      "execution_count": null,
      "outputs": []
    },
    {
      "cell_type": "markdown",
      "metadata": {
        "id": "jieM-rKQjf_L"
      },
      "source": [
        "##### **Log-Loss (negative log-likelihood)**"
      ]
    },
    {
      "cell_type": "code",
      "metadata": {
        "id": "6G6KVcH-ji6L"
      },
      "source": [
        ""
      ],
      "execution_count": null,
      "outputs": []
    },
    {
      "cell_type": "markdown",
      "metadata": {
        "id": "d7Fs8xDgjqGa"
      },
      "source": [
        "##### **Exponential Loss**"
      ]
    },
    {
      "cell_type": "code",
      "metadata": {
        "id": "ZbZJydo4jr_v"
      },
      "source": [
        ""
      ],
      "execution_count": null,
      "outputs": []
    },
    {
      "cell_type": "markdown",
      "metadata": {
        "id": "1KMGvau7juCt"
      },
      "source": [
        "##### **Hinge Loss**"
      ]
    },
    {
      "cell_type": "code",
      "metadata": {
        "id": "1oYZzEwfjwRc"
      },
      "source": [
        ""
      ],
      "execution_count": null,
      "outputs": []
    },
    {
      "cell_type": "markdown",
      "metadata": {
        "id": "iAuSM7rYi0nW"
      },
      "source": [
        "##### **Kullback-Leibler Divergence**"
      ]
    },
    {
      "cell_type": "code",
      "metadata": {
        "id": "Ks4_vx_wFci9"
      },
      "source": [
        "loss = kullback leibler"
      ],
      "execution_count": null,
      "outputs": []
    },
    {
      "cell_type": "markdown",
      "metadata": {
        "id": "mH4zizimhRVU"
      },
      "source": [
        "### **Reward Functions in Reinforcement Learning**"
      ]
    },
    {
      "cell_type": "code",
      "metadata": {
        "id": "L0i6lnnxhV78"
      },
      "source": [
        ""
      ],
      "execution_count": null,
      "outputs": []
    },
    {
      "cell_type": "markdown",
      "metadata": {
        "id": "YfVxKUnwXK8Z"
      },
      "source": [
        "### **Define Model & Run**"
      ]
    },
    {
      "cell_type": "code",
      "metadata": {
        "id": "pKomy6Y9c18A",
        "outputId": "74d05d53-cc8a-4062-8ff8-58808350e4fe",
        "colab": {
          "base_uri": "https://localhost:8080/",
          "height": 683
        }
      },
      "source": [
        "# Load & Prepare Data\n",
        "fashion_mnist = tf.keras.datasets.fashion_mnist\n",
        "(x_train, y_train),(x_test, y_test) = fashion_mnist.load_data()\n",
        "x_train, x_test = x_train / 255.0, x_test / 255.0\n",
        "\n",
        "# Define Model\n",
        "model = tf.keras.models.Sequential()\n",
        "model.add(tf.keras.layers.Flatten(input_shape=(28, 28)))\n",
        "model.add(tf.keras.layers.Dense(512, activation='relu')) \n",
        "model.add(tf.keras.layers.Dropout(0.3))\n",
        "model.add(tf.keras.layers.Dense(10, activation='softmax'))\n",
        "\n",
        "# Compile Model\n",
        "model.compile(optimizer='adam', \n",
        "              loss=loss, \n",
        "              metrics=['accuracy'])\n",
        "\n",
        "# Train Model\n",
        "model.fit(x=x_train, \n",
        "          y=y_train, \n",
        "          epochs=5, \n",
        "          validation_data=(x_test, y_test),\n",
        "          callbacks=[PlotLossesKerasTF()],\n",
        "          verbose=1)"
      ],
      "execution_count": 3,
      "outputs": [
        {
          "output_type": "display_data",
          "data": {
            "image/png": "[encoded data removed]",
            "text/plain": [
              "<Figure size 864x576 with 2 Axes>"
            ]
          },
          "metadata": {
            "tags": [],
            "needs_background": "light"
          }
        },
        {
          "output_type": "stream",
          "text": [
            "accuracy\n",
            "\ttraining         \t (min:    0.099, max:    0.111, cur:    0.099)\n",
            "\tvalidation       \t (min:    0.101, max:    0.106, cur:    0.103)\n",
            "Loss\n",
            "\ttraining         \t (min:   27.610, max:   27.610, cur:   27.610)\n",
            "\tvalidation       \t (min:   27.610, max:   27.610, cur:   27.610)\n",
            "\b\b\b\b\b\b\b\b\b\b\b\b\b\b\b\b\b\b\b\b\b\b\b\b\b\b\b\b\b\b\b\b\b\b\b\b\b\b\b\b\b\b\b\b\b\b\b\b\b\b\b\b\b\b\b\b\b\b\b\b\b\b\b\b\b\b\b\b\b\b\b\b\b\b\b\b\b\b\b\b\b\b\b\b\b\b\b\r1875/1875 [==============================] - 8s 4ms/step - loss: 27.6101 - accuracy: 0.0992 - val_loss: 27.6100 - val_accuracy: 0.1031\n"
          ],
          "name": "stdout"
        },
        {
          "output_type": "execute_result",
          "data": {
            "text/plain": [
              "<tensorflow.python.keras.callbacks.History at 0x7f11bcf95e48>"
            ]
          },
          "metadata": {
            "tags": []
          },
          "execution_count": 3
        }
      ]
    }
  ]
}