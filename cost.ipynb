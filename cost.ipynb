{
  "nbformat": 4,
  "nbformat_minor": 0,
  "metadata": {
    "colab": {
      "name": "cost.ipynb",
      "provenance": [],
      "collapsed_sections": [
        "5jK34bCZV5L6",
        "gOhC8gWddYz_",
        "CXBpZ1M8zNi5",
        "oAf4sna4hQMg",
        "deNJWcC3hUSX",
        "jtmj4FOHq6ht",
        "ZrVKpOHIzWHG",
        "AmqQ5UuaFxPE",
        "MrnqfFqHXRuR",
        "VVJqZBKKTJcX",
        "zy6HK9uZG4NF",
        "MUL3Y97WG7n6",
        "M9V8uoymHN3M",
        "i7utPdOPHfya",
        "-bRPT7j2Hjpr",
        "bB89shlnkga3",
        "qPHAqSSzGRWu",
        "ZtrplweMXpx0",
        "zwF3TGA4HyGe",
        "iAuSM7rYi0nW",
        "TSRliOMMiHC-",
        "BmZFI8hdhy1u",
        "rYLc2b-qsm8N",
        "-59nC3Yih3Gm",
        "tvctBykzhmbB",
        "ZT8FPvZ3hi1N",
        "gVUgUeHIYPXm",
        "o2zuQpPO6vNn",
        "ceX3klubVpBn",
        "rCZf8vrBmGux",
        "N3jTMrMFRcgH",
        "LxKmU_MLUICH",
        "YfVxKUnwXK8Z"
      ],
      "include_colab_link": true
    },
    "kernelspec": {
      "display_name": "Python 3",
      "name": "python3"
    }
  },
  "cells": [
    {
      "cell_type": "markdown",
      "metadata": {
        "id": "view-in-github",
        "colab_type": "text"
      },
      "source": [
        "<a href=\"https://colab.research.google.com/github/deltorobarba/machinelearning/blob/master/cost.ipynb\" target=\"_parent\"><img src=\"https://colab.research.google.com/assets/colab-badge.svg\" alt=\"Open In Colab\"/></a>"
      ]
    },
    {
      "cell_type": "markdown",
      "metadata": {
        "id": "HjNmcYpFuFTY"
      },
      "source": [
        "# **Cost (Loss) Functions**"
      ]
    },
    {
      "cell_type": "code",
      "metadata": {
        "id": "8wxrDRida0pp",
        "outputId": "0187b2f2-187b-4d69-e997-7450fd330e49",
        "colab": {
          "base_uri": "https://localhost:8080/"
        }
      },
      "source": [
        "!pip install livelossplot --quiet\n",
        "from livelossplot import PlotLossesKerasTF\n",
        "import tensorflow as tf\n",
        "print(tf.__version__)"
      ],
      "execution_count": null,
      "outputs": [
        {
          "output_type": "stream",
          "text": [
            "2.3.0\n"
          ],
          "name": "stdout"
        }
      ]
    },
    {
      "cell_type": "markdown",
      "metadata": {
        "id": "5jK34bCZV5L6"
      },
      "source": [
        "### **Introduction**"
      ]
    },
    {
      "cell_type": "markdown",
      "metadata": {
        "id": "gOhC8gWddYz_"
      },
      "source": [
        "##### **Introduction**"
      ]
    },
    {
      "cell_type": "markdown",
      "metadata": {
        "id": "mhfmrX5NyKmF"
      },
      "source": [
        "**Really good intro by Brandon Rohrer**: https://youtu.be/fr7dfyfB7mI"
      ]
    },
    {
      "cell_type": "markdown",
      "metadata": {
        "id": "SSldNKjE4BZa"
      },
      "source": [
        "Cost, loss, risk or error function\n",
        "\n",
        "Properties of ideal Cost functions:\n",
        "\n",
        "* smooth, \n",
        "* continuous, \n",
        "* symmetric (but i.e. Non-symmetric losses: e.g., for spam classification)\n",
        "* differentials"
      ]
    },
    {
      "cell_type": "markdown",
      "metadata": {
        "id": "BKwGKCZj3mhZ"
      },
      "source": [
        "https://en.m.wikipedia.org/wiki/Loss_function"
      ]
    },
    {
      "cell_type": "markdown",
      "metadata": {
        "id": "CDL3lOvAnyOp"
      },
      "source": [
        "https://stats.stackexchange.com/questions/154879/a-list-of-cost-functions-used-in-neural-networks-alongside-applications"
      ]
    },
    {
      "cell_type": "markdown",
      "metadata": {
        "id": "-L9Rza0hlnNE"
      },
      "source": [
        "$\\min _{W}\\left\\{L(W):=\\frac{1}{m} \\sum_{i=1}^{m} \\ell\\left(W ; x_{i}, y_{i}\\right)+\\lambda r(W)\\right\\}$"
      ]
    },
    {
      "cell_type": "markdown",
      "metadata": {
        "id": "UtSoZCm6A8iN"
      },
      "source": [
        "Complete list of [Loss / Cost Functions in TF](https://www.tensorflow.org/api_docs/python/tf/keras/losses/)"
      ]
    },
    {
      "cell_type": "markdown",
      "metadata": {
        "id": "tOaMQSLdJk2u"
      },
      "source": [
        "https://heartbeat.fritz.ai/5-regression-loss-functions-all-machine-learners-should-know-4fb140e9d4b0\n",
        "\n",
        "https://medium.com/human-in-a-machine-world/mae-and-rmse-which-metric-is-better-e60ac3bde13d\n",
        "\n",
        "https://stackoverflow.com/questions/45648351/what-is-difference-between-loss-function-and-rmse-in-machine-learning\n",
        "\n",
        "https://medium.com/@phuctrt/loss-functions-why-what-where-or-when-189815343d3f\n",
        "\n",
        "https://towardsdatascience.com/what-is-loss-function-1e2605aeb904\n",
        "\n",
        "https://datascience.stackexchange.com/questions/10188/why-do-cost-functions-use-the-square-error\n",
        "\n",
        "https://towardsdatascience.com/coding-deep-learning-for-beginners-linear-regression-part-2-cost-function-49545303d29f\n",
        "\n",
        "https://ml-cheatsheet.readthedocs.io/en/latest/loss_functions.html#kullback-leibler"
      ]
    },
    {
      "cell_type": "markdown",
      "metadata": {
        "id": "jkbfamvD4rHK"
      },
      "source": [
        "https://towardsdatascience.com/https-medium-com-chayankathuria-regression-why-mean-square-error-a8cad2a1c96f"
      ]
    },
    {
      "cell_type": "markdown",
      "metadata": {
        "id": "OQwg5vHW6Nuu"
      },
      "source": [
        "http://www.cs.cornell.edu/courses/cs4780/2015fa/web/lecturenotes/lecturenote10.html"
      ]
    },
    {
      "cell_type": "markdown",
      "metadata": {
        "id": "ZkEHOnK4ZwKY"
      },
      "source": [
        "**Overview: Similarity Learning & Distance Metric Learning**"
      ]
    },
    {
      "cell_type": "markdown",
      "metadata": {
        "id": "Ozfgr776X5mk"
      },
      "source": [
        "* Ähnlichkeitsmaße werden für nominal oder ordinal skalierte Variablen genutzt\n",
        "\n",
        "* Distanzmaße werden für metrisch skalierte Variablen (d. h. für Intervall- und Verhältnisskala) genutzt."
      ]
    },
    {
      "cell_type": "markdown",
      "metadata": {
        "id": "M-LwPZQAWR1B"
      },
      "source": [
        "https://en.m.wikipedia.org/wiki/Similarity_learning"
      ]
    },
    {
      "cell_type": "markdown",
      "metadata": {
        "id": "L23wfOaoYbkL"
      },
      "source": [
        "https://en.m.wikipedia.org/wiki/Distance"
      ]
    },
    {
      "cell_type": "markdown",
      "metadata": {
        "id": "erSCYUrvYFVx"
      },
      "source": [
        "https://cs.gmu.edu/~carlotta/teaching/CS775-s10/readings/LearningMetrics.pdf"
      ]
    },
    {
      "cell_type": "markdown",
      "metadata": {
        "id": "hXUWzO4vWIuI"
      },
      "source": [
        "**Similarity learning** is closely related to distance metric learning. Metric learning is the task of learning a distance function over objects. A metric or distance function has to obey four axioms: non-negativity, identity of indiscernibles, symmetry and subadditivity (or the triangle inequality). **In practice, metric learning algorithms ignore the condition of identity of indiscernibles and learn a pseudo-metric.**\n",
        "\n"
      ]
    },
    {
      "cell_type": "markdown",
      "metadata": {
        "id": "J5hje3wBYWv6"
      },
      "source": [
        "https://en.m.wikipedia.org/wiki/Similarity_learning#Metric_learning"
      ]
    },
    {
      "cell_type": "markdown",
      "metadata": {
        "id": "LIfdyn29WxlU"
      },
      "source": [
        "**Similarity Measure** In statistics and related fields, a similarity measure or similarity function is a real-valued function that quantifies the similarity between two objects.\n",
        "\n",
        "Although no single definition of a similarity measure exists, usually such measures are in some sense the inverse of distance metrics: they take on large values for similar objects and either zero or a negative value for very dissimilar objects.\n",
        "\n",
        "Cosine similarity is a commonly used similarity measure for real-valued vectors, used in (among other fields) information retrieval to score the similarity of documents in the vector space model. In machine learning, common kernel functions such as the RBF kernel can be viewed as similarity functions."
      ]
    },
    {
      "cell_type": "markdown",
      "metadata": {
        "id": "DsjXQNXVW-QJ"
      },
      "source": [
        "https://en.m.wikipedia.org/wiki/Similarity_measure"
      ]
    },
    {
      "cell_type": "markdown",
      "metadata": {
        "id": "LxEGxB4vXmU8"
      },
      "source": [
        "**Distance Metric Learning & Distance Measures**\n",
        "\n",
        "Distanzmaße werden für metrisch skalierte Variablen (d. h. für Intervall- und Verhältnisskala) genutzt.\n",
        "https://cs.gmu.edu/~carlotta/teaching/CS775-s10/readings/LearningMetrics.pdf"
      ]
    },
    {
      "cell_type": "markdown",
      "metadata": {
        "id": "CXBpZ1M8zNi5"
      },
      "source": [
        "##### **Similarity Learning & Similarity Measures**"
      ]
    },
    {
      "cell_type": "markdown",
      "metadata": {
        "id": "i9rjjHRPe3Lc"
      },
      "source": [
        "*Ähnlichkeitsmaße werden für nominal oder ordinal skalierte Variablen genutzt*"
      ]
    },
    {
      "cell_type": "markdown",
      "metadata": {
        "id": "cxTnwP8u5YD2"
      },
      "source": [
        "**Overview**"
      ]
    },
    {
      "cell_type": "markdown",
      "metadata": {
        "id": "QdhCXyrkgLB0"
      },
      "source": [
        "In der Statistik, insbesondere der Multivariaten Statistik, interessiert man sich für die Messung der Ähnlichkeit zwischen verschiedenen Objekten und definiert dazu Ähnlichkeits- und Distanzmaße. **Es handelt sich dabei nicht um Maße im mathematischen Sinn**, der Begriff bezieht sich ausschließlich auf die Messung einer bestimmten Größe."
      ]
    },
    {
      "cell_type": "markdown",
      "metadata": {
        "id": "Ez_pHYiXgPcu"
      },
      "source": [
        "https://de.m.wikipedia.org/wiki/Ähnlichkeitsanalyse\n",
        "\n",
        "https://de.m.wikipedia.org/wiki/Distanzfunktion"
      ]
    },
    {
      "cell_type": "markdown",
      "metadata": {
        "id": "vu_3BJSrgnoi"
      },
      "source": [
        "https://en.m.wikipedia.org/wiki/Distance_(graph_theory)\n",
        "\n",
        "https://en.m.wikipedia.org/wiki/Distance"
      ]
    },
    {
      "cell_type": "markdown",
      "metadata": {
        "id": "oAf4sna4hQMg"
      },
      "source": [
        "**Jaccard-Koeffizient**"
      ]
    },
    {
      "cell_type": "markdown",
      "metadata": {
        "id": "jYu5h2eLhR-N"
      },
      "source": [
        "https://de.m.wikipedia.org/wiki/Jaccard-Koeffizient"
      ]
    },
    {
      "cell_type": "markdown",
      "metadata": {
        "id": "deNJWcC3hUSX"
      },
      "source": [
        "**Yules Index**"
      ]
    },
    {
      "cell_type": "markdown",
      "metadata": {
        "id": "OGeN7197hXMA"
      },
      "source": [
        "Yules Index ist ein statistischer Messwert, der die Uniformität oder Diversität des Wortschatzes bestimmt. Er wurde vom schottischen Statistiker George Udny Yule entwickelt und misst die Wahrscheinlichkeit, mit der zwei zufällig ausgewählte Wörter eines Textes identisch sind – und zwar weitgehend unabhängig vom Umfang des Textes.Diesen Index hat Herdan aufgegriffen und weiterentwickelt."
      ]
    },
    {
      "cell_type": "markdown",
      "metadata": {
        "id": "k-YLY8Q4hZmk"
      },
      "source": [
        "https://de.m.wikipedia.org/wiki/Yules_Index"
      ]
    },
    {
      "cell_type": "markdown",
      "metadata": {
        "id": "jtmj4FOHq6ht"
      },
      "source": [
        "**Pearson Korrelationskoeffizient**"
      ]
    },
    {
      "cell_type": "markdown",
      "metadata": {
        "id": "5W0A6wTO22MZ"
      },
      "source": [
        "https://de.m.wikipedia.org/wiki/Korrelationskoeffizient"
      ]
    },
    {
      "cell_type": "markdown",
      "metadata": {
        "id": "ZrVKpOHIzWHG"
      },
      "source": [
        "##### **Distance Metric Learning & Distance Measures (& Divergence)**"
      ]
    },
    {
      "cell_type": "markdown",
      "metadata": {
        "id": "Au-5oyMJfCCd"
      },
      "source": [
        "*Distanzmaße werden für metrisch skalierte Variablen (d. h. für Intervall- und Verhältnisskala) genutzt.*"
      ]
    },
    {
      "cell_type": "markdown",
      "metadata": {
        "id": "8UfyDobq5cXp"
      },
      "source": [
        "**Overview**"
      ]
    },
    {
      "cell_type": "markdown",
      "metadata": {
        "id": "AepjAni7x_g9"
      },
      "source": [
        "**Exkurs**: [Distance measures](https://en.m.wikipedia.org/wiki/Distance_measures_(cosmology)) in cosmology are complicated by the [expansion of the universe](https://en.m.wikipedia.org/wiki/Expansion_of_the_universe), and by effects described by the [theory of relativity](https://en.m.wikipedia.org/wiki/Theory_of_relativity) such as [length contraction](https://en.m.wikipedia.org/wiki/Length_contraction) of moving objects."
      ]
    },
    {
      "cell_type": "markdown",
      "metadata": {
        "id": "dfT-0QZZm8VW"
      },
      "source": [
        "**Properties of a Divergence, Distance & Metric**"
      ]
    },
    {
      "cell_type": "markdown",
      "metadata": {
        "id": "7HScpxU3gCkB"
      },
      "source": [
        "1. $d(x, y) \\geq 0 \\quad$ (**non-negativity**)\n",
        "\n",
        "2. $d(x, y)=0$ if and only if $x=y$ (**identity of indiscernibles**. Note that condition 1 and 2 together produce **positive definiteness**)\n",
        "\n",
        "3. $d(x, y)=d(y, x)$ (**symmetry**)\n",
        "\n",
        "4. $d(x, z) \\leq d(x, y)+d(y, z)$ (**subadditivity / triangle inequality**)."
      ]
    },
    {
      "cell_type": "markdown",
      "metadata": {
        "id": "BGoqrlNKgEo8"
      },
      "source": [
        "* **Divergence** fullfills property of positive definiteness (1 + 2)\n",
        "\n",
        "* **Distance** fullfills property of positive definiteness and symmetrie (1 + 2+ 3)\n",
        "\n",
        "* **Metric** fullfills property of positive definiteness, symmetrie and triangle inequality (1 + 2 + 3 + 4)\n",
        "\n",
        "* Metric Space: Together with the set, a metric makes up a metric space.\n",
        "\n",
        "* (*Jede Norm induziert eine Metrik, aber nicht jede Metrik wird durch eine Norm induziert*)"
      ]
    },
    {
      "cell_type": "markdown",
      "metadata": {
        "id": "wuiVX3avwKmS"
      },
      "source": [
        "**Distance function vs. Distance Metric**\n",
        "\n",
        "• Distance Metric:\n",
        "▫ Satisfy non-negativity, symmetry and triangle\n",
        "inequation\n",
        "\n",
        "• Distance Function:\n",
        "▫ May not satisfy one or more requirements for\n",
        "distance metric\n",
        "▫ More general than distance metric"
      ]
    },
    {
      "cell_type": "markdown",
      "metadata": {
        "id": "MLWj7je0wMiG"
      },
      "source": [
        "https://www.cs.utexas.edu/~grauman/courses/spring2008/slides/Learning_distance_functions.pdf"
      ]
    },
    {
      "cell_type": "markdown",
      "metadata": {
        "id": "gD8HZ1Q1giLt"
      },
      "source": [
        "**Divergence & 'Statistical Distance'**"
      ]
    },
    {
      "cell_type": "markdown",
      "metadata": {
        "id": "nqH4VD9zgjtm"
      },
      "source": [
        "In statistics and information geometry, divergence or a contrast function is a function which establishes the **\"distance\" of one probability distribution to the other** on a statistical manifold. In statistics, probability theory, and information theory, **a statistical distance** quantifies the distance between two statistical objects, which can be\n",
        "\n",
        "* two random variables, or \n",
        "* two probability distributions or \n",
        "* two samples, or \n",
        "* the distance can be between an individual sample point and a population or \n",
        "* a wider sample of points.\n",
        "\n",
        "A distance between populations can be interpreted as **measuring the distance between two probability distributions** and hence they are essentially measures of distances between probability measures. \n",
        "\n",
        "* Where statistical distance measures relate to the differences between random variables, these may have statistical dependence, and hence these distances are not directly related to measures of distances between probability measures. \n",
        "\n",
        "* Again, a measure of distance between random variables may **relate to the extent of dependence between them, rather than to their individual values.**\n",
        "\n",
        "**<u>Many statistical distances are not metrics</u>** (and some types are regerred to as divergence), because they lack one or more properties of proper metrics. For example, \n",
        "\n",
        "* [pseudometrics](https://en.m.wikipedia.org/wiki/Pseudometric_space) violate the \"positive definiteness\" (alternatively, \"identity of indescernibles\") property (1 & 2 above); \n",
        "\n",
        "* [quasimetrics](https://en.m.wikipedia.org/wiki/Metric_(mathematics)#Quasimetrics) violate the symmetry property (3); and semimetrics violate the triangle inequality (4). \n",
        "\n",
        "* Statistical distances that satisfy (1) and (2) are referred to as divergences."
      ]
    },
    {
      "cell_type": "markdown",
      "metadata": {
        "id": "6Y2GffaHgpYZ"
      },
      "source": [
        "* In statistics and information geometry, there are many kinds of statistical distances, notably divergences, especially Bregman divergences and f-divergences. These include and generalize many of the notions of \"difference between two probability distributions\", and allow them to be studied geometrically, as statistical manifolds. \n",
        "\n",
        "* The **most elementary** is the **squared Euclidean distance**, which forms the basis of least squares; this is the most basic Bregman divergence (-> is this a metric then ???)\n",
        "\n",
        "* The **most important** in information theory is the relative entropy (**Kullback–Leibler divergence**), which allows one to analogously study maximum likelihood estimation geometrically; this is the most basic f-divergence, and is also a Bregman divergence (and is the only divergence that is both). \n",
        "\n",
        "* Statistical manifolds corresponding to Bregman divergences are flat manifolds in the corresponding geometry, allowing an analog of the Pythagorean theorem (which is traditionally true for squared Euclidean distance) to be used for linear inverse problems in inference by optimization theory.\n",
        "\n",
        "* Other important statistical distances include the Mahalanobis distance, the energy distance, and many others."
      ]
    },
    {
      "cell_type": "markdown",
      "metadata": {
        "id": "F_6VnI9tgsJe"
      },
      "source": [
        "https://en.m.wikipedia.org/wiki/Information_geometry\n",
        "\n",
        "https://en.m.wikipedia.org/wiki/Statistical_distance\n",
        "\n",
        "https://en.m.wikipedia.org/wiki/Divergence_(statistics)"
      ]
    },
    {
      "cell_type": "markdown",
      "metadata": {
        "id": "15ok6ieBgYkv"
      },
      "source": [
        "**Exkurs: Meaning of 'no symmetry' in divergences**"
      ]
    },
    {
      "cell_type": "markdown",
      "metadata": {
        "id": "bFglF2QTgaEc"
      },
      "source": [
        "* The Kullback-Leibler divergence is not symmetric. Roughly speaking, it's because you should think of the two arguments of the KL divergence as different kinds of things: the first argument is empirical data, and the second argument is a model you're comparing the data to. \n",
        "\n",
        "* Take a bunch of independent random variables $X_{1}, \\ldots, X_{n}$ whose possible values lie in a finite set.\n",
        "\n",
        "* Say these variables are identically distributed, with $\\operatorname{Pr}\\left(X_{i}=x\\right)=p_{x}$. Let $F_{n, x}$ be the number of variables whose values are equal to $x$. The list $F_{n}$ is a random variable, often called the \"empirical frequency distribution\" of the $X_{i} .$ What does $F_{n}$ look like when $n$ is very large?\n",
        "\n",
        "* More specifically, let's try to estimate the probabilities of the possible values of $F_{n} .$ since the set of possible values is different for different $n$, take a sequence of frequency distributions $f_{1}, f_{2}, f_{3}, \\ldots$ approaching a fixed frequency distribution $f$. It turns out $^{* *}$ that\n",
        "\n",
        "> $\\lim _{n \\rightarrow \\infty} \\frac{1}{n} \\ln \\operatorname{Pr}\\left(F_{n}=f_{n}\\right)=-\\mathrm{KL}(f, p)$ \n",
        "\n",
        "* In other words, the Kullback-Leibler divergence of $f$ from $p$ lets you estimate the probability of getting an empirical frequency distribution close to $f$ from a large number of independent random variables with distribution $p$.\n"
      ]
    },
    {
      "cell_type": "markdown",
      "metadata": {
        "id": "sEE5LAAygcf-"
      },
      "source": [
        "Excellent article \"Information Theory, Relative Entropy and Statistics,\" by [François Bavaud](https://link.springer.com/chapter/10.1007/978-3-642-00659-3_3)"
      ]
    },
    {
      "cell_type": "markdown",
      "metadata": {
        "id": "1geLcP8Pgut9"
      },
      "source": [
        "List of Distances Types\n",
        "\n",
        "'braycurtis': hdbscan.dist_metrics.BrayCurtisDistance\n",
        "\n",
        "'canberra': hdbscan.dist_metrics.CanberraDistance\n",
        "\n",
        "'chebyshev': hdbscan.dist_metrics.ChebyshevDistance\n",
        "\n",
        "'cityblock': hdbscan.dist_metrics.ManhattanDistance\n",
        "\n",
        "'dice': hdbscan.dist_metrics.DiceDistance\n",
        "\n",
        "'euclidean': hdbscan.dist_metrics.EuclideanDistance\n",
        "\n",
        "'hamming': hdbscan.dist_metrics.HammingDistance\n",
        "\n",
        "'haversine': hdbscan.dist_metrics.HaversineDistance\n",
        "\n",
        "'infinity': hdbscan.dist_metrics.ChebyshevDistance\n",
        "\n",
        "'jaccard': hdbscan.dist_metrics.JaccardDistance\n",
        "\n",
        "'kulsinski': hdbscan.dist_metrics.KulsinskiDistance\n",
        "\n",
        "'l1': hdbscan.dist_metrics.ManhattanDistance\n",
        "\n",
        "'l2': hdbscan.dist_metrics.EuclideanDistance\n",
        "\n",
        "'mahalanobis': hdbscan.dist_metrics.MahalanobisDistance\n",
        "\n",
        "'manhattan': hdbscan.dist_metrics.ManhattanDistance\n",
        "\n",
        "'matching': hdbscan.dist_metrics.MatchingDistance\n",
        "\n",
        "'minkowski': hdbscan.dist_metrics.MinkowskiDistance\n",
        "\n",
        "'p': hdbscan.dist_metrics.MinkowskiDistance\n",
        "\n",
        "'pyfunc': hdbscan.dist_metrics.PyFuncDistance\n",
        "\n",
        "'rogerstanimoto': hdbscan.dist_metrics.RogersTanimotoDistance\n",
        "\n",
        "'russellrao': hdbscan.dist_metrics.RussellRaoDistance\n",
        "\n",
        "'seuclidean': hdbscan.dist_metrics.SEuclideanDistance\n",
        "\n",
        "'sokalmichener': hdbscan.dist_metrics.SokalMichenerDistance\n",
        "\n",
        "'sokalsneath': hdbscan.dist_metrics.SokalSneathDistance\n",
        "\n",
        "'wminkowski': hdbscan.dist_metrics.WMinkowskiDistance\n",
        "\n",
        "https://hdbscan.readthedocs.io/en/latest/basic_hdbscan.html\n",
        "\n",
        "https://reference.wolfram.com/language/guide/DistanceAndSimilarityMeasures.html"
      ]
    },
    {
      "cell_type": "markdown",
      "metadata": {
        "id": "AmqQ5UuaFxPE"
      },
      "source": [
        "### **Regression & Forecasting** (mostly distance-based)"
      ]
    },
    {
      "cell_type": "markdown",
      "metadata": {
        "id": "MrnqfFqHXRuR"
      },
      "source": [
        "##### **Introduction**"
      ]
    },
    {
      "cell_type": "markdown",
      "metadata": {
        "id": "3Tv81yCGpTRK"
      },
      "source": [
        "![xx](https://raw.githubusercontent.com/deltorobarba/machinelearning/master/regression_loss.PNG)"
      ]
    },
    {
      "cell_type": "markdown",
      "metadata": {
        "id": "jqK34fPyXYSR"
      },
      "source": [
        "Loss functions that belong to the category \"distance-based\" are primarily used in regression problems. They utilize the numeric difference between the predicted output and the true target as a proxy variable to quantify the quality of individual predictions.\n",
        "\n"
      ]
    },
    {
      "cell_type": "markdown",
      "metadata": {
        "id": "vO5Zwg69Xagm"
      },
      "source": [
        "http://juliaml.github.io/LossFunctions.jl/stable/losses/distance/"
      ]
    },
    {
      "cell_type": "markdown",
      "metadata": {
        "id": "Ay6hGBmgcGgw"
      },
      "source": [
        "**(Linear) Least Squares**"
      ]
    },
    {
      "cell_type": "markdown",
      "metadata": {
        "id": "zu_NEtLMdK0u"
      },
      "source": [
        "* Least Squares: Deren Parameter werden so bestimmt, dass die Summe der Abweichungsquadrate e der Beobachtungen y von den Werten der Funktion minimiert wird.\n",
        "\n",
        "* Da die Kleinste-Quadrate-Schätzung die Residuenquadratsumme minimiert, ist es dasjenige Schätzverfahren, welches das [Bestimmtheitsmaß](https://de.wikipedia.org/wiki/Bestimmtheitsmaß) maximiert.\n",
        "\n",
        "* Das Bestimmtheitsmaß der Regression, auch empirisches Bestimmtheitsmaß, ist eine dimensionslose Maßzahl die den Anteil der Variabilität in den Messwerten der abhängigen Variablen ausdrückt, der durch das lineare Modell „erklärt“ wird. Mithilfe dieser Definition können die Extremwerte für das Bestimmtheitsmaß aufgezeigt werden. Für das\n",
        "Bestimmtheitsmaß gilt, dass es umso năher am Wert 1 ist, je kleiner die Residuenquadratsumme ist. Es wird maximal gleich 1 wenn $\\sum_{i=1}^{n}\\left(y_{i}-\\hat{y}_{i}\\right)^{2}=0$ ist, also alle Residuen null sind. In diesem Fall ist die Anpassung an die Daten perfekt, was bedeutet, dass für jede Beobachtung $y_{i}=\\hat{y}_{i}$ ist.\n",
        "\n",
        "* [Least Squares](https://en.wikipedia.org/wiki/Least_squares) / [Methode der kleinsten Quadrate](https://de.wikipedia.org/wiki/Methode_der_kleinsten_Quadrate) & [Linear Least Squares](https://en.wikipedia.org/wiki/Linear_least_squares)"
      ]
    },
    {
      "cell_type": "markdown",
      "metadata": {
        "id": "CpN5nnfyc3cD"
      },
      "source": [
        "**Gauss–Markov theorem (BLUE)**"
      ]
    },
    {
      "cell_type": "markdown",
      "metadata": {
        "id": "o91f4dHOc6Nh"
      },
      "source": [
        "*  states that the ordinary least squares (OLS) estimator has the lowest sampling variance within the class of linear unbiased estimators, **if the errors in the linear regression model are uncorrelated, have equal variances and expectation value of zero**.\n",
        "\n",
        "* stellt eine theoretische Rechtfertigung der Methode der kleinsten Quadrate dar\n",
        "\n",
        "* Der Satz besagt, dass in einem linearen Regressionsmodell, in dem die **Störgrößen (error term) einen Erwartungswert von null und eine konstante Varianz haben sowie unkorreliert sind** (Annahmen des klassischen linearen Regressionsmodells), der Kleinste-Quadrate-Schätzer – vorausgesetzt er existiert – ein bester linearer erwartungstreuer Schätzer ist (englisch Best Linear Unbiased Estimator, kurz: BLUE). \n",
        "\n",
        "* Hierbei bedeutet der „beste“, dass er – innerhalb der Klasse der linearen erwartungstreuen Schätzer – die „kleinste“ Kovarianzmatrix aufweist und somit minimalvariant ist. Die Störgrößen müssen nicht notwendigerweise normalverteilt sein. Sie müssen im Fall der verallgemeinerten Kleinste-Quadrate-Schätzung auch nicht unabhängig und identisch verteilt sein.\n",
        "\n",
        "The Gauss-Markov assumptions concern the set of error random variables, $\\varepsilon_{i}:$\n",
        "\n",
        "1. They have mean zero: $\\mathrm{E}\\left[\\varepsilon_{i}\\right]=0$ \n",
        "\n",
        "2. They are homoscedastic, that is all have the same finite variance: $\\operatorname{Var}\\left(\\varepsilon_{i}\\right)=\\sigma^{2}<\\infty$ for all $i$,\n",
        "3. Distinct error terms are uncorrelated: $\\operatorname{Cov}\\left(\\varepsilon_{i}, \\varepsilon_{j}\\right)=0, \\forall i \\neq j$.\n",
        "\n",
        "A linear estimator of $\\beta_{j}$ is a linear combination $\\widehat{\\beta}_{j}=c_{1 j} y_{1}+\\cdots+c_{n j} y_{n}$\n",
        "\n",
        "* The errors do not need to be normal, nor do they need to be independent and identically distributed (only uncorrelated with mean zero and homoscedastic with finite variance). \n",
        "\n",
        "* The requirement that the estimator be unbiased cannot be dropped, since biased estimators exist with lower variance. See, for example, the [James–Stein estimator](https://en.wikipedia.org/wiki/James–Stein_estimator) (which also drops linearity), [ridge regression(Tikhonov_regularization)](https://en.wikipedia.org/wiki/Tikhonov_regularization), or simply any [degenerate estimator](https://en.wikipedia.org/wiki/Degenerate_distribution).\n",
        "\n",
        "* https://en.wikipedia.org/wiki/Gauss–Markov_theorem"
      ]
    },
    {
      "cell_type": "markdown",
      "metadata": {
        "id": "JOS5wYbacIvh"
      },
      "source": [
        "**Ordinary Least Squares (OLS)**"
      ]
    },
    {
      "cell_type": "markdown",
      "metadata": {
        "id": "UpMvpZWbbvZb"
      },
      "source": [
        "* Ordinary least squares is a type of linear least squares method for estimating the unknown parameters in a linear regression model.  \n",
        "\n",
        "* “Ordinary Least Squares” (OLS) method is used to find the best line intercept (b) and the slope (m). [in y = mx + b, m is the slope and b the intercept]\n",
        "\n",
        "\n",
        "> $m=\\frac{\\sum\\left(x_{i}-\\bar{x}\\right)\\left(y_{i}-\\bar{y}\\right)}{\\sum\\left(x_{i}-\\bar{x}\\right)^{2}}$\n",
        "\n",
        "> $b=\\bar{y}-m * \\bar{x}$\n",
        "\n",
        "* In other words → with OLS Linear Regression the goal is to find the line (or hyperplane) that minimizes the vertical offsets. We define the best-fitting line as the line that minimizes the sum of squared errors (SSE) or mean squared error (MSE) between our target variable (y) and our predicted output over all samples i in our dataset of size n.\n",
        "\n",
        "* OLS chooses the parameters of a linear function of a set of explanatory variables by the principle of least squares: minimizing the sum of the squares of the differences between the observed dependent variable (values of the variable being observed) in the given dataset and those predicted by the linear function\n",
        "\n",
        "* The OLS method minimizes the sum of squared residuals, and leads to a [closed-form expression](https://en.wikipedia.org/wiki/Closed-form_expression) for the estimated value of the unknown parameter vector β.\n",
        "\n",
        "* It is important to point out though that OLS method will work for a univariate dataset (ie., single independent variables and single dependent variables). Multivariate dataset contains a single independent variables set and multiple dependent variables sets, requiring a machine learning algorithm called “Gradient Descent”.\n",
        "\n",
        "* [Wiki](https://en.wikipedia.org/wiki/Ordinary_least_squares) & [Medium](https://medium.com/@jorgesleonel/linear-regression-307937441a8b)"
      ]
    },
    {
      "cell_type": "markdown",
      "metadata": {
        "id": "kPkDdIB-cNzm"
      },
      "source": [
        "**Weighted Least Squares (WLS)**"
      ]
    },
    {
      "cell_type": "markdown",
      "metadata": {
        "id": "5Lnnftv7dCZi"
      },
      "source": [
        "* are used when heteroscedasticity is present in the error terms of the model.\n",
        "* https://en.wikipedia.org/wiki/Weighted_least_squares"
      ]
    },
    {
      "cell_type": "markdown",
      "metadata": {
        "id": "hXEOjvoPcTWG"
      },
      "source": [
        "**Generalized Least Squares (GLS)**"
      ]
    },
    {
      "cell_type": "markdown",
      "metadata": {
        "id": "XdLHRcoPc_2m"
      },
      "source": [
        "* is an extension of the OLS method, that **allows efficient estimation of β when either heteroscedasticity, or correlations, or both are present among the error terms of the model**, as long as the form of heteroscedasticity and correlation is known independently of the data. \n",
        "\n",
        "* To handle heteroscedasticity when the error terms are uncorrelated with each other, GLS minimizes a weighted analogue to the sum of squared residuals from OLS regression, where the weight for the ith case is inversely proportional to var(εi). This special case of GLS is called \"weighted least squares\". \n",
        "\n",
        "* https://en.wikipedia.org/wiki/Generalized_least_squares"
      ]
    },
    {
      "cell_type": "markdown",
      "metadata": {
        "id": "VVJqZBKKTJcX"
      },
      "source": [
        "##### **SE, SAE & SSE**"
      ]
    },
    {
      "cell_type": "markdown",
      "metadata": {
        "id": "CSGJLSQ_TbBo"
      },
      "source": [
        "**Sum of Errors (SE)** the difference in the predicted value and the actual value.\n",
        "\n",
        "$\\mathbf{L}=\\Sigma(\\hat{Y}-Y)$\n",
        "\n",
        "Errors terms cancel each other out. \n"
      ]
    },
    {
      "cell_type": "markdown",
      "metadata": {
        "id": "fzYBf5MKTvi-"
      },
      "source": [
        "**Sum of Absolute Errors (SAE)** takes the absolute values of the errors for all iterations.\n",
        "\n",
        "$\\mathbf{L}=\\Sigma (|\\hat{Y}-Y|)$\n",
        "\n",
        "This loss function is not differentiable at 0. "
      ]
    },
    {
      "cell_type": "markdown",
      "metadata": {
        "id": "6jN34GYcUXz9"
      },
      "source": [
        "**Sum of Squared Errors (SSE)** is differentiable at all points and gives non-negative errors. But you could argue that why cannot we go for higher orders like 4th order or so. Then what if we consider to take 4th order loss function, which would look like:\n",
        "\n",
        "$\\mathbf{L}=\\left[\\Sigma(\\hat{Y}-Y)^{2}\\right]$\n",
        "\n",
        "The gradient of the loss function will vanish at minima & maxima. And the error will grow with the sample size."
      ]
    },
    {
      "cell_type": "markdown",
      "metadata": {
        "id": "C1r2VOUPXMmq"
      },
      "source": [
        "![xxx](https://raw.githubusercontent.com/deltorobarba/machinelearning/master/sumoferrors.png)"
      ]
    },
    {
      "cell_type": "markdown",
      "metadata": {
        "id": "-IzwoGPnZRbx"
      },
      "source": [
        "* Minimizing Sum of Squared Errors / SSE ([wiki](https://de.m.wikipedia.org/wiki/Residuenquadratsumme) and [medium](https://medium.com/@dustinstansbury/cutting-your-losses-loss-functions-the-sum-of-squared-errors-loss-4c467d52a511)).  We can think of the SSE loss as the (unscaled) variance of the model errors. \n",
        "* Therefore **minimizing the SEE loss is equivalent to minimizing the variance of the model residuals**. For this reason, the sum of squares loss is often referred to as the Residual Sum of Squares error (RSS) for linear models. We can think of minimizing the SSE loss as maximizing the covariance between the real outputs and those predicted by the model.\n",
        "* Ideal when distribution of residuals in normal: the [Gauss-Markov theorem](https://en.wikipedia.org/wiki/Gauss–Markov_theorem) states that if errors of a linear function are distributed Normally about the mean of the line, then the LSS solution gives the [best unbiased estimator](https://en.wikipedia.org/wiki/Bias_of_an_estimator) for the parameters .\n",
        "* Problem: Because each error is squared, any outliers in the dataset can dominate the parameter estimation process. For this reason, the LSS loss is said to lack robustness. Therefore preprocessing of the the dataset (i.e. removing or thresholding outlier values) may be necessary when using the LSS loss"
      ]
    },
    {
      "cell_type": "markdown",
      "metadata": {
        "id": "zy6HK9uZG4NF"
      },
      "source": [
        "##### **MSE (L2) & RMSE**"
      ]
    },
    {
      "cell_type": "markdown",
      "metadata": {
        "id": "DhwL39dIoAR5"
      },
      "source": [
        "**Squared Euclidean Distance**"
      ]
    },
    {
      "cell_type": "markdown",
      "metadata": {
        "id": "4mHVqq2toEeh"
      },
      "source": [
        "* Squared Euclidean distance is of central importance in estimating parameters of statistical models, where it is used in the method of least squares, a standard approach to regression analysis. \n",
        "\n",
        "* The corresponding loss function is the squared error loss (SEL), and places progressively greater weight on larger errors. The corresponding risk function (expected loss) is mean squared error (MSE).\n",
        "\n",
        "* **Squared Euclidean distance is not a metric**, as it does not satisfy the triangle inequality. However, **it is a more general notion of distance, namely a divergence** (specifically a Bregman divergence), and can be used as a statistical distance. "
      ]
    },
    {
      "cell_type": "markdown",
      "metadata": {
        "id": "kjoet-ldoMGv"
      },
      "source": [
        "https://en.m.wikipedia.org/wiki/Euclidean_distance#Squared_Euclidean_distance"
      ]
    },
    {
      "cell_type": "markdown",
      "metadata": {
        "id": "avYjKTJLgym1"
      },
      "source": [
        "![bb](https://upload.wikimedia.org/wikipedia/commons/thumb/1/13/3d-function-2.svg/566px-3d-function-2.svg.png)"
      ]
    },
    {
      "cell_type": "markdown",
      "metadata": {
        "id": "ZzQChHhag2sJ"
      },
      "source": [
        "*A paraboloid, the graph of squared Euclidean distance from the origin*"
      ]
    },
    {
      "cell_type": "markdown",
      "metadata": {
        "id": "l37ol-1xg6yd"
      },
      "source": [
        "![bb](https://upload.wikimedia.org/wikipedia/commons/thumb/1/12/3d-function-5.svg/566px-3d-function-5.svg.png)"
      ]
    },
    {
      "cell_type": "markdown",
      "metadata": {
        "id": "jbkxPutkg_cF"
      },
      "source": [
        "*A cone, the graph of Euclidean distance from the origin in the plane*"
      ]
    },
    {
      "cell_type": "markdown",
      "metadata": {
        "id": "xH6KPYDJfgjs"
      },
      "source": [
        "**Mean Squared Error**"
      ]
    },
    {
      "cell_type": "code",
      "metadata": {
        "id": "_a9PTm_aGIaH"
      },
      "source": [
        "loss = 'mse'"
      ],
      "execution_count": null,
      "outputs": []
    },
    {
      "cell_type": "markdown",
      "metadata": {
        "id": "roP8IXhWVyqD"
      },
      "source": [
        "$\\mathrm{MSE}={\\frac{1}{n} \\sum_{j=1}^{n}\\left(y_{j}-\\hat{y}_{j}\\right)^{2}}$"
      ]
    },
    {
      "cell_type": "markdown",
      "metadata": {
        "id": "FlQ3pcb3JrHK"
      },
      "source": [
        "* Mean Squared Error (L2 or Quadratic Loss). Error decreases as we increase our sample data as the distribution of our data becomes more and more narrower (referring to normal distribution). The more data we have, the less is the error.\n",
        "* Can range from 0 to ∞ and are indifferent to the direction of errors. It is  negatively-oriented scores, which means lower values are better. It is always non – negative and values close to zero are better. The MSE is the second moment of the error (about the origin) and thus incorporates both the variance of the estimator and its bias.\n",
        "* Problem: Sensitive to outliers and the order of loss is more than that of the data. As my data is of order 1 and the loss function, MSE has an order of 2 (squared). So we cannot directly correlate data with the error. \n",
        "* [Wikipedia](https://de.m.wikipedia.org/wiki/Methode_der_kleinsten_Quadrate)"
      ]
    },
    {
      "cell_type": "code",
      "metadata": {
        "id": "wutQa1GTppX9",
        "outputId": "9815f758-caab-4428-f857-d6548773fc0b",
        "colab": {
          "base_uri": "https://localhost:8080/",
          "height": 322
        }
      },
      "source": [
        "import numpy as np\n",
        "import matplotlib.pyplot as plt\n",
        "import seaborn as sns\n",
        "\n",
        "# MSE loss function\n",
        "def mse_loss(y_pred, y_true):\n",
        "    squared_error = (y_pred - y_true) ** 2\n",
        "    sum_squared_error = np.sum(squared_error)\n",
        "    loss = sum_squared_error / y_true.size\n",
        "    return loss\n",
        "    \n",
        "# Plotting\n",
        "x_vals = np.arange(-20, 20, 0.01)\n",
        "y_vals = np.square(x_vals)\n",
        "\n",
        "sns.set(rc={'figure.figsize':(10, 5), \"lines.linewidth\": 1.0})\n",
        "# plt.plot(x_vals, y_vals, \"blue\")\n",
        "plt.plot(x_vals, y_vals)\n",
        "plt.grid(True, which=\"major\")\n",
        "plt.axhline(y=0, color='red', linestyle='--', linewidth=1.0)\n",
        "plt.axvline(x=0, color='red', linestyle='--', linewidth=1.0)\n",
        "plt.show()"
      ],
      "execution_count": null,
      "outputs": [
        {
          "output_type": "display_data",
          "data": {
            "image/png": "[encoded data removed]",
            "text/plain": [
              "<Figure size 720x360 with 1 Axes>"
            ]
          },
          "metadata": {
            "tags": []
          }
        }
      ]
    },
    {
      "cell_type": "code",
      "metadata": {
        "id": "WRmCUqgTgkLt"
      },
      "source": [
        "def mse(predictions, targets):\n",
        "    # Retrieving number of samples in dataset\n",
        "    samples_num = len(predictions)\n",
        "    \n",
        "    # Summing square differences between predicted and expected values\n",
        "    accumulated_error = 0.0\n",
        "    for prediction, target in zip(predictions, targets):\n",
        "        accumulated_error += (prediction - target)**2\n",
        "        \n",
        "    # Calculating mean and dividing by 2\n",
        "    mae_error = (1.0 / (2*samples_num)) * accumulated_error\n",
        "    \n",
        "    return mae_error"
      ],
      "execution_count": null,
      "outputs": []
    },
    {
      "cell_type": "code",
      "metadata": {
        "id": "6bYdhcdnwE66"
      },
      "source": [
        "def MSE(y_predicted, y):\n",
        "  squared_error = (y_predicted - y) ** 2\n",
        "  sum_squared_error = np.sum(squared_error)\n",
        "  mse = sum_squared_error / y.size\n",
        "  return(mse)"
      ],
      "execution_count": null,
      "outputs": []
    },
    {
      "cell_type": "markdown",
      "metadata": {
        "id": "iztigyeof0qt"
      },
      "source": [
        "**Mean Squared Logarithmic Error (MSLR)**"
      ]
    },
    {
      "cell_type": "code",
      "metadata": {
        "id": "YVndjV5xf5tY"
      },
      "source": [
        ""
      ],
      "execution_count": null,
      "outputs": []
    },
    {
      "cell_type": "markdown",
      "metadata": {
        "id": "a0fMbvjdf57W"
      },
      "source": [
        "* Mean Squared Logarithmic Error\n",
        "* https://www.tensorflow.org/api_docs/python/tf/keras/losses/MeanSquaredLogarithmicError"
      ]
    },
    {
      "cell_type": "markdown",
      "metadata": {
        "id": "Z1FZ-FjIfW1T"
      },
      "source": [
        "**RMSE**"
      ]
    },
    {
      "cell_type": "code",
      "metadata": {
        "id": "3cE7mWb3fYeP"
      },
      "source": [
        "tf.keras.metrics.RootMeanSquaredError(\n",
        "    name='root_mean_squared_error', dtype=None\n",
        ")"
      ],
      "execution_count": null,
      "outputs": []
    },
    {
      "cell_type": "markdown",
      "metadata": {
        "id": "aGKvemXQTxrG"
      },
      "source": [
        "$\\mathrm{RMSE}=\\sqrt{\\frac{1}{n} \\sum_{j=1}^{n}\\left(y_{j}-\\hat{y}_{j}\\right)^{2}}$"
      ]
    },
    {
      "cell_type": "markdown",
      "metadata": {
        "id": "W7DiXtVUfZv3"
      },
      "source": [
        "* Root-Mean-Square Error is the distance, on average, of a data point from the fitted line, measured along a vertical line.\n",
        "* The **RMSE is directly interpretable in terms of measurement units**, and so is a better measure of goodness of fit than a correlation coefficient. One can compare the RMSE to observed variation in measurements of a typical point. The two should be similar for a reasonable fit. Metric can range from 0 to ∞ and are indifferent to the direction of errors. It is  negatively-oriented scores, which means lower values are better.\n",
        "* Since the errors are squared before they are averaged, the RMSE gives a relatively high weight to large errors. This means the RMSE should be more useful when large errors are particularly undesirable\n",
        "* https://www.sciencedirect.com/science/article/pii/S096014811831231X\n",
        "* The **RMSE is more appropriate to represent model performance than the MAE when the error distribution is expected to be Gaussian**.\n",
        "https://www.geosci-model-dev-discuss.net/7/C473/2014/gmdd-7-C473-2014-supplement.pdf\n",
        "* When both metrics are calculated, the MAE tends to be much smaller than the RMSE because the RMSE penalizes large errors while the MAE gives the same weight to all errors.\n",
        "* They summarized that the **RMSE tends to become increasingly larger than the MAE** (but not necessarily in a monotonic fashion) as the distribution of error magnitudes becomes more variable. The RMSE tends to 1 grow larger than the MAE with n2 since its lower limit is fixed at the MAE and its upper 11 limit (n2 · MAE) increases with n2 .\n",
        "* [Wiki](https://en.m.wikipedia.org/wiki/Root-mean-square_deviation) & [Keras](https://www.tensorflow.org/api_docs/python/tf/keras/metrics/RootMeanSquaredError)"
      ]
    },
    {
      "cell_type": "markdown",
      "metadata": {
        "id": "taoM__MVSAbf"
      },
      "source": [
        "**RMSLE**"
      ]
    },
    {
      "cell_type": "code",
      "metadata": {
        "id": "sHCT13-gSDAw"
      },
      "source": [
        ""
      ],
      "execution_count": null,
      "outputs": []
    },
    {
      "cell_type": "markdown",
      "metadata": {
        "id": "cZUhp1-tSJXq"
      },
      "source": [
        "* Abzüge für Fehler nach der relativen Größe statt des absoluten Werts vornehmen. Das ist besonders hilfreich, wenn sowohl die vorhergesagten als auch die tatsächlichen Werte sehr groß werden können. Nicht gültig für eine Zielspalte mit negativen Werten"
      ]
    },
    {
      "cell_type": "markdown",
      "metadata": {
        "id": "TrujRpndSDa7"
      },
      "source": [
        "**RMSPE**"
      ]
    },
    {
      "cell_type": "code",
      "metadata": {
        "id": "27unxIPOSE7D"
      },
      "source": [
        ""
      ],
      "execution_count": null,
      "outputs": []
    },
    {
      "cell_type": "markdown",
      "metadata": {
        "id": "MUL3Y97WG7n6"
      },
      "source": [
        "##### **MAE (L1) & MAPE**"
      ]
    },
    {
      "cell_type": "code",
      "metadata": {
        "id": "wTBTWNouBf4e"
      },
      "source": [
        "loss = 'mae'"
      ],
      "execution_count": null,
      "outputs": []
    },
    {
      "cell_type": "markdown",
      "metadata": {
        "id": "K0l6NTY_T00L"
      },
      "source": [
        "$\\mathrm{MAE}=\\frac{1}{n} \\sum_{j=1}^{n}\\left|y_{j}-\\hat{y}_{j}\\right|$"
      ]
    },
    {
      "cell_type": "code",
      "metadata": {
        "id": "3RPbrLn8qpqc",
        "outputId": "d8db94a2-27f8-440c-fd0e-ab1c52d56883",
        "colab": {
          "base_uri": "https://localhost:8080/",
          "height": 322
        }
      },
      "source": [
        "import numpy as np\n",
        "import matplotlib.pyplot as plt\n",
        "import seaborn as sns\n",
        "\n",
        "# MAE loss function\n",
        "def mae_loss(y_pred, y_true):\n",
        "    abs_error = np.abs(y_pred - y_true)\n",
        "    sum_abs_error = np.sum(abs_error)\n",
        "    loss = sum_abs_error / y_true.size\n",
        "    return loss\n",
        "    \n",
        "# Plotting\n",
        "x_vals = np.arange(-100, 100, 0.01)\n",
        "y_vals = np.abs(x_vals)\n",
        "\n",
        "sns.set(rc={'figure.figsize':(10, 5), \"lines.linewidth\": 1.0})\n",
        "plt.plot(x_vals, y_vals)\n",
        "plt.grid(True, which=\"major\")\n",
        "plt.axhline(y=0, color='red', linestyle='--', linewidth=1.0)\n",
        "plt.axvline(x=0, color='red', linestyle='--', linewidth=1.0)\n",
        "plt.show()"
      ],
      "execution_count": null,
      "outputs": [
        {
          "output_type": "display_data",
          "data": {
            "image/png": "[encoded data removed]",
            "text/plain": [
              "<Figure size 720x360 with 1 Axes>"
            ]
          },
          "metadata": {
            "tags": []
          }
        }
      ]
    },
    {
      "cell_type": "markdown",
      "metadata": {
        "id": "QGmm_005WT6H"
      },
      "source": [
        "*If the absolute value is not taken (the signs of the errors are not removed), the average error becomes the Mean Bias Error (MBE) and is usually intended to measure average model bias. MBE can convey useful information, but should be interpreted cautiously because positive and negative errors will cancel out.*"
      ]
    },
    {
      "cell_type": "markdown",
      "metadata": {
        "id": "dwewFlH5dtSO"
      },
      "source": [
        "* Mean Absolute Error (L1 Loss)\n",
        "* Computes the mean of absolute difference between labels and predictions\n",
        "* measures the average magnitude of the errors in a set of predictions, without considering their direction. It’s the average over the test sample of the absolute differences between prediction and actual observation where all individual differences have equal weight.\n",
        "* On some regression problems, the **distribution of the target variable may be mostly Gaussian, but may have outliers**, e.g. large or small values far from the mean value. The Mean Absolute Error, or MAE, loss is an appropriate loss function in this case as it is more robust to outliers. It is calculated as the average of the absolute difference between the actual and predicted values.\n",
        "* Metric can range from 0 to ∞ and are indifferent to the direction of errors. It is  negatively-oriented scores, which means lower values are better.\n",
        "* Extremwerte als Ausreißer mit geringerem Einfluss auf das Modell ansehen: MAE loss is useful if the training data is corrupted with outliers (i.e. we erroneously receive unrealistically huge negative/positive values in our training environment, but not our testing environment).\n"
      ]
    },
    {
      "cell_type": "code",
      "metadata": {
        "id": "fZlsXjjYguS_"
      },
      "source": [
        "def mae(predictions, targets):\n",
        "    # Retrieving number of samples in dataset\n",
        "    samples_num = len(predictions)\n",
        "    \n",
        "    # Summing absolute differences between predicted and expected values\n",
        "    accumulated_error = 0.0\n",
        "    for prediction, target in zip(predictions, targets):\n",
        "        accumulated_error += np.abs(prediction - target)\n",
        "        \n",
        "    # Calculating mean\n",
        "    mae_error = (1.0 / samples_num) * accumulated_error\n",
        "    \n",
        "    return mae_error"
      ],
      "execution_count": null,
      "outputs": []
    },
    {
      "cell_type": "markdown",
      "metadata": {
        "id": "by0MnQ9bN0LH"
      },
      "source": [
        "**MSE vs MSE**\n",
        "\n",
        "One big problem in using MAE loss (for neural nets especially) is that its gradient is the same throughout, which means the gradient will be large even for small loss values. This isn’t good for learning. To fix this, we can use dynamic learning rate which decreases as we move closer to the minima. MSE behaves nicely in this case and will converge even with a fixed learning rate. The gradient of MSE loss is high for larger loss values and decreases as loss approaches 0, making it more precise at the end of training (see figure below.)"
      ]
    },
    {
      "cell_type": "markdown",
      "metadata": {
        "id": "daG9qEDxOCyo"
      },
      "source": [
        "![xx](https://raw.githubusercontent.com/deltorobarba/machinelearning/master/mae_vs_mse.PNG)"
      ]
    },
    {
      "cell_type": "markdown",
      "metadata": {
        "id": "DNncxKvrUZ3k"
      },
      "source": [
        "**Mean Absolute Percentage Error (MAPE)**"
      ]
    },
    {
      "cell_type": "code",
      "metadata": {
        "id": "C0besM03eqMI"
      },
      "source": [
        "tf.keras.losses.MAPE(\n",
        "    y_true, y_pred\n",
        ")"
      ],
      "execution_count": null,
      "outputs": []
    },
    {
      "cell_type": "markdown",
      "metadata": {
        "id": "nC70VH4ftWSU"
      },
      "source": [
        "$\\mathrm{M}=\\frac{1}{n} \\sum_{t=1}^{n}\\left|\\frac{A_{t}-F_{t}}{A_{t}}\\right|$"
      ]
    },
    {
      "cell_type": "markdown",
      "metadata": {
        "id": "xCaQs6DTevbo"
      },
      "source": [
        "* The mean absolute percentage error (MAPE) is a statistical measure of **how accurate a forecast** system is. \n",
        "\n",
        "* It measures this accuracy as a percentage, and can be calculated as the average absolute percent error for each time period minus actual values divided by actual values. Where At is the actual value and Ft is the forecast value.\n",
        "\n",
        "* The mean absolute percentage error (MAPE) is the most common measure used to forecast error, and works best if there are no extremes to the data (and no zeros).\n",
        "\n",
        "* https://en.m.wikipedia.org/wiki/Mean_absolute_percentage_error"
      ]
    },
    {
      "cell_type": "markdown",
      "metadata": {
        "id": "W8-r2TGwefJj"
      },
      "source": [
        "**Symmetric Mean Absolute Percentage Error (sMAPE)**"
      ]
    },
    {
      "cell_type": "code",
      "metadata": {
        "id": "JfBnOe2TejxO"
      },
      "source": [
        "# Import Keras backend\n",
        "import keras.backend as K\n",
        "\n",
        "# Define SMAPE loss function\n",
        "def customLoss(true,predicted):\n",
        "    epsilon = 0.1\n",
        "    summ = K.maximum(K.abs(true) + K.abs(predicted) + epsilon, 0.5 + epsilon)\n",
        "    smape = K.abs(predicted - true) / summ * 2.0\n",
        "    return smape\n",
        "\n",
        "# https://medium.com/@mlguy/adding-custom-loss-and-optimizer-in-keras-e255764e1b7d"
      ],
      "execution_count": null,
      "outputs": []
    },
    {
      "cell_type": "markdown",
      "metadata": {
        "id": "sxNt8Ap4wuYc"
      },
      "source": [
        "There are 3 different definitions of sMAPE. 2 of them are below:"
      ]
    },
    {
      "cell_type": "markdown",
      "metadata": {
        "id": "phIyFqeIufVm"
      },
      "source": [
        "$\\operatorname{SMAPE}=\\frac{100 \\%}{n} \\sum_{t=1}^{n} \\frac{\\left|F_{t}-A_{t}\\right|}{\\left(\\left|A_{t}\\right|+\\left|F_{t}\\right|\\right) / 2}$"
      ]
    },
    {
      "cell_type": "markdown",
      "metadata": {
        "id": "trnmeQ--ezQl"
      },
      "source": [
        "* Symmetric mean absolute percentage error (SMAPE or sMAPE) is an accuracy measure based on percentage (or relative) errors. \n",
        "\n",
        "* At is the actual value and Ft is the forecast value\n",
        "\n",
        "* The absolute difference between At and Ft is divided by half the sum of absolute values of the actual value At and the forecast value Ft. The value of this calculation is summed for every fitted point t and divided again by the number of fitted points n.\n",
        "\n",
        "* Armstrong's original definition is as follows:\n",
        "\n",
        "$\\mathrm{SMAPE (old)}=\\frac{1}{n} \\sum_{t=1}^{n} \\frac{\\left|F_{t}-A_{t}\\right|}{\\left(A_{t}+F_{t}\\right) / 2}$\n",
        "\n",
        "* The problem is that it can be negative (if ${\\displaystyle A_{t}+F_{t}<0}$) or even undefined (if ${\\displaystyle A_{t}+F_{t}=0}$). Therefore the currently accepted version of SMAPE assumes the absolute values in the denominator.\n",
        "\n",
        "* In contrast to the mean absolute percentage error, SMAPE has both a lower bound and an upper bound. Indeed, the formula above provides a result between 0% and 200%. However a percentage error between 0% and 100% is much easier to interpret. That is the reason why the formula below is often used in practice (i.e. no factor 0.5 in denominator)\n",
        "\n",
        "* One supposed problem with SMAPE is that it is not symmetric since over- and under-forecasts are not treated equally. This is illustrated by the following example by applying the second SMAPE formula:\n",
        "\n",
        "  * Over-forecasting: At = 100 and Ft = 110 give SMAPE = 4.76%\n",
        "\n",
        "  * Under-forecasting: At = 100 and Ft = 90 give SMAPE = 5.26%.\n",
        "\n",
        "* [Wiki](https://en.m.wikipedia.org/wiki/Symmetric_mean_absolute_percentage_error) & [Wiki2](https://wiki2.org/en/Symmetric_mean_absolute_percentage_error) & [other](https://www.brightworkresearch.com/the-problem-with-using-smape-for-forecast-error-measurement/)"
      ]
    },
    {
      "cell_type": "markdown",
      "metadata": {
        "id": "29IIXN87yRoG"
      },
      "source": [
        "**Mean absolute scaled error (MASE)**"
      ]
    },
    {
      "cell_type": "code",
      "metadata": {
        "id": "7O8_TzRzyWQy"
      },
      "source": [
        ""
      ],
      "execution_count": null,
      "outputs": []
    },
    {
      "cell_type": "markdown",
      "metadata": {
        "id": "imOQ42osyYZk"
      },
      "source": [
        "* mean absolute scaled error (MASE) is a measure of the accuracy of forecasts.\n",
        "\n",
        "*  It is the mean absolute error of the forecast values, divided by the mean absolute error of the in-sample one-step naive forecast. It was proposed in 2005.\n",
        "\n",
        "* The mean absolute scaled error has the following desirable propertie: [Wiki](https://en.wikipedia.org/wiki/Mean_absolute_scaled_error)"
      ]
    },
    {
      "cell_type": "markdown",
      "metadata": {
        "id": "M9V8uoymHN3M"
      },
      "source": [
        "##### **Huber**"
      ]
    },
    {
      "cell_type": "code",
      "metadata": {
        "id": "78swAUdn5ftf"
      },
      "source": [
        "loss = tf.keras.losses.Huber(delta=10.0, name='huber_loss')"
      ],
      "execution_count": null,
      "outputs": []
    },
    {
      "cell_type": "markdown",
      "metadata": {
        "id": "OhS0rF_24E-C"
      },
      "source": [
        "TLDR: will better find a minimum than L1, but less exposed to outliers than L2. However one has to tune the hyperparameter delta. The larger (3+), the more it is L2, the smaller (1), the more it is L1."
      ]
    },
    {
      "cell_type": "markdown",
      "metadata": {
        "id": "rGqUQWVHzd2E"
      },
      "source": [
        "![huber](https://raw.githubusercontent.com/deltorobarba/machinelearning/master/huberloss.jpg)"
      ]
    },
    {
      "cell_type": "markdown",
      "metadata": {
        "id": "6yXcWmMUzv8G"
      },
      "source": [
        "* For target = 0, the loss increases when the error increases. However, the speed with which it increases depends on this 𝛿 value. In fact, Grover (2019) writes about this as follows: Huber loss approaches MAE when 𝛿 ~ 0 and MSE when 𝛿 ~ ∞ (large numbers.)\n"
      ]
    },
    {
      "cell_type": "markdown",
      "metadata": {
        "id": "NonIaG1MOoo6"
      },
      "source": [
        "![xx](https://upload.wikimedia.org/wikipedia/commons/thumb/c/cc/Huber_loss.svg/320px-Huber_loss.svg.png)\n",
        "\n",
        "*Huber loss (green, \n",
        "δ\n",
        "=\n",
        "1) and squared error loss (blue) as a function of \n",
        "y\n",
        "−\n",
        "f\n",
        "(\n",
        "x\n",
        ")*"
      ]
    },
    {
      "cell_type": "markdown",
      "metadata": {
        "id": "dbvRBSBjQLJC"
      },
      "source": [
        "$L_{\\delta}(y, f(x))=\\left\\{\\begin{array}{ll}\n",
        "\\frac{1}{2}(y-f(x))^{2} & \\text { for }|y-f(x)| \\leq \\delta \\\\\n",
        "\\delta|y-f(x)|-\\frac{1}{2} \\delta^{2} & \\text { otherwise }\n",
        "\\end{array}\\right.$"
      ]
    },
    {
      "cell_type": "markdown",
      "metadata": {
        "id": "HLnk6D7kz6MR"
      },
      "source": [
        "When you compare this statement with the benefits and disbenefits of both the MAE and the MSE, you’ll gain some insights about how to adapt this delta parameter:\n",
        "\n",
        "* **If your dataset contains large outliers**, it’s likely that your model will not be able to predict them correctly at once. In fact, it might take quite some time for it to recognize these, if it can do so at all. This results in large errors between predicted values and actual targets, because they’re outliers. Since MSE squares errors, large outliers will distort your loss value significantly. If outliers are present, you likely don’t want to use MSE. Huber loss will still be useful, but you’ll have to use small values for 𝛿.\n",
        "\n",
        "* If it does not contain many outliers, it’s likely that it will generate quite accurate predictions from the start – or at least, from some epochs after starting the training process. In this case, you may observe that the errors are very small overall. Then, one can argue, it may be worthwhile to let the largest small errors contribute more significantly to the error than the smaller ones. In this case, MSE is actually useful; hence, with Huber loss, you’ll likely want to use quite large values for 𝛿.\n",
        "\n",
        "* If you don’t know, you can always start somewhere in between – for example, in the plot above, 𝛿 = 1 represented MAE quite accurately, while 𝛿 = 3 tends to go towards MSE already. What if you used 𝛿 = 1.5 instead? You may benefit from both worlds.\n",
        "\n",
        "https://www.machinecurve.com/index.php/2019/10/12/using-huber-loss-in-keras/"
      ]
    },
    {
      "cell_type": "markdown",
      "metadata": {
        "id": "iU6KtzGg34eN"
      },
      "source": [
        "The biggest problem with using MAE to train neural networks is the constant large gradient, which may cause the minimum point to be missed when the gradient descent is about to end. For MSE, the gradient will decrease as the loss decreases, making the result more accurate.\n",
        "\n",
        "In this case, Huber loss is very useful. It will fall near the minimum value due to the decreasing gradient. It is more robust to outliers than MSE. Therefore, Huber loss combines the advantages of MSE and MAE. However, the problem with Huber loss is that we may need to constantly adjust the hyperparameters\n",
        "\n",
        "https://www.programmersought.com/article/86974383768/"
      ]
    },
    {
      "cell_type": "code",
      "metadata": {
        "id": "J3_rXmIerEhD",
        "outputId": "b7a3251b-c5e8-47b2-cc92-aec522600bc6",
        "colab": {
          "base_uri": "https://localhost:8080/",
          "height": 323
        }
      },
      "source": [
        "import matplotlib.pyplot as plt\n",
        "import numpy as np\n",
        "import seaborn as sns\n",
        "\n",
        "# Huber loss function\n",
        "def huber_loss(y_pred, y, delta=1.0):\n",
        "    huber_mse = 0.5*(y-y_pred)**2\n",
        "    huber_mae = delta * (np.abs(y - y_pred) - 0.5 * delta)\n",
        "    return np.where(np.abs(y - y_pred) <= delta, huber_mse, huber_mae)\n",
        "    \n",
        "# Plotting\n",
        "x_vals = np.arange(-65, 65, 0.01)\n",
        "\n",
        "# Hyperparameter\n",
        "delta = 1.5\n",
        "\n",
        "# Formula\n",
        "huber_mse = 0.5*np.square(x_vals)\n",
        "huber_mae = delta * (np.abs(x_vals) - 0.5 * delta)\n",
        "y_vals = np.where(np.abs(x_vals) <= delta, huber_mse, huber_mae)\n",
        "\n",
        "sns.set(rc={'figure.figsize':(10, 5), \"lines.linewidth\": 1.0})\n",
        "plt.plot(x_vals, y_vals)\n",
        "plt.axhline(y=0, color='red', linestyle='--', linewidth=1.0)\n",
        "plt.axvline(x=0, color='red', linestyle='--', linewidth=1.0)\n",
        "plt.grid(True, which=\"major\")\n",
        "plt.show()\n",
        "\n",
        "# https://towardsdatascience.com/understanding-the-3-most-common-loss-functions-for-machine-learning-regression-23e0ef3e14d3"
      ],
      "execution_count": null,
      "outputs": [
        {
          "output_type": "display_data",
          "data": {
            "image/png": "[encoded data removed]",
            "text/plain": [
              "<Figure size 720x360 with 1 Axes>"
            ]
          },
          "metadata": {
            "tags": []
          }
        }
      ]
    },
    {
      "cell_type": "markdown",
      "metadata": {
        "id": "2u-W2FmUOZAC"
      },
      "source": [
        "* Huber Loss (Smooth Mean Absolute Error)\n",
        "\n",
        "* The Huber loss **combines the best properties of MSE and MAE** (Mean Absolute Error). It is quadratic for smaller errors and is linear otherwise (and similarly for its gradient). It is identified by its delta parameter.\n",
        "\n",
        "* It's **less sensitive to outliers** in data than the squared error loss. It’s **also differentiable at 0**. It’s basically absolute error, which becomes quadratic when error is small.  How small that error has to be to make it quadratic depends on a hyperparameter 𝛿. \n",
        "\n",
        "* Once differentiable.\n",
        "\n",
        "* **Huber loss approaches MSE when 𝛿 ~ 0 and MAE when 𝛿 ~ ∞**\n",
        "\n",
        "* The choice of delta is critical because it determines what you’re willing to consider as an outlier. Residuals larger than delta are minimized with L1 (which is less sensitive to large outliers), while residuals smaller than delta are minimized “appropriately” with L2.\n",
        "\n",
        "* One big problem with using MAE for training of neural nets is its constantly large gradient, which can lead to missing minima at the end of training using gradient descent. For MSE, gradient decreases as the loss gets close to its minima, making it more precise.\n",
        "Huber loss can be really helpful in such cases, as it curves around the minima which decreases the gradient. And it’s more robust to outliers than MSE. Therefore, **it combines good properties from both MSE and MAE**. \n",
        "\n",
        "* However, the problem with Huber loss is that we might need to train hyperparameter delta which is an iterative process.\n",
        "\n",
        "* [Wiki](https://en.m.wikipedia.org/wiki/Huber_loss) * [TensorFlow](https://www.tensorflow.org/api_docs/python/tf/keras/losses/Huber)"
      ]
    },
    {
      "cell_type": "markdown",
      "metadata": {
        "id": "i7utPdOPHfya"
      },
      "source": [
        "##### **Log-Cosh**"
      ]
    },
    {
      "cell_type": "markdown",
      "metadata": {
        "id": "-duKUH6p4kD-"
      },
      "source": [
        "TLDR: Similar to MAE, will not be affected by outliers. Log-Cosh has all the points of Huber loss, and no need to set hyperparameters. Compared with Huber, Log-Cosh derivation is more complicated, requires more computation, and is not used much in deep learning. \n"
      ]
    },
    {
      "cell_type": "code",
      "metadata": {
        "id": "4txMn1YnHjXc"
      },
      "source": [
        "loss = tf.keras.losses.LogCosh()"
      ],
      "execution_count": null,
      "outputs": []
    },
    {
      "cell_type": "markdown",
      "metadata": {
        "id": "kUYfXn-xLED_"
      },
      "source": [
        "* Log-cosh is another function used in regression tasks that’s smoother than L2 (is smoothed towards large errors (presumably caused by outliers) so that the final error score isn’t impacted thoroughly.)\n",
        "* Log-cosh is the logarithm of the hyperbolic cosine of the prediction error. “Log-cosh is the logarithm of the hyperbolic cosine of the prediction error.” (Grover, 2019). Oops, that’s not intuitive but nevertheless quite important – this is the maths behind Logcosh loss:\n",
        "\n",
        "> $\\log \\cosh (t)=\\sum_{p \\in P} \\log (\\cosh (p-t))$\n",
        "\n",
        "* Similar to Huber Loss, but twice differentiable everywhere\n",
        "* [Wiki Hyperbolic Functions](https://en.m.wikipedia.org/wiki/Hyperbolic_functions), [TF Class](https://www.tensorflow.org/api_docs/python/tf/keras/losses/LogCosh), [Machinecurve](https://www.machinecurve.com/index.php/2019/10/23/how-to-use-logcosh-with-keras/)"
      ]
    },
    {
      "cell_type": "markdown",
      "metadata": {
        "id": "LCIfX2d12UxJ"
      },
      "source": [
        "![logcosh](https://raw.githubusercontent.com/deltorobarba/machinelearning/master/logcosh.jpeg)"
      ]
    },
    {
      "cell_type": "markdown",
      "metadata": {
        "id": "Nl2bx-Q843c_"
      },
      "source": [
        "However, Log-Cosh is second-order differentiable everywhere, which is still very useful in some machine learning models. For example, XGBoost uses Newton's method to find the best advantage. Newton's method requires solving the second derivative (Hessian). Therefore, for machine learning frameworks such as XGBoost, the second order of the loss function is differentiable. But the Log-cosh loss is not perfect, and there are still some problems. For example, if the error is large, the first step and Hessian will become fixed, which leads to the lack of split points in XGBoost.\n",
        "\n",
        "https://www.programmersought.com/article/86974383768/"
      ]
    },
    {
      "cell_type": "markdown",
      "metadata": {
        "id": "-bRPT7j2Hjpr"
      },
      "source": [
        "##### **Quantile**"
      ]
    },
    {
      "cell_type": "markdown",
      "metadata": {
        "id": "qgCQiqB46fK5"
      },
      "source": [
        "TLDR: for Heteroskedastizität, i.e. for risk management when variance changes. Quantile Loss, you can set different quantiles to control the proportion of overestimation and underestimation in loss."
      ]
    },
    {
      "cell_type": "code",
      "metadata": {
        "id": "7gNvk2yzHko8"
      },
      "source": [
        "loss = tfa.losses.PinballLoss(tau=.1)"
      ],
      "execution_count": null,
      "outputs": []
    },
    {
      "cell_type": "markdown",
      "metadata": {
        "id": "klWHgHHm4_R4"
      },
      "source": [
        "The usual regression algorithm is to fit the expected or median training data, and the quantile loss function can be used to fit different quantiles of training data by giving different quantiles. As shown below\n",
        "\n"
      ]
    },
    {
      "cell_type": "markdown",
      "metadata": {
        "id": "iabSraKQ5LY6"
      },
      "source": [
        "![sdd](https://raw.githubusercontent.com/deltorobarba/machinelearning/master/quantileloss.jpg)"
      ]
    },
    {
      "cell_type": "markdown",
      "metadata": {
        "id": "v1iavs6u5Q84"
      },
      "source": [
        "Set different quantiles to fit different straight lines.\n",
        "\n"
      ]
    },
    {
      "cell_type": "markdown",
      "metadata": {
        "id": "7WY_2hBO58EU"
      },
      "source": [
        "This function is a piecewise functio., γ is the quantile coefficient. y is the true value, f(x) is the predicted value. According to the size of the predicted value and the true value, there are two cases to consider. \n",
        "\n",
        "y>f(x) For overestimation, the predicted value is greater than the true value; \n",
        "\n",
        "y<f(x) to underestimate, the predicted value is smaller than the real value.\n",
        "\n",
        "Use different pass coefficients to control the weight of overestimation and underestimation in the entire loss value."
      ]
    },
    {
      "cell_type": "markdown",
      "metadata": {
        "id": "Ql_nd2Cr5yud"
      },
      "source": [
        "Especially when γ=0.5 When the quantile loss degenerates into the mean absolute error MAE, **MAE can also be regarded as a special case of quantile loss-median loss**. The picture below is taken with different median points [0.25,0.5,0.7] Obtaining different quantile loss function curves can also be seen as MAE at 0.5."
      ]
    },
    {
      "cell_type": "markdown",
      "metadata": {
        "id": "9FZwvyGy5q51"
      },
      "source": [
        "![fgfgf](https://raw.githubusercontent.com/deltorobarba/machinelearning/master/quantileloss2.jpg)"
      ]
    },
    {
      "cell_type": "markdown",
      "metadata": {
        "id": "A23UY_EtKCYA"
      },
      "source": [
        "![xx](https://upload.wikimedia.org/wikipedia/commons/thumb/b/b7/Pinball_Loss_Function.svg/320px-Pinball_Loss_Function.svg.png)\n",
        "\n",
        "*Pinball-Verlustfunktion mit \n",
        "τ\n",
        "=0,9. Für \n",
        "ε\n",
        "<\n",
        "0 beträgt der Fehler \n",
        "−\n",
        "0\n",
        ",\n",
        "1\n",
        "ε, für \n",
        "ε\n",
        "≥\n",
        "0 beträgt er \n",
        "0\n",
        ",\n",
        "9\n",
        "ε.*"
      ]
    },
    {
      "cell_type": "markdown",
      "metadata": {
        "id": "V61VVogsIIED"
      },
      "source": [
        "* Quantile Loss (Pinball Loss)\n",
        "* estimates conditional “quantile” of a response variable given certain values of predictor variables\n",
        "* is an extension of MAE (**when quantile is 50th percentile, it’s MAE**)\n",
        "* Im Gegensatz zur Kleinste-Quadrate-Schätzung, die den Erwartungswert der Zielgröße schätzt, ist die Quantilsregression dazu geeignet, ihre Quantile zu schätzen.\n",
        "* Fitting models for many percentiles, you can estimate the entire conditional distribution. Often, the answers to important questions are found by modeling percentiles in the tails of the distribution. For that reason **quantile regression provides critical insights in financial risk management & fraud detection**. \n",
        "* [Wikipedia](https://de.m.wikipedia.org/wiki/Quantilsregression), [TF Class](https://www.tensorflow.org/addons/api_docs/python/tfa/losses/PinballLoss) & [TF Function](https://www.tensorflow.org/addons/api_docs/python/tfa/losses/pinball_loss)"
      ]
    },
    {
      "cell_type": "markdown",
      "metadata": {
        "id": "Q1zREy6LgiWc"
      },
      "source": [
        "https://www.evergreeninnovations.co/blog-quantile-loss-function-for-machine-learning/"
      ]
    },
    {
      "cell_type": "markdown",
      "metadata": {
        "id": "IT0gbfKEf9MY"
      },
      "source": [
        "* project where predictions were subject to high uncertainty. The client required for their decision to be driven by both the predicted machine learning output and a measure of the potential prediction error. The quantile regression loss function solves this and similar problems by replacing a single value prediction by prediction intervals.\n",
        "\n",
        "* The quantile regression loss function is applied to predict quantiles. A quantile is the value below which a fraction of observations in a group falls. For example, a prediction for quantile 0.9 should over-predict 90% of the times.\n",
        "\n",
        "* For q equal to 0.5, under-prediction and over-prediction will be penalized by the same factor, and the median is obtained. The larger the value of q, the more over-predictions are penalized compared to under-predictions. For q equal to 0.75, over-predictions will be penalized by a factor of 0.75, and under-predictions by a factor of 0.25. The model will then try to avoid over-predictions approximately three times as hard as under-predictions, and the 0.75 quantile will be obtained."
      ]
    },
    {
      "cell_type": "markdown",
      "metadata": {
        "id": "bB89shlnkga3"
      },
      "source": [
        "##### **Poisson Loss**"
      ]
    },
    {
      "cell_type": "code",
      "metadata": {
        "id": "2IDu5bC_kiIb"
      },
      "source": [
        "tf.keras.losses.poisson(\n",
        "    y_true, y_pred\n",
        ")"
      ],
      "execution_count": null,
      "outputs": []
    },
    {
      "cell_type": "markdown",
      "metadata": {
        "id": "B5cdiNmhxV5l"
      },
      "source": [
        "https://towardsdatascience.com/the-poisson-distribution-103abfddc312"
      ]
    },
    {
      "cell_type": "markdown",
      "metadata": {
        "id": "hhGj5O9-qbci"
      },
      "source": [
        "https://towardsdatascience.com/the-poisson-distribution-and-poisson-process-explained-4e2cb17d459"
      ]
    },
    {
      "cell_type": "markdown",
      "metadata": {
        "id": "Ci4FK976jCoT"
      },
      "source": [
        "https://peltarion.com/knowledge-center/documentation/modeling-view/build-an-ai-model/loss-functions/poisson"
      ]
    },
    {
      "cell_type": "markdown",
      "metadata": {
        "id": "NXCzt1erjaOS"
      },
      "source": [
        "https://openacttexts.github.io/Loss-Data-Analytics/C-RiskClass.html"
      ]
    },
    {
      "cell_type": "markdown",
      "metadata": {
        "id": "qPHAqSSzGRWu"
      },
      "source": [
        "### **Classification** (mostly entropy-/ divergence-based or margin-based)"
      ]
    },
    {
      "cell_type": "markdown",
      "metadata": {
        "id": "ZtrplweMXpx0"
      },
      "source": [
        "##### **Introduction**"
      ]
    },
    {
      "cell_type": "markdown",
      "metadata": {
        "id": "6lLdD3qajuJd"
      },
      "source": [
        "https://en.wikipedia.org/wiki/Loss_functions_for_classification"
      ]
    },
    {
      "cell_type": "markdown",
      "metadata": {
        "id": "qRN26mFZhiS-"
      },
      "source": [
        "https://www.machinecurve.com/index.php/2019/10/04/about-loss-and-loss-functions/#loss-functions-for-classification"
      ]
    },
    {
      "cell_type": "markdown",
      "metadata": {
        "id": "cLQNVZmphglM"
      },
      "source": [
        "https://arxiv.org/pdf/1702.05659.pdf"
      ]
    },
    {
      "cell_type": "markdown",
      "metadata": {
        "id": "-jSsGU3piR_I"
      },
      "source": [
        "http://cs229.stanford.edu/extra-notes/loss-functions.pdf"
      ]
    },
    {
      "cell_type": "markdown",
      "metadata": {
        "id": "zwF3TGA4HyGe"
      },
      "source": [
        "##### **Cross-Entropy-based**"
      ]
    },
    {
      "cell_type": "markdown",
      "metadata": {
        "id": "37P_46NIZDH1"
      },
      "source": [
        "**Cross Entropy**"
      ]
    },
    {
      "cell_type": "markdown",
      "metadata": {
        "id": "7JJVQSAzHzfe"
      },
      "source": [
        "* the cross entropy between two probability distributions p and q **over the same underlying set of events** measures the average number of bits needed to identify an event drawn from the set if a coding scheme used for the set is optimized for an estimated probability distribution q, rather than the true distribution p."
      ]
    },
    {
      "cell_type": "markdown",
      "metadata": {
        "id": "JEHec9phH1hb"
      },
      "source": [
        "https://en.m.wikipedia.org/wiki/Cross_entropy\n",
        "\n",
        "https://en.m.wikipedia.org/wiki/Cross-entropy_method"
      ]
    },
    {
      "cell_type": "markdown",
      "metadata": {
        "id": "28ekAmVTH5lJ"
      },
      "source": [
        "Conditional Entropy the conditional entropy (or equivocation)\n",
        "quantifies the amount of information needed to describe the outcome of a random variable $Y$ given that the value of another\n",
        "random variable $X$ is known. Here, information is measured in shannons, nats, or hartleys. The entropy of $Y$ conditioned on $X$ is written as $\\mathrm{H}(Y \\mid X)$"
      ]
    },
    {
      "cell_type": "markdown",
      "metadata": {
        "id": "n1gLjoOpH7Tb"
      },
      "source": [
        "https://en.m.wikipedia.org/wiki/Conditional_entropy"
      ]
    },
    {
      "cell_type": "markdown",
      "metadata": {
        "id": "29AcuGJjH9yd"
      },
      "source": [
        "Joint Entropy: In information theory, joint entropy is a measure of the uncertainty associated with a set of variables."
      ]
    },
    {
      "cell_type": "markdown",
      "metadata": {
        "id": "Ai0GeirSIDkx"
      },
      "source": [
        "https://en.m.wikipedia.org/wiki/Joint_entropy"
      ]
    },
    {
      "cell_type": "markdown",
      "metadata": {
        "id": "jieM-rKQjf_L"
      },
      "source": [
        "**Binary Cross-Entropy**"
      ]
    },
    {
      "cell_type": "markdown",
      "metadata": {
        "id": "H-On4dPTgUuR"
      },
      "source": [
        "https://en.m.wikipedia.org/wiki/Cross_entropy#Cross-entropy_loss_function_and_logistic_regression"
      ]
    },
    {
      "cell_type": "markdown",
      "metadata": {
        "id": "41gq-BjVfuem"
      },
      "source": [
        "https://towardsdatascience.com/log-loss-function-math-explained-5b83cd8d9c83"
      ]
    },
    {
      "cell_type": "code",
      "metadata": {
        "id": "6G6KVcH-ji6L"
      },
      "source": [
        ""
      ],
      "execution_count": null,
      "outputs": []
    },
    {
      "cell_type": "markdown",
      "metadata": {
        "id": "z7lTRcsl1uNt"
      },
      "source": [
        "$-(y \\log (p)+(1-y) \\log (1-p))$"
      ]
    },
    {
      "cell_type": "markdown",
      "metadata": {
        "id": "TYYl1AFf0_rv"
      },
      "source": [
        "* Cross-Entropy or Log-Loss (Logistic Loss/ negative log-likelihood) \n",
        "\n",
        "* It measures the performance of a classification model whose output is a probability value between 0 and 1. Cross-entropy loss increases as the predicted probability diverges from the actual label. \n",
        "\n",
        "* So predicting a probability of .012 when the actual observation label is 1 would be bad and result in a high loss value.  A perfect model would have a log loss of 0.\n",
        "\n",
        "* Cross-entropy and log loss are slightly different depending on context, but in machine learning when calculating error rates between 0 and 1 they resolve to the same thing. "
      ]
    },
    {
      "cell_type": "markdown",
      "metadata": {
        "id": "zeUnraN74y0_"
      },
      "source": [
        "* Cross-entropy is the default loss function to use for binary classification problems.\n",
        "\n",
        "* It is intended for use with binary classification where the target values are in the set {0, 1}.\n",
        "\n",
        "* Mathematically, it is the preferred loss function under the inference framework of maximum likelihood. It is the loss function to be evaluated first and only changed if you have a good reason.\n",
        "\n",
        "* Cross-entropy will calculate a score that summarizes the average difference between the actual and predicted probability distributions for predicting class 1. The score is minimized and a perfect cross-entropy value is 0.\n",
        "\n",
        "* The function requires that the output layer is configured with a single node and a ‘sigmoid‘ activation in order to predict the probability for class 1."
      ]
    },
    {
      "cell_type": "markdown",
      "metadata": {
        "id": "h9_FrV4ZjMIx"
      },
      "source": [
        "**Sparse Categorical Cross-Entropy (Multiclass)**"
      ]
    },
    {
      "cell_type": "code",
      "metadata": {
        "id": "Deqvu9M1BZ4n"
      },
      "source": [
        "loss = tf.keras.losses.SparseCategoricalCrossentropy(from_logits=True)"
      ],
      "execution_count": null,
      "outputs": []
    },
    {
      "cell_type": "code",
      "metadata": {
        "id": "b2Ionbd8BCSM"
      },
      "source": [
        "loss = 'sparse_categorical_crossentropy'"
      ],
      "execution_count": null,
      "outputs": []
    },
    {
      "cell_type": "markdown",
      "metadata": {
        "id": "4nwGwb-f6d_t"
      },
      "source": [
        "* Cross-entropy is the default loss function to use for multi-class classification problems.\n",
        "\n",
        "* In this case, it is intended for use with multi-class classification where the target values are in the set {0, 1, 3, …, n}, where each class is assigned a unique integer value.\n",
        "\n",
        "* Mathematically, it is the preferred loss function under the inference framework of maximum likelihood. It is the loss function to be evaluated first and only changed if you have a good reason.\n",
        "\n",
        "* Cross-entropy will calculate a score that summarizes the average difference between the actual and predicted probability distributions for all classes in the problem. The score is minimized and a perfect cross-entropy value is 0.\n",
        "\n",
        "* A possible cause of frustration when using cross-entropy with classification problems with a large number of labels is the one hot encoding process.\n",
        "\n",
        "* For example, predicting words in a vocabulary may have tens or hundreds of thousands of categories, one for each label. This can mean that the target element of each training example may require a one hot encoded vector with tens or hundreds of thousands of zero values, requiring significant memory.\n",
        "\n",
        "* Sparse cross-entropy addresses this by performing the same cross-entropy calculation of error, without requiring that the target variable be one hot encoded prior to training.\n",
        "\n"
      ]
    },
    {
      "cell_type": "markdown",
      "metadata": {
        "id": "iAuSM7rYi0nW"
      },
      "source": [
        "##### **Divergence-based**"
      ]
    },
    {
      "cell_type": "markdown",
      "metadata": {
        "id": "sQBmBQ-tb6de"
      },
      "source": [
        "**Kullback-Leibler Divergence (Multiclass)**"
      ]
    },
    {
      "cell_type": "code",
      "metadata": {
        "id": "Ks4_vx_wFci9"
      },
      "source": [
        "loss = tf.keras.losses.KLDivergence(name='kl_divergence')"
      ],
      "execution_count": null,
      "outputs": []
    },
    {
      "cell_type": "markdown",
      "metadata": {
        "id": "GuF2ySph674M"
      },
      "source": [
        "https://en.m.wikipedia.org/wiki/Kullback–Leibler_divergence"
      ]
    },
    {
      "cell_type": "markdown",
      "metadata": {
        "id": "srlCKVTyVtB-"
      },
      "source": [
        "* Kullback Leibler Divergence, or KL Divergence for short, is a measure of how one probability distribution differs from a baseline distribution. \n",
        "\n",
        "* A KL divergence loss of 0 suggests the distributions are identical. In practice, the behavior of KL Divergence is very similar to cross-entropy. It calculates how much information is lost (in terms of bits) if the predicted probability distribution is used to approximate the desired target probability distribution. \n",
        "\n",
        "* As such, the KL divergence loss function is more commonly used when using models that learn to **approximate a more complex function than simply multi-class classification**, such as in the case of an autoencoder used for learning a dense feature representation under a model that must reconstruct the original input. In this case, KL divergence loss would be preferred. \n",
        "\n",
        "* Nevertheless, it can be used for **multi-class classification, in which case it is functionally equivalent to multi-class cross-entropy**."
      ]
    },
    {
      "cell_type": "markdown",
      "metadata": {
        "id": "4dPKg9bY61dp"
      },
      "source": [
        "* Kullback Leibler Divergence, or KL Divergence for short, is a measure of how one probability distribution differs from a baseline distribution.\n",
        "\n",
        "* A KL divergence loss of 0 suggests the distributions are identical. In practice, the behavior of KL Divergence is very similar to cross-entropy. It calculates how much information is lost (in terms of bits) if the predicted probability distribution is used to approximate the desired target probability distribution.\n",
        "\n",
        "* As such, the KL divergence loss function is more commonly used when using models that learn to approximate a more complex function than simply multi-class classification, such as in the case of an autoencoder used for learning a dense feature representation under a model that must reconstruct the original input. In this case, KL divergence loss would be preferred. Nevertheless, it can be used for multi-class classification, in which case it is functionally equivalent to multi-class cross-entropy.\n",
        "\n",
        "* [TF doc](https://www.tensorflow.org/api_docs/python/tf/keras/losses/KLDivergence)"
      ]
    },
    {
      "cell_type": "markdown",
      "metadata": {
        "id": "8OWsTyvziEce"
      },
      "source": [
        "The only divergence that is both an f-divergence and a Bregman divergence is the Kullback–Leibler divergence\n",
        "\n",
        "https://en.m.wikipedia.org/wiki/Kullback–Leibler_divergence"
      ]
    },
    {
      "cell_type": "markdown",
      "metadata": {
        "id": "sYkeCV6pdHEI"
      },
      "source": [
        "Use for example as **loss function in variational autoencoder**\n",
        "\n",
        "https://www.kaggle.com/debanga/statistical-distances\n",
        "\n",
        "https://towardsdatascience.com/intuitively-understanding-variational-autoencoders-1bfe67eb5daf"
      ]
    },
    {
      "cell_type": "markdown",
      "metadata": {
        "id": "InmmPaXEHSoz"
      },
      "source": [
        "* the Kullback–Leibler divergence (also called relative entropy) is a measure of how one probability distribution is different from a second, reference probability distribution.\n",
        "\n",
        "* Applications include characterizing the relative (Shannon) entropy in information systems, randomness in continuous time-series, and information gain when comparing statistical models of inference. \n",
        "\n",
        "* In contrast to variation of information, **it is a distribution-wise asymmetric measure** and thus **does not qualify as a statistical metric of spread** - it also does not satisfy the triangle inequality.\n",
        "\n",
        "* In the simple case, a Kullback–Leibler divergence of 0 indicates that the two distributions in question are identical. In simplified terms, it is a measure of surprise, with diverse applications such as applied statistics, fluid mechanics, neuroscience and machine learning."
      ]
    },
    {
      "cell_type": "markdown",
      "metadata": {
        "id": "TSRliOMMiHC-"
      },
      "source": [
        "**Jensen–Shannon divergence**"
      ]
    },
    {
      "cell_type": "markdown",
      "metadata": {
        "id": "aj-KEamza3xD"
      },
      "source": [
        "* It is based on the Kullback–Leibler divergence, with some notable (and useful) differences, including that it is symmetric and it always has a finite value. The square root of the Jensen–Shannon divergence is a metric often referred to as Jensen-Shannon distance\n",
        "* use in GAN's for example (Goodfellow, Ian J.; Pouget-Abadie, Jean; Mirza, Mehdi; Xu, Bing; Warde-Farley, David; Ozair, Sherjil; Courville, Aaron; Bengio, Yoshua (2014). Generative Adversarial Networks. NIPS. arXiv:1406.2661. Bibcode:2014arXiv1406.2661G)\n",
        "* https://en.m.wikipedia.org/wiki/Generative_adversarial_network\n",
        "* https://en.m.wikipedia.org/wiki/Jensen%E2%80%93Shannon_divergence"
      ]
    },
    {
      "cell_type": "markdown",
      "metadata": {
        "id": "BmZFI8hdhy1u"
      },
      "source": [
        "**f-Divergence**"
      ]
    },
    {
      "cell_type": "markdown",
      "metadata": {
        "id": "tvHKWuyic7Fn"
      },
      "source": [
        "* Probabilistic models are often trained by maxi- mum likelihood, which corresponds to minimiz- ing a specific f-divergence between the model and data distribution. \n",
        "\n",
        "* In light of recent suc- cesses in training Generative Adversarial Networks, alternative non-likelihood training crite- ria have been proposed.\n",
        "\n",
        "https://arxiv.org/pdf/1907.11891.pdf"
      ]
    },
    {
      "cell_type": "markdown",
      "metadata": {
        "id": "gHB9e-5seJRf"
      },
      "source": [
        "https://arxiv.org/pdf/1905.12888.pdf"
      ]
    },
    {
      "cell_type": "markdown",
      "metadata": {
        "id": "9smhem9wh0x8"
      },
      "source": [
        "https://en.m.wikipedia.org/wiki/F-divergence\n",
        "\n",
        "The Hellinger distance is a type of f-divergence\n",
        "\n",
        "https://en.m.wikipedia.org/wiki/Hellinger_distance\n",
        "\n",
        "https://www.mis.mpg.de/fileadmin/pdf/geoasp_2008_petz.pdf"
      ]
    },
    {
      "cell_type": "markdown",
      "metadata": {
        "id": "rYLc2b-qsm8N"
      },
      "source": [
        "**Hellinger Distance**"
      ]
    },
    {
      "cell_type": "markdown",
      "metadata": {
        "id": "KEGZl1OtyhBy"
      },
      "source": [
        "*  the Hellinger distance (closely related to, although different from, the Bhattacharyya distance) is used to **quantify the similarity between two probability distributions**. \n",
        "\n",
        "* **It is a type of f-divergence.**\n",
        "\n",
        "* (?) ist vielleicht sogar eine metric weil es triangle inequality erfüllt."
      ]
    },
    {
      "cell_type": "markdown",
      "metadata": {
        "id": "owVHpnpSywyW"
      },
      "source": [
        "https://en.m.wikipedia.org/wiki/Hellinger_distance"
      ]
    },
    {
      "cell_type": "markdown",
      "metadata": {
        "id": "-59nC3Yih3Gm"
      },
      "source": [
        "**Bregman Divergence**"
      ]
    },
    {
      "cell_type": "markdown",
      "metadata": {
        "id": "KbZKOiCwf6Jw"
      },
      "source": [
        "In machine learning, Bregman divergences are used to calculate the bi-tempered logistic loss, performing better than the softmax function with noisy datasets"
      ]
    },
    {
      "cell_type": "markdown",
      "metadata": {
        "id": "IXaFiel6h7Fl"
      },
      "source": [
        "https://en.m.wikipedia.org/wiki/Bregman_divergence"
      ]
    },
    {
      "cell_type": "markdown",
      "metadata": {
        "id": "bnDfoUM_h5VG"
      },
      "source": [
        "The squared Euclidean divergence is a Bregman divergence (corresponding to the function x<sup>2</sup>, but not an f-divergence"
      ]
    },
    {
      "cell_type": "markdown",
      "metadata": {
        "id": "3eD4Qwu7eOOm"
      },
      "source": [
        "COST-SENSITIVE CLASSIFICATION BASED ON\n",
        "BREGMAN DIVERGENCES: https://core.ac.uk/download/pdf/29402554.pdf"
      ]
    },
    {
      "cell_type": "markdown",
      "metadata": {
        "id": "Vvhq-zZ2h9Ae"
      },
      "source": [
        "https://en.m.wikipedia.org/wiki/Euclidean_distance#Squared_Euclidean_distance"
      ]
    },
    {
      "cell_type": "markdown",
      "metadata": {
        "id": "tvctBykzhmbB"
      },
      "source": [
        "**Mahalanobis distance**"
      ]
    },
    {
      "cell_type": "markdown",
      "metadata": {
        "id": "B-TZ_CmyyVV-"
      },
      "source": [
        "* The Mahalanobis distance is a measure of the distance between a point P and a distribution D\n",
        "\n",
        "* If each of these axes is re-scaled to have unit variance, then the Mahalanobis distance corresponds to standard Euclidean distance in the transformed space. The Mahalanobis distance is thus unitless and scale-invariant, and takes into account the correlations of the data set.\n",
        "\n",
        "* In statistics, the covariance matrix of the data is sometimes used to define a distance metric called Mahalanobis distance.\n",
        "\n",
        "* Bregman divergence: **the Mahalanobis distance is an example of a Bregman divergence**\n",
        "\n",
        "* **Bhattacharyya distance related, for measuring similarity between data sets (and not between a point and a data set** - Mahalanobis distance is a particular case of the Bhattacharyya distance when the standard deviations of the two classes are the same.)"
      ]
    },
    {
      "cell_type": "markdown",
      "metadata": {
        "id": "guFweB6AhoJs"
      },
      "source": [
        "https://en.m.wikipedia.org/wiki/Mahalanobis_distance"
      ]
    },
    {
      "cell_type": "markdown",
      "metadata": {
        "id": "fYZzNeN0mJJ2"
      },
      "source": [
        "* Mahalanobis distance is an effective multivariate distance metric that measures the distance between a point and a distribution. \n",
        "\n",
        "* It is an extremely useful metric having, excellent applications **in multivariate anomaly detection, classification on highly imbalanced datasets and one-class classification**. "
      ]
    },
    {
      "cell_type": "markdown",
      "metadata": {
        "id": "cCC_7jqmo0rN"
      },
      "source": [
        "![alternativer Text](https://raw.githubusercontent.com/deltorobarba/machinelearning/master/mahalanobis.jpg)"
      ]
    },
    {
      "cell_type": "markdown",
      "metadata": {
        "id": "KAydAR1XqBN_"
      },
      "source": [
        "* If the dimensions (columns in your dataset) are correlated to one another, which is typically the case in real-world datasets, the Euclidean distance between a point and the center of the points (distribution) can give little or misleading information about how close a point really is to the cluster.\n",
        "\n",
        "* The two points above are equally distant (Euclidean) from the center. But only one of them (blue) is actually more close to the cluster, even though, technically the Euclidean distance between the two points are equal.\n",
        "\n",
        "* This is because, Euclidean distance is a distance between two points only. It does not consider how the rest of the points in the dataset vary. So, it cannot be used to really judge how close a point actually is to a distribution of points.\n",
        "\n",
        "* **What we need here is a more robust distance metric that is an accurate representation of how distant a point is from a distribution.**"
      ]
    },
    {
      "cell_type": "markdown",
      "metadata": {
        "id": "pdi3fJK7pK-O"
      },
      "source": [
        "So computationally, how is Mahalanobis distance different from Euclidean distance?\n",
        "\n",
        "1. It transforms the columns into uncorrelated variables\n",
        "2. Scale the columns to make their variance equal to 1\n",
        "3. Finally, it calculates the Euclidean distance."
      ]
    },
    {
      "cell_type": "markdown",
      "metadata": {
        "id": "Dzlk1JzZmQRz"
      },
      "source": [
        "https://www.machinelearningplus.com/statistics/mahalanobis-distance/"
      ]
    },
    {
      "cell_type": "markdown",
      "metadata": {
        "id": "40Jv2Z1mmUFw"
      },
      "source": [
        "The Mahalanobis distance has the following properties:\n",
        "\n",
        "* It accounts for the fact that the variances in each direction are different.\n",
        "\n",
        "* It accounts for the covariance between variables.\n",
        "\n",
        "* It reduces to the familiar Euclidean distance for uncorrelated variables with unit variance."
      ]
    },
    {
      "cell_type": "markdown",
      "metadata": {
        "id": "d0Hwd5cNpl_c"
      },
      "source": [
        "Distance in standard units\n",
        "\n",
        "In statistics, we sometimes measure \"nearness\" or \"farness\" in terms of the scale of the data. **Often \"scale\" means \"standard deviation.\"** For univariate data, we say that an observation that is one standard deviation from the mean is closer to the mean than an observation that is three standard deviations away. (You can also specify the distance between two observations by specifying how many standard deviations apart they are.)\n",
        "\n",
        "**For many distributions, such as the normal distribution, this choice of scale also makes a statement about probability**. Specifically, it is more likely to observe an observation that is about one standard deviation from the mean than it is to observe one that is several standard deviations away. Why? Because the probability density function is higher near the mean and nearly zero as you move many standard deviations away.\n",
        "\n",
        "**For normally distributed data, you can specify the distance from the mean by computing the so-called z-score**. For a value x, the z-score of x is the quantity z = (x-μ)/σ, where μ is the population mean and σ is the population standard deviation. This is a dimensionless quantity that you can interpret as the number of standard deviations that x is from the mean.\n",
        "\n"
      ]
    },
    {
      "cell_type": "markdown",
      "metadata": {
        "id": "BIjjqmwLmY0F"
      },
      "source": [
        "https://blogs.sas.com/content/iml/2012/02/15/what-is-mahalanobis-distance.html"
      ]
    },
    {
      "cell_type": "markdown",
      "metadata": {
        "id": "ZT8FPvZ3hi1N"
      },
      "source": [
        "**Bhattacharyya distance**"
      ]
    },
    {
      "cell_type": "markdown",
      "metadata": {
        "id": "Y1YoJ42mx-xb"
      },
      "source": [
        "* In statistics, the Bhattacharyya distance measures the similarity of two probability distributions. It is closely related to the Bhattacharyya coefficient which is a measure of the amount of overlap between two statistical samples or populations. \n",
        "\n",
        "* The coefficient can be used to determine the relative closeness of the two samples being considered. It is used to measure the separability of classes in classification and it is considered to be more reliable than the Mahalanobis distance, as the ***Mahalanobis distance is a particular case of the Bhattacharyya distance** when the standard deviations of the two classes are the same. \n",
        "\n",
        "* Consequently, when two classes have similar means but different standard deviations, the Mahalanobis distance would tend to zero, whereas the Bhattacharyya distance grows depending on the difference between the standard deviations.\n",
        "\n",
        "* under certain conditions does not obey the triangle inequality"
      ]
    },
    {
      "cell_type": "markdown",
      "metadata": {
        "id": "6AVM3T1Dhkld"
      },
      "source": [
        "https://en.m.wikipedia.org/wiki/Bhattacharyya_distance"
      ]
    },
    {
      "cell_type": "markdown",
      "metadata": {
        "id": "gVUgUeHIYPXm"
      },
      "source": [
        "##### **Margin-based**"
      ]
    },
    {
      "cell_type": "markdown",
      "metadata": {
        "id": "lwTvtFI9YWAE"
      },
      "source": [
        "Margin-based loss functions are particularly useful for binary classification. In contrast to the distance-based losses, these do not care about the difference between true target and prediction. Instead they penalize predictions based on how well they agree with the sign of the target."
      ]
    },
    {
      "cell_type": "markdown",
      "metadata": {
        "id": "j0eYJwywYX4z"
      },
      "source": [
        "http://juliaml.github.io/LossFunctions.jl/stable/losses/margin/"
      ]
    },
    {
      "cell_type": "markdown",
      "metadata": {
        "id": "d7Fs8xDgjqGa"
      },
      "source": [
        "**Exponential Loss**"
      ]
    },
    {
      "cell_type": "code",
      "metadata": {
        "id": "ZbZJydo4jr_v"
      },
      "source": [
        ""
      ],
      "execution_count": null,
      "outputs": []
    },
    {
      "cell_type": "markdown",
      "metadata": {
        "id": "1KMGvau7juCt"
      },
      "source": [
        "**Hinge Loss**"
      ]
    },
    {
      "cell_type": "code",
      "metadata": {
        "id": "1oYZzEwfjwRc",
        "outputId": "e4110e4c-e80f-45aa-eb11-e87735aeb223",
        "colab": {
          "base_uri": "https://localhost:8080/",
          "height": 164
        }
      },
      "source": [
        "tf.keras.losses.hinge(y_true, y_pred)"
      ],
      "execution_count": null,
      "outputs": [
        {
          "output_type": "error",
          "ename": "NameError",
          "evalue": "ignored",
          "traceback": [
            "\u001b[0;31m---------------------------------------------------------------------------\u001b[0m",
            "\u001b[0;31mNameError\u001b[0m                                 Traceback (most recent call last)",
            "\u001b[0;32m<ipython-input-21-b1fbf841e29e>\u001b[0m in \u001b[0;36m<module>\u001b[0;34m()\u001b[0m\n\u001b[0;32m----> 1\u001b[0;31m \u001b[0mtf\u001b[0m\u001b[0;34m.\u001b[0m\u001b[0mkeras\u001b[0m\u001b[0;34m.\u001b[0m\u001b[0mlosses\u001b[0m\u001b[0;34m.\u001b[0m\u001b[0mhinge\u001b[0m\u001b[0;34m(\u001b[0m\u001b[0my_true\u001b[0m\u001b[0;34m,\u001b[0m \u001b[0my_pred\u001b[0m\u001b[0;34m)\u001b[0m\u001b[0;34m\u001b[0m\u001b[0;34m\u001b[0m\u001b[0m\n\u001b[0m",
            "\u001b[0;31mNameError\u001b[0m: name 'y_true' is not defined"
          ]
        }
      ]
    },
    {
      "cell_type": "markdown",
      "metadata": {
        "id": "iVtO_rWx8Bj_"
      },
      "source": [
        "[TF](https://www.tensorflow.org/api_docs/python/tf/keras/losses/hinge)"
      ]
    },
    {
      "cell_type": "markdown",
      "metadata": {
        "id": "63gn-fNY5OQd"
      },
      "source": [
        "**Squared Hinge Loss**"
      ]
    },
    {
      "cell_type": "code",
      "metadata": {
        "id": "tESv9TFj5QpZ"
      },
      "source": [
        ""
      ],
      "execution_count": null,
      "outputs": []
    },
    {
      "cell_type": "markdown",
      "metadata": {
        "id": "Cx3yMKCj5YYI"
      },
      "source": [
        "* The hinge loss function has many extensions, often the subject of investigation with SVM models.\n",
        "\n",
        "* A popular extension is called the squared hinge loss that simply calculates the square of the score hinge loss. It has the effect of smoothing the surface of the error function and making it numerically easier to work with.\n",
        "\n",
        "* If using a hinge loss does result in better performance on a given binary classification problem, is likely that a squared hinge loss may be appropriate.\n",
        "\n",
        "* As with using the hinge loss function, the target variable must be modified to have values in the set {-1, 1}."
      ]
    },
    {
      "cell_type": "markdown",
      "metadata": {
        "id": "xDjzTk8x3Nxb"
      },
      "source": [
        "[Wiki](https://en.m.wikipedia.org/wiki/Loss_functions_for_classification)"
      ]
    },
    {
      "cell_type": "markdown",
      "metadata": {
        "id": "9gTrY2o6kbEm"
      },
      "source": [
        "**Square Loss (also margin-based??)**"
      ]
    },
    {
      "cell_type": "markdown",
      "metadata": {
        "id": "b3Ce2C-1kj4N"
      },
      "source": [
        "* While more commonly used in regression, the square loss function can be re-written as a function  and utilized for classification."
      ]
    },
    {
      "cell_type": "markdown",
      "metadata": {
        "id": "Zn6BwbJdkf54"
      },
      "source": [
        "https://en.wikipedia.org/wiki/Loss_functions_for_classification#Square_loss"
      ]
    },
    {
      "cell_type": "markdown",
      "metadata": {
        "id": "o2zuQpPO6vNn"
      },
      "source": [
        "### **Metric (Similarity) Learning**\n"
      ]
    },
    {
      "cell_type": "markdown",
      "metadata": {
        "id": "ceX3klubVpBn"
      },
      "source": [
        "##### **Similarity Learning vs Regression & Classification**"
      ]
    },
    {
      "cell_type": "markdown",
      "metadata": {
        "id": "48QuuE2UVrrO"
      },
      "source": [
        "Similarity learning is an area of supervised machine learning in artificial intelligence. It is closely related to regression and classification, but the goal is to learn a similarity function that measures how similar or related two objects are. It has applications in ranking, in recommendation systems, visual identity tracking, face verification, and speaker verification."
      ]
    },
    {
      "cell_type": "markdown",
      "metadata": {
        "id": "Jv_gjC1HVtlk"
      },
      "source": [
        "https://en.m.wikipedia.org/wiki/Similarity_learning"
      ]
    },
    {
      "cell_type": "markdown",
      "metadata": {
        "id": "k-lWqu51M0MO"
      },
      "source": [
        "**Classification vs Metric Learning**"
      ]
    },
    {
      "cell_type": "markdown",
      "metadata": {
        "id": "vTEXXuH_NCJf"
      },
      "source": [
        "* **Classification is a “Closed-set” task**. can't add new labels without complete retraining.  The model here is trying to learn separable features in this case — i.e. features, that would allow to assign a label from a predefined set to a given image. The model is trying to find a hyperplane, a rule that separates given classes in space.\n",
        "\n",
        "* **Metric Learning** is a “Open-set” task. This one means that we do indeed have some predefined set of labels for training, but the model can be applied to any unseen data and it should generalize. In this case the model is trying to solve a metric-learning problem: to learn some sort of similarity metric, and for that it needs to extract discriminative features — features that can be used to distinguish between different people on any two (or more) images. The model is trying not to separate images with a hyperplane, but rather reorganize the input space, pull the similar images together in some form of a cluster while pushing dissimilar images away. \n",
        "\n",
        "* This is somewhat reminiscent of clustering problem in Unsupervised Learning — and indeed you can use a model trained on a metric-learning task to create a distance matrix for new data, and than run algorithms like DBSCAN on it to, e.g., cluster images of people’s faces, where each cluster would correspond to a new person."
      ]
    },
    {
      "cell_type": "markdown",
      "metadata": {
        "id": "pC_Q8HIXlT2V"
      },
      "source": [
        "https://medium.com/@maksym.bekuzarov/losses-explained-contrastive-loss-f8f57fe32246"
      ]
    },
    {
      "cell_type": "markdown",
      "metadata": {
        "id": "rCZf8vrBmGux"
      },
      "source": [
        "##### **Ranking, Contrastive & Triplet Loss**"
      ]
    },
    {
      "cell_type": "markdown",
      "metadata": {
        "id": "YRYzIeHwXR45"
      },
      "source": [
        "**Ranking & Learning to Rank**"
      ]
    },
    {
      "cell_type": "markdown",
      "metadata": {
        "id": "BJiItIotXUp0"
      },
      "source": [
        "Ranking.. (triplet loss mit similarity learning wird im ranking verwendet, weil es ordinal ist im ggs zu distance learning..)"
      ]
    },
    {
      "cell_type": "markdown",
      "metadata": {
        "id": "h-r_KVeIXXKk"
      },
      "source": [
        "https://en.m.wikipedia.org/wiki/Ranking_(information_retrieval)\n",
        "\n",
        "https://en.m.wikipedia.org/wiki/Learning_to_rank\n",
        "\n",
        "https://en.m.wikipedia.org/wiki/Ranking\n",
        "\n",
        "https://en.m.wikipedia.org/wiki/Information_retrieval"
      ]
    },
    {
      "cell_type": "markdown",
      "metadata": {
        "id": "_y7Wj16jWj6C"
      },
      "source": [
        "**Contrastive Loss**"
      ]
    },
    {
      "cell_type": "markdown",
      "metadata": {
        "id": "nuSkp4jpN8iT"
      },
      "source": [
        "* Contrastive loss was first introduced in 2005 by Yann Le Cunn et al. in this paper and its original application was in Dimensionality Reduction. Now, if you recall, the general goal of a Dimensionality reduction algorithm can be formulated like this:\n",
        "\n",
        "> Given a sample (a data point) — a D-dimensional vector, transform this sample into a d-dimensional vector, where d ≪ D, while preserving as much information as possible."
      ]
    },
    {
      "cell_type": "markdown",
      "metadata": {
        "id": "AcC6lbUMPXwy"
      },
      "source": [
        "* The difference is that Cross-entropy loss is a classification loss which operates on class probabilities produced by the network independently for each sample, and Contrastive loss is a metric learning loss, which operates on the data points produced by network and their positions relative to each other. \n",
        "\n",
        "* This is also part of the reason a **cross-entropy loss is not usually used for metric learning tasks** like Face Verification — it doesn’t impose any constraints on the distribution on the model’s inner representation of the given data — i.e. the model can learn any features regardless of whether similar data points would be located closely to each other or not after the transformation."
      ]
    },
    {
      "cell_type": "markdown",
      "metadata": {
        "id": "4EKxhx0vPgn-"
      },
      "source": [
        "* for each class/group of similar points (in case of Face Recognition task it would be all the photos of the same person) the **maximum intra-class distance is smaller than the minimum inter-class distance.** \n",
        "* It operates on pairs of embeddings received from the model and on the ground-truth similarity flag — a Boolean label, specifying whether these two samples are “similar” or “dissimilar”. So the input must be not one, but 2 images.\n",
        "* It penalizes “similar” samples for being far from each other in terms of Euclidean distance (although other distance metrics could be used).\n",
        "* “Dissimilar” samples are penalized by being to close to each other, but in a somewhat different way — Contrastive Loss introduces the concept of “margin” — a minimal distance that dissimilar points need to keep. So it penalizes dissimilar samples for beings closer than the given margin."
      ]
    },
    {
      "cell_type": "markdown",
      "metadata": {
        "id": "vDA3ZuNqWh16"
      },
      "source": [
        "**Triplet Loss**"
      ]
    },
    {
      "cell_type": "markdown",
      "metadata": {
        "id": "5hU6TokIWgm2"
      },
      "source": [
        "Triplet Loss (a loss function for machine learning algorithms) is often used for learning similarity for the purpose of learning embeddings, like word embeddings and even thought vectors, and metric learning.\n",
        "https://en.m.wikipedia.org/wiki/Triplet_loss"
      ]
    },
    {
      "cell_type": "markdown",
      "metadata": {
        "id": "VoLTTPqSSmeZ"
      },
      "source": [
        "**Terms**"
      ]
    },
    {
      "cell_type": "markdown",
      "metadata": {
        "id": "h90FJ46fSlgQ"
      },
      "source": [
        "Ranking Losses are essentialy the ones explained above, and are used in many different aplications with the same formulation or minor variations. However, different names are used for them, which can be confusing. Here I explain why those names are used.\n",
        "\n",
        "* Ranking loss: This name comes from the information retrieval field, where we want to train models to rank items in an specific order.\n",
        "* Margin Loss: This name comes from the fact that these losses use a margin to compare samples representations distances.\n",
        "* Contrastive Loss: Contrastive refers to the fact that these losses are computed contrasting two or more data points representations. This name is often used for * Pairwise Ranking Loss, but I’ve never seen using it in a setup with triplets.\n",
        "* Triplet Loss: Often used as loss name when triplet training pairs are employed.\n",
        "* Hinge loss: Also known as max-margin objective. It’s used for training SVMs for classification. It has a similar formulation in the sense that it optimizes until a margin. That’s why this name is sometimes used for Ranking Losses."
      ]
    },
    {
      "cell_type": "markdown",
      "metadata": {
        "id": "1OynXAgWS3PJ"
      },
      "source": [
        "**Pairwise Ranking Loss**"
      ]
    },
    {
      "cell_type": "markdown",
      "metadata": {
        "id": "eo7ymLUtS5N8"
      },
      "source": [
        "dd"
      ]
    },
    {
      "cell_type": "markdown",
      "metadata": {
        "id": "LF-hJBn3S7Ox"
      },
      "source": [
        "**Triplet Ranking Loss**"
      ]
    },
    {
      "cell_type": "markdown",
      "metadata": {
        "id": "KLY6Gz-IS-E0"
      },
      "source": [
        "ddd"
      ]
    },
    {
      "cell_type": "markdown",
      "metadata": {
        "id": "5AXn5dd9uVrH"
      },
      "source": [
        "https://gombru.github.io/2019/04/03/ranking_loss/"
      ]
    },
    {
      "cell_type": "markdown",
      "metadata": {
        "id": "N3jTMrMFRcgH"
      },
      "source": [
        "##### **Architectures: Siamese Nets or Triplet Nets**"
      ]
    },
    {
      "cell_type": "markdown",
      "metadata": {
        "id": "SJXjlJ_NTHte"
      },
      "source": [
        "Siamese and triplet nets are training setups where Pairwise Ranking Loss and Triplet Ranking Loss are used. But those losses can be also used in other setups. "
      ]
    },
    {
      "cell_type": "markdown",
      "metadata": {
        "id": "60dIC1URTml5"
      },
      "source": [
        "**Siamese Nets**"
      ]
    },
    {
      "cell_type": "markdown",
      "metadata": {
        "id": "Sy98MKUKTkO4"
      },
      "source": [
        "Are built by two identical CNNs with shared weights (both CNNs have the same weights). Each one of these nets processes an image and produces a representation. Those representations are compared and a distance between them is computed. Then, a Pairwise Ranking Loss is used to train the network, such that the distance between representations produced by similar images is small, and the distance between representations of dis-similar images is big."
      ]
    },
    {
      "cell_type": "markdown",
      "metadata": {
        "id": "OQlkcsi6TsO3"
      },
      "source": [
        "**Triplet Nets**"
      ]
    },
    {
      "cell_type": "markdown",
      "metadata": {
        "id": "qMpc0YQCTuod"
      },
      "source": [
        "The idea is similar to a siamese net, but a triplet net has three branches (three CNNs with shared weights). The model is trained by simultaneously giving a positive and a negative image to the corresponding anchor image, and using a Triplet Ranking Loss. That lets the net learn better which images are similar and different to the anchor image."
      ]
    },
    {
      "cell_type": "markdown",
      "metadata": {
        "id": "zCZVN7B_TL1i"
      },
      "source": [
        "**Example: Ranking Loss for Multi-Modal Retrieval**"
      ]
    },
    {
      "cell_type": "markdown",
      "metadata": {
        "id": "vTURi0iPTrre"
      },
      "source": [
        ""
      ]
    },
    {
      "cell_type": "markdown",
      "metadata": {
        "id": "LxKmU_MLUICH"
      },
      "source": [
        "##### **Loss Functions**"
      ]
    },
    {
      "cell_type": "markdown",
      "metadata": {
        "id": "Cicxm5OuUKbo"
      },
      "source": [
        "[PyTorch] CosineEmbeddingLoss. It’s a Pairwise Ranking Loss that uses cosine distance as the distance metric. Inputs are the features of the pair elements, the label indicating if it’s a positive or a negative pair, and the margin."
      ]
    },
    {
      "cell_type": "markdown",
      "metadata": {
        "id": "IhywPFnNUMy1"
      },
      "source": [
        "[PyTorch] MarginRankingLoss. Similar to the former, but uses euclidian distance."
      ]
    },
    {
      "cell_type": "markdown",
      "metadata": {
        "id": "rWICWkZXUOp8"
      },
      "source": [
        "[PyTorch] TripletMarginLoss. A Triplet Ranking Loss using euclidian distance."
      ]
    },
    {
      "cell_type": "markdown",
      "metadata": {
        "id": "dGofcArVURUB"
      },
      "source": [
        "[TensorFlow] contrastive_loss. Pairwise Ranking Loss."
      ]
    },
    {
      "cell_type": "markdown",
      "metadata": {
        "id": "wxXiIet9UTaN"
      },
      "source": [
        "[TensorFlow] triplet_semihard_loss. Triplet loss with semi-hard negative mining."
      ]
    },
    {
      "cell_type": "markdown",
      "metadata": {
        "id": "YfVxKUnwXK8Z"
      },
      "source": [
        "### **Define Model & Run**"
      ]
    },
    {
      "cell_type": "code",
      "metadata": {
        "id": "pKomy6Y9c18A",
        "outputId": "d66a05bc-91df-4627-996a-bd27b03007c4",
        "colab": {
          "base_uri": "https://localhost:8080/",
          "height": 683
        }
      },
      "source": [
        "# Load & Prepare Data\n",
        "fashion_mnist = tf.keras.datasets.fashion_mnist\n",
        "(x_train, y_train),(x_test, y_test) = fashion_mnist.load_data()\n",
        "x_train, x_test = x_train / 255.0, x_test / 255.0\n",
        "\n",
        "# Define Model\n",
        "model = tf.keras.models.Sequential()\n",
        "model.add(tf.keras.layers.Flatten(input_shape=(28, 28)))\n",
        "model.add(tf.keras.layers.Dense(512, activation='relu')) \n",
        "model.add(tf.keras.layers.Dropout(0.3))\n",
        "model.add(tf.keras.layers.Dense(10, activation='softmax'))\n",
        "\n",
        "# Compile Model\n",
        "model.compile(optimizer='adam', \n",
        "              loss=loss, \n",
        "              metrics=['accuracy'])\n",
        "\n",
        "# Train Model\n",
        "model.fit(x=x_train, \n",
        "          y=y_train, \n",
        "          epochs=5, \n",
        "          validation_data=(x_test, y_test),\n",
        "          callbacks=[PlotLossesKerasTF()],\n",
        "          verbose=1)"
      ],
      "execution_count": null,
      "outputs": [
        {
          "output_type": "display_data",
          "data": {
            "image/png": "[encoded data removed]",
            "text/plain": [
              "<Figure size 864x576 with 2 Axes>"
            ]
          },
          "metadata": {
            "tags": [],
            "needs_background": "light"
          }
        },
        {
          "output_type": "stream",
          "text": [
            "accuracy\n",
            "\ttraining         \t (min:    0.700, max:    0.846, cur:    0.846)\n",
            "\tvalidation       \t (min:    0.724, max:    0.841, cur:    0.839)\n",
            "Loss\n",
            "\ttraining         \t (min:    1.615, max:    1.763, cur:    1.615)\n",
            "\tvalidation       \t (min:    1.619, max:    1.736, cur:    1.623)\n",
            "\b\b\b\b\b\b\b\b\b\b\b\b\b\b\b\b\b\b\b\b\b\b\b\b\b\b\b\b\b\b\b\b\b\b\b\b\b\b\b\b\b\b\b\b\b\b\b\b\b\b\b\b\b\b\b\b\b\b\b\b\b\b\b\b\b\b\b\b\b\b\b\b\b\b\b\b\b\b\b\b\b\b\b\b\b\b\r1875/1875 [==============================] - 8s 4ms/step - loss: 1.6150 - accuracy: 0.8457 - val_loss: 1.6226 - val_accuracy: 0.8389\n"
          ],
          "name": "stdout"
        },
        {
          "output_type": "execute_result",
          "data": {
            "text/plain": [
              "<tensorflow.python.keras.callbacks.History at 0x7fefdc3a1e80>"
            ]
          },
          "metadata": {
            "tags": []
          },
          "execution_count": 3
        }
      ]
    }
  ]
}