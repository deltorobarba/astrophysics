{
  "nbformat": 4,
  "nbformat_minor": 0,
  "metadata": {
    "colab": {
      "name": "cost.ipynb",
      "provenance": [],
      "collapsed_sections": [
        "qPHAqSSzGRWu"
      ],
      "include_colab_link": true
    },
    "kernelspec": {
      "name": "python3",
      "display_name": "Python 3"
    }
  },
  "cells": [
    {
      "cell_type": "markdown",
      "metadata": {
        "id": "view-in-github",
        "colab_type": "text"
      },
      "source": [
        "<a href=\"https://colab.research.google.com/github/deltorobarba/machinelearning/blob/master/cost.ipynb\" target=\"_parent\"><img src=\"https://colab.research.google.com/assets/colab-badge.svg\" alt=\"Open In Colab\"/></a>"
      ]
    },
    {
      "cell_type": "markdown",
      "metadata": {
        "id": "HjNmcYpFuFTY"
      },
      "source": [
        "# **Cost (Loss) Function**"
      ]
    },
    {
      "cell_type": "code",
      "metadata": {
        "id": "8wxrDRida0pp",
        "outputId": "555114ba-e1af-4c62-d7f4-6829e3479ba3",
        "colab": {
          "base_uri": "https://localhost:8080/"
        }
      },
      "source": [
        "!pip install livelossplot --quiet\n",
        "from livelossplot import PlotLossesKerasTF\n",
        "import tensorflow as tf\n",
        "print(tf.__version__)"
      ],
      "execution_count": 1,
      "outputs": [
        {
          "output_type": "stream",
          "text": [
            "2.3.0\n"
          ],
          "name": "stdout"
        }
      ]
    },
    {
      "cell_type": "code",
      "metadata": {
        "id": "emC8moC8B0zF"
      },
      "source": [
        "fashion_mnist = tf.keras.datasets.fashion_mnist\n",
        "(x_train, y_train),(x_test, y_test) = fashion_mnist.load_data()\n",
        "x_train, x_test = x_train / 255.0, x_test / 255.0"
      ],
      "execution_count": 5,
      "outputs": []
    },
    {
      "cell_type": "markdown",
      "metadata": {
        "id": "-L9Rza0hlnNE"
      },
      "source": [
        "$\\min _{W}\\left\\{L(W):=\\frac{1}{m} \\sum_{i=1}^{m} \\ell\\left(W ; x_{i}, y_{i}\\right)+\\lambda r(W)\\right\\}$"
      ]
    },
    {
      "cell_type": "markdown",
      "metadata": {
        "id": "UtSoZCm6A8iN"
      },
      "source": [
        "Complete list of [Loss / Cost Functions in TF](https://www.tensorflow.org/api_docs/python/tf/keras/losses/)"
      ]
    },
    {
      "cell_type": "markdown",
      "metadata": {
        "id": "tOaMQSLdJk2u"
      },
      "source": [
        "https://heartbeat.fritz.ai/5-regression-loss-functions-all-machine-learners-should-know-4fb140e9d4b0\n",
        "\n",
        "https://medium.com/@phuctrt/loss-functions-why-what-where-or-when-189815343d3f\n",
        "\n",
        "https://towardsdatascience.com/what-is-loss-function-1e2605aeb904"
      ]
    },
    {
      "cell_type": "markdown",
      "metadata": {
        "id": "AmqQ5UuaFxPE"
      },
      "source": [
        "### **Cost Functions for Regression**"
      ]
    },
    {
      "cell_type": "markdown",
      "metadata": {
        "id": "Zpcc_fhBNRiQ"
      },
      "source": [
        "![xx](https://raw.githubusercontent.com/deltorobarba/machinelearning/master/regression_loss.PNG)"
      ]
    },
    {
      "cell_type": "markdown",
      "metadata": {
        "id": "zy6HK9uZG4NF"
      },
      "source": [
        "**Mean Squared Error (L2 or Quadratic Loss)**"
      ]
    },
    {
      "cell_type": "code",
      "metadata": {
        "id": "_a9PTm_aGIaH"
      },
      "source": [
        "loss = 'mse'"
      ],
      "execution_count": null,
      "outputs": []
    },
    {
      "cell_type": "markdown",
      "metadata": {
        "id": "FlQ3pcb3JrHK"
      },
      "source": [
        "* [Wikipedia](https://de.m.wikipedia.org/wiki/Methode_der_kleinsten_Quadrate)"
      ]
    },
    {
      "cell_type": "markdown",
      "metadata": {
        "id": "MUL3Y97WG7n6"
      },
      "source": [
        "**Mean Absolute Error (L1 Loss)**"
      ]
    },
    {
      "cell_type": "code",
      "metadata": {
        "id": "wTBTWNouBf4e"
      },
      "source": [
        "loss = 'mae'"
      ],
      "execution_count": null,
      "outputs": []
    },
    {
      "cell_type": "markdown",
      "metadata": {
        "id": "dwewFlH5dtSO"
      },
      "source": [
        "* Computes the mean of absolute difference between labels and predictions."
      ]
    },
    {
      "cell_type": "markdown",
      "metadata": {
        "id": "M9V8uoymHN3M"
      },
      "source": [
        "**Huber Loss (Smooth Mean Absolute Error)**"
      ]
    },
    {
      "cell_type": "code",
      "metadata": {
        "id": "36nuCq7bHY9N"
      },
      "source": [
        "loss = tf.keras.losses.Huber(\n",
        "    delta=1.0, reduction=losses_utils.ReductionV2.AUTO, name='huber_loss'\n",
        ")"
      ],
      "execution_count": null,
      "outputs": []
    },
    {
      "cell_type": "markdown",
      "metadata": {
        "id": "i7utPdOPHfya"
      },
      "source": [
        "**Log-Cosh Loss**"
      ]
    },
    {
      "cell_type": "code",
      "metadata": {
        "id": "4txMn1YnHjXc"
      },
      "source": [
        "loss = tf.keras.losses.LogCosh()"
      ],
      "execution_count": 6,
      "outputs": []
    },
    {
      "cell_type": "markdown",
      "metadata": {
        "id": "kUYfXn-xLED_"
      },
      "source": [
        "* Log-cosh is another function used in regression tasks that’s smoother than L2\n",
        "* Log-cosh is the logarithm of the hyperbolic cosine of the prediction error.\n",
        "* [Wiki Hyperbolic Functions](https://en.m.wikipedia.org/wiki/Hyperbolic_functions), [TF Class](https://www.tensorflow.org/api_docs/python/tf/keras/losses/LogCosh)"
      ]
    },
    {
      "cell_type": "markdown",
      "metadata": {
        "id": "-bRPT7j2Hjpr"
      },
      "source": [
        "**Quantile Loss (Pinball Loss)**"
      ]
    },
    {
      "cell_type": "code",
      "metadata": {
        "id": "7gNvk2yzHko8"
      },
      "source": [
        "loss = tfa.losses.PinballLoss(tau=.1)"
      ],
      "execution_count": null,
      "outputs": []
    },
    {
      "cell_type": "markdown",
      "metadata": {
        "id": "A23UY_EtKCYA"
      },
      "source": [
        "![xx](https://upload.wikimedia.org/wikipedia/commons/thumb/b/b7/Pinball_Loss_Function.svg/320px-Pinball_Loss_Function.svg.png)\n",
        "\n",
        "*Pinball-Verlustfunktion mit \n",
        "τ\n",
        "=0,9. Für \n",
        "ε\n",
        "<\n",
        "0 beträgt der Fehler \n",
        "−\n",
        "0\n",
        ",\n",
        "1\n",
        "ε, für \n",
        "ε\n",
        "≥\n",
        "0 beträgt er \n",
        "0\n",
        ",\n",
        "9\n",
        "ε.*"
      ]
    },
    {
      "cell_type": "markdown",
      "metadata": {
        "id": "V61VVogsIIED"
      },
      "source": [
        "* estimates conditional “quantile” of a response variable given certain values of predictor variables\n",
        "* is an extension of MAE (when quantile is 50th percentile, it’s MAE)\n",
        "* Im Gegensatz zur Kleinste-Quadrate-Schätzung, die den Erwartungswert der Zielgröße schätzt, ist die Quantilsregression dazu geeignet, ihre Quantile zu schätzen. \n",
        "* [Wikipedia](https://de.m.wikipedia.org/wiki/Quantilsregression), [TF Class](https://www.tensorflow.org/addons/api_docs/python/tfa/losses/PinballLoss) & [TF Function](https://www.tensorflow.org/addons/api_docs/python/tfa/losses/pinball_loss)"
      ]
    },
    {
      "cell_type": "markdown",
      "metadata": {
        "id": "qPHAqSSzGRWu"
      },
      "source": [
        "### **Cost Functions for Classification**"
      ]
    },
    {
      "cell_type": "code",
      "metadata": {
        "id": "Deqvu9M1BZ4n"
      },
      "source": [
        "loss = tf.keras.losses.SparseCategoricalCrossentropy(from_logits=True)"
      ],
      "execution_count": 2,
      "outputs": []
    },
    {
      "cell_type": "code",
      "metadata": {
        "id": "b2Ionbd8BCSM"
      },
      "source": [
        "loss = 'sparse_categorical_crossentropy'"
      ],
      "execution_count": null,
      "outputs": []
    },
    {
      "cell_type": "code",
      "metadata": {
        "id": "Ks4_vx_wFci9"
      },
      "source": [
        "loss = kullback leibler"
      ],
      "execution_count": null,
      "outputs": []
    },
    {
      "cell_type": "markdown",
      "metadata": {
        "id": "YfVxKUnwXK8Z"
      },
      "source": [
        "### **Define Model & Run**"
      ]
    },
    {
      "cell_type": "code",
      "metadata": {
        "id": "CDEv6ZETl129",
        "outputId": "be8b2ad2-74f9-4cc5-d718-1c84b27c1662",
        "colab": {
          "base_uri": "https://localhost:8080/",
          "height": 683
        }
      },
      "source": [
        "# Define Model\n",
        "model = tf.keras.models.Sequential()\n",
        "model.add(tf.keras.layers.Flatten(input_shape=(28, 28)))\n",
        "model.add(tf.keras.layers.Dense(512, activation='relu')) \n",
        "model.add(tf.keras.layers.Dropout(0.3))\n",
        "model.add(tf.keras.layers.Dense(10, activation='softmax'))\n",
        "\n",
        "# Compile Model\n",
        "model.compile(optimizer='adam', \n",
        "              loss=loss, \n",
        "              metrics=['accuracy'])\n",
        "\n",
        "# Train Model\n",
        "model.fit(x=x_train, \n",
        "          y=y_train, \n",
        "          epochs=5, \n",
        "          validation_data=(x_test, y_test),\n",
        "          callbacks=[PlotLossesKerasTF()],\n",
        "          verbose=1)"
      ],
      "execution_count": 7,
      "outputs": [
        {
          "output_type": "display_data",
          "data": {
            "image/png": "[encoded data removed]",
            "text/plain": [
              "<Figure size 864x576 with 2 Axes>"
            ]
          },
          "metadata": {
            "tags": [],
            "needs_background": "light"
          }
        },
        {
          "output_type": "stream",
          "text": [
            "accuracy\n",
            "\ttraining         \t (min:    0.097, max:    0.111, cur:    0.108)\n",
            "\tvalidation       \t (min:    0.036, max:    0.129, cur:    0.046)\n",
            "Loss\n",
            "\ttraining         \t (min:    3.805, max:    3.805, cur:    3.805)\n",
            "\tvalidation       \t (min:    3.805, max:    3.805, cur:    3.805)\n",
            "\b\b\b\b\b\b\b\b\b\b\b\b\b\b\b\b\b\b\b\b\b\b\b\b\b\b\b\b\b\b\b\b\b\b\b\b\b\b\b\b\b\b\b\b\b\b\b\b\b\b\b\b\b\b\b\b\b\b\b\b\b\b\b\b\b\b\b\b\b\b\b\b\b\b\b\b\b\b\b\b\b\b\b\b\b\b\r1875/1875 [==============================] - 7s 4ms/step - loss: 3.8045 - accuracy: 0.1077 - val_loss: 3.8045 - val_accuracy: 0.0457\n"
          ],
          "name": "stdout"
        },
        {
          "output_type": "execute_result",
          "data": {
            "text/plain": [
              "<tensorflow.python.keras.callbacks.History at 0x7fa765ed0a58>"
            ]
          },
          "metadata": {
            "tags": []
          },
          "execution_count": 7
        }
      ]
    }
  ]
}