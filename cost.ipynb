{
  "nbformat": 4,
  "nbformat_minor": 0,
  "metadata": {
    "colab": {
      "name": "cost.ipynb",
      "provenance": [],
      "collapsed_sections": [
        "gOhC8gWddYz_",
        "VVJqZBKKTJcX",
        "zy6HK9uZG4NF",
        "Z1FZ-FjIfW1T",
        "MUL3Y97WG7n6",
        "M9V8uoymHN3M",
        "i7utPdOPHfya",
        "-bRPT7j2Hjpr",
        "D7E3wg4yjGBj",
        "1KMGvau7juCt",
        "63gn-fNY5OQd",
        "rCZf8vrBmGux",
        "-FpKoePhiyJn",
        "h9_FrV4ZjMIx",
        "jieM-rKQjf_L",
        "bB89shlnkga3",
        "FAPHZ9GW0r7x",
        "mGH9Ay_53ZIg",
        "9-kXoehV3cnR",
        "d7Fs8xDgjqGa",
        "iAuSM7rYi0nW",
        "YfVxKUnwXK8Z"
      ],
      "include_colab_link": true
    },
    "kernelspec": {
      "display_name": "Python 3",
      "name": "python3"
    }
  },
  "cells": [
    {
      "cell_type": "markdown",
      "metadata": {
        "id": "view-in-github",
        "colab_type": "text"
      },
      "source": [
        "<a href=\"https://colab.research.google.com/github/deltorobarba/machinelearning/blob/master/cost.ipynb\" target=\"_parent\"><img src=\"https://colab.research.google.com/assets/colab-badge.svg\" alt=\"Open In Colab\"/></a>"
      ]
    },
    {
      "cell_type": "markdown",
      "metadata": {
        "id": "HjNmcYpFuFTY"
      },
      "source": [
        "# **Cost (Loss) & Reward Functions**"
      ]
    },
    {
      "cell_type": "code",
      "metadata": {
        "id": "8wxrDRida0pp",
        "outputId": "d108068b-6abe-4cd4-ecd1-bb5aac2179c2",
        "colab": {
          "base_uri": "https://localhost:8080/"
        }
      },
      "source": [
        "!pip install livelossplot --quiet\n",
        "from livelossplot import PlotLossesKerasTF\n",
        "import tensorflow as tf\n",
        "print(tf.__version__)"
      ],
      "execution_count": null,
      "outputs": [
        {
          "output_type": "stream",
          "text": [
            "2.3.0\n"
          ],
          "name": "stdout"
        }
      ]
    },
    {
      "cell_type": "markdown",
      "metadata": {
        "id": "AmqQ5UuaFxPE"
      },
      "source": [
        "### **Cost Functions for Regression**"
      ]
    },
    {
      "cell_type": "markdown",
      "metadata": {
        "id": "gOhC8gWddYz_"
      },
      "source": [
        "##### **Introduction**"
      ]
    },
    {
      "cell_type": "markdown",
      "metadata": {
        "id": "SSldNKjE4BZa"
      },
      "source": [
        "Cost, loss, risk or error function\n",
        "\n",
        "Properties of ideal Cost functions:\n",
        "\n",
        "* smooth, \n",
        "* continuous, \n",
        "* symmetric, \n",
        "* differentials"
      ]
    },
    {
      "cell_type": "markdown",
      "metadata": {
        "id": "BKwGKCZj3mhZ"
      },
      "source": [
        "https://en.m.wikipedia.org/wiki/Loss_function"
      ]
    },
    {
      "cell_type": "markdown",
      "metadata": {
        "id": "mhfmrX5NyKmF"
      },
      "source": [
        "https://youtu.be/fr7dfyfB7mI"
      ]
    },
    {
      "cell_type": "markdown",
      "metadata": {
        "id": "-L9Rza0hlnNE"
      },
      "source": [
        "$\\min _{W}\\left\\{L(W):=\\frac{1}{m} \\sum_{i=1}^{m} \\ell\\left(W ; x_{i}, y_{i}\\right)+\\lambda r(W)\\right\\}$"
      ]
    },
    {
      "cell_type": "markdown",
      "metadata": {
        "id": "UtSoZCm6A8iN"
      },
      "source": [
        "Complete list of [Loss / Cost Functions in TF](https://www.tensorflow.org/api_docs/python/tf/keras/losses/)"
      ]
    },
    {
      "cell_type": "markdown",
      "metadata": {
        "id": "tOaMQSLdJk2u"
      },
      "source": [
        "https://heartbeat.fritz.ai/5-regression-loss-functions-all-machine-learners-should-know-4fb140e9d4b0\n",
        "\n",
        "https://medium.com/human-in-a-machine-world/mae-and-rmse-which-metric-is-better-e60ac3bde13d\n",
        "\n",
        "https://stackoverflow.com/questions/45648351/what-is-difference-between-loss-function-and-rmse-in-machine-learning\n",
        "\n",
        "https://medium.com/@phuctrt/loss-functions-why-what-where-or-when-189815343d3f\n",
        "\n",
        "https://towardsdatascience.com/what-is-loss-function-1e2605aeb904\n",
        "\n",
        "https://datascience.stackexchange.com/questions/10188/why-do-cost-functions-use-the-square-error\n",
        "\n",
        "https://towardsdatascience.com/coding-deep-learning-for-beginners-linear-regression-part-2-cost-function-49545303d29f\n",
        "\n",
        "https://ml-cheatsheet.readthedocs.io/en/latest/loss_functions.html#kullback-leibler"
      ]
    },
    {
      "cell_type": "markdown",
      "metadata": {
        "id": "jkbfamvD4rHK"
      },
      "source": [
        "https://towardsdatascience.com/https-medium-com-chayankathuria-regression-why-mean-square-error-a8cad2a1c96f"
      ]
    },
    {
      "cell_type": "markdown",
      "metadata": {
        "id": "Zpcc_fhBNRiQ"
      },
      "source": [
        "![xx](https://raw.githubusercontent.com/deltorobarba/machinelearning/master/regression_loss.PNG)"
      ]
    },
    {
      "cell_type": "markdown",
      "metadata": {
        "id": "OQwg5vHW6Nuu"
      },
      "source": [
        "http://www.cs.cornell.edu/courses/cs4780/2015fa/web/lecturenotes/lecturenote10.html"
      ]
    },
    {
      "cell_type": "markdown",
      "metadata": {
        "id": "VVJqZBKKTJcX"
      },
      "source": [
        "##### **SE, SAE & SSE**"
      ]
    },
    {
      "cell_type": "markdown",
      "metadata": {
        "id": "CSGJLSQ_TbBo"
      },
      "source": [
        "**Sum of Errors (SE)** the difference in the predicted value and the actual value.\n",
        "\n",
        "$\\mathbf{L}=\\Sigma(\\hat{Y}-Y)$\n",
        "\n",
        "Errors terms cancel each other out. \n"
      ]
    },
    {
      "cell_type": "markdown",
      "metadata": {
        "id": "fzYBf5MKTvi-"
      },
      "source": [
        "**Sum of Absolute Errors (SAE)** takes the absolute values of the errors for all iterations.\n",
        "\n",
        "$\\mathbf{L}=\\Sigma (|\\hat{Y}-Y|)$\n",
        "\n",
        "This loss function is not differentiable at 0. "
      ]
    },
    {
      "cell_type": "markdown",
      "metadata": {
        "id": "6jN34GYcUXz9"
      },
      "source": [
        "**Sum of Squared Errors (SSE)** is differentiable at all points and gives non-negative errors. But you could argue that why cannot we go for higher orders like 4th order or so. Then what if we consider to take 4th order loss function, which would look like:\n",
        "\n",
        "$\\mathbf{L}=\\left[\\Sigma(\\hat{Y}-Y)^{2}\\right]$\n",
        "\n",
        "The gradient of the loss function will vanish at minima & maxima. And the error will grow with the sample size."
      ]
    },
    {
      "cell_type": "markdown",
      "metadata": {
        "id": "C1r2VOUPXMmq"
      },
      "source": [
        "![xxx](https://raw.githubusercontent.com/deltorobarba/machinelearning/master/sumoferrors.png)"
      ]
    },
    {
      "cell_type": "markdown",
      "metadata": {
        "id": "-IzwoGPnZRbx"
      },
      "source": [
        "* Minimizing Sum of Squared Errors / SSE ([wiki](https://de.m.wikipedia.org/wiki/Residuenquadratsumme) and [medium](https://medium.com/@dustinstansbury/cutting-your-losses-loss-functions-the-sum-of-squared-errors-loss-4c467d52a511)).  We can think of the SSE loss as the (unscaled) variance of the model errors. \n",
        "* Therefore **minimizing the SEE loss is equivalent to minimizing the variance of the model residuals**. For this reason, the sum of squares loss is often referred to as the Residual Sum of Squares error (RSS) for linear models. We can think of minimizing the SSE loss as maximizing the covariance between the real outputs and those predicted by the model.\n",
        "* Ideal when distribution of residuals in normal: the [Gauss-Markov theorem](https://en.wikipedia.org/wiki/Gauss–Markov_theorem) states that if errors of a linear function are distributed Normally about the mean of the line, then the LSS solution gives the [best unbiased estimator](https://en.wikipedia.org/wiki/Bias_of_an_estimator) for the parameters .\n",
        "* Problem: Because each error is squared, any outliers in the dataset can dominate the parameter estimation process. For this reason, the LSS loss is said to lack robustness. Therefore preprocessing of the the dataset (i.e. removing or thresholding outlier values) may be necessary when using the LSS loss"
      ]
    },
    {
      "cell_type": "markdown",
      "metadata": {
        "id": "zy6HK9uZG4NF"
      },
      "source": [
        "##### **MSE (L2 Loss)**"
      ]
    },
    {
      "cell_type": "code",
      "metadata": {
        "id": "_a9PTm_aGIaH"
      },
      "source": [
        "loss = 'mse'"
      ],
      "execution_count": null,
      "outputs": []
    },
    {
      "cell_type": "markdown",
      "metadata": {
        "id": "roP8IXhWVyqD"
      },
      "source": [
        "$\\mathrm{MSE}={\\frac{1}{n} \\sum_{j=1}^{n}\\left(y_{j}-\\hat{y}_{j}\\right)^{2}}$"
      ]
    },
    {
      "cell_type": "markdown",
      "metadata": {
        "id": "FlQ3pcb3JrHK"
      },
      "source": [
        "* Mean Squared Error (L2 or Quadratic Loss). Error decreases as we increase our sample data as the distribution of our data becomes more and more narrower (referring to normal distribution). The more data we have, the less is the error.\n",
        "* Can range from 0 to ∞ and are indifferent to the direction of errors. It is  negatively-oriented scores, which means lower values are better. It is always non – negative and values close to zero are better. The MSE is the second moment of the error (about the origin) and thus incorporates both the variance of the estimator and its bias.\n",
        "* Problem: Sensitive to outliers and the order of loss is more than that of the data. As my data is of order 1 and the loss function, MSE has an order of 2 (squared). So we cannot directly correlate data with the error. \n",
        "* [Wikipedia](https://de.m.wikipedia.org/wiki/Methode_der_kleinsten_Quadrate)"
      ]
    },
    {
      "cell_type": "code",
      "metadata": {
        "id": "WRmCUqgTgkLt"
      },
      "source": [
        "def mse(predictions, targets):\n",
        "    # Retrieving number of samples in dataset\n",
        "    samples_num = len(predictions)\n",
        "    \n",
        "    # Summing square differences between predicted and expected values\n",
        "    accumulated_error = 0.0\n",
        "    for prediction, target in zip(predictions, targets):\n",
        "        accumulated_error += (prediction - target)**2\n",
        "        \n",
        "    # Calculating mean and dividing by 2\n",
        "    mae_error = (1.0 / (2*samples_num)) * accumulated_error\n",
        "    \n",
        "    return mae_error"
      ],
      "execution_count": null,
      "outputs": []
    },
    {
      "cell_type": "markdown",
      "metadata": {
        "id": "iztigyeof0qt"
      },
      "source": [
        "**Mean Squared Logarithmic Error (MSLR)**"
      ]
    },
    {
      "cell_type": "code",
      "metadata": {
        "id": "YVndjV5xf5tY"
      },
      "source": [
        ""
      ],
      "execution_count": null,
      "outputs": []
    },
    {
      "cell_type": "markdown",
      "metadata": {
        "id": "a0fMbvjdf57W"
      },
      "source": [
        "* Mean Squared Logarithmic Error\n",
        "* https://www.tensorflow.org/api_docs/python/tf/keras/losses/MeanSquaredLogarithmicError"
      ]
    },
    {
      "cell_type": "markdown",
      "metadata": {
        "id": "Z1FZ-FjIfW1T"
      },
      "source": [
        "##### **RMSE**"
      ]
    },
    {
      "cell_type": "code",
      "metadata": {
        "id": "3cE7mWb3fYeP"
      },
      "source": [
        ""
      ],
      "execution_count": null,
      "outputs": []
    },
    {
      "cell_type": "markdown",
      "metadata": {
        "id": "aGKvemXQTxrG"
      },
      "source": [
        "$\\mathrm{RMSE}=\\sqrt{\\frac{1}{n} \\sum_{j=1}^{n}\\left(y_{j}-\\hat{y}_{j}\\right)^{2}}$"
      ]
    },
    {
      "cell_type": "markdown",
      "metadata": {
        "id": "W7DiXtVUfZv3"
      },
      "source": [
        "* Root-Mean-Square Error is the distance, on average, of a data point from the fitted line, measured along a vertical line.\n",
        "* The **RMSE is directly interpretable in terms of measurement units**, and so is a better measure of goodness of fit than a correlation coefficient. One can compare the RMSE to observed variation in measurements of a typical point. The two should be similar for a reasonable fit. Metric can range from 0 to ∞ and are indifferent to the direction of errors. It is  negatively-oriented scores, which means lower values are better.\n",
        "* Since the errors are squared before they are averaged, the RMSE gives a relatively high weight to large errors. This means the RMSE should be more useful when large errors are particularly undesirable\n",
        "* https://en.m.wikipedia.org/wiki/Root-mean-square_deviation"
      ]
    },
    {
      "cell_type": "markdown",
      "metadata": {
        "id": "taoM__MVSAbf"
      },
      "source": [
        "**RMSLE**"
      ]
    },
    {
      "cell_type": "code",
      "metadata": {
        "id": "sHCT13-gSDAw"
      },
      "source": [
        ""
      ],
      "execution_count": null,
      "outputs": []
    },
    {
      "cell_type": "markdown",
      "metadata": {
        "id": "cZUhp1-tSJXq"
      },
      "source": [
        "* Abzüge für Fehler nach der relativen Größe statt des absoluten Werts vornehmen. Das ist besonders hilfreich, wenn sowohl die vorhergesagten als auch die tatsächlichen Werte sehr groß werden können. Nicht gültig für eine Zielspalte mit negativen Werten"
      ]
    },
    {
      "cell_type": "markdown",
      "metadata": {
        "id": "TrujRpndSDa7"
      },
      "source": [
        "**RMSPE**"
      ]
    },
    {
      "cell_type": "code",
      "metadata": {
        "id": "27unxIPOSE7D"
      },
      "source": [
        ""
      ],
      "execution_count": null,
      "outputs": []
    },
    {
      "cell_type": "markdown",
      "metadata": {
        "id": "MUL3Y97WG7n6"
      },
      "source": [
        "##### **MAE (L1 Loss)**"
      ]
    },
    {
      "cell_type": "code",
      "metadata": {
        "id": "wTBTWNouBf4e"
      },
      "source": [
        "loss = 'mae'"
      ],
      "execution_count": null,
      "outputs": []
    },
    {
      "cell_type": "markdown",
      "metadata": {
        "id": "K0l6NTY_T00L"
      },
      "source": [
        "$\\mathrm{MAE}=\\frac{1}{n} \\sum_{j=1}^{n}\\left|y_{j}-\\hat{y}_{j}\\right|$"
      ]
    },
    {
      "cell_type": "markdown",
      "metadata": {
        "id": "QGmm_005WT6H"
      },
      "source": [
        "*If the absolute value is not taken (the signs of the errors are not removed), the average error becomes the Mean Bias Error (MBE) and is usually intended to measure average model bias. MBE can convey useful information, but should be interpreted cautiously because positive and negative errors will cancel out.*"
      ]
    },
    {
      "cell_type": "markdown",
      "metadata": {
        "id": "dwewFlH5dtSO"
      },
      "source": [
        "* Mean Absolute Error (L1 Loss)\n",
        "* Computes the mean of absolute difference between labels and predictions\n",
        "* measures the average magnitude of the errors in a set of predictions, without considering their direction. It’s the average over the test sample of the absolute differences between prediction and actual observation where all individual differences have equal weight.\n",
        "* Metric can range from 0 to ∞ and are indifferent to the direction of errors. It is  negatively-oriented scores, which means lower values are better.\n",
        "* Extremwerte als Ausreißer mit geringerem Einfluss auf das Modell ansehen: MAE loss is useful if the training data is corrupted with outliers (i.e. we erroneously receive unrealistically huge negative/positive values in our training environment, but not our testing environment).\n"
      ]
    },
    {
      "cell_type": "code",
      "metadata": {
        "id": "fZlsXjjYguS_"
      },
      "source": [
        "def mae(predictions, targets):\n",
        "    # Retrieving number of samples in dataset\n",
        "    samples_num = len(predictions)\n",
        "    \n",
        "    # Summing absolute differences between predicted and expected values\n",
        "    accumulated_error = 0.0\n",
        "    for prediction, target in zip(predictions, targets):\n",
        "        accumulated_error += np.abs(prediction - target)\n",
        "        \n",
        "    # Calculating mean\n",
        "    mae_error = (1.0 / samples_num) * accumulated_error\n",
        "    \n",
        "    return mae_error"
      ],
      "execution_count": null,
      "outputs": []
    },
    {
      "cell_type": "markdown",
      "metadata": {
        "id": "by0MnQ9bN0LH"
      },
      "source": [
        "**MSE vs MSE**\n",
        "\n",
        "One big problem in using MAE loss (for neural nets especially) is that its gradient is the same throughout, which means the gradient will be large even for small loss values. This isn’t good for learning. To fix this, we can use dynamic learning rate which decreases as we move closer to the minima. MSE behaves nicely in this case and will converge even with a fixed learning rate. The gradient of MSE loss is high for larger loss values and decreases as loss approaches 0, making it more precise at the end of training (see figure below.)"
      ]
    },
    {
      "cell_type": "markdown",
      "metadata": {
        "id": "daG9qEDxOCyo"
      },
      "source": [
        "![xx](https://raw.githubusercontent.com/deltorobarba/machinelearning/master/mae_vs_mse.PNG)"
      ]
    },
    {
      "cell_type": "markdown",
      "metadata": {
        "id": "DNncxKvrUZ3k"
      },
      "source": [
        "**Mean Absolute Percentage Error (MAPE)**"
      ]
    },
    {
      "cell_type": "code",
      "metadata": {
        "id": "C0besM03eqMI"
      },
      "source": [
        ""
      ],
      "execution_count": null,
      "outputs": []
    },
    {
      "cell_type": "markdown",
      "metadata": {
        "id": "xCaQs6DTevbo"
      },
      "source": [
        "* https://en.m.wikipedia.org/wiki/Mean_absolute_percentage_error"
      ]
    },
    {
      "cell_type": "markdown",
      "metadata": {
        "id": "W8-r2TGwefJj"
      },
      "source": [
        "**Symmetric Mean Absolute Percentage Error (sMAPE)**"
      ]
    },
    {
      "cell_type": "code",
      "metadata": {
        "id": "JfBnOe2TejxO"
      },
      "source": [
        ""
      ],
      "execution_count": null,
      "outputs": []
    },
    {
      "cell_type": "markdown",
      "metadata": {
        "id": "trnmeQ--ezQl"
      },
      "source": [
        "* https://en.m.wikipedia.org/wiki/Symmetric_mean_absolute_percentage_error"
      ]
    },
    {
      "cell_type": "markdown",
      "metadata": {
        "id": "M9V8uoymHN3M"
      },
      "source": [
        "##### **Huber**"
      ]
    },
    {
      "cell_type": "code",
      "metadata": {
        "id": "78swAUdn5ftf"
      },
      "source": [
        "loss = tf.keras.losses.Huber(delta=100.0, name='huber_loss')"
      ],
      "execution_count": null,
      "outputs": []
    },
    {
      "cell_type": "markdown",
      "metadata": {
        "id": "NonIaG1MOoo6"
      },
      "source": [
        "![xx](https://upload.wikimedia.org/wikipedia/commons/thumb/c/cc/Huber_loss.svg/320px-Huber_loss.svg.png)\n",
        "\n",
        "*Huber loss (green, \n",
        "δ\n",
        "=\n",
        "1) and squared error loss (blue) as a function of \n",
        "y\n",
        "−\n",
        "f\n",
        "(\n",
        "x\n",
        ")*"
      ]
    },
    {
      "cell_type": "markdown",
      "metadata": {
        "id": "dbvRBSBjQLJC"
      },
      "source": [
        "$L_{\\delta}(y, f(x))=\\left\\{\\begin{array}{ll}\n",
        "\\frac{1}{2}(y-f(x))^{2} & \\text { for }|y-f(x)| \\leq \\delta \\\\\n",
        "\\delta|y-f(x)|-\\frac{1}{2} \\delta^{2} & \\text { otherwise }\n",
        "\\end{array}\\right.$"
      ]
    },
    {
      "cell_type": "markdown",
      "metadata": {
        "id": "2u-W2FmUOZAC"
      },
      "source": [
        "* Huber Loss (Smooth Mean Absolute Error)\n",
        "\n",
        "* The Huber loss **combines the best properties of MSE and MAE** (Mean Absolute Error). It is quadratic for smaller errors and is linear otherwise (and similarly for its gradient). It is identified by its delta parameter.\n",
        "\n",
        "* It's **less sensitive to outliers** in data than the squared error loss. It’s **also differentiable at 0**. It’s basically absolute error, which becomes quadratic when error is small.  How small that error has to be to make it quadratic depends on a hyperparameter 𝛿. \n",
        "\n",
        "* Once differentiable.\n",
        "\n",
        "* **Huber loss approaches MSE when 𝛿 ~ 0 and MAE when 𝛿 ~ ∞**\n",
        "\n",
        "* The choice of delta is critical because it determines what you’re willing to consider as an outlier. Residuals larger than delta are minimized with L1 (which is less sensitive to large outliers), while residuals smaller than delta are minimized “appropriately” with L2.\n",
        "\n",
        "* One big problem with using MAE for training of neural nets is its constantly large gradient, which can lead to missing minima at the end of training using gradient descent. For MSE, gradient decreases as the loss gets close to its minima, making it more precise.\n",
        "Huber loss can be really helpful in such cases, as it curves around the minima which decreases the gradient. And it’s more robust to outliers than MSE. Therefore, **it combines good properties from both MSE and MAE**. \n",
        "\n",
        "* However, the problem with Huber loss is that we might need to train hyperparameter delta which is an iterative process.\n",
        "\n",
        "* [Wiki](https://en.m.wikipedia.org/wiki/Huber_loss) * [TensorFlow](https://www.tensorflow.org/api_docs/python/tf/keras/losses/Huber)"
      ]
    },
    {
      "cell_type": "markdown",
      "metadata": {
        "id": "i7utPdOPHfya"
      },
      "source": [
        "##### **Log-Cosh**"
      ]
    },
    {
      "cell_type": "code",
      "metadata": {
        "id": "4txMn1YnHjXc"
      },
      "source": [
        "loss = tf.keras.losses.LogCosh()"
      ],
      "execution_count": null,
      "outputs": []
    },
    {
      "cell_type": "markdown",
      "metadata": {
        "id": "kUYfXn-xLED_"
      },
      "source": [
        "* Log-cosh is another function used in regression tasks that’s smoother than L2\n",
        "* Log-cosh is the logarithm of the hyperbolic cosine of the prediction error.\n",
        "* Similar to Huber Loss, but twice differentiable everywhere\n",
        "* [Wiki Hyperbolic Functions](https://en.m.wikipedia.org/wiki/Hyperbolic_functions), [TF Class](https://www.tensorflow.org/api_docs/python/tf/keras/losses/LogCosh)"
      ]
    },
    {
      "cell_type": "markdown",
      "metadata": {
        "id": "-bRPT7j2Hjpr"
      },
      "source": [
        "##### **Quantile**"
      ]
    },
    {
      "cell_type": "code",
      "metadata": {
        "id": "7gNvk2yzHko8"
      },
      "source": [
        "loss = tfa.losses.PinballLoss(tau=.1)"
      ],
      "execution_count": null,
      "outputs": []
    },
    {
      "cell_type": "markdown",
      "metadata": {
        "id": "A23UY_EtKCYA"
      },
      "source": [
        "![xx](https://upload.wikimedia.org/wikipedia/commons/thumb/b/b7/Pinball_Loss_Function.svg/320px-Pinball_Loss_Function.svg.png)\n",
        "\n",
        "*Pinball-Verlustfunktion mit \n",
        "τ\n",
        "=0,9. Für \n",
        "ε\n",
        "<\n",
        "0 beträgt der Fehler \n",
        "−\n",
        "0\n",
        ",\n",
        "1\n",
        "ε, für \n",
        "ε\n",
        "≥\n",
        "0 beträgt er \n",
        "0\n",
        ",\n",
        "9\n",
        "ε.*"
      ]
    },
    {
      "cell_type": "markdown",
      "metadata": {
        "id": "V61VVogsIIED"
      },
      "source": [
        "* Quantile Loss (Pinball Loss)\n",
        "* estimates conditional “quantile” of a response variable given certain values of predictor variables\n",
        "* is an extension of MAE (**when quantile is 50th percentile, it’s MAE**)\n",
        "* Im Gegensatz zur Kleinste-Quadrate-Schätzung, die den Erwartungswert der Zielgröße schätzt, ist die Quantilsregression dazu geeignet, ihre Quantile zu schätzen.\n",
        "* Fitting models for many percentiles, you can estimate the entire conditional distribution. Often, the answers to important questions are found by modeling percentiles in the tails of the distribution. For that reason **quantile regression provides critical insights in financial risk management & fraud detection**. \n",
        "* [Wikipedia](https://de.m.wikipedia.org/wiki/Quantilsregression), [TF Class](https://www.tensorflow.org/addons/api_docs/python/tfa/losses/PinballLoss) & [TF Function](https://www.tensorflow.org/addons/api_docs/python/tfa/losses/pinball_loss)"
      ]
    },
    {
      "cell_type": "markdown",
      "metadata": {
        "id": "Q1zREy6LgiWc"
      },
      "source": [
        "https://www.evergreeninnovations.co/blog-quantile-loss-function-for-machine-learning/"
      ]
    },
    {
      "cell_type": "markdown",
      "metadata": {
        "id": "IT0gbfKEf9MY"
      },
      "source": [
        "* project where predictions were subject to high uncertainty. The client required for their decision to be driven by both the predicted machine learning output and a measure of the potential prediction error. The quantile regression loss function solves this and similar problems by replacing a single value prediction by prediction intervals.\n",
        "\n",
        "* The quantile regression loss function is applied to predict quantiles. A quantile is the value below which a fraction of observations in a group falls. For example, a prediction for quantile 0.9 should over-predict 90% of the times.\n",
        "\n",
        "* For q equal to 0.5, under-prediction and over-prediction will be penalized by the same factor, and the median is obtained. The larger the value of q, the more over-predictions are penalized compared to under-predictions. For q equal to 0.75, over-predictions will be penalized by a factor of 0.75, and under-predictions by a factor of 0.25. The model will then try to avoid over-predictions approximately three times as hard as under-predictions, and the 0.75 quantile will be obtained."
      ]
    },
    {
      "cell_type": "markdown",
      "metadata": {
        "id": "qPHAqSSzGRWu"
      },
      "source": [
        "### **Cost Functions for Binary Classification**"
      ]
    },
    {
      "cell_type": "markdown",
      "metadata": {
        "id": "D7E3wg4yjGBj"
      },
      "source": [
        "##### **Binary Cross-Entropy**"
      ]
    },
    {
      "cell_type": "code",
      "metadata": {
        "id": "ROTyn_fojPI0"
      },
      "source": [
        ""
      ],
      "execution_count": null,
      "outputs": []
    },
    {
      "cell_type": "markdown",
      "metadata": {
        "id": "zeUnraN74y0_"
      },
      "source": [
        "* Cross-entropy is the default loss function to use for binary classification problems.\n",
        "\n",
        "* It is intended for use with binary classification where the target values are in the set {0, 1}.\n",
        "\n",
        "* Mathematically, it is the preferred loss function under the inference framework of maximum likelihood. It is the loss function to be evaluated first and only changed if you have a good reason.\n",
        "\n",
        "* Cross-entropy will calculate a score that summarizes the average difference between the actual and predicted probability distributions for predicting class 1. The score is minimized and a perfect cross-entropy value is 0.\n",
        "\n",
        "* The function requires that the output layer is configured with a single node and a ‘sigmoid‘ activation in order to predict the probability for class 1."
      ]
    },
    {
      "cell_type": "markdown",
      "metadata": {
        "id": "1KMGvau7juCt"
      },
      "source": [
        "##### **Hinge Loss**"
      ]
    },
    {
      "cell_type": "code",
      "metadata": {
        "id": "1oYZzEwfjwRc"
      },
      "source": [
        ""
      ],
      "execution_count": null,
      "outputs": []
    },
    {
      "cell_type": "markdown",
      "metadata": {
        "id": "X9qY18Y32Na6"
      },
      "source": [
        "* An alternative to cross-entropy for binary classification problems is the hinge loss function, primarily developed for use with Support Vector Machine (SVM) models.\n",
        "* It is intended for use with binary classification where the target values are in the set {-1, 1}.\n",
        "* The hinge loss function encourages examples to have the correct sign, assigning more error when there is a difference in the sign between the actual and predicted class values."
      ]
    },
    {
      "cell_type": "markdown",
      "metadata": {
        "id": "63gn-fNY5OQd"
      },
      "source": [
        "##### **Squared Hinge Loss**"
      ]
    },
    {
      "cell_type": "code",
      "metadata": {
        "id": "tESv9TFj5QpZ"
      },
      "source": [
        ""
      ],
      "execution_count": null,
      "outputs": []
    },
    {
      "cell_type": "markdown",
      "metadata": {
        "id": "Cx3yMKCj5YYI"
      },
      "source": [
        "* The hinge loss function has many extensions, often the subject of investigation with SVM models.\n",
        "\n",
        "* A popular extension is called the squared hinge loss that simply calculates the square of the score hinge loss. It has the effect of smoothing the surface of the error function and making it numerically easier to work with.\n",
        "\n",
        "* If using a hinge loss does result in better performance on a given binary classification problem, is likely that a squared hinge loss may be appropriate.\n",
        "\n",
        "* As with using the hinge loss function, the target variable must be modified to have values in the set {-1, 1}."
      ]
    },
    {
      "cell_type": "markdown",
      "metadata": {
        "id": "xDjzTk8x3Nxb"
      },
      "source": [
        "https://en.m.wikipedia.org/wiki/Loss_functions_for_classification"
      ]
    },
    {
      "cell_type": "markdown",
      "metadata": {
        "id": "5OTCGBZT4mvM"
      },
      "source": [
        "### **Cost Functions for Multiclass Classification**"
      ]
    },
    {
      "cell_type": "markdown",
      "metadata": {
        "id": "rCZf8vrBmGux"
      },
      "source": [
        "##### **Contrastive Loss**"
      ]
    },
    {
      "cell_type": "markdown",
      "metadata": {
        "id": "5AXn5dd9uVrH"
      },
      "source": [
        "https://gombru.github.io/2019/04/03/ranking_loss/"
      ]
    },
    {
      "cell_type": "code",
      "metadata": {
        "id": "G-YxcdlhmLT4"
      },
      "source": [
        ""
      ],
      "execution_count": null,
      "outputs": []
    },
    {
      "cell_type": "markdown",
      "metadata": {
        "id": "-FpKoePhiyJn"
      },
      "source": [
        "##### **Categorical Cross Entropy**"
      ]
    },
    {
      "cell_type": "code",
      "metadata": {
        "id": "LlC2R-7WjOvV"
      },
      "source": [
        ""
      ],
      "execution_count": null,
      "outputs": []
    },
    {
      "cell_type": "markdown",
      "metadata": {
        "id": "h9_FrV4ZjMIx"
      },
      "source": [
        "##### **Sparse Cross-Entropy**"
      ]
    },
    {
      "cell_type": "code",
      "metadata": {
        "id": "Deqvu9M1BZ4n"
      },
      "source": [
        "loss = tf.keras.losses.SparseCategoricalCrossentropy(from_logits=True)"
      ],
      "execution_count": null,
      "outputs": []
    },
    {
      "cell_type": "code",
      "metadata": {
        "id": "b2Ionbd8BCSM"
      },
      "source": [
        "loss = 'sparse_categorical_crossentropy'"
      ],
      "execution_count": null,
      "outputs": []
    },
    {
      "cell_type": "markdown",
      "metadata": {
        "id": "jieM-rKQjf_L"
      },
      "source": [
        "##### **Log-Loss (Cross-Entropy Loss / negative log-likelihood)**"
      ]
    },
    {
      "cell_type": "code",
      "metadata": {
        "id": "6G6KVcH-ji6L"
      },
      "source": [
        ""
      ],
      "execution_count": null,
      "outputs": []
    },
    {
      "cell_type": "markdown",
      "metadata": {
        "id": "z7lTRcsl1uNt"
      },
      "source": [
        "$-(y \\log (p)+(1-y) \\log (1-p))$"
      ]
    },
    {
      "cell_type": "markdown",
      "metadata": {
        "id": "TYYl1AFf0_rv"
      },
      "source": [
        "* It measures the performance of a classification model whose output is a probability value between 0 and 1. Cross-entropy loss increases as the predicted probability diverges from the actual label. \n",
        "\n",
        "* So predicting a probability of .012 when the actual observation label is 1 would be bad and result in a high loss value.  A perfect model would have a log loss of 0.\n",
        "\n",
        "* Cross-entropy and log loss are slightly different depending on context, but in machine learning when calculating error rates between 0 and 1 they resolve to the same thing. "
      ]
    },
    {
      "cell_type": "markdown",
      "metadata": {
        "id": "bB89shlnkga3"
      },
      "source": [
        "##### **Poison Loss**"
      ]
    },
    {
      "cell_type": "code",
      "metadata": {
        "id": "2IDu5bC_kiIb"
      },
      "source": [
        ""
      ],
      "execution_count": null,
      "outputs": []
    },
    {
      "cell_type": "markdown",
      "metadata": {
        "id": "FAPHZ9GW0r7x"
      },
      "source": [
        "##### **Focal Loss**"
      ]
    },
    {
      "cell_type": "code",
      "metadata": {
        "id": "Wnv1NRGc0vhQ"
      },
      "source": [
        ""
      ],
      "execution_count": null,
      "outputs": []
    },
    {
      "cell_type": "markdown",
      "metadata": {
        "id": "mGH9Ay_53ZIg"
      },
      "source": [
        "##### **Logistic Loss**"
      ]
    },
    {
      "cell_type": "code",
      "metadata": {
        "id": "rDZLynp73cSc"
      },
      "source": [
        ""
      ],
      "execution_count": null,
      "outputs": []
    },
    {
      "cell_type": "markdown",
      "metadata": {
        "id": "9-kXoehV3cnR"
      },
      "source": [
        "##### **Tangent Loss**"
      ]
    },
    {
      "cell_type": "code",
      "metadata": {
        "id": "JTlBkDA23fjC"
      },
      "source": [
        ""
      ],
      "execution_count": null,
      "outputs": []
    },
    {
      "cell_type": "markdown",
      "metadata": {
        "id": "d7Fs8xDgjqGa"
      },
      "source": [
        "##### **Exponential Loss**"
      ]
    },
    {
      "cell_type": "code",
      "metadata": {
        "id": "ZbZJydo4jr_v"
      },
      "source": [
        ""
      ],
      "execution_count": null,
      "outputs": []
    },
    {
      "cell_type": "markdown",
      "metadata": {
        "id": "iAuSM7rYi0nW"
      },
      "source": [
        "##### **Kullback-Leibler Divergence**"
      ]
    },
    {
      "cell_type": "code",
      "metadata": {
        "id": "Ks4_vx_wFci9"
      },
      "source": [
        "loss = kullback leibler"
      ],
      "execution_count": null,
      "outputs": []
    },
    {
      "cell_type": "markdown",
      "metadata": {
        "id": "YfVxKUnwXK8Z"
      },
      "source": [
        "### **Define Model & Run**"
      ]
    },
    {
      "cell_type": "code",
      "metadata": {
        "id": "pKomy6Y9c18A",
        "outputId": "3b05f797-8776-49c5-b7ba-505c3258666c",
        "colab": {
          "background_save": true,
          "base_uri": "https://localhost:8080/",
          "height": 758
        }
      },
      "source": [
        "# Load & Prepare Data\n",
        "fashion_mnist = tf.keras.datasets.fashion_mnist\n",
        "(x_train, y_train),(x_test, y_test) = fashion_mnist.load_data()\n",
        "x_train, x_test = x_train / 255.0, x_test / 255.0\n",
        "\n",
        "# Define Model\n",
        "model = tf.keras.models.Sequential()\n",
        "model.add(tf.keras.layers.Flatten(input_shape=(28, 28)))\n",
        "model.add(tf.keras.layers.Dense(512, activation='relu')) \n",
        "model.add(tf.keras.layers.Dropout(0.3))\n",
        "model.add(tf.keras.layers.Dense(10, activation='softmax'))\n",
        "\n",
        "# Compile Model\n",
        "model.compile(optimizer='adam', \n",
        "              loss=loss, \n",
        "              metrics=['accuracy'])\n",
        "\n",
        "# Train Model\n",
        "model.fit(x=x_train, \n",
        "          y=y_train, \n",
        "          epochs=5, \n",
        "          validation_data=(x_test, y_test),\n",
        "          callbacks=[PlotLossesKerasTF()],\n",
        "          verbose=1)"
      ],
      "execution_count": null,
      "outputs": [
        {
          "output_type": "display_data",
          "data": {
            "image/png": "[encoded data removed]",
            "text/plain": [
              "<Figure size 864x576 with 2 Axes>"
            ]
          },
          "metadata": {
            "tags": []
          }
        },
        {
          "output_type": "stream",
          "text": [
            "accuracy\n",
            "\ttraining         \t (min:    0.098, max:    0.103, cur:    0.100)\n",
            "\tvalidation       \t (min:    0.102, max:    0.109, cur:    0.102)\n",
            "Loss\n",
            "\ttraining         \t (min:   27.610, max:   27.610, cur:   27.610)\n",
            "\tvalidation       \t (min:   27.610, max:   27.610, cur:   27.610)\n",
            "\b\b\b\b\b\b\b\b\b\b\b\b\b\b\b\b\b\b\b\b\b\b\b\b\b\b\b\b\b\b\b\b\b\b\b\b\b\b\b\b\b\b\b\b\b\b\b\b\b\b\b\b\b\b\b\b\b\b\b\b\b\b\b\b\b\b\b\b\b\b\b\b\b\b\b\b\b\b\b\b\b\b\b\b\b\b\b\r1875/1875 [==============================] - 8s 4ms/step - loss: 27.6101 - accuracy: 0.1005 - val_loss: 27.6100 - val_accuracy: 0.1018\n"
          ],
          "name": "stdout"
        },
        {
          "output_type": "execute_result",
          "data": {
            "text/plain": [
              "<tensorflow.python.keras.callbacks.History at 0x7f0ced498fd0>"
            ]
          },
          "metadata": {
            "tags": []
          },
          "execution_count": 0
        }
      ]
    }
  ]
}