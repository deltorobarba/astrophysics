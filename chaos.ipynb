{
  "nbformat": 4,
  "nbformat_minor": 0,
  "metadata": {
    "colab": {
      "name": "chaos.ipynb",
      "provenance": [],
      "collapsed_sections": [
        "U3xyzZzNOEhv",
        "4JijVDdYpeTw",
        "_DcbvY2o-JyH",
        "xkZ5JGgOF0sg",
        "rHbqVW7sb0Pg",
        "VMXeo-KcVurT",
        "uPNSndPtbrJ0",
        "gOMKrtkmE8ua",
        "_F7C0w0HcBTE",
        "m066sar7fCUi",
        "JUgCSRigbYcL",
        "7urGQ-Mimc1B",
        "sVcrXskTme_C",
        "hIwXOz85zxW_",
        "oWWNNyv_EaUV",
        "ns0WTkvNEDAQ",
        "_ewrnIMeGMaB",
        "2NTzou7vkNpJ",
        "Zn9KRGIxmuMA",
        "TIlHfzneEmUl",
        "pjRri_I_FHtx",
        "Qy5Bzgs2FlRp",
        "7VusXlsGmEqM",
        "m6JGAp7gkVxN",
        "TJ19WJwUEMSI",
        "0aIi9hlrERqr",
        "3lyG3ihYEZnO",
        "tCPgHXFiCKpH"
      ],
      "include_colab_link": true
    },
    "kernelspec": {
      "name": "python3",
      "display_name": "Python 3"
    }
  },
  "cells": [
    {
      "cell_type": "markdown",
      "metadata": {
        "id": "view-in-github",
        "colab_type": "text"
      },
      "source": [
        "<a href=\"https://colab.research.google.com/github/deltorobarba/machinelearning/blob/master/chaos.ipynb\" target=\"_parent\"><img src=\"https://colab.research.google.com/assets/colab-badge.svg\" alt=\"Open In Colab\"/></a>"
      ]
    },
    {
      "cell_type": "markdown",
      "metadata": {
        "id": "HjNmcYpFuFTY"
      },
      "source": [
        "# **Dynamical System, Fractals & Chaos Theory**"
      ]
    },
    {
      "cell_type": "code",
      "metadata": {
        "id": "RYViK39mt7Nj"
      },
      "source": [
        "import numpy as np\n",
        "import pandas as pd\n",
        "import seaborn as sns\n",
        "import matplotlib.pyplot as plt"
      ],
      "execution_count": null,
      "outputs": []
    },
    {
      "cell_type": "markdown",
      "metadata": {
        "id": "obJoHunGx367"
      },
      "source": [
        "https://www.youtube.com/watch?v=VxYcWn6AQsg"
      ]
    },
    {
      "cell_type": "markdown",
      "metadata": {
        "id": "pidsi3CCz2z5"
      },
      "source": [
        "https://www.quantamagazine.org/mathematicians-identify-threshold-at-which-shapes-give-way-20210603/"
      ]
    },
    {
      "cell_type": "markdown",
      "metadata": {
        "id": "U3xyzZzNOEhv"
      },
      "source": [
        "#### **Overview & Summary**"
      ]
    },
    {
      "cell_type": "markdown",
      "metadata": {
        "id": "6NqT2XMsak0v"
      },
      "source": [
        "https://www.youtube.com/watch?v=uzJXeluCKMs&t=91s"
      ]
    },
    {
      "cell_type": "markdown",
      "metadata": {
        "id": "P3c-Uv6xOVcH"
      },
      "source": [
        "**Chaos**"
      ]
    },
    {
      "cell_type": "markdown",
      "metadata": {
        "id": "wd_1yAgSErNZ"
      },
      "source": [
        "*Chaotic deterministic systems*:\n",
        "\n",
        "* deterministic: not random, but one clear outcome\n",
        "* chaotic: no observable pattern on how they behave (aperiodic behavior over time)\n",
        "* extremely sensitive to small changes in the initial conditions (also: it's impossible to know all the initial conditions with zero margin of error, like temperature until infinite decimal places)\n",
        "\n",
        "Most important research task hence: **After what period of time it is simoly not worth to predict the future anymore?**\n",
        "\n",
        "* Roots of chaos in differential equations and dynamical systems (how any physical system evolves in the real world)"
      ]
    },
    {
      "cell_type": "markdown",
      "metadata": {
        "id": "NvGb67r8UwHq"
      },
      "source": [
        "**Dynamical System**"
      ]
    },
    {
      "cell_type": "markdown",
      "metadata": {
        "id": "WbX-pspSOvk1"
      },
      "source": [
        "> Dynamical system: involves one or more variables that change over time according to autonomous differential equations."
      ]
    },
    {
      "cell_type": "markdown",
      "metadata": {
        "id": "-W6s14-oNcBb"
      },
      "source": [
        "\n",
        "> $\\dot{x}=$ rate of change of $x$ as time changes\n",
        "\n",
        "> $\\dot{y}=$ rate of change of $y$ as time changes\n",
        "\n",
        "They depend on t:\n",
        "\n",
        "$\\frac{d x}{d t}=$ rate of change of $x$ as time changes $\\frac{d y}{d t}=$ rate of change of $y$ as time changes\n",
        "\n",
        "but the differential equation that describe x dot and y dot don’t actually involve time t:\n",
        "\n",
        "> $\\dot{x}=-y-0.1 x$\n",
        "\n",
        "> $\\dot{y}=x-0.4 y$\n",
        "\n",
        "This makes them autonomous. Each combination of x and y to only corresponds to one combination of x dot and y dot.\n",
        "\n",
        "You can represent it in a dynamical system called the phase space. Each point in space is a unique state of the system. And has its own rate of change shown as a vector. "
      ]
    },
    {
      "cell_type": "markdown",
      "metadata": {
        "id": "2e_Lcuv0N7YP"
      },
      "source": [
        "For this specific system shown, the vector field looks like this, and let scatter a bunch of random points around to represent different possible states see how they evolve and move around: They all spiral towards the center."
      ]
    },
    {
      "cell_type": "markdown",
      "metadata": {
        "id": "KIujOlBtNqx-"
      },
      "source": [
        "![gg](https://raw.githubusercontent.com/deltorobarba/repo/master/chaos_01.png)"
      ]
    },
    {
      "cell_type": "markdown",
      "metadata": {
        "id": "eKBSSxLEOeok"
      },
      "source": [
        "**Attractors**"
      ]
    },
    {
      "cell_type": "markdown",
      "metadata": {
        "id": "xbHgUrRjOtNL"
      },
      "source": [
        "> An attractor is a set of points in the phase space which attracts all the trajectories in an area surrounding it - the basin of attraction."
      ]
    },
    {
      "cell_type": "markdown",
      "metadata": {
        "id": "DloWwMM4PBQd"
      },
      "source": [
        "For the exampe above the attraction is zero, and the basin is every point in space. Notice that at the origin x dot and y dot also equal zero.\n",
        "\n",
        "$\\dot{x}=-(0)-0.1(0)=0$\n",
        "\n",
        "$\\dot{y}=(0)-0.4(0)=0$\n",
        "\n",
        "The origin is in this case **fixed point (attractor)**, because every point in there will stay forever. It seem like an inevitability, hence determinism (as chaos is)."
      ]
    },
    {
      "cell_type": "markdown",
      "metadata": {
        "id": "SIxPvBMNPxlE"
      },
      "source": [
        "But there are also other types of attractors, like the Van der Pol oscillator:"
      ]
    },
    {
      "cell_type": "markdown",
      "metadata": {
        "id": "nkfTe33IQAY0"
      },
      "source": [
        "> $\\dot{x}=\\mu\\left(x-\\frac{1}{3} x^{3}-y\\right)$\n",
        "\n",
        "> $\\dot{y}=\\frac{1}{\\mu} x$"
      ]
    },
    {
      "cell_type": "markdown",
      "metadata": {
        "id": "jvBJNo0OQe6b"
      },
      "source": [
        "It creates something called: \"**Limit Cycle Attractor**\":\n",
        "\n",
        "* it doesn't end up in a point\n",
        "\n",
        "* typically appear in physical systems with some sort of oscillation (electrical circuits, tectonic plates, etc)."
      ]
    },
    {
      "cell_type": "markdown",
      "metadata": {
        "id": "PkfT8XP8QmJd"
      },
      "source": [
        "![gg](https://raw.githubusercontent.com/deltorobarba/repo/master/chaos_02.png)"
      ]
    },
    {
      "cell_type": "markdown",
      "metadata": {
        "id": "DoEH4nS-SRJV"
      },
      "source": [
        "**Strange Attractor**"
      ]
    },
    {
      "cell_type": "markdown",
      "metadata": {
        "id": "OAZ-MJo-RH_g"
      },
      "source": [
        "Lorenz Attractor:"
      ]
    },
    {
      "cell_type": "markdown",
      "metadata": {
        "id": "Luo2ipo2RaUH"
      },
      "source": [
        "Lorenz system describes convection cycles in the atmoshphere. Very sensitive to changes in initial conditions already after a short time:\n",
        "\n",
        "> $\\dot{x}=\\sigma(y-x)$\n",
        "\n",
        "> $\\dot{y}=x(\\rho-z)-y$\n",
        "\n",
        "> $\\dot{z}=x y-\\beta z$"
      ]
    },
    {
      "cell_type": "markdown",
      "metadata": {
        "id": "LqcSX6E9SUuV"
      },
      "source": [
        "The Lorenz equations have a few parameters that can be tweaked to alter the behavior of a system. This is what is known as ‘strange attractor’:\n",
        "\n",
        "> $\\dot{x}=10(y-x)$\n",
        "\n",
        "> $\\dot{y}=x(28-z)-y$\n",
        "\n",
        "> $\\dot{z}=x y-\\frac{8}{3} z$"
      ]
    },
    {
      "cell_type": "markdown",
      "metadata": {
        "id": "Y5S3wPimSfoo"
      },
      "source": [
        "> **A strange attractor is and attractor that has a fractal dimension**"
      ]
    },
    {
      "cell_type": "markdown",
      "metadata": {
        "id": "CwIU85TCTPgt"
      },
      "source": [
        "1. No point in the space is ever visited more than once by the same trajectory - it that happens, the trajectory would travel in a predictable loop. \n",
        "2. And no 2 trajectories will ever intersect. If that happened, they would merge into the same path, giving two different sets of initial conditions the same outcome."
      ]
    },
    {
      "cell_type": "markdown",
      "metadata": {
        "id": "39clKcldTSa8"
      },
      "source": [
        "![gg](https://raw.githubusercontent.com/deltorobarba/repo/master/chaos_03.png)"
      ]
    },
    {
      "cell_type": "markdown",
      "metadata": {
        "id": "ffI5UaQzVDh4"
      },
      "source": [
        "A single trajectory will visit an infinite number of points in this limited space, and this limited space will have an infinite number of trajectories. \n",
        "\n",
        "* Trajectories are just curved, so they should be 1-dimensional..normally!\n",
        "* For the strange attractor: no matter how much you zoom in on this attractor, you can always find more and more trajectories everywhere.\n",
        "* That’s why this attractor is said to have a **non integer dimension** - it’s **made up of infinite long curves in a finite space, which are so detailed, that they start to partially fill up higher dimensions**. It’s not 1, 2 or 3 dimensional, its somewhere in between. (=detail at arbitrarily small scales)\n",
        "\n",
        "Conclusion: Lorenz attractor is a fractal space, and hence a strange attractor."
      ]
    },
    {
      "cell_type": "markdown",
      "metadata": {
        "id": "n7Xgi0pqVbok"
      },
      "source": [
        "Differentiation: not every strange attractor is a chaotic attractor. But a lorenz attractor is both."
      ]
    },
    {
      "cell_type": "markdown",
      "metadata": {
        "id": "RpPv3PGEVZda"
      },
      "source": [
        "![gg](https://raw.githubusercontent.com/deltorobarba/repo/master/chaos_04.png)"
      ]
    },
    {
      "cell_type": "markdown",
      "metadata": {
        "id": "UuGzpghuWBxv"
      },
      "source": [
        "Even is both points started at the same point, small initial differences can bring them to complete different paths:"
      ]
    },
    {
      "cell_type": "markdown",
      "metadata": {
        "id": "23nU0DkKV7II"
      },
      "source": [
        "![gg](https://raw.githubusercontent.com/deltorobarba/repo/master/chros_05.png)"
      ]
    },
    {
      "cell_type": "markdown",
      "metadata": {
        "id": "7qZFAoc8WMnJ"
      },
      "source": [
        "The difference in trajectories increases exponentially:"
      ]
    },
    {
      "cell_type": "markdown",
      "metadata": {
        "id": "gOAWTDsoV7-F"
      },
      "source": [
        "![gg](https://raw.githubusercontent.com/deltorobarba/repo/master/chaos_06.png)"
      ]
    },
    {
      "cell_type": "markdown",
      "metadata": {
        "id": "-Cqh9B_mWZqp"
      },
      "source": [
        "**$\\lambda$ stands for Lyapunov exponent**\n",
        "\n",
        "$\\lambda$ > 0, trajectories will increase exponentially (= chaotic)\n",
        "\n",
        "$\\lambda$ = 0, distance will stay constant\n",
        "\n",
        "$\\lambda$ < 0, distance will converge to zero."
      ]
    },
    {
      "cell_type": "markdown",
      "metadata": {
        "id": "wOplsvl0W4PE"
      },
      "source": [
        "Unfortunately there is no way to find the Lyapunov exponent only by looking at the equations. It is measured by running the simulation, keeping track of mainy pairs of trajectories, and find the average rate of change in their distance.\n",
        "\n",
        "But it provides a simple metric to comunicate how chaotic a system is."
      ]
    },
    {
      "cell_type": "markdown",
      "metadata": {
        "id": "F2zxZLw7Xodd"
      },
      "source": [
        "**For the Lorenz attractor it is $\\lambda$ ≈ 0.9**\n",
        "\n",
        "Used to find out duration in which the predictions are valid: \"Predictability Horizon\". We get this by re-arranging our previous equation $d_{t}=d_{0} e^{\\lambda t}$:\n",
        "\n",
        "> Predictability horizon $=\\frac{1}{\\lambda} \\ln \\frac{a}{d_{0}}$\n",
        "\n",
        "$d_{0}=$ initial error \n",
        "\n",
        "$a=$ maximum allowed error\n",
        "\n",
        "Fo the Lorenz attractor, after 10 time steps, any error would have multiplied by 8,000 already."
      ]
    },
    {
      "cell_type": "markdown",
      "metadata": {
        "id": "V72Dst2pYpVm"
      },
      "source": [
        "Example what that means with this exponential divergence:\n",
        "\n",
        "We have a simulation that predicts where ocean currents flow, and you want to keep the error less than 1,000 km. \n",
        "* If you ran it twice, once an initial error of 1m and once the initial error was a million times smaller than one micrometer (0,000001m), how much longer  the simulation with the smaller error would stay below the margin of error.\n",
        "* The simulation would be valid 9 days instead of 3 days, but for an initial error that is a million times smaller !!\n",
        "\n",
        "Let’s write the expressions for the two predictability horizons, and put them in a fraction:\n",
        "\n",
        "> $\\frac{\\left(\\frac{1}{\\lambda} \\ln \\frac{1000}{0.000001}\\right)}{\\left(\\frac{1}{\\lambda} \\ln \\frac{1000}{1}\\right)}$\n",
        "\n",
        "> = $\\frac{\\left(\\frac{1}{\\lambda} \\ln 10^{9}\\right)}{\\left(\\frac{1}{\\lambda} \\ln 10^{3}\\right)}$\n",
        "\n",
        "> = $\\frac{\\left(9 \\cdot \\frac{1}{\\lambda} \\ln 10\\right)}{\\left(3 \\cdot \\frac{1}{\\lambda} \\ln 10\\right)}$\n",
        "\n",
        "> = $\\frac{9}{3}$. \n",
        "\n",
        "= It’s 3 times longer.\n"
      ]
    },
    {
      "cell_type": "markdown",
      "metadata": {
        "id": "4JijVDdYpeTw"
      },
      "source": [
        "#### **Chaos Theory**"
      ]
    },
    {
      "cell_type": "markdown",
      "metadata": {
        "id": "vf946YGPkfYP"
      },
      "source": [
        "https://en.m.wikipedia.org/wiki/Chaos_theory"
      ]
    },
    {
      "cell_type": "markdown",
      "metadata": {
        "id": "oHjYrrAv_4gQ"
      },
      "source": [
        "https://en.m.wikipedia.org/wiki/Lyapunov_time"
      ]
    },
    {
      "cell_type": "markdown",
      "metadata": {
        "id": "kyz_N98ZjBEO"
      },
      "source": [
        "https://en.m.wikipedia.org/wiki/Lyapunov_exponent"
      ]
    },
    {
      "cell_type": "markdown",
      "metadata": {
        "id": "JtW7Ki2lAFWG"
      },
      "source": [
        "https://en.m.wikipedia.org/wiki/Supersymmetric_theory_of_stochastic_dynamics"
      ]
    },
    {
      "cell_type": "markdown",
      "metadata": {
        "id": "hpigl7DBWHmm"
      },
      "source": [
        "https://www.quantamagazine.org/chaos-theory-in-ecology-predicts-future-populations-20151013/"
      ]
    },
    {
      "cell_type": "markdown",
      "metadata": {
        "id": "OMvhl1bS9j7Y"
      },
      "source": [
        "https://en.m.wikipedia.org/wiki/Phase_space"
      ]
    },
    {
      "cell_type": "markdown",
      "metadata": {
        "id": "Du80X2o_WpAz"
      },
      "source": [
        "**Julia Set & Fatou Set**"
      ]
    },
    {
      "cell_type": "markdown",
      "metadata": {
        "id": "Lzg0A18pWQO7"
      },
      "source": [
        "https://en.m.wikipedia.org/wiki/Julia_set"
      ]
    },
    {
      "cell_type": "markdown",
      "metadata": {
        "id": "15lYRV7UnwrT"
      },
      "source": [
        "https://en.m.wikipedia.org/wiki/Dynamical_system"
      ]
    },
    {
      "cell_type": "markdown",
      "metadata": {
        "id": "ViHqpm63n0Os"
      },
      "source": [
        "https://en.m.wikipedia.org/wiki/Deterministic_system"
      ]
    },
    {
      "cell_type": "markdown",
      "metadata": {
        "id": "0oJSt90Zne8M"
      },
      "source": [
        "Many phenomena in nature can be described by dynamical systems; chaos theory makes precise the ways in which many of these systems exhibit unpredictable yet still deterministic behavior."
      ]
    },
    {
      "cell_type": "markdown",
      "metadata": {
        "id": "zRnrU0ltn6pQ"
      },
      "source": [
        "https://en.m.wikipedia.org/wiki/Mathematics#Pure_mathematics"
      ]
    },
    {
      "cell_type": "markdown",
      "metadata": {
        "id": "yAfkwYDoFmEs"
      },
      "source": [
        "**Komplexes System**"
      ]
    },
    {
      "cell_type": "markdown",
      "metadata": {
        "id": "3YzAyotrq51A"
      },
      "source": [
        "* Complexity theory is rooted in chaos theory bzw: In a sense chaotic systems can be regarded as a subset of complex systems distinguished precisely by this absence of historical dependence. \n",
        "\n",
        "* Chaos is sometimes viewed as extremely complicated information, rather than as an absence of order.\n",
        "\n",
        "* The emergence of complexity theory shows a domain between deterministic order and randomness which is complex. This is referred to as the [\"edge of chaos\"](https://en.wikipedia.org/wiki/Edge_of_chaos).\n",
        "\n",
        "* **When one analyzes complex systems, sensitivity to initial conditions, for example, is not an issue as important as it is within chaos theory, in which it prevails.**\n",
        "\n",
        "https://en.wikipedia.org/wiki/Complex_system#Complexity_and_chaos_theory"
      ]
    },
    {
      "cell_type": "markdown",
      "metadata": {
        "id": "8XhaRvZ0dXcJ"
      },
      "source": [
        "* [Komplexe Systeme](https://de.wikipedia.org/wiki/Komplexes_System) sind Systeme (Gesamtheiten von Objekten, die sich in einem ganzheitlichen Zusammenhang befinden und durch die Wechselbeziehungen untereinander gegenüber ihrer Umgebung abzugrenzen sind), welche sich der Vereinfachung verwehren und vielschichtig bleiben. \n",
        "\n",
        "* Siehe auch [Systemeigenschaften#Komplexität](https://de.wikipedia.org/wiki/Systemeigenschaften#Komplexität)\n",
        "\n",
        "* Insbesondere gehören hierzu die [komplexen adaptiven Systeme](https://de.wikipedia.org/wiki/Komplexes_adaptives_System), die imstande sind, sich an ihre Umgebung anzupassen.\n",
        "\n",
        "* Ihre Analyse ist Sache der [Komplexitätstheorie](https://de.wikipedia.org/wiki/Komplexitätstheorie) (englisch complexity theory) bzw. Systemtheorie.\n",
        "\n",
        "* Komplexe Systeme sind z. B. das Gehirn, das Internet, Finanzmärkte, multinationale Konzerne, aber eben auch das menschliche Nervensystem, der Mensch selbst, Infrastrukturnetze etc."
      ]
    },
    {
      "cell_type": "markdown",
      "metadata": {
        "id": "on4GTn_0efWt"
      },
      "source": [
        "Komplexe Systeme zeigen eine Reihe von Eigenschaften (Auswahl):\n",
        "\n",
        "1. **Agentenbasiert**: Komplexe Systeme bestehen aus einzelnen Teilen, die miteinander in Wechselwirkung stehen (Moleküle, Individuen, Software-Agenten etc.).\n",
        "2. **Nichtlinearität**: Kleine Störungen des Systems oder minimale Unterschiede in den Anfangsbedingungen führen oft zu sehr unterschiedlichen Ergebnissen (Schmetterlingseffekt, Phasenübergänge). Die Wirkzusammenhänge der Systemkomponenten sind im Allgemeinen nichtlinear.\n",
        "3. [**Emergenz**](https://de.wikipedia.org/wiki/Emergenz): Im Gegensatz zu lediglich komplizierten Systemen zeigen komplexe Systeme Emergenz. Entgegen einer verbreiteten Vereinfachung bedeutet Emergenz nicht, dass die Eigenschaften der emergierenden Systemebenen von den darunter liegenden Ebenen vollständig unabhängig sind. Emergente Eigenschaften lassen sich jedoch auch nicht aus der isolierten Analyse des Verhaltens einzelner Systemkomponenten erklären und nur sehr begrenzt ableiten.\n",
        "4. **Wechselwirkung** (Interaktion): Die Wechselwirkungen zwischen den Teilen des Systems (Systemkomponenten) sind lokal, ihre Auswirkungen in der Regel global.\n",
        "5. **Offenes System**: Komplexe Systeme sind üblicherweise offene Systeme. Sie stehen also im Kontakt mit ihrer Umgebung und befinden sich fern vom thermodynamischen Gleichgewicht. Das bedeutet, dass sie von einem permanenten Durchfluss von Energie bzw. Materie abhängen.\n",
        "6. **Selbstorganisation**: Dies ermöglicht die Bildung insgesamt stabiler Strukturen (Selbststabilisierung oder Homöostase), die ihrerseits das thermodynamische Ungleichgewicht aufrechterhalten. Sie sind dabei in der Lage, Informationen zu verarbeiten bzw. zu lernen.\n",
        "7. **Selbstregulation**: Dadurch können sie die Fähigkeit zur inneren Harmonisierung entwickeln. Sie sind also in der Lage, aufgrund der Informationen und derer Verarbeitung das innere Gleichgewicht und Balance zu verstärken.\n",
        "8. **Pfade**: Komplexe Systeme zeigen Pfadabhängigkeit: Ihr zeitliches Verhalten ist nicht nur vom aktuellen Zustand, sondern auch von der Vorgeschichte des Systems abhängig.\n",
        "9. **Attraktoren**: Die meisten komplexen Systeme weisen so genannte Attraktoren auf, d. h., dass das System unabhängig von seinen Anfangsbedingungen bestimmte Zustände oder Zustandsabfolgen anstrebt, wobei diese Zustandsabfolgen auch chaotisch sein können; dies sind die „seltsamen Attraktoren“ der Chaosforschung."
      ]
    },
    {
      "cell_type": "markdown",
      "metadata": {
        "id": "enazi1-1sBBr"
      },
      "source": [
        "Some [complex systems](https://en.wikipedia.org/wiki/Complex_system), for example, are also [complex networks](https://en.wikipedia.org/wiki/Complex_network), which have properties such as phase transitions and power-law degree distributions that readily lend themselves to emergent or chaotic behavior. The fact that the number of edges in a [complete graph](https://en.wikipedia.org/wiki/Complete_graph) grows quadratically in the number of vertices sheds additional light on the source of complexity in large networks: as a network grows, the number of relationships between entities quickly dwarfs the number of entities in the network."
      ]
    },
    {
      "cell_type": "markdown",
      "metadata": {
        "id": "_DcbvY2o-JyH"
      },
      "source": [
        "#### **Dynamisches System**"
      ]
    },
    {
      "cell_type": "markdown",
      "metadata": {
        "id": "of7Da7rfOTfB"
      },
      "source": [
        "> **A dynamical system involves one or more variables that change over time according to autonomous differential equations.**"
      ]
    },
    {
      "cell_type": "markdown",
      "metadata": {
        "id": "rSqLmeHzcQhw"
      },
      "source": [
        "https://en.m.wikipedia.org/wiki/Dynamical_systems_theory"
      ]
    },
    {
      "cell_type": "markdown",
      "metadata": {
        "id": "xkZ5JGgOF0sg"
      },
      "source": [
        "###### **Definition & Properties**"
      ]
    },
    {
      "cell_type": "markdown",
      "metadata": {
        "id": "0-OG2Rw8EzzH"
      },
      "source": [
        "* Ein (deterministisches) [dynamisches System](https://de.wikipedia.org/wiki/Dynamisches_System) ist ein mathematisches Modell eines zeitabhängigen Prozesses, der homogen bezüglich der Zeit ist, dessen weiterer Verlauf also nur vom Anfangszustand, aber nicht von der Wahl des Anfangszeitpunkts abhängt. \n",
        "\n",
        "* Dynamische Systeme finden vielfältige Anwendungen auf Prozesse in der Mathematik (z. B. Zahlentheorie, Stochastik), in der Physik (z. B. Pendelbewegung, Klimamodelle) oder in der theoretischen Biologie (z. B. Räuber-Beute-Modelle).\n",
        "\n",
        "* Man unterscheidet zwischen **diskreter und kontinuierlicher Zeitentwicklung**. Bei einem zeitdiskreten dynamischen System ändern sich die Zustände in äquidistanten Zeitsprüngen, d. h. in aufeinanderfolgenden, stets gleich großen zeitlichen Abständen, während die Zustandsänderungen eines zeitkontinuierlichen dynamischen Systems in infinitesimal kleinen Zeitschritten stattfinden. Das wichtigste Beschreibungsmittel für zeitkontinuierliche dynamische Systeme sind **autonome gewöhnliche Differenzialgleichungen**.\n",
        "\n",
        "* Wichtige Fragestellungen im Zusammenhang mit dynamischen Systemen betreffen vor allem ihr Langzeitverhalten (zum Beispiel [Stabilität](https://de.wikipedia.org/wiki/Stabilitätstheorie), [Periodizität](https://de.wikipedia.org/wiki/Periodische_Funktion), [Chaos](https://de.wikipedia.org/wiki/Chaosforschung) und [Ergodizität](https://de.wikipedia.org/wiki/Ergodizität)), die [Systemidentifikation](https://de.wikipedia.org/wiki/Systemidentifikation) und ihre [Regelung](https://de.wikipedia.org/wiki/Regelung_(Natur_und_Technik)).\n",
        "\n",
        "* [Dynamik](https://de.wikipedia.org/wiki/Systemeigenschaften#Dynamik) ist gekennzeichnet durch das zeitliche Verhalten des Systems. Statische Systeme zeigen ohne Einflüsse von außen sowohl auf der Makroebene als auch auf der Mikroebene keine Veränderungen (Beispiel: ruhendes Pendel). Dynamische Systeme sind auf der Mikroebene dauernden Veränderungen unterworfen, können aber zumindest zeitweise auf der Makroebene einen stationären Zustand einnehmen (Beispiele: chemische Gleichgewichtsreaktion, Ökosystem Wald). **Ob ein System als statisch oder dynamisch betrachtet wird, hängt vom Zeitmaßstab und von der Zeitdauer der Beobachtung des Systems ab.** Dies wird deutlich bei Systemen im Gleichgewicht, die aber um ihre Gleichgewichtslage schwanken: Ist der Beobachtungszeitraum zu kurz, kann nicht ermittelt werden, ob es sich um Schwankungen um einen Mittelwert handelt oder ob ein ansteigender oder absinkender Trend vorliegt (Beispiel: Klimaschwankungen seit Beginn der direkten Messungen). Wird ein sehr großer Maßstab gewählt, sind die Schwankungen gar nicht feststellbar; das System verhält sich scheinbar statisch."
      ]
    },
    {
      "cell_type": "markdown",
      "metadata": {
        "id": "lrUUwfzwMXIb"
      },
      "source": [
        "Ein dynamisches System ist ein Tripel $(T, X, \\Phi)$, bestehend aus \n",
        "\n",
        "* **Zeitraum**: einer Menge $T=\\mathbb{N}_{0}, \\mathbb{Z}, \\mathbb{R}_{0}^{+}$ oder $\\mathbb{R}$, \n",
        "* **Zustandsraum** (dem Phasenraum): einer nichtleeren Menge $X$, \n",
        "* **Operation** $\\Phi: T \\times X \\rightarrow X$ von $T$ auf $X,$ \n",
        "\n",
        "so dass für alle Zustände $x \\in X$ und alle Zeitpunkte $t, s \\in T$ gilt:\n",
        "\n",
        "1. **Identitätseigenschaft**: $\\Phi(0, x)=x$\n",
        "\n",
        "2. **Halbgruppeneigenschaft**: $\\Phi(s, \\Phi(t, x))=\\Phi(s+t, x)$\n",
        "\n",
        "Wenn $T=\\mathbb{N}_{0}$ oder $T=\\mathbb{Z}$ ist, dann heißt $(T, X, \\Phi)$ **zeitdiskret** oder kurz diskret, und mit $T=\\mathbb{R}_{0}^{+}$ oder $T=\\mathbb{R}$ nennt man $(T, X, \\Phi)$ **zeitkontinuierlich** oder kontinuierlich. \n",
        "\n",
        "$(T, X, \\Phi)$ wird außerdem als diskretes oder kontinuierliches dynamisches System für reelle Zeit oder als invertierbar bezeichnet, falls $T=\\mathbb{Z}$ bzw. $T=\\mathbb{R}$ gilt."
      ]
    },
    {
      "cell_type": "markdown",
      "metadata": {
        "id": "gZET2JecNqP5"
      },
      "source": [
        "* Für jedes $x \\in X$ heißt die Abbildung $\\beta_{x}: T \\rightarrow X, t \\mapsto \\beta_{x}(t):=\\Phi(t, x)$ die Bewegung von $x=\\beta_{x}(0),$ und\n",
        "die Menge $O(x):=\\left\\{\\beta_{x}(t) \\mid t \\in T\\right\\}$ wird die Bahn (der (volle) Orbit, die Trajektorie, die Phasenkurve, die Bahnkurve, die Lösungskurve) von $x$ genannt. \n",
        "\n",
        "* Der positive Halborbit oder Vorwärtsorbit von $x$ ist $O^{+}(x):=\\left\\{\\beta_{x}(t) \\mid t \\in T \\cap \\mathbb{R}_{0}^{+}\\right\\}$ und, falls $(T, X, \\Phi)$ invertierbar ist, ist\n",
        "$O^{-}(x):=\\left\\{\\beta_{x}(t) \\mid-t \\in T \\cap \\mathbb{R}_{0}^{+}\\right\\}$ der negative Halborbit oder\n",
        "Rückwärtsorbit von $x .$"
      ]
    },
    {
      "cell_type": "markdown",
      "metadata": {
        "id": "HjjRXC07NssR"
      },
      "source": [
        "* Ein diskretes dynamisches System $(T, X, \\Phi)$ ist stetig, wenn sein Zustandsraum $X$ ein (nichtleerer) **metrischer Raum** ist und wenn jede zu einem Zeitpunkt $t \\in T$ gehörende Transformation $\\varphi_{t}: X \\rightarrow X, x \\mapsto \\varphi_{t}(x):=\\Phi(t, x),$ stetig ist.\n",
        "\n",
        "* Man nennt ein kontinuierliches dynamisches System $(T, X, \\Phi)$ stetig oder einen [Halbfluss](https://de.wikipedia.org/wiki/Fluss_(Mathematik)), wenn sein Zustandsraum $X$ ein metrischer Raum ist und wenn\n",
        "jede zu einem Zeitpunkt gehörende Transformation sowie jede Bewegung eines Zustands stetig ist. \n",
        "\n",
        "* Außerdem nennt man ein stetiges diskretes dynamisches System $(\\mathbb{Z}, X, \\Phi)$ auch eine Kaskade und einen Halbfluss $(\\mathbb{R}, X, \\Phi)$ einen Fluss. \n",
        "\n",
        "* Der Zustandsraum eines stetigen dynamischen Systems wird auch als [Phasenraum](https://de.wikipedia.org/wiki/Phasenraum) und von jedem $x_{0} \\in X$ der Orbit als die Phasenkurve oder Trajektorie von $x_{0}$ bezeichnet, die einfach $x: t \\mapsto x(t)$ geschrieben wird mit $x(0)=x_{0}$."
      ]
    },
    {
      "cell_type": "markdown",
      "metadata": {
        "id": "rHbqVW7sb0Pg"
      },
      "source": [
        "###### **Beispiele: Exponentielles Wachstum & Federpendel**"
      ]
    },
    {
      "cell_type": "markdown",
      "metadata": {
        "id": "CavQUAbfJuQs"
      },
      "source": [
        "**Beispiel: Exponentielles Wachstum**\n",
        "\n",
        "Die charakterisierende Eigenschaft eines dynamischen Systems ist, dass **der Zustand zwar von der verstrichenen Zeit $t \\in T$ und vom Anfangswert $x_{0} \\in X$ abhängt, jedoch nicht von der Wahl der Anfangszeitpunkts**. \n",
        "\n",
        "Sei etwa $y_{0}, y_{1}, y_{2}, \\ldots$ eine weitere exponentiell wachsende Population mit dem gleichen Wachstumsfaktor $a$, aber mit dem Anfangswert $y_{0}=x_{t}$ gegeben. Zu einem Zeitpunkt $s \\in T$ gilt dann\n",
        "\n",
        ">$\n",
        "y_{s}=a^{s} y_{0}=a^{s} a^{t} x_{0}=a^{s+t} x_{0}=x_{s+t}\n",
        "$\n",
        "\n",
        "Die zweite Population wächst also im Zeitabschnitt $[0, s]$ genauso wie die erste im Zeitabschnitt $[t, s+t]$. \n",
        "\n",
        "Dieses Verhalten lässt sich noch anders ausdrücken: Die sogenannte **Flussfunktion** $\\Phi: T \\times X \\rightarrow X$, die jedem Zeitpunkt $t \\in T$ und jedem Anfangszustand $x \\in X$ den Zustand $\\Phi(t, x)$ zum Zeitpunkt $t$ zuordnet, hier also $\\Phi(t, x)=a^{t} x,$ erfüllt für alle $s, t \\in T$ und alle $x \\in X$ die Gleichung\n",
        "\n",
        ">$\n",
        "\\Phi(s, \\Phi(t, x))=\\Phi(s+t, x)\n",
        "$\n",
        "\n",
        "Das ist die sogenannte **Halbgruppeneigenschaft des Flusses eines dynamischen Systems**."
      ]
    },
    {
      "cell_type": "markdown",
      "metadata": {
        "id": "VvJa1SUhKwnk"
      },
      "source": [
        "**Beispiel: Federpendel**\n",
        "\n",
        "Der Zustand eines solchen Systems zu einem Zeitpunkt $t \\in T=[0, \\infty)$ ist gegeben als das geordnete Paar $(x(t), v(t))$, bestehend aus dem Ort $x(t)$ und der Geschwindigkeit $v(t)$. Insbesondere ist dann **der gesamte Bewegungsablauf durch die Vorgabe einer Anfangsposition $x(0)=x_{0}$ zusammen mit einer Anfangsgeschwindigkeit $v(0)=v_{0}$ eindeutig bestimmt** (daher deterministisch und nicht stochastisch!). Im Fall einer eindimensionalen Bewegung ist somit der Zustandsraum $X=\\mathbb{R}^{2}$.\n",
        "\n",
        "Als konkretes Beispiel soll ein Federpendel betrachtet werden, auf dessen Massestück mit der Masse $m$ die Rückstellkraft der Feder sowie möglicherweise eine geschwindigkeitsabhängige Reibungskraft einwirkt. Bezeichnet man die Gesamtkraft mit $F(x(t), v(t)),$ so ergibt sich für den Zustand das gewöhnliche Differentialgleichungssystem\n",
        "\n",
        ">$\n",
        "\\begin{aligned}\n",
        "\\dot{x}(t) &=v(t) \\\\\n",
        "\\dot{v}(t) &=\\frac{1}{m} F(x(t), v(t))\n",
        "\\end{aligned}\n",
        "$\n",
        "\n",
        "wobei der Punkt über den Variablen die Ableitung nach der - in diesem Beispiel kontinuierlichen - Zeit bezeichnet. Die erste Gleichung besagt, dass die\n",
        "Geschwindigkeit die Ableitung des Ortes nach der Zeit ist, und die zweite ergibt sich direkt aus dem zweiten newtonschen Axiom, nach dem Masse mal Beschleunigung gleich der auf den Massepunkt wirkenden Gesamtkraft ist."
      ]
    },
    {
      "cell_type": "markdown",
      "metadata": {
        "id": "TwJhXPAYMH5y"
      },
      "source": [
        "Es lässt sich zeigen, dass auch bei diesem System der Fluss\n",
        "\n",
        ">$\n",
        "\\Phi: T \\times X \\rightarrow X, \\quad \\Phi\\left(t, x_{0}, v_{0}\\right)=(x(t), v(t))\n",
        "$\n",
        "\n",
        "die **Halbgruppeneigenschaft** erfüllt. Betrachtet man den Verlauf des Systemzustandes im Zustandsraum $X=\\mathbb{R}^{2},$ also die sogenannte $\\mathrm{Bahn}$ $\\left\\{(x(t), v(t)) \\in \\mathbb{R}^{2} \\mid t \\geq 0\\right\\},$ so ergibt sich bei einer **gedämpften Schwingung des Federpendels eine Trajektorie**, die spiralförmig auf die Ruhelage (0,0) zuläuft."
      ]
    },
    {
      "cell_type": "markdown",
      "metadata": {
        "id": "VMXeo-KcVurT"
      },
      "source": [
        "###### **Phasenraum und Trajektorie**"
      ]
    },
    {
      "cell_type": "markdown",
      "metadata": {
        "id": "fYGXfTQpV2tS"
      },
      "source": [
        "* Der [Phasenraum](https://de.wikipedia.org/wiki/Phasenraum) beschreibt die Menge aller möglichen Zustände eines dynamischen Systems. Ein Zustand wird durch einen Punkt im Phasenraum eindeutig abgebildet. \n",
        "\n",
        "* In der Mechanik besteht er aus verallgemeinerten Koordinaten (Konfigurationsraum) und zugehörigen verallgemeinerten Geschwindigkeiten (siehe Prinzip der virtuellen Leistung).\n",
        "\n",
        "* Die zeitliche Entwicklung eines Punktes im Phasenraum wird durch **Differentialgleichungen** beschrieben und durch **Trajektorien** (Bahnkurven, Orbit) im Phasenraum dargestellt. Dies sind **Differentialgleichungen erster Ordnung in der Zeit** und durch einen Anfangspunkt eindeutig festgelegt (ist die Differentialgleichung zeitunabhängig, sind dies **autonome Differentialgleichungen**). Dementsprechend kreuzen sich zwei Trajektorien im Phasenraum auch nicht, da an einem Kreuzungspunkt der weitere Verlauf nicht eindeutig ist. Geschlossene Kurven beschreiben oszillierende (periodische) Systeme.\n"
      ]
    },
    {
      "cell_type": "markdown",
      "metadata": {
        "id": "WGBpHADjWBSt"
      },
      "source": [
        "*Konstruktion eines Phasen(raum)porträts für ein [mathematisches Pendel](https://de.wikipedia.org/wiki/Mathematisches_Pendel)*\n",
        "\n",
        "![hh](https://upload.wikimedia.org/wikipedia/commons/c/cd/Pendulum_phase_portrait_illustration.svg)"
      ]
    },
    {
      "cell_type": "markdown",
      "metadata": {
        "id": "uPNSndPtbrJ0"
      },
      "source": [
        "###### **Fluss**"
      ]
    },
    {
      "cell_type": "markdown",
      "metadata": {
        "id": "LclyTUbSbssP"
      },
      "source": [
        "* Das Konzept eines [(Phasen-)Flusses](https://de.wikipedia.org/wiki/Fluss_(Mathematik)) in der Mathematik ermöglicht die **Beschreibung zeitabhängiger (System-)Zustände**. Es ist deshalb vor allem für die **Analyse gewöhnlicher Differentialgleichungen** von Bedeutung und findet damit Anwendung in vielen Bereichen der Mathematik und Physik. \n",
        "\n",
        "* Formal ist der Fluss eine Operation einer Parameterhalbgruppe $(\\Gamma,+)$ auf einer Menge\n",
        "$X$. Meist, insbesondere in der Theorie der Gewöhnlichen Differentialgleichungen, wird unter einem Fluss eine Operation der Halbgruppe $\\left(\\mathbb{R}_{\\geq 0},+\\right)$ verstanden.\n",
        "\n",
        "* Im Hinblick auf die Analyse dynamischer Systeme beschreibt der Fluss die **Bewegung im Phasenraum im Laufe der Zeit**. Hierbei spricht man in Abhängigkeit von der Parametermenge $\\Gamma$ von einem kontinuierlichen dynamischen System $(\\Gamma=\\mathbb{R})$ oder einem diskreten dynamischen System $\\Gamma=\\mathbb{N})$\n",
        "\n",
        "\n",
        "Betrachten wir ein System gewöhnlicher Differentialgleichungen\n",
        "\n",
        ">$\n",
        "\\dot{\\mathbf{x}}=\\mathbf{F}(t, \\mathbf{x})\n",
        "$\n",
        "\n",
        "mit $\\mathbf{x} \\in \\mathbb{R}^{n}$ oder einer offenen Teilmenge davon, so werden durch den Phasenfluss die Lösungen dieses Systems in Abhängigkeit vom Anfangszustand angegeben. Man wählt dann oft auch eine implizite Form der Flussangabe und schreibt\n",
        "$\\mathbf{x}(t)$ bzw. $\\mathbf{x}(0)$"
      ]
    },
    {
      "cell_type": "markdown",
      "metadata": {
        "id": "f0edf0aTciqG"
      },
      "source": [
        "Sei $X$ eine Menge, $\\Gamma$ eine Parametermenge. Eine Abbildung\n",
        "\n",
        ">$\n",
        "\\varphi: X \\times \\Gamma \\rightarrow X\n",
        "$\n",
        "\n",
        "heißt Fluss, wenn die folgenden Bedingungen erfüllt sind:\n",
        "\n",
        ">$\n",
        "\\varphi(x, 0)=x \\forall x \\in X\n",
        "$\n",
        "\n",
        "und\n",
        "\n",
        ">$\n",
        "\\varphi(\\varphi(x, s), t)=\\varphi(x, s+t) \\forall x \\in X, s, t \\in \\Gamma\n",
        "$\n",
        "\n",
        "Wir haben also eine [Halbgruppenwirkung](https://de.wikipedia.org/wiki/Halbgruppe).\n",
        "Die Menge\n",
        "\n",
        ">$\n",
        "\\mathcal{O}(x, \\varphi):=\\{\\varphi(x, t) \\mid t \\in \\Gamma\\}\n",
        "$\n",
        "\n",
        "heißt [Orbit](https://de.wikipedia.org/wiki/Gruppenoperation#Bahn) (Gruppenoperation: Bahn) von $x$. Falls die Abbildung $\\varphi: X \\times \\Gamma \\rightarrow X$ differenzierbar ist, spricht man auch von einem differenzierbaren Fluss."
      ]
    },
    {
      "cell_type": "markdown",
      "metadata": {
        "id": "l17CdhRn5_rQ"
      },
      "source": [
        "https://www.quantamagazine.org/with-arithmetic-dynamics-mathematicians-unlock-new-insights-20210222"
      ]
    },
    {
      "cell_type": "markdown",
      "metadata": {
        "id": "JFsothqp6Cav"
      },
      "source": [
        "https://en.m.wikipedia.org/wiki/Arithmetic_dynamics"
      ]
    },
    {
      "cell_type": "markdown",
      "metadata": {
        "id": "gOMKrtkmE8ua"
      },
      "source": [
        "###### **Determiniertheit in einem System**"
      ]
    },
    {
      "cell_type": "markdown",
      "metadata": {
        "id": "y2IBSmekE68A"
      },
      "source": [
        "* Die [Determiniertheit (als Systemeigenschaft)](https://de.wikipedia.org/wiki/Systemeigenschaften#Determiniertheit) ist der Grad der „Vorbestimmtheit“ des Systems: Ein System geht von einem Zustand Z1 in den Zustand Z2 über: Z1 → Z2. Bei deterministischen Systemen ist dieser Übergang bestimmt (zwingend), bei stochastischen wahrscheinlich.\n",
        "\n",
        "* Deterministische Systeme erlauben prinzipiell die Ableitung ihres Verhaltens aus einem vorherigen Zustand, stochastische Systeme nicht. \n",
        "\n",
        "* Klassische deterministische Systeme erlauben eine eindeutige Bestimmung ihres Zustandes zu jedem Zeitpunkt der Vergangenheit und Zukunft mit hinreichender Genauigkeit (Beispiel: Planetenbewegung). \n",
        "\n",
        "* Hinreichend ist hier bezogen auf menschlich überschaubare, bzw. relevante Zeiträume und Größenordnungen. Die Entwicklung chaotischer Systeme ist nicht immer eindeutig bestimmbar, da alle Parameter mit theoretisch unendlich großer Genauigkeit bekannt sein müssen, sie sind empfindlich gegenüber den Anfangsbedingungen. \n",
        "\n",
        "* Mit geeigneten (mathematischen) Modellen lassen sich relevante Aussagen über Vergangenheit und Zukunft von deterministischen und stochastischen Systemen machen. \n",
        "\n",
        "* **Aus der Komplexität eines Systems lässt sich keine Aussage über die Vorhersagbarkeit treffen**: Es gibt einfache deterministische Systeme, die chaotisch sind (z. B. Doppelpendel) und komplexe deterministische Systeme (Chloroplasten bei der Photosynthese).\n"
      ]
    },
    {
      "cell_type": "markdown",
      "metadata": {
        "id": "_F7C0w0HcBTE"
      },
      "source": [
        "###### **Weitere Properties**"
      ]
    },
    {
      "cell_type": "markdown",
      "metadata": {
        "id": "fuApQHQBj051"
      },
      "source": [
        "**Ergodizität**"
      ]
    },
    {
      "cell_type": "markdown",
      "metadata": {
        "id": "L6Lh2Avuj3un"
      },
      "source": [
        "https://de.m.wikipedia.org/wiki/Ergodizität"
      ]
    },
    {
      "cell_type": "markdown",
      "metadata": {
        "id": "BlnUe6JakMRT"
      },
      "source": [
        "**Stabilitätstheorie**"
      ]
    },
    {
      "cell_type": "markdown",
      "metadata": {
        "id": "jESOyJ3jkPvD"
      },
      "source": [
        "https://de.m.wikipedia.org/wiki/Stabilitätstheorie"
      ]
    },
    {
      "cell_type": "markdown",
      "metadata": {
        "id": "aMAfpCIkkEH5"
      },
      "source": [
        "**Periodizität**"
      ]
    },
    {
      "cell_type": "markdown",
      "metadata": {
        "id": "rqJFCL_OkHtL"
      },
      "source": [
        "https://de.m.wikipedia.org/wiki/Periodische_Funktion"
      ]
    },
    {
      "cell_type": "markdown",
      "metadata": {
        "id": "m066sar7fCUi"
      },
      "source": [
        "#### **Attraktor**"
      ]
    },
    {
      "cell_type": "markdown",
      "metadata": {
        "id": "JUgCSRigbYcL"
      },
      "source": [
        "###### **Definition & Properties**"
      ]
    },
    {
      "cell_type": "markdown",
      "metadata": {
        "id": "cxw1WlN9hhlY"
      },
      "source": [
        "* [Attraktor](https://de.wikipedia.org/wiki/Attraktor) ist ein Begriff aus der Theorie dynamischer Systeme und beschreibt **eine Untermenge eines Phasenraums** (d. h. eine gewisse Anzahl von Zuständen), auf die sich ein dynamisches System im Laufe der Zeit zubewegt und die unter der Dynamik dieses Systems nicht mehr verlassen wird. \n",
        "\n",
        "* Das heißt, eine Menge von Variablen nähert sich im Laufe der Zeit (asymptotisch) einem bestimmten Wert, einer Kurve oder etwas Komplexerem (also einer Region im n-dimensionalen Raum) und bleibt dann im weiteren Zeitverlauf in der Nähe dieses Attraktors.\n",
        "\n",
        "* Bekannte Beispiele sind der [Lorenz-Attraktor](https://de.wikipedia.org/wiki/Lorenz-Attraktor), der [Rössler-Attraktor](https://de.wikipedia.org/wiki/R%C3%B6ssler-Attraktor) und die [Nullstellen](https://de.wikipedia.org/wiki/Nullstelle) einer differenzierbaren Funktion, welche Attraktoren des zugehörigen Newton-Verfahrens sind.\n",
        "\n",
        "* Die Menge aller Punkte des Phasenraums, die unter der Dynamik demselben Attraktor zustreben, heißt Attraktions- oder Einzugsgebiet dieses Attraktors.\n",
        "\n",
        "\n",
        "\n",
        "\n"
      ]
    },
    {
      "cell_type": "markdown",
      "metadata": {
        "id": "WBdZoswqqFDH"
      },
      "source": [
        "Unter einem Attraktor versteht man eine Teilmenge $A \\subseteq X$,\n",
        "die den folgenden Bedingungen genügt\n",
        "1. $A$ ist vorwärts invariant;\n",
        "2. Das Sammelbecken $B(A)$ ist eine Umgebung von $A$;\n",
        "3. $A$ ist eine minimale nicht leere Teilmenge von $X$ mit Bedingungen 1\n",
        "und 2 .\n",
        "\n",
        "Bedingung 1 erfordert eine gewisse Stabilität des Attraktors. Daraus folgt offensichtlich, dass $A \\subseteq B(A)$. Anhand Bedingung 2 wird weiterhin verlangt, dass $A \\subseteq B(A)^{\\circ}$ und bedeutet u. a., jeder Punkt in einer gewissen Nähe von $A$ nähere sich dem Attraktor beliebig. Manche Autoren lassen Bedingung 2 weg. Bedingung 3 erfordert, dass der Attraktor nicht in weitere Komponenten zerlegt werden kann (ansonsten\n",
        "wäre bspw. der ganze Raum trivialerweise ein Attraktor)."
      ]
    },
    {
      "cell_type": "markdown",
      "metadata": {
        "id": "m9Lh73tXqmwo"
      },
      "source": [
        "Formal betrachte man ein **dynamisches System** bestehend aus einem topologischen Raum $X$ und einer Transformation $f: \\mathcal{T} \\times X \\longrightarrow X$, wobei $\\mathcal{T}$ ein linear geordnetes Monoid ist wie $\\mathcal{T}=\\mathbb{N}, \\mathbb{Z},[0, \\infty[$ oder $\\mathbb{R}$ und $f$ normalerweise stetig oder mindestens messbar ist (oder mindestens wird verlangt, dass $f(t, \\cdot): X \\longrightarrow X$ stetig/messbar ist für jedes $t \\in \\mathcal{T}$ ) und erfüllt\n",
        "$f(t+s, x)=f(t, f(s, x))$ für alle »Zeiten « $t, s \\in \\mathcal{T}$\n",
        "und Punkte $x \\in X$.\n",
        "\n",
        "**Definition 1**. Eine Teilmenge $A \\subseteq X$ heißt dann vorwärts\n",
        "invariant, wenn\n",
        "\n",
        ">$\n",
        "\\forall t \\geq 0: f(t, A) \\subseteq A\n",
        "$\n",
        "\n",
        "Mit anderen Worten sobald ein Punkt in einen Attraktor\n",
        "gelangt, entkommt er der Teilmenge nicht.\n",
        "\n",
        "**Definition 2**. Unter dem Sammelbecken einer Teilmenge\n",
        "$A \\subseteq X$ versteht man die Menge\n",
        "\n",
        ">$\n",
        "B(A):=\\left\\{x \\in X \\mid \\forall U \\in \\mathcal{N}(A): \\exists t_{0} \\geq 0: \\forall t \\geq t_{0}:\\right.\n",
        "$\n",
        "\n",
        "wobei $\\mathcal{N}(A)$ die Menge der Umgebungen von $A$ ist. Mit Worten ist ein Punkt, $x \\in X$, in $B(A)$ genau dann, wenn für alle Umgebungen $U$ von $A$ dieser Punkt ab einem Zeitpunkt sich immer in dieser Umgebung aufhält.\n",
        "\n",
        "**Bemerkung**. Im Falle eines kompakten metrisierten Raums $(X, d)$ ist diese Definition äquivalent zu\n",
        "\n",
        ">$\n",
        "B(A):=\\left\\{x \\in X \\mid \\lim _{t \\rightarrow \\infty} d(f(t, x), A)=0\\right\\}\n",
        "$\n",
        "\n",
        "**Bemerkung**. Angenommen, der Raum sei metrisierbar und $A$\n",
        "sei kompakt. Aus der Definition eines Sammelbeckens geht hervor, dass $B(A)$ vorwärts invariant ist und $\\bigcap\\{f(t, B(A)) \\mid t>0\\}=\\bar{A}$. Manche Autoren definieren das Sammelbecken als die (offene) Menge mit diesen beiden Eigenschaften.\n"
      ]
    },
    {
      "cell_type": "markdown",
      "metadata": {
        "id": "AfPQZ219iLIw"
      },
      "source": [
        "**Dynamische Systeme beschreiben Zustandsänderungen in Abhängigkeit von der Zeit t**. Für die mathematische Definition wird das reale System oft in der stark vereinfachten Form eines mathematischen Modells betrachtet. Beispiele sind\n",
        "\n",
        "* das Strömungsverhalten von Flüssigkeiten und Gasen\n",
        "* Bewegungen von Himmelskörpern unter gegenseitiger Beeinflussung durch die Gravitation\n",
        "* Populationsgrößen von Lebewesen unter Berücksichtigung der Räuber-Beute-Beziehung oder\n",
        "* die Entwicklung wirtschaftlicher Kenngrößen unter Einfluss der Marktgesetze.\n",
        "\n",
        "Das Langzeitverhalten eines dynamischen Systems lässt sich durch den globalen Attraktor beschreiben, da bei physikalischen oder technischen Systemen oft **Dissipation vorliegt, insbesondere Reibung**.\n",
        "\n",
        "**Jeder Zustand ist ein Punkt im Phasenraum und wird durch beliebig viele [Zustandsgrößen](https://de.wikipedia.org/wiki/Zustandsgr%C3%B6%C3%9Fe) dargestellt, welche die Dimensionen des Phasenraums bilden.**\n",
        "\n",
        "* kontinuierliche Systeme werden durch Linien (Trajektorien) repräsentiert\n",
        "* diskrete Systeme werden durch Mengen isolierter Punkte repräsentiert."
      ]
    },
    {
      "cell_type": "markdown",
      "metadata": {
        "id": "7urGQ-Mimc1B"
      },
      "source": [
        "###### **Attraktoren, die im Phasenraum eine ganzzahlige Dimension besitzen**"
      ]
    },
    {
      "cell_type": "markdown",
      "metadata": {
        "id": "g8cai3DPiwy4"
      },
      "source": [
        "Bei der Untersuchung dynamischer Systeme interessiert man sich – ausgehend von einem bestimmten [Anfangszustand (=Anfangsbedingung)](https://de.wikipedia.org/wiki/Anfangsbedingung) – vor allem für das Verhalten für $t\\to \\infty$ . Der Grenzwert in diesem Fall wird als Attraktor bezeichnet. Typische und häufige Beispiele von Attraktoren sind:\n",
        "\n",
        "* **asymptotisch stabile Fixpunkte**: Das System nähert sich immer stärker einem bestimmten Endzustand an, in dem die Dynamik erliegt; ein statisches System entsteht. Typisches Beispiel ist ein gedämpftes Pendel, das sich dem Ruhezustand im tiefsten Punkt annähert.\n",
        "\n",
        "* **(asymptotisch) stabile Grenzzyklen**: Der Endzustand ist die Abfolge gleicher Zustände, die periodisch durchlaufen werden (periodische Orbits). Ein Beispiel dafür ist die Simulation der Räuber-Beute-Beziehung, die für bestimmte Parameter der Rückkoppelung auf ein periodisches Ansteigen und Sinken der Populationsgrößen hinausläuft.\n",
        "\n",
        "* Für ein hybrides dynamisches System mit chaotischer Dynamik konnte im $\\mathbb {R} ^{n}$ die Oberfläche eines [n-Simplex](https://de.wikipedia.org/wiki/Simplex_(Mathematik)) als Attraktor identifiziert werden: (asymptotisch stabile) Grenztori: Treten mehrere miteinander inkommensurable Frequenzen auf, so ist die Trajektorie nicht geschlossen, und der Attraktor ist ein Grenztorus, der von der Trajektorie asymptotisch vollständig ausgefüllt wird. Die zu diesem Attraktor korrespondierende Zeitreihe ist quasiperiodisch, d. h., es gibt keine echte Periode, aber das Frequenzspektrum besteht aus scharfen Linien.\n",
        "\n",
        "**Diese Beispiele sind Attraktoren, die im Phasenraum eine ganzzahlige Dimension besitzen.**"
      ]
    },
    {
      "cell_type": "markdown",
      "metadata": {
        "id": "sVcrXskTme_C"
      },
      "source": [
        "###### **Attraktoren, die im Phasenraum eine fraktale Dimension besitzen**"
      ]
    },
    {
      "cell_type": "markdown",
      "metadata": {
        "id": "qMS8uZlNlFTx"
      },
      "source": [
        "Die Existenz von Attraktoren mit komplizierterer Struktur war zwar schon länger bekannt, man betrachtete sie aber zunächst als instabile Sonderfälle, deren Auftreten nur bei bestimmter Wahl des Ausgangszustands und der Systemparameter beobachtet wird. Dies änderte sich mit der Definition eines neuen, speziellen Typs von Attraktor:\n",
        "\n",
        "* [Seltsamer Attraktor](https://de.wikipedia.org/wiki/Seltsamer_Attraktor): In seinem Endzustand zeigt das System häufig ein chaotisches Verhalten (es gibt jedoch auch Ausnahmen, z. B. quasiperiodisch angetriebene nichtlineare Systeme). \n",
        "\n",
        "* Der seltsame Attraktor lässt sich **nicht in einer geschlossenen geometrischen Form** beschreiben und **besitzt keine ganzzahlige Dimension**. Attraktoren nichtlinearer dynamischer Systeme weisen dann eine **fraktale Struktur** auf. \n",
        "\n",
        "* Wichtiges Merkmal ist das chaotische Verhalten, d. h., jede noch so geringe Änderung des Anfangszustands führt im weiteren Verlauf zu signifikanten Zustandsänderungen. Prominentestes Beispiel ist der **Lorenz-Attraktor, der bei der Modellierung von Luftströmungen in der Atmosphäre entdeckt wurde**."
      ]
    },
    {
      "cell_type": "markdown",
      "metadata": {
        "id": "StUL1uXTbMRz"
      },
      "source": [
        "**Fixed Point Attractor**"
      ]
    },
    {
      "cell_type": "markdown",
      "metadata": {
        "id": "pR7zd5yd4Od5"
      },
      "source": [
        "https://en.m.wikipedia.org/wiki/Attractor#Fixed_point"
      ]
    },
    {
      "cell_type": "markdown",
      "metadata": {
        "id": "6mjL_K3rbH1-"
      },
      "source": [
        "**Limit Cycle Attractor**"
      ]
    },
    {
      "cell_type": "markdown",
      "metadata": {
        "id": "5GZN1M4n4R-3"
      },
      "source": [
        "https://en.m.wikipedia.org/wiki/Limit_cycle"
      ]
    },
    {
      "cell_type": "markdown",
      "metadata": {
        "id": "Oy_2LXvJlrSs"
      },
      "source": [
        "**Strange Attractor**"
      ]
    },
    {
      "cell_type": "markdown",
      "metadata": {
        "id": "D_mjSlSultzR"
      },
      "source": [
        "* Ein [seltsamer Attraktor](https://de.wikipedia.org/wiki/Seltsamer_Attraktor) ist ein Attraktor, also ein Ort im Phasenraum, der den Endzustand eines dynamischen Prozesses darstellt, dessen fraktale Dimension nicht ganzzahlig und dessen Kolmogorov-Entropie echt positiv ist. \n",
        "\n",
        "* Es handelt sich damit um ein Fraktal, das nicht in geschlossener Form geometrisch beschrieben werden kann. Gelegentlich wird auch der Begriff chaotischer Attraktor bevorzugt, da die „Seltsamkeit“ dieses Objekts sich mit den Mitteln der Chaostheorie erklären lässt. Der dynamische Prozess zeigt ein aperiodisches Verhalten.\n",
        "\n"
      ]
    },
    {
      "cell_type": "markdown",
      "metadata": {
        "id": "opYSezsz4f3V"
      },
      "source": [
        "**Example of a Strange Attractor: Rössler attractor**"
      ]
    },
    {
      "cell_type": "markdown",
      "metadata": {
        "id": "_M7ApGCo4eqm"
      },
      "source": [
        "https://en.m.wikipedia.org/wiki/Rössler_attractor"
      ]
    },
    {
      "cell_type": "markdown",
      "metadata": {
        "id": "ZWulO_HC4vua"
      },
      "source": [
        "**Example of a Strange Attractor: Double-scroll / Multiscroll attractor**"
      ]
    },
    {
      "cell_type": "markdown",
      "metadata": {
        "id": "vPASjk1u4z0Q"
      },
      "source": [
        "https://en.m.wikipedia.org/wiki/Multiscroll_attractor"
      ]
    },
    {
      "cell_type": "markdown",
      "metadata": {
        "id": "F7aLTbbz46Ec"
      },
      "source": [
        "**Example of a Strange Attractor: Hénon map**"
      ]
    },
    {
      "cell_type": "markdown",
      "metadata": {
        "id": "AehEZTX946_1"
      },
      "source": [
        "https://en.m.wikipedia.org/wiki/Hénon_map"
      ]
    },
    {
      "cell_type": "markdown",
      "metadata": {
        "id": "Yn9Gvo_6Wch2"
      },
      "source": [
        "**Example of a Strange Attractor: Lorenz Attraktor**"
      ]
    },
    {
      "cell_type": "markdown",
      "metadata": {
        "id": "lxAvwOlbmQn8"
      },
      "source": [
        "Der [Lorenz-Attraktor](https://de.wikipedia.org/wiki/Lorenz-Attraktor) (englisch: [Lorenz System](https://en.wikipedia.org/wiki/Lorenz_system))ist der seltsame Attraktor eines Systems von drei gekoppelten, nichtlinearen **gewöhnlichen Differentialgleichungen**:\n",
        "\n",
        "$\\dot{X}=a(Y-X)$\n",
        "\n",
        "$\\dot{Y}=X(b-Z)-Y$\n",
        "\n",
        "$\\dot{Z}=X Y-c Z$\n",
        "\n",
        "* Formuliert wurde das System um 1963 von dem Meteorologen Edward N. Lorenz, der es als Idealisierung eines [hydrodynamischen Systems (Fluiddynamik)](https://de.wikipedia.org/wiki/Fluiddynamik) entwickelte. Basierend auf einer Arbeit von Barry Saltzman (1931–2001) ging es Lorenz dabei um eine Modellierung der Zustände in der Erdatmosphäre zum Zweck einer Langzeitvorhersage. \n",
        "\n",
        "* Allerdings betonte Lorenz, dass das von ihm entwickelte System allenfalls für sehr begrenzte Parameterbereiche von $a,b,c$ realistische Resultate liefert.\n",
        "\n",
        "* Die mathematische Beschreibung des Modells durch die Navier-Stokes-Gleichungen führt über verschiedene Vereinfachungen, beispielsweise endlich abgebrochene Reihendarstellungen, zu dem oben angegebenen Gleichungssystem.\n",
        "\n",
        "* Die numerische Lösung des Systems zeigt bei bestimmten Parameterwerten deterministisch chaotisches Verhalten, die Trajektorien folgen einem seltsamen Attraktor. Damit spielt der Lorenzattraktor für die mathematische Chaostheorie eine Rolle, denn die Gleichungen stellen wohl eines der einfachsten Systeme mit chaotischem Verhalten dar.\n",
        "\n",
        "* Die typische Parametereinstellung mit chaotischer Lösung lautet: $a=10,b=28$ und $c=8/3$, wobei \n",
        "  * $a$ mit der [Prandtl-Zahl](https://de.wikipedia.org/wiki/Prandtl-Zahl) (=dimensionslose Kennzahl von Fluiden, das heißt von Gasen oder tropfbaren Flüssigkeiten. Sie ist definiert als Verhältnis zwischen kinematischer Viskosität und Temperaturleitfähigkeit. Die Prandtl-Zahl stellt die Verknüpfung des Geschwindigkeitfeldes mit dem Temperaturfeld eines Fluids dar.) \n",
        "  * $b$ mit der [Rayleigh-Zahl](https://de.wikipedia.org/wiki/Rayleigh-Zahl) (=eine dimensionslose Kennzahl, die den Charakter der Wärmeübertragung innerhalb eines Fluids beschreibt) identifiziert werden kann."
      ]
    },
    {
      "cell_type": "code",
      "metadata": {
        "colab": {
          "base_uri": "https://localhost:8080/",
          "height": 466
        },
        "id": "sG0iVFcT-CwX",
        "outputId": "afce46c3-fc83-4b7c-8c10-89594b456dc2"
      },
      "source": [
        "import numpy as np\n",
        "import matplotlib.pyplot as plt\n",
        "import seaborn as sns\n",
        "from scipy.integrate import odeint\n",
        "from mpl_toolkits.mplot3d import Axes3D\n",
        "\n",
        "rho = 28.0\n",
        "sigma = 10.0\n",
        "beta = 8.0 / 3.0\n",
        "\n",
        "def f(state, t):\n",
        "    x, y, z = state  # Unpack the state vector\n",
        "    return sigma * (y - x), x * (rho - z) - y, x * y - beta * z  # Derivatives\n",
        "\n",
        "state0 = [1.0, 1.0, 1.0]\n",
        "t = np.arange(0.0, 40.0, 0.01)\n",
        "\n",
        "states = odeint(f, state0, t)\n",
        "\n",
        "fig = plt.figure()\n",
        "ax = fig.gca(projection=\"3d\")\n",
        "ax.plot(states[:, 0], states[:, 1], states[:, 2])\n",
        "plt.draw()\n",
        "plt.show()\n",
        "sns.set(rc={'figure.figsize':(10, 10), \"lines.linewidth\": 1.0})"
      ],
      "execution_count": null,
      "outputs": [
        {
          "output_type": "display_data",
          "data": {
            "image/png": "[encoded data removed]",
            "text/plain": [
              "<Figure size 720x576 with 1 Axes>"
            ]
          },
          "metadata": {
            "tags": []
          }
        }
      ]
    },
    {
      "cell_type": "markdown",
      "metadata": {
        "id": "hIwXOz85zxW_"
      },
      "source": [
        "#### **Fractal Geometry (Fractal Dimensions)**"
      ]
    },
    {
      "cell_type": "markdown",
      "metadata": {
        "id": "oWWNNyv_EaUV"
      },
      "source": [
        "##### **Properties & Definition**"
      ]
    },
    {
      "cell_type": "markdown",
      "metadata": {
        "id": "NzaMSBJmGj_F"
      },
      "source": [
        "* a [fractal](https://en.m.wikipedia.org/wiki/Fractal) is a subset of Euclidean space with a fractal dimension that strictly exceeds its topological dimension. Fractals appear the same at different scales, as illustrated in successive magnifications of the Mandelbrot set.\n",
        "\n",
        "* Fractals exhibit similar patterns at increasingly smaller scales, a property called self-similarity, also known as expanding symmetry or unfolding symmetry; if this replication is exactly the same at every scale, as in the Menger sponge,it is called affine self-similar. \n",
        "\n",
        "* Fractal geometry lies within the mathematical branch of measure theory."
      ]
    },
    {
      "cell_type": "markdown",
      "metadata": {
        "id": "zaT6hyqeszcF"
      },
      "source": [
        "What is a fractal dimension? https://youtu.be/yQfu8jSo5b0"
      ]
    },
    {
      "cell_type": "markdown",
      "metadata": {
        "id": "FLRMLXWLqZK-"
      },
      "source": [
        "**Self-Similarity**"
      ]
    },
    {
      "cell_type": "markdown",
      "metadata": {
        "id": "P_Y4uZ0os73b"
      },
      "source": [
        "Fractals are typiclly not self-similar! https://youtu.be/gB9n2gHsHN4"
      ]
    },
    {
      "cell_type": "markdown",
      "metadata": {
        "id": "1H-mHksrqc9w"
      },
      "source": [
        "https://en.m.wikipedia.org/wiki/Self-similarity"
      ]
    },
    {
      "cell_type": "markdown",
      "metadata": {
        "id": "nWAQKraBqhh6"
      },
      "source": [
        "**Self-Orgainzation**"
      ]
    },
    {
      "cell_type": "markdown",
      "metadata": {
        "id": "blU1pDtRqlz6"
      },
      "source": [
        "https://en.m.wikipedia.org/wiki/Self-organization"
      ]
    },
    {
      "cell_type": "markdown",
      "metadata": {
        "id": "W15bYgg-qucB"
      },
      "source": [
        "**Feedback Loops**"
      ]
    },
    {
      "cell_type": "markdown",
      "metadata": {
        "id": "VfKqYeTCqxx5"
      },
      "source": [
        "https://en.m.wikipedia.org/wiki/Feedback"
      ]
    },
    {
      "cell_type": "markdown",
      "metadata": {
        "id": "ns0WTkvNEDAQ"
      },
      "source": [
        "##### **Ways of determining the fractal dimension of a set S in a Euclidean space $R^n$**"
      ]
    },
    {
      "cell_type": "markdown",
      "metadata": {
        "id": "-U7Azl_DJfzc"
      },
      "source": [
        "https://de.m.wikipedia.org/wiki/Fraktale_Dimension"
      ]
    },
    {
      "cell_type": "markdown",
      "metadata": {
        "id": "_ewrnIMeGMaB"
      },
      "source": [
        "###### **Packing dimension**"
      ]
    },
    {
      "cell_type": "markdown",
      "metadata": {
        "id": "FiQMTShkGQ3v"
      },
      "source": [
        "* the [packing dimension](https://en.m.wikipedia.org/wiki/Packing_dimension) is one of a number of concepts that can be used to define the dimension of a subset of a metric space. \n",
        "\n",
        "* Packing dimension is in some sense dual to Hausdorff dimension, since packing dimension is constructed by \"packing\" small open balls inside the given subset, whereas Hausdorff dimension is constructed by covering the given subset by such small open balls."
      ]
    },
    {
      "cell_type": "markdown",
      "metadata": {
        "id": "2NTzou7vkNpJ"
      },
      "source": [
        "###### **Effective Dimension**"
      ]
    },
    {
      "cell_type": "markdown",
      "metadata": {
        "id": "5vcByK76lYQ0"
      },
      "source": [
        "* [effective dimension](https://en.m.wikipedia.org/wiki/Effective_dimension) is a modification of Hausdorff dimension and other fractal dimensions which places it in a computability theory setting.\n",
        "\n",
        "* There are several variations (various notions of effective dimension) of which the most common is effective Hausdorff dimension.\n",
        "\n",
        "* **Hausdorff dimension generalizes the well-known integer dimensions assigned to points, lines, planes, etc. by allowing one to distinguish between objects of intermediate size between these integer-dimensional objects.** \n",
        "\n",
        "* For example, [fractal](https://en.m.wikipedia.org/wiki/List_of_fractals_by_Hausdorff_dimension) subsets of the plane may have intermediate dimension between 1 and 2, as they are \"larger\" than lines or curves, and yet \"smaller\" than filled circles or rectangles. \n",
        "\n",
        "* Effective dimension modifies Hausdorff dimension by requiring that objects with small effective dimension be not only small but also locatable (or partially locatable) in a computable sense. As such, objects with large Hausdorff dimension also have large effective dimension, and objects with small effective dimension have small Hausdorff dimension, but an object can have small Hausdorff but large effective dimension. \n",
        "\n",
        "* An example is an algorithmically random point on a line, which has Hausdorff dimension 0 (since it is a point) but effective dimension 1 (because, roughly speaking, it can't be effectively localized any better than a small interval, which has Hausdorff dimension 1)."
      ]
    },
    {
      "cell_type": "markdown",
      "metadata": {
        "id": "Zn9KRGIxmuMA"
      },
      "source": [
        "###### **Hausdorff dimension**"
      ]
    },
    {
      "cell_type": "markdown",
      "metadata": {
        "id": "ULUq2WwOmzuu"
      },
      "source": [
        "* Hausdorff dimension is a measure of roughness, or more specifically, fractal dimension, that was first introduced in 1918 by mathematician Felix Hausdorff.\n",
        "\n",
        "* For instance, the Hausdorff dimension of a single point is zero, of a line segment is 1, of a square is 2, and of a cube is 3. That is, for sets of points that define a smooth shape or a shape that has a small number of corners—the shapes of traditional geometry and science—the Hausdorff dimension **is an integer agreeing with the usual sense of dimension, also known as the [topological dimension (inductive dimension)](https://en.m.wikipedia.org/wiki/Inductive_dimension)**. \n",
        "\n",
        "* However, formulas have also been developed that allow calculation of the dimension of other less simple objects, where, solely on the basis of their properties of scaling and self-similarity, one is led to the conclusion that particular objects—including fractals—have non-integer Hausdorff dimensions. \n",
        "\n",
        "* Because of the significant technical advances made by Abram Samoilovitch Besicovitch allowing computation of dimensions for highly irregular or \"rough\" sets, this dimension is also commonly referred to as the Hausdorff–Besicovitch dimension."
      ]
    },
    {
      "cell_type": "markdown",
      "metadata": {
        "id": "v1u8I5FDn4ru"
      },
      "source": [
        "![gg](https://upload.wikimedia.org/wikipedia/commons/thumb/d/d9/KochFlake.svg/362px-KochFlake.svg.png)\n",
        "\n",
        "*Example of non-integer dimensions. The first four iterations of the Koch curve, where after each iteration, all original line segments are replaced with four, each a self-similar copy that is 1/3 the length of the original. One formalism of the Hausdorff dimension uses this **scale factor** (3) and the number of **self-similar** objects (4) to calculate the dimension, D, after the first iteration to be D = (log N)/(log S) = (log 4)/(log 3) ≈ 1.26. That is, while the Hausdorff dimension of a single point is zero, of a line segment is 1, of a square is 2, and of a cube is 3, for fractals such as this, the object can have a non-integer dimension.*"
      ]
    },
    {
      "cell_type": "markdown",
      "metadata": {
        "id": "o579LE61q0rS"
      },
      "source": [
        "**Haussdorf Dimension vs Lebesgue covering (topological) dimension**"
      ]
    },
    {
      "cell_type": "markdown",
      "metadata": {
        "id": "HssxYOUfrCHn"
      },
      "source": [
        "* Every space filling curve hits some points multiple times, and does not have a continuous inverse. It is impossible to map two dimensions onto one in a way that is continuous and continuously invertible. The topological dimension, also called Lebesgue covering dimension, explains why. This dimension is n if, in every covering of X by small open balls, there is at least one point where n + 1 balls overlap. For example, when one covers a line with short open intervals, some points must be covered twice, giving dimension n = 1.\n",
        "\n",
        "* But topological dimension is a very crude measure of the local size of a space (size near a point). A curve that is almost space-filling can still have topological dimension one, even if it fills up most of the area of a region. A fractal has an integer topological dimension, but in terms of the amount of space it takes up, it behaves like a higher-dimensional space.\n",
        "\n",
        "https://en.m.wikipedia.org/wiki/Hausdorff_dimension"
      ]
    },
    {
      "cell_type": "markdown",
      "metadata": {
        "id": "9EdmeMWyq7vL"
      },
      "source": [
        "https://en.m.wikipedia.org/wiki/Lebesgue_covering_dimension"
      ]
    },
    {
      "cell_type": "markdown",
      "metadata": {
        "id": "7pJ67pVgq-ft"
      },
      "source": [
        "https://en.m.wikipedia.org/wiki/Inductive_dimension"
      ]
    },
    {
      "cell_type": "markdown",
      "metadata": {
        "id": "TIlHfzneEmUl"
      },
      "source": [
        "###### **Minkowski–Bouligand dimension (Box Counting Dimension)**"
      ]
    },
    {
      "cell_type": "markdown",
      "metadata": {
        "id": "tI_DorMsEwO9"
      },
      "source": [
        "The [Minkowski–Bouligand dimension](https://en.m.wikipedia.org/wiki/Minkowski–Bouligand_dimension), also known as Minkowski dimension or box-counting dimension, is a way of determining the fractal dimension of a set S in a Euclidean space Rn, or more generally in a metric space (X, d). I"
      ]
    },
    {
      "cell_type": "markdown",
      "metadata": {
        "id": "H0D3EdvdE6EP"
      },
      "source": [
        "![ggg](https://upload.wikimedia.org/wikipedia/commons/thumb/2/28/Great_Britain_Box.svg/640px-Great_Britain_Box.svg.png)"
      ]
    },
    {
      "cell_type": "markdown",
      "metadata": {
        "id": "pjRri_I_FHtx"
      },
      "source": [
        "###### **Information dimension**"
      ]
    },
    {
      "cell_type": "markdown",
      "metadata": {
        "id": "D2LsIijFFRgE"
      },
      "source": [
        "In [information theory](https://en.m.wikipedia.org/wiki/Information_dimension), information dimension is an information measure for random vectors in Euclidean space, based on the normalized entropy of finely quantized versions of the random vectors. This concept was first introduced by Alfréd Rényi in 1959.\n",
        "\n",
        "Simply speaking, it is a measure of the fractal dimension of a probability distribution. It characterizes the growth rate of the Shannon entropy given by successively finer discretizations of the space.\n",
        "\n",
        "In 2010, Wu and Verdú gave an operational characterization of [Rényi information dimension](https://en.m.wikipedia.org/wiki/Rényi_entropy) as the fundamental limit of almost [lossless data compression](https://en.m.wikipedia.org/wiki/Lossless_compression) for analog sources under various regularity constraints of the encoder/decoder."
      ]
    },
    {
      "cell_type": "markdown",
      "metadata": {
        "id": "Qy5Bzgs2FlRp"
      },
      "source": [
        "###### **Rényi entropy**"
      ]
    },
    {
      "cell_type": "markdown",
      "metadata": {
        "id": "DXulHuilFo3U"
      },
      "source": [
        "* In information theory, the [Rényi entropy](https://en.m.wikipedia.org/wiki/Rényi_entropy) generalizes the Hartley entropy, the Shannon entropy, the collision entropy and the min-entropy. Entropies quantify the diversity, uncertainty, or randomness of a system. The entropy is named after Alfréd Rényi.\n",
        "\n",
        "* **In the context of fractal dimension estimation, the Rényi entropy forms the basis of the concept of generalized dimensions.**\n",
        "\n",
        "* The Rényi entropy is important in ecology and statistics as index of diversity. The Rényi entropy is also important in quantum information, where it can be used as a measure of entanglement. In the Heisenberg XY spin chain model, the Rényi entropy as a function of α can be calculated explicitly by virtue of the fact that it is an [automorphic function](https://en.m.wikipedia.org/wiki/Automorphic_function) with respect to a particular subgroup of the [modular group](https://en.m.wikipedia.org/wiki/Modular_group). In theoretical computer science, the min-entropy is used in the context of randomness extractors."
      ]
    },
    {
      "cell_type": "markdown",
      "metadata": {
        "id": "7VusXlsGmEqM"
      },
      "source": [
        "###### **List of fractals by Hausdorff dimension**"
      ]
    },
    {
      "cell_type": "markdown",
      "metadata": {
        "id": "8s1mE7R_mkow"
      },
      "source": [
        "Benoit Mandelbrot has stated that \"A fractal is by definition a set for which the Hausdorff-Besicovitch dimension strictly exceeds the topological dimension.\" Presented here is a list of fractals ordered by increasing Hausdorff dimension, with the purpose of visualizing what it means for a fractal to have a low or a high dimension"
      ]
    },
    {
      "cell_type": "markdown",
      "metadata": {
        "id": "Op5QVGhfoiHR"
      },
      "source": [
        "Deterministic fractals\n",
        "\n",
        "* Julia set\n",
        "\n",
        "* Logistic map (Feigenbaum Attractor)\n",
        "\n",
        "* Peano curve\n",
        "\n",
        "* Pentaflake\n",
        "\n",
        "* 3D Hilbert curve\n",
        "\n",
        "* and many more.."
      ]
    },
    {
      "cell_type": "markdown",
      "metadata": {
        "id": "Os90Gn1WonSe"
      },
      "source": [
        "Random and natural fractals\n",
        "\n",
        "* Zeros of a Wiener process\n",
        "\n",
        "* Brownian motion\n",
        "\n",
        "* Coastline of Ireland, Great Britain or Norway\n",
        "\n",
        "* von Koch curve with random orientation\n",
        "\n",
        "* The surface of Broccoli, or human brain\n",
        "\n",
        "* Distribution of [galaxy clusters](https://en.m.wikipedia.org/wiki/Galaxy_cluster)\n",
        "\n",
        "* and more.."
      ]
    },
    {
      "cell_type": "markdown",
      "metadata": {
        "id": "c4_6jxiHmGzH"
      },
      "source": [
        "https://en.m.wikipedia.org/wiki/List_of_fractals_by_Hausdorff_dimension"
      ]
    },
    {
      "cell_type": "markdown",
      "metadata": {
        "id": "izEi0GSjz33K"
      },
      "source": [
        "https://www.youtube.com/watch?v=gB9n2gHsHN4\n",
        "\n",
        "https://www.youtube.com/watch?v=FFftmWSzgmk\n",
        "\n",
        "https://de.wikipedia.org/wiki/Fraktal"
      ]
    },
    {
      "cell_type": "markdown",
      "metadata": {
        "id": "cbLsj_DNz1a6"
      },
      "source": [
        "* idealization is everything is smooth (rebellion against calculus, differentiable, where assumption is things look smooth if you zoom in enough)\n",
        "\n",
        "* Mandelbrot: nature is fractal (capture roughness)\n",
        "\n",
        "* self-similar shapes give a basis for modeling the regularity in some forms of roughness \n",
        "\n",
        "* but that doesn't mean all is only perfectly self-similar either!! (Perfect self similar are: Von Koch snowflake, Sierpensky triangle)\n",
        "\n",
        "* Fractal dimension: Sierpensky triangle is 1,585 dimensional, Von Koch snowflake is 1,262 dimensional, Britain coast line 1,21 dimensional, Norway: 1,52 dimensional, calm sea 2,05 dimensional, waves 2,3 dimensional\n",
        "\n",
        "* **Fractals are shapes with a non-integer dimension, captures idea of roughness,  but dimension can vary depending on how much you zoom in**. \n",
        "\n",
        "* Approaches: \n",
        "\n",
        "\t* Box routing dimension\n",
        "\t* Information dimension\n",
        "\t* Hausdorff dimension\n",
        "\t* Packing dimension\n",
        "\n",
        "* But a shape is considered a fractal only when the measures dimension stays approximately constant across multiple different scales\n",
        "\n",
        "* **Is it fractal? Yes - probably from nature, No - probably man-made**"
      ]
    },
    {
      "cell_type": "markdown",
      "metadata": {
        "id": "m6JGAp7gkVxN"
      },
      "source": [
        "##### **Fractal curves & Space-filling curve**"
      ]
    },
    {
      "cell_type": "markdown",
      "metadata": {
        "id": "YTnM2ItaDKlY"
      },
      "source": [
        "**Fractal curves**"
      ]
    },
    {
      "cell_type": "markdown",
      "metadata": {
        "id": "AETZ4l1FDOy_"
      },
      "source": [
        "A [fractal curve](https://en.m.wikipedia.org/wiki/Fractal_curve) is, loosely, a mathematical curve whose shape retains the same general pattern of irregularity, regardless of how high it is magnified, that is, its graph takes the form of a fractal.\n",
        "\n",
        "In general, fractal curves are nowhere rectifiable curves — that is, **they do not have finite length** — and every subarc longer than a single point has infinite length.\n",
        "\n",
        "An extremely famous example is the boundary of the Mandelbrot set."
      ]
    },
    {
      "cell_type": "markdown",
      "metadata": {
        "id": "douT1UzWDIIH"
      },
      "source": [
        "**Space-filling curve**"
      ]
    },
    {
      "cell_type": "markdown",
      "metadata": {
        "id": "yuld39lLC2Ah"
      },
      "source": [
        "[Space-filling curves](https://en.m.wikipedia.org/wiki/Space-filling_curve) are special cases of fractal curves. No differentiable space-filling curve can exist. Roughly speaking, differentiability puts a bound on how fast the curve can turn."
      ]
    },
    {
      "cell_type": "markdown",
      "metadata": {
        "id": "9KiXTEBWZN5U"
      },
      "source": [
        "https://youtu.be/3s7h2MHQtxc"
      ]
    },
    {
      "cell_type": "markdown",
      "metadata": {
        "id": "tZ6e_9hY1EZG"
      },
      "source": [
        "* Hilbert curve and Peano curve are examples of deterministic fractals"
      ]
    },
    {
      "cell_type": "markdown",
      "metadata": {
        "id": "NQkjzZgukcLS"
      },
      "source": [
        "*Three iterations of the Peano curve construction, whose limit is a space-filling curve.*\n",
        "\n",
        "![hhh](https://upload.wikimedia.org/wikipedia/commons/thumb/6/64/Peanocurve.svg/640px-Peanocurve.svg.png)"
      ]
    },
    {
      "cell_type": "markdown",
      "metadata": {
        "id": "MfMqVbCBknWL"
      },
      "source": [
        "* a [space-filling curve](https://en.m.wikipedia.org/wiki/Space-filling_curve) is a curve whose range contains the entire 2-dimensional unit square (or more generally an n-dimensional unit hypercube).\n",
        "\n",
        "* space-filling curves in the 2-dimensional plane are sometimes called Peano curves, but that phrase also refers to the [Peano curve](https://en.m.wikipedia.org/wiki/Peano_curve), the specific example of a space-filling curve found by Peano.\n",
        "\n",
        "* In particular, the S2 cells are ordered sequentially along a space-filling curve (a type of fractal). The particular curve used by S2 is called the S2 space-filling curve, and consists of six Hilbert curves linked together to form a single continuous loop over the entire sphere. Here is an illustration of the S2 curve after 5 levels of subdivision:"
      ]
    },
    {
      "cell_type": "markdown",
      "metadata": {
        "id": "TJ19WJwUEMSI"
      },
      "source": [
        "##### **Fractal Sets**"
      ]
    },
    {
      "cell_type": "markdown",
      "metadata": {
        "id": "uL33tWzdaS1s"
      },
      "source": [
        "http://www.malinc.se/m/Lorenz.php"
      ]
    },
    {
      "cell_type": "markdown",
      "metadata": {
        "id": "0aIi9hlrERqr"
      },
      "source": [
        "###### **Mandelbrot Set**"
      ]
    },
    {
      "cell_type": "markdown",
      "metadata": {
        "id": "RTxVjV8PEXYh"
      },
      "source": [
        "Mandelbrot set: https://youtu.be/FFftmWSzgmk"
      ]
    },
    {
      "cell_type": "markdown",
      "metadata": {
        "id": "3lyG3ihYEZnO"
      },
      "source": [
        "###### **Julia Set**"
      ]
    },
    {
      "cell_type": "markdown",
      "metadata": {
        "id": "CBAcPTVQGrKL"
      },
      "source": [
        "The Mandelbrot set is kind of like a map of Julia sets"
      ]
    },
    {
      "cell_type": "markdown",
      "metadata": {
        "id": "hsnYuvatEfoC"
      },
      "source": [
        "https://de.m.wikipedia.org/wiki/Julia-Menge"
      ]
    },
    {
      "cell_type": "markdown",
      "metadata": {
        "id": "fKk595_SJ52d"
      },
      "source": [
        "https://de.m.wikipedia.org/wiki/Newtonfraktal"
      ]
    },
    {
      "cell_type": "markdown",
      "metadata": {
        "id": "tCPgHXFiCKpH"
      },
      "source": [
        "###### **Logistic Map & Feigenbaum Constant**"
      ]
    },
    {
      "cell_type": "markdown",
      "metadata": {
        "id": "pFgJ4y7LCPWP"
      },
      "source": [
        "https://de.m.wikipedia.org/wiki/Logistische_Gleichung"
      ]
    },
    {
      "cell_type": "markdown",
      "metadata": {
        "id": "F1qfRhwpCQ1Q"
      },
      "source": [
        "https://de.m.wikipedia.org/wiki/Feigenbaum-Konstante"
      ]
    },
    {
      "cell_type": "markdown",
      "metadata": {
        "id": "Mt5cu2yjCWJ3"
      },
      "source": [
        "![gg](https://upload.wikimedia.org/wikipedia/commons/thumb/7/7d/LogisticMap_BifurcationDiagram.png/640px-LogisticMap_BifurcationDiagram.png)"
      ]
    },
    {
      "cell_type": "code",
      "metadata": {
        "colab": {
          "base_uri": "https://localhost:8080/",
          "height": 295
        },
        "id": "Ho65-FaoJZhF",
        "outputId": "ab53eb6b-7690-4997-95c5-73903fe24b96"
      },
      "source": [
        "import numpy as np\n",
        "import matplotlib.pyplot as plt\n",
        "\n",
        "N_points = 4000000\n",
        "N_steps = 500\n",
        "r = np.linspace(0,4,N_points)\n",
        "y = np.random.uniform(0,1,size=N_points)\n",
        "\n",
        "for _ in range(N_steps):\n",
        "    y = r*y*(1-y)\n",
        "    \n",
        "fig, biax = plt.subplots()\n",
        "biax.plot(r, y, '.-', linewidth=0, markersize=0.25)\n",
        "biax.set(xlabel='Wachstumsrate (r)', ylabel='Equilibrium (lims)', title='Bifurcation')\n",
        "plt.show()"
      ],
      "execution_count": null,
      "outputs": [
        {
          "output_type": "display_data",
          "data": {
            "image/png": "[encoded data removed]",
            "text/plain": [
              "<Figure size 432x288 with 1 Axes>"
            ]
          },
          "metadata": {
            "tags": [],
            "needs_background": "light"
          }
        }
      ]
    },
    {
      "cell_type": "markdown",
      "metadata": {
        "id": "d5nqxI_KCfZO"
      },
      "source": [
        "https://youtu.be/ovJcsL7vyrk"
      ]
    },
    {
      "cell_type": "markdown",
      "metadata": {
        "id": "9tAGVtrXD48J"
      },
      "source": [
        "This bifurcation diagram is part of the Mandelbrot set, but turned around and seen from the side"
      ]
    },
    {
      "cell_type": "markdown",
      "metadata": {
        "id": "bR8rl5PrF_bX"
      },
      "source": [
        "![ggg](https://raw.githubusercontent.com/deltorobarba/repo/master/mandelbrot_01.jpg)"
      ]
    },
    {
      "cell_type": "markdown",
      "metadata": {
        "id": "xRzMZIYtGOhQ"
      },
      "source": [
        "![ggg](https://raw.githubusercontent.com/deltorobarba/repo/master/mandelbrot_02.jpg)"
      ]
    },
    {
      "cell_type": "markdown",
      "metadata": {
        "id": "Dlh7BPoNGR7R"
      },
      "source": [
        "![ggg](https://raw.githubusercontent.com/deltorobarba/repo/master/mandelbrot_03.jpg)"
      ]
    },
    {
      "cell_type": "markdown",
      "metadata": {
        "id": "OwZwq7OlGUXk"
      },
      "source": [
        "![ggg](https://raw.githubusercontent.com/deltorobarba/repo/master/mandelbrot_04.jpg)"
      ]
    }
  ]
}