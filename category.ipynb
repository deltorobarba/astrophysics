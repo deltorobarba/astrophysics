{
  "nbformat": 4,
  "nbformat_minor": 0,
  "metadata": {
    "colab": {
      "name": "category.ipynb",
      "provenance": [],
      "collapsed_sections": [
        "LtmwEv1q6VqA",
        "c9UY_fpc-dAF",
        "LWCt5Sx8VIzJ",
        "0SSy_8X9uwn9",
        "zkP1E-QL-PqM",
        "G_tUPl_VAxbI",
        "p5ndDsbXneH4",
        "C1qiFnOmnRoB",
        "PI2PKFV2271a",
        "V_-MkFSbBIQo",
        "FgQp5gTymy4z",
        "7I0Sj-e-6x6L",
        "u9B6KgbpAAMR",
        "IRd6gnIaP5Yv",
        "vrvr-3x8ooDF",
        "ypY_hbb0QSPX",
        "quHXje_VQWHH",
        "IFXyqXaLQQQw",
        "6qCyNILtQke3",
        "QPpM4ns_Qgke",
        "E_r-ToqU0H4a",
        "Mny8a5t4-wOE",
        "PmM2fIh3-rfG",
        "C8MxT7kh0K_V",
        "wSCCYbc9BpgA",
        "NBeTqOWvBtBg",
        "pacCQAp--ldC",
        "IPlwPUfSMCiu"
      ],
      "include_colab_link": true
    },
    "kernelspec": {
      "name": "python3",
      "display_name": "Python 3"
    }
  },
  "cells": [
    {
      "cell_type": "markdown",
      "metadata": {
        "id": "view-in-github",
        "colab_type": "text"
      },
      "source": [
        "<a href=\"https://colab.research.google.com/github/deltorobarba/machinelearning/blob/master/category.ipynb\" target=\"_parent\"><img src=\"https://colab.research.google.com/assets/colab-badge.svg\" alt=\"Open In Colab\"/></a>"
      ]
    },
    {
      "cell_type": "markdown",
      "metadata": {
        "id": "2Aoj2PpxvDQV"
      },
      "source": [
        "# **Category Theory (Morphismen)**"
      ]
    },
    {
      "cell_type": "code",
      "metadata": {
        "id": "1U5_6xH7tAQq"
      },
      "source": [
        "import numpy as np\n",
        "import pandas as pd\n",
        "import seaborn as sns\n",
        "import matplotlib.pyplot as plt"
      ],
      "execution_count": null,
      "outputs": []
    },
    {
      "cell_type": "markdown",
      "metadata": {
        "id": "kt3KfGZK-8Y-"
      },
      "source": [
        "### **Prerequisites**"
      ]
    },
    {
      "cell_type": "markdown",
      "metadata": {
        "id": "LtmwEv1q6VqA"
      },
      "source": [
        "##### **Funktional (Linearform) & Dualraum**"
      ]
    },
    {
      "cell_type": "markdown",
      "metadata": {
        "id": "_BMwC_7ev16S"
      },
      "source": [
        "**Funktional**"
      ]
    },
    {
      "cell_type": "markdown",
      "metadata": {
        "id": "Z2gaucfCv5BP"
      },
      "source": [
        "* eine Funktion, deren Definitionsmenge (Urbilder) als Teilmenge in einem Vektorraum V enthalten ist, während ihre Zielmenge in dem zugehörigen Skalarkörper liegt (zB von einer Fläche R<sup>2</sup> in eine Linie R)\n",
        "\n",
        "* Exkurs Funktionalanalyse: Hier ist der untersuchte Vektorraum V zumeist ein Funktionenraum, also ein Vektorraum, dessen Elemente reell- oder komplexwertige Funktionen sind, wobei diesen durch Funktionale Skalare zugeordnet werden. Als bedeutendes Beispiel eines solchen Funktionals kann etwa das [Lebesgue-Integral](https://de.m.wikipedia.org/wiki/Lebesgue-Integral) gelten."
      ]
    },
    {
      "cell_type": "markdown",
      "metadata": {
        "id": "UcMwC7rdxDoN"
      },
      "source": [
        "Sei $V$ ein $\\mathbb{K}$ -Vektorraum mit $\\mathbb{K} \\in\\{\\mathbb{R}, \\mathbb{C}\\} .$ Ein Funktional $T$ ist eine Abbildung $T: V \\rightarrow \\mathbb{K} .$"
      ]
    },
    {
      "cell_type": "markdown",
      "metadata": {
        "id": "YYTQ4y0mv78o"
      },
      "source": [
        "https://de.m.wikipedia.org/wiki/Funktional"
      ]
    },
    {
      "cell_type": "markdown",
      "metadata": {
        "id": "gQTz9Ux4z3fz"
      },
      "source": [
        "**Linearform**"
      ]
    },
    {
      "cell_type": "markdown",
      "metadata": {
        "id": "EqayuDxZz-0m"
      },
      "source": [
        "* Die Linearform ist ein Begriff aus dem mathematischen Teilgebiet der linearen Algebra. Man bezeichnet damit eine lineare Abbildung von einem Vektorraum in den zugrundeliegenden Körper.\n",
        "\n",
        "* Im Kontext der Funktionalanalysis, das heißt im Falle eines topologischen \n",
        "$\\mathbb {R}$ - oder $\\mathbb {C}$-Vektorraums, sind die betrachteten Linearformen meistens [stetige lineare Funktionale](https://de.m.wikipedia.org/wiki/Funktional#Stetige_lineare_Funktionale)."
      ]
    },
    {
      "cell_type": "markdown",
      "metadata": {
        "id": "tCJXPcsM0mxn"
      },
      "source": [
        "Es sei $K$ ein Körper und $V$ ein $K$ -Vektorraum. Eine Abbildung $f: V \\rightarrow K$ heißt Linearform, wenn für alle Vektoren $x, y \\in V$ und Skalare $\\alpha \\in K$ gilt:\n",
        "\n",
        "1. $f(x+y)=f(x)+f(y)$ (**Additivität**);\n",
        "\n",
        "2. $f(\\alpha x)=\\alpha f(x)$ (**Homogenität**).\n",
        "\n",
        "**Übergang zu Dualraum**: Die Menge aller Linearformen über einem gegebenen Vektorraum $V$ bildet dessen Dualraum $V^{*}$ und damit selbst wieder in natürlicher Weise einen $K$ -Vektorraum."
      ]
    },
    {
      "cell_type": "markdown",
      "metadata": {
        "id": "aGaeM-nnz7Ee"
      },
      "source": [
        "https://de.m.wikipedia.org/wiki/Linearform"
      ]
    },
    {
      "cell_type": "markdown",
      "metadata": {
        "id": "n7txO-4l254v"
      },
      "source": [
        "**Dualraum**"
      ]
    },
    {
      "cell_type": "markdown",
      "metadata": {
        "id": "0dayuxImzTOv"
      },
      "source": [
        "* In den meisten Bereichen der Funktionalanalysis, etwa in der Theorie der [topologischen\n",
        "Vektorräume](https://de.m.wikipedia.org/wiki/Topologischer_Vektorraum), wird der Begriff Funktional (ohne weiteren Zusatz) als Synonym für lineare Funktionale\n",
        "benutzt. \n",
        "\n",
        "* Ein solches Funktional ist also definitionsgemäß eine [Linearform](https://de.m.wikipedia.org/wiki/Linearform), also eine lineare\n",
        "Abbildung des Vektorraumes $V$ in seinen Skalarkörper $\\mathbb{K}$. \n",
        "\n",
        "* Die Menge all dieser Funktionale ist\n",
        "wiederum in natürlicher Form ein Vektorraum über dem gleichen Körper $\\mathbb{K}$, indem man für zwei\n",
        "Funktionale $f$ und $g$ über $V$ die Addition und Skalarmultiplikation punktweise definiert, d. h.\n",
        "\n",
        "\n",
        "> $\n",
        "(f+g)(x):=f(x)+g(x) \\quad(\\lambda f)(x):=\\lambda(f(x)), x \\in V\n",
        "$\n",
        "\n",
        "Der Vektorraum der linearen Funktionale auf dem Vektorraum $V$ wird der algebraische Dualraum genannt und oft mit $V^{*}$ bezeichnet."
      ]
    },
    {
      "cell_type": "markdown",
      "metadata": {
        "id": "VWv2DHm71k_n"
      },
      "source": [
        "Beispiele von Dualräumen"
      ]
    },
    {
      "cell_type": "markdown",
      "metadata": {
        "id": "QPIQCssA1-w-"
      },
      "source": [
        "Für den Vektorraum $V=\\mathbb{R}^{n}$ ist der Dualraum kanonisch isomorph zum Vektorraum selbst, $\\mathrm{d} .$ h. $V \\cong V$ Der kanonische Isomorphismus $I: \\mathbb{R}^{n} \\rightarrow\\left(\\mathbb{R}^{n}\\right)^{*}$ wird dabei über das [Standardskalarprodukt](https://de.m.wikipedia.org/wiki/Standardskalarprodukt) vermittelt:\n",
        "$$\n",
        "(I(x))(y):=\\langle x, y\\rangle=\\sum_{i=1}^{n} x_{i} \\cdot y_{i}\n",
        "$$\n",
        "Für den Vektorraum $V=\\mathbb{C}^{n}$ gilt ähnliches wie im ersten Fall, allerdings ist die kanonische Abbildung $I: \\mathbb{C}^{n} \\rightarrow\\left(\\mathbb{C}^{n}\\right)^{*}$ in diesem Fall semilinear:\n",
        "$$\n",
        "(I(x))(y):=\\langle x, y\\rangle=\\sum_{i=1}^{n} \\overline{x_{i}} \\cdot y_{i}\n",
        "$$\n",
        "Der Dualraum ist in diesem Fall also gleich groB, hat aber bezüglich der kanonischen Abbildung eine\n",
        "andere Skalarmultiplikation. Im Sinne der linearen Algebra sagt man auch: Der Dualraum ist kanonisch\n",
        "isomorph zum komplex konjugierten Vektorraum."
      ]
    },
    {
      "cell_type": "markdown",
      "metadata": {
        "id": "iWM3n5Ib2v94"
      },
      "source": [
        "*Beispiele topologischer Dualräume*"
      ]
    },
    {
      "cell_type": "markdown",
      "metadata": {
        "id": "OuJVFzQ22tcK"
      },
      "source": [
        "Für endlichdimensionale Vektorräume gibt es eine natürliche Topologie ([Normtopologie](https://de.m.wikipedia.org/wiki/Normtopologie)), die aus der euklidischen Norm hervorgeht (genauer gesagt: aus einer beliebigen euklidischen Norm, wenn man eine Basis wählt). Dies ist gerade die Topologie, die der normalen Standard-Analysis zugrunde liegt, und in dieser ist jedes lineare Funktional stetig. Das heißt, der algebraische Dualraum ist gleich dem topologischen Dualraum.\n",
        "\n",
        "Im unendlichdimensionalen Fall ist der topologische Dualraum (fast) immer ein echter Teilraum des algebraischen Dualraumes.\n",
        "\n",
        "In normierten Vektorräumen ist ein Funktional \n",
        "f\n",
        "f genau dann stetig, wenn es beschränkt ist, das heißt"
      ]
    },
    {
      "cell_type": "markdown",
      "metadata": {
        "id": "Ml2Bs7ti3F-d"
      },
      "source": [
        "> $\\sup _{\\|x\\| \\leq 1}|f(x)|<\\infty$"
      ]
    },
    {
      "cell_type": "markdown",
      "metadata": {
        "id": "qcdQxuE022UR"
      },
      "source": [
        "Der topologische Dualraum ist dann automatisch ein Banachraum mit der oben angegebenen Supremumsnorm.\n",
        "\n",
        "In Hilberträumen ist der topologische Dualraum kanonisch mit dem Ursprungsraum identifizierbar (Darstellungssatz von Fréchet-Riesz). Die Identifikation erfolgt wie im endlichdimensionalen Fall über das Skalarprodukt:"
      ]
    },
    {
      "cell_type": "markdown",
      "metadata": {
        "id": "e_kmVm_s3LJ2"
      },
      "source": [
        "> $(I(y)):=\\langle\\cdot, y\\rangle$"
      ]
    },
    {
      "cell_type": "markdown",
      "metadata": {
        "id": "_jMuxa_W33ho"
      },
      "source": [
        "Der topologische Dualraum des Raumes der unendlich oft stetig differenzierbaren Funktionen mit kompaktem Träger auf der reellen Achse (die so genannten Testfunktionen) mit einer bestimmten (hier nicht näher erklärten) Topologie wird als Raum der [Distributionen](https://de.m.wikipedia.org/wiki/Distribution_(Mathematik)) bezeichnet. In diesem Raum liegt auch das weiter oben genannte Beispiel des Dirac-Delta-Funktionals."
      ]
    },
    {
      "cell_type": "markdown",
      "metadata": {
        "id": "NToOT7Yn2J9q"
      },
      "source": [
        "Weitere Defintion Dualraum"
      ]
    },
    {
      "cell_type": "markdown",
      "metadata": {
        "id": "4LAkpsz829WH"
      },
      "source": [
        "* ist ein Vektorraum, der die Abbildungen als Elemente umfasst\n",
        "\n",
        "* Menge (Objekte) sind verbunden mit Abbildungen ('Funktionen') von einer Menge X1 in eine andere Menge X2\n",
        "\n",
        "* Sei V ein K-Vektorraum (zB K als reelle Zahlen R und V als R<sup>2</sup>)\n",
        "\n",
        "* V* = {f : V -> K | f linear}, das ist ein Homomorphismus (eine strukturerhaltende Abbildung)\n",
        "\n",
        "* Um Menge V besser zu verstehen, definiert man eine \"Partnermenge\" V*, die als Elemente alle Abbildungen von V nach K enthaelt"
      ]
    },
    {
      "cell_type": "markdown",
      "metadata": {
        "id": "c9UY_fpc-dAF"
      },
      "source": [
        "##### **Injektive, surjektive & bijektive Abbildungen**"
      ]
    },
    {
      "cell_type": "markdown",
      "metadata": {
        "id": "RFgQPMjQ_2QB"
      },
      "source": [
        "![alternativer Text](https://upload.wikimedia.org/wikipedia/commons/thumb/0/02/Injection.svg/240px-Injection.svg.png)"
      ]
    },
    {
      "cell_type": "markdown",
      "metadata": {
        "id": "AZ_sMORDL_Ai"
      },
      "source": [
        "* Jedes Element von Y hat höchstens ein Urbild: A, B, D je eines, C keines.\n",
        "\n",
        "* Die Zielmenge kann daher nicht weniger mächtig als die Definitionsmenge sein, d. h., sie kann nicht weniger Elemente enthalten.\n",
        "\n",
        "* injektiv, wenn es zu jedem Element y der Zielmenge Y höchstens ein (also eventuell gar kein) Element x der Ausgangs- oder Definitionsmenge X gibt, das darauf zielt, wenn also **nie zwei verschiedene Elemente der Definitionsmenge auf dasselbe Element der Zielmenge abgebildet werden**"
      ]
    },
    {
      "cell_type": "markdown",
      "metadata": {
        "id": "spo-zVLSLUsq"
      },
      "source": [
        "https://de.m.wikipedia.org/wiki/Injektive_Funktion"
      ]
    },
    {
      "cell_type": "markdown",
      "metadata": {
        "id": "EsAaO511Ln_G"
      },
      "source": [
        "![alternativer Text](https://upload.wikimedia.org/wikipedia/commons/thumb/6/6c/Surjection.svg/240px-Surjection.svg.png)"
      ]
    },
    {
      "cell_type": "markdown",
      "metadata": {
        "id": "SpROKRjkLzec"
      },
      "source": [
        "jedes Element der Zielmenge hat mindestens ein Urbild (rechtstotalen Funktionen)"
      ]
    },
    {
      "cell_type": "markdown",
      "metadata": {
        "id": "oECpC2jOLWnI"
      },
      "source": [
        "https://de.m.wikipedia.org/wiki/Surjektive_Funktion"
      ]
    },
    {
      "cell_type": "markdown",
      "metadata": {
        "id": "_lQ2nNu6Ljv4"
      },
      "source": [
        "![alternativer Text](https://upload.wikimedia.org/wikipedia/commons/thumb/a/a5/Bijection.svg/240px-Bijection.svg.png)"
      ]
    },
    {
      "cell_type": "markdown",
      "metadata": {
        "id": "4TEi36wZLYis"
      },
      "source": [
        "https://de.m.wikipedia.org/wiki/Bijektive_Funktion"
      ]
    },
    {
      "cell_type": "markdown",
      "metadata": {
        "id": "LWCt5Sx8VIzJ"
      },
      "source": [
        "##### **Äquivalenz- und Ordnungsrelation**"
      ]
    },
    {
      "cell_type": "markdown",
      "metadata": {
        "id": "QhlIJ2-DBSjR"
      },
      "source": [
        "In den beiden Beispielen waren viele Begriffe nur bis auf eine Homotopie gegeben. In der Tat ist es eine wichtige Frage der Kategorientheorie, welche A ̈quivalenzrelationen ”richtig” sind. So ist es z.B. fu ̈r Objekte Isomorphie, fu ̈r Funktoren ist es natu ̈rliche A ̈quivalenz und fu ̈r Kategorien ist es A ̈quivalenz."
      ]
    },
    {
      "cell_type": "markdown",
      "metadata": {
        "id": "7VSEKdUt-815"
      },
      "source": [
        "**Äquivalenzrelation**"
      ]
    },
    {
      "cell_type": "markdown",
      "metadata": {
        "id": "JVrZ5Scx_Yo4"
      },
      "source": [
        "Auf der Grundlage der Menge der natürlichen Zahlen ℕ = { 0, 1, 2, 3, 4, ... } lassen sich weitere Zahlenmengen, nämlich ℤ, ℚ, u.s.w. auf eine ganz eigentümliche Art konstruieren. Der zentrale Begriff, mit dessen Hilfe diese Konstruktionen möglich sind, ist der Begriff Äquivalenzrelation. Auch in anderen Zusammenhängen ist dieser Begriff wichtig.\n",
        "\n",
        "Eine Relation ~ ⊂ M x M auf einer Menge M heißt Äquivalenzrelation auf M, falls ~ transitiv, symmetrisch und reflexiv ist, das heißt, falls für alle x, y, z ∈ M das Folgende gilt:"
      ]
    },
    {
      "cell_type": "markdown",
      "metadata": {
        "id": "200Fm6E1_NpY"
      },
      "source": [
        "x ~ y  und  y ~ z  ⇒  x ~ z   (Transitivität)\n",
        "\n",
        "x ~ y  ⇒  y ~ x   (Symmetrie)\n",
        "\n",
        "x ~ x   (Reflexivität)\n"
      ]
    },
    {
      "cell_type": "markdown",
      "metadata": {
        "id": "olZgB0oZ_ttC"
      },
      "source": [
        "Eine Menge M, auf der eine Äqivalenzrelation definiert ist, zerfällt sozusagen von selbst in Teilmengen Mi, und zwar so, dass für je zwei Elemente x und y einer Teilmenge Mi stets x ~ y gilt. Das Umgekehrte ist ebenfalls richtig: Jede Klasseneinteilung einer Menge M induziert in natürlicher Weise eine Äquivalenzrelation auf M.\n",
        "\n"
      ]
    },
    {
      "cell_type": "markdown",
      "metadata": {
        "id": "b5NyweSG_8Xh"
      },
      "source": [
        "Hierbei versteht man unter einer Zerlegung einer nichtleeren Menge M eine Menge $\\mathscr{M}=\\left\\{\\mathrm{M}_{1}, \\mathrm{M}_{2}, \\mathrm{M}_{3}, \\ldots\\right\\}$ von Teilmengen von M mit den zwei Eigenschaften:\n",
        "\n",
        "(I) $\\mathrm{M}_{1} \\cup \\mathrm{M}_{2} \\cup \\mathrm{M}_{3} \\cup \\ldots=\\mathrm{M}$\n",
        "\n",
        "(II) $\\mathrm{M}_{\\mathrm{i}} \\cap \\mathrm{M}_{\\mathrm{k}}=\\{\\} \\Leftrightarrow \\mathrm{M}_{\\mathrm{i}} \\neq \\mathrm{M}_{\\mathrm{k}}$\n",
        "\n",
        "Die so definierten Teilmengen von $\\mathrm{M}$ sind also paarweise disjunkt und jedes Element von M ist in genau einer dieser Teilmengen von M enthalten. Das\n",
        "bedeutet, dass jedes Element $M_{i} \\in \\mathscr{M}$ eindeutig bestimmt und repräsentiert ist durch irgendein $\\mathrm{m} \\in \\mathrm{M}_{\\mathrm{i}}$. Jede Zerlegung induziert eine Äquivalenzrelation.\n",
        "\n",
        "Sei $\\mathscr{M}$ eine Zerlegung einer nichtleeren Menge M. Dann ist die Relation\n",
        "$\\sim \\subset M \\times M,$ definiert durch\n",
        "$x \\sim y \\Leftrightarrow x, y \\in M_{i}$ für ein $M_{i} \\in \\mathscr{A}$\n",
        "eine Äquivalenzrelation auf M."
      ]
    },
    {
      "cell_type": "markdown",
      "metadata": {
        "id": "TjLANBBY_po4"
      },
      "source": [
        "https://www.henked.de/begriffe/aequivalenzrelation.htm"
      ]
    },
    {
      "cell_type": "markdown",
      "metadata": {
        "id": "xcp7W7ad-7x9"
      },
      "source": [
        "https://de.m.wikipedia.org/wiki/Äquivalenzrelation"
      ]
    },
    {
      "cell_type": "markdown",
      "metadata": {
        "id": "OmdUiXQe_BIj"
      },
      "source": [
        "**Ordnungsrelation**"
      ]
    },
    {
      "cell_type": "markdown",
      "metadata": {
        "id": "fcwSBGRmVO-v"
      },
      "source": [
        "* Eigenschaft jeweils zweier Elemente einer Menge\n",
        "\n",
        "* Ordnungsrelationen sind Verallgemeinerungen der „kleiner-gleich“-Beziehung. Sie erlauben es, Elemente einer Menge miteinander zu vergleichen.\n",
        "\n",
        "* Eine Ordnungsrelation ist formal eine [zweistellige Relation](https://de.m.wikipedia.org/wiki/Relation_(Mathematik)#Zweistellige_Relation) $R \\subseteq M \\times M$ auf einer Menge $M$ mit bestimmten unten aufgeführten Eigenschaften, worunter immer die Transitivität ist.\n",
        "\n",
        "* *Exkurs: Eine zweistellige Relation $R$ (auch binäre Relation genannt) zwischen zwei Mengen $A$ und $B$ ist eine Teilmenge des kartesischen Produkts $A \\times B=\\{(a, b) \\mid a \\in A, b \\in B\\}:$ $R \\subseteq A \\times B$. Die Menge $A$ wird als Quellmenge (englisch: set of departure) der Relation $R$ bezeichnet, die Menge $B$ als Zielmenge (englisch: set of destination).*"
      ]
    },
    {
      "cell_type": "markdown",
      "metadata": {
        "id": "KHUP6XJrWzDF"
      },
      "source": [
        "**(Schwache) Totalordnung (lineare Ordnung)**\n",
        "\n",
        "Eine Relation $\\leq$ auf einer Menge $M$ wird (schwache) Totalordnung oder totale Ordnung oder einfach (schwache) Ordnung genannt, wenn die Forderungen\n",
        "\n",
        "* $x \\leq x$ \t(**Reflexivität**)\n",
        "\n",
        "* $x \\leq y \\wedge y \\leq x \\Rightarrow x=y$\n",
        "(**Antisymmetrie** - In der Äquivalenzrelation ist das hier die **Symmetrie**)\n",
        "\n",
        "* $x \\leq y \\wedge y \\leq z \\Rightarrow x \\leq z$ (**Transitivität**)\n",
        "\n",
        "* $x \\leq y \\vee y \\leq x$ (**Totalität**)\n",
        "\n",
        "für alle $x, y, z \\in M$ erfült sind. \n",
        "\n",
        "Da dies bei der Zahlengeraden, der , Linie\", der Fall ist, wird eine Totalordnung auch lineare Ordnung genannt. Ferner gibt es für totalgeordnete Untermengen von partiell geordneten Mengen die Bezeichnung Kette."
      ]
    },
    {
      "cell_type": "markdown",
      "metadata": {
        "id": "3N5AXsDypR-Z"
      },
      "source": [
        "a ≤ a (reflexivity)\n",
        "\n",
        "if a ≤ b and b ≤ a then a = b (antisymmetry)\n",
        "\n",
        "if a ≤ b and b ≤ c then a ≤ c (transitivity)."
      ]
    },
    {
      "cell_type": "markdown",
      "metadata": {
        "id": "CLpjn67jpVMX"
      },
      "source": [
        "https://en.m.wikipedia.org/wiki/Order_theory"
      ]
    },
    {
      "cell_type": "markdown",
      "metadata": {
        "id": "Gx2gPD8DXwrf"
      },
      "source": [
        "Beispiel und Gegenbeispiel:\n",
        "\n",
        "* Ein Beispiel ist die Relation $\\leq($, kleinergleich\") auf den ganzen Zahlen $\\mathbb{Z}$.\n",
        "\n",
        "* Ein Gegenbeispiel ist die Teilmengenbeziehung $\\subseteq$ auf der Potenzmenge von $\\mathbb{Z}:$ sie ist nicht total, denn es gilt weder \\{1,2\\}$\\subseteq\\{2,3\\}$ noch \\{2,3\\}$\\subseteq\\{1,2\\}$."
      ]
    },
    {
      "cell_type": "markdown",
      "metadata": {
        "id": "iUQFcFxdYpSL"
      },
      "source": [
        "**(Strenge) Totalordnung**\n",
        "\n",
        "Eine Relation $<$ auf $M$ heißt strenge (oder auch starke) Totalordnung, wenn\n",
        "\n",
        "* $x<y \\wedge y<z \\Rightarrow x<z$ (**Transitivität**)\n",
        "\n",
        "* entweder $x<y$ oder $x=y$ oder $y<x$\n",
        "(**Trichotomie**)\n",
        "\n",
        "für alle $x, y, z \\in M$ gilt.\n",
        "\n",
        "(In der Mathematik ist die Einteilung der reellen Zahlen in positive und negative Zahlen und die Null eine Trichotomie im strengen Sinne. Eine Verallgemeinerung davon ist die Trichotomie der Ordnung: Für reelle Zahlen a und b gilt genau eine der Beziehungen:\n",
        "\n",
        "a < b\n",
        "\n",
        "a = b\n",
        "\n",
        "a > b\n",
        "\n",
        "Diese Eigenschaft gilt in jeder total geordneten Menge.)"
      ]
    },
    {
      "cell_type": "markdown",
      "metadata": {
        "id": "Yoh8FDTcVMWY"
      },
      "source": [
        "https://de.m.wikipedia.org/wiki/Ordnungsrelation"
      ]
    },
    {
      "cell_type": "markdown",
      "metadata": {
        "id": "0SSy_8X9uwn9"
      },
      "source": [
        "##### **Bild und Urbild**"
      ]
    },
    {
      "cell_type": "markdown",
      "metadata": {
        "id": "urXv_rFuy6tf"
      },
      "source": [
        "Thema: Abbildungen (zB lineare Abbildungen in Vektorräumen)\n",
        "\n",
        "* **Definitionsmenge**: zB Vektorraum V (mit Funktionsargument)\n",
        "\n",
        "* **Zielmenge**: zB Vektorraum W (mit Funktionswert)\n",
        "\n",
        "* **Urbild**: Das Urbild von der Teilmenge N in der Zielmenge W sind alle Elemente aus der Definitionsmenge V (original), für die gilt, wenn man sie in die Funktion einsetzt, dann liegt der Funktionswert in den Teilmenge N der Zielmenge W.\n",
        "\n",
        "> $f^{-1}(N)=\\{x \\in V \\mid f(x) \\in N\\}$\n",
        "\n",
        "* **Faser**: Urbild von einem Element (\"Faser der Abbildung über einem Element\")\n",
        "\n",
        "* **Funktionswerte**: Element im Bild in der Zielmenge, der zu einem Element im Urbild gehört. Alle Funktionswerte, die überhauot rauskommen können, sind das Bild bzw. die Bildmenge. \n",
        "\n",
        "* **Bild**: Menge in der Zielmenge. Ist immer in der Zielmenge, muss aber nicht alle Elemente in der Zielmenge umfassen\n",
        "\n",
        ">$\\operatorname{Bild}(f)=f(V):=\\{f(x) \\mid x \\in V\\}$ = im(f)\n",
        "\n",
        "* **Kern**: Nullvektor / das neutrale Element der Addition. Alle Elemente in der Definitionsmenge V, für die der Funktionswert der Nullvektor ist (d.h. bei denen Null in der Zielmenge rauskommt).\n",
        "\n",
        ">ker(f) = $\\{x \\in V \\mid f(x)=0 \\in W\\}$"
      ]
    },
    {
      "cell_type": "markdown",
      "metadata": {
        "id": "VlpJJK1F979M"
      },
      "source": [
        "https://de.m.wikipedia.org/wiki/Urbild_(Mathematik)#Definition"
      ]
    },
    {
      "cell_type": "markdown",
      "metadata": {
        "id": "YDualhq0eJBf"
      },
      "source": [
        "**Umfangreichere Differenzierung**"
      ]
    },
    {
      "cell_type": "markdown",
      "metadata": {
        "id": "63hmjERjeHzh"
      },
      "source": [
        "* In der Analysis spricht man heute häufig noch von Funktionen, während man in der Algebra und in der Geometrie von Abbildungen spricht. \n",
        "\n",
        "* Einige Mathematiker unterscheiden auch heute noch streng zwischen einer Abbildung und einer Funktion. Diese verstehen unter einer Funktion eine Abbildung in den reellen oder komplexen Zahlenkörper.\n",
        "\n",
        "* Weitere Synonyme in spezielleren Zusammenhängen sind unter anderem **Operation in der Analysis, Verknüpfung und Morphismus in der Algebra**."
      ]
    },
    {
      "cell_type": "markdown",
      "metadata": {
        "id": "nkOB9acDedLP"
      },
      "source": [
        "Eine Funktion f ordnet jedem Element x einer Definitionsmenge D genau ein Element y einer Zielmenge Z zu.\n",
        "Schreibweise:\n",
        "\n",
        "**f: D ⟶ Z, x ↦ y**\n",
        "\n",
        "Anmerkungen:\n",
        "* Die Umkehrung gilt nicht: Ein Element der Zielmenge muss (wenn überhaupt) nicht nur einem Element des Definitionsbereiches zugeordnet worden sein.\n",
        "\n",
        "* Oft ist an Stelle der Definitionsmenge zunächst eine Quellmenge Q gegeben. Wenn f als Rechenvorschrift gegeben ist, erhält man die Definitionsmenge D<sub>f</sub>, indem man von Q diejenigen Elemente ausschließt, für die f nicht definiert ist."
      ]
    },
    {
      "cell_type": "markdown",
      "metadata": {
        "id": "35B4DcKge1AB"
      },
      "source": [
        "**Mengentheoretische Definition**\n",
        "\n",
        "Mengentheoretisch ist eine Funktion eine spezielle Relation: Eine Funktion von der Menge D in die Menge Z ist eine Menge f, die die folgenden Eigenschaften hat: \n",
        "\n",
        "* f ist eine Teilmenge des kartesischen Produkts D􏰞xZ von D und Z, d. h. f eine Relation.\n",
        "\n",
        "* Für jedes Element x aus D existiert (mindestens) ein Element y in Z, so dass das geordnete Paar (x,y) Element der Relation f ist. f ist also linkstotal.\n",
        "\n",
        "* Zu jedem Element x von D gibt es höchstens ein Element y von Z, so dass das Paar (x,y) in f liegt. f ist damit rechtseindeutig bzw. funktional.\n",
        "\n",
        "* Die letzten beiden Eigenschaften lassen sich auch wie folgt zusammenfassen:\n",
        "Zu jedem Element x von D gibt es genau ein Element y von Z, so dass das Paar (x,y) Element der Relation f ist.\n",
        "\n",
        "\n",
        "Oft möchte man aber auch die Zielmenge explizit zu einem Teil der Funktion machen, zum Beispiel um Aussagen zur Surjektivität anstellen zu können:\n",
        "\n",
        "* Ein Paar f = (G<sub>f</sub>,Z), bestehend aus einer Relation G<sub>f</sub> und einer Menge Z, heißt Funktion von der Menge D nach Z, wenn gilt: G<sub>f</sub> ⊆ D􏰞Z und zu jedem Element x von D gibt es genau ein Element y von Z (geschrieben y = f(x)), so dass das Paar (x,y) Element von G<sub>f</sub> ist.\n",
        "\n",
        "* G<sub>f</sub> wird auch der Graph der Funktion f genannt. Die Definitionsmenge D der Funktion ist dabei durch ihren Graphen eindeutig bestimmt und besteht aus den ersten Komponenten aller Elemente des Graphen. Stimmen zwei Funktionen in ihren Graphen überein, so sagt man auch, sie seien im We‐ sentlichen gleich.\n",
        "\n",
        "* Man kann jedoch auch noch die Definitionsmenge hinzunehmen und eine Funktion entsprechend als ein Tripel f = (Gf,D,Z), G<sub>f</sub> wie oben, definieren."
      ]
    },
    {
      "cell_type": "markdown",
      "metadata": {
        "id": "L9dWfLfey6I0"
      },
      "source": [
        "https://youtu.be/Q52laFrARek"
      ]
    },
    {
      "cell_type": "markdown",
      "metadata": {
        "id": "gLCSYbQCnvxo"
      },
      "source": [
        "### **Category Theory**"
      ]
    },
    {
      "cell_type": "markdown",
      "metadata": {
        "id": "zkP1E-QL-PqM"
      },
      "source": [
        "##### **Types of Categories**"
      ]
    },
    {
      "cell_type": "markdown",
      "metadata": {
        "id": "ymTd9h4j7GQb"
      },
      "source": [
        "* Die Kategorientheorie lässt sich, ähnlich wie die universelle Algebra, als allgemeine Theorie mathematischer Strukturen auffassen (klassische Strukturen sind z. B. Gruppen, Ringe, Moduln und topologische Räume).\n",
        "\n",
        "* Dabei werden Eigenschaften mathematischer Strukturen allerdings nicht über Relationen zwischen Elementen der Trägermenge(n) definiert, sondern mittels Morphismen und Funktoren quasi über Vergleiche sowohl innerhalb von als auch zwischen Kategorien."
      ]
    },
    {
      "cell_type": "markdown",
      "metadata": {
        "id": "YOZ8-EPR8Ke1"
      },
      "source": [
        "https://en.m.wikipedia.org/wiki/Category_(mathematics)"
      ]
    },
    {
      "cell_type": "markdown",
      "metadata": {
        "id": "SHe-6JFB7JLx"
      },
      "source": [
        "https://de.m.wikipedia.org/wiki/Kategorientheorie"
      ]
    },
    {
      "cell_type": "markdown",
      "metadata": {
        "id": "V4KFp9ynqCEA"
      },
      "source": [
        "**Topos**"
      ]
    },
    {
      "cell_type": "markdown",
      "metadata": {
        "id": "X5hqj6Zdp_gP"
      },
      "source": [
        "https://en.m.wikipedia.org/wiki/Topos"
      ]
    },
    {
      "cell_type": "markdown",
      "metadata": {
        "id": "VBs3-BFKAKbO"
      },
      "source": [
        "Grp: https://en.m.wikipedia.org/wiki/Category_of_groups"
      ]
    },
    {
      "cell_type": "markdown",
      "metadata": {
        "id": "mdlSlCspAQmw"
      },
      "source": [
        "Set: https://en.m.wikipedia.org/wiki/Category_of_sets"
      ]
    },
    {
      "cell_type": "markdown",
      "metadata": {
        "id": "D-3wpkFiAZBn"
      },
      "source": [
        "Top: https://en.m.wikipedia.org/wiki/Topological_space"
      ]
    },
    {
      "cell_type": "markdown",
      "metadata": {
        "id": "faJU6NV-AlIP"
      },
      "source": [
        "Uni: https://en.m.wikipedia.org/wiki/Uniform_space"
      ]
    },
    {
      "cell_type": "markdown",
      "metadata": {
        "id": "G_tUPl_VAxbI"
      },
      "source": [
        "##### **Objects**"
      ]
    },
    {
      "cell_type": "markdown",
      "metadata": {
        "id": "NyXuaJ3V-YZ-"
      },
      "source": [
        "* A category consists of a collection of objects together with morphisms between these objects. Thus, naively, we may think of objects as the ‘elements’ of a category.\n",
        "\n",
        "* In the category Set, the objects are sets; in Vect the objects are vector spaces; in Top the objects are topological spaces, etc."
      ]
    },
    {
      "cell_type": "markdown",
      "metadata": {
        "id": "VktkIIFfDU6z"
      },
      "source": [
        "**Examples**"
      ]
    },
    {
      "cell_type": "markdown",
      "metadata": {
        "id": "5eLPSGAeDW0j"
      },
      "source": [
        "* If a set is regarded as a discrete category (with no nontrivial morphisms) then the objects of that category are precisely the elements of the set.\n",
        "\n",
        "* In the fundamental groupoid \n",
        "Π\n",
        "1\n",
        "(\n",
        "X\n",
        ")\n",
        " of a topological space \n",
        "X\n",
        ", the objects are the points of \n",
        "X\n",
        ".\n",
        "\n",
        "* **In the category Set, the objects are sets; in Vect the objects are vector spaces; in Top the objects are topological spaces, etc.**\n",
        "\n",
        "* If a simplicial set that is a Kan complex is regarded as an ∞-groupoid, then its vertices are the objects of that ∞-groupoid.\n",
        "\n",
        "* Similarly if a simplicial set that is a quasi-category is regarded as an (∞,1)-category, then its vertices are the objects of that (∞,1)-category.\n",
        "\n",
        "* If a globular set is equipped with the structure of a strict ∞-category, then its \n",
        "0-cells are the objects of that ∞-category."
      ]
    },
    {
      "cell_type": "markdown",
      "metadata": {
        "id": "I3bjOlrE-bAl"
      },
      "source": [
        "https://ncatlab.org/nlab/show/object"
      ]
    },
    {
      "cell_type": "markdown",
      "metadata": {
        "id": "tyvBJrE3-uA9"
      },
      "source": [
        "https://ncatlab.org/nlab/show/category"
      ]
    },
    {
      "cell_type": "markdown",
      "metadata": {
        "id": "p5ndDsbXneH4"
      },
      "source": [
        "##### **Produkt und Koprodukt**"
      ]
    },
    {
      "cell_type": "markdown",
      "metadata": {
        "id": "aZvmelY1BHvW"
      },
      "source": [
        "* Das Produkt entsteht aus einer Verallgemeinerung des kartesischen Produkts und das Koprodukt aus einer Verallgemeinerung der (äußeren) disjunkten Vereinigung von Mengen. \n",
        "\n",
        "* Das Produkt und Koprodukt decken das kartesische Produkt und die disjunkte Vereinigung als Spezialfälle auf der Kategorie der Mengen ab."
      ]
    },
    {
      "cell_type": "markdown",
      "metadata": {
        "id": "0qp1rlSQC8aj"
      },
      "source": [
        "Erläuterung \"Produkt\" anhand der Verallgemeinerung des kartesischen Produkts zweier Mengen:\n",
        "\n",
        "* A **categorical product** is an object (called a **candidate**) that has an arrow into A (category, or set) and and arrow into B (this is important !! - diese pfeile sind sowas wie reverse engineer das kartesische produkt), and for any other object (another potential candidate for being a product) with its arrows f and g there is going to be a **unique arrow h** which has the property that **it makes the diagram commute.**\n",
        "\n",
        "* The categorical product is a candidate A x B, $\\phi$<sub>1</sub> : A x B $\\rightarrow$ A, $\\phi$<sub>2</sub> : A x B $\\rightarrow$ B such that for any other candidate X, f : X $\\rightarrow$ A, g : X $\\rightarrow$ B there exists a unique h : X $\\rightarrow$ A x B such that $\\phi$<sub>1</sub> ∗ h = f, $\\phi$<sub>2</sub> ∗ h = g\n"
      ]
    },
    {
      "cell_type": "markdown",
      "metadata": {
        "id": "HSwhbeLQngrK"
      },
      "source": [
        "https://de.m.wikipedia.org/wiki/Produkt_und_Koprodukt"
      ]
    },
    {
      "cell_type": "markdown",
      "metadata": {
        "id": "C1qiFnOmnRoB"
      },
      "source": [
        "##### **Anfangsobjekt (initiales), Endobjekt (terminales, finales) und Nullobjekt**"
      ]
    },
    {
      "cell_type": "markdown",
      "metadata": {
        "id": "dsxv-mg2rpg1"
      },
      "source": [
        "1. Ein Objekt $X$ heißt Anfangsobjekt, wenn es für jedes Objekt $Y$ der Kategorie genau einen Morphismus $X \\rightarrow Y$ gibt.\n",
        "\n",
        "2. Ein Objekt $X$ heißt Endobjekt, wenn es für jedes Objekt $Y$ der Kategorie genau einen Morphismus $Y \\rightarrow X$ gibt.\n",
        "\n",
        "3. Ein Objekt heißt Nullobjekt, wenn es gleichzeitig Anfangs- und Endobjekt ist.\n",
        "\n",
        "* in Anfangsobjekt ist ein spezieller Fall des Koprodukts, ein Endobjekt ein spezieller Fall des Produkts in Kategorien.\n",
        "\n",
        "* Je zwei Anfangsobjekte, Endobjekte und Nullobjekte sind isomorph. Ist ein Anfangsobjekt zu einem Endobjekt isomorph, dann handelt es sich um ein Nullobjekt.\n",
        "\n",
        "* Die in all diesen Fällen auftretenden Isomorphismen sind jeweils eindeutig bestimmt. Zusammenfassend bedeutet dies: Anfangs-, End- und Nullobjekte sind (sofern sie existieren) jeweils eindeutig bis auf eindeutigen Isomorphismus.\n",
        "\n",
        "* Das Anfangsobjekt ist ein Sonderfall des Koprodukts, nämlich für die leere Familie von Objekten. Das Endobjekt ist ein Sonderfall des Produkts, nämlich für die leere Familie von Objekten."
      ]
    },
    {
      "cell_type": "markdown",
      "metadata": {
        "id": "N21bN-3jtF9p"
      },
      "source": [
        "*Beispiele*"
      ]
    },
    {
      "cell_type": "markdown",
      "metadata": {
        "id": "I5JtZlzGtPPC"
      },
      "source": [
        "* In der Kategorie der Mengen ist die leere Menge das Anfangsobjekt und jede einelementige Menge ein Endobjekt. Diese Kategorie hat kein Nullobjekt.\n",
        "\n",
        "* In der Kategorie der Gruppen oder der abelschen Gruppen ist die triviale Gruppe (die nur aus dem neutralen Element besteht) Nullobjekt.\n",
        "\n",
        "* In der Kategorie der nichtleeren Halbgruppen gibt es kein Anfangsobjekt. Lässt man die leere Halbgruppe zu, so ist diese das Anfangsobjekt. In beiden Fällen ist jede einelementige Halbgruppe Endobjekt.\n",
        "\n",
        "* In der Kategorie der Vektorräume über einem Körper (oder allgemeiner der Moduln über einem Ring) ist der Nullvektorraum (bzw. der Nullmodul) Nullobjekt.\n",
        "\n",
        "* In der Kategorie der kommutativen Ringe mit Einselement ist der Ring Z der ganzen Zahlen Anfangsobjekt und der Nullring Endobjekt.\n",
        "\n",
        "* In der Kategorie beliebiger Ringe ist der Nullring Nullobjekt.\n",
        "\n",
        "* In der Kategorie der punktierten topologischen Räume sind die einpunktigen Räume Nullobjekte.\n",
        "\n",
        "* Man kann jede partielle Ordnung als Kategorie auffassen indem man festlegt, dass genau dann ein Pfeil von \n",
        "x nach y geht, wenn \n",
        "x\n",
        "≤\n",
        "y\n",
        "gilt. Ein Anfangsobjekt entspricht dann dem kleinsten Element der Ordnung (falls es existiert). Ein Endobjekt entspricht dem größten Element."
      ]
    },
    {
      "cell_type": "markdown",
      "metadata": {
        "id": "raAcLUVWnb26"
      },
      "source": [
        "https://de.m.wikipedia.org/wiki/Anfangsobjekt,_Endobjekt_und_Nullobjekt"
      ]
    },
    {
      "cell_type": "markdown",
      "metadata": {
        "id": "PI2PKFV2271a"
      },
      "source": [
        "##### **Functor**"
      ]
    },
    {
      "cell_type": "markdown",
      "metadata": {
        "id": "x4yBGQGHN6fi"
      },
      "source": [
        "**A homomorphism between categories is a functor.**"
      ]
    },
    {
      "cell_type": "markdown",
      "metadata": {
        "id": "aT7i4YeZ90wt"
      },
      "source": [
        "A functor \n",
        "F\n",
        " from a category \n",
        "C\n",
        " to a category \n",
        "D\n",
        " is a map sending each object \n",
        "x\n",
        "∈\n",
        "C\n",
        " to an object \n",
        "F\n",
        "(\n",
        "x\n",
        ")\n",
        "∈\n",
        "D\n",
        "and each morphism \n",
        "f\n",
        ":\n",
        "x\n",
        "→\n",
        "y\n",
        " in \n",
        "C\n",
        " to morphism \n",
        "F\n",
        "(\n",
        "f\n",
        ")\n",
        ":\n",
        "F\n",
        "(\n",
        "x\n",
        ")\n",
        "→\n",
        "F\n",
        "(\n",
        "y\n",
        ")\n",
        " in \n",
        "D\n",
        ", such that\n",
        "\n",
        "* F\n",
        " preserves composition: \n",
        "F\n",
        "(\n",
        "g\n",
        "∘\n",
        "f\n",
        ")\n",
        "=\n",
        "F\n",
        "(\n",
        "g\n",
        ")\n",
        "∘\n",
        "F\n",
        "(\n",
        "f\n",
        ")\n",
        " whenever the left-hand side is well-defined,\n",
        "\n",
        "* F\n",
        " preserves identity morphisms: for each object \n",
        "x\n",
        "∈\n",
        "C\n",
        ", \n",
        "F\n",
        "(\n",
        "1\n",
        "x\n",
        ")\n",
        "=\n",
        "1\n",
        "F\n",
        "(\n",
        "x\n",
        ")\n",
        "."
      ]
    },
    {
      "cell_type": "markdown",
      "metadata": {
        "id": "hHkuwKUqEbyn"
      },
      "source": [
        "Remember: one object in one category can be a whole set from the category Sets, so within this set (=object of a category), you can define morphisms within the set"
      ]
    },
    {
      "cell_type": "markdown",
      "metadata": {
        "id": "FVqo4Egq-AkR"
      },
      "source": [
        "https://ncatlab.org/nlab/show/functor"
      ]
    },
    {
      "cell_type": "markdown",
      "metadata": {
        "id": "mZt_7I_P6YQi"
      },
      "source": [
        "* strukturerhaltende Abbildung (in Analysis: Funktion) zwischen zwei Kategorien\n",
        "\n",
        "* Funktoren sind ein zentrales Grundkonzept des mathematischen Teilgebiets der Kategorientheorie. Ein Funktor ist eine strukturerhaltende Abbildung zwischen zwei Kategorien. Konkrete Funktoren haben in vielen Teilgebieten der Mathematik eine besondere Bedeutung.\n",
        "\n",
        "* Funktoren werden auch Diagramme genannt (mitunter nur in bestimmten Kontexten), da sie eine formale Abstraktion [kommutativer Diagramme](https://de.m.wikipedia.org/wiki/Kommutatives_Diagramm) darstellen."
      ]
    },
    {
      "cell_type": "markdown",
      "metadata": {
        "id": "Ut6apBYkBFvk"
      },
      "source": [
        "**Funktoren: Zuordnungen zwischen zwei Kategorien**\n",
        "\n",
        "* Kategorie besteht aus Objekten und Morphismen. Man möchte jedem Objekt in einer Kategorie ein Objekt in der anderen Kategorie zuordnen, **und das gleiche mit den Morphismen zwischen den Objekten**.\n",
        "\n",
        "* **Kovarianter Funktor**: der Morphismus zwischen Objekten in einer Menge soll identisch sein zum Morphismus zwischen den entsprechenden Objekten im Bild. Der Funktor schickt diese Objekte von einer Kategorie in eine andere, wobei die obige Eigenschaft zwischen den Morphismen zwischen den Objekten eingehalten wird.\n",
        "\n",
        "* **Kontravarianter Funktor**: da wird die Richtung einfach versteht"
      ]
    },
    {
      "cell_type": "markdown",
      "metadata": {
        "id": "VHpPmeE-9o-l"
      },
      "source": [
        "Let $C$ and $D$ be categories. A functor $F$ from $C$ to $D$ is a mapping that\n",
        "\n",
        "1. associates to each object $X$ in $C$ an object $F(X)$ in $D$,\n",
        "\n",
        "2. associates to each morphism $f: X \\rightarrow Y$ in $C$ a morphism $F(f): F(X) \\rightarrow F(Y)$ in $D$ such that the following two conditions hold:\n",
        "\n",
        "* $F(\\mathrm{id} x)=\\operatorname{id}_{F(X)}$ for every object $X$ in $\\mathrm{C}$\n",
        "* $F(g \\circ f)=F(g) \\circ F(f)$ for all morphisms $f: X \\rightarrow Y$ and $g: Y \\rightarrow Z$ in $C$\n",
        "\n",
        "That is, functors must preserve [identity morphisms](https://en.m.wikipedia.org/wiki/Morphism#Definition) and [composition of morphisms](https://en.m.wikipedia.org/wiki/Function_composition)"
      ]
    },
    {
      "cell_type": "markdown",
      "metadata": {
        "id": "86-A0BcCBMjy"
      },
      "source": [
        "Ein Funktor von einer Kategorie auf sich selbst $(F: \\mathcal{C} \\rightarrow \\mathcal{C})$ heißt Endofunktor.\n",
        "\n",
        "Ein kovarianter Funktor auf der dualen Kategorie, $F: \\mathcal{C}^{O \\mathrm{P}} \\rightarrow \\mathcal{D},$ wird als kontravarianter Funktor (oder Kofunktor) $F: \\mathcal{C} \\rightarrow \\mathcal{D}$ bezeichnet und kann als Abbildung von $\\mathcal{C}$ nach $\\mathcal{D}$ angesehen werden, indem man die Morphismen in $\\mathcal{C}$ und $\\mathcal{C}^{\\mathrm{OP}}$ miteinander identifiziert."
      ]
    },
    {
      "cell_type": "markdown",
      "metadata": {
        "id": "fJE_pk6RBtTj"
      },
      "source": [
        "**Beispiele**"
      ]
    },
    {
      "cell_type": "markdown",
      "metadata": {
        "id": "Pn6dtBk8Bvjg"
      },
      "source": [
        "* Der identische Funktor $i d: \\mathcal{C} \\rightarrow \\mathcal{C}$, der jedem Morphismus sich selbst zuordnet, ist ein kovarianter Funktor.\n",
        "\n",
        "* Ist $\\mathcal{C}$ die Kategorie der Vektorräume mit den linearen Abbildungen als Morphismen und ordnet $F: \\mathcal{C} \\rightarrow \\mathcal{C}$ jedem Vektorraum $V$ seinen Dualraum $V^{*}$ zu und jeder linearen Abbildung $f: V \\rightarrow W$ die duale Abbildung $f^{*}: W^{*} \\rightarrow V^{*} z u,$ so ist $F$ ein kontravarianter Funktor."
      ]
    },
    {
      "cell_type": "markdown",
      "metadata": {
        "id": "kIwT21wm6cks"
      },
      "source": [
        "https://de.m.wikipedia.org/wiki/Funktor_(Mathematik)"
      ]
    },
    {
      "cell_type": "markdown",
      "metadata": {
        "id": "IIAlSlRt6sSJ"
      },
      "source": [
        "https://en.m.wikipedia.org/wiki/Functor"
      ]
    },
    {
      "cell_type": "markdown",
      "metadata": {
        "id": "aIEaPwl_6n_a"
      },
      "source": [
        "https://en.m.wikipedia.org/wiki/Forgetful_functor"
      ]
    },
    {
      "cell_type": "markdown",
      "metadata": {
        "id": "dBHwL9bAmkjt"
      },
      "source": [
        "##### **Adjoint functors (Adjunktion)**"
      ]
    },
    {
      "cell_type": "markdown",
      "metadata": {
        "id": "gJjHBAT2m9la"
      },
      "source": [
        "* Isomorphie entspricht Isotopie, \n",
        "* natürliche Äquivalenz entspricht Homöomorphie und \n",
        "* Adjungiertheit entspricht Homotopie."
      ]
    },
    {
      "cell_type": "markdown",
      "metadata": {
        "id": "r8OZifPyv12I"
      },
      "source": [
        "Adjunktion ist ein Begriff aus dem mathematischen Teilgebiet der Kategorientheorie. Zwei\n",
        "Funktoren $F: \\mathcal{C} \\rightarrow \\mathcal{D}$ und $G: \\mathcal{D} \\rightarrow \\mathcal{C}$ zwischen Kategorien $\\mathcal{C}$ und $\\mathcal{D}$ heißen adjungiert, wenn sie\n",
        "eine gewisse Beziehung zwischen Morphismenmengen vermitteln. Dieser Begriff wurde von D. M.\n",
        "Kan eingeführt."
      ]
    },
    {
      "cell_type": "markdown",
      "metadata": {
        "id": "PTqqhHlZu48A"
      },
      "source": [
        "Zwei Funktoren $F: \\mathcal{C} \\rightarrow \\mathcal{D}$ und $G: \\mathcal{D} \\rightarrow \\mathcal{C}$ zwischen Kategorien $\\mathcal{C}$ und $\\mathcal{D}$ bilden ein adjungiertes\n",
        "Funktorpaar, wenn die Funktoren\n",
        "\n",
        "$\n",
        "(X, Y) \\mapsto \\operatorname{Mor}_{\\mathcal{D}}(X, F Y)\n",
        "$\n",
        "\n",
        "und\n",
        "\n",
        "$\n",
        "(X, Y) \\mapsto \\operatorname{Mor}_{\\mathcal{C}}(G X, Y)\n",
        "$\n",
        "\n",
        "von $\\mathcal{D}^{\\text {op }} \\times \\mathcal{C}$ in die Kategorie der Mengen Set natürlich äquivalent sind. (Zusammen mit den beiden Kategorien und den beiden Funktoren bildet die natürliche Äquivalenz eine Adjunktion.)\n",
        "\n",
        "$F$ heißt rechtsadjungiert zu $G, G$ heißt linksadjungiert zu $F$."
      ]
    },
    {
      "cell_type": "markdown",
      "metadata": {
        "id": "ePDJb9Q3vQ4e"
      },
      "source": [
        "*Einheit und Koeinheit der Adjunktion*"
      ]
    },
    {
      "cell_type": "markdown",
      "metadata": {
        "id": "7gk1GysyEWxc"
      },
      "source": [
        "https://de.m.wikipedia.org/wiki/Adjunktion_(Kategorientheorie)"
      ]
    },
    {
      "cell_type": "markdown",
      "metadata": {
        "id": "J9aCKzO2HdFZ"
      },
      "source": [
        "https://en.m.wikipedia.org/wiki/Adjoint_functors"
      ]
    },
    {
      "cell_type": "markdown",
      "metadata": {
        "id": "V_-MkFSbBIQo"
      },
      "source": [
        "##### **Natural Transformations**"
      ]
    },
    {
      "cell_type": "markdown",
      "metadata": {
        "id": "g3pE09gQBTi5"
      },
      "source": [
        "* Maps between functors (and functors are maps between categories)\n",
        "\n",
        "* beschreibt Beziehung zwischen zwei Funktoren (während zwei Funktoren die Beziehung zwei zwei Kategorien beschreibt, also eine Ebene tiefer)\n",
        "\n",
        "* A natural transformation provides a way of **transforming one functor into another while respecting the internal structure** (i.e., the composition of morphisms) of the categories involved. \n",
        "\n",
        "* Hence, a natural transformation can be considered to be a \"**morphism of functors**\". Indeed, this intuition can be formalized to define so-called functor categories. \n",
        "\n",
        "* Natural transformations are, **after categories and functors, one of the most fundamental notions** of category theory and consequently appear in the majority of its applications."
      ]
    },
    {
      "cell_type": "markdown",
      "metadata": {
        "id": "5iwUwVkAG49d"
      },
      "source": [
        "If $F$ and $G$ are functors between the categories $C$ and $D,$ then a natural transformation $\\eta$ from $F$ to $G$\n",
        "is a family of morphisms that satisfies two requirements:\n",
        "\n",
        "1. **The natural transformation must associate**, to every object $X$ in $C$, a morphism $\\eta_{X}: F(X) \\rightarrow G(X)$ between objects of $D .$ The morphism $\\eta_{X}$ is called the component of $\\eta$ at $X .$\n",
        "\n",
        "2. Components must be such that for every morphism $f: X \\rightarrow Y$ in $C$ we have:\n",
        "$\\eta_{Y} \\circ F(f)=G(f) \\circ \\eta_{X}$\n",
        "\n",
        "The last equation can conveniently be expressed by the **commutative diagram**"
      ]
    },
    {
      "cell_type": "markdown",
      "metadata": {
        "id": "nkbXRdmTBNdQ"
      },
      "source": [
        "https://en.m.wikipedia.org/wiki/Natural_transformation"
      ]
    },
    {
      "cell_type": "markdown",
      "metadata": {
        "id": "2SoIAK0sR_W3"
      },
      "source": [
        "**Natural tranformations are basically homotopies**"
      ]
    },
    {
      "cell_type": "markdown",
      "metadata": {
        "id": "fYRsSrwRSDBF"
      },
      "source": [
        "https://math.stackexchange.com/questions/9890/morphisms-in-the-category-of-natural-transformations/29869"
      ]
    },
    {
      "cell_type": "markdown",
      "metadata": {
        "id": "-tdzhBEuK90l"
      },
      "source": [
        "**Examples**"
      ]
    },
    {
      "cell_type": "markdown",
      "metadata": {
        "id": "5i9sUDpaK_3k"
      },
      "source": [
        "* Determinant of a matrix in linear algebra is a \"natural transformation\""
      ]
    },
    {
      "cell_type": "markdown",
      "metadata": {
        "id": "FgQp5gTymy4z"
      },
      "source": [
        "##### **Duality**"
      ]
    },
    {
      "cell_type": "markdown",
      "metadata": {
        "id": "PSj_44Cn8GvP"
      },
      "source": [
        "* duality is a correspondence between the properties of a category C and the dual properties of the opposite category C<sup>op</sup>. \n",
        "\n",
        "* Given a statement regarding the category C, by interchanging the source and target of each morphism as well as interchanging the order of composing two morphisms, a corresponding dual statement is obtained regarding the opposite category C<sup>op</sup>. \n",
        "\n",
        "* Duality, as such, is the assertion that truth is invariant under this operation on statements. In other words, if a statement is true about C, then its dual statement is true about C<sup>op</sup>. Also, if a statement is false about C, then its dual has to be false about C<sup>op</sup>.\n",
        "\n",
        "* Given a concrete category C, it is often the case that the opposite category C<sup>op</sup> per se is abstract. C<sup>op</sup> need not be a category that arises from mathematical practice. In this case, another category D is also termed to be in duality with C if D and C<sup>op</sup> are equivalent as categories.\n",
        "\n",
        "* In the case when C and its opposite C<sup>op</sup> are equivalent, such a category is self-dual."
      ]
    },
    {
      "cell_type": "markdown",
      "metadata": {
        "id": "h4GPdDdy9UuT"
      },
      "source": [
        "**Definition**"
      ]
    },
    {
      "cell_type": "markdown",
      "metadata": {
        "id": "4hIwP9SS9X7f"
      },
      "source": [
        "We define the elementary language of category theory as the two-sorted [first order language](https://en.m.wikipedia.org/wiki/First-order_logic) with objects and morphisms as distinct sorts, together with the relations of an object being the source or target of a morphism and a symbol for composing two morphisms.\n",
        "\n",
        "Let $\\sigma$ be any statement in this language. We form the dual $\\sigma$<sup>op</sup> as follows:\n",
        "\n",
        "1. Interchange each occurrence of \"source\" in $\\sigma$ with \"target\".\n",
        "2. Interchange the order of composing morphisms. That is, replace each occurrence of $g \\circ f$ with $f \\circ g$\n",
        "\n",
        "Informally, these conditions state that the dual of a statement is formed by reversing arrows and compositions.\n",
        "\n",
        "Duality is the observation that $\\sigma$ is true for some category $C$ if and only if $\\sigma$<sup>op</sup> is true for $\\mathrm{C}$<sup>op</sup>. \n"
      ]
    },
    {
      "cell_type": "markdown",
      "metadata": {
        "id": "w6aLx1N8_v3m"
      },
      "source": [
        "**Beispiele**"
      ]
    },
    {
      "cell_type": "markdown",
      "metadata": {
        "id": "lv8Ax8kH_x_E"
      },
      "source": [
        "* the property of being a monomorphism is dual to the property of being an epimorphism. Applying duality, this means that a morphism in some category C is a monomorphism if and only if the reverse morphism in the opposite category C<sup>op</sup> is an epimorphism.\n",
        "."
      ]
    },
    {
      "cell_type": "markdown",
      "metadata": {
        "id": "RNth1EUOL8tp"
      },
      "source": [
        "https://en.m.wikipedia.org/wiki/Dual_(category_theory)"
      ]
    },
    {
      "cell_type": "markdown",
      "metadata": {
        "id": "7I0Sj-e-6x6L"
      },
      "source": [
        "### **Morphismen**"
      ]
    },
    {
      "cell_type": "markdown",
      "metadata": {
        "id": "u9B6KgbpAAMR"
      },
      "source": [
        "#### **Summary**"
      ]
    },
    {
      "cell_type": "markdown",
      "metadata": {
        "id": "tCnN4xXj_30Q"
      },
      "source": [
        "![alternativer Text](https://raw.githubusercontent.com/deltorobarba/machinelearning/master/morphismen.jpg)"
      ]
    },
    {
      "cell_type": "markdown",
      "metadata": {
        "id": "rKuWVM1ZAHlK"
      },
      "source": [
        "Source: [Morphismen Übersicht](https://youtu.be/KngDroAqUT0)"
      ]
    },
    {
      "cell_type": "markdown",
      "metadata": {
        "id": "uwsmc7LDx_K-"
      },
      "source": [
        "![xxx](https://raw.githubusercontent.com/deltorobarba/machinelearning/master/morphismus2.jpg)"
      ]
    },
    {
      "cell_type": "markdown",
      "metadata": {
        "id": "otRmtiHsyVkp"
      },
      "source": [
        "Source: [Morphismen](https://youtu.be/0wKsFNLR15g)"
      ]
    },
    {
      "cell_type": "markdown",
      "metadata": {
        "id": "-x4GjB7R60YJ"
      },
      "source": [
        "* ist eine Funktion in Kategorientheorie\n",
        "\n",
        "* In der Kategorientheorie (einem Teilgebiet der Mathematik) betrachtet man sogenannte (abstrakte) Kategorien, die jeweils gegeben sind durch eine Klasse von Objekten und für je zwei Objekte X und Y eine Klasse von Morphismen von X nach Y (auch als Pfeile bezeichnet).\n",
        "\n",
        "* Man schreibt: 𝑓:𝑋→𝑌\n",
        "\n",
        "* Zu der Kategorie gehört noch eine partielle Verknüpfung der Morphismen, die bestimmte Bedingungen erfüllen muss.\n",
        "\n",
        "* Interpretiert man Mengen mit gleicher Struktur als Objekte und die Funktionen zwischen den zugrunde liegenden Mengen, die mit deren Struktur verträglich sind, als zugehörige Morphismen, so spricht man von einer konkreten Kategorie. Die Verknüpfung der Morphismen entspricht dann der gewöhnlichen Hintereinanderausführung von Funktionen.\n",
        "\n",
        "* Es gibt aber auch ganz anders gebildete konkrete Kategorien, in denen Morphismen nicht als Funktionen zwischen den Objekten auftreten, etwa die Kategorie Toph, deren Objekte topologische Räume und deren Morphismen Homotopieklassen stetiger Funktionen sind, oder die Kategorie Rel, deren Objekte Mengen und deren Morphismen Relationen sind."
      ]
    },
    {
      "cell_type": "markdown",
      "metadata": {
        "id": "mUT_FWsZ6_9G"
      },
      "source": [
        "https://de.m.wikipedia.org/wiki/Morphismus"
      ]
    },
    {
      "cell_type": "markdown",
      "metadata": {
        "id": "IRd6gnIaP5Yv"
      },
      "source": [
        "#### **Homomorphismus**"
      ]
    },
    {
      "cell_type": "markdown",
      "metadata": {
        "id": "vrvr-3x8ooDF"
      },
      "source": [
        "##### **Overview**"
      ]
    },
    {
      "cell_type": "markdown",
      "metadata": {
        "id": "Jq7dlrQquZLg"
      },
      "source": [
        "* strukturerhaltende Abbildungen (gleiche Gestalt von Original auf Bild)\n",
        "\n",
        "* Als Homomorphismus (zusammengesetzt aus altgriechisch ὁμός homós ‚gleich‘ oder ‚ähnlich‘, und altgriechisch μορφή morphé ‚Form‘; nicht zu verwechseln mit Homöomorphismus) werden in der Mathematik Abbildungen (=Funktionen) bezeichnet, die eine (oft algebraische) mathematische Struktur erhalten bzw. damit verträglich sind. \n",
        "\n",
        "* Ein Homomorphismus bildet die Elemente aus der einen Menge so in die andere Menge ab, dass sich ihre Bilder dort hinsichtlich der Struktur ebenso verhalten, wie sich deren Urbilder in der Ausgangsmenge verhalten."
      ]
    },
    {
      "cell_type": "markdown",
      "metadata": {
        "id": "eglIHPiIHjqn"
      },
      "source": [
        "* ein Homomorphismus ist strukturerhaltend, d.h. zB die originale 2D Ebene ist im neuen Vektorraum nur verschoben, oder auf eine Linie gezogen (aber mit Nullpunkt) oder sogar nur ein Punkt (alle Punkte vom Original 2D konzentrieren sich auf einen Punkt in der Abbildung\n",
        "\n",
        "* kein Homomorphismus ist eine Gruppe (zB 2D Ebene), wenn alle entsprechenden Punkte in der Abbildung in einer Dimension größer liegen, oder total verteilt sind, oder die Ebene identisch ist aber ein Loch in der Abbildung aber nicht im Original existiert."
      ]
    },
    {
      "cell_type": "markdown",
      "metadata": {
        "id": "X1RwTzZgIVMk"
      },
      "source": [
        "https://youtu.be/KK_fHodz-lQ"
      ]
    },
    {
      "cell_type": "markdown",
      "metadata": {
        "id": "jCNkozbcHgYo"
      },
      "source": [
        "Ein (Vektorraum-) Homomorphismus ist eine Abbildung $\\varphi: V \\rightarrow W$ zwischen $K$ -Vektorräumen $V$ und $W$ mit den folgenden Eigenschaften:\n",
        "\n",
        "1. $\\varphi(v+u)=\\varphi(v)+\\varphi(u)$ für alle $u$ und $v \\in V$\n",
        "\n",
        "2. $\\varphi(\\lambda \\cdot v)=\\lambda \\cdot \\varphi(v) \\quad$ für alle $\\lambda \\in K$ und $v \\in V$ (Skalarmultiplikation)"
      ]
    },
    {
      "cell_type": "markdown",
      "metadata": {
        "id": "5MfN_h3GkOjN"
      },
      "source": [
        "https://de.m.wikipedia.org/wiki/Homomorphismus"
      ]
    },
    {
      "cell_type": "markdown",
      "metadata": {
        "id": "ypY_hbb0QSPX"
      },
      "source": [
        "##### **Gruppenhomomorphismus**"
      ]
    },
    {
      "cell_type": "markdown",
      "metadata": {
        "id": "xnUDHhWr-XCF"
      },
      "source": [
        "Gegeben seien zwei Gruppen $(G, *)$ und $(H, \\star) .$ Eine Funktion $\\phi: G \\rightarrow H$ heißt Gruppenhomomorphismus, wenn für alle Elemente $g_{1}, g_{2} \\in G$ gilt:\n",
        "\n",
        "> $\\phi\\left(g_{1} * g_{2}\\right)=\\phi\\left(g_{1}\\right) \\star \\phi\\left(g_{2}\\right)$\n",
        "\n",
        "Aus dieser Bedingung folgt unmittelbar, dass\n",
        "\n",
        "> $\\phi\\left(e_{G}\\right)=e_{H}$\n",
        "\n",
        "für die neutralen Elemente $e_{G} \\in G, e_{H} \\in H$ und dann\n",
        "\n",
        "> $\\phi\\left(g^{-1}\\right)=\\phi(g)^{-1}$\n",
        "\n",
        "für alle $g \\in G$ gelten muss sowie, mittels vollständiger Induktion, dass $\\phi\\left(g_{1} * \\ldots * g_{n}\\right)=\\phi\\left(g_{1}\\right) \\star \\ldots \\star \\phi\\left(g_{n}\\right)$ für eine beliebige endliche Anzahl von Faktoren gilt."
      ]
    },
    {
      "cell_type": "markdown",
      "metadata": {
        "id": "4Lpj_kMm_Ngc"
      },
      "source": [
        "**Beispiel**"
      ]
    },
    {
      "cell_type": "markdown",
      "metadata": {
        "id": "BvzLRIz6_Po4"
      },
      "source": [
        "* **Gegeben** seien zwei Gruppen: G reelle Zahlen mit Addition (R, +) und H reelle Zahlen mit Multiplikation (R, *). Neutrales Element in G ist Null, und in H ist 1.\n",
        "\n",
        "* **Aufgabe**: prüfen ob ein Homomorphismus zwischen diesen algebraischen Gruppen besteht\n",
        "\n",
        "* **Funktion / Abbildung zum Testen**: f (x) = e <sup>x</sup> bzw. f : x -> e <sup>x</sup>\n",
        "\n",
        "**Test** \n",
        "\n",
        "* Kriterium: $\\phi\\left(n_{G}\\right)=n_{H}$ (n steht für neutrales Element, man kann auch e schreiben)\n",
        "\n",
        "* Proof: e<sup>0</sup> (die Funktion 𝜙 = e hoch dem neutralen Element der ersten Gruppe) = 1 (neutrales Element der zweiten Gruppe)"
      ]
    },
    {
      "cell_type": "markdown",
      "metadata": {
        "id": "_UEBw5Z0ogl3"
      },
      "source": [
        "https://de.m.wikipedia.org/wiki/Gruppenhomomorphismus"
      ]
    },
    {
      "cell_type": "markdown",
      "metadata": {
        "id": "quHXje_VQWHH"
      },
      "source": [
        "##### **Körperhomomorphismus**"
      ]
    },
    {
      "cell_type": "markdown",
      "metadata": {
        "id": "fKXlGe0DEXeS"
      },
      "source": [
        "Seien $\\left(K ;+K ; *_{K}\\right)$ und $\\left(L ;+_{L} ; *_{L}\\right)$ zwei Körper.\n",
        "\n",
        "Eine Funktion $f: K \\rightarrow L$ heißt Körperhomomorphismus, falls sie folgende Axiome erfüllen:\n",
        "\n",
        "1. $f\\left(0_{K}\\right)=0_{L}$ sowie $f\\left(1_{K}\\right)=1_{L}$\n",
        "\n",
        "2. $\\forall a ; b \\in K: f(a+\\kappa b)=f(a)+_{L} f(b)$\n",
        "\n",
        "3. $\\forall a ; b \\in K: f\\left(a *_{K} b\\right)=f(a) *_{L} f(b)$"
      ]
    },
    {
      "cell_type": "markdown",
      "metadata": {
        "id": "76R5eWlAD5tL"
      },
      "source": [
        "https://de.m.wikipedia.org/wiki/Körperhomomorphismus"
      ]
    },
    {
      "cell_type": "markdown",
      "metadata": {
        "id": "IFXyqXaLQQQw"
      },
      "source": [
        "##### **Ringhomomorphismus**"
      ]
    },
    {
      "cell_type": "markdown",
      "metadata": {
        "id": "WY71AyVvlbsL"
      },
      "source": [
        "Gegeben seien zwei Ringe $(R,+, \\cdot)$ und $(S, \\oplus, \\otimes)$. Eine Funktion $\\varphi: R \\rightarrow S$ heißt Ringhomomorphismus, wenn für alle Elemente $a, b$ von $R$ gilt:\n",
        "\n",
        "$$\n",
        "\\varphi(a+b)=\\varphi(a) \\oplus \\varphi(b) \\text { und } \\varphi(a \\cdot b)=\\varphi(a) \\otimes \\varphi(b)\n",
        "$$\n",
        "\n",
        "Die Gleichung besagt, dass der Homomorphismus strukturerhaltend ist: Es ist egal, ob man erst zwei Elemente verknüpft, und das Ergebnis abbildet, oder erst die zwei Elemente abbildet, und dann\n",
        "die Bilder verknüpft."
      ]
    },
    {
      "cell_type": "markdown",
      "metadata": {
        "id": "5FQ6_W7HlIEl"
      },
      "source": [
        "https://de.m.wikipedia.org/wiki/Ringhomomorphismus"
      ]
    },
    {
      "cell_type": "markdown",
      "metadata": {
        "id": "6qCyNILtQke3"
      },
      "source": [
        "##### **Algebrenhomomorphismus**"
      ]
    },
    {
      "cell_type": "markdown",
      "metadata": {
        "id": "1R1Rxx85nwHq"
      },
      "source": [
        "Eine Abbildung $f: A \\rightarrow B$ zwischen zwei $K$ -Algebren ist ein Homomorphismus, falls folgendes gilt:\n",
        "\n",
        "* $(\\lambda x)=\\lambda f(x)$ für alle $\\lambda \\in K, x \\in A$\n",
        "\n",
        "* $f(x+y)=f(x)+f(y)$ für alle $x, y \\in A$\n",
        "\n",
        "* $(x \\cdot y)=f(x) \\cdot f(y)$ für alle $x, y \\in A$\n",
        "\n",
        "* Gegebenenfalls $f(1)=1$, wobei mit 1 die Einselemente in den Algebren bezeichnet seien."
      ]
    },
    {
      "cell_type": "markdown",
      "metadata": {
        "id": "dBkWP9hNnbDI"
      },
      "source": [
        "https://de.m.wikipedia.org/wiki/Algebra_über_einem_Körper#Algebrenhomomorphismen"
      ]
    },
    {
      "cell_type": "markdown",
      "metadata": {
        "id": "k5pob0z5Qrk3"
      },
      "source": [
        "##### **Vektorraumhomomorphismus (Lineare Abbildung)**"
      ]
    },
    {
      "cell_type": "markdown",
      "metadata": {
        "id": "YF_VVnMsq1Qj"
      },
      "source": [
        "Seien $V$ und $W$ Vektorräume über einem gemeinsamen Grundkörper $K .$ Eine Abbildung $f: V \\rightarrow W$ heißt lineare Abbildung, wenn für alle $x, y \\in V$ und $a \\in K$ die folgenden Bedingungen\n",
        "gelten:\n",
        "\n",
        "* $\\boldsymbol{f}$ ist homogen (**Homogenität**):\n",
        "\n",
        "> $\n",
        "f(a x)=a f(x)\n",
        "$\n",
        "\n",
        "* $\\boldsymbol{f}$ ist additiv (**Additivität**):\n",
        "\n",
        "> $\n",
        "f(x+y)=f(x)+f(y)\n",
        "$\n",
        "\n",
        "Die zwei obigen Bedingungen kann man auch zusammenfassen:\n",
        "\n",
        "> $\n",
        "f(a x+y)=a f(x)+f(y)\n",
        "$\n",
        "\n",
        "Für $y=0_{V}$ geht diese in die Bedingung für die Homogenität und für $a=1_{K}$ in diejenige für die Additivität über. Eine weitere, gleichwertige Bedingung ist die Forderung, dass der Graph der Abbildung $f$ ein Untervektorraum der Summe der Vektorräume $V$ und $W$ ist."
      ]
    },
    {
      "cell_type": "markdown",
      "metadata": {
        "id": "eovWfQe3pBQN"
      },
      "source": [
        "* Lineare Abbildung: homogene und additive Abbildung\n",
        "\n",
        "* Eine lineare Abbildung (auch lineare Transformation oder Vektorraumhomomorphismus genannt) ist in der linearen Algebra ein wichtiger Typ von Abbildung zwischen zwei Vektorräumen über demselben Körper. \n",
        "\n",
        "* Bei einer linearen Abbildung ist es unerheblich, ob man zwei Vektoren zuerst addiert und dann deren Summe abbildet oder zuerst die Vektoren abbildet und dann die Summe der Bilder bildet. Gleiches gilt für die Multiplikation mit einem Skalar aus dem Grundkörper."
      ]
    },
    {
      "cell_type": "markdown",
      "metadata": {
        "id": "p_75qVqkpwzD"
      },
      "source": [
        "![xyz](https://upload.wikimedia.org/wikipedia/commons/thumb/3/33/Reflection_of_a_triangle_about_the_y_axis.svg/320px-Reflection_of_a_triangle_about_the_y_axis.svg.png)"
      ]
    },
    {
      "cell_type": "markdown",
      "metadata": {
        "id": "h6-PQJIIp_NL"
      },
      "source": [
        "*Achsenspiegelung als Beispiel einer linearen Abbildung*"
      ]
    },
    {
      "cell_type": "markdown",
      "metadata": {
        "id": "tOgfgrz8psEB"
      },
      "source": [
        "* Das abgebildete Beispiel einer Spiegelung an der Y-Achse verdeutlicht dies. Der Vektor $c$ ist die Summe der Vektoren $a$ und $b$ und sein Bild ist der Vektor $c^{\\prime} .$ Man erhält $c^{\\prime}$ aber auch, wenn man die Bilder $a^{\\prime}$ und $b^{\\prime}$ der Vektoren $a$ und $b$ addiert.\n",
        "\n",
        "* Man sagt dann, dass eine lineare Abbildung mit den Verknüpfungen Vektoraddition und skalarer\n",
        "Multiplikation verträglich ist. Es handelt sich somit bei der linearen Abbildung um einen\n",
        "Homomorphismus (strukturerhaltende Abbildung) zwischen Vektorräumen."
      ]
    },
    {
      "cell_type": "markdown",
      "metadata": {
        "id": "WOPz-c8iuDa5"
      },
      "source": [
        "![xxx](https://upload.wikimedia.org/wikipedia/commons/thumb/a/a6/Compatibility_of_linear_map_with_addition_1.svg/640px-Compatibility_of_linear_map_with_addition_1.svg.png)"
      ]
    },
    {
      "cell_type": "markdown",
      "metadata": {
        "id": "cW32LF3luQmE"
      },
      "source": [
        "*Visualisierung der Verträglichkeit mit der Vektoraddition: Jedes durch $v_{1}$, $v_{2}$ und $v_{3}=v_{1}+v_{2}$ gegebene Additions dreieck bleibt durch die lineare Abbildung $f$ erhalten. Auch $f\\left(v_{1}\\right), f\\left(v_{2}\\right)$ und $f\\left(v_{1}+v_{2}\\right)$ bildet ein Additionsdreieck und es gilt $f\\left(v_{1}+v_{2}\\right)=f\\left(v_{1}\\right)+f\\left(v_{2}\\right)$*"
      ]
    },
    {
      "cell_type": "markdown",
      "metadata": {
        "id": "An-atfdpuWr6"
      },
      "source": [
        "![xxx](https://upload.wikimedia.org/wikipedia/commons/thumb/4/4e/Compatibility_of_linear_map_with_addition_2.svg/640px-Compatibility_of_linear_map_with_addition_2.svg.png)"
      ]
    },
    {
      "cell_type": "markdown",
      "metadata": {
        "id": "7e9iDwKduhT-"
      },
      "source": [
        "*Bei Abbildungen, die sich nicht mit der Addition vertragen, gibt es Vektoren $v_{1}, v_{2}$ und $v_{3}=v_{1}+v_{2},$ sodass $f\\left(v_{1}\\right), f\\left(v_{2}\\right)$ und $f\\left(v_{1}+v_{2}\\right)$ kein Additionsdreieck bilden, weil $f\\left(v_{1}+v_{2}\\right) \\neq f\\left(v_{1}\\right)+f\\left(v_{2}\\right)$ ist. Eine solche Abbildung ist nicht linear.*"
      ]
    },
    {
      "cell_type": "markdown",
      "metadata": {
        "id": "M_HrnzymuzzS"
      },
      "source": [
        "**Beispiele für Vektorraumhomomorphismus**\n",
        "\n",
        "* Für $V=W=\\mathbb{R}$ hat jede lineare Abbildung die Gestalt $f(x)=m x$ mit $m \\in \\mathbb{R}$\n",
        "\n",
        "* Es sei $V=\\mathbb{R}^{n}$ und $W=\\mathbb{R}^{m}$. Dann wird für jede $m \\times n$ -Matrix $A$ mit Hilfe der Matrizenmultiplikation eine lineare Abbildung $f: \\mathbb{R}^{n} \\rightarrow \\mathbb{R}^{m}$ durch\n",
        "\n",
        "$f(x)=A x=\\left(\\begin{array}{ccc}a_{11} & \\cdots & a_{1 n} \\\\ \\vdots & & \\vdots \\\\ a_{m 1} & \\cdots & a_{m n}\\end{array}\\right)\\left(\\begin{array}{c}x_{1} \\\\ \\vdots \\\\ x_{n}\\end{array}\\right)$\n",
        "definiert. \n",
        "\n",
        "Jede lineare Abbildung von $\\mathbb{R}^{n}$ nach $\\mathbb{R}^{m}$ kann so dargestellt werden."
      ]
    },
    {
      "cell_type": "markdown",
      "metadata": {
        "id": "sTIBq-jaqJnb"
      },
      "source": [
        "**Vektorraumhomomorphismus in der Funktionalanalyse**\n",
        "\n",
        "* In der Funktionalanalysis, bei der Betrachtung unendlichdimensionaler Vektorräume, die eine Topologie tragen, spricht man meist von linearen Operatoren statt von linearen Abbildungen. \n",
        "\n",
        "* Formal gesehen sind die Begriffe gleichbedeutend. Bei unendlichdimensionalen Vektorräumen ist jedoch die Frage der Stetigkeit bedeutsam, während Stetigkeit immer vorliegt bei linearen Abbildungen zwischen endlichdimensionalen reellen Vektorräumen (jeweils mit der euklidischen Norm) oder allgemeiner zwischen endlichdimensionalen [hausdorffschen](https://de.m.wikipedia.org/wiki/Hausdorff-Raum) [topologischen Vektorräumen.](https://de.m.wikipedia.org/wiki/Topologischer_Vektorraum)"
      ]
    },
    {
      "cell_type": "markdown",
      "metadata": {
        "id": "5Nlu00vko2v9"
      },
      "source": [
        "https://de.m.wikipedia.org/wiki/Lineare_Abbildung"
      ]
    },
    {
      "cell_type": "markdown",
      "metadata": {
        "id": "QPpM4ns_Qgke"
      },
      "source": [
        "##### **Modulhomomorphismus**"
      ]
    },
    {
      "cell_type": "markdown",
      "metadata": {
        "id": "3HFYjRz6wJC2"
      },
      "source": [
        "* Ersetzt man in der Definition der linearen Abbildung zwischen Vektorräumen den Körper durch einen Ring, erhält man einen Modulhomomorphismus. Der Ring braucht nicht kommutativ zu sein."
      ]
    },
    {
      "cell_type": "markdown",
      "metadata": {
        "id": "zy7dUfigwexj"
      },
      "source": [
        "Es seien zwei Rechtsmoduln $M, N$ über einem Ring $R$ gegeben. Eine Abbildung $f: M \\rightarrow N$ heißt Homomorphismus von $M$ nach $N$, wenn für alle $m_{1}, m_{2} \\in M$ und alle $r \\in R$ gilt:\n",
        "\n",
        "> $\n",
        "f\\left(m_{1}+m_{2}\\right)=f\\left(m_{1}\\right)+f\\left(m_{2}\\right) \\text { und } f\\left(m_{1} \\cdot r\\right)=f\\left(m_{1}\\right) \\cdot r\n",
        "$"
      ]
    },
    {
      "cell_type": "markdown",
      "metadata": {
        "id": "MANsKCUYozN5"
      },
      "source": [
        "https://de.m.wikipedia.org/wiki/Modulhomomorphismus"
      ]
    },
    {
      "cell_type": "markdown",
      "metadata": {
        "id": "s2PvBbtlRBfm"
      },
      "source": [
        "##### **Lie-Algebren-Homomorphismus**"
      ]
    },
    {
      "cell_type": "markdown",
      "metadata": {
        "id": "E_r-ToqU0H4a"
      },
      "source": [
        "#### **Endomorphismus**"
      ]
    },
    {
      "cell_type": "markdown",
      "metadata": {
        "id": "8H7Ywty_D3VV"
      },
      "source": [
        "* **Endomorphismus : Definitionsmenge = Zielmenge** (zB lineare Abbildung auf sich selbst). Die Bildmenge muss aber nicht der ganze Vektorraum sein (d.h. Ziele können weniger sein als Usprünge innerhalb einer Menge). Beispiel: lineare Funktionen von reellen Zahlen in die reellen Zahlen.\n",
        "\n",
        "* In der universellen Algebra ist ein Endomorphismus ein Homomorphismus $f: A \\rightarrow A$ einer mathematischen Struktur $A$ in sich selbst. \n",
        "\n",
        "* Ist $f$ zusätzlich ein Isomorphismus, wird er auch Automorphismus genannt.\n",
        "\n",
        "* In der Kategorientheorie heißt jeder Morphismus, dessen Quelle und Ziel übereinstimmen, ein Endomorphismus des fraglichen Objektes\n",
        "\n",
        "* Die Gesamtheit der Endomorphismen eines Objektes $A$ wird mit End $(A)$ bezeichnet und bildet stets ein Monoid (das Endomorphismenmonoid oder die Endomorphismenhalbgruppe), in additiven Kategorien sogar einen (unitären) Ring.\n"
      ]
    },
    {
      "cell_type": "markdown",
      "metadata": {
        "id": "ekAvH_5qFSI0"
      },
      "source": [
        "**Algebraische Strukturen**"
      ]
    },
    {
      "cell_type": "markdown",
      "metadata": {
        "id": "dwWAzuVqFXu4"
      },
      "source": [
        "Sei $\\left(A,\\left(f_{i}\\right)\\right)$ eine algebraische Struktur, also eine nichtleere Menge $A$ zusammen mit einer endlichen Anzahl an Verknüpfungen $f_{i}$ mit entsprechenden Stelligkeiten $\\sigma_{i} .$ **Eine solche algebraische Struktur könnte beispielsweise ein Vektorraum $(A,(+, \\cdot)),$ eine Gruppe $(A, *)$ oder ein Ring $(A,(+, *))$ sein**. Dann versteht man in der Algebra unter einem Endomorphismus $\\phi: A \\rightarrow A$ eine Abbildung der Menge $A$ auf sich selbst, die ein Homomorphismus ist, das heißt, es gilt\n",
        "\n",
        "$\n",
        "\\phi\\left(f_{i}\\left(a_{1}, \\ldots, a_{\\sigma_{i}}\\right)\\right)=f_{i}\\left(\\phi\\left(a_{1}\\right), \\ldots, \\phi\\left(a_{\\sigma_{i}}\\right)\\right)\n",
        "$\n",
        "\n",
        "für alle $i$ und alle $a_{1}, \\ldots, a_{\\sigma_{i}} \\in A$"
      ]
    },
    {
      "cell_type": "markdown",
      "metadata": {
        "id": "tolOgpYJFnko"
      },
      "source": [
        "**Kategorientheorie**"
      ]
    },
    {
      "cell_type": "markdown",
      "metadata": {
        "id": "3Fw1LGDMFx-E"
      },
      "source": [
        "Sei $X$ ein Objekt einer Kategorie. Ein Morphismus $f: X \\rightarrow X$, der auf einem Objekt $X$ operiert, heißt Endomorphismus.\n",
        "\n",
        "Für Kategorien von Homomorphismen zwischen algebraischen Strukturen ist die Definition äquivalent zu der im vorherigen Abschnitt."
      ]
    },
    {
      "cell_type": "markdown",
      "metadata": {
        "id": "Q-QqbBc4KtGu"
      },
      "source": [
        "https://de.m.wikipedia.org/wiki/Endomorphismus"
      ]
    },
    {
      "cell_type": "markdown",
      "metadata": {
        "id": "98qpJfBQK2qu"
      },
      "source": [
        "https://de.m.wikipedia.org/wiki/Automorphismus"
      ]
    },
    {
      "cell_type": "markdown",
      "metadata": {
        "id": "Mny8a5t4-wOE"
      },
      "source": [
        "#### **Monomorphismus**"
      ]
    },
    {
      "cell_type": "markdown",
      "metadata": {
        "id": "dsPbGNdovJDR"
      },
      "source": [
        "* wenn eine Abbildung injektiv ist (jedes Element des Usprungs hat ein exklusives Element in der Zielmenge das nicht mit anderen geteilt wird, und nicht alle Elemente in der Zielmenge haben eine Faser im Usprungsbild)\n",
        "\n",
        "* Gegenteil ist Epimorphismus (Abbildungs ist surjektiv)"
      ]
    },
    {
      "cell_type": "markdown",
      "metadata": {
        "id": "4x8yPcRVKx8U"
      },
      "source": [
        "https://de.m.wikipedia.org/wiki/Monomorphismus"
      ]
    },
    {
      "cell_type": "markdown",
      "metadata": {
        "id": "PmM2fIh3-rfG"
      },
      "source": [
        "#### **Epimorphismus**"
      ]
    },
    {
      "cell_type": "markdown",
      "metadata": {
        "id": "ueXKkkkcvrNW"
      },
      "source": [
        "* Abbildung ist surjektiv (die Bildmenge ist die komplette Zielmenge, dh jedes Element im Ziel ist mind 1 mal getroffen\n",
        "\n",
        "* Gegenteil von Monomorphismus"
      ]
    },
    {
      "cell_type": "markdown",
      "metadata": {
        "id": "tw7_nIcxK8hI"
      },
      "source": [
        "https://de.m.wikipedia.org/wiki/Epimorphismus"
      ]
    },
    {
      "cell_type": "markdown",
      "metadata": {
        "id": "C8MxT7kh0K_V"
      },
      "source": [
        "#### **Isomorphismus**"
      ]
    },
    {
      "cell_type": "markdown",
      "metadata": {
        "id": "wSCCYbc9BpgA"
      },
      "source": [
        "##### **Overview**"
      ]
    },
    {
      "cell_type": "markdown",
      "metadata": {
        "id": "sh67DIapwCIg"
      },
      "source": [
        "* Abbildung ist bijektiv (injektiv und surjektiv gleichzeitig)\n",
        "\n",
        "* ein Isomorphismus ist damit gleichzeit auch ein Epi- und Monomorphismus"
      ]
    },
    {
      "cell_type": "markdown",
      "metadata": {
        "id": "w10AMUu-AT3A"
      },
      "source": [
        "![xx](https://raw.githubusercontent.com/deltorobarba/machinelearning/master/isomorphismus.JPG)"
      ]
    },
    {
      "cell_type": "markdown",
      "metadata": {
        "id": "wp5JI4Ft4VDr"
      },
      "source": [
        "**In der universellen Algebra**"
      ]
    },
    {
      "cell_type": "markdown",
      "metadata": {
        "id": "q_nd7gb00Ona"
      },
      "source": [
        "* ist ein bijektiver Homomorphismus\n",
        "\n",
        "* eine Abbildung zwischen zwei mathematischen Strukturen, durch die Teile einer Struktur auf bedeutungsgleiche Teile einer anderen Struktur umkehrbar eindeutig (bijektiv) abgebildet werden.\n",
        "\n",
        "* siehe auch [Bijektive Funktion](https://de.m.wikipedia.org/wiki/Bijektive_Funktion) - eigene Namen wie Isomorphismus, Diffeomorphismus, Homöomorphismus, Spiegelung oder Ähnliches. Hier sind dann in der Regel noch zusätzliche Forderungen in Hinblick auf die Erhaltung der jeweils betrachteten Struktur zu erfüllen.\n",
        "\n",
        "In der universellen Algebra heißt eine Funktion φ ([phi](https://de.m.wikipedia.org/wiki/Phi)) zwischen zwei algebraischen Strukturen (zum Beispiel Gruppen, Ringen, Körpern oder Vektorräumen) ein Isomorphismus, wenn:\n",
        "\n",
        "* $\\varphi$ bijektiv ist,\n",
        "\n",
        "* $\\varphi$ ein Homomorphismus ist.\n",
        "\n",
        "Isomorphe Strukturen sind in gewisser Weise „das gleiche“, nämlich dann, wenn man von der Darstellung der Elemente der zugrundeliegenden Mengen und den Namen der Relationen und Verknüpfungen absieht."
      ]
    },
    {
      "cell_type": "markdown",
      "metadata": {
        "id": "sJDvkS_BTWTn"
      },
      "source": [
        "* Gibt es einen Isomorphismus zwischen zwei algebraischen Strukturen, dann heißen die beiden Strukturen zueinander isomorph. Isomorphe Strukturen sind in gewisser Weise „das gleiche“, nämlich dann, wenn man von der Darstellung der Elemente der zugrundeliegenden Mengen und den Namen der Relationen und Verknüpfungen absieht.\n",
        "\n",
        "* Die Aussage ${ }_{n} X$ und $Y$ sind isomorph\" wird üblicherweise durch $\\simeq$ oder durch $X \\cong Y$ notiert.\n",
        "\n",
        "* Ist $\\varphi$ ein bijektiver Homomorphismus zwischen zwei algebraischen Strukturen, dann ist immer auch $\\varphi^{-1}$ ein bijektiver Homomorphismus."
      ]
    },
    {
      "cell_type": "markdown",
      "metadata": {
        "id": "T0gDL3Hz4X6e"
      },
      "source": [
        "**In der Kategorientheorie**"
      ]
    },
    {
      "cell_type": "markdown",
      "metadata": {
        "id": "S6RtRWI_10iv"
      },
      "source": [
        "* Der oben in der universellen Algebra definierte Isomorphismus ist ein Spezialfall des in der Kategorientheorie definierten Isomorphismus: In der Kategorientheorie definiert man einen Isomorphismus allgemein als einen Morphismus f : X → Y, der ein beidseitiges Inverses f<sup>-1</sup> : Y → X besitzt: f ∘ f<sup>-1</sup> = id <sub>Y</sub> und f<sup>-1</sup> ∘ f = id <sub>X</sub>.\n",
        "\n",
        "* Weitere Spezialfälle dieses Isomorphiebegriffes sind beispielsweise [Homöomorphismen](https://de.m.wikipedia.org/wiki/Homöomorphismus) als Isomorphismen in der Kategorie der topologischen Räume und stetige Abbildungen oder [Homotopieäquivalenzen](https://de.m.wikipedia.org/wiki/Homotopie#Homotopieäquivalenz) als Isomorphismen in der Kategorie der topologischen Räume mit den [Homotopieklassen](https://de.m.wikipedia.org/wiki/Homotopie) von Abbildungen als Morphismen.\n",
        "\n",
        "* In der Kategorientheorie ist von entscheidender Bedeutung, dass die Eigenschaft Isomorphismus unter jedem Funktor erhalten bleibt, d. $\\mathrm{h}$. ist $f: X \\rightarrow Y$ ein Isomorphismus in einer Kategorie $C$ und $F: C \\rightarrow D$ ein Funktor, dann ist $F(f): F(X) \\rightarrow F(Y)$ ebenfalls ein Isomorphismus, in der Kategorie $D$. \n",
        "\n",
        "* In der algebraischen Topologie wird diese Eigenschaft häufig festgestellt, um Räume in Relation bringen zu können: sind beispielsweise die Fundamentalgruppen zweier Räume isomorph, so sind die Räume homöomorph."
      ]
    },
    {
      "cell_type": "markdown",
      "metadata": {
        "id": "Zvn1CCA80RT2"
      },
      "source": [
        "https://de.m.wikipedia.org/wiki/Isomorphismus"
      ]
    },
    {
      "cell_type": "markdown",
      "metadata": {
        "id": "JLMn2lws52Su"
      },
      "source": [
        "**Sonderfall: Homöomorphismus**"
      ]
    },
    {
      "cell_type": "markdown",
      "metadata": {
        "id": "eBG_pS8655o1"
      },
      "source": [
        "* In der algebraischen Topologie wird die Eigenschaft des Isomorphismus häufig festgestellt, um Räume in Relation bringen zu können: **Sind (beispielsweise) die [Fundamentalgruppen](https://de.m.wikipedia.org/wiki/Fundamentalgruppe) zweier Räume isomorph, so sind die Räume homöomorph.**\n",
        "\n",
        "* Homöomorphismus ist eine umkehrbare Abbildung zwischen zwei topologischen Räumen"
      ]
    },
    {
      "cell_type": "markdown",
      "metadata": {
        "id": "HK1PwhI-57sy"
      },
      "source": [
        "https://de.m.wikipedia.org/wiki/Homöomorphismus"
      ]
    },
    {
      "cell_type": "markdown",
      "metadata": {
        "id": "NBeTqOWvBtBg"
      },
      "source": [
        "##### **Beispiele**"
      ]
    },
    {
      "cell_type": "markdown",
      "metadata": {
        "id": "_RIuKIu3Bxhy"
      },
      "source": [
        "**Gruppenisomorphismus**\n",
        "\n",
        "Sind die Strukturen Gruppen, dann heißt ein solcher Isomorphismus Gruppenisomorphismus. Meist meint man mit Isomorphismen solche zwischen algebraischen Strukturen wie Gruppen, Ringen, Körpern oder Vektorräumen."
      ]
    },
    {
      "cell_type": "markdown",
      "metadata": {
        "id": "UaP1GEvrB5Zd"
      },
      "source": [
        "**Isometrischer Isomorphismus**"
      ]
    },
    {
      "cell_type": "markdown",
      "metadata": {
        "id": "eLCPM1LGB-jb"
      },
      "source": [
        "**Ordnungsisomorphismus**"
      ]
    },
    {
      "cell_type": "markdown",
      "metadata": {
        "id": "pacCQAp--ldC"
      },
      "source": [
        "#### **Automorphismus**"
      ]
    },
    {
      "cell_type": "markdown",
      "metadata": {
        "id": "XTzQJlUNwjkP"
      },
      "source": [
        "* Sonderart des Isomomorphismus und Endomorphismus und speziellester Morphismus den es gibt\n",
        "\n",
        "* Ist wie Endomorphismus dass Definitionsmenge = Zielmenge ist, aber im Unterschied dazu noch bijektiv (alle Elemente sind 1:1 miteinander verknüpft)"
      ]
    },
    {
      "cell_type": "markdown",
      "metadata": {
        "id": "IPlwPUfSMCiu"
      },
      "source": [
        "### **Higher Category Theory**"
      ]
    },
    {
      "cell_type": "markdown",
      "metadata": {
        "id": "D-FhLzO4l5ww"
      },
      "source": [
        "**Motivation**\n",
        "\n",
        "0) A category is a collection of objects and morphisms between those objects that satisfy some rules.\n",
        "\n",
        "1) A functor is a morphism in the category of categories.\n",
        "\n",
        "2) A natural transformation is a morphism in the category of functors.\n",
        "\n",
        "But they all stop right there. What about:\n",
        "\n",
        "3) the morphisms in the category of natural transformations?\n",
        "\n",
        "4) Or the \"morphisms in the category of the morphisms in the category of natural transformations\""
      ]
    },
    {
      "cell_type": "markdown",
      "metadata": {
        "id": "zRG-6235l9Nd"
      },
      "source": [
        "**Definition**"
      ]
    },
    {
      "cell_type": "markdown",
      "metadata": {
        "id": "5ozuOxvjOpiu"
      },
      "source": [
        "* higher category theory is the part of category theory at a higher order, which means that some equalities are replaced by explicit arrows in order to be able to explicitly study the structure behind those equalities. \n",
        "\n",
        "* Higher category theory is often applied in algebraic topology (especially in homotopy theory), where one studies algebraic invariants of spaces, such as their fundamental weak ∞-groupoid."
      ]
    },
    {
      "cell_type": "markdown",
      "metadata": {
        "id": "fhMIqZ1GOjnU"
      },
      "source": [
        "https://en.m.wikipedia.org/wiki/Higher_category_theory"
      ]
    },
    {
      "cell_type": "markdown",
      "metadata": {
        "id": "DNLmUp4BMFrb"
      },
      "source": [
        "https://ncatlab.org/nlab/show/higher+category+theory"
      ]
    },
    {
      "cell_type": "markdown",
      "metadata": {
        "id": "2-GapRimmNDj"
      },
      "source": [
        "**From 2-category to Higher Order Category**"
      ]
    },
    {
      "cell_type": "markdown",
      "metadata": {
        "id": "c01H3a09mSyp"
      },
      "source": [
        "* The concept of 2-category generalizes further in higher category theory to n-categories, which have k-morphisms for all \n",
        "k\n",
        "≤\n",
        "n\n",
        ".\n",
        "\n",
        "* The morphisms can be composed along the objects, while the 2-morphisms can be composed in two different directions: along objects – called horizontal composition – and along morphisms – called vertical composition. The composition of morphisms is allowed to be associative only up to coherent associator 2-morphisms.\n",
        "\n",
        "Allowed operations:\n",
        "\n",
        "* [Dot Operation](https://de.m.wikipedia.org/wiki/Produkt_(Mathematik)#Funktionenringe) • between two morphismens\n",
        "\n",
        "* [Composition operation](https://de.m.wikipedia.org/wiki/Komposition_(Mathematik)) $\\circ$ between two morphisms (like: g $\\circ$ f means: g after f, or g composed f)"
      ]
    },
    {
      "cell_type": "markdown",
      "metadata": {
        "id": "7J6dknT8wv0b"
      },
      "source": [
        "https://ncatlab.org/nlab/show/horizontal+composition"
      ]
    },
    {
      "cell_type": "markdown",
      "metadata": {
        "id": "O5wTJeaBws_r"
      },
      "source": [
        "Cat is a name for the category or 2-category of all categories.\n",
        "\n",
        "This is also the archetypical 2-topos."
      ]
    },
    {
      "cell_type": "markdown",
      "metadata": {
        "id": "efS69T7TmH7-"
      },
      "source": [
        "https://ncatlab.org/nlab/show/2-category"
      ]
    },
    {
      "cell_type": "markdown",
      "metadata": {
        "id": "XajKu3aAxQBg"
      },
      "source": [
        "**∞-groupoid**"
      ]
    },
    {
      "cell_type": "markdown",
      "metadata": {
        "id": "FS4JGAM4xdGQ"
      },
      "source": [
        "* an ∞-groupoid is an abstract homotopical model for topological spaces. One model uses Kan complexes which are fibrant objects in the category of simplicial sets (with the standard model structure).\n",
        "\n",
        "* It is an ∞-category generalization of a groupoid, a category in which every morphism is an isomorphism.\n",
        "\n",
        "* The homotopy hypothesis states that ∞-groupoids are spaces."
      ]
    },
    {
      "cell_type": "markdown",
      "metadata": {
        "id": "1JP71umRxrHg"
      },
      "source": [
        "* The notion of ∞-groupoid is the generalization of that of group and groupoids to higher category theory"
      ]
    },
    {
      "cell_type": "markdown",
      "metadata": {
        "id": "q8mrEF-qxSMi"
      },
      "source": [
        "https://en.m.wikipedia.org/wiki/∞-groupoid"
      ]
    },
    {
      "cell_type": "markdown",
      "metadata": {
        "id": "CbJLVvvsxT9Y"
      },
      "source": [
        "https://ncatlab.org/nlab/show/infinity-groupoid"
      ]
    },
    {
      "cell_type": "markdown",
      "metadata": {
        "id": "_KQRJeCRPNXG"
      },
      "source": [
        "https://en.m.wikipedia.org/wiki/Enriched_category"
      ]
    }
  ]
}