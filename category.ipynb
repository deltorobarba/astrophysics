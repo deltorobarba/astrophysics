{
  "nbformat": 4,
  "nbformat_minor": 0,
  "metadata": {
    "colab": {
      "name": "category.ipynb",
      "provenance": [],
      "collapsed_sections": [
        "cJRX0LJeu60H",
        "gEFAqv6QuwN7"
      ],
      "include_colab_link": true
    },
    "kernelspec": {
      "name": "python3",
      "display_name": "Python 3"
    }
  },
  "cells": [
    {
      "cell_type": "markdown",
      "metadata": {
        "id": "view-in-github",
        "colab_type": "text"
      },
      "source": [
        "<a href=\"https://colab.research.google.com/github/deltorobarba/machinelearning/blob/master/category.ipynb\" target=\"_parent\"><img src=\"https://colab.research.google.com/assets/colab-badge.svg\" alt=\"Open In Colab\"/></a>"
      ]
    },
    {
      "cell_type": "markdown",
      "metadata": {
        "id": "2Aoj2PpxvDQV",
        "colab_type": "text"
      },
      "source": [
        "# **Category Theory**"
      ]
    },
    {
      "cell_type": "code",
      "metadata": {
        "id": "1U5_6xH7tAQq",
        "colab_type": "code",
        "colab": {}
      },
      "source": [
        "import numpy as np\n",
        "import pandas as pd\n",
        "import seaborn as sns\n",
        "import matplotlib.pyplot as plt"
      ],
      "execution_count": null,
      "outputs": []
    },
    {
      "cell_type": "markdown",
      "metadata": {
        "id": "zmhzXNK8ub2B",
        "colab_type": "text"
      },
      "source": [
        "* Die Kategorientheorie lässt sich, ähnlich wie die universelle Algebra, als allgemeine Theorie mathematischer Strukturen auffassen (klassische Strukturen sind z. B. Gruppen, Ringe, Moduln und topologische Räume). \n",
        "\n",
        "* Dabei werden Eigenschaften mathematischer Strukturen allerdings nicht über Relationen zwischen Elementen der Trägermenge(n) definiert, **sondern mittels [Morphismen](https://de.m.wikipedia.org/wiki/Morphismus) und [Funktoren](https://de.m.wikipedia.org/wiki/Funktor_(Mathematik)) quasi über Vergleiche sowohl innerhalb von als auch zwischen Kategorien.**"
      ]
    },
    {
      "cell_type": "markdown",
      "metadata": {
        "id": "-fnxKbWPbXDP",
        "colab_type": "text"
      },
      "source": [
        "https://de.m.wikipedia.org/wiki/Kategorientheorie"
      ]
    },
    {
      "cell_type": "markdown",
      "metadata": {
        "id": "cJRX0LJeu60H",
        "colab_type": "text"
      },
      "source": [
        "#### **Morphismus**"
      ]
    },
    {
      "cell_type": "markdown",
      "metadata": {
        "id": "Eivuxel5u9y5",
        "colab_type": "text"
      },
      "source": [
        "* Funktion in Kategorientheorie\n",
        "\n",
        "* In der Kategorientheorie (einem Teilgebiet der Mathematik) betrachtet man sogenannte (abstrakte) Kategorien, die jeweils gegeben sind durch eine Klasse von Objekten und für je zwei Objekte X und Y eine Klasse von Morphismen von X nach Y (auch als Pfeile bezeichnet).\n",
        "\n",
        "Man schreibt: $f\\colon X\\to Y$\n",
        "\n",
        "* Zu der Kategorie gehört noch eine partielle Verknüpfung der Morphismen, die bestimmte Bedingungen erfüllen muss.\n",
        "\n",
        "* Interpretiert man Mengen mit gleicher Struktur als Objekte und die Funktionen zwischen den zugrunde liegenden Mengen, die mit deren Struktur verträglich sind, als zugehörige Morphismen, so spricht man von einer konkreten Kategorie. Die Verknüpfung der Morphismen entspricht dann der gewöhnlichen Hintereinanderausführung von Funktionen. \n",
        "\n",
        "* Es gibt aber auch ganz anders gebildete konkrete Kategorien, in denen Morphismen nicht als Funktionen zwischen den Objekten auftreten, etwa die Kategorie Toph, deren Objekte topologische Räume und deren Morphismen Homotopieklassen stetiger Funktionen sind, oder die Kategorie Rel, deren Objekte Mengen und deren Morphismen Relationen sind."
      ]
    },
    {
      "cell_type": "markdown",
      "metadata": {
        "id": "2WpulmgYvXpo",
        "colab_type": "text"
      },
      "source": [
        "https://de.m.wikipedia.org/wiki/Morphismus"
      ]
    },
    {
      "cell_type": "markdown",
      "metadata": {
        "id": "gEFAqv6QuwN7",
        "colab_type": "text"
      },
      "source": [
        "#### **Funktoren**"
      ]
    },
    {
      "cell_type": "markdown",
      "metadata": {
        "id": "MKgR9R1buyc7",
        "colab_type": "text"
      },
      "source": [
        "* strukturerhaltende Abbildung zwischen zwei Kategorien\n",
        "\n",
        "* Funktoren sind ein zentrales Grundkonzept des mathematischen Teilgebiets der Kategorientheorie. Ein Funktor ist eine strukturerhaltende Abbildung zwischen zwei Kategorien. Konkrete Funktoren haben in vielen Teilgebieten der Mathematik eine besondere Bedeutung. \n",
        "\n",
        "* Funktoren werden auch Diagramme genannt (mitunter nur in bestimmten Kontexten), da sie eine formale Abstraktion kommutativer Diagramme darstellen."
      ]
    },
    {
      "cell_type": "markdown",
      "metadata": {
        "id": "OLa4Iogyvb8d",
        "colab_type": "text"
      },
      "source": [
        "https://de.m.wikipedia.org/wiki/Funktor_(Mathematik)"
      ]
    }
  ]
}