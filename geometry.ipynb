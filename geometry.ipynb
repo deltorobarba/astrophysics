{
  "nbformat": 4,
  "nbformat_minor": 0,
  "metadata": {
    "colab": {
      "name": "geometry.ipynb",
      "provenance": [],
      "collapsed_sections": [
        "VwBNw0I30_GX",
        "Gdr6F1zuU4MG",
        "9AR9PIXysIa4",
        "kLrvSOUNr1T1",
        "ttEWWgIVr9Sl",
        "kyduGf4kNe-b",
        "TH8b8Mbvy_Fe",
        "zFD0yRkvYGE2",
        "uTlqgkPgcyej",
        "3HEOBISTrpoC",
        "ArSX-a3HWv_P",
        "dolnoE19IyYG",
        "VQdL1yhzPGzI",
        "SHwK1ZsvrPIY",
        "PhQKZZ-1M-GE",
        "zLvbjOH0rbDs",
        "kjZH2A2rUEuE",
        "BytRtSdcUHyV",
        "7_ny37AvMYht",
        "f7N9Drp8MaU_",
        "v9B0-W5pOH1j",
        "q5b2Y8K9go3V",
        "B0FfxBbbwDc_",
        "bOySjqTlor8_",
        "qoh7lWgMNHYS",
        "8IPAiZ28NJWe",
        "Ql9Z6ZU4N6yl",
        "aXHFSYKFo8Lk",
        "Ke4QbSguzrVQ",
        "-fuJkBd4yOg1",
        "7WGGOihv4kO6",
        "2eV4Pi3Y3THx",
        "Tv2c-HChQpDh",
        "NTob1FG6ihzY",
        "_hqMZdEN-F_S",
        "71BYhuzC572k",
        "vcQIRAIsotsX",
        "EPZb-aen-Los",
        "TJWHwObPnF4h",
        "XhQ9Bdz6srjf",
        "MS95OLOyzWfc",
        "Ke7HSuNXXf01",
        "zglWxx_a7Q_3"
      ],
      "include_colab_link": true
    },
    "kernelspec": {
      "name": "python3",
      "display_name": "Python 3"
    }
  },
  "cells": [
    {
      "cell_type": "markdown",
      "metadata": {
        "id": "view-in-github",
        "colab_type": "text"
      },
      "source": [
        "<a href=\"https://colab.research.google.com/github/deltorobarba/machinelearning/blob/master/geometry.ipynb\" target=\"_parent\"><img src=\"https://colab.research.google.com/assets/colab-badge.svg\" alt=\"Open In Colab\"/></a>"
      ]
    },
    {
      "cell_type": "markdown",
      "metadata": {
        "id": "HjNmcYpFuFTY"
      },
      "source": [
        "# **Differential Geometry**"
      ]
    },
    {
      "cell_type": "code",
      "metadata": {
        "id": "RYViK39mt7Nj",
        "colab": {
          "base_uri": "https://localhost:8080/",
          "height": 35
        },
        "outputId": "0168c965-db78-461b-ba19-50df85a9e604"
      },
      "source": [
        "import numpy as np\n",
        "import pandas as pd\n",
        "import seaborn as sns\n",
        "import matplotlib.pyplot as plt"
      ],
      "execution_count": null,
      "outputs": [
        {
          "output_type": "stream",
          "text": [
            "2.2.0\n"
          ],
          "name": "stdout"
        }
      ]
    },
    {
      "cell_type": "markdown",
      "metadata": {
        "id": "OgLz8uc1s9dv"
      },
      "source": [
        "![geometry](https://raw.githubusercontent.com/deltorobarba/repo/master/geometry_header.png)"
      ]
    },
    {
      "cell_type": "markdown",
      "metadata": {
        "id": "VwBNw0I30_GX"
      },
      "source": [
        "## **Geometrie**"
      ]
    },
    {
      "cell_type": "markdown",
      "metadata": {
        "id": "5BanCpbeJFnk"
      },
      "source": [
        "http://www.joergresag.privat.t-online.de/mybk2htm/chap514.htm"
      ]
    },
    {
      "cell_type": "markdown",
      "metadata": {
        "id": "McmF7fYT2r0T"
      },
      "source": [
        "In jeder Geometrie interessiert man sich für diejenigen **Transformationen, die bestimmte Eigenschaften nicht zerstören** (also ihre **Automorphismen**): Zum Beispiel ändern weder eine Parallelverschiebung noch eine Drehung oder Spiegelung in einer zweidimensionalen euklidischen Geometrie die Abstände von Punkten. Umgekehrt ist jede Transformation, die die Abstände von Punkten nicht ändert, eine Zusammensetzung von Parallelverschiebungen, Drehungen und Spiegelungen. Man sagt, dass diese Abbildungen die **Transformationsgruppe** bilden, die zu einer ebenen euklidischen Geometrie gehört, und dass der Abstand zweier Punkte eine euklidische **Invariante** darstellt."
      ]
    },
    {
      "cell_type": "markdown",
      "metadata": {
        "id": "cPQWDbEsAWLu"
      },
      "source": [
        "**Typen an Geometrien**"
      ]
    },
    {
      "cell_type": "markdown",
      "metadata": {
        "id": "tyjRNIMUEkBd"
      },
      "source": [
        "https://de.m.wikipedia.org/wiki/Analytische_Geometrie"
      ]
    },
    {
      "cell_type": "markdown",
      "metadata": {
        "id": "1THvVVC01Mll"
      },
      "source": [
        "* [Projektive Geometrie](https://de.wikipedia.org/wiki/Projektive_Geometrie) und [Affine Geometrie](https://de.wikipedia.org/wiki/Affine_Geometrie): Solche Geometrien bestehen meist aus Punkten und Geraden, und die Axiome betreffen Verbindungsgeraden von Punkten und die Schnittpunkte von Geraden. Affine und projektive Geometrien kommen meist in Paaren: Das Hinzufügen von Fernelementen macht eine affine Geometrie zu einer projektiven, und das Entfernen einer Geraden bzw. einer Ebene mit ihren Punkten macht aus einer zwei- bzw. dreidimensionalen projektiven Geometrie eine affine. In wichtigen Fällen können die Punkte auf einer Geraden in der affinen Geometrie so angeordnet werden, dass sich Halbgeraden und Strecken definieren lassen. In diesen Fällen nennt man die affine Geometrie und ihren projektiven Abschluss 'angeordnet'.\n",
        "\n",
        "  * [Projektiver_Raum](https://de.wikipedia.org/wiki/Projektiver_Raum)\n",
        "\n",
        "  * [Affiner_Raum](https://de.wikipedia.org/wiki/Affiner_Raum)\n",
        "\n",
        "* [Euklidische Geometrie](https://de.wikipedia.org/wiki/Euklidische_Geometrie): Darunter versteht man üblicherweise die aus den Axiomen und Postulaten Euklids abgeleitete Geometrie. Weil der seit Euklid überlieferte Aufbau der Theorie noch Lücken enthielt, hat David Hilbert in seinen Grundlagen der Geometrie (1899 und viele weitere Auflagen) ein Axiomensystem aufgestellt, aus dem er die euklidische Geometrie bis auf Isomorphie eindeutig aufbauen konnte. Danach kann diese eindeutig beschrieben werden als der dreidimensionale reelle Vektorraum, in dem die Punkte durch die Vektoren dargestellt werden und die Geraden durch die Nebenklassen der eindimensionalen Unterräume. Strecken, Senkrechtstehen, Winkel usw. werden wie in der seit Descartes üblichen analytischen Geometrie erklärt.\n",
        "\n",
        "  * [Euklidischer_Raum](https://de.wikipedia.org/wiki/Euklidischer_Raum)\n",
        "\n",
        "* [Nichteuklidische Geometrie](https://de.wikipedia.org/wiki/Nichteuklidische_Geometrie): Geometrien, deren Eigenschaften in vielem analog zur euklidischen Geometrie sind, in denen jedoch das Parallelenpostulat (auch Parallelenaxiom genannt) nicht gilt. Man unterscheidet elliptische und hyperbolische Geometrien.\n",
        "\n",
        "* [Absolute Geometrie](https://de.wikipedia.org/wiki/Absolute_Geometrie): ist der gemeinsame Unterbau der euklidischen und der nichteuklidischen Geometrien, d. h. die Menge aller Sätze, die ohne das Parallelenpostulat bewiesen werden.\n",
        "\n",
        "* [Synthetische Geometrie](https://de.wikipedia.org/wiki/Synthetische_Geometrie) führt den klassischen Ansatz der „reinen“ Geometrie fort, indem anstelle algebraischer Objekte (Koordinaten, Morphismen …) abstrakte geometrische Objekte (Punkte, Geraden) und deren Beziehungen (Schnitt, Parallelität, Orthogonalität …) zugrunde gelegt werden. Die Inzidenzstruktur gehört hier heute zu den allgemeinsten Ansätzen. Beispiele von nicht linearen Inzidenzstrukturen sind die Benz-Ebenen.\n"
      ]
    },
    {
      "cell_type": "markdown",
      "metadata": {
        "id": "sZRNJ0B33HV8"
      },
      "source": [
        "**Grundlegende Sätze**"
      ]
    },
    {
      "cell_type": "markdown",
      "metadata": {
        "id": "cqXe2grs3Kdu"
      },
      "source": [
        "https://de.wikipedia.org/wiki/Satz_des_Pythagoras"
      ]
    },
    {
      "cell_type": "markdown",
      "metadata": {
        "id": "rvqZh0FU3Mm6"
      },
      "source": [
        "https://de.wikipedia.org/wiki/Kosinussatz"
      ]
    },
    {
      "cell_type": "markdown",
      "metadata": {
        "id": "HfcGUBLe3OvI"
      },
      "source": [
        "https://de.wikipedia.org/wiki/Trigonometrischer_Pythagoras"
      ]
    },
    {
      "cell_type": "markdown",
      "metadata": {
        "id": "B_bf6Uds3b8S"
      },
      "source": [
        "Zusatzlich siehe auch [Zentralprojektion](https://de.wikipedia.org/wiki/Zentralprojektion) und [Zykloide](https://de.wikipedia.org/wiki/Zykloide)"
      ]
    },
    {
      "cell_type": "markdown",
      "metadata": {
        "id": "JDJq4saXMmeT"
      },
      "source": [
        "**Differentialgeometrie**"
      ]
    },
    {
      "cell_type": "markdown",
      "metadata": {
        "id": "czHKt9s9Mlc0"
      },
      "source": [
        "Die [Differentialgeometrie](https://de.wikipedia.org/wiki/Differentialgeometrie) stellt die Synthese von Analysis und Geometrie dar."
      ]
    },
    {
      "cell_type": "markdown",
      "metadata": {
        "id": "Gdr6F1zuU4MG"
      },
      "source": [
        "## **Variationsrechnung**"
      ]
    },
    {
      "cell_type": "markdown",
      "metadata": {
        "id": "9AR9PIXysIa4"
      },
      "source": [
        "#### **Gegenstand**"
      ]
    },
    {
      "cell_type": "markdown",
      "metadata": {
        "id": "4_on0MZCUMWI"
      },
      "source": [
        "**Variation**"
      ]
    },
    {
      "cell_type": "markdown",
      "metadata": {
        "id": "w9ULU9gH-F0N"
      },
      "source": [
        "![cc](https://upload.wikimedia.org/wikipedia/commons/1/10/Total_variation.gif)\n",
        "\n",
        "*As the green ball travels on the graph of the given function, the length of the path travelled by that ball's projection on the y-axis, shown as a red ball, is the total variation of the function.*"
      ]
    },
    {
      "cell_type": "markdown",
      "metadata": {
        "id": "EkItUc9NUPLf"
      },
      "source": [
        "* the [total variation](https://en.wikipedia.org/wiki/Total_variation) identifies several slightly different concepts, related to the (local or global) structure of the codomain of a function or a measure. For a real-valued continuous function f, defined on an interval [a, b] ⊂ ℝ, its total variation on the interval of definition is a measure of the one-dimensional [arclength](https://en.wikipedia.org/wiki/Arc_length) of the curve with parametric equation x ↦ f(x), for x ∈ [a, b].\n",
        "\n",
        "* In der Variationsrechnung und der Theorie der stochastischen Prozesse ist die [Variation](https://de.wikipedia.org/wiki/Variation_(Mathematik)) (auch totale Variation genannt) einer Funktion **ein Maß für das lokale Schwingungsverhalten der Funktion**. \n",
        "\n",
        "* Bei den stochastischen Prozessen ist die Variation von besonderer Bedeutung, da sie die Klasse der zeitstetigen Prozesse in zwei fundamental verschiedene Unterklassen unterteilt: jene mit endlicher und solche mit unendlicher Variation."
      ]
    },
    {
      "cell_type": "markdown",
      "metadata": {
        "id": "o_X2Fv7rUuny"
      },
      "source": [
        "Die [erste Variation](https://de.wikipedia.org/wiki/Erste_Variation) ist eine verallgemeinerte Richtungsableitung eines Funktionals. Ihre Eigenschaften sind in der angewandten Mathematik und der theoretischen Physik relevant. Die erste Variation spielt eine zentrale Rolle in der Variationsrechnung und wird in der analytischen Mechanik genutzt. Ein verwandtes Konzept ist die Funktionalableitung."
      ]
    },
    {
      "cell_type": "markdown",
      "metadata": {
        "id": "xRSLhtGHUz6-"
      },
      "source": [
        "In der Analysis ist eine Funktion von [beschränkter Variation](https://de.wikipedia.org/wiki/Beschränkte_Variation) (beschränkter Schwankung), wenn ihre totale Variation (totale Schwankung) endlich ist, sie also in gewisser Weise nicht beliebig stark oszilliert. Diese Begriffe hängen eng mit der Stetigkeit und der Integrierbarkeit von Funktionen zusammen."
      ]
    },
    {
      "cell_type": "markdown",
      "metadata": {
        "id": "LTt3OLla2IRt"
      },
      "source": [
        "**Variational Principle**"
      ]
    },
    {
      "cell_type": "markdown",
      "metadata": {
        "id": "yjqXlKua2Mj8"
      },
      "source": [
        "* a [variational principle](https://en.wikipedia.org/wiki/Variational_principle) is one that enables a problem to be solved using calculus of variations, which concerns finding such functions which optimize the values of quantities that depend upon those functions. \n",
        "\n",
        "* For example, the problem of determining the shape of a hanging chain suspended at both ends—a catenary—can be solved using variational calculus, and in this case, the variational principle is the following: The solution is a function that minimizes the gravitational potential energy of the chain.\n",
        "\n",
        "* Any physical law which can be expressed as a variational principle describes a **self-adjoint operator.** These expressions are also called Hermitian. Such an expression describes an invariant under a Hermitian transformation."
      ]
    },
    {
      "cell_type": "markdown",
      "metadata": {
        "id": "jBVibsq7UgT9"
      },
      "source": [
        "**Variationsrechnung**"
      ]
    },
    {
      "cell_type": "markdown",
      "metadata": {
        "id": "UXIblPI6_-oP"
      },
      "source": [
        "\n",
        "\n",
        "* **Find [stationary points](https://internal.ncl.ac.uk/ask/numeracy-maths-statistics/core-mathematics/calculus/stationary-points.html) (=derivative is zero, local minima or maxima) of a functional, like an integral I[f] (=here for example the path lenghts, or time spent travelling) is minimal between two points a and b.**\n",
        "\n",
        "  * A stationary point of a function $f(x)$ is a point where the derivative of $f(x)$ is equal to 0 . \n",
        "  * These points are called \"stationary\" because at these points the function is neither increasing nor decreasing. \n",
        "  * Graphically, this corresponds to points on the graph of $f(x)$ where the tangent to the curve is a horizontal line.\n",
        " * The stationary points of a function $y=f(x)$ are the solutions to $\n",
        "\\frac{d y}{d x}=0 $. This repeats in mathematical notation the definition given above: \"points where the gradient of the function is zero\".\n",
        "\n",
        "* **The integral is a functional (=function of functions), its stationary point is a fix point / minima of a functional (not function). Solve (usually differential) equations for stationary function f(x) (via calculus of variations)**\n",
        "\n",
        "* from regular calculus to calculus of variations: find stationary functions, not only stationary points, a function becomes a functional.\n",
        "\n",
        "* **Typical problem in variational calculus: find minimal path between points A and B, not necessarily a linear one (in physics for examples check Brachistochrone !)**. \n",
        "\n",
        "* Also consider that velocity depending on position changes the minimum paths or time to travel (later in vector analysis relevant for Kurvenintegral)\n",
        "\n",
        "In general, Calculus of variations seeks to find y = f(x) such that this integral:\n",
        "\n",
        "> $I[f]=\\int_{x_{1}}^{x_{2}} F\\left(x, y, \\frac{d y}{d x}\\right) d x$\n",
        "\n",
        "is stationary (ps: $\\frac{d y}{d x}$ = $y'$)"
      ]
    },
    {
      "cell_type": "markdown",
      "metadata": {
        "id": "uWS6r7zeXBiF"
      },
      "source": [
        "https://www.youtube.com/watch?v=6HeQc7CSkZs&list=PLdgVBOaXkb9CD8igcUr9Fmn5WXLpE8ZE_"
      ]
    },
    {
      "cell_type": "markdown",
      "metadata": {
        "id": "gtfLe2I18pBF"
      },
      "source": [
        "https://www.youtube.com/playlist?list=PLdgVBOaXkb9CD8igcUr9Fmn5WXLpE8ZE_"
      ]
    },
    {
      "cell_type": "markdown",
      "metadata": {
        "id": "d-YucyzLNVXX"
      },
      "source": [
        "1. Die [Variationsrechnung](https://de.wikipedia.org/wiki/Variationsrechnung) ist eine **Erweiterung der Funktionalanalysis und beschaeftigt sich mit <u>nichtlinearen Funktionalen</u>** (in der Funktionalanalysis sind es linear Funktionale)\n",
        "\n",
        "2. The [calculus of variations](https://en.m.wikipedia.org/wiki/Calculus_of_variations) is a field that **uses variations, which are small changes in functions and functionals, to find maxima and minima of functionals**: mappings from a set of functions to the real numbers. Functionals are often expressed as definite integrals involving functions and their derivatives. <u>**Functions that maximize or minimize functionals may be found using the Euler–Lagrange equation of the calculus of variations.**</u>\n",
        "\n",
        "* In calculus of variations we are **NOT concerned with finding fix points of functions (like local maxima in a function), but rather fix points of functionals.**\n",
        "\n",
        "\n",
        "* dann führt eine Variation der Wirkung: https://de.m.wikipedia.org/wiki/Feldtheorie_(Physik)#Formalismus\n",
        "\n",
        "* Beispiel: https://de.wikipedia.org/wiki/Fluiddynamik\n",
        "\n",
        "* Martin: formulier problem in variationelle formulierung (dann bist du in sobolove räume), und dann Eigenschaften von Testfunktionen ausnutzen"
      ]
    },
    {
      "cell_type": "markdown",
      "metadata": {
        "id": "3sKOpLJ5il05"
      },
      "source": [
        "**Variation der Elemente**"
      ]
    },
    {
      "cell_type": "markdown",
      "metadata": {
        "id": "qWojWs7Px8DZ"
      },
      "source": [
        "* die [Variation der Elemente](https://de.wikipedia.org/wiki/Variation_der_Elemente) ist eine im 19. Jahrhundert entwickelte Methode zur genauen Bahnbestimmung von Himmelskörpern. Sie dient bis heute zur Modellierung von [Bahnstörungen](https://de.wikipedia.org/wiki/Bahnstörung)."
      ]
    },
    {
      "cell_type": "markdown",
      "metadata": {
        "id": "eloiR80j3LKg"
      },
      "source": [
        "**Brachistochrone & Tautochronie**"
      ]
    },
    {
      "cell_type": "markdown",
      "metadata": {
        "id": "Caqyohtk9JPX"
      },
      "source": [
        "https://www.youtube.com/watch?v=zYOAUG8PxyM"
      ]
    },
    {
      "cell_type": "markdown",
      "metadata": {
        "id": "VpbYH6ya6lV_"
      },
      "source": [
        "* Brachistochrone: Path between 2 points $A$ and $B$ which minimizes the time taken by a particle falling from $A$ to $B$ under the influence of gravity.\n",
        "\n",
        "* Time = distance / speed. Goal: Mix of minimize distance and maximize speed\n",
        "\n",
        "* Johann I Bernoulli hat sich mit dem **Problem des schnellsten Falles** beschäftigt. Im Jahre 1696 fand er schließlich die Lösung in der **Brachistochrone**. Heute sieht man dies oft als die **Geburtsstunde der Variationsrechnung**."
      ]
    },
    {
      "cell_type": "markdown",
      "metadata": {
        "id": "NWNCf_416SQR"
      },
      "source": [
        "[**Brachistochrone Curve**](https://en.wikipedia.org/wiki/Brachistochrone_curve) (in rot): Der Körper gleitet auf einer solchen Bahn schneller zum Ziel als auf jeder anderen Bahn, beispielsweise auf einer geradlinigen, obwohl diese kürzer ist.\n",
        "\n",
        "\n",
        "![vv](https://upload.wikimedia.org/wikipedia/commons/6/63/Brachistochrone.gif)"
      ]
    },
    {
      "cell_type": "markdown",
      "metadata": {
        "id": "YMvO3MMS6JFg"
      },
      "source": [
        "**Tautochronie** der Brachistochrone – von jedem Startpunkt auf der Kurve erreichen die Kugeln das „Ziel“ gleichzeitig.\n",
        "\n",
        "![ff](https://upload.wikimedia.org/wikipedia/commons/b/bd/Tautochrone_curve.gif)"
      ]
    },
    {
      "cell_type": "markdown",
      "metadata": {
        "id": "TnIIOyg7sUWT"
      },
      "source": [
        "**Gâteaux-Differential**"
      ]
    },
    {
      "cell_type": "markdown",
      "metadata": {
        "id": "ZO6d-DQEsTA4"
      },
      "source": [
        "* [Gâteaux-Differential](https://de.wikipedia.org/wiki/Gâteaux-Differential) ist eine **Verallgemeinerung des gewöhnlichen Differentiationsbegriffes** dar, indem es die Richtungsableitung auch in unendlichdimensionalen Räumen definiert."
      ]
    },
    {
      "cell_type": "markdown",
      "metadata": {
        "id": "kLrvSOUNr1T1"
      },
      "source": [
        "#### **Euler–Lagrange Equation**"
      ]
    },
    {
      "cell_type": "markdown",
      "metadata": {
        "id": "pd2IsJ_CSCS6"
      },
      "source": [
        "**Principle of Stationary Action**"
      ]
    },
    {
      "cell_type": "markdown",
      "metadata": {
        "id": "U1_LTPqfTDH4"
      },
      "source": [
        "![ff](https://raw.githubusercontent.com/deltorobarba/repo/master/lagrange_01.png)"
      ]
    },
    {
      "cell_type": "markdown",
      "metadata": {
        "id": "L5BT3mKBTKRs"
      },
      "source": [
        "![ff](https://raw.githubusercontent.com/deltorobarba/repo/master/lagrange_02.png)"
      ]
    },
    {
      "cell_type": "markdown",
      "metadata": {
        "id": "_RWhECg9U_Oh"
      },
      "source": [
        "* Total energy = kinetic energy - potential energy.\n",
        "\n",
        "* Kinetic - potential energy = Lagrangian $L$\n",
        "\n",
        "* Kinetic energy depends on velocity of a particle (detonated with a dot over x,y,z), potential energy depends on position of a particle x,y,z. Hence the Lagrangian of a particle depends on all of the positions and all of their time derivatives. \n",
        "\n",
        "* **Use and solve the three Lagrangian equations in order to determine the equation of motion of a particle (and Lagrange equations are equivalent to Newton's second law)**\n",
        "\n",
        "* And they can easily applied to other coordinate systems than cartesian (i.e cylindric, or spherical)\n",
        "\n",
        "* Also: **Lagrange equations are very similar to Euler-Lagrange Equations!**\n",
        "\n",
        "* Because the three Lagrange equations very strongly resemble the Euler-Lagrange-equation, there must be some functional that's being made stationary by Lagrange equations\n",
        "\n",
        "* **$S$ is the action integral (= a functional!)**\n",
        "\n"
      ]
    },
    {
      "cell_type": "markdown",
      "metadata": {
        "id": "o-nJvdQFOk7w"
      },
      "source": [
        "[The Principle of Stationary Action](https://www.youtube.com/watch?v=M05ixbSOY80): If a particle/system $P$ travels from one point to another in the time interval $\\left[t_{1}, t_{2}\\right]$, the path the particle traverses is such that this function:\n",
        "\n",
        "> $\n",
        "S=\\int_{t_{1}}^{t_{2}} \\mathcal{L} \\text { dt}$\n",
        "\n",
        "is stationary. "
      ]
    },
    {
      "cell_type": "markdown",
      "metadata": {
        "id": "W-B68-upYzGV"
      },
      "source": [
        "$L$ is the Lagrangian of the particle: $L=E_{u}-U$. \n",
        "\n",
        "Need to solve Lagrange equations to make $S$ stationary:\n",
        "\n",
        "$\\frac{\\partial L}{\\partial q_{1}}=\\frac{d}{d t}\\left(\\frac{\\partial L}{\\partial \\dot{q}_{1}}\\right), \\frac{\\partial L}{\\partial q_{2}}=\\frac{d}{d t}\\left(\\frac{\\partial L}{\\partial \\dot{q}_{2}}\\right), \\frac{\\partial L}{\\partial q_{3}}=\\frac{d}{d t}\\left(\\frac{\\partial L}{\\partial \\dot{q}_{3}}\\right) \\quad \\begin{array}{c}\\\\ \\end{array}$\n",
        "\n",
        "We can use a general coordinate system:\n",
        "$\\\\ {\\left[q_{1}(t), q_{2}(t), q_{3}(t)\\right]}$"
      ]
    },
    {
      "cell_type": "markdown",
      "metadata": {
        "id": "AUccaxMqCONs"
      },
      "source": [
        "**Hamilton'sches Prinzip (Wirkungsfunktional)**"
      ]
    },
    {
      "cell_type": "markdown",
      "metadata": {
        "id": "0YUSTnxUCj_B"
      },
      "source": [
        "> Das [Hamilton'sche Prinzip](https://de.wikipedia.org/wiki/Hamiltonsches_Prinzip) zeichnet tatsachlich durchlaufene Bahnen dadurch aus, **dass bei ihnen die Wirkung (=Funktional) S[q] (verglichen mit anderen Bahnen) ein Minimum annimmt (minimal variation ??)**.\n",
        "\n",
        "* Das Hamiltonsche Prinzip der Theoretischen Mechanik ist ein **Extremalprinzip**. Physikalische Felder und Teilchen nehmen danach für eine bestimmte Größe einen extremalen (d. h. größten oder kleinsten) Wert an. Diese Bewertung nennt man Wirkung, mathematisch ist die Wirkung ein Funktional, daher auch die Bezeichnung **Wirkungsfunktional**.\n",
        "\n",
        "* Die Wirkung erweist sich in vielen Fällen nicht als minimal, sondern nur als **„stationär“** (d. h. extremal). Deshalb wird das Prinzip von manchen Lehrbuchautoren auch das Prinzip der **stationären Wirkung** genannt. Manche Autoren nennen das Hamiltonsche Prinzip auch **'Prinzip der kleinsten Wirkung'**, was jedoch – wie oben ausgeführt – nicht präzise ist.\n",
        "\n",
        "* Hamilton's principle states that the true evolution of a physical system is a solution of the functional equation:\n",
        "\n",
        "> $\\frac{\\delta \\mathcal{S}}{\\delta \\mathbf{q}(t)}=0$\n",
        "\n",
        "* That is, the system takes a path in configuration space for which the action is stationary, with fixed boundary conditions at the beginning and the end of the path."
      ]
    },
    {
      "cell_type": "markdown",
      "metadata": {
        "id": "lcfFakZPDSlA"
      },
      "source": [
        "![ff](https://upload.wikimedia.org/wikipedia/commons/thumb/1/1c/Least_action_principle.svg/500px-Least_action_principle.svg.png)\n",
        "\n",
        "*As the system evolves, q traces a path through configuration space (only some are shown). The path taken by the system (red) has a stationary action (δS = 0) under small changes in the configuration of the system (δq).*"
      ]
    },
    {
      "cell_type": "markdown",
      "metadata": {
        "id": "8rTSTqyoGEgM"
      },
      "source": [
        "Richard Feynman zeigte in den 1940ern, dass sich das Hamiltonsche Prinzip in der Quantenfeldtheorie gerade dadurch ergibt, dass alle möglichen Pfade (auch die nicht zielgerichteten) zulässig sind und aufintegriert werden. Dabei überlagern sich Pfade mit extremaler Wirkung konstruktiv und davon abweichende destruktiv, so dass die Natur schließlich zielgerichtet erscheint."
      ]
    },
    {
      "cell_type": "markdown",
      "metadata": {
        "id": "bcxaUB6UFfh8"
      },
      "source": [
        "**Langrange Formalismus**"
      ]
    },
    {
      "cell_type": "markdown",
      "metadata": {
        "id": "juoWoVAzFb7x"
      },
      "source": [
        "Eingeführte Formulierung der klassischen Mechanik, in der die Dynamik eines Systems durch **eine einzige skalare Funktion, die Lagrange-Funktion**, beschrieben wird. Der Formalismus ist (im Gegensatz zu der newtonschen Mechanik, die a priori nur in Inertialsystemen gilt) auch in beschleunigten Bezugssystemen gültig. Der Lagrange-Formalismus ist invariant gegen Koordinatentransformationen.\n",
        "\n",
        "Der [Langrange Formalismus](https://de.wikipedia.org/wiki/Lagrange-Formalismus) ist eine mögliche (von vielen!) Formulierung der klassischen Mechanik. Hier wird die Dynamik eines Systems durch die Langrange-Funktion L(${\\boldsymbol{q}}$, $\\dot{\\boldsymbol{q}}$, $t$) beschrieben:\n",
        "\n",
        "* ${\\boldsymbol{q}}$ = (q1, q2, ..., qw) - allgemeine Koordinaten im Raum\n",
        "* $\\dot{\\boldsymbol{q}}$ = (d / dt) q ... ($\\dot{\\boldsymbol{q}}$1, $\\dot{\\boldsymbol{q}}$2.. $\\dot{\\boldsymbol{q}}$n) - Vektor der Wirkung (allgemeine Geschwindigkeiten)\n",
        "* $t$ - Zeit (Die explizite Zeitabhängige berücksichtigt externe, zeitabhängige Faktoren (z.B. Magnet-Felder etc). Wird auf Null gesetzt, denn bei einem Wechsel in die mikroskopische Theorie verschwindet die Zeit)\n",
        "\n",
        "> $L_{x}(q, \\dot{q}, t)$ wird zu: $L_{x}(q, \\dot{q})$ = $T$<sub>kin</sub> - $V$<sub>pot</sub>"
      ]
    },
    {
      "cell_type": "markdown",
      "metadata": {
        "id": "yh3-XC92HP_o"
      },
      "source": [
        "https://www.youtube.com/watch?v=V8CR4GVg5Io&t=301s"
      ]
    },
    {
      "cell_type": "markdown",
      "metadata": {
        "id": "xj_FQa3ZHR25"
      },
      "source": [
        "https://www.youtube.com/watch?v=EceVJJGAFFI"
      ]
    },
    {
      "cell_type": "markdown",
      "metadata": {
        "id": "KYzlWwuA8hXl"
      },
      "source": [
        "**Euler–Lagrange Equation**"
      ]
    },
    {
      "cell_type": "markdown",
      "metadata": {
        "id": "dSDm60df1uY6"
      },
      "source": [
        "The Euler–Lagrange equation is an equation satisfied by a function q of a real argument t, which is a stationary point of the functional:\n",
        "\n",
        "> $S(\\boldsymbol{q})=\\int_{a}^{b} L(t, \\boldsymbol{q}(t), \\dot{\\boldsymbol{q}}(t)) \\mathrm{d} t$\n",
        "\n",
        "* ${\\boldsymbol{q}}$ - Koordinaten im Raum\n",
        "* $\\dot{\\boldsymbol{q}}$ - Vektor der Wirkung\n",
        "* t - Zeit (wird auf Null gesetzt, den bei einem Wechsel in die mikroskopische Theorie verschwindet die Zeit)\n",
        "\n",
        "The Euler–Lagrange equation, then, is given by\n",
        "\n",
        "> $L_{x}(t, q(t), \\dot{q}(t))-\\frac{\\mathrm{d}}{\\mathrm{d} t} L_{v}(t, q(t), \\dot{q}(t))=0$\n",
        "\n",
        "* partial derivative of one dimension, then second dimension and then time"
      ]
    },
    {
      "cell_type": "markdown",
      "metadata": {
        "id": "7YgD5e1WCrQG"
      },
      "source": [
        "Youtube: [Derivation of the Euler-Lagrange Equation](https://www.youtube.com/watch?v=sFqp2lCEvwM&list=PLdgVBOaXkb9CD8igcUr9Fmn5WXLpE8ZE_&index=2)"
      ]
    },
    {
      "cell_type": "markdown",
      "metadata": {
        "id": "V2qfbPen7OHY"
      },
      "source": [
        "https://www.youtube.com/watch?v=V0wx0JBEgZc"
      ]
    },
    {
      "cell_type": "markdown",
      "metadata": {
        "id": "a8e1OmDf8qdS"
      },
      "source": [
        "* the [Euler equation](https://en.m.wikipedia.org/wiki/Euler–Lagrange_equation) is a **second-order partial differential** equation whose **solutions are the functions for which a given functional is stationary**.\n",
        "\n",
        "* Because **a differentiable functional is stationary at its local extrema**, the Euler–Lagrange equation is useful for solving optimization problems in which, given some functional, one seeks the function minimizing or maximizing it. \n",
        "\n",
        "* This is analogous to [Fermat's theorem](https://en.m.wikipedia.org/wiki/Fermat%27s_theorem_(stationary_points)) in calculus, stating that at any point where a differentiable function attains a local extremum its derivative is zero.\n",
        "\n",
        "* In Lagrangian mechanics, according to [Hamilton's principle](https://en.m.wikipedia.org/wiki/Hamilton%27s_principle) of stationary action, the evolution of a physical system is described by the solutions to the Euler equation for the action of the system. In this context Euler equations are usually called Lagrange equations. In classical mechanics, it is equivalent to Newton's laws of motion, but it has the advantage that it takes the same form in any system of generalized coordinates, and it is better suited to generalizations.\n",
        "\n",
        "  * Hamilton's principle is William Rowan Hamilton's formulation of the [principle of stationary action](https://en.m.wikipedia.org/wiki/Principle_of_least_action) (also called: 'Principle of least action'). It states that the **dynamics of a physical system are determined by a variational problem for a functional based on a single function**, the Lagrangian, which may contain all physical information concerning the system and the forces acting on it. The variational problem is equivalent to and allows for the derivation of the differential equations of motion of the physical system\n"
      ]
    },
    {
      "cell_type": "markdown",
      "metadata": {
        "id": "Hvq9Ze9vgJ-T"
      },
      "source": [
        "https://de.wikipedia.org/wiki/Variationsrechnung#Euler-Lagrange-Gleichung;_Variationsableitung;_weitere_notwendige_bzw._hinreichende_Bedingungen"
      ]
    },
    {
      "cell_type": "markdown",
      "metadata": {
        "id": "ttEWWgIVr9Sl"
      },
      "source": [
        "#### **Fundamentallemma & -satz**"
      ]
    },
    {
      "cell_type": "markdown",
      "metadata": {
        "id": "Z3b7M8Nygvq7"
      },
      "source": [
        "**Fundamentallemma der Variationsrechnung**"
      ]
    },
    {
      "cell_type": "markdown",
      "metadata": {
        "id": "-FRcJghJgyjL"
      },
      "source": [
        "https://de.wikipedia.org/wiki/Fundamentallemma_der_Variationsrechnung"
      ]
    },
    {
      "cell_type": "markdown",
      "metadata": {
        "id": "ULsopNsIg5dZ"
      },
      "source": [
        "**Fundamentalsatz der Variationsrechnung**"
      ]
    },
    {
      "cell_type": "markdown",
      "metadata": {
        "id": "CwkRUt1ihCd_"
      },
      "source": [
        "* Fundamental Theorem of the Calculus of Variations - [Fundamentalsatz der Variationsrechnung](https://de.wikipedia.org/wiki/Fundamentalsatz_der_Variationsrechnung)\n",
        "\n",
        "* eng verwandt mit dem [weierstraßschen Satz vom Minimum](https://de.wikipedia.org/wiki/Satz_vom_Minimum_und_Maximum)\n",
        "\n",
        "* Er behandelt die in der Variationsrechnung zentrale Frage, unter welchen Bedingungen reellwertige Funktionale ein Minimum annehmen."
      ]
    },
    {
      "cell_type": "markdown",
      "metadata": {
        "id": "kyduGf4kNe-b"
      },
      "source": [
        "## **Vektoranalysis**"
      ]
    },
    {
      "cell_type": "markdown",
      "metadata": {
        "id": "TH8b8Mbvy_Fe"
      },
      "source": [
        "#### **Grundbegriffe**"
      ]
    },
    {
      "cell_type": "markdown",
      "metadata": {
        "id": "Jxw_I_chlfSU"
      },
      "source": [
        "https://youtube.com/playlist?list=PLBh2i93oe2quqhn4TZjMnBM2v7lG5QhDD"
      ]
    },
    {
      "cell_type": "markdown",
      "metadata": {
        "id": "r66BzwvTX8Ue"
      },
      "source": [
        "* Die [Vektoranalysis](https://de.m.wikipedia.org/wiki/Vektoranalysis) ist ein **Teilgebiet der Tensoranalysis**, beschäftigt sich hauptsächlich mit **Vektorfeldern in zwei oder mehr Dimensionen** \n",
        "\n",
        "* Die Vektoranalysis **verallgemeinert die Differential- und der Integralrechnung** (z.B. werden Verzerrungen auf Oberflachen bei der Integration berucksichtigt, oder Stroemungen bei Wegen)\n",
        "\n",
        "* Betrachtet werden **Vektorfelder**, die jedem Punkt des Raumes einen Vektor zuordnen, und **Skalarfelder**, die jedem Punkt des Raumes einen Skalar zuordnen.\n",
        "\n",
        "*  Die Temperatur eines Swimmingpools ist ein Skalarfeld: Jedem Punkt wird der Skalarwert seiner Temperatur zugeordnet. Die Wasserbewegung entspricht dagegen einem Vektorfeld, da jedem Punkt ein Geschwindigkeitsvektor zugeordnet wird, der Betrag und Richtung hat."
      ]
    },
    {
      "cell_type": "markdown",
      "metadata": {
        "id": "HwHPxe488bdG"
      },
      "source": [
        "https://de.m.wikipedia.org/wiki/Polarkoordinaten#Vektoranalysis"
      ]
    },
    {
      "cell_type": "markdown",
      "metadata": {
        "id": "ib8wN8Qsy42W"
      },
      "source": [
        "* **Kurven** in $\\mathbb{R}^{2}$ oder $\\mathbb{R}^{3}$: Wege bzw. **parametrisierte** Kurven in $\\mathbb{R}^{n}$ sind **stetige** Abbildungen $\\gamma$ [a, b] -> $\\mathbb{R}^{n}$\n",
        "\n",
        "* **Reguläre Wege** bzw. Kurven: **stetig + differenzierbar** und Norm der Ableitung ist die Summe der Komponenten: $\\|\\dot{\\gamma}(t)\\|^{2}=\\left|\\dot{\\gamma}_{1}(t)\\right|^{2}+\\left|\\dot{\\gamma}_{2}(t)\\right|^{2}+\\left|\\dot{\\gamma}_{3}(t)\\right|^{2} \\neq 0$ fur alle t $\\in$ [a,b]. Bedeutet auch: es gibt uberall einen Tangentialvektor.\n",
        "\n",
        "* **Bogenlänge** (Länge der Kurve / [Arc Length](https://en.wikipedia.org/wiki/Arc_length)): Integration der Geschwindigkeitsvektoren in der Norm: $L[\\gamma]=\\int_{a}^{b}\\|\\dot{\\gamma}(t)\\| d t$\n",
        "\n",
        "* **Tangentialvektor**: Ableitung / Geschwindigkeitsvektor an einem Punkt, der in eine Richtung zeigt, der tangential zur Kurve zeigt. Den Vektor normiert man (dividiert durch Norm): $T_{\\gamma}(t):=\\frac{\\dot{\\gamma}(t)}{\\|\\dot{\\gamma}(t)\\|}$\n",
        "\n",
        "* **Normalenvektor**: nur definiert in einer Ebene, also in R2. Sollte senkrecht auf der Kurve / senkrecht auf dem Tangentialvektor stehen (man muss also diesen Punkt $\\dot{\\gamma}(t)=\\left(\\begin{array}{l}\\dot{\\gamma}_{1}(t) \\\\ \\dot{\\gamma}_{2}(t)\\end{array}\\right)$ um 90 Grad drehen, damit er senkrech steht): $N_{\\gamma}(t):=\\frac{1}{\\|\\dot{\\gamma}(t)\\|}\\left(\\begin{array}{c}-\\dot{\\gamma}_{2}(t) \\\\ \\dot{\\gamma}_{2}(t)\\end{array}\\right)$. \n",
        "\n",
        "* **Die Norm im Normalenvektor (Jacobi-Determinante) gibt zB die Kruemmung / Verzerrung einer Flaeche an, die bei der Integration beruecksichtigt werden muss.**\n",
        "\n",
        "* Eine [**vektorielle Größe**](https://de.wikipedia.org/wiki/Vektorielle_Größe) oder gerichtete Größe ist eine physikalische Größe, die – im Gegensatz zu den skalaren Größen – einen Richtungscharakter hat. \n",
        "  * Typische vektorielle Größen sind die kinematischen Größen Geschwindigkeit und Beschleunigung, die dynamischen Größen Impuls und Kraft bzw. Drehimpuls und Drehmoment sowie die Feldstärken der elektrischen und magnetischen Felder der Elektrodynamik. \n",
        "  * Vektorielle Größen werden sowohl zeichnerisch als auch rechnerisch wie geometrische Vektoren behandelt, wobei einige Besonderheiten zu beachten sind."
      ]
    },
    {
      "cell_type": "markdown",
      "metadata": {
        "id": "a_ZoCkWyJeNH"
      },
      "source": [
        "**Beispielaufgabe in der Vektoranalysis**\n",
        "\n",
        "* Betrachten Sie die folgende parametrisierte Kurve: $\n",
        "\\gamma:[0, \\infty) \\rightarrow \\mathbb{R}^{2}, \\quad \\gamma(t)=\\left(\\begin{array}{c}\n",
        "t \\cos (t) \\\\\n",
        "t \\sin (t)\n",
        "\\end{array}\\right)\n",
        "$\n",
        "\n",
        "  * (a) Skizzieren Sie die Kurve, d. h. das Bild der Abbildung.\n",
        "\n",
        "  * (b) Handelt es sich um einen regulären Weg?\n",
        "\n",
        "  * (c) Geben Sie Tangenteneinheitsvektor und Normaleneinheitsvektor für jeden Punkt an."
      ]
    },
    {
      "cell_type": "markdown",
      "metadata": {
        "id": "zFD0yRkvYGE2"
      },
      "source": [
        "#### **Felder (Skalar, Vektor, Gradient)**"
      ]
    },
    {
      "cell_type": "markdown",
      "metadata": {
        "id": "9Aolz28MRggQ"
      },
      "source": [
        "**Skalarfeld**"
      ]
    },
    {
      "cell_type": "markdown",
      "metadata": {
        "id": "fbKijNH7RjtR"
      },
      "source": [
        "* In der mehrdimensionalen Analysis, der Vektorrechnung und der Differentialgeometrie ist ein [skalares Feld (kurz Skalarfeld)](https://de.wikipedia.org/wiki/Skalarfeld) $\\varphi$ **eine Funktion, die jedem Punkt eines Raumes eine reelle Zahl (Skalar) zuordnet**, z. B. eine Temperatur, Luftdruck.\n",
        "\n",
        "* Wichtige Operationen im Zusammenhang mit Skalarfeldern sind: \n",
        "\n",
        "  * **[Gradient](https://de.wikipedia.org/wiki/Gradient_(Mathematik)) eines Skalarfeldes, der ein Vektorfeld ist**.\n",
        "\n",
        "  * [Richtungsableitung](https://de.wikipedia.org/wiki/Richtungsableitung) eines Skalarfeldes: die Richtungsableitung einer von mehreren Variablen abhängigen Funktion ist die **momentane Änderungsrate dieser Funktion in einer durch einen Vektor vorgegebenen Richtung**. (Eine Verallgemeinerung der Richtungsableitung auf unendlichdimensionale Räume ist das [Gâteaux-Differential](https://de.m.wikipedia.org/wiki/G%C3%A2teaux-Differential).)\n",
        "  * Ein Skalarfeld ist das einfachste [Tensorfeld](https://de.m.wikipedia.org/wiki/Tensorfeld).\n",
        "\n",
        "* Skalarfelder sind von großer Bedeutung in der Feldbeschreibung der Physik und in der mehrdimensionalen Vektoranalysis.\n",
        "\n",
        "* Man unterscheidet dabei zwischen **reellwertigen** Skalarfeldern $\\varphi\\colon M\\to \\mathbb {R}$ und **komplexwertigen** Skalarfeldern $\\displaystyle \\varphi \\colon M\\to \\mathbb {C} $.\n",
        "\n",
        "* Man spricht von einem **stationären Skalarfeld**, wenn die Funktionswerte nur vom Ort abhängen. Hängen sie auch von der Zeit ab, handelt es sich um ein **instationäres Skalarfeld**.\n",
        "\n",
        "* Beispiele für Skalarfelder in der Physik sind der Luftdruck, die Temperatur, Dichte oder allgemein **Potentiale (= Skalarpotentiale)**.\n",
        "\n",
        "* Im Gegensatz zum Skalarfeld ordnet ein Vektorfeld jedem Punkt einen Vektor zu. Ein Skalarfeld ist das einfachste Tensorfeld"
      ]
    },
    {
      "cell_type": "markdown",
      "metadata": {
        "id": "FLeX-skuQC_8"
      },
      "source": [
        "**Vektorfeld**"
      ]
    },
    {
      "cell_type": "markdown",
      "metadata": {
        "id": "o3O9MS9VNgPz"
      },
      "source": [
        "**Der Gradient eines Skalarfeldes ist ein Vektorfeld (zB: Skalar ist die Temperatur in einem Pool, und Temperaturveranderung uber Zeit ist die erste Ableitung dessen und dann ein Vektorfeld), und die zweite Ableitung ist die Beschleunigung der Temperaturveranderung.**\n",
        "\n",
        "* In der mehrdimensionalen Analysis und der Differentialgeometrie ist ein [Vektorfeld](https://de.m.wikipedia.org/wiki/Vektorfeld) eine Funktion, die jedem Punkt eines Raumes einen Vektor zuordnet.\n",
        "\n",
        "* Eine Abbildung $V: D \\rightarrow \\mathbb{R}^{n}, D \\subseteq \\mathbb{R}^{n}$ mit n = 1,2,3..\n",
        "\n",
        "* Die Temperatur eines Swimmingpools ist ein Skalarfeld: Jedem Punkt wird der Skalarwert seiner Temperatur zugeordnet. Die Wasserbewegung entspricht dagegen einem Vektorfeld, da jedem Punkt ein Geschwindigkeitsvektor zugeordnet wird, der Betrag und Richtung hat.\n",
        "\n",
        "* Meist sind Vektorfelder stetig differenzierbar = Komponenten sind stetig differenzierbar, zB Vektor $v1$ mit (x,y,z) und ihren drei Ableitungen als Komponente des Vektorfeldes $V$\n",
        "\n",
        "* Das duale Konzept zu einem Vektorfeld ist eine Funktion, die jedem Punkt eine [Linearform](https://de.m.wikipedia.org/wiki/Linearform), [zB [stetige lineare Funktionale](https://de.m.wikipedia.org/wiki/Funktional#Stetige_lineare_Funktionale)] zuordnet, eine solche Abbildung wird [pfaffsche Form](https://de.m.wikipedia.org/wiki/Pfaffsche_Form) (One-Form) genannt. (Pfaffsche Formen sind die natürlichen Integranden für Wegintegrale.)"
      ]
    },
    {
      "cell_type": "markdown",
      "metadata": {
        "id": "HITrObGEbo2I"
      },
      "source": [
        "*Beispiele von Vektorfeldern*"
      ]
    },
    {
      "cell_type": "markdown",
      "metadata": {
        "id": "ilI3SG0Pb4xw"
      },
      "source": [
        "**Gradientenfeld**: Ist $f: \\Omega \\rightarrow \\mathbb{R}$ eine differenzierbare Funktion auf einer offenen Menge $\\Omega \\subset \\mathbb{R}^{n},$ so wird das Gradientenfeld grad $f: \\Omega \\rightarrow \\mathbb{R}^{n}$ von $f$ definiert durch die Zuordnung\n",
        "\n",
        ">$\n",
        "x \\mapsto \\operatorname{grad} f(x)=\\left(\\frac{\\partial f}{\\partial x_{1}}(x), \\ldots, \\frac{\\partial f}{\\partial x_{n}}(x)\\right)\n",
        "$\n",
        "\n",
        "Oft schreibt man es mit dem Nabla-Symbol: grad $f=\\nabla f$. **Ist ein Vektorfeld $v$ das Gradientenfeld einer Funktion $f$ (=Skalarfeld ist abgeleitet nach Ort), das heißt $v=\\nabla f,$ so bezeichnet man $f$ als Potential**. Man sagt auch $v$ besitzt ein Potential. Beispiele von Gradientenfeldern sind das von einer Punktquelle nach allen Seiten\n",
        "gleichmäßig fließende Feld einer Strömung und das elektrische Feld um eine Punktladung."
      ]
    },
    {
      "cell_type": "markdown",
      "metadata": {
        "id": "1djFC2M4cKnO"
      },
      "source": [
        "**Zentralfelder**: Sei $I$ ein Intervall, welches die Null enthält, und $K(I)=\\left\\{x \\in \\mathbb{R}^{n}:\\|x\\| \\in I\\right\\} \\subset \\mathbb{R}^{n}$ eine Kugelschale. Zentralfelder auf der Kugelschale sind definiert durch $v(x)=a(\\|x\\|) \\cdot x$ mit $a: I \\rightarrow \\mathbb{R}$. In $\\mathbb{R}^{3} \\backslash\\{0\\}$ ist das **Gravitationsfeld** $v(x)=-\\frac{x}{\\|x\\|^{3}}$ ein solches Zentralfeld.\n"
      ]
    },
    {
      "cell_type": "markdown",
      "metadata": {
        "id": "AWyWoFmfcM22"
      },
      "source": [
        "Weitere Beispiele sind im $\\mathbb{R}^{3}$ die mathematisch diffizileren sogenannten **\"Wirbelfelder\"**. Sie lassen sich als Rotation eines Vektorpotentials A beschreiben, nach der Formel $\\mathbf{v}(\\mathbf{r})=\\operatorname{rot} \\mathbf{A}(\\mathbf{s} . \\mathbf{u}) .$\n",
        "Prägnantes Beispiel eines Wirbelfeldes ist das in Kreislinien um den\n",
        "Ausfluss einer , Badewanne\" herumwirbelnde Strömungsfeld, oder das Magnetfeld um einen stromdurchflossenen Draht."
      ]
    },
    {
      "cell_type": "markdown",
      "metadata": {
        "id": "56sZZ-KLKsX_"
      },
      "source": [
        "*Konservatives bzw. wirbelfreies Vektorfeld*\n",
        "\n",
        "* In Physik sind conservative forces jene, wo es keine Friktion, Air resistance etc. gibt\n",
        "\n",
        "* Vektorfelder, die Gradienten eines Skalarfelds sind, werden in Anlehnung an den Begriff des „konservativen Kraftfelds“ oft auch als konservative Vektorfelder bezeichnet (siehe Eigenschaften unten unter Gradientenfeld)\n",
        "\n",
        "* Als [wirbelfrei bzw. konservativ](https://de.wikipedia.org/wiki/Wirbelfreies_Vektorfeld) wird in der Physik und Potentialtheorie ein Vektorfeld $\\vec{X}(\\vec{r})$ bezeichnet, in dem das **Kurvenintegral** $\n",
        "\\oint_{S} \\vec{X}(\\vec{r}) \\cdot \\mathrm{d} \\vec{s}=0$ für beliebige in sich geschlossene Randkurven $S$ stets den Wert null liefert. \n",
        "\n",
        "* Deutet man $\\vec{X}(\\vec{r})$ als Kraftfeld, so ist das Kurvenintegral die gesamte längs der Randkurve $S$ gegen die Kraft $\\vec{X}(\\vec{r})$ verrichtete Arbeit.\n",
        "\n",
        "* Wirbelfrei sind z. B. das ruhende elektrische Feld in der Elektrostatik und das Gravitationsfeld, aber auch Felder wie das Geschwindigkeitsfeld einer Potentialströmung.\n",
        "\n",
        "> Ist $\\vec{X}(\\vec{r})$ wirbelfrei, dann gilt: $\\operatorname{rot} \\vec{X}(\\vec{r})=\\overrightarrow{0}$\n",
        "d. h. die Rotation des Vektorfeldes ist gleich null. \n",
        "\n",
        "* Ist der Definitionsbereich einfach **zusammenhängend, so gilt auch die Umkehrung**.\n",
        "\n",
        "> Wirbelfreie Vektorfelder lassen sich stets als **Gradient eines zugrundeliegenden skalaren Felds** $\\Phi(\\vec{r})$ formulieren (siehe Gradientenfeld): $\n",
        "\\vec{X}(\\vec{r})=\\operatorname{grad} \\Phi(\\vec{r})=\\vec{\\nabla} \\Phi(\\vec{r})\n",
        "$\n",
        "\n",
        "* Daraus folgt, dass für das skalare Feld $\\Phi$ gilt: \n",
        "$\\operatorname{rot}(\\operatorname{grad} \\Phi(\\vec{r}))=\\overrightarrow{0}$ (**siehe auch unten auch Gradientfeld & Skalarpotenzial**)"
      ]
    },
    {
      "cell_type": "markdown",
      "metadata": {
        "id": "ZLH2-gTPd43O"
      },
      "source": [
        "*Quellenfreie und wirbelfreie Vektorfelder; Zerlegungssatz*\n",
        "\n",
        "Ein mindestens **zweimal stetig differenzierbares Vektorfeld** $\\mathbf{v}(\\mathbf{r})$ im $\\mathbb{R}^{3}$ heißt quellenfrei (beziehungsweise wirbelfrel), wenn seine **Quellendichte (Divergenz) beziehungsweise Wirbeldichte (Rotation) dort überall Null ist**. Unter der weiteren\n",
        "Voraussetzung, dass die Komponenten von $\\mathbf{v}$ im Unendlichen hinreichend rasch verschwinden, gilt der sogenannte Zerlegungssatz: Jedes Vektorfeld $\\mathbf{v}(\\mathbf{r})$ ist\n",
        "eindeutig durch seine Quellen bzw. Wirbel bestimmt, und zwar gilt die folgende\n",
        "Zerlegung in einen wirbelfreien beziehungsweise quellenfreien Anteil:\n",
        "\n",
        "> $\n",
        "\\mathbf{v}(\\mathbf{r}) \\equiv-\\operatorname{grad}_{\\mathbf{r}} \\int_{\\mathbb{R}^{3}} d^{3} \\mathbf{r}^{\\prime} \\frac{\\operatorname{div}^{\\prime} \\mathbf{v}\\left(\\mathbf{r}^{\\prime}\\right)}{4 \\pi\\left|\\mathbf{r}-\\mathbf{r}^{\\prime}\\right|}+\\operatorname{rot}_{\\mathbf{r}} \\int_{\\mathbb{R}^{3}} d^{3} \\mathbf{r}^{\\prime} \\frac{\\operatorname{rot}^{\\prime} \\mathbf{v}\\left(\\mathbf{r}^{\\prime}\\right)}{4 \\pi\\left|\\mathbf{r}-\\mathbf{r}^{\\prime}\\right|}\n",
        "$\n",
        "\n",
        "Dies entspricht der Zerlegung eines statischen elektromagnetischen Feldes in den elektrischen beziehungsweise magnetischen Anteil (siehe Elektrodynamik). Es sind also genau die Gradientenfelder (d. h. die , elektrischen Feldkomponenten\") wirbelfrei bzw. genau die Wirbelfelder (d. h. die ,magnetischen Feldkomponenten\") quellenfrei. Dabei sind grad $\\phi(\\mathbf{r}):=\\nabla \\phi,$ div $\\mathbf{v}:=\\nabla \\cdot \\mathbf{v}$ und rot $\\mathbf{v}:=\\nabla \\times \\mathbf{v}$ die bekannten, mit dem Nabla-Operator $(\\nabla)$ der Vektoranalysis\n",
        "gebildeten Operationen."
      ]
    },
    {
      "cell_type": "markdown",
      "metadata": {
        "id": "2T3n7jhWXtHv"
      },
      "source": [
        "**Gradientenfeld**"
      ]
    },
    {
      "cell_type": "markdown",
      "metadata": {
        "id": "i6-0Gw75XzxE"
      },
      "source": [
        "* Ein [Gradientenfeld](https://de.wikipedia.org/wiki/Gradientenfeld) **ist ein Vektorfeld, das aus einem Skalarfeld durch Differentiation nach dem Ort abgeleitet wurde**, bzw. – kürzer formuliert – der Gradient des Skalarfelds (= **ein Skalarfeld, das nach dem Ort abgeleitet wird, ist ein Gradientenfeld**, mit Skalarpotenzial inkl. angegeben).\n",
        "\n",
        "* Zur besseren Abgrenzung zwischen dem Gradienten als mathematischem Operator und dem Resultat seiner Anwendung bezeichnen manche Autoren die Vektoren, aus denen sich Gradientenfelder zusammensetzen, auch als Gradientvektoren, andere dagegen mit Blick auf die Potentiale, aus denen sie sich herleiten, als Potentialvektoren.\n",
        "\n",
        "* Analog verwendet die überwiegende Zahl der Autoren den Begriff Potentialfeld nicht für das skalare Feld des Potentials selbst, sondern das sich aus ihm ableitende Gradientenfeld\n",
        "\n",
        "> Ein Vektorfeld $\\vec{F}: \\vec{r} \\mapsto \\vec{F}(\\vec{r})$ heißt Gradientenfeld, wenn es ein Skalarfeld $\\Phi: \\vec{r} \\mapsto \\Phi(\\vec{r})$ gibt, so dass\n",
        "$\n",
        "\\vec{F}(\\vec{r})=\\vec{\\nabla} \\Phi(\\vec{r})\n",
        "$\n",
        "\n",
        "*  Dabei nennt man $\\Phi$  das zu $F$ gehörige **Skalarpotential** oder einfach kurz das „Potential“ des Gradientenfelds \n",
        "${\\vec {F}}$. (*Der Begriff darf jedoch nicht mit dem physikalischen Begriff des „Potentials“ verwechselt werden, mit dem die Fähigkeit eines konservativen Kraftfelds bezeichnet wird, einen dem Feld ausgesetzten Körper eine Arbeit verrichten zu lassen.*)"
      ]
    },
    {
      "cell_type": "markdown",
      "metadata": {
        "id": "2a1CyVnAX8Xu"
      },
      "source": [
        "**Vektorfelder, die Gradienten eines Skalarfelds sind**, werden in Anlehnung an den Begriff des „konservativen Kraftfelds“ oft auch als **konservative Vektorfelder** bezeichnet - ihnen allen gemeinsam sind dabei die folgenden drei einander äquivalenten Eigenschaften:\n",
        "\n",
        "1. **Wegunabhängigkeit des Kurvenintegrals**: Der Wert des Kurvenintegrals entlang einer beliebigen Kurve $S$ innerhalb des Feldes ist nur von ihrem Anfangs- und Endpunkt abhängig, nicht dagegen von ihrer Länge.\n",
        "\n",
        "2. **Verschwinden des Ringintegrals für beliebige Randkurven** $S$ :\n",
        "$\n",
        "\\oint_{S} \\operatorname{grad} \\Phi(\\vec{r}) \\mathrm{d} \\vec{r}=\\oint_{S} \\vec{F}(\\vec{r}) \\mathrm{d} \\vec{r}=0\n",
        "$\n",
        "\n",
        "3. **Generelle Rotationsfreiheit bzw. Wirbelfreiheit** des Feldes:\n",
        "$\\operatorname{rot}(\\operatorname{grad} \\Phi(\\vec{r}))=\\operatorname{rot} \\vec{F}(\\vec{r})=\\vec{\\nabla} \\times \\vec{F}(\\vec{r})=\\overrightarrow{0}$\n"
      ]
    },
    {
      "cell_type": "markdown",
      "metadata": {
        "id": "uTlqgkPgcyej"
      },
      "source": [
        "#### **Potentiale (Skalar, Vektor)**"
      ]
    },
    {
      "cell_type": "markdown",
      "metadata": {
        "id": "YUy8UbeIYqx1"
      },
      "source": [
        "**Skalarpotential**"
      ]
    },
    {
      "cell_type": "markdown",
      "metadata": {
        "id": "1NleEXk9Z_pB"
      },
      "source": [
        "Das [Skalarpotential](https://de.wikipedia.org/wiki/Skalarpotential), oft einfach auch nur Potential genannt, ist in der Mathematik ein - im Unterschied zum Vektorpotential - skalares Feld $\\Phi(\\vec{r})$, dessen Gradient gemäß folgender Formel\n",
        "\n",
        "> $\n",
        "\\vec{F}(\\vec{r})=\\operatorname{grad} \\Phi(\\vec{r})=\\vec{\\nabla} \\Phi(\\vec{r})\n",
        "$\n",
        "\n",
        "ein als \"Gradientenfeld\" genanntes Vektorfeld $\\vec{F}(\\vec{r})$ liefert. \n",
        "\n",
        "Kurz: **Die erste Ableitung des Skalarpotentials (= ein Skalarfeld) ergibt das Gradientenfeld (= ein spezielles Vektorfeld).**\n",
        "\n",
        "* Ist $\\vec{F}(\\vec{r})$ ein **konservatives** Kraftfeld, in dem die Kraft $\\vec{F}$ dem Prinzip des kleinsten Zwanges folgend stets der Richtung des maximalen Anstiegs des Potentials $\\Phi$ entgegengerichtet ist, gilt alternativ die Definition\n",
        "$\n",
        "\\vec{F}(\\vec{r})=-\\operatorname{grad} \\Phi(\\vec{r})=-\\vec{\\nabla} \\Phi(\\vec{r})\n",
        "$\n",
        "\n",
        "* Skalarpotentiale bilden u. a. die mathematische Grundlage der Untersuchung konservativer Kraftfelder wie des elektrischen und des Gravitationsfelds, aber auch von wirbelfreien sogenannten Potentialströmungen."
      ]
    },
    {
      "cell_type": "markdown",
      "metadata": {
        "id": "scez_eQlbpPg"
      },
      "source": [
        "**Ein Skalarfeld $\\Phi: \\vec{r} \\mapsto \\Phi(\\vec{r})$ ist genau dann ein Skalarpotential**, wenn es in einem einfach zusammenhängenden Gebiet\n",
        "\n",
        "1. zweimal stetig differenzierbar ist, das heißt keine , Sprünge\", Stufen oder andere\n",
        "Unstetigkeitsstellen enthält;\n",
        "\n",
        "2. zu ihm ein Vektorfeld $\\vec{F}: \\vec{r} \\mapsto \\vec{F}(\\vec{r})$ existiert, so dass gilt:\n",
        "$\\vec{F}(\\vec{r})=\\operatorname{grad} \\Phi(\\vec{r})=\\vec{\\nabla} \\Phi(\\vec{r})$\n",
        "\n",
        "$\\vec{F}$ wird daher oft auch das zugehörige Gradientenfeld genannt, das als Gradient des Skalarpotentials $\\Phi$ seinerseits stets folgende Bedingungen erfüllt:\n",
        "\n",
        "1. **Wegunabhängigkeit des Kurvenintegrals**: Der Wert des Kurvenintegrals entlang einer beliebigen Kurve S innerhalb des Feldes ist nur von ihrem Anfangs- und Endpunkt abhängig, nicht dagegen von ihrer Länge.\n",
        "\n",
        "2. **Verschwinden des geschlossenen Kurvenintegrals für beliebige Randkurven S**:\n",
        "$\\oint_{S} \\operatorname{grad} \\Phi(\\vec{r}) \\mathrm{d} \\vec{r}=\\oint_{S} \\vec{F}(\\vec{r}) \\mathrm{d} \\vec{r}=0$\n",
        "\n",
        "3. **Generelle Rotationsfreiheit bzw. Wirbelfreiheit des Feldes**:\n",
        "$\\operatorname{rot}(\\operatorname{grad} \\Phi(\\vec{r}))=\\operatorname{rot} \\vec{F}(\\vec{r})=\\vec{\\nabla} \\times \\vec{F}(\\vec{r})=\\overrightarrow{0}$"
      ]
    },
    {
      "cell_type": "markdown",
      "metadata": {
        "id": "msznOfm3bCGA"
      },
      "source": [
        "![cc](https://upload.wikimedia.org/wikipedia/commons/d/d9/GravityPotential.jpg)\n",
        "\n",
        "*Das Gravitationspotential einer homogenen Kugel*"
      ]
    },
    {
      "cell_type": "markdown",
      "metadata": {
        "id": "EuqLkrgCPdB1"
      },
      "source": [
        "*(Skalar-) Potential bei Kurvenintegralen in $\\mathbb{R}^{3}$*\n",
        "\n",
        "* Ein [Skalarpotential](https://de.wikipedia.org/wiki/Skalarpotential) ist eine reelle Funktion, die auf einem einfach zusammenhängenden Gebiet zwei mal stetig differenzierbar ist. \n",
        "\n",
        "* **Wenn ein Vektorfeld so ein Potential besitzt, lassen sich viele Rechnungen mit z.B. Kurvenintegralen vereinfachen**. Man kann dieses Potential berechnen.\n",
        "\n",
        "Wenn es eine Funktion F : d -> $\\mathbb{R}$ gibt, mit (Nabla ist der Tangent der Funktion mit den drei Komponenten x,y,z): \n",
        "\n",
        "> $\\vec{\\nabla} F(x, y, z)=\\vec{v}(x, y, z)=\\left(\\begin{array}{l}v_{1}(x, y, z) \\\\ v_{2}(x, y, z) \\\\ v_{3}(x, y, z)\\end{array}\\right)$\n",
        "\n",
        "* Anmerkungen:\n",
        "\n",
        "  * leiten wir Nabla in die x-Richtung ab, bekommt man v1, fur y-Richtung v2 und fur z-Richtung v3\n",
        "\n",
        "  * ist wie die Stammfunktion, bezeichnet man hier aber als Potential\n",
        "\n",
        "> so gilt fur Kurve $\\gamma:[a, b] \\rightarrow R^{3}$,\n",
        "\n",
        "  * Kurvenintegral ist unabhängig vom gewaehlten Weg, man kann verschiedene gehen. Wichtig ist nur von a nach b zu kommen.\n",
        "\n",
        "* Nabla berechnen und es kommt Vektorfeld als Ergebnis heraus. **Solch eine Funktion F heisst Stammfunktion bzw. Potenzial zum Vektorfeld $\\vec{v}$.**\n",
        "\n",
        "* Ein Vektorfeld $\\vec{v}$ das eine solche Stammfunktion hat, nennt man '**konservativ**' (dann kann man so ein Kointegral leicht ausrechnen)."
      ]
    },
    {
      "cell_type": "markdown",
      "metadata": {
        "id": "mrnWapTgOqWX"
      },
      "source": [
        "Wichtiger Satz: Auf einem **einfach zusammenhängenden** Gebiet $G \\subseteq \\mathbb{R}^{3}$ (=keine Löcher, alle Kurven die geschlossen sind kann man immer kleiner zusammenziehen) hat ein stetig differenzierbares Vektorfeld $\\vec{v}$ : G -> ${R}^{3}$ genau dann ein Potential, wenn $\\frac{\\partial v_{j}}{\\partial x_{k}}=\\frac{\\partial v_{k}}{\\partial x_{j}} \\quad$ fur alle $j, k=1,2,3$. \n",
        "\n",
        "In drei Dimension, weil man das oft in Rotationen anwendet / ist aquivalent zu $\\operatorname{rot}(\\vec{v})=0$ (ich muss nur die Rotation ausrechnen, und weiss dann ob das Vektorfeld ein konservatives ist oder nicht, hat also eine Stammfunktion oder nicht)."
      ]
    },
    {
      "cell_type": "markdown",
      "metadata": {
        "id": "lQWLOqidYl8z"
      },
      "source": [
        "https://www.youtube.com/watch?v=KPRvYY9WXGg&list=PLBh2i93oe2quqhn4TZjMnBM2v7lG5QhDD&index=9"
      ]
    },
    {
      "cell_type": "markdown",
      "metadata": {
        "id": "2de7qmNDYkPv"
      },
      "source": [
        "https://www.youtube.com/watch?v=aM4ktp8yO-s"
      ]
    },
    {
      "cell_type": "markdown",
      "metadata": {
        "id": "j2od0Mz9XkRX"
      },
      "source": [
        "https://de.wikipedia.org/wiki/Skalarpotential"
      ]
    },
    {
      "cell_type": "markdown",
      "metadata": {
        "id": "ybqAMWlqJu7y"
      },
      "source": [
        "**Vektorpotential**"
      ]
    },
    {
      "cell_type": "markdown",
      "metadata": {
        "id": "K2pH152ScafZ"
      },
      "source": [
        "**Ist ein Vektorfeld $v$ das Gradientenfeld einer Funktion $f,$ das heißt $v=\\nabla f$  (=Skalarfeld ist abgeleitet nach Ort), so bezeichnet man $f$ als Potential**.\n",
        "\n",
        "* Wirbelfelder, die Rotationen eines anderen Vektorfelds sind, sind stets quellenfrei – quellenfreie Vektorfelder können daher umgekehrt immer auch als Rotation eines anderen Vektorfelds interpretiert werden, das man in diesem Fall als „Vektorpotential“ des betreffenden quellenfreien Vektorfelds bezeichnet\n",
        "\n",
        "* Mathematisch ist das Vektorpotential (im Unterschied zum Skalarpotential) ein Vektorfeld $\\mathbf{A}(\\mathbf{r}),$ dessen Rotation ein zweites Vektorfeld $\\mathbf{B}(\\mathbf{r})$ liefert gemäß folgender Formel:\n",
        "\n",
        "> $\n",
        "\\mathbf{B}(\\mathbf{r}) \\stackrel{\\text { def }}{=} \\operatorname{rot} \\mathbf{A}(\\mathbf{r})=\\nabla \\times \\mathbf{A}(\\mathbf{r})\n",
        "$"
      ]
    },
    {
      "cell_type": "markdown",
      "metadata": {
        "id": "qeHrm5Yc8Hur"
      },
      "source": [
        "Vektorpotentiale lassen sich u. a. dazu verwenden, die zur Beschreibung des elektromagnetischen Felds verwendeten Maxwell-Gleichungen zu entkoppeln und dadurch leichter lösbar zu machen.\n",
        "\n",
        "Obwohl es zunächst nur als mathematisches Hilfsmittel eingeführt wurde, kommt ihm in der Quantenmechanik physikalische Realität zu, wie das [Aharonov-Bohm-Experiment](https://de.wikipedia.org/wiki/Aharonov-Bohm-Effekt) zeigte."
      ]
    },
    {
      "cell_type": "markdown",
      "metadata": {
        "id": "63WNYqjy8X76"
      },
      "source": [
        "**Beziehungen zwischen Vektor- und Skalarpotential**: Gemäß dem helmholtzschen Theorem kann (fast) jedes Vektorfeld $\\mathrm{K}(\\mathrm{r})$ \n",
        "\n",
        "* als **Superposition zweier Komponenten $\\mathbf{F}(\\mathbf{r})$ und $\\mathbf{G}(\\mathbf{r})$ aufgefasst werden**, \n",
        "\n",
        "* deren erste der Gradient eines Skalarpotentials $\\Phi(\\mathbf{r})$ ist, die zweite dagegen die Rotation eines Vektorpotentials $\\mathbf{\\Gamma}(\\mathbf{r}):$\n",
        "\n",
        "> $\n",
        "\\mathbf{K}(\\mathbf{r})=\\mathbf{F}(\\mathbf{r})+\\mathbf{G}(\\mathbf{r})=\\operatorname{grad} \\Phi(\\mathbf{r})+\\operatorname{rot} \\mathbf{\\Gamma}(\\mathbf{r})=\\nabla \\Phi(\\mathbf{r})+\\nabla \\times \\mathbf{\\Gamma}(\\mathbf{r})\n",
        "$\n",
        "\n",
        "* Ist $\\mathbf{F}(\\mathbf{r})$ ein konservatives Kraftfeld, in dem die Kraft $\\mathbf{F}$ dem [Prinzip des kleinsten Zwanges](https://de.wikipedia.org/wiki/Prinzip_des_kleinsten_Zwanges) folgend stets der Richtung des maximalen Anstiegs des Potentials $\\Phi$ entgegengerichtet ist, gilt alternativ die Schreibweise\n",
        "\n",
        "> $\n",
        "\\mathbf{K}(\\mathbf{r})=\\mathbf{F}(\\mathbf{r})+\\mathbf{G}(\\mathbf{r})=-\\operatorname{grad} \\Phi(\\mathbf{r})+\\operatorname{rot} \\mathbf{\\Gamma}(\\mathbf{r})=-\\nabla \\Phi(\\mathbf{r})+\\nabla \\times \\mathbf{\\Gamma}(\\mathbf{r})\n",
        "$"
      ]
    },
    {
      "cell_type": "markdown",
      "metadata": {
        "id": "NNahSbyncc2R"
      },
      "source": [
        "https://de.wikipedia.org/wiki/Skalarpotential#Beziehungen_zwischen_Skalar-_und_Vektorpotential"
      ]
    },
    {
      "cell_type": "markdown",
      "metadata": {
        "id": "rh0bxMZQXmXO"
      },
      "source": [
        "https://de.wikipedia.org/wiki/Vektorpotential"
      ]
    },
    {
      "cell_type": "markdown",
      "metadata": {
        "id": "3HEOBISTrpoC"
      },
      "source": [
        "#### **Differentialoperatoren (Rotation, Divergenz, Gradient)**"
      ]
    },
    {
      "cell_type": "markdown",
      "metadata": {
        "id": "FFKlWj90F3T4"
      },
      "source": [
        "Die drei kovarianten Differentialoperatoren"
      ]
    },
    {
      "cell_type": "markdown",
      "metadata": {
        "id": "L-vCM9-DX-j2"
      },
      "source": [
        "**Differentialoperator**"
      ]
    },
    {
      "cell_type": "markdown",
      "metadata": {
        "id": "H0-zFQD_Y17-"
      },
      "source": [
        "Rechenoperationen in der Vektoranalysis"
      ]
    },
    {
      "cell_type": "markdown",
      "metadata": {
        "id": "-gyJV3RVZ5gc"
      },
      "source": [
        "**Folgende drei Rechenoperationen sind in der Vektoranalysis von besonderer Bedeutung**, weil sie Felder produzieren, die sich bei räumlicher Drehung des ursprünglichen Feldes mitdrehen. Operativ formuliert: Bei Gradient, Rotation und Divergenz **spielt es keine Rolle, ob sie vor oder nach einer Drehung angewendet werden**. Diese Eigenschaft folgt aus den **koordinatenunabhängigen** Definitionen. "
      ]
    },
    {
      "cell_type": "markdown",
      "metadata": {
        "id": "XpGcMJaKroS6"
      },
      "source": [
        "**Differential**: Der [**Differentialoperator**](https://de.wikipedia.org/wiki/Differentialoperator) $\\frac{\\mathrm{d}}{\\mathrm{d} x}$ zur Bildung von [Differentialen](https://de.wikipedia.org/wiki/Differential_(Mathematik)) (ist eine Funktion, die einer Funktion eine Funktion zuordnet und die Ableitung nach einer oder mehreren Variablen enthält.).\n",
        "\n",
        "  * [Gradient](https://de.wikipedia.org/wiki/Gradient_(Mathematik)): Gibt die Richtung und Stärke des steilsten Anstiegs eines Skalarfeldes an. Der Gradient eines Skalarfeldes ist ein Vektorfeld. $\\operatorname{grad} \\phi:=\\vec{\\nabla} \\phi=\\left(\\begin{array}{c}\\frac{\\partial \\phi}{\\partial x} \\\\ \\frac{\\partial \\phi}{\\partial y} \\\\ \\frac{\\partial \\phi}{\\partial z}\\end{array}\\right)$\n",
        "\n",
        "  * [Divergenz](https://de.wikipedia.org/wiki/Divergenz_eines_Vektorfeldes): Gibt die Tendenz eines Vektorfeldes an, von Punkten wegzufließen. $\\operatorname{div} \\vec{F}:=\\vec{\\nabla} \\cdot \\vec{F}=\\frac{\\partial F_{x}}{\\partial x}+\\frac{\\partial F_{y}}{\\partial y}+\\frac{\\partial F_{z}}{\\partial z}$\n",
        "\n",
        "  * [Rotation](https://de.wikipedia.org/wiki/Rotation_eines_Vektorfeldes): Gibt die Tendenz eines Vektorfeldes an, um Punkte zu rotieren. $\\operatorname{rot} \\vec{F}:=\\vec{\\nabla} \\times \\vec{F}=\\left(\\begin{array}{c}\\frac{\\partial F_{z}}{\\partial y}-\\frac{\\partial F_{y}}{\\partial z} \\\\ \\frac{\\partial F_{x}}{\\partial z}-\\frac{\\partial F_{z}}{\\partial x} \\\\ \\frac{\\partial F_{y}}{\\partial x}-\\frac{\\partial F_{x}}{\\partial y}\\end{array}\\right)$"
      ]
    },
    {
      "cell_type": "markdown",
      "metadata": {
        "id": "v-XFwoBXDaqt"
      },
      "source": [
        "Interpretiert man das Vektorfeld als Strömungsfeld einer Größe, für die die Kontinuitätsgleichung gilt, dann ist die [Divergenz](https://physik.cosmos-indirekt.de/Physik-Schule/Divergenz_eines_Vektorfeldes) die Quelldichte. Senken haben negative Divergenz. Ist die Divergenz überall gleich null, so bezeichnet man das Feld als quellenfrei."
      ]
    },
    {
      "cell_type": "markdown",
      "metadata": {
        "id": "DSvDHxVmgzEU"
      },
      "source": [
        "Der [**Laplace-Operator**](https://de.wikipedia.org/wiki/Laplace-Operator) ist ein linearer Differentialoperator innerhalb der [mehrdimensionalen Analysis](https://de.wikipedia.org/wiki/Analysis#Mehrdimensionale_reelle_Analysis) ($\\Delta \\colon D(\\Delta )\\to L^{2}(\\mathbb{R} ^{n})$ und ein unbeschränkter Operator). Der Laplace-Operator kommt in vielen Differentialgleichungen vor, die das Verhalten physikalischer Felder beschreiben. Beispiele sind die Poisson-Gleichung der Elektrostatik, die **Navier-Stokes-Gleichungen** für Strömungen von Flüssigkeiten oder Gasen und die Diffusionsgleichung für die Wärmeleitung.\n",
        "\n",
        "Der Laplace-Operator ordnet einem zweimal differenzierbaren Skalarfeld $f$ **die Divergenz seines Gradienten zu**,\n",
        "\n",
        ">$\n",
        "\\Delta f=\\operatorname{div}(\\operatorname{grad} f)\n",
        "$\n",
        "\n",
        "oder mit dem Nabla-Operator notiert\n",
        "\n",
        ">$\n",
        "\\Delta f=\\nabla \\cdot(\\nabla f)=(\\nabla \\cdot \\nabla) f=\\nabla^{2} f\n",
        "$"
      ]
    },
    {
      "cell_type": "markdown",
      "metadata": {
        "id": "EvwBG9AzZb-C"
      },
      "source": [
        "[**Kovariant**](https://de.wikipedia.org/wiki/Kovarianz_(Physik)) nennt man ein Transformationsverhalten, bei dem sich die Basisvektoren und die darin dargestellten Vektoren (Größen) in gleicher Weise transformieren. **Kontravariant** nennt man ein Transformationsverhalten, wenn sich die Basisvektoren und die darin dargestellten Vektoren (Größen) in unterschiedlicher Weise transformieren.\n",
        "\n",
        "Das kovariante Transformationsverhalten garantiert die Formerhaltung von Gleichungen beim Wechsel des Bezugsystems (Koordinatensystems) bzw. bei Gruppentransformationen. Diese Aussagen gelten auch für die tensorielle Schreibweise.\n",
        "\n",
        "Zum Beispiel: Unter Galilei-Transformationen transformieren sich die Beschleunigung und die Kraft in den newtonschen Bewegungsgleichungen im gleichen Sinne wie die Ortsvektoren. Daher sind die Newtonschen Bewegungsgleichungen und damit die klassische Mechanik kovariant bzgl. der Gruppe der Galilei-Transformationen."
      ]
    },
    {
      "cell_type": "markdown",
      "metadata": {
        "id": "u0Zw_t0Ptro-"
      },
      "source": [
        "**Nabla-Operator**"
      ]
    },
    {
      "cell_type": "markdown",
      "metadata": {
        "id": "LHqNsnOYsVdm"
      },
      "source": [
        "*Koordinatenunabhängige Definition mit dem Nabla-Operator*\n",
        "\n",
        "* Der [Nabla-Operator](https://de.wikipedia.org/wiki/Nabla-Operator) ist ein Symbol, das in der Vektor- und Tensoranalysis benutzt wird, um kontextabhängig einen der drei Differentialoperatoren Gradient, Divergenz oder Rotation zu notieren.\n",
        "\n",
        "* [**Nabla Operator**](https://de.wikipedia.org/wiki/Nabla-Operator) $\\nabla$ zur Bestimmung des Gradienten einer mehrdimensionalen Funktion. Mit einem der drei **Differentialoperatoren**.\n",
        "\n",
        "* Der Nabla-Operator ist auch in anderen Koordinatensystemen definiert und so kann mit ihm zum Beispiel die Rotation [koordinatenunabhängig](https://de.wikipedia.org/wiki/Rotation_eines_Vektorfeldes#Koordinatenunabhängige_Definition_mit_dem_Nabla-Operator) durch \n",
        "\n",
        "> $\\operatorname{rot} \\vec{F}:=\\nabla \\times \\vec{F}$\n",
        "\n",
        "definiert werden. Mit dem Nabla-Operator können auch der Gradient- sowie die Divergenz eines Vektorfeldes dargestellt und Produktregeln hergeleitet werden.\n",
        "\n",
        "Formal ist der Nabla-Operator ein Vektor, dessen Komponenten die partiellen\n",
        "Ableitungsoperatoren $\\frac{\\partial}{\\partial x_{i}}$ sind:\n",
        "\n",
        "> $\n",
        "\\vec{\\nabla}=\\left(\\frac{\\partial}{\\partial x_{1}}, \\ldots, \\frac{\\partial}{\\partial x_{n}}\\right)\n",
        "$"
      ]
    },
    {
      "cell_type": "markdown",
      "metadata": {
        "id": "b2zTmFCuVE-u"
      },
      "source": [
        "**Rotation**"
      ]
    },
    {
      "cell_type": "markdown",
      "metadata": {
        "id": "dP_Y-_K6qxVV"
      },
      "source": [
        "* Als [Rotation oder Rotor](https://de.wikipedia.org/wiki/Rotation_eines_Vektorfeldes) bezeichnet man in der Vektoranalysis, einem Teilgebiet der Mathematik, einen bestimmten Differentialoperator, der einem Vektorfeld im dreidimensionalen euklidischen Raum mit Hilfe der Differentiation ein neues Vektorfeld zuordnet.\n",
        "\n",
        "* Die Rotation eines [Strömungsfeldes](https://de.wikipedia.org/wiki/Strömungsfeld) gibt für jeden Ort das Doppelte der Winkelgeschwindigkeit an, mit der sich ein mitschwimmender Körper dreht („rotiert“). Dieser Zusammenhang ist namensgebend.\n",
        "\n",
        "* Es muss sich aber nicht immer um ein Geschwindigkeitsfeld und eine Drehbewegung handeln; beispielsweise betrifft das Induktionsgesetz die Rotation des elektrischen Feldes.\n",
        "\n",
        "* [Rotation](https://de.wikipedia.org/wiki/Rotation_eines_Vektorfeldes): Gibt die Tendenz eines Vektorfeldes an, um Punkte zu rotieren. $\\operatorname{rot} \\vec{F}:=\\vec{\\nabla} \\times \\vec{F}=\\left(\\begin{array}{c}\\frac{\\partial F_{z}}{\\partial y}-\\frac{\\partial F_{y}}{\\partial z} \\\\ \\frac{\\partial F_{x}}{\\partial z}-\\frac{\\partial F_{z}}{\\partial x} \\\\ \\frac{\\partial F_{y}}{\\partial x}-\\frac{\\partial F_{x}}{\\partial y}\\end{array}\\right)$\n",
        "\n",
        "* Siehe auch [Koordinatentransformation](https://de.wikipedia.org/wiki/Koordinatentransformation#Drehung_(Rotation)) sowie [Drehmatrix](https://de.wikipedia.org/wiki/Drehmatrix)"
      ]
    },
    {
      "cell_type": "markdown",
      "metadata": {
        "id": "x9e3prN3rXj-"
      },
      "source": [
        "**Divergenz**"
      ]
    },
    {
      "cell_type": "markdown",
      "metadata": {
        "id": "GRwBaz9bh-qg"
      },
      "source": [
        "* Die [Divergenz eines Vektorfeldes](https://de.wikipedia.org/wiki/Divergenz_eines_Vektorfeldes) ist ein Skalarfeld, das an jedem Punkt angibt, wie sehr die Vektoren in einer kleinen Umgebung des Punktes auseinanderstreben (lateinisch divergere). \n",
        "\n",
        "* Interpretiert man das Vektorfeld als Strömungsfeld einer Größe, für die die Kontinuitätsgleichung gilt, dann ist die Divergenz die Quelldichte. Senken haben negative Divergenz. Ist die Divergenz überall gleich null, so bezeichnet man das Feld als quellenfrei.\n",
        "\n",
        "* Man betrachtet zum Beispiel eine ruhige Wasseroberfläche, auf die ein dünner Strahl Öl trifft. Die Bewegung des Öls auf der Oberfläche kann durch ein zweidimensionales (zeitabhängiges) Vektorfeld beschrieben werden: An jedem Punkt ist zu jedem beliebigen Zeitpunkt die Fließgeschwindigkeit des Öls in Form eines Vektors gegeben. Die Stelle, an der der Strahl auf die Wasseroberfläche trifft, ist eine „Ölquelle“, da von dort Öl wegfließt, ohne dass es einen Zufluss auf der Oberfläche geben würde. Die Divergenz an dieser Stelle ist positiv. Im Gegensatz dazu bezeichnet man eine Stelle, an der das Öl beispielsweise am Rand aus dem Wasserbecken abfließt, als Senke. Die Divergenz an dieser Stelle ist negativ.\n"
      ]
    },
    {
      "cell_type": "markdown",
      "metadata": {
        "id": "UGSV9UrCvfQh"
      },
      "source": [
        "**Gradient**"
      ]
    },
    {
      "cell_type": "markdown",
      "metadata": {
        "id": "O844e1Y6yuPP"
      },
      "source": [
        "* Der Gradient als Operator verallgemeinert die bekannten Gradienten, die den Verlauf von physikalischen Größen beschreiben. \n",
        "\n",
        "* **Als Differentialoperator kann er beispielsweise auf ein Skalarfeld angewandt werden und wird in diesem Fall ein Vektorfeld liefern, das Gradientenfeld genannt wird.**\n",
        "\n",
        "* Der Gradient ist eine Verallgemeinerung der Ableitung in der mehrdimensionalen Analysis. Zur besseren Abgrenzung zwischen Operator und Resultat seiner Anwendung bezeichnet man solche Gradienten skalarer Feldgrößen in manchen Quellen auch als Gradientvektoren."
      ]
    },
    {
      "cell_type": "markdown",
      "metadata": {
        "id": "ExMsKuyqyziD"
      },
      "source": [
        "*Gradientenfeld*\n",
        "\n",
        "Ein [Gradientenfeld](https://de.wikipedia.org/wiki/Gradientenfeld) **ist ein Vektorfeld**, das aus einem Skalarfeld durch Differentiation nach dem Ort abgeleitet wurde, bzw. – kürzer formuliert – der Gradient des Skalarfelds."
      ]
    },
    {
      "cell_type": "markdown",
      "metadata": {
        "id": "fzwtAAJ2vik-"
      },
      "source": [
        "https://de.wikipedia.org/wiki/Gradient_(Mathematik)"
      ]
    },
    {
      "cell_type": "markdown",
      "metadata": {
        "id": "-4njkcQPvoYD"
      },
      "source": [
        "https://de.wikipedia.org/wiki/Gradient"
      ]
    },
    {
      "cell_type": "markdown",
      "metadata": {
        "id": "R68NS5iUvjnn"
      },
      "source": [
        "https://de.wikipedia.org/wiki/Partielle_Ableitung"
      ]
    },
    {
      "cell_type": "markdown",
      "metadata": {
        "id": "Vcm5d0r2fDD0"
      },
      "source": [
        "**Fundamentalzerlegung (Fundamentalsatz der Vektoranalysis)**"
      ]
    },
    {
      "cell_type": "markdown",
      "metadata": {
        "id": "nE9TPhq5fEux"
      },
      "source": [
        "* der [Helmholtzscher Zerlegungssatz](https://de.m.wikipedia.org/wiki/Helmholtz-Theorem) ist der Fundamentalsatz der Vektoranalysis. Beschreibt den allgemeinen Fall. \n",
        "\n",
        "* Jedes Vektorfeld $\\vec{F}$ lässt sich als eine Überlagerung eines Quellenanteils $\\vec{F}_{Q}$ und eines Wirbelanteils $\\vec{F}_{W}$ beschreiben."
      ]
    },
    {
      "cell_type": "markdown",
      "metadata": {
        "id": "ArSX-a3HWv_P"
      },
      "source": [
        "#### **Mehrdimensionale Integration (Kurven, Oberflächen, Volumen)**"
      ]
    },
    {
      "cell_type": "markdown",
      "metadata": {
        "id": "PUq40bq5F6GH"
      },
      "source": [
        "Mehrdimensionale Integration im Skalar- & Vektorfeld\n",
        "\n",
        "* zB zur Berechnung der Laenge einer Kurve (zB an einer Spirale), die Oberflache eines Volumens, der Masse eines Koerpers"
      ]
    },
    {
      "cell_type": "markdown",
      "metadata": {
        "id": "uimHevy5O9az"
      },
      "source": [
        "https://www.youtube.com/watch?v=H1Pj4SMVZ8s"
      ]
    },
    {
      "cell_type": "markdown",
      "metadata": {
        "id": "dolnoE19IyYG"
      },
      "source": [
        "##### **Kurvenintegral**"
      ]
    },
    {
      "cell_type": "markdown",
      "metadata": {
        "id": "ILqKxv9BF4QY"
      },
      "source": [
        "https://www.youtube.com/watch?v=d_UX4_0KIGY"
      ]
    },
    {
      "cell_type": "markdown",
      "metadata": {
        "id": "HxEoDCIYLOem"
      },
      "source": [
        "* z.B. zur Berechnung des Umfangs eines Objekts. welche Kraft ist noetig, um durch ein Vektorfeld auf einer Kurve entlang zu gehen?\n",
        "\n",
        "* Das [Kurven-, Linien-, Weg- oder Konturintegral](https://de.wikipedia.org/wiki/Kurvenintegral) erweitert den gewöhnlichen Integralbegriff für die Integration \n",
        "\n",
        "  * in der komplexen Ebene (Funktionentheorie) oder \n",
        "  \n",
        "  * im mehrdimensionalen Raum (Vektoranalysis).\n",
        "\n",
        "* Den Weg, die Linie oder die Kurve, über die integriert wird, nennt man den Integrationsweg.\n",
        "\n",
        "* Wegintegrale über geschlossene Kurven werden auch als Ringintegral, Umlaufintegral oder Zirkulation bezeichnet und mit dem Symbol \n",
        "∮ bzw. $\\textstyle \\oint$  geschrieben."
      ]
    },
    {
      "cell_type": "markdown",
      "metadata": {
        "id": "w3Oybmkc-zAl"
      },
      "source": [
        "Auch Linienintegral. Berechne z.B. den kurzesten Weg zwischen zwei Punkten unter Berucksichtigung der Geschwindigkeit (eine gerade Linie ist nicht immer der kurzeste Weg oder ein moglicher Weg)."
      ]
    },
    {
      "cell_type": "markdown",
      "metadata": {
        "id": "u_jWgM7A9OMt"
      },
      "source": [
        "![ff](https://upload.wikimedia.org/wikipedia/commons/4/42/Line_integral_of_scalar_field.gif)\n",
        "\n",
        "*The line integral over a scalar field f can be thought of as the area under the curve C along a surface z = f(x,y), described by the field*"
      ]
    },
    {
      "cell_type": "markdown",
      "metadata": {
        "id": "j2b6mZKu-Pe1"
      },
      "source": [
        "![xx](https://raw.githubusercontent.com/deltorobarba/repo/master/kurvenintegral_01.png)"
      ]
    },
    {
      "cell_type": "markdown",
      "metadata": {
        "id": "7pyf0MPG-VkL"
      },
      "source": [
        "![xx](https://raw.githubusercontent.com/deltorobarba/repo/master/kurvenintegral_02.png)"
      ]
    },
    {
      "cell_type": "markdown",
      "metadata": {
        "id": "hNdoF6CN-ucN"
      },
      "source": [
        "![xx](https://raw.githubusercontent.com/deltorobarba/repo/master/kurvenintegral_03.png)"
      ]
    },
    {
      "cell_type": "markdown",
      "metadata": {
        "id": "GNcecwnJ-vac"
      },
      "source": [
        "![xx](https://raw.githubusercontent.com/deltorobarba/repo/master/kurvenintegral_04.png)"
      ]
    },
    {
      "cell_type": "markdown",
      "metadata": {
        "id": "2F0Cp7AP-wRr"
      },
      "source": [
        "![xx](https://raw.githubusercontent.com/deltorobarba/repo/master/kurvenintegral_05.png)"
      ]
    },
    {
      "cell_type": "markdown",
      "metadata": {
        "id": "1_lY1plvJOZ-"
      },
      "source": [
        "**Kurvenintegral 1. Art (über Skalarfelder, nicht-orientiert)**"
      ]
    },
    {
      "cell_type": "markdown",
      "metadata": {
        "id": "j2Y7uIIJGQcJ"
      },
      "source": [
        "* zB zur Berechnung der Masse eines Drahtes [entlang einer Helix](https://www.youtube.com/watch?v=8XcqTg1NPKg) mit einer gegebenen Dichte"
      ]
    },
    {
      "cell_type": "markdown",
      "metadata": {
        "id": "NHbjxfJVJMrP"
      },
      "source": [
        "Wegintegral erster Art ist das **Wegintegral einer stetigen Funktion**, $\n",
        "f: \\mathbb{R}^{n} \\rightarrow \\mathbb{R}\n",
        "$ entlang eines stückweise stetig differenzierbaren Weges $\n",
        "\\gamma:[a, b] \\rightarrow \\mathbb{R}^{n}\n",
        "$ ist definiert als\n",
        "\n",
        "> $\\int_{\\mathcal{C}} f \\mathrm{~d} s:=\\int_{a}^{b} f(\\gamma(t))\\|\\dot{\\gamma}(t)\\|_{2} \\mathrm{~d} t$\n",
        "\n",
        "Für eine stetige Funktion $f: \\mathbb{R}^{n} \\rightarrow \\mathbb{R}$ und einem regulären Weg $\\gamma:[a, b] \\rightarrow \\mathbb{R}^{n}$ definiert man das Kurvenintegral von $f$ längs $\\gamma$ durch: $\\int_{\\gamma} f d s:=\\int_{a}^{b} f(\\gamma(t))\\|\\dot{\\gamma}(t)\\| d t$\n",
        "\n",
        "  * $ds$ sowie $ \\|\\dot{\\gamma}(t)\\| d t$ sind das '**Linienelement**'\n",
        "\n",
        "  * $ \\|\\dot{\\gamma}(t)\\|$ ist die Norm von der Ableitung, die man berucksichtigen muss beim Integrieren wie schnell man durch die Kurve lauft (Gewichtungsfaktor)"
      ]
    },
    {
      "cell_type": "markdown",
      "metadata": {
        "id": "5HvuqF-aJDBO"
      },
      "source": [
        "**Kurvenintegral 2. Art (über Vektorfelder, orientiert)**"
      ]
    },
    {
      "cell_type": "markdown",
      "metadata": {
        "id": "SZ5fqgZGGky6"
      },
      "source": [
        "* nicht mehr skalare, sondern vektorielle Funktion integrieren (Vektorfeld)\n",
        "\n",
        "* ps: jedes Kurvenintegral zweiter Art ist auch ein Kurvenintegral erster Art\n",
        "\n",
        "* z.B. um eine Arbeit, Zirkulation oder elektrische Spannung [zu berechnen](https://www.youtube.com/watch?v=HmgkyI_Q0Oo)\n",
        "\n",
        "* nennt man daher auch \"Arbeitsintegral\", wenn man sich zB ein Kraftfeld v vorstellt. Oder Zirkulation mit Integral entlang des Weges berechnen, wenn v ein Geschwindigkeitsfeld ist. Oder elektrische Spannung, wenn es ein elektrisches Feld ist.\n",
        "\n",
        "* Zunächst fragen: hat v ein Skalarpotential? Ist die betrachtete Menge einfach zusammenhängend und ist zB die Rotation des Vektorfeldes gleich der Nullvektor? Berechnung des Skalarpotentials: mit der Ansatzmethode oder mit der Kurvenintegralmethode\n",
        "\n",
        "* Danach fragen, ob der Weg geschlossen oder offen ist? (geschlossen: Anfangspunkt = Endpunkt, wie bei Kreis oder Dreieck). Ist er geschlossen, ist der Wert des Kurvenintegrals gleich Null. (**Remember**: Als [wirbelfrei bzw. konservativ](https://de.wikipedia.org/wiki/Wirbelfreies_Vektorfeld) wird in der Physik und Potentialtheorie ein Vektorfeld $\\vec{X}(\\vec{r})$ bezeichnet, in dem das **Kurvenintegral** $\n",
        "\\oint_{S} \\vec{X}(\\vec{r}) \\cdot \\mathrm{d} \\vec{s}=0$ für beliebige in sich geschlossene Randkurven $S$ stets den Wert null liefert.)"
      ]
    },
    {
      "cell_type": "markdown",
      "metadata": {
        "id": "PLe3mhoqDP36"
      },
      "source": [
        "Das Wegintegral zweiter Art ist das **Wegintegral über ein stetiges Vektorfeld** $\\mathbf{f}: \\mathbb{R}^{n} \\rightarrow \\mathbb{R}^{n}$ mit einer ebenfalls so parametrisierten Kurve ist definiert als das Integral über das Skalarprodukt aus $\\mathrm{f} \\circ \\gamma$ und $\\dot{\\gamma}$ :\n",
        "\n",
        "> $\\int_{\\mathcal{C}} \\mathbf{f}(\\mathbf{x}) \\cdot \\mathrm{d} \\mathbf{x}:=\\int_{a}^{b} \\mathbf{f}(\\gamma(t)) \\cdot \\dot{\\gamma}(t) \\mathrm{d} t$\n",
        "\n",
        "* Ist ein **Kurvenintegral 2. Art (weil man Vektorfelder integriert)** und ist orientiert (es ist wichtig, wie man den Weg durchlauft wegen den Vektoren!)\n",
        "\n",
        "* Für ein stetiges Vektorfeld $\\mathbf{v}: D \\rightarrow \\mathbb{R}^{3}$ mit $D \\subset \\mathbb{R}^{3}$ und einen regulären Weg $\\gamma:[a, b] \\rightarrow \\mathbb{R}^{3}$ definiert man das Kurvenintegral von v längs $\\gamma$ durch:\n",
        "\n",
        "> $\\int_{\\gamma} v \\cdot d \\vec{s}$ $:=\\int_{a}^{b} v(\\gamma(t)) \\cdot \\dot{\\gamma}(t) d t$\n",
        "\n",
        "$v$ ist die Kraft\n",
        "\n",
        "$d \\vec{s}$ ist der Weg\n",
        "\n",
        "Kraft * Weg = Arbeit, aber Weg ist nicht geradlinig, sondern eine verschnoerkelte Kurve. Man nimmt unendlich kleine Wegelemente und berechnet die Arbeit, und summieren die Teile auf (Integral).\n",
        "\n",
        "* Anmerkungen:\n",
        "\n",
        "  * der dicke Punkt steht fur das Skalarprodukt. \n",
        "\n",
        "  * $\\dot{\\gamma}(t) d t$ - keine Norm der Ableitung der Kurve notig (dieser Tangentialvektor ist nicht normiert), wie bei Kurvenintegralen uber Funktionen\n",
        "\n",
        "  * $ d \\vec{s}$ ist ein **vektorielles Linienelement**\n",
        "\n",
        "* **Komponente des Vektorfeldes in Richtung des Weges - Das ist, was man berücksichtigen will im Integral: Wie viel von dem Vektorfeld ist in Wegrichtung? Und nur das macht einen Einfluss in das Integral.**\n",
        "\n",
        "* Beim Durchlaufen des Weges werden wir entweder mit dem Vektorfeld (in Richtung des Vektorfeldes) getrieben, oder es haelt uns zurück. = die Energie, die wir brauchen, um den Weg zu durchlaufen (wenn das Vektorfeld uns hilft oder daran hindert, wie eine Strömung).\n",
        "\n",
        "* **Die Komponente in Richtung des Weges ist wichtig, und die Komponente bekommt man durch das Skalarprodukt.** (siehe Bild unten)"
      ]
    },
    {
      "cell_type": "markdown",
      "metadata": {
        "id": "n-v9nefMJY9-"
      },
      "source": [
        "![vv](https://raw.githubusercontent.com/deltorobarba/repo/master/kurvenintegral_vektorfeld.png)"
      ]
    },
    {
      "cell_type": "markdown",
      "metadata": {
        "id": "VQdL1yhzPGzI"
      },
      "source": [
        "##### **Oberflächenintegral**"
      ]
    },
    {
      "cell_type": "markdown",
      "metadata": {
        "id": "XChIebVaPLd6"
      },
      "source": [
        "* z.B. zur Berechnung der Oberfläche eines Balls\n",
        "\n",
        "* Durch Parametrisierung wird z.B. die Kruemmung einer Ebene in $R^3$ beruecksichtigt. Man berechnet naemlich die Flaeche, in dem man von $R^3$ auf $R^2$ projiziert und dann das Integral berechnet (das geht, weil Flaeche in $R^3$ ist offen, stetig differenzierbar und bijektiv)\n",
        "\n",
        "* Das Oberflächenintegral oder Flächenintegral ist eine Verallgemeinerung des Integralbegriffes auf ebenen oder gekrümmten Flächen. Das Integrationsgebiet $\\mathcal{F}$ ist also nicht ein eindimensionales Intervall, sondern eine zweidimensionale Menge im dreidimensionalen Raum $\\mathbb{R}^{3}$. Für eine allgemeinere Darstellung im $\\mathbb{R}^{n}$ mit $n \\geq 2$ siehe: Integration auf Mannigfaltigkeiten.\n",
        "\n",
        "Es wird generell zwischen einem skalaren und einem vektoriellen Oberflächenintegral unterschieden, je nach Form des Integranden und\n",
        "des sogenannten Oberflächenelements. Sie lauten\n",
        "\n",
        "> $\\iint_{\\mathcal{F}} f \\mathrm{~d} \\sigma$ mit skalarer Funktion $f$ und skalarem Oberflächenelement $\\mathrm{d} \\sigma$ sowie \n",
        "\n",
        "> $\\iint_{\\mathcal{F}} \\vec{v} \\cdot \\mathrm{d} \\vec{\\sigma}$ mit vektorwertiger Funktion $\\vec{v}$ und vektoriellem Oberflächenelement $\\mathrm{d} \\vec{\\sigma}$."
      ]
    },
    {
      "cell_type": "markdown",
      "metadata": {
        "id": "IcvZH7qLBOzs"
      },
      "source": [
        "Allgemein lässt sich eine Fläche im $\\mathbb{R}^{3}$ mit zwei Parametern $u$ und $v$ in\n",
        "folgender Form darstellen:\n",
        "\n",
        "> $\n",
        "\\varphi: B \\rightarrow \\mathbb{R}^{3}, \\quad(u, v) \\mapsto \\vec{\\varphi}(u, v)=\\left(\\begin{array}{l}\n",
        "x(u, v) \\\\\n",
        "y(u, v) \\\\\n",
        "z(u, v)\n",
        "\\end{array}\\right)\n",
        "$\n",
        "\n",
        "Auf der Fläche $\\vec{\\varphi}(u, v)$ bilden die Kurvenscharen $u=$ const bzw. $v=$ const die Koordinatenlinien. Diese überziehen die Fläche mit einem Koordinatennetz.\n",
        "wobei durch jeden Punkt zwei Koordinatenlinien verlaufen. Somit hat ieder Punkt auf der Fläche eindeutige Koordinaten $\\left(u_{0}, v_{0}\\right)$."
      ]
    },
    {
      "cell_type": "markdown",
      "metadata": {
        "id": "e45jm0deB13y"
      },
      "source": [
        "Mit den Parametrisierungen und den Oberflächenelementen kann man nun die Oberflächenintegrale definieren. Diese mehrdimensionalen Integrale sind Lebesgue-Integrale, können aber in den meisten Anwendungsfällen als mehrfache Riemann-Integrale berechnet werden."
      ]
    },
    {
      "cell_type": "markdown",
      "metadata": {
        "id": "6yO9AukUtSzo"
      },
      "source": [
        "https://de.wikipedia.org/wiki/Oberflächenintegral"
      ]
    },
    {
      "cell_type": "markdown",
      "metadata": {
        "id": "SHwK1ZsvrPIY"
      },
      "source": [
        "##### **Volumenintegrale**"
      ]
    },
    {
      "cell_type": "markdown",
      "metadata": {
        "id": "llLY5ZbxPR5j"
      },
      "source": [
        "* z.B. zur Berechnung des Volumeninhaltes eines Objektes\n",
        "\n",
        "* Das [Volumenintegral](https://de.wikipedia.org/wiki/Volumenintegral) erweitert das Oberflächenintegral auf die Integration über ein beliebiges dreidimensionales Integrationsgebiet, wobei eine Funktion dreimal hintereinander integriert wird, jeweils über eine Richtung eines dreidimensionalen Raumes. \n",
        "\n",
        "* **Dabei muss es sich jedoch nicht notwendigerweise um ein Volumen eines geometrischen Körpers handeln**. \n",
        "\n",
        "* Zur vereinfachten Darstellung wird oft nur ein einziges Integralzeichen geschrieben und die Volumenintegration lediglich durch das Volumenelement $\\mathrm {d} V$ angedeutet:\n",
        "\n",
        "> $\\iiint_{V} f(r) d^{3} r=\\int_{V} f(\\vec{x}) \\mathrm{d} V$\n",
        "\n",
        "* wobei die zu integrierende Funktion zumindest von drei Variablen ${\\vec {x}}=(x,y,z)$ für eine (kartesische) Beschreibung im dreidimensionalen Raum $\\mathbb{R^3}$ abhängt, **es sind aber auch höherdimensionale Räume möglich**.\n",
        "\n",
        "* Es handelt sich um ein **skalares Volumenintegral**, wenn der Integrand $f$ und das Volumenelement $\\mathrm{d} V$ skalar sind. Bei einem **vektoriellen Integranden**, z. B. einem Vektorfeld $\\vec{f}$, ist auch das Volumenelement $\\mathrm{d} \\vec{V}$ ein Vektor, sodass sich ein vektorielles Volumenintegral ergibt.\n",
        "\n",
        "* Um ein Volumenintegral zu berechnen, ist meist eine Parametrisierung des Integrationsgebiets nötig."
      ]
    },
    {
      "cell_type": "markdown",
      "metadata": {
        "id": "PhQKZZ-1M-GE"
      },
      "source": [
        "##### **Integralsätze (Gauss, Stokes, Green)**"
      ]
    },
    {
      "cell_type": "markdown",
      "metadata": {
        "id": "y-ifFM9ZKy3p"
      },
      "source": [
        "[Integralsatz](https://de.wikipedia.org/wiki/Integralsatz) ist ein Namensbestandteil bestimmter mathematischer Sätze, in deren Aussage ein Integral vorkommt.\n",
        "\n",
        "Unter dem Begriff der klassischen Integralsätze werden der **Satz von Gauß, der Satz von Green, der Satz von Stokes** und einige ihrer Spezialfälle zusammengefasst. Diese Sätze der Vektoranalysis hängen eng miteinander zusammen: der Integralsatz von Stokes umfasst die anderen beiden Sätze als Spezialfälle.\n",
        "\n",
        "Außerdem gibt es neben den klassischen Integralsätzen noch weitere Sätze, die man kurz als Integralsätze bezeichnet. Zu diesen zählt beispielsweise der cauchysche Integralsatz, der ein zentrales Resultat aus der Funktionentheorie ist."
      ]
    },
    {
      "cell_type": "markdown",
      "metadata": {
        "id": "sBGhKHdBNUv2"
      },
      "source": [
        "[Integralsatz von Gauß](https://de.m.wikipedia.org/wiki/Gaußscher_Integralsatz)\n",
        "\n",
        "* Im Folgenden sei das „Integrationsvolumen“ V n-dimensional. \n",
        "\n",
        "* Das [Volumenintegral](https://de.m.wikipedia.org/wiki/Volumenintegral) über den Gradienten einer skalaren Größe $\\phi$, kann dann in ein [Oberflächenintegral](https://de.m.wikipedia.org/wiki/Oberflächenintegral) (bzw. Hyperflächenintegral) über den Rand dieses Volumens umgewandelt werden:\n",
        "\n",
        "> $\n",
        "\\int_{V} \\operatorname{grad} \\phi(\\vec{x}) \\mathrm{d} V=\\oint_{\\partial V} \\phi \\mathrm{d} \\vec{A}\n",
        "$"
      ]
    },
    {
      "cell_type": "markdown",
      "metadata": {
        "id": "Y64AmnhcNBpb"
      },
      "source": [
        "[Satz von Stokes](https://de.m.wikipedia.org/wiki/Satz_von_Stokes)\n",
        "\n",
        "* sehr grundlegenden Satz über die Integration von Differentialformen, der den Hauptsatz der Differential- und Integralrechnung erweitert\n",
        "\n",
        "*  eine Verbindungslinie von der Differentialgeometrie zur Algebraischen Topologie eröffnet. \n",
        "\n",
        "* Dieser Zusammenhang wird durch den Satz von de Rham beschrieben, für den der Satz von Stokes grundlegend ist.\n",
        "\n",
        "* Im Folaenden ist $n=3$ und es wird die Schreibweise mit Mehrfachintegralen\n",
        "verwendet.\n",
        "\n",
        "Das qeschlossene Kurvenintegral einer vektoriellen Größe (rechte Seite) kann\n",
        "mittels der Rotation in ein Flächenintegral über eine von dem geschlossenen\n",
        "Integrationsweg $\\Gamma=\\partial A$ berandete, nicht notwendig ebene Fläche\n",
        "umgewandelt werden (linke Seite). Dabei werden - wie auch beim\n",
        "Gauß'schen Satz - die gewöhnlichen Orientierungseigenschaften\n",
        "vorausgesetzt. Es gilt:\n",
        "\n",
        "> $\n",
        "\\iint_{A} \\operatorname{rot} \\vec{F} \\cdot \\mathrm{d} \\vec{A}=\\oint_{\\Gamma=\\partial A} \\vec{F}(\\vec{r}) \\cdot \\mathrm{d} \\vec{r}\n",
        "$\n",
        "\n",
        "Der Vektor $\\mathrm{d} \\vec{A}$ ist gleich dem Betrag der zur betrachteten Fläche $A$ bzw. zu\n",
        "$\\partial V$ gehörenden infinitesimalen Flächenelemente multipliziert mit dem\n",
        "zugehörigen Normalenvektor. Auf der rechten Seite wird durch das\n",
        "Kreissymbol im Integralzeichen daran erinnert, dass über eine geschlossene\n",
        "Kurve integriert wird."
      ]
    },
    {
      "cell_type": "markdown",
      "metadata": {
        "id": "eRhCrZ_fK_8D"
      },
      "source": [
        "[Satz von Green](https://de.wikipedia.org/wiki/Satz_von_Green)\n",
        "\n",
        "* Der Satz von Green (auch Green-Riemannsche Formel oder Lemma von Green, gelegentlich auch Satz von Gauß-Green) \n",
        "\n",
        "* **erlaubt es, das Integral über eine ebene Fläche durch ein Kurvenintegral auszudrücken**. \n",
        "\n",
        "* Der Satz ist ein Spezialfall des Satzes von Stokes.\n",
        "\n"
      ]
    },
    {
      "cell_type": "markdown",
      "metadata": {
        "id": "tWuiG_igrWtv"
      },
      "source": [
        "Integrals ̈atze (Gauss, Stokes, Greenschen Formeln, Lo ̈sung der Poissongleichung, Fundamentalsatz der Vektoranalysis II)"
      ]
    },
    {
      "cell_type": "markdown",
      "metadata": {
        "id": "zLvbjOH0rbDs"
      },
      "source": [
        "#### **Volumenform, Koordinatentransformationen und Funktionaldeterminante**"
      ]
    },
    {
      "cell_type": "markdown",
      "metadata": {
        "id": "0jX_Bp75Nurq"
      },
      "source": [
        "**Volumenform**"
      ]
    },
    {
      "cell_type": "markdown",
      "metadata": {
        "id": "cy2PCJfRNxDB"
      },
      "source": [
        "* Eine [Volumenform](https://de.m.wikipedia.org/wiki/Volumenform) ist ein mathematisches Objekt, welches zur Integration über Raumbereiche benötigt wird, insbesondere bei der Verwendung spezieller Koordinatensysteme, also ein Spezialfall eines Volumens.\n",
        "\n",
        "* In der Physik und im Ingenieurwesen sind auch Bezeichnungen wie infinitesimales Volumenelement oder Maßfaktor gebräuchlich.\n",
        "\n",
        "* Beispiele in 3 Dimensionen:\n",
        "\n",
        "  * [Kartesische Koordinaten](https://de.m.wikipedia.org/wiki/Kartesisches_Koordinatensystem): $\\mathrm{d} V=\\mathrm{d} x \\cdot \\mathrm{d} y \\cdot \\mathrm{d} z$\n",
        "  \n",
        "  * [Zylinderkoordinaten](https://de.m.wikipedia.org/wiki/Polarkoordinaten#Zylinderkoordinaten) (ebene Polarkoordinaten um eine dritte Koordinate ergänzt): $\\mathrm{d} V=\\rho \\cdot \\mathrm{d} \\rho \\cdot \\mathrm{d} \\varphi \\cdot \\mathrm{d} z$\n",
        "  \n",
        "  * [Kugelkoordinaten](https://de.m.wikipedia.org/wiki/Kugelkoordinaten): $\\mathrm{d} V=r^{2} \\cdot \\sin \\theta \\cdot \\mathrm{d} r \\cdot \\mathrm{d} \\theta \\cdot \\mathrm{d} \\varphi$\n",
        "\n",
        "* Das Volumenelement in drei Dimensionen lässt sich nach dem [Transformationssatz](https://de.m.wikipedia.org/wiki/Transformationssatz) mit Hilfe der [Funktionaldeterminante](https://de.m.wikipedia.org/wiki/Funktionaldeterminante) det $J$ berechnen. Die [Jacobi-Matrix](https://de.m.wikipedia.org/wiki/Jacobi-Matrix) für die Transformation von den Koordinaten $\\left\\{x_{1}, x_{2}, x_{3}\\right\\}$ zu $\\left\\{x_{1}^{\\prime}, x_{2}^{\\prime}, x_{3}^{\\prime}\\right\\}$ ist hierbei definiert durch\n",
        "\n",
        ">$\n",
        "J=\\frac{\\partial\\left(x_{1}, x_{2}, x_{3}\\right)}{\\partial\\left(x_{1}^{\\prime}, x_{2}^{\\prime}, x_{3}^{\\prime}\\right)}\n",
        "$\n",
        "\n",
        "* Das Volumenelement ist dann gegeben durch\n",
        "\n",
        ">$\n",
        "\\mathrm{d} V^{\\prime}=|\\operatorname{det} J| \\mathrm{d} x_{1}^{\\prime} \\mathrm{d} x_{2}^{\\prime} \\mathrm{d} x_{3}^{\\prime}\n",
        "$\n",
        "\n",
        "* Aus mathematischer Sicht ist **eine Volumenform auf einer $n$-dimensionalen Mannigfaltigkeit eine nirgends verschwindende Differentialform vom Grad $n$**. Im Fall einer orientierten riemannschen Mannigfaltigkeit ergibt sich eine kanonische Volumenform aus der verwendeten Metrik, die den Wert 1 auf einer positiv orientierten Orthonormalbasis annimmt. Diese wird [Riemann'sche Volumenform](https://de.m.wikipedia.org/wiki/Hodge-Stern-Operator#Riemannsche_Volumenform) genannt (Hodge-Stern-Operator in der Differentialgeometrie)."
      ]
    },
    {
      "cell_type": "markdown",
      "metadata": {
        "id": "ujcsbmyfEJDt"
      },
      "source": [
        "**Koordinatentransformation**\n",
        "\n",
        "https://de.wikipedia.org/wiki/Differentialgeometrie#Koordinatentransformationen\n",
        "\n",
        "* Fur die Berechnung des Flächen- oder Volumenintegrals eine geeignete Substitutionsfunktion zu finden ist nicht trivial. Sie transformiert das Volumenintegral oft von einem Koordinatensystem in ein anderes, um die Berechnung zu vereinfachen oder überhaupt zu ermöglichen. \n",
        "\n",
        "* Bei der Integration über geometrische Objekte ist es sogar oft unpraktisch, über kartesische Koordinaten zu integrieren. So lässt sich in der Physik das Integral über ein radialsymmetrisches Potentialfeld, dessen Wert nur von einem Radius r abhängt, wesentlich leichter in Kugelkoordinaten berechnen. Um dies zu tun, wendet man eine Koordinatentransformation $\\Phi$  an.\n",
        "\n",
        "* Um dies zu tun, wendet man eine Koordinatentransformation $\\Phi$ an. Nach dem [Transformationssatz](https://de.wikipedia.org/wiki/Transformationssatz) gilt dann in diesem Beispiel:\n",
        "\n",
        "> $\n",
        "\\int_{\\Omega} U(\\vec{r}) d V=\\int_{\\Phi^{-1}(\\Omega)} U(\\Phi(r, \\theta, \\varphi)) \\cdot|\\operatorname{det} D \\Phi(r, \\theta, \\varphi)| \\mathrm{d} r \\mathrm{~d} \\theta \\mathrm{d} \\varphi\n",
        "$\n",
        "\n",
        "* Der vektorielle Faktor ist das [Spatprodukt](https://de.wikipedia.org/wiki/Spatprodukt) aller partiellen Ableitungen von $\\vec{\\xi}(u, v, w)$\n",
        "\n",
        "> $\n",
        "\\vec{N}=\\left(\\frac{\\partial \\vec{\\xi}}{\\partial u} \\times \\frac{\\partial \\vec{\\xi}}{\\partial v}\\right) \\cdot \\frac{\\partial \\vec{\\xi}}{\\partial w}\n",
        "$\n",
        "\n",
        "Generell lassen sich Spatprodukte auch als Determinanten schreiben, so gilt hier:\n",
        "\n",
        "> $\n",
        "\\vec{N}=\\left(\\frac{\\partial \\vec{\\xi}}{\\partial u} \\times \\frac{\\partial \\vec{\\xi}}{\\partial v}\\right) \\cdot \\frac{\\partial \\vec{\\xi}}{\\partial w}=\\operatorname{det}\\left(\\frac{\\partial \\vec{\\xi}}{\\partial u} \\frac{\\partial \\vec{\\xi}}{\\partial v} \\frac{\\partial \\vec{\\xi}}{\\partial w}\\right)=\\operatorname{det}\\left(J_{\\vec{\\xi}}\\right)\n",
        "$\n",
        "\n",
        "Die aneinandergereihten partiellen Gradienten $(\\vec{\\xi}$ ist eine vektorwertige Funktion)\n",
        "formen gerade die Elemente der $3 \\times 3$ Jacobi-Matrix. Die zugehörige Jacobi-Determinante, auch als [**Funktionaldeterminante**](https://de.wikipedia.org/wiki/Funktionaldeterminante) bezeichnet, berechnet genau den\n",
        "zusätzlichen Faktor für eine Koordinatentransformation.\n",
        "\n",
        "Ist das Volumenelement skalar, reduziert sich der Faktor auf dessen euklidische Norm $\\|\\vec{N}\\| .$ Nachdem das Volumenintegral parametrisiert ist, kann mit Hilfe des [Satzes von Fubini](https://de.wikipedia.org/wiki/Satz_von_Fubini) das Integral Schritt für Schritt berechnet werden."
      ]
    },
    {
      "cell_type": "markdown",
      "metadata": {
        "id": "HCrJh93jH1D-"
      },
      "source": [
        "**Transformationssatz**\n",
        "\n",
        "* Der [Transformationssatz](https://de.wikipedia.org/wiki/Transformationssatz) (auch Transformationsformel) beschreibt in der Analysis das Verhalten von Integralen unter Koordinatentransformationen. Er ist somit die Verallgemeinerung der Integration durch Substitution auf Funktionen höherer Dimensionen. \n",
        "\n",
        "* Der Transformationssatz wird als Hilfsmittel bei der Berechnung von Integralen verwendet, wenn sich das Integral nach Überführung in ein anderes Koordinatensystem leichter berechnen lässt.\n",
        "\n",
        "* Es sei $\\Omega \\subseteq \\mathbb{R}^{d}$ eine offene Menge und $\\Phi: \\Omega \\rightarrow \\Phi(\\Omega) \\subseteq \\mathbb{R}^{d}$ ein [Diffeomorphismus](https://de.wikipedia.org/wiki/Diffeomorphismus) (=eine bijektive, stetig differenzierbare Abbildung, deren Umkehrabbildung auch stetig differenzierbar ist). Dann ist die Funktion $f$ auf $\\Phi(\\Omega)$ genau dann integrierbar, wenn die Funktion $x \\mapsto f(\\Phi(x)) \\cdot|\\operatorname{det}(D \\Phi(x))|$ auf $\\Omega$ integrierbar ist. In diesem Fall gilt:\n",
        "\n",
        "> $\n",
        "\\int_{\\Phi(\\Omega)} f(y) \\mathrm{d} y=\\int_{\\Omega} f(\\Phi(x)) \\cdot|\\operatorname{det}(D \\Phi(x))| \\mathrm{d} x\n",
        "$\n",
        "\n",
        "* Dabei ist $D \\Phi(x)$ die Jacobi-Matrix und $\\operatorname{det}(D \\Phi(x))$ die Funktionaldeterminante von $\\Phi$."
      ]
    },
    {
      "cell_type": "markdown",
      "metadata": {
        "id": "fUDAAXziE4Pj"
      },
      "source": [
        "**Funktionaldeterminante**\n",
        "\n",
        "* Die [Funktionaldeterminante oder Jacobi-Determinante](https://de.wikipedia.org/wiki/Funktionaldeterminante) ist eine mathematische Größe, die in der mehrdimensionalen Integralrechnung, also der Berechnung von **Oberflächen- und Volumenintegralen**, eine Rolle spielt. Insbesondere findet sie in der [Flächenformel](https://de.wikipedia.org/wiki/Flächenformel) und dem aus dieser hervorgehenden Transformationssatz Verwendung.\n",
        "\n",
        "* [Exkurs Determinante](https://de.wikipedia.org/wiki/Determinante): *die Determinante eine Zahl (ein Skalar), die einer quadratischen Matrix zugeordnet wird und aus ihren Einträgen berechnet werden kann. Sie gibt an, wie sich das **Volumen (oder der Flächeninhalt)** bei der durch die Matrix beschriebenen linearen Abbildung ändert*\n",
        "\n",
        "* **Lokales Verhalten einer Funktion**: Die Funktionaldeterminante gibt zu einem gegebenen Punkt wichtige Informationen über das Verhalten der Funktion $f$ in der Nähe dieses Punktes. \n",
        "\n",
        "  * Wenn beispielsweise die Funktionaldeterminante einer stetig differenzierbaren Funktion in einem Punkt $p$ ungleich null ist, so ist die Funktion in einer Umgebung von $p$ invertierbar. \n",
        "  \n",
        "  * Weiterhin gilt, dass bei positiver Determinante in $p$ die Funktion ihre Orientierung beibehält und bei negativer Funktionaldeterminante die Orientierung umkehrt. \n",
        "  \n",
        "  * Der absolute Wert der Determinante im Punkt $p$ gibt den Wert an, mit dem die Funktion in der Nähe von $p$ expandiert oder schrumpft.\n",
        "\n",
        "* Für eine differenzierbare Funktion $f: \\mathbb{R}^{n} \\rightarrow \\mathbb{R}^{n}$ ist die Funktionaldeterminante definiert als die Determinante der Jacobi-Matrix von $f,$ also als\n",
        "det $D f(x)$\n",
        "mit\n",
        "\n",
        "> $\n",
        "D f(x)=\\left(\\frac{\\partial f_{i}}{\\partial x_{j}}(x)\\right)_{i, j=1, \\ldots, n}\n",
        "$\n"
      ]
    },
    {
      "cell_type": "markdown",
      "metadata": {
        "id": "Y8Aix1sXHVnV"
      },
      "source": [
        "**Beispiel: Polarkoordinaten**\n",
        "\n",
        "**1. Koordinatentransformation**: Die Umrechnungsformeln von Polarkoordinaten in kartesische Koordinaten lauten:\n",
        "\n",
        "> $\n",
        "\\begin{array}{l}\n",
        "x=r \\cos \\varphi \\\\\n",
        "y=r \\sin \\varphi\n",
        "\\end{array}\n",
        "$\n",
        "\n",
        "**2. Funktionaldeterminante** lautet also:\n",
        "\n",
        "> $\n",
        "\\operatorname{det} \\frac{\\partial(x, y)}{\\partial(r, \\varphi)}=\\operatorname{det}\\left(\\begin{array}{ll}\n",
        "\\frac{\\partial x}{\\partial r} & \\frac{\\partial x}{\\partial \\varphi} \\\\\n",
        "\\frac{\\partial y}{\\partial r} & \\frac{\\partial y}{\\partial \\varphi}\n",
        "\\end{array}\\right)=\\operatorname{det}\\left(\\begin{array}{cc}\n",
        "\\cos \\varphi & -r \\sin \\varphi \\\\\n",
        "\\sin \\varphi & r \\cos \\varphi\n",
        "\\end{array}\\right)=r \\cdot(\\cos \\varphi)^{2}+r \\cdot(\\sin \\varphi)^{2}=r\n",
        "$\n",
        "\n",
        "**3. Flächen- oder Volumenintegral**: Folglich ergibt sich für das Flächenelement $\\mathrm{d} A$ (alternativ kann man bei dreidimensionalen Kugelkoordinaten an dieser Stelle auch das Volumenelement $\\mathrm {d} V$ mit der Funktionaldeterminante berechnen):\n",
        "\n",
        "> $\n",
        "\\mathrm{d} A=\\left|\\operatorname{det} \\frac{\\partial(x, y)}{\\partial(r, \\varphi)}\\right| \\mathrm{d} r \\mathrm{~d} \\varphi=r \\mathrm{~d} r \\mathrm{~d} \\varphi\n",
        "$\n",
        "\n"
      ]
    },
    {
      "cell_type": "markdown",
      "metadata": {
        "id": "4NB7LHkmNm_3"
      },
      "source": [
        "## **Differentialgeometrie**"
      ]
    },
    {
      "cell_type": "markdown",
      "metadata": {
        "id": "kjZH2A2rUEuE"
      },
      "source": [
        "#### **Allgemeine Relativitätstheorie**"
      ]
    },
    {
      "cell_type": "markdown",
      "metadata": {
        "id": "xfF3aeOkUNTk"
      },
      "source": [
        "* Gravitation als geometrische Eigenschaft der gekrümmten vierdimensionalen Raumzeit. \n",
        "\n",
        "* Zur Beschreibung der **Raumzeit und ihrer Krümmung bedient man sich der Differentialgeometrie**, die die Euklidische Geometrie des uns vertrauten „flachen“ dreidimensionalen Raumes der klassischen Mechanik umfasst und erweitert. \n",
        "\n",
        "* Die Differentialgeometrie verwendet zur Beschreibung gekrümmter Räume, wie der Raumzeit der ART, sogenannte **Mannigfaltigkeiten**. Wichtige **Eigenschaften werden mit sogenannten Tensoren beschrieben**, die Abbildungen auf der Mannigfaltigkeit darstellen.\n",
        "\n",
        "* Die gekrümmte Raumzeit wird als [Lorentz-Mannigfaltigkeit](https://de.wikipedia.org/wiki/Pseudo-riemannsche_Mannigfaltigkeit) (Pseudo-riemannsche Mannigfaltigkeit) beschrieben.\n",
        "\n",
        "* Eine besondere Bedeutung kommt dem [**metrischen Tensor**](https://de.wikipedia.org/wiki/Metrischer_Tensor) zu. Wenn man in den metrischen Tensor zwei Vektorfelder einsetzt, erhält man für jeden Punkt der Raumzeit eine reelle Zahl. \n",
        "\n",
        "  * In dieser Hinsicht kann man den metrischen Tensor als ein verallgemeinertes, punktabhängiges Skalarprodukt für Vektoren der Raumzeit verstehen. \n",
        "  \n",
        "  * Mit seiner Hilfe werden Abstand und Winkel definiert und er wird daher kurz als Metrik bezeichnet.\n",
        "\n",
        "* Ebenso bedeutend ist der [riemannsche Krümmungstensor](https://de.wikipedia.org/wiki/Riemannscher_Krümmungstensor) zur Beschreibung der Krümmung der Mannigfaltigkeit, \n",
        "\n",
        "  * der eine Kombination von ersten und zweiten Ableitungen des metrischen Tensors darstellt. \n",
        "\n",
        "  * Wenn ein beliebiger Tensor in irgendeinem Koordinatensystem in einem Punkt nicht null ist, kann man überhaupt kein Koordinatensystem finden, sodass er in diesem Punkt null wird. Dies gilt dementsprechend auch für den Krümmungstensor. \n",
        "  \n",
        "  * Umgekehrt ist der Krümmungstensor in allen Koordinatensystemen null, wenn er in einem Koordinatensystem null ist. Man wird also in jedem Koordinatensystem bezüglich der Frage, ob eine Mannigfaltigkeit an einem bestimmten Punkt gekrümmt ist oder nicht, zum gleichen Ergebnis gelangen.\n",
        "\n",
        "* Die maßgebliche Größe zur Beschreibung von Energie und Impuls der Materie ist der [Energie-Impuls-Tensor](https://de.wikipedia.org/wiki/Energie-Impuls-Tensor). Dieser Tensor bestimmt die Krümmungseigenschaften der Raumzeit. Siehe auch [Vierertensor](https://de.wikipedia.org/wiki/Vierertensor)\n",
        "\n"
      ]
    },
    {
      "cell_type": "markdown",
      "metadata": {
        "id": "FSwla15AVisJ"
      },
      "source": [
        "https://de.wikipedia.org/wiki/Allgemeine_Relativitätstheorie#Mathematische_Beschreibung"
      ]
    },
    {
      "cell_type": "markdown",
      "metadata": {
        "id": "BytRtSdcUHyV"
      },
      "source": [
        "#### **Normal Plane**"
      ]
    },
    {
      "cell_type": "markdown",
      "metadata": {
        "id": "aanVl5irUQJK"
      },
      "source": [
        "The plane spanned by the normal vector N and the binormal vector B.\n",
        "\n",
        "* A [normal plane](https://en.wikipedia.org/wiki/Normal_plane_(geometry)#Normal_section) is any plane containing the normal vector of a surface at a particular point.\n",
        "\n",
        "* The normal plane also refers to the plane that is perpendicular to the tangent vector of a space curve; (this plane also contains the normal vector) see Frenet–Serret formulas."
      ]
    },
    {
      "cell_type": "markdown",
      "metadata": {
        "id": "9pKD7BJYUnsw"
      },
      "source": [
        "*Saddle surface with **normal planes** in directions of **principal curvatures**:*\n",
        "\n",
        "![gg](https://upload.wikimedia.org/wikipedia/commons/e/eb/Minimal_surface_curvature_planes-en.svg)"
      ]
    },
    {
      "cell_type": "markdown",
      "metadata": {
        "id": "k22NIZrbWOwi"
      },
      "source": [
        "*(a) Normal section of a surface. The surface crops out at points A and B , distance 2 d apart. The distance depends on the radius of curvature, r , and the distance between the tangent plane and the section plane, h . (b) In the section plane, the distances d 1 and d 2 are in a ratio that relates to the ratio of the values of :*\n",
        "\n",
        "![jj](https://raw.githubusercontent.com/deltorobarba/repo/master/normalsection.png)"
      ]
    },
    {
      "cell_type": "markdown",
      "metadata": {
        "id": "HlkflU-7U5Pq"
      },
      "source": [
        "**Normal section**"
      ]
    },
    {
      "cell_type": "markdown",
      "metadata": {
        "id": "28Jtij1DU7k8"
      },
      "source": [
        "* The normal section of a surface at a particular point is the curve produced by the intersection of that surface with a normal plane\n",
        "\n",
        "* The curvature of the normal section is called the normal curvature.\n",
        "\n",
        "* If the surface is bow or cylinder shaped the maximum and the minimum of these curvatures are the principal curvatures.\n",
        "\n",
        "* If the surface is saddle shaped the maxima of both sides are the principal curvatures.\n",
        "\n",
        "* The product of the principal curvatures is the Gaussian curvature of the surface. (negative for saddle shaped surfaces)\n",
        "\n",
        "* The mean of the principal curvatures is the mean curvature of the surface, if (and only if) the mean curvature is zero the surface is a minimal surface."
      ]
    },
    {
      "cell_type": "markdown",
      "metadata": {
        "id": "Png5YeQyXlTB"
      },
      "source": [
        "> At any point on a surface, we can find a normal vector that is at right angles to the surface; planes containing the normal vector are called normal planes. The intersection of a normal plane and the surface will form a curve called a **normal section** and the curvature of this curve is the **normal curvature**. **For most points on most surfaces, different normal sections will have different curvatures; the maximum and minimum values of these are called the principal curvatures, call these κ1, κ2.**"
      ]
    },
    {
      "cell_type": "markdown",
      "metadata": {
        "id": "Tsnx4brGUDMS"
      },
      "source": [
        "**Normal**"
      ]
    },
    {
      "cell_type": "markdown",
      "metadata": {
        "id": "A3D7Xf8X1Rqx"
      },
      "source": [
        "* In geometry, a [normal](https://en.wikipedia.org/wiki/Normal_(geometry)) is an object such as a line, ray, or vector that is perpendicular to a given object. \n",
        "\n",
        "* For example, in two dimensions, **the normal line to a curve at a given point is the line perpendicular to the tangent line to the curve at the point**. \n",
        "\n",
        "* A normal vector may have \n",
        "\n",
        "  * length one (a unit vector) or \n",
        "  * its length may represent the curvature of the object, a [curvature vector](https://en.wikipedia.org/wiki/Differentiable_curve#Normal_or_curvature_vector),\n",
        "  * its algebraic sign may indicate sides (interior or exterior).\n",
        "\n",
        "* In three dimensions, a surface normal, or simply normal, to a surface at point P is a vector perpendicular to the tangent plane of the surface at P. \n",
        "\n",
        "* The word \"normal\" is also used as an adjective: a line normal to a plane, the normal component of a force, the normal vector, etc. \n",
        "\n",
        "* **The concept of normality generalizes to orthogonality (right angles)**.\n",
        "\n"
      ]
    },
    {
      "cell_type": "markdown",
      "metadata": {
        "id": "PJCi6my82Bbn"
      },
      "source": [
        "*A normal to a surface at a point is the same as a normal to the tangent plane to the surface at the same point.*\n",
        "\n",
        "![fgggg](https://upload.wikimedia.org/wikipedia/commons/5/53/Surface_normal_illustration.svg)"
      ]
    },
    {
      "cell_type": "markdown",
      "metadata": {
        "id": "qvkOBed02VoA"
      },
      "source": [
        "* The concept has been generalized to differentiable manifolds of arbitrary dimension embedded in a Euclidean space. The normal vector space or normal space of a manifold at point P is the set of vectors which are orthogonal to the tangent space at P. \n",
        "\n",
        "* Normal vectors are of special interest in the case of smooth curves (Differential curves) and smooth surfaces (Differential geometry of surfaces).\n",
        "\n",
        "* The normal is often used in 3D computer graphics (notice the singular, as only one normal will be defined) to determine a surface's orientation toward a light source for flat shading, or the orientation of each of the surface's corners (vertices) to mimic a curved surface with Phong shading.\n"
      ]
    },
    {
      "cell_type": "markdown",
      "metadata": {
        "id": "8VxxuqYf584k"
      },
      "source": [
        "*A vector field of normals to a surface*\n",
        "\n",
        "![hh](https://upload.wikimedia.org/wikipedia/commons/c/cc/Surface_normals.svg)"
      ]
    },
    {
      "cell_type": "markdown",
      "metadata": {
        "id": "BlHA616e37Da"
      },
      "source": [
        "*Choice of normal*"
      ]
    },
    {
      "cell_type": "markdown",
      "metadata": {
        "id": "89yLCoM7389W"
      },
      "source": [
        "* The normal to a (hyper)surface is usually scaled to have unit length, **but it does not have a unique direction, since its opposite is also a unit normal**. \n",
        "\n",
        "* For a surface which is the topological boundary of a set in three dimensions, one can **distinguish between the inward-pointing normal and outer-pointing normal**. \n",
        "\n",
        "* For an oriented surface, the normal is usually determined by the **right-hand rule** or its analog in higher dimensions.\n",
        "\n",
        "* **If the normal is constructed as the cross product of tangent vectors (as described in the text above), it is a [pseudovector](https://en.wikipedia.org/wiki/Pseudovector).**\n",
        "\n",
        "  * a pseudovector (or axial vector) is a quantity that transforms like a vector under a proper rotation, **but in three dimensions gains an additional sign flip under an improper rotation such as a reflection**. \n",
        "  \n",
        "  * Geometrically, the direction of a reflected pseudovector is opposite to its mirror image, but with equal magnitude. In contrast, the reflection of a true (or polar) vector is exactly the same as its mirror image.\n",
        "\n",
        "  * Ein Pseudovektor, auch Drehvektor, Axialvektor oder axialer Vektor genannt, ist in der Physik eine [vektorielle Größe](https://de.wikipedia.org/wiki/Vektorielle_Größe), die bei einer Punktspiegelung des betrachteten physikalischen Systems ihre Richtung beibehält. Im Gegensatz dazu kehren polare oder Schubvektoren bei einer Punktspiegelung ihre Richtung um.\n"
      ]
    },
    {
      "cell_type": "markdown",
      "metadata": {
        "id": "F_OSJC0c44eM"
      },
      "source": [
        "*Der Drehimpuls L als Beispiel eines Pseudovektors: während der Ortsvektor r und Impuls m·v bei einer Punktspiegelung ihre Richtung umkehren, bleibt die des Drehimpulses L=m·r×v unverändert.*\n",
        "\n",
        "![gjgjg](https://upload.wikimedia.org/wikipedia/commons/a/af/Angular_momentum_as_pseudo-vector.png)"
      ]
    },
    {
      "cell_type": "markdown",
      "metadata": {
        "id": "VhCnyEAjgscS"
      },
      "source": [
        "**Mannigfaltigkeit**"
      ]
    },
    {
      "cell_type": "markdown",
      "metadata": {
        "id": "833Uwx-OgKLn"
      },
      "source": [
        "Unter einer [Mannigfaltigkeit](https://de.wikipedia.org/wiki/Mannigfaltigkeit) versteht man in der Mathematik einen topologischen Raum, der lokal dem euklidischen Raum \n",
        "$\\mathbb {R} ^{n}$ gleicht. Global muss die Mannigfaltigkeit jedoch nicht einem euklidischen Raum gleichen (nicht zu ihm homöomorph sein).\n",
        "\n",
        "> Siehe auch: [Klassifizierung und Invarianten von Mannigfaltigkeiten](https://de.wikipedia.org/wiki/Mannigfaltigkeit#Klassifizierung_und_Invarianten_von_Mannigfaltigkeiten)"
      ]
    },
    {
      "cell_type": "markdown",
      "metadata": {
        "id": "WF5KxIxPhpOD"
      },
      "source": [
        "**Topologische Mannigfaltigkeiten**"
      ]
    },
    {
      "cell_type": "markdown",
      "metadata": {
        "id": "WL2c5EqKhIbY"
      },
      "source": [
        "Sei $M$ ein topologischer Raum. Man nennt $M$ eine (topologische) Mannigfaltigkeit der Dimension $n$ oder kurz eine $n$ -Mannigfaltigkeit, falls die folgenden Eigenschaften erfüllt werden:\n",
        "\n",
        "1. $M$ ist ein Hausdorff-Raum.\n",
        "\n",
        "2. $M$ erfüllt das zweite Abzählbarkeitsaxiom.\n",
        "\n",
        "3. $M$ ist lokal euklidisch, das heißt, jeder Punkt besitzt eine Umgebung, \n",
        "\n",
        "welche homöomorph zu einer offenen Teilmenge des $\\mathbb{R}^{n}$ ist.\n",
        "Mannigfaltigkeiten erben viele lokale Eigenschaften vom Euklidischen Raum: sie sind lokal wegzusammenhängend, lokalkompakt und lokal metrisierbar. Mannigfaltigkeiten, welche homöomorph zueinander sind, werden als gleich (beziehungsweise äquivalent) angesehen. Daraus entstand die Frage nach der Klassifikation, also die Frage, wie viele nicht äquivalente Mannigfaltigkeiten es gibt.\n",
        "\n",
        "> **Um differenzierbare Funktionen zu betrachten, reicht die Struktur einer topologischen Mannigfaltigkeit nicht aus.** Dafur braucht man eine Differenzierbare Mannigfaltigkeiten."
      ]
    },
    {
      "cell_type": "markdown",
      "metadata": {
        "id": "CDgn-dFcg7Gq"
      },
      "source": [
        "**Differenzierbare Mannigfaltigkeit (Einleitung)**"
      ]
    },
    {
      "cell_type": "markdown",
      "metadata": {
        "id": "nCEr54z3-xiI"
      },
      "source": [
        "* [Differenzierbare Mannigfaltigkeiten](https://de.wikipedia.org/wiki/Differenzierbare_Mannigfaltigkeit) sind ein Oberbegriff für Kurven, Flächen und andere geometrische Objekte, die – aus der Sicht der Analysis – lokal aussehen wie ein [euklidischer Raum](https://de.m.wikipedia.org/wiki/Euklidischer_Raum) (differenzierbare Mannigfaltigkeiten sind per Definition lokal diffeomorph zum euklidischen Raum)\n",
        "\n",
        "* Im Unterschied zu topologischen Mannigfaltigkeiten ist es auf differenzierbaren Mannigfaltigkeiten möglich, über Ableitungen und verwandte Konzepte zu sprechen. \n",
        "\n",
        "* Sie spielen auch eine zentrale Rolle in der Differentialgeometrie, der Differentialtopologie, in der theoretischen Physik, insbesondere in der klassischen Mechanik bei Systemen, die Zwangsbedingungen unterliegen, und bei der Beschreibung der Raumzeit in der allgemeinen Relativitätstheorie.\n",
        "\n",
        "* Es gibt zwei Herangehensweisen an differenzierbare Mannigfaltigkeiten: \n",
        "\n",
        "  * einerseits als Teilmengen eines höherdimensionalen euklidischen Raumes, die entweder durch Gleichungen oder durch [Parametrisierungen](https://de.wikipedia.org/wiki/Parameterdarstellung) beschrieben sind und im Artikel [Untermannigfaltigkeit des $\\mathbb {R} ^{n}$](https://de.wikipedia.org/wiki/Untermannigfaltigkeit_des_ℝn) behandelt werden, und \n",
        "  \n",
        "  * andererseits als abstrakte Mannigfaltigkeiten, deren differenzierbare Struktur durch einen [Atlas](https://de.wikipedia.org/wiki/Atlas_(Mathematik)) gegeben ist. \n",
        "  \n",
        "* Die Äquivalenz der beiden Sichtweisen wird durch den [Einbettungssatz von Whitney](https://de.m.wikipedia.org/wiki/Einbettungssatz_von_Whitney) sichergestellt."
      ]
    },
    {
      "cell_type": "markdown",
      "metadata": {
        "id": "30lmkM3NcjcD"
      },
      "source": [
        "**Karte & differenzierbarer Atlas**\n",
        "\n",
        "Eine Karte eines topologischen Raums $M$ ist ein Paar $(U, \\phi)$ bestehend aus einer in $M$ offenen, nichtleeren Menge $U \\subseteq M$ und einem Homöomorphismus\n",
        "\n",
        ">$\n",
        "\\phi: U \\rightarrow \\phi(U) \\subseteq \\mathbb{R}^{n}\n",
        "$\n",
        "\n",
        "Sind $(U, \\phi)$ und $(V, \\psi)$ zwei Karten von $M$ mit $U \\cap V \\neq \\emptyset$, so nennt man die Abbildung\n",
        "\n",
        ">$\n",
        "\\psi \\circ \\phi^{-1}: \\phi(U \\cap V) \\rightarrow \\psi(U \\cap V)\n",
        "$\n",
        "\n",
        "einen Kartenwechsel. \n",
        "\n",
        "Ein Atlas für $M$ ist dann eine Familie $\\left(U_{i}, \\phi_{i}\\right)_{i \\in I}$ von Karten ( $I$ ist eine Indexmenge), so dass \n",
        "\n",
        ">$M=\\bigcup_{i \\in I} U_{i}$\n",
        "\n",
        "gilt. Man nennt einen Atlas $C^{k}$ -differenzierbar mit $k \\geq 1$, wenn alle seine Kartenwechsel $C^{k}$ Diffeomorphismen sind."
      ]
    },
    {
      "cell_type": "markdown",
      "metadata": {
        "id": "s-PvvyXXc-3M"
      },
      "source": [
        "**Differenzierbare Struktur**\n",
        "\n",
        "* Zwei $C^{k}$ -differenzierbare Atlanten sind äquivalent, wenn auch ihre Vereinigung ein $C^{k}$. differenzierbarer Atlas ist. \n",
        "\n",
        "* Eine Äquivalenzklasse von Atlanten bezüglich dieser Äquivalenzrelation wird $C^{k}$ -differenzierbare Struktur der Mannigfaltigkeit genannt.\n",
        "\n",
        "* Ist $k=\\infty$, so spricht man auch von einer glatten Struktur."
      ]
    },
    {
      "cell_type": "markdown",
      "metadata": {
        "id": "CwCQ-9PCa7ao"
      },
      "source": [
        "**Differenzierbare Mannigfaltigkeit (Definition)**\n",
        "\n",
        "> Eine k-mal differenzierbare Mannigfaltigkeit ist ein topologischer [Hausdorffraum](https://de.wikipedia.org/wiki/Hausdorff-Raum) (=ein [topologischer Raum](https://de.wikipedia.org/wiki/Topologischer_Raum) $M$, in dem das [Trennungsaxiom](https://de.wikipedia.org/wiki/Trennungsaxiom) $T_{2}$), der das zweite Abzählbarkeitsaxiom erfüllt, zusammen mit einer \n",
        "$C^{k}$-differenzierbaren Struktur. Die differenzierbare Mannigfaltigkeit hat die Dimension \n",
        "n, wenn eine Karte und damit alle Karten in eine Teilmenge des $\\mathbb {R} ^{n}$ abbilden.\n",
        "\n",
        "> Eine differenzierbare Mannigfaltigkeit mit einer riemannschen Metrik heißt [Riemannsche Mannigfaltigkeit](https://de.wikipedia.org/wiki/Mannigfaltigkeit#Riemannsche_Mannigfaltigkeiten). (*Um auf einer differenzierbaren Mannigfaltigkeit von Längen, Abständen, Winkeln und Volumen zu sprechen, benötigt man eine zusätzliche Struktur. Eine Riemannsche Metrik (auch Metrischer Tensor genannt) definiert im Tangentialraum jedes Punktes der Mannigfaltigkeit ein Skalarprodukt.*)"
      ]
    },
    {
      "cell_type": "markdown",
      "metadata": {
        "id": "gNQWJEs2by72"
      },
      "source": [
        "**Glatte Mannigfaltigkeit**\n",
        "\n",
        "Eine [glatte Mannigfaltigkeit](https://de.wikipedia.org/wiki/Differenzierbare_Mannigfaltigkeit#Glatte_Mannigfaltigkeit) ist ebenfalls ein topologischer Hausdorffraum, der das zweite Abzählbarkeitsaxiom erfüllt, zusammen mit einer glatten Struktur."
      ]
    },
    {
      "cell_type": "markdown",
      "metadata": {
        "id": "ZO_Pg9paZmuJ"
      },
      "source": [
        "**Beispiele**"
      ]
    },
    {
      "cell_type": "markdown",
      "metadata": {
        "id": "U7h8OWfZZpz6"
      },
      "source": [
        "* Der euklidische Vektorraum $\\mathbb {R} ^{n}$ kann auch als n-dimensionale differenzierbare Mannigfaltigkeit verstanden werden. Einen differenzierbaren Atlas bestehend aus einer Karte erhält man mittels der identischen Abbildung.\n",
        "\n",
        "* Das wahrscheinlich einfachste, aber nichttriviale Beispiel einer differenzierbaren Mannigfaltigkeit ist die \n",
        "n-dimensionale Sphäre. Die zweidimensionale Sphäre kann man sich als Hülle einer Kugel vorstellen. Einen differenzierbaren Atlas der Sphäre erhält man schon mit Hilfe von zwei Karten beispielsweise mit Hilfe der [stereographischen Projektion](https://de.wikipedia.org/wiki/Stereografische_Projektion) (=eine Abbildung einer Kugelfläche in eine Ebene mit Hilfe einer Zentralprojektion, deren Projektionszentrum (PZ) auf der Kugel liegt). Auf der Sphäre ist es allerdings je nach Dimension möglich, unterschiedliche nicht kompatible differenzierbare Atlanten zu definieren."
      ]
    },
    {
      "cell_type": "markdown",
      "metadata": {
        "id": "7_ny37AvMYht"
      },
      "source": [
        "#### **Differenzierbare Kurven (Frenet-Frame)**"
      ]
    },
    {
      "cell_type": "markdown",
      "metadata": {
        "id": "IOgMn-z5Nt1c"
      },
      "source": [
        "**Definition**"
      ]
    },
    {
      "cell_type": "markdown",
      "metadata": {
        "id": "Ms1yMaabTBGv"
      },
      "source": [
        "* Differenzierbare Kurven deals with [smooth curves](https://en.wikipedia.org/wiki/Differentiable_curve) in the plane and the Euclidean space by methods of differential and integral calculus.\n",
        "\n",
        "* Background: Many [specific curves](https://en.wikipedia.org/wiki/List_of_curves) have been thoroughly investigated using the [synthetic approach](https://en.wikipedia.org/wiki/Synthetic_geometry). \n",
        "\n",
        "> Differential geometry takes another path: curves are represented in a parametrized form, and their geometric properties and various quantities associated with them, such as the **curvature and the arc length, are expressed via derivatives and integrals using vector calculus**. \n",
        "\n",
        "* One of the most important tools used to analyze a curve is the **Frenet frame**, a moving frame that provides a coordinate system at each point of the curve that is \"best adapted\" to the curve near that point.\n",
        "\n",
        "* The theory of curves is much simpler and narrower in scope than the theory of surfaces and its higher-dimensional generalizations **because a regular curve in a Euclidean space has no intrinsic geometry**.\n",
        "\n",
        "* Any regular curve may be parametrized by the arc length (the natural parametrization). \n",
        "\n",
        "* From the point of view of a theoretical point particle on the curve that does not know anything about the ambient space, all curves would appear the same. Different space curves are only distinguished by how they bend and twist. Quantitatively, this is **measured by the differential-geometric invariants called the curvature and the torsion of a curve**. The [fundamental theorem of curves](https://en.wikipedia.org/wiki/Fundamental_theorem_of_curves) asserts that the knowledge of these invariants completely determines the curve.\n",
        "\n",
        "  * the fundamental theorem of space curves states that every regular curve in three-dimensional space, with non-zero curvature, has its shape (and size) completely determined by its [curvature (Krümmung)](https://en.wikipedia.org/wiki/Curvature) and [torsion (Windung)](https://en.wikipedia.org/wiki/Torsion_of_a_curve).\n",
        "\n",
        "  * **A curve can be described, and thereby defined, by a pair of scalar fields: curvature $\\kappa$  and torsion $\\tau$**, both of which depend on some parameter which parametrizes the curve but which can ideally be the arc length of the curve. \n",
        "  \n",
        "  * From just the curvature and torsion, the vector fields for the tangent, normal, and binormal vectors can be derived using the Frenet–Serret formulas. Then, integration of the tangent field (done numerically, if not analytically) yields the curve.\n"
      ]
    },
    {
      "cell_type": "markdown",
      "metadata": {
        "id": "jX3ON_EN5pTt"
      },
      "source": [
        "See also: https://en.wikipedia.org/wiki/Curve"
      ]
    },
    {
      "cell_type": "markdown",
      "metadata": {
        "id": "92sEhWjv5raF"
      },
      "source": [
        "**Definition**"
      ]
    },
    {
      "cell_type": "markdown",
      "metadata": {
        "id": "GvCIjsaD6Cdo"
      },
      "source": [
        "A parametric $C^{r}$ -curve or a $C^{r}$ - parametrization is a vector-valued function\n",
        "\n",
        ">$\\gamma: I \\rightarrow \\mathbb{R}^{n}$\n",
        "\n",
        "that is $r$ -times continuously differentiable (that is, the component functions of $\\gamma$ are continuously differentiable), where $n \\in \\mathbb{N}, r \\in \\mathbb{N} \\cup\\{\\infty\\},$ and $I$ be a non-empty interval of real numbers. \n",
        "\n",
        "* The image of the parametric curve is $\\gamma[I] \\subseteq \\mathbb{R}^{n}$. **The parametric curve $\\gamma$ and its image $\\gamma[I]$ must be distinguished because a given subset of $\\mathbb{R}^{n}$ can be the image of several distinct parametric curves.** \n",
        "\n",
        "* The parameter $t$ in $\\gamma(t)$ can be thought of as representing time, and $\\gamma$ the trajectory of a moving point in space. When $I$ is a closed interval $[a, b], \\gamma(a)$ is called the starting point and $\\gamma(b)$ is the endpoint of $\\gamma$. \n",
        "\n",
        "* If the starting and the end points coincide (that is, $\\gamma(a)=\\gamma(b)$ ), then $\\gamma$ is a closed curve or a loop. For being a $C^{r}$ -loop, the function $\\gamma$ must be $r$ -times continuously differentiable and satisfy $\\gamma^{(k)}(a)=\\gamma^{(k)}(b)$ for $0 \\leq k \\leq r$."
      ]
    },
    {
      "cell_type": "markdown",
      "metadata": {
        "id": "YNxVQ6gtIMSA"
      },
      "source": [
        "**Re-parametrization and equivalence relation**"
      ]
    },
    {
      "cell_type": "markdown",
      "metadata": {
        "id": "H6ZP368nIHOm"
      },
      "source": [
        "* Given the image of a parametric curve, there are several different parametrizations of the parametric curve. \n",
        "\n",
        "* **Differential geometry aims to describe the properties of parametric curves that are invariant under certain reparametrizations**. \n",
        "\n",
        "  *  A suitable equivalence relation on the set of all parametric curves must be defined.\n",
        "  \n",
        "  * The differential-geometric properties of a parametric curve (such as its length, its Frenet frame, and its generalized curvature) are invariant under reparametrization and therefore properties of the equivalence class itself. \n",
        "  \n",
        ">  **The equivalence classes are called $C$<sup>r</sup>-curves and are central objects studied in the differential geometry of curves.**\n",
        "\n",
        "Two parametric $C^{r}$ -curves, $\\gamma_{1}: I_{1} \\rightarrow \\mathbb{R}^{n}$ and $\\gamma_{2}: I_{2} \\rightarrow \\mathbb{R}^{n}$, are\n",
        "said to be equivalent if and only if there exists a bijective $C^{r}$ -map $\\varphi: I_{1} \\rightarrow I_{2}$ such that\n",
        "\n",
        ">$\n",
        "\\forall t \\in I_{1}: \\quad \\varphi^{\\prime}(t) \\neq 0\n",
        "$\n",
        "\n",
        "and\n",
        "\n",
        ">$\n",
        "\\forall t \\in I_{1}: \\quad \\gamma_{2}(\\varphi(t))=\\gamma_{1}(t)\n",
        "$\n",
        "\n",
        "$\\gamma_{2}$ is then said to be a re-parametrization of $\\gamma_{1}$.\n",
        "\n",
        "Re-parametrization defines an equivalence relation on the set of all parametric $C^{r}$ -curves of class $C^{r}$. The equivalence class of this\n",
        "relation simply a $C^{r}$ -curve.\n",
        "An even finer equivalence relation of oriented parametric $C^{r}-$ curves can be defined by requiring $\\varphi$ to satisfy $\\varphi^{\\prime}(t)>0$.\n",
        "\n",
        "Equivalent parametric $C^{r}$ -curves have the same image, and equivalent oriented parametric $C^{r}$ -curves even traverse the image in the same direction.\n",
        "\n",
        "More details [see here](https://en.wikipedia.org/wiki/Differentiable_curve#Re-parametrization_and_equivalence_relation)"
      ]
    },
    {
      "cell_type": "markdown",
      "metadata": {
        "id": "nKPlaOka4I4Y"
      },
      "source": [
        "**Osculating circle**"
      ]
    },
    {
      "cell_type": "markdown",
      "metadata": {
        "id": "ogZDs9mH4Ka1"
      },
      "source": [
        "https://en.m.wikipedia.org/wiki/Osculating_circle"
      ]
    },
    {
      "cell_type": "markdown",
      "metadata": {
        "id": "RTEBfB0u5Utc"
      },
      "source": [
        "defines the curvature of the given curve at that point"
      ]
    },
    {
      "cell_type": "markdown",
      "metadata": {
        "id": "h2H6Xr532xIw"
      },
      "source": [
        "**Frenet–Serret formulas ('Frenet-Frame')**"
      ]
    },
    {
      "cell_type": "markdown",
      "metadata": {
        "id": "UGmwoXZW8EXe"
      },
      "source": [
        "![ghjg](https://upload.wikimedia.org/wikipedia/commons/3/32/Frenet_frame.png)"
      ]
    },
    {
      "cell_type": "markdown",
      "metadata": {
        "id": "Yr9uTAz_8Jy7"
      },
      "source": [
        "*An illustration of the Frenet frame for a point on a space curve. T is the unit tangent, P the unit normal, and B the unit binormal (=cross product of T and P).*"
      ]
    },
    {
      "cell_type": "markdown",
      "metadata": {
        "id": "E0O6_rZSbKgi"
      },
      "source": [
        "* The [Frenet frame](https://en.m.wikipedia.org/wiki/Frenet–Serret_formulas), see also [Moving Frame](https://en.wikipedia.org/wiki/Moving_frame), and the generalized curvatures are invariant under reparametrization and are therefore differential geometric properties of the curve.\n",
        "\n",
        "* A Frenet frame is a [moving reference frame](https://en.wikipedia.org/wiki/Moving_frame) of $n$\n",
        "orthonormal vectors $e_{i}(t)$ which are used to describe a curve locally at each point $\\gamma(t)$. \n",
        "\n",
        "* **It is the\n",
        "main tool in the differential geometric treatment of\n",
        "curves because it is far easier and more natural to\n",
        "describe local properties (e.g. curvature, torsion)\n",
        "in terms of a local reference system than using a\n",
        "global one such as Euclidean coordinates**.\n",
        "\n",
        "* The Frenet–Serret frame is a moving frame defined on a curve which can be constructed purely from the velocity and acceleration of the curve.\n",
        "\n",
        "* The Frenet–Serret frame plays a key role in the differential geometry of curves, ultimately leading to a more or less complete classification of smooth curves in Euclidean space up to [congruence (Geometry](https://en.wikipedia.org/wiki/Congruence_(geometry)).\n",
        "\n",
        "* The Frenet–Serret formulas show that **there is a pair of functions defined on the curve**, the torsion and curvature, which are **obtained by differentiating the frame**, and which describe completely how the frame evolves in time along the curve. A key feature of the general method is that a preferred moving frame, provided it can be found, gives a complete kinematic description of the curve.\n"
      ]
    },
    {
      "cell_type": "markdown",
      "metadata": {
        "id": "aMEsN5NIDBAU"
      },
      "source": [
        "Given a $C^{n+1}$ -curve $\\gamma$ in $\\mathbb{R}^{n}$ which is regular of order $n$ the Frenet frame for the curve is the set of orthonormal\n",
        "vectors\n",
        "\n",
        ">$\n",
        "\\mathbf{e}_{1}(t), \\ldots, \\mathbf{e}_{n}(t)\n",
        "$\n",
        "\n",
        "called Frenet vectors. They are constructed from the derivatives of $\\gamma(t)$\n",
        "using the [Gram-Schmidt orthogonalization](https://en.wikipedia.org/wiki/Gram%E2%80%93Schmidt_process) algorithm with\n",
        "\n",
        ">$\n",
        "\\begin{aligned}\n",
        "\\mathbf{e}_{1}(t) &=\\frac{\\gamma^{\\prime}(t)}{\\left\\|\\gamma^{\\prime}(t)\\right\\|} \\\\\n",
        "\\mathbf{e}_{j}(t) &=\\frac{\\overline{\\mathbf{e}_{j}}(t)}{\\left\\|\\overline{\\mathbf{e}_{j}}(t)\\right\\|}, \\quad \\overline{\\mathbf{e}_{j}}(t)=\\gamma^{(j)}(t)-\\sum_{i=1}^{j-1}\\left\\langle\\gamma^{(j)}(t), \\mathbf{e}_{i}(t)\\right\\rangle \\mathbf{e}_{i}(t)\n",
        "\\end{aligned}\n",
        "$\n",
        "\n",
        "The Frenet frame and the generalized curvatures are invariant under reparametrization and are therefore differential geometric properties of the curve.\n",
        "\n"
      ]
    },
    {
      "cell_type": "markdown",
      "metadata": {
        "id": "oajgE5hNDsvE"
      },
      "source": [
        "![hh](https://upload.wikimedia.org/wikipedia/commons/0/01/FrenetTN.svg)"
      ]
    },
    {
      "cell_type": "markdown",
      "metadata": {
        "id": "wvFJgS2eErsD"
      },
      "source": [
        "*The $\\mathrm{T}$ and $\\mathrm{N}$ vectors at two points on a plane curve, a translated version of the second frame (dotted), and the change in $\\mathrm{T}: \\delta \\mathrm{T}^{\\prime}$. $\\delta$ s is the distance between the points. In the limit $\\frac{d \\mathrm{~T}}{d s}$ will be in the direction $\\mathrm{N}$ and the curvature describes the speed of rotation of the frame.*"
      ]
    },
    {
      "cell_type": "markdown",
      "metadata": {
        "id": "Ro0O-zcGIYcL"
      },
      "source": [
        "The **tangent unit vector** $\\mathrm{T}$ is defined as\n",
        "\n",
        ">$\n",
        "\\mathbf{T}=\\frac{d \\mathbf{r}}{d s}\n",
        "$\n",
        "\n",
        "*If a curve γ represents the path of a particle, then the instantaneous **velocity** of the particle at a given point P is expressed by a vector, called the tangent vector to the curve at P.*"
      ]
    },
    {
      "cell_type": "markdown",
      "metadata": {
        "id": "JItjWzs-Ia0a"
      },
      "source": [
        "\n",
        "The **normal unit vector** $\\mathrm{N}$ is defined as\n",
        "\n",
        ">$\n",
        "\\mathbf{N}=\\frac{\\frac{d \\mathbf{T}}{d s}}{\\left\\|\\frac{d \\mathbf{T}}{d s}\\right\\|} .\n",
        "$\n",
        "\n",
        "*The normal vector, sometimes called the **curvature** vector, indicates the deviance of the curve from being a straight line.*\n",
        "\n",
        "Note that by calling curvature $\\kappa=\\left\\|\\frac{d \\mathbf{T}}{d s}\\right\\|$ we automatically obtain the first relation.\n"
      ]
    },
    {
      "cell_type": "markdown",
      "metadata": {
        "id": "DCXP45eqFIKA"
      },
      "source": [
        "The **binormal unit vector** $\\mathrm{B}$ is defined as the cross product of $\\mathrm{T}$ and $\\mathrm{N}$ :\n",
        "$\\mathbf{B}=\\mathbf{T} \\times \\mathbf{N}$"
      ]
    },
    {
      "cell_type": "markdown",
      "metadata": {
        "id": "MJdvLG5bMVZj"
      },
      "source": [
        "**See more details about all three here**: https://en.wikipedia.org/wiki/Differentiable_curve#Special_Frenet_vectors_and_generalized_curvatures"
      ]
    },
    {
      "cell_type": "markdown",
      "metadata": {
        "id": "Py9xY6DxIrnX"
      },
      "source": [
        "*Example of a moving Frenet basis (T in blue, N in green, B in purple) along [Viviani's curve](https://en.wikipedia.org/wiki/Viviani%27s_curve):*\n",
        "\n",
        "![ggg](https://upload.wikimedia.org/wikipedia/commons/1/14/Frenet-Serret-frame_along_Vivani-curve.gif)"
      ]
    },
    {
      "cell_type": "markdown",
      "metadata": {
        "id": "Z1J7uj68Idoa"
      },
      "source": [
        "**The three unit vectors T, N, and B are all perpendicular to each other.** The Frenet–Serret formulas are a set of ordinary differential equations of first order. The solution is the set of Frenet vectors describing the curve specified by the generalized curvature functions χi. The Frenet-Serret formulas are:\n",
        "\n",
        ">$\n",
        "\\begin{array}{lc}\n",
        "\\frac{d \\mathbf{T}}{d s}= & \\kappa \\mathbf{N} \\\\\n",
        "\\frac{d \\mathbf{N}}{d s}=-\\kappa \\mathbf{T} & \\quad+\\tau \\mathbf{B} \\\\\n",
        "\\frac{d \\mathbf{B}}{d s}= & -\\tau \\mathbf{N}\n",
        "\\end{array}\n",
        "$\n",
        "\n",
        "where $\\kappa$ is the curvature and $\\tau$ is the torsion.\n",
        "\n",
        "See more details: https://en.wikipedia.org/wiki/Frenet%E2%80%93Serret_formulas#Definitions\n",
        "\n",
        "Special Cases:\n",
        "\n",
        "* If the curvature is always zero then the curve will be a straight line. Here the vectors N, B and the torsion are not well defined.\n",
        "\n",
        "* If the torsion is always zero then the curve will lie in a plane.\n",
        "\n",
        "* A helix has constant curvature and constant torsion.\n"
      ]
    },
    {
      "cell_type": "markdown",
      "metadata": {
        "id": "AFNOxgfQFpf-"
      },
      "source": [
        "![ggg](https://upload.wikimedia.org/wikipedia/commons/8/87/Frenetframehelix.gif)"
      ]
    },
    {
      "cell_type": "markdown",
      "metadata": {
        "id": "rqKfzRVoFtam"
      },
      "source": [
        "*The Frenet-Serret frame moving along a helix. The T is represented by the blue arrow, N is represented by the red arrow while B is represented by the black arrow.*"
      ]
    },
    {
      "cell_type": "markdown",
      "metadata": {
        "id": "btiOrMfFJgr7"
      },
      "source": [
        "* The Frenet–Serret frame consisting of the tangent T, normal N, and binormal B collectively forms an **orthonormal basis of 3-space**. At each point of the curve, this attaches a frame of reference or rectilinear coordinate system\n",
        "\n",
        "* The Frenet–Serret formulas admit a **kinematic interpretation**. Imagine that an observer moves along the curve in time, using the attached frame at each point as their coordinate system. The Frenet–Serret formulas mean that this coordinate system is constantly rotating as an observer moves along the curve. Hence, this coordinate system is always [non-inertial](https://en.wikipedia.org/wiki/Non-inertial_reference_frame) (*A non-inertial reference frame is a frame of reference that undergoes acceleration with respect to an inertial frame*). The angular momentum of the observer's coordinate system is proportional to the Darboux vector of the frame.\n",
        "\n",
        "* In the life sciences, particularly in models of microbial motion, considerations of the Frenet-Serret frame have been used to explain the mechanism by which a moving organism in a viscous medium changes its direction.\n",
        "\n",
        "* In physics, the Frenet-Serret frame is useful when it is impossible or inconvenient to assign a natural coordinate system for a trajectory. Such is often the case, for instance, in relativity theory. Within this setting, Frenet-Serret frames have been used to model the precession of a gyroscope in a gravitational well.\n"
      ]
    },
    {
      "cell_type": "markdown",
      "metadata": {
        "id": "VE74j4-aKEpe"
      },
      "source": [
        "*On the example of a torus knot, the tangent vector T, the normal vector N, and the binormal vector B, along with the curvature κ(s), and the torsion τ(s) are displayed. \n",
        "At the peaks of the torsion function the rotation of the Frenet-Serret frame (T,N,B) around the tangent vector is clearly visible.*\n",
        "\n",
        "![ggg](https://upload.wikimedia.org/wikipedia/commons/7/70/Torus-Knot_nebeneinander_animated.gif)"
      ]
    },
    {
      "cell_type": "markdown",
      "metadata": {
        "id": "Rtv7pXEfKfuo"
      },
      "source": [
        "Repeatedly differentiating the curve and applying the Frenet–Serret formulas gives the following Taylor approximation to the curve near s = 0:\n",
        "\n",
        "> $\\mathbf{r}(s)=\\mathbf{r}(0)+\\left(s-\\frac{s^{3} \\kappa^{2}(0)}{6}\\right) \\mathbf{T}(0)+\\left(\\frac{s^{2} \\kappa(0)}{2}+\\frac{s^{3} \\kappa^{\\prime}(0)}{6}\\right) \\mathbf{N}(0)+\\left(\\frac{s^{3} \\kappa(0) \\tau(0)}{6}\\right) \\mathbf{B}(0)+o\\left(s^{4}\\right)$\n",
        "\n",
        "See [more here](https://en.wikipedia.org/wiki/Frenet–Serret_formulas#Taylor_expansion)"
      ]
    },
    {
      "cell_type": "markdown",
      "metadata": {
        "id": "gxFO_aPZK1_M"
      },
      "source": [
        "**Ribbons and tubes**"
      ]
    },
    {
      "cell_type": "markdown",
      "metadata": {
        "id": "Fr1tqJ0oK4dO"
      },
      "source": [
        "The Frenet–Serret apparatus allows one to define certain optimal ribbons and tubes centered around a curve. These have diverse applications in materials science and elasticity theory, as well as to computer graphics."
      ]
    },
    {
      "cell_type": "markdown",
      "metadata": {
        "id": "NLOKEYj7K7QS"
      },
      "source": [
        "*A ribbon defined by a curve of constant torsion and a highly oscillating curvature. The arc length parameterization of the curve was defined via integration of the Frenet-Serret equations.*\n",
        "\n",
        "![hhh](https://upload.wikimedia.org/wikipedia/commons/d/dd/Ribbon-Frenet.png)"
      ]
    },
    {
      "cell_type": "markdown",
      "metadata": {
        "id": "9w82qUiRLMGz"
      },
      "source": [
        "**Congruence of curves**"
      ]
    },
    {
      "cell_type": "markdown",
      "metadata": {
        "id": "kDaontSfLOWx"
      },
      "source": [
        "* In classical Euclidean geometry, one is interested in studying the properties of figures in the plane which are invariant under congruence, so that if two figures are congruent then they must have the same properties. The Frenet-Serret apparatus presents the curvature and torsion as numerical invariants of a space curve.\n",
        "\n",
        "* Roughly speaking, two curves C and C′ in space are congruent if one can be rigidly moved to the other. A rigid motion consists of a combination of a translation and a rotation. A translation moves one point of C to a point of C′. The rotation then adjusts the orientation of the curve C to line up with that of C′. Such a combination of translation and rotation is called a Euclidean motion. In terms of the parametrization r(t) defining the first curve C, a general [Euclidean motion](https://en.wikipedia.org/wiki/Rigid_transformation) of C is a composite of the following operations:\n",
        "\n",
        "  * (Translation) r(t) → r(t) + v, where v is a constant vector.\n",
        "\n",
        "  * (Rotation) r(t) + v → M(r(t) + v), where M is the matrix of a rotation.\n",
        "\n",
        "* The Frenet–Serret frame is particularly well-behaved with regard to Euclidean motions. First, since T, N, and B can all be given as successive derivatives of the parametrization of the curve, each of them is insensitive to the addition of a constant vector to r(t). Intuitively, the TNB frame attached to r(t) is the same as the TNB frame attached to the new curve r(t) + v.\n",
        "\n"
      ]
    },
    {
      "cell_type": "markdown",
      "metadata": {
        "id": "f7N9Drp8MaU_"
      },
      "source": [
        "#### **Differenzierbare Oberflächen (Gaussian Curvature for $\\mathbb{R}^{3}$)**"
      ]
    },
    {
      "cell_type": "markdown",
      "metadata": {
        "id": "v9B0-W5pOH1j"
      },
      "source": [
        "##### **Summary**"
      ]
    },
    {
      "cell_type": "markdown",
      "metadata": {
        "id": "zxCVvgA_N8cJ"
      },
      "source": [
        "**Intrinsic vs Extrinsic Properties**"
      ]
    },
    {
      "cell_type": "markdown",
      "metadata": {
        "id": "LdXxyd9VNBzy"
      },
      "source": [
        "* [Differential geometry of surfaces (smooth surfaces)](https://en.wikipedia.org/wiki/Differential_geometry_of_surfaces) deals with the differential geometry of smooth surfaces with various additional structures, most often, a Riemannian metric.\n",
        "\n",
        "* What's so special? Surfaces have been extensively studied from various perspectives: \n",
        "\n",
        "  * extrinsically, relating to their embedding in Euclidean space and \n",
        "  \n",
        "  * intrinsically, reflecting their properties determined solely by the distance within the surface as measured along curves on the surface.\n",
        "\n"
      ]
    },
    {
      "cell_type": "markdown",
      "metadata": {
        "id": "7qQSKka7Rbns"
      },
      "source": [
        "**Intrinsic Properties**\n",
        "\n",
        "* intrinsic geometry of a surface: the properties which are determined only by the geodesic distances between points on the surface independently of the particular way in which the surface is located in the ambient Euclidean space.\n",
        "  \n",
        "* One of the fundamental concepts investigated is the [Gaussian curvature](https://en.m.wikipedia.org/wiki/Gaussian_curvature), first studied in depth by Carl Friedrich Gauss, who showed that curvature was an intrinsic property of a surface, independent of its isometric embedding in Euclidean space.\n",
        "\n",
        "* Surfaces naturally arise as graphs of functions of a pair of variables, and sometimes appear in parametric form or as loci associated to space curves. \n",
        "\n",
        "* An important role in their study has been played by Lie groups (in the spirit of the Erlangen program), namely the [symmetry groups](https://en.m.wikipedia.org/wiki/Symmetry_group) of the Euclidean plane, the sphere and the hyperbolic plane. \n",
        "\n",
        "* **These Lie groups can be used to describe surfaces of constant Gaussian curvature**; they also provide an essential ingredient in the modern approach to intrinsic differential geometry through [connections](https://en.m.wikipedia.org/wiki/Connection_(mathematics))."
      ]
    },
    {
      "cell_type": "markdown",
      "metadata": {
        "id": "0wST7YUpRZ4D"
      },
      "source": [
        "**Extrinsic Properties**\n",
        "\n",
        "* On the other hand, extrinsic properties relying on an embedding of a surface in Euclidean space have also been extensively studied. \n",
        "\n",
        "* This is well illustrated by the non-linear [Euler–Lagrange equations](https://en.m.wikipedia.org/wiki/Euler–Lagrange_equation) in the [calculus of variations](https://en.m.wikipedia.org/wiki/Calculus_of_variations): although Euler developed the one variable equations to understand [geodesics](https://en.m.wikipedia.org/wiki/Geodesic), defined independently of an embedding, one of Lagrange's main applications of the two variable equations was to [minimal surfaces](https://en.m.wikipedia.org/wiki/Minimal_surface), a concept that can only be defined in terms of an embedding."
      ]
    },
    {
      "cell_type": "markdown",
      "metadata": {
        "id": "AuGMPwNrTZRE"
      },
      "source": [
        "**Summary of Differential geometry of surfaces (smooth surfaces)**"
      ]
    },
    {
      "cell_type": "markdown",
      "metadata": {
        "id": "VBm-zkuiTLWf"
      },
      "source": [
        "* The essential mathematical object is that of a regular surface (form a general class of subsets of three-dimensional Euclidean space ℝ3). \n",
        "\n",
        "* By analyzing the class of curves which lie on such a surface, and the **degree to which the surfaces force them to curve in ℝ3**, one can associate to each point of the surface two numbers, called the **principal curvatures**. Their average is called the  **mean curvature** of the surface, and their product is called the **Gaussian curvature**.\n"
      ]
    },
    {
      "cell_type": "markdown",
      "metadata": {
        "id": "Y7hRCbiWTq7p"
      },
      "source": [
        "There are many classic examples of regular surfaces, including:\n",
        "\n",
        "* familiar examples such as planes, cylinders, and spheres\n",
        "minimal surfaces, which are defined by the property that their mean curvature is zero at every point. The best-known examples are catenoids and helicoids, although many more have been discovered. \n",
        "\n",
        "* Minimal surfaces can also be defined by properties to do with surface area, with the consequence that they provide a mathematical model for the shape of soap films when stretched across a wire frame\n",
        "\n",
        "* [ruled surfaces](https://en.m.wikipedia.org/wiki/Ruled_surface), which are surfaces that have at least one straight line running through every point; examples include the cylinder and the hyperboloid of one sheet."
      ]
    },
    {
      "cell_type": "markdown",
      "metadata": {
        "id": "RKX-RkKKUBvU"
      },
      "source": [
        "A surprising result of Carl Friedrich Gauss, known as the theorema egregium, showed that the Gaussian curvature of a surface, which by its definition has to do with how curves on the surface change directions in three dimensional space, \n",
        "\n",
        "* can actually be measured by the lengths of curves lying on the surfaces together with the angles made when two curves on the surface intersect. Terminologically, this says that the Gaussian curvature can be calculated from the **first fundamental form**, also called [metric tensor](https://en.m.wikipedia.org/wiki/Metric_tensor) of the surface.\n",
        "\n",
        "* The **second fundamental form**, by contrast, is an object which encodes how lengths and angles of curves on the surface are distorted when the curves are pushed off of the surface.\n",
        "\n",
        "* Despite measuring different aspects of length and angle, the **first and second fundamental forms are not independent from one another**, and they satisfy certain constraints called the **Gauss-Codazzi equations**. A major theorem, often called the **fundamental theorem of the differential geometry of surfaces**, asserts that whenever two objects satisfy the Gauss-Codazzi constraints, they will arise as the first and second fundamental forms of a regular surface.\n",
        "\n"
      ]
    },
    {
      "cell_type": "markdown",
      "metadata": {
        "id": "1C_KtXkhVbkx"
      },
      "source": [
        "Using the first fundamental form, it is possible to **define new objects on a regular surface**. \n",
        "\n",
        "  * Geodesics are curves on the surface which satisfy a certain second-order ordinary differential equation which is specified by the first fundamental form. \n",
        "  \n",
        "  * They are very directly connected to the study of lengths of curves; a geodesic of sufficiently short length will always be the curve of shortest length on the surface which connects its two endpoints. \n",
        "  \n",
        "  * Thus, geodesics are fundamental to the optimization problem of determining the shortest path between two given points on a regular surface.\n",
        "\n"
      ]
    },
    {
      "cell_type": "markdown",
      "metadata": {
        "id": "UOkBoADKVMAa"
      },
      "source": [
        "One can also define **parallel transport** along any given curve, \n",
        "\n",
        "  * which gives a prescription for how to deform a tangent vector to the surface at one point of the curve to tangent vectors at all other points of the curve. \n",
        "  \n",
        "  * The prescription is determined by a first-order [ordinary differential equation](https://en.m.wikipedia.org/wiki/Ordinary_differential_equation) which is specified by the first fundamental form."
      ]
    },
    {
      "cell_type": "markdown",
      "metadata": {
        "id": "zF1bKk70Vj4a"
      },
      "source": [
        "The above concepts are essentially all to do with multivariable calculus. The **Gauss-Bonnet theorem** is a more global result, which relates the Gaussian curvature of a surface together with its topological type. It asserts that **the average value of the Gaussian curvature is completely determined by the Euler characteristic of the surface together with its surface area**.\n",
        "\n",
        "The notion of **Riemannian manifold and Riemann surface are two generalizations of the regular surfaces discussed above**. \n",
        "\n",
        "  * In particular, essentially all of the theory of regular surfaces as discussed here has a generalization in the theory of Riemannian manifolds. \n",
        "  \n",
        "  * This is not the case for Riemann surfaces, although every regular surface gives an example of a Riemann surface."
      ]
    },
    {
      "cell_type": "markdown",
      "metadata": {
        "id": "fMa5zbOiRpJX"
      },
      "source": [
        "**First and second fundamental forms, shape operator, and Gaussian / Mean / Principle curvature(s***"
      ]
    },
    {
      "cell_type": "markdown",
      "metadata": {
        "id": "AjFSF5W7bNgX"
      },
      "source": [
        "http://wordpress.discretization.de/geometryprocessingandapplicationsws19/a-quick-and-dirty-introduction-to-the-curvature-of-surfaces/"
      ]
    },
    {
      "cell_type": "markdown",
      "metadata": {
        "id": "0SRtr-gkR1tP"
      },
      "source": [
        "https://en.wikipedia.org/wiki/Differential_geometry_of_surfaces#First_and_second_fundamental_forms,_the_shape_operator,_and_the_curvature"
      ]
    },
    {
      "cell_type": "markdown",
      "metadata": {
        "id": "x9Tk5O4qb6l_"
      },
      "source": [
        "Source: https://www.researchgate.net/figure/Measures-of-surface-curvature-a-The-principal-curvatures-are-calculated-from-the_fig6_321165318\n",
        "\n",
        "![jj](https://raw.githubusercontent.com/deltorobarba/repo/master/gaussiancurvature.png)"
      ]
    },
    {
      "cell_type": "markdown",
      "metadata": {
        "id": "q5b2Y8K9go3V"
      },
      "source": [
        "##### **Principal curvature, Gaussian curvature, Shape Operator, Weingarten Map, Darboux_frame, Covariant Derivatives, First & Second Fundamental Form, Christoffel symbols & Isometry**"
      ]
    },
    {
      "cell_type": "markdown",
      "metadata": {
        "id": "Rg-aCsfN3OL-"
      },
      "source": [
        "[a-quick-and-dirty-introduction-to-the-curvature-of-surfaces](http://wordpress.discretization.de/geometryprocessingandapplicationsws19/a-quick-and-dirty-introduction-to-the-curvature-of-surfaces/)"
      ]
    },
    {
      "cell_type": "markdown",
      "metadata": {
        "id": "gkJarn2C5x-p"
      },
      "source": [
        "**Principal curvature**"
      ]
    },
    {
      "cell_type": "markdown",
      "metadata": {
        "id": "SdJxhVi158i0"
      },
      "source": [
        "* The two [principal curvatures](https://en.m.wikipedia.org/wiki/Principal_curvature) at a given point of a surface are the eigenvalues of the **shape operator** at the point. They measure how the surface bends by different amounts in different directions at that point."
      ]
    },
    {
      "cell_type": "markdown",
      "metadata": {
        "id": "0LXOfuGk6EV1"
      },
      "source": [
        "![jj](https://upload.wikimedia.org/wikipedia/commons/e/eb/Minimal_surface_curvature_planes-en.svg)"
      ]
    },
    {
      "cell_type": "markdown",
      "metadata": {
        "id": "rjM66LWvnmXY"
      },
      "source": [
        "* At each point p of a differentiable surface in 3-dimensional Euclidean space one may choose a unit normal vector. \n",
        "\n",
        "  * A normal plane at p is one that contains the normal vector, and will therefore also contain a unique direction tangent to the surface \n",
        "  \n",
        "  * and cut the surface in a plane curve, called **normal section**.\n",
        "  \n",
        "  * This curve will in general have different curvatures for different normal planes at p. \n",
        "  \n",
        "  * **The principal curvatures at p, denoted k1 and k2, are the maximum and minimum values of this curvature.**\n",
        "\n",
        "* Here the curvature of a curve is by definition the [reciprocal](https://en.m.wikipedia.org/wiki/Multiplicative_inverse) of the radius (1/r) of the [osculating circle](https://en.m.wikipedia.org/wiki/Osculating_circle) (defines the curvature of the given curve at that point). "
      ]
    },
    {
      "cell_type": "markdown",
      "metadata": {
        "id": "oSgpKHRQ5nS3"
      },
      "source": [
        "*An osculating circle (osculating circle of a sufficiently smooth plane curve at a given point p on the curve has been traditionally defined as the circle passing through p and a pair of additional points on the curve infinitesimally close to p. Its center lies on the inner normal line, and its curvature defines the curvature of the given curve at that point)*\n",
        "\n",
        "![hh](https://upload.wikimedia.org/wikipedia/commons/thumb/8/84/Osculating_circle.svg/440px-Osculating_circle.svg.png)"
      ]
    },
    {
      "cell_type": "markdown",
      "metadata": {
        "id": "sUEqpKJv5ggq"
      },
      "source": [
        "* **The curvature is taken to be positive if the curve turns in the same direction as the surface's chosen normal, and otherwise negative.**\n",
        "\n",
        "* **The directions in the normal plane where the curvature takes its maximum and minimum values are always perpendicular**, if k1 does not equal k2, a result of Euler (1760), and are called **principal directions**. From a modern perspective, this theorem follows from the spectral theorem because these directions are as the principal axes of a symmetric tensor—the second fundamental form. A systematic analysis of the principal curvatures and principal directions was undertaken by Gaston Darboux, using [Darboux frames](https://en.m.wikipedia.org/wiki/Darboux_frame).\n",
        "\n",
        "* The product k1k2 of the two principal curvatures is the Gaussian curvature, K, and the average (k1 + k2)/2 is the mean curvature, H. For a minimal surface, the mean curvature is zero at every point.\n",
        "\n",
        "* **If at least one of the principal curvatures is zero at every point, then the Gaussian curvature will be 0 and the surface is a developable surface**. "
      ]
    },
    {
      "cell_type": "markdown",
      "metadata": {
        "id": "sF5CEpF4nLg5"
      },
      "source": [
        "*Formal definition of principal curvatures* \n",
        "\n",
        "Let $M$ be a surface in Euclidean space with **second fundamental form** $\\Pi(X, Y)$. Fix a point $p \\in M$, and an orthonormal basis $X_{1}, X_{2}$ of tangent vectors at $p$. Then the principal\n",
        "curvatures are the eigenvalues of the symmetric matrix\n",
        "\n",
        ">$\n",
        "\\left[I_{i j}\\right]=\\left[\\begin{array}{ll}\n",
        "\\Pi\\left(X_{1}, X_{1}\\right) & \\Pi\\left(X_{1}, X_{2}\\right) \\\\\n",
        "\\Pi\\left(X_{2}, X_{1}\\right) & \\Pi\\left(X_{2}, X_{2}\\right)\n",
        "\\end{array}\\right]\n",
        "$\n",
        "\n",
        "If $X_{1}$ and $X_{2}$ are selected so that the matrix $\\left[I_{i j}\\right]$ is a diagonal matrix, then they are called the principal directions. If the surface is oriented, then one often requires that\n",
        "the pair $\\left(X_{1}, X_{2}\\right)$ be positively oriented with respect to the given orientation.\n",
        "\n",
        "Without reference to a particular orthonormal basis, the principal curvatures are the\n",
        "eigenvalues of the shape operator, and the principal directions are its eigenvectors."
      ]
    },
    {
      "cell_type": "markdown",
      "metadata": {
        "id": "_z89MITn8Whw"
      },
      "source": [
        "*An example [taken from here](http://wordpress.discretization.de/geometryprocessingandapplicationsws19/a-quick-and-dirty-introduction-to-the-curvature-of-surfaces/)*\n",
        "\n",
        "Along one direction the bottle quickly curves around in a circle; along another direction it’s completely flat and travels along a straight line: "
      ]
    },
    {
      "cell_type": "markdown",
      "metadata": {
        "id": "xuJ_ijmA8H4l"
      },
      "source": [
        "![gg](https://raw.githubusercontent.com/deltorobarba/repo/master/curvature_01.png)"
      ]
    },
    {
      "cell_type": "markdown",
      "metadata": {
        "id": "T4Z0ktl58YTM"
      },
      "source": [
        "* This way of looking at curvature - in terms of curves traveling along the surface $-$ is often how we treat curvature in general. \n",
        "\n",
        "* In particular, let $X$ be a unit tangent direction at some distinguished point on the surface, and consider a plane containing both $d f(X)$ and the corresponding normal $N$. \n",
        "\n",
        "* This plane intersects the surface in a curve, and the curvature $\\kappa_{n}$ of this curve is called the normal curvature in the direction $X$ (note here also the above mentioned: *curvature of a curve is by definition the reciprocal of the radius (1/r) of the osculating circle*): "
      ]
    },
    {
      "cell_type": "markdown",
      "metadata": {
        "id": "QhlByAk38K69"
      },
      "source": [
        "![gg](https://raw.githubusercontent.com/deltorobarba/repo/master/curvature_02.png)"
      ]
    },
    {
      "cell_type": "markdown",
      "metadata": {
        "id": "hRN2T3YV8_LJ"
      },
      "source": [
        "Remember the Frenet-Serret formulas (Theorem 1.1)? They tell us that the change in the normal along a curve is given by $d N=\\kappa T+\\tau B$ (with kappa for curvature and tau for torsion). We can therefore get the normal curvature along $X$ by extracting the tangential part of $d N$ :\n",
        "\n",
        ">$\n",
        "\\kappa_{n}(X)=\\frac{d f(X) \\cdot d N(X)}{|d f(X)|^{2}}\n",
        "$\n",
        "\n",
        "The factor $|d f(X)|^{2}$ in the denominator simply normalizes any \"stretching out\" that occurs as we go from the domain $M$ into $\\mathbb{R}^{3}$ - a derivation of this formula can be found in Appendix A. Note\n",
        "that normal curvature is signed, meaning the surface can bend toward the normal or away from it."
      ]
    },
    {
      "cell_type": "markdown",
      "metadata": {
        "id": "UBl8uT4j8MIM"
      },
      "source": [
        "![gg](https://raw.githubusercontent.com/deltorobarba/repo/master/curvature_03.png)"
      ]
    },
    {
      "cell_type": "markdown",
      "metadata": {
        "id": "pJSbRQdU-H3b"
      },
      "source": [
        "* At any given point we can ask: **along which directions does the surface bend the most?** \n",
        "\n",
        "* The unit vectors $X_{1}$ and $X_{2}$ along which\n",
        "we find the maximum and minimum normal curvatures $\\kappa_{1}$ and $\\kappa_{2}$ are called the **principal directions**; the curvatures $\\kappa_{i}$ are called the principal curvatures. \n",
        "\n",
        "* For instance, the beer bottle above might have principal curvatures $\\kappa_{1}=1, \\kappa_{2}=0$ at the marked point."
      ]
    },
    {
      "cell_type": "markdown",
      "metadata": {
        "id": "R9ft5DKc-wJ3"
      },
      "source": [
        "*Shape Operator and Weingarten Map*\n",
        "\n",
        "* We can also talk about principal curvature in terms of the **shape operator**, which is the unique map $S: T M \\rightarrow T M$ satisfying\n",
        "\n",
        ">$\n",
        "d f(S X)=d N(X)\n",
        "$\n",
        "\n",
        "* for all tangent vectors $X$. **The shape operator $S$ and the Weingarten map $d N$ essentially represent the same idea: they both tell us how the normal changes as we travel along a direction $X$**. \n",
        "\n",
        "* The only difference is that $S$ specifies this change in terms of a tangent vector on $M$, whereas $d N$ gives us the change as a tangent vector in $\\mathbb{R}^{3}$. \n",
        "\n",
        "* It's worth noting that many authors do not make this distinction, and simply assume an isometric identification of tangent vectors on $M$ and the corresponding tangent vectors in $\\mathbb{R}^{3}$. \n",
        "\n",
        "* However, we choose to be more careful so that we can explicitly account for the dependence of various quantities on the immersion $f$ - this dependence becomes particularly important if you actually want to compute something! (By the way, why can we always express the change in $N$ in terms of a tangent vector? It's because iv is the unit normal, hence it cannot grow or shrink in the normal direction.)"
      ]
    },
    {
      "cell_type": "markdown",
      "metadata": {
        "id": "XSIx8Elk-NuN"
      },
      "source": [
        "* One important fact about the principal directions and principal curvatures is that they correspond to eigenvectors and eigenvalues (respectively) of the shape operator:\n",
        "\n",
        ">$\n",
        "S X_{i}=\\kappa_{i} X_{i}\n",
        "$\n",
        "\n",
        "* Moreover, the principal directions are orthogonal with respect to the induced metric: \n",
        "\n",
        "> $g\\left(X_{1}, X_{2}\\right)=d f\\left(X_{1}\\right) \\cdot d f\\left(X_{2}\\right)=0$. \n",
        "\n",
        "* The **principal curvatures therefore tell us everything there is to know about normal curvature at a point**, since we can express any tangent vector $Y$ as a linear combination of the principal directions $X_{1}$ and $X_{2}$.\n",
        "\n",
        "* In particular, if $Y$ is a unit vector offset from $X_{1}$ by an angle $\\theta$, then the associated normal curvature is\n",
        "\n",
        ">$\n",
        "\\kappa_{n}(Y)=\\kappa_{1} \\cos ^{2} \\theta+\\kappa_{2} \\sin ^{2} \\theta\n",
        "$\n",
        "\n",
        "* as you should be able to easily verify using the relationships above. **Often, however, working directly with principal curvatures is fairly inconvenient - especially in the discrete setting**."
      ]
    },
    {
      "cell_type": "markdown",
      "metadata": {
        "id": "KSxGp792-P9l"
      },
      "source": [
        "*Mean curvature and the Gaussian curvature*\n",
        "\n",
        "* On the other hand, two closely related quantities - called the mean curvature and the Gaussian curvature will show up over\n",
        "and over again (and have some particularly nice interpretations in the discrete world). \n",
        "\n",
        "* The mean curvature $H$ is the arithmetic\n",
        "mean of principal curvatures:\n",
        "\n",
        "> $\n",
        "H=\\frac{\\kappa_{1}+\\kappa_{2}}{2}\n",
        "$\n",
        "\n",
        "* and the Gaussian curvature is the (square of the) geometric mean:\n",
        "\n",
        ">$\n",
        "K=\\kappa_{1} \\kappa_{2}\n",
        "$\n",
        "\n",
        "* What do the values of $H$ and $K$ imply about the shape of the surface? Perhaps the most elementary interpretation is that Gaussian curvature is like a logical \"and\" (is there curvature along both directions?) whereas mean curvature is more like a logical \"or\" (is there curvature along at least one direction?) Of course, you have to be a little careful here since you can also get zero mean curva-\n",
        "ture when $\\kappa_{1}=-\\kappa_{2}$.\n",
        "\n",
        "* It also helps to see pictures of surfaces with zero mean and Gaussian curvature. Zero-curvature surfaces are so well-studied in\n",
        "mathematics that they have special names. Surfaces with zero Gaussian curvature are called **developable surfaces** because they can be \"developed\" or flattened out into the plane without any\n",
        "stretching or tearing. For instance, any piece of a cylinder is developable since one of the principal curvatures is zero."
      ]
    },
    {
      "cell_type": "markdown",
      "metadata": {
        "id": "q4BJc0zN6pNt"
      },
      "source": [
        "**Gaussian Curvature (Kruemmung)**"
      ]
    },
    {
      "cell_type": "markdown",
      "metadata": {
        "id": "xD0dRE-gZwTX"
      },
      "source": [
        "* At any point on a surface, we can find a normal vector that is at right angles to the surface; planes containing the normal vector are called normal planes. \n",
        "\n",
        "* **The intersection of a normal plane and the surface will form a curve called a normal section and the curvature of this curve is the normal curvature**. \n",
        "\n",
        "* For most points on most surfaces, different normal sections will have different curvatures; the maximum and minimum values of these are called the principal curvatures, call these κ1, κ2. \n",
        "\n",
        "* The Gaussian curvature is the product of the two principal curvatures Κ = κ1κ2."
      ]
    },
    {
      "cell_type": "markdown",
      "metadata": {
        "id": "nDfNQWcS7Hy7"
      },
      "source": [
        "[Gaussian curvature](https://en.wikipedia.org/wiki/Gaussian_curvature), also see [here](https://en.wikipedia.org/wiki/Differential_geometry_of_surfaces#First_and_second_fundamental_forms,_the_shape_operator,_and_the_curvature), is an intrinsic invariant, i.e. invariant under local [isometries](https://en.m.wikipedia.org/wiki/Isometry). **This point of view was extended to higher-dimensional spaces by Riemann and led to what is known today as [Riemannian geometry](https://en.m.wikipedia.org/wiki/Riemannian_geometry).** \n",
        "\n",
        "In differential geometry, the Gaussian curvature or Gauss curvature $K$ of a surface at a point is\n",
        "the product of the principal curvatures, $\\kappa_{1}$ and $\\kappa_{2}$, at the given point:\n",
        "\n",
        ">$\n",
        "K=\\kappa_{1} \\kappa_{2}\n",
        "$"
      ]
    },
    {
      "cell_type": "markdown",
      "metadata": {
        "id": "sfCAULGn6xqY"
      },
      "source": [
        "https://en.wikipedia.org/wiki/Gaussian_curvature"
      ]
    },
    {
      "cell_type": "markdown",
      "metadata": {
        "id": "i6bT4unv6nS-"
      },
      "source": [
        "*From left to right: a surface of negative Gaussian curvature (hyperboloid), a surface of zero Gaussian curvature (cylinder), and a surface of positive Gaussian curvature (sphere).*\n",
        "\n",
        "![gg](https://upload.wikimedia.org/wikipedia/commons/thumb/6/61/Gaussian_curvature.svg/240px-Gaussian_curvature.svg.png)"
      ]
    },
    {
      "cell_type": "markdown",
      "metadata": {
        "id": "dWnL0wFbhVnc"
      },
      "source": [
        "**Gauss Map**"
      ]
    },
    {
      "cell_type": "markdown",
      "metadata": {
        "id": "bGNBbUmghiG5"
      },
      "source": [
        "* The [Gauss map](https://en.wikipedia.org/wiki/Gauss_map) provides a mapping from every point on a curve or a surface to a corresponding point on a unit sphere\n",
        "\n",
        "* The differential dn of the Gauss map n can be used to define a type of extrinsic curvature, known as the shape operator or Weingarten map.\n"
      ]
    },
    {
      "cell_type": "markdown",
      "metadata": {
        "id": "FE8-HMn8hm7w"
      },
      "source": [
        "![jj](https://upload.wikimedia.org/wikipedia/commons/8/8e/Gauss_map.svg)"
      ]
    },
    {
      "cell_type": "markdown",
      "metadata": {
        "id": "lzu8fN1N6gC8"
      },
      "source": [
        "*See also: [osculating circle](https://en.m.wikipedia.org/wiki/Osculating_circle) (osculating circle of a sufficiently smooth plane curve at a given point p on the curve has been traditionally defined as the circle passing through p and a pair of additional points on the curve infinitesimally close to p. Its center lies on the inner normal line, and its curvature defines the curvature of the given curve at that point)*\n",
        "\n",
        "![hh](https://upload.wikimedia.org/wikipedia/commons/thumb/8/84/Osculating_circle.svg/440px-Osculating_circle.svg.png)"
      ]
    },
    {
      "cell_type": "markdown",
      "metadata": {
        "id": "FUlA25exWP79"
      },
      "source": [
        "**Shape Operator**"
      ]
    },
    {
      "cell_type": "markdown",
      "metadata": {
        "id": "k_zaMVA6iPlY"
      },
      "source": [
        "* The **differential dn of the Gauss map n** can be used to define a type of **extrinsic curvature**, known as the [**shape operator**](https://en.wikipedia.org/wiki/Differential_geometry_of_surfaces#First_and_second_fundamental_forms,_the_shape_operator,_and_the_curvature) or Weingarten map.\n",
        "\n",
        "* Since at each point $x$ of the surface, the tangent space is an inner product space, the shape operator $S_{x}$ can be defined as a linear operator on this space by the following formula for tangent vectors $v, w$ (the inner product makes sense because $d n(v)$ and $w$ both lie in $\\mathbf{E}^{3}$ ):\n",
        "\n",
        ">$\n",
        "\\left(S_{x} v, w\\right)=(d n(v), w)\n",
        "$\n",
        "\n",
        "* The right hand side is symmetric in $v$ and $w$, so the shape operator is [**self-adjoint**](https://en.wikipedia.org/wiki/Symmetric_matrix) on the tangent space. \n",
        "\n",
        "* The eigenvalues of $S_{x}$ are just the principal curvatures $k_{1}$ and $k_{2}$ at $x$. \n",
        "\n",
        "* In particular **the determinant of the shape operator at a point is the Gaussian curvature**, but it also contains other information, since the mean curvature is half the trace of the shape operator. \n",
        "\n",
        "* The **mean curvature** is an extrinsic invariant. In intrinsic geometry, a cylinder is developable, meaning that every piece of it is intrinsically indistinguishable from a piece of a plane since its Gauss curvature vanishes identically. Its mean curvature is not zero, though; hence extrinsically it is different from a plane.\n",
        "\n",
        "* Equivalently, the shape operator can be defined as a linear operator on tangent spaces, $S_{p}: T_{p} M \\rightarrow T_{p} M$ If $n$ is a unit normal field to $M$ and $v$ is a tangent vector then\n",
        "\n",
        ">$\n",
        "S(v)=\\pm \\nabla_{v} n\n",
        "$\n",
        "\n",
        "* **In general, the eigenvectors and eigenvalues of the shape operator at each point determine the directions in which the surface bends at each point**. The eigenvalues correspond to the principal curvatures of the surface and the eigenvectors are the corresponding principal directions. The principal directions specify the directions that a curve embedded in the surface must travel to have maximum and minimum curvature, these being given by the principal curvatures.\n"
      ]
    },
    {
      "cell_type": "markdown",
      "metadata": {
        "id": "cpj2CHEDWnXo"
      },
      "source": [
        "**Mean curvature**"
      ]
    },
    {
      "cell_type": "markdown",
      "metadata": {
        "id": "HPUvezX2mdwF"
      },
      "source": [
        "* The [mean curvature](https://en.wikipedia.org/wiki/Differential_geometry_of_surfaces#First_and_second_fundamental_forms,_the_shape_operator,_and_the_curvature) H is the arithmetic mean of principal curvatures:\n",
        "\n",
        "> $H=\\frac{\\kappa_{1}+\\kappa_{2}}{2}$"
      ]
    },
    {
      "cell_type": "markdown",
      "metadata": {
        "id": "E08W4HSvmAAp"
      },
      "source": [
        "**Minimal surface**"
      ]
    },
    {
      "cell_type": "markdown",
      "metadata": {
        "id": "vjWF9uX8mAPr"
      },
      "source": [
        "* A surface is a [minimal surface](https://en.wikipedia.org/wiki/Minimal_surface) / [Minimalfläche](https://de.wikipedia.org/wiki/Minimalfläche) if and only if the **mean curvature is zero**. \n",
        "\n",
        "* Surfaces with zero mean curvature are called minimal surfaces because (as we’ll see later) they minimize surface area (with respect to certain constraints). Minimal surfaces tend to be saddle-like since principal curvatures have equal magnitude but opposite sign:"
      ]
    },
    {
      "cell_type": "markdown",
      "metadata": {
        "id": "Hbqko_8xo1mo"
      },
      "source": [
        "**Darboux_frame**"
      ]
    },
    {
      "cell_type": "markdown",
      "metadata": {
        "id": "VtT3ZnBboz_f"
      },
      "source": [
        "https://en.wikipedia.org/wiki/Darboux_frame#Geodesic_curvature,_normal_curvature,_and_relative_torsion"
      ]
    },
    {
      "cell_type": "markdown",
      "metadata": {
        "id": "kvVJ8EjQX9pR"
      },
      "source": [
        "**Covariant derivatives**"
      ]
    },
    {
      "cell_type": "markdown",
      "metadata": {
        "id": "BYLkw8QEXT53"
      },
      "source": [
        "https://www.youtube.com/watch?v=BHKd6-IJgVI"
      ]
    },
    {
      "cell_type": "markdown",
      "metadata": {
        "id": "HTNGBY2Fk40H"
      },
      "source": [
        "* Connections on a surface can be defined from various equivalent but equally important points of view. The Riemannian connection or Levi-Civita connection. is perhaps most easily understood in terms of lifting vector fields, considered as first order differential operators acting on functions on the manifold, to differential operators on the tangent bundle or frame bundle. \n",
        "\n",
        "> In the case of an embedded surface, the lift to an operator on vector fields, called the [**covariant derivative**](https://en.wikipedia.org/wiki/Differential_geometry_of_surfaces#Covariant_derivative), is very simply described in terms of orthogonal projection. \n",
        "\n",
        "* Indeed, a vector field on a surface embedded in R3 can be regarded as a function from the surface into R3. Another vector field acts as a differential operator component-wise. The resulting vector field will not be tangent to the surface, but this can be corrected taking its orthogonal projection onto the tangent space at each point of the surface. As Ricci and Levi-Civita realised at the turn of the twentieth century, this process depends only on the metric and can be locally expressed in terms of the Christoffel symbols.\n"
      ]
    },
    {
      "cell_type": "markdown",
      "metadata": {
        "id": "bn1y6WkLZBzR"
      },
      "source": [
        "Covariant derivative of a vector in a given direction:\n",
        "\n",
        "$\\nabla \\frac{\\partial}{\\partial x^{i}} \\vec{v}=\\nabla_{\\vec{e}_{i}} \\vec{v}=\\underbrace{\\left(\\frac{\\partial v^{k}}{\\partial x^{i}}+v^{j} \\Gamma_{i j}^{k}\\right) \\overrightarrow{e_{k}}}$\n",
        "\n",
        "Gammas are connection coefficients:\n",
        "\n",
        "$\\nabla \\overrightarrow{e_{i}} \\overrightarrow{e_{j}}=\\Gamma_{i j}^{k} \\overrightarrow{e_{k}}$"
      ]
    },
    {
      "cell_type": "markdown",
      "metadata": {
        "id": "48web-QoWeP7"
      },
      "source": [
        "**First fundamental form**"
      ]
    },
    {
      "cell_type": "markdown",
      "metadata": {
        "id": "Zo_dvWAtWi0s"
      },
      "source": [
        "* In differential geometry, the [first fundamental form](https://en.wikipedia.org/wiki/Differential_geometry_of_surfaces#First_and_second_fundamental_forms,_the_shape_operator,_and_the_curvature) is the inner product on the tangent space of a surface in three-dimensional Euclidean space which is induced canonically from the dot product of $\\mathbf{R}^{3}$. \n",
        "\n",
        "* It permits the calculation of curvature and metric properties of a surface such as length and area in a manner consistent with the ambient space. The first fundamental form is denoted by the Roman numeral I,\n",
        "\n",
        "> $\\mathrm{I}(x, y)=\\langle x, y\\rangle .$"
      ]
    },
    {
      "cell_type": "markdown",
      "metadata": {
        "id": "1tYfDMpRWgUC"
      },
      "source": [
        "**Second fundamental form**"
      ]
    },
    {
      "cell_type": "markdown",
      "metadata": {
        "id": "1Uu_BKh9DF8S"
      },
      "source": [
        "* In differential geometry, the [second fundamental form](https://en.wikipedia.org/wiki/Second_fundamental_form) (or shape tensor), also see [here](https://en.wikipedia.org/wiki/Differential_geometry_of_surfaces#First_and_second_fundamental_forms,_the_shape_operator,_and_the_curvature), is a quadratic form on the tangent plane of a smooth surface in the three-dimensional Euclidean space, usually denoted by $\\mathrm {I\\!I}$ .\n",
        "\n",
        "* Together with the first fundamental form, it serves to define extrinsic invariants of the surface, **its principal curvatures**. More generally, such a quadratic form is defined for a smooth immersed submanifold in a Riemannian manifold.\n",
        "\n",
        "* The second fundamental form at the origin in the\n",
        "coordinates $(x, y)$ is the quadratic form\n",
        "\n",
        ">$\n",
        "L d x^{2}+2 M d x d y+N d y^{2}\n",
        "$"
      ]
    },
    {
      "cell_type": "markdown",
      "metadata": {
        "id": "_0Q1Esn-Xjua"
      },
      "source": [
        "*Definition of second fundamental form*\n",
        "\n",
        "![ggg](https://upload.wikimedia.org/wikipedia/commons/5/5e/Second_fundamental_form.svg)"
      ]
    },
    {
      "cell_type": "markdown",
      "metadata": {
        "id": "LEd_dn_lXYuA"
      },
      "source": [
        "**Tangent vectors and normal vectors**"
      ]
    },
    {
      "cell_type": "markdown",
      "metadata": {
        "id": "B13CVbvpLELE"
      },
      "source": [
        "[Source here](https://en.wikipedia.org/wiki/Differential_geometry_of_surfaces#Tangent_vectors_and_normal_vectors)\n",
        "\n",
        "Let $S$ be a regular surface in $\\mathbb{R}^{3}$, and let $p$ be an element of $S$. Using any of the above definitions, one can single out certain vectors in $\\mathbb{R}^{3}$ as being tangent to $S$ at $p$, and certain vectors in $\\mathbb{R}^{3}$ as being orthogonal to $S$ at $p$.\n",
        "\n",
        "* the tangent space to $S$ at $p$, which is defined to consist of all tangent vectors to $S$ at $p$, is a two-dimensional linear subspace of $\\mathbb{R}^{3} ;$ it is often denoted by $T_{p} S .$ \n",
        "\n",
        "* The normal space to $S$ at $p$, which is defined to consist of all normal vectors to $S$ at $p$, is a one-dimensional linear subspace of $\\mathbb{R}^{3}$ which is orthogonal to the tangent space $T_{p} S$. \n",
        "\n",
        "* As such, at each point $p$ of $S$, there are two normal vectors of unit length, called unit normal vectors. "
      ]
    },
    {
      "cell_type": "markdown",
      "metadata": {
        "id": "JeLv7ZD3XyiE"
      },
      "source": [
        "**Christoffel symbols, Gauss–Codazzi equations, and the Theorema Egregium**"
      ]
    },
    {
      "cell_type": "markdown",
      "metadata": {
        "id": "BYDwO5vfFpD7"
      },
      "source": [
        "* the [Christoffel symbols](https://en.wikipedia.org/wiki/Christoffel_symbols), also see [here](https://en.wikipedia.org/wiki/Differential_geometry_of_surfaces#Christoffel_symbols,_Gauss–Codazzi_equations,_and_the_Theorema_Egregium), are an array of numbers describing a metric connection. The metric connection is a specialization of the affine connection to surfaces or other manifolds endowed with a metric, allowing distances to be measured on that surface. \n",
        "\n",
        "* In differential geometry, an **affine connection can be defined without reference to a metric**, and many additional concepts follow: parallel transport, covariant derivatives, geodesics, etc. **also do not require the concept of a metric**.\n",
        "\n",
        "* However, when a metric is available, these concepts can be directly tied to the \"shape\" of the manifold itself; **that shape is determined by how the tangent space is attached to the cotangent space by the metric tensor**.\n",
        "\n",
        "* Abstractly, one would say that the manifold has an associated (orthonormal) frame bundle, with each \"frame\" being a possible choice of a coordinate frame. An invariant metric implies that the structure group of the frame bundle is the [orthogonal group O(p, q)](https://en.wikipedia.org/wiki/Orthogonal_group). As a result, such a manifold is necessarily a (pseudo-)Riemannian manifold.\n",
        "\n",
        "> **The Christoffel symbols provide a concrete representation of the connection of (pseudo-)Riemannian geometry in terms of coordinates on the manifold. Additional concepts, such as parallel transport, geodesics, etc. can then be expressed in terms of Christoffel symbols.**\n",
        "\n",
        "* the arrays represented by the Christoffel symbols track how the basis changes from point to poin\n",
        "\n",
        "* For example, in Euclidean spaces, the Christoffel symbols describe how the local coordinate bases change from point to point.\n",
        "\n",
        "* In general, there are an infinite number of metric connections for a given metric tensor; however, there is a unique connection that is free of torsion, the Levi-Civita connection. It is common in physics and general relativity to work almost exclusively with the **Levi-Civita connection**, by working in coordinate frames (called [holonomic coordinates](https://en.wikipedia.org/wiki/Holonomic_basis)) where the torsion vanishes. "
      ]
    },
    {
      "cell_type": "markdown",
      "metadata": {
        "id": "WaecowEfJ4Ba"
      },
      "source": [
        "Let $S$ be a regular surface in $\\mathbb{R}^{3}$. The Christoffel symbols assign, to each local parametrization $f: V \\rightarrow S$, eight functions on $V$, defined by\n",
        "\n",
        ">$\n",
        "\\left(\\begin{array}{cccc}\n",
        "\\Gamma_{11}^{1} & \\Gamma_{12}^{1} & \\Gamma_{21}^{1} & \\Gamma_{22}^{1} \\\\\n",
        "\\Gamma_{11}^{2} & \\Gamma_{12}^{2} & \\Gamma_{21}^{2} & \\Gamma_{22}^{2}\n",
        "\\end{array}\\right)=\\left(\\begin{array}{cc}\n",
        "E & F \\\\\n",
        "F & G\n",
        "\\end{array}\\right)^{-1}\\left(\\begin{array}{cccc}\n",
        "\\frac{1}{2} \\frac{\\partial E}{\\partial u} & \\frac{1}{2} \\frac{\\partial E}{\\partial v} & \\frac{1}{2} \\frac{\\partial E}{\\partial v} & \\frac{\\partial F}{\\partial v}-\\frac{1}{2} \\frac{\\partial G}{\\partial u} \\\\\n",
        "\\frac{\\partial F}{\\partial u}-\\frac{1}{2} \\frac{\\partial E}{\\partial v} & \\frac{1}{2} \\frac{\\partial G}{\\partial u} & \\frac{1}{2} \\frac{\\partial G}{\\partial u} & \\frac{1}{2} \\frac{\\partial G}{\\partial v}\n",
        "\\end{array}\\right)\n",
        "$\n",
        "\n",
        "They can also be defined by the following formulas, in which $n$ is a unit normal vector field along $f(V)$ and $L, M, N$ are the corresponding components of the second fundamental form:\n",
        "\n",
        "$\n",
        "\\begin{aligned}\n",
        "\\frac{\\partial^{2} f}{\\partial u^{2}} &=\\Gamma_{11}^{1} \\frac{\\partial f}{\\partial u}+\\Gamma_{11}^{2} \\frac{\\partial f}{\\partial v}+L n \\\\\n",
        "\\frac{\\partial^{2} f}{\\partial u \\partial v} &=\\Gamma_{12}^{1} \\frac{\\partial f}{\\partial u}+\\Gamma_{12}^{2} \\frac{\\partial f}{\\partial v}+M n \\\\\n",
        "\\frac{\\partial^{2} f}{\\partial v^{2}} &=\\Gamma_{22}^{1} \\frac{\\partial f}{\\partial u}+\\Gamma_{22}^{2} \\frac{\\partial f}{\\partial v}+N n\n",
        "\\end{aligned}\n",
        "$\n",
        "\n",
        "The key to this definition is that $\\frac{\\partial f}{\\partial u}, \\frac{\\partial f}{\\partial v}$, and $n$ **form a basis of $\\mathbb{R}^{3}$ at each point, relative to which each of the three equations uniquely specifies the Christoffel symbols as coordinates of the second partial derivatives of $f$**. The choice of unit normal has no effect on the Christoffel symbols, since if $n$ is exchanged for its negation, then the components of the second fundamental form are also negated, and so the signs of $L n, M n, N n$ are left unchanged."
      ]
    },
    {
      "cell_type": "markdown",
      "metadata": {
        "id": "HuQjfl72NRi8"
      },
      "source": [
        "**Isometrie (Riemannsche Geometrie)**"
      ]
    },
    {
      "cell_type": "markdown",
      "metadata": {
        "id": "AsYv-6m2X50e"
      },
      "source": [
        "https://en.wikipedia.org/wiki/Differential_geometry_of_surfaces#Isometries"
      ]
    },
    {
      "cell_type": "markdown",
      "metadata": {
        "id": "EClMFa51VzC4"
      },
      "source": [
        "* In der Differentialgeometrie bezeichnet man Abbildungen als lokale [Isometrien](https://de.wikipedia.org/wiki/Isometrie_(Riemannsche_Geometrie)), wenn sie die Riemannsche Metrik erhalten. Als Isometrien bezeichnet man Diffeomorphismen, die lokale Isometrien sind.\n",
        "\n",
        "  * Ein [Diffeomorphismus](https://de.wikipedia.org/wiki/Diffeomorphismus) ist eine bijektive, stetig differenzierbare Abbildung, deren Umkehrabbildung auch stetig differenzierbar ist\n",
        "\n",
        "* Beispiel: Die [Isometrien des euklidischen Raumes](https://de.wikipedia.org/wiki/Euklidischer_Raum#Isometrien_2) sind Drehungen, Spiegelungen und Verschiebungen.\n",
        "\n",
        "* Die Isometrien eines metrischen Raumes bilden immer eine Gruppe. \n",
        "\n",
        "  * Steenrod und Myers bewiesen 1939, dass die IsometrieGruppe einer Riemannschen Mannigfaltigkeit immer eine LieGruppe ist (Satz von Myers-Steenrod).\n",
        "Beispiele:\n",
        "\n",
        "  * Die Isometrie-Gruppe der n-dimensionalen [Sphäre](https://de.wikipedia.org/wiki/Sphäre) ist die [orthogonale Gruppe(https://de.wikipedia.org/wiki/Orthogonale_Gruppe) $\\mathrm{O}(\\mathrm{n}+1)$.\n",
        "\n",
        "  * Die Isometrie-Gruppe des n-dimensionalen [hyperbolischen Raumes](https://de.wikipedia.org/wiki/Hyperbolischer_Raum) ist die [Lorentz-Gruppe](https://de.wikipedia.org/wiki/Lorentz-Gruppe) $\\mathrm{O}(\\mathrm{n}, 1)$.\n",
        "\n",
        "  * Die Dimension der Isometriegruppe einer n-dimensionalen kompakten Mannigfaltigkeit ist höchstens $\\frac{1}{2} n(n+1)$.\n"
      ]
    },
    {
      "cell_type": "markdown",
      "metadata": {
        "id": "s_nEymmONZ6k"
      },
      "source": [
        "**Hodge-Stern-Operator**"
      ]
    },
    {
      "cell_type": "markdown",
      "metadata": {
        "id": "qfy856rnZbiF"
      },
      "source": [
        "https://de.m.wikipedia.org/wiki/Hodge-Stern-Operator#Riemannsche_Volumenform"
      ]
    },
    {
      "cell_type": "markdown",
      "metadata": {
        "id": "shNCWGvR83PM"
      },
      "source": [
        "**Exkurs: Parameterdarstellungen (Parametric equation)**"
      ]
    },
    {
      "cell_type": "markdown",
      "metadata": {
        "id": "C5YVq3SW9b96"
      },
      "source": [
        "Unter einer Parameterdarstellung versteht man in der Mathematik eine Darstellung, bei der die Punkte einer Kurve oder Fläche als Funktion einer oder mehrerer Variablen, der Parameter, durchlaufen werden. Für die Beschreibung einer Kurve in der Ebene oder im Raum wird ein Parameter benötigt, für die Beschreibung einer Fläche ein Satz von zwei Parametern.\n",
        "\n",
        "**Eine Kurve/Fläche mit Parametern zu beschreiben, wird Parametrisierung genannt. Die Zuweisung von konkreten Werten zu den einzelnen Parametern wird Parametrierung genannt**."
      ]
    },
    {
      "cell_type": "markdown",
      "metadata": {
        "id": "sLes0YF9846T"
      },
      "source": [
        "* [Parameterdarstellungen](https://de.wikipedia.org/wiki/Parameterdarstellung) werden auch in der Differentialgeometrie verwendet. \n",
        "\n",
        "* Mit Hilfe von Ableitungen der Ortsvektoren nach den Parametern lassen sich Längen, Tangentenvektoren oder Tangentialebenen, Krümmungen, Winkel oder Flächeninhalte bestimmen. \n",
        "\n",
        "* Zur Berechnung von Längen, Winkeln und Flächeninhalten in Flächen ist es nicht nötig, eine explizite Parameterdarstellung der Fläche im Raum zu kennen. Es reicht, wenn die Metrik (erste Fundamentalform) der Fläche, die die Längen entlang den Parameterlinien und die Winkel zwischen den Parameterlinien beschreibt, bekannt ist. Dies kann bei gekrümmten Flächen vorteilhaft sein.\n"
      ]
    },
    {
      "cell_type": "markdown",
      "metadata": {
        "id": "v0Q3IsUD9T_-"
      },
      "source": [
        "* In der Physik eignet sich die Parameterdarstellung zur Beschreibung der Bahn bewegter Objekte, **wobei meist die Zeit $t$ als Parameter gewählt wird**. \n",
        "\n",
        "  * Die Ableitung des Ortsvektors $\\vec{r}(t)$ nach der Zeit ergibt dann die zeitabhängige Geschwindigkeit $\\vec{v}(t)=\\vec{r}^{\\prime}(t),\n",
        "  * $ die zweite Ableitung die Beschleunigung $\\vec{a}(t)=\\vec{r}^{\\prime \\prime}(t) .$ \n",
        "\n",
        "* Ist umgekehrt eine Anfangsposition $\\vec{r}_{0}$ und Anfangsgeschwindigkeit $\\vec{v}_{0}$ zum Zeitpunkt $t_{0}$ sowie ein (möglicherweise ortsund zeitabhängiges) Beschleunigungsfeld $\\vec{a}(\\vec{r}, t)$ gegeben, erhält man die Parameterdarstellung der Bahnkurve durch Integration. Bei einer konstanten\n",
        "Beschleunigung wie beim schrägen Wurf ohne Luftwiderstand ergibt sich beispielsweise folgende Bahnkurve:\n",
        "\n",
        ">$\n",
        "\\vec{r}(t)=\\vec{r}_{0}+\\vec{v}_{0} \\cdot\\left(t-t_{0}\\right)+\\frac{1}{2} \\vec{a} \\cdot\\left(t-t_{0}\\right)^{2}\n",
        "$"
      ]
    },
    {
      "cell_type": "markdown",
      "metadata": {
        "id": "B0FfxBbbwDc_"
      },
      "source": [
        "##### **Paralleltransport, Zusammenhang, Bündel, Schnitte & Differentialformen**"
      ]
    },
    {
      "cell_type": "markdown",
      "metadata": {
        "id": "24ZchbC2SN99"
      },
      "source": [
        "**Paralleltransport**"
      ]
    },
    {
      "cell_type": "markdown",
      "metadata": {
        "id": "SZjN5CdZYMDm"
      },
      "source": [
        "https://en.wikipedia.org/wiki/Differential_geometry_of_surfaces#Covariant_derivative"
      ]
    },
    {
      "cell_type": "markdown",
      "metadata": {
        "id": "5uEfr2ybSJ8A"
      },
      "source": [
        "* [Paralleltransport](https://de.wikipedia.org/wiki/Paralleltransport) oder Parallelverschiebung bezeichnet ein Verfahren, geometrische Objekte entlang glatter Kurven in einer Mannigfaltigkeit zu transportieren.\n",
        "\n",
        "* Tullio Levi-Civita erweiterte 1917 die riemannsche Geometrie um diesen Begriff, der dann zur Definition des **Zusammenhangs** führte"
      ]
    },
    {
      "cell_type": "markdown",
      "metadata": {
        "id": "zL2YZCFhSmFD"
      },
      "source": [
        "*Paralleltransport eines Vektors auf der Kugeloberfläche entlang eines geschlossenen Weges von A nach $N$ und $\\mathrm{B}$ und wieder zurück nach $\\mathrm{A}$. Der\n",
        "Winkel $\\alpha,$ um den der Vektor dabei gedreht wird, ist proportional zur eingeschlossenen Fläche innerhalb des Weges.*\n",
        "\n",
        "![ggg](https://upload.wikimedia.org/wikipedia/commons/7/7d/Parallel_Transport.svg)"
      ]
    },
    {
      "cell_type": "markdown",
      "metadata": {
        "id": "by6-UpZJoqq3"
      },
      "source": [
        "**Connection / Levi-Civita-Zusammenhang & Hauptsatz der riemannschen Geometrie**"
      ]
    },
    {
      "cell_type": "markdown",
      "metadata": {
        "id": "hjoKdtAzAll-"
      },
      "source": [
        "*Zusammenhang (Connection)*\n",
        "\n",
        "* Der [Zusammenhang](https://de.wikipedia.org/wiki/Zusammenhang_(Differentialgeometrie)) (Connection) ist in der Differentialgeometrie ein Hilfsmittel, um Richtungsänderungen im Laufe einer Bewegung zu quantifizieren und Richtungen in verschiedenen Punkten miteinander in Beziehung zu setzen.\n",
        "\n",
        "* Dieser Artikel behandelt im Wesentlichen den Zusammenhang auf einer differenzierbaren Mannigfaltigkeit beziehungsweise auf einem [Vektorbündel](https://de.wikipedia.org/wiki/Vektorbündel). Ein ausgezeichneter Zusammenhang auf einem Tensorbündel, einem besonderen Vektorbündel, heißt kovariante Ableitung. \n",
        "\n",
        "* Allgemeiner existieren auch [Zusammenhänge auf Prinzipalbündeln](https://de.wikipedia.org/wiki/Zusammenhang_(Prinzipalbündel)) mit analogen definierenden Eigenschaften.\n",
        "\n",
        "* In der Differentialgeometrie interessiert man sich für die Krümmung von Kurven, insbesondere von Geodäten. In euklidischen Räumen ist die Krümmung einfach durch die zweite Ableitung gegeben. \n",
        "\n",
        "* **Auf differenzierbaren Mannigfaltigkeiten ist die zweite Ableitung nicht direkt zu bilden. Ist $\\gamma$ eine Kurve, so muss man für die zweite Ableitung dieser Kurve den Differenzenquotienten mit den Vektoren $\\gamma^{\\prime}(t)$ und $\\gamma^{\\prime}\\left(t_{0}\\right)$ bilden. Diese Vektoren befinden sich jedoch in unterschiedlichen Vektorräumen, daher kann man nicht einfach die Differenz der beiden bilden**. \n",
        "\n",
        "* **Um das Problem zu lösen, hat man eine Abbildung definiert, welche man Zusammenhang nennt. Diese Abbildung soll einen Zusammenhang zwischen den beteiligten Vektorräumen bereitstellen und trägt daher auch diesen Namen**.\n",
        "\n",
        "In diesem Abschnitt bezeichnet $M$ eine glatte Mannigfaltigkeit, $T M$ das Tangentialbündel und $\\pi: E \\rightarrow M$ ein Vektorbündel. Mit $\\Gamma(E)$ wird die Menge der glatten Schnitte im Vektorbündel $E$ notiert.\n",
        "\n",
        "* **Indem man sagt, was die Richtungsableitung eines Vektorfeldes in Richtung eines Tangentialvektors ist, erhält man einen Zusammenhang auf einer differenzierbaren Mannigfaltigkeit $M$**. Demgemäß definiert man einen Zusammenhang auf einem Vektorbündel als eine Abbildung\n",
        "\n",
        ">$\n",
        "\\begin{aligned}\n",
        "\\nabla: \\Gamma(T M) \\times \\Gamma(E) & \\rightarrow \\Gamma(E) \\\\\n",
        "(X, s) & \\mapsto \\nabla_{X} s\n",
        "\\end{aligned}\n",
        "$\n",
        "\n",
        "* die einem Vektorfeld $X$ auf $M$ und einem Schnitt $s$ im Vektorbündel $E$ wieder einen Schnitt in $E$ zuordnet.\n"
      ]
    },
    {
      "cell_type": "markdown",
      "metadata": {
        "id": "DxbzAYNlopOj"
      },
      "source": [
        "*Levi-Civita-Zusammenhang*\n",
        "\n",
        "* Der [Levi-Civita-Zusammenhang](https://de.wikipedia.org/wiki/Levi-Civita-Zusammenhang#Hauptsatz_der_riemannschen_Geometrie) ist ein wesentliches Hilfsmittel zum Aufbau der riemannschen Krümmungstheorie. Denn der Krümmungstensor wird mit Hilfe eines Zusammenhangs definiert, daher bietet es sich an, in der riemannschen Geometrie den eindeutig ausgezeichneten Levi-Civita-Zusammenhang für die Definition des riemannschen Krümmungstensors zu verwenden."
      ]
    },
    {
      "cell_type": "markdown",
      "metadata": {
        "id": "t0F7rh_DFRat"
      },
      "source": [
        "*Anwendungen*\n",
        "\n",
        "Die zentralen Begriffe dieses Artikels betreffen in der Physik u. a. die Allgemeine Relativitätstheorie und die Eichtheorien (z. B. Quantenelektrodynamik, Quantenchromodynamik und Yang-Mills-Theorie) der Hochenergiephysik, sowie in der Festkörperphysik die BCS-Theorie der Supraleitung. Das Gemeinsame an diesen Theorien ist, dass „Zusammenhang“ und „kovariante Ableitung“ durch Vektorpotentiale generiert werden, die gewissen Eichbedingungen genügen, und dass sie explizit in bestimmter Weise in die Energiefunktion des Systems eingehen.\n"
      ]
    },
    {
      "cell_type": "markdown",
      "metadata": {
        "id": "_hImcbeVim2L"
      },
      "source": [
        "**Vektorbündel, Tensorbündel & Tangentialbündel**"
      ]
    },
    {
      "cell_type": "markdown",
      "metadata": {
        "id": "lLWvleyYWFoM"
      },
      "source": [
        "https://en.wikipedia.org/wiki/Normal_bundle"
      ]
    },
    {
      "cell_type": "markdown",
      "metadata": {
        "id": "746HzQqAORxv"
      },
      "source": [
        "**Tangentialbündel**"
      ]
    },
    {
      "cell_type": "markdown",
      "metadata": {
        "id": "4X6nLw_DOUI-"
      },
      "source": [
        "https://de.wikipedia.org/wiki/Tangentialbündel"
      ]
    },
    {
      "cell_type": "markdown",
      "metadata": {
        "id": "UHFoC8HuPKV5"
      },
      "source": [
        "**Vektorbündel & Tensorbündel**"
      ]
    },
    {
      "cell_type": "markdown",
      "metadata": {
        "id": "SLtNZ8d0eBNq"
      },
      "source": [
        "* [Vektorbündel](https://de.wikipedia.org/wiki/Vektorbündel) oder manchmal auch Vektorraumbündel sind Familien von Vektorräumen, die **durch die Punkte eines topologischen Raumes parametrisiert sind**.\n",
        "\n",
        "* Vektorbündel gehören damit auch zu den [Faserbündeln](https://de.m.wikipedia.org/wiki/Faserbündel). Remind: Faser ist ein Urbild von einem Element (\"Faser der Abbildung über einem Element\") - surjektiv! kann also mehrere Elemente im Urbild haben. Daher Faser $\\mathbb{R}$<sup>2</sup> zu Punkt auf $\\mathbb{R}$ (siehe [hier](https://de.m.wikipedia.org/wiki/Vektorbündel) die Illustration:\n"
      ]
    },
    {
      "cell_type": "markdown",
      "metadata": {
        "id": "-KgzQEwbeRK5"
      },
      "source": [
        "![cc](https://upload.wikimedia.org/wikipedia/commons/thumb/3/38/Vectorbundle.svg/320px-Vectorbundle.svg.png)\n",
        "\n",
        "*Illustration des Vektorbündels $(E, B, \\pi)$. Hier ist der **Totalraum** $E=\\mathbb{R}^{2}$ und der **Basisraum** $B=\\mathbb{R} .$ Die Abbildung $\\pi: E \\rightarrow B$ projiziert jede Gerade $E_{x}$ auf den Punkt $x$. Der Raum $E_{x}=\\{p \\in E \\mid \\pi(p)=x\\}$ wird **Faser über $x$** genannt. Außerdem ist der Totalraum $E$ die Vereinigung aller Fasern.* (Comment: also Totalraum E ist Urbild mit Faser und Basisraum B ist Zielbild mit Element das von der Faser stammt)"
      ]
    },
    {
      "cell_type": "markdown",
      "metadata": {
        "id": "QpPiBg4nd_uw"
      },
      "source": [
        "* [Tensorbündel](https://de.m.wikipedia.org/wiki/Tensoranalysis#Tensorbündel) ist ein bestimmtes Vektorbündel. Tensorfelder sind dann besondere glatte Abbildungen, die in dieses Vektorbündel hinein abbilden."
      ]
    },
    {
      "cell_type": "markdown",
      "metadata": {
        "id": "76yFULrjPgX5"
      },
      "source": [
        "**Schnitt (Faserbündel)**"
      ]
    },
    {
      "cell_type": "markdown",
      "metadata": {
        "id": "69bEWfo_PjUV"
      },
      "source": [
        "* [Schnitte](https://de.m.wikipedia.org/wiki/Schnitt_(Faserbündel)) sind Abbildungen, welche in der algebraischen Topologie, insbesondere in der Homotopietheorie, untersucht werden. Insbesondere interessiert man sich dafür, unter welchen Bedingungen solche Abbildungen existieren. \n",
        "\n",
        "* Das bekannteste Beispiel von Schnitten sind die [**Differentialformen**](https://de.m.wikipedia.org/wiki/Differentialform).\n",
        "\n",
        "* Ein Schnitt kann als **Verallgemeinerung des Graphen einer Funktion** aufgefasst werden. \n",
        "\n"
      ]
    },
    {
      "cell_type": "markdown",
      "metadata": {
        "id": "U1oJRas2e5yT"
      },
      "source": [
        "![cc](https://upload.wikimedia.org/wikipedia/commons/thumb/9/90/Bundle_section.svg/187px-Bundle_section.svg.png)\n",
        "\n",
        "*Die Abbildung s ist ein Schnitt in einem Faserbündel $p: E \\rightarrow B$. Dieser Schnitt s erlaubt es, den Basisraum $B$ mit dem Teilraum $s(B)$ von $E$ zu identifizieren.*"
      ]
    },
    {
      "cell_type": "markdown",
      "metadata": {
        "id": "OZqK7smAzDQF"
      },
      "source": [
        "*Schnittkrümmung*\n",
        "\n",
        "* Die [Schnittkrümmung](https://de.wikipedia.org/wiki/Schnittkrümmung) ist eine Größe der riemannschen Geometrie, eines Teilgebiets der Mathematik. Mit ihrer Hilfe kann man die Krümmung einer n-dimensionalen riemannschen Mannigfaltigkeit beschreiben. \n",
        "\n",
        "* Dabei wird jeder (zweidimensionalen) Ebene im Tangentialraum an einem Punkt dieser Mannigfaltigkeit eine Zahl als Krümmung zugeordnet. Die Schnittkrümmung kann als Verallgemeinerung der gaußschen Krümmung verstanden werden. \n",
        "\n",
        "* Der Name kommt daher, dass man sozusagen einen Schnitt durch die Mannigfaltigkeit in Richtung der gegebenen Ebene legt und die gaußsche Krümmung der so entstandenen Fläche bestimmt.\n",
        "\n",
        "* Siehe weiter unten auch 'Schnitt (Faserbündel)'"
      ]
    },
    {
      "cell_type": "markdown",
      "metadata": {
        "id": "r4eRWJglr_6-"
      },
      "source": [
        "**Zusammenhang im Tensorbündel**"
      ]
    },
    {
      "cell_type": "markdown",
      "metadata": {
        "id": "-Ggc7g3gsEJx"
      },
      "source": [
        "https://de.m.wikipedia.org/wiki/Zusammenhang_(Differentialgeometrie)#Zusammenhänge_auf_dem_Tensorbündel"
      ]
    },
    {
      "cell_type": "markdown",
      "metadata": {
        "id": "HHvXBMnoRB8h"
      },
      "source": [
        "**Differential Form**"
      ]
    },
    {
      "cell_type": "markdown",
      "metadata": {
        "id": "dxXHLIt6Q70b"
      },
      "source": [
        "* [Differentialform](https://de.wikipedia.org/wiki/Differentialform) erlauben eine koordinatenunabhängige Integration auf allgemeinen orientierten differenzierbaren Mannigfaltigkeiten.\n",
        "\n",
        "* [Youtube Video](https://www.youtube.com/watch?v=CYz_s82JnY8)\n",
        "\n",
        "* Das bekannteste Beispiel von Schnitten sind die Differentialformen.\n",
        "\n",
        "* Beispiele:\n",
        "\n",
        "  * Glatte Funktionen sind 0-Formen.\n",
        "  * Pfaffsche Formen sind 1-Formen."
      ]
    },
    {
      "cell_type": "markdown",
      "metadata": {
        "id": "lfyrcBqf99Ka"
      },
      "source": [
        "**Glatte Funktionen (Smoothness)**"
      ]
    },
    {
      "cell_type": "markdown",
      "metadata": {
        "id": "oQfcAm-7971y"
      },
      "source": [
        "* Eine [glatte Funktion](https://de.wikipedia.org/wiki/Glatte_Funktion) ist eine mathematische Funktion, die unendlich oft differenzierbar (insbesondere stetig) ist\n",
        "\n",
        "* Zum Beispiel ist jede [holomorphe Funktion](https://de.m.wikipedia.org/wiki/Holomorphe_Funktion) (=in jedem Punkt komplex differenzierbar) auch eine glatte Funktion. Außerdem werden glatte Funktionen als Abschneidefunktionen oder als Testfunktionen für Distributionen verwendet.\n",
        "\n",
        "* Eine Funktion $f: D \\rightarrow \\mathbb{R}$ heißt unendlich oft (stetig) differenzierbar oder glatt, wenn $f \\in C^{n}(D)$ für alle $n \\in \\mathbb{N}$ gilt. Die Menge aller glatten Funktionen auf $D$ wird mit $C^{\\infty}(D)$ notiert und es gilt\n",
        "$\n",
        "C^{\\infty}(D):=\\bigcap_{n \\in \\mathbb{N}} C^{n}(D)\n",
        "$"
      ]
    },
    {
      "cell_type": "markdown",
      "metadata": {
        "id": "bOySjqTlor8_"
      },
      "source": [
        "#### **Riemannsche Mannigfaltigkeit (Riemanntensor for $\\mathbb{R}^{4}$ and higher)**"
      ]
    },
    {
      "cell_type": "markdown",
      "metadata": {
        "id": "qoh7lWgMNHYS"
      },
      "source": [
        "##### **Riemannsche Geometrie**"
      ]
    },
    {
      "cell_type": "markdown",
      "metadata": {
        "id": "k-Q_FIsvX-Mn"
      },
      "source": [
        "https://www.youtube.com/watch?v=BHKd6-IJgVI"
      ]
    },
    {
      "cell_type": "markdown",
      "metadata": {
        "id": "VdkFzxz0ou4f"
      },
      "source": [
        "* Die [riemannsche Geometrie](https://de.m.wikipedia.org/wiki/Riemannsche_Geometrie) ist ein Teilgebiet der Differentialgeometrie. \n",
        "\n",
        "* In dieser Theorie werden die geometrischen Eigenschaften einer [riemannschen Mannigfaltigkeit](https://de.m.wikipedia.org/wiki/Riemannsche_Mannigfaltigkeit) untersucht. \n",
        "\n",
        "* Dies sind [glatte Mannigfaltigkeiten](https://de.m.wikipedia.org/wiki/Differenzierbare_Mannigfaltigkeit#Glatte_Mannigfaltigkeit) mit einer Art [Skalarprodukt](https://de.m.wikipedia.org/wiki/Skalarprodukt). Mit Hilfe dieser Funktion **kann man Winkel, Längen, Abstände und Volumen messen**.\n",
        "\n",
        "* Die ersten Arbeiten der Differentialgeometrie: Gauß begründete die **Theorie der gekrümmten Flächen**, die im dreidimensionalen Raum eingebettet waren.\n",
        "\n",
        "* 1854: Einfuhrung der **riemannschen Metriken**. Im Gegensatz zu Gauß betrachtete er nicht nur Flächen, sondern höherdimensionale, **gekrümmte Räume**. Diese Räume waren jedoch **immer noch in einen euklidischen Raum** eingebettet\n",
        "\n",
        "* Die abstrakte topologische Definition von differenzierbaren und damit insbesondere von riemannschen Mannigfaltigkeiten wurde erst in den 1930er Jahren von Hassler Whitney entwickelt. Besonders bekannt ist die Aussage, dass jede differenzierbare Mannigfaltigkeit eingebettet werden kann. Dieses Resultat ist heute unter dem Namen [Einbettungssatz von Whitney](https://de.m.wikipedia.org/wiki/Einbettungssatz_von_Whitney) bekannt.\n",
        "\n",
        "* Auftrieb erhielt die Theorie durch die allgemeine Relativitätstheorie von Albert Einstein (1916), deren Grundlage die pseudo-riemannschen Mannigfaltigkeiten sind. In diesem Zusammenhang wurde die Theorie insbesondere von Hermann Weyl und Élie Cartan weiterentwickelt, die die Rolle affiner [Zusammenhänge](https://de.m.wikipedia.org/wiki/Zusammenhang_(Differentialgeometrie)) und des [Paralleltransports](https://de.m.wikipedia.org/wiki/Paralleltransport) herausstellten."
      ]
    },
    {
      "cell_type": "markdown",
      "metadata": {
        "id": "8IPAiZ28NJWe"
      },
      "source": [
        "##### **Riemannsche Mannigfaltigkeit**"
      ]
    },
    {
      "cell_type": "markdown",
      "metadata": {
        "id": "99uS3AoiG7Dp"
      },
      "source": [
        "Gauß’ Theorie der gekrümmten Flächen verwendet eine extrinsische Beschreibung, das heißt, die gekrümmten Flächen werden mit Hilfe eines umgebenden, euklidischen Raumes beschrieben. Riemann vertritt dagegen einen abstrakteren Ansatz (= instrinsic geometry of surfaces).\n",
        "\n",
        "* Eine [riemannsche Mannigfaltigkeit](https://de.wikipedia.org/wiki/Riemannsche_Mannigfaltigkeit) oder ein riemannscher Raum ist **ein Objekt** aus dem mathematischen Teilgebiet der riemannschen Geometrie. \n",
        "\n",
        "* Diese Mannigfaltigkeiten haben die zusätzliche Eigenschaft, dass sie eine **Metrik ähnlich wie ein [Prähilbertraum](https://de.wikipedia.org/wiki/Prähilbertraum) besitzen** (=Vektorraum mit Skalarprodukt). Mit Hilfe dieser riemannschen Metrik lassen sich dann die wesentlichen geometrischen Eigenschaften der Mannigfaltigkeit beschreiben. \n",
        "\n",
        "* So gelten auf jeder riemannschen Mannigfaltigkeit die folgenden, teilweise äquivalenten, Eigenschaften:\n",
        "\n",
        "  * Die kürzesten Strecken zwischen unterschiedlichen Punkten (die sogenannten Geodäten) sind nicht zwingend Geradenstücke, sondern können gekrümmte Kurven sein.\n",
        "\n",
        "  * Die Winkelsumme von Dreiecken kann, im Gegensatz zur Ebene, auch größer (z. B. Kugel) oder kleiner (hyperbolische Räume) als 180° sein.\n",
        "\n",
        "  * Die Parallelverschiebung von Tangentialvektoren entlang geschlossener Kurven kann die Richtung des Vektors ändern.\n",
        "\n",
        "  * Das Ergebnis einer Parallelverschiebung eines Tangentialvektors hängt auch vom Weg ab, entlang dessen der Tangentialvektor verschoben wird.\n",
        "\n",
        "  * Die Krümmung ist im Allgemeinen eine Funktion des Ortes auf der Mannigfaltigkeit.\n",
        "Abstandsmessungen zwischen unterschiedlichen Punkten sind nur mit Hilfe einer Metrik möglich, die vom Ort auf der Mannigfaltigkeit abhängen kann.\n",
        "\n"
      ]
    },
    {
      "cell_type": "markdown",
      "metadata": {
        "id": "nXDK0a0XKUH5"
      },
      "source": [
        "Eine riemannsche Mannigfaltigkeit ist eine differenzierbare $n$ -dimensionale Mannigfaltigkeit $M$ mit einer Funktion $g$, die jedem Punkt $p \\in M$ ein Skalarprodukt des Tangentialraums $T_{p} M$ zuordnet, das heißt eine positiv definite, symmetrische Bilinearform\n",
        "\n",
        ">$\n",
        "g_{p}: T_{p} M \\times T_{p} M \\rightarrow \\mathbb{R}\n",
        "$\n",
        "\n",
        "die differenzierbar von $p$ abhängt. \n",
        "\n",
        "Das heißt, bei gegebenen differenzierbaren Vektorfeldern $X, Y \\in \\mathfrak{X}(M)$ ist\n",
        "\n",
        ">$\n",
        "\\begin{aligned}\n",
        "M & \\rightarrow \\mathbb{R} \\\\\n",
        "p & \\mapsto g_{p}\\left(X_{p}, Y_{p}\\right)\n",
        "\\end{aligned}\n",
        "$\n",
        "\n",
        "eine differenzierbare Funktion. Die Funktion $g$ heißt riemannsche Metrik oder auch [metrischer Tensor](https://de.wikipedia.org/wiki/Metrischer_Tensor), ist aber keine Metrik im Sinne der metrischen Räume."
      ]
    },
    {
      "cell_type": "markdown",
      "metadata": {
        "id": "5eMSUKSVLX5Y"
      },
      "source": [
        "*Beispiel: Euklidischer Vektorraum*\n",
        "\n",
        "* Ein euklidischer Vektorraum ist isometrisch isomorph zum $\\mathbb{R}^{n}$ mit dem Standardskalarprodukt\n",
        "\n",
        ">$\n",
        "\\left\\langle\\left(x_{1}, \\ldots, x_{n}\\right),\\left(y_{1}, \\ldots, y_{n}\\right)\\right\\rangle=x_{1} y_{1}+\\cdots+x_{n} y_{n}\n",
        "$\n",
        "\n",
        "* Der Vektorraum $\\mathbb{R}^{n}$ kann als differenzierbare Mannigfaltigkeit verstanden werden und zusammen mit dem [Standardskalarprodukt](https://de.wikipedia.org/wiki/Standardskalarprodukt), =positiv definite symmetrische [Bilinearform](https://de.wikipedia.org/wiki/Bilinearform), wird er zu einer riemannschen Mannigfaltigkeit. \n",
        "\n",
        "* In diesem Fall ist der Tangentialraum $T_{x} \\mathbb{R}^{n}$ identisch mit dem Ausgangsraum, also wieder der $\\mathbb{R}^{n}$."
      ]
    },
    {
      "cell_type": "markdown",
      "metadata": {
        "id": "zPt04CAWNpBU"
      },
      "source": [
        "*Beispiel: Induzierte Metrik*\n",
        "\n",
        "* Da das Tangentialbündel $T N$ einer Untermannigfaltigkeit einer riemannschen Mannigfaltigkeit $M$ auch eine Teilmenge des Tangentialbündels $T M$ von $M$ ist, kann die Metrik von $M$ auch auf die Tangentialvektoren der Untermannigfaltigkeit $N$ angewendet werden. \n",
        "\n",
        "* Die so erhaltene Metrik der Untermannigfaltigkeit wird deswegen auch induzierte Metrik genannt. Die Untermannigfaltigkeit $N$ bildet zusammen mit der induzierten Metrik wieder eine riemannsche Mannigfaltigkeit.\n",
        "\n",
        "* Induzierte Metriken finden insbesondere bei der geometrischen Untersuchung von Kurven und Flächen als Untermannigfaltigkeit des $\\mathbb{R}^{n}$ Verwendung."
      ]
    },
    {
      "cell_type": "markdown",
      "metadata": {
        "id": "4hkgmdUfS5vs"
      },
      "source": [
        "*Riemannsche Mannigfaltigkeiten als metrische Räume*\n",
        "\n",
        "* Die riemannsche Metrik ist keine Metrik im Sinne der Theorie der metrischen Räume, sondern ein Skalarprodukt. Man kann jedoch ähnlich wie in der Theorie der Skalarprodukträume aus dem Skalarprodukt eine Metrik gewinnen. **Somit können riemannsche Mannigfaltigkeiten als metrische Räume verstanden werden.** \n",
        "\n",
        "* Auf riemannschen Mannigfaltigkeiten sind also im Gegensatz zu differenzierbaren Mannigfaltigen Begriffe wie Abstand, Durchmesser oder Vollständigkeit definiert.\n",
        "\n"
      ]
    },
    {
      "cell_type": "markdown",
      "metadata": {
        "id": "2l3_b_nmTQv2"
      },
      "source": [
        "*Abstandsfunktion (riemannsche Metrik)*\n",
        "\n",
        "* Im Folgenden sei $(M, g)$ eine riemannsche Mannigfaltigkeit. Die Abstandsfunktion auf einer (zusammenhängenden) riemannschen Mannigfaltigkeit wird dann definiert durch\n",
        "\n",
        ">$\n",
        "d(x, y):=\\inf \\{L(\\gamma) \\mid \\gamma:[0,1] \\rightarrow M, \\gamma(0)=x, \\gamma(1)=y\\}\n",
        "$\n",
        "\n",
        "* Dabei durchläuft $\\gamma$ alle (stückweise) differenzierbaren Wege, die $x$ und $y$ verbinden, und $L(\\gamma)$ bezeichnet die Länge von $\\gamma$, die gemäß\n",
        "\n",
        ">$\n",
        "L(\\gamma)=\\int_{0}^{1} \\sqrt{g_{\\gamma(t)}(\\dot{\\gamma}(t), \\dot{\\gamma}(t))} \\mathrm{d} t\n",
        "$\n",
        "\n",
        "* definiert ist. Das Funktional $L$ wird auch Längenfunktional genannt. Ein mit konstanter Geschwindigkeit durchlaufener Weg, der lokal (das heißt für ausreichend nahe beieinander liegende Punkte) die kürzeste Verbindung realisiert, heißt [Geodätische](https://de.wikipedia.org/wiki/Geodäte).\n",
        "\n",
        "* Die so definierte Metrik $d$ induziert wieder die ursprüngliche Topologie von $M$. Da man zeigen kann, dass jede differenzierbare $n$ -dimensionale Mannigfaltigkeit riemannsche Metriken besitzt, lässt sich so auch zeigen, dass jede differenzierbare $n$ -dimensionale Mannigfaltigkeit metrisierbar ist. Ähnlich wie bei metrischen Vektorräumen kann man auch von\n",
        "vollständigen riemannschen Mannigfaltigkeiten sprechen. Der [Satz von Hopf-Rinow](https://de.wikipedia.org/wiki/Satz_von_Hopf-Rinow) ist das zentrale Resultat bezüglich der Vollständigkeit riemannscher Mannigfaltigkeiten."
      ]
    },
    {
      "cell_type": "markdown",
      "metadata": {
        "id": "q8fjsYlKUW56"
      },
      "source": [
        "*Durchmesser (riemannsche Metrik)*\n",
        "\n",
        "* Genauso wie in der Theorie der metrischen Räume wird durch\n",
        "\n",
        ">$\n",
        "\\operatorname{diam}(M):=\\sup \\{d(p, q) \\mid p, q \\in M\\} \\in \\mathbb{R}_{\\geq 0} \\cup\\{\\infty\\}\n",
        "$\n",
        "\n",
        "* der Durchmesser einer riemannschen Mannigfaltigkeiten $(M, g)$ definiert.\n",
        "Der Durchmesser ist eine Invariante einer riemannschen Mannigfaltigkeit unter globalen Isometrien. \n",
        "\n",
        "* Außerdem gilt für (endlichdimensionale) riemannsche Mannigfaltigkeiten die Heine-Borel-Eigenschaft, das heißt, eine vollständige riemannsche Mannigfaltigkeit ist genau dann kompakt, wenn der Durchmesser endlich ist."
      ]
    },
    {
      "cell_type": "markdown",
      "metadata": {
        "id": "Ql9Z6ZU4N6yl"
      },
      "source": [
        "##### **Untermannigfaltigkeit des $\\mathbb{R}^{n}$**"
      ]
    },
    {
      "cell_type": "markdown",
      "metadata": {
        "id": "I7hsned6N_DT"
      },
      "source": [
        "* Da die [Untermannigfaltigkeiten](https://de.wikipedia.org/wiki/Untermannigfaltigkeit_des_ℝn) Teilmengen eines euklidischen Raumes sind, erben sie von diesem viele Eigenschaften wie zum Beispiel die Möglichkeit Abstände zu messen. \n",
        "\n",
        "* Jedoch kann man jede Untermannigfaltigkeit auch als abstrakte differenzierbare Mannigfaltigkeit (ohne umgebenden Raum) betrachten. Die Äquivalenz der beiden Sichtweisen wird durch den Einbettungssatz von Whitney sichergestellt.\n",
        "\n",
        "*  Ausgewählte Beispiele, in denen Untermannigfaltigkeiten des\n",
        "$\\mathbb {R} ^{n}$ eine Rolle spielen, sind:\n",
        "\n",
        "  * Optimierung unter Nebenbedingungen\n",
        "\n",
        "  * Mechanische Systeme mit Zwangsbedingungen\n",
        "\n",
        "  * Algebro-Differentialgleichungssysteme, beispielsweise bei der numerischen Netzwerkanalyse in der Elektrotechnik\n",
        "\n",
        "* In all diesen Anwendungen wird die Menge der betrachteten Punkte von vornherein auf eine Teilmenge $M$ des $\\mathbb{R}^{n}$ eingeschränkt, die sich lokal durch [Diffeomorphismen](https://de.wikipedia.org/wiki/Diffeomorphismus) auf Gebiete eines $\\mathbb{R}^{m}$ mit $0 \\leq m \\leq n$ abbilden lässt. \n",
        "\n",
        "* Diese Teilmenge $M$ wird als $m$ -dimensionale Untermannigfaltigkeit des $\\mathbb{R}^{n}$ bezeichnet. Mit Hilfe der Diffeomorphismen kann man auf der Untermannigfaltigkeit im differentialgeometrischen Sinne genauso rechnen wie in Gebieten des $\\mathbb{R}^{m}$.\n",
        "\n",
        "* Meistens wird die Menge $M$ durch Nebenbedingungen beschrieben. Das heißt, $M$ enthält gerade diejenigen Punkte $x,$ die mit einer vorgegeben stetig differenzierbaren Funktion $f: \\mathbb{R}^{n} \\rightarrow \\mathbb{R}^{n-m}$ mit $0<m<n$ die Gleichung $f(x)=0$ erfüllen. Außerdem wird noch gefordert, dass 0 ein regulärer Wert von $f$ ist, also die Jacobi-Matrix $D f(x)$ von $f$ für alle Punkte $x \\in M$ den Maximalrang $n-m$\n",
        "hat."
      ]
    },
    {
      "cell_type": "markdown",
      "metadata": {
        "id": "aXHFSYKFo8Lk"
      },
      "source": [
        "##### **Pseudo-riemannsche & Einsteinsche Mannigfaltigkeit**"
      ]
    },
    {
      "cell_type": "markdown",
      "metadata": {
        "id": "qBSHz9YQH4mK"
      },
      "source": [
        "*Pseudo-riemannsche Mannigfaltigkeit (Lorentz-Mannigfaltigkeit )*\n",
        "\n",
        "* Der etwas allgemeinere Begriff der [pseudo-riemannschen](https://de.wikipedia.org/wiki/Pseudo-riemannsche_Mannigfaltigkeit) oder semi-riemannschen Mannigfaltigkeit ist in der [allgemeinen Relativitätstheorie](https://de.wikipedia.org/wiki/Allgemeine_Relativitätstheorie) von entscheidender Bedeutung, da in dieser die [Raumzeit](https://de.wikipedia.org/wiki/Raumzeit) als solche beschrieben wird.\n",
        "\n",
        "* Mit $T_{p} M$ wird im Folgenden der Tangentialraum an einem Punkt $p$ einer differenzierbaren Mannigfaltigkeit $M$ bezeichnet. \n",
        "\n",
        "* **Eine pseudo-riemannsche Mannigfaltigkeit ist eine differenzierbare Mannigfaltigkeit $M$ zusammen mit einer Funktion:** \n",
        "\n",
        "> $g_{p}: T_{p} M \\times T_{p} M \\rightarrow \\mathbb{R}$.\n",
        "\n",
        "* Diese Funktion ist tensoriell, symmetrisch und nicht ausgeartet, das heißt für alle Tangentialvektoren $X, Y, Z \\in T_{p} M$ und Funktionen $a, b \\in C^{\\infty}(M)$ gilt\n",
        "\n",
        "1. $g_{p}(a X+b Y, Z)=a(p) g_{p}(X, Z)+b(p) g_{p}(Y, Z)$ (tensoriell),\n",
        "2. $g_{p}(X, Y)=g_{p}(Y, X)$ (symmetrisch),\n",
        "3. falls für $X \\in T_{p} M$ gilt, dass $g_{p}(X, Y)=0$ für alle $Y$, so folgt $X=0$.\n",
        "\n",
        "Außerdem ist $g_{p}$ differenzierbar abhängig von $p$. Die Funktion $g$ ist also ein differenzierbares Tensorfeld $g: T M \\times T M \\rightarrow C^{\\infty}(M)$ und heißt pseudoriemannsche Metrik oder metrischer Tensor.\n",
        "\n"
      ]
    },
    {
      "cell_type": "markdown",
      "metadata": {
        "id": "9NuNr_Gv0MCW"
      },
      "source": [
        "*Einsteinsche Mannigfaltigkeit*\n",
        "\n",
        "* Die [Einsteinsche Mannigfaltigkeit](https://de.wikipedia.org/wiki/Einsteinsche_Mannigfaltigkeit) oder Einsteinmannigfaltigkeit ist ein Begriff aus dem mathematischen Teilgebiet der Differentialgeometrie sowie aus der allgemeinen Relativitätstheorie. \n",
        "\n",
        "* Es handelt sich um einen Spezialfall einer (pseudo-)riemannschen Mannigfaltigkeit und wurde nach dem Physiker Albert Einstein benannt.\n",
        "\n",
        "* Eine pseudo-riemannsche Mannigfaltigkeit $(M, g)$ heißt Einsteinmannigfaltigkeit, falls eine reelle Konstante $\\lambda$ existiert, so dass\n",
        "\n",
        ">$\n",
        "\\operatorname{Ric}_{p}(X, Y)=\\lambda g_{p}(X, Y)\n",
        "$\n",
        "\n",
        "* gilt. Dabei ist $\\operatorname{Ric}_{p}$ der (0,2) -Ricci-Tensor und $X, Y \\in T_{p} M$ für jedes $p \\in M$. Die pseudo-riemannsche Metrik $g$ heißt unter diesen Gegebenheiten Einsteinmetrik.\n",
        "\n"
      ]
    },
    {
      "cell_type": "markdown",
      "metadata": {
        "id": "Ke4QbSguzrVQ"
      },
      "source": [
        "##### **Metrischer Tensor**"
      ]
    },
    {
      "cell_type": "markdown",
      "metadata": {
        "id": "ytHdb5npav0j"
      },
      "source": [
        "> $\\left[\\begin{array}{cc}1 & 0 \\\\ 0 & \\left(\\sin \\left(u^{1}\\right)\\right)^{2}\\end{array}\\right]$ = Metric Tensor $g_{i j}$ \n",
        "\n",
        "* measures lengths and angles, and whether space is curved or flat\n",
        "\n",
        "* or using Connection coefficients $\\Gamma_{i j}^{k}$, derivates of metric tensor"
      ]
    },
    {
      "cell_type": "markdown",
      "metadata": {
        "id": "3tTuUgmZUiFi"
      },
      "source": [
        "In the mathematical field of differential geometry, one definition of a metric tensor is a type of **function which takes as input a pair of tangent vectors v and w at a point of a surface (or higher dimensional differentiable manifold) and produces a real number scalar g(v, w)** in a way that **generalizes many of the familiar properties of the dot product of vectors in Euclidean space**. \n",
        "\n",
        "In the same way as a dot product, metric tensors are used to **define the length of and angle between tangent vectors**. \n",
        "\n",
        "**Through integration, the metric tensor allows one to define and compute the length of curves on the manifold**."
      ]
    },
    {
      "cell_type": "markdown",
      "metadata": {
        "id": "aVAdIOrTKyB4"
      },
      "source": [
        "* Der [metrische Tensor](https://de.wikipedia.org/wiki/Metrischer_Tensor) (auch Metriktensor oder Maßtensor) bzw [metric tensor](https://en.m.wikipedia.org/wiki/Metric_tensor) dient dazu, mathematische Räume, insbesondere differenzierbare Mannigfaltigkeiten, mit einem **Maß für Abstände und Winkel auszustatten**.\n",
        "\n",
        "* **Dieses Maß muss nicht notwendig alle Bedingungen erfüllen**, die in der Definition eines metrischen Raums an eine Metrik gestellt werden: im Minkowski-Raum der Speziellen Relativitätstheorie gelten diese Bedingungen nur für Abstände, die entweder einheitlich raumartig oder einheitlich zeitartig sind.\n",
        "\n",
        "* Für die Differentialgeometrie und die Allgemeine Relativitätstheorie bedeutsam ist, dass der metrische Tensor, **anders als eine über inneres Produkt und Norm definierte Metrik, vom Ort abhängen kann**.\n",
        "\n"
      ]
    },
    {
      "cell_type": "markdown",
      "metadata": {
        "id": "TlWtZfXOZR9x"
      },
      "source": [
        "Der metrische Tensor $g$ über einem [affinen Punktraum](https://de.wikipedia.org/wiki/Affiner_Raum) $A$ mit reellem Verschiebungsvektorraum $V$ ist eine Abbildung von $A$ in den Raum der Skalarprodukte auf $V$. \n",
        "\n",
        "Das heißt, für jeden Punkt $P \\in A$ ist\n",
        "\n",
        "> $g(P): V \\times V \\rightarrow \\mathbb{R}$\n",
        "\n",
        "eine positiv definite, symmetrische [Bilinearform](https://de.wikipedia.org/wiki/Bilinearform): cross product of two vectors, normal and tangent, see [Frenet–Serret_formulas](https://en.m.wikipedia.org/wiki/Frenet–Serret_formulas)."
      ]
    },
    {
      "cell_type": "markdown",
      "metadata": {
        "id": "-fuJkBd4yOg1"
      },
      "source": [
        "##### **Riemannscher Krümmungstensor (Riemanntensor)**"
      ]
    },
    {
      "cell_type": "markdown",
      "metadata": {
        "id": "GC9Wl-ifZdAK"
      },
      "source": [
        "> $R(\\vec{u}, \\vec{v}) \\vec{w}=\\nabla_{\\vec{u}} \\nabla_{\\vec{v}} \\vec{w}-\\nabla_{\\vec{v}} \\nabla_{\\vec{u}} \\vec{w}-\\nabla_{[\\vec{u}, \\vec{v}]} \\vec{w}$"
      ]
    },
    {
      "cell_type": "markdown",
      "metadata": {
        "id": "KFL1mLJ9c8EI"
      },
      "source": [
        "* Riemann curvature tensor: $R^{d} a b c$ (1-contra, 3-co-Tensor)\n",
        "\n",
        "* Paralle transport vector and then make parallelogram smaller up to limit"
      ]
    },
    {
      "cell_type": "markdown",
      "metadata": {
        "id": "8aX8HG_hgRQY"
      },
      "source": [
        "![gg](https://raw.githubusercontent.com/deltorobarba/repo/master/riemanntensor_01.png)"
      ]
    },
    {
      "cell_type": "markdown",
      "metadata": {
        "id": "z_RaMj3ucB90"
      },
      "source": [
        "https://www.youtube.com/watch?v=-Il2FrmJtcQ"
      ]
    },
    {
      "cell_type": "markdown",
      "metadata": {
        "id": "Q0KSw8ApySBd"
      },
      "source": [
        "* Der [riemannsche Krümmungstensor](https://de.wikipedia.org/wiki/Riemannscher_Krümmungstensor) (kürzer auch Riemanntensor, riemannsche Krümmung oder Krümmungstensor) beschreibt die Krümmung von Räumen beliebiger Dimension, genauer gesagt riemannscher oder pseudo-riemannscher Mannigfaltigkeiten. \n",
        "\n",
        "* Er ist eines der wichtigsten Hilfsmittel der riemannschen Geometrie. Eine andere wichtige Anwendung findet er im Zusammenhang mit der Krümmung der Raumzeit in der allgemeinen Relativitätstheorie.\n",
        "\n",
        "  * Zur Beschreibung der Krümmung der Mannigfaltigkeit, der eine Kombination von ersten und zweiten Ableitungen des metrischen Tensors darstellt.\n",
        "  * Wenn ein beliebiger Tensor in irgendeinem Koordinatensystem in einem Punkt nicht null ist, kann man überhaupt kein Koordinatensystem finden, sodass er in diesem Punkt null wird. Dies gilt dementsprechend auch für den Krümmungstensor.\n",
        "\n",
        "  * Umgekehrt ist der Krümmungstensor in allen Koordinatensystemen null, wenn er in einem Koordinatensystem null ist. Man wird also in jedem Koordinatensystem bezüglich der Frage, ob eine Mannigfaltigkeit an einem bestimmten Punkt gekrümmt ist oder nicht, zum gleichen Ergebnis gelangen.\n",
        "* Der riemannsche Krümmungstensor ist ein Tensor der Stufe 4. Man kann seine Koeffizienten zum Beispiel in der Form $R_{i k p}^{m}$ angeben. In diesem Artikel wird die einsteinsche Summenkonvention verwendet.\n"
      ]
    },
    {
      "cell_type": "markdown",
      "metadata": {
        "id": "BUkHz19Q5pdc"
      },
      "source": [
        "https://en.m.wikipedia.org/wiki/Riemann_curvature_tensor"
      ]
    },
    {
      "cell_type": "markdown",
      "metadata": {
        "id": "7WGGOihv4kO6"
      },
      "source": [
        "##### **Flache Mannigfaltigkeit**"
      ]
    },
    {
      "cell_type": "markdown",
      "metadata": {
        "id": "3WaBPMZt42QB"
      },
      "source": [
        "* Eine riemannsche Mannigfaltigkeit $(M, g)$ heißt flach( [Flache Mannigfaltigkeit](https://de.wikipedia.org/wiki/Flache_Mannigfaltigkeit) ), **falls sie lokal isometrisch zum euklidischen Raum ist**. \n",
        "\n",
        "* Flache Mannigfaltigkeiten sind Riemannsche Mannigfaltigkeiten mit [Schnittkrümmung](https://de.wikipedia.org/wiki/Schnittkrümmung) konstant null.\n",
        "\n",
        "* Das heißt, für jeden Punkt $p \\in M$ gibt es eine Umgebung $U$ und eine Abbildung $\\phi: U \\rightarrow V \\subset \\mathbb{R}^{n},$ welche isometrisch ist, also für welche $g(X, Y)=\\phi^{*} \\bar{g}(X, Y)=\\bar{g}\\left(\\phi_{*} X, \\phi_{*} Y\\right)$ gilt. Hier bezeichnet $\\bar{g}$ das\n",
        "euklidische Skalarprodukt und $\\phi_{*}$ den Pushforward von $\\phi$.\n",
        "\n",
        "* Verbindung zum Krümmungstensor: Eine riemannsche Mannigfaltigkeit mit Levi-Civita-Zusammenhang $\\nabla$ ist genau dann flach, wenn der riemannsche Krümmungstensor identisch null ist. Daher ist die abwickelbare Fläche das\n",
        "zweidimensionale Analogon zur flachen Mannigfaltigkeit."
      ]
    },
    {
      "cell_type": "markdown",
      "metadata": {
        "id": "yU5v-uJp5Q2U"
      },
      "source": [
        "*Schnittkrümmung*\n",
        "\n",
        "* Die [Schnittkrümmung](https://de.wikipedia.org/wiki/Schnittkrümmung) ist eine Größe der riemannschen Geometrie, eines Teilgebiets der Mathematik. Mit ihrer Hilfe kann man die Krümmung einer n-dimensionalen riemannschen Mannigfaltigkeit beschreiben. \n",
        "\n",
        "* Dabei wird jeder (zweidimensionalen) Ebene im Tangentialraum an einem Punkt dieser Mannigfaltigkeit eine Zahl als Krümmung zugeordnet. Die Schnittkrümmung kann als Verallgemeinerung der gaußschen Krümmung verstanden werden. \n",
        "\n",
        "* Der Name kommt daher, dass man sozusagen einen Schnitt durch die Mannigfaltigkeit in Richtung der gegebenen Ebene legt und die gaußsche Krümmung der so entstandenen Fläche bestimmt.\n",
        "\n",
        "* Siehe weiter unten auch 'Schnitt (Faserbündel)'"
      ]
    },
    {
      "cell_type": "markdown",
      "metadata": {
        "id": "mAqpVM7nYdgJ"
      },
      "source": [
        "## **Tensoranalysis**"
      ]
    },
    {
      "cell_type": "markdown",
      "metadata": {
        "id": "mxymkf4htRkh"
      },
      "source": [
        "#### **What are Tensors?**"
      ]
    },
    {
      "cell_type": "markdown",
      "metadata": {
        "id": "ufUcTtIBVlAc"
      },
      "source": [
        "**First Example for Tensors: Einstein Field Equations in General Relativity:**\n",
        "\n",
        "> $\n",
        "R_{\\mu \\nu}-\\frac{1}{2} R g_{\\mu \\nu}+\\Lambda {g_{\\mu v}}=\\frac{8 \\pi G}{c^{4}} T_{\\mu \\nu}\n",
        "$\n",
        "\n",
        "4x4 rank 2 metric tensor: ${g_{\\mu v}}$ (measure lengths and angles in the curved geometry of spacetime)"
      ]
    },
    {
      "cell_type": "markdown",
      "metadata": {
        "id": "dl63Xrr5WEQ_"
      },
      "source": [
        "**Second Example for Tensors: Quantum Mechanics & Quantum Computing**\n",
        "\n",
        "Quantum Superposition: \n",
        "\n",
        "> $\\vec{\\psi}=a \\vec{v}+b \\vec{w}$\n",
        "\n",
        "* linear combination, physical quantum states are just vectors, using linear combinations to give more complicated states\n",
        "\n",
        "\n",
        "Quantum Entanglement\n",
        "\n",
        "> $\\vec{\\psi} \\otimes \\vec{\\phi}$\n",
        "\n",
        "* two states are 'entangled' together means state these state vectors have been combined together using the 'tensor product' (circle X)\n",
        "\n",
        "* Takes the geometrical space where the first system lives and the second system and combines them together to create a more complicated geometrical space, and that's where the entangled system lives"
      ]
    },
    {
      "cell_type": "markdown",
      "metadata": {
        "id": "wd4fOqn-tVdo"
      },
      "source": [
        "**Definition of a Tensor**\n",
        "\n",
        "> **Tensor = an object that is invariant under a change of coordinates, and... has components that change in a special, predictable way under a change of coordinates**\n",
        "\n",
        "* the direction and the lengths of an object are invariant (=vector)\n",
        "\n",
        "* The vector components are NOT invariant. They change  depending on the coordinate system they use.\n",
        "\n",
        "* if you know how to switch between coordinate system, you should be able to know how to switch between vector components (forward and backward)\n"
      ]
    },
    {
      "cell_type": "markdown",
      "metadata": {
        "id": "jQ2JAmplwMBJ"
      },
      "source": [
        "![ggg](https://raw.githubusercontent.com/deltorobarba/repo/master/tensor_07.png)"
      ]
    },
    {
      "cell_type": "markdown",
      "metadata": {
        "id": "YaT0xx-bWA3a"
      },
      "source": [
        "https://www.youtube.com/watch?v=8ptMTLzV4-I&list=PLJHszsWbB6hrkmmq57lX8BV-o-YIOFsiG"
      ]
    },
    {
      "cell_type": "markdown",
      "metadata": {
        "id": "ekRZB5zfwTYd"
      },
      "source": [
        "> **Tensor: A collection of vectors and convectors combined together using the tensor product.** (abstract definition)\n",
        "\n",
        "> **Tensors as partial derivatives and gradients that transform with the Jacobian matrix.**"
      ]
    },
    {
      "cell_type": "markdown",
      "metadata": {
        "id": "7k4R8JsxwlZ_"
      },
      "source": [
        "**Forward and Backward Transformation**"
      ]
    },
    {
      "cell_type": "markdown",
      "metadata": {
        "id": "ScPumApjxY3L"
      },
      "source": [
        "Forward:  build the new basis vectors from the old basis vectors\n",
        "\n",
        "$\n",
        "\\begin{array}{l}\n",
        "\\text { Old Basis: }\\left\\{\\overrightarrow{e_{1}}, \\overrightarrow{e_{2}}\\right\\} \\\\\n",
        "\\text { New Basis: }\\left\\{\\widetilde{e_{1}}, \\widetilde{e_{2}}\\right\\}\n",
        "\\end{array}\n",
        "$\n",
        "\n"
      ]
    },
    {
      "cell_type": "markdown",
      "metadata": {
        "id": "Nzq-w-OOxdb0"
      },
      "source": [
        "![ggg](https://raw.githubusercontent.com/deltorobarba/repo/master/tensor_08.png)"
      ]
    },
    {
      "cell_type": "markdown",
      "metadata": {
        "id": "Kls7jAoBybYZ"
      },
      "source": [
        "Forward transformation (create new basis vectors):\n",
        "\n",
        "$\n",
        "\\begin{array}{ll}\n",
        "\\widetilde{e_{1}}= & \\overrightarrow{e_{1}}+\\overrightarrow{e_{2}} \\\\\n",
        "\\widetilde{e_{2}}= & \\overrightarrow{e_{1}}+\\overrightarrow{e_{2}}\n",
        "\\end{array}\n",
        "$\n",
        "\n",
        "Result is (based on image):\n",
        "\n",
        "${F (forward)}=\\left[\\begin{array}{cc}\n",
        "2 & 1 \\\\\n",
        "-1 / 2 & 1 / 4\n",
        "\\end{array}\\right]\n",
        "$"
      ]
    },
    {
      "cell_type": "markdown",
      "metadata": {
        "id": "t2ZbNJn6yVIB"
      },
      "source": [
        "Backward transformation:\n",
        "\n",
        "$\n",
        "\\begin{array}{c}\n",
        "\\overrightarrow{e_{1}}=1 / 4 \\widetilde{e_{1}}+(-1) \\widetilde{e_{2}} \\\\\n",
        "\\overrightarrow{e_{2}}=1 / 2 \\widetilde{e_{1}}+\\quad 2 \\widetilde{e_{2}} \\\\\n",
        "B=\\left[\\begin{array}{cc}\n",
        "1 / 4 & -1 \\\\\n",
        "1 / 2 & 2\n",
        "\\end{array}\\right]\n",
        "\\end{array}\n",
        "$"
      ]
    },
    {
      "cell_type": "markdown",
      "metadata": {
        "id": "2neQY72JzGkd"
      },
      "source": [
        "How do forward and backward matrices relate to each other? They are inverses, and matrix multiplication (dot product) leads to the identity matrix:\n",
        "\n",
        "$\n",
        "\\begin{aligned}\n",
        "F B &=\\left[\\begin{array}{cc}\n",
        "2 & 1 \\\\\n",
        "-1 / 2 & 1 / 4\n",
        "\\end{array}\\right]\\left[\\begin{array}{cc}\n",
        "1 / 4 & -1 \\\\\n",
        "1 / 2 & 2\n",
        "\\end{array}\\right] \\\\\n",
        "&=\\left[\\begin{array}{ll}\n",
        "1 & 0 \\\\\n",
        "0 & 1\n",
        "\\end{array}\\right]\n",
        "\\end{aligned}\n",
        "$\n",
        "\n",
        "> This means: $\n",
        "B=F^{-1}\n",
        "$"
      ]
    },
    {
      "cell_type": "markdown",
      "metadata": {
        "id": "Aa3sC7uC1RJX"
      },
      "source": [
        "**That was an example in 2 dimensions. What if we generalize it to n dimensions?**"
      ]
    },
    {
      "cell_type": "markdown",
      "metadata": {
        "id": "bAbHjBxl1lsy"
      },
      "source": [
        "First construct the new basis vectors from the old ones with right coefficients:\n",
        "\n",
        "$\\begin{equation}\n",
        "\\begin{array}{l}\n",
        "\\widetilde{e_{1}}=F_{11} \\overrightarrow{e_{1}}+F_{12} \\overrightarrow{e_{2}}+\\cdots+F_{1 n} \\overrightarrow{e_{n}} \\\\\n",
        "\\widetilde{e_{2}}=F_{21} \\overrightarrow{e_{1}}+F_{22} \\overrightarrow{e_{2}}+\\cdots+F_{2 n} \\overrightarrow{e_{n}} \\\\\n",
        "\\cdots \\\\\n",
        "\\widetilde{e_{n}}=F_{n 1} \\overrightarrow{e_{1}}+F_{n 2} \\overrightarrow{e_{2}}+\\cdots+F_{n n} \\overrightarrow{e_{n}}\n",
        "\\end{array}\n",
        "\\end{equation}$"
      ]
    },
    {
      "cell_type": "markdown",
      "metadata": {
        "id": "VICDcbAF14lP"
      },
      "source": [
        "Write it as a n x n coefficient matrix $F$:\n",
        "\n",
        "$\\begin{equation}\n",
        "\\left[\\begin{array}{cccc}\n",
        "F_{11} & F_{12} & \\ldots & F_{1 n} \\\\\n",
        "F_{21} & F_{22} & \\ldots & F_{2 n} \\\\\n",
        "\\vdots & \\vdots & \\ddots & \\vdots \\\\\n",
        "F_{n 1} & F_{n 2} & \\ldots & F_{n n}\n",
        "\\end{array}\\right]\n",
        "\\end{equation}\n",
        "$"
      ]
    },
    {
      "cell_type": "markdown",
      "metadata": {
        "id": "ymat9p8qvS7Y"
      },
      "source": [
        "**How to facilitate it without writing all these equations above?**"
      ]
    },
    {
      "cell_type": "markdown",
      "metadata": {
        "id": "uEL6IpO42d6v"
      },
      "source": [
        "Let’s take an example: in the following equation taken from the table above:\n",
        "\n",
        "$F_{21}$ tells us how much of $\\overrightarrow{e_{1}}$ is in $\\widetilde{e_{2}}$:\n",
        "\n",
        "$\\begin{equation}\n",
        "\\widetilde{e_{2}}=F_{21} \\overrightarrow{e_{1}}\n",
        "\\end{equation}$\n",
        "\n",
        "So what I want is $\\sum F_{i j}$ that tells us how much of $\\overrightarrow{e_{j}}$ makes up $\\widetilde{\\vec{e}_{i}}$:\n",
        "\n",
        "> $\\begin{equation}\n",
        "\\widetilde{\\vec{e}_{i}}=\\sum F_{i j} \\overrightarrow{e_{j}}\n",
        "\\end{equation}$"
      ]
    },
    {
      "cell_type": "markdown",
      "metadata": {
        "id": "EF_AUcLo4tr0"
      },
      "source": [
        "Now we do the same for the backward transformation:\n",
        "\n",
        "$\\begin{equation}\n",
        "\\begin{aligned}\n",
        "\\overrightarrow{e_{1}} &=B_{11} \\widetilde{e_{1}}+B_{12} \\widetilde{e_{2}}+\\cdots+B_{1 n} \\widetilde{e_{n}} \\\\\n",
        "\\overrightarrow{e_{2}} &=B_{21} \\widetilde{e_{1}}+B_{22} \\widetilde{e_{2}}+\\cdots+B_{2 n} \\widetilde{e_{n}} \\\\\n",
        "\\overrightarrow{e_{n}} & =B_{n 1} \\widetilde{e_{1}}+B_{n 2} \\widetilde{e_{2}}+\\cdots+B_{n n} \\widetilde{e_{n}}\n",
        "\\end{aligned}\n",
        "\\end{equation}$"
      ]
    },
    {
      "cell_type": "markdown",
      "metadata": {
        "id": "7-4vB7Rk4yOu"
      },
      "source": [
        "Write it as a n x n coefficient matrix $B$:\n",
        "\n",
        "$\\begin{equation}\n",
        "\\left[\\begin{array}{cccc}\n",
        "B_{11} & B_{12} & \\ldots & B_{1 n} \\\\\n",
        "B_{21} & B_{22} & \\ldots & B_{2 n} \\\\\n",
        "\\vdots & \\vdots & \\ddots & \\vdots \\\\\n",
        "B_{n 1} & B_{n 2} & \\ldots & B_{n n}\n",
        "\\end{array}\\right]\n",
        "\\end{equation}$"
      ]
    },
    {
      "cell_type": "markdown",
      "metadata": {
        "id": "yd70Izk-5T8e"
      },
      "source": [
        "Summarize the backward transformation as well:\n",
        "\n",
        "> $\\begin{equation}\n",
        "\\overrightarrow{e_{i}}=\\sum_{j=1}^{n} B_{i j} \\widetilde{e_{j}}\n",
        "\\end{equation}$"
      ]
    },
    {
      "cell_type": "markdown",
      "metadata": {
        "id": "OztVUtrA1Fn4"
      },
      "source": [
        "Now both together forward and backward transformation:\n",
        "\n",
        "> $\\begin{equation}\n",
        "\\begin{aligned}\n",
        "\\widetilde{e_{j}} &=\\sum_{k=1}^{n} F_{j k} \\overrightarrow{e_{k}} \\\\\n",
        "\\overrightarrow{e_{i}} &=\\sum_{j=1}^{n} B_{i j} \\widetilde{\\overrightarrow{e_{j}}}\n",
        "\\end{aligned}\n",
        "\\end{equation}$\n"
      ]
    },
    {
      "cell_type": "markdown",
      "metadata": {
        "id": "Fg45QeT1vmV1"
      },
      "source": [
        "**How are they related to each other?**"
      ]
    },
    {
      "cell_type": "markdown",
      "metadata": {
        "id": "BM2-fBTt5ydc"
      },
      "source": [
        "How are they related to each other? (once again proving)\n",
        "\n",
        "$\\begin{equation}\n",
        "\\overrightarrow{e_{i}}=\\sum_{j=1}^{n} B_{i j} \\widetilde{{e_{j}}}\n",
        "\\end{equation}$\n",
        "\n",
        "Replacing with following at the last term above:\n",
        "\n",
        "$\\begin{equation}\n",
        "\\widetilde{e_{j}}=\\sum_{k=1}^{n} F_{j k} \\overrightarrow{e_{k}}\n",
        "\\end{equation}$\n",
        "\n",
        "And you get: \n",
        "\n",
        "$\\begin{equation}\n",
        "\\overrightarrow{e_{i}}=\\sum_{j} B_{i j}\\left(\\sum_{k} F_{j k} \\overrightarrow{e_{k}}\\right)\n",
        "\\end{equation}$\n",
        "\n",
        "Rearranging summation signs:\n",
        "\n",
        "$\\begin{equation}\n",
        "\\overrightarrow{e_{i}}=\\sum_{k}\\left(\\sum_{j} B_{i j} F_{j k}\\right) \\overrightarrow{e_{k}}\n",
        "\\end{equation}$\n",
        "\n",
        "So now we build the old basis vectors $\\overrightarrow{e_{i}}$ using the summation of the old basis vectors $\\overrightarrow{e_{k}}$"
      ]
    },
    {
      "cell_type": "markdown",
      "metadata": {
        "id": "mb3IDOvpv-Av"
      },
      "source": [
        "Now the following middle part should be an identity matrix:\n",
        "\n",
        "$\\begin{equation}\n",
        "\\left(\\sum_{j} B_{i j} F_{j k}\\right)\n",
        "\\end{equation}$\n",
        "\n",
        "so that:\n",
        "\n",
        "$\\begin{equation}\n",
        "\\overrightarrow{e_{i}}=\\sum_{k} \\overrightarrow{e_{k}}\n",
        "\\end{equation}$\n",
        "\n",
        "Which means then that:\n",
        "\n",
        "$\\begin{equation}\n",
        "\\begin{aligned}\n",
        "\\overrightarrow{e_{1}} &=\\overrightarrow{e_{1}} \\\\\n",
        "\\overrightarrow{e_{2}} &=\\overrightarrow{e_{2}} \\\\\n",
        "& \\vdots \\\\\n",
        "\\overrightarrow{e_{n}} &=\\overrightarrow{e_{n}}\n",
        "\\end{aligned}\n",
        "\\end{equation}$"
      ]
    },
    {
      "cell_type": "markdown",
      "metadata": {
        "id": "oI4qeZZmw0x0"
      },
      "source": [
        "In order to achieve that we want for this part the following conditions:\n",
        "\n",
        "for this $\\begin{equation}\n",
        "\\left(\\sum_{j} B_{i j} F_{j k}\\right)\n",
        "\\end{equation}$ we want:\n",
        "\n",
        "* it is 1 when i = k\n",
        "\n",
        "* it is 0 when i ≠ k\n",
        "\n",
        "because that will give us the identity matrix (because 1 is where row is equal to the columns, so i = k, and all else 0):\n",
        "\n",
        "$\\begin{equation}\n",
        "I_{n}=\\left[\\begin{array}{ccccc}\n",
        "1 & 0 & 0 & \\cdots & 0 \\\\\n",
        "0 & 1 & 0 & \\cdots & 0 \\\\\n",
        "0 & 0 & 1 & \\cdots & 0 \\\\\n",
        "\\vdots & \\vdots & \\vdots & \\ddots & \\vdots \\\\\n",
        "0 & 0 & 0 & \\cdots & 1\n",
        "\\end{array}\\right]\n",
        "\\end{equation}$"
      ]
    },
    {
      "cell_type": "markdown",
      "metadata": {
        "id": "yrJ0cre_1ES3"
      },
      "source": [
        "So for this operation we have the Kronecker Delta:\n",
        "\n",
        "$\n",
        "\\sum_{j} B_{i j} F_{j k}=\\delta_{i k}=\\left\\{\\begin{array}{l}\n",
        "1 \\text { if } i=k \\\\\n",
        "0 \\text { if } i \\neq k\n",
        "\\end{array}\\right.\n",
        "$"
      ]
    },
    {
      "cell_type": "markdown",
      "metadata": {
        "id": "QVFQgGqM0jIN"
      },
      "source": [
        "https://www.youtube.com/watch?v=sdCmW5N1LW4&list=PLJHszsWbB6hrkmmq57lX8BV-o-YIOFsiG&index=3"
      ]
    },
    {
      "cell_type": "markdown",
      "metadata": {
        "id": "2eV4Pi3Y3THx"
      },
      "source": [
        "#### **Basen**"
      ]
    },
    {
      "cell_type": "markdown",
      "metadata": {
        "id": "Tv2c-HChQpDh"
      },
      "source": [
        "##### **Globale Basisvektoren & orthogonale Koordinaten**"
      ]
    },
    {
      "cell_type": "markdown",
      "metadata": {
        "id": "vmwbmPUR-705"
      },
      "source": [
        "https://en.wikipedia.org/wiki/Orthogonal_coordinates"
      ]
    },
    {
      "cell_type": "markdown",
      "metadata": {
        "id": "S59OJhxbDkHw"
      },
      "source": [
        "https://en.wikipedia.org/wiki/Cartesian_tensor"
      ]
    },
    {
      "cell_type": "markdown",
      "metadata": {
        "id": "yIcIqTGCYSBQ"
      },
      "source": [
        "* In der linearen Algebra ist eine [Basis](https://de.wikipedia.org/wiki/Basis_(Vektorraum)), siehe auch hier [english basis](https://en.wikipedia.org/wiki/Basis_(linear_algebra)), eine Teilmenge eines Vektorraumes, mit deren Hilfe sich jeder Vektor des Raumes eindeutig als **endliche Linearkombination darstellen lässt**. Die Koeffizienten dieser Linearkombination heißen die Koordinaten des Vektors bezüglich dieser Basis. Ein Element der Basis heißt Basisvektor. \n",
        "\n",
        "> **Es koennen sehr viele verschiedene Vektorbasen in einem Vektorraum existieren (im Ggs zur Koordinatenbasis), zB im zweidimensionalen linearen Untervektorraum eines dreidimensionalen Vektorraumens, und ein [Basiswechsel wird mit einer Transformationsmatrix](https://www.youtube.com/watch?v=CR7e7Zc0QLg) gemacht.**\n",
        "\n",
        "* Wenn Verwechslungen mit anderen Basisbegriffen (z. B. der Schauderbasis) zu befürchten sind, nennt man eine solche Teilmenge auch Hamelbasis (nach Georg Hamel). \n",
        "\n",
        "* Ein Vektorraum besitzt im Allgemeinen verschiedene Basen, ein Wechsel der Basis erzwingt eine [Koordinatentransformation](https://de.wikipedia.org/wiki/Basiswechsel_(Vektorraum)). \n",
        "\n",
        "* Eigenschaften - Eine Basis eines Vektorraums $V$ ist eine Teilmenge $B$ von $V$ mit folgenden gleichwertigen Eigenschaften:\n",
        "\n",
        "  1. Jedes Element von $V$ lässt sich als Linearkombination von Vektoren aus $B$ darstellen und diese Darstellung ist eindeutig.\n",
        "\n",
        "  2. $B$ ist ein minimales Erzeugendensystem von $V$, jeder Vektor aus $V$ lässt sich also als Linearkombination aus $B$ darstellen ( $V$ ist lineare Hülle von $B$ ) und diese Eigenschaft gilt nicht mehr, wenn ein Element aus $B$ entfernt wird.\n",
        "\n",
        "  3. $B$ ist eine maximale linear unabhängige Teilmenge von $V$. Wird also ein weiteres Element aus $V$ zu $B$ hinzugefügt, ist die neue Menge nicht mehr linear unabhängig.\n",
        "\n",
        "  4. $B$ ist ein linear unabhängiges Erzeugendensystem von $V$.\n",
        "\n",
        "* Beispiele\n",
        "\n",
        "  * In der euklidischen Ebene $\\mathbb {R} ^{2}$ gibt es die so genannte [Standardbasis](https://de.wikipedia.org/wiki/Standardbasis) $\\{(1,0),(0,1)\\}$. Darüber hinaus bilden in dieser Ebene zwei Vektoren genau dann eine Basis, wenn sie nicht in dieselbe (oder die entgegengesetzte) Richtung zeigen."
      ]
    },
    {
      "cell_type": "markdown",
      "metadata": {
        "id": "0K97l6x6R8rE"
      },
      "source": [
        "*Deep Dive: Basistransformation im Vektorraum*\n",
        "\n",
        "**Jeder beliebige Vektor kann als Linearkombination der Basisvektoren dargestellt werden, wobei die Koeffizienten der Linearkombination die Komponenten des Vektors genannt werden.**\n",
        "\n",
        "* Ein Vektorraum besitzt im Allgemeinen verschiedene Basen, ein Wechsel der Basis erzwingt eine [Koordinatentransformation](https://de.wikipedia.org/wiki/Basiswechsel_(Vektorraum)). \n",
        "\n",
        "* Mit welcher Linearkombination der Vektoren von Basis B lassen sich die Vektoren aus Basis A erschaffen? (Gauss-Verfahren, Einheitsmatrix von B + Transformationsmatrix von Basis A nach Basis B)\n",
        "\n",
        "* Source: [Video](https://www.youtube.com/watch?v=CR7e7Zc0QLg)"
      ]
    },
    {
      "cell_type": "markdown",
      "metadata": {
        "id": "oyLBZdoaRuDQ"
      },
      "source": [
        "*Step 1: Ein Zielvektor = Basisvektor B * Koeffizienten von B oder Basisvektor A * Koeffizienten von A (hier ist: Koordinatenvektor = Koeffizienten)*\n",
        "\n",
        "![hh](https://raw.githubusercontent.com/deltorobarba/repo/master/transformationsmatrix_01.png)"
      ]
    },
    {
      "cell_type": "markdown",
      "metadata": {
        "id": "A1SJju7PR2q3"
      },
      "source": [
        "*Step 2: Transformationsmatrix * Koeffizienten von A = Koeffizienten von B* \n",
        "\n",
        "*Die Transformationsmatrix 'vermitteln' also zwischen den Koeffizienten (=Koordinatenvektoren) zu den verschiedenen Basen, damit immer der gleiche Zielvektor am Ende entsteht.*\n",
        "\n",
        "![hh](https://raw.githubusercontent.com/deltorobarba/repo/master/transformationsmatrix_02.png)"
      ]
    },
    {
      "cell_type": "markdown",
      "metadata": {
        "id": "nNTFCxpiu_N6"
      },
      "source": [
        "> **Die Hamelbasis (im Vektorraum) sollte nicht mit der [Basis eines Koordinatensystems](https://de.wikipedia.org/wiki/Koordinatensystem#Basisvektoren_im_Koordinatensystem) verwechselt werden, da diese Begriffe unter bestimmten Bedingungen nicht gleichgesetzt werden können (z. B. bei [krummlinigen Koordinaten](https://de.wikipedia.org/wiki/Krummlinige_Koordinaten)).**"
      ]
    },
    {
      "cell_type": "markdown",
      "metadata": {
        "id": "usYiqJlmZQvn"
      },
      "source": [
        "**Basis im Koordinatensystem**"
      ]
    },
    {
      "cell_type": "markdown",
      "metadata": {
        "id": "b3RWxL3raMQB"
      },
      "source": [
        "* Für [Koordinatensysteme kommt dem Begriff \"Basisvektor\"](https://de.wikipedia.org/wiki/Koordinatensystem#Basisvektoren_im_Koordinatensystem) eine etwas andere Bedeutung als für die Basisvektor eines Vektorräume zu. \n",
        "\n",
        "* Ein Basisvektor (für einen beliebigen Punkt) ist dann ein Vektor, der tangential zu einer bestimmten Koordinatenlinie an diesem Punkt verläuft. Daraus folgt, dass Basisvektoren im Koordinatensystem eine Basis im Koordinatensystem bilden, die im Allgemeinen von der Basis eines Vektorraums zu unterscheiden ist."
      ]
    },
    {
      "cell_type": "markdown",
      "metadata": {
        "id": "YRnTNuYOUuCv"
      },
      "source": [
        "**Orthogonal Coordinates & Cartesian Tensor**"
      ]
    },
    {
      "cell_type": "markdown",
      "metadata": {
        "id": "FqwYWmlX6eQd"
      },
      "source": [
        "* Orthogonal coordinates are a **special but extremely common case of curvilinear coordinates**."
      ]
    },
    {
      "cell_type": "markdown",
      "metadata": {
        "id": "DaNSFzGjTVvp"
      },
      "source": [
        "https://en.m.wikipedia.org/wiki/Cartesian_tensor"
      ]
    },
    {
      "cell_type": "markdown",
      "metadata": {
        "id": "NdXgpe0PUwY9"
      },
      "source": [
        "https://en.wikipedia.org/wiki/Orthogonal_coordinates"
      ]
    },
    {
      "cell_type": "markdown",
      "metadata": {
        "id": "5W7Acz5mTbMJ"
      },
      "source": [
        "https://en.m.wikipedia.org/wiki/Orthogonal_transformation"
      ]
    },
    {
      "cell_type": "markdown",
      "metadata": {
        "id": "byknWnywLLpB"
      },
      "source": [
        "https://de.wikipedia.org/wiki/Bezugssystem"
      ]
    },
    {
      "cell_type": "markdown",
      "metadata": {
        "id": "8bi2KfCNOx4r"
      },
      "source": [
        "https://en.wikipedia.org/wiki/Orthogonal_coordinates#Basis_vectors"
      ]
    },
    {
      "cell_type": "markdown",
      "metadata": {
        "id": "NTob1FG6ihzY"
      },
      "source": [
        "##### **Lokale Basisvektoren & Ortsabhängigkeit bei krummlinigen Koordinaten**"
      ]
    },
    {
      "cell_type": "markdown",
      "metadata": {
        "id": "naJqTJGwn-Uw"
      },
      "source": [
        "**Curvilinear Coordinates (Krummlinige Koordinaten)**"
      ]
    },
    {
      "cell_type": "markdown",
      "metadata": {
        "id": "hM01yC7PeNdN"
      },
      "source": [
        "* [Krummlinige Koordinaten](https://de.wikipedia.org/wiki/Krummlinige_Koordinaten) bzw. [Curvilinear coordinates](https://en.wikipedia.org/wiki/Curvilinear_coordinates) sowie [Tensors_in_curvilinear_coordinates](https://en.wikipedia.org/wiki/Tensors_in_curvilinear_coordinates) sind Koordinatensysteme auf dem euklidischen Raum $E^{n}$, bei denen die Koordinatenlinien gekrümmt sein können und die diffeomorph zu kartesischen Koordinaten sind.\n",
        "\n",
        "* Das heißt, die Transformation zwischen kartesischen Koordinaten und krummlinigen Koordinaten muss lokal invertierbar sein, wobei die Abbildung wie auch die Umkehrabbildung stetig differenzierbar sein müssen.\n",
        "\n",
        "* Die am häufigsten verwendeten krummlinigen Koordinatensysteme, die beide zu den orthogonalen Koordinatensystemen zählen, sind:\n",
        "\n",
        "  * ebene [Polarkoordinaten](https://de.wikipedia.org/wiki/Polarkoordinaten) (2D) \n",
        "  \n",
        "  * bzw. deren 3-dimensionale Entsprechung, die [Zylinderkoordinaten](https://de.wikipedia.org/wiki/Polarkoordinaten#Zylinderkoordinaten)\n",
        "\n",
        "  * [Kugelkoordinaten](https://de.wikipedia.org/wiki/Kugelkoordinaten), auch sphärische Koordinaten genannt (3D)\n",
        "\n",
        "* Je nach Problemstellung sind Berechnungen in krummlinigen Koordinatensystemen einfacher als in kartesischen durchzuführen. Zum Beispiel sind physikalische Systeme mit [Radialsymmetrie](https://de.wikipedia.org/wiki/Radialsymmetrie) oft einfacher in Kugelkoordinaten zu behandeln.\n"
      ]
    },
    {
      "cell_type": "markdown",
      "metadata": {
        "id": "RsZZBUfBn-JM"
      },
      "source": [
        "**Lokale Basisvektoren**"
      ]
    },
    {
      "cell_type": "markdown",
      "metadata": {
        "id": "yVeO8Remn8jo"
      },
      "source": [
        "* Die Koordinatenachsen sind als Tangenten an die **Koordinatenlinien** definiert. Da die Koordinatenlinien im Allgemeinen gekrümmt sind, sind die Koordinatenachsen nicht räumlich fest, wie es für kartesische Koordinaten gilt. \n",
        "\n",
        "* Dies führt auf das Konzept der [**lokalen Basisvektoren**](https://de.wikipedia.org/wiki/Krummlinige_Koordinaten#Koordinatenflächen,_-linien_und_-achsen), **deren Richtung vom betrachteten Raumpunkt abhängt** – im Gegensatz zu globalen Basisvektoren der kartesischen oder affinen Koordinaten."
      ]
    },
    {
      "cell_type": "markdown",
      "metadata": {
        "id": "XE5xinzZpqDS"
      },
      "source": [
        "[**Verschiedene Basen bei krummlinigen Koordinaten**:](https://de.wikipedia.org/wiki/Krummlinige_Koordinaten#Verschiedene_Basen) \n",
        "\n",
        "* Um einen Vektor mittels Koordinaten darstellen zu können, ist eine Basis nötig. Im \n",
        "n-dimensionalen Raum besteht diese aus \n",
        "n linear unabhängigen Vektoren, den Basisvektoren. \n",
        "\n",
        "* **Jeder beliebige Vektor kann als Linearkombination der Basisvektoren dargestellt werden, wobei die Koeffizienten der Linearkombination die <u>Komponenten des Vektors</u> genannt werden**.\n",
        "\n",
        "* Für echt **krummlinige (also nicht-geradlinige) Koordinaten variieren Basisvektoren und Komponenten von Punkt zu Punkt**, weshalb die Basis als **lokale Basis** bezeichnet wird. Die Ortsabhängigkeit eines Vektorfeldes verteilt sich auf die Koordinaten sowie auf die Basisvektoren. \n",
        "\n",
        "* Im Gegensatz dazu zeichnen sich **globale Basen** dadurch aus, dass die Basisvektoren in jedem Punkt identisch sind, was nur für lineare bzw. affine Koordinaten (die Koordinatenlinien sind geradlinig, aber im Allgemeinen schiefwinklig) möglich ist. \n",
        "\n",
        "> **Die Ortsabhängigkeit eines Vektorfeldes steckt bei geradlinigen Koordinatensystemen allein in den Koordinaten (und nicht in den Basen)**."
      ]
    },
    {
      "cell_type": "markdown",
      "metadata": {
        "id": "d9nsnWFXABd5"
      },
      "source": [
        "**Die <u>Koordinatenachsen sind als Tangenten an die Koordinatenlinien</u> definiert**. \n",
        "\n",
        "**Da die Koordinatenlinien im Allgemeinen gekrümmt sind, sind die Koordinatenachsen nicht räumlich fest, wie es für kartesische Koordinaten gilt.**\n",
        "\n",
        "**Dies führt auf das Konzept der <u>lokalen Basisvektoren</u>, deren Richtung vom betrachteten Raumpunkt abhängt – im Gegensatz zu globalen Basisvektoren der kartesischen oder affinen Koordinaten.**"
      ]
    },
    {
      "cell_type": "markdown",
      "metadata": {
        "id": "kXq4fobVAFsP"
      },
      "source": [
        "https://de.m.wikipedia.org/wiki/Krummlinige_Koordinaten#Koordinatenflächen,_-linien_und_-achsen"
      ]
    },
    {
      "cell_type": "markdown",
      "metadata": {
        "id": "UFbwI12TAUVH"
      },
      "source": [
        "![fff](https://upload.wikimedia.org/wikipedia/commons/5/57/General_curvilinear_coordinates_1.svg)"
      ]
    },
    {
      "cell_type": "markdown",
      "metadata": {
        "id": "hePBaTYIVEVe"
      },
      "source": [
        "##### **Kovarianter und kontravarianter Basisvektor**"
      ]
    },
    {
      "cell_type": "markdown",
      "metadata": {
        "id": "1W3tht0ppj3c"
      },
      "source": [
        "Um Basisvektoren mit einem Koordinatensystem zu verknüpfen gibt es zwei gebräuchliche Methoden:\n",
        "\n",
        "* **kovariante Basisvektoren (= \"kontravarianten Vektor\", weil Koordinaten kontravariant, dazu später mehr)**: Tangential an die Koordinatenlinien, d. h. kollinear zu den Koordinatenachsen (da, wie oben beschrieben, die Koordinatenachsen als Tangenten an die Koordinatenlinien definiert sind).\n",
        "\n",
        "* **kontravariante Basisvektoren (= \"kovarianten Vektor\", weil Koordinaten kovariant, dazu später mehr)**: Normal zu den Koordinatenflächen\n",
        "\n",
        "* Die beiden Klassen von Basisvektoren sind dual bzw. reziprok zueinander (siehe [duale Basis](https://de.wikipedia.org/wiki/Duale_Basis)). Diese beiden Basen bezeichnet man als **holonome Basen**. \n",
        "\n",
        "> Sie unterscheiden sich in ihrem Transformationsverhalten unter Koordinatenwechsel. **Dabei sind die Transformationen invers zueinander**."
      ]
    },
    {
      "cell_type": "markdown",
      "metadata": {
        "id": "5lHo6sUZxxix"
      },
      "source": [
        "**Zwei Basen**:\n",
        "\n",
        "* $\\left\\{\\overrightarrow{g_{i}}\\right\\}$ **kovariant** und \n",
        "  \n",
        "* $\\left\\{\\overrightarrow{g^{j}}\\right\\}$ **kontravariant** und **Dualbasis** zu $\\left\\{\\overrightarrow{g_{i}}\\right\\}$\n",
        "\n",
        "Wenn $\\vec{g}_{i} \\cdot \\vec{g}^{j}=\\delta_{i}^{j}$ (**Kronecker Delta / Skalarprodukt ist Null**) dann heissen $\\left\\{\\overrightarrow{g_{i}}\\right\\}$ und $\\left\\{\\overrightarrow{g^{j}}\\right\\}$ **reziprok** zueinander"
      ]
    },
    {
      "cell_type": "markdown",
      "metadata": {
        "id": "YMGnUPxYzsfP"
      },
      "source": [
        "**Geometrische Interpretation** (\"paarweise Orthogonalitat\")"
      ]
    },
    {
      "cell_type": "markdown",
      "metadata": {
        "id": "IRDfznSrzmkN"
      },
      "source": [
        "$\\left\\{\\overrightarrow{g_{1}}\\right\\}$ (kovariant von Basis 1) muss senkrecht stehen zu $\\left\\{\\overrightarrow{g^{2}}\\right\\}$ (kontravariant von Basis 2) und\n",
        "\n",
        "$\\left\\{\\overrightarrow{g_{2}}\\right\\}$ (kovariant von Basis 2) muss senkrecht stehen zu $\\left\\{\\overrightarrow{g^{1}}\\right\\}$ (kontravariant von Basis 1)"
      ]
    },
    {
      "cell_type": "markdown",
      "metadata": {
        "id": "uZjLhYyj0Jbd"
      },
      "source": [
        "![dd](https://raw.githubusercontent.com/deltorobarba/repo/master/paarweise_orthogonalitat.png)"
      ]
    },
    {
      "cell_type": "markdown",
      "metadata": {
        "id": "y-dcuzirYiHQ"
      },
      "source": [
        "https://av.tib.eu/media/19916"
      ]
    },
    {
      "cell_type": "markdown",
      "metadata": {
        "id": "TU78Q46pzHVR"
      },
      "source": [
        "https://www.youtube.com/watch?v=PNRoBOzije8"
      ]
    },
    {
      "cell_type": "markdown",
      "metadata": {
        "id": "h_sNqeIOw7mo"
      },
      "source": [
        "![gg](https://upload.wikimedia.org/wikipedia/commons/5/57/General_curvilinear_coordinates_1.svg)"
      ]
    },
    {
      "cell_type": "markdown",
      "metadata": {
        "id": "BPuk6DEuskis"
      },
      "source": [
        "**Bestimmung der Dualbasen aus den Basen**"
      ]
    },
    {
      "cell_type": "markdown",
      "metadata": {
        "id": "TjYPXuMKo0cq"
      },
      "source": [
        "![iiu](https://raw.githubusercontent.com/deltorobarba/repo/master/tensor_01.png)"
      ]
    },
    {
      "cell_type": "markdown",
      "metadata": {
        "id": "JhTGg_namsZI"
      },
      "source": [
        "Bestimmung der Dualbasen in diesem zweidimensionalen Fall in $\\mathbb{R}$:"
      ]
    },
    {
      "cell_type": "markdown",
      "metadata": {
        "id": "OzG2bnwwl-Qm"
      },
      "source": [
        "$e^{1}\\left(e_{1}\\right)=1$\n",
        "\n",
        "$e^{1}\\left(e_{2}\\right)=0$\n",
        "\n",
        "$e^{2}\\left(e_{1}\\right)=0$\n",
        "\n",
        "$e^{2}\\left(e_{2}\\right)=1$"
      ]
    },
    {
      "cell_type": "markdown",
      "metadata": {
        "id": "8A9lXQYqmmSv"
      },
      "source": [
        "Verallgemeinert kann man sie folgendermassen berechnen mit dem Kronecker-Delta:"
      ]
    },
    {
      "cell_type": "markdown",
      "metadata": {
        "id": "-Nb-_te9mWb1"
      },
      "source": [
        "$e^{k}\\left(e_{l}\\right)=\\left\\{\\begin{array}{l}1, \\text { wenn } k=l \\\\ 0, \\text { sonst }\\end{array}\\right.$\n",
        "\n",
        "$=\\delta_{l}^{k}$ Kronecker-Delta"
      ]
    },
    {
      "cell_type": "markdown",
      "metadata": {
        "id": "_hqMZdEN-F_S"
      },
      "source": [
        "#### **Vektoren (Tensoren)**"
      ]
    },
    {
      "cell_type": "markdown",
      "metadata": {
        "id": "cbvXs7THOx3Z"
      },
      "source": [
        "*Siehe hier auch Lie Gruppen und Lie Algebra*"
      ]
    },
    {
      "cell_type": "markdown",
      "metadata": {
        "id": "USxCwRx3_1pK"
      },
      "source": [
        "##### **Tangential-, Kotangential- & Normalvektor (Linear/Bilinear)**"
      ]
    },
    {
      "cell_type": "markdown",
      "metadata": {
        "id": "fQaOAIdS1O8C"
      },
      "source": [
        "**Tangential and Normal Components (Koordinaten)**"
      ]
    },
    {
      "cell_type": "markdown",
      "metadata": {
        "id": "W1r3w_7TyDlB"
      },
      "source": [
        "* **Given a vector at a point on a curve (just a vector, not a tangential vector!), that vector can be decomposed uniquely as a sum of two vectors**, \n",
        "\n",
        "  * $\\mathbf{v}_{\\|}$ : one tangent to the curve, called the **tangential component** of the vector\n",
        "  * $\\mathbf{v}_{\\perp}$  : another one perpendicular to the curve, called the **normal component** of the vector\n",
        "\n",
        "  * Zusatzlich gibt es noch: The binormal unit vector B is defined as the cross product of T and N ([Source](https://en.m.wikipedia.org/wiki/Frenet%E2%80%93Serret_formulas))\n",
        "\n",
        "* More formally, let $S$ be a surface, and $x$ be a point on the surface. Let $\\mathbf{v}$\n",
        "be a vector at $x$. Then one can write uniquely $\\mathbf{v}$ as a sum:\n",
        "\n",
        ">$\n",
        "\\mathbf{v}=\\mathbf{v}_{\\|}+\\mathbf{v}_{\\perp}\n",
        "$\n",
        "\n",
        "* Similarly a vector at a point on a surface can be broken down the same way.\n",
        "\n",
        "* More generally, given a submanifold $N$ of a manifold $M,$ and\n",
        "a vector in the tangent space to $M$ at a point of $N$, it can be\n",
        "decomposed into the component tangent to $N$ and the\n",
        "component normal to $N$."
      ]
    },
    {
      "cell_type": "markdown",
      "metadata": {
        "id": "RvmoMSwEx9mx"
      },
      "source": [
        "![ggg](https://upload.wikimedia.org/wikipedia/commons/7/7a/Surface_normal_tangent.svg)"
      ]
    },
    {
      "cell_type": "markdown",
      "metadata": {
        "id": "GWKbULdl0A6_"
      },
      "source": [
        "*Calculate the components*"
      ]
    },
    {
      "cell_type": "markdown",
      "metadata": {
        "id": "eK_fxXVW0Dw5"
      },
      "source": [
        "To calculate the tangential and normal components, consider a [unit normal](https://en.wikipedia.org/wiki/Normal_(geometry)) to the surface, that is, a [unit vector](https://en.wikipedia.org/wiki/Unit_vector) $\\hat{n}$ perpendicular to $S$ at $x$. Then, normal component:\n",
        "\n",
        ">$\n",
        "\\mathbf{v}_{\\perp}=(\\mathbf{v} \\cdot \\hat{n}) \\hat{n}\n",
        "$\n",
        "\n",
        "and thus tangential component:\n",
        "\n",
        ">$\n",
        "\\mathbf{v}_{\\|}=\\mathbf{V}-\\mathbf{V}_{\\perp}\n",
        "$\n",
        "\n",
        "where \".\" denotes the [dot product](https://en.wikipedia.org/wiki/Dot_product). \n",
        "\n",
        "Another formula for the tangential component is\n",
        "\n",
        ">$\n",
        "\\mathbf{v}_{\\|}=-\\hat{n} \\times(\\hat{n} \\times \\mathbf{v})\n",
        "$\n",
        "\n",
        "where \" $\\times$ \" denotes the [cross product](https://en.wikipedia.org/wiki/Cross_product).\n",
        "\n",
        "Note that these formulas do not depend on the particular unit normal $\\hat{n}$ used (there exist two unit normals to any surface at a given point, pointing in opposite directions, so one of the unit normals is the negative of the other one)."
      ]
    },
    {
      "cell_type": "markdown",
      "metadata": {
        "id": "uXJLcYOrMqS6"
      },
      "source": [
        "https://en.wikipedia.org/wiki/Tangential_and_normal_components"
      ]
    },
    {
      "cell_type": "markdown",
      "metadata": {
        "id": "ArOg6IjI9Jd8"
      },
      "source": [
        "**Tangentialvektor & Tangentialraum**"
      ]
    },
    {
      "cell_type": "markdown",
      "metadata": {
        "id": "YI6zzIlG_0Yp"
      },
      "source": [
        "Sei $\\gamma:(-\\varepsilon, \\varepsilon) \\rightarrow M$ eine differenzierbare Kurve mit $\\gamma(0)=x$ und dem **Kurvenparameter $t$** (siehe 'Parameterdarstellungen' oben), dann ist:\n",
        "\n",
        ">$\n",
        "v=\\frac{d \\gamma}{d t}(0) \\in T_{x} M\n",
        "$\n",
        "\n",
        "ein [Tangentialvektor](https://en.wikipedia.org/wiki/Tangent_vector). \n",
        "\n",
        "Die Tangentialvektoren in einem Punkt $x \\in M$ spannen einen Vektorraum auf, den Tangentialraum $T_{x} M$. Siehe auch [Tangentialbündel](https://de.wikipedia.org/wiki/Tangentialbündel)."
      ]
    },
    {
      "cell_type": "markdown",
      "metadata": {
        "id": "Zpv1Yq_Q-ZUg"
      },
      "source": [
        "**Tangent Space (Tangentialraum)**"
      ]
    },
    {
      "cell_type": "markdown",
      "metadata": {
        "id": "A7hh5sOy-P24"
      },
      "source": [
        "* Ein [Tangentialraum](https://de.wikipedia.org/wiki/Tangentialraum) ist $T_{x} M$ ein Vektorraum, der eine differenzierbare Mannigfaltigkeit $M$ am Punkt $x$ linear approximiert. \n",
        "\n"
      ]
    },
    {
      "cell_type": "markdown",
      "metadata": {
        "id": "K2ru85Mxr0tL"
      },
      "source": [
        "**Normal (Vector) Space**"
      ]
    },
    {
      "cell_type": "markdown",
      "metadata": {
        "id": "qtmsBHksr3fP"
      },
      "source": [
        "* The normal vector space or normal space of a manifold at point P is the **set of vectors which are orthogonal to the tangent space at P**. \n",
        "\n",
        "* Normal vectors are of special interest in the case of smooth curves and smooth surfaces."
      ]
    },
    {
      "cell_type": "markdown",
      "metadata": {
        "id": "DSZASnOkiGPv"
      },
      "source": [
        "*Die [Hauptkrümmungen](https://de.wikipedia.org/wiki/Hauptkr%C3%BCmmung) sind [Eigenwerte](https://de.wikipedia.org/wiki/Eigenwertproblem) der [Weingartenabbildung](https://de.wikipedia.org/wiki/Weingartenabbildung)*\n",
        "\n",
        "![ggg](https://upload.wikimedia.org/wikipedia/commons/e/eb/Minimal_surface_curvature_planes-en.svg)"
      ]
    },
    {
      "cell_type": "markdown",
      "metadata": {
        "id": "jsTbBraH_yr5"
      },
      "source": [
        "**Kotangentialraum**"
      ]
    },
    {
      "cell_type": "markdown",
      "metadata": {
        "id": "qv2jwEgm_xuC"
      },
      "source": [
        "* Der [Kotangentialraum](https://de.wikipedia.org/wiki/Kotangentialraum) ist der Dualraum des entsprechenden Tangentialraums. \n",
        "\n",
        "* Er ist ein Vektorraum, der einem Punkt einer differenzierbaren Mannigfaltigkeit $M$ zugeordnet wird.\n",
        "\n",
        "* Sei $M$ eine differenzierbare Mannigfaltigkeit und $T_{p} M$ ihr Tangentialraum am Punkt $p \\in M$. Dann ist der Kotangentialraum definiert als der Dualraum von $T_{p} M$. \n",
        "\n",
        "* **Das heißt, der Kotangentialraum besteht aus allen Linearformen auf dem Tangentialraum $T_{p} M$**."
      ]
    },
    {
      "cell_type": "markdown",
      "metadata": {
        "id": "WbvuY51s3dBD"
      },
      "source": [
        "In differential geometry, **one can attach to every point $x$ of a smooth (or differentiable) manifold, $\\mathcal{M},$ a vector space called the cotangent space at $x .$** Typically, the cotangent space, $T_{x}^{*} \\mathcal{M}$ is defined as the dual space of the tangent space at $x, T_{x} \\mathcal{M},$ although there are more direct definitions. The elements of the cotangent space are **called cotangent vectors or tangent covectors**.\n",
        "\n",
        "Let $\\mathcal{M}$ be a smooth manifold and let $x$ be a point in $\\mathcal{M}$. Let $T_{x} \\mathcal{M}$ be\n",
        "the tangent space at $x$. Then the cotangent space at $x$ is defined as the dual space of $T_{x} \\mathcal{M}$ :\n",
        "\n",
        "$\n",
        "T_{x}^{*} \\mathcal{M}=\\left(T_{x} \\mathcal{M}\\right)^{*}\n",
        "$\n",
        "\n",
        "Concretely, **elements of the cotangent space are linear functionals on $T_{x} \\mathcal{M}$**. That is, **every element $\\alpha \\in T_{x}^{*} \\mathcal{M}$ is a linear map**\n",
        "\n",
        "$\n",
        "\\alpha: T_{x} \\mathcal{M} \\rightarrow F\n",
        "$\n",
        "\n",
        "where $F$ is the underlying field of the vector space being considered, for example, the field of real numbers. \n",
        "\n",
        "**The elements of $T_{x}^{*} \\mathcal{M}$ are called cotangent vectors.**"
      ]
    },
    {
      "cell_type": "markdown",
      "metadata": {
        "id": "g97eVLPZebnS"
      },
      "source": [
        "**Bilinearform**: cross product of normal and tangent: https://en.m.wikipedia.org/wiki/Frenet–Serret_formulas"
      ]
    },
    {
      "cell_type": "markdown",
      "metadata": {
        "id": "71BYhuzC572k"
      },
      "source": [
        "##### **Kombination von Basisvektoren mit Koordinaten zur Darstellung von Vektoren**"
      ]
    },
    {
      "cell_type": "markdown",
      "metadata": {
        "id": "MEs-I1SiCPbA"
      },
      "source": [
        "Thema: Kombination von Basisvektoren mit Koordinaten zur **Darstellung** von Vektoren, noch nicht zur **Transformation** (next chapter)"
      ]
    },
    {
      "cell_type": "markdown",
      "metadata": {
        "id": "qyznJc8nwdEu"
      },
      "source": [
        "* An jedem Punkt der betrachteten Mannigfaltigkeit existieren gleichzeitig beide Basen.\n",
        "\n",
        "* **Somit kann ein beliebiger Vektor als Linearkombination entweder der kovarianten Basisvektoren <u>oder</u> der kontravarianten Basisvektoren dargestellt werden**. \n",
        "\n",
        "> **Dabei werden stets kontravariante Koordinaten $a_{u_{i}}$ mit kovarianten Basisvektoren $\\vec{b}_{u}$ kombiniert und kovariante Koordinaten $a_{u_{i}}^{*}$ mit kontravarianten Basisvektoren $\\vec{b}_{u_{i}}^{*}$.**\n",
        "\n",
        "> $\n",
        "\\vec{a}=\\sum_{i=1}^{n} a_{u_{i}} \\vec{b}_{u_{i}}=\\sum_{i=1}^{n} a_{u_{i}}^{*} \\vec{b}_{u_{i}}^{*}\n",
        "$\n",
        "\n",
        "* Wahrscheinlich das hier (?): Also zB fur Vektor im Originalvektorraum mit den Koordinaten von der Basis: a = 1,3 e<sub>1</sub> + 1,2 e<sub>2</sub> (kovariante Basis), dann sind 1,3 = e<sup>1</sup> und 1,2 = e<sup>2</sup> (kontravariante Vektorkomponenten / Koordinaten)\n",
        "\n",
        "* <u>Diese kreuzweise Paarung (kontra-ko bzw. ko-kontra) sorgt dafür, dass der Vektor $\\vec{a}$ unter Koordinatentransformation invariant ist, da die Transformationen von Koordinaten\n",
        "und Basisvektoren invers zueinander sind und sich gegenseitig aufheben.</u>\n",
        "\n",
        "* Diese Eigenschaft ist für den Begriff eines Vektors in der Physik essentiell: In der Physik müssen Gesetzmäßigkeiten unabhängig vom speziellen Koordinatensystem gelten. Aus physikalischer Sicht muss ein Vektor, der z. B. die Geschwindigkeit eines Teilchens beschreibt, unabhängig vom gewählten Koordinatensystem sein.\n",
        "\n",
        "> **Man spricht von einem kontravarianten Vektor (besser: kontravarianter Koordinatenvektor), wenn die Koordinaten kontravariant und die Basisvektoren\n",
        "kovariant sind.**\n",
        "\n",
        "> **Analog spricht man von einem kovarianten Vektor (auch Kovektor), wenn die Koordinaten kovariant und die Basisvektoren kontravariant sind. (Kovektoren als Linearformen von Normalenvektoren)**"
      ]
    },
    {
      "cell_type": "markdown",
      "metadata": {
        "id": "j1DyadwjGbxH"
      },
      "source": [
        "**Linearform & Bilinearform**"
      ]
    },
    {
      "cell_type": "markdown",
      "metadata": {
        "id": "X3QmuPGbFcDF"
      },
      "source": [
        "* Eine [Linearform](https://de.wikipedia.org/wiki/Linearform) $f$ ist ein **kovarianter Tensor erster Stufe**; man nennt sie deshalb manchmal auch 1-Form.\n",
        "\n",
        "* 1-Formen bilden die Grundlage für die Einführung von Differentialformen.\n",
        "\n",
        "* Zu einem Vektorraum $V$ über einem Körper $K$ bezeichnet $V^{*}$ den zu $V$ gehörigen [Dualraum](https://de.wikipedia.org/wiki/Dualraum), das heißt die Menge aller linearen Abbildungen von $V$ nach $K$. \n",
        "\n",
        "  * Seine Elemente werden je nach Kontext auch Funktionale,\n",
        "Linearformen oder auch 1 -Formen genannt. \n",
        "\n",
        "* Insbesondere in der Physik\n",
        "verwendet man gerne die Sprache der Tensoralgebra; \n",
        "\n",
        "  * dann heißen die\n",
        "Elemente von $V$ **kontravariante Vektoren** (=Koordinaten kontravariant und die Basisvektoren kovariant??), \n",
        "\n",
        "  * die von $V^{*}$ **kovariante Vektoren oder auch Kovektoren** (=Koordinaten kovariant und die Basisvektoren kontravariant??). \n",
        "  \n",
        "* Die Abbildung $V \\times V^{*} \\rightarrow K,(x, f) \\mapsto\\langle x, f\\rangle:=f(x)$ ist eine nicht ausgeartete Bilinearform und heißt duale Paarung."
      ]
    },
    {
      "cell_type": "markdown",
      "metadata": {
        "id": "bDm5IZEElHBs"
      },
      "source": [
        "- Kovektoren als Linearformen von [Normalenvektoren](https://de.wikipedia.org/wiki/Normalenvektor) (das Ergebnis ist eine Zahl), ist sowas wie ein Zeilenvektor\n",
        "- Zeilenvektor (Kovektor, Linearform) c * Spaltenvektor (Normalenvektor) a = eine Zahl, zB 2\n",
        "- Linearform: c(phi * a) = phi*c(a) und c (a+b) = c(a) + c(b)\n",
        "- Vektorraume haben Eigenschaft, dass man nur einige wenige Vektoren braucht, um alle anderen zu bilden (das Minimum ist das eine “Basis”).\n",
        "- Aus Basis fur den Vektorraum V {e<sub>1</sub>, e<sub>2</sub>} kann man nun überlegen, wie man daraus eine Basis fur den Dualraum V* bekommt {e<sup>1</sup>, e<sup>2</sup>}\n",
        "- Die Dualbasis soll jetzt einen Originalvektor aus V nehmen und eine reelle Zahl als Ergebnis liefern\n",
        "- Also zB fur Vektor im Originalvektorraum mit den Koordinaten von der Basis: a = 1,3 e<sub>1</sub> + 1,2 e<sub>2</sub> , dann sind 1,3 = e<sup>1</sup> und 1,2 = e<sup>2</sup>"
      ]
    },
    {
      "cell_type": "markdown",
      "metadata": {
        "id": "1PdTY5I2lyWs"
      },
      "source": [
        "https://av.tib.eu/media/19916"
      ]
    },
    {
      "cell_type": "markdown",
      "metadata": {
        "id": "D3ncOAgfrrAn"
      },
      "source": [
        "https://de.wikipedia.org/wiki/Tensor#Basiswechsel_und_Koordinatentransformation"
      ]
    },
    {
      "cell_type": "markdown",
      "metadata": {
        "id": "vcQIRAIsotsX"
      },
      "source": [
        "##### **Tensoren & Tensornotation**"
      ]
    },
    {
      "cell_type": "markdown",
      "metadata": {
        "id": "aC9G8sF95z8P"
      },
      "source": [
        "https://de.wikipedia.org/wiki/Pseudovektor#Zusammenhang_mit_Tensoren"
      ]
    },
    {
      "cell_type": "markdown",
      "metadata": {
        "id": "O_IlXCIao4mV"
      },
      "source": [
        "* Tensoren sind Grössen, mit deren Hilfe man **Skalare, Vektoren und weitere Grössen analoger Struktur in ein einheitliches Schema** zur Beschreibung mathematischer und physikalischer Zusammenhänge einordnen kann. \n",
        "\n",
        "* Sie sind **definiert durch ihre Transformationseigenschaften gegenüber orthogonalen Transformationen wie z.B. Drehungen**. Es geht darum, was ändert sich, was ändert sich nicht, wenn man das Bezugssystem ändert?\n",
        "\n",
        "* Die Besonderheit von Tensorgleichungen ist, dass sie **transformations-invariant** sind. Wenn es gelingt, einen physikalischen Sachverhalt in Tensorschreibweise zu formulieren, so kann man wegen der speziellen Art, wie Tensoren transformieren, sicher sein, **dass die Gleichungen in jedem beliebigen Koordinatensystem gelten**."
      ]
    },
    {
      "cell_type": "markdown",
      "metadata": {
        "id": "eZVNl5kQpUbh"
      },
      "source": [
        "**Rang oder Stufe eines Tensors und Indizes**"
      ]
    },
    {
      "cell_type": "markdown",
      "metadata": {
        "id": "YiRlRg10pVFH"
      },
      "source": [
        "* Tensoren haben **Indizes**. Die Anzahl der Indizes gibt den Rang oder die Stufe des Tensors an.\n",
        "\n",
        "* Die Indizes laufen entsprechend der **Dimension** $D$ des Raumes über $1 . . D$. Bei der 4-dimensionalen Raumzeit beginnt die Nummerierung bei $0,$ wobei der Index 0 die zeitliche Komponente betrifft.\n",
        "\n",
        "* Beim Arbeiten mit den Tensoren muss die **Reihenfolge der Indices** immer klar sein.\n",
        "Das Element $t_{12}$ eines Tensors ist in der Regel vom Element $t_{21}$ verschieden.\n",
        "\n",
        "* Der einfachste Tensor ist ein Tensor mit Rang 0 . Dabei handelt es sich einfach um\n",
        "einen **Skalar**. Ein Skalar hat eigentlich keine Komponenten, sondern ist nur ein\n",
        "einzelner Wert und benötigt somit keinen Index; daher der Rang $0 .$\n",
        "\n",
        "* Ein Tensor mit nur einem Index nennt man auch **Vektor**. Man sagt, der Vektor ist ein Tensor mit dem Rang 1. Der Index hat so viele Werte, wie die Dimension des Vektors. Bei einem 3 -dimensionalen Vektor hat der Index also 3 Werte (z.B: 1,2,3$),$ weil der Vektor 3 Komponenten hat: $\\vec{V}=\\left(V^{1}, V^{2}, V^{3}\\right)$.\n",
        "\n",
        "* Ein Tensor vom Rang 2 hat 2 Indizes und stellt eine quadratische **Matrix** dar usw.\n",
        "\n",
        "* Jede Tensor-Komponente kann eine Funktion oder eine Zahl sein. In der AR (allgemeinen Relativitatstheorie) sind die Komponenten in der Regel Funktionen der Raumzeit."
      ]
    },
    {
      "cell_type": "markdown",
      "metadata": {
        "id": "kOJSsnvbqEhc"
      },
      "source": [
        "**Dimension eines Tensors**"
      ]
    },
    {
      "cell_type": "markdown",
      "metadata": {
        "id": "DCOvwL-xqGjo"
      },
      "source": [
        "* Ein Vektor oder Tensor ist ein Objekt, welches Komponenten hat. Die Anzahl der Komponenten eines Vektors enstpricht der Dimension D des Raumes. \n",
        "\n",
        "* Ein 3-dimensionaler Vektor besteht somit aus 3 Komponenten. Ein 3-dimensionaler Tensor der Stufe 2 besteht aus 3x3 Komponenten usw."
      ]
    },
    {
      "cell_type": "markdown",
      "metadata": {
        "id": "jHKyjdOBqoHf"
      },
      "source": [
        "**Tensoren und Koordinatensysteme**"
      ]
    },
    {
      "cell_type": "markdown",
      "metadata": {
        "id": "wRg44ZhRquA1"
      },
      "source": [
        "* In der Anwendung steht das Tensorsymbol immer für eine bestimmte Bedeutung. Zum Beispiel den Ort eines Teilchens. Der Ort kann in verschiedenen Koordinatensystemen gemessen werden. Entsprechend haben die Komponenten des Tensors in jedem Koordinatensystem andere Werte. Doch der Tensor bleibt der Selbe, egal in welchem Koordinatensystem er gemessen wird. \n",
        "\n",
        "* So ist z.B. die Länge eines Vektors in jedem Koordinatensystem dieselbe, auch wenn sich die Komponenten in den verschiedenen Koordinatensystemen unterscheiden.\n",
        "\n",
        "* Man unterscheidet bei Tensoren zwei Arten von Komponenten:\n",
        "\n",
        "  * **Kontravariante** Komponenten Index oben z.B. $v^{i}$\n",
        "  \n",
        "  * **Kovariante** Komponenten Index unten Z.B. $v_{i}$\n",
        "\n",
        "* Bei **Tensoren ab Rang 2** können kontravariante und kovariante Komponenten gleichzeitig vorkommen. Ein solcher Tensor hat dann Indizes sowohl oben als auch unten: $T^{m}{ }_{n} .$\n",
        "\n",
        "* Jeder Tensor kann sowohl in kontravarianten, als auch in kovarianten Komponenten\n",
        "dargestellt werden. Der Wechsel von einem Tensor in kontravarianter Darstellung zu einem Tensor in kovarianter Darstellung, wird [**\"Index ziehen\" oder Index Manipulation**](http://walter.bislins.ch/physik/index.asp?page=Index%2DManipulation+per+Metrik%2DTensor) genannt. Die Umrechnung geht durch Multiplikation mit dem sog. **Metrischen Tensor**.\n",
        "\n",
        "* Ob die Indizes oben oder unten sind, es handelt sich jeweils um ein und denselben\n",
        "Tensor mit derselben physikalischen Bedeutung. Lediglich die Werte der\n",
        "Komponenten unterscheiden sich, weil sie sich auf verschiedene Koordinatensysteme beziehen.\n"
      ]
    },
    {
      "cell_type": "markdown",
      "metadata": {
        "id": "Z1ypHeW4tmwC"
      },
      "source": [
        "**Typ eines Tensors**"
      ]
    },
    {
      "cell_type": "markdown",
      "metadata": {
        "id": "SdgcorxvtqZ2"
      },
      "source": [
        "* Wenn Rang, Dimension und Komponenten-Arten (Anzahl Indizes oben und unten) von Tensoren übereinstimmen, dann sagt man, die Tensoren sind vom selben Typ. Dies muss bei der Tensor-Arithmetik beachtet werden."
      ]
    },
    {
      "cell_type": "markdown",
      "metadata": {
        "id": "bMxWkbFFtBrh"
      },
      "source": [
        "**Index ziehen bzw. Index Manipulation**"
      ]
    },
    {
      "cell_type": "markdown",
      "metadata": {
        "id": "yDayLcTItDmB"
      },
      "source": [
        "http://walter.bislins.ch/physik/index.asp?page=Index%2DManipulation+per+Metrik%2DTensor"
      ]
    },
    {
      "cell_type": "markdown",
      "metadata": {
        "id": "0U54gadHtL1H"
      },
      "source": [
        "**Metrik-Tensor**"
      ]
    },
    {
      "cell_type": "markdown",
      "metadata": {
        "id": "cGw1mdYG35cE"
      },
      "source": [
        "* In differential geometry, one definition of a [metric tensor](https://en.wikipedia.org/wiki/Metric_tensor) is a type of function which takes as input a pair of tangent vectors v and w at a point of a surface (or higher dimensional differentiable manifold) and produces a real number scalar g(v, w) in a way that generalizes many of the familiar properties of the dot product of vectors in Euclidean space.\n",
        "\n",
        "* In the same way as a dot product, **metric tensors are used to define the length of and angle between tangent vectors**. \n",
        "\n",
        "* Through integration, the metric tensor allows one to define and **compute the length of curves on the manifold**."
      ]
    },
    {
      "cell_type": "markdown",
      "metadata": {
        "id": "Ryn2IBtxtNqh"
      },
      "source": [
        "http://walter.bislins.ch/physik/index.asp?page=Metrik%2DTensor"
      ]
    },
    {
      "cell_type": "markdown",
      "metadata": {
        "id": "KgqSu2ShtwLq"
      },
      "source": [
        "**Tensor-Arithmetik**"
      ]
    },
    {
      "cell_type": "markdown",
      "metadata": {
        "id": "1hI5CC3pt2_b"
      },
      "source": [
        "Weil Skalare und Vektoren Subklassen von Tensoren sind ist zu erwarten, dass Tensoren denselben bekannten Rechenregeln für Addition, Subtraktion, Multiplikation und Division folgen. Dies stimmt meistens, jedoch mit einigen Änderungen und Einschränkungen. Tensoren zeigen zudem neue Eigenschaften, die es bei Skalaren und Vektoren nicht gibt.\n"
      ]
    },
    {
      "cell_type": "markdown",
      "metadata": {
        "id": "znmkqskmtyLU"
      },
      "source": [
        "http://walter.bislins.ch/physik/index.asp?page=Tensor%2DArithmetik"
      ]
    },
    {
      "cell_type": "markdown",
      "metadata": {
        "id": "5aY3WiYn1ds1"
      },
      "source": [
        "**Tensornotation**"
      ]
    },
    {
      "cell_type": "markdown",
      "metadata": {
        "id": "u2WzA8O72DE-"
      },
      "source": [
        "Transformation von einer Basis zur naechsten, dann ist das ein Tensor"
      ]
    },
    {
      "cell_type": "markdown",
      "metadata": {
        "id": "59aiPSQT2Tq3"
      },
      "source": [
        "![iiu](https://raw.githubusercontent.com/deltorobarba/repo/master/tensor_06.png)"
      ]
    },
    {
      "cell_type": "markdown",
      "metadata": {
        "id": "mgBA5uB7ltdE"
      },
      "source": [
        "http://walter.bislins.ch/physik/index.asp?page=Kovariante+und+Kontravariante+Komponenten"
      ]
    },
    {
      "cell_type": "markdown",
      "metadata": {
        "id": "N4rOmgVllvLf"
      },
      "source": [
        "http://walter.bislins.ch/physik/index.asp?page=Kovarianz+und+Kontravarianz+von+Vektoren"
      ]
    },
    {
      "cell_type": "markdown",
      "metadata": {
        "id": "yzAM7aBOc9aA"
      },
      "source": [
        "*Tensor Notation*"
      ]
    },
    {
      "cell_type": "markdown",
      "metadata": {
        "id": "DKmyA1GY3ZIG"
      },
      "source": [
        "* Kovarianz und Kontravarianz beschreiben wie die Werte bzw. Komponenten von geometrischen oder physikalischen Dingen mit der Wahl einer Basis ändern. In der Physik denkt man sich die Basis als eine Gruppe von Referenz-Achsen. Ändert man die Skalierung der Achsen, ändern sich die Einheiten der Dinge.\n",
        "\n",
        "* Damit ein Vektor, wie zum Beispiel ein Richtungsvektor oder ein Geschwindigkeitsvektor, basis-unabhängig ist, müssen die Komponenten zur Änderung der Basis contra-vary (gegen-variieren), um diese Änderung zu kompensieren. "
      ]
    },
    {
      "cell_type": "markdown",
      "metadata": {
        "id": "zpMm7chy3V7x"
      },
      "source": [
        "http://walter.bislins.ch/physik/index.asp?page=Kovarianz+und+Kontravarianz+von+Vektoren"
      ]
    },
    {
      "cell_type": "markdown",
      "metadata": {
        "id": "37JaCthupMDw"
      },
      "source": [
        "*Ko- und kontravariante Darstellung*"
      ]
    },
    {
      "cell_type": "markdown",
      "metadata": {
        "id": "v950hT6GpPGJ"
      },
      "source": [
        "https://www.math.tugraz.at/~ganster/lv_vektoranalysis_ss_10/20_ko-_und_kontravariante_darstellung.pdf"
      ]
    },
    {
      "cell_type": "markdown",
      "metadata": {
        "id": "G8aEOKhHdskP"
      },
      "source": [
        "> In multilinear algebra and tensor analysis, [covariance and contravariance](https://en.wikipedia.org/wiki/Covariance_and_contravariance_of_vectors) describe how the quantitative description of certain geometric or physical entities changes with a [change of basis](https://en.wikipedia.org/wiki/Change_of_basis).\n",
        "\n",
        "* [Tensor notation](https://en.wikipedia.org/wiki/Tensor_calculus#Syntax) makes use of upper and lower indexes on objects that are used to label a variable object as \n",
        "\n",
        "  * **covariant** - lower index: $x_{1}$\n",
        "  \n",
        "  * **contravariant** - upper index: $c^{1}$\n",
        "  \n",
        "  * [**mixed**](https://en.wikipedia.org/wiki/Mixed_tensor) covariant and contravariant (having both upper and lower indexes). \n",
        "\n",
        "* In conventional math syntax we make **use of covariant indexes when dealing with Cartesian coordinate systems** $(x_{1},x_{2},x_{3})$ frequently without realizing this is a limited use of tensor syntax as covariant indexed components.\n",
        "\n",
        "* Tensor notation allows upper index on an object that may be confused with normal power operations from conventional math syntax. In tensor syntax a parenthesis should be used around an object before raising it to a power to disambiguate the use of a tensor index versus a normal power operation. For example:\n",
        "\n",
        "  * In normal math syntax: $e=m c^{2}=m c c,$ \n",
        "  * In tensor syntax: $e=m\\left(c^{1}\\right)^{2}=m\\left(c^{1}\\right)\\left(c^{1}\\right)$ and $e=m\\left(c^{2}\\right)^{2}=m\\left(c^{2}\\right)\\left(c^{2}\\right)$. \n",
        "  * The number in the inner parenthesis distinguishes the contravariant component where the outer parenthesis number distinguishes the power to raise the quantities to.\n",
        "\n",
        "* On a manifold, a tensor field will typically have multiple, upper and lower indices, where Einstein notation is widely used.\n",
        "\n",
        "* The distinction between covariance and contravariance is particularly important for computations with tensors, **which often have mixed variance**, which means that they have both covariant and contravariant components, or both vector and covector components.\n",
        "\n",
        "* The explanation in geometric terms is that a general tensor will have contravariant indices as well as covariant indices, because it has parts that live in the [tangent bundle](https://en.wikipedia.org/wiki/Tangent_bundle) as well as the [cotangent bundle](https://en.wikipedia.org/wiki/Cotangent_bundle).\n",
        "\n",
        "* **The reason of having covariant or contravariant tensors is because you want to represent the same thing in a different coordinate system. Such a new representation is achieved by a transformation using a set of partial derivatives. In tensor analysis, a good transformation is one that leaves invariant the quantity you are interested in.**\n",
        "\n",
        "* **In category theory**, covariance and contravariance are properties of functors; unfortunately, it is the lower-index objects (covectors) that generically have pullbacks, which are contravariant, while the upper-index objects (vectors) instead have pushforwards, which are covariant. This terminological conflict may be avoided by calling contravariant functors \"cofunctors\"—in accord with the \"covector\" terminology, and continuing the tradition of treating vectors as the concept and covectors as the coconcept.\n",
        "\n",
        "* [Curvilinear coordinate systems](https://en.wikipedia.org/wiki/Curvilinear_coordinates), such as **cylindrical or spherical coordinates**, are often used in physical and geometric problems. Associated with any coordinate system is a natural choice of coordinate basis for vectors based at each point of the space, and **covariance and contravariance are particularly important for understanding how the coordinate description of a vector changes by passing from one coordinate system to another**."
      ]
    },
    {
      "cell_type": "markdown",
      "metadata": {
        "id": "5O0Iihfu4Av9"
      },
      "source": [
        "**Invariance**"
      ]
    },
    {
      "cell_type": "markdown",
      "metadata": {
        "id": "t9aO7p2S4Byo"
      },
      "source": [
        "* A third concept related to covariance and contravariance is invariance. An example of a physical observable that does not change with a change of scale on the reference axes is the mass of a particle, which has units of mass (that is, no units of distance). \n",
        "  \n",
        "* The single, scalar value of mass is independent of changes to the scale of the reference axes and consequently is called invariant."
      ]
    },
    {
      "cell_type": "markdown",
      "metadata": {
        "id": "t6D_WkqjMzWr"
      },
      "source": [
        "**Mathematische Darstellung**"
      ]
    },
    {
      "cell_type": "markdown",
      "metadata": {
        "id": "3mo7ydW9Msu8"
      },
      "source": [
        "In einem engeren Wortsinn bezeichnet kovariant in der mathematischen Physik Größen, **die wie Differentialformen transformieren**. Diese kovarianten Größen $P$ bilden einen Vektorraum\n",
        "$\\mathcal{V}$, auf dem eine Gruppe von linearen Transformationen wirkt.\n",
        "\n",
        "Die Menge der linearen Abbildungen der kovarianten Größen in die reellen Zahlen\n",
        "\n",
        "$\n",
        "Q: P \\mapsto Q(P) \\in \\mathbb{R}, \\quad Q(a P+b \\tilde{P})=a Q(P)+b Q(\\tilde{P})\n",
        "$\n",
        "\n",
        "bildet den zu $\\mathcal{V}$ dualen Vektorraum $\\mathcal{V}^{*}$. Schreiben wir die transformierten, kovarianten Größen $P^{\\prime}$ mit einer Matrix $\\Lambda$ als\n",
        "\n",
        "$\n",
        "P^{\\prime}=\\Lambda P\n",
        "$\n",
        "\n",
        "dann definiert $Q^{\\prime}\\left(P^{\\prime}\\right)=Q(P)$ das kontravariante oder kontragrediente Transformationsgesetz des Dualraumes\n",
        "\n",
        "$\n",
        "Q^{\\prime}=\\Lambda^{-1 \\mathrm{~T}} Q\n",
        "$\n",
        "\n",
        "Wegen\n",
        "\n",
        "$\n",
        "\\left(\\Lambda_{2}\\right)^{-1 \\mathrm{~T}}\\left(\\Lambda_{1}\\right)^{-1 \\mathrm{~T}}=\\left(\\Lambda_{2} \\Lambda_{1}\\right)^{-1 \\mathrm{~T}}\n",
        "$\n",
        "\n",
        "genügt die kontravariante Transformation derselben Gruppenverknüpfung wie die kovariante Transformation.\n",
        "\n",
        "Tensoren aus dem $u$ -fachen Tensorprodukt von $\\mathcal{V}^{*}$ mit dem $o$ -fachen Tensorprodukt von $\\mathcal{V}$ heißen $u$ -fach kovariant und $o$ -fach kontravariant.\n",
        "In Indexschreibweise macht man an der Indexstellung mit unten und oben stehenden Indizes deutlich, ob es sich um die Komponenten eines kovarianten oder eines kontravarianten Vektors handelt,\n",
        "\n",
        "$\n",
        "P_{m}^{\\prime}=\\sum_{n} \\Lambda_{m}{ }^{n} P_{n}, \\quad Q^{\\prime m}=\\sum_{r}\\left(\\Lambda^{-1 \\mathrm{~T}}\\right)^{m}{ }_{r} Q^{r}\n",
        "$\n",
        "\n",
        "Dass $Q^{\\prime}\\left(P^{\\prime}\\right)=Q(P)$ gilt, zeigen die Rechenschritte\n",
        "\n",
        "$\n",
        "\\begin{aligned}\n",
        "Q^{\\prime}\\left(P^{\\prime}\\right) &=\\sum_{m} Q^{\\prime m} P_{m}^{\\prime} \\\\\n",
        "&=\\sum_{m n r}\\left(\\Lambda^{-1 \\mathrm{~T}}\\right)_{r}^{m} Q^{r} \\Lambda_{m}{ }^{n} P_{n} \\\\\n",
        "&=\\sum_{m n r} \\Lambda^{-1}{ }_{r}^{m} \\Lambda_{m}{ }^{n} Q^{r} P_{n} \\\\\n",
        "&=\\sum_{n r} \\delta_{r}{ }^{n} Q^{r} P_{n} \\\\\n",
        "&=\\sum_{n} Q^{n} P_{n} \\\\\n",
        "&=Q(P) .\n",
        "\\end{aligned}\n",
        "$"
      ]
    },
    {
      "cell_type": "markdown",
      "metadata": {
        "id": "BOpRBfFvMuPK"
      },
      "source": [
        "https://de.wikipedia.org/wiki/Kovarianz_(Physik)"
      ]
    },
    {
      "cell_type": "markdown",
      "metadata": {
        "id": "olTtobw59dlK"
      },
      "source": [
        "**Einstein notation / summation**"
      ]
    },
    {
      "cell_type": "markdown",
      "metadata": {
        "id": "Y9vCpddh9tU5"
      },
      "source": [
        "* According to the [Einstein notation](https://en.wikipedia.org/wiki/Einstein_notation), when an index variable appears twice in a single term and is not otherwise defined (see free and bound variables), it implies summation of that term over all the values of the index. So where the indices can range over the set \\{1,2,3\\} ,\n",
        "\n",
        "> $\n",
        "y=\\sum_{i=1}^{3} c_{i} x^{i}=c_{1} x^{1}+c_{2} x^{2}+c_{3} x^{3}\n",
        "$\n",
        "\n",
        "is simplified by the convention to:\n",
        "\n",
        ">$\n",
        "y=c_{i} x^{i}\n",
        "$\n",
        "\n",
        "* The upper indices are not exponents but are indices of coordinates, coefficients or basis vectors. \n",
        "\n",
        "In [general relativity](https://en.wikipedia.org/wiki/General_relativity), a common convention is that\n",
        "\n",
        "* the Greek alphabet is used for space and time components, where indices take on values 0,1,2 ,\n",
        "or 3 (frequently used letters are $\\mu, v, \\ldots),$ \n",
        "\n",
        "* the Latin alphabet is used for spatial components only, where indices take on values $1,2,$ or 3 (frequently used letters are $i, j, \\ldots)$"
      ]
    },
    {
      "cell_type": "markdown",
      "metadata": {
        "id": "ddHwTCF6Arbs"
      },
      "source": [
        "**Tensor contraction**"
      ]
    },
    {
      "cell_type": "markdown",
      "metadata": {
        "id": "M9WA6hpJA3d8"
      },
      "source": [
        "* In multilinear algebra, a [tensor contraction](https://en.wikipedia.org/wiki/Tensor_contraction) is an operation on a tensor that arises from the natural pairing of a finite-dimensional vector space and its dual. \n",
        "\n",
        "* In components, it is expressed as a sum of products of scalar components of the tensor(s) caused by applying the summation convention to a pair of dummy indices that are bound to each other in an expression. \n",
        "\n",
        "* The contraction of a single mixed tensor occurs when a pair of literal indices (one a subscript, the other a superscript) of the tensor are set equal to each other and summed over. In the Einstein notation this summation is built into the notation. **The result is another tensor with order reduced by 2.**\n",
        "\n",
        "* Es ist eine Verallgemeinerung der Spur einer linearen Abbildung auf Tensoren, die mindestens einfach kovariant und einfach kontravariant sind.\n"
      ]
    },
    {
      "cell_type": "markdown",
      "metadata": {
        "id": "7sXtSb9SMyHz"
      },
      "source": [
        "**Higher rank generalizations**"
      ]
    },
    {
      "cell_type": "markdown",
      "metadata": {
        "id": "oi2yBC_VNPHF"
      },
      "source": [
        "Accordingly, a reasonable generalization is having a quantity which transforms like the **product of the components of two contravariant tensors**, that is\n",
        "\n",
        "> $A^{i k}=\\frac{\\partial x^{i}}{\\partial x^{\\prime} l} \\frac{\\partial x^{k}}{\\partial x^{\\prime m}} A^{\\prime l m}$\n",
        "\n",
        "which is called a **contravariant tensor of rank two**. The same applies to **covariant tensors of rank n or mixed tensor of rank n**.\n",
        "\n",
        "Having in mind the analogy to coordinate differentials and derivative of a scalar, take a look at this picture, which I think will help to make it clearer:\n",
        "\n",
        "![ddd](https://raw.githubusercontent.com/deltorobarba/repo/master/covariant.gif)\n",
        "\n",
        "> The contravariant components of a vector are obtained by projecting onto the coordinate axes.\n",
        "\n",
        "> The covariant components are obtained by projecting onto the normal lines to the coordinate hyperplanes."
      ]
    },
    {
      "cell_type": "markdown",
      "metadata": {
        "id": "32JGoyi1b3vG"
      },
      "source": [
        "**Mixed Tensor**"
      ]
    },
    {
      "cell_type": "markdown",
      "metadata": {
        "id": "FWTYw1Uqb6CX"
      },
      "source": [
        "* In tensor analysis, a [mixed tensor](https://en.wikipedia.org/wiki/Mixed_tensor) is a tensor which is neither strictly covariant nor strictly contravariant; at least one of the indices of a mixed tensor will be a subscript (covariant) and at least one of the indices will be a superscript (contravariant).\n",
        "\n",
        "* A mixed tensor of type or valence $\\left(\\begin{array}{l}M \\\\ N\\end{array}\\right),$ also written \"type $(M, N)$\", with both $M>0$ and $N>0,$ is a tensor which has $M$ contravariant indices and $N$ covariant indices. \n",
        "\n",
        "* Such a tensor can be defined as a linear function which maps an $(M+N)$ -tuple of $M$ one-forms and $N$ vectors to a scalar.\n"
      ]
    },
    {
      "cell_type": "markdown",
      "metadata": {
        "id": "IbSOinzDc_Gy"
      },
      "source": [
        "Consider the following octet of related tensors:\n",
        "\n",
        "> $\n",
        "T_{\\alpha \\beta \\gamma}, T_{\\alpha \\beta}^{\\gamma}, T_{\\alpha}{ }^{\\beta}{ }_{\\gamma}, T_{\\alpha}{ }^{\\beta \\gamma}, T_{\\beta \\gamma}^{\\alpha}, T^{\\alpha}{ }_{\\beta}^{\\gamma}, T^{\\alpha \\beta}{ }_{\\gamma}, T^{\\alpha \\beta \\gamma}\n",
        "$\n",
        "\n",
        "\n",
        "* The first one is covariant, the last one contravariant, and the remaining ones mixed.\n",
        "\n",
        "* Notationally, these tensors differ from each other by the covariance/contravariance of their indices. \n",
        "\n",
        "* A given **contravariant index of a tensor can be lowered using the [metric tensor](https://en.wikipedia.org/wiki/Metric_tensor)** $g_{\\mu v}$ and a given covariant index can be raised using the inverse metric tensor $g^{\\mu v}$. \n",
        "\n",
        "* Thus, $g_{\\mu v}$ could be called the index lowering operator and $g^{\\mu v}$ the index raising operator."
      ]
    },
    {
      "cell_type": "markdown",
      "metadata": {
        "id": "EPZb-aen-Los"
      },
      "source": [
        "#### **Transformationen**"
      ]
    },
    {
      "cell_type": "markdown",
      "metadata": {
        "id": "TJWHwObPnF4h"
      },
      "source": [
        "##### **Koordinatentransformation auf neue Basisvektoren**"
      ]
    },
    {
      "cell_type": "markdown",
      "metadata": {
        "id": "LN053jP7po2U"
      },
      "source": [
        "* Grundfrage: Wie werden alte Basisvektoren zu neuen Basivektoren?\n",
        "\n",
        "* Antwort: mittels der dualen Basen der alten Basisvektoren !\n",
        "\n",
        "* Basis ist beliebig ausgewahlt, aber physikalische Prozesse sollten jedesmal identisch abgebildet sein\n",
        "\n",
        "* Den neuen Basisvektor muss man mit den alten ausdruecken koennen"
      ]
    },
    {
      "cell_type": "markdown",
      "metadata": {
        "id": "PF8nN8rXqdJ5"
      },
      "source": [
        "![iiu](https://raw.githubusercontent.com/deltorobarba/repo/master/tensor_02.png)"
      ]
    },
    {
      "cell_type": "markdown",
      "metadata": {
        "id": "A23YImRDrbEs"
      },
      "source": [
        "Verallgemeinerung dessen:\n",
        "\n",
        "> $e_{l}^{\\prime}=\\sum_{k=1}^{n} e^{k}\\left(e_{l}^{\\prime}\\right) e_{k}$\n",
        "\n",
        "das nennt sich: **kovariantes Transformationsverhalten**, weil sie mit der Basis gehen."
      ]
    },
    {
      "cell_type": "markdown",
      "metadata": {
        "id": "4jk36EWcVnM4"
      },
      "source": [
        "**Exkurs: Koordinatentransformation (Geometric transformation)**"
      ]
    },
    {
      "cell_type": "markdown",
      "metadata": {
        "id": "fn_jMO4bXnP4"
      },
      "source": [
        "* Bei einer [Koordinatentransformation](https://de.wikipedia.org/wiki/Koordinatentransformation) werden aus den Koordinaten eines Punktes in einem Koordinatensystem dessen Koordinaten in einem anderen Koordinatensystem berechnet.\n",
        "\n",
        "* Typische Koordinatentransformationen entstehen im Koordinatensystems, die auch kombiniert werden können, durch:\n",
        "\n",
        "  * [Drehung](https://de.wikipedia.org/wiki/Drehung) (Rotation), \n",
        "  \n",
        "  * [Skalierung](https://de.wikipedia.org/wiki/Skalar_(Mathematik)) (Veränderung des Maßstabs), \n",
        "  \n",
        "  * [Scherung](https://de.wikipedia.org/wiki/Scherung_(Geometrie))\n",
        "  \n",
        "  * [Verschiebung](https://de.wikipedia.org/wiki/Parallelverschiebung) (Translation)\n",
        "\n",
        "* In der Regel verwendet man spezielle Transformationen, bei denen diese Funktionen gewissen Einschränkungen – z. B. Differenzierbarkeit, Linearität oder Formtreue – unterliegen. \n",
        "\n",
        "* Koordinatentransformationen können angewendet werden, wenn sich ein Problem in einem anderen Koordinatensystem leichter lösen lässt, z. B. bei der Transformation von kartesischen Koordinaten in Kugelkoordinaten oder umgekehrt."
      ]
    },
    {
      "cell_type": "markdown",
      "metadata": {
        "id": "u-VY4FmRvbTu"
      },
      "source": [
        "**Beispiele von Koordinatentransformationen**"
      ]
    },
    {
      "cell_type": "markdown",
      "metadata": {
        "id": "fqOlm2e7vV4s"
      },
      "source": [
        "Bei **lineare Transformationen** ([Lineare Abbildung](https://de.wikipedia.org/wiki/Lineare_Abbildung)) sind die neuen Koordinaten lineare Funktionen der ursprünglichen:\n",
        "\n",
        "$x_{1}^{\\prime}=a_{11} x_{1}+a_{12} x_{2}+\\cdots+a_{1 n} x_{n}$\n",
        "\n",
        "$x_{2}^{\\prime}=a_{21} x_{1}+a_{22} x_{2}+\\cdots+a_{2 n} x_{n}$\n",
        "\n",
        "$\\cdots$\n",
        "\n",
        "$x_{n}^{\\prime}=a_{n 1} x_{1}+a_{n 2} x_{2}+\\cdots+a_{n n} x_{n} .$\n",
        "  \n",
        "* Dies kann man kompakt als [Matrixmultiplikation](https://de.wikipedia.org/wiki/Matrizenmultiplikation) des alten Koordinatenvektors $\\vec{x} = (x_1, \\dots, x_n)$ mit der Matrix $A$, die die Koeffizienten $a_{ij}$ enthält, darstellen ${\\vec {x}}'=A{\\vec {x}}$.\n",
        "\n",
        "* Wichtige Typen linearer Koordinatentransformationen:\n",
        "\n",
        "  * [Drehung](https://de.wikipedia.org/wiki/Drehung) (Rotation), \n",
        "  \n",
        "  * [Skalierung](https://de.wikipedia.org/wiki/Skalar_(Mathematik)) (Veränderung des Maßstabs), \n",
        "  \n",
        "  * [Scherung](https://de.wikipedia.org/wiki/Scherung_(Geometrie))\n"
      ]
    },
    {
      "cell_type": "markdown",
      "metadata": {
        "id": "-U-UQd9KvT1M"
      },
      "source": [
        "[**Affine Transformationen**](https://de.wikipedia.org/wiki/Affine_Abbildung) bestehen aus einer linearen Transformation und einer Translation.\n",
        "\n",
        "* [Verschiebung](https://de.wikipedia.org/wiki/Parallelverschiebung) (Translation) - Die Translation ist ein Spezialfall einer affinen Transformation, bei der A die Einheitsmatrix ist."
      ]
    },
    {
      "cell_type": "markdown",
      "metadata": {
        "id": "Og2CmTW6nsQt"
      },
      "source": [
        "Der [**Basiswechsel im Vektorraum (Transformationsmatrix)**](https://de.wikipedia.org/wiki/Basiswechsel_(Vektorraum)) (lineare Algebra) ist der Übergang zwischen zwei verschiedenen Basen eines endlichdimensionalen Vektorraums über einem Körper $K$. Dadurch ändern sich im Allgemeinen die Koordinaten der Vektoren und die Abbildungsmatrizen von linearen Abbildungen. \n",
        "\n",
        "* **Ein Basiswechsel ist somit ein Spezialfall einer Koordinatentransformation**.\n",
        "\n",
        "* [Youtube Video 1](https://www.youtube.com/watch?v=CR7e7Zc0QLg) und [Youtube Video 2](https://www.youtube.com/watch?v=FFVauAY_FMI)"
      ]
    },
    {
      "cell_type": "markdown",
      "metadata": {
        "id": "3DicyTGWvR4G"
      },
      "source": [
        "[Kartesische Koordinaten und Polarkoordinaten](https://de.wikipedia.org/wiki/Koordinatentransformation#Beispiele): Ein Punkt in der Ebene wird im kartesischen Koordinatensystem durch seine Koordinaten $(\\mathrm{x}, \\mathrm{y})$ und im Polarkoordinatensystem durch den Abstand $r$ vom Ursprung und dem (positiven) Winkel $\\varphi$ zur $x$ -Achse bestimmt.\n",
        "\n",
        "* Dabei gilt für die Umrechnung von Polarkoordinaten in kartesische Koordinaten:\n",
        "\n",
        "* $x=r \\cdot \\cos \\varphi$\n",
        "\n",
        "* $y=r \\cdot \\sin \\varphi$\n",
        "\n",
        "* Für die Umrechnung von kartesischen Koordinaten in Polarkoordinaten gilt:\n",
        "\n",
        "$\\begin{aligned} \\text { - } r &=\\sqrt{x^{2}+y^{2}} \\\\ \\text { - } \\varphi &=\\left\\{\\begin{array}{ll}\\arctan \\frac{y}{x} & \\text { für } x>0 \\\\ \\arctan \\frac{y}{x}+\\pi & \\text { für } x<0, y \\geq 0 \\\\ \\arctan \\frac{y}{x}-\\pi & \\text { für } x<0, y<0 \\\\ \\pi / 2 & \\text { für } x=0, y>0 \\\\ -\\pi / 2 & \\text { für } x=0, y<0 \\\\ \\arccos \\frac{x}{r} & \\text { für } y \\geq 0 \\\\ -\\arccos \\left(\\frac{x}{r}\\right) & \\text { für } y<0\\end{array}\\right.\\end{aligned}$\n",
        "\n",
        "\n",
        "* Bei der Implementierung der Variante mit arccos ist mit\n",
        "Rundungsfehlern zu rechnen, welche bei Nutzung des arctan deutlich geringer ausfallen.\n"
      ]
    },
    {
      "cell_type": "markdown",
      "metadata": {
        "id": "V_LA4jr-x993"
      },
      "source": [
        "Die [Transformation von Differential-Operatoren](https://de.wikipedia.org/wiki/Kugelkoordinaten#Transformation_von_Differentialen) (Jacobi-Matrix)\n",
        "\n",
        "* Die lokalen Eigenschaften der Koordinatentransformation werden durch die Jacobi-Matrix beschrieben. "
      ]
    },
    {
      "cell_type": "markdown",
      "metadata": {
        "id": "_7stZASTx8Vh"
      },
      "source": [
        "Die [Transformation von Vektorfeldern](https://de.wikipedia.org/wiki/Kugelkoordinaten#Transformation_von_Vektorfeldern_und_-Operatoren)"
      ]
    },
    {
      "cell_type": "markdown",
      "metadata": {
        "id": "upcGdiC2vZlQ"
      },
      "source": [
        "Die [Galilei-Transformation](https://de.wikipedia.org/wiki/Galilei-Transformation) ist die einfachste Koordinatentransformation, mit der physikalische Aussagen von einem Bezugssystem in ein anderes umgerechnet werden können. \n",
        "\n",
        "* Sie ist anwendbar, wenn die beiden Bezugssysteme sich durch eine geradlinig-gleichförmige Bewegung, Drehung und/oder eine Verschiebung in Raum oder Zeit unterscheiden. \n",
        "  \n",
        "* Alle Beobachtungen von Strecken, Winkeln und Zeitdifferenzen stimmen in beiden Bezugssystemen überein; alle beobachteten Geschwindigkeiten unterscheiden sich um die konstante Relativgeschwindigkeit der beiden Bezugssysteme."
      ]
    },
    {
      "cell_type": "markdown",
      "metadata": {
        "id": "IPVYCoFdviIM"
      },
      "source": [
        "Die [Lorentz-Transformationen](https://de.wikipedia.org/wiki/Lorentz-Transformation), nach Hendrik Antoon Lorentz, sind eine Klasse von Koordinatentransformationen, die in der Physik Beschreibungen von Phänomenen in verschiedenen Bezugssystemen ineinander überführen. \n",
        "\n",
        "* Sie verbinden in einer vierdimensionalen Raumzeit die Zeit- und Ortskoordinaten, mit denen verschiedene Beobachter angeben, wann und wo Ereignisse stattfinden. \n",
        "\n",
        "* Die Lorentz-Transformationen bilden daher die Grundlage der Speziellen Relativitätstheorie von Albert Einstein.\n",
        "\n",
        "* **Das Äquivalent zu den Lorentz-Transformationen im dreidimensionalen euklidischen Raum sind die Galilei-Transformationen**.\n",
        "\n",
        "* Genauso wie diese Abstände und Winkel erhalten, erhalten die Lorentz-Transformationen die Abstände in der nichteuklidischen Raumzeit ([Minkowskiraum](https://de.wikipedia.org/wiki/Minkowski-Raum)). Winkel werden im Minkowskiraum nicht erhalten, da der Minkowskiraum kein normierter Raum ist.\n"
      ]
    },
    {
      "cell_type": "markdown",
      "metadata": {
        "id": "GBHTQSJ5yNSp"
      },
      "source": [
        "Eine [Eichtransformation](https://de.wikipedia.org/wiki/Eichtransformation) verändert die Eichfelder einer physikalischen Theorie (z. B. die elektromagnetischen Potentiale oder die potentielle Energie) dergestalt, dass die physikalisch wirksamen Felder (z. B. das elektromagnetische Feld oder ein Kraftfeld) und damit alle beobachtbaren Abläufe dabei die gleichen bleiben. Dies wird als Eichfreiheit bezeichnet. Man unterscheidet:\n",
        "\n",
        "* globale Eichtransformationen: sie werden an jedem Ort mit gleichem Wert durchgeführt, z. B. die Verschiebung des Nullpunkts der potentiellen Energie, die Wahl des Referenzpotentials bei der Messung elektrischer Spannungen, ein konstanter Phasenfaktor an der komplexen Wellenfunktion der Quantenmechanik.\n",
        "\n",
        "* lokale Eichtransformationen: dabei werden die Veränderungen an einem Parameter nicht durch einen einzigen Wert bestimmt, sondern mit Hilfe einer örtlich und/oder zeitlich variierenden Funktion.\n"
      ]
    },
    {
      "cell_type": "markdown",
      "metadata": {
        "id": "1bFTx-nGvNcV"
      },
      "source": [
        "Siehe auch [Liste von Transformationen in der Mathematik](https://de.wikipedia.org/wiki/Liste_von_Transformationen_in_der_Mathematik)"
      ]
    },
    {
      "cell_type": "markdown",
      "metadata": {
        "id": "CjnbCM_1oQtX"
      },
      "source": [
        "http://walter.bislins.ch/physik/index.asp?page=Koordinatentransformation"
      ]
    },
    {
      "cell_type": "markdown",
      "metadata": {
        "id": "XhQ9Bdz6srjf"
      },
      "source": [
        "##### **Kontravariantes (Vektor) Transformationsverhalten**"
      ]
    },
    {
      "cell_type": "markdown",
      "metadata": {
        "id": "QBJMxotsSJ2s"
      },
      "source": [
        "**Vektorkoordinaten verhalten sich kontravariant**\n",
        "\n",
        "* **Problem**: For example, we consider the transformation from one coordinate system $x^{1}, \\ldots, x^{n}$ to another $x^{\\prime}, \\ldots, x^{\\prime n}$\n",
        "$x^{i}=f^{i}\\left(x^{\\prime}, x^{\\prime 2}, \\ldots, x^{\\prime n}\\right)$ where $f^{i}$ are certain functions.\n",
        "Take a look at a couple of specific quantities. How do we transform coordinates? The answer is \"**coordinate differentials**\":\n",
        "\n",
        "> $d x^{i}=\\frac{\\partial x^{i}}{\\partial x^{\\prime k}} d x^{\\prime k}$ \n",
        "\n",
        "* **Darstellung**: $c^{1}$ (upper index, hochgestellte Indizes)\n",
        "\n",
        "* **Definition**: \n",
        "\n",
        "  * Vektorkoordinaten verhalten sich kontravariant. (wahrscheinlich: kovariante Basisvektoren (= \"kontravarianten Vektor\", weil Koordinaten kontravariant): Tangential an die Koordinatenlinien, d. h. kollinear zu den Koordinatenachsen (da, wie oben beschrieben, die Koordinatenachsen als Tangenten an die Koordinatenlinien definiert sind).\n",
        "  \n",
        "  * Every quantity which under a transformation of (vector) coordinates, transforms like the coordinate differentials is called a contravariant tensor.\n",
        "\n",
        "  * **Vectors exhibit a behavior of changing scale inversely to changes in scale to the reference axes are called contravariant** (see second example below). As a result, vectors often have units of distance or distance with other units (as, for example, velocity has units of distance divided by time).\n",
        "\n",
        "* **Examples**: (of contravariant vectors / vectors with contravariant components)\n",
        "\n",
        "  * position of an object relative to an observer, or any derivative of position with respect to time: velocity, acceleration, jerk, displacement, momentum, force.\n",
        "\n",
        "  * For instance, by changing scale from meters to centimeters (that is, **dividing the scale of the reference axes by 100**), the components of a measured velocity vector are **multiplied by 100**. \n",
        "\n",
        "* **Extension**:\n",
        "\n",
        "  * In physics, a basis is sometimes thought of as a set of reference axes. A change of scale on the reference axes corresponds to a change of units in the problem. \n",
        "\n",
        "  * A contravariant vector or tangent vector (often abbreviated simply as vector, such as a direction vector or velocity vector) has components that contra-vary with a change of basis to compensate. That is, the matrix that transforms the vector components must be the inverse of the matrix that transforms the basis vectors. The components of vectors (as opposed to those of covectors) are said to be contravariant. \n",
        "  \n",
        "  * If the **reference axes** were rotated in one direction, the **component representation** of the vector would rotate in exactly the opposite way. Similarly, if the reference axes were stretched in one direction, the components of the vector, like the coordinates, would reduce in an exactly compensating way. In Einstein notation, contravariant components are denoted with upper indices as in $\\mathbf{v}=v^{i} \\mathbf{e}_{i}$ (note: implicit summation over index \"i\")\n"
      ]
    },
    {
      "cell_type": "markdown",
      "metadata": {
        "id": "F3EtqX0_U0Ma"
      },
      "source": [
        "https://math.stackexchange.com/questions/8170/intuitive-way-to-understand-covariance-and-contravariance-in-tensor-algebra"
      ]
    },
    {
      "cell_type": "markdown",
      "metadata": {
        "id": "vm8kHjgIkrNk"
      },
      "source": [
        "*Kontravariantes Transformationsverhalten*"
      ]
    },
    {
      "cell_type": "markdown",
      "metadata": {
        "id": "qGhodqSVsLX9"
      },
      "source": [
        "* Grundfrage: Wie werden Normalenvektoren in den alten Basisvektoren zu Normalenvektoren in neuen Basivektoren?\n",
        "\n",
        "* Die normalen Vektoren gehen gegen die Basis, d.h. kontravariant\n",
        "\n",
        "* Gegeben einen Normalenvektor a aus dem Vektorraum V, und diesen zerlegen in die Basisvektoren in alter Basis und dann transformieren in neue Basis:"
      ]
    },
    {
      "cell_type": "markdown",
      "metadata": {
        "id": "Ysce5NemuvyE"
      },
      "source": [
        "![iiu](https://raw.githubusercontent.com/deltorobarba/repo/master/tensor_03.png)"
      ]
    },
    {
      "cell_type": "markdown",
      "metadata": {
        "id": "iFUAks5OvK_A"
      },
      "source": [
        "Nun Kovektor angewandt auf Summe von Zahlen mal Vektoren (Vektoren sind kontravariant): "
      ]
    },
    {
      "cell_type": "markdown",
      "metadata": {
        "id": "4-kR_brZvzx8"
      },
      "source": [
        "![iiu](https://raw.githubusercontent.com/deltorobarba/repo/master/tensor_04.png)"
      ]
    },
    {
      "cell_type": "markdown",
      "metadata": {
        "id": "qywg9CZ-wQgC"
      },
      "source": [
        "Man nennt a einen \"kontravarianten\" Vektor, aber eigentlich muss man sagen, dass seine Komponenten kontravariant transformieren. Die eigentlichen Vektoren aus dem Originalvektorraum sind kontravariant."
      ]
    },
    {
      "cell_type": "markdown",
      "metadata": {
        "id": "bu7CQrMtVDqi"
      },
      "source": [
        "* and a tangent vector of a smooth curve will transform as a contravariant tensor of order one under a change of coordinates\n",
        "\n",
        "* The inverse of a covariant transformation is a **contravariant transformation**.\n",
        "\n",
        "  * Whenever a vector should be invariant under a change of basis, that is to say **it should represent the same geometrical or physical object <u>having the same magnitude and direction as before</u>, its components must transform according to the contravariant rule**. \n",
        "\n",
        "  * Conventionally, indices identifying the components of a vector are placed as upper indices and so are all indices of entities that transform in the same way. \n",
        "\n",
        "* The sum over pairwise matching indices of a product with the same lower and upper indices are invariant under a transformation.\n",
        "\n",
        "* A vector itself is a geometrical quantity, in principle, independent (invariant) of the chosen basis. A vector $\\mathbf{v}$ is given, say, in components $V^{\\prime}$ on a chosen basis $\\mathbf{e}_{i}$. On another basis, say $\\mathbf{e}^{\\prime}{ }_{j}$, the same vector $\\mathbf{v}$ has different components $v^{\\prime j}$ and\n",
        "\n",
        "> $\n",
        "\\mathbf{v}=\\sum_{i} v^{i} \\mathbf{e}_{i}=\\sum_{j} v^{\\prime j} \\mathbf{e}_{j}^{\\prime}\n",
        "$\n",
        "\n",
        "* As a vector, $\\mathbf{v}$ should be invariant to the chosen coordinate system and independent of any chosen basis, i.e. its \"real world\" direction and magnitude should appear the same regardless of the basis vectors. \n",
        "\n",
        "* If we perform a change of basis by transforming the vectors $\\mathbf{e}_{i}$ into the basis vectors $\\mathbf{e}_{j}$, we must also ensure that the components $v^{i}$ transform into the new components $v$ to compensate.\n",
        "\n",
        "* The needed transformation of $\\mathbf{v}$ is called the contravariant\n",
        "transformation rule."
      ]
    },
    {
      "cell_type": "markdown",
      "metadata": {
        "id": "MS95OLOyzWfc"
      },
      "source": [
        "##### **Kovariantes (Vektor) Transformationsverhalten**"
      ]
    },
    {
      "cell_type": "markdown",
      "metadata": {
        "id": "oBacRrxdJaon"
      },
      "source": [
        "**Die Koeffizienten der Linearformen (Skalare) verhalten sich kovariant**\n",
        "\n",
        "* **Problem**: How do we transform some scalar $\\Phi$ ? The answer is \"**derivatives of a scalar**\":\n",
        "\n",
        "> $\\frac{\\partial \\Phi}{\\partial x^{i}}=\\frac{\\partial \\Phi}{\\partial x^{\\prime k}} \\frac{\\partial x^{\\prime k}}{\\partial x^{i}}$\n",
        "\n",
        "* **Darstellung**: $x_{1}$ (lower index, tiefgestellte Indizes)\n",
        "\n",
        "* **Definition**: \n",
        "\n",
        "  * Koeffizienten der Linearformen (=zB Skalare) verhalten sich kovariant. (wahrscheinlich: kontravariante Basisvektoren (= \"kovarianten Vektor\", weil Koordinaten kovariant): Normal zu den Koordinatenflächen)\n",
        "\n",
        "  * [Skalar](https://de.m.wikipedia.org/wiki/Skalar_(Mathematik)): In der Physik werden Skalare verwendet zur Beschreibung physikalischer Größen, die **richtungsunabhängig** sind. Beispiele für skalare physikalische Größen sind die **Masse eines Körpers, seine Temperatur, seine Energie und auch seine Entfernung von einem anderen Körper** (als Betrag der Differenz der Ortsvektoren). Anders gesagt: Eine skalare physikalische Größe ändert sich bei Änderungen der Lage oder Orientierung nicht. Wird hingegen für die vollständige Beschreibung der Größe eine Richtung benötigt, wie bei der Kraft oder der Geschwindigkeit, so wird ein Vektor verwendet, bei Abhängigkeit von mehreren Richtungen ein Tensor (genauer: Tensor 2. oder noch höherer Stufe).\n",
        "  \n",
        "  * Every quantity which under a coordinate transformation, transforms like the derivatives of a scalar is called a covariant tensor. \n",
        "\n",
        "  * Covectors (also called **dual vectors**) typically have units of the inverse of distance or the inverse of distance with other units. The components of covectors **change in the same way as changes to scale of the reference axes and consequently are called covariant**. \n",
        "\n",
        "* **Examples**:\n",
        "\n",
        "  * Koeffizienten der [Linearformen](https://de.wikipedia.org/wiki/Linearform) (=zB Skalare)\n",
        "  \n",
        "  * An example of a covector is the gradient, which has units of a spatial derivative, or distance<sup>−1</sup>. \n",
        "  \n",
        "  * Examples of covariant vectors generally appear when taking a gradient of a function.\n",
        "\n",
        "* **Beispiele fur Kovarianz [in der Physik](https://de.wikipedia.org/wiki/Kovarianz_(Physik))**\n",
        "\n",
        "  * Unter Galilei-Transformationen transformieren sich die Beschleunigung und die Kraft in den newtonschen Bewegungsgleichungen im gleichen Sinne wie die Ortsvektoren. Daher sind die Newtonschen Bewegungsgleichungen und damit die klassische Mechanik kovariant bzgl. der Gruppe der Galilei-Transformationen.\n",
        "\n",
        "  * Im gleichen Sinne sind die Einstein-Gleichungen der Gravitation in der allgemeinen Relativitätstheorie kovariant unter beliebigen (nichtlinearen glatten) Koordinatentransformationen.\n",
        "\n",
        "  * Ebenso ist die Dirac-Gleichung der Quantenelektrodynamik kovariant unter der Gruppe der linearen Lorentz-Transformationen.\n",
        "\n",
        "  * Die linke Seite der Klein-Gordon-Gleichung für ein Skalarfeld ändert sich unter Lorentz-Transformationen nicht, sie ist spezieller invariant oder skalar.\n",
        "\n",
        "* **Extension**:\n",
        "\n",
        "  * A covariant vector or cotangent vector (often abbreviated as covector) has components that co-vary with a change of basis. \n",
        "  \n",
        "  * That is, the **components must be transformed by the same matrix as the change of basis matrix**. The components of covectors (as opposed to those of vectors) are said to be covariant.  In Einstein notation, covariant components are denoted with lower indices as in $\\mathbf{e}_{i}(\\mathbf{v})=v_{i}$\n",
        "\n",
        "  * A covariant vector has **components (=coordinates) that change oppositely to the coordinates or, equivalently,\n",
        "transform like the reference axes**. \n",
        "\n",
        "  * For instance, the components of the gradient vector of a function $\\nabla f=\\frac{\\partial f}{\\partial x^{1}} \\widehat{x}^{1}+\\frac{\\partial f}{\\partial x^{2}} \\widehat{x}^{2}+\\frac{\\partial f}{\\partial x^{3}} \\widehat{x}^{3}$\n",
        "transform like the reference axes themselves.\n",
        "\n",
        "  * See also [Covariant Transformation](https://en.wikipedia.org/wiki/Covariant_transformation)\n",
        "\n"
      ]
    },
    {
      "cell_type": "markdown",
      "metadata": {
        "id": "vrOXAL8v1aLX"
      },
      "source": [
        "Die Komponenten eines Kovektors, eines Vektors aus dem Dualraum, transformieren kovariant."
      ]
    },
    {
      "cell_type": "markdown",
      "metadata": {
        "id": "zHpVMegR1Xm9"
      },
      "source": [
        "![iiu](https://raw.githubusercontent.com/deltorobarba/repo/master/tensor_05.png)"
      ]
    },
    {
      "cell_type": "markdown",
      "metadata": {
        "id": "YD4p6oTDQIJG"
      },
      "source": [
        "> **The derivative of a function transforms covariantly!** (and a tangent vector of a smooth curve will transform as a contravariant tensor of order one under a change of coordinates)\n",
        "\n",
        "* In physics, a [covariant transformation](https://en.wikipedia.org/wiki/Covariant_transformation) is a rule that specifies how certain entities, such as vectors or tensors, change under a change of basis.\n",
        "\n",
        "* The transformation that describes the new basis vectors as a linear combination of the old basis vectors is defined as a covariant transformation.\n",
        "\n",
        "* Conventionally, indices identifying the basis vectors are placed as lower indices and so are all entities that transform in the same way."
      ]
    },
    {
      "cell_type": "markdown",
      "metadata": {
        "id": "LKJ7sjExGa7F"
      },
      "source": [
        "*Covariant Derivative*"
      ]
    },
    {
      "cell_type": "markdown",
      "metadata": {
        "id": "ybFgARMAJoai"
      },
      "source": [
        "* the [covariant derivative](https://en.wikipedia.org/wiki/Covariant_derivative) is a way of specifying **a derivative along tangent vectors of a manifold**. \n",
        "\n",
        "* The name is motivated by the importance of changes of coordinate in physics: the covariant derivative transforms covariantly under a general coordinate transformation, that is, linearly via the [Jacobian matrix](https://en.wikipedia.org/wiki/Jacobian_matrix_and_determinant) of the transformation.\n",
        "\n",
        "* The covariant derivative is a generalization of the [directional derivative](https://en.wikipedia.org/wiki/Directional_derivative) / [Richtungsableitung](https://de.wikipedia.org/wiki/Richtungsableitung) from vector calculus (ps: Eine Verallgemeinerung der Richtungsableitung auf unendlichdimensionale Räume ist das [Gâteaux-Differential](https://de.wikipedia.org/wiki/Gâteaux-Differential).)\n",
        "\n",
        "* The covariant derivative is a generalization of the directional derivative from vector calculus. As with the directional derivative, the covariant derivative is a rule, \n",
        "\n",
        "  * $\\nabla_{\\mathbf{u}} \\mathbf{v},$ which takes as its inputs: \n",
        "\n",
        "  * (1) a vector, $\\mathbf{u},$ defined at a point $P$, and \n",
        "  \n",
        "  * (2) a vector field, $\\mathbf{v}$, defined in a neighborhood of $P$ \n",
        "  \n",
        "  * The output is the vector $\\nabla_{\\mathbf{u}} \\mathbf{v}(P)$, also at the point $P$. \n"
      ]
    },
    {
      "cell_type": "markdown",
      "metadata": {
        "id": "dPzhpz3ZL2dM"
      },
      "source": [
        "*Covariant derivative and covariant transformation*"
      ]
    },
    {
      "cell_type": "markdown",
      "metadata": {
        "id": "ldudp_TQL-ie"
      },
      "source": [
        "* The primary difference from the usual directional derivative is that $\\nabla_{\\mathrm{u}} \\mathrm{v}$ must, in a certain precise sense, **be independent of the manner in which it is expressed in a coordinate system**.\n",
        "\n",
        "* A vector may be described as a list of numbers in terms of a basis, **but as a geometrical object a vector retains its own identity regardless of how one chooses to describe it in a basis**. \n",
        "\n",
        "* This persistence of identity is reflected in the fact that when a vector is written in one basis, and then the basis is changed, the components of the vector transform according to a change of basis formula. Such a transformation law is known as a covariant transformation. \n",
        "\n",
        "> **The covariant derivative is required to transform, under a change in coordinates, in the same way as a basis does: <u>the covariant derivative must change by a covariant transformation</u>.**"
      ]
    },
    {
      "cell_type": "markdown",
      "metadata": {
        "id": "J1QfDh8ZLyqY"
      },
      "source": [
        "*In the Euclidean Space*"
      ]
    },
    {
      "cell_type": "markdown",
      "metadata": {
        "id": "zFBVUlMHLx-J"
      },
      "source": [
        "* In the case of Euclidean space, one tends to define the derivative of a vector field in terms of the difference between two vectors at two nearby points. In such a system one translates one of the vectors to the origin of the other, keeping it parallel. \n",
        "\n",
        "* **With a Cartesian (fixed orthonormal) coordinate system \"keeping it parallel\" amounts to keeping the components constant**. \n",
        "\n",
        "* Euclidean space provides the simplest example: a covariant derivative which is obtained by taking the ordinary directional derivative of the components in the direction of the displacement vector between the two nearby points.\n"
      ]
    },
    {
      "cell_type": "markdown",
      "metadata": {
        "id": "1H7NE8ydMBkM"
      },
      "source": [
        "*In other (more general) Spaces*"
      ]
    },
    {
      "cell_type": "markdown",
      "metadata": {
        "id": "xUeg0ZYjMGBQ"
      },
      "source": [
        "* In the general case, however, one must take into account the change of the coordinate system. For example, if the same covariant derivative is written in **polar coordinates** in a two dimensional Euclidean plane, **then it contains extra terms that describe how the coordinate grid itself \"rotates\"**. \n",
        "\n",
        "* **In other cases the extra terms describe how the coordinate grid expands, contracts, twists, interweaves**, etc. \n",
        "\n",
        "* **In this case \"keeping it parallel\" does NOT amount to keeping components constant under translation**.\n"
      ]
    },
    {
      "cell_type": "markdown",
      "metadata": {
        "id": "Ke7HSuNXXf01"
      },
      "source": [
        "##### **Examples**"
      ]
    },
    {
      "cell_type": "markdown",
      "metadata": {
        "id": "WE_pme6sWcF4"
      },
      "source": [
        "![ff](https://raw.githubusercontent.com/deltorobarba/repo/master/covariant_transformation.png)"
      ]
    },
    {
      "cell_type": "markdown",
      "metadata": {
        "id": "Njwa-3lQWpnx"
      },
      "source": [
        "* In the shown example, a vector $\\mathbf{v}=\\sum_{i \\in\\{x, y\\}} v^{i} \\mathbf{e}_{i}=\\sum_{j \\in\\{r, \\phi\\}} v^{\\prime j} \\mathbf{e}_{j}^{\\prime} .$ is described by two different coordinate\n",
        "systems:\n",
        "  * a rectangular coordinate\n",
        "system (the black grid), \n",
        "  * and a radial\n",
        "coordinate system (the red grid). \n",
        "\n",
        "* Basis vectors have been chosen for both\n",
        "coordinate systems: $\\mathbf{e}_{x}$ and $\\mathbf{e}_{\\mathbf{y}}$ for the rectangular coordinate system, and $\\mathbf{e}_{\\mathrm{r}}$\n",
        "and $\\mathbf{e}_{\\phi}$ for the radial coordinate system. \n",
        "\n",
        "* The radial basis vectors $\\mathbf{e}_{\\mathrm{r}}$ and $\\mathbf{e}_{\\phi}$ appear\n",
        "rotated anticlockwise with respect to the\n",
        "rectangular basis vectors $\\mathbf{e}_{\\mathrm{x}}$ and $\\mathbf{e}_{\\mathrm{y}}$.\n",
        "\n",
        "> **The covariant transformation, performed to the basis vectors, is thus an anticlockwise rotation, rotating from the first basis vectors to the second basis vectors**.\n",
        "\n",
        "* The coordinates of $v$ must be transformed into the new coordinate system, **but the vector $v$ itself, as a mathematical object, remains independent of the basis chosen, appearing to point in the same direction and with the same magnitude, invariant to the change of coordinates**. \n",
        "\n",
        "* The contravariant transformation ensures this, by compensating for the rotation between the different bases. If we view $v$ from the context of the radial coordinate system, it appears to be rotated more clockwise from the basis vectors $\\mathbf{e}_{\\mathbf{r}}$ and $\\mathbf{e}_{\\Phi}$. compared to how it appeared relative to the rectangular basis vectors $\\mathbf{e}_{x}$ and $\\mathbf{e}_{y}$. \n",
        "\n",
        "* **Thus, the needed contravariant transformation to $v$ in this example is a clockwise rotation.**"
      ]
    },
    {
      "cell_type": "markdown",
      "metadata": {
        "id": "Jrvlp3ueUCgE"
      },
      "source": [
        "*Example*"
      ]
    },
    {
      "cell_type": "markdown",
      "metadata": {
        "id": "csV3YgIuUBJK"
      },
      "source": [
        "* Consider the example of moving along a curve $\\gamma(t)$ in the Euclidean plane. In polar coordinates, $\\gamma$ may be written in terms of its radial and angular coordinates by $\\gamma(t)=(r(t), \\theta(t))$. \n",
        "\n",
        "* A vector at a particular time $t$ (for instance, the acceleration of the curve) is expressed in terms of $\\left(\\mathbf{e}_{r}, \\mathbf{e}_{\\theta}\\right),$ where $\\mathbf{e}_{r}$ and $\\mathbf{e}_{\\theta}$ are unit tangent vectors for the polar coordinates, serving as a basis to decompose a vector in terms of radial and [tangential components](https://en.wikipedia.org/wiki/Tangential_and_normal_components). \n",
        "\n",
        "* At a slightly later time, the new basis in polar coordinates appears slightly rotated with respect to the first set. The covariant derivative of the basis vectors (the [Christoffel symbols](https://en.wikipedia.org/wiki/Christoffel_symbols)) serve to express this change."
      ]
    },
    {
      "cell_type": "markdown",
      "metadata": {
        "id": "ac75knXWUsEa"
      },
      "source": [
        "*Another Example*"
      ]
    },
    {
      "cell_type": "markdown",
      "metadata": {
        "id": "MD41dbkiUmLi"
      },
      "source": [
        "* In a curved space, such as the surface of the Earth (regarded as a sphere), the translation is not well defined and its analog, parallel transport, depends on the path along which the vector is translated.\n",
        "\n",
        "* A vector e on a globe on the equator at point Q is directed to the north. Suppose we parallel transport the vector first along the equator until at point P and then (keeping it parallel to itself) drag it along a meridian to the pole N and (keeping the direction there) subsequently transport it along another meridian back to Q. \n",
        "\n",
        "* **Then we notice that the parallel-transported vector along a closed circuit does not return as the same vector**; instead, it has another orientation. **This would not happen in Euclidean space and is caused by the curvature of the surface of the globe**. The same effect can be noticed if we drag the vector along an infinitesimally small closed surface subsequently along two directions and then back. The infinitesimal change of the vector is a measure of the curvature."
      ]
    },
    {
      "cell_type": "markdown",
      "metadata": {
        "id": "zglWxx_a7Q_3"
      },
      "source": [
        "#### **Tensoranalyse**"
      ]
    },
    {
      "cell_type": "markdown",
      "metadata": {
        "id": "dHNHid3-NfOe"
      },
      "source": [
        "https://de.wikipedia.org/wiki/Tensoranalysis"
      ]
    },
    {
      "cell_type": "markdown",
      "metadata": {
        "id": "2pIIAEDf-4JK"
      },
      "source": [
        "**Motivation**"
      ]
    },
    {
      "cell_type": "markdown",
      "metadata": {
        "id": "mL9soSZadOSm"
      },
      "source": [
        "*In our subject of differential geometry, where you talk about manifolds, **one difficulty is that the geometry is described by coordinates, but the coordinates do not have meaning**. They are allowed to undergo transformation. And in order to handle this kind of situation, an important tool is the so-called tensor analysis, or Ricci calculus, which was new to mathematicians. In mathematics you have a function, you write down the function, you calculate, or you add, or you multiply, or you can differentiate. You have something very concrete. In geometry the geometric situation is described by numbers, but you can change your numbers arbitrarily. So to handle this, you need the Ricci calculus.*"
      ]
    },
    {
      "cell_type": "markdown",
      "metadata": {
        "id": "BnxwQGT8YfIk"
      },
      "source": [
        "* Die [Tensoranalysis](https://de.wikipedia.org/wiki/Tensoranalysis) ist ein Teilgebiet der Differentialgeometrie beziehungsweise der Differentialtopologie.\n",
        "\n",
        "* In der Tensoranalysis wird **das Verhalten von geometrischen Differentialoperatoren auf Tensorfeldern untersucht**.\n",
        "\n",
        "* Sie ist eine **Verallgemeinerung der Vektoranalysis**\n",
        "\n",
        "* Zum Beispiel kann der Differentialoperator Rotation in diesem Kontext auf n Dimensionen verallgemeinert werden. \n",
        "\n",
        "* Zentrale Objekte der Tensoranalysis sind Tensorfelder. Es wird untersucht, wie Differentialoperatoren auf diesen Feldern wirken.\n",
        "\n",
        "* Vektoren und Matrizen, sofern sie geometrische oder physikalische Groessen reprasentieren, koennen unter dem begriff eines tensors subsumiert werden\n",
        "\n",
        "* tensorrechnung in 2 teilen: anschauungsraum fur ingenieure (kartesische tensoren). Fur schiefwinklige (also affine) oder krummlinige Koordinaten sind begriffe wie kovariant und kontravariant wichtig (zur arbeit mit metriken, deren skalarproduktauf einer nicht positiv definiten bilinearform beruht). "
      ]
    },
    {
      "cell_type": "markdown",
      "metadata": {
        "id": "yyUcAVz5eqB9"
      },
      "source": [
        "https://en.wikipedia.org/wiki/Raising_and_lowering_indices"
      ]
    },
    {
      "cell_type": "markdown",
      "metadata": {
        "id": "74Dg7m3BT1vI"
      },
      "source": [
        "https://en.wikipedia.org/wiki/Tensor_calculus"
      ]
    },
    {
      "cell_type": "markdown",
      "metadata": {
        "id": "_d3gdJDoTx5G"
      },
      "source": [
        "https://en.wikipedia.org/wiki/Ricci_calculus"
      ]
    },
    {
      "cell_type": "markdown",
      "metadata": {
        "id": "zdfJaWZATzyW"
      },
      "source": [
        "https://en.wikipedia.org/wiki/Glossary_of_tensor_theory"
      ]
    },
    {
      "cell_type": "markdown",
      "metadata": {
        "id": "oNJNE7fili4G"
      },
      "source": [
        "https://youtube.com/playlist?list=PLJHszsWbB6hpk5h8lSfBkVrpjsqvUGTCx"
      ]
    },
    {
      "cell_type": "markdown",
      "metadata": {
        "id": "EZ_R6eImihmR"
      },
      "source": [
        "https://de.wikipedia.org/wiki/Weingartenabbildung"
      ]
    },
    {
      "cell_type": "markdown",
      "metadata": {
        "id": "pue7628gifls"
      },
      "source": [
        "https://de.wikipedia.org/wiki/Hauptkr%C3%BCmmung"
      ]
    },
    {
      "cell_type": "markdown",
      "metadata": {
        "id": "AnISzsK_vdR7"
      },
      "source": [
        "https://de.m.wikipedia.org/wiki/Krummlinige_Koordinaten"
      ]
    },
    {
      "cell_type": "markdown",
      "metadata": {
        "id": "GCtDLHvCnP9t"
      },
      "source": [
        "https://www.britannica.com/science/differential-geometry"
      ]
    },
    {
      "cell_type": "markdown",
      "metadata": {
        "id": "6JU7pvq7nRwf"
      },
      "source": [
        "https://www.google.com/imgres?imgurl=https%3A%2F%2Fupload.wikimedia.org%2Fwikipedia%2Fcommons%2Fthumb%2Fe%2Feb%2FMinimal_surface_curvature_planes-en.svg%2F220px-Minimal_surface_curvature_planes-en.svg.png&imgrefurl=https%3A%2F%2Fde.wikipedia.org%2Fwiki%2FWeingartenabbildung&tbnid=uSAqTnfjJUzAwM&vet=12ahUKEwjys97wlNjvAhUR5IUKHbgZAToQMygMegUIARCuAQ..i&docid=mqvKH_RaU3T2mM&w=220&h=150&q=Tangentialraum&ved=2ahUKEwjys97wlNjvAhUR5IUKHbgZAToQMygMegUIARCuAQ#imgrc=vJHgf3rzRtthxM&imgdii=GmYL3yE9Rq13KM"
      ]
    },
    {
      "cell_type": "markdown",
      "metadata": {
        "id": "Iu3vloEDrTHI"
      },
      "source": [
        "https://de.wikipedia.org/wiki/Pushforward"
      ]
    },
    {
      "cell_type": "markdown",
      "metadata": {
        "id": "MthVadEfrXZV"
      },
      "source": [
        "https://de.wikipedia.org/wiki/Rücktransport"
      ]
    },
    {
      "cell_type": "markdown",
      "metadata": {
        "id": "KwTERXX027aS"
      },
      "source": [
        "https://en.wikipedia.org/wiki/Cotangent_space#The_pullback_of_a_smooth_map"
      ]
    },
    {
      "cell_type": "markdown",
      "metadata": {
        "id": "1gZ39Mp3fUJW"
      },
      "source": [
        "**Vector Decomposition**"
      ]
    },
    {
      "cell_type": "markdown",
      "metadata": {
        "id": "AB8gI8A_8aRe"
      },
      "source": [
        "Tensors notation allows a vector $(\\vec{V})$ to be decomposed into an [Einstein summation](https://en.wikipedia.org/wiki/Einstein_notation) representing the [tensor contraction](https://en.wikipedia.org/wiki/Tensor_contraction) of a [basis vector](https://en.wikipedia.org/wiki/Basis_(linear_algebra)) $\\left(\\vec{Z}_{i}\\right.$ or $\\left.\\vec{Z}^{i}\\right)$ with a component vector $\\left(V_{i}\\right.$ or $\\left.V^{i}\\right)$.\n",
        "\n",
        "> $\\vec{V}=V^{i} \\vec{Z}_{i}=V_{i} \\vec{Z}^{i}$\n",
        "\n",
        "Every vector has two different representations, one referred to as contravariant component $\\left(V^{i}\\right)$ with a covariant basis $\\left(\\vec{Z}_{i}\\right),$ and the other as a covariant component $\\left(V_{i}\\right)$ with a contravariant basis $\\left(\\vec{Z}^{i}\\right)$. \n",
        "\n",
        "The need to distinguish between contravariant and covariant arises from the fact that when we dot an arbitrary vector with its basis vector related to a particular coordinate system, there are two ways of interpreting this dot product, \n",
        "\n",
        "* either we view it as the projection of the basis vector onto the arbitrary vector, \n",
        "\n",
        "> $\\vec{V} \\cdot \\vec{Z}_{i}=V_{i}=\\vec{V}^{T} \\vec{Z}_{i}=\\vec{Z}_{i}^{T} \\vec{V}=\\operatorname{proj}_{\\vec{Z}^{i}}(\\vec{V}) \\cdot \\vec{Z}_{i}=\\operatorname{proj}_{\\vec{V}}\\left(\\vec{Z}^{i}\\right) \\cdot \\vec{V}$\n",
        "\n",
        "* or we view it as the projection of the arbitrary vector onto the basis vector.\n",
        "\n",
        "> $\\vec{V} \\cdot \\vec{Z}^{i}=V^{i}=\\vec{V}^{T} \\vec{Z}^{i}=\\vec{Z}^{i T} \\vec{V}=\\operatorname{proj}_{\\vec{Z}_{i}}(\\vec{V}) \\cdot \\vec{Z}^{i}=\\operatorname{proj}_{\\vec{V}}\\left(\\vec{Z}_{i}\\right) \\cdot \\vec{V}$\n",
        "\n",
        "Both views of the dot product are entirely equivalent, but have different component elements and different basis vectors.\n",
        "\n",
        "> **For example, in physics you start with a vector field, you decompose it with respect to the covariant basis, and that's how you get the contravariant coordinates.**\n",
        "\n",
        "* For **orthonormal cartesian coordinates, the covariant and contravariant basis are identical**, since the basis set in this case is just the identity matrix.\n",
        "\n",
        "* However, for **non-affine coordinate system such as polar or spherical there is a need to distinguish between decomposition by use of contravariant or covariant basis** set for generating the components of the coordinate system."
      ]
    },
    {
      "cell_type": "markdown",
      "metadata": {
        "id": "SvSbnf6qPwbW"
      },
      "source": [
        "Covariant vector decomposition:\n",
        "\n",
        "> $\\vec{V}=V^{i} \\vec{Z}_{i}$\n",
        "\n",
        "$V^{i}$ contravariant components (ordered set of scalars)\n",
        "\n",
        "$\\vec{Z}_{i}$ covariant bases (ordered set of vectors)"
      ]
    },
    {
      "cell_type": "markdown",
      "metadata": {
        "id": "ZsW6JrNDPzt6"
      },
      "source": [
        "Contravariant vector decomposition\n",
        "\n",
        "$\\vec{V}=V_{i} \\vec{Z}^{i}$\n",
        "\n",
        "$V_{i}$ covariant components (ordered set of scalars)\n",
        "\n",
        "$\\vec{Z}^{i}$ contravariant bases (ordered set of covectors)"
      ]
    },
    {
      "cell_type": "markdown",
      "metadata": {
        "id": "WbsGhFYefeni"
      },
      "source": [
        "**Metric Tensor**"
      ]
    },
    {
      "cell_type": "markdown",
      "metadata": {
        "id": "ay4WSQYaSdya"
      },
      "source": [
        "The metric tensor represents a matrix with scalar elements $\\left(Z_{i j}\\right.$ or $Z^{i j}$ ) and is a tensor object which is used to raise or lower the index on another tensor object by an operation called\n",
        "contraction, thus allowing a covariant tensor to be converted to\n",
        "a contravariant tensor, and vice versa.\n",
        "\n",
        "Example of lowering index using metric tensor:\n",
        "\n",
        "$T_{i}=Z_{i j} T^{j}$\n",
        "\n",
        "Example of raising index using metric tensor:\n",
        "\n",
        "$T^{i}=Z^{i j} T_{j}$\n",
        "\n",
        "The metric tensor is defined as:\n",
        "\n",
        "$Z_{i j}=\\vec{Z}_{i} \\cdot \\vec{Z}_{j}$\n",
        "\n",
        "$Z^{i j}=\\vec{Z}^{i} \\cdot \\vec{Z}^{j}$"
      ]
    },
    {
      "cell_type": "markdown",
      "metadata": {
        "id": "c6v0WBxsSwkY"
      },
      "source": [
        "Two flavors of metric tensors exist: (1) the contravariant metric tensor $\\left(Z^{i j}\\right),$ and (2) the covariant metric tensor $\\left(Z_{i j}\\right.$). These two flavors of metric tensor are related by the identity:\n",
        "\n",
        "> $Z_{i k} Z^{j k}=\\delta_{i}^{j}$\n",
        "\n",
        "For an orthonormal [Cartesian coordinate system](https://en.wikipedia.org/wiki/Cartesian_coordinate_system), the metric\n",
        "tensor is just the [kronecker delta](https://en.wikipedia.org/wiki/Kronecker_delta) $\\delta_{i j}$ or $\\delta^{i j},$ which is just a tensor equivalent of the identity matrix, and $\\delta_{i j}=\\delta^{i j}=\\delta_{j}^{i}$."
      ]
    },
    {
      "cell_type": "markdown",
      "metadata": {
        "id": "xyZKbVQYff6-"
      },
      "source": [
        "**Jacobian**"
      ]
    },
    {
      "cell_type": "markdown",
      "metadata": {
        "id": "qH8gB0QUYsMU"
      },
      "source": [
        "In addition a tensor can be readily converted from an\n",
        "unbarred $(x)$ to a barred coordinate $(\\bar{x})$ system having different sets of basis vectors:\n",
        "\n",
        "> $f\\left(x^{1}, x^{2}, \\ldots, x^{n}\\right)=f\\left(x^{1}(\\bar{x}), x^{2}(\\bar{x}), \\ldots, x^{n}(\\bar{x})\\right)=\\bar{f}\\left(\\bar{x}^{1}, \\bar{x}^{2}, \\ldots, \\bar{x}^{n}\\right)=\\bar{f}\\left(\\bar{x}^{1}(x), \\bar{x}^{2}(x), \\ldots, \\bar{x}^{n}(x)\\right)$\n",
        "\n",
        "by use of Jacobian matrix relationships between the barred and unbarred coordinate system $\\left(\\bar{J}=J^{-1}\\right)$. The Jacobian between the barred and unbarred system is\n",
        "instrumental in defining the covariant and contravariant basis vectors, in that in order\n",
        "for these vectors to exist they need to satisfy the following relationship relative to the\n",
        "barred and unbarred system:"
      ]
    },
    {
      "cell_type": "markdown",
      "metadata": {
        "id": "kVRo7ERcaGFN"
      },
      "source": [
        "*Unbarred and barred basically means the old and new system respectively here. The name Unbarred comes from the bar over the $\\bar{x}$ and $\\bar{y}$.*"
      ]
    },
    {
      "cell_type": "markdown",
      "metadata": {
        "id": "9lA4KvAMY4Zv"
      },
      "source": [
        "Contravariant vectors are required to obey the laws:\n",
        "\n",
        "$v^{i}=\\bar{v}^{r} \\frac{\\partial x^{i}(\\bar{x})}{\\partial \\bar{x}^{r}}$\n",
        "\n",
        "$\\bar{v}^{i}=v^{r} \\frac{\\partial \\bar{x}^{i}(x)}{\\partial x^{r}}$\n",
        "\n",
        "Covariant vectors are required to obey the laws:\n",
        "\n",
        "$v_{i}=\\bar{v}_{r} \\frac{\\partial \\bar{x}^{i}(x)}{\\partial x^{r}}$\n",
        "\n",
        "$\\bar{v}_{i}=v_{r} \\frac{\\partial x^{r}(\\bar{x})}{\\partial \\bar{x}^{i}}$"
      ]
    },
    {
      "cell_type": "markdown",
      "metadata": {
        "id": "ihTmYeSBZyNe"
      },
      "source": [
        "There are two flavors of Jacobian matrix:\n",
        "\n",
        "1. The J matrix representing the change from unbarred to barred coordinates. To find\n",
        "J, we take the \"barred gradient\", i.e. partial derive with respect to $\\bar{x}^{i}$ :\n",
        "$J=\\bar{\\nabla} f(x(\\bar{x}))$\n",
        "\n",
        "2. The $\\bar{J}$ matrix, representing the change from barred to unbarred coordinates. To find $\\bar{J},$ we take the \"unbarred gradient\", i.e. partial derive with respect to $x^{i}$ :\n",
        "$\\bar{J}=\\nabla \\bar{f}(\\bar{x}(x))$"
      ]
    },
    {
      "cell_type": "markdown",
      "metadata": {
        "id": "uilyVl8CfilP"
      },
      "source": [
        "**Gradient Vector**"
      ]
    },
    {
      "cell_type": "markdown",
      "metadata": {
        "id": "hug2uym9flmO"
      },
      "source": [
        "Tensor calculus provides a generalization to the gradient vector formula from standard calculus **that works in all coordinate systems**:\n",
        "\n",
        "> $\\nabla F=\\nabla_{i} F \\vec{Z}^{i}$\n",
        "\n",
        "where:\n",
        "\n",
        "> $\\nabla_{i} F=\\frac{\\partial F}{\\partial Z^{i}}$\n",
        "\n",
        "* In contrast, for standard calculus, the gradient vector formula is dependent on the coordinate system in use (example: Cartesian gradient vector formula vs. the polar gradient vector formula vs. the spherical gradient vector formula, etc.). \n",
        "\n",
        "* In standard calculus, each coordinate system has its own specific formula, unlike **tensor calculus that has only one gradient formula that is equivalent for all coordinate systems**. This is made possible by an understanding of the metric tensor that tensor calculus makes use of."
      ]
    },
    {
      "cell_type": "markdown",
      "metadata": {
        "id": "A29VRuMPiw4O"
      },
      "source": [
        "**Tensorfeld**"
      ]
    },
    {
      "cell_type": "markdown",
      "metadata": {
        "id": "l1ndD9U8PSkd"
      },
      "source": [
        "* Tensorfelder sind Funktionen, **die jedem Punkt einen Tensor zuordnen** (Tensor meint in diesem Fall ein rein algebraisches Objekt)\n",
        "\n",
        "* Tensorfelder werden auf ihre analytischen Eigenschaften untersucht (zB differenziert). Man erhält durch Differenzieren eines Tensorfeldes wieder ein Tensorfeld. Tensorfelder sind besondere glatte Abbildungen, die in Tensorbündel hinein abbilden (siehe unten).\n",
        "\n",
        "* Sei $M$ eine differenzierbare Mannigfaltigkeit. Ein [Tensorfeld](https://de.wikipedia.org/wiki/Tensorfeld) vom Typ (r,s) ist ein glatter [Schnitt](https://de.m.wikipedia.org/wiki/Schnitt_(Faserbündel)) im Tensorbündel $T_{s}^{r}(M)$. \n",
        "\n",
        "  * Ein Tensorfeld ist also ein glattes Feld $M \\rightarrow T_{s}^{r}(M),$ welches jedem Punkt der Mannigfaltigkeit einen (r,s)-Tensor zuordnet. \n",
        "\n",
        "  * Die Menge der Tensorfelder wird oft mit $\\Gamma^{\\infty}\\left(T_{s}^{r}(M)\\right)$ bezeichnet."
      ]
    },
    {
      "cell_type": "markdown",
      "metadata": {
        "id": "0o6ozZvJXdHS"
      },
      "source": [
        "**Tensordichte**"
      ]
    },
    {
      "cell_type": "markdown",
      "metadata": {
        "id": "OpVQEH92Xf4m"
      },
      "source": [
        "* [Tensordichte](https://de.wikipedia.org/wiki/Tensordichte) ist die Quantitätsgröße eines Tensorfeldes (Generalisierung)\n",
        "\n",
        "* die Tensordichte ist eine **Verallgemeinerung der Tensorfelder** in der Tensoranalysis \n",
        "\n",
        "* wurde eingeführt, um den „Unterschied zwischen Quantität und Intensität, soweit er physikalische Bedeutung hat“, zu erfassen: „die Tensoren sind die Intensitäts-, die Tensordichten die Quantitätsgrößen“. \n",
        "\n",
        "* eine **Tensordichte** ordnet einem Koordinatensystem ein Tensorfeld derart zu, dass es bei einem Koordinatenwechsel mit dem Absolutbetrag der Funktionaldeterminante multipliziert wird. Eine Tensordichte der Stufe null ist demnach eine skalare Dichte, deren Integral gemäß dem Transformationssatz eine Invariante liefert."
      ]
    }
  ]
}