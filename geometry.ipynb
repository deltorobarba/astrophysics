{
  "nbformat": 4,
  "nbformat_minor": 0,
  "metadata": {
    "colab": {
      "name": "geometry.ipynb",
      "provenance": [],
      "collapsed_sections": [],
      "include_colab_link": true
    },
    "kernelspec": {
      "name": "python3",
      "display_name": "Python 3"
    }
  },
  "cells": [
    {
      "cell_type": "markdown",
      "metadata": {
        "id": "view-in-github",
        "colab_type": "text"
      },
      "source": [
        "<a href=\"https://colab.research.google.com/github/deltorobarba/machinelearning/blob/master/geometry.ipynb\" target=\"_parent\"><img src=\"https://colab.research.google.com/assets/colab-badge.svg\" alt=\"Open In Colab\"/></a>"
      ]
    },
    {
      "cell_type": "markdown",
      "metadata": {
        "id": "2Aoj2PpxvDQV",
        "colab_type": "text"
      },
      "source": [
        "# **Algebraic & Differential Geometry**"
      ]
    },
    {
      "cell_type": "code",
      "metadata": {
        "id": "1U5_6xH7tAQq",
        "colab_type": "code",
        "colab": {}
      },
      "source": [
        "import numpy as np\n",
        "import pandas as pd\n",
        "import seaborn as sns\n",
        "import matplotlib.pyplot as plt"
      ],
      "execution_count": null,
      "outputs": []
    },
    {
      "cell_type": "markdown",
      "metadata": {
        "id": "MBnjV7kSt_Kq",
        "colab_type": "text"
      },
      "source": [
        "## **Types**"
      ]
    },
    {
      "cell_type": "markdown",
      "metadata": {
        "id": "WH1AFlLSTTtL",
        "colab_type": "text"
      },
      "source": [
        "##### **Affine Geometrie**"
      ]
    },
    {
      "cell_type": "markdown",
      "metadata": {
        "id": "Mu6DmAXjTXgh",
        "colab_type": "text"
      },
      "source": [
        "##### **Synthetische Geometrie**"
      ]
    },
    {
      "cell_type": "markdown",
      "metadata": {
        "id": "j3VlPXFxTblb",
        "colab_type": "text"
      },
      "source": [
        "##### **Projektive Geometrie**"
      ]
    }
  ]
}