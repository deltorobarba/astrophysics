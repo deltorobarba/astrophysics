{
  "nbformat": 4,
  "nbformat_minor": 0,
  "metadata": {
    "colab": {
      "name": "geometry.ipynb",
      "provenance": [],
      "collapsed_sections": [
        "00B-3E6wT_WN"
      ],
      "toc_visible": true,
      "include_colab_link": true
    },
    "kernelspec": {
      "name": "python3",
      "display_name": "Python 3"
    }
  },
  "cells": [
    {
      "cell_type": "markdown",
      "metadata": {
        "id": "view-in-github",
        "colab_type": "text"
      },
      "source": [
        "<a href=\"https://colab.research.google.com/github/deltorobarba/machinelearning/blob/master/geometry.ipynb\" target=\"_parent\"><img src=\"https://colab.research.google.com/assets/colab-badge.svg\" alt=\"Open In Colab\"/></a>"
      ]
    },
    {
      "cell_type": "markdown",
      "metadata": {
        "id": "2Aoj2PpxvDQV"
      },
      "source": [
        "# **Geometry**"
      ]
    },
    {
      "cell_type": "code",
      "metadata": {
        "id": "1U5_6xH7tAQq"
      },
      "source": [
        "import numpy as np\n",
        "import pandas as pd\n",
        "import seaborn as sns\n",
        "import matplotlib.pyplot as plt"
      ],
      "execution_count": null,
      "outputs": []
    },
    {
      "cell_type": "markdown",
      "metadata": {
        "id": "Wtb90LaTtkDc"
      },
      "source": [
        "https://de.wikipedia.org/wiki/Zentralprojektion"
      ]
    },
    {
      "cell_type": "markdown",
      "metadata": {
        "id": "YZyB3LeitltB"
      },
      "source": [
        "https://de.wikipedia.org/wiki/Projektive_Geometrie"
      ]
    },
    {
      "cell_type": "markdown",
      "metadata": {
        "id": "3GpPp6oGtnkW"
      },
      "source": [
        "https://de.wikipedia.org/wiki/Synthetische_Geometrie"
      ]
    },
    {
      "cell_type": "markdown",
      "metadata": {
        "id": "DoMYUJKjttdZ"
      },
      "source": [
        "https://de.wikipedia.org/wiki/Affiner_Raum"
      ]
    },
    {
      "cell_type": "markdown",
      "metadata": {
        "id": "Xnc2jrPQtpLu"
      },
      "source": [
        "https://de.wikipedia.org/wiki/Euklidischer_Raum"
      ]
    },
    {
      "cell_type": "markdown",
      "metadata": {
        "id": "BLtY4wEoumhI"
      },
      "source": [
        "https://de.wikipedia.org/wiki/Lorentz-Transformation"
      ]
    },
    {
      "cell_type": "markdown",
      "metadata": {
        "id": "maV5cReGuom4"
      },
      "source": [
        "https://de.wikipedia.org/wiki/Minkowski-Raum"
      ]
    },
    {
      "cell_type": "markdown",
      "metadata": {
        "id": "00B-3E6wT_WN"
      },
      "source": [
        "#### **Units Vector, Circle & Sphere**"
      ]
    },
    {
      "cell_type": "markdown",
      "metadata": {
        "id": "OufqT-Z6E9fS"
      },
      "source": [
        "**Einheitsvektor (Unit Vector)**"
      ]
    },
    {
      "cell_type": "markdown",
      "metadata": {
        "id": "OMv1seK6E7fo"
      },
      "source": [
        "* Ein Vektor der Einheitssphäre heißt [Einheitsvektor](https://de.wikipedia.org/wiki/Einheitsvektor) bzw. [Unit Vector](https://en.wikipedia.org/wiki/Unit_vector). \n",
        "\n",
        "* Zu jedem Vektor $x \\neq 0$ erhält man durch Normierung $\\frac{x}{\\|x\\|}$ den zugehörigen Einheitsvektor.\n",
        "\n",
        "* Ein Einheitsvektor ist in der analytischen Geometrie ein Vektor der Länge Eins. **In der linearen Algebra und der Funktionalanalysis wird der Begriff der Länge auf allgemeine Vektorräume zum Begriff der Norm verallgemeinert**. \n",
        "\n",
        "* Ein Vektor in einem normierten Vektorraum, das heißt einem Vektorraum, auf dem eine Norm definiert ist, heißt Einheitsvektor oder normierter Vektor, **wenn seine Norm Eins beträgt** (fur euklidisch, Summennorm und Maximumsnorm??)"
      ]
    },
    {
      "cell_type": "markdown",
      "metadata": {
        "id": "fdWVU2YRYZ0t"
      },
      "source": [
        "**Einheitskreis (Unit Circle)**"
      ]
    },
    {
      "cell_type": "markdown",
      "metadata": {
        "id": "TC_GtMMcwt1e"
      },
      "source": [
        "* Der [Einheitskreis](https://de.wikipedia.org/wiki/Einheitskreis) bzw. [unit circle](https://en.wikipedia.org/wiki/Unit_circle) ist der Kreis (**im zweidimensionalen reellen Vektorraum**), dessen Radius die Länge 1 hat (Skalar $r \\in \\mathbb{K}$ mit $r>0$ ) und dessen Mittelpunkt ($x_{0} \\in V$) mit dem Koordinatenursprung eines kartesischen Koordinatensystems der Ebene übereinstimmt. \n",
        "\n",
        "* **Der Einheitskreis besteht aus den Punkten (x, y) der Ebene, für die $x^{2}+y^{2}$ = 1 gilt.** (bzw. $x_{1}^{2}$ + $x_{2}^{2}$ = 1)\n",
        "\n",
        "* In der Einheitskugel wendet man dann Betrag + Wurzel (**euklidische Norm**), oder die Summe der Beträge (**Summennorm**) oder das Maximum aller Beträge (**Maximumsnorm**) an. \n",
        "\n",
        "* Zur Normalisierung (??) siehe p-Norm: $\n",
        "\\|x\\|_{p}:=\\left(\\sum_{i=1}^{n}\\left|x_{i}\\right|^{p}\\right)^{1 / p}\n",
        "$"
      ]
    },
    {
      "cell_type": "markdown",
      "metadata": {
        "id": "tPTYbbpvYcnL"
      },
      "source": [
        "**Einheitskugel (Unit Sphere) unter verschiedenen Normen**"
      ]
    },
    {
      "cell_type": "markdown",
      "metadata": {
        "id": "jjtKryVdQp82"
      },
      "source": [
        "![xx](https://upload.wikimedia.org/wikipedia/commons/thumb/2/2c/Unit_disc_2-norm_qtl1.svg/240px-Unit_disc_2-norm_qtl1.svg.png)\n",
        "\n",
        "*Einheitskugel (rot) und -sphäre (blau) für die euklidische Norm in zwei Dimensionen* ([Source](https://de.wikipedia.org/wiki/Einheitskugel))"
      ]
    },
    {
      "cell_type": "markdown",
      "metadata": {
        "id": "IgWu5QWpYVqR"
      },
      "source": [
        "* **Wählt man in der Definition $x_{0}=0$ und $r=1,$ so nennt man die entstehenden Mengen Einheitskugel bzw. Einheitssphäre.** Das bedeutet, die [Einheitskugel](https://de.wikipedia.org/wiki/Einheitskugel) ist die Kugel mit Radius eins um den Nullpunkt eines Vektorraums. \n",
        "\n",
        "* Die Begriffe $_{n}$ Kugel\" bzw. Sphäre\" sind dabei sehr allgemein zu sehen - beispielsweise kann eine Normkugel auch Ecken und Kanten besitzen - und **fallen nur im Spezialfall der euklidischen Vektornorm mit dem aus der Geometrie bekannten Kugelbegriff zusammen**. \n",
        "\n",
        "* **Wird eine andere Norm als die euklidische Norm zur Abstandsmessung benutzt, so ist die Form des Einheitskreises im kartesischen Koordinatensystem eine andere**. Die geometrische Gestalt der Einheitskugel hängt von der gewählten Norm ab und ist nur mit der euklidischen Norm tatsächlich kugelförmig. Einheitskugeln können alternativ im $\\mathbb{R}^{n}$ bezüglich anderer Normen definiert werden.\n",
        "\n",
        "  * Der Einheitskreis fur die **euklidische Norm** ist eine Kugel. Im Falle des euklidischen Raumes $\\mathbb{R}^{n}$ definiert man die abgeschlossene Einheitskugel bezüglich der **euklidischen Norm** $\\|x\\|_{2}=\\sqrt{x_{1}^{2}+x_{2}^{2}+\\cdots+x_{n}^{2}}$ mittels $\\overline{B_{R^{n}}}:=\\left\\{x \\in \\mathbb{R}^{n}:\\|x\\|_{2} \\leq 1\\right\\}$. \n",
        "\n",
        "  * Der Einheitskreis fur die **Summennorm** ist ein Quadrat mit den Ecken (±1,0) und (0,±1). Die Einheitskugel der **Summennorm** (1-Norm) ist definiert $\\|x\\|_{1}=\\left|x_{1}\\right|+\\left|x_{2}\\right|+\\cdots+\\left|x_{n}\\right|$. \n",
        "\n",
        "  * Der Einheitskreis fur die Maximumsnorm ist ein Quadrat mit den Ecken (±1,±1). Die Einheitskugel der  **Maximumsnorm** ist definiert $\\|x\\|_{\\infty}=\\max \\left\\{\\left|x_{1}\\right|,\\left|x_{2}\\right|, \\ldots,\\left|x_{n}\\right|\\right\\} .$\n",
        "\n",
        "  * Siehe p-Norm: $\n",
        "\\|x\\|_{p}:=\\left(\\sum_{i=1}^{n}\\left|x_{i}\\right|^{p}\\right)^{1 / p}\n",
        "$\n",
        "\n",
        "* Bei der Betrachtung von [Umgebungen](https://de.wikipedia.org/wiki/Umgebung_(Mathematik)) (in Topologie) wird die Einheitskugel auch als 1-Kugel oder 1-Ball bezeichnet."
      ]
    },
    {
      "cell_type": "markdown",
      "metadata": {
        "id": "-IBw1G4RYqKN"
      },
      "source": [
        "**Normkugel bzw. Normsphäre**"
      ]
    },
    {
      "cell_type": "markdown",
      "metadata": {
        "id": "aKTnPyITYtdA"
      },
      "source": [
        "* Für einen gegebenen Vektor $x_{0} \\in V$ und einen Skalar $r \\in \\mathbb{K}$ mit $r>0$\n",
        "\n",
        "> heißt die Menge $\\left\\{x \\in V:\\left\\|x-x_{0}\\right\\|<r\\right\\}$ bzw. $\\left\\{x \\in V:\\left\\|x-x_{0}\\right\\| \\leq r\\right\\}$ [offene](https://de.wikipedia.org/wiki/Offene_Menge) bzw. [abgeschlossene](https://de.wikipedia.org/wiki/Abgeschlossene_Menge) **Normkugel** und \n",
        "\n",
        "> heißt die Menge $\\left\\{x \\in V:\\left\\|x-x_{0}\\right\\|=r\\right\\}$ heißt **Normsphäre** um $x_{0}$ mit Radius $r .$ \n",
        "\n",
        "* Jede [Normkugel](https://de.m.wikipedia.org/wiki/Norm_(Mathematik)#Normkugeln) bzw. Normsphäre **entsteht aus der entsprechenden Einheitskugel bzw. Einheitssphäre** durch Skalierung mit dem Faktor $r$ und Translation um den Vektor $x_{0}$.\n",
        "\n",
        "* **Norm = 1**: Diese [Einheitssphäre](https://de.wikipedia.org/wiki/Sphäre_(Mathematik)) (Oberflache der Kugel) ist der Rand der Einheitskugel, **im zweidimensionalen reellen Vektorraum mit der euklidischen Norm ist dies der [Einheitskreis](https://de.wikipedia.org/wiki/Einheitskreis)**. Die Einheitssphäre bildet somit den Rand der Einheitskugel.\n",
        "\n",
        "* **Norm < 1**: Die Menge der Vektoren **mit Norm kleiner als eins wird Einheitskugel des normierten Raums genannt**. Sie ist eine konvexe und zentralsymmetrische Menge, im Allgemeinen aber kein Ellipsoid, beispielsweise kann sie auch ein konvexer Polyeder sein. Die Parallelogrammgleichung ist in normierten Räumen im Allgemeinen nicht erfüllt, sie gilt aber für Vektoren in euklidischen Räumen, was daraus folgt, dass das Quadrat der euklidischen Norm eines Vektors dem Skalarprodukt mit sich selbst entspricht."
      ]
    }
  ]
}