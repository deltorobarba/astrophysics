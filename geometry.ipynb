{
  "nbformat": 4,
  "nbformat_minor": 0,
  "metadata": {
    "colab": {
      "name": "geometry.ipynb",
      "provenance": [],
      "collapsed_sections": [
        "pJsarOY4gRjI",
        "SNZ0K9xYDE5V",
        "BmiM-28bz2C6",
        "0SSy_8X9uwn9",
        "UDNzWru2eKpK",
        "k7wrFx7Nmvvi",
        "AyQ5Nu-KajRC",
        "8cZ5qO4OUyyX",
        "PqL7MmR9uT7x",
        "dLDGg7CmD4o8",
        "DGHqqXo9QU9s",
        "zLDOeHD8N2hc",
        "yPqeWSNExuG7",
        "IeI64TKxQxAp",
        "VOxeQe48mu8m",
        "64dgcd3jt5VQ",
        "bqCqDSxlgP2h",
        "DA3lQL-ZqnFB",
        "FIQ6ycWZSPfJ",
        "dR2XNAI_sjG3"
      ],
      "toc_visible": true,
      "include_colab_link": true
    },
    "kernelspec": {
      "name": "python3",
      "display_name": "Python 3"
    }
  },
  "cells": [
    {
      "cell_type": "markdown",
      "metadata": {
        "id": "view-in-github",
        "colab_type": "text"
      },
      "source": [
        "<a href=\"https://colab.research.google.com/github/deltorobarba/machinelearning/blob/master/geometry.ipynb\" target=\"_parent\"><img src=\"https://colab.research.google.com/assets/colab-badge.svg\" alt=\"Open In Colab\"/></a>"
      ]
    },
    {
      "cell_type": "markdown",
      "metadata": {
        "id": "2Aoj2PpxvDQV"
      },
      "source": [
        "# **Geometry**"
      ]
    },
    {
      "cell_type": "code",
      "metadata": {
        "id": "1U5_6xH7tAQq"
      },
      "source": [
        "import numpy as np\n",
        "import pandas as pd\n",
        "import seaborn as sns\n",
        "import matplotlib.pyplot as plt"
      ],
      "execution_count": null,
      "outputs": []
    },
    {
      "cell_type": "markdown",
      "metadata": {
        "id": "Wtb90LaTtkDc"
      },
      "source": [
        "https://de.wikipedia.org/wiki/Zentralprojektion"
      ]
    },
    {
      "cell_type": "markdown",
      "metadata": {
        "id": "YZyB3LeitltB"
      },
      "source": [
        "https://de.wikipedia.org/wiki/Projektive_Geometrie"
      ]
    },
    {
      "cell_type": "markdown",
      "metadata": {
        "id": "3GpPp6oGtnkW"
      },
      "source": [
        "https://de.wikipedia.org/wiki/Synthetische_Geometrie"
      ]
    },
    {
      "cell_type": "markdown",
      "metadata": {
        "id": "DoMYUJKjttdZ"
      },
      "source": [
        "https://de.wikipedia.org/wiki/Affiner_Raum"
      ]
    },
    {
      "cell_type": "markdown",
      "metadata": {
        "id": "Xnc2jrPQtpLu"
      },
      "source": [
        "https://de.wikipedia.org/wiki/Euklidischer_Raum"
      ]
    }
  ]
}