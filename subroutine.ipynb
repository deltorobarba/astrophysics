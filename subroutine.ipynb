{
  "nbformat": 4,
  "nbformat_minor": 0,
  "metadata": {
    "colab": {
      "name": "subroutine.ipynb",
      "provenance": [],
      "collapsed_sections": [
        "Rp6jrI0thtTL",
        "5ZDk0YKshoSM",
        "9Q78Fae5hjwf",
        "cwl0UFoge52U",
        "TiqOEUrSLR_5",
        "B3iVNXx1MFLN",
        "4uvvLxifL7Pp",
        "Fps6il5dLY5j",
        "0w9X_88LLasW",
        "BssTAKT3LgY8",
        "UT0cddzgzLqy",
        "WQ7RNLq6e-29"
      ],
      "include_colab_link": true
    },
    "kernelspec": {
      "name": "python3",
      "display_name": "Python 3"
    }
  },
  "cells": [
    {
      "cell_type": "markdown",
      "metadata": {
        "id": "view-in-github",
        "colab_type": "text"
      },
      "source": [
        "<a href=\"https://colab.research.google.com/github/deltorobarba/machinelearning/blob/master/subroutine.ipynb\" target=\"_parent\"><img src=\"https://colab.research.google.com/assets/colab-badge.svg\" alt=\"Open In Colab\"/></a>"
      ]
    },
    {
      "cell_type": "markdown",
      "metadata": {
        "id": "46nztkAR5VJE"
      },
      "source": [
        "# **Quantum Subroutines**"
      ]
    },
    {
      "cell_type": "code",
      "metadata": {
        "id": "jObfS0OgRhq6"
      },
      "source": [
        "!pip install cirq --quiet\n",
        "import cirq\n",
        "import sympy\n",
        "from cirq.contrib.svg import SVGCircuit\n",
        "import numpy as np\n",
        "import pandas as pd\n",
        "import seaborn as sns\n",
        "import matplotlib.pyplot as plt # %matplotlib inline\n",
        "print(cirq.__version__)"
      ],
      "execution_count": null,
      "outputs": []
    },
    {
      "cell_type": "markdown",
      "metadata": {
        "id": "hXuXo_qUhzLc"
      },
      "source": [
        "![ggg](https://raw.githubusercontent.com/deltorobarba/repo/master/quantum_041.JPG)"
      ]
    },
    {
      "cell_type": "markdown",
      "metadata": {
        "id": "Rp6jrI0thtTL"
      },
      "source": [
        "#### **Quantum Fourier Transform**"
      ]
    },
    {
      "cell_type": "markdown",
      "metadata": {
        "id": "7mbLlEbFgAZs"
      },
      "source": [
        "###### <font color=\"blue\">**Overview**"
      ]
    },
    {
      "cell_type": "markdown",
      "metadata": {
        "id": "5zGl2AZy0U6y"
      },
      "source": [
        "> **Quantum Fourier Transform is the change from one basis (computational) to another (Fourier basis) - [Quantum Fourier Transform is the inverse Discrete Fourier Transform]**"
      ]
    },
    {
      "cell_type": "markdown",
      "metadata": {
        "id": "pZDS9weZ9O67"
      },
      "source": [
        "https://jonathan-hui.medium.com/qc-quantum-fourier-transform-45436f90a43"
      ]
    },
    {
      "cell_type": "markdown",
      "metadata": {
        "id": "aNfJr0RePpZW"
      },
      "source": [
        "https://qiskit.org/textbook/ch-algorithms/quantum-fourier-transform.html"
      ]
    },
    {
      "cell_type": "markdown",
      "metadata": {
        "id": "fCwQAKLTTOfM"
      },
      "source": [
        "https://prod-edxapp.edx-cdn.org/assets/courseware/v1/8f101da9d14cfeec83df9e42a70562bf/c4x/BerkeleyX/CS-191x/asset/chap5.pdf"
      ]
    },
    {
      "cell_type": "markdown",
      "metadata": {
        "id": "7ipOz4xfYR7f"
      },
      "source": [
        "* Blog Post: https://jonathan-hui.medium.com/qc-quantum-fourier-transform-45436f90a43\n",
        "\n",
        "* Qiskit: https://qiskit.org/textbook/ch-algorithms/quantum-fourier-transform.html\n",
        "\n",
        "* Cirq: https://quantumai.google/cirq/tutorials/educators/textbook_algorithms\n",
        "\n",
        "* Youtube: https://youtu.be/rRblvBZkz7A\n",
        "\n",
        "* IBM Youtube: https://youtu.be/mAHC1dWKNYE\n",
        "\n",
        "* Classical Discrete Fourier Transform : https://en.m.wikipedia.org/wiki/Discrete_Fourier_transform\n",
        "\n",
        "* https://physics.stackexchange.com/questions/219581/how-quantum-fourier-transform-equal-to-hadamard-transform-on-4-by-4-matrix\n",
        "\n",
        "* https://physics.stackexchange.com/questions/56510/how-to-write-the-matrices-for-hadamard-gates-acting-on-differen-qubits?rq=1"
      ]
    },
    {
      "cell_type": "markdown",
      "metadata": {
        "id": "ATRazkgUWDMc"
      },
      "source": [
        "* the [quantum Fourier transform](https://en.m.wikipedia.org/wiki/Quantum_Fourier_transform) (for short: QFT) is a linear transformation on quantum bits, and is the quantum analogue of the inverse discrete Fourier transform.\n",
        "\n",
        "> The quantum Fourier transform is the classical discrete Fourier transform applied to the vector of amplitudes of a quantum state\n",
        "\n",
        "* The quantum Fourier transform is a part of many quantum algorithms, notably Shor's algorithm for factoring and computing the discrete logarithm, the quantum phase estimation algorithm for estimating the eigenvalues of a unitary operator, and algorithms for the hidden subgroup problem. \n",
        "\n",
        "* The quantum Fourier transform was invented by Don Coppersmith.\n",
        "\n",
        "* The quantum Fourier transform can be performed efficiently on a quantum computer, with a particular decomposition into a product of simpler unitary matrices. \n",
        "\n",
        "* However, the quantum Fourier transform acts on a quantum state, whereas the classical Fourier transform acts on a vector, so not every task that uses the classical Fourier transform can take advantage of this exponential speedup."
      ]
    },
    {
      "cell_type": "markdown",
      "metadata": {
        "id": "d7o0zqlNE2GS"
      },
      "source": [
        "**Prerequisite (Update)**"
      ]
    },
    {
      "cell_type": "markdown",
      "metadata": {
        "id": "pjpCeYCKp8vb"
      },
      "source": [
        "![ggg](https://raw.githubusercontent.com/deltorobarba/repo/master/quantum_046.png)"
      ]
    },
    {
      "cell_type": "markdown",
      "metadata": {
        "id": "eLwk5kVIqSPq"
      },
      "source": [
        "**Formula for Quantum Fourier Transform:**"
      ]
    },
    {
      "cell_type": "markdown",
      "metadata": {
        "id": "Au75iji5p-ny"
      },
      "source": [
        "![ggg](https://raw.githubusercontent.com/deltorobarba/repo/master/quantum_047.png)"
      ]
    },
    {
      "cell_type": "markdown",
      "metadata": {
        "id": "ElE7SA05X5sL"
      },
      "source": [
        "So the QFT can be implemented with a series of the controlled-R gate as below:\n",
        "\n",
        "![ggg](https://raw.githubusercontent.com/deltorobarba/repo/master/quantum_041.JPG)"
      ]
    },
    {
      "cell_type": "markdown",
      "metadata": {
        "id": "Fu2VPPLHXubR"
      },
      "source": [
        "A controlled-R quantum gate applies a relative phase change to |1>. The matrix form of this operator is:\n",
        "\n",
        "> $\\hat{R}_{k}=\\left(\\begin{array}{cc}1 & 0 \\\\ 0 & e^{2 \\pi i / 2^{k}}\\end{array}\\right)$\n",
        "\n",
        "Please note that $e^{2 \\pi i}$ = 1"
      ]
    },
    {
      "cell_type": "markdown",
      "metadata": {
        "id": "GNZs9Z41uDwI"
      },
      "source": [
        "y ist fur die computational states, und n=4 zB ist dann 100 der computation state in binary form"
      ]
    },
    {
      "cell_type": "markdown",
      "metadata": {
        "id": "eHsiTy9AdD3w"
      },
      "source": [
        "y = 0 oder 1. bei 0 verschwindet der ganze term"
      ]
    },
    {
      "cell_type": "markdown",
      "metadata": {
        "id": "YfTVXA3KdxrA"
      },
      "source": [
        "**Quantum Fourier Transform: Compactify for Circuit Representation**"
      ]
    },
    {
      "cell_type": "markdown",
      "metadata": {
        "id": "n3WzmRpH7pQQ"
      },
      "source": [
        "https://www.youtube.com/watch?v=mAHC1dWKNYE"
      ]
    },
    {
      "cell_type": "markdown",
      "metadata": {
        "id": "Z5s9m0mxshhD"
      },
      "source": [
        "**Notationshinweise:**"
      ]
    },
    {
      "cell_type": "markdown",
      "metadata": {
        "id": "F0x0xV_1s0_s"
      },
      "source": [
        "4 ist: 100, 3 ist 11 etc."
      ]
    },
    {
      "cell_type": "markdown",
      "metadata": {
        "id": "6_v07tBCszMN"
      },
      "source": [
        "![ggg](https://raw.githubusercontent.com/deltorobarba/repo/master/quantum_048.png)"
      ]
    },
    {
      "cell_type": "markdown",
      "metadata": {
        "id": "KfnBk0GW8e-x"
      },
      "source": [
        "**Compactify** writing y (note on top how N in the denominator cancels out with new way of writing y)"
      ]
    },
    {
      "cell_type": "markdown",
      "metadata": {
        "id": "REQZzRzz9WlW"
      },
      "source": [
        "Problem: this notation doesn't say much on how to build the quantum circuit:\n",
        "\n",
        "> $\\frac{1}{\\sqrt{N}} \\sum_{y=0}^{N-1} e^{\\frac{2 \\pi i x y}{N}}|y\\rangle$\n"
      ]
    },
    {
      "cell_type": "markdown",
      "metadata": {
        "id": "kh2L8go696PF"
      },
      "source": [
        "![ggg](https://raw.githubusercontent.com/deltorobarba/repo/master/quantum_047.png)"
      ]
    },
    {
      "cell_type": "markdown",
      "metadata": {
        "id": "XzSQjBim98a4"
      },
      "source": [
        "We need a bit of manipulation y:"
      ]
    },
    {
      "cell_type": "markdown",
      "metadata": {
        "id": "TarOBBgo8dZL"
      },
      "source": [
        "![ggg](https://raw.githubusercontent.com/deltorobarba/repo/master/quantum_054.png)"
      ]
    },
    {
      "cell_type": "markdown",
      "metadata": {
        "id": "6SyZdgUf_qPK"
      },
      "source": [
        "https://www.youtube.com/watch?v=pq2jkfJlLmY&t=1784s"
      ]
    },
    {
      "cell_type": "markdown",
      "metadata": {
        "id": "jtLzXV7n-NDj"
      },
      "source": [
        "So, aus \n",
        "\n",
        "<font color=\"red\"> $|\\tilde{x}\\rangle = \\frac{1}{\\sqrt{N}} \\sum_{y=0}^{N-1} e^{\\frac{2 \\pi i x y}{N}}|y\\rangle$ \n",
        "\n",
        "wird dann: \n",
        "\n",
        "<font color=\"blue\"> $|\\tilde{x}\\rangle = \\frac{1}{\\sqrt{N}} \\sum_{y=0}^{N-1} e^{\\frac{2 \\pi i \\sum_{k=1}^{n} y^{k}}{2^k}}|y_1,y_2,..y_n\\rangle$ \n",
        "\n",
        "bzw.:\n",
        "\n",
        "<font color=\"blue\"> $=\\frac{1}{\\sqrt{N}} \\sum_{y=0}^{N-1} \\prod_{k=1}^{n} e^{\\frac{2 \\pi i x y k}{2^k}}|y_1,y_2,..y_n\\rangle$ \n"
      ]
    },
    {
      "cell_type": "markdown",
      "metadata": {
        "id": "TNu3a97ODZ_b"
      },
      "source": [
        "Doing this for $y_1$ and $y_2$ etc, here you can build a circuit from (and without the fraction it looks like a Hadamard transform):"
      ]
    },
    {
      "cell_type": "markdown",
      "metadata": {
        "id": "Afirc5ZmEBrX"
      },
      "source": [
        "![ggg](https://raw.githubusercontent.com/deltorobarba/repo/master/quantum_055.png)"
      ]
    },
    {
      "cell_type": "markdown",
      "metadata": {
        "id": "MKjUppZDEdVl"
      },
      "source": [
        "Now you can see it boils down to the different phases when you transform from the computational basis to the Fourier basis: (the question is only how do you apply those phases in the circuit?)"
      ]
    },
    {
      "cell_type": "markdown",
      "metadata": {
        "id": "Qc-aA6G4EpOC"
      },
      "source": [
        "![ggg](https://raw.githubusercontent.com/deltorobarba/repo/master/quantum_056.png)"
      ]
    },
    {
      "cell_type": "markdown",
      "metadata": {
        "id": "uhY9-cBcFlTd"
      },
      "source": [
        "Here with a concrete example:"
      ]
    },
    {
      "cell_type": "markdown",
      "metadata": {
        "id": "sFar4z6cFkAP"
      },
      "source": [
        "![ggg](https://raw.githubusercontent.com/deltorobarba/repo/master/quantum_057.png)"
      ]
    },
    {
      "cell_type": "markdown",
      "metadata": {
        "id": "ZaBg4IJ_n18k"
      },
      "source": [
        "* $e^{\\frac{2*\\pi*i*5}{2}}$ ist -1 =(e^((2*pi*i*5)/2))\n",
        "\n",
        "* (e^((2*pi*i*5)/4)) = i\n",
        "\n",
        "* =(e^((2*pi*i*5)/8)) = -0,707106781 - 0,707106781 i"
      ]
    },
    {
      "cell_type": "markdown",
      "metadata": {
        "id": "yG6ersF-nHgk"
      },
      "source": [
        "> =(e^((2*pi*i*5)/2)) gibt hierbei den Azimut an (Horizontale Phase), und (1/√ 8) die Höhe (fur Probability) ???"
      ]
    },
    {
      "cell_type": "markdown",
      "metadata": {
        "id": "OA5BJ16Al6Jm"
      },
      "source": [
        "Going back to the 1 Qubit case with the formula above:\n",
        "\n",
        "* =(e^((2*pi*i*1)/2)) = -1\n",
        "\n",
        "* =(e^((2*pi*i*2)/2)) = 1\n",
        "\n",
        "Siehe hier das Ergebnis (mit der unmodifizierten, alten Formel):"
      ]
    },
    {
      "cell_type": "markdown",
      "metadata": {
        "id": "2qIXmH2umkJL"
      },
      "source": [
        "![ddd](https://raw.githubusercontent.com/deltorobarba/repo/master/quantum_045.png)"
      ]
    },
    {
      "cell_type": "markdown",
      "metadata": {
        "id": "ruSnVepASrMB"
      },
      "source": [
        "**Observations before creating the QFT circuit**"
      ]
    },
    {
      "cell_type": "markdown",
      "metadata": {
        "id": "HpqwwZO5Sv09"
      },
      "source": [
        "First see the notation whenever there is a 1 with a phase. Please note the $2^{n-1 etc.}$ used before for each one:"
      ]
    },
    {
      "cell_type": "markdown",
      "metadata": {
        "id": "XFwk9kj9R1Vr"
      },
      "source": [
        "![ggg](https://raw.githubusercontent.com/deltorobarba/repo/master/quantum_062.jpg)"
      ]
    },
    {
      "cell_type": "markdown",
      "metadata": {
        "id": "QY1JwfwCSOa_"
      },
      "source": [
        "*Second observation: under (2) you can see the phase state of |1111>, which you can rewrite with the product of $e^{2 \\pi i[...]}$*"
      ]
    },
    {
      "cell_type": "markdown",
      "metadata": {
        "id": "ET2yQbjPR5e9"
      },
      "source": [
        "![ggg](https://raw.githubusercontent.com/deltorobarba/repo/master/quantum_063.jpg)"
      ]
    },
    {
      "cell_type": "markdown",
      "metadata": {
        "id": "dVRMr8_2R-0Z"
      },
      "source": [
        "**So what do you need to construct a QFT circuit?**"
      ]
    },
    {
      "cell_type": "markdown",
      "metadata": {
        "id": "3gOVJtKqSD8c"
      },
      "source": [
        "*First a Hamadard, which you can write in the notation below, making Hadamard looking similar to QFT: (please note that one normalization is missing at the last term)*"
      ]
    },
    {
      "cell_type": "markdown",
      "metadata": {
        "id": "_RZPfgX-RwP4"
      },
      "source": [
        "![ggg](https://raw.githubusercontent.com/deltorobarba/repo/master/quantum_061.jpg)"
      ]
    },
    {
      "cell_type": "markdown",
      "metadata": {
        "id": "fez8RD-nUV14"
      },
      "source": [
        "*UROT is applying a phase (a unitary rotation)*"
      ]
    },
    {
      "cell_type": "markdown",
      "metadata": {
        "id": "GeQ68EDtVa5K"
      },
      "source": [
        "![ggg](https://raw.githubusercontent.com/deltorobarba/repo/master/quantum_064.jpg)"
      ]
    },
    {
      "cell_type": "markdown",
      "metadata": {
        "id": "ptDQBAkVXYMW"
      },
      "source": [
        "**Creating the QFT circuit**"
      ]
    },
    {
      "cell_type": "markdown",
      "metadata": {
        "id": "1r-qm4OBXcMs"
      },
      "source": [
        "*This is what you need only to create x1:*"
      ]
    },
    {
      "cell_type": "markdown",
      "metadata": {
        "id": "9nLkqgShXa_Y"
      },
      "source": [
        "![ggg](https://raw.githubusercontent.com/deltorobarba/repo/master/quantum_065.jpg)"
      ]
    },
    {
      "cell_type": "markdown",
      "metadata": {
        "id": "FE6XFNKuXoN5"
      },
      "source": [
        "*And this series of gates gives you exactly the terms that you get here (see black arrow). The expression $\\frac{x}{2^n}$ (=$\\theta$ as we will see later in quantum phase estimation). All of the rotations are applying different phases on to the first qubit.*"
      ]
    },
    {
      "cell_type": "markdown",
      "metadata": {
        "id": "8wRf6l3BYJU7"
      },
      "source": [
        "![ggg](https://raw.githubusercontent.com/deltorobarba/repo/master/quantum_066.jpg)"
      ]
    },
    {
      "cell_type": "markdown",
      "metadata": {
        "id": "tHba8THd2ZRF"
      },
      "source": [
        "**Komplettes Circuit**"
      ]
    },
    {
      "cell_type": "markdown",
      "metadata": {
        "id": "I18eE4Pt2Xs7"
      },
      "source": [
        "![ggg](https://raw.githubusercontent.com/deltorobarba/repo/master/quantum_067.png)"
      ]
    },
    {
      "cell_type": "markdown",
      "metadata": {
        "id": "M0nFi24F2vGz"
      },
      "source": [
        "![ggg](https://raw.githubusercontent.com/deltorobarba/repo/master/quantum_068.png)"
      ]
    },
    {
      "cell_type": "markdown",
      "metadata": {
        "id": "pq1iWq1zdZ34"
      },
      "source": [
        "###### **Quantum Fourier Transform with 1 Qubit**"
      ]
    },
    {
      "cell_type": "markdown",
      "metadata": {
        "id": "ZjobOe_PEVSo"
      },
      "source": [
        "**QFT**\n",
        "\n",
        "> <font color=\"blue\">$e^{2\\pi i}$ = 1\n",
        "\n",
        "> In QFT we change the phase <font color=\"blue\">$\\theta$ in $e^{2\\pi i \\theta}$</font> (=Eigenvalue of Oracle function $U$ associated with an eigenvector |u⟩)\n",
        "\n",
        "> Phase <font color=\"blue\">$\\theta$ is $\\frac{x_n}{2^{k}}$ with $x_n$ 0 or 1</font> state and $k$ number of Qubits.\n",
        "\n",
        "A controlled-R quantum gate applies a relative phase change to |1>. \n",
        "\n",
        "> The matrix form of this operator is: <font color=\"blue\">$\\hat{R}_{k}=\\left(\\begin{array}{cc}1 & 0 \\\\ 0 & e^{2 \\pi i / 2^{k}}\\end{array}\\right)$"
      ]
    },
    {
      "cell_type": "markdown",
      "metadata": {
        "id": "1LoC1Ai1lpif"
      },
      "source": [
        "**For n = 1 Qubit:**\n",
        "\n",
        "> <font color=\"blue\">$\\tilde{x_1}$ = $\\frac{1}{\\sqrt{2}}\\left(|0\\rangle+\\mathrm{e}^{2 \\pi \\mathrm{i}\\left(\\frac{x_1}{2^{n_{x_1}}}\\right)}|1\\rangle\\right)$</font> = $\\frac{1}{\\sqrt{2}}\\left(|0\\rangle+\\mathrm{e}^{2 \\pi \\mathrm{i}\\left(\\frac{x_1}{2^1}\\right)}|1\\rangle\\right)$ \n",
        "\n",
        "* <font color=\"blue\">Für x = 0 $\\Rightarrow$ $\\tilde{x_1}$</font> = $\\frac{1}{\\sqrt{2}}\\left(|0\\rangle+\\mathrm{e}^{2 \\pi \\mathrm{i}\\left(\\frac{x_1}{2^1}\\right)}|1\\rangle\\right)$  = $\\mathrm{e}^{2 \\pi \\mathrm{i}\\left(\\frac{0}{2}\\right)}$ = $\\mathrm{e}^{2 \\pi \\mathrm{i} 0}$  = $\\mathrm{e}^{0}$ = 1 (no rotation away from original H superposition)\n",
        "\n",
        "* <font color=\"blue\">Für x = 1 $\\Rightarrow$ $\\tilde{x_1}$</font> = $\\frac{1}{\\sqrt{2}}\\left(|0\\rangle+\\mathrm{e}^{2 \\pi \\mathrm{i}\\left(\\frac{x_1}{2^1}\\right)}|1\\rangle\\right)$ = $\\mathrm{e}^{2 \\pi \\mathrm{i}\\left(\\frac{1}{2}\\right)}$ = $\\mathrm{e}^{\\pi \\mathrm{i}}$ = Z-Rotation aus -1"
      ]
    },
    {
      "cell_type": "markdown",
      "metadata": {
        "id": "x5kWr5Au0Rf-"
      },
      "source": [
        "**1 Qubit QFT that does this? - Hadamard gate:**"
      ]
    },
    {
      "cell_type": "markdown",
      "metadata": {
        "id": "Apm_2RVZrUTD"
      },
      "source": [
        "**One qubit QFT matrix**: $\\frac{1}{\\sqrt{2}}\\left(\\begin{array}{ll}1 & 1 \\\\ 1 & \\mathrm{e}^{\\pi i}\\end{array}\\right)$, where $\\mathrm{e}^{\\pi \\mathrm{i}}$ = -1. So it is: <font color=\"blue\"> QFT für x=1 = $\\frac{1}{\\sqrt{2}}\\left(\\begin{array}{ll}1 & 1 \\\\ 1 & -1\\end{array}\\right)$\n",
        "\n",
        "**Compare with Hadamard transform matrix:** \n",
        "\n",
        "In quantum computing, the Hadamard gate is a one-qubit rotation, mapping the qubitbasis states $|0\\rangle$ and $|1\\rangle$ to two **superposition** states with **equal weight of the computational basis** states $|0\\rangle$ and $|1\\rangle$. Usually the phases are chosen so that\n",
        "\n",
        ">$\n",
        "H=\\frac{|0\\rangle+|1\\rangle}{\\sqrt{2}}\\langle 0|+\\frac{|0\\rangle-|1\\rangle}{\\sqrt{2}}\\langle 1|\n",
        "$\n",
        "\n",
        "in Dirac notation. This corresponds to the transformation matrix\n",
        "\n",
        "> <font color=\"blue\">$\n",
        "H_{1}=\\frac{1}{\\sqrt{2}}\\left(\\begin{array}{cc}\n",
        "1 & 1 \\\\\n",
        "1 & -1\n",
        "\\end{array}\\right)\n",
        "$\n",
        "\n",
        "in the $|0\\rangle,|1\\rangle$ basis, also known as the computational basis. The states $\\frac{|0\\rangle+|1\\rangle}{\\sqrt{2}}$ and $\\frac{|0\\rangle-|1\\rangle}{\\sqrt{2}}$ are known as $|+\\rangle$ and $|-\\rangle$ respectively, and together constitute the polar basis in quantum computing."
      ]
    },
    {
      "cell_type": "markdown",
      "metadata": {
        "id": "hWPlZI5_0GFZ"
      },
      "source": [
        "![ggg](https://raw.githubusercontent.com/deltorobarba/repo/master/quantum_049.png)"
      ]
    },
    {
      "cell_type": "markdown",
      "metadata": {
        "id": "5DTee1BBuWBb"
      },
      "source": [
        "Follow and try movement here for 0: H Gate. For 1: X gate followed bz H gate:\n",
        "\n",
        "* https://javafxpert.github.io/grok-bloch/\n",
        "\n",
        "* https://www.st-andrews.ac.uk/physics/quvis/simulations_html5/sims/blochsphere/blochsphere.html"
      ]
    },
    {
      "cell_type": "markdown",
      "metadata": {
        "id": "i83SjI5NV8vq"
      },
      "source": [
        "![ggg](https://raw.githubusercontent.com/deltorobarba/repo/master/quantum_073.jpg)\n",
        "\n",
        "https://demonstrations.wolfram.com/QuantumFourierTransformCircuit/"
      ]
    },
    {
      "cell_type": "markdown",
      "metadata": {
        "id": "-LpKkI-GcJEl"
      },
      "source": [
        "Reminder: QFT Formel:\n",
        "\n",
        "![ggg](https://raw.githubusercontent.com/deltorobarba/repo/master/quantum_047.png)"
      ]
    },
    {
      "cell_type": "markdown",
      "metadata": {
        "id": "kaeJVJrb2EFU"
      },
      "source": [
        "**Why Hadamard transform is exactly a 1 qubit Quantum Fourier Transform:** (see result of + for 0 state and - for 1 state)"
      ]
    },
    {
      "cell_type": "markdown",
      "metadata": {
        "id": "kxOMDIlC2Cwx"
      },
      "source": [
        "![ggg](https://raw.githubusercontent.com/deltorobarba/repo/master/quantum_045.png)"
      ]
    },
    {
      "cell_type": "markdown",
      "metadata": {
        "id": "8u4NwBOOwNgn"
      },
      "source": [
        "Siehe oben unter 'Mathermatik\": Matrix-Vector-Multiplication (Single Qubit)\n",
        "\n",
        "> <font color=\"blue\">$H |0\\rangle$</font> $ = \\frac{1}{\\sqrt{2}}\\left(\\begin{array}{cc}1 & 1 \\\\ 1 & -1\\end{array}\\right)\\left[\\begin{array}{l}1 \\\\ 0\\end{array}\\right] =\\frac{1}{\\sqrt{2}}\\left[\\begin{array}{c}1 \\\\ 1\\end{array}\\right]$ <font color=\"blue\">$ \\,\\,= |+\\rangle$ = $\\frac{1}{\\sqrt{2}}(|0\\rangle+|1\\rangle)$\n",
        "\n",
        "> <font color=\"blue\">$H |1\\rangle$</font>$ = \\frac{1}{\\sqrt{2}}\\left(\\begin{array}{cc}1 & 1 \\\\ 1 & -1\\end{array}\\right)\\left[\\begin{array}{l}0 \\\\ 1\\end{array}\\right]=\\frac{1}{\\sqrt{2}}\\left[\\begin{array}{c}1 \\\\ -1\\end{array}\\right]$ <font color=\"blue\">$ = |-\\rangle$ = $\\frac{1}{\\sqrt{2}}(|0\\rangle-|1\\rangle)$\n",
        "\n",
        "$|+\\rangle=\\frac{1}{\\sqrt{2}}(|0\\rangle+|1\\rangle)$ weil <font color=\"gray\">wegen $|0\\rangle=\\left[\\begin{array}{l}1 \\\\ 0\\end{array}\\right]$ und $|1\\rangle=\\left[\\begin{array}{l}0 \\\\ 1\\end{array}\\right]$ daher:</font> $\\frac{1}{\\sqrt{2}}\\left[\\begin{array}{ll}1 + 0 \\\\ 0 + 1\\end{array}\\right]=\\frac{1}{\\sqrt{2}}\\left[\\begin{array}{c}1 \\\\ 1\\end{array}\\right]$\n",
        "\n",
        "$|-\\rangle=\\frac{1}{\\sqrt{2}}(|0\\rangle-|1\\rangle)$ weil: $\\frac{1}{\\sqrt{2}}\\left[\\begin{array}{ll}1 - 0 \\\\ 0 - 1\\end{array}\\right]=\\frac{1}{\\sqrt{2}}\\left[\\begin{array}{c}1 \\\\ -1\\end{array}\\right]$"
      ]
    },
    {
      "cell_type": "markdown",
      "metadata": {
        "id": "LxcZhaiAdcXr"
      },
      "source": [
        "2 im denominator verschwindet hier. 2^n für n=1 qubit. mit 2 oben und unten verschwinden beide."
      ]
    },
    {
      "cell_type": "markdown",
      "metadata": {
        "id": "oB_uPKNk3k-L"
      },
      "source": [
        "###### **Quantum Fourier Transform with 2 Qubits**"
      ]
    },
    {
      "cell_type": "markdown",
      "metadata": {
        "id": "gQPMbMPuET0l"
      },
      "source": [
        "**QFT**\n",
        "\n",
        "> <font color=\"blue\">$e^{2\\pi i}$ = 1\n",
        "\n",
        "> In QFT we change the phase <font color=\"blue\">$\\theta$ in $e^{2\\pi i \\theta}$</font> (=Eigenvalue of Oracle function $U$ associated with an eigenvector |u⟩)\n",
        "\n",
        "> Phase <font color=\"blue\">$\\theta$ is $\\frac{x_n}{2^{k}}$ with $x_n$ 0 or 1</font> state and $k$ number of Qubits.\n",
        "\n",
        "A controlled-R quantum gate applies a relative phase change to |1>. \n",
        "\n",
        "> The matrix form of this operator is: <font color=\"blue\">$\\hat{R}_{k}=\\left(\\begin{array}{cc}1 & 0 \\\\ 0 & e^{2 \\pi i / 2^{k}}\\end{array}\\right)$"
      ]
    },
    {
      "cell_type": "markdown",
      "metadata": {
        "id": "n7ik6JdGSWHl"
      },
      "source": [
        "**For n = 2 Qubits. Results for: $x_1$ = 0 oder 1, $x_2$ = 0 oder 1**\n",
        "\n",
        "> <font color=\"blue\">$\\tilde{x_1}$ = $\\frac{1}{\\sqrt{2}}\\left(|0\\rangle+\\mathrm{e}^{2 \\pi \\mathrm{i}\\left(\\frac{x_1}{2^{n_{x_1}}}+\\frac{x_2}{2^{n_{x_2}}}\\right)}|1\\rangle\\right)$</font> = $\\frac{1}{\\sqrt{2}}\\left(|0\\rangle+\\mathrm{e}^{2 \\pi \\mathrm{i}\\left(\\frac{x_1}{2^1}+\\frac{x_2}{2^2}\\right)}|1\\rangle\\right)$ = $\\frac{1}{\\sqrt{2}}\\left(|0\\rangle+\\mathrm{e}^{2 \\pi \\mathrm{i}\\left(\\frac{x_1}{2}+\\frac{x_2}{4}\\right)}|1\\rangle\\right)$\n",
        "\n",
        "* Falls nur $\\tilde{x_1}$ aktiviert, dann ist es eine Z-Rotation im Wert von $\\pi$ = -1\n",
        "\n",
        "* Falls nur $\\tilde{x_2}$ aktiviert, dann ist es eine S-Rotation im Wert von $\\frac{\\pi}{2}$ = i\n",
        "\n",
        "* Falls beide $\\tilde{x_1}$ und $\\tilde{x_2}$ aktiviert, dann ist es eine Rotation $\\pi$ + $\\frac{\\pi}{2}$, also -i.\n",
        "\n",
        "> <font color=\"blue\">$\\tilde{x_2}$ = $\\frac{1}{\\sqrt{2}}\\left(|0\\rangle+\\mathrm{e}^{2 \\pi \\mathrm{i}\\left(\\frac{x_2}{2^{n_{x_1}}}\\right)}|1\\rangle\\right)$</font> = $\\frac{1}{\\sqrt{2}}\\left(|0\\rangle+\\mathrm{e}^{2 \\pi \\mathrm{i}\\left(\\frac{x_2}{2^1}\\right)}|1\\rangle\\right)$ = $\\frac{1}{\\sqrt{2}}\\left(|0\\rangle+\\mathrm{e}^{\\pi \\mathrm{i}x_2}|1\\rangle\\right)$\n",
        "\n",
        "* Falls aktiviert, dann ist $\\tilde{x_2}$ immer eine Z-Rotation im Wert von $\\pi$.\n"
      ]
    },
    {
      "cell_type": "markdown",
      "metadata": {
        "id": "4NKKRccWV942"
      },
      "source": [
        "![ggg](https://raw.githubusercontent.com/deltorobarba/repo/master/quantum_074.jpg)"
      ]
    },
    {
      "cell_type": "markdown",
      "metadata": {
        "id": "CrAP7muZY6PM"
      },
      "source": [
        "*Results for 0: $x_1$ = 0, $x_2$ = 0*\n",
        "\n",
        "* <font color=\"blue\">$\\tilde{x_1}$ =</font> $\\frac{1}{\\sqrt{2}}\\left(|0\\rangle+\\mathrm{e}^{2 \\pi \\mathrm{i}\\left(\\frac{x_1}{2}+\\frac{x_2}{4}\\right)}|1\\rangle\\right)$ = $\\frac{1}{\\sqrt{2}}\\left(|0\\rangle+\\mathrm{e}^{2 \\pi \\mathrm{i}\\left(\\frac{0}{2}+\\frac{0}{4}\\right)}|1\\rangle\\right)$  = $\\mathrm{e}^{2 \\pi \\mathrm{i} 0}$ = $\\mathrm{e}^{0}$ = 1 (no rotation away from original H superposition)\n",
        "\n",
        "* <font color=\"blue\">$\\tilde{x_2}$ = </font>$\\frac{1}{\\sqrt{2}}\\left(|0\\rangle+\\mathrm{e}^{\\pi \\mathrm{i}x_2}|1\\rangle\\right)$ = $\\frac{1}{\\sqrt{2}}\\left(|0\\rangle+\\mathrm{e}^{\\pi \\mathrm{i}0}|1\\rangle\\right)$ = $\\mathrm{e}^{0}$ = 1 (no rotation away from original H superposition)"
      ]
    },
    {
      "cell_type": "markdown",
      "metadata": {
        "id": "-GjFcdiVaHnK"
      },
      "source": [
        "*Results for 1: $x_1$ = 0, $x_2$ = 1*\n",
        "\n",
        "* <font color=\"blue\">$\\tilde{x_1}$ =</font> $\\frac{1}{\\sqrt{2}}\\left(|0\\rangle+\\mathrm{e}^{2 \\pi \\mathrm{i}\\left(\\frac{x_1}{2}+\\frac{x_2}{4}\\right)}|1\\rangle\\right)$ = $\\frac{1}{\\sqrt{2}}\\left(|0\\rangle+\\mathrm{e}^{2 \\pi \\mathrm{i}\\left(\\frac{0}{2}+\\frac{1}{4}\\right)}|1\\rangle\\right)$ = $\\mathrm{e}^{2 \\pi \\mathrm{i}\\left(\\frac{1}{4}\\right)}$  = $\\mathrm{e}^{\\frac{\\pi }{2}\\mathrm{i}}$ Rotation = i\n",
        "\n",
        "* <font color=\"blue\">$\\tilde{x_2}$ = </font>$\\frac{1}{\\sqrt{2}}\\left(|0\\rangle+\\mathrm{e}^{\\pi \\mathrm{i}x_2}|1\\rangle\\right)$ = $\\frac{1}{\\sqrt{2}}\\left(|0\\rangle+\\mathrm{e}^{\\pi \\mathrm{i}1}|1\\rangle\\right)$ = $\\mathrm{e}^{\\pi \\mathrm{i}}$ Rotation = -1"
      ]
    },
    {
      "cell_type": "markdown",
      "metadata": {
        "id": "z7kKULRCbwEm"
      },
      "source": [
        "*Results for 2: $x_1$ = 1, $x_2$ = 0*\n",
        "\n",
        "* <font color=\"blue\">$\\tilde{x_1}$ =</font> $\\frac{1}{\\sqrt{2}}\\left(|0\\rangle+\\mathrm{e}^{2 \\pi \\mathrm{i}\\left(\\frac{x_1}{2}+\\frac{x_2}{4}\\right)}|1\\rangle\\right)$ = $\\frac{1}{\\sqrt{2}}\\left(|0\\rangle+\\mathrm{e}^{2 \\pi \\mathrm{i}\\left(\\frac{1}{2}+\\frac{0}{4}\\right)}|1\\rangle\\right)$ = $\\mathrm{e}^{2 \\pi \\mathrm{i}\\left(\\frac{1}{2}\\right)}$  = $\\mathrm{e}^{\\pi \\mathrm{i}}$ Rotation = -1\n",
        "\n",
        "* <font color=\"blue\">$\\tilde{x_2}$ = </font>$\\frac{1}{\\sqrt{2}}\\left(|0\\rangle+\\mathrm{e}^{\\pi \\mathrm{i}x_2}|1\\rangle\\right)$ = $\\frac{1}{\\sqrt{2}}\\left(|0\\rangle+\\mathrm{e}^{\\pi \\mathrm{i}1}|1\\rangle\\right)$ = $\\mathrm{e}^{\\pi \\mathrm{i}}$ Rotation = -1"
      ]
    },
    {
      "cell_type": "markdown",
      "metadata": {
        "id": "IdQm-1FyUCv7"
      },
      "source": [
        "*Results for 3: $x_1$ = 1, $x_2$ = 1*\n",
        "\n",
        "* <font color=\"blue\">$\\tilde{x_1}$ =</font> $\\frac{1}{\\sqrt{2}}\\left(|0\\rangle+\\mathrm{e}^{2 \\pi \\mathrm{i}\\left(\\frac{x_1}{2}+\\frac{x_2}{4}\\right)}|1\\rangle\\right)$ = $\\frac{1}{\\sqrt{2}}\\left(|0\\rangle+\\mathrm{e}^{2 \\pi \\mathrm{i}\\left(\\frac{1}{2}+\\frac{1}{4}\\right)}|1\\rangle\\right)$ = $\\mathrm{e}^{2 \\pi \\mathrm{i}\\left(\\frac{2}{4}+\\frac{1}{4}\\right)}$  = $\\mathrm{e}^{1,5 \\pi \\mathrm{i}}$ Rotation = -i\n",
        "\n",
        "* <font color=\"blue\">$\\tilde{x_2}$ = </font>$\\frac{1}{\\sqrt{2}}\\left(|0\\rangle+\\mathrm{e}^{\\pi \\mathrm{i}x_2}|1\\rangle\\right)$ = $\\frac{1}{\\sqrt{2}}\\left(|0\\rangle+\\mathrm{e}^{\\pi \\mathrm{i}1}|1\\rangle\\right)$ = $\\mathrm{e}^{\\pi \\mathrm{i}}$ Rotation = -1"
      ]
    },
    {
      "cell_type": "code",
      "metadata": {
        "colab": {
          "base_uri": "https://localhost:8080/"
        },
        "id": "jQTyJh-JcZmd",
        "outputId": "860ed1be-bfa3-45f0-9d86-5ee8fbd6e813"
      },
      "source": [
        "def make_qft(qubits):\n",
        "\n",
        "    # Generate list of qubits\n",
        "    qreg = list(qubits)\n",
        "    \n",
        "    # Make sure list is longer than 0 qubits:\n",
        "    while len(qreg) > 0:\n",
        "    \n",
        "    # Remove first qubit from list and return its value (set as head-qubit):\n",
        "        q_head = qreg.pop(0)\n",
        "    \n",
        "    # Apply Hadamard superposition to this head-qubit\n",
        "        yield cirq.H(q_head)\n",
        "\n",
        "    # Enumerate through list with i (index position) and corresponding qubit value (0 or 1)\n",
        "        for i, qubit in enumerate(qreg):\n",
        "\n",
        "    # Apply Controlled-Z * Theta-Phase-Shift on target ('q-head') if control-qubit ('qubit') is in state 1\n",
        "            yield (cirq.CZ ** (1 / 2 ** (i + 1)))(qubit, q_head)\n",
        "\n",
        "    # Iterating through until \"while len(qreg) = 0\", then processes stops\n",
        "\n",
        "\"\"\"Visually check the QFT circuit.\"\"\"\n",
        "qubits = cirq.LineQubit.range(2)\n",
        "qft = cirq.Circuit(make_qft(qubits))\n",
        "print(qft)"
      ],
      "execution_count": null,
      "outputs": [
        {
          "output_type": "stream",
          "name": "stdout",
          "text": [
            "0: ───H───@───────────\n",
            "          │\n",
            "1: ───────@^0.5───H───\n"
          ]
        }
      ]
    },
    {
      "cell_type": "markdown",
      "metadata": {
        "id": "Kt9QaDRxdkOo"
      },
      "source": [
        "###### **<font color=\"black\">Quantum Fourier Transform with 3 Qubits**"
      ]
    },
    {
      "cell_type": "markdown",
      "metadata": {
        "id": "6B2JTnl2EanL"
      },
      "source": [
        "**QFT**\n",
        "\n",
        "> <font color=\"blue\">$e^{2\\pi i}$ = 1\n",
        "\n",
        "> In QFT we change the phase <font color=\"blue\">$\\theta$ in $e^{2\\pi i \\theta}$</font> (=Eigenvalue of Oracle function $U$ associated with an eigenvector |u⟩)\n",
        "\n",
        "> Phase <font color=\"blue\">$\\theta$ is $\\frac{x_n}{2^{k}}$ with $x_n$ 0 or 1</font> state and $k$ number of Qubits.\n",
        "\n",
        "A controlled-R quantum gate applies a relative phase change to |1>. \n",
        "\n",
        "> The matrix form of this operator is: <font color=\"blue\">$\\hat{R}_{k}=\\left(\\begin{array}{cc}1 & 0 \\\\ 0 & e^{2 \\pi i / 2^{k}}\\end{array}\\right)$"
      ]
    },
    {
      "cell_type": "markdown",
      "metadata": {
        "id": "rvyYOum0aIIm"
      },
      "source": [
        "**For n = 3 Qubits. Results for: $x_1 = 1$, $x_2 = 1$, $x_3 = 1$**\n",
        "\n",
        "> <font color=\"blue\">$\\tilde{x_1}$ = $\\frac{1}{\\sqrt{2}}\\left(|0\\rangle+\\mathrm{e}^{2 \\pi \\mathrm{i}\\left(\\frac{\\mathrm{x}_{1}}{2^{n_{x_1}}}+\\frac{x_{2}}{2^{n_{x_2}}}+\\frac{x_{3}}{2^{n_{x_3}}}\\right)}|1\\rangle\\right)$</font> = $\\frac{1}{\\sqrt{2}}\\left(|0\\rangle+\\mathrm{e}^{2 \\pi \\mathrm{i}\\left(\\frac{\\mathrm{x}_{1}}{2^1}+\\frac{x_{2}}{2^2}+\\frac{x_{3}}{2^3}\\right)}|1\\rangle\\right)$  = $\\frac{1}{\\sqrt{2}}\\left(|0\\rangle+\\mathrm{e}^{2 \\pi \\mathrm{i}\\left(\\frac{\\mathrm{x}_{1}}{2}+\\frac{x_{2}}{4}+\\frac{x_{3}}{8}\\right)}|1\\rangle\\right)$\n",
        "\n",
        "* Falls nur $\\tilde{x_1}$ aktiviert, dann ist es eine Z-Rotation im Wert von $\\pi$ = -1\n",
        "\n",
        "* Falls nur $\\tilde{x_2}$ aktiviert, dann ist es eine S-Rotation im Wert von $\\frac{\\pi}{2}$ = i\n",
        "\n",
        "* Falls nur $\\tilde{x_3}$ aktiviert, dann ist es eine T-Rotation im Wert von $\\frac{\\pi}{4}$ = zwischen 1 und i\n",
        "\n",
        "> <font color=\"blue\">$\\tilde{x_2}$ = $\\frac{1}{\\sqrt{2}}\\left(|0\\rangle+\\mathrm{e}^{2 \\pi \\mathrm{i}\\left(\\frac{x_2}{2^{n_{x_1}}}+\\frac{x_3}{2^{n_{x_2}}}\\right)}|1\\rangle\\right)$</font> = $\\frac{1}{\\sqrt{2}}\\left(|0\\rangle+\\mathrm{e}^{2 \\pi \\mathrm{i}\\left(\\frac{x_2}{2^1}+\\frac{x_3}{2^2}\\right)}|1\\rangle\\right)$ = $\\frac{1}{\\sqrt{2}}\\left(|0\\rangle+\\mathrm{e}^{2 \\pi \\mathrm{i}\\left(\\frac{x_2}{2}+\\frac{x_3}{4}\\right)}|1\\rangle\\right)$\n",
        "\n",
        "* Falls nur $\\tilde{x_2}$ aktiviert, dann ist es eine Z-Rotation im Wert von $\\pi$ = -1\n",
        "\n",
        "* Falls nur $\\tilde{x_3}$ aktiviert, dann ist es eine S-Rotation im Wert von $\\frac{\\pi}{2}$ = i\n",
        "\n",
        "* Falls beide $\\tilde{x_2}$ und $\\tilde{x_3}$ aktiviert, dann ist es eine Rotation $\\pi$ + $\\frac{\\pi}{2}$ = -i\n",
        "\n",
        "> <font color=\"blue\">$\\tilde{x_3}$ = $\\frac{1}{\\sqrt{2}}\\left(|0\\rangle+\\mathrm{e}^{2 \\pi \\mathrm{i}\\left(\\frac{x_3}{2^{n_{x_1}}}\\right)}|1\\rangle\\right)$</font> = $\\frac{1}{\\sqrt{2}}\\left(|0\\rangle+\\mathrm{e}^{2 \\pi \\mathrm{i}\\left(\\frac{x_3}{2^1}\\right)}|1\\rangle\\right)$ = $\\frac{1}{\\sqrt{2}}\\left(|0\\rangle+\\mathrm{e}^{\\pi \\mathrm{i}x_3}|1\\rangle\\right)$\n",
        "\n",
        "* Falls aktiviert, dann ist $\\tilde{x_3}$ immer eine Z-Rotation im Wert von $\\pi$.\n"
      ]
    },
    {
      "cell_type": "markdown",
      "metadata": {
        "id": "8yRvhK-ihzM7"
      },
      "source": [
        "Use these to check calculations:"
      ]
    },
    {
      "cell_type": "markdown",
      "metadata": {
        "id": "iuDwy1VqhxXs"
      },
      "source": [
        "https://javafxpert.github.io/grok-bloch/"
      ]
    },
    {
      "cell_type": "markdown",
      "metadata": {
        "id": "aQNWGX4lhyuF"
      },
      "source": [
        "https://www.st-andrews.ac.uk/physics/quvis/simulations_html5/sims/blochsphere/blochsphere.html"
      ]
    },
    {
      "cell_type": "markdown",
      "metadata": {
        "id": "BZZ4WG-seIUj"
      },
      "source": [
        "*Formel für Quantum Fourier Transform:*"
      ]
    },
    {
      "cell_type": "markdown",
      "metadata": {
        "id": "Ve3FvoKmeAfE"
      },
      "source": [
        "![ggg](https://raw.githubusercontent.com/deltorobarba/repo/master/quantum_047.png)"
      ]
    },
    {
      "cell_type": "markdown",
      "metadata": {
        "id": "TMSfAVtgeNsB"
      },
      "source": [
        "*Visualisierung eines QFT in 3 Qubits im Computational State |000>:*"
      ]
    },
    {
      "cell_type": "markdown",
      "metadata": {
        "id": "JIpnDOQD0M8V"
      },
      "source": [
        "![ggg](https://raw.githubusercontent.com/deltorobarba/repo/master/quantum_050.png)"
      ]
    },
    {
      "cell_type": "markdown",
      "metadata": {
        "id": "aSpL_EdpeYxc"
      },
      "source": [
        "*QFT mit 3 Qubits in einem Circuit mit S- und T-Gates:*"
      ]
    },
    {
      "cell_type": "markdown",
      "metadata": {
        "id": "J6KB50KcvvVC"
      },
      "source": [
        "![ggg](https://raw.githubusercontent.com/deltorobarba/repo/master/quantum_076.jpg)"
      ]
    },
    {
      "cell_type": "markdown",
      "metadata": {
        "id": "MkCgM7yrmmQj"
      },
      "source": [
        "> **Wenn man im Hadamard + Status beginnt, und wendet dann ein S -Gate an, entspricht das einer Rotation 𝜋/2. Das entspricht 𝜇 und ist i. T ist entsprechend eine Rotation 𝜋/4.**"
      ]
    },
    {
      "cell_type": "markdown",
      "metadata": {
        "id": "IWQGtfWZr9eh"
      },
      "source": [
        "*Berechnung eines QFT in 3 Qubits im Computational State |011>:*"
      ]
    },
    {
      "cell_type": "markdown",
      "metadata": {
        "id": "Yiw8JVwyrXJ5"
      },
      "source": [
        "![gg](https://raw.githubusercontent.com/deltorobarba/repo/master/quantum_114.jpg)\n"
      ]
    },
    {
      "cell_type": "markdown",
      "metadata": {
        "id": "xgT0F6uYrj8-"
      },
      "source": [
        "Ein Z-Gate ist dann in x1, weil $\\pi$\\2"
      ]
    },
    {
      "cell_type": "markdown",
      "metadata": {
        "id": "h0VcRa7Gr0kS"
      },
      "source": [
        "![gg](https://raw.githubusercontent.com/deltorobarba/repo/master/quantum_072.png)\n"
      ]
    },
    {
      "cell_type": "markdown",
      "metadata": {
        "id": "T3lO3PGav1-q"
      },
      "source": [
        "https://www.cl.cam.ac.uk/teaching/1920/QuantComp/Quantum_Computing_Lecture_9.pdf"
      ]
    },
    {
      "cell_type": "markdown",
      "metadata": {
        "id": "iHos0ZygsCE-"
      },
      "source": [
        "**Berechnung eines QFT in 3 Qubits im Computational State |001>:**"
      ]
    },
    {
      "cell_type": "markdown",
      "metadata": {
        "id": "ffaW3YElV_vG"
      },
      "source": [
        "![ggg](https://raw.githubusercontent.com/deltorobarba/repo/master/quantum_075.jpg)"
      ]
    },
    {
      "cell_type": "markdown",
      "metadata": {
        "id": "0hjkvW3MytXm"
      },
      "source": [
        "In die Formel oben eingegeben für ein 3 Qubit mit $x_1=0, x_2=0$ und $x_3=1$ ergibt sich folgendes in umgekehrter Reihenfolge (deswegen muss das Swap-Gate machträglich angewandt werden):\n",
        "\n",
        "* Qubit $x_1$ (=ohne Swap-Gate wie oben $x_3$): $e^{\\frac{2 * \\pi * i * 1}{2^{1}}}=-1$ (Z-Gate, weil negativ Hadamard)\n",
        "\n",
        "* Qubit $x_2$: $e^{\\frac{2 * \\pi * i * 1}{2^{2}}}=e^{\\frac{2 * \\pi * i * 1}{4}}=\\mathrm{i}$ (=S-Gate)\n",
        "\n",
        "* Qubit $x_3$ (=$x_1$ im circuit oben): $e^{\\frac{2 * \\pi * i * 1}{2^{3}}}=e^{\\frac{2 * \\pi * i * 1}{8}}=e^{\\frac{\\pi i}{4}}$ (=T-Gate transform)\n",
        "\n",
        "Controlled U-ROT Gate: immer da, wo control qubit eine 1 ist, wird die entsprechende Rotation übernommen, bei 0 hingegen passiert nix.\n",
        "\n",
        "Das stimmt überein mit der folgenden geometrischen Darstellung (*3 Qubit Quantum Fourier transformation with 001 in computational state: first state is 180 degree rotated, secind by 90 degree, third by 45 degree from Hadamard + Superposition state - Rotationen werden durch UROT gates bestimmt, und aktiviert überall do, wo control =1 ist*):\n"
      ]
    },
    {
      "cell_type": "markdown",
      "metadata": {
        "id": "RPai3gA7zQmV"
      },
      "source": [
        "![ggg](https://raw.githubusercontent.com/deltorobarba/repo/master/quantum_051.png)"
      ]
    },
    {
      "cell_type": "markdown",
      "metadata": {
        "id": "M6vTN7AbqyHZ"
      },
      "source": [
        "Mit der neuen Formel von unten $e^{\\frac{2 \\pi i x}{2^n}}$ angewandt für obiges Beispiel: 001 is 1 = x in decimal, und 3 Qubits n= 1,2 und 3:\n",
        "\n",
        "* Qubit 0: $e^{\\frac{2*\\pi* i*1}{2^1}}$ = -1 (korrekt siehe oben)\n",
        "\n",
        "* Qubit 1: $e^{\\frac{2*\\pi* i*1}{2^2}}$ = $e^{\\frac{2*\\pi* i*1}{4}}$ = i (korrekt siehe oben)\n",
        "\n",
        "* Qubit 2: $e^{\\frac{2*\\pi* i*1}{2^3}}$ = $e^{\\frac{2*\\pi* i*1}{8}}$= \n",
        "\n",
        "  * Müsste sein laut Bloch sphere: $e^{i * {\\pi / 4}}$ bzw. $e^{i* (0,25 *\\pi)}$\n",
        "\n",
        "  * Laut Berechnung mit Formel unten: $e^{\\frac{2 \\pi i 1}{8}}$ = $e^{\\frac{\\pi i}{4}}$ = $e^{(0,25*\\pi) * i}$ = korrekt!!\n",
        "\n",
        "  * check geometrically [here](https://javafxpert.github.io/grok-bloch/) und [here](https://www.st-andrews.ac.uk/physics/quvis/simulations_html5/sims/blochsphere/blochsphere.html)\n",
        "\n",
        "  * Das ist übrigens das T gate (halbes s gate, was ein halbes z gate ist). siehe unten beispiel bei phase estimation."
      ]
    },
    {
      "cell_type": "markdown",
      "metadata": {
        "id": "kOL6OubotHk0"
      },
      "source": [
        "**Unten: 5 = 101 in der Fourier Basis**"
      ]
    },
    {
      "cell_type": "markdown",
      "metadata": {
        "id": "RpaBjhdMs_Ux"
      },
      "source": [
        "https://qiskit.org/textbook/ch-algorithms/quantum-phase-estimation.html#creating_the_circuit"
      ]
    },
    {
      "cell_type": "markdown",
      "metadata": {
        "id": "pX9RQCdstBN1"
      },
      "source": [
        "![ggg](https://raw.githubusercontent.com/deltorobarba/repo/master/quantum_116.png)"
      ]
    },
    {
      "cell_type": "markdown",
      "metadata": {
        "id": "Ecb9-K-qDVbT"
      },
      "source": [
        "* The number we want to store dictates the angle at which each qubit is rotated around the Z-axis. \n",
        "\n",
        "* In the state $|\\tilde{0}\\rangle$, all qubits are in the state $|+\\rangle$. \n",
        "\n",
        "* In the example above, to encode the state $|\\tilde{5}\\rangle$ (=101) on n=3 qubits, we rotated the leftmost qubit by $\\frac{5}{2^{n}}=\\frac{5}{8}$ full turns $\\left(\\frac{5}{8} \\times 2 \\pi\\right.$ radians). \n",
        "\n",
        "* The next qubit is turned double this $\\left(\\frac{10}{8} \\times 2 \\pi\\right.$ radians, or $\\frac{10}{8}$ full turns), this angle is then doubled for the qubit after, and so on.\n",
        "\n",
        "* **Note the frequency with which each qubit changes. The leftmost qubit (qubit 0 ) in this case has the lowest frequency, and the rightmost the highest.**"
      ]
    },
    {
      "cell_type": "markdown",
      "metadata": {
        "id": "fQ7tCZRetUEX"
      },
      "source": [
        "* In the Fourier basis the topmost qubit completes one full rotation when counting between 0 and $2^{t}$ .\n",
        "\n",
        "* To count to a number, $x$ between 0 and $2^{t}$ (t = qubits), we rotate this qubit by $\\frac{x}{2^{t}}$ around the z-axis. \n",
        "\n",
        "* For the next qubit we rotate by $\\frac{2 x}{2^{t}}$, then $\\frac{4 x}{2^{t}}$ for the third qubit. In this case x is not 0 or 1, but the decimal number = 5 !!!"
      ]
    },
    {
      "cell_type": "markdown",
      "metadata": {
        "id": "nTD0YHtHuRtG"
      },
      "source": [
        "> x1 = $\\frac{1}{\\sqrt{2}}\\left(|0\\rangle+\\mathrm{e}^{2 \\pi \\mathrm{i}\\left(\\frac{\\mathrm{x}_{1}}{2}+\\frac{x_{2}}{4}+\\frac{x_{3}}{8}\\right)}|1\\rangle\\right)$ = $\\frac{1}{\\sqrt{2}}\\left(|0\\rangle+\\mathrm{e}^{2 \\pi \\mathrm{i}\\left(\\frac{1}{2}+\\frac{0}{4}+\\frac{1}{8}\\right)}|1\\rangle\\right)$ = $\\frac{1}{\\sqrt{2}}\\left(|0\\rangle+\\mathrm{e}^{2 \\pi \\mathrm{i}\\left(\\frac{1}{2}+\\frac{1}{8}\\right)}|1\\rangle\\right)$ \n",
        "\n",
        "> = $\\frac{1}{\\sqrt{2}}\\left(|0\\rangle+\\mathrm{e}^{2 \\pi \\mathrm{i}\\left(\\frac{4}{8}+\\frac{1}{8}\\right)}|1\\rangle\\right)$ = $\\frac{1}{\\sqrt{2}}\\left(|0\\rangle+\\mathrm{e}^{2 \\pi \\mathrm{i}\\left(\\frac{5}{8}\\right)}|1\\rangle\\right)$= $\\mathrm{e}^{1,25 * \\pi \\mathrm{i}}$ fur qubit 0 (roter Pfeil ist dann zwischen -1 und -i)\n"
      ]
    },
    {
      "cell_type": "markdown",
      "metadata": {
        "id": "OQkr4N9XyBqc"
      },
      "source": [
        "**Achtung**: In $\\frac{1}{\\sqrt{2}}\\left(|0\\rangle+\\mathrm{e}^{2 \\pi \\mathrm{i}\\left(\\frac{\\mathrm{x}_{1}}{2}+\\frac{x_{2}}{4}+\\frac{x_{3}}{8}\\right)}|1\\rangle\\right)$ diser Teil ist die **Phase $\\theta$** = $(\\frac{\\mathrm{x}_{1}}{2}+\\frac{x_{2}}{4}+\\frac{x_{3}}{8})$ und $\\mathrm{e}^{2 \\pi \\mathrm{i}}$ = 1 (spater wichtig fur Phase Estimation)."
      ]
    },
    {
      "cell_type": "markdown",
      "metadata": {
        "id": "U6yxGVQlvzV2"
      },
      "source": [
        "> x2 = $\\frac{1}{\\sqrt{2}}\\left(|0\\rangle+\\mathrm{e}^{2 \\pi \\mathrm{i}\\left(\\frac{0}{2}+\\frac{1}{4}\\right)}|1\\rangle\\right)$ = $e^{0,5 * \\pi i} $ fur qubit 1\n"
      ]
    },
    {
      "cell_type": "markdown",
      "metadata": {
        "id": "RxUuQV81uQwu"
      },
      "source": [
        "\n",
        "\n",
        "> x3 = $\\frac{1}{\\sqrt{2}}\\left(|0\\rangle+\\mathrm{e}^{\\pi \\mathrm{i} 0}|1\\rangle\\right)$ = $e^{\\pi i 0} = -1$ fur fur qubit 2 "
      ]
    },
    {
      "cell_type": "markdown",
      "metadata": {
        "id": "WYfMuYkhknYC"
      },
      "source": [
        "**Weitere Kombinationen**"
      ]
    },
    {
      "cell_type": "markdown",
      "metadata": {
        "id": "Vtk6rwPMzvBs"
      },
      "source": [
        "![ggg](https://raw.githubusercontent.com/deltorobarba/repo/master/quantum_075.jpg)"
      ]
    },
    {
      "cell_type": "markdown",
      "metadata": {
        "id": "Qz0azdIL3W5N"
      },
      "source": [
        "![ggg](https://raw.githubusercontent.com/deltorobarba/repo/master/quantum_069.png)"
      ]
    },
    {
      "cell_type": "markdown",
      "metadata": {
        "id": "L9RtUh5w3Z6j"
      },
      "source": [
        "![ggg](https://raw.githubusercontent.com/deltorobarba/repo/master/quantum_070.png)"
      ]
    },
    {
      "cell_type": "markdown",
      "metadata": {
        "id": "CAjSjT0B3baV"
      },
      "source": [
        "![ggg](https://raw.githubusercontent.com/deltorobarba/repo/master/quantum_071.png)"
      ]
    },
    {
      "cell_type": "markdown",
      "metadata": {
        "id": "mv4JG6CpgZx9"
      },
      "source": [
        "> x1 = $\\frac{1}{\\sqrt{2}}\\left(|0\\rangle+\\mathrm{e}^{2 \\pi \\mathrm{i}\\left(\\frac{\\mathrm{x}_{1}}{2}+\\frac{x_{2}}{4}+\\frac{x_{3}}{8}\\right)}|1\\rangle\\right)$ = $\\frac{1}{\\sqrt{2}}\\left(|0\\rangle+\\mathrm{e}^{2 \\pi \\mathrm{i}\\left(\\frac{0}{2}+\\frac{1}{4}+\\frac{0}{8}\\right)}|1\\rangle\\right)$ = $\\mathrm{e}^{\\pi \\mathrm{i}/2}$ = qubit 0\n",
        "\n",
        "> x2 = $\\frac{1}{\\sqrt{2}}\\left(|0\\rangle+\\mathrm{e}^{2 \\pi \\mathrm{i}\\left(\\frac{1}{2}+\\frac{0}{4}\\right)}|1\\rangle\\right)$ = $e^{\\pi i} = -$ = qubit 1\n",
        "\n",
        "> x3 = $\\frac{1}{\\sqrt{2}}\\left(|0\\rangle+\\mathrm{e}^{\\pi \\mathrm{i} 0}|1\\rangle\\right)$ = $e^{\\pi i 0} = 1$ = qubit 2"
      ]
    },
    {
      "cell_type": "markdown",
      "metadata": {
        "id": "SOibyHr_3crV"
      },
      "source": [
        "![ggg](https://raw.githubusercontent.com/deltorobarba/repo/master/quantum_072.png)"
      ]
    },
    {
      "cell_type": "markdown",
      "metadata": {
        "id": "8ryBG3pd0GiR"
      },
      "source": [
        "> $\\frac{1}{\\sqrt{2}}\\left(|0\\rangle+\\mathrm{e}^{2 \\pi i\\left(\\frac{x_{1}}{2}+\\frac{x_{2}}{4}+\\frac{x_{3}}{8}\\right)}|1\\rangle\\right)$ = $e^{2* \\pi i (1/4 + 1/8)}$ = $e^{0,75 \\pi i}$ = qubit 0\n",
        "\n",
        "> $\\frac{1}{\\sqrt{2}}\\left(|0\\rangle+\\mathrm{e}^{2 \\pi i\\left(\\frac{x_{2}}{2}+\\frac{x_{3}}{4}\\right)}|1\\rangle\\right)$ = $e^{1,5* \\pi i}$ = $e^{i 3*\\pi/2}$ =  -i = qubit 1\n",
        "\n",
        "> $\\frac{1}{\\sqrt{2}}\\left(|0\\rangle+\\mathrm{e}^{\\pi i x_3}|1\\rangle\\right)$ = $e^{\\pi i 1}$ = -1 (Hadamard negativ) fur qubit 2"
      ]
    },
    {
      "cell_type": "markdown",
      "metadata": {
        "id": "P_oCKNQoWrJM"
      },
      "source": [
        "###### **<font color=\"black\">Quantum Fourier Transform: Cirq Code Example**"
      ]
    },
    {
      "cell_type": "markdown",
      "metadata": {
        "id": "uWp3l3bZtNjL"
      },
      "source": [
        "https://www.mlq.ai/quantum-programming-google-cirq/"
      ]
    },
    {
      "cell_type": "markdown",
      "metadata": {
        "id": "OatV0_6z06Aj"
      },
      "source": [
        "https://quantumai.google/cirq/tutorials/educators/textbook_algorithms"
      ]
    },
    {
      "cell_type": "code",
      "metadata": {
        "id": "FJH1lHD3gSo-"
      },
      "source": [
        "def make_qft(qubits):\n",
        "\n",
        "    # Generate list of qubits\n",
        "    qreg = list(qubits)\n",
        "    \n",
        "    # Make sure list is longer than 0 qubits:\n",
        "    while len(qreg) > 0:\n",
        "    \n",
        "    # Remove first qubit from list and return its value (set as head-qubit):\n",
        "        q_head = qreg.pop(0)\n",
        "    \n",
        "    # Apply Hadamard superposition to this head-qubit\n",
        "        yield cirq.H(q_head)\n",
        "\n",
        "    # Enumerate through list with i (index position) and corresponding qubit value (0 or 1)\n",
        "        for i, qubit in enumerate(qreg):\n",
        "\n",
        "    # Apply Controlled-Z * Theta-Phase-Shift on target ('q-head') if control-qubit ('qubit') is in state 1\n",
        "            yield (cirq.CZ ** (1 / 2 ** (i + 1)))(qubit, q_head)\n",
        "\n",
        "    # Iterating through until \"while len(qreg) = 0\", then processes stops"
      ],
      "execution_count": null,
      "outputs": []
    },
    {
      "cell_type": "markdown",
      "metadata": {
        "id": "pq9iZuED9nT5"
      },
      "source": [
        "https://realpython.com/python-enumerate/"
      ]
    },
    {
      "cell_type": "markdown",
      "metadata": {
        "id": "B-fvz--23UBh"
      },
      "source": [
        "$C R_{j}=C Z^{1 / 2^{j-1}}$\n",
        "\n",
        "* $Z$ entspricht $\\pi$ (ein halber Kreis, zB von +1 zu -1 auf X-Achse) \n",
        "\n",
        "* $S$ entspricht $\\frac{\\pi}{2}$, also wenn qubit 1 = 1, dann bei qubit 0 das $S$ transform anwenden (0,5)\n",
        "\n",
        "  * S: The square root of Z gate, equivalent to cirq.Z ** 0.5\n",
        "\n",
        "  * See: https://quantumai.google/cirq/gates\n",
        "\n",
        "* $T$ entspricht $\\frac{\\pi}{4}$"
      ]
    },
    {
      "cell_type": "code",
      "metadata": {
        "colab": {
          "base_uri": "https://localhost:8080/"
        },
        "id": "D7s60RrUgWEH",
        "outputId": "2e6a3181-6734-4f4e-b512-f1bb83f6337c"
      },
      "source": [
        "\"\"\"Visually check the QFT circuit.\"\"\"\n",
        "qubits = cirq.LineQubit.range(3)\n",
        "qft = cirq.Circuit(make_qft(qubits))\n",
        "print(qft)"
      ],
      "execution_count": null,
      "outputs": [
        {
          "output_type": "stream",
          "name": "stdout",
          "text": [
            "                  ┌───────┐\n",
            "0: ───H───@────────@──────────────────────\n",
            "          │        │\n",
            "1: ───────@^0.5────┼─────H────@───────────\n",
            "                   │          │\n",
            "2: ────────────────@^0.25─────@^0.5───H───\n",
            "                  └───────┘\n"
          ]
        }
      ]
    },
    {
      "cell_type": "code",
      "metadata": {
        "colab": {
          "base_uri": "https://localhost:8080/"
        },
        "id": "eYSQlnJT8xw9",
        "outputId": "14e53ecf-267c-4b24-c36c-a2ddfa4b1915"
      },
      "source": [
        "qreg = list(qubits)\n",
        "qreg"
      ],
      "execution_count": null,
      "outputs": [
        {
          "output_type": "execute_result",
          "data": {
            "text/plain": [
              "[cirq.LineQubit(0), cirq.LineQubit(1), cirq.LineQubit(2), cirq.LineQubit(3)]"
            ]
          },
          "metadata": {},
          "execution_count": 32
        }
      ]
    },
    {
      "cell_type": "markdown",
      "metadata": {
        "id": "2YS8WU-x2bSA"
      },
      "source": [
        "![ggg](https://raw.githubusercontent.com/deltorobarba/repo/master/quantum_076.jpg)"
      ]
    },
    {
      "cell_type": "markdown",
      "metadata": {
        "id": "S61rSBc81fWg"
      },
      "source": [
        "![gg](https://raw.githubusercontent.com/deltorobarba/repo/master/quantum_114.jpg)\n"
      ]
    },
    {
      "cell_type": "markdown",
      "metadata": {
        "id": "lroVQifD2Wza"
      },
      "source": [
        "![ggg](https://raw.githubusercontent.com/deltorobarba/repo/master/quantum_075.jpg)"
      ]
    },
    {
      "cell_type": "code",
      "metadata": {
        "colab": {
          "base_uri": "https://localhost:8080/"
        },
        "id": "ToIvGgZA0np3",
        "outputId": "99ca0e89-c3aa-402d-a55f-7a679974def8"
      },
      "source": [
        "\"\"\"Visually check the QFT circuit.\"\"\"\n",
        "qubits = cirq.LineQubit.range(4)\n",
        "qft = cirq.Circuit(make_qft(qubits))\n",
        "print(qft)"
      ],
      "execution_count": null,
      "outputs": [
        {
          "output_type": "stream",
          "name": "stdout",
          "text": [
            "                  ┌───────┐   ┌────────────┐   ┌───────┐\n",
            "0: ───H───@────────@───────────@───────────────────────────────────────\n",
            "          │        │           │\n",
            "1: ───────@^0.5────┼─────H─────┼──────@─────────@──────────────────────\n",
            "                   │           │      │         │\n",
            "2: ────────────────@^0.25──────┼──────@^0.5─────┼─────H────@───────────\n",
            "                               │                │          │\n",
            "3: ────────────────────────────@^(1/8)──────────@^0.25─────@^0.5───H───\n",
            "                  └───────┘   └────────────┘   └───────┘\n"
          ]
        }
      ]
    },
    {
      "cell_type": "code",
      "metadata": {
        "colab": {
          "base_uri": "https://localhost:8080/"
        },
        "id": "VLaH1fQk0uxo",
        "outputId": "d45872a3-2eb5-4f02-d07b-2f25cb9aeebf"
      },
      "source": [
        "\"\"\"Visually check the QFT circuit.\"\"\"\n",
        "qubits = cirq.LineQubit.range(8)\n",
        "qft = cirq.Circuit(make_qft(qubits))\n",
        "print(qft)"
      ],
      "execution_count": null,
      "outputs": [
        {
          "output_type": "stream",
          "name": "stdout",
          "text": [
            "                  ┌───────┐   ┌────────────┐   ┌───────────────┐   ┌───────────────────┐   ┌──────────────────────┐   ┌──────────────────────────┐   ┌──────────────────────┐   ┌───────────────────┐   ┌───────────────┐   ┌────────────┐   ┌───────┐\n",
            "0: ───H───@────────@───────────@────────────────@───────────────────@───────────────────────@──────────────────────────@─────────────────────────────────────────────────────────────────────────────────────────────────────────────────────────────────────────────\n",
            "          │        │           │                │                   │                       │                          │\n",
            "1: ───────@^0.5────┼─────H─────┼──────@─────────┼───────@───────────┼──────@────────────────┼──────@───────────────────┼──────@───────────────────────@──────────────────────────────────────────────────────────────────────────────────────────────────────────────\n",
            "                   │           │      │         │       │           │      │                │      │                   │      │                       │\n",
            "2: ────────────────@^0.25──────┼──────@^0.5─────┼───────┼─────H─────┼──────┼──────@─────────┼──────┼───────@───────────┼──────┼──────@────────────────┼──────@───────────────────@───────────────────────────────────────────────────────────────────────────────────\n",
            "                               │                │       │           │      │      │         │      │       │           │      │      │                │      │                   │\n",
            "3: ────────────────────────────@^(1/8)──────────┼───────@^0.25──────┼──────┼──────@^0.5─────┼──────┼───────┼─────H─────┼──────┼──────┼──────@─────────┼──────┼───────@───────────┼──────@────────────────@───────────────────────────────────────────────────────────\n",
            "                                                │                   │      │                │      │       │           │      │      │      │         │      │       │           │      │                │\n",
            "4: ─────────────────────────────────────────────@^(1/16)────────────┼──────@^(1/8)──────────┼──────┼───────@^0.25──────┼──────┼──────┼──────@^0.5─────┼──────┼───────┼─────H─────┼──────┼──────@─────────┼───────@───────────@───────────────────────────────────────\n",
            "                                                                    │                       │      │                   │      │      │                │      │       │           │      │      │         │       │           │\n",
            "5: ─────────────────────────────────────────────────────────────────@^0.031─────────────────┼──────@^(1/16)────────────┼──────┼──────@^(1/8)──────────┼──────┼───────@^0.25──────┼──────┼──────@^0.5─────┼───────┼─────H─────┼──────@─────────@──────────────────────\n",
            "                                                                                            │                          │      │                       │      │                   │      │                │       │           │      │         │\n",
            "6: ─────────────────────────────────────────────────────────────────────────────────────────@^0.016────────────────────┼──────@^0.031─────────────────┼──────@^(1/16)────────────┼──────@^(1/8)──────────┼───────@^0.25──────┼──────@^0.5─────┼─────H────@───────────\n",
            "                                                                                                                       │                              │                          │                       │                   │                │          │\n",
            "7: ────────────────────────────────────────────────────────────────────────────────────────────────────────────────────@^0.008────────────────────────@^0.016────────────────────@^0.031─────────────────@^(1/16)────────────@^(1/8)──────────@^0.25─────@^0.5───H───\n",
            "                  └───────┘   └────────────┘   └───────────────┘   └───────────────────┘   └──────────────────────┘   └──────────────────────────┘   └──────────────────────┘   └───────────────────┘   └───────────────┘   └────────────┘   └───────┘\n"
          ]
        }
      ]
    },
    {
      "cell_type": "markdown",
      "metadata": {
        "id": "a2P7AWGVFixc"
      },
      "source": [
        "###### **Inverse Quantum Fourier Transform ('QFT Dagger')**"
      ]
    },
    {
      "cell_type": "markdown",
      "metadata": {
        "id": "t_v2zVb4FlJi"
      },
      "source": [
        "Reminder of QFT:\n",
        "\n",
        "* $QFT\\,\\,|x\\rangle=|\\tilde{x}\\rangle=$ $\\frac{1}{\\sqrt{N}} \\sum_{y=0}^{N-1} e^{\\frac{2 \\pi i}{N} x y} |y\\rangle$\n",
        "\n",
        "**Remember: Dagger is a complex conjugate operation!**\n",
        "\n",
        "QFT inverse (see -2 turning i in -i which is a complex conjugate operation):\n",
        "\n",
        "* $QFT^{\\dagger}|\\tilde{x}\\rangle=|x\\rangle=$ $\\frac{1}{\\sqrt{N}} \\sum_{y=0}^{N-1} e^{\\frac{-2 \\pi i}{N} x y} |y\\rangle$ \n",
        "\n",
        "\n",
        "The operator is then (\n",
        "We have already seen that the Hadamard gate is self-inverse, and the same is clearly true for the SWAP gate; the inverse of the rotations gate $R_k$ is given by):\n",
        "\n",
        "> The matrix form of inverse QFT operator is: <font color=\"blue\">${R^{\\dagger}}_{k}=\\left(\\begin{array}{cc}1 & 0 \\\\ 0 & e^{-2 \\pi i / 2^{k}}\\end{array}\\right)$</font> and compare with QFT operator:  <font color=\"blue\">$\\hat{R}_{k}=\\left(\\begin{array}{cc}1 & 0 \\\\ 0 & e^{2 \\pi i / 2^{k}}\\end{array}\\right)$\n",
        "\n",
        "https://www.cl.cam.ac.uk/teaching/1920/QuantComp/Quantum_Computing_Lecture_9.pdf"
      ]
    },
    {
      "cell_type": "markdown",
      "metadata": {
        "id": "ki7qQITzNkfA"
      },
      "source": [
        "> So for the phase <font color=\"blue\">$\\theta$ in $e^{-2\\pi i \\theta}$</font>, we apply our previous phase <font color=\"blue\">$\\theta$ is $\\frac{x_n}{2^{k}}$ with $x_n$ 0 or 1</font> state and $k$ number of Qubits."
      ]
    },
    {
      "cell_type": "markdown",
      "metadata": {
        "id": "LENSkji0G4Pt"
      },
      "source": [
        "**Example: 1 Qubit, that was in computational state 1**, and is now in Fourier state = -1 = $\\mathrm{e}^{\\pi \\mathrm{i}}$\n",
        "\n",
        "* <font color=\"blue\">$QFT$ für x = 1 $\\Rightarrow$ $\\tilde{x}$</font> = $\\frac{1}{\\sqrt{2}}\\left(|0\\rangle+\\mathrm{e}^{2 \\pi \\mathrm{i}\\left(\\frac{x_1}{2^1}\\right)}|1\\rangle\\right)$ = $\\mathrm{e}^{2 \\pi \\mathrm{i}\\left(\\frac{1}{2}\\right)}$ = $\\mathrm{e}^{\\pi \\mathrm{i}}$ = -1\n",
        "\n",
        "* <font color=\"blue\">$QFT^{\\dagger}$ für $\\tilde{x}$ = -1 $\\Rightarrow$ $x$</font> = $\\frac{1}{\\sqrt{2}}\\left(|0\\rangle+\\mathrm{e}^{-2 \\pi \\mathrm{i}\\left(\\frac{\\tilde{x}}{2^1}\\right)}|1\\rangle\\right)$ = $\\mathrm{e}^{-2 \\pi \\mathrm{i}\\left(\\frac{-1}{2}\\right)}$ = $\\mathrm{e}^{\\pi \\mathrm{i}}$ = -1 multipliziert mit $\\frac{1}{\\sqrt{2}}$ = -0.70710678118 (=eine Bewegung nach unten zum computational state 1 - ?? stimmt das?)"
      ]
    },
    {
      "cell_type": "markdown",
      "metadata": {
        "id": "ZgDh1fKhKx_A"
      },
      "source": [
        "> Remember: $1 / \\sqrt{2} \\approx(0.71+0 i)$ (Es ist 0i weil kein Anteil i auf der Position liegt. siehe S gate und fourier transform.)"
      ]
    },
    {
      "cell_type": "markdown",
      "metadata": {
        "id": "5ZDk0YKshoSM"
      },
      "source": [
        "#### **Quantum Phase Estimation**"
      ]
    },
    {
      "cell_type": "markdown",
      "metadata": {
        "id": "W3k8xcd_SafQ"
      },
      "source": [
        "###### <font color=\"orange\">**Overview**"
      ]
    },
    {
      "cell_type": "markdown",
      "metadata": {
        "id": "XFT-UWW8LstI"
      },
      "source": [
        "> The phase estimation algorithm is used to determine the eigenvalues of a unitary operator\n",
        "\n",
        "Computing eigenvalues has an enormous number of applications in an enormous number of fields. As such, the phase estimation algorithm is used in a large number of other quantum algorithms from solving linear systems of equations in linear algebra (search for the HHL algorithm) to minimizing the number of features required in machine learning applications (search for quantum principal component analysis)."
      ]
    },
    {
      "cell_type": "markdown",
      "metadata": {
        "id": "2i1sshG8UYNI"
      },
      "source": [
        "(Eigen- hat immer was mit Stabilitat zub tun!). Es sei eine quadratische Matrix $A$ gegeben. Die Suche nach einem Vektor $v \\neq 0$ und einer Zahl $\\lambda$\n",
        "sodass folgende Gleichung erfüllt ist, nennt man Eigenwertproblem:\n",
        "\n",
        ">$\n",
        "A \\cdot v=\\lambda \\cdot v\n",
        "$\n",
        "\n",
        "*Man wendet eine Matrix als Transformation an einen Vektor an, und dieser Vektor wird nur verlangert und verkurzt (und bleibt gleich), aber verandert nicht seine Richtung. Z.B. die Hauptachse bei einer Rotation*.\n",
        "\n",
        "* $A$ is the matrix representing some transformation\n",
        "* Den Faktor $\\lambda$  nennt man dann den zugehörigen **Eigenwert** (reell oder komplex), \n",
        "* der Vektor $v$ heißt dann **Eigenvektor** (darf nicht der Nullvektor sein). \n",
        "* Die Menge der Eigenwerte einer Matrix wird als **Spektrum** der Matrix bezeichnet.\n",
        "\n",
        "**Matrix-Vector-Multiplication: $A \\cdot v$ gives same result as just scaling the Eigenvector $\\lambda \\cdot v$.** \n",
        "\n",
        "(Calculating via determinant: The tweaked transformation squishes space into a lower dimension. Daher muss rang < n sein)!)"
      ]
    },
    {
      "cell_type": "markdown",
      "metadata": {
        "id": "Ti0MmESYOnrd"
      },
      "source": [
        "**Remember from Eigenvalue problem: Ax = λx in our case with the unitary operator: Ux = λx**\n",
        "\n",
        "> $Ux =$ <font color=\"red\">$e^{2πi*0.\\varphi_{1} \\varphi_{2} \\cdots \\varphi_{n} }$</font> $x$\n",
        "\n",
        "> Beispiel: Wenn $0.\\varphi_{1} \\varphi_{2} \\cdots \\varphi_{n} = 0$, dann ist $e^{2πi*0}$ = λ = 1, so dass Ux = 1x. Damit ist λ = 1 ist der Eigenwert von f.\n",
        "\n",
        "* Since |λ| = 1, we can write it without loss of generality as λ = $e^{2πiφ}$, where $e^{2πi}$ = 1 and 0 ≤ φ ≤ 1 is called the phase\n",
        "\n",
        "* We saw that in QFT, φ being between 0 and 1 $\\rightarrow$ $\\mathrm{e}^{2 \\pi \\mathrm{i}\\left(\\frac{\\mathrm{x}_{1}}{2}+\\frac{x_{2}}{4}+\\frac{x_{3}}{8}\\right)}$\n",
        "\n",
        "* The term “estimation” comes about not from the fact that quantum computation is probabilistic, but rather in the degree of precision that we are going to compute, or estimate, the phase to.\n",
        "\n",
        "* The phase φ is going to be between zero and one, so we can write it as a decimal in binary notation as follows: $φ = 0.φ_1 φ_2 ···φ_n$, where each φi is either zero or one\n",
        "\n",
        "  * The expression $\\phi=0 . \\phi_{1} \\phi_{2} \\cdots \\phi_{n}$ is equivalent to $\\phi=0 . \\phi_{1} \\phi_{2} \\cdots \\phi_{n} \\Longleftrightarrow \\phi=\\sum_{k=1}^{n} \\phi_{k} 2^{-k}$. Some numbers as binary decimals: \n",
        "  \n",
        "    * <font color=\"blue\">The number 0.5 in decimal is 0.1 in binary, since 0.1 ≡ (1) · $2^{−1}$ = 1/2 = 0.5. Note that 0.1 is the same as 0.100000....</font>\n",
        "\n",
        "    * <font color=\"blue\">The number 0.75 in decimal is 0.11 in binary, since 0.11 ≡ (1)·$2^{−1}$ +1·$2^{−2}$ = 1/2+1/4 = 3/4 = 0.75. So we get more precision with more qubits</font>\n",
        "\n",
        "    * 0.111 = 0.875\n",
        "\n",
        "    * 0.1111 = 0.9375 in decimal, because: $0 \\cdot 2^{0}+1 \\cdot 2^{-1}+1 \\cdot 2^{-2}+1 \\cdot 2^{-3}+1 \\cdot 2^{-4}=0 \\cdot 1+1 \\cdot 0.5+1 \\cdot 0.25+1 \\cdot 0.125+1 \\cdot 0.0625=0+0.5+0.25+0.125+0.0625=0.937510$\n",
        "\n",
        "  * Check also what is the value of the infinitely repeating binary decimal 0.1111111...\n",
        "  \n",
        "  * If it needed to be proved, the above exercise proves that 0 ≤ 0.φ1φ2 · · · ≤ 1"
      ]
    },
    {
      "cell_type": "markdown",
      "metadata": {
        "id": "ZvNUoTns8BF_"
      },
      "source": [
        "**Warum nutzt man bei QPE den Operator $U^{2^n}$?**\n",
        "\n",
        "* $U^{2^0}$: 1 (decimal) = 00001\n",
        "\n",
        "* $U^{2^1}$: 2 (decimal) = 00010\n",
        "\n",
        "* $U^{2^2}$: 4 (decimal) = 00100\n",
        "\n",
        "* $U^{2^3}$: 8 (decimal) = 01000\n",
        "\n",
        "* $U^{2^4}$: 16 (decimal) = 10000\n",
        "\n",
        "\n",
        "**So for falls die Phase 0.111 ist, wuerde bei 3 Qubits QPE berechnen:**\n",
        "\n",
        "* $e^{2 \\pi i 0. \\varphi_{1} \\varphi_{2} \\varphi_{3}}$</font> = $e^{2 \\pi i 0.(U^{2^0} + U^{2^1} + U^{2^2})}$  = <font color=\"red\">$e^{2 \\pi i 0.001 + 010 + 100)}$</font>  = $e^{2 \\pi i 0.111}$\n",
        "\n",
        "* in this case the phase $\\theta$ = 0.111\n",
        "\n",
        "\n",
        "**Compare that with Quantum Fourier Transform:**\n",
        "\n",
        "* In $\\frac{1}{\\sqrt{2}}\\left(|0\\rangle+\\mathrm{e}^{2 \\pi \\mathrm{i}\\left(\\frac{\\mathrm{x}_{1}}{2}+\\frac{x_{2}}{4}+\\frac{x_{3}}{8}\\right)}|1\\rangle\\right)$ dieser Teil ist die **Phase $\\theta$** = $(\\frac{\\mathrm{x}_{1}}{2}+\\frac{x_{2}}{4}+\\frac{x_{3}}{8})$ \n",
        "\n",
        "* Let's say all $x_1, x_2$ and $x_3$ = 1 $\\rightarrow$ $\\mathrm{e}^{2 \\pi \\mathrm{i}\\left(\\frac{{1}}{2}+\\frac{1}{4}+\\frac{1}{8}\\right)}$ = $\\mathrm{e}^{2 \\pi \\mathrm{i}(0.5+0.25+0.125)}$ and in binary form: <font color=\"red\">$\\mathrm{e}^{2 \\pi \\mathrm{i}(0.100+0.010+0.001)}$</font>\n",
        "\n",
        "* **We see that in QFT and QPE it's the same (both in red)!**\n",
        "\n",
        "Jedes $U^{2^n}$ wird immer dann aktiviert, wenn im Control-Qubit oben eine 1 gemessen wird (siehe Bild hier unten):"
      ]
    },
    {
      "cell_type": "markdown",
      "metadata": {
        "id": "yzz61dyQB_6X"
      },
      "source": [
        "![ggg](https://raw.githubusercontent.com/deltorobarba/repo/master/quantum_118.png)"
      ]
    },
    {
      "cell_type": "markdown",
      "metadata": {
        "id": "et3XRupiWg0n"
      },
      "source": [
        "**QPE in Steps:** [Source](https://www.ryanlarose.com/uploads/1/1/5/8/115879647/quic03-phase-estimation.pdf)\n",
        "\n",
        "![gg](https://raw.githubusercontent.com/deltorobarba/repo/master/quantum_117.png)\n",
        "\n",
        "\n",
        "* We let U be a unitary operator and |ψ⟩ an eigenstate* (Eigenvector, Hadamard (+) is an Eigenstate) with eigenvalue $λ = e^{2πi0.φ_1}$\n",
        "\n",
        "1. We first perform a Hadamard gate on the first qubit to get the state \n",
        "\n",
        "  * Original state of both qubits: $|0\\rangle \\otimes|\\psi\\rangle$\n",
        "  \n",
        "  * Hadamard on first qubit: $|+\\rangle \\otimes|\\psi\\rangle$ =\n",
        "  \n",
        "  * <font color=\"red\">Distribute superposition: $|0\\rangle|\\psi\\rangle+|1\\rangle|\\psi\\rangle$</font>\n",
        "\n",
        "  * <font color=\"blue\">this part above is the rule from tensor products: If the state of the first particle is a superposition of two states, the state of the two-particle system is also a superposition: $\\left(v_{1}+v_{2}\\right) \\otimes w=v_{1} \\otimes w+v_{2} \\otimes w$\n",
        "</font>\n",
        "\n",
        "  * we have intentionally omitted the normalization factor of 1/√2 for clarity\n",
        "\n",
        "2. We then perform a controlled U operation, which we have written as $U^{2^0}$\n",
        "\n",
        "  * $|0\\rangle|\\psi\\rangle+|1\\rangle$ <font color=\"red\">$U$</font> $|\\psi\\rangle$ =\n",
        "\n",
        "  * $|0\\rangle|\\psi\\rangle+$ <font color=\"red\">$e^{2 \\pi i 0. \\phi_{1}}$</font> $|1\\rangle|\\psi\\rangle$ =\n",
        "\n",
        "  * $|0\\rangle+$ <font color=\"red\">$e^{2 \\pi i 0. \\phi_{1}}$</font> $|1\\rangle) \\otimes|\\psi\\rangle$\n",
        "\n",
        "* Here are 2 things very important: \n",
        "  \n",
        "    * The second qubit register containing |ψ⟩ hasn’t changed. We shouldn’t expect it to, **since |ψ⟩ is an eigenstate of U. Thus, no matter how many times we apply U to this register, nothing happens to |ψ⟩**. But if we apply it more often it will 'amplify' the phase (Not in the sense of amplitude amplification)\n",
        "    \n",
        "    * what’s the point of applying U then? The effect was that **it wrote some information about the eigenvalue into the relative phase of the first qubit**. Namely, the entire effect was to\n",
        "map: $|0\\rangle+|1\\rangle \\mapsto|0\\rangle+e^{2 \\pi i 0. \\phi_{1}}|1\\rangle$\n",
        "\n",
        "3. How can we read out this information from the quantum state? Consider the effect of applying another Hadamard transformation on the first qubit (without another H we will always measure 50/50 % a 0 or 1), which will produce (ignoring the normalization factor of 1/2): \n",
        "\n",
        "  * $H(|0\\rangle+$ <font color=\"red\">$e^{2 \\pi i 0 \\cdot \\phi_{1}}$</font> $|1\\rangle)=$ $(1+$<font color=\"red\">$e^{2 \\pi i 0. \\phi_{1}}$</font>$)|0\\rangle$ + $(1-$<font color=\"red\">$e^{2 \\pi i 0 . \\phi_{1}}$</font>$)|1\\rangle$\n",
        "\n",
        "  * for more than 1 Qubit we use on Quantum Phase Estimation $\\frac{1}{2^{\\frac{n}{2}}} \\sum_{k=0}^{2^{n}-1} e^{2 \\pi i \\theta k}$ then the inverse Quantum Fourier transform:  <font color=\"red\">$ \\frac{1}{2^{\\frac{n}{2}}} \\sum_{x=0}^{2^{n}-1} e^{\\frac{-2 \\pi i k x}{2^{n}}}|x\\rangle$</font> so that: $\\frac{1}{2^{\\frac{n}{2}}} \\sum_{k=0}^{2^{n}-1} e^{2 \\pi i \\theta k}$ <font color=\"red\">$ \\frac{1}{2^{\\frac{n}{2}}} \\sum_{x=0}^{2^{n}-1} e^{\\frac{-2 \\pi i k x}{2^{n}}}|x\\rangle$</font>\n",
        "\n",
        "  * inverse QFT for 1 Qubit is: $ \\frac{1}{2^{\\frac{1}{2}}} \\sum_{x=0}^{2^{1}-1} e^{\\frac{-2 \\pi i k x}{2^{1}}}|x\\rangle$ = $\\frac{1}{\\sqrt{2}} e^{-1 \\pi i k x}$ fur $k$ = $\\varphi$ = 0 and $x$ = 0. --> somehting is not right here yet!\n",
        "\n",
        "Thus, we measure with certainty (i.e., not probabilistically) a state that tells us exactly what the phase,\n",
        "and hence the eigenvalue, is.\n",
        "\n",
        "*Why are we starting with an eigenstate? Doesn’t this defeat the whole purpose? After all, we could just do U|ψ⟩ and see what it’s effect was. Answer: here, we’re just using the eigenstate for pedagogical purposes. As we’ll see, the general phase estimation algorithm does not require this."
      ]
    },
    {
      "cell_type": "markdown",
      "metadata": {
        "id": "DTQduwVb5R5p"
      },
      "source": [
        "Remember in **Quantum Fourier Transform**: \n",
        "\n",
        "\n",
        "> x1 = $\\frac{1}{\\sqrt{2}}\\left(|0\\rangle+\\mathrm{e}^{2 \\pi \\mathrm{i}\\left(\\frac{\\mathrm{x}_{1}}{2}+\\frac{x_{2}}{4}+\\frac{x_{3}}{8}\\right)}|1\\rangle\\right)$ \n",
        "\n",
        "* <font color=\"blue\">$e^{2\\pi i}$ = 1</font>\n",
        "\n",
        "* In QFT we change the phase <font color=\"blue\">$\\theta$ in $e^{2\\pi i \\theta}$</font> (<font color=\"red\">=Eigenvalue of Oracle function $U$ associated with an eigenvector |u⟩</font>)\n",
        "\n",
        "* Phase <font color=\"blue\">$\\theta$ is $\\frac{x_n}{2^{k}}$ with $x_n$ 0 or 1</font> state and $k$ number of Qubits.\n",
        "\n",
        "* A controlled-R quantum gate applies a relative phase change to |1>. The matrix form of this operator is: <font color=\"blue\">$\\hat{R}_{k}=\\left(\\begin{array}{cc}1 & 0 \\\\ 0 & e^{2 \\pi i / 2^{k}}\\end{array}\\right)$"
      ]
    },
    {
      "cell_type": "markdown",
      "metadata": {
        "id": "2f7UKWz2y03L"
      },
      "source": [
        "**Now in Phase Estimation**: \n",
        "\n",
        "> In $\\frac{1}{\\sqrt{2}}\\left(|0\\rangle+\\mathrm{e}^{2 \\pi \\mathrm{i}\\left(\\frac{\\mathrm{x}_{1}}{2}+\\frac{x_{2}}{4}+\\frac{x_{3}}{8}\\right)}|1\\rangle\\right)$ dieser Teil ist die **Phase $\\theta$** = $(\\frac{\\mathrm{x}_{1}}{2}+\\frac{x_{2}}{4}+\\frac{x_{3}}{8})$ \n",
        "\n",
        "Quantum phase estimation addresses the following problem:\n",
        "* We have a $n$-qubit oracle function $U$, encoded in the form of a controlled- $U$ unitary.\n",
        "* **$U$ has an eigenvalue $e^{2 \\pi i \\phi}$, associated with an eigenvector $|u\\rangle$ which we can prepare.**\n",
        "* <font color=\"red\">**We wish to estimate the phase, $\\phi$, of the eigenvalue to $t$ bits of precision.**\n",
        "\n",
        "*Given a unitary operator $U$, the algorithm estimates $\\theta$ in $U|\\psi\\rangle=e^{2 \\pi i \\theta}|\\psi\\rangle .$*\n",
        "\n",
        "* Here $|\\psi\\rangle$ is an eigenvector and $e^{2 \\pi i \\theta}$ is the corresponding eigenvalue. \n",
        "\n",
        "* <font color=\"red\">For example: the eigenvalues of X are −1 and 1 and have the eigenvectors |−⟩ and |+⟩ respectively.*</font>\n",
        "\n",
        "*Since $U$ is unitary, all of its eigenvalues have a norm of 1.*"
      ]
    },
    {
      "cell_type": "markdown",
      "metadata": {
        "id": "6KSwPWSvQ0en"
      },
      "source": [
        "**Exkurs**:\n",
        "\n",
        "* und $\\mathrm{e}^{2 \\pi \\mathrm{i}}$ = 1 \n",
        "\n",
        "* weil $\\mathrm{e}^{\\pi \\mathrm{i}}$ = -1\n",
        "\n",
        "* und: 1 + $\\mathrm{e}^{\\pi \\mathrm{i}}$ = 0, Spezialfall der [Eulerschen Formel](https://3.141592653589793238462643383279502884197169399375105820974944592.eu/e-hoch-ipi-und-die-eulersche-identitaet/): $e^{i x}=\\cos (x)+i \\sin (x)$\n",
        "\n",
        "*Die Eulersche Formel / Identität lässt sich sehr anschaulich mit Hilfe von Taylor-Reihen erklären und beweisen. Setzt man x=π in die Eulersche Formel ein, so bleibt wegen cos(π)=-1 und sin(π)=0 genau das gewünschte Resultat übrig.*"
      ]
    },
    {
      "cell_type": "markdown",
      "metadata": {
        "id": "TdlCGVjL964z"
      },
      "source": [
        "**Quantum Phase Estimation**"
      ]
    },
    {
      "cell_type": "markdown",
      "metadata": {
        "id": "hs3iVMYEOSrz"
      },
      "source": [
        "* algorithm for determining the eigenvalues of a unitary operator\n",
        "\n",
        "* the [quantum phase estimation algorithm](https://en.m.wikipedia.org/wiki/Quantum_phase_estimation_algorithm) (also referred to as quantum eigenvalue estimation algorithm), is a quantum algorithm to estimate the phase (or eigenvalue) of an eigenvector of a unitary operator. \n",
        "\n",
        "* More precisely, given a unitary matrix $U$ and a quantum state $|\\psi\\rangle$ such that $U|\\psi\\rangle=e^{2 \\pi i \\theta}|\\psi\\rangle$, the algorithm estimates the value of $\\theta$ with high probability within additive error $\\varepsilon$, using $O(\\log (1 / \\varepsilon))$ qubits (without counting the ones used to encode the eigenvector state) and $O(1 / \\varepsilon)$ controlled- $U$ operations. \n",
        "\n",
        "* The algorithm was initially introduced by Alexei Kitaev in 1995.\n",
        "\n",
        "* Phase estimation is frequently used as a subroutine in other quantum algorithms, such as Shor's algorithm and the quantum algorithm for linear systems of equations."
      ]
    },
    {
      "cell_type": "markdown",
      "metadata": {
        "id": "DdumWm_ZQExJ"
      },
      "source": [
        "Remember from phase shift R-gates (Pauli Z, S, T, etc):\n",
        "\n",
        "> $P(\\varphi)=\\left[\\begin{array}{ll}1 & 0 \\\\ 0 & e^{\\varphi i}\\end{array}\\right]$\n",
        "\n",
        "here 𝜑 (phi) is the phase shift (azimuth) with the period 2𝜋, so:\n",
        "\n",
        "> $P(\\varphi)=\\left[\\begin{array}{ll}1 & 0 \\\\ 0 & e^{2𝜋i}\\end{array}\\right]$\n",
        "\n",
        "$\\theta$ (theta) is then the other component to determine position on Bloch sphere. So that it becomes:\n",
        "\n",
        "> $P(\\varphi)=\\left[\\begin{array}{ll}1 & 0 \\\\ 0 & e^{2 \\pi i \\theta}\\end{array}\\right]$"
      ]
    },
    {
      "cell_type": "markdown",
      "metadata": {
        "id": "BTKtdsbfSbYy"
      },
      "source": [
        "phi: $\\phi$ bzw. $\\varphi$ is azimuth = phase"
      ]
    },
    {
      "cell_type": "markdown",
      "metadata": {
        "id": "eSOrCN5j8QzD"
      },
      "source": [
        "https://quantum-computing.ibm.com/composer/docs/iqx/guide/quantum-phase-estimation"
      ]
    },
    {
      "cell_type": "markdown",
      "metadata": {
        "id": "cGEsuA3Loy_Q"
      },
      "source": [
        "**Zusammenhang QFT & QPE:**"
      ]
    },
    {
      "cell_type": "markdown",
      "metadata": {
        "id": "xITdjQPll1bU"
      },
      "source": [
        "Für Qubit 2 ausführliche Erläuterung, warum es dem T Gate entspricht:\n",
        "\n",
        "> $\n",
        "T|1\\rangle=\\left[\\begin{array}{ll}\n",
        "1 & 0 \\\\\n",
        "0 & e^{\\frac{i \\pi}{4}}\n",
        "\\end{array}\\right]\\left[\\begin{array}{l}\n",
        "0 \\\\\n",
        "1\n",
        "\\end{array}\\right]=e^{\\frac{i \\pi}{4}}|1\\rangle\n",
        "$\n",
        "\n",
        "Quantum Phase Estimation will give us $\\theta$ where:\n",
        "\n",
        "> $\n",
        "T|1\\rangle=e^{2 i \\pi \\theta}|1\\rangle\n",
        "$\n",
        "\n",
        "We expect to find für x=1 und n=3 in der QFT formel $e^{\\frac{2 \\pi i 1}{8}}$):\n",
        "\n",
        "> $\n",
        "\\theta=\\frac{1}{8}\n",
        "$\n",
        "\n",
        "Diesen Wert sieht man oben in Qubit 2 !!"
      ]
    },
    {
      "cell_type": "markdown",
      "metadata": {
        "id": "5zdGOph1onK5"
      },
      "source": [
        "> $\\theta = \\frac{x}{2^n}$\n",
        "\n",
        "fur x= 0 or 1 in a given qubit, and n=number of qubits\n",
        "\n",
        "für: $e^{2 i \\pi \\theta}|1\\rangle$"
      ]
    },
    {
      "cell_type": "markdown",
      "metadata": {
        "id": "kWASb0cOAqKB"
      },
      "source": [
        "**Example: T-Gate**"
      ]
    },
    {
      "cell_type": "markdown",
      "metadata": {
        "id": "ekBrdix5AwOu"
      },
      "source": [
        "Let's take a gate we know well, the $T$-gate, and use Quantum Phase Estimation to estimate its phase. You will remember that the $T$-gate adds a phase of $e^{\\frac{i \\pi}{4}}$ to the state $|1\\rangle$ :\n",
        "\n",
        "$\n",
        "T|1\\rangle=\\left[\\begin{array}{ll}\n",
        "1 & 0 \\\\\n",
        "0 & e^{\\frac{i \\pi}{4}}\n",
        "\\end{array}\\right]\\left[\\begin{array}{l}\n",
        "0 \\\\\n",
        "1\n",
        "\\end{array}\\right]=e^{\\frac{i \\pi}{4}}|1\\rangle\n",
        "$\n",
        "\n",
        "Since QPE will give us $\\theta$ where:\n",
        "\n",
        "$\n",
        "T|1\\rangle=e^{2 i \\pi \\theta}|1\\rangle\n",
        "$\n",
        "\n",
        "We expect to find:\n",
        "\n",
        "$\n",
        "\\theta=\\frac{1}{8}\n",
        "$"
      ]
    },
    {
      "cell_type": "markdown",
      "metadata": {
        "id": "mSYdtNizBDB4"
      },
      "source": [
        "Proof:\n",
        "\n",
        "* $P(\\varphi)=\\left[\\begin{array}{ll}1 & 0 \\\\ 0 & e^{2 \\pi i \\theta}\\end{array}\\right]$\n",
        "\n",
        "* $e^{2 \\pi i \\theta}$ with $\\theta=\\frac{1}{8}$\n",
        "\n",
        "* $e^{2 \\pi i \\frac{1}{8}}$\n",
        "\n",
        "* $e^{\\frac{\\pi i}{4}}$ = $T|1\\rangle$"
      ]
    },
    {
      "cell_type": "markdown",
      "metadata": {
        "id": "QuAipDzXfNAU"
      },
      "source": [
        "###### **<font color=\"black\">Understand Connection between Phase & Measurement Probability**"
      ]
    },
    {
      "cell_type": "markdown",
      "metadata": {
        "id": "maEauPwC3R2E"
      },
      "source": [
        "https://javafxpert.github.io/grok-bloch/"
      ]
    },
    {
      "cell_type": "code",
      "metadata": {
        "id": "IsKhRqln2QM9"
      },
      "source": [
        "# Create Vanilla Qubits\n",
        "# Named Qubit\n",
        "a = cirq.NamedQubit(\"a\")\n",
        "\n",
        "#Line-Qubit\n",
        "qubits = cirq.LineQubit.range(1)"
      ],
      "execution_count": null,
      "outputs": []
    },
    {
      "cell_type": "markdown",
      "metadata": {
        "id": "TMzfeyUJ4PE6"
      },
      "source": [
        "See how you can change the outcome if you change the phase:"
      ]
    },
    {
      "cell_type": "code",
      "metadata": {
        "colab": {
          "base_uri": "https://localhost:8080/"
        },
        "id": "cNUYOd9a2TD9",
        "outputId": "f708fcd0-a696-4687-fe8c-26048c56f4e1"
      },
      "source": [
        "# Define operations\n",
        "ops=[cirq.H(a), # Superposition\n",
        "     cirq.Z(a), # Change phase of qubit\n",
        "     cirq.T(a), # Change phase of qubit a bit more\n",
        "     # Phase is now: 1*π for Z + 0,25*π for T = 1,25*π\n",
        "     cirq.H(a), # without the second H, the probability is always around 50/50 after measurement !!\n",
        "     cirq.measure(a)] # Measurement\n",
        "\n",
        "# Build circuit\n",
        "circuit=cirq.Circuit(ops)\n",
        "\n",
        "print(circuit)"
      ],
      "execution_count": null,
      "outputs": [
        {
          "output_type": "stream",
          "name": "stdout",
          "text": [
            "a: ───H───Z───T───H───M───\n"
          ]
        }
      ]
    },
    {
      "cell_type": "code",
      "metadata": {
        "colab": {
          "base_uri": "https://localhost:8080/"
        },
        "id": "fwMqXPdq2VSf",
        "outputId": "0d2d6ff4-7549-4499-b176-09c04ef639c6"
      },
      "source": [
        "simulator = cirq.Simulator()\n",
        "result = simulator.run(circuit,repetitions=100000)\n",
        "print('Measurement results')\n",
        "print(result)"
      ],
      "execution_count": null,
      "outputs": [
        {
          "output_type": "stream",
          "name": "stdout",
          "text": [
            "Measurement results\n",
            "a=1111110101111111111111101111011111111111011101011111110111111011111011111111100111011011111011111111111111111111011110111101111111111100101111011111111111111011111111111110101111111111111111101101001111111111111011111111111111111011110111110111111111111101111111011111011111110010111011111111111111101011111111111111111111011101111110111111110111101011111101101111111111111111111111111111111111101111110011111111111101111111111110111111011111111111111111101101111011010111111111101010101111101111110111111111111111111111111101110111110111101111011111110111110111111111001111111110001111111110111011111011111011110111111011111111111111111111011111111110111111111100111011111110111111111111111111011001010111111111001111111111111110011111110100110011111111111111111111111111011111111111101111111111110111101100111111111111111111111011110101111001111111011111111111111111111111111110111111111111111111111111111111111111111111110010111111111111111111011111111111111111111011101011111111101111111110101111111110111111110111011011011111111111111111111111111110111001111111011011111101111110111110111111111111111101111110011111110111111111101111101111011111101111111101111101110111011111111011110111111111111110111111111101111011111111111111101011111001111011111111111111111110111111101111110101111111111111111111111111101011101001011101100101011111011111111101111101110011111111111111111111011011111111111011111101110111111111111111111111111111111111110101111111101111001111110101111111111111111111111011111111111111010111111110111110010111111111111111111110111111111101100111111111111101111100111011111011111111111111111101111111110111111111111101111111111101111111111111011111111111011111111111111101111100111111111111111111111011110111101011111111111111111111110111101111101111111111101111111110110101111110111101111111111111111111111001111111011111111111110111011111110110111110111111011111001110111110111111111111111111111111111111111111111101111110111111011111111111111111111110111111110111110101111010111111111101101011111111111111011001111100110101111111011111111111101111111111011111111111111111111110111011101111011111111111111111111111101100111111110111111111111110111010111111111100010111111111110111111111100110111111101111111111111100111111111101101111111111111111111111111010111111111111111111111111010011111111111101111101111111111111111111111111111011011111110111111111111111101011111001111111111011111011101110111101011101110101111111111011111111111111111101111111111111001110111011111111111011010010111111011111111110111111101111111111111101011111111101111111010111111111111110111111111111111111011111111111110111011111011011011111011111111011110111111111111111111111111111111011101011110111110111111111111111111111011110111111101111111111111010111111011111010101111111111111110111101110111110111111101011111101111111111111111011111111111101111111010111101110111011111111111111101111111111110111101111011011010111111111110111111111111110111111111100111111101111101111111111111111111110111101011111110111011111001111111111111111101101110110011111110111111111111110110101111001100111111111111111111111110111111010010111111111101011111111111101111111111101110111111110111111111111111101111111011010011111011111111101111111011011110111111011111101111111001101111110111110111011111111111011011010111111111101111101001011111111111110110111111111110111111111011110111111111101111111110111110011111111110110111111111110111111111011011111011011011110111101010111010011111011101111111011110111011111011111011110001111110111011111111110001111011111111111100100100111110111111111101111101100011111111111001101111110101111111111011101111101111101111111101111110111110111111101111110111111100111110111111101111111110111111111101111110111101111111111101111111111101100111110111111101111111011111101101101011111111111111111101110111111101111110100111011110110111111101111111111111011011010111111111110101111111100010111111011111111110110011111101111101111111111111111111111111111111111101110111111111101111110101111110111010111111101111111110111010111111111111110001111110111111110111111111111111111111111111111110111111111111111111111011111111111111111011101111111111111111111111111111111110111111111110110111111111111111000111111111011111101011101111111111111111101011111111111111011110101111111111101111011101110111111111111111101110111111111111111111111111111111111111010111111011011111111111101111111010111111111111111011111111111111111011011100111111011111111111101111101111101111111111101111111001111111111110110111110110111011101011101111111111111101111110111110110111111111011011111101111111111111110101110111111111111110111111111100111111111111101111111111111111111111111101110111101111111001111011100111011101111011010111111111111001111101011111110101111111111101111111111101111101101111111101111111111101100000111111101111111111111101011111111101111111100011111111110111011111011111011111111111111111111111111101101101101111011101111111111111011101111111011111100111101111111111111011110101111111011111011110110111110011011111111111111101011111110111111110111011110101111111111110111111010111111011011111111101101111101111011111101111111011111111111011011110111110111011111110111111110111111111101110111111101110111111101111111100110111111111111100101111111110111111111011111111111111111111110101111110001101111111111110011111111111111111110111111111111101111111111001110111010110111111111111111111111101110111111101011011101011111111111111111110111111111110111111111111111101111011111111111001111111111111111110111111101111101101111111111111101111111110011110111011110111111111011101111111111100111110010111111110111111111111111111111110110001100111111111111111111111101111111111101101111111101011010111101111111111111101011111110011111111111111111110011001111110110111101110111111101111111111111011100101111110111011111111101111111111111110110111111011111111101111110111111111111111101101111011011011110111111111101111001010100111011111111111111010011111111111111111111111111111101111100110111111111111100111111111111111111110101111111101111111100111110101011111111111110101110111110011111111101111111100101111111111111101110111110011111111101111111111111111101111101111111111110011101011011101110101110111110110111101111111001011111011011111111111111111101111111111111111111111011111111111111111110111111111111111110011111110111001111111111111011011110111110111101111011111111110111111111011111101011101111111111111111111010111111111101111111111111110011111111111111111101111111111101111111100111110111111111101110101111100111111111101111010111111111110111111111111011110101111111110111110111111011111111011111011101111111111111101011111011111110110100111101101111011111111111111111101101110111110111111110111001101111101011111101111011011110111111011011111111011111111110101111011111111101111111010110111111110011110111110111111110001011110111111101000110101111111111111111111011111111111111111111111111111111101111111111101111111111111111011111111111111101111111111101101111101101011111111111111111111111111111111111111101111011111111110111111011101110111101111111111111011011111111101111111111111110111101111111010101111100111101111111111101111111111111111001110011011011111111111111111011001111111111001111111111111111110101111111111111111111011011111111111110101010011111101110110111111111001111101100111111010101111111111111101111111111111101111111111111110111011111111111101101110111111111011111111111111111101111111111111111110111110101111111111111101111011011101111011110111111111110111011101111101011110001111110111111011111111011110111111110111111111111111111111111011101011111110111111110111111111111111111011111110111110111101111111111001010111111111111011011111111111111101111111111101011101111111110111111111010101011111111101111011111111101111111111011011101111001111110101111111111011101111011111111111111111111111111011111111111111111111111110011111111111111100111110101111111011110111111011100011111111111111101110111111011111110111111110010110111101011101101101111111111101111111010111110111101111111111111111111101011111101111011001011111101111001111111110111111111110111010111111111101111111111111111111101111111111111111011101111101111111110111101111111111111111111011111111100111111111101011111101111111111111011111111111111111111011111111111101111111110111111011101011111111111101111111111101101111111111111111011111111111111111111111111110111111011111101111111111111111011111110101000111111111111110111110110101111111111111100011111011111101100111101111111111111011011011111111111001101111111110101111101010111111100111100111111111111111110111011111111111111111111111011111111111011111111111001111110011010011111111111101101111101011111111111101111111011111111011011001111111111011111111011111010110110111111111111101001111100111111011111111111011111110111111101011111011111111111111111111111001011111110111111111111101011101011111101110011111111110111101111101111011011111111111111111111101111101101111111111111111001101111011111111101011011011111111111111111111111111111111111111011110111111110111111111101111111111101111111101111110111111111111111111011111011111100010111111110111000101111101001111111111101101111111110111111111111111101111111111111111111101111000011111111011101111011111111111011111110111101101111111110110101101111111111011011111111111111111111111110110101101111111111111110101111111111101111111111110111011111111111111100111111111111011111111111111110110011101000111111111110111111111111111110101010111101111111111110111111101110111011111011110101111111111111100111011111111111111011111111110111111100111111111111111111111011111111111111111010110111111111011111111110111011111011101111111011111111110110111111110110011101011111111111011011011011111111110111111111111111011101111111101111111111101111111111111111110111111111111110111111100111111111110110111111011011110111111111111111110101011111101101111111011111111101111111111111111101111110111011111011111111111101001111111111111011111111011111111111111011011110101011110111111101111111001111010010011111101111011111111111101111111111101111111111111111111111110110110111111111111110001111110111111111111111111111111001111011111110111011111110111111110111111111111011111111110111011111001011011111111111111000111111111101101111110110110111111110010111111011111101101111011111111011110111111111111111111111111111111011011111111111111111111101111111111111111111111111111111111111111101101111111110111111111111111011111111111111111111111111011011110011101111111111111111100001111111110011111101111110011001111111111111111111111111111110111011111111111011110111111111010111111111011111111101111111111111111111111110110110101111001111101111111101111001111001111011110111111101111111111110011001011110111111011010111111111111111111111000110111111111111111111110110101111111111111111111111101011110011001111111111111111011001111111111101111111111111111111111111010111111111111111110101111001111111101101111101111111001101111111111110111111110110111111111111111111111111011111111011111111111111111010011111111111111111111111111011111111111101011111111111111101111111111111111011101111111011111101111011111111110110111111111110111011111110011111111100111111001101111111111111111110111111111001101110011001011111011111111111111111111010111111110111111101111111111111111111111111111011111111111101111111101110111111110011111110111110111101001111111101111111111101110111111111111111110111111101111111111111111011011111111111101101101101111111101011111111111110101111111111101111101111111010111111011110111111111111011111111111011111011111110011101111111000111111111111101100111011111111110111111001111001111111111111111111110111111001111111111011111110110111101111111010111111111110011101111110011011111111111101101011111101111011110110111110010011101111111111011111111111101110011111111111111111111111111111111011111010101111111111101110111111111111111111001111111111101111111110011110111111001111111111110111011110111111111011111111111110101011110111011111110111111111111111111111111111111111111111111111111011100111111111111111011111111110011101110111110111111110111111111111111011111111011011101111110011111011111111110110011111110111011110111111111111011111111011111101111111011111111111101000110101010111111011111111111111111011101111111111111110011111101111111111111111101010111111111111111101101111100111011101010110111111111111111111101111110101101111111111100111111101111111111011111011101111111011011111111111011111111111101110000111110111011011111111001111111111011111011111111111110111011000101111101101111111111110110111011110011110111111101011011111111111011111111111111011110110111110111111101111011111111111111111111111101111111111111111101111111011110111010111110111111101111111111111011101111111110111011101111101011111111101111101110111111111011111101111110111111111111111111111111111011111111111111111111101111111111111111111111110010111111111111011111110010111111111111111110111111101100111110111111111111111111101111111011111111111111101111111011111111110011111111110110111110111111111011111111111111111011110111111111011111110101111010111101111111110111011011001110111011111111111110111111111111111111111111111010110101001111101110111111111101101101101111111111011111001111111111111111111101011111111111111011111111111111011111111101010011111110111101111101111110011011100110111100101111001110101111111111111111111111110111011111110110111111111111111101110111011111111011111111111011111011011111111111111111111111111111101011111111111111111101111111111110111111111111100011101111111111101111111111111111111111111111111011111111111111111111101111111101101111111111101011111011111111111111111111101111111111111111111111111111110111111111111110111110111111111110011100111111111111100110010111111111110110011111111111111111111110101111111101111111011101011011111110011111111111111110111111101010111111111001111111111110110101110111101111111111110110111101110101111111111111111101111111111111111111111101101111111111111101101100111111111111111011111111111110101101110011111111111111111011111011111111110100110111111111111111111111111111010110001011101111110011111110111011111001011111111111111111111110110111111111111111011111111110111110100111111101111101111111011111101111111111111101111110111111111111011110111111111111111111111111011101111111001111001111111111111111111111011111101010111111111011110111011111011111111111101111010111110111111111111111111011111111011101111110111111011111111110111101011111011111111111111111101110011111011111101011011111011111111101101110111111111111110111110100111111111111011101011111011101111111101010111110000110101111111111011111111011111110100101011110111111110111111111111111111100011011011111101111111111100111110110111011110010011001101010110011111111101110011110011111101011111111111011010111101111111111111110111111101110011111111011101011111111111111111111111101100111011111111111111111111101011111111111101111110110111111111111110111111101011111111111110111111111111110111101100111110110110111111111111111111111111101011011111111111111111111111110111111110110111011111111111111111111101101111101111101111111111111111101011111111110111111111110011011101101111111001111111111001111011111011111110110111111111111111111111110111110111111011111011111111000011111111111111111101111111111111101011111111101011111111111111110111111001111101111101111111111011111111111110111011011011111111111111111001111111111111111011011111111111101111100110111111001111111111101111101100111111111111111111111111111111111101111100011011110011111111101100011111110111110101011111111111101111111101111101111111110111011111111110111011111100111111111011111011011111111101011111111100101101101111111011111111101111111011111101010111110111111111011111011101010111110011111010100111111101111111111111011111111111111111111110110011111111111000111110011111111010111111111110110111111010111111111111011010101111111111011111111101111111011111111111111010111111101111101111011101111111110011111111111111111011111111111001111011101011111101011111111011111111111111110111111111111111111111110101101111111111011011111111111010111110110011010101111111111111110111011111101111011111101111101110011111111011111011110111011111111111111111001001100110111111000111111101111111101111111111111011101011111111111111111111111101111101011011011111111111111111110011111101111111111011111111111101111101101111111011111111111111111011111111011011111110110111111111111111110111110111000111111111111101110111111111111111100111011111111101111111100101011011111111111100111011111111110101100111111111101111110111111111110101111110010111111111111111111111110111101100111101101111101001111110111110111111110111111111011001111101111110111011111110011111110111101111110101011111110111111110111111101111111111011100101110110101111111111101111101111111010111111111111111111111101111111111111111111100111111001110111110111101111110110111111111111111111111011111100111011111101111101110110111111111011111111111110111111110011111011111111111111111111010111111111011010111111111111111111111111101111101111111110011111111001111111111111111111110111110111111101111011101111111011011111111101011111110111011110011111111111110111101111111111111111111111110111111111101111010110011111111111010111101111110111001111110111111111111111011111111111111111110101111111111111101100110001011111111101111011101001011110011110111111111110011101111111111111111011011111111111111110111011111111110100111100111111111111110110111011101110111111111111111111111111011111111111111011110111111111111011111011111101101110111111011111111001111011100111011111101011011010111011111110111011111000111011111111111101011101111111111111111111111111111111001111011111111111110011111111111011111111101111111110111111101111111111110111010100110101111110111011111111011101111111001101111110111111110111010111111111111011101101011111111101111111111111101111010111111111111111110111101111111110111111011111111111111111101111111111110110111000111111111111111111110111110111110111101101101111011111111111111111111111111110100111111011111010111111111111111111101110011101111011011111101111111111111111111111111111111111111111011111110111111011111011111111111111111110101111111111111110111011111110111111111011010111111101101110010111111111010111111111111111111111110111101101111111011111111111000011110101111111011011111111111011111111111111111110111110111110111010101110111111111011111111101101101111011111111111011111101011111111010111111110110111111011111101011101111111111011111111110011011111011111111111111111111111111101111101111110011101111111111001110011111111111011111110001101111111111111111111111011110111111101111011111111010100101111111111111111111100011100111011011111111110011111111111110101111111111111111101101111111110111111111011111111010110111011111111111111100100110111101111111100010111111111111110111110011010110011110100001111111111111101111111111111111111110111101111111111111111111111111111111110010011111111111111000111110111101110111011111101111111011111111111111111011111111111111111111111111110111111111011111111111111111110110111111110110110001111111111110111111111111011111111111101011111111111101111101010111111111100111101011101111111111011101111011111101111011101111111111011011111101101111001111011110101110111111111111111111111101011111011011111111111111111101111111111111111110101101110111111111111100111111110101111111111111111111011011111111111100101111111111111111110111111011100111111110111001011111101101111111110101111111111111111010110111111111111010101111111111111111110111111111111011111011111101101110111111011011111111111011111101111111011110110111011111111011111111111111111101111111111111111111010111111010101111111101110100111111111111101110111111111111111111111111111101111111011110111101111111100111111101111011111111110111011111110011100111101110101110011111111111111111111111101111111101101110100111010111101111111110111111111111111111011111111111111011011011111110111111111101110111101011011111111111111101111100011101111111111011111111011111110111111111111110100110111010111001111101111110111111111111111111111101110111011111111111011111110011111111011111111111111111110111111111111111111111101101111111111011001101011111111111101111110111111111111110001111111111111111110111111111010111100100111111111001110010111111111100111111111111111111111111111111111010111111111110111111111011111101111111111111111111111101101111101111111111111111011101111011110111111011111111111110111111111011011111111001011111111111111111111011111111111110110111111110110111111101111111111101111010110101111111110111111111111111101111111111011111011111111111111111011101110111011001111110111011110010011110010111101111001111111111111111111111011111011111111111111100111111111011110011111101111111111111011011110111110111110111111111101111111010111111111111011111111010110111111111111101111111011011011011011111111111111111111100110110101101110111111111110010111111110110111101011011111110111111111111111111111101011110111111111111111111111101111111111110011111111101011111110110111111111111110111011101111111111111111101111111111011111110111111011111111011111111111111111111101001011101101111100011111111111111111111111111011111111111111001011111011111111011110111101111011111011110111111010111111101101111110101100111111111111101101110111011011011111110111011011111111111111101111111110111111101111111111111110111110111110011110011101111011101111001111111111111111111011111011111011111111101111101111101111111111110011101111101111011111111110111111111111011111111111111111111111111110011110111111101111111111110111111101011111111111111111111111101111111111111111111111101111111011111111111111100010111111111111101111101110110001101111111111111111111111111111101100110011111101111111111111111111011101110111110111101011111110111110101111111111111111011111111111111111111111011111101111111111111111010010111111011110111101111111111101111111111111111111111111111101011010111111111111011111111111111110111110111111111111111110111111111101110101111011111100111111011111111111111111111100111111111111111111111010011111111011110110111111111001111011110111010101011111111111011110110110011011011111111111111101101111111111111111111110111111110010111111101111111111111101110111111111111111010110110111111111111111111011110111110111111111111111011111111101111101011111111111010101111101111111111011011111101110111111111111111011101111111111010101111111111011101111111111111001111111111111111101111111111001111111110111111011011111111111111111111111100111110011011111111111111101111111011111111111111110111111111111111111101111111011101011111111110111111111111111111111111111101111111111011111011111101111111111111111101111001111110111110111011101111110111111111111111011111011111111111111111111010111011111011101011110111111111111001111001111110101111111010111011001111110001110111110111111111111010111101111111110111100011111111111110101011100111111111001111110111110111111100110111111111101111111101010011110111101101110011111110001111101111111111111110111111111111111111111111100011111101111111111111111101110011111110010111111101111111111010111101111111111111111010111101110111111111111111011111110111101101011100111111111111110111111111111111110101111111111111111110011111111110101101011111111111111111110111111101101110111110111111111111110111011111011111111111111111001111110101110111111111010111101011111010111111110111111111111111101111101111111111111111111010010111010111111110011011111000111111111111111100111111111111111101111111100111111010111111011111111111111111011111110111111101111110110111111101111110011101111011111111110111111011111100101111111111011111111111111111111111111110111111111001111111011011110111100111111101110011111111111111111101110111111111111011111111111011111100111111110111111110111110110111111111111111111111111001101100111110111011011111111111111111111101111111011101111111001111111101111110110111111111111011111111111111111011011110110101111101110110111111101110111111110111111111111111010100110111011101101100101111101111111111101110111111111111111111101110110011111101111011111111111111111111011010001111111101111011110011111111111111110101111011111011111101111111011011011111110111101011111110110111111110111111111111011111111111110110111101111011111111110111111111111111011111001111111111111111111111110111111111100101111110111111111111111110111111111101111011010111111111111111111110111111111111011111111101111011111111111110110111110111110111111101111101011111111011111101101111110111111111100111111111101010101111111011111111111101111111111111111101111110111110111011111111111100111101111111111111101111011011110111110011010101111111111111110011110111111111111111111111110111111100110101010111011111111111101111110111110111010101110111111011111100111110011011111001111111111111101101011111101011111101111111111111111111111111111111101111101111111110111111111001111111001111111111111111111111111110110110111111101011111111111111101111111111111111011111011111011011111110011111111011111111111111101101111110111111111111111111110001111111111011011110111011111111111111101111110001111111111101011110111101111110111111111111111100111111111111111111111101111111111011111111111111101110111111111111011111101111111111110101111111111110101011011111111011010111111111010111111111111101101111110111111111110111111111111101111111111111111110111111111100111011101110101111111111111111110101011111111111011101110111111111111111101011011111111111101111110101111011111101011111111011111011101110111101111101111111011111110111111111101111100111111101111111101110111111111011111111101111011111101011110110011101111011111111111111110111110011101111111111111111111101111111111111111111011111110111111110111111111111110011010011010110111110111111110111011111111111110111101111101111110011011111111100111011111110101111011101111111110011011111111111111011101111101111101011011111111111011111111111110111100001101011111101111110111011011101111111011111011110111110111111111111111111011111111010111110111110011111111111111110111111111111111111111110111111111111111111101110101101111011111111111111111111101101111101101111111111111111111111111111111111111111111111111101100111111111111110111110111111011111111111111111111111111111111111111011111111011111111111011111010111011110101101111101111101011111111111111101111111111111111111111111111111111110111111111110110111111111111011111110111111111111111110111101110110111101111011011111111110011111111111111110010110011110111110111111110111110111111111111011110111111110111111111111111111101111111101111111101111011010011111111110111111001111011001101111111011110110111011110111111111110111111011011111111111111111111111110110011011011111111111111011101111101011110010111111111011111011111011011011110011111111111111011110111111111101101111101011101111110111111111111111011001111111010111111111111011111101111111111111111110111110010111111101101111110111110101111111011111110111111111110111110011111111111111111110110111111111111111111111101111111111111111111111101111101111101111111011111001111111110111111111111101111111111111111111010111111111111110111011111101110110111111011110111111001111111111111001111111011011111111011111101111111111111110011101111001111101111101111111101110110111011111111011101111011111111111111011111111111011111011111011011101111101001111110100111111111111111111111111111111111101101011111111011111111111111011111101111111111111111111011101100011011011111011111110101111111001111111111111111111111111011110001011101010111011110111111111111111111101111011111101101101110110111011111011111010111100011111001111101111110100111111111111111101011111111111011111111111110011011101111111111101111111111111101001111111111111111110111111011011111011111111111111111111111110111111111111111111100111101111011111111011111111111001111111111011011011101111111100111011101101111011111111111111101100111111001111111111110111110111111000101011111101110111110111111111111111101110111111110110110110110111111111110111111010101111011101111111011011111111010111101111111110111000111101111111111111100111111011111111111111111011111111111111110110101101110111111110011111111110111111111111011011111101011111001111101111000011110101101101111110111001101111111111111111111111111111111111011111101111111111011111111111111110010011100111011100111111101101111100111111111111111111101110111100111011111110111110111111101110111101111111100101011111111101111111111111111111111110111111111111110111111111111111111011110011110100111101111010011111010111111111111111111111111001111011111111101111101010111111110100111111111111011111101101111111111111100111111011111111111001111110111111111110111111001110111011101100111111111111111101111111111101111011111111111101111101111111101111101111110111111011111111111111110111111111011111011110111011111111111110111111110110111111110111011011111111111111111110110001111111111101101110111111101101111111011111111110111110101110111111111101111111111111000011111111101101110011101111111111111110011110111101111111101111111111111111111110111101101111011110111111111110111111011111111111111111111110101111111111100000111111111110111101101011110111111011111111001011111111111111111111111100111111111111111111111111111110011111111001111111111111111111111111111111101111101111110101101001111111111111111111111111111101111011111011111001011010111101011111111111111001101111011011111101111111011111111011101111111111111011100111111100111111111001111110111101111101111111111010111111111111011111111111111111111001111111111111011111111011111111111111011111111111111101111111111111111111101111101101111110111110111111111111110011111111111011111111111111111111111111011011111101011111111111111011111111010101101110111111111110101111111101110110110101111011111010011111101011100111001111111001111110110011111111111000110111110100011110011101111111011111110111101111111011111111111111111111100111111111111101101111111111111111111111110111111111111111001111101110101111111111111001111111111011111111110111111110111111111101111101111011110111111111111011101111011011111111101110111001111000101111111111101011111111111111111110011111111111111111101101010110011111110111001111111111111111011001111111110101110111111111100011111111110111111111110111111111100110111111110111101111111111111111111111111111110111110111111111101111111101111111111111111010111101111011111111111011110111011011111111111111111111100101111011111111001100011101111111100111111111111111010111111111111001110111111111011001101111101111111111111111111011111111111011101000111111111011011111011111110111111111111110111110011001111111111011111111111111111110111011111111011011111111011111001111111111111111011111011111101111111101001011101111111011101111111011111011111111111111101111111111110110111111110111111110111110011101111100111111110001111010111111111111111111111011100111111111111010001110111111110111111111111111110101010111001111110101110111111111111111111111111111111111111110111110111111101101000111110111111101011101110111111111111111111101111011111001111111111010111111111101101111111111111110111111011111111111111111111111111111111111111110111111101111111111110101011111111111111111111111101100111001111111111101010101111111011100111111110111101011111101011111111111111111111111110011111111010111111111011111111111111111101111111111111111111111110111011111111101101111111111110111010111111111111111111011110111111011011111111111111111111111011111111111111111111111111101110111011111111111110111111111010111111110110110111111111111111111011011101111111110101110111111101111101011101111011001111111111111111111101111011100101111111011111111110001111111101111111111111111101111111110011111111111011111101111111011101111111111110011110111110011111101111111111110111110111111111011111111111111111111011111011011111111111011011111111111011111111011011111111111111111100011011111111111111011111111111111011101101111111111110100101110111111111111101110111111001111111111111111010101110111111111111001101111111101111111111101111110111100111111111110111111111111111100111101110111110111111111110001111101111111111111111111111111101110111111100101011111111010010101111101111010111111110111111111011101111001101110111111101101111011111111110111111011111111110111111111110101111101010110111111111111011111100011111110111111110111111011011111111110111101101111001111101001110111101111111111011111111111011111111111111001111111111011101111111111111111111111111111011111110110111111110110111111111110111110110111110111111111110111110110111111101111111101011111101011111111010101101111010111111101111101101110111111011111111011101111011111111111111111111111111101111111101111111111101111111111111111111110001111111111111001101011010111111111111111010111111111111111101110010010110011111111111111111111101111100110111101111011111111111110111111111101111111111110110111111110110111111111011101011111110010111011111111110110111101110110111111111101001011111111111101111111110111111110011110111110111111110111011111101111110011111111010001111111111011111011101011110111111111110111101111111111111111111111111110111111111101011011100010111101111111111011111111101101111101001111111001111111111111110111111111101111111101111111110111110101111111111111111111101111111111101101101101111111111101101110101101011110111101011111011111111111110110110111111011111110111111101111111110010111111100110111011101111111111001101111011111111111111101111111111110111110111111111101011111111111111111111111111111101111111101111111111011001110111111111111111011111111111011011111111111101011111111111001111101111111111011111110111011101111111011111111111111111101011111010111111111111101111111111111111111011111101101111111101111111111111111101011011111111111110110111001111101011110101111101111111111111111111111111111111110011110011111111111101111111111001011111111111111111111111111011111111011101111010110011111111111111111111111111111010111101110111111111111111101111110111101111111111111111101111111111111100111001111100111111011101111101011111111101110111111101110111111111111101100010011110110111110111111111111101111111111111111001111111101111111111111111101111110111111111100110111111101111110110110111111101111111111011111111111111011011010111111111111110110110111011111111101111111111011111111101111111111111111111111110111111101101111111011011111111111011111111111111110111101111100011001111111011001110111111010111101111101111111011011110011111111110111111110110111111111111110111111111111111111111011111111111111101011011010111110111101111111111011111111111111101111111111111011011111110111111111111111111111010111111111111111111011111111111111101111111111111001111111111111011111111111111111011101011110111110111110111111111111111111011111111111111101011111111111010110111011111110111111110111101111111111100111011111111011111111111111110111110111111111111011001011011011111111111111111001010111111111111111101110111100111010111111100111111101101100111111111111110101111111111011111111011111110111111111101111110111110110111101111011111111111111011111011111111011111111111011101111111110111101101101101101110111110010111110110011111111111111111111111110111010011101111101011111110111111111101111111100110111111111010111111111111111111101111101111101111111110111111100111111111101011111111111011111111110101110111111111111011111111101111011111011110110101111111111111101101111001011111110111001111111101111110111111111111111100101101111110111011101101111111111111011111111111111111011110000101111111011111111111111111111111111011110111111111111101101101111111111110111111011001111111111110111011101101111111011101111111111111111011111010110101111011111111111001111111111111011111011001111111111111111111111111111111111111110111111111101111010111101111110111111011111101110111111111110111111011111111111110111110111001111111111111101111111111111111110111111111111011111111111110111110111111010001110111101110111010111011101011111111111111101111111101111111110010110111111101111110111101111111111101110111111101011111111111011110111111110111111111001101110111111111110011111101111111111101110111111111101110101111111111111101111110100111101111110101011111111111101111111110111110011010101110111111111111011011111111111111111111111111111011011111111111111111110111101111111111111111111111111111111111100101111111111111111111111101111111111111111111111111101111110111111110110110111110111111111011111111111111111111110110111111111111111011111001111011101111011011111010110111111101011001111111101011110110111101111111110101111111111110101111111111111111110111111011111111111111110110111111111101111111111111111101111111111110111111111111111110011010111111111111111101101111111111111111101111110111111110111111101111111101111111100111011111101111111111111111111100110111111111111111101011111101111011101101111111110111111011111111111110001111111111101111111111111111111111111110111111111100111110111111111111111111111111111111110100010111011110111110111111011111011111111111111101111111111111111110111111101101101111110101011101111111111111111111101111111111111111111011111011111111111111110101111111111111111111111011101111011111111111111110111110101111111111111111111111111111111110111110110111101111101111111111111111111011111111110100111111011111111011111101111111111110111011111111011111111111111110011111101011111111011111101111101111111111010111111011001111110011111111111101111110111011111111111111011111111111111111011111111111111111110111111111111111111010111011110111111111111111110111111011111111111111111111111111111111110111111111111111011101110010111111111111111101111111111111101111111111111111111011101010011111111011101111111111101111110111111111001110111111100111110111001111111111100111111011011111111011110111111111111111111110111110111101101101110111111111111111111111100111111111101100111111111111010110101101111011101111111111111011111111111111110111111110111111011110011011110110111101110101011101110111110111101111111111111111101110111011011011111110110101111111011111111111110111111111011111011111111111101011110100101101111110011111111111101111011111111111111111011111001111011111111111110111111101111111011111111111110011111110111010101101111111111011111111111011111111111111111101111110111110011111111101111111011110111110101111011111110101111111110101111110111111111110101111111100011111111111111011101101111110110111011110111111111111111110111111111111110100111011110011111111011111110111111101111101111111011111111111111110111111011101111110111001111110110111011101111111101111111111011111111011111111111111110111111111110111111110011111111111111111111111110110101111111101111011111110111111111111110111111111110111110111111110111111111111110001111011110111111111111101111011111111011101101111011110111111001111111111111101111010111111101111111111111111100011111111111111111110011111111111110111001110111011111111110100111111100111111011111111101111111111111111111111111111111111111101111111010111111111101111101111101111111110100011110011111011111010111011110111111101011111101110110111101110111011111111111001111010100111101111111111111111111100111111111111011111101110100010111100111111110111101101111111111111111111111111111111111111111011111111111101111111111111011111111001101111111111101111111011111111111111111101101110111011101011110111111111101111111111111101111111011011100011100111111111111011111111101111111111001101110111111111111110111111110111111111111111111111011011011111111111111111111111111110111111111110111111111111110010111111101110101111111111111110111110111111110111101110101110111111100011111111111111111100011111111011111111011011111111111111111111111111100110111111101101111110111110101111111110110111111101111111111110111111001111110110011011111010111101101111101111011101111111111111101111111111111101111111010111101011111011110111010111100110111111101101110111111011111111111111111011111111100111111110111110010101111111111111111111101111101001111101111011111111111111101111111111111111111111111101011111111111011001111111111111110111101010111100111111101101101111111110111110111111111111111111111111101111101101101101111011011111011111111101111111110111111111101111111111111111111111111111011111111111111111101111101110001111111101111011110101111101111111111101100111111111110101110110110111111101111111011111111111111100010111111111111101111111111111010111111111001111111111111111111011001111111101101101111111111011111101111111110011111111110111110111111111111111111111110111001011011111111111111111111111111111110111111111111110111011111111110101111011111011111111111101110010111111111011111111100111101111011110110011110111111111101111111000111110111111111111111101111110001111111111011110111111111111110101111111111101110100111110111110001110101111111111111011011111111010111111110111101111111111101111111111111101010011010110111101011111111011111110111111111111101111011011110110011111111110111100111101111111111010111111001111111111011111110101111111011111011010001111101111111111111111111111111011111111110111111111111011111111101001111111111111111111111111101101011110110111111111111111110111011111111111111101110101101111101010111011111011011010111111111111111101111110111111011101111101111111110111101011111111111111101110101111101111011111111001111111111111111101101111111111111110111101111110101100100110011111111111111001111111111111111111111111111111101111011111111111101011011110111111111111111111101010011111111111111111110111111111111110111111111101001110110101011110011110111101111101001111111111111111111111111111110110110111111111111111111111111110111100111111101111100101111111111110111111100111111101110111011111111111101111000111011111111111111011101111101101111111111111011111111011111010111111111111111111100101011110111011111111110111110111111111111111111111101111111111111110101101111111111101111010011110110111111111111111011111111111111101111110101111111110111111111101111111111111111111110011111111110111110111111111011010111111110011011111111010110011011111101111111010101110011010111110101111111111101110110110111111110111011011111111111010110111111111111101111111011101111111011111111010011110111111111111110111110101111101101111111011101110111100111111101111111011101101111111101111100111111110011111111111111011111111111101011111111110111111110111111111010111111111101111111111111111111111111011101111110011011111111110011101111111101111111101111111101111110100011111001001111101111111111111111111011111111111011111111011111101011111111111111111111111111111111110111111111111011101111101111111111111111111110111110111111111111011110111111111111111111101111111111100101001110111111101111111110111100111111110111111110011011111110111111111110111101111111011111111111111110111111110111001111110111111111111111101111111110111111111111111011101111110111101111011111111111111110111111101111111111110111111111101110111001111111110111111110111101111111111110110101101111111101111110011111111101111101011111011111111111101011110010111101011111111111111111101110111111111011110111111111111111111101111111111111111111111111111111101111111111111111101111111011111011011101110111111111111111100101001101111011101011011111111111111111111110001111111111111111111101111111111011111111111111111101111011111111011101111111111111011111001110110110111110111110111111111111111110101100010100111011111101111111111111111011111111111110011101011111111111111011111110110111111111111011111110111010111111111111111111111101111101111111111111100010011111111011111111110111111111110111011111111111111111100111110011111111111010111111111111111111110110111111111111111110111100111111101111111110111100111111111111111111111111101111011111111111101111111111111111110111111111110111111110111000111111101011111111011111110111111101111111010011111111111111111111111111111011111111101111111111011111110110111111111111011101011101110111111111111111101111111101111111111111011110111101111010111111111101111111111111111111110011111111110011101111100111111111110111111111111111101111111111111011111011111110110111110111111111111111111111011111111111111011101101111111111110111111111110111111111100001111111101111011111111001111111110111111111111110111111111111100110110111111111111111111111111111100111111111101111110101100111111111111010111111111010011011111111101110111110111111111111111110111111111110111111111101111101110111111110111111011111111111111101111011111111100111011111111111011111010111111100111101111101111110111001101101110111101111111011111111111101111111111111101101110111111101101011101111101111111111111110111001011111101111111111111111111100111110111001111110111111111111111111110111101101110110101101100111111111111111111111111111111100010111111111111111111111011111101001011101111111111011101111011111111110111111101111111011111110010111111111111011111111110111101111111111110011111011111111111111111100111111110111111111111101111111011011111111010111101111111111111111111111111111111111111110110111111111111111111101011010111111111101011100111111111111111111111111111110101111111111110111111111111011101111111110010111111111111111111101111110011111111111111011001101111111111111111111111111111111011111111111111100111111111111111111011111111111111111111111111111111111111101111111100111111110111101111111101111011001011011111111011011111111101110111101111111111111111011111111111011111111110110111111111111111111111101110111110011111111011111111111110111111001110110111011011111110001111011111111111011011101111111001111010111011111110101111111111111111111111111010011111111001011010111110110111111111110111011111101111111111111111001111111011111111101111111110111111111111111111111111111100101111000101111111110111110011111111110111111111011011011111011110111011111111101111111011111111011111111101111110010001111111111111011110111110101111111111111011011111111111111011111011111011111010101111111101111111111111111100111110111111111111101011111111101111110111011111101111111101101111111011110111110111101111111111111110111111111111111101111111111111110111111111111111110111111011111111111111111010111011011111111110000111111111101111111111001100111111001111011101111011011011011111111111111110111111011101111011101111101101111111111101111110111101111111011111101111100111111101011110111101111110101110110111111011111111111110111011111111111011111110111111101111111011111100111101011010111010111111101101111111011111111111111111111011111111111111111111111111111111111111110111111111101111111111110011111111111111111111101110111111111111101011111111101101111101111111100110011011111111111111111011011101111011111111111111110111101111110111111110111111101111111101111111111111111111111100111011111111111011110110011111111110101111110111111101111111010111111111111111001111111111001110111111101111111111111110101111111111101111101111111111111111111111101111011101111011111111101001110110111111111111111111101111110111111110111100101111111111111111110001101011111111111101111111110111111111100111101111111111101111100111110111111111110111111111110111110111100111101111011001011111111111111111111111101011111111010011111111111111010111011111011011111111111111111111110111100101110111111011111111011111111111111110111111011111111001111101001110101101011111110111111101011111111011111111011111111101110111111111111110110111011111111111101101110111011011111111111011011011110111111111110111101111111111011111110101111111011111111111111111111110111111111010101111111101111111111101011111111111011111101111111111111111100110110111111111110111111011101110110111101100110111111111011100111101111011101110101011111101111111111011101110111111110110011110111101111111111011111111111011110101111111101111101111011001111111111110110101101111011100111111011111111111111111111111111110111010111111101110111101111011111111110111111011111001111111111101111111111111001111111111111110111101111101111111011110111111101011111101111111101111111111111111111111111111111111111101111111111111110111100111101101101111111111111111111111111111101111011111110010111111110101011101101111111111001111111111011111111111111111110101111111111101111110111111111111111111111111111110111101100111111111011101101111111101111111111111111110111101111111110111111011111110111111001111011111111111101110111111111111111111111110110111111011011111101111011010011101101111111111111101101011111111001011101111111111111111110111101111111111111111110111011111011110110111100001111111111111111111111111111100011111111111110100111111111111111111111111111111101101111111111111111101101101101111111010111111111110111110011111111111111011011111000111111111111111011111111111111010111010111111111111011110111111101111101110111111111111111011111111111111110111111111110111111111011110111011111111111101101011001111111111111111111011110011101111111010111111111110111111100111111111110111101111101011111111111111111111110101111111111001111011111111111011111111111111111111111111101111111111110111111111111111101101111111111101011101111111011111111011110111101111111111101111101111111111000101110001111101111111111111111111111111110101111110111111011101101011111111111111010111111111111110101111110111011110110111111011110111011101110011101111110111011111111111001110111110111101111111111111111111011111100101111111111111111110111100111111111111111111111111110110111111111101111101011111111111011111111111111111111111010111111111010110111011101111010111101111111111111111001111111011111111100110111101111111101101111111111111101111111111111101111011111110010111001011111101101110101111111111111101101111111110111111111111111111110111111111111111110111111110101111111001111111111111111011111110111111111110110111111101100111111111111110111100111111111111011110110101111111101111111101110111101100111111111101111111111111111110111111111011111001111111101011111111011111110011101111111111101111011111111111111111011111111110111111011111111111011101111111100100111011111101111111111111111110111111110110001111110111110111111111111010111101111111111111111110001111001011111111111111111110011111111011011101111111111011001111111000100011101111110111111110010111111111111111111110111111101111101110111111101100111111111111111101001111111111111101111011110111111111111111111111111111111111101111111100001101101111011111111111111101111110111111011111111111101111111011111011111111101111111111111011110111111011111111111111111101110111110111101010101100011111111111011111111111111111111011111111111111111011111011101011011111111111111011110111011111000111111111111111011111111110011111111011000011111101011101111011111100111111111111000111111110011111011101110101110001111111111111001111111011111111011110000111111111110101111011011100111110111111111111111111111111110111111101110011011011011111111111011111111111101011111111111101111111011111111111111011111110111111111011111111111110110101111111111111111111111110111111001101111101111111101111110011011111111000110111101111111111111111111101111111111110110111011101111111110110101111111111111110111011101101111110111110110011011100111111100101111101111011011111110110111111101100111011110111111001101111011111001111111011111111011011110111110011111111111111011001111111111111111111101111101101100111111111111011111111111110100111111111111100111011101111011111111111111111111011100111111011111011111111111111111101111111111111111111111011111011110100111110111011111101111111111111111111011011111111111111101110111111111011001111111111111111110111011011111111111110111011111111011111111011111111111011111111101111110011111111111110111100111111111111111111000111111111111111100111111111111111111111111111111111111101111111101000111111110111111111011111111111111110011111110111111101110101111111111011111011111111111101111011111111110111111111011101111101111011111111111111111101011111011111111111110111111101110101111010111010110101111111111101101011111111111110101110011111001011010111111111110011011111111111111111111011111111111111111111111110011111111111111111111111111110110111111110011110111111110111111111011111111101010110111111111111111001111111111111111110111111101110111111111111110110111011101101101101010011011011111111111111111111111101011111011111111111111111100111111111111111111111101111111111111110111111111011111111111111111111011111111011111001111111011111101101011111011111100111110110101000111111111111111111111111010111011111111011111111111111111011101111111111111111111101001110011111111111111111111110111111011011111111111110011111101111110010111111111111010111111111011111101111111111111110101111111110111111111101111101111111111110011111101111111101101111111110111010110111110110111001110111111111111011101111011110111111111101110011111111111111111111011111111111011011111111111111111110011111111111111010111110111111111111111111111101111011111111111101111011101111111111010111111110101111101110110110111110111110111111101111111111101101111111011101111111101111111110111111011111111111101111101111111011111111111111111001111111111110111111111101011111110011111111111111111111111111111111110111111111011111111110111101011101111111111111111111011111001111111111110111110111111101011111101001011111111111011101111110011011111111101111110110111111111100110110111111101111101111010111101111111111011111011111101111111111110111110111111110110111110111011001110111110110110111011111101011111110111100111011011010011011101111011011111110111111111111110101111001111101101111011111110111110111110111101111011111111111111111110110111111111110011110111010111011101111111111111111111111111111111111111111111101111111111100101111110011111111111101010111101111111111101101111111111111111111111101101101110011111111011111101111011111111111111110111110111111110110111101111111111110111110111111101111111111110101111100111111111110111111100111111110010101011011111101111111111111110011111111111111111111111111111111111011111010111111111111101111101111111111111011101110111111111101011101101010111101111111111111101011011111101111110011111111111111101111101111011111011110111111110101011101110111111111101101111111101110111101111111110111111011011111101010111101001011101011011111111111111111011111111111111111111111101110111111111111011111111111111101111111111101111111101011111011111110111101111111001111111111011110101111101101110111111111111111110111110110111101111101110011111111110011111111111111101110111010100111111111111101111101110101011101011101101101111111110011110111111111111110111111111111111111111111011111111011111111011111111110000110111111111111111101111111110111111001111111011011110011111111111111100111011101111111011101111101101111111111111111111101111111111111111110011101111110111111110101111111011110111111111111101101111111111101111110111111111011101111111111111111111111111111111011111111111101111101111111110111111111111111111110011111111100111001010111111111111111110111101111111111111110110111111011111111110110111111111111111111110111101110110111111111111111111111111001111111110111011111111111111111001111111111101111111111100110101011111111111111111111110111111101111111101001111111111011111111111100111111111111100111011111111111111100111110110111111100111111111101011111111111111101011111111101101011001011011111111111111110111011111101111111110111111101111111111111100111110111110111111011111111100101110111110111111111111111101111011111111111111101111111101111111111101111110111111011111011111110100111011101111111101111110011111111110111111111010011111111101111010110111111100111010111111110111111111111111111111111110111111111101111111111111111111111011110111111110000110111100001111111101101111100111111111110110110111111111111111111110111111101111111011001111111010111111111110111011101111111111101111011010111111110111111111110111110111110101111101111111011111111011001110111111110111110111101111111111111111100111101101111111111111111111111111111111111011011111111101110100111111110111111111111111111111111111111111111111111111111111111111111111111111110111011111100111111111110101010111001111111011111101111101111101101011111011101100011111111111111111111111111110111111111110111101111111111001111111100111010010111111100110110111110111111101111111111110101111111011111111011101111111111111111111111011111101111111101111111111110111011011111111111111111111100111111110111011111111111111110111111110111111011010111111111111110111111010111111111110111110111101111111111111111011111011111101111111110111101111011111110111101110111111111110101111111111111111101111111111111011111100101101111111111111111111011011111111110111111100111110111111110111111111111111011110111111101111111111110111111011101111100100011111111111111011111111101111101111101111111111111111111111111111011110110111111111111011010010111001111111011111111111111111111111111111011111111110110101100111010011010111011101111101101111011111011111111110100111111111111111100111111110111011101100110111110111110111110111111111011111111111111111101101111111111111111101010111111101011111111111011111111111111111111111110100111101111111111111111011111111111001011111111111111111111001111111101111111111111011011101111111111111110101110111110010101111111111111111011111011111010010111101101110011111111001111111111111001110111111111111111111111101111111011111111111101111111111111110011111111110101111011101111111111111111111111111011101111110111000111111101111111111001111111111111011011111101111111101111101101111100111100111111110111111111110011011111111111111111111111111111110111111111110111111111111111111101101111110111101111111011111111111011111111111101111011101101001111111110111111011111111111111110111111111111111111011111110100111111011111111110011101111111111111111110111101111111111111111011110010000111101111111111011011001111111101111111111111111111111111111001111111111011101111111111110111111111111111101110111101110111110111100111111111111011011111111111101101111100111111111110111101111110101111011111111111011111111111111110000111111111011111111111101101111111101111111111011111111111111011101111111111111111011111011111101111111001100111111111111101111111111101111111111111111011110111111111111111110111111110001111110110101101111111111101101111111100111111111111111111011111111111101111111111111101111111111011111110100011111101011111111111111111111011111111110011111010001111111110111111111110011000101111111111011110110111011111111111110111011111111111110010111111011111111110111011011110110001111011111111111111111111111011111111111101111011111111111111011111111111111110101110011110111100111111111111101011111001110111111110111111110010111111111110111111111111011111101111111101111111111110110111111111111011011011111111110111111100000101111111111111111101101111111111111111101111111111111111111011111101011101111111111111111110111111111111111110111111111111111111010111111110110111011111111111111101011111001111111111111111101111100111111111111111111111111111111111111111001110101111111111100111100111111011101111111111111110111010110111111000101101111111111111111111110101111111111011111111111101111111001110110111111111111111111111011111111111011101111111111110111111111111111011111111111111110110001111011111111110101111011011111010111011110111111101111111111111111110111011111111111011111111111111110111111101011111111111011111111111111111111111111111111011111101110101110111111111111011011111110101110110011101111101111011111111110111101010111100111111111111001111111011011111110111111111101111111111111011011111111011101101111100110111111111110111111110111111110011111111111111111111101111101111111111101111111111111111011111111111101110111101101011111111111111110110111011101110111111110110110111110101111111111101010111111111011111111100011101111111111111011110101111111011110111011111111110111110011110111111111011110010111110111111101111001101111111111101011111111011111111011111111101111110011111110101111111011111111011111011111101111111111111111011111111111111111111111111101101111010011111111101011111111111100011101111111111111111111111111110111111111111101111011011001111111111111110111110111111101111010111111110111101111111111011011110111111011111111110111110001111011111111111111111111111111111111011111110110101111111111110110111011101101110110111111111111111110111111111111111110011111111110111111111111101110111110111111101111111010111111111111011111111111111111110111111111111111100111111111101111111111111111110111111111110111111011111111111111111010111101111111011101111111111110001111111101111111111111111111111110101111101111111111111111101111101001011111101111111111110111101111101110111101111110011111111110110011111110111111111111111110111111110101011111110111101111111011111111110110111111111111010111111110111111011011110101110110011111111111111111111111111000111010111111100011110111111111111111011111111111111111111111111111111011101101110110111111111111111111111001111101111011111111001101111101111111111111101111111111010111111111111101111111111111110110110110111111111111111111011101111111111111110111101111101101111111111110101010111111011111111111101111111100111010101111111111111011011111111111110111111111111111111111111101111111111111010111111111101111111110110111111111111110111111011111101111101100111101110111111111111111111110110011011101101001111111111111111101110111111110111111111111111111110111111111101111010111111111101111111111101111101111111111111111110111111111101111011111110110001101111110111111011110110111111111011111001111101111110111110111101111111111111111111111110111111111110111111101101101111111111111101110110101101101111111011111111101111111111111111111110011111111011110011111111111111111111111111100010011011011111110111111111101111111000101111111111111011110111111110101110111111111011110110111111111111111011001111100111011111111111111111111111111110110111101010110111111111111111111111011111111110111111111111111111111111111111111111111111111111101111111000111101101111111111011010001101111111010101111111111111100111111111111111100111111001110111111111111111111100111111111111111111111111110111111110000111111110111110110011111111111111111111110111100011111101111110111111111111111111111111111111111111111111111101111110111110111111111011111001111111111111111111111111111111010111111111111110111111101011111111110101111100110111111011111111111110011001111100111111101111110111111111111111111111111111111111111111111111111011111111111011111111111111111111111111001011111001100111111111111101111111011111101000111011111111111110111111001111111111111111011110111111111111111111111110011111111001110101111111111111011101110111011111001111110101110000101111011111111111111111101111001111111011101011111111111111111110101111111111111111110111010010111011110100101111111101111110111110111111000111110111111011011111111011101110111110111101101111101111111111111111111111101111111111111111110111111111111110111011111111111110110001111111011101111111111111111111111101111111101111110111111111011101101111111111111011111110111111111011111111101111110111110111111111111111111111110111101111111011111111011111011111111110111111111111011010111111111100110011111111111111001011111111111111011111111111010011111111111101100111111111111111111111100111101101111111110111101110111011111100110101111110111101101111111111111111111101010111111111111111111111110111011001111111111111111111111111110011111111111111111111111101110110110111101111110111111111111011011011111110101111001110101111111111101111111111100111111111111111111011011111111101111110111011111110111111111111111111111111111111111111110001111111110001111011111111011111011111111111011111110111111111111111101111111111111111100110111011111111111111110101111011011111111011111111101111111111101101111111011111111110100111111110111101111111101111111111011111111111111111111011101111111111111101100111111110111111011111101111111111101111111110111111111111011110111111101101111111111110111011111101111111101001111110111111101111111110111111111111111111111111111011101100111011111011111101111111111110111110111111101111110110111111011111111111110111111111101111001111111110110111011011101111111110011111111011111111111110111111111111111111111110001111110011011001001110111111111111101111110101110011111101111101111111111011111101110111111111111111111111111101111001111111111101111111010111111111110111001111110111110101101111011111101111011111011111111111111000101011010011111111111111111111111010111111111111111111110111110111101111101111111110111111111110010101111111111111010100110101111111111111111101101001111111011111100001111101111011111111111110111111111100111011111111011111111011111111111111011111101111111111111101101111101011010111110111111011111110111111111111111110111111110111010111011111011110101110111111111111111111111111110111101111111111111101111111111111011101111111111101111111101111111011010111111110010011111111111110111111111001101101111111111101111111111111111110111011111111011111111100101111111011111111111111101111111111101001010111111110111111111101110111111111111101111111111110111111111111111111111101101101111111111111111111110011111111111110111011110111100111100111111111111111110111111111110111111110011111111111111101110111111011111011111111110011111111111110111011111101111111011101111111111110111111111111110010111110111011111111011111100111101111111101101111011111011111001111111111111110111110011111111100111101011111101111111111111100101101011111001011111111110101111110111111111111111111111111111100111011111011111101111101011111111111111111111011111011101110111111111111111111101101111111111111111111101111111111111111101111111111111100110110111111111011011111101110111011101111111111111111011111110111111101111011011111111101111111111011110111111011110111110111111111101111111111011111111111110111111111111001111111111001111111011111111111111111111111111110011110111101111111101111011110110111011111111111111111011111111111011111111110111001111001101011101111111111111111111111100111111011111101101101111111101011111111111100100101111101111011111111111111111011111111111110111111111110011111111111111101110011011111100111111101111011101110111111111111111011111111101111101111111111101111011111111111111101101111111101111111100011111111110111111011111010111101111111011111101101111111101111101101101111011101111011101101111111110111111111111111111101111110010111101111111101110111111110011111111111111011101110100111011111110111111111111111011111111111100101001011111110010101101111111111111110111101111101111111110110011111111111000111111101011111111110110111101111110111111110111111111111111111111111001111110011110111011111001111111101111111111111111111110111101101011111111011111010101111111110111111101101111110111011111111111110101101111101111111011001111111111111111111111111011011111101111111111111011110101101111111111001111111111111111111111110110110011111111111111110101111111110111111101111111011111011111101110111110111101011101111111111111111101111111111111110101110111110111111110101111111111101101111111111111111111111111111111111111111101111111110110111110111111111101111111011111111111010111110111101110111111111111110111101101110101111111111011110111111111111111111111101111111101101111111111111111111111111111101101111111111110111101111111111101111011111111111011111111111111111111110110111111110111110111111111111111111111011011111111111111110111110011111111101111111111111011010111111111111111110111111111011101111111111111110110111101111111111110011100111110111111111111111110010101111111110111110111111011101111111111111111111011111100111101111111111101111111101111111101111111111110110011111111111011111010111111110111111111010111111111110010111010111011111110111111101011111111111111111110111111011111111110111001101111001111111111110011111111111111111111110111111110110101111111111111010111111111010111110111111111111110111011111011110111111101001101111001110110011111011101110111111111111111011111011111111111101011111111110101111110111001111011011011010011111111110101111111111101111111111101111111111111101111111111111111110111111001010111100111011011101110111111110101111111110011111111111101101111111111111011111111111111001110111110111111011111111111111111111111111110111011111011111110111011110111111111111110101111110111111111111010101111111111111111111111111111011111101110110110111011111111101111111111111111111111011011110111111110111101111111101111011111111111111111011111011111011111111111110111111011111111111111111110111111001111111110110111111011101111111111101100110100011111111111110101111111111111111111101111111011111111111111111101111111011111111111011111111101111110111111101010011111110111111110111111011111011011111111111101111101111111100110111011111111011111111111111111111101011011110010111111111110111110110111111111111111111111111111111111111011111111000111101111111101111111111011111111111111111011011111111111111110111111010111000111111111111110101110111111101011111110101111100111101100111111111111111101110111111111111110111111111101011101101111111101111111011110110111110111101111111111011111111111111110111010111111111111001111111111011111111011011011111111111011110111111010110101101111111110111101111111101101111111011001111101100011111111110111111110011111110011011111011111111001111111111101101101111011001111111111111111110101111111111111101111111111101111111111111111101111111001111101111111101111101100011011111111111110111111110111011111111111100011111011111111111111111111111111111111111111111101111101001001111011011111111101111111111011100111111110111101111111101111111111111110101111111110111011101101111111111111111111101111111011111111111111111101111111010011111111111110110101101111111111111111111111111111111111111001111101111111101111111111110111111111111111101101011111011111111111110111100111111011111111111111100111111110101111110110011100111101111011111110110111101111011111111110111111111110111111111111110111011011111111011011011111111101101111110111111011110111011111101001111111110101111111111011110111011111011111100110100111011111111111111111111111111110111111111111101011111111111111010111011101111111111110111111111111101111110111101111111111100111111111110111101111011110111111111111111011111101011111111111111111111111110111111111111111111111011111111111110011111111110111111110111111001111111111111111110111111111111101111110111111110110101001011101011111001100101101110111111100111111111111001111111111111111011111111110111111111110111101111011010111111001111101110111011111011110011111111111111111010111101110111111111111111111111111111111111111111110111111011111111111111111110111111111111011111111011111111101110111111011111011111111111001111111111111101110111111011110010011011111111110101110111110111011111101111101110011111111111110111111101111111111101101011101111101111111111111111111111110101101111111111110111010011110011111111111011111111111111111111111111110111111111101111111111110011101111101111111111111111111011011011111111100110111101111111101101111101111111101111111110111111111111111111110111111111011111111111001100011111110101101111101011111111110111111111101110111111101111111101111111010110001011110111110111001110111111111010011000110111011111001111111111111111111111011111111111111111011111101101111111111111110111101101111110111111111011111111011111101011111111011111101111110111111111111110111101011111100111101101111111111111011111110111111111011111011110111110111101111111111111111011111001111111111011101111111111111111111111111011111111111111111110110111111111011111111111111111111011111111011111110110111111111111111111110101111111111111110110110111011111111101111110111111111111111111101111111101111111110111111111011101111111010110111010111111111111110011101110101100111010111110111111101110111111110111110110111111110100011101010110101110101111101110111101101101101001011110011111111111011110011011010101111110111101100111111111100101111111111111111101110111111111011011111111011100100111011101110111111111111111110111111110111110101111110110110110111111011111111111011110011111111001111111111111111111011111011001111111111011111110111111111011111011111111011111111111011011111111101111011111101111101101101011111111111111110011111011111111010011011111101111111111101111111111111111111011110110101110111110111101110111111001111011011111111111111101111011111111110111111111011111110111111110111111111101110111111111110111011110111110011111111111101110111111110010011111101111111111111111111110111111011111111111110111111111111101110011011111110110111101011110101111111100111111111111111111111111111111111111110111111011111111111110111101100110111011111111111011111111111111111011111011111110100111010101111011111111010111100111111111010111111111111101011111111111111111111110111111111111111101111111111111111111010111101101111101101111010111101111011111111111111011101101101001111111111111111111111000101100011111110101111111111011110111111111011111011111111110111111100111111110111111111111110111111111101111110101111111111101111111111111111111111111111010111001101111011111101111111111101111111111111111110110111011110111111101010111011111111111101111100111110011011111101111111111111111111111110111111111101111011111111110111011111110111111011111011101111111110111101111111111101111111101110111111001111111111111101111011111111111111111111111100111101011111010111111101101101111011101111110101101111011110111111101110010111110111110011111111100111111111111111111111111111111100111011111111101110111001111110111111111111111111111110111111110101111111111110110010111111011111111111111111111111010101011111111111101111111111111101101111111111111111111110011111011011111111111111111111111111110101111111111111101011001111111111111011011011001111101111111110111111011011111001111111110011111111011111111110111111101111111111000111011101111111111111111011111111111111111111111111111111111111011111111110111111111111111001111110011111111111110110101111011111111110111111111111101010011111111111111111111111111111101011111011111100011001101111111111111111111111101100101011111111111111110011010110100111111110111101111111001011101111111011111011110101111111111010111111111101111111001111111111111111101111111110110111011111111110001110111011100111010111011001111111101111111110111110111111100111111100111010101111111100110111101110110101111111011011111110110111111111111111111011111111111111111110011111001111111101111111111001111110111110111010110111111111111111111010101111111001111011110111111011111111101011101111111111111100111111111110111011111100001111111101111111111101101111011111111111111101111111111011011111011101111111101111011111110011011011110111010111111110111111110111111011111111110101111011011111010111110111111111111111011110111111111111111011111110010111111111111111101011011101110111111111111111111111101111111111110111111111111010111111111111011111111111111111111111000111111111111111111101111011111111111111111011111111111111111110111001111111001111111111100110011111111111011111110111111110111001111110011101111111111011111111110101111111110111110111111111111111101111111111111111011111101111110111111110111111011111111110111011111011111111011111111111110111111011011111110111111011110001111111111101101011111011111110111011110111010111001111111110111111110111111111011111111110001011101110110110011111111111110111111111111111111011111111111011101111111111111110111111111101111111111111111111111111101111001101011111111101111011111111111011111110111111110111011111011111011011011001111111101111111111111111111110011101111110111111111010111101111101111011111100111110110101111111101111111001111110111101101011110111111111111111011011111011011011111111111111111011101011111111111111101111111011111111111111101111110011111101111111011101111111110111111111111111111111101111111101111111101101111111111111111111111101111111111111111111111011011111011011001111111110111001111111110110011111111111110111111111111011111110110101111111111101101111110011111011111111111111111101111011101110111111111011111111101111110101111111111111111111110101111111100110111110111101111001111111101101111111111111110101111111111111111111011111100110111111101111011110111111010111111111111110110010111111111011101101101111111101101111100111111111110101111111111110111111101111111111111111111101101111111111111111111111111111110111111101111111111111111111111111011010111011101111111101111111111011011101101111111111101011110111101111111011000111111111111111111001111111111111101111101110101111011111111111110111111111111010110111111111110111111111111111011111111101111111111110111110011111111111111111111111011101111011110000111111111110110111110111100011011111111110111011111111111110111111111111111101000111001101111111101011111111111111001111101111111111111111111101111101111111011111111111101111111101111011011111011111110111101111110111111111010111111101111111111101111111011110111111110101111111111111100111010111111011101101111111111011101111110011011111111111111111111111111111000101111101110111111111111111011111110110111111111111111111111111010111111110010111111110111111111101111100111111111111111111111111111111110111111011011101111111110111111111111101110111101111111011011101111111111110110111111111111111111111111111110111100111110111111101111101111111111111111111101101111111111111111011101010110111111101001101111101111111111010111111111110011111011111101111111001110111111100111111111111110101111011111110110111011111011110111111011110111011111110111110011111011111111111111100111011111111110111111010110110111111111111111111011111101110110111111101111111001111111111101110111100111111111110110111111110111110111011111101111110111011111001111101111111101111101011101111111110001111111111001111111110111111011110111111111101111101111011111111111111011111111101111111111111111011011110011111101111101110111111111111111101111111111011111111111111111111111111111111110111111111100111111111111111110111111111101111111101110101111111111111110111010111101111111111111111111111101110011111111111101111111111111111111110111110111010111101001111101111110111111111010011101111111000111011111111111011110111111111010000101101101111101101111111111111111111110111011111111111101111101100111111111110111110111111111011101111111111111111111110111111111111111111111010111111111011111110111111101110111111111111111110111101111111011110111111011110111110111111111111111111111111111110110111111111111011011111101111111111101111111011111111111110111111101101101111110111111111011111111111111111111111011111111111111110111111111110111001111011111110111111110111111111111111101110110100111111011111111011101101111101011111011111110111110111111111110111111011101101111111111111111111111101101111111110111111110011111011111111111111111111011111111110111111011111111110111111110111111111111111111110010111111111101111110111111111111101111111101110101111111111001111110101111111111111001111111111111011111111011111111011111111011111111011111111001111011111111011101111111111111111110111011111111111011110111111111111111111111111101111111111111111011011011111101111111111111111111100111111111111111111111111111111111111111111110110111111111110110111111111111111111100111101111111111111111111111011110111111101011111101100111111111111110111101101011101111111111111001111110111111011001111111111111111010011111111101101001111111111111110011111111111111111011111110101111111111111111100110111111111111111111111111111111111111111101101110101101101011111111101111111110011111110110111111101111111011111111111110111111111111101111111111111101111011101111110011111111111111111111111111110111111111010111111111111110111101111111011111111111111111110111101111111111111111111110111110111010111110111111111011111111111111101110111111111011111111111111111111111111110111111110111011101111111111101111011111101101111111001111111111111111111111111110000111111011011111110101101111100111011110011010111101110110101001111111011001110111111100110100111111111010111011111111111111111011011111111101101111111101101111111111101111111111111110111101110110110001111111110111111111101111011110111011111111111101010111011111001111111011111011111101111101110111111111111111111110111111011111111111111111111111111111011110111111011111111111011111101111110111110111101111101010110111011111010011111111111110111101111111111101011011111111111111111111110111111101011111111111001110111111110111111101110111111111011110111111111101111111101111111111011110110011011111011111011111110111110111011111111111101101101011111111111111001111111111111111111111111011111101111111101111111111111111111001111111111111111111111111111111111111111110111110111111111111001111110111111001011101111111101111111111011110110101001111111011111111111111111110111111100111111011111111111010111111111110111101111110110111111111111100111111111101111111110110101111100011111111110111111010110110110111011111111111111111111111111110111111111111111111011111011011111111110111111001111111111110011111110011111011101111111101111111110111111111011111111011111111111110101111110111111110110101110111111111111111111111111111011110111101111011111001111111011111100110111110100111011111011110110111110111111111111111011111110111011110111101100110101110111010110011101010111111111110110111001111111111011111111011111110111011111110101110110111110111110110111011111111110111001111111111101111111101111111111111111110111111111111111110110101111111100101111111011111111011111110111111111111001011110111111110101111111111111111111111011111111111111011011111111111101111111111111011111100101011011111111111111111111111111111011101111011111111111011111110111111111111111111011011111110011111111111110101111111111011111111111011111111111110111101110111011111110101110111011111111111111111011111101111011011011110010101111001111101111111111110011111111111111111111111111111011111110110111111111111111110110111001110111111111110011101110101111111111111111111111111111101010111111111011011110111111111111010111010011001101101111111111110111101111111110111111111111011111010101111011111111111111011111111111111111110110111110011001111010111111111101111111110111111111111111111111111111111100110111111110110111111110111111111111101111100101111111111111111011111111111111110101111111111111011001101111110111011110111111111101111111110111101111111010101111101111111010111110111111101010111101111111111111111111111001111011111111101011011111011110111101111111010111111111111111111111111111111011111101111111101101101101111111111111111111111111110111111110111111111111111111111111111111111101111010011111110111111011111111111111111111111111111101111110111111111101011111111110110110111111011111110111110111101111101110101110110111111110111111111011111111111111111111111100111101110111011110110111110111111111111101111110111111100111111011111110011111111111101101111101011111111111111111111111111111011110011011111011111111111111111111111101011110110111111101111111111001111111111111011111111111111001100111111111111111110101111111101111111111001111111111111111111111111101111011111111010011111111111110111110101110111111111111110111011111110111101011111111111111111011111111111111111111111101101111111111111111111011110111111111111111111111111111011111010110100011111111111101111111111111011111111111111111111111100111111111111101111111101110111111110111111110111111111111110111110101101111111111111111111111111111111111111111111111111111110111111101111101111011101101011111011110111110101111110111110111011111110111010101110111111111110111111111101110111101111111111111111111110111001111111011111010111101111111011111110111011111111111101011111111110011111111111101101111111111100111111111111110110011111110111110101101101101110111011111101111111110111111111011011101010010111101111111011111111111111111011110111111111110010111111111001011011101111111111101011101101111111011111111010100111111111111111111111111111111011111111111111111010111111111111111101011111111110110110111110011110101111111111101111001111110110110111111111101101111011111111111110010111010101111111111100111001111110111000111101111101001110111100110111100111011111111111111111110110111111111111011110111110011111111111110111111101111011111011111111101101111011110011111110111101111111111001101101111111111111011111101011111010011111111110101111011110111110011011111000111011111011101111111101110111110110111111111111111111111011111110011110110111111110111110111110111110101111101110111111111111101011111111111111110111111111110111111111111011111111010111101110111110011111011111111111110100111011111111111001111101111111110111110110011111111110010011111101111111111110101111111110110111111101111011111101111111111111111110011011111111101101110110111111010111011111110111111011111111111111011110111111111000111111001111111110111111111111011111011111111101110111111111111100010111111111111110111111011111111111111011011111111111111111111110110011111111111101111101111111111111111111111111111111011111111101111011111110111100111101111101111111111111111111110110110111111110111011001111011011111011111111101110111111111111111111111111111111111011111111011111111111101110111111111101111100111101111111111110111110111111110110111111110111110011010111111111010111011011111111111111101111111111011111101111111111111101011111111111111111111001111101111111011111101111111001111111110110111111011110111111011111110100111111101110101111111111111110111111111111111111011111111110111101011111011101111011111111111111101011010111111111111111111111110011101111111111111111111111110101111110110111110111111111001101111010111111110110111111111111111011111101111111111111101110111101111111111111111111111111101111101110111111111111111011011111101110111111101111111101101011100110111111110111111111101111111111111100111111111111111011111111111111111111111111111111011111011111111011111111111111110111111111111111111111111111111111111110111111111111101111011111101111011011110111110011111011111110111001011110111111111101111111111111111110111110111110111111111110111111110101111111111111111011111111111111111111111111111111110111111111110011111101111111111111111101111101111101110101111010011111110111011111111111110010110110111111111111111111110100011111111111111111111111111111111110111111111110110111011111111101111111111110111110011111101111011111111011110111111111110111111111111111111011111011100111111010111111111111111011111110101111111111111111111111110011111111111111011111110101001110111111100011101111111011111111111111111111111011011111111111011110110111101111011101111110111111110111110111101111111111111111111111111111111011101010111111111011111111011110110101101011111111111111111111111111111101010110110101111111111011110011111111111111111110110101111100110011111111111111011111111010111111111110101111111001101111111101111111110111111101111111111001111111111111011111111111111110111010101111111111111111111111111111111111110011111011110110111111111100111111111111111111111011111111111110011111011111001111101110101011111011101111111111111111111110111111111111010111110110011111101111001111111111011111111101011111011111101111111111111111110010111111110111011111111110111111011111111111111111110111111111111110111011111101110110101011111111111111001110111010011110111101111011111111111100011111110111111111111011111111111101111111101111111011011111110111111101011111111110111111101110111111100101110111111011111111111001101101111111111011111111101111111111111111110111111111111011111011111111111111111111110110010111111111110011101011111101111111111111111111101011111111111111111111111110111100111111111110111111111001111111011111011111111111111101111111111111110111111100111111111111111011111011110111110011111101110111111101111111111111111111111111111111111111111111111111101111111111110111111111111110101110101110111100001111101111111111111100100011111101100011111111111010001110111111111111111101111011111111111111111011111111111111011101011111101111111111111111111111111111010111111111111111111101110111111111111111111011111111111111111110001101111111111111111111110110010011101111111111110100111111110111011101010110011111111011111111111110111110110111111111011101111111110100111010111111111101101111110111111111111110111101001111111101111101111111011111011011011111111101111111111111110111111111011111111111111110101010110111111111111110111001111110111111111101111011111111001110111111111011111001111111111111011111101111111011111111111011111111111101100001111111111111111111111110111111111100111111111101101011111111101111111011111011111111011110111010111111110110101011011101111111100111111111110110111111110011101101111011111111101011101111101111111011111011110111111110011101011111111111110111010101111111111111111111111111111011111111111111111110101111111011111111101111111110111111110101101111101101111111010111111101101011111111110111111111110111111111111111111111110111011111110111111011111101010111111011110111111111110011010111111101111111110111111111111110101011111111101101101111011111011011111111110111101101011001111101111111110101010101111111110101011101111111111111111111110111101011111110111111111111100110011111111111111111111111111111101011111111011111011111111111111111111111110111111101111111111111011101101111111111111111111111100111111101111111110011111111110111101111011111101111111011011111111111111101100111111111110111111111111111110101111111110111111101101111101111111111111111111101111111111011111111111011111111011110011111111111011111011111111111111011111101110101111101101111011110110011111110111101111111111111001111111010111111111110111011110111111111111110111101011111110101110100111111111111111111111111111111111111111111110111101111111001111111111011111111110111111111111111111111111111111101111110101110111110111011110111111111111101111111111111101011011111100111111111111101111111110110111111100111100111111111111101110011111111111101110110111111101111111111111101111101101111111111111111011111111111111111011111001111111101111101111110111111111101011111111110111111111001111111111101111111111101111110111101110111111111011111111111011011101110111111111111001111111111111111111011111111111111011101111011101111011111111110111111101111111111110111111111101011100011111111111111011111100111111111111111111111011101110011111101111111111111111111111111111111110111111111101011110111111110111011111111111111111111001011011111111110111111111111101111111111111111111111001110101111111110111111111011111111011111011101001011111111111111101111111111111111111111111111011100111111110011111111111111011111111011110101111101111100111111110111111011110111011111111011111011110111110110110111111111111111110101001111111111111001111111111011010111111110011111011101101111111111111111111111111111111111111111100011111111111110111101111110111111011111111111111111111111111111111010011111110101111111100111111111111111111101011101111111110111111111111111101101110111111111110111111111111111111110110110111111101011011101110111111011111011111011111101111111111111111111101010111101111101111111011011100111111100101101101111111011111110111011001111111111110111100111111111111111111111111101111111111110011111111111011110111110101111111100111000101111110111111111111111111010111111101000011111111110111111111111101111111111101010111110110111111010111111111111100111111110111111111101111111100111111111111111111101110111101111111110111111011111001101110111111111110111110101111111111101110111111111110111111111101111111111111110011111111111111111101111101111111101011111111111111111110101101111011111011011101101111111111100100110011111101111111101111111101101111011111111111111011111100011101111111111011011111111111101111101011111101101001101111111010111111111011011110111110000111111110111111011101111111011111111111111011011011101111111111011111111111101011111110110111101110111111110111111001111111111111111111111111111111011101101111111111111111110111101111111111111111111111101111111110111100110111111111111011111111101110110011111111101111110111111011111011111011111111111111110111010111101011111111110111011111011110111111101111111101101111111010001101111101011110101011001011110111111111101111011101111111111111111111111111111101111111111010101111111111111100101111011111111111011011110101111101111111111111111101110011011111111101111111011011011111111111111011110111111110111101011111101111111111111111111111101110111111111111111111101111111111111001111111011111111111111011110111111100111111110110110101111111111111111110010011110111111111111111111011001011111111111100111111110111111111111111111101111111111110101011111111011011111001111111001111110111111111111111111110111111111111111111011111111110110011111111111111111110111110111111111111110111110111111111111111101111111111110110111111110101111111111111111111011111111111101101011001111110111011111111111011111111111111101111111111111111011101011110111111101111110111011111111110111111111100111111111111011011111001111111111111110110111011111110111111111111001011111110111111110111110101111111110111101111111011111011100111111111111111101111111111001111111111111011111101111101111111110111111111111111001011111111101111111110111111111100111111111110111111111111111111111111111111010110101111011111110111111111111111110101111010111100010011011011111100111111111011111011111111111111111110111011111110011111111111111111111001101111111111011100111111111111111010111101101111011111011111111111111111111101111111011111111111111111111110110101111111111011101111111101111111111111011111011111101011111111010111011111010111111110111111011101111111101011111111111111001111111101111111111101011111111110111111111111111001111111111111110111101111111111101011111111111111110111111111111101101101111111111110111111111110101111111011111111111111100111111111011011011101111111111101011111111111110111111111011111111111111011111111111111011001110111111111111011110111110110111111111111111111111111110101111111111111111111110111110111111111110111111111101111101111101111010011111001111111111111111101111110111111111111111110111111111111110101011101111111101011111111111001111101111100111111111011111111111111111111111111111111111011111111111101111111111111111111111110110111111110111110011111111111111111000101111101110111100111111111101101111111111101110111111111101111011111111011111010111111111110111111111111011111111011111110111111011111111011111101011111011111111111110111111111111100110101111111111110011111101111011110101110111111111111111111111110011110101111111111101111111001111011011111110111001001111111011111111001010111111111110001111110111011111111111110100101001111111011111000111111110011001111111111111110111111101011111111101111111111011111111101111101101111111111111111111110111111111111101011101111111111010111111111111110111111111111111111111111111011111111111111111111011101111001011110111011111111011111011011111011111110011011011101111101111111111111011011111111111010111000110011111111110111110110111000111011110111111100101111111111111111101111100111110111100111101110110111110110111111111111111111101111111111111111110111011111111111110111111111111111111111101110010111100110111110100111111111111101100110111111111111111111111111111111011111110111100110110111011110111011111110111111111111111111101110110111110111111111111111111111111111110111110110000111111110111101111011111111111111110011011011111101111111111111111111101111110111111101111011111011111110111111101111111111011111101111111101111111111011010011111111110010011111111110111111111100111111111111111111111111110111111111111111011111111111111100111011111111011110111111111111111110110111100111111111111111111111111011100111011111111011111111111111001111111011111111111110111111011101111101011111111111101111101111111111111111110101111101011111111111111101011111110111111111111111111110110111110100111101111100111111111111111111101111111111111111101111111011111111101111011111101101111111111111111011111110111111001110110101010111110111111110111001010010111001111001111111101011111011001011111101111101111111111111111111100111011101011111111111111111111111111101101101011111010110100111111111011101111110111111111101011111111111111111111011111110100010001111100011111111111111111111111011110111111101111111100111111111110111100110110101111111011110111101110111111011111100111110101110111101111111110111101111110111101111101111111111111111111111111111111111011111111101110111010111111111111111011101110011111011111111111111101111111111110110111111111101111101001111110111110111111101101111011111111011010111111111111110111111010111000011111110110101111111110111011111111111111101111001110101101111111111111111110111011111110111011111111101111011111111010111111011111111011111011011111110111111111111111111111111101011110111111111111011111111111111111101111111111111111111111111101111101111111111111111101101111011101111111111101011101111111111111111111111111111111111111110101110001101110111111110111111111111111110100011111111101111010100110111111111111111111011111111111011111011111111111111111101111111111111011111111111111101111111111111011111111100110111001111111111010111111111101111111111011011111011111111111011111101111111101111111111111111111111111111111111111011111111111111111110111101111101111110101110101111110111110111111110101111111110111100111111110111111111110111010111111111111111101111011111101111111101111111111110111011111111111011111111111111111110101111111101110111111111111111111111111110111111111110111111111101010111101101111111101000111111111011111110111111111101110101111111111111111010101111111111011111101111101111111111001111111110101111110110111111101011111111111111111111111101111111011111011110011011111011111111110001111111111110111111011111111111011011111111110011111110111111111111111111111011111011111101111111111111111111110111110111110011111111111111110101101111111011111011111111111111111110110011111111111101111111111111111101101111011111111111111110111111111111110111111111111111110111111111111111111011111011111111111110111110110011111111111110111111110111110111111111111100110111011011101111110111111111111011111111111110100010111111111111111111001101111111111111111011111110110111101011111101111111111111101110111111111110011111111111111101100111011111111111111111111011111111111101111111111111011111111011111101111101111111111111111110011100110011110111111111011111111111111110111111011110111111011100111111011111101111011111101111111001101011110111110111111110101111111011101111111111111010011101111111111111111001111011111101111011111111100011110110110111111111011111111111111111010111011111111111111111011001111011111010111111111111111111111101010110111111101111111111011011111111011111111111011011111010111101111111101110011001111111111111111111111111111111101101110110011011001111111111111011100111111011110110111111110111111111111111110011111111111001110110111011100111111111111111111111111011110111111110011111011111111111011101111111011111101101110111111111111001101111011111101101111111111101110111111110111011111011111111111101111111111110111110111011011111111011111111111111111111111101011111101111101011111111011101111111101001111111110110111111011111111111111100111011111111101111110111111101111101111110111111111111111111111111111011111110111111101011111111111110111111110111111111101001111111111111111011110111111110010111111110110101111111111111111111011111111111111111111011111110111101101010011100110110011111101011111101111110111111111101101011111011111111111111111001011111111011111001111111111111111111111101110111111111111111111111111011011101111011001111111111111101111101111110111101111011111110011111111101110111111110101111111111110011110111111110111111111111111111111010011111101101111101111101101111111111111110111011111011111111111111111101010111111111011110111111111110101111111111111111111111111111111111011110111111111111111111111011111110111011111111111010111111111110111111111011111111111011011111111001111111110101111111111111110101011111111111001111111111111111111111111111001110111111111111111111111111101111111011111111110010101111111111010111101101111111111111111101111111111111111110111111111111111101111111011111111111110110111110111111111111111111001100111011111110101011101101111111111111011110111110101101111011111111110111111111111111111111111111111110111111111111111011010111111111111101111111101111111111011111110111101111111111111110111111111111111111111111111111111111111111111011111111111111111110101100111111111111101111111111111111111010101111111111111111111111111011111011101111111110111110110111011101111111011111111111111110111101110111101011100110111111101111111110111111110111011110111111111111101111111110111111111111111111111111101101010111111111101111101111111010111111111111011111111110111110111001100111111111011100111111111011111111111111\n"
          ]
        }
      ]
    },
    {
      "cell_type": "markdown",
      "metadata": {
        "id": "rBVI38bO_Z_m"
      },
      "source": [
        "Without the additional T-operation, the result would be 100% = 1"
      ]
    },
    {
      "cell_type": "code",
      "metadata": {
        "colab": {
          "base_uri": "https://localhost:8080/",
          "height": 295
        },
        "id": "Tg9vOB5M2X01",
        "outputId": "57ca12be-e162-422a-d552-10d75372a85e"
      },
      "source": [
        "# Visualization\n",
        "# After doing that, you should see the quantum state become ∣00⟩+∣11⟩\n",
        "_ = cirq.vis.plot_state_histogram(result) #, plt.subplot())"
      ],
      "execution_count": null,
      "outputs": [
        {
          "output_type": "display_data",
          "data": {
            "image/png": "[encoded data removed]",
            "text/plain": [
              "<Figure size 432x288 with 1 Axes>"
            ]
          },
          "metadata": {
            "needs_background": "light"
          }
        }
      ]
    },
    {
      "cell_type": "markdown",
      "metadata": {
        "id": "v6xbqihA5Bk1"
      },
      "source": [
        "> **<font color=\"red\">We can reverse-engineer / extract the phase just from looking at the probability measures at end = Quantum Phase Estimation**"
      ]
    },
    {
      "cell_type": "code",
      "metadata": {
        "colab": {
          "base_uri": "https://localhost:8080/"
        },
        "id": "kuR-C_ko2Z3g",
        "outputId": "8662f014-5e1f-44d0-d831-c251eca868f8"
      },
      "source": [
        "result.histogram(key=\"a\")"
      ],
      "execution_count": null,
      "outputs": [
        {
          "output_type": "execute_result",
          "data": {
            "text/plain": [
              "Counter({0: 14573, 1: 85427})"
            ]
          },
          "metadata": {},
          "execution_count": 29
        }
      ]
    },
    {
      "cell_type": "markdown",
      "metadata": {
        "id": "2Rx62HY4_IDH"
      },
      "source": [
        "Result is around 0.14742. "
      ]
    },
    {
      "cell_type": "markdown",
      "metadata": {
        "id": "3Ix2wywNSf-u"
      },
      "source": [
        "###### **<font color=\"black\">Step by Step Explanation**"
      ]
    },
    {
      "cell_type": "markdown",
      "metadata": {
        "id": "h4ySKrZpPqVm"
      },
      "source": [
        "https://jonathan-hui.medium.com/qc-phase-estimation-in-shors-algorithm-acef265ebe50"
      ]
    },
    {
      "cell_type": "markdown",
      "metadata": {
        "id": "oNHEOloPEuq4"
      },
      "source": [
        "https://www.youtube.com/watch?v=5kcoaanYyZw"
      ]
    },
    {
      "cell_type": "markdown",
      "metadata": {
        "id": "BC-SHdwZFZ0H"
      },
      "source": [
        "![ggg](https://raw.githubusercontent.com/deltorobarba/repo/master/quantum_084.png)"
      ]
    },
    {
      "cell_type": "markdown",
      "metadata": {
        "id": "pfyT1XHAEyVQ"
      },
      "source": [
        ">**See below: Remember that a unitary matrix has eigenvalues of the form $e^{i \\theta_{\\psi}}$ (ohne $2 \\pi$ wie oben bei QFT) and that it has eigenvectors that form an orthonormal basis**"
      ]
    },
    {
      "cell_type": "markdown",
      "metadata": {
        "id": "AG-6ThVrEdXJ"
      },
      "source": [
        "![ggg](https://raw.githubusercontent.com/deltorobarba/repo/master/quantum_083.png)"
      ]
    },
    {
      "cell_type": "markdown",
      "metadata": {
        "id": "7jygkOCqL9c9"
      },
      "source": [
        "The problem: in both cases the probability is 0,5, just differs by the phase added:"
      ]
    },
    {
      "cell_type": "markdown",
      "metadata": {
        "id": "1p-zzXyW-tU6"
      },
      "source": [
        "![ggg](https://raw.githubusercontent.com/deltorobarba/repo/master/quantum_078.png)"
      ]
    },
    {
      "cell_type": "markdown",
      "metadata": {
        "id": "VSvCLdgF_YQC"
      },
      "source": [
        "![ggg](https://raw.githubusercontent.com/deltorobarba/repo/master/quantum_079.png)"
      ]
    },
    {
      "cell_type": "markdown",
      "metadata": {
        "id": "6rHCBrjo_ZWr"
      },
      "source": [
        "![ggg](https://raw.githubusercontent.com/deltorobarba/repo/master/quantum_080.png)"
      ]
    },
    {
      "cell_type": "markdown",
      "metadata": {
        "id": "RspVzMvD_tpb"
      },
      "source": [
        "**The probability of measuring 0 and 1 is each 0,5, but there is a small factor that makes them differ from 0,5, depending on the phase (angle):**"
      ]
    },
    {
      "cell_type": "markdown",
      "metadata": {
        "id": "scRiAADhBR3t"
      },
      "source": [
        "![ggg](https://raw.githubusercontent.com/deltorobarba/repo/master/quantum_081.png)"
      ]
    },
    {
      "cell_type": "markdown",
      "metadata": {
        "id": "JfuLYJcCpC6B"
      },
      "source": [
        "Beachte: One complete turn (360°) is equal to 2π radians, so 180° is equal to π radians, or equivalently, the degree is a mathematical constant: **1° = π⁄180**.\n",
        "https://en.wikipedia.org/wiki/Degree_(angle)\n",
        "\n",
        "![ggg](https://upload.wikimedia.org/wikipedia/commons/thumb/7/7c/Degree_diagram.svg/440px-Degree_diagram.svg.png)"
      ]
    },
    {
      "cell_type": "markdown",
      "metadata": {
        "id": "E0oYz_yZBCoU"
      },
      "source": [
        "> **In the different between the probability of measuring 0 or 1, you've encoded that phase! (In other words: you've taken that phase information and turned it into and amplitude that you can measure.**"
      ]
    },
    {
      "cell_type": "markdown",
      "metadata": {
        "id": "YT9mmW3yBvE6"
      },
      "source": [
        "**How to do this experimentally: you do a million shots of the experiment, collect statistics and check what the statistics say. How many times did I get zero? How many times did I get one? The hope is that the difference between the statistics of zero and one would allow us to back out theta**."
      ]
    },
    {
      "cell_type": "markdown",
      "metadata": {
        "id": "2Yh0-S6uCpJk"
      },
      "source": [
        "**Next level: now getting more precision with more qubits:** (there is another circuit to prepare Psi yet, which is assumed to be given here)"
      ]
    },
    {
      "cell_type": "markdown",
      "metadata": {
        "id": "HEjPkGR-Di0v"
      },
      "source": [
        "![ggg](https://raw.githubusercontent.com/deltorobarba/repo/master/quantum_082.png)"
      ]
    },
    {
      "cell_type": "markdown",
      "metadata": {
        "id": "PKlTEcuzGsM0"
      },
      "source": [
        "writing out the calculation:"
      ]
    },
    {
      "cell_type": "markdown",
      "metadata": {
        "id": "nBA3DT74GqUd"
      },
      "source": [
        "![ggg](https://raw.githubusercontent.com/deltorobarba/repo/master/quantum_085.png)"
      ]
    },
    {
      "cell_type": "markdown",
      "metadata": {
        "id": "8W4YwH23Guk5"
      },
      "source": [
        "**Comparing QPE with QFT (QPE is the same as QFT with a different phase):**"
      ]
    },
    {
      "cell_type": "markdown",
      "metadata": {
        "id": "ib1qf44PHLJJ"
      },
      "source": [
        "![ggg](https://raw.githubusercontent.com/deltorobarba/repo/master/quantum_086.png)"
      ]
    },
    {
      "cell_type": "markdown",
      "metadata": {
        "id": "jSEWnFnxH3I6"
      },
      "source": [
        "It's like applying a QFT of something (of a special phase $\\frac{\\theta_{\\psi}}{2^{n}} 2 \\pi$, the green box above!), and in order to get back to the original state you need to apply an inverse QFT at the end:"
      ]
    },
    {
      "cell_type": "markdown",
      "metadata": {
        "id": "IPwszYRAH2Js"
      },
      "source": [
        "![ggg](https://raw.githubusercontent.com/deltorobarba/repo/master/quantum_087.png)"
      ]
    },
    {
      "cell_type": "markdown",
      "metadata": {
        "id": "usifZJqwSk7f"
      },
      "source": [
        "###### **<font color=\"black\">Cirq Example**"
      ]
    },
    {
      "cell_type": "markdown",
      "metadata": {
        "id": "HgfB0IKekeeB"
      },
      "source": [
        "https://qiskit.org/textbook/ch-algorithms/quantum-phase-estimation.html#creating_the_circuit"
      ]
    },
    {
      "cell_type": "markdown",
      "metadata": {
        "id": "aM5nccmSkg_t"
      },
      "source": [
        "https://arxiv.org/pdf/1910.11696.pdf"
      ]
    },
    {
      "cell_type": "markdown",
      "metadata": {
        "id": "8ZwuxaKm4lF2"
      },
      "source": [
        "![gg](https://upload.wikimedia.org/wikipedia/commons/a/a5/PhaseCircuit-crop.svg)"
      ]
    },
    {
      "cell_type": "markdown",
      "metadata": {
        "id": "5vUYeIG9TEuB"
      },
      "source": [
        "![ggg](https://raw.githubusercontent.com/deltorobarba/repo/master/quantum_115.png)"
      ]
    },
    {
      "cell_type": "markdown",
      "metadata": {
        "id": "r8u3NsIlTNsO"
      },
      "source": [
        "$U$ = $Z^{2^{n-n}}$ \n",
        "\n",
        "Z = $e^{\\pi}$ \n",
        "\n",
        "* $Z$ entspricht $\\pi$ (ein halber Kreis, zB von +1 zu -1 auf X-Achse) \n",
        "\n",
        "\n",
        "then:\n",
        "\n",
        "> <font color=\"blue\">$U$ = $e^{\\pi * 2^{n-n}}$\n"
      ]
    },
    {
      "cell_type": "markdown",
      "metadata": {
        "id": "4PM9tfXZTjz6"
      },
      "source": [
        "https://www.youtube.com/watch?v=YpcT8u2a2jc&list=PLOFEBzvs-VvrXTMy5Y2IqmSaUjfnhvBHR"
      ]
    },
    {
      "cell_type": "code",
      "metadata": {
        "id": "-zxsy6Cc5Wrx"
      },
      "source": [
        "\"\"\"Set up the unitary and number of bits to use in phase estimation.\"\"\"\n",
        "# Value of θ which appears in the definition of the unitary U above.\n",
        "# Try different values.\n",
        "theta = 0.234\n",
        "\n",
        "# Define the unitary U.\n",
        "U = cirq.Z ** (2 * theta)\n",
        "\n",
        "# Accuracy of the estimate for theta. Try different values.\n",
        "n_bits = 3"
      ],
      "execution_count": null,
      "outputs": []
    },
    {
      "cell_type": "markdown",
      "metadata": {
        "id": "AnahDQbu-L5F"
      },
      "source": [
        "Now we can build the first part of the circuit (up until the inverse QFT) for phase estimation.\n",
        "\n"
      ]
    },
    {
      "cell_type": "code",
      "metadata": {
        "colab": {
          "base_uri": "https://localhost:8080/"
        },
        "id": "NMG3fjxw5aXU",
        "outputId": "1c03b6ea-3411-41ae-f6e8-2f842b981423"
      },
      "source": [
        "\"\"\"Build the first part of the circuit for phase estimation.\"\"\"\n",
        "# Get qubits for the phase estimation circuit.\n",
        "qubits = cirq.LineQubit.range(n_bits)\n",
        "u_bit = cirq.NamedQubit('u')\n",
        "\n",
        "# Build the first part of the phase estimation circuit.\n",
        "phase_estimator = cirq.Circuit(cirq.H.on_each(*qubits))\n",
        "\n",
        "for i, bit in enumerate(qubits):\n",
        "    phase_estimator.append(cirq.ControlledGate(U).on(bit, u_bit) ** (2 ** (n_bits - i - 1)))\n",
        "    # explanation: U-rot control aktiviert wenn entsprechendes qubit in state 1\n",
        "    # dann aktiviere formel: U^2^(n-1) ...U^2^(n-2) ...U^2^(n-n)\n",
        "\n",
        "print(phase_estimator)"
      ],
      "execution_count": null,
      "outputs": [
        {
          "output_type": "stream",
          "name": "stdout",
          "text": [
            "0: ───H───@──────────────────────────────\n",
            "          │\n",
            "1: ───H───┼──────────@───────────────────\n",
            "          │          │\n",
            "2: ───H───┼──────────┼─────────@─────────\n",
            "          │          │         │\n",
            "u: ───────Z^-0.128───Z^0.936───Z^0.468───\n"
          ]
        }
      ]
    },
    {
      "cell_type": "markdown",
      "metadata": {
        "id": "BaPWYUPs90EP"
      },
      "source": [
        "> <font color=\"blue\">$U$ = $Z^{2^{n-n}}$ = $e^{\\pi * 2^{n-n}}$ fur das erste Gate: = $e^{\\pi * (-0.128)}$ ????\n"
      ]
    },
    {
      "cell_type": "markdown",
      "metadata": {
        "id": "KoxXF9-W9orx"
      },
      "source": [
        "**The controlled u gate**:\n",
        "\n",
        "$0\\rangle \\mapsto|00\\rangle$\n",
        "\n",
        "$|01\\rangle \\mapsto|01\\rangle$\n",
        "\n",
        "$|10\\rangle \\mapsto|1\\rangle \\otimes U|0\\rangle=|1\\rangle \\otimes\\left(u_{00}|0\\rangle+u_{10}|1\\rangle\\right)$\n",
        "\n",
        "$|11\\rangle \\mapsto|1\\rangle \\otimes U|1\\rangle=|1\\rangle \\otimes\\left(u_{01}|0\\rangle+u_{11}|1\\rangle\\right)$\n",
        "\n",
        "The matrix representing the controlled $U$ is\n",
        "\n",
        ">$\n",
        "\\mathrm{C} U=\\left[\\begin{array}{cccc}\n",
        "1 & 0 & 0 & 0 \\\\\n",
        "0 & 1 & 0 & 0 \\\\\n",
        "0 & 0 & u_{00} & u_{01} \\\\\n",
        "0 & 0 & u_{10} & u_{11}\n",
        "\\end{array}\\right]\n",
        "$\n",
        "\n",
        "**When U is one of the Pauli operators, X,Y, Z, the respective terms \"controlled-X\", \"controlled-Y\", or \"controlled-Z\" are sometimes used**. \n",
        "Sometimes this is shortened to just CX, CY and CZ."
      ]
    },
    {
      "cell_type": "markdown",
      "metadata": {
        "id": "QmWbdiv6-JNa"
      },
      "source": [
        "The next step is to perform the inverse QFT on the estimation qubits and measure them.\n",
        "\n"
      ]
    },
    {
      "cell_type": "code",
      "metadata": {
        "id": "Bv_xQnY__HDH"
      },
      "source": [
        "def make_qft_inverse(qubits):\n",
        "    \"\"\"Generator for the inverse QFT on a list of qubits.\"\"\"\n",
        "    qreg = list(qubits)[::-1]\n",
        "    while len(qreg) > 0:\n",
        "        q_head = qreg.pop(0)\n",
        "        yield cirq.H(q_head)\n",
        "        for i, qubit in enumerate(qreg):\n",
        "            yield (cirq.CZ ** (-1 / 2 ** (i + 1)))(qubit, q_head)"
      ],
      "execution_count": null,
      "outputs": []
    },
    {
      "cell_type": "code",
      "metadata": {
        "colab": {
          "base_uri": "https://localhost:8080/"
        },
        "id": "O0Y0JrNv-oyU",
        "outputId": "90b9d707-c716-4455-e791-0a7be67e950b"
      },
      "source": [
        "\"\"\"Build the last part of the circuit (inverse QFT) for phase estimation.\"\"\"\n",
        "# Do the inverse QFT.\n",
        "phase_estimator.append(make_qft_inverse(qubits[::-1]))\n",
        "\n",
        "# Add measurements to the end of the circuit\n",
        "phase_estimator.append(cirq.measure(*qubits, key='m'))\n",
        "print(phase_estimator)"
      ],
      "execution_count": null,
      "outputs": [
        {
          "output_type": "stream",
          "name": "stdout",
          "text": [
            "                                         ┌────────┐\n",
            "0: ───H───@──────────H─────────@──────────@────────────────────────M('m')───\n",
            "          │                    │          │                        │\n",
            "1: ───H───┼──────────@─────────@^-0.5─────┼──────H────@────────────M────────\n",
            "          │          │                    │           │            │\n",
            "2: ───H───┼──────────┼─────────@──────────@^-0.25─────@^-0.5───H───M────────\n",
            "          │          │         │\n",
            "u: ───────Z^-0.128───Z^0.936───Z^0.468──────────────────────────────────────\n",
            "                                         └────────┘\n"
          ]
        }
      ]
    },
    {
      "cell_type": "markdown",
      "metadata": {
        "id": "2DlNB7E2DPKs"
      },
      "source": [
        "The initial state for u_bit is the  state, but the phase for this state is trivial with the operator we chose. Inserting a Pauli  operator at the begining of the circuit changes this to the  state, which has the nontrivial  phase."
      ]
    },
    {
      "cell_type": "code",
      "metadata": {
        "colab": {
          "base_uri": "https://localhost:8080/"
        },
        "id": "5CwyPtisDS3H",
        "outputId": "8bca8a39-e56e-405a-ff41-622e754740e0"
      },
      "source": [
        "\"\"\"Set the input state of the eigenvalue register.\"\"\"\n",
        "# Add gate to change initial state to |1>.\n",
        "phase_estimator.insert(0, cirq.X(u_bit))\n",
        "\n",
        "print(phase_estimator)"
      ],
      "execution_count": null,
      "outputs": [
        {
          "output_type": "stream",
          "name": "stdout",
          "text": [
            "                                         ┌────────┐\n",
            "0: ───H───@──────────H─────────@──────────@────────────────────────M('m')───\n",
            "          │                    │          │                        │\n",
            "1: ───H───┼──────────@─────────@^-0.5─────┼──────H────@────────────M────────\n",
            "          │          │                    │           │            │\n",
            "2: ───H───┼──────────┼─────────@──────────@^-0.25─────@^-0.5───H───M────────\n",
            "          │          │         │\n",
            "u: ───X───Z^-0.128───Z^0.936───Z^0.468──────────────────────────────────────\n",
            "                                         └────────┘\n"
          ]
        }
      ]
    },
    {
      "cell_type": "code",
      "metadata": {
        "colab": {
          "base_uri": "https://localhost:8080/"
        },
        "id": "UPBFj8JyDYCd",
        "outputId": "246923e4-5eb1-40ac-d1fd-7852dcda9373"
      },
      "source": [
        "\"\"\"Simulate the circuit and convert from measured bit values to estimated θ values.\"\"\"\n",
        "# Simulate the circuit.\n",
        "sim = cirq.Simulator()\n",
        "result = sim.run(phase_estimator, repetitions=10)\n",
        "\n",
        "# Convert from output bitstrings to estimate θ values.\n",
        "theta_estimates = np.sum(2 ** np.arange(n_bits) * result.measurements['m'], axis=1) / 2**n_bits\n",
        "print(theta_estimates)"
      ],
      "execution_count": null,
      "outputs": [
        {
          "output_type": "stream",
          "name": "stdout",
          "text": [
            "[0.25  0.25  0.25  0.25  0.25  0.25  0.25  0.25  0.25  0.125]\n"
          ]
        }
      ]
    },
    {
      "cell_type": "markdown",
      "metadata": {
        "id": "dYHOFdFMDqt-"
      },
      "source": [
        "**Here is a solution that just consists of what we did in previous cells all put together.**"
      ]
    },
    {
      "cell_type": "code",
      "metadata": {
        "id": "B2iff49oDyK9"
      },
      "source": [
        "def phase_estimation(theta, n_bits, n_reps=10, prepare_eigenstate_gate=cirq.X):\n",
        "    # Define qubit registers.\n",
        "    qubits = cirq.LineQubit.range(n_bits)\n",
        "    u_bit = cirq.NamedQubit('u')\n",
        "\n",
        "    # Define the unitary U.\n",
        "    U = cirq.Z ** (2 * theta)\n",
        "\n",
        "    # Start with Hadamards on every qubit.\n",
        "    phase_estimator = cirq.Circuit(cirq.H.on_each(*qubits))\n",
        "\n",
        "    # Do the controlled powers of the unitary U.\n",
        "    for i, bit in enumerate(qubits):\n",
        "        phase_estimator.append(cirq.ControlledGate(U).on(bit, u_bit) ** (2 ** (n_bits - 1 - i)))\n",
        "\n",
        "    # Do the inverse QFT.\n",
        "    phase_estimator.append(make_qft_inverse(qubits[::-1]))\n",
        "\n",
        "    # Add measurements.\n",
        "    phase_estimator.append(cirq.measure(*qubits, key='m'))\n",
        "\n",
        "    # Gate to choose initial state for the u_bit. Placing X here chooses the |1> state.\n",
        "    phase_estimator.insert(0, prepare_eigenstate_gate.on(u_bit))\n",
        "\n",
        "    # Code to simulate measurements\n",
        "    sim = cirq.Simulator()\n",
        "    result = sim.run(phase_estimator, repetitions=n_reps)\n",
        "\n",
        "    # Convert measurements into estimates of theta\n",
        "    theta_estimates = np.sum(2**np.arange(n_bits)*result.measurements['m'], axis=1)/2**n_bits\n",
        "\n",
        "    return theta_estimates"
      ],
      "execution_count": null,
      "outputs": []
    },
    {
      "cell_type": "code",
      "metadata": {
        "id": "QXYdv6C1D12B"
      },
      "source": [
        "\"\"\"Analyze convergence vs n_bits.\"\"\"\n",
        "# Set the value of theta. Try different values.\n",
        "theta = 0.123456\n",
        "\n",
        "max_nvals = 16\n",
        "nvals = np.arange(1, max_nvals, step=1)\n",
        "\n",
        "# Get the estimates at each value of n.\n",
        "estimates = []\n",
        "for n in nvals:\n",
        "    estimate = phase_estimation(theta=theta, n_bits=n, n_reps=1)[0]\n",
        "    estimates.append(estimate)"
      ],
      "execution_count": null,
      "outputs": []
    },
    {
      "cell_type": "code",
      "metadata": {
        "colab": {
          "base_uri": "https://localhost:8080/"
        },
        "id": "uK1WFAjgEqed",
        "outputId": "04423c54-a313-43c5-85ab-ccceff5f9887"
      },
      "source": [
        "print(theta_estimates)"
      ],
      "execution_count": null,
      "outputs": [
        {
          "output_type": "stream",
          "name": "stdout",
          "text": [
            "[0.25  0.25  0.25  0.25  0.25  0.25  0.25  0.25  0.25  0.125]\n"
          ]
        }
      ]
    },
    {
      "cell_type": "code",
      "metadata": {
        "colab": {
          "base_uri": "https://localhost:8080/"
        },
        "id": "6Ax-u59AEnmD",
        "outputId": "a3dd79c5-8217-4bcb-c21f-8dbd6d0c8fc7"
      },
      "source": [
        "print(estimates)"
      ],
      "execution_count": null,
      "outputs": [
        {
          "output_type": "stream",
          "name": "stdout",
          "text": [
            "[0.0, 0.0, 0.125, 0.125, 0.125, 0.125, 0.125, 0.16015625, 0.123046875, 0.123046875, 0.12353515625, 0.121337890625, 0.1234130859375, 0.12347412109375, 0.123443603515625]\n"
          ]
        }
      ]
    },
    {
      "cell_type": "code",
      "metadata": {
        "colab": {
          "base_uri": "https://localhost:8080/",
          "height": 276
        },
        "id": "uDBJQJQJD4PP",
        "outputId": "b4af330e-9d85-468c-d702-f02e7c68b5ff"
      },
      "source": [
        "\"\"\"Plot the results.\"\"\"\n",
        "plt.style.use(\"seaborn-whitegrid\")\n",
        "\n",
        "plt.plot(nvals, estimates, \"--o\", label=\"Phase estimation\")\n",
        "plt.axhline(theta, label=\"True value\", color=\"black\")\n",
        "\n",
        "plt.legend()\n",
        "plt.xlabel(\"Number of bits\")\n",
        "plt.ylabel(r\"$\\theta$\");"
      ],
      "execution_count": null,
      "outputs": [
        {
          "output_type": "display_data",
          "data": {
            "image/png": "[encoded data removed]",
            "text/plain": [
              "<Figure size 432x288 with 1 Axes>"
            ]
          },
          "metadata": {}
        }
      ]
    },
    {
      "cell_type": "markdown",
      "metadata": {
        "id": "9Q78Fae5hjwf"
      },
      "source": [
        "#### **Shor's Algorithm**"
      ]
    },
    {
      "cell_type": "markdown",
      "metadata": {
        "id": "cwl0UFoge52U"
      },
      "source": [
        "##### **<font color=\"black\">Classical Calculation**"
      ]
    },
    {
      "cell_type": "markdown",
      "metadata": {
        "id": "s6yeVZAuzrMk"
      },
      "source": [
        "> <font color=\"blue\">Factoring is equivalent to finding a nontrivial squareroot of 1 mod N.\n",
        "\n",
        "> all we need to do is find this nontrivial squareroot of unity, and we can factor whatever number we need. As promised, we can do this with period finding, specifically by computing the order of a random integer\n",
        "\n",
        "> The order of some integer x modulo N is the smallest integer r such that $x^r$ = 1 mod N"
      ]
    },
    {
      "cell_type": "markdown",
      "metadata": {
        "id": "k-_ucrV4b8FX"
      },
      "source": [
        "**<font color=\"black\">Modular Arithmetic**"
      ]
    },
    {
      "cell_type": "markdown",
      "metadata": {
        "id": "xCxHYDSsb6-y"
      },
      "source": [
        "![ggg](https://raw.githubusercontent.com/deltorobarba/repo/master/quantum_088.jpg)"
      ]
    },
    {
      "cell_type": "markdown",
      "metadata": {
        "id": "E-vCh-dtcAMF"
      },
      "source": [
        "![ggg](https://raw.githubusercontent.com/deltorobarba/repo/master/quantum_089.jpg)"
      ]
    },
    {
      "cell_type": "markdown",
      "metadata": {
        "id": "axJsmDe1lF5Y"
      },
      "source": [
        "**<font color=\"blue\">Step 1: Pick coprime of N**"
      ]
    },
    {
      "cell_type": "code",
      "metadata": {
        "id": "mR7oQ_GXgFmD"
      },
      "source": [
        "# Product of two prime numbers (to check later if result is correct)\n",
        "N=5 * 3\n",
        "\n",
        "# Pick coprime (!) number to N to factorize N into primes\n",
        "a=13"
      ],
      "execution_count": null,
      "outputs": []
    },
    {
      "cell_type": "markdown",
      "metadata": {
        "id": "DWontyMTor9L"
      },
      "source": [
        "**Code Example to understand periodicity in the context of factoring prime numbers:**"
      ]
    },
    {
      "cell_type": "code",
      "metadata": {
        "colab": {
          "base_uri": "https://localhost:8080/"
        },
        "id": "48daYc8to4oz",
        "outputId": "0e23b039-edab-4720-c3ec-36000abf9910"
      },
      "source": [
        "import math\n",
        "# Compute greated common divisor between a and N\n",
        "math.gcd(a, N)"
      ],
      "execution_count": null,
      "outputs": [
        {
          "output_type": "execute_result",
          "data": {
            "text/plain": [
              "1"
            ]
          },
          "metadata": {},
          "execution_count": 6
        }
      ]
    },
    {
      "cell_type": "markdown",
      "metadata": {
        "id": "8B6dUzDVf2Il"
      },
      "source": [
        "*Drei mögliche Verfahren zur Berechnung des ggT :*\n",
        "\n",
        "Erstes Verfahren: Euklidischer Algorithmus \n",
        "* 15\t:\t13\t  = \t1\t  Rest  \t2.\t  Also ist ggT (15,13)= ggT (13,2)\n",
        "* 13\t:\t2\t  = \t6\t  Rest  \t1.\t  Also ist ggT (13,2)= ggT (2,1)\n",
        "* 2\t:\t1\t  = \t2\t  Rest  \t0.\t  Also ist ggT (2,1)= ggT (1,0)\n",
        "* Ergebnis: Der ggT von 15 und 13 ist 1.\n",
        "\n",
        "Zweites Verfahren: Vergleichen der Teilermengen .\n",
        "* Die Teilermenge von 15 lautet: {1,3,5,15}.\n",
        "* Die Teilermenge von 13 lautet: {1,13}.\n",
        "* Die größte in beiden Teilermengen vorkommende Zahl ist 1. Also ist 1 der ggT von 15 und 13. \n",
        "\n",
        "Dritte Möglichkeit: Vergleichen der Primfaktorzerlegung\n",
        "* Die Primfaktorzerlegung von 15 lautet: 15= 3·5.\n",
        "* Die Primfaktorzerlegung von 13 lautet: 13= 13.\n",
        "* Die gemeinsamen Primfaktoren sind: 1.\n",
        "* Also ist 1 der ggT."
      ]
    },
    {
      "cell_type": "markdown",
      "metadata": {
        "id": "Bs5HoEOman2I"
      },
      "source": [
        "*Modulo (kurz: mod) berechnet den Rest einer Division zweier Zahlen. In Mathematischen Formeln wird modulo mit mod abgekürzt, beispielsweise: 23 mod 8 = 7. Bei dieser Rechnung kommt 7 heraus, weil die 8 zweimal in die 23 passt und dann 7 übrig bleiben.*"
      ]
    },
    {
      "cell_type": "markdown",
      "metadata": {
        "id": "ZIttZlL4XFzf"
      },
      "source": [
        "**<font color=\"blue\">Step 2: Find the period of $a^r$ $\\equiv$ 1 $(modN)$:**"
      ]
    },
    {
      "cell_type": "markdown",
      "metadata": {
        "id": "IzqnmPhvoTQw"
      },
      "source": [
        "* <font color=\"blue\">the order of x is just the period of the function f(i) = $x^i$ mod N. \n",
        "\n",
        "* <font color=\"blue\">In quantum computing you use QFT in order to determine the period !!"
      ]
    },
    {
      "cell_type": "code",
      "metadata": {
        "colab": {
          "base_uri": "https://localhost:8080/",
          "height": 355
        },
        "id": "3SoazOyVpdiU",
        "outputId": "90753159-c874-45b6-f12b-f94bf1bcbb72"
      },
      "source": [
        "import matplotlib. pyplot as plotter\n",
        "sns.set(rc={'figure.figsize':(12, 5), \"lines.linewidth\": 1.5})\n",
        "\n",
        "r = list(range(N))\n",
        "y= [a**r0 % N for r0 in r]\n",
        "\n",
        "plotter.plot (r, y)\n",
        "plotter.xlabel('r')\n",
        "plotter.ylabel('Rest:' f'{a}^r (mod{N})')\n",
        "plotter.title('Periode der Restwerte (aus den Multiples von r)')\n",
        "plotter.show()"
      ],
      "execution_count": null,
      "outputs": [
        {
          "output_type": "display_data",
          "data": {
            "image/png": "[encoded data removed]",
            "text/plain": [
              "<Figure size 864x360 with 1 Axes>"
            ]
          },
          "metadata": {}
        }
      ]
    },
    {
      "cell_type": "markdown",
      "metadata": {
        "id": "g6qyWTdoZDtL"
      },
      "source": [
        "<font color=\"red\">**Beispiel: Choose any number $a$ and takes its multiple $r$ so many times, until the rest in modulo is 1, (except r=0)**</font>\n",
        "\n",
        "> $13^0$ (mod 15) = 1 (mod 15) = 1\n",
        "\n",
        "> $13^1$ (mod 15) = 13 \n",
        "\n",
        "> $13^2$ (mod 15) = 169 (mod 15) = 4\n",
        "\n",
        "* <font color=\"blue\">*Erlauterung: Nimm 15 * 11 = 165, bis zur 169 verbleibt ein Rest 4*\n",
        "\n",
        "> $13^3$ (mod 15) = 2197 (mod 15) = 7 \n",
        "\n",
        "* <font color=\"blue\">*Erlauterung: Nimm 15 * 146 = 2190, bis zur 2197 verbleibt ein Rest 7*\n",
        "\n",
        "> $13^4$ (mod 15) = 28561 (mod 15) = 1 (<font color=\"blue\"><u>hier started die Periode wieder, that's the r we are looking for!</u>)\n",
        "\n",
        "> usw.."
      ]
    },
    {
      "cell_type": "code",
      "metadata": {
        "colab": {
          "base_uri": "https://localhost:8080/"
        },
        "id": "Dblciep4qxfM",
        "outputId": "3be061ad-66e6-4c88-8020-117f8c632318"
      },
      "source": [
        "r= r[y[1:].index(1)+1]\n",
        "print(f'r = {r}')"
      ],
      "execution_count": null,
      "outputs": [
        {
          "output_type": "stream",
          "name": "stdout",
          "text": [
            "r = 4\n"
          ]
        }
      ]
    },
    {
      "cell_type": "markdown",
      "metadata": {
        "id": "djjfEiSwjYss"
      },
      "source": [
        "**<font color=\"blue\">Step 3: Bestimme $x \\equiv a^{\\frac{r}{2}}(\\operatorname{mod} N)$**. Mindestens einer der beiden Primfaktoren von N={p,q} is beinhalted in gcd(x+1, N) bzw. gcd(x-1, N)"
      ]
    },
    {
      "cell_type": "markdown",
      "metadata": {
        "id": "26HLzUiXj6AR"
      },
      "source": [
        "*In this case with a=13, N=15 and r=4:*\n",
        "\n",
        "* $x \\equiv a^{\\frac{r}{2}}(\\operatorname{mod} N)$\n",
        "\n",
        "* $x \\equiv 13^{\\frac{4}{2}}(\\operatorname{mod} 15)$\n",
        "\n",
        "* x = 169 (mod 15) = 4\n",
        "\n",
        "  * gcd(x-1, N) = 3 = p\n",
        "\n",
        "  * gcd(x+1, N) = 5 = q"
      ]
    },
    {
      "cell_type": "code",
      "metadata": {
        "colab": {
          "base_uri": "https://localhost:8080/"
        },
        "id": "k8MwnRiUrqhR",
        "outputId": "799b2778-511f-4484-dfa9-ff854e1d871e"
      },
      "source": [
        "if r % 2 == 0:\n",
        "  x = (a**(r/2.)) % N\n",
        "  print(f'x = {x}')\n",
        "  if ((x + 1) % N) != 0:\n",
        "    print(math.gcd((int(x)+1), N), math.gcd((int(x)-1), N))\n",
        "  else:\n",
        "      print (\"x + 1 is 0 (mod N)\")\n",
        "else:\n",
        "  print (f'r = {r} is odd')"
      ],
      "execution_count": null,
      "outputs": [
        {
          "output_type": "stream",
          "name": "stdout",
          "text": [
            "x = 4.0\n",
            "5 3\n"
          ]
        }
      ]
    },
    {
      "cell_type": "markdown",
      "metadata": {
        "id": "o-xS9cNPnbIg"
      },
      "source": [
        "Achtung: im nachsten Beispiel: N=11*7 (Primzahlen), a=18, ergibt x=43. \n",
        "\n",
        "* Davon x-1=42 und x+1=44. \n",
        "* Das sind naturlich keine Primzahlen, \n",
        "* Aber deren Faktoren sind: 44 = 2 * 2 * 11 und 42 = 2 * 3 * 7\n",
        "* das heisst, x-1 und x+1 kann auch die Primzahlen indirekt enthalten!"
      ]
    },
    {
      "cell_type": "markdown",
      "metadata": {
        "id": "SJ126qDNe-QV"
      },
      "source": [
        "**<font color=\"blue\">Classical: Rechnung 2**"
      ]
    },
    {
      "cell_type": "code",
      "metadata": {
        "id": "O7J4WDatfFmU"
      },
      "source": [
        "# Product of two prime numbers (to check later if result is correct)\n",
        "N=11 * 7 \n",
        "\n",
        "# Pick coprime (!) number to N to factorize N into primes\n",
        "a=18"
      ],
      "execution_count": null,
      "outputs": []
    },
    {
      "cell_type": "code",
      "metadata": {
        "colab": {
          "base_uri": "https://localhost:8080/"
        },
        "id": "YS-vNXsLfJHy",
        "outputId": "a54a35f1-487e-47ba-a481-714e998a8ddb"
      },
      "source": [
        "import math\n",
        "# Compute greated common divisor between a and N\n",
        "math.gcd(a, N)"
      ],
      "execution_count": null,
      "outputs": [
        {
          "output_type": "execute_result",
          "data": {
            "text/plain": [
              "1"
            ]
          },
          "metadata": {},
          "execution_count": 56
        }
      ]
    },
    {
      "cell_type": "markdown",
      "metadata": {
        "id": "DsRw776vfMEU"
      },
      "source": [
        "*Drei mögliche Verfahren zur Berechnung des ggT :*\n",
        "\n",
        "Erstes Verfahren: Euklidischer Algorithmus \n",
        "\n",
        "* 77\t:\t18\t  = \t4\t  Rest  \t5.\t  Also ist ggT (77,18)= ggT (18,5)\n",
        "* 18\t:\t5\t  = \t3\t  Rest  \t3.\t  Also ist ggT (18,5)= ggT (5,3)\n",
        "* 5\t:\t3\t  = \t1\t  Rest  \t2.\t  Also ist ggT (5,3)= ggT (3,2)\n",
        "* 3\t:\t2\t  = \t1\t  Rest  \t1.\t  Also ist ggT (3,2)= ggT (2,1)\n",
        "* 2\t:\t1\t  = \t2\t  Rest  \t0.\t  Also ist ggT (2,1)= ggT (1,0)\n",
        "* Ergebnis: Der ggT von 77 und 18 ist 1.\n",
        "\n",
        "Zweites Verfahren: Vergleichen der Teilermengen .\n",
        "\n",
        "* Die Teilermenge von 77 lautet: {1,7,11,77}.\n",
        "* Die Teilermenge von 18 lautet: {1,2,3,6,9,18}.\n",
        "* Die größte in beiden Teilermengen vorkommende Zahl ist 1. \n",
        "* Also ist 1 der ggT von 77 und 18. \n",
        "\n",
        "Dritte Möglichkeit: Vergleichen der Primfaktorzerlegung\n",
        "\n",
        "* Die Primfaktorzerlegung von 77 lautet: 77= 7·11.\n",
        "* Die Primfaktorzerlegung von 18 lautet: 18= 2·3·3.\n",
        "* Die gemeinsamen Primfaktoren sind: 1.\n",
        "* Also ist 1 der ggT."
      ]
    },
    {
      "cell_type": "markdown",
      "metadata": {
        "id": "v9tVOC13fQGL"
      },
      "source": [
        "*Modulo (kurz: mod) berechnet den Rest einer Division zweier Zahlen. In Mathematischen Formeln wird modulo mit mod abgekürzt, beispielsweise: 23 mod 8 = 7. Bei dieser Rechnung kommt 7 heraus, weil die 8 zweimal in die 23 passt und dann 7 übrig bleiben.*"
      ]
    },
    {
      "cell_type": "markdown",
      "metadata": {
        "id": "gRHBWVaEfTBP"
      },
      "source": [
        "**<font color=\"blue\">Find the period of $a^r$ $\\equiv$ 1 $(modN)$:**"
      ]
    },
    {
      "cell_type": "code",
      "metadata": {
        "colab": {
          "base_uri": "https://localhost:8080/",
          "height": 355
        },
        "id": "SCGtZeqvfV1U",
        "outputId": "ca4c9aa6-350d-4176-b538-13a420011009"
      },
      "source": [
        "import matplotlib. pyplot as plotter\n",
        "sns.set(rc={'figure.figsize':(12, 5), \"lines.linewidth\": 1.5})\n",
        "\n",
        "r = list(range(N))\n",
        "y= [a**r0 % N for r0 in r]\n",
        "\n",
        "plotter.plot (r, y)\n",
        "plotter.xlabel('r')\n",
        "plotter.ylabel('Rest:' f'{a}^r (mod{N})')\n",
        "plotter.title('Periode der Restwerte (aus den Multiples von r)')\n",
        "plotter.show()"
      ],
      "execution_count": null,
      "outputs": [
        {
          "output_type": "display_data",
          "data": {
            "image/png": "[encoded data removed]",
            "text/plain": [
              "<Figure size 864x360 with 1 Axes>"
            ]
          },
          "metadata": {}
        }
      ]
    },
    {
      "cell_type": "markdown",
      "metadata": {
        "id": "9Ej0CnI6fZhq"
      },
      "source": [
        "*Beispiel: Choose any number $a$ and takes its multiple $r$ so many times, until the rest in modulo is 1, (except r=0)*\n",
        "\n",
        "> $13^0$ (mod 15) = 1 (mod 15) = 1\n",
        "\n",
        "> $13^1$ (mod 15) = 13 \n",
        "\n",
        "> $13^2$ (mod 15) = 169 (mod 15) = 4\n",
        "\n",
        "* <font color=\"blue\">*Erlauterung: Nimm 15 * 11 = 165, bis zur 169 verbleibt ein Rest 4*\n",
        "\n",
        "> $13^3$ (mod 15) = 2197 (mod 15) = 7 \n",
        "\n",
        "* <font color=\"blue\">*Erlauterung: Nimm 15 * 146 = 2190, bis zur 2197 verbleibt ein Rest 7*\n",
        "\n",
        "> $13^4$ (mod 15) = 28561 (mod 15) = 1 (<font color=\"blue\"><u>hier started die Periode wieder, that's the r we are looking for!</u>)\n",
        "\n",
        "> usw.."
      ]
    },
    {
      "cell_type": "code",
      "metadata": {
        "colab": {
          "base_uri": "https://localhost:8080/"
        },
        "id": "RWb91kZAfchW",
        "outputId": "53564a96-c35b-4746-cedb-c326c9572456"
      },
      "source": [
        "r= r[y[1:].index(1)+1]\n",
        "print(f'r = {r}')"
      ],
      "execution_count": null,
      "outputs": [
        {
          "output_type": "stream",
          "name": "stdout",
          "text": [
            "r = 30\n"
          ]
        }
      ]
    },
    {
      "cell_type": "code",
      "metadata": {
        "colab": {
          "base_uri": "https://localhost:8080/"
        },
        "id": "4OZN6mfffe1P",
        "outputId": "2808cbff-cdf9-4aa8-c30d-7eb6b9d029ff"
      },
      "source": [
        "if r % 2 == 0:\n",
        "  x = (a**(r/2.)) % N\n",
        "  print(f'x = {x}')\n",
        "  if ((x + 1) % N) != 0:\n",
        "    print(math.gcd((int(x)+1), N), math.gcd((int(x)-1), N))\n",
        "  else:\n",
        "      print (\"x + 1 is 0 (mod N)\")\n",
        "else:\n",
        "  print (f'r = {r} is odd')"
      ],
      "execution_count": null,
      "outputs": [
        {
          "output_type": "stream",
          "name": "stdout",
          "text": [
            "x = 43.0\n",
            "11 7\n"
          ]
        }
      ]
    },
    {
      "cell_type": "markdown",
      "metadata": {
        "id": "8u3-4QVy7GZa"
      },
      "source": [
        "**<font color=\"blue\">Classical: Rechnung 3**"
      ]
    },
    {
      "cell_type": "code",
      "metadata": {
        "id": "2DHoC4Fm7IRj"
      },
      "source": [
        "# Product of two prime numbers (to check later if result is correct)\n",
        "N=119 # 7 * 17\n",
        "\n",
        "# Pick coprime (!) number to N to factorize N into primes\n",
        "a=16"
      ],
      "execution_count": null,
      "outputs": []
    },
    {
      "cell_type": "code",
      "metadata": {
        "colab": {
          "base_uri": "https://localhost:8080/"
        },
        "id": "zeAGP5Tf7UDf",
        "outputId": "73bbdba3-58e6-4843-ccd6-f663f9cedcac"
      },
      "source": [
        "import math\n",
        "# Compute greated common divisor between a and N\n",
        "math.gcd(a, N)"
      ],
      "execution_count": null,
      "outputs": [
        {
          "output_type": "execute_result",
          "data": {
            "text/plain": [
              "1"
            ]
          },
          "metadata": {},
          "execution_count": 4
        }
      ]
    },
    {
      "cell_type": "markdown",
      "metadata": {
        "id": "IZV724ps7aTf"
      },
      "source": [
        "**<font color=\"blue\">Find the period of $a^r$ $\\equiv$ 1 $(modN)$:**"
      ]
    },
    {
      "cell_type": "code",
      "metadata": {
        "colab": {
          "base_uri": "https://localhost:8080/",
          "height": 355
        },
        "id": "EuWJf40a7XaW",
        "outputId": "5473f86a-ffd5-4500-b833-fb75f818da3e"
      },
      "source": [
        "import matplotlib. pyplot as plotter\n",
        "sns.set(rc={'figure.figsize':(12, 5), \"lines.linewidth\": 1.5})\n",
        "\n",
        "r = list(range(N))\n",
        "y= [a**r0 % N for r0 in r]\n",
        "\n",
        "plotter.plot (r, y)\n",
        "plotter.xlabel('r')\n",
        "plotter.ylabel('Rest:' f'{a}^r (mod{N})')\n",
        "plotter.title('Periode der Restwerte (aus den Multiples von r)')\n",
        "plotter.show()"
      ],
      "execution_count": null,
      "outputs": [
        {
          "output_type": "display_data",
          "data": {
            "image/png": "[encoded data removed]",
            "text/plain": [
              "<Figure size 864x360 with 1 Axes>"
            ]
          },
          "metadata": {}
        }
      ]
    },
    {
      "cell_type": "code",
      "metadata": {
        "colab": {
          "base_uri": "https://localhost:8080/"
        },
        "id": "__vTFWg67iAx",
        "outputId": "3438cfb4-2f05-43b5-ff6f-013f44f9620d"
      },
      "source": [
        "r= r[y[1:].index(1)+1]\n",
        "print(f'r = {r}')"
      ],
      "execution_count": null,
      "outputs": [
        {
          "output_type": "stream",
          "name": "stdout",
          "text": [
            "r = 6\n"
          ]
        }
      ]
    },
    {
      "cell_type": "markdown",
      "metadata": {
        "id": "O2d4HqLS7roG"
      },
      "source": [
        "The order of 16 mod 119 is 6. Now, we compute $16^3$ ≡ 50. \n",
        "\n",
        "Gcd(49,119) = 7, so 7 is a factor of 119, and gcd(51, 119) = 17 which is another factor of 119."
      ]
    },
    {
      "cell_type": "code",
      "metadata": {
        "colab": {
          "base_uri": "https://localhost:8080/"
        },
        "id": "AK5eiwiN7kXw",
        "outputId": "12b87e3d-7cbe-4f40-c552-9812f69496b2"
      },
      "source": [
        "if r % 2 == 0:\n",
        "  x = (a**(r/2.)) % N\n",
        "  print(f'x = {x}')\n",
        "  if ((x + 1) % N) != 0:\n",
        "    print(math.gcd((int(x)+1), N), math.gcd((int(x)-1), N))\n",
        "  else:\n",
        "      print (\"x + 1 is 0 (mod N)\")\n",
        "else:\n",
        "  print (f'r = {r} is odd')"
      ],
      "execution_count": null,
      "outputs": [
        {
          "output_type": "stream",
          "name": "stdout",
          "text": [
            "x = 50.0\n",
            "17 7\n"
          ]
        }
      ]
    },
    {
      "cell_type": "markdown",
      "metadata": {
        "id": "wf05e_HjgJ-p"
      },
      "source": [
        "**<font color=\"blue\">Classical: More Rechnungen**"
      ]
    },
    {
      "cell_type": "code",
      "metadata": {
        "colab": {
          "base_uri": "https://localhost:8080/",
          "height": 375
        },
        "id": "JZGeNscj_aQ-",
        "outputId": "28aa28cc-8359-4720-ca15-680e3dab2f54"
      },
      "source": [
        "# Product of two prime numbers (to check later if result is correct)\n",
        "N=37 * 275\n",
        "\n",
        "# Pick coprime (!) number to N to factorize N into primes\n",
        "a=13\n",
        "\n",
        "import matplotlib. pyplot as plotter\n",
        "sns.set(rc={'figure.figsize':(12, 5), \"lines.linewidth\": 1.5})\n",
        "\n",
        "r = list(range(N))\n",
        "y= [a**r0 % N for r0 in r]\n",
        "\n",
        "plotter.plot (r, y)\n",
        "plotter.xlabel('r')\n",
        "plotter.ylabel('Rest:' f'{a}^r (mod{N})')\n",
        "plotter.title('Periode der Restwerte (aus den Multiples von r)')\n",
        "plotter.show()"
      ],
      "execution_count": null,
      "outputs": [
        {
          "output_type": "display_data",
          "data": {
            "image/png": "[encoded data removed]",
            "text/plain": [
              "<Figure size 864x360 with 1 Axes>"
            ]
          },
          "metadata": {}
        }
      ]
    },
    {
      "cell_type": "code",
      "metadata": {
        "colab": {
          "base_uri": "https://localhost:8080/",
          "height": 375
        },
        "id": "J5ITMiC_gMgL",
        "outputId": "91ce73c9-1ea6-49fa-a50e-7673464474e7"
      },
      "source": [
        "# Product of two prime numbers (to check later if result is correct)\n",
        "N=7 * 23\n",
        "\n",
        "# Pick coprime (!) number to N to factorize N into primes\n",
        "a=3\n",
        "\n",
        "import matplotlib. pyplot as plotter\n",
        "sns.set(rc={'figure.figsize':(12, 5), \"lines.linewidth\": 1.5})\n",
        "\n",
        "r = list(range(N))\n",
        "y= [a**r0 % N for r0 in r]\n",
        "\n",
        "plotter.plot (r, y)\n",
        "plotter.xlabel('r')\n",
        "plotter.ylabel('Rest:' f'{a}^r (mod{N})')\n",
        "plotter.title('Periode der Restwerte (aus den Multiples von r)')\n",
        "plotter.show()"
      ],
      "execution_count": null,
      "outputs": [
        {
          "output_type": "display_data",
          "data": {
            "image/png": "[encoded data removed]",
            "text/plain": [
              "<Figure size 864x360 with 1 Axes>"
            ]
          },
          "metadata": {}
        }
      ]
    },
    {
      "cell_type": "code",
      "metadata": {
        "colab": {
          "base_uri": "https://localhost:8080/"
        },
        "id": "HNAUdKQNgRSc",
        "outputId": "2f130a65-2699-4734-e1e9-cdce40666e3f"
      },
      "source": [
        "r= r[y[1:].index(1)+1]\n",
        "print(f'r = {r}')"
      ],
      "execution_count": null,
      "outputs": [
        {
          "output_type": "stream",
          "name": "stdout",
          "text": [
            "r = 180\n"
          ]
        }
      ]
    },
    {
      "cell_type": "code",
      "metadata": {
        "colab": {
          "base_uri": "https://localhost:8080/"
        },
        "id": "Zvc19uyMgTfG",
        "outputId": "0ba046c4-3ba1-49f2-c524-7f27cb14e894"
      },
      "source": [
        "if r % 2 == 0:\n",
        "  x = (a**(r/2.)) % N\n",
        "  print(f'x = {x}')\n",
        "  if ((x + 1) % N) != 0:\n",
        "    print(math.gcd((int(x)+1), N), math.gcd((int(x)-1), N))\n",
        "  else:\n",
        "      print (\"x + 1 is 0 (mod N)\")\n",
        "else:\n",
        "  print (f'r = {r} is odd')"
      ],
      "execution_count": null,
      "outputs": [
        {
          "output_type": "stream",
          "name": "stdout",
          "text": [
            "x = 139.0\n",
            "7 23\n"
          ]
        }
      ]
    },
    {
      "cell_type": "markdown",
      "metadata": {
        "id": "TiqOEUrSLR_5"
      },
      "source": [
        "##### **Overview**"
      ]
    },
    {
      "cell_type": "markdown",
      "metadata": {
        "id": "j7hizFGI2ghF"
      },
      "source": [
        "* When finding order using the period finding algorithm, it is important to use enough qubits. A sensible rule is that you need to use m qubits so that $2^m$ >> $N^2$, where N is the number we are trying to factor, because the order of a random number might be as large as N\n",
        "\n",
        "* Example: Lets factor N=119. Suppose we pick the number 16 to start with. Wie viele Qubits m sollten wir mindestens nehmen? $N^2$ = $119^2$ =14.161 und $2^m$ muss deutlich grosser sein, also mindestens = $2^{14}$ = 16.384. Wir brauchen also mindestens 14 Qubits, um 119 zu faktorisieren."
      ]
    },
    {
      "cell_type": "markdown",
      "metadata": {
        "id": "0rj2GI7_cC86"
      },
      "source": [
        "![ggg](https://raw.githubusercontent.com/deltorobarba/repo/master/quantum_090.jpg)"
      ]
    },
    {
      "cell_type": "markdown",
      "metadata": {
        "id": "h_3JNhy94Btu"
      },
      "source": [
        "* Because we know that the order of x will be even and $x^{s/2}$ will be a nontrivial square root with probability at least 1/2, we can be confident that we will be able to factor N in just a few runs of the algorithm. Because the time it takes to find the period grows as a polynomial in the number of bits, and the number of bits grows like 2logN(by the above requirement), we expect the time it takes to factor N to grow as a polynomial in logN.\n",
        "\n",
        "* Here is the circuit for Shor’s Algorithm. It relies heavily on period finding, and so the circuit looks a lot like the circuit for period finding. The key difference is that we are finding the period of f(i) = xi, and the number of bits we need to input is very large."
      ]
    },
    {
      "cell_type": "markdown",
      "metadata": {
        "id": "ACz4RmcTc0Zn"
      },
      "source": [
        "**Example**"
      ]
    },
    {
      "cell_type": "markdown",
      "metadata": {
        "id": "BrrdCnywczMT"
      },
      "source": [
        "![ggg](https://raw.githubusercontent.com/deltorobarba/repo/master/quantum_091.jpg)"
      ]
    },
    {
      "cell_type": "markdown",
      "metadata": {
        "id": "zSzRumzC_Lvn"
      },
      "source": [
        "**How does it work in the quantum circuit?**"
      ]
    },
    {
      "cell_type": "markdown",
      "metadata": {
        "id": "PVChsGbu_ckB"
      },
      "source": [
        "That's the function in $U$: given an $x$, the $U$ will compute:\n",
        "\n",
        "> $f_{a, N}(x) \\equiv a^{x}(\\bmod N)$"
      ]
    },
    {
      "cell_type": "markdown",
      "metadata": {
        "id": "eHQthOfm_JfT"
      },
      "source": [
        "![ggg](https://raw.githubusercontent.com/deltorobarba/repo/master/quantum_092.png)"
      ]
    },
    {
      "cell_type": "markdown",
      "metadata": {
        "id": "WJK4acvxAToq"
      },
      "source": [
        "![ggg](https://raw.githubusercontent.com/deltorobarba/repo/master/quantum_093.png)"
      ]
    },
    {
      "cell_type": "markdown",
      "metadata": {
        "id": "5mApRUwSPydz"
      },
      "source": [
        "**<font color=\"blue\">Shor's Algorithm: Step by Step**"
      ]
    },
    {
      "cell_type": "markdown",
      "metadata": {
        "id": "gi_e1Ah_Fl5M"
      },
      "source": [
        "**Beispiel: a=13 und N=15, was macht Shor's Algorithm genau im Circuit an der Stelle $U_{f_{(a,N)}}$ und $QFT^{\\dagger}$?**\n",
        "\n",
        "ps: a muss ein Coprime von N sein. Wenn es kein Coprime ist, muessen wir nicht durch Shor's Algorithm gehen, weil a dann einen Faktor mit N teilt :) Aber es ist very unlikely to find a coprime of a large number N."
      ]
    },
    {
      "cell_type": "markdown",
      "metadata": {
        "id": "Hq-HtJNVJ79w"
      },
      "source": [
        "**First let's divide it into steps. 1-5:**"
      ]
    },
    {
      "cell_type": "markdown",
      "metadata": {
        "id": "Z7p18j_nJ-zc"
      },
      "source": [
        "![ggg](https://raw.githubusercontent.com/deltorobarba/repo/master/quantum_095.png)"
      ]
    },
    {
      "cell_type": "markdown",
      "metadata": {
        "id": "B3iVNXx1MFLN"
      },
      "source": [
        "##### <font color=\"blue\">**Step 0 and 1: Get Qubits in state 0 and apply Hadamard Superposition**"
      ]
    },
    {
      "cell_type": "markdown",
      "metadata": {
        "id": "4vFmT32DKGfL"
      },
      "source": [
        "**Step 0**: we start with 4 Qubits all in zeros, mit den Registers x und w, und jedes 4 Mal Tensorproduct multipliziert, weil wir 4 Qubits haben: \n",
        "\n",
        "> $|0\\rangle_{x}^{\\otimes 4}$ $|0\\rangle_{w}^{\\otimes 4}$"
      ]
    },
    {
      "cell_type": "markdown",
      "metadata": {
        "id": "vrEvCMunLBeC"
      },
      "source": [
        "**Step 1**: All Hamadard Gates are applied to top 4 Qubits (x register), and right part (w register) gets nothing applied to it:\n",
        "\n",
        "> $[H^{\\otimes 4}|0\\rangle] \\,\\, |0\\rangle^{\\otimes^{4}}$\n",
        "\n",
        "> = $\\frac{1}{4}[|0\\rangle+|1\\rangle+|2\\rangle+\\cdots+|15\\rangle]$ $|0\\rangle$\n",
        "\n",
        "* Reminder 1: Multiplikation mit $\\frac{1}{4}$, weil 4 Qubits in Hadamard-Superposition\n",
        "\n",
        "* Reminder 2: this is the 4 bit representation of the decimal number, so for example 15 in binary = 1111. Daher kann man auch die 4 angeben als Erinnerung der Bit representation:\n",
        "\n",
        "> = $\\frac{1}{4}[|0\\rangle_4+|1\\rangle_4+|2\\rangle_4+\\cdots+|15\\rangle_4]$ $|0\\rangle_4$\n"
      ]
    },
    {
      "cell_type": "markdown",
      "metadata": {
        "id": "4uvvLxifL7Pp"
      },
      "source": [
        "##### <font color=\"blue\">**Step 2: Compute $U$ with $f_{a, N}(x) \\equiv a^{x}(\\bmod N)$**"
      ]
    },
    {
      "cell_type": "markdown",
      "metadata": {
        "id": "VKOyXX5bG_i1"
      },
      "source": [
        "**Step 2**: Was passiert genau in der Box mit $U_{f_{(a,N)}}$?\n",
        "\n",
        "**Given an $x$, the $U$ will compute: <font color=\"red\">$f_{a, N}(x) \\equiv a^{x}(\\bmod N)$</font>**\n",
        "\n",
        "Schauen wir nochmal im vorherigen Schritt und markieren eine Komponente:\n",
        "\n",
        "> = $\\frac{1}{4}[$ <font color=\"red\">$|0\\rangle_4$</font> $+|1\\rangle_4+|2\\rangle_4+\\cdots+|15\\rangle_4]$ $\\,$ $|0\\rangle_4$\n",
        "\n",
        "<font color=\"red\">$U_{f_{(a,N)}}$</font> macht dann folgendes:\n",
        "\n",
        "> = $\\frac{1}{4}$ <font color=\"red\">[$|0\\rangle_{4}\\, \\left|  0 \\bigoplus 13^{0}(\\bmod 15)\\right\\rangle_{4}$</font> + $|1\\rangle_{4}\\left|0 \\bigoplus 13^{1}(\\bmod 15)\\right\\rangle_{4}$ + $|2\\rangle_{4}\\left|0 \\bigoplus 13^{2}(\\bmod 15)\\right\\rangle_{4}$ + $|3\\rangle_{4}\\left|0 \\bigoplus 13^{3}(\\bmod 15)\\right\\rangle_{4}$ etc..]\n",
        "\n",
        "Remember: $\\bigoplus$ means \"addition modular 2\" bzw. \"XOR\". Anything XORs with 0, is thing itself: 0 $\\bigoplus$ Z = Z. damit ergibt sich folgende Rechnung:\n",
        "\n",
        "> = $\\frac{1}{4}$ <font color=\"red\">[$|0\\rangle_{4}\\, \\left|   13^{0}(\\bmod 15)\\right\\rangle_{4}$</font> + $|1\\rangle_{4}\\left| 13^{1}(\\bmod 15)\\right\\rangle_{4}$ + $|2\\rangle_{4}\\left| 13^{2}(\\bmod 15)\\right\\rangle_{4}$ + $|3\\rangle_{4}\\left| 13^{3}(\\bmod 15)\\right\\rangle_{4}$ etc..]\n",
        "\n",
        "\n",
        "Aus der Modulo-Rechnung ergeben sich die Restwerte:\n",
        "\n",
        "* <font color=\"red\">$13^{0}(\\bmod 15)$ = 1</font>\n",
        "\n",
        "* $13^{1}(\\bmod 15)$ = 13\n",
        "\n",
        "* $13^{2}(\\bmod 15)$ = 4\n",
        "\n",
        "* $13^{3}(\\bmod 15)$ = 7\n",
        "\n",
        "* $13^{4}(\\bmod 15)$ = 1\n",
        "\n",
        "* usw..\n",
        "\n",
        "Since it's periodic, it will repeat, with the x and w register:\n",
        "\n",
        "> = $\\frac{1}{4}$ <font color=\"red\">[$|0\\rangle_{4}\\,\\left|1\\right\\rangle_{4}$</font> + $|1\\rangle_{4}\\left|13\\right\\rangle_{4}$ + $|2\\rangle_{4}\\left|4\\right\\rangle_{4}$ + $|3\\rangle_{4}\\left|7\\right\\rangle_{4}$ etc..]\n",
        "\n",
        "Hier nochmal untereinander mit denselben Restwerten zur besseren Visualisierung:\n"
      ]
    },
    {
      "cell_type": "markdown",
      "metadata": {
        "id": "aYzKuR7nJQqG"
      },
      "source": [
        "![ggg](https://raw.githubusercontent.com/deltorobarba/repo/master/quantum_094.png)"
      ]
    },
    {
      "cell_type": "markdown",
      "metadata": {
        "id": "Fps6il5dLY5j"
      },
      "source": [
        "##### <font color=\"blue\">**Step 3: Measurement of the w register / bottom 4 Qubits**"
      ]
    },
    {
      "cell_type": "markdown",
      "metadata": {
        "id": "L_-QZylnP7nv"
      },
      "source": [
        "**Step 3**: Measurement of the w register / bottom 4 Qubits:\n",
        "\n",
        "* the outputs of the w-register measurements are either 1, 13, 4 or 7 (die Restwerte) with equal probability\n",
        "\n",
        "* let's say we measure 7, what happens to x? X becomes either 3, 7, 11 or 15 (the value in front of the qubit with 7!) with equal probability:\n",
        "\n",
        "  * after $|\\omega\\rangle$ = $|7\\rangle_4$ , $|x\\rangle$ becomes:\n",
        "\n",
        "  * <font color=\"blue\">$|x\\rangle$ $|\\omega\\rangle$ = $\\frac{1}{2}\\left[|3\\rangle_{4}+|7\\rangle_{4}+|11\\rangle_{4}+ |15 \\rangle_{4}\\right]$ $\\otimes |7\\rangle_4$\n",
        "\n",
        "  * Normalization has changed: before we had 16 combinations mit 1/4, here we have only 4 combinations with 1/2 (=one over square root of 4)\n",
        "\n",
        "* **For the next step 4, the Restwert doesn't matter anymore, here: $\\otimes |7\\rangle_4$. We can ignore it. Because it step 4 we apply the measured $|x\\rangle$ in the $QFT^{\\dagger}$, and don't care about $|\\omega\\rangle$ anymore**. And $|x\\rangle$ is in this case: $\\frac{1}{2}\\left[|3\\rangle_{4}+|7\\rangle_{4}+|11\\rangle_{4}+ |15 \\rangle_{4}\\right]$\n"
      ]
    },
    {
      "cell_type": "markdown",
      "metadata": {
        "id": "lk5Y0KMwABjB"
      },
      "source": [
        "![ggg](https://raw.githubusercontent.com/deltorobarba/repo/master/quantum_095.png)"
      ]
    },
    {
      "cell_type": "markdown",
      "metadata": {
        "id": "0w9X_88LLasW"
      },
      "source": [
        "##### <font color=\"blue\">**Step 4: Apply inverse QFT**"
      ]
    },
    {
      "cell_type": "markdown",
      "metadata": {
        "id": "a_7uaW02Wyvg"
      },
      "source": [
        "**Step 4**: Apply $QFT^{\\dagger}$ on the $|x\\rangle$ register\n",
        "\n",
        "* $QFT\\,\\,|x\\rangle=|\\tilde{x}\\rangle=$ $\\frac{1}{\\sqrt{N}} \\sum_{y=0}^{N-1} e^{\\frac{2 \\pi i}{N} x y} |y\\rangle$ (Reminder!)\n",
        "\n",
        "* $QFT^{\\dagger}|\\tilde{x}\\rangle=|x\\rangle=$ $\\frac{1}{\\sqrt{N}} \\sum_{y=0}^{N-1} e^{\\frac{-2 \\pi i}{N} x y} |y\\rangle$ (see -2 turning i in -i which is a complex conjugate operation)\n",
        "\n",
        "* We want to know what QFT dagger is doing to (it is $\\frac{1}{\\sqrt{16}}$ because we have 4 Qubits)\n",
        "\n",
        "  * $QFT^{\\dagger}|3\\rangle_4$ = $\\frac{1}{\\sqrt{16}} \\sum_{y=0}^{N-1} e^{\\frac{-2 \\pi i 3 y}{16}}|y\\rangle$\n",
        "\n",
        "  * $QFT^{\\dagger}|7\\rangle_4$ = $\\frac{1}{\\sqrt{16}} \\sum_{y=0}^{N-1} e^{\\frac{-2 \\pi i 7 y}{16}}|y\\rangle$\n",
        "\n",
        "  * $QFT^{\\dagger}|11\\rangle_4$ = $\\frac{1}{\\sqrt{16}} \\sum_{y=0}^{N-1} e^{\\frac{-2 \\pi i 11 y}{16}}|y\\rangle$\n",
        "\n",
        "  * $QFT^{\\dagger}|15\\rangle_4$ = $\\frac{1}{\\sqrt{16}} \\sum_{y=0}^{N-1} e^{\\frac{-2 \\pi i 15 y}{16}}|y\\rangle$"
      ]
    },
    {
      "cell_type": "markdown",
      "metadata": {
        "id": "L6NcRos5PSu9"
      },
      "source": [
        "Alltogether:\n",
        "\n",
        "  * $QFT^{\\dagger}|x\\rangle$ = $\\frac{1}{{8}} \\sum_{y=0}^{15}$ [ $e^{-i\\frac{ 3 \\pi}{8}y}$ + $e^{-i\\frac{ 7 \\pi}{8}y}$ + $e^{-i\\frac{ 11 \\pi}{8}y}$ + $e^{-i\\frac{ 15 \\pi}{8}y}$] $|y\\rangle$\n",
        "\n",
        "    * with: $e^{-i\\frac{ 3 \\pi}{8}y}$ = $\\cos \\left(\\frac{3 \\pi}{8} y\\right)-i \\sin \\left(\\frac{3 \\pi}{8} y\\right)$ (und aquivalent fur alle anderen drei)\n",
        "\n",
        "    * siehe coding rechnung unten was genau passiert hier!\n",
        "  \n",
        "  * <font color=\"blue\">$QFT^{\\dagger}|x\\rangle$ = $\\frac{1}{{8}}$ [ $4|0\\rangle_4$ + $4i|4\\rangle_4$ $-4|8\\rangle_4$ $-4i|12\\rangle_4$ ]</font>\n",
        "  \n",
        "  * Remember we had a sum before: $\\frac{1}{{8}} \\sum_{y=0}^{15}$. And notice how all the other terms now vanished to zero, because you had equal contributions of plus and minus.\n",
        "\n",
        "    * **This is exactly what it means when people tell you that quantum computers take advantage of interference!! = when a lot of the terms vanish, and the answer only converges to the terms that we care about.**\n",
        "\n",
        "    * here is the calculation what happened, you see many zeros:"
      ]
    },
    {
      "cell_type": "markdown",
      "metadata": {
        "id": "KKLnXQ5PPYWM"
      },
      "source": [
        "<font color=\"red\">Hier Beispielrechnung fur y=1, um vanishing components zu verstehen</font>. Unten im Code die Ergebnisse, zum Beispiel fur y=1 als Ergebnis = 0, $QFT^{\\dagger}|x\\rangle$ fur y = 1: \n",
        "    \n",
        "  * $e^{-i\\frac{ 3 \\pi}{8}y}$ + $e^{-i\\frac{ 7 \\pi}{8}y}$ + $e^{-i\\frac{ 11 \\pi}{8}y}$ + $e^{-i\\frac{ 15 \\pi}{8}y}$ =\n",
        "    \n",
        "  * $e^{-i\\frac{ 3 \\pi}{8}1}$ + $e^{-i\\frac{ 7 \\pi}{8}1}$ + $e^{-i\\frac{ 11 \\pi}{8}1}$ + $e^{-i\\frac{ 15 \\pi}{8}1}$ =\n",
        "\n",
        "    * $e^{-i\\frac{ 3 \\pi}{8}1}$ = <font color=\"green\">0,382683432 - 0,923879533 i</font>\n",
        "\n",
        "    * $e^{-i\\frac{ 7 \\pi}{8}1}$ = <font color=\"orange\">-0,923879533 - 0,382683432 i</font>\n",
        "\n",
        "    * $e^{-i\\frac{ 11 \\pi}{8}1}$ = <font color=\"green\">-0,382683432 + 0,923879533 i</font>\n",
        "\n",
        "    * $e^{-i\\frac{ 15 \\pi}{8}1}$ = <font color=\"orange\">0,923879533 + 0,382683432 i</font>\n",
        "\n",
        "  * Wie man sieht canceln sich die Terme aus (in gleicher Farbe), weshalb als Ergebnis fur y=1 Null entsteht."
      ]
    },
    {
      "cell_type": "code",
      "metadata": {
        "colab": {
          "base_uri": "https://localhost:8080/"
        },
        "id": "UWn_Jmu_OMSJ",
        "outputId": "20ecb4a6-6407-4ebd-abb1-14bece962df0"
      },
      "source": [
        "# Hier Beispiel fur y=1 und den ersten e-Term:\n",
        "y = 1\n",
        "pi = np.pi\n",
        "coeff = np.exp(-1j*3*pi/8 * y)\n",
        "if abs(coeff) < 1e-10: coeff= 0\n",
        "print(y, coeff)"
      ],
      "execution_count": null,
      "outputs": [
        {
          "output_type": "stream",
          "name": "stdout",
          "text": [
            "1 (0.38268343236508984-0.9238795325112867j)\n"
          ]
        }
      ]
    },
    {
      "cell_type": "code",
      "metadata": {
        "colab": {
          "base_uri": "https://localhost:8080/"
        },
        "id": "iERBMPR2y9hm",
        "outputId": "5ffcb615-a899-4d10-f474-8398f25e98f9"
      },
      "source": [
        "# Hier die komplette Rechnung fur alle y und alle 4 e-Terme:\n",
        "import numpy as np\n",
        "\n",
        "pi = np.pi\n",
        "for y in range (15) :\n",
        "  coeff = np.exp(-1j*3*pi/8 * y) + \\\n",
        "          np.exp(-1j*7*pi/8 * y) + \\\n",
        "          np.exp(-1j*11*pi/8* y) + \\\n",
        "          np.exp(-1j*15*pi/8* y)\n",
        "  if abs(coeff) < 1e-10: coeff= 0\n",
        "  print(y, coeff)"
      ],
      "execution_count": null,
      "outputs": [
        {
          "output_type": "stream",
          "name": "stdout",
          "text": [
            "0 (4+0j)\n",
            "1 0\n",
            "2 0\n",
            "3 0\n",
            "4 (-5.757077917265737e-15+4j)\n",
            "5 0\n",
            "6 0\n",
            "7 0\n",
            "8 (-4-1.1514155834531474e-14j)\n",
            "9 0\n",
            "10 0\n",
            "11 0\n",
            "12 (2.2600304269997962e-14-4j)\n",
            "13 0\n",
            "14 0\n"
          ]
        }
      ]
    },
    {
      "cell_type": "markdown",
      "metadata": {
        "id": "BssTAKT3LgY8"
      },
      "source": [
        "##### <font color=\"blue\">**Step 5: Measure the |x> register**"
      ]
    },
    {
      "cell_type": "markdown",
      "metadata": {
        "id": "EfXrcIqo14n0"
      },
      "source": [
        "**Step 5**: Measure the |x> register: \n",
        "\n",
        "* You get either 0 or 4 or 8 or 12 with equal probability\n",
        "\n",
        "* Remaining steps are classical post-processing\n",
        "\n",
        "* You can already see the periodicity in the result: the difference is always 4\n",
        "\n",
        "* Analyse what happens for each outcome: **The measurement results peak near $j\\frac{N}{r}$ for same integer j $\\in Z$. And r is the period that we are looking for. N = $2^n$ Qubits!**\n",
        "\n",
        "  * if we measure |4>$_4$: $j\\frac{16}{r}$ = 4, true if j=1 and r=4\n",
        "\n",
        "  * there are multiple values that would work, but this is the lowest one\n",
        "\n",
        "* now check our protocoll for r=4:\n",
        "\n",
        "  * Is r even? yes!\n",
        "\n",
        "  * $x \\equiv a^{r / 2}(\\bmod N)$ = $13^{4 / 2}(\\bmod 15)$ = 4\n",
        "\n",
        "  * x+1 = 5 and x-1 = 3\n",
        "\n",
        "* This looks good, now check:\n",
        "\n",
        "  * $\\operatorname{gcd}(x+1, N)=\\operatorname{gcd}(5,15)=5$\n",
        "\n",
        "  * $\\operatorname{gcd}(x-1, N)=\\operatorname{gcd}(3,15)=3$"
      ]
    },
    {
      "cell_type": "markdown",
      "metadata": {
        "id": "ojfkKLB156RN"
      },
      "source": [
        "What do you do if r = 8 ?\n",
        "\n",
        "* |8>$_4$: $j\\frac{16}{r}$ = 8, true if j=1 and r=2 AND j=2 and r=4\n",
        "\n",
        "* if r=4 we are back in the case before\n",
        "\n",
        "* if r=2 then $x \\equiv a^{r / 2}(\\bmod N)$ = $13^{2 / 2}(\\bmod 15)$ = 2, which brings x+1 = 3 and x-1 = 1\n",
        "\n",
        "  * $\\operatorname{gcd}(x+1, N)=\\operatorname{gcd}(3,15)=3$\n",
        "\n",
        "  * $\\operatorname{gcd}(x-1, N)=\\operatorname{gcd}(1,15)=1$\n",
        "\n",
        "* This leads you to a partial solution. Now you can back out the other solution, with checking 3 divides into 15\n",
        "\n",
        "* If we get r=0, then we need to do the experiment again"
      ]
    },
    {
      "cell_type": "markdown",
      "metadata": {
        "id": "VUh5Nk7RSvni"
      },
      "source": [
        "Hier die Faktorisierungsergebnisse fur verschiedene QC-Ausgaben r. Mit r=0 geht es nicht, also kann man in 3 von 4 Faellen faktorisieren (und mit r=8 bekommt man eine partial solution, kann aber immer noch faktorisieren).\n",
        "\n",
        "![ggg](https://raw.githubusercontent.com/deltorobarba/repo/master/quantum_097.png)"
      ]
    },
    {
      "cell_type": "markdown",
      "metadata": {
        "id": "Tbppj7jwSLzd"
      },
      "source": [
        "Aus dem 2001 Paper von IBM, Faktorisierung von 15 auf einem Quantum Computer:\n",
        "\n",
        "![ggg](https://raw.githubusercontent.com/deltorobarba/repo/master/quantum_096.png)"
      ]
    },
    {
      "cell_type": "markdown",
      "metadata": {
        "id": "UT0cddzgzLqy"
      },
      "source": [
        "##### <font color=\"blue\">**Appendix: What is the Gate structure in $U$?**"
      ]
    },
    {
      "cell_type": "markdown",
      "metadata": {
        "id": "W8beuwX8zVd_"
      },
      "source": [
        "* $a^{x_1}$, $a^{x_2}$, $a^{x_n}$ tells you this is a controlled operation"
      ]
    },
    {
      "cell_type": "markdown",
      "metadata": {
        "id": "X5zjy_jFzx0j"
      },
      "source": [
        "![ggg](https://raw.githubusercontent.com/deltorobarba/repo/master/quantum_098.png)"
      ]
    },
    {
      "cell_type": "markdown",
      "metadata": {
        "id": "UoyORv2y0A0k"
      },
      "source": [
        "* look now how the exponent doesn't contain $x_1$, $x_2$, .. $x_n$ anymore\n",
        "\n",
        "* this is done by implementing it by doing these controls\n",
        "\n",
        "* this is exactly like quantum phase estimation"
      ]
    },
    {
      "cell_type": "markdown",
      "metadata": {
        "id": "FqUbR8Ld05dc"
      },
      "source": [
        "![ggg](https://raw.githubusercontent.com/deltorobarba/repo/master/quantum_099.png)"
      ]
    },
    {
      "cell_type": "markdown",
      "metadata": {
        "id": "KUDM2swG1Pal"
      },
      "source": [
        "**Der linke Term stammt aus QPE, der rechte Term ist der Teil $U$ aus Shor's Algorithms:**\n",
        "\n",
        "> <font color=\"blue\">$U^{2^{x}}=a^{2^{x}}(\\bmod N)$</font>"
      ]
    },
    {
      "cell_type": "markdown",
      "metadata": {
        "id": "cSfK2MPmb6E1"
      },
      "source": [
        "continue: https://youtu.be/IFmkzWF-S2k?t=1181"
      ]
    },
    {
      "cell_type": "markdown",
      "metadata": {
        "id": "WQ7RNLq6e-29"
      },
      "source": [
        "##### **<font color=\"black\">Archive Details**"
      ]
    },
    {
      "cell_type": "markdown",
      "metadata": {
        "id": "irXkrQ-n7Idp"
      },
      "source": [
        "https://jonathan-hui.medium.com/qc-cracking-rsa-with-shors-algorithm-bc22cb7b7767"
      ]
    },
    {
      "cell_type": "markdown",
      "metadata": {
        "id": "66CIBHRz5flt"
      },
      "source": [
        "**Prerequisite**"
      ]
    },
    {
      "cell_type": "markdown",
      "metadata": {
        "id": "UENYmb3Alt3f"
      },
      "source": [
        "* [Primfaktorzerlegung](https://de.m.wikipedia.org/wiki/Primfaktorzerlegung) und [Euklidischer Algorithmus](https://de.m.wikipedia.org/wiki/Euklidischer_Algorithmus)\n",
        "\n",
        "* [Quantum Fourier Transform](https://en.m.wikipedia.org/wiki/Quantum_Fourier_transform) und [Fourier transform on finite groups](https://en.m.wikipedia.org/wiki/Fourier_transform_on_finite_groups)\n",
        "\n",
        "* Read [Shor's Algorithm](https://en.m.wikipedia.org/wiki/Shor%27s_algorithm)"
      ]
    },
    {
      "cell_type": "markdown",
      "metadata": {
        "id": "l3jNiq111siS"
      },
      "source": [
        "Video: [How Quantum Computers Break Encryption | Shor's Algorithm Explained](https://www.youtube.com/watch?v=lvTqbM5Dq4Q&t=584s)\n",
        "\n",
        "Video: [How Shor's Algorithm Factors 314191](https://www.youtube.com/watch?v=FRZQ-efABeQ&t=98s)"
      ]
    },
    {
      "cell_type": "markdown",
      "metadata": {
        "id": "ihXSBLqcwVN6"
      },
      "source": [
        "**Step 1: To factorize a number N like 15 into its primes, let's take a random number g < N that might share a factor with the target number (but probably doesn't)**\n",
        "\n",
        "That number g doesn't need to a pure factor. It can also be a number that shares some factors with N: \n",
        "\t\n",
        "> N = a * b and g = a * c\n",
        "\n",
        "* like 4=2 * 2 and 6=2 * 3, with 2 being the shared factors.\n",
        "\n",
        "* or in this case, starting with g = 10 \n",
        "\n",
        "  * 10 < 15 (g < N)\n",
        "  \n",
        "  * 10 = 2 * 5 (you got here with Euclid's algorithm)\n",
        "\n",
        "  * 15 = 3 * 5 (to show that there is a shared factor)\n",
        "\n",
        "  * shared prime factor = 5\n",
        "\n",
        "  * Now divide N = 15 by this shared factor 5 which gives you 3. The encryption is broken, you have both prime factors of 15.\n",
        "\n",
        "* this is fine according to [Euclidean's algorithm](https://de.m.wikipedia.org/wiki/Euklidischer_Algorithmus) gcd(N,g)= ? ggT = groesster gemeinsamer teil (engl gcd)\n",
        "\n",
        "* it says to find a factor of N we don't need a factor of N - guessing that share factors with N works too. N = f1 * f2, 5*f2?\n",
        "\n",
        "* if Euclid's algorithm found any shared factor with N, we are done. You can divide N by that factor to get the other factor, and break encryption.\n",
        "\n",
        "* with extremely large numbers it is very unlikely that a single guess share a factor with N. \n",
        "\n"
      ]
    },
    {
      "cell_type": "markdown",
      "metadata": {
        "id": "mAs1iOI_wziO"
      },
      "source": [
        "**Step 2: The algorithm transforms it into a much better guess that probably does share a factor with:**\n",
        "\n",
        "> $g^{p/2}$ $\\pm$ 1\n",
        "\n",
        "Take a pair of whole numbers that don't share a factor and multiply one of them enough times, you will arrive at some whole number multiple of the other number plus 1:\n",
        "\n",
        "> A, B -> A * A * A * A * A * A * .. = m * B + 1\n",
        "\n",
        "Formalizing it:\n",
        "\n",
        "> $A^p$ = m * B + 1"
      ]
    },
    {
      "cell_type": "markdown",
      "metadata": {
        "id": "ROa_Pc6nqsQ6"
      },
      "source": [
        "Example: guess g = 7 and target N = 15: \n",
        "\n",
        "* 7$^2$ $\\neq$ 3*15 + 4\n",
        "\n",
        "* 7$^3$ $\\neq$ 22*15 + 13\n",
        "\n",
        "* 7$^4$ = 160*15 + 1 = 2401 for both\n",
        "\n",
        "So in our case for N and g:\n",
        "\n",
        "> $g^p$ = m * N + 1\n",
        "\n",
        "Re-arrange this: \n",
        "\n",
        "> $g^p$ -1 = m * N\n",
        "\n",
        "And again:\n",
        "\n",
        "> ($g^{p/2}$+1) * ($g^{p/2}$-1) = m * N\n",
        "\n",
        "Is like a-factor * b-factor = m * N\n",
        "\n",
        "These two terms a-factor and b-factor on the left side are the new and improved guesses that Shor's algorithm prescribes. They might be multiples of factors of N and not necessarily the factors themselves. For example:\n",
        "\n",
        "* $7^{4/2}$ + 1 = 50 = a-factor, mit den Teilern: 1, 2, 5, 10, 25, 50. Primzahlen davon sind 2 und 5 (Faktorisierung:  2 * 5 * 5)\n",
        "\n",
        "* $7^{4/2}$ - 1 = 48 = b-factor, mit den Teilern: 1, 2, 3, 4, 6, 8, 12, 16, 24, 48. Primzahlen davon sind 2 und 3 (Faktorisierung: 2 * 2 * 2 * 2 * 3=48)\n",
        "\n",
        "Both 48 & 50 are not 15, but the first one has the factor 5 and the second the factor 3, which both lead to 15, thanks to Euclid's algorithm again here."
      ]
    },
    {
      "cell_type": "markdown",
      "metadata": {
        "id": "JPhfFr5BypVf"
      },
      "source": [
        "**Challenges with this approach**\n",
        "\n",
        "1. One of the new guesses might itself be a multiple of N, like ($g^{p/2}$+1) = a * N. In this case the other would be a factor of m and neither would be useful to us.\n",
        "\n",
        "2. The power of p might an odd number, in which case p/2 isn't a whole number and that lets to fractions: $42^{3/2}$ = 272,191... We are working with integers only.\n",
        "\n",
        "  * For a random guess of g in at least 3/8ths of the time both problems don't happen (37,5%) and p does generate guesses that share factors with N with ($g^{p/2}$). \n",
        "  \n",
        "  * And we are 99% likely yo break the encryption in fewer than 10 guesses.\n",
        "\n",
        "3. But biggest problem: How do we find p?\n",
        "\n",
        "Remember: to turn a bad guess into a good guess g -> ($g^{p/2}$+1)we need to know how many times p we have to multiply the guess g * g * g * g * g *... (p-times) before we get a multiple of N plus 1."
      ]
    },
    {
      "cell_type": "markdown",
      "metadata": {
        "id": "jimYYoWIx952"
      },
      "source": [
        "> $g^p$ = m * N + 1\n",
        "\n",
        "and turned around (which is why the remainder has to be 1 !)\n",
        "\n",
        "> ($g^{p/2}$+1) * ($g^{p/2}$-1) = m * N"
      ]
    },
    {
      "cell_type": "markdown",
      "metadata": {
        "id": "u38im6R66gvk"
      },
      "source": [
        "![ggg](https://raw.githubusercontent.com/deltorobarba/repo/master/shor_02.png)"
      ]
    },
    {
      "cell_type": "markdown",
      "metadata": {
        "id": "5dgP4XI02JMb"
      },
      "source": [
        "\n",
        "**Step 3: Here comes quantum mechanics in:** \n",
        "\n",
        "* normal computers would give one answer after another. A quantum computer can take the superposition and simultaneously \"calculate\" a bunch of possible answers for a single input. And you get only 1 answer out (randomly) with different probabilities for each one. \n",
        "\n",
        "* **Challenge: after you set up the superposition that calculates all answers at once you just need to cleverly arrange it so that all wrong answers destructively interfere with each other** (otherwise you just get a random answer from all possible states)\n",
        "\n",
        "* that way when you measure the output of the calculation, the result of the measurement is most likely (not deterministically!) the right answer. \n",
        "\n",
        "* This is how it works in detail:\n",
        "\n",
        "  * the quantum computer takes a number g as input \n",
        "\n",
        "  * then raises our guess to the power of x, which is $g^x$\n",
        "\n",
        "  * we need to keep track of both the number x and our guess to that power: $g^x$\n",
        "\n",
        "  * the computer then needs to take that result and calculate how much bigger than a multiple of N this is: (x, $g^x$) > m * N\n",
        "\n",
        "* we call that the remainder and we'll write it as plus something for whatever something the remainder is: (x, +r) (but remember: we want the remainder of 1).\n",
        "\n",
        "* in a quantum computer we can give a superposition of numbers and the computation will be done on all of them."
      ]
    },
    {
      "cell_type": "markdown",
      "metadata": {
        "id": "fLbATBTs6l48"
      },
      "source": [
        "![ggg](https://raw.githubusercontent.com/deltorobarba/repo/master/shor_01.png)"
      ]
    },
    {
      "cell_type": "markdown",
      "metadata": {
        "id": "AyN1Kzev83CW"
      },
      "source": [
        "**Step 4: Quantum Fourier transform**\n",
        "\n",
        "* we feed in a superposition of numbers |1> + |2> + |3> + ..into $g^x$ and computation will be done simultaneously on all of them, \n",
        "\n",
        "* first resulting in a superposition of all possible powers our guess could be raised to -> |1, $g^1$> + |2, $g^2$> + |3, $g^3$> + ..\n",
        "\n",
        "* and then a superposition of how much bigger each of those powers are than a multiple of N -> |1, +17> + |2, +5> + |3, +92>\n",
        "\n",
        "* but we can't just measure the superposition. We would get a single random element of the superposition, like for |2, +5>: \"our guess squared is 5 more than a multiple of N\", which is like randomly guessing powers.\n",
        "\n",
        "* We need something clever to get all the non-p answers to destructively interfere and cancel each other out, leaving us with only 1 possible answer: |p, +1>\n",
        "\n",
        "We can do this based on anther mathematical observation: If $g^x$ is r more than a multiple of N, then $g^{x+p}$ will also be r more than a multiple of N (though a different multiple):\n",
        "\n",
        "* like before:\n",
        "\n",
        "  * 7$^4$ = 160*15 + 1 = 2401 with g=7 and p=4  being the multiple of m=160 *  N=15, just with another p and hence another m, but r= +1 staying the same\n",
        "\n",
        "  * Now 7$^{2*4}$ = 5.764.801 is the same = 384.320 * 15 +1 ( with m being new = 384.320)\n",
        "\n",
        "  * as you see: m is different now, **but the remainder +1 stays the same**, when in $g^p$ p is another power of the original p  - twice original p=4\n",
        "\n",
        "  * Achtung: not sure if that calculation above is correct because in the image below there is an addition of $g^{x+p}$ and not $g^{x*p}$"
      ]
    },
    {
      "cell_type": "markdown",
      "metadata": {
        "id": "xe4R-nkf847W"
      },
      "source": [
        "![ggg](https://raw.githubusercontent.com/deltorobarba/repo/master/shor_03.png)"
      ]
    },
    {
      "cell_type": "markdown",
      "metadata": {
        "id": "I6SewXTfAbKX"
      },
      "source": [
        "So the power p that we are looking for, the one that allows us to improve our bad guess p: g -> $g^{p/2}$ $\\pm$ 1. **p has a repeating power**, where if we take another power and add p to it, the amount more than a multiple of N stays the same:\n",
        "\n",
        "$g^{x}$ or $g^{x+p}$ or $g^{x-p}$ or $g^{x+2p}$ have all the same: +r\n",
        "\n",
        "* this repeating property isn't something you could figure out from taking our guess to just oe power - it's a structural relationship between different powers, and we can take advantage of it since quantum computations can be performed on superpositions of different possible powers: \n",
        "\n",
        "$g^{2}$ or $g^{12}$ or $g^{22}$ lead all to +7\n",
        "\n",
        "$g^{3}$ or $g^{13}$ or $g^{23}$ lead all to +4\n",
        "\n",
        "|2> + |3> + |12> + |13> + |22> + |23> \n",
        "\n",
        "Specifically if we take the superposition of all possible powers and just measure the \"amount more than a multiple of N\" part, then we'll randomly get one of the possible \"amounts more than a multiple of N\" as the output, say 3 as +r.\n",
        "\n",
        "We must be left with a superposition of purely the powers that could have resulted in a remainder of 3. This is a special property of quantum computation: if you put in a superposition and get an answer that could have come from more than one element of the superposition, then you'll be left with the superposition of just those elements, like\n",
        "\n",
        "|2, +3> + |12,+3> + |22,+3> + ..\n",
        "\n",
        "And in our case, because of the repeating property, those powers are all numbers that are p apart from each other.\n",
        "\n"
      ]
    },
    {
      "cell_type": "markdown",
      "metadata": {
        "id": "_4RIiHJ0Ac3h"
      },
      "source": [
        "![ggg](https://raw.githubusercontent.com/deltorobarba/repo/master/shor_04.png)"
      ]
    },
    {
      "cell_type": "markdown",
      "metadata": {
        "id": "o0ChfNB3Btef"
      },
      "source": [
        "We are trying to find p, because it will allow us to turn a bad guess into a good guess for a number that shares factors withy N. \n",
        "\n",
        "And we now have a quantum superposition of numbers that repeat periodically with a period of p, or equivalently, they repeat with a frequency of 1/p. If you can find the frequency, we can find p."
      ]
    },
    {
      "cell_type": "markdown",
      "metadata": {
        "id": "CZ9dNPq5Bumd"
      },
      "source": [
        "![ggg](https://raw.githubusercontent.com/deltorobarba/repo/master/shor_05.png)"
      ]
    },
    {
      "cell_type": "markdown",
      "metadata": {
        "id": "wd8JU6xsDbgm"
      },
      "source": [
        "The best tool to find the frequency of things is the Fourier transform. Input an audio signal as a wave of time, and get the different frequencies the wave is made up of. \n",
        "\n",
        "There is a quantum version of the Fourier transform, which we can apply to our superposition that repeats with a frequency of 1/p to cause all the different possible wrong frequencies to destructively interfere, leaving us with a single quantum state: the frequency |1/p>, which we can finally measure to get the actual output of the computation.\n",
        "\n",
        "How does QFT work? Input a single number and it gives you a superposition of all other numbers, that are weighted by different amounts. And those weights look roughly like a sine wave with the frequency of the single number we put in. If we out in a higher number, we get a higher frequency. "
      ]
    },
    {
      "cell_type": "markdown",
      "metadata": {
        "id": "suweiKqKDc1f"
      },
      "source": [
        "![ggg](https://raw.githubusercontent.com/deltorobarba/repo/master/shor_06.png)"
      ]
    },
    {
      "cell_type": "markdown",
      "metadata": {
        "id": "li9dHJHSD8K2"
      },
      "source": [
        "And if you put in a superposition of numbers, you get out a superposition of superpositions and the sine waves add together - or subtract and cancel each other out. \n"
      ]
    },
    {
      "cell_type": "markdown",
      "metadata": {
        "id": "sansTj6eD9UP"
      },
      "source": [
        "![ggg](https://raw.githubusercontent.com/deltorobarba/repo/master/shor_07.png)"
      ]
    },
    {
      "cell_type": "markdown",
      "metadata": {
        "id": "du1FYTtiFKR9"
      },
      "source": [
        "And it happens if you put in a superposition of numbers that are all separated by an amount p, all those sine waves interfere so that what you get out (oversimplified) is the single quantum state representing 1/p (all the rest destructively interfered).\n",
        "\n",
        "This result we invert to find p 1/(1/p) -> p\n",
        "\n",
        "And as long as p is even we can now finally raise our guess to the power of p over 2 and add or subtract one, and as long we don't get an exact multiple of N, we are guaranteed to have a number that shares a factor with N. Then we can use Euclid's algorithm to quickly find those factors. "
      ]
    },
    {
      "cell_type": "markdown",
      "metadata": {
        "id": "6csOoRAaFInk"
      },
      "source": [
        "![ggg](https://raw.githubusercontent.com/deltorobarba/repo/master/shor_08.png)"
      ]
    },
    {
      "cell_type": "markdown",
      "metadata": {
        "id": "9oyU13xTFmPQ"
      },
      "source": [
        "Summary:"
      ]
    },
    {
      "cell_type": "markdown",
      "metadata": {
        "id": "_MxoRiEzFkcg"
      },
      "source": [
        "![ggg](https://raw.githubusercontent.com/deltorobarba/repo/master/shor_09.png)"
      ]
    },
    {
      "cell_type": "markdown",
      "metadata": {
        "id": "d1ZIhOnGHch5"
      },
      "source": [
        "https://medium.com/@brcsomnath/qml-quantum-oracle-c8a48cdaf851"
      ]
    }
  ]
}