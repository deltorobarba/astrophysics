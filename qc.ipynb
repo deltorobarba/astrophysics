{
  "nbformat": 4,
  "nbformat_minor": 0,
  "metadata": {
    "colab": {
      "name": "qc.ipynb",
      "provenance": [],
      "collapsed_sections": [
        "Rnhv5dtTDy6S",
        "C7g-wCSwTx9b",
        "XFxhMEfyzVCn",
        "sn4LwsmviwZx",
        "MZO0odc6qWrf",
        "IIJxNgdxui1J",
        "gj32_y3ZtCh4",
        "NGe-yForKJ5-",
        "fvSvQ1RU-Dml",
        "Blm_5Aj5DCVL",
        "hUILN6FRqZuu",
        "rs29mGrUqi_-",
        "ocVJfp-tqdyb",
        "3aoRKTTAkZx5",
        "awlTmw1aiz4Q",
        "LAYxD9qSEjOt",
        "F_3QftqpEmsd",
        "v9oj31u2uBvJ",
        "B30zKlfExubw",
        "2wBpVSdgtZBO",
        "fFoHTRmWleV3",
        "RxXr-S9jleog",
        "IFgoe9JtFE-l",
        "puBfGiEZ6JVT",
        "Ke3uO0SBC5YS",
        "J2dKV_JuIKot",
        "wftQOr5kIcgW",
        "5rkvkWM7UfBN",
        "29EqcTLgeDew",
        "2awP8L9TDlN_",
        "8wCV_KhfERAR",
        "0qOb4U4NRYED",
        "74LY1bM1Rd72",
        "kEEhB0XCN8PQ",
        "4a1VaFQxGrU3",
        "cAweB1J8MPWM",
        "ptYfok_VMeZx",
        "7Mizl8v4QPlD",
        "O5znXLBd8yzo",
        "7JHrrmK1_iXl",
        "gGhPqYCMILt4",
        "mer-EQtZxh37",
        "Y5YgPcFJIXu_"
      ],
      "include_colab_link": true
    },
    "kernelspec": {
      "name": "python3",
      "display_name": "Python 3"
    }
  },
  "cells": [
    {
      "cell_type": "markdown",
      "metadata": {
        "id": "view-in-github",
        "colab_type": "text"
      },
      "source": [
        "<a href=\"https://colab.research.google.com/github/deltorobarba/machinelearning/blob/master/qc.ipynb\" target=\"_parent\"><img src=\"https://colab.research.google.com/assets/colab-badge.svg\" alt=\"Open In Colab\"/></a>"
      ]
    },
    {
      "cell_type": "markdown",
      "metadata": {
        "id": "uYQVihuXzx6u"
      },
      "source": [
        "# **Quantum Computing - Miscellaneous**"
      ]
    },
    {
      "cell_type": "markdown",
      "metadata": {
        "id": "ZWYcaoehvUk1"
      },
      "source": [
        "![ggg](https://raw.githubusercontent.com/deltorobarba/repo/master/quantum_000.jpg)"
      ]
    },
    {
      "cell_type": "code",
      "metadata": {
        "id": "jObfS0OgRhq6"
      },
      "source": [
        "!pip install cirq --quiet\n",
        "import cirq\n",
        "import sympy\n",
        "from cirq.contrib.svg import SVGCircuit\n",
        "import numpy as np\n",
        "import pandas as pd\n",
        "import seaborn as sns\n",
        "import matplotlib.pyplot as plt # %matplotlib inline\n",
        "print(cirq.__version__)"
      ],
      "execution_count": null,
      "outputs": []
    },
    {
      "cell_type": "markdown",
      "metadata": {
        "id": "Rnhv5dtTDy6S"
      },
      "source": [
        "### **<font color=\"blue\">Algorithms**"
      ]
    },
    {
      "cell_type": "markdown",
      "metadata": {
        "id": "C7g-wCSwTx9b"
      },
      "source": [
        "#### **<font color=\"blue\">Superdense Coding**"
      ]
    },
    {
      "cell_type": "markdown",
      "metadata": {
        "id": "XFxhMEfyzVCn"
      },
      "source": [
        "###### **<font color=\"black\">1 Qubit - Tensor Product of two Parallel Gates (Superposition in Multiple Qubits)**"
      ]
    },
    {
      "cell_type": "code",
      "metadata": {
        "id": "EUeRMCzt8AQm"
      },
      "source": [
        "# Create Vanilla Qubits\n",
        "# Named Qubit\n",
        "a = cirq.NamedQubit(\"a\")\n",
        "b = cirq.NamedQubit(\"b\")\n",
        "\n",
        "#Line-Qubit\n",
        "qubits = cirq.LineQubit.range(2)"
      ],
      "execution_count": null,
      "outputs": []
    },
    {
      "cell_type": "markdown",
      "metadata": {
        "id": "b_44NH72uf_p"
      },
      "source": [
        "The tensor product (or Kronecker product) of two quantum gates is the gate that is equal to the two gates in parallel."
      ]
    },
    {
      "cell_type": "code",
      "metadata": {
        "id": "tK6sea6xzzpq",
        "colab": {
          "base_uri": "https://localhost:8080/"
        },
        "outputId": "b65942b0-e136-4dd3-aac9-18d8fe4822e5"
      },
      "source": [
        "# Define operations\n",
        "ops=[cirq.Y(a), # Superposition\n",
        "     cirq.X(b), # Entanglement\n",
        "     cirq.measure(a,b)] # Measurement\n",
        "\n",
        "# Build circuit\n",
        "circuit=cirq.Circuit(ops)\n",
        "\n",
        "print(circuit)"
      ],
      "execution_count": null,
      "outputs": [
        {
          "output_type": "stream",
          "name": "stdout",
          "text": [
            "a: ───Y───M───\n",
            "          │\n",
            "b: ───X───M───\n"
          ]
        }
      ]
    },
    {
      "cell_type": "markdown",
      "metadata": {
        "id": "Xg7C-Rrfu0ta"
      },
      "source": [
        "*Two gates $Y$ and $X$ in parallel is equivalent to the gate $Y\\otimes X$*\n",
        "\n",
        "![ggg](https://upload.wikimedia.org/wikipedia/commons/d/d5/Parallel_quantum_logic_gates.png)\n",
        "\n",
        "If we, as in the picture, combine the Pauli-Y gate with the Pauli-X gate in parallel, then this can be written as:\n",
        "\n",
        "> $C=Y \\otimes X=\\left[\\begin{array}{cc}0 & -i \\\\ i & 0\\end{array}\\right] \\otimes\\left[\\begin{array}{ll}0 & 1 \\\\ 1 & 0\\end{array}\\right]=\\left[\\begin{array}{ll}0\\left[\\begin{array}{ll}0 & 1 \\\\ 1 & 0\\end{array}\\right] & -i\\left[\\begin{array}{ll}0 & 1 \\\\ 1 & 0\\end{array}\\right] \\\\ i\\left[\\begin{array}{ll}0 & 1 \\\\ 1 & 0\\end{array}\\right] & 0\\left[\\begin{array}{ll}0 & 1 \\\\ 1 & 0\\end{array}\\right]\\end{array}\\right]=\\left[\\begin{array}{cccc}0 & 0 & 0 & -i \\\\ 0 & 0 & -i & 0 \\\\ 0 & i & 0 & 0 \\\\ i & 0 & 0 & 0\\end{array}\\right]$\n",
        "\n",
        "Both the Pauli-X and the Pauli-Y gate act on a single qubit. The resulting gate $C$ act on two qubits."
      ]
    },
    {
      "cell_type": "code",
      "metadata": {
        "id": "jvYfx3Klz9uZ",
        "colab": {
          "base_uri": "https://localhost:8080/"
        },
        "outputId": "fb56fd91-6903-4861-ef37-bb9e122c2f47"
      },
      "source": [
        "# Run Simulations & Measurements\n",
        "simulator = cirq.Simulator()\n",
        "result = simulator.run(circuit,repetitions=10)\n",
        "print('Measurement results')\n",
        "print(result)"
      ],
      "execution_count": null,
      "outputs": [
        {
          "output_type": "stream",
          "name": "stdout",
          "text": [
            "Measurement results\n",
            "a,b=1111111111, 1111111111\n"
          ]
        }
      ]
    },
    {
      "cell_type": "code",
      "metadata": {
        "id": "jd5HWgP-0BOc",
        "colab": {
          "base_uri": "https://localhost:8080/",
          "height": 295
        },
        "outputId": "ff86bfb8-2f2a-4644-d1f3-a2c2536c0c42"
      },
      "source": [
        "# Visualization\n",
        "# After doing that, you should see the quantum state become ∣00⟩+∣11⟩\n",
        "_ = cirq.vis.plot_state_histogram(result) #, plt.subplot())"
      ],
      "execution_count": null,
      "outputs": [
        {
          "output_type": "display_data",
          "data": {
            "image/png": "[encoded data removed]",
            "text/plain": [
              "<Figure size 432x288 with 1 Axes>"
            ]
          },
          "metadata": {
            "needs_background": "light"
          }
        }
      ]
    },
    {
      "cell_type": "code",
      "metadata": {
        "id": "_8IiwYzr0C6M",
        "colab": {
          "base_uri": "https://localhost:8080/"
        },
        "outputId": "2ca647d0-3a0a-40d2-d7a8-623c9bdeacda"
      },
      "source": [
        "result.histogram(key=\"a,b\")"
      ],
      "execution_count": null,
      "outputs": [
        {
          "output_type": "execute_result",
          "data": {
            "text/plain": [
              "Counter({3: 10})"
            ]
          },
          "metadata": {},
          "execution_count": 45
        }
      ]
    },
    {
      "cell_type": "markdown",
      "metadata": {
        "id": "sn4LwsmviwZx"
      },
      "source": [
        "###### **<font color=\"black\">2 Qubits - CNOT Gate (CX) [and Controlled-U Gate]: Create Bell state (Superposition across Multiple Qubits)**"
      ]
    },
    {
      "cell_type": "markdown",
      "metadata": {
        "id": "tMHUCZ7JW3rD"
      },
      "source": [
        "> CNOT, acting on a two-qubit term $\\left|q_{1} q_{2}\\right\\rangle$, applies the $\\mathbf{N O T}(\\mathbf{X})$ gate to the second qubit only if the first qubit is in state $|1\\rangle$. The first qubit controls the action on the second.\n",
        "\n",
        "> 0 im Output wenn zwei Inputs gleich sind. 1 im Output wenn die Inputs unterschiedlich sind."
      ]
    },
    {
      "cell_type": "markdown",
      "metadata": {
        "id": "ZaEJwXg_j-Uz"
      },
      "source": [
        "*Entanglement*"
      ]
    },
    {
      "cell_type": "code",
      "metadata": {
        "id": "7uuAkp8gkA0S",
        "colab": {
          "base_uri": "https://localhost:8080/"
        },
        "outputId": "5caa5014-0742-46c2-aa90-6a31722146d1"
      },
      "source": [
        "cirq.unitary(cirq.CNOT)"
      ],
      "execution_count": null,
      "outputs": [
        {
          "output_type": "execute_result",
          "data": {
            "text/plain": [
              "array([[1.+0.j, 0.+0.j, 0.+0.j, 0.+0.j],\n",
              "       [0.+0.j, 1.+0.j, 0.+0.j, 0.+0.j],\n",
              "       [0.+0.j, 0.+0.j, 0.+0.j, 1.+0.j],\n",
              "       [0.+0.j, 0.+0.j, 1.+0.j, 0.+0.j]])"
            ]
          },
          "metadata": {},
          "execution_count": 46
        }
      ]
    },
    {
      "cell_type": "markdown",
      "metadata": {
        "id": "khD7BYNRWJXK"
      },
      "source": [
        "The [Controlled NOT gate](https://en.m.wikipedia.org/wiki/Controlled_NOT_gate) (also C-NOT or CNOT, controlled Pauli-X) is a quantum logic gate that is an essential component in the construction of a gate-based quantum computer. **It can be used to entangle and disentangle Bell states**. Any quantum circuit can be simulated to an arbitrary degree of accuracy using a combination of CNOT gates and single qubit rotations."
      ]
    },
    {
      "cell_type": "markdown",
      "metadata": {
        "id": "XjXVjG5wWjQn"
      },
      "source": [
        ">$\n",
        "\\begin{array}{|c|c|c|c|}\n",
        "\\hline {\\text { Before }} & {\\text { Before }}& {\\text { After }}& {\\text { After }} \\\\\n",
        "\\hline \\text { Control } & \\text { Target } & \\text { Control } & \\text { Target } \\\\\n",
        "\\hline|0\\rangle & |0\\rangle & |0\\rangle & |0\\rangle \\\\\n",
        "\\hline|0\\rangle & |1\\rangle & |0\\rangle & |1\\rangle \\\\\n",
        "\\hline|1\\rangle & |0\\rangle & |1\\rangle & |1\\rangle \\\\\n",
        "\\hline|1\\rangle & |1\\rangle & |1\\rangle & |0\\rangle \\\\\n",
        "\\hline\n",
        "\\end{array}\n",
        "$"
      ]
    },
    {
      "cell_type": "markdown",
      "metadata": {
        "id": "_e7Iu9kdXSdI"
      },
      "source": [
        "A common application of the $\\mathrm{C}_{\\text {NOT }}$ gate is to maximally entangle two qubits into the $\\left|\\Phi^{+}\\right\\rangle$ Bell state; this forms part of the setup of the superdense coding, quantum teleportation, and entangled quantum cryptography algorithms."
      ]
    },
    {
      "cell_type": "markdown",
      "metadata": {
        "id": "oNsYOdI-A1rh"
      },
      "source": [
        "CNOT or controlled Pauli-X.\n",
        "\n",
        "* **Verschrankt zwei Qubits und invertiert das Ziel-Qubit**, wenn das Kontroll-Qubit 1 ist:\n",
        "\n",
        "> $|00\\rangle \\rightarrow|00\\rangle$\n",
        "\n",
        "> $|01\\rangle \\rightarrow|01\\rangle$\n",
        "\n",
        "> $|10\\rangle \\rightarrow|11\\rangle$\n",
        "\n",
        "> $|11\\rangle \\rightarrow|10\\rangle$\n",
        "\n",
        "Matrix-Darstellung:\n",
        "\n",
        "> $\\left(\\begin{array}{llll}1 & 0 & 0 & 0 \\\\ 0 & 1 & 0 & 0 \\\\ 0 & 0 & 0 & 1 \\\\ 0 & 0 & 1 & 0\\end{array}\\right)$"
      ]
    },
    {
      "cell_type": "markdown",
      "metadata": {
        "id": "cj9br36Vk44_"
      },
      "source": [
        "The CNOT (or controlled Pauli- $X$ ) gate can be described as the gate that maps the basis states $|a, b\\rangle \\mapsto|a, a \\oplus b\\rangle$, where $\\oplus$ is XOR.\n",
        "\n",
        "**Controlled-U Gate**\n",
        "\n",
        "More generally if $U$ is a gate that operates on single qubits with matrix representation\n",
        "\n",
        ">$\n",
        "U=\\left[\\begin{array}{ll}\n",
        "u_{00} & u_{01} \\\\\n",
        "u_{10} & u_{11}\n",
        "\\end{array}\\right]\n",
        "$\n",
        "\n",
        "then the controlled-U gate is a gate that operates on two qubits in such a way that the first qubit serves as a control. \n",
        "\n",
        "It maps the basis states as follows:"
      ]
    },
    {
      "cell_type": "markdown",
      "metadata": {
        "id": "Tak_03Fvkl1v"
      },
      "source": [
        "$|00\\rangle \\mapsto|00\\rangle$\n",
        "\n",
        "$|01\\rangle \\mapsto|01\\rangle$\n",
        "\n",
        "$|10\\rangle \\mapsto|1\\rangle \\otimes U|0\\rangle=|1\\rangle \\otimes\\left(u_{00}|0\\rangle+u_{10}|1\\rangle\\right)$\n",
        "\n",
        "$|11\\rangle \\mapsto|1\\rangle \\otimes U|1\\rangle=|1\\rangle \\otimes\\left(u_{01}|0\\rangle+u_{11}|1\\rangle\\right)$\n",
        "\n",
        "The matrix representing the controlled $U$ is\n",
        "\n",
        ">$\n",
        "\\mathrm{C} U=\\left[\\begin{array}{cccc}\n",
        "1 & 0 & 0 & 0 \\\\\n",
        "0 & 1 & 0 & 0 \\\\\n",
        "0 & 0 & u_{00} & u_{01} \\\\\n",
        "0 & 0 & u_{10} & u_{11}\n",
        "\\end{array}\\right]\n",
        "$"
      ]
    },
    {
      "cell_type": "markdown",
      "metadata": {
        "id": "PFjTkqQokCsL"
      },
      "source": [
        "**When U is one of the Pauli operators, X,Y, Z, the respective terms \"controlled-X\", \"controlled-Y\", or \"controlled-Z\" are sometimes used**. \n",
        "Sometimes this is shortened to just CX, CY and CZ."
      ]
    },
    {
      "cell_type": "markdown",
      "metadata": {
        "id": "QhT8fxnaNT1l"
      },
      "source": [
        "**Code example: Create Bell state**"
      ]
    },
    {
      "cell_type": "code",
      "metadata": {
        "id": "tqtfaFwR8CEu"
      },
      "source": [
        "# Create Vanilla Qubits\n",
        "# Named Qubit\n",
        "a = cirq.NamedQubit(\"a\")\n",
        "b = cirq.NamedQubit(\"b\")\n",
        "\n",
        "#Line-Qubit\n",
        "qubits = cirq.LineQubit.range(2)"
      ],
      "execution_count": null,
      "outputs": []
    },
    {
      "cell_type": "code",
      "metadata": {
        "id": "zBdsoUTDg28-",
        "colab": {
          "base_uri": "https://localhost:8080/"
        },
        "outputId": "ea5bde48-037f-4b01-e04c-2dfb6e8aa2f9"
      },
      "source": [
        "# Define operations\n",
        "ops=[cirq.H(a), # Superposition\n",
        "     cirq.CNOT(a,b), # Entanglement\n",
        "     cirq.H(a),\n",
        "     cirq.measure(a,b)] # Measurement\n",
        "\n",
        "# Build circuit\n",
        "circuit=cirq.Circuit(ops)\n",
        "\n",
        "print(circuit)"
      ],
      "execution_count": null,
      "outputs": [
        {
          "output_type": "stream",
          "name": "stdout",
          "text": [
            "a: ───H───@───H───M───\n",
            "          │       │\n",
            "b: ───────X───────M───\n"
          ]
        }
      ]
    },
    {
      "cell_type": "markdown",
      "metadata": {
        "id": "nxq5eTXkmys2"
      },
      "source": [
        "*More about creating Bell state from superposition & entanglement: [Demystifying Superdense Coding](https://medium.com/qiskit/demystifying-superdense-coding-41d46401910e)*"
      ]
    },
    {
      "cell_type": "code",
      "metadata": {
        "id": "dF6YnhaagPp2",
        "colab": {
          "base_uri": "https://localhost:8080/"
        },
        "outputId": "0a0b5fac-578b-46bc-f020-fd9753a885a5"
      },
      "source": [
        "# Run Simulations & Measurements\n",
        "simulator = cirq.Simulator()\n",
        "result = simulator.run(circuit,repetitions=100)\n",
        "print('Measurement results')\n",
        "print(result)"
      ],
      "execution_count": null,
      "outputs": [
        {
          "output_type": "stream",
          "name": "stdout",
          "text": [
            "Measurement results\n",
            "a,b=1110010101010110111100101011011111100100110101101101110000110001010000101011100100111110000001011001, 1100000001000011000100101011011000110101101001100111111001101000001100010010100010100100001010100000\n"
          ]
        }
      ]
    },
    {
      "cell_type": "code",
      "metadata": {
        "id": "NMhisVFLhpHX",
        "colab": {
          "base_uri": "https://localhost:8080/",
          "height": 295
        },
        "outputId": "17879c7d-4006-4943-b674-5c7805858852"
      },
      "source": [
        "# Visualization\n",
        "# After doing that, you should see the quantum state become ∣00⟩+∣11⟩\n",
        "_ = cirq.vis.plot_state_histogram(result) #, plt.subplot())\n",
        "# https://quantumai.google/cirq/tutorials/state_histograms"
      ],
      "execution_count": null,
      "outputs": [
        {
          "output_type": "display_data",
          "data": {
            "image/png": "[encoded data removed]",
            "text/plain": [
              "<Figure size 432x288 with 1 Axes>"
            ]
          },
          "metadata": {
            "needs_background": "light"
          }
        }
      ]
    },
    {
      "cell_type": "code",
      "metadata": {
        "id": "9ZgU_Al4jz7R",
        "colab": {
          "base_uri": "https://localhost:8080/"
        },
        "outputId": "3b0b9a45-725e-4ac8-cf81-68ffd08d4b31"
      },
      "source": [
        "result.histogram(key=\"a,b\")"
      ],
      "execution_count": null,
      "outputs": [
        {
          "output_type": "execute_result",
          "data": {
            "text/plain": [
              "Counter({0: 32, 1: 15, 2: 28, 3: 25})"
            ]
          },
          "metadata": {},
          "execution_count": 20
        }
      ]
    },
    {
      "cell_type": "markdown",
      "metadata": {
        "id": "8esNV4PbrpS7"
      },
      "source": [
        "**Make Bell state operations reverse**"
      ]
    },
    {
      "cell_type": "code",
      "metadata": {
        "id": "pexUpicI8DgZ"
      },
      "source": [
        "# Create Vanilla Qubits\n",
        "# Named Qubit\n",
        "a = cirq.NamedQubit(\"a\")\n",
        "b = cirq.NamedQubit(\"b\")\n",
        "\n",
        "#Line-Qubit\n",
        "qubits = cirq.LineQubit.range(2)"
      ],
      "execution_count": null,
      "outputs": []
    },
    {
      "cell_type": "markdown",
      "metadata": {
        "id": "ykAgwQkAtveF"
      },
      "source": [
        "*Operators are unitary*"
      ]
    },
    {
      "cell_type": "code",
      "metadata": {
        "id": "KaXrr6z2rbz0",
        "colab": {
          "base_uri": "https://localhost:8080/"
        },
        "outputId": "9599073c-ccd4-4a91-d99e-945ebe9a7722"
      },
      "source": [
        "# Define operations\n",
        "ops=[cirq.H(a), # Superposition\n",
        "     cirq.CNOT(a,b), # Entanglement\n",
        "     cirq.CNOT(a,b),\n",
        "     cirq.H(a),\n",
        "     cirq.measure(a,b)] # Measurement\n",
        "\n",
        "# Build circuit\n",
        "circuit=cirq.Circuit(ops)\n",
        "\n",
        "print(circuit)"
      ],
      "execution_count": null,
      "outputs": [
        {
          "output_type": "stream",
          "name": "stdout",
          "text": [
            "a: ───H───@───@───H───M───\n",
            "          │   │       │\n",
            "b: ───────X───X───────M───\n"
          ]
        }
      ]
    },
    {
      "cell_type": "code",
      "metadata": {
        "id": "eW2mzWkTrvuI",
        "colab": {
          "base_uri": "https://localhost:8080/"
        },
        "outputId": "2fe1bb4c-48f5-45e3-8367-68f05a15f430"
      },
      "source": [
        "# Run Simulations & Measurements\n",
        "# Outcome should be same as step 1: 0, back to as if nothing happened\n",
        "simulator = cirq.Simulator()\n",
        "result = simulator.run(circuit,repetitions=100)\n",
        "print('Measurement results')\n",
        "print(result)"
      ],
      "execution_count": null,
      "outputs": [
        {
          "output_type": "stream",
          "name": "stdout",
          "text": [
            "Measurement results\n",
            "a,b=0000000000000000000000000000000000000000000000000000000000000000000000000000000000000000000000000000, 0000000000000000000000000000000000000000000000000000000000000000000000000000000000000000000000000000\n"
          ]
        }
      ]
    },
    {
      "cell_type": "code",
      "metadata": {
        "id": "1hr1hYZZr4gA",
        "colab": {
          "base_uri": "https://localhost:8080/"
        },
        "outputId": "0f15896c-9ae0-4c7c-b766-e11de5de2f8c"
      },
      "source": [
        "result.histogram(key=\"a,b\")"
      ],
      "execution_count": null,
      "outputs": [
        {
          "output_type": "execute_result",
          "data": {
            "text/plain": [
              "Counter({0: 100})"
            ]
          },
          "metadata": {},
          "execution_count": 13
        }
      ]
    },
    {
      "cell_type": "code",
      "metadata": {
        "id": "ZH1uLG6ar7Ds",
        "colab": {
          "base_uri": "https://localhost:8080/"
        },
        "outputId": "6e26349e-f5b8-4c61-fe6d-14f4eb8fdb3d"
      },
      "source": [
        "# Visualization\n",
        "# After doing that, you should see the quantum state become ∣00⟩+∣11⟩\n",
        "_ = cirq.vis.plot_state_histogram(result) #, plt.subplot())\n",
        "# https://quantumai.google/cirq/tutorials/state_histograms"
      ],
      "execution_count": null,
      "outputs": [
        {
          "output_type": "display_data",
          "data": {
            "image/png": "[encoded data removed]",
            "text/plain": [
              "<Figure size 432x288 with 1 Axes>"
            ]
          },
          "metadata": {
            "needs_background": "light"
          }
        }
      ]
    },
    {
      "cell_type": "markdown",
      "metadata": {
        "id": "xwCqkmcpML45"
      },
      "source": [
        "**Multiple Qubits: Product State vs Entangled State (Bell State)**"
      ]
    },
    {
      "cell_type": "markdown",
      "metadata": {
        "id": "lE-o94B525zt"
      },
      "source": [
        "* As the name implies, entanglement is a property of quantum mechanical systems that only reveals itself when states begin to interact.\n",
        "\n",
        "* When two qubits are brought together and we'd like to consider the new joint system that they form, we use a fancy new symbol: ⊗. This is called the tensor product, but really it just represents a combination of two or more quantum states.\n",
        "\n",
        "**Product States**\n",
        "* States which can be described as a tensor product of two independent superpositions are known as product states. \n",
        "\n",
        "A joint state of two initialized qubits can be represented as\n",
        "\n",
        ">$|0\\rangle\\otimes|0\\rangle$\n",
        "\n",
        "If we apply the Hadamard gate to the first qubit, it transforms but leaves the other qubit unaffected, since the Hadamard is a single qubit gate:\n",
        "\n",
        ">$\n",
        "\\mathbf{H}|0\\rangle \\otimes|0\\rangle=\\left(\\frac{1}{\\sqrt{2}}|0\\rangle+\\frac{1}{\\sqrt{2}}|1\\rangle\\right) \\otimes|0\\rangle\n",
        "$\n",
        "\n",
        "**Exkurs**: wenn ein Gate bei einem Single Qubit mehr Probability als 0,5 hat, kann man das so schreiben (Achtung: Koeffizient ist Wurzel aus Probability),\n",
        "\n",
        "> $\\mathbf{H}|0\\rangle\\ = (0,9) * |0\\rangle + (0,1) * |1\\rangle$\n",
        "\n",
        "* 0,71 ist für 50% Probability (man muss es squared nehmen!)\n",
        "\n",
        "* 0,9 ist für 0,99 Probability\n",
        "\n",
        "* 1 ist für 100% Probability für State 0, der andere Term hat dann 0 % und verschwindet. Es bleibt dann nur noch $|0\\rangle$\n",
        "\n",
        "The tensor product is distributive, which in this case means it acts much like multiplication:\n",
        "\n",
        ">$\n",
        "\\mathbf{H}|0\\rangle \\otimes|0\\rangle=\\frac{1}{\\sqrt{2}}|0\\rangle \\otimes|0\\rangle+\\frac{1}{\\sqrt{2}}|1\\rangle \\otimes|0\\rangle \\text {. }\n",
        "$\n",
        "\n",
        "Using a series of single-qubit gates, we can transform two initialized qubits into two new arbitrary states:\n",
        "\n",
        ">$\n",
        "\\begin{array}{l}\n",
        "\\text { Qubit 1: } \\quad|0\\rangle \\rightarrow a_{1}|0\\rangle+a_{2}|1\\rangle \\\\\n",
        "\\text { Qubit 2: } \\quad|0\\rangle \\rightarrow b_{1}|0\\rangle+b_{2}|1\\rangle .\n",
        "\\end{array}\n",
        "$\n",
        "\n",
        "The resulting 2 -qubit state is usually written as their product using a fancy new symbol:\n",
        "\n",
        ">$|0\\rangle\n",
        "\\otimes|0\\rangle \\rightarrow\\left(a_{1}|0\\rangle+a_{2}|1\\rangle\\right) \\otimes\\left(b_{1}|0\\rangle+b_{2}|1\\rangle\\right)\n",
        "$\n",
        "\n",
        "Another way to express this would be:\n",
        "\n",
        "> $a_{1} b_{1}|0\\rangle \\otimes|0\\rangle+a_{1} b_{2}|0\\rangle \\otimes|1\\rangle+a_{2} b_{1}|1\\rangle \\otimes|0\\rangle+a_{2} b_{2}|1\\rangle \\otimes|1\\rangle$\n",
        "\n",
        "**Bell state (Entangled State)**\n",
        "\n",
        "* To simplify notations, we sometimes omit the $\\otimes$ sign and only **write $|00\\rangle$ to denote that both the first qubit and the second qubit are in the $|0\\rangle$ state**. \n",
        "\n",
        "* There are four total 2 -qubit combinations, including $|01\\rangle=|0\\rangle \\otimes|1\\rangle$, and so on.\n",
        "\n",
        "With this simplified notation, a general 2 -qubit joint state can be written as an arbitrary linear combination of four 2 -qubit computational states:\n",
        "\n",
        ">$\n",
        "a|00\\rangle+b|01\\rangle+c|10\\rangle+d|11\\rangle\n",
        "$\n",
        "\n",
        "This is quite a bit different than the joint state found by preparing both qubits into independent single-qubit superpositions:\n",
        "\n",
        ">$\n",
        "\\left(a_{1}|0\\rangle+a_{2}|1\\rangle\\right) \\otimes\\left(b_{1}|0\\rangle+b_{2}|1\\rangle\\right)=a_{1} b_{1}|00\\rangle+a_{1} b_{2}|01\\rangle+a_{2} b_{1}|10\\rangle+\n",
        "$\n",
        "\n",
        "* simple and well-known joint state called the Bell state:\n",
        "\n",
        "> $\\frac{1}{\\sqrt{2}}|00\\rangle+\\frac{1}{\\sqrt{2}}|11\\rangle$\n",
        "\n",
        "* you can NOT write the Bell state as a product of two single-qubit states\n",
        "\n",
        "Entangled States\n",
        "* The Bell state is the prototypical example of an entangled state. \n",
        "* Two qubits which are entangled can never be separated into two independent states: their coefficients are a tangled-up mess:\n",
        "\n",
        "> $|\\psi\\rangle_{\\text {Bell }}=\\frac{1}{\\sqrt{2}}(|00\\rangle+|11\\rangle)$"
      ]
    },
    {
      "cell_type": "markdown",
      "metadata": {
        "id": "_ml34dkmRTZb"
      },
      "source": [
        "![ggg](https://raw.githubusercontent.com/deltorobarba/repo/master/quantum_036.jpg)"
      ]
    },
    {
      "cell_type": "markdown",
      "metadata": {
        "id": "FwxQFhNvRcfh"
      },
      "source": [
        "* We can contrast this with n-qubit product states, where the state of every qubit is known and they have only 2n independent amplitudes. This is a vast difference! \n",
        "\n",
        "* This means that most of the n-qubit space is populated by entangled states, ones that can't be written as a simple product of its components."
      ]
    },
    {
      "cell_type": "markdown",
      "metadata": {
        "id": "Te53NAyORwK7"
      },
      "source": [
        "* We will see in a bit that with only two parameterized gates, we could transform an initialized qubit into any possible single qubit state on the surface of the Bloch sphere:\n",
        "\n",
        "> $\\mathcal{R}_{\\phi} \\mathcal{R}_{\\theta}|0\\rangle=a_{1}|0\\rangle+a_{2}|1\\rangle$"
      ]
    },
    {
      "cell_type": "markdown",
      "metadata": {
        "id": "uljvt0GuUJ20"
      },
      "source": [
        "**How to get to an Entanglement Circuit?**"
      ]
    },
    {
      "cell_type": "markdown",
      "metadata": {
        "id": "nzip0tFBUn9u"
      },
      "source": [
        "To start, we can prepare two qubits in the $|0\\rangle$ state. At this point there's no connection between them, and we can write them in the product state $|\\psi\\rangle=$\n",
        "$|0\\rangle \\otimes|0\\rangle$ which is the same as $|00\\rangle$.\n",
        "\n",
        "Comparing $|\\psi\\rangle$ to the Bell state, we see that at some point along the way, we'll need to get into a superposition. Using the set of gates we currently have at our disposal $(\\mathbf{X}, \\mathbf{Z}, \\mathbf{H})$, there doesn't appear to be a single gate that we can apply to take us from $|\\psi\\rangle$ to $\\left|\\psi_{\\text {Bell }}\\right\\rangle .$ Naively, it seems that we have two tasks ahead of\n",
        "us:\n",
        "\n",
        "1. Getting $|\\psi\\rangle$ into a superposition.\n",
        "\n",
        "2. Adjusting the individual kets so that we're in the Bell state.\n",
        "\n",
        "At the moment we have the Hadamard, which can move one of our qubits into superposition. For argument's sake, let's apply it to the first qubit:\n",
        "$$\n",
        "\\begin{aligned}\n",
        "\\mathbf{H}_{1}|\\psi\\rangle &=(\\mathbf{H}|0\\rangle) \\otimes|0\\rangle \\\\\n",
        "&=\\frac{|0\\rangle+|1\\rangle}{\\sqrt{2}} \\otimes|0\\rangle \\\\\n",
        "&=\\frac{|00\\rangle+|10\\rangle}{\\sqrt{2}} .\n",
        "\\end{aligned}\n",
        "$$"
      ]
    },
    {
      "cell_type": "markdown",
      "metadata": {
        "id": "4cfRfbdXUylr"
      },
      "source": [
        "Now we need to find gates that allow us to coordinate action on two qubits."
      ]
    },
    {
      "cell_type": "markdown",
      "metadata": {
        "id": "-wLmVt2GVInj"
      },
      "source": [
        "While single qubit gates like $\\mathbf{X}$ and $\\mathbf{H}$ can't get us all the way to the Bell state, we'd still like to keep our gate set as simple as possible. In this spirit, let's stick with the Hadamard gate to perform our superposition, and look for a multiqubit gate $\\mathrm{M}$ that can get us the rest of the way:\n",
        "\n",
        "> $\n",
        "\\frac{|00\\rangle+|10\\rangle}{\\sqrt{2}} \\stackrel{\\mathrm{M}}{\\longrightarrow} \\frac{|00\\rangle+|11\\rangle}{\\sqrt{2}}\n",
        "$\n",
        "\n",
        "**Die erste Spalte mit 0 und 1 (links jeweils) zeigt, dass dieses Qubit in einer Superposition ist mit 50% Probability von 0 und 1, während das zweite Qubit (jeweils rechts) 0 und 0 ist, weil es sich nich im initialen Zustand befindet, der immer 100% 0 ist!**\n",
        "\n",
        "Following behaviors would make for a suitable multi-qubit gate M:\n",
        "\n",
        "* Flip qubit 2 whenever qubit 1 and qubit 2 are opposite\n",
        "\n",
        "* Flip qubit 2 if qubit 1 is in state ∣1⟩\n",
        "\n",
        "* we need to keep the core principle of quantum mechanics — reversibility!"
      ]
    },
    {
      "cell_type": "markdown",
      "metadata": {
        "id": "F-hyI4Y8WH5A"
      },
      "source": [
        "Consider the action of $\\mathbf{M}$ on the two-qubit basis states: if a $|11\\rangle$ term appears in the quantum state after we apply $\\mathrm{M}$, we can't tell if it's because we started with a $|11\\rangle$ term, or if it's because we started with a $|10\\rangle$ term.\n",
        "\n",
        "The preferred entangling gate, called CNOT (controlled NOT), gets us into the Bell state while respecting the reversibility condition:\n",
        "$$\n",
        "\\begin{array}{l}\n",
        "|00\\rangle \\stackrel{\\text { CNOT }}{\\longrightarrow}|00\\rangle \\\\\n",
        "|01\\rangle \\stackrel{\\text { CNOT }}{\\longrightarrow}|01\\rangle \\\\\n",
        "|10\\rangle \\stackrel{\\text { CNOT }}{\\longrightarrow}|11\\rangle \\\\\n",
        "|11\\rangle \\stackrel{\\text { CNOT }}{\\longrightarrow}|10\\rangle .\n",
        "\\end{array}\n",
        "$$"
      ]
    },
    {
      "cell_type": "markdown",
      "metadata": {
        "id": "GsYSv3aWW02A"
      },
      "source": [
        "> CNOT, acting on a two-qubit term $\\left|q_{1} q_{2}\\right\\rangle$, applies the $\\mathbf{N O T}(\\mathbf{X})$ gate to the second qubit only if the first qubit is in state $|1\\rangle$. The first qubit controls the action on the second."
      ]
    },
    {
      "cell_type": "markdown",
      "metadata": {
        "id": "tnpFAHpAX3CO"
      },
      "source": [
        "This enables us to prepare the entangled Bell state and is a subroutine\n",
        "\n",
        "> $\\frac{|10\\rangle+|00\\rangle}{\\sqrt{2}} \\stackrel{\\text { CNOT }}{\\longrightarrow} \\frac{|11\\rangle+|00\\rangle}{\\sqrt{2}}$"
      ]
    },
    {
      "cell_type": "markdown",
      "metadata": {
        "id": "exg3Vtx79vEF"
      },
      "source": [
        "**For Quantum Cryptography**"
      ]
    },
    {
      "cell_type": "markdown",
      "metadata": {
        "id": "9JG9DW7T9yVu"
      },
      "source": [
        "* But Alice and Bob aren't stuck with the computational basis: **the Bell state is entangled no matter what basis we use to analyze it**. This is particularly easy to see by switching to the Hadamard basis. \n",
        "\n",
        "* As we showed before, the Bell state has the same form in the computational basis as it does in the Hadamard basis:"
      ]
    },
    {
      "cell_type": "markdown",
      "metadata": {
        "id": "BJJVI3nJ95Sd"
      },
      "source": [
        "> $\\left|\\psi_{\\text {Bell }}\\right\\rangle=\\frac{|00\\rangle+|11\\rangle}{\\sqrt{2}}=\\frac{|--\\rangle+|++\\rangle}{\\sqrt{2}}$"
      ]
    },
    {
      "cell_type": "markdown",
      "metadata": {
        "id": "Ku7YIhNG99wX"
      },
      "source": [
        "* So, Alice and Bob are free to use either basis to coordinate their bits."
      ]
    },
    {
      "cell_type": "markdown",
      "metadata": {
        "id": "Dy2g1dN5CzEk"
      },
      "source": [
        "*If Alice measures her qubit using the Hadamard basis, what are the possibilities for Bob's measurement in the computational basis?*"
      ]
    },
    {
      "cell_type": "markdown",
      "metadata": {
        "id": "CBI_xr4hDMDh"
      },
      "source": [
        "![gg](https://raw.githubusercontent.com/deltorobarba/repo/master/quantum_037.jpg)"
      ]
    },
    {
      "cell_type": "markdown",
      "metadata": {
        "id": "op9AlkI4DSIz"
      },
      "source": [
        "![ggg](https://raw.githubusercontent.com/deltorobarba/repo/master/quantum_038.jpg)"
      ]
    },
    {
      "cell_type": "markdown",
      "metadata": {
        "id": "dba0LoLwGlRc"
      },
      "source": [
        "**CNOT Gate and Entanglement**"
      ]
    },
    {
      "cell_type": "markdown",
      "metadata": {
        "id": "TPNGjNBmG7Fi"
      },
      "source": [
        "Quantum states $|\\psi\\rangle$ aren't always one of the computational basis states. \n",
        "\n",
        "In general, they can also be (ignoring normalization factors)\n",
        "\n",
        ">$\n",
        "|+\\rangle=|0\\rangle+|1\\rangle\n",
        "$\n",
        "\n",
        "or\n",
        "\n",
        ">$\n",
        "|-\\rangle=|0\\rangle-|1\\rangle \\text {. }\n",
        "$"
      ]
    },
    {
      "cell_type": "markdown",
      "metadata": {
        "id": "TUslZaxCGow1"
      },
      "source": [
        "*What does the CNOT gate do with these input states?*"
      ]
    },
    {
      "cell_type": "markdown",
      "metadata": {
        "id": "mB5YrBr6GeKQ"
      },
      "source": [
        "![ggg](https://raw.githubusercontent.com/deltorobarba/repo/master/quantum_039.jpg)"
      ]
    },
    {
      "cell_type": "markdown",
      "metadata": {
        "id": "MZO0odc6qWrf"
      },
      "source": [
        "###### **<font color=\"black\">2 Qubits - H, CNOT & X-Gate: Superdense Coding for Quantum Communication**"
      ]
    },
    {
      "cell_type": "markdown",
      "metadata": {
        "id": "9t1z-q7TYSAb"
      },
      "source": [
        "Superdense Coding is a method to transmit two classical bits of information by sending only one qubit of information. This is accomplished by pre-sharing an entangled state between the sender and the receiver. This entangled state allows the receiver of the one qubit of information to decode the two classical bits that were originally encoded by the sender."
      ]
    },
    {
      "cell_type": "markdown",
      "metadata": {
        "id": "lk5lRZUzYycF"
      },
      "source": [
        "*Complete example from Cirq*"
      ]
    },
    {
      "cell_type": "code",
      "metadata": {
        "colab": {
          "base_uri": "https://localhost:8080/"
        },
        "id": "QjgzsbSpYlMx",
        "outputId": "f49c5c84-b2aa-4838-90bc-af071db2e204"
      },
      "source": [
        "def make_superdense_circuit():\n",
        "    circuit = cirq.Circuit()\n",
        "    q0, q1, q2, q3, q4 = cirq.LineQubit.range(5)\n",
        "\n",
        "    # Randomly sets q0 and q1 to either 0 or 1\n",
        "    circuit.append([cirq.H(q0), cirq.H(q1)])\n",
        "    circuit.append(cirq.measure(q0, q1, key=\"input \"))\n",
        "\n",
        "    # Creates Bell State to be shared on q2 and q4\n",
        "    circuit.append([cirq.H(q2), cirq.CNOT(q2, q4)])\n",
        "    # Step 1 of encoding (controlled NOT gate on q1 / q2)\n",
        "    circuit.append(cirq.CNOT(q1, q2))\n",
        "    # Step 2 of encoding (controlled Z gate on q0 / q2)\n",
        "    circuit.append(cirq.CZ(q0, q2))\n",
        "    # Sends encoded information to receiver\n",
        "    circuit.append(cirq.SWAP(q2, q3))\n",
        "    # Step 1 of decoding (controlled NOT gate on q3 and q4)\n",
        "    circuit.append(cirq.CNOT(q3, q4))\n",
        "    # Step 2 of decoding (Hadamard gate on q3)\n",
        "    circuit.append(cirq.H(q3))\n",
        "    # Measurement by receiver to decode bits\n",
        "    circuit.append(cirq.measure(q3, q4, key=\"output\"))\n",
        "\n",
        "    return circuit\n",
        "\n",
        "\n",
        "def main():\n",
        "    circuit = make_superdense_circuit()\n",
        "    print(\"Circuit:\")\n",
        "    print(circuit)\n",
        "\n",
        "    sim = cirq.Simulator()\n",
        "    results = sim.run(circuit, repetitions=20)\n",
        "    print(\"\\nResults:\")\n",
        "    print(results)\n",
        "\n",
        "\n",
        "if __name__ == '__main__':\n",
        "    main()"
      ],
      "execution_count": null,
      "outputs": [
        {
          "output_type": "stream",
          "name": "stdout",
          "text": [
            "Circuit:\n",
            "0: ───H───M('input ')───────@─────────────────────────────\n",
            "          │                 │\n",
            "1: ───H───M─────────────@───┼─────────────────────────────\n",
            "                        │   │\n",
            "2: ───H───@─────────────X───@───×─────────────────────────\n",
            "          │                     │\n",
            "3: ───────┼─────────────────────×───@───H───M('output')───\n",
            "          │                         │       │\n",
            "4: ───────X─────────────────────────X───────M─────────────\n",
            "\n",
            "Results:\n",
            "input =10000010110011111010, 11010101010110111000\n",
            "output=10000010110011111010, 11010101010110111000\n"
          ]
        }
      ]
    },
    {
      "cell_type": "markdown",
      "metadata": {
        "id": "nPQWnRvwYoTQ"
      },
      "source": [
        "*Step by Step Walkthrough*"
      ]
    },
    {
      "cell_type": "code",
      "metadata": {
        "id": "20Va63288FK9"
      },
      "source": [
        "# Create Vanilla Qubits\n",
        "# Named Qubit\n",
        "a = cirq.NamedQubit(\"a\")\n",
        "b = cirq.NamedQubit(\"b\")\n",
        "\n",
        "#Line-Qubit\n",
        "qubits = cirq.LineQubit.range(2)"
      ],
      "execution_count": null,
      "outputs": []
    },
    {
      "cell_type": "markdown",
      "metadata": {
        "id": "pbSod7koqiXk"
      },
      "source": [
        "https://medium.com/qiskit/demystifying-superdense-coding-41d46401910e"
      ]
    },
    {
      "cell_type": "markdown",
      "metadata": {
        "id": "sZYteiqUsRV9"
      },
      "source": [
        "*Now adding Pauli X gate to alter outcome*"
      ]
    },
    {
      "cell_type": "code",
      "metadata": {
        "id": "2FZm_6jgsHAg",
        "colab": {
          "base_uri": "https://localhost:8080/"
        },
        "outputId": "60c12ad0-3a6c-4422-dd21-bd0f2dfa9af0"
      },
      "source": [
        "# Define operations\n",
        "ops=[cirq.H(a), # Superposition\n",
        "     cirq.CNOT(a,b), # Entanglement\n",
        "     cirq.X(a), # Pauli X gate -> changes outcome from 00 to 01\n",
        "     cirq.CNOT(a,b),\n",
        "     cirq.H(a),\n",
        "     cirq.measure(a,b)] # Measurement\n",
        "\n",
        "# Build circuit\n",
        "circuit=cirq.Circuit(ops)\n",
        "\n",
        "print(circuit)"
      ],
      "execution_count": null,
      "outputs": [
        {
          "output_type": "stream",
          "name": "stdout",
          "text": [
            "a: ───H───@───X───@───H───M───\n",
            "          │       │       │\n",
            "b: ───────X───────X───────M───\n"
          ]
        }
      ]
    },
    {
      "cell_type": "code",
      "metadata": {
        "id": "S1-1MAVyuUtB",
        "colab": {
          "base_uri": "https://localhost:8080/"
        },
        "outputId": "753b3ce8-1384-4112-f917-efb788b351a6"
      },
      "source": [
        "simulator = cirq.Simulator()\n",
        "result = simulator.run(circuit,repetitions=100)\n",
        "print('Measurement results')\n",
        "print(result)"
      ],
      "execution_count": null,
      "outputs": [
        {
          "output_type": "stream",
          "name": "stdout",
          "text": [
            "Measurement results\n",
            "a,b=0000000000000000000000000000000000000000000000000000000000000000000000000000000000000000000000000000, 0000000000000000000000000000000000000000000000000000000000000000000000000000000000000000000000000000\n"
          ]
        }
      ]
    },
    {
      "cell_type": "code",
      "metadata": {
        "id": "-kXujiebsaoS",
        "colab": {
          "base_uri": "https://localhost:8080/",
          "height": 295
        },
        "outputId": "7a66051a-dea3-4562-ded4-774e803dc063"
      },
      "source": [
        "# Visualization\n",
        "# After doing that, you should see the quantum state become ∣00⟩+∣11⟩\n",
        "_ = cirq.vis.plot_state_histogram(result) #, plt.subplot())\n",
        "# https://quantumai.google/cirq/tutorials/state_histograms"
      ],
      "execution_count": null,
      "outputs": [
        {
          "output_type": "display_data",
          "data": {
            "image/png": "[encoded data removed]",
            "text/plain": [
              "<Figure size 432x288 with 1 Axes>"
            ]
          },
          "metadata": {
            "needs_background": "light"
          }
        }
      ]
    },
    {
      "cell_type": "code",
      "metadata": {
        "id": "BYnYC_jRsdau",
        "colab": {
          "base_uri": "https://localhost:8080/"
        },
        "outputId": "270a7f1f-f23b-4180-c435-96ecd52c6cd9"
      },
      "source": [
        "result.histogram(key=\"a,b\")"
      ],
      "execution_count": null,
      "outputs": [
        {
          "output_type": "execute_result",
          "data": {
            "text/plain": [
              "Counter({1: 100})"
            ]
          },
          "metadata": {},
          "execution_count": 25
        }
      ]
    },
    {
      "cell_type": "markdown",
      "metadata": {
        "id": "IIJxNgdxui1J"
      },
      "source": [
        "#### **<font color=\"blue\">Simple Addition with Qubits**"
      ]
    },
    {
      "cell_type": "markdown",
      "metadata": {
        "id": "OfGBWIy6S_V6"
      },
      "source": [
        "**Task 2: Addition of 1 + 1 = 2 (10 in binary)**"
      ]
    },
    {
      "cell_type": "markdown",
      "metadata": {
        "id": "cF7MxZrjaXod"
      },
      "source": [
        "https://qiskit.org/textbook/ch-states/atoms-computation.html#adder"
      ]
    },
    {
      "cell_type": "markdown",
      "metadata": {
        "id": "iKzohJI59hm1"
      },
      "source": [
        "0+0 = 00 (in decimal, this is 0+0=0)\n",
        "\n",
        "0+1 = 01 (in decimal, this is 0+1=1)\n",
        "\n",
        "1+0 = 01 (in decimal, this is 1+0=1)\n",
        "\n",
        "1+1 = 10 (in decimal, this is 1+1=2)\n",
        "\n",
        "This is called a half adder. If our computer can implement this, and if it can chain many of them together, it can add anything.\n",
        "\n"
      ]
    },
    {
      "cell_type": "code",
      "metadata": {
        "id": "y4ktOROmyohu",
        "colab": {
          "base_uri": "https://localhost:8080/"
        },
        "outputId": "27c70236-f476-46e0-e494-d5ffd5142783"
      },
      "source": [
        "# Create Circuit object\n",
        "circuit = cirq.Circuit()\n",
        "\n",
        "# Define 2 qubits - They start with 0 (if you measure no, you'll see a 0 in both)\n",
        "(q0, q1, q2, q3) = cirq.LineQubit.range(4)\n",
        "\n",
        "# We flip q0 from 0 to 1 with Pauli-X \n",
        "circuit.append([cirq.X(q0)]) \n",
        "\n",
        "# We flip q1 from 0 to 1 with Pauli-X \n",
        "circuit.append([cirq.X(q1)]) \n",
        "\n",
        "# CNOT (Controlled Pauli X) for input q2 and target q0 (0 is same, 1 if different for target)\n",
        "# since q2 is 0 and q0 is 1, result will stay 1\n",
        "circuit.append([cirq.CNOT(q0, q2)])\n",
        "\n",
        "# CNOT (Controlled Pauli X) for input q2 and target q1 (0 is same, 1 if different for target)\n",
        "# since q2 is 0 and q1 is 1, result will stay 1\n",
        "circuit.append([cirq.CNOT(q1, q2)])\n",
        "\n",
        "# Toffoli (CCNOT) gate on q3 (if both inputs are equal, write 1, else 0) (perform a NOT on target qubit when both controls are in state 1)\n",
        "circuit.append([cirq.CCX(q0, q1, q3)])\n",
        "\n",
        "# Measure output quantum bits q2 and q3\n",
        "circuit.append([cirq.measure(q2), cirq.measure(q3)])\n",
        "\n",
        "# See what circuit has been produced (optional)\n",
        "print(circuit)"
      ],
      "execution_count": null,
      "outputs": [
        {
          "output_type": "stream",
          "name": "stdout",
          "text": [
            "                  ┌──┐\n",
            "0: ───X───@────────@─────────\n",
            "          │        │\n",
            "1: ───X───┼───@────@─────────\n",
            "          │   │    │\n",
            "2: ───────X───X────┼M────────\n",
            "                   │\n",
            "3: ────────────────X─────M───\n",
            "                  └──┘\n"
          ]
        }
      ]
    },
    {
      "cell_type": "code",
      "metadata": {
        "id": "0xKYREY8qEe-",
        "colab": {
          "base_uri": "https://localhost:8080/"
        },
        "outputId": "fb31f861-162f-420d-f9e3-737c50ce0153"
      },
      "source": [
        "# Step 6: Perform simulation of the circuit\n",
        "sim = cirq.Simulator()\n",
        "results = sim.run(circuit, repetitions=10)\n",
        "print(results)"
      ],
      "execution_count": null,
      "outputs": [
        {
          "output_type": "stream",
          "name": "stdout",
          "text": [
            "2=0000000000\n",
            "3=1111111111\n"
          ]
        }
      ]
    },
    {
      "cell_type": "markdown",
      "metadata": {
        "id": "kb80-XsV-uXr"
      },
      "source": [
        "> Read from rightmost qubit first (q3) and then next left (q2): result is 10 (binary) = 2 in decimal"
      ]
    },
    {
      "cell_type": "markdown",
      "metadata": {
        "id": "gj32_y3ZtCh4"
      },
      "source": [
        "#### **<font color=\"orange\">Quantum Counting**"
      ]
    },
    {
      "cell_type": "markdown",
      "metadata": {
        "id": "4bMTt-MVijqL"
      },
      "source": [
        "**In quantum counting, we simply use the quantum phase estimation algorithm to find an eigenvalue of a Grover search iteration.**"
      ]
    },
    {
      "cell_type": "markdown",
      "metadata": {
        "id": "huiWdjPGilaz"
      },
      "source": [
        "https://qiskit.org/textbook/ch-algorithms/quantum-counting.html"
      ]
    },
    {
      "cell_type": "markdown",
      "metadata": {
        "id": "PG849qmSVEbu"
      },
      "source": [
        "* [Quantum counting algorithm](https://en.m.wikipedia.org/wiki/Quantum_counting_algorithm) is a quantum algorithm for efficiently counting the number of solutions for a given search problem. The algorithm is based on the quantum phase estimation algorithm and on Grover's search algorithm.\n",
        "\n",
        "* Counting problems are common in diverse fields such as statistical estimation, statistical physics, networking, etc. As for quantum computing, the ability to perform quantum counting efficiently is needed in order to use Grover's search algorithm (because running Grover's search algorithm requires knowing how many solutions exist). Moreover, this algorithm solves the quantum existence problem (namely, deciding whether any solution exists) as a special case.\n",
        "\n",
        "* The algorithm was devised by Gilles Brassard, Peter Høyer and Alain Tapp in 1998."
      ]
    },
    {
      "cell_type": "markdown",
      "metadata": {
        "id": "NGe-yForKJ5-"
      },
      "source": [
        "#### **<font color=\"orange\">Quantum Walk**"
      ]
    },
    {
      "cell_type": "markdown",
      "metadata": {
        "id": "Bj9pu2_DRf8v"
      },
      "source": [
        "* [Quantum walks](https://en.m.wikipedia.org/wiki/Quantum_walk) are quantum analogues of classical random walks. In contrast to the classical random walk, where the walker occupies definite states and the randomness arises due to stochastic transitions between states, in quantum walks randomness arises through: \n",
        "\n",
        "  (1) quantum superposition of states, \n",
        "  \n",
        "  (2) non-random, reversible unitary evolution and \n",
        "  \n",
        "  (3) collapse of the wave function due to state measurements.\n",
        "\n",
        "As with classical random walks, quantum walks admit formulations in both discrete time and continuous time.\n",
        "\n",
        "* Quantum walks are motivated by the widespread use of classical random walks in the design of randomized algorithms, and are part of several quantum algorithms. For some oracular problems, quantum walks provide an exponential speedup over any classical algorithm.\n",
        "\n",
        "* Quantum walks also give polynomial speedups over classical algorithms for many practical problems, such as the element distinctness problem, the triangle finding problem, and evaluating NAND trees. The well-known Grover search algorithm can also be viewed as a quantum walk algorithm\n",
        "\n",
        "* Quantum walks exhibit very different features from classical random walks. In particular, they do not converge to [limiting distributions](https://en.m.wikipedia.org/wiki/Asymptotic_distribution) and due to the power of quantum interference they may spread significantly faster or slower than their classical equivalents."
      ]
    },
    {
      "cell_type": "markdown",
      "metadata": {
        "id": "oOO6EFaBUKap"
      },
      "source": [
        "*Continuous-time quantum walks*"
      ]
    },
    {
      "cell_type": "markdown",
      "metadata": {
        "id": "3sjLkMf-Txyd"
      },
      "source": [
        "* [Continuous-time quantum walks](https://en.m.wikipedia.org/wiki/Continuous-time_quantum_walk) arise when one replaces the continuum spatial domain in the Schrödinger equation with a discrete set.\n",
        "\n",
        "* Under particular conditions, continuous-time quantum walks can provide a model for universal quantum computation."
      ]
    },
    {
      "cell_type": "markdown",
      "metadata": {
        "id": "fvSvQ1RU-Dml"
      },
      "source": [
        "###### **<font color=\"blue\">Exkurs: Qumodes, Qudits and Qutrits</font>**"
      ]
    },
    {
      "cell_type": "markdown",
      "metadata": {
        "id": "XjZNNB0TaQbK"
      },
      "source": [
        "**<font color=\"blue\">Qumodes</font>**"
      ]
    },
    {
      "cell_type": "markdown",
      "metadata": {
        "id": "1DlZq9XiLa7i"
      },
      "source": [
        "(CV systems / continuous spectra in infinite-dimensional Hilbert space)"
      ]
    },
    {
      "cell_type": "markdown",
      "metadata": {
        "id": "gggOH9nRaYSH"
      },
      "source": [
        "https://strawberryfields.ai/photonics/concepts/photonics.html"
      ]
    },
    {
      "cell_type": "markdown",
      "metadata": {
        "id": "TlkbyF8w7kF9"
      },
      "source": [
        "**<font color=\"blue\">Qudits and Qutrits</font>**"
      ]
    },
    {
      "cell_type": "markdown",
      "metadata": {
        "id": "SdOUOtCB7xcA"
      },
      "source": [
        "https://en.m.wikipedia.org/wiki/Qutrit"
      ]
    },
    {
      "cell_type": "markdown",
      "metadata": {
        "id": "6GDZWYx-7pkd"
      },
      "source": [
        "https://en.m.wikipedia.org/wiki/Qubit#Qudits_and_qutrits"
      ]
    },
    {
      "cell_type": "markdown",
      "metadata": {
        "id": "Blm_5Aj5DCVL"
      },
      "source": [
        "#### **<font color=\"orange\">Further QFT-based Subroutines (Deutsch, Bernstein, Simon)**"
      ]
    },
    {
      "cell_type": "markdown",
      "metadata": {
        "id": "hUILN6FRqZuu"
      },
      "source": [
        "###### **<font color=\"blue\">Deutsch–Jozsa</font>**"
      ]
    },
    {
      "cell_type": "markdown",
      "metadata": {
        "id": "Pw6485Ph9chE"
      },
      "source": [
        "https://jonathan-hui.medium.com/qc-quantum-algorithm-with-an-example-cf22c0b1ec31"
      ]
    },
    {
      "cell_type": "markdown",
      "metadata": {
        "id": "iOoBIJc1G6fx"
      },
      "source": [
        "Allgemein Oracel: https://towardsdatascience.com/the-quantum-oracle-demystified-65e8ffebd5d5"
      ]
    },
    {
      "cell_type": "markdown",
      "metadata": {
        "id": "0nwYZgYLxVWY"
      },
      "source": [
        "> Constant or balanced?\n",
        "\n",
        "* nutzt Quantum Fourier Transform"
      ]
    },
    {
      "cell_type": "markdown",
      "metadata": {
        "id": "E-K_XyerNrQz"
      },
      "source": [
        "There are four different possible functions:\n",
        "* Function f_0 always returns 0.\n",
        "* Function f_1 returns 0 if the input is 0 and it returns 1 if the input is 1.\n",
        "* Function f_2 returns 1 if the input is 0 and it returns 0 if the input is 1.\n",
        "* Function f_3 always returns 1.\n",
        "\n",
        "Task: \n",
        "* Send a number of several numbers to determine, if the function is a constant or a balanced?\n",
        "* f_0 und f_3 constant, f_1 und f_2 balanced\n",
        "* classical needs at least 2 numbers (0,1), quantum needs just 1 number to solve this"
      ]
    },
    {
      "cell_type": "markdown",
      "metadata": {
        "id": "lPY2GqiBbr-g"
      },
      "source": [
        "https://towardsdatascience.com/how-to-solve-a-problem-with-quantum-computing-4b04f3f882d9"
      ]
    },
    {
      "cell_type": "markdown",
      "metadata": {
        "id": "RZS4TVTytrgi"
      },
      "source": [
        "https://qiskit.org/textbook/ch-algorithms/deutsch-jozsa.html"
      ]
    },
    {
      "cell_type": "markdown",
      "metadata": {
        "id": "Gc0bGeLfgqjM"
      },
      "source": [
        "https://medium.com/quantum-untangled/quantum-untangled-quantum-computing-deutsch-jozsa-algorithm-guide-untangled-27adf4205913"
      ]
    },
    {
      "cell_type": "markdown",
      "metadata": {
        "id": "UkToXMWXgoNf"
      },
      "source": [
        "https://medium.com/quantum-untangled/the-deutsch-jozsa-algorithm-math-circuits-and-code-quantum-algorithms-untangled-f3b28be4cfd3"
      ]
    },
    {
      "cell_type": "markdown",
      "metadata": {
        "id": "06rwZsB6qbK6"
      },
      "source": [
        "https://en.m.wikipedia.org/wiki/Deutsch–Jozsa_algorithm"
      ]
    },
    {
      "cell_type": "markdown",
      "metadata": {
        "id": "rs29mGrUqi_-"
      },
      "source": [
        "###### **<font color=\"blue\">Bernstein–Vazirani algorithm</font>**"
      ]
    },
    {
      "cell_type": "markdown",
      "metadata": {
        "id": "tTd5Xyqp1ci5"
      },
      "source": [
        "> What is a string?"
      ]
    },
    {
      "cell_type": "markdown",
      "metadata": {
        "id": "3MHKCxMUqkZc"
      },
      "source": [
        "https://en.m.wikipedia.org/wiki/Bernstein–Vazirani_algorithm"
      ]
    },
    {
      "cell_type": "markdown",
      "metadata": {
        "id": "ocVJfp-tqdyb"
      },
      "source": [
        "###### **<font color=\"blue\">Simon's problem</font>**"
      ]
    },
    {
      "cell_type": "markdown",
      "metadata": {
        "id": "u2ndKgQk61Nd"
      },
      "source": [
        "https://jonathan-hui.medium.com/qc-simons-algorithm-be570a40f6de"
      ]
    },
    {
      "cell_type": "markdown",
      "metadata": {
        "id": "36gbhuaO1dhH"
      },
      "source": [
        "> 1-1 or 2-1 ?"
      ]
    },
    {
      "cell_type": "markdown",
      "metadata": {
        "id": "iTpg-Zg7qfPk"
      },
      "source": [
        "https://en.m.wikipedia.org/wiki/Simon%27s_problem"
      ]
    },
    {
      "cell_type": "markdown",
      "metadata": {
        "id": "3aoRKTTAkZx5"
      },
      "source": [
        "###### **<font color=\"blue\">Boson sampling problem ('Aaronson–Arkiphov Scheme')</font>**"
      ]
    },
    {
      "cell_type": "markdown",
      "metadata": {
        "id": "ZiKJxdJZkc4o"
      },
      "source": [
        "https://www.nature.com/articles/d41586-020-03434-7"
      ]
    },
    {
      "cell_type": "markdown",
      "metadata": {
        "id": "CKKGAvUmkeku"
      },
      "source": [
        "The Hefei team, led by Pan and Chao-Yang Lu, chose a different problem for its demonstration, called boson sampling. It was devised in 2011 by two computer scientists, Scott Aaronson and Alex Arkhipov4, then at the Massachusetts Institute of Technology in Cambridge. It entails calculating the probability distribution of many bosons — a category of fundamental particle that includes photons — whose quantum waves interfere with one another in a way that essentially randomizes the position of the particles. The probability of detecting a boson at a given position can be calculated from an equation in many unknowns."
      ]
    },
    {
      "cell_type": "markdown",
      "metadata": {
        "id": "awlTmw1aiz4Q"
      },
      "source": [
        "###### **<font color=\"blue\">Quantum Minimization Algorithm (QMA)**"
      ]
    },
    {
      "cell_type": "markdown",
      "metadata": {
        "id": "oUePuMuEi11V"
      },
      "source": [
        "* Quantum algorithm for solving discrete functions minimization problems was introduced in. It is based on Grover’s search and can be represented in terms of quantum iterations circuits.\n",
        "\n",
        "* Such algorithm allows us to find global optimum as it is always searching through all possible inputs states\n",
        "\n",
        "* Christoph, D. and Hoyer, P. \"A quantum algorithm for finding the minimum\", arXiv:quant-ph/9607014 (1-2, 1996) https://arxiv.org/abs/quant-ph/9607014\n",
        "\n",
        "* https://arxiv.org/pdf/1906.10175.pdf"
      ]
    },
    {
      "cell_type": "markdown",
      "metadata": {
        "id": "LAYxD9qSEjOt"
      },
      "source": [
        "### **<font color=\"orange\">BQP: bounded-error quantum polynomial time**"
      ]
    },
    {
      "cell_type": "markdown",
      "metadata": {
        "id": "Hy0zcQwkmDPS"
      },
      "source": [
        "https://www.quantamagazine.org/new-quantum-algorithms-finally-crack-nonlinear-equations-20210105/"
      ]
    },
    {
      "cell_type": "markdown",
      "metadata": {
        "id": "F_3QftqpEmsd"
      },
      "source": [
        "#### **<font color=\"black\">Quantum Simulation**"
      ]
    },
    {
      "cell_type": "markdown",
      "metadata": {
        "id": "9C5IqMewmqvJ"
      },
      "source": [
        "... (Monte Carlo, Quantum Chemistry, Materials Science and more)\n"
      ]
    },
    {
      "cell_type": "markdown",
      "metadata": {
        "id": "v9oj31u2uBvJ"
      },
      "source": [
        "###### **<font color=\"blue\">Quantum Simulators**"
      ]
    },
    {
      "cell_type": "markdown",
      "metadata": {
        "id": "fD1TTtBFuX6o"
      },
      "source": [
        "https://en.wikipedia.org/wiki/Quantum_chemistry"
      ]
    },
    {
      "cell_type": "markdown",
      "metadata": {
        "id": "DvCrZR0vlcG2"
      },
      "source": [
        "https://en.m.wikipedia.org/wiki/Quantum_simulator"
      ]
    },
    {
      "cell_type": "markdown",
      "metadata": {
        "id": "1KymXaJ7mnTc"
      },
      "source": [
        "https://de.wikipedia.org/wiki/Quantensimulation"
      ]
    },
    {
      "cell_type": "markdown",
      "metadata": {
        "id": "fZ1N5r4amWH7"
      },
      "source": [
        "quantum chemistry: https://www.youtube.com/watch?v=2XEjrwWhr88"
      ]
    },
    {
      "cell_type": "markdown",
      "metadata": {
        "id": "gpYdUEg-mYCo"
      },
      "source": [
        "How is Quantum Phase Estimation applied to Quantum Chemistry calculations: in Quantum Chemistry you are interested in dynamics = time evolution. QPE is helping us to ...so Hamiltonian dynamics is unitary, and so you can use that unitary that comes from your Hamiltonian to do simulations in chemistry."
      ]
    },
    {
      "cell_type": "markdown",
      "metadata": {
        "id": "i2-RMwUuqzGx"
      },
      "source": [
        "* Many important problems in physics, especially [low-temperature physics](https://en.m.wikipedia.org/wiki/Thermodynamics) and [many-body physics](https://en.m.wikipedia.org/wiki/Many-body_theory), remain poorly understood because the underlying quantum mechanics is vastly complex. See also [Condensed_matter_physics](https://en.m.wikipedia.org/wiki/Condensed_matter_physics) (incl. crystallography etc)\n",
        "\n",
        "* Conventional computers, including supercomputers, are inadequate for simulating quantum systems with as few as 30 particles. Better computational tools are needed to understand and **rationally design materials whose properties are believed to depend on the collective quantum behavior of hundreds of particles**.\n",
        "\n",
        "* Quantum simulators provide an alternative route to understanding the properties of these systems. These simulators create clean realizations of specific systems of interest, which allows precise realizations of their properties. Precise control over and broad tunability of parameters of the system allows the influence of various parameters to be cleanly disentangled.\n",
        "\n",
        "* Quantum simulators can solve problems which are difficult to simulate on classical computers **because they directly exploit quantum properties of real particles**. In particular, they exploit a property of quantum mechanics called superposition, wherein a quantum particle is made to be in two distinct states at the same time, for example, aligned and anti-aligned with an external magnetic field. Crucially, simulators also take advantage of a second quantum property called entanglement, allowing the behavior of even physically well separated particles to be correlated.\n",
        "\n"
      ]
    },
    {
      "cell_type": "markdown",
      "metadata": {
        "id": "B30zKlfExubw"
      },
      "source": [
        "###### **<font color=\"blue\">Stochastic Processes and Monte Carlo Simulations**"
      ]
    },
    {
      "cell_type": "markdown",
      "metadata": {
        "id": "T_S7MPwEAd-y"
      },
      "source": [
        "https://en.m.wikipedia.org/wiki/Quantum_Monte_Carlo"
      ]
    },
    {
      "cell_type": "markdown",
      "metadata": {
        "id": "dzPdRNc2uek7"
      },
      "source": [
        "https://en.wikipedia.org/wiki/Quantum_Markov_chain"
      ]
    },
    {
      "cell_type": "markdown",
      "metadata": {
        "id": "Ckq3JlcWxi1Z"
      },
      "source": [
        "https://www.nature.com/articles/s41534-021-00459-2"
      ]
    },
    {
      "cell_type": "markdown",
      "metadata": {
        "id": "kxFndYqHowue"
      },
      "source": [
        "Quantum Gaussian Process Algorithm (QGPA): https://arxiv.org/pdf/1803.10520.pdf"
      ]
    },
    {
      "cell_type": "markdown",
      "metadata": {
        "id": "2wBpVSdgtZBO"
      },
      "source": [
        "###### **<font color=\"blue\">Hybrid: Variational quantum eigensolver (i.e. Protein Folding)**"
      ]
    },
    {
      "cell_type": "markdown",
      "metadata": {
        "id": "YJV2mvPKpfdI"
      },
      "source": [
        "The VQE algorithm applies classical optimization to minimize the energy expectation of an ansatz state to find the ground state energy of a molecule. This can also be extended to find excited energies of molecules."
      ]
    },
    {
      "cell_type": "markdown",
      "metadata": {
        "id": "xC5SoRI7o9t6"
      },
      "source": [
        "*Optimization: simulations for material science and quantum chemistry, factoring numbers*"
      ]
    },
    {
      "cell_type": "markdown",
      "metadata": {
        "id": "gtH3w-sfyguE"
      },
      "source": [
        "* Known as variational quantum algorithms, they use the quantum boxes to manipulate quantum systems while shifting much of the work load to classical computers to let them do what they currently do best: solve optimization problems.\n",
        "\n",
        "* \"With variational quantum algorithms, we get the best of both worlds. We can harness the power of quantum computers for tasks that classical computers can't do easily, then use classical computers to compliment the computational power of quantum devices.\"\n",
        "\n",
        "* The algorithms are called variational because the optimization process varies the algorithm on the fly, as a kind of machine learning. It changes parameters and logic gates to minimize a cost function, which is a mathematical expression that measures how well the algorithm has performed the task. The problem is solved when the cost function reaches its lowest possible value. \n",
        "\n",
        "* In an iterative function in the variational quantum algorithm, the quantum computer estimates the cost function, then passes that result back to the classical computer. The classical computer then adjusts the input parameters and sends them to the quantum computer, which runs the optimization again. \n",
        "\n"
      ]
    },
    {
      "cell_type": "markdown",
      "metadata": {
        "id": "TqCzs1R-yjOc"
      },
      "source": [
        "https://phys-org.cdn.ampproject.org/c/s/phys.org/news/2021-08-algorithms-small-noisy-quantum-viable.amp"
      ]
    },
    {
      "cell_type": "markdown",
      "metadata": {
        "id": "0_w5kg67zuXu"
      },
      "source": [
        "https://www.nature.com/articles/s42254-021-00348-9"
      ]
    },
    {
      "cell_type": "markdown",
      "metadata": {
        "id": "3iToZ6UmowRZ"
      },
      "source": [
        "*Resource-efficient quantum algorithm for protein folding*"
      ]
    },
    {
      "cell_type": "markdown",
      "metadata": {
        "id": "aIvCGgqvoooS"
      },
      "source": [
        "* Rather than spend computational resources checking each possible fold of a protein, the quantum approach encodes the superposition of all physically meaningful ways of folding the protein into a model Hamiltonian. Then it samples these combinations statistically to find the series of folds that are the most stable.\n",
        "\n",
        "* “Everything in our body wants to be in the minimum free-energy configuration,” said Barkoutsos. “It is the most stable. And we generally say in nature — in our bodies — the most stable is the winning configuration.”\n",
        "With this approach, the researchers simulated the folding of a 10-amino acid chain called Angiotensin with a 22 qubit quantum simulator, and a seven-amino acid neuropeptide on a 20-qubit quantum computer.\n",
        "Multipurpose, open-source code\n",
        "\n",
        "* This work relied on a modified Variational Quantum Eigensolver (VQE) algorithm, a major optimization tool in the quantum arsenal, drawn from the Qiskit Application Module.\n",
        "\n",
        "* To suit their needs, the team modified the VQE to sample only the parts of the data relevant to the problem, producing a tool they called a Conditional Value-at-Risk (CVaR) VQE. In line with IBM Quantum’s open-source ethos, this tool is now available to the Qiskit community as of the latest Qiskit Nature release."
      ]
    },
    {
      "cell_type": "markdown",
      "metadata": {
        "id": "xnHRiqZvotoe"
      },
      "source": [
        "https://medium.com/qiskit/a-novel-quantum-algorithm-for-protein-folding-paving-the-way-toward-resolving-one-of-the-biggest-861112139ff0"
      ]
    },
    {
      "cell_type": "markdown",
      "metadata": {
        "id": "_P7cvzfNoyyZ"
      },
      "source": [
        "https://www.nature.com/articles/s41534-021-00368-4"
      ]
    },
    {
      "cell_type": "markdown",
      "metadata": {
        "id": "fFoHTRmWleV3"
      },
      "source": [
        "#### **<font color=\"black\">Quantum Linear Algebra & Optimization (Solving a Linear Systems of Equations)**"
      ]
    },
    {
      "cell_type": "markdown",
      "metadata": {
        "id": "PHCN4ZRymtuo"
      },
      "source": [
        "... Quantum Optimization & Quantum Linear Algebra "
      ]
    },
    {
      "cell_type": "markdown",
      "metadata": {
        "id": "xotCiwWomKPp"
      },
      "source": [
        "In 2009 Aram Harrow, Avinatan Hassidim, and Seth Lloyd, formulated a quantum algorithm for solving linear systems. The algorithm estimates the result of a scalar measurement on the solution vector to a given linear system of equations. \n",
        "\n",
        "Provided the linear system is a sparse and has a low condition number $\\kappa$, and that the user is interested in the result of a scalar measurement on the solution vector, instead of the values of the solution vector itself, then the algorithm has a runtime of $O\\left(\\log (N) \\kappa^{2}\\right)$, where $N$ is the number of variables in the linear system. This offers an exponential speedup over the fastest classical algorithm, which runs in $O(N \\kappa)$ (or $O(N \\sqrt{\\kappa})$ for positive semidefinite matrices)."
      ]
    },
    {
      "cell_type": "markdown",
      "metadata": {
        "id": "40JX1ELtmQnA"
      },
      "source": [
        "https://en.wikipedia.org/wiki/Quantum_algorithm_for_linear_systems_of_equations"
      ]
    },
    {
      "cell_type": "markdown",
      "metadata": {
        "id": "Q6aEjuORm0X3"
      },
      "source": [
        "https://en.wikipedia.org/wiki/Quantum_optimization_algorithms"
      ]
    },
    {
      "cell_type": "markdown",
      "metadata": {
        "id": "8GVknVcr-7Tq"
      },
      "source": [
        "###### **<font color=\"blue\">Quantum Power Iteration & Inverse Iteration**"
      ]
    },
    {
      "cell_type": "markdown",
      "metadata": {
        "id": "y0nsvQAk2pbi"
      },
      "source": [
        "* used for Eigenvalue calculation in large matrices\n",
        "\n",
        "* [Power iteration (Eigenvalues)](https://en.m.wikipedia.org/wiki/Power_iteration) und [Inverse Iteration (Eigenvector)](https://en.m.wikipedia.org/wiki/Inverse_iteration)\n",
        "\n",
        "* [Quantum Power Method by a Superposition of Time-Evolved States](https://arxiv.org/abs/2008.03661)"
      ]
    },
    {
      "cell_type": "markdown",
      "metadata": {
        "id": "WGENRWa3OhKf"
      },
      "source": [
        "###### **<font color=\"blue\">Quantum Multiplication</font>**"
      ]
    },
    {
      "cell_type": "markdown",
      "metadata": {
        "id": "d5XOnFsMqZ3w"
      },
      "source": [
        "* **Boost Multiplication of Karatsuba with Quantum Computers**: In his new paper, Gidney describes a quantum way of implementing Karatsuba multiplication that doesn’t impose huge memory costs. Instead of generating intermediate values to produce a final value, he uses a method called “tail call optimization” to directly mutate inputs to outputs. \n",
        "\n",
        "* This allows the algorithm to avoid creating intermediate information that a quantum computer can never discard. “He gets rid of the issue of having to deal with extra qubits by not having extra qubits,” said Thomas Wong, a quantum information scientist at Creighton University.Gidney expects that his method will work for adapting many classical recursive algorithms to quantum computers. \n",
        "\n",
        "[A New Approach to Multiplication Opens the Door to Better Quantum Computers](https://www.quantamagazine.org/a-new-approach-to-multiplication-opens-the-door-to-better-quantum-computers-20190424/)"
      ]
    },
    {
      "cell_type": "markdown",
      "metadata": {
        "id": "DuqBj0b2Igpf"
      },
      "source": [
        "###### **<font color=\"blue\">Harrow-Hassidim-Lloyd Algorithm (HHL)</font>**"
      ]
    },
    {
      "cell_type": "markdown",
      "metadata": {
        "id": "Ymoe7LgXrWL_"
      },
      "source": [
        "The [quantum algorithm for linear systems of equations](https://en.m.wikipedia.org/wiki/Quantum_algorithm_for_linear_systems_of_equations), also called HHL algorithm, designed by Aram Harrow, Avinatan Hassidim, and Seth Lloyd, is a quantum algorithm formulated in 2009 for solving linear systems. The algorithm estimates the result of a scalar measurement on the solution vector to a given linear system of equations.\n",
        "\n",
        "* The algorithm is one of the main fundamental algorithms expected to provide a speedup over their classical counterparts, along with Shor's factoring algorithm, Grover's search algorithm, the quantum fourier transform and quantum simulation. \n",
        "\n",
        "* Provided the linear system is sparse and has a low condition number $\\kappa_{1}$ and that the user is interested in the result of a scalar measurement on the solution vector, instead of the values of the solution vector itself, then the algorithm has a runtime of $O\\left(\\log (N) \\kappa^{2}\\right)$, where $N$ is the number of variables in the linear system. This offers an exponential speedup over the fastest classical algorithm, which runs in $O(N \\kappa)$ (or $O(N \\sqrt{\\kappa})$ for positive semidefinite matrices)."
      ]
    },
    {
      "cell_type": "markdown",
      "metadata": {
        "id": "zFxhAdMPyZSq"
      },
      "source": [
        "https://www.quantamagazine.org/a-new-approach-to-multiplication-opens-the-door-to-better-quantum-computers-20190424/"
      ]
    },
    {
      "cell_type": "markdown",
      "metadata": {
        "id": "8rZnrWRuye6T"
      },
      "source": [
        "https://www.quantamagazine.org/teenager-finds-classical-alternative-to-quantum-recommendation-algorithm-20180731/"
      ]
    },
    {
      "cell_type": "markdown",
      "metadata": {
        "id": "CDrgK9b_Pn1J"
      },
      "source": [
        "https://medium.com/mit-6-s089-intro-to-quantum-computing/hhl-solving-linear-systems-of-equations-with-quantum-computing-efb07eb32f74"
      ]
    },
    {
      "cell_type": "markdown",
      "metadata": {
        "id": "BIlaaHIR08KF"
      },
      "source": [
        "* Systems of linear equations arise naturally in many real-life applications in a wide range of areas, such as in the solution of Partial Differential Equations, the calibration of financial models, fluid simulation or numerical field calculation. \n",
        "\n",
        "* Makes use of Quantum Phase Estimation\n",
        "\n",
        "* Quantum Matrix Inversion\n",
        "\n",
        "* Given a matrix $A \\in \\mathbb{C}^{N \\times N}$ and a vector $\\vec{b} \\in \\mathbb{C}^{N}$, find $\\vec{x} \\in \\mathbb{C}^{N}$ satisfying $A \\vec{x}=\\vec{b}$\n",
        "\n",
        "* one crucial remark to keep in mind is that the classical algorithm returns the full solution, while the HHL can only approximate functions of the solution vector.\n",
        "\n",
        "* **Used in many quantum machine learning algorithms as a building block**\n"
      ]
    },
    {
      "cell_type": "markdown",
      "metadata": {
        "id": "mPYCW7St_9m7"
      },
      "source": [
        "https://m.youtube.com/watch?v=Xvp56xeNZo4"
      ]
    },
    {
      "cell_type": "markdown",
      "metadata": {
        "id": "l_8ji5r53P-T"
      },
      "source": [
        "https://m.youtube.com/watch?v=hQpdPM-6wtU"
      ]
    },
    {
      "cell_type": "markdown",
      "metadata": {
        "id": "RZVFhm-v0-BI"
      },
      "source": [
        "https://qiskit.org/textbook/ch-applications/hhl_tutorial.html"
      ]
    },
    {
      "cell_type": "markdown",
      "metadata": {
        "id": "gRu5vAkIIp5w"
      },
      "source": [
        "https://en.m.wikipedia.org/wiki/Quantum_algorithm_for_linear_systems_of_equations"
      ]
    },
    {
      "cell_type": "markdown",
      "metadata": {
        "id": "YObfeUgOQfyO"
      },
      "source": [
        "**Applications of HHL**\n",
        "\n",
        "* The quantum algorithm for linear systems of equations has been applied to a support vector machine, which is an optimized linear or non-linear binary classifier (https://arxiv.org/abs/1307.0471v2)\n",
        "\n",
        "* for Least-squares fitting (https://arxiv.org/abs/1204.5242)\n",
        "\n",
        "* for finite-element-methods (https://arxiv.org/abs/1512.05903) (but only for higher problems which include solutions with higher-order derivatives and large spatial dimensions. For example, problems in many-body dynamics require the solution of equations containing derivatives on orders scaling with the number of bodies, and some problems in computational finance, such as Black-Scholes models, require large spatial dimensions)"
      ]
    },
    {
      "cell_type": "markdown",
      "metadata": {
        "id": "z8zUGVpJ3__u"
      },
      "source": [
        "**Familiar methods of solutions**\n",
        "\n",
        "* Substitution method\n",
        "* Graphical method\n",
        "* Matrix method\n",
        "* Cramer's rule\n",
        "* Gaussian elimination"
      ]
    },
    {
      "cell_type": "markdown",
      "metadata": {
        "id": "RPc-sWLFPAl8"
      },
      "source": [
        "**Main Subroutines in HHL:**\n",
        "\n",
        "* Hamiltonian simulation\n",
        "* Phase estimation (newer: linear combination of unitaries\n",
        "* (Variable-time) amplitude amplification"
      ]
    },
    {
      "cell_type": "markdown",
      "metadata": {
        "id": "_IuSjd7YPB-Q"
      },
      "source": [
        "> The spectrum of $A$ is given by: $A\\left|v_{j}\\right\\rangle=\\lambda_{j}\\left|v_{j}\\right\\rangle, 1 \\geq\\left|\\lambda_{j}\\right| \\geq 1 / \\kappa$"
      ]
    },
    {
      "cell_type": "markdown",
      "metadata": {
        "id": "Ij_dB1BOtFEY"
      },
      "source": [
        "**HHL-Approach**\n",
        "\n",
        "1. Prepare the initial state $|b\\rangle$. Note that $|b\\rangle=\\sum_{j} c_{j}\\left|v_{j}\\right\\rangle$.\n",
        "\n",
        "2. Use the so-called phase estimation algorithm to perform the map\n",
        "$|b\\rangle \\rightarrow \\sum_{j} c_{j}\\left|v_{j}\\right\\rangle\\left|\\tilde{\\lambda}_{j}\\right\\rangle$\n",
        "\n",
        "* $|\\tilde{\\lambda}_{j}\\rangle$ -> This register contains the eigenvalue estimates.\n",
        "\n",
        "3. Apply a one-qubit conditional rotation to perform the map\n",
        "$|0\\rangle \\rightarrow \\frac{1}{\\kappa \\tilde{\\lambda}_{j}}|0\\rangle+\\sqrt{1-\\frac{1}{\\kappa^{2} \\tilde{\\lambda}_{j}^{2}}}|1\\rangle$\n",
        "\n",
        "4. Undo step 2 - apply the inverse of phase estimation\n",
        "$\\sum_{j} \\frac{c_{j}}{\\kappa \\tilde{\\lambda}_{j}}\\left|v_{j}\\right\\rangle|0\\rangle+|\\mathrm{bad}\\rangle|1\\rangle \\approx \\frac{1}{\\kappa A}|b\\rangle|0\\rangle+|\\mathrm{bad}\\rangle|1\\rangle$\n",
        "\n",
        "5. Use amplitude amplification to get rid of the „bad“ part of the state with |1>\n"
      ]
    },
    {
      "cell_type": "markdown",
      "metadata": {
        "id": "bGOsazfwPF2M"
      },
      "source": [
        "**Promise**: \n",
        "\n",
        "* Solving 10,000 linear equation: a classical computer needs in best case 10,000 steps. HHL just 13.\n",
        "\n",
        "* Unlike the classical solutions to the Deutsch-Jozsa and search problems, most of our classical methods for matrix manipulation do work in polynomial time. However, as data analysis becomes more and more powerful (and more and more demanding on today’s computers), the size of these matrices can make even polynomial time too long."
      ]
    },
    {
      "cell_type": "markdown",
      "metadata": {
        "id": "29ABxC9IxWVq"
      },
      "source": [
        "\n",
        "\n",
        "**Disadvantages:**\n",
        "\n",
        "* solution vector is not yielded (rather it prepares a quantum state that is proportional to the solution): Actually reading out the solution vector would take O(N)time, so we can only maintain the logarithmic runtime by sampling the solution vector like ⟨x|M|x⟩, where M is a quantum-mechanical operator. Therefore, **HHL is useful mainly in applications where only samples from the solution vector are needed**. \n",
        "\n",
        "* Entries of matrix have to be sparse: Additionally, although HHL is exponentially faster than Conjugate Gradient in N, it is polynomially slower in s and 𝜅, so HHL is restricted to only those matrices that are sparse and have low condition numbers.\n",
        "\n",
        "* Must satisfy robust invertibility (means that entries of matrix must all approx. of same size)\n",
        "\n",
        "* Preparation of input vector is complicated\n"
      ]
    },
    {
      "cell_type": "markdown",
      "metadata": {
        "id": "kMPSYVgbKTZo"
      },
      "source": [
        "###### **<font color=\"blue\">Quantum Principal Component Analysis</blue>**"
      ]
    },
    {
      "cell_type": "markdown",
      "metadata": {
        "id": "ggSxgQVyKgpA"
      },
      "source": [
        "S. Lloyd, M. Mohseni, and P. Rebentrost, Nature Physics 10,\n",
        "631 (2014)"
      ]
    },
    {
      "cell_type": "markdown",
      "metadata": {
        "id": "-6DMII6OoTeJ"
      },
      "source": [
        "https://arxiv.org/abs/1307.0401"
      ]
    },
    {
      "cell_type": "markdown",
      "metadata": {
        "id": "m-TlrXXiLQ14"
      },
      "source": [
        "###### **<font color=\"blue\">Quantum Linear Regression</blue>**"
      ]
    },
    {
      "cell_type": "markdown",
      "metadata": {
        "id": "rT2ukxs3H77t"
      },
      "source": [
        "https://www.quantamagazine.org/new-algorithm-breaks-speed-limit-for-solving-linear-equations-20210308/"
      ]
    },
    {
      "cell_type": "markdown",
      "metadata": {
        "id": "d3Nti0fnyhrH"
      },
      "source": [
        "https://www.quantamagazine.org/teenager-finds-classical-alternative-to-quantum-recommendation-algorithm-20180731/"
      ]
    },
    {
      "cell_type": "markdown",
      "metadata": {
        "id": "9dkYcP8MJFnf"
      },
      "source": [
        "https://www.quantamagazine.org/mathematicians-inch-closer-to-matrix-multiplication-goal-20210323/"
      ]
    },
    {
      "cell_type": "markdown",
      "metadata": {
        "id": "FN4qECZUyjdU"
      },
      "source": [
        "https://www.quantamagazine.org/a-new-approach-to-multiplication-opens-the-door-to-better-quantum-computers-20190424/"
      ]
    },
    {
      "cell_type": "markdown",
      "metadata": {
        "id": "uZs7hCeDLUMX"
      },
      "source": [
        "M. Schuld, I. Sinayskiy, and F. Petruccione, arXiv preprint\n",
        "arXiv:1601.07823 (2016). https://arxiv.org/abs/1601.07823"
      ]
    },
    {
      "cell_type": "markdown",
      "metadata": {
        "id": "RxXr-S9jleog"
      },
      "source": [
        "#### **<font color=\"black\">Computing Knot Invariants**"
      ]
    },
    {
      "cell_type": "markdown",
      "metadata": {
        "id": "UNYzMD6Ql21u"
      },
      "source": [
        "https://en.m.wikipedia.org/wiki/Jones_polynomial"
      ]
    },
    {
      "cell_type": "markdown",
      "metadata": {
        "id": "ZejrBEwGllLl"
      },
      "source": [
        "Witten had shown that the Chern-Simons topological quantum field theory (TQFT) can be solved in terms of Jones polynomials. A quantum computer can simulate a TQFT, and thereby approximate the Jones polynomial, which as far as we know, is hard to compute classically in the worst-case scenario."
      ]
    },
    {
      "cell_type": "markdown",
      "metadata": {
        "id": "IFgoe9JtFE-l"
      },
      "source": [
        "## **Appendix**"
      ]
    },
    {
      "cell_type": "markdown",
      "metadata": {
        "id": "puBfGiEZ6JVT"
      },
      "source": [
        "### **<font color=\"orange\">Error Correction**"
      ]
    },
    {
      "cell_type": "markdown",
      "metadata": {
        "id": "QjQ_mzuX6OK4"
      },
      "source": [
        "\n",
        "https://arxiv.org/pdf/1302.3428.pdf\n",
        "\n",
        "https://arxiv.org/pdf/2011.01938.pdf"
      ]
    },
    {
      "cell_type": "markdown",
      "metadata": {
        "id": "GshuGycRF9lE"
      },
      "source": [
        "* logical qubits vs physical qubits\n",
        "\n",
        "* around 1.000 physical qubits to make 1 perfect logical qubit, less precise: 17 physical qubits per 1 logical qubits or so could be enough\n",
        "\n",
        "* quantum error correction is long term goal, meanwhile we try to mitigate it\n",
        "\n",
        "* Error mitigation techniques: statistical corrections (on histogram for example)\n",
        "\n",
        "\t* https://qiskit.org/textbook/ch-quantum-hardware/measurement-error-mitigation.html\n",
        "\n",
        "\t* https://arxiv.org/abs/2005.10189\n",
        "\n",
        "* Examples of QEC: repetition code (simplest QEC) and surface code\n",
        "\n",
        "* techniques: syndrome measurements, decoding, logical operations\n",
        "\n",
        "* Key things: how likely is it that you will be misheard, and how much do you care about error?\n",
        "\n",
        "* repetition code: redundancy (repetition) is a way to make sure the message gets delivered (i.e. with majority voting, for d repetition: $P=\\sum_{n=0}^{[ a / 2]}\\left(\\begin{array}{l}d \\\\ n\\end{array}\\right) p^{n}(1-p)^{d-n} \\sim\\left(\\frac{p}{(1-p)}\\right)^{[ d / 2]}$"
      ]
    },
    {
      "cell_type": "markdown",
      "metadata": {
        "id": "tWlHg-wOGAs5"
      },
      "source": [
        "![ggg](https://raw.githubusercontent.com/deltorobarba/repo/master/quantum_100.png)"
      ]
    },
    {
      "cell_type": "markdown",
      "metadata": {
        "id": "Ke3uO0SBC5YS"
      },
      "source": [
        "### **<font color=\"orange\">Computer Science**"
      ]
    },
    {
      "cell_type": "markdown",
      "metadata": {
        "id": "J2dKV_JuIKot"
      },
      "source": [
        "###### **<font color=\"blue\">Time & Space Complexity**"
      ]
    },
    {
      "cell_type": "markdown",
      "metadata": {
        "id": "kdF68KOk5V1K"
      },
      "source": [
        "https://de.m.wikipedia.org/wiki/Komplexitätstheorie"
      ]
    },
    {
      "cell_type": "markdown",
      "metadata": {
        "id": "7JtwttIgDAc_"
      },
      "source": [
        "https://en.m.wikipedia.org/wiki/Big_O_notation"
      ]
    },
    {
      "cell_type": "markdown",
      "metadata": {
        "id": "Sab9kTBkDEKx"
      },
      "source": [
        "https://en.m.wikipedia.org/wiki/Time_complexity"
      ]
    },
    {
      "cell_type": "markdown",
      "metadata": {
        "id": "zm1hoWhxJ5Mu"
      },
      "source": [
        "**Big (O) vs Big Ω (Omega) vs Big θ (Theta) notation (Asymptotic Analysis of Algorithms)**"
      ]
    },
    {
      "cell_type": "markdown",
      "metadata": {
        "id": "705TUtHLKEW2"
      },
      "source": [
        "* Big (O): worste case\n",
        "\n",
        "* Big Ω (Omega): best case\n",
        "\n",
        "* Big θ (Theta): Omega=(O)"
      ]
    },
    {
      "cell_type": "markdown",
      "metadata": {
        "id": "6WHeXuJOmfSS"
      },
      "source": [
        "Big Oh(O) vs Big Omega(Ω) vs Big Theta(θ) notations | Asymptotic Analysis of Algorithms with Example\n",
        "\n",
        "https://m.youtube.com/watch?v=1tfdr1Iv6JA"
      ]
    },
    {
      "cell_type": "markdown",
      "metadata": {
        "id": "r6O1jVEDmuVj"
      },
      "source": [
        "https://m.youtube.com/watch?v=bxgTDN9c6rg"
      ]
    },
    {
      "cell_type": "markdown",
      "metadata": {
        "id": "pJ_wHP33nYJX"
      },
      "source": [
        "https://m.youtube.com/watch?v=QnRx6V8YQy0"
      ]
    },
    {
      "cell_type": "markdown",
      "metadata": {
        "id": "kYcH_UTmDHW1"
      },
      "source": [
        "Great Big-O Notation explanation: https://youtu.be/Q_1M2JaijjQ"
      ]
    },
    {
      "cell_type": "markdown",
      "metadata": {
        "id": "UKONHeJwDtVo"
      },
      "source": [
        "*Graphs of functions commonly used in the analysis of algorithms, showing the number of operations N versus input size n for each function:*\n",
        "\n",
        "![gg](https://upload.wikimedia.org/wikipedia/commons/thumb/7/7e/Comparison_computational_complexity.svg/480px-Comparison_computational_complexity.svg.png)"
      ]
    },
    {
      "cell_type": "markdown",
      "metadata": {
        "id": "CuUclhZ-E4I5"
      },
      "source": [
        "*Examples:*\n",
        "\n",
        "* Matrix Multiplication was known to have cubic time complexity $O(n^3)$. Whether you manipulate the equations or take the matrix route, you’ll end up performing the same total number of computational steps to solve the problem. That number is the cube of the number of variables in the system ($n^3$). In case we have three variables, so it takes 33, or 27, computational steps. \n",
        "\n",
        "  * Achtung: researchers measure the speed of matrix multiplication purely in terms of the number of multiplications required\n",
        "\n",
        "  * Generally, the number of additions is equal to the number of entries in the matrix, so four for the two-by-two matrices and 16 for the four-by-four matrices.\n",
        "\n",
        "  * Source: [Matrix Multiplication Inches Closer to Mythic Goal](https://www.quantamagazine.org/mathematicians-inch-closer-to-matrix-multiplication-goal-20210323/)\n",
        "\n",
        "* New research in matrix multiplication algorithms shows $O(n^{2.3728596})$. Via simple guessing and them use symmetry to compute just half ('Because the entries in the matrix are random, and coordination happens between them, the matrix itself ends up with certain symmetries. Those symmetries enable computational shortcuts. Just like with any highly symmetric object, you only need to know what one part of it looks like in order to deduce the whole.')\n",
        "\n",
        "  * [Wiki: Matrix Multiplication Algorithm](https://en.m.wikipedia.org/wiki/Matrix_multiplication_algorithm)\n",
        "\n",
        "  * [Wiki: Computational complexity of matrix multiplication](https://en.m.wikipedia.org/wiki/Computational_complexity_of_matrix_multiplication)\n",
        "\n",
        "  * [Quanta: New Algorithm Breaks Speed Limit for Solving Linear Equations](https://www.quantamagazine.org/new-algorithm-breaks-speed-limit-for-solving-linear-equations-20210308/)\n",
        "\n",
        "  * [Quanta: Matrix Multiplication Inches Closer to Mythic Goal](https://www.quantamagazine.org/mathematicians-inch-closer-to-matrix-multiplication-goal-20210323/)\n",
        "\n",
        "* Simple number multiplication: The traditional grade-school method for matrix multiplication requires $n^2$ steps (linear problem), where n is the number of digits of the numbers you’re multiplying. So three-digit numbers require nine multiplications, while 100-digit numbers require 10,000 multiplications.\n",
        "\n",
        "  * 1960: Karatsuba’s method made it possible to multiply numbers using only $n^{1.58}$ single-digit multiplications.\n",
        "\n",
        "  * 1971: Arnold Schönhage and Volker Strassen published a method capable of multiplying large numbers in n × log n × log(log n) multiplicative steps, where log n is the logarithm of n. For two 1-billion-digit numbers, Karatsuba’s method would require about 165 trillion additional steps. **It introduced the use of a technique from the field of signal processing called a fast Fourier transform.**\n",
        "\n",
        "  * 2007: Martin Fürer beat it and the floodgates opened. Over the past decade, mathematicians have found successively faster multiplication algorithms, each of which has inched closer to n × log n\n",
        "\n",
        "  * 2019: Harvey and van der Hoeven got to n × log n (via improved version of the fast Fourier transform and replace even more multiplications with additions and subtractions)\n",
        "\n",
        "  * Further improvements possible? Maybe. But: the design of computer hardware has changed. Two decades ago, computers performed addition much faster than multiplication. The speed gap between multiplication and addition has narrowed considerably over the past 20 years to the point where multiplication can be even faster than addition in some chip architectures. With some hardware, “you could actually do addition faster by telling the computer to do a multiplication problem, which is just insane,” Harvey said.\n",
        "\n",
        "  * [A New Approach to Multiplication Opens the Door to Better Quantum Computers](https://www.quantamagazine.org/a-new-approach-to-multiplication-opens-the-door-to-better-quantum-computers-20190424/))\n",
        "\n",
        "  * [Mathematicians Discover the Perfect Way to Multiply](https://www.quantamagazine.org/mathematicians-discover-the-perfect-way-to-multiply-20190411/)\n",
        "\n",
        "* Addition takes only 2n steps\n",
        "\n",
        "* Tang’s algorithm ran in polylogarithmic time — meaning the computational time scaled with the logarithm of characteristics like the number of users and products in the data set — and was exponentially faster than any previously known classical algorithm.\n",
        "\n",
        "  * [Major Quantum Computing Advance Made Obsolete by Teenager](https://www.quantamagazine.org/teenager-finds-classical-alternative-to-quantum-recommendation-algorithm-20180731/))\n",
        "\n",
        "> **See many examples of** [Computational complexity of mathematical operations](https://en.m.wikipedia.org/wiki/Computational_complexity_of_mathematical_operations#Matrix_algebra)"
      ]
    },
    {
      "cell_type": "markdown",
      "metadata": {
        "id": "Wfc1d1FzzCnj"
      },
      "source": [
        "https://en.m.wikipedia.org/wiki/Computational_learning_theory"
      ]
    },
    {
      "cell_type": "markdown",
      "metadata": {
        "id": "wftQOr5kIcgW"
      },
      "source": [
        "###### **<font color=\"blue\">Complexity Classes**"
      ]
    },
    {
      "cell_type": "markdown",
      "metadata": {
        "id": "K5LF2-vFta5V"
      },
      "source": [
        "https://www.quantamagazine.org/computer-scientists-discover-limits-of-major-research-algorithm-20210817/"
      ]
    },
    {
      "cell_type": "markdown",
      "metadata": {
        "id": "xVhaevHTEtSu"
      },
      "source": [
        "* Great NP Hard explanation: https://youtu.be/EHp4FPyajKQ and https://youtu.be/YX40hbAHx3s\n",
        "\n",
        "* **Complexity class P** is all the problems that a classical computer can solve quickly. (“Is this number prime?” belongs to P). Solvable in polynomial time, not exponentially.\n",
        "\n",
        "* **Complexity class NP** is all the problems that classical computers can’t necessarily solve quickly, but for which they can quickly verify an answer if presented with one. (“What are its prime factors?” belongs to NP.) \n",
        "\n",
        "* Computer scientists believe that P and NP are distinct classes, but actually proving that distinctness is the hardest and most important open problem in the field.\n",
        "\n",
        "* **NP hard**\n",
        "\n",
        "* **NP complete**"
      ]
    },
    {
      "cell_type": "markdown",
      "metadata": {
        "id": "q4ye35Sjpt6m"
      },
      "source": [
        "Quanta Magazine: [Edit Distance, SAT & SETH (A New Map Traces the Limits of Computation)](https://www.quantamagazine.org/edit-distance-reveals-hard-computational-problems-20150929/)"
      ]
    },
    {
      "cell_type": "markdown",
      "metadata": {
        "id": "QxY-7JhZ-wGs"
      },
      "source": [
        "https://en.m.wikipedia.org/wiki/NP-hardness"
      ]
    },
    {
      "cell_type": "markdown",
      "metadata": {
        "id": "tjdwFqUnDs6s"
      },
      "source": [
        "![ggg](https://raw.github.com/deltorobarba/repo/master/quantum_019.jpg)\n",
        "\n",
        "*Source: [Finally, a Problem That Only Quantum Computers Will Ever Be Able to Solve](https://www.quantamagazine.org/finally-a-problem-that-only-quantum-computers-will-ever-be-able-to-solve-20180621/)*"
      ]
    },
    {
      "cell_type": "markdown",
      "metadata": {
        "id": "y7Rot5lCLJYs"
      },
      "source": [
        "* Iterative improvements in classical algorithm have so far not paid off to transform a hard problem to an easy one.\n",
        "\n",
        "* This is where quantum computing comes in: \n",
        "\n",
        "  * an “easy” problem that can be solved using a quantum computer in polynomial time is class BQP (Bounded-error Quantum Polynomial time), \n",
        "  \n",
        "  * and a hard problem which can only be verified in polynomial time is class QMA (the playfully named Quantum Merlin Arthur).\n",
        "\n",
        "* The hope in the field is that there is some overlap between the space of NP problems and BQP problems: that by leveraging quantum resources like superposition and entanglement, a hard problem can be transformed into an easy one.\n",
        "\n"
      ]
    },
    {
      "cell_type": "markdown",
      "metadata": {
        "id": "F4ULX_tLgfIU"
      },
      "source": [
        "https://www.quantamagazine.org/job-one-for-quantum-computers-boost-artificial-intelligence-20180129/"
      ]
    },
    {
      "cell_type": "markdown",
      "metadata": {
        "id": "K-WVm4fBrjx5"
      },
      "source": [
        "https://www.quantamagazine.org/finally-a-problem-that-only-quantum-computers-will-ever-be-able-to-solve-20180621/"
      ]
    },
    {
      "cell_type": "markdown",
      "metadata": {
        "id": "60j65lUCgg5q"
      },
      "source": [
        "https://www.quantamagazine.org/computings-search-for-the-best-quantum-questions-20160602/"
      ]
    },
    {
      "cell_type": "markdown",
      "metadata": {
        "id": "_L5dVBGFIjMn"
      },
      "source": [
        "https://en.m.wikipedia.org/wiki/Computational_complexity_theory"
      ]
    },
    {
      "cell_type": "markdown",
      "metadata": {
        "id": "y8iNrgz6Ie1e"
      },
      "source": [
        "https://en.m.wikipedia.org/wiki/Quantum_complexity_theory"
      ]
    },
    {
      "cell_type": "markdown",
      "metadata": {
        "id": "nAGrkAm1HBSG"
      },
      "source": [
        "**Quantum supremacy / Quantum advantage**"
      ]
    },
    {
      "cell_type": "markdown",
      "metadata": {
        "id": "ilvrwRmCHLb7"
      },
      "source": [
        "* [quantum supremacy](https://en.m.wikipedia.org/wiki/Quantum_supremacy) means demonstrating that a programmable quantum device can solve a problem that no classical computer can solve in any feasible amount of time (irrespective of the usefulness of the problem).\n",
        "\n",
        "* Conceptually, quantum supremacy involves both \n",
        "\n",
        "  * the engineering task of building a powerful quantum computer and \n",
        "  \n",
        "  * the [computational-complexity-theoretic](https://en.m.wikipedia.org/wiki/Computational_complexity_theory) task of finding a problem that can be solved by that quantum computer and has a [superpolynomial](https://en.m.wikipedia.org/wiki/Time_complexity) speedup over the best known or possible classical algorithm for that task"
      ]
    },
    {
      "cell_type": "markdown",
      "metadata": {
        "id": "onz908psV9h-"
      },
      "source": [
        "https://www.quantamagazine.org/quantum-computers-struggle-against-classical-algorithms-20180201/"
      ]
    },
    {
      "cell_type": "markdown",
      "metadata": {
        "id": "5rkvkWM7UfBN"
      },
      "source": [
        "###### **<font color=\"blue\">Binary Numbers, ALU & Classical Logical Gates</font>**"
      ]
    },
    {
      "cell_type": "markdown",
      "metadata": {
        "id": "gYNx7QwbXgJq"
      },
      "source": [
        "> 11101 + 101 = 100010"
      ]
    },
    {
      "cell_type": "markdown",
      "metadata": {
        "id": "X2btFw02ejSM"
      },
      "source": [
        "https://en.wikipedia.org/wiki/Binary_number"
      ]
    },
    {
      "cell_type": "markdown",
      "metadata": {
        "id": "A6sL95OfjFpp"
      },
      "source": [
        "8253 in decimal means: 8 * 1000 + 2 * 100 + 5 * 10 + 3 * 1 \n",
        "\n",
        "oder in basis 10: \n",
        "\n",
        "> 8253 = 8 * 10<sup>3</sup> + 2 * 10<sup>2</sup> + 5 * 10<sup>1</sup> + 3* 10<sup>0</sup>"
      ]
    },
    {
      "cell_type": "markdown",
      "metadata": {
        "id": "M5kODtCdUpKb"
      },
      "source": [
        "**(2) $\\rightarrow$ (10)** Vom Dualsystem ins Dezimalsystem (beachte immer: rightmost bit als Starter):"
      ]
    },
    {
      "cell_type": "markdown",
      "metadata": {
        "id": "4It_MWYvUl4u"
      },
      "source": [
        "> $1010_{(2)}=1 \\cdot 2^{3}+0 \\cdot 2^{2}+1 \\cdot 2^{1}+0 \\cdot 2^{0}$\n",
        "\n",
        "> $=8+2=10_{(10)}$\n"
      ]
    },
    {
      "cell_type": "markdown",
      "metadata": {
        "id": "YqVBSUAWUs9Q"
      },
      "source": [
        "**(10) $\\rightarrow$ (2)** Vom Dezimalsystem ins Dualsystem: Divisionsmethode (auch Modulo-Methode genannt) am Beispiel 41$_{10}$:"
      ]
    },
    {
      "cell_type": "markdown",
      "metadata": {
        "id": "iNU0AdyzUvf0"
      },
      "source": [
        "> $\\begin{array}{clcc}41 & : 2=20 & \\text { Rest } \\mathbf{1} \\\\ 20 & : 2= 10 & \\text { Rest } \\mathbf{0} \\\\ 10 & : 2= 5 & \\text { Rest } \\mathbf{0} \\\\ 5 & : 2= 2 & \\text { Rest } \\mathbf{1} \\\\ 2 & : 2= 1 & \\text { Rest } \\mathbf{0} \\\\ 1 & : 2 =0 & \\text { Rest } \\mathbf{1}\\end{array}$"
      ]
    },
    {
      "cell_type": "markdown",
      "metadata": {
        "id": "jRIgDmdgVfRQ"
      },
      "source": [
        "Die entsprechende Dualzahl ergibt sich durch Notation der errechneten Reste von unten nach oben: 101001$_{2}$"
      ]
    },
    {
      "cell_type": "markdown",
      "metadata": {
        "id": "2i50h445V_U4"
      },
      "source": [
        "Es gibt auch noch die [Subtraktionsmethode](https://de.m.wikipedia.org/wiki/Dualsystem#Vom_Dezimalsystem_ins_Dualsystem) zur Umrechnung vom Dezimalsystem ins Dualsystem."
      ]
    },
    {
      "cell_type": "markdown",
      "metadata": {
        "id": "4yDeFL-kVqF7"
      },
      "source": [
        "https://de.m.wikipedia.org/wiki/Dualsystem#Umrechnen_von_Dualzahlen_in_andere_Stellenwertsysteme"
      ]
    },
    {
      "cell_type": "markdown",
      "metadata": {
        "id": "SFtArs8sVrQ1"
      },
      "source": [
        "https://calculator.name/baseconvert/binary/decimal/10001111111101"
      ]
    },
    {
      "cell_type": "markdown",
      "metadata": {
        "id": "KfszyhZFW50S"
      },
      "source": [
        "**Grundrechenarten im Dualsystem**"
      ]
    },
    {
      "cell_type": "markdown",
      "metadata": {
        "id": "CxYbA1V5YPod"
      },
      "source": [
        "\"[half adder](https://de.wikipedia.org/wiki/Halbaddierer)\" as basis to add anything larger together:\n",
        "\n",
        "0+0 = 00 (in decimal, this is 0+0=0)\n",
        "\n",
        "0+1 = 01 (in decimal, this is 0+1=1)\n",
        "\n",
        "1+0 = 01 (in decimal, this is 1+0=1)\n",
        "\n",
        "1+1 = 10 (in decimal, this is 1+1=2)\n",
        "\n",
        "*And 1+1=2. In binary, the number 2 is written 10, and so requires two bits. This means that you  need to carry the 1 (=Übertrag).*\n",
        "\n",
        "> 2<sub>10</sub> = 2 * 1<sup>1</sup> + 0 * 2<sup>0</sup> = 10<sub>2</sub>"
      ]
    },
    {
      "cell_type": "markdown",
      "metadata": {
        "id": "fPXyQ3vrXAbt"
      },
      "source": [
        "Siehe auch: [Grundrechenarten_im_Dualsystem](https://de.m.wikipedia.org/wiki/Dualsystem#Grundrechenarten_im_Dualsystem)"
      ]
    },
    {
      "cell_type": "markdown",
      "metadata": {
        "id": "0_hVN7IZpP6-"
      },
      "source": [
        "https://de.m.wikipedia.org/wiki/Dualsystem#Grundrechenarten_im_Dualsystem"
      ]
    },
    {
      "cell_type": "markdown",
      "metadata": {
        "id": "FFDITxGxIezW"
      },
      "source": [
        "**<font color=\"blue\">ALU (Arithmetic logic unit)**"
      ]
    },
    {
      "cell_type": "markdown",
      "metadata": {
        "id": "H1mxW1z5tyNI"
      },
      "source": [
        "https://de.m.wikipedia.org/wiki/Arithmetisch-logische_Einheit"
      ]
    },
    {
      "cell_type": "markdown",
      "metadata": {
        "id": "3XO6-4onGUhD"
      },
      "source": [
        "Half Adder (to add 1 bit of numbers). one bit takes two numbers: 0 or 1.\n",
        "\n",
        "two variables are if 1 bit each\n",
        "\n",
        "https://youtu.be/thkTzdnkL5U"
      ]
    },
    {
      "cell_type": "markdown",
      "metadata": {
        "id": "ojaYqubOKNio"
      },
      "source": [
        "**SUM operation**"
      ]
    },
    {
      "cell_type": "markdown",
      "metadata": {
        "id": "zW6BLn4mFZLM"
      },
      "source": [
        "![ggg](https://raw.githubusercontent.com/deltorobarba/repo/master/quantum_020.jpg)"
      ]
    },
    {
      "cell_type": "markdown",
      "metadata": {
        "id": "8vAlj2mfFg3V"
      },
      "source": [
        "This operation is the truth table for XOR gate"
      ]
    },
    {
      "cell_type": "markdown",
      "metadata": {
        "id": "c1xyBP0wIOuu"
      },
      "source": [
        "![ggg](https://raw.githubusercontent.com/deltorobarba/repo/master/quantum_021.jpg)"
      ]
    },
    {
      "cell_type": "markdown",
      "metadata": {
        "id": "ghk_IPeqKQNI"
      },
      "source": [
        "**CARRY Operation**"
      ]
    },
    {
      "cell_type": "markdown",
      "metadata": {
        "id": "O8q2w7WXIE97"
      },
      "source": [
        "![ggg](https://raw.githubusercontent.com/deltorobarba/repo/master/quantum_022.jpg)"
      ]
    },
    {
      "cell_type": "markdown",
      "metadata": {
        "id": "PPuefWb5IVeJ"
      },
      "source": [
        "![ggg](https://raw.githubusercontent.com/deltorobarba/repo/master/quantum_023.jpg)"
      ]
    },
    {
      "cell_type": "markdown",
      "metadata": {
        "id": "Y6X5ZWcSJG1V"
      },
      "source": [
        "See also K-Map: https://de.m.wikipedia.org/wiki/Karnaugh-Veitch-Diagramm"
      ]
    },
    {
      "cell_type": "markdown",
      "metadata": {
        "id": "jjEwiInKJ2z1"
      },
      "source": [
        "**Putting both together:**"
      ]
    },
    {
      "cell_type": "markdown",
      "metadata": {
        "id": "NIqlSTDlJxJQ"
      },
      "source": [
        "![ggg](https://raw.githubusercontent.com/deltorobarba/repo/master/quantum_024.jpg)"
      ]
    },
    {
      "cell_type": "markdown",
      "metadata": {
        "id": "p2AJDQcRHmBF"
      },
      "source": [
        "https://en.m.wikipedia.org/wiki/Adder_(electronics)"
      ]
    },
    {
      "cell_type": "markdown",
      "metadata": {
        "id": "k_pXx64hNEDI"
      },
      "source": [
        "![ggg](https://upload.wikimedia.org/wikipedia/commons/9/92/Halfadder.gif)\n",
        "\n",
        "*Half Adder in action*"
      ]
    },
    {
      "cell_type": "markdown",
      "metadata": {
        "id": "u1jrLYwYhN7M"
      },
      "source": [
        "Aus zwei [Halbaddierern](https://de.wikipedia.org/wiki/Halbaddierer) und einem zusätzlichen Oder-Gatter kann ein [Volladdierer](https://de.wikipedia.org/wiki/Volladdierer) aufgebaut werden.\n",
        "\n",
        "Der Halbaddierer wird in Kombination mit Volladdierern zum Aufbau von [Addiernetzen](https://de.wikipedia.org/wiki/Addierwerk) verwendet."
      ]
    },
    {
      "cell_type": "markdown",
      "metadata": {
        "id": "01wgVPWyZT2s"
      },
      "source": [
        "**<font color=\"blue\">Classic Logic Gates**"
      ]
    },
    {
      "cell_type": "markdown",
      "metadata": {
        "id": "98W-r8JOJgV1"
      },
      "source": [
        "![ggg](https://raw.githubusercontent.com/deltorobarba/repo/master/quantum_027.jpg)"
      ]
    },
    {
      "cell_type": "markdown",
      "metadata": {
        "id": "TB7v_Ge5JjCE"
      },
      "source": [
        "![ggg](https://raw.githubusercontent.com/deltorobarba/repo/master/quantum_028.jpg)"
      ]
    },
    {
      "cell_type": "markdown",
      "metadata": {
        "id": "cMRD9DN6ZWHv"
      },
      "source": [
        "Siehe auch [Logic Gate](https://en.wikipedia.org/wiki/Logic_gate) und [Wahrheitstabelle](https://de.wikipedia.org/wiki/Wahrheitstabelle)"
      ]
    },
    {
      "cell_type": "markdown",
      "metadata": {
        "id": "EWXpDyIWbzRX"
      },
      "source": [
        "<font color=\"blue\">**NOT**</font> - not-gate"
      ]
    },
    {
      "cell_type": "markdown",
      "metadata": {
        "id": "euYYXSaeb3zI"
      },
      "source": [
        "Ein [Nicht-Gatter](https://de.m.wikipedia.org/wiki/Nicht-GatterNicht-Gatter) liefert der Ausgang eine 1, wenn am Eingang eine 0 anliegt und eine 0, wenn am Eingang eine 1 anliegt. Er liefert also die Negation des am Eingang anliegenden Signals. \n",
        "\n",
        "Pauli-X is das Equivalent in Quantum. The NOT gate is only really needed to create bits with value 1."
      ]
    },
    {
      "cell_type": "markdown",
      "metadata": {
        "id": "VEJRPWB_cCdd"
      },
      "source": [
        ">$\n",
        "\\begin{array}{|l|l|}\n",
        "\\hline \\mathbf{A} & \\mathbf{Y} \\\\\n",
        "\\hline 0 & 1 \\\\\n",
        "\\hline 1 & 0 \\\\\n",
        "\\hline\n",
        "\\end{array}\n",
        "$"
      ]
    },
    {
      "cell_type": "markdown",
      "metadata": {
        "id": "z0GO3E4Id5gI"
      },
      "source": [
        "<font color=\"blue\">**AND**</font> - und-Gate"
      ]
    },
    {
      "cell_type": "markdown",
      "metadata": {
        "id": "secyOre1eFi8"
      },
      "source": [
        "Ein [Und-Gatter](https://de.m.wikipedia.org/wiki/Und-Gatter) ist ein Gatter mit mehreren Eingängen und einem Ausgang, bei dem der Ausgang eine 1 liefert, wenn an allen Eingängen 1 anliegt. Es entspricht dem Logischen UND. In der Schaltalgebra wird die UND-Verknüpfung durch • (Mal), & oder ∧ dargestellt und wird auch als Konjunktion bezeichnet.\n",
        "\n",
        "This will perform a NOT on the target qubit only when both controls are in state 1. Toffoli in Quantum."
      ]
    },
    {
      "cell_type": "markdown",
      "metadata": {
        "id": "lLdmWLlmeQp2"
      },
      "source": [
        ">$\n",
        "\\begin{array}{|c|c|c|}\n",
        "\\hline \\text { A } & \\text { B } & Y=\\mathbf{A} \\wedge \\mathbf{B} \\\\\n",
        "\\hline 0 & 0 & 0 \\\\\n",
        "\\hline 0 & 1 & 0 \\\\\n",
        "\\hline 1 & 0 & 0 \\\\\n",
        "\\hline 1 & 1 & 1 \\\\\n",
        "\\hline\n",
        "\\end{array}\n",
        "$"
      ]
    },
    {
      "cell_type": "markdown",
      "metadata": {
        "id": "rSdipqUTevBt"
      },
      "source": [
        "<font color=\"blue\">**OR**</font> - oder-Gate"
      ]
    },
    {
      "cell_type": "markdown",
      "metadata": {
        "id": "uQwJzRwies8o"
      },
      "source": [
        "Ein [Oder-Gatter](https://de.m.wikipedia.org/wiki/Oder-Gatter) ist ein Gatter mit mehreren Eingängen und einem Ausgang, bei dem der Ausgang eine 1 liefert, wenn an mindestens einem Eingang eine 1 anliegt. Es entspricht dem Logischen ODER. In der Schaltalgebra wird die Oder-Verknüpfung durch + oder \n",
        "∨\n",
        "{\\displaystyle \\lor } (Ursprung ist das lat. Wort „vel“ (oder)) dargestellt und wird auch als Disjunktion bezeichnet."
      ]
    },
    {
      "cell_type": "markdown",
      "metadata": {
        "id": "8WG9EldSfLbQ"
      },
      "source": [
        ">$\n",
        "\\begin{array}{|c|c|c|}\n",
        "\\hline \\mathbf{A} & \\mathbf{B} & \\mathbf{Y}=\\mathbf{A} \\vee \\mathbf{B} \\\\\n",
        "\\hline 0 & 0 & 0 \\\\\n",
        "\\hline 0 & 1 & 1 \\\\\n",
        "\\hline 1 & 0 & 1 \\\\\n",
        "\\hline 1 & 1 & 1 \\\\\n",
        "\\hline\n",
        "\\end{array}\n",
        "$"
      ]
    },
    {
      "cell_type": "markdown",
      "metadata": {
        "id": "1Xcz9l-DOcpc"
      },
      "source": [
        "\n",
        "\n",
        "---\n",
        "\n"
      ]
    },
    {
      "cell_type": "markdown",
      "metadata": {
        "id": "HtxqABwhZgK4"
      },
      "source": [
        "<font color=\"blue\">**XOR**</font> - Exklusiv-Oder"
      ]
    },
    {
      "cell_type": "markdown",
      "metadata": {
        "id": "sbYdzKMrre0w"
      },
      "source": [
        "Ein [Exklusiv-Oder-Gate](https://de.m.wikipedia.org/wiki/Exklusiv-Oder-Gatter), auch XOR-Gatter (von englisch eXclusive OR ‚exklusives Oder‘, „entweder oder“) ist ein Gatter mit zwei Eingängen und einem Ausgang, bei dem der Ausgang logisch „1“ ist, wenn an nur einem Eingang „1“ anliegt und an dem anderen „0“. Die Exklusiv-Oder-Verknüpfung wird auch als Anti- oder [Kontravalenz](https://de.wikipedia.org/wiki/Kontravalenz) bezeichnet.\n",
        "\n",
        "**Das bedeutet, dass die Eingänge verschieden beschaltet sein müssen, um am Ausgang eine „1“ zu erhalten**. Entweder an dem einen oder am anderen Eingang muss „1“ anliegen. Im Unterschied zu einer einfachen OR-Verknüpfung gilt die Bedingung als nicht erfüllt, wenn an beiden Eingängen eine „1“ anliegt. Bei Exklusiv-Oder ist das Ergebnis in diesem Fall eine „0“.\n",
        "\n"
      ]
    },
    {
      "cell_type": "markdown",
      "metadata": {
        "id": "7cfFLkHaoyPE"
      },
      "source": [
        "> In quantum computers, the job of the XOR gate is done by the controlled-NOT gate (= this is Controlled Pauli X-Gate -  the normal Pauli X flips the sign for single entries, i.e. from 0 to 1 and reverse)"
      ]
    },
    {
      "cell_type": "markdown",
      "metadata": {
        "id": "liE5vne_ZuGx"
      },
      "source": [
        ">$\n",
        "\\begin{array}{|l|c|l|}\n",
        "\\hline {\\text { A }} &  {\\text { B }} & {A \\dot{\\vee} B} \\\\\n",
        "\\hline \\text { wahr } & \\text { wahr } & \\text { falsch } \\\\\n",
        "\\hline \\text { wahr } & \\text { falsch } & \\text { wahr } \\\\\n",
        "\\hline \\text { falsch } & \\text { wahr } & \\text { wahr } \\\\\n",
        "\\hline \\text { falsch } & \\text { falsch } & \\text { falsch } \\\\\n",
        "\\hline\n",
        "\\end{array}\n",
        "$"
      ]
    },
    {
      "cell_type": "markdown",
      "metadata": {
        "id": "o091DuRpaPq6"
      },
      "source": [
        ">$\n",
        "\\begin{array}{|l|c|l|}\n",
        "\\hline {\\text { A }} &  {\\text { B }} & {A \\dot{\\vee} B} \\\\\n",
        "\\hline \\text { 0 } & \\text { 0 } & \\text { 0 } \\\\\n",
        "\\hline \\text { 0 } & \\text { 1 } & \\text { 1 } \\\\\n",
        "\\hline \\text { 1 } & \\text { 0 } & \\text { 1 } \\\\\n",
        "\\hline \\text { 1 } & \\text { 1 } & \\text { 0 } \\\\\n",
        "\\hline\n",
        "\\end{array}\n",
        "$"
      ]
    },
    {
      "cell_type": "markdown",
      "metadata": {
        "id": "zD55ifmJtIkJ"
      },
      "source": [
        "There are multiple ways to explain the effect of the CNOT (XOR in quantum). One is to say that it looks at its two input bits to see whether they are the same or different. Next, it overwrites the target qubit with the answer. The target becomes 0 if they are the same, and 1 if they are different."
      ]
    },
    {
      "cell_type": "markdown",
      "metadata": {
        "id": "-VY-faH8ak9g"
      },
      "source": [
        "<font color=\"blue\">**NAND**</font> - nicht-und"
      ]
    },
    {
      "cell_type": "markdown",
      "metadata": {
        "id": "dso3qD8satqL"
      },
      "source": [
        "Ein [NAND-Gate](https://de.m.wikipedia.org/wiki/NAND-Gatter) gibt am Ausgang 0 aus, wenn alle Eingänge 1 sind. \n",
        "\n",
        "In allen anderen Fällen, d. h., wenn mindestens ein Eingang 0 ist, wird eine 1 ausgegeben.\n",
        "\n",
        "NAND-Gatter spielen in der Digitaltechnik die Rolle eines Standardbausteins, da sich allein mit ihnen alle logischen Verknüpfungen und somit auch komplexere Schaltungen (wie Addierer, Multiplexer usw.) zusammenstellen lassen, siehe auch vollständige Logiksysteme.\n"
      ]
    },
    {
      "cell_type": "markdown",
      "metadata": {
        "id": "aJZjkcFVa6a_"
      },
      "source": [
        ">$\n",
        "\\begin{array}{|l|c|l|}\n",
        "\\hline {\\text { A }} &  {\\text { B }} & {\\text{A}} \\: {\\text{NAND}} \\: {\\text{B}} \\\\\n",
        "\\hline \\text { 0 } & \\text { 0 } & \\text { 1 } \\\\\n",
        "\\hline \\text { 0 } & \\text { 1 } & \\text { 1 } \\\\\n",
        "\\hline \\text { 1 } & \\text { 0 } & \\text { 1 } \\\\\n",
        "\\hline \\text { 1 } & \\text { 1 } & \\text { 0 } \\\\\n",
        "\\hline\n",
        "\\end{array}\n",
        "$"
      ]
    },
    {
      "cell_type": "markdown",
      "metadata": {
        "id": "yDQnJ79IfQ9h"
      },
      "source": [
        "<font color=\"blue\">**NOR**</font> - not-or / weder-noch"
      ]
    },
    {
      "cell_type": "markdown",
      "metadata": {
        "id": "NwQ6rf5BfWr6"
      },
      "source": [
        "Ein [NOR-Gatter](https://de.wikipedia.org/wiki/NOR-Gatter) (von englisch: not or – nicht oder, oder von englisch nor – (weder – ) noch, ist ein Logikgatter mit zwei oder mehr Eingängen A, B, … und einem Ausgang Y, zwischen denen die logische Verknüpfung NICHT ODER besteht. Ein NOR-Gatter gibt am Ausgang 1 (w) aus, wenn alle Eingänge 0 (f) sind. In allen anderen Fällen, d. h. wenn mindestens ein Eingang 1 ist, wird eine 0 ausgegeben.\n"
      ]
    },
    {
      "cell_type": "markdown",
      "metadata": {
        "id": "81yWuDQ7fpd1"
      },
      "source": [
        ">$\n",
        "\\begin{array}{|c|c|c|}\n",
        "\\hline \\mathbf{A} & \\mathbf{B} & \\mathbf{Y}=\\mathbf{A} ⊽ \\mathbf{B} \\\\\n",
        "\\hline 0 & 0 & 1 \\\\\n",
        "\\hline 0 & 1 & 0 \\\\\n",
        "\\hline 1 & 0 & 0 \\\\\n",
        "\\hline 1 & 1 & 0 \\\\\n",
        "\\hline\n",
        "\\end{array}\n",
        "$"
      ]
    },
    {
      "cell_type": "markdown",
      "metadata": {
        "id": "_vk9SB2addeI"
      },
      "source": [
        "<font color=\"blue\">**XNOR**</font> - eXclusive NOT OR"
      ]
    },
    {
      "cell_type": "markdown",
      "metadata": {
        "id": "3FYFbjCnda9q"
      },
      "source": [
        "Eine [XNOR-Gatter](https://de.m.wikipedia.org/wiki/XNOR-Gatter) ist ein Logikgatter, bei dem am Ausgang eine logische „1“ anliegt, wenn an einer geraden Anzahl von Eingängen „1“ anliegt und an den restlichen „0“. Im Fall von zwei Eingängen liegt am Ausgang also „1“ an, wenn an beiden Eingängen „1“ oder an beiden Eingängen „0“ anliegt (im zweiten Fall liegt an null Eingängen „1“ an, und 0 zählt als gerade Zahl)."
      ]
    },
    {
      "cell_type": "markdown",
      "metadata": {
        "id": "SgOpbmQldp98"
      },
      "source": [
        ">$\n",
        "\\begin{array}{|c|c|c|}\n",
        "\\hline \\text { A } & \\text { B } & \\text { Y }=\\text { A XNOR B } \\\\\n",
        "\\hline 0 & 0 & 1 \\\\\n",
        "\\hline 0 & 1 & 0 \\\\\n",
        "\\hline 1 & 0 & 0 \\\\\n",
        "\\hline 1 & 1 & 1 \\\\\n",
        "\\hline\n",
        "\\end{array}\n",
        "$"
      ]
    },
    {
      "cell_type": "markdown",
      "metadata": {
        "id": "29EqcTLgeDew"
      },
      "source": [
        "### **<font color=\"orange\">Hardware</font>**"
      ]
    },
    {
      "cell_type": "markdown",
      "metadata": {
        "id": "nEFrWfXEdYKQ"
      },
      "source": [
        "Ion, supraleitend (super conducting), photon, topological, adabiatic (non universal)"
      ]
    },
    {
      "cell_type": "markdown",
      "metadata": {
        "id": "2awP8L9TDlN_"
      },
      "source": [
        "###### **<font color=\"blue\">Architekturen von Quantencomputern</font>**"
      ]
    },
    {
      "cell_type": "markdown",
      "metadata": {
        "id": "zL-hsUE0dAu-"
      },
      "source": [
        "https://www.heise.de/amp/hintergrund/Mehr-Leistung-fuer-Quantencomputer-Unternehmen-stellt-Multi-Core-Chip-vor-6178656.html"
      ]
    },
    {
      "cell_type": "markdown",
      "metadata": {
        "id": "R2DTJ7r9dCdA"
      },
      "source": [
        "https://ionq.com/posts/august-25-2021-deep-dive-reconfigurable-multicore-quantum-architecture"
      ]
    },
    {
      "cell_type": "markdown",
      "metadata": {
        "id": "UhGyg_cMDpFd"
      },
      "source": [
        "Qubit: Nutzung des quantenechanischen Zweizustandssystems"
      ]
    },
    {
      "cell_type": "markdown",
      "metadata": {
        "id": "8wCV_KhfERAR"
      },
      "source": [
        "###### **<font color=\"blue\">Supraleitende Streifenleitungsresonatoren (Superconductivity)**"
      ]
    },
    {
      "cell_type": "markdown",
      "metadata": {
        "id": "ycwgNwYAtC2e"
      },
      "source": [
        "Superconducting Qubits: \n",
        "\n",
        "* man-made\n",
        "* design based on a cooper pair, which is just a pair of electrons, or any other fermion, which is a particle with a half-integer spin, combined with a josephson junction\n",
        "* Created using microfabrication, same technology used to create today‘s silicon devices. Similarity to classical computing\n",
        "\n"
      ]
    },
    {
      "cell_type": "markdown",
      "metadata": {
        "id": "isr05FSWEX9P"
      },
      "source": [
        "* ein Qubit stellt eine Elektronenwolke innerhalb eines Mikrowellen-Oszillators dar, der auf 15 Milli-Kelvin abgekuhlt wird (nahezu absoluter Nullpunkt)\n",
        "\n",
        "* ein sogenannter Josephson Kontakt (ein hauchdunner Isolator) bietet die Moglichkeit zur Quanten-Tunnelung und die Unterscheidung von genau 2 Zustaenden sowie der Superposition davon\n",
        "\n",
        "* Durch Anpassung der Oszillatorfrequenz koennen mehrere Qubits in einen Resonanz und damit in einen verschraenkten Zustand gebracht oder aber Quantengatter (quantum gates) angewendet werden\n",
        "\n",
        "* damit wurden bisher ca 50 Qubits realisiert\n",
        "\n",
        "* Supraleitende Qubits in einem zweidimensionalen Netzwerk von supraleitenden [Streifenleitungsresonatoren](https://de.m.wikipedia.org/wiki/Streifenleitung) (stripline resonators)"
      ]
    },
    {
      "cell_type": "markdown",
      "metadata": {
        "id": "JUD3HtbrHZyA"
      },
      "source": [
        "*Exkurs: [Supraleiter](https://de.m.wikipedia.org/wiki/Supraleiter) bzw. [Superconductivity](https://en.m.wikipedia.org/wiki/Superconductivity) sind Materialien, deren elektrischer Widerstand beim Unterschreiten der sogenannten Sprungtemperatur (abrupt) gegen null strebt (unmessbar klein wird, kleiner als 1 ⋅ 10−20 Ω). Die Supraleitung wurde 1911 von Heike Kamerlingh Onnes, einem Pionier der [Tieftemperaturphysik](https://de.m.wikipedia.org/wiki/Tieftemperaturphysik), entdeckt. Sie ist ein makroskopischer Quantenzustand. Im supraleitenden Zustand tritt der [„Meißner-Ochsenfeld-Effekt“](https://de.m.wikipedia.org/wiki/Meißner-Ochsenfeld-Effekt) auf, d. h. das Innere des Materials bleibt bzw. wird frei von elektrischen und magnetischen Feldern.*"
      ]
    },
    {
      "cell_type": "markdown",
      "metadata": {
        "id": "0qOb4U4NRYED"
      },
      "source": [
        "###### **<font color=\"blue\">Ionen QC**"
      ]
    },
    {
      "cell_type": "markdown",
      "metadata": {
        "id": "95-4hj-vDvNc"
      },
      "source": [
        "**Mikrostrukturierte Ionenfalle**"
      ]
    },
    {
      "cell_type": "markdown",
      "metadata": {
        "id": "D68TYGhhDz01"
      },
      "source": [
        "* Ionen + deren Polaritaet dienen als Qubit"
      ]
    },
    {
      "cell_type": "markdown",
      "metadata": {
        "id": "bKu_1YI-nxa5"
      },
      "source": [
        "https://en.m.wikipedia.org/wiki/Trapped_ion_quantum_computer"
      ]
    },
    {
      "cell_type": "markdown",
      "metadata": {
        "id": "BjL00wcKD29y"
      },
      "source": [
        "**Quanten Computer auf Ionenbasis**"
      ]
    },
    {
      "cell_type": "markdown",
      "metadata": {
        "id": "-ykjMnsAD6T7"
      },
      "source": [
        "* es kommt der Spin von Stickstoffatomen zum Einsatz"
      ]
    },
    {
      "cell_type": "markdown",
      "metadata": {
        "id": "74LY1bM1Rd72"
      },
      "source": [
        "###### **<font color=\"blue\">Photonen / optische Quantencomputer**"
      ]
    },
    {
      "cell_type": "markdown",
      "metadata": {
        "id": "hQEurgj6SUtw"
      },
      "source": [
        "*  Diese Chips lassen sich in gewöhnliche Großrechner einbauen, die weder eine besondere Kühlung noch einen vibrationsfreien Raum brauchen\n",
        "\n",
        "* Start-up Q.ant habe ein sogenanntes Photonik-Chip-Verfahren entwickelt\n",
        "\n",
        "* Anstatt extrem tief abgekühlte Atome, Ionen oder Supraleiter mit genauso tief gekühlter Elektronik zu benutzen, sollen die Quanteneigenschaften des Computers mithilfe der Eigenschaften von Licht erzeugt werden.\n",
        "\n",
        "* Anders als bei den 53 Supraleiter-Qubits von Sycamore stellt die Durchführung der Rechnungen dabei ein viel kleineres Problem dar. Im optischen Quantencomputer ist die große Herausforderung nicht das Durchführen der Rechnung, sondern die Erzeugung der Quantenzustände. (Deshalb hatten Quantencomputer aus Ionenfallen oder Supraleitern viel mehr vorzuweisen.) Die Qubits konnten gebaut werden, die Quanteneigenschaften wurden nachgewiesen und die Entwicklung galt dem Schutz der Qubits vor äußeren Einflüssen und der perfekten Durchführung von Rechenvorgängen.\n",
        "\n",
        "* Beim optischen Computer ist die Herausforderung umgekehrt. Die Quantenzustände werden mit Licht erzeugt, das in einem optischen System eingeschlossen wird. Wenn sich darin die Quantenzustände mit ausreichender Qualität erzeugen und messen lassen, können damit zusammen mit klassischer Computertechnik auch Quantenrechnungen durchgeführt werden. Zuvor lassen sich damit aber kaum Demonstrationen durchführen.\n",
        "\n",
        "* **Psiquantum und deren Pläne, sogenannte Clusterzustände kontinuierlicher Variablen zur Berechnung zu benutzen. Das heißt einfach nur, dass als Qubits nicht einzelne Photonen (Lichtteilchen) benutzt werden, sondern alle Eigenschaften des Zustands eines Pakets aus Photonen.**\n",
        "\n",
        "* Die lange Zeit ungelösten Probleme des Lichts als flüchtiges Medium gehen mit großen Vorteilen einher. Die Eigenschaften von Licht sind viel weniger empfindlich gegenüber Störungen von außen. Es kann ohne Nachteile bei Zimmertemperatur eingesetzt werden und muss auch nicht vor kleinsten Störungen durch elektrische Felder, Magnetfelder oder Radiowellen geschützt werden. Der Computer muss nicht einmal im Vakuum arbeiten. Nur die Lichtdetektoren müssen auf tiefe Temperaturen abgekühlt werden, um die Messungen nicht zu verfälschen.\n",
        "\n",
        "* Photonen, die Lichtteilchen, können auch sehr dicht gepackt werden, ohne sich unbeabsichtigt gegenseitig zu beeinflussen. Das ist ein großer Vorteil im Umgang mit vielen Quantenzuständen, aber tatsächlich auch ein großes Problem. Die Träger der Informationen in einem Quantencomputer müssen sich gegenseitig beeinflussen können, damit grundlegende Operationen durchgeführt werden können. Es mussten sogenannte nichtlineare Bauteile gefunden werden, in denen das überhaupt ausreichend geschieht. Ringoszillatoren aus Siliziumnitrid in Siliziumdioxid tun genau das und sie können mit normaler Halbleitertechnik hergestellt werden.\n",
        "\n",
        "* Die Grundlage für den optischen Quantencomputer ist die effiziente Erzeugung von verschränkten Photonenpaaren in unterschiedlichen Frequenzbändern. Durch Ringoszillatoren können mit einem Laser über 60 solche Frequenzbänder erzeugt und mit den Frequenzbändern eines zweiten Lasers überlappt werden. In jedem Frequenzband kann ein eigener Quantenzustand aus mehreren Photonen in einem Paket erzeugt und mit den Photonen eines anderen Frequenzbandes verschränkt werden.\n",
        "\n",
        "* Die Quantenzustände, die dabei entstehen, sind aber keine völlig reinen Zustände, wie sie ein normales Qubit einnehmen kann. Stattdessen sind es Eigenschaften von sogenanntem gequetschten Licht, das auch die [superempfindlichen Gravitationswellendetektoren von Ligo](https://en.wikipedia.org/wiki/LIGO#Advanced_LIGO) möglich macht. Eigenschaften wie die Phasenlage lassen sich damit genau festlegen, zuungunsten etwa der Genauigkeit in der Amplitude. Ein perfekt reiner Zustand würde deshalb unendlich viel Energie benötigen, weil eine perfekt genaue Phasenlage eine unendlich große Amplitude erfordern könnte, aber der Quantencomputer braucht keine perfekten Zustände.\n",
        "\n",
        "* In den Computer werden nacheinander immer wieder neue Pakete in eine Glasfaserleitung eingespeist. Am Ende der Glasfaser kommen sie nach einiger Zeit wieder zurück in den Computer. Je länger die Glasfaser, desto mehr Qubits lassen sich erzeugen, solange die Störungen durch die Faser nicht zu groß werden. Bis das Licht zurückkommt, bleibt Zeit, um mit einem herkömmlichen Computer die nächsten Rechenschritte oder eine Fehlerkorrektur für ein bestimmtes Paket vorzubereiten, wobei einem Paket durch halbdurchlässige Spiegel gezielt Photonen in bestimmten Quantenzuständen hinzugefügt werden.\n",
        "\n",
        "* Das stellt große Ansprüche an die herkömmliche Rechentechnik, immerhin müssen unbekannte Messergebnisse schnell aufgenommen und die richtige Reaktion entsprechend der Fehlerkorrektur oder der anstehenden Quantenrechnung berechnet werden. Aber klassische Computertechnik ist so schnell geworden, dass mit ihr selbst die Lichtgeschwindigkeit langsam erscheint. Zwischen zwei Rechentakten einer 3-GHz-CPU bewegt sich Licht nur um 10 Zentimeter vorwärts.\n",
        "\n",
        "* Der Lichtstrahl im Computer besteht aus vielen Paketen von Licht unterschiedlicher Frequenzen, die aber zusammen einen sogenannten Clusterzustand bilden müssen. Sie müssen alle durch Quantenverschränkung miteinander verbunden werden, wie die Qubits auf dem tiefgekühlten Chip von Sycamore.\n",
        "\n",
        "* In jedem dieser Pakete werden schon bei der Erzeugung Quanteneigenschaften der Photonen einer Frequenz mit den Eigenschaften der Photonen in zwei weiteren Frequenzen miteinander verschränkt, so dass alle drei gemeinsame Quanteneigenschaften teilen. Außerdem können die Eigenschaften einer Frequenz aus einem Paket mit den Eigenschaften der gleichen Frequenz im nächsten Paket verschränkt werden, die ihrerseits mit den restlichen Frequenzen des Pakets verschränkt sind.\n",
        "\n",
        "* Auf diese Weise entsteht ein dreidimensionaler Clusterzustand, in dem alles Notwendige zur Fehlerkorrektur schon eingebaut ist. Die Fehlerkorrektur geschieht durch die Verschränkung eines neu erzeugten Lichtpakets mit dem alten, wodurch festgestellten Abweichungen entgegengewirkt wird. Eine Glasfaser kann dadurch wie ein aktiver Arbeitsspeicher benutzt werden, um die Quantenzustände in einem Paket zu erhalten und für spätere Benutzung zu speichern. Andererseits kann die Fehlerkorrektur auch gleich mit der Durchführung einer Rechenoperation verknüpft werden.\n",
        "\n",
        "* Durch das physikalische Prinzip ist das Äquivalent von einer Million Qubits viel einfacher in einem kompakten Computer realisierbar. Mit eindimensionalen Clusterzuständen, die nicht für Computer ausreichen, wurden eine Million Qubits schon vor fünf Jahren demonstriert. Bei den komplizierteren Zuständen sind die Anforderungen höher. Diese Anforderungen zu erreichen, ist die Aufgabe von Psiquantum, wenn sie einen Quantencomputer mit einer Million Qubits erzeugen wollen. Die Entwickler hoffen, das in fünf Jahren erreicht zu haben."
      ]
    },
    {
      "cell_type": "markdown",
      "metadata": {
        "id": "hjLeP2-ARpBj"
      },
      "source": [
        "https://www.golem.de/news/computertechnik-ein-optischer-quantencomputer-fuer-eine-million-qubits-2105-156355.html"
      ]
    },
    {
      "cell_type": "markdown",
      "metadata": {
        "id": "RpYG4CNuRqCq"
      },
      "source": [
        "https://www.heise.de/amp/news/Trumpf-investiert-Millionen-in-Superchips-fuer-Quantencomputer-6194417.html"
      ]
    },
    {
      "cell_type": "markdown",
      "metadata": {
        "id": "kEEhB0XCN8PQ"
      },
      "source": [
        "###### **<font color=\"blue\">Quantum Processors</font>**"
      ]
    },
    {
      "cell_type": "markdown",
      "metadata": {
        "id": "RJhEzDQXN_xX"
      },
      "source": [
        "https://en.m.wikipedia.org/wiki/List_of_quantum_processors"
      ]
    },
    {
      "cell_type": "markdown",
      "metadata": {
        "id": "4a1VaFQxGrU3"
      },
      "source": [
        "###### **<font color=\"blue\">Software Frameworks</font>**"
      ]
    },
    {
      "cell_type": "markdown",
      "metadata": {
        "id": "4NrFnQjaGwF8"
      },
      "source": [
        "https://strawberryfields.ai"
      ]
    },
    {
      "cell_type": "markdown",
      "metadata": {
        "id": "sv_NLwI9Gxzw"
      },
      "source": [
        "https://pennylane.ai"
      ]
    },
    {
      "cell_type": "markdown",
      "metadata": {
        "id": "E7F7W1hYvglE"
      },
      "source": [
        "###### **<font color=\"blue\">Fun Facts**"
      ]
    },
    {
      "cell_type": "markdown",
      "metadata": {
        "id": "_x2bZsQPz0u0"
      },
      "source": [
        "> **The idea of efficiency is essential in quantum computing**"
      ]
    },
    {
      "cell_type": "markdown",
      "metadata": {
        "id": "S34ADGPZobtm"
      },
      "source": [
        "https://www.quantamagazine.org/the-era-of-quantum-computing-is-here-outlook-cloudy-20180124/"
      ]
    },
    {
      "cell_type": "markdown",
      "metadata": {
        "id": "jjT6NNCWSteF"
      },
      "source": [
        "1. **Quantum Computers are not a replacement for classical computers**. \n",
        "\n",
        "  * Because they are not universally faster. They are only faster for special types of calculations where you can use the fact that you have all these quantum super positions available to you at the same time to do some kind of computational parallelism. \n",
        "\n",
        "  * QC are not gonna give you any particular improvement for some document working, watch a video in high definition or browse the internet. At sequential work, classical computers work better. If you need to use a classical algorithm to get the result. \n",
        "\n",
        "  * don't think that with a quantum computer every operation is faster. In fact, they are probably going to be slower than in the computers we have today. But it is a computer (the qc) where the number of operations required to arrive at a result is exponentially small. So the improvement is not in the speed of individual operations but is in the total number of operations you need to arrive at the result.\n",
        "\n",
        "  * But that is only the case in particular types of calculations, particular algorithms. It's not universal."
      ]
    },
    {
      "cell_type": "markdown",
      "metadata": {
        "id": "Kd4UMfSYVT7s"
      },
      "source": [
        "https://csferrie.medium.com/the-stupidest-most-technologically-and-resource-inefficient-way-to-multiply-by-two-fd6d0290f7b6"
      ]
    },
    {
      "cell_type": "markdown",
      "metadata": {
        "id": "m77IbyCQVV0h"
      },
      "source": [
        "https://csferrie.medium.com/heres-why-superposition-and-entanglement-have-nothing-to-do-with-understanding-quantum-computers-b2557ed7b5a2"
      ]
    },
    {
      "cell_type": "markdown",
      "metadata": {
        "id": "RiQzMdJ0wI8U"
      },
      "source": [
        "https://en.m.wikipedia.org/wiki/Quantum_information"
      ]
    },
    {
      "cell_type": "markdown",
      "metadata": {
        "id": "Amhbnl3IzhDi"
      },
      "source": [
        "https://de.m.wikipedia.org/wiki/Quanteninformatik"
      ]
    },
    {
      "cell_type": "markdown",
      "metadata": {
        "id": "tQ3CCoy0zoUt"
      },
      "source": [
        "https://en.m.wikipedia.org/wiki/Quantum_information"
      ]
    },
    {
      "cell_type": "markdown",
      "metadata": {
        "id": "momUr6Asslay"
      },
      "source": [
        "**Quantum Error Correction**"
      ]
    },
    {
      "cell_type": "markdown",
      "metadata": {
        "id": "cjGIj0qkspd5"
      },
      "source": [
        "https://www.quantamagazine.org/how-space-and-time-could-be-a-quantum-error-correcting-code-20190103/"
      ]
    },
    {
      "cell_type": "markdown",
      "metadata": {
        "id": "cAweB1J8MPWM"
      },
      "source": [
        "### **Use Cases / Business View**"
      ]
    },
    {
      "cell_type": "markdown",
      "metadata": {
        "id": "9YRYYxgcbg_z"
      },
      "source": [
        "quantum finance: https://www.sciencedirect.com/science/article/pii/S2405428318300571"
      ]
    },
    {
      "cell_type": "markdown",
      "metadata": {
        "id": "c-wQGPpvet5D"
      },
      "source": [
        "security: https://m-cacm.acm.org/magazines/2021/9/255037-the-complex-path-to-quantum-resistance/fulltext"
      ]
    },
    {
      "cell_type": "markdown",
      "metadata": {
        "id": "WBNCqeXgbyZk"
      },
      "source": [
        "[Hybrid Quantum-Classical Neural Network for classification of images in FashionMNIST dataset](https://medium.com/codex/hybrid-quantum-classical-neural-network-for-classification-of-images-in-fashionmnist-dataset-7274364f7dcd)"
      ]
    },
    {
      "cell_type": "markdown",
      "metadata": {
        "id": "HQpsb02UeIHO"
      },
      "source": [
        "https://phys.org/news/2021-08-ai-algorithm-biology.amp"
      ]
    },
    {
      "cell_type": "markdown",
      "metadata": {
        "id": "ptYfok_VMeZx"
      },
      "source": [
        "###### **<font color=\"blue\">Finance Industry**"
      ]
    },
    {
      "cell_type": "markdown",
      "metadata": {
        "id": "615m6c5tMb_t"
      },
      "source": [
        "**Now is the time to prepare for the quantum computing revolution**\n",
        "\n",
        "Though quantum computing is likely five to 10 years away, waiting until it happens will put your organization behind. Don't play catch-up later.\n",
        "\n",
        "TechRepublic's Karen Roby spoke with Christopher Savoie, CEO and co-founder of Zapata Computing, a quantum application company, about the future of quantum computing. The following is an edited transcript of their conversation.\n",
        "\n",
        "SEE: The CIO's guide to quantum computing (free PDF) (TechRepublic)\n",
        "\n",
        "Christoper Savoie: There are two types of quantum-computing algorithms if you will. There are those that will require what we call a fault-tolerant computing system, one that doesn't have error, for all intents and purposes, that's corrected for error, which is the way most classical computers are now. They don't make errors in their calculations, or at least we hope they don't, not at any significant rate. And eventually we'll have these fault-tolerant quantum computers. People are working on it. We've proven that it can happen already, so that is down the line. **But it's in the five- to 10-year range that it's going to take until we have that hardware available. But that's where a lot of the promises for these exponentially faster algorithms**. So, these are the algorithms that will use these fault-tolerant computers to basically look at all the options available in a combinatorial matrix.\n",
        "\n",
        "So, if you have something like **Monte Carlo simulation**, you can try significantly all the different variables that are possible and look at every possible combination and find the best optimal solution. So, that's really, practically impossible on today's classical computers. You have to choose what variables you're going to use and reduce things and take shortcuts. But with these fault-tolerant computers, for significantly many of the possible solutions in the solution space, we can look at all of the combinations. So, you can imagine almost an infinite amount or an exponential amount of variables that you can try out to see what your best solution is. **In things like CCAR [Comprehensive Capital Analysis and Review], Dodd-Frank [Dodd-Frank Wall Street Reform and Consumer Protection Act] compliance, these things where you have to do these complex simulations, we rely on a Monte Carlo simulation**.\n",
        "\n",
        "So, trying all of the possible scenarios. That's not possible today, but this fault tolerance will allow us to try significantly all of the different combinations, which will hopefully give us the ability to predict the future in a much better way, which is important in these financial applications. But we don't have those computers today. They will be available sometime in the future. I hate putting a date on it, but think about it on the decade time horizon. On the other hand, there are these nearer-term algorithms that run on these noisy, so not error-corrected, noisy intermediate-scale quantum devices. **We call them NISQ for short. And these are more heuristic types of algorithms that are tolerant to noise, much like neural networks are today in classical computing and [artificial intelligence] AI. You can deal a little bit with the sparse data and maybe some error in the data or other areas of your calculation. Because it's an about-type of calculation like neural networks do. It's not looking at the exact answers**, all of them and figuring out which one is definitely the best. This is an approximate algorithm that iterates and tries to get closer and closer to the right answer.\n",
        "\n",
        "SEE: Hiring Kit: Video Game Designer (TechRepublic Premium)\n",
        "\n",
        "But we know that neural networks work this way, deep neural networks. AI, in its current state, uses this type of algorithm, these heuristics. **Most of what we do in computation nowadays and finance is heuristic in its nature and statistical in its nature, and it works good enough to do some really good work. In algorithmic trading, in risk analysis, this is what we use today**. And these quantum versions of that will also be able to give us some advantage and maybe an advantage over—we've been able to show in recent work—the purely classical version of that. So, we'll have some quantum-augmented AI, quantum-augmented [machine learning] ML. We call it a quantum-enhanced ML or quantum-enhanced optimization that we'll be able to do.\n",
        "\n",
        "**So, people think of this as a dichotomy**. We have these NISQ machines, and they're faulty, and then one day we'll wake up and we'll have this fault tolerance, but it's really not that way. **These faulty algorithms, if you will, these heuristics that are about, they will still work and they may work better than the fault-tolerant algorithms for some problems and some datasets, so this really is a gradient**. It really is. You'd have a false sense of solace, maybe two. \"Oh well, if that's 10 years down the road we can just wait and let's wait till we wake up and have fault tolerance.\" **But really the algorithms are going to be progressing. And the things that we develop now will still be useful in that fault-tolerant regime. And the patents will all be good for the stuff that we do now**.\n",
        "\n",
        "So, thinking that, \"OK, this is a 10 year time horizon for those fault-tolerant computers. Our organization is just going to wait.\" Well, if you do, you get a couple of things. You're not going to have the workforce in place to be able to take advantage of this. **You're probably not going to have the infrastructure in place to be able to take advantage of this. And meanwhile, all of your competitors and their vendors have acquired a portfolio of patents on these methodologies that are good for 20 years**. So, if you wait five years from now and there's a patent four years down the line, that's good for 24 years. So there really is, I think, an incentive for organizations to really start working, even in this NISQ, this noisier regime that we're in today.\n",
        "\n",
        "Karen Roby: You get a little false sense of security, as you mentioned, of something, oh, you say that's 10 years down the line, but really with this, you don't have the luxury of catching up if you wait too long. This is something that people need to be focused on now for what is down the road.\n",
        "\n",
        "Christoper Savoie: Yes, absolutely. **And in finance, if you have a better ability to detect risks then than your competitors; you're at a huge advantage to be able to find alpha in the market**. If you can do that better than others, you're going to be at a huge advantage. **And if you're blocked by people's patents or blocked by the fact that your workforce doesn't know how to use these things, you're really behind the eight ball**. And we've seen this time and time again with different technology evolutions and revolutions. With big data and our use of big data, with that infrastructure, with AI and machine learning. The organizations that have waited generally have found themselves behind the eight ball, **and it's really hard to catch up because this stuff is changing daily, weekly, and new inventions are happening. And if you don't have a workforce that's up and running and an infrastructure ready to accept this, it's really hard to catch up with your competitors**.\n",
        "\n",
        "Karen Roby: You've touched on this a little bit, but really for the finance industry, this can be transformative, really significant what quantum computing can do.\n",
        "\n",
        "Christoper Savoie: Absolutely. **At the end of the day, finance is math, and we can do better math and more accurate math on large datasets with quantum computing**. There is no question about that. It's no longer an \"if.\" **Google has, with their experiment, proven that at some point we're going to have a machine that is definitely going to be better at doing math, some types of math, than classical computers**. With that premise, if you're in a field that depends on math, that depends on numbers, which is everything, and statistics, which is finance, no matter what side you're on. **If you're on the risk side or the investing side, you're going to need to have the best tools. And that doesn't mean you have to be an algorithmic trader necessarily, but even looking at tail risk and creating portfolios and this kind of thing. You're dependent on being able to quickly ascertain what that risk is, and computing is the only way to do that**.\n",
        "\n",
        "**And on the regulatory side, I mentioned CCAR. I think as these capabilities emerge, it allows the regulators to ask for even more scenarios to be simulated, those things that are a big headache for a lot of companies. But it's important because our global financial system depends on stability and predictability, and to be able to have a computational resource like quantum that's going to allow us to see more variables or more possibilities or more disaster scenarios.** It can really help. \"What is the effect of, say, a COVID-type event on the global financial system?\" To be more predictive of that and more accurate at doing that is good for everybody. I think all boats rise, and quantum is definitely going to give us that advantage as well.\n",
        "\n",
        "Karen Roby: Most definitely. And Christopher, before I let you go, if you would just give us a quick snapshot of Zapata Computing and the work that you guys do.\n",
        "\n",
        "Christoper Savoie: We have two really important components to try and make this stuff reality. **On the one hand, we've got over 30 of the brightest young minds and algorithms, particularly for these near-term devices and how to write those**. We've written some of the fundamental algorithms that are out there to be used on quantum computers. **On the other hand, how do you make those things work? That's a software engineering thing. That's not really quantum science. How do you make the big data work? And that's all the boring stuff of ETL and data transformation and digitalization and cloud and multicloud and all this boring but very important stuff**. So basically Zapata is a company that has the best of the algorithms, but also best-of-breed means of actually software engineering that in a modern, multicloud environment that particularly finance companies, banks, they're regulated companies with a lot of data that is sensitive and private and proprietary. So, you need to be able to work in a safe and secure multicloud environment, and that's what our software engineering side allows us to do. We have the best of both worlds there.\n",
        "\n",
        "[https://www.techrepublic.com/google-amp/article/expert-now-is-the-time-to-prepare-for-the-quantum-computing-revolution/](https://www.techrepublic.com/google-amp/article/expert-now-is-the-time-to-prepare-for-the-quantum-computing-revolution/)"
      ]
    },
    {
      "cell_type": "markdown",
      "metadata": {
        "id": "7Mizl8v4QPlD"
      },
      "source": [
        "###### **<font color=\"blue\">Security**"
      ]
    },
    {
      "cell_type": "markdown",
      "metadata": {
        "id": "eTRXvQsLNOvR"
      },
      "source": [
        "**IDB, Cambridge Quantum and Tec de Monterrey Develop Blockchain Resistant to Quantum Computing**\n",
        "\n",
        "CAMBRIDGE, England, Aug. 10, 2021 — The Inter-American Development Bank and its innovation laboratory, IDB Lab, together with Cambridge Quantum (CQ) and Tecnológico de Monterrey have identified and resolved potential threats to blockchain networks posed by the advent of quantum computer development. In response to these threats, the project team developed a cryptographic layer that allows blockchain networks to protect themselves from this new generation of computing technologies.\n",
        "\n",
        "Four potential threat areas for blockchain networks have been identified, including communication between network nodes and the integrity of digitally signed transactions. Each threat area relies on cryptography and keys which are vulnerable to attacks by quantum computers and needs to be improved to ensure the security and integrity of blockchain networks.\n",
        "\n",
        "To address these threats, a post-quantum cryptography layer that protects networks and offers resistance to quantum computer attacks was developed on the LACChain Besu blockchain network, based on Ethereum technology. Transactions and communications were protected with quantum-proof keys from CQ’s IronBridge platform, which uses quantum computers to generate certified entropy.\n",
        "\n",
        "“While certain quantum algorithms allow for breaches of digital security protocols, luckily we also have others we can use to strengthen our data protection capabilities,” said Salvador E. Venegas-Andraca Professor-Researcher and Director of the Quantum Information Processing Group of Tecnológico de Monterrey.\n",
        "\n",
        "Duncan Jones, Head of Quantum Cybersecurity at CQ, emphasized that “LACChain blockchain was an ideal target for keys generated by our IronBridge platform. Only keys generated from certified quantum entropy can be resistant to the threat of quantum computing.”\n",
        "\n",
        "Irene Arias Hofman, CEO of BID Lab, said that “in the digital age in which we find ourselves we have at our disposal different emerging technologies with the capacity to solve social problems, and to the extent that we are able to combine them we will achieve an exponential impact. In this case, the knowledge of the IDB team, together with CQ and TEC, in both quantum and blockchain technologies, has made it possible to achieve a fundamental milestone to guarantee the future integrity of LACChain, a blockchain platform created by the IDB Lab which more than 50 entities in the region are using already.”\n",
        "\n",
        "For more information, see the technical note documenting this milestone [here on Arxive](https://arxiv.org/abs/2106.06640). \n",
        "\n",
        "[https://www.hpcwire.com/off-the-wire/idb-cambridge-quantum-and-tec-de-monterrey-develop-blockchain-resistant-to-quantum-computing/](https://www.hpcwire.com/off-the-wire/idb-cambridge-quantum-and-tec-de-monterrey-develop-blockchain-resistant-to-quantum-computing/)"
      ]
    },
    {
      "cell_type": "markdown",
      "metadata": {
        "id": "O5znXLBd8yzo"
      },
      "source": [
        "### **Quantum Machine Learning**"
      ]
    },
    {
      "cell_type": "markdown",
      "metadata": {
        "id": "7JHrrmK1_iXl"
      },
      "source": [
        "###### **<font color=\"blue\">Quantum Kernel Methods (Support Vector etc)</font>**"
      ]
    },
    {
      "cell_type": "markdown",
      "metadata": {
        "id": "-tOQ0Y1YR97t"
      },
      "source": [
        "See paper [Supervised quantum machine learning models are kernel methods](https://arxiv.org/pdf/2101.11020.pdf)"
      ]
    },
    {
      "cell_type": "markdown",
      "metadata": {
        "id": "wDxhld5nB1bw"
      },
      "source": [
        "In the context of quantum computing, quantum kernel methods make use of traditional kernel methods, but use the quantum computer to evaluate part or all of the kernel on the quantum embedding, which has a different geometry than a classical embedding. It was conjectured that a quantum advantage might arise from the quantum embedding, which might be much better suited to a particular problem than any accessible classical geometry."
      ]
    },
    {
      "cell_type": "markdown",
      "metadata": {
        "id": "UB2uz-6EQW3a"
      },
      "source": [
        "The quantum algorithm for linear systems of equations has been applied to a support vector machine, which is an optimized linear or non-linear binary classifier. A support vector machine can be used for supervised machine learning, in which training set of already classified data is available, or unsupervised machine learning, in which all data given to the system is unclassified. Rebentrost et al. show that a quantum support vector machine can be used for big data classification and achieve an exponential speedup over classical computers."
      ]
    },
    {
      "cell_type": "markdown",
      "metadata": {
        "id": "gYyI8jv1LId1"
      },
      "source": [
        "P. Rebentrost, M. Mohseni, and S. Lloyd, Physical review let-\n",
        "ters 113, 130503 (2014), https://arxiv.org/abs/1307.0471v2"
      ]
    },
    {
      "cell_type": "markdown",
      "metadata": {
        "id": "7Ouz4zlY_sTp"
      },
      "source": [
        "https://en.m.wikipedia.org/wiki/Kernel_method"
      ]
    },
    {
      "cell_type": "markdown",
      "metadata": {
        "id": "gGhPqYCMILt4"
      },
      "source": [
        "###### **Quantum KNN & K-Means Clustering**"
      ]
    },
    {
      "cell_type": "markdown",
      "metadata": {
        "id": "WvsHaRdQK58f"
      },
      "source": [
        "E. Aïmeur, G. Brassard, and S. Gambs, Machine Learning 90,\n",
        "261 (2013).\n",
        "\n",
        "S. Lloyd, M. Mohseni, and P. Rebentrost, arXiv preprint\n",
        "arXiv:1307.0411 (2013). https://arxiv.org/pdf/1307.0411.pdf"
      ]
    },
    {
      "cell_type": "markdown",
      "metadata": {
        "id": "g_QkejyPIQ11"
      },
      "source": [
        "https://arxiv.org/pdf/1906.10175.pdf"
      ]
    },
    {
      "cell_type": "markdown",
      "metadata": {
        "id": "mer-EQtZxh37"
      },
      "source": [
        "###### **Quantum Deep Neural Nets**"
      ]
    },
    {
      "cell_type": "markdown",
      "metadata": {
        "id": "0DqanitL_wRZ"
      },
      "source": [
        "https://ai.googleblog.com/2018/12/exploring-quantum-neural-networks.html"
      ]
    },
    {
      "cell_type": "markdown",
      "metadata": {
        "id": "1syNo6dA_zp4"
      },
      "source": [
        "https://en.m.wikipedia.org/wiki/Quantum_neural_network"
      ]
    },
    {
      "cell_type": "markdown",
      "metadata": {
        "id": "sM4oNOMD0-M2"
      },
      "source": [
        "https://tensorflow.google.cn/quantum/tutorials/hello_many_worlds?hl=en"
      ]
    },
    {
      "cell_type": "markdown",
      "metadata": {
        "id": "7MYxdoOc1Agc"
      },
      "source": [
        "https://towardsdatascience.com/quantum-machine-learning-101-1058f24c3487"
      ]
    },
    {
      "cell_type": "markdown",
      "metadata": {
        "id": "tRwo7hsVoXYC"
      },
      "source": [
        "https://ai.googleblog.com/2021/06/achieving-precision-in-quantum-material.html"
      ]
    },
    {
      "cell_type": "markdown",
      "metadata": {
        "id": "Y5YgPcFJIXu_"
      },
      "source": [
        "###### **Preparation & Data in QML**"
      ]
    },
    {
      "cell_type": "markdown",
      "metadata": {
        "id": "LW5Ih1ESHEf1"
      },
      "source": [
        "**Overview**"
      ]
    },
    {
      "cell_type": "markdown",
      "metadata": {
        "id": "hDC4FGBjByjc"
      },
      "source": [
        "In quantum machine learning methods, such as quantum neural networks or quantum kernel methods, a quantum program is often divided into two parts, a quantum embedding of the data (an embedding map for the feature space using a quantum computer), and the evaluation of a function applied to the data embedding. "
      ]
    },
    {
      "cell_type": "markdown",
      "metadata": {
        "id": "N3u2L5Q9d3pb"
      },
      "source": [
        "https://en.m.wikipedia.org/wiki/Quantum_machine_learning"
      ]
    },
    {
      "cell_type": "markdown",
      "metadata": {
        "id": "NLQTexoz_Qaj"
      },
      "source": [
        "https://ai.googleblog.com/2021/06/quantum-machine-learning-and-power-of.html"
      ]
    },
    {
      "cell_type": "markdown",
      "metadata": {
        "id": "_C85El-7-mOW"
      },
      "source": [
        "https://towardsdatascience.com/5-quantum-machine-learning-resources-not-to-miss-8aeff7655604"
      ]
    },
    {
      "cell_type": "markdown",
      "metadata": {
        "id": "04h1F53_GcN6"
      },
      "source": [
        "**SWAP Test**"
      ]
    },
    {
      "cell_type": "markdown",
      "metadata": {
        "id": "DMapPDcRA5pB"
      },
      "source": [
        "https://en.m.wikipedia.org/wiki/Swap_test"
      ]
    },
    {
      "cell_type": "markdown",
      "metadata": {
        "id": "9Os_eYErGkgh"
      },
      "source": [
        "The SWAP-test routine is a simple quantum algorithm expressing scalar product of two input states a and b. This algorithm has been firstly used in. It is necessary to get a lot of measurements to reach correct value of scalar product between two states.\n",
        "\n",
        "SWAP-test can be used to calculate Euclidian distance between vectors in multidimensional space. It is very useful for\n",
        "various classical algorithms."
      ]
    },
    {
      "cell_type": "markdown",
      "metadata": {
        "id": "H5rDCFqdGtRQ"
      },
      "source": [
        "Aumeur, E., Brassard, G. and Gambs, S., \"Machine learning in a quantum world\", Proc. Conference of the Canadian Society for Computational Studies of Intelligence, 431-442 (2006)."
      ]
    },
    {
      "cell_type": "markdown",
      "metadata": {
        "id": "j1NBqc_lG55X"
      },
      "source": [
        "https://arxiv.org/pdf/1906.10175.pdf"
      ]
    },
    {
      "cell_type": "markdown",
      "metadata": {
        "id": "OaXhb986BBXg"
      },
      "source": [
        "**Hadamard Test**"
      ]
    },
    {
      "cell_type": "markdown",
      "metadata": {
        "id": "eyQStir0BEPN"
      },
      "source": [
        "https://en.m.wikipedia.org/wiki/Hadamard_test_(quantum_computation)"
      ]
    },
    {
      "cell_type": "markdown",
      "metadata": {
        "id": "zRNM77RTBRgQ"
      },
      "source": [
        "**Fidelity of quantum states**"
      ]
    },
    {
      "cell_type": "markdown",
      "metadata": {
        "id": "DMAdkICVBWNi"
      },
      "source": [
        "https://en.m.wikipedia.org/wiki/Fidelity_of_quantum_states"
      ]
    },
    {
      "cell_type": "markdown",
      "metadata": {
        "id": "jqJlpX69CHta"
      },
      "source": [
        "https://en.m.wikipedia.org/wiki/POVM"
      ]
    },
    {
      "cell_type": "markdown",
      "metadata": {
        "id": "lx5vFtKbHLO4"
      },
      "source": [
        "**Classical Data Encoding**"
      ]
    },
    {
      "cell_type": "markdown",
      "metadata": {
        "id": "ihzy627tHlhE"
      },
      "source": [
        "The classical d-dimensional vector a is encoded in quantum state as:\n",
        "\n",
        "> $\n",
        "|a\\rangle=\\frac{1}{|a|} \\sum_{i=1}^{d} a_{i}|i\\rangle\n",
        "$\n",
        "\n",
        "where $\\mid$ i $\\rangle$ - quantum state corresponding to binary representation of $i$. Therefore, $d$ -dimensional vector can be translated into $\\log _{2} d$ qubits. The computational complexity of quantum states preparation to calculate scalar product (2) is $O(\\log d)[15]$."
      ]
    },
    {
      "cell_type": "markdown",
      "metadata": {
        "id": "7djiVov0Hw_j"
      },
      "source": [
        "https://arxiv.org/pdf/1906.10175.pdf"
      ]
    },
    {
      "cell_type": "markdown",
      "metadata": {
        "id": "0B9skea2DONK"
      },
      "source": [
        "**Power of data in quantum machine learning**"
      ]
    },
    {
      "cell_type": "markdown",
      "metadata": {
        "id": "qkN6akBqDEmn"
      },
      "source": [
        "> For many quantum problems, classical learning methods were still the best approach."
      ]
    },
    {
      "cell_type": "markdown",
      "metadata": {
        "id": "61EpCd6SDQ7l"
      },
      "source": [
        "https://www.nature.com/articles/s41467-021-22539-9"
      ]
    }
  ]
}