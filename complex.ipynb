{
  "nbformat": 4,
  "nbformat_minor": 0,
  "metadata": {
    "colab": {
      "name": "complex.ipynb",
      "provenance": [],
      "collapsed_sections": [
        "y7OksUkfrCUH",
        "6A1WfmYqHxFw",
        "kDlJ7rtrH1Jk",
        "_QgKCNimH6Sa",
        "Oc36OYMXjGCI",
        "vVa4sBaTvj6U"
      ],
      "include_colab_link": true
    },
    "kernelspec": {
      "name": "python3",
      "display_name": "Python 3"
    }
  },
  "cells": [
    {
      "cell_type": "markdown",
      "metadata": {
        "id": "view-in-github",
        "colab_type": "text"
      },
      "source": [
        "<a href=\"https://colab.research.google.com/github/deltorobarba/machinelearning/blob/master/complex.ipynb\" target=\"_parent\"><img src=\"https://colab.research.google.com/assets/colab-badge.svg\" alt=\"Open In Colab\"/></a>"
      ]
    },
    {
      "cell_type": "markdown",
      "metadata": {
        "id": "HjNmcYpFuFTY"
      },
      "source": [
        "# **Funktionentheorie**"
      ]
    },
    {
      "cell_type": "code",
      "metadata": {
        "id": "RYViK39mt7Nj"
      },
      "source": [
        "import numpy as np\n",
        "import pandas as pd\n",
        "import seaborn as sns\n",
        "import matplotlib.pyplot as plt"
      ],
      "execution_count": null,
      "outputs": []
    },
    {
      "cell_type": "markdown",
      "metadata": {
        "id": "y7OksUkfrCUH"
      },
      "source": [
        "#### **Anwendungen**"
      ]
    },
    {
      "cell_type": "markdown",
      "metadata": {
        "id": "tN-vaCcWrF4t"
      },
      "source": [
        "Die [Funktionentheorie](https://de.wikipedia.org/wiki/Funktionentheorie) befasst sich mit der Theorie differenzierbarer komplexwertiger Funktionen mit komplexen Variablen. Da insbesondere die Funktionentheorie einer komplexen Variablen reichlich Gebrauch von Methoden aus der reellen Analysis macht, nennt man das Teilgebiet auch komplexe Analysis.\n",
        "\n",
        "* Für holomorphe Funktionen gilt, dass Real- und Imaginärteil [harmonische Funktionen](https://de.wikipedia.org/wiki/Harmonische_Funktion) sind, also die [Laplace-Gleichung](https://de.wikipedia.org/wiki/Laplace-Gleichung) erfüllen. Dies verknüpft die Funktionentheorie mit den partiellen Differentialgleichungen, beide Gebiete haben sich regelmäßig gegenseitig beeinflusst.\n",
        "\n",
        "* Das Wegintegral einer holomorphen Funktion ist vom Weg unabhängig. Dies war historisch das erste Beispiel einer Homotopieinvarianz. Aus diesem Aspekt der Funktionentheorie entstanden viele Ideen der algebraischen Topologie, beginnend mit Bernhard Riemann."
      ]
    },
    {
      "cell_type": "markdown",
      "metadata": {
        "id": "6A1WfmYqHxFw"
      },
      "source": [
        "#### **Komplexwertige Funktion**"
      ]
    },
    {
      "cell_type": "markdown",
      "metadata": {
        "id": "99zFAq5kvWQ0"
      },
      "source": [
        "**Komplexe Funktion**"
      ]
    },
    {
      "cell_type": "markdown",
      "metadata": {
        "id": "MdmbwvHZAec-"
      },
      "source": [
        "* Eine [komplexe Funktion](https://de.wikipedia.org/wiki/Funktionentheorie#Komplexe_Funktionen) ordnet einer komplexen Zahl eine weitere [komplexe Zahl](https://de.m.wikipedia.org/wiki/Komplexe_Zahl) zu\n",
        "\n",
        "* Da jede komplexe Zahl durch zwei reelle Zahlen in\n",
        "der Form $x+$ iy geschrieben werden kann, lässt sich eine allgemeine Form einer komplexen Funktion darstellen durch:\n",
        "\n",
        "> $\n",
        "x+i y \\mapsto f(x+i y)=u(x, y)+i v(x, y)\n",
        "$\n",
        "\n",
        "* Dabei sind $u(x, y)$ und $v(x, y)$ reelle Funktionen, die von zwei reellen Variablen $x$ und $y$ abhängen. \n",
        "\n",
        "* $u(x, y)$ heißt der Realteil und $v(x, y)$ der Imaginärteil der Funktion. \n",
        "\n",
        "* **Insofern ist eine komplexe Funktion nichts anderes als eine Abbildung von $\\mathbb{R}^{2}$ nach $\\mathbb{R}^{2}$ (also eine Abbildung, die zwei reellen Zahlen wieder zwei reelle Zahlen zuordnet).** \n",
        "\n",
        "* **Tatsächlich könnte man die Funktionentheorie auch mit Methoden der reellen Analysis aufbauen.**\n",
        "\n",
        "* Der Unterschied zur reellen Analysis wird erst deutlicher, wenn man **komplex-differenzierbare Funktionen** betrachtet und dabei die <u>**multiplikative Struktur des Körpers der komplexen Zahlen**</u> ins Spiel bringt, die dem Vektorraum $\\mathbb{R}^{2}$ fehlt. \n",
        "\n",
        "* Wie auch bei reellwertigen und reellen Funktionen ist die Verwendung des Begriffes einer komplexen Funktion in der Literatur aber nicht eindeutig. Teilweise wird er synonym mit einer komplexwertigen Funktion verwendet, teilweise wird er auch nur für komplexwertige Funktionen einer komplexen Variablen verwendet, also Funktionen\n",
        "\n",
        "> $\n",
        "f: D \\rightarrow \\mathbb{C}\n",
        "$\n",
        "\n",
        "bei denen $D \\subseteq \\mathbb{C}$ ist.\n"
      ]
    },
    {
      "cell_type": "markdown",
      "metadata": {
        "id": "jcE_zsb3Cbg1"
      },
      "source": [
        "**Komplexwertige Funktion**"
      ]
    },
    {
      "cell_type": "markdown",
      "metadata": {
        "id": "TDS2jqpHCZov"
      },
      "source": [
        "* Eine [komplexwertige Funktion](https://de.wikipedia.org/wiki/Komplexwertige_Funktion) ist eine Funktion, deren Funktionswerte komplexe Zahlen sind\n",
        "\n",
        "* Eng damit verwandt ist der Begriff der **komplexen Funktion**, der in der Literatur aber nicht eindeutig verwendet wird\n",
        "\n",
        "* Komplexwertige Funktionen werden in der Analysis und in der Funktionentheorie untersucht und haben vielfältige Anwendungen wie zum Beispiel in der Physik und der Elektrotechnik, wo sie beispielsweise zur Beschreibung von Schwingungen dienen.\n",
        "\n",
        "* Eine komplexwertige Funktion ist eine Funktion\n",
        "$f: D \\rightarrow \\mathbb{C}$ bei der die Zielmenge die Menge der komplexen Zahlen ist. \n",
        "\n",
        "* **An die Definitionsmenge $D$ sind keine Anforderungen gestellt**.\n",
        "\n",
        "* **Aufgrund der Einbettung der reellen Zahlen in die komplexen Zahlen lassen sich alle reellwertigen Funktionen auch als komplexwertige Funktionen auffassen.**"
      ]
    },
    {
      "cell_type": "markdown",
      "metadata": {
        "id": "ayG-ecLwEAZI"
      },
      "source": [
        "**Beispiele komplexwertige Funktionen**"
      ]
    },
    {
      "cell_type": "markdown",
      "metadata": {
        "id": "kPI6QTKfEKXh"
      },
      "source": [
        "* Die Funktion $f: \\mathbb{R} \\rightarrow \\mathbb{C}$ definiert durch $f(x)= \\mathrm{e}^{\\mathrm{i} x}=\\cos (x)+\\mathrm{i} \\sin (x)$ ist eine komplexwertige Funktion einer reellen Variable, und zwar die [Eulersche Formel](https://de.wikipedia.org/wiki/Eulersche_Formel) "
      ]
    },
    {
      "cell_type": "markdown",
      "metadata": {
        "id": "kDlJ7rtrH1Jk"
      },
      "source": [
        "#### **Holomorphe & meromorphe Funktion**"
      ]
    },
    {
      "cell_type": "markdown",
      "metadata": {
        "id": "15PRPrWyirIy"
      },
      "source": [
        "https://home.mathematik.uni-freiburg.de/ziegler/skripte/funktion.total.pdf"
      ]
    },
    {
      "cell_type": "markdown",
      "metadata": {
        "id": "7EJZSgXRNcuH"
      },
      "source": [
        "**Holomorphe Funktion**"
      ]
    },
    {
      "cell_type": "markdown",
      "metadata": {
        "id": "YPpqu4CjYvL7"
      },
      "source": [
        "* Holomorphie ist eine Eigenschaft von bestimmten komplexwertigen Funktionen\n",
        "\n",
        "* [Holomorphe Funktionen](https://de.wikipedia.org/wiki/Holomorphe_Funktion) sind **an jedem Punkt komplex differenzierbar**. \n",
        "\n",
        "* Eine Funktion $f\\colon U\\to {\\mathbb  {C}}$ mit einer offenen Menge $ U\\subseteq \\mathbb {C}$ heißt holomorph, falls sie in jedem Punkt von $U$ komplex differenzierbar ist.\n",
        "\n",
        "* Holomorphie eine sehr starke Eigenschaft ist, die im Reellen kein Pendant besitzen (z.B. ist jede holomorphe Funktion beliebig oft (stetig) differenzierbar und lässt sich lokal in jedem Punkt in eine Potenzreihe entwickeln.)"
      ]
    },
    {
      "cell_type": "markdown",
      "metadata": {
        "id": "YaIeo8ZJN1D1"
      },
      "source": [
        "Es sei $U \\subseteq \\mathbb{C}$ eine offene Teilmenge der komplexen Ebene und $z_{0} \\in U$ ein Punkt dieser Teilmenge. Eine Funktion $f: U \\rightarrow \\mathbb{C}$ heißt komplex differenzierbar im Punkt $z_{0}$, falls der Grenzwert\n",
        "\n",
        ">$\n",
        "\\lim _{h \\rightarrow 0} \\frac{f\\left(z_{0}+h\\right)-f\\left(z_{0}\\right)}{h}\n",
        "$\n",
        "\n",
        "existiert. Man bezeichnet ihn dann als $f^{\\prime}\\left(z_{0}\\right)$.\n",
        "\n",
        "Die Funktion $f$ heißt holomorph im Punkt $z_{0}$, falls eine Umgebung von $z_{0}$ existiert, in der $f$ komplex differenzierbar ist. Ist $f$ auf ganz $U$ holomorph, so nennt man $f$ holomorph. \n",
        "\n",
        "**Ist weiter $U=\\mathbb{C},$ so nennt man $f$ eine <u>ganze Funktion</u>**.\n"
      ]
    },
    {
      "cell_type": "markdown",
      "metadata": {
        "id": "tGW5pRBeTmdM"
      },
      "source": [
        "**Cauchy-Riemannsche Differentialgleichungen**"
      ]
    },
    {
      "cell_type": "markdown",
      "metadata": {
        "id": "7StjTRqJOsq4"
      },
      "source": [
        "* Siehe [Cauchy-Riemannsche Differentialgleichungen](https://de.wikipedia.org/wiki/Cauchy-Riemannsche_partielle_Differentialgleichungen) - Mit einer Einleitung [hier](https://de.wikipedia.org/wiki/Holomorphe_Funktion#Cauchy-Riemannsche_Differentialgleichungen). \n",
        "\n",
        "* Zerlegt man eine Funktion $f(x+i y)=u(x, y)+i v(x, y)$ in ihren Real-und Imaginärteil mit reellen Funktionen $u, v,$ so hat die totale Ableitung $L$ als Darstellungsmatrix die **Jacobi-Matrix**\n",
        "\n",
        ">$\n",
        "\\left(\\begin{array}{ll}\n",
        "\\frac{\\partial u}{\\partial x} & \\frac{\\partial u}{\\partial y} \\\\\n",
        "\\frac{\\partial v}{\\partial x} & \\frac{\\partial v}{\\partial y}\n",
        "\\end{array}\\right)\n",
        "$\n",
        "\n",
        "Folglich ist die Funktion $f$ genau dann komplex differenzierbar, wenn sie reell differenzierbar ist und für $u, v$ die Cauchy-Riemannschen Differentialgleichungen\n",
        "\n",
        ">$\n",
        "\\begin{array}{l}\n",
        "\\frac{\\partial u}{\\partial x}=\\frac{\\partial v}{\\partial y} \\\\\n",
        "\\frac{\\partial u}{\\partial y}=-\\frac{\\partial v}{\\partial x}\n",
        "\\end{array}\n",
        "$\n",
        "\n",
        "erfüllt sind."
      ]
    },
    {
      "cell_type": "markdown",
      "metadata": {
        "id": "Kdjw2S8ApIbE"
      },
      "source": [
        "[Jacobi-Matrix einer holomorphen Funktion](https://de.wikipedia.org/wiki/Jacobi-Matrix#Jacobi-Matrix_einer_holomorphen_Funktion)\n",
        "\n",
        "* Matrix partieller Ableitungen einer komplexen Funktion"
      ]
    },
    {
      "cell_type": "markdown",
      "metadata": {
        "id": "SQVyBafHPTUq"
      },
      "source": [
        "**Biholomorphe Funktionen**"
      ]
    },
    {
      "cell_type": "markdown",
      "metadata": {
        "id": "4VeegSuMPXcu"
      },
      "source": [
        "* Eine Funktion, die holomorph, bijektiv und deren Umkehrfunktion holomorph ist, nennt man [biholomorph](https://de.wikipedia.org/wiki/Biholomorphe_Abbildung). \n",
        "\n",
        "* Im Fall einer komplexen Veränderlichen ist das äquivalent dazu, dass die Abbildung bijektiv und konform ist. \n",
        "* Aus Sicht der Kategorientheorie ist eine biholomorphe Abbildung ein Isomorphismus."
      ]
    },
    {
      "cell_type": "markdown",
      "metadata": {
        "id": "LTzOYMmJW-C9"
      },
      "source": [
        "**Analytische Funktion (=holomorph)**"
      ]
    },
    {
      "cell_type": "markdown",
      "metadata": {
        "id": "kXNafAzsW_vP"
      },
      "source": [
        "* Als [analytische Funktion](https://de.wikipedia.org/wiki/Analytische_Funktion) bezeichnet man eine Funktion, die lokal durch eine **konvergente Potenzreihe** gegeben ist.\n",
        "\n",
        "* Aufgrund der Unterschiede zwischen reeller und komplexer Analysis spricht man zur Verdeutlichung oft auch explizit von reell-analytischen oder komplex-analytischen Funktionen. \n",
        "\n",
        "* **Im Komplexen sind die Eigenschaften analytisch und holomorph äquivalent.**\n",
        "\n",
        "* **Ist eine Funktion in der gesamten komplexen Ebene definiert und analytisch, nennt man sie ganz.**\n"
      ]
    },
    {
      "cell_type": "markdown",
      "metadata": {
        "id": "R5YwRn5kXhgN"
      },
      "source": [
        "Es sei $\\mathbb{K}=\\mathbb{R}$ oder $\\mathbb{K}=\\mathbb{C} .$ Es sei $D \\subseteq \\mathbb{K}$ eine offene Teilmenge. Eine Funktion $f: D \\rightarrow \\mathbb{K}$ heißt analytisch im Punkt $x_{0} \\in D,$ wenn es eine **Potenzreihe**\n",
        "\n",
        ">$\n",
        "\\sum_{n=0}^{\\infty} a_{n}\\left(x-x_{0}\\right)^{n}\n",
        "$\n",
        "\n",
        "gibt, die auf einer Umgebung von $x_{0}$ gegen $f(x)$ konvergiert. Ist $f$ in jedem Punkt von $D$ analytisch, so heißt $f$ analytisch.\n",
        "\n",
        "Viele gängige Funktionen der reellen Analysis wie beispielsweise Polynome, Exponential- und Logarithmusfunktionen, trigonometrische Funktionen und rationale Ausdrücke in diesen Funktionen sind analytisch. "
      ]
    },
    {
      "cell_type": "markdown",
      "metadata": {
        "id": "izCWb7MLMDht"
      },
      "source": [
        "**Ganze Funktion**"
      ]
    },
    {
      "cell_type": "markdown",
      "metadata": {
        "id": "8GiFSM9LMFFp"
      },
      "source": [
        "* In der Funktionentheorie ist eine [ganze Funktion](https://de.wikipedia.org/wiki/Ganze_Funktion) eine Funktion, **die in der gesamten komplexen Zahleneben**e $\\mathbb {C}$  holomorph (also analytisch) ist. \n",
        "\n",
        "* an entire function, also called an integral function, is a complex-valued function that is holomorphic at all finite points over the whole complex plane. \n",
        "\n",
        "* **Every entire function f(z) can be represented as a power series**\n",
        "\n",
        "* Typische Beispiele ganzer Funktionen sind Polynome oder die **Exponentialfunktion** sowie Summen, Produkte und Verknüpfungen davon, etwa die **trigonometrischen Funktionen** und die **Hyperbelfunktionen**.\n",
        "\n",
        "* Jede ganze Funktion kann als eine überall konvergierende Potenzreihe um ein beliebiges Zentrum dargestellt werden. Weder der Logarithmus noch die Wurzelfunktion sind ganz.\n",
        "\n",
        "* Eine ganze Funktion kann eine **isolierte Singularität**, insbesondere sogar eine wesentliche Singularität im komplexen Punkt im Unendlichen (und nur da) besitzen."
      ]
    },
    {
      "cell_type": "markdown",
      "metadata": {
        "id": "KfgjvFmLNIqE"
      },
      "source": [
        "**Beispiele**\n",
        "\n",
        "* der Kehrwert der Gammafunktion $1 / \\Gamma(z)$ \n",
        "\n",
        "* die Fehlerfunktion $\\operatorname{erf}(z)$ \n",
        "\n",
        "* der Integralsinus $\\operatorname{Si}(z)$ \n",
        "\n",
        "* die Airy-Funktionen $\\operatorname{Ai}(z)$ und $\\operatorname{Bi}(z)$ \n",
        "\n",
        "* die Fresnelschen Integrale $S(z)$ und $C(z)$ \n",
        "\n",
        "* die Riemannsche Xi-Funktion $\\xi(z)$ \n",
        "\n",
        "* die Besselfunktionen erster Art $J_{n}(z)$ für ganzzahlige $n$ \n",
        "\n",
        "* die Struve-Funktionen $H_{n}(z)$ für ganzzahlige $n>-2$"
      ]
    },
    {
      "cell_type": "markdown",
      "metadata": {
        "id": "3-8kuLxEMXKT"
      },
      "source": [
        "*Die Airy-Funktion $ \\operatorname {Bi} (x+iy)$ (hier der Realteil) ist eine ganze Funktion.*\n",
        "\n",
        "![gg](https://upload.wikimedia.org/wikipedia/commons/9/98/AiryBi_Real_Surface.png)"
      ]
    },
    {
      "cell_type": "markdown",
      "metadata": {
        "id": "Glmu9FngKNv6"
      },
      "source": [
        "**Potenzreihe**"
      ]
    },
    {
      "cell_type": "markdown",
      "metadata": {
        "id": "WHmZPiENUx-L"
      },
      "source": [
        "https://www.youtube.com/watch?v=CeEfXWalXeU"
      ]
    },
    {
      "cell_type": "markdown",
      "metadata": {
        "id": "z634qYWILLmN"
      },
      "source": [
        "Unter einer [Potenzreihe](https://de.wikipedia.org/wiki/Potenzreihe) $P(x)$ versteht man in der Analysis eine unendliche Reihe der Form\n",
        "\n",
        ">$\n",
        "P(x)=\\sum_{n=0}^{\\infty} a_{n}\\left(x-x_{0}\\right)^{n}\n",
        "$\n",
        "\n",
        "mit einer beliebigen Folge $\\left(a_{n}\\right)_{n \\in \\mathbb{N}_{0}}$ reeller oder komplexer Zahlen\n",
        "dem Entwicklungspunkt $x_{0}$ der Potenzreihe.\n",
        "\n",
        "Potenzreihen spielen eine wichtige Rolle in der Funktionentheorie und **erlauben oft eine sinnvolle Fortsetzung reeller Funktionen in die komplexe Zahlenebene**. Insbesondere stellt sich die Frage, für welche reellen oder komplexen Zahlen eine Potenzreihe konvergiert. Diese Frage führt zum Begriff des [Konvergenzradius](https://de.wikipedia.org/wiki/Konvergenzradius)."
      ]
    },
    {
      "cell_type": "markdown",
      "metadata": {
        "id": "HCXhbAt9Ut9y"
      },
      "source": [
        "Youtube: Konvergenzradius https://www.youtube.com/watch?v=wSfLtkb-ORY"
      ]
    },
    {
      "cell_type": "markdown",
      "metadata": {
        "id": "ma4ElMlYKVwk"
      },
      "source": [
        "* Jede Polynomfunktion lässt sich als Potenzreihe auffassen, bei der fast alle Koeffizienten $a_{n}$ gleich 0 sind. \n",
        "\n",
        "* Wichtige andere Beispiele sind **Taylorreihe** und **Maclaurinsche Reihe**. \n",
        "\n",
        "* Funktionen, die sich durch eine Potenzreihe darstellen lassen, werden auch [analytische Funktionen](https://de.wikipedia.org/wiki/Analytische_Funktion) genannt. \n",
        "\n",
        "Beispielhaft die Potenzreihendarstellung einiger bekannter Funktionen:\n",
        "\n",
        "* **Exponentialfunktion**: $e^{x}=\\exp (x)=\\sum_{n=0}^{\\infty} \\frac{x^{n}}{n !}=\\frac{x^{0}}{0 !}+\\frac{x^{1}}{1 !}+\\frac{x^{2}}{2 !}+\\frac{x^{3}}{3 !}+\\cdots$ für alle\n",
        "$x \\in \\mathbb{R},$ d. h., der Konvergenzradius ist unendlich. \n",
        "\n",
        "* **Sinus**: $\\sin (x)=\\sum_{n=0}^{\\infty}(-1)^{n} \\frac{x^{2 n+1}}{(2 n+1) !}=\\frac{x}{1 !}-\\frac{x^{3}}{3 !}+\\frac{x^{5}}{5 !} \\mp \\cdots$\n",
        "\n",
        "* **Kosinus**: $\\cos (x)=\\sum_{n=0}^{\\infty}(-1)^{n} \\frac{x^{2 n}}{(2 n) !}=\\frac{x^{0}}{0 !}-\\frac{x^{2}}{2 !}+\\frac{x^{4}}{4 !} \\mp \\cdots$"
      ]
    },
    {
      "cell_type": "markdown",
      "metadata": {
        "id": "_N1e5DmRoyZm"
      },
      "source": [
        "**Laurent-Reihe**"
      ]
    },
    {
      "cell_type": "markdown",
      "metadata": {
        "id": "6Era7KDwoxIS"
      },
      "source": [
        "**Exkurs**: Die Laurent-Reihe ist eine **unendliche Reihe ähnlich einer Potenzreihe**, aber zusätzlich **mit negativen Exponenten**. Allgemein hat eine Laurent-Reihe in $x$ mit Entwicklungspunkt $c$ diese Gestalt (Dabei sind die $a_{n}$ und $c$ meist komplexe Zahlen):\n",
        "\n",
        ">$\n",
        "f(x)=\\sum_{n=-\\infty}^{\\infty} a_{n}(x-c)^{n}\n",
        "$\n",
        "\n",
        "Es sei $D$ eine nichtleere offene Teilmenge der Menge $\\mathbb{C}$ der komplexen Zahlen und $P_{f}$ eine weitere Teilmenge von $\\mathbb{C}$, die nur aus isolierten Punkten besteht. Eine Funktion $f$ heißt meromorph, wenn sie für Werte aus $D \\backslash P_{f}$ definiert und holomorph ist und für Werte aus $P_{f}$ Pole hat. $P_{f}$ wird als Polstellenmenge von $f$ bezeichnet.\n",
        "\n",
        "* Zerlegung einer komplex differenzierbaren Funktion"
      ]
    },
    {
      "cell_type": "markdown",
      "metadata": {
        "id": "Ji-KdqErueSE"
      },
      "source": [
        "**Meromorphe Funktion**"
      ]
    },
    {
      "cell_type": "markdown",
      "metadata": {
        "id": "1i4Q4vb9RlIR"
      },
      "source": [
        "* Meromorphie ist eine Eigenschaft von bestimmten komplexwertigen Funktionen\n",
        "\n",
        "* Für viele Fragestellungen der Funktionentheorie ist der **Begriff der holomorphen Funktion zu speziell**. \n",
        "\n",
        "* Dies liegt daran, dass der Kehrwert $\\frac{1}{f}$ einer holomorphen Funktion $f$ an einer Nullstelle von $f$ eine Definitionslücke hat und somit $\\frac{1}{f}$ dort auch **nicht komplex differenzierbar ist**. \n",
        "\n",
        "* Man führt daher den allgemeineren Begriff der [meromorphen Funktion](https://de.wikipedia.org/wiki/Meromorphe_Funktion) ein, die auch **isolierte Polstellen** besitzen kann.\n",
        "\n",
        "* Meromorphe Funktionen lassen sich lokal als [Laurentreihen](https://de.wikipedia.org/wiki/Laurent-Reihe) mit abbrechendem Hauptteil darstellen. Ist $U$ ein Gebiet von $\\mathbb{C},$ so bildet die Menge der auf $U$ meromorphen Funktionen einen Körper.\n",
        "\n",
        "* Alle holomorphen Funktionen sind auch meromorph, da ihre Polstellenmenge leer ist.\n",
        "\n",
        "Zum Beispiel ist die Gamma-Funktion meromorph, weil sie holomorph ist auf $\\mathbb{C}$, abgesehen von abzahlbar vielen nicht-hebbaren Singularitaeten (hierbei in allen negativen ganzen Zahlen, da der Definitionsbereich einer Gammafunktion $\\mathbb{C}$  \\ -$\\mathbb{N}$ <sub>0</sub> ist).\n",
        "\n",
        "Beispiele:\n",
        "\n",
        "* [Gamma Funktion](https://en.wikipedia.org/wiki/Gamma_function)\n",
        "\n",
        "* [Elliptische Funktion](https://de.wikipedia.org/wiki/Elliptische_Funktion)"
      ]
    },
    {
      "cell_type": "markdown",
      "metadata": {
        "id": "mpQpsaJhntsj"
      },
      "source": [
        "https://www.youtube.com/watch?v=NdVHBO3nCCM"
      ]
    },
    {
      "cell_type": "markdown",
      "metadata": {
        "id": "_QgKCNimH6Sa"
      },
      "source": [
        "#### **Singularität & Polstelle**"
      ]
    },
    {
      "cell_type": "markdown",
      "metadata": {
        "id": "OjZAY8WRubkK"
      },
      "source": [
        "**Isolierte Singularität**"
      ]
    },
    {
      "cell_type": "markdown",
      "metadata": {
        "id": "wx-597ruaSQx"
      },
      "source": [
        "https://www.youtube.com/watch?v=UC_ZTbDVWTM"
      ]
    },
    {
      "cell_type": "markdown",
      "metadata": {
        "id": "ej4umwH7Tb5m"
      },
      "source": [
        "* [Isolierte Singularitäten](https://de.wikipedia.org/wiki/Isolierte_Singularität) sind besondere [**isolierte Punkte**](https://de.wikipedia.org/wiki/Isolierter_Punkt) in der Quellmenge einer holomorphen Funktion. \n",
        "\n",
        "* Man unterscheidet bei isolierten Singularitäten zwischen **hebbaren Singularitäten**, **Polstellen** und **wesentlichen Singularitäten**.\n",
        "\n",
        "* Es sei $\\Omega \\subseteq \\mathbb{C}$ eine offene Teilmenge, $z_{0} \\in \\Omega$. Ferner sei $f: \\Omega \\backslash\\left\\{z_{0}\\right\\} \\rightarrow \\mathbb{C}$ eine holomorphe komplexwertige Funktion. Dann heißt $z_{0}$ isolierte Singularität von $f$."
      ]
    },
    {
      "cell_type": "markdown",
      "metadata": {
        "id": "uuAgJBUpT0Oo"
      },
      "source": [
        "**Klasse 1: Hebbare Singularität (Definitionslücke)**"
      ]
    },
    {
      "cell_type": "markdown",
      "metadata": {
        "id": "6rOVJ5i3U_Ln"
      },
      "source": [
        "* Der Punkt $z_{0}$ heißt [hebbare Singularität](https://de.wikipedia.org/wiki/Definitionslücke), wenn $f$ auf $\\Omega$ holomorph fortsetzbar ist. \n",
        "\n",
        "* Hat Grenzwert in Form von einer Zahl bzw. nach dem riemannschen Hebbarkeitssatz, wenn $f$ in einer Umgebung von $z_{0}$ beschränkt ist.\n",
        "\n",
        "> $\\lim _{z \\rightarrow z_{0}} f(z)=c$\n",
        "\n",
        "> $f(z)$ beschrankt in $U\\left(z_{0}\\right)$"
      ]
    },
    {
      "cell_type": "markdown",
      "metadata": {
        "id": "wAm2tWA_vART"
      },
      "source": [
        "**Klasse 2: Polstelle**"
      ]
    },
    {
      "cell_type": "markdown",
      "metadata": {
        "id": "8wykSXcsVCAo"
      },
      "source": [
        "* im Prinzip das gleiche wie bei hebbaren Singularitaten, aber mit dem Unterschied, dass die Funktion nah an der Singularitat unbeschraenkt ist = also ins unendliche geht $\\lim _{z \\rightarrow z_{0}}|f(z)|=\\infty$\n",
        "\n",
        "Alternative Definition:\n",
        "\n",
        "> $\\lim _{z \\rightarrow z_{0}} f(z) \\cdot\\left(z-z_{0}\\right)^{k}=c \\neq 0(k \\geqslant 1)$\n",
        "\n",
        "Man multipliziert an den unendlichen Funktionswert immer oefter eine fast Null in Form des Polynoms $\\left(z-z_{0}\\right)^{k}$, bis man eine endliche komplexe Zahl als Grenzwert hat, und nicht mehr unendlich (aber nicht Null). Die Anzahl der Polynome k multipliziert mit dem Funktionswert ist der Grad / Ordnung der Polstelle.\n",
        "\n",
        "* Der Punkt $z_{0}$ heißt [Polstelle](https://de.wikipedia.org/wiki/Polstelle) oder $P o l$, wenn \n",
        "\n",
        "  * $z_{0}$ **keine hebbare Singularität ist** und \n",
        "  * es eine natürliche $\\operatorname{Zahl} k$ gibt, sodass $\\left(z-z_{0}\\right)^{k} \\cdot f(z)$ **eine hebbare Singularität bei $z_{0}$ hat**. \n",
        "\n",
        "* Ist das $k$ minimal gewählt, dann sagt man $f$ habe in $z_{0}$ einen Pol $k$ -ter Ordnung.\n",
        "\n",
        "* Man bezeichnet eine einpunktige Definitionslücke einer Funktion als Polstelle oder auch kürzer als Pol, wenn die Funktionswerte in jeder Umgebung des Punktes (betragsmäßig) beliebig groß werden.\n",
        "\n",
        "* Damit gehören die Polstellen zu den isolierten Singularitäten. \n",
        "\n",
        "* Das Besondere an Polstellen ist, dass sich die Punkte in einer Umgebung **nicht chaotisch verhalten, sondern in einem gewissen Sinne gleichmäßig gegen unendlich streben**. Deshalb können dort Grenzwertbetrachtungen durchgeführt werden.\n",
        "\n",
        "* Generell spricht man nur bei [glatten](https://de.wikipedia.org/wiki/Glatte_Funktion) (stetig & differenzierbar) oder [analytischen Funktionen](https://de.wikipedia.org/wiki/Analytische_Funktion) von Polen. "
      ]
    },
    {
      "cell_type": "markdown",
      "metadata": {
        "id": "5I61uFSlYqw-"
      },
      "source": [
        "*Fur reelle Funktionen: f(x)=1/x hat einen Pol erster Ordnung an der Stelle x=0**\n",
        "\n",
        "![gg](https://upload.wikimedia.org/wikipedia/commons/9/90/GraphKehrwertfunktion.png)"
      ]
    },
    {
      "cell_type": "markdown",
      "metadata": {
        "id": "pk3Y078XWH2E"
      },
      "source": [
        "*Der Absolutwert der Gammafunktion geht nach Unendlich an den Polstellen (links). Rechts hat sie keine Polstellen und steigt nur schnell an.*\n",
        "\n",
        "*The [gamma function](https://en.wikipedia.org/wiki/Gamma_function) is meromorphic in the whole complex plane.*\n",
        "\n",
        "![ff](https://upload.wikimedia.org/wikipedia/commons/3/33/Gamma_abs_3D.png)"
      ]
    },
    {
      "cell_type": "markdown",
      "metadata": {
        "id": "zDM4NxaKU6oj"
      },
      "source": [
        "**Klasse 3: Wesentliche Singularität**"
      ]
    },
    {
      "cell_type": "markdown",
      "metadata": {
        "id": "IsNpaYyHVD4o"
      },
      "source": [
        "* nicht hebbar und keine Polstelle, dann heißt $z_{0}$ eine wesentliche Singularität von $f$\n",
        "\n",
        "* zum Beispiel fur $f(z)=e^{-\\frac{1}{z}}, z_{0}=0$, eine Funktion die von links ins unendliche strebt, und von rechts nach Null\n",
        "  * keine hebbare Singularitaet, weil zwei verschiedene Grenzwerte existieren und eine davon nicht endlich ist.\n",
        "  * keine Polstelle, weil ein Grenzwert gleich Null ist (muss aber unbeschraenkt sein bei Polstellen)"
      ]
    },
    {
      "cell_type": "markdown",
      "metadata": {
        "id": "L0cgjDPMVmko"
      },
      "source": [
        "*Plot der Funktion $\\exp(1/z)$. Sie hat im Nullpunkt eine wesentliche Singularität (Bildmitte). Der Farbton entspricht dem komplexen Argument des Funktionswertes, während die Helligkeit seinen Betrag darstellt. Hier sieht man, dass sich die wesentliche Singularität unterschiedlich verhält, je nachdem, wie man sich ihr nähert (im Gegensatz dazu wäre ein Pol gleichmäßig weiß).*\n",
        "\n",
        "![ff](https://upload.wikimedia.org/wikipedia/commons/0/0b/Essential_singularity.png)"
      ]
    },
    {
      "cell_type": "markdown",
      "metadata": {
        "id": "Oc36OYMXjGCI"
      },
      "source": [
        "#### **Cauchysche Integralformel & Integralsatz**"
      ]
    },
    {
      "cell_type": "markdown",
      "metadata": {
        "id": "WqNGqIe3p8jh"
      },
      "source": [
        "**Cauchysche Integralformel**"
      ]
    },
    {
      "cell_type": "markdown",
      "metadata": {
        "id": "BPSHsrLNpJDv"
      },
      "source": [
        "* Die [cauchysche Integralformel](https://de.wikipedia.org/wiki/Cauchysche_Integralformel) ist eine der fundamentalen Aussagen der Funktionentheorie, eines Teilgebietes der Mathematik. \n",
        "\n",
        "* Sie besagt in ihrer schwächsten Form, dass die Werte einer holomorphen Funktion $f$ im Inneren einer Kreisscheibe bereits durch ihre Werte auf dem Rand dieser Kreisscheibe bestimmt sind.\n",
        "\n",
        "* Eine starke Verallgemeinerung davon ist der Residuensatz."
      ]
    },
    {
      "cell_type": "markdown",
      "metadata": {
        "id": "IV1pfCzHqCvk"
      },
      "source": [
        "**Residuensatz**"
      ]
    },
    {
      "cell_type": "markdown",
      "metadata": {
        "id": "lVLX7lrIqBtX"
      },
      "source": [
        "* Der [Residuensatz](https://de.wikipedia.org/wiki/Residuensatz) ist ein wichtiger Satz der Funktionentheorie. Er stellt eine **Verallgemeinerung des cauchyschen Integralsatzes und der cauchyschen Integralformel** dar. Seine Bedeutung liegt nicht nur in den weitreichenden Folgen innerhalb der Funktionentheorie, sondern auch in der Berechnung von Integralen über reelle Funktionen.\n",
        "\n",
        "* Er besagt, dass das Kurvenintegral längs einer geschlossenen Kurve über eine bis auf isolierte Singularitäten holomorphe Funktion lediglich vom Residuum in den Singularitäten im Innern der Kurve und der Umlaufzahl der Kurve um diese Singularitäten abhängt. Anstelle eines Kurvenintegrals muss man also nur Residuen und Umlaufzahlen berechnen, was in vielen Fällen einfacher ist."
      ]
    },
    {
      "cell_type": "markdown",
      "metadata": {
        "id": "7fDF9pi7qE2D"
      },
      "source": [
        "**Cauchyscher Integralsatz**"
      ]
    },
    {
      "cell_type": "markdown",
      "metadata": {
        "id": "ivq0YtFjjOPz"
      },
      "source": [
        "* Der [cauchysche Integralsatz](https://de.wikipedia.org/wiki/Cauchyscher_Integralsatz)  ist einer der wichtigsten Sätze der Funktionentheorie. \n",
        "\n",
        "* Er handelt von Kurvenintegralen für holomorphe (auf einer offenen Menge komplex-differenzierbare) Funktionen. \n",
        "\n",
        "* Im Kern besagt er, dass zwei dieselben Punkte verbindende Wege das gleiche Wegintegral besitzen, falls die Funktion überall zwischen den zwei Wegen holomorph ist. \n",
        "\n",
        "* Der Satz gewinnt seine Bedeutung unter anderem daraus, dass man ihn zum Beweis der cauchyschen Integralformel und des Residuensatzes benutzt.\n",
        "\n"
      ]
    },
    {
      "cell_type": "markdown",
      "metadata": {
        "id": "vVa4sBaTvj6U"
      },
      "source": [
        "#### **Komplexe Geometrie / Mannigfaltigkeit**"
      ]
    },
    {
      "cell_type": "markdown",
      "metadata": {
        "id": "XsBA8JfTq1-t"
      },
      "source": [
        "**Komplexe Mannigfaltigkeit**"
      ]
    },
    {
      "cell_type": "markdown",
      "metadata": {
        "id": "jHnY-neXsG_j"
      },
      "source": [
        "* [Einfuhrung in Mannigfaltigkeit](https://www.youtube.com/watch?v=0CLXHZ6pweU)\n",
        "\n",
        "* Eine komplexe Mannigfaltigkeit, auch [komplex-analytische Mannigfaltigkeit](https://de.wikipedia.org/wiki/Komplexe_Mannigfaltigkeit), grundlegender Begriff in der Funktionentheorie mehrerer Variabler.\n",
        "\n",
        "* Eine komplexe Mannigfaltigkeit ist eine differenzierbare Mannigfaltigkeit, deren Koordinatenkarten Werte in ℂn annehmen, und deren Übergangsabbildungen holomorph sind."
      ]
    },
    {
      "cell_type": "markdown",
      "metadata": {
        "id": "iECbFrJWvCFg"
      },
      "source": [
        "*Komplexe Karte*"
      ]
    },
    {
      "cell_type": "markdown",
      "metadata": {
        "id": "0iLfZQ5KuhOp"
      },
      "source": [
        "Eine komplexe Mannigfaltigkeit $M$ der Dimension $n$ ist ein Hausdorffraum, für den jeder Punkt eine Umgebung U besitzt, die [homöomorph](https://de.wikipedia.org/wiki/Hom%C3%B6omorphismus) zu einer offenen Teilmenge $V \\subset \\mathbb{C}^{n}$ ist. Ein solcher Homöomorphismus $z: U \\rightarrow V$ heißt eine **komplexe\n",
        "(Koordinaten-)Karte**. Zwei komplexe Karten $z_{a}: U_{a} \\rightarrow V_{a}, z_{\\beta}$ :\n",
        "$U_{\\beta} \\rightarrow V_{\\beta}$ heißen biholomorph verträglich, wenn die sog. Übergangsabbildung\n",
        "\n",
        "> $\n",
        "z_{\\beta} \\circ z_{\\alpha}^{-1}: z_{\\alpha}\\left(U_{\\alpha} \\cap U_{\\beta}\\right) \\rightarrow z_{\\beta}\\left(U_{\\alpha} \\cap U_{\\beta}\\right)\n",
        "$\n",
        "\n",
        "(biholomorph ist (im Fall $\\left.U_{a} \\cap U_{\\beta} \\neq \\varnothing\\right)$. Man nennt $z=\\left(z^{1}, \\ldots, z^{n}\\right): U \\rightarrow V$ auch lokale Koordinate."
      ]
    },
    {
      "cell_type": "markdown",
      "metadata": {
        "id": "E89_dh1jvDzD"
      },
      "source": [
        "*Komplexer Atlas*"
      ]
    },
    {
      "cell_type": "markdown",
      "metadata": {
        "id": "s9x82BNau6s8"
      },
      "source": [
        "* Ein **komplexer Atlas** $\\mathcal{A}$ auf $M$ ist eine Familie $\\left\\{U_{o} Z_{a}\\right\\}$ paarweise biholomorph verträglicher komplexer Karten, für die die $U_{a}$ eine offene Überdeckung von $M$ bilden. \n",
        "\n",
        "* Zwei Atlanten $\\mathcal{A}, \\mathcal{A}^{\\prime}$ auf $M$ heißen biholomorph verträglich, falls jede Karte von $\\mathcal{A}$ biholomorph verträglich mit jeder Karte von $\\mathcal{A}^{\\prime}$ ist. Die biholomorphe Verträglichkeit zwischen komplexen Atlanten ist eine Äquivalenzrelation.\n"
      ]
    },
    {
      "cell_type": "markdown",
      "metadata": {
        "id": "NiOd6nsBvFR8"
      },
      "source": [
        "*Komplexe Struktur*"
      ]
    },
    {
      "cell_type": "markdown",
      "metadata": {
        "id": "ZnTr0xpTu89q"
      },
      "source": [
        "* Unter einer **komplexen Struktur** versteht man eine Äquivalenzklasse biholomorph äquivalenter Atlanten auf $M$. Jede komplexe Struktur auf $M$ enthält einen eindeutig bestimmten maximalen komplexen Atlas $\\mathcal{A}^{*}$ : Ist $\\mathcal{A}$ ein beliebiger Atlas der komplexen Struktur, dann besteht $\\mathcal{A}^{*}$ aus allen komplexen Karten, die mit jeder Karte von $\\mathcal{A}$ biholomorph verträglich sind. Eine komplexe Mannigfaltigkeit der Dimension $n$ ist eine Mannigfaltigkeit der Dimension $n$ mit einer komplexen Struktur\n",
        "\n",
        "* Eine komplexe Struktur ist ein bezüglich Inklusion maximaler komplexer Atlas. Jeder komplexe Atlas ist in genau einer komplexen Struktur enthalten, nämlich in der Vereinigung aller zu ihm äquivalenten Atlanten. Dabei sind zwei komplexe Atlanten äquivalent, falls ihre Vereinigungsmenge ebenfalls ein komplexer Atlas ist (d. h. wenn alle Kartenwechselabbildungen zwischen den beiden Atlanten biholomorph sind). Bemerkung: Alternativ kann man eine komplexe Struktur auch als eine Äquivalenzklasse bezüglich dieses Äquivalenzbegriffs definieren.\n",
        "\n"
      ]
    },
    {
      "cell_type": "markdown",
      "metadata": {
        "id": "SVcscJcswgDq"
      },
      "source": [
        "*Komplexe Mannigfaltigkeit*"
      ]
    },
    {
      "cell_type": "markdown",
      "metadata": {
        "id": "CXkvyXpywask"
      },
      "source": [
        "* Versieht man $M$ nun mit einer solchen komplexen Struktur, so spricht man von einer komplexen Mannigfaltigkeit. Genauer gesagt ist ein 2 -Tupel $(M, S)$ eine komplexe Mannigfaltigkeit der Dimension $n$, wenn $S$ eine komplexe Struktur der Dimension $n$ auf $M$ ist. Die Karten aus $S$ werden dann auch als Karten der\n",
        "komplexen Mannigfaltigkeit bezeichnet."
      ]
    },
    {
      "cell_type": "markdown",
      "metadata": {
        "id": "ZjJMKdLQ2Xo6"
      },
      "source": [
        "*Holomorphe Funktionen, Strukturgarbe*"
      ]
    },
    {
      "cell_type": "markdown",
      "metadata": {
        "id": "JV7MEgtA2VxA"
      },
      "source": [
        "* Eine Funktion $f: M \\rightarrow \\mathbb{C}$ heißt holomorph in $x \\in M,$ wenn für eine Karte $(U, \\phi)$ mit $x \\in U$ die Funktion $f \\circ \\phi^{-1}: \\phi(U) \\rightarrow \\mathbb{C}$ eine in $\\phi(x)$ holomorphe Funktion ist. Wegen der obigen Kompatibilitätsbedingung ist diese Bedingung unabhängig von der gewählten Karte. Eine Funktion heißt holomorph auf einer offenen Teilmenge $U \\subset M$, wenn sie in jedem Punkt $x \\in U$ holomorph ist.\n",
        "\n",
        "* Als Strukturgarbe $\\mathcal{O}_{M}$ der komplexen Mannigfaltigkeit $M$ wird die Garbe der holomorphen Funktionen bezeichnet. $\\left(M, \\mathcal{O}_{M}\\right)$ ist ein geringter Raum.\n",
        "\n",
        "* Da das Konzept der [Garben](https://de.wikipedia.org/wiki/Garbe_(Mathematik)) in der Funktionentheorie mehrerer Veränderlicher eine so zentrale Rolle spielt, ist die folgende Charakterisierung der Struktur einer komplexen Mannigfaltigkeit geeigneter, wobei $X$ einen Hausdorffraum bezeichne und $_{X} \\mathcal{O}$ eine Untergarbe der Garbe $_{X} C$ der stetigen Funktionen auf $X$ :\n",
        "\n",
        "* Ein [geringter Raum](https://de.wikipedia.org/wiki/Geringter_Raum) $(X, X \\mathcal{O})$ heißt komplexe Mannigfaltigkeit, wenn jedes $x \\in X$ eine Umgebung $U$ besitzt, so daß $\\left(U,\\left.x \\mathcal{O}\\right|_{U}\\right)$ isomorph ist zu einem geringten Raum $\\left(\\left.V_{, n} \\mathcal{O}\\right|_{V}\\right),$ wobei $V$ ein offener Unterraum im $\\mathbb{C}^{n}$ ist und ${ }_{n} \\mathcal{O}$ die Garbe der Keime der holomorphen Funktionen auf $X$."
      ]
    },
    {
      "cell_type": "markdown",
      "metadata": {
        "id": "MLPaFd7hxq0J"
      },
      "source": [
        "Unter einer Abbildung von geringten Räumen\n",
        "\n",
        ">$\n",
        "\\left(X,_{X} \\odot\\right),\\left(Y,_{Y} \\odot\\right)\n",
        "$\n",
        "\n",
        "versteht man dabei eine stetige Abbildung $f \\cdot X \\rightarrow Y$, so daß für jedes $x \\in X$ und $h \\in{ }_{Y} \\mathcal{O}_{f(x)}$ glit $h \\circ f \\in{ }_{X} \\mathcal{O}_{f(x)} .$ Man bezeichnet die Abbildung ${ }_{Y} \\mathcal{O}_{f(x)} \\rightarrow{ }_{X} \\mathcal{O}_{x}, h \\mapsto h \\circ f$ mit $f^{*}$. Die Abbildung $f$ ist ein Isomorphismus, wenn $\\mathrm{sie}$ ein Homöomorphismus und eine Injektion ist (dann ist auch $f^{-1}: Y \\rightarrow X$ eine Injektion, da $\\left(f^{-1}\\right)^{*}=\\left(f^{*}\\right)^{-1}$ ).\n",
        "Liegt $a \\in X$ in einem offenen Unterraum $U \\cong V \\subset \\mathbb{C}^{n}$, dann heißt $n$ die Dimension\n",
        "$\\operatorname{dim}_{a} x$ von $X$ an der Stelle a. Sie ist wohldefiniert, da die Funktion $X \\rightarrow \\mathbb{Z}, x \\mapsto \\operatorname{dim}_{x}$ X stetig und damit konstant auf jeder Zusammenhangskomponente von $X$ ist."
      ]
    },
    {
      "cell_type": "markdown",
      "metadata": {
        "id": "59ijJqOSxv0A"
      },
      "source": [
        "Komplexe Mannigfaltigkeiten sind reduzierte komplexe Räume, die lokal aussehen\" wie singularitätenfreie analytische Mengen.\n",
        "\n",
        "* Ist $z=\\left(z_{1}, \\ldots, z_{n}\\right)$ eine komplexe Karte auf der offenen Menge $U \\subset X$ und setzt man $z_{\\nu}=x_{\\nu}+\\sqrt{-1} y_{\\nu},$ so ist $\\left(x_{1}, \\ldots, x_{n}, y_{1}, \\ldots, y_{n}\\right)$ eine Karte der\n",
        "zugrundeliegenden reell-analytischen Mannigfaltigkeit. \n",
        "\n",
        "* Ist $T(X)$ das reelle Tangentialbündel, so ist $\\left(\\frac{\\partial}{\\partial x_{1}}, \\ldots, \\frac{\\partial}{\\partial x_{n}}, \\frac{\\partial}{\\partial y_{1}}, \\ldots, \\frac{\\partial}{\\partial y_{n}}\\right)$ (eine Basis auf $U$.\n",
        "Durch $J\\left(\\frac{\\partial}{\\partial x_{\\nu}}\\right)=\\frac{\\partial}{\\partial y_{\\nu}}$ und $J\\left(\\frac{\\partial}{\\partial x_{\\nu}}\\right)=-\\frac{\\partial}{\\partial y_{\\nu}}$ erhält man eine lineare Abbildung $J$\n",
        "$: T(X) \\rightarrow T(X)$ mit $J^{2}=-1$ (wegen der Cauchy-Riemannschen Differentialgleichung ist die Definition von J unabhängig von der Wahl der komplexen Karten). \n",
        "\n",
        "* Dementsprechend definiert man eine fast komplexe Struktur auf einer $C^{\\infty}$ Mannigfaltigkeit $X$ als eine lineare Abbildung $J: T(X) \\rightarrow T(X)$ des Tangentialbündels mit $\\mathcal{J}^{2}=-1$. Eine solche heißt integrabel, wenn es eine komplex-analytische Struktur auf $X$ gibt mit $X$ als zugrundeliegender $C^{\\infty}$ Mannigfaltigkeit so, daß J durch diese komplexe Struktur induziert wird. \n",
        "\n",
        "* Eine solche komplexe Struktur ist eindeutig bestimmt: J operiert auch auf dem Kotangentialbündel $T^{*}(X)$, und ist für komplexwertige $C^{\\infty}$ Funktionen $\\bar{\\partial} f$ die Projektion von $d f \\in T^{*}(X) \\otimes C$ auf den Eigenraum zum Eigenwert $-\\sqrt{-1}$ von $J$, so ist $\\widehat{O}_{X}=\\operatorname{Ker}(\\bar{\\partial})$"
      ]
    },
    {
      "cell_type": "markdown",
      "metadata": {
        "id": "Iu4kjiOvyS36"
      },
      "source": [
        "Für (lokale) $C^{\\infty}$ -Vektorfelder $v, w$ liefert\n",
        "\n",
        ">$\n",
        "[v, w]-[J v, J w]+J[J v, w]+J[v, J w]\n",
        "$\n",
        "\n",
        "eine lineare Abbildung\n",
        "\n",
        ">$\n",
        "N: \\stackrel{2}{\\wedge} T(X) \\rightarrow T(X)\n",
        "$\n",
        "\n",
        "genannt Nirenberg-Tensor. J ist genau dann integrabel, wenn $N \\equiv 0$ auf $X$.\n",
        "Eine komplexe Untermannigfaltigkeit ist eine singularitätenfreie analytische Menge $A \\subset X$. Besitzt $A$ die Kodimension $d,$ dann heißt das, daß es zu jedem $x_{0} \\in A$ eine Umgebung $U=U\\left(x_{0}\\right) \\subset X$ und holomorphe Funktionen $f_{1}, \\ldots, f_{d}$ auf $U$ gibt, so daß gilt:\n",
        "1) $A \\cap U=\\left\\{x \\in U: f_{1}(x)=\\ldots f_{d}(x)=0\\right\\}$\n",
        "2) Rang $_{x}\\left(f_{1}, \\ldots, f_{d}\\right)=d$ für alle $x \\in U$.\n",
        "$X$ induziert auf $A$ in kanonischer Weise die Struktur einer $(n-d)$ -dimensionalen Mannigfaltigkeit, und die natürliche Einbettung $j_{A}: A \\hookrightarrow X$ ist holomorph."
      ]
    },
    {
      "cell_type": "markdown",
      "metadata": {
        "id": "WU-Glg9oxSe6"
      },
      "source": [
        "https://www.spektrum.de/lexikon/mathematik/komplexe-mannigfaltigkeit/6649"
      ]
    },
    {
      "cell_type": "markdown",
      "metadata": {
        "id": "V2cIkYzZvtUh"
      },
      "source": [
        "https://de.wikipedia.org/wiki/Funktionentheorie#Komplexe_Geometrie"
      ]
    },
    {
      "cell_type": "markdown",
      "metadata": {
        "id": "-Hdqmh4cq4nl"
      },
      "source": [
        "**Kähler-Mannigfaltigkeit**"
      ]
    },
    {
      "cell_type": "markdown",
      "metadata": {
        "id": "pT5FlO59qsYT"
      },
      "source": [
        "* Man bezeichnet mit [Kähler-Mannigfaltigkeit](https://de.wikipedia.org/wiki/K%C3%A4hler-Mannigfaltigkeit) eine glatte Mannigfaltigkeit zusammen mit einer komplexen Struktur und einer riemannschen Metrik (im Sinne einer riemannschen Mannigfaltigkeit), die miteinander verträglich sind.\n",
        "\n",
        "* Der Begriff der Kähler-Mannigfaltigkeit findet Anwendung in der Darstellungstheorie von Lie-Gruppen und ist ein zentraler Begriff der geometrischen Quantisierung. Ein auch in der Stringtheorie wichtiges Beispiel für Kähler-Mannigfaltigkeiten sind Calabi-Yau-Mannigfaltigkeiten."
      ]
    },
    {
      "cell_type": "markdown",
      "metadata": {
        "id": "5nbIiGOrrWw2"
      },
      "source": [
        "[Quaternionische Kähler-Mannigfaltigkeit](https://de.wikipedia.org/wiki/Quaternionische_K%C3%A4hler-Mannigfaltigkeit)\n"
      ]
    }
  ]
}