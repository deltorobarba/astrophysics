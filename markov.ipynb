{
  "nbformat": 4,
  "nbformat_minor": 0,
  "metadata": {
    "colab": {
      "name": "markov.ipynb",
      "provenance": [],
      "collapsed_sections": [],
      "include_colab_link": true
    },
    "kernelspec": {
      "name": "python3",
      "display_name": "Python 3"
    }
  },
  "cells": [
    {
      "cell_type": "markdown",
      "metadata": {
        "id": "view-in-github",
        "colab_type": "text"
      },
      "source": [
        "<a href=\"https://colab.research.google.com/github/deltorobarba/machinelearning/blob/master/markov.ipynb\" target=\"_parent\"><img src=\"https://colab.research.google.com/assets/colab-badge.svg\" alt=\"Open In Colab\"/></a>"
      ]
    },
    {
      "cell_type": "markdown",
      "metadata": {
        "id": "2Aoj2PpxvDQV",
        "colab_type": "text"
      },
      "source": [
        "# **Markov Processes (Markov Chains)**"
      ]
    },
    {
      "cell_type": "code",
      "metadata": {
        "id": "1U5_6xH7tAQq",
        "colab_type": "code",
        "colab": {}
      },
      "source": [
        "import numpy as np\n",
        "import pandas as pd\n",
        "import seaborn as sns\n",
        "import matplotlib.pyplot as plt"
      ],
      "execution_count": null,
      "outputs": []
    },
    {
      "cell_type": "markdown",
      "metadata": {
        "id": "oD_psDmmPW0P",
        "colab_type": "text"
      },
      "source": [
        "A Markov chain is a **discrete-time stochastic process** that progresses from one state to another with certain probabilities that can be **represented by a graph and state transition matrix P** as indicated below:"
      ]
    },
    {
      "cell_type": "markdown",
      "metadata": {
        "id": "kenkureQPi8b",
        "colab_type": "text"
      },
      "source": [
        "<img src=\"https://raw.githubusercontent.com/deltorobarba/machinelearning/master/markov.PNG\" alt=\"markov\">"
      ]
    },
    {
      "cell_type": "markdown",
      "metadata": {
        "id": "wOD-UZkUQX9Y",
        "colab_type": "text"
      },
      "source": [
        "**Definition**"
      ]
    },
    {
      "cell_type": "markdown",
      "metadata": {
        "id": "upJj9PUZNELQ",
        "colab_type": "text"
      },
      "source": [
        "* A Markov chain is a mathematical system that experiences transitions from one state to another according to certain probabilistic rules. In a Markov Chain the next state depends only on the current state, the **Markov property**. (A state in this context refers to the assignment of values to the parameters). The concept of a Markov Chain is that we do not need to know the entire history of a process to predict the next output, an approximation that works well in many real-world situations.\n",
        "\n",
        "* The defining characteristic of a Markov chain is that no matter how the process arrived at its present state, the possible future states are fixed. In other words, the probability of transitioning to any particular state is dependent solely on the current state and time elapsed. Hence, a **Markov Chain is memoryless** because only the current state matters and not how it arrived in that state.\n",
        "\n",
        "* The **state space**, or set of all possible states, can be anything: letters, numbers, weather conditions, baseball scores, or stock performances.\n",
        "\n",
        "* Markov chains may be modeled by **finite state machines, and random walks** provide a prolific example of their usefulness in mathematics. They arise broadly in statistical and information-theoretical contexts and are widely employed in economics, game theory, queueing (communication) theory, genetics, and finance. While it is possible to discuss Markov chains with any size of state space, the initial theory and most applications are focused on cases with a finite (or countably infinite) number of states."
      ]
    },
    {
      "cell_type": "markdown",
      "metadata": {
        "id": "sgBxkDSkPMR_",
        "colab_type": "text"
      },
      "source": [
        "## **Properties**"
      ]
    },
    {
      "cell_type": "markdown",
      "metadata": {
        "id": "TYVzJ_PsPztk",
        "colab_type": "text"
      },
      "source": [
        "A variety of descriptions of either a specific state in a Markov chain or the entire Markov chain allow for better understanding of the Markov chain's behavior. Let P be the transition matrix of Markov chain {X0, X1, ...}.\n",
        "\n",
        "* **Reducibility**: a Markov chain is said to be irreducible if it is possible to get to any state from any state. In other words, a Markov chain is irreducible if there exists a chain of steps between any two states that has positive probability.\n",
        "\n",
        "* **Periodicity**: a state in a Markov chain is periodic if the chain can return to the state only at multiples of some integer larger than 1. Thus, starting in state 'i', the chain can return to 'i' only at multiples of the period 'k', and k is the largest such integer. State 'i' is aperiodic if k = 1 and periodic if k > 1.\n",
        "\n",
        "* **Transience and Recurrence**: A state 'i' is said to be transient if, given that we start in state 'i', there is a non-zero probability that we will never return to 'i'. State i is recurrent (or persistent) if it is not transient. A recurrent state is known as positive recurrent if it is expected to return within a finite number of steps and null recurrent otherwise. Transience and recurrence issues are central to the study of Markov chains and help describe the Markov chain's overall structure. The presence of many transient states may suggest that the Markov chain is absorbing, and a strong form of recurrence is necessary in an ergodic Markov chain.\n",
        "\n",
        "* **Ergodicity**: a state 'i' is said to be ergodic if it is aperiodic and positive recurrent. If all states in an irreducible Markov chain are ergodic, then the chain is said to be ergodic. Ergodic Markov chains are, in some senses, the processes with the \"nicest\" behavior.\n",
        "\n",
        "* **Absorbing State**: a state i is called absorbing if it is impossible to leave this state. Therefore, the state 'i' is absorbing if pii = 1 and pij = 0 for i ≠ j. If every state can reach an absorbing state, then the Markov chain is an absorbing Markov chain. Absorbing states are crucial for the discussion of absorbing Markov chains. A common type of Markov chain with transient states is an absorbing one. An absorbing Markov chain is a Markov chain in which it is impossible to leave some states, and any state could (after some number of steps, with positive probability) reach such a state. It follows that all non-absorbing states in an absorbing Markov chain are transient."
      ]
    },
    {
      "cell_type": "markdown",
      "metadata": {
        "id": "geCDwTiGL9cC",
        "colab_type": "text"
      },
      "source": [
        "**Relation to Random Walks**"
      ]
    },
    {
      "cell_type": "markdown",
      "metadata": {
        "id": "Zra3gDpyvKSH",
        "colab_type": "text"
      },
      "source": [
        "* A Markov process is a random walk, but there are also other types of Random walks, that are not Markov processes.\n",
        "\n",
        "* Various types of random walks are of interest, which can differ in several ways. The term itself most often refers to a special category of Markov chains or Markov processes, but many time-dependent processes are referred to as random walks, with a modifier indicating their specific properties. \n",
        "\n",
        "* Random walks (Markov or not) can also take place on a variety of spaces: commonly studied ones include graphs, others on the integers or the real line, in the plane or higher-dimensional vector spaces, on curved surfaces or higher-dimensional Riemannian manifolds, and also on groups finite, finitely generated or Lie."
      ]
    },
    {
      "cell_type": "markdown",
      "metadata": {
        "id": "uZtkIomlDjDD",
        "colab_type": "text"
      },
      "source": [
        "## **Stochastic (State Transition) Matrix**"
      ]
    },
    {
      "cell_type": "markdown",
      "metadata": {
        "id": "RJ6QW7JBDoIZ",
        "colab_type": "text"
      },
      "source": [
        "* A stochastic matrix is a square matrix used to describe the transitions of a Markov chain. This means a transition matrix contains information on the **probability of transitioning between states**.\n",
        "\n",
        "* Each of its entries is a nonnegative real number representing a probability. It is also called a probability matrix, transition matrix, substitution matrix, or Markov matrix.\n",
        "\n",
        "* A stochastic matrix describes a Markov chain X<sub>t</sub> over a [**finite state space (Probability space) S**](https://en.m.wikipedia.org/wiki/Probability_space) with cardinality S.\n",
        "\n",
        "* If the probability of moving from i to j in one time step is Pr(j|i)= P<sub>i,j</sub>, the stochastic matrix P is given by using P<sub>i,j</sub> as the ith row and jth column element, e.g.,"
      ]
    },
    {
      "cell_type": "markdown",
      "metadata": {
        "id": "7kv_YIBLEXfI",
        "colab_type": "text"
      },
      "source": [
        "This means each row of the matrix is a probability vector, and the sum of its entries is 1. The total of transition probability from a state i to all other states must be 1."
      ]
    },
    {
      "cell_type": "markdown",
      "metadata": {
        "id": "mHltbzmlENjx",
        "colab_type": "text"
      },
      "source": [
        "> $P=\\left[\\begin{array}{cccccc}\n",
        "P_{1,1} & P_{1,2} & \\dots & P_{1, j} & \\dots & P_{1, S} \\\\\n",
        "P_{2,1} & P_{2,2} & \\dots & P_{2, j} & \\dots & P_{2, S} \\\\\n",
        "\\vdots & \\vdots & \\ddots & \\vdots & \\ddots & \\vdots \\\\\n",
        "P_{i, 1} & P_{i, 2} & \\dots & P_{i, j} & \\dots & P_{i, S} \\\\\n",
        "\\vdots & \\vdots & \\ddots & \\vdots & \\ddots & \\vdots \\\\\n",
        "P_{S, 1} & P_{S, 2} & \\dots & P_{S, j} & \\dots & P_{S, S}\n",
        "\\end{array}\\right]$"
      ]
    },
    {
      "cell_type": "markdown",
      "metadata": {
        "id": "lEneXK1_Fa6Y",
        "colab_type": "text"
      },
      "source": [
        "## **Stationary Distribution**"
      ]
    },
    {
      "cell_type": "markdown",
      "metadata": {
        "id": "L3ozYelbTLji",
        "colab_type": "text"
      },
      "source": [
        "The implementation below is not a simulation of the state transitions, just a calculation of the stationary distribution. Let’s start with an iterative approach to calculating the distribution. What we are doing is raising the transition matrix to the power of the number of iterations.\n",
        "\n",
        "> $s_{1}=s_{0} P, \\quad s_{2=} s_{1} P=\\left(s_{o} P\\right) P=s_{0} P^{2} \\ldots . \\quad s_{n}=s_{0} P^{n}$\n",
        "\n",
        "The stationary distribution is usually referred to as π.\n",
        "\n",
        "> $\\pi=s_{0} P^{n} ; n \\rightarrow \\infty$\n"
      ]
    },
    {
      "cell_type": "code",
      "metadata": {
        "id": "1hxlACItFh79",
        "colab_type": "code",
        "colab": {
          "base_uri": "https://localhost:8080/",
          "height": 355
        },
        "outputId": "9d0b66e8-4a64-4d7c-cdea-5ca58d37210b"
      },
      "source": [
        "from random import seed\n",
        "from random import random\n",
        "sns.set(rc={'figure.figsize':(12, 5), \"lines.linewidth\": 1.0})\n",
        "\n",
        "P = np.array([[0.2, 0.7, 0.1],\n",
        "              [0.9, 0.0, 0.1],\n",
        "              [0.2, 0.8, 0.0]])\n",
        "\n",
        "state=np.array([[1.0, 0.0, 0.0]])\n",
        "\n",
        "stateHist=state\n",
        "dfStateHist=pd.DataFrame(state)\n",
        "distr_hist = [[0,0,0]]\n",
        "\n",
        "iterations= 20\n",
        "\n",
        "for x in range(iterations):\n",
        "  state=np.dot(state,P)\n",
        "  stateHist=np.append(stateHist,state,axis=0)\n",
        "\n",
        "dfDistrHist = pd.DataFrame(stateHist)\n",
        "dfDistrHist.plot(title=\"Calculation of Convergence to Stationary Distribution\")\n",
        "plt.xlabel(\"Number of iterations\")\n",
        "plt.ylabel(\"Probabilities\")\n",
        "plt.show()"
      ],
      "execution_count": 9,
      "outputs": [
        {
          "output_type": "display_data",
          "data": {
            "image/png": "[encoded data removed]",
            "text/plain": [
              "<Figure size 864x360 with 1 Axes>"
            ]
          },
          "metadata": {
            "tags": []
          }
        }
      ]
    },
    {
      "cell_type": "code",
      "metadata": {
        "id": "KlFFyXMoLJrM",
        "colab_type": "code",
        "colab": {
          "base_uri": "https://localhost:8080/",
          "height": 35
        },
        "outputId": "1f04638a-cdf1-43c5-a6d4-83335a40accb"
      },
      "source": [
        "# Print our exact values\n",
        "print(state)"
      ],
      "execution_count": 4,
      "outputs": [
        {
          "output_type": "stream",
          "text": [
            "[[0.49229934 0.41679157 0.09090909]]\n"
          ],
          "name": "stdout"
        }
      ]
    },
    {
      "cell_type": "markdown",
      "metadata": {
        "id": "AQP2FTFBJY-q",
        "colab_type": "text"
      },
      "source": [
        "**The calculation converges to the stationary distribution quite quickly**. With P<sub>i</sub> being the stationary distribution, as described earlier. This may also be accomplished in this case with a linear algebra solution of a set of over-determined equations:"
      ]
    },
    {
      "cell_type": "code",
      "metadata": {
        "id": "CrJS6wE3JK-6",
        "colab_type": "code",
        "colab": {
          "base_uri": "https://localhost:8080/",
          "height": 35
        },
        "outputId": "b2653a08-8be1-43d4-937e-b7630d6992cf"
      },
      "source": [
        "A = np.append(np.transpose(P) - np.identity(3),\n",
        "              [[1,1,1]],\n",
        "              axis=0)\n",
        "\n",
        "b = np.transpose(np.array([0,0,0,1]))\n",
        "\n",
        "np.linalg.solve(np.transpose(A).dot(A), \n",
        "                np.transpose(A).dot(b))"
      ],
      "execution_count": null,
      "outputs": [
        {
          "output_type": "execute_result",
          "data": {
            "text/plain": [
              "array([0.49197861, 0.4171123 , 0.09090909])"
            ]
          },
          "metadata": {
            "tags": []
          },
          "execution_count": 38
        }
      ]
    },
    {
      "cell_type": "markdown",
      "metadata": {
        "id": "N_t6J3O7MgNE",
        "colab_type": "text"
      },
      "source": [
        "Which also returns [0.49, 0.42 , 0.09], the stationary distribution π. It can be shown that a Markov chain is stationary with stationary distribution π if π P = π and π<sub>i</sub> = 1, where i is a unit column vector — i.e. the sum of the probabilities must be exactly 1."
      ]
    },
    {
      "cell_type": "markdown",
      "metadata": {
        "id": "8oqZnAbQIVF-",
        "colab_type": "text"
      },
      "source": [
        "## **Simulating from a Markov Chain**"
      ]
    },
    {
      "cell_type": "markdown",
      "metadata": {
        "id": "BFA6ZOhKOxs-",
        "colab_type": "text"
      },
      "source": [
        "**Example 1: Simulate from a Markov Chain by simulating from a multinomial distribution**"
      ]
    },
    {
      "cell_type": "markdown",
      "metadata": {
        "id": "lDYMMTvIIbU5",
        "colab_type": "text"
      },
      "source": [
        "* One can simulate from a Markov chain by noting that the collection of moves from any given state (the corresponding row in the probability matrix) form a multinomial distribution. One can thus simulate from a Markov Chain by simulating from a multinomial distribution.\n",
        "\n",
        "* One way to simulate from a [multinomial distribution](https://en.wikipedia.org/wiki/Multinomial_distribution) is to divide a line of length 1 into intervals proportional to the probabilities, and then picking an interval based on a uniform random number between 0 and 1. ([Source](https://towardsdatascience.com/markov-chain-analysis-and-simulation-using-python-4507cee0b06e))"
      ]
    },
    {
      "cell_type": "code",
      "metadata": {
        "id": "GkCk9NAzIsSw",
        "colab_type": "code",
        "colab": {
          "base_uri": "https://localhost:8080/",
          "height": 427
        },
        "outputId": "7a77566f-68b7-4c42-9673-5b7b2b60a0cd"
      },
      "source": [
        "from random import seed\n",
        "from random import random\n",
        "sns.set(rc={'figure.figsize':(12, 5), \"lines.linewidth\": 1.0})\n",
        "\n",
        "P = np.array([[0.2, 0.7, 0.1],\n",
        "              [0.9, 0.0, 0.1],\n",
        "              [0.2, 0.8, 0.0]])\n",
        "\n",
        "stateChangeHist= np.array([[0.0,  0.0,  0.0],\n",
        "                          [0.0, 0.0,  0.0],\n",
        "                          [0.0, 0.0,  0.0]])\n",
        "\n",
        "state=np.array([[1.0, 0.0, 0.0]])\n",
        "currentState=0\n",
        "stateHist=state\n",
        "dfStateHist=pd.DataFrame(state)\n",
        "distr_hist = [[0,0,0]]\n",
        "seed(4)\n",
        "\n",
        "# Simulate from multinomial distribution\n",
        "def simulate_multinomial(vmultinomial):\n",
        "  r=np.random.uniform(0.0, 1.0)\n",
        "  CS=np.cumsum(vmultinomial)\n",
        "  CS=np.insert(CS,0,0)\n",
        "  m=(np.where(CS<r))[0]\n",
        "  nextState=m[len(m)-1]\n",
        "  return nextState\n",
        "\n",
        "iterations = 250\n",
        "\n",
        "for x in range(iterations):\n",
        "  currentRow=np.ma.masked_values((P[currentState]), 0.0)\n",
        "  nextState=simulate_multinomial(currentRow)\n",
        "  # Keep track of state changes\n",
        "  stateChangeHist[currentState,nextState]+=1\n",
        "  # Keep track of the state vector itself\n",
        "  state=np.array([[0,0,0]])\n",
        "  state[0,nextState]=1.0\n",
        "  # Keep track of state history\n",
        "  stateHist=np.append(stateHist,state,axis=0)\n",
        "  currentState=nextState\n",
        "  # calculate the actual distribution over the 3 states so far\n",
        "  totals=np.sum(stateHist,axis=0)\n",
        "  gt=np.sum(totals)\n",
        "  distrib=totals/gt\n",
        "  distrib=np.reshape(distrib,(1,3))\n",
        "  distr_hist = np.append(distr_hist,distrib,axis=0)\n",
        "print(distrib)\n",
        "P_hat=stateChangeHist/stateChangeHist.sum(axis=1)[:,None]\n",
        "\n",
        "# Check estimated state transition probabilities based on history so far:\n",
        "print(P_hat)\n",
        "dfDistrHist = pd.DataFrame(distr_hist)\n",
        "\n",
        "# Plot the distribution as the simulation progresses over time\n",
        "dfDistrHist.plot(title=\"Simulation History\")\n",
        "plt.xlabel(\"Number of iterations\")\n",
        "plt.ylabel(\"Probabilities\")\n",
        "plt.show()"
      ],
      "execution_count": 13,
      "outputs": [
        {
          "output_type": "stream",
          "text": [
            "[[0.50199203 0.43426295 0.06374502]]\n",
            "[[0.16666667 0.77777778 0.05555556]\n",
            " [0.91743119 0.         0.08256881]\n",
            " [0.26666667 0.73333333 0.        ]]\n"
          ],
          "name": "stdout"
        },
        {
          "output_type": "display_data",
          "data": {
            "image/png": "[encoded data removed]",
            "text/plain": [
              "<Figure size 864x360 with 1 Axes>"
            ]
          },
          "metadata": {
            "tags": []
          }
        }
      ]
    },
    {
      "cell_type": "markdown",
      "metadata": {
        "id": "HFEyjtPVO0uL",
        "colab_type": "text"
      },
      "source": [
        "**Example 2: Toy Example to transition between sleep, run and eat**"
      ]
    },
    {
      "cell_type": "markdown",
      "metadata": {
        "id": "4HV8nyJ1WfG3",
        "colab_type": "text"
      },
      "source": [
        "[Source](https://www.datacamp.com/community/tutorials/markov-chains-python-tutorial) and additionally check: https://setosa.io/ev/markov-chains/"
      ]
    },
    {
      "cell_type": "code",
      "metadata": {
        "id": "7EV_R-tDaVqT",
        "colab_type": "code",
        "colab": {
          "base_uri": "https://localhost:8080/",
          "height": 142
        },
        "outputId": "67ef9c42-f3d2-4828-e2b0-b523e4f78cc8"
      },
      "source": [
        "transitionMatrix = [[0.2,0.6,0.2],[0.1,0.6,0.3],[0.2,0.7,0.1]]\n",
        "transitionMatrix = pd.DataFrame(transitionMatrix, columns=['sleep', 'run', 'eat'])\n",
        "transitionMatrix.insert(0, \"state\", ['sleep', 'run', 'eat'], True)\n",
        "transitionMatrix = transitionMatrix.set_index('state')\n",
        "transitionMatrix.index.name = None\n",
        "transitionMatrix"
      ],
      "execution_count": 41,
      "outputs": [
        {
          "output_type": "execute_result",
          "data": {
            "text/html": [
              "<div>\n",
              "<style scoped>\n",
              "    .dataframe tbody tr th:only-of-type {\n",
              "        vertical-align: middle;\n",
              "    }\n",
              "\n",
              "    .dataframe tbody tr th {\n",
              "        vertical-align: top;\n",
              "    }\n",
              "\n",
              "    .dataframe thead th {\n",
              "        text-align: right;\n",
              "    }\n",
              "</style>\n",
              "<table border=\"1\" class=\"dataframe\">\n",
              "  <thead>\n",
              "    <tr style=\"text-align: right;\">\n",
              "      <th></th>\n",
              "      <th>sleep</th>\n",
              "      <th>run</th>\n",
              "      <th>eat</th>\n",
              "    </tr>\n",
              "  </thead>\n",
              "  <tbody>\n",
              "    <tr>\n",
              "      <th>sleep</th>\n",
              "      <td>0.2</td>\n",
              "      <td>0.6</td>\n",
              "      <td>0.2</td>\n",
              "    </tr>\n",
              "    <tr>\n",
              "      <th>run</th>\n",
              "      <td>0.1</td>\n",
              "      <td>0.6</td>\n",
              "      <td>0.3</td>\n",
              "    </tr>\n",
              "    <tr>\n",
              "      <th>eat</th>\n",
              "      <td>0.2</td>\n",
              "      <td>0.7</td>\n",
              "      <td>0.1</td>\n",
              "    </tr>\n",
              "  </tbody>\n",
              "</table>\n",
              "</div>"
            ],
            "text/plain": [
              "       sleep  run  eat\n",
              "sleep    0.2  0.6  0.2\n",
              "run      0.1  0.6  0.3\n",
              "eat      0.2  0.7  0.1"
            ]
          },
          "metadata": {
            "tags": []
          },
          "execution_count": 41
        }
      ]
    },
    {
      "cell_type": "markdown",
      "metadata": {
        "id": "9vxuLfJpd4LO",
        "colab_type": "text"
      },
      "source": [
        "**The rows are the current state and the columns are the next state in the process!**"
      ]
    },
    {
      "cell_type": "markdown",
      "metadata": {
        "id": "yb6Pd4KUaBGl",
        "colab_type": "text"
      },
      "source": [
        "* The state diagram has 3 possible states: sleep, run, icecream. So, the transition matrix will be 3 x 3 matrix. Notice, the arrows exiting a state always sums up to exactly 1, similarly the entries in each row in the transition matrix must add up to exactly 1 - representing probability distribution. In the transition matrix, the cells do the same job that the arrows do in the state diagram.\n",
        "\n",
        "* With the example that you have seen, you can now answer questions like: \"Starting from the state: sleep, what is the probability that Cj will be running (state: run) at the end of a sad 2-day duration?\"\n",
        "\n",
        "* Let's work this one out: In order to move from state: sleep to state: run, Cj must either stay on state: sleep the first move (or day), then move to state: run the next (second) move (0.2 ⋅\n",
        " 0.6); or move to state: run the first day and then stay there the second (0.6 ⋅\n",
        " 0.6) or she could transition to state: icecream on the first move and then to state: run in the second (0.2 ⋅ 0.7). So the probability: ((0.2 ⋅ 0.6) + (0.6 ⋅ 0.6) + (0.2 ⋅ 0.7)) = 0.62. So, we can now say that there is a 62% chance that Cj will move to state: run after two days of being sad, if she started out in the state: sleep.\n"
      ]
    },
    {
      "cell_type": "markdown",
      "metadata": {
        "id": "cTgcT-XiYed4",
        "colab_type": "text"
      },
      "source": [
        "Let's now define the states and their probability: the transition matrix. Remember, the matrix is going to be a 3 X 3 matrix since you have three states. Also, you will have to define the transition paths, you can do this using matrices as well."
      ]
    },
    {
      "cell_type": "code",
      "metadata": {
        "id": "Lx40dnt9WS4_",
        "colab_type": "code",
        "colab": {}
      },
      "source": [
        "# The statespace\n",
        "states = [\"Sleep\",\"Icecream\",\"Run\"]\n",
        "\n",
        "# Possible sequences of events\n",
        "transitionName = [[\"SS\",\"SR\",\"SI\"],[\"RS\",\"RR\",\"RI\"],[\"IS\",\"IR\",\"II\"]]\n",
        "\n",
        "# Probabilities matrix (transition matrix)\n",
        "transitionMatrix = [[0.2,0.6,0.2],[0.1,0.6,0.3],[0.2,0.7,0.1]]"
      ],
      "execution_count": 14,
      "outputs": []
    },
    {
      "cell_type": "markdown",
      "metadata": {
        "id": "_2zA-o05YiCT",
        "colab_type": "text"
      },
      "source": [
        "Make sure the probabilities sum up to 1:"
      ]
    },
    {
      "cell_type": "code",
      "metadata": {
        "id": "Bx-v66pbYmSK",
        "colab_type": "code",
        "colab": {
          "base_uri": "https://localhost:8080/",
          "height": 35
        },
        "outputId": "44064f79-9e12-4ed9-8cad-a5d22335c982"
      },
      "source": [
        "if sum(transitionMatrix[0])+sum(transitionMatrix[1])+sum(transitionMatrix[1]) != 3:\n",
        "    print(\"Somewhere, something went wrong. Transition matrix, perhaps?\")\n",
        "else: print(\"All correct, probabilities sum up to 1\")"
      ],
      "execution_count": 16,
      "outputs": [
        {
          "output_type": "stream",
          "text": [
            "All correct, probabilities sum up to 1\n"
          ],
          "name": "stdout"
        }
      ]
    },
    {
      "cell_type": "markdown",
      "metadata": {
        "id": "EfeKXsejYlxu",
        "colab_type": "text"
      },
      "source": [
        "Use the numpy.random.choice to generate a random sample from the set of transitions possible. While most of its arguments are self-explanatory, the p might not be. It is an optional argument that lets you enter the probability distribution for the sampling set, which is the transition matrix in this case."
      ]
    },
    {
      "cell_type": "code",
      "metadata": {
        "id": "Jo938MzbWX33",
        "colab_type": "code",
        "colab": {
          "base_uri": "https://localhost:8080/",
          "height": 89
        },
        "outputId": "5dc0d573-07c9-46ac-ed06-f6a5b490932c"
      },
      "source": [
        "# A function that implements the Markov model to forecast the state/mood.\n",
        "def activity_forecast(days):\n",
        "    # Choose the starting state\n",
        "    activityToday = \"Sleep\"\n",
        "    print(\"Start state: \" + activityToday)\n",
        "    # Shall store the sequence of states taken. So, this only has the starting state for now.\n",
        "    activityList = [activityToday]\n",
        "    i = 0\n",
        "    # To calculate the probability of the activityList\n",
        "    prob = 1\n",
        "    while i != days:\n",
        "        if activityToday == \"Sleep\":\n",
        "            change = np.random.choice(transitionName[0],replace=True,p=transitionMatrix[0])\n",
        "            if change == \"SS\":\n",
        "                prob = prob * 0.2\n",
        "                activityList.append(\"Sleep\")\n",
        "                pass\n",
        "            elif change == \"SR\":\n",
        "                prob = prob * 0.6\n",
        "                activityToday = \"Run\"\n",
        "                activityList.append(\"Run\")\n",
        "            else:\n",
        "                prob = prob * 0.2\n",
        "                activityToday = \"Icecream\"\n",
        "                activityList.append(\"Icecream\")\n",
        "        elif activityToday == \"Run\":\n",
        "            change = np.random.choice(transitionName[1],replace=True,p=transitionMatrix[1])\n",
        "            if change == \"RR\":\n",
        "                prob = prob * 0.5\n",
        "                activityList.append(\"Run\")\n",
        "                pass\n",
        "            elif change == \"RS\":\n",
        "                prob = prob * 0.2\n",
        "                activityToday = \"Sleep\"\n",
        "                activityList.append(\"Sleep\")\n",
        "            else:\n",
        "                prob = prob * 0.3\n",
        "                activityToday = \"Icecream\"\n",
        "                activityList.append(\"Icecream\")\n",
        "        elif activityToday == \"Icecream\":\n",
        "            change = np.random.choice(transitionName[2],replace=True,p=transitionMatrix[2])\n",
        "            if change == \"II\":\n",
        "                prob = prob * 0.1\n",
        "                activityList.append(\"Icecream\")\n",
        "                pass\n",
        "            elif change == \"IS\":\n",
        "                prob = prob * 0.2\n",
        "                activityToday = \"Sleep\"\n",
        "                activityList.append(\"Sleep\")\n",
        "            else:\n",
        "                prob = prob * 0.7\n",
        "                activityToday = \"Run\"\n",
        "                activityList.append(\"Run\")\n",
        "        i += 1  \n",
        "    print(\"Possible states: \" + str(activityList))\n",
        "    print(\"End state after \"+ str(days) + \" days: \" + activityToday)\n",
        "    print(\"Probability of the possible sequence of states: \" + str(prob))\n",
        "\n",
        "# Function that forecasts the possible state for the next 2 days\n",
        "activity_forecast(2)"
      ],
      "execution_count": 18,
      "outputs": [
        {
          "output_type": "stream",
          "text": [
            "Start state: Sleep\n",
            "Possible states: ['Sleep', 'Run', 'Run']\n",
            "End state after 2 days: Run\n",
            "Probability of the possible sequence of states: 0.3\n"
          ],
          "name": "stdout"
        }
      ]
    },
    {
      "cell_type": "markdown",
      "metadata": {
        "id": "DiemST7XZRfS",
        "colab_type": "text"
      },
      "source": [
        "You get a random set of transitions possible along with the probability of it happening, starting from state: Sleep. Extend the program further to maybe iterate it for a couple of hundred times with the same starting state, you can then see the expected probability of ending at any particular state along with its probability. Let's rewrite the function activity_forecast and add a fresh set of loops to do this..."
      ]
    },
    {
      "cell_type": "code",
      "metadata": {
        "id": "hcGwGebVZM2I",
        "colab_type": "code",
        "colab": {
          "base_uri": "https://localhost:8080/",
          "height": 35
        },
        "outputId": "54a1c769-7f43-4223-819a-6aa367de65f3"
      },
      "source": [
        "def activity_forecast(days):\n",
        "    # Choose the starting state\n",
        "    activityToday = \"Sleep\"\n",
        "    activityList = [activityToday]\n",
        "    i = 0\n",
        "    prob = 1\n",
        "    while i != days:\n",
        "        if activityToday == \"Sleep\":\n",
        "            change = np.random.choice(transitionName[0],replace=True,p=transitionMatrix[0])\n",
        "            if change == \"SS\":\n",
        "                prob = prob * 0.2\n",
        "                activityList.append(\"Sleep\")\n",
        "                pass\n",
        "            elif change == \"SR\":\n",
        "                prob = prob * 0.6\n",
        "                activityToday = \"Run\"\n",
        "                activityList.append(\"Run\")\n",
        "            else:\n",
        "                prob = prob * 0.2\n",
        "                activityToday = \"Icecream\"\n",
        "                activityList.append(\"Icecream\")\n",
        "        elif activityToday == \"Run\":\n",
        "            change = np.random.choice(transitionName[1],replace=True,p=transitionMatrix[1])\n",
        "            if change == \"RR\":\n",
        "                prob = prob * 0.5\n",
        "                activityList.append(\"Run\")\n",
        "                pass\n",
        "            elif change == \"RS\":\n",
        "                prob = prob * 0.2\n",
        "                activityToday = \"Sleep\"\n",
        "                activityList.append(\"Sleep\")\n",
        "            else:\n",
        "                prob = prob * 0.3\n",
        "                activityToday = \"Icecream\"\n",
        "                activityList.append(\"Icecream\")\n",
        "        elif activityToday == \"Icecream\":\n",
        "            change = np.random.choice(transitionName[2],replace=True,p=transitionMatrix[2])\n",
        "            if change == \"II\":\n",
        "                prob = prob * 0.1\n",
        "                activityList.append(\"Icecream\")\n",
        "                pass\n",
        "            elif change == \"IS\":\n",
        "                prob = prob * 0.2\n",
        "                activityToday = \"Sleep\"\n",
        "                activityList.append(\"Sleep\")\n",
        "            else:\n",
        "                prob = prob * 0.7\n",
        "                activityToday = \"Run\"\n",
        "                activityList.append(\"Run\")\n",
        "        i += 1    \n",
        "    return activityList\n",
        "\n",
        "# To save every activityList\n",
        "list_activity = []\n",
        "count = 0\n",
        "\n",
        "# `Range` starts from the first count up until but excluding the last count\n",
        "for iterations in range(1,10000):\n",
        "        list_activity.append(activity_forecast(2))\n",
        "\n",
        "# Check out all the `activityList` we collected    \n",
        "#print(list_activity)\n",
        "\n",
        "# Iterate through the list to get a count of all activities ending in state:'Run'\n",
        "for smaller_list in list_activity:\n",
        "    if(smaller_list[2] == \"Run\"):\n",
        "        count += 1\n",
        "\n",
        "# Calculate the probability of starting from state:'Sleep' and ending at state:'Run'\n",
        "percentage = (count/10000) * 100\n",
        "print(\"The probability of starting at state:'Sleep' and ending at state:'Run'= \" + str(percentage) + \"%\")"
      ],
      "execution_count": 19,
      "outputs": [
        {
          "output_type": "stream",
          "text": [
            "The probability of starting at state:'Sleep' and ending at state:'Run'= 62.41%\n"
          ],
          "name": "stdout"
        }
      ]
    },
    {
      "cell_type": "markdown",
      "metadata": {
        "id": "8A8ppeqxZWaJ",
        "colab_type": "text"
      },
      "source": [
        "How did we approximate towards the desired 62%? Note This is actually the \"law of large numbers\", which is a principle of probability that states that the frequencies of events with the same likelihood of occurrence even out, but only if there are enough trials or instances. In other words, as the number of experiments increases, the actual ratio of outcomes will converge on a theoretical or expected ratio of outcomes."
      ]
    }
  ]
}