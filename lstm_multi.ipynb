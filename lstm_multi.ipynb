{
  "nbformat": 4,
  "nbformat_minor": 0,
  "metadata": {
    "colab": {
      "name": "lstm_multi.ipynb",
      "provenance": [],
      "collapsed_sections": [
        "clz5dotBohqM",
        "Np5PDFB27fjf",
        "1iS9fgg6okfr",
        "wLLOE7avooVd",
        "AMcvVI2voyED",
        "tGXlL5dRpCNs",
        "lPhp3-pUzDQL",
        "SP-YXG7CpUCM",
        "ubQEAzIJ2rec",
        "cu0sv43q2uwX",
        "wY8NPH8u2w4-",
        "6E9PE7QMt3tQ",
        "7mmdTZZs3bue",
        "rYqphYFU3a0x",
        "-0t941Iz2zpR",
        "2d7RYRD33UuK",
        "yGsirhr33ob7"
      ],
      "include_colab_link": true
    },
    "kernelspec": {
      "name": "python3",
      "display_name": "Python 3"
    },
    "language_info": {
      "name": "python"
    }
  },
  "cells": [
    {
      "cell_type": "markdown",
      "metadata": {
        "id": "view-in-github",
        "colab_type": "text"
      },
      "source": [
        "<a href=\"https://colab.research.google.com/github/deltorobarba/machinelearning/blob/master/lstm_multi.ipynb\" target=\"_parent\"><img src=\"https://colab.research.google.com/assets/colab-badge.svg\" alt=\"Open In Colab\"/></a>"
      ]
    },
    {
      "cell_type": "markdown",
      "metadata": {
        "id": "3FWqa48wm7RE"
      },
      "source": [
        "# **LSTM Multivariate Forecasting**"
      ]
    },
    {
      "cell_type": "markdown",
      "metadata": {
        "id": "J4AbwKM9G3Ji"
      },
      "source": [
        "https://machinelearningmastery.com/multivariate-time-series-forecasting-lstms-keras/"
      ]
    },
    {
      "cell_type": "markdown",
      "metadata": {
        "id": "0Og2pP-9G4CL"
      },
      "source": [
        "https://machinelearningmastery.com/how-to-develop-lstm-models-for-multi-step-time-series-forecasting-of-household-power-consumption/"
      ]
    },
    {
      "cell_type": "markdown",
      "metadata": {
        "id": "clz5dotBohqM"
      },
      "source": [
        "## **Import Libraries**"
      ]
    },
    {
      "cell_type": "code",
      "metadata": {
        "colab": {
          "base_uri": "https://localhost:8080/"
        },
        "id": "7IKxXEJJm3Hd",
        "outputId": "f5d83dd0-595d-40ab-f371-f43a2454fda1"
      },
      "source": [
        "import numpy as np\n",
        "import pandas as pd\n",
        "from math import sqrt\n",
        "import seaborn as sns\n",
        "from pandas import read_csv\n",
        "from matplotlib import pyplot\n",
        "import matplotlib.pyplot as plt\n",
        "from sklearn.preprocessing import MinMaxScaler\n",
        "import math\n",
        "from sklearn.metrics import mean_squared_error\n",
        "import tensorflow as tf\n",
        "from pandas import read_csv\n",
        "from pandas import DataFrame\n",
        "from pandas import concat\n",
        "from sklearn.preprocessing import LabelEncoder\n",
        "from sklearn.preprocessing import MinMaxScaler\n",
        "from numpy import concatenate\n",
        "\n",
        "\n",
        "from tensorflow import keras\n",
        "from tensorflow.keras import layers\n",
        "from keras.models import Sequential\n",
        "from keras.layers import LSTM, Dense\n",
        "\n",
        "print('Tensorflow version %s' % tf.__version__)\n",
        "\n",
        "!pip install --quiet ipython-autotime pandas_gbq\n",
        "%load_ext autotime"
      ],
      "execution_count": null,
      "outputs": [
        {
          "output_type": "stream",
          "text": [
            "Tensorflow version 2.4.1\n",
            "time: 2.46 ms (started: 2021-05-15 07:10:13 +00:00)\n"
          ],
          "name": "stdout"
        }
      ]
    },
    {
      "cell_type": "markdown",
      "metadata": {
        "id": "Np5PDFB27fjf"
      },
      "source": [
        "## **Presteps**"
      ]
    },
    {
      "cell_type": "markdown",
      "metadata": {
        "id": "1iS9fgg6okfr"
      },
      "source": [
        "#### **Import & Preprocess Data**"
      ]
    },
    {
      "cell_type": "code",
      "metadata": {
        "colab": {
          "base_uri": "https://localhost:8080/"
        },
        "id": "HNndQzIHnnnh",
        "outputId": "b03f34fe-64c4-41af-b8e7-c12aa2c372fa"
      },
      "source": [
        "from pandas import read_csv\n",
        "from datetime import datetime\n",
        "# load data\n",
        "def parse(x):\n",
        "\treturn datetime.strptime(x, '%Y %m %d %H')\n",
        "dataset = pd.read_csv('https://raw.githubusercontent.com/deltorobarba/repo/master/pollution.csv',  parse_dates = [['year', 'month', 'day', 'hour']], index_col=0, date_parser=parse)\n",
        "dataset.drop('No', axis=1, inplace=True)\n",
        "# manually specify column names\n",
        "dataset.columns = ['pollution', 'dew', 'temp', 'press', 'wnd_dir', 'wnd_spd', 'snow', 'rain']\n",
        "dataset.index.name = 'date'\n",
        "# mark all NA values with 0\n",
        "dataset['pollution'].fillna(0, inplace=True)\n",
        "# drop the first 24 hours\n",
        "dataset = dataset[24:]\n",
        "# summarize first 5 rows\n",
        "print(dataset.head(5))"
      ],
      "execution_count": null,
      "outputs": [
        {
          "output_type": "stream",
          "text": [
            "                     pollution  dew  temp   press wnd_dir  wnd_spd  snow  rain\n",
            "date                                                                          \n",
            "2010-01-02 00:00:00      129.0  -16  -4.0  1020.0      SE     1.79     0     0\n",
            "2010-01-02 01:00:00      148.0  -15  -4.0  1020.0      SE     2.68     0     0\n",
            "2010-01-02 02:00:00      159.0  -11  -5.0  1021.0      SE     3.57     0     0\n",
            "2010-01-02 03:00:00      181.0   -7  -5.0  1022.0      SE     5.36     1     0\n",
            "2010-01-02 04:00:00      138.0   -7  -5.0  1022.0      SE     6.25     2     0\n",
            "time: 2.41 s (started: 2021-05-15 07:10:33 +00:00)\n"
          ],
          "name": "stdout"
        }
      ]
    },
    {
      "cell_type": "code",
      "metadata": {
        "colab": {
          "base_uri": "https://localhost:8080/",
          "height": 358
        },
        "id": "5lfcRC7cqTxj",
        "outputId": "29488e42-7895-4fd9-9b88-a6f5bf9cf3d8"
      },
      "source": [
        "url = 'https://raw.githubusercontent.com/deltorobarba/repo/master/timeseries.csv'\n",
        "data = pd.read_csv(url)\n",
        "series = data[['date', 'price1', 'price2']].rename(columns={\"price1\": \"google\", \"price2\": \"apple\"}).set_index('date')\n",
        "series.index = pd.to_datetime(series.index, utc=False)\n",
        "dataset = series.copy()\n",
        "dataset.head()"
      ],
      "execution_count": null,
      "outputs": [
        {
          "output_type": "execute_result",
          "data": {
            "text/html": [
              "<div>\n",
              "<style scoped>\n",
              "    .dataframe tbody tr th:only-of-type {\n",
              "        vertical-align: middle;\n",
              "    }\n",
              "\n",
              "    .dataframe tbody tr th {\n",
              "        vertical-align: top;\n",
              "    }\n",
              "\n",
              "    .dataframe thead th {\n",
              "        text-align: right;\n",
              "    }\n",
              "</style>\n",
              "<table border=\"1\" class=\"dataframe\">\n",
              "  <thead>\n",
              "    <tr style=\"text-align: right;\">\n",
              "      <th></th>\n",
              "      <th>google</th>\n",
              "      <th>apple</th>\n",
              "    </tr>\n",
              "    <tr>\n",
              "      <th>date</th>\n",
              "      <th></th>\n",
              "      <th></th>\n",
              "    </tr>\n",
              "  </thead>\n",
              "  <tbody>\n",
              "    <tr>\n",
              "      <th>2010-02-01</th>\n",
              "      <td>265.51</td>\n",
              "      <td>280.42</td>\n",
              "    </tr>\n",
              "    <tr>\n",
              "      <th>2010-02-02</th>\n",
              "      <td>264.57</td>\n",
              "      <td>285.87</td>\n",
              "    </tr>\n",
              "    <tr>\n",
              "      <th>2010-02-03</th>\n",
              "      <td>269.40</td>\n",
              "      <td>279.49</td>\n",
              "    </tr>\n",
              "    <tr>\n",
              "      <th>2010-02-04</th>\n",
              "      <td>262.41</td>\n",
              "      <td>282.35</td>\n",
              "    </tr>\n",
              "    <tr>\n",
              "      <th>2010-02-05</th>\n",
              "      <td>264.65</td>\n",
              "      <td>284.06</td>\n",
              "    </tr>\n",
              "  </tbody>\n",
              "</table>\n",
              "</div>"
            ],
            "text/plain": [
              "            google   apple\n",
              "date                      \n",
              "2010-02-01  265.51  280.42\n",
              "2010-02-02  264.57  285.87\n",
              "2010-02-03  269.40  279.49\n",
              "2010-02-04  262.41  282.35\n",
              "2010-02-05  264.65  284.06"
            ]
          },
          "metadata": {
            "tags": []
          },
          "execution_count": 3
        },
        {
          "output_type": "stream",
          "text": [
            "time: 453 ms (started: 2021-05-15 07:10:35 +00:00)\n"
          ],
          "name": "stdout"
        }
      ]
    },
    {
      "cell_type": "markdown",
      "metadata": {
        "id": "wLLOE7avooVd"
      },
      "source": [
        "#### **Visualize Dataset**"
      ]
    },
    {
      "cell_type": "code",
      "metadata": {
        "colab": {
          "base_uri": "https://localhost:8080/",
          "height": 72
        },
        "id": "FwYHvVZYoQX2",
        "outputId": "7de8754b-536f-4086-c9a2-4bd0ee41670c"
      },
      "source": [
        "sns.set(rc={'figure.figsize':(10, 8), \"lines.linewidth\": 1.0})\n",
        "\n",
        "# load dataset\n",
        "values = dataset.values\n",
        "# specify columns to plot\n",
        "groups = [0, 1]\n",
        "i = 1\n",
        "# plot each column\n",
        "pyplot.figure()\n",
        "for group in groups:\n",
        "\tpyplot.subplot(len(groups), 1, i)\n",
        "\tpyplot.plot(values[:, group])\n",
        "\tpyplot.title(dataset.columns[group], y=0.5, loc='right')\n",
        "\ti += 1\n",
        "pyplot.show()"
      ],
      "execution_count": null,
      "outputs": [
        {
          "output_type": "display_data",
          "data": {
            "image/png": "[encoded data removed]",
            "text/plain": [
              "<Figure size 720x576 with 2 Axes>"
            ]
          },
          "metadata": {
            "tags": []
          }
        },
        {
          "output_type": "stream",
          "text": [
            "time: 394 ms (started: 2021-05-15 07:10:35 +00:00)\n"
          ],
          "name": "stdout"
        }
      ]
    },
    {
      "cell_type": "markdown",
      "metadata": {
        "id": "AMcvVI2voyED"
      },
      "source": [
        "#### **LSTM Preprocess Dataset**"
      ]
    },
    {
      "cell_type": "code",
      "metadata": {
        "colab": {
          "base_uri": "https://localhost:8080/"
        },
        "id": "sL9ouXuFu5YB",
        "outputId": "07aa85db-352c-4ed3-8e85-f84b93617436"
      },
      "source": [
        "windows = 3\n",
        "features = 2"
      ],
      "execution_count": null,
      "outputs": [
        {
          "output_type": "stream",
          "text": [
            "time: 7.87 ms (started: 2021-05-15 07:10:36 +00:00)\n"
          ],
          "name": "stdout"
        }
      ]
    },
    {
      "cell_type": "code",
      "metadata": {
        "colab": {
          "base_uri": "https://localhost:8080/"
        },
        "id": "AYZJnFpwo1we",
        "outputId": "94ba4a0d-dc58-46d7-db3c-3c7ea72e6fff"
      },
      "source": [
        "# convert series to supervised learning\n",
        "def series_to_supervised(data, n_in=1, n_out=1, dropnan=True):\n",
        "\tn_vars = 1 if type(data) is list else data.shape[1]\n",
        "\tdf = DataFrame(data)\n",
        "\tcols, names = list(), list()\n",
        "\t# input sequence (t-n, ... t-1)\n",
        "\tfor i in range(n_in, 0, -1):\n",
        "\t\tcols.append(df.shift(i))\n",
        "\t\tnames += [('var%d(t-%d)' % (j+1, i)) for j in range(n_vars)]\n",
        "\t# forecast sequence (t, t+1, ... t+n)\n",
        "\tfor i in range(0, n_out):\n",
        "\t\tcols.append(df.shift(-i))\n",
        "\t\tif i == 0:\n",
        "\t\t\tnames += [('var%d(t)' % (j+1)) for j in range(n_vars)]\n",
        "\t\telse:\n",
        "\t\t\tnames += [('var%d(t+%d)' % (j+1, i)) for j in range(n_vars)]\n",
        "\t# put it all together\n",
        "\tagg = concat(cols, axis=1)\n",
        "\tagg.columns = names\n",
        "\t# drop rows with NaN values\n",
        "\tif dropnan:\n",
        "\t\tagg.dropna(inplace=True)\n",
        "\treturn agg"
      ],
      "execution_count": null,
      "outputs": [
        {
          "output_type": "stream",
          "text": [
            "time: 21.6 ms (started: 2021-05-15 07:10:36 +00:00)\n"
          ],
          "name": "stdout"
        }
      ]
    },
    {
      "cell_type": "code",
      "metadata": {
        "colab": {
          "base_uri": "https://localhost:8080/"
        },
        "id": "Q_RcTBBAr5Z_",
        "outputId": "2c987154-0442-4d37-8172-912a38d47661"
      },
      "source": [
        "#dataset = read_csv('pollution.csv', header=0, index_col=0)\n",
        "values = dataset.values"
      ],
      "execution_count": null,
      "outputs": [
        {
          "output_type": "stream",
          "text": [
            "time: 1.65 ms (started: 2021-05-15 07:10:36 +00:00)\n"
          ],
          "name": "stdout"
        }
      ]
    },
    {
      "cell_type": "code",
      "metadata": {
        "colab": {
          "base_uri": "https://localhost:8080/"
        },
        "id": "yBNgh3AGr7K9",
        "outputId": "6f1eb0a6-9df4-4563-a3d9-c1a31cbfa13b"
      },
      "source": [
        "# ensure all data is float\n",
        "values = values.astype('float32')"
      ],
      "execution_count": null,
      "outputs": [
        {
          "output_type": "stream",
          "text": [
            "time: 1.56 ms (started: 2021-05-15 07:10:36 +00:00)\n"
          ],
          "name": "stdout"
        }
      ]
    },
    {
      "cell_type": "code",
      "metadata": {
        "colab": {
          "base_uri": "https://localhost:8080/"
        },
        "id": "3tmdg5kir9Pw",
        "outputId": "f16414f2-d3c7-40e2-da6b-b6f2b130f76b"
      },
      "source": [
        "# normalize features\n",
        "scaler = MinMaxScaler(feature_range=(0, 1))\n",
        "scaled = scaler.fit_transform(values)"
      ],
      "execution_count": null,
      "outputs": [
        {
          "output_type": "stream",
          "text": [
            "time: 2.95 ms (started: 2021-05-15 07:10:36 +00:00)\n"
          ],
          "name": "stdout"
        }
      ]
    },
    {
      "cell_type": "code",
      "metadata": {
        "colab": {
          "base_uri": "https://localhost:8080/"
        },
        "id": "2c0r9o9-r-9q",
        "outputId": "c2136b9a-98d7-4093-ed4d-e19b21173a11"
      },
      "source": [
        "# frame as supervised learning\n",
        "reframed = series_to_supervised(scaled, windows, 1)"
      ],
      "execution_count": null,
      "outputs": [
        {
          "output_type": "stream",
          "text": [
            "time: 34.2 ms (started: 2021-05-15 07:10:36 +00:00)\n"
          ],
          "name": "stdout"
        }
      ]
    },
    {
      "cell_type": "code",
      "metadata": {
        "colab": {
          "base_uri": "https://localhost:8080/",
          "height": 259
        },
        "id": "KPEcgIjj-J1d",
        "outputId": "9dffdfee-be2e-4895-c5c6-3c00360d7096"
      },
      "source": [
        "# Display data\n",
        "reframed [:5]"
      ],
      "execution_count": null,
      "outputs": [
        {
          "output_type": "execute_result",
          "data": {
            "text/html": [
              "<div>\n",
              "<style scoped>\n",
              "    .dataframe tbody tr th:only-of-type {\n",
              "        vertical-align: middle;\n",
              "    }\n",
              "\n",
              "    .dataframe tbody tr th {\n",
              "        vertical-align: top;\n",
              "    }\n",
              "\n",
              "    .dataframe thead th {\n",
              "        text-align: right;\n",
              "    }\n",
              "</style>\n",
              "<table border=\"1\" class=\"dataframe\">\n",
              "  <thead>\n",
              "    <tr style=\"text-align: right;\">\n",
              "      <th></th>\n",
              "      <th>var1(t-3)</th>\n",
              "      <th>var2(t-3)</th>\n",
              "      <th>var1(t-2)</th>\n",
              "      <th>var2(t-2)</th>\n",
              "      <th>var1(t-1)</th>\n",
              "      <th>var2(t-1)</th>\n",
              "      <th>var1(t)</th>\n",
              "      <th>var2(t)</th>\n",
              "    </tr>\n",
              "  </thead>\n",
              "  <tbody>\n",
              "    <tr>\n",
              "      <th>3</th>\n",
              "      <td>0.038041</td>\n",
              "      <td>0.057941</td>\n",
              "      <td>0.037300</td>\n",
              "      <td>0.062260</td>\n",
              "      <td>0.041105</td>\n",
              "      <td>0.057204</td>\n",
              "      <td>0.035599</td>\n",
              "      <td>0.059470</td>\n",
              "    </tr>\n",
              "    <tr>\n",
              "      <th>4</th>\n",
              "      <td>0.037300</td>\n",
              "      <td>0.062260</td>\n",
              "      <td>0.041105</td>\n",
              "      <td>0.057204</td>\n",
              "      <td>0.035599</td>\n",
              "      <td>0.059470</td>\n",
              "      <td>0.037363</td>\n",
              "      <td>0.060825</td>\n",
              "    </tr>\n",
              "    <tr>\n",
              "      <th>5</th>\n",
              "      <td>0.041105</td>\n",
              "      <td>0.057204</td>\n",
              "      <td>0.035599</td>\n",
              "      <td>0.059470</td>\n",
              "      <td>0.037363</td>\n",
              "      <td>0.060825</td>\n",
              "      <td>0.038222</td>\n",
              "      <td>0.062482</td>\n",
              "    </tr>\n",
              "    <tr>\n",
              "      <th>6</th>\n",
              "      <td>0.035599</td>\n",
              "      <td>0.059470</td>\n",
              "      <td>0.037363</td>\n",
              "      <td>0.060825</td>\n",
              "      <td>0.038222</td>\n",
              "      <td>0.062482</td>\n",
              "      <td>0.039388</td>\n",
              "      <td>0.062181</td>\n",
              "    </tr>\n",
              "    <tr>\n",
              "      <th>7</th>\n",
              "      <td>0.037363</td>\n",
              "      <td>0.060825</td>\n",
              "      <td>0.038222</td>\n",
              "      <td>0.062482</td>\n",
              "      <td>0.039388</td>\n",
              "      <td>0.062181</td>\n",
              "      <td>0.038608</td>\n",
              "      <td>0.063441</td>\n",
              "    </tr>\n",
              "  </tbody>\n",
              "</table>\n",
              "</div>"
            ],
            "text/plain": [
              "   var1(t-3)  var2(t-3)  var1(t-2)  ...  var2(t-1)   var1(t)   var2(t)\n",
              "3   0.038041   0.057941   0.037300  ...   0.057204  0.035599  0.059470\n",
              "4   0.037300   0.062260   0.041105  ...   0.059470  0.037363  0.060825\n",
              "5   0.041105   0.057204   0.035599  ...   0.060825  0.038222  0.062482\n",
              "6   0.035599   0.059470   0.037363  ...   0.062482  0.039388  0.062181\n",
              "7   0.037363   0.060825   0.038222  ...   0.062181  0.038608  0.063441\n",
              "\n",
              "[5 rows x 8 columns]"
            ]
          },
          "metadata": {
            "tags": []
          },
          "execution_count": 11
        },
        {
          "output_type": "stream",
          "text": [
            "time: 24.1 ms (started: 2021-05-15 07:10:36 +00:00)\n"
          ],
          "name": "stdout"
        }
      ]
    },
    {
      "cell_type": "code",
      "metadata": {
        "colab": {
          "base_uri": "https://localhost:8080/"
        },
        "id": "peUy104owszp",
        "outputId": "a394a97d-0215-4d94-f5ad-f5485767972a"
      },
      "source": [
        "# Show last column (to be removed)\n",
        "num_rows, num_cols = reframed.shape\n",
        "n = print (num_cols)\n",
        "n"
      ],
      "execution_count": null,
      "outputs": [
        {
          "output_type": "stream",
          "text": [
            "8\n",
            "time: 3.48 ms (started: 2021-05-15 07:10:36 +00:00)\n"
          ],
          "name": "stdout"
        }
      ]
    },
    {
      "cell_type": "code",
      "metadata": {
        "colab": {
          "base_uri": "https://localhost:8080/"
        },
        "id": "WjwBk1SksAjw",
        "outputId": "4c975098-a3ed-4fcc-f389-3ef3c14ee7ff"
      },
      "source": [
        "# drop columns we don't want to predict\n",
        "n = 7 # number of last column (from above) minus 1 (the index column)\n",
        "reframed.drop(reframed.columns[[n]], axis=1, inplace=True)\n",
        "print(reframed.head())"
      ],
      "execution_count": null,
      "outputs": [
        {
          "output_type": "stream",
          "text": [
            "   var1(t-3)  var2(t-3)  var1(t-2)  var2(t-2)  var1(t-1)  var2(t-1)   var1(t)\n",
            "3   0.038041   0.057941   0.037300   0.062260   0.041105   0.057204  0.035599\n",
            "4   0.037300   0.062260   0.041105   0.057204   0.035599   0.059470  0.037363\n",
            "5   0.041105   0.057204   0.035599   0.059470   0.037363   0.060825  0.038222\n",
            "6   0.035599   0.059470   0.037363   0.060825   0.038222   0.062482  0.039388\n",
            "7   0.037363   0.060825   0.038222   0.062482   0.039388   0.062181  0.038608\n",
            "time: 22.6 ms (started: 2021-05-15 07:10:36 +00:00)\n"
          ],
          "name": "stdout"
        }
      ]
    },
    {
      "cell_type": "markdown",
      "metadata": {
        "id": "tGXlL5dRpCNs"
      },
      "source": [
        "#### **Shape for LSTM**"
      ]
    },
    {
      "cell_type": "code",
      "metadata": {
        "colab": {
          "base_uri": "https://localhost:8080/"
        },
        "id": "humf4h6zyKTw",
        "outputId": "7ad4ffc1-22b8-4d99-c98e-970f86ddacdc"
      },
      "source": [
        "# how many rows (time stamps)?\n",
        "reframed.shape[0]"
      ],
      "execution_count": null,
      "outputs": [
        {
          "output_type": "execute_result",
          "data": {
            "text/plain": [
              "2512"
            ]
          },
          "metadata": {
            "tags": []
          },
          "execution_count": 14
        },
        {
          "output_type": "stream",
          "text": [
            "time: 3.74 ms (started: 2021-05-15 07:10:36 +00:00)\n"
          ],
          "name": "stdout"
        }
      ]
    },
    {
      "cell_type": "code",
      "metadata": {
        "colab": {
          "base_uri": "https://localhost:8080/"
        },
        "id": "8mmYnhfgEnku",
        "outputId": "64fd4300-9a95-45dd-a09e-299978a489df"
      },
      "source": [
        "values = reframed.values\n",
        "train_time = 2000\n",
        "train = values[:train_time, :]\n",
        "test = values[train_time:, :]"
      ],
      "execution_count": null,
      "outputs": [
        {
          "output_type": "stream",
          "text": [
            "time: 2.59 ms (started: 2021-05-15 07:10:36 +00:00)\n"
          ],
          "name": "stdout"
        }
      ]
    },
    {
      "cell_type": "code",
      "metadata": {
        "colab": {
          "base_uri": "https://localhost:8080/"
        },
        "id": "SWZMJsYCyAPp",
        "outputId": "f1549d34-2038-4d4c-9535-b087fa457b71"
      },
      "source": [
        "# split into input and outputs\n",
        "n_obs = windows * features\n",
        "train_X, train_y = train[:, :n_obs], train[:, -features]\n",
        "test_X, test_y = test[:, :n_obs], test[:, -features]\n",
        "print(train_X.shape, len(train_X), train_y.shape)"
      ],
      "execution_count": null,
      "outputs": [
        {
          "output_type": "stream",
          "text": [
            "(2000, 6) 2000 (2000,)\n",
            "time: 5.34 ms (started: 2021-05-15 07:10:36 +00:00)\n"
          ],
          "name": "stdout"
        }
      ]
    },
    {
      "cell_type": "code",
      "metadata": {
        "colab": {
          "base_uri": "https://localhost:8080/"
        },
        "id": "MXh_ebEMx-qx",
        "outputId": "4304460d-98f7-4a14-8d71-359a69606d98"
      },
      "source": [
        "# reshape input to be 3D [samples, timesteps, features]\n",
        "train_X = train_X.reshape((train_X.shape[0], windows, features))\n",
        "test_X = test_X.reshape((test_X.shape[0], windows, features))"
      ],
      "execution_count": null,
      "outputs": [
        {
          "output_type": "stream",
          "text": [
            "time: 3.18 ms (started: 2021-05-15 07:10:36 +00:00)\n"
          ],
          "name": "stdout"
        }
      ]
    },
    {
      "cell_type": "code",
      "metadata": {
        "colab": {
          "base_uri": "https://localhost:8080/"
        },
        "id": "zO75KO7bFRMW",
        "outputId": "7397972b-62e0-40a1-a867-b342d3c8976a"
      },
      "source": [
        "print(test_X.shape, len(test_X), test_y.shape)"
      ],
      "execution_count": null,
      "outputs": [
        {
          "output_type": "stream",
          "text": [
            "(512, 3, 2) 512 (512,)\n",
            "time: 2.28 ms (started: 2021-05-15 07:10:36 +00:00)\n"
          ],
          "name": "stdout"
        }
      ]
    },
    {
      "cell_type": "code",
      "metadata": {
        "colab": {
          "base_uri": "https://localhost:8080/"
        },
        "id": "rhnLYVOd9_g7",
        "outputId": "86e21285-c5ce-4660-a82c-7de902a2f256"
      },
      "source": [
        "test_X"
      ],
      "execution_count": null,
      "outputs": [
        {
          "output_type": "execute_result",
          "data": {
            "text/plain": [
              "array([[[0.6974705 , 0.72154284],\n",
              "        [0.6997629 , 0.73530084],\n",
              "        [0.7129499 , 0.73539597]],\n",
              "\n",
              "       [[0.6997629 , 0.73530084],\n",
              "        [0.7129499 , 0.73539597],\n",
              "        [0.712556  , 0.7439867 ]],\n",
              "\n",
              "       [[0.7129499 , 0.73539597],\n",
              "        [0.712556  , 0.7439867 ],\n",
              "        [0.72060686, 0.74274254]],\n",
              "\n",
              "       ...,\n",
              "\n",
              "       [[0.99822754, 0.99993664],\n",
              "        [0.9994485 , 0.99999994],\n",
              "        [1.        , 0.98370594]],\n",
              "\n",
              "       [[0.9994485 , 0.99999994],\n",
              "        [1.        , 0.98370594],\n",
              "        [0.9842921 , 0.95722014]],\n",
              "\n",
              "       [[1.        , 0.98370594],\n",
              "        [0.9842921 , 0.95722014],\n",
              "        [0.95844597, 0.97151715]]], dtype=float32)"
            ]
          },
          "metadata": {
            "tags": []
          },
          "execution_count": 19
        },
        {
          "output_type": "stream",
          "text": [
            "time: 8.9 ms (started: 2021-05-15 07:10:36 +00:00)\n"
          ],
          "name": "stdout"
        }
      ]
    },
    {
      "cell_type": "markdown",
      "metadata": {
        "id": "lPhp3-pUzDQL"
      },
      "source": [
        "## **Define and Fit LSTM Multivariate Model**"
      ]
    },
    {
      "cell_type": "code",
      "metadata": {
        "colab": {
          "base_uri": "https://localhost:8080/"
        },
        "id": "BtC5Z3D8uKtP",
        "outputId": "9f04fe04-146a-4235-a663-fb3234f07461"
      },
      "source": [
        "# design network\n",
        "model = Sequential()\n",
        "model.add(LSTM(50, input_shape=(train_X.shape[1], train_X.shape[2])))\n",
        "model.add(Dense(10))\n",
        "model.add(Dense(1))\n",
        "model.compile(loss='mae', optimizer='adam')"
      ],
      "execution_count": null,
      "outputs": [
        {
          "output_type": "stream",
          "text": [
            "time: 567 ms (started: 2021-05-15 07:10:41 +00:00)\n"
          ],
          "name": "stdout"
        }
      ]
    },
    {
      "cell_type": "code",
      "metadata": {
        "colab": {
          "base_uri": "https://localhost:8080/"
        },
        "id": "h70lwqUVuN3i",
        "outputId": "36f3e45e-d098-4534-f503-2ee1a9e8623b"
      },
      "source": [
        "model.summary()"
      ],
      "execution_count": null,
      "outputs": [
        {
          "output_type": "stream",
          "text": [
            "Model: \"sequential\"\n",
            "_________________________________________________________________\n",
            "Layer (type)                 Output Shape              Param #   \n",
            "=================================================================\n",
            "lstm (LSTM)                  (None, 50)                10600     \n",
            "_________________________________________________________________\n",
            "dense (Dense)                (None, 10)                510       \n",
            "_________________________________________________________________\n",
            "dense_1 (Dense)              (None, 1)                 11        \n",
            "=================================================================\n",
            "Total params: 11,121\n",
            "Trainable params: 11,121\n",
            "Non-trainable params: 0\n",
            "_________________________________________________________________\n",
            "time: 9.39 ms (started: 2021-05-15 07:10:42 +00:00)\n"
          ],
          "name": "stdout"
        }
      ]
    },
    {
      "cell_type": "code",
      "metadata": {
        "colab": {
          "base_uri": "https://localhost:8080/"
        },
        "id": "jEgZ8-NEpK_T",
        "outputId": "d928a14c-4456-46aa-c368-0e329421368a"
      },
      "source": [
        "# fit network\n",
        "history = model.fit(train_X, train_y, \n",
        "                    epochs=20, \n",
        "                    batch_size=72, \n",
        "                    validation_data=(test_X, test_y), \n",
        "                    verbose=1, \n",
        "                    shuffle=False)"
      ],
      "execution_count": null,
      "outputs": [
        {
          "output_type": "stream",
          "text": [
            "Epoch 1/20\n",
            "28/28 [==============================] - 3s 34ms/step - loss: 0.0840 - val_loss: 0.0491\n",
            "Epoch 2/20\n",
            "28/28 [==============================] - 0s 5ms/step - loss: 0.1804 - val_loss: 0.1554\n",
            "Epoch 3/20\n",
            "28/28 [==============================] - 0s 5ms/step - loss: 0.0370 - val_loss: 0.0277\n",
            "Epoch 4/20\n",
            "28/28 [==============================] - 0s 5ms/step - loss: 0.0309 - val_loss: 0.0530\n",
            "Epoch 5/20\n",
            "28/28 [==============================] - 0s 5ms/step - loss: 0.0230 - val_loss: 0.0354\n",
            "Epoch 6/20\n",
            "28/28 [==============================] - 0s 5ms/step - loss: 0.0214 - val_loss: 0.0377\n",
            "Epoch 7/20\n",
            "28/28 [==============================] - 0s 6ms/step - loss: 0.0175 - val_loss: 0.0377\n",
            "Epoch 8/20\n",
            "28/28 [==============================] - 0s 5ms/step - loss: 0.0153 - val_loss: 0.0410\n",
            "Epoch 9/20\n",
            "28/28 [==============================] - 0s 6ms/step - loss: 0.0142 - val_loss: 0.0402\n",
            "Epoch 10/20\n",
            "28/28 [==============================] - 0s 5ms/step - loss: 0.0146 - val_loss: 0.0540\n",
            "Epoch 11/20\n",
            "28/28 [==============================] - 0s 5ms/step - loss: 0.0240 - val_loss: 0.0255\n",
            "Epoch 12/20\n",
            "28/28 [==============================] - 0s 6ms/step - loss: 0.0137 - val_loss: 0.0255\n",
            "Epoch 13/20\n",
            "28/28 [==============================] - 0s 5ms/step - loss: 0.0085 - val_loss: 0.0087\n",
            "Epoch 14/20\n",
            "28/28 [==============================] - 0s 6ms/step - loss: 0.0097 - val_loss: 0.0437\n",
            "Epoch 15/20\n",
            "28/28 [==============================] - 0s 5ms/step - loss: 0.0187 - val_loss: 0.0093\n",
            "Epoch 16/20\n",
            "28/28 [==============================] - 0s 5ms/step - loss: 0.0037 - val_loss: 0.0114\n",
            "Epoch 17/20\n",
            "28/28 [==============================] - 0s 5ms/step - loss: 0.0175 - val_loss: 0.0183\n",
            "Epoch 18/20\n",
            "28/28 [==============================] - 0s 6ms/step - loss: 0.0054 - val_loss: 0.0091\n",
            "Epoch 19/20\n",
            "28/28 [==============================] - 0s 6ms/step - loss: 0.0135 - val_loss: 0.0104\n",
            "Epoch 20/20\n",
            "28/28 [==============================] - 0s 6ms/step - loss: 0.0048 - val_loss: 0.0101\n",
            "time: 6.14 s (started: 2021-05-15 07:10:42 +00:00)\n"
          ],
          "name": "stdout"
        }
      ]
    },
    {
      "cell_type": "code",
      "metadata": {
        "colab": {
          "base_uri": "https://localhost:8080/",
          "height": 72
        },
        "id": "7docl58R0PCm",
        "outputId": "4b5fb066-e61f-4086-b964-a9158b8aa05e"
      },
      "source": [
        "# plot history\n",
        "pyplot.plot(history.history['loss'], label='train')\n",
        "pyplot.plot(history.history['val_loss'], label='test')\n",
        "pyplot.legend()\n",
        "pyplot.show()"
      ],
      "execution_count": null,
      "outputs": [
        {
          "output_type": "display_data",
          "data": {
            "image/png": "[encoded data removed]",
            "text/plain": [
              "<Figure size 720x576 with 1 Axes>"
            ]
          },
          "metadata": {
            "tags": []
          }
        },
        {
          "output_type": "stream",
          "text": [
            "time: 333 ms (started: 2021-05-15 07:10:48 +00:00)\n"
          ],
          "name": "stdout"
        }
      ]
    },
    {
      "cell_type": "markdown",
      "metadata": {
        "id": "SP-YXG7CpUCM"
      },
      "source": [
        "## **Postprocess Data**"
      ]
    },
    {
      "cell_type": "markdown",
      "metadata": {
        "id": "ubQEAzIJ2rec"
      },
      "source": [
        "#### **Make a prediction**"
      ]
    },
    {
      "cell_type": "code",
      "metadata": {
        "colab": {
          "base_uri": "https://localhost:8080/"
        },
        "id": "hR3nLuWlzXQf",
        "outputId": "985f8e26-b9bc-4e4d-85c3-e30298c972d6"
      },
      "source": [
        "# make a prediction\n",
        "yhat = model.predict(test_X)\n",
        "test_X = test_X.reshape((test_X.shape[0], windows*features))"
      ],
      "execution_count": null,
      "outputs": [
        {
          "output_type": "stream",
          "text": [
            "time: 566 ms (started: 2021-05-15 07:12:05 +00:00)\n"
          ],
          "name": "stdout"
        }
      ]
    },
    {
      "cell_type": "code",
      "metadata": {
        "colab": {
          "base_uri": "https://localhost:8080/"
        },
        "id": "iUud1pR30rzm",
        "outputId": "77512e34-2c70-4368-85ed-427e5123c8d6"
      },
      "source": [
        "# Shape: 6 windows (3 timesteps for 2 features)\n",
        "test_X.shape[0], test_X.shape[1]"
      ],
      "execution_count": null,
      "outputs": [
        {
          "output_type": "execute_result",
          "data": {
            "text/plain": [
              "(512, 6)"
            ]
          },
          "metadata": {
            "tags": []
          },
          "execution_count": 25
        },
        {
          "output_type": "stream",
          "text": [
            "time: 8.85 ms (started: 2021-05-15 07:12:05 +00:00)\n"
          ],
          "name": "stdout"
        }
      ]
    },
    {
      "cell_type": "code",
      "metadata": {
        "colab": {
          "base_uri": "https://localhost:8080/"
        },
        "id": "SG3LedRK4LGI",
        "outputId": "37701165-dc8e-4822-d5e9-1fb3df213f26"
      },
      "source": [
        "test_X [0:5]"
      ],
      "execution_count": null,
      "outputs": [
        {
          "output_type": "execute_result",
          "data": {
            "text/plain": [
              "array([[0.6974705 , 0.72154284, 0.6997629 , 0.73530084, 0.7129499 ,\n",
              "        0.73539597],\n",
              "       [0.6997629 , 0.73530084, 0.7129499 , 0.73539597, 0.712556  ,\n",
              "        0.7439867 ],\n",
              "       [0.7129499 , 0.73539597, 0.712556  , 0.7439867 , 0.72060686,\n",
              "        0.74274254],\n",
              "       [0.712556  , 0.7439867 , 0.72060686, 0.74274254, 0.7188817 ,\n",
              "        0.7493521 ],\n",
              "       [0.72060686, 0.74274254, 0.7188817 , 0.7493521 , 0.7249632 ,\n",
              "        0.7643464 ]], dtype=float32)"
            ]
          },
          "metadata": {
            "tags": []
          },
          "execution_count": 26
        },
        {
          "output_type": "stream",
          "text": [
            "time: 9.24 ms (started: 2021-05-15 07:12:05 +00:00)\n"
          ],
          "name": "stdout"
        }
      ]
    },
    {
      "cell_type": "code",
      "metadata": {
        "colab": {
          "base_uri": "https://localhost:8080/"
        },
        "id": "GxvYcPzN3ERu",
        "outputId": "a5298f07-384c-4a18-94ee-fca0160a827c"
      },
      "source": [
        "# Shape: one timestep forecasted for one feature\n",
        "yhat.shape[0], yhat.shape[1]"
      ],
      "execution_count": null,
      "outputs": [
        {
          "output_type": "execute_result",
          "data": {
            "text/plain": [
              "(512, 1)"
            ]
          },
          "metadata": {
            "tags": []
          },
          "execution_count": 27
        },
        {
          "output_type": "stream",
          "text": [
            "time: 9.64 ms (started: 2021-05-15 07:12:05 +00:00)\n"
          ],
          "name": "stdout"
        }
      ]
    },
    {
      "cell_type": "code",
      "metadata": {
        "colab": {
          "base_uri": "https://localhost:8080/"
        },
        "id": "a5gcnz0G4Dwm",
        "outputId": "4d203c31-14cc-4be7-ae56-04b8f67dfb44"
      },
      "source": [
        "yhat [0:5]"
      ],
      "execution_count": null,
      "outputs": [
        {
          "output_type": "execute_result",
          "data": {
            "text/plain": [
              "array([[0.7279263 ],\n",
              "       [0.73587316],\n",
              "       [0.7387593 ],\n",
              "       [0.74361104],\n",
              "       [0.7504845 ]], dtype=float32)"
            ]
          },
          "metadata": {
            "tags": []
          },
          "execution_count": 28
        },
        {
          "output_type": "stream",
          "text": [
            "time: 9.72 ms (started: 2021-05-15 07:12:05 +00:00)\n"
          ],
          "name": "stdout"
        }
      ]
    },
    {
      "cell_type": "markdown",
      "metadata": {
        "id": "cu0sv43q2uwX"
      },
      "source": [
        "#### **Invert Scaling for Forecast**"
      ]
    },
    {
      "cell_type": "code",
      "metadata": {
        "colab": {
          "base_uri": "https://localhost:8080/"
        },
        "id": "929bPPIu9nNl",
        "outputId": "23ea2e02-b0f3-4003-d60d-d89ff8d1ec42"
      },
      "source": [
        "# remove all other features to align matrix structure\n",
        "inv_yhat = concatenate((yhat, test_X[:, -1:]), axis=1)\n",
        "inv_yhat [0:5]"
      ],
      "execution_count": null,
      "outputs": [
        {
          "output_type": "execute_result",
          "data": {
            "text/plain": [
              "array([[0.7279263 , 0.73539597],\n",
              "       [0.73587316, 0.7439867 ],\n",
              "       [0.7387593 , 0.74274254],\n",
              "       [0.74361104, 0.7493521 ],\n",
              "       [0.7504845 , 0.7643464 ]], dtype=float32)"
            ]
          },
          "metadata": {
            "tags": []
          },
          "execution_count": 29
        },
        {
          "output_type": "stream",
          "text": [
            "time: 12 ms (started: 2021-05-15 07:12:05 +00:00)\n"
          ],
          "name": "stdout"
        }
      ]
    },
    {
      "cell_type": "code",
      "metadata": {
        "colab": {
          "base_uri": "https://localhost:8080/"
        },
        "id": "t-Rh-nPU4wjO",
        "outputId": "a7911b96-73e3-4b5b-e7ac-19eb7becc938"
      },
      "source": [
        "inv_yhat.shape[0], inv_yhat.shape[1]"
      ],
      "execution_count": null,
      "outputs": [
        {
          "output_type": "execute_result",
          "data": {
            "text/plain": [
              "(512, 2)"
            ]
          },
          "metadata": {
            "tags": []
          },
          "execution_count": 30
        },
        {
          "output_type": "stream",
          "text": [
            "time: 16.1 ms (started: 2021-05-15 07:12:05 +00:00)\n"
          ],
          "name": "stdout"
        }
      ]
    },
    {
      "cell_type": "code",
      "metadata": {
        "colab": {
          "base_uri": "https://localhost:8080/"
        },
        "id": "uDs6im4U4mTg",
        "outputId": "0209335d-f60b-4593-a9a4-935f695d1818"
      },
      "source": [
        "inv_yhat = scaler.inverse_transform(inv_yhat)[:, [1]]\n",
        "inv_yhat [0:5]"
      ],
      "execution_count": null,
      "outputs": [
        {
          "output_type": "execute_result",
          "data": {
            "text/plain": [
              "array([[1135.24],\n",
              "       [1146.08],\n",
              "       [1144.51],\n",
              "       [1152.85],\n",
              "       [1171.77]], dtype=float32)"
            ]
          },
          "metadata": {
            "tags": []
          },
          "execution_count": 31
        },
        {
          "output_type": "stream",
          "text": [
            "time: 9.25 ms (started: 2021-05-15 07:12:05 +00:00)\n"
          ],
          "name": "stdout"
        }
      ]
    },
    {
      "cell_type": "code",
      "metadata": {
        "colab": {
          "base_uri": "https://localhost:8080/"
        },
        "id": "ueyV1uY7CMi4",
        "outputId": "d2a658c7-a101-4beb-e5b4-aa9008295ba3"
      },
      "source": [
        "inv_yhat = inv_yhat[:,0]"
      ],
      "execution_count": null,
      "outputs": [
        {
          "output_type": "stream",
          "text": [
            "time: 4.69 ms (started: 2021-05-15 07:12:05 +00:00)\n"
          ],
          "name": "stdout"
        }
      ]
    },
    {
      "cell_type": "code",
      "metadata": {
        "colab": {
          "base_uri": "https://localhost:8080/"
        },
        "id": "SJgxsIuwCN7G",
        "outputId": "e7541b4e-a7fa-4610-ca3b-75180c73e511"
      },
      "source": [
        "inv_yhat [0:5]"
      ],
      "execution_count": null,
      "outputs": [
        {
          "output_type": "execute_result",
          "data": {
            "text/plain": [
              "array([1135.24, 1146.08, 1144.51, 1152.85, 1171.77], dtype=float32)"
            ]
          },
          "metadata": {
            "tags": []
          },
          "execution_count": 33
        },
        {
          "output_type": "stream",
          "text": [
            "time: 8.41 ms (started: 2021-05-15 07:12:05 +00:00)\n"
          ],
          "name": "stdout"
        }
      ]
    },
    {
      "cell_type": "markdown",
      "metadata": {
        "id": "wY8NPH8u2w4-"
      },
      "source": [
        "#### **invert scaling for actual**"
      ]
    },
    {
      "cell_type": "code",
      "metadata": {
        "colab": {
          "base_uri": "https://localhost:8080/"
        },
        "id": "fSxtQp9O1c67",
        "outputId": "3c58924e-55b5-4195-ee54-2960677376bf"
      },
      "source": [
        "# invert scaling for actual\n",
        "test_y = test_y.reshape((len(test_y), 1))\n",
        "test_y [0:5]"
      ],
      "execution_count": null,
      "outputs": [
        {
          "output_type": "execute_result",
          "data": {
            "text/plain": [
              "array([[0.73539597],\n",
              "       [0.7439867 ],\n",
              "       [0.74274254],\n",
              "       [0.7493521 ],\n",
              "       [0.7643464 ]], dtype=float32)"
            ]
          },
          "metadata": {
            "tags": []
          },
          "execution_count": 34
        },
        {
          "output_type": "stream",
          "text": [
            "time: 13.1 ms (started: 2021-05-15 07:12:05 +00:00)\n"
          ],
          "name": "stdout"
        }
      ]
    },
    {
      "cell_type": "code",
      "metadata": {
        "colab": {
          "base_uri": "https://localhost:8080/"
        },
        "id": "9csZywC515Hj",
        "outputId": "2a525850-ca8c-49a5-ccb7-2170e49fa1bf"
      },
      "source": [
        "inv_y = concatenate((test_y, test_X[:, -1:]), axis=1)\n",
        "inv_y [0:5]"
      ],
      "execution_count": null,
      "outputs": [
        {
          "output_type": "execute_result",
          "data": {
            "text/plain": [
              "array([[0.73539597, 0.73539597],\n",
              "       [0.7439867 , 0.7439867 ],\n",
              "       [0.74274254, 0.74274254],\n",
              "       [0.7493521 , 0.7493521 ],\n",
              "       [0.7643464 , 0.7643464 ]], dtype=float32)"
            ]
          },
          "metadata": {
            "tags": []
          },
          "execution_count": 35
        },
        {
          "output_type": "stream",
          "text": [
            "time: 10.2 ms (started: 2021-05-15 07:12:06 +00:00)\n"
          ],
          "name": "stdout"
        }
      ]
    },
    {
      "cell_type": "code",
      "metadata": {
        "colab": {
          "base_uri": "https://localhost:8080/"
        },
        "id": "rlE2PPCftlWq",
        "outputId": "f73ed74b-6515-4276-d9ef-b59ca41197f0"
      },
      "source": [
        "inv_y = scaler.inverse_transform(inv_y)"
      ],
      "execution_count": null,
      "outputs": [
        {
          "output_type": "stream",
          "text": [
            "time: 2.48 ms (started: 2021-05-15 07:12:06 +00:00)\n"
          ],
          "name": "stdout"
        }
      ]
    },
    {
      "cell_type": "code",
      "metadata": {
        "colab": {
          "base_uri": "https://localhost:8080/"
        },
        "id": "hRXKpcEhCWYq",
        "outputId": "82952d0c-1a70-4eb2-e4cf-24e7638d6749"
      },
      "source": [
        "inv_y = inv_y[:,0]"
      ],
      "execution_count": null,
      "outputs": [
        {
          "output_type": "stream",
          "text": [
            "time: 1.39 ms (started: 2021-05-15 07:12:06 +00:00)\n"
          ],
          "name": "stdout"
        }
      ]
    },
    {
      "cell_type": "code",
      "metadata": {
        "colab": {
          "base_uri": "https://localhost:8080/"
        },
        "id": "KVavK-_NCeL9",
        "outputId": "58fdf4f2-ce56-473d-9199-43886dea6d7b"
      },
      "source": [
        "inv_y [0:5]"
      ],
      "execution_count": null,
      "outputs": [
        {
          "output_type": "execute_result",
          "data": {
            "text/plain": [
              "array([1150.7537, 1161.659 , 1160.0797, 1168.4701, 1187.5043],\n",
              "      dtype=float32)"
            ]
          },
          "metadata": {
            "tags": []
          },
          "execution_count": 38
        },
        {
          "output_type": "stream",
          "text": [
            "time: 9.38 ms (started: 2021-05-15 07:12:06 +00:00)\n"
          ],
          "name": "stdout"
        }
      ]
    },
    {
      "cell_type": "markdown",
      "metadata": {
        "id": "6E9PE7QMt3tQ"
      },
      "source": [
        "## **Evaluate Model**"
      ]
    },
    {
      "cell_type": "markdown",
      "metadata": {
        "id": "7mmdTZZs3bue"
      },
      "source": [
        "#### **Calculate RMSE**"
      ]
    },
    {
      "cell_type": "code",
      "metadata": {
        "colab": {
          "base_uri": "https://localhost:8080/"
        },
        "id": "IWmM9CgY3buf",
        "outputId": "9f12868a-d5ca-4725-ddd5-6f1b6134f0f7"
      },
      "source": [
        "rmse = sqrt(mean_squared_error(inv_y, inv_yhat))\n",
        "print('Test RMSE: %.2f' % rmse)"
      ],
      "execution_count": null,
      "outputs": [
        {
          "output_type": "stream",
          "text": [
            "Test RMSE: 16.05\n",
            "time: 10.5 ms (started: 2021-05-15 07:12:09 +00:00)\n"
          ],
          "name": "stdout"
        }
      ]
    },
    {
      "cell_type": "markdown",
      "metadata": {
        "id": "rYqphYFU3a0x"
      },
      "source": [
        "#### **Calculate RMSE**"
      ]
    },
    {
      "cell_type": "code",
      "metadata": {
        "colab": {
          "base_uri": "https://localhost:8080/"
        },
        "id": "zTYrlOpZ3a0y",
        "outputId": "40b06da3-0e57-48c5-dbf3-07b2ccd25dcd"
      },
      "source": [
        "rmse = sqrt(mean_squared_error(inv_y, inv_yhat))\n",
        "print('Test RMSE: %.2f' % rmse)"
      ],
      "execution_count": null,
      "outputs": [
        {
          "output_type": "stream",
          "text": [
            "Test RMSE: 16.05\n",
            "time: 6.35 ms (started: 2021-05-15 07:12:09 +00:00)\n"
          ],
          "name": "stdout"
        }
      ]
    },
    {
      "cell_type": "markdown",
      "metadata": {
        "id": "-0t941Iz2zpR"
      },
      "source": [
        "#### **Calculate RMSE**"
      ]
    },
    {
      "cell_type": "code",
      "metadata": {
        "colab": {
          "base_uri": "https://localhost:8080/"
        },
        "id": "iNmqypy5pV48",
        "outputId": "17291cf4-bced-4a0c-a102-a1c2d41b4e10"
      },
      "source": [
        "rmse = sqrt(mean_squared_error(inv_y, inv_yhat))\n",
        "print('Test RMSE: %.2f' % rmse)"
      ],
      "execution_count": null,
      "outputs": [
        {
          "output_type": "stream",
          "text": [
            "Test RMSE: 16.05\n",
            "time: 4.57 ms (started: 2021-05-15 07:12:09 +00:00)\n"
          ],
          "name": "stdout"
        }
      ]
    },
    {
      "cell_type": "markdown",
      "metadata": {
        "id": "2d7RYRD33UuK"
      },
      "source": [
        "#### **Residuals**"
      ]
    },
    {
      "cell_type": "code",
      "metadata": {
        "colab": {
          "base_uri": "https://localhost:8080/",
          "height": 695
        },
        "id": "RJjcHho9NTIa",
        "outputId": "fc89b032-4695-405a-ff03-c64041609620"
      },
      "source": [
        "test_y_plot = pd.DataFrame(data=test_y, columns=['test_y'])\n",
        "yhat_plot = pd.DataFrame(data=yhat, columns=['yhat'])\n",
        "\n",
        "sns.set(rc={'figure.figsize':(10, 5)})\n",
        "test_y_plot.plot(title='Residuals')\n",
        "yhat_plot.plot(title='Residuals')"
      ],
      "execution_count": null,
      "outputs": [
        {
          "output_type": "execute_result",
          "data": {
            "text/plain": [
              "<matplotlib.axes._subplots.AxesSubplot at 0x7fb7e232a990>"
            ]
          },
          "metadata": {
            "tags": []
          },
          "execution_count": 42
        },
        {
          "output_type": "display_data",
          "data": {
            "image/png": "[encoded data removed]",
            "text/plain": [
              "<Figure size 720x360 with 1 Axes>"
            ]
          },
          "metadata": {
            "tags": []
          }
        },
        {
          "output_type": "display_data",
          "data": {
            "image/png": "[encoded data removed]",
            "text/plain": [
              "<Figure size 720x360 with 1 Axes>"
            ]
          },
          "metadata": {
            "tags": []
          }
        },
        {
          "output_type": "stream",
          "text": [
            "time: 819 ms (started: 2021-05-15 07:12:09 +00:00)\n"
          ],
          "name": "stdout"
        }
      ]
    },
    {
      "cell_type": "code",
      "metadata": {
        "colab": {
          "base_uri": "https://localhost:8080/",
          "height": 222
        },
        "id": "E0hieeLrtriv",
        "outputId": "e643a75f-0e09-40a4-a10b-363aa0fadd49"
      },
      "source": [
        "# Get residuals (normalized)\n",
        "residuals = (test_y[0] - yhat[:,0])\n",
        "res = pd.DataFrame(data=residuals, columns=['residuals'])\n",
        "res.head()"
      ],
      "execution_count": null,
      "outputs": [
        {
          "output_type": "execute_result",
          "data": {
            "text/html": [
              "<div>\n",
              "<style scoped>\n",
              "    .dataframe tbody tr th:only-of-type {\n",
              "        vertical-align: middle;\n",
              "    }\n",
              "\n",
              "    .dataframe tbody tr th {\n",
              "        vertical-align: top;\n",
              "    }\n",
              "\n",
              "    .dataframe thead th {\n",
              "        text-align: right;\n",
              "    }\n",
              "</style>\n",
              "<table border=\"1\" class=\"dataframe\">\n",
              "  <thead>\n",
              "    <tr style=\"text-align: right;\">\n",
              "      <th></th>\n",
              "      <th>residuals</th>\n",
              "    </tr>\n",
              "  </thead>\n",
              "  <tbody>\n",
              "    <tr>\n",
              "      <th>0</th>\n",
              "      <td>0.007470</td>\n",
              "    </tr>\n",
              "    <tr>\n",
              "      <th>1</th>\n",
              "      <td>-0.000477</td>\n",
              "    </tr>\n",
              "    <tr>\n",
              "      <th>2</th>\n",
              "      <td>-0.003363</td>\n",
              "    </tr>\n",
              "    <tr>\n",
              "      <th>3</th>\n",
              "      <td>-0.008215</td>\n",
              "    </tr>\n",
              "    <tr>\n",
              "      <th>4</th>\n",
              "      <td>-0.015089</td>\n",
              "    </tr>\n",
              "  </tbody>\n",
              "</table>\n",
              "</div>"
            ],
            "text/plain": [
              "   residuals\n",
              "0   0.007470\n",
              "1  -0.000477\n",
              "2  -0.003363\n",
              "3  -0.008215\n",
              "4  -0.015089"
            ]
          },
          "metadata": {
            "tags": []
          },
          "execution_count": 43
        },
        {
          "output_type": "stream",
          "text": [
            "time: 17 ms (started: 2021-05-15 07:12:10 +00:00)\n"
          ],
          "name": "stdout"
        }
      ]
    },
    {
      "cell_type": "code",
      "metadata": {
        "colab": {
          "base_uri": "https://localhost:8080/",
          "height": 374
        },
        "id": "aGmZWGOMt7dR",
        "outputId": "f47cd91a-ac91-4efc-ae95-947f4dc516a8"
      },
      "source": [
        "# Plot Residuals\n",
        "sns.set(rc={'figure.figsize':(10, 5)})\n",
        "res.plot(title='Residuals')"
      ],
      "execution_count": null,
      "outputs": [
        {
          "output_type": "execute_result",
          "data": {
            "text/plain": [
              "<matplotlib.axes._subplots.AxesSubplot at 0x7fb7e2269110>"
            ]
          },
          "metadata": {
            "tags": []
          },
          "execution_count": 44
        },
        {
          "output_type": "display_data",
          "data": {
            "image/png": "[encoded data removed]",
            "text/plain": [
              "<Figure size 720x360 with 1 Axes>"
            ]
          },
          "metadata": {
            "tags": []
          }
        },
        {
          "output_type": "stream",
          "text": [
            "time: 380 ms (started: 2021-05-15 07:12:10 +00:00)\n"
          ],
          "name": "stdout"
        }
      ]
    },
    {
      "cell_type": "markdown",
      "metadata": {
        "id": "yGsirhr33ob7"
      },
      "source": [
        "#### **Plot Results**"
      ]
    },
    {
      "cell_type": "code",
      "metadata": {
        "colab": {
          "base_uri": "https://localhost:8080/",
          "height": 261
        },
        "id": "klPJb6MKuU5X",
        "outputId": "bedb0d68-c0aa-4537-f6f5-270dc728c848"
      },
      "source": [
        "# Plot results\n",
        "\n",
        "# shift train predictions for plotting\n",
        "trainPredictPlot = np.empty_like(dataset)\n",
        "trainPredictPlot[:, :] = np.nan\n",
        "trainPredictPlot[windows:len(yhat)+windows, :] = yhat\n",
        "\n",
        "# shift test predictions for plotting\n",
        "testPredictPlot = np.empty_like(dataset)\n",
        "testPredictPlot[:, :] = np.nan\n",
        "testPredictPlot[len(test_X)+(windows*2)+1:len(dataset)-1, :] = test_X\n",
        "\n",
        "# plot baseline and predictions\n",
        "sns.set(rc={'figure.figsize':(11, 5)})\n",
        "#plt.plot(scaler.inverse_transform(dataset))\n",
        "plt.plot(dataset)\n",
        "plt.plot(trainPredictPlot)\n",
        "plt.plot(testPredictPlot)\n",
        "plt.show()"
      ],
      "execution_count": null,
      "outputs": [
        {
          "output_type": "error",
          "ename": "ValueError",
          "evalue": "ignored",
          "traceback": [
            "\u001b[0;31m---------------------------------------------------------------------------\u001b[0m",
            "\u001b[0;31mValueError\u001b[0m                                Traceback (most recent call last)",
            "\u001b[0;32m<ipython-input-45-63e2da87b58a>\u001b[0m in \u001b[0;36m<module>\u001b[0;34m()\u001b[0m\n\u001b[1;32m      9\u001b[0m \u001b[0mtestPredictPlot\u001b[0m \u001b[0;34m=\u001b[0m \u001b[0mnp\u001b[0m\u001b[0;34m.\u001b[0m\u001b[0mempty_like\u001b[0m\u001b[0;34m(\u001b[0m\u001b[0mdataset\u001b[0m\u001b[0;34m)\u001b[0m\u001b[0;34m\u001b[0m\u001b[0;34m\u001b[0m\u001b[0m\n\u001b[1;32m     10\u001b[0m \u001b[0mtestPredictPlot\u001b[0m\u001b[0;34m[\u001b[0m\u001b[0;34m:\u001b[0m\u001b[0;34m,\u001b[0m \u001b[0;34m:\u001b[0m\u001b[0;34m]\u001b[0m \u001b[0;34m=\u001b[0m \u001b[0mnp\u001b[0m\u001b[0;34m.\u001b[0m\u001b[0mnan\u001b[0m\u001b[0;34m\u001b[0m\u001b[0;34m\u001b[0m\u001b[0m\n\u001b[0;32m---> 11\u001b[0;31m \u001b[0mtestPredictPlot\u001b[0m\u001b[0;34m[\u001b[0m\u001b[0mlen\u001b[0m\u001b[0;34m(\u001b[0m\u001b[0mtest_X\u001b[0m\u001b[0;34m)\u001b[0m\u001b[0;34m+\u001b[0m\u001b[0;34m(\u001b[0m\u001b[0mwindows\u001b[0m\u001b[0;34m*\u001b[0m\u001b[0;36m2\u001b[0m\u001b[0;34m)\u001b[0m\u001b[0;34m+\u001b[0m\u001b[0;36m1\u001b[0m\u001b[0;34m:\u001b[0m\u001b[0mlen\u001b[0m\u001b[0;34m(\u001b[0m\u001b[0mdataset\u001b[0m\u001b[0;34m)\u001b[0m\u001b[0;34m-\u001b[0m\u001b[0;36m1\u001b[0m\u001b[0;34m,\u001b[0m \u001b[0;34m:\u001b[0m\u001b[0;34m]\u001b[0m \u001b[0;34m=\u001b[0m \u001b[0mtest_X\u001b[0m\u001b[0;34m\u001b[0m\u001b[0;34m\u001b[0m\u001b[0m\n\u001b[0m\u001b[1;32m     12\u001b[0m \u001b[0;34m\u001b[0m\u001b[0m\n\u001b[1;32m     13\u001b[0m \u001b[0;31m# plot baseline and predictions\u001b[0m\u001b[0;34m\u001b[0m\u001b[0;34m\u001b[0m\u001b[0;34m\u001b[0m\u001b[0m\n",
            "\u001b[0;31mValueError\u001b[0m: could not broadcast input array from shape (512,6) into shape (1996,2)"
          ]
        },
        {
          "output_type": "stream",
          "text": [
            "time: 34.2 ms (started: 2021-05-15 07:12:10 +00:00)\n"
          ],
          "name": "stdout"
        }
      ]
    }
  ]
}