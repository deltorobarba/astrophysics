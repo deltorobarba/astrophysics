{
  "nbformat": 4,
  "nbformat_minor": 0,
  "metadata": {
    "colab": {
      "name": "lstm_multi.ipynb",
      "provenance": [],
      "collapsed_sections": [
        "clz5dotBohqM",
        "Np5PDFB27fjf",
        "1iS9fgg6okfr",
        "wLLOE7avooVd",
        "AMcvVI2voyED",
        "tGXlL5dRpCNs",
        "lPhp3-pUzDQL",
        "BVyFo2CU4joq",
        "ubQEAzIJ2rec",
        "cu0sv43q2uwX",
        "6E9PE7QMt3tQ",
        "-0t941Iz2zpR",
        "2d7RYRD33UuK",
        "yGsirhr33ob7"
      ],
      "include_colab_link": true
    },
    "kernelspec": {
      "name": "python3",
      "display_name": "Python 3"
    },
    "language_info": {
      "name": "python"
    }
  },
  "cells": [
    {
      "cell_type": "markdown",
      "metadata": {
        "id": "view-in-github",
        "colab_type": "text"
      },
      "source": [
        "<a href=\"https://colab.research.google.com/github/deltorobarba/machinelearning/blob/master/lstm_multi.ipynb\" target=\"_parent\"><img src=\"https://colab.research.google.com/assets/colab-badge.svg\" alt=\"Open In Colab\"/></a>"
      ]
    },
    {
      "cell_type": "markdown",
      "metadata": {
        "id": "3FWqa48wm7RE"
      },
      "source": [
        "# **LSTM Multivariate Forecasting**"
      ]
    },
    {
      "cell_type": "markdown",
      "metadata": {
        "id": "J4AbwKM9G3Ji"
      },
      "source": [
        "https://machinelearningmastery.com/multivariate-time-series-forecasting-lstms-keras/"
      ]
    },
    {
      "cell_type": "markdown",
      "metadata": {
        "id": "0Og2pP-9G4CL"
      },
      "source": [
        "https://machinelearningmastery.com/how-to-develop-lstm-models-for-multi-step-time-series-forecasting-of-household-power-consumption/"
      ]
    },
    {
      "cell_type": "markdown",
      "metadata": {
        "id": "clz5dotBohqM"
      },
      "source": [
        "## **Import Libraries**"
      ]
    },
    {
      "cell_type": "code",
      "metadata": {
        "colab": {
          "base_uri": "https://localhost:8080/"
        },
        "id": "7IKxXEJJm3Hd",
        "outputId": "a6affe1c-29b8-4108-b44a-e75eb21a1bef"
      },
      "source": [
        "import numpy as np\n",
        "import pandas as pd\n",
        "from math import sqrt\n",
        "import seaborn as sns\n",
        "from pandas import read_csv\n",
        "from matplotlib import pyplot\n",
        "import matplotlib.pyplot as plt\n",
        "from sklearn.preprocessing import MinMaxScaler\n",
        "import math\n",
        "from sklearn.metrics import mean_squared_error\n",
        "import tensorflow as tf\n",
        "from pandas import read_csv\n",
        "from pandas import DataFrame\n",
        "from pandas import concat\n",
        "from sklearn.preprocessing import LabelEncoder\n",
        "from sklearn.preprocessing import MinMaxScaler\n",
        "from numpy import concatenate\n",
        "\n",
        "\n",
        "from tensorflow import keras\n",
        "from tensorflow.keras import layers\n",
        "from keras.models import Sequential\n",
        "from keras.layers import LSTM, Dense\n",
        "\n",
        "print('Tensorflow version %s' % tf.__version__)\n",
        "\n",
        "!pip install --quiet ipython-autotime pandas_gbq\n",
        "%load_ext autotime"
      ],
      "execution_count": 1,
      "outputs": [
        {
          "output_type": "stream",
          "text": [
            "Tensorflow version 2.4.1\n",
            "time: 2.12 ms (started: 2021-05-15 11:52:56 +00:00)\n"
          ],
          "name": "stdout"
        }
      ]
    },
    {
      "cell_type": "markdown",
      "metadata": {
        "id": "Np5PDFB27fjf"
      },
      "source": [
        "## **Preprocess Data**"
      ]
    },
    {
      "cell_type": "markdown",
      "metadata": {
        "id": "1iS9fgg6okfr"
      },
      "source": [
        "#### **Import & Preprocess Data**"
      ]
    },
    {
      "cell_type": "code",
      "metadata": {
        "colab": {
          "base_uri": "https://localhost:8080/"
        },
        "id": "HNndQzIHnnnh",
        "outputId": "d727cede-ab70-4a47-80a2-6abba5ec054d"
      },
      "source": [
        "from pandas import read_csv\n",
        "from datetime import datetime\n",
        "# load data\n",
        "def parse(x):\n",
        "\treturn datetime.strptime(x, '%Y %m %d %H')\n",
        "dataset = pd.read_csv('https://raw.githubusercontent.com/deltorobarba/repo/master/pollution.csv',  parse_dates = [['year', 'month', 'day', 'hour']], index_col=0, date_parser=parse)\n",
        "dataset.drop('No', axis=1, inplace=True)\n",
        "# manually specify column names\n",
        "dataset.columns = ['pollution', 'dew', 'temp', 'press', 'wnd_dir', 'wnd_spd', 'snow', 'rain']\n",
        "dataset.index.name = 'date'\n",
        "# mark all NA values with 0\n",
        "dataset['pollution'].fillna(0, inplace=True)\n",
        "# drop the first 24 hours\n",
        "dataset = dataset[24:]\n",
        "# summarize first 5 rows\n",
        "print(dataset.head(5))"
      ],
      "execution_count": 140,
      "outputs": [
        {
          "output_type": "stream",
          "text": [
            "                     pollution  dew  temp   press wnd_dir  wnd_spd  snow  rain\n",
            "date                                                                          \n",
            "2010-01-02 00:00:00      129.0  -16  -4.0  1020.0      SE     1.79     0     0\n",
            "2010-01-02 01:00:00      148.0  -15  -4.0  1020.0      SE     2.68     0     0\n",
            "2010-01-02 02:00:00      159.0  -11  -5.0  1021.0      SE     3.57     0     0\n",
            "2010-01-02 03:00:00      181.0   -7  -5.0  1022.0      SE     5.36     1     0\n",
            "2010-01-02 04:00:00      138.0   -7  -5.0  1022.0      SE     6.25     2     0\n",
            "time: 926 ms (started: 2021-05-15 12:13:30 +00:00)\n"
          ],
          "name": "stdout"
        }
      ]
    },
    {
      "cell_type": "code",
      "metadata": {
        "colab": {
          "base_uri": "https://localhost:8080/",
          "height": 358
        },
        "id": "5lfcRC7cqTxj",
        "outputId": "6d6ff6ba-b094-4222-b095-a5f992599cf5"
      },
      "source": [
        "url = 'https://raw.githubusercontent.com/deltorobarba/repo/master/timeseries.csv'\n",
        "data = pd.read_csv(url)\n",
        "series = data[['date', 'price1', 'price2']].rename(columns={\"price1\": \"google\", \"price2\": \"apple\"}).set_index('date')\n",
        "series.index = pd.to_datetime(series.index, utc=False)\n",
        "dataset = series.copy()\n",
        "dataset.head()"
      ],
      "execution_count": 141,
      "outputs": [
        {
          "output_type": "execute_result",
          "data": {
            "text/html": [
              "<div>\n",
              "<style scoped>\n",
              "    .dataframe tbody tr th:only-of-type {\n",
              "        vertical-align: middle;\n",
              "    }\n",
              "\n",
              "    .dataframe tbody tr th {\n",
              "        vertical-align: top;\n",
              "    }\n",
              "\n",
              "    .dataframe thead th {\n",
              "        text-align: right;\n",
              "    }\n",
              "</style>\n",
              "<table border=\"1\" class=\"dataframe\">\n",
              "  <thead>\n",
              "    <tr style=\"text-align: right;\">\n",
              "      <th></th>\n",
              "      <th>google</th>\n",
              "      <th>apple</th>\n",
              "    </tr>\n",
              "    <tr>\n",
              "      <th>date</th>\n",
              "      <th></th>\n",
              "      <th></th>\n",
              "    </tr>\n",
              "  </thead>\n",
              "  <tbody>\n",
              "    <tr>\n",
              "      <th>2010-02-01</th>\n",
              "      <td>265.51</td>\n",
              "      <td>280.42</td>\n",
              "    </tr>\n",
              "    <tr>\n",
              "      <th>2010-02-02</th>\n",
              "      <td>264.57</td>\n",
              "      <td>285.87</td>\n",
              "    </tr>\n",
              "    <tr>\n",
              "      <th>2010-02-03</th>\n",
              "      <td>269.40</td>\n",
              "      <td>279.49</td>\n",
              "    </tr>\n",
              "    <tr>\n",
              "      <th>2010-02-04</th>\n",
              "      <td>262.41</td>\n",
              "      <td>282.35</td>\n",
              "    </tr>\n",
              "    <tr>\n",
              "      <th>2010-02-05</th>\n",
              "      <td>264.65</td>\n",
              "      <td>284.06</td>\n",
              "    </tr>\n",
              "  </tbody>\n",
              "</table>\n",
              "</div>"
            ],
            "text/plain": [
              "            google   apple\n",
              "date                      \n",
              "2010-02-01  265.51  280.42\n",
              "2010-02-02  264.57  285.87\n",
              "2010-02-03  269.40  279.49\n",
              "2010-02-04  262.41  282.35\n",
              "2010-02-05  264.65  284.06"
            ]
          },
          "metadata": {
            "tags": []
          },
          "execution_count": 141
        },
        {
          "output_type": "stream",
          "text": [
            "time: 307 ms (started: 2021-05-15 12:13:31 +00:00)\n"
          ],
          "name": "stdout"
        }
      ]
    },
    {
      "cell_type": "markdown",
      "metadata": {
        "id": "wLLOE7avooVd"
      },
      "source": [
        "#### **Visualize Dataset**"
      ]
    },
    {
      "cell_type": "code",
      "metadata": {
        "colab": {
          "base_uri": "https://localhost:8080/",
          "height": 72
        },
        "id": "FwYHvVZYoQX2",
        "outputId": "5dda27b2-1d12-4f3e-ab03-e47af9b1b588"
      },
      "source": [
        "sns.set(rc={'figure.figsize':(10, 8), \"lines.linewidth\": 1.0})\n",
        "\n",
        "# load dataset\n",
        "values = dataset.values\n",
        "# specify columns to plot\n",
        "groups = [0, 1]\n",
        "i = 1\n",
        "# plot each column\n",
        "pyplot.figure()\n",
        "for group in groups:\n",
        "\tpyplot.subplot(len(groups), 1, i)\n",
        "\tpyplot.plot(values[:, group])\n",
        "\tpyplot.title(dataset.columns[group], y=0.5, loc='right')\n",
        "\ti += 1\n",
        "pyplot.show()"
      ],
      "execution_count": 142,
      "outputs": [
        {
          "output_type": "display_data",
          "data": {
            "image/png": "[encoded data removed]",
            "text/plain": [
              "<Figure size 720x576 with 2 Axes>"
            ]
          },
          "metadata": {
            "tags": []
          }
        },
        {
          "output_type": "stream",
          "text": [
            "time: 285 ms (started: 2021-05-15 12:13:32 +00:00)\n"
          ],
          "name": "stdout"
        }
      ]
    },
    {
      "cell_type": "markdown",
      "metadata": {
        "id": "AMcvVI2voyED"
      },
      "source": [
        "#### **LSTM Preprocess Dataset**"
      ]
    },
    {
      "cell_type": "code",
      "metadata": {
        "colab": {
          "base_uri": "https://localhost:8080/"
        },
        "id": "sL9ouXuFu5YB",
        "outputId": "502c87c0-6f35-462b-8f81-50ccbbb6a6c2"
      },
      "source": [
        "windows = 3\n",
        "features = 2"
      ],
      "execution_count": 143,
      "outputs": [
        {
          "output_type": "stream",
          "text": [
            "time: 1.11 ms (started: 2021-05-15 12:13:32 +00:00)\n"
          ],
          "name": "stdout"
        }
      ]
    },
    {
      "cell_type": "code",
      "metadata": {
        "colab": {
          "base_uri": "https://localhost:8080/"
        },
        "id": "AYZJnFpwo1we",
        "outputId": "162e66ef-8b58-4a74-ef30-f2cefd4fb2fa"
      },
      "source": [
        "# convert series to supervised learning\n",
        "def series_to_supervised(data, n_in=1, n_out=1, dropnan=True):\n",
        "\tn_vars = 1 if type(data) is list else data.shape[1]\n",
        "\tdf = DataFrame(data)\n",
        "\tcols, names = list(), list()\n",
        "\t# input sequence (t-n, ... t-1)\n",
        "\tfor i in range(n_in, 0, -1):\n",
        "\t\tcols.append(df.shift(i))\n",
        "\t\tnames += [('var%d(t-%d)' % (j+1, i)) for j in range(n_vars)]\n",
        "\t# forecast sequence (t, t+1, ... t+n)\n",
        "\tfor i in range(0, n_out):\n",
        "\t\tcols.append(df.shift(-i))\n",
        "\t\tif i == 0:\n",
        "\t\t\tnames += [('var%d(t)' % (j+1)) for j in range(n_vars)]\n",
        "\t\telse:\n",
        "\t\t\tnames += [('var%d(t+%d)' % (j+1, i)) for j in range(n_vars)]\n",
        "\t# put it all together\n",
        "\tagg = concat(cols, axis=1)\n",
        "\tagg.columns = names\n",
        "\t# drop rows with NaN values\n",
        "\tif dropnan:\n",
        "\t\tagg.dropna(inplace=True)\n",
        "\treturn agg"
      ],
      "execution_count": 144,
      "outputs": [
        {
          "output_type": "stream",
          "text": [
            "time: 22.2 ms (started: 2021-05-15 12:13:32 +00:00)\n"
          ],
          "name": "stdout"
        }
      ]
    },
    {
      "cell_type": "code",
      "metadata": {
        "colab": {
          "base_uri": "https://localhost:8080/"
        },
        "id": "Q_RcTBBAr5Z_",
        "outputId": "c39f4277-ba81-417a-9de8-81a9ce7a688b"
      },
      "source": [
        "#dataset = read_csv('pollution.csv', header=0, index_col=0)\n",
        "values = dataset.values"
      ],
      "execution_count": 145,
      "outputs": [
        {
          "output_type": "stream",
          "text": [
            "time: 981 µs (started: 2021-05-15 12:13:32 +00:00)\n"
          ],
          "name": "stdout"
        }
      ]
    },
    {
      "cell_type": "code",
      "metadata": {
        "colab": {
          "base_uri": "https://localhost:8080/"
        },
        "id": "yBNgh3AGr7K9",
        "outputId": "b48d2e89-0611-4447-f1b4-0a5870fa65ea"
      },
      "source": [
        "# ensure all data is float\n",
        "values = values.astype('float32')"
      ],
      "execution_count": 146,
      "outputs": [
        {
          "output_type": "stream",
          "text": [
            "time: 1.37 ms (started: 2021-05-15 12:13:32 +00:00)\n"
          ],
          "name": "stdout"
        }
      ]
    },
    {
      "cell_type": "code",
      "metadata": {
        "colab": {
          "base_uri": "https://localhost:8080/"
        },
        "id": "3tmdg5kir9Pw",
        "outputId": "5a3ca292-4bc1-46ee-95e4-2674e71b5cd0"
      },
      "source": [
        "# normalize features\n",
        "scaler = MinMaxScaler(feature_range=(0, 1))\n",
        "scaled = scaler.fit_transform(values)"
      ],
      "execution_count": 147,
      "outputs": [
        {
          "output_type": "stream",
          "text": [
            "time: 2.46 ms (started: 2021-05-15 12:13:32 +00:00)\n"
          ],
          "name": "stdout"
        }
      ]
    },
    {
      "cell_type": "code",
      "metadata": {
        "colab": {
          "base_uri": "https://localhost:8080/"
        },
        "id": "2c0r9o9-r-9q",
        "outputId": "1d1a641a-4cc1-4328-c612-8f31a43e159c"
      },
      "source": [
        "# frame as supervised learning\n",
        "reframed = series_to_supervised(scaled, windows, 1)"
      ],
      "execution_count": 148,
      "outputs": [
        {
          "output_type": "stream",
          "text": [
            "time: 5.65 ms (started: 2021-05-15 12:13:32 +00:00)\n"
          ],
          "name": "stdout"
        }
      ]
    },
    {
      "cell_type": "code",
      "metadata": {
        "colab": {
          "base_uri": "https://localhost:8080/",
          "height": 259
        },
        "id": "KPEcgIjj-J1d",
        "outputId": "e1ee4d9d-34c7-47c1-bad3-953e8dfefa60"
      },
      "source": [
        "# Display data\n",
        "reframed [:5]"
      ],
      "execution_count": 149,
      "outputs": [
        {
          "output_type": "execute_result",
          "data": {
            "text/html": [
              "<div>\n",
              "<style scoped>\n",
              "    .dataframe tbody tr th:only-of-type {\n",
              "        vertical-align: middle;\n",
              "    }\n",
              "\n",
              "    .dataframe tbody tr th {\n",
              "        vertical-align: top;\n",
              "    }\n",
              "\n",
              "    .dataframe thead th {\n",
              "        text-align: right;\n",
              "    }\n",
              "</style>\n",
              "<table border=\"1\" class=\"dataframe\">\n",
              "  <thead>\n",
              "    <tr style=\"text-align: right;\">\n",
              "      <th></th>\n",
              "      <th>var1(t-3)</th>\n",
              "      <th>var2(t-3)</th>\n",
              "      <th>var1(t-2)</th>\n",
              "      <th>var2(t-2)</th>\n",
              "      <th>var1(t-1)</th>\n",
              "      <th>var2(t-1)</th>\n",
              "      <th>var1(t)</th>\n",
              "      <th>var2(t)</th>\n",
              "    </tr>\n",
              "  </thead>\n",
              "  <tbody>\n",
              "    <tr>\n",
              "      <th>3</th>\n",
              "      <td>0.038041</td>\n",
              "      <td>0.057941</td>\n",
              "      <td>0.037300</td>\n",
              "      <td>0.062260</td>\n",
              "      <td>0.041105</td>\n",
              "      <td>0.057204</td>\n",
              "      <td>0.035599</td>\n",
              "      <td>0.059470</td>\n",
              "    </tr>\n",
              "    <tr>\n",
              "      <th>4</th>\n",
              "      <td>0.037300</td>\n",
              "      <td>0.062260</td>\n",
              "      <td>0.041105</td>\n",
              "      <td>0.057204</td>\n",
              "      <td>0.035599</td>\n",
              "      <td>0.059470</td>\n",
              "      <td>0.037363</td>\n",
              "      <td>0.060825</td>\n",
              "    </tr>\n",
              "    <tr>\n",
              "      <th>5</th>\n",
              "      <td>0.041105</td>\n",
              "      <td>0.057204</td>\n",
              "      <td>0.035599</td>\n",
              "      <td>0.059470</td>\n",
              "      <td>0.037363</td>\n",
              "      <td>0.060825</td>\n",
              "      <td>0.038222</td>\n",
              "      <td>0.062482</td>\n",
              "    </tr>\n",
              "    <tr>\n",
              "      <th>6</th>\n",
              "      <td>0.035599</td>\n",
              "      <td>0.059470</td>\n",
              "      <td>0.037363</td>\n",
              "      <td>0.060825</td>\n",
              "      <td>0.038222</td>\n",
              "      <td>0.062482</td>\n",
              "      <td>0.039388</td>\n",
              "      <td>0.062181</td>\n",
              "    </tr>\n",
              "    <tr>\n",
              "      <th>7</th>\n",
              "      <td>0.037363</td>\n",
              "      <td>0.060825</td>\n",
              "      <td>0.038222</td>\n",
              "      <td>0.062482</td>\n",
              "      <td>0.039388</td>\n",
              "      <td>0.062181</td>\n",
              "      <td>0.038608</td>\n",
              "      <td>0.063441</td>\n",
              "    </tr>\n",
              "  </tbody>\n",
              "</table>\n",
              "</div>"
            ],
            "text/plain": [
              "   var1(t-3)  var2(t-3)  var1(t-2)  ...  var2(t-1)   var1(t)   var2(t)\n",
              "3   0.038041   0.057941   0.037300  ...   0.057204  0.035599  0.059470\n",
              "4   0.037300   0.062260   0.041105  ...   0.059470  0.037363  0.060825\n",
              "5   0.041105   0.057204   0.035599  ...   0.060825  0.038222  0.062482\n",
              "6   0.035599   0.059470   0.037363  ...   0.062482  0.039388  0.062181\n",
              "7   0.037363   0.060825   0.038222  ...   0.062181  0.038608  0.063441\n",
              "\n",
              "[5 rows x 8 columns]"
            ]
          },
          "metadata": {
            "tags": []
          },
          "execution_count": 149
        },
        {
          "output_type": "stream",
          "text": [
            "time: 30.8 ms (started: 2021-05-15 12:13:32 +00:00)\n"
          ],
          "name": "stdout"
        }
      ]
    },
    {
      "cell_type": "code",
      "metadata": {
        "colab": {
          "base_uri": "https://localhost:8080/"
        },
        "id": "peUy104owszp",
        "outputId": "8e5312b5-a1db-49f5-a908-d64a69e6b369"
      },
      "source": [
        "# Show last column (to be removed)\n",
        "num_rows, num_cols = reframed.shape\n",
        "n = print (num_cols)\n",
        "n"
      ],
      "execution_count": 150,
      "outputs": [
        {
          "output_type": "stream",
          "text": [
            "8\n",
            "time: 2.67 ms (started: 2021-05-15 12:13:32 +00:00)\n"
          ],
          "name": "stdout"
        }
      ]
    },
    {
      "cell_type": "code",
      "metadata": {
        "colab": {
          "base_uri": "https://localhost:8080/"
        },
        "id": "WjwBk1SksAjw",
        "outputId": "ce8e0b22-31e7-41dc-b60d-f0905bc34bdc"
      },
      "source": [
        "# drop columns we don't want to predict\n",
        "n = 7 # number of last column (from above) minus 1 (the index column)\n",
        "reframed.drop(reframed.columns[[n]], axis=1, inplace=True)\n",
        "print(reframed.head())"
      ],
      "execution_count": 151,
      "outputs": [
        {
          "output_type": "stream",
          "text": [
            "   var1(t-3)  var2(t-3)  var1(t-2)  var2(t-2)  var1(t-1)  var2(t-1)   var1(t)\n",
            "3   0.038041   0.057941   0.037300   0.062260   0.041105   0.057204  0.035599\n",
            "4   0.037300   0.062260   0.041105   0.057204   0.035599   0.059470  0.037363\n",
            "5   0.041105   0.057204   0.035599   0.059470   0.037363   0.060825  0.038222\n",
            "6   0.035599   0.059470   0.037363   0.060825   0.038222   0.062482  0.039388\n",
            "7   0.037363   0.060825   0.038222   0.062482   0.039388   0.062181  0.038608\n",
            "time: 17.2 ms (started: 2021-05-15 12:13:32 +00:00)\n"
          ],
          "name": "stdout"
        }
      ]
    },
    {
      "cell_type": "markdown",
      "metadata": {
        "id": "tGXlL5dRpCNs"
      },
      "source": [
        "#### **Shape for LSTM**"
      ]
    },
    {
      "cell_type": "code",
      "metadata": {
        "colab": {
          "base_uri": "https://localhost:8080/"
        },
        "id": "humf4h6zyKTw",
        "outputId": "ae59bc84-2581-4819-f941-70c79fff3c63"
      },
      "source": [
        "# how many rows (time stamps)?\n",
        "reframed.shape[0]"
      ],
      "execution_count": 152,
      "outputs": [
        {
          "output_type": "execute_result",
          "data": {
            "text/plain": [
              "2512"
            ]
          },
          "metadata": {
            "tags": []
          },
          "execution_count": 152
        },
        {
          "output_type": "stream",
          "text": [
            "time: 3.37 ms (started: 2021-05-15 12:13:32 +00:00)\n"
          ],
          "name": "stdout"
        }
      ]
    },
    {
      "cell_type": "code",
      "metadata": {
        "colab": {
          "base_uri": "https://localhost:8080/"
        },
        "id": "8mmYnhfgEnku",
        "outputId": "acb708c0-11fd-4921-fd3a-7f0c4fb9f376"
      },
      "source": [
        "values = reframed.values\n",
        "train_time = 2000\n",
        "train = values[:train_time, :]\n",
        "test = values[train_time:, :]"
      ],
      "execution_count": 153,
      "outputs": [
        {
          "output_type": "stream",
          "text": [
            "time: 4.91 ms (started: 2021-05-15 12:13:32 +00:00)\n"
          ],
          "name": "stdout"
        }
      ]
    },
    {
      "cell_type": "code",
      "metadata": {
        "colab": {
          "base_uri": "https://localhost:8080/"
        },
        "id": "SWZMJsYCyAPp",
        "outputId": "c2a46433-d506-4b91-d5fb-452e2792d94d"
      },
      "source": [
        "# split into input and outputs\n",
        "n_obs = windows * features\n",
        "train_X, train_y = train[:, :n_obs], train[:, -features]\n",
        "test_X, test_y = test[:, :n_obs], test[:, -features]\n",
        "print(train_X.shape, len(train_X), train_y.shape)"
      ],
      "execution_count": 154,
      "outputs": [
        {
          "output_type": "stream",
          "text": [
            "(2000, 6) 2000 (2000,)\n",
            "time: 5.22 ms (started: 2021-05-15 12:13:32 +00:00)\n"
          ],
          "name": "stdout"
        }
      ]
    },
    {
      "cell_type": "code",
      "metadata": {
        "colab": {
          "base_uri": "https://localhost:8080/"
        },
        "id": "MXh_ebEMx-qx",
        "outputId": "c88513a4-29e1-4e82-81f5-c400f93fe38c"
      },
      "source": [
        "# reshape input to be 3D [samples, timesteps, features]\n",
        "train_X = train_X.reshape((train_X.shape[0], windows, features))\n",
        "test_X = test_X.reshape((test_X.shape[0], windows, features))"
      ],
      "execution_count": 155,
      "outputs": [
        {
          "output_type": "stream",
          "text": [
            "time: 3.33 ms (started: 2021-05-15 12:13:32 +00:00)\n"
          ],
          "name": "stdout"
        }
      ]
    },
    {
      "cell_type": "code",
      "metadata": {
        "colab": {
          "base_uri": "https://localhost:8080/"
        },
        "id": "zO75KO7bFRMW",
        "outputId": "bb033569-0af5-4b1b-ddd4-8c49933c188c"
      },
      "source": [
        "print(test_X.shape, len(test_X), test_y.shape)"
      ],
      "execution_count": 156,
      "outputs": [
        {
          "output_type": "stream",
          "text": [
            "(512, 3, 2) 512 (512,)\n",
            "time: 3.42 ms (started: 2021-05-15 12:13:32 +00:00)\n"
          ],
          "name": "stdout"
        }
      ]
    },
    {
      "cell_type": "code",
      "metadata": {
        "colab": {
          "base_uri": "https://localhost:8080/"
        },
        "id": "rhnLYVOd9_g7",
        "outputId": "02b22808-62a7-4f25-b6b9-e93ef2a121b8"
      },
      "source": [
        "test_X"
      ],
      "execution_count": 157,
      "outputs": [
        {
          "output_type": "execute_result",
          "data": {
            "text/plain": [
              "array([[[0.6974705 , 0.72154284],\n",
              "        [0.6997629 , 0.73530084],\n",
              "        [0.7129499 , 0.73539597]],\n",
              "\n",
              "       [[0.6997629 , 0.73530084],\n",
              "        [0.7129499 , 0.73539597],\n",
              "        [0.712556  , 0.7439867 ]],\n",
              "\n",
              "       [[0.7129499 , 0.73539597],\n",
              "        [0.712556  , 0.7439867 ],\n",
              "        [0.72060686, 0.74274254]],\n",
              "\n",
              "       ...,\n",
              "\n",
              "       [[0.99822754, 0.99993664],\n",
              "        [0.9994485 , 0.99999994],\n",
              "        [1.        , 0.98370594]],\n",
              "\n",
              "       [[0.9994485 , 0.99999994],\n",
              "        [1.        , 0.98370594],\n",
              "        [0.9842921 , 0.95722014]],\n",
              "\n",
              "       [[1.        , 0.98370594],\n",
              "        [0.9842921 , 0.95722014],\n",
              "        [0.95844597, 0.97151715]]], dtype=float32)"
            ]
          },
          "metadata": {
            "tags": []
          },
          "execution_count": 157
        },
        {
          "output_type": "stream",
          "text": [
            "time: 5.43 ms (started: 2021-05-15 12:13:32 +00:00)\n"
          ],
          "name": "stdout"
        }
      ]
    },
    {
      "cell_type": "markdown",
      "metadata": {
        "id": "lPhp3-pUzDQL"
      },
      "source": [
        "## **Model Fitting & Forecasting**"
      ]
    },
    {
      "cell_type": "markdown",
      "metadata": {
        "id": "BVyFo2CU4joq"
      },
      "source": [
        "#### **Create & Train Model**"
      ]
    },
    {
      "cell_type": "code",
      "metadata": {
        "colab": {
          "base_uri": "https://localhost:8080/"
        },
        "id": "BtC5Z3D8uKtP",
        "outputId": "dffa0440-0e21-456e-a93b-e57017526588"
      },
      "source": [
        "# design network\n",
        "model = Sequential()\n",
        "model.add(LSTM(50, input_shape=(train_X.shape[1], train_X.shape[2])))\n",
        "model.add(Dense(10))\n",
        "model.add(Dense(1))\n",
        "model.compile(loss='mae', optimizer='adam')"
      ],
      "execution_count": 158,
      "outputs": [
        {
          "output_type": "stream",
          "text": [
            "time: 280 ms (started: 2021-05-15 12:13:34 +00:00)\n"
          ],
          "name": "stdout"
        }
      ]
    },
    {
      "cell_type": "code",
      "metadata": {
        "colab": {
          "base_uri": "https://localhost:8080/"
        },
        "id": "h70lwqUVuN3i",
        "outputId": "bbdf7ccf-9046-4724-e22c-cbad8b00ce04"
      },
      "source": [
        "model.summary()"
      ],
      "execution_count": 159,
      "outputs": [
        {
          "output_type": "stream",
          "text": [
            "Model: \"sequential_4\"\n",
            "_________________________________________________________________\n",
            "Layer (type)                 Output Shape              Param #   \n",
            "=================================================================\n",
            "lstm_4 (LSTM)                (None, 50)                10600     \n",
            "_________________________________________________________________\n",
            "dense_8 (Dense)              (None, 10)                510       \n",
            "_________________________________________________________________\n",
            "dense_9 (Dense)              (None, 1)                 11        \n",
            "=================================================================\n",
            "Total params: 11,121\n",
            "Trainable params: 11,121\n",
            "Non-trainable params: 0\n",
            "_________________________________________________________________\n",
            "time: 8.38 ms (started: 2021-05-15 12:13:35 +00:00)\n"
          ],
          "name": "stdout"
        }
      ]
    },
    {
      "cell_type": "code",
      "metadata": {
        "colab": {
          "base_uri": "https://localhost:8080/"
        },
        "id": "jEgZ8-NEpK_T",
        "outputId": "4635f663-30fc-4098-fcdf-aed61e157c63"
      },
      "source": [
        "# fit network\n",
        "history = model.fit(train_X, train_y, \n",
        "                    epochs=20, \n",
        "                    batch_size=72, \n",
        "                    validation_data=(test_X, test_y), \n",
        "                    verbose=1, \n",
        "                    shuffle=False)"
      ],
      "execution_count": 160,
      "outputs": [
        {
          "output_type": "stream",
          "text": [
            "Epoch 1/20\n",
            "28/28 [==============================] - 2s 18ms/step - loss: 0.0581 - val_loss: 0.0517\n",
            "Epoch 2/20\n",
            "28/28 [==============================] - 0s 5ms/step - loss: 0.0828 - val_loss: 0.0358\n",
            "Epoch 3/20\n",
            "28/28 [==============================] - 0s 5ms/step - loss: 0.0230 - val_loss: 0.0144\n",
            "Epoch 4/20\n",
            "28/28 [==============================] - 0s 5ms/step - loss: 0.0210 - val_loss: 0.0428\n",
            "Epoch 5/20\n",
            "28/28 [==============================] - 0s 4ms/step - loss: 0.0330 - val_loss: 0.0102\n",
            "Epoch 6/20\n",
            "28/28 [==============================] - 0s 4ms/step - loss: 0.0162 - val_loss: 0.0261\n",
            "Epoch 7/20\n",
            "28/28 [==============================] - 0s 5ms/step - loss: 0.0142 - val_loss: 0.0311\n",
            "Epoch 8/20\n",
            "28/28 [==============================] - 0s 4ms/step - loss: 0.0186 - val_loss: 0.0291\n",
            "Epoch 9/20\n",
            "28/28 [==============================] - 0s 5ms/step - loss: 0.0232 - val_loss: 0.0214\n",
            "Epoch 10/20\n",
            "28/28 [==============================] - 0s 4ms/step - loss: 0.0192 - val_loss: 0.0264\n",
            "Epoch 11/20\n",
            "28/28 [==============================] - 0s 4ms/step - loss: 0.0219 - val_loss: 0.0227\n",
            "Epoch 12/20\n",
            "28/28 [==============================] - 0s 4ms/step - loss: 0.0135 - val_loss: 0.0351\n",
            "Epoch 13/20\n",
            "28/28 [==============================] - 0s 4ms/step - loss: 0.0106 - val_loss: 0.0456\n",
            "Epoch 14/20\n",
            "28/28 [==============================] - 0s 5ms/step - loss: 0.0076 - val_loss: 0.0402\n",
            "Epoch 15/20\n",
            "28/28 [==============================] - 0s 4ms/step - loss: 0.0051 - val_loss: 0.0106\n",
            "Epoch 16/20\n",
            "28/28 [==============================] - 0s 5ms/step - loss: 0.0190 - val_loss: 0.0096\n",
            "Epoch 17/20\n",
            "28/28 [==============================] - 0s 5ms/step - loss: 0.0425 - val_loss: 0.0594\n",
            "Epoch 18/20\n",
            "28/28 [==============================] - 0s 5ms/step - loss: 0.0284 - val_loss: 0.0265\n",
            "Epoch 19/20\n",
            "28/28 [==============================] - 0s 4ms/step - loss: 0.0220 - val_loss: 0.0338\n",
            "Epoch 20/20\n",
            "28/28 [==============================] - 0s 5ms/step - loss: 0.0043 - val_loss: 0.0105\n",
            "time: 4.58 s (started: 2021-05-15 12:13:35 +00:00)\n"
          ],
          "name": "stdout"
        }
      ]
    },
    {
      "cell_type": "code",
      "metadata": {
        "colab": {
          "base_uri": "https://localhost:8080/",
          "height": 72
        },
        "id": "7docl58R0PCm",
        "outputId": "ea45cb38-7414-4a1b-b741-1a7fd75a6128"
      },
      "source": [
        "# plot history\n",
        "pyplot.plot(history.history['loss'], label='train')\n",
        "pyplot.plot(history.history['val_loss'], label='test')\n",
        "pyplot.legend()\n",
        "pyplot.show()"
      ],
      "execution_count": 161,
      "outputs": [
        {
          "output_type": "display_data",
          "data": {
            "image/png": "[encoded data removed]",
            "text/plain": [
              "<Figure size 720x576 with 1 Axes>"
            ]
          },
          "metadata": {
            "tags": []
          }
        },
        {
          "output_type": "stream",
          "text": [
            "time: 316 ms (started: 2021-05-15 12:13:39 +00:00)\n"
          ],
          "name": "stdout"
        }
      ]
    },
    {
      "cell_type": "markdown",
      "metadata": {
        "id": "ubQEAzIJ2rec"
      },
      "source": [
        "#### **Make a prediction**"
      ]
    },
    {
      "cell_type": "code",
      "metadata": {
        "colab": {
          "base_uri": "https://localhost:8080/"
        },
        "id": "hR3nLuWlzXQf",
        "outputId": "0b44e243-0c6e-4df6-c13d-4c2dd909313e"
      },
      "source": [
        "# make a prediction\n",
        "yhat = model.predict(test_X)\n",
        "test_X = test_X.reshape((test_X.shape[0], windows*features))"
      ],
      "execution_count": 162,
      "outputs": [
        {
          "output_type": "stream",
          "text": [
            "time: 392 ms (started: 2021-05-15 12:13:40 +00:00)\n"
          ],
          "name": "stdout"
        }
      ]
    },
    {
      "cell_type": "code",
      "metadata": {
        "colab": {
          "base_uri": "https://localhost:8080/"
        },
        "id": "iUud1pR30rzm",
        "outputId": "bbda9ffb-fc3d-4339-e026-ce1f511c22fb"
      },
      "source": [
        "# Shape: 6 windows (3 timesteps for 2 features)\n",
        "test_X.shape[0], test_X.shape[1]"
      ],
      "execution_count": 163,
      "outputs": [
        {
          "output_type": "execute_result",
          "data": {
            "text/plain": [
              "(512, 6)"
            ]
          },
          "metadata": {
            "tags": []
          },
          "execution_count": 163
        },
        {
          "output_type": "stream",
          "text": [
            "time: 5.57 ms (started: 2021-05-15 12:13:40 +00:00)\n"
          ],
          "name": "stdout"
        }
      ]
    },
    {
      "cell_type": "code",
      "metadata": {
        "colab": {
          "base_uri": "https://localhost:8080/"
        },
        "id": "SG3LedRK4LGI",
        "outputId": "08663077-aa3e-483f-8de6-06db176bfd2d"
      },
      "source": [
        "test_X [0:5]"
      ],
      "execution_count": 164,
      "outputs": [
        {
          "output_type": "execute_result",
          "data": {
            "text/plain": [
              "array([[0.6974705 , 0.72154284, 0.6997629 , 0.73530084, 0.7129499 ,\n",
              "        0.73539597],\n",
              "       [0.6997629 , 0.73530084, 0.7129499 , 0.73539597, 0.712556  ,\n",
              "        0.7439867 ],\n",
              "       [0.7129499 , 0.73539597, 0.712556  , 0.7439867 , 0.72060686,\n",
              "        0.74274254],\n",
              "       [0.712556  , 0.7439867 , 0.72060686, 0.74274254, 0.7188817 ,\n",
              "        0.7493521 ],\n",
              "       [0.72060686, 0.74274254, 0.7188817 , 0.7493521 , 0.7249632 ,\n",
              "        0.7643464 ]], dtype=float32)"
            ]
          },
          "metadata": {
            "tags": []
          },
          "execution_count": 164
        },
        {
          "output_type": "stream",
          "text": [
            "time: 6.62 ms (started: 2021-05-15 12:13:40 +00:00)\n"
          ],
          "name": "stdout"
        }
      ]
    },
    {
      "cell_type": "code",
      "metadata": {
        "colab": {
          "base_uri": "https://localhost:8080/"
        },
        "id": "GxvYcPzN3ERu",
        "outputId": "28172d4e-5fef-4156-ca0b-9232ffcf6312"
      },
      "source": [
        "# Shape: one timestep forecasted for one feature\n",
        "yhat.shape[0], yhat.shape[1]"
      ],
      "execution_count": 165,
      "outputs": [
        {
          "output_type": "execute_result",
          "data": {
            "text/plain": [
              "(512, 1)"
            ]
          },
          "metadata": {
            "tags": []
          },
          "execution_count": 165
        },
        {
          "output_type": "stream",
          "text": [
            "time: 5.2 ms (started: 2021-05-15 12:13:40 +00:00)\n"
          ],
          "name": "stdout"
        }
      ]
    },
    {
      "cell_type": "code",
      "metadata": {
        "colab": {
          "base_uri": "https://localhost:8080/"
        },
        "id": "a5gcnz0G4Dwm",
        "outputId": "d24db7fc-6238-443c-b8de-fae51db2c33c"
      },
      "source": [
        "yhat [0:5]"
      ],
      "execution_count": 166,
      "outputs": [
        {
          "output_type": "execute_result",
          "data": {
            "text/plain": [
              "array([[0.74121743],\n",
              "       [0.7484006 ],\n",
              "       [0.75133365],\n",
              "       [0.7557047 ],\n",
              "       [0.76282954]], dtype=float32)"
            ]
          },
          "metadata": {
            "tags": []
          },
          "execution_count": 166
        },
        {
          "output_type": "stream",
          "text": [
            "time: 4.57 ms (started: 2021-05-15 12:13:40 +00:00)\n"
          ],
          "name": "stdout"
        }
      ]
    },
    {
      "cell_type": "markdown",
      "metadata": {
        "id": "SP-YXG7CpUCM"
      },
      "source": [
        "## **Postprocess Data**"
      ]
    },
    {
      "cell_type": "markdown",
      "metadata": {
        "id": "cu0sv43q2uwX"
      },
      "source": [
        "#### **Invert Scaling for Forecasted Values**"
      ]
    },
    {
      "cell_type": "code",
      "metadata": {
        "colab": {
          "base_uri": "https://localhost:8080/"
        },
        "id": "929bPPIu9nNl",
        "outputId": "b396e4e2-61fe-4f89-dcd9-305f9479163d"
      },
      "source": [
        "# remove all other features to align matrix structure\n",
        "inv_yhat = concatenate((yhat, test_X[:, -1:]), axis=1)\n",
        "inv_yhat [0:5]"
      ],
      "execution_count": 167,
      "outputs": [
        {
          "output_type": "execute_result",
          "data": {
            "text/plain": [
              "array([[0.74121743, 0.73539597],\n",
              "       [0.7484006 , 0.7439867 ],\n",
              "       [0.75133365, 0.74274254],\n",
              "       [0.7557047 , 0.7493521 ],\n",
              "       [0.76282954, 0.7643464 ]], dtype=float32)"
            ]
          },
          "metadata": {
            "tags": []
          },
          "execution_count": 167
        },
        {
          "output_type": "stream",
          "text": [
            "time: 8.56 ms (started: 2021-05-15 12:13:47 +00:00)\n"
          ],
          "name": "stdout"
        }
      ]
    },
    {
      "cell_type": "code",
      "metadata": {
        "colab": {
          "base_uri": "https://localhost:8080/"
        },
        "id": "t-Rh-nPU4wjO",
        "outputId": "ffa0db7a-f23d-4c01-a660-16514c735b1a"
      },
      "source": [
        "inv_yhat.shape[0], inv_yhat.shape[1]"
      ],
      "execution_count": 168,
      "outputs": [
        {
          "output_type": "execute_result",
          "data": {
            "text/plain": [
              "(512, 2)"
            ]
          },
          "metadata": {
            "tags": []
          },
          "execution_count": 168
        },
        {
          "output_type": "stream",
          "text": [
            "time: 4.96 ms (started: 2021-05-15 12:13:47 +00:00)\n"
          ],
          "name": "stdout"
        }
      ]
    },
    {
      "cell_type": "code",
      "metadata": {
        "colab": {
          "base_uri": "https://localhost:8080/"
        },
        "id": "uDs6im4U4mTg",
        "outputId": "52800299-3ac2-4ef3-a44f-2477a3c4879d"
      },
      "source": [
        "inv_yhat = scaler.inverse_transform(inv_yhat)[:, [1]]\n",
        "inv_yhat [0:5]"
      ],
      "execution_count": 169,
      "outputs": [
        {
          "output_type": "execute_result",
          "data": {
            "text/plain": [
              "array([[1135.24],\n",
              "       [1146.08],\n",
              "       [1144.51],\n",
              "       [1152.85],\n",
              "       [1171.77]], dtype=float32)"
            ]
          },
          "metadata": {
            "tags": []
          },
          "execution_count": 169
        },
        {
          "output_type": "stream",
          "text": [
            "time: 8.42 ms (started: 2021-05-15 12:13:47 +00:00)\n"
          ],
          "name": "stdout"
        }
      ]
    },
    {
      "cell_type": "code",
      "metadata": {
        "colab": {
          "base_uri": "https://localhost:8080/"
        },
        "id": "ueyV1uY7CMi4",
        "outputId": "aab88a0e-d70b-415a-ec30-546058756b55"
      },
      "source": [
        "inv_yhat = inv_yhat[:,0]"
      ],
      "execution_count": 170,
      "outputs": [
        {
          "output_type": "stream",
          "text": [
            "time: 746 µs (started: 2021-05-15 12:13:47 +00:00)\n"
          ],
          "name": "stdout"
        }
      ]
    },
    {
      "cell_type": "code",
      "metadata": {
        "colab": {
          "base_uri": "https://localhost:8080/"
        },
        "id": "SJgxsIuwCN7G",
        "outputId": "d257eca2-3a42-4972-962b-413a5c3ce8a2"
      },
      "source": [
        "inv_yhat [0:5]"
      ],
      "execution_count": 171,
      "outputs": [
        {
          "output_type": "execute_result",
          "data": {
            "text/plain": [
              "array([1135.24, 1146.08, 1144.51, 1152.85, 1171.77], dtype=float32)"
            ]
          },
          "metadata": {
            "tags": []
          },
          "execution_count": 171
        },
        {
          "output_type": "stream",
          "text": [
            "time: 4.47 ms (started: 2021-05-15 12:13:47 +00:00)\n"
          ],
          "name": "stdout"
        }
      ]
    },
    {
      "cell_type": "markdown",
      "metadata": {
        "id": "wY8NPH8u2w4-"
      },
      "source": [
        "#### **Invert Scaling for Actual Values**"
      ]
    },
    {
      "cell_type": "code",
      "metadata": {
        "colab": {
          "base_uri": "https://localhost:8080/"
        },
        "id": "eEm0Uto65Scd",
        "outputId": "f7be78d0-dca6-41d3-db2e-c8953551b29c"
      },
      "source": [
        "# Display target data\n",
        "test_y [0:5]"
      ],
      "execution_count": 172,
      "outputs": [
        {
          "output_type": "execute_result",
          "data": {
            "text/plain": [
              "array([0.73539597, 0.7439867 , 0.74274254, 0.7493521 , 0.7643464 ],\n",
              "      dtype=float32)"
            ]
          },
          "metadata": {
            "tags": []
          },
          "execution_count": 172
        },
        {
          "output_type": "stream",
          "text": [
            "time: 7.56 ms (started: 2021-05-15 12:13:49 +00:00)\n"
          ],
          "name": "stdout"
        }
      ]
    },
    {
      "cell_type": "code",
      "metadata": {
        "colab": {
          "base_uri": "https://localhost:8080/"
        },
        "id": "fSxtQp9O1c67",
        "outputId": "cb7ab29d-286a-4039-b012-21783b384b11"
      },
      "source": [
        "# Reshape target data to concatenate later\n",
        "test_y = test_y.reshape((len(test_y), 1))\n",
        "test_y [0:5]"
      ],
      "execution_count": 173,
      "outputs": [
        {
          "output_type": "execute_result",
          "data": {
            "text/plain": [
              "array([[0.73539597],\n",
              "       [0.7439867 ],\n",
              "       [0.74274254],\n",
              "       [0.7493521 ],\n",
              "       [0.7643464 ]], dtype=float32)"
            ]
          },
          "metadata": {
            "tags": []
          },
          "execution_count": 173
        },
        {
          "output_type": "stream",
          "text": [
            "time: 4.72 ms (started: 2021-05-15 12:13:50 +00:00)\n"
          ],
          "name": "stdout"
        }
      ]
    },
    {
      "cell_type": "code",
      "metadata": {
        "colab": {
          "base_uri": "https://localhost:8080/"
        },
        "id": "Y-zP_aiw6lwI",
        "outputId": "b62d10cd-08b3-4c3e-b037-f828d14e307d"
      },
      "source": [
        "# Display input data\n",
        "test_X [0:5]"
      ],
      "execution_count": 174,
      "outputs": [
        {
          "output_type": "execute_result",
          "data": {
            "text/plain": [
              "array([[0.6974705 , 0.72154284, 0.6997629 , 0.73530084, 0.7129499 ,\n",
              "        0.73539597],\n",
              "       [0.6997629 , 0.73530084, 0.7129499 , 0.73539597, 0.712556  ,\n",
              "        0.7439867 ],\n",
              "       [0.7129499 , 0.73539597, 0.712556  , 0.7439867 , 0.72060686,\n",
              "        0.74274254],\n",
              "       [0.712556  , 0.7439867 , 0.72060686, 0.74274254, 0.7188817 ,\n",
              "        0.7493521 ],\n",
              "       [0.72060686, 0.74274254, 0.7188817 , 0.7493521 , 0.7249632 ,\n",
              "        0.7643464 ]], dtype=float32)"
            ]
          },
          "metadata": {
            "tags": []
          },
          "execution_count": 174
        },
        {
          "output_type": "stream",
          "text": [
            "time: 3.81 ms (started: 2021-05-15 12:13:53 +00:00)\n"
          ],
          "name": "stdout"
        }
      ]
    },
    {
      "cell_type": "code",
      "metadata": {
        "colab": {
          "base_uri": "https://localhost:8080/"
        },
        "id": "9csZywC515Hj",
        "outputId": "7a8603b6-051c-4aed-a52d-a130c031d3c4"
      },
      "source": [
        "# Concatenate input & target data\n",
        "inv_y = concatenate((test_y, test_X[:, 0:]), axis=1)\n",
        "inv_y [0:5]"
      ],
      "execution_count": 175,
      "outputs": [
        {
          "output_type": "execute_result",
          "data": {
            "text/plain": [
              "array([[0.73539597, 0.6974705 , 0.72154284, 0.6997629 , 0.73530084,\n",
              "        0.7129499 , 0.73539597],\n",
              "       [0.7439867 , 0.6997629 , 0.73530084, 0.7129499 , 0.73539597,\n",
              "        0.712556  , 0.7439867 ],\n",
              "       [0.74274254, 0.7129499 , 0.73539597, 0.712556  , 0.7439867 ,\n",
              "        0.72060686, 0.74274254],\n",
              "       [0.7493521 , 0.712556  , 0.7439867 , 0.72060686, 0.74274254,\n",
              "        0.7188817 , 0.7493521 ],\n",
              "       [0.7643464 , 0.72060686, 0.74274254, 0.7188817 , 0.7493521 ,\n",
              "        0.7249632 , 0.7643464 ]], dtype=float32)"
            ]
          },
          "metadata": {
            "tags": []
          },
          "execution_count": 175
        },
        {
          "output_type": "stream",
          "text": [
            "time: 9.27 ms (started: 2021-05-15 12:15:40 +00:00)\n"
          ],
          "name": "stdout"
        }
      ]
    },
    {
      "cell_type": "code",
      "metadata": {
        "colab": {
          "base_uri": "https://localhost:8080/"
        },
        "id": "rlE2PPCftlWq",
        "outputId": "d78e4ce9-606b-4db5-b969-a472ecda2092"
      },
      "source": [
        "# Invert Scaling\n",
        "inv_y = scaler.inverse_transform(inv_y)\n",
        "inv_y [0:5]"
      ],
      "execution_count": 138,
      "outputs": [
        {
          "output_type": "execute_result",
          "data": {
            "text/plain": [
              "array([[1150.7537, 1135.24  ],\n",
              "       [1161.659 , 1146.08  ],\n",
              "       [1160.0797, 1144.51  ],\n",
              "       [1168.4701, 1152.85  ],\n",
              "       [1187.5043, 1171.77  ]], dtype=float32)"
            ]
          },
          "metadata": {
            "tags": []
          },
          "execution_count": 138
        },
        {
          "output_type": "stream",
          "text": [
            "time: 5.76 ms (started: 2021-05-15 12:06:16 +00:00)\n"
          ],
          "name": "stdout"
        }
      ]
    },
    {
      "cell_type": "code",
      "metadata": {
        "colab": {
          "base_uri": "https://localhost:8080/"
        },
        "id": "hRXKpcEhCWYq",
        "outputId": "82863294-eaa7-4d99-ab92-692d189763cb"
      },
      "source": [
        "# Reshape again (transpose) and leave target data only (first column)\n",
        "inv_y = inv_y[:,0]\n",
        "inv_y [0:5]"
      ],
      "execution_count": 139,
      "outputs": [
        {
          "output_type": "execute_result",
          "data": {
            "text/plain": [
              "array([1150.7537, 1161.659 , 1160.0797, 1168.4701, 1187.5043],\n",
              "      dtype=float32)"
            ]
          },
          "metadata": {
            "tags": []
          },
          "execution_count": 139
        },
        {
          "output_type": "stream",
          "text": [
            "time: 7.54 ms (started: 2021-05-15 12:06:17 +00:00)\n"
          ],
          "name": "stdout"
        }
      ]
    },
    {
      "cell_type": "markdown",
      "metadata": {
        "id": "6E9PE7QMt3tQ"
      },
      "source": [
        "## **Evaluate Model**"
      ]
    },
    {
      "cell_type": "markdown",
      "metadata": {
        "id": "-0t941Iz2zpR"
      },
      "source": [
        "#### **Calculate RMSE**"
      ]
    },
    {
      "cell_type": "code",
      "metadata": {
        "colab": {
          "base_uri": "https://localhost:8080/"
        },
        "id": "iNmqypy5pV48",
        "outputId": "37c56b0d-acc2-4b0b-ec77-2afebbbdf589"
      },
      "source": [
        "rmse = sqrt(mean_squared_error(inv_y, inv_yhat))\n",
        "print('Test RMSE: %.2f' % rmse)"
      ],
      "execution_count": null,
      "outputs": [
        {
          "output_type": "stream",
          "text": [
            "Test RMSE: 16.05\n",
            "time: 3.34 ms (started: 2021-05-15 07:15:12 +00:00)\n"
          ],
          "name": "stdout"
        }
      ]
    },
    {
      "cell_type": "code",
      "metadata": {
        "colab": {
          "base_uri": "https://localhost:8080/",
          "height": 695
        },
        "id": "RJjcHho9NTIa",
        "outputId": "c8b64ed9-4131-47cc-fa2a-76ee810166ee"
      },
      "source": [
        "test_y_plot = pd.DataFrame(data=test_y, columns=['test_y'])\n",
        "yhat_plot = pd.DataFrame(data=yhat, columns=['yhat'])\n",
        "\n",
        "sns.set(rc={'figure.figsize':(10, 5)})\n",
        "test_y_plot.plot(title='test y')\n",
        "yhat_plot.plot(title='yhat')"
      ],
      "execution_count": null,
      "outputs": [
        {
          "output_type": "execute_result",
          "data": {
            "text/plain": [
              "<matplotlib.axes._subplots.AxesSubplot at 0x7fb7e01c3850>"
            ]
          },
          "metadata": {
            "tags": []
          },
          "execution_count": 85
        },
        {
          "output_type": "display_data",
          "data": {
            "image/png": "[encoded data removed]",
            "text/plain": [
              "<Figure size 720x360 with 1 Axes>"
            ]
          },
          "metadata": {
            "tags": []
          }
        },
        {
          "output_type": "display_data",
          "data": {
            "image/png": "[encoded data removed]",
            "text/plain": [
              "<Figure size 720x360 with 1 Axes>"
            ]
          },
          "metadata": {
            "tags": []
          }
        },
        {
          "output_type": "stream",
          "text": [
            "time: 1.12 s (started: 2021-05-15 07:15:13 +00:00)\n"
          ],
          "name": "stdout"
        }
      ]
    },
    {
      "cell_type": "markdown",
      "metadata": {
        "id": "2d7RYRD33UuK"
      },
      "source": [
        "#### **Residuals**"
      ]
    },
    {
      "cell_type": "code",
      "metadata": {
        "colab": {
          "base_uri": "https://localhost:8080/",
          "height": 222
        },
        "id": "E0hieeLrtriv",
        "outputId": "7d770e5c-20cd-47b8-e5c5-01c4c825323f"
      },
      "source": [
        "# Get residuals (normalized)\n",
        "residuals = (test_y[0] - yhat[:,0])\n",
        "res = pd.DataFrame(data=residuals, columns=['residuals'])\n",
        "res.head()"
      ],
      "execution_count": null,
      "outputs": [
        {
          "output_type": "execute_result",
          "data": {
            "text/html": [
              "<div>\n",
              "<style scoped>\n",
              "    .dataframe tbody tr th:only-of-type {\n",
              "        vertical-align: middle;\n",
              "    }\n",
              "\n",
              "    .dataframe tbody tr th {\n",
              "        vertical-align: top;\n",
              "    }\n",
              "\n",
              "    .dataframe thead th {\n",
              "        text-align: right;\n",
              "    }\n",
              "</style>\n",
              "<table border=\"1\" class=\"dataframe\">\n",
              "  <thead>\n",
              "    <tr style=\"text-align: right;\">\n",
              "      <th></th>\n",
              "      <th>residuals</th>\n",
              "    </tr>\n",
              "  </thead>\n",
              "  <tbody>\n",
              "    <tr>\n",
              "      <th>0</th>\n",
              "      <td>-0.005307</td>\n",
              "    </tr>\n",
              "    <tr>\n",
              "      <th>1</th>\n",
              "      <td>-0.012515</td>\n",
              "    </tr>\n",
              "    <tr>\n",
              "      <th>2</th>\n",
              "      <td>-0.015052</td>\n",
              "    </tr>\n",
              "    <tr>\n",
              "      <th>3</th>\n",
              "      <td>-0.019509</td>\n",
              "    </tr>\n",
              "    <tr>\n",
              "      <th>4</th>\n",
              "      <td>-0.026277</td>\n",
              "    </tr>\n",
              "  </tbody>\n",
              "</table>\n",
              "</div>"
            ],
            "text/plain": [
              "   residuals\n",
              "0  -0.005307\n",
              "1  -0.012515\n",
              "2  -0.015052\n",
              "3  -0.019509\n",
              "4  -0.026277"
            ]
          },
          "metadata": {
            "tags": []
          },
          "execution_count": 86
        },
        {
          "output_type": "stream",
          "text": [
            "time: 14.5 ms (started: 2021-05-15 07:15:14 +00:00)\n"
          ],
          "name": "stdout"
        }
      ]
    },
    {
      "cell_type": "code",
      "metadata": {
        "colab": {
          "base_uri": "https://localhost:8080/",
          "height": 374
        },
        "id": "aGmZWGOMt7dR",
        "outputId": "c847e38b-19de-41f0-9204-c7bed21ad315"
      },
      "source": [
        "# Plot Residuals\n",
        "sns.set(rc={'figure.figsize':(10, 5)})\n",
        "res.plot(title='Residuals')"
      ],
      "execution_count": null,
      "outputs": [
        {
          "output_type": "execute_result",
          "data": {
            "text/plain": [
              "<matplotlib.axes._subplots.AxesSubplot at 0x7fb7e3578ad0>"
            ]
          },
          "metadata": {
            "tags": []
          },
          "execution_count": 87
        },
        {
          "output_type": "display_data",
          "data": {
            "image/png": "[encoded data removed]",
            "text/plain": [
              "<Figure size 720x360 with 1 Axes>"
            ]
          },
          "metadata": {
            "tags": []
          }
        },
        {
          "output_type": "stream",
          "text": [
            "time: 384 ms (started: 2021-05-15 07:15:14 +00:00)\n"
          ],
          "name": "stdout"
        }
      ]
    },
    {
      "cell_type": "markdown",
      "metadata": {
        "id": "yGsirhr33ob7"
      },
      "source": [
        "#### **Plot Results**"
      ]
    },
    {
      "cell_type": "code",
      "metadata": {
        "colab": {
          "base_uri": "https://localhost:8080/",
          "height": 261
        },
        "id": "klPJb6MKuU5X",
        "outputId": "5822b061-a2ce-4230-a25a-dba35d58610e"
      },
      "source": [
        "# Plot results\n",
        "\n",
        "# shift train predictions for plotting\n",
        "trainPredictPlot = np.empty_like(dataset)\n",
        "trainPredictPlot[:, :] = np.nan\n",
        "trainPredictPlot[windows:len(yhat)+windows, :] = yhat\n",
        "\n",
        "# shift test predictions for plotting\n",
        "testPredictPlot = np.empty_like(dataset)\n",
        "testPredictPlot[:, :] = np.nan\n",
        "testPredictPlot[len(test_X)+(windows*2)+1:len(dataset)-1, :] = test_X\n",
        "\n",
        "# plot baseline and predictions\n",
        "sns.set(rc={'figure.figsize':(11, 5)})\n",
        "#plt.plot(scaler.inverse_transform(dataset))\n",
        "plt.plot(dataset)\n",
        "plt.plot(trainPredictPlot)\n",
        "plt.plot(testPredictPlot)\n",
        "plt.show()"
      ],
      "execution_count": null,
      "outputs": [
        {
          "output_type": "error",
          "ename": "ValueError",
          "evalue": "ignored",
          "traceback": [
            "\u001b[0;31m---------------------------------------------------------------------------\u001b[0m",
            "\u001b[0;31mValueError\u001b[0m                                Traceback (most recent call last)",
            "\u001b[0;32m<ipython-input-88-63e2da87b58a>\u001b[0m in \u001b[0;36m<module>\u001b[0;34m()\u001b[0m\n\u001b[1;32m      9\u001b[0m \u001b[0mtestPredictPlot\u001b[0m \u001b[0;34m=\u001b[0m \u001b[0mnp\u001b[0m\u001b[0;34m.\u001b[0m\u001b[0mempty_like\u001b[0m\u001b[0;34m(\u001b[0m\u001b[0mdataset\u001b[0m\u001b[0;34m)\u001b[0m\u001b[0;34m\u001b[0m\u001b[0;34m\u001b[0m\u001b[0m\n\u001b[1;32m     10\u001b[0m \u001b[0mtestPredictPlot\u001b[0m\u001b[0;34m[\u001b[0m\u001b[0;34m:\u001b[0m\u001b[0;34m,\u001b[0m \u001b[0;34m:\u001b[0m\u001b[0;34m]\u001b[0m \u001b[0;34m=\u001b[0m \u001b[0mnp\u001b[0m\u001b[0;34m.\u001b[0m\u001b[0mnan\u001b[0m\u001b[0;34m\u001b[0m\u001b[0;34m\u001b[0m\u001b[0m\n\u001b[0;32m---> 11\u001b[0;31m \u001b[0mtestPredictPlot\u001b[0m\u001b[0;34m[\u001b[0m\u001b[0mlen\u001b[0m\u001b[0;34m(\u001b[0m\u001b[0mtest_X\u001b[0m\u001b[0;34m)\u001b[0m\u001b[0;34m+\u001b[0m\u001b[0;34m(\u001b[0m\u001b[0mwindows\u001b[0m\u001b[0;34m*\u001b[0m\u001b[0;36m2\u001b[0m\u001b[0;34m)\u001b[0m\u001b[0;34m+\u001b[0m\u001b[0;36m1\u001b[0m\u001b[0;34m:\u001b[0m\u001b[0mlen\u001b[0m\u001b[0;34m(\u001b[0m\u001b[0mdataset\u001b[0m\u001b[0;34m)\u001b[0m\u001b[0;34m-\u001b[0m\u001b[0;36m1\u001b[0m\u001b[0;34m,\u001b[0m \u001b[0;34m:\u001b[0m\u001b[0;34m]\u001b[0m \u001b[0;34m=\u001b[0m \u001b[0mtest_X\u001b[0m\u001b[0;34m\u001b[0m\u001b[0;34m\u001b[0m\u001b[0m\n\u001b[0m\u001b[1;32m     12\u001b[0m \u001b[0;34m\u001b[0m\u001b[0m\n\u001b[1;32m     13\u001b[0m \u001b[0;31m# plot baseline and predictions\u001b[0m\u001b[0;34m\u001b[0m\u001b[0;34m\u001b[0m\u001b[0;34m\u001b[0m\u001b[0m\n",
            "\u001b[0;31mValueError\u001b[0m: could not broadcast input array from shape (512,6) into shape (1996,2)"
          ]
        },
        {
          "output_type": "stream",
          "text": [
            "time: 29.6 ms (started: 2021-05-15 07:15:14 +00:00)\n"
          ],
          "name": "stdout"
        }
      ]
    }
  ]
}