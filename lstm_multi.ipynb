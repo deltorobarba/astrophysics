{
  "nbformat": 4,
  "nbformat_minor": 0,
  "metadata": {
    "colab": {
      "name": "lstm_multi.ipynb",
      "provenance": [],
      "collapsed_sections": [
        "clz5dotBohqM",
        "Np5PDFB27fjf",
        "1iS9fgg6okfr",
        "wLLOE7avooVd",
        "AMcvVI2voyED",
        "tGXlL5dRpCNs",
        "lPhp3-pUzDQL",
        "BVyFo2CU4joq",
        "ubQEAzIJ2rec",
        "cu0sv43q2uwX",
        "6E9PE7QMt3tQ",
        "-0t941Iz2zpR",
        "2d7RYRD33UuK",
        "yGsirhr33ob7"
      ],
      "include_colab_link": true
    },
    "kernelspec": {
      "name": "python3",
      "display_name": "Python 3"
    },
    "language_info": {
      "name": "python"
    }
  },
  "cells": [
    {
      "cell_type": "markdown",
      "metadata": {
        "id": "view-in-github",
        "colab_type": "text"
      },
      "source": [
        "<a href=\"https://colab.research.google.com/github/deltorobarba/machinelearning/blob/master/lstm_multi.ipynb\" target=\"_parent\"><img src=\"https://colab.research.google.com/assets/colab-badge.svg\" alt=\"Open In Colab\"/></a>"
      ]
    },
    {
      "cell_type": "markdown",
      "metadata": {
        "id": "3FWqa48wm7RE"
      },
      "source": [
        "# **LSTM Multivariate Forecasting**"
      ]
    },
    {
      "cell_type": "markdown",
      "metadata": {
        "id": "J4AbwKM9G3Ji"
      },
      "source": [
        "https://machinelearningmastery.com/multivariate-time-series-forecasting-lstms-keras/"
      ]
    },
    {
      "cell_type": "markdown",
      "metadata": {
        "id": "0Og2pP-9G4CL"
      },
      "source": [
        "https://machinelearningmastery.com/how-to-develop-lstm-models-for-multi-step-time-series-forecasting-of-household-power-consumption/"
      ]
    },
    {
      "cell_type": "markdown",
      "metadata": {
        "id": "clz5dotBohqM"
      },
      "source": [
        "## **Import Libraries**"
      ]
    },
    {
      "cell_type": "code",
      "metadata": {
        "colab": {
          "base_uri": "https://localhost:8080/"
        },
        "id": "7IKxXEJJm3Hd",
        "outputId": "a6affe1c-29b8-4108-b44a-e75eb21a1bef"
      },
      "source": [
        "import numpy as np\n",
        "import pandas as pd\n",
        "from math import sqrt\n",
        "import seaborn as sns\n",
        "from pandas import read_csv\n",
        "from matplotlib import pyplot\n",
        "import matplotlib.pyplot as plt\n",
        "from sklearn.preprocessing import MinMaxScaler\n",
        "import math\n",
        "from sklearn.metrics import mean_squared_error\n",
        "import tensorflow as tf\n",
        "from pandas import read_csv\n",
        "from pandas import DataFrame\n",
        "from pandas import concat\n",
        "from sklearn.preprocessing import LabelEncoder\n",
        "from sklearn.preprocessing import MinMaxScaler\n",
        "from numpy import concatenate\n",
        "\n",
        "\n",
        "from tensorflow import keras\n",
        "from tensorflow.keras import layers\n",
        "from keras.models import Sequential\n",
        "from keras.layers import LSTM, Dense\n",
        "\n",
        "print('Tensorflow version %s' % tf.__version__)\n",
        "\n",
        "!pip install --quiet ipython-autotime pandas_gbq\n",
        "%load_ext autotime"
      ],
      "execution_count": 1,
      "outputs": [
        {
          "output_type": "stream",
          "text": [
            "Tensorflow version 2.4.1\n",
            "time: 2.12 ms (started: 2021-05-15 11:52:56 +00:00)\n"
          ],
          "name": "stdout"
        }
      ]
    },
    {
      "cell_type": "markdown",
      "metadata": {
        "id": "Np5PDFB27fjf"
      },
      "source": [
        "## **Preprocess Data**"
      ]
    },
    {
      "cell_type": "markdown",
      "metadata": {
        "id": "1iS9fgg6okfr"
      },
      "source": [
        "#### **Import & Preprocess Data**"
      ]
    },
    {
      "cell_type": "code",
      "metadata": {
        "colab": {
          "base_uri": "https://localhost:8080/"
        },
        "id": "HNndQzIHnnnh",
        "outputId": "e71f0e8f-da09-4131-f758-52ad9115685e"
      },
      "source": [
        "from pandas import read_csv\n",
        "from datetime import datetime\n",
        "# load data\n",
        "def parse(x):\n",
        "\treturn datetime.strptime(x, '%Y %m %d %H')\n",
        "dataset = pd.read_csv('https://raw.githubusercontent.com/deltorobarba/repo/master/pollution.csv',  parse_dates = [['year', 'month', 'day', 'hour']], index_col=0, date_parser=parse)\n",
        "dataset.drop('No', axis=1, inplace=True)\n",
        "# manually specify column names\n",
        "dataset.columns = ['pollution', 'dew', 'temp', 'press', 'wnd_dir', 'wnd_spd', 'snow', 'rain']\n",
        "dataset.index.name = 'date'\n",
        "# mark all NA values with 0\n",
        "dataset['pollution'].fillna(0, inplace=True)\n",
        "# drop the first 24 hours\n",
        "dataset = dataset[24:]\n",
        "# summarize first 5 rows\n",
        "print(dataset.head(5))"
      ],
      "execution_count": 181,
      "outputs": [
        {
          "output_type": "stream",
          "text": [
            "                     pollution  dew  temp   press wnd_dir  wnd_spd  snow  rain\n",
            "date                                                                          \n",
            "2010-01-02 00:00:00      129.0  -16  -4.0  1020.0      SE     1.79     0     0\n",
            "2010-01-02 01:00:00      148.0  -15  -4.0  1020.0      SE     2.68     0     0\n",
            "2010-01-02 02:00:00      159.0  -11  -5.0  1021.0      SE     3.57     0     0\n",
            "2010-01-02 03:00:00      181.0   -7  -5.0  1022.0      SE     5.36     1     0\n",
            "2010-01-02 04:00:00      138.0   -7  -5.0  1022.0      SE     6.25     2     0\n",
            "time: 799 ms (started: 2021-05-15 12:21:58 +00:00)\n"
          ],
          "name": "stdout"
        }
      ]
    },
    {
      "cell_type": "code",
      "metadata": {
        "colab": {
          "base_uri": "https://localhost:8080/",
          "height": 358
        },
        "id": "5lfcRC7cqTxj",
        "outputId": "5e3bc10c-ce8c-4423-93ab-7e79a5172937"
      },
      "source": [
        "url = 'https://raw.githubusercontent.com/deltorobarba/repo/master/timeseries.csv'\n",
        "data = pd.read_csv(url)\n",
        "series = data[['date', 'price1', 'price2']].rename(columns={\"price1\": \"google\", \"price2\": \"apple\"}).set_index('date')\n",
        "series.index = pd.to_datetime(series.index, utc=False)\n",
        "dataset = series.copy()\n",
        "dataset.head()"
      ],
      "execution_count": 182,
      "outputs": [
        {
          "output_type": "execute_result",
          "data": {
            "text/html": [
              "<div>\n",
              "<style scoped>\n",
              "    .dataframe tbody tr th:only-of-type {\n",
              "        vertical-align: middle;\n",
              "    }\n",
              "\n",
              "    .dataframe tbody tr th {\n",
              "        vertical-align: top;\n",
              "    }\n",
              "\n",
              "    .dataframe thead th {\n",
              "        text-align: right;\n",
              "    }\n",
              "</style>\n",
              "<table border=\"1\" class=\"dataframe\">\n",
              "  <thead>\n",
              "    <tr style=\"text-align: right;\">\n",
              "      <th></th>\n",
              "      <th>google</th>\n",
              "      <th>apple</th>\n",
              "    </tr>\n",
              "    <tr>\n",
              "      <th>date</th>\n",
              "      <th></th>\n",
              "      <th></th>\n",
              "    </tr>\n",
              "  </thead>\n",
              "  <tbody>\n",
              "    <tr>\n",
              "      <th>2010-02-01</th>\n",
              "      <td>265.51</td>\n",
              "      <td>280.42</td>\n",
              "    </tr>\n",
              "    <tr>\n",
              "      <th>2010-02-02</th>\n",
              "      <td>264.57</td>\n",
              "      <td>285.87</td>\n",
              "    </tr>\n",
              "    <tr>\n",
              "      <th>2010-02-03</th>\n",
              "      <td>269.40</td>\n",
              "      <td>279.49</td>\n",
              "    </tr>\n",
              "    <tr>\n",
              "      <th>2010-02-04</th>\n",
              "      <td>262.41</td>\n",
              "      <td>282.35</td>\n",
              "    </tr>\n",
              "    <tr>\n",
              "      <th>2010-02-05</th>\n",
              "      <td>264.65</td>\n",
              "      <td>284.06</td>\n",
              "    </tr>\n",
              "  </tbody>\n",
              "</table>\n",
              "</div>"
            ],
            "text/plain": [
              "            google   apple\n",
              "date                      \n",
              "2010-02-01  265.51  280.42\n",
              "2010-02-02  264.57  285.87\n",
              "2010-02-03  269.40  279.49\n",
              "2010-02-04  262.41  282.35\n",
              "2010-02-05  264.65  284.06"
            ]
          },
          "metadata": {
            "tags": []
          },
          "execution_count": 182
        },
        {
          "output_type": "stream",
          "text": [
            "time: 301 ms (started: 2021-05-15 12:21:59 +00:00)\n"
          ],
          "name": "stdout"
        }
      ]
    },
    {
      "cell_type": "markdown",
      "metadata": {
        "id": "wLLOE7avooVd"
      },
      "source": [
        "#### **Visualize Dataset**"
      ]
    },
    {
      "cell_type": "code",
      "metadata": {
        "colab": {
          "base_uri": "https://localhost:8080/",
          "height": 72
        },
        "id": "FwYHvVZYoQX2",
        "outputId": "e14beabf-cf5f-4c52-cb16-626c17c516e9"
      },
      "source": [
        "sns.set(rc={'figure.figsize':(10, 8), \"lines.linewidth\": 1.0})\n",
        "\n",
        "# load dataset\n",
        "values = dataset.values\n",
        "# specify columns to plot\n",
        "groups = [0, 1]\n",
        "i = 1\n",
        "# plot each column\n",
        "pyplot.figure()\n",
        "for group in groups:\n",
        "\tpyplot.subplot(len(groups), 1, i)\n",
        "\tpyplot.plot(values[:, group])\n",
        "\tpyplot.title(dataset.columns[group], y=0.5, loc='right')\n",
        "\ti += 1\n",
        "pyplot.show()"
      ],
      "execution_count": 183,
      "outputs": [
        {
          "output_type": "display_data",
          "data": {
            "image/png": "[encoded data removed]",
            "text/plain": [
              "<Figure size 720x576 with 2 Axes>"
            ]
          },
          "metadata": {
            "tags": []
          }
        },
        {
          "output_type": "stream",
          "text": [
            "time: 287 ms (started: 2021-05-15 12:21:59 +00:00)\n"
          ],
          "name": "stdout"
        }
      ]
    },
    {
      "cell_type": "markdown",
      "metadata": {
        "id": "AMcvVI2voyED"
      },
      "source": [
        "#### **LSTM Preprocess Dataset**"
      ]
    },
    {
      "cell_type": "code",
      "metadata": {
        "colab": {
          "base_uri": "https://localhost:8080/"
        },
        "id": "sL9ouXuFu5YB",
        "outputId": "97aac11b-85c7-4c9c-9cbd-a2476b2d53ec"
      },
      "source": [
        "windows = 3\n",
        "features = 2"
      ],
      "execution_count": 184,
      "outputs": [
        {
          "output_type": "stream",
          "text": [
            "time: 860 µs (started: 2021-05-15 12:21:59 +00:00)\n"
          ],
          "name": "stdout"
        }
      ]
    },
    {
      "cell_type": "code",
      "metadata": {
        "colab": {
          "base_uri": "https://localhost:8080/"
        },
        "id": "AYZJnFpwo1we",
        "outputId": "bfae9c65-9f9b-46cc-c656-90c5a2f80af5"
      },
      "source": [
        "# convert series to supervised learning\n",
        "def series_to_supervised(data, n_in=1, n_out=1, dropnan=True):\n",
        "\tn_vars = 1 if type(data) is list else data.shape[1]\n",
        "\tdf = DataFrame(data)\n",
        "\tcols, names = list(), list()\n",
        "\t# input sequence (t-n, ... t-1)\n",
        "\tfor i in range(n_in, 0, -1):\n",
        "\t\tcols.append(df.shift(i))\n",
        "\t\tnames += [('var%d(t-%d)' % (j+1, i)) for j in range(n_vars)]\n",
        "\t# forecast sequence (t, t+1, ... t+n)\n",
        "\tfor i in range(0, n_out):\n",
        "\t\tcols.append(df.shift(-i))\n",
        "\t\tif i == 0:\n",
        "\t\t\tnames += [('var%d(t)' % (j+1)) for j in range(n_vars)]\n",
        "\t\telse:\n",
        "\t\t\tnames += [('var%d(t+%d)' % (j+1, i)) for j in range(n_vars)]\n",
        "\t# put it all together\n",
        "\tagg = concat(cols, axis=1)\n",
        "\tagg.columns = names\n",
        "\t# drop rows with NaN values\n",
        "\tif dropnan:\n",
        "\t\tagg.dropna(inplace=True)\n",
        "\treturn agg"
      ],
      "execution_count": 185,
      "outputs": [
        {
          "output_type": "stream",
          "text": [
            "time: 14.1 ms (started: 2021-05-15 12:21:59 +00:00)\n"
          ],
          "name": "stdout"
        }
      ]
    },
    {
      "cell_type": "code",
      "metadata": {
        "colab": {
          "base_uri": "https://localhost:8080/"
        },
        "id": "Q_RcTBBAr5Z_",
        "outputId": "9518091b-c2ff-4858-ca0c-9d13e446a923"
      },
      "source": [
        "#dataset = read_csv('pollution.csv', header=0, index_col=0)\n",
        "values = dataset.values"
      ],
      "execution_count": 186,
      "outputs": [
        {
          "output_type": "stream",
          "text": [
            "time: 1.75 ms (started: 2021-05-15 12:21:59 +00:00)\n"
          ],
          "name": "stdout"
        }
      ]
    },
    {
      "cell_type": "code",
      "metadata": {
        "colab": {
          "base_uri": "https://localhost:8080/"
        },
        "id": "yBNgh3AGr7K9",
        "outputId": "b9928310-c004-4f50-e251-60f80bbf430b"
      },
      "source": [
        "# ensure all data is float\n",
        "values = values.astype('float32')"
      ],
      "execution_count": 187,
      "outputs": [
        {
          "output_type": "stream",
          "text": [
            "time: 1.93 ms (started: 2021-05-15 12:21:59 +00:00)\n"
          ],
          "name": "stdout"
        }
      ]
    },
    {
      "cell_type": "code",
      "metadata": {
        "colab": {
          "base_uri": "https://localhost:8080/"
        },
        "id": "3tmdg5kir9Pw",
        "outputId": "9e69d689-4775-4c4d-a023-2112f192ca15"
      },
      "source": [
        "# normalize features\n",
        "scaler = MinMaxScaler(feature_range=(0, 1))\n",
        "scaled = scaler.fit_transform(values)"
      ],
      "execution_count": 188,
      "outputs": [
        {
          "output_type": "stream",
          "text": [
            "time: 3.78 ms (started: 2021-05-15 12:21:59 +00:00)\n"
          ],
          "name": "stdout"
        }
      ]
    },
    {
      "cell_type": "code",
      "metadata": {
        "colab": {
          "base_uri": "https://localhost:8080/"
        },
        "id": "2c0r9o9-r-9q",
        "outputId": "dba3ce33-a814-4b32-bec6-d89fdf07b46a"
      },
      "source": [
        "# frame as supervised learning\n",
        "reframed = series_to_supervised(scaled, windows, 1)"
      ],
      "execution_count": 189,
      "outputs": [
        {
          "output_type": "stream",
          "text": [
            "time: 10.4 ms (started: 2021-05-15 12:21:59 +00:00)\n"
          ],
          "name": "stdout"
        }
      ]
    },
    {
      "cell_type": "code",
      "metadata": {
        "colab": {
          "base_uri": "https://localhost:8080/",
          "height": 259
        },
        "id": "KPEcgIjj-J1d",
        "outputId": "d0dfdee2-b3cf-4e61-e5ab-867ef405fbc8"
      },
      "source": [
        "# Display data\n",
        "reframed [:5]"
      ],
      "execution_count": 190,
      "outputs": [
        {
          "output_type": "execute_result",
          "data": {
            "text/html": [
              "<div>\n",
              "<style scoped>\n",
              "    .dataframe tbody tr th:only-of-type {\n",
              "        vertical-align: middle;\n",
              "    }\n",
              "\n",
              "    .dataframe tbody tr th {\n",
              "        vertical-align: top;\n",
              "    }\n",
              "\n",
              "    .dataframe thead th {\n",
              "        text-align: right;\n",
              "    }\n",
              "</style>\n",
              "<table border=\"1\" class=\"dataframe\">\n",
              "  <thead>\n",
              "    <tr style=\"text-align: right;\">\n",
              "      <th></th>\n",
              "      <th>var1(t-3)</th>\n",
              "      <th>var2(t-3)</th>\n",
              "      <th>var1(t-2)</th>\n",
              "      <th>var2(t-2)</th>\n",
              "      <th>var1(t-1)</th>\n",
              "      <th>var2(t-1)</th>\n",
              "      <th>var1(t)</th>\n",
              "      <th>var2(t)</th>\n",
              "    </tr>\n",
              "  </thead>\n",
              "  <tbody>\n",
              "    <tr>\n",
              "      <th>3</th>\n",
              "      <td>0.038041</td>\n",
              "      <td>0.057941</td>\n",
              "      <td>0.037300</td>\n",
              "      <td>0.062260</td>\n",
              "      <td>0.041105</td>\n",
              "      <td>0.057204</td>\n",
              "      <td>0.035599</td>\n",
              "      <td>0.059470</td>\n",
              "    </tr>\n",
              "    <tr>\n",
              "      <th>4</th>\n",
              "      <td>0.037300</td>\n",
              "      <td>0.062260</td>\n",
              "      <td>0.041105</td>\n",
              "      <td>0.057204</td>\n",
              "      <td>0.035599</td>\n",
              "      <td>0.059470</td>\n",
              "      <td>0.037363</td>\n",
              "      <td>0.060825</td>\n",
              "    </tr>\n",
              "    <tr>\n",
              "      <th>5</th>\n",
              "      <td>0.041105</td>\n",
              "      <td>0.057204</td>\n",
              "      <td>0.035599</td>\n",
              "      <td>0.059470</td>\n",
              "      <td>0.037363</td>\n",
              "      <td>0.060825</td>\n",
              "      <td>0.038222</td>\n",
              "      <td>0.062482</td>\n",
              "    </tr>\n",
              "    <tr>\n",
              "      <th>6</th>\n",
              "      <td>0.035599</td>\n",
              "      <td>0.059470</td>\n",
              "      <td>0.037363</td>\n",
              "      <td>0.060825</td>\n",
              "      <td>0.038222</td>\n",
              "      <td>0.062482</td>\n",
              "      <td>0.039388</td>\n",
              "      <td>0.062181</td>\n",
              "    </tr>\n",
              "    <tr>\n",
              "      <th>7</th>\n",
              "      <td>0.037363</td>\n",
              "      <td>0.060825</td>\n",
              "      <td>0.038222</td>\n",
              "      <td>0.062482</td>\n",
              "      <td>0.039388</td>\n",
              "      <td>0.062181</td>\n",
              "      <td>0.038608</td>\n",
              "      <td>0.063441</td>\n",
              "    </tr>\n",
              "  </tbody>\n",
              "</table>\n",
              "</div>"
            ],
            "text/plain": [
              "   var1(t-3)  var2(t-3)  var1(t-2)  ...  var2(t-1)   var1(t)   var2(t)\n",
              "3   0.038041   0.057941   0.037300  ...   0.057204  0.035599  0.059470\n",
              "4   0.037300   0.062260   0.041105  ...   0.059470  0.037363  0.060825\n",
              "5   0.041105   0.057204   0.035599  ...   0.060825  0.038222  0.062482\n",
              "6   0.035599   0.059470   0.037363  ...   0.062482  0.039388  0.062181\n",
              "7   0.037363   0.060825   0.038222  ...   0.062181  0.038608  0.063441\n",
              "\n",
              "[5 rows x 8 columns]"
            ]
          },
          "metadata": {
            "tags": []
          },
          "execution_count": 190
        },
        {
          "output_type": "stream",
          "text": [
            "time: 27.2 ms (started: 2021-05-15 12:21:59 +00:00)\n"
          ],
          "name": "stdout"
        }
      ]
    },
    {
      "cell_type": "code",
      "metadata": {
        "colab": {
          "base_uri": "https://localhost:8080/"
        },
        "id": "peUy104owszp",
        "outputId": "358fd84e-cf7b-4ebe-b607-ec5155fae3c1"
      },
      "source": [
        "# Show last column (to be removed)\n",
        "num_rows, num_cols = reframed.shape\n",
        "n = print (num_cols)\n",
        "n"
      ],
      "execution_count": 191,
      "outputs": [
        {
          "output_type": "stream",
          "text": [
            "8\n",
            "time: 3.13 ms (started: 2021-05-15 12:21:59 +00:00)\n"
          ],
          "name": "stdout"
        }
      ]
    },
    {
      "cell_type": "code",
      "metadata": {
        "colab": {
          "base_uri": "https://localhost:8080/"
        },
        "id": "WjwBk1SksAjw",
        "outputId": "f2afc879-2b3b-43c6-b849-50647b984a26"
      },
      "source": [
        "# drop columns we don't want to predict\n",
        "n = 7 # number of last column (from above) minus 1 (the index column)\n",
        "reframed.drop(reframed.columns[[n]], axis=1, inplace=True)\n",
        "print(reframed.head())"
      ],
      "execution_count": 192,
      "outputs": [
        {
          "output_type": "stream",
          "text": [
            "   var1(t-3)  var2(t-3)  var1(t-2)  var2(t-2)  var1(t-1)  var2(t-1)   var1(t)\n",
            "3   0.038041   0.057941   0.037300   0.062260   0.041105   0.057204  0.035599\n",
            "4   0.037300   0.062260   0.041105   0.057204   0.035599   0.059470  0.037363\n",
            "5   0.041105   0.057204   0.035599   0.059470   0.037363   0.060825  0.038222\n",
            "6   0.035599   0.059470   0.037363   0.060825   0.038222   0.062482  0.039388\n",
            "7   0.037363   0.060825   0.038222   0.062482   0.039388   0.062181  0.038608\n",
            "time: 18.8 ms (started: 2021-05-15 12:21:59 +00:00)\n"
          ],
          "name": "stdout"
        }
      ]
    },
    {
      "cell_type": "markdown",
      "metadata": {
        "id": "tGXlL5dRpCNs"
      },
      "source": [
        "#### **Shape for LSTM**"
      ]
    },
    {
      "cell_type": "code",
      "metadata": {
        "colab": {
          "base_uri": "https://localhost:8080/"
        },
        "id": "humf4h6zyKTw",
        "outputId": "d4ce18e8-565b-4618-8394-6613775ee141"
      },
      "source": [
        "# how many rows (time stamps)?\n",
        "reframed.shape[0]"
      ],
      "execution_count": 193,
      "outputs": [
        {
          "output_type": "execute_result",
          "data": {
            "text/plain": [
              "2512"
            ]
          },
          "metadata": {
            "tags": []
          },
          "execution_count": 193
        },
        {
          "output_type": "stream",
          "text": [
            "time: 4.27 ms (started: 2021-05-15 12:22:00 +00:00)\n"
          ],
          "name": "stdout"
        }
      ]
    },
    {
      "cell_type": "code",
      "metadata": {
        "colab": {
          "base_uri": "https://localhost:8080/"
        },
        "id": "8mmYnhfgEnku",
        "outputId": "185fcb71-8eb9-43e7-f286-61a8bbe50c11"
      },
      "source": [
        "values = reframed.values\n",
        "train_time = 2000\n",
        "train = values[:train_time, :]\n",
        "test = values[train_time:, :]"
      ],
      "execution_count": 194,
      "outputs": [
        {
          "output_type": "stream",
          "text": [
            "time: 2.18 ms (started: 2021-05-15 12:22:00 +00:00)\n"
          ],
          "name": "stdout"
        }
      ]
    },
    {
      "cell_type": "code",
      "metadata": {
        "colab": {
          "base_uri": "https://localhost:8080/"
        },
        "id": "SWZMJsYCyAPp",
        "outputId": "b83bfb75-cc2b-4835-fb3b-e971619ec54d"
      },
      "source": [
        "# split into input and outputs\n",
        "n_obs = windows * features\n",
        "train_X, train_y = train[:, :n_obs], train[:, -features]\n",
        "test_X, test_y = test[:, :n_obs], test[:, -features]\n",
        "print(train_X.shape, len(train_X), train_y.shape)"
      ],
      "execution_count": 195,
      "outputs": [
        {
          "output_type": "stream",
          "text": [
            "(2000, 6) 2000 (2000,)\n",
            "time: 5.31 ms (started: 2021-05-15 12:22:00 +00:00)\n"
          ],
          "name": "stdout"
        }
      ]
    },
    {
      "cell_type": "code",
      "metadata": {
        "colab": {
          "base_uri": "https://localhost:8080/"
        },
        "id": "MXh_ebEMx-qx",
        "outputId": "05ed44c0-e727-4c6b-cf10-30953c192c7f"
      },
      "source": [
        "# reshape input to be 3D [samples, timesteps, features]\n",
        "train_X = train_X.reshape((train_X.shape[0], windows, features))\n",
        "test_X = test_X.reshape((test_X.shape[0], windows, features))"
      ],
      "execution_count": 196,
      "outputs": [
        {
          "output_type": "stream",
          "text": [
            "time: 1.94 ms (started: 2021-05-15 12:22:00 +00:00)\n"
          ],
          "name": "stdout"
        }
      ]
    },
    {
      "cell_type": "code",
      "metadata": {
        "colab": {
          "base_uri": "https://localhost:8080/"
        },
        "id": "zO75KO7bFRMW",
        "outputId": "61649f52-2edd-4b59-89eb-bf64965c8561"
      },
      "source": [
        "print(test_X.shape, len(test_X), test_y.shape)"
      ],
      "execution_count": 197,
      "outputs": [
        {
          "output_type": "stream",
          "text": [
            "(512, 3, 2) 512 (512,)\n",
            "time: 2.04 ms (started: 2021-05-15 12:22:00 +00:00)\n"
          ],
          "name": "stdout"
        }
      ]
    },
    {
      "cell_type": "code",
      "metadata": {
        "colab": {
          "base_uri": "https://localhost:8080/"
        },
        "id": "rhnLYVOd9_g7",
        "outputId": "221b5995-c4f8-41c7-f243-4c50236e9f2f"
      },
      "source": [
        "test_X"
      ],
      "execution_count": 198,
      "outputs": [
        {
          "output_type": "execute_result",
          "data": {
            "text/plain": [
              "array([[[0.6974705 , 0.72154284],\n",
              "        [0.6997629 , 0.73530084],\n",
              "        [0.7129499 , 0.73539597]],\n",
              "\n",
              "       [[0.6997629 , 0.73530084],\n",
              "        [0.7129499 , 0.73539597],\n",
              "        [0.712556  , 0.7439867 ]],\n",
              "\n",
              "       [[0.7129499 , 0.73539597],\n",
              "        [0.712556  , 0.7439867 ],\n",
              "        [0.72060686, 0.74274254]],\n",
              "\n",
              "       ...,\n",
              "\n",
              "       [[0.99822754, 0.99993664],\n",
              "        [0.9994485 , 0.99999994],\n",
              "        [1.        , 0.98370594]],\n",
              "\n",
              "       [[0.9994485 , 0.99999994],\n",
              "        [1.        , 0.98370594],\n",
              "        [0.9842921 , 0.95722014]],\n",
              "\n",
              "       [[1.        , 0.98370594],\n",
              "        [0.9842921 , 0.95722014],\n",
              "        [0.95844597, 0.97151715]]], dtype=float32)"
            ]
          },
          "metadata": {
            "tags": []
          },
          "execution_count": 198
        },
        {
          "output_type": "stream",
          "text": [
            "time: 5.32 ms (started: 2021-05-15 12:22:00 +00:00)\n"
          ],
          "name": "stdout"
        }
      ]
    },
    {
      "cell_type": "markdown",
      "metadata": {
        "id": "lPhp3-pUzDQL"
      },
      "source": [
        "## **Model Fitting & Forecasting**"
      ]
    },
    {
      "cell_type": "markdown",
      "metadata": {
        "id": "BVyFo2CU4joq"
      },
      "source": [
        "#### **Create & Train Model**"
      ]
    },
    {
      "cell_type": "code",
      "metadata": {
        "colab": {
          "base_uri": "https://localhost:8080/"
        },
        "id": "BtC5Z3D8uKtP",
        "outputId": "5f369529-8c89-4212-fc00-03095d74097f"
      },
      "source": [
        "# design network\n",
        "model = Sequential()\n",
        "model.add(LSTM(50, input_shape=(train_X.shape[1], train_X.shape[2])))\n",
        "model.add(Dense(10))\n",
        "model.add(Dense(1))\n",
        "model.compile(loss='mae', optimizer='adam')"
      ],
      "execution_count": 199,
      "outputs": [
        {
          "output_type": "stream",
          "text": [
            "time: 269 ms (started: 2021-05-15 12:22:00 +00:00)\n"
          ],
          "name": "stdout"
        }
      ]
    },
    {
      "cell_type": "code",
      "metadata": {
        "colab": {
          "base_uri": "https://localhost:8080/"
        },
        "id": "h70lwqUVuN3i",
        "outputId": "1af3b082-cdcc-43e5-d92c-5d0cfe1883d4"
      },
      "source": [
        "model.summary()"
      ],
      "execution_count": 200,
      "outputs": [
        {
          "output_type": "stream",
          "text": [
            "Model: \"sequential_5\"\n",
            "_________________________________________________________________\n",
            "Layer (type)                 Output Shape              Param #   \n",
            "=================================================================\n",
            "lstm_5 (LSTM)                (None, 50)                10600     \n",
            "_________________________________________________________________\n",
            "dense_10 (Dense)             (None, 10)                510       \n",
            "_________________________________________________________________\n",
            "dense_11 (Dense)             (None, 1)                 11        \n",
            "=================================================================\n",
            "Total params: 11,121\n",
            "Trainable params: 11,121\n",
            "Non-trainable params: 0\n",
            "_________________________________________________________________\n",
            "time: 8.57 ms (started: 2021-05-15 12:22:00 +00:00)\n"
          ],
          "name": "stdout"
        }
      ]
    },
    {
      "cell_type": "code",
      "metadata": {
        "colab": {
          "base_uri": "https://localhost:8080/"
        },
        "id": "jEgZ8-NEpK_T",
        "outputId": "2a5f0375-a984-4e70-a411-b5dde1819cb9"
      },
      "source": [
        "# fit network\n",
        "history = model.fit(train_X, train_y, \n",
        "                    epochs=20, \n",
        "                    batch_size=72, \n",
        "                    validation_data=(test_X, test_y), \n",
        "                    verbose=1, \n",
        "                    shuffle=False)"
      ],
      "execution_count": 201,
      "outputs": [
        {
          "output_type": "stream",
          "text": [
            "Epoch 1/20\n",
            "28/28 [==============================] - 2s 27ms/step - loss: 0.0757 - val_loss: 0.0589\n",
            "Epoch 2/20\n",
            "28/28 [==============================] - 0s 4ms/step - loss: 0.1105 - val_loss: 0.0983\n",
            "Epoch 3/20\n",
            "28/28 [==============================] - 0s 4ms/step - loss: 0.0284 - val_loss: 0.0356\n",
            "Epoch 4/20\n",
            "28/28 [==============================] - 0s 5ms/step - loss: 0.0340 - val_loss: 0.0415\n",
            "Epoch 5/20\n",
            "28/28 [==============================] - 0s 5ms/step - loss: 0.0237 - val_loss: 0.0288\n",
            "Epoch 6/20\n",
            "28/28 [==============================] - 0s 4ms/step - loss: 0.0207 - val_loss: 0.0339\n",
            "Epoch 7/20\n",
            "28/28 [==============================] - 0s 4ms/step - loss: 0.0176 - val_loss: 0.0289\n",
            "Epoch 8/20\n",
            "28/28 [==============================] - 0s 4ms/step - loss: 0.0142 - val_loss: 0.0399\n",
            "Epoch 9/20\n",
            "28/28 [==============================] - 0s 5ms/step - loss: 0.0117 - val_loss: 0.0412\n",
            "Epoch 10/20\n",
            "28/28 [==============================] - 0s 4ms/step - loss: 0.0078 - val_loss: 0.0140\n",
            "Epoch 11/20\n",
            "28/28 [==============================] - 0s 5ms/step - loss: 0.0133 - val_loss: 0.0127\n",
            "Epoch 12/20\n",
            "28/28 [==============================] - 0s 4ms/step - loss: 0.0411 - val_loss: 0.0087\n",
            "Epoch 13/20\n",
            "28/28 [==============================] - 0s 4ms/step - loss: 0.0262 - val_loss: 0.0237\n",
            "Epoch 14/20\n",
            "28/28 [==============================] - 0s 4ms/step - loss: 0.0236 - val_loss: 0.0129\n",
            "Epoch 15/20\n",
            "28/28 [==============================] - 0s 5ms/step - loss: 0.0225 - val_loss: 0.0267\n",
            "Epoch 16/20\n",
            "28/28 [==============================] - 0s 4ms/step - loss: 0.0209 - val_loss: 0.0219\n",
            "Epoch 17/20\n",
            "28/28 [==============================] - 0s 4ms/step - loss: 0.0213 - val_loss: 0.0160\n",
            "Epoch 18/20\n",
            "28/28 [==============================] - 0s 4ms/step - loss: 0.0269 - val_loss: 0.0132\n",
            "Epoch 19/20\n",
            "28/28 [==============================] - 0s 4ms/step - loss: 0.0159 - val_loss: 0.0241\n",
            "Epoch 20/20\n",
            "28/28 [==============================] - 0s 4ms/step - loss: 0.0148 - val_loss: 0.0119\n",
            "time: 4.78 s (started: 2021-05-15 12:22:00 +00:00)\n"
          ],
          "name": "stdout"
        }
      ]
    },
    {
      "cell_type": "code",
      "metadata": {
        "colab": {
          "base_uri": "https://localhost:8080/",
          "height": 72
        },
        "id": "7docl58R0PCm",
        "outputId": "ed2e169a-57e6-4334-9518-693900328fb7"
      },
      "source": [
        "# plot history\n",
        "pyplot.plot(history.history['loss'], label='train')\n",
        "pyplot.plot(history.history['val_loss'], label='test')\n",
        "pyplot.legend()\n",
        "pyplot.show()"
      ],
      "execution_count": 202,
      "outputs": [
        {
          "output_type": "display_data",
          "data": {
            "image/png": "[encoded data removed]",
            "text/plain": [
              "<Figure size 720x576 with 1 Axes>"
            ]
          },
          "metadata": {
            "tags": []
          }
        },
        {
          "output_type": "stream",
          "text": [
            "time: 301 ms (started: 2021-05-15 12:22:05 +00:00)\n"
          ],
          "name": "stdout"
        }
      ]
    },
    {
      "cell_type": "markdown",
      "metadata": {
        "id": "ubQEAzIJ2rec"
      },
      "source": [
        "#### **Make a prediction**"
      ]
    },
    {
      "cell_type": "code",
      "metadata": {
        "colab": {
          "base_uri": "https://localhost:8080/"
        },
        "id": "hR3nLuWlzXQf",
        "outputId": "e28ca40c-6852-4171-f58c-120f05eb33fa"
      },
      "source": [
        "# make a prediction\n",
        "yhat = model.predict(test_X)\n",
        "test_X = test_X.reshape((test_X.shape[0], windows*features))"
      ],
      "execution_count": 203,
      "outputs": [
        {
          "output_type": "stream",
          "text": [
            "time: 369 ms (started: 2021-05-15 12:22:05 +00:00)\n"
          ],
          "name": "stdout"
        }
      ]
    },
    {
      "cell_type": "code",
      "metadata": {
        "colab": {
          "base_uri": "https://localhost:8080/"
        },
        "id": "iUud1pR30rzm",
        "outputId": "02bf5fc1-e1cf-4c5c-c7c9-04cda93bf920"
      },
      "source": [
        "# Shape: 6 windows (3 timesteps for 2 features)\n",
        "test_X.shape[0], test_X.shape[1]"
      ],
      "execution_count": 204,
      "outputs": [
        {
          "output_type": "execute_result",
          "data": {
            "text/plain": [
              "(512, 6)"
            ]
          },
          "metadata": {
            "tags": []
          },
          "execution_count": 204
        },
        {
          "output_type": "stream",
          "text": [
            "time: 3.86 ms (started: 2021-05-15 12:22:05 +00:00)\n"
          ],
          "name": "stdout"
        }
      ]
    },
    {
      "cell_type": "code",
      "metadata": {
        "colab": {
          "base_uri": "https://localhost:8080/"
        },
        "id": "SG3LedRK4LGI",
        "outputId": "bb6a80a0-f09a-451c-9529-eaa02c91d968"
      },
      "source": [
        "test_X [0:5]"
      ],
      "execution_count": 205,
      "outputs": [
        {
          "output_type": "execute_result",
          "data": {
            "text/plain": [
              "array([[0.6974705 , 0.72154284, 0.6997629 , 0.73530084, 0.7129499 ,\n",
              "        0.73539597],\n",
              "       [0.6997629 , 0.73530084, 0.7129499 , 0.73539597, 0.712556  ,\n",
              "        0.7439867 ],\n",
              "       [0.7129499 , 0.73539597, 0.712556  , 0.7439867 , 0.72060686,\n",
              "        0.74274254],\n",
              "       [0.712556  , 0.7439867 , 0.72060686, 0.74274254, 0.7188817 ,\n",
              "        0.7493521 ],\n",
              "       [0.72060686, 0.74274254, 0.7188817 , 0.7493521 , 0.7249632 ,\n",
              "        0.7643464 ]], dtype=float32)"
            ]
          },
          "metadata": {
            "tags": []
          },
          "execution_count": 205
        },
        {
          "output_type": "stream",
          "text": [
            "time: 5.16 ms (started: 2021-05-15 12:22:05 +00:00)\n"
          ],
          "name": "stdout"
        }
      ]
    },
    {
      "cell_type": "code",
      "metadata": {
        "colab": {
          "base_uri": "https://localhost:8080/"
        },
        "id": "GxvYcPzN3ERu",
        "outputId": "1ee3a834-ab13-446d-837a-ce65bd15134a"
      },
      "source": [
        "# Shape: one timestep forecasted for one feature\n",
        "yhat.shape[0], yhat.shape[1]"
      ],
      "execution_count": 206,
      "outputs": [
        {
          "output_type": "execute_result",
          "data": {
            "text/plain": [
              "(512, 1)"
            ]
          },
          "metadata": {
            "tags": []
          },
          "execution_count": 206
        },
        {
          "output_type": "stream",
          "text": [
            "time: 4.33 ms (started: 2021-05-15 12:22:05 +00:00)\n"
          ],
          "name": "stdout"
        }
      ]
    },
    {
      "cell_type": "code",
      "metadata": {
        "colab": {
          "base_uri": "https://localhost:8080/"
        },
        "id": "a5gcnz0G4Dwm",
        "outputId": "0261d3fb-f2e1-4942-f531-074a576ac85f"
      },
      "source": [
        "yhat [0:5]"
      ],
      "execution_count": 207,
      "outputs": [
        {
          "output_type": "execute_result",
          "data": {
            "text/plain": [
              "array([[0.7368274 ],\n",
              "       [0.7444753 ],\n",
              "       [0.7469459 ],\n",
              "       [0.75164706],\n",
              "       [0.75804156]], dtype=float32)"
            ]
          },
          "metadata": {
            "tags": []
          },
          "execution_count": 207
        },
        {
          "output_type": "stream",
          "text": [
            "time: 4.49 ms (started: 2021-05-15 12:22:05 +00:00)\n"
          ],
          "name": "stdout"
        }
      ]
    },
    {
      "cell_type": "markdown",
      "metadata": {
        "id": "SP-YXG7CpUCM"
      },
      "source": [
        "## **Postprocess Data**"
      ]
    },
    {
      "cell_type": "markdown",
      "metadata": {
        "id": "cu0sv43q2uwX"
      },
      "source": [
        "#### **Invert Scaling for Forecasted Values**"
      ]
    },
    {
      "cell_type": "code",
      "metadata": {
        "colab": {
          "base_uri": "https://localhost:8080/"
        },
        "id": "929bPPIu9nNl",
        "outputId": "946309e5-adb4-42c2-b3b8-47556c533585"
      },
      "source": [
        "# remove all other features to align matrix structure\n",
        "inv_yhat = concatenate((yhat, test_X[:, -1:]), axis=1)\n",
        "inv_yhat [0:5]"
      ],
      "execution_count": 208,
      "outputs": [
        {
          "output_type": "execute_result",
          "data": {
            "text/plain": [
              "array([[0.7368274 , 0.73539597],\n",
              "       [0.7444753 , 0.7439867 ],\n",
              "       [0.7469459 , 0.74274254],\n",
              "       [0.75164706, 0.7493521 ],\n",
              "       [0.75804156, 0.7643464 ]], dtype=float32)"
            ]
          },
          "metadata": {
            "tags": []
          },
          "execution_count": 208
        },
        {
          "output_type": "stream",
          "text": [
            "time: 10 ms (started: 2021-05-15 12:22:05 +00:00)\n"
          ],
          "name": "stdout"
        }
      ]
    },
    {
      "cell_type": "code",
      "metadata": {
        "colab": {
          "base_uri": "https://localhost:8080/"
        },
        "id": "t-Rh-nPU4wjO",
        "outputId": "78fab47f-1e4c-4976-9ecb-6aad1105fea9"
      },
      "source": [
        "inv_yhat.shape[0], inv_yhat.shape[1]"
      ],
      "execution_count": 209,
      "outputs": [
        {
          "output_type": "execute_result",
          "data": {
            "text/plain": [
              "(512, 2)"
            ]
          },
          "metadata": {
            "tags": []
          },
          "execution_count": 209
        },
        {
          "output_type": "stream",
          "text": [
            "time: 5.09 ms (started: 2021-05-15 12:22:06 +00:00)\n"
          ],
          "name": "stdout"
        }
      ]
    },
    {
      "cell_type": "code",
      "metadata": {
        "colab": {
          "base_uri": "https://localhost:8080/"
        },
        "id": "uDs6im4U4mTg",
        "outputId": "bc62f390-486d-416b-8f9c-d76dae2e085a"
      },
      "source": [
        "inv_yhat = scaler.inverse_transform(inv_yhat)[:, [1]]\n",
        "inv_yhat [0:5]"
      ],
      "execution_count": 210,
      "outputs": [
        {
          "output_type": "execute_result",
          "data": {
            "text/plain": [
              "array([[1135.24],\n",
              "       [1146.08],\n",
              "       [1144.51],\n",
              "       [1152.85],\n",
              "       [1171.77]], dtype=float32)"
            ]
          },
          "metadata": {
            "tags": []
          },
          "execution_count": 210
        },
        {
          "output_type": "stream",
          "text": [
            "time: 8.35 ms (started: 2021-05-15 12:22:06 +00:00)\n"
          ],
          "name": "stdout"
        }
      ]
    },
    {
      "cell_type": "code",
      "metadata": {
        "colab": {
          "base_uri": "https://localhost:8080/"
        },
        "id": "ueyV1uY7CMi4",
        "outputId": "977a51e1-108d-4abb-a345-fd8d31bc3209"
      },
      "source": [
        "inv_yhat = inv_yhat[:,0]"
      ],
      "execution_count": 211,
      "outputs": [
        {
          "output_type": "stream",
          "text": [
            "time: 940 µs (started: 2021-05-15 12:22:06 +00:00)\n"
          ],
          "name": "stdout"
        }
      ]
    },
    {
      "cell_type": "code",
      "metadata": {
        "colab": {
          "base_uri": "https://localhost:8080/"
        },
        "id": "SJgxsIuwCN7G",
        "outputId": "7efac032-c3a2-4ff9-8a33-422afe1ae04f"
      },
      "source": [
        "inv_yhat [0:5]"
      ],
      "execution_count": 212,
      "outputs": [
        {
          "output_type": "execute_result",
          "data": {
            "text/plain": [
              "array([1135.24, 1146.08, 1144.51, 1152.85, 1171.77], dtype=float32)"
            ]
          },
          "metadata": {
            "tags": []
          },
          "execution_count": 212
        },
        {
          "output_type": "stream",
          "text": [
            "time: 8.17 ms (started: 2021-05-15 12:22:06 +00:00)\n"
          ],
          "name": "stdout"
        }
      ]
    },
    {
      "cell_type": "markdown",
      "metadata": {
        "id": "wY8NPH8u2w4-"
      },
      "source": [
        "#### **Invert Scaling for Actual Values**"
      ]
    },
    {
      "cell_type": "code",
      "metadata": {
        "colab": {
          "base_uri": "https://localhost:8080/"
        },
        "id": "eEm0Uto65Scd",
        "outputId": "a2723e60-cbe4-469e-aa37-4da5991df61a"
      },
      "source": [
        "# Display target data\n",
        "test_y [0:5]"
      ],
      "execution_count": 213,
      "outputs": [
        {
          "output_type": "execute_result",
          "data": {
            "text/plain": [
              "array([0.73539597, 0.7439867 , 0.74274254, 0.7493521 , 0.7643464 ],\n",
              "      dtype=float32)"
            ]
          },
          "metadata": {
            "tags": []
          },
          "execution_count": 213
        },
        {
          "output_type": "stream",
          "text": [
            "time: 10.4 ms (started: 2021-05-15 12:23:45 +00:00)\n"
          ],
          "name": "stdout"
        }
      ]
    },
    {
      "cell_type": "code",
      "metadata": {
        "colab": {
          "base_uri": "https://localhost:8080/"
        },
        "id": "fSxtQp9O1c67",
        "outputId": "6dfb72c8-a48a-4cff-f7bc-a91a9888f1f2"
      },
      "source": [
        "# Reshape target data to concatenate later\n",
        "test_y = test_y.reshape((len(test_y), 1))\n",
        "test_y [0:5]"
      ],
      "execution_count": 214,
      "outputs": [
        {
          "output_type": "execute_result",
          "data": {
            "text/plain": [
              "array([[0.73539597],\n",
              "       [0.7439867 ],\n",
              "       [0.74274254],\n",
              "       [0.7493521 ],\n",
              "       [0.7643464 ]], dtype=float32)"
            ]
          },
          "metadata": {
            "tags": []
          },
          "execution_count": 214
        },
        {
          "output_type": "stream",
          "text": [
            "time: 5.05 ms (started: 2021-05-15 12:23:47 +00:00)\n"
          ],
          "name": "stdout"
        }
      ]
    },
    {
      "cell_type": "code",
      "metadata": {
        "colab": {
          "base_uri": "https://localhost:8080/"
        },
        "id": "Y-zP_aiw6lwI",
        "outputId": "e5112be0-6dee-40f9-a97d-0e92e48f6a3c"
      },
      "source": [
        "# Display input data\n",
        "test_X [0:5]"
      ],
      "execution_count": 215,
      "outputs": [
        {
          "output_type": "execute_result",
          "data": {
            "text/plain": [
              "array([[0.6974705 , 0.72154284, 0.6997629 , 0.73530084, 0.7129499 ,\n",
              "        0.73539597],\n",
              "       [0.6997629 , 0.73530084, 0.7129499 , 0.73539597, 0.712556  ,\n",
              "        0.7439867 ],\n",
              "       [0.7129499 , 0.73539597, 0.712556  , 0.7439867 , 0.72060686,\n",
              "        0.74274254],\n",
              "       [0.712556  , 0.7439867 , 0.72060686, 0.74274254, 0.7188817 ,\n",
              "        0.7493521 ],\n",
              "       [0.72060686, 0.74274254, 0.7188817 , 0.7493521 , 0.7249632 ,\n",
              "        0.7643464 ]], dtype=float32)"
            ]
          },
          "metadata": {
            "tags": []
          },
          "execution_count": 215
        },
        {
          "output_type": "stream",
          "text": [
            "time: 5.98 ms (started: 2021-05-15 12:23:49 +00:00)\n"
          ],
          "name": "stdout"
        }
      ]
    },
    {
      "cell_type": "code",
      "metadata": {
        "colab": {
          "base_uri": "https://localhost:8080/"
        },
        "id": "9csZywC515Hj",
        "outputId": "2a6700e1-3d30-4968-8664-5049ecc98db5"
      },
      "source": [
        "# Concatenate input & target data\n",
        "### This is purely for demonstration !!\n",
        "\n",
        "inv_y = concatenate((test_y, test_X[:, 0:]), axis=1)\n",
        "inv_y [0:5]"
      ],
      "execution_count": 216,
      "outputs": [
        {
          "output_type": "execute_result",
          "data": {
            "text/plain": [
              "array([[0.73539597, 0.6974705 , 0.72154284, 0.6997629 , 0.73530084,\n",
              "        0.7129499 , 0.73539597],\n",
              "       [0.7439867 , 0.6997629 , 0.73530084, 0.7129499 , 0.73539597,\n",
              "        0.712556  , 0.7439867 ],\n",
              "       [0.74274254, 0.7129499 , 0.73539597, 0.712556  , 0.7439867 ,\n",
              "        0.72060686, 0.74274254],\n",
              "       [0.7493521 , 0.712556  , 0.7439867 , 0.72060686, 0.74274254,\n",
              "        0.7188817 , 0.7493521 ],\n",
              "       [0.7643464 , 0.72060686, 0.74274254, 0.7188817 , 0.7493521 ,\n",
              "        0.7249632 , 0.7643464 ]], dtype=float32)"
            ]
          },
          "metadata": {
            "tags": []
          },
          "execution_count": 216
        },
        {
          "output_type": "stream",
          "text": [
            "time: 6.44 ms (started: 2021-05-15 12:23:52 +00:00)\n"
          ],
          "name": "stdout"
        }
      ]
    },
    {
      "cell_type": "code",
      "metadata": {
        "colab": {
          "base_uri": "https://localhost:8080/"
        },
        "id": "iLDJmi0U9dje",
        "outputId": "7a5717e1-232c-46a0-a979-ee0105edc965"
      },
      "source": [
        "# Concatenate input & target data\n",
        "inv_y = concatenate((test_y, test_X[:, -1:]), axis=1)\n",
        "inv_y [0:5]"
      ],
      "execution_count": 217,
      "outputs": [
        {
          "output_type": "execute_result",
          "data": {
            "text/plain": [
              "array([[0.73539597, 0.73539597],\n",
              "       [0.7439867 , 0.7439867 ],\n",
              "       [0.74274254, 0.74274254],\n",
              "       [0.7493521 , 0.7493521 ],\n",
              "       [0.7643464 , 0.7643464 ]], dtype=float32)"
            ]
          },
          "metadata": {
            "tags": []
          },
          "execution_count": 217
        },
        {
          "output_type": "stream",
          "text": [
            "time: 8.3 ms (started: 2021-05-15 12:23:59 +00:00)\n"
          ],
          "name": "stdout"
        }
      ]
    },
    {
      "cell_type": "code",
      "metadata": {
        "colab": {
          "base_uri": "https://localhost:8080/",
          "height": 374
        },
        "id": "YxOe6ERv-EFZ",
        "outputId": "fc34d83a-519a-4d94-dd68-da012e9842f6"
      },
      "source": [
        "# testplot\n",
        "\n",
        "df = pd.DataFrame(data=inv_y)\n",
        "sns.set(rc={'figure.figsize':(10, 5)})\n",
        "df.plot(title='series')"
      ],
      "execution_count": 218,
      "outputs": [
        {
          "output_type": "execute_result",
          "data": {
            "text/plain": [
              "<matplotlib.axes._subplots.AxesSubplot at 0x7fb8ee2ef9d0>"
            ]
          },
          "metadata": {
            "tags": []
          },
          "execution_count": 218
        },
        {
          "output_type": "display_data",
          "data": {
            "image/png": "[encoded data removed]",
            "text/plain": [
              "<Figure size 720x360 with 1 Axes>"
            ]
          },
          "metadata": {
            "tags": []
          }
        },
        {
          "output_type": "stream",
          "text": [
            "time: 359 ms (started: 2021-05-15 12:24:01 +00:00)\n"
          ],
          "name": "stdout"
        }
      ]
    },
    {
      "cell_type": "code",
      "metadata": {
        "colab": {
          "base_uri": "https://localhost:8080/"
        },
        "id": "rlE2PPCftlWq",
        "outputId": "b9af945d-e0a5-4f64-b098-3c009c765cf6"
      },
      "source": [
        "# Invert Scaling\n",
        "inv_y = scaler.inverse_transform(inv_y)\n",
        "inv_y [0:5]"
      ],
      "execution_count": 219,
      "outputs": [
        {
          "output_type": "execute_result",
          "data": {
            "text/plain": [
              "array([[1150.7537, 1135.24  ],\n",
              "       [1161.659 , 1146.08  ],\n",
              "       [1160.0797, 1144.51  ],\n",
              "       [1168.4701, 1152.85  ],\n",
              "       [1187.5043, 1171.77  ]], dtype=float32)"
            ]
          },
          "metadata": {
            "tags": []
          },
          "execution_count": 219
        },
        {
          "output_type": "stream",
          "text": [
            "time: 9.42 ms (started: 2021-05-15 12:24:16 +00:00)\n"
          ],
          "name": "stdout"
        }
      ]
    },
    {
      "cell_type": "code",
      "metadata": {
        "colab": {
          "base_uri": "https://localhost:8080/"
        },
        "id": "hRXKpcEhCWYq",
        "outputId": "fd398cf4-eeef-4a65-dc3d-1fe6eb8e57bb"
      },
      "source": [
        "# Reshape again (transpose) and leave target data only (first column)\n",
        "inv_y = inv_y[:,0]\n",
        "inv_y [0:5]"
      ],
      "execution_count": 178,
      "outputs": [
        {
          "output_type": "execute_result",
          "data": {
            "text/plain": [
              "array([1150.7537, 1161.659 , 1160.0797, 1168.4701, 1187.5043],\n",
              "      dtype=float32)"
            ]
          },
          "metadata": {
            "tags": []
          },
          "execution_count": 178
        },
        {
          "output_type": "stream",
          "text": [
            "time: 5.85 ms (started: 2021-05-15 12:17:46 +00:00)\n"
          ],
          "name": "stdout"
        }
      ]
    },
    {
      "cell_type": "markdown",
      "metadata": {
        "id": "6E9PE7QMt3tQ"
      },
      "source": [
        "## **Evaluate Model**"
      ]
    },
    {
      "cell_type": "markdown",
      "metadata": {
        "id": "-0t941Iz2zpR"
      },
      "source": [
        "#### **Calculate RMSE**"
      ]
    },
    {
      "cell_type": "code",
      "metadata": {
        "colab": {
          "base_uri": "https://localhost:8080/"
        },
        "id": "iNmqypy5pV48",
        "outputId": "37c56b0d-acc2-4b0b-ec77-2afebbbdf589"
      },
      "source": [
        "rmse = sqrt(mean_squared_error(inv_y, inv_yhat))\n",
        "print('Test RMSE: %.2f' % rmse)"
      ],
      "execution_count": null,
      "outputs": [
        {
          "output_type": "stream",
          "text": [
            "Test RMSE: 16.05\n",
            "time: 3.34 ms (started: 2021-05-15 07:15:12 +00:00)\n"
          ],
          "name": "stdout"
        }
      ]
    },
    {
      "cell_type": "code",
      "metadata": {
        "colab": {
          "base_uri": "https://localhost:8080/",
          "height": 695
        },
        "id": "RJjcHho9NTIa",
        "outputId": "c8b64ed9-4131-47cc-fa2a-76ee810166ee"
      },
      "source": [
        "test_y_plot = pd.DataFrame(data=test_y, columns=['test_y'])\n",
        "yhat_plot = pd.DataFrame(data=yhat, columns=['yhat'])\n",
        "\n",
        "sns.set(rc={'figure.figsize':(10, 5)})\n",
        "test_y_plot.plot(title='test y')\n",
        "yhat_plot.plot(title='yhat')"
      ],
      "execution_count": null,
      "outputs": [
        {
          "output_type": "execute_result",
          "data": {
            "text/plain": [
              "<matplotlib.axes._subplots.AxesSubplot at 0x7fb7e01c3850>"
            ]
          },
          "metadata": {
            "tags": []
          },
          "execution_count": 85
        },
        {
          "output_type": "display_data",
          "data": {
            "image/png": "[encoded data removed]",
            "text/plain": [
              "<Figure size 720x360 with 1 Axes>"
            ]
          },
          "metadata": {
            "tags": []
          }
        },
        {
          "output_type": "display_data",
          "data": {
            "image/png": "[encoded data removed]",
            "text/plain": [
              "<Figure size 720x360 with 1 Axes>"
            ]
          },
          "metadata": {
            "tags": []
          }
        },
        {
          "output_type": "stream",
          "text": [
            "time: 1.12 s (started: 2021-05-15 07:15:13 +00:00)\n"
          ],
          "name": "stdout"
        }
      ]
    },
    {
      "cell_type": "markdown",
      "metadata": {
        "id": "2d7RYRD33UuK"
      },
      "source": [
        "#### **Residuals**"
      ]
    },
    {
      "cell_type": "code",
      "metadata": {
        "colab": {
          "base_uri": "https://localhost:8080/",
          "height": 222
        },
        "id": "E0hieeLrtriv",
        "outputId": "7d770e5c-20cd-47b8-e5c5-01c4c825323f"
      },
      "source": [
        "# Get residuals (normalized)\n",
        "residuals = (test_y[0] - yhat[:,0])\n",
        "res = pd.DataFrame(data=residuals, columns=['residuals'])\n",
        "res.head()"
      ],
      "execution_count": null,
      "outputs": [
        {
          "output_type": "execute_result",
          "data": {
            "text/html": [
              "<div>\n",
              "<style scoped>\n",
              "    .dataframe tbody tr th:only-of-type {\n",
              "        vertical-align: middle;\n",
              "    }\n",
              "\n",
              "    .dataframe tbody tr th {\n",
              "        vertical-align: top;\n",
              "    }\n",
              "\n",
              "    .dataframe thead th {\n",
              "        text-align: right;\n",
              "    }\n",
              "</style>\n",
              "<table border=\"1\" class=\"dataframe\">\n",
              "  <thead>\n",
              "    <tr style=\"text-align: right;\">\n",
              "      <th></th>\n",
              "      <th>residuals</th>\n",
              "    </tr>\n",
              "  </thead>\n",
              "  <tbody>\n",
              "    <tr>\n",
              "      <th>0</th>\n",
              "      <td>-0.005307</td>\n",
              "    </tr>\n",
              "    <tr>\n",
              "      <th>1</th>\n",
              "      <td>-0.012515</td>\n",
              "    </tr>\n",
              "    <tr>\n",
              "      <th>2</th>\n",
              "      <td>-0.015052</td>\n",
              "    </tr>\n",
              "    <tr>\n",
              "      <th>3</th>\n",
              "      <td>-0.019509</td>\n",
              "    </tr>\n",
              "    <tr>\n",
              "      <th>4</th>\n",
              "      <td>-0.026277</td>\n",
              "    </tr>\n",
              "  </tbody>\n",
              "</table>\n",
              "</div>"
            ],
            "text/plain": [
              "   residuals\n",
              "0  -0.005307\n",
              "1  -0.012515\n",
              "2  -0.015052\n",
              "3  -0.019509\n",
              "4  -0.026277"
            ]
          },
          "metadata": {
            "tags": []
          },
          "execution_count": 86
        },
        {
          "output_type": "stream",
          "text": [
            "time: 14.5 ms (started: 2021-05-15 07:15:14 +00:00)\n"
          ],
          "name": "stdout"
        }
      ]
    },
    {
      "cell_type": "code",
      "metadata": {
        "colab": {
          "base_uri": "https://localhost:8080/",
          "height": 374
        },
        "id": "aGmZWGOMt7dR",
        "outputId": "c847e38b-19de-41f0-9204-c7bed21ad315"
      },
      "source": [
        "# Plot Residuals\n",
        "sns.set(rc={'figure.figsize':(10, 5)})\n",
        "res.plot(title='Residuals')"
      ],
      "execution_count": null,
      "outputs": [
        {
          "output_type": "execute_result",
          "data": {
            "text/plain": [
              "<matplotlib.axes._subplots.AxesSubplot at 0x7fb7e3578ad0>"
            ]
          },
          "metadata": {
            "tags": []
          },
          "execution_count": 87
        },
        {
          "output_type": "display_data",
          "data": {
            "image/png": "[encoded data removed]",
            "text/plain": [
              "<Figure size 720x360 with 1 Axes>"
            ]
          },
          "metadata": {
            "tags": []
          }
        },
        {
          "output_type": "stream",
          "text": [
            "time: 384 ms (started: 2021-05-15 07:15:14 +00:00)\n"
          ],
          "name": "stdout"
        }
      ]
    },
    {
      "cell_type": "markdown",
      "metadata": {
        "id": "yGsirhr33ob7"
      },
      "source": [
        "#### **Plot Results**"
      ]
    },
    {
      "cell_type": "code",
      "metadata": {
        "colab": {
          "base_uri": "https://localhost:8080/",
          "height": 261
        },
        "id": "klPJb6MKuU5X",
        "outputId": "5822b061-a2ce-4230-a25a-dba35d58610e"
      },
      "source": [
        "# Plot results\n",
        "\n",
        "# shift train predictions for plotting\n",
        "trainPredictPlot = np.empty_like(dataset)\n",
        "trainPredictPlot[:, :] = np.nan\n",
        "trainPredictPlot[windows:len(yhat)+windows, :] = yhat\n",
        "\n",
        "# shift test predictions for plotting\n",
        "testPredictPlot = np.empty_like(dataset)\n",
        "testPredictPlot[:, :] = np.nan\n",
        "testPredictPlot[len(test_X)+(windows*2)+1:len(dataset)-1, :] = test_X\n",
        "\n",
        "# plot baseline and predictions\n",
        "sns.set(rc={'figure.figsize':(11, 5)})\n",
        "#plt.plot(scaler.inverse_transform(dataset))\n",
        "plt.plot(dataset)\n",
        "plt.plot(trainPredictPlot)\n",
        "plt.plot(testPredictPlot)\n",
        "plt.show()"
      ],
      "execution_count": null,
      "outputs": [
        {
          "output_type": "error",
          "ename": "ValueError",
          "evalue": "ignored",
          "traceback": [
            "\u001b[0;31m---------------------------------------------------------------------------\u001b[0m",
            "\u001b[0;31mValueError\u001b[0m                                Traceback (most recent call last)",
            "\u001b[0;32m<ipython-input-88-63e2da87b58a>\u001b[0m in \u001b[0;36m<module>\u001b[0;34m()\u001b[0m\n\u001b[1;32m      9\u001b[0m \u001b[0mtestPredictPlot\u001b[0m \u001b[0;34m=\u001b[0m \u001b[0mnp\u001b[0m\u001b[0;34m.\u001b[0m\u001b[0mempty_like\u001b[0m\u001b[0;34m(\u001b[0m\u001b[0mdataset\u001b[0m\u001b[0;34m)\u001b[0m\u001b[0;34m\u001b[0m\u001b[0;34m\u001b[0m\u001b[0m\n\u001b[1;32m     10\u001b[0m \u001b[0mtestPredictPlot\u001b[0m\u001b[0;34m[\u001b[0m\u001b[0;34m:\u001b[0m\u001b[0;34m,\u001b[0m \u001b[0;34m:\u001b[0m\u001b[0;34m]\u001b[0m \u001b[0;34m=\u001b[0m \u001b[0mnp\u001b[0m\u001b[0;34m.\u001b[0m\u001b[0mnan\u001b[0m\u001b[0;34m\u001b[0m\u001b[0;34m\u001b[0m\u001b[0m\n\u001b[0;32m---> 11\u001b[0;31m \u001b[0mtestPredictPlot\u001b[0m\u001b[0;34m[\u001b[0m\u001b[0mlen\u001b[0m\u001b[0;34m(\u001b[0m\u001b[0mtest_X\u001b[0m\u001b[0;34m)\u001b[0m\u001b[0;34m+\u001b[0m\u001b[0;34m(\u001b[0m\u001b[0mwindows\u001b[0m\u001b[0;34m*\u001b[0m\u001b[0;36m2\u001b[0m\u001b[0;34m)\u001b[0m\u001b[0;34m+\u001b[0m\u001b[0;36m1\u001b[0m\u001b[0;34m:\u001b[0m\u001b[0mlen\u001b[0m\u001b[0;34m(\u001b[0m\u001b[0mdataset\u001b[0m\u001b[0;34m)\u001b[0m\u001b[0;34m-\u001b[0m\u001b[0;36m1\u001b[0m\u001b[0;34m,\u001b[0m \u001b[0;34m:\u001b[0m\u001b[0;34m]\u001b[0m \u001b[0;34m=\u001b[0m \u001b[0mtest_X\u001b[0m\u001b[0;34m\u001b[0m\u001b[0;34m\u001b[0m\u001b[0m\n\u001b[0m\u001b[1;32m     12\u001b[0m \u001b[0;34m\u001b[0m\u001b[0m\n\u001b[1;32m     13\u001b[0m \u001b[0;31m# plot baseline and predictions\u001b[0m\u001b[0;34m\u001b[0m\u001b[0;34m\u001b[0m\u001b[0;34m\u001b[0m\u001b[0m\n",
            "\u001b[0;31mValueError\u001b[0m: could not broadcast input array from shape (512,6) into shape (1996,2)"
          ]
        },
        {
          "output_type": "stream",
          "text": [
            "time: 29.6 ms (started: 2021-05-15 07:15:14 +00:00)\n"
          ],
          "name": "stdout"
        }
      ]
    }
  ]
}