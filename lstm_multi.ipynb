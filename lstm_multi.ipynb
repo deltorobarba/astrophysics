{
  "nbformat": 4,
  "nbformat_minor": 0,
  "metadata": {
    "colab": {
      "name": "lstm_multi.ipynb",
      "provenance": [],
      "collapsed_sections": [
        "3FWqa48wm7RE",
        "clz5dotBohqM",
        "Np5PDFB27fjf",
        "1iS9fgg6okfr",
        "wLLOE7avooVd",
        "AMcvVI2voyED",
        "tGXlL5dRpCNs",
        "lPhp3-pUzDQL",
        "BVyFo2CU4joq",
        "ubQEAzIJ2rec",
        "SP-YXG7CpUCM",
        "cu0sv43q2uwX",
        "wY8NPH8u2w4-",
        "-0t941Iz2zpR",
        "2d7RYRD33UuK",
        "yGsirhr33ob7",
        "_Vczg3CwmBX2",
        "U_9pfdSbmBX3",
        "07tK2PnAmBX4",
        "H9SZTE-SmBX7"
      ],
      "include_colab_link": true
    },
    "kernelspec": {
      "name": "python3",
      "display_name": "Python 3"
    },
    "language_info": {
      "name": "python"
    }
  },
  "cells": [
    {
      "cell_type": "markdown",
      "metadata": {
        "id": "view-in-github",
        "colab_type": "text"
      },
      "source": [
        "<a href=\"https://colab.research.google.com/github/deltorobarba/machinelearning/blob/master/lstm_multi.ipynb\" target=\"_parent\"><img src=\"https://colab.research.google.com/assets/colab-badge.svg\" alt=\"Open In Colab\"/></a>"
      ]
    },
    {
      "cell_type": "markdown",
      "metadata": {
        "id": "3FWqa48wm7RE"
      },
      "source": [
        "# **LSTM Multivariate Forecasting (Normalized)**"
      ]
    },
    {
      "cell_type": "markdown",
      "metadata": {
        "id": "J4AbwKM9G3Ji"
      },
      "source": [
        "https://machinelearningmastery.com/multivariate-time-series-forecasting-lstms-keras/"
      ]
    },
    {
      "cell_type": "markdown",
      "metadata": {
        "id": "0Og2pP-9G4CL"
      },
      "source": [
        "https://machinelearningmastery.com/how-to-develop-lstm-models-for-multi-step-time-series-forecasting-of-household-power-consumption/"
      ]
    },
    {
      "cell_type": "markdown",
      "metadata": {
        "id": "clz5dotBohqM"
      },
      "source": [
        "## **Import Libraries**"
      ]
    },
    {
      "cell_type": "code",
      "metadata": {
        "colab": {
          "base_uri": "https://localhost:8080/"
        },
        "id": "7IKxXEJJm3Hd",
        "outputId": "89510f00-c5d8-4e63-a5ca-34298ba48e46"
      },
      "source": [
        "import numpy as np\n",
        "import pandas as pd\n",
        "from math import sqrt\n",
        "import seaborn as sns\n",
        "from pandas import read_csv\n",
        "from matplotlib import pyplot\n",
        "import matplotlib.pyplot as plt\n",
        "from sklearn.preprocessing import MinMaxScaler\n",
        "import math\n",
        "from sklearn.metrics import mean_squared_error\n",
        "import tensorflow as tf\n",
        "from pandas import read_csv\n",
        "from pandas import DataFrame\n",
        "from pandas import concat\n",
        "from sklearn.preprocessing import LabelEncoder\n",
        "from sklearn.preprocessing import MinMaxScaler\n",
        "from numpy import concatenate\n",
        "\n",
        "\n",
        "from tensorflow import keras\n",
        "from tensorflow.keras import layers\n",
        "from keras.models import Sequential\n",
        "from keras.layers import LSTM, Dense\n",
        "\n",
        "print('Tensorflow version %s' % tf.__version__)\n",
        "\n",
        "!pip install --quiet ipython-autotime pandas_gbq\n",
        "%load_ext autotime"
      ],
      "execution_count": 1,
      "outputs": [
        {
          "output_type": "stream",
          "text": [
            "Tensorflow version 2.4.1\n",
            "time: 2.44 ms (started: 2021-05-15 15:25:05 +00:00)\n"
          ],
          "name": "stdout"
        }
      ]
    },
    {
      "cell_type": "markdown",
      "metadata": {
        "id": "Np5PDFB27fjf"
      },
      "source": [
        "## **Preprocess Data**"
      ]
    },
    {
      "cell_type": "markdown",
      "metadata": {
        "id": "1iS9fgg6okfr"
      },
      "source": [
        "#### **Import & Preprocess Data**"
      ]
    },
    {
      "cell_type": "code",
      "metadata": {
        "colab": {
          "base_uri": "https://localhost:8080/"
        },
        "id": "HNndQzIHnnnh",
        "outputId": "5b294d71-2ee3-494c-c5d7-8adcd45e47e1"
      },
      "source": [
        "from pandas import read_csv\n",
        "from datetime import datetime\n",
        "# load data\n",
        "def parse(x):\n",
        "\treturn datetime.strptime(x, '%Y %m %d %H')\n",
        "dataset = pd.read_csv('https://raw.githubusercontent.com/deltorobarba/repo/master/pollution.csv',  parse_dates = [['year', 'month', 'day', 'hour']], index_col=0, date_parser=parse)\n",
        "dataset.drop('No', axis=1, inplace=True)\n",
        "# manually specify column names\n",
        "dataset.columns = ['pollution', 'dew', 'temp', 'press', 'wnd_dir', 'wnd_spd', 'snow', 'rain']\n",
        "dataset.index.name = 'date'\n",
        "# mark all NA values with 0\n",
        "dataset['pollution'].fillna(0, inplace=True)\n",
        "# drop the first 24 hours\n",
        "dataset = dataset[24:]\n",
        "# summarize first 5 rows\n",
        "print(dataset.head(5))"
      ],
      "execution_count": 2,
      "outputs": [
        {
          "output_type": "stream",
          "text": [
            "                     pollution  dew  temp   press wnd_dir  wnd_spd  snow  rain\n",
            "date                                                                          \n",
            "2010-01-02 00:00:00      129.0  -16  -4.0  1020.0      SE     1.79     0     0\n",
            "2010-01-02 01:00:00      148.0  -15  -4.0  1020.0      SE     2.68     0     0\n",
            "2010-01-02 02:00:00      159.0  -11  -5.0  1021.0      SE     3.57     0     0\n",
            "2010-01-02 03:00:00      181.0   -7  -5.0  1022.0      SE     5.36     1     0\n",
            "2010-01-02 04:00:00      138.0   -7  -5.0  1022.0      SE     6.25     2     0\n",
            "time: 776 ms (started: 2021-05-15 15:25:05 +00:00)\n"
          ],
          "name": "stdout"
        }
      ]
    },
    {
      "cell_type": "code",
      "metadata": {
        "colab": {
          "base_uri": "https://localhost:8080/",
          "height": 358
        },
        "id": "5lfcRC7cqTxj",
        "outputId": "b45befe8-ad05-41b9-e190-adef913b10b8"
      },
      "source": [
        "url = 'https://raw.githubusercontent.com/deltorobarba/repo/master/timeseries.csv'\n",
        "data = pd.read_csv(url)\n",
        "series = data[['date', 'price1', 'price2']].rename(columns={\"price1\": \"google\", \"price2\": \"apple\"}).set_index('date')\n",
        "series.index = pd.to_datetime(series.index, utc=False)\n",
        "dataset = series.copy()\n",
        "dataset.head()"
      ],
      "execution_count": 3,
      "outputs": [
        {
          "output_type": "execute_result",
          "data": {
            "text/html": [
              "<div>\n",
              "<style scoped>\n",
              "    .dataframe tbody tr th:only-of-type {\n",
              "        vertical-align: middle;\n",
              "    }\n",
              "\n",
              "    .dataframe tbody tr th {\n",
              "        vertical-align: top;\n",
              "    }\n",
              "\n",
              "    .dataframe thead th {\n",
              "        text-align: right;\n",
              "    }\n",
              "</style>\n",
              "<table border=\"1\" class=\"dataframe\">\n",
              "  <thead>\n",
              "    <tr style=\"text-align: right;\">\n",
              "      <th></th>\n",
              "      <th>google</th>\n",
              "      <th>apple</th>\n",
              "    </tr>\n",
              "    <tr>\n",
              "      <th>date</th>\n",
              "      <th></th>\n",
              "      <th></th>\n",
              "    </tr>\n",
              "  </thead>\n",
              "  <tbody>\n",
              "    <tr>\n",
              "      <th>2010-02-01</th>\n",
              "      <td>265.51</td>\n",
              "      <td>280.42</td>\n",
              "    </tr>\n",
              "    <tr>\n",
              "      <th>2010-02-02</th>\n",
              "      <td>264.57</td>\n",
              "      <td>285.87</td>\n",
              "    </tr>\n",
              "    <tr>\n",
              "      <th>2010-02-03</th>\n",
              "      <td>269.40</td>\n",
              "      <td>279.49</td>\n",
              "    </tr>\n",
              "    <tr>\n",
              "      <th>2010-02-04</th>\n",
              "      <td>262.41</td>\n",
              "      <td>282.35</td>\n",
              "    </tr>\n",
              "    <tr>\n",
              "      <th>2010-02-05</th>\n",
              "      <td>264.65</td>\n",
              "      <td>284.06</td>\n",
              "    </tr>\n",
              "  </tbody>\n",
              "</table>\n",
              "</div>"
            ],
            "text/plain": [
              "            google   apple\n",
              "date                      \n",
              "2010-02-01  265.51  280.42\n",
              "2010-02-02  264.57  285.87\n",
              "2010-02-03  269.40  279.49\n",
              "2010-02-04  262.41  282.35\n",
              "2010-02-05  264.65  284.06"
            ]
          },
          "metadata": {
            "tags": []
          },
          "execution_count": 3
        },
        {
          "output_type": "stream",
          "text": [
            "time: 210 ms (started: 2021-05-15 15:25:05 +00:00)\n"
          ],
          "name": "stdout"
        }
      ]
    },
    {
      "cell_type": "markdown",
      "metadata": {
        "id": "wLLOE7avooVd"
      },
      "source": [
        "#### **Visualize Dataset**"
      ]
    },
    {
      "cell_type": "code",
      "metadata": {
        "colab": {
          "base_uri": "https://localhost:8080/",
          "height": 72
        },
        "id": "FwYHvVZYoQX2",
        "outputId": "e1f25122-dce0-4a15-89e5-1b847be22a0b"
      },
      "source": [
        "sns.set(rc={'figure.figsize':(10, 8), \"lines.linewidth\": 1.0})\n",
        "\n",
        "# load dataset\n",
        "values = dataset.values\n",
        "# specify columns to plot\n",
        "groups = [0, 1]\n",
        "i = 1\n",
        "# plot each column\n",
        "pyplot.figure()\n",
        "for group in groups:\n",
        "\tpyplot.subplot(len(groups), 1, i)\n",
        "\tpyplot.plot(values[:, group])\n",
        "\tpyplot.title(dataset.columns[group], y=0.5, loc='right')\n",
        "\ti += 1\n",
        "pyplot.show()"
      ],
      "execution_count": 4,
      "outputs": [
        {
          "output_type": "display_data",
          "data": {
            "image/png": "[encoded data removed]",
            "text/plain": [
              "<Figure size 720x576 with 2 Axes>"
            ]
          },
          "metadata": {
            "tags": []
          }
        },
        {
          "output_type": "stream",
          "text": [
            "time: 314 ms (started: 2021-05-15 15:25:06 +00:00)\n"
          ],
          "name": "stdout"
        }
      ]
    },
    {
      "cell_type": "markdown",
      "metadata": {
        "id": "AMcvVI2voyED"
      },
      "source": [
        "#### **LSTM Preprocess Dataset**"
      ]
    },
    {
      "cell_type": "code",
      "metadata": {
        "colab": {
          "base_uri": "https://localhost:8080/"
        },
        "id": "sL9ouXuFu5YB",
        "outputId": "c1f1eb1a-fa52-470d-b0a1-1a0db26557f2"
      },
      "source": [
        "windows = 3\n",
        "features = 2"
      ],
      "execution_count": 5,
      "outputs": [
        {
          "output_type": "stream",
          "text": [
            "time: 1.18 ms (started: 2021-05-15 15:25:06 +00:00)\n"
          ],
          "name": "stdout"
        }
      ]
    },
    {
      "cell_type": "code",
      "metadata": {
        "colab": {
          "base_uri": "https://localhost:8080/"
        },
        "id": "AYZJnFpwo1we",
        "outputId": "d4272b49-730f-4327-ff28-d84a6cb6ee21"
      },
      "source": [
        "# convert series to supervised learning\n",
        "def series_to_supervised(data, n_in=1, n_out=1, dropnan=True):\n",
        "\tn_vars = 1 if type(data) is list else data.shape[1]\n",
        "\tdf = DataFrame(data)\n",
        "\tcols, names = list(), list()\n",
        "\t# input sequence (t-n, ... t-1)\n",
        "\tfor i in range(n_in, 0, -1):\n",
        "\t\tcols.append(df.shift(i))\n",
        "\t\tnames += [('var%d(t-%d)' % (j+1, i)) for j in range(n_vars)]\n",
        "\t# forecast sequence (t, t+1, ... t+n)\n",
        "\tfor i in range(0, n_out):\n",
        "\t\tcols.append(df.shift(-i))\n",
        "\t\tif i == 0:\n",
        "\t\t\tnames += [('var%d(t)' % (j+1)) for j in range(n_vars)]\n",
        "\t\telse:\n",
        "\t\t\tnames += [('var%d(t+%d)' % (j+1, i)) for j in range(n_vars)]\n",
        "\t# put it all together\n",
        "\tagg = concat(cols, axis=1)\n",
        "\tagg.columns = names\n",
        "\t# drop rows with NaN values\n",
        "\tif dropnan:\n",
        "\t\tagg.dropna(inplace=True)\n",
        "\treturn agg"
      ],
      "execution_count": 6,
      "outputs": [
        {
          "output_type": "stream",
          "text": [
            "time: 21.5 ms (started: 2021-05-15 15:25:06 +00:00)\n"
          ],
          "name": "stdout"
        }
      ]
    },
    {
      "cell_type": "code",
      "metadata": {
        "colab": {
          "base_uri": "https://localhost:8080/"
        },
        "id": "Q_RcTBBAr5Z_",
        "outputId": "84c13ecd-1618-4c6f-c9a1-aaadf73a3aa1"
      },
      "source": [
        "#dataset = read_csv('pollution.csv', header=0, index_col=0)\n",
        "values = dataset.values"
      ],
      "execution_count": 7,
      "outputs": [
        {
          "output_type": "stream",
          "text": [
            "time: 1.33 ms (started: 2021-05-15 15:25:06 +00:00)\n"
          ],
          "name": "stdout"
        }
      ]
    },
    {
      "cell_type": "code",
      "metadata": {
        "colab": {
          "base_uri": "https://localhost:8080/"
        },
        "id": "yBNgh3AGr7K9",
        "outputId": "ce0f0c46-1ccb-44bb-c3f3-a77f77907e6d"
      },
      "source": [
        "# ensure all data is float\n",
        "values = values.astype('float32')"
      ],
      "execution_count": 8,
      "outputs": [
        {
          "output_type": "stream",
          "text": [
            "time: 1.42 ms (started: 2021-05-15 15:25:06 +00:00)\n"
          ],
          "name": "stdout"
        }
      ]
    },
    {
      "cell_type": "code",
      "metadata": {
        "colab": {
          "base_uri": "https://localhost:8080/"
        },
        "id": "3tmdg5kir9Pw",
        "outputId": "df7bf6a4-c4ca-4689-c607-02dd6632846d"
      },
      "source": [
        "# normalize features\n",
        "scaler = MinMaxScaler(feature_range=(0, 1))\n",
        "scaled = scaler.fit_transform(values)"
      ],
      "execution_count": 9,
      "outputs": [
        {
          "output_type": "stream",
          "text": [
            "time: 2.89 ms (started: 2021-05-15 15:25:06 +00:00)\n"
          ],
          "name": "stdout"
        }
      ]
    },
    {
      "cell_type": "code",
      "metadata": {
        "colab": {
          "base_uri": "https://localhost:8080/"
        },
        "id": "2c0r9o9-r-9q",
        "outputId": "42230d39-0884-4ea9-f335-60e086535fe9"
      },
      "source": [
        "# frame as supervised learning\n",
        "reframed = series_to_supervised(scaled, windows, 1)"
      ],
      "execution_count": 10,
      "outputs": [
        {
          "output_type": "stream",
          "text": [
            "time: 15.5 ms (started: 2021-05-15 15:25:06 +00:00)\n"
          ],
          "name": "stdout"
        }
      ]
    },
    {
      "cell_type": "code",
      "metadata": {
        "colab": {
          "base_uri": "https://localhost:8080/",
          "height": 259
        },
        "id": "KPEcgIjj-J1d",
        "outputId": "2c254397-9db5-4506-b838-92fb8058a9dc"
      },
      "source": [
        "# Display data\n",
        "reframed [:5]"
      ],
      "execution_count": 11,
      "outputs": [
        {
          "output_type": "execute_result",
          "data": {
            "text/html": [
              "<div>\n",
              "<style scoped>\n",
              "    .dataframe tbody tr th:only-of-type {\n",
              "        vertical-align: middle;\n",
              "    }\n",
              "\n",
              "    .dataframe tbody tr th {\n",
              "        vertical-align: top;\n",
              "    }\n",
              "\n",
              "    .dataframe thead th {\n",
              "        text-align: right;\n",
              "    }\n",
              "</style>\n",
              "<table border=\"1\" class=\"dataframe\">\n",
              "  <thead>\n",
              "    <tr style=\"text-align: right;\">\n",
              "      <th></th>\n",
              "      <th>var1(t-3)</th>\n",
              "      <th>var2(t-3)</th>\n",
              "      <th>var1(t-2)</th>\n",
              "      <th>var2(t-2)</th>\n",
              "      <th>var1(t-1)</th>\n",
              "      <th>var2(t-1)</th>\n",
              "      <th>var1(t)</th>\n",
              "      <th>var2(t)</th>\n",
              "    </tr>\n",
              "  </thead>\n",
              "  <tbody>\n",
              "    <tr>\n",
              "      <th>3</th>\n",
              "      <td>0.038041</td>\n",
              "      <td>0.057941</td>\n",
              "      <td>0.037300</td>\n",
              "      <td>0.062260</td>\n",
              "      <td>0.041105</td>\n",
              "      <td>0.057204</td>\n",
              "      <td>0.035599</td>\n",
              "      <td>0.059470</td>\n",
              "    </tr>\n",
              "    <tr>\n",
              "      <th>4</th>\n",
              "      <td>0.037300</td>\n",
              "      <td>0.062260</td>\n",
              "      <td>0.041105</td>\n",
              "      <td>0.057204</td>\n",
              "      <td>0.035599</td>\n",
              "      <td>0.059470</td>\n",
              "      <td>0.037363</td>\n",
              "      <td>0.060825</td>\n",
              "    </tr>\n",
              "    <tr>\n",
              "      <th>5</th>\n",
              "      <td>0.041105</td>\n",
              "      <td>0.057204</td>\n",
              "      <td>0.035599</td>\n",
              "      <td>0.059470</td>\n",
              "      <td>0.037363</td>\n",
              "      <td>0.060825</td>\n",
              "      <td>0.038222</td>\n",
              "      <td>0.062482</td>\n",
              "    </tr>\n",
              "    <tr>\n",
              "      <th>6</th>\n",
              "      <td>0.035599</td>\n",
              "      <td>0.059470</td>\n",
              "      <td>0.037363</td>\n",
              "      <td>0.060825</td>\n",
              "      <td>0.038222</td>\n",
              "      <td>0.062482</td>\n",
              "      <td>0.039388</td>\n",
              "      <td>0.062181</td>\n",
              "    </tr>\n",
              "    <tr>\n",
              "      <th>7</th>\n",
              "      <td>0.037363</td>\n",
              "      <td>0.060825</td>\n",
              "      <td>0.038222</td>\n",
              "      <td>0.062482</td>\n",
              "      <td>0.039388</td>\n",
              "      <td>0.062181</td>\n",
              "      <td>0.038608</td>\n",
              "      <td>0.063441</td>\n",
              "    </tr>\n",
              "  </tbody>\n",
              "</table>\n",
              "</div>"
            ],
            "text/plain": [
              "   var1(t-3)  var2(t-3)  var1(t-2)  ...  var2(t-1)   var1(t)   var2(t)\n",
              "3   0.038041   0.057941   0.037300  ...   0.057204  0.035599  0.059470\n",
              "4   0.037300   0.062260   0.041105  ...   0.059470  0.037363  0.060825\n",
              "5   0.041105   0.057204   0.035599  ...   0.060825  0.038222  0.062482\n",
              "6   0.035599   0.059470   0.037363  ...   0.062482  0.039388  0.062181\n",
              "7   0.037363   0.060825   0.038222  ...   0.062181  0.038608  0.063441\n",
              "\n",
              "[5 rows x 8 columns]"
            ]
          },
          "metadata": {
            "tags": []
          },
          "execution_count": 11
        },
        {
          "output_type": "stream",
          "text": [
            "time: 30.3 ms (started: 2021-05-15 15:25:06 +00:00)\n"
          ],
          "name": "stdout"
        }
      ]
    },
    {
      "cell_type": "code",
      "metadata": {
        "colab": {
          "base_uri": "https://localhost:8080/"
        },
        "id": "peUy104owszp",
        "outputId": "5d66e09d-8dcb-4a50-bdc2-dbed0f7c33c7"
      },
      "source": [
        "# Show last column (to be removed)\n",
        "num_rows, num_cols = reframed.shape\n",
        "n = print (num_cols)\n",
        "n"
      ],
      "execution_count": 12,
      "outputs": [
        {
          "output_type": "stream",
          "text": [
            "8\n",
            "time: 3.67 ms (started: 2021-05-15 15:25:06 +00:00)\n"
          ],
          "name": "stdout"
        }
      ]
    },
    {
      "cell_type": "code",
      "metadata": {
        "colab": {
          "base_uri": "https://localhost:8080/"
        },
        "id": "WjwBk1SksAjw",
        "outputId": "6580b0fb-0c1a-4a25-9d23-73257eb78549"
      },
      "source": [
        "# drop columns we don't want to predict\n",
        "n = 7 # number of last column (from above) minus 1 (the index column)\n",
        "reframed.drop(reframed.columns[[n]], axis=1, inplace=True)\n",
        "print(reframed.head())"
      ],
      "execution_count": 13,
      "outputs": [
        {
          "output_type": "stream",
          "text": [
            "   var1(t-3)  var2(t-3)  var1(t-2)  var2(t-2)  var1(t-1)  var2(t-1)   var1(t)\n",
            "3   0.038041   0.057941   0.037300   0.062260   0.041105   0.057204  0.035599\n",
            "4   0.037300   0.062260   0.041105   0.057204   0.035599   0.059470  0.037363\n",
            "5   0.041105   0.057204   0.035599   0.059470   0.037363   0.060825  0.038222\n",
            "6   0.035599   0.059470   0.037363   0.060825   0.038222   0.062482  0.039388\n",
            "7   0.037363   0.060825   0.038222   0.062482   0.039388   0.062181  0.038608\n",
            "time: 25.5 ms (started: 2021-05-15 15:25:06 +00:00)\n"
          ],
          "name": "stdout"
        }
      ]
    },
    {
      "cell_type": "markdown",
      "metadata": {
        "id": "tGXlL5dRpCNs"
      },
      "source": [
        "#### **Shape for LSTM**"
      ]
    },
    {
      "cell_type": "code",
      "metadata": {
        "colab": {
          "base_uri": "https://localhost:8080/"
        },
        "id": "humf4h6zyKTw",
        "outputId": "93513441-6763-458d-e37c-ac7faa6f9683"
      },
      "source": [
        "# how many rows (time stamps)?\n",
        "reframed.shape[0]"
      ],
      "execution_count": 14,
      "outputs": [
        {
          "output_type": "execute_result",
          "data": {
            "text/plain": [
              "2512"
            ]
          },
          "metadata": {
            "tags": []
          },
          "execution_count": 14
        },
        {
          "output_type": "stream",
          "text": [
            "time: 3.79 ms (started: 2021-05-15 15:25:06 +00:00)\n"
          ],
          "name": "stdout"
        }
      ]
    },
    {
      "cell_type": "code",
      "metadata": {
        "colab": {
          "base_uri": "https://localhost:8080/"
        },
        "id": "8mmYnhfgEnku",
        "outputId": "d7b346a4-d387-49fe-8100-23452b5fc0a8"
      },
      "source": [
        "values = reframed.values\n",
        "train_time = 2000\n",
        "train = values[:train_time, :]\n",
        "test = values[train_time:, :]"
      ],
      "execution_count": 15,
      "outputs": [
        {
          "output_type": "stream",
          "text": [
            "time: 4.83 ms (started: 2021-05-15 15:25:06 +00:00)\n"
          ],
          "name": "stdout"
        }
      ]
    },
    {
      "cell_type": "code",
      "metadata": {
        "colab": {
          "base_uri": "https://localhost:8080/"
        },
        "id": "SWZMJsYCyAPp",
        "outputId": "ba63a6ea-ae94-47aa-8889-0ea178944734"
      },
      "source": [
        "# split into input and outputs\n",
        "n_obs = windows * features\n",
        "train_X, train_y = train[:, :n_obs], train[:, -features]\n",
        "test_X, test_y = test[:, :n_obs], test[:, -features]\n",
        "print(train_X.shape, len(train_X), train_y.shape)"
      ],
      "execution_count": 16,
      "outputs": [
        {
          "output_type": "stream",
          "text": [
            "(2000, 6) 2000 (2000,)\n",
            "time: 7.82 ms (started: 2021-05-15 15:25:06 +00:00)\n"
          ],
          "name": "stdout"
        }
      ]
    },
    {
      "cell_type": "code",
      "metadata": {
        "colab": {
          "base_uri": "https://localhost:8080/"
        },
        "id": "MXh_ebEMx-qx",
        "outputId": "e0ddbe5f-ccf6-400d-bf25-1f6052dd238d"
      },
      "source": [
        "# reshape input to be 3D [samples, timesteps, features]\n",
        "train_X = train_X.reshape((train_X.shape[0], windows, features))\n",
        "test_X = test_X.reshape((test_X.shape[0], windows, features))"
      ],
      "execution_count": 17,
      "outputs": [
        {
          "output_type": "stream",
          "text": [
            "time: 3.03 ms (started: 2021-05-15 15:25:06 +00:00)\n"
          ],
          "name": "stdout"
        }
      ]
    },
    {
      "cell_type": "code",
      "metadata": {
        "colab": {
          "base_uri": "https://localhost:8080/"
        },
        "id": "zO75KO7bFRMW",
        "outputId": "fee3e8a0-5913-4c77-999e-24d48262ddc4"
      },
      "source": [
        "print(test_X.shape, len(test_X), test_y.shape)"
      ],
      "execution_count": 18,
      "outputs": [
        {
          "output_type": "stream",
          "text": [
            "(512, 3, 2) 512 (512,)\n",
            "time: 6.05 ms (started: 2021-05-15 15:25:06 +00:00)\n"
          ],
          "name": "stdout"
        }
      ]
    },
    {
      "cell_type": "code",
      "metadata": {
        "colab": {
          "base_uri": "https://localhost:8080/"
        },
        "id": "rhnLYVOd9_g7",
        "outputId": "f9870981-bd10-4f5b-cdda-8a2f2157ca92"
      },
      "source": [
        "test_X"
      ],
      "execution_count": 19,
      "outputs": [
        {
          "output_type": "execute_result",
          "data": {
            "text/plain": [
              "array([[[0.6974705 , 0.72154284],\n",
              "        [0.6997629 , 0.73530084],\n",
              "        [0.7129499 , 0.73539597]],\n",
              "\n",
              "       [[0.6997629 , 0.73530084],\n",
              "        [0.7129499 , 0.73539597],\n",
              "        [0.712556  , 0.7439867 ]],\n",
              "\n",
              "       [[0.7129499 , 0.73539597],\n",
              "        [0.712556  , 0.7439867 ],\n",
              "        [0.72060686, 0.74274254]],\n",
              "\n",
              "       ...,\n",
              "\n",
              "       [[0.99822754, 0.99993664],\n",
              "        [0.9994485 , 0.99999994],\n",
              "        [1.        , 0.98370594]],\n",
              "\n",
              "       [[0.9994485 , 0.99999994],\n",
              "        [1.        , 0.98370594],\n",
              "        [0.9842921 , 0.95722014]],\n",
              "\n",
              "       [[1.        , 0.98370594],\n",
              "        [0.9842921 , 0.95722014],\n",
              "        [0.95844597, 0.97151715]]], dtype=float32)"
            ]
          },
          "metadata": {
            "tags": []
          },
          "execution_count": 19
        },
        {
          "output_type": "stream",
          "text": [
            "time: 5.86 ms (started: 2021-05-15 15:25:06 +00:00)\n"
          ],
          "name": "stdout"
        }
      ]
    },
    {
      "cell_type": "markdown",
      "metadata": {
        "id": "lPhp3-pUzDQL"
      },
      "source": [
        "## **Model Fitting & Forecasting**"
      ]
    },
    {
      "cell_type": "markdown",
      "metadata": {
        "id": "BVyFo2CU4joq"
      },
      "source": [
        "#### **Create & Train Model**"
      ]
    },
    {
      "cell_type": "code",
      "metadata": {
        "colab": {
          "base_uri": "https://localhost:8080/"
        },
        "id": "BtC5Z3D8uKtP",
        "outputId": "130eff0a-e7b1-425a-84e2-9ef92e8a5236"
      },
      "source": [
        "# design network\n",
        "model = Sequential()\n",
        "model.add(LSTM(50, input_shape=(train_X.shape[1], train_X.shape[2])))\n",
        "model.add(Dense(10))\n",
        "model.add(Dense(1))\n",
        "model.compile(loss='mae', optimizer='adam')"
      ],
      "execution_count": 20,
      "outputs": [
        {
          "output_type": "stream",
          "text": [
            "time: 361 ms (started: 2021-05-15 15:25:06 +00:00)\n"
          ],
          "name": "stdout"
        }
      ]
    },
    {
      "cell_type": "code",
      "metadata": {
        "colab": {
          "base_uri": "https://localhost:8080/"
        },
        "id": "h70lwqUVuN3i",
        "outputId": "a3cfd0de-de9b-453f-b3c9-d1a1bd161258"
      },
      "source": [
        "model.summary()"
      ],
      "execution_count": 21,
      "outputs": [
        {
          "output_type": "stream",
          "text": [
            "Model: \"sequential\"\n",
            "_________________________________________________________________\n",
            "Layer (type)                 Output Shape              Param #   \n",
            "=================================================================\n",
            "lstm (LSTM)                  (None, 50)                10600     \n",
            "_________________________________________________________________\n",
            "dense (Dense)                (None, 10)                510       \n",
            "_________________________________________________________________\n",
            "dense_1 (Dense)              (None, 1)                 11        \n",
            "=================================================================\n",
            "Total params: 11,121\n",
            "Trainable params: 11,121\n",
            "Non-trainable params: 0\n",
            "_________________________________________________________________\n",
            "time: 3.34 ms (started: 2021-05-15 15:25:07 +00:00)\n"
          ],
          "name": "stdout"
        }
      ]
    },
    {
      "cell_type": "code",
      "metadata": {
        "colab": {
          "base_uri": "https://localhost:8080/"
        },
        "id": "jEgZ8-NEpK_T",
        "outputId": "35c2e074-e01b-47c7-b9e9-753d98180dff"
      },
      "source": [
        "# Fit model\n",
        "history = model.fit(train_X, train_y, \n",
        "                    epochs=20, \n",
        "                    batch_size=72, \n",
        "                    validation_data=(test_X, test_y), \n",
        "                    verbose=1, \n",
        "                    shuffle=False)"
      ],
      "execution_count": 22,
      "outputs": [
        {
          "output_type": "stream",
          "text": [
            "Epoch 1/20\n",
            "28/28 [==============================] - 3s 32ms/step - loss: 0.0774 - val_loss: 0.0236\n",
            "Epoch 2/20\n",
            "28/28 [==============================] - 0s 5ms/step - loss: 0.1364 - val_loss: 0.0655\n",
            "Epoch 3/20\n",
            "28/28 [==============================] - 0s 5ms/step - loss: 0.0445 - val_loss: 0.0327\n",
            "Epoch 4/20\n",
            "28/28 [==============================] - 0s 5ms/step - loss: 0.0384 - val_loss: 0.0516\n",
            "Epoch 5/20\n",
            "28/28 [==============================] - 0s 5ms/step - loss: 0.0226 - val_loss: 0.0255\n",
            "Epoch 6/20\n",
            "28/28 [==============================] - 0s 5ms/step - loss: 0.0227 - val_loss: 0.0155\n",
            "Epoch 7/20\n",
            "28/28 [==============================] - 0s 5ms/step - loss: 0.0185 - val_loss: 0.0322\n",
            "Epoch 8/20\n",
            "28/28 [==============================] - 0s 5ms/step - loss: 0.0234 - val_loss: 0.0127\n",
            "Epoch 9/20\n",
            "28/28 [==============================] - 0s 5ms/step - loss: 0.0158 - val_loss: 0.0409\n",
            "Epoch 10/20\n",
            "28/28 [==============================] - 0s 5ms/step - loss: 0.0195 - val_loss: 0.0269\n",
            "Epoch 11/20\n",
            "28/28 [==============================] - 0s 5ms/step - loss: 0.0147 - val_loss: 0.0359\n",
            "Epoch 12/20\n",
            "28/28 [==============================] - 0s 5ms/step - loss: 0.0148 - val_loss: 0.0473\n",
            "Epoch 13/20\n",
            "28/28 [==============================] - 0s 5ms/step - loss: 0.0152 - val_loss: 0.0471\n",
            "Epoch 14/20\n",
            "28/28 [==============================] - 0s 5ms/step - loss: 0.0138 - val_loss: 0.0414\n",
            "Epoch 15/20\n",
            "28/28 [==============================] - 0s 5ms/step - loss: 0.0128 - val_loss: 0.0465\n",
            "Epoch 16/20\n",
            "28/28 [==============================] - 0s 6ms/step - loss: 0.0149 - val_loss: 0.0502\n",
            "Epoch 17/20\n",
            "28/28 [==============================] - 0s 5ms/step - loss: 0.0137 - val_loss: 0.0466\n",
            "Epoch 18/20\n",
            "28/28 [==============================] - 0s 5ms/step - loss: 0.0090 - val_loss: 0.0368\n",
            "Epoch 19/20\n",
            "28/28 [==============================] - 0s 5ms/step - loss: 0.0080 - val_loss: 0.0115\n",
            "Epoch 20/20\n",
            "28/28 [==============================] - 0s 5ms/step - loss: 0.0112 - val_loss: 0.0084\n",
            "time: 5.63 s (started: 2021-05-15 15:25:07 +00:00)\n"
          ],
          "name": "stdout"
        }
      ]
    },
    {
      "cell_type": "code",
      "metadata": {
        "colab": {
          "base_uri": "https://localhost:8080/",
          "height": 72
        },
        "id": "7docl58R0PCm",
        "outputId": "5117be98-599f-497f-f7c2-a3f6c7dc84b7"
      },
      "source": [
        "# plot history\n",
        "pyplot.plot(history.history['loss'], label='train')\n",
        "pyplot.plot(history.history['val_loss'], label='test')\n",
        "pyplot.legend()\n",
        "pyplot.show()"
      ],
      "execution_count": 23,
      "outputs": [
        {
          "output_type": "display_data",
          "data": {
            "image/png": "[encoded data removed]",
            "text/plain": [
              "<Figure size 720x576 with 1 Axes>"
            ]
          },
          "metadata": {
            "tags": []
          }
        },
        {
          "output_type": "stream",
          "text": [
            "time: 309 ms (started: 2021-05-15 15:25:12 +00:00)\n"
          ],
          "name": "stdout"
        }
      ]
    },
    {
      "cell_type": "markdown",
      "metadata": {
        "id": "ubQEAzIJ2rec"
      },
      "source": [
        "#### **Make a prediction**"
      ]
    },
    {
      "cell_type": "code",
      "metadata": {
        "colab": {
          "base_uri": "https://localhost:8080/"
        },
        "id": "hR3nLuWlzXQf",
        "outputId": "773a622d-021f-491b-fe63-86fd0fcd67c9"
      },
      "source": [
        "# make a prediction\n",
        "yhat = model.predict(test_X)\n",
        "test_X = test_X.reshape((test_X.shape[0], windows*features))"
      ],
      "execution_count": 24,
      "outputs": [
        {
          "output_type": "stream",
          "text": [
            "time: 452 ms (started: 2021-05-15 15:25:13 +00:00)\n"
          ],
          "name": "stdout"
        }
      ]
    },
    {
      "cell_type": "code",
      "metadata": {
        "colab": {
          "base_uri": "https://localhost:8080/"
        },
        "id": "iUud1pR30rzm",
        "outputId": "3069ceeb-bd80-4137-fd1e-f0dfa1632017"
      },
      "source": [
        "# Shape: 6 windows (3 timesteps for 2 features)\n",
        "test_X.shape[0], test_X.shape[1]"
      ],
      "execution_count": 25,
      "outputs": [
        {
          "output_type": "execute_result",
          "data": {
            "text/plain": [
              "(512, 6)"
            ]
          },
          "metadata": {
            "tags": []
          },
          "execution_count": 25
        },
        {
          "output_type": "stream",
          "text": [
            "time: 7.34 ms (started: 2021-05-15 15:25:13 +00:00)\n"
          ],
          "name": "stdout"
        }
      ]
    },
    {
      "cell_type": "code",
      "metadata": {
        "colab": {
          "base_uri": "https://localhost:8080/"
        },
        "id": "SG3LedRK4LGI",
        "outputId": "1cc62beb-7eb2-4cf7-e7f4-788809fe05bb"
      },
      "source": [
        "test_X [0:5]"
      ],
      "execution_count": 26,
      "outputs": [
        {
          "output_type": "execute_result",
          "data": {
            "text/plain": [
              "array([[0.6974705 , 0.72154284, 0.6997629 , 0.73530084, 0.7129499 ,\n",
              "        0.73539597],\n",
              "       [0.6997629 , 0.73530084, 0.7129499 , 0.73539597, 0.712556  ,\n",
              "        0.7439867 ],\n",
              "       [0.7129499 , 0.73539597, 0.712556  , 0.7439867 , 0.72060686,\n",
              "        0.74274254],\n",
              "       [0.712556  , 0.7439867 , 0.72060686, 0.74274254, 0.7188817 ,\n",
              "        0.7493521 ],\n",
              "       [0.72060686, 0.74274254, 0.7188817 , 0.7493521 , 0.7249632 ,\n",
              "        0.7643464 ]], dtype=float32)"
            ]
          },
          "metadata": {
            "tags": []
          },
          "execution_count": 26
        },
        {
          "output_type": "stream",
          "text": [
            "time: 10.2 ms (started: 2021-05-15 15:25:13 +00:00)\n"
          ],
          "name": "stdout"
        }
      ]
    },
    {
      "cell_type": "code",
      "metadata": {
        "colab": {
          "base_uri": "https://localhost:8080/"
        },
        "id": "GxvYcPzN3ERu",
        "outputId": "2ccb6450-c064-4361-a4b8-012c3264bd6f"
      },
      "source": [
        "# Shape: one timestep forecasted for one feature\n",
        "yhat.shape[0], yhat.shape[1]"
      ],
      "execution_count": 27,
      "outputs": [
        {
          "output_type": "execute_result",
          "data": {
            "text/plain": [
              "(512, 1)"
            ]
          },
          "metadata": {
            "tags": []
          },
          "execution_count": 27
        },
        {
          "output_type": "stream",
          "text": [
            "time: 8.34 ms (started: 2021-05-15 15:25:13 +00:00)\n"
          ],
          "name": "stdout"
        }
      ]
    },
    {
      "cell_type": "code",
      "metadata": {
        "colab": {
          "base_uri": "https://localhost:8080/"
        },
        "id": "a5gcnz0G4Dwm",
        "outputId": "bc050c4d-6748-4c4c-c7fd-7b15342613b1"
      },
      "source": [
        "yhat [0:5]"
      ],
      "execution_count": 28,
      "outputs": [
        {
          "output_type": "execute_result",
          "data": {
            "text/plain": [
              "array([[0.7276362 ],\n",
              "       [0.7352899 ],\n",
              "       [0.7374863 ],\n",
              "       [0.74226683],\n",
              "       [0.74877954]], dtype=float32)"
            ]
          },
          "metadata": {
            "tags": []
          },
          "execution_count": 28
        },
        {
          "output_type": "stream",
          "text": [
            "time: 5.2 ms (started: 2021-05-15 15:25:13 +00:00)\n"
          ],
          "name": "stdout"
        }
      ]
    },
    {
      "cell_type": "markdown",
      "metadata": {
        "id": "SP-YXG7CpUCM"
      },
      "source": [
        "## **Postprocess Data**"
      ]
    },
    {
      "cell_type": "markdown",
      "metadata": {
        "id": "cu0sv43q2uwX"
      },
      "source": [
        "#### **Invert Scaling for Forecasted Test Data**"
      ]
    },
    {
      "cell_type": "code",
      "metadata": {
        "colab": {
          "base_uri": "https://localhost:8080/"
        },
        "id": "929bPPIu9nNl",
        "outputId": "46a299a2-d34a-4178-eb4c-3daa92691f5d"
      },
      "source": [
        "# remove all other features to align matrix structure\n",
        "inv_yhat = concatenate((yhat, test_X[:, -1:]), axis=1)\n",
        "inv_yhat [0:5]"
      ],
      "execution_count": 29,
      "outputs": [
        {
          "output_type": "execute_result",
          "data": {
            "text/plain": [
              "array([[0.7276362 , 0.73539597],\n",
              "       [0.7352899 , 0.7439867 ],\n",
              "       [0.7374863 , 0.74274254],\n",
              "       [0.74226683, 0.7493521 ],\n",
              "       [0.74877954, 0.7643464 ]], dtype=float32)"
            ]
          },
          "metadata": {
            "tags": []
          },
          "execution_count": 29
        },
        {
          "output_type": "stream",
          "text": [
            "time: 7.28 ms (started: 2021-05-15 15:25:13 +00:00)\n"
          ],
          "name": "stdout"
        }
      ]
    },
    {
      "cell_type": "code",
      "metadata": {
        "colab": {
          "base_uri": "https://localhost:8080/"
        },
        "id": "t-Rh-nPU4wjO",
        "outputId": "75d7ac77-b627-4ff3-bdf6-e4e81a1f5ec4"
      },
      "source": [
        "inv_yhat.shape[0], inv_yhat.shape[1]"
      ],
      "execution_count": 30,
      "outputs": [
        {
          "output_type": "execute_result",
          "data": {
            "text/plain": [
              "(512, 2)"
            ]
          },
          "metadata": {
            "tags": []
          },
          "execution_count": 30
        },
        {
          "output_type": "stream",
          "text": [
            "time: 5.78 ms (started: 2021-05-15 15:25:13 +00:00)\n"
          ],
          "name": "stdout"
        }
      ]
    },
    {
      "cell_type": "code",
      "metadata": {
        "colab": {
          "base_uri": "https://localhost:8080/"
        },
        "id": "uDs6im4U4mTg",
        "outputId": "0ad483a5-0c3a-4bc9-c161-5767863a0896"
      },
      "source": [
        "inv_yhat = scaler.inverse_transform(inv_yhat)[:, [1]]\n",
        "inv_yhat [0:5]"
      ],
      "execution_count": 31,
      "outputs": [
        {
          "output_type": "execute_result",
          "data": {
            "text/plain": [
              "array([[1135.24],\n",
              "       [1146.08],\n",
              "       [1144.51],\n",
              "       [1152.85],\n",
              "       [1171.77]], dtype=float32)"
            ]
          },
          "metadata": {
            "tags": []
          },
          "execution_count": 31
        },
        {
          "output_type": "stream",
          "text": [
            "time: 9.15 ms (started: 2021-05-15 15:25:13 +00:00)\n"
          ],
          "name": "stdout"
        }
      ]
    },
    {
      "cell_type": "code",
      "metadata": {
        "colab": {
          "base_uri": "https://localhost:8080/"
        },
        "id": "ueyV1uY7CMi4",
        "outputId": "f031aa35-eda5-4eed-90f7-49507066b577"
      },
      "source": [
        "inv_yhat = inv_yhat[:,0]"
      ],
      "execution_count": 32,
      "outputs": [
        {
          "output_type": "stream",
          "text": [
            "time: 1.54 ms (started: 2021-05-15 15:25:13 +00:00)\n"
          ],
          "name": "stdout"
        }
      ]
    },
    {
      "cell_type": "code",
      "metadata": {
        "colab": {
          "base_uri": "https://localhost:8080/"
        },
        "id": "SJgxsIuwCN7G",
        "outputId": "e6a7346d-adc1-4a12-f6f5-0015ad5e3f21"
      },
      "source": [
        "inv_yhat [0:5]"
      ],
      "execution_count": 33,
      "outputs": [
        {
          "output_type": "execute_result",
          "data": {
            "text/plain": [
              "array([1135.24, 1146.08, 1144.51, 1152.85, 1171.77], dtype=float32)"
            ]
          },
          "metadata": {
            "tags": []
          },
          "execution_count": 33
        },
        {
          "output_type": "stream",
          "text": [
            "time: 6.84 ms (started: 2021-05-15 15:25:13 +00:00)\n"
          ],
          "name": "stdout"
        }
      ]
    },
    {
      "cell_type": "markdown",
      "metadata": {
        "id": "wY8NPH8u2w4-"
      },
      "source": [
        "#### **Invert Scaling for Actual Test Data**"
      ]
    },
    {
      "cell_type": "code",
      "metadata": {
        "colab": {
          "base_uri": "https://localhost:8080/"
        },
        "id": "eEm0Uto65Scd",
        "outputId": "51b3b64a-0892-442a-95b9-ac9ee2aeeebf"
      },
      "source": [
        "# Display target data\n",
        "test_y [0:5]"
      ],
      "execution_count": 34,
      "outputs": [
        {
          "output_type": "execute_result",
          "data": {
            "text/plain": [
              "array([0.73539597, 0.7439867 , 0.74274254, 0.7493521 , 0.7643464 ],\n",
              "      dtype=float32)"
            ]
          },
          "metadata": {
            "tags": []
          },
          "execution_count": 34
        },
        {
          "output_type": "stream",
          "text": [
            "time: 5.64 ms (started: 2021-05-15 15:25:13 +00:00)\n"
          ],
          "name": "stdout"
        }
      ]
    },
    {
      "cell_type": "code",
      "metadata": {
        "colab": {
          "base_uri": "https://localhost:8080/"
        },
        "id": "fSxtQp9O1c67",
        "outputId": "5da108b4-df25-4bf5-a62e-7228959b4164"
      },
      "source": [
        "# Reshape target data to concatenate later\n",
        "test_y = test_y.reshape((len(test_y), 1))\n",
        "test_y [0:5]"
      ],
      "execution_count": 35,
      "outputs": [
        {
          "output_type": "execute_result",
          "data": {
            "text/plain": [
              "array([[0.73539597],\n",
              "       [0.7439867 ],\n",
              "       [0.74274254],\n",
              "       [0.7493521 ],\n",
              "       [0.7643464 ]], dtype=float32)"
            ]
          },
          "metadata": {
            "tags": []
          },
          "execution_count": 35
        },
        {
          "output_type": "stream",
          "text": [
            "time: 7.12 ms (started: 2021-05-15 15:25:13 +00:00)\n"
          ],
          "name": "stdout"
        }
      ]
    },
    {
      "cell_type": "code",
      "metadata": {
        "colab": {
          "base_uri": "https://localhost:8080/"
        },
        "id": "Y-zP_aiw6lwI",
        "outputId": "f9e26964-f5ee-4526-c884-bd0e23306a25"
      },
      "source": [
        "# Display input data\n",
        "test_X [0:5]"
      ],
      "execution_count": 36,
      "outputs": [
        {
          "output_type": "execute_result",
          "data": {
            "text/plain": [
              "array([[0.6974705 , 0.72154284, 0.6997629 , 0.73530084, 0.7129499 ,\n",
              "        0.73539597],\n",
              "       [0.6997629 , 0.73530084, 0.7129499 , 0.73539597, 0.712556  ,\n",
              "        0.7439867 ],\n",
              "       [0.7129499 , 0.73539597, 0.712556  , 0.7439867 , 0.72060686,\n",
              "        0.74274254],\n",
              "       [0.712556  , 0.7439867 , 0.72060686, 0.74274254, 0.7188817 ,\n",
              "        0.7493521 ],\n",
              "       [0.72060686, 0.74274254, 0.7188817 , 0.7493521 , 0.7249632 ,\n",
              "        0.7643464 ]], dtype=float32)"
            ]
          },
          "metadata": {
            "tags": []
          },
          "execution_count": 36
        },
        {
          "output_type": "stream",
          "text": [
            "time: 4.32 ms (started: 2021-05-15 15:25:13 +00:00)\n"
          ],
          "name": "stdout"
        }
      ]
    },
    {
      "cell_type": "code",
      "metadata": {
        "colab": {
          "base_uri": "https://localhost:8080/"
        },
        "id": "9csZywC515Hj",
        "outputId": "cda28aa9-bb1b-45c6-aa9f-26bdc0c41c31"
      },
      "source": [
        "# Concatenate input & target data\n",
        "### This is purely for demonstration !!\n",
        "\n",
        "inv_y = concatenate((test_y, test_X[:, 0:]), axis=1)\n",
        "inv_y [0:5]"
      ],
      "execution_count": 37,
      "outputs": [
        {
          "output_type": "execute_result",
          "data": {
            "text/plain": [
              "array([[0.73539597, 0.6974705 , 0.72154284, 0.6997629 , 0.73530084,\n",
              "        0.7129499 , 0.73539597],\n",
              "       [0.7439867 , 0.6997629 , 0.73530084, 0.7129499 , 0.73539597,\n",
              "        0.712556  , 0.7439867 ],\n",
              "       [0.74274254, 0.7129499 , 0.73539597, 0.712556  , 0.7439867 ,\n",
              "        0.72060686, 0.74274254],\n",
              "       [0.7493521 , 0.712556  , 0.7439867 , 0.72060686, 0.74274254,\n",
              "        0.7188817 , 0.7493521 ],\n",
              "       [0.7643464 , 0.72060686, 0.74274254, 0.7188817 , 0.7493521 ,\n",
              "        0.7249632 , 0.7643464 ]], dtype=float32)"
            ]
          },
          "metadata": {
            "tags": []
          },
          "execution_count": 37
        },
        {
          "output_type": "stream",
          "text": [
            "time: 8.95 ms (started: 2021-05-15 15:25:13 +00:00)\n"
          ],
          "name": "stdout"
        }
      ]
    },
    {
      "cell_type": "code",
      "metadata": {
        "colab": {
          "base_uri": "https://localhost:8080/"
        },
        "id": "iLDJmi0U9dje",
        "outputId": "e5dd8b36-ade7-4271-e53e-2af386a720d4"
      },
      "source": [
        "# Concatenate input & target data\n",
        "inv_y = concatenate((test_y, test_X[:, -1:]), axis=1)\n",
        "inv_y [0:5]"
      ],
      "execution_count": 38,
      "outputs": [
        {
          "output_type": "execute_result",
          "data": {
            "text/plain": [
              "array([[0.73539597, 0.73539597],\n",
              "       [0.7439867 , 0.7439867 ],\n",
              "       [0.74274254, 0.74274254],\n",
              "       [0.7493521 , 0.7493521 ],\n",
              "       [0.7643464 , 0.7643464 ]], dtype=float32)"
            ]
          },
          "metadata": {
            "tags": []
          },
          "execution_count": 38
        },
        {
          "output_type": "stream",
          "text": [
            "time: 6.09 ms (started: 2021-05-15 15:25:13 +00:00)\n"
          ],
          "name": "stdout"
        }
      ]
    },
    {
      "cell_type": "code",
      "metadata": {
        "colab": {
          "base_uri": "https://localhost:8080/",
          "height": 90
        },
        "id": "YxOe6ERv-EFZ",
        "outputId": "d8aa6317-1be1-4f3d-9bcf-186b7509ed4e"
      },
      "source": [
        "# testplot\n",
        "\n",
        "df = pd.DataFrame(data=inv_y)\n",
        "sns.set(rc={'figure.figsize':(10, 5)})\n",
        "df.plot(title='series')"
      ],
      "execution_count": 39,
      "outputs": [
        {
          "output_type": "execute_result",
          "data": {
            "text/plain": [
              "<matplotlib.axes._subplots.AxesSubplot at 0x7f4ee8f2dfd0>"
            ]
          },
          "metadata": {
            "tags": []
          },
          "execution_count": 39
        },
        {
          "output_type": "display_data",
          "data": {
            "image/png": "[encoded data removed]",
            "text/plain": [
              "<Figure size 720x360 with 1 Axes>"
            ]
          },
          "metadata": {
            "tags": []
          }
        },
        {
          "output_type": "stream",
          "text": [
            "time: 460 ms (started: 2021-05-15 15:25:13 +00:00)\n"
          ],
          "name": "stdout"
        }
      ]
    },
    {
      "cell_type": "code",
      "metadata": {
        "colab": {
          "base_uri": "https://localhost:8080/"
        },
        "id": "rlE2PPCftlWq",
        "outputId": "d1a3f153-d164-4b8f-89cb-fbfcf8161a0e"
      },
      "source": [
        "# Invert Scaling\n",
        "inv_y = scaler.inverse_transform(inv_y)\n",
        "inv_y [0:5]"
      ],
      "execution_count": 40,
      "outputs": [
        {
          "output_type": "execute_result",
          "data": {
            "text/plain": [
              "array([[1150.7537, 1135.24  ],\n",
              "       [1161.659 , 1146.08  ],\n",
              "       [1160.0797, 1144.51  ],\n",
              "       [1168.4701, 1152.85  ],\n",
              "       [1187.5043, 1171.77  ]], dtype=float32)"
            ]
          },
          "metadata": {
            "tags": []
          },
          "execution_count": 40
        },
        {
          "output_type": "stream",
          "text": [
            "time: 7.8 ms (started: 2021-05-15 15:25:14 +00:00)\n"
          ],
          "name": "stdout"
        }
      ]
    },
    {
      "cell_type": "code",
      "metadata": {
        "colab": {
          "base_uri": "https://localhost:8080/",
          "height": 90
        },
        "id": "0ytQ9gSo_HS9",
        "outputId": "8e1add88-e9d8-4c3f-b7d1-3915b6e15d0f"
      },
      "source": [
        "# testplot\n",
        "\n",
        "df = pd.DataFrame(data=inv_y)\n",
        "sns.set(rc={'figure.figsize':(10, 5)})\n",
        "df.plot(title='series')"
      ],
      "execution_count": 41,
      "outputs": [
        {
          "output_type": "execute_result",
          "data": {
            "text/plain": [
              "<matplotlib.axes._subplots.AxesSubplot at 0x7f4ee8e4d8d0>"
            ]
          },
          "metadata": {
            "tags": []
          },
          "execution_count": 41
        },
        {
          "output_type": "display_data",
          "data": {
            "image/png": "[encoded data removed]",
            "text/plain": [
              "<Figure size 720x360 with 1 Axes>"
            ]
          },
          "metadata": {
            "tags": []
          }
        },
        {
          "output_type": "stream",
          "text": [
            "time: 385 ms (started: 2021-05-15 15:25:14 +00:00)\n"
          ],
          "name": "stdout"
        }
      ]
    },
    {
      "cell_type": "code",
      "metadata": {
        "colab": {
          "base_uri": "https://localhost:8080/"
        },
        "id": "hRXKpcEhCWYq",
        "outputId": "98ddfbc1-f408-4fd1-db3a-67502a4997d8"
      },
      "source": [
        "# Reshape again (transpose) and leave target data only (first column)\n",
        "inv_y = inv_y[:,0]\n",
        "inv_y [0:5]"
      ],
      "execution_count": 42,
      "outputs": [
        {
          "output_type": "execute_result",
          "data": {
            "text/plain": [
              "array([1150.7537, 1161.659 , 1160.0797, 1168.4701, 1187.5043],\n",
              "      dtype=float32)"
            ]
          },
          "metadata": {
            "tags": []
          },
          "execution_count": 42
        },
        {
          "output_type": "stream",
          "text": [
            "time: 4.71 ms (started: 2021-05-15 15:25:14 +00:00)\n"
          ],
          "name": "stdout"
        }
      ]
    },
    {
      "cell_type": "markdown",
      "metadata": {
        "id": "6E9PE7QMt3tQ"
      },
      "source": [
        "## **Evaluate Model**"
      ]
    },
    {
      "cell_type": "markdown",
      "metadata": {
        "id": "GTNET_CJGlZK"
      },
      "source": [
        "#### **Reshape Data and Plot**"
      ]
    },
    {
      "cell_type": "code",
      "metadata": {
        "colab": {
          "base_uri": "https://localhost:8080/",
          "height": 242
        },
        "id": "jUopABfKBSYQ",
        "outputId": "85e1842d-03b4-4490-bee7-9e68dee3cd65"
      },
      "source": [
        "df1 = inv_y.reshape((len(inv_y), 1))\n",
        "# df1 [0:5]\n",
        "df1 = pd.DataFrame(data=df1, columns=['Actual'])\n",
        "df1.head()"
      ],
      "execution_count": 43,
      "outputs": [
        {
          "output_type": "execute_result",
          "data": {
            "text/html": [
              "<div>\n",
              "<style scoped>\n",
              "    .dataframe tbody tr th:only-of-type {\n",
              "        vertical-align: middle;\n",
              "    }\n",
              "\n",
              "    .dataframe tbody tr th {\n",
              "        vertical-align: top;\n",
              "    }\n",
              "\n",
              "    .dataframe thead th {\n",
              "        text-align: right;\n",
              "    }\n",
              "</style>\n",
              "<table border=\"1\" class=\"dataframe\">\n",
              "  <thead>\n",
              "    <tr style=\"text-align: right;\">\n",
              "      <th></th>\n",
              "      <th>Actual</th>\n",
              "    </tr>\n",
              "  </thead>\n",
              "  <tbody>\n",
              "    <tr>\n",
              "      <th>0</th>\n",
              "      <td>1150.753662</td>\n",
              "    </tr>\n",
              "    <tr>\n",
              "      <th>1</th>\n",
              "      <td>1161.659058</td>\n",
              "    </tr>\n",
              "    <tr>\n",
              "      <th>2</th>\n",
              "      <td>1160.079712</td>\n",
              "    </tr>\n",
              "    <tr>\n",
              "      <th>3</th>\n",
              "      <td>1168.470093</td>\n",
              "    </tr>\n",
              "    <tr>\n",
              "      <th>4</th>\n",
              "      <td>1187.504272</td>\n",
              "    </tr>\n",
              "  </tbody>\n",
              "</table>\n",
              "</div>"
            ],
            "text/plain": [
              "        Actual\n",
              "0  1150.753662\n",
              "1  1161.659058\n",
              "2  1160.079712\n",
              "3  1168.470093\n",
              "4  1187.504272"
            ]
          },
          "metadata": {
            "tags": []
          },
          "execution_count": 43
        },
        {
          "output_type": "stream",
          "text": [
            "time: 19.1 ms (started: 2021-05-15 15:25:14 +00:00)\n"
          ],
          "name": "stdout"
        }
      ]
    },
    {
      "cell_type": "code",
      "metadata": {
        "colab": {
          "base_uri": "https://localhost:8080/",
          "height": 242
        },
        "id": "pWwVfwrvBlyi",
        "outputId": "7788b640-6497-4105-9e49-3e98c13068c2"
      },
      "source": [
        "df2 = inv_yhat.reshape((len(inv_yhat), 1))\n",
        "# df2 [0:5]\n",
        "df2 = pd.DataFrame(data=df2, columns=['Forecast'])\n",
        "df2.head()"
      ],
      "execution_count": 44,
      "outputs": [
        {
          "output_type": "execute_result",
          "data": {
            "text/html": [
              "<div>\n",
              "<style scoped>\n",
              "    .dataframe tbody tr th:only-of-type {\n",
              "        vertical-align: middle;\n",
              "    }\n",
              "\n",
              "    .dataframe tbody tr th {\n",
              "        vertical-align: top;\n",
              "    }\n",
              "\n",
              "    .dataframe thead th {\n",
              "        text-align: right;\n",
              "    }\n",
              "</style>\n",
              "<table border=\"1\" class=\"dataframe\">\n",
              "  <thead>\n",
              "    <tr style=\"text-align: right;\">\n",
              "      <th></th>\n",
              "      <th>Forecast</th>\n",
              "    </tr>\n",
              "  </thead>\n",
              "  <tbody>\n",
              "    <tr>\n",
              "      <th>0</th>\n",
              "      <td>1135.239990</td>\n",
              "    </tr>\n",
              "    <tr>\n",
              "      <th>1</th>\n",
              "      <td>1146.079956</td>\n",
              "    </tr>\n",
              "    <tr>\n",
              "      <th>2</th>\n",
              "      <td>1144.510010</td>\n",
              "    </tr>\n",
              "    <tr>\n",
              "      <th>3</th>\n",
              "      <td>1152.849976</td>\n",
              "    </tr>\n",
              "    <tr>\n",
              "      <th>4</th>\n",
              "      <td>1171.770020</td>\n",
              "    </tr>\n",
              "  </tbody>\n",
              "</table>\n",
              "</div>"
            ],
            "text/plain": [
              "      Forecast\n",
              "0  1135.239990\n",
              "1  1146.079956\n",
              "2  1144.510010\n",
              "3  1152.849976\n",
              "4  1171.770020"
            ]
          },
          "metadata": {
            "tags": []
          },
          "execution_count": 44
        },
        {
          "output_type": "stream",
          "text": [
            "time: 15.2 ms (started: 2021-05-15 15:25:14 +00:00)\n"
          ],
          "name": "stdout"
        }
      ]
    },
    {
      "cell_type": "code",
      "metadata": {
        "colab": {
          "base_uri": "https://localhost:8080/",
          "height": 242
        },
        "id": "t1CxZSqwEpSx",
        "outputId": "4ad724d5-fecd-40e6-a06e-3e15a5ff0dd2"
      },
      "source": [
        "def residuals(actual, forecast):\n",
        "    # returns the difference between post and pre\n",
        "    return actual - forecast\n",
        "\n",
        "df = pd.concat([df1,df2], axis=1)\n",
        "df['Residuals'] = residuals(df['Actual'], df['Forecast'])\n",
        "df.head()"
      ],
      "execution_count": 45,
      "outputs": [
        {
          "output_type": "execute_result",
          "data": {
            "text/html": [
              "<div>\n",
              "<style scoped>\n",
              "    .dataframe tbody tr th:only-of-type {\n",
              "        vertical-align: middle;\n",
              "    }\n",
              "\n",
              "    .dataframe tbody tr th {\n",
              "        vertical-align: top;\n",
              "    }\n",
              "\n",
              "    .dataframe thead th {\n",
              "        text-align: right;\n",
              "    }\n",
              "</style>\n",
              "<table border=\"1\" class=\"dataframe\">\n",
              "  <thead>\n",
              "    <tr style=\"text-align: right;\">\n",
              "      <th></th>\n",
              "      <th>Actual</th>\n",
              "      <th>Forecast</th>\n",
              "      <th>Residuals</th>\n",
              "    </tr>\n",
              "  </thead>\n",
              "  <tbody>\n",
              "    <tr>\n",
              "      <th>0</th>\n",
              "      <td>1150.753662</td>\n",
              "      <td>1135.239990</td>\n",
              "      <td>15.513672</td>\n",
              "    </tr>\n",
              "    <tr>\n",
              "      <th>1</th>\n",
              "      <td>1161.659058</td>\n",
              "      <td>1146.079956</td>\n",
              "      <td>15.579102</td>\n",
              "    </tr>\n",
              "    <tr>\n",
              "      <th>2</th>\n",
              "      <td>1160.079712</td>\n",
              "      <td>1144.510010</td>\n",
              "      <td>15.569702</td>\n",
              "    </tr>\n",
              "    <tr>\n",
              "      <th>3</th>\n",
              "      <td>1168.470093</td>\n",
              "      <td>1152.849976</td>\n",
              "      <td>15.620117</td>\n",
              "    </tr>\n",
              "    <tr>\n",
              "      <th>4</th>\n",
              "      <td>1187.504272</td>\n",
              "      <td>1171.770020</td>\n",
              "      <td>15.734253</td>\n",
              "    </tr>\n",
              "  </tbody>\n",
              "</table>\n",
              "</div>"
            ],
            "text/plain": [
              "        Actual     Forecast  Residuals\n",
              "0  1150.753662  1135.239990  15.513672\n",
              "1  1161.659058  1146.079956  15.579102\n",
              "2  1160.079712  1144.510010  15.569702\n",
              "3  1168.470093  1152.849976  15.620117\n",
              "4  1187.504272  1171.770020  15.734253"
            ]
          },
          "metadata": {
            "tags": []
          },
          "execution_count": 45
        },
        {
          "output_type": "stream",
          "text": [
            "time: 22.9 ms (started: 2021-05-15 15:25:14 +00:00)\n"
          ],
          "name": "stdout"
        }
      ]
    },
    {
      "cell_type": "code",
      "metadata": {
        "colab": {
          "base_uri": "https://localhost:8080/",
          "height": 90
        },
        "id": "-s8au5iaA_0j",
        "outputId": "16ef058a-343b-4f9b-fe24-6e61b1fbaf1f"
      },
      "source": [
        "# Plot Actual vs Forecast Values\n",
        "# df = pd.DataFrame(data=df)\n",
        "sns.set(rc={'figure.figsize':(10, 5)})\n",
        "df[['Actual', 'Forecast']].plot(title='Actual vs Forecast')"
      ],
      "execution_count": 46,
      "outputs": [
        {
          "output_type": "execute_result",
          "data": {
            "text/plain": [
              "<matplotlib.axes._subplots.AxesSubplot at 0x7f4ee8f2dd50>"
            ]
          },
          "metadata": {
            "tags": []
          },
          "execution_count": 46
        },
        {
          "output_type": "display_data",
          "data": {
            "image/png": "[encoded data removed]",
            "text/plain": [
              "<Figure size 720x360 with 1 Axes>"
            ]
          },
          "metadata": {
            "tags": []
          }
        },
        {
          "output_type": "stream",
          "text": [
            "time: 371 ms (started: 2021-05-15 15:25:14 +00:00)\n"
          ],
          "name": "stdout"
        }
      ]
    },
    {
      "cell_type": "code",
      "metadata": {
        "colab": {
          "base_uri": "https://localhost:8080/",
          "height": 90
        },
        "id": "dXJPZxLoGCqe",
        "outputId": "c4c4e0d9-fb09-47f0-e5e9-0a876f48690f"
      },
      "source": [
        "# Plot Residuals\n",
        "sns.set(rc={'figure.figsize':(10, 5)})\n",
        "df[['Residuals']].plot(title='Residuals')"
      ],
      "execution_count": 47,
      "outputs": [
        {
          "output_type": "execute_result",
          "data": {
            "text/plain": [
              "<matplotlib.axes._subplots.AxesSubplot at 0x7f4ee8d99750>"
            ]
          },
          "metadata": {
            "tags": []
          },
          "execution_count": 47
        },
        {
          "output_type": "display_data",
          "data": {
            "image/png": "[encoded data removed]",
            "text/plain": [
              "<Figure size 720x360 with 1 Axes>"
            ]
          },
          "metadata": {
            "tags": []
          }
        },
        {
          "output_type": "stream",
          "text": [
            "time: 376 ms (started: 2021-05-15 15:25:15 +00:00)\n"
          ],
          "name": "stdout"
        }
      ]
    },
    {
      "cell_type": "markdown",
      "metadata": {
        "id": "-0t941Iz2zpR"
      },
      "source": [
        "#### **Calculate RMSE**"
      ]
    },
    {
      "cell_type": "code",
      "metadata": {
        "colab": {
          "base_uri": "https://localhost:8080/"
        },
        "id": "iNmqypy5pV48",
        "outputId": "d04fc2e8-0b5b-47fb-f6c1-1db59d17b832"
      },
      "source": [
        "# inv_y : Test Actual Target Data\n",
        "# inv_yhat : Test Forecasted Target Data\n",
        "rmse = sqrt(mean_squared_error(inv_y, inv_yhat))\n",
        "print('Test RMSE: %.2f' % rmse)"
      ],
      "execution_count": 48,
      "outputs": [
        {
          "output_type": "stream",
          "text": [
            "Test RMSE: 16.05\n",
            "time: 2.89 ms (started: 2021-05-15 15:25:15 +00:00)\n"
          ],
          "name": "stdout"
        }
      ]
    },
    {
      "cell_type": "markdown",
      "metadata": {
        "id": "2d7RYRD33UuK"
      },
      "source": [
        "#### **Residuals**"
      ]
    },
    {
      "cell_type": "code",
      "metadata": {
        "colab": {
          "base_uri": "https://localhost:8080/",
          "height": 242
        },
        "id": "E0hieeLrtriv",
        "outputId": "f51b7445-e997-4940-81c9-04e837702de1"
      },
      "source": [
        "# Get residuals (normalized)\n",
        "residuals = (test_y[0] - yhat[:,0])\n",
        "res = pd.DataFrame(data=residuals, columns=['residuals'])\n",
        "res.head()"
      ],
      "execution_count": 49,
      "outputs": [
        {
          "output_type": "execute_result",
          "data": {
            "text/html": [
              "<div>\n",
              "<style scoped>\n",
              "    .dataframe tbody tr th:only-of-type {\n",
              "        vertical-align: middle;\n",
              "    }\n",
              "\n",
              "    .dataframe tbody tr th {\n",
              "        vertical-align: top;\n",
              "    }\n",
              "\n",
              "    .dataframe thead th {\n",
              "        text-align: right;\n",
              "    }\n",
              "</style>\n",
              "<table border=\"1\" class=\"dataframe\">\n",
              "  <thead>\n",
              "    <tr style=\"text-align: right;\">\n",
              "      <th></th>\n",
              "      <th>residuals</th>\n",
              "    </tr>\n",
              "  </thead>\n",
              "  <tbody>\n",
              "    <tr>\n",
              "      <th>0</th>\n",
              "      <td>0.007760</td>\n",
              "    </tr>\n",
              "    <tr>\n",
              "      <th>1</th>\n",
              "      <td>0.000106</td>\n",
              "    </tr>\n",
              "    <tr>\n",
              "      <th>2</th>\n",
              "      <td>-0.002090</td>\n",
              "    </tr>\n",
              "    <tr>\n",
              "      <th>3</th>\n",
              "      <td>-0.006871</td>\n",
              "    </tr>\n",
              "    <tr>\n",
              "      <th>4</th>\n",
              "      <td>-0.013384</td>\n",
              "    </tr>\n",
              "  </tbody>\n",
              "</table>\n",
              "</div>"
            ],
            "text/plain": [
              "   residuals\n",
              "0   0.007760\n",
              "1   0.000106\n",
              "2  -0.002090\n",
              "3  -0.006871\n",
              "4  -0.013384"
            ]
          },
          "metadata": {
            "tags": []
          },
          "execution_count": 49
        },
        {
          "output_type": "stream",
          "text": [
            "time: 14.4 ms (started: 2021-05-15 15:25:15 +00:00)\n"
          ],
          "name": "stdout"
        }
      ]
    },
    {
      "cell_type": "code",
      "metadata": {
        "colab": {
          "base_uri": "https://localhost:8080/",
          "height": 90
        },
        "id": "aGmZWGOMt7dR",
        "outputId": "b6e4e199-d02b-43ae-d6f8-565b05efff7b"
      },
      "source": [
        "# Plot Residuals\n",
        "sns.set(rc={'figure.figsize':(10, 5)})\n",
        "res.plot(title='Residuals')"
      ],
      "execution_count": 50,
      "outputs": [
        {
          "output_type": "execute_result",
          "data": {
            "text/plain": [
              "<matplotlib.axes._subplots.AxesSubplot at 0x7f4ee8d0f250>"
            ]
          },
          "metadata": {
            "tags": []
          },
          "execution_count": 50
        },
        {
          "output_type": "display_data",
          "data": {
            "image/png": "[encoded data removed]",
            "text/plain": [
              "<Figure size 720x360 with 1 Axes>"
            ]
          },
          "metadata": {
            "tags": []
          }
        },
        {
          "output_type": "stream",
          "text": [
            "time: 379 ms (started: 2021-05-15 15:25:15 +00:00)\n"
          ],
          "name": "stdout"
        }
      ]
    },
    {
      "cell_type": "markdown",
      "metadata": {
        "id": "yGsirhr33ob7"
      },
      "source": [
        "#### **Plot Results**"
      ]
    },
    {
      "cell_type": "code",
      "metadata": {
        "colab": {
          "base_uri": "https://localhost:8080/"
        },
        "id": "klPJb6MKuU5X",
        "outputId": "bfa24b53-1f85-45a4-f052-5e19b5a9edf5"
      },
      "source": [
        "# Plot results\n",
        "\n",
        "# shift train predictions for plotting\n",
        "#trainPredictPlot = np.empty_like(dataset)\n",
        "#trainPredictPlot[:, :] = np.nan\n",
        "#trainPredictPlot[windows:len(yhat)+windows, :] = yhat\n",
        "\n",
        "# shift test predictions for plotting\n",
        "#testPredictPlot = np.empty_like(dataset)\n",
        "#testPredictPlot[:, :] = np.nan\n",
        "#testPredictPlot[len(test_X)+(windows*2)+1:len(dataset)-1, :] = test_X\n",
        "\n",
        "# plot baseline and predictions\n",
        "#sns.set(rc={'figure.figsize':(11, 5)})\n",
        "#plt.plot(scaler.inverse_transform(dataset))\n",
        "#plt.plot(dataset)\n",
        "#plt.plot(trainPredictPlot)\n",
        "#plt.plot(testPredictPlot)\n",
        "#plt.show()"
      ],
      "execution_count": 51,
      "outputs": [
        {
          "output_type": "stream",
          "text": [
            "time: 1.99 ms (started: 2021-05-15 15:25:16 +00:00)\n"
          ],
          "name": "stdout"
        }
      ]
    },
    {
      "cell_type": "markdown",
      "metadata": {
        "id": "agdlQRdamBX1"
      },
      "source": [
        "# **LSTM Multivariate Forecasting (Unnormalized)**"
      ]
    },
    {
      "cell_type": "markdown",
      "metadata": {
        "id": "l8HoHjd2mBX2"
      },
      "source": [
        "https://machinelearningmastery.com/multivariate-time-series-forecasting-lstms-keras/"
      ]
    },
    {
      "cell_type": "markdown",
      "metadata": {
        "id": "CSnZc3sCmBX2"
      },
      "source": [
        "https://machinelearningmastery.com/how-to-develop-lstm-models-for-multi-step-time-series-forecasting-of-household-power-consumption/"
      ]
    },
    {
      "cell_type": "markdown",
      "metadata": {
        "id": "_Vczg3CwmBX2"
      },
      "source": [
        "## **Import Libraries**"
      ]
    },
    {
      "cell_type": "code",
      "metadata": {
        "colab": {
          "base_uri": "https://localhost:8080/"
        },
        "id": "VACTB7mcmBX2",
        "outputId": "50e40df0-f1c5-4c54-ace5-674d8257a8d8"
      },
      "source": [
        "import numpy as np\n",
        "import pandas as pd\n",
        "from math import sqrt\n",
        "import seaborn as sns\n",
        "from pandas import read_csv\n",
        "from matplotlib import pyplot\n",
        "import matplotlib.pyplot as plt\n",
        "from sklearn.preprocessing import MinMaxScaler\n",
        "import math\n",
        "from sklearn.metrics import mean_squared_error\n",
        "import tensorflow as tf\n",
        "from pandas import read_csv\n",
        "from pandas import DataFrame\n",
        "from pandas import concat\n",
        "from sklearn.preprocessing import LabelEncoder\n",
        "from sklearn.preprocessing import MinMaxScaler\n",
        "from numpy import concatenate\n",
        "\n",
        "\n",
        "from tensorflow import keras\n",
        "from tensorflow.keras import layers\n",
        "from keras.models import Sequential\n",
        "from keras.layers import LSTM, Dense\n",
        "\n",
        "print('Tensorflow version %s' % tf.__version__)\n",
        "\n",
        "!pip install --quiet ipython-autotime pandas_gbq\n",
        "%load_ext autotime"
      ],
      "execution_count": 52,
      "outputs": [
        {
          "output_type": "stream",
          "text": [
            "Tensorflow version 2.4.1\n",
            "The autotime extension is already loaded. To reload it, use:\n",
            "  %reload_ext autotime\n",
            "time: 2.85 s (started: 2021-05-15 15:25:16 +00:00)\n"
          ],
          "name": "stdout"
        }
      ]
    },
    {
      "cell_type": "markdown",
      "metadata": {
        "id": "U_9pfdSbmBX3"
      },
      "source": [
        "## **Preprocess Data**"
      ]
    },
    {
      "cell_type": "markdown",
      "metadata": {
        "id": "pqp2j0vWmBX3"
      },
      "source": [
        "#### **Import & Preprocess Data**"
      ]
    },
    {
      "cell_type": "code",
      "metadata": {
        "colab": {
          "base_uri": "https://localhost:8080/"
        },
        "id": "aNsvMg9amBX3",
        "outputId": "58f88adb-6c26-4a40-9414-0273547469f2"
      },
      "source": [
        "from pandas import read_csv\n",
        "from datetime import datetime\n",
        "# load data\n",
        "def parse(x):\n",
        "\treturn datetime.strptime(x, '%Y %m %d %H')\n",
        "dataset = pd.read_csv('https://raw.githubusercontent.com/deltorobarba/repo/master/pollution.csv',  parse_dates = [['year', 'month', 'day', 'hour']], index_col=0, date_parser=parse)\n",
        "dataset.drop('No', axis=1, inplace=True)\n",
        "# manually specify column names\n",
        "dataset.columns = ['pollution', 'dew', 'temp', 'press', 'wnd_dir', 'wnd_spd', 'snow', 'rain']\n",
        "dataset.index.name = 'date'\n",
        "# mark all NA values with 0\n",
        "dataset['pollution'].fillna(0, inplace=True)\n",
        "# drop the first 24 hours\n",
        "dataset = dataset[24:]\n",
        "# summarize first 5 rows\n",
        "print(dataset.head(5))"
      ],
      "execution_count": 53,
      "outputs": [
        {
          "output_type": "stream",
          "text": [
            "                     pollution  dew  temp   press wnd_dir  wnd_spd  snow  rain\n",
            "date                                                                          \n",
            "2010-01-02 00:00:00      129.0  -16  -4.0  1020.0      SE     1.79     0     0\n",
            "2010-01-02 01:00:00      148.0  -15  -4.0  1020.0      SE     2.68     0     0\n",
            "2010-01-02 02:00:00      159.0  -11  -5.0  1021.0      SE     3.57     0     0\n",
            "2010-01-02 03:00:00      181.0   -7  -5.0  1022.0      SE     5.36     1     0\n",
            "2010-01-02 04:00:00      138.0   -7  -5.0  1022.0      SE     6.25     2     0\n",
            "time: 632 ms (started: 2021-05-15 15:25:18 +00:00)\n"
          ],
          "name": "stdout"
        }
      ]
    },
    {
      "cell_type": "code",
      "metadata": {
        "colab": {
          "base_uri": "https://localhost:8080/",
          "height": 358
        },
        "id": "XHhP2LoumBX4",
        "outputId": "b8a40e8d-da77-4bc8-bbcd-4aaf89dbf4c7"
      },
      "source": [
        "url = 'https://raw.githubusercontent.com/deltorobarba/repo/master/timeseries.csv'\n",
        "data = pd.read_csv(url)\n",
        "series = data[['date', 'price1', 'price2']].rename(columns={\"price1\": \"google\", \"price2\": \"apple\"}).set_index('date')\n",
        "series.index = pd.to_datetime(series.index, utc=False)\n",
        "dataset = series.copy()\n",
        "dataset.head()"
      ],
      "execution_count": 54,
      "outputs": [
        {
          "output_type": "execute_result",
          "data": {
            "text/html": [
              "<div>\n",
              "<style scoped>\n",
              "    .dataframe tbody tr th:only-of-type {\n",
              "        vertical-align: middle;\n",
              "    }\n",
              "\n",
              "    .dataframe tbody tr th {\n",
              "        vertical-align: top;\n",
              "    }\n",
              "\n",
              "    .dataframe thead th {\n",
              "        text-align: right;\n",
              "    }\n",
              "</style>\n",
              "<table border=\"1\" class=\"dataframe\">\n",
              "  <thead>\n",
              "    <tr style=\"text-align: right;\">\n",
              "      <th></th>\n",
              "      <th>google</th>\n",
              "      <th>apple</th>\n",
              "    </tr>\n",
              "    <tr>\n",
              "      <th>date</th>\n",
              "      <th></th>\n",
              "      <th></th>\n",
              "    </tr>\n",
              "  </thead>\n",
              "  <tbody>\n",
              "    <tr>\n",
              "      <th>2010-02-01</th>\n",
              "      <td>265.51</td>\n",
              "      <td>280.42</td>\n",
              "    </tr>\n",
              "    <tr>\n",
              "      <th>2010-02-02</th>\n",
              "      <td>264.57</td>\n",
              "      <td>285.87</td>\n",
              "    </tr>\n",
              "    <tr>\n",
              "      <th>2010-02-03</th>\n",
              "      <td>269.40</td>\n",
              "      <td>279.49</td>\n",
              "    </tr>\n",
              "    <tr>\n",
              "      <th>2010-02-04</th>\n",
              "      <td>262.41</td>\n",
              "      <td>282.35</td>\n",
              "    </tr>\n",
              "    <tr>\n",
              "      <th>2010-02-05</th>\n",
              "      <td>264.65</td>\n",
              "      <td>284.06</td>\n",
              "    </tr>\n",
              "  </tbody>\n",
              "</table>\n",
              "</div>"
            ],
            "text/plain": [
              "            google   apple\n",
              "date                      \n",
              "2010-02-01  265.51  280.42\n",
              "2010-02-02  264.57  285.87\n",
              "2010-02-03  269.40  279.49\n",
              "2010-02-04  262.41  282.35\n",
              "2010-02-05  264.65  284.06"
            ]
          },
          "metadata": {
            "tags": []
          },
          "execution_count": 54
        },
        {
          "output_type": "stream",
          "text": [
            "time: 63.1 ms (started: 2021-05-15 15:25:19 +00:00)\n"
          ],
          "name": "stdout"
        }
      ]
    },
    {
      "cell_type": "markdown",
      "metadata": {
        "id": "1P_j7dHimBX4"
      },
      "source": [
        "#### **Visualize Dataset**"
      ]
    },
    {
      "cell_type": "code",
      "metadata": {
        "colab": {
          "base_uri": "https://localhost:8080/",
          "height": 72
        },
        "id": "9ifBn4UDmBX4",
        "outputId": "b6cba052-d75b-4be4-a665-3ee7b0743789"
      },
      "source": [
        "sns.set(rc={'figure.figsize':(10, 8), \"lines.linewidth\": 1.0})\n",
        "\n",
        "# load dataset\n",
        "values = dataset.values\n",
        "# specify columns to plot\n",
        "groups = [0, 1]\n",
        "i = 1\n",
        "# plot each column\n",
        "pyplot.figure()\n",
        "for group in groups:\n",
        "\tpyplot.subplot(len(groups), 1, i)\n",
        "\tpyplot.plot(values[:, group])\n",
        "\tpyplot.title(dataset.columns[group], y=0.5, loc='right')\n",
        "\ti += 1\n",
        "pyplot.show()"
      ],
      "execution_count": 55,
      "outputs": [
        {
          "output_type": "display_data",
          "data": {
            "image/png": "[encoded data removed]",
            "text/plain": [
              "<Figure size 720x576 with 2 Axes>"
            ]
          },
          "metadata": {
            "tags": []
          }
        },
        {
          "output_type": "stream",
          "text": [
            "time: 296 ms (started: 2021-05-15 15:25:19 +00:00)\n"
          ],
          "name": "stdout"
        }
      ]
    },
    {
      "cell_type": "markdown",
      "metadata": {
        "id": "07tK2PnAmBX4"
      },
      "source": [
        "#### **LSTM Preprocess Dataset**"
      ]
    },
    {
      "cell_type": "code",
      "metadata": {
        "colab": {
          "base_uri": "https://localhost:8080/"
        },
        "id": "24PZzLbBmBX4",
        "outputId": "42e60b54-c268-4448-93f3-ccb608336d01"
      },
      "source": [
        "windows = 3\n",
        "features = 2"
      ],
      "execution_count": 56,
      "outputs": [
        {
          "output_type": "stream",
          "text": [
            "time: 1.2 ms (started: 2021-05-15 15:25:19 +00:00)\n"
          ],
          "name": "stdout"
        }
      ]
    },
    {
      "cell_type": "code",
      "metadata": {
        "colab": {
          "base_uri": "https://localhost:8080/"
        },
        "id": "-QHijQ46mBX4",
        "outputId": "1d190a91-b160-4166-875b-07f4cc259048"
      },
      "source": [
        "# convert series to supervised learning\n",
        "def series_to_supervised(data, n_in=1, n_out=1, dropnan=True):\n",
        "\tn_vars = 1 if type(data) is list else data.shape[1]\n",
        "\tdf = DataFrame(data)\n",
        "\tcols, names = list(), list()\n",
        "\t# input sequence (t-n, ... t-1)\n",
        "\tfor i in range(n_in, 0, -1):\n",
        "\t\tcols.append(df.shift(i))\n",
        "\t\tnames += [('var%d(t-%d)' % (j+1, i)) for j in range(n_vars)]\n",
        "\t# forecast sequence (t, t+1, ... t+n)\n",
        "\tfor i in range(0, n_out):\n",
        "\t\tcols.append(df.shift(-i))\n",
        "\t\tif i == 0:\n",
        "\t\t\tnames += [('var%d(t)' % (j+1)) for j in range(n_vars)]\n",
        "\t\telse:\n",
        "\t\t\tnames += [('var%d(t+%d)' % (j+1, i)) for j in range(n_vars)]\n",
        "\t# put it all together\n",
        "\tagg = concat(cols, axis=1)\n",
        "\tagg.columns = names\n",
        "\t# drop rows with NaN values\n",
        "\tif dropnan:\n",
        "\t\tagg.dropna(inplace=True)\n",
        "\treturn agg"
      ],
      "execution_count": 57,
      "outputs": [
        {
          "output_type": "stream",
          "text": [
            "time: 20.5 ms (started: 2021-05-15 15:25:19 +00:00)\n"
          ],
          "name": "stdout"
        }
      ]
    },
    {
      "cell_type": "code",
      "metadata": {
        "colab": {
          "base_uri": "https://localhost:8080/"
        },
        "id": "1MEouyNSmBX5",
        "outputId": "a145e83f-b8c4-40b8-b781-c6b23afd215e"
      },
      "source": [
        "#dataset = read_csv('pollution.csv', header=0, index_col=0)\n",
        "values = dataset.values"
      ],
      "execution_count": 58,
      "outputs": [
        {
          "output_type": "stream",
          "text": [
            "time: 1.5 ms (started: 2021-05-15 15:25:19 +00:00)\n"
          ],
          "name": "stdout"
        }
      ]
    },
    {
      "cell_type": "code",
      "metadata": {
        "colab": {
          "base_uri": "https://localhost:8080/"
        },
        "id": "rTYP9LGjmBX5",
        "outputId": "1073c95e-0ca9-4ff6-d717-55b7b91d92c5"
      },
      "source": [
        "# ensure all data is float\n",
        "values = values.astype('float32')"
      ],
      "execution_count": 59,
      "outputs": [
        {
          "output_type": "stream",
          "text": [
            "time: 1.39 ms (started: 2021-05-15 15:25:19 +00:00)\n"
          ],
          "name": "stdout"
        }
      ]
    },
    {
      "cell_type": "code",
      "metadata": {
        "colab": {
          "base_uri": "https://localhost:8080/"
        },
        "id": "MZibD3FgmBX5",
        "outputId": "d84fddbb-f6d2-4e0d-fd38-d08e5789139f"
      },
      "source": [
        "# remove this column if you normalize\n",
        "scaled = values"
      ],
      "execution_count": 60,
      "outputs": [
        {
          "output_type": "stream",
          "text": [
            "time: 1.44 ms (started: 2021-05-15 15:25:19 +00:00)\n"
          ],
          "name": "stdout"
        }
      ]
    },
    {
      "cell_type": "code",
      "metadata": {
        "colab": {
          "base_uri": "https://localhost:8080/"
        },
        "id": "59E9kalGmBX5",
        "outputId": "7c693b6a-dea4-41c9-f377-17f8be180cb5"
      },
      "source": [
        "# frame as supervised learning\n",
        "reframed = series_to_supervised(scaled, windows, 1)"
      ],
      "execution_count": 61,
      "outputs": [
        {
          "output_type": "stream",
          "text": [
            "time: 9 ms (started: 2021-05-15 15:25:20 +00:00)\n"
          ],
          "name": "stdout"
        }
      ]
    },
    {
      "cell_type": "code",
      "metadata": {
        "colab": {
          "base_uri": "https://localhost:8080/",
          "height": 259
        },
        "id": "Qyqd-d2NmBX6",
        "outputId": "0cb478e4-54f6-4a47-e6fd-6a60f746240d"
      },
      "source": [
        "# Display data\n",
        "reframed [:5]"
      ],
      "execution_count": 62,
      "outputs": [
        {
          "output_type": "execute_result",
          "data": {
            "text/html": [
              "<div>\n",
              "<style scoped>\n",
              "    .dataframe tbody tr th:only-of-type {\n",
              "        vertical-align: middle;\n",
              "    }\n",
              "\n",
              "    .dataframe tbody tr th {\n",
              "        vertical-align: top;\n",
              "    }\n",
              "\n",
              "    .dataframe thead th {\n",
              "        text-align: right;\n",
              "    }\n",
              "</style>\n",
              "<table border=\"1\" class=\"dataframe\">\n",
              "  <thead>\n",
              "    <tr style=\"text-align: right;\">\n",
              "      <th></th>\n",
              "      <th>var1(t-3)</th>\n",
              "      <th>var2(t-3)</th>\n",
              "      <th>var1(t-2)</th>\n",
              "      <th>var2(t-2)</th>\n",
              "      <th>var1(t-1)</th>\n",
              "      <th>var2(t-1)</th>\n",
              "      <th>var1(t)</th>\n",
              "      <th>var2(t)</th>\n",
              "    </tr>\n",
              "  </thead>\n",
              "  <tbody>\n",
              "    <tr>\n",
              "      <th>3</th>\n",
              "      <td>265.510010</td>\n",
              "      <td>280.420013</td>\n",
              "      <td>264.570007</td>\n",
              "      <td>285.869995</td>\n",
              "      <td>269.399994</td>\n",
              "      <td>279.489990</td>\n",
              "      <td>262.410004</td>\n",
              "      <td>282.350006</td>\n",
              "    </tr>\n",
              "    <tr>\n",
              "      <th>4</th>\n",
              "      <td>264.570007</td>\n",
              "      <td>285.869995</td>\n",
              "      <td>269.399994</td>\n",
              "      <td>279.489990</td>\n",
              "      <td>262.410004</td>\n",
              "      <td>282.350006</td>\n",
              "      <td>264.649994</td>\n",
              "      <td>284.059998</td>\n",
              "    </tr>\n",
              "    <tr>\n",
              "      <th>5</th>\n",
              "      <td>269.399994</td>\n",
              "      <td>279.489990</td>\n",
              "      <td>262.410004</td>\n",
              "      <td>282.350006</td>\n",
              "      <td>264.649994</td>\n",
              "      <td>284.059998</td>\n",
              "      <td>265.739990</td>\n",
              "      <td>286.149994</td>\n",
              "    </tr>\n",
              "    <tr>\n",
              "      <th>6</th>\n",
              "      <td>262.410004</td>\n",
              "      <td>282.350006</td>\n",
              "      <td>264.649994</td>\n",
              "      <td>284.059998</td>\n",
              "      <td>265.739990</td>\n",
              "      <td>286.149994</td>\n",
              "      <td>267.220001</td>\n",
              "      <td>285.769989</td>\n",
              "    </tr>\n",
              "    <tr>\n",
              "      <th>7</th>\n",
              "      <td>264.649994</td>\n",
              "      <td>284.059998</td>\n",
              "      <td>265.739990</td>\n",
              "      <td>286.149994</td>\n",
              "      <td>267.220001</td>\n",
              "      <td>285.769989</td>\n",
              "      <td>266.230011</td>\n",
              "      <td>287.359985</td>\n",
              "    </tr>\n",
              "  </tbody>\n",
              "</table>\n",
              "</div>"
            ],
            "text/plain": [
              "    var1(t-3)   var2(t-3)   var1(t-2)  ...   var2(t-1)     var1(t)     var2(t)\n",
              "3  265.510010  280.420013  264.570007  ...  279.489990  262.410004  282.350006\n",
              "4  264.570007  285.869995  269.399994  ...  282.350006  264.649994  284.059998\n",
              "5  269.399994  279.489990  262.410004  ...  284.059998  265.739990  286.149994\n",
              "6  262.410004  282.350006  264.649994  ...  286.149994  267.220001  285.769989\n",
              "7  264.649994  284.059998  265.739990  ...  285.769989  266.230011  287.359985\n",
              "\n",
              "[5 rows x 8 columns]"
            ]
          },
          "metadata": {
            "tags": []
          },
          "execution_count": 62
        },
        {
          "output_type": "stream",
          "text": [
            "time: 47.8 ms (started: 2021-05-15 15:25:20 +00:00)\n"
          ],
          "name": "stdout"
        }
      ]
    },
    {
      "cell_type": "code",
      "metadata": {
        "colab": {
          "base_uri": "https://localhost:8080/"
        },
        "id": "nG7nesIXmBX6",
        "outputId": "e459e087-d653-4bb9-ee77-acc3783abc4f"
      },
      "source": [
        "# Show last column (to be removed)\n",
        "num_rows, num_cols = reframed.shape\n",
        "n = print (num_cols)\n",
        "n"
      ],
      "execution_count": 63,
      "outputs": [
        {
          "output_type": "stream",
          "text": [
            "8\n",
            "time: 11.4 ms (started: 2021-05-15 15:25:20 +00:00)\n"
          ],
          "name": "stdout"
        }
      ]
    },
    {
      "cell_type": "code",
      "metadata": {
        "colab": {
          "base_uri": "https://localhost:8080/"
        },
        "id": "kJRof--9mBX6",
        "outputId": "868f8356-f9d6-44ee-dff4-3fc084a7e10d"
      },
      "source": [
        "# drop columns we don't want to predict\n",
        "n = 7 # number of last column (from above) minus 1 (the index column)\n",
        "reframed.drop(reframed.columns[[n]], axis=1, inplace=True)\n",
        "print(reframed.head())"
      ],
      "execution_count": 64,
      "outputs": [
        {
          "output_type": "stream",
          "text": [
            "    var1(t-3)   var2(t-3)   var1(t-2)  ...   var1(t-1)   var2(t-1)     var1(t)\n",
            "3  265.510010  280.420013  264.570007  ...  269.399994  279.489990  262.410004\n",
            "4  264.570007  285.869995  269.399994  ...  262.410004  282.350006  264.649994\n",
            "5  269.399994  279.489990  262.410004  ...  264.649994  284.059998  265.739990\n",
            "6  262.410004  282.350006  264.649994  ...  265.739990  286.149994  267.220001\n",
            "7  264.649994  284.059998  265.739990  ...  267.220001  285.769989  266.230011\n",
            "\n",
            "[5 rows x 7 columns]\n",
            "time: 27.8 ms (started: 2021-05-15 15:25:20 +00:00)\n"
          ],
          "name": "stdout"
        }
      ]
    },
    {
      "cell_type": "markdown",
      "metadata": {
        "id": "JZePo4QpmBX6"
      },
      "source": [
        "#### **Shape for LSTM**"
      ]
    },
    {
      "cell_type": "code",
      "metadata": {
        "colab": {
          "base_uri": "https://localhost:8080/"
        },
        "id": "16qws5RGmBX6",
        "outputId": "dc48520e-7e94-42fd-a2a0-7a51448001ed"
      },
      "source": [
        "# how many rows (time stamps)?\n",
        "reframed.shape[0]"
      ],
      "execution_count": 65,
      "outputs": [
        {
          "output_type": "execute_result",
          "data": {
            "text/plain": [
              "2512"
            ]
          },
          "metadata": {
            "tags": []
          },
          "execution_count": 65
        },
        {
          "output_type": "stream",
          "text": [
            "time: 4.95 ms (started: 2021-05-15 15:25:20 +00:00)\n"
          ],
          "name": "stdout"
        }
      ]
    },
    {
      "cell_type": "code",
      "metadata": {
        "colab": {
          "base_uri": "https://localhost:8080/"
        },
        "id": "GrUkY1-tmBX6",
        "outputId": "600ae28d-4b79-4727-fcfd-3fa16e35b3bf"
      },
      "source": [
        "values = reframed.values\n",
        "train_time = 2000\n",
        "train = values[:train_time, :]\n",
        "test = values[train_time:, :]"
      ],
      "execution_count": 66,
      "outputs": [
        {
          "output_type": "stream",
          "text": [
            "time: 3.73 ms (started: 2021-05-15 15:25:20 +00:00)\n"
          ],
          "name": "stdout"
        }
      ]
    },
    {
      "cell_type": "code",
      "metadata": {
        "colab": {
          "base_uri": "https://localhost:8080/"
        },
        "id": "mOWb0jxsmBX7",
        "outputId": "47195aa2-2ee0-4fb3-9a55-dc0b7fb41607"
      },
      "source": [
        "# split into input and outputs\n",
        "n_obs = windows * features\n",
        "train_X, train_y = train[:, :n_obs], train[:, -features]\n",
        "test_X, test_y = test[:, :n_obs], test[:, -features]\n",
        "print(train_X.shape, len(train_X), train_y.shape)"
      ],
      "execution_count": 67,
      "outputs": [
        {
          "output_type": "stream",
          "text": [
            "(2000, 6) 2000 (2000,)\n",
            "time: 5.78 ms (started: 2021-05-15 15:25:20 +00:00)\n"
          ],
          "name": "stdout"
        }
      ]
    },
    {
      "cell_type": "code",
      "metadata": {
        "colab": {
          "base_uri": "https://localhost:8080/"
        },
        "id": "_E3lYx9smBX7",
        "outputId": "eb1494dc-c71a-4f63-cbb2-00bcb26faa74"
      },
      "source": [
        "# reshape input to be 3D [samples, timesteps, features]\n",
        "train_X = train_X.reshape((train_X.shape[0], windows, features))\n",
        "test_X = test_X.reshape((test_X.shape[0], windows, features))"
      ],
      "execution_count": 68,
      "outputs": [
        {
          "output_type": "stream",
          "text": [
            "time: 4.78 ms (started: 2021-05-15 15:25:20 +00:00)\n"
          ],
          "name": "stdout"
        }
      ]
    },
    {
      "cell_type": "code",
      "metadata": {
        "colab": {
          "base_uri": "https://localhost:8080/"
        },
        "id": "1ov2D8fRmBX7",
        "outputId": "122b31bc-a831-41e8-ebf5-4a9965a8a69a"
      },
      "source": [
        "print(test_X.shape, len(test_X), test_y.shape)"
      ],
      "execution_count": 69,
      "outputs": [
        {
          "output_type": "stream",
          "text": [
            "(512, 3, 2) 512 (512,)\n",
            "time: 3.17 ms (started: 2021-05-15 15:25:20 +00:00)\n"
          ],
          "name": "stdout"
        }
      ]
    },
    {
      "cell_type": "code",
      "metadata": {
        "colab": {
          "base_uri": "https://localhost:8080/"
        },
        "id": "H1Q51ZQYmBX7",
        "outputId": "34fc5a20-b4a4-40cf-edfd-dc1c65cb69cb"
      },
      "source": [
        "test_X"
      ],
      "execution_count": 70,
      "outputs": [
        {
          "output_type": "execute_result",
          "data": {
            "text/plain": [
              "array([[[1102.61, 1117.76],\n",
              "        [1105.52, 1135.12],\n",
              "        [1122.26, 1135.24]],\n",
              "\n",
              "       [[1105.52, 1135.12],\n",
              "        [1122.26, 1135.24],\n",
              "        [1121.76, 1146.08]],\n",
              "\n",
              "       [[1122.26, 1135.24],\n",
              "        [1121.76, 1146.08],\n",
              "        [1131.98, 1144.51]],\n",
              "\n",
              "       ...,\n",
              "\n",
              "       [[1484.4 , 1469.04],\n",
              "        [1485.95, 1469.12],\n",
              "        [1486.65, 1448.56]],\n",
              "\n",
              "       [[1485.95, 1469.12],\n",
              "        [1486.65, 1448.56],\n",
              "        [1466.71, 1415.14]],\n",
              "\n",
              "       [[1486.65, 1448.56],\n",
              "        [1466.71, 1415.14],\n",
              "        [1433.9 , 1433.18]]], dtype=float32)"
            ]
          },
          "metadata": {
            "tags": []
          },
          "execution_count": 70
        },
        {
          "output_type": "stream",
          "text": [
            "time: 6.14 ms (started: 2021-05-15 15:25:20 +00:00)\n"
          ],
          "name": "stdout"
        }
      ]
    },
    {
      "cell_type": "markdown",
      "metadata": {
        "id": "DSzFaMbHmBX7"
      },
      "source": [
        "## **Model Fitting & Forecasting**"
      ]
    },
    {
      "cell_type": "markdown",
      "metadata": {
        "id": "H9SZTE-SmBX7"
      },
      "source": [
        "#### **Create & Train Model**"
      ]
    },
    {
      "cell_type": "code",
      "metadata": {
        "colab": {
          "base_uri": "https://localhost:8080/"
        },
        "id": "xj2j4HTkmBX8",
        "outputId": "e23d0f09-f7fa-4c99-8831-69ff935b78fb"
      },
      "source": [
        "# design network\n",
        "model = Sequential()\n",
        "model.add(LSTM(50, input_shape=(train_X.shape[1], train_X.shape[2])))\n",
        "model.add(Dense(10))\n",
        "model.add(Dense(1))\n",
        "model.compile(loss='mae', optimizer='adam')"
      ],
      "execution_count": 71,
      "outputs": [
        {
          "output_type": "stream",
          "text": [
            "time: 311 ms (started: 2021-05-15 15:25:20 +00:00)\n"
          ],
          "name": "stdout"
        }
      ]
    },
    {
      "cell_type": "code",
      "metadata": {
        "colab": {
          "base_uri": "https://localhost:8080/"
        },
        "id": "QFFTL99omBX8",
        "outputId": "9b0d38c3-060e-43cc-8262-dfa7d947182b"
      },
      "source": [
        "model.summary()"
      ],
      "execution_count": 72,
      "outputs": [
        {
          "output_type": "stream",
          "text": [
            "Model: \"sequential_1\"\n",
            "_________________________________________________________________\n",
            "Layer (type)                 Output Shape              Param #   \n",
            "=================================================================\n",
            "lstm_1 (LSTM)                (None, 50)                10600     \n",
            "_________________________________________________________________\n",
            "dense_2 (Dense)              (None, 10)                510       \n",
            "_________________________________________________________________\n",
            "dense_3 (Dense)              (None, 1)                 11        \n",
            "=================================================================\n",
            "Total params: 11,121\n",
            "Trainable params: 11,121\n",
            "Non-trainable params: 0\n",
            "_________________________________________________________________\n",
            "time: 9.51 ms (started: 2021-05-15 15:25:20 +00:00)\n"
          ],
          "name": "stdout"
        }
      ]
    },
    {
      "cell_type": "code",
      "metadata": {
        "colab": {
          "base_uri": "https://localhost:8080/"
        },
        "id": "GG2U85n0mBX8",
        "outputId": "664a5ebc-79c7-4d2e-b35e-11e2b7496d97"
      },
      "source": [
        "# Fit model\n",
        "history = model.fit(train_X, train_y, \n",
        "                    epochs=20, \n",
        "                    batch_size=72, \n",
        "                    validation_data=(test_X, test_y), \n",
        "                    verbose=1, \n",
        "                    shuffle=False)"
      ],
      "execution_count": 73,
      "outputs": [
        {
          "output_type": "stream",
          "text": [
            "Epoch 1/20\n",
            "28/28 [==============================] - 2s 22ms/step - loss: 388.7041 - val_loss: 1222.2377\n",
            "Epoch 2/20\n",
            "28/28 [==============================] - 0s 5ms/step - loss: 386.7884 - val_loss: 1220.0491\n",
            "Epoch 3/20\n",
            "28/28 [==============================] - 0s 5ms/step - loss: 384.3222 - val_loss: 1217.0804\n",
            "Epoch 4/20\n",
            "28/28 [==============================] - 0s 5ms/step - loss: 381.3419 - val_loss: 1213.9192\n",
            "Epoch 5/20\n",
            "28/28 [==============================] - 0s 5ms/step - loss: 377.9174 - val_loss: 1209.9927\n",
            "Epoch 6/20\n",
            "28/28 [==============================] - 0s 5ms/step - loss: 373.7392 - val_loss: 1205.3843\n",
            "Epoch 7/20\n",
            "28/28 [==============================] - 0s 5ms/step - loss: 368.9452 - val_loss: 1199.8325\n",
            "Epoch 8/20\n",
            "28/28 [==============================] - 0s 5ms/step - loss: 363.2334 - val_loss: 1193.8235\n",
            "Epoch 9/20\n",
            "28/28 [==============================] - 0s 5ms/step - loss: 357.0614 - val_loss: 1187.1646\n",
            "Epoch 10/20\n",
            "28/28 [==============================] - 0s 5ms/step - loss: 350.2081 - val_loss: 1179.4900\n",
            "Epoch 11/20\n",
            "28/28 [==============================] - 0s 5ms/step - loss: 342.2368 - val_loss: 1170.3174\n",
            "Epoch 12/20\n",
            "28/28 [==============================] - 0s 5ms/step - loss: 332.7118 - val_loss: 1160.2181\n",
            "Epoch 13/20\n",
            "28/28 [==============================] - 0s 5ms/step - loss: 322.4393 - val_loss: 1149.4877\n",
            "Epoch 14/20\n",
            "28/28 [==============================] - 0s 5ms/step - loss: 311.5529 - val_loss: 1138.1173\n",
            "Epoch 15/20\n",
            "28/28 [==============================] - 0s 5ms/step - loss: 300.0157 - val_loss: 1126.0728\n",
            "Epoch 16/20\n",
            "28/28 [==============================] - 0s 5ms/step - loss: 287.8010 - val_loss: 1113.3434\n",
            "Epoch 17/20\n",
            "28/28 [==============================] - 0s 5ms/step - loss: 274.9004 - val_loss: 1099.9270\n",
            "Epoch 18/20\n",
            "28/28 [==============================] - 0s 5ms/step - loss: 261.3129 - val_loss: 1085.8250\n",
            "Epoch 19/20\n",
            "28/28 [==============================] - 0s 5ms/step - loss: 247.0407 - val_loss: 1071.0408\n",
            "Epoch 20/20\n",
            "28/28 [==============================] - 0s 5ms/step - loss: 232.0873 - val_loss: 1055.5786\n",
            "time: 5.23 s (started: 2021-05-15 15:25:20 +00:00)\n"
          ],
          "name": "stdout"
        }
      ]
    },
    {
      "cell_type": "code",
      "metadata": {
        "colab": {
          "base_uri": "https://localhost:8080/",
          "height": 503
        },
        "id": "l8masor4mBX9",
        "outputId": "93338150-3590-461e-bdb7-0eb441e1dd07"
      },
      "source": [
        "# plot history\n",
        "pyplot.plot(history.history['loss'], label='train')\n",
        "pyplot.plot(history.history['val_loss'], label='test')\n",
        "pyplot.legend()\n",
        "pyplot.show()"
      ],
      "execution_count": 74,
      "outputs": [
        {
          "output_type": "display_data",
          "data": {
            "image/png": "[encoded data removed]",
            "text/plain": [
              "<Figure size 720x576 with 1 Axes>"
            ]
          },
          "metadata": {
            "tags": []
          }
        },
        {
          "output_type": "stream",
          "text": [
            "time: 568 ms (started: 2021-05-15 15:25:25 +00:00)\n"
          ],
          "name": "stdout"
        }
      ]
    },
    {
      "cell_type": "markdown",
      "metadata": {
        "id": "ZFL_HH5JmBX9"
      },
      "source": [
        "#### **Make a prediction**"
      ]
    },
    {
      "cell_type": "code",
      "metadata": {
        "colab": {
          "base_uri": "https://localhost:8080/"
        },
        "id": "hBWONEmZmBX9",
        "outputId": "b952641a-7f03-4a0c-eac1-ddc74d7941ad"
      },
      "source": [
        "# make a prediction\n",
        "yhat = model.predict(test_X)\n",
        "test_X = test_X.reshape((test_X.shape[0], windows*features))"
      ],
      "execution_count": 75,
      "outputs": [
        {
          "output_type": "stream",
          "text": [
            "time: 416 ms (started: 2021-05-15 15:25:26 +00:00)\n"
          ],
          "name": "stdout"
        }
      ]
    },
    {
      "cell_type": "code",
      "metadata": {
        "colab": {
          "base_uri": "https://localhost:8080/"
        },
        "id": "yyd-HVHamBX9",
        "outputId": "4f6cdab1-f05c-4594-be2a-4558ed0e0e6e"
      },
      "source": [
        "# Shape: 6 windows (3 timesteps for 2 features)\n",
        "test_X.shape[0], test_X.shape[1]"
      ],
      "execution_count": 76,
      "outputs": [
        {
          "output_type": "execute_result",
          "data": {
            "text/plain": [
              "(512, 6)"
            ]
          },
          "metadata": {
            "tags": []
          },
          "execution_count": 76
        },
        {
          "output_type": "stream",
          "text": [
            "time: 8.32 ms (started: 2021-05-15 15:25:26 +00:00)\n"
          ],
          "name": "stdout"
        }
      ]
    },
    {
      "cell_type": "code",
      "metadata": {
        "colab": {
          "base_uri": "https://localhost:8080/"
        },
        "id": "9KeCHOTGmBX9",
        "outputId": "fe84c58a-74c6-4444-e647-e227dfec5032"
      },
      "source": [
        "test_X [0:5]"
      ],
      "execution_count": 77,
      "outputs": [
        {
          "output_type": "execute_result",
          "data": {
            "text/plain": [
              "array([[1102.61, 1117.76, 1105.52, 1135.12, 1122.26, 1135.24],\n",
              "       [1105.52, 1135.12, 1122.26, 1135.24, 1121.76, 1146.08],\n",
              "       [1122.26, 1135.24, 1121.76, 1146.08, 1131.98, 1144.51],\n",
              "       [1121.76, 1146.08, 1131.98, 1144.51, 1129.79, 1152.85],\n",
              "       [1131.98, 1144.51, 1129.79, 1152.85, 1137.51, 1171.77]],\n",
              "      dtype=float32)"
            ]
          },
          "metadata": {
            "tags": []
          },
          "execution_count": 77
        },
        {
          "output_type": "stream",
          "text": [
            "time: 8.07 ms (started: 2021-05-15 15:25:26 +00:00)\n"
          ],
          "name": "stdout"
        }
      ]
    },
    {
      "cell_type": "code",
      "metadata": {
        "colab": {
          "base_uri": "https://localhost:8080/"
        },
        "id": "nCFmIuuImBX-",
        "outputId": "f89cce48-c9ae-447b-ff63-b19dca8fd63d"
      },
      "source": [
        "# Shape: one timestep forecasted for one feature\n",
        "yhat.shape[0], yhat.shape[1]"
      ],
      "execution_count": 78,
      "outputs": [
        {
          "output_type": "execute_result",
          "data": {
            "text/plain": [
              "(512, 1)"
            ]
          },
          "metadata": {
            "tags": []
          },
          "execution_count": 78
        },
        {
          "output_type": "stream",
          "text": [
            "time: 3.8 ms (started: 2021-05-15 15:25:26 +00:00)\n"
          ],
          "name": "stdout"
        }
      ]
    },
    {
      "cell_type": "code",
      "metadata": {
        "colab": {
          "base_uri": "https://localhost:8080/"
        },
        "id": "Ju37De9qmBX-",
        "outputId": "28fddbd6-5894-4244-a51e-774f4eb18275"
      },
      "source": [
        "yhat [0:5]"
      ],
      "execution_count": 79,
      "outputs": [
        {
          "output_type": "execute_result",
          "data": {
            "text/plain": [
              "array([[167.6799],\n",
              "       [167.6799],\n",
              "       [167.6799],\n",
              "       [167.6799],\n",
              "       [167.6799]], dtype=float32)"
            ]
          },
          "metadata": {
            "tags": []
          },
          "execution_count": 79
        },
        {
          "output_type": "stream",
          "text": [
            "time: 8.31 ms (started: 2021-05-15 15:25:26 +00:00)\n"
          ],
          "name": "stdout"
        }
      ]
    },
    {
      "cell_type": "markdown",
      "metadata": {
        "id": "HkUiR7ocmBX-"
      },
      "source": [
        "#### **Evaluate on Unnormalized Data**"
      ]
    },
    {
      "cell_type": "code",
      "metadata": {
        "colab": {
          "base_uri": "https://localhost:8080/"
        },
        "id": "Kv3OyxO4pYNE",
        "outputId": "addf8aa2-b77a-4d34-eb80-709b126eeaf8"
      },
      "source": [
        "# Check shape of data\n",
        "test_X.shape"
      ],
      "execution_count": 85,
      "outputs": [
        {
          "output_type": "execute_result",
          "data": {
            "text/plain": [
              "(512, 6)"
            ]
          },
          "metadata": {
            "tags": []
          },
          "execution_count": 85
        },
        {
          "output_type": "stream",
          "text": [
            "time: 3.86 ms (started: 2021-05-15 15:29:38 +00:00)\n"
          ],
          "name": "stdout"
        }
      ]
    },
    {
      "cell_type": "code",
      "metadata": {
        "colab": {
          "base_uri": "https://localhost:8080/"
        },
        "id": "quih6D8FmBX-",
        "outputId": "397fda35-ca56-411b-ad68-23c01cfbd8bd"
      },
      "source": [
        "# remove unnecessary data\n",
        "test_X_reshape = test_X[:, -1:]\n",
        "test_X_reshape [0:5]"
      ],
      "execution_count": 80,
      "outputs": [
        {
          "output_type": "execute_result",
          "data": {
            "text/plain": [
              "array([[1135.24],\n",
              "       [1146.08],\n",
              "       [1144.51],\n",
              "       [1152.85],\n",
              "       [1171.77]], dtype=float32)"
            ]
          },
          "metadata": {
            "tags": []
          },
          "execution_count": 80
        },
        {
          "output_type": "stream",
          "text": [
            "time: 8.62 ms (started: 2021-05-15 15:25:26 +00:00)\n"
          ],
          "name": "stdout"
        }
      ]
    },
    {
      "cell_type": "code",
      "metadata": {
        "colab": {
          "base_uri": "https://localhost:8080/",
          "height": 222
        },
        "id": "_MRfPCUrmBX-",
        "outputId": "91cb0e1c-69b2-4e57-eac4-c8836aa26aad"
      },
      "source": [
        "# Concatenate series\n",
        "df1 = pd.DataFrame(data=test_X_reshape, columns=['Actual'])\n",
        "df2 = pd.DataFrame(data=yhat, columns=['Forecast'])\n",
        "\n",
        "def residuals(Actual, Forecast):\n",
        "    # returns the difference between post and pre\n",
        "    return Actual - Forecast\n",
        "\n",
        "df = pd.concat([df1,df2], axis=1)\n",
        "df['Residuals'] = residuals(df['Actual'], df['Forecast'])\n",
        "df.head()"
      ],
      "execution_count": 81,
      "outputs": [
        {
          "output_type": "execute_result",
          "data": {
            "text/html": [
              "<div>\n",
              "<style scoped>\n",
              "    .dataframe tbody tr th:only-of-type {\n",
              "        vertical-align: middle;\n",
              "    }\n",
              "\n",
              "    .dataframe tbody tr th {\n",
              "        vertical-align: top;\n",
              "    }\n",
              "\n",
              "    .dataframe thead th {\n",
              "        text-align: right;\n",
              "    }\n",
              "</style>\n",
              "<table border=\"1\" class=\"dataframe\">\n",
              "  <thead>\n",
              "    <tr style=\"text-align: right;\">\n",
              "      <th></th>\n",
              "      <th>Actual</th>\n",
              "      <th>Forecast</th>\n",
              "      <th>Residuals</th>\n",
              "    </tr>\n",
              "  </thead>\n",
              "  <tbody>\n",
              "    <tr>\n",
              "      <th>0</th>\n",
              "      <td>1135.239990</td>\n",
              "      <td>167.679901</td>\n",
              "      <td>967.560059</td>\n",
              "    </tr>\n",
              "    <tr>\n",
              "      <th>1</th>\n",
              "      <td>1146.079956</td>\n",
              "      <td>167.679901</td>\n",
              "      <td>978.400024</td>\n",
              "    </tr>\n",
              "    <tr>\n",
              "      <th>2</th>\n",
              "      <td>1144.510010</td>\n",
              "      <td>167.679901</td>\n",
              "      <td>976.830078</td>\n",
              "    </tr>\n",
              "    <tr>\n",
              "      <th>3</th>\n",
              "      <td>1152.849976</td>\n",
              "      <td>167.679901</td>\n",
              "      <td>985.170044</td>\n",
              "    </tr>\n",
              "    <tr>\n",
              "      <th>4</th>\n",
              "      <td>1171.770020</td>\n",
              "      <td>167.679901</td>\n",
              "      <td>1004.090088</td>\n",
              "    </tr>\n",
              "  </tbody>\n",
              "</table>\n",
              "</div>"
            ],
            "text/plain": [
              "        Actual    Forecast    Residuals\n",
              "0  1135.239990  167.679901   967.560059\n",
              "1  1146.079956  167.679901   978.400024\n",
              "2  1144.510010  167.679901   976.830078\n",
              "3  1152.849976  167.679901   985.170044\n",
              "4  1171.770020  167.679901  1004.090088"
            ]
          },
          "metadata": {
            "tags": []
          },
          "execution_count": 81
        },
        {
          "output_type": "stream",
          "text": [
            "time: 17.8 ms (started: 2021-05-15 15:25:26 +00:00)\n"
          ],
          "name": "stdout"
        }
      ]
    },
    {
      "cell_type": "code",
      "metadata": {
        "colab": {
          "base_uri": "https://localhost:8080/",
          "height": 374
        },
        "id": "jub9SDbamBX_",
        "outputId": "cbfc4c36-b8e8-4fbe-f3b4-8f439cfbd95f"
      },
      "source": [
        "# Plot Residuals\n",
        "sns.set(rc={'figure.figsize':(10, 5)})\n",
        "df[['Residuals']].plot(title='Residuals')"
      ],
      "execution_count": 82,
      "outputs": [
        {
          "output_type": "execute_result",
          "data": {
            "text/plain": [
              "<matplotlib.axes._subplots.AxesSubplot at 0x7f4ee7dc9710>"
            ]
          },
          "metadata": {
            "tags": []
          },
          "execution_count": 82
        },
        {
          "output_type": "display_data",
          "data": {
            "image/png": "[encoded data removed]",
            "text/plain": [
              "<Figure size 720x360 with 1 Axes>"
            ]
          },
          "metadata": {
            "tags": []
          }
        },
        {
          "output_type": "stream",
          "text": [
            "time: 377 ms (started: 2021-05-15 15:25:26 +00:00)\n"
          ],
          "name": "stdout"
        }
      ]
    },
    {
      "cell_type": "code",
      "metadata": {
        "colab": {
          "base_uri": "https://localhost:8080/",
          "height": 374
        },
        "id": "4M2tMt5MmBX_",
        "outputId": "1087220a-85c8-4529-bf1e-69d7d8858f3f"
      },
      "source": [
        "# Plot Actual vs Forecast Values\n",
        "sns.set(rc={'figure.figsize':(10, 5)})\n",
        "df[['Actual', 'Forecast']].plot(title='Actual vs Forecast')"
      ],
      "execution_count": 83,
      "outputs": [
        {
          "output_type": "execute_result",
          "data": {
            "text/plain": [
              "<matplotlib.axes._subplots.AxesSubplot at 0x7f4ee900d710>"
            ]
          },
          "metadata": {
            "tags": []
          },
          "execution_count": 83
        },
        {
          "output_type": "display_data",
          "data": {
            "image/png": "[encoded data removed]",
            "text/plain": [
              "<Figure size 720x360 with 1 Axes>"
            ]
          },
          "metadata": {
            "tags": []
          }
        },
        {
          "output_type": "stream",
          "text": [
            "time: 389 ms (started: 2021-05-15 15:25:27 +00:00)\n"
          ],
          "name": "stdout"
        }
      ]
    },
    {
      "cell_type": "code",
      "metadata": {
        "colab": {
          "base_uri": "https://localhost:8080/"
        },
        "id": "XgdhBuskmBX_",
        "outputId": "447586b3-23fd-4635-e62d-db5f2fa87084"
      },
      "source": [
        "rmse = sqrt(mean_squared_error(inv_y, inv_yhat))\n",
        "print('Test RMSE: %.2f' % rmse)"
      ],
      "execution_count": 84,
      "outputs": [
        {
          "output_type": "stream",
          "text": [
            "Test RMSE: 16.05\n",
            "time: 2.65 ms (started: 2021-05-15 15:25:27 +00:00)\n"
          ],
          "name": "stdout"
        }
      ]
    }
  ]
}