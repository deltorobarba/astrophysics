{
  "nbformat": 4,
  "nbformat_minor": 0,
  "metadata": {
    "colab": {
      "provenance": [],
      "collapsed_sections": [
        "6IeXoanHRwy3",
        "1Amg0O9YxNcY",
        "zXJ4KIadIPuy",
        "5_P1_6vvyHEc",
        "uM9V1BBQGHTy",
        "vOqtFAy5GKtG",
        "EkdQBmsWyXyQ",
        "NpX_msD1vmi-",
        "-bgPYHGr1kCz",
        "KMsbZlxPt-Ec",
        "2g4g4-lesqTB",
        "XFxhMEfyzVCn",
        "sn4LwsmviwZx",
        "MZO0odc6qWrf"
      ],
      "authorship_tag": "ABX9TyPiSN/pILs6bLzQhmV+f96J",
      "include_colab_link": true
    },
    "kernelspec": {
      "name": "python3",
      "display_name": "Python 3"
    },
    "language_info": {
      "name": "python"
    }
  },
  "cells": [
    {
      "cell_type": "markdown",
      "metadata": {
        "id": "view-in-github",
        "colab_type": "text"
      },
      "source": [
        "<a href=\"https://colab.research.google.com/github/deltorobarba/sciences/blob/master/coding.ipynb\" target=\"_parent\"><img src=\"https://colab.research.google.com/assets/colab-badge.svg\" alt=\"Open In Colab\"/></a>"
      ]
    },
    {
      "cell_type": "markdown",
      "source": [
        "# <font color=\"blue\">**Coding 🦋**"
      ],
      "metadata": {
        "id": "V8qJko6svMQ4"
      }
    },
    {
      "cell_type": "markdown",
      "source": [
        "![sciences](https://raw.githubusercontent.com/deltorobarba/repo/master/sciences_0000.png)"
      ],
      "metadata": {
        "id": "laPmL-aevP88"
      }
    },
    {
      "cell_type": "markdown",
      "source": [
        "##### <font color=\"blue\">*Transistors*"
      ],
      "metadata": {
        "id": "6IeXoanHRwy3"
      }
    },
    {
      "cell_type": "markdown",
      "source": [
        "**Chips und Transistoren**\n",
        "\n",
        "https://www.heise.de/news/Intel-und-TSMC-arbeiten-an-Transistoren-der-Zukunft-9568367.html\n",
        "\n",
        "https://www.golem.de/news/smic-3-nm-prozessoren-aus-china-auch-ohne-westliche-unterstuetzung-2312-180619.amp.html\n",
        "\n",
        "https://www.pcgameshardware.de/CPU-CPU-154106/News/Doppelte-Dichte-TSMC-CFET-Fertigung-90-Prozent-Yield-1436998/\n",
        "\n",
        "https://www.tomshardware.com/tech-industry/semiconductors/intels-ceo-says-moores-law-is-slowing-to-a-three-year-cadence-but-its-not-dead-yet\n"
      ],
      "metadata": {
        "id": "wzyPXaZ2R53L"
      }
    },
    {
      "cell_type": "markdown",
      "source": [
        "**Physical Limits of Moore's Law**\n",
        "\n",
        "https://www.derstandard.de/story/3000000201716/auf-dem-weg-zu-graphen-chips-der-zukunft\n",
        "\n",
        "https://www.derstandard.at/story/2000143050519/chipherstellung-2d-kristalle-sollen-moores-law-zurueckbringen\n",
        "\n",
        "* [Moore's Law](https://en.m.wikipedia.org/wiki/Moore%27s_law), *Keywords: Wafer, semiconductor, microchips, silicon, transistors*\n",
        "\n",
        "* We have 1000x1000x1000 atoms distance. for quantum tunneling we would need 10x10x10\n",
        "\n",
        "* exponential improvement is the result of 1000 innovations at the same time\n",
        "\n",
        "* [Jim Keller: Moore's Law, Microprocessors, and First Principles | Lex Fridman Podcast #70](https://www.youtube.com/watch?v=Nb2tebYAaOA)\n",
        "\n",
        "* **Silicium** ist [Halbleiter](https://www.halbleiter.org/waferherstellung/silicium/): Leitfähigkeit zwischen der von Leitern und Nichtleitern. [Mikroelektronik](https://de.m.wikipedia.org/wiki/Mikroelektronik) und [Computerchips](https://de.m.wikipedia.org/wiki/Integrierter_Schaltkreis). Reinheitsgrade elementares Silicium: **Sieg** (electronic grade, Halbleitersilicium, Verunreinigungen kleiner 10^−9).\n",
        "\n",
        "* **Alternative: 2D waferswith molten sodium molybdate salt (Na₂MoO₄)** [Source (dt)](https://efahrer.chip.de/news/china-entwickelt-ultraduenne-halbleiter-revolution-in-der-technologiebranche_1014836) & [Source (en)](https://www.scmp.com/news/china/science/article/3232116/revolutionising-semiconductor-industry-chinese-scientists-unveil-12-inch-wafer-groundbreaking-2d)\n",
        "  * Ultra-thin 2D semiconductor: thickness is hardly higher than **thickness of an atom**. The layer is almost two-dimensional.\n",
        "  * succeeded in making 12-inch wafers (300 millimeters in diameter) from the material (standard measure for wafers in semiconductors).\n",
        "  * \"When silicon transistors become thinner, control of voltage deteriorates. Electricity flows even when device is not working. This brings additional energy costs and heat development\"\n",
        "  * For 2D wafers: molten sodium molybdate salt (Na2MoO4) - makes easier to control tension.\n",
        "\n",
        "* ***The size of today's transistors and microchips is measured in nanometers (nm). As of 2023, the smallest transistors that have been produced are around 5nm in size. This means that 5 billion transistors can fit on a single square millimeter of chip.***\n",
        "\n",
        "* The size of microchips is measured in square millimeters (mm2). The largest microchips that are currently being produced are around 1,000mm2 in size. These chips can contain tens of billions of transistors.\n",
        "\n",
        "* Moore's law states that the number of transistors on a microchip doubles every two years. This has held true for over 50 years, but there are signs that it is starting to slow down. This is because it is becoming increasingly difficult to manufacture transistors that are smaller and smaller.\n",
        "\n"
      ],
      "metadata": {
        "id": "DnUtKY5hSAgc"
      }
    },
    {
      "cell_type": "markdown",
      "source": [
        "* ***How many atoms distance have today‘s smallest transistors?***\n",
        "\n",
        "* The smallest transistors that have been produced as of 2023 are around 5nm in size. A silicon atom is about 0.117nm in diameter. This means that the smallest transistors are about 43 atoms wide.\n",
        "\n",
        "* However, it is important to note that the gate length of a transistor is not the only factor that determines its size. The transistor also has other components, such as the source, drain, and body. These components also take up space.\n",
        "\n",
        "* As a result, the actual size of a transistor is typically larger than the gate length. For example, a 5nm transistor might actually be 10nm or more in width.\n",
        "\n",
        "* This means that the smallest transistors today are made up of hundreds or even thousands of atoms.\n",
        "\n",
        "* It is also important to note that the size of transistors is constantly shrinking. Researchers are working on developing new materials and manufacturing techniques that will allow them to produce even smaller transistors.\n",
        "\n",
        "* So, the answer to the question of how many atoms distance today's smallest transistors have is that it depends on how you measure it. If you measure the gate length, then the smallest transistors are about 43 atoms wide. However, if you measure the overall size of the transistor, then the smallest transistors are made up of hundreds or even thousands of atoms.\n",
        "\n",
        "* ***And is it true that transistors need a distance of 10 atoms ao that for quantum tunneling takes effect and limits further shrinking physically?***\n",
        "\n",
        "* Yes, it is true that transistors need a distance of about 10 atoms in order for quantum tunneling to take effect and limit further shrinking physically.\n",
        "\n",
        "* Quantum tunneling is a phenomenon in which particles can pass through barriers that they would not be able to overcome classically. This is because particles have a wave-like nature, and they can have a certain probability of being found on the other side of a barrier, even if they do not have enough energy to overcome it.\n",
        "\n",
        "* In the case of transistors, quantum tunneling can cause electrons to leak from the source to the drain, even when the transistor is turned off. This can lead to increased power consumption and reduced performance.\n",
        "\n",
        "* The distance at which quantum tunneling becomes a problem depends on a number of factors, including the height of the barrier and the energy of the particles. However, it is generally believed that quantum tunneling becomes a significant problem when the distance between the source and drain is less than about 10 atoms.\n",
        "\n",
        "* This means that the smallest transistors that can be made using current technology are around 10nm in size. However, researchers are working on new materials and manufacturing techniques that could allow them to produce even smaller transistors in the future.\n",
        "\n",
        "* One way to reduce the effects of quantum tunneling is to use new materials that have a higher bandgap. The bandgap is the energy difference between the valence band and the conduction band. Electrons in the valence band are bound to atoms, while electrons in the conduction band are free to move around. The higher the bandgap, the more energy it takes for an electron to move from the valence band to the conduction band.\n",
        "\n",
        "* Another way to reduce the effects of quantum tunneling is to use new manufacturing techniques that create sharper interfaces between the different layers of the transistor. This helps to create a higher barrier that electrons need to tunnel through.\n",
        "\n",
        "* Researchers are also investigating new transistor designs that are less susceptible to quantum tunneling. For example, some researchers are developing transistors that use vertical channels instead of horizontal channels. Vertical channels are more difficult for electrons to tunnel through than horizontal channels.\n",
        "\n",
        "* It is still too early to say when or if transistors that are smaller than 10nm will be possible to manufacture. However, the research that is being done in this area is very promising.\n",
        "\n"
      ],
      "metadata": {
        "id": "ZeuqaZABR9i-"
      }
    },
    {
      "cell_type": "markdown",
      "source": [
        "**Physical Limits of CPU-Clockspeed**\n",
        "* There are a few reasons why CPU clock speed is not increasing anymore. See article: [why-cpu-clock-speed-isnt-increasing](https://www.maketecheasier.com/why-cpu-clock-speed-isnt-increasing/)\n",
        "* **The physical limits of transistors.** Transistors are the basic building blocks of a CPU, and they can only switch so fast. As transistors get smaller, they also get slower. This is because the distance between the transistors gets smaller, and the electrons have to travel a shorter distance to switch them on and off.\n",
        "* **The power consumption of CPUs.** As the clock speed of a CPU increases, so does its power consumption. This is because the transistors have to switch more often, and this requires more energy.\n",
        "* **The heat generated by CPUs.** When a CPU consumes more power, it also generates more heat. This heat can cause the CPU to throttle its clock speed, or even shut down, to prevent damage.\n",
        "* As a result of these factors, CPU manufacturers have shifted their focus to other ways to improve CPU performance, such as increasing the number of cores and using new technologies like multithreading.\n",
        "* Here are some of the ways that CPU manufacturers are increasing performance without increasing clock speed:\n",
        "\n",
        "  * **Adding more cores.** A CPU with multiple cores can run multiple tasks at the same time, which can significantly improve performance.\n",
        "  * **Using multithreading.** Multithreading allows a single core to run multiple tasks by dividing each task into smaller parts that can be executed independently.\n",
        "  * **Using new technologies.** New technologies such as 3D stacking and chiplets are allowing CPU manufacturers to pack more transistors into a smaller space, which can improve performance without increasing clock speed.\n"
      ],
      "metadata": {
        "id": "TN3MLVdwSCzk"
      }
    },
    {
      "cell_type": "markdown",
      "source": [
        "**Zero power computing**:\n",
        "* a perfect fredkin gate doesnt cost energy! (Information theory & Entropy Limits) [How to Perform Calculations Using Zero Power](https://medium.com/hackernoon/zero-power-computing-how-to-perform-calculations-using-zero-power-e2b4bfcd4d7e).\n",
        "* **What costs the energy is not the computation itself, but‘s the raising information**. Take a look at this original Fredkin/Toffoli paper on the subject, section 5 (**nondissipative computation**): https://cqi.inf.usi.ch/qic/82_Fredkin.pdf.\n",
        "* Fredkin: 3 in 3 out, reversable?[Fredkin gate](https://www.wikiwand.com/en/Fredkin_gate). Stackexchange: [Why are reversible gates not used?](https://cs.stackexchange.com/questions/38049/why-are-reversible-gates-not-used/38053#38053).\n",
        "* Science: [A quantum Fredkin gate](https://www.science.org/doi/10.1126/sciadv.1501531). Paper: Thermodynamic [The Cost of computation](https://arxiv.org/abs/1905.05669).\n",
        "\n",
        "\n"
      ],
      "metadata": {
        "id": "7P8TyPKLSga0"
      }
    },
    {
      "cell_type": "markdown",
      "source": [
        "##### <font color=\"blue\">*LLM*"
      ],
      "metadata": {
        "id": "1Amg0O9YxNcY"
      }
    },
    {
      "cell_type": "markdown",
      "source": [
        "https://medium.com/@jwbtmf/computational-learning-theory-in-machine-learning-105deb44843c"
      ],
      "metadata": {
        "id": "7U-w9IxXIFin"
      }
    },
    {
      "cell_type": "markdown",
      "source": [
        "https://cloud.google.com/vertex-ai/docs/generative-ai/learn/overview\n",
        "\n",
        "https://www.linkedin.com/in/deltorobarba/recent-activity/reactions/\n",
        "\n",
        "![sciences](https://raw.githubusercontent.com/deltorobarba/repo/master/sciences_1699.jpeg)"
      ],
      "metadata": {
        "id": "ImUnO-bDTkNT"
      }
    },
    {
      "cell_type": "markdown",
      "source": [
        "*Token*\n",
        "\n",
        "* basic unit of text representation.\n",
        "* sequences of characters that are treated as individual elements in the LLM's internal representation of the input text.\n",
        "* used to build up more complex language structures, such as words, phrases, and sentences.\n",
        "* Tokenization is the process of breaking down a piece of text into tokens. This can be done using various methods, such as word-level tokenization, character-level tokenization, or subword tokenization. The choice of tokenization method depends on the specific task and the characteristics of the input text.\n",
        "* LLMs use tokens to extract features from the input text and to generate output text. For example, when generating text, the LLM will consider the surrounding tokens to determine the most likely next word or phrase. Tokens also play a role in LLM performance evaluation. Evaluation metrics such as accuracy and F1 score are often calculated based on the similarity between predicted and ground truth tokens.\n",
        "  * Text-to-text translation: When translating a sentence from one language to another, the LLM breaks down the input sentence into tokens and then uses these tokens to generate the corresponding tokens in the target language.\n",
        "  * Text summarization: When summarizing a document, the LLM identifies the most important tokens in the document and then uses these tokens to generate a concise summary.\n",
        "  * Question answering: When answering a question about a text, the LLM extracts the relevant tokens from the text and uses these tokens to identify the answer to the question."
      ],
      "metadata": {
        "id": "C2x7aHgiWuOH"
      }
    },
    {
      "cell_type": "markdown",
      "source": [
        "*Evaluation*\n",
        "\n",
        "**AutoSxS**\n",
        "\n",
        "https://cloud.google.com/vertex-ai/docs/generative-ai/models/side-by-side-eval\n",
        "\n",
        "**Metrics-based evaluation**\n",
        "\n",
        "https://cloud.google.com/vertex-ai/docs/generative-ai/models/evaluate-models\n",
        "\n",
        "**Vertex AI Model Evaluation**\n",
        "\n",
        "Vertex AI Model Evaluation provides a comprehensive framework for evaluating LLMs across a wide range of tasks, including natural language understanding (NLU), natural language generation (NLG), and question answering. It allows you to define custom evaluation metrics and compare performance over time.\n",
        "\n"
      ],
      "metadata": {
        "id": "d2RwjKyMVbg2"
      }
    },
    {
      "cell_type": "markdown",
      "source": [
        "*Grounding*\n",
        "\n",
        "https://cloud.google.com/vertex-ai/docs/generative-ai/grounding/overview\n",
        "\n",
        "Grounding in large language models (LLMs) refers to the process of connecting their responses to real-world entities and concepts. This is crucial for ensuring that LLMs generate accurate, relevant, and meaningful outputs. LLMs are trained on massive datasets of text and code, but this knowledge is often abstract and lacks specific context. Grounding allows LLMs to access and incorporate external information to make their responses more grounded in reality.\n",
        "\n",
        "There are several different approaches to grounding LLMs, but they typically involve some combination of the following techniques:\n",
        "\n",
        "* **Knowledge base access:** LLMs can be connected to knowledge bases, such as Wikidata or Google Search, to access information about real-world entities and concepts. This information can be used to refine and improve their responses.\n",
        "* **Data retrieval:** LLMs can be used to retrieve relevant data from external sources, such as databases or web pages. This data can then be used to ground their responses in real-world context.\n",
        "* **Physical interaction:** In some cases, LLMs can be directly connected to the real world through sensors and actuators. This allows them to interact with their environment and gather information directly.\n",
        "\n",
        "Grounding is an essential part of developing reliable and useful LLMs. By grounding their responses in real-world knowledge, LLMs can be more accurate, relevant, and informative. This makes them more suitable for a wider range of applications, such as question answering, summarization, and natural language generation.\n",
        "\n",
        "Here are some of the benefits of grounding LLMs:\n",
        "\n",
        "* **Improved accuracy:** Grounding can help to reduce the number of factual errors in LLM responses.\n",
        "* **Increased relevance:** Grounding can help to ensure that LLM responses are relevant to the context in which they are generated.\n",
        "* **Enhanced creativity:** Grounding can help LLMs to generate more creative and interesting text formats.\n",
        "* **Expanded capabilities:** Grounding can allow LLMs to perform tasks that require more knowledge of the real world, such as answering questions about physical entities or events.\n",
        "\n",
        "Overall, grounding is a powerful technique for improving the performance and usefulness of large language models. As LLMs continue to develop, grounding is likely to play an even more important role in their development and application."
      ],
      "metadata": {
        "id": "HcdUr67tZ6JW"
      }
    },
    {
      "cell_type": "markdown",
      "source": [
        "*Finetuning LLMs*\n",
        "\n",
        "* Supervised\n",
        "* RLHF\n",
        "* Distillation\n",
        "* deprecated: Parameter-Efficient Fine-Tuning using PEFT: https://arxiv.org/abs/2312.12148\n",
        "* pending (?): Lora and QLora\n",
        "  * LoRA: Low-Rank Adaptation of Large Language Models\n",
        "  * Edward J. Hu*, Yelong Shen*, Phillip Wallis, Zeyuan Allen-Zhu, Yuanzhi Li, Shean Wang, Lu Wang, Weizhu Chen\n",
        "  * Paper: https://arxiv.org/abs/2106.09685\n",
        "  * Video explainer: https://www.youtube.com/watch?v=DhRoTONcyZE\n",
        "  * https://github.com/microsoft/LoRA\n",
        "\n",
        "https://www.analyticsvidhya.com/blog/2023/08/fine-tuning-large-language-models/\n",
        "\n",
        "https://www.deeplearning.ai/short-courses/finetuning-large-language-models/"
      ],
      "metadata": {
        "id": "m9H6aCIAzWjg"
      }
    },
    {
      "cell_type": "markdown",
      "source": [
        "**Direct Preference Optimization (DPO)**\n",
        "\n",
        "Interesting article from Andrew Ng about a new research paper that proposes DPO (direct preference optimization) over RLHF. A promise is that you won‘t need to deal with a separately represented reward function -- you just need the LLM transformer -- and you can train the LLM directly and more efficiently to optimize the same objective as RLHF. Enjoy the read 🤓🙌\n",
        "\n",
        "https://www.deeplearning.ai/the-batch/issue-231/\n",
        "\n",
        "https://browse.arxiv.org/html/2305.18290v2\n",
        "\n",
        "https://magazine.sebastianraschka.com/p/10-ai-research-papers-2023\n",
        "\n",
        "and here his thoughts more ind details in case you dont want to read the paper: https://magazine.sebastianraschka.com/p/llm-training-rlhf-and-its-alternatives\n",
        "\n",
        "\n",
        "Direct Preference Optimization (DPO) is pretty amazing. Surely, it can't be this straightforward to replace the whole reinforcement learning on human feedback (RLHF) phase?\n",
        "1. Treat a foundational (or instruction tuned) LLM\n",
        "as the reference LLM\n",
        "1.    Generate pairs of outputs to prompts and have humans choose which one they like (human feedback)\n",
        "2.    Add a linear layer to the LLM so that it outputs a scalar value, and tune this new model with a new loss function (compute log-ratio of scalar outputs of the reference LLM and the one being tuned, multiply by a divergence parameter ... -- very cool math insight here, but end-of-the-day this is just a new training loss function called dpo_loss or something that Keras and Pytorch will ship with)\n",
        "3.    Drop the last linear layer, and you have a fine tuned LLM on human feedback\n",
        "Amazing stuff. RLHF was the most dicey part of LLM training and the one that needed the most art vs science. Expect a lot of convergence between LLMs trained on the same data\n",
        "\n",
        "---\n",
        "\n",
        "Direct Preference Optimization (DPO) in the context of machine learning, and specifically for large language models (LLMs) like GPT-3 or GPT-4, is an approach that focuses on optimizing the model's outputs based directly on human preferences. This method is a part of the broader framework of Reinforcement Learning from Human Feedback (RLHF). Here's a closer look at how DPO works and its significance:\n",
        "\n",
        "1. **Collecting Human Preferences**: The first step in DPO involves gathering data on human preferences. This is typically done by presenting human reviewers with pairs of outputs generated by the model in response to the same prompt or query. The reviewers are then asked to indicate which of the two responses they prefer.\n",
        "\n",
        "2. **Training a Preference Model**: The collected preference data is used to train a preference model. This model learns to predict the likelihood of one output being preferred over another by humans. Essentially, it aims to understand and quantify what makes one response more favorable or acceptable than another.\n",
        "\n",
        "3. **Optimizing the Language Model**: Once the preference model is trained, it is used to guide the training of the language model. The language model is optimized to generate outputs that are more likely to align with the preferences indicated by humans. This optimization can be done using various techniques, including reinforcement learning algorithms.\n",
        "\n",
        "4. **Iterative Process**: Like other RLHF techniques, DPO is often iterative. The model's outputs can be continuously evaluated and compared by human reviewers, and the preference model can be updated based on new data. This leads to ongoing improvements in the language model's alignment with human preferences.\n",
        "\n",
        "The significance of DPO lies in its focus on aligning the model's outputs with what humans explicitly prefer. This is particularly important for applications where the quality of an output is subjective and can vary based on context and the specific needs or values of the user.\n",
        "\n",
        "For example, in a conversational AI, different users might have different preferences for the style, tone, and type of responses they find engaging or helpful. DPO allows the model to be tuned to these preferences, potentially leading to more personalized and satisfactory interactions.\n",
        "\n",
        "Overall, Direct Preference Optimization represents a powerful method for increasing the alignment of AI systems with human values, preferences, and expectations, thereby enhancing their usefulness, safety, and acceptance in various applications."
      ],
      "metadata": {
        "id": "5VEtMTUkQz3r"
      }
    },
    {
      "cell_type": "markdown",
      "source": [
        "**RLHF stands for \"Reinforcement Learning from Human Feedback\"**\n",
        "\n",
        "* is a crucial technique for improving the performance and alignment of these models. It involves a combination of methods that leverage human feedback to refine and guide the learning process of the model.\n",
        "\n",
        "* Here's how RLHF is applied to LLMs:\n",
        "\n",
        "1. **Supervised Fine-Tuning (SFT)**: Initially, the language model is trained on a large dataset of text from the internet. This phase is purely supervised learning, where the model learns to predict the next word in a sequence. However, this dataset might not perfectly represent desirable outputs, as it contains a wide range of materials, including low-quality or harmful content.\n",
        "\n",
        "2. **Reward Modeling**: After the initial training, human reviewers assess the outputs of the model, providing feedback on its responses. This feedback could be in the form of rankings, ratings, or direct corrections. This human feedback is then used to create a reward model. The reward model essentially predicts how a human would rate a given output, serving as a proxy for human judgment.\n",
        "\n",
        "3. **Proximal Policy Optimization (PPO)**: With the reward model in place, the LLM is further trained using reinforcement learning, specifically a method called Proximal Policy Optimization. In this phase, the model learns to generate outputs that are more likely to receive higher ratings from the reward model. This step is crucial for aligning the model's outputs with human values and preferences.\n",
        "\n",
        "4. **Iterative Refinement**: The process can be iterative, with further rounds of human feedback and model refinement. This ongoing interaction helps in continuously improving the quality and relevance of the model's responses, ensuring they align well with ethical guidelines, factual accuracy, and user expectations.\n",
        "\n",
        "Applying RLHF to LLMs is important for several reasons:\n",
        "\n",
        "- **Alignment with Human Values**: It helps ensure that the model's outputs are aligned with human ethical standards and societal norms.\n",
        "- **Reduction of Harmful Outputs**: By training the model with human feedback, it's possible to reduce the likelihood of generating unsafe, biased, or otherwise undesirable content.\n",
        "- **Enhanced Relevance and Utility**: Feedback-driven training can make the model more useful and relevant to users by focusing on generating high-quality, contextually appropriate responses.\n",
        "\n",
        "This approach represents a significant advancement in the development of more responsible and effective AI language models."
      ],
      "metadata": {
        "id": "f3i3KTXjRZep"
      }
    },
    {
      "cell_type": "markdown",
      "source": [
        "**Retrieval-Augmented Generation (RAG)**\n",
        "\n",
        "Retrieval-Augmented Generation (RAG) is a framework for improving the accuracy and reliability of large language models (LLMs) by incorporating external knowledge bases during the generation process. It combines the strengths of two approaches: dense retrieval and sequence-to-sequence modeling.\n",
        "\n",
        "**Dense retrieval** is used to identify relevant documents from a knowledge base that are related to the query or prompt provided to the LLM. This ensures that the LLM has access to the most up-to-date and accurate information before generating its response.\n",
        "\n",
        "**Sequence-to-sequence modeling** is used to generate the final output text, taking into account the retrieved documents and the original query. This allows the LLM to incorporate factual information from the knowledge base into its response while maintaining its natural language fluency and coherence.\n",
        "\n",
        "RAG has been shown to improve the performance of LLMs on a variety of tasks, including question answering, summarization, and translation. It has also been found to be more robust to errors in the knowledge base than traditional LLM approaches.\n",
        "\n",
        "**Benefits of RAG:**\n",
        "\n",
        "* **Improved accuracy:** RAG can help to prevent LLMs from generating incorrect or misleading information by providing them with access to a broader range of information.\n",
        "\n",
        "* **Reduced factual errors:** RAG can reduce the number of factual errors in LLM responses by incorporating information from a knowledge base.\n",
        "\n",
        "* **Improved coherence:** RAG can help to improve the coherence of LLM responses by ensuring that they are consistent with the information in the knowledge base.\n",
        "\n",
        "**Drawbacks of RAG:**\n",
        "\n",
        "* **Increased computational complexity:** RAG is more computationally complex than traditional LLM approaches, as it requires both dense retrieval and sequence-to-sequence modeling.\n",
        "\n",
        "* **Dependency on knowledge base:** RAG is dependent on the quality of the knowledge base that is used. If the knowledge base is inaccurate or incomplete, RAG's performance will suffer.\n",
        "\n",
        "Despite these drawbacks, RAG is a promising approach for improving the accuracy and reliability of LLMs. As knowledge bases continue to improve, RAG is likely to become an even more valuable tool for natural language processing."
      ],
      "metadata": {
        "id": "2L0kvygNz4MO"
      }
    },
    {
      "cell_type": "markdown",
      "source": [
        "##### <font color=\"blue\">*GPUs*"
      ],
      "metadata": {
        "id": "zXJ4KIadIPuy"
      }
    },
    {
      "cell_type": "markdown",
      "source": [
        "**Matrix Multiplication on Classical Computers**\n",
        "\n",
        "Video 1: [How do GPUs speed up Neural Network training?](https://www.youtube.com/watch?v=EKD1kEMNeeU&list=WL&index=27)\n",
        "\n",
        "Video 2: [EE5332 L11.3 - Matrix Multiplication on NVidia GPUs](https://www.youtube.com/watch?v=fpwq5zDBO2o&list=WL&index=28&t=362s)\n",
        "\n",
        "![geometry](https://raw.githubusercontent.com/deltorobarba/repo/master/sciences_1633.png)\n",
        "\n",
        "![geometry](https://raw.githubusercontent.com/deltorobarba/repo/master/sciences_1634.png)\n",
        "\n",
        "![geometry](https://raw.githubusercontent.com/deltorobarba/repo/master/sciences_1635.png)\n",
        "\n",
        "![geometry](https://raw.githubusercontent.com/deltorobarba/repo/master/sciences_1636.png)\n",
        "\n",
        "![geometry](https://raw.githubusercontent.com/deltorobarba/repo/master/sciences_1637.png)\n",
        "\n",
        "![geometry](https://raw.githubusercontent.com/deltorobarba/repo/master/sciences_1638.png)"
      ],
      "metadata": {
        "id": "ZZPqdWX4RiZ_"
      }
    },
    {
      "cell_type": "markdown",
      "source": [
        "##### <font color=\"blue\">*TPU*"
      ],
      "metadata": {
        "id": "5_P1_6vvyHEc"
      }
    },
    {
      "cell_type": "markdown",
      "source": [
        "https://www.golem.de/news/google-erklaert-tpu-v4-ki-supercomputer-mit-flexiblem-optischen-netz-2304-173234.html"
      ],
      "metadata": {
        "id": "-cTeexksHl6j"
      }
    },
    {
      "cell_type": "markdown",
      "source": [
        "https://cloud.google.com/tpu/docs/run-calculation-jax?hl=de"
      ],
      "metadata": {
        "id": "eXiNo4uuyNa5"
      }
    },
    {
      "cell_type": "markdown",
      "source": [
        "https://cloud.google.com/tpu/docs/run-calculation-tensorflow?hl=en"
      ],
      "metadata": {
        "id": "AfVnmi1cGDEb"
      }
    },
    {
      "cell_type": "markdown",
      "source": [
        "##### <font color=\"blue\">*Distributed Training*"
      ],
      "metadata": {
        "id": "uM9V1BBQGHTy"
      }
    },
    {
      "cell_type": "markdown",
      "source": [
        "https://www.youtube.com/watch?v=NbID_AqdZXM"
      ],
      "metadata": {
        "id": "i4DIXwcbHFVW"
      }
    },
    {
      "cell_type": "markdown",
      "source": [
        "https://www.youtube.com/watch?v=S1tN9a4Proc"
      ],
      "metadata": {
        "id": "ZJ7hEebdHDXV"
      }
    },
    {
      "cell_type": "markdown",
      "source": [
        "https://www.tensorflow.org/guide/distributed_training"
      ],
      "metadata": {
        "id": "tiCklVoxGoFo"
      }
    },
    {
      "cell_type": "markdown",
      "source": [
        "https://www.tensorflow.org/guide/keras/distributed_training"
      ],
      "metadata": {
        "id": "BmRIRKb9G3yA"
      }
    },
    {
      "cell_type": "markdown",
      "source": [
        "https://www.tensorflow.org/tutorials/distribute/keras"
      ],
      "metadata": {
        "id": "VA8BRTjDHArx"
      }
    },
    {
      "cell_type": "markdown",
      "source": [
        "##### <font color=\"blue\">*MLOps*"
      ],
      "metadata": {
        "id": "vOqtFAy5GKtG"
      }
    },
    {
      "cell_type": "markdown",
      "source": [
        "https://cloud.google.com/architecture/mlops-continuous-delivery-and-automation-pipelines-in-machine-learning"
      ],
      "metadata": {
        "id": "8MmOgfMSHSYH"
      }
    },
    {
      "cell_type": "markdown",
      "source": [
        "https://cloud.google.com/vertex-ai/docs/start/introduction-mlops"
      ],
      "metadata": {
        "id": "It97BIplHWWV"
      }
    },
    {
      "cell_type": "markdown",
      "source": [
        "##### <font color=\"blue\">*JAX*"
      ],
      "metadata": {
        "id": "EkdQBmsWyXyQ"
      }
    },
    {
      "cell_type": "markdown",
      "source": [
        "https://jax.readthedocs.io/en/latest/notebooks/quickstart.html"
      ],
      "metadata": {
        "id": "MNTTlgnLyXBm"
      }
    },
    {
      "cell_type": "markdown",
      "source": [
        "##### <font color=\"blue\">*Linux*"
      ],
      "metadata": {
        "id": "NpX_msD1vmi-"
      }
    },
    {
      "cell_type": "markdown",
      "source": [
        "https://www.digitalocean.com/community/tutorials/linux-commands"
      ],
      "metadata": {
        "id": "D1N-de6GwqUr"
      }
    },
    {
      "cell_type": "markdown",
      "source": [
        "* ls - The most frequently used command in Linux to list directories\n",
        "* pwd - Print working directory command in Linux\n",
        "* cd - Linux command to navigate through directories\n",
        "* mkdir - Command used to create directories in Linux\n",
        "* mv - Move or rename files in Linux\n",
        "* cp - Similar usage as mv but for copying files in Linux\n",
        "* rm - Delete files or directories\n",
        "* touch - Create blank/empty files\n",
        "* ln - Create symbolic links (shortcuts) to other files\n",
        "* cat - Display file contents on the terminal\n",
        "* clear - Clear the terminal display\n",
        "* echo - Print any text that follows the command\n",
        "* less - Linux command to display paged outputs in the terminal\n",
        "* man - Access manual pages for all Linux commands\n",
        "* uname - Linux command to get basic information about the OS\n",
        "* whoami - Get the active username\n",
        "* tar - Command to extract and compress files in Linux\n",
        "* grep - Search for a string within an output\n",
        "* head - Return the specified number of lines from the top\n",
        "* ail - Return the specified number of lines from the bottom\n",
        "* diff - Find the difference between two files\n",
        "* cmp - Allows you to check if two files are identical\n",
        "* comm - Combines the functionality of diff and cmp\n",
        "* sort - Linux command to sort the content of a file while outputting\n",
        "* export - Export environment variables in Linux\n",
        "* zip - Zip files in Linux\n",
        "* unzip - Unzip files in Linux\n",
        "* ssh - Secure Shell command in Linux\n",
        "* service - Linux command to start and stop services\n",
        "* ps - Display active processes\n",
        "* kill and killall - Kill active processes by process ID or name\n",
        "* df - Display disk filesystem information\n",
        "* mount - Mount file systems in Linux\n",
        "* chmod - Command to change file permissions\n",
        "* chown - Command for granting ownership of files or folders\n",
        "* ifconfig - Display network interfaces and IP addresses\n",
        "* traceroute - Trace all the network hops to reach the destination\n",
        "* wget - Direct download files from the internet\n",
        "* ufw - Firewall command\n",
        "* iptables - Base firewall for all other firewall utilities to interface with\n",
        "* apt, pacman, yum, rpm - Package managers depending on the distro\n",
        "* sudo - Command to escalate privileges in Linux\n",
        "* cal - View a command-line calendar\n",
        "* alias - Create custom shortcuts for your regularly used commands\n",
        "* dd - Majorly used for creating bootable USB sticks\n",
        "* whereis - Locate the binary, source, and manual pages for a command\n",
        "* whatis - Find what a command is used for\n",
        "* top - View active processes live with their system usage\n",
        "* useradd and usermod - Add new user or change existing users data\n",
        "* passwd - Create or update passwords for existing users"
      ],
      "metadata": {
        "id": "uO0J0iBAwjsG"
      }
    },
    {
      "cell_type": "markdown",
      "source": [
        "##### <font color=\"blue\">*Python*"
      ],
      "metadata": {
        "id": "-bgPYHGr1kCz"
      }
    },
    {
      "cell_type": "markdown",
      "source": [
        "**For (Loop)**"
      ],
      "metadata": {
        "id": "bHxVacZSzNRS"
      }
    },
    {
      "cell_type": "code",
      "source": [
        "# Compute n^3\n",
        "\n",
        "example_list = [1,4,9]\n",
        "cube_list = []\n",
        "\n",
        "for value in example_list:\n",
        "    cube_list.append(value**3)\n",
        "\n",
        "print(cube_list)"
      ],
      "metadata": {
        "id": "HEOrl3Il0Y-F",
        "colab": {
          "base_uri": "https://localhost:8080/"
        },
        "outputId": "a4951701-3985-409f-fc2d-008510f518ae"
      },
      "execution_count": null,
      "outputs": [
        {
          "output_type": "stream",
          "name": "stdout",
          "text": [
            "[1, 64, 729]\n"
          ]
        }
      ]
    },
    {
      "cell_type": "markdown",
      "source": [
        "**Range**\n",
        "\n",
        "https://www.freecodecamp.org/news/python-for-loop-for-i-in-range-example/"
      ],
      "metadata": {
        "id": "axn8EIN20d2m"
      }
    },
    {
      "cell_type": "code",
      "source": [
        "for i in range(6):\n",
        "  print(i)"
      ],
      "metadata": {
        "colab": {
          "base_uri": "https://localhost:8080/"
        },
        "id": "e9JzPC-Xzf8L",
        "outputId": "dd541f76-1c0c-4c6e-e316-0fe38a849606"
      },
      "execution_count": null,
      "outputs": [
        {
          "output_type": "stream",
          "name": "stdout",
          "text": [
            "0\n",
            "1\n",
            "2\n",
            "3\n",
            "4\n"
          ]
        }
      ]
    },
    {
      "cell_type": "code",
      "source": [
        "for i in range(0,6,2): # Start, Stop, Steps\n",
        "  print(i)"
      ],
      "metadata": {
        "colab": {
          "base_uri": "https://localhost:8080/"
        },
        "id": "T76OMRBtzjHJ",
        "outputId": "5b5fdd74-eb6c-4466-ed24-6bdec39359e9"
      },
      "execution_count": null,
      "outputs": [
        {
          "output_type": "stream",
          "name": "stdout",
          "text": [
            "0\n",
            "2\n",
            "4\n"
          ]
        }
      ]
    },
    {
      "cell_type": "markdown",
      "source": [
        "*Now outsource one value to get generic function:*"
      ],
      "metadata": {
        "id": "y1phzBwszy2c"
      }
    },
    {
      "cell_type": "code",
      "source": [
        "def my_function(x):\n",
        "  for i in range(0,x,2): # Start, Stop, Steps\n",
        "    print(i)\n",
        "\n",
        "x = 10\n",
        "my_function(x)"
      ],
      "metadata": {
        "colab": {
          "base_uri": "https://localhost:8080/"
        },
        "id": "kMM3qKJyOFqF",
        "outputId": "802138dc-c551-4c3d-e85e-483749ee6862"
      },
      "execution_count": null,
      "outputs": [
        {
          "output_type": "stream",
          "name": "stdout",
          "text": [
            "0\n",
            "2\n",
            "4\n",
            "6\n",
            "8\n"
          ]
        }
      ]
    },
    {
      "cell_type": "markdown",
      "source": [
        "**While** (Loop)\n",
        "\n",
        "* while = as long as: *While Loop (simplest loop): is given a condition, and executes the loop until the condition is false. (If the condition is false, it does nothing.)*\n",
        "\n",
        "* https://www.w3schools.com/python/python_while_loops.asp\n"
      ],
      "metadata": {
        "id": "D3C3Frwh0FU0"
      }
    },
    {
      "cell_type": "code",
      "source": [
        "# Berechne den Restwert in der Modulurechnung\n",
        "\n",
        "# Setup Variables\n",
        "modulus = 51 # moduland\n",
        "modulo = 7\n",
        "\n",
        "# Compute Modulus\n",
        "while modulus > modulo:\n",
        "    modulus = modulus - modulo\n",
        "\n",
        "# Show Restwert\n",
        "print(modulus)"
      ],
      "metadata": {
        "colab": {
          "base_uri": "https://localhost:8080/"
        },
        "id": "6vhM4pD40A0K",
        "outputId": "e519a1bd-437f-49d1-f054-60564d4186f0"
      },
      "execution_count": null,
      "outputs": [
        {
          "output_type": "stream",
          "name": "stdout",
          "text": [
            "2\n"
          ]
        }
      ]
    },
    {
      "cell_type": "markdown",
      "source": [
        "**Break**\n",
        "\n",
        "*Break escapes the current loop, and moves on after it. This is mostly used for searching for particular values - iterating until something happens.*"
      ],
      "metadata": {
        "id": "IYhDJ4SI0tBW"
      }
    },
    {
      "cell_type": "code",
      "source": [
        "for i in range(100):\n",
        "  if i==5:\n",
        "    break\n",
        "print(i)"
      ],
      "metadata": {
        "id": "65DXNSnQ0n0G"
      },
      "execution_count": null,
      "outputs": []
    },
    {
      "cell_type": "markdown",
      "source": [
        "**Else** (Rekursion)\n",
        "\n",
        "*It is a better pattern than while loops for high intensity computing because of your easy ability to set an upper limit for loop length. But if the calculation fails, you need a way to determine it: fortunately, for supports an else clause which triggers if and only if the loop exists without hitting a break statement.*"
      ],
      "metadata": {
        "id": "HFsqRuLw053E"
      }
    },
    {
      "cell_type": "code",
      "source": [
        "n = 101\n",
        "\n",
        "for i in range(100):\n",
        "  if i==n:\n",
        "    break\n",
        "else:\n",
        "  print(\"Unable to find\" + str(n))\n",
        "\n",
        "print(i)"
      ],
      "metadata": {
        "id": "PSva2CdA09cL"
      },
      "execution_count": null,
      "outputs": []
    },
    {
      "cell_type": "markdown",
      "source": [
        "**Continue**\n",
        "\n",
        "*Break only breaks out of the closest loop. There is no way to easily break out of a higher loop just using break. Continue works similarly, but instead of escaping the loop, it starts the next iteration immediately. This is great for discarding cases, and is a common task in the algorithm:*"
      ],
      "metadata": {
        "id": "49wpgaI61FV0"
      }
    },
    {
      "cell_type": "code",
      "source": [
        "for i in range(10):\n",
        "  if i==5:\n",
        "    continue\n",
        "  print(i)"
      ],
      "metadata": {
        "id": "L03w27k71Gov",
        "colab": {
          "base_uri": "https://localhost:8080/"
        },
        "outputId": "e7fd5a1f-52be-480a-d4e9-13cf6d27189a"
      },
      "execution_count": null,
      "outputs": [
        {
          "output_type": "stream",
          "name": "stdout",
          "text": [
            "0\n",
            "1\n",
            "2\n",
            "3\n",
            "4\n",
            "6\n",
            "7\n",
            "8\n",
            "9\n"
          ]
        }
      ]
    },
    {
      "cell_type": "code",
      "source": [
        "# != means not equal\n",
        "# i%3 means\n",
        "# Restwerte berechnen in Modulo hiermit: 51%7\n",
        "# \\leq means ≤, so less than or equal to ..\n",
        "\n",
        "for i in range(10):\n",
        "  if i%3 != i%2:\n",
        "    continue\n",
        "  print(i)"
      ],
      "metadata": {
        "id": "od2pk8MN1VGr"
      },
      "execution_count": null,
      "outputs": []
    },
    {
      "cell_type": "markdown",
      "source": [
        "**Print and Return**\n",
        "\n",
        "* Return keeps value\n",
        "\n",
        "* [More about print statement](https://realpython.com/python-print/#printing-in-a-nutshell)"
      ],
      "metadata": {
        "id": "NjmO1Y-0zJyX"
      }
    },
    {
      "cell_type": "markdown",
      "source": [
        "**Flow Control: Conditionals**"
      ],
      "metadata": {
        "id": "tJqcIKCr3Dss"
      }
    },
    {
      "cell_type": "code",
      "source": [
        "x=3\n",
        "if x>10:\n",
        "    print(\"x is big.\")\n",
        "if x<= 10:\n",
        "    print(\"x is small.\")"
      ],
      "metadata": {
        "id": "wGXplj2U3Eh9"
      },
      "execution_count": null,
      "outputs": []
    },
    {
      "cell_type": "code",
      "source": [
        "x=3\n",
        "if x>10:\n",
        "    print(\"x is big.\")\n",
        "elif x>0:\n",
        "    print(\"x is small.\")\n",
        "else:\n",
        "    print(\"x is not positive.\")"
      ],
      "metadata": {
        "id": "TwrTdspJ3IqY"
      },
      "execution_count": null,
      "outputs": []
    },
    {
      "cell_type": "markdown",
      "source": [
        "**Yield**\n",
        "\n",
        "* Generators: like yield: https://www.python-kurs.eu/generatoren.php\n",
        "\n",
        "* there is one reason we must bring them up; you cannot create tuples with a comprehension directly; they instead create a generator.\n",
        "\n",
        "* You can think of generators as single-use lists. This makes them considerably faster, and with a lower memory footprint, in many use cases. We have already talked about a few generators - in Python 3, range is a generator.\n",
        "\n",
        "* These can be used as arguments without the enclosing. For example, you could construct a string containing the integers with:"
      ],
      "metadata": {
        "id": "aOjvMkgg3iWH"
      }
    },
    {
      "cell_type": "code",
      "source": [
        "def fibonacci(n):\n",
        "    \"\"\"Ein Fibonacci-Zahlen-Generator\"\"\"\n",
        "    a, b, counter = 0, 1, 0\n",
        "    while True:\n",
        "        if (counter > n): return\n",
        "        yield a\n",
        "        a, b = b, a + b\n",
        "        counter += 1\n",
        "f = fibonacci(5)\n",
        "for x in f:\n",
        "  print x,\n",
        "print"
      ],
      "metadata": {
        "colab": {
          "base_uri": "https://localhost:8080/",
          "height": 129
        },
        "id": "Sz47xQO936wm",
        "outputId": "21a1c7b8-a0ef-416d-d51c-4c5a910d3614"
      },
      "execution_count": null,
      "outputs": [
        {
          "output_type": "error",
          "ename": "SyntaxError",
          "evalue": "ignored",
          "traceback": [
            "\u001b[0;36m  File \u001b[0;32m\"<ipython-input-18-fb5705716190>\"\u001b[0;36m, line \u001b[0;32m11\u001b[0m\n\u001b[0;31m    print x\u001b[0m\n\u001b[0m          ^\u001b[0m\n\u001b[0;31mSyntaxError\u001b[0m\u001b[0;31m:\u001b[0m Missing parentheses in call to 'print'. Did you mean print(x)?\n"
          ]
        }
      ]
    },
    {
      "cell_type": "code",
      "source": [
        "def firstn(g, n):\n",
        "\tfor i in range(n):\n",
        "\t\tyield g.next()\n",
        "\n",
        "\n",
        "firstn(5, 100)"
      ],
      "metadata": {
        "colab": {
          "base_uri": "https://localhost:8080/"
        },
        "id": "WUCdS4iv5iXL",
        "outputId": "8f79513d-6a67-47cf-8473-516cc3d7c2db"
      },
      "execution_count": null,
      "outputs": [
        {
          "output_type": "execute_result",
          "data": {
            "text/plain": [
              "<generator object firstn at 0x7f162b6846d0>"
            ]
          },
          "metadata": {},
          "execution_count": 30
        }
      ]
    },
    {
      "cell_type": "markdown",
      "source": [
        "https://www.python-kurs.eu/generatoren.php"
      ],
      "metadata": {
        "id": "3-kxvfnn5TZx"
      }
    },
    {
      "cell_type": "markdown",
      "source": [
        "**Enumerate** (Aufzählen)\n",
        "\n",
        "* https://en.m.wikipedia.org/wiki/Enumeration\n",
        "\n",
        "* https://realpython.com/python-enumerate/"
      ],
      "metadata": {
        "id": "oaYQE4Q23jMs"
      }
    },
    {
      "cell_type": "code",
      "source": [
        "values = [\"a\", \"b\", \"c\"]\n",
        "for count, value in enumerate(values):\n",
        "  print(count, value)"
      ],
      "metadata": {
        "colab": {
          "base_uri": "https://localhost:8080/"
        },
        "id": "Z5FfJ9pf4hzk",
        "outputId": "7db098ae-d0c5-4de9-c8dc-822c59db9384"
      },
      "execution_count": null,
      "outputs": [
        {
          "output_type": "stream",
          "name": "stdout",
          "text": [
            "0 a\n",
            "1 b\n",
            "2 c\n"
          ]
        }
      ]
    },
    {
      "cell_type": "markdown",
      "source": [
        "**Miscellaneous**"
      ],
      "metadata": {
        "id": "hkDgUCb546zt"
      }
    },
    {
      "cell_type": "code",
      "source": [
        "a = 10\n",
        "a += 5\n",
        "a"
      ],
      "metadata": {
        "colab": {
          "base_uri": "https://localhost:8080/"
        },
        "id": "rpKfGQeX46UN",
        "outputId": "2298cd82-0f47-4b44-a6cf-afa98c889f66"
      },
      "execution_count": null,
      "outputs": [
        {
          "output_type": "execute_result",
          "data": {
            "text/plain": [
              "5"
            ]
          },
          "metadata": {},
          "execution_count": 25
        }
      ]
    },
    {
      "cell_type": "markdown",
      "source": [
        "**Basic Functions in Maths & Physics I (Def)**"
      ],
      "metadata": {
        "id": "fLMArogly99J"
      }
    },
    {
      "cell_type": "markdown",
      "source": [
        "https://www.w3schools.com/python/python_functions.asp\n",
        "\n",
        "http://www-personal.umich.edu/~mejn/computational-physics/"
      ],
      "metadata": {
        "id": "w_B7I77I6aKN"
      }
    },
    {
      "cell_type": "code",
      "source": [
        "def my_function(x):\n",
        "  return x + 2\n",
        "\n",
        "my_function(4)"
      ],
      "metadata": {
        "colab": {
          "base_uri": "https://localhost:8080/"
        },
        "id": "KdyUIe0tK7O8",
        "outputId": "b4df5afd-c957-4444-ffe2-4cb99a548dfd"
      },
      "execution_count": null,
      "outputs": [
        {
          "output_type": "execute_result",
          "data": {
            "text/plain": [
              "6"
            ]
          },
          "metadata": {},
          "execution_count": 13
        }
      ]
    },
    {
      "cell_type": "code",
      "source": [
        "def my_function(x):\n",
        "  for i in range(1,x):\n",
        "    print(i**2)\n",
        "\n",
        "my_function(10)"
      ],
      "metadata": {
        "colab": {
          "base_uri": "https://localhost:8080/"
        },
        "id": "uUCfTgihCl9v",
        "outputId": "ea876fcd-2cca-4912-c05d-eee817785753"
      },
      "execution_count": null,
      "outputs": [
        {
          "output_type": "stream",
          "name": "stdout",
          "text": [
            "1\n",
            "4\n",
            "9\n",
            "16\n",
            "25\n",
            "36\n",
            "49\n",
            "64\n",
            "81\n"
          ]
        }
      ]
    },
    {
      "cell_type": "code",
      "source": [
        "def isqrt(n):\n",
        "  return int(math.sqrt(n))\n",
        "\n",
        "n = 100\n",
        "isqrt(n)"
      ],
      "metadata": {
        "colab": {
          "base_uri": "https://localhost:8080/"
        },
        "id": "PjS5fc4C2UMM",
        "outputId": "c78c2f48-21f9-43ce-c03d-b6acda0c8392"
      },
      "execution_count": null,
      "outputs": [
        {
          "output_type": "execute_result",
          "data": {
            "text/plain": [
              "10"
            ]
          },
          "metadata": {},
          "execution_count": 15
        }
      ]
    },
    {
      "cell_type": "code",
      "source": [
        "def my_function(n):\n",
        "  if n = (1):\n",
        "    return 1,\n",
        "  else:\n",
        "    return alg2d(n-1) + n\n",
        "\n",
        "alg2d(3)"
      ],
      "metadata": {
        "id": "ZkLNDfQ99hSX"
      },
      "execution_count": null,
      "outputs": []
    },
    {
      "cell_type": "code",
      "source": [
        "def my_function(x):\n",
        "  return 5 * x\n",
        "\n",
        "print(my_function(3))\n",
        "print(my_function(5))\n",
        "print(my_function(9))"
      ],
      "metadata": {
        "colab": {
          "base_uri": "https://localhost:8080/"
        },
        "id": "zgVKnVjc7o4u",
        "outputId": "6b9b66cc-90c4-40b5-eb37-b31084f93ba3"
      },
      "execution_count": null,
      "outputs": [
        {
          "output_type": "stream",
          "name": "stdout",
          "text": [
            "15\n",
            "25\n",
            "45\n"
          ]
        }
      ]
    },
    {
      "cell_type": "code",
      "source": [
        "def selectionsort(seq):\n",
        "  for i in range(len(seq) - 1):\n",
        "    k = i\n",
        "    for j in range(i, len(seq)):\n",
        "      if seq[j] < seq[k]:\n",
        "        k = j\n",
        "    seq[i], seq[k] = seq[k], seq[i]\n",
        "\n",
        "result = selectionsort([1, 3, 5, 2, 4])\n",
        "result"
      ],
      "metadata": {
        "id": "qs_2cqJU8Ifu"
      },
      "execution_count": null,
      "outputs": []
    },
    {
      "cell_type": "code",
      "source": [
        "def function(input):\n",
        "  for i in range(len(input) + 1):\n",
        "\n",
        "function([1, 2, 4])"
      ],
      "metadata": {
        "id": "BCUcl2Yf7vwn"
      },
      "execution_count": null,
      "outputs": []
    },
    {
      "cell_type": "code",
      "source": [
        "# Print out the Fibonacci numbers up to 1000\n",
        "f1,f2 = 1,1\n",
        "while f2<1000:\n",
        "    print(f2)\n",
        "    f1,f2 = f2,f1+f2"
      ],
      "metadata": {
        "colab": {
          "base_uri": "https://localhost:8080/"
        },
        "id": "EqI9EP3s68wt",
        "outputId": "24c3f412-b883-49c1-f4f7-6a77bcd51f36"
      },
      "execution_count": null,
      "outputs": [
        {
          "output_type": "stream",
          "name": "stdout",
          "text": [
            "1\n",
            "2\n",
            "3\n",
            "5\n",
            "8\n",
            "13\n",
            "21\n",
            "34\n",
            "55\n",
            "89\n",
            "144\n",
            "233\n",
            "377\n",
            "610\n",
            "987\n"
          ]
        }
      ]
    },
    {
      "cell_type": "code",
      "source": [
        "# Print out the wavelengths of hydrogen lines\n",
        "R = 1.097e-2\n",
        "for m in range(1,4):\n",
        "    print(\"Series for m =\",m)\n",
        "    for n in range(m+1,m+6):\n",
        "        invlambda = R*(1/m**2-1/n**2)\n",
        "        print(\"  \",1/invlambda,\"nm\")"
      ],
      "metadata": {
        "colab": {
          "base_uri": "https://localhost:8080/"
        },
        "id": "FA7mkKRZ8fcy",
        "outputId": "589eb076-750b-48c0-f174-875a916d72c7"
      },
      "execution_count": null,
      "outputs": [
        {
          "output_type": "stream",
          "name": "stdout",
          "text": [
            "Series for m = 1\n",
            "   121.5436037678517 nm\n",
            "   102.55241567912488 nm\n",
            "   97.23488301428137 nm\n",
            "   94.95594044363415 nm\n",
            "   93.76220862091418 nm\n",
            "Series for m = 2\n",
            "   656.3354603463993 nm\n",
            "   486.1744150714068 nm\n",
            "   434.084299170899 nm\n",
            "   410.2096627164995 nm\n",
            "   397.04243897498225 nm\n",
            "Series for m = 3\n",
            "   1875.2441724182836 nm\n",
            "   1281.9051959890612 nm\n",
            "   1093.8924339106654 nm\n",
            "   1005.013673655424 nm\n",
            "   954.6697605038536 nm\n"
          ]
        }
      ]
    },
    {
      "cell_type": "code",
      "source": [
        "# Calculate the internal energy of a quantum simple harmonic oscillator at temperature T\n",
        "from math import exp\n",
        "\n",
        "terms = 1000\n",
        "beta = 1/100\n",
        "S = 0.0\n",
        "Z = 0.0\n",
        "for n in range(terms):\n",
        "    E = n + 0.5\n",
        "    weight = exp(-beta*E)\n",
        "    S += weight*E\n",
        "    Z += weight\n",
        "\n",
        "print(S/Z)"
      ],
      "metadata": {
        "colab": {
          "base_uri": "https://localhost:8080/"
        },
        "id": "Rr3JAICQ7I80",
        "outputId": "835890b7-3433-4fee-e584-8bd48e8d10ed"
      },
      "execution_count": null,
      "outputs": [
        {
          "output_type": "stream",
          "name": "stdout",
          "text": [
            "99.95543134093475\n"
          ]
        }
      ]
    },
    {
      "cell_type": "code",
      "source": [
        "def find_5():\n",
        "  for i in range(100):\n",
        "    for j in range(20):\n",
        "      if i == 5:\n",
        "        return i\n",
        "  print(\"Couldn't find 5.\")"
      ],
      "metadata": {
        "id": "7p_dm_Bi1iOF"
      },
      "execution_count": null,
      "outputs": []
    },
    {
      "cell_type": "code",
      "source": [
        "def natural_language(message):\n",
        "    print(message)\n",
        "\n",
        "message = \"Hello World\"\n",
        "natural_language(message)"
      ],
      "metadata": {
        "colab": {
          "base_uri": "https://localhost:8080/"
        },
        "id": "oDLQQt7E2IeL",
        "outputId": "1cdaf4c1-bc75-4bbd-e1ff-a68eac58c8f7"
      },
      "execution_count": null,
      "outputs": [
        {
          "output_type": "stream",
          "name": "stdout",
          "text": [
            "Hello World\n"
          ]
        }
      ]
    },
    {
      "cell_type": "markdown",
      "source": [
        "**Basic Functions in Maths & Physics II (Class)**"
      ],
      "metadata": {
        "id": "xEP2z9S719Ep"
      }
    },
    {
      "cell_type": "markdown",
      "source": [
        "[Video: Methoden in Klassen](https://www.youtube.com/watch?v=58IjjwHs_4A)"
      ],
      "metadata": {
        "id": "aBZdbhCcFgF6"
      }
    },
    {
      "cell_type": "code",
      "source": [
        "class Tweet:\n",
        "  def __init__(self):\n",
        "    print('Hi')\n",
        "\n",
        "result = Tweet()"
      ],
      "metadata": {
        "colab": {
          "base_uri": "https://localhost:8080/"
        },
        "id": "Pq8z1hDi18sH",
        "outputId": "a5330983-f9ae-4e1f-9e6d-45e9a5ed0b32"
      },
      "execution_count": null,
      "outputs": [
        {
          "output_type": "stream",
          "name": "stdout",
          "text": [
            "Hi\n"
          ]
        }
      ]
    },
    {
      "cell_type": "code",
      "source": [
        "# Define class and function / self is referring to the instances below\n",
        "class Tweet:\n",
        "  def __init__(self, message):\n",
        "    self.x = message\n",
        "\n",
        "# Define messages (instances)\n",
        "a = Tweet('Hello 42')\n",
        "b = Tweet('Hello 88')\n",
        "\n",
        "# Call messages\n",
        "print('a is ' + a.x)\n",
        "print('b is ' + b.x)"
      ],
      "metadata": {
        "id": "mZqS96oX2gLK"
      },
      "execution_count": null,
      "outputs": []
    },
    {
      "cell_type": "code",
      "source": [
        "# Define class and function\n",
        "class Tweet:\n",
        "  def __init__(self, message):\n",
        "    self.message = message\n",
        "  def print_tweet(self):\n",
        "    print(self.message)\n",
        "\n",
        "# Define messages (objects?)\n",
        "c = Tweet('Hello 100')\n",
        "\n",
        "# Call messages\n",
        "c.print_tweet()"
      ],
      "metadata": {
        "id": "5PpAf4es2hmR"
      },
      "execution_count": null,
      "outputs": []
    },
    {
      "cell_type": "code",
      "source": [
        "class Car():\n",
        "\n",
        "    # init method or constructor\n",
        "    # (these are not functions, because functions have no self and also within class they are called methods)\n",
        "    def __init__(self, model, color):\n",
        "        self.model = model\n",
        "        self.color = color\n",
        "\n",
        "    def show(self):\n",
        "        print(\"Model is\", self.model )\n",
        "        print(\"color is\", self.color )\n",
        "\n",
        "# both objects have different self which\n",
        "# contain their attributes\n",
        "audi = Car(\"audi a4\", \"blue\")\n",
        "ferrari = Car(\"ferrari 488\", \"green\")\n",
        "\n",
        "audi.show()     # same output as car.show(audi)\n",
        "ferrari.show()  # same output as car.show(ferrari)\n",
        "\n",
        "# Behind the scene, in every instance method\n",
        "# call, python sends the instances also with\n",
        "# that method call like car.show(audi)"
      ],
      "metadata": {
        "id": "y0r0UEgi2kB1"
      },
      "execution_count": null,
      "outputs": []
    },
    {
      "cell_type": "markdown",
      "source": [
        "self parameter: https://www.youtube.com/watch?v=CLoK-_qNTnU\n",
        "\n",
        "klassen und objekte: https://www.youtube.com/watch?v=XxCZrT7Z3G4\n",
        "\n",
        "methoden: https://www.youtube.com/watch?v=58IjjwHs_4A"
      ],
      "metadata": {
        "id": "cSeBZR6g2mU1"
      }
    },
    {
      "cell_type": "markdown",
      "source": [
        "**Visualization of Functions**"
      ],
      "metadata": {
        "id": "DSkCPO-97ZAl"
      }
    },
    {
      "cell_type": "markdown",
      "source": [
        "https://scriptverse.academy/tutorials/python-matplotlib-plot-function.html"
      ],
      "metadata": {
        "id": "y1ALPQD18XwC"
      }
    },
    {
      "cell_type": "code",
      "source": [
        "sns.set(rc={'figure.figsize':(10, 6), \"lines.linewidth\": 1.0})\n",
        "\n",
        "# 100 linearly spaced numbers\n",
        "x = np.linspace(0,10,10)\n",
        "\n",
        "# the function\n",
        "y = x**2\n",
        "\n",
        "# setting the axes at the centre\n",
        "fig = plt.figure()\n",
        "ax = fig.add_subplot(1, 1, 1)\n",
        "ax.xaxis.set_ticks_position('bottom')\n",
        "ax.yaxis.set_ticks_position('left')\n",
        "\n",
        "# plot the function\n",
        "#plt.plot(x,y, 'g')\n",
        "plt.plot(x,y, 'b', label='y=sin(x)')\n",
        "\n",
        "# show the plot\n",
        "plt.show()"
      ],
      "metadata": {
        "id": "cbiVzNHZDJmb"
      },
      "execution_count": null,
      "outputs": []
    },
    {
      "cell_type": "code",
      "source": [
        "sns.set(rc={'figure.figsize':(10, 6), \"lines.linewidth\": 1.0})\n",
        "\n",
        "\n",
        "# 100 linearly spaced numbers\n",
        "x = np.linspace(0,1,100)\n",
        "x = np.linspace(-np.pi,np.pi,100)\n",
        "\n",
        "# the function\n",
        "y = x**20\n",
        "y = np.sin(x)\n",
        "\n",
        "# setting the axes at the centre\n",
        "fig = plt.figure()\n",
        "ax = fig.add_subplot(1, 1, 1)\n",
        "ax.xaxis.set_ticks_position('bottom')\n",
        "ax.yaxis.set_ticks_position('left')\n",
        "\n",
        "# plot the function\n",
        "#plt.plot(x,y, 'g')\n",
        "plt.plot(x,y, 'b', label='y=sin(x)')\n",
        "plt.plot(x,2*y, 'c', label='y=2sin(x)')\n",
        "plt.plot(x,3*y, 'r', label='y=3sin(x)')\n",
        "\n",
        "# show the plot\n",
        "plt.show()"
      ],
      "metadata": {
        "colab": {
          "base_uri": "https://localhost:8080/",
          "height": 377
        },
        "id": "8JuGtYMGPwpx",
        "outputId": "abc363b7-cec6-4d43-df48-94aa3acdb440"
      },
      "execution_count": null,
      "outputs": [
        {
          "output_type": "display_data",
          "data": {
            "text/plain": [
              "<Figure size 720x432 with 1 Axes>"
            ],
            "image/png": "[encoded data removed]"
          },
          "metadata": {}
        }
      ]
    },
    {
      "cell_type": "code",
      "source": [
        "# 100 linearly spaced numbers\n",
        "x = np.linspace(-5,5,100)\n",
        "\n",
        "# the function, which is y = x^3 here\n",
        "y = x**2\n",
        "y = np.exp(x)\n",
        "\n",
        "# setting the axes at the centre\n",
        "fig = plt.figure()\n",
        "ax = fig.add_subplot(1, 1, 1)\n",
        "ax.spines['left'].set_position('center')\n",
        "ax.spines['bottom'].set_position('center')\n",
        "ax.spines['right'].set_color('none')\n",
        "ax.spines['top'].set_color('none')\n",
        "ax.xaxis.set_ticks_position('bottom')\n",
        "ax.yaxis.set_ticks_position('left')\n",
        "\n",
        "# plot the function\n",
        "plt.plot(x,y, 'g')\n",
        "\n",
        "# show the plot\n",
        "plt.show()"
      ],
      "metadata": {
        "colab": {
          "base_uri": "https://localhost:8080/",
          "height": 357
        },
        "id": "Rt99Vbv1OmFX",
        "outputId": "7394fe92-6469-4dd6-b58b-b53bd63b0009"
      },
      "execution_count": null,
      "outputs": [
        {
          "output_type": "display_data",
          "data": {
            "text/plain": [
              "<Figure size 720x432 with 1 Axes>"
            ],
            "image/png": "[encoded data removed]"
          },
          "metadata": {}
        }
      ]
    },
    {
      "cell_type": "markdown",
      "source": [],
      "metadata": {
        "id": "vFQCvRyaxKAR"
      }
    },
    {
      "cell_type": "markdown",
      "metadata": {
        "id": "KMsbZlxPt-Ec"
      },
      "source": [
        "##### <font color=\"blue\">*Qubits*"
      ]
    },
    {
      "cell_type": "markdown",
      "source": [
        "###### *Simple Addition & Multiplication with Qubits*"
      ],
      "metadata": {
        "id": "2g4g4-lesqTB"
      }
    },
    {
      "cell_type": "markdown",
      "source": [
        "https://summerofcode.withgoogle.com/programs/2022/projects/bYQLcqgf"
      ],
      "metadata": {
        "id": "5WtoVBcTbptm"
      }
    },
    {
      "cell_type": "markdown",
      "metadata": {
        "id": "OfGBWIy6S_V6"
      },
      "source": [
        "**Task 1: Addition of 1 + 0 + 0 = 1 (01 in binary): We flip q0 and q1 from 0 to 1 with Pauli-X**\n",
        "\n",
        "**Task 2: Addition of 1 + 1 + 0 = 2 (10 in binary): We flip q0 and q1 from 0 to 1 with Pauli-X**\n",
        "\n",
        "**Task 3: Addition of 1 + 1 + 1 = 3 (11 in binary): We flip q0, q1 and q2 from 0 to 1 with Pauli-X**"
      ]
    },
    {
      "cell_type": "markdown",
      "metadata": {
        "id": "cF7MxZrjaXod"
      },
      "source": [
        "https://qiskit.org/textbook/ch-states/atoms-computation.html#adder"
      ]
    },
    {
      "cell_type": "markdown",
      "metadata": {
        "id": "iKzohJI59hm1"
      },
      "source": [
        "0+0 = 00 (in decimal, this is 0+0=0)\n",
        "\n",
        "0+1 = 01 (in decimal, this is 0+1=1)\n",
        "\n",
        "1+0 = 01 (in decimal, this is 1+0=1)\n",
        "\n",
        "1+1 = 10 (in decimal, this is 1+1=2)\n",
        "\n",
        "This is called a half adder. If our computer can implement this, and if it can chain many of them together, it can add anything.\n",
        "\n"
      ]
    },
    {
      "cell_type": "code",
      "metadata": {
        "id": "y4ktOROmyohu",
        "colab": {
          "base_uri": "https://localhost:8080/"
        },
        "outputId": "a6dcbf27-7547-4ca7-f22d-5afd6282ce27"
      },
      "source": [
        "# Create Circuit object\n",
        "circuit = cirq.Circuit()\n",
        "\n",
        "# Define 2 qubits - They start with 0 (if you measure no, you'll see a 0 in both)\n",
        "(q0, q1, q2, q3) = cirq.LineQubit.range(4)\n",
        "\n",
        "\n",
        "\n",
        "## Set up calculation:\n",
        "\n",
        "# We flip q0 from 0 to 1 with Pauli-X\n",
        "circuit.append([cirq.X(q0)])\n",
        "\n",
        "# We flip q1 from 0 to 1 with Pauli-X\n",
        "#circuit.append([cirq.X(q1)])\n",
        "\n",
        "# We flip q2 from 0 to 1 with Pauli-X\n",
        "#circuit.append([cirq.X(q2)])\n",
        "\n",
        "\n",
        "\n",
        "# CNOT (Controlled Pauli X) for input q2 and target q0 (0 is same, 1 if different for target)\n",
        "# since q2 is 0 and q0 is 1, result will stay 1\n",
        "circuit.append([cirq.CNOT(q0, q2)])\n",
        "\n",
        "# CNOT (Controlled Pauli X) for input q2 and target q1 (0 is same, 1 if different for target)\n",
        "# since q2 is 0 and q1 is 1, result will stay 1\n",
        "circuit.append([cirq.CNOT(q1, q2)])\n",
        "\n",
        "# Toffoli (CCNOT) gate on q3 (if both inputs are equal, write 1, else 0) (perform a NOT on target qubit when both controls are in state 1)\n",
        "circuit.append([cirq.CCX(q0, q1, q3)])\n",
        "\n",
        "# Measure output quantum bits q2 and q3\n",
        "circuit.append([cirq.measure(q2), cirq.measure(q3)])\n",
        "\n",
        "# See what circuit has been produced (optional)\n",
        "print(circuit)"
      ],
      "execution_count": null,
      "outputs": [
        {
          "output_type": "stream",
          "name": "stdout",
          "text": [
            "                  ┌──┐\n",
            "0: ───X───@────────@─────────\n",
            "          │        │\n",
            "1: ───────┼───@────@─────────\n",
            "          │   │    │\n",
            "2: ───────X───X────┼M────────\n",
            "                   │\n",
            "3: ────────────────X─────M───\n",
            "                  └──┘\n"
          ]
        }
      ]
    },
    {
      "cell_type": "code",
      "metadata": {
        "id": "0xKYREY8qEe-",
        "colab": {
          "base_uri": "https://localhost:8080/"
        },
        "outputId": "8d99a1a1-b3d5-499c-9ecb-7f6a9feb68a8"
      },
      "source": [
        "# Step 6: Perform simulation of the circuit and read out result\n",
        "sim = cirq.Simulator()\n",
        "results = sim.run(circuit, repetitions=10)\n",
        "print(results)"
      ],
      "execution_count": null,
      "outputs": [
        {
          "output_type": "stream",
          "name": "stdout",
          "text": [
            "2=1111111111\n",
            "3=0000000000\n"
          ]
        }
      ]
    },
    {
      "cell_type": "markdown",
      "metadata": {
        "id": "kb80-XsV-uXr"
      },
      "source": [
        "> Read from rightmost qubit first (q3) and then next left (q2): result is 10 (binary) = 2 in decimal"
      ]
    },
    {
      "cell_type": "markdown",
      "metadata": {
        "id": "IIJxNgdxui1J"
      },
      "source": [
        "<font color=\"blue\">**Simple Multiplication with Qubits**"
      ]
    },
    {
      "cell_type": "markdown",
      "source": [
        "https://csferrie.medium.com/the-stupidest-most-technologically-and-resource-inefficient-way-to-multiply-by-two-fd6d0290f7b6"
      ],
      "metadata": {
        "id": "ii5DgpBfsuVf"
      }
    },
    {
      "cell_type": "markdown",
      "metadata": {
        "id": "XFxhMEfyzVCn"
      },
      "source": [
        "###### *Superdense Coding (Bell State): 1 Qubit - Tensor Product of two Parallel Gates (Superposition in Multiple Qubits)*"
      ]
    },
    {
      "cell_type": "code",
      "metadata": {
        "id": "EUeRMCzt8AQm"
      },
      "source": [
        "# Create Vanilla Qubits\n",
        "# Named Qubit\n",
        "a = cirq.NamedQubit(\"a\")\n",
        "b = cirq.NamedQubit(\"b\")\n",
        "\n",
        "#Line-Qubit\n",
        "qubits = cirq.LineQubit.range(2)"
      ],
      "execution_count": null,
      "outputs": []
    },
    {
      "cell_type": "markdown",
      "metadata": {
        "id": "b_44NH72uf_p"
      },
      "source": [
        "The tensor product (or Kronecker product) of two quantum gates is the gate that is equal to the two gates in parallel."
      ]
    },
    {
      "cell_type": "code",
      "metadata": {
        "id": "tK6sea6xzzpq",
        "colab": {
          "base_uri": "https://localhost:8080/"
        },
        "outputId": "e33d8d5b-b5f6-4801-9e3c-f9d099bab71a"
      },
      "source": [
        "# Define operations\n",
        "ops=[cirq.Y(a), # Superposition\n",
        "     cirq.X(b), # Entanglement\n",
        "     cirq.measure(a,b)] # Measurement\n",
        "\n",
        "# Build circuit\n",
        "circuit=cirq.Circuit(ops)\n",
        "\n",
        "print(circuit)"
      ],
      "execution_count": null,
      "outputs": [
        {
          "output_type": "stream",
          "name": "stdout",
          "text": [
            "a: ───Y───M───\n",
            "          │\n",
            "b: ───X───M───\n"
          ]
        }
      ]
    },
    {
      "cell_type": "markdown",
      "metadata": {
        "id": "Xg7C-Rrfu0ta"
      },
      "source": [
        "*Two gates $Y$ and $X$ in parallel is equivalent to the gate $Y\\otimes X$*\n",
        "\n",
        "![ggg](https://upload.wikimedia.org/wikipedia/commons/d/d5/Parallel_quantum_logic_gates.png)\n",
        "\n",
        "If we, as in the picture, combine the Pauli-Y gate with the Pauli-X gate in parallel, then this can be written as:\n",
        "\n",
        "> $C=Y \\otimes X=\\left[\\begin{array}{cc}0 & -i \\\\ i & 0\\end{array}\\right] \\otimes\\left[\\begin{array}{ll}0 & 1 \\\\ 1 & 0\\end{array}\\right]=\\left[\\begin{array}{ll}0\\left[\\begin{array}{ll}0 & 1 \\\\ 1 & 0\\end{array}\\right] & -i\\left[\\begin{array}{ll}0 & 1 \\\\ 1 & 0\\end{array}\\right] \\\\ i\\left[\\begin{array}{ll}0 & 1 \\\\ 1 & 0\\end{array}\\right] & 0\\left[\\begin{array}{ll}0 & 1 \\\\ 1 & 0\\end{array}\\right]\\end{array}\\right]=\\left[\\begin{array}{cccc}0 & 0 & 0 & -i \\\\ 0 & 0 & -i & 0 \\\\ 0 & i & 0 & 0 \\\\ i & 0 & 0 & 0\\end{array}\\right]$\n",
        "\n",
        "Both the Pauli-X and the Pauli-Y gate act on a single qubit. The resulting gate $C$ act on two qubits."
      ]
    },
    {
      "cell_type": "code",
      "metadata": {
        "id": "jvYfx3Klz9uZ",
        "colab": {
          "base_uri": "https://localhost:8080/"
        },
        "outputId": "dfcf89f5-ae06-4f5f-c592-8fb0c9a9de70"
      },
      "source": [
        "# Run Simulations & Measurements\n",
        "simulator = cirq.Simulator()\n",
        "result = simulator.run(circuit,repetitions=10)\n",
        "print('Measurement results')\n",
        "print(result)"
      ],
      "execution_count": null,
      "outputs": [
        {
          "output_type": "stream",
          "name": "stdout",
          "text": [
            "Measurement results\n",
            "a,b=1111111111, 1111111111\n"
          ]
        }
      ]
    },
    {
      "cell_type": "code",
      "metadata": {
        "id": "jd5HWgP-0BOc",
        "colab": {
          "base_uri": "https://localhost:8080/",
          "height": 295
        },
        "outputId": "1a4b69ee-bdb8-4ddd-fd21-2c841a21961e"
      },
      "source": [
        "# Visualization\n",
        "# After doing that, you should see the quantum state become ∣00⟩+∣11⟩\n",
        "_ = cirq.vis.plot_state_histogram(result) #, plt.subplot())"
      ],
      "execution_count": null,
      "outputs": [
        {
          "output_type": "display_data",
          "data": {
            "text/plain": [
              "<Figure size 432x288 with 1 Axes>"
            ],
            "image/png": "[encoded data removed]"
          },
          "metadata": {
            "needs_background": "light"
          }
        }
      ]
    },
    {
      "cell_type": "code",
      "metadata": {
        "id": "_8IiwYzr0C6M",
        "colab": {
          "base_uri": "https://localhost:8080/"
        },
        "outputId": "92ff3405-83d1-4d9e-c94b-78477665c1ce"
      },
      "source": [
        "result.histogram(key=\"a,b\")"
      ],
      "execution_count": null,
      "outputs": [
        {
          "output_type": "execute_result",
          "data": {
            "text/plain": [
              "Counter({3: 10})"
            ]
          },
          "metadata": {},
          "execution_count": 7
        }
      ]
    },
    {
      "cell_type": "markdown",
      "metadata": {
        "id": "sn4LwsmviwZx"
      },
      "source": [
        "###### *Superdense Coding (Bell State): 2 Qubits - CNOT Gate (CX) [and Controlled-U Gate]: Create Bell state (Superposition across Multiple Qubits)*"
      ]
    },
    {
      "cell_type": "markdown",
      "metadata": {
        "id": "tMHUCZ7JW3rD"
      },
      "source": [
        "> CNOT, acting on a two-qubit term $\\left|q_{1} q_{2}\\right\\rangle$, applies the $\\mathbf{N O T}(\\mathbf{X})$ gate to the second qubit only if the first qubit is in state $|1\\rangle$. The first qubit controls the action on the second.\n",
        "\n",
        "> 0 im Output wenn zwei Inputs gleich sind. 1 im Output wenn die Inputs unterschiedlich sind."
      ]
    },
    {
      "cell_type": "markdown",
      "metadata": {
        "id": "ZaEJwXg_j-Uz"
      },
      "source": [
        "*Entanglement*"
      ]
    },
    {
      "cell_type": "code",
      "metadata": {
        "id": "7uuAkp8gkA0S",
        "colab": {
          "base_uri": "https://localhost:8080/"
        },
        "outputId": "5caa5014-0742-46c2-aa90-6a31722146d1"
      },
      "source": [
        "cirq.unitary(cirq.CNOT)"
      ],
      "execution_count": null,
      "outputs": [
        {
          "output_type": "execute_result",
          "data": {
            "text/plain": [
              "array([[1.+0.j, 0.+0.j, 0.+0.j, 0.+0.j],\n",
              "       [0.+0.j, 1.+0.j, 0.+0.j, 0.+0.j],\n",
              "       [0.+0.j, 0.+0.j, 0.+0.j, 1.+0.j],\n",
              "       [0.+0.j, 0.+0.j, 1.+0.j, 0.+0.j]])"
            ]
          },
          "metadata": {},
          "execution_count": 46
        }
      ]
    },
    {
      "cell_type": "markdown",
      "metadata": {
        "id": "khD7BYNRWJXK"
      },
      "source": [
        "The [Controlled NOT gate](https://en.m.wikipedia.org/wiki/Controlled_NOT_gate) (also C-NOT or CNOT, controlled Pauli-X) is a quantum logic gate that is an essential component in the construction of a gate-based quantum computer. **It can be used to entangle and disentangle Bell states**. Any quantum circuit can be simulated to an arbitrary degree of accuracy using a combination of CNOT gates and single qubit rotations."
      ]
    },
    {
      "cell_type": "markdown",
      "metadata": {
        "id": "XjXVjG5wWjQn"
      },
      "source": [
        ">$\n",
        "\\begin{array}{|c|c|c|c|}\n",
        "\\hline {\\text { Before }} & {\\text { Before }}& {\\text { After }}& {\\text { After }} \\\\\n",
        "\\hline \\text { Control } & \\text { Target } & \\text { Control } & \\text { Target } \\\\\n",
        "\\hline|0\\rangle & |0\\rangle & |0\\rangle & |0\\rangle \\\\\n",
        "\\hline|0\\rangle & |1\\rangle & |0\\rangle & |1\\rangle \\\\\n",
        "\\hline|1\\rangle & |0\\rangle & |1\\rangle & |1\\rangle \\\\\n",
        "\\hline|1\\rangle & |1\\rangle & |1\\rangle & |0\\rangle \\\\\n",
        "\\hline\n",
        "\\end{array}\n",
        "$"
      ]
    },
    {
      "cell_type": "markdown",
      "metadata": {
        "id": "_e7Iu9kdXSdI"
      },
      "source": [
        "A common application of the $\\mathrm{C}_{\\text {NOT }}$ gate is to maximally entangle two qubits into the $\\left|\\Phi^{+}\\right\\rangle$ Bell state; this forms part of the setup of the superdense coding, quantum teleportation, and entangled quantum cryptography algorithms."
      ]
    },
    {
      "cell_type": "markdown",
      "metadata": {
        "id": "oNsYOdI-A1rh"
      },
      "source": [
        "CNOT or controlled Pauli-X.\n",
        "\n",
        "* **Verschrankt zwei Qubits und invertiert das Ziel-Qubit**, wenn das Kontroll-Qubit 1 ist:\n",
        "\n",
        "> $|00\\rangle \\rightarrow|00\\rangle$\n",
        "\n",
        "> $|01\\rangle \\rightarrow|01\\rangle$\n",
        "\n",
        "> $|10\\rangle \\rightarrow|11\\rangle$\n",
        "\n",
        "> $|11\\rangle \\rightarrow|10\\rangle$\n",
        "\n",
        "Matrix-Darstellung:\n",
        "\n",
        "> $\\left(\\begin{array}{llll}1 & 0 & 0 & 0 \\\\ 0 & 1 & 0 & 0 \\\\ 0 & 0 & 0 & 1 \\\\ 0 & 0 & 1 & 0\\end{array}\\right)$"
      ]
    },
    {
      "cell_type": "markdown",
      "metadata": {
        "id": "cj9br36Vk44_"
      },
      "source": [
        "The CNOT (or controlled Pauli- $X$ ) gate can be described as the gate that maps the basis states $|a, b\\rangle \\mapsto|a, a \\oplus b\\rangle$, where $\\oplus$ is XOR.\n",
        "\n",
        "**Controlled-U Gate**\n",
        "\n",
        "More generally if $U$ is a gate that operates on single qubits with matrix representation\n",
        "\n",
        ">$\n",
        "U=\\left[\\begin{array}{ll}\n",
        "u_{00} & u_{01} \\\\\n",
        "u_{10} & u_{11}\n",
        "\\end{array}\\right]\n",
        "$\n",
        "\n",
        "then the controlled-U gate is a gate that operates on two qubits in such a way that the first qubit serves as a control.\n",
        "\n",
        "It maps the basis states as follows:"
      ]
    },
    {
      "cell_type": "markdown",
      "metadata": {
        "id": "Tak_03Fvkl1v"
      },
      "source": [
        "$|00\\rangle \\mapsto|00\\rangle$\n",
        "\n",
        "$|01\\rangle \\mapsto|01\\rangle$\n",
        "\n",
        "$|10\\rangle \\mapsto|1\\rangle \\otimes U|0\\rangle=|1\\rangle \\otimes\\left(u_{00}|0\\rangle+u_{10}|1\\rangle\\right)$\n",
        "\n",
        "$|11\\rangle \\mapsto|1\\rangle \\otimes U|1\\rangle=|1\\rangle \\otimes\\left(u_{01}|0\\rangle+u_{11}|1\\rangle\\right)$\n",
        "\n",
        "The matrix representing the controlled $U$ is\n",
        "\n",
        ">$\n",
        "\\mathrm{C} U=\\left[\\begin{array}{cccc}\n",
        "1 & 0 & 0 & 0 \\\\\n",
        "0 & 1 & 0 & 0 \\\\\n",
        "0 & 0 & u_{00} & u_{01} \\\\\n",
        "0 & 0 & u_{10} & u_{11}\n",
        "\\end{array}\\right]\n",
        "$"
      ]
    },
    {
      "cell_type": "markdown",
      "metadata": {
        "id": "PFjTkqQokCsL"
      },
      "source": [
        "**When U is one of the Pauli operators, X,Y, Z, the respective terms \"controlled-X\", \"controlled-Y\", or \"controlled-Z\" are sometimes used**.\n",
        "Sometimes this is shortened to just CX, CY and CZ."
      ]
    },
    {
      "cell_type": "markdown",
      "metadata": {
        "id": "QhT8fxnaNT1l"
      },
      "source": [
        "**Code example: Create Bell state**"
      ]
    },
    {
      "cell_type": "code",
      "metadata": {
        "id": "tqtfaFwR8CEu"
      },
      "source": [
        "# Create Vanilla Qubits\n",
        "# Named Qubit\n",
        "a = cirq.NamedQubit(\"a\")\n",
        "b = cirq.NamedQubit(\"b\")\n",
        "\n",
        "#Line-Qubit\n",
        "qubits = cirq.LineQubit.range(2)"
      ],
      "execution_count": null,
      "outputs": []
    },
    {
      "cell_type": "code",
      "metadata": {
        "id": "zBdsoUTDg28-",
        "colab": {
          "base_uri": "https://localhost:8080/"
        },
        "outputId": "ea5bde48-037f-4b01-e04c-2dfb6e8aa2f9"
      },
      "source": [
        "# Define operations\n",
        "ops=[cirq.H(a), # Superposition\n",
        "     cirq.CNOT(a,b), # Entanglement\n",
        "     cirq.H(a),\n",
        "     cirq.measure(a,b)] # Measurement\n",
        "\n",
        "# Build circuit\n",
        "circuit=cirq.Circuit(ops)\n",
        "\n",
        "print(circuit)"
      ],
      "execution_count": null,
      "outputs": [
        {
          "output_type": "stream",
          "name": "stdout",
          "text": [
            "a: ───H───@───H───M───\n",
            "          │       │\n",
            "b: ───────X───────M───\n"
          ]
        }
      ]
    },
    {
      "cell_type": "markdown",
      "metadata": {
        "id": "nxq5eTXkmys2"
      },
      "source": [
        "*More about creating Bell state from superposition & entanglement: [Demystifying Superdense Coding](https://medium.com/qiskit/demystifying-superdense-coding-41d46401910e)*"
      ]
    },
    {
      "cell_type": "code",
      "metadata": {
        "id": "dF6YnhaagPp2",
        "colab": {
          "base_uri": "https://localhost:8080/"
        },
        "outputId": "0a0b5fac-578b-46bc-f020-fd9753a885a5"
      },
      "source": [
        "# Run Simulations & Measurements\n",
        "simulator = cirq.Simulator()\n",
        "result = simulator.run(circuit,repetitions=100)\n",
        "print('Measurement results')\n",
        "print(result)"
      ],
      "execution_count": null,
      "outputs": [
        {
          "output_type": "stream",
          "name": "stdout",
          "text": [
            "Measurement results\n",
            "a,b=1110010101010110111100101011011111100100110101101101110000110001010000101011100100111110000001011001, 1100000001000011000100101011011000110101101001100111111001101000001100010010100010100100001010100000\n"
          ]
        }
      ]
    },
    {
      "cell_type": "code",
      "metadata": {
        "id": "NMhisVFLhpHX",
        "colab": {
          "base_uri": "https://localhost:8080/",
          "height": 295
        },
        "outputId": "17879c7d-4006-4943-b674-5c7805858852"
      },
      "source": [
        "# Visualization\n",
        "# After doing that, you should see the quantum state become ∣00⟩+∣11⟩\n",
        "_ = cirq.vis.plot_state_histogram(result) #, plt.subplot())\n",
        "# https://quantumai.google/cirq/tutorials/state_histograms"
      ],
      "execution_count": null,
      "outputs": [
        {
          "output_type": "display_data",
          "data": {
            "image/png": "[encoded data removed]",
            "text/plain": [
              "<Figure size 432x288 with 1 Axes>"
            ]
          },
          "metadata": {
            "needs_background": "light"
          }
        }
      ]
    },
    {
      "cell_type": "code",
      "metadata": {
        "id": "9ZgU_Al4jz7R",
        "colab": {
          "base_uri": "https://localhost:8080/"
        },
        "outputId": "3b0b9a45-725e-4ac8-cf81-68ffd08d4b31"
      },
      "source": [
        "result.histogram(key=\"a,b\")"
      ],
      "execution_count": null,
      "outputs": [
        {
          "output_type": "execute_result",
          "data": {
            "text/plain": [
              "Counter({0: 32, 1: 15, 2: 28, 3: 25})"
            ]
          },
          "metadata": {},
          "execution_count": 20
        }
      ]
    },
    {
      "cell_type": "markdown",
      "metadata": {
        "id": "8esNV4PbrpS7"
      },
      "source": [
        "**Make Bell state operations reverse**"
      ]
    },
    {
      "cell_type": "code",
      "metadata": {
        "id": "pexUpicI8DgZ"
      },
      "source": [
        "# Create Vanilla Qubits\n",
        "# Named Qubit\n",
        "a = cirq.NamedQubit(\"a\")\n",
        "b = cirq.NamedQubit(\"b\")\n",
        "\n",
        "#Line-Qubit\n",
        "qubits = cirq.LineQubit.range(2)"
      ],
      "execution_count": null,
      "outputs": []
    },
    {
      "cell_type": "markdown",
      "metadata": {
        "id": "ykAgwQkAtveF"
      },
      "source": [
        "*Operators are unitary*"
      ]
    },
    {
      "cell_type": "code",
      "metadata": {
        "id": "KaXrr6z2rbz0",
        "colab": {
          "base_uri": "https://localhost:8080/"
        },
        "outputId": "9599073c-ccd4-4a91-d99e-945ebe9a7722"
      },
      "source": [
        "# Define operations\n",
        "ops=[cirq.H(a), # Superposition\n",
        "     cirq.CNOT(a,b), # Entanglement\n",
        "     cirq.CNOT(a,b),\n",
        "     cirq.H(a),\n",
        "     cirq.measure(a,b)] # Measurement\n",
        "\n",
        "# Build circuit\n",
        "circuit=cirq.Circuit(ops)\n",
        "\n",
        "print(circuit)"
      ],
      "execution_count": null,
      "outputs": [
        {
          "output_type": "stream",
          "name": "stdout",
          "text": [
            "a: ───H───@───@───H───M───\n",
            "          │   │       │\n",
            "b: ───────X───X───────M───\n"
          ]
        }
      ]
    },
    {
      "cell_type": "code",
      "metadata": {
        "id": "eW2mzWkTrvuI",
        "colab": {
          "base_uri": "https://localhost:8080/"
        },
        "outputId": "2fe1bb4c-48f5-45e3-8367-68f05a15f430"
      },
      "source": [
        "# Run Simulations & Measurements\n",
        "# Outcome should be same as step 1: 0, back to as if nothing happened\n",
        "simulator = cirq.Simulator()\n",
        "result = simulator.run(circuit,repetitions=100)\n",
        "print('Measurement results')\n",
        "print(result)"
      ],
      "execution_count": null,
      "outputs": [
        {
          "output_type": "stream",
          "name": "stdout",
          "text": [
            "Measurement results\n",
            "a,b=0000000000000000000000000000000000000000000000000000000000000000000000000000000000000000000000000000, 0000000000000000000000000000000000000000000000000000000000000000000000000000000000000000000000000000\n"
          ]
        }
      ]
    },
    {
      "cell_type": "code",
      "metadata": {
        "id": "1hr1hYZZr4gA",
        "colab": {
          "base_uri": "https://localhost:8080/"
        },
        "outputId": "0f15896c-9ae0-4c7c-b766-e11de5de2f8c"
      },
      "source": [
        "result.histogram(key=\"a,b\")"
      ],
      "execution_count": null,
      "outputs": [
        {
          "output_type": "execute_result",
          "data": {
            "text/plain": [
              "Counter({0: 100})"
            ]
          },
          "metadata": {},
          "execution_count": 13
        }
      ]
    },
    {
      "cell_type": "code",
      "metadata": {
        "id": "ZH1uLG6ar7Ds",
        "colab": {
          "base_uri": "https://localhost:8080/"
        },
        "outputId": "6e26349e-f5b8-4c61-fe6d-14f4eb8fdb3d"
      },
      "source": [
        "# Visualization\n",
        "# After doing that, you should see the quantum state become ∣00⟩+∣11⟩\n",
        "_ = cirq.vis.plot_state_histogram(result) #, plt.subplot())\n",
        "# https://quantumai.google/cirq/tutorials/state_histograms"
      ],
      "execution_count": null,
      "outputs": [
        {
          "output_type": "display_data",
          "data": {
            "image/png": "[encoded data removed]",
            "text/plain": [
              "<Figure size 432x288 with 1 Axes>"
            ]
          },
          "metadata": {
            "needs_background": "light"
          }
        }
      ]
    },
    {
      "cell_type": "markdown",
      "metadata": {
        "id": "xwCqkmcpML45"
      },
      "source": [
        "**Multiple Qubits: Product State vs Entangled State (Bell State)**"
      ]
    },
    {
      "cell_type": "markdown",
      "metadata": {
        "id": "lE-o94B525zt"
      },
      "source": [
        "* As the name implies, entanglement is a property of quantum mechanical systems that only reveals itself when states begin to interact.\n",
        "\n",
        "* When two qubits are brought together and we'd like to consider the new joint system that they form, we use a fancy new symbol: ⊗. This is called the tensor product, but really it just represents a combination of two or more quantum states.\n",
        "\n",
        "**Product States**\n",
        "* States which can be described as a tensor product of two independent superpositions are known as product states.\n",
        "\n",
        "A joint state of two initialized qubits can be represented as\n",
        "\n",
        ">$|0\\rangle\\otimes|0\\rangle$\n",
        "\n",
        "If we apply the Hadamard gate to the first qubit, it transforms but leaves the other qubit unaffected, since the Hadamard is a single qubit gate:\n",
        "\n",
        ">$\n",
        "\\mathbf{H}|0\\rangle \\otimes|0\\rangle=\\left(\\frac{1}{\\sqrt{2}}|0\\rangle+\\frac{1}{\\sqrt{2}}|1\\rangle\\right) \\otimes|0\\rangle\n",
        "$\n",
        "\n",
        "**Exkurs**: wenn ein Gate bei einem Single Qubit mehr Probability als 0,5 hat, kann man das so schreiben (Achtung: Koeffizient ist Wurzel aus Probability),\n",
        "\n",
        "> $\\mathbf{H}|0\\rangle\\ = (0,9) * |0\\rangle + (0,1) * |1\\rangle$\n",
        "\n",
        "* 0,71 ist für 50% Probability (man muss es squared nehmen!)\n",
        "\n",
        "* 0,9 ist für 0,99 Probability\n",
        "\n",
        "* 1 ist für 100% Probability für State 0, der andere Term hat dann 0 % und verschwindet. Es bleibt dann nur noch $|0\\rangle$\n",
        "\n",
        "The tensor product is distributive, which in this case means it acts much like multiplication:\n",
        "\n",
        ">$\n",
        "\\mathbf{H}|0\\rangle \\otimes|0\\rangle=\\frac{1}{\\sqrt{2}}|0\\rangle \\otimes|0\\rangle+\\frac{1}{\\sqrt{2}}|1\\rangle \\otimes|0\\rangle \\text {. }\n",
        "$\n",
        "\n",
        "Using a series of single-qubit gates, we can transform two initialized qubits into two new arbitrary states:\n",
        "\n",
        ">$\n",
        "\\begin{array}{l}\n",
        "\\text { Qubit 1: } \\quad|0\\rangle \\rightarrow a_{1}|0\\rangle+a_{2}|1\\rangle \\\\\n",
        "\\text { Qubit 2: } \\quad|0\\rangle \\rightarrow b_{1}|0\\rangle+b_{2}|1\\rangle .\n",
        "\\end{array}\n",
        "$\n",
        "\n",
        "The resulting 2 -qubit state is usually written as their product using a fancy new symbol:\n",
        "\n",
        ">$|0\\rangle\n",
        "\\otimes|0\\rangle \\rightarrow\\left(a_{1}|0\\rangle+a_{2}|1\\rangle\\right) \\otimes\\left(b_{1}|0\\rangle+b_{2}|1\\rangle\\right)\n",
        "$\n",
        "\n",
        "Another way to express this would be:\n",
        "\n",
        "> $a_{1} b_{1}|0\\rangle \\otimes|0\\rangle+a_{1} b_{2}|0\\rangle \\otimes|1\\rangle+a_{2} b_{1}|1\\rangle \\otimes|0\\rangle+a_{2} b_{2}|1\\rangle \\otimes|1\\rangle$\n",
        "\n",
        "**Bell state (Entangled State)**\n",
        "\n",
        "* To simplify notations, we sometimes omit the $\\otimes$ sign and only **write $|00\\rangle$ to denote that both the first qubit and the second qubit are in the $|0\\rangle$ state**.\n",
        "\n",
        "* There are four total 2 -qubit combinations, including $|01\\rangle=|0\\rangle \\otimes|1\\rangle$, and so on.\n",
        "\n",
        "With this simplified notation, a general 2 -qubit joint state can be written as an arbitrary linear combination of four 2 -qubit computational states:\n",
        "\n",
        ">$\n",
        "a|00\\rangle+b|01\\rangle+c|10\\rangle+d|11\\rangle\n",
        "$\n",
        "\n",
        "This is quite a bit different than the joint state found by preparing both qubits into independent single-qubit superpositions:\n",
        "\n",
        ">$\n",
        "\\left(a_{1}|0\\rangle+a_{2}|1\\rangle\\right) \\otimes\\left(b_{1}|0\\rangle+b_{2}|1\\rangle\\right)=a_{1} b_{1}|00\\rangle+a_{1} b_{2}|01\\rangle+a_{2} b_{1}|10\\rangle+\n",
        "$\n",
        "\n",
        "* simple and well-known joint state called the Bell state:\n",
        "\n",
        "> $\\frac{1}{\\sqrt{2}}|00\\rangle+\\frac{1}{\\sqrt{2}}|11\\rangle$\n",
        "\n",
        "* you can NOT write the Bell state as a product of two single-qubit states\n",
        "\n",
        "Entangled States\n",
        "* The Bell state is the prototypical example of an entangled state.\n",
        "* Two qubits which are entangled can never be separated into two independent states: their coefficients are a tangled-up mess:\n",
        "\n",
        "> $|\\psi\\rangle_{\\text {Bell }}=\\frac{1}{\\sqrt{2}}(|00\\rangle+|11\\rangle)$"
      ]
    },
    {
      "cell_type": "markdown",
      "metadata": {
        "id": "_ml34dkmRTZb"
      },
      "source": [
        "![ggg](https://raw.githubusercontent.com/deltorobarba/repo/master/quantum_036.jpg)"
      ]
    },
    {
      "cell_type": "markdown",
      "metadata": {
        "id": "FwxQFhNvRcfh"
      },
      "source": [
        "* We can contrast this with n-qubit product states, where the state of every qubit is known and they have only 2n independent amplitudes. This is a vast difference!\n",
        "\n",
        "* This means that most of the n-qubit space is populated by entangled states, ones that can't be written as a simple product of its components."
      ]
    },
    {
      "cell_type": "markdown",
      "metadata": {
        "id": "Te53NAyORwK7"
      },
      "source": [
        "* We will see in a bit that with only two parameterized gates, we could transform an initialized qubit into any possible single qubit state on the surface of the Bloch sphere:\n",
        "\n",
        "> $\\mathcal{R}_{\\phi} \\mathcal{R}_{\\theta}|0\\rangle=a_{1}|0\\rangle+a_{2}|1\\rangle$"
      ]
    },
    {
      "cell_type": "markdown",
      "metadata": {
        "id": "uljvt0GuUJ20"
      },
      "source": [
        "**How to get to an Entanglement Circuit?**"
      ]
    },
    {
      "cell_type": "markdown",
      "metadata": {
        "id": "nzip0tFBUn9u"
      },
      "source": [
        "To start, we can prepare two qubits in the $|0\\rangle$ state. At this point there's no connection between them, and we can write them in the product state $|\\psi\\rangle=$\n",
        "$|0\\rangle \\otimes|0\\rangle$ which is the same as $|00\\rangle$.\n",
        "\n",
        "Comparing $|\\psi\\rangle$ to the Bell state, we see that at some point along the way, we'll need to get into a superposition. Using the set of gates we currently have at our disposal $(\\mathbf{X}, \\mathbf{Z}, \\mathbf{H})$, there doesn't appear to be a single gate that we can apply to take us from $|\\psi\\rangle$ to $\\left|\\psi_{\\text {Bell }}\\right\\rangle .$ Naively, it seems that we have two tasks ahead of\n",
        "us:\n",
        "\n",
        "1. Getting $|\\psi\\rangle$ into a superposition.\n",
        "\n",
        "2. Adjusting the individual kets so that we're in the Bell state.\n",
        "\n",
        "At the moment we have the Hadamard, which can move one of our qubits into superposition. For argument's sake, let's apply it to the first qubit:\n",
        "$$\n",
        "\\begin{aligned}\n",
        "\\mathbf{H}_{1}|\\psi\\rangle &=(\\mathbf{H}|0\\rangle) \\otimes|0\\rangle \\\\\n",
        "&=\\frac{|0\\rangle+|1\\rangle}{\\sqrt{2}} \\otimes|0\\rangle \\\\\n",
        "&=\\frac{|00\\rangle+|10\\rangle}{\\sqrt{2}} .\n",
        "\\end{aligned}\n",
        "$$"
      ]
    },
    {
      "cell_type": "markdown",
      "metadata": {
        "id": "4cfRfbdXUylr"
      },
      "source": [
        "Now we need to find gates that allow us to coordinate action on two qubits."
      ]
    },
    {
      "cell_type": "markdown",
      "metadata": {
        "id": "-wLmVt2GVInj"
      },
      "source": [
        "While single qubit gates like $\\mathbf{X}$ and $\\mathbf{H}$ can't get us all the way to the Bell state, we'd still like to keep our gate set as simple as possible. In this spirit, let's stick with the Hadamard gate to perform our superposition, and look for a multiqubit gate $\\mathrm{M}$ that can get us the rest of the way:\n",
        "\n",
        "> $\n",
        "\\frac{|00\\rangle+|10\\rangle}{\\sqrt{2}} \\stackrel{\\mathrm{M}}{\\longrightarrow} \\frac{|00\\rangle+|11\\rangle}{\\sqrt{2}}\n",
        "$\n",
        "\n",
        "**Die erste Spalte mit 0 und 1 (links jeweils) zeigt, dass dieses Qubit in einer Superposition ist mit 50% Probability von 0 und 1, während das zweite Qubit (jeweils rechts) 0 und 0 ist, weil es sich nich im initialen Zustand befindet, der immer 100% 0 ist!**\n",
        "\n",
        "Following behaviors would make for a suitable multi-qubit gate M:\n",
        "\n",
        "* Flip qubit 2 whenever qubit 1 and qubit 2 are opposite\n",
        "\n",
        "* Flip qubit 2 if qubit 1 is in state ∣1⟩\n",
        "\n",
        "* we need to keep the core principle of quantum mechanics — reversibility!"
      ]
    },
    {
      "cell_type": "markdown",
      "metadata": {
        "id": "F-hyI4Y8WH5A"
      },
      "source": [
        "Consider the action of $\\mathbf{M}$ on the two-qubit basis states: if a $|11\\rangle$ term appears in the quantum state after we apply $\\mathrm{M}$, we can't tell if it's because we started with a $|11\\rangle$ term, or if it's because we started with a $|10\\rangle$ term.\n",
        "\n",
        "The preferred entangling gate, called CNOT (controlled NOT), gets us into the Bell state while respecting the reversibility condition:\n",
        "$$\n",
        "\\begin{array}{l}\n",
        "|00\\rangle \\stackrel{\\text { CNOT }}{\\longrightarrow}|00\\rangle \\\\\n",
        "|01\\rangle \\stackrel{\\text { CNOT }}{\\longrightarrow}|01\\rangle \\\\\n",
        "|10\\rangle \\stackrel{\\text { CNOT }}{\\longrightarrow}|11\\rangle \\\\\n",
        "|11\\rangle \\stackrel{\\text { CNOT }}{\\longrightarrow}|10\\rangle .\n",
        "\\end{array}\n",
        "$$"
      ]
    },
    {
      "cell_type": "markdown",
      "metadata": {
        "id": "GsYSv3aWW02A"
      },
      "source": [
        "> CNOT, acting on a two-qubit term $\\left|q_{1} q_{2}\\right\\rangle$, applies the $\\mathbf{N O T}(\\mathbf{X})$ gate to the second qubit only if the first qubit is in state $|1\\rangle$. The first qubit controls the action on the second."
      ]
    },
    {
      "cell_type": "markdown",
      "metadata": {
        "id": "tnpFAHpAX3CO"
      },
      "source": [
        "This enables us to prepare the entangled Bell state and is a subroutine\n",
        "\n",
        "> $\\frac{|10\\rangle+|00\\rangle}{\\sqrt{2}} \\stackrel{\\text { CNOT }}{\\longrightarrow} \\frac{|11\\rangle+|00\\rangle}{\\sqrt{2}}$"
      ]
    },
    {
      "cell_type": "markdown",
      "metadata": {
        "id": "exg3Vtx79vEF"
      },
      "source": [
        "**For Quantum Cryptography**"
      ]
    },
    {
      "cell_type": "markdown",
      "metadata": {
        "id": "9JG9DW7T9yVu"
      },
      "source": [
        "* But Alice and Bob aren't stuck with the computational basis: **the Bell state is entangled no matter what basis we use to analyze it**. This is particularly easy to see by switching to the Hadamard basis.\n",
        "\n",
        "* As we showed before, the Bell state has the same form in the computational basis as it does in the Hadamard basis:"
      ]
    },
    {
      "cell_type": "markdown",
      "metadata": {
        "id": "BJJVI3nJ95Sd"
      },
      "source": [
        "> $\\left|\\psi_{\\text {Bell }}\\right\\rangle=\\frac{|00\\rangle+|11\\rangle}{\\sqrt{2}}=\\frac{|--\\rangle+|++\\rangle}{\\sqrt{2}}$"
      ]
    },
    {
      "cell_type": "markdown",
      "metadata": {
        "id": "Ku7YIhNG99wX"
      },
      "source": [
        "* So, Alice and Bob are free to use either basis to coordinate their bits."
      ]
    },
    {
      "cell_type": "markdown",
      "metadata": {
        "id": "Dy2g1dN5CzEk"
      },
      "source": [
        "*If Alice measures her qubit using the Hadamard basis, what are the possibilities for Bob's measurement in the computational basis?*"
      ]
    },
    {
      "cell_type": "markdown",
      "metadata": {
        "id": "CBI_xr4hDMDh"
      },
      "source": [
        "![gg](https://raw.githubusercontent.com/deltorobarba/repo/master/quantum_037.jpg)"
      ]
    },
    {
      "cell_type": "markdown",
      "metadata": {
        "id": "op9AlkI4DSIz"
      },
      "source": [
        "![ggg](https://raw.githubusercontent.com/deltorobarba/repo/master/quantum_038.jpg)"
      ]
    },
    {
      "cell_type": "markdown",
      "metadata": {
        "id": "dba0LoLwGlRc"
      },
      "source": [
        "**CNOT Gate and Entanglement**"
      ]
    },
    {
      "cell_type": "markdown",
      "metadata": {
        "id": "TPNGjNBmG7Fi"
      },
      "source": [
        "Quantum states $|\\psi\\rangle$ aren't always one of the computational basis states.\n",
        "\n",
        "In general, they can also be (ignoring normalization factors)\n",
        "\n",
        ">$\n",
        "|+\\rangle=|0\\rangle+|1\\rangle\n",
        "$\n",
        "\n",
        "or\n",
        "\n",
        ">$\n",
        "|-\\rangle=|0\\rangle-|1\\rangle \\text {. }\n",
        "$"
      ]
    },
    {
      "cell_type": "markdown",
      "metadata": {
        "id": "TUslZaxCGow1"
      },
      "source": [
        "*What does the CNOT gate do with these input states?*"
      ]
    },
    {
      "cell_type": "markdown",
      "metadata": {
        "id": "mB5YrBr6GeKQ"
      },
      "source": [
        "![ggg](https://raw.githubusercontent.com/deltorobarba/repo/master/quantum_039.jpg)"
      ]
    },
    {
      "cell_type": "markdown",
      "metadata": {
        "id": "MZO0odc6qWrf"
      },
      "source": [
        "###### *Superdense Coding (Bell State): 2 Qubits - H, CNOT & X-Gate: Superdense Coding for Quantum Communication*"
      ]
    },
    {
      "cell_type": "markdown",
      "metadata": {
        "id": "9t1z-q7TYSAb"
      },
      "source": [
        "Superdense Coding is a method to transmit two classical bits of information by sending only one qubit of information. This is accomplished by pre-sharing an entangled state between the sender and the receiver. This entangled state allows the receiver of the one qubit of information to decode the two classical bits that were originally encoded by the sender."
      ]
    },
    {
      "cell_type": "markdown",
      "metadata": {
        "id": "lk5lRZUzYycF"
      },
      "source": [
        "*Complete example from Cirq*"
      ]
    },
    {
      "cell_type": "code",
      "metadata": {
        "colab": {
          "base_uri": "https://localhost:8080/",
          "height": 357
        },
        "id": "QjgzsbSpYlMx",
        "outputId": "901dcfab-6cb6-4340-8dd4-16ed82086f9a"
      },
      "source": [
        "def make_superdense_circuit():\n",
        "    circuit = cirq.Circuit()\n",
        "    q0, q1, q2, q3, q4 = cirq.LineQubit.range(5)\n",
        "\n",
        "    # Randomly sets q0 and q1 to either 0 or 1\n",
        "    circuit.append([cirq.H(q0), cirq.H(q1)])\n",
        "    circuit.append(cirq.measure(q0, q1, key=\"input \"))\n",
        "\n",
        "    # Creates Bell State to be shared on q2 and q4\n",
        "    circuit.append([cirq.H(q2), cirq.CNOT(q2, q4)])\n",
        "    # Step 1 of encoding (controlled NOT gate on q1 / q2)\n",
        "    circuit.append(cirq.CNOT(q1, q2))\n",
        "    # Step 2 of encoding (controlled Z gate on q0 / q2)\n",
        "    circuit.append(cirq.CZ(q0, q2))\n",
        "    # Sends encoded information to receiver\n",
        "    circuit.append(cirq.SWAP(q2, q3))\n",
        "    # Step 1 of decoding (controlled NOT gate on q3 and q4)\n",
        "    circuit.append(cirq.CNOT(q3, q4))\n",
        "    # Step 2 of decoding (Hadamard gate on q3)\n",
        "    circuit.append(cirq.H(q3))\n",
        "    # Measurement by receiver to decode bits\n",
        "    circuit.append(cirq.measure(q3, q4, key=\"output\"))\n",
        "\n",
        "    return circuit\n",
        "\n",
        "\n",
        "def main():\n",
        "    circuit = make_superdense_circuit()\n",
        "    print(\"Circuit:\")\n",
        "    print(circuit)\n",
        "\n",
        "    sim = cirq.Simulator()\n",
        "    results = sim.run(circuit, repetitions=20)\n",
        "    print(\"\\nResults:\")\n",
        "    print(results)\n",
        "\n",
        "\n",
        "if __name__ == '__main__':\n",
        "    main()"
      ],
      "execution_count": null,
      "outputs": [
        {
          "output_type": "error",
          "ename": "NameError",
          "evalue": "ignored",
          "traceback": [
            "\u001b[0;31m---------------------------------------------------------------------------\u001b[0m",
            "\u001b[0;31mNameError\u001b[0m                                 Traceback (most recent call last)",
            "\u001b[0;32m<ipython-input-1-b2894455c156>\u001b[0m in \u001b[0;36m<module>\u001b[0;34m()\u001b[0m\n\u001b[1;32m     37\u001b[0m \u001b[0;34m\u001b[0m\u001b[0m\n\u001b[1;32m     38\u001b[0m \u001b[0;32mif\u001b[0m \u001b[0m__name__\u001b[0m \u001b[0;34m==\u001b[0m \u001b[0;34m'__main__'\u001b[0m\u001b[0;34m:\u001b[0m\u001b[0;34m\u001b[0m\u001b[0;34m\u001b[0m\u001b[0m\n\u001b[0;32m---> 39\u001b[0;31m     \u001b[0mmain\u001b[0m\u001b[0;34m(\u001b[0m\u001b[0;34m)\u001b[0m\u001b[0;34m\u001b[0m\u001b[0;34m\u001b[0m\u001b[0m\n\u001b[0m",
            "\u001b[0;32m<ipython-input-1-b2894455c156>\u001b[0m in \u001b[0;36mmain\u001b[0;34m()\u001b[0m\n\u001b[1;32m     26\u001b[0m \u001b[0;34m\u001b[0m\u001b[0m\n\u001b[1;32m     27\u001b[0m \u001b[0;32mdef\u001b[0m \u001b[0mmain\u001b[0m\u001b[0;34m(\u001b[0m\u001b[0;34m)\u001b[0m\u001b[0;34m:\u001b[0m\u001b[0;34m\u001b[0m\u001b[0;34m\u001b[0m\u001b[0m\n\u001b[0;32m---> 28\u001b[0;31m     \u001b[0mcircuit\u001b[0m \u001b[0;34m=\u001b[0m \u001b[0mmake_superdense_circuit\u001b[0m\u001b[0;34m(\u001b[0m\u001b[0;34m)\u001b[0m\u001b[0;34m\u001b[0m\u001b[0;34m\u001b[0m\u001b[0m\n\u001b[0m\u001b[1;32m     29\u001b[0m     \u001b[0mprint\u001b[0m\u001b[0;34m(\u001b[0m\u001b[0;34m\"Circuit:\"\u001b[0m\u001b[0;34m)\u001b[0m\u001b[0;34m\u001b[0m\u001b[0;34m\u001b[0m\u001b[0m\n\u001b[1;32m     30\u001b[0m     \u001b[0mprint\u001b[0m\u001b[0;34m(\u001b[0m\u001b[0mcircuit\u001b[0m\u001b[0;34m)\u001b[0m\u001b[0;34m\u001b[0m\u001b[0;34m\u001b[0m\u001b[0m\n",
            "\u001b[0;32m<ipython-input-1-b2894455c156>\u001b[0m in \u001b[0;36mmake_superdense_circuit\u001b[0;34m()\u001b[0m\n\u001b[1;32m      1\u001b[0m \u001b[0;32mdef\u001b[0m \u001b[0mmake_superdense_circuit\u001b[0m\u001b[0;34m(\u001b[0m\u001b[0;34m)\u001b[0m\u001b[0;34m:\u001b[0m\u001b[0;34m\u001b[0m\u001b[0;34m\u001b[0m\u001b[0m\n\u001b[0;32m----> 2\u001b[0;31m     \u001b[0mcircuit\u001b[0m \u001b[0;34m=\u001b[0m \u001b[0mcirq\u001b[0m\u001b[0;34m.\u001b[0m\u001b[0mCircuit\u001b[0m\u001b[0;34m(\u001b[0m\u001b[0;34m)\u001b[0m\u001b[0;34m\u001b[0m\u001b[0;34m\u001b[0m\u001b[0m\n\u001b[0m\u001b[1;32m      3\u001b[0m     \u001b[0mq0\u001b[0m\u001b[0;34m,\u001b[0m \u001b[0mq1\u001b[0m\u001b[0;34m,\u001b[0m \u001b[0mq2\u001b[0m\u001b[0;34m,\u001b[0m \u001b[0mq3\u001b[0m\u001b[0;34m,\u001b[0m \u001b[0mq4\u001b[0m \u001b[0;34m=\u001b[0m \u001b[0mcirq\u001b[0m\u001b[0;34m.\u001b[0m\u001b[0mLineQubit\u001b[0m\u001b[0;34m.\u001b[0m\u001b[0mrange\u001b[0m\u001b[0;34m(\u001b[0m\u001b[0;36m5\u001b[0m\u001b[0;34m)\u001b[0m\u001b[0;34m\u001b[0m\u001b[0;34m\u001b[0m\u001b[0m\n\u001b[1;32m      4\u001b[0m \u001b[0;34m\u001b[0m\u001b[0m\n\u001b[1;32m      5\u001b[0m     \u001b[0;31m# Randomly sets q0 and q1 to either 0 or 1\u001b[0m\u001b[0;34m\u001b[0m\u001b[0;34m\u001b[0m\u001b[0;34m\u001b[0m\u001b[0m\n",
            "\u001b[0;31mNameError\u001b[0m: name 'cirq' is not defined"
          ]
        }
      ]
    },
    {
      "cell_type": "markdown",
      "metadata": {
        "id": "nPQWnRvwYoTQ"
      },
      "source": [
        "*Step by Step Walkthrough*"
      ]
    },
    {
      "cell_type": "code",
      "metadata": {
        "id": "20Va63288FK9"
      },
      "source": [
        "# Create Vanilla Qubits\n",
        "# Named Qubit\n",
        "a = cirq.NamedQubit(\"a\")\n",
        "b = cirq.NamedQubit(\"b\")\n",
        "\n",
        "#Line-Qubit\n",
        "qubits = cirq.LineQubit.range(2)"
      ],
      "execution_count": null,
      "outputs": []
    },
    {
      "cell_type": "markdown",
      "metadata": {
        "id": "pbSod7koqiXk"
      },
      "source": [
        "https://medium.com/qiskit/demystifying-superdense-coding-41d46401910e"
      ]
    },
    {
      "cell_type": "markdown",
      "metadata": {
        "id": "sZYteiqUsRV9"
      },
      "source": [
        "*Now adding Pauli X gate to alter outcome*"
      ]
    },
    {
      "cell_type": "code",
      "metadata": {
        "id": "2FZm_6jgsHAg",
        "colab": {
          "base_uri": "https://localhost:8080/"
        },
        "outputId": "f021a2a1-6f14-4715-bcf6-0047ffbf5722"
      },
      "source": [
        "# Define operations\n",
        "ops=[cirq.H(a), # Superposition\n",
        "     cirq.CNOT(a,b), # Entanglement\n",
        "     cirq.X(a), # Pauli X gate -> changes outcome from 00 to 01\n",
        "     cirq.CNOT(a,b),\n",
        "     cirq.H(a),\n",
        "     cirq.measure(a,b)] # Measurement\n",
        "\n",
        "# Build circuit\n",
        "circuit=cirq.Circuit(ops)\n",
        "\n",
        "print(circuit)"
      ],
      "execution_count": null,
      "outputs": [
        {
          "output_type": "stream",
          "name": "stdout",
          "text": [
            "a: ───H───@───X───@───H───M───\n",
            "          │       │       │\n",
            "b: ───────X───────X───────M───\n"
          ]
        }
      ]
    },
    {
      "cell_type": "code",
      "metadata": {
        "id": "S1-1MAVyuUtB",
        "colab": {
          "base_uri": "https://localhost:8080/"
        },
        "outputId": "0b9c3370-790a-49ee-afa7-1336de90ea3c"
      },
      "source": [
        "simulator = cirq.Simulator()\n",
        "result = simulator.run(circuit,repetitions=100)\n",
        "print('Measurement results')\n",
        "print(result)"
      ],
      "execution_count": null,
      "outputs": [
        {
          "output_type": "stream",
          "name": "stdout",
          "text": [
            "Measurement results\n",
            "a,b=0000000000000000000000000000000000000000000000000000000000000000000000000000000000000000000000000000, 1111111111111111111111111111111111111111111111111111111111111111111111111111111111111111111111111111\n"
          ]
        }
      ]
    },
    {
      "cell_type": "code",
      "metadata": {
        "id": "-kXujiebsaoS",
        "colab": {
          "base_uri": "https://localhost:8080/",
          "height": 295
        },
        "outputId": "0f0fdb95-7290-45bc-85d5-54a3ba1c59f1"
      },
      "source": [
        "# Visualization\n",
        "# After doing that, you should see the quantum state become ∣00⟩+∣11⟩\n",
        "_ = cirq.vis.plot_state_histogram(result) #, plt.subplot())\n",
        "# https://quantumai.google/cirq/tutorials/state_histograms"
      ],
      "execution_count": null,
      "outputs": [
        {
          "output_type": "display_data",
          "data": {
            "image/png": "[encoded data removed]",
            "text/plain": [
              "<Figure size 432x288 with 1 Axes>"
            ]
          },
          "metadata": {
            "needs_background": "light"
          }
        }
      ]
    },
    {
      "cell_type": "code",
      "metadata": {
        "id": "BYnYC_jRsdau"
      },
      "source": [
        "result.histogram(key=\"a,b\")"
      ],
      "execution_count": null,
      "outputs": []
    }
  ]
}