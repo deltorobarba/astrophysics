{
  "nbformat": 4,
  "nbformat_minor": 0,
  "metadata": {
    "accelerator": "GPU",
    "colab": {
      "name": "activation.ipynb",
      "provenance": [],
      "collapsed_sections": [],
      "include_colab_link": true
    },
    "kernelspec": {
      "name": "python3",
      "display_name": "Python 3"
    }
  },
  "cells": [
    {
      "cell_type": "markdown",
      "metadata": {
        "id": "view-in-github",
        "colab_type": "text"
      },
      "source": [
        "<a href=\"https://colab.research.google.com/github/deltorobarba/machinelearning/blob/master/activation.ipynb\" target=\"_parent\"><img src=\"https://colab.research.google.com/assets/colab-badge.svg\" alt=\"Open In Colab\"/></a>"
      ]
    },
    {
      "cell_type": "markdown",
      "metadata": {
        "colab_type": "text",
        "id": "pa49bUnKyRgF"
      },
      "source": [
        "# Activation Functions"
      ]
    },
    {
      "cell_type": "markdown",
      "metadata": {
        "id": "0N7OFxbU41pw",
        "colab_type": "text"
      },
      "source": [
        "*Author: Alexander Del Toro Barba*"
      ]
    },
    {
      "cell_type": "markdown",
      "metadata": {
        "id": "NNuFUedQd_vs",
        "colab_type": "text"
      },
      "source": [
        "## Overview"
      ]
    },
    {
      "cell_type": "markdown",
      "metadata": {
        "id": "ocvlM7Pkw5r2",
        "colab_type": "text"
      },
      "source": [
        "![Activation Function](https://raw.githubusercontent.com/deltorobarba/repo/master/activation.png)"
      ]
    },
    {
      "cell_type": "markdown",
      "metadata": {
        "id": "L0ZpemZIdcay",
        "colab_type": "text"
      },
      "source": [
        "* The activation function is the non-linear function that we apply over the output data coming out of a particular layer of neurons before it propagates as the input to the next layer.\n",
        "* Activation functions reside within neurons and transform input values into acceptable and useful range. They can introduce non-linearity to a network.\n",
        "* There are various kinds of activation functions and it has been found, empirically, that some of them works better for large datasets or particular problems than the others. \n",
        "* Neural networks extract hidden pattern from a dataset by observing given examples of known answers. Evidently, it does so by comparing its predictions to the ground truth (labeled images for example) and turning the parameters of the model. The difference between the prediction and the ground truth is called the ‘classification error’.\n",
        "* Parameters of a DL model consists of a set of weights connecting neurons across layers and bias terms which add to those layers. So, the ultimate goal is to set those weights to specific values which reduces the overall classification error. This is a minimization operation, and consequently, an optimization technique is needed.\n",
        "* The overall representation structure of a deep learning model is a highly complex nonlinear function and therefore, the optimizer is responsible for minimizing the error produced by the evaluation of this complex function. Therefore, standard optimization like linear programming does not work for DL models and innovative nonlinear optimization must be used.\n",
        "* These two components – **activation functions** and **nonlinear optimizers** – are at the core of every deep learning architecture. However, there is considerable variety in the specifics of these components.\n",
        "\n"
      ]
    },
    {
      "cell_type": "markdown",
      "metadata": {
        "id": "Bkk3VuUygpFE",
        "colab_type": "text"
      },
      "source": [
        "**Necessary Characteristics of Activation Function**\n",
        "\n",
        "Activation functions must be:\n",
        "\n",
        "1. Non-constant (obvious)\n",
        "2. Bounded\n",
        "3. Monotonically increasing\n",
        "4. Continuous\n",
        "\n",
        "These are the conditions under which the universal approximation theorem holds. The universal approximation theorem proves that, under the above conditions, any continuous function of N-variables defined on a compact subset of R^N can be approximated by a three- layer (input, hidden layer, output) neural network with that activation function.\n",
        "\n",
        "The universal approximation theorem is certainly one of the most rigorous tenets of neural networks.\n",
        "\n",
        "Of course, if the prediction problem at hand does not deal with continuous variables or cannot be approximated by a problem that does, then the above is no longer valid and the choice of activation functions becomes more of a customized problem."
      ]
    },
    {
      "cell_type": "markdown",
      "metadata": {
        "id": "a9TBxYHfg33i",
        "colab_type": "text"
      },
      "source": [
        "**Selection Criteria**\n",
        "\n",
        "Activation layers are a type of hyperparameter, and you’ll need to experiment with all of them in order to find which works best for you. You can narrow your search by referring to prior work in the field for your particular problem. For example, it has already been shown that tanh activations work better for image classification while leaky ReLUs work better for temporal sequences such as video."
      ]
    },
    {
      "cell_type": "markdown",
      "metadata": {
        "id": "GW0vpxOzOXKr",
        "colab_type": "text"
      },
      "source": [
        "# Overview of Popular Activation Functions"
      ]
    },
    {
      "cell_type": "markdown",
      "metadata": {
        "id": "68EhvxK9Pet9",
        "colab_type": "text"
      },
      "source": [
        "![Optimizer](https://raw.githubusercontent.com/deltorobarba/repo/master/optimizer_3.png)"
      ]
    },
    {
      "cell_type": "markdown",
      "metadata": {
        "id": "19dJRlYxPVGZ",
        "colab_type": "text"
      },
      "source": [
        "![Optimizer](https://raw.githubusercontent.com/deltorobarba/repo/master/optimizer_1.png)"
      ]
    },
    {
      "cell_type": "markdown",
      "metadata": {
        "id": "y64HtUX0gdQZ",
        "colab_type": "text"
      },
      "source": [
        "Sources: [Stanford.edu](https://stanford.edu/~shervine/teaching/cs-229/cheatsheet-deep-learning) & [Deep Dive into Math Behind Deep Networks](https://towardsdatascience.com/https-medium-com-piotr-skalski92-deep-dive-into-deep-networks-math-17660bc376ba)"
      ]
    },
    {
      "cell_type": "markdown",
      "metadata": {
        "id": "r7QZNDt062n4",
        "colab_type": "text"
      },
      "source": [
        "**Import Libraries**"
      ]
    },
    {
      "cell_type": "code",
      "metadata": {
        "id": "dekOVgw2iftc",
        "colab_type": "code",
        "outputId": "72fc2375-56bb-4cb2-dc88-8f907187e819",
        "colab": {
          "base_uri": "https://localhost:8080/",
          "height": 34
        }
      },
      "source": [
        "# Populating the interactive namespace from numpy and matplotlib\n",
        "%pylab inline\n",
        "import seaborn as sns\n",
        "import matplotlib.pyplot as plt \n",
        "import numpy as np \n",
        "import math \n",
        "# sns.set(rc={'figure.figsize':(10, 4)})"
      ],
      "execution_count": 0,
      "outputs": [
        {
          "output_type": "stream",
          "text": [
            "Populating the interactive namespace from numpy and matplotlib\n"
          ],
          "name": "stdout"
        }
      ]
    },
    {
      "cell_type": "markdown",
      "metadata": {
        "id": "eoJmmZcEjv4i",
        "colab_type": "text"
      },
      "source": [
        "# 1. Sigmoid Functions"
      ]
    },
    {
      "cell_type": "markdown",
      "metadata": {
        "id": "2paT69s5aYiv",
        "colab_type": "text"
      },
      "source": [
        "![Sigmoidfunktionen](https://raw.githubusercontent.com/deltorobarba/repo/master/sigmoidfunktionen.jpg)"
      ]
    },
    {
      "cell_type": "markdown",
      "metadata": {
        "id": "te2ZkZZEZZdK",
        "colab_type": "text"
      },
      "source": [
        "Im Allgemeinen ist eine Sigmoidfunktion eine beschränkte und differenzierbare reelle Funktion mit einer durchweg positiven oder durchweg negativen ersten Ableitung und genau einem Wendepunkt.\n",
        "\n",
        "Außer der logistischen Funktion enthält die Menge der Sigmoidfunktionen den Arkustangens, den Tangens hyperbolicus und die Fehlerfunktion, die sämtlich transzendent sind, aber auch einfache algebraische Funktionen. \n",
        "\n",
        "Das Integral jeder stetigen, positiven Funktion mit einem „Berg“ (genauer: mit genau einem lokalen Maximum und keinem lokalen Minimum, z. B. die gaußsche Glockenkurve) ist ebenfalls eine Sigmoidfunktion. Daher sind viele kumulierte Verteilungsfunktionen sigmoidal."
      ]
    },
    {
      "cell_type": "markdown",
      "metadata": {
        "id": "uGSo3eIKVOwp",
        "colab_type": "text"
      },
      "source": [
        "## 1.1 Logistic Regression ('Sigmoid')"
      ]
    },
    {
      "cell_type": "code",
      "metadata": {
        "id": "i6-3SffEbeMf",
        "colab_type": "code",
        "outputId": "dd449ee3-9859-40da-e910-3b78d428e767",
        "colab": {
          "base_uri": "https://localhost:8080/",
          "height": 285
        }
      },
      "source": [
        "x = np.linspace(-10, 10, 100) \n",
        "z = 1/(1 + np.exp(-x)) \n",
        "  \n",
        "plt.plot(x, z), plt.xlabel(\"x\"), plt.ylabel(\"Sigmoid(X)\") \n",
        "plt.axhline(y=0, color='red', linestyle='--', linewidth=1.0);\n",
        "plt.axvline(x=0, color='red', linestyle='--', linewidth=1.0);\n",
        "plt.show() "
      ],
      "execution_count": 0,
      "outputs": [
        {
          "output_type": "display_data",
          "data": {
            "image/png": "[encoded data removed]",
            "text/plain": [
              "<Figure size 720x288 with 1 Axes>"
            ]
          },
          "metadata": {
            "tags": []
          }
        }
      ]
    },
    {
      "cell_type": "markdown",
      "metadata": {
        "id": "ScRGxXelZQzC",
        "colab_type": "text"
      },
      "source": [
        "**Make this more and more threshold-like, or step-like, by increasing the weights on the links, and so increasing the summed input:**"
      ]
    },
    {
      "cell_type": "code",
      "metadata": {
        "id": "0PkyVC7vce9G",
        "colab_type": "code",
        "outputId": "99cefba1-8b26-45ae-e3d7-4be9c72b14f3",
        "colab": {
          "base_uri": "https://localhost:8080/",
          "height": 285
        }
      },
      "source": [
        "x = np.linspace(-10, 10, 100) \n",
        "z = 1/(1 + np.exp(-5*x)) \n",
        "  \n",
        "plt.plot(x, z), plt.xlabel(\"x\"), plt.ylabel(\"Sigmoid(X)\") \n",
        "plt.axhline(y=0, color='red', linestyle='--', linewidth=1.0);\n",
        "plt.axvline(x=0, color='red', linestyle='--', linewidth=1.0);\n",
        "plt.show()"
      ],
      "execution_count": 0,
      "outputs": [
        {
          "output_type": "display_data",
          "data": {
            "image/png": "[encoded data removed]",
            "text/plain": [
              "<Figure size 720x288 with 1 Axes>"
            ]
          },
          "metadata": {
            "tags": []
          }
        }
      ]
    },
    {
      "cell_type": "markdown",
      "metadata": {
        "id": "J8_dPDaYcvrc",
        "colab_type": "text"
      },
      "source": [
        "**Same happens when expanding the input data scale**"
      ]
    },
    {
      "cell_type": "code",
      "metadata": {
        "id": "e9m0V59hcmzs",
        "colab_type": "code",
        "outputId": "9248d8af-c7c1-4e68-a11b-3371ac1a0f6a",
        "colab": {
          "base_uri": "https://localhost:8080/",
          "height": 285
        }
      },
      "source": [
        "x = np.linspace(-100, 100, 200) \n",
        "z = 1/(1 + np.exp(-x)) \n",
        "  \n",
        "plt.plot(x, z), plt.xlabel(\"x\"), plt.ylabel(\"Sigmoid(X)\") \n",
        "plt.axhline(y=0, color='red', linestyle='--', linewidth=1.0);\n",
        "plt.axvline(x=0, color='red', linestyle='--', linewidth=1.0);\n",
        "plt.show()"
      ],
      "execution_count": 0,
      "outputs": [
        {
          "output_type": "display_data",
          "data": {
            "image/png": "[encoded data removed]",
            "text/plain": [
              "<Figure size 720x288 with 1 Axes>"
            ]
          },
          "metadata": {
            "tags": []
          }
        }
      ]
    },
    {
      "cell_type": "markdown",
      "metadata": {
        "id": "5Glhq4C1dGyF",
        "colab_type": "text"
      },
      "source": [
        "**Control s-shape depending on input data scale (here scale is large, but sigmoid function has reduced weight size (0.1)**"
      ]
    },
    {
      "cell_type": "code",
      "metadata": {
        "id": "heGic2Z2dBLh",
        "colab_type": "code",
        "outputId": "ff4bbf32-9a8f-4ac9-a0c9-bd09e5c70b8b",
        "colab": {
          "base_uri": "https://localhost:8080/",
          "height": 285
        }
      },
      "source": [
        "x = np.linspace(-100, 100, 200) \n",
        "z = 1/(1 + np.exp(-0.1*x)) \n",
        "  \n",
        "plt.plot(x, z), plt.xlabel(\"x\"), plt.ylabel(\"Sigmoid(X)\") \n",
        "plt.axhline(y=0, color='red', linestyle='--', linewidth=1.0);\n",
        "plt.axvline(x=0, color='red', linestyle='--', linewidth=1.0);\n",
        "plt.show()"
      ],
      "execution_count": 0,
      "outputs": [
        {
          "output_type": "display_data",
          "data": {
            "image/png": "[encoded data removed]",
            "text/plain": [
              "<Figure size 720x288 with 1 Axes>"
            ]
          },
          "metadata": {
            "tags": []
          }
        }
      ]
    },
    {
      "cell_type": "markdown",
      "metadata": {
        "id": "imlyZPPEcYc0",
        "colab_type": "text"
      },
      "source": [
        "**Formula**\n",
        "\n",
        "$g(z)=\\frac{1}{1+e^{-z}}$\n",
        "\n",
        "<br> \n",
        "**Characteristics**\n",
        "* Logistic regression. Takes a real-valued number as an input and compresses all its outputs to the range of [0,1]. Sigmoid only for binary classification output layer.\n",
        "* Sigmoid activation derived from mean field solution of Boltzmann machine\n",
        "* Softmax function is a more generalized logistic activation function which is used for multiclass classification.\n",
        "\n",
        "**Advantages**\n",
        "* In the logistic function, a small change in the input only causes a small change in the output as opposed to the stepped output. Hence, the output is smoother than the step function output.\n",
        "* Historically popular since they have nice interpretation as a saturating “firing rate” of a neuron.\n",
        "* The function is differentiable.That means, we can find the slope of the sigmoid curve at any two points.\n",
        "* Especially used for models where we have to predict the probability as an output (of a binary problem).\n",
        "* Sigmoid works well for a classifier: approximating a classifier function as combinations of sigmoid is easier than maybe ReLu, for example. Which will lead to faster training process and convergence\n",
        "\n",
        "**Disadvantages**\n",
        "* exp() is a bit compute expensive. Learning time longer. Also other functions have been shown to produce the same performance with less iterations. Additionally: small local gradients can mute the gradient and disallow the forward propagation of a useful signal.\n",
        "* The sigmoid function is monotonic but function’s derivative is not: the tails of the first derivative of a Sigmoid are near zero (covariate shift), which lead to vanishing or exploding gradient. Incorrect weight initialization can lead to saturation, where most neurons of the network then become saturated and almost no learning will take place. Saturated neurons “kill” the gradients (look at x= -10, 0 and 10). Can cause the neural network to get stuck during training. If a strongly-negative input is provided to the logistic sigmoid, it outputs values very near zero. Since neural networks usethe feed-forward activations to calculate parameter gradients, this can result in model parameters that are updated less regularly than we would like, and are thus “stuck” in their current state (this problem can be solved if we normalize the data in advance to be zero-centered as in batch/layer normalization).\n",
        "* Sigmoid outputs are not zero-centered. Neurons in later layers of processing in a neural net would be receiving data that is not zero-centered. If data coming into is always positive, the gradient on the weights 𝑤 will during backpropagation become either all be positive, or all negative. This could introduce undesirable zig-zagging dynamics in the gradient updates for the weights. (However, notice that once these gradients are added up across a batch of data the final update for the weights can have variable signs, somewhat mitigating this issue. Therefore, this is an inconvenience but it has less severe consequences compared to the saturated activation problem.)\n",
        "\n",
        "*Example: there are two parameter w1 and w 2; f the gradients of two dimensions are always of the same sign, it means we can only move roughly in the direction of northeast or southwest in the parameter space. If our goal happens to be in the northeast, we can only move in a zig-zagging fashion to get there, just like parallel parking in a narrow space.*"
      ]
    },
    {
      "cell_type": "markdown",
      "metadata": {
        "id": "x77l3imMWJ9-",
        "colab_type": "text"
      },
      "source": [
        "![Zig Zag Sigmoid](https://raw.githubusercontent.com/deltorobarba/repo/master/zigzag.jpeg)"
      ]
    },
    {
      "cell_type": "markdown",
      "metadata": {
        "id": "HliRu9K6jemU",
        "colab_type": "text"
      },
      "source": [
        "## 1.2 tanh (hyperbolic tangent)"
      ]
    },
    {
      "cell_type": "code",
      "metadata": {
        "id": "uaUcJGFlSJLn",
        "colab_type": "code",
        "outputId": "5862b3e2-dd9f-42ef-fd7f-2b7fcd31b438",
        "colab": {
          "base_uri": "https://localhost:8080/",
          "height": 285
        }
      },
      "source": [
        "x = np.linspace(-10, 10, 100) \n",
        "z = (np.tanh(x)) \n",
        "  \n",
        "plt.plot(x, z), plt.xlabel(\"x\"), plt.ylabel(\"tanh\") \n",
        "plt.axhline(y=0, color='red', linestyle='--', linewidth=1.0);\n",
        "plt.axvline(x=0, color='red', linestyle='--', linewidth=1.0);\n",
        "plt.show()"
      ],
      "execution_count": 0,
      "outputs": [
        {
          "output_type": "display_data",
          "data": {
            "image/png": "[encoded data removed]",
            "text/plain": [
              "<Figure size 720x288 with 1 Axes>"
            ]
          },
          "metadata": {
            "tags": []
          }
        }
      ]
    },
    {
      "cell_type": "markdown",
      "metadata": {
        "id": "aDAIwoT1dnWo",
        "colab_type": "text"
      },
      "source": [
        "$g(z)=\\frac{e^{z}-e^{-z}}{e^{z}+e^{-z}}$\n",
        "\n",
        "* LeCun et al., 1991\n",
        "* The tanh function \"squashes\" values to the range -1 and 1. Output values are, therefore, centered around zero. Can be thought of as a scaled, or shifted, sigmoid, and is almost always preferable to the sigmoid function\n",
        "* Squashes numbers to range [-1,1]\n",
        "* zero centered (nice)\n",
        "* The advantage is that the negative inputs will be mapped strongly negative and the zero inputs will be mapped near zero in the tanh graph.\n",
        "* The function is differentiable.\n",
        "* The function is monotonic while its derivative is not monotonic.\n",
        "* The tanh function is mainly used classification between two classes.\n",
        "* still kills gradients when saturated\n",
        "\n",
        "\n"
      ]
    },
    {
      "cell_type": "markdown",
      "metadata": {
        "id": "SbTMMks4VmOj",
        "colab_type": "text"
      },
      "source": [
        "## 1.3 Softmax Function"
      ]
    },
    {
      "cell_type": "code",
      "metadata": {
        "id": "hGkKrhANVsLz",
        "colab_type": "code",
        "outputId": "e1d9593e-1a5e-45d7-ad44-b755507ce404",
        "colab": {
          "base_uri": "https://localhost:8080/",
          "height": 286
        }
      },
      "source": [
        "x = np.arange(-5, 5, 0.1)\n",
        "plt.plot(np.exp(x) / np.sum(np.exp(x)))"
      ],
      "execution_count": 0,
      "outputs": [
        {
          "output_type": "execute_result",
          "data": {
            "text/plain": [
              "[<matplotlib.lines.Line2D at 0x7f727302a278>]"
            ]
          },
          "metadata": {
            "tags": []
          },
          "execution_count": 12
        },
        {
          "output_type": "display_data",
          "data": {
            "image/png": "[encoded data removed]",
            "text/plain": [
              "<Figure size 720x288 with 1 Axes>"
            ]
          },
          "metadata": {
            "tags": []
          }
        }
      ]
    },
    {
      "cell_type": "markdown",
      "metadata": {
        "id": "X5GDi-lkbeMo",
        "colab_type": "text"
      },
      "source": [
        "* is an activation function that is not function of a single fold x from the previous layer or layers.\n",
        "* usually used in the last layer\n",
        "* Softmax Regression (synonyms: Multinomial Logistic, Maximum Entropy Classifier, or just Multi-class Logistic Regression) \n",
        "* is a generalization of logistic regression that we can use for multi-class classification (under the assumption that the classes are mutually exclusive). We use the (standard) Logistic Regression model in binary classification tasks. in softmax regression (SMR), we replace the sigmoid logistic function by the so-called€softmax function€φ"
      ]
    },
    {
      "cell_type": "markdown",
      "metadata": {
        "id": "Oz3Ps6ZJ2uEo",
        "colab_type": "text"
      },
      "source": [
        "## **1.4 Weibull**"
      ]
    },
    {
      "cell_type": "code",
      "metadata": {
        "id": "IjnleIrORcg2",
        "colab_type": "code",
        "outputId": "596f1af9-e15f-4cc4-9cff-b2e14e47a73e",
        "colab": {
          "base_uri": "https://localhost:8080/",
          "height": 284
        }
      },
      "source": [
        "# Cumulative Distribution Function\n",
        "sns.set(rc={'figure.figsize':(4, 4)})\n",
        "x = np.linspace(0, 25, 10000) \n",
        "k = 5\n",
        "λ = 1\n",
        "z = 1 - (np.exp(-(x/λ)**k))\n",
        "\n",
        "plt.title('Weibull Distribution')\n",
        "plt.plot(x, z)\n",
        "plt.show(xlim(0,2)) "
      ],
      "execution_count": 0,
      "outputs": [
        {
          "output_type": "display_data",
          "data": {
            "image/png": "[encoded data removed]",
            "text/plain": [
              "<Figure size 288x288 with 1 Axes>"
            ]
          },
          "metadata": {
            "tags": []
          }
        }
      ]
    },
    {
      "cell_type": "code",
      "metadata": {
        "id": "W-CR6g9F76sc",
        "colab_type": "code",
        "outputId": "e0ce1422-5097-473c-b64f-a65d6b97e2aa",
        "colab": {
          "base_uri": "https://localhost:8080/",
          "height": 301
        }
      },
      "source": [
        "# Cumulative Distribution Function\n",
        "from scipy.stats import weibull_min\n",
        "import scipy\n",
        "sns.set(rc={'figure.figsize':(4, 4)})\n",
        "x = np.linspace(0, 25, 10000) \n",
        "shape = 3\n",
        "scale = 10\n",
        "z = scipy.stats.weibull_min.cdf(x, c=shape, scale=scale)\n",
        "\n",
        "plt.title('Weibull Distribution')\n",
        "plt.plot(x, z)\n",
        "# plt.show(xlim(0,4)) "
      ],
      "execution_count": 0,
      "outputs": [
        {
          "output_type": "execute_result",
          "data": {
            "text/plain": [
              "[<matplotlib.lines.Line2D at 0x7fe2ca86a6d8>]"
            ]
          },
          "metadata": {
            "tags": []
          },
          "execution_count": 2
        },
        {
          "output_type": "display_data",
          "data": {
            "image/png": "[encoded data removed]",
            "text/plain": [
              "<Figure size 288x288 with 1 Axes>"
            ]
          },
          "metadata": {
            "tags": []
          }
        }
      ]
    },
    {
      "cell_type": "code",
      "metadata": {
        "id": "MXzmqzft2wio",
        "colab_type": "code",
        "outputId": "6c3ddc1a-7999-4d15-f347-fcbe072fb90f",
        "colab": {
          "base_uri": "https://localhost:8080/",
          "height": 301
        }
      },
      "source": [
        "# Probability Density Function\n",
        "sns.set(rc={'figure.figsize':(4, 4)})\n",
        "x = np.linspace(0, 25, 10000) \n",
        "k = 3\n",
        "λ = 10\n",
        "z = (k / λ) * (x / λ)**(k - 1) * np.exp(-(x / λ)**k)\n",
        "\n",
        "plt.title('Weibull Distribution')\n",
        "plt.plot(x, z)\n",
        "# plt.show(xlim(0,2)) "
      ],
      "execution_count": 0,
      "outputs": [
        {
          "output_type": "execute_result",
          "data": {
            "text/plain": [
              "[<matplotlib.lines.Line2D at 0x7fe2ca185748>]"
            ]
          },
          "metadata": {
            "tags": []
          },
          "execution_count": 7
        },
        {
          "output_type": "display_data",
          "data": {
            "image/png": "[encoded data removed]",
            "text/plain": [
              "<Figure size 288x288 with 1 Axes>"
            ]
          },
          "metadata": {
            "tags": []
          }
        }
      ]
    },
    {
      "cell_type": "code",
      "metadata": {
        "id": "EVn6ZJxGQdJH",
        "colab_type": "code",
        "outputId": "00b0a306-a40a-4d46-a230-4f4fdb9cb75a",
        "colab": {
          "base_uri": "https://localhost:8080/",
          "height": 268
        }
      },
      "source": [
        "sns.set(rc={'figure.figsize':(4, 4)})\n",
        "x = np.linspace(0, 25, 10000) \n",
        "a = 5\n",
        "plt.plot(np.random.weibull(a, 1000))\n",
        "plt.show(xlim(0,2)) "
      ],
      "execution_count": 0,
      "outputs": [
        {
          "output_type": "display_data",
          "data": {
            "image/png": "[encoded data removed]",
            "text/plain": [
              "<Figure size 288x288 with 1 Axes>"
            ]
          },
          "metadata": {
            "tags": []
          }
        }
      ]
    },
    {
      "cell_type": "markdown",
      "metadata": {
        "id": "UWIolXanSwRQ",
        "colab_type": "text"
      },
      "source": [
        "## **1.5 Rayleigh Distribution**"
      ]
    },
    {
      "cell_type": "code",
      "metadata": {
        "id": "TJ_FruZGbxQ3",
        "colab_type": "code",
        "outputId": "8d1f8dd5-3b15-470e-a408-8e7015253be7",
        "colab": {
          "base_uri": "https://localhost:8080/",
          "height": 265
        }
      },
      "source": [
        "# sns.set(rc={'figure.figsize':(4, 4)})\n",
        "x = np.linspace(0, 25, 10000) \n",
        "σ = 0.3\n",
        "z = 1 - (np.exp((-x**2)/(2*σ**2)))\n",
        "\n",
        "plt.plot(x, z)\n",
        "# plt.title('Rayleigh Distribution')\n",
        "plt.show(xlim(0,2)) "
      ],
      "execution_count": 0,
      "outputs": [
        {
          "output_type": "display_data",
          "data": {
            "image/png": "[encoded data removed]",
            "text/plain": [
              "<Figure size 432x288 with 1 Axes>"
            ]
          },
          "metadata": {
            "tags": []
          }
        }
      ]
    },
    {
      "cell_type": "code",
      "metadata": {
        "id": "_VDlpfs8S0L3",
        "colab_type": "code",
        "outputId": "9e6749ef-579e-48fe-dc33-3771108017f9",
        "colab": {
          "base_uri": "https://localhost:8080/",
          "height": 332
        }
      },
      "source": [
        "from scipy.stats import norm,rayleigh\n",
        "\n",
        "samp = rayleigh.rvs(loc=5,scale=2,size=150) # samples generation\n",
        "\n",
        "param = rayleigh.fit(samp) # distribution fitting\n",
        "\n",
        "x = linspace(5,13,100)\n",
        "# fitted distribution\n",
        "pdf_fitted = rayleigh.pdf(x,loc=param[0],scale=param[1])\n",
        "# original distribution\n",
        "pdf = rayleigh.pdf(x,loc=5,scale=2)\n",
        "\n",
        "title('Rayleigh distribution')\n",
        "plot(x,pdf_fitted,'r-',x,pdf,'b-')\n",
        "hist(samp,normed=1,alpha=.3)\n",
        "show()"
      ],
      "execution_count": 0,
      "outputs": [
        {
          "output_type": "stream",
          "text": [
            "/usr/local/lib/python3.6/dist-packages/ipykernel_launcher.py:15: MatplotlibDeprecationWarning: \n",
            "The 'normed' kwarg was deprecated in Matplotlib 2.1 and will be removed in 3.1. Use 'density' instead.\n",
            "  from ipykernel import kernelapp as app\n"
          ],
          "name": "stderr"
        },
        {
          "output_type": "display_data",
          "data": {
            "image/png": "[encoded data removed]",
            "text/plain": [
              "<Figure size 432x288 with 1 Axes>"
            ]
          },
          "metadata": {
            "tags": []
          }
        }
      ]
    },
    {
      "cell_type": "markdown",
      "metadata": {
        "id": "pSRXkq43T--X",
        "colab_type": "text"
      },
      "source": [
        "# 2. Rectifier Functions"
      ]
    },
    {
      "cell_type": "markdown",
      "metadata": {
        "id": "g0DkIGAdUqDN",
        "colab_type": "text"
      },
      "source": [
        "https://en.m.wikipedia.org/wiki/Rectifier_(neural_networks)\n",
        "\n",
        "**Advantages**\n",
        "* Biological plausibility: One-sided, compared to the antisymmetry of tanh.\n",
        "* Sparse activation: For example, in a randomly initialized network, only about 50% of hidden units are activated (having a non-zero output).\n",
        "* Better gradient propagation: Fewer vanishing gradient problems compared to sigmoidal activation functions that saturate in both directions.\n",
        "* Efficient computation: Only comparison, addition and multiplication.\n",
        "* Scale-invariant: \n",
        "\n",
        "\n",
        "**Disadvantages**\n",
        "* Non-differentiable at zero; however, it is differentiable anywhere else, and the value of the derivative at zero can be arbitrarily chosen to be 0 or 1.\n",
        "* Not zero-centered.\n",
        "* Unbounded.\n",
        "* Dying ReLU problem: ReLU neurons can sometimes be pushed into states in which they become inactive for essentially all inputs. In this state, no gradients flow backward through the neuron, and so the neuron becomes stuck in a perpetually inactive state and \"dies\". This is a form of the vanishing gradient problem. In some cases, large numbers of neurons in a network can become stuck in dead states, effectively decreasing the model capacity. This problem typically arises when the learning rate is set too high. It may be mitigated by using leaky ReLUs instead, which assign a small positive slope for x < 0"
      ]
    },
    {
      "cell_type": "markdown",
      "metadata": {
        "id": "VFpX4cxMrvNM",
        "colab_type": "text"
      },
      "source": [
        "## 2.1 ReLU (Rectified Linear Unit)"
      ]
    },
    {
      "cell_type": "code",
      "metadata": {
        "id": "wbuY5Wq8SrO8",
        "colab_type": "code",
        "outputId": "ac195c6b-3d04-49a1-babb-88a5c7f9b881",
        "colab": {
          "base_uri": "https://localhost:8080/",
          "height": 285
        }
      },
      "source": [
        "x = np.linspace(-10, 10, 100) \n",
        "z = (np.maximum(0, x))\n",
        "  \n",
        "plt.plot(x, z), plt.xlabel(\"x\"), plt.ylabel(\"ReLU\") \n",
        "plt.axhline(y=0, color='red', linestyle='--', linewidth=1.0);\n",
        "plt.axvline(x=0, color='red', linestyle='--', linewidth=1.0);\n",
        "plt.show()"
      ],
      "execution_count": 0,
      "outputs": [
        {
          "output_type": "display_data",
          "data": {
            "image/png": "[encoded data removed]",
            "text/plain": [
              "<Figure size 720x288 with 1 Axes>"
            ]
          },
          "metadata": {
            "tags": []
          }
        }
      ]
    },
    {
      "cell_type": "markdown",
      "metadata": {
        "id": "O35eK5VlSY87",
        "colab_type": "text"
      },
      "source": [
        "$g(z)=\\max (0, z)$\n",
        "\n",
        "<br>\n",
        "\n",
        "Transformation leads positive values to be 1, and negative values to be zero. Shown to accelerate convergence of gradient descent compared to above functions. Can lead to neuron death, which can be combated using Leaky ReLU modification (see [1]). ReLU is has become the default activation function for hidden layers (see [3])\n",
        "\n",
        "**Characteristics**\n",
        "* Krizhevsky et al., 2012\n",
        "* rectified linear units, faster and more efficient, since fewer neurons are activated (less computationally expensive than tanh and sigmoid because it involves simpler mathematical operations). \n",
        "* No gradient vanishing problem, as Relu’s gradient is constant = 1. Sparsity: since output 0 for negative values of x! When W*x < 0, Relu gives 0, which means sparsity. Less calculation load. This may be least important. \n",
        "* However, ReLu may amplify the signal inside the network more than softmax and sigmoid. \n",
        "* But: dying ReLU problem for values zero and smaller: neurons will never reactivated. Solution: leaky ReLU, noisy ReLU (in RBMs) and ELU (exponential linear units)\n",
        "* ReLU as the activation function for hidden layers and sigmoid for the output layer (these are standards, didn’t experiment much on changing these). Also, I used the standard categorical cross-entropy loss.\n",
        "\n",
        "**Advantages**\n",
        "* Does not saturate (in +region)\n",
        "* Very computationally efficient\n",
        "* Converges much faster than sigmoid/tanh in practice (e.g. 6x)\n",
        "Actually more biologically plausible than sigmoid\n",
        "\n",
        "**Disadvantages**\n",
        "* Not zero-centered output\n",
        "* An annoyance: what is the gradient when x < 0? What happens when x = -10, 0 or 10?\n",
        "* People like to initialize ReLU neurons with slightly positive biases (e.g. 0.01)\n",
        "\n"
      ]
    },
    {
      "cell_type": "markdown",
      "metadata": {
        "id": "46t_6swpsKGi",
        "colab_type": "text"
      },
      "source": [
        "## 2.2 Leaky ReLU"
      ]
    },
    {
      "cell_type": "code",
      "metadata": {
        "id": "W1Nkv7obsHs4",
        "colab_type": "code",
        "outputId": "ecc77936-a4a3-412d-b889-e85a854ad391",
        "colab": {
          "base_uri": "https://localhost:8080/",
          "height": 286
        }
      },
      "source": [
        "z = np.arange(-55, 5, 1)\n",
        "plt.plot(np.maximum(0.01 * z, z))"
      ],
      "execution_count": 0,
      "outputs": [
        {
          "output_type": "execute_result",
          "data": {
            "text/plain": [
              "[<matplotlib.lines.Line2D at 0x7f8d392734a8>]"
            ]
          },
          "metadata": {
            "tags": []
          },
          "execution_count": 65
        },
        {
          "output_type": "display_data",
          "data": {
            "image/png": "[encoded data removed]",
            "text/plain": [
              "<Figure size 720x288 with 1 Axes>"
            ]
          },
          "metadata": {
            "tags": []
          }
        }
      ]
    },
    {
      "cell_type": "markdown",
      "metadata": {
        "id": "OoWsQRCAfmaK",
        "colab_type": "text"
      },
      "source": [
        "$\\begin{aligned}\n",
        "g(z) &=\\max (\\epsilon z, z) \\\\\n",
        "& \\text { with } \\epsilon \\ll 1\n",
        "\\end{aligned}$\n",
        "\n",
        "* Mass et al., 2013 and He et al., 2015\n",
        "* Leaky ReLUs allow a small, positive gradient when the unit is not active\n",
        "* Does not saturate\n",
        "* Computationally efficient\n",
        "* Converges much faster than sigmoid/tanh in practice! (e.g. 6x) will not “die”.\n"
      ]
    },
    {
      "cell_type": "markdown",
      "metadata": {
        "id": "dvoWVOwwYhoc",
        "colab_type": "text"
      },
      "source": [
        "## 2.3 Noisy ReLU"
      ]
    },
    {
      "cell_type": "markdown",
      "metadata": {
        "id": "gALOo-moYkzn",
        "colab_type": "text"
      },
      "source": [
        "xxx"
      ]
    },
    {
      "cell_type": "markdown",
      "metadata": {
        "id": "pyL0V7S8W_lf",
        "colab_type": "text"
      },
      "source": [
        "## 2.4 ELU"
      ]
    },
    {
      "cell_type": "markdown",
      "metadata": {
        "id": "qyUyiCkgf4Aw",
        "colab_type": "text"
      },
      "source": [
        "* Exponential Linear Units\n",
        "* Clevert et al., 2015\n",
        "* All benefits of ReLU\n",
        "* Closer to zero mean outputs\n",
        "* Negative saturation regime compared with Leaky ReLU adds some robustness to noise \n",
        "* But Computation requires exp()\n"
      ]
    },
    {
      "cell_type": "markdown",
      "metadata": {
        "id": "4G_O1qbhXDhr",
        "colab_type": "text"
      },
      "source": [
        "## 2.5 SELU"
      ]
    },
    {
      "cell_type": "markdown",
      "metadata": {
        "id": "Lz2ikh67gXRC",
        "colab_type": "text"
      },
      "source": [
        "* scaled exponential linear units\n",
        "* instead of normalizing the output of the activation function — the activation function suggested (SELU — scaled exponential linear units) outputs normalized values. https://towardsdatascience.com/selu-make-fnns-great-again-snn-8d61526802a9\n",
        "* Background: batchnormalization for feedfirward networks: Training Deep Neural Networks is complicated by the fact that the distribution of each layer's inputs changes during training, as the parameters of the previous layers change. This slows down the training by requiring lower learning rates and careful parameter initialization, and makes it notoriously hard to train models with saturating nonlinearities. (https://arxiv.org/abs/1502.03167)\n",
        "* Negative values sometimes: Scaling the function is the mechanism by which the authors accomplish the goal (of self-normalizing properties). As a byproduct, they sometimes output negative values, but there's no hidden meaning in it. It just makes the math work out. \n",
        "* **SELU vs RELU**: https://www.hardikp.com/2017/07/24/SELU-vs-RELU/"
      ]
    },
    {
      "cell_type": "markdown",
      "metadata": {
        "id": "7C5Dhy_R39nQ",
        "colab_type": "text"
      },
      "source": [
        "## 2.6 Swish\n",
        "\n",
        "* Google Brain 2017\n",
        "* Variant of ReLU\n",
        "\n",
        "https://medium.com/@jaiyamsharma/experiments-with-swish-activation-function-on-mnist-dataset-fc89a8c79ff7\n",
        "\n",
        "https://medium.com/@neuralnets/swish-activation-function-by-google-53e1ea86f820\n",
        "\n",
        "https://www.machinecurve.com/index.php/2019/05/30/why-swish-could-perform-better-than-relu/\n",
        "\n"
      ]
    },
    {
      "cell_type": "code",
      "metadata": {
        "id": "MhrecfExluyO",
        "colab_type": "code",
        "colab": {}
      },
      "source": [
        "1 / (1 + np.exp(-x))\n",
        "\n",
        "x * K.sigmoid(beta * x)"
      ],
      "execution_count": 0,
      "outputs": []
    },
    {
      "cell_type": "code",
      "metadata": {
        "id": "UqSlBNXKj4_7",
        "colab_type": "code",
        "outputId": "b07f2ce6-03f3-46df-d527-52934bfb5442",
        "colab": {
          "base_uri": "https://localhost:8080/",
          "height": 303
        }
      },
      "source": [
        "x = np.arange(-10, 10, 0.1)\n",
        "plt.xlabel('x'), plt.ylabel('f(x)')\n",
        "plt.axhline(y=0, color='red', linestyle='--', linewidth=1.0);\n",
        "beta = 1.0\n",
        "# plt.plot(x * (1 / (1 + np.exp(-x))))\n",
        "plt.plot(x * ((1 / (1 + np.exp(-x))) * (beta * x)))"
      ],
      "execution_count": 0,
      "outputs": [
        {
          "output_type": "execute_result",
          "data": {
            "text/plain": [
              "[<matplotlib.lines.Line2D at 0x7fc23b46a668>]"
            ]
          },
          "metadata": {
            "tags": []
          },
          "execution_count": 36
        },
        {
          "output_type": "display_data",
          "data": {
            "image/png": "[encoded data removed]",
            "text/plain": [
              "<Figure size 720x288 with 1 Axes>"
            ]
          },
          "metadata": {
            "tags": []
          }
        }
      ]
    },
    {
      "cell_type": "markdown",
      "metadata": {
        "id": "TPmDNJDAs9l-",
        "colab_type": "text"
      },
      "source": [
        "# 3. Additional Activation Functions"
      ]
    },
    {
      "cell_type": "markdown",
      "metadata": {
        "id": "znsFNdvV6huY",
        "colab_type": "text"
      },
      "source": [
        "## 3.1 Binary Step"
      ]
    },
    {
      "cell_type": "code",
      "metadata": {
        "id": "l_x6ZB5LB7i_",
        "colab_type": "code",
        "outputId": "c5ebcb74-32cd-4049-b23e-750e403e144b",
        "colab": {
          "base_uri": "https://localhost:8080/",
          "height": 302
        }
      },
      "source": [
        "sns.set(rc={'figure.figsize':(4, 4)})\n",
        "x = [-3, -2, -1, 0, 1, 2, 3]\n",
        "y = [-3, -3, -3, -3, 3, 3, 3]\n",
        "# y = [2, 2, 2, 2, 2.9, 2.9, 2.9]\n",
        "plt.xlabel('x'), plt.ylabel('f(x)')\n",
        "# plt.axhline(y=0, color='red', linestyle='--', linewidth=1.0);\n",
        "plt.step(x, y)"
      ],
      "execution_count": 0,
      "outputs": [
        {
          "output_type": "execute_result",
          "data": {
            "text/plain": [
              "[<matplotlib.lines.Line2D at 0x7f51ba8babe0>]"
            ]
          },
          "metadata": {
            "tags": []
          },
          "execution_count": 6
        },
        {
          "output_type": "display_data",
          "data": {
            "image/png": "[encoded data removed]",
            "text/plain": [
              "<Figure size 288x288 with 1 Axes>"
            ]
          },
          "metadata": {
            "tags": []
          }
        }
      ]
    },
    {
      "cell_type": "markdown",
      "metadata": {
        "id": "65wFNu2s6tQs",
        "colab_type": "text"
      },
      "source": [
        "* Can be computed wirh tf.where\n",
        "* However not suitable for gradient-based optimization (will not work)"
      ]
    },
    {
      "cell_type": "markdown",
      "metadata": {
        "id": "bhS37iah3Aj5",
        "colab_type": "text"
      },
      "source": [
        "# Advanced Topics"
      ]
    },
    {
      "cell_type": "markdown",
      "metadata": {
        "id": "sptu1C0d3CvO",
        "colab_type": "text"
      },
      "source": [
        "## Custom Activation Function"
      ]
    },
    {
      "cell_type": "markdown",
      "metadata": {
        "id": "Tllmf9Pz4KHl",
        "colab_type": "text"
      },
      "source": [
        "Ideas originally from [Stackexchange](https://datascience.stackexchange.com/questions/58884/how-to-create-custom-activation-functions-in-keras-tensorflow)"
      ]
    },
    {
      "cell_type": "markdown",
      "metadata": {
        "id": "DPg13UmhgQwQ",
        "colab_type": "text"
      },
      "source": [
        "**Option 1: Easy way**\n",
        "\n",
        "* Define a function using backend functions, for all operations performed in your myCustomActivation use the Keras backend to get operations executed on the DAG.\n",
        "* As an example, here the \"swish activation\" function\n"
      ]
    },
    {
      "cell_type": "code",
      "metadata": {
        "id": "dPcl81xOgN-I",
        "colab_type": "code",
        "colab": {}
      },
      "source": [
        "from keras import backend as K\n",
        "\n",
        "# Create Custom Activation Function\n",
        "def swish(x, beta=1.0):\n",
        "    return x * K.sigmoid(beta * x)\n",
        "\n",
        "# Add Custom Activation Function to Model (here Sequential or ConvNet)\n",
        "\n",
        "model.add(Conv2D(64, (3, 3)))\n",
        "model.add(Activation(swish))\n",
        "\n",
        "model = Sequential()\n",
        "model.add(Dense(120))\n",
        "model.add(Activation(swish))\n",
        "model.add(Dense(30, activation= swish))"
      ],
      "execution_count": 0,
      "outputs": []
    },
    {
      "cell_type": "markdown",
      "metadata": {
        "id": "umjc__WShDVP",
        "colab_type": "text"
      },
      "source": [
        "**Option 2: Advanced Way** \n",
        "\n",
        "* an activation is just a trivial layer, thus you can then define your custom activation as a custom layer following instructions here:\n",
        "* https://keras.io/layers/writing-your-own-keras-layers/\n",
        "* For all the operations written in the call method use the keras backend (again to get everything done on the DAG).\n",
        "* For advanced activation functions, with trainable parameters and such, it is best to implement them as a Keras Layer. Here the swish function is used in a layer, allowing beta to be learned while training:\n",
        "\n"
      ]
    },
    {
      "cell_type": "code",
      "metadata": {
        "id": "3PYgHhiIjY-C",
        "colab_type": "code",
        "colab": {}
      },
      "source": [
        "from keras.layers import Layer\n",
        "\n",
        "class Swish(Layer):\n",
        "\n",
        "    def __init__(self, beta=1.0, trainable=False, **kwargs):\n",
        "        super(Swish, self).__init__(**kwargs)\n",
        "        self.supports_masking = True\n",
        "        self.beta = beta\n",
        "        self.trainable = trainable\n",
        "\n",
        "    def build(self, input_shape):\n",
        "        self.beta_factor = K.variable(self.beta,\n",
        "                                      dtype=K.floatx(),\n",
        "                                      name='beta_factor')\n",
        "        if self.trainable:\n",
        "            self._trainable_weights.append(self.beta_factor)\n",
        "\n",
        "        super(Swish, self).build(input_shape)\n",
        "\n",
        "    def call(self, inputs, mask=None):\n",
        "        return swish(inputs, self.beta_factor)\n",
        "\n",
        "    def get_config(self):\n",
        "        config = {'beta': self.get_weights()[0] if self.trainable else self.beta,\n",
        "                  'trainable': self.trainable}\n",
        "        base_config = super(Swish, self).get_config()\n",
        "        return dict(list(base_config.items()) + list(config.items()))\n",
        "\n",
        "    def compute_output_shape(self, input_shape):\n",
        "        return input_shape"
      ],
      "execution_count": 0,
      "outputs": []
    },
    {
      "cell_type": "code",
      "metadata": {
        "id": "YStUacPTjcQo",
        "colab_type": "code",
        "colab": {}
      },
      "source": [
        "model.add(Conv2D(64, (3, 3)))\n",
        "model.add(Swish(beta=1.0, trainable=True))"
      ],
      "execution_count": 0,
      "outputs": []
    },
    {
      "cell_type": "markdown",
      "metadata": {
        "id": "ECPUH6j53Gka",
        "colab_type": "text"
      },
      "source": [
        "## Adaptive Activation Function"
      ]
    },
    {
      "cell_type": "markdown",
      "metadata": {
        "id": "WGrZ99A5D96W",
        "colab_type": "text"
      },
      "source": [
        "*DNN performance is investigated with three categories of activation functions i.e. saturated, unsaturated and adaptive activation functions. The experimental results showed that the saturation problem of hyperbolic tangent activation function can be solved by adding two trainable parameters in its function. The trainable version of rectified linear unit i.e. parametric rectified linear unit (PReLU) obtained lowest misclassification rate among all types of activation function i.e. 1.6% misclassification rate on MNIST handwritten digit dataset. This is due to the adaptive activation functions allows the network to estimate a better solution by training the activation function parameters during the training process. Therefore, adaptive activation functions improves the generalization of the network to deal with the real-world application.*\n",
        "\n",
        "[Review of Adaptive Activation Function in Deep Neural Network](https://ieeexplore.ieee.org/document/8626714)"
      ]
    },
    {
      "cell_type": "markdown",
      "metadata": {
        "colab_type": "text",
        "id": "H4crpOcoMlSe"
      },
      "source": [
        "# RNN Model"
      ]
    },
    {
      "cell_type": "markdown",
      "metadata": {
        "id": "_4ckAo-8hCBH",
        "colab_type": "text"
      },
      "source": [
        "## Import & Prepare Data"
      ]
    },
    {
      "cell_type": "code",
      "metadata": {
        "id": "pCY-TGgqnOFi",
        "colab_type": "code",
        "colab": {}
      },
      "source": [
        "import tensorflow as tf\n",
        "import datetime, os\n",
        "\n",
        "fashion_mnist = tf.keras.datasets.fashion_mnist\n",
        "\n",
        "(x_train, y_train),(x_test, y_test) = fashion_mnist.load_data()\n",
        "x_train, x_test = x_train / 255.0, x_test / 255.0"
      ],
      "execution_count": 0,
      "outputs": []
    },
    {
      "cell_type": "code",
      "metadata": {
        "id": "prtA4hX0Y3ES",
        "colab_type": "code",
        "colab": {
          "base_uri": "https://localhost:8080/",
          "height": 397
        },
        "outputId": "6946041c-2297-4726-caeb-89d17a483d76"
      },
      "source": [
        "!pip install livelossplot"
      ],
      "execution_count": 11,
      "outputs": [
        {
          "output_type": "stream",
          "text": [
            "Requirement already satisfied: livelossplot in /usr/local/lib/python3.6/dist-packages (0.5.0)\n",
            "Requirement already satisfied: ipython in /usr/local/lib/python3.6/dist-packages (from livelossplot) (5.5.0)\n",
            "Requirement already satisfied: matplotlib; python_version >= \"3.6\" in /usr/local/lib/python3.6/dist-packages (from livelossplot) (3.2.1)\n",
            "Requirement already satisfied: decorator in /usr/local/lib/python3.6/dist-packages (from ipython->livelossplot) (4.4.2)\n",
            "Requirement already satisfied: pickleshare in /usr/local/lib/python3.6/dist-packages (from ipython->livelossplot) (0.7.5)\n",
            "Requirement already satisfied: pexpect; sys_platform != \"win32\" in /usr/local/lib/python3.6/dist-packages (from ipython->livelossplot) (4.8.0)\n",
            "Requirement already satisfied: traitlets>=4.2 in /usr/local/lib/python3.6/dist-packages (from ipython->livelossplot) (4.3.3)\n",
            "Requirement already satisfied: setuptools>=18.5 in /usr/local/lib/python3.6/dist-packages (from ipython->livelossplot) (46.0.0)\n",
            "Requirement already satisfied: pygments in /usr/local/lib/python3.6/dist-packages (from ipython->livelossplot) (2.1.3)\n",
            "Requirement already satisfied: prompt-toolkit<2.0.0,>=1.0.4 in /usr/local/lib/python3.6/dist-packages (from ipython->livelossplot) (1.0.18)\n",
            "Requirement already satisfied: simplegeneric>0.8 in /usr/local/lib/python3.6/dist-packages (from ipython->livelossplot) (0.8.1)\n",
            "Requirement already satisfied: kiwisolver>=1.0.1 in /usr/local/lib/python3.6/dist-packages (from matplotlib; python_version >= \"3.6\"->livelossplot) (1.1.0)\n",
            "Requirement already satisfied: python-dateutil>=2.1 in /usr/local/lib/python3.6/dist-packages (from matplotlib; python_version >= \"3.6\"->livelossplot) (2.8.1)\n",
            "Requirement already satisfied: cycler>=0.10 in /usr/local/lib/python3.6/dist-packages (from matplotlib; python_version >= \"3.6\"->livelossplot) (0.10.0)\n",
            "Requirement already satisfied: numpy>=1.11 in /usr/local/lib/python3.6/dist-packages (from matplotlib; python_version >= \"3.6\"->livelossplot) (1.18.2)\n",
            "Requirement already satisfied: pyparsing!=2.0.4,!=2.1.2,!=2.1.6,>=2.0.1 in /usr/local/lib/python3.6/dist-packages (from matplotlib; python_version >= \"3.6\"->livelossplot) (2.4.6)\n",
            "Requirement already satisfied: ptyprocess>=0.5 in /usr/local/lib/python3.6/dist-packages (from pexpect; sys_platform != \"win32\"->ipython->livelossplot) (0.6.0)\n",
            "Requirement already satisfied: ipython-genutils in /usr/local/lib/python3.6/dist-packages (from traitlets>=4.2->ipython->livelossplot) (0.2.0)\n",
            "Requirement already satisfied: six in /usr/local/lib/python3.6/dist-packages (from traitlets>=4.2->ipython->livelossplot) (1.12.0)\n",
            "Requirement already satisfied: wcwidth in /usr/local/lib/python3.6/dist-packages (from prompt-toolkit<2.0.0,>=1.0.4->ipython->livelossplot) (0.1.9)\n"
          ],
          "name": "stdout"
        }
      ]
    },
    {
      "cell_type": "markdown",
      "metadata": {
        "id": "-jNUhO2Og63T",
        "colab_type": "text"
      },
      "source": [
        "## Select Activation Function"
      ]
    },
    {
      "cell_type": "markdown",
      "metadata": {
        "id": "Y1jYiFRMP825",
        "colab_type": "text"
      },
      "source": [
        "activation function als Dense parameter. Activation layer als eigener layer.\n",
        "\n",
        "keras.activation = functions\n",
        "\n",
        "keras.layers = layers"
      ]
    },
    {
      "cell_type": "markdown",
      "metadata": {
        "id": "GgrxpsgKDcRY",
        "colab_type": "text"
      },
      "source": [
        "**tanh**"
      ]
    },
    {
      "cell_type": "code",
      "metadata": {
        "id": "XZ_w_3beDgdu",
        "colab_type": "code",
        "colab": {}
      },
      "source": [
        "activation = tf.keras.activations.tanh"
      ],
      "execution_count": 0,
      "outputs": []
    },
    {
      "cell_type": "markdown",
      "metadata": {
        "id": "kDMcShA6Ddi_",
        "colab_type": "text"
      },
      "source": [
        "**Sigmoid**"
      ]
    },
    {
      "cell_type": "code",
      "metadata": {
        "id": "9FzYHHY2DiZw",
        "colab_type": "code",
        "colab": {}
      },
      "source": [
        "activation = tf.keras.activations.sigmoid"
      ],
      "execution_count": 0,
      "outputs": []
    },
    {
      "cell_type": "markdown",
      "metadata": {
        "id": "YRR6_B0Sh9Su",
        "colab_type": "text"
      },
      "source": [
        "**ReLU**"
      ]
    },
    {
      "cell_type": "code",
      "metadata": {
        "id": "p2GaT3_1PRnw",
        "colab_type": "code",
        "colab": {}
      },
      "source": [
        "activation = tf.keras.layers.ReLU(max_value=None,\n",
        "                                 negative_slope=0,\n",
        "                                 threshold=0)"
      ],
      "execution_count": 0,
      "outputs": []
    },
    {
      "cell_type": "markdown",
      "metadata": {
        "id": "A8L2_CuwiAim",
        "colab_type": "text"
      },
      "source": [
        "**Leaky ReLU**"
      ]
    },
    {
      "cell_type": "code",
      "metadata": {
        "id": "2ltoBnHOhDXP",
        "colab_type": "code",
        "colab": {}
      },
      "source": [
        "activation = tf.keras.layers.LeakyReLU(alpha=0.3)"
      ],
      "execution_count": 0,
      "outputs": []
    },
    {
      "cell_type": "markdown",
      "metadata": {
        "id": "46BZLem0Fmu6",
        "colab_type": "text"
      },
      "source": [
        "**Softmax**"
      ]
    },
    {
      "cell_type": "code",
      "metadata": {
        "id": "2_3igNFOFoHM",
        "colab_type": "code",
        "colab": {}
      },
      "source": [
        "activation = tf.keras.layers.Softmax(axis=-1)"
      ],
      "execution_count": 0,
      "outputs": []
    },
    {
      "cell_type": "markdown",
      "metadata": {
        "id": "AWgMoPbADTTF",
        "colab_type": "text"
      },
      "source": [
        "**Alternatively Add Default Settings**"
      ]
    },
    {
      "cell_type": "code",
      "metadata": {
        "id": "unoQZNcWnTrk",
        "colab_type": "code",
        "colab": {}
      },
      "source": [
        "activation = 'relu'\n",
        "# activation = 'linear'\n",
        "# activation = 'sigmoid'\n",
        "# activation = 'tanh'\n",
        "# activation = 'softmax'"
      ],
      "execution_count": 0,
      "outputs": []
    },
    {
      "cell_type": "markdown",
      "metadata": {
        "id": "CMwV7R8ohG3d",
        "colab_type": "text"
      },
      "source": [
        "## Build Model & Run"
      ]
    },
    {
      "cell_type": "code",
      "metadata": {
        "id": "_JbXHd0ZQ2d7",
        "colab_type": "code",
        "outputId": "906d2027-c4fa-45a5-c554-0afda70b1960",
        "colab": {
          "base_uri": "https://localhost:8080/",
          "height": 454
        }
      },
      "source": [
        "from livelossplot import PlotLossesKeras\n",
        "\n",
        "model = tf.keras.models.Sequential()\n",
        "model.add(tf.keras.layers.Flatten(input_shape=(28, 28)))\n",
        "model.add(tf.keras.layers.Dense(512, activation=activation))\n",
        "model.add(tf.keras.layers.Dropout(0.2))\n",
        "model.add(tf.keras.layers.Dense(10, activation='softmax'))\n",
        "model.compile(optimizer='adam', loss='sparse_categorical_crossentropy', metrics=['accuracy'])\n",
        "model.fit(x=x_train, y=y_train, epochs=5, validation_data=(x_test, y_test), callbacks=[PlotLossesKeras()])"
      ],
      "execution_count": 12,
      "outputs": [
        {
          "output_type": "display_data",
          "data": {
            "image/png": "[encoded data removed]",
            "text/plain": [
              "<Figure size 864x576 with 2 Axes>"
            ]
          },
          "metadata": {
            "tags": []
          }
        },
        {
          "output_type": "stream",
          "text": [
            "Accuracy\n",
            "\ttraining         \t (min:    0.810, max:    0.883, cur:    0.883)\n",
            "\tvalidation       \t (min:    0.839, max:    0.867, cur:    0.859)\n",
            "Loss\n",
            "\ttraining         \t (min:    0.315, max:    0.531, cur:    0.315)\n",
            "\tvalidation       \t (min:    0.366, max:    0.449, cur:    0.386)\n",
            "\b\b\b\b\b\b\b\b\b\b\b\b\b\b\b\b\b\b\b\b\b\b\b\b\b\b\b\b\b\b\b\b\b\b\b\b\b\b\b\b\b\b\b\b\b\b\b\b\b\b\b\b\b\b\b\b\b\b\b\b\b\b\b\b\b\b\b\b\b\b\b\b\b\b\b\b\b\b\b\b\b\b\b\r60000/60000 [==============================] - 5s 76us/sample - loss: 0.3146 - acc: 0.8832 - val_loss: 0.3862 - val_acc: 0.8585\n"
          ],
          "name": "stdout"
        },
        {
          "output_type": "execute_result",
          "data": {
            "text/plain": [
              "<tensorflow.python.keras.callbacks.History at 0x7fe3a01cefd0>"
            ]
          },
          "metadata": {
            "tags": []
          },
          "execution_count": 12
        }
      ]
    }
  ]
}