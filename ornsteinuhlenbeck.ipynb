{
  "nbformat": 4,
  "nbformat_minor": 0,
  "metadata": {
    "colab": {
      "name": "ornsteinuhlenbeck.ipynb",
      "provenance": [],
      "collapsed_sections": [],
      "authorship_tag": "ABX9TyOhjCePNXbaRUgPMbFW6GVL",
      "include_colab_link": true
    },
    "kernelspec": {
      "name": "python3",
      "display_name": "Python 3"
    }
  },
  "cells": [
    {
      "cell_type": "markdown",
      "metadata": {
        "id": "view-in-github",
        "colab_type": "text"
      },
      "source": [
        "<a href=\"https://colab.research.google.com/github/deltorobarba/machinelearning/blob/master/ornsteinuhlenbeck.ipynb\" target=\"_parent\"><img src=\"https://colab.research.google.com/assets/colab-badge.svg\" alt=\"Open In Colab\"/></a>"
      ]
    },
    {
      "cell_type": "markdown",
      "metadata": {
        "id": "8idRoUCpsoKR",
        "colab_type": "text"
      },
      "source": [
        "# **Modelling & Analyzing Ornstein-Uhlenbeck Process**"
      ]
    },
    {
      "cell_type": "code",
      "metadata": {
        "id": "1U5_6xH7tAQq",
        "colab_type": "code",
        "colab": {}
      },
      "source": [
        "import numpy as np\n",
        "import pandas as pd\n",
        "import seaborn as sns\n",
        "import matplotlib.pyplot as plt"
      ],
      "execution_count": null,
      "outputs": []
    },
    {
      "cell_type": "markdown",
      "metadata": {
        "id": "NxUW6EnItYWv",
        "colab_type": "text"
      },
      "source": [
        "## **Characteristics & Relevance of Ornstein-Uhlenbeck Process**"
      ]
    },
    {
      "cell_type": "markdown",
      "metadata": {
        "id": "r4s_Et0r5vtY",
        "colab_type": "text"
      },
      "source": [
        "**Simulating a stochastic differential equation**"
      ]
    },
    {
      "cell_type": "markdown",
      "metadata": {
        "id": "q0CRhOchiHXb",
        "colab_type": "text"
      },
      "source": [
        "* the Ornstein–Uhlenbeck process is a **stochastic process** with applications in financial mathematics and the physical sciences. \n",
        "\n",
        "* Its original application in physics was as a model for the **<u>velocity</u> of a massive Brownian particle under the influence of <u>friction</u>**. It is named after Leonard Ornstein and George Eugene Uhlenbeck.\n",
        "\n",
        "* The Ornstein–Uhlenbeck process is a **stationary Gauss–Markov process**, which means that it is a **Gaussian process, a Markov process, and is temporally homogeneous**. In fact, it is the only nontrivial process that satisfies these three conditions, up to allowing linear transformations of the space and time variables.\n",
        "\n",
        "* Over time, the process tends to **drift towards its mean function**: such a process is called **mean-reverting**.\n",
        "\n",
        "* The process can be considered to be a **modification of the random walk in continuous time, or Wiener process**, in which the properties of the process have been changed so that there is a tendency of the walk to move back towards a central location, with a greater attraction when the process is further away from the center. \n",
        "\n",
        "* The Ornstein–Uhlenbeck process can also be considered as the **continuous-time analogue of the discrete-time AR(1) process**.\n",
        "\n",
        "* The Ornstein–Uhlenbeck process can be interpreted as a **scaling limit of a discrete process**, in the same way that Brownian motion is a scaling limit of random walks.\n",
        "\n",
        "* Generalization: It is possible to extend Ornstein–Uhlenbeck processes to processes where the background driving process is a Lévy process (instead of a simple Brownian motion).\n",
        "\n",
        "* In addition, in finance, stochastic processes are used where the volatility increases for larger values of C."
      ]
    },
    {
      "cell_type": "markdown",
      "metadata": {
        "id": "G9O150zqiE50",
        "colab_type": "text"
      },
      "source": [
        "**Additional**"
      ]
    },
    {
      "cell_type": "markdown",
      "metadata": {
        "id": "rXMTpWo46DeY",
        "colab_type": "text"
      },
      "source": [
        "* Stochastic differential equations (SDEs) model dynamical systems that are subject to noise. \n",
        "\n",
        "* An Ornstein-Uhlenbeck process is a solution of the Langevin equation. This model describes the stochastic evolution of a particle in a fluid under the influence of friction. The particle's movement is due to collisions with the molecules of the fluid (diffusion). The difference with the Brownian motion is the presence of friction.\n",
        "\n",
        "* The Ornstein-Uhlenbeck process is stationary, Gaussian, and Markov, which makes it a good candidate to represent stationary random noise.\n",
        "\n",
        "* We will simulate this process with a numerical method called the Euler-Maruyama method. It is a simple generalization to SDEs of the Euler method for ODEs."
      ]
    },
    {
      "cell_type": "markdown",
      "metadata": {
        "id": "OzcIoMjCLFZS",
        "colab_type": "text"
      },
      "source": [
        "**Characteristics and Relevance for Residuals Analysis**"
      ]
    },
    {
      "cell_type": "markdown",
      "metadata": {
        "id": "F-zy_QRvJkxJ",
        "colab_type": "text"
      },
      "source": [
        "* A stationary process is a process that is ``statistically invariant under translations’’\n",
        "* the Ornstein-Uhlenbeck process is stationary (Brownian motion is not)\n",
        "* The Ornstein–Uhlenbeck process (just like the Brownian Bridge) a\n",
        "is an example of a **Gaussian process whose increments are not independent**.\n",
        "* Look for stock returns devoid of explanatory factors, and analyze the corresponding residuals as stochastic processes. (e.g. mean reverting?)\n",
        "* Can residuals be fitted to (increments of) OU processes or other MR processes?\n",
        "If so, what is the typical correlation time-scale?\n",
        "* Mean reversion days: how long does it take to converge (e.g. model distribution of days)."
      ]
    },
    {
      "cell_type": "markdown",
      "metadata": {
        "id": "Plx4BSctjt5a",
        "colab_type": "text"
      },
      "source": [
        "## **Applications**"
      ]
    },
    {
      "cell_type": "markdown",
      "metadata": {
        "id": "gMfL-w-xjxv6",
        "colab_type": "text"
      },
      "source": [
        "**In Financial Mathematics**\n",
        "\n",
        "* The Ornstein–Uhlenbeck process is one of several approaches used to model (with modifications) interest rates, currency exchange rates, and commodity prices stochastically. \n",
        "\n",
        "* The parameter μ (mu) represents the equilibrium or mean value supported by fundamentals; σ (signa) the degree of volatility around it caused by shocks, and θ (theta) the rate by which these shocks dissipate and the variable reverts towards the mean. \n",
        "\n",
        "* One application of the process is a trading strategy known as pairs trade."
      ]
    },
    {
      "cell_type": "markdown",
      "metadata": {
        "id": "YJ3aNAoas1S3",
        "colab_type": "text"
      },
      "source": [
        "## **Create Ornstein-Uhlenbeck Process**"
      ]
    },
    {
      "cell_type": "code",
      "metadata": {
        "id": "Q_dhNPTf4JGM",
        "colab_type": "code",
        "colab": {}
      },
      "source": [
        "# Function parameters\n",
        "\n",
        "sigma = 1.  # Standard deviation.\n",
        "mu = 10.  # Mean.\n",
        "tau = .05  # Time constant\n",
        "\n",
        "# Simulation parameters\n",
        "\n",
        "dt = .001  # Time step.\n",
        "T = 1.  # Total time.\n",
        "n = int(T / dt)  # Number of time steps.\n",
        "t = np.linspace(0., T, n)  # Vector of times\n",
        "\n",
        "# Define renormalized variables (to avoid recomputing these constants at every time step)\n",
        "\n",
        "sigma_bis = sigma * np.sqrt(2. / tau)\n",
        "sqrtdt = np.sqrt(dt)\n",
        "\n",
        "# Create a vector that will contain all successive values of our process during the simulation:\n",
        "x = np.zeros(n)"
      ],
      "execution_count": 2,
      "outputs": []
    },
    {
      "cell_type": "markdown",
      "metadata": {
        "id": "_tw6VKvj4jYK",
        "colab_type": "text"
      },
      "source": [
        "simulate the process with the Euler-Maruyama method. It is really like the standard Euler method for ODEs, but with an extra stochastic term (which is just a scaled normal random variable). "
      ]
    },
    {
      "cell_type": "code",
      "metadata": {
        "id": "Q84NKInh4fcU",
        "colab_type": "code",
        "colab": {}
      },
      "source": [
        "for i in range(n - 1):\n",
        "    x[i + 1] = x[i] + dt * (-(x[i] - mu) / tau) + \\\n",
        "        sigma_bis * sqrtdt * np.random.randn()"
      ],
      "execution_count": 3,
      "outputs": []
    },
    {
      "cell_type": "markdown",
      "metadata": {
        "id": "6eb3m4gO4mFg",
        "colab_type": "text"
      },
      "source": [
        "Visualize"
      ]
    },
    {
      "cell_type": "code",
      "metadata": {
        "id": "kewvJBkY4nG-",
        "colab_type": "code",
        "colab": {
          "base_uri": "https://localhost:8080/",
          "height": 342
        },
        "outputId": "a4e31638-d48c-45d6-a193-0ebb32d31afd"
      },
      "source": [
        "sns.set(rc={'figure.figsize':(12, 5), \"lines.linewidth\": 1.0})\n",
        "fig, ax = plt.subplots(1, 1)\n",
        "plt.axhline(y=10, color='red', linestyle='--', linewidth=1.0)\n",
        "ax.plot(t, x, lw=2)"
      ],
      "execution_count": 7,
      "outputs": [
        {
          "output_type": "execute_result",
          "data": {
            "text/plain": [
              "[<matplotlib.lines.Line2D at 0x7f7c1df80ba8>]"
            ]
          },
          "metadata": {
            "tags": []
          },
          "execution_count": 7
        },
        {
          "output_type": "display_data",
          "data": {
            "image/png": "[encoded data removed]",
            "text/plain": [
              "<Figure size 864x360 with 1 Axes>"
            ]
          },
          "metadata": {
            "tags": []
          }
        }
      ]
    },
    {
      "cell_type": "markdown",
      "metadata": {
        "id": "BpSjpEV-4xCy",
        "colab_type": "text"
      },
      "source": [
        "* Stationary and mean-reverting around mean=10 (red dotted line)\n",
        "* In financial engineering: how long does it take in average to converge? mean-reversion is an investment opportunity!\n",
        "* Now, we are going to take a look at the time evolution of the distribution of the process. To do this, we will simulate many independent realizations of the same process in a vectorized way. We define a vector X that will contain all realizations of the process at a given time (that is, we do not keep all realizations at all times in memory). This vector will be overwritten at every time step. We will show the estimated distribution (histograms) at several points in time:"
      ]
    },
    {
      "cell_type": "code",
      "metadata": {
        "id": "bzZgKeln4uat",
        "colab_type": "code",
        "colab": {
          "base_uri": "https://localhost:8080/",
          "height": 412
        },
        "outputId": "8a828f13-4bff-494a-d2a8-e4690bdad1bc"
      },
      "source": [
        "sns.set(rc={'figure.figsize':(12, 5), \"lines.linewidth\": 1.0})\n",
        "\n",
        "ntrials = 10000\n",
        "X = np.zeros(ntrials)\n",
        "# We create bins for the histograms.\n",
        "bins = np.linspace(-2., 14., 100)\n",
        "fig, ax = plt.subplots(1, 1)\n",
        "for i in range(n):\n",
        "    # We update the process independently for\n",
        "    # all trials\n",
        "    X += dt * (-(X - mu) / tau) + \\\n",
        "        sigma_bis * sqrtdt * np.random.randn(ntrials)\n",
        "    # We display the histogram for a few points in\n",
        "    # time\n",
        "    if i in (5, 50, 900):\n",
        "        hist, _ = np.histogram(X, bins=bins)\n",
        "        ax.plot((bins[1:] + bins[:-1]) / 2, hist,\n",
        "                {5: '-', 50: '.', 900: '-.', }[i],\n",
        "                label=f\"t={i * dt:.2f}\")\n",
        "    ax.legend()"
      ],
      "execution_count": null,
      "outputs": [
        {
          "output_type": "stream",
          "text": [
            "No handles with labels found to put in legend.\n",
            "No handles with labels found to put in legend.\n",
            "No handles with labels found to put in legend.\n",
            "No handles with labels found to put in legend.\n",
            "No handles with labels found to put in legend.\n"
          ],
          "name": "stderr"
        },
        {
          "output_type": "display_data",
          "data": {
            "image/png": "[encoded data removed]",
            "text/plain": [
              "<Figure size 864x360 with 1 Axes>"
            ]
          },
          "metadata": {
            "tags": []
          }
        }
      ]
    },
    {
      "cell_type": "markdown",
      "metadata": {
        "id": "tM9kQEcx5rV1",
        "colab_type": "text"
      },
      "source": [
        "The distribution of the process tends to a Gaussian distribution with mean μ=10 and standard deviation σ=1. The process would be stationary if the initial distribution was also a Gaussian with the adequate parameters."
      ]
    },
    {
      "cell_type": "markdown",
      "metadata": {
        "id": "K76w3zhs46pm",
        "colab_type": "text"
      },
      "source": [
        "The Langevin equation that we use in this recipe is the following stochastic differential equation:"
      ]
    },
    {
      "cell_type": "markdown",
      "metadata": {
        "id": "kh3ILaVS47U3",
        "colab_type": "text"
      },
      "source": [
        ">$d x=-\\frac{(x-\\mu)}{\\tau} d t+\\sigma \\sqrt{\\frac{2}{\\tau}} d W$"
      ]
    },
    {
      "cell_type": "markdown",
      "metadata": {
        "id": "EhOedpwATszR",
        "colab_type": "text"
      },
      "source": [
        "https://ipython-books.github.io/134-simulating-a-stochastic-differential-equation/"
      ]
    }
  ]
}