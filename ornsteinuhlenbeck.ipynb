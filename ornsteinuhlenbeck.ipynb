{
  "nbformat": 4,
  "nbformat_minor": 0,
  "metadata": {
    "colab": {
      "name": "ornsteinuhlenbeck.ipynb",
      "provenance": [],
      "collapsed_sections": [],
      "authorship_tag": "ABX9TyNhsMtKq5k50y3qF9opJNAa",
      "include_colab_link": true
    },
    "kernelspec": {
      "name": "python3",
      "display_name": "Python 3"
    }
  },
  "cells": [
    {
      "cell_type": "markdown",
      "metadata": {
        "id": "view-in-github",
        "colab_type": "text"
      },
      "source": [
        "<a href=\"https://colab.research.google.com/github/deltorobarba/machinelearning/blob/master/ornsteinuhlenbeck.ipynb\" target=\"_parent\"><img src=\"https://colab.research.google.com/assets/colab-badge.svg\" alt=\"Open In Colab\"/></a>"
      ]
    },
    {
      "cell_type": "markdown",
      "metadata": {
        "id": "8idRoUCpsoKR",
        "colab_type": "text"
      },
      "source": [
        "# **Modelling & Analyzing Ornstein-Uhlenbeck Process**"
      ]
    },
    {
      "cell_type": "markdown",
      "metadata": {
        "id": "r4s_Et0r5vtY",
        "colab_type": "text"
      },
      "source": [
        "**Simulating a stochastic differential equation**"
      ]
    },
    {
      "cell_type": "code",
      "metadata": {
        "id": "1U5_6xH7tAQq",
        "colab_type": "code",
        "colab": {}
      },
      "source": [
        "import numpy as np\n",
        "import pandas as pd\n",
        "import seaborn as sns\n",
        "import matplotlib.pyplot as plt"
      ],
      "execution_count": 0,
      "outputs": []
    },
    {
      "cell_type": "markdown",
      "metadata": {
        "id": "NxUW6EnItYWv",
        "colab_type": "text"
      },
      "source": [
        "## **Characteristics & Relevance of Ornstein-Uhlenbeck Process**"
      ]
    },
    {
      "cell_type": "markdown",
      "metadata": {
        "id": "rXMTpWo46DeY",
        "colab_type": "text"
      },
      "source": [
        "Stochastic differential equations (SDEs) model dynamical systems that are subject to noise. \n",
        "\n",
        "An Ornstein-Uhlenbeck process is a solution of the Langevin equation. This model describes the stochastic evolution of a particle in a fluid under the influence of friction. The particle's movement is due to collisions with the molecules of the fluid (diffusion). The difference with the Brownian motion is the presence of friction.\n",
        "\n",
        "The Ornstein-Uhlenbeck process is stationary, Gaussian, and Markov, which makes it a good candidate to represent stationary random noise.\n",
        "\n",
        "We will simulate this process with a numerical method called the Euler-Maruyama method. It is a simple generalization to SDEs of the Euler method for ODEs."
      ]
    },
    {
      "cell_type": "markdown",
      "metadata": {
        "id": "YJ3aNAoas1S3",
        "colab_type": "text"
      },
      "source": [
        "## **Create Ornstein-Uhlenbeck Process**"
      ]
    },
    {
      "cell_type": "code",
      "metadata": {
        "id": "Q_dhNPTf4JGM",
        "colab_type": "code",
        "colab": {}
      },
      "source": [
        "sigma = 1.  # Standard deviation.\n",
        "mu = 10.  # Mean.\n",
        "tau = .05  # Time constant\n",
        "\n",
        "# Simulation parameters\n",
        "\n",
        "dt = .001  # Time step.\n",
        "T = 1.  # Total time.\n",
        "n = int(T / dt)  # Number of time steps.\n",
        "t = np.linspace(0., T, n)  # Vector of times\n",
        "\n",
        "# define renormalized variables (to avoid recomputing these constants at every time step)\n",
        "\n",
        "sigma_bis = sigma * np.sqrt(2. / tau)\n",
        "sqrtdt = np.sqrt(dt)\n",
        "\n",
        "# create a vector that will contain all successive values of our process during the simulation:\n",
        "x = np.zeros(n)"
      ],
      "execution_count": 0,
      "outputs": []
    },
    {
      "cell_type": "markdown",
      "metadata": {
        "id": "_tw6VKvj4jYK",
        "colab_type": "text"
      },
      "source": [
        "simulate the process with the Euler-Maruyama method. It is really like the standard Euler method for ODEs, but with an extra stochastic term (which is just a scaled normal random variable). "
      ]
    },
    {
      "cell_type": "code",
      "metadata": {
        "id": "Q84NKInh4fcU",
        "colab_type": "code",
        "colab": {}
      },
      "source": [
        "for i in range(n - 1):\n",
        "    x[i + 1] = x[i] + dt * (-(x[i] - mu) / tau) + \\\n",
        "        sigma_bis * sqrtdt * np.random.randn()"
      ],
      "execution_count": 0,
      "outputs": []
    },
    {
      "cell_type": "markdown",
      "metadata": {
        "id": "6eb3m4gO4mFg",
        "colab_type": "text"
      },
      "source": [
        "Visualize"
      ]
    },
    {
      "cell_type": "code",
      "metadata": {
        "id": "kewvJBkY4nG-",
        "colab_type": "code",
        "colab": {
          "base_uri": "https://localhost:8080/",
          "height": 286
        },
        "outputId": "ea586977-fddb-4c7a-c2d7-92e5b494fc9d"
      },
      "source": [
        "sns.set(rc={'figure.figsize':(13, 4), \"lines.linewidth\": 1.0})\n",
        "fig, ax = plt.subplots(1, 1, figsize=(8, 4))\n",
        "ax.plot(t, x, lw=2)"
      ],
      "execution_count": 8,
      "outputs": [
        {
          "output_type": "execute_result",
          "data": {
            "text/plain": [
              "[<matplotlib.lines.Line2D at 0x7f499ded2860>]"
            ]
          },
          "metadata": {
            "tags": []
          },
          "execution_count": 8
        },
        {
          "output_type": "display_data",
          "data": {
            "image/png": "[encoded data removed]",
            "text/plain": [
              "<Figure size 576x288 with 1 Axes>"
            ]
          },
          "metadata": {
            "tags": []
          }
        }
      ]
    },
    {
      "cell_type": "markdown",
      "metadata": {
        "id": "BpSjpEV-4xCy",
        "colab_type": "text"
      },
      "source": [
        "Now, we are going to take a look at the time evolution of the distribution of the process. To do this, we will simulate many independent realizations of the same process in a vectorized way. We define a vector X that will contain all realizations of the process at a given time (that is, we do not keep all realizations at all times in memory). This vector will be overwritten at every time step. We will show the estimated distribution (histograms) at several points in time:"
      ]
    },
    {
      "cell_type": "code",
      "metadata": {
        "id": "bzZgKeln4uat",
        "colab_type": "code",
        "colab": {
          "base_uri": "https://localhost:8080/",
          "height": 358
        },
        "outputId": "c748c37d-e11a-4dfb-b2c3-5fd900894947"
      },
      "source": [
        "sns.set(rc={'figure.figsize':(13, 4), \"lines.linewidth\": 1.0})\n",
        "\n",
        "ntrials = 10000\n",
        "X = np.zeros(ntrials)\n",
        "# We create bins for the histograms.\n",
        "bins = np.linspace(-2., 14., 100)\n",
        "fig, ax = plt.subplots(1, 1, figsize=(8, 4))\n",
        "for i in range(n):\n",
        "    # We update the process independently for\n",
        "    # all trials\n",
        "    X += dt * (-(X - mu) / tau) + \\\n",
        "        sigma_bis * sqrtdt * np.random.randn(ntrials)\n",
        "    # We display the histogram for a few points in\n",
        "    # time\n",
        "    if i in (5, 50, 900):\n",
        "        hist, _ = np.histogram(X, bins=bins)\n",
        "        ax.plot((bins[1:] + bins[:-1]) / 2, hist,\n",
        "                {5: '-', 50: '.', 900: '-.', }[i],\n",
        "                label=f\"t={i * dt:.2f}\")\n",
        "    ax.legend()"
      ],
      "execution_count": 9,
      "outputs": [
        {
          "output_type": "stream",
          "text": [
            "No handles with labels found to put in legend.\n",
            "No handles with labels found to put in legend.\n",
            "No handles with labels found to put in legend.\n",
            "No handles with labels found to put in legend.\n",
            "No handles with labels found to put in legend.\n"
          ],
          "name": "stderr"
        },
        {
          "output_type": "display_data",
          "data": {
            "image/png": "[encoded data removed]",
            "text/plain": [
              "<Figure size 576x288 with 1 Axes>"
            ]
          },
          "metadata": {
            "tags": []
          }
        }
      ]
    },
    {
      "cell_type": "markdown",
      "metadata": {
        "id": "tM9kQEcx5rV1",
        "colab_type": "text"
      },
      "source": [
        "The distribution of the process tends to a Gaussian distribution with mean μ=10\n",
        "μ\n",
        "=\n",
        "10\n",
        " and standard deviation σ=1\n",
        "σ\n",
        "=\n",
        "1\n",
        ". The process would be stationary if the initial distribution was also a Gaussian with the adequate parameters."
      ]
    },
    {
      "cell_type": "markdown",
      "metadata": {
        "id": "K76w3zhs46pm",
        "colab_type": "text"
      },
      "source": [
        "The Langevin equation that we use in this recipe is the following stochastic differential equation:"
      ]
    },
    {
      "cell_type": "markdown",
      "metadata": {
        "id": "kh3ILaVS47U3",
        "colab_type": "text"
      },
      "source": [
        ">$d x=-\\frac{(x-\\mu)}{\\tau} d t+\\sigma \\sqrt{\\frac{2}{\\tau}} d W$"
      ]
    }
  ]
}