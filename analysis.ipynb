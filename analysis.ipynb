{
  "nbformat": 4,
  "nbformat_minor": 0,
  "metadata": {
    "colab": {
      "name": "analysis.ipynb",
      "provenance": [],
      "collapsed_sections": [
        "aXtkYuCrMR-l",
        "nrkLBUH1hb36",
        "_Syw4dL96u31",
        "4SpYIJ602L38",
        "F1l9_Erf5T5S",
        "Tg7TfvlQN8-t",
        "00B-3E6wT_WN",
        "QwmusuE_vi8z",
        "4O-mEOh6SluW",
        "O3mIl8Xj8Dfs",
        "7anvv0k7qOr4",
        "mBull6DKqU-H",
        "7cOvYI6xr_fl",
        "_BMwC_7ev16S",
        "n7txO-4l254v",
        "EfrXUsI54L2_",
        "Icf9R4rz53z_",
        "QmfX-CNmOZGr",
        "ftKE9QkO55-i",
        "zgH-0xLyEbqM",
        "lWaTQAuEG2m6",
        "gdkIExFtEh8W",
        "rw9GQgLL-qm-",
        "zN-mlxJyUxVU",
        "xfdBIY5Y-eNj",
        "Gdr6F1zuU4MG",
        "kLrvSOUNr1T1",
        "ttEWWgIVr9Sl",
        "zFD0yRkvYGE2",
        "9Aolz28MRggQ",
        "FLeX-skuQC_8",
        "2T3n7jhWXtHv",
        "YUy8UbeIYqx1",
        "ybqAMWlqJu7y",
        "3HEOBISTrpoC",
        "L-vCM9-DX-j2",
        "u0Zw_t0Ptro-",
        "b2zTmFCuVE-u",
        "x9e3prN3rXj-",
        "UGSV9UrCvfQh",
        "dolnoE19IyYG",
        "1_lY1plvJOZ-",
        "5HvuqF-aJDBO",
        "VQdL1yhzPGzI",
        "SHwK1ZsvrPIY",
        "PhQKZZ-1M-GE",
        "Vcm5d0r2fDD0",
        "zglWxx_a7Q_3",
        "NawRTutVPDUM",
        "DMbn0EQsWcGh",
        "4NB7LHkmNm_3",
        "HHvXBMnoRB8h",
        "-2BU50U7Rzm_",
        "u1FbvIb1f_4g",
        "6A1WfmYqHxFw",
        "kDlJ7rtrH1Jk",
        "_QgKCNimH6Sa",
        "Oc36OYMXjGCI",
        "vVa4sBaTvj6U",
        "bYbiy5emkcnM",
        "4JijVDdYpeTw",
        "_DcbvY2o-JyH",
        "m066sar7fCUi",
        "hIwXOz85zxW_"
      ],
      "include_colab_link": true
    },
    "kernelspec": {
      "name": "python3",
      "display_name": "Python 3"
    }
  },
  "cells": [
    {
      "cell_type": "markdown",
      "metadata": {
        "id": "view-in-github",
        "colab_type": "text"
      },
      "source": [
        "<a href=\"https://colab.research.google.com/github/deltorobarba/machinelearning/blob/master/analysis.ipynb\" target=\"_parent\"><img src=\"https://colab.research.google.com/assets/colab-badge.svg\" alt=\"Open In Colab\"/></a>"
      ]
    },
    {
      "cell_type": "markdown",
      "metadata": {
        "id": "HjNmcYpFuFTY"
      },
      "source": [
        "# **Higher Analysis & Spaces**"
      ]
    },
    {
      "cell_type": "code",
      "metadata": {
        "id": "RYViK39mt7Nj",
        "colab": {
          "base_uri": "https://localhost:8080/",
          "height": 35
        },
        "outputId": "0168c965-db78-461b-ba19-50df85a9e604"
      },
      "source": [
        "import numpy as np\n",
        "import pandas as pd\n",
        "import seaborn as sns\n",
        "import matplotlib.pyplot as plt"
      ],
      "execution_count": null,
      "outputs": [
        {
          "output_type": "stream",
          "text": [
            "2.2.0\n"
          ],
          "name": "stdout"
        }
      ]
    },
    {
      "cell_type": "markdown",
      "metadata": {
        "id": "ED1yBASxixcf"
      },
      "source": [
        "![analysis](https://upload.wikimedia.org/wikipedia/commons/c/c5/3d-function-9.svg)"
      ]
    },
    {
      "cell_type": "markdown",
      "metadata": {
        "id": "2Aoj2PpxvDQV"
      },
      "source": [
        "## **Funktionalanalysis**"
      ]
    },
    {
      "cell_type": "markdown",
      "metadata": {
        "id": "aXtkYuCrMR-l"
      },
      "source": [
        "#### **Funktionalanalysis**"
      ]
    },
    {
      "cell_type": "markdown",
      "metadata": {
        "id": "fEIYn_Espuwu"
      },
      "source": [
        "Functional Analysis: https://youtube.com/playlist?list=PLBh2i93oe2qsGKDOsuVVw-OCAfprrnGfr"
      ]
    },
    {
      "cell_type": "markdown",
      "metadata": {
        "id": "JSntgi3PyqFp"
      },
      "source": [
        "Weitergehende analytische Eigenschaften, wie [Stetigkeit](https://de.wikipedia.org/wiki/Stetige_Funktion), [Differenzierbarkeit](https://de.wikipedia.org/wiki/Differenzierbarkeit) oder [Integrierbarkeit](https://de.wikipedia.org/wiki/Integralrechnung), erfordern auf der Definitionsmenge zumindest eine [topologische](https://de.wikipedia.org/wiki/Topologischer_Raum), [metrische](https://de.wikipedia.org/wiki/Metrischer_Raum) oder [maßtheoretische](https://de.wikipedia.org/wiki/Maßraum) Struktur."
      ]
    },
    {
      "cell_type": "markdown",
      "metadata": {
        "id": "lRaJUh0m5PR8"
      },
      "source": [
        "**Analysis**\n",
        "\n",
        "Die Begriffe der Norm (als Verallgemeinerung des Betrags), der Konvergenz, der Stetigkeit und der Grenzwerte lassen sich einfach von einer in mehrere Dimensionen verallgemeinern.\n",
        "\n",
        "https://de.m.wikipedia.org/wiki/Analysis\n",
        "\n",
        "* Gewöhnliche Differentialgleichungen, Eindimensionale Differential- & Integralrechnung"
      ]
    },
    {
      "cell_type": "markdown",
      "metadata": {
        "id": "syMDia1r2w89"
      },
      "source": [
        "* Functional analysis is organized around adequate techniques to bring function spaces as topological vector spaces within reach of the ideas that would apply to normed spaces of finite dimension. \n",
        "\n",
        "* Die historischen Wurzeln der Funktionalanalysis liegen im Studium der **Fouriertransformation** und aahnlicher Transformationen sowie der Untersuchung von Differential- und Integralgleichungen. \n",
        "\n",
        "* Der Wortbestandteil ”funktional“ geht auf die **Variationsrechnung** zuru ̈ck.\n",
        "\n",
        "* Grundlage der Funktionalanalysis sind Vektorräume über den reellen oder komplexen Zahlen. Der Grundbegriff ist hier der topologische Vektorraum, der dadurch gekennzeichnet ist, **dass die Vektorraumverknüpfungen stetig sind**, etwas konkreter werden auch lokalkonvexe topologische Vektorräume und Fréchet-Räume untersucht. \n",
        "\n",
        "* Wichtige Aussagen sind dabei der Satz von Hahn-Banach, der Satz von Baire und der Satz von Banach-Steinhaus. Insbesondere in der Lösungstheorie partieller Differentialgleichungen spielen diese eine wichtige Rolle, darüber hinaus in der Fredholm-Theorie.\n",
        "\n",
        "* Der wichtigste Spezialfall **lokalkonvexer topologischer Vektorräume** sind **normierte Vektorräume**. Sind diese zusätzlich vollständig, dann heißen sie **Banachräume**. Noch spezieller betrachtet man **Hilberträume**, bei denen die Norm von einem Skalarprodukt erzeugt wird. Diese Räume sind von grundlegender Bedeutung für die mathematische Formulierung der Quantenmechanik. Ein wichtiger Untersuchungsgegenstand sind stetige lineare Operatoren auf Banach- oder Hilberträumen.\n",
        "\n"
      ]
    },
    {
      "cell_type": "markdown",
      "metadata": {
        "id": "TE7kF3loVHOV"
      },
      "source": [
        "Folgende Themen sollen behandelt werden:\r\n",
        "\r\n",
        "* Distributionen\r\n",
        "* Unbeschränkte Operatoren, Spektralsatz \r\n",
        "* Banach-Räume, Hilbert-Räume (insbesondere Lp- und **Sobolev Räume**) und beschränkte lineare Operatoren darauf.\r\n",
        "* Pseudodifferentialoperatoren\r\n",
        "* Grundlegende Sätze der Funktionalanalysis (Hahn-Banach, Banach-Steinhaus, Satz vom abgeschlossenen Graphen...)\r\n",
        "* Kompakte Operatoren und Fredholm Theorie\r\n",
        "* Spektraltheorie kompakter Operatoren\r\n",
        "* Grundzüge nicht beschränkter Operatoren\r\n",
        "* Anwendungen auf Randwertprobleme elliptischer partieller Differentialgleichungen\r\n"
      ]
    },
    {
      "cell_type": "markdown",
      "metadata": {
        "id": "m_PWlqHc1iRr"
      },
      "source": [
        "Der große Reiz der Funktionalanalysis ist, dass die im Grundstudium erworbenen Konzepte der Analysis (Stetigkeit, Grenzwerte, Vollständigkeit) und Linearen Algebra (Vektorräume, lineare Abbildungen, Eigenwerte) konsequent zusammengeführt werden und gemeinsam eine Theorie liefern, die wiederrum in vielen Bereichen der Mathematik und Physik ein unabdingbares Werkzeug ist. Im Rahmen des Masterschwerpunktes Partielle Differentialgleichungen sollen in dieser Vorlesung insbesondere die Anwendung im Studium partieller Differentialgleichungen im Fokus liegen.\n",
        "\n",
        "\n",
        "**In der Funktionalanalysis betrachtet man topologische Vektorräume, d. h. Vektorräume, auf denen man von Konvergenz sprechen und dementsprechend auch unendliche Summen bilden kann**. Good overview [here](https://matheplanet.com/default3.html?call=article.php?sid=1192&ref=https%3A%2F%2Fwww.google.de%2F)\n",
        "\n",
        "**Das Ziel der Funktionalanalysis** ist es nicht zuletzt, die **<u>Methoden der mehrdimensionalen Analysis auf unendlichdimensionale Räume auszudehnen und dabei insbesondere Konzepte wie Konvergenz, Stetigkeit und Differenzierbarkeit zu untersuchen</u>**. \n",
        "\n",
        "Daher werden a priori **nur Vektorräume betrachtet, die zumindest eine topologische Struktur tragen, also die topologischen Vektorräume**. Zu ihnen zählen unter anderem alle normierten Vektorräume und insbesondere die Banach- und Hilberträume."
      ]
    },
    {
      "cell_type": "markdown",
      "metadata": {
        "id": "1-3oAK-Y8cDo"
      },
      "source": [
        "https://de.m.wikipedia.org/wiki/Nichtstandardanalysis"
      ]
    },
    {
      "cell_type": "markdown",
      "metadata": {
        "id": "2MenUOeZ94mb"
      },
      "source": [
        "**Nichtstandardanalysis**"
      ]
    },
    {
      "cell_type": "markdown",
      "metadata": {
        "id": "P6Y_nhc_-u7P"
      },
      "source": [
        "* There are also applications of nonstandard analysis to the theory of stochastic processes, particularly constructions of Brownian motion as random walks. "
      ]
    },
    {
      "cell_type": "markdown",
      "metadata": {
        "id": "Fnbn2KGz-YM5"
      },
      "source": [
        "https://de.m.wikipedia.org/wiki/Nichtstandardanalysis"
      ]
    },
    {
      "cell_type": "markdown",
      "metadata": {
        "id": "vu9AtQtn9-b0"
      },
      "source": [
        "\r\n",
        "https://en.wikipedia.org/wiki/Surreal_number\r\n",
        "\r\n",
        "https://en.wikipedia.org/wiki/Hyperreal_number\r\n",
        "\r\n",
        "https://en.wikipedia.org/wiki/Infinitesimal\r\n"
      ]
    },
    {
      "cell_type": "markdown",
      "metadata": {
        "id": "B7WATitX0-3R"
      },
      "source": [
        "**Numerische Mathematik**"
      ]
    },
    {
      "cell_type": "markdown",
      "metadata": {
        "id": "c6jng2rDf625"
      },
      "source": [
        "https://de.m.wikipedia.org/wiki/Gleichung#Einteilung_nach_(Nicht)Linearität\r\n",
        "\r\n",
        "siehe unter Differentialgleichungen"
      ]
    },
    {
      "cell_type": "markdown",
      "metadata": {
        "id": "eVrlkUVbgUK8"
      },
      "source": [
        "https://de.m.wikipedia.org/wiki/Liste_numerischer_Verfahren#Numerik_gewöhnlicher_Differentialgleichungen"
      ]
    },
    {
      "cell_type": "markdown",
      "metadata": {
        "id": "Qut1fCf64x2s"
      },
      "source": [
        "Test functions for optimization (for numerik):\n",
        "\n",
        "https://towardsdatascience.com/optimization-eye-pleasure-78-benchmark-test-functions-for-single-objective-optimization-92e7ed1d1f12\n",
        "\n",
        "https://en.m.wikipedia.org/wiki/Test_functions_for_optimization\n"
      ]
    },
    {
      "cell_type": "markdown",
      "metadata": {
        "id": "MroC1PSueG54"
      },
      "source": [
        "https://de.m.wikipedia.org/wiki/Approximation"
      ]
    },
    {
      "cell_type": "markdown",
      "metadata": {
        "id": "3Vkz5hPTeTZs"
      },
      "source": [
        "Für viele mathematische Probleme, wie zum Beispiel die Optimierung oder das Lösen von partiellen Differentialgleichungen, existieren eine Vielzahl numerischer Verfahren und Algorithmen. Eine kommentierte Zusammenstellung von ausgewählten numerischen Verfahren findet man unter Liste numerischer Verfahren.\r\n",
        "\r\n"
      ]
    },
    {
      "cell_type": "markdown",
      "metadata": {
        "id": "FvVxCuyVeVWU"
      },
      "source": [
        "https://de.m.wikipedia.org/wiki/Liste_numerischer_Verfahren"
      ]
    },
    {
      "cell_type": "markdown",
      "metadata": {
        "id": "9-6neOIyehgd"
      },
      "source": [
        "https://de.m.wikipedia.org/wiki/Optimierung_(Mathematik)#Nichtlineare_Optimierung"
      ]
    },
    {
      "cell_type": "markdown",
      "metadata": {
        "id": "_Zf3_7yVe2Mn"
      },
      "source": [
        "https://de.m.wikipedia.org/wiki/Optimierungsproblem"
      ]
    },
    {
      "cell_type": "markdown",
      "metadata": {
        "id": "l0AWdyh5foo3"
      },
      "source": [
        "https://de.m.wikipedia.org/wiki/Gleichung#Einteilung_nach_(Nicht)Linearität"
      ]
    },
    {
      "cell_type": "markdown",
      "metadata": {
        "id": "3nCr98-hm27D"
      },
      "source": [
        "* [numerische Mathematik](https://de.m.wikipedia.org/wiki/Numerische_Mathematik), auch Numerik, beschäftigt sich mit der Konstruktion und Analyse von Algorithmen für kontinuierliche mathematische Probleme.\n",
        "\n",
        "  * jede Menge, welche die Mächtigkeit der reellen Zahlen hat, ist ein [Kontinuum](https://de.m.wikipedia.org/wiki/Kontinuum_(Mathematik))\n",
        "\n",
        "* Hauptanwendung ist dabei die näherungsweise Berechnung von Lösungen durch Approximationsalgorithmen mit Hilfe von Computern"
      ]
    },
    {
      "cell_type": "markdown",
      "metadata": {
        "id": "uwDeAVIFoZ95"
      },
      "source": [
        "**Approximation**"
      ]
    },
    {
      "cell_type": "markdown",
      "metadata": {
        "id": "JEsIYTEHr6gU"
      },
      "source": [
        "* Von besonderem Interesse ist die **Näherung von Funktionen**, beispielsweise für Näherungslösungen nicht exakt lösbarer Differentialgleichungen. Die häufigste Form ist die Approximation mit Polynomen, da diese einfach ableitbar, integrierbar und berechenbar sind. \n",
        "\n",
        "* Hier beruht das am weitesten verbreitete Verfahren auf der **Taylorreihenentwicklung**. Von großer praktischer Bedeutung ist auch die **Fourieranalyse**, bei der periodische Funktionen in unendlichen Reihen von Sinus- und Kosinusfunktionen entwickelt werden."
      ]
    },
    {
      "cell_type": "markdown",
      "metadata": {
        "id": "p7GYQv5locTo"
      },
      "source": [
        "https://de.m.wikipedia.org/wiki/Approximation"
      ]
    },
    {
      "cell_type": "markdown",
      "metadata": {
        "id": "6BDmeaqEqp_X"
      },
      "source": [
        "https://de.m.wikipedia.org/wiki/Gleitkommazahl"
      ]
    },
    {
      "cell_type": "markdown",
      "metadata": {
        "id": "6mcKqgkorOeA"
      },
      "source": [
        "https://de.m.wikipedia.org/wiki/NP-Vollständigkeit"
      ]
    },
    {
      "cell_type": "markdown",
      "metadata": {
        "id": "SVZ9QMZ0svA7"
      },
      "source": [
        "https://de.m.wikipedia.org/wiki/Landau-Symbole"
      ]
    },
    {
      "cell_type": "markdown",
      "metadata": {
        "id": "P9r-DD3G05uP"
      },
      "source": [
        "**Interpolation (Approximation)**"
      ]
    },
    {
      "cell_type": "markdown",
      "metadata": {
        "id": "TrdXR7Ge082w"
      },
      "source": [
        "* bei der [Interpolation](https://de.m.wikipedia.org/wiki/Interpolation_(Mathematik)) soll zu gegebenen diskreten Daten (z. B. Messwerten) eine stetige Funktion (= Interpolante oder Interpolierende) gefunden werden, die diese Daten abbildet. Man sagt dann, die Funktion interpoliert die Daten.\n",
        "\n",
        "* Die Interpolation ist eine Art der Approximation: Die betrachtete Funktion wird durch die Interpolationsfunktion in den Stützstellen exakt wiedergegeben und in den restlichen Punkten immerhin näherungsweise\n",
        "\n",
        "* Da Polynome mit zunehmendem Grad immer instabiler werden, d. h. stark zwischen den Interpolationspunkten schwingen, werden in der Praxis Polynome mit einem Grad größer als 5 kaum eingesetzt. Stattdessen **interpoliert man einen großen Datensatz stückweise**."
      ]
    },
    {
      "cell_type": "markdown",
      "metadata": {
        "id": "viIowDimuj57"
      },
      "source": [
        "**Gaußprozess-Regression (Kriging)**"
      ]
    },
    {
      "cell_type": "markdown",
      "metadata": {
        "id": "-VFcNx_HunB6"
      },
      "source": [
        "https://de.m.wikipedia.org/wiki/Kriging"
      ]
    },
    {
      "cell_type": "markdown",
      "metadata": {
        "id": "ySw1i9g-urdf"
      },
      "source": [
        "https://de.m.wikipedia.org/wiki/Gauß-Prozess#Gaußprozess-Regression"
      ]
    },
    {
      "cell_type": "markdown",
      "metadata": {
        "id": "nKH3bOsT1u2T"
      },
      "source": [
        "https://medium.com/criteo-engineering/hyper-parameter-optimization-algorithms-2fe447525903"
      ]
    },
    {
      "cell_type": "markdown",
      "metadata": {
        "id": "eH2BF11w1EFA"
      },
      "source": [
        "**Ausgleichungsrechnung (Curve Fitting)**"
      ]
    },
    {
      "cell_type": "markdown",
      "metadata": {
        "id": "H2v4gYzC1G8R"
      },
      "source": [
        "https://de.m.wikipedia.org/wiki/Ausgleichungsrechnung"
      ]
    },
    {
      "cell_type": "markdown",
      "metadata": {
        "id": "Ew0Gfkwt2CBu"
      },
      "source": [
        "#### **Spaces**"
      ]
    },
    {
      "cell_type": "markdown",
      "metadata": {
        "id": "nrkLBUH1hb36"
      },
      "source": [
        "###### **Overview**"
      ]
    },
    {
      "cell_type": "markdown",
      "metadata": {
        "id": "UBr83BK4q-q-"
      },
      "source": [
        "Ubersichr Räume: skalarprodukt etc: https://youtu.be/xshaxciJb24"
      ]
    },
    {
      "cell_type": "markdown",
      "metadata": {
        "id": "_JFo32C3rvIC"
      },
      "source": [
        "cauchy sequence: https://youtu.be/3olS8tyoQEE"
      ]
    },
    {
      "cell_type": "markdown",
      "metadata": {
        "id": "ostHcxEvNZ5r"
      },
      "source": [
        "![Normed Vector Space](https://upload.wikimedia.org/wikipedia/en/7/74/Mathematical_Spaces.png)"
      ]
    },
    {
      "cell_type": "markdown",
      "metadata": {
        "id": "BXxHvgntFDSt"
      },
      "source": [
        "Quelle: [Mathematical Spaces](https://en.m.wikipedia.org/wiki/Space_(mathematics))"
      ]
    },
    {
      "cell_type": "markdown",
      "metadata": {
        "id": "mYX8BpsE7IqC"
      },
      "source": [
        "**What constitutes a 'space'?**"
      ]
    },
    {
      "cell_type": "markdown",
      "metadata": {
        "id": "zqI_Wvvlu5y7"
      },
      "source": [
        "* **A space is a [set](https://en.m.wikipedia.org/wiki/Set_(mathematics)) - (sometimes called a [universe - Grundmenge](https://en.m.wikipedia.org/wiki/Universe_(mathematics))) with some added structure.**\n",
        "\n",
        "* A space consists of selected **mathematical objects that are treated as points**, and selected **relationships between these points**.\n",
        "\n",
        "* The nature of the points can vary widely: for example, the **points can be elements of a set, functions on another space, or subspaces of another space.**\n",
        "\n",
        "* While modern mathematics uses many types of spaces, such as Euclidean spaces, linear spaces, topological spaces, Hilbert spaces, or probability spaces, **it does not define the notion of \"space\" itself.** \n",
        "\n",
        "**[Taxonomy of Spaces](https://en.m.wikipedia.org/wiki/Space_(mathematics)#Taxonomy_of_spaces)**: While each type of space has its own definition, the general idea of \"space\" evades formalization.\n",
        "\n",
        "* **It is the relationships that define the nature of the space**. More precisely, isomorphic spaces are considered identical, where an isomorphism between two spaces is a one-to-one correspondence between their points that preserves the relationships. For example, the relationships between the points of a three-dimensional Euclidean space are uniquely determined by Euclid's axioms, and all three-dimensional Euclidean spaces are considered identical.\n",
        "\n",
        "* They are frequently described as different types of [manifolds](https://en.m.wikipedia.org/wiki/Manifold), which are **spaces that locally approximate to Euclidean space**, and where the properties are defined largely on local connectedness of points that lie on the manifold. \n",
        "\n",
        "**Important Spaces**: Vektorräume und topologische Räume, Metrische und uniforme Räume, Normierte Räume und Skalarprodukträume, Affine und projektive Räume, Differenzierbare und Riemannsche Mannigfaltigkeiten, Messräume, Maßräume und Wahrscheinlichkeitsräume"
      ]
    },
    {
      "cell_type": "markdown",
      "metadata": {
        "id": "1f3hd9w12Kqi"
      },
      "source": [
        "**Summary: From Norm to Norm Topology**"
      ]
    },
    {
      "cell_type": "markdown",
      "metadata": {
        "id": "VdbhSogUTX9R"
      },
      "source": [
        "Eine [Normtopologie](https://de.m.wikipedia.org/wiki/Normtopologie) (siehe auch: [Norm: Normierte Raume](https://de.m.wikipedia.org/wiki/Norm_(Mathematik)#Normierte_Räume) ) ist eine Topologie auf einem normierten Vektorraum, die durch die Norm des Vektorraums induziert wurde.\n",
        "\n",
        "1. Ist $(V,\\|\\cdot\\|)$ ein normierter Vektorraum, so induziert die Norm des Raums durch Differenzenbildung zweier Vektoren $x, y \\in V$ eine Metrik\n",
        "$\n",
        "d(x, y):=\\|x-y\\| .\n",
        "$\n",
        "auf $V$. Mit dieser Metrik wird der Vektorraum zu einem metrischen Raum $(V, d)$. \n",
        "\n",
        "2. Eine Metrik kann nun verwendet werden, um eine $\\varepsilon$ -Umgebung um einen Vektor $x \\in V$ durch\n",
        "$\n",
        "U_{\\varepsilon}(x):=\\{y \\in V, d(x, y)<\\varepsilon\\}\n",
        "$\n",
        "zu definieren. Damit heißt dann eine Teilmenge $M \\subset V$ offen, falls\n",
        "$\n",
        "\\forall x \\in M \\exists \\varepsilon>0: U_{\\varepsilon}(x) \\subset M\n",
        "$\n",
        "gilt. Über diese offenen Mengen induziert die Metrik nun auf $V$ eine Topologie\n",
        "$\n",
        "\\mathcal{T}:=\\{M \\subset V, M \\text { offen }\\}\n",
        "$.\n",
        "\n",
        "3. Mit dieser Topologie wird der Vektorraum zu einem topologischen Vektorraum ($\\mathcal {V}$ , $\\mathcal {T}$) und diese letztendlich von der Norm induzierte Topologie heißt Normtopologie."
      ]
    },
    {
      "cell_type": "markdown",
      "metadata": {
        "id": "69ctNRHBvHbg"
      },
      "source": [
        "Topologischer Raum |  | dazugehörige Struktur\n",
        "--- | --- | ---\n",
        "[Euklidischer Raum](https://de.m.wikipedia.org/wiki/Euklidischer_Raum) | hat | Skalarprodukt\n",
        "[Normierter Raum](https://de.m.wikipedia.org/wiki/Normierter_Raum) | hat | Norm\n",
        "[Metrischer Raum](https://de.m.wikipedia.org/wiki/Metrischer_Raum) | hat | Metrik\n",
        "[Uniformer Raum](https://de.m.wikipedia.org/wiki/Uniformer_Raum) | hat | Uniforme Struktur\n",
        "[Topologischer Raum](https://de.m.wikipedia.org/wiki/Topologischer_Raum) | hat | Topologie"
      ]
    },
    {
      "cell_type": "markdown",
      "metadata": {
        "id": "EX3MWnkavJSo"
      },
      "source": [
        "Quelle: [Einordnung in die Hierarchie mathematischer Strukturen](https://de.m.wikipedia.org/wiki/Metrischer_Raum#Einordnung_in_die_Hierarchie_mathematischer_Strukturen) sowie [Topologische Räume](https://de.m.wikipedia.org/wiki/Topologischer_Raum#Beispiele)"
      ]
    },
    {
      "cell_type": "markdown",
      "metadata": {
        "id": "mEWNHFTs3MuK"
      },
      "source": [
        "![xxx](https://upload.wikimedia.org/wikipedia/commons/thumb/a/a2/Beziehungen_zwischen_mathematischen_Räumen.svg/220px-Beziehungen_zwischen_mathematischen_Räumen.svg.png)"
      ]
    },
    {
      "cell_type": "markdown",
      "metadata": {
        "id": "z7g61tVkvMXM"
      },
      "source": [
        "![alternativer Text](https://upload.wikimedia.org/wikipedia/commons/thumb/d/dc/Mathematical_implication_diagram-alt-large-print.svg/640px-Mathematical_implication_diagram-alt-large-print.svg.png)"
      ]
    },
    {
      "cell_type": "markdown",
      "metadata": {
        "id": "KgAkdiOavOOH"
      },
      "source": [
        "Quelle: [Overview of types of abstract spaces](https://en.m.wikipedia.org/wiki/Space_(mathematics))"
      ]
    },
    {
      "cell_type": "markdown",
      "metadata": {
        "id": "76WfNtSKPS3_"
      },
      "source": [
        "**Vektorraum**"
      ]
    },
    {
      "cell_type": "markdown",
      "metadata": {
        "id": "dEYgQOwausMk"
      },
      "source": [
        "Abstract Vector Spaces: https://youtu.be/TgKwz5Ikpc8"
      ]
    },
    {
      "cell_type": "markdown",
      "metadata": {
        "id": "hbITYPNHEkj5"
      },
      "source": [
        "**More about Vector Spaces under 'Algebra'**\n",
        "\n",
        "* There are many diverse mathematical objects that are called spaces. For example, [vector spaces](https://en.m.wikipedia.org/wiki/Vector_space) such as [function spaces](https://en.m.wikipedia.org/wiki/Function_space) may have infinite numbers of independent dimensions and a notion of distance very different from Euclidean space, and [topological spaces](https://en.m.wikipedia.org/wiki/Topological_space) replace the concept of distance with a more abstract idea of nearness.\n",
        "\n",
        "* **Infinite-dimensional vector spaces arise naturally in mathematical analysis, as function spaces**, whose vectors are functions. These vector spaces are generally endowed with additional structure, which may be a topology, allowing the consideration of issues of proximity and continuity. \n",
        "\n",
        "* Among these topologies, those that are defined by a norm or inner product are more commonly used, as having a notion of distance between two vectors. This is particularly the case of **Banach spaces and Hilbert spaces**, which are fundamental in mathematical analysis."
      ]
    },
    {
      "cell_type": "markdown",
      "metadata": {
        "id": "c0cwoXwB8gZ5"
      },
      "source": [
        "**Konkrete form of vectors don't matter (matrices, vectors, functions, pie transforms etc). All what matters are the 8 axioms which define a vector space:**\n",
        "\n",
        "![cc](https://raw.githubusercontent.com/deltorobarba/repo/master/vectorspace_axioms.png)\n",
        "\n",
        "https://www.youtube.com/watch?v=TgKwz5Ikpc8&list=WL&index=33&t=638s"
      ]
    },
    {
      "cell_type": "markdown",
      "metadata": {
        "id": "NV5j--Nm5XWi"
      },
      "source": [
        "**Funktionenraum**"
      ]
    },
    {
      "cell_type": "markdown",
      "metadata": {
        "id": "7SaeXgZM5beC"
      },
      "source": [
        "> **Vektorräume, deren Elemente selbst Funktionen sind, nennt man Funktionenräume.**\n",
        "\n",
        "A function space is a set of functions between two fixed sets. Often, the domain and/or codomain will have additional structure which is inherited by the function space. For example, the set of functions from any set X into a vector space has a natural vector space structure given by pointwise addition and scalar multiplication. In other scenarios, the function space might inherit a topological or metric structure, hence the name function space.\n",
        "\n",
        "* Ein [Funktionenraum](https://de.wikipedia.org/wiki/Funktionenraum) ist **eine Menge von Funktionen, die alle denselben Definitionsbereich besitzen**. Allerdings kann der Begriff Funktionenraum ähnlich wie der mathematische Begriff Raum nicht scharf abgegrenzt werden.\n",
        "\n",
        "* Meist ist ein Funktionenraum mit einer **Vektoraddition und Skalarmultiplikation** versehen, so dass er einen Vektorraum bildet, dann spricht man von einem **linearen Funktionenraum**\n",
        "\n",
        "* Viele wichtige lineare Funktionenräume sind unendlichdimensional. Diese bilden einen wichtigen Untersuchungsgegenstand der Funktionalanalysis. \n",
        "\n",
        "* Lineare Funktionenräume werden häufig mit einer Norm versehen, sodass ein normierter Raum oder – im Falle der Vollständigkeit – sogar ein Banachraum entsteht. In anderen Fällen werden lineare Funktionenräume durch Definition einer Topologie zu einem topologischen Vektorraum oder einem lokalkonvexen Raum.\n",
        "\n",
        "* Funktionenräume sind im Bereich der linearen Algebra Vektorräume, deren Elemente als Funktionen aufgefasst werden. Hauptsächlich werden Funktionenräume allerdings im Bereich der Funktionalanalysis betrachtet. **Hier wird unter einem Funktionenraum ein Vektorraum mit einer topologischen Struktur verstanden, dessen Elemente als Funktionen aufgefasst werden.**\n",
        "\n"
      ]
    },
    {
      "cell_type": "markdown",
      "metadata": {
        "id": "KaQdyD6pKNo_"
      },
      "source": [
        "Meist ist ein Funktionenraum mit einer Vektoraddition und Skalarmultiplikation versehen, so dass er einen Vektorraum bildet, dann spricht man von einem linearen Funktionenraum\n",
        "\n",
        "* L∞ is a **function space** (Funktionenraum). Its elements are the essentially bounded measurable functions. \n",
        "\n",
        "* More precisely, L∞ is defined based on an underlying measure space, (S, Σ, μ). Start with the set of all measurable functions from S to R which are essentially bounded, i.e. bounded up to a set of measure zero. Two such functions are identified if they are equal almost everywhere. Denote the resulting set by L∞(S, μ).\n",
        "\n",
        "* **The sequence space (Folgenraum) is a special case of the [function space](https://en.m.wikipedia.org/wiki/Function_space) / [Funktionenraum](https://de.m.wikipedia.org/wiki/Funktionenraum): $\\ell_{\\infty}=L_{\\infty}(\\mathbb{N})$ where the natural numbers are equipped with the counting measure.** [source](https://en.m.wikipedia.org/wiki/L-infinity)\n"
      ]
    },
    {
      "cell_type": "markdown",
      "metadata": {
        "id": "QyBc99P47hHM"
      },
      "source": [
        "**In der linearen Algebra**: Sei $D$ eine nichtleere Menge und $V$ ein Vektorraum über einem Körper $K$, dann bezeichnet $V^{D}$ (auch $\\mathrm{Abb}(D, V)$ oder $F(D, V)$ ) die Menge aller Funktionen von $D$ nach $V$. Die Menge $V^{D}$ wird für $f, g \\in V^{D}$ und für Skalare $\\lambda \\in K$ durch die folgenden beiden Verknüpfungen zu einem Vektorraum:\n",
        "Addition: $(f+g): D \\rightarrow V, x \\mapsto f(x)+g(x)$\n",
        "Skalarmultiplikation $\\lambda f: D \\rightarrow V, x \\mapsto \\lambda \\cdot f(x)$\n",
        "Dieser Vektorraum $V^{D}$ und die Untervektorrăume von $V^{D}$ werden im Bereich der linearen Algebra als Funktionenraum bezeichnet.\n"
      ]
    },
    {
      "cell_type": "markdown",
      "metadata": {
        "id": "wcOvWPVApLl1"
      },
      "source": [
        "**In der Funktionalanalysis:** \n",
        "\n",
        "* Sei $D$ eine nichtleere Menge, $V$ ein topologischer Vektorraum (oftmals ein Banachraum oder lokalkonvexer Vektorraum) und $V^{D}$ der Vektorraum aller Abbildungen von $D$ nach $V$. Ein linearer Funktionenraum im Bereich der Funktionalanalysis ist ein Untervektorraum von $V^{D},$ der mit einer von $V$ abgeleiteten topologischen Struktur versehen ist.\n",
        "\n",
        "* **$C^{p}(D)$ der Raum der $p$ -fach stetig differenzierbaren Funktionen mit $p \\in \\mathbb{N} \\cup\\{0, \\infty\\}$ ist ein Funktionenraum**. **Falls $D$ kompakt ist**, ist der Raum bezüglich der üblichen Norm $\\|f\\|_{\\mathcal{C}^{p}(D)}=\\sup _{k \\leq p} \\sup _{x \\in D}\\left|f^{(k)}(x)\\right|$ **ein Banachraum**. ${ }^{[5]}$ Siehe Differentiationsklasse.\n",
        "\n",
        "* **$C_{0}^{\\infty}, C_{c}^{\\infty}$ oder $\\mathcal{D}(D)$ der Raum der [Testfunktionen](https://de.wikipedia.org/wiki/Testfunktion) ist ein Funktionenraum**. Er enthält alle glatten Funktionen mit kompaktem Träger und ist mit der Topologie versehen, welche durch den Konvergenzbegriff induziert wird. Eine Folge $\\left(\\phi_{j}\\right)_{j \\in J}$ konvergiert in $\\mathcal{D}(D)$ gegen $\\phi,$ wenn es ein Kompaktum $K \\subset D$ gibt mit $\\operatorname{supp}\\left(\\phi_{j}\\right) \\subset K$ für alle $j,$ und\n",
        "$\\lim _{j \\rightarrow \\infty} \\sup _{x \\in K}\\left|\\partial_{x}^{\\alpha}\\left(\\phi_{j}(x)-\\phi(x)\\right)\\right|=0\n",
        "$ für alle Multiindizes $\\alpha \\in \\mathbb{N}^{n}$ gilt.\n",
        "\n",
        "* **$L^{p}(D)$ der Raum der $p$ -fach Lebesgue-integrierbaren Funktionen (siehe $L^{p}$ ) ist ein Funktionenraum & ein zentraler Gegenstand der Funktionalanalysis**. Dieser Raum besteht nicht aus einzelnen Funktionen, sondern aus Äquivalenzklassen von Funktionen, welche sich nur auf einer Lebesgue-Nullmenge unterscheiden. Aus diesem Grund ist für $p \\geq 1$ auch die $L^{p}$ -Norm\n",
        "$ \\|f\\|_{L^{p}(D)}=\\left(\\int_{D}|f(x)|^{p} \\mathrm{~d} x\\right)^{1 / p}\n",
        "$ positiv definit und damit wirklich eine Norm. Bezüglich dieser Norm ist der $L^{p}$ -Raum auf kompakten Mengen ebenfalls ein Banachraum. Der Spezialfall $L^{2}$ ist sogar ein Hilbertraum. Dieser Raum wird in der Quantenmechanik häufig benutzt. Es ist der Raum der Wellenfunktionen. Für $0<p<1$ kann man die $L^{p}$ -Räume analog definieren, jedoch sind diese keine normierten Räume.\n",
        "\n",
        "* [Siehe hier mehr](https://de.wikipedia.org/wiki/Funktionenraum#Funktionalanalysis) Beispiele aus der Funktionalanalysis"
      ]
    },
    {
      "cell_type": "markdown",
      "metadata": {
        "id": "nlRmIu1LpJu1"
      },
      "source": [
        "**In der Topologie**: \n",
        "\n",
        "* In der Topologie versteht man unter einem Funktionenraum einen topologischen Raum, dessen Elemente Funktionen von einer Menge oder einem topologischen Raum $X$ in einen topologischen Raum $Y$ sind und dessen Topologie von der Topologie von $X$ und $Y$ und eventuellen Zusatzstrukturen, wie zum Beispiel einer Metrik oder einer uniformen Struktur, abgeleitet ist. Häufig wird die Kompakt-Offen-Topologie verwendet.\n",
        "\n",
        "* Sind $M$ und $N$ topologische Räume, so schreibt man $\\mathcal{C}(M, N)$ für die Menge der stetigen Funktionen $f: M \\rightarrow N$.\n",
        "\n",
        "* Ist auf $N$ eine Metrik $d$ gegeben, dann kann man sinnvoll von der Menge der beschränkten Funktionen sprechen (auch ohne Topologie auf $M$ ). Für diese Abbildungsmenge wird unter anderem die Notation $B(M, N)$ verwendet. Ist auch auf $M$ eine Topologie definiert, schreibt man $\\mathcal{C}_{b}(M, N)$ für die Menge der beschränkten stetigen Funktionen. Auf diesen Räumen wird durch\n",
        "$$\n",
        "d_{\\infty}:(f, g) \\mapsto \\sup _{x \\in M} d(f(x), g(x))\n",
        "$$\n",
        "eine Metrik definiert. Alternativ ist auch die Metrik\n",
        "$$\n",
        "d_{\\infty}^{\\prime}:(f, g) \\mapsto \\min \\left\\{1, \\sup _{x \\in M} d(f(x), g(x))\\right\\}\n",
        "$$\n",
        "möglich. **Diese beiden Metriken <u>erzeugen aber dieselben offenen Mengen</u>, sodass sie äquivalent behandelt werden können.**"
      ]
    },
    {
      "cell_type": "markdown",
      "metadata": {
        "id": "4-F4FsRP0mB4"
      },
      "source": [
        "**Folgenraum**"
      ]
    },
    {
      "cell_type": "markdown",
      "metadata": {
        "id": "LrzUZWDm0mB4"
      },
      "source": [
        "* **Ein [Folgenraum](https://de.m.wikipedia.org/wiki/Folgenraum) (Sequence Space) ist ein in der Mathematik betrachteter Vektorraum**, dessen Elemente Zahlenfolgen sind. \n",
        "\n",
        "* Viele in der Funktionalanalysis auftretende Vektorräume sind Folgenräume oder können durch solche repräsentiert werden. Zu den Beispielen zählen u. a. die wichtigen Räume wie ℓ∞ aller beschränkten Folgen oder c0 aller gegen 0 konvergenten Folgen.\n",
        "\n",
        "* **Werden Normen bzw. Systeme von Normen oder Halbnormen auf Folgenräumen definiert, erhält man normierte Räume bzw. lokalkonvexe Räume.**\n",
        "\n",
        "* A **sequence space** (Folgenraum) is a vector space whose elements are infinite sequences of real or complex numbers. \n",
        "\n",
        "* Equivalently, it is a **function space** (Funktionenraum) whose elements are functions from the natural numbers to the field K of real or complex numbers. \n",
        "\n",
        "* The set of all such functions is naturally identified with the set of all possible infinite sequences with elements in K, and **can be turned into a vector space** under the operations of pointwise addition of functions and pointwise scalar multiplication. All sequence spaces are linear subspaces of this space. Sequence spaces are typically equipped with a norm, or at least the structure of a topological vector space.\n",
        "\n",
        "* The **most important sequence spaces in analysis are the ℓp spaces**, consisting of the p-power summable sequences, with the p-norm. These are special cases of Lp spaces for the counting measure on the set of natural numbers. \n",
        "\n",
        "* Other important classes of sequences like convergent sequences or null sequences (Nullfolgen) form sequence spaces, respectively denoted c and c0, with the sup norm. Any sequence space can also be equipped with the topology of pointwise convergence, under which it becomes a special kind of Fréchet space called FK-space.\n",
        "\n",
        "* The vector space ℓ∞ is a **sequence space** (Folgenraum) whose elements are the bounded sequences. The vector space operations, addition and scalar multiplication, are applied coordinate by coordinate. \n",
        "\n",
        "* $\\ell^{\\infty},$ the (real or complex) vector space of bounded sequences with the **[supremum norm](https://de.m.wikipedia.org/wiki/Supremumsnorm)**, and $L^{\\infty}=L^{\\infty}(X, \\Sigma, \\mu)$, the vector space of essentially bounded measurable functions with the **[essential supremum norm](https://de.m.wikipedia.org/wiki/Wesentliches_Supremum)**, are two closely related Banach spaces. \n",
        "\n",
        "* In fact the former is a special case of the latter. As a Banach space they are the continuous dual of the Banach spaces $\\ell_{1}$ of absolutely summable sequences, and $L^{1}=L^{1}(X, \\Sigma, \\mu)$ of absolutely integrable measurable functions (if the measure space fulfills the conditions of being localizable and therefore\n",
        "semifinite). \n",
        "\n",
        "* Pointwise multiplication gives them the structure of a Banach algebra, and in fact they are the standard examples of abelian Von Neumann algebras."
      ]
    },
    {
      "cell_type": "markdown",
      "metadata": {
        "id": "qYW5u_0Oi7l5"
      },
      "source": [
        "###### **Inner Product Space**"
      ]
    },
    {
      "cell_type": "markdown",
      "metadata": {
        "id": "n8zULN0xDv3J"
      },
      "source": [
        "**Inner Product**"
      ]
    },
    {
      "cell_type": "markdown",
      "metadata": {
        "id": "A-3TsP_aDsFR"
      },
      "source": [
        "**Das innere Produkt (Skalarprodukt / Produktpunkt called when applied to functions - the alternate name of inner product in linear algebra is 'dot product') stellt quasi eine Geometrie im Vektorraum her, wir können dadurch definieren, welche Vektoren orthogonal, und welche parallel zueinander sind.**\n",
        "\n",
        "* **Das Skalarprodukt benötigt man**, \n",
        "  * um die Lange von Vektoren zu berechnen, \n",
        "  * den Winkel zwischen Vektoren zu berechnen (uber Cosinus von Alpha) und \n",
        "  * ob zwei Vektoren senkrecht zueinander stehen.\n",
        "\n",
        "* Das **Dot Product / Scalar Product / [Skalarprodukt](https://de.wikipedia.org/wiki/Skalarprodukt)** (auch inneres Produkt oder Punktprodukt) ist eine [mathematische Verknüpfung](https://de.wikipedia.org/wiki/Verknüpfung_(Mathematik)), die zwei Vektoren eine Zahl (Skalar) zuordnet. \n",
        "\n",
        "* **Scalar vs Scalar Product**: A [scalar](https://en.wikipedia.org/wiki/Scalar_(mathematics)) is an element of a field which is used to define a vector space. A quantity described by multiple scalars, such as having both direction and magnitude, is called a vector. The [determinant](https://en.wikipedia.org/wiki/Determinant) is a scalar value that can be computed from the elements of a **square matrix** and encodes certain properties of the linear transformation described by the matrix. Geometrically, the determinant can be viewed as the volume scaling factor of the linear transformation described by the matrix.\n",
        "\n",
        "* Geometrisch berechnet man das Skalarprodukt zweier Vektoren $\\vec{a}$ und $\\vec{b}$ nach der Formel:\n",
        "\n",
        "> $\n",
        "\\vec{a} \\cdot \\vec{b}=|\\vec{a}||\\vec{b}| \\cos \\alpha(\\vec{a}, \\vec{b})\n",
        "$\n",
        "\n",
        "* Null, wenn sie senkrecht zueinander stehen, und maximal, wenn sie die gleiche Richtung haben.\n",
        "\n",
        "* **A common special case of the inner product is the scalar product or dot product, is written with a centered dot a ⋅ b.**\n",
        "\n",
        "* In [Inner product spaces](https://en.m.wikipedia.org/wiki/Inner_product_space) the inner product is the dot product, also known as the scalar product. (They generalize Euclidean spaces to vector spaces of any (possibly infinite) dimension.)\n",
        "\n",
        "* Ist das Skalarprodukt von zwei Vektoren $\n",
        "\\vec{a} \\cdot \\vec{b}= 0$, dann folgt daraus, dass diese orthogonal zueinander stehen.\n",
        "\n",
        "* Examples:\n",
        "\n",
        "  * A simple example is the real numbers $\\mathbb{R}$ with the standard multiplication as the inner product $\\langle x, y\\rangle:=x y$"
      ]
    },
    {
      "cell_type": "markdown",
      "metadata": {
        "id": "nIFUizKhZCSb"
      },
      "source": [
        "* Metric -> measures distances\n",
        "* Norm -> measures distances, lengths\n",
        "* Inner product -> measures distances, lengths, angles"
      ]
    },
    {
      "cell_type": "markdown",
      "metadata": {
        "id": "u6umQWXI-w6Z"
      },
      "source": [
        "**Inner Product of Functions**\n",
        "\n",
        "* **says how similar two functions are ** (how much they align with each other)\n",
        "\n",
        "* i.e. if they are orthogonal, then zero. if they are very similar, then they have a large inner product\n",
        "\n",
        "> $\\langle f(x), g(x)\\rangle=\\int_{a}^{b} f(x) g(x) d x$\n",
        "\n",
        "* You can also take samples from both functions and calculate the inner product between both. Up to infinity, you get at the integral like written above:\n",
        "\n",
        "> $\\langle f, g\\rangle=g^{\\top} {f}$ = $\\langle f, g \\rangle \\Delta x=\\sum_{k=1}^{n} f\\left(x_{n}\\right) g\\left(x_{n}\\right) \\Delta x$\n",
        "\n",
        "* this is the Riemann approximation of the continuuos integral above\n",
        "\n",
        "* be aware: you need to transpose the vector g, in order to compute the inner product with f ?? also you need to take delta x to normalize, otherwise the sum with blow up.\n",
        "\n",
        "* **Inner product of function are used a lot in Fourier Transform**\n",
        "\n",
        "https://www.youtube.com/watch?v=g-eNeXlZKAQ&list=LL&index=7&t=11s"
      ]
    },
    {
      "cell_type": "markdown",
      "metadata": {
        "id": "bnMZ_vRLDyyc"
      },
      "source": [
        "**Inner Product Space**"
      ]
    },
    {
      "cell_type": "markdown",
      "metadata": {
        "id": "gtcOpkYQjFKx"
      },
      "source": [
        "* Der **[Inner Product Space](https://en.m.wikipedia.org/wiki/Inner_product_space)** (Prähilbertraum bzw. Skalarprodukt) ist ein **Vektorraum**, auf dem ein **inneres Produkt definiert ist**. \n",
        "\n",
        "* An [inner product space](https://en.m.wikipedia.org/wiki/Inner_product_space) is a normed space, **where the norm of a vector is the square root of the inner product of the vector by itself**: $\\sqrt{\\vec{x} \\cdot \\vec{x}} = \\sqrt{{x}^{2}}$\n",
        "\n",
        "* [Inner product spaces](https://en.m.wikipedia.org/wiki/Inner_product_space) generalize **Euclidean spaces (in which the inner product is the dot product, also known as the scalar product**) to vector spaces of any (possibly infinite) dimension.\n",
        "\n",
        "An **inner product space** is a vector space $V$ over the field $\\mathbb{F}$ together with a map\n",
        "\n",
        "$\n",
        "\\langle\\cdot, \\cdot\\rangle: V \\times V \\rightarrow \\mathbb{F}\n",
        "$\n",
        "\n",
        "called an inner product that satisfies the following conditions $(1),(2),$ and $(3)$ for all vectors $x, y, z \\in V$ and all scalars $a \\in \\mathbb{F}:$ [see here](https://en.m.wikipedia.org/wiki/Inner_product_space)\n",
        "\n",
        "* In linear algebra, **an inner product space is a vector space with an additional structure called an inner product**. This additional structure associates each pair of vectors in the space with a scalar quantity known as the inner product of the vectors. Geometric interpretation of the angle between two vectors defined using an inner product.\n",
        "\n",
        "> **Inner products allow the rigorous introduction of intuitive geometrical notions such as the length of a vector or the angle between two vectors**. They also provide the means of defining orthogonality between vectors (**zero inner product**). \n",
        "\n",
        "* **Inner product spaces generalize Euclidean spaces** (in which the inner product is the **dot product**, also known as the scalar product) to vector spaces of any (possibly infinite) dimension, and are studied in functional analysis. \n",
        "\n",
        "> An inner product **naturally induces an associated norm**, (|x| and |y| are the norms of x and y, in the picture) thus an inner product space is also a normed vector space. A complete space with an inner product is called a Hilbert space. "
      ]
    },
    {
      "cell_type": "markdown",
      "metadata": {
        "id": "g39QbB44D61P"
      },
      "source": [
        "**Pre-Hilbert Space**"
      ]
    },
    {
      "cell_type": "markdown",
      "metadata": {
        "id": "ebcU_rhpD5H3"
      },
      "source": [
        "* **An (incomplete) space with an inner product is called a pre-Hilbert space**, since its completion with respect to the norm induced by the inner product is a Hilbert space. Inner product spaces over the field of complex numbers are sometimes referred to as unitary spaces."
      ]
    },
    {
      "cell_type": "markdown",
      "metadata": {
        "id": "_Syw4dL96u31"
      },
      "source": [
        "###### **Normed Vector Space**"
      ]
    },
    {
      "cell_type": "markdown",
      "metadata": {
        "id": "GCXP396NF0kv"
      },
      "source": [
        "**Norm**"
      ]
    },
    {
      "cell_type": "markdown",
      "metadata": {
        "id": "mhAD7kvd3uuL"
      },
      "source": [
        "> **Eine Norm gibt die Größe eines Elements in einem Vektorraum an.**\n",
        "\n",
        "Eine **[Norm](https://de.wikipedia.org/wiki/Norm_(Mathematik)) ist eine Abbildung (Funktion)** $\\|\\cdot\\|: V \\rightarrow \\mathbb{R}_{0}^{+}$, welche einem Element von einem reellen oder komplexen Vektorraum eine **nicht-negative reelle Zahl** $\\mathbb{R}^{\\geq \\ 0 }$ zuordnet und folgende Eigenschaften besitzt (für alle $x, y$ aus dem $\\mathbb{K}$ Vektorraum und alle $\\lambda$ aus $\\mathbb{K}$):\n",
        "\n",
        "1. **[Definitheit](https://de.m.wikipedia.org/wiki/Definitheit)**: \n",
        "  * It is **nonnegative**, that is for every vector x, one has ‖x‖ ≥ 0. \n",
        "  * It is **positive on nonzero vectors**, that is, ‖x‖ = 0 ⟺ x = 0.\n",
        "\n",
        "2. **[Absolute Homogenität](https://de.m.wikipedia.org/wiki/Homogene_Funktion)**: For every vector x, and every **scalar α**, one has ‖ α x ‖ = | α | ‖ x ‖.\n",
        "\n",
        "3. **[Subadditivität, Dreiecksungleichung](https://de.m.wikipedia.org/wiki/Additive_Funktion#Sub-_und_Superadditivität)**: for every vectors x and y, one has ‖ x+y ‖ ≤ ‖ x ‖ + ‖ y ‖.\n",
        "\n",
        "A norm is the generalization to real vector spaces of the intuitive notion of \"length\" in the real world."
      ]
    },
    {
      "cell_type": "markdown",
      "metadata": {
        "id": "pgJe0PPqHNwO"
      },
      "source": [
        "Satisfy the properties of a \"**length function**\" (or norm), which are that:\n",
        "\n",
        "1. only the zero vector has zero length,\n",
        "\n",
        "2. lhe length of the vector is positive homogeneous with respect to multiplication by a scalar (positive homogeneity), and\n",
        "\n",
        "3. the length of the sum of two vectors is no larger than the sum of lengths of the vectors (triangle inequality)."
      ]
    },
    {
      "cell_type": "markdown",
      "metadata": {
        "id": "ve2sdCz3JKyx"
      },
      "source": [
        "Das [**Minkowski-Funktional**](https://de.wikipedia.org/wiki/Minkowski-Funktional), oft auch Eichfunktional genannt, ist eine Verallgemeinerung des Normbegriffes."
      ]
    },
    {
      "cell_type": "markdown",
      "metadata": {
        "id": "NEDytFMoZEpX"
      },
      "source": [
        "* Metric -> measures distances\n",
        "* Norm -> measures distances, lengths\n",
        "* Inner product -> measures distances, lengths, angles"
      ]
    },
    {
      "cell_type": "markdown",
      "metadata": {
        "id": "HVsqgPNWLrIl"
      },
      "source": [
        "**From Inner Products to Norms**"
      ]
    },
    {
      "cell_type": "markdown",
      "metadata": {
        "id": "H8DuIHMoLwfk"
      },
      "source": [
        "Eine Norm kann (muss aber nicht) von einem [Skalarprodukt](https://de.wikipedia.org/wiki/Skalarprodukt) abgeleitet werden (eine sogenannte ['Skalarproduktnorm'](https://de.m.wikipedia.org/wiki/Skalarproduktnorm)). In diesem Fall is **the norm of a vector the square root of the inner product of the vector by itself**. \n",
        "\n",
        "> An inner product **naturally induces an associated norm**, (|x| and |y| are the norms of x and y, in the picture) thus an inner product space is also a normed vector space. A complete space with an inner product is called a Hilbert space.\n",
        "\n",
        "**Any normed vector space is a metric space** by defining d(x, y) = ‖ y - x ‖, see also metrics on vector spaces. (If such a space is complete, we call it a Banach space.) "
      ]
    },
    {
      "cell_type": "markdown",
      "metadata": {
        "id": "CKjrTqQARKrW"
      },
      "source": [
        "**Halbnorm**"
      ]
    },
    {
      "cell_type": "markdown",
      "metadata": {
        "id": "-S0X3B0bE6_6"
      },
      "source": [
        "* die [Halbnorm](https://de.wikipedia.org/wiki/Halbnorm) (oder unter einer Seminorm) ist ein Funktional, das sowohl absolut homogen als auch subadditiv ist.\n",
        "\n",
        "* Mit dem Konzept der Halbnorm wird das Konzept der Norm verallgemeinert, **indem auf die Eigenschaft der positiven Definitheit verzichtet wird**. \n",
        "\n",
        "* Jede Halbnorm ist nichtnegativ, symmetrisch bezüglich Vorzeichenumkehr, sublinear und konvex. \n",
        "\n",
        "* Aus jeder Halbnorm kann durch Restklassenbildung eine zugehörige Norm abgeleitet werden. \n",
        "\n",
        "* Mit Hilfe von Familien von Halbnormen können auch lokalkonvexe Vektorräume definiert werden. Halbnormen werden insbesondere in der linearen Algebra und in der Funktionalanalysis studiert. Eng verwandt mit dem Konzept der Halbnorm ist das Konzept des Minkowski-Funktionals.\n",
        "\n",
        "Sei $V$ ein Vektorraum über dem Kōrper $\\mathbb{K} \\in\\{\\mathbb{R}, \\mathbb{C}\\}$. Eine Halbnorm auf $V$ ist eine Abbildung $p: V \\rightarrow \\mathbb{R}_{0}^{+}$ mit den Eigenschaften **absolute Homogenität und Subadditivität**,  das heißt fur alle $\\lambda \\in \\mathbb{K}$ und für alle $x, y \\in V$ qelten $p(\\lambda x)=|\\lambda| p(x) \\quad$ (absolute Homogenitãt) und $ p(x+y) \\leq p(x)+p(y) \\quad \\text { (Subadditivität), }$ wobei | : | den Betrag des Skalars darstelit. Ein Vektorraum zusammen mit einer Halbnorm heißt halbnormierter Raum $(V, p)$\n",
        "\n",
        "Beispiele: \n",
        "\n",
        "* Jede Norm ist eine Halbnorm, die zudem auch positiv definit ist.\n",
        "\n",
        "* Die Nullfunktion $p\\equiv 0$, die jedes Element des Vektorraums auf Null abbildet, ist eine Halbnorm.\n",
        "\n",
        "![xxx](https://upload.wikimedia.org/wikipedia/commons/thumb/7/72/Seminorm_qtl1.svg/440px-Seminorm_qtl1.svg.png)\n",
        "\n",
        "*Die Funktion $p(x, y)=|x-y|$ ist eine Halbnorm im Raum $\\mathbb{R}^{2}$*"
      ]
    },
    {
      "cell_type": "markdown",
      "metadata": {
        "id": "5e3P8IZMKnRD"
      },
      "source": [
        "****Beispiele fur Normen (auf <u>endlichdimensionalen</u> Vektorräumen)****"
      ]
    },
    {
      "cell_type": "markdown",
      "metadata": {
        "id": "qygj95-xb7Eu"
      },
      "source": [
        "* **Zahlnorm**: Beispiel fur eine [Zahlnorm](https://de.m.wikipedia.org/wiki/Norm_(Mathematik)#Zahlnormen) ist die [Betragsnorm](https://de.m.wikipedia.org/wiki/Betragsfunktion). Die Betragsnorm ist **induziert vom Standardskalarprodukt** (erfüllt die drei Normaxiome Definitheit, absolute Homogenität und Subadditivität) zweier reeller bzw. komplexen Zahlen. Die Betragsnorm ist. der Betrag einer reellen Zahl $z \\in \\mathbb{R}$:\n",
        "  > $\n",
        "\\|z\\|=|z|=\\sqrt{z^{2}}=\\left\\{\\begin{array}{cl}\n",
        "z & \\text { für } z \\geq 0 \\\\\n",
        "-z & \\text { für } z<0 .\n",
        "\\end{array}\\right.$\n",
        "\n",
        "* **Matrixnorm**: Siehe [Norm -> Matrixnorm](https://de.m.wikipedia.org/wiki/Norm_(Mathematik)#Matrixnormen) und [Matrixnorm](https://de.m.wikipedia.org/wiki/Matrixnorm)\n",
        "\n",
        "* **Vektornormen (p-Normen)**\n",
        "  * Die [$p$ -Normen](https://de.m.wikipedia.org/wiki/P-Norm) sind eine Klasse von [Vektornormen](https://de.m.wikipedia.org/wiki/Norm_(Mathematik)#Vektornormen), die für reelle Zahlen $p \\geq 1$ definiert sind. Die $p$ -Norm eines reellen oder komplexen Vektors $x=\\left(x_{1}, \\ldots, x_{n}\\right) \\in \\mathbb{K}^{n}$ mit $\\mathbb{K}=\\mathbb{R}$ oder $\\mathbb{K}=\\mathbb{C}$ ist für reelles\n",
        "$1 \\leq p<\\infty$ definiert durch:\n",
        "\n",
        "  > **$\\|x\\|_{p}:=\\left(\\sum_{i=1}^{n}\\left|x_{i}\\right|^{p}\\right)^{1 / p}$**\n",
        "\n",
        "  * **Wichtige Spezialfälle** sind dabei die \n",
        "  * **Summennorm** (p=1, Lasso): $\\|x\\|_{1}=\\sum_{i=1}^{n}\\left|x_{i}\\right|$\n",
        "  * **Euklidische Norm** (p=2, Ridge): $\\|x\\|_{2}= \\left(x_{1}^{2}+x_{2}^{2}+\\cdots+x_{n}^{2}\\right)^{1 / 2} = \\sqrt{\\sum_{i=1}^{n}\\left|x_{i}\\right|^{2}}$. \n",
        "  * **Maximumsnorm** als Grenzwert für $p \\rightarrow \\infty$ \n",
        "  * p-Normen **erfüllen die Minkowski-Ungleichung sowie die Hölder-Ungleichung**.\n",
        "  * For all p ≥ 1, the p-norms erfüllen die drei Normaxiome Definitheit, absolute Homogenität und Subadditivität."
      ]
    },
    {
      "cell_type": "markdown",
      "metadata": {
        "id": "BzwsYyJMZkys"
      },
      "source": [
        "**Normed Vector Space**"
      ]
    },
    {
      "cell_type": "markdown",
      "metadata": {
        "id": "0MpcxqCJZoQT"
      },
      "source": [
        "\n",
        "**A [normed vector space](https://en.m.wikipedia.org/wiki/Normed_vector_space) or normed space is a vector space over the real or complex numbers, on which a norm is defined**. \n",
        "\n",
        "> Ist $V$ ein [Vektorraum](https://de.m.wikipedia.org/wiki/Vektorraum) über dem Körper $\\mathbb{K}$ der reellen oder der komplexen Zahlen und $\\|\\cdot\\|: V \\rightarrow \\mathbb{R}_{0}^{+}$ eine Norm auf $V,$ dann nennt man das Paar $(V,\\|\\cdot\\|)$ einen **normierten Vektorraum**.\n",
        "\n",
        "**Any normed vector space is a metric space** by defining d(x, y) = ‖ y - x ‖, see also metrics on vector spaces. (If such a space is complete, we call it a Banach space.)\n",
        "\n",
        "**Be careful**: A [vector space](https://en.m.wikipedia.org/wiki/Vector_space) is an [algebraic structure](https://en.m.wikipedia.org/wiki/Outline_of_algebraic_structures), meanwhile a [normed vector space](https://en.m.wikipedia.org/wiki/Normed_vector_space) is a type of [abstract (topological) space](https://en.m.wikipedia.org/wiki/Space_(mathematics)#Taxonomy_of_spaces) (a normed vector space is a vector space over the real or complex numbers, on which a norm is defined). (See also [Topological Vector Space](https://en.m.wikipedia.org/wiki/Topological_vector_space)"
      ]
    },
    {
      "cell_type": "markdown",
      "metadata": {
        "id": "BXryTztK_153"
      },
      "source": [
        "**Banachraum**"
      ]
    },
    {
      "cell_type": "markdown",
      "metadata": {
        "id": "27wE3ZTM_154"
      },
      "source": [
        "* **$\\mathbb{R}$<sup>n</sup> together with the p-norm is a [Banach space](https://de.wikipedia.org/wiki/Banachraum) = ein vollständiger normierter Vektorraum**. This Banach space is the Lp-space over Rn. \n",
        "\n",
        "* Ein **[Banachraum](https://en.m.wikipedia.org/wiki/Banach_space)** ist ein vollständiger normierter (Vektor-)Raum. Ein vollständiger normierter Vektorraum (complete normed vector space) heißt Banachraum. \n",
        "\n",
        "  * A Banach space is a vector space X over any scalar field K that is equipped with a norm ‖⋅‖ <sub>X</sub> and that is complete with respect to the distance function induced by the norm\n",
        "\n",
        "  * Basic examples of Banach spaces include: the $L^{p}$ spaces and their special cases, the sequence spaces\n",
        "$\\ell^{p}$ that consist of scalar sequences indexed by $\\mathrm{N} ;$ among them, the space $\\ell^{1}$ of absolutely summable sequences and the space $\\ell^{2}$ of square summable sequences; the space $c_{0}$ of sequences tending to zero and the space $\\ell^{\\infty}$ of bounded sequences; the space $C(K)$ of continuous scalar functions on a compact\n",
        "Hausdorff space $K$, equipped with the max norm\n",
        "\n",
        "* Viele **Folgenräume $\\ell$** oder **Funktionenräume $L$** sind unendlichdimensionale Banachräume. Function Spaces $L$ are a type of infinite vector space. \n",
        "\n",
        "  * **Lp spaces are function spaces defined using a natural generalization of the p-norm for finite-dimensional vector spaces**. They are sometimes called Lebesgue spaces. Lp spaces form an important class of Banach spaces in functional analysis, and of topological vector spaces.\n",
        "\n",
        "  * Infinite-dimensional **vector spaces arise naturally in mathematical analysis, as function spaces**, whose vectors are functions. These vector spaces are generally endowed with additional structure, which may be a topology, allowing the consideration of issues of proximity and continuity. Among these topologies, those that are defined by a norm or inner product are more commonly used, as having a notion of distance between two vectors. This is particularly the case of Banach spaces and Hilbert spaces, which are fundamental in mathematical analysis."
      ]
    },
    {
      "cell_type": "markdown",
      "metadata": {
        "id": "25a9f-r__9K9"
      },
      "source": [
        "**Hilbertraum**"
      ]
    },
    {
      "cell_type": "markdown",
      "metadata": {
        "id": "R5560CRM_9K9"
      },
      "source": [
        "* Ein Banachraum, dessen Norm durch ein Skalarprodukt induziert ist, heißt **[Hilbertraum](https://de.wikipedia.org/wiki/Hilbertraum)**. (z.B. p2-Norm (Euklidische Norm). Lässt man die Bedingung der Vollständigkeit fallen, spricht man von einem Prähilbertraum.)\n",
        "\n",
        "* Die Struktur eines Hilbertraums ist eindeutig festgelegt durch seine Hilbertraumdimension. Diese kann eine beliebige Kardinalzahl sein. Ist die Dimension endlich und betrachtet man als Körper die reellen Zahlen, so handelt es sich um einen euklidischen Raum.\n",
        "\n",
        "* Hilberträume tragen durch ihr Skalarprodukt eine topologische Struktur. Dadurch sind hier im Gegensatz zu allgemeinen Vektorräumen Grenzwertprozesse möglich. \n",
        "\n",
        "* Hilbert space is the space of all possible quantum wave functions\n",
        "* Could be infinite or finite dimensional space\n",
        "Hilbert space dimension mean you a way of mathematically representing how much information is contained in the state of a system\n",
        "* Classical mechanics: location is 3 coordinates, entire physical state: position + velocity, which has itself 3 components = 6 dimension (so-called phase space). Plus orientation in space is another 3 dimensions.\n",
        "* Take a 2 dimensional vector space. We get the dot product between the two vectors and the (euclidean) norm (=length of a vector). Hilbert spaces is now the generalization of this concept from 2 dimensions to infinity of dimensions (infinite number of coordinates). With the condition that the sum of the squares (length / norm) of all coordinates has to be bounded in less than infinity. Ordered systems of numbers which satisfy these two properties are called Hilbert spaces.\n",
        "* In order to study the solution of Schrodingers equation (so called wave function) you need to understand the Hilbert space and study it in its context. "
      ]
    },
    {
      "cell_type": "markdown",
      "metadata": {
        "id": "bnCRzBZ3_iBj"
      },
      "source": [
        "**L<sup>p</sup> Spaces**"
      ]
    },
    {
      "cell_type": "markdown",
      "metadata": {
        "id": "SowGQi_UAvE7"
      },
      "source": [
        "* [L<sup>p</sup>-Raum](https://de.m.wikipedia.org/wiki/Lp-Raum) sind spezielle Räume, die aus allen p-fach integrierbaren Funktionen bestehen. Das $p$ in der Bezeichnung ist ein reeller Parameter: Für jede Zahl $0<p \\leq \\infty$ ist ein $L^{p}$ -Raum definiert. Die Konvergenz in diesen Räumen wird als Konvergenz im $p$ -ten Mittel bezeichnet.\n",
        "\n",
        "* diese Räume werden über das Lebesgue-Integral definiert\n",
        "\n",
        "* Im Fall Banachraum-wertiger Funktionen bezeichnet man sie auch als Bochner-Lebesgue-Räume. \n",
        "\n",
        "[**Konvergenz_im_p-ten_Mittel**](https://de.m.wikipedia.org/wiki/Konvergenz_im_p-ten_Mittel)\n",
        "\n",
        "${\\mathcal {L}}^{p}$ mit Halbnorm\n",
        "\n",
        "${\\mathcal {L}}^{p}$ mit Norm\n",
        "\n",
        "Hilbertraum ${\\mathcal {L}}^{2}$"
      ]
    },
    {
      "cell_type": "markdown",
      "metadata": {
        "id": "diVqOYFUpRJ_"
      },
      "source": [
        "* Der **normierte Vektorraum** $L^{p}$ ist [vollständig](https://de.m.wikipedia.org/wiki/Vollständiger_Raum) und damit ein [Banachraum](https://de.m.wikipedia.org/wiki/Banachraum), die Norm $\\|\\cdot\\|_{L} p$ wird **$L^{p}$ Norm** genannt.\n",
        "\n",
        "* Auch wenn man von sogenannten $L^{p}$ -Funktionen spricht, handelt es sich dabei um die gesamte Äquivalenzklasse einer klassischen Funktion. Allerdings liegen im Falle des Lebesgue-Maßes auf dem $\\mathbb{R}^{n}$ zwei verschiedene stetige Funktionen nie in der gleichen Äquivalenzklasse, so dass der $L^{p}$\n",
        "-Begriff eine natürliche Erweiterung des Begriffs stetiger Funktionen darstellt.\n",
        "\n",
        "* The [**Lp spaces**](https://de.m.wikipedia.org/wiki/Lp-Raum) are [function spaces](https://en.m.wikipedia.org/wiki/Function_space) defined using a natural **generalization of the p-norm for finite-dimensional vector spaces**. They are sometimes called **Lebesgue spaces**.\n",
        "\n",
        "* A normed vector space is automatically a metric space, by defining the metric in terms of the norm in the natural way. But a metric space may have no algebraic (vector) structure — i.e., it may not be a vector space — so the concept of a **metric space is a generalization of the concept of a normed vector space**.\n",
        "\n",
        "* Lp spaces form an important class of [Banach spaces](https://en.m.wikipedia.org/wiki/Banach_space) in functional analysis, and of topological vector spaces.\n",
        "\n",
        "* In statistics, measures of central tendency and statistical dispersion, such as the mean, median, and standard deviation, are defined in terms of Lp metrics, and measures of central tendency can be characterized as [solutions to variational problems](https://en.m.wikipedia.org/wiki/Central_tendency#Solutions_to_variational_problems)\n",
        "\n",
        "* An Lp space may be defined as a space of measurable functions for which the p-th power of the absolute value is Lebesgue integrable, where functions which agree almost everywhere are identified. \n",
        "\n",
        "* More generally, let 1 ≤ p < ∞ and (S, Σ, μ) be a [measure space](https://en.m.wikipedia.org/wiki/Measure_space). Consider the set of all measurable functions from S to C or R whose absolute value raised to the p-th power has a finite integral, or equivalently, that\n",
        "\n",
        "> $\\|f\\|_{p} \\equiv\\left(\\int_{S}|f|^{p} \\mathrm{d} \\mu\\right)^{1 / p}<\\infty$"
      ]
    },
    {
      "cell_type": "markdown",
      "metadata": {
        "id": "EQCX8nw4AygM"
      },
      "source": [
        "**F-Space**"
      ]
    },
    {
      "cell_type": "markdown",
      "metadata": {
        "id": "zf1t7-ekA01-"
      },
      "source": [
        "* The **space Lp for 0 < p < 1 is an [F-space](https://en.m.wikipedia.org/wiki/F-space)**: it admits a complete translation-invariant metric with respect to which the vector space operations are continuous. It is also locally bounded, much like the case p ≥ 1.\n",
        "\n",
        "* Some authors use the term [Fréchet space](https://en.m.wikipedia.org/wiki/Fr%C3%A9chet_space) rather than F-space, but usually the term \"Fréchet space\" is reserved for locally convex F-spaces. Some other authors use the term \"F-space\" as a synonym of \"Fréchet space\", by which they mean a locally convex complete metrizable TVSs. The metric may or may not necessarily be part of the structure on an F-space; many authors only require that such a space be metrizable in a manner that satisfies the above properties."
      ]
    },
    {
      "cell_type": "markdown",
      "metadata": {
        "id": "0EgxdbAJA-6l"
      },
      "source": [
        "**Hardy-Räume**"
      ]
    },
    {
      "cell_type": "markdown",
      "metadata": {
        "id": "3igCgtztA-6s"
      },
      "source": [
        "Untersucht man statt der messbaren Funktionen nur die holomorphen beziehungsweise die harmonischen Funktionen auf Integrierbarkeit, so werden die entsprechenden $L^{p}$-Räume Hardy-Räume genannt."
      ]
    },
    {
      "cell_type": "markdown",
      "metadata": {
        "id": "o_OL0yBfA-6s"
      },
      "source": [
        "https://de.m.wikipedia.org/wiki/Lp-Raum#Hardy-R%C3%A4ume"
      ]
    },
    {
      "cell_type": "markdown",
      "metadata": {
        "id": "fEirVPzsA-6s"
      },
      "source": [
        "https://de.m.wikipedia.org/wiki/Hardy-Raum"
      ]
    },
    {
      "cell_type": "markdown",
      "metadata": {
        "id": "1CgxDns4AhA3"
      },
      "source": [
        "**Sobolev-Raum**"
      ]
    },
    {
      "cell_type": "markdown",
      "metadata": {
        "id": "Hhk0w7hOAhBK"
      },
      "source": [
        "* A Sobolev space is a vector space of functions equipped with a norm that is a combination of Lp-norms of the function together with its derivatives up to a given order. The derivatives are understood in a suitable weak sense to make the space complete, i.e. a Banach space. \n",
        "\n",
        "* **Intuitively, a Sobolev space is a space of functions**\n",
        "\n",
        "  * **possessing sufficiently many derivatives** for some application domain, such as partial differential equations, \n",
        "\n",
        "  * and **equipped with a norm** that measures both the size and regularity of a function.\n",
        "\n",
        "* Their importance comes from the fact that **weak solutions of some important partial differential equations exist in appropriate Sobolev spaces**, even when there are no strong solutions in spaces of continuous functions with the derivatives understood in the classical sense.\n",
        "\n",
        "* Ein [Sobolev-Raum](https://de.wikipedia.org/wiki/Sobolev-Raum), ist ein **Funktionenraum** von schwach differenzierbaren Funktionen, der **zugleich ein Banachraum ist.** \n",
        "\n",
        "* Sobolevräume sind ein grundlegendes Werkzeug bei der Behandlung von Partial Differential Equatoons (rein und angewandt).\n",
        "\n",
        "* Das Konzept wurde durch die systematische Theorie der Variationsrechnung zu Anfang des 20. Jahrhunderts wesentlich vorangetrieben. **Diese minimiert Funktionale über Funktionen.** Heute bilden Sobolev-Räume die Grundlage der Lösungstheorie partieller Differentialgleichungen.\n",
        "\n",
        "* Partielle Differentialgleichungen betrachtet man meistens auf Sobolew-Räumen. In diesen Räumen werden Funktionen, die bis auf Nullmengen übereinstimmen, als gleich angesehen. Da der Rand eines Gebietes üblicherweise eine Nullmenge ist, ist der Begriff der Randbedingung problematisch. Lösungen für dieses Problem sind sobolewsche Einbettungssätze oder – allgemeiner – [**Spuroperatoren**](https://de.wikipedia.org/wiki/Sobolev-Raum#Spuroperator).\n",
        "\n",
        "Der Sobolev-Raum ist der Raum derjenigen reellwertigen Funktionen $u \\in L^{p}(\\Omega),$ deren gemischte partielle schwache Ableitungen bis zur Ordnung $k$ im Lebesgue-Raum $L^{p}(\\Omega)$ liegen."
      ]
    },
    {
      "cell_type": "markdown",
      "metadata": {
        "id": "JKfWc-JbScsh"
      },
      "source": [
        "https://www.wias-berlin.de/people/john/LEHRE/TH_NUM_PDE/th_num_pde_04.pdf"
      ]
    },
    {
      "cell_type": "markdown",
      "metadata": {
        "id": "4SpYIJ602L38"
      },
      "source": [
        "###### **Metric Space**"
      ]
    },
    {
      "cell_type": "markdown",
      "metadata": {
        "id": "CaYHl5ak9Xwt"
      },
      "source": [
        "**Metric**"
      ]
    },
    {
      "cell_type": "markdown",
      "metadata": {
        "id": "_gcLfqnPX33L"
      },
      "source": [
        "> **Eine Metrik definiert Abstände zwischen Elementen des Vektorraumes.**\n",
        "\n",
        "Eine Metrik (auch Abstandsfunktion) ist eine Funktion, die je zwei Elementen des Raums einen nicht negativen reellen Wert zuordnet, der als Abstand der beiden Elemente voneinander aufgefasst werden kann. \n",
        "\n",
        "Sei M eine Menge. **<u>Eine Metrik ist eine Abbildung</u>** d: $M \\times M \\rightarrow \\mathbb{R}$ auf $M \\times M$ wenn folgende drei Axiome erfüllt sind:\n",
        "\n",
        "1. Beide zusammen bilde Positive Definitheit (**positive definiteness**):\n",
        "  * $d(x, y) \\geq 0$ (**non-negativity**) sowie \n",
        "  * $d(x, y)=0$ if and only if $x=y$ (Gleichheit gilt genau dann, wenn $x=y$, **identity of indiscernibles**) für alle $x, y \\in M$.  \n",
        "\n",
        "2. $d(x, y)=d(y, x)$ (**symmetry**) Symmetrie\n",
        "$d(x, y)=d(y, x) \\forall x, y \\in M$\n",
        "\n",
        "4. $d(x, z) \\leq d(x, y)+d(y, z)$ (**Dreiecksungleichung / subadditivity / triangle inequality**) $\\forall x, y, z \\in M$\n",
        "\n",
        "**Metriken geben einem Raum eine globale und eine lokale mathematische Struktur**:\n",
        "  * Die globale Struktur kommt in **geometrischen Eigenschaften wie der Kongruenz** von Figuren zum Ausdruck. \n",
        "  * Die lokale metrische Struktur, also die Definition kleiner Abstände, ermöglicht unter bestimmten zusätzlichen Voraussetzungen die Einführung von **Differentialoperationen**.\n"
      ]
    },
    {
      "cell_type": "markdown",
      "metadata": {
        "id": "t68wtvnCLgEA"
      },
      "source": [
        "**Begriffsabgrenzungen**\n",
        "\n",
        "* **Divergence** fullfills property of positive definiteness (1 + 2)\n",
        "\n",
        "* **Distance** fullfills property of positive definiteness and symmetrie (1 + 2+ 3)\n",
        "\n",
        "* **Metric** fullfills property of positive definiteness, symmetrie and triangle inequality (1 + 2 + 3 + 4). Häufig wird auch eine Metrik als [Distanzfunktion](https://de.m.wikipedia.org/wiki/Distanzfunktion) bezeichnet.\n",
        "\n",
        "* **Metric Space**: Together with the set, a metric makes up a metric space."
      ]
    },
    {
      "cell_type": "markdown",
      "metadata": {
        "id": "5dbPC197ZG5V"
      },
      "source": [
        "* Metric -> measures distances\n",
        "* Norm -> measures distances, lengths\n",
        "* Inner product -> measures distances, lengths, angles"
      ]
    },
    {
      "cell_type": "markdown",
      "metadata": {
        "id": "SM6MMh6W_HBc"
      },
      "source": [
        "**Von Normen zu Metriken**\n",
        "\n",
        "> **A norm induces a (distance) metric by the formula d (x,y) = ‖ y-x ‖.**\n",
        "\n",
        "* Jede Norm auf einem Vektorraum induziert durch die Festlegung $d(x, y) \\equiv\\|x-y\\|$ eine Metrik. Somit ist jeder normierte Vektorraum (und erst recht jeder Innenproduktraum, Banachraum oder Hilbertraum) ein metrischer Raum.\n",
        "\n",
        "* **Aber Achtung**: nicht jede Metrik ist durch eine Norm induziert! Jede Norm induziert eine Metrik, aber nicht umgekehrt.\n",
        "\n",
        "* Difference Metric to Norm: **Instead of distance between points, a norm gives us the length of a vector, as measured from the origin.** "
      ]
    },
    {
      "cell_type": "markdown",
      "metadata": {
        "id": "8QdrlGVRmlmx"
      },
      "source": [
        "**Aus Normen erzeugte Metriken**\n",
        "\n",
        "* **Eine Metrik, die aus einer $p$ -Norm abgeleitet ist, heißt auch [Minkowski metrik / distance](https://en.m.wikipedia.org/wiki/Minkowski_distance) (L<sup>p</sup> Distances)**. It is a metric in a normed vector space. p need not be an integer, but it cannot be less than 1, because otherwise the triangle inequality does not hold (which is possible, but then it's not a metric anymore). Wichtige Spezialfälle sind:\n",
        "  * Manhattan-Metrik zu $p=1$, \n",
        "  * euklidische Metrik zu $p=2$\n",
        "    * In physical space the Euclidean distance is in a way the most natural one, because in this case the length of a rigid body does not change with rotation.) \n",
        "    * Im euklidische Raum mit seiner durch den Satz des Pythagoras gegebenen euklidischen Metrik (zur euklidischen Norm für $p=2$ ) $d(x, y)=\\sqrt{\\left(x_{1}-y_{1}\\right)^{2}+\\cdots+\\left(x_{n}-y_{n}\\right)^{2}}$\n",
        "  * Maximum-Metrik zu $p=\\infty$ (Chebyshev distance)\n",
        "\n",
        "* der eindimensionale Raum der reellen oder komplexen Zahlen mit dem absoluten Betrag als Norm (mit beliebigem $p$ ) und der dadurch gegebenen **Betragsmetrik** $d(x, y)=|x-y|$\n",
        "\n",
        "* Als eine [**Fréchet-Metrik**](https://de.m.wikipedia.org/wiki/Fréchet-Metrik) wird gelegentlich eine Metrik $d(x, y)=\\rho(x-y)$ bezeichnet, die von einer Funktion $\\rho$ induziert wird, welche die meisten Eigenschaften einer Norm besitzt, aber nicht homogen ist. **Sie stellt eine Verbindung zwischen Metrik und Norm her.**\n"
      ]
    },
    {
      "cell_type": "markdown",
      "metadata": {
        "id": "bUnISc3anLSR"
      },
      "source": [
        "**Nicht aus Normen erzeugte Metriken**\n",
        "\n",
        "* Auf jeder Menge lässt sich eine triviale Metrik, die sogenannte gleichmäßig diskrete Metrik (die sogar eine Ultrametrik ist) definieren: $d(x, y)=\\left\\{\\begin{array}{ll}0 & \\text { für } x=y \\\\ 1 & \\text { für } x \\neq y\\end{array}\\right.$\n",
        "\n",
        "* Im Allgemeinen **nicht durch eine Norm induziert ist die riemannsche Metrik**, die aus einer differenzierbaren Mannigfaltigkeit eine [riemannsche Mannigfaltigkeit](https://en.m.wikipedia.org/wiki/Riemannian_manifold) macht. (zB  Die kürzesten Strecken zwischen unterschiedlichen Punkten (die sogenannten Geodäten) sind nicht zwingend Geradenstücke, sondern können gekrümmte Kurven sein. Die Winkelsumme von Dreiecken kann, im Gegensatz zur Ebene, auch größer (z. B. Kugel) oder kleiner (hyperbolische Räume) als 180° sein.\n",
        "\n",
        "* Die [französische Eisenbahnmetrik](https://de.m.wikipedia.org/wiki/Französische_Eisenbahnmetrik). \n",
        "\n",
        "* Die [Hausdorff-Metrik](https://de.m.wikipedia.org/wiki/Hausdorff-Metrik) misst den **Abstand zwischen Teilmengen, nicht Elementen, eines metrischen Raums**; man könnte sie als Metrik zweiten Grades bezeichnen, denn sie greift auf eine Metrik ersten Grades zwischen den Elementen des metrischen Raums zurück.\n",
        "\n",
        "* Der [Hamming-Abstand](https://de.m.wikipedia.org/wiki/Hamming-Abstand) ist eine Metrik auf dem Coderaum, die die Unterschiedlichkeit von (gleich langen) Zeichenketten angibt. Die [Levenshetin Distance](https://de.m.wikipedia.org/wiki/Levenshtein-Distanz) kann als Erweiterung des Hamming-Abstands angesehen werden. Die Levenshtein-Distanz kann als Sonderform der [Dynamic Time Warpening](https://de.m.wikipedia.org/wiki/Dynamic-Time-Warping) (DTW) betrachtet werden. Siehe auch [Lee distance](https://en.m.wikipedia.org/wiki/Lee_distance), [Jaro–Winkler distance](https://en.m.wikipedia.org/wiki/Jaro–Winkler_distance) & [Edit Distance](https://en.m.wikipedia.org/wiki/Edit_distance).\n",
        "\n",
        "* Mehr Beispiele von nicht aus Normen erzeugten Metriken [hier](https://de.m.wikipedia.org/wiki/Metrischer_Raum#Nicht_durch_Normen_erzeugte_Metriken)\n"
      ]
    },
    {
      "cell_type": "markdown",
      "metadata": {
        "id": "dYAJd3-q_d8N"
      },
      "source": [
        "**Metric Space**"
      ]
    },
    {
      "cell_type": "markdown",
      "metadata": {
        "id": "M-8s7XOx_Mxn"
      },
      "source": [
        "Unter einem [metrischen Raum](https://de.m.wikipedia.org/wiki/Metrischer_Raum) (metric space) versteht man in der Mathematik eine Menge, auf der eine Metrik definiert ist. \n",
        "\n",
        "> **Das Paar $(M, d)$ nennt man einen <u>[metrischen Raum](https://de.m.wikipedia.org/wiki/Metrischer_Raum) (metric space)</u>**. \n",
        "\n",
        "Beispiel fur einen metrischen Raum: \n",
        "* Die Menge der reellen Zahlen $\\mathbb{R}$ mit der Abstandsmetrik $d(x, y):=|x-y|$ bilden einen metrischen Raum."
      ]
    },
    {
      "cell_type": "markdown",
      "metadata": {
        "id": "JM2w6L6-BCPu"
      },
      "source": [
        "**Isometrie**"
      ]
    },
    {
      "cell_type": "markdown",
      "metadata": {
        "id": "qEzdckJipzyi"
      },
      "source": [
        "*  In einem metrischen Raum (aber nicht direkt in einem topologischen Raum) sind beschränkte Mengen und Cauchy-Folgen definiert. \n",
        "\n",
        "* **Isomorphismen zwischen metrischen Räumen heißen Isometrien**. Ein metrischer Raum heißt vollständig, falls alle Cauchy-Folgen konvergieren. Jeder nicht vollständige Raum ist isometrisch in seine Vervollständigung eingebettet. Jeder kompakte metrische Raum ist vollständig; die reelle Zahlengerade ist nicht kompakt aber vollständig; das offene Intervall ( 0 , 1 ) (0,1) ist nicht vollständig.\n",
        "\n",
        "* Eine [Isometrie](https://de.m.wikipedia.org/wiki/Isometrie) ist eine Abbildung, die zwei metrische Räume aufeinander abbildet und dabei die Metrik – also die Abstände zwischen je zwei Punkten – erhält. ps: [Isometrische Isomorphie](https://de.m.wikipedia.org/wiki/Isometrische_Isomorphie) beschreibt in der Funktionalanalysis einen Zusammenhang zwischen zwei unterschiedlichen Räumen, die geometrisch identisch sind.\n",
        "\n",
        "* Sind zwei metrische Räume $\\left(M_{1}, d_{1}\\right),\\left(M_{2}, d_{2}\\right)$ gegeben, und ist $f: M_{1} \\rightarrow M_{2}$ eine Abbildung mit der Eigenschaft\n",
        "\n",
        "> $d_{2}(f(x), f(y))=d_{1}(x, y)$ für alle $x, y \\in M_{1}$\n",
        "\n",
        "* dann heißt $f$ Isometrie von $M_{1}$ nach $M_{2}$. Eine solche Abbildung ist stets injektiv. \n",
        "\n",
        "* Ist $f$ sogar bijektiv, dann heißt $f$ **isometrischer Isomorphismus**, und die Räume $M_{1}$ und $M_{2}$ heißen is isometrische Einbettung von $M_{1}$ in $M_{2}$"
      ]
    },
    {
      "cell_type": "markdown",
      "metadata": {
        "id": "CXylGv101ZwI"
      },
      "source": [
        "https://de.m.wikipedia.org/wiki/Metrisierbarer_Raum"
      ]
    },
    {
      "cell_type": "markdown",
      "metadata": {
        "id": "7NfzTtMmJl9E"
      },
      "source": [
        "https://en.m.wikipedia.org/wiki/Cauchy_space"
      ]
    },
    {
      "cell_type": "markdown",
      "metadata": {
        "id": "n7d7_An6wMZW"
      },
      "source": [
        "https://en.m.wikipedia.org/wiki/Continuous_function#Continuous_functions_between_metric_spaces"
      ]
    },
    {
      "cell_type": "markdown",
      "metadata": {
        "id": "9A0RiFz6sHZ-"
      },
      "source": [
        "https://en.m.wikipedia.org/wiki/Distance#General_metric"
      ]
    },
    {
      "cell_type": "markdown",
      "metadata": {
        "id": "Zgefp2KSyCZ7"
      },
      "source": [
        "**Vollständiger Raum**"
      ]
    },
    {
      "cell_type": "markdown",
      "metadata": {
        "id": "SGKmJwx6yQHr"
      },
      "source": [
        "* Ein vollständiger Raum ist in der Analysis ein metrischer Raum, in dem jede Cauchy-Folge von Elementen des Raums konvergiert. Zum Beispiel ist der Raum der rationalen Zahlen mit der Betragsmetrik nicht vollständig, weil etwa die Zahl $\\sqrt{2}$ nicht rational ist, es jedoch Cauchy-Folgen rationaler Zahlen gibt, die bei Einbettung der rationalen Zahlen in die reellen Zahlen gegen $\\sqrt{2}$ und somit gegen keine rationale Zahl konvergieren. Es ist aber stets möglich, die Löcher auszufüllen, also einen unvollständigen metrischen Raum zu vervollständigen. Im Fall der rationalen Zahlen erhält man dadurch den Raum der reellen Zahlen."
      ]
    },
    {
      "cell_type": "markdown",
      "metadata": {
        "id": "CPBafU8zyD7m"
      },
      "source": [
        "https://de.wikipedia.org/wiki/Vollständiger_Raum"
      ]
    },
    {
      "cell_type": "markdown",
      "metadata": {
        "id": "F1l9_Erf5T5S"
      },
      "source": [
        "###### **Topological Space**"
      ]
    },
    {
      "cell_type": "markdown",
      "metadata": {
        "id": "QL5kqJ34HhRF"
      },
      "source": [
        "**Topology**"
      ]
    },
    {
      "cell_type": "markdown",
      "metadata": {
        "id": "zCU-DP5e7sX7"
      },
      "source": [
        "Sei $X$ eine Menge und $T \\subset (M)$ ein System von Teilmengen von M. Eine Topologie ist ein Mengensystem $T$ bestehend aus Teilmengen einer Grundmenge $X$, die offen oder offene Mengen genannt werden, und die die folgenden Axiome erfüllen:\n",
        "\n",
        "1. **Die leere Menge und die Grundmenge X sind offen**: $\\varnothing, M \\in T$ (Die leere Menge und Menge selbst gehören zur Topologie)\n",
        "2. **Der Durchschnitt endlich vieler offener Mengen ist offen**. (Es genügt zu fordern, dass der Durchschnitt von zwei offenen Mengen offen ist): $\\Omega_{1}, \\Omega_{2} \\in T \\Rightarrow \\Omega_{1} \\cap \\Omega_{2} \\in T$. D. h. wenn zwei Mengen zur Topologie gehören, dann auch deren Durchschnitt.\n",
        "3. **Die Vereinigung beliebig vieler offener Mengen ist offen**: Ist $I$ eine beliebige Indexmenge und sind $\\left(\\Omega_{i}\\right)_{i \\in I}$ Elemente von $T$ ,\n",
        "dann ist auch $\\bigcup_{i \\in \\mathrm{I}} \\Omega_{i} \\in T$ (Das bedeutet nichts anderes als dass die Vereinigung von beliebig vielen offenen Mengen wieder offen ist.)"
      ]
    },
    {
      "cell_type": "markdown",
      "metadata": {
        "id": "MKXq8hPxEjay"
      },
      "source": [
        "**From Metric to Topology**\n",
        "\n",
        "* A metric on a space induces topological properties like open and closed sets, which lead to the study of more abstract topological spaces. \n",
        "\n",
        "* In einem metrischen Raum werden Abstände zwischen Punkten definiert. Jeder metrische Raum ist auch ein topologischer Raum.\n",
        "\n",
        "* Der Begriff „topologischer Raum“ verallgemeinert den Begriff „metrischer Raum“: Jeder metrische Raum ist ein topologischer Raum mit der Topologie, die durch die Metrik induziert wird (siehe dazu [Umgebung](https://de.m.wikipedia.org/wiki/Umgebung_(Mathematik))). Jeder metrische Raum ist ein [Hausdorff-Raum](https://de.m.wikipedia.org/wiki/Hausdorff-Raum).\n"
      ]
    },
    {
      "cell_type": "markdown",
      "metadata": {
        "id": "gwzpcqG1Hem0"
      },
      "source": [
        "**Topological Space**"
      ]
    },
    {
      "cell_type": "markdown",
      "metadata": {
        "id": "UxqaDubTHd-o"
      },
      "source": [
        "**Man nennt $T$ eine Topologie auf $X$, und das Paar ($X$,$T$) einen topologischen Raum.**"
      ]
    },
    {
      "cell_type": "markdown",
      "metadata": {
        "id": "ixMvjCdbLiBj"
      },
      "source": [
        "* a topological space ([Topologischer Raum](https://de.m.wikipedia.org/wiki/Topologischer_Raum)) may be defined as a set of points, along with a set of **neighbourhoods** for each point, satisfying a set of **axioms** relating points and neighbourhoods.\n",
        "\n",
        "* The definition of a topological space **relies only upon set theory** and is the most general notion of a mathematical space that allows for the definition of concepts such as **[continuity](https://en.m.wikipedia.org/wiki/Continuous_function#Continuous_functions_between_topological_spaces), [connectedness](https://en.m.wikipedia.org/wiki/Connected_space), and [convergence](https://en.m.wikipedia.org/wiki/Limit_of_a_sequence)**.\n",
        "\n",
        "* **Other spaces, such as manifolds and metric spaces, are specializations of topological spaces with extra structures or constraints.**\n",
        "\n",
        "* Topological spaces are **studied in Point-Set Topology** (General Topology)\n",
        "\n",
        "* ein topologischer Raum ist ein elementarer Gegenstand der Topologie\n",
        "\n",
        "* Durch die Einführung einer topologischen Struktur auf einer Menge lassen sich intuitive Lagebeziehungen wie **„Nähe“ und „Streben gegen“** aus dem [Anschauungsraum (Euklidischer Raum)](https://de.m.wikipedia.org/wiki/Euklidischer_Raum) auf sehr viele und sehr allgemeine Strukturen übertragen und mit präziser Bedeutung versehen."
      ]
    },
    {
      "cell_type": "markdown",
      "metadata": {
        "id": "mMhlhwMT6hcE"
      },
      "source": [
        "**Beispiele:**\n",
        "\n",
        "* Das einfachste Beispiel eines topologischen Raumes ist die Menge der reellen Zahlen. Dabei ist die Topologie, also das System der offenen Teilmengen so erklärt, dass wir eine Menge $\\Omega$ C $\\mathbb{R}$ offen nennen, wenn sie sich als Vereinigung von offenen Intervallen darstellen lässt."
      ]
    },
    {
      "cell_type": "markdown",
      "metadata": {
        "id": "AIZH5E3tBjS8"
      },
      "source": [
        "**Separation Axioms**: Topologische Räume können [klassifiziert werden nach Kolmogorov](https://en.m.wikipedia.org/wiki/History_of_the_separation_axioms)."
      ]
    },
    {
      "cell_type": "markdown",
      "metadata": {
        "id": "uzQUU6SKBjYm"
      },
      "source": [
        "**Topological Vector Space**"
      ]
    },
    {
      "cell_type": "markdown",
      "metadata": {
        "id": "6tNzMCPIBjYm"
      },
      "source": [
        "Ein **[topologischer Vektorraum](https://de.m.wikipedia.org/wiki/Topologischer_Vektorraum)** / [Topological Vector Space](https://en.m.wikipedia.org/wiki/Topological_vector_space) ist ein Vektorraum, auf dem neben seiner algebraischen auch noch eine damit verträgliche topologische Struktur definiert ist.\n",
        "\n",
        "Sei $\\mathbb{K} \\in\\{\\mathbb{R}, \\mathbb{C}\\}$. Ein $\\mathbb{K}$ -Vektorraum $E$, der zugleich topologischer Raum ist, heißt topologischer Vektorraum, wenn folgende Verträglichkeitsaxiome gelten:\n",
        "* Die Vektoraddition $E \\times E \\rightarrow E$ ist stetig,\n",
        "* Die Skalarmultiplikation $\\mathbb{K} \\times E \\rightarrow E$ ist stetig.\n"
      ]
    },
    {
      "cell_type": "markdown",
      "metadata": {
        "id": "unylnM42C38i"
      },
      "source": [
        "**Lokalkonvexer Raum**"
      ]
    },
    {
      "cell_type": "markdown",
      "metadata": {
        "id": "ABebGw_-C380"
      },
      "source": [
        "* genauer: lokalkonvexe topologische Vektorräume\n",
        "\n",
        "* in der Funktionalanalysis untersuchte topologische Vektorräume mit zusätzlichen Eigenschaften. \n",
        "\n",
        "* Es handelt sich dabei **um topologische Vektorräume, in denen jeder Punkt über „beliebig kleine“ [konvexe](https://de.wikipedia.org/wiki/Konvexe_Menge) Umgebungen verfügt**. \n",
        "\n",
        "  * konvex heisst eine Teilmenge eines euklidischen Raums konvex, wenn für je zwei beliebige Punkte, die zur Menge gehören, auch stets deren Verbindungsstrecke ganz in der Menge liegt. Dies garantiert, dass die Menge an keiner Stelle eine (konkave) Einbuchtung hat.\n",
        "\n",
        "  * Beispiele: Jeder Vektorraum, der $\\mathbb {R}$  enthält, ist konvex, ebenso Halbebenen und Halbräume. Strecken und Geraden sind konvexe Mengen. Jede Dreiecksfläche ist konvex. Kreisscheiben und Kugeln sind konvex, sogar streng konvex. Die für die Theorie der normierten Räume wichtigste konvexe Menge ist die Einheitskugel.\n",
        "\n",
        "* Alternativ können lokalkonvexe Räume auch als Vektorräume definiert werden, deren Topologie durch eine Familie von Halbnormen erzeugt wird.\n",
        "\n",
        "* Ein lokalkonvexer Raum kann als eine **Verallgemeinerung eines normierten Vektorraumes** bzw. eines normierbaren Vektorraumes betrachtet werden, denn die Normkugeln um 0 sind konvexe Umgebungen des Nullpunktes.\n",
        "\n",
        "Ein topologischer Vektorraum $V$ (über dem Körper $\\mathbb {R}$ der reellen Zahlen oder dem Körper $\\mathbb {C}$ der komplexen Zahlen) heißt lokalkonvex, wenn jede Nullumgebung U (d. h. Umgebung des Nullpunktes) eine offene Teilmenge T mit den folgenden drei Eigenschaften enthält:\n",
        "\n",
        "1. **T ist konvex**.\n",
        "2. **T ist absorbierend** \n",
        "  * Eine Teilmenge $T$ eines reellen oder komplexen Vektorraumes $V$ heißt dabei absorbierend, wenn es zu jedem Vektor $x$ in $V$ eine positive Zahl $r$ gibt, so dass $\\alpha x$ für jede reelle bzw. komplexe Zahl $\\alpha$ mit |$\\alpha$| < r ein Element von $T$ ist.\n",
        "  * Eine absorbierende Menge bezeichnet eine Teilmenge eines Vektorraumes, die anschaulich so mit Skalaren vergrößert werden kann, dass irgendwann jeder Punkt in ihr enthalten ist und dieser bei weiterer Vergrößerung die Menge auch nicht mehr verlässt.\n",
        "  * Die Menge $T$ wird also durch $\\alpha$ so vergrößert, bis sie jedes Element des Vektorraumes absorbiert.\n",
        "\n",
        "3. **T ist ausgewogen**. \n",
        "  * Eine ausgewogene Menge bezeichnet in der Funktionalanalysis eine Teilmenge eines Vektorraumes, die sich dadurch auszeichnet, dass zu jedem Element der Menge auch das negative dieses Elementes in der Menge enthalten ist und die gesamte Verbindungsstrecke zwischen diesen beiden Elementen.\n",
        "  * Eine Teilmenge $T$ eines reellen oder komplexen Vektorraumes $V$ heißt ausgewogen, wenn zu jedem Vektor $x$ in $T$ und jeder Zahl $r$ mit $|r| \\leq 1$ der Vektor $r x$ ebenfalls in $T$ liegt. Im Fall eines reellen Vektorraums bedeutet dies, dass die Strecke von $-x$ nach $x$ in $T$ liegt; bei einem komplexen Vektorraum bedeutet es, dass $T$ die $_{n}$ Kreisscheibe\" $\\{r x|r \\in \\mathbb{C},| r \\mid \\leq 1\\}$ enthält. Aufgrund dieser geometrischen Bedeutung werden solche Mengen manchmal auch kreisförmig genannt.\n",
        "\n",
        "**Beispiele**\n",
        "\n",
        "* Alle normierten Räume (insb. alle Banachräume) sind lokalkonvex, wobei die Familie $\\mathcal{P}$ nur die (echte) Norm enthält.\n",
        "\n",
        "* Alle topologischen Vektorräume mit der schwachen Topologie.\n",
        "\n",
        "https://de.wikipedia.org/wiki/Lokalkonvexer_Raum\n",
        "\n",
        "https://matheplanet.com/default3.html?call=article.php?sid=1159&ref=https%3A%2F%2Fwww.google.com%2F\n",
        "\n",
        "https://en.m.wikipedia.org/wiki/Locally_convex_topological_vector_space\n",
        "\n",
        "https://en.m.wikipedia.org/wiki/Geometric_measure_theory"
      ]
    },
    {
      "cell_type": "markdown",
      "metadata": {
        "id": "ClDwJhNSBr-q"
      },
      "source": [
        "**Frechet-Räume**"
      ]
    },
    {
      "cell_type": "markdown",
      "metadata": {
        "id": "7Mx_opXBBr-r"
      },
      "source": [
        "* [Fréchet-Spaces](https://de.m.wikipedia.org/wiki/Fréchet-Raum) sind Verallgemeinerungen des Banachraums und topologische Vektorraum mit speziellen Eigenschaften. Die Hauptvertreter von Fréchet-Räumen sind Vektorräume von glatten Funktionen. Diese Räume lassen sich zwar mit verschiedenen Normen ausstatten, **sind aber bezüglich keiner Norm vollständig**, also keine Banachräume. Man kann auf ihnen aber eine Topologie definieren, sodass viele Sätze, die in Banachräumen gelten, ihre Gültigkeit behalten.\n",
        "\n",
        "* Es handelt sich um einen **topologischen Vektorraum** mit speziellen Eigenschaften, die ihn als **Verallgemeinerung des Banachraums** charakterisieren.\n",
        "\n",
        "* Die Hauptvertreter von [Fréchet-Spaces](https://de.m.wikipedia.org/wiki/Fréchet-Raum) sind Vektorräume von [glatten Funktionen](https://de.wikipedia.org/wiki/Glatte_Funktion). \n",
        "  * Eine glatte Funktion ist eine mathematische Funktion, die unendlich oft differenzierbar (insbesondere stetig) ist.\n",
        "\n",
        "* Diese Räume lassen sich zwar mit verschiedenen Normen ausstatten, **sind aber bezüglich keiner Norm vollständig**, also keine Banachräume. Man kann auf ihnen aber eine Topologie definieren, sodass viele Sätze, die in Banachräumen gelten, ihre Gültigkeit behalten."
      ]
    },
    {
      "cell_type": "markdown",
      "metadata": {
        "id": "o5kKGVY_B0Ls"
      },
      "source": [
        "**Uniform Spaces**"
      ]
    },
    {
      "cell_type": "markdown",
      "metadata": {
        "id": "dUGnGb0RB0L-"
      },
      "source": [
        "* **Uniforme Räume erlauben es zwar nicht Abstände einzuführen**, aber trotzdem Begriffe wie gleichmäßige Stetigkeit, Cauchy-Folgen, Vollständigkeit und Vervollständigung zu definieren. Jeder uniforme Raum ist auch ein topologischer Raum. \n",
        "\n",
        "* **Jeder topologische Vektorraum (egal ob metrisierbar oder nicht) ist auch ein uniformer Raum**. Allgemeiner ist jede kommutative topologische Gruppe ein uniformer Raum. Eine nichtkommutative topologische Gruppe trägt jedoch zwei uniforme Strukturen, eine links-invariante und eine rechts-invariante. Topologische Vektorräume sind in endlichen Dimensionen vollständig, in unendlichen Dimensionen im Allgemeinen aber nicht.\n",
        "\n",
        "https://de.m.wikipedia.org/wiki/Uniformer_Raum"
      ]
    },
    {
      "cell_type": "markdown",
      "metadata": {
        "id": "Tg7TfvlQN8-t"
      },
      "source": [
        "###### **Normen auf Vektorräumen**"
      ]
    },
    {
      "cell_type": "markdown",
      "metadata": {
        "id": "4BYu8q7lJTFQ"
      },
      "source": [
        "**Normen auf endlichdimensionalen Vektorräumen**"
      ]
    },
    {
      "cell_type": "markdown",
      "metadata": {
        "id": "wci0t1WeJTFf"
      },
      "source": [
        "**Spezialfall p1-Norm (Summennorm / Lasso)**"
      ]
    },
    {
      "cell_type": "markdown",
      "metadata": {
        "id": "QWpYJOL2JTFg"
      },
      "source": [
        "* Summennorm, Betragssummennorm oder 1-Norm ist in der Mathematik eine **Vektornorm**. Sie ist definiert als die Summe der Beträge der Vektorkomponenten und ist eine spezielle p-Norm für die Wahl von p=1.\n",
        "\n",
        "* **Die Summennorm benutzt man zB wenn man nicht jeden Weg im Raum gehen kann**, also zB Taxis in Manhattan koennen sich nur in senkrechten und waagerechten Abschnitten bewegen (daher auch Manhattan-Metrik oder Taxi-Metrik, da sie den Abstand zweier Punkte wie die Fahrtstrecke auf einem gitterförmigen Stadtplan misst).\n",
        "\n",
        "* Die Einheitssphäre der reellen Summennorm ist ein Kreuzpolytop mit minimalem Volumen über alle p-Normen. **Daher ergibt die Summennorm für einen gegebenen Vektor den größten Wert aller p-Normen**. (zB 3 + (-2) + 6 = 11 in Summennorm, aber = 7 in euklidischer Norm fur p=2)\n",
        "\n",
        "* Die von der Summennorm abgeleitete Metrik ist die Manhattan-Metrik / Taxi Metrik (also die Distance zwischen zwei Punkten)\n",
        "\n",
        "* Die Summennorm ist im Gegensatz zur euklidischen Norm (2-Norm) **nicht von einem Skalarprodukt induziert.**\n",
        "\n",
        "* Die von der Summennorm [induzierte Matrixnorm](https://de.m.wikipedia.org/wiki/Natürliche_Matrixnorm) ist die [Spaltensummennorm](https://de.m.wikipedia.org/wiki/Spaltensummennorm).\n",
        "\n",
        "* Techniques which use an L1 penalty, like LASSO, encourage solutions where many parameters are zero. \n",
        "\n",
        "* The Manhattan norm gives rise to the Manhattan distance, where the distance between any two points, or vectors, is the sum of the differences between corresponding coordinates.\n",
        "\n",
        "* https://en.m.wikipedia.org/wiki/Taxicab_geometry\n",
        "\n",
        "* https://en.m.wikipedia.org/wiki/Lasso_(statistics)"
      ]
    },
    {
      "cell_type": "markdown",
      "metadata": {
        "id": "acxHwJYBJTFg"
      },
      "source": [
        "![alternativer Text](https://upload.wikimedia.org/wikipedia/commons/thumb/d/d9/Euclid_Octahedron_3.svg/240px-Euclid_Octahedron_3.svg.png)"
      ]
    },
    {
      "cell_type": "markdown",
      "metadata": {
        "id": "C6yzL3CXJTFh"
      },
      "source": [
        "*Kreuzpolytop: Der Einheitssphäre der Summennorm ist in drei Dimensionen ein Oktaeder*"
      ]
    },
    {
      "cell_type": "markdown",
      "metadata": {
        "id": "oo5Krza_JTFh"
      },
      "source": [
        "**Beispiel (reeller Vektor):**\n",
        "\n",
        "Die Summennorm des reellen Vektors $x=(3,-2,6) \\in \\mathbb{R}^{3}$ ist gegeben als\n",
        "\n",
        "$\\|x\\|_{1}=|3|+|-2|+|6|=11$"
      ]
    },
    {
      "cell_type": "markdown",
      "metadata": {
        "id": "XM9AjsGfJTFh"
      },
      "source": [
        "https://de.m.wikipedia.org/wiki/Summennorm"
      ]
    },
    {
      "cell_type": "markdown",
      "metadata": {
        "id": "P3Hm5w4MJTFh"
      },
      "source": [
        "**Spezialfall p2-Norm (Euklidische Norm / Ridge)**"
      ]
    },
    {
      "cell_type": "markdown",
      "metadata": {
        "id": "pQsNOKBhJTFh"
      },
      "source": [
        "* Die euklidische Norm, Standardnorm oder 2-Norm ist eine in der Mathematik häufig verwendete Vektornorm. \n",
        "\n",
        "* Im zwei- und dreidimensionalen euklidischen Raum **entspricht die euklidische Norm der anschaulichen Länge (oder dem Betrag) eines Vektors** und kann mit dem Satz des Pythagoras berechnet werden. \n",
        "\n",
        "* Die euklidische Norm ist eine **von einem Skalarprodukt induzierte Norm** (im Ggs zur p1-Norm). Siehe: https://de.m.wikipedia.org/wiki/Skalarproduktnorm (In einem endlichdimensionalen reellen oder komplexen Vektorraum mit dem Standardskalarprodukt entspricht die Skalarproduktnorm gerade der euklidischen Norm.)\n",
        "\n",
        "* Techniques which use an L2 penalty, like ridge regression, encourage solutions where most parameter values are small.\n",
        "\n",
        "* Exkurs: [Elastic Net](https://en.m.wikipedia.org/wiki/Elastic_net_regularization) regularization uses a penalty term that is a combination of the L1 norm and the L2 norm of the parameter vector.\n",
        "\n",
        "* The length of a vector x = (x1, x2, ..., xn) in the n-dimensional real vector space Rn is usually given by the **Euclidean norm**:\n",
        "\n",
        "> $\\|x\\|_{2}=\\left(x_{1}^{2}+x_{2}^{2}+\\cdots+x_{n}^{2}\\right)^{1 / 2}$"
      ]
    },
    {
      "cell_type": "markdown",
      "metadata": {
        "id": "X4iaApIqJTFi"
      },
      "source": [
        "Die Euclidean Norm besitzt als eine von einem Skalarprodukt [induzierte Norm](https://de.m.wikipedia.org/wiki/Skalarproduktnorm) **neben den [drei Normaxiomen](https://de.m.wikipedia.org/wiki/Norm_(Mathematik)#Definition) eine Reihe weiterer Eigenschaften**:\n",
        "\n",
        "* die Gültigkeit der [Cauchy-Schwarz-Ungleichung](https://de.m.wikipedia.org/wiki/Cauchy-Schwarzsche_Ungleichung)\n",
        "* der [Parallelogrammgleichung](https://de.m.wikipedia.org/wiki/Parallelogrammgleichung)\n",
        "* sowie eine Invarianz unter unitären Transformationen (Die euklidische Norm ändert sich also unter unitären Transformationen nicht. Für reelle Vektoren sind solche Transformationen beispielsweise Drehungen des Vektors um den Nullpunkt. Diese Eigenschaft wird zum Beispiel bei der numerischen Lösung linearer Ausgleichsprobleme über die **Methode der kleinsten Quadrate mittels QR-Zerlegungen genutzt**.)\n",
        "\n",
        "Für orthogonale Vektoren erfüllt die euklidische Norm selbst eine allgemeinere Form des Satzes des Pythagoras."
      ]
    },
    {
      "cell_type": "markdown",
      "metadata": {
        "id": "rNRashjyJTFi"
      },
      "source": [
        "* Von der euklidischen Norm werden Begriffe wie der euklidische Abstand und die euklidische Topologie abgeleitet. \n",
        "\n",
        "* Sie **kann auf unendlichdimensionale Vektorräume verallgemeinert werden**, beispielsweise auf **Folgenräume durch die ℓ2-Norm** und auf **Funktionenräume durch die [L2-Norm](https://de.m.wikipedia.org/wiki/Lp-Raum#Der_Hilbertraum_L2) (Hilbertraum L2)**.\n",
        "\n",
        "* Sieht man eine Matrix mit reellen oder komplexen Einträgen als entsprechend langen Vektor an, so kann die euklidische Norm auch für Matrizen definiert werden und heißt dann [**Frobeniusnorm**](https://de.m.wikipedia.org/wiki/Frobeniusnorm). Die euklidische Norm kann auch auf unendlichdimensionale Vektorräume über den reellen oder komplexen Zahlen verallgemeinert werden und hat dann zum Teil eigene Namen."
      ]
    },
    {
      "cell_type": "markdown",
      "metadata": {
        "id": "hQwLAxjhJTFi"
      },
      "source": [
        "https://de.m.wikipedia.org/wiki/Euklidische_Norm"
      ]
    },
    {
      "cell_type": "markdown",
      "metadata": {
        "id": "UF5c_mEQJTFj"
      },
      "source": [
        "See also: https://en.m.wikipedia.org/wiki/Non-Euclidean_geometry"
      ]
    },
    {
      "cell_type": "markdown",
      "metadata": {
        "id": "m_F_WvyUJTFj"
      },
      "source": [
        "**Spezialfall p∞-Norm (Maximumsnorm bzw. Unendlich-Norm)**"
      ]
    },
    {
      "cell_type": "markdown",
      "metadata": {
        "id": "DSyPKySYJTFj"
      },
      "source": [
        "* Die Maximumsnorm, Maximumnorm oder Tschebyschew-Norm ist eine spezielle Norm für Funktionen beziehungsweise für Vektoren oder Matrizen. Sie ist ein Spezialfall der [Supremumsnorm](https://de.m.wikipedia.org/wiki/Supremumsnorm).\n",
        "\n",
        "* Anschaulich gesprochen ist **der aus der Maximumsnorm abgeleitete Abstand immer dann relevant, wenn man sich in einem mehrdimensionalen Raum in alle Dimensionen gleichzeitig und unabhängig voneinander gleich schnell bewegen kann**. (zB Rochade beim Schach)\n",
        "\n",
        "* Allgemeiner kann die Maximumsnorm benutzt werden, um zu bestimmen, wie schnell man sich in einem zwei- oder dreidimensionalen Raum bewegen kann, wenn angenommen wird, dass die Bewegungen in x-, y- (und z-)Richtung unabhängig, gleichzeitig und mit gleicher Geschwindigkeit erfolgen.\n",
        "\n",
        "\n",
        "* Noch allgemeiner kann man ein System betrachten, dessen Zustand durch n unabhängige Parameter bestimmt wird. An allen Parametern können gleichzeitig und ohne gegenseitige Beeinflussung Änderungen vorgenommen werden. **Dann „misst“ die Maximumsnorm in Rn die Zeit, die man benötigt, um das System von einem Zustand in einen anderen zu überführen**. Voraussetzung hierfür ist allerdings, dass man die Parameter so normiert hat, dass gleiche Abstände zwischen den Werten auch gleichen Änderungszeiten entsprechen. Andernfalls müsste man eine gewichtete Version der Maximumsnorm verwenden, die die unterschiedlichen Änderungsgeschwindigkeiten der Parameter berücksichtigt.\n"
      ]
    },
    {
      "cell_type": "markdown",
      "metadata": {
        "id": "WHivS3xWJTFj"
      },
      "source": [
        "Für einen Vektor $x=\\left(x_{1}, \\ldots, x_{n}\\right) \\in \\mathbb{R}^{n}$ nennt man\n",
        "\n",
        "> $\\|x\\|_{\\max }:=\\max \\left(\\left|x_{1}\\right|, \\ldots,\\left|x_{n}\\right|\\right)$ \n",
        "\n",
        "die Maximumsnorm von x. \n",
        "\n",
        "* Die **Maximumsnorm kann auch als Grenzfall der $p$ -Normen** $\\|x\\|_{p}:=\\left(\\sum_{i=1}^{n}\\left|x_{i}\\right|^{p}\\right)^{1 / p}$ aufgefasst werden. Lässt man $p$ gegen unendlich laufen, so erhält man\n",
        "aus der $p$ -Norm die Maximumsnorm.\n",
        "\n",
        "* **Aus diesem Grund wird die Maximumsnorm für Vektoren auch als $\\infty$ -Norm (Unendlich-Norm) bezeichnet.**"
      ]
    },
    {
      "cell_type": "markdown",
      "metadata": {
        "id": "xirVrWDQJTFk"
      },
      "source": [
        "Für den Grenzwert p→ ∞ erhält man die ∞-Norm (Unendlich-Norm), die oft auch zu den p-Normen gezählt wird. Sie wird auch **Maximumsnorm oder Tschebyschow-Norm** genannt und ist definiert durch"
      ]
    },
    {
      "cell_type": "markdown",
      "metadata": {
        "id": "aCPVuwZfJTFk"
      },
      "source": [
        "> $\\|x\\|_{\\infty}=\\max _{i=1, \\ldots, n}\\left|x_{i}\\right|$"
      ]
    },
    {
      "cell_type": "markdown",
      "metadata": {
        "id": "Cpb_QjGzJTFk"
      },
      "source": [
        "Dass die Maximumsnorm tatsächlich als Grenzwert der $p$ -Normen für $p \\rightarrow \\infty$ entsteht, folgt für $x \\neq 0$\n",
        "aus\n",
        "\n",
        "> $\\lim _{p \\rightarrow \\infty}\\|x\\|_{p}=\\lim _{p \\rightarrow \\infty}\\left(\\sum_{i=1}^{n}\\left|x_{i}\\right|^{p}\\right)^{1 / p}=\\|x\\|_{\\infty} \\cdot \\lim _{p \\rightarrow \\infty}\\left(\\sum_{i=1}^{n}\\left(\\frac{\\left|x_{i}\\right|}{\\|x\\|_{\\infty}}\\right)^{p}\\right)^{1 / p}=\\|x\\|_{\\infty} \\cdot \\lim _{p \\rightarrow \\infty} S^{1 / p}=\\|x\\|_{\\infty}$"
      ]
    },
    {
      "cell_type": "markdown",
      "metadata": {
        "id": "h4nHn2PCJTFk"
      },
      "source": [
        "* For a real number p ≥ 1, the p-norm or Lp-norm of x is defined by\n",
        "\n",
        "> $\\|x\\|_{p}=\\left(\\left|x_{1}\\right|^{p}+\\left|x_{2}\\right|^{p}+\\cdots+\\left|x_{n}\\right|^{p}\\right)^{1 / p}$\n",
        "\n",
        "* The absolute value bars are unnecessary when p is a rational number and, in reduced form, has an even numerator.\n",
        "\n",
        "* The L∞-norm or maximum norm (or uniform norm) is the limit of the Lp-norms for p → ∞. It turns out that this limit is equivalent to the following definition:\n",
        "\n",
        "> $\\|x\\|_{\\infty}=\\max \\left\\{\\left|x_{1}\\right|,\\left|x_{2}\\right|, \\ldots,\\left|x_{n}\\right|\\right\\}$"
      ]
    },
    {
      "cell_type": "markdown",
      "metadata": {
        "id": "09NVokpiJTFk"
      },
      "source": [
        "https://de.m.wikipedia.org/wiki/Maximumsnorm"
      ]
    },
    {
      "cell_type": "markdown",
      "metadata": {
        "id": "PNebzB5PeTep"
      },
      "source": [
        "**Normen auf unendlichdimensionalen Vektorräumen**"
      ]
    },
    {
      "cell_type": "markdown",
      "metadata": {
        "id": "2KesWFfaTmuu"
      },
      "source": [
        "**Supremumsnorm**"
      ]
    },
    {
      "cell_type": "markdown",
      "metadata": {
        "id": "X0mN6eYZT6rC"
      },
      "source": [
        "* Im Gegensatz zur Maximumsnorm wird die Supremumsnorm $\\|f\\|_{\\text {sup }}:=\\sup _{t \\in X}|f(t)|$ nicht für stetige, sondern für beschränkte Funktionen $f$ definiert. \n",
        "\n",
        "* In diesem Fall ist es nicht notwendig, dass $X$ kompakt ist; $X$ kann eine beliebige Menge sein. \n",
        "\n",
        "* **Da stetige Funktionen auf kompakten Räumen beschränkt sind, ist die Maximumsnorm ein Spezialfall der Supremumsnorm**.\n",
        "\n",
        "* Die Supremumsnorm (auch Unendlich-Norm genannt) ist in der Mathematik eine Norm auf dem Funktionenraum der beschränkten Funktionen. Im einfachsten Fall einer reell- oder komplexwertigen beschränkten Funktion ist die Supremumsnorm das Supremum der Beträge der Funktionswerte. Allgemeiner betrachtet man Funktionen, deren Zielmenge ein normierter Raum ist, und die Supremumsnorm ist dann das Supremum der Normen der Funktionswerte. \n",
        "\n",
        "* **Für stetige Funktionen auf einer kompakten Menge ist die Maximumsnorm ein wichtiger Spezialfall der Supremumsnorm.**"
      ]
    },
    {
      "cell_type": "markdown",
      "metadata": {
        "id": "FrQFlg6EWE26"
      },
      "source": [
        "![alternativer Text](https://upload.wikimedia.org/wikipedia/commons/thumb/6/66/Graf_arctg.svg/260px-Graf_arctg.svg.png)"
      ]
    },
    {
      "cell_type": "markdown",
      "metadata": {
        "id": "q9WdCWwbWJVf"
      },
      "source": [
        "*Die Supremumsnorm der reellen Arkustangens-Funktion ist π/2. Auch wenn die Funktion diesen Wert betragsmäßig nirgendwo annimmt, so bildet er dennoch die kleinste obere Schranke.*"
      ]
    },
    {
      "cell_type": "markdown",
      "metadata": {
        "id": "QIHI-jmUWwUr"
      },
      "source": [
        "Supremumsnorm vs Maximumsnorm:\n",
        "\n",
        "* So ist etwa die **Supremumsnorm** der linearen Funktion $f(x)=x$ in diesem Intervall gleich $1 .$ Die Funktion nimmt diesen Wert zwar innerhalb des Intervalls nicht an, kommt inm jedoch beliebig nahe. \n",
        "\n",
        "* Wählt man stattdessen das abgeschlossene Einheitsintervall $M=[0,1]$, dann wird der Wert 1 angenommen und die Supremumsnorm entspricht der **Maximumsnorm**."
      ]
    },
    {
      "cell_type": "markdown",
      "metadata": {
        "id": "fDKcUEhwTZKC"
      },
      "source": [
        "https://de.m.wikipedia.org/wiki/Supremumsnorm"
      ]
    },
    {
      "cell_type": "markdown",
      "metadata": {
        "id": "U3OOjvbpXuEt"
      },
      "source": [
        "https://de.m.wikipedia.org/wiki/Wesentliches_Supremum"
      ]
    },
    {
      "cell_type": "markdown",
      "metadata": {
        "id": "T7WmLvFSen-z"
      },
      "source": [
        "**Folgennormen im Folgenraum**"
      ]
    },
    {
      "cell_type": "markdown",
      "metadata": {
        "id": "FEBTrzWdmp1Y"
      },
      "source": [
        "Siehe auch: Folgenraum https://de.m.wikipedia.org/wiki/Folgenraum"
      ]
    },
    {
      "cell_type": "markdown",
      "metadata": {
        "id": "o5vA04__k9hN"
      },
      "source": [
        "Die $\\ell^{p}$ -Normen sind die Verallgemeinerung der $p$ -Normen auf Folgenräume, wobei lediglich die endliche Summe durch eine unendliche ersetzt wird. Die $\\ell^{p}$ -Norm einer in $p$ -ter Potenz betragsweise summierbaren Folge ist für reelles $1 \\leq p<\\infty$ dann definiert als\n",
        "\n",
        "> $\\left\\|\\left(a_{n}\\right)\\right\\|_{\\ell^{p}}=\\left(\\sum_{n=1}^{\\infty}\\left|a_{n}\\right|^{p}\\right)^{1 / p}$\n",
        "\n",
        "Versehen mit diesen Normen werden die $\\ell$ - Räume jeweils zu vollständigen normierten Räumen. ${ }^{[6]}$ Für den Grenzwert $p \\rightarrow \\infty$ ergibt sich der Raum der beschränkten Folgen $\\ell^{\\infty}$ mit der Supremumsnorm. "
      ]
    },
    {
      "cell_type": "markdown",
      "metadata": {
        "id": "3T_E2UeNOdOW"
      },
      "source": [
        "$\\ell^{1}-$ Norm (**Folgenraum**)\n",
        "\n",
        "* Die $\\ell^{1}$ -Norm ist die Verallgemeinerung der Summennorm auf den Folgenraum $\\ell^{1}$ der **betragsweise summierbaren Folgen** $\\left(a_{n}\\right)_{n} \\in \\mathbb{K}^{N} .$ \n",
        "\n",
        "* Hierbei wird lediglich **die endliche Summe durch eine unendliche ersetzt** und die $\\ell^{\\text {t }}$ -Norm ist dann gegeben als\n",
        "\n",
        "> $\\left\\|\\left(a_{n}\\right)\\right\\|_{\\ell^{1}}=\\sum_{n=1}^{\\infty}\\left|a_{n}\\right|$"
      ]
    },
    {
      "cell_type": "markdown",
      "metadata": {
        "id": "MRax0LTq5PpT"
      },
      "source": [
        "$\\ell^{2}-$ Norm (**Folgenraum**)\n",
        "\n",
        "* Die $\\ell^{2}-$ Norm ist die Verallgemeinerung der euklidischen Norm auf den [Folgenraum](https://de.m.wikipedia.org/wiki/Folgenraum) $\\ell^{2}$ der quadratisch summierbaren Folgen $\\left(a_{n}\\right)_{n} \\in \\mathbb{K}^{\\mathrm{N}} .$ Hierbei wird lediglich die endliche Summe durch eine unendliche ersetzt und die $\\ell^{2}$ -Norm ist dann gegeben als\n",
        "\n",
        "> $\\left\\|\\left(a_{n}\\right)\\right\\|_{\\ell^{2}}=\\left(\\sum_{n=1}^{\\infty}\\left|a_{n}\\right|^{2}\\right)^{1 / 2}$\n",
        "\n",
        "* Die ℓ-p -Räume sind ein Spezialfall der allgemeineren Lp-Räume, wenn man das Zählmaß auf dem Raum N betrachtet."
      ]
    },
    {
      "cell_type": "markdown",
      "metadata": {
        "id": "q4x8mIupEplw"
      },
      "source": [
        "$\\ell^{∞}$ -Norm (**Folgenraum**)\n",
        "\n",
        "* The vector space ℓ∞ is a **sequence space** (Folgenraum) whose elements are the bounded sequences. The vector space operations, addition and scalar multiplication, are applied coordinate by coordinate.\n",
        "\n",
        "* $\\ell^{\\infty},$ the (real or complex) vector space of bounded sequences with the **[supremum norm](https://de.m.wikipedia.org/wiki/Supremumsnorm)**, and $L^{\\infty}=L^{\\infty}(X, \\Sigma, \\mu)$, the vector space of essentially bounded measurable functions with the **[essential supremum norm](https://de.m.wikipedia.org/wiki/Wesentliches_Supremum)**, are two closely related Banach spaces. \n",
        "\n",
        "* In fact the former is a special case of the latter. As a Banach space they are the continuous dual of the Banach spaces $\\ell_{1}$ of absolutely summable sequences, and $L^{1}=L^{1}(X, \\Sigma, \\mu)$ of absolutely integrable measurable functions (if the measure space fulfills the conditions of being localizable and therefore\n",
        "semifinite). \n",
        "\n",
        "* Pointwise multiplication gives them the structure of a Banach algebra, and in fact they are the standard examples of abelian Von Neumann algebras."
      ]
    },
    {
      "cell_type": "markdown",
      "metadata": {
        "id": "HHSE1UbcYFEP"
      },
      "source": [
        "**The sequence space (Folgenraum) is a special case of the function space (Funktionenraum): $\\ell_{\\infty}=L_{\\infty}(\\mathbb{N})$ where the natural numbers are equipped with the counting measure.**"
      ]
    },
    {
      "cell_type": "markdown",
      "metadata": {
        "id": "NGbGWZcDesxh"
      },
      "source": [
        "**Funktionennormen im Funktionenraum**"
      ]
    },
    {
      "cell_type": "markdown",
      "metadata": {
        "id": "rQkUf4jxmXjv"
      },
      "source": [
        "Siehe auch L-p-Raum: https://de.m.wikipedia.org/wiki/Lp-Raum"
      ]
    },
    {
      "cell_type": "markdown",
      "metadata": {
        "id": "oE7-MOw4l_FH"
      },
      "source": [
        "Die $\\mathcal{L}^{p}$ -Normen einer in $p$ -ter Potenz **Lebesgue-integrierbaren Funktion** mit $1<p<\\infty$ sind in Analogie zu den $\\ell^{p}$ -Normen definiert als\n",
        "\n",
        "> $\n",
        "\\|f\\|_{\\mathcal{L}^{P}(\\Omega)}=\\left(\\int_{\\Omega}|f(x)|^{p} d x\\right)^{1 / p}\n",
        "$\n",
        "\n",
        "**wobei die Summe durch ein Integral ersetzt wurde**. Ebenso wie bei der wesentlichen Supremumsnorm sind diese Narmen zunächst nur Halbnormen, da nicht nur die Nullfunktion, sondern auch alle Funktionen, die sich nur an einer Menge mit Maß Null II von der Nullfunktion unterscheiden, zu Null integriert werden. Daher betrachtet man wieder die Menge der Äauivalenzklassen unnn Funktionen $[f] \\in L^{p}(\\Omega)$, die fast überall gleich sind, und definiert auf diesen $L^{p}$ -Räumen die $L^{p}$ -Normen durch\n",
        "$\\|[f]\\|_{L P(\\Omega)}=\\|f\\|_{\\mathcal{L}^{p}(\\Omega)}$"
      ]
    },
    {
      "cell_type": "markdown",
      "metadata": {
        "id": "TpfpULLzPBb8"
      },
      "source": [
        "$L^{1}$ -Norm (**Funktionenraum**)\n",
        "\n",
        "* Weiter kann die Summennorm auf den Funktionenraum $L^{1}(\\Omega)$ der auf einer Menge $\\Omega$ betragsweise integrierbaren Funktionen verallgemeinert werden, was in zwei Schritten geschieht. Zunächst wird die $\\mathcal{L}^{1}$ Norm einer **betragsweise Lebesgue-integrierbaren Funktion** $f: \\Omega \\rightarrow \\mathbb{K}$ als\n",
        "\n",
        "> $\\|f\\|_{\\mathcal{L}^{1}(\\Omega)}=\\int_{\\Omega}|f(x)| d x$\n",
        "\n",
        "* definiert, wobei im Vergleich zur $\\ell^{1}$ -Norm lediglich die Summe durch ein Integral ersetzt wurde. Dies ist zunächst nur eine Halbnorm, da nicht nur die Nullfunktion, sondern auch alle Funktionen, die sich nur an einer Menge mit Lebesgue-Maß Null von der Nullfunktion unterscheiden, zu Null integriert werden. \n",
        "\n",
        "* Daher betrachtet man die Menge der Äquivalenzklassen von Funktionen $[f] \\in L^{1}(\\Omega)$, die fast überall gleich sind, und erhält auf diesem $L^{1}$ -Raum die $L^{1}$ -Norm durch\n",
        "\n",
        "> $\\|[f]\\|_{L^{1}(\\Omega)}=\\|f\\|_{\\mathcal{L}^{1}(\\Omega)}$"
      ]
    },
    {
      "cell_type": "markdown",
      "metadata": {
        "id": "Peq0MPwB6WKs"
      },
      "source": [
        "$L^{2}-$ Norm (**Funktionenraum**)\n",
        "\n",
        "* Weiter kann die euklidische Norm auf den [Funktionenraum](https://de.m.wikipedia.org/wiki/Funktionenraum) $L^{2}(\\Omega)$ der auf einer Menge $\\Omega$ quadratisch integrierbaren Funktionen verallgemeinert werden, was in zwei Schritten geschieht. Zunächst wird die $\\mathcal{L}^{2}$ Norm einer quadratisch Lebesgue-integrierbaren Funktion $f: \\Omega \\rightarrow \\mathbb{K}$ als\n",
        "\n",
        "> $\\|f\\|_{\\mathcal{L}^{2}(\\Omega)}=\\left(\\int_{\\Omega}|f(x)|^{2} d x\\right)^{1 / 2}$\n",
        "\n",
        "* definiert, wobei im Vergleich zur $\\ell^{2}$ -Norm lediglich die Summe durch ein Integral ersetzt wurde. Dies ist zunächst nur eine Halbnorm, da nicht nur die Nullfunktion, sondern auch alle Funktionen, die sich nur an einer Menge mit Lebesgue-Maß Null von der Nullfunktion unterscheiden, zu Null integriert werden. Daher betrachtet man die Menge der Äquivalenzklassen von Funktionen $[f] \\in L^{2}(\\Omega),$ die fast überall gleich sind, und erhält auf diesem $L^{2}$ -Raum die $L^{2}$ -Norm durch\n",
        "\n",
        "> $\\|[f]\\|_{L^{2}(\\Omega)}=\\|f\\|_{\\mathcal{L}^{2}(\\Omega)}$\n",
        "\n",
        "* Der Raum $L^{2}(\\Omega)$ ist ein Hilbertraum mit dem Skalarprodukt zweier Funktionen\n",
        "\n",
        "> $\\langle f, g\\rangle_{L_{2}(\\Omega)}=\\int_{\\Omega} \\overline{f(x)} \\cdot g(x) d x$\n",
        "\n",
        "* Er lässt sich von dem Lebesgue-Maß auch auf allgemeine Maße verallgemeinern."
      ]
    },
    {
      "cell_type": "markdown",
      "metadata": {
        "id": "n_06FIa0fPaB"
      },
      "source": [
        "$L^{∞}$ -Norm (**Funktionenraum**)\n",
        "\n",
        "* L∞ is a **function space** (Funktionenraum). Its elements are the essentially bounded measurable functions. More precisely, L∞ is defined based on an underlying measure space, (S, Σ, μ). Start with the set of all measurable functions from S to R which are essentially bounded, i.e. bounded up to a set of measure zero. Two such functions are identified if they are equal almost everywhere. Denote the resulting set by L∞(S, μ)."
      ]
    },
    {
      "cell_type": "markdown",
      "metadata": {
        "id": "vapievvRO-no"
      },
      "source": [
        "**Aus Normen erzeugte Metriken**"
      ]
    },
    {
      "cell_type": "markdown",
      "metadata": {
        "id": "MuEF8UFVN24Y"
      },
      "source": [
        "**L1 - Manhattan Distance (Lasso)**\n",
        "\n",
        "* The Manhattan norm gives rise to the [Manhattan distance](https://de.m.wikipedia.org/wiki/Manhattan-Metrik), where the distance between any two points, or vectors, is the sum of the differences between corresponding coordinates.\n",
        "\n",
        "* **Die Manhattan-Metrik ist die von der Summennorm (1-Norm) eines Vektorraums erzeugte Metrik.**\n",
        "\n",
        "* **Aber: Die Summennorm ist nicht von einem Skalarprodukt induziert.**\n",
        "\n",
        "* Die Manhattan-Metrik (auch Manhattan-Distanz, Taxi- oder Cityblock-Metrik) ist eine Metrik, in der die Distanz d zwischen zwei Punkten a und b als die Summe der absoluten Differenzen ihrer Einzelkoordinaten definiert wird:\n",
        "\n",
        "> $d(a, b)=\\sum_{i}\\left|a_{i}-b_{i}\\right|$\n",
        "\n",
        "**L2 - Euclidean Distance (Ridge)**\n",
        "* The **euclidean distance** is the L2-norm of the difference, **a special case of the Minkowski distance with p=2**. It is the natural distance in a geometric interpretation.\n",
        "\n",
        "> $d_{2}:(x, y) \\mapsto\\|x-y\\|_{2}=\\sqrt{d_{\\mathrm{SSD}}}=\\sqrt{\\sum_{i=1}^{n}\\left(x_{i}-y_{i}\\right)^{2}}$\n",
        "\n",
        "* Together with the [Euclidean distance](https://en.m.wikipedia.org/wiki/Euclidean_distance) the Euclidean space is a metric space (x element R, d). http://theanalysisofdata.com/probability/B_4.html\n",
        "\n",
        "* (See also [Tikhonov Regularization (Ridge)](https://en.m.wikipedia.org/wiki/Tikhonov_regularization)\n",
        "\n",
        "**L ∞ - Chebyshev Distance**\n",
        "\n",
        "* [Chebyshev distance](https://en.m.wikipedia.org/wiki/Chebyshev_distance) (or Tchebychev distance), maximum metric, or L∞ metric is a metric defined on a vector space **where the distance between two vectors is the greatest of their differences** along any coordinate dimension.\n",
        "\n",
        "* The maximum norm gives rise to the **Chebyshev distance** or chessboard distance, the minimal number of moves a chess king would take to travel from x to y. The Chebyshev distance is the L∞-norm of the difference, a special case of the Minkowski distance where p goes to infinity. It is also known as Chessboard distance.\n",
        "\n",
        "> $d_{\\infty}:(x, y) \\mapsto\\|x-y\\|_{\\infty}=\\lim _{p \\rightarrow \\infty}\\left(\\sum_{i=1}^{n}\\left|x_{i}-y_{i}\\right|^{p}\\right)^{\\frac{1}{p}}=\\max _{i}\\left|x_{i}-y_{i}\\right|$"
      ]
    },
    {
      "cell_type": "markdown",
      "metadata": {
        "id": "00B-3E6wT_WN"
      },
      "source": [
        "###### **Units Vector, Circle & Sphere**"
      ]
    },
    {
      "cell_type": "markdown",
      "metadata": {
        "id": "OufqT-Z6E9fS"
      },
      "source": [
        "**Einheitsvektor (Unit Vector)**"
      ]
    },
    {
      "cell_type": "markdown",
      "metadata": {
        "id": "OMv1seK6E7fo"
      },
      "source": [
        "* Ein Vektor der Einheitssphäre heißt [Einheitsvektor](https://de.wikipedia.org/wiki/Einheitsvektor) bzw. [Unit Vector](https://en.wikipedia.org/wiki/Unit_vector). \n",
        "\n",
        "* Zu jedem Vektor $x \\neq 0$ erhält man durch Normierung $\\frac{x}{\\|x\\|}$ den zugehörigen Einheitsvektor.\n",
        "\n",
        "* Ein Einheitsvektor ist in der analytischen Geometrie ein Vektor der Länge Eins. **In der linearen Algebra und der Funktionalanalysis wird der Begriff der Länge auf allgemeine Vektorräume zum Begriff der Norm verallgemeinert**. \n",
        "\n",
        "* Ein Vektor in einem normierten Vektorraum, das heißt einem Vektorraum, auf dem eine Norm definiert ist, heißt Einheitsvektor oder normierter Vektor, **wenn seine Norm Eins beträgt** (fur euklidisch, Summennorm und Maximumsnorm??)"
      ]
    },
    {
      "cell_type": "markdown",
      "metadata": {
        "id": "fdWVU2YRYZ0t"
      },
      "source": [
        "**Einheitskreis (Unit Circle)**"
      ]
    },
    {
      "cell_type": "markdown",
      "metadata": {
        "id": "TC_GtMMcwt1e"
      },
      "source": [
        "* Der [Einheitskreis](https://de.wikipedia.org/wiki/Einheitskreis) bzw. [unit circle](https://en.wikipedia.org/wiki/Unit_circle) ist der Kreis (**im zweidimensionalen reellen Vektorraum**), dessen Radius die Länge 1 hat (Skalar $r \\in \\mathbb{K}$ mit $r>0$ ) und dessen Mittelpunkt ($x_{0} \\in V$) mit dem Koordinatenursprung eines kartesischen Koordinatensystems der Ebene übereinstimmt. \n",
        "\n",
        "* **Der Einheitskreis besteht aus den Punkten (x, y) der Ebene, für die $x^{2}+y^{2}$ = 1 gilt.** (bzw. $x_{1}^{2}$ + $x_{2}^{2}$ = 1)\n",
        "\n",
        "* In der Einheitskugel wendet man dann Betrag + Wurzel (**euklidische Norm**), oder die Summe der Beträge (**Summennorm**) oder das Maximum aller Beträge (**Maximumsnorm**) an. \n",
        "\n",
        "* Zur Normalisierung (??) siehe p-Norm: $\n",
        "\\|x\\|_{p}:=\\left(\\sum_{i=1}^{n}\\left|x_{i}\\right|^{p}\\right)^{1 / p}\n",
        "$"
      ]
    },
    {
      "cell_type": "markdown",
      "metadata": {
        "id": "tPTYbbpvYcnL"
      },
      "source": [
        "**Einheitskugel (Unit Sphere) unter verschiedenen Normen**"
      ]
    },
    {
      "cell_type": "markdown",
      "metadata": {
        "id": "jjtKryVdQp82"
      },
      "source": [
        "![xx](https://upload.wikimedia.org/wikipedia/commons/thumb/2/2c/Unit_disc_2-norm_qtl1.svg/240px-Unit_disc_2-norm_qtl1.svg.png)\n",
        "\n",
        "*Einheitskugel (rot) und -sphäre (blau) für die euklidische Norm in zwei Dimensionen* ([Source](https://de.wikipedia.org/wiki/Einheitskugel))"
      ]
    },
    {
      "cell_type": "markdown",
      "metadata": {
        "id": "IgWu5QWpYVqR"
      },
      "source": [
        "* **Wählt man in der Definition $x_{0}=0$ und $r=1,$ so nennt man die entstehenden Mengen Einheitskugel bzw. Einheitssphäre.** Das bedeutet, die [Einheitskugel](https://de.wikipedia.org/wiki/Einheitskugel) ist die Kugel mit Radius eins um den Nullpunkt eines Vektorraums. \n",
        "\n",
        "* Die Begriffe $_{n}$ Kugel\" bzw. Sphäre\" sind dabei sehr allgemein zu sehen - beispielsweise kann eine Normkugel auch Ecken und Kanten besitzen - und **fallen nur im Spezialfall der euklidischen Vektornorm mit dem aus der Geometrie bekannten Kugelbegriff zusammen**. \n",
        "\n",
        "* **Wird eine andere Norm als die euklidische Norm zur Abstandsmessung benutzt, so ist die Form des Einheitskreises im kartesischen Koordinatensystem eine andere**. Die geometrische Gestalt der Einheitskugel hängt von der gewählten Norm ab und ist nur mit der euklidischen Norm tatsächlich kugelförmig. Einheitskugeln können alternativ im $\\mathbb{R}^{n}$ bezüglich anderer Normen definiert werden.\n",
        "\n",
        "  * Der Einheitskreis fur die **euklidische Norm** ist eine Kugel. Im Falle des euklidischen Raumes $\\mathbb{R}^{n}$ definiert man die abgeschlossene Einheitskugel bezüglich der **euklidischen Norm** $\\|x\\|_{2}=\\sqrt{x_{1}^{2}+x_{2}^{2}+\\cdots+x_{n}^{2}}$ mittels $\\overline{B_{R^{n}}}:=\\left\\{x \\in \\mathbb{R}^{n}:\\|x\\|_{2} \\leq 1\\right\\}$. \n",
        "\n",
        "  * Der Einheitskreis fur die **Summennorm** ist ein Quadrat mit den Ecken (±1,0) und (0,±1). Die Einheitskugel der **Summennorm** (1-Norm) ist definiert $\\|x\\|_{1}=\\left|x_{1}\\right|+\\left|x_{2}\\right|+\\cdots+\\left|x_{n}\\right|$. \n",
        "\n",
        "  * Der Einheitskreis fur die Maximumsnorm ist ein Quadrat mit den Ecken (±1,±1). Die Einheitskugel der  **Maximumsnorm** ist definiert $\\|x\\|_{\\infty}=\\max \\left\\{\\left|x_{1}\\right|,\\left|x_{2}\\right|, \\ldots,\\left|x_{n}\\right|\\right\\} .$\n",
        "\n",
        "  * Siehe p-Norm: $\n",
        "\\|x\\|_{p}:=\\left(\\sum_{i=1}^{n}\\left|x_{i}\\right|^{p}\\right)^{1 / p}\n",
        "$\n",
        "\n",
        "* Bei der Betrachtung von [Umgebungen](https://de.wikipedia.org/wiki/Umgebung_(Mathematik)) (in Topologie) wird die Einheitskugel auch als 1-Kugel oder 1-Ball bezeichnet."
      ]
    },
    {
      "cell_type": "markdown",
      "metadata": {
        "id": "-IBw1G4RYqKN"
      },
      "source": [
        "**Normkugel bzw. Normsphäre**"
      ]
    },
    {
      "cell_type": "markdown",
      "metadata": {
        "id": "aKTnPyITYtdA"
      },
      "source": [
        "* Für einen gegebenen Vektor $x_{0} \\in V$ und einen Skalar $r \\in \\mathbb{K}$ mit $r>0$\n",
        "\n",
        "> heißt die Menge $\\left\\{x \\in V:\\left\\|x-x_{0}\\right\\|<r\\right\\}$ bzw. $\\left\\{x \\in V:\\left\\|x-x_{0}\\right\\| \\leq r\\right\\}$ [offene](https://de.wikipedia.org/wiki/Offene_Menge) bzw. [abgeschlossene](https://de.wikipedia.org/wiki/Abgeschlossene_Menge) **Normkugel** und \n",
        "\n",
        "> heißt die Menge $\\left\\{x \\in V:\\left\\|x-x_{0}\\right\\|=r\\right\\}$ heißt **Normsphäre** um $x_{0}$ mit Radius $r .$ \n",
        "\n",
        "* Jede [Normkugel](https://de.m.wikipedia.org/wiki/Norm_(Mathematik)#Normkugeln) bzw. Normsphäre **entsteht aus der entsprechenden Einheitskugel bzw. Einheitssphäre** durch Skalierung mit dem Faktor $r$ und Translation um den Vektor $x_{0}$.\n",
        "\n",
        "* **Norm = 1**: Diese [Einheitssphäre](https://de.wikipedia.org/wiki/Sphäre_(Mathematik)) (Oberflache der Kugel) ist der Rand der Einheitskugel, **im zweidimensionalen reellen Vektorraum mit der euklidischen Norm ist dies der [Einheitskreis](https://de.wikipedia.org/wiki/Einheitskreis)**. Die Einheitssphäre bildet somit den Rand der Einheitskugel.\n",
        "\n",
        "* **Norm < 1**: Die Menge der Vektoren **mit Norm kleiner als eins wird Einheitskugel des normierten Raums genannt**. Sie ist eine konvexe und zentralsymmetrische Menge, im Allgemeinen aber kein Ellipsoid, beispielsweise kann sie auch ein konvexer Polyeder sein. Die Parallelogrammgleichung ist in normierten Räumen im Allgemeinen nicht erfüllt, sie gilt aber für Vektoren in euklidischen Räumen, was daraus folgt, dass das Quadrat der euklidischen Norm eines Vektors dem Skalarprodukt mit sich selbst entspricht."
      ]
    },
    {
      "cell_type": "markdown",
      "metadata": {
        "id": "QwmusuE_vi8z"
      },
      "source": [
        "#### **Operatoren**"
      ]
    },
    {
      "cell_type": "markdown",
      "metadata": {
        "id": "4O-mEOh6SluW"
      },
      "source": [
        "##### **Operators**"
      ]
    },
    {
      "cell_type": "markdown",
      "metadata": {
        "id": "L1jPRLiHqR78"
      },
      "source": [
        "Solving het equation: https://youtu.be/ToIXSwZ1pJU"
      ]
    },
    {
      "cell_type": "markdown",
      "metadata": {
        "id": "Jk36BF1D1w6k"
      },
      "source": [
        "**Operatoren sind Abbildungen zwischen Funktionenräumen (um sie von den Elementen von Funktionenräumen zu unterscheiden, die Funktionen heissen).** \n",
        "\n",
        "* Ahnlich wie bei Funktoren, als strukturerhaltende Abbildung zwischen zwei Kategorien, in denen selbst Funktionen existieren).\n",
        "\n",
        "* Ein [Operator](https://de.wikipedia.org/wiki/Operator_(Mathematik)) ist eine mathematische Vorschrift, durch die man aus mathematischen Objekten neue Objekte bilden kann.\n",
        "\n",
        "* Er kann eine standardisierte Funktion oder eine Vorschrift über Funktionen sein. \n",
        "\n",
        "* In der Funktionalanalysis hat man es mit Vektorräumen zu tun, deren Elemente selbst Funktionen sind. Diese Räume nennt man auch [Funktionenräume](https://de.wikipedia.org/wiki/Funktionenraum). Um die Elemente (=Funktionen) dieser Vektorräume besser von den Abbildungen zwischen solchen Vektorräumen zu unterscheiden, nennt man letztere auch Operatoren. \n",
        "\n",
        "* Daher: **Abbildungen zwischen solchen Vektorräumen von Funktionen / Funktionenräumen bezeichnet man auch als Operatoren.**\n",
        "\n",
        "* Beispiele für Operatoren sind:\n",
        "\n",
        "  * Operatoren für die Grundrechenarten: +, -, *, /\n",
        "\n",
        "  * Funktionaloperatoren (im Sinne der Funktionalanalysis): $\\frac{d}{d x} \\int \\nabla$ grad div rot"
      ]
    },
    {
      "cell_type": "markdown",
      "metadata": {
        "id": "KX8x82Y91lKD"
      },
      "source": [
        "![cc](https://raw.githubusercontent.com/deltorobarba/repo/master/operator.png)\n",
        "\n",
        "[Image Source](https://me-lrt.de/operator-linear-beschrankt)"
      ]
    },
    {
      "cell_type": "markdown",
      "metadata": {
        "id": "q1A4i4rhFaBn"
      },
      "source": [
        "**Unterschied Operator und Funktion**: \n",
        "\n",
        "* Was den mathematischen Formalismus angeht, gibt es keinen Unterschied zwischen einem Operator und einer Funktion (und einer Abbildung). \n",
        "\n",
        "* Allerdings gibt es einen 'philosophischen' Unterschied: Operatoren werden meistens für zwei Typen von Funktionen verwendet: a) Grundlegende Rechenoperationen. b) **Funktionen, deren Argumente ebenfalls Funktionen sind**. c) Funktionen in der Meta-Ebene. Mehr dazu steht im bereits verlinkten Wikipedia-Artikel."
      ]
    },
    {
      "cell_type": "markdown",
      "metadata": {
        "id": "tmaM6aJEqabp"
      },
      "source": [
        "**Types of Operators**"
      ]
    },
    {
      "cell_type": "markdown",
      "metadata": {
        "id": "QhuKDq0EwC4H"
      },
      "source": [
        "**Lineare & nicht-lineare Operatoren**"
      ]
    },
    {
      "cell_type": "markdown",
      "metadata": {
        "id": "HiqVhXXPIGRN"
      },
      "source": [
        "[Lineare Operatoren](https://de.wikipedia.org/wiki/Linearer_Operator): In Funktionalanalysis betrachtet man Eigenschaften von Abbildungen zwischen (unendlichdimensionalen) Banachräumen. **Lineare Abbildungen heißen [lineare Operatoren](https://de.wikipedia.org/wiki/Lineare_Abbildung)**, nichtlineare Abbildungen werden nichtlineare Operatoren genannt.\n",
        "\n",
        "* Die Bedeutung linearer Operatoren besteht darin, dass sie die lineare Struktur des unterliegenden Raumes respektieren, d. h., sie sind Homomorphismen zwischen Vektorräumen [Source](https://de.wikipedia.org/wiki/Linearer_Operator)\n",
        "\n",
        "* Der Begriff linearer Operator wurde in der Funktionalanalysis (einem Teilgebiet der Mathematik) eingeführt und ist **synonym zum Begriff der linearen Abbildung**. Eine lineare Abbildung ist eine **strukturerhaltende Abbildung zwischen Vektorräumen über einem gemeinsamen Körper**. \n",
        "\n",
        "* Werden Vektorräume über dem Körper der reellen oder komplexen Zahlen betrachtet und sind diese mit einer Topologie versehen (lokalkonvexe Räume, normierte Räume, Banachräume), so spricht man vorzugsweise von linearen Operatoren.\n",
        "\n",
        "* **Anwendungen linearer Operatoren sind:**\n",
        "\n",
        "  * Die Beschreibung von Koordinatentransformationen im dreidimensionalen Euklidischen Raum (**Spiegelung, Drehung, Streckung**) und der [Lorentztransformation](https://de.wikipedia.org/wiki/Lorentz-Transformation) in der vierdimensionalen Raumzeit durch Matrizen.\n",
        "\n",
        "  * Die Entwicklung von Lösungstheorien für Differential- und Integralgleichungen, siehe Sobolew-Raum und Distribution.\n",
        "  \n",
        "  * Die Darstellung von Observablen in der Quantenmechanik und die Beschreibung der Dynamik eines quantenmechanischen Systems durch seinen Hamilton-Operator H in der Schrödingergleichung."
      ]
    },
    {
      "cell_type": "markdown",
      "metadata": {
        "id": "LsmBkA0uVtGx"
      },
      "source": [
        "**Operatornorm**"
      ]
    },
    {
      "cell_type": "markdown",
      "metadata": {
        "id": "3o1R4h0tV_Eh"
      },
      "source": [
        "* Eine [Operatornorm](https://de.wikipedia.org/wiki/Operatornorm) ist ein Objekt aus dem mathematischen Teilgebiet der Funktionalanalysis. Die Operatornorm verallgemeinert die Idee, einem Objekt eine Länge zuzuordnen, auf die Menge der linearen Operatoren. \n",
        "\n",
        "* Sind die zu betrachtenden Operatoren stetig, so ist die Operatornorm eine echte Norm, andernfalls kann die Operatornorm den Wert unendlich annehmen. Die Operatornorm einer linearen Abbildung zwischen endlichdimensionalen Vektorräumen ist nach Wahl einer Basis eine natürliche Matrixnorm.\n",
        "\n",
        "* Die Operatornorm besitzt neben den für Normen charakteristischen drei Eigenschaften **Definitheit**, **absolute Homogenität** und **Dreiecksungleichung** noch weitere:\n",
        "\n",
        "  * **Gültigkeit der fundamentalen Ungleichung**\n",
        "\n",
        "  * **Submultiplikativität**\n",
        "\n",
        "  * **Beschränktheit**: Die Operatornorm linearer Abbildungen zwischen endlichdimensionalen Vektorräumen ist stets endlich, da die Einheitskugel eine kompakte Menge ist. Somit ist im endlichdimensionalen Fall die Operatornorm immer eine echte Norm. Für unendlichdimensionale Vektorräume gilt dies nicht immer. Operatoren, deren Norm unendlich als Wert annimmt, werden unbeschränkt genannt. Auf Räumen mit solch unbeschränkten Operatoren ist die Operatornorm streng genommen keine echte Norm. Man kann zeigen, dass ein linearer Operator zwischen normierten Räumen genau dann eine endliche Operatornorm hat, wenn er beschränkt und damit stetig ist. Insbesondere wird dadurch der Raum der stetigen linearen Operatoren zu einem normierten Vektorraum.\n",
        "\n",
        "  * **Vollständigkeit**"
      ]
    },
    {
      "cell_type": "markdown",
      "metadata": {
        "id": "zLs-5VKnBfhz"
      },
      "source": [
        "**Beschränkte und unbeschränkte lineare Operatoren**"
      ]
    },
    {
      "cell_type": "markdown",
      "metadata": {
        "id": "gFyA9Gov_W78"
      },
      "source": [
        "[**Beschränkter Operator**](https://de.wikipedia.org/wiki/Beschränkter_Operator)\n",
        "\n",
        "* Im Gegensatz zu endlichdimensionalen Räumen, wo lineare Operatoren stets beschränkt sind, tauchen bei unendlichdimensionalen Räumen auch unbeschränkte lineare Operatoren auf.\n",
        "\n",
        "* Ein linearer Operator ist genau dann beschränkt, wenn er stetig ist, also eine der\n",
        "folgenden äquivalenten Bedingungen erfülit:\n",
        "\n",
        "  * falls $x_{n} \\rightarrow x,$ so gilt $T x_{n} \\rightarrow T x$ in der von der jeweiligen Norm induzierten\n",
        "Metrik,\n",
        "\n",
        "  * für alle $x_{0} \\in X$ und alle $\\epsilon>0$ gibt es ein $\\delta>0$ mit\n",
        "$\n",
        "\\left\\|x-x_{0}\\right\\|<\\delta \\Rightarrow\\left\\|T x-T x_{0}\\right\\|<\\epsilon\n",
        "$\n",
        "\n",
        "  * Urbilder offener Mengen sind offen.\n",
        "\n",
        "* Beschränkte lineare Operatoren werden deshalb oft als **stetige lineare Operatoren** bezeichnet. Wenn die Linearität vorausgesetzt wird, spricht man häufig auch nur von stetigen Operatoren oder beschränkten Operatoren. **Ist der Bildraum der Skalarenkörper, sagt man Funktional statt Operator.**"
      ]
    },
    {
      "cell_type": "markdown",
      "metadata": {
        "id": "13D6ESkWhld6"
      },
      "source": [
        "**Unbeschränkte lineare Operatoren auf Hilberträumen**:\n",
        "\n",
        "* lässt man oft auch Operatoren zu, deren Definitionsbereich (Domäne) lediglich ein Unterraum des betrachteten Raumes ist, so lässt man als Definitionsbereich auch einen Prähilbertraum als Teilraum eines Hilbertraums zu, präziser spricht man dann von dicht definierten unbeschränkten linearen Operatoren (s. u.). Der Operator wird als **partielle Abbildung** aufgefasst.\n",
        "\n",
        "* **Differential- und Multiplikationsoperatoren sind i. A. unbeschränkt.** (Viele Anwendungsbeispiele werden durch unbeschränkte Operatoren beschrieben (z.B. Differentialoperatoren). Während beschränkte Operatoren auf dem ganzen Hilbertraum H definiert sind, werden unbeschränkte Operatoren immer auf einem Definitionsbereich D(T ) ⊂ H betrachtet.)\n",
        "\n",
        "* Die Darstellung von Observablen der Quantenmechanik erfordert unbeschränkte lineare Operatoren, da die den Observablen zugeordneten Operatoren i. A. unbeschränkt sind.\n",
        "\n",
        "* Der [Laplace-Operator](https://de.wikipedia.org/wiki/Laplace-Operator) (=linearen Differentialoperator) $\\Delta \\colon D(\\Delta )\\to L^{2}(\\mathbb{R} ^{n})$ ist ein unbeschränkter Operator."
      ]
    },
    {
      "cell_type": "markdown",
      "metadata": {
        "id": "LMVGH4LI1BU-"
      },
      "source": [
        "**Selbstadjungierte & symmetrische Operatoren**"
      ]
    },
    {
      "cell_type": "markdown",
      "metadata": {
        "id": "sMFqLOTn1DYx"
      },
      "source": [
        "* Sei $H$ ein Hilbertraum. Ein linearer Operator $T: D(T) \\rightarrow H$ heißt symmetrisch bzw. selbstadjungiert, falls\n",
        "\n",
        "> $\\langle T y, x\\rangle=\\langle y, T x\\rangle$\n",
        "\n",
        "* Der [selbstadjungierte Operator](https://de.wikipedia.org/wiki/Selbstadjungierter_Operator) ist eine Verallgemeinerung der selbstadjungierten Matrix. Siehe auch [Adjungierter_Operator](https://de.m.wikipedia.org/wiki/Adjungierter_Operator)\n",
        "\n",
        "* ein [symmetrischer Operator](https://de.wikipedia.org/wiki/Symmetrischer_Operator) ist ein **linearer Operator** und wird in der Funktionalanalysis im Kontext **unbeschränkter Operatoren** betrachtet\n",
        "\n",
        "* ein **beschränkter symmetrischer Operator ist ein selbstadjungierter Operator**.\n",
        "\n",
        "* **Unterschiede:**\n",
        "\n",
        "  * Symmetrische Operatoren koennen auch nicht-reelle Eigenwerte haben (im Gegensatz zu den selbstadjungierten Operatoren)\n",
        "\n",
        "  * Bei symmetrischen Operatoren wird nicht gefordert, dass der Operator $T$ dicht definiert sein muss (im Gegensatz zum selbstadjungierten Operator)\n",
        "\n",
        "  * Ist $T$ dicht definiert (und damit der adjungierte Operator wohl definiert), so ist $T$ genau dann symmetrisch, wenn $T\\subseteq T^{*}$ gilt.\n",
        "\n",
        "  * Nur fur selbstadjungierten Operatoren kann eine Spektralzerlegung gezeigt werden \n",
        "  \n",
        "  * Für beschränkte Operatoren fallen die Begriffe selbstadjungiert und symmetrisch zusammen (daher sind symmetrische, nicht selbstadjungierte Operatoren immer unbeschränkt)"
      ]
    },
    {
      "cell_type": "markdown",
      "metadata": {
        "id": "13h_Mle0qiRs"
      },
      "source": [
        "**Spezielle Klassen von Operatoren sind etwa [kompakte Operatoren](https://de.wikipedia.org/wiki/Kompakter_Operator) oder [Fredholm-Operatoren](https://de.wikipedia.org/wiki/Fredholm-Operator).**"
      ]
    },
    {
      "cell_type": "markdown",
      "metadata": {
        "id": "3qRI2jKxCb6M"
      },
      "source": [
        "**Operatortopologie**"
      ]
    },
    {
      "cell_type": "markdown",
      "metadata": {
        "id": "vb6xhMMlAi_p"
      },
      "source": [
        "* [Operatortopologien](https://de.m.wikipedia.org/wiki/Operatortopologie) sindverschiedene Topologien auf dem Raum der stetigen, linearen Operatoren auf einem Hilbertraum. "
      ]
    },
    {
      "cell_type": "markdown",
      "metadata": {
        "id": "O3mIl8Xj8Dfs"
      },
      "source": [
        "##### **Spektrum**"
      ]
    },
    {
      "cell_type": "markdown",
      "metadata": {
        "id": "glNtHGj8poRr"
      },
      "source": [
        "https://youtu.be/Mx75Kiqyaik"
      ]
    },
    {
      "cell_type": "markdown",
      "metadata": {
        "id": "Q6m56NkK3cuG"
      },
      "source": [
        "**Definition Spektrum**\n",
        "\n",
        "Das Spektrum eines Operators $T$ ist die Menge aller Elemente $\\lambda$ des Zahlenkörpers (meistens die komplexen Zahlen), für die die Differenz des Operators mit dem $\\lambda$ -fachen der identischen Abbildung\n",
        "\n",
        "> $T-\\lambda$ id\n",
        "\n",
        "nicht beschränkt-invertierbar ist, das heißt, dass es keine Inverse gibt oder diese nicht beschränkt sind.\n",
        "Das Spektrum des Operators wird mit $\\sigma(T)$ bezeichnet und die Elemente des Spektrums heißen Spektralwerte."
      ]
    },
    {
      "cell_type": "markdown",
      "metadata": {
        "id": "Zv6ohvyV6XhD"
      },
      "source": [
        "**Beispiel: Matrixen in der linearen Algebra**\n",
        "\n",
        "In der linearen Algebra bilden die nxn-Matrizen mit komplexen Einträgen eine Algebra bezüglich der üblichen Addition und Skalarmultiplikation (komponentenweise) sowie der Matrizenmultiplikation. Die $(n \\times n)$ -Matrizen können daher sowohl als Beispiel für eigentliche Operatoren in ihrer Eigenschaft als lineare Abbildungen des $\\mathbb{C}^{n} \\rightarrow \\mathbb{C}^{n}$ angesehen werden, als auch als Beispiel einer Operatoralgebra, wobei es in diesem Kontext unerheblich ist, welche Operatornorm für die Matrizen gewählt wird. Da alle linearen Abbildungen eines endlichdimensionalen Raumes auf sich automatisch beschränkt sind, kann dieser Begriff in der Definition hier außer Acht gelassen werden.\n",
        "\n",
        "* Eine Matrix $A$ ist invertierbar, wenn es eine Matrix $B$ gibt, so dass $A \\cdot B=B \\cdot A=I$ ([Einheitsmatrix](https://de.wikipedia.org/wiki/Einheitsmatrix)) ist. Dies ist genau dann der Fall, wenn die Determinante nicht verschwindet: det $A \\neq 0$. \n",
        "\n",
        "  * Sei $\n",
        "A=\\left(\\begin{array}{ll}\n",
        "a & b \\\\\n",
        "c & d\n",
        "\\end{array}\\right)\n",
        "$ ist eine $2 \\times 2$ -Matrix.\n",
        "\n",
        "  * Die Determinante $D(A)$ (bzw. $\\operatorname{det}(A)$ oder $\\operatorname{Det}(A)$ ) von $A$ ist gleich $a d-b c$ also:\n",
        "\n",
        "  * $\n",
        "\\operatorname{Det}(A)=\\left|\\begin{array}{cc}\n",
        "a & b \\\\\n",
        "c & d\n",
        "\\end{array}\\right|=a d-b c\n",
        "$\n",
        "\n",
        "* **Daher ist eine Zahl $z \\in \\mathbb{C}$ dann ein Spektralwert, wenn $\\operatorname{det}(A-z I)=0$ gilt, also wenn die Determinante verschwindet, was bedeutet, dass keine Invertierbarkeit vorliegt.**\n",
        "\n",
        "* Da dies aber gerade das charakteristische Polynom der Matrix $A$ in $z$ ist, ist $z$ genau dann ein Spektralwert, wenn $z$ ein Eigenwert der Matrix ist. \n",
        "\n",
        "* **In der linearen Algebra bezeichnet das Spektrum einer Matrix daher die Menge der Eigenwerte.**"
      ]
    },
    {
      "cell_type": "markdown",
      "metadata": {
        "id": "OT7QeqIZ7XXu"
      },
      "source": [
        "**Beispiel: Funktionen**\n",
        "\n",
        "Die stetigen Funktionen auf dem Intervall [0,1] mit Werten in den komplexen Zahlen ( C bilden (z. B. mit der Supremumsnorm als Norm, die hier aber nicht von\n",
        "Belang ist) eine Banachalgebra, wobei die Summe zweier Funktionen und das\n",
        "Produkt zweier Funktionen punktweise definiert wird:\n",
        "\n",
        "$\n",
        "(f+g)(x)=f(x)+g(x) \\quad(f \\cdot g)(x)=f(x) \\cdot g(x)\n",
        "$\n",
        "\n",
        "Eine Funktion $f$ heißt dann in dieser Algebra invertierbar, wenn es eine andere Funktion $g$ gibt, so dass $f \\cdot g(=g \\cdot f)=1$ (Einsfunktion) ist, das heißt, wenn es\n",
        "eine Funktion $g$ gibt, deren Werte gerade die Kehrwerte von $f$ sind. Man sieht nun schnell ein, dass **eine Funktion genau dann invertierbar ist, wenn sie nicht den\n",
        "Funktionswert 0 besitzt** und die Inverse in diesem Fall punktweise die inversen\n",
        "Funktionswerte (Kehrwerte) der ursprünglichen Funktion besitzt:\n",
        "\n",
        "> $\n",
        "f^{-1}(x)=(f(x))^{-1}=1 / f(x), \\text { wenn } f(x) \\neq 0 \\text { überall. }\n",
        "$\n",
        "\n",
        "**Eine Zahl $z \\in \\mathbb{C}$ ist also ein Spektralwert, wenn die Funktion $f-z$ nicht invertierbar ist, also den Funktionswert 0 besitzt**. Dies ist natürlich genau dann der Fall, wenn $z$ ein Funktionswert von $f$ ist. **Das Spektrum einer Funktion ist daher\n",
        "genau ihr Bild.**"
      ]
    },
    {
      "cell_type": "markdown",
      "metadata": {
        "id": "w8seR9FL2hAy"
      },
      "source": [
        "**Die Spektraltheorie linearer Operatoren aus der Funktionalanalysis ist eine Verallgemeinerung der [Eigenwerttheorie](https://de.wikipedia.org/wiki/Eigenwertproblem) aus der linearen Algebra.**"
      ]
    },
    {
      "cell_type": "markdown",
      "metadata": {
        "id": "O_uHYcseDMNq"
      },
      "source": [
        "* Das [Spektrum](https://de.wikipedia.org/wiki/Spektrum_(Operatortheorie)) eines linearen Operators ist ein Begriff aus der Funktionalanalysis, einem Teilgebiet der Mathematik. \n",
        "\n",
        "* In der endlichdimensionalen linearen Algebra betrachtet man Endomorphismen, die durch Matrizen dargestellt werden, und ihre Eigenwerte. Die Verallgemeinerung ins Unendlichdimensionale wird in der Funktionalanalysis betrachtet. \n",
        "\n",
        "* **Das Spektrum eines Operators kann man sich als Menge verallgemeinerter Eigenwerte vorstellen. Diese werden Spektralwerte genannt.**"
      ]
    },
    {
      "cell_type": "markdown",
      "metadata": {
        "id": "av1H5O1y1snw"
      },
      "source": [
        "Sei $A \\in \\mathcal{L}(\\mathcal{H})$. Eine Zahl $\\lambda \\in \\mathbb{C}$ heißt ein **Eigenwert** von $A$, wenn es einen Vektor $x$ $\\in$ $\\mathcal{H} \\backslash\\{0\\}$ gibt mit\n",
        "\n",
        "$\n",
        "A x=\\lambda x\n",
        "$\n",
        "\n",
        "Der Vektor $x$ heißt dann **Eigenvektor** von $A$ zum Eigenwert $\\lambda$. \n",
        "\n",
        "Der Vektorraum $N(A-\\lambda I)$ heißt der Eigenraum von A zum Eigenwert $\\lambda$,\n",
        "\n",
        "> $\n",
        "P_{\\{\\lambda\\}}:=P_{N(A-\\lambda I)}\n",
        "$\n",
        "\n",
        "die zu $\\lambda$ gehörende **Eigenprojektion**."
      ]
    },
    {
      "cell_type": "markdown",
      "metadata": {
        "id": "AmVA59p82Qqs"
      },
      "source": [
        "https://www.uni-math.gwdg.de/mkohlma/Documents/VL_WS16_17.pdf"
      ]
    },
    {
      "cell_type": "markdown",
      "metadata": {
        "id": "ldllxRzY3N3H"
      },
      "source": [
        "**Zusammenhang der Spektraltheorie mit der Eigenwerttheorie**\n",
        "\n",
        "* Die Spektraltheorie linearer Operatoren aus der Funktionalanalysis ist eine Verallgemeinerung der Eigenwerttheorie aus der linearen Algebra. \n",
        "\n",
        "* In der linearen Algebra werden Endomorphismen auf endlichdimensionalen Vektorräumen betrachtet. Die Zahlen $\\lambda \\in \\mathbb{C},$ für die die Gleichung\n",
        "\n",
        "> $\n",
        "A x=\\lambda x\n",
        "$\n",
        "\n",
        "Lösungen $x \\neq 0,$ also ungleich dem Nullvektor, hat, werden Eigenwerte genannt, wobei $A$ eine Darstellungsmatrix des gewählten Endomorphismus ist. \n",
        "\n",
        "* Eigenwerte sind also Zahlen $\\lambda,$ für die das Inverse $(A-\\lambda I)^{-1}$ mit der Einheitsmatrix $I$ nicht existiert, das heißt, die Matrix $A-\\lambda I$ nicht bijektiv ist. Das ist im Endlichdimensionalen damit gleichzusetzen, dass der Endomorphismus nicht injektiv und damit auch nicht surjektiv sind. \n",
        "\n",
        "* Betrachtet man jedoch unendlichdimensionale Räume, so ist es notwendig zu unterscheiden, ob der Operator $(A-\\lambda I)$ invertierbar, nicht iniektiv und/oder nicht suriektiv ist. Im unendlichdimensionalen Fall folgt aus der Injektivität eines Endomorphismus nicht automatisch die Suriektivität, wie dies im endlichdimensionalen Fall ist. Im Folgenden wird der Begriff Spektrum in der Funktionalanalysis erlăutert."
      ]
    },
    {
      "cell_type": "markdown",
      "metadata": {
        "id": "7anvv0k7qOr4"
      },
      "source": [
        "##### **Operatoralgebren**"
      ]
    },
    {
      "cell_type": "markdown",
      "metadata": {
        "id": "XBT6dfRP9P6X"
      },
      "source": [
        "**Operatoralgebra (Banach-, C<sup>*</sup>- und W<sup>*</sup>-Algebren)**"
      ]
    },
    {
      "cell_type": "markdown",
      "metadata": {
        "id": "2CUO12L19ARp"
      },
      "source": [
        "* [Operatoralgebren](https://de.m.wikipedia.org/wiki/Operatoralgebra) sind  **Verallgemeinerungen der [Matrizenalgebren](http://www-hm.ma.tum.de/ws0607/ei1/folien/Folie_11_RechnenMitMatrizen.pdf)** der linearen Algebra\n",
        "\n",
        "* Sind $E, F, G$ normierte Räume und $A: E \\rightarrow F$ und $B: F \\rightarrow G$ stetige, lineare Operatoren, so ist auch deren Komposition ein stetiger, linearer Operator $B \\circ A: E \\rightarrow G,$ und für die Operatornormen gilt $\\|B \\circ A\\| \\leq\\|B\\| \\cdot\\|A\\| .$ \n",
        "\n",
        "* Daher wird der Raum $L(E)$ der stetigen, linearen Operatoren von $E$ in sich mit der Komposition als Multiplikation zu einer normierten Algebra, die bei vollständiaem $E$ sogar eine Banachalgebra ist.\n",
        "\n",
        "* Diese Algebren und ihre Unteralgebren nennt man Operatoralgebren, wobei der Fall, dass $E$ ein Hilbertraum ist, besonders intensiv untersucht wird. "
      ]
    },
    {
      "cell_type": "markdown",
      "metadata": {
        "id": "KtqhC3TW97-U"
      },
      "source": [
        "**Banachalgebren als Operatoralgebren**\n",
        "\n",
        "* Jede normierte Algebra $\\mathcal{A}$ kann als Operatoralgebra dargestellt werden. \n",
        "\n",
        "* Die sogenannte linksreguläre Darstellung von $\\mathcal{A},$ die jedem Element $A$ den Operator $\\ell_{A} \\in L(\\mathcal{A})$ zuordnet, wobei $\\ell_{A}(B):=A B$, ist ein isometrischer Homomorphismus, falls $\\mathcal{A}$ ein Einselement besitzt. Ist kein Einselement vorhanden, so adjungiere man eines.\n",
        "\n",
        "* Welche Homomorphismen von einer Banachalgebra in eine Operatoralgebra existieren, wird in der Darstellungstheorie untersucht. \n",
        "\n",
        "* Ein besonderes Interesse gilt dabei **Darstellungen auf Hilberträumen**, das heißt Homomorphismen in die Operatoralgebra über einem Hilbertraum, was zu den Begriffen **Von-Neumann-Algebra und C*-Algebra** führt.\n",
        "\n",
        "* Operatoralgebren über Banachräumen, speziell über Hilberträumen, erlauben die Einführung zusätzlicher Topologien wie etwa die **starke oder schwache Operatortopologie**, wobei gerade letzterer wegen der Kompaktheit der Einheitskugel eine besondere Bedeutung zukommt."
      ]
    },
    {
      "cell_type": "markdown",
      "metadata": {
        "id": "kvV9g-7G_a0Y"
      },
      "source": [
        "**Banach-Algebren**"
      ]
    },
    {
      "cell_type": "markdown",
      "metadata": {
        "id": "ij2aZqcn6EgP"
      },
      "source": [
        "* [Banachalgebren](https://de.wikipedia.org/wiki/Banachalgebra), siehe auch [hier](https://mathepedia.de/Banachalgebra.html), sind mathematische **Objekte der Funktionalanalysis**, die einige wesentliche Eigenschaften mit bekannten Funktionenräumen (z. B. Mengen stetiger oder integrierbarer Funktionen) gemeinsam haben, und deren Verallgemeinerung sie daher sind.\n",
        "\n",
        "* Eine Banachalgebra ist ein Vektorraum, in dem auch ein Produkt und eine Norm so definiert sind, dass gewisse Verträglichkeitsbedingungen erfüllt sind."
      ]
    },
    {
      "cell_type": "markdown",
      "metadata": {
        "id": "SDpB4mwPSGuP"
      },
      "source": [
        "https://mathepedia.de/Banachalgebra.html"
      ]
    },
    {
      "cell_type": "markdown",
      "metadata": {
        "id": "bj9TI7MYBxsD"
      },
      "source": [
        "**C*-Algebren**"
      ]
    },
    {
      "cell_type": "markdown",
      "metadata": {
        "id": "pmO_u2zYzLWp"
      },
      "source": [
        "A C* algebra is an algebra (over $C$), \n",
        "* algebra: you have a vector space and you can multiply the vectors as well, and that multiplication is distributive over that vector addition. \n",
        "\n",
        "* It's an algebra with an involution * : A -> A (you can to where you started if you apply it twice), \n",
        "\n",
        "* because it's and involution, it's also an anti-homomorphism. If you have two elements a1 and a2 from A and then you take their star (a1,a2)* = a2*a1* (applied to the other direction)\n",
        "\n",
        "* and has a norm ||.|| : A -> $\\mathbb{R}$ satisfying several conditions"
      ]
    },
    {
      "cell_type": "markdown",
      "metadata": {
        "id": "eCjzoeeYyHAA"
      },
      "source": [
        "https://www.youtube.com/watch?v=NbgpY0hkFi0"
      ]
    },
    {
      "cell_type": "markdown",
      "metadata": {
        "id": "uVno5eLEFD31"
      },
      "source": [
        "* [C*-Algebren](https://de.wikipedia.org/wiki/C*-Algebra) sind eine Abstraktion der beschränkten linearen Operatoren auf einem Hilbertraum, sie spielen daher in der mathematischen Beschreibung der Quantenmechanik eine Rolle.\n",
        "\n",
        "* C<sup>*</sup>-Algebren **sind spezielle Banachalgebren**, bei denen ein enger Zusammenhang zwischen algebraischen und topologischen Eigenschaften besteht; die Kategorie der lokalkompakten Räume erweist sich als äquivalent zur Kategorie der kommutativen C<sup>*</sup>-Algebren, daher wird die **Theorie der C<sup>*</sup>-Algebren auch als nichtkommutative Topologie** angesehen. \n",
        "\n",
        "* Sofern eine solche nichtkommutative Topologie von einer Metrik induziert wird, wird diese durch das relativ neue Forschungsfeld der nichtkommutativen Geometrie erfasst,"
      ]
    },
    {
      "cell_type": "markdown",
      "metadata": {
        "id": "czZ_JpboBnHf"
      },
      "source": [
        "**W*-Algebren (Von-Neumann-Algebra)**"
      ]
    },
    {
      "cell_type": "markdown",
      "metadata": {
        "id": "_MvZ6ZoTBt1c"
      },
      "source": [
        "* [Von-Neumann-Algebra](https://de.m.wikipedia.org/wiki/Von-Neumann-Algebra) ist eine \n",
        "mathematische Struktur in der Funktionalanalysis\n",
        "\n",
        "* Jede Von-Neumann-Algebra ist eine C*-Algebra und somit auch eine Banachalgebra.\n",
        "\n",
        "* Von-Neumann-Algebren enthalten sehr viele Orthogonalprojektionen; jeder Operator ist in der Normtopologie Limes von Linearkombinationen von Orthogonalprojektionen. Dies ist ein wesentlicher Unterschied zu den C*-Algebren"
      ]
    },
    {
      "cell_type": "markdown",
      "metadata": {
        "id": "CTJe36-LbQhm"
      },
      "source": [
        "**C* und W*-dynamische Systeme**"
      ]
    },
    {
      "cell_type": "markdown",
      "metadata": {
        "id": "11y4fH_0bBJ7"
      },
      "source": [
        "[C<sup>*</sup>-dynamische Systeme](https://de.wikipedia.org/wiki/C*-dynamisches_System) werden im mathematischen Teilgebiet der Funktionalanalysis untersucht. Es handelt sich um eine Konstruktion, mit der man aus einer C<sup>*</sup>-Algebra und einer lokalkompakten Gruppe, die in gewisser Weise auf der C<sup>*</sup>-Algebra operiert, eine neue C<sup>*</sup>-Algebra gewinnt. Diese Konstruktion verallgemeinert die klassischen dynamischen Systeme, bei denen die Gruppe der ganzen Zahlen auf einem kompakten Hausdorffraum operiert. Der Prototyp eines C<sup>*</sup>-dynamischen Systems ist die irrationale Rotationsalgebra.\n"
      ]
    },
    {
      "cell_type": "markdown",
      "metadata": {
        "id": "--jG_vUDa6Gl"
      },
      "source": [
        "https://de.wikipedia.org/wiki/W*-dynamisches_System"
      ]
    },
    {
      "cell_type": "markdown",
      "metadata": {
        "id": "QnyyroR0a8jB"
      },
      "source": [
        "https://de.wikipedia.org/wiki/Irrationale_Rotationsalgebra"
      ]
    },
    {
      "cell_type": "markdown",
      "metadata": {
        "id": "UBGlUuYsYwrV"
      },
      "source": [
        "**Spur**"
      ]
    },
    {
      "cell_type": "markdown",
      "metadata": {
        "id": "7QwX8vJoYzb3"
      },
      "source": [
        "https://de.wikipedia.org/wiki/Spur_(Mathematik)"
      ]
    },
    {
      "cell_type": "markdown",
      "metadata": {
        "id": "mBull6DKqU-H"
      },
      "source": [
        "##### **Integral- & Differentialoperator**"
      ]
    },
    {
      "cell_type": "markdown",
      "metadata": {
        "id": "8mOs339CCqaB"
      },
      "source": [
        "**Differential- & Nabla-Operator**"
      ]
    },
    {
      "cell_type": "markdown",
      "metadata": {
        "id": "LMHo3RHvGuC9"
      },
      "source": [
        "Der [**Nabla Operator**](https://de.wikipedia.org/wiki/Nabla-Operator) $\\nabla$ ist ein Symbol, das in der Vektor- und Tensoranalysis benutzt wird, **um kontextabhängig einen der drei Differentialoperatoren Gradient, Divergenz oder Rotation zu notieren**. Es ist zur Bestimmung des Gradienten einer mehrdimensionalen Funktion. Mit einem der drei Differentialoperatoren [Gradient](https://de.wikipedia.org/wiki/Gradient_(Mathematik)) (Anwendung im [Gradientenverfahren](https://de.wikipedia.org/wiki/Gradientenverfahren) in der Numerik), [Divergenz](https://de.wikipedia.org/wiki/Divergenz_eines_Vektorfeldes) oder [Rotation](https://de.wikipedia.org/wiki/Rotation_eines_Vektorfeldes) "
      ]
    },
    {
      "cell_type": "markdown",
      "metadata": {
        "id": "7djS_WIYEDqk"
      },
      "source": [
        "https://www.youtube.com/watch?v=YW-bUVIOpB0&t=51s"
      ]
    },
    {
      "cell_type": "markdown",
      "metadata": {
        "id": "qp0fCUaACtzz"
      },
      "source": [
        "* **Differential**: Der [**Differentialoperator**](https://de.wikipedia.org/wiki/Differentialoperator) $\\frac{\\mathrm{d}}{\\mathrm{d} x}$ zur Bildung von [Differentialen](https://de.wikipedia.org/wiki/Differential_(Mathematik)) (ist eine Funktion, die einer Funktion eine Funktion zuordnet und die Ableitung nach einer oder mehreren Variablen enthält.)\n",
        "\n",
        "* [**Nabla Operator**](https://de.wikipedia.org/wiki/Nabla-Operator) $\\nabla$ zur Bestimmung des Gradienten einer mehrdimensionalen Funktion. Mit einem der drei **Differentialoperatoren**.\n",
        "\n",
        "* Der [**Differentialoperator**](https://de.wikipedia.org/wiki/Differentialoperator) $\\frac{\\mathrm{d}}{\\mathrm{d} x}$ zur Bildung von [Differentialen](https://de.wikipedia.org/wiki/Differential_(Mathematik)) (ist eine Funktion, die einer Funktion eine Funktion zuordnet und die Ableitung nach einer oder mehreren Variablen enthält.)\n",
        "  * [Gradient](https://de.wikipedia.org/wiki/Gradient_(Mathematik)): Gibt die Richtung und Stärke des steilsten Anstiegs eines Skalarfeldes an. Der Gradient eines Skalarfeldes ist ein Vektorfeld. $\\operatorname{grad} \\phi:=\\vec{\\nabla} \\phi=\\left(\\begin{array}{c}\\frac{\\partial \\phi}{\\partial x} \\\\ \\frac{\\partial \\phi}{\\partial y} \\\\ \\frac{\\partial \\phi}{\\partial z}\\end{array}\\right)$\n",
        "  * [Divergenz](https://de.wikipedia.org/wiki/Divergenz_eines_Vektorfeldes): Gibt die Tendenz eines Vektorfeldes an, von Punkten wegzufließen. $\\operatorname{div} \\vec{F}:=\\vec{\\nabla} \\cdot \\vec{F}=\\frac{\\partial F_{x}}{\\partial x}+\\frac{\\partial F_{y}}{\\partial y}+\\frac{\\partial F_{z}}{\\partial z}$\n",
        "  * [Rotation](https://de.wikipedia.org/wiki/Rotation_eines_Vektorfeldes): Gibt die Tendenz eines Vektorfeldes an, um Punkte zu rotieren. $\\operatorname{rot} \\vec{F}:=\\vec{\\nabla} \\times \\vec{F}=\\left(\\begin{array}{c}\\frac{\\partial F_{z}}{\\partial y}-\\frac{\\partial F_{y}}{\\partial z} \\\\ \\frac{\\partial F_{x}}{\\partial z}-\\frac{\\partial F_{z}}{\\partial x} \\\\ \\frac{\\partial F_{y}}{\\partial x}-\\frac{\\partial F_{x}}{\\partial y}\\end{array}\\right)$\n",
        "\n",
        "* **Diese drei Rechenoperationen sind in der Vektoranalysis von besonderer Bedeutung**, weil sie Felder produzieren, die sich bei räumlicher Drehung des ursprünglichen Feldes mitdrehen. Operativ formuliert: Bei Gradient, Rotation und Divergenz spielt es keine Rolle, ob sie vor oder nach einer Drehung angewendet werden. Diese Eigenschaft folgt aus den **koordinatenunabhängigen** Definitionen. "
      ]
    },
    {
      "cell_type": "markdown",
      "metadata": {
        "id": "1wrniQU1bLt1"
      },
      "source": [
        "https://www.youtube.com/watch?v=rB83DpBJQsE"
      ]
    },
    {
      "cell_type": "markdown",
      "metadata": {
        "id": "xBPV5D-uD_b7"
      },
      "source": [
        "**Pseudodifferentialoperatoren**"
      ]
    },
    {
      "cell_type": "markdown",
      "metadata": {
        "id": "XM42Ynw8D-JR"
      },
      "source": [
        "* Die [Pseudodifferentialoperatoren](https://de.wikipedia.org/wiki/Pseudodifferentialoperator) sind eine Verallgemeinerung von Differentialoperatoren. Sie ermöglichen, aufbauend auf dem Grundbegriff der Distribution und auf der Fouriertransformation, ein ganz neues Verständnis für die Lösung partieller Differen- tialgleichungen."
      ]
    },
    {
      "cell_type": "markdown",
      "metadata": {
        "id": "bwYpnVOwaix_"
      },
      "source": [
        "**Integraloperator**"
      ]
    },
    {
      "cell_type": "markdown",
      "metadata": {
        "id": "SUufrzvG0k9U"
      },
      "source": [
        "https://de.wikipedia.org/wiki/Integraloperator"
      ]
    },
    {
      "cell_type": "markdown",
      "metadata": {
        "id": "A3vStkeCs5C0"
      },
      "source": [
        "https://www.biancahoegel.de/mathe/operator/integraloperator.html"
      ]
    },
    {
      "cell_type": "markdown",
      "metadata": {
        "id": "BT7Om_iXSlcA"
      },
      "source": [
        "* **Integral**: Der [**Volterraoperator**](https://de.wikipedia.org/wiki/Integraloperator#Volterraoperator) $\\int_{0}^{t}$ zur Bildung des [bestimmten Integrals](https://de.wikipedia.org/wiki/Integralrechnung) (ist ein Beispiel fur einen [Integraloperator](https://de.wikipedia.org/wiki/Integraloperator). Operatoren wie diese, die einer Funktion eine Zahl zuordnen, nennt man [Funktional](https://de.wikipedia.org/wiki/Funktional).\n",
        "\n",
        "  * Die Fourier-Transformation ${\\mathcal {F}}$ ist z.B. ein **linearer Operator** (siehe unten). \n",
        "  \n",
        "* Ein [linearer Integraloperator](https://de.wikipedia.org/wiki/Integraloperator) ist ein mathematisches Objekt aus der Funktionalanalysis. Dieses Objekt ist ein linearer Operator, der mit einer bestimmten Integralschreibweise mit einem Integralkern dargestellt werden kann."
      ]
    },
    {
      "cell_type": "markdown",
      "metadata": {
        "id": "7cOvYI6xr_fl"
      },
      "source": [
        "##### ****Integraltransformationen****"
      ]
    },
    {
      "cell_type": "markdown",
      "metadata": {
        "id": "68omXsiyr8wB"
      },
      "source": [
        "Einige Integraloperatoren nennt man traditionell eher [Integraltransformationen](https://de.wikipedia.org/wiki/Integraloperator#Integraltransformationen). Sie spielen zum Beispiel in der Signalverarbeitung eine wesentliche Rolle und dienen der besseren Handhabe und Analyse des Informationsgehaltes eines Signals x.\n",
        "\n",
        "  * [Fourier-Transformation](https://de.m.wikipedia.org/wiki/Fourier-Transformation)\n",
        "\n",
        "  * [Laplace-Transformation](https://de.m.wikipedia.org/wiki/Laplace-Transformation)"
      ]
    },
    {
      "cell_type": "markdown",
      "metadata": {
        "id": "a1O3GLIzydbX"
      },
      "source": [
        "Exkurs: siehe [Liste von Transformationen in der Mathematik](https://de.wikipedia.org/wiki/Liste_von_Transformationen_in_der_Mathematik)"
      ]
    },
    {
      "cell_type": "markdown",
      "metadata": {
        "id": "CVio9HDr8sQL"
      },
      "source": [
        "**Integraltransformationen**"
      ]
    },
    {
      "cell_type": "markdown",
      "metadata": {
        "id": "9CK7lhFotFU6"
      },
      "source": [
        "**Uncertainty Principle**"
      ]
    },
    {
      "cell_type": "markdown",
      "metadata": {
        "id": "9GbLrP_B1TV7"
      },
      "source": [
        "https://www.youtube.com/watch?v=MBnnXbOM5S4"
      ]
    },
    {
      "cell_type": "markdown",
      "metadata": {
        "id": "Zq2O_fzItHn5"
      },
      "source": [
        "![cc](https://raw.githubusercontent.com/deltorobarba/repo/master/fourier_01.PNG)"
      ]
    },
    {
      "cell_type": "markdown",
      "metadata": {
        "id": "sMbY7VJbtL7P"
      },
      "source": [
        "![cc](https://raw.githubusercontent.com/deltorobarba/repo/master/fourier_02.png)"
      ]
    },
    {
      "cell_type": "markdown",
      "metadata": {
        "id": "zIjxp_eItPpd"
      },
      "source": [
        "* short signal correlate with a wide range of frequencies, and only wide signals correlate with a short range of frequencies (denser probability)\n",
        "\n",
        "* Fourier transform gives a way to view any signal not only in terms of intensity at each point in time, but instead in terms of strengths of various frequencies within it.\n",
        "\n",
        "* Fourier transform: follow the center of mass of the wound-up graph within frequency F, the position of that center of mass encodes the strengths of that frequency in the original signal\n",
        "\n",
        "* the distance between that center of mass and origin captures the strengths of that frequency and the angle of that center of mass (the horizontal / sine-values at y-axes / imaginary numbers) corresponds to the phase of the given frequency.\n",
        "\n",
        "https://blogs.arubanetworks.com/industries/frequency-cycle-wavelength-amplitude-and-phase/"
      ]
    },
    {
      "cell_type": "markdown",
      "metadata": {
        "id": "k7PjHTH-unrj"
      },
      "source": [
        "![cc](https://raw.githubusercontent.com/deltorobarba/repo/master/fourier_04.png)"
      ]
    },
    {
      "cell_type": "markdown",
      "metadata": {
        "id": "aN6vBU4HupqB"
      },
      "source": [
        "* this graph above says that the dominant frequency of this signal is at 5 beats per second.\n",
        "\n",
        "* equally importantly (the graph below) the fact that it's a little spread out around that five is an indication that pure sine waves near 5 beats per second also correlate pretty well with the signal - that is key for the uncertainty principle !!"
      ]
    },
    {
      "cell_type": "markdown",
      "metadata": {
        "id": "oCo8rXxoukot"
      },
      "source": [
        "![cc](https://raw.githubusercontent.com/deltorobarba/repo/master/fourier_03.png)"
      ]
    },
    {
      "cell_type": "markdown",
      "metadata": {
        "id": "PGuAdWQiwmai"
      },
      "source": [
        "* So what happens of we change the length of the signal? The Fourier transform gets sharper / more confident with a sharp drop-off in the magnitude as the frequency shifts away from the 5 beats per second. \n",
        "\n",
        "* a signal concentrated in time must have a spread out Fourier transform meaning it correlates with a wide range of frequencies"
      ]
    },
    {
      "cell_type": "markdown",
      "metadata": {
        "id": "hyhjIsHOwo4z"
      },
      "source": [
        "![cc](https://raw.githubusercontent.com/deltorobarba/repo/master/fourier_05.png)"
      ]
    },
    {
      "cell_type": "markdown",
      "metadata": {
        "id": "UDGSvVS7wpvk"
      },
      "source": [
        "![cc](https://raw.githubusercontent.com/deltorobarba/repo/master/fourier_06.png)"
      ]
    },
    {
      "cell_type": "markdown",
      "metadata": {
        "id": "r5tmZImQx9sE"
      },
      "source": [
        "* For a long period of time, the area under the 5 beats per second is smaller and sharper, because it is more sure about the result of 5 beats per second given many examples.\n",
        "\n",
        "* If on the other hand the signal was localized to a short period of time, the frequency plot corresponds to a much broader peak around the five beats per second"
      ]
    },
    {
      "cell_type": "markdown",
      "metadata": {
        "id": "My8esM3NxNGK"
      },
      "source": [
        "![cc](https://raw.githubusercontent.com/deltorobarba/repo/master/fourier_07.png)"
      ]
    },
    {
      "cell_type": "markdown",
      "metadata": {
        "id": "IYiMzf7mxOJC"
      },
      "source": [
        "![cc](https://raw.githubusercontent.com/deltorobarba/repo/master/fourier_08.png)"
      ]
    },
    {
      "cell_type": "markdown",
      "metadata": {
        "id": "AkGlQfd1yMiD"
      },
      "source": [
        "**Fourier Transform**"
      ]
    },
    {
      "cell_type": "markdown",
      "metadata": {
        "id": "1qH-oTUz1Eq4"
      },
      "source": [
        "Fourier transform: thinking of a wave function in time to a wave function over space. Tells us how much various pure frequencies corresponds with the wave in time. "
      ]
    },
    {
      "cell_type": "markdown",
      "metadata": {
        "id": "48e7bXmM1GPG"
      },
      "source": [
        "![cc](https://raw.githubusercontent.com/deltorobarba/repo/master/fourier_09.png)"
      ]
    },
    {
      "cell_type": "markdown",
      "metadata": {
        "id": "jQEjmTC41Iw_"
      },
      "source": [
        "![cc](https://raw.githubusercontent.com/deltorobarba/repo/master/fourier_10.png)"
      ]
    },
    {
      "cell_type": "markdown",
      "metadata": {
        "id": "NF31Jo3g5Bib"
      },
      "source": [
        "> **Fourier** $\\quad X(\\omega)=\\int_{-\\infty}^{\\infty} x(t) e^{-i \\omega t} d t$"
      ]
    },
    {
      "cell_type": "markdown",
      "metadata": {
        "id": "FVZQtqFt4a3P"
      },
      "source": [
        "- Transform signal intensity (y) on time (x) via a circle to detect the center of mass and display in a new coordinate system to show intensity (y) on frequencies (x) with center of mass. \n",
        "- Circle: complex plane, where center of mass has real (y = cosine) and imaginary part (x = sine)\n",
        "- $e^-2 * \\pi * f * t$ (Euler!)\n",
        "    - Minus sign is for clockwise rotation\n",
        "    - Rotate at a rate of one circle per second\n",
        "    - 2 $pie$ describes the full length of its circumsphere\n",
        "    - t is time past\n",
        "    - f is frequency, if it’s 1/10, then the vector makes one full turn every 10 seconds.\n",
        "- Technically: compute the integral \n",
        "- Frequency function is a complex function!\n",
        "https://www.youtube.com/watch?v=spUNpyF58BY \n",
        "- Cosine: reals, sine: complex, but ignored in Fourier (?)  (with area under curve)\n",
        "https://www.youtube.com/watch?v=3gjJDuCAEQQ&t=267s \n",
        "https://de.wikipedia.org/wiki/Frequenzspektrum#Frequenzspektrum_eines_Zeitsignals\n"
      ]
    },
    {
      "cell_type": "markdown",
      "metadata": {
        "id": "6jwn-XLJRW54"
      },
      "source": [
        "In some texts, for a function $f$ on the input range [0,1] , its Fourier series is presented like this:\n",
        "\n",
        "> $\n",
        "f(t)=\\frac{a_{0}}{2}+\\sum_{n=1}^{\\infty}\\left(a_{n} \\cos (n \\cdot 2 \\pi t)+b_{n} \\sin (n \\cdot 2 \\pi t)\\right)\n",
        "$\n",
        "\n",
        "where\n",
        "\n",
        "> $\n",
        "\\begin{aligned}\n",
        "a_{n} &=2 \\int_{0}^{1} f(t) \\cos (n \\cdot 2 \\pi t) d t \\\\\n",
        "b_{n} &=2 \\int_{0}^{1} f(t) \\sin (n \\cdot 2 \\pi t) d t\n",
        "\\end{aligned}\n",
        "$"
      ]
    },
    {
      "cell_type": "markdown",
      "metadata": {
        "id": "bHxkRX5L1ffl"
      },
      "source": [
        "sin ist hier der Integralkern? [siehe hier](https://de.wikipedia.org/wiki/Integraloperator#Integraltransformationen)"
      ]
    },
    {
      "cell_type": "markdown",
      "metadata": {
        "id": "g5ICsEoyJMnT"
      },
      "source": [
        "[**Fourier-Transformation**](https://de.m.wikipedia.org/wiki/Fourier-Transformation)\n",
        "* is a coordinate transform to make something similar\n",
        "* used for representing data and image compression\n",
        "* approximate solutions for partial differential equations\n",
        "* Fourier used it in heat equation\n",
        "* Fourier transform is a coordinate transform to diagonalize the laplacian operator in heat equation. \n",
        "\n",
        "> The laplacian operator has eigenvalues and eigenfunctions like linear operators, **and the eigenfunctions are sines & cosines with a particular frequency** determined by the boundary conditions and the geometry of this object (i.e. a hot plate), and **corresponding eigenvalues are the spatial frequencies**\n",
        "\n",
        "> **Just like x and y axis form basis for vector spaces, sine and cosine form an orthogonal basis for the function space** (of possible functions)\n",
        "\n",
        "* Make heat equation simpler by transforming it into an eigenvector eigenvalue coordinate system \n",
        "* SVD (singular value decomposition) is like a data driven extension of FFT\n",
        "* **approximate a function by a sum of sines and cosines of increasing high frequencies**. Like in heat equation: Sine gives you position, and it's first derivative (steigung der funktion sinus) its cosine and the second derivative is -sin. \n",
        "\n",
        "* **scales down exponentially (very important!)** ([Video Source](https://www.youtube.com/watch?v=ToIXSwZ1pJU)\n",
        "\n",
        "![pp](https://raw.githubusercontent.com/deltorobarba/repo/master/heatequation.png)\n",
        "\n",
        "* **Fast Fourier Transform** is a newer, but very important approach\n",
        "\n",
        "* Fourier transform laid foundation for function spaces, like Hilbert space (pivotal for understanding quantum mechanics)\n"
      ]
    },
    {
      "cell_type": "markdown",
      "metadata": {
        "id": "HA9H0DWwbHTs"
      },
      "source": [
        "https://www.youtube.com/watch?v=spUNpyF58BY"
      ]
    },
    {
      "cell_type": "markdown",
      "metadata": {
        "id": "acZQX8_eJCkI"
      },
      "source": [
        "* Fourier series are linear, means a + b = sum of both\n",
        "\n",
        "* high frequencies decay faster than low frequencies, leaving them longer stay\n",
        "\n",
        "* Infinite sum of rational numbers is an irrational number (like heading towards pie / 4), the infinite sum of wavy continuous functions can equal a discontinuous flat function (like a step function)\n",
        "\n",
        "**Complexity of decomposition as a sum of many rotations entirely captured in this expression:**\n",
        "\n",
        "> $c_{n}=\\int_{0}^{1} e^{-2 \\pi i n t} f(t) d t$\n",
        "\n",
        "**It treats the path like a complex function, and for a certain range of values for n, it computes the integral to find each coefficient c_n You do that via numerical integration.**\n",
        "\n",
        "After computing the values (number fo coefficients) each one determines the initial angle and mangnitude for the little vectors and then you set them all rotating, adding them all tip to tail. The path drawn out by the final tip is some approximation of the original path. As the number of vectors used approaches infinity, it gets more and more accurate. "
      ]
    },
    {
      "cell_type": "markdown",
      "metadata": {
        "id": "2gCZHW1rQxce"
      },
      "source": [
        "> **$c_{n}=\\int_{0}^{1} \\operatorname{step}(t) e^{-n \\cdot 2 \\pi i t} d t=\\int_{0}^{0.5} 1 \\cdot e^{-n \\cdot 2 \\pi i t} d t+\\int_{0.5}^{1}-1 \\cdot e^{-n \\cdot 2 \\pi i t} d t$**\n",
        "\n",
        "**Challenge 1**: Show that $c_{n}=\\frac{2}{n \\pi i}$ for odd $n$ and 0 otherwise\n",
        "\n",
        "**Challenge 2**: Using $\\sin (x)=\\left(e^{i x}-e^{-i x}\\right) / 2 i$, show that\n",
        "\n",
        "$\n",
        "\\operatorname{step}(t)=\\sum_{n=-\\infty}^{\\infty} c_{n} e^{n \\cdot 2 \\pi i t}=\\sum_{n=1,3,5, \\ldots} \\frac{4}{n \\pi} \\sin (n \\cdot 2 \\pi t)\n",
        "$\n",
        "\n",
        "**Challenge 3**: How can you turn this drawing into an expansion with cosines? (Hint: Draw the sine waves over [0.25, 0.75])"
      ]
    },
    {
      "cell_type": "markdown",
      "metadata": {
        "id": "7SNzEh7GIpZd"
      },
      "source": [
        "https://www.youtube.com/watch?v=r6sGWTCMz2k"
      ]
    },
    {
      "cell_type": "markdown",
      "metadata": {
        "id": "Sx5HONkGJTAY"
      },
      "source": [
        "https://www.youtube.com/watch?v=jNC0jxb0OxE&list=PLMrJAkhIeNNT_Xh3Oy0Y4LTj0Oxo8GqsC"
      ]
    },
    {
      "cell_type": "markdown",
      "metadata": {
        "id": "5cGTdIiSj7T2"
      },
      "source": [
        "**Laplace Transform**"
      ]
    },
    {
      "cell_type": "markdown",
      "metadata": {
        "id": "RdzChTAr_hrx"
      },
      "source": [
        "https://www.youtube.com/watch?v=n2y7n6jw5d0"
      ]
    },
    {
      "cell_type": "markdown",
      "metadata": {
        "id": "bVBdixfsApic"
      },
      "source": [
        "Difference Fourier (left) & Laplace (right):"
      ]
    },
    {
      "cell_type": "markdown",
      "metadata": {
        "id": "sdDSJdpPAzMK"
      },
      "source": [
        "![cc](https://raw.githubusercontent.com/deltorobarba/repo/master/laplace_04.png)"
      ]
    },
    {
      "cell_type": "markdown",
      "metadata": {
        "id": "G-S4KCYYBIfv"
      },
      "source": [
        "Fourier (right - here it is including the negative numbers side) and Laplace (left):"
      ]
    },
    {
      "cell_type": "markdown",
      "metadata": {
        "id": "7jR3oMqSBLUl"
      },
      "source": [
        "![cc](https://raw.githubusercontent.com/deltorobarba/repo/master/laplace_05.png)"
      ]
    },
    {
      "cell_type": "markdown",
      "metadata": {
        "id": "sqZ8jJzTBlsP"
      },
      "source": [
        "If Alpha is swept through the plane, we get the entire Laplace transform plot"
      ]
    },
    {
      "cell_type": "markdown",
      "metadata": {
        "id": "OeAsqzfRBtB0"
      },
      "source": [
        "![cc](https://raw.githubusercontent.com/deltorobarba/repo/master/laplace_06.png)"
      ]
    },
    {
      "cell_type": "markdown",
      "metadata": {
        "id": "Ts9_HIf3CM5x"
      },
      "source": [
        "Using a third dimension for the magnitudes, it looks like following. This is a Laplace Transform of the original function e<sup>-t</sup>sin*t"
      ]
    },
    {
      "cell_type": "markdown",
      "metadata": {
        "id": "cYcTz1fvCLYj"
      },
      "source": [
        "![cc](https://raw.githubusercontent.com/deltorobarba/repo/master/laplace_07.png)"
      ]
    },
    {
      "cell_type": "markdown",
      "metadata": {
        "id": "vI4elKKKCxEt"
      },
      "source": [
        "Here the original function on left and the Fourier transform as blue slice for a given alpha within the Laplace transform:"
      ]
    },
    {
      "cell_type": "markdown",
      "metadata": {
        "id": "ESrhF_dRCv_E"
      },
      "source": [
        "![cc](https://raw.githubusercontent.com/deltorobarba/repo/master/laplace_08.png)"
      ]
    },
    {
      "cell_type": "markdown",
      "metadata": {
        "id": "0GKh4Zt_DU9t"
      },
      "source": [
        "Alpha equals the zero = the exponential in the Laplace function is just 1, and line yields the Fourier transform of the original function:"
      ]
    },
    {
      "cell_type": "markdown",
      "metadata": {
        "id": "SiSldrXtDk03"
      },
      "source": [
        "![cc](https://raw.githubusercontent.com/deltorobarba/repo/master/laplace_09.png)"
      ]
    },
    {
      "cell_type": "markdown",
      "metadata": {
        "id": "MQ-YQmewDwMH"
      },
      "source": [
        "Here you can see how the Fourier transform is a slice of the Laplace Transform:"
      ]
    },
    {
      "cell_type": "markdown",
      "metadata": {
        "id": "93XFVrktEPRg"
      },
      "source": [
        "![cc](https://raw.githubusercontent.com/deltorobarba/repo/master/laplace_10.png)"
      ]
    },
    {
      "cell_type": "markdown",
      "metadata": {
        "id": "Wk7tYHfYGqvO"
      },
      "source": [
        "If we add all alpha beyond zero, we get the other slices. At the Fourier transform visualization on the right side with the blue slicer within the Laplace visualization. We see how the original function on the left side approaches a sinusoidal curve. Please consider only half of the Fourier slice to see just one large peak instead of two, as used above in Fourier transforms. "
      ]
    },
    {
      "cell_type": "markdown",
      "metadata": {
        "id": "YxgCy5pCG1jy"
      },
      "source": [
        "![cc](https://raw.githubusercontent.com/deltorobarba/repo/master/laplace_11.png)\n",
        "\n"
      ]
    },
    {
      "cell_type": "markdown",
      "metadata": {
        "id": "zDK4yOHIHLyJ"
      },
      "source": [
        "..and reaching a sinusoidal function with the Fourier visualization with infinite spikes (know as [**the poles**](https://de.wikipedia.org/wiki/Polstelle)) of the frequency on the right side:"
      ]
    },
    {
      "cell_type": "markdown",
      "metadata": {
        "id": "VervDhEzHKkP"
      },
      "source": [
        "![cc](https://raw.githubusercontent.com/deltorobarba/repo/master/laplace_12.png)"
      ]
    },
    {
      "cell_type": "markdown",
      "metadata": {
        "id": "AKd5VLq_H945"
      },
      "source": [
        "Visualization of Laplace transform of above function on 2D (without z as third dimension to show height of peaks):"
      ]
    },
    {
      "cell_type": "markdown",
      "metadata": {
        "id": "Oq30FI5WH85n"
      },
      "source": [
        "![cc](https://raw.githubusercontent.com/deltorobarba/repo/master/laplace_13.png)"
      ]
    },
    {
      "cell_type": "markdown",
      "metadata": {
        "id": "XSYPZ7FbDXLX"
      },
      "source": [
        "**Components of Laplace Transform**::"
      ]
    },
    {
      "cell_type": "markdown",
      "metadata": {
        "id": "-JqE7oEBALZV"
      },
      "source": [
        "Sinosoidal component:"
      ]
    },
    {
      "cell_type": "markdown",
      "metadata": {
        "id": "_xF5ZBgK_v6h"
      },
      "source": [
        "![cc](https://raw.githubusercontent.com/deltorobarba/repo/master/laplace_01.png)"
      ]
    },
    {
      "cell_type": "markdown",
      "metadata": {
        "id": "e8jPhrTDAIyQ"
      },
      "source": [
        "Exponential component:"
      ]
    },
    {
      "cell_type": "markdown",
      "metadata": {
        "id": "PzPgSN9g_qIZ"
      },
      "source": [
        "![cc](https://raw.githubusercontent.com/deltorobarba/repo/master/laplace_02.png)"
      ]
    },
    {
      "cell_type": "markdown",
      "metadata": {
        "id": "nMlhvRKeANFw"
      },
      "source": [
        "Combination of both:"
      ]
    },
    {
      "cell_type": "markdown",
      "metadata": {
        "id": "foOftWk3_q7s"
      },
      "source": [
        "![cc](https://raw.githubusercontent.com/deltorobarba/repo/master/laplace_03.png)"
      ]
    },
    {
      "cell_type": "markdown",
      "metadata": {
        "id": "rZDZvdqaj9pt"
      },
      "source": [
        "* shows which sinosoidal AND exponential frequencies are in a signal\n",
        "\n",
        "* a generalized Fourier transform! Fourier transform is just a slice of the Laplace transform\n",
        "\n",
        "* Fourier: input complex, output real. Laplace: Input complex, output complex (??)"
      ]
    },
    {
      "cell_type": "markdown",
      "metadata": {
        "id": "ImhmFbOnmaUS"
      },
      "source": [
        "**Fourier** $\\quad X(\\omega)=\\int_{-\\infty}^{\\infty} x(t) e^{-i \\omega t} d t$\n",
        "\n",
        "**Laplace** $\\quad X(s)=\\int_{0}^{\\infty} x(t) e^{-s t} d t$ \n",
        "\n",
        "with s = ${\\alpha + i \\omega}$"
      ]
    },
    {
      "cell_type": "markdown",
      "metadata": {
        "id": "1gNvynrixNsM"
      },
      "source": [
        "* Use Cases of Laplace transform: PDE to ODE, ODE to algebraic equation, control theory\r\n",
        "\r\n",
        "* Following functions cannot be applied Fourier transform: e^lambda t or Heaviside function (because they don’t decay to zero (on y) on both sides to infinity (x)"
      ]
    },
    {
      "cell_type": "markdown",
      "metadata": {
        "id": "ByG6QUb25LL-"
      },
      "source": [
        "Laplace intro:\n",
        "\n",
        "https://www.youtube.com/watch?v=n2y7n6jw5d0&t=848s\n",
        "\n",
        "https://youtu.be/ZGPtPkTft8g?t=356\n",
        "\n",
        "https://www.youtube.com/watch?v=7UvtU75NXTg&list=LL&index=1&t=419s"
      ]
    },
    {
      "cell_type": "markdown",
      "metadata": {
        "id": "pVxJ02zzlNwy"
      },
      "source": [
        "https://www.youtube.com/watch?v=n2y7n6jw5d0"
      ]
    },
    {
      "cell_type": "markdown",
      "metadata": {
        "id": "Ov6v_nkqxnBn"
      },
      "source": [
        "**Wavelets**"
      ]
    },
    {
      "cell_type": "markdown",
      "metadata": {
        "id": "3Z5kqTCLxos4"
      },
      "source": [
        "https://math.stackexchange.com/questions/279980/difference-between-fourier-transform-and-wavelets"
      ]
    },
    {
      "cell_type": "markdown",
      "metadata": {
        "id": "_BMwC_7ev16S"
      },
      "source": [
        "#### **Funktionale**"
      ]
    },
    {
      "cell_type": "markdown",
      "metadata": {
        "id": "gKThvM0kS9yJ"
      },
      "source": [
        "##### **Functionals**"
      ]
    },
    {
      "cell_type": "markdown",
      "metadata": {
        "id": "Z2gaucfCv5BP"
      },
      "source": [
        "* **Ein [Funktional](https://de.m.wikipedia.org/wiki/Funktional) bzw. [functional](https://en.m.wikipedia.org/wiki/Functional_(mathematics)) J[y] bildet eine <u>Funktion</u> y(x) auf eine <u>Zahl</u> ab.**\n",
        "\n",
        "> Sei $V$ ein $\\mathbb{K}$ -Vektorraum mit $\\mathbb{K} \\in\\{\\mathbb{R}, \\mathbb{C}\\} .$ Ein Funktional $T$ ist eine Abbildung $T: V \\rightarrow \\mathbb{K} .$\n",
        "\n",
        "* eine Funktion, deren Definitionsmenge (Urbilder) als Teilmenge in einem Vektorraum V enthalten ist, während ihre Zielmenge in dem zugehörigen Skalarkörper liegt (zB von einer Fläche R<sup>2</sup> in eine Linie R)\n",
        "\n",
        "* Exkurs Funktionalanalyse: Hier ist der untersuchte Vektorraum V zumeist ein Funktionenraum, also ein Vektorraum, dessen Elemente reell- oder komplexwertige Funktionen sind, wobei diesen durch Funktionale Skalare zugeordnet werden. \n",
        "\n",
        "* Als bedeutendes Beispiel eines solchen Funktionals kann etwa das [Lebesgue-Integral](https://de.m.wikipedia.org/wiki/Lebesgue-Integral) gelten."
      ]
    },
    {
      "cell_type": "markdown",
      "metadata": {
        "id": "HSN7s0zcE5Rx"
      },
      "source": [
        "> Lebesgue definite integral is a functional, but a [definite Bochner integral](https://math.stackexchange.com/questions/924427/are-all-definite-integrals-considered-functionals) is not a functional, but a linear operator."
      ]
    },
    {
      "cell_type": "markdown",
      "metadata": {
        "id": "awbdQaH-wzAK"
      },
      "source": [
        "**Unterschied zwischen Funktion und Funktional**"
      ]
    },
    {
      "cell_type": "markdown",
      "metadata": {
        "id": "br-g6M4p2tPd"
      },
      "source": [
        "**Function:**\n",
        "$\\mathbb{R} \\rightarrow f(x) \\rightarrow \\mathbb{R}$\n",
        "\n",
        "**Functional:**\n",
        "$f(x) \\rightarrow J[f(x)] \\rightarrow \\mathbb{R}$"
      ]
    },
    {
      "cell_type": "markdown",
      "metadata": {
        "id": "L9pDmvzc27ag"
      },
      "source": [
        "* Eine Funktion bildet Elemente eines Körpers auf andere ab, zum Beispiel. $f: \\mathbb{R}^{3} \\rightarrow \\mathbb{R}^{2}$\n",
        "\n",
        "* Ein Funktional hingegen ist ein Operator, der Elemente eines Vektorraumes $V$ auf den [Skalarkörper](https://de.wikipedia.org/wiki/Skalar_(Mathematik))\n",
        "$K$ abbildet, über dem $V$ modelliert ist. Diese Elemente können zum Beispiel selber Funktionen sein\n",
        "(wenn der Vektorraum ein Funktionenraum ist)"
      ]
    },
    {
      "cell_type": "markdown",
      "metadata": {
        "id": "eU75x1wPLJhq"
      },
      "source": [
        "**Example of [Linear functional](https://de.m.wikipedia.org/wiki/Funktional#Lineare_Funktionale)**"
      ]
    },
    {
      "cell_type": "markdown",
      "metadata": {
        "id": "4VNcfHpPNdiI"
      },
      "source": [
        "* In den meisten Bereichen der Funktionalanalysis, etwa in der Theorie der topologischen Vektorräume, wird der Begriff Funktional (ohne weiteren Zusatz) als Synonym für lineare Funktionale benutzt. \n",
        "\n",
        "* Ein solches Funktional ist also definitionsgemäß eine Linearform, also **eine lineare Abbildung des Vektorraumes $V$ in seinen Skalarkörper $K$.**\n",
        "\n",
        "* Die Menge all dieser Funktionale ist wiederum in natürlicher Form ein Vektorraum uber dem gleichen Körper $\\mathbb{K}$, indem man für zwei Funktionale $f$ und $g$ über $V$ die Addition und Skalarmultiplikation punktweise definiert, $d .$ h.\n",
        "\n",
        "> $\n",
        "(f+g)(x):=f(x)+g(x) \\quad(\\lambda f)(x):=\\lambda(f(x)), x \\in V\n",
        "$\n",
        "\n",
        "* Der Vektorraum der linearen Funktionale auf dem Vektorraum $V$ wird der algebraische **Dualraum** genannt und oft mit $V^{*}$ bezeichnet."
      ]
    },
    {
      "cell_type": "markdown",
      "metadata": {
        "id": "yO693Lr5ttLu"
      },
      "source": [
        "**Funktionaldeterminante**"
      ]
    },
    {
      "cell_type": "markdown",
      "metadata": {
        "id": "ozH0k-1StvhC"
      },
      "source": [
        "* Die [Funktionaldeterminante](https://de.wikipedia.org/wiki/Funktionaldeterminante) oder Jacobi-Determinante ist eine mathematische Größe, die in der mehrdimensionalen Integralrechnung, also der **Berechnung von Oberflächen- und Volumenintegralen**, eine Rolle spielt. Insbesondere findet sie in der Flächenformel und dem aus dieser hervorgehenden Transformationssatz Verwendung.\n",
        "\n",
        "* Für eine differenzierbare Funktion $f: \\mathbb{R}^{n} \\rightarrow \\mathbb{R}^{n}$ ist die Funktionaldeterminante definiert als\n",
        "die Determinante der Jacobi-Matrix von $f,$ also als\n",
        "det $D f(x)$\n",
        "mit\n",
        "$\n",
        "D f(x)=\\left(\\frac{\\partial f_{i}}{\\partial x_{j}}(x)\\right)_{i, j=1, \\ldots, n}\n",
        "$\n",
        "\n",
        "* Für die Transformation von Volumenelementen, einen wichtigen Anwendungsfall in der Physik, reicht diese Definition aus. Die Flächenformel der Maß- und Integrationstheorie beschreibt dagegen auch, wie sich Integrale über Funktionen, die Räume unterschiedlicher Dimension ineinander abbilden, transformieren. \n",
        "\n",
        "* Beispiel: Bei der Integration über geometrische Objekte ist es oft unpraktisch, über kartesische Koordinaten zu integrieren. So lässt sich in der Physik das Integral über ein radialsymmetrisches Potentialfeld, dessen Wert nur von einem Radius $r$ abhängt, wesentlich leichter in Kugelkoordinaten berechnen.\n",
        "Um dies zu tun, wendet man eine Koordinatentransformation $\\Phi$  an."
      ]
    },
    {
      "cell_type": "markdown",
      "metadata": {
        "id": "gQTz9Ux4z3fz"
      },
      "source": [
        "**Linearform**"
      ]
    },
    {
      "cell_type": "markdown",
      "metadata": {
        "id": "AU3vmZmUPDVe"
      },
      "source": [
        "Stetige lineare Funktionale ([Linearform](https://de.m.wikipedia.org/wiki/Linearform)): \n",
        "\n",
        "* **In einem topologischen Vektorraum sind im Allgemeinen nicht alle linearen Funktionale steti**g. \n",
        "\n",
        "* Die stetigen linearen Funktionale innerhalb des algebraischen Dualraums, also die auf $V$ gegebenen stetigen [Linearformen](https://de.m.wikipedia.org/wiki/Linearform), bilden einen linearen Unterraum von $V^{*}$. **Dies ist der topologische Dualraum von $V$, der in der Funktionalanalysis einer der Hauptgegenstände ist.** \n",
        "\n",
        "* Er wird meist mit der Bezeichnung $V'$ gekennzeichnet, von einigen Autoren jedoch auch mit derselben Bezeichnung wie der algebraische Dualraum, also ebenfalls mit $V^{*}$.\n",
        "\n",
        "* Im Kontext der Funktionalanalysis, das heißt im Falle eines topologischen \n",
        "$\\mathbb {R}$ - oder $\\mathbb {C}$-Vektorraums, sind die betrachteten Linearformen meistens [stetige lineare Funktionale](https://de.m.wikipedia.org/wiki/Funktional#Stetige_lineare_Funktionale).\n",
        "\n",
        "* Es sei $K$ ein Körper und $V$ ein $K$ -Vektorraum. Eine Abbildung $f: V \\rightarrow K$ heißt Linearform, wenn für alle Vektoren $x, y \\in V$ und Skalare $\\alpha \\in K$ gilt:\n",
        "\n",
        "1. $f(x+y)=f(x)+f(y)$ (**Additivität**);\n",
        "\n",
        "2. $f(\\alpha x)=\\alpha f(x)$ (**Homogenität**).\n",
        "\n",
        "* 'Linear form' is a more modern and abstract concept of 'functional': In modern linear algebra, functional refers to a linear mapping from a vector space $V$ into its field of scalars, i.e., it refers to an element of the dual space $V^{*}$. \n",
        "\n",
        "* Die Linearform ist ein Begriff aus dem mathematischen Teilgebiet der linearen Algebra. Man bezeichnet damit eine lineare Abbildung von einem Vektorraum in den zugrundeliegenden Körper.\n",
        "\n",
        "* **Übergang zu Dualraum**: Die Menge aller Linearformen (= stetigen, linearen Abbildungen) über einem gegebenen Vektorraum $V$ bildet dessen Dualraum $V^{*}$ und damit selbst wieder in natürlicher Weise einen $K$ -Vektorraum."
      ]
    },
    {
      "cell_type": "markdown",
      "metadata": {
        "id": "sjqKk4EMJh4k"
      },
      "source": [
        "**[One-form](https://en.m.wikipedia.org/wiki/One-form) (Pfaffsche Form)**"
      ]
    },
    {
      "cell_type": "markdown",
      "metadata": {
        "id": "y_YJP6zFQgk1"
      },
      "source": [
        "* In linear algebra, a one-form on a vector space is the same as a linear functional (linear form) on the space. \n",
        "\n",
        "* The usage of one-form in this context usually distinguishes the one-forms from higher-degree multilinear functionals on the space. For details, see [linear functional / linear form](https://en.m.wikipedia.org/wiki/Linear_form)."
      ]
    },
    {
      "cell_type": "markdown",
      "metadata": {
        "id": "8mt9jLwJIlKa"
      },
      "source": [
        "**Example of [Non-linear functional](https://de.m.wikipedia.org/wiki/Funktional#Nichtlineare_Funktionale)**\n",
        "\n",
        "* Nichtlineare Funktionale traten historisch erstmals in der **Variationsrechnung** auf. \n",
        "\n",
        "* Ihr Studium unterscheidet sich grundlegend von dem der oben beschriebenen linearen Funktionale. In der Variationsrechnung setzt man es sich beispielsweise zum Ziel, die Extremalpunkte solcher Funktionalpunkte zu bestimmen. \n",
        "\n",
        "* Zu diesem Zweck benötigt man eine Verallgemeinerung des Ableitungsbegriffs der mehrdimensionalen Analysis, d. h. eine Definition des Differentials des Funktionals. In der Variationsrechnung und in den Anwendungen ist dieses Differential unter dem Namen Variationsableitung bekannt, mathematisch präzisiert wird der Begriff z. B. durch die Fréchet-Ableitung und die Gateaux-Ableitung."
      ]
    },
    {
      "cell_type": "markdown",
      "metadata": {
        "id": "W8l9oubJL290"
      },
      "source": [
        "[**Functional derivative**](https://en.m.wikipedia.org/wiki/Functional_derivative)"
      ]
    },
    {
      "cell_type": "markdown",
      "metadata": {
        "id": "-evrFl9ZJ8c1"
      },
      "source": [
        "* Functional derivatives are used in Lagrangian mechanics. They are derivatives of functionals: i.e. they carry information on how a functional changes when the input function changes by a small amount."
      ]
    },
    {
      "cell_type": "markdown",
      "metadata": {
        "id": "ZBGRXzCzHdHm"
      },
      "source": [
        "[**Functional integration**](https://en.m.wikipedia.org/wiki/Functional_integration)"
      ]
    },
    {
      "cell_type": "markdown",
      "metadata": {
        "id": "UdfJLCj5J-sg"
      },
      "source": [
        "* Richard Feynman used functional integrals as the central idea in his sum over the histories formulation of quantum mechanics. This usage implies an integral taken over some function space."
      ]
    },
    {
      "cell_type": "markdown",
      "metadata": {
        "id": "n7txO-4l254v"
      },
      "source": [
        "##### **Dualraum**"
      ]
    },
    {
      "cell_type": "markdown",
      "metadata": {
        "id": "G7hBtcqkOjDR"
      },
      "source": [
        "**Der topologische Dualraum**"
      ]
    },
    {
      "cell_type": "markdown",
      "metadata": {
        "id": "DtaQ30kuOaZQ"
      },
      "source": [
        "Falls der zugrundeliegende Vektorraum \n",
        "$V$ ein topologischer Vektorraum ist, kann man zusätzlich zum algebraischen auch den topologischen Dualraum betrachten. Dieser ist die Menge aller stetigen linearen Funktionale und wird in der Regel mit \n",
        "$V\\,'$ bezeichnet. Die Unterscheidung zwischen algebraischem und topologischem Dualraum ist nur dann wichtig, wenn \n",
        "$V$ ein unendlichdimensionaler Raum ist, da alle linearen Operatoren, die auf einem endlichdimensionalen topologischen Vektorraum definiert sind, auch stetig sind. \n",
        "\n",
        "Somit sind der algebraische und der topologische Dualraum identisch. Wenn im Zusammenhang mit topologischen Vektorräumen von einem Dualraum die Rede ist, ist meistens der topologische Dualraum gemeint. Das Studium dieser Dualräume ist eines der Hauptgebiete der Funktionalanalysis."
      ]
    },
    {
      "cell_type": "markdown",
      "metadata": {
        "id": "Wpl9KJI1OX2e"
      },
      "source": [
        "https://de.wikipedia.org/wiki/Dualraum#Der_topologische_Dualraum"
      ]
    },
    {
      "cell_type": "markdown",
      "metadata": {
        "id": "GtI4LdT4BWYX"
      },
      "source": [
        "Beim Studium normierter Räume ist die Untersuchung des Dualraumes wichtig. Der Dualraum besteht aus allen **stetigen linearen** Funktionen vom **normierten** Raum in seinen Skalarkörper, also in die reellen oder komplexen Zahlen. Der Bidual, also der Dualraum des Dualraums, muss nicht isomorph zum ursprünglichen Raum sein, aber es gibt stets einen natürlichen Monomorphismus von einem Raum in seinen Bidual. Ist dieser spezielle Monomorphismus auch surjektiv, dann spricht man von einem reflexiven Banachraum.\n",
        "\n"
      ]
    },
    {
      "cell_type": "markdown",
      "metadata": {
        "id": "2IWExb4pLbRI"
      },
      "source": [
        "Dualraum: https://youtu.be/2vvjrBbcTZU"
      ]
    },
    {
      "cell_type": "markdown",
      "metadata": {
        "id": "0dayuxImzTOv"
      },
      "source": [
        "* In den meisten Bereichen der Funktionalanalysis, etwa in der Theorie der [topologischen\n",
        "Vektorräume](https://de.m.wikipedia.org/wiki/Topologischer_Vektorraum), wird der Begriff Funktional (ohne weiteren Zusatz) als Synonym für lineare Funktionale\n",
        "benutzt. \n",
        "\n",
        "* Ein solches Funktional ist also definitionsgemäß eine [Linearform](https://de.m.wikipedia.org/wiki/Linearform), also eine lineare\n",
        "Abbildung des Vektorraumes $V$ in seinen Skalarkörper $\\mathbb{K}$. \n",
        "\n",
        "* Die Menge all dieser Funktionale ist\n",
        "wiederum in natürlicher Form ein Vektorraum über dem gleichen Körper $\\mathbb{K}$, indem man für zwei\n",
        "Funktionale $f$ und $g$ über $V$ die Addition und Skalarmultiplikation punktweise definiert, d. h.\n",
        "\n",
        "\n",
        "> $\n",
        "(f+g)(x):=f(x)+g(x) \\quad(\\lambda f)(x):=\\lambda(f(x)), x \\in V\n",
        "$\n",
        "\n",
        "Der Vektorraum der linearen Funktionale auf dem Vektorraum $V$ wird der algebraische Dualraum genannt und oft mit $V^{*}$ bezeichnet."
      ]
    },
    {
      "cell_type": "markdown",
      "metadata": {
        "id": "VWv2DHm71k_n"
      },
      "source": [
        "**Beispiele von Dualräumen**"
      ]
    },
    {
      "cell_type": "markdown",
      "metadata": {
        "id": "QPIQCssA1-w-"
      },
      "source": [
        "Für den Vektorraum $V=\\mathbb{R}^{n}$ **ist der Dualraum kanonisch isomorph zum Vektorraum selbst**, $\\mathrm{d} .$ h. $V \\cong V$ Der kanonische Isomorphismus $I: \\mathbb{R}^{n} \\rightarrow\\left(\\mathbb{R}^{n}\\right)^{*}$ wird dabei über das [Standardskalarprodukt](https://de.m.wikipedia.org/wiki/Standardskalarprodukt) vermittelt:\n",
        "\n",
        "$\n",
        "(I(x))(y):=\\langle x, y\\rangle=\\sum_{i=1}^{n} x_{i} \\cdot y_{i}\n",
        "$\n",
        "\n",
        "Für den Vektorraum $V=\\mathbb{C}^{n}$ gilt ähnliches wie im ersten Fall, allerdings ist die kanonische Abbildung $I: \\mathbb{C}^{n} \\rightarrow\\left(\\mathbb{C}^{n}\\right)^{*}$ in diesem Fall semilinear:\n",
        "\n",
        "$\n",
        "(I(x))(y):=\\langle x, y\\rangle=\\sum_{i=1}^{n} \\overline{x_{i}} \\cdot y_{i}\n",
        "$\n",
        "\n",
        "Der Dualraum ist in diesem Fall also gleich groB, hat aber bezüglich der kanonischen Abbildung eine\n",
        "andere Skalarmultiplikation. Im Sinne der linearen Algebra sagt man auch: Der Dualraum ist kanonisch\n",
        "isomorph zum komplex konjugierten Vektorraum."
      ]
    },
    {
      "cell_type": "markdown",
      "metadata": {
        "id": "OuJVFzQ22tcK"
      },
      "source": [
        "*Beispiele topologischer Dualräume*\n",
        "\n",
        "* Für endlichdimensionale Vektorräume gibt es eine natürliche Topologie ([Normtopologie](https://de.m.wikipedia.org/wiki/Normtopologie)), die aus der euklidischen Norm hervorgeht (genauer gesagt: aus einer beliebigen euklidischen Norm, wenn man eine Basis wählt). Dies ist gerade die Topologie, die der normalen Standard-Analysis zugrunde liegt, und in dieser ist jedes lineare Funktional stetig. Das heißt, der algebraische Dualraum ist gleich dem topologischen Dualraum.\n",
        "\n",
        "* Im unendlichdimensionalen Fall ist der topologische Dualraum (fast) immer ein echter Teilraum des algebraischen Dualraumes.\n",
        "\n",
        "* In **normierten Vektorräumen ist ein Funktional $f$ genau dann stetig, wenn es beschränkt ist**, das heißt $\\sup _{\\|x\\| \\leq 1}|f(x)|<\\infty$. Der topologische Dualraum ist dann automatisch ein Banachraum mit der oben angegebenen Supremumsnorm.\n",
        "\n",
        "* In Hilberträumen ist der topologische Dualraum kanonisch mit dem Ursprungsraum identifizierbar (Darstellungssatz von Fréchet-Riesz). Die Identifikation erfolgt wie im endlichdimensionalen Fall über das Skalarprodukt: $(I(y)):=\\langle\\cdot, y\\rangle$\n",
        "\n",
        "* Der topologische Dualraum des Raumes der unendlich oft stetig differenzierbaren Funktionen mit kompaktem Träger auf der reellen Achse (die so genannten Testfunktionen) mit einer bestimmten (hier nicht näher erklärten) Topologie wird als Raum der [Distributionen](https://de.m.wikipedia.org/wiki/Distribution_(Mathematik)) bezeichnet. In diesem Raum liegt auch das weiter oben genannte Beispiel des Dirac-Delta-Funktionals."
      ]
    },
    {
      "cell_type": "markdown",
      "metadata": {
        "id": "EfrXUsI54L2_"
      },
      "source": [
        "##### **Distributionen**"
      ]
    },
    {
      "cell_type": "markdown",
      "metadata": {
        "id": "usqikWJzWLik"
      },
      "source": [
        "https://www.youtube.com/watch?v=1Vm9p4CvyV4"
      ]
    },
    {
      "cell_type": "markdown",
      "metadata": {
        "id": "2zWKKdasSS1o"
      },
      "source": [
        "https://en.wikipedia.org/wiki/Generalized_function"
      ]
    },
    {
      "cell_type": "markdown",
      "metadata": {
        "id": "a4JbcHO2SUiV"
      },
      "source": [
        "https://en.wikipedia.org/wiki/Distribution_(mathematics)"
      ]
    },
    {
      "cell_type": "markdown",
      "metadata": {
        "id": "dXWokdbUSK4s"
      },
      "source": [
        "https://mathepedia.de/Distributionen.html"
      ]
    },
    {
      "cell_type": "markdown",
      "metadata": {
        "id": "CF7FtCK145Zl"
      },
      "source": [
        "* Eine Distribution bezeichnet eine **besondere Art eines Funktionals** (=eine Funktion, die anderen Funktionen eine Zahl zuordnet) im Bereich der partiellen Differentialgleichungen\n",
        "\n",
        "* Es gibt partielle Differentialgleichungen, die hinreichend oft differenzierbare oder gar keine klassischen Lösungen haben, aber Lösungen im distributionellen Sinn. \n",
        "\n",
        "* Daher können Distributionen als eine **Verallgemeinerung von Funktionen** angesehen werden. (z.B. kann man jede Distribution differenzieren.)\n",
        "\n",
        "* Problem: Losungen mit 'Knicken' in Differentialgleichungen. Begriff einer Ableitung ist zu stark, man muss also die Losungen verallgemeinern.\n",
        "\n",
        "* zB Ableitung der [Heaviside Funktion](https://de.wikipedia.org/wiki/Heaviside-Funktion) - \n",
        "\n",
        "  * Nutzung der Delta Funktion. Delta Funktion ist Null ausserhalb der kritischen Stelle Null.\n",
        "  * Aber: delta ist keine Funktion im ublichen Sinn. Delta ist Null fast uberall (bez. des Lebesgue Masses)\n",
        "  * Das heisst jegliches Integral ist Null.\n",
        "\n",
        "* Losung: Delta wird als 'Distribution' definiert (oder auch: 'verallgemeinerte Funktion'). Funktionen fasst man jetzt als eine Dichte auf (zB Massedichte auf einem eindimensionalen Stab). Delta-Funktion ist dann eine singulare Dichte (Punktmasse).\n",
        "\n",
        "https://www.youtube.com/watch?v=c5WYrQK_7ls\n",
        "\n",
        "* Testfunktionen: Miss die Dichte aus mit einem 'virtuellen Messgerat' unterhalb einer Funktion. Sollten stetig und lokalisiert sein. \n",
        "\n"
      ]
    },
    {
      "cell_type": "markdown",
      "metadata": {
        "id": "kkc6g0_ebFGu"
      },
      "source": [
        "Sei $\\Omega \\subset \\mathbb{R}^{n}$ eine offene, nichtleere Menge. Eine Distribution $T$ ist ein stetiges und lineares Funktional auf dem Raum der [Testfunktionen](https://de.m.wikipedia.org/wiki/Testfunktion) $\\mathcal{D}(\\Omega)$.\n",
        "\n",
        "In anderen Worten eine Abbildung $T: \\mathcal{D}(\\Omega) \\rightarrow \\mathbb{C}$ bzw. $\\mathbb{R},$ so dass für alle $\\phi_{1}, \\phi_{2} \\in \\mathcal{D}(\\Omega)$ und $\\lambda \\in \\mathbb{C}$ gilt $T\\left(\\phi_{1}+\\lambda \\phi_{2}\\right)=T\\left(\\phi_{1}\\right)+\\lambda T\\left(\\phi_{2}\\right)$ und $T\\left(\\phi_{n}\\right) \\rightarrow T(\\phi)$ wann immer $\\phi_{n} \\rightarrow \\phi$ in $\\mathcal{D}(\\Omega)$"
      ]
    },
    {
      "cell_type": "markdown",
      "metadata": {
        "id": "wKQfU_qJZeQ3"
      },
      "source": [
        "**Temperierte Distribution**\n",
        "\n",
        "* Eine [temperierte Distribution](https://de.m.wikipedia.org/wiki/Temperierte_Distribution) ist ein Spezialfall einer Distribution\n",
        "\n",
        "* Laurent Schwartz führte 1947 den Raum der temperierten Distributionen ein, um die Fourier-Transformation in seine Distributionentheorie integrieren zu können."
      ]
    },
    {
      "cell_type": "markdown",
      "metadata": {
        "id": "q0RpKoo8XswO"
      },
      "source": [
        "**Delta-Distribution** ([Dirac-Funktion](https://de.m.wikipedia.org/wiki/Delta-Distribution))\n",
        "* ist eine spezielle irreguläre Distribution mit kompaktem Träger. Sie hat in der Mathematik und Physik grundlegende Bedeutung. Ihr übliches Formelsymbol ist δ (kleines Delta)."
      ]
    },
    {
      "cell_type": "markdown",
      "metadata": {
        "id": "gUQJVjiw4Ou5"
      },
      "source": [
        "https://de.m.wikipedia.org/wiki/Distribution_(Mathematik)"
      ]
    },
    {
      "cell_type": "markdown",
      "metadata": {
        "id": "pXO6GrABRMxJ"
      },
      "source": [
        "**Algebras of generalized functions**"
      ]
    },
    {
      "cell_type": "markdown",
      "metadata": {
        "id": "b6Ly8zs8RdZQ"
      },
      "source": [
        "* become accepted as definitive, for many purposes, was the theory of distributions, developed by Laurent Schwartz. It can be called a principled theory, based on duality theory for topological vector spaces.\n",
        "\n",
        "* This theory was very successful and is still widely used, but suffers from the main drawback that **it allows only linear operations.** In other words, **distributions cannot be multiplied** (except for very special cases): unlike most classical function spaces, they are not an algebra. For example it is not meaningful to square the Dirac delta function. Work of Schwartz from around 1954 showed that was an intrinsic difficulty.\n",
        "\n",
        "* Another solution of the multiplication problem is dictated by the [path integral formulation](https://en.wikipedia.org/wiki/Path_integral_formulation) of quantum mechanics. Since this is required to be equivalent to the Schrödinger theory of quantum mechanics which is invariant under coordinate transformations, this property must be shared by path integrals. This fixes all products of generalized functions as shown by H. Kleinert and A. Chervyakov. The result is equivalent to what can be derived from [dimensional regularization](https://en.wikipedia.org/wiki/Dimensional_regularization).\n",
        "\n",
        "* **The problem of multiplication of distributions, a limitation of the Schwartz distribution theory, becomes serious for non-linear problems.**\n",
        "\n"
      ]
    },
    {
      "cell_type": "markdown",
      "metadata": {
        "id": "Vah1nYJrRRUe"
      },
      "source": [
        "https://en.wikipedia.org/wiki/Generalized_function#Algebras_of_generalized_functions"
      ]
    },
    {
      "cell_type": "markdown",
      "metadata": {
        "id": "hIeZyPJFY6zQ"
      },
      "source": [
        "**Test Function**"
      ]
    },
    {
      "cell_type": "markdown",
      "metadata": {
        "id": "HGPKMjmZrkfa"
      },
      "source": [
        "* Als Testfunktionen bezeichnet man gewisse Typen von Funktionen, die in der Distributionentheorie eine wesentliche Rolle spielen. Üblicherweise **fasst man Testfunktionen eines bestimmten Typs zu einem Vektorraum** zusammen. \n",
        "\n",
        "* **Die zugehörigen Distributionen sind dann lineare Funktionale auf diesen Vektorräumen**. Ihr Name rührt daher, dass man die Distributionen (im Sinne linearer Abbildungen) auf die Testfunktionen anwendet und dadurch testet\n",
        "\n",
        "* Es gibt verschiedene Arten von Testfunktionen. In der mathematischen Literatur werden häufig der Raum der glatten Funktionen mit kompaktem Träger oder der Schwartz-Raum als Testfunktionenraum bezeichnet."
      ]
    },
    {
      "cell_type": "markdown",
      "metadata": {
        "id": "G6SK2fviw7Fx"
      },
      "source": [
        "formulier problem in variationell (sobolove räume), und dann Eigenschaften von Testfunktionen ausnutzen"
      ]
    },
    {
      "cell_type": "markdown",
      "metadata": {
        "id": "EkzmP7czg9vE"
      },
      "source": [
        "https://www.youtube.com/watch?v=beu28z_q3po"
      ]
    },
    {
      "cell_type": "markdown",
      "metadata": {
        "id": "b_GNr0ICY8zM"
      },
      "source": [
        "https://en.wikipedia.org/wiki/Bump_function"
      ]
    },
    {
      "cell_type": "markdown",
      "metadata": {
        "id": "dOcnX24HY_CW"
      },
      "source": [
        "https://de.m.wikipedia.org/wiki/Testfunktion"
      ]
    },
    {
      "cell_type": "markdown",
      "metadata": {
        "id": "kP3NPe1VZAEO"
      },
      "source": [
        "https://en.m.wikipedia.org/wiki/Test_functions_for_optimization"
      ]
    },
    {
      "cell_type": "markdown",
      "metadata": {
        "id": "IqWJSAyutp_e"
      },
      "source": [
        "**Schwarz-Raum**"
      ]
    },
    {
      "cell_type": "markdown",
      "metadata": {
        "id": "ZdsUKksJttCJ"
      },
      "source": [
        "https://de.m.wikipedia.org/wiki/Schwartz-Raum"
      ]
    },
    {
      "cell_type": "markdown",
      "metadata": {
        "id": "Icf9R4rz53z_"
      },
      "source": [
        "## **Differentialgleichungen**"
      ]
    },
    {
      "cell_type": "markdown",
      "metadata": {
        "id": "QmfX-CNmOZGr"
      },
      "source": [
        "#### **Ableitungen**"
      ]
    },
    {
      "cell_type": "markdown",
      "metadata": {
        "id": "hvmNoUK4JpdS"
      },
      "source": [
        "Die Ableitung ist zunächst nur für einen Punkt $\\left(x_{0} \\mid f\\left(x_{0}\\right)\\right)$ auf dem Graphen einer Funktion $f(x)$ bzw. für eine Stelle $x_{0}$ definiert. Sie ist gegeben durch:\n",
        "\n",
        "> $\\lim _{x \\rightarrow x_{0}} \\frac{f(x)-f\\left(x_{0}\\right)}{x-x_{0}}$ oder alternativ $\\lim _{h \\rightarrow 0} \\frac{f\\left(x_{0}+h\\right)-f\\left(x_{0}\\right)}{h}$\n",
        "\n",
        "Anschaulich erhält man durch den [Differenzenquotienten](https://de.serlo.org/mathe/1669/differenzenquotient) die Steigung der Sekante an den Funktionsgraphen von dem Punkt x\n",
        "0\n",
        " und einem anderen Punkt. Die Idee bei beiden Defintionen ist, dass man die Tangente durch Sekanten annähert, indem man den x-Wert des zweiten Punktes immer näher an x\n",
        "0\n",
        " wählt. "
      ]
    },
    {
      "cell_type": "markdown",
      "metadata": {
        "id": "MpnWK1cmKK5d"
      },
      "source": [
        "![ff](https://raw.githubusercontent.com/deltorobarba/repo/master/ableitung.png)\n",
        "\n",
        "*Drittes Bild mit A = B: Die Steigung dieser Tangente ist gleich der Ableitung an der Stelle x0*\n",
        "\n"
      ]
    },
    {
      "cell_type": "markdown",
      "metadata": {
        "id": "f3yAwA1_BLFb"
      },
      "source": [
        "Jede differenzierbare Funktion ist stetig, die Umkehrung gilt jedoch nicht."
      ]
    },
    {
      "cell_type": "markdown",
      "metadata": {
        "id": "M9NhdqqJ_y0C"
      },
      "source": [
        "**Alternative Notationen**"
      ]
    },
    {
      "cell_type": "markdown",
      "metadata": {
        "id": "J1fJyenfAvRg"
      },
      "source": [
        "$f^{\\prime}(x)=\\frac{\\mathrm{d} f}{\\mathrm{~d} x}(x)=\\frac{\\mathrm{d} f(x)}{\\mathrm{d} x}=\\frac{\\mathrm{d}}{\\mathrm{d} x} f(x)$"
      ]
    },
    {
      "cell_type": "markdown",
      "metadata": {
        "id": "SFPb9KMIJBF2"
      },
      "source": [
        "https://de.serlo.org/mathe/1795/ableitung"
      ]
    },
    {
      "cell_type": "markdown",
      "metadata": {
        "id": "FbKE76s03IIu"
      },
      "source": [
        "**Differentenquotient vs Differentalquotient**"
      ]
    },
    {
      "cell_type": "markdown",
      "metadata": {
        "id": "Qzrgbw2f8qHA"
      },
      "source": [
        "> Der **Differentenquotient** $\\lim _{h \\rightarrow 0} \\frac{f\\left(x_{0}+h\\right)-f\\left(x_{0}\\right)}{h}$ gibt die Steigung durch 2 Punkte an. Mit lim fur h gegen Null im Differentenquotienten ergibt es den **Differentialquotient** f<sup>'</sup> (x<sub>0</sub>) (erste Ableitung, das ist die Steigung an einer Stelle)."
      ]
    },
    {
      "cell_type": "markdown",
      "metadata": {
        "id": "SWoPgtWy97m0"
      },
      "source": [
        "> Notation mit dem [Differentialoperator](https://www.youtube.com/watch?v=LjeFmpkoUxQ&list=PLLTAHuUj-zHhJSdV8hqWaydgOWjF-fYK0&index=3): $\\frac{\\mathrm{d}}{\\mathrm{~d} x}$ sieht folgendermassen aus: $f^{\\prime}\\left(x\\right)$ = $\\frac{\\mathrm{d}}{\\mathrm{~d} x}\\left(f(x)\\right)$"
      ]
    },
    {
      "cell_type": "markdown",
      "metadata": {
        "id": "UnbYnGzHJG7k"
      },
      "source": [
        "**Mehrfache Ableitungen**\n",
        "\n",
        "* Erste Ableitung gibt die Steigung einer Funktion\n",
        "* Zweite Ableitung: Wann ist die Steigung konstant?\n",
        "* Zum Beispiel ist die erste Ableitung des Orts x(t) nach der Zeit t die Momentangeschwindigkeit, die zweite Ableitung die Beschleunigung."
      ]
    },
    {
      "cell_type": "markdown",
      "metadata": {
        "id": "E0Ql0LAXOfS3"
      },
      "source": [
        "**Von der Ableitung zur Ableitungsfunktion (Die Ableitung als Funktion mit dem Differenzenquotient)**"
      ]
    },
    {
      "cell_type": "markdown",
      "metadata": {
        "id": "EcgNny9VAdc6"
      },
      "source": [
        "Von der Ableitung an einem bestimmten Punkt ist es nur ein kleiner Schritt zur Ableitung auf dem ganzen Definitionsbereich. Denn alle \"normalen\" Funktionen (die in der Schule behandelt werden) besitzen für alle $x \\in D$ den gleichen Differenzenquotienten in Abhängigkeit von $x$. In dem Fall kann man die Ableitungen mit Hilfe der Ableitungsregeln bestimmen.\n",
        "\n",
        "Beispiel mit $f(x)=x^{2}$\n",
        "\n",
        "Wir berechnen die Ableitung der Funktkon $f(x)=x^{2}$ und benutzen die Definition $\\lim _{x \\rightarrow x_{0}} \\frac{f(x)-f\\left(x_{0}\\right)}{x-x_{0}} .$ Mit Hilfe der [dritten binomischen Formel](https://de.wikipedia.org/wiki/Binomische_Formeln) bekommen wir für die Ableitung $\\lim _{x \\rightarrow x_{0}} \\frac{x^{2}-x_{0}^{2}}{x-x_{0}}=\\lim _{x \\rightarrow x_{0}} \\frac{\\left(x+x_{0}\\right)\\left(x-x_{0}\\right)}{x-x_{0}}=\\lim _{x \\rightarrow x_{0}}\\left(x+x_{0}\\right)=2 x_{0} .$ Das\n",
        "heißt, dass egal an welchem Punkt $x_{0}$ wir die Ableitung ausrechnen, wir bekommen immer $2 x_{0}$"
      ]
    },
    {
      "cell_type": "markdown",
      "metadata": {
        "id": "VM6pwdZqLhmI"
      },
      "source": [
        "* **Eine Ableitungsfunktion (kurz: Ableitung) ist eine Funktion, die jeder Stelle x0 den Wert ihres Differentialquotienten zuordnet.**\n",
        "\n",
        "* Die Ableitungsfunktion zu einer gegebenen Funktion f ist – vereinfacht ausgedrückt – die Tangentensteigungsfunktion. Das bedeutet: An jeder Stelle x hat die Steigung der Tangente an den Graphen von f einen bestimmten Wert, welcher der Ableitung der Funktion entspricht. Nun kannst du quasi mit einem Lineal den Graphen von f \"abfahren\". Das Lineal soll dabei immer tangential an den Graphen anliegen. Wenn du dann die Steigung des Lineals Punkt für Punkt in ein Diagramm überträgst, erhältst du ein Bild der Ableitungsfunktion. Dabei musst du die Funktionsgleichung selbst nicht kennen, sondern nur den Graphen."
      ]
    },
    {
      "cell_type": "markdown",
      "metadata": {
        "id": "uEtmL-kkCloc"
      },
      "source": [
        "**Definition: Differenzierbarkeit**"
      ]
    },
    {
      "cell_type": "markdown",
      "metadata": {
        "id": "RKcxkknbBh4n"
      },
      "source": [
        "Eine Funktion $f: U \\rightarrow \\mathbb{R},$ die ein **offenes Intervall** $U$ in die reellen Zahlen abbildet, heißt differenzierbar an der Stelle $x_{0} \\in U$, falls der Grenzwert\n",
        "\n",
        "> $\n",
        "\\lim _{x \\rightarrow x_{0}} \\frac{f(x)-f\\left(x_{0}\\right)}{x-x_{0}}=\\lim _{h \\rightarrow 0} \\frac{f\\left(x_{0}+h\\right)-f\\left(x_{0}\\right)}{h} \\quad\\left(\\text { mit } h=x-x_{0}\\right)\n",
        "$\n",
        "\n",
        "existiert. Dieser Grenzwert heißt Differentialquotient oder Ableitung von $f$ nach $x$ an der Stelle $x_{0}$ und wird notiert als\n",
        "\n",
        "> $f^{\\prime}\\left(x_{0}\\right)$ oder $\\left.\\frac{\\mathrm{d} f(x)}{\\mathrm{d} x}\\right|_{x=x_{0}}$ oder $\\frac{\\mathrm{d} f}{\\mathrm{~d} x}\\left(x_{0}\\right)$ oder $\\frac{\\mathrm{d}}{\\mathrm{d} x} f\\left(x_{0}\\right)$"
      ]
    },
    {
      "cell_type": "markdown",
      "metadata": {
        "id": "Z9M3ftNNCcuy"
      },
      "source": [
        "**Eine weitere Definition ist**: Es gibt eine an der Stelle $x_{0}$ stetige Funktion $r$ mit $r\\left(x_{0}\\right)=0$ und eine Konstante $L$, sodass für alle $x$ gilt\n",
        "\n",
        "> $\n",
        "f(x)=f\\left(x_{0}\\right)+L\\left(x-x_{0}\\right)+r(x)\\left(x-x_{0}\\right)\n",
        "$\n",
        "\n",
        "Die Bedingungen $r\\left(x_{0}\\right)=0$ und dass $r$ an der Stelle $x_{0}$ stetig ist, bedeuten gerade, dass das \" Restglied\" $r(x)$ für $x$ gegen $x_{0}$ gegen 0 konvergiert."
      ]
    },
    {
      "cell_type": "markdown",
      "metadata": {
        "id": "gjmZZyPHuUbW"
      },
      "source": [
        "**Partielle Ableitung**"
      ]
    },
    {
      "cell_type": "markdown",
      "metadata": {
        "id": "sjdC7eHEw1be"
      },
      "source": [
        "Die ersten partiellen Ableitungen lassen sich in einem Vektor anordnen, dem Gradienten von\n",
        "$f:$\n",
        "\n",
        "> $\n",
        "\\operatorname{grad} f=\\nabla f:=\\left(\\frac{\\partial f}{\\partial x_{1}}, \\ldots, \\frac{\\partial f}{\\partial x_{n}}\\right)^{T}\n",
        "$\n",
        "\n",
        "Hierbei ist $\\nabla$ der Nabla-Operator."
      ]
    },
    {
      "cell_type": "markdown",
      "metadata": {
        "id": "HGSYWhoquWuT"
      },
      "source": [
        "https://de.wikipedia.org/wiki/Partielle_Ableitung"
      ]
    },
    {
      "cell_type": "markdown",
      "metadata": {
        "id": "x-VLzJWGxwbO"
      },
      "source": [
        "Die [**Jacobi-Matrix**](https://de.wikipedia.org/wiki/Jacobi-Matrix) (auch Funktionalmatrix, Ableitungsmatrix oder Jacobische genannt) einer differenzierbaren Funktion $f: \\mathbb{R}^{n} \\rightarrow \\mathbb{R}^{m}$ ist die $m \\times n$ -Matrix **sämtlicher erster\n",
        "partieller Ableitungen**. Im Falle der totalen Differenzierbarkeit bildet sie die Matrix-Darstellung der als lineare Abbildung aufgefassten ersten Ableitung der Funktion $f$ bezüglich der Standardbasen des $\\mathbb{R}^{n}$ und des $\\mathbb{R}^{m}$"
      ]
    },
    {
      "cell_type": "markdown",
      "metadata": {
        "id": "YHfl85L544d0"
      },
      "source": [
        "Für $a\\in U$ die Jacobi-Matrix ist im Punkt a definiert durch:"
      ]
    },
    {
      "cell_type": "markdown",
      "metadata": {
        "id": "Dr-6LNw44o18"
      },
      "source": [
        "> $J_{f}(a):=\\left(\\frac{\\partial f_{i}}{\\partial x_{j}}(a)\\right)_{i=1, \\ldots, m ; j=1, \\ldots, n}=\\left(\\begin{array}{cccc}\n",
        "\\frac{\\partial f_{1}}{\\partial x_{1}}(a) & \\frac{\\partial f_{1}}{\\partial x_{2}}(a) & \\cdots & \\frac{\\partial f_{1}}{\\partial x_{n}}(a) \\\\\n",
        "\\vdots & \\vdots & \\ddots & \\vdots \\\\\n",
        "\\frac{\\partial f_{m}}{\\partial x_{1}}(a) & \\frac{\\partial f_{m}}{\\partial x_{2}}(a) & \\cdots & \\frac{\\partial f_{m}}{\\partial x_{n}}(a)\n",
        "\\end{array}\\right)$"
      ]
    },
    {
      "cell_type": "markdown",
      "metadata": {
        "id": "EpVRFDNexCy7"
      },
      "source": [
        "Die **zweiten partiellen Ableitungen** lassen sich in einer Matrix anordnen, der [Hesse-Matrix](https://de.wikipedia.org/wiki/Hesse-Matrix)\n",
        "\n",
        "> $\n",
        "\\mathrm{H}_{f}=\\left(\\frac{\\partial^{2} f}{\\partial x_{i} \\partial x_{j}}\\right)=\\left(\\begin{array}{ccc}\n",
        "\\frac{\\partial^{2} f}{\\partial x_{1} \\partial x_{1}} & \\cdots & \\frac{\\partial^{2} f}{\\partial x_{1} \\partial x_{n}} \\\\\n",
        "\\vdots & \\ddots & \\vdots \\\\\n",
        "\\frac{\\partial^{2} f}{\\partial x_{n} \\partial x_{1}} & \\cdots & \\frac{\\partial^{2} f}{\\partial x_{n} \\partial x_{n}}\n",
        "\\end{array}\\right)\n",
        "$"
      ]
    },
    {
      "cell_type": "markdown",
      "metadata": {
        "id": "l6HivJbCeGfs"
      },
      "source": [
        "**Schwache Ableitung & schwache Lösung**"
      ]
    },
    {
      "cell_type": "markdown",
      "metadata": {
        "id": "v4I7IyMVeJte"
      },
      "source": [
        "* Eine [schwache Ableitung](https://de.wikipedia.org/wiki/Schwache_Ableitung) bzw. [weak derivative](https://en.wikipedia.org/wiki/Weak_derivative) ist in der Funktionalanalysis, einem Teilgebiet der Mathematik, eine Erweiterung des Begriffs der gewöhnlichen (klassischen) Ableitung. \n",
        "\n",
        "* Er ermöglicht es, Funktionen eine Ableitung zuzuordnen, die nicht (stark bzw. im klassischen Sinne) differenzierbar sind.\n",
        "\n",
        "* Schwache Ableitungen spielen eine große Rolle in der Theorie der partiellen Differentialgleichungen. **Räume schwach differenzierbarer Funktionen sind die Sobolev-Räume**. \n",
        "\n",
        "* Ein noch allgemeinerer Begriff der Ableitung ist die Distributionenableitung.\n",
        "\n",
        "* In mathematics, a weak derivative is a generalization of the concept of the derivative of a function (strong derivative) **for functions not assumed differentiable, but only integrable**, i.e., to lie in the $L^{p}$ space $L^{1}([a, b])$. See distributions for a more general definition."
      ]
    },
    {
      "cell_type": "markdown",
      "metadata": {
        "id": "0LrC4fHuJcow"
      },
      "source": [
        "**This concept gives rise to the definition of [weak solutions](https://en.wikipedia.org/wiki/Weak_solution) in Sobolev spaces, which are useful for problems of differential equations and in functional analysis.**"
      ]
    },
    {
      "cell_type": "markdown",
      "metadata": {
        "id": "r3mxaFV-_z_K"
      },
      "source": [
        "Betrachtet man eine auf einem offenen Intervall $I=] a, b[$ differenzierbare Funktion $f$ und\n",
        "eine Testfunktion $\\varphi$ (das heißt, $\\varphi$ ist beliebig oft differenzierbar und besitzt einen kompakten Träger), dann gilt\n",
        "\n",
        ">$\n",
        "\\int_{I} f^{\\prime}(t) \\varphi(t) \\mathrm{d} t=-\\int_{I} f(t) \\varphi^{\\prime}(t) \\mathrm{d} t\n",
        "$\n",
        "\n",
        "Hierbei wurde die partielle Integration verwendet, wobei die Randterme wegfallen $(\\varphi(a)=$ $0, \\varphi(b)=0)$\n",
        "Ist $f$ eine $L^{2}$ -Funktion, dann kann, selbst wenn $f$ nicht differenzierbar ist (genauer: keinen differenzierbaren Vertreter in der Äquivalenzklasse besitzt), eine Funktion $g \\in L^{2}(a, b)$ existieren, die die Gleichung\n",
        "\n",
        "> $\n",
        "\\int_{I} g(t) \\varphi(t) \\mathrm{d} t=-\\int_{I} f(t) \\varphi^{\\prime}(t) \\mathrm{d} t\n",
        "$\n",
        "\n",
        "für jede Testfunktion $\\varphi$ erfüllt. Eine solche Funktion $g$ heißt schwache Ableitung von $f$. Man schreibt wie bei der starken Ableitung $f^{\\prime}:=g$."
      ]
    },
    {
      "cell_type": "markdown",
      "metadata": {
        "id": "JQ9f_6E__b-a"
      },
      "source": [
        "* Ferner **stimmen bei jeder stark differenzierbaren Funktion starke und schwache Ableitung überein**, so dass man von einer Verallgemeinerung des Ableitungsbegriffs sprechen kann. \n",
        "\n",
        "* Im Gegensatz zur starken Ableitung ist die **schwache Ableitung aber nicht punktweise, sondern nur für die ganze Funktion definiert.**\n",
        "\n",
        "* Es ist zu beachten, dass sich die schwache Differenzierbarkeit immer auf die gesamte Funktion bezieht und nicht (wie die gewöhnliche Ableitung) punktweise definiert ist. **Punktweise muss eine Ableitung nicht einmal existieren**. Es lässt sich allerdings zeigen, dass hinreichend oft vorhandene, schwache Differenzierbarkeit auch wieder Differenzierbarkeit im üblichen Sinne (starke oder gewöhnliche Differenzierbarkeit) nach sich zieht. \n",
        "\n",
        "* **D.h. es gibt Einbettungen eines Sobolew-Raums mit $n$ schwachen Ableitungen in Räume $k$ -fach differenzierbarer Funktionen $C^{k}$ mit $n>k \\geq 0$.**\n",
        "\n",
        "* Man kann statt $f, f^{\\prime} \\in L^{2}$ auch allgemeiner $f, f^{\\prime} \\in L^{p}$ für $1 \\leq p \\leq \\infty$ fordern. **Die Teilmenge der Funktionen aus $L^{p}$ in der $n \\geq 1$ schwache Ableitungen existieren ist ein sogenannter Sobolew-Raum.**\n",
        "\n"
      ]
    },
    {
      "cell_type": "markdown",
      "metadata": {
        "id": "dnQyQdvBIVBt"
      },
      "source": [
        "**Examples**: "
      ]
    },
    {
      "cell_type": "markdown",
      "metadata": {
        "id": "_JzbucSUHcx1"
      },
      "source": [
        "The **absolute value function** u : [−1, 1] → [0, 1], u(t) = |t|, which is not differentiable at t = 0, has a weak derivative v known as the [**sign function**](https://de.wikipedia.org/wiki/Vorzeichenfunktion) given by\n",
        "\n",
        "![gg](https://mathepedia.de/img/Abs_x.png)\n",
        "\n",
        "*Signumfunktion als schwache Ableitung der Betragsfunktions*"
      ]
    },
    {
      "cell_type": "markdown",
      "metadata": {
        "id": "lonnjf2vIO3N"
      },
      "source": [
        "The **characteristic function** of the rational numbers $1_{\\mathbb{Q}}$  is nowhere differentiable yet has a weak derivative."
      ]
    },
    {
      "cell_type": "markdown",
      "metadata": {
        "id": "wl-sETcUIL-z"
      },
      "source": [
        "The **Cantor function** c does not have a weak derivative, despite being differentiable almost everywhere. "
      ]
    },
    {
      "cell_type": "markdown",
      "metadata": {
        "id": "phajjQs3MCzs"
      },
      "source": [
        "**Schwache Lösung**"
      ]
    },
    {
      "cell_type": "markdown",
      "metadata": {
        "id": "f9NJ-LSwMvyw"
      },
      "source": [
        "* Avoiding the language of distributions, one starts with a differential equation and rewrites it in such a way that **no derivatives of the solution of the equation show up** (the new form is called the weak formulation, and the solutions to it are called weak solutions). \n",
        "\n",
        "* The weak formulation allows one to **find solutions to a differential equation which are not differentiable**.\n",
        "\n",
        "* Weak solutions are important because a great many differential equations encountered in modelling real-world phenomena do not admit of sufficiently smooth solutions, and the only way of solving such equations is using the weak formulation. \n",
        "\n",
        "* Even in situations where an equation does have differentiable solutions, it is often convenient to first prove the existence of weak solutions and only later show that those solutions are in fact smooth enough.\n",
        "\n",
        "The general idea which follows from this example is that, when solving a differential equation in $u,$ **one can rewrite it using a test function $\\varphi,$ such that whatever derivatives in $u$ show up in the equation, they are \"transferred\" via integration by parts to $\\varphi$,** resulting in an equation without derivatives of $u$. This new equation generalizes the original equation to include solutions which are not necessarily differentiable.\n"
      ]
    },
    {
      "cell_type": "markdown",
      "metadata": {
        "id": "EH9kxcz_MFEe"
      },
      "source": [
        "https://de.wikipedia.org/wiki/Schwache_Lösung"
      ]
    },
    {
      "cell_type": "markdown",
      "metadata": {
        "id": "I0Shd3mlMMe6"
      },
      "source": [
        "https://en.wikipedia.org/wiki/Weak_solution"
      ]
    },
    {
      "cell_type": "markdown",
      "metadata": {
        "id": "ftKE9QkO55-i"
      },
      "source": [
        "#### **Differentialgleichungen**"
      ]
    },
    {
      "cell_type": "markdown",
      "metadata": {
        "id": "Tv-U56lOF-D-"
      },
      "source": [
        "**Differentiationsklasse**"
      ]
    },
    {
      "cell_type": "markdown",
      "metadata": {
        "id": "kMVNVx-U0aex"
      },
      "source": [
        "https://de.wikipedia.org/wiki/Differentiationsklasse"
      ]
    },
    {
      "cell_type": "markdown",
      "metadata": {
        "id": "Mbhn1WaF55-i"
      },
      "source": [
        "**Differential Equations**\n",
        "\n",
        "* **easier to describe change than absolute amounts** \n",
        "\n",
        "  * Like for population growth: how they increase is more interesting than what particular value they have at a certain point in time\n",
        "  * Veränderungen sind leichter zu beschreiben als absolute Beträge (wie für die Bevölkerung: wie sie zunehmen als welchen bestimmten Wert sie zu einem bestimmten Zeitpunkt haben)\n",
        "\n",
        "* Newton physics: most often described in terms of force, and force determines acceleration, which is a statement about change\n",
        "\n",
        "* **Ordinary Differential Equations**: one input, often time t. \n",
        "\n",
        "> $\\ddot{\\theta}(t)=-\\mu \\dot{\\theta}(t)-\\frac{g}{L} \\sin (\\theta(t))$\n",
        "\n",
        "* **Partial Differential Equations**: multiple inputs, a whole continuum of values changing with time, like temperature at every point in a solid body, or velocity of a fluid at every point in space\n",
        "\n",
        "> $\\frac{\\partial T}{\\partial t}(x, y, t)=\\frac{\\partial^{2} T}{\\partial x^{2}}(x, y, t)+\\frac{\\partial^{2} T}{\\partial y^{2}}(x, y, t)$\n"
      ]
    },
    {
      "cell_type": "markdown",
      "metadata": {
        "id": "pGSI851Z55-i"
      },
      "source": [
        "Differentil Equations: https://youtube.com/playlist?list=PLZHQObOWTQDNPOjrT6KVlfJuKtYTftqH6"
      ]
    },
    {
      "cell_type": "markdown",
      "metadata": {
        "id": "Z7TQ1RqU55-j"
      },
      "source": [
        "* Eine Differentialgleichung ist eine mathematische **Gleichung für eine gesuchte Funktion** von einer oder mehreren Variablen, **in der auch Ableitungen dieser Funktion vorkommen**. Differentialgleichungen sind also Gleichungen, in denen \n",
        "  * **Ableitungen** einer \n",
        "  * **unbekannten Funktion** auftauchen.\n",
        "\n",
        "* Differentialgleichungen werden überall dort verwendet, wo die Änderung einer Größe von der gleichen Größe selbst abhängt. Diese Funktion nutzt man zur Modellierung physikalischer Vorgänge wie Wachstum, Bewegung oder Kräfte. Beispiele:\n",
        "\n",
        "  * Die Funktion f beschreibt den Ort, dann beschreibt die f´ die Änderung des Ortes und das ist nichts anderes, als die Geschwindigkeit. \n",
        "\n",
        "  * Die Funktion f beschreibt die Größe eine Bevölkerung, dann beschreibt f´deren Änderung und das ist nichts anderes als das Bevölkerungswachstum\n",
        "\n",
        "  * Allgemein beschreibt die Funktion f eine Größe und f´die Änderungsrate dieser Größe.\n",
        "\n",
        "* Die **Lösung einer Differentialgleichung** kann im Allgemeinen nicht durch die Gleichung selbst eindeutig bestimmt werden, sondern **benötigt zusätzlich noch weitere Anfangs- oder Randwerte zu exakten Bestimmung**. \n",
        "\n",
        "* Daher ist es nicht möglich, eine allgemein gültige Lösungsmethodik anzugeben. Nur für gewöhnliche, integrable Differentialgleichungen existiert ein allgemeines Lösungsverfahren.\n",
        "Folgende Lösungsverfahren sind möglich:\n",
        "\n",
        "  * Für gewöhnliche Differentialgleichungen benutzt man die **Umkehrung des Differenzierens**, in dem man die Stammfunktion aufsucht und so die Differentialgleichung integriert. **Die Lösungsfunktion ist dann einfach die Stammfunktion der Differentialgleichung**. Beispiel: f´(x) = 4, dann ist die Stammfunktion F(x) = 4x + C und somit die Lösung der Differentialgleichung.\n",
        "\n",
        "  * Partielle Differentialgleichungen werden in erster Linie durch Trennung der Variablen und spätere Integration gelöst. Zum Beispiel durch (n-fache) Integration fur f(x) = x<sup>2</sup> bestimmt man das unbestimmte Integral $y=\\int f(x) \\mathrm{d} x+C$ (Siehe [hier](https://www.lern-online.net/mathematik/analysis/differentialrechnung/differentialgleichung/differentialgleichung-1-ordnung-loesen/) und [hier](https://www.youtube.com/watch?v=wUwxsEbEwHA)).\n",
        "\n",
        "  * **Aber Achtung: ein mathematisches Modell (stetig, differenzierbar) kann die Realität oft nur unzureichend widerspiegeln. Beispiel ist die Zinseszinsrechnung. Oder bei Computern: Ein kontinuierlicher Vorgang wird diskret modelliert, z. B. bei der Simulation von Bewegungen am Computer, da der Computer nur in diskreten Schritten rechnen kann.** ([Source](https://www.spektrum.de/spektrum/projekt2/gaes3.htm))\n",
        "\n",
        "* **Beispiel: Bewegungsgleichung**\n",
        "\n",
        "  * **Gegeben** sind die Beschleunigung = zweifache Ableitung\n",
        "\n",
        "  * **Gesucht** (unbekannte Funktion): Gesucht ist eine Gleichung x(t), die den Ort angibt, an dem sich der fallende Stein zu einer bestimmten Zeit befindet.\n",
        "\n",
        "  * **Lösung**: Integration, und zwar zweifach - Umkehrung der zweifachen Differentiation (hierbei in Gestalt einer Differentialgleichung zweiter Ordnung)\n",
        "  \n",
        "  * Hierbei kann man aus einer gegebenen Beschleunigung auf die Ortsfunktion eines Körpers zurückzuschließen, also wo befindet sich ein fallendes Objekt zum Zeitpunkt t? Man kennt nur Masse und Beschleunigung. Die mathematische Schwierigkeit dieses Problems rührt daher, dass Ort, Geschwindigkeit und Beschleunigung Vektoren sind, die im Allgemeinen nicht in die gleiche Richtung zeigen, und dass die Kraft von der Zeit t und vom Ort ${\\vec {s}}$ abhängen kann.\n",
        "\n",
        "* Siehe auch [weitere Beispiele einfacher Differentialgleichungen aus der Natur](https://www.spektrum.de/spektrum/projekt2/gaes3.htm):\n",
        "\n",
        "  * Radioaktiver Zerfall\n",
        "\n",
        "  * Zinsrechnung\n",
        "\n",
        "* Bei Differentialgleichungen bekommt man dann als Loesung auch eine Funktion und keine Zahl: **Die Lösung einer Differentialgleichung ist immer eine Funktion (oder im Falle eines Systems von Differentialgleichungen mehrere Funktionen). Es ist jedoch nicht jede Differentialgleichung lösbar.** [Source](https://mathepedia.de/Gewoehnliche_Differentialgleichungen.html)\n",
        "\n",
        "* In den Differentialgleichungen werden Funktionen nicht mit f(x), sondern mit y(x) bezeichnet\n",
        "\n",
        "* Da viele Modelle mehrdimensional sind, sind bei der Formulierung häufig die partiellen Ableitungen sehr wichtig, mit denen sich **partielle Differentialgleichungen** formulieren lassen. Mathematisch kompakt werden diese mittels **Differentialoperatoren** beschrieben und analysiert."
      ]
    },
    {
      "cell_type": "markdown",
      "metadata": {
        "id": "FqpXz9l155-j"
      },
      "source": [
        "https://www.lernort-mint.de/mathematik/ableitung/differentialgleichungen-verwendung/"
      ]
    },
    {
      "cell_type": "markdown",
      "metadata": {
        "id": "Zr37w1yB55-j"
      },
      "source": [
        "https://www.th-nuernberg.de/fileadmin/fakultaeten/amp/Stry/kapitel10.pdf"
      ]
    },
    {
      "cell_type": "markdown",
      "metadata": {
        "id": "6CEIzzEr55-j"
      },
      "source": [
        "https://avhschule.de/differentialgleichungen/"
      ]
    },
    {
      "cell_type": "markdown",
      "metadata": {
        "id": "nbgmntwx55-j"
      },
      "source": [
        "https://de.wikipedia.org/wiki/Differentialrechnung"
      ]
    },
    {
      "cell_type": "markdown",
      "metadata": {
        "id": "zgH-0xLyEbqM"
      },
      "source": [
        "#### **Gewöhnliche Differentialgleichungen** "
      ]
    },
    {
      "cell_type": "markdown",
      "metadata": {
        "id": "StDkAyg_Rg-k"
      },
      "source": [
        "* Eine gewöhnliche Differentialgleichung ist eine Differentialgleichung, bei der zu einer gesuchten Funktion **nur Ableitungen nach genau einer Variablen** auftreten.\n",
        "\n",
        "* Viele physikalische, chemische und biologische Vorgänge in der Natur lassen sich mit solchen Gleichungen mathematisch beschreiben, z. B. der radioaktive Zerfall, Bewegungsvorgänge von Körpern, viele Arten von Schwingungsvorgängen oder das Wachstumsverhalten von Tier-Populationen. In naturwissenschaftlichen Modellen werden gewöhnliche Differentialgleichungen daher häufig eingesetzt, um solche Vorgänge zu analysieren, zu simulieren oder um Vorhersagen abgeben zu können.\n",
        "\n",
        "* **In vielen Fällen kann die Differentialgleichung nicht analytisch gelöst werden**. Man ist daher auf numerische Verfahren angewiesen. \n",
        "\n",
        "* Gewöhnliche Differentialgleichungen beliebiger Ordnung **lassen sich immer auf ein System von gewöhnlichen Differentialgleichungen erster Ordnung zurückführen**. "
      ]
    },
    {
      "cell_type": "markdown",
      "metadata": {
        "id": "xFjY-OhzQpqf"
      },
      "source": [
        "https://de.wikipedia.org/wiki/Gewöhnliche_Differentialgleichung"
      ]
    },
    {
      "cell_type": "markdown",
      "metadata": {
        "id": "TcDCp0rIXcNu"
      },
      "source": [
        "Eine (gewöhnliche) Differentialgleichung erster Ordnung hat die Form \n",
        "\n",
        "> $y^{\\prime}=f(x, y)$ (explizite Form) \n",
        "\n",
        "> $F\\left(x, y, y^{\\prime}\\right)=0$ (implizite Form)\n",
        "\n",
        "(Achtung: y steht hierbei fur eine ganze Funktion, nicht nur einen y-Wert!)\n",
        "\n",
        "Der einfachste Typ einer solchen Differentialgleichung hat die Gestalt:\n",
        "\n",
        "> $\n",
        "y^{\\prime}=f(x)\n",
        "$\n",
        "\n",
        "hängt also nur von $x$ und nicht von $y$ ab. Diese Differentialgleichung kann durch Integrieren gelöst werden. Die allgemeine Lösung ergibt sich dann mit $y=\\int f(x) \\mathrm{d} x+C$. [Source](https://mathepedia.de/DGL_Erster_Ordnung.html)\n",
        "\n",
        "Ist die Differentialgleichung nach der **höchsten Ableitung aufgelöst**, so nennt man die gewöhnliche Differentialgleichung **explizit**, d. h., es gilt:\n",
        "\n",
        "> $y^{(n)}(x)=f\\left(x, y(x), y^{\\prime}(x), \\ldots, y^{(n-1)}(x)\\right)$ bzw.\n",
        "\n",
        "> $y^{(n)}=f\\left(x, y, y^{\\prime}, \\ldots, y^{(n-1)}\\right)$\n",
        "\n",
        "Funktionsgraphen werden in der Regel durch eine Gleichung y=f(x) beschrieben und sind deswegen explizit dargestellte Kurven\n",
        "\n",
        "In den Anwendungen sind explizite gewöhnliche Differentialgleichungen mathematisch einfacher zu verarbeiten. Die höchste vorkommende Ableitungsordnung n wird Ordnung der Differentialgleichung genannt. ([Source](https://de.m.wikipedia.org/wiki/Gewöhnliche_Differentialgleichung))\n",
        "\n",
        "Eine **explizite** gewöhnliche Differentialgleichung 1. Ordnung hat die Gestalt: \n",
        "\n",
        "> $y^{\\prime}(x)=f(x, y(x))$"
      ]
    },
    {
      "cell_type": "markdown",
      "metadata": {
        "id": "qRobucScQj3W"
      },
      "source": [
        "**Implizite gewöhnliche Differentialgleichung**\n",
        "\n",
        "Eine gewöhnliche Differentialgleichung für die gesuchte Funktion $y(x)$ heisst **implizit**, wenn sie in der Form ist:\n",
        "\n",
        "> $F\\left(x, y(x), y^{\\prime}(x), \\ldots, y^{(n)}(x)\\right)=0$\n",
        "\n",
        "* Die implizite Differentiation (auch implizite Ableitung) ist eine Möglichkeit, **eine Funktion, die nicht explizit durch einen Term, sondern nur implizit durch eine Gleichung gegeben ist** (auch implizite Kurve), mit Hilfe der mehrdimensionalen Differentialrechnung abzuleiten. \n",
        "* Sie kann oft auch benutzt werden, um die Ableitung von Funktionen, die zwar explizit gegeben sind, **in dieser Form aber schwierig abzuleiten sind**, zu bestimmen.\n",
        "* Eine implizite Kurve ist in der Mathematik eine Kurve in der euklidischen Ebene, die durch eine Gleichung der Form F(x, y) = 0\n",
        "* Eine implizite Kurve ist also die Gesamtheit der Nullstellen einer Funktion von zwei Variablen. \n",
        "* Implizit bedeutet, dass die Gleichung der Kurve nicht nach x oder y aufgelöst ist.\n",
        "* Siehe auch: [Implizite_Kurve](https://de.wikipedia.org/wiki/Implizite_Kurve) und [Implizite Differentiation](https://de.wikipedia.org/wiki/Implizite_Differentiation)"
      ]
    },
    {
      "cell_type": "markdown",
      "metadata": {
        "id": "kWsfKUCnQmp4"
      },
      "source": [
        "**Explizite gewöhnliche Differentialgleichung**\n",
        "\n",
        "Funktionsgraphen werden in der Regel durch eine Gleichung y=f(x) beschrieben und sind deswegen explizit dargestellte Kurven\n",
        "\n",
        "\n",
        "Ist die Differentialgleichung nach der **höchsten Ableitung aufgelöst**, so nennt man die gewöhnliche Differentialgleichung **explizit**, d. h., es gilt:\n",
        "\n",
        "> $y^{(n)}(x)=f\\left(x, y(x), y^{\\prime}(x), \\ldots, y^{(n-1)}(x)\\right)$ bzw.\n",
        "\n",
        "> $y^{(n)}=f\\left(x, y, y^{\\prime}, \\ldots, y^{(n-1)}\\right)$\n",
        "\n",
        "\n",
        "In den Anwendungen sind explizite gewöhnliche Differentialgleichungen mathematisch einfacher zu verarbeiten. Die höchste vorkommende Ableitungsordnung n wird Ordnung der Differentialgleichung genannt. \n",
        "\n",
        "Eine **explizite** gewöhnliche Differentialgleichung 1. Ordnung hat die Gestalt: \n",
        "\n",
        "> $y^{\\prime}(x)=f(x, y(x))$\n",
        "\n",
        "Extrempunkte: erste Ableitung ist Null."
      ]
    },
    {
      "cell_type": "markdown",
      "metadata": {
        "id": "-65YEbd0SwBp"
      },
      "source": [
        "**Implizit vs explizit**\n",
        "\n",
        "* Eine Funktion kann in Form 𝑦=𝑓(𝑥) dargestellt werden. Das bedeutet, dass diese Funktion nach der Variablen 𝑦 aufgelöst ist. Man spricht in diesem Fall von einer expliziten Darstellung.\n",
        "\n",
        "* Da bei dieser Darstellungsform jedem 𝑥-Wert nur ein 𝑦-Wert zugeordnet wird, können einfache und häufig notwendige Kurven wie Ellipsen oder Kreislinien nicht geschlossen dargestellt werden (zu jedem 𝑥-Wert existieren mehrere 𝑦-Werte), d.h. es wird zur Darstellung mehr als eine Funktion benötigt. Damit für die Darstellung von Ellipsen oder Kreisen nicht mehrere Funktionen aufgestellt werden müssen, kann man diese auch in impliziter Form angeben.\n",
        "\n",
        "* Implizite Darstellung: Bei der impliziten Darstellungsform ist die Funktion nicht nach einer der beiden Variablen aufgelöst. Die Funktion wird als Menge aller Nullstellen von 𝐹 angegeben und hat die Form:\n",
        "\n",
        "> $𝐹 (𝑥,𝑦)=0$\n",
        "\n",
        "* Mit Hilfe der impliziten Darstellung können auch Ellipsen und Kreise dargelegt werden. Anwendungsbeispiele: Um einen Kreis abzubilden, bedarf es bei der expliziten Darstellung zwei Funktionen. \n",
        "\n",
        "https://www.ingenieurkurse.de/hoehere-mathematik-analysis-gewoehnliche-differentialgleichungen/darstellungsarten-ebener-kurven/implizite-und-explizite-darstellung.html"
      ]
    },
    {
      "cell_type": "markdown",
      "metadata": {
        "id": "IZlQP87eROED"
      },
      "source": [
        "**Kurvenschar (Funktionsschar)**"
      ]
    },
    {
      "cell_type": "markdown",
      "metadata": {
        "id": "vC2FVkDNRRdO"
      },
      "source": [
        "* Die Lösungsmenge einer gewöhnlichen Differentialgleichung ist im allgemeinen eine Funktionenschar.\n",
        "\n",
        "* Eine [Kurvenschar](https://de.wikipedia.org/wiki/Kurvenschar), auch [Funktionenschar](https://mathepedia.de/Kurvenscharen.html), Funktionsschar oder Parameterfunktion, ist eine Menge verschiedener Kurven, deren **Abbildungsvorschriften sich in mindestens einem Parameter unterscheiden**. Sonderfälle sind das Büschel, eine einparametrige Schar, und das Bündel, eine Schar mit einem allen Funktionen gemeinsamen Punkt.\n",
        "\n",
        "![cc](https://upload.wikimedia.org/wikipedia/commons/thumb/2/22/Kurvenschar_parabel.svg/360px-Kurvenschar_parabel.svg.png)\n",
        "\n",
        "*Parabelschar $f_{a}(x)=a x^{2}$. Bündel in (0,0) und Büschel in $a$*\n"
      ]
    },
    {
      "cell_type": "markdown",
      "metadata": {
        "id": "CCqE_cd7U5Vw"
      },
      "source": [
        "**Beispiel fur gewohnliche Differentialgleichungen (linear und nichtlinear)**"
      ]
    },
    {
      "cell_type": "markdown",
      "metadata": {
        "id": "PH40tE-BU-x-"
      },
      "source": [
        "https://de.wikipedia.org/wiki/Lotka-Volterra-Gleichungen"
      ]
    },
    {
      "cell_type": "markdown",
      "metadata": {
        "id": "_V_2fb9vVJCf"
      },
      "source": [
        "https://de.wikipedia.org/wiki/Hodgkin-Huxley-Modell"
      ]
    },
    {
      "cell_type": "markdown",
      "metadata": {
        "id": "lWaTQAuEG2m6"
      },
      "source": [
        "#### **Autonome Differentialgleichung**"
      ]
    },
    {
      "cell_type": "markdown",
      "metadata": {
        "id": "KKVNzeFUG6BO"
      },
      "source": [
        "Die zeitliche Entwicklung eines Punktes im Phasenraum wird durch Differentialgleichungen beschrieben und durch Trajektorien (Bahnkurven, Orbit) im Phasenraum dargestellt. Dies sind **Differentialgleichungen erster Ordnung in der Zeit** und durch einen Anfangspunkt eindeutig festgelegt. Ist die Differentialgleichung zeitunabhängig, sind dies **autonome Differentialgleichungen**.\n",
        "\n",
        "Als [autonome Differentialgleichung](https://de.wikipedia.org/wiki/Autonome_Differentialgleichung) oder autonomes System bezeichnet man einen Typ von gewöhnlichen Differentialgleichungen, **der nicht explizit von der unabhängigen Variable abhängt**.\n",
        "\n",
        "Zum Beispiel ist die Differentialgleichung für den [harmonischen Oszillator](https://de.wikipedia.org/wiki/Harmonischer_Oszillator) autonom:\n",
        "\n",
        ">$\n",
        "y^{\\prime \\prime}(x)+\\lambda \\cdot y(x)=0\n",
        "$\n",
        "\n",
        "Die Mathieusche Differentialgleichung dagegen nicht:\n",
        "\n",
        ">$\n",
        "y^{\\prime \\prime}(x)+[\\lambda+\\gamma \\cos (x)] \\cdot y(x)=0\n",
        "$\n",
        "\n",
        "da sie explizit von der unabhängigen Variable $x$ abhängt (ein Parameter wird „von außen“ periodisch verändert). \n",
        "\n",
        "Die unabhängige Variable steht in den Anwendungen häufig für die Zeit."
      ]
    },
    {
      "cell_type": "markdown",
      "metadata": {
        "id": "gdkIExFtEh8W"
      },
      "source": [
        "#### **Partielle Differentialgleichung**"
      ]
    },
    {
      "cell_type": "markdown",
      "metadata": {
        "id": "MhCrLrMK7Jmg"
      },
      "source": [
        "\r\n",
        "https://en.m.wikipedia.org/wiki/Elliptic_partial_differential_equation\r\n",
        "\r\n",
        "https://en.m.wikipedia.org/wiki/Partial_differential_equation\r\n",
        "\r\n",
        "https://en.m.wikipedia.org/wiki/Elliptic_operator\r\n",
        "\r\n"
      ]
    },
    {
      "cell_type": "markdown",
      "metadata": {
        "id": "LwhDu5akcQCx"
      },
      "source": [
        "* Partielle Differenzen werden angegeben mit $\\partial$\n",
        "\n",
        "* Erlauterung in [Youtube](https://www.youtube.com/watch?v=ly4S0oi3Yz8)\n",
        "\n",
        "* Ω als Teilmenge von $R$<sup>n</sup> ist als Gebiet offen und zusammenhängend\n",
        "\n",
        "* Offene Mengen sind wichtig fur die Bildung einer Ableitung (weil man ja keinen rand mochte, sondern an jedem Punkt der Menge differenzieren, einen Differenzenquotienten bilden). Man braucht genügend Punkte in der Umgebung - man kann eine Kugel um jeden Punkt legen, der komplett in der Menge Ω liegt (siehe auch Definition von offen in einem metrischen Raum). Offenheitsbedingungen verwenden, um Grenzwerte zu definieren, u.a. von diesen Differenzenquotienten\n",
        "\n",
        "* Zusammenhängend: wählen wir 2 Punkte aus der Menge, finden wir immer einen direkten Weg zwischen ihnen (man kann eine stetige Abbildung vom Intervall Punkt 1 zu Punkt 2 bilden (muss keine Gerade sein).\n",
        "\n",
        "**Eine partielle Differentialgleichung in Ω ist eine Bedingung in der Form:**\n",
        "\n",
        "> $F\\left(x, u, \\left(\\partial^{\\alpha} u\\right)_{1 \\leqslant|\\alpha| \\leq m}\\right)=0$\n",
        "\n",
        "> $(x \\in \\Omega, u: \\Omega \\rightarrow \\mathbb{R}, \\quad \\alpha \\quad$ Multindex $)$\n",
        "\n",
        "**Eine klassische Losung der partiellen Differentialgleichung (PDE) ist:**\n",
        "\n",
        "> $u: \\Omega \\rightarrow \\mathbb{R} \\quad, \\quad u \\in C^{m}(\\Omega)$ mit\n",
        "\n",
        "> $\\forall_{x \\in \\Omega} \\quad F\\left(x, u(x), \\quad\\left(\\partial^{\\alpha} u(x)\\right)_{1 \\leq |\\alpha| \\leq m}\\right)$\n",
        "\n",
        "**Partielle Differentialgleichungen werden in erster Linie durch Trennung der Variablen und spätere Integration gelöst.**\n",
        "\n",
        "Die Zahl m heisst die Ordnung der PDE, wenn sie minimal gewahlt ist."
      ]
    },
    {
      "cell_type": "markdown",
      "metadata": {
        "id": "5LgbB0zJkTri"
      },
      "source": [
        "https://www.youtube.com/watch?v=vBxifpKoVwc&t=25s"
      ]
    },
    {
      "cell_type": "markdown",
      "metadata": {
        "id": "wW0-eczlexDp"
      },
      "source": [
        "**Lineare PDE auf Ω (Gebiet)**"
      ]
    },
    {
      "cell_type": "markdown",
      "metadata": {
        "id": "snEgLyDrKZDK"
      },
      "source": [
        "Sobolevräume sind ein grundlegendes Werkzeug bei der Behandlung von PDG (rein und angewandt)."
      ]
    },
    {
      "cell_type": "markdown",
      "metadata": {
        "id": "BInJzezlpcTk"
      },
      "source": [
        "See also **Variational Formulations** - wichtig fur partielle Differentialgleichungen"
      ]
    },
    {
      "cell_type": "markdown",
      "metadata": {
        "id": "B7dGv8cd5PAq"
      },
      "source": [
        "https://de.wikipedia.org/wiki/Partielle_Differentialgleichung"
      ]
    },
    {
      "cell_type": "markdown",
      "metadata": {
        "id": "xPzLkIswFifn"
      },
      "source": [
        "**// Gleichungen**"
      ]
    },
    {
      "cell_type": "markdown",
      "metadata": {
        "id": "j8bIXZBFPx0r"
      },
      "source": [
        "**Euler-Gleichungen** (siehe auch unter Variationsanalyse)"
      ]
    },
    {
      "cell_type": "markdown",
      "metadata": {
        "id": "_N6Tf-eKPI3y"
      },
      "source": [
        "* Euler-Gleichungen (Strömungsmechanik)\n",
        "\n",
        "* bildet dann ein System von **nichtlinearen partiellen** Differentialgleichungen **erster Ordnung**\n",
        "\n",
        "* Wird die Viskosität vernachlässigt ($\\eta =\\lambda =0$), so erhält man die Euler-Gleichungen (hier für den kompressiblen Fall)\n",
        "\n",
        "> $\\rho \\frac{\\partial \\vec{v}}{\\partial t}+\\rho(\\vec{v} \\cdot \\nabla) \\vec{v}=-\\nabla p+\\vec{f}$\n",
        "\n",
        "https://de.wikipedia.org/wiki/Euler-Gleichungen_(Strömungsmechanik)"
      ]
    },
    {
      "cell_type": "markdown",
      "metadata": {
        "id": "HgKFeXcDPwAv"
      },
      "source": [
        "**Navier-Stokes-Gleichungen**"
      ]
    },
    {
      "cell_type": "markdown",
      "metadata": {
        "id": "v4wALvauPTCj"
      },
      "source": [
        "* Die Gleichungen sind eine **Erweiterung der Euler-Gleichungen** der Strömungsmechanik **um Viskosität beschreibende Terme** (Die Navier-Stokes-Gleichungen beinhalten die Euler-Gleichungen als den Sonderfall, in dem die innere Reibung (Viskosität) und die Wärmeleitung des Fluids vernachlässigt werden.)\n",
        "\n",
        "* bildet dann ein System von **nichtlinearen partiellen** Differentialgleichungen **zweiter Ordnung**\n",
        "\n",
        "* Die Navier-Stokes-Gleichungen bilden das Verhalten von Wasser, Luft und Ölen ab und werden daher in diskretisierter Form bei der Entwicklung von Fahrzeugen wie Autos und Flugzeugen angewendet. \n",
        "\n",
        "* Dies geschieht in Näherungsform, da keine exakten analytischen Lösungen für diese komplizierten Anwendungsfälle bekannt sind.\n",
        "\n",
        "> $\\rho \\overrightarrow{\\vec{v}}=\\rho\\left(\\frac{\\partial \\vec{v}}{\\partial t}+(\\vec{v} \\cdot \\nabla) \\vec{v}\\right)=-\\nabla p+\\mu \\Delta \\vec{v}+(\\lambda+\\mu) \\nabla(\\nabla \\cdot \\vec{v})+\\vec{f}$\n",
        "\n",
        "https://de.wikipedia.org/wiki/Navier-Stokes-Gleichungen\n",
        "\n",
        "https://de.wikipedia.org/wiki/Numerische_Strömungsmechanik"
      ]
    },
    {
      "cell_type": "markdown",
      "metadata": {
        "id": "uYr5dvnlGOPC"
      },
      "source": [
        "**Exkurs: Fluiddynamik**"
      ]
    },
    {
      "cell_type": "markdown",
      "metadata": {
        "id": "NNoa9aLYGQUu"
      },
      "source": [
        "https://de.wikipedia.org/wiki/Fluiddynamik"
      ]
    },
    {
      "cell_type": "markdown",
      "metadata": {
        "id": "2OK_z8u7FxgT"
      },
      "source": [
        "**Stokes-Gleichungen**"
      ]
    },
    {
      "cell_type": "markdown",
      "metadata": {
        "id": "aw6StMBYFzY_"
      },
      "source": [
        "https://de.wikipedia.org/wiki/Navier-Stokes-Gleichungen#Stokes-Gleichung"
      ]
    },
    {
      "cell_type": "markdown",
      "metadata": {
        "id": "6QSq6KA1Fqdh"
      },
      "source": [
        "**Potentialgleichungen**"
      ]
    },
    {
      "cell_type": "markdown",
      "metadata": {
        "id": "BjCTnnjIFsJU"
      },
      "source": [
        "https://de.wikipedia.org/wiki/Potentialströmung"
      ]
    },
    {
      "cell_type": "markdown",
      "metadata": {
        "id": "5swSZlsF7oGD"
      },
      "source": [
        "**Black–Scholes-Model**"
      ]
    },
    {
      "cell_type": "markdown",
      "metadata": {
        "id": "OTIv3qZf7rQE"
      },
      "source": [
        "https://de.wikipedia.org/wiki/Black-Scholes-Modell"
      ]
    },
    {
      "cell_type": "markdown",
      "metadata": {
        "id": "9fm1w6KjFQpT"
      },
      "source": [
        "**// Loesungsverfahren**"
      ]
    },
    {
      "cell_type": "markdown",
      "metadata": {
        "id": "FBOaLmn9FZd0"
      },
      "source": [
        "https://de.wikipedia.org/wiki/Finite-Elemente-Methode"
      ]
    },
    {
      "cell_type": "markdown",
      "metadata": {
        "id": "dwGNSrciFVKW"
      },
      "source": [
        "https://de.wikipedia.org/wiki/Spektralmethode"
      ]
    },
    {
      "cell_type": "markdown",
      "metadata": {
        "id": "HLu350gHFXtS"
      },
      "source": [
        "https://de.wikipedia.org/wiki/Liste_numerischer_Verfahren"
      ]
    },
    {
      "cell_type": "markdown",
      "metadata": {
        "id": "S0BvtcWdDkA6"
      },
      "source": [
        "**Charakteristische Gleichung & Methode der Charakteristiken**"
      ]
    },
    {
      "cell_type": "markdown",
      "metadata": {
        "id": "u7fW5fPlDiOl"
      },
      "source": [
        "https://de.wikipedia.org/wiki/Charakteristische_Gleichung"
      ]
    },
    {
      "cell_type": "markdown",
      "metadata": {
        "id": "XWOUvVgEEGAb"
      },
      "source": [
        "**Methode der Charakteristiken**"
      ]
    },
    {
      "cell_type": "markdown",
      "metadata": {
        "id": "3Wx8fLLOESk1"
      },
      "source": [
        "* Die Methode der Charakteristiken ist eine Methode zur Lösung partieller\n",
        "Differentialgleichungen (PDGL/PDE), die typischerweise erster Ordnung und\n",
        "quasilinear sind, also Gleichungen vom Typ\n",
        "\n",
        "> $\n",
        "P(x, t, u) \\frac{\\partial u}{\\partial t}+Q(x, t, u) \\frac{\\partial u}{\\partial x}=R(x, t, u)\n",
        "$\n",
        "\n",
        "* für eine Funktion $u(x, t)$ mit der Anfangsbedingung $u(x, 0)=f(x)$. (Dabei heißt eine Gleichung quasilinear, falls sie in der höchsten Ableitung linear ist).\n",
        "\n",
        "* Die grundlegende Idee besteht darin, **die PDE durch eine geeignete Koordinatentransformation auf ein System gewöhnlicher Differentialgleichungen auf bestimmten Hyperflächen, sogenannten Charakteristiken, zurückzuführen.**\n",
        "\n",
        "* Die PDE kann dann als Anfangswertproblem in dem neuen System mit Anfangswerten auf den die Charakteristik schneidenden Hyperflächen gelöst werden. Störungen breiten sich längs der Charakteristiken aus.\n",
        "\n",
        "* Charakteristiken spielen eine Rolle in der qualitativen Diskussion der Lösung bestimmter PDE und in der Frage, wann Anfangswertprobleme für diese PDE korrekt gestellt sind.\n"
      ]
    },
    {
      "cell_type": "markdown",
      "metadata": {
        "id": "FOOie2DlDnLw"
      },
      "source": [
        "https://en.wikipedia.org/wiki/Method_of_characteristics"
      ]
    },
    {
      "cell_type": "markdown",
      "metadata": {
        "id": "rw9GQgLL-qm-"
      },
      "source": [
        "#### **Stochastische Differentialgleichungen**"
      ]
    },
    {
      "cell_type": "markdown",
      "metadata": {
        "id": "_IJLEoSs-mKd"
      },
      "source": [
        "Eine [stochastischen Differentialgleichung](https://de.wikipedia.org/wiki/Stochastische_Differentialgleichung) ist eine Verallgemeinerung des Begriffs der gewöhnlichen Differentialgleichung auf stochastische Prozesse. Stochastische Differentialgleichungen werden in zahlreichen Anwendungen eingesetzt, **um zeitabhängige Vorgänge zu modellieren**, die neben deterministischen Einflüssen zusätzlich **stochastischen Störfaktoren (Rauschen)** ausgesetzt sind."
      ]
    },
    {
      "cell_type": "markdown",
      "metadata": {
        "id": "zN-mlxJyUxVU"
      },
      "source": [
        "#### **Anfangs- & Randwertproblem**"
      ]
    },
    {
      "cell_type": "markdown",
      "metadata": {
        "id": "xbR-3EnGQ33f"
      },
      "source": [
        "Beispielsweise werden alle schwingenden Pendel durch eine Differentialgleichung beschrieben (siehe: Pendelgleichung), und der generelle Bewegungsablauf folgt immer dem gleichen Prinzip. Der konkrete Bewegungsablauf ist jedoch durch die Rand- oder Anfangsbedingung(en) (wann wurde das Pendel angestoßen, und wie weit) bestimmt. Die Lösbarkeit von Anfangswertproblemen bei gewöhnlichen Differentialgleichungen 1. Ordnung wird durch den Satz von Picard-Lindelöf beschrieben.\n",
        "\n",
        "https://mathepedia.de/Gewoehnliche_Differentialgleichungen.html"
      ]
    },
    {
      "cell_type": "markdown",
      "metadata": {
        "id": "qKrBEYITQwic"
      },
      "source": [
        "**Anfangswertprobleme (Cauchy-Problem)**"
      ]
    },
    {
      "cell_type": "markdown",
      "metadata": {
        "id": "9Gn21EXNnps9"
      },
      "source": [
        "\n",
        "\n",
        "Wer zu einer Differentialgleichung eine **Anfangsbedingung** hinzufügt, stellt damit ein **Anfangswertproblem**. Eine besonders spannende Frage lautet dabei, wie eine Anfangsbedingung zu einer gegebenen Differentialgleichung beschaffen sein muss, damit das entstehende Anfangswertproblem **genau eine eindeutig bestimmte Lösung zulässt**."
      ]
    },
    {
      "cell_type": "markdown",
      "metadata": {
        "id": "__z4QH_EiQZw"
      },
      "source": [
        "Der freie Fall (etwa eines Apfels vom Baum) wird beschrieben durch die Bewegungsgleichung\r\n",
        "\r\n",
        ">$\r\n",
        "\\begin{aligned}\r\n",
        "y^{\\prime \\prime}(t) &=-g \\\\\r\n",
        "\\Rightarrow y^{\\prime}(t) &=-g \\cdot t+v_{0}\r\n",
        "\\end{aligned}$\r\n",
        "\r\n",
        "mit der Konstanten $g \\approx 9,81 \\mathrm{~m} / \\mathrm{s}^{2}$ (Erdbeschleunigung).\r\n",
        "Die Lösungsmenge dieser Differentialgleichung besteht zunächst aus allen Funktionen der Form\r\n",
        "\r\n",
        ">$\r\n",
        "\\Rightarrow y(t)=-\\frac{1}{2} g t^{2}+v_{0} \\cdot t+y_{0}\r\n",
        "$\r\n",
        "\r\n",
        "mit beliebigen Integrationskonstanten $y_{0}$ und $v_{0}$.\r\n",
        "Eine mögliche Anfangsbedingung sagt z. B. aus, dass der Apfel zu Beginn der Bewegung an einem\r\n",
        "Ast in drei Metern Höhe hängt:\r\n",
        "\r\n",
        ">$\r\n",
        "y(0)=y_{0}=3 \\mathrm{~m}\r\n",
        "$\r\n",
        "\r\n",
        "und sich in Ruhe befindet:\r\n",
        "\r\n",
        ">$\r\n",
        "y^{\\prime}(0)=v_{0}=0 \\mathrm{~m} / \\mathrm{s}\r\n",
        "$\r\n",
        "\r\n",
        "Diese Anfangsbedingung zeichnet nun in der Lösungsmenge der Differentialgleichung die eine Funktion\r\n",
        "\r\n",
        ">$\r\n",
        "\\Rightarrow y(t)=3 \\mathrm{~m}-\\frac{1}{2} g t^{2}\r\n",
        "$\r\n",
        "\r\n",
        "als die eindeutig bestimmte Lösung des Anfangswertproblems aus (Loesung dann zB uber das [Runge-Kutta-Verfahren](https://de.wikipedia.org/wiki/Runge-Kutta-Verfahren) - Einschrittverfahren zur näherungsweisen Lösung von Anfangswertproblemen in der numerischen Mathematik)."
      ]
    },
    {
      "cell_type": "markdown",
      "metadata": {
        "id": "Lk442LLDjL8y"
      },
      "source": [
        "https://de.wikipedia.org/wiki/Anfangsbedingung"
      ]
    },
    {
      "cell_type": "markdown",
      "metadata": {
        "id": "9ZR3H5KyQ8YZ"
      },
      "source": [
        "* Das Gegenstück zum Randwertproblem ist das [Anfangswertproblem](https://mathepedia.de/Anfangswertprobleme.html) auch [hier](https://de.wikipedia.org/wiki/Anfangswertproblem), bei dem die Lösung für einen beliebigen Punkt im Definitionsbereich vorgegeben wird.\n",
        "\n",
        "* Als Anfangswertproblem bezeichnet eine **wichtige Klasse von Differentialgleichungen**. Die Lösung eines Anfangswertproblems ist die Lösung der Differentialgleichung unter zusätzlicher Berücksichtigung eines vorgegebenen Anfangswertes.\n",
        "\n",
        "* Die Lösungsmenge einer gewöhnlichen Differentialgleichung ist im allgemeinen eine Funktionenschar. Sucht man eine spezielle Lösung (Funktion) so reicht die Vorgabe der Differentialgleichung nicht aus.\n",
        "\n",
        "* Sind neben der Differentialgleichung $F\\left(x, y, y^{\\prime}, \\ldots, y^{(n)}\\right.$) außerdem noch Anfangsbedingungen der Form $\n",
        "y\\left(x_{0}\\right)=c_{0}, y^{\\prime}\\left(x_{0}\\right)=c_{1}, \\ldots, y^{(n)}\\left(x_{0}\\right)=c_{n}$ gegeben, so spricht man von einem Anfangswertproblem.\n",
        "\n",
        "* Beispiel: Allgemeine Lösung der Differentialgleichung $y^{\\prime}=y$ ist $y=C \\mathrm{e}^{x}$. Mit der Anfangsbedingung $y(0)=2$ erhalten wir die Gleichung $2=C \\cdot 1$ und finden $y=2 \\cdot \\mathrm{e}^{x}$ als Lösung des Anfangswertproblems.\n",
        "\n",
        "* Verallgemeinert man das Cauchy-Problem auf mehrere Veränderliche, etwa n Veränderliche $x_{1},\\dotsc ,x_{n}$, so erhält man partielle Differentialgleichungen. "
      ]
    },
    {
      "cell_type": "markdown",
      "metadata": {
        "id": "cPxOFEGHU6-f"
      },
      "source": [
        "Ein Anfangswertproblem **erster Ordnung** ist ein Gleichungssystem, das aus einer gewöhnlichen Differentialgleichung erster Ordnung\n",
        "\n",
        "> $\n",
        "y^{\\prime}(t)=f(t, y(t))\n",
        "$\n",
        "\n",
        "und einer zusätzlichen Anfangsbedingung\n",
        "\n",
        "> $\n",
        "y\\left(t_{0}\\right)=y_{0}\n",
        "$\n",
        "\n",
        "besteht, mit\n",
        "- dem Anfangswert $y_{0}$ und\n",
        "- einem Zeitpunkt $t_{0} \\in \\mathbb{R}$.\n",
        "\n",
        "Eine konkrete Funktion $y$ ist eine Lösung des Anfangswertproblems. wenn sie beide Gleichungen erfüllt. Gesucht ist also eine Funktion $y$, die die **Bedingungen der Differentialgleichung und des Anfangswertes** erfüllt.\n",
        "\n",
        "Ist die Funktion $f$ stetig, so ist dies nach dem Hauptsatz der Integralrechnung genau\n",
        "dann der Fall, wenn\n",
        "\n",
        "> $\n",
        "y(t)=y_{0}+\\int_{t_{0}}^{t} f(s, y(s)) d s\n",
        "$\n",
        "\n",
        "für alle $t$ im Definitionsintervall gilt."
      ]
    },
    {
      "cell_type": "markdown",
      "metadata": {
        "id": "THi5Mx3uQyx0"
      },
      "source": [
        "**Randwertproblem (Boundary value)**"
      ]
    },
    {
      "cell_type": "markdown",
      "metadata": {
        "id": "KfUxHFgakA7f"
      },
      "source": [
        "Bei partiellen Differentialgleichungen, wenn also die gesuchte Funktion nicht nur von einer, sondern von mehreren Variablen abhängt, werden oftmals [Randbedingungen](https://de.wikipedia.org/wiki/Randbedingung) an Stelle von Anfangsbedingungen verwendet. Manchmal wird dann der Spezialfall einer Randbedingung, deren Definitionsbereich eine Hyperebene im vollen Definitionsbereich der Differentialgleichung bildet, Anfangsbedingung genannt.\n",
        "\n",
        "In der Betriebswirtschaftslehre und der Volkswirtschaftslehre entsprechen die Randbedingungen den kurzfristig oder gar nicht durch den Entscheidungsträger beeinflussbaren Datenparametern wie beispielsweise die Umweltzustände der Witterung oder der Gesetze.\n",
        "\n"
      ]
    },
    {
      "cell_type": "markdown",
      "metadata": {
        "id": "qkV16ad4XIXS"
      },
      "source": [
        "Sei die gegebene Differentialgleichung $y^{\\prime \\prime}(x)=-y(x)$. Die Lösungsmenge dieser Gleichung ist $a \\sin (x)+b \\cos (x)$.\n",
        "\n",
        "* Gesucht ist die Lösung mit $y(0)=1$ und $y(\\pi / 2)=0 \\Rightarrow$ Die Lösung ist $y=\\cos (x)$.\n",
        "\n",
        "* Periodische Randbedingung: Gesuchtłist die Lösung mit $y(0)=0$ und $y(\\pi)=0 \\Rightarrow$ Es gibt unendlich viele Lösungen der Form $a \\sin (x)$ mit beliebigem $a$.\n",
        "\n",
        "* Gesucht ist die Lösung mit $y(0)=0$ und $y(2 \\pi)=1 \\Rightarrow$ Es gibt keine Lösung."
      ]
    },
    {
      "cell_type": "markdown",
      "metadata": {
        "id": "SwkYHmmJXfrc"
      },
      "source": [
        "Arten von Randbedingungen (Es gibt unterschiedliche Möglichkeiten, auf dem Rand des betrachteten Gebietes Werte vorzuschreiben):\n",
        "\n",
        "* Werte der Lösung vorschreiben; im Fall einer auf dem Intervall $[a, b]$ definierten gewöhnlichen Differentialgleichung schreibt man also $y(a)$ und $y(b)$ vor und spricht\n",
        "dann von [**Dirichlet-Randbedingungen**](https://de.wikipedia.org/wiki/Dirichlet-Randbedingung). \n",
        "\n",
        "* Bedingungen an die Ableitungen stellen, also $y^{\\prime}(a)$ und $y^{\\prime}(b)$ vorgeben, dann spricht man [**von Neumann-Randbedingungen**](https://de.wikipedia.org/wiki/Neumann-Randbedingung) (bei gewöhnlichen Differentialgleichungen, wie oben ausgeführt, von Anfangsbedingungen). \n",
        "\n",
        "* Ein Spezialfall sind [**periodische Randbedingungen**](https://de.wikipedia.org/wiki/Periodische_Randbedingung), hier muss (im Beispiel einer auf dem Intervall $[a, b]$ betrachteten gewöhnlichen Differentialgleichung) gelten: $y(a)=y(b)$ bzw. $y^{\\prime}(a)=y^{\\prime}(b)$."
      ]
    },
    {
      "cell_type": "markdown",
      "metadata": {
        "id": "aZjLhnrC37pt"
      },
      "source": [
        "[Randwertprobleme](https://de.m.wikipedia.org/wiki/Randwertproblem) nennt man eine **wichtige Klasse von Problemstellungen**, bei denen zu einer vorgegebenen [Differentialgleichung](https://de.m.wikipedia.org/wiki/Differentialgleichung) Lösungen gesucht werden, die auf dem **Rand des Definitionsbereiches** vorgegebene Funktionswerte (Randbedingungen) annehmen sollen. \n",
        "\n",
        "* Im Falle einer gewöhnlichen Differentialgleichung ist der Definitionsbereich der Funktion ein abgeschlossenes Intervall.\n",
        "\n",
        "* Siehe auch: https://de.wikipedia.org/wiki/Dirichlet-Randbedingung\n",
        "\n",
        "* Beim **Dirichlet-Problem** werden Funktionswerte auf dem Rand vorgegeben. Anstatt Funktionswerten werden beim **Neumann-Problem** Ableitungswerte vorgeschrieben. Die **schiefe Randbedingung** stellt eine Kombination der beiden vorangehenden Probleme dar. Hierbei soll die gesuchte Funktion auf dem Rand gleich ihrer Normalenableitung auf dem Rand sein.\n",
        "\n",
        "* Werden hier statt zwei Werten nur an einem Randpunkt des Intervalles – meistens a – Werte für u und zusätzlich für Ableitungen von u vorgegeben, so spricht man von einem Anfangswertproblem und nennt die vorgegebenen Werte seine Anfangsbedingungen.\n",
        "\n",
        "* Partielle Differentialgleichungen betrachtet man meistens auf Sobolew-Räumen. In diesen Räumen werden Funktionen, die bis auf Nullmengen übereinstimmen, als gleich angesehen. Da der Rand eines Gebietes üblicherweise eine Nullmenge ist, ist der Begriff der Randbedingung problematisch. Lösungen für dieses Problem sind sobolewsche Einbettungssätze oder – allgemeiner – Spuroperatoren.\n",
        "\n",
        "* Randwertaufgaben haben nicht immer eine Lösung (siehe Beispiel unten), im Falle ihrer Existenz ist die Lösung nicht in allen Fällen eindeutig. Die Berechnung einer Näherungslösung für eine Randwertaufgabe mit Mitteln der numerischen Mathematik ist oft aufwendig und läuft meist auf die Lösung sehr großer Gleichungssysteme hinaus."
      ]
    },
    {
      "cell_type": "markdown",
      "metadata": {
        "id": "xfdBIY5Y-eNj"
      },
      "source": [
        "#### **Wetter- & Klimavorhersage**"
      ]
    },
    {
      "cell_type": "markdown",
      "metadata": {
        "id": "xnhq7rjuEW9l"
      },
      "source": [
        "**Meteorology**"
      ]
    },
    {
      "cell_type": "markdown",
      "metadata": {
        "id": "7xIi2fJ8EYkj"
      },
      "source": [
        "https://en.wikipedia.org/wiki/Meteorology"
      ]
    },
    {
      "cell_type": "markdown",
      "metadata": {
        "id": "iIFhaPuaEx8S"
      },
      "source": [
        "https://www.grund-wissen.de/diplomarbeit/physik-der-atmoshpaere.html"
      ]
    },
    {
      "cell_type": "markdown",
      "metadata": {
        "id": "S59bbwoy_I_P"
      },
      "source": [
        "**Wettervorhersage**"
      ]
    },
    {
      "cell_type": "markdown",
      "metadata": {
        "id": "bxNFb2DDE0-R"
      },
      "source": [
        "https://lu-glidz.blogspot.com/2016/10/meteomodelle-besser-verstehen.html"
      ]
    },
    {
      "cell_type": "markdown",
      "metadata": {
        "id": "LvNjDi05_Ezj"
      },
      "source": [
        "* Als physikalisches Ereignis lässt sich das Wetter durch entsprechende Naturgesetze beschreiben. Die grundlegende Idee einer Wetterprognose ist es, aus einem bereits vergangenen und dem aktuellen Zustand der Atmosphäre, unter Anwendung der bekannten physikalischen Regeln, einen Zustand in der Zukunft abzuleiten.\n",
        "\n",
        "* Die mathematischen Konstrukte, welche diese physikalischen Regeln beschreiben, sind allerdings sogenannte nichtlineare Gleichungen. Das bedeutet, dass bereits kleine Änderungen im Ausgangszustand zu relativ großen Veränderungen am Ergebnis der Rechnung führen können (siehe auch: Schmetterlingseffekt).\n",
        "\n",
        "* Es wird im Wesentlichen zwischen einer manuellen oder [synoptischen Wettervorhersage](https://de.wikipedia.org/wiki/Synoptische_Meteorologie) und einer numerischen Wettervorhersage unterschieden, wobei heute immer noch eine Kombination beider Verfahren zur Anwendung kommt. Dies hängt damit zusammen, dass auch aktuelle numerische Prognosemodelle unzureichende Ergebnisse liefern. Um die lokale Klimatologie von Wetterstationen zu berücksichtigen, werden heutzutage den numerischen Berechnungen noch statistische Verfahren nachgeschaltet, wie z. B. die MOS-Verfahren Model Output Statistics.\n",
        "\n",
        "* Die Daten über den aktuellen Zustand der Atmosphäre kommen von einem Netz von Bodenmessstationen, die **Windgeschwindigkeit, Temperatur, Luftdruck und Luftfeuchtigkeit sowie Niederschlagsmengen** messen. Zusätzlich werden auch Daten von Radiosonden, Wettersatelliten, Verkehrsflugzeugen und Wetterschiffen verwendet. **Problematisch ist dabei die unregelmäßige Verteilung dieser Beobachtungen und Messungen, sowie die Tatsache**, dass in geringer entwickelten Ländern und über den Ozeanen relativ wenige Messstationen vorhanden sind.\n"
      ]
    },
    {
      "cell_type": "markdown",
      "metadata": {
        "id": "MOdwOPOjAH6S"
      },
      "source": [
        "**Verlässlichkeit der Wetterprognosen**"
      ]
    },
    {
      "cell_type": "markdown",
      "metadata": {
        "id": "yGf9ntpxAEw-"
      },
      "source": [
        "\n",
        "* Heute ist eine Prognose für die kommende Woche ungefähr so zuverlässig, wie sie es vor dreißig Jahren für den nächsten Tag war. Die 24-Stunden-Vorhersage erreicht eine Eintreffgenauigkeit von gut 90 %. Die Treffsicherheit für die kommenden 3 Tage beträgt etwas mehr als 75 %. 2008 war eine Sieben-Tage-Vorhersage besser als die Zwei-Tage-Vorhersage zu Beginn des Computerzeitalters 1968.\n",
        "\n",
        "* Die Zuverlässigkeit schwankt jedoch sehr stark in Abhängigkeit von der Wetterlage. So ist es bei einer stabilen Winterhochdrucklage manchmal problemlos möglich eine Woche mit 90 % Sicherheit zu prognostizieren. Dagegen liegt die Prognosegüte bei einer instabilen Gewitterlage im Sommer oft deutlich unter 70 % für 24 Stunden. Ebenfalls muss man bei der Prognosegüte zwischen Temperatur und Niederschlag unterscheiden. Temperaturen können deutlich genauer als Niederschlag prognostiziert werden.\n",
        "\n",
        "* Mit einer Trefferquote von über 90 Prozent sagt der Deutsche Wetterdienst heute die Temperatur des folgenden Tages voraus, vor 30 Jahren betrug dieser Wert nur gut 70 Prozent; bei der Windgeschwindigkeit sind die Angaben in über 95 Prozent korrekt, bei der Niederschlagsmenge in über 80 Prozent der Fälle.\n",
        "\n",
        "* Siehe auch [History of numerical weather prediction](https://en.wikipedia.org/wiki/History_of_numerical_weather_prediction)"
      ]
    },
    {
      "cell_type": "markdown",
      "metadata": {
        "id": "fuosisT4AhDJ"
      },
      "source": [
        "**Die Theorie der Meteorologie ist zwar durch die [Gasgesetze](https://de.wikipedia.org/wiki/Gasgesetze), die [Thermodynamik](https://de.wikipedia.org/wiki/Thermodynamik) und die [Strömungslehre](https://de.wikipedia.org/wiki/Strömungsmechanik), hier insbesondere der [Fluiddynamik](https://de.wikipedia.org/wiki/Fluiddynamik) und der [Numerischen Strömungsmechanik](https://de.wikipedia.org/wiki/Numerische_Strömungsmechanik), weitgehend geklärt, kann aber durch kleinräumige Effekte von bis zu Kilometer-Dimensionen nicht alle Luftbewegungen mit ausreichender Genauigkeit berechnen.**"
      ]
    },
    {
      "cell_type": "markdown",
      "metadata": {
        "id": "AIb0pAG9ek50"
      },
      "source": [
        "**Numerical Weather Prediction**"
      ]
    },
    {
      "cell_type": "markdown",
      "metadata": {
        "id": "Ju4PQ0SY7ITy"
      },
      "source": [
        "* Numerische Wettervorhersagen (engl. numerical weather predictions, NWPs) sind **rechnergestützte** [Wettervorhersagen](https://de.wikipedia.org/wiki/Wettervorhersage). \n",
        "\n",
        "* Aus dem Zustand der Atmosphäre zu einem gegebenen Anfangszeitpunkt wird durch numerische Lösung der relevanten Gleichungen der Zustand zu späteren Zeiten berechnet: im trockenadiabatischen Fall: \n",
        "  * [Navier-Stokes-Gleichungen](https://de.wikipedia.org/wiki/Navier-Stokes-Gleichungen), \n",
        "  * [thermische Zustandsgleichung idealer Gase](https://de.wikipedia.org/wiki/Thermische_Zustandsgleichung_idealer_Gase), \n",
        "  * [Erster Hauptsatz der Thermodynamik](https://de.wikipedia.org/wiki/Erster_Hauptsatz_der_Thermodynamik), \n",
        "  * [Kontinuitätsgleichung](https://de.wikipedia.org/wiki/Kontinuitätsgleichung),\n",
        "\n",
        "* Und im feuchtdiabatischen Fall weitere Kontinuitätsgleichungen sowie [Strahlungsübertragungsgleichungen](https://de.wikipedia.org/wiki/Strahlungstransport). \n",
        "\n",
        "* Diese Berechnungen umfassen teilweise einen Prognosezeitraum von mehr als 14 Tagen und sind die Basis aller heutigen Wettervorhersagen. Im operationellen Betrieb werden sie zumeist durch statistische Verfahren (s. [Model Output Statistics](https://de.wikipedia.org/wiki/Model_Output_Statistics)) nachbereitet.\n",
        "\n",
        "* In einem solchen numerischen Vorhersagemodell wird das Rechengebiet mit Gitterzellen und/oder durch eine spektrale Darstellung diskretisiert, so dass die relevanten physikalischen Größen im dreidimensionalen Raum und als Funktionen der Zeit dargestellt werden können wie vor allem \n",
        "  * Temperatur, \n",
        "  * Luftdruck, \n",
        "  * Dichte, \n",
        "  * Windrichtung und \n",
        "  * Windgeschwindigkeit.\n",
        "\n",
        "* Die physikalischen Beziehungen, die den Zustand der Atmosphäre und seine Veränderung beschreiben, werden als System partieller Differentialgleichungen modelliert. Dieses [dynamische System](https://de.wikipedia.org/wiki/Dynamisches_System) wird mit Verfahren der Numerik, welche als Computerprogramme implementiert sind, näherungsweise gelöst.\n",
        "\n",
        "* Siehe [Modelle](https://de.wikipedia.org/wiki/Numerische_Wettervorhersage#Modelle)\n"
      ]
    },
    {
      "cell_type": "markdown",
      "metadata": {
        "id": "UWQ8yIxG_uj0"
      },
      "source": [
        "**Meteorologische Grundgleichungen**"
      ]
    },
    {
      "cell_type": "markdown",
      "metadata": {
        "id": "GpvbwXa__sUE"
      },
      "source": [
        "Im Wesentlichen spielen fünf Kenngrößen für die Beschreibung von großräumigen Luftströmungen eine zentrale Rolle: **Die Windgeschwindigkeit, der Luftdruck, die Lufttemperatur, sowie die Luftdichte und ihr Wassergehalt**. Die Gleichungen, welche die genannten Kenngrößen miteinander in Relation bringen, werden meteorologische Grundgleichungen genannt. Bezogen auf eine Volumeneinheit lauten sie wie folgt:"
      ]
    },
    {
      "cell_type": "markdown",
      "metadata": {
        "id": "Vv2YrSvFAAp4"
      },
      "source": [
        "> **Ideale Gasgleichung**: $p=\\rho \\cdot R \\cdot T$\n",
        "\n",
        "Sie stellt eine Vereinfachung der [Van-der-Waals-Gleichung](https://de.wikipedia.org/wiki/Van-der-Waals-Gleichung) dar (eine [Zustandsgleichung](https://de.wikipedia.org/wiki/Zustandsgleichung) für Gase), und beschreibt den linearen Zusammenhang zwischen Druck $p$, Dichte $\\rho$ und Temperatur $T$. $R$ steht für die ideale Gaskonstante. Für eine trockene atmosphärische Zusammensetzung liefert die Gleichung gute Ergebnisse bei geringem Rechenaufwand. Wasserdampf wird gesondert behandelt."
      ]
    },
    {
      "cell_type": "markdown",
      "metadata": {
        "id": "8P80piEcAsPt"
      },
      "source": [
        "> **Kontinuitätsgleichung**: $\\frac{\\mathrm{d} \\rho}{\\mathrm{d} t}=-\\rho \\cdot \\vec{\\nabla} \\cdot \\vec{v}$\n",
        "\n",
        "Die Gleichung impliziert die Massenerhaltung. Der Nettofluss $\\vec{\\nabla} \\cdot \\vec{v}$ (Divergenz durch ein Volumenelement) muss gleich der zeitlichen Dichteänderung sein."
      ]
    },
    {
      "cell_type": "markdown",
      "metadata": {
        "id": "xvg-6N7VA_NY"
      },
      "source": [
        "> **Wasserdampf-Bilanzgleichung**: $\\frac{\\mathrm{d} \\rho_{\\mathrm{w}}}{\\mathrm{d} t}=-\\rho_{\\mathrm{w}} \\cdot \\vec{\\nabla} \\cdot \\vec{v}+\\dot{W}$\n",
        "\n",
        "Die Gleichung liefert die Kontinuitätsgleichung für den Wasserdampf. Sie unterscheidet sich von der Kontinuitätsgleichung insofern, dass es zu Feuchteänderungen durch Phasenübergänge (Niederschlag, Verdunstung) kommen kann."
      ]
    },
    {
      "cell_type": "markdown",
      "metadata": {
        "id": "qoi8O1-0BQfJ"
      },
      "source": [
        "> **Erster Hauptsatz der Thermodynamik**: $\\frac{\\mathrm{d} T}{\\mathrm{~d} t}=\\frac{1}{\\rho \\cdot c_{\\mathrm{p}}} \\cdot \\frac{\\mathrm{d} p}{\\mathrm{~d} t}+\\frac{\\dot{Q}}{c_{\\mathrm{p}}}$\n",
        "\n",
        "Die Gleichung beschreibt den Energieerhaltungssatz der Thermodynamik: Bei konstantem Volumen resultieren Temperaturänderungen entweder aus Druckänderungen oder aus einem Wärmestrom $\\dot{Q}$ (Wärmezufuhr bzw. abfluss). $c_{\\mathrm{p}}$ steht für die spezifische Wärmekapazität eines Gases bei konstantem Druck."
      ]
    },
    {
      "cell_type": "markdown",
      "metadata": {
        "id": "0s63ZfJQB6hr"
      },
      "source": [
        "> **Navier-Stokes-Gleichung**: $\\rho \\cdot \\frac{\\mathrm{d} \\vec{v}}{\\mathrm{~d} t}=-\\vec{\\nabla} p+\\rho \\cdot \\vec{g}_{\\mathrm{s}}-2 \\cdot \\rho \\cdot \\vec{\\Omega} \\times \\vec{v}+\\vec{\\nabla} \\cdot \\vec{P}_{\\mathrm{R}}$\n",
        "\n",
        "Die Gleichung entspricht dem 2 . Newtonschen Axiom $\\vec{F}=\\frac{\\mathrm{d}(m \\cdot \\vec{v})}{\\mathrm{d} t}$ bezogen auf ein festes Volumen: Die Änderung des Geschwindigkeitsvektors $\\vec{v}$, multipliziert mit seiner Dichte, ist gleich der Summe der resultierenden Kräfte (Druckgradient, Schwerebeschleunigung, sowie Einfluss von Coriolis-Kraft und Reibung)."
      ]
    },
    {
      "cell_type": "markdown",
      "metadata": {
        "id": "xFk-LY-MCM_t"
      },
      "source": [
        "Den einzelnen Gleichungen kommen in der Praxis verschiedene Aufgaben zu. Die Navier-Stokes-Gleichung soll Auskunft über die zeitliche Entwicklung von horizontalen wie vertikalen Luftströmungen ergeben. Dazu sind Kenntnisse der Anfangs- und Randbedingungen nötig, die sich aus Modellannahmen, der Diagnose-Gleichung (1) und den übrigen Prognose-Gleichungen (2) bis (4) ergeben."
      ]
    },
    {
      "cell_type": "markdown",
      "metadata": {
        "id": "Ku1eQjvuC5zi"
      },
      "source": [
        "Die Eulersche Gleichung: Zunächst soll die die Atmosphäre als ein ideales Fluid **ohne Reibung $(\\eta=0)$** betrachtet werden. Somit vereinfacht sich die Navier-Stokes-Gleichung zur sogenannten Eulerschen Gleichung:\n",
        "\n",
        "> **Eulersche Gleichung**: $\\rho \\cdot \\frac{\\mathrm{d} \\vec{v}}{\\mathrm{~d} t}=-\\vec{\\nabla} p+\\rho \\cdot \\vec{g}_{s}-2 \\cdot \\rho \\cdot \\vec{\\Omega} \\times \\vec{v}$\n",
        "\n",
        "Die Gleichung wird verständlicher, wenn man sich einige Spezialfälle ansieht. Rest: https://www.grund-wissen.de/diplomarbeit/physik-der-atmoshpaere.html"
      ]
    },
    {
      "cell_type": "markdown",
      "metadata": {
        "id": "zj7kxOcmCw4S"
      },
      "source": [
        "**Methods used**"
      ]
    },
    {
      "cell_type": "markdown",
      "metadata": {
        "id": "j6YjfT8pClpi"
      },
      "source": [
        "* The equations used are nonlinear partial differential equations which are impossible to solve exactly through analytical methods, with the exception of a few idealized cases.\n",
        "\n",
        "* Extremely small errors in temperature, winds, or other initial inputs given to numerical models **will amplify and double every five days.**\n",
        "\n",
        "* Therefore, numerical methods obtain approximate solutions. Different models use different solution methods: some global models and almost all regional models use [finite difference methods](https://en.wikipedia.org/wiki/Finite_difference_method) for all three spatial dimensions, while other global models and a few regional models use [spectral methods](https://en.wikipedia.org/wiki/Spectral_method) for the horizontal dimensions and finite-difference methods in the vertical.\n",
        "\n",
        "* https://en.wikipedia.org/wiki/Flow-following,_finite-volume_Icosahedral_Model\n",
        "\n",
        "* https://en.wikipedia.org/wiki/Ensemble_forecasting\n",
        "\n",
        "* https://en.wikipedia.org/wiki/Model_output_statistics\n",
        "\n",
        "* See also Air quality models, Tropical cyclone models and Ocean models under https://en.wikipedia.org/wiki/History_of_numerical_weather_prediction"
      ]
    },
    {
      "cell_type": "markdown",
      "metadata": {
        "id": "S7cGhgvsCO3A"
      },
      "source": [
        "*Models use systems of differential equations based on the laws of physics, fluid motion, and chemistry, and use a coordinate system which divides the planet into a 3D grid. Winds, heat transfer, radiation, relative humidity, and surface hydrology are calculated within each grid and evaluate interactions with neighboring points.*\n",
        "\n",
        "![jj](https://upload.wikimedia.org/wikipedia/commons/b/b1/Global_Climate_Model.png)"
      ]
    },
    {
      "cell_type": "markdown",
      "metadata": {
        "id": "ZSINydf3-2L6"
      },
      "source": [
        "**Abgrenzung zur Klimamodellierung**"
      ]
    },
    {
      "cell_type": "markdown",
      "metadata": {
        "id": "lk9TwoCG85HM"
      },
      "source": [
        "* https://en.wikipedia.org/wiki/Climate_model\n",
        "\n",
        "* [Klimamodelle](https://de.wikipedia.org/wiki/Klimamodell) haben prinzipiell denselben Aufbau wie Wettervorhersagemodelle (Diskretisierung auf einem Gitter bzw. im Spektralraum, numerische Lösung derselben physikalischen Gleichungen, Parametrisierungen). Es gibt ebenfalls Global- und Ausschnittsmodelle. \n",
        "\n",
        "* **Zeitraum**: Allerdings ist die Vorhersagezielsetzung (mittlerer Zustand der Atmosphäre über Jahreszeiten bis Jahrtausenden (Klima) versus möglichst exakter Zustand der Atmosphäre in den nächsten Stunden bis Tagen (Wetter)). \n",
        "\n",
        "* **Anfangs- vs. Randwertproblem**: In der Wettervorhersage kommt der Kenntnis des Ausgangszustands (**Anfangswertproblem**) mittels [Datenassimilation](https://de.wikipedia.org/wiki/Datenassimilation) bzw. [Data assimilation](https://en.wikipedia.org/wiki/Data_assimilation) eine bedeutende Rolle zu. Die Details einer individuellen Wettersituation verschwinden dagegen durch die zeitliche Mittelung in Klimamodellen. Diese benötigen hingegen eine möglichst genaue Kenntnis und Zukunftsprojektion der Änderung der äußeren Antriebe (**Randwertproblem**) wie Schwankungen in der Solarstrahlung, der Meerestemperatur (deshalb häufige Kopplung mit einem Ozeanmodell) oder der atmosphärischen Zusammensetzung (Aerosole, Treibhausgasemissionen aus natürlichen und künstlichen Quellen), der Bodenbeschaffenheit (Änderung der Vegetation durch Landwirtschaft mit Auswirkungen auf die Strahlung und den Wasserkreislauf) etc."
      ]
    },
    {
      "cell_type": "markdown",
      "metadata": {
        "id": "hQDmV23uEpYw"
      },
      "source": [
        "**weather and environmental monitoring stations**"
      ]
    },
    {
      "cell_type": "markdown",
      "metadata": {
        "id": "qLu4-Mb1EroU"
      },
      "source": [
        "https://en.wikipedia.org/wiki/Mesonet"
      ]
    },
    {
      "cell_type": "markdown",
      "metadata": {
        "id": "_AZw0LJ4EMfT"
      },
      "source": [
        "**Quantitative Precipitation Forecast**"
      ]
    },
    {
      "cell_type": "markdown",
      "metadata": {
        "id": "lZnH8OpvZDWB"
      },
      "source": [
        "*Long-term mean precipitation by month*\n",
        "\n",
        "![ff](https://upload.wikimedia.org/wikipedia/commons/b/b7/Precipitation_longterm_mean.gif)"
      ]
    },
    {
      "cell_type": "markdown",
      "metadata": {
        "id": "C680hiVDEPVl"
      },
      "source": [
        "* [Precipitation](https://en.wikipedia.org/wiki/Precipitation) is any product of the condensation of atmospheric water vapor that falls under gravitational pull from clouds\n",
        "\n",
        "* The [quantitative precipitation forecast](https://en.wikipedia.org/wiki/Quantitative_precipitation_forecast) (abbreviated QPF) is the expected amount of melted precipitation accumulated over a specified time period over a specified area.\n",
        "\n",
        "* Algorithms exist to forecast rainfall based on short term [radar trends](https://en.wikipedia.org/wiki/Weather_radar), within a matter of hours. Radar imagery forecasting techniques show higher skill than model forecasts within 6 to 7 hours of the time of the radar image.\n",
        "\n",
        "* **Exkurs**: Als [Peplosphäre](https://de.wikipedia.org/wiki/Peplosphäre) bzw. [Planetary boundary layer](https://en.wikipedia.org/wiki/Planetary_boundary_layer), planetare Grenzschicht oder atmosphärische Grenzschicht (englisch atmospheric boundary layer) wird der untere Teil der Erdatmosphäre bezeichnet, der an die Erdoberfläche grenzt und insbesondere durch Bodenreibung und Erwärmung turbulenzverursachend im Zeitbereich von Stunden beeinflusst wird. Typischerweise sind dies die untersten 1,5 bis 2 Kilometer in Höhe, abhängig von Wind- und Temperaturverhältnissen. **In dieser Grenzschicht der Atmosphäre liegt der primäre Motor des Wettergeschehens.**"
      ]
    },
    {
      "cell_type": "markdown",
      "metadata": {
        "id": "UyfEDcaKWJKi"
      },
      "source": [
        "Ensemble Forecasting\n",
        "\n",
        "* The detail that can be given into a forecast decreases with time as these errors increase. There becomes a point when the errors are so large that the forecast has no correlation with the actual state of the atmosphere. Looking at a single forecast model gives no indication of how likely that forecast is to be correct.\n",
        "\n",
        "* The uncertainty in the forecast can then be assessed by the range of different forecasts produced. \n",
        "\n",
        "* Ensemble forecasts are increasingly being used for operational weather forecasting (for example at European Centre for Medium-Range Weather Forecasts (ECMWF), National Centers for Environmental Prediction (NCEP), and the Canadian forecasting center)."
      ]
    },
    {
      "cell_type": "markdown",
      "metadata": {
        "id": "z44G4EIaWlCf"
      },
      "source": [
        "Forecasting Verification\n",
        "\n",
        "* Rainfall forecasts can be verified a number of ways. Rain gauge observations can be gridded into areal averages, which are then compared to the grids for the forecast models. Weather radar estimates can be used outright, or corrected for rain gauge observations.\n",
        "\n",
        "* Several statistical scores can be based on the observed and forecast fields. \n",
        "\n",
        "* One, known as a bias, compares the size of the forecast field to the observed field, with the goal of a score of 1. \n",
        "\n",
        "* The threat score involves the intersection of the forecast and observed sets, with a maximum possible verification score of 1. The probability of detection, or POD, is found by dividing the overlap between the forecast and observed fields by the size of the observed field: the goal here is a score of 1. \n",
        "\n",
        "* The critical success index, or CSI, divides the overlap between the forecast and observed fields by the combined size of the forecast and observed fields: the goal here is a score of 1. \n",
        "\n",
        "* The false alarm rate, or FAR, divides the area of the forecast which does not overlap the observed field by the size of the forecasted area. The goal value in this measure is zero."
      ]
    },
    {
      "cell_type": "markdown",
      "metadata": {
        "id": "gYmWELL8q5kN"
      },
      "source": [
        "https://en.m.wikipedia.org/wiki/Probability_of_precipitation"
      ]
    },
    {
      "cell_type": "markdown",
      "metadata": {
        "id": "zdKs_sMTANeK"
      },
      "source": [
        "https://en.wikipedia.org/wiki/Burgers%27_equation"
      ]
    },
    {
      "cell_type": "markdown",
      "metadata": {
        "id": "Gdr6F1zuU4MG"
      },
      "source": [
        "## **Variationsrechnung**"
      ]
    },
    {
      "cell_type": "markdown",
      "metadata": {
        "id": "9AR9PIXysIa4"
      },
      "source": [
        "#### **Gegenstand**"
      ]
    },
    {
      "cell_type": "markdown",
      "metadata": {
        "id": "4_on0MZCUMWI"
      },
      "source": [
        "**Variation**"
      ]
    },
    {
      "cell_type": "markdown",
      "metadata": {
        "id": "w9ULU9gH-F0N"
      },
      "source": [
        "![cc](https://upload.wikimedia.org/wikipedia/commons/1/10/Total_variation.gif)\n",
        "\n",
        "*As the green ball travels on the graph of the given function, the length of the path travelled by that ball's projection on the y-axis, shown as a red ball, is the total variation of the function.*"
      ]
    },
    {
      "cell_type": "markdown",
      "metadata": {
        "id": "EkItUc9NUPLf"
      },
      "source": [
        "* the [total variation](https://en.wikipedia.org/wiki/Total_variation) identifies several slightly different concepts, related to the (local or global) structure of the codomain of a function or a measure. For a real-valued continuous function f, defined on an interval [a, b] ⊂ ℝ, its total variation on the interval of definition is a measure of the one-dimensional [arclength](https://en.wikipedia.org/wiki/Arc_length) of the curve with parametric equation x ↦ f(x), for x ∈ [a, b].\n",
        "\n",
        "* In der Variationsrechnung und der Theorie der stochastischen Prozesse ist die [Variation](https://de.wikipedia.org/wiki/Variation_(Mathematik)) (auch totale Variation genannt) einer Funktion **ein Maß für das lokale Schwingungsverhalten der Funktion**. \n",
        "\n",
        "* Bei den stochastischen Prozessen ist die Variation von besonderer Bedeutung, da sie die Klasse der zeitstetigen Prozesse in zwei fundamental verschiedene Unterklassen unterteilt: jene mit endlicher und solche mit unendlicher Variation."
      ]
    },
    {
      "cell_type": "markdown",
      "metadata": {
        "id": "o_X2Fv7rUuny"
      },
      "source": [
        "Die [erste Variation](https://de.wikipedia.org/wiki/Erste_Variation) ist eine verallgemeinerte Richtungsableitung eines Funktionals. Ihre Eigenschaften sind in der angewandten Mathematik und der theoretischen Physik relevant. Die erste Variation spielt eine zentrale Rolle in der Variationsrechnung und wird in der analytischen Mechanik genutzt. Ein verwandtes Konzept ist die Funktionalableitung."
      ]
    },
    {
      "cell_type": "markdown",
      "metadata": {
        "id": "xRSLhtGHUz6-"
      },
      "source": [
        "In der Analysis ist eine Funktion von [beschränkter Variation](https://de.wikipedia.org/wiki/Beschränkte_Variation) (beschränkter Schwankung), wenn ihre totale Variation (totale Schwankung) endlich ist, sie also in gewisser Weise nicht beliebig stark oszilliert. Diese Begriffe hängen eng mit der Stetigkeit und der Integrierbarkeit von Funktionen zusammen."
      ]
    },
    {
      "cell_type": "markdown",
      "metadata": {
        "id": "LTt3OLla2IRt"
      },
      "source": [
        "**Variational Principle**"
      ]
    },
    {
      "cell_type": "markdown",
      "metadata": {
        "id": "yjqXlKua2Mj8"
      },
      "source": [
        "* a [variational principle](https://en.wikipedia.org/wiki/Variational_principle) is one that enables a problem to be solved using calculus of variations, which concerns finding such functions which optimize the values of quantities that depend upon those functions. \n",
        "\n",
        "* For example, the problem of determining the shape of a hanging chain suspended at both ends—a catenary—can be solved using variational calculus, and in this case, the variational principle is the following: The solution is a function that minimizes the gravitational potential energy of the chain.\n",
        "\n",
        "* Any physical law which can be expressed as a variational principle describes a **self-adjoint operator.** These expressions are also called Hermitian. Such an expression describes an invariant under a Hermitian transformation."
      ]
    },
    {
      "cell_type": "markdown",
      "metadata": {
        "id": "jBVibsq7UgT9"
      },
      "source": [
        "**Variationsrechnung**"
      ]
    },
    {
      "cell_type": "markdown",
      "metadata": {
        "id": "UXIblPI6_-oP"
      },
      "source": [
        "\n",
        "\n",
        "* **Find [stationary points](https://internal.ncl.ac.uk/ask/numeracy-maths-statistics/core-mathematics/calculus/stationary-points.html) (=derivative is zero, local minima or maxima) of a functional, like an integral I[f] (=here for example the path lenghts, or time spent travelling) is minimal between two points a and b.**\n",
        "\n",
        "  * A stationary point of a function $f(x)$ is a point where the derivative of $f(x)$ is equal to 0 . \n",
        "  * These points are called \"stationary\" because at these points the function is neither increasing nor decreasing. \n",
        "  * Graphically, this corresponds to points on the graph of $f(x)$ where the tangent to the curve is a horizontal line.\n",
        " * The stationary points of a function $y=f(x)$ are the solutions to $\n",
        "\\frac{d y}{d x}=0 $. This repeats in mathematical notation the definition given above: \"points where the gradient of the function is zero\".\n",
        "\n",
        "* **The integral is a functional (=function of functions), its stationary point is a fix point / minima of a functional (not function). Solve (usually differential) equations for stationary function f(x) (via calculus of variations)**\n",
        "\n",
        "* from regular calculus to calculus of variations: find stationary functions, not only stationary points, a function becomes a functional.\n",
        "\n",
        "* **Typical problem in variational calculus: find minimal path between points A and B, not necessarily a linear one (in physics for examples check Brachistochrone !)**. \n",
        "\n",
        "* Also consider that velocity depending on position changes the minimum paths or time to travel (later in vector analysis relevant for Kurvenintegral)\n",
        "\n",
        "In general, Calculus of variations seeks to find y = f(x) such that this integral:\n",
        "\n",
        "> $I[f]=\\int_{x_{1}}^{x_{2}} F\\left(x, y, \\frac{d y}{d x}\\right) d x$\n",
        "\n",
        "is stationary (ps: $\\frac{d y}{d x}$ = $y'$)"
      ]
    },
    {
      "cell_type": "markdown",
      "metadata": {
        "id": "uWS6r7zeXBiF"
      },
      "source": [
        "https://www.youtube.com/watch?v=6HeQc7CSkZs&list=PLdgVBOaXkb9CD8igcUr9Fmn5WXLpE8ZE_"
      ]
    },
    {
      "cell_type": "markdown",
      "metadata": {
        "id": "gtfLe2I18pBF"
      },
      "source": [
        "https://www.youtube.com/playlist?list=PLdgVBOaXkb9CD8igcUr9Fmn5WXLpE8ZE_"
      ]
    },
    {
      "cell_type": "markdown",
      "metadata": {
        "id": "d-YucyzLNVXX"
      },
      "source": [
        "1. Die [Variationsrechnung](https://de.wikipedia.org/wiki/Variationsrechnung) ist eine **Erweiterung der Funktionalanalysis und beschaeftigt sich mit <u>nichtlinearen Funktionalen</u>** (in der Funktionalanalysis sind es linear Funktionale)\n",
        "\n",
        "2. The [calculus of variations](https://en.m.wikipedia.org/wiki/Calculus_of_variations) is a field that **uses variations, which are small changes in functions and functionals, to find maxima and minima of functionals**: mappings from a set of functions to the real numbers. Functionals are often expressed as definite integrals involving functions and their derivatives. <u>**Functions that maximize or minimize functionals may be found using the Euler–Lagrange equation of the calculus of variations.**</u>\n",
        "\n",
        "* In calculus of variations we are **NOT concerned with finding fix points of functions (like local maxima in a function), but rather fix points of functionals.**\n",
        "\n",
        "\n",
        "* dann führt eine Variation der Wirkung: https://de.m.wikipedia.org/wiki/Feldtheorie_(Physik)#Formalismus\n",
        "\n",
        "* Beispiel: https://de.wikipedia.org/wiki/Fluiddynamik\n",
        "\n",
        "* Martin: formulier problem in variationelle formulierung (dann bist du in sobolove räume), und dann Eigenschaften von Testfunktionen ausnutzen"
      ]
    },
    {
      "cell_type": "markdown",
      "metadata": {
        "id": "3sKOpLJ5il05"
      },
      "source": [
        "**Variation der Elemente**"
      ]
    },
    {
      "cell_type": "markdown",
      "metadata": {
        "id": "qWojWs7Px8DZ"
      },
      "source": [
        "* die [Variation der Elemente](https://de.wikipedia.org/wiki/Variation_der_Elemente) ist eine im 19. Jahrhundert entwickelte Methode zur genauen Bahnbestimmung von Himmelskörpern. Sie dient bis heute zur Modellierung von [Bahnstörungen](https://de.wikipedia.org/wiki/Bahnstörung)."
      ]
    },
    {
      "cell_type": "markdown",
      "metadata": {
        "id": "eloiR80j3LKg"
      },
      "source": [
        "**Brachistochrone & Tautochronie**"
      ]
    },
    {
      "cell_type": "markdown",
      "metadata": {
        "id": "Caqyohtk9JPX"
      },
      "source": [
        "https://www.youtube.com/watch?v=zYOAUG8PxyM"
      ]
    },
    {
      "cell_type": "markdown",
      "metadata": {
        "id": "VpbYH6ya6lV_"
      },
      "source": [
        "* Brachistochrone: Path between 2 points $A$ and $B$ which minimizes the time taken by a particle falling from $A$ to $B$ under the influence of gravity.\n",
        "\n",
        "* Time = distance / speed. Goal: Mix of minimize distance and maximize speed\n",
        "\n",
        "* Johann I Bernoulli hat sich mit dem **Problem des schnellsten Falles** beschäftigt. Im Jahre 1696 fand er schließlich die Lösung in der **Brachistochrone**. Heute sieht man dies oft als die **Geburtsstunde der Variationsrechnung**."
      ]
    },
    {
      "cell_type": "markdown",
      "metadata": {
        "id": "NWNCf_416SQR"
      },
      "source": [
        "[**Brachistochrone Curve**](https://en.wikipedia.org/wiki/Brachistochrone_curve) (in rot): Der Körper gleitet auf einer solchen Bahn schneller zum Ziel als auf jeder anderen Bahn, beispielsweise auf einer geradlinigen, obwohl diese kürzer ist.\n",
        "\n",
        "\n",
        "![vv](https://upload.wikimedia.org/wikipedia/commons/6/63/Brachistochrone.gif)"
      ]
    },
    {
      "cell_type": "markdown",
      "metadata": {
        "id": "YMvO3MMS6JFg"
      },
      "source": [
        "**Tautochronie** der Brachistochrone – von jedem Startpunkt auf der Kurve erreichen die Kugeln das „Ziel“ gleichzeitig.\n",
        "\n",
        "![ff](https://upload.wikimedia.org/wikipedia/commons/b/bd/Tautochrone_curve.gif)"
      ]
    },
    {
      "cell_type": "markdown",
      "metadata": {
        "id": "TnIIOyg7sUWT"
      },
      "source": [
        "**Gâteaux-Differential**"
      ]
    },
    {
      "cell_type": "markdown",
      "metadata": {
        "id": "ZO6d-DQEsTA4"
      },
      "source": [
        "* [Gâteaux-Differential](https://de.wikipedia.org/wiki/Gâteaux-Differential) ist eine **Verallgemeinerung des gewöhnlichen Differentiationsbegriffes** dar, indem es die Richtungsableitung auch in unendlichdimensionalen Räumen definiert."
      ]
    },
    {
      "cell_type": "markdown",
      "metadata": {
        "id": "kLrvSOUNr1T1"
      },
      "source": [
        "#### **Euler–Lagrange Equation**"
      ]
    },
    {
      "cell_type": "markdown",
      "metadata": {
        "id": "pd2IsJ_CSCS6"
      },
      "source": [
        "**Principle of Stationary Action**"
      ]
    },
    {
      "cell_type": "markdown",
      "metadata": {
        "id": "U1_LTPqfTDH4"
      },
      "source": [
        "![ff](https://raw.githubusercontent.com/deltorobarba/repo/master/lagrange_01.png)"
      ]
    },
    {
      "cell_type": "markdown",
      "metadata": {
        "id": "L5BT3mKBTKRs"
      },
      "source": [
        "![ff](https://raw.githubusercontent.com/deltorobarba/repo/master/lagrange_02.png)"
      ]
    },
    {
      "cell_type": "markdown",
      "metadata": {
        "id": "_RWhECg9U_Oh"
      },
      "source": [
        "* Total energy = kinetic energy - potential energy.\n",
        "\n",
        "* Kinetic - potential energy = Lagrangian $L$\n",
        "\n",
        "* Kinetic energy depends on velocity of a particle (detonated with a dot over x,y,z), potential energy depends on position of a particle x,y,z. Hence the Lagrangian of a particle depends on all of the positions and all of their time derivatives. \n",
        "\n",
        "* **Use and solve the three Lagrangian equations in order to determine the equation of motion of a particle (and Lagrange equations are equivalent to Newton's second law)**\n",
        "\n",
        "* And they can easily applied to other coordinate systems than cartesian (i.e cylindric, or spherical)\n",
        "\n",
        "* Also: **Lagrange equations are very similar to Euler-Lagrange Equations!**\n",
        "\n",
        "* Because the three Lagrange equations very strongly resemble the Euler-Lagrange-equation, there must be some functional that's being made stationary by Lagrange equations\n",
        "\n",
        "* **$S$ is the action integral (= a functional!)**\n",
        "\n"
      ]
    },
    {
      "cell_type": "markdown",
      "metadata": {
        "id": "o-nJvdQFOk7w"
      },
      "source": [
        "[The Principle of Stationary Action](https://www.youtube.com/watch?v=M05ixbSOY80): If a particle/system $P$ travels from one point to another in the time interval $\\left[t_{1}, t_{2}\\right]$, the path the particle traverses is such that this function:\n",
        "\n",
        "> $\n",
        "S=\\int_{t_{1}}^{t_{2}} \\mathcal{L} \\text { dt}$\n",
        "\n",
        "is stationary. "
      ]
    },
    {
      "cell_type": "markdown",
      "metadata": {
        "id": "W-B68-upYzGV"
      },
      "source": [
        "$L$ is the Lagrangian of the particle: $L=E_{u}-U$. \n",
        "\n",
        "Need to solve Lagrange equations to make $S$ stationary:\n",
        "\n",
        "$\\frac{\\partial L}{\\partial q_{1}}=\\frac{d}{d t}\\left(\\frac{\\partial L}{\\partial \\dot{q}_{1}}\\right), \\frac{\\partial L}{\\partial q_{2}}=\\frac{d}{d t}\\left(\\frac{\\partial L}{\\partial \\dot{q}_{2}}\\right), \\frac{\\partial L}{\\partial q_{3}}=\\frac{d}{d t}\\left(\\frac{\\partial L}{\\partial \\dot{q}_{3}}\\right) \\quad \\begin{array}{c}\\\\ \\end{array}$\n",
        "\n",
        "We can use a general coordinate system:\n",
        "$\\\\ {\\left[q_{1}(t), q_{2}(t), q_{3}(t)\\right]}$"
      ]
    },
    {
      "cell_type": "markdown",
      "metadata": {
        "id": "AUccaxMqCONs"
      },
      "source": [
        "**Hamilton'sches Prinzip (Wirkungsfunktional)**"
      ]
    },
    {
      "cell_type": "markdown",
      "metadata": {
        "id": "0YUSTnxUCj_B"
      },
      "source": [
        "> Das [Hamilton'sche Prinzip](https://de.wikipedia.org/wiki/Hamiltonsches_Prinzip) zeichnet tatsachlich durchlaufene Bahnen dadurch aus, **dass bei ihnen die Wirkung (=Funktional) S[q] (verglichen mit anderen Bahnen) ein Minimum annimmt (minimal variation ??)**.\n",
        "\n",
        "* Das Hamiltonsche Prinzip der Theoretischen Mechanik ist ein **Extremalprinzip**. Physikalische Felder und Teilchen nehmen danach für eine bestimmte Größe einen extremalen (d. h. größten oder kleinsten) Wert an. Diese Bewertung nennt man Wirkung, mathematisch ist die Wirkung ein Funktional, daher auch die Bezeichnung **Wirkungsfunktional**.\n",
        "\n",
        "* Die Wirkung erweist sich in vielen Fällen nicht als minimal, sondern nur als **„stationär“** (d. h. extremal). Deshalb wird das Prinzip von manchen Lehrbuchautoren auch das Prinzip der **stationären Wirkung** genannt. Manche Autoren nennen das Hamiltonsche Prinzip auch **'Prinzip der kleinsten Wirkung'**, was jedoch – wie oben ausgeführt – nicht präzise ist.\n",
        "\n",
        "* Hamilton's principle states that the true evolution of a physical system is a solution of the functional equation:\n",
        "\n",
        "> $\\frac{\\delta \\mathcal{S}}{\\delta \\mathbf{q}(t)}=0$\n",
        "\n",
        "* That is, the system takes a path in configuration space for which the action is stationary, with fixed boundary conditions at the beginning and the end of the path."
      ]
    },
    {
      "cell_type": "markdown",
      "metadata": {
        "id": "lcfFakZPDSlA"
      },
      "source": [
        "![ff](https://upload.wikimedia.org/wikipedia/commons/thumb/1/1c/Least_action_principle.svg/500px-Least_action_principle.svg.png)\n",
        "\n",
        "*As the system evolves, q traces a path through configuration space (only some are shown). The path taken by the system (red) has a stationary action (δS = 0) under small changes in the configuration of the system (δq).*"
      ]
    },
    {
      "cell_type": "markdown",
      "metadata": {
        "id": "8rTSTqyoGEgM"
      },
      "source": [
        "Richard Feynman zeigte in den 1940ern, dass sich das Hamiltonsche Prinzip in der Quantenfeldtheorie gerade dadurch ergibt, dass alle möglichen Pfade (auch die nicht zielgerichteten) zulässig sind und aufintegriert werden. Dabei überlagern sich Pfade mit extremaler Wirkung konstruktiv und davon abweichende destruktiv, so dass die Natur schließlich zielgerichtet erscheint."
      ]
    },
    {
      "cell_type": "markdown",
      "metadata": {
        "id": "bcxaUB6UFfh8"
      },
      "source": [
        "**Langrange Formalismus**"
      ]
    },
    {
      "cell_type": "markdown",
      "metadata": {
        "id": "juoWoVAzFb7x"
      },
      "source": [
        "Eingeführte Formulierung der klassischen Mechanik, in der die Dynamik eines Systems durch **eine einzige skalare Funktion, die Lagrange-Funktion**, beschrieben wird. Der Formalismus ist (im Gegensatz zu der newtonschen Mechanik, die a priori nur in Inertialsystemen gilt) auch in beschleunigten Bezugssystemen gültig. Der Lagrange-Formalismus ist invariant gegen Koordinatentransformationen.\n",
        "\n",
        "Der [Langrange Formalismus](https://de.wikipedia.org/wiki/Lagrange-Formalismus) ist eine mögliche (von vielen!) Formulierung der klassischen Mechanik. Hier wird die Dynamik eines Systems durch die Langrange-Funktion L(${\\boldsymbol{q}}$, $\\dot{\\boldsymbol{q}}$, $t$) beschrieben:\n",
        "\n",
        "* ${\\boldsymbol{q}}$ = (q1, q2, ..., qw) - allgemeine Koordinaten im Raum\n",
        "* $\\dot{\\boldsymbol{q}}$ = (d / dt) q ... ($\\dot{\\boldsymbol{q}}$1, $\\dot{\\boldsymbol{q}}$2.. $\\dot{\\boldsymbol{q}}$n) - Vektor der Wirkung (allgemeine Geschwindigkeiten)\n",
        "* $t$ - Zeit (Die explizite Zeitabhängige berücksichtigt externe, zeitabhängige Faktoren (z.B. Magnet-Felder etc). Wird auf Null gesetzt, denn bei einem Wechsel in die mikroskopische Theorie verschwindet die Zeit)\n",
        "\n",
        "> $L_{x}(q, \\dot{q}, t)$ wird zu: $L_{x}(q, \\dot{q})$ = $T$<sub>kin</sub> - $V$<sub>pot</sub>"
      ]
    },
    {
      "cell_type": "markdown",
      "metadata": {
        "id": "yh3-XC92HP_o"
      },
      "source": [
        "https://www.youtube.com/watch?v=V8CR4GVg5Io&t=301s"
      ]
    },
    {
      "cell_type": "markdown",
      "metadata": {
        "id": "xj_FQa3ZHR25"
      },
      "source": [
        "https://www.youtube.com/watch?v=EceVJJGAFFI"
      ]
    },
    {
      "cell_type": "markdown",
      "metadata": {
        "id": "KYzlWwuA8hXl"
      },
      "source": [
        "**Euler–Lagrange Equation**"
      ]
    },
    {
      "cell_type": "markdown",
      "metadata": {
        "id": "dSDm60df1uY6"
      },
      "source": [
        "The Euler–Lagrange equation is an equation satisfied by a function q of a real argument t, which is a stationary point of the functional:\n",
        "\n",
        "> $S(\\boldsymbol{q})=\\int_{a}^{b} L(t, \\boldsymbol{q}(t), \\dot{\\boldsymbol{q}}(t)) \\mathrm{d} t$\n",
        "\n",
        "* ${\\boldsymbol{q}}$ - Koordinaten im Raum\n",
        "* $\\dot{\\boldsymbol{q}}$ - Vektor der Wirkung\n",
        "* t - Zeit (wird auf Null gesetzt, den bei einem Wechsel in die mikroskopische Theorie verschwindet die Zeit)\n",
        "\n",
        "The Euler–Lagrange equation, then, is given by\n",
        "\n",
        "> $L_{x}(t, q(t), \\dot{q}(t))-\\frac{\\mathrm{d}}{\\mathrm{d} t} L_{v}(t, q(t), \\dot{q}(t))=0$\n",
        "\n",
        "* partial derivative of one dimension, then second dimension and then time"
      ]
    },
    {
      "cell_type": "markdown",
      "metadata": {
        "id": "7YgD5e1WCrQG"
      },
      "source": [
        "[Derivation of the Euler-Lagrange Equation](https://www.youtube.com/watch?v=sFqp2lCEvwM&list=PLdgVBOaXkb9CD8igcUr9Fmn5WXLpE8ZE_&index=2)"
      ]
    },
    {
      "cell_type": "markdown",
      "metadata": {
        "id": "V2qfbPen7OHY"
      },
      "source": [
        "https://www.youtube.com/watch?v=V0wx0JBEgZc"
      ]
    },
    {
      "cell_type": "markdown",
      "metadata": {
        "id": "a8e1OmDf8qdS"
      },
      "source": [
        "* the [Euler equation](https://en.m.wikipedia.org/wiki/Euler–Lagrange_equation) is a **second-order partial differential** equation whose **solutions are the functions for which a given functional is stationary**.\n",
        "\n",
        "* Because **a differentiable functional is stationary at its local extrema**, the Euler–Lagrange equation is useful for solving optimization problems in which, given some functional, one seeks the function minimizing or maximizing it. \n",
        "\n",
        "* This is analogous to [Fermat's theorem](https://en.m.wikipedia.org/wiki/Fermat%27s_theorem_(stationary_points)) in calculus, stating that at any point where a differentiable function attains a local extremum its derivative is zero.\n",
        "\n",
        "* In Lagrangian mechanics, according to [Hamilton's principle](https://en.m.wikipedia.org/wiki/Hamilton%27s_principle) of stationary action, the evolution of a physical system is described by the solutions to the Euler equation for the action of the system. In this context Euler equations are usually called Lagrange equations. In classical mechanics, it is equivalent to Newton's laws of motion, but it has the advantage that it takes the same form in any system of generalized coordinates, and it is better suited to generalizations.\n",
        "\n",
        "  * Hamilton's principle is William Rowan Hamilton's formulation of the [principle of stationary action](https://en.m.wikipedia.org/wiki/Principle_of_least_action) (also called: 'Principle of least action'). It states that the **dynamics of a physical system are determined by a variational problem for a functional based on a single function**, the Lagrangian, which may contain all physical information concerning the system and the forces acting on it. The variational problem is equivalent to and allows for the derivation of the differential equations of motion of the physical system\n"
      ]
    },
    {
      "cell_type": "markdown",
      "metadata": {
        "id": "Hvq9Ze9vgJ-T"
      },
      "source": [
        "https://de.wikipedia.org/wiki/Variationsrechnung#Euler-Lagrange-Gleichung;_Variationsableitung;_weitere_notwendige_bzw._hinreichende_Bedingungen"
      ]
    },
    {
      "cell_type": "markdown",
      "metadata": {
        "id": "ttEWWgIVr9Sl"
      },
      "source": [
        "#### **Fundamentallemma & -satz**"
      ]
    },
    {
      "cell_type": "markdown",
      "metadata": {
        "id": "Z3b7M8Nygvq7"
      },
      "source": [
        "**Fundamentallemma der Variationsrechnung**"
      ]
    },
    {
      "cell_type": "markdown",
      "metadata": {
        "id": "-FRcJghJgyjL"
      },
      "source": [
        "https://de.wikipedia.org/wiki/Fundamentallemma_der_Variationsrechnung"
      ]
    },
    {
      "cell_type": "markdown",
      "metadata": {
        "id": "ULsopNsIg5dZ"
      },
      "source": [
        "**Fundamentalsatz der Variationsrechnung**"
      ]
    },
    {
      "cell_type": "markdown",
      "metadata": {
        "id": "CwkRUt1ihCd_"
      },
      "source": [
        "* Fundamental Theorem of the Calculus of Variations - [Fundamentalsatz der Variationsrechnung](https://de.wikipedia.org/wiki/Fundamentalsatz_der_Variationsrechnung)\n",
        "\n",
        "* eng verwandt mit dem [weierstraßschen Satz vom Minimum](https://de.wikipedia.org/wiki/Satz_vom_Minimum_und_Maximum)\n",
        "\n",
        "* Er behandelt die in der Variationsrechnung zentrale Frage, unter welchen Bedingungen reellwertige Funktionale ein Minimum annehmen."
      ]
    },
    {
      "cell_type": "markdown",
      "metadata": {
        "id": "kyduGf4kNe-b"
      },
      "source": [
        "## **Vektoranalysis**"
      ]
    },
    {
      "cell_type": "markdown",
      "metadata": {
        "id": "TH8b8Mbvy_Fe"
      },
      "source": [
        "#### **Grundbegriffe**"
      ]
    },
    {
      "cell_type": "markdown",
      "metadata": {
        "id": "Jxw_I_chlfSU"
      },
      "source": [
        "https://youtube.com/playlist?list=PLBh2i93oe2quqhn4TZjMnBM2v7lG5QhDD"
      ]
    },
    {
      "cell_type": "markdown",
      "metadata": {
        "id": "r66BzwvTX8Ue"
      },
      "source": [
        "* Die [Vektoranalysis](https://de.m.wikipedia.org/wiki/Vektoranalysis) ist ein **Teilgebiet der Tensoranalysis**, beschäftigt sich hauptsächlich mit **Vektorfeldern in zwei oder mehr Dimensionen** \n",
        "\n",
        "* Die Vektoranalysis **verallgemeinert die Differential- und der Integralrechnung** (z.B. werden Verzerrungen auf Oberflachen bei der Integration berucksichtigt, oder Stroemungen bei Wegen)\n",
        "\n",
        "* Betrachtet werden **Vektorfelder**, die jedem Punkt des Raumes einen Vektor zuordnen, und **Skalarfelder**, die jedem Punkt des Raumes einen Skalar zuordnen.\n",
        "\n",
        "*  Die Temperatur eines Swimmingpools ist ein Skalarfeld: Jedem Punkt wird der Skalarwert seiner Temperatur zugeordnet. Die Wasserbewegung entspricht dagegen einem Vektorfeld, da jedem Punkt ein Geschwindigkeitsvektor zugeordnet wird, der Betrag und Richtung hat."
      ]
    },
    {
      "cell_type": "markdown",
      "metadata": {
        "id": "HwHPxe488bdG"
      },
      "source": [
        "https://de.m.wikipedia.org/wiki/Polarkoordinaten#Vektoranalysis"
      ]
    },
    {
      "cell_type": "markdown",
      "metadata": {
        "id": "ib8wN8Qsy42W"
      },
      "source": [
        "* **Kurven** in $\\mathbb{R}^{2}$ oder $\\mathbb{R}^{3}$: Wege bzw. **parametrisierte** Kurven in $\\mathbb{R}^{n}$ sind **stetige** Abbildungen $\\gamma$ [a, b] -> $\\mathbb{R}^{n}$\n",
        "\n",
        "* **Reguläre Wege** bzw. Kurven: **stetig + differenzierbar** und Norm der Ableitung ist die Summe der Komponenten: $\\|\\dot{\\gamma}(t)\\|^{2}=\\left|\\dot{\\gamma}_{1}(t)\\right|^{2}+\\left|\\dot{\\gamma}_{2}(t)\\right|^{2}+\\left|\\dot{\\gamma}_{3}(t)\\right|^{2} \\neq 0$ fur alle t $\\in$ [a,b]. Bedeutet auch: es gibt uberall einen Tangentialvektor.\n",
        "\n",
        "* **Bogenlänge** (Länge der Kurve / [Arc Length](https://en.wikipedia.org/wiki/Arc_length)): Integration der Geschwindigkeitsvektoren in der Norm: $L[\\gamma]=\\int_{a}^{b}\\|\\dot{\\gamma}(t)\\| d t$\n",
        "\n",
        "* **Tangentialvektor**: Ableitung / Geschwindigkeitsvektor an einem Punkt, der in eine Richtung zeigt, der tangential zur Kurve zeigt. Den Vektor normiert man (dividiert durch Norm): $T_{\\gamma}(t):=\\frac{\\dot{\\gamma}(t)}{\\|\\dot{\\gamma}(t)\\|}$\n",
        "\n",
        "* **Normalenvektor**: nur definiert in einer Ebene, also in R2. Sollte senkrecht auf der Kurve / senkrecht auf dem Tangentialvektor stehen (man muss also diesen Punkt $\\dot{\\gamma}(t)=\\left(\\begin{array}{l}\\dot{\\gamma}_{1}(t) \\\\ \\dot{\\gamma}_{2}(t)\\end{array}\\right)$ um 90 Grad drehen, damit er senkrech steht): $N_{\\gamma}(t):=\\frac{1}{\\|\\dot{\\gamma}(t)\\|}\\left(\\begin{array}{c}-\\dot{\\gamma}_{2}(t) \\\\ \\dot{\\gamma}_{2}(t)\\end{array}\\right)$. \n",
        "\n",
        "* **Die Norm im Normalenvektor (Jacobi-Determinante) gibt zB die Kruemmung / Verzerrung einer Flaeche an, die bei der Integration beruecksichtigt werden muss.**"
      ]
    },
    {
      "cell_type": "markdown",
      "metadata": {
        "id": "a_ZoCkWyJeNH"
      },
      "source": [
        "**Beispielaufgabe in der Vektoranalysis**\n",
        "\n",
        "* Betrachten Sie die folgende parametrisierte Kurve: $\n",
        "\\gamma:[0, \\infty) \\rightarrow \\mathbb{R}^{2}, \\quad \\gamma(t)=\\left(\\begin{array}{c}\n",
        "t \\cos (t) \\\\\n",
        "t \\sin (t)\n",
        "\\end{array}\\right)\n",
        "$\n",
        "\n",
        "  * (a) Skizzieren Sie die Kurve, d. h. das Bild der Abbildung.\n",
        "\n",
        "  * (b) Handelt es sich um einen regulären Weg?\n",
        "\n",
        "  * (c) Geben Sie Tangenteneinheitsvektor und Normaleneinheitsvektor für jeden Punkt an."
      ]
    },
    {
      "cell_type": "markdown",
      "metadata": {
        "id": "zFD0yRkvYGE2"
      },
      "source": [
        "#### **Felder & Potentiale**"
      ]
    },
    {
      "cell_type": "markdown",
      "metadata": {
        "id": "9Aolz28MRggQ"
      },
      "source": [
        "##### **Skalarfeld**"
      ]
    },
    {
      "cell_type": "markdown",
      "metadata": {
        "id": "fbKijNH7RjtR"
      },
      "source": [
        "* In der mehrdimensionalen Analysis, der Vektorrechnung und der Differentialgeometrie ist ein [skalares Feld (kurz Skalarfeld)](https://de.wikipedia.org/wiki/Skalarfeld) $\\varphi$ **eine Funktion, die jedem Punkt eines Raumes eine reelle Zahl (Skalar) zuordnet**, z. B. eine Temperatur, Luftdruck.\n",
        "\n",
        "* Wichtige Operationen im Zusammenhang mit Skalarfeldern sind: \n",
        "\n",
        "  * **[Gradient](https://de.wikipedia.org/wiki/Gradient_(Mathematik)) eines Skalarfeldes, der ein Vektorfeld ist**.\n",
        "\n",
        "  * [Richtungsableitung](https://de.wikipedia.org/wiki/Richtungsableitung) eines Skalarfeldes: die Richtungsableitung einer von mehreren Variablen abhängigen Funktion ist die **momentane Änderungsrate dieser Funktion in einer durch einen Vektor vorgegebenen Richtung**. (Eine Verallgemeinerung der Richtungsableitung auf unendlichdimensionale Räume ist das [Gâteaux-Differential](https://de.m.wikipedia.org/wiki/G%C3%A2teaux-Differential).)\n",
        "  * Ein Skalarfeld ist das einfachste [Tensorfeld](https://de.m.wikipedia.org/wiki/Tensorfeld).\n",
        "\n",
        "* Skalarfelder sind von großer Bedeutung in der Feldbeschreibung der Physik und in der mehrdimensionalen Vektoranalysis.\n",
        "\n",
        "* Man unterscheidet dabei zwischen **reellwertigen** Skalarfeldern $\\varphi\\colon M\\to \\mathbb {R}$ und **komplexwertigen** Skalarfeldern $\\displaystyle \\varphi \\colon M\\to \\mathbb {C} $.\n",
        "\n",
        "* Man spricht von einem **stationären Skalarfeld**, wenn die Funktionswerte nur vom Ort abhängen. Hängen sie auch von der Zeit ab, handelt es sich um ein **instationäres Skalarfeld**.\n",
        "\n",
        "* Beispiele für Skalarfelder in der Physik sind der Luftdruck, die Temperatur, Dichte oder allgemein **Potentiale (= Skalarpotentiale)**.\n",
        "\n",
        "* Im Gegensatz zum Skalarfeld ordnet ein Vektorfeld jedem Punkt einen Vektor zu. Ein Skalarfeld ist das einfachste Tensorfeld"
      ]
    },
    {
      "cell_type": "markdown",
      "metadata": {
        "id": "FLeX-skuQC_8"
      },
      "source": [
        "##### **Vektorfeld**"
      ]
    },
    {
      "cell_type": "markdown",
      "metadata": {
        "id": "o3O9MS9VNgPz"
      },
      "source": [
        "**Der Gradient eines Skalarfeldes ist ein Vektorfeld (zB: Skalar ist die Temperatur in einem Pool, und Temperaturveranderung uber Zeit ist die erste Ableitung dessen und dann ein Vektorfeld), und die zweite Ableitung ist die Beschleunigung der Temperaturveranderung.**\n",
        "\n",
        "* In der mehrdimensionalen Analysis und der Differentialgeometrie ist ein [Vektorfeld](https://de.m.wikipedia.org/wiki/Vektorfeld) eine Funktion, die jedem Punkt eines Raumes einen Vektor zuordnet.\n",
        "\n",
        "* Eine Abbildung $V: D \\rightarrow \\mathbb{R}^{n}, D \\subseteq \\mathbb{R}^{n}$ mit n = 1,2,3..\n",
        "\n",
        "* Die Temperatur eines Swimmingpools ist ein Skalarfeld: Jedem Punkt wird der Skalarwert seiner Temperatur zugeordnet. Die Wasserbewegung entspricht dagegen einem Vektorfeld, da jedem Punkt ein Geschwindigkeitsvektor zugeordnet wird, der Betrag und Richtung hat.\n",
        "\n",
        "* Meist sind Vektorfelder stetig differenzierbar = Komponenten sind stetig differenzierbar, zB Vektor $v1$ mit (x,y,z) und ihren drei Ableitungen als Komponente des Vektorfeldes $V$\n",
        "\n",
        "* Das duale Konzept zu einem Vektorfeld ist eine Funktion, die jedem Punkt eine [Linearform](https://de.m.wikipedia.org/wiki/Linearform), [zB [stetige lineare Funktionale](https://de.m.wikipedia.org/wiki/Funktional#Stetige_lineare_Funktionale)] zuordnet, eine solche Abbildung wird [pfaffsche Form](https://de.m.wikipedia.org/wiki/Pfaffsche_Form) (One-Form) genannt."
      ]
    },
    {
      "cell_type": "markdown",
      "metadata": {
        "id": "HITrObGEbo2I"
      },
      "source": [
        "**Beispiele von Vektorfeldern**"
      ]
    },
    {
      "cell_type": "markdown",
      "metadata": {
        "id": "ilI3SG0Pb4xw"
      },
      "source": [
        "**Gradientenfeld**: Ist $f: \\Omega \\rightarrow \\mathbb{R}$ eine differenzierbare Funktion auf einer offenen Menge $\\Omega \\subset \\mathbb{R}^{n},$ so wird das Gradientenfeld grad $f: \\Omega \\rightarrow \\mathbb{R}^{n}$ von $f$ definiert durch die Zuordnung\n",
        "\n",
        ">$\n",
        "x \\mapsto \\operatorname{grad} f(x)=\\left(\\frac{\\partial f}{\\partial x_{1}}(x), \\ldots, \\frac{\\partial f}{\\partial x_{n}}(x)\\right)\n",
        "$\n",
        "\n",
        "Oft schreibt man es mit dem Nabla-Symbol: grad $f=\\nabla f$. **Ist ein Vektorfeld $v$ das Gradientenfeld einer Funktion $f$ (=Skalarfeld ist abgeleitet nach Ort), das heißt $v=\\nabla f,$ so bezeichnet man $f$ als Potential**. Man sagt auch $v$ besitzt ein Potential. Beispiele von Gradientenfeldern sind das von einer Punktquelle nach allen Seiten\n",
        "gleichmäßig fließende Feld einer Strömung und das elektrische Feld um eine Punktladung."
      ]
    },
    {
      "cell_type": "markdown",
      "metadata": {
        "id": "1djFC2M4cKnO"
      },
      "source": [
        "**Zentralfelder**: Sei $I$ ein Intervall, welches die Null enthält, und $K(I)=\\left\\{x \\in \\mathbb{R}^{n}:\\|x\\| \\in I\\right\\} \\subset \\mathbb{R}^{n}$ eine Kugelschale. Zentralfelder auf der Kugelschale sind definiert durch $v(x)=a(\\|x\\|) \\cdot x$ mit $a: I \\rightarrow \\mathbb{R}$. In $\\mathbb{R}^{3} \\backslash\\{0\\}$ ist das **Gravitationsfeld** $v(x)=-\\frac{x}{\\|x\\|^{3}}$ ein solches Zentralfeld.\n"
      ]
    },
    {
      "cell_type": "markdown",
      "metadata": {
        "id": "AWyWoFmfcM22"
      },
      "source": [
        "Weitere Beispiele sind im $\\mathbb{R}^{3}$ die mathematisch diffizileren sogenannten **\"Wirbelfelder\"**. Sie lassen sich als Rotation eines Vektorpotentials A beschreiben, nach der Formel $\\mathbf{v}(\\mathbf{r})=\\operatorname{rot} \\mathbf{A}(\\mathbf{s} . \\mathbf{u}) .$\n",
        "Prägnantes Beispiel eines Wirbelfeldes ist das in Kreislinien um den\n",
        "Ausfluss einer , Badewanne\" herumwirbelnde Strömungsfeld, oder das Magnetfeld um einen stromdurchflossenen Draht."
      ]
    },
    {
      "cell_type": "markdown",
      "metadata": {
        "id": "56sZZ-KLKsX_"
      },
      "source": [
        "**Konservatives bzw. wirbelfreies Vektorfeld**\n",
        "\n",
        "* In Physik sind conservative forces jene, wo es keine Friktion, Air resistance etc. gibt\n",
        "\n",
        "* Vektorfelder, die Gradienten eines Skalarfelds sind, werden in Anlehnung an den Begriff des „konservativen Kraftfelds“ oft auch als konservative Vektorfelder bezeichnet (siehe Eigenschaften unten unter Gradientenfeld)\n",
        "\n",
        "* Als [wirbelfrei bzw. konservativ](https://de.wikipedia.org/wiki/Wirbelfreies_Vektorfeld) wird in der Physik und Potentialtheorie ein Vektorfeld $\\vec{X}(\\vec{r})$ bezeichnet, in dem das **Kurvenintegral** $\n",
        "\\oint_{S} \\vec{X}(\\vec{r}) \\cdot \\mathrm{d} \\vec{s}=0$ für beliebige in sich geschlossene Randkurven $S$ stets den Wert null liefert. \n",
        "\n",
        "* Deutet man $\\vec{X}(\\vec{r})$ als Kraftfeld, so ist das Kurvenintegral die gesamte längs der Randkurve $S$ gegen die Kraft $\\vec{X}(\\vec{r})$ verrichtete Arbeit.\n",
        "\n",
        "* Wirbelfrei sind z. B. das ruhende elektrische Feld in der Elektrostatik und das Gravitationsfeld, aber auch Felder wie das Geschwindigkeitsfeld einer Potentialströmung.\n",
        "\n",
        "> Ist $\\vec{X}(\\vec{r})$ wirbelfrei, dann gilt: $\\operatorname{rot} \\vec{X}(\\vec{r})=\\overrightarrow{0}$\n",
        "d. h. die Rotation des Vektorfeldes ist gleich null. \n",
        "\n",
        "* Ist der Definitionsbereich einfach **zusammenhängend, so gilt auch die Umkehrung**.\n",
        "\n",
        "> Wirbelfreie Vektorfelder lassen sich stets als **Gradient eines zugrundeliegenden skalaren Felds** $\\Phi(\\vec{r})$ formulieren (siehe Gradientenfeld): $\n",
        "\\vec{X}(\\vec{r})=\\operatorname{grad} \\Phi(\\vec{r})=\\vec{\\nabla} \\Phi(\\vec{r})\n",
        "$\n",
        "\n",
        "* Daraus folgt, dass für das skalare Feld $\\Phi$ gilt: \n",
        "$\\operatorname{rot}(\\operatorname{grad} \\Phi(\\vec{r}))=\\overrightarrow{0}$ (**siehe auch unten auch Gradientfeld & Skalarpotenzial**)"
      ]
    },
    {
      "cell_type": "markdown",
      "metadata": {
        "id": "ZLH2-gTPd43O"
      },
      "source": [
        "**Quellenfreie und wirbelfreie Vektorfelder; Zerlegungssatz**\n",
        "\n",
        "Ein mindestens **zweimal stetig differenzierbares Vektorfeld** $\\mathbf{v}(\\mathbf{r})$ im $\\mathbb{R}^{3}$ heißt quellenfrei (beziehungsweise wirbelfrel), wenn seine **Quellendichte (Divergenz) beziehungsweise Wirbeldichte (Rotation) dort überall Null ist**. Unter der weiteren\n",
        "Voraussetzung, dass die Komponenten von $\\mathbf{v}$ im Unendlichen hinreichend rasch verschwinden, gilt der sogenannte Zerlegungssatz: Jedes Vektorfeld $\\mathbf{v}(\\mathbf{r})$ ist\n",
        "eindeutig durch seine Quellen bzw. Wirbel bestimmt, und zwar gilt die folgende\n",
        "Zerlegung in einen wirbelfreien beziehungsweise quellenfreien Anteil:\n",
        "\n",
        "> $\n",
        "\\mathbf{v}(\\mathbf{r}) \\equiv-\\operatorname{grad}_{\\mathbf{r}} \\int_{\\mathbb{R}^{3}} d^{3} \\mathbf{r}^{\\prime} \\frac{\\operatorname{div}^{\\prime} \\mathbf{v}\\left(\\mathbf{r}^{\\prime}\\right)}{4 \\pi\\left|\\mathbf{r}-\\mathbf{r}^{\\prime}\\right|}+\\operatorname{rot}_{\\mathbf{r}} \\int_{\\mathbb{R}^{3}} d^{3} \\mathbf{r}^{\\prime} \\frac{\\operatorname{rot}^{\\prime} \\mathbf{v}\\left(\\mathbf{r}^{\\prime}\\right)}{4 \\pi\\left|\\mathbf{r}-\\mathbf{r}^{\\prime}\\right|}\n",
        "$\n",
        "\n",
        "Dies entspricht der Zerlegung eines statischen elektromagnetischen Feldes in den elektrischen beziehungsweise magnetischen Anteil (siehe Elektrodynamik). Es sind also genau die Gradientenfelder (d. h. die , elektrischen Feldkomponenten\") wirbelfrei bzw. genau die Wirbelfelder (d. h. die ,magnetischen Feldkomponenten\") quellenfrei. Dabei sind grad $\\phi(\\mathbf{r}):=\\nabla \\phi,$ div $\\mathbf{v}:=\\nabla \\cdot \\mathbf{v}$ und rot $\\mathbf{v}:=\\nabla \\times \\mathbf{v}$ die bekannten, mit dem Nabla-Operator $(\\nabla)$ der Vektoranalysis\n",
        "gebildeten Operationen."
      ]
    },
    {
      "cell_type": "markdown",
      "metadata": {
        "id": "2T3n7jhWXtHv"
      },
      "source": [
        "##### **Gradientenfeld**"
      ]
    },
    {
      "cell_type": "markdown",
      "metadata": {
        "id": "i6-0Gw75XzxE"
      },
      "source": [
        "* Ein [Gradientenfeld](https://de.wikipedia.org/wiki/Gradientenfeld) **ist ein Vektorfeld, das aus einem Skalarfeld durch Differentiation nach dem Ort abgeleitet wurde**, bzw. – kürzer formuliert – der Gradient des Skalarfelds (= **ein Skalarfeld, das nach dem Ort abgeleitet wird, ist ein Gradientenfeld**, mit Skalarpotenzial inkl. angegeben).\n",
        "\n",
        "* Zur besseren Abgrenzung zwischen dem Gradienten als mathematischem Operator und dem Resultat seiner Anwendung bezeichnen manche Autoren die Vektoren, aus denen sich Gradientenfelder zusammensetzen, auch als Gradientvektoren, andere dagegen mit Blick auf die Potentiale, aus denen sie sich herleiten, als Potentialvektoren.\n",
        "\n",
        "* Analog verwendet die überwiegende Zahl der Autoren den Begriff Potentialfeld nicht für das skalare Feld des Potentials selbst, sondern das sich aus ihm ableitende Gradientenfeld\n",
        "\n",
        "> Ein Vektorfeld $\\vec{F}: \\vec{r} \\mapsto \\vec{F}(\\vec{r})$ heißt Gradientenfeld, wenn es ein Skalarfeld $\\Phi: \\vec{r} \\mapsto \\Phi(\\vec{r})$ gibt, so dass\n",
        "$\n",
        "\\vec{F}(\\vec{r})=\\vec{\\nabla} \\Phi(\\vec{r})\n",
        "$\n",
        "\n",
        "*  Dabei nennt man $\\Phi$  das zu $F$ gehörige **Skalarpotential** oder einfach kurz das „Potential“ des Gradientenfelds \n",
        "${\\vec {F}}$. (*Der Begriff darf jedoch nicht mit dem physikalischen Begriff des „Potentials“ verwechselt werden, mit dem die Fähigkeit eines konservativen Kraftfelds bezeichnet wird, einen dem Feld ausgesetzten Körper eine Arbeit verrichten zu lassen.*)"
      ]
    },
    {
      "cell_type": "markdown",
      "metadata": {
        "id": "2a1CyVnAX8Xu"
      },
      "source": [
        "**Vektorfelder, die Gradienten eines Skalarfelds sind**, werden in Anlehnung an den Begriff des „konservativen Kraftfelds“ oft auch als **konservative Vektorfelder** bezeichnet - ihnen allen gemeinsam sind dabei die folgenden drei einander äquivalenten Eigenschaften:\n",
        "\n",
        "1. **Wegunabhängigkeit des Kurvenintegrals**: Der Wert des Kurvenintegrals entlang einer beliebigen Kurve $S$ innerhalb des Feldes ist nur von ihrem Anfangs- und Endpunkt abhängig, nicht dagegen von ihrer Länge.\n",
        "\n",
        "2. **Verschwinden des Ringintegrals für beliebige Randkurven** $S$ :\n",
        "$\n",
        "\\oint_{S} \\operatorname{grad} \\Phi(\\vec{r}) \\mathrm{d} \\vec{r}=\\oint_{S} \\vec{F}(\\vec{r}) \\mathrm{d} \\vec{r}=0\n",
        "$\n",
        "\n",
        "3. **Generelle Rotationsfreiheit bzw. Wirbelfreiheit** des Feldes:\n",
        "$\\operatorname{rot}(\\operatorname{grad} \\Phi(\\vec{r}))=\\operatorname{rot} \\vec{F}(\\vec{r})=\\vec{\\nabla} \\times \\vec{F}(\\vec{r})=\\overrightarrow{0}$\n"
      ]
    },
    {
      "cell_type": "markdown",
      "metadata": {
        "id": "YUy8UbeIYqx1"
      },
      "source": [
        "##### **Skalarpotential**"
      ]
    },
    {
      "cell_type": "markdown",
      "metadata": {
        "id": "1NleEXk9Z_pB"
      },
      "source": [
        "Das [Skalarpotential](https://de.wikipedia.org/wiki/Skalarpotential), oft einfach auch nur Potential genannt, ist in der Mathematik ein - im Unterschied zum Vektorpotential - skalares Feld $\\Phi(\\vec{r})$, dessen Gradient gemäß folgender Formel\n",
        "\n",
        "> $\n",
        "\\vec{F}(\\vec{r})=\\operatorname{grad} \\Phi(\\vec{r})=\\vec{\\nabla} \\Phi(\\vec{r})\n",
        "$\n",
        "\n",
        "ein als \"Gradientenfeld\" genanntes Vektorfeld $\\vec{F}(\\vec{r})$ liefert. \n",
        "\n",
        "Kurz: **Die erste Ableitung des Skalarpotentials (= ein Skalarfeld) ergibt das Gradientenfeld (= ein spezielles Vektorfeld).**\n",
        "\n",
        "* Ist $\\vec{F}(\\vec{r})$ ein **konservatives** Kraftfeld, in dem die Kraft $\\vec{F}$ dem Prinzip des kleinsten Zwanges folgend stets der Richtung des maximalen Anstiegs des Potentials $\\Phi$ entgegengerichtet ist, gilt alternativ die Definition\n",
        "$\n",
        "\\vec{F}(\\vec{r})=-\\operatorname{grad} \\Phi(\\vec{r})=-\\vec{\\nabla} \\Phi(\\vec{r})\n",
        "$\n",
        "\n",
        "* Skalarpotentiale bilden u. a. die mathematische Grundlage der Untersuchung konservativer Kraftfelder wie des elektrischen und des Gravitationsfelds, aber auch von wirbelfreien sogenannten Potentialströmungen."
      ]
    },
    {
      "cell_type": "markdown",
      "metadata": {
        "id": "scez_eQlbpPg"
      },
      "source": [
        "**Ein Skalarfeld $\\Phi: \\vec{r} \\mapsto \\Phi(\\vec{r})$ ist genau dann ein Skalarpotential**, wenn es in einem einfach zusammenhängenden Gebiet\n",
        "\n",
        "1. zweimal stetig differenzierbar ist, das heißt keine , Sprünge\", Stufen oder andere\n",
        "Unstetigkeitsstellen enthält;\n",
        "\n",
        "2. zu ihm ein Vektorfeld $\\vec{F}: \\vec{r} \\mapsto \\vec{F}(\\vec{r})$ existiert, so dass gilt:\n",
        "$\\vec{F}(\\vec{r})=\\operatorname{grad} \\Phi(\\vec{r})=\\vec{\\nabla} \\Phi(\\vec{r})$\n",
        "\n",
        "$\\vec{F}$ wird daher oft auch das zugehörige Gradientenfeld genannt, das als Gradient des Skalarpotentials $\\Phi$ seinerseits stets folgende Bedingungen erfüllt:\n",
        "\n",
        "1. **Wegunabhängigkeit des Kurvenintegrals**: Der Wert des Kurvenintegrals entlang einer beliebigen Kurve S innerhalb des Feldes ist nur von ihrem Anfangs- und Endpunkt abhängig, nicht dagegen von ihrer Länge.\n",
        "\n",
        "2. **Verschwinden des geschlossenen Kurvenintegrals für beliebige Randkurven S**:\n",
        "$\\oint_{S} \\operatorname{grad} \\Phi(\\vec{r}) \\mathrm{d} \\vec{r}=\\oint_{S} \\vec{F}(\\vec{r}) \\mathrm{d} \\vec{r}=0$\n",
        "\n",
        "3. **Generelle Rotationsfreiheit bzw. Wirbelfreiheit des Feldes**:\n",
        "$\\operatorname{rot}(\\operatorname{grad} \\Phi(\\vec{r}))=\\operatorname{rot} \\vec{F}(\\vec{r})=\\vec{\\nabla} \\times \\vec{F}(\\vec{r})=\\overrightarrow{0}$"
      ]
    },
    {
      "cell_type": "markdown",
      "metadata": {
        "id": "msznOfm3bCGA"
      },
      "source": [
        "![cc](https://upload.wikimedia.org/wikipedia/commons/d/d9/GravityPotential.jpg)\n",
        "\n",
        "*Das Gravitationspotential einer homogenen Kugel*"
      ]
    },
    {
      "cell_type": "markdown",
      "metadata": {
        "id": "EuqLkrgCPdB1"
      },
      "source": [
        "**(Skalar-) Potential bei Kurvenintegralen in $\\mathbb{R}^{3}$**\n",
        "\n",
        "* Ein [Skalarpotential](https://de.wikipedia.org/wiki/Skalarpotential) ist eine reelle Funktion, die auf einem einfach zusammenhängenden Gebiet zwei mal stetig differenzierbar ist. \n",
        "\n",
        "* **Wenn ein Vektorfeld so ein Potential besitzt, lassen sich viele Rechnungen mit z.B. Kurvenintegralen vereinfachen**. Man kann dieses Potential berechnen.\n",
        "\n",
        "Wenn es eine Funktion F : d -> $\\mathbb{R}$ gibt, mit (Nabla ist der Tangent der Funktion mit den drei Komponenten x,y,z): \n",
        "\n",
        "> $\\vec{\\nabla} F(x, y, z)=\\vec{v}(x, y, z)=\\left(\\begin{array}{l}v_{1}(x, y, z) \\\\ v_{2}(x, y, z) \\\\ v_{3}(x, y, z)\\end{array}\\right)$\n",
        "\n",
        "* Anmerkungen:\n",
        "\n",
        "  * leiten wir Nabla in die x-Richtung ab, bekommt man v1, fur y-Richtung v2 und fur z-Richtung v3\n",
        "\n",
        "  * ist wie die Stammfunktion, bezeichnet man hier aber als Potential\n",
        "\n",
        "> so gilt fur Kurve $\\gamma:[a, b] \\rightarrow R^{3}$,\n",
        "\n",
        "  * Kurvenintegral ist unabhängig vom gewaehlten Weg, man kann verschiedene gehen. Wichtig ist nur von a nach b zu kommen.\n",
        "\n",
        "* Nabla berechnen und es kommt Vektorfeld als Ergebnis heraus. **Solch eine Funktion F heisst Stammfunktion bzw. Potenzial zum Vektorfeld $\\vec{v}$.**\n",
        "\n",
        "* Ein Vektorfeld $\\vec{v}$ das eine solche Stammfunktion hat, nennt man '**konservativ**' (dann kann man so ein Kointegral leicht ausrechnen)."
      ]
    },
    {
      "cell_type": "markdown",
      "metadata": {
        "id": "mrnWapTgOqWX"
      },
      "source": [
        "Wichtiger Satz: Auf einem **einfach zusammenhängenden** Gebiet $G \\subseteq \\mathbb{R}^{3}$ (=keine Löcher, alle Kurven die geschlossen sind kann man immer kleiner zusammenziehen) hat ein stetig differenzierbares Vektorfeld $\\vec{v}$ : G -> ${R}^{3}$ genau dann ein Potential, wenn $\\frac{\\partial v_{j}}{\\partial x_{k}}=\\frac{\\partial v_{k}}{\\partial x_{j}} \\quad$ fur alle $j, k=1,2,3$. \n",
        "\n",
        "In drei Dimension, weil man das oft in Rotationen anwendet / ist aquivalent zu $\\operatorname{rot}(\\vec{v})=0$ (ich muss nur die Rotation ausrechnen, und weiss dann ob das Vektorfeld ein konservatives ist oder nicht, hat also eine Stammfunktion oder nicht)."
      ]
    },
    {
      "cell_type": "markdown",
      "metadata": {
        "id": "lQWLOqidYl8z"
      },
      "source": [
        "https://www.youtube.com/watch?v=KPRvYY9WXGg&list=PLBh2i93oe2quqhn4TZjMnBM2v7lG5QhDD&index=9"
      ]
    },
    {
      "cell_type": "markdown",
      "metadata": {
        "id": "2de7qmNDYkPv"
      },
      "source": [
        "https://www.youtube.com/watch?v=aM4ktp8yO-s"
      ]
    },
    {
      "cell_type": "markdown",
      "metadata": {
        "id": "j2od0Mz9XkRX"
      },
      "source": [
        "https://de.wikipedia.org/wiki/Skalarpotential"
      ]
    },
    {
      "cell_type": "markdown",
      "metadata": {
        "id": "ybqAMWlqJu7y"
      },
      "source": [
        "##### **Vektorpotential**"
      ]
    },
    {
      "cell_type": "markdown",
      "metadata": {
        "id": "K2pH152ScafZ"
      },
      "source": [
        "**Ist ein Vektorfeld $v$ das Gradientenfeld einer Funktion $f,$ das heißt $v=\\nabla f$  (=Skalarfeld ist abgeleitet nach Ort), so bezeichnet man $f$ als Potential**.\n",
        "\n",
        "* Wirbelfelder, die Rotationen eines anderen Vektorfelds sind, sind stets quellenfrei – quellenfreie Vektorfelder können daher umgekehrt immer auch als Rotation eines anderen Vektorfelds interpretiert werden, das man in diesem Fall als „Vektorpotential“ des betreffenden quellenfreien Vektorfelds bezeichnet\n",
        "\n",
        "* Mathematisch ist das Vektorpotential (im Unterschied zum Skalarpotential) ein Vektorfeld $\\mathbf{A}(\\mathbf{r}),$ dessen Rotation ein zweites Vektorfeld $\\mathbf{B}(\\mathbf{r})$ liefert gemäß folgender Formel:\n",
        "\n",
        "> $\n",
        "\\mathbf{B}(\\mathbf{r}) \\stackrel{\\text { def }}{=} \\operatorname{rot} \\mathbf{A}(\\mathbf{r})=\\nabla \\times \\mathbf{A}(\\mathbf{r})\n",
        "$"
      ]
    },
    {
      "cell_type": "markdown",
      "metadata": {
        "id": "qeHrm5Yc8Hur"
      },
      "source": [
        "Vektorpotentiale lassen sich u. a. dazu verwenden, die zur Beschreibung des elektromagnetischen Felds verwendeten Maxwell-Gleichungen zu entkoppeln und dadurch leichter lösbar zu machen.\n",
        "\n",
        "Obwohl es zunächst nur als mathematisches Hilfsmittel eingeführt wurde, kommt ihm in der Quantenmechanik physikalische Realität zu, wie das [Aharonov-Bohm-Experiment](https://de.wikipedia.org/wiki/Aharonov-Bohm-Effekt) zeigte."
      ]
    },
    {
      "cell_type": "markdown",
      "metadata": {
        "id": "63WNYqjy8X76"
      },
      "source": [
        "**Beziehungen zwischen Vektor- und Skalarpotential**: Gemäß dem helmholtzschen Theorem kann (fast) jedes Vektorfeld $\\mathrm{K}(\\mathrm{r})$ \n",
        "\n",
        "* als **Superposition zweier Komponenten $\\mathbf{F}(\\mathbf{r})$ und $\\mathbf{G}(\\mathbf{r})$ aufgefasst werden**, \n",
        "\n",
        "* deren erste der Gradient eines Skalarpotentials $\\Phi(\\mathbf{r})$ ist, die zweite dagegen die Rotation eines Vektorpotentials $\\mathbf{\\Gamma}(\\mathbf{r}):$\n",
        "\n",
        "> $\n",
        "\\mathbf{K}(\\mathbf{r})=\\mathbf{F}(\\mathbf{r})+\\mathbf{G}(\\mathbf{r})=\\operatorname{grad} \\Phi(\\mathbf{r})+\\operatorname{rot} \\mathbf{\\Gamma}(\\mathbf{r})=\\nabla \\Phi(\\mathbf{r})+\\nabla \\times \\mathbf{\\Gamma}(\\mathbf{r})\n",
        "$\n",
        "\n",
        "* Ist $\\mathbf{F}(\\mathbf{r})$ ein konservatives Kraftfeld, in dem die Kraft $\\mathbf{F}$ dem [Prinzip des kleinsten Zwanges](https://de.wikipedia.org/wiki/Prinzip_des_kleinsten_Zwanges) folgend stets der Richtung des maximalen Anstiegs des Potentials $\\Phi$ entgegengerichtet ist, gilt alternativ die Schreibweise\n",
        "\n",
        "> $\n",
        "\\mathbf{K}(\\mathbf{r})=\\mathbf{F}(\\mathbf{r})+\\mathbf{G}(\\mathbf{r})=-\\operatorname{grad} \\Phi(\\mathbf{r})+\\operatorname{rot} \\mathbf{\\Gamma}(\\mathbf{r})=-\\nabla \\Phi(\\mathbf{r})+\\nabla \\times \\mathbf{\\Gamma}(\\mathbf{r})\n",
        "$"
      ]
    },
    {
      "cell_type": "markdown",
      "metadata": {
        "id": "NNahSbyncc2R"
      },
      "source": [
        "https://de.wikipedia.org/wiki/Skalarpotential#Beziehungen_zwischen_Skalar-_und_Vektorpotential"
      ]
    },
    {
      "cell_type": "markdown",
      "metadata": {
        "id": "rh0bxMZQXmXO"
      },
      "source": [
        "https://de.wikipedia.org/wiki/Vektorpotential"
      ]
    },
    {
      "cell_type": "markdown",
      "metadata": {
        "id": "3HEOBISTrpoC"
      },
      "source": [
        "#### **Differentialoperatoren**"
      ]
    },
    {
      "cell_type": "markdown",
      "metadata": {
        "id": "FFKlWj90F3T4"
      },
      "source": [
        "Die drei kovarianten Differentialoperatoren"
      ]
    },
    {
      "cell_type": "markdown",
      "metadata": {
        "id": "L-vCM9-DX-j2"
      },
      "source": [
        "##### **Differentialoperator**"
      ]
    },
    {
      "cell_type": "markdown",
      "metadata": {
        "id": "H0-zFQD_Y17-"
      },
      "source": [
        "Rechenoperationen in der Vektoranalysis"
      ]
    },
    {
      "cell_type": "markdown",
      "metadata": {
        "id": "-gyJV3RVZ5gc"
      },
      "source": [
        "**Folgende drei Rechenoperationen sind in der Vektoranalysis von besonderer Bedeutung**, weil sie Felder produzieren, die sich bei räumlicher Drehung des ursprünglichen Feldes mitdrehen. Operativ formuliert: Bei Gradient, Rotation und Divergenz **spielt es keine Rolle, ob sie vor oder nach einer Drehung angewendet werden**. Diese Eigenschaft folgt aus den **koordinatenunabhängigen** Definitionen. "
      ]
    },
    {
      "cell_type": "markdown",
      "metadata": {
        "id": "XpGcMJaKroS6"
      },
      "source": [
        "**Differential**: Der [**Differentialoperator**](https://de.wikipedia.org/wiki/Differentialoperator) $\\frac{\\mathrm{d}}{\\mathrm{d} x}$ zur Bildung von [Differentialen](https://de.wikipedia.org/wiki/Differential_(Mathematik)) (ist eine Funktion, die einer Funktion eine Funktion zuordnet und die Ableitung nach einer oder mehreren Variablen enthält.).\n",
        "\n",
        "  * [Gradient](https://de.wikipedia.org/wiki/Gradient_(Mathematik)): Gibt die Richtung und Stärke des steilsten Anstiegs eines Skalarfeldes an. Der Gradient eines Skalarfeldes ist ein Vektorfeld. $\\operatorname{grad} \\phi:=\\vec{\\nabla} \\phi=\\left(\\begin{array}{c}\\frac{\\partial \\phi}{\\partial x} \\\\ \\frac{\\partial \\phi}{\\partial y} \\\\ \\frac{\\partial \\phi}{\\partial z}\\end{array}\\right)$\n",
        "\n",
        "  * [Divergenz](https://de.wikipedia.org/wiki/Divergenz_eines_Vektorfeldes): Gibt die Tendenz eines Vektorfeldes an, von Punkten wegzufließen. $\\operatorname{div} \\vec{F}:=\\vec{\\nabla} \\cdot \\vec{F}=\\frac{\\partial F_{x}}{\\partial x}+\\frac{\\partial F_{y}}{\\partial y}+\\frac{\\partial F_{z}}{\\partial z}$\n",
        "\n",
        "  * [Rotation](https://de.wikipedia.org/wiki/Rotation_eines_Vektorfeldes): Gibt die Tendenz eines Vektorfeldes an, um Punkte zu rotieren. $\\operatorname{rot} \\vec{F}:=\\vec{\\nabla} \\times \\vec{F}=\\left(\\begin{array}{c}\\frac{\\partial F_{z}}{\\partial y}-\\frac{\\partial F_{y}}{\\partial z} \\\\ \\frac{\\partial F_{x}}{\\partial z}-\\frac{\\partial F_{z}}{\\partial x} \\\\ \\frac{\\partial F_{y}}{\\partial x}-\\frac{\\partial F_{x}}{\\partial y}\\end{array}\\right)$"
      ]
    },
    {
      "cell_type": "markdown",
      "metadata": {
        "id": "v-XFwoBXDaqt"
      },
      "source": [
        "Interpretiert man das Vektorfeld als Strömungsfeld einer Größe, für die die Kontinuitätsgleichung gilt, dann ist die [Divergenz](https://physik.cosmos-indirekt.de/Physik-Schule/Divergenz_eines_Vektorfeldes) die Quelldichte. Senken haben negative Divergenz. Ist die Divergenz überall gleich null, so bezeichnet man das Feld als quellenfrei."
      ]
    },
    {
      "cell_type": "markdown",
      "metadata": {
        "id": "DSvDHxVmgzEU"
      },
      "source": [
        "Der [**Laplace-Operator**](https://de.wikipedia.org/wiki/Laplace-Operator) ist ein linearer Differentialoperator innerhalb der [mehrdimensionalen Analysis](https://de.wikipedia.org/wiki/Analysis#Mehrdimensionale_reelle_Analysis) ($\\Delta \\colon D(\\Delta )\\to L^{2}(\\mathbb{R} ^{n})$ und ein unbeschränkter Operator). Der Laplace-Operator kommt in vielen Differentialgleichungen vor, die das Verhalten physikalischer Felder beschreiben. Beispiele sind die Poisson-Gleichung der Elektrostatik, die **Navier-Stokes-Gleichungen** für Strömungen von Flüssigkeiten oder Gasen und die Diffusionsgleichung für die Wärmeleitung.\n",
        "\n",
        "Der Laplace-Operator ordnet einem zweimal differenzierbaren Skalarfeld $f$ **die Divergenz seines Gradienten zu**,\n",
        "\n",
        ">$\n",
        "\\Delta f=\\operatorname{div}(\\operatorname{grad} f)\n",
        "$\n",
        "\n",
        "oder mit dem Nabla-Operator notiert\n",
        "\n",
        ">$\n",
        "\\Delta f=\\nabla \\cdot(\\nabla f)=(\\nabla \\cdot \\nabla) f=\\nabla^{2} f\n",
        "$"
      ]
    },
    {
      "cell_type": "markdown",
      "metadata": {
        "id": "EvwBG9AzZb-C"
      },
      "source": [
        "[**Kovariant**](https://de.wikipedia.org/wiki/Kovarianz_(Physik)) nennt man ein Transformationsverhalten, bei dem sich die Basisvektoren und die darin dargestellten Vektoren (Größen) in gleicher Weise transformieren. **Kontravariant** nennt man ein Transformationsverhalten, wenn sich die Basisvektoren und die darin dargestellten Vektoren (Größen) in unterschiedlicher Weise transformieren.\n",
        "\n",
        "Das kovariante Transformationsverhalten garantiert die Formerhaltung von Gleichungen beim Wechsel des Bezugsystems (Koordinatensystems) bzw. bei Gruppentransformationen. Diese Aussagen gelten auch für die tensorielle Schreibweise.\n",
        "\n",
        "Zum Beispiel: Unter Galilei-Transformationen transformieren sich die Beschleunigung und die Kraft in den newtonschen Bewegungsgleichungen im gleichen Sinne wie die Ortsvektoren. Daher sind die Newtonschen Bewegungsgleichungen und damit die klassische Mechanik kovariant bzgl. der Gruppe der Galilei-Transformationen."
      ]
    },
    {
      "cell_type": "markdown",
      "metadata": {
        "id": "u0Zw_t0Ptro-"
      },
      "source": [
        "##### **Nabla-Operator**"
      ]
    },
    {
      "cell_type": "markdown",
      "metadata": {
        "id": "LHqNsnOYsVdm"
      },
      "source": [
        "**Koordinatenunabhängige Definition mit dem Nabla-Operator**\n",
        "\n",
        "* Der [Nabla-Operator](https://de.wikipedia.org/wiki/Nabla-Operator) ist ein Symbol, das in der Vektor- und Tensoranalysis benutzt wird, um kontextabhängig einen der drei Differentialoperatoren Gradient, Divergenz oder Rotation zu notieren.\n",
        "\n",
        "* [**Nabla Operator**](https://de.wikipedia.org/wiki/Nabla-Operator) $\\nabla$ zur Bestimmung des Gradienten einer mehrdimensionalen Funktion. Mit einem der drei **Differentialoperatoren**.\n",
        "\n",
        "* Der Nabla-Operator ist auch in anderen Koordinatensystemen definiert und so kann mit ihm zum Beispiel die Rotation [koordinatenunabhängig](https://de.wikipedia.org/wiki/Rotation_eines_Vektorfeldes#Koordinatenunabhängige_Definition_mit_dem_Nabla-Operator) durch \n",
        "\n",
        "> $\\operatorname{rot} \\vec{F}:=\\nabla \\times \\vec{F}$\n",
        "\n",
        "definiert werden. Mit dem Nabla-Operator können auch der Gradient- sowie die Divergenz eines Vektorfeldes dargestellt und Produktregeln hergeleitet werden.\n",
        "\n",
        "Formal ist der Nabla-Operator ein Vektor, dessen Komponenten die partiellen\n",
        "Ableitungsoperatoren $\\frac{\\partial}{\\partial x_{i}}$ sind:\n",
        "\n",
        "> $\n",
        "\\vec{\\nabla}=\\left(\\frac{\\partial}{\\partial x_{1}}, \\ldots, \\frac{\\partial}{\\partial x_{n}}\\right)\n",
        "$"
      ]
    },
    {
      "cell_type": "markdown",
      "metadata": {
        "id": "b2zTmFCuVE-u"
      },
      "source": [
        "##### **Rotation**"
      ]
    },
    {
      "cell_type": "markdown",
      "metadata": {
        "id": "dP_Y-_K6qxVV"
      },
      "source": [
        "* Als [Rotation oder Rotor](https://de.wikipedia.org/wiki/Rotation_eines_Vektorfeldes) bezeichnet man in der Vektoranalysis, einem Teilgebiet der Mathematik, einen bestimmten Differentialoperator, der einem Vektorfeld im dreidimensionalen euklidischen Raum mit Hilfe der Differentiation ein neues Vektorfeld zuordnet.\n",
        "\n",
        "* Die Rotation eines [Strömungsfeldes](https://de.wikipedia.org/wiki/Strömungsfeld) gibt für jeden Ort das Doppelte der Winkelgeschwindigkeit an, mit der sich ein mitschwimmender Körper dreht („rotiert“). Dieser Zusammenhang ist namensgebend.\n",
        "\n",
        "* Es muss sich aber nicht immer um ein Geschwindigkeitsfeld und eine Drehbewegung handeln; beispielsweise betrifft das Induktionsgesetz die Rotation des elektrischen Feldes.\n",
        "\n",
        "* [Rotation](https://de.wikipedia.org/wiki/Rotation_eines_Vektorfeldes): Gibt die Tendenz eines Vektorfeldes an, um Punkte zu rotieren. $\\operatorname{rot} \\vec{F}:=\\vec{\\nabla} \\times \\vec{F}=\\left(\\begin{array}{c}\\frac{\\partial F_{z}}{\\partial y}-\\frac{\\partial F_{y}}{\\partial z} \\\\ \\frac{\\partial F_{x}}{\\partial z}-\\frac{\\partial F_{z}}{\\partial x} \\\\ \\frac{\\partial F_{y}}{\\partial x}-\\frac{\\partial F_{x}}{\\partial y}\\end{array}\\right)$\n",
        "\n",
        "* Siehe auch [Koordinatentransformation](https://de.wikipedia.org/wiki/Koordinatentransformation#Drehung_(Rotation)) sowie [Drehmatrix](https://de.wikipedia.org/wiki/Drehmatrix)"
      ]
    },
    {
      "cell_type": "markdown",
      "metadata": {
        "id": "x9e3prN3rXj-"
      },
      "source": [
        "##### **Divergenz**"
      ]
    },
    {
      "cell_type": "markdown",
      "metadata": {
        "id": "GRwBaz9bh-qg"
      },
      "source": [
        "* Die [Divergenz eines Vektorfeldes](https://de.wikipedia.org/wiki/Divergenz_eines_Vektorfeldes) ist ein Skalarfeld, das an jedem Punkt angibt, wie sehr die Vektoren in einer kleinen Umgebung des Punktes auseinanderstreben (lateinisch divergere). \n",
        "\n",
        "* Interpretiert man das Vektorfeld als Strömungsfeld einer Größe, für die die Kontinuitätsgleichung gilt, dann ist die Divergenz die Quelldichte. Senken haben negative Divergenz. Ist die Divergenz überall gleich null, so bezeichnet man das Feld als quellenfrei.\n",
        "\n",
        "* Man betrachtet zum Beispiel eine ruhige Wasseroberfläche, auf die ein dünner Strahl Öl trifft. Die Bewegung des Öls auf der Oberfläche kann durch ein zweidimensionales (zeitabhängiges) Vektorfeld beschrieben werden: An jedem Punkt ist zu jedem beliebigen Zeitpunkt die Fließgeschwindigkeit des Öls in Form eines Vektors gegeben. Die Stelle, an der der Strahl auf die Wasseroberfläche trifft, ist eine „Ölquelle“, da von dort Öl wegfließt, ohne dass es einen Zufluss auf der Oberfläche geben würde. Die Divergenz an dieser Stelle ist positiv. Im Gegensatz dazu bezeichnet man eine Stelle, an der das Öl beispielsweise am Rand aus dem Wasserbecken abfließt, als Senke. Die Divergenz an dieser Stelle ist negativ.\n"
      ]
    },
    {
      "cell_type": "markdown",
      "metadata": {
        "id": "UGSV9UrCvfQh"
      },
      "source": [
        "##### **Gradient**"
      ]
    },
    {
      "cell_type": "markdown",
      "metadata": {
        "id": "O844e1Y6yuPP"
      },
      "source": [
        "* Der Gradient als Operator verallgemeinert die bekannten Gradienten, die den Verlauf von physikalischen Größen beschreiben. \n",
        "\n",
        "* **Als Differentialoperator kann er beispielsweise auf ein Skalarfeld angewandt werden und wird in diesem Fall ein Vektorfeld liefern, das Gradientenfeld genannt wird.**\n",
        "\n",
        "* Der Gradient ist eine Verallgemeinerung der Ableitung in der mehrdimensionalen Analysis. Zur besseren Abgrenzung zwischen Operator und Resultat seiner Anwendung bezeichnet man solche Gradienten skalarer Feldgrößen in manchen Quellen auch als Gradientvektoren."
      ]
    },
    {
      "cell_type": "markdown",
      "metadata": {
        "id": "ExMsKuyqyziD"
      },
      "source": [
        "**Gradientenfeld**\n",
        "\n",
        "Ein [Gradientenfeld](https://de.wikipedia.org/wiki/Gradientenfeld) **ist ein Vektorfeld**, das aus einem Skalarfeld durch Differentiation nach dem Ort abgeleitet wurde, bzw. – kürzer formuliert – der Gradient des Skalarfelds."
      ]
    },
    {
      "cell_type": "markdown",
      "metadata": {
        "id": "fzwtAAJ2vik-"
      },
      "source": [
        "https://de.wikipedia.org/wiki/Gradient_(Mathematik)"
      ]
    },
    {
      "cell_type": "markdown",
      "metadata": {
        "id": "-4njkcQPvoYD"
      },
      "source": [
        "https://de.wikipedia.org/wiki/Gradient"
      ]
    },
    {
      "cell_type": "markdown",
      "metadata": {
        "id": "R68NS5iUvjnn"
      },
      "source": [
        "https://de.wikipedia.org/wiki/Partielle_Ableitung"
      ]
    },
    {
      "cell_type": "markdown",
      "metadata": {
        "id": "ArSX-a3HWv_P"
      },
      "source": [
        "#### **Mehrdimensionale Integration**"
      ]
    },
    {
      "cell_type": "markdown",
      "metadata": {
        "id": "PUq40bq5F6GH"
      },
      "source": [
        "Mehrdimensionale Integration im Skalar- & Vektorfeld\n",
        "\n",
        "* zB zur Berechnung der Laenge einer Kurve (zB an einer Spirale), die Oberflache eines Volumens, der Masse eines Koerpers"
      ]
    },
    {
      "cell_type": "markdown",
      "metadata": {
        "id": "uimHevy5O9az"
      },
      "source": [
        "https://www.youtube.com/watch?v=H1Pj4SMVZ8s"
      ]
    },
    {
      "cell_type": "markdown",
      "metadata": {
        "id": "dolnoE19IyYG"
      },
      "source": [
        "##### **Kurvenintegral**"
      ]
    },
    {
      "cell_type": "markdown",
      "metadata": {
        "id": "ILqKxv9BF4QY"
      },
      "source": [
        "https://www.youtube.com/watch?v=d_UX4_0KIGY"
      ]
    },
    {
      "cell_type": "markdown",
      "metadata": {
        "id": "HxEoDCIYLOem"
      },
      "source": [
        "* z.B. zur Berechnung des Umfangs eines Objekts. welche Kraft ist noetig, um durch ein Vektorfeld auf einer Kurve entlang zu gehen?\n",
        "\n",
        "* Das [Kurven-, Linien-, Weg- oder Konturintegral](https://de.wikipedia.org/wiki/Kurvenintegral) erweitert den gewöhnlichen Integralbegriff für die Integration \n",
        "\n",
        "  * in der komplexen Ebene (Funktionentheorie) oder \n",
        "  \n",
        "  * im mehrdimensionalen Raum (Vektoranalysis).\n",
        "\n",
        "* Den Weg, die Linie oder die Kurve, über die integriert wird, nennt man den Integrationsweg.\n",
        "\n",
        "* Wegintegrale über geschlossene Kurven werden auch als Ringintegral, Umlaufintegral oder Zirkulation bezeichnet und mit dem Symbol \n",
        "∮ bzw. $\\textstyle \\oint$  geschrieben."
      ]
    },
    {
      "cell_type": "markdown",
      "metadata": {
        "id": "w3Oybmkc-zAl"
      },
      "source": [
        "Auch Linienintegral. Berechne z.B. den kurzesten Weg zwischen zwei Punkten unter Berucksichtigung der Geschwindigkeit (eine gerade Linie ist nicht immer der kurzeste Weg oder ein moglicher Weg)."
      ]
    },
    {
      "cell_type": "markdown",
      "metadata": {
        "id": "u_jWgM7A9OMt"
      },
      "source": [
        "![ff](https://upload.wikimedia.org/wikipedia/commons/4/42/Line_integral_of_scalar_field.gif)\n",
        "\n",
        "*The line integral over a scalar field f can be thought of as the area under the curve C along a surface z = f(x,y), described by the field*"
      ]
    },
    {
      "cell_type": "markdown",
      "metadata": {
        "id": "j2b6mZKu-Pe1"
      },
      "source": [
        "![xx](https://raw.githubusercontent.com/deltorobarba/repo/master/kurvenintegral_01.png)"
      ]
    },
    {
      "cell_type": "markdown",
      "metadata": {
        "id": "7pyf0MPG-VkL"
      },
      "source": [
        "![xx](https://raw.githubusercontent.com/deltorobarba/repo/master/kurvenintegral_02.png)"
      ]
    },
    {
      "cell_type": "markdown",
      "metadata": {
        "id": "hNdoF6CN-ucN"
      },
      "source": [
        "![xx](https://raw.githubusercontent.com/deltorobarba/repo/master/kurvenintegral_03.png)"
      ]
    },
    {
      "cell_type": "markdown",
      "metadata": {
        "id": "GNcecwnJ-vac"
      },
      "source": [
        "![xx](https://raw.githubusercontent.com/deltorobarba/repo/master/kurvenintegral_04.png)"
      ]
    },
    {
      "cell_type": "markdown",
      "metadata": {
        "id": "2F0Cp7AP-wRr"
      },
      "source": [
        "![xx](https://raw.githubusercontent.com/deltorobarba/repo/master/kurvenintegral_05.png)"
      ]
    },
    {
      "cell_type": "markdown",
      "metadata": {
        "id": "1_lY1plvJOZ-"
      },
      "source": [
        "##### **Kurvenintegral 1. Art (über Skalarfelder, nicht-orientiert)**"
      ]
    },
    {
      "cell_type": "markdown",
      "metadata": {
        "id": "j2Y7uIIJGQcJ"
      },
      "source": [
        "* zB zur Berechnung der Masse eines Drahtes [entlang einer Helix](https://www.youtube.com/watch?v=8XcqTg1NPKg) mit einer gegebenen Dichte"
      ]
    },
    {
      "cell_type": "markdown",
      "metadata": {
        "id": "NHbjxfJVJMrP"
      },
      "source": [
        "Wegintegral erster Art ist das **Wegintegral einer stetigen Funktion**, $\n",
        "f: \\mathbb{R}^{n} \\rightarrow \\mathbb{R}\n",
        "$ entlang eines stückweise stetig differenzierbaren Weges $\n",
        "\\gamma:[a, b] \\rightarrow \\mathbb{R}^{n}\n",
        "$ ist definiert als\n",
        "\n",
        "> $\\int_{\\mathcal{C}} f \\mathrm{~d} s:=\\int_{a}^{b} f(\\gamma(t))\\|\\dot{\\gamma}(t)\\|_{2} \\mathrm{~d} t$\n",
        "\n",
        "Für eine stetige Funktion $f: \\mathbb{R}^{n} \\rightarrow \\mathbb{R}$ und einem regulären Weg $\\gamma:[a, b] \\rightarrow \\mathbb{R}^{n}$ definiert man das Kurvenintegral von $f$ längs $\\gamma$ durch: $\\int_{\\gamma} f d s:=\\int_{a}^{b} f(\\gamma(t))\\|\\dot{\\gamma}(t)\\| d t$\n",
        "\n",
        "  * $ds$ sowie $ \\|\\dot{\\gamma}(t)\\| d t$ sind das '**Linienelement**'\n",
        "\n",
        "  * $ \\|\\dot{\\gamma}(t)\\|$ ist die Norm von der Ableitung, die man berucksichtigen muss beim Integrieren wie schnell man durch die Kurve lauft (Gewichtungsfaktor)"
      ]
    },
    {
      "cell_type": "markdown",
      "metadata": {
        "id": "5HvuqF-aJDBO"
      },
      "source": [
        "##### **Kurvenintegral 2. Art (über Vektorfelder, orientiert)**"
      ]
    },
    {
      "cell_type": "markdown",
      "metadata": {
        "id": "SZ5fqgZGGky6"
      },
      "source": [
        "* nicht mehr skalare, sondern vektorielle Funktion integrieren (Vektorfeld)\n",
        "\n",
        "* ps: jedes Kurvenintegral zweiter Art ist auch ein Kurvenintegral erster Art\n",
        "\n",
        "* z.B. um eine Arbeit, Zirkulation oder elektrische Spannung [zu berechnen](https://www.youtube.com/watch?v=HmgkyI_Q0Oo)\n",
        "\n",
        "* nennt man daher auch \"Arbeitsintegral\", wenn man sich zB ein Kraftfeld v vorstellt. Oder Zirkulation mit Integral entlang des Weges berechnen, wenn v ein Geschwindigkeitsfeld ist. Oder elektrische Spannung, wenn es ein elektrisches Feld ist.\n",
        "\n",
        "* Zunächst fragen: hat v ein Skalarpotential? Ist die betrachtete Menge einfach zusammenhängend und ist zB die Rotation des Vektorfeldes gleich der Nullvektor? Berechnung des Skalarpotentials: mit der Ansatzmethode oder mit der Kurvenintegralmethode\n",
        "\n",
        "* Danach fragen, ob der Weg geschlossen oder offen ist? (geschlossen: Anfangspunkt = Endpunkt, wie bei Kreis oder Dreieck). Ist er geschlossen, ist der Wert des Kurvenintegrals gleich Null. (**Remember**: Als [wirbelfrei bzw. konservativ](https://de.wikipedia.org/wiki/Wirbelfreies_Vektorfeld) wird in der Physik und Potentialtheorie ein Vektorfeld $\\vec{X}(\\vec{r})$ bezeichnet, in dem das **Kurvenintegral** $\n",
        "\\oint_{S} \\vec{X}(\\vec{r}) \\cdot \\mathrm{d} \\vec{s}=0$ für beliebige in sich geschlossene Randkurven $S$ stets den Wert null liefert.)"
      ]
    },
    {
      "cell_type": "markdown",
      "metadata": {
        "id": "PLe3mhoqDP36"
      },
      "source": [
        "Das Wegintegral zweiter Art ist das **Wegintegral über ein stetiges Vektorfeld** $\\mathbf{f}: \\mathbb{R}^{n} \\rightarrow \\mathbb{R}^{n}$ mit einer ebenfalls so parametrisierten Kurve ist definiert als das Integral über das Skalarprodukt aus $\\mathrm{f} \\circ \\gamma$ und $\\dot{\\gamma}$ :\n",
        "\n",
        "> $\\int_{\\mathcal{C}} \\mathbf{f}(\\mathbf{x}) \\cdot \\mathrm{d} \\mathbf{x}:=\\int_{a}^{b} \\mathbf{f}(\\gamma(t)) \\cdot \\dot{\\gamma}(t) \\mathrm{d} t$\n",
        "\n",
        "* Ist ein **Kurvenintegral 2. Art (weil man Vektorfelder integriert)** und ist orientiert (es ist wichtig, wie man den Weg durchlauft wegen den Vektoren!)\n",
        "\n",
        "* Für ein stetiges Vektorfeld $\\mathbf{v}: D \\rightarrow \\mathbb{R}^{3}$ mit $D \\subset \\mathbb{R}^{3}$ und einen regulären Weg $\\gamma:[a, b] \\rightarrow \\mathbb{R}^{3}$ definiert man das Kurvenintegral von v längs $\\gamma$ durch:\n",
        "\n",
        "> $\\int_{\\gamma} v \\cdot d \\vec{s}$ $:=\\int_{a}^{b} v(\\gamma(t)) \\cdot \\dot{\\gamma}(t) d t$\n",
        "\n",
        "$v$ ist die Kraft\n",
        "\n",
        "$d \\vec{s}$ ist der Weg\n",
        "\n",
        "Kraft * Weg = Arbeit, aber Weg ist nicht geradlinig, sondern eine verschnoerkelte Kurve. Man nimmt unendlich kleine Wegelemente und berechnet die Arbeit, und summieren die Teile auf (Integral).\n",
        "\n",
        "* Anmerkungen:\n",
        "\n",
        "  * der dicke Punkt steht fur das Skalarprodukt. \n",
        "\n",
        "  * $\\dot{\\gamma}(t) d t$ - keine Norm der Ableitung der Kurve notig (dieser Tangentialvektor ist nicht normiert), wie bei Kurvenintegralen uber Funktionen\n",
        "\n",
        "  * $ d \\vec{s}$ ist ein **vektorielles Linienelement**\n",
        "\n",
        "* **Komponente des Vektorfeldes in Richtung des Weges - Das ist, was man berücksichtigen will im Integral: Wie viel von dem Vektorfeld ist in Wegrichtung? Und nur das macht einen Einfluss in das Integral.**\n",
        "\n",
        "* Beim Durchlaufen des Weges werden wir entweder mit dem Vektorfeld (in Richtung des Vektorfeldes) getrieben, oder es haelt uns zurück. = die Energie, die wir brauchen, um den Weg zu durchlaufen (wenn das Vektorfeld uns hilft oder daran hindert, wie eine Strömung).\n",
        "\n",
        "* **Die Komponente in Richtung des Weges ist wichtig, und die Komponente bekommt man durch das Skalarprodukt.** (siehe Bild unten)"
      ]
    },
    {
      "cell_type": "markdown",
      "metadata": {
        "id": "n-v9nefMJY9-"
      },
      "source": [
        "![vv](https://raw.githubusercontent.com/deltorobarba/repo/master/kurvenintegral_vektorfeld.png)"
      ]
    },
    {
      "cell_type": "markdown",
      "metadata": {
        "id": "VQdL1yhzPGzI"
      },
      "source": [
        "##### **Oberflächenintegral**"
      ]
    },
    {
      "cell_type": "markdown",
      "metadata": {
        "id": "XChIebVaPLd6"
      },
      "source": [
        "* z.B. zur Berechnung der Oberfläche eines Balls\n",
        "\n",
        "* Durch Parametrisierung wird z.B. die Kruemmung einer Ebene in $R^3$ beruecksichtigt. Man berechnet naemlich die Flaeche, in dem man von $R^3$ auf $R^2$ projiziert und dann das Integral berechnet (das geht, weil Flaeche in $R^3$ ist offen, stetig differenzierbar und bijektiv)\n",
        "\n",
        "* Das Oberflächenintegral oder Flächenintegral ist eine Verallgemeinerung des Integralbegriffes auf ebenen oder gekrümmten Flächen. Das Integrationsgebiet $\\mathcal{F}$ ist also nicht ein eindimensionales Intervall, sondern eine zweidimensionale Menge im dreidimensionalen Raum $\\mathbb{R}^{3}$. Für eine allgemeinere Darstellung im $\\mathbb{R}^{n}$ mit $n \\geq 2$ siehe: Integration auf Mannigfaltigkeiten.\n",
        "\n",
        "Es wird generell zwischen einem skalaren und einem vektoriellen Oberflächenintegral unterschieden, je nach Form des Integranden und\n",
        "des sogenannten Oberflächenelements. Sie lauten\n",
        "\n",
        "> $\\iint_{\\mathcal{F}} f \\mathrm{~d} \\sigma$ mit skalarer Funktion $f$ und skalarem Oberflächenelement $\\mathrm{d} \\sigma$ sowie \n",
        "\n",
        "> $\\iint_{\\mathcal{F}} \\vec{v} \\cdot \\mathrm{d} \\vec{\\sigma}$ mit vektorwertiger Funktion $\\vec{v}$ und vektoriellem Oberflächenelement $\\mathrm{d} \\vec{\\sigma}$."
      ]
    },
    {
      "cell_type": "markdown",
      "metadata": {
        "id": "IcvZH7qLBOzs"
      },
      "source": [
        "Allgemein lässt sich eine Fläche im $\\mathbb{R}^{3}$ mit zwei Parametern $u$ und $v$ in\n",
        "folgender Form darstellen:\n",
        "\n",
        "> $\n",
        "\\varphi: B \\rightarrow \\mathbb{R}^{3}, \\quad(u, v) \\mapsto \\vec{\\varphi}(u, v)=\\left(\\begin{array}{l}\n",
        "x(u, v) \\\\\n",
        "y(u, v) \\\\\n",
        "z(u, v)\n",
        "\\end{array}\\right)\n",
        "$\n",
        "\n",
        "Auf der Fläche $\\vec{\\varphi}(u, v)$ bilden die Kurvenscharen $u=$ const bzw. $v=$ const die Koordinatenlinien. Diese überziehen die Fläche mit einem Koordinatennetz.\n",
        "wobei durch jeden Punkt zwei Koordinatenlinien verlaufen. Somit hat ieder Punkt auf der Fläche eindeutige Koordinaten $\\left(u_{0}, v_{0}\\right)$."
      ]
    },
    {
      "cell_type": "markdown",
      "metadata": {
        "id": "e45jm0deB13y"
      },
      "source": [
        "Mit den Parametrisierungen und den Oberflächenelementen kann man nun die Oberflächenintegrale definieren. Diese mehrdimensionalen Integrale sind Lebesgue-Integrale, können aber in den meisten Anwendungsfällen als mehrfache Riemann-Integrale berechnet werden."
      ]
    },
    {
      "cell_type": "markdown",
      "metadata": {
        "id": "6yO9AukUtSzo"
      },
      "source": [
        "https://de.wikipedia.org/wiki/Oberflächenintegral"
      ]
    },
    {
      "cell_type": "markdown",
      "metadata": {
        "id": "SHwK1ZsvrPIY"
      },
      "source": [
        "##### **Volumenintegrale**"
      ]
    },
    {
      "cell_type": "markdown",
      "metadata": {
        "id": "llLY5ZbxPR5j"
      },
      "source": [
        "* z.B. zur Berechnung des Volumeninhaltes eines Objektes\n",
        "\n",
        "* Das [Volumenintegral](https://de.wikipedia.org/wiki/Volumenintegral) erweitert das Oberflächenintegral auf die Integration über ein beliebiges dreidimensionales Integrationsgebiet, wobei eine Funktion dreimal hintereinander integriert wird, jeweils über eine Richtung eines dreidimensionalen Raumes. \n",
        "\n",
        "* **Dabei muss es sich jedoch nicht notwendigerweise um ein Volumen eines geometrischen Körpers handeln**. \n",
        "\n",
        "* Zur vereinfachten Darstellung wird oft nur ein einziges Integralzeichen geschrieben und die Volumenintegration lediglich durch das Volumenelement $\\mathrm {d} V$ angedeutet:\n",
        "\n",
        "> $\\iiint_{V} f(r) d^{3} r=\\int_{V} f(\\vec{x}) \\mathrm{d} V$\n",
        "\n",
        "* wobei die zu integrierende Funktion zumindest von drei Variablen ${\\vec {x}}=(x,y,z)$ für eine (kartesische) Beschreibung im dreidimensionalen Raum $\\mathbb{R^3}$ abhängt, **es sind aber auch höherdimensionale Räume möglich**.\n",
        "\n",
        "* Es handelt sich um ein **skalares Volumenintegral**, wenn der Integrand $f$ und das Volumenelement $\\mathrm{d} V$ skalar sind. Bei einem **vektoriellen Integranden**, z. B. einem Vektorfeld $\\vec{f}$, ist auch das Volumenelement $\\mathrm{d} \\vec{V}$ ein Vektor, sodass sich ein vektorielles Volumenintegral ergibt.\n",
        "\n",
        "* Um ein Volumenintegral zu berechnen, ist meist eine Parametrisierung des Integrationsgebiets nötig."
      ]
    },
    {
      "cell_type": "markdown",
      "metadata": {
        "id": "zLvbjOH0rbDs"
      },
      "source": [
        "##### **Koordinatentransformationen und Funktionaldeterminante**"
      ]
    },
    {
      "cell_type": "markdown",
      "metadata": {
        "id": "ujcsbmyfEJDt"
      },
      "source": [
        "**Koordinatentransformation**\n",
        "\n",
        "* Fur die Berechnung des Flächen- oder Volumenintegrals eine geeignete Substitutionsfunktion zu finden ist nicht trivial. Sie transformiert das Volumenintegral oft von einem Koordinatensystem in ein anderes, um die Berechnung zu vereinfachen oder überhaupt zu ermöglichen. \n",
        "\n",
        "* Bei der Integration über geometrische Objekte ist es sogar oft unpraktisch, über kartesische Koordinaten zu integrieren. So lässt sich in der Physik das Integral über ein radialsymmetrisches Potentialfeld, dessen Wert nur von einem Radius r abhängt, wesentlich leichter in Kugelkoordinaten berechnen. Um dies zu tun, wendet man eine Koordinatentransformation $\\Phi$  an.\n",
        "\n",
        "* Um dies zu tun, wendet man eine Koordinatentransformation $\\Phi$ an. Nach dem [Transformationssatz](https://de.wikipedia.org/wiki/Transformationssatz) gilt dann in diesem Beispiel:\n",
        "\n",
        "> $\n",
        "\\int_{\\Omega} U(\\vec{r}) d V=\\int_{\\Phi^{-1}(\\Omega)} U(\\Phi(r, \\theta, \\varphi)) \\cdot|\\operatorname{det} D \\Phi(r, \\theta, \\varphi)| \\mathrm{d} r \\mathrm{~d} \\theta \\mathrm{d} \\varphi\n",
        "$\n",
        "\n",
        "* Der vektorielle Faktor ist das [Spatprodukt](https://de.wikipedia.org/wiki/Spatprodukt) aller partiellen Ableitungen von $\\vec{\\xi}(u, v, w)$\n",
        "\n",
        "> $\n",
        "\\vec{N}=\\left(\\frac{\\partial \\vec{\\xi}}{\\partial u} \\times \\frac{\\partial \\vec{\\xi}}{\\partial v}\\right) \\cdot \\frac{\\partial \\vec{\\xi}}{\\partial w}\n",
        "$\n",
        "\n",
        "Generell lassen sich Spatprodukte auch als Determinanten schreiben, so gilt hier:\n",
        "\n",
        "> $\n",
        "\\vec{N}=\\left(\\frac{\\partial \\vec{\\xi}}{\\partial u} \\times \\frac{\\partial \\vec{\\xi}}{\\partial v}\\right) \\cdot \\frac{\\partial \\vec{\\xi}}{\\partial w}=\\operatorname{det}\\left(\\frac{\\partial \\vec{\\xi}}{\\partial u} \\frac{\\partial \\vec{\\xi}}{\\partial v} \\frac{\\partial \\vec{\\xi}}{\\partial w}\\right)=\\operatorname{det}\\left(J_{\\vec{\\xi}}\\right)\n",
        "$\n",
        "\n",
        "Die aneinandergereihten partiellen Gradienten $(\\vec{\\xi}$ ist eine vektorwertige Funktion)\n",
        "formen gerade die Elemente der $3 \\times 3$ Jacobi-Matrix. Die zugehörige Jacobi-Determinante, auch als [**Funktionaldeterminante**](https://de.wikipedia.org/wiki/Funktionaldeterminante) bezeichnet, berechnet genau den\n",
        "zusätzlichen Faktor für eine Koordinatentransformation.\n",
        "\n",
        "Ist das Volumenelement skalar, reduziert sich der Faktor auf dessen euklidische Norm $\\|\\vec{N}\\| .$ Nachdem das Volumenintegral parametrisiert ist, kann mit Hilfe des [Satzes von Fubini](https://de.wikipedia.org/wiki/Satz_von_Fubini) das Integral Schritt für Schritt berechnet werden."
      ]
    },
    {
      "cell_type": "markdown",
      "metadata": {
        "id": "HCrJh93jH1D-"
      },
      "source": [
        "**Transformationssatz**\n",
        "\n",
        "* Der [Transformationssatz](https://de.wikipedia.org/wiki/Transformationssatz) (auch Transformationsformel) beschreibt in der Analysis das Verhalten von Integralen unter Koordinatentransformationen. Er ist somit die Verallgemeinerung der Integration durch Substitution auf Funktionen höherer Dimensionen. \n",
        "\n",
        "* Der Transformationssatz wird als Hilfsmittel bei der Berechnung von Integralen verwendet, wenn sich das Integral nach Überführung in ein anderes Koordinatensystem leichter berechnen lässt.\n",
        "\n",
        "* Es sei $\\Omega \\subseteq \\mathbb{R}^{d}$ eine offene Menge und $\\Phi: \\Omega \\rightarrow \\Phi(\\Omega) \\subseteq \\mathbb{R}^{d}$ ein [Diffeomorphismus](https://de.wikipedia.org/wiki/Diffeomorphismus) (=eine bijektive, stetig differenzierbare Abbildung, deren Umkehrabbildung auch stetig differenzierbar ist). Dann ist die Funktion $f$ auf $\\Phi(\\Omega)$ genau dann integrierbar, wenn die Funktion $x \\mapsto f(\\Phi(x)) \\cdot|\\operatorname{det}(D \\Phi(x))|$ auf $\\Omega$ integrierbar ist. In diesem Fall gilt:\n",
        "\n",
        "> $\n",
        "\\int_{\\Phi(\\Omega)} f(y) \\mathrm{d} y=\\int_{\\Omega} f(\\Phi(x)) \\cdot|\\operatorname{det}(D \\Phi(x))| \\mathrm{d} x\n",
        "$\n",
        "\n",
        "* Dabei ist $D \\Phi(x)$ die Jacobi-Matrix und $\\operatorname{det}(D \\Phi(x))$ die Funktionaldeterminante von $\\Phi$."
      ]
    },
    {
      "cell_type": "markdown",
      "metadata": {
        "id": "fUDAAXziE4Pj"
      },
      "source": [
        "**Funktionaldeterminante**\n",
        "\n",
        "* Die [Funktionaldeterminante oder Jacobi-Determinante](https://de.wikipedia.org/wiki/Funktionaldeterminante) ist eine mathematische Größe, die in der mehrdimensionalen Integralrechnung, also der Berechnung von Oberflächen- und Volumenintegralen, eine Rolle spielt. Insbesondere findet sie in der [Flächenformel](https://de.wikipedia.org/wiki/Flächenformel) und dem aus dieser hervorgehenden Transformationssatz Verwendung.\n",
        "\n",
        "* **Lokales Verhalten einer Funktion**: Die Funktionaldeterminante gibt zu einem gegebenen Punkt wichtige Informationen über das Verhalten der Funktion $f$ in der Nähe dieses Punktes. \n",
        "\n",
        "  * Wenn beispielsweise die Funktionaldeterminante einer stetig differenzierbaren Funktion in einem Punkt $p$ ungleich null ist, so ist die Funktion in einer Umgebung von $p$ invertierbar. \n",
        "  \n",
        "  * Weiterhin gilt, dass bei positiver Determinante in $p$ die Funktion ihre Orientierung beibehält und bei negativer Funktionaldeterminante die Orientierung umkehrt. \n",
        "  \n",
        "  * Der absolute Wert der Determinante im Punkt $p$ gibt den Wert an, mit dem die Funktion in der Nähe von $p$ expandiert oder schrumpft.\n",
        "\n",
        "* Für eine differenzierbare Funktion $f: \\mathbb{R}^{n} \\rightarrow \\mathbb{R}^{n}$ ist die Funktionaldeterminante definiert als die Determinante der Jacobi-Matrix von $f,$ also als\n",
        "det $D f(x)$\n",
        "mit\n",
        "\n",
        "> $\n",
        "D f(x)=\\left(\\frac{\\partial f_{i}}{\\partial x_{j}}(x)\\right)_{i, j=1, \\ldots, n}\n",
        "$\n"
      ]
    },
    {
      "cell_type": "markdown",
      "metadata": {
        "id": "Y8Aix1sXHVnV"
      },
      "source": [
        "**Beispiel: Polarkoordinaten**\n",
        "\n",
        "**1. Koordinatentransformation**: Die Umrechnungsformeln von Polarkoordinaten in kartesische Koordinaten lauten:\n",
        "\n",
        "> $\n",
        "\\begin{array}{l}\n",
        "x=r \\cos \\varphi \\\\\n",
        "y=r \\sin \\varphi\n",
        "\\end{array}\n",
        "$\n",
        "\n",
        "**2. Funktionaldeterminante** lautet also:\n",
        "\n",
        "> $\n",
        "\\operatorname{det} \\frac{\\partial(x, y)}{\\partial(r, \\varphi)}=\\operatorname{det}\\left(\\begin{array}{ll}\n",
        "\\frac{\\partial x}{\\partial r} & \\frac{\\partial x}{\\partial \\varphi} \\\\\n",
        "\\frac{\\partial y}{\\partial r} & \\frac{\\partial y}{\\partial \\varphi}\n",
        "\\end{array}\\right)=\\operatorname{det}\\left(\\begin{array}{cc}\n",
        "\\cos \\varphi & -r \\sin \\varphi \\\\\n",
        "\\sin \\varphi & r \\cos \\varphi\n",
        "\\end{array}\\right)=r \\cdot(\\cos \\varphi)^{2}+r \\cdot(\\sin \\varphi)^{2}=r\n",
        "$\n",
        "\n",
        "**3. Flächen- oder Volumenintegral**: Folglich ergibt sich für das Flächenelement $\\mathrm{d} A$ (alternativ kann man bei dreidimensionalen Kugelkoordinaten an dieser Stelle auch das Volumenelement $\\mathrm {d} V$ mit der Funktionaldeterminante berechnen):\n",
        "\n",
        "> $\n",
        "\\mathrm{d} A=\\left|\\operatorname{det} \\frac{\\partial(x, y)}{\\partial(r, \\varphi)}\\right| \\mathrm{d} r \\mathrm{~d} \\varphi=r \\mathrm{~d} r \\mathrm{~d} \\varphi\n",
        "$\n",
        "\n"
      ]
    },
    {
      "cell_type": "markdown",
      "metadata": {
        "id": "PhQKZZ-1M-GE"
      },
      "source": [
        "##### **Integralsätze (Gauss, Stokes, Green)**"
      ]
    },
    {
      "cell_type": "markdown",
      "metadata": {
        "id": "y-ifFM9ZKy3p"
      },
      "source": [
        "[Integralsatz](https://de.wikipedia.org/wiki/Integralsatz) ist ein Namensbestandteil bestimmter mathematischer Sätze, in deren Aussage ein Integral vorkommt.\n",
        "\n",
        "Unter dem Begriff der klassischen Integralsätze werden der **Satz von Gauß, der Satz von Green, der Satz von Stokes** und einige ihrer Spezialfälle zusammengefasst. Diese Sätze der Vektoranalysis hängen eng miteinander zusammen: der Integralsatz von Stokes umfasst die anderen beiden Sätze als Spezialfälle.\n",
        "\n",
        "Außerdem gibt es neben den klassischen Integralsätzen noch weitere Sätze, die man kurz als Integralsätze bezeichnet. Zu diesen zählt beispielsweise der cauchysche Integralsatz, der ein zentrales Resultat aus der Funktionentheorie ist."
      ]
    },
    {
      "cell_type": "markdown",
      "metadata": {
        "id": "sBGhKHdBNUv2"
      },
      "source": [
        "[Integralsatz von Gauß](https://de.m.wikipedia.org/wiki/Gaußscher_Integralsatz)\n",
        "\n",
        "* Im Folgenden sei das „Integrationsvolumen“ V n-dimensional. \n",
        "\n",
        "* Das [Volumenintegral](https://de.m.wikipedia.org/wiki/Volumenintegral) über den Gradienten einer skalaren Größe $\\phi$, kann dann in ein [Oberflächenintegral](https://de.m.wikipedia.org/wiki/Oberflächenintegral) (bzw. Hyperflächenintegral) über den Rand dieses Volumens umgewandelt werden:\n",
        "\n",
        "> $\n",
        "\\int_{V} \\operatorname{grad} \\phi(\\vec{x}) \\mathrm{d} V=\\oint_{\\partial V} \\phi \\mathrm{d} \\vec{A}\n",
        "$"
      ]
    },
    {
      "cell_type": "markdown",
      "metadata": {
        "id": "Y64AmnhcNBpb"
      },
      "source": [
        "[Satz von Stokes](https://de.m.wikipedia.org/wiki/Satz_von_Stokes)\n",
        "\n",
        "* sehr grundlegenden Satz über die Integration von Differentialformen, der den Hauptsatz der Differential- und Integralrechnung erweitert\n",
        "\n",
        "*  eine Verbindungslinie von der Differentialgeometrie zur Algebraischen Topologie eröffnet. \n",
        "\n",
        "* Dieser Zusammenhang wird durch den Satz von de Rham beschrieben, für den der Satz von Stokes grundlegend ist.\n",
        "\n",
        "* Im Folaenden ist $n=3$ und es wird die Schreibweise mit Mehrfachintegralen\n",
        "verwendet.\n",
        "\n",
        "Das qeschlossene Kurvenintegral einer vektoriellen Größe (rechte Seite) kann\n",
        "mittels der Rotation in ein Flächenintegral über eine von dem geschlossenen\n",
        "Integrationsweg $\\Gamma=\\partial A$ berandete, nicht notwendig ebene Fläche\n",
        "umgewandelt werden (linke Seite). Dabei werden - wie auch beim\n",
        "Gauß'schen Satz - die gewöhnlichen Orientierungseigenschaften\n",
        "vorausgesetzt. Es gilt:\n",
        "\n",
        "> $\n",
        "\\iint_{A} \\operatorname{rot} \\vec{F} \\cdot \\mathrm{d} \\vec{A}=\\oint_{\\Gamma=\\partial A} \\vec{F}(\\vec{r}) \\cdot \\mathrm{d} \\vec{r}\n",
        "$\n",
        "\n",
        "Der Vektor $\\mathrm{d} \\vec{A}$ ist gleich dem Betrag der zur betrachteten Fläche $A$ bzw. zu\n",
        "$\\partial V$ gehörenden infinitesimalen Flächenelemente multipliziert mit dem\n",
        "zugehörigen Normalenvektor. Auf der rechten Seite wird durch das\n",
        "Kreissymbol im Integralzeichen daran erinnert, dass über eine geschlossene\n",
        "Kurve integriert wird."
      ]
    },
    {
      "cell_type": "markdown",
      "metadata": {
        "id": "eRhCrZ_fK_8D"
      },
      "source": [
        "[Satz von Green](https://de.wikipedia.org/wiki/Satz_von_Green)\n",
        "\n",
        "* Der Satz von Green (auch Green-Riemannsche Formel oder Lemma von Green, gelegentlich auch Satz von Gauß-Green) \n",
        "\n",
        "* **erlaubt es, das Integral über eine ebene Fläche durch ein Kurvenintegral auszudrücken**. \n",
        "\n",
        "* Der Satz ist ein Spezialfall des Satzes von Stokes.\n",
        "\n"
      ]
    },
    {
      "cell_type": "markdown",
      "metadata": {
        "id": "tWuiG_igrWtv"
      },
      "source": [
        "Integrals ̈atze (Gauss, Stokes, Greenschen Formeln, Lo ̈sung der Poissongleichung, Fundamentalsatz der Vektoranalysis II)"
      ]
    },
    {
      "cell_type": "markdown",
      "metadata": {
        "id": "Vcm5d0r2fDD0"
      },
      "source": [
        "##### **Fundamentalzerlegung (Fundamentalsatz der Vektoranalysis)**"
      ]
    },
    {
      "cell_type": "markdown",
      "metadata": {
        "id": "nE9TPhq5fEux"
      },
      "source": [
        "* der [Helmholtzscher Zerlegungssatz](https://de.m.wikipedia.org/wiki/Helmholtz-Theorem) ist der Fundamentalsatz der Vektoranalysis. Beschreibt den allgemeinen Fall. \n",
        "\n",
        "* Jedes Vektorfeld $\\vec{F}$ lässt sich als eine Überlagerung eines Quellenanteils $\\vec{F}_{Q}$ und eines Wirbelanteils $\\vec{F}_{W}$ beschreiben."
      ]
    },
    {
      "cell_type": "markdown",
      "metadata": {
        "id": "mAqpVM7nYdgJ"
      },
      "source": [
        "## **Tensoranalysis**"
      ]
    },
    {
      "cell_type": "markdown",
      "metadata": {
        "id": "2pIIAEDf-4JK"
      },
      "source": [
        "#### **Einleitung**"
      ]
    },
    {
      "cell_type": "markdown",
      "metadata": {
        "id": "mL9soSZadOSm"
      },
      "source": [
        "*In our subject of differential geometry, where you talk about manifolds, **one difficulty is that the geometry is described by coordinates, but the coordinates do not have meaning**. They are allowed to undergo transformation. And in order to handle this kind of situation, an important tool is the so-called tensor analysis, or Ricci calculus, which was new to mathematicians. In mathematics you have a function, you write down the function, you calculate, or you add, or you multiply, or you can differentiate. You have something very concrete. In geometry the geometric situation is described by numbers, but you can change your numbers arbitrarily. So to handle this, you need the Ricci calculus.*"
      ]
    },
    {
      "cell_type": "markdown",
      "metadata": {
        "id": "BnxwQGT8YfIk"
      },
      "source": [
        "* Die [Tensoranalysis](https://de.wikipedia.org/wiki/Tensoranalysis) ist ein Teilgebiet der Differentialgeometrie beziehungsweise der Differentialtopologie.\n",
        "\n",
        "* In der Tensoranalysis wird **das Verhalten von geometrischen Differentialoperatoren auf Tensorfeldern untersucht**.\n",
        "\n",
        "* Sie ist eine **Verallgemeinerung der Vektoranalysis**\n",
        "\n",
        "* Zum Beispiel kann der Differentialoperator Rotation in diesem Kontext auf n Dimensionen verallgemeinert werden. \n",
        "\n",
        "* Zentrale Objekte der Tensoranalysis sind Tensorfelder. Es wird untersucht, wie Differentialoperatoren auf diesen Feldern wirken.\n",
        "\n",
        "* Vektoren und Matrizen, sofern sie geometrische oder physikalische Groessen reprasentieren, koennen unter dem begriff eines tensors subsumiert werden\n",
        "\n",
        "* tensorrechnung in 2 teilen: anschauungsraum fur ingenieure (kartesische tensoren). Fur schiefwinklige (also affine) oder krummlinige Koordinaten sind begriffe wie kovariant und kontravariant wichtig (zur arbeit mit metriken, deren skalarproduktauf einer nicht positiv definiten bilinearform beruht). "
      ]
    },
    {
      "cell_type": "markdown",
      "metadata": {
        "id": "OHG12ufadSHi"
      },
      "source": [
        "https://en.wikipedia.org/wiki/Curvilinear_coordinates"
      ]
    },
    {
      "cell_type": "markdown",
      "metadata": {
        "id": "1ynucSDIdTyD"
      },
      "source": [
        "https://en.wikipedia.org/wiki/Differentiable_curve"
      ]
    },
    {
      "cell_type": "markdown",
      "metadata": {
        "id": "eMBQOOf3dVgf"
      },
      "source": [
        "https://en.wikipedia.org/wiki/Tensors_in_curvilinear_coordinates"
      ]
    },
    {
      "cell_type": "markdown",
      "metadata": {
        "id": "yyUcAVz5eqB9"
      },
      "source": [
        "https://en.wikipedia.org/wiki/Raising_and_lowering_indices"
      ]
    },
    {
      "cell_type": "markdown",
      "metadata": {
        "id": "74Dg7m3BT1vI"
      },
      "source": [
        "https://en.wikipedia.org/wiki/Tensor_calculus"
      ]
    },
    {
      "cell_type": "markdown",
      "metadata": {
        "id": "_d3gdJDoTx5G"
      },
      "source": [
        "https://en.wikipedia.org/wiki/Ricci_calculus"
      ]
    },
    {
      "cell_type": "markdown",
      "metadata": {
        "id": "zdfJaWZATzyW"
      },
      "source": [
        "https://en.wikipedia.org/wiki/Glossary_of_tensor_theory"
      ]
    },
    {
      "cell_type": "markdown",
      "metadata": {
        "id": "oNJNE7fili4G"
      },
      "source": [
        "https://youtube.com/playlist?list=PLJHszsWbB6hpk5h8lSfBkVrpjsqvUGTCx"
      ]
    },
    {
      "cell_type": "markdown",
      "metadata": {
        "id": "yzAM7aBOc9aA"
      },
      "source": [
        "#### **Tensor Notation**"
      ]
    },
    {
      "cell_type": "markdown",
      "metadata": {
        "id": "G8aEOKhHdskP"
      },
      "source": [
        "* [Tensor notation](https://en.wikipedia.org/wiki/Tensor_calculus#Syntax) makes use of upper and lower indexes on objects that are used to label a variable object as \n",
        "\n",
        "  * **covariant** - lower index: $x_{1}$\n",
        "  \n",
        "  * **contravariant** - upper index: $c^{1}$\n",
        "  \n",
        "  * [**mixed**](https://en.wikipedia.org/wiki/Mixed_tensor) covariant and contravariant (having both upper and lower indexes). \n",
        "\n",
        "* In conventional math syntax we make **use of covariant indexes when dealing with Cartesian coordinate systems** $(x_{1},x_{2},x_{3})$ frequently without realizing this is a limited use of tensor syntax as covariant indexed components.\n",
        "\n",
        "* Tensor notation allows upper index on an object that may be confused with normal power operations from conventional math syntax. In tensor syntax a parenthesis should be used around an object before raising it to a power to disambiguate the use of a tensor index versus a normal power operation. For example:\n",
        "\n",
        "  * In normal math syntax: $e=m c^{2}=m c c,$ \n",
        "  * In tensor syntax: $e=m\\left(c^{1}\\right)^{2}=m\\left(c^{1}\\right)\\left(c^{1}\\right)$ and $e=m\\left(c^{2}\\right)^{2}=m\\left(c^{2}\\right)\\left(c^{2}\\right)$. \n",
        "  * The number in the inner parenthesis distinguishes the contravariant component where the outer parenthesis number distinguishes the power to raise the quantities to.\n",
        "\n",
        "* On a manifold, a tensor field will typically have multiple, upper and lower indices, where Einstein notation is widely used.\n",
        "\n",
        "* The distinction between covariance and contravariance is particularly important for computations with tensors, **which often have mixed variance**, which means that they have both covariant and contravariant components, or both vector and covector components.\n",
        "\n",
        "* The explanation in geometric terms is that a general tensor will have contravariant indices as well as covariant indices, because it has parts that live in the [tangent bundle](https://en.wikipedia.org/wiki/Tangent_bundle) as well as the [cotangent bundle](https://en.wikipedia.org/wiki/Cotangent_bundle).\n",
        "\n",
        "* **The reason of having covariant or contravariant tensors is because you want to represent the same thing in a different coordinate system. Such a new representation is achieved by a transformation using a set of partial derivatives. In tensor analysis, a good transformation is one that leaves invariant the quantity you are interested in.**"
      ]
    },
    {
      "cell_type": "markdown",
      "metadata": {
        "id": "oIvM16AgKOwg"
      },
      "source": [
        "In multilinear algebra and tensor analysis, [covariance and contravariance](https://en.wikipedia.org/wiki/Covariance_and_contravariance_of_vectors) describe how the quantitative description of certain geometric or physical entities changes with a [change of basis](https://en.wikipedia.org/wiki/Change_of_basis)."
      ]
    },
    {
      "cell_type": "markdown",
      "metadata": {
        "id": "qpnTC6ovB2Wl"
      },
      "source": [
        "**Contravariance of Vectors**"
      ]
    },
    {
      "cell_type": "markdown",
      "metadata": {
        "id": "QBJMxotsSJ2s"
      },
      "source": [
        "* **Problem**: For example, we consider the transformation from one coordinate system $x^{1}, \\ldots, x^{n}$ to another $x^{\\prime}, \\ldots, x^{\\prime n}$\n",
        "$x^{i}=f^{i}\\left(x^{\\prime}, x^{\\prime 2}, \\ldots, x^{\\prime n}\\right)$ where $f^{i}$ are certain functions.\n",
        "Take a look at a couple of specific quantities. How do we transform coordinates? The answer is \"**coordinate differentials**\":\n",
        "\n",
        "> $d x^{i}=\\frac{\\partial x^{i}}{\\partial x^{\\prime k}} d x^{\\prime k}$ \n",
        "\n",
        "* **Darstellung**: $c^{1}$ (upper index, hochgestellte Indizes)\n",
        "\n",
        "* **Definition**: \n",
        "\n",
        "  * Vektorkoordinaten verhalten sich kontravariant. \n",
        "  \n",
        "  * Every quantity which under a transformation of (vector) coordinates, transforms like the coordinate differentials is called a contravariant tensor.\n",
        "\n",
        "  * **Vectors exhibit a behavior of changing scale inversely to changes in scale to the reference axes are called contravariant** (see second example below). As a result, vectors often have units of distance or distance with other units (as, for example, velocity has units of distance divided by time).\n",
        "\n",
        "* **Examples**: (of contravariant vectors / vectors with contravariant components)\n",
        "\n",
        "  * position of an object relative to an observer, or any derivative of position with respect to time: velocity, acceleration, jerk, displacement, momentum, force.\n",
        "\n",
        "  * For instance, by changing scale from meters to centimeters (that is, **dividing the scale of the reference axes by 100**), the components of a measured velocity vector are **multiplied by 100**. \n",
        "\n",
        "* **Extension**:\n",
        "\n",
        "  * In physics, a basis is sometimes thought of as a set of reference axes. A change of scale on the reference axes corresponds to a change of units in the problem. \n",
        "\n",
        "  * A contravariant vector or tangent vector (often abbreviated simply as vector, such as a direction vector or velocity vector) has components that contra-vary with a change of basis to compensate. That is, the matrix that transforms the vector components must be the inverse of the matrix that transforms the basis vectors. The components of vectors (as opposed to those of covectors) are said to be contravariant. \n",
        "  \n",
        "  * If the **reference axes** were rotated in one direction, the **component representation** of the vector would rotate in exactly the opposite way. Similarly, if the reference axes were stretched in one direction, the components of the vector, like the coordinates, would reduce in an exactly compensating way. In Einstein notation, contravariant components are denoted with upper indices as in $\\mathbf{v}=v^{i} \\mathbf{e}_{i}$ (note: implicit summation over index \"i\")\n"
      ]
    },
    {
      "cell_type": "markdown",
      "metadata": {
        "id": "cU7BfuuCR-aX"
      },
      "source": [
        "**Covariance of Vectors**"
      ]
    },
    {
      "cell_type": "markdown",
      "metadata": {
        "id": "oBacRrxdJaon"
      },
      "source": [
        "* **Problem**: How do we transform some scalar $\\Phi$ ? The answer is \"**derivatives of a scalar**\":\n",
        "\n",
        "> $\\frac{\\partial \\Phi}{\\partial x^{i}}=\\frac{\\partial \\Phi}{\\partial x^{\\prime k}} \\frac{\\partial x^{\\prime k}}{\\partial x^{i}}$\n",
        "\n",
        "* **Darstellung**: $x_{1}$ (lower index, tiefgestellte Indizes)\n",
        "\n",
        "* **Definition**: \n",
        "\n",
        "  * Koeffizienten der Linearformen (=zB Skalare) verhalten sich kovariant. \n",
        "  \n",
        "  * Every quantity which under a coordinate transformation, transforms like the derivatives of a scalar is called a covariant tensor. \n",
        "\n",
        "  * Covectors (also called **dual vectors**) typically have units of the inverse of distance or the inverse of distance with other units. The components of covectors **change in the same way as changes to scale of the reference axes and consequently are called covariant**. \n",
        "\n",
        "* **Examples**:\n",
        "\n",
        "  * Koeffizienten der Linearformen (=zB Skalare)\n",
        "  \n",
        "  * An example of a covector is the gradient, which has units of a spatial derivative, or distance<sup>−1</sup>. \n",
        "\n",
        "* **Extension**:\n",
        "\n",
        "  * A covariant vector or cotangent vector (often abbreviated as covector) has components that co-vary with a change of basis. That is, the components must be transformed by the same matrix as the change of basis matrix. The components of covectors (as opposed to those of vectors) are said to be covariant. Examples of covariant vectors generally appear when taking a gradient of a function. In Einstein notation, covariant components are denoted with lower indices as in $\\mathbf{e}_{i}(\\mathbf{v})=v_{i}$\n",
        "\n",
        "  * By contrast, a covariant vector has **components (=coordinates) that change oppositely to the coordinates or, equivalently,\n",
        "transform like the reference axes**. For instance, the components of the gradient vector of a function $\\nabla f=\\frac{\\partial f}{\\partial x^{1}} \\widehat{x}^{1}+\\frac{\\partial f}{\\partial x^{2}} \\widehat{x}^{2}+\\frac{\\partial f}{\\partial x^{3}} \\widehat{x}^{3}$\n",
        "transform like the reference axes themselves.\n",
        "\n",
        "  * See also [Covariant Transformation](https://en.wikipedia.org/wiki/Covariant_transformation)\n",
        "\n"
      ]
    },
    {
      "cell_type": "markdown",
      "metadata": {
        "id": "F3EtqX0_U0Ma"
      },
      "source": [
        "https://math.stackexchange.com/questions/8170/intuitive-way-to-understand-covariance-and-contravariance-in-tensor-algebra"
      ]
    },
    {
      "cell_type": "markdown",
      "metadata": {
        "id": "1057jIj4LR8o"
      },
      "source": [
        "**Invariance**: "
      ]
    },
    {
      "cell_type": "markdown",
      "metadata": {
        "id": "LD0t5mHxKJuk"
      },
      "source": [
        "* A third concept related to covariance and contravariance is invariance. An example of a physical observable that does not change with a change of scale on the reference axes is the mass of a particle, which has units of mass (that is, no units of distance). \n",
        "  \n",
        "* The single, scalar value of mass is independent of changes to the scale of the reference axes and consequently is called invariant."
      ]
    },
    {
      "cell_type": "markdown",
      "metadata": {
        "id": "FfGcsb9qIY5I"
      },
      "source": [
        "[Curvilinear coordinate systems](https://en.wikipedia.org/wiki/Curvilinear_coordinates), such as **cylindrical or spherical coordinates**, are often used in physical and geometric problems. Associated with any coordinate system is a natural choice of coordinate basis for vectors based at each point of the space, and **covariance and contravariance are particularly important for understanding how the coordinate description of a vector changes by passing from one coordinate system to another**.\n"
      ]
    },
    {
      "cell_type": "markdown",
      "metadata": {
        "id": "oG_iXY2rIyDT"
      },
      "source": [
        "**In category theory**, covariance and contravariance are properties of functors; unfortunately, it is the lower-index objects (covectors) that generically have pullbacks, which are contravariant, while the upper-index objects (vectors) instead have pushforwards, which are covariant. This terminological conflict may be avoided by calling contravariant functors \"cofunctors\"—in accord with the \"covector\" terminology, and continuing the tradition of treating vectors as the concept and covectors as the coconcept."
      ]
    },
    {
      "cell_type": "markdown",
      "metadata": {
        "id": "32JGoyi1b3vG"
      },
      "source": [
        "**Mixed Tensor**"
      ]
    },
    {
      "cell_type": "markdown",
      "metadata": {
        "id": "FWTYw1Uqb6CX"
      },
      "source": [
        "* In tensor analysis, a [mixed tensor](https://en.wikipedia.org/wiki/Mixed_tensor) is a tensor which is neither strictly covariant nor strictly contravariant; at least one of the indices of a mixed tensor will be a subscript (covariant) and at least one of the indices will be a superscript (contravariant).\n",
        "\n",
        "* A mixed tensor of type or valence $\\left(\\begin{array}{l}M \\\\ N\\end{array}\\right),$ also written \"type $(M, N)$\", with both $M>0$ and $N>0,$ is a tensor which has $M$ contravariant indices and $N$ covariant indices. \n",
        "\n",
        "* Such a tensor can be defined as a linear function which maps an $(M+N)$ -tuple of $M$ one-forms and $N$ vectors to a scalar.\n"
      ]
    },
    {
      "cell_type": "markdown",
      "metadata": {
        "id": "IbSOinzDc_Gy"
      },
      "source": [
        "Consider the following octet of related tensors:\n",
        "\n",
        "> $\n",
        "T_{\\alpha \\beta \\gamma}, T_{\\alpha \\beta}^{\\gamma}, T_{\\alpha}{ }^{\\beta}{ }_{\\gamma}, T_{\\alpha}{ }^{\\beta \\gamma}, T_{\\beta \\gamma}^{\\alpha}, T^{\\alpha}{ }_{\\beta}^{\\gamma}, T^{\\alpha \\beta}{ }_{\\gamma}, T^{\\alpha \\beta \\gamma}\n",
        "$\n",
        "\n",
        "\n",
        "* The first one is covariant, the last one contravariant, and the remaining ones mixed.\n",
        "\n",
        "* Notationally, these tensors differ from each other by the covariance/contravariance of their indices. \n",
        "\n",
        "* A given **contravariant index of a tensor can be lowered using the [metric tensor](https://en.wikipedia.org/wiki/Metric_tensor)** $g_{\\mu v}$ and a given covariant index can be raised using the inverse metric tensor $g^{\\mu v}$. \n",
        "\n",
        "* Thus, $g_{\\mu v}$ could be called the index lowering operator and $g^{\\mu v}$ the index raising operator."
      ]
    },
    {
      "cell_type": "markdown",
      "metadata": {
        "id": "csaT5YxQfUWp"
      },
      "source": [
        "**Metric Tensor**"
      ]
    },
    {
      "cell_type": "markdown",
      "metadata": {
        "id": "V9NosL5Be8Sv"
      },
      "source": [
        "* In differential geometry, one definition of a [metric tensor](https://en.wikipedia.org/wiki/Metric_tensor) is a type of function which takes as input a pair of tangent vectors v and w at a point of a surface (or higher dimensional differentiable manifold) and produces a real number scalar g(v, w) in a way that generalizes many of the familiar properties of the dot product of vectors in Euclidean space.\n",
        "\n",
        "* In the same way as a dot product, **metric tensors are used to define the length of and angle between tangent vectors**. \n",
        "\n",
        "* Through integration, the metric tensor allows one to define and **compute the length of curves on the manifold**."
      ]
    },
    {
      "cell_type": "markdown",
      "metadata": {
        "id": "olTtobw59dlK"
      },
      "source": [
        "**Einstein notation / summation**"
      ]
    },
    {
      "cell_type": "markdown",
      "metadata": {
        "id": "Y9vCpddh9tU5"
      },
      "source": [
        "* According to the [Einstein notation](https://en.wikipedia.org/wiki/Einstein_notation), when an index variable appears twice in a single term and is not otherwise defined (see free and bound variables), it implies summation of that term over all the values of the index. So where the indices can range over the set \\{1,2,3\\} ,\n",
        "\n",
        "> $\n",
        "y=\\sum_{i=1}^{3} c_{i} x^{i}=c_{1} x^{1}+c_{2} x^{2}+c_{3} x^{3}\n",
        "$\n",
        "\n",
        "is simplified by the convention to:\n",
        "\n",
        ">$\n",
        "y=c_{i} x^{i}\n",
        "$\n",
        "\n",
        "* The upper indices are not exponents but are indices of coordinates, coefficients or basis vectors. \n",
        "\n",
        "In [general relativity](https://en.wikipedia.org/wiki/General_relativity), a common convention is that\n",
        "\n",
        "* the Greek alphabet is used for space and time components, where indices take on values 0,1,2 ,\n",
        "or 3 (frequently used letters are $\\mu, v, \\ldots),$ \n",
        "\n",
        "* the Latin alphabet is used for spatial components only, where indices take on values $1,2,$ or 3 (frequently used letters are $i, j, \\ldots)$"
      ]
    },
    {
      "cell_type": "markdown",
      "metadata": {
        "id": "ddHwTCF6Arbs"
      },
      "source": [
        "**Tensor contraction**"
      ]
    },
    {
      "cell_type": "markdown",
      "metadata": {
        "id": "M9WA6hpJA3d8"
      },
      "source": [
        "* In multilinear algebra, a [tensor contraction](https://en.wikipedia.org/wiki/Tensor_contraction) is an operation on a tensor that arises from the natural pairing of a finite-dimensional vector space and its dual. \n",
        "\n",
        "* In components, it is expressed as a sum of products of scalar components of the tensor(s) caused by applying the summation convention to a pair of dummy indices that are bound to each other in an expression. \n",
        "\n",
        "* The contraction of a single mixed tensor occurs when a pair of literal indices (one a subscript, the other a superscript) of the tensor are set equal to each other and summed over. In the Einstein notation this summation is built into the notation. **The result is another tensor with order reduced by 2.**\n",
        "\n",
        "* Es ist eine Verallgemeinerung der Spur einer linearen Abbildung auf Tensoren, die mindestens einfach kovariant und einfach kontravariant sind.\n"
      ]
    },
    {
      "cell_type": "markdown",
      "metadata": {
        "id": "zglWxx_a7Q_3"
      },
      "source": [
        "#### **Key Concepts**"
      ]
    },
    {
      "cell_type": "markdown",
      "metadata": {
        "id": "1gZ39Mp3fUJW"
      },
      "source": [
        "**Vector Decomposition**"
      ]
    },
    {
      "cell_type": "markdown",
      "metadata": {
        "id": "AB8gI8A_8aRe"
      },
      "source": [
        "Tensors notation allows a vector $(\\vec{V})$ to be decomposed into an [Einstein summation](https://en.wikipedia.org/wiki/Einstein_notation) representing the [tensor contraction](https://en.wikipedia.org/wiki/Tensor_contraction) of a [basis vector](https://en.wikipedia.org/wiki/Basis_(linear_algebra)) $\\left(\\vec{Z}_{i}\\right.$ or $\\left.\\vec{Z}^{i}\\right)$ with a component vector $\\left(V_{i}\\right.$ or $\\left.V^{i}\\right)$.\n",
        "\n",
        "> $\\vec{V}=V^{i} \\vec{Z}_{i}=V_{i} \\vec{Z}^{i}$\n",
        "\n",
        "Every vector has two different representations, one referred to as contravariant component $\\left(V^{i}\\right)$ with a covariant basis $\\left(\\vec{Z}_{i}\\right),$ and the other as a covariant component $\\left(V_{i}\\right)$ with a contravariant basis $\\left(\\vec{Z}^{i}\\right)$. \n",
        "\n",
        "The need to distinguish between contravariant and covariant arises from the fact that when we dot an arbitrary vector with its basis vector related to a particular coordinate system, there are two ways of interpreting this dot product, \n",
        "\n",
        "* either we view it as the projection of the basis vector onto the arbitrary vector, \n",
        "\n",
        "> $\\vec{V} \\cdot \\vec{Z}_{i}=V_{i}=\\vec{V}^{T} \\vec{Z}_{i}=\\vec{Z}_{i}^{T} \\vec{V}=\\operatorname{proj}_{\\vec{Z}^{i}}(\\vec{V}) \\cdot \\vec{Z}_{i}=\\operatorname{proj}_{\\vec{V}}\\left(\\vec{Z}^{i}\\right) \\cdot \\vec{V}$\n",
        "\n",
        "* or we view it as the projection of the arbitrary vector onto the basis vector.\n",
        "\n",
        "> $\\vec{V} \\cdot \\vec{Z}^{i}=V^{i}=\\vec{V}^{T} \\vec{Z}^{i}=\\vec{Z}^{i T} \\vec{V}=\\operatorname{proj}_{\\vec{Z}_{i}}(\\vec{V}) \\cdot \\vec{Z}^{i}=\\operatorname{proj}_{\\vec{V}}\\left(\\vec{Z}_{i}\\right) \\cdot \\vec{V}$\n",
        "\n",
        "Both views of the dot product are entirely equivalent, but have different component elements and different basis vectors.\n",
        "\n",
        "For example, in physics you start with a vector field, you decompose it with respect to the covariant basis, and that's how you get the contravariant coordinates. \n",
        "\n",
        "* For **orthonormal cartesian coordinates, the covariant and contravariant basis are identical**, since the basis set in this case is just the identity matrix.\n",
        "\n",
        "* However, for **non-affine coordinate system such as polar or spherical there is a need to distinguish between decomposition by use of contravariant or covariant basis** set for generating the components of the coordinate system."
      ]
    },
    {
      "cell_type": "markdown",
      "metadata": {
        "id": "SvSbnf6qPwbW"
      },
      "source": [
        "Covariant vector decomposition:\n",
        "\n",
        "> $\\vec{V}=V^{i} \\vec{Z}_{i}$\n",
        "\n",
        "$V^{i}$ contravariant components (ordered set of scalars)\n",
        "\n",
        "$\\vec{Z}_{i}$ covariant bases (ordered set of vectors)"
      ]
    },
    {
      "cell_type": "markdown",
      "metadata": {
        "id": "ZsW6JrNDPzt6"
      },
      "source": [
        "Contravariant vector decomposition\n",
        "\n",
        "$\\vec{V}=V_{i} \\vec{Z}^{i}$\n",
        "\n",
        "$V_{i}$ covariant components (ordered set of scalars)\n",
        "\n",
        "$\\vec{Z}^{i}$ contravariant bases (ordered set of covectors)"
      ]
    },
    {
      "cell_type": "markdown",
      "metadata": {
        "id": "WbsGhFYefeni"
      },
      "source": [
        "**Metric Tensor**"
      ]
    },
    {
      "cell_type": "markdown",
      "metadata": {
        "id": "ay4WSQYaSdya"
      },
      "source": [
        "The metric tensor represents a matrix with scalar elements $\\left(Z_{i j}\\right.$ or $Z^{i j}$ ) and is a tensor object which is used to raise or lower the index on another tensor object by an operation called\n",
        "contraction, thus allowing a covariant tensor to be converted to\n",
        "a contravariant tensor, and vice versa.\n",
        "\n",
        "Example of lowering index using metric tensor:\n",
        "\n",
        "$T_{i}=Z_{i j} T^{j}$\n",
        "\n",
        "Example of raising index using metric tensor:\n",
        "\n",
        "$T^{i}=Z^{i j} T_{j}$\n",
        "\n",
        "The metric tensor is defined as:\n",
        "\n",
        "$Z_{i j}=\\vec{Z}_{i} \\cdot \\vec{Z}_{j}$\n",
        "\n",
        "$Z^{i j}=\\vec{Z}^{i} \\cdot \\vec{Z}^{j}$"
      ]
    },
    {
      "cell_type": "markdown",
      "metadata": {
        "id": "c6v0WBxsSwkY"
      },
      "source": [
        "Two flavors of metric tensors exist: (1) the contravariant metric tensor $\\left(Z^{i j}\\right),$ and (2) the covariant metric tensor $\\left(Z_{i j}\\right.$). These two flavors of metric tensor are related by the identity:\n",
        "\n",
        "> $Z_{i k} Z^{j k}=\\delta_{i}^{j}$\n",
        "\n",
        "For an orthonormal [Cartesian coordinate system](https://en.wikipedia.org/wiki/Cartesian_coordinate_system), the metric\n",
        "tensor is just the [kronecker delta](https://en.wikipedia.org/wiki/Kronecker_delta) $\\delta_{i j}$ or $\\delta^{i j},$ which is just a tensor equivalent of the identity matrix, and $\\delta_{i j}=\\delta^{i j}=\\delta_{j}^{i}$."
      ]
    },
    {
      "cell_type": "markdown",
      "metadata": {
        "id": "xyZKbVQYff6-"
      },
      "source": [
        "**Jacobian**"
      ]
    },
    {
      "cell_type": "markdown",
      "metadata": {
        "id": "qH8gB0QUYsMU"
      },
      "source": [
        "In addition a tensor can be readily converted from an\n",
        "unbarred $(x)$ to a barred coordinate $(\\bar{x})$ system having different sets of basis vectors:\n",
        "\n",
        "> $f\\left(x^{1}, x^{2}, \\ldots, x^{n}\\right)=f\\left(x^{1}(\\bar{x}), x^{2}(\\bar{x}), \\ldots, x^{n}(\\bar{x})\\right)=\\bar{f}\\left(\\bar{x}^{1}, \\bar{x}^{2}, \\ldots, \\bar{x}^{n}\\right)=\\bar{f}\\left(\\bar{x}^{1}(x), \\bar{x}^{2}(x), \\ldots, \\bar{x}^{n}(x)\\right)$\n",
        "\n",
        "by use of Jacobian matrix relationships between the barred and unbarred coordinate system $\\left(\\bar{J}=J^{-1}\\right)$. The Jacobian between the barred and unbarred system is\n",
        "instrumental in defining the covariant and contravariant basis vectors, in that in order\n",
        "for these vectors to exist they need to satisfy the following relationship relative to the\n",
        "barred and unbarred system:"
      ]
    },
    {
      "cell_type": "markdown",
      "metadata": {
        "id": "kVRo7ERcaGFN"
      },
      "source": [
        "*Unbarred and barred basically means the old and new system respectively here. The name Unbarred comes from the bar over the $\\bar{x}$ and $\\bar{y}$.*"
      ]
    },
    {
      "cell_type": "markdown",
      "metadata": {
        "id": "9lA4KvAMY4Zv"
      },
      "source": [
        "Contravariant vectors are required to obey the laws:\n",
        "\n",
        "$v^{i}=\\bar{v}^{r} \\frac{\\partial x^{i}(\\bar{x})}{\\partial \\bar{x}^{r}}$\n",
        "\n",
        "$\\bar{v}^{i}=v^{r} \\frac{\\partial \\bar{x}^{i}(x)}{\\partial x^{r}}$\n",
        "\n",
        "Covariant vectors are required to obey the laws:\n",
        "\n",
        "$v_{i}=\\bar{v}_{r} \\frac{\\partial \\bar{x}^{i}(x)}{\\partial x^{r}}$\n",
        "\n",
        "$\\bar{v}_{i}=v_{r} \\frac{\\partial x^{r}(\\bar{x})}{\\partial \\bar{x}^{i}}$"
      ]
    },
    {
      "cell_type": "markdown",
      "metadata": {
        "id": "ihTmYeSBZyNe"
      },
      "source": [
        "There are two flavors of Jacobian matrix:\n",
        "\n",
        "1. The J matrix representing the change from unbarred to barred coordinates. To find\n",
        "J, we take the \"barred gradient\", i.e. partial derive with respect to $\\bar{x}^{i}$ :\n",
        "$J=\\bar{\\nabla} f(x(\\bar{x}))$\n",
        "\n",
        "2. The $\\bar{J}$ matrix, representing the change from barred to unbarred coordinates. To find $\\bar{J},$ we take the \"unbarred gradient\", i.e. partial derive with respect to $x^{i}$ :\n",
        "$\\bar{J}=\\nabla \\bar{f}(\\bar{x}(x))$"
      ]
    },
    {
      "cell_type": "markdown",
      "metadata": {
        "id": "uilyVl8CfilP"
      },
      "source": [
        "**Gradient Vector**"
      ]
    },
    {
      "cell_type": "markdown",
      "metadata": {
        "id": "hug2uym9flmO"
      },
      "source": [
        "Tensor calculus provides a generalization to the gradient vector formula from standard calculus **that works in all coordinate systems**:\n",
        "\n",
        "> $\\nabla F=\\nabla_{i} F \\vec{Z}^{i}$\n",
        "\n",
        "where:\n",
        "\n",
        "> $\\nabla_{i} F=\\frac{\\partial F}{\\partial Z^{i}}$\n",
        "\n",
        "* In contrast, for standard calculus, the gradient vector formula is dependent on the coordinate system in use (example: Cartesian gradient vector formula vs. the polar gradient vector formula vs. the spherical gradient vector formula, etc.). \n",
        "\n",
        "* In standard calculus, each coordinate system has its own specific formula, unlike **tensor calculus that has only one gradient formula that is equivalent for all coordinate systems**. This is made possible by an understanding of the metric tensor that tensor calculus makes use of."
      ]
    },
    {
      "cell_type": "markdown",
      "metadata": {
        "id": "NawRTutVPDUM"
      },
      "source": [
        "#### **Tensorfeld & Tensordichte**"
      ]
    },
    {
      "cell_type": "markdown",
      "metadata": {
        "id": "A29VRuMPiw4O"
      },
      "source": [
        "**Tensorfeld**"
      ]
    },
    {
      "cell_type": "markdown",
      "metadata": {
        "id": "l1ndD9U8PSkd"
      },
      "source": [
        "* Tensorfelder sind Funktionen, **die jedem Punkt einen Tensor zuordnen** (Tensor meint in diesem Fall ein rein algebraisches Objekt)\n",
        "\n",
        "* Tensorfelder werden auf ihre analytischen Eigenschaften untersucht (zB differenziert). Man erhält durch Differenzieren eines Tensorfeldes wieder ein Tensorfeld. Tensorfelder sind besondere glatte Abbildungen, die in Tensorbündel hinein abbilden (siehe unten).\n",
        "\n",
        "* Sei $M$ eine differenzierbare Mannigfaltigkeit. Ein [Tensorfeld](https://de.wikipedia.org/wiki/Tensorfeld) vom Typ (r,s) ist ein glatter [Schnitt](https://de.m.wikipedia.org/wiki/Schnitt_(Faserbündel)) im Tensorbündel $T_{s}^{r}(M)$. \n",
        "\n",
        "  * Ein Tensorfeld ist also ein glattes Feld $M \\rightarrow T_{s}^{r}(M),$ welches jedem Punkt der Mannigfaltigkeit einen (r,s)-Tensor zuordnet. \n",
        "\n",
        "  * Die Menge der Tensorfelder wird oft mit $\\Gamma^{\\infty}\\left(T_{s}^{r}(M)\\right)$ bezeichnet."
      ]
    },
    {
      "cell_type": "markdown",
      "metadata": {
        "id": "0o6ozZvJXdHS"
      },
      "source": [
        "**Tensordichte**"
      ]
    },
    {
      "cell_type": "markdown",
      "metadata": {
        "id": "OpVQEH92Xf4m"
      },
      "source": [
        "* [Tensordichte](https://de.wikipedia.org/wiki/Tensordichte) ist die Quantitätsgröße eines Tensorfeldes (Generalisierung)\n",
        "\n",
        "* die Tensordichte ist eine **Verallgemeinerung der Tensorfelder** in der Tensoranalysis \n",
        "\n",
        "* wurde eingeführt, um den „Unterschied zwischen Quantität und Intensität, soweit er physikalische Bedeutung hat“, zu erfassen: „die Tensoren sind die Intensitäts-, die Tensordichten die Quantitätsgrößen“. \n",
        "\n",
        "* eine **Tensordichte** ordnet einem Koordinatensystem ein Tensorfeld derart zu, dass es bei einem Koordinatenwechsel mit dem Absolutbetrag der Funktionaldeterminante multipliziert wird. Eine Tensordichte der Stufe null ist demnach eine skalare Dichte, deren Integral gemäß dem Transformationssatz eine Invariante liefert."
      ]
    },
    {
      "cell_type": "markdown",
      "metadata": {
        "id": "DMbn0EQsWcGh"
      },
      "source": [
        "#### **Vektorbündel, Tensorbündel & Faserbündel (Schnitt)**"
      ]
    },
    {
      "cell_type": "markdown",
      "metadata": {
        "id": "_hImcbeVim2L"
      },
      "source": [
        "**Vektorbündel & Tensorbündel**"
      ]
    },
    {
      "cell_type": "markdown",
      "metadata": {
        "id": "SLtNZ8d0eBNq"
      },
      "source": [
        "* [Vektorbündel](https://de.wikipedia.org/wiki/Vektorbündel) oder manchmal auch Vektorraumbündel sind Familien von Vektorräumen, die **durch die Punkte eines topologischen Raumes parametrisiert sind**.\n",
        "\n",
        "* Vektorbündel gehören damit auch zu den [Faserbündeln](https://de.m.wikipedia.org/wiki/Faserbündel). Remind: Faser ist ein Urbild von einem Element (\"Faser der Abbildung über einem Element\") - surjektiv! kann also mehrere Elemente im Urbild haben. Daher Faser $\\mathbb{R}$<sup>2</sup> zu Punkt auf $\\mathbb{R}$ (siehe [hier](https://de.m.wikipedia.org/wiki/Vektorbündel) die Illustration:\n"
      ]
    },
    {
      "cell_type": "markdown",
      "metadata": {
        "id": "-KgzQEwbeRK5"
      },
      "source": [
        "![cc](https://upload.wikimedia.org/wikipedia/commons/thumb/3/38/Vectorbundle.svg/320px-Vectorbundle.svg.png)\n",
        "\n",
        "*Illustration des Vektorbündels $(E, B, \\pi)$. Hier ist der **Totalraum** $E=\\mathbb{R}^{2}$ und der **Basisraum** $B=\\mathbb{R} .$ Die Abbildung $\\pi: E \\rightarrow B$ projiziert jede Gerade $E_{x}$ auf den Punkt $x$. Der Raum $E_{x}=\\{p \\in E \\mid \\pi(p)=x\\}$ wird **Faser über $x$** genannt. Außerdem ist der Totalraum $E$ die Vereinigung aller Fasern.* (Comment: also Totalraum E ist Urbild mit Faser und Basisraum B ist Zielbild mit Element das von der Faser stammt)"
      ]
    },
    {
      "cell_type": "markdown",
      "metadata": {
        "id": "QpPiBg4nd_uw"
      },
      "source": [
        "* [Tensorbündel](https://de.m.wikipedia.org/wiki/Tensoranalysis#Tensorbündel) ist ein bestimmtes Vektorbündel. Tensorfelder sind dann besondere glatte Abbildungen, die in dieses Vektorbündel hinein abbilden."
      ]
    },
    {
      "cell_type": "markdown",
      "metadata": {
        "id": "76yFULrjPgX5"
      },
      "source": [
        "**Schnitt (Faserbündel)**"
      ]
    },
    {
      "cell_type": "markdown",
      "metadata": {
        "id": "69bEWfo_PjUV"
      },
      "source": [
        "* [Schnitte](https://de.m.wikipedia.org/wiki/Schnitt_(Faserbündel)) sind Abbildungen, welche in der algebraischen Topologie, insbesondere in der Homotopietheorie, untersucht werden. Insbesondere interessiert man sich dafür, unter welchen Bedingungen solche Abbildungen existieren. \n",
        "\n",
        "* Das bekannteste Beispiel von Schnitten sind die [**Differentialformen**](https://de.m.wikipedia.org/wiki/Differentialform).\n",
        "\n",
        "* Ein Schnitt kann als **Verallgemeinerung des Graphen einer Funktion** aufgefasst werden. \n",
        "\n"
      ]
    },
    {
      "cell_type": "markdown",
      "metadata": {
        "id": "U1oJRas2e5yT"
      },
      "source": [
        "![cc](https://upload.wikimedia.org/wikipedia/commons/thumb/9/90/Bundle_section.svg/187px-Bundle_section.svg.png)\n",
        "\n",
        "*Die Abbildung s ist ein Schnitt in einem Faserbündel $p: E \\rightarrow B$. Dieser Schnitt s erlaubt es, den Basisraum $B$ mit dem Teilraum $s(B)$ von $E$ zu identifizieren.*"
      ]
    },
    {
      "cell_type": "markdown",
      "metadata": {
        "id": "4NB7LHkmNm_3"
      },
      "source": [
        "## **Differentialgeometrie**"
      ]
    },
    {
      "cell_type": "markdown",
      "metadata": {
        "id": "Cp41-zJkG9Jl"
      },
      "source": [
        "https://en.wikipedia.org/wiki/Differentiable_curve"
      ]
    },
    {
      "cell_type": "markdown",
      "metadata": {
        "id": "vjx5jyP8GOhe"
      },
      "source": [
        "https://en.wikipedia.org/wiki/Tangent_vector"
      ]
    },
    {
      "cell_type": "markdown",
      "metadata": {
        "id": "5AIiIhT7GKyA"
      },
      "source": [
        "https://en.wikipedia.org/wiki/Cotangent_space"
      ]
    },
    {
      "cell_type": "markdown",
      "metadata": {
        "id": "Vs-wzChQRfNt"
      },
      "source": [
        "* Die [Differentialgeometrie](https://de.wikipedia.org/wiki/Differentialgeometrie) stellt die Synthese von Analysis und Geometrie dar."
      ]
    },
    {
      "cell_type": "markdown",
      "metadata": {
        "id": "HHvXBMnoRB8h"
      },
      "source": [
        "#### **Differentialformen**"
      ]
    },
    {
      "cell_type": "markdown",
      "metadata": {
        "id": "JTbeQ6RzMMIC"
      },
      "source": [
        "https://www.youtube.com/watch?v=CYz_s82JnY8"
      ]
    },
    {
      "cell_type": "markdown",
      "metadata": {
        "id": "dxXHLIt6Q70b"
      },
      "source": [
        "* [Differentialform](https://de.wikipedia.org/wiki/Differentialform) erlauben eine koordinatenunabhängige Integration auf allgemeinen orientierten differenzierbaren Mannigfaltigkeiten.\n",
        "\n",
        "* Das bekannteste Beispiel von Schnitten sind die Differentialformen.\n",
        "\n",
        "* Beispiele:\n",
        "\n",
        "  * Glatte Funktionen sind 0-Formen.\n",
        "  * Pfaffsche Formen sind 1-Formen."
      ]
    },
    {
      "cell_type": "markdown",
      "metadata": {
        "id": "lfyrcBqf99Ka"
      },
      "source": [
        "**Glatte Funktionen**"
      ]
    },
    {
      "cell_type": "markdown",
      "metadata": {
        "id": "oQfcAm-7971y"
      },
      "source": [
        "* Eine [glatte Funktion](https://de.m.wikipedia.org/wiki/Glatte_Funktion) ist eine mathematische Funktion, die unendlich oft differenzierbar (insbesondere stetig) ist\n",
        "\n",
        "* Zum Beispiel ist jede [holomorphe Funktion](https://de.m.wikipedia.org/wiki/Holomorphe_Funktion) (=in jedem Punkt komplex differenzierbar) auch eine glatte Funktion. Außerdem werden glatte Funktionen als Abschneidefunktionen oder als Testfunktionen für Distributionen verwendet.\n",
        "\n",
        "* Eine Funktion $f: D \\rightarrow \\mathbb{R}$ heißt unendlich oft (stetig) differenzierbar oder glatt, wenn $f \\in C^{n}(D)$ für alle $n \\in \\mathbb{N}$ gilt. Die Menge aller glatten Funktionen auf $D$ wird mit $C^{\\infty}(D)$ notiert und es gilt\n",
        "$\n",
        "C^{\\infty}(D):=\\bigcap_{n \\in \\mathbb{N}} C^{n}(D)\n",
        "$"
      ]
    },
    {
      "cell_type": "markdown",
      "metadata": {
        "id": "-2BU50U7Rzm_"
      },
      "source": [
        "#### **Differenzierbare Mannigfaltigkeit**"
      ]
    },
    {
      "cell_type": "markdown",
      "metadata": {
        "id": "noCWSegQR4Av"
      },
      "source": [
        "* [Differenzierbare Mannigfaltigkeiten](https://de.m.wikipedia.org/wiki/Differenzierbare_Mannigfaltigkeit) sind Objekte in der Differenzialtopologie, und ein Oberbegriff für Kurven, Flächen und andere geometrische Objekte, die – aus der Sicht der Analysis – lokal aussehen wie ein [euklidischer Raum](https://de.m.wikipedia.org/wiki/Euklidischer_Raum)."
      ]
    },
    {
      "cell_type": "markdown",
      "metadata": {
        "id": "HTYDPuOHrInY"
      },
      "source": [
        "https://de.wikipedia.org/wiki/Differenzierbare_Mannigfaltigkeit#Glatte_Mannigfaltigkeit"
      ]
    },
    {
      "cell_type": "markdown",
      "metadata": {
        "id": "QQiPQ-08rLiY"
      },
      "source": [
        "https://de.wikipedia.org/wiki/Riemannsche_Mannigfaltigkeit"
      ]
    },
    {
      "cell_type": "markdown",
      "metadata": {
        "id": "u1FbvIb1f_4g"
      },
      "source": [
        "#### **Rest**"
      ]
    },
    {
      "cell_type": "markdown",
      "metadata": {
        "id": "ol_FwyECbZYH"
      },
      "source": [
        "https://de.m.wikipedia.org/wiki/Infinitesimal"
      ]
    },
    {
      "cell_type": "markdown",
      "metadata": {
        "id": "36JX4PbRipB_"
      },
      "source": [
        "https://en.wikipedia.org/wiki/Infinitesimal_transformation\n",
        "\n",
        "\n",
        "https://en.wikipedia.org/wiki/Symmetry_in_quantum_mechanics\n",
        "\n",
        "https://en.wikipedia.org/wiki/Differential_geometry_of_surfaces\n",
        "\n",
        "https://en.wikipedia.org/wiki/Gaussian_curvature\n",
        "\n",
        "https://en.wikipedia.org/wiki/Minimal_surface"
      ]
    },
    {
      "cell_type": "markdown",
      "metadata": {
        "id": "hRffquxP8anO"
      },
      "source": [
        "https://en.wikipedia.org/wiki/Cycloid\n",
        "\n",
        "https://de.wikipedia.org/wiki/Zentralprojektion\n",
        "\n",
        "https://de.wikipedia.org/wiki/Projektive_Geometrie\n",
        "\n",
        "https://de.wikipedia.org/wiki/Synthetische_Geometrie\n",
        "\n",
        "https://de.wikipedia.org/wiki/Affiner_Raum\n",
        "\n",
        "https://de.wikipedia.org/wiki/Euklidischer_Raum\n",
        "\n",
        "https://de.wikipedia.org/wiki/Lorentz-Transformation\n",
        "\n",
        "https://de.wikipedia.org/wiki/Minkowski-Raum"
      ]
    },
    {
      "cell_type": "markdown",
      "metadata": {
        "id": "amqD-XmcNbdW"
      },
      "source": [
        "## **Funktionentheorie**"
      ]
    },
    {
      "cell_type": "markdown",
      "metadata": {
        "id": "y7OksUkfrCUH"
      },
      "source": [
        "#### **Anwendungen**"
      ]
    },
    {
      "cell_type": "markdown",
      "metadata": {
        "id": "tN-vaCcWrF4t"
      },
      "source": [
        "Die [Funktionentheorie](https://de.wikipedia.org/wiki/Funktionentheorie) befasst sich mit der Theorie differenzierbarer komplexwertiger Funktionen mit komplexen Variablen. Da insbesondere die Funktionentheorie einer komplexen Variablen reichlich Gebrauch von Methoden aus der reellen Analysis macht, nennt man das Teilgebiet auch komplexe Analysis.\n",
        "\n",
        "* Für holomorphe Funktionen gilt, dass Real- und Imaginärteil [harmonische Funktionen](https://de.wikipedia.org/wiki/Harmonische_Funktion) sind, also die [Laplace-Gleichung](https://de.wikipedia.org/wiki/Laplace-Gleichung) erfüllen. Dies verknüpft die Funktionentheorie mit den partiellen Differentialgleichungen, beide Gebiete haben sich regelmäßig gegenseitig beeinflusst.\n",
        "\n",
        "* Das Wegintegral einer holomorphen Funktion ist vom Weg unabhängig. Dies war historisch das erste Beispiel einer Homotopieinvarianz. Aus diesem Aspekt der Funktionentheorie entstanden viele Ideen der algebraischen Topologie, beginnend mit Bernhard Riemann."
      ]
    },
    {
      "cell_type": "markdown",
      "metadata": {
        "id": "6A1WfmYqHxFw"
      },
      "source": [
        "#### **Komplexwertige Funktion**"
      ]
    },
    {
      "cell_type": "markdown",
      "metadata": {
        "id": "99zFAq5kvWQ0"
      },
      "source": [
        "**Komplexe Funktion**"
      ]
    },
    {
      "cell_type": "markdown",
      "metadata": {
        "id": "MdmbwvHZAec-"
      },
      "source": [
        "* Eine [komplexe Funktion](https://de.wikipedia.org/wiki/Funktionentheorie#Komplexe_Funktionen) ordnet einer komplexen Zahl eine weitere [komplexe Zahl](https://de.m.wikipedia.org/wiki/Komplexe_Zahl) zu\n",
        "\n",
        "* Da jede komplexe Zahl durch zwei reelle Zahlen in\n",
        "der Form $x+$ iy geschrieben werden kann, lässt sich eine allgemeine Form einer komplexen Funktion darstellen durch:\n",
        "\n",
        "> $\n",
        "x+i y \\mapsto f(x+i y)=u(x, y)+i v(x, y)\n",
        "$\n",
        "\n",
        "* Dabei sind $u(x, y)$ und $v(x, y)$ reelle Funktionen, die von zwei reellen Variablen $x$ und $y$ abhängen. \n",
        "\n",
        "* $u(x, y)$ heißt der Realteil und $v(x, y)$ der Imaginärteil der Funktion. \n",
        "\n",
        "* **Insofern ist eine komplexe Funktion nichts anderes als eine Abbildung von $\\mathbb{R}^{2}$ nach $\\mathbb{R}^{2}$ (also eine Abbildung, die zwei reellen Zahlen wieder zwei reelle Zahlen zuordnet).** \n",
        "\n",
        "* **Tatsächlich könnte man die Funktionentheorie auch mit Methoden der reellen Analysis aufbauen.**\n",
        "\n",
        "* Der Unterschied zur reellen Analysis wird erst deutlicher, wenn man **komplex-differenzierbare Funktionen** betrachtet und dabei die <u>**multiplikative Struktur des Körpers der komplexen Zahlen**</u> ins Spiel bringt, die dem Vektorraum $\\mathbb{R}^{2}$ fehlt. \n",
        "\n",
        "* Wie auch bei reellwertigen und reellen Funktionen ist die Verwendung des Begriffes einer komplexen Funktion in der Literatur aber nicht eindeutig. Teilweise wird er synonym mit einer komplexwertigen Funktion verwendet, teilweise wird er auch nur für komplexwertige Funktionen einer komplexen Variablen verwendet, also Funktionen\n",
        "\n",
        "> $\n",
        "f: D \\rightarrow \\mathbb{C}\n",
        "$\n",
        "\n",
        "bei denen $D \\subseteq \\mathbb{C}$ ist.\n"
      ]
    },
    {
      "cell_type": "markdown",
      "metadata": {
        "id": "jcE_zsb3Cbg1"
      },
      "source": [
        "**Komplexwertige Funktion**"
      ]
    },
    {
      "cell_type": "markdown",
      "metadata": {
        "id": "TDS2jqpHCZov"
      },
      "source": [
        "* Eine [komplexwertige Funktion](https://de.wikipedia.org/wiki/Komplexwertige_Funktion) ist eine Funktion, deren Funktionswerte komplexe Zahlen sind\n",
        "\n",
        "* Eng damit verwandt ist der Begriff der **komplexen Funktion**, der in der Literatur aber nicht eindeutig verwendet wird\n",
        "\n",
        "* Komplexwertige Funktionen werden in der Analysis und in der Funktionentheorie untersucht und haben vielfältige Anwendungen wie zum Beispiel in der Physik und der Elektrotechnik, wo sie beispielsweise zur Beschreibung von Schwingungen dienen.\n",
        "\n",
        "* Eine komplexwertige Funktion ist eine Funktion\n",
        "$f: D \\rightarrow \\mathbb{C}$ bei der die Zielmenge die Menge der komplexen Zahlen ist. \n",
        "\n",
        "* **An die Definitionsmenge $D$ sind keine Anforderungen gestellt**.\n",
        "\n",
        "* **Aufgrund der Einbettung der reellen Zahlen in die komplexen Zahlen lassen sich alle reellwertigen Funktionen auch als komplexwertige Funktionen auffassen.**"
      ]
    },
    {
      "cell_type": "markdown",
      "metadata": {
        "id": "ayG-ecLwEAZI"
      },
      "source": [
        "**Beispiele komplexwertige Funktionen**"
      ]
    },
    {
      "cell_type": "markdown",
      "metadata": {
        "id": "kPI6QTKfEKXh"
      },
      "source": [
        "* Die Funktion $f: \\mathbb{R} \\rightarrow \\mathbb{C}$ definiert durch $f(x)= \\mathrm{e}^{\\mathrm{i} x}=\\cos (x)+\\mathrm{i} \\sin (x)$ ist eine komplexwertige Funktion einer reellen Variable, und zwar die [Eulersche Formel](https://de.wikipedia.org/wiki/Eulersche_Formel) "
      ]
    },
    {
      "cell_type": "markdown",
      "metadata": {
        "id": "kDlJ7rtrH1Jk"
      },
      "source": [
        "#### **Holomorphe & meromorphe Funktion**"
      ]
    },
    {
      "cell_type": "markdown",
      "metadata": {
        "id": "15PRPrWyirIy"
      },
      "source": [
        "https://home.mathematik.uni-freiburg.de/ziegler/skripte/funktion.total.pdf"
      ]
    },
    {
      "cell_type": "markdown",
      "metadata": {
        "id": "7EJZSgXRNcuH"
      },
      "source": [
        "**Holomorphe Funktion**"
      ]
    },
    {
      "cell_type": "markdown",
      "metadata": {
        "id": "YPpqu4CjYvL7"
      },
      "source": [
        "* Holomorphie ist eine Eigenschaft von bestimmten komplexwertigen Funktionen\n",
        "\n",
        "* [Holomorphe Funktionen](https://de.wikipedia.org/wiki/Holomorphe_Funktion) sind **an jedem Punkt komplex differenzierbar**. \n",
        "\n",
        "* Eine Funktion $f\\colon U\\to {\\mathbb  {C}}$ mit einer offenen Menge $ U\\subseteq \\mathbb {C}$ heißt holomorph, falls sie in jedem Punkt von $U$ komplex differenzierbar ist.\n",
        "\n",
        "* Holomorphie eine sehr starke Eigenschaft ist, die im Reellen kein Pendant besitzen (z.B. ist jede holomorphe Funktion beliebig oft (stetig) differenzierbar und lässt sich lokal in jedem Punkt in eine Potenzreihe entwickeln.)"
      ]
    },
    {
      "cell_type": "markdown",
      "metadata": {
        "id": "YaIeo8ZJN1D1"
      },
      "source": [
        "Es sei $U \\subseteq \\mathbb{C}$ eine offene Teilmenge der komplexen Ebene und $z_{0} \\in U$ ein Punkt dieser Teilmenge. Eine Funktion $f: U \\rightarrow \\mathbb{C}$ heißt komplex differenzierbar im Punkt $z_{0}$, falls der Grenzwert\n",
        "\n",
        ">$\n",
        "\\lim _{h \\rightarrow 0} \\frac{f\\left(z_{0}+h\\right)-f\\left(z_{0}\\right)}{h}\n",
        "$\n",
        "\n",
        "existiert. Man bezeichnet ihn dann als $f^{\\prime}\\left(z_{0}\\right)$.\n",
        "\n",
        "Die Funktion $f$ heißt holomorph im Punkt $z_{0}$, falls eine Umgebung von $z_{0}$ existiert, in der $f$ komplex differenzierbar ist. Ist $f$ auf ganz $U$ holomorph, so nennt man $f$ holomorph. \n",
        "\n",
        "**Ist weiter $U=\\mathbb{C},$ so nennt man $f$ eine <u>ganze Funktion</u>**.\n"
      ]
    },
    {
      "cell_type": "markdown",
      "metadata": {
        "id": "tGW5pRBeTmdM"
      },
      "source": [
        "**Cauchy-Riemannsche Differentialgleichungen**"
      ]
    },
    {
      "cell_type": "markdown",
      "metadata": {
        "id": "7StjTRqJOsq4"
      },
      "source": [
        "* Siehe [Cauchy-Riemannsche Differentialgleichungen](https://de.wikipedia.org/wiki/Cauchy-Riemannsche_partielle_Differentialgleichungen) - Mit einer Einleitung [hier](https://de.wikipedia.org/wiki/Holomorphe_Funktion#Cauchy-Riemannsche_Differentialgleichungen). \n",
        "\n",
        "* Zerlegt man eine Funktion $f(x+i y)=u(x, y)+i v(x, y)$ in ihren Real-und Imaginärteil mit reellen Funktionen $u, v,$ so hat die totale Ableitung $L$ als Darstellungsmatrix die **Jacobi-Matrix**\n",
        "\n",
        ">$\n",
        "\\left(\\begin{array}{ll}\n",
        "\\frac{\\partial u}{\\partial x} & \\frac{\\partial u}{\\partial y} \\\\\n",
        "\\frac{\\partial v}{\\partial x} & \\frac{\\partial v}{\\partial y}\n",
        "\\end{array}\\right)\n",
        "$\n",
        "\n",
        "Folglich ist die Funktion $f$ genau dann komplex differenzierbar, wenn sie reell differenzierbar ist und für $u, v$ die Cauchy-Riemannschen Differentialgleichungen\n",
        "\n",
        ">$\n",
        "\\begin{array}{l}\n",
        "\\frac{\\partial u}{\\partial x}=\\frac{\\partial v}{\\partial y} \\\\\n",
        "\\frac{\\partial u}{\\partial y}=-\\frac{\\partial v}{\\partial x}\n",
        "\\end{array}\n",
        "$\n",
        "\n",
        "erfüllt sind."
      ]
    },
    {
      "cell_type": "markdown",
      "metadata": {
        "id": "Kdjw2S8ApIbE"
      },
      "source": [
        "[Jacobi-Matrix einer holomorphen Funktion](https://de.wikipedia.org/wiki/Jacobi-Matrix#Jacobi-Matrix_einer_holomorphen_Funktion)\n",
        "\n",
        "* Matrix partieller Ableitungen einer komplexen Funktion"
      ]
    },
    {
      "cell_type": "markdown",
      "metadata": {
        "id": "SQVyBafHPTUq"
      },
      "source": [
        "**Biholomorphe Funktionen**"
      ]
    },
    {
      "cell_type": "markdown",
      "metadata": {
        "id": "4VeegSuMPXcu"
      },
      "source": [
        "* Eine Funktion, die holomorph, bijektiv und deren Umkehrfunktion holomorph ist, nennt man [biholomorph](https://de.wikipedia.org/wiki/Biholomorphe_Abbildung). \n",
        "\n",
        "* Im Fall einer komplexen Veränderlichen ist das äquivalent dazu, dass die Abbildung bijektiv und konform ist. \n",
        "* Aus Sicht der Kategorientheorie ist eine biholomorphe Abbildung ein Isomorphismus."
      ]
    },
    {
      "cell_type": "markdown",
      "metadata": {
        "id": "LTzOYMmJW-C9"
      },
      "source": [
        "**Analytische Funktion (=holomorph)**"
      ]
    },
    {
      "cell_type": "markdown",
      "metadata": {
        "id": "kXNafAzsW_vP"
      },
      "source": [
        "* Als [analytische Funktion](https://de.wikipedia.org/wiki/Analytische_Funktion) bezeichnet man eine Funktion, die lokal durch eine **konvergente Potenzreihe** gegeben ist.\n",
        "\n",
        "* Aufgrund der Unterschiede zwischen reeller und komplexer Analysis spricht man zur Verdeutlichung oft auch explizit von reell-analytischen oder komplex-analytischen Funktionen. \n",
        "\n",
        "* **Im Komplexen sind die Eigenschaften analytisch und holomorph äquivalent.**\n",
        "\n",
        "* **Ist eine Funktion in der gesamten komplexen Ebene definiert und analytisch, nennt man sie ganz.**\n"
      ]
    },
    {
      "cell_type": "markdown",
      "metadata": {
        "id": "R5YwRn5kXhgN"
      },
      "source": [
        "Es sei $\\mathbb{K}=\\mathbb{R}$ oder $\\mathbb{K}=\\mathbb{C} .$ Es sei $D \\subseteq \\mathbb{K}$ eine offene Teilmenge. Eine Funktion $f: D \\rightarrow \\mathbb{K}$ heißt analytisch im Punkt $x_{0} \\in D,$ wenn es eine **Potenzreihe**\n",
        "\n",
        ">$\n",
        "\\sum_{n=0}^{\\infty} a_{n}\\left(x-x_{0}\\right)^{n}\n",
        "$\n",
        "\n",
        "gibt, die auf einer Umgebung von $x_{0}$ gegen $f(x)$ konvergiert. Ist $f$ in jedem Punkt von $D$ analytisch, so heißt $f$ analytisch.\n",
        "\n",
        "Viele gängige Funktionen der reellen Analysis wie beispielsweise Polynome, Exponential- und Logarithmusfunktionen, trigonometrische Funktionen und rationale Ausdrücke in diesen Funktionen sind analytisch. "
      ]
    },
    {
      "cell_type": "markdown",
      "metadata": {
        "id": "izCWb7MLMDht"
      },
      "source": [
        "**Ganze Funktion**"
      ]
    },
    {
      "cell_type": "markdown",
      "metadata": {
        "id": "8GiFSM9LMFFp"
      },
      "source": [
        "* In der Funktionentheorie ist eine [ganze Funktion](https://de.wikipedia.org/wiki/Ganze_Funktion) eine Funktion, **die in der gesamten komplexen Zahleneben**e $\\mathbb {C}$  holomorph (also analytisch) ist. \n",
        "\n",
        "* an entire function, also called an integral function, is a complex-valued function that is holomorphic at all finite points over the whole complex plane. \n",
        "\n",
        "* **Every entire function f(z) can be represented as a power series**\n",
        "\n",
        "* Typische Beispiele ganzer Funktionen sind Polynome oder die **Exponentialfunktion** sowie Summen, Produkte und Verknüpfungen davon, etwa die **trigonometrischen Funktionen** und die **Hyperbelfunktionen**.\n",
        "\n",
        "* Jede ganze Funktion kann als eine überall konvergierende Potenzreihe um ein beliebiges Zentrum dargestellt werden. Weder der Logarithmus noch die Wurzelfunktion sind ganz.\n",
        "\n",
        "* Eine ganze Funktion kann eine **isolierte Singularität**, insbesondere sogar eine wesentliche Singularität im komplexen Punkt im Unendlichen (und nur da) besitzen."
      ]
    },
    {
      "cell_type": "markdown",
      "metadata": {
        "id": "KfgjvFmLNIqE"
      },
      "source": [
        "**Beispiele**\n",
        "\n",
        "* der Kehrwert der Gammafunktion $1 / \\Gamma(z)$ \n",
        "\n",
        "* die Fehlerfunktion $\\operatorname{erf}(z)$ \n",
        "\n",
        "* der Integralsinus $\\operatorname{Si}(z)$ \n",
        "\n",
        "* die Airy-Funktionen $\\operatorname{Ai}(z)$ und $\\operatorname{Bi}(z)$ \n",
        "\n",
        "* die Fresnelschen Integrale $S(z)$ und $C(z)$ \n",
        "\n",
        "* die Riemannsche Xi-Funktion $\\xi(z)$ \n",
        "\n",
        "* die Besselfunktionen erster Art $J_{n}(z)$ für ganzzahlige $n$ \n",
        "\n",
        "* die Struve-Funktionen $H_{n}(z)$ für ganzzahlige $n>-2$"
      ]
    },
    {
      "cell_type": "markdown",
      "metadata": {
        "id": "3-8kuLxEMXKT"
      },
      "source": [
        "*Die Airy-Funktion $ \\operatorname {Bi} (x+iy)$ (hier der Realteil) ist eine ganze Funktion.*\n",
        "\n",
        "![gg](https://upload.wikimedia.org/wikipedia/commons/9/98/AiryBi_Real_Surface.png)"
      ]
    },
    {
      "cell_type": "markdown",
      "metadata": {
        "id": "Glmu9FngKNv6"
      },
      "source": [
        "**Potenzreihe**"
      ]
    },
    {
      "cell_type": "markdown",
      "metadata": {
        "id": "WHmZPiENUx-L"
      },
      "source": [
        "https://www.youtube.com/watch?v=CeEfXWalXeU"
      ]
    },
    {
      "cell_type": "markdown",
      "metadata": {
        "id": "z634qYWILLmN"
      },
      "source": [
        "Unter einer [Potenzreihe](https://de.wikipedia.org/wiki/Potenzreihe) $P(x)$ versteht man in der Analysis eine unendliche Reihe der Form\n",
        "\n",
        ">$\n",
        "P(x)=\\sum_{n=0}^{\\infty} a_{n}\\left(x-x_{0}\\right)^{n}\n",
        "$\n",
        "\n",
        "mit einer beliebigen Folge $\\left(a_{n}\\right)_{n \\in \\mathbb{N}_{0}}$ reeller oder komplexer Zahlen\n",
        "dem Entwicklungspunkt $x_{0}$ der Potenzreihe.\n",
        "\n",
        "Potenzreihen spielen eine wichtige Rolle in der Funktionentheorie und **erlauben oft eine sinnvolle Fortsetzung reeller Funktionen in die komplexe Zahlenebene**. Insbesondere stellt sich die Frage, für welche reellen oder komplexen Zahlen eine Potenzreihe konvergiert. Diese Frage führt zum Begriff des [Konvergenzradius](https://de.wikipedia.org/wiki/Konvergenzradius)."
      ]
    },
    {
      "cell_type": "markdown",
      "metadata": {
        "id": "HCXhbAt9Ut9y"
      },
      "source": [
        "Youtube: Konvergenzradius https://www.youtube.com/watch?v=wSfLtkb-ORY"
      ]
    },
    {
      "cell_type": "markdown",
      "metadata": {
        "id": "ma4ElMlYKVwk"
      },
      "source": [
        "* Jede Polynomfunktion lässt sich als Potenzreihe auffassen, bei der fast alle Koeffizienten $a_{n}$ gleich 0 sind. \n",
        "\n",
        "* Wichtige andere Beispiele sind **Taylorreihe** und **Maclaurinsche Reihe**. \n",
        "\n",
        "* Funktionen, die sich durch eine Potenzreihe darstellen lassen, werden auch [analytische Funktionen](https://de.wikipedia.org/wiki/Analytische_Funktion) genannt. \n",
        "\n",
        "Beispielhaft die Potenzreihendarstellung einiger bekannter Funktionen:\n",
        "\n",
        "* **Exponentialfunktion**: $e^{x}=\\exp (x)=\\sum_{n=0}^{\\infty} \\frac{x^{n}}{n !}=\\frac{x^{0}}{0 !}+\\frac{x^{1}}{1 !}+\\frac{x^{2}}{2 !}+\\frac{x^{3}}{3 !}+\\cdots$ für alle\n",
        "$x \\in \\mathbb{R},$ d. h., der Konvergenzradius ist unendlich. \n",
        "\n",
        "* **Sinus**: $\\sin (x)=\\sum_{n=0}^{\\infty}(-1)^{n} \\frac{x^{2 n+1}}{(2 n+1) !}=\\frac{x}{1 !}-\\frac{x^{3}}{3 !}+\\frac{x^{5}}{5 !} \\mp \\cdots$\n",
        "\n",
        "* **Kosinus**: $\\cos (x)=\\sum_{n=0}^{\\infty}(-1)^{n} \\frac{x^{2 n}}{(2 n) !}=\\frac{x^{0}}{0 !}-\\frac{x^{2}}{2 !}+\\frac{x^{4}}{4 !} \\mp \\cdots$"
      ]
    },
    {
      "cell_type": "markdown",
      "metadata": {
        "id": "_N1e5DmRoyZm"
      },
      "source": [
        "**Laurent-Reihe**"
      ]
    },
    {
      "cell_type": "markdown",
      "metadata": {
        "id": "6Era7KDwoxIS"
      },
      "source": [
        "**Exkurs**: Die Laurent-Reihe ist eine **unendliche Reihe ähnlich einer Potenzreihe**, aber zusätzlich **mit negativen Exponenten**. Allgemein hat eine Laurent-Reihe in $x$ mit Entwicklungspunkt $c$ diese Gestalt (Dabei sind die $a_{n}$ und $c$ meist komplexe Zahlen):\n",
        "\n",
        ">$\n",
        "f(x)=\\sum_{n=-\\infty}^{\\infty} a_{n}(x-c)^{n}\n",
        "$\n",
        "\n",
        "Es sei $D$ eine nichtleere offene Teilmenge der Menge $\\mathbb{C}$ der komplexen Zahlen und $P_{f}$ eine weitere Teilmenge von $\\mathbb{C}$, die nur aus isolierten Punkten besteht. Eine Funktion $f$ heißt meromorph, wenn sie für Werte aus $D \\backslash P_{f}$ definiert und holomorph ist und für Werte aus $P_{f}$ Pole hat. $P_{f}$ wird als Polstellenmenge von $f$ bezeichnet.\n",
        "\n",
        "* Zerlegung einer komplex differenzierbaren Funktion"
      ]
    },
    {
      "cell_type": "markdown",
      "metadata": {
        "id": "Ji-KdqErueSE"
      },
      "source": [
        "**Meromorphe Funktion**"
      ]
    },
    {
      "cell_type": "markdown",
      "metadata": {
        "id": "1i4Q4vb9RlIR"
      },
      "source": [
        "* Meromorphie ist eine Eigenschaft von bestimmten komplexwertigen Funktionen\n",
        "\n",
        "* Für viele Fragestellungen der Funktionentheorie ist der **Begriff der holomorphen Funktion zu speziell**. \n",
        "\n",
        "* Dies liegt daran, dass der Kehrwert $\\frac{1}{f}$ einer holomorphen Funktion $f$ an einer Nullstelle von $f$ eine Definitionslücke hat und somit $\\frac{1}{f}$ dort auch **nicht komplex differenzierbar ist**. \n",
        "\n",
        "* Man führt daher den allgemeineren Begriff der [meromorphen Funktion](https://de.wikipedia.org/wiki/Meromorphe_Funktion) ein, die auch **isolierte Polstellen** besitzen kann.\n",
        "\n",
        "* Meromorphe Funktionen lassen sich lokal als [Laurentreihen](https://de.wikipedia.org/wiki/Laurent-Reihe) mit abbrechendem Hauptteil darstellen. Ist $U$ ein Gebiet von $\\mathbb{C},$ so bildet die Menge der auf $U$ meromorphen Funktionen einen Körper.\n",
        "\n",
        "* Alle holomorphen Funktionen sind auch meromorph, da ihre Polstellenmenge leer ist.\n",
        "\n",
        "Zum Beispiel ist die Gamma-Funktion meromorph, weil sie holomorph ist auf $\\mathbb{C}$, abgesehen von abzahlbar vielen nicht-hebbaren Singularitaeten (hierbei in allen negativen ganzen Zahlen, da der Definitionsbereich einer Gammafunktion $\\mathbb{C}$  \\ -$\\mathbb{N}$ <sub>0</sub> ist).\n",
        "\n",
        "Beispiele:\n",
        "\n",
        "* [Gamma Funktion](https://en.wikipedia.org/wiki/Gamma_function)\n",
        "\n",
        "* [Elliptische Funktion](https://de.wikipedia.org/wiki/Elliptische_Funktion)"
      ]
    },
    {
      "cell_type": "markdown",
      "metadata": {
        "id": "mpQpsaJhntsj"
      },
      "source": [
        "https://www.youtube.com/watch?v=NdVHBO3nCCM"
      ]
    },
    {
      "cell_type": "markdown",
      "metadata": {
        "id": "_QgKCNimH6Sa"
      },
      "source": [
        "#### **Singularität & Polstelle**"
      ]
    },
    {
      "cell_type": "markdown",
      "metadata": {
        "id": "OjZAY8WRubkK"
      },
      "source": [
        "**Isolierte Singularität**"
      ]
    },
    {
      "cell_type": "markdown",
      "metadata": {
        "id": "wx-597ruaSQx"
      },
      "source": [
        "https://www.youtube.com/watch?v=UC_ZTbDVWTM"
      ]
    },
    {
      "cell_type": "markdown",
      "metadata": {
        "id": "ej4umwH7Tb5m"
      },
      "source": [
        "* [Isolierte Singularitäten](https://de.wikipedia.org/wiki/Isolierte_Singularität) sind besondere [**isolierte Punkte**](https://de.wikipedia.org/wiki/Isolierter_Punkt) in der Quellmenge einer holomorphen Funktion. \n",
        "\n",
        "* Man unterscheidet bei isolierten Singularitäten zwischen **hebbaren Singularitäten**, **Polstellen** und **wesentlichen Singularitäten**.\n",
        "\n",
        "* Es sei $\\Omega \\subseteq \\mathbb{C}$ eine offene Teilmenge, $z_{0} \\in \\Omega$. Ferner sei $f: \\Omega \\backslash\\left\\{z_{0}\\right\\} \\rightarrow \\mathbb{C}$ eine holomorphe komplexwertige Funktion. Dann heißt $z_{0}$ isolierte Singularität von $f$."
      ]
    },
    {
      "cell_type": "markdown",
      "metadata": {
        "id": "uuAgJBUpT0Oo"
      },
      "source": [
        "**Klasse 1: Hebbare Singularität (Definitionslücke)**"
      ]
    },
    {
      "cell_type": "markdown",
      "metadata": {
        "id": "6rOVJ5i3U_Ln"
      },
      "source": [
        "* Der Punkt $z_{0}$ heißt [hebbare Singularität](https://de.wikipedia.org/wiki/Definitionslücke), wenn $f$ auf $\\Omega$ holomorph fortsetzbar ist. \n",
        "\n",
        "* Hat Grenzwert in Form von einer Zahl bzw. nach dem riemannschen Hebbarkeitssatz, wenn $f$ in einer Umgebung von $z_{0}$ beschränkt ist.\n",
        "\n",
        "> $\\lim _{z \\rightarrow z_{0}} f(z)=c$\n",
        "\n",
        "> $f(z)$ beschrankt in $U\\left(z_{0}\\right)$"
      ]
    },
    {
      "cell_type": "markdown",
      "metadata": {
        "id": "wAm2tWA_vART"
      },
      "source": [
        "**Klasse 2: Polstelle**"
      ]
    },
    {
      "cell_type": "markdown",
      "metadata": {
        "id": "8wykSXcsVCAo"
      },
      "source": [
        "* im Prinzip das gleiche wie bei hebbaren Singularitaten, aber mit dem Unterschied, dass die Funktion nah an der Singularitat unbeschraenkt ist = also ins unendliche geht $\\lim _{z \\rightarrow z_{0}}|f(z)|=\\infty$\n",
        "\n",
        "Alternative Definition:\n",
        "\n",
        "> $\\lim _{z \\rightarrow z_{0}} f(z) \\cdot\\left(z-z_{0}\\right)^{k}=c \\neq 0(k \\geqslant 1)$\n",
        "\n",
        "Man multipliziert an den unendlichen Funktionswert immer oefter eine fast Null in Form des Polynoms $\\left(z-z_{0}\\right)^{k}$, bis man eine endliche komplexe Zahl als Grenzwert hat, und nicht mehr unendlich (aber nicht Null). Die Anzahl der Polynome k multipliziert mit dem Funktionswert ist der Grad / Ordnung der Polstelle.\n",
        "\n",
        "* Der Punkt $z_{0}$ heißt [Polstelle](https://de.wikipedia.org/wiki/Polstelle) oder $P o l$, wenn \n",
        "\n",
        "  * $z_{0}$ **keine hebbare Singularität ist** und \n",
        "  * es eine natürliche $\\operatorname{Zahl} k$ gibt, sodass $\\left(z-z_{0}\\right)^{k} \\cdot f(z)$ **eine hebbare Singularität bei $z_{0}$ hat**. \n",
        "\n",
        "* Ist das $k$ minimal gewählt, dann sagt man $f$ habe in $z_{0}$ einen Pol $k$ -ter Ordnung.\n",
        "\n",
        "* Man bezeichnet eine einpunktige Definitionslücke einer Funktion als Polstelle oder auch kürzer als Pol, wenn die Funktionswerte in jeder Umgebung des Punktes (betragsmäßig) beliebig groß werden.\n",
        "\n",
        "* Damit gehören die Polstellen zu den isolierten Singularitäten. \n",
        "\n",
        "* Das Besondere an Polstellen ist, dass sich die Punkte in einer Umgebung **nicht chaotisch verhalten, sondern in einem gewissen Sinne gleichmäßig gegen unendlich streben**. Deshalb können dort Grenzwertbetrachtungen durchgeführt werden.\n",
        "\n",
        "* Generell spricht man nur bei [glatten](https://de.wikipedia.org/wiki/Glatte_Funktion) (stetig & differenzierbar) oder [analytischen Funktionen](https://de.wikipedia.org/wiki/Analytische_Funktion) von Polen. "
      ]
    },
    {
      "cell_type": "markdown",
      "metadata": {
        "id": "5I61uFSlYqw-"
      },
      "source": [
        "*Fur reelle Funktionen: f(x)=1/x hat einen Pol erster Ordnung an der Stelle x=0**\n",
        "\n",
        "![gg](https://upload.wikimedia.org/wikipedia/commons/9/90/GraphKehrwertfunktion.png)"
      ]
    },
    {
      "cell_type": "markdown",
      "metadata": {
        "id": "pk3Y078XWH2E"
      },
      "source": [
        "*Der Absolutwert der Gammafunktion geht nach Unendlich an den Polstellen (links). Rechts hat sie keine Polstellen und steigt nur schnell an.*\n",
        "\n",
        "*The [gamma function](https://en.wikipedia.org/wiki/Gamma_function) is meromorphic in the whole complex plane.*\n",
        "\n",
        "![ff](https://upload.wikimedia.org/wikipedia/commons/3/33/Gamma_abs_3D.png)"
      ]
    },
    {
      "cell_type": "markdown",
      "metadata": {
        "id": "zDM4NxaKU6oj"
      },
      "source": [
        "**Klasse 3: Wesentliche Singularität**"
      ]
    },
    {
      "cell_type": "markdown",
      "metadata": {
        "id": "IsNpaYyHVD4o"
      },
      "source": [
        "* nicht hebbar und keine Polstelle, dann heißt $z_{0}$ eine wesentliche Singularität von $f$\n",
        "\n",
        "* zum Beispiel fur $f(z)=e^{-\\frac{1}{z}}, z_{0}=0$, eine Funktion die von links ins unendliche strebt, und von rechts nach Null\n",
        "  * keine hebbare Singularitaet, weil zwei verschiedene Grenzwerte existieren und eine davon nicht endlich ist.\n",
        "  * keine Polstelle, weil ein Grenzwert gleich Null ist (muss aber unbeschraenkt sein bei Polstellen)"
      ]
    },
    {
      "cell_type": "markdown",
      "metadata": {
        "id": "L0cgjDPMVmko"
      },
      "source": [
        "*Plot der Funktion $\\exp(1/z)$. Sie hat im Nullpunkt eine wesentliche Singularität (Bildmitte). Der Farbton entspricht dem komplexen Argument des Funktionswertes, während die Helligkeit seinen Betrag darstellt. Hier sieht man, dass sich die wesentliche Singularität unterschiedlich verhält, je nachdem, wie man sich ihr nähert (im Gegensatz dazu wäre ein Pol gleichmäßig weiß).*\n",
        "\n",
        "![ff](https://upload.wikimedia.org/wikipedia/commons/0/0b/Essential_singularity.png)"
      ]
    },
    {
      "cell_type": "markdown",
      "metadata": {
        "id": "Oc36OYMXjGCI"
      },
      "source": [
        "#### **Cauchysche Integralformel & Integralsatz**"
      ]
    },
    {
      "cell_type": "markdown",
      "metadata": {
        "id": "WqNGqIe3p8jh"
      },
      "source": [
        "**Cauchysche Integralformel**"
      ]
    },
    {
      "cell_type": "markdown",
      "metadata": {
        "id": "BPSHsrLNpJDv"
      },
      "source": [
        "* Die [cauchysche Integralformel](https://de.wikipedia.org/wiki/Cauchysche_Integralformel) ist eine der fundamentalen Aussagen der Funktionentheorie, eines Teilgebietes der Mathematik. \n",
        "\n",
        "* Sie besagt in ihrer schwächsten Form, dass die Werte einer holomorphen Funktion $f$ im Inneren einer Kreisscheibe bereits durch ihre Werte auf dem Rand dieser Kreisscheibe bestimmt sind.\n",
        "\n",
        "* Eine starke Verallgemeinerung davon ist der Residuensatz."
      ]
    },
    {
      "cell_type": "markdown",
      "metadata": {
        "id": "IV1pfCzHqCvk"
      },
      "source": [
        "**Residuensatz**"
      ]
    },
    {
      "cell_type": "markdown",
      "metadata": {
        "id": "lVLX7lrIqBtX"
      },
      "source": [
        "* Der [Residuensatz](https://de.wikipedia.org/wiki/Residuensatz) ist ein wichtiger Satz der Funktionentheorie. Er stellt eine **Verallgemeinerung des cauchyschen Integralsatzes und der cauchyschen Integralformel** dar. Seine Bedeutung liegt nicht nur in den weitreichenden Folgen innerhalb der Funktionentheorie, sondern auch in der Berechnung von Integralen über reelle Funktionen.\n",
        "\n",
        "* Er besagt, dass das Kurvenintegral längs einer geschlossenen Kurve über eine bis auf isolierte Singularitäten holomorphe Funktion lediglich vom Residuum in den Singularitäten im Innern der Kurve und der Umlaufzahl der Kurve um diese Singularitäten abhängt. Anstelle eines Kurvenintegrals muss man also nur Residuen und Umlaufzahlen berechnen, was in vielen Fällen einfacher ist."
      ]
    },
    {
      "cell_type": "markdown",
      "metadata": {
        "id": "7fDF9pi7qE2D"
      },
      "source": [
        "**Cauchyscher Integralsatz**"
      ]
    },
    {
      "cell_type": "markdown",
      "metadata": {
        "id": "ivq0YtFjjOPz"
      },
      "source": [
        "* Der [cauchysche Integralsatz](https://de.wikipedia.org/wiki/Cauchyscher_Integralsatz)  ist einer der wichtigsten Sätze der Funktionentheorie. \n",
        "\n",
        "* Er handelt von Kurvenintegralen für holomorphe (auf einer offenen Menge komplex-differenzierbare) Funktionen. \n",
        "\n",
        "* Im Kern besagt er, dass zwei dieselben Punkte verbindende Wege das gleiche Wegintegral besitzen, falls die Funktion überall zwischen den zwei Wegen holomorph ist. \n",
        "\n",
        "* Der Satz gewinnt seine Bedeutung unter anderem daraus, dass man ihn zum Beweis der cauchyschen Integralformel und des Residuensatzes benutzt.\n",
        "\n"
      ]
    },
    {
      "cell_type": "markdown",
      "metadata": {
        "id": "vVa4sBaTvj6U"
      },
      "source": [
        "#### **Komplexe Geometrie / Mannigfaltigkeit**"
      ]
    },
    {
      "cell_type": "markdown",
      "metadata": {
        "id": "XsBA8JfTq1-t"
      },
      "source": [
        "**Komplexe Mannigfaltigkeit**"
      ]
    },
    {
      "cell_type": "markdown",
      "metadata": {
        "id": "jHnY-neXsG_j"
      },
      "source": [
        "* [Einfuhrung in Mannigfaltigkeit](https://www.youtube.com/watch?v=0CLXHZ6pweU)\n",
        "\n",
        "* Eine komplexe Mannigfaltigkeit, auch [komplex-analytische Mannigfaltigkeit](https://de.wikipedia.org/wiki/Komplexe_Mannigfaltigkeit), grundlegender Begriff in der Funktionentheorie mehrerer Variabler.\n",
        "\n",
        "* Eine komplexe Mannigfaltigkeit ist eine differenzierbare Mannigfaltigkeit, deren Koordinatenkarten Werte in ℂn annehmen, und deren Übergangsabbildungen holomorph sind."
      ]
    },
    {
      "cell_type": "markdown",
      "metadata": {
        "id": "iECbFrJWvCFg"
      },
      "source": [
        "*Komplexe Karte*"
      ]
    },
    {
      "cell_type": "markdown",
      "metadata": {
        "id": "0iLfZQ5KuhOp"
      },
      "source": [
        "Eine komplexe Mannigfaltigkeit $M$ der Dimension $n$ ist ein Hausdorffraum, für den jeder Punkt eine Umgebung U besitzt, die [homöomorph](https://de.wikipedia.org/wiki/Hom%C3%B6omorphismus) zu einer offenen Teilmenge $V \\subset \\mathbb{C}^{n}$ ist. Ein solcher Homöomorphismus $z: U \\rightarrow V$ heißt eine **komplexe\n",
        "(Koordinaten-)Karte**. Zwei komplexe Karten $z_{a}: U_{a} \\rightarrow V_{a}, z_{\\beta}$ :\n",
        "$U_{\\beta} \\rightarrow V_{\\beta}$ heißen biholomorph verträglich, wenn die sog. Übergangsabbildung\n",
        "\n",
        "> $\n",
        "z_{\\beta} \\circ z_{\\alpha}^{-1}: z_{\\alpha}\\left(U_{\\alpha} \\cap U_{\\beta}\\right) \\rightarrow z_{\\beta}\\left(U_{\\alpha} \\cap U_{\\beta}\\right)\n",
        "$\n",
        "\n",
        "(biholomorph ist (im Fall $\\left.U_{a} \\cap U_{\\beta} \\neq \\varnothing\\right)$. Man nennt $z=\\left(z^{1}, \\ldots, z^{n}\\right): U \\rightarrow V$ auch lokale Koordinate."
      ]
    },
    {
      "cell_type": "markdown",
      "metadata": {
        "id": "E89_dh1jvDzD"
      },
      "source": [
        "*Komplexer Atlas*"
      ]
    },
    {
      "cell_type": "markdown",
      "metadata": {
        "id": "s9x82BNau6s8"
      },
      "source": [
        "* Ein **komplexer Atlas** $\\mathcal{A}$ auf $M$ ist eine Familie $\\left\\{U_{o} Z_{a}\\right\\}$ paarweise biholomorph verträglicher komplexer Karten, für die die $U_{a}$ eine offene Überdeckung von $M$ bilden. \n",
        "\n",
        "* Zwei Atlanten $\\mathcal{A}, \\mathcal{A}^{\\prime}$ auf $M$ heißen biholomorph verträglich, falls jede Karte von $\\mathcal{A}$ biholomorph verträglich mit jeder Karte von $\\mathcal{A}^{\\prime}$ ist. Die biholomorphe Verträglichkeit zwischen komplexen Atlanten ist eine Äquivalenzrelation.\n"
      ]
    },
    {
      "cell_type": "markdown",
      "metadata": {
        "id": "NiOd6nsBvFR8"
      },
      "source": [
        "*Komplexe Struktur*"
      ]
    },
    {
      "cell_type": "markdown",
      "metadata": {
        "id": "ZnTr0xpTu89q"
      },
      "source": [
        "* Unter einer **komplexen Struktur** versteht man eine Äquivalenzklasse biholomorph äquivalenter Atlanten auf $M$. Jede komplexe Struktur auf $M$ enthält einen eindeutig bestimmten maximalen komplexen Atlas $\\mathcal{A}^{*}$ : Ist $\\mathcal{A}$ ein beliebiger Atlas der komplexen Struktur, dann besteht $\\mathcal{A}^{*}$ aus allen komplexen Karten, die mit jeder Karte von $\\mathcal{A}$ biholomorph verträglich sind. Eine komplexe Mannigfaltigkeit der Dimension $n$ ist eine Mannigfaltigkeit der Dimension $n$ mit einer komplexen Struktur\n",
        "\n",
        "* Eine komplexe Struktur ist ein bezüglich Inklusion maximaler komplexer Atlas. Jeder komplexe Atlas ist in genau einer komplexen Struktur enthalten, nämlich in der Vereinigung aller zu ihm äquivalenten Atlanten. Dabei sind zwei komplexe Atlanten äquivalent, falls ihre Vereinigungsmenge ebenfalls ein komplexer Atlas ist (d. h. wenn alle Kartenwechselabbildungen zwischen den beiden Atlanten biholomorph sind). Bemerkung: Alternativ kann man eine komplexe Struktur auch als eine Äquivalenzklasse bezüglich dieses Äquivalenzbegriffs definieren.\n",
        "\n"
      ]
    },
    {
      "cell_type": "markdown",
      "metadata": {
        "id": "SVcscJcswgDq"
      },
      "source": [
        "*Komplexe Mannigfaltigkeit*"
      ]
    },
    {
      "cell_type": "markdown",
      "metadata": {
        "id": "CXkvyXpywask"
      },
      "source": [
        "* Versieht man $M$ nun mit einer solchen komplexen Struktur, so spricht man von einer komplexen Mannigfaltigkeit. Genauer gesagt ist ein 2 -Tupel $(M, S)$ eine komplexe Mannigfaltigkeit der Dimension $n$, wenn $S$ eine komplexe Struktur der Dimension $n$ auf $M$ ist. Die Karten aus $S$ werden dann auch als Karten der\n",
        "komplexen Mannigfaltigkeit bezeichnet."
      ]
    },
    {
      "cell_type": "markdown",
      "metadata": {
        "id": "ZjJMKdLQ2Xo6"
      },
      "source": [
        "*Holomorphe Funktionen, Strukturgarbe*"
      ]
    },
    {
      "cell_type": "markdown",
      "metadata": {
        "id": "JV7MEgtA2VxA"
      },
      "source": [
        "* Eine Funktion $f: M \\rightarrow \\mathbb{C}$ heißt holomorph in $x \\in M,$ wenn für eine Karte $(U, \\phi)$ mit $x \\in U$ die Funktion $f \\circ \\phi^{-1}: \\phi(U) \\rightarrow \\mathbb{C}$ eine in $\\phi(x)$ holomorphe Funktion ist. Wegen der obigen Kompatibilitätsbedingung ist diese Bedingung unabhängig von der gewählten Karte. Eine Funktion heißt holomorph auf einer offenen Teilmenge $U \\subset M$, wenn sie in jedem Punkt $x \\in U$ holomorph ist.\n",
        "\n",
        "* Als Strukturgarbe $\\mathcal{O}_{M}$ der komplexen Mannigfaltigkeit $M$ wird die Garbe der holomorphen Funktionen bezeichnet. $\\left(M, \\mathcal{O}_{M}\\right)$ ist ein geringter Raum.\n",
        "\n",
        "* Da das Konzept der [Garben](https://de.wikipedia.org/wiki/Garbe_(Mathematik)) in der Funktionentheorie mehrerer Veränderlicher eine so zentrale Rolle spielt, ist die folgende Charakterisierung der Struktur einer komplexen Mannigfaltigkeit geeigneter, wobei $X$ einen Hausdorffraum bezeichne und $_{X} \\mathcal{O}$ eine Untergarbe der Garbe $_{X} C$ der stetigen Funktionen auf $X$ :\n",
        "\n",
        "* Ein [geringter Raum](https://de.wikipedia.org/wiki/Geringter_Raum) $(X, X \\mathcal{O})$ heißt komplexe Mannigfaltigkeit, wenn jedes $x \\in X$ eine Umgebung $U$ besitzt, so daß $\\left(U,\\left.x \\mathcal{O}\\right|_{U}\\right)$ isomorph ist zu einem geringten Raum $\\left(\\left.V_{, n} \\mathcal{O}\\right|_{V}\\right),$ wobei $V$ ein offener Unterraum im $\\mathbb{C}^{n}$ ist und ${ }_{n} \\mathcal{O}$ die Garbe der Keime der holomorphen Funktionen auf $X$."
      ]
    },
    {
      "cell_type": "markdown",
      "metadata": {
        "id": "MLPaFd7hxq0J"
      },
      "source": [
        "Unter einer Abbildung von geringten Räumen\n",
        "\n",
        ">$\n",
        "\\left(X,_{X} \\odot\\right),\\left(Y,_{Y} \\odot\\right)\n",
        "$\n",
        "\n",
        "versteht man dabei eine stetige Abbildung $f \\cdot X \\rightarrow Y$, so daß für jedes $x \\in X$ und $h \\in{ }_{Y} \\mathcal{O}_{f(x)}$ glit $h \\circ f \\in{ }_{X} \\mathcal{O}_{f(x)} .$ Man bezeichnet die Abbildung ${ }_{Y} \\mathcal{O}_{f(x)} \\rightarrow{ }_{X} \\mathcal{O}_{x}, h \\mapsto h \\circ f$ mit $f^{*}$. Die Abbildung $f$ ist ein Isomorphismus, wenn $\\mathrm{sie}$ ein Homöomorphismus und eine Injektion ist (dann ist auch $f^{-1}: Y \\rightarrow X$ eine Injektion, da $\\left(f^{-1}\\right)^{*}=\\left(f^{*}\\right)^{-1}$ ).\n",
        "Liegt $a \\in X$ in einem offenen Unterraum $U \\cong V \\subset \\mathbb{C}^{n}$, dann heißt $n$ die Dimension\n",
        "$\\operatorname{dim}_{a} x$ von $X$ an der Stelle a. Sie ist wohldefiniert, da die Funktion $X \\rightarrow \\mathbb{Z}, x \\mapsto \\operatorname{dim}_{x}$ X stetig und damit konstant auf jeder Zusammenhangskomponente von $X$ ist."
      ]
    },
    {
      "cell_type": "markdown",
      "metadata": {
        "id": "59ijJqOSxv0A"
      },
      "source": [
        "Komplexe Mannigfaltigkeiten sind reduzierte komplexe Räume, die lokal aussehen\" wie singularitätenfreie analytische Mengen.\n",
        "\n",
        "* Ist $z=\\left(z_{1}, \\ldots, z_{n}\\right)$ eine komplexe Karte auf der offenen Menge $U \\subset X$ und setzt man $z_{\\nu}=x_{\\nu}+\\sqrt{-1} y_{\\nu},$ so ist $\\left(x_{1}, \\ldots, x_{n}, y_{1}, \\ldots, y_{n}\\right)$ eine Karte der\n",
        "zugrundeliegenden reell-analytischen Mannigfaltigkeit. \n",
        "\n",
        "* Ist $T(X)$ das reelle Tangentialbündel, so ist $\\left(\\frac{\\partial}{\\partial x_{1}}, \\ldots, \\frac{\\partial}{\\partial x_{n}}, \\frac{\\partial}{\\partial y_{1}}, \\ldots, \\frac{\\partial}{\\partial y_{n}}\\right)$ (eine Basis auf $U$.\n",
        "Durch $J\\left(\\frac{\\partial}{\\partial x_{\\nu}}\\right)=\\frac{\\partial}{\\partial y_{\\nu}}$ und $J\\left(\\frac{\\partial}{\\partial x_{\\nu}}\\right)=-\\frac{\\partial}{\\partial y_{\\nu}}$ erhält man eine lineare Abbildung $J$\n",
        "$: T(X) \\rightarrow T(X)$ mit $J^{2}=-1$ (wegen der Cauchy-Riemannschen Differentialgleichung ist die Definition von J unabhängig von der Wahl der komplexen Karten). \n",
        "\n",
        "* Dementsprechend definiert man eine fast komplexe Struktur auf einer $C^{\\infty}$ Mannigfaltigkeit $X$ als eine lineare Abbildung $J: T(X) \\rightarrow T(X)$ des Tangentialbündels mit $\\mathcal{J}^{2}=-1$. Eine solche heißt integrabel, wenn es eine komplex-analytische Struktur auf $X$ gibt mit $X$ als zugrundeliegender $C^{\\infty}$ Mannigfaltigkeit so, daß J durch diese komplexe Struktur induziert wird. \n",
        "\n",
        "* Eine solche komplexe Struktur ist eindeutig bestimmt: J operiert auch auf dem Kotangentialbündel $T^{*}(X)$, und ist für komplexwertige $C^{\\infty}$ Funktionen $\\bar{\\partial} f$ die Projektion von $d f \\in T^{*}(X) \\otimes C$ auf den Eigenraum zum Eigenwert $-\\sqrt{-1}$ von $J$, so ist $\\widehat{O}_{X}=\\operatorname{Ker}(\\bar{\\partial})$"
      ]
    },
    {
      "cell_type": "markdown",
      "metadata": {
        "id": "Iu4kjiOvyS36"
      },
      "source": [
        "Für (lokale) $C^{\\infty}$ -Vektorfelder $v, w$ liefert\n",
        "\n",
        ">$\n",
        "[v, w]-[J v, J w]+J[J v, w]+J[v, J w]\n",
        "$\n",
        "\n",
        "eine lineare Abbildung\n",
        "\n",
        ">$\n",
        "N: \\stackrel{2}{\\wedge} T(X) \\rightarrow T(X)\n",
        "$\n",
        "\n",
        "genannt Nirenberg-Tensor. J ist genau dann integrabel, wenn $N \\equiv 0$ auf $X$.\n",
        "Eine komplexe Untermannigfaltigkeit ist eine singularitätenfreie analytische Menge $A \\subset X$. Besitzt $A$ die Kodimension $d,$ dann heißt das, daß es zu jedem $x_{0} \\in A$ eine Umgebung $U=U\\left(x_{0}\\right) \\subset X$ und holomorphe Funktionen $f_{1}, \\ldots, f_{d}$ auf $U$ gibt, so daß gilt:\n",
        "1) $A \\cap U=\\left\\{x \\in U: f_{1}(x)=\\ldots f_{d}(x)=0\\right\\}$\n",
        "2) Rang $_{x}\\left(f_{1}, \\ldots, f_{d}\\right)=d$ für alle $x \\in U$.\n",
        "$X$ induziert auf $A$ in kanonischer Weise die Struktur einer $(n-d)$ -dimensionalen Mannigfaltigkeit, und die natürliche Einbettung $j_{A}: A \\hookrightarrow X$ ist holomorph."
      ]
    },
    {
      "cell_type": "markdown",
      "metadata": {
        "id": "WU-Glg9oxSe6"
      },
      "source": [
        "https://www.spektrum.de/lexikon/mathematik/komplexe-mannigfaltigkeit/6649"
      ]
    },
    {
      "cell_type": "markdown",
      "metadata": {
        "id": "V2cIkYzZvtUh"
      },
      "source": [
        "https://de.wikipedia.org/wiki/Funktionentheorie#Komplexe_Geometrie"
      ]
    },
    {
      "cell_type": "markdown",
      "metadata": {
        "id": "-Hdqmh4cq4nl"
      },
      "source": [
        "**Kähler-Mannigfaltigkeit**"
      ]
    },
    {
      "cell_type": "markdown",
      "metadata": {
        "id": "pT5FlO59qsYT"
      },
      "source": [
        "* Man bezeichnet mit [Kähler-Mannigfaltigkeit](https://de.wikipedia.org/wiki/K%C3%A4hler-Mannigfaltigkeit) eine glatte Mannigfaltigkeit zusammen mit einer komplexen Struktur und einer riemannschen Metrik (im Sinne einer riemannschen Mannigfaltigkeit), die miteinander verträglich sind.\n",
        "\n",
        "* Der Begriff der Kähler-Mannigfaltigkeit findet Anwendung in der Darstellungstheorie von Lie-Gruppen und ist ein zentraler Begriff der geometrischen Quantisierung. Ein auch in der Stringtheorie wichtiges Beispiel für Kähler-Mannigfaltigkeiten sind Calabi-Yau-Mannigfaltigkeiten."
      ]
    },
    {
      "cell_type": "markdown",
      "metadata": {
        "id": "5nbIiGOrrWw2"
      },
      "source": [
        "[Quaternionische Kähler-Mannigfaltigkeit](https://de.wikipedia.org/wiki/Quaternionische_K%C3%A4hler-Mannigfaltigkeit)\n"
      ]
    },
    {
      "cell_type": "markdown",
      "metadata": {
        "id": "bYbiy5emkcnM"
      },
      "source": [
        "## **Chaos Theory & Fractals**"
      ]
    },
    {
      "cell_type": "markdown",
      "metadata": {
        "id": "4JijVDdYpeTw"
      },
      "source": [
        "#### **Chaos Theory**"
      ]
    },
    {
      "cell_type": "markdown",
      "metadata": {
        "id": "vf946YGPkfYP"
      },
      "source": [
        "https://en.m.wikipedia.org/wiki/Chaos_theory"
      ]
    },
    {
      "cell_type": "markdown",
      "metadata": {
        "id": "oHjYrrAv_4gQ"
      },
      "source": [
        "https://en.m.wikipedia.org/wiki/Lyapunov_time"
      ]
    },
    {
      "cell_type": "markdown",
      "metadata": {
        "id": "kyz_N98ZjBEO"
      },
      "source": [
        "https://en.m.wikipedia.org/wiki/Lyapunov_exponent"
      ]
    },
    {
      "cell_type": "markdown",
      "metadata": {
        "id": "JtW7Ki2lAFWG"
      },
      "source": [
        "https://en.m.wikipedia.org/wiki/Supersymmetric_theory_of_stochastic_dynamics"
      ]
    },
    {
      "cell_type": "markdown",
      "metadata": {
        "id": "hpigl7DBWHmm"
      },
      "source": [
        "https://www.quantamagazine.org/chaos-theory-in-ecology-predicts-future-populations-20151013/"
      ]
    },
    {
      "cell_type": "markdown",
      "metadata": {
        "id": "OMvhl1bS9j7Y"
      },
      "source": [
        "https://en.m.wikipedia.org/wiki/Phase_space"
      ]
    },
    {
      "cell_type": "markdown",
      "metadata": {
        "id": "Du80X2o_WpAz"
      },
      "source": [
        "**Julia Set & Fatou Set**"
      ]
    },
    {
      "cell_type": "markdown",
      "metadata": {
        "id": "Lzg0A18pWQO7"
      },
      "source": [
        "https://en.m.wikipedia.org/wiki/Julia_set"
      ]
    },
    {
      "cell_type": "markdown",
      "metadata": {
        "id": "15lYRV7UnwrT"
      },
      "source": [
        "https://en.m.wikipedia.org/wiki/Dynamical_system"
      ]
    },
    {
      "cell_type": "markdown",
      "metadata": {
        "id": "ViHqpm63n0Os"
      },
      "source": [
        "https://en.m.wikipedia.org/wiki/Deterministic_system"
      ]
    },
    {
      "cell_type": "markdown",
      "metadata": {
        "id": "0oJSt90Zne8M"
      },
      "source": [
        "Many phenomena in nature can be described by dynamical systems; chaos theory makes precise the ways in which many of these systems exhibit unpredictable yet still deterministic behavior."
      ]
    },
    {
      "cell_type": "markdown",
      "metadata": {
        "id": "zRnrU0ltn6pQ"
      },
      "source": [
        "https://en.m.wikipedia.org/wiki/Mathematics#Pure_mathematics"
      ]
    },
    {
      "cell_type": "markdown",
      "metadata": {
        "id": "yAfkwYDoFmEs"
      },
      "source": [
        "**Komplexes System**"
      ]
    },
    {
      "cell_type": "markdown",
      "metadata": {
        "id": "3YzAyotrq51A"
      },
      "source": [
        "* Complexity theory is rooted in chaos theory bzw: In a sense chaotic systems can be regarded as a subset of complex systems distinguished precisely by this absence of historical dependence. \n",
        "\n",
        "* Chaos is sometimes viewed as extremely complicated information, rather than as an absence of order.\n",
        "\n",
        "* The emergence of complexity theory shows a domain between deterministic order and randomness which is complex. This is referred to as the [\"edge of chaos\"](https://en.wikipedia.org/wiki/Edge_of_chaos).\n",
        "\n",
        "* **When one analyzes complex systems, sensitivity to initial conditions, for example, is not an issue as important as it is within chaos theory, in which it prevails.**\n",
        "\n",
        "https://en.wikipedia.org/wiki/Complex_system#Complexity_and_chaos_theory"
      ]
    },
    {
      "cell_type": "markdown",
      "metadata": {
        "id": "8XhaRvZ0dXcJ"
      },
      "source": [
        "* [Komplexe Systeme](https://de.wikipedia.org/wiki/Komplexes_System) sind Systeme (Gesamtheiten von Objekten, die sich in einem ganzheitlichen Zusammenhang befinden und durch die Wechselbeziehungen untereinander gegenüber ihrer Umgebung abzugrenzen sind), welche sich der Vereinfachung verwehren und vielschichtig bleiben. \n",
        "\n",
        "* Siehe auch [Systemeigenschaften#Komplexität](https://de.wikipedia.org/wiki/Systemeigenschaften#Komplexität)\n",
        "\n",
        "* Insbesondere gehören hierzu die [komplexen adaptiven Systeme](https://de.wikipedia.org/wiki/Komplexes_adaptives_System), die imstande sind, sich an ihre Umgebung anzupassen.\n",
        "\n",
        "* Ihre Analyse ist Sache der [Komplexitätstheorie](https://de.wikipedia.org/wiki/Komplexitätstheorie) (englisch complexity theory) bzw. Systemtheorie.\n",
        "\n",
        "* Komplexe Systeme sind z. B. das Gehirn, das Internet, Finanzmärkte, multinationale Konzerne, aber eben auch das menschliche Nervensystem, der Mensch selbst, Infrastrukturnetze etc."
      ]
    },
    {
      "cell_type": "markdown",
      "metadata": {
        "id": "on4GTn_0efWt"
      },
      "source": [
        "Komplexe Systeme zeigen eine Reihe von Eigenschaften (Auswahl):\n",
        "\n",
        "1. **Agentenbasiert**: Komplexe Systeme bestehen aus einzelnen Teilen, die miteinander in Wechselwirkung stehen (Moleküle, Individuen, Software-Agenten etc.).\n",
        "2. **Nichtlinearität**: Kleine Störungen des Systems oder minimale Unterschiede in den Anfangsbedingungen führen oft zu sehr unterschiedlichen Ergebnissen (Schmetterlingseffekt, Phasenübergänge). Die Wirkzusammenhänge der Systemkomponenten sind im Allgemeinen nichtlinear.\n",
        "3. [**Emergenz**](https://de.wikipedia.org/wiki/Emergenz): Im Gegensatz zu lediglich komplizierten Systemen zeigen komplexe Systeme Emergenz. Entgegen einer verbreiteten Vereinfachung bedeutet Emergenz nicht, dass die Eigenschaften der emergierenden Systemebenen von den darunter liegenden Ebenen vollständig unabhängig sind. Emergente Eigenschaften lassen sich jedoch auch nicht aus der isolierten Analyse des Verhaltens einzelner Systemkomponenten erklären und nur sehr begrenzt ableiten.\n",
        "4. **Wechselwirkung** (Interaktion): Die Wechselwirkungen zwischen den Teilen des Systems (Systemkomponenten) sind lokal, ihre Auswirkungen in der Regel global.\n",
        "5. **Offenes System**: Komplexe Systeme sind üblicherweise offene Systeme. Sie stehen also im Kontakt mit ihrer Umgebung und befinden sich fern vom thermodynamischen Gleichgewicht. Das bedeutet, dass sie von einem permanenten Durchfluss von Energie bzw. Materie abhängen.\n",
        "6. **Selbstorganisation**: Dies ermöglicht die Bildung insgesamt stabiler Strukturen (Selbststabilisierung oder Homöostase), die ihrerseits das thermodynamische Ungleichgewicht aufrechterhalten. Sie sind dabei in der Lage, Informationen zu verarbeiten bzw. zu lernen.\n",
        "7. **Selbstregulation**: Dadurch können sie die Fähigkeit zur inneren Harmonisierung entwickeln. Sie sind also in der Lage, aufgrund der Informationen und derer Verarbeitung das innere Gleichgewicht und Balance zu verstärken.\n",
        "8. **Pfade**: Komplexe Systeme zeigen Pfadabhängigkeit: Ihr zeitliches Verhalten ist nicht nur vom aktuellen Zustand, sondern auch von der Vorgeschichte des Systems abhängig.\n",
        "9. **Attraktoren**: Die meisten komplexen Systeme weisen so genannte Attraktoren auf, d. h., dass das System unabhängig von seinen Anfangsbedingungen bestimmte Zustände oder Zustandsabfolgen anstrebt, wobei diese Zustandsabfolgen auch chaotisch sein können; dies sind die „seltsamen Attraktoren“ der Chaosforschung."
      ]
    },
    {
      "cell_type": "markdown",
      "metadata": {
        "id": "enazi1-1sBBr"
      },
      "source": [
        "Some [complex systems](https://en.wikipedia.org/wiki/Complex_system), for example, are also [complex networks](https://en.wikipedia.org/wiki/Complex_network), which have properties such as phase transitions and power-law degree distributions that readily lend themselves to emergent or chaotic behavior. The fact that the number of edges in a [complete graph](https://en.wikipedia.org/wiki/Complete_graph) grows quadratically in the number of vertices sheds additional light on the source of complexity in large networks: as a network grows, the number of relationships between entities quickly dwarfs the number of entities in the network."
      ]
    },
    {
      "cell_type": "markdown",
      "metadata": {
        "id": "_DcbvY2o-JyH"
      },
      "source": [
        "#### **Dynamisches System**"
      ]
    },
    {
      "cell_type": "markdown",
      "metadata": {
        "id": "xkZ5JGgOF0sg"
      },
      "source": [
        "**Dynamisches System**"
      ]
    },
    {
      "cell_type": "markdown",
      "metadata": {
        "id": "0-OG2Rw8EzzH"
      },
      "source": [
        "* Ein (deterministisches) [dynamisches System](https://de.wikipedia.org/wiki/Dynamisches_System) ist ein mathematisches Modell eines zeitabhängigen Prozesses, der homogen bezüglich der Zeit ist, dessen weiterer Verlauf also nur vom Anfangszustand, aber nicht von der Wahl des Anfangszeitpunkts abhängt. \n",
        "\n",
        "* Dynamische Systeme finden vielfältige Anwendungen auf Prozesse in der Mathematik (z. B. Zahlentheorie, Stochastik), in der Physik (z. B. Pendelbewegung, Klimamodelle) oder in der theoretischen Biologie (z. B. Räuber-Beute-Modelle).\n",
        "\n",
        "* Man unterscheidet zwischen **diskreter und kontinuierlicher Zeitentwicklung**. Bei einem zeitdiskreten dynamischen System ändern sich die Zustände in äquidistanten Zeitsprüngen, d. h. in aufeinanderfolgenden, stets gleich großen zeitlichen Abständen, während die Zustandsänderungen eines zeitkontinuierlichen dynamischen Systems in infinitesimal kleinen Zeitschritten stattfinden. Das wichtigste Beschreibungsmittel für zeitkontinuierliche dynamische Systeme sind **autonome gewöhnliche Differenzialgleichungen**.\n",
        "\n",
        "* Wichtige Fragestellungen im Zusammenhang mit dynamischen Systemen betreffen vor allem ihr Langzeitverhalten (zum Beispiel [Stabilität](https://de.wikipedia.org/wiki/Stabilitätstheorie), [Periodizität](https://de.wikipedia.org/wiki/Periodische_Funktion), [Chaos](https://de.wikipedia.org/wiki/Chaosforschung) und [Ergodizität](https://de.wikipedia.org/wiki/Ergodizität)), die [Systemidentifikation](https://de.wikipedia.org/wiki/Systemidentifikation) und ihre [Regelung](https://de.wikipedia.org/wiki/Regelung_(Natur_und_Technik)).\n",
        "\n",
        "* [Dynamik](https://de.wikipedia.org/wiki/Systemeigenschaften#Dynamik) ist gekennzeichnet durch das zeitliche Verhalten des Systems. Statische Systeme zeigen ohne Einflüsse von außen sowohl auf der Makroebene als auch auf der Mikroebene keine Veränderungen (Beispiel: ruhendes Pendel). Dynamische Systeme sind auf der Mikroebene dauernden Veränderungen unterworfen, können aber zumindest zeitweise auf der Makroebene einen stationären Zustand einnehmen (Beispiele: chemische Gleichgewichtsreaktion, Ökosystem Wald). **Ob ein System als statisch oder dynamisch betrachtet wird, hängt vom Zeitmaßstab und von der Zeitdauer der Beobachtung des Systems ab.** Dies wird deutlich bei Systemen im Gleichgewicht, die aber um ihre Gleichgewichtslage schwanken: Ist der Beobachtungszeitraum zu kurz, kann nicht ermittelt werden, ob es sich um Schwankungen um einen Mittelwert handelt oder ob ein ansteigender oder absinkender Trend vorliegt (Beispiel: Klimaschwankungen seit Beginn der direkten Messungen). Wird ein sehr großer Maßstab gewählt, sind die Schwankungen gar nicht feststellbar; das System verhält sich scheinbar statisch."
      ]
    },
    {
      "cell_type": "markdown",
      "metadata": {
        "id": "lrUUwfzwMXIb"
      },
      "source": [
        "Ein dynamisches System ist ein Tripel $(T, X, \\Phi)$, bestehend aus \n",
        "\n",
        "* **Zeitraum**: einer Menge $T=\\mathbb{N}_{0}, \\mathbb{Z}, \\mathbb{R}_{0}^{+}$ oder $\\mathbb{R}$, \n",
        "* **Zustandsraum** (dem Phasenraum): einer nichtleeren Menge $X$, \n",
        "* **Operation** $\\Phi: T \\times X \\rightarrow X$ von $T$ auf $X,$ \n",
        "\n",
        "so dass für alle Zustände $x \\in X$ und alle Zeitpunkte $t, s \\in T$ gilt:\n",
        "\n",
        "1. **Identitätseigenschaft**: $\\Phi(0, x)=x$\n",
        "\n",
        "2. **Halbgruppeneigenschaft**: $\\Phi(s, \\Phi(t, x))=\\Phi(s+t, x)$\n",
        "\n",
        "Wenn $T=\\mathbb{N}_{0}$ oder $T=\\mathbb{Z}$ ist, dann heißt $(T, X, \\Phi)$ **zeitdiskret** oder kurz diskret, und mit $T=\\mathbb{R}_{0}^{+}$ oder $T=\\mathbb{R}$ nennt man $(T, X, \\Phi)$ **zeitkontinuierlich** oder kontinuierlich. \n",
        "\n",
        "$(T, X, \\Phi)$ wird außerdem als diskretes oder kontinuierliches dynamisches System für reelle Zeit oder als invertierbar bezeichnet, falls $T=\\mathbb{Z}$ bzw. $T=\\mathbb{R}$ gilt."
      ]
    },
    {
      "cell_type": "markdown",
      "metadata": {
        "id": "gZET2JecNqP5"
      },
      "source": [
        "* Für jedes $x \\in X$ heißt die Abbildung $\\beta_{x}: T \\rightarrow X, t \\mapsto \\beta_{x}(t):=\\Phi(t, x)$ die Bewegung von $x=\\beta_{x}(0),$ und\n",
        "die Menge $O(x):=\\left\\{\\beta_{x}(t) \\mid t \\in T\\right\\}$ wird die Bahn (der (volle) Orbit, die Trajektorie, die Phasenkurve, die Bahnkurve, die Lösungskurve) von $x$ genannt. \n",
        "\n",
        "* Der positive Halborbit oder Vorwärtsorbit von $x$ ist $O^{+}(x):=\\left\\{\\beta_{x}(t) \\mid t \\in T \\cap \\mathbb{R}_{0}^{+}\\right\\}$ und, falls $(T, X, \\Phi)$ invertierbar ist, ist\n",
        "$O^{-}(x):=\\left\\{\\beta_{x}(t) \\mid-t \\in T \\cap \\mathbb{R}_{0}^{+}\\right\\}$ der negative Halborbit oder\n",
        "Rückwärtsorbit von $x .$"
      ]
    },
    {
      "cell_type": "markdown",
      "metadata": {
        "id": "HjjRXC07NssR"
      },
      "source": [
        "* Ein diskretes dynamisches System $(T, X, \\Phi)$ ist stetig, wenn sein Zustandsraum $X$ ein (nichtleerer) **metrischer Raum** ist und wenn jede zu einem Zeitpunkt $t \\in T$ gehörende Transformation $\\varphi_{t}: X \\rightarrow X, x \\mapsto \\varphi_{t}(x):=\\Phi(t, x),$ stetig ist.\n",
        "\n",
        "* Man nennt ein kontinuierliches dynamisches System $(T, X, \\Phi)$ stetig oder einen [Halbfluss](https://de.wikipedia.org/wiki/Fluss_(Mathematik)), wenn sein Zustandsraum $X$ ein metrischer Raum ist und wenn\n",
        "jede zu einem Zeitpunkt gehörende Transformation sowie jede Bewegung eines Zustands stetig ist. \n",
        "\n",
        "* Außerdem nennt man ein stetiges diskretes dynamisches System $(\\mathbb{Z}, X, \\Phi)$ auch eine Kaskade und einen Halbfluss $(\\mathbb{R}, X, \\Phi)$ einen Fluss. \n",
        "\n",
        "* Der Zustandsraum eines stetigen dynamischen Systems wird auch als [Phasenraum](https://de.wikipedia.org/wiki/Phasenraum) und von jedem $x_{0} \\in X$ der Orbit als die Phasenkurve oder Trajektorie von $x_{0}$ bezeichnet, die einfach $x: t \\mapsto x(t)$ geschrieben wird mit $x(0)=x_{0}$."
      ]
    },
    {
      "cell_type": "markdown",
      "metadata": {
        "id": "CavQUAbfJuQs"
      },
      "source": [
        "**Beispiel: Exponentielles Wachstum**\n",
        "\n",
        "Die charakterisierende Eigenschaft eines dynamischen Systems ist, dass **der Zustand zwar von der verstrichenen Zeit $t \\in T$ und vom Anfangswert $x_{0} \\in X$ abhängt, jedoch nicht von der Wahl der Anfangszeitpunkts**. \n",
        "\n",
        "Sei etwa $y_{0}, y_{1}, y_{2}, \\ldots$ eine weitere exponentiell wachsende Population mit dem gleichen Wachstumsfaktor $a$, aber mit dem Anfangswert $y_{0}=x_{t}$ gegeben. Zu einem Zeitpunkt $s \\in T$ gilt dann\n",
        "\n",
        ">$\n",
        "y_{s}=a^{s} y_{0}=a^{s} a^{t} x_{0}=a^{s+t} x_{0}=x_{s+t}\n",
        "$\n",
        "\n",
        "Die zweite Population wächst also im Zeitabschnitt $[0, s]$ genauso wie die erste im Zeitabschnitt $[t, s+t]$. \n",
        "\n",
        "Dieses Verhalten lässt sich noch anders ausdrücken: Die sogenannte **Flussfunktion** $\\Phi: T \\times X \\rightarrow X$, die jedem Zeitpunkt $t \\in T$ und jedem Anfangszustand $x \\in X$ den Zustand $\\Phi(t, x)$ zum Zeitpunkt $t$ zuordnet, hier also $\\Phi(t, x)=a^{t} x,$ erfüllt für alle $s, t \\in T$ und alle $x \\in X$ die Gleichung\n",
        "\n",
        ">$\n",
        "\\Phi(s, \\Phi(t, x))=\\Phi(s+t, x)\n",
        "$\n",
        "\n",
        "Das ist die sogenannte **Halbgruppeneigenschaft des Flusses eines dynamischen Systems**."
      ]
    },
    {
      "cell_type": "markdown",
      "metadata": {
        "id": "VvJa1SUhKwnk"
      },
      "source": [
        "**Beispiel: Federpendel**\n",
        "\n",
        "Der Zustand eines solchen Systems zu einem Zeitpunkt $t \\in T=[0, \\infty)$ ist gegeben als das geordnete Paar $(x(t), v(t))$, bestehend aus dem Ort $x(t)$ und der Geschwindigkeit $v(t)$. Insbesondere ist dann **der gesamte Bewegungsablauf durch die Vorgabe einer Anfangsposition $x(0)=x_{0}$ zusammen mit einer Anfangsgeschwindigkeit $v(0)=v_{0}$ eindeutig bestimmt** (daher deterministisch und nicht stochastisch!). Im Fall einer eindimensionalen Bewegung ist somit der Zustandsraum $X=\\mathbb{R}^{2}$.\n",
        "\n",
        "Als konkretes Beispiel soll ein Federpendel betrachtet werden, auf dessen Massestück mit der Masse $m$ die Rückstellkraft der Feder sowie möglicherweise eine geschwindigkeitsabhängige Reibungskraft einwirkt. Bezeichnet man die Gesamtkraft mit $F(x(t), v(t)),$ so ergibt sich für den Zustand das gewöhnliche Differentialgleichungssystem\n",
        "\n",
        ">$\n",
        "\\begin{aligned}\n",
        "\\dot{x}(t) &=v(t) \\\\\n",
        "\\dot{v}(t) &=\\frac{1}{m} F(x(t), v(t))\n",
        "\\end{aligned}\n",
        "$\n",
        "\n",
        "wobei der Punkt über den Variablen die Ableitung nach der - in diesem Beispiel kontinuierlichen - Zeit bezeichnet. Die erste Gleichung besagt, dass die\n",
        "Geschwindigkeit die Ableitung des Ortes nach der Zeit ist, und die zweite ergibt sich direkt aus dem zweiten newtonschen Axiom, nach dem Masse mal Beschleunigung gleich der auf den Massepunkt wirkenden Gesamtkraft ist."
      ]
    },
    {
      "cell_type": "markdown",
      "metadata": {
        "id": "TwJhXPAYMH5y"
      },
      "source": [
        "Es lässt sich zeigen, dass auch bei diesem System der Fluss\n",
        "\n",
        ">$\n",
        "\\Phi: T \\times X \\rightarrow X, \\quad \\Phi\\left(t, x_{0}, v_{0}\\right)=(x(t), v(t))\n",
        "$\n",
        "\n",
        "die **Halbgruppeneigenschaft** erfüllt. Betrachtet man den Verlauf des Systemzustandes im Zustandsraum $X=\\mathbb{R}^{2},$ also die sogenannte $\\mathrm{Bahn}$ $\\left\\{(x(t), v(t)) \\in \\mathbb{R}^{2} \\mid t \\geq 0\\right\\},$ so ergibt sich bei einer **gedämpften Schwingung des Federpendels eine Trajektorie**, die spiralförmig auf die Ruhelage (0,0) zuläuft."
      ]
    },
    {
      "cell_type": "markdown",
      "metadata": {
        "id": "VMXeo-KcVurT"
      },
      "source": [
        "**Phasenraum und Trajektorie**"
      ]
    },
    {
      "cell_type": "markdown",
      "metadata": {
        "id": "fYGXfTQpV2tS"
      },
      "source": [
        "* Der [Phasenraum](https://de.wikipedia.org/wiki/Phasenraum) beschreibt die Menge aller möglichen Zustände eines dynamischen Systems. Ein Zustand wird durch einen Punkt im Phasenraum eindeutig abgebildet. \n",
        "\n",
        "* In der Mechanik besteht er aus verallgemeinerten Koordinaten (Konfigurationsraum) und zugehörigen verallgemeinerten Geschwindigkeiten (siehe Prinzip der virtuellen Leistung).\n",
        "\n",
        "* Die zeitliche Entwicklung eines Punktes im Phasenraum wird durch **Differentialgleichungen** beschrieben und durch **Trajektorien** (Bahnkurven, Orbit) im Phasenraum dargestellt. Dies sind **Differentialgleichungen erster Ordnung in der Zeit** und durch einen Anfangspunkt eindeutig festgelegt (ist die Differentialgleichung zeitunabhängig, sind dies **autonome Differentialgleichungen**). Dementsprechend kreuzen sich zwei Trajektorien im Phasenraum auch nicht, da an einem Kreuzungspunkt der weitere Verlauf nicht eindeutig ist. Geschlossene Kurven beschreiben oszillierende (periodische) Systeme.\n"
      ]
    },
    {
      "cell_type": "markdown",
      "metadata": {
        "id": "WGBpHADjWBSt"
      },
      "source": [
        "*Konstruktion eines Phasen(raum)porträts für ein [mathematisches Pendel](https://de.wikipedia.org/wiki/Mathematisches_Pendel)*\n",
        "\n",
        "![hh](https://upload.wikimedia.org/wikipedia/commons/c/cd/Pendulum_phase_portrait_illustration.svg)"
      ]
    },
    {
      "cell_type": "markdown",
      "metadata": {
        "id": "uPNSndPtbrJ0"
      },
      "source": [
        "**Fluss**"
      ]
    },
    {
      "cell_type": "markdown",
      "metadata": {
        "id": "LclyTUbSbssP"
      },
      "source": [
        "* Das Konzept eines [(Phasen-)Flusses](https://de.wikipedia.org/wiki/Fluss_(Mathematik)) in der Mathematik ermöglicht die **Beschreibung zeitabhängiger (System-)Zustände**. Es ist deshalb vor allem für die **Analyse gewöhnlicher Differentialgleichungen** von Bedeutung und findet damit Anwendung in vielen Bereichen der Mathematik und Physik. \n",
        "\n",
        "* Formal ist der Fluss eine Operation einer Parameterhalbgruppe $(\\Gamma,+)$ auf einer Menge\n",
        "$X$. Meist, insbesondere in der Theorie der Gewöhnlichen Differentialgleichungen, wird unter einem Fluss eine Operation der Halbgruppe $\\left(\\mathbb{R}_{\\geq 0},+\\right)$ verstanden.\n",
        "\n",
        "* Im Hinblick auf die Analyse dynamischer Systeme beschreibt der Fluss die **Bewegung im Phasenraum im Laufe der Zeit**. Hierbei spricht man in Abhängigkeit von der Parametermenge $\\Gamma$ von einem kontinuierlichen dynamischen System $(\\Gamma=\\mathbb{R})$ oder einem diskreten dynamischen System $\\Gamma=\\mathbb{N})$\n",
        "\n",
        "\n",
        "Betrachten wir ein System gewöhnlicher Differentialgleichungen\n",
        "\n",
        ">$\n",
        "\\dot{\\mathbf{x}}=\\mathbf{F}(t, \\mathbf{x})\n",
        "$\n",
        "\n",
        "mit $\\mathbf{x} \\in \\mathbb{R}^{n}$ oder einer offenen Teilmenge davon, so werden durch den Phasenfluss die Lösungen dieses Systems in Abhängigkeit vom Anfangszustand angegeben. Man wählt dann oft auch eine implizite Form der Flussangabe und schreibt\n",
        "$\\mathbf{x}(t)$ bzw. $\\mathbf{x}(0)$"
      ]
    },
    {
      "cell_type": "markdown",
      "metadata": {
        "id": "f0edf0aTciqG"
      },
      "source": [
        "Sei $X$ eine Menge, $\\Gamma$ eine Parametermenge. Eine Abbildung\n",
        "\n",
        ">$\n",
        "\\varphi: X \\times \\Gamma \\rightarrow X\n",
        "$\n",
        "\n",
        "heißt Fluss, wenn die folgenden Bedingungen erfüllt sind:\n",
        "\n",
        ">$\n",
        "\\varphi(x, 0)=x \\forall x \\in X\n",
        "$\n",
        "\n",
        "und\n",
        "\n",
        ">$\n",
        "\\varphi(\\varphi(x, s), t)=\\varphi(x, s+t) \\forall x \\in X, s, t \\in \\Gamma\n",
        "$\n",
        "\n",
        "Wir haben also eine [Halbgruppenwirkung](https://de.wikipedia.org/wiki/Halbgruppe).\n",
        "Die Menge\n",
        "\n",
        ">$\n",
        "\\mathcal{O}(x, \\varphi):=\\{\\varphi(x, t) \\mid t \\in \\Gamma\\}\n",
        "$\n",
        "\n",
        "heißt [Orbit](https://de.wikipedia.org/wiki/Gruppenoperation#Bahn) (Gruppenoperation: Bahn) von $x$. Falls die Abbildung $\\varphi: X \\times \\Gamma \\rightarrow X$ differenzierbar ist, spricht man auch von einem differenzierbaren Fluss."
      ]
    },
    {
      "cell_type": "markdown",
      "metadata": {
        "id": "l17CdhRn5_rQ"
      },
      "source": [
        "https://www.quantamagazine.org/with-arithmetic-dynamics-mathematicians-unlock-new-insights-20210222"
      ]
    },
    {
      "cell_type": "markdown",
      "metadata": {
        "id": "JFsothqp6Cav"
      },
      "source": [
        "https://en.m.wikipedia.org/wiki/Arithmetic_dynamics"
      ]
    },
    {
      "cell_type": "markdown",
      "metadata": {
        "id": "gOMKrtkmE8ua"
      },
      "source": [
        "**Determiniertheit in einem System**"
      ]
    },
    {
      "cell_type": "markdown",
      "metadata": {
        "id": "y2IBSmekE68A"
      },
      "source": [
        "* Die [Determiniertheit (als Systemeigenschaft)](https://de.wikipedia.org/wiki/Systemeigenschaften#Determiniertheit) ist der Grad der „Vorbestimmtheit“ des Systems: Ein System geht von einem Zustand Z1 in den Zustand Z2 über: Z1 → Z2. Bei deterministischen Systemen ist dieser Übergang bestimmt (zwingend), bei stochastischen wahrscheinlich.\n",
        "\n",
        "* Deterministische Systeme erlauben prinzipiell die Ableitung ihres Verhaltens aus einem vorherigen Zustand, stochastische Systeme nicht. \n",
        "\n",
        "* Klassische deterministische Systeme erlauben eine eindeutige Bestimmung ihres Zustandes zu jedem Zeitpunkt der Vergangenheit und Zukunft mit hinreichender Genauigkeit (Beispiel: Planetenbewegung). \n",
        "\n",
        "* Hinreichend ist hier bezogen auf menschlich überschaubare, bzw. relevante Zeiträume und Größenordnungen. Die Entwicklung chaotischer Systeme ist nicht immer eindeutig bestimmbar, da alle Parameter mit theoretisch unendlich großer Genauigkeit bekannt sein müssen, sie sind empfindlich gegenüber den Anfangsbedingungen. \n",
        "\n",
        "* Mit geeigneten (mathematischen) Modellen lassen sich relevante Aussagen über Vergangenheit und Zukunft von deterministischen und stochastischen Systemen machen. \n",
        "\n",
        "* **Aus der Komplexität eines Systems lässt sich keine Aussage über die Vorhersagbarkeit treffen**: Es gibt einfache deterministische Systeme, die chaotisch sind (z. B. Doppelpendel) und komplexe deterministische Systeme (Chloroplasten bei der Photosynthese).\n"
      ]
    },
    {
      "cell_type": "markdown",
      "metadata": {
        "id": "fuApQHQBj051"
      },
      "source": [
        "**Ergodizität**"
      ]
    },
    {
      "cell_type": "markdown",
      "metadata": {
        "id": "L6Lh2Avuj3un"
      },
      "source": [
        "https://de.m.wikipedia.org/wiki/Ergodizität"
      ]
    },
    {
      "cell_type": "markdown",
      "metadata": {
        "id": "BlnUe6JakMRT"
      },
      "source": [
        "**Stabilitätstheorie**"
      ]
    },
    {
      "cell_type": "markdown",
      "metadata": {
        "id": "jESOyJ3jkPvD"
      },
      "source": [
        "https://de.m.wikipedia.org/wiki/Stabilitätstheorie"
      ]
    },
    {
      "cell_type": "markdown",
      "metadata": {
        "id": "aMAfpCIkkEH5"
      },
      "source": [
        "**Periodizität**"
      ]
    },
    {
      "cell_type": "markdown",
      "metadata": {
        "id": "rqJFCL_OkHtL"
      },
      "source": [
        "https://de.m.wikipedia.org/wiki/Periodische_Funktion"
      ]
    },
    {
      "cell_type": "markdown",
      "metadata": {
        "id": "m066sar7fCUi"
      },
      "source": [
        "#### **Attraktor**"
      ]
    },
    {
      "cell_type": "markdown",
      "metadata": {
        "id": "cxw1WlN9hhlY"
      },
      "source": [
        "* [Attraktor](https://de.wikipedia.org/wiki/Attraktor) ist ein Begriff aus der Theorie dynamischer Systeme und beschreibt **eine Untermenge eines Phasenraums** (d. h. eine gewisse Anzahl von Zuständen), auf die sich ein dynamisches System im Laufe der Zeit zubewegt und die unter der Dynamik dieses Systems nicht mehr verlassen wird. \n",
        "\n",
        "* Das heißt, eine Menge von Variablen nähert sich im Laufe der Zeit (asymptotisch) einem bestimmten Wert, einer Kurve oder etwas Komplexerem (also einer Region im n-dimensionalen Raum) und bleibt dann im weiteren Zeitverlauf in der Nähe dieses Attraktors.\n",
        "\n",
        "* Bekannte Beispiele sind der [Lorenz-Attraktor](https://de.wikipedia.org/wiki/Lorenz-Attraktor), der [Rössler-Attraktor](https://de.wikipedia.org/wiki/R%C3%B6ssler-Attraktor) und die [Nullstellen](https://de.wikipedia.org/wiki/Nullstelle) einer differenzierbaren Funktion, welche Attraktoren des zugehörigen Newton-Verfahrens sind.\n",
        "\n",
        "* Die Menge aller Punkte des Phasenraums, die unter der Dynamik demselben Attraktor zustreben, heißt Attraktions- oder Einzugsgebiet dieses Attraktors.\n",
        "\n",
        "\n",
        "\n",
        "\n"
      ]
    },
    {
      "cell_type": "markdown",
      "metadata": {
        "id": "WBdZoswqqFDH"
      },
      "source": [
        "Unter einem Attraktor versteht man eine Teilmenge $A \\subseteq X$,\n",
        "die den folgenden Bedingungen genügt\n",
        "1. $A$ ist vorwärts invariant;\n",
        "2. Das Sammelbecken $B(A)$ ist eine Umgebung von $A$;\n",
        "3. $A$ ist eine minimale nicht leere Teilmenge von $X$ mit Bedingungen 1\n",
        "und 2 .\n",
        "\n",
        "Bedingung 1 erfordert eine gewisse Stabilität des Attraktors. Daraus folgt offensichtlich, dass $A \\subseteq B(A)$. Anhand Bedingung 2 wird weiterhin verlangt, dass $A \\subseteq B(A)^{\\circ}$ und bedeutet u. a., jeder Punkt in einer gewissen Nähe von $A$ nähere sich dem Attraktor beliebig. Manche Autoren lassen Bedingung 2 weg. Bedingung 3 erfordert, dass der Attraktor nicht in weitere Komponenten zerlegt werden kann (ansonsten\n",
        "wäre bspw. der ganze Raum trivialerweise ein Attraktor)."
      ]
    },
    {
      "cell_type": "markdown",
      "metadata": {
        "id": "m9Lh73tXqmwo"
      },
      "source": [
        "Formal betrachte man ein **dynamisches System** bestehend aus einem topologischen Raum $X$ und einer Transformation $f: \\mathcal{T} \\times X \\longrightarrow X$, wobei $\\mathcal{T}$ ein linear geordnetes Monoid ist wie $\\mathcal{T}=\\mathbb{N}, \\mathbb{Z},[0, \\infty[$ oder $\\mathbb{R}$ und $f$ normalerweise stetig oder mindestens messbar ist (oder mindestens wird verlangt, dass $f(t, \\cdot): X \\longrightarrow X$ stetig/messbar ist für jedes $t \\in \\mathcal{T}$ ) und erfüllt\n",
        "$f(t+s, x)=f(t, f(s, x))$ für alle »Zeiten « $t, s \\in \\mathcal{T}$\n",
        "und Punkte $x \\in X$.\n",
        "\n",
        "**Definition 1**. Eine Teilmenge $A \\subseteq X$ heißt dann vorwärts\n",
        "invariant, wenn\n",
        "\n",
        ">$\n",
        "\\forall t \\geq 0: f(t, A) \\subseteq A\n",
        "$\n",
        "\n",
        "Mit anderen Worten sobald ein Punkt in einen Attraktor\n",
        "gelangt, entkommt er der Teilmenge nicht.\n",
        "\n",
        "**Definition 2**. Unter dem Sammelbecken einer Teilmenge\n",
        "$A \\subseteq X$ versteht man die Menge\n",
        "\n",
        ">$\n",
        "B(A):=\\left\\{x \\in X \\mid \\forall U \\in \\mathcal{N}(A): \\exists t_{0} \\geq 0: \\forall t \\geq t_{0}:\\right.\n",
        "$\n",
        "\n",
        "wobei $\\mathcal{N}(A)$ die Menge der Umgebungen von $A$ ist. Mit Worten ist ein Punkt, $x \\in X$, in $B(A)$ genau dann, wenn für alle Umgebungen $U$ von $A$ dieser Punkt ab einem Zeitpunkt sich immer in dieser Umgebung aufhält.\n",
        "\n",
        "**Bemerkung**. Im Falle eines kompakten metrisierten Raums $(X, d)$ ist diese Definition äquivalent zu\n",
        "\n",
        ">$\n",
        "B(A):=\\left\\{x \\in X \\mid \\lim _{t \\rightarrow \\infty} d(f(t, x), A)=0\\right\\}\n",
        "$\n",
        "\n",
        "**Bemerkung**. Angenommen, der Raum sei metrisierbar und $A$\n",
        "sei kompakt. Aus der Definition eines Sammelbeckens geht hervor, dass $B(A)$ vorwärts invariant ist und $\\bigcap\\{f(t, B(A)) \\mid t>0\\}=\\bar{A}$. Manche Autoren definieren das Sammelbecken als die (offene) Menge mit diesen beiden Eigenschaften.\n"
      ]
    },
    {
      "cell_type": "markdown",
      "metadata": {
        "id": "AfPQZ219iLIw"
      },
      "source": [
        "**Dynamische Systeme beschreiben Zustandsänderungen in Abhängigkeit von der Zeit t**. Für die mathematische Definition wird das reale System oft in der stark vereinfachten Form eines mathematischen Modells betrachtet. Beispiele sind\n",
        "\n",
        "* das Strömungsverhalten von Flüssigkeiten und Gasen\n",
        "* Bewegungen von Himmelskörpern unter gegenseitiger Beeinflussung durch die Gravitation\n",
        "* Populationsgrößen von Lebewesen unter Berücksichtigung der Räuber-Beute-Beziehung oder\n",
        "* die Entwicklung wirtschaftlicher Kenngrößen unter Einfluss der Marktgesetze.\n",
        "\n",
        "Das Langzeitverhalten eines dynamischen Systems lässt sich durch den globalen Attraktor beschreiben, da bei physikalischen oder technischen Systemen oft **Dissipation vorliegt, insbesondere Reibung**.\n",
        "\n",
        "**Jeder Zustand ist ein Punkt im Phasenraum und wird durch beliebig viele [Zustandsgrößen](https://de.wikipedia.org/wiki/Zustandsgr%C3%B6%C3%9Fe) dargestellt, welche die Dimensionen des Phasenraums bilden.**\n",
        "\n",
        "* kontinuierliche Systeme werden durch Linien (Trajektorien) repräsentiert\n",
        "* diskrete Systeme werden durch Mengen isolierter Punkte repräsentiert."
      ]
    },
    {
      "cell_type": "markdown",
      "metadata": {
        "id": "7urGQ-Mimc1B"
      },
      "source": [
        "**Beispiele sind Attraktoren, die im Phasenraum eine ganzzahlige Dimension besitzen**"
      ]
    },
    {
      "cell_type": "markdown",
      "metadata": {
        "id": "g8cai3DPiwy4"
      },
      "source": [
        "Bei der Untersuchung dynamischer Systeme interessiert man sich – ausgehend von einem bestimmten [Anfangszustand (=Anfangsbedingung)](https://de.wikipedia.org/wiki/Anfangsbedingung) – vor allem für das Verhalten für $t\\to \\infty$ . Der Grenzwert in diesem Fall wird als Attraktor bezeichnet. Typische und häufige Beispiele von Attraktoren sind:\n",
        "\n",
        "* **asymptotisch stabile Fixpunkte**: Das System nähert sich immer stärker einem bestimmten Endzustand an, in dem die Dynamik erliegt; ein statisches System entsteht. Typisches Beispiel ist ein gedämpftes Pendel, das sich dem Ruhezustand im tiefsten Punkt annähert.\n",
        "\n",
        "* **(asymptotisch) stabile Grenzzyklen**: Der Endzustand ist die Abfolge gleicher Zustände, die periodisch durchlaufen werden (periodische Orbits). Ein Beispiel dafür ist die Simulation der Räuber-Beute-Beziehung, die für bestimmte Parameter der Rückkoppelung auf ein periodisches Ansteigen und Sinken der Populationsgrößen hinausläuft.\n",
        "\n",
        "* Für ein hybrides dynamisches System mit chaotischer Dynamik konnte im $\\mathbb {R} ^{n}$ die Oberfläche eines [n-Simplex](https://de.wikipedia.org/wiki/Simplex_(Mathematik)) als Attraktor identifiziert werden: (asymptotisch stabile) Grenztori: Treten mehrere miteinander inkommensurable Frequenzen auf, so ist die Trajektorie nicht geschlossen, und der Attraktor ist ein Grenztorus, der von der Trajektorie asymptotisch vollständig ausgefüllt wird. Die zu diesem Attraktor korrespondierende Zeitreihe ist quasiperiodisch, d. h., es gibt keine echte Periode, aber das Frequenzspektrum besteht aus scharfen Linien.\n",
        "\n",
        "**Diese Beispiele sind Attraktoren, die im Phasenraum eine ganzzahlige Dimension besitzen.**"
      ]
    },
    {
      "cell_type": "markdown",
      "metadata": {
        "id": "sVcrXskTme_C"
      },
      "source": [
        "**Beispiele sind Attraktoren, die im Phasenraum eine fraktale Dimension besitzen**"
      ]
    },
    {
      "cell_type": "markdown",
      "metadata": {
        "id": "qMS8uZlNlFTx"
      },
      "source": [
        "Die Existenz von Attraktoren mit komplizierterer Struktur war zwar schon länger bekannt, man betrachtete sie aber zunächst als instabile Sonderfälle, deren Auftreten nur bei bestimmter Wahl des Ausgangszustands und der Systemparameter beobachtet wird. Dies änderte sich mit der Definition eines neuen, speziellen Typs von Attraktor:\n",
        "\n",
        "* [Seltsamer Attraktor](https://de.wikipedia.org/wiki/Seltsamer_Attraktor): In seinem Endzustand zeigt das System häufig ein chaotisches Verhalten (es gibt jedoch auch Ausnahmen, z. B. quasiperiodisch angetriebene nichtlineare Systeme). \n",
        "\n",
        "* Der seltsame Attraktor lässt sich **nicht in einer geschlossenen geometrischen Form** beschreiben und **besitzt keine ganzzahlige Dimension**. Attraktoren nichtlinearer dynamischer Systeme weisen dann eine **fraktale Struktur** auf. \n",
        "\n",
        "* Wichtiges Merkmal ist das chaotische Verhalten, d. h., jede noch so geringe Änderung des Anfangszustands führt im weiteren Verlauf zu signifikanten Zustandsänderungen. Prominentestes Beispiel ist der **Lorenz-Attraktor, der bei der Modellierung von Luftströmungen in der Atmosphäre entdeckt wurde**."
      ]
    },
    {
      "cell_type": "markdown",
      "metadata": {
        "id": "Oy_2LXvJlrSs"
      },
      "source": [
        "**Strange Attractor**"
      ]
    },
    {
      "cell_type": "markdown",
      "metadata": {
        "id": "D_mjSlSultzR"
      },
      "source": [
        "* Ein [seltsamer Attraktor](https://de.wikipedia.org/wiki/Seltsamer_Attraktor) ist ein Attraktor, also ein Ort im Phasenraum, der den Endzustand eines dynamischen Prozesses darstellt, dessen fraktale Dimension nicht ganzzahlig und dessen Kolmogorov-Entropie echt positiv ist. \n",
        "\n",
        "* Es handelt sich damit um ein Fraktal, das nicht in geschlossener Form geometrisch beschrieben werden kann. Gelegentlich wird auch der Begriff chaotischer Attraktor bevorzugt, da die „Seltsamkeit“ dieses Objekts sich mit den Mitteln der Chaostheorie erklären lässt. Der dynamische Prozess zeigt ein aperiodisches Verhalten.\n",
        "\n"
      ]
    },
    {
      "cell_type": "markdown",
      "metadata": {
        "id": "Yn9Gvo_6Wch2"
      },
      "source": [
        "**Lorenz Attraktor**"
      ]
    },
    {
      "cell_type": "markdown",
      "metadata": {
        "id": "lxAvwOlbmQn8"
      },
      "source": [
        "Der [Lorenz-Attraktor](https://de.wikipedia.org/wiki/Lorenz-Attraktor) (englisch: [Lorenz System](https://en.wikipedia.org/wiki/Lorenz_system))ist der seltsame Attraktor eines Systems von drei gekoppelten, nichtlinearen **gewöhnlichen Differentialgleichungen**:\n",
        "\n",
        "$\\dot{X}=a(Y-X)$\n",
        "\n",
        "$\\dot{Y}=X(b-Z)-Y$\n",
        "\n",
        "$\\dot{Z}=X Y-c Z$\n",
        "\n",
        "* Formuliert wurde das System um 1963 von dem Meteorologen Edward N. Lorenz, der es als Idealisierung eines [hydrodynamischen Systems (Fluiddynamik)](https://de.wikipedia.org/wiki/Fluiddynamik) entwickelte. Basierend auf einer Arbeit von Barry Saltzman (1931–2001) ging es Lorenz dabei um eine Modellierung der Zustände in der Erdatmosphäre zum Zweck einer Langzeitvorhersage. \n",
        "\n",
        "* Allerdings betonte Lorenz, dass das von ihm entwickelte System allenfalls für sehr begrenzte Parameterbereiche von $a,b,c$ realistische Resultate liefert.\n",
        "\n",
        "* Die mathematische Beschreibung des Modells durch die Navier-Stokes-Gleichungen führt über verschiedene Vereinfachungen, beispielsweise endlich abgebrochene Reihendarstellungen, zu dem oben angegebenen Gleichungssystem.\n",
        "\n",
        "* Die numerische Lösung des Systems zeigt bei bestimmten Parameterwerten deterministisch chaotisches Verhalten, die Trajektorien folgen einem seltsamen Attraktor. Damit spielt der Lorenzattraktor für die mathematische Chaostheorie eine Rolle, denn die Gleichungen stellen wohl eines der einfachsten Systeme mit chaotischem Verhalten dar.\n",
        "\n",
        "* Die typische Parametereinstellung mit chaotischer Lösung lautet: $a=10,b=28$ und $c=8/3$, wobei \n",
        "  * $a$ mit der [Prandtl-Zahl](https://de.wikipedia.org/wiki/Prandtl-Zahl) (=dimensionslose Kennzahl von Fluiden, das heißt von Gasen oder tropfbaren Flüssigkeiten. Sie ist definiert als Verhältnis zwischen kinematischer Viskosität und Temperaturleitfähigkeit. Die Prandtl-Zahl stellt die Verknüpfung des Geschwindigkeitfeldes mit dem Temperaturfeld eines Fluids dar.) \n",
        "  * $b$ mit der [Rayleigh-Zahl](https://de.wikipedia.org/wiki/Rayleigh-Zahl) (=eine dimensionslose Kennzahl, die den Charakter der Wärmeübertragung innerhalb eines Fluids beschreibt) identifiziert werden kann."
      ]
    },
    {
      "cell_type": "code",
      "metadata": {
        "colab": {
          "base_uri": "https://localhost:8080/",
          "height": 466
        },
        "id": "sG0iVFcT-CwX",
        "outputId": "afce46c3-fc83-4b7c-8c10-89594b456dc2"
      },
      "source": [
        "import numpy as np\r\n",
        "import matplotlib.pyplot as plt\r\n",
        "import seaborn as sns\r\n",
        "from scipy.integrate import odeint\r\n",
        "from mpl_toolkits.mplot3d import Axes3D\r\n",
        "\r\n",
        "rho = 28.0\r\n",
        "sigma = 10.0\r\n",
        "beta = 8.0 / 3.0\r\n",
        "\r\n",
        "def f(state, t):\r\n",
        "    x, y, z = state  # Unpack the state vector\r\n",
        "    return sigma * (y - x), x * (rho - z) - y, x * y - beta * z  # Derivatives\r\n",
        "\r\n",
        "state0 = [1.0, 1.0, 1.0]\r\n",
        "t = np.arange(0.0, 40.0, 0.01)\r\n",
        "\r\n",
        "states = odeint(f, state0, t)\r\n",
        "\r\n",
        "fig = plt.figure()\r\n",
        "ax = fig.gca(projection=\"3d\")\r\n",
        "ax.plot(states[:, 0], states[:, 1], states[:, 2])\r\n",
        "plt.draw()\r\n",
        "plt.show()\r\n",
        "sns.set(rc={'figure.figsize':(10, 10), \"lines.linewidth\": 1.0})"
      ],
      "execution_count": null,
      "outputs": [
        {
          "output_type": "display_data",
          "data": {
            "image/png": "[encoded data removed]",
            "text/plain": [
              "<Figure size 720x576 with 1 Axes>"
            ]
          },
          "metadata": {
            "tags": []
          }
        }
      ]
    },
    {
      "cell_type": "markdown",
      "metadata": {
        "id": "hIwXOz85zxW_"
      },
      "source": [
        "#### **Fractal Geometry**"
      ]
    },
    {
      "cell_type": "markdown",
      "metadata": {
        "id": "lIpF77OpAFZ4"
      },
      "source": [
        "https://en.wikipedia.org/wiki/Space-filling_curve \n",
        "\n",
        "\n",
        "In particular, the S2 cells are ordered sequentially along a space-filling curve (a type of fractal). The particular curve used by S2 is called the S2 space-filling curve, and consists of six Hilbert curves linked together to form a single continuous loop over the entire sphere. Here is an illustration of the S2 curve after 5 levels of subdivision:\n",
        "\n"
      ]
    },
    {
      "cell_type": "markdown",
      "metadata": {
        "id": "izEi0GSjz33K"
      },
      "source": [
        "https://www.youtube.com/watch?v=gB9n2gHsHN4\n",
        "\n",
        "https://www.youtube.com/watch?v=FFftmWSzgmk\n",
        "\n",
        "https://de.wikipedia.org/wiki/Fraktal"
      ]
    },
    {
      "cell_type": "markdown",
      "metadata": {
        "id": "cbLsj_DNz1a6"
      },
      "source": [
        "* idealization is everything is smooth (rebellion against calculus, differentiable, where assumption is things look smooth if you zoom in enough)\n",
        "\n",
        "* Mandelbrot: nature is fractal (capture roughness)\n",
        "\n",
        "* self-similar shapes give a basis for modeling the regularity in some forms of roughness \n",
        "\n",
        "* but that doesn't mean all is only perfectly self-similar either!! (Perfect self similar are: Von Koch snowflake, Sierpensky triangle)\n",
        "\n",
        "* Fractal dimension: Sierpensky triangle is 1,585 dimensional, Von Koch snowflake is 1,262 dimensional, Britain coast line 1,21 dimensional, Norway: 1,52 dimensional, calm sea 2,05 dimensional, waves 2,3 dimensional\n",
        "\n",
        "* **Fractals are shapes with a non-integer dimension, captures idea of roughness,  but dimension can vary depending on how much you zoom in**. \n",
        "\n",
        "* Approaches: \n",
        "\n",
        "\t* Box routing dimension\n",
        "\t* Information dimension\n",
        "\t* Hausdorff dimension\n",
        "\t* Packing dimension\n",
        "\n",
        "* But a shape is considered a fractal only when the measures dimension stays approximately constant across multiple different scales\n",
        "\n",
        "* **Is it fractal? Yes - probably from nature, No - probably man-made**"
      ]
    },
    {
      "cell_type": "markdown",
      "metadata": {
        "id": "FLRMLXWLqZK-"
      },
      "source": [
        "**Self-Similarity**"
      ]
    },
    {
      "cell_type": "markdown",
      "metadata": {
        "id": "1H-mHksrqc9w"
      },
      "source": [
        "https://en.m.wikipedia.org/wiki/Self-similarity"
      ]
    },
    {
      "cell_type": "markdown",
      "metadata": {
        "id": "nWAQKraBqhh6"
      },
      "source": [
        "**Self-Orgainzation**"
      ]
    },
    {
      "cell_type": "markdown",
      "metadata": {
        "id": "blU1pDtRqlz6"
      },
      "source": [
        "https://en.m.wikipedia.org/wiki/Self-organization"
      ]
    },
    {
      "cell_type": "markdown",
      "metadata": {
        "id": "W15bYgg-qucB"
      },
      "source": [
        "**Feedback Loops**"
      ]
    },
    {
      "cell_type": "markdown",
      "metadata": {
        "id": "VfKqYeTCqxx5"
      },
      "source": [
        "https://en.m.wikipedia.org/wiki/Feedback"
      ]
    }
  ]
}