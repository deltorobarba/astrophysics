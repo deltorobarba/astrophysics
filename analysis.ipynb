{
  "nbformat": 4,
  "nbformat_minor": 0,
  "metadata": {
    "colab": {
      "name": "analysis.ipynb",
      "provenance": [],
      "collapsed_sections": [
        "Y3lDqxrq5MjB",
        "aXtkYuCrMR-l",
        "2MenUOeZ94mb",
        "Gb3y9DgJ0WsY",
        "QmfX-CNmOZGr",
        "l6HivJbCeGfs",
        "phajjQs3MCzs",
        "gjmZZyPHuUbW",
        "Puu7plZhOddK",
        "zgH-0xLyEbqM",
        "gdkIExFtEh8W",
        "zN-mlxJyUxVU",
        "S0BvtcWdDkA6",
        "QwmusuE_vi8z",
        "mBull6DKqU-H",
        "bwYpnVOwaix_",
        "9CK7lhFotFU6",
        "AkGlQfd1yMiD",
        "5cGTdIiSj7T2",
        "Ov6v_nkqxnBn",
        "tmaM6aJEqabp",
        "O3mIl8Xj8Dfs",
        "7anvv0k7qOr4",
        "n7txO-4l254v",
        "c6IYUQudInRI",
        "UBGlUuYsYwrV",
        "EfrXUsI54L2_",
        "kLrvSOUNr1T1",
        "ttEWWgIVr9Sl",
        "3HEOBISTrpoC",
        "u0Zw_t0Ptro-",
        "b2zTmFCuVE-u",
        "x9e3prN3rXj-",
        "UGSV9UrCvfQh",
        "PhQKZZ-1M-GE",
        "Vcm5d0r2fDD0",
        "mAqpVM7nYdgJ",
        "NawRTutVPDUM",
        "0o6ozZvJXdHS",
        "DMbn0EQsWcGh",
        "76yFULrjPgX5",
        "HHvXBMnoRB8h",
        "4NB7LHkmNm_3",
        "amqD-XmcNbdW"
      ],
      "include_colab_link": true
    },
    "kernelspec": {
      "name": "python3",
      "display_name": "Python 3"
    }
  },
  "cells": [
    {
      "cell_type": "markdown",
      "metadata": {
        "id": "view-in-github",
        "colab_type": "text"
      },
      "source": [
        "<a href=\"https://colab.research.google.com/github/deltorobarba/machinelearning/blob/master/analysis.ipynb\" target=\"_parent\"><img src=\"https://colab.research.google.com/assets/colab-badge.svg\" alt=\"Open In Colab\"/></a>"
      ]
    },
    {
      "cell_type": "markdown",
      "metadata": {
        "id": "HjNmcYpFuFTY"
      },
      "source": [
        "# **Higher Analysis**"
      ]
    },
    {
      "cell_type": "code",
      "metadata": {
        "id": "RYViK39mt7Nj",
        "colab": {
          "base_uri": "https://localhost:8080/",
          "height": 35
        },
        "outputId": "0168c965-db78-461b-ba19-50df85a9e604"
      },
      "source": [
        "import numpy as np\n",
        "import pandas as pd\n",
        "import seaborn as sns\n",
        "import matplotlib.pyplot as plt"
      ],
      "execution_count": null,
      "outputs": [
        {
          "output_type": "stream",
          "text": [
            "2.2.0\n"
          ],
          "name": "stdout"
        }
      ]
    },
    {
      "cell_type": "markdown",
      "metadata": {
        "id": "Y3lDqxrq5MjB"
      },
      "source": [
        "## **Differentialgleichung**"
      ]
    },
    {
      "cell_type": "markdown",
      "metadata": {
        "id": "JSntgi3PyqFp"
      },
      "source": [
        "Weitergehende analytische Eigenschaften, wie [Stetigkeit](https://de.wikipedia.org/wiki/Stetige_Funktion), [Differenzierbarkeit](https://de.wikipedia.org/wiki/Differenzierbarkeit) oder [Integrierbarkeit](https://de.wikipedia.org/wiki/Integralrechnung), erfordern auf der Definitionsmenge zumindest eine [topologische](https://de.wikipedia.org/wiki/Topologischer_Raum), [metrische](https://de.wikipedia.org/wiki/Metrischer_Raum) oder [maßtheoretische](https://de.wikipedia.org/wiki/Maßraum) Struktur."
      ]
    },
    {
      "cell_type": "markdown",
      "metadata": {
        "id": "aXtkYuCrMR-l"
      },
      "source": [
        "#### **Funktionalanalysis**"
      ]
    },
    {
      "cell_type": "markdown",
      "metadata": {
        "id": "lRaJUh0m5PR8"
      },
      "source": [
        "**Analysis**\n",
        "\n",
        "Die Begriffe der Norm (als Verallgemeinerung des Betrags), der Konvergenz, der Stetigkeit und der Grenzwerte lassen sich einfach von einer in mehrere Dimensionen verallgemeinern.\n",
        "\n",
        "https://de.m.wikipedia.org/wiki/Analysis\n",
        "\n",
        "* Gewöhnliche Differentialgleichungen, Eindimensionale Differential- & Integralrechnung"
      ]
    },
    {
      "cell_type": "markdown",
      "metadata": {
        "id": "syMDia1r2w89"
      },
      "source": [
        "* Functional analysis is organized around adequate techniques to bring function spaces as topological vector spaces within reach of the ideas that would apply to normed spaces of finite dimension. \n",
        "\n",
        "* Die historischen Wurzeln der Funktionalanalysis liegen im Studium der **Fouriertransformation** und aahnlicher Transformationen sowie der Untersuchung von Differential- und Integralgleichungen. \n",
        "\n",
        "* Der Wortbestandteil ”funktional“ geht auf die **Variationsrechnung** zuru ̈ck.\n",
        "\n",
        "* Grundlage der Funktionalanalysis sind Vektorräume über den reellen oder komplexen Zahlen. Der Grundbegriff ist hier der topologische Vektorraum, der dadurch gekennzeichnet ist, **dass die Vektorraumverknüpfungen stetig sind**, etwas konkreter werden auch lokalkonvexe topologische Vektorräume und Fréchet-Räume untersucht. \n",
        "\n",
        "* Wichtige Aussagen sind dabei der Satz von Hahn-Banach, der Satz von Baire und der Satz von Banach-Steinhaus. Insbesondere in der Lösungstheorie partieller Differentialgleichungen spielen diese eine wichtige Rolle, darüber hinaus in der Fredholm-Theorie.\n",
        "\n",
        "* Der wichtigste Spezialfall **lokalkonvexer topologischer Vektorräume** sind **normierte Vektorräume**. Sind diese zusätzlich vollständig, dann heißen sie **Banachräume**. Noch spezieller betrachtet man **Hilberträume**, bei denen die Norm von einem Skalarprodukt erzeugt wird. Diese Räume sind von grundlegender Bedeutung für die mathematische Formulierung der Quantenmechanik. Ein wichtiger Untersuchungsgegenstand sind stetige lineare Operatoren auf Banach- oder Hilberträumen.\n",
        "\n"
      ]
    },
    {
      "cell_type": "markdown",
      "metadata": {
        "id": "TE7kF3loVHOV"
      },
      "source": [
        "Folgende Themen sollen behandelt werden:\r\n",
        "\r\n",
        "* Distributionen\r\n",
        "* Unbeschränkte Operatoren, Spektralsatz \r\n",
        "* Banach-Räume, Hilbert-Räume (insbesondere Lp- und **Sobolev Räume**) und beschränkte lineare Operatoren darauf.\r\n",
        "* Pseudodifferentialoperatoren\r\n",
        "* Grundlegende Sätze der Funktionalanalysis (Hahn-Banach, Banach-Steinhaus, Satz vom abgeschlossenen Graphen...)\r\n",
        "* Kompakte Operatoren und Fredholm Theorie\r\n",
        "* Spektraltheorie kompakter Operatoren\r\n",
        "* Grundzüge nicht beschränkter Operatoren\r\n",
        "* Anwendungen auf Randwertprobleme elliptischer partieller Differentialgleichungen\r\n"
      ]
    },
    {
      "cell_type": "markdown",
      "metadata": {
        "id": "m_PWlqHc1iRr"
      },
      "source": [
        "Der große Reiz der Funktionalanalysis ist, dass die im Grundstudium erworbenen Konzepte der Analysis (Stetigkeit, Grenzwerte, Vollständigkeit) und Linearen Algebra (Vektorräume, lineare Abbildungen, Eigenwerte) konsequent zusammengeführt werden und gemeinsam eine Theorie liefern, die wiederrum in vielen Bereichen der Mathematik und Physik ein unabdingbares Werkzeug ist. Im Rahmen des Masterschwerpunktes Partielle Differentialgleichungen sollen in dieser Vorlesung insbesondere die Anwendung im Studium partieller Differentialgleichungen im Fokus liegen.\n",
        "\n",
        "\n",
        "**In der Funktionalanalysis betrachtet man topologische Vektorräume, d. h. Vektorräume, auf denen man von Konvergenz sprechen und dementsprechend auch unendliche Summen bilden kann**. Good overview [here](https://matheplanet.com/default3.html?call=article.php?sid=1192&ref=https%3A%2F%2Fwww.google.de%2F)\n",
        "\n",
        "**Das Ziel der Funktionalanalysis** ist es nicht zuletzt, die **<u>Methoden der mehrdimensionalen Analysis auf unendlichdimensionale Räume auszudehnen und dabei insbesondere Konzepte wie Konvergenz, Stetigkeit und Differenzierbarkeit zu untersuchen</u>**. \n",
        "\n",
        "Daher werden a priori **nur Vektorräume betrachtet, die zumindest eine topologische Struktur tragen, also die topologischen Vektorräume**. Zu ihnen zählen unter anderem alle normierten Vektorräume und insbesondere die Banach- und Hilberträume."
      ]
    },
    {
      "cell_type": "markdown",
      "metadata": {
        "id": "1-3oAK-Y8cDo"
      },
      "source": [
        "https://de.m.wikipedia.org/wiki/Nichtstandardanalysis"
      ]
    },
    {
      "cell_type": "markdown",
      "metadata": {
        "id": "2MenUOeZ94mb"
      },
      "source": [
        "#### **Nichtstandardanalysis**"
      ]
    },
    {
      "cell_type": "markdown",
      "metadata": {
        "id": "P6Y_nhc_-u7P"
      },
      "source": [
        "* There are also applications of nonstandard analysis to the theory of stochastic processes, particularly constructions of Brownian motion as random walks. "
      ]
    },
    {
      "cell_type": "markdown",
      "metadata": {
        "id": "Fnbn2KGz-YM5"
      },
      "source": [
        "https://de.m.wikipedia.org/wiki/Nichtstandardanalysis"
      ]
    },
    {
      "cell_type": "markdown",
      "metadata": {
        "id": "vu9AtQtn9-b0"
      },
      "source": [
        "\r\n",
        "https://en.wikipedia.org/wiki/Surreal_number\r\n",
        "\r\n",
        "https://en.wikipedia.org/wiki/Hyperreal_number\r\n",
        "\r\n",
        "https://en.wikipedia.org/wiki/Infinitesimal\r\n"
      ]
    },
    {
      "cell_type": "markdown",
      "metadata": {
        "id": "Gb3y9DgJ0WsY"
      },
      "source": [
        "#### **Differentiationsklasse**"
      ]
    },
    {
      "cell_type": "markdown",
      "metadata": {
        "id": "kMVNVx-U0aex"
      },
      "source": [
        "https://de.wikipedia.org/wiki/Differentiationsklasse"
      ]
    },
    {
      "cell_type": "markdown",
      "metadata": {
        "id": "QmfX-CNmOZGr"
      },
      "source": [
        "#### **Ableitungen**"
      ]
    },
    {
      "cell_type": "markdown",
      "metadata": {
        "id": "hvmNoUK4JpdS"
      },
      "source": [
        "Die Ableitung ist zunächst nur für einen Punkt $\\left(x_{0} \\mid f\\left(x_{0}\\right)\\right)$ auf dem Graphen einer Funktion $f(x)$ bzw. für eine Stelle $x_{0}$ definiert. Sie ist gegeben durch:\n",
        "\n",
        "> $\\lim _{x \\rightarrow x_{0}} \\frac{f(x)-f\\left(x_{0}\\right)}{x-x_{0}}$ oder alternativ $\\lim _{h \\rightarrow 0} \\frac{f\\left(x_{0}+h\\right)-f\\left(x_{0}\\right)}{h}$\n",
        "\n",
        "Anschaulich erhält man durch den [Differenzenquotienten](https://de.serlo.org/mathe/1669/differenzenquotient) die Steigung der Sekante an den Funktionsgraphen von dem Punkt x\n",
        "0\n",
        " und einem anderen Punkt. Die Idee bei beiden Defintionen ist, dass man die Tangente durch Sekanten annähert, indem man den x-Wert des zweiten Punktes immer näher an x\n",
        "0\n",
        " wählt. "
      ]
    },
    {
      "cell_type": "markdown",
      "metadata": {
        "id": "MpnWK1cmKK5d"
      },
      "source": [
        "![ff](https://raw.githubusercontent.com/deltorobarba/repo/master/ableitung.png)\n",
        "\n",
        "*Drittes Bild mit A = B: Die Steigung dieser Tangente ist gleich der Ableitung an der Stelle x0*\n",
        "\n"
      ]
    },
    {
      "cell_type": "markdown",
      "metadata": {
        "id": "f3yAwA1_BLFb"
      },
      "source": [
        "Jede differenzierbare Funktion ist stetig, die Umkehrung gilt jedoch nicht."
      ]
    },
    {
      "cell_type": "markdown",
      "metadata": {
        "id": "M9NhdqqJ_y0C"
      },
      "source": [
        "**Alternative Notationen**"
      ]
    },
    {
      "cell_type": "markdown",
      "metadata": {
        "id": "J1fJyenfAvRg"
      },
      "source": [
        "$f^{\\prime}(x)=\\frac{\\mathrm{d} f}{\\mathrm{~d} x}(x)=\\frac{\\mathrm{d} f(x)}{\\mathrm{d} x}=\\frac{\\mathrm{d}}{\\mathrm{d} x} f(x)$"
      ]
    },
    {
      "cell_type": "markdown",
      "metadata": {
        "id": "SFPb9KMIJBF2"
      },
      "source": [
        "https://de.serlo.org/mathe/1795/ableitung"
      ]
    },
    {
      "cell_type": "markdown",
      "metadata": {
        "id": "Qzrgbw2f8qHA"
      },
      "source": [
        "> Der **Differentenquotient** $\\lim _{h \\rightarrow 0} \\frac{f\\left(x_{0}+h\\right)-f\\left(x_{0}\\right)}{h}$ gibt die Steigung durch 2 Punkte an. Mit lim fur h gegen Null im Differentenquotienten ergibt es den **Differentialquotient** f<sup>'</sup> (x<sub>0</sub>) (erste Ableitung, das ist die Steigung an einer Stelle)."
      ]
    },
    {
      "cell_type": "markdown",
      "metadata": {
        "id": "SWoPgtWy97m0"
      },
      "source": [
        "> Notation mit dem [Differentialoperator](https://www.youtube.com/watch?v=LjeFmpkoUxQ&list=PLLTAHuUj-zHhJSdV8hqWaydgOWjF-fYK0&index=3): $\\frac{\\mathrm{d}}{\\mathrm{~d} x}$ sieht folgendermassen aus: $f^{\\prime}\\left(x\\right)$ = $\\frac{\\mathrm{d}}{\\mathrm{~d} x}\\left(f(x)\\right)$"
      ]
    },
    {
      "cell_type": "markdown",
      "metadata": {
        "id": "UnbYnGzHJG7k"
      },
      "source": [
        "**Mehrfache Ableitungen**\n",
        "\n",
        "* Erste Ableitung gibt die Steigung einer Funktion\n",
        "* Zweite Ableitung: Wann ist die Steigung konstant?\n",
        "* Zum Beispiel ist die erste Ableitung des Orts x(t) nach der Zeit t die Momentangeschwindigkeit, die zweite Ableitung die Beschleunigung."
      ]
    },
    {
      "cell_type": "markdown",
      "metadata": {
        "id": "E0Ql0LAXOfS3"
      },
      "source": [
        "**Von der Ableitung zur Ableitungsfunktion (Die Ableitung als Funktion mit dem Differenzenquotient)**"
      ]
    },
    {
      "cell_type": "markdown",
      "metadata": {
        "id": "EcgNny9VAdc6"
      },
      "source": [
        "Von der Ableitung an einem bestimmten Punkt ist es nur ein kleiner Schritt zur Ableitung auf dem ganzen Definitionsbereich. Denn alle \"normalen\" Funktionen (die in der Schule behandelt werden) besitzen für alle $x \\in D$ den gleichen Differenzenquotienten in Abhängigkeit von $x$. In dem Fall kann man die Ableitungen mit Hilfe der Ableitungsregeln bestimmen.\n",
        "\n",
        "Beispiel mit $f(x)=x^{2}$\n",
        "\n",
        "Wir berechnen die Ableitung der Funktkon $f(x)=x^{2}$ und benutzen die Definition $\\lim _{x \\rightarrow x_{0}} \\frac{f(x)-f\\left(x_{0}\\right)}{x-x_{0}} .$ Mit Hilfe der dritten binomischen Formel bekommen wir für die Ableitung $\\lim _{x \\rightarrow x_{0}} \\frac{x^{2}-x_{0}^{2}}{x-x_{0}}=\\lim _{x \\rightarrow x_{0}} \\frac{\\left(x+x_{0}\\right)\\left(x-x_{0}\\right)}{x-x_{0}}=\\lim _{x \\rightarrow x_{0}}\\left(x+x_{0}\\right)=2 x_{0} .$ Das\n",
        "heißt, dass egal an welchem Punkt $x_{0}$ wir die Ableitung ausrechnen, wir bekommen immer $2 x_{0}$"
      ]
    },
    {
      "cell_type": "markdown",
      "metadata": {
        "id": "VM6pwdZqLhmI"
      },
      "source": [
        "* **Eine Ableitungsfunktion (kurz: Ableitung) ist eine Funktion, die jeder Stelle x0 den Wert ihres Differentialquotienten zuordnet.**\n",
        "\n",
        "* Die Ableitungsfunktion zu einer gegebenen Funktion f ist – vereinfacht ausgedrückt – die Tangentensteigungsfunktion. Das bedeutet: An jeder Stelle x hat die Steigung der Tangente an den Graphen von f einen bestimmten Wert, welcher der Ableitung der Funktion entspricht. Nun kannst du quasi mit einem Lineal den Graphen von f \"abfahren\". Das Lineal soll dabei immer tangential an den Graphen anliegen. Wenn du dann die Steigung des Lineals Punkt für Punkt in ein Diagramm überträgst, erhältst du ein Bild der Ableitungsfunktion. Dabei musst du die Funktionsgleichung selbst nicht kennen, sondern nur den Graphen."
      ]
    },
    {
      "cell_type": "markdown",
      "metadata": {
        "id": "uEtmL-kkCloc"
      },
      "source": [
        "**Definition: Differenzierbarkeit**"
      ]
    },
    {
      "cell_type": "markdown",
      "metadata": {
        "id": "RKcxkknbBh4n"
      },
      "source": [
        "Eine Funktion $f: U \\rightarrow \\mathbb{R},$ die ein **offenes Intervall** $U$ in die reellen Zahlen abbildet, heißt differenzierbar an der Stelle $x_{0} \\in U$, falls der Grenzwert\n",
        "\n",
        "> $\n",
        "\\lim _{x \\rightarrow x_{0}} \\frac{f(x)-f\\left(x_{0}\\right)}{x-x_{0}}=\\lim _{h \\rightarrow 0} \\frac{f\\left(x_{0}+h\\right)-f\\left(x_{0}\\right)}{h} \\quad\\left(\\text { mit } h=x-x_{0}\\right)\n",
        "$\n",
        "\n",
        "existiert. Dieser Grenzwert heißt Differentialquotient oder Ableitung von $f$ nach $x$ an der Stelle $x_{0}$ und wird notiert als\n",
        "\n",
        "> $f^{\\prime}\\left(x_{0}\\right)$ oder $\\left.\\frac{\\mathrm{d} f(x)}{\\mathrm{d} x}\\right|_{x=x_{0}}$ oder $\\frac{\\mathrm{d} f}{\\mathrm{~d} x}\\left(x_{0}\\right)$ oder $\\frac{\\mathrm{d}}{\\mathrm{d} x} f\\left(x_{0}\\right)$"
      ]
    },
    {
      "cell_type": "markdown",
      "metadata": {
        "id": "Z9M3ftNNCcuy"
      },
      "source": [
        "**Eine weitere Definition ist**: Es gibt eine an der Stelle $x_{0}$ stetige Funktion $r$ mit $r\\left(x_{0}\\right)=0$ und eine Konstante $L$, sodass für alle $x$ gilt\n",
        "\n",
        "> $\n",
        "f(x)=f\\left(x_{0}\\right)+L\\left(x-x_{0}\\right)+r(x)\\left(x-x_{0}\\right)\n",
        "$\n",
        "\n",
        "Die Bedingungen $r\\left(x_{0}\\right)=0$ und dass $r$ an der Stelle $x_{0}$ stetig ist, bedeuten gerade, dass das \" Restglied\" $r(x)$ für $x$ gegen $x_{0}$ gegen 0 konvergiert."
      ]
    },
    {
      "cell_type": "markdown",
      "metadata": {
        "id": "l6HivJbCeGfs"
      },
      "source": [
        "#### **Schwache Ableitung**"
      ]
    },
    {
      "cell_type": "markdown",
      "metadata": {
        "id": "v4I7IyMVeJte"
      },
      "source": [
        "* Eine [schwache Ableitung](https://de.wikipedia.org/wiki/Schwache_Ableitung) bzw. [weak derivative](https://en.wikipedia.org/wiki/Weak_derivative) ist in der Funktionalanalysis, einem Teilgebiet der Mathematik, eine Erweiterung des Begriffs der gewöhnlichen (klassischen) Ableitung. \n",
        "\n",
        "* Er ermöglicht es, Funktionen eine Ableitung zuzuordnen, die nicht (stark bzw. im klassischen Sinne) differenzierbar sind.\n",
        "\n",
        "* Schwache Ableitungen spielen eine große Rolle in der Theorie der partiellen Differentialgleichungen. **Räume schwach differenzierbarer Funktionen sind die Sobolev-Räume**. \n",
        "\n",
        "* Ein noch allgemeinerer Begriff der Ableitung ist die Distributionenableitung.\n",
        "\n",
        "* In mathematics, a weak derivative is a generalization of the concept of the derivative of a function (strong derivative) **for functions not assumed differentiable, but only integrable**, i.e., to lie in the $L^{p}$ space $L^{1}([a, b])$. See distributions for a more general definition."
      ]
    },
    {
      "cell_type": "markdown",
      "metadata": {
        "id": "0LrC4fHuJcow"
      },
      "source": [
        "**This concept gives rise to the definition of [weak solutions](https://en.wikipedia.org/wiki/Weak_solution) in Sobolev spaces, which are useful for problems of differential equations and in functional analysis.**"
      ]
    },
    {
      "cell_type": "markdown",
      "metadata": {
        "id": "r3mxaFV-_z_K"
      },
      "source": [
        "Betrachtet man eine auf einem offenen Intervall $I=] a, b[$ differenzierbare Funktion $f$ und\n",
        "eine Testfunktion $\\varphi$ (das heißt, $\\varphi$ ist beliebig oft differenzierbar und besitzt einen kompakten Träger), dann gilt\n",
        "\n",
        ">$\n",
        "\\int_{I} f^{\\prime}(t) \\varphi(t) \\mathrm{d} t=-\\int_{I} f(t) \\varphi^{\\prime}(t) \\mathrm{d} t\n",
        "$\n",
        "\n",
        "Hierbei wurde die partielle Integration verwendet, wobei die Randterme wegfallen $(\\varphi(a)=$ $0, \\varphi(b)=0)$\n",
        "Ist $f$ eine $L^{2}$ -Funktion, dann kann, selbst wenn $f$ nicht differenzierbar ist (genauer: keinen differenzierbaren Vertreter in der Äquivalenzklasse besitzt), eine Funktion $g \\in L^{2}(a, b)$ existieren, die die Gleichung\n",
        "\n",
        "> $\n",
        "\\int_{I} g(t) \\varphi(t) \\mathrm{d} t=-\\int_{I} f(t) \\varphi^{\\prime}(t) \\mathrm{d} t\n",
        "$\n",
        "\n",
        "für jede Testfunktion $\\varphi$ erfüllt. Eine solche Funktion $g$ heißt schwache Ableitung von $f$. Man schreibt wie bei der starken Ableitung $f^{\\prime}:=g$."
      ]
    },
    {
      "cell_type": "markdown",
      "metadata": {
        "id": "JQ9f_6E__b-a"
      },
      "source": [
        "* Ferner **stimmen bei jeder stark differenzierbaren Funktion starke und schwache Ableitung überein**, so dass man von einer Verallgemeinerung des Ableitungsbegriffs sprechen kann. \n",
        "\n",
        "* Im Gegensatz zur starken Ableitung ist die **schwache Ableitung aber nicht punktweise, sondern nur für die ganze Funktion definiert.**\n",
        "\n",
        "* Es ist zu beachten, dass sich die schwache Differenzierbarkeit immer auf die gesamte Funktion bezieht und nicht (wie die gewöhnliche Ableitung) punktweise definiert ist. **Punktweise muss eine Ableitung nicht einmal existieren**. Es lässt sich allerdings zeigen, dass hinreichend oft vorhandene, schwache Differenzierbarkeit auch wieder Differenzierbarkeit im üblichen Sinne (starke oder gewöhnliche Differenzierbarkeit) nach sich zieht. \n",
        "\n",
        "* **D.h. es gibt Einbettungen eines Sobolew-Raums mit $n$ schwachen Ableitungen in Räume $k$ -fach differenzierbarer Funktionen $C^{k}$ mit $n>k \\geq 0$.**\n",
        "\n",
        "* Man kann statt $f, f^{\\prime} \\in L^{2}$ auch allgemeiner $f, f^{\\prime} \\in L^{p}$ für $1 \\leq p \\leq \\infty$ fordern. **Die Teilmenge der Funktionen aus $L^{p}$ in der $n \\geq 1$ schwache Ableitungen existieren ist ein sogenannter Sobolew-Raum.**\n",
        "\n"
      ]
    },
    {
      "cell_type": "markdown",
      "metadata": {
        "id": "dnQyQdvBIVBt"
      },
      "source": [
        "**Examples**: "
      ]
    },
    {
      "cell_type": "markdown",
      "metadata": {
        "id": "_JzbucSUHcx1"
      },
      "source": [
        "The **absolute value function** u : [−1, 1] → [0, 1], u(t) = |t|, which is not differentiable at t = 0, has a weak derivative v known as the [**sign function**](https://de.wikipedia.org/wiki/Vorzeichenfunktion) given by\n",
        "\n",
        "![gg](https://mathepedia.de/img/Abs_x.png)\n",
        "\n",
        "*Signumfunktion als schwache Ableitung der Betragsfunktions*"
      ]
    },
    {
      "cell_type": "markdown",
      "metadata": {
        "id": "lonnjf2vIO3N"
      },
      "source": [
        "The **characteristic function** of the rational numbers $1_{\\mathbb{Q}}$  is nowhere differentiable yet has a weak derivative."
      ]
    },
    {
      "cell_type": "markdown",
      "metadata": {
        "id": "wl-sETcUIL-z"
      },
      "source": [
        "The **Cantor function** c does not have a weak derivative, despite being differentiable almost everywhere. "
      ]
    },
    {
      "cell_type": "markdown",
      "metadata": {
        "id": "phajjQs3MCzs"
      },
      "source": [
        "#### **Schwache Lösung**"
      ]
    },
    {
      "cell_type": "markdown",
      "metadata": {
        "id": "f9NJ-LSwMvyw"
      },
      "source": [
        "* Avoiding the language of distributions, one starts with a differential equation and rewrites it in such a way that **no derivatives of the solution of the equation show up** (the new form is called the weak formulation, and the solutions to it are called weak solutions). \n",
        "\n",
        "* The weak formulation allows one to **find solutions to a differential equation which are not differentiable**.\n",
        "\n",
        "* Weak solutions are important because a great many differential equations encountered in modelling real-world phenomena do not admit of sufficiently smooth solutions, and the only way of solving such equations is using the weak formulation. \n",
        "\n",
        "* Even in situations where an equation does have differentiable solutions, it is often convenient to first prove the existence of weak solutions and only later show that those solutions are in fact smooth enough.\n",
        "\n",
        "The general idea which follows from this example is that, when solving a differential equation in $u,$ **one can rewrite it using a test function $\\varphi,$ such that whatever derivatives in $u$ show up in the equation, they are \"transferred\" via integration by parts to $\\varphi$,** resulting in an equation without derivatives of $u$. This new equation generalizes the original equation to include solutions which are not necessarily differentiable.\n"
      ]
    },
    {
      "cell_type": "markdown",
      "metadata": {
        "id": "EH9kxcz_MFEe"
      },
      "source": [
        "https://de.wikipedia.org/wiki/Schwache_Lösung"
      ]
    },
    {
      "cell_type": "markdown",
      "metadata": {
        "id": "I0Shd3mlMMe6"
      },
      "source": [
        "https://en.wikipedia.org/wiki/Weak_solution"
      ]
    },
    {
      "cell_type": "markdown",
      "metadata": {
        "id": "gjmZZyPHuUbW"
      },
      "source": [
        "#### **Partielle Ableitung**"
      ]
    },
    {
      "cell_type": "markdown",
      "metadata": {
        "id": "sjdC7eHEw1be"
      },
      "source": [
        "Die ersten partiellen Ableitungen lassen sich in einem Vektor anordnen, dem Gradienten von\n",
        "$f:$\n",
        "\n",
        "> $\n",
        "\\operatorname{grad} f=\\nabla f:=\\left(\\frac{\\partial f}{\\partial x_{1}}, \\ldots, \\frac{\\partial f}{\\partial x_{n}}\\right)^{T}\n",
        "$\n",
        "\n",
        "Hierbei ist $\\nabla$ der Nabla-Operator."
      ]
    },
    {
      "cell_type": "markdown",
      "metadata": {
        "id": "HGSYWhoquWuT"
      },
      "source": [
        "https://de.wikipedia.org/wiki/Partielle_Ableitung"
      ]
    },
    {
      "cell_type": "markdown",
      "metadata": {
        "id": "x-VLzJWGxwbO"
      },
      "source": [
        "Die [**Jacobi-Matrix**](https://de.wikipedia.org/wiki/Jacobi-Matrix) (auch Funktionalmatrix, Ableitungsmatrix oder Jacobische genannt) einer differenzierbaren Funktion $f: \\mathbb{R}^{n} \\rightarrow \\mathbb{R}^{m}$ ist die $m \\times n$ -Matrix **sämtlicher erster\n",
        "partieller Ableitungen**. Im Falle der totalen Differenzierbarkeit bildet sie die Matrix-Darstellung der als lineare Abbildung aufgefassten ersten Ableitung der Funktion $f$ bezüglich der Standardbasen des $\\mathbb{R}^{n}$ und des $\\mathbb{R}^{m}$"
      ]
    },
    {
      "cell_type": "markdown",
      "metadata": {
        "id": "EpVRFDNexCy7"
      },
      "source": [
        "Die **zweiten partiellen Ableitungen** lassen sich in einer Matrix anordnen, der [Hesse-Matrix](https://de.wikipedia.org/wiki/Hesse-Matrix)\n",
        "\n",
        "> $\n",
        "\\mathrm{H}_{f}=\\left(\\frac{\\partial^{2} f}{\\partial x_{i} \\partial x_{j}}\\right)=\\left(\\begin{array}{ccc}\n",
        "\\frac{\\partial^{2} f}{\\partial x_{1} \\partial x_{1}} & \\cdots & \\frac{\\partial^{2} f}{\\partial x_{1} \\partial x_{n}} \\\\\n",
        "\\vdots & \\ddots & \\vdots \\\\\n",
        "\\frac{\\partial^{2} f}{\\partial x_{n} \\partial x_{1}} & \\cdots & \\frac{\\partial^{2} f}{\\partial x_{n} \\partial x_{n}}\n",
        "\\end{array}\\right)\n",
        "$"
      ]
    },
    {
      "cell_type": "markdown",
      "metadata": {
        "id": "Puu7plZhOddK"
      },
      "source": [
        "#### **Differentialgleichungen**"
      ]
    },
    {
      "cell_type": "markdown",
      "metadata": {
        "id": "zul9E1ddRafP"
      },
      "source": [
        "* Eine Differentialgleichung ist eine mathematische **Gleichung für eine gesuchte Funktion** von einer oder mehreren Variablen, **in der auch Ableitungen dieser Funktion vorkommen**. Differentialgleichungen sind also Gleichungen, in denen \n",
        "  * **Ableitungen** einer \n",
        "  * **unbekannten Funktion** auftauchen.\n",
        "\n",
        "* Differentialgleichungen werden überall dort verwendet, wo die Änderung einer Größe von der gleichen Größe selbst abhängt. Diese Funktion nutzt man zur Modellierung physikalischer Vorgänge wie Wachstum, Bewegung oder Kräfte. Beispiele:\n",
        "\n",
        "  * Die Funktion f beschreibt den Ort, dann beschreibt die f´ die Änderung des Ortes und das ist nichts anderes, als die Geschwindigkeit. \n",
        "\n",
        "  * Die Funktion f beschreibt die Größe eine Bevölkerung, dann beschreibt f´deren Änderung und das ist nichts anderes als das Bevölkerungswachstum\n",
        "\n",
        "  * Allgemein beschreibt die Funktion f eine Größe und f´die Änderungsrate dieser Größe.\n",
        "\n",
        "* Die **Lösung einer Differentialgleichung** kann im Allgemeinen nicht durch die Gleichung selbst eindeutig bestimmt werden, sondern benötigt zusätzlich noch weitere Anfangs- oder Randwerte zu exakten Bestimmung. Daher ist es nicht möglich, eine allgemein gültige Lösungsmethodik anzugeben. Nur für gewöhnliche, integrable Differentialgleichungen existiert ein allgemeines Lösungsverfahren.\n",
        "Folgende Lösungsverfahren sind möglich:\n",
        "\n",
        "  * Für gewöhnliche Differentialgleichungen benutzt man die **Umkehrung des Differenzierens**, in dem man die Stammfunktion aufsucht und so die Differentialgleichung integriert. Die Lösungsfunktion ist dann einfach die Stammfunktion der Differentialgleichung. Beispiel: f´(x) = 4, dann ist die Stammfunktion F(x) = 4x + C und somit die Lösung der Differentialgleichung.\n",
        "\n",
        "  * Partielle Differentialgleichungen werden in erster Linie durch Trennung der Variablen und spätere Integration gelöst.\n",
        "\n",
        "  * Zum Beispiel durch (n-fache) Integration fur f(x) = x<sup>2</sup> bestimmt man das unbestimmte Integral $y=\\int f(x) \\mathrm{d} x+C$ (Siehe [hier](https://www.lern-online.net/mathematik/analysis/differentialrechnung/differentialgleichung/differentialgleichung-1-ordnung-loesen/) und [hier](https://www.youtube.com/watch?v=wUwxsEbEwHA)).\n",
        "\n",
        "  * **Aber Achtung: ein mathematisches Modell (stetig, differenzierbar) kann die Realität oft nur unzureichend widerspiegeln. Beispiel ist die Zinseszinsrechnung. Oder bei Computern: Ein kontinuierlicher Vorgang wird diskret modelliert, z. B. bei der Simulation von Bewegungen am Computer, da der Computer nur in diskreten Schritten rechnen kann.** ([Source](https://www.spektrum.de/spektrum/projekt2/gaes3.htm))\n",
        "\n",
        "* **Beispiel: Bewegungsgleichung**\n",
        "\n",
        "  * **Gegeben** sind die Beschleunigung = zweifache Ableitung\n",
        "\n",
        "  * **Gesucht** (unbekannte Funktion): Gesucht ist eine Gleichung x(t), die den Ort angibt, an dem sich der fallende Stein zu einer bestimmten Zeit befindet.\n",
        "\n",
        "  * **Lösung**: Integration, und zwar zweifach - Umkehrung der zweifachen Differentiation (hierbei in Gestalt einer Differentialgleichung zweiter Ordnung)\n",
        "  \n",
        "  * Hierbei kann man aus einer gegebenen Beschleunigung auf die Ortsfunktion eines Körpers zurückzuschließen, also wo befindet sich ein fallendes Objekt zum Zeitpunkt t? Man kennt nur Masse und Beschleunigung. Die mathematische Schwierigkeit dieses Problems rührt daher, dass Ort, Geschwindigkeit und Beschleunigung Vektoren sind, die im Allgemeinen nicht in die gleiche Richtung zeigen, und dass die Kraft von der Zeit t und vom Ort ${\\vec {s}}$ abhängen kann.\n",
        "\n",
        "* Siehe auch [weitere Beispiele einfacher Differentialgleichungen aus der Natur](https://www.spektrum.de/spektrum/projekt2/gaes3.htm):\n",
        "\n",
        "  * Radioaktiver Zerfall\n",
        "\n",
        "  * Zinsrechnung\n",
        "\n",
        "* Bei Differentialgleichungen bekommt man dann als Loesung auch eine Funktion und keine Zahl: **Die Lösung einer Differentialgleichung ist immer eine Funktion (oder im Falle eines Systems von Differentialgleichungen mehrere Funktionen). Es ist jedoch nicht jede Differentialgleichung lösbar.** [Source](https://mathepedia.de/Gewoehnliche_Differentialgleichungen.html)\n",
        "\n",
        "* In den Differentialgleichungen werden Funktionen nicht mit f(x), sondern mit y(x) bezeichnet\n",
        "\n",
        "* Da viele Modelle mehrdimensional sind, sind bei der Formulierung häufig die partiellen Ableitungen sehr wichtig, mit denen sich **partielle Differentialgleichungen** formulieren lassen. Mathematisch kompakt werden diese mittels **Differentialoperatoren** beschrieben und analysiert."
      ]
    },
    {
      "cell_type": "markdown",
      "metadata": {
        "id": "iNeDOeNkQgHk"
      },
      "source": [
        "https://www.lernort-mint.de/mathematik/ableitung/differentialgleichungen-verwendung/"
      ]
    },
    {
      "cell_type": "markdown",
      "metadata": {
        "id": "y50_7N7GwZL3"
      },
      "source": [
        "https://www.th-nuernberg.de/fileadmin/fakultaeten/amp/Stry/kapitel10.pdf"
      ]
    },
    {
      "cell_type": "markdown",
      "metadata": {
        "id": "OUTXH7OFASxG"
      },
      "source": [
        "https://avhschule.de/differentialgleichungen/"
      ]
    },
    {
      "cell_type": "markdown",
      "metadata": {
        "id": "lgOVFLp9MmTO"
      },
      "source": [
        "https://de.wikipedia.org/wiki/Differentialrechnung"
      ]
    },
    {
      "cell_type": "markdown",
      "metadata": {
        "id": "zgH-0xLyEbqM"
      },
      "source": [
        "#### **Gewöhnliche Differentialgleichungen** "
      ]
    },
    {
      "cell_type": "markdown",
      "metadata": {
        "id": "TcDCp0rIXcNu"
      },
      "source": [
        "Eine (gewöhnliche) Differentialgleichung erster Ordnung hat die Form \n",
        "\n",
        "> $y^{\\prime}=f(x, y)$ (explizite Form) \n",
        "\n",
        "> $F\\left(x, y, y^{\\prime}\\right)=0$ (implizite Form)\n",
        "\n",
        "(Achtung: y steht hierbei fur eine ganze Funktion, nicht nur einen y-Wert!)\n",
        "\n",
        "Der einfachste Typ einer solchen Differentialgleichung hat die Gestalt:\n",
        "\n",
        "> $\n",
        "y^{\\prime}=f(x)\n",
        "$\n",
        "\n",
        "hängt also nur von $x$ und nicht von $y$ ab. Diese Differentialgleichung kann durch Integrieren gelöst werden. Die allgemeine Lösung ergibt sich dann mit $y=\\int f(x) \\mathrm{d} x+C$. [Source](https://mathepedia.de/DGL_Erster_Ordnung.html)\n",
        "\n",
        "Ist die Differentialgleichung nach der **höchsten Ableitung aufgelöst**, so nennt man die gewöhnliche Differentialgleichung **explizit**, d. h., es gilt:\n",
        "\n",
        "> $y^{(n)}(x)=f\\left(x, y(x), y^{\\prime}(x), \\ldots, y^{(n-1)}(x)\\right)$ bzw.\n",
        "\n",
        "> $y^{(n)}=f\\left(x, y, y^{\\prime}, \\ldots, y^{(n-1)}\\right)$\n",
        "\n",
        "Funktionsgraphen werden in der Regel durch eine Gleichung y=f(x) beschrieben und sind deswegen explizit dargestellte Kurven\n",
        "\n",
        "In den Anwendungen sind explizite gewöhnliche Differentialgleichungen mathematisch einfacher zu verarbeiten. Die höchste vorkommende Ableitungsordnung n wird Ordnung der Differentialgleichung genannt. ([Source](https://de.m.wikipedia.org/wiki/Gewöhnliche_Differentialgleichung))\n",
        "\n",
        "Eine **explizite** gewöhnliche Differentialgleichung 1. Ordnung hat die Gestalt: \n",
        "\n",
        "> $y^{\\prime}(x)=f(x, y(x))$"
      ]
    },
    {
      "cell_type": "markdown",
      "metadata": {
        "id": "qRobucScQj3W"
      },
      "source": [
        "**Implizite gewöhnliche Differentialgleichung**\n",
        "\n",
        "Eine gewöhnliche Differentialgleichung für die gesuchte Funktion $y(x)$ heisst **implizit**, wenn sie in der Form ist:\n",
        "\n",
        "> $F\\left(x, y(x), y^{\\prime}(x), \\ldots, y^{(n)}(x)\\right)=0$\n",
        "\n",
        "* Die implizite Differentiation (auch implizite Ableitung) ist eine Möglichkeit, **eine Funktion, die nicht explizit durch einen Term, sondern nur implizit durch eine Gleichung gegeben ist** (auch implizite Kurve), mit Hilfe der mehrdimensionalen Differentialrechnung abzuleiten. \n",
        "* Sie kann oft auch benutzt werden, um die Ableitung von Funktionen, die zwar explizit gegeben sind, **in dieser Form aber schwierig abzuleiten sind**, zu bestimmen.\n",
        "* Eine implizite Kurve ist in der Mathematik eine Kurve in der euklidischen Ebene, die durch eine Gleichung der Form F(x, y) = 0\n",
        "* Eine implizite Kurve ist also die Gesamtheit der Nullstellen einer Funktion von zwei Variablen. \n",
        "* Implizit bedeutet, dass die Gleichung der Kurve nicht nach x oder y aufgelöst ist.\n",
        "* Siehe auch: [Implizite_Kurve](https://de.wikipedia.org/wiki/Implizite_Kurve) und [Implizite Differentiation](https://de.wikipedia.org/wiki/Implizite_Differentiation)"
      ]
    },
    {
      "cell_type": "markdown",
      "metadata": {
        "id": "kWsfKUCnQmp4"
      },
      "source": [
        "**Explizite gewöhnliche Differentialgleichung**\n",
        "\n",
        "Funktionsgraphen werden in der Regel durch eine Gleichung y=f(x) beschrieben und sind deswegen explizit dargestellte Kurven\n",
        "\n",
        "\n",
        "Ist die Differentialgleichung nach der **höchsten Ableitung aufgelöst**, so nennt man die gewöhnliche Differentialgleichung **explizit**, d. h., es gilt:\n",
        "\n",
        "> $y^{(n)}(x)=f\\left(x, y(x), y^{\\prime}(x), \\ldots, y^{(n-1)}(x)\\right)$ bzw.\n",
        "\n",
        "> $y^{(n)}=f\\left(x, y, y^{\\prime}, \\ldots, y^{(n-1)}\\right)$\n",
        "\n",
        "\n",
        "In den Anwendungen sind explizite gewöhnliche Differentialgleichungen mathematisch einfacher zu verarbeiten. Die höchste vorkommende Ableitungsordnung n wird Ordnung der Differentialgleichung genannt. \n",
        "\n",
        "Eine **explizite** gewöhnliche Differentialgleichung 1. Ordnung hat die Gestalt: \n",
        "\n",
        "> $y^{\\prime}(x)=f(x, y(x))$\n",
        "\n",
        "Extrempunkte: erste Ableitung ist Null."
      ]
    },
    {
      "cell_type": "markdown",
      "metadata": {
        "id": "-65YEbd0SwBp"
      },
      "source": [
        "**Implizit vs explizit**\n",
        "\n",
        "* Eine Funktion kann in Form 𝑦=𝑓(𝑥) dargestellt werden. Das bedeutet, dass diese Funktion nach der Variablen 𝑦 aufgelöst ist. Man spricht in diesem Fall von einer expliziten Darstellung.\n",
        "\n",
        "* Da bei dieser Darstellungsform jedem 𝑥-Wert nur ein 𝑦-Wert zugeordnet wird, können einfache und häufig notwendige Kurven wie Ellipsen oder Kreislinien nicht geschlossen dargestellt werden (zu jedem 𝑥-Wert existieren mehrere 𝑦-Werte), d.h. es wird zur Darstellung mehr als eine Funktion benötigt. Damit für die Darstellung von Ellipsen oder Kreisen nicht mehrere Funktionen aufgestellt werden müssen, kann man diese auch in impliziter Form angeben.\n",
        "\n",
        "* Implizite Darstellung: Bei der impliziten Darstellungsform ist die Funktion nicht nach einer der beiden Variablen aufgelöst. Die Funktion wird als Menge aller Nullstellen von 𝐹 angegeben und hat die Form:\n",
        "\n",
        "> $𝐹 (𝑥,𝑦)=0$\n",
        "\n",
        "* Mit Hilfe der impliziten Darstellung können auch Ellipsen und Kreise dargelegt werden. Anwendungsbeispiele: Um einen Kreis abzubilden, bedarf es bei der expliziten Darstellung zwei Funktionen. \n",
        "\n",
        "https://www.ingenieurkurse.de/hoehere-mathematik-analysis-gewoehnliche-differentialgleichungen/darstellungsarten-ebener-kurven/implizite-und-explizite-darstellung.html"
      ]
    },
    {
      "cell_type": "markdown",
      "metadata": {
        "id": "IZlQP87eROED"
      },
      "source": [
        "**Kurvenschar (Funktionsschar)**"
      ]
    },
    {
      "cell_type": "markdown",
      "metadata": {
        "id": "vC2FVkDNRRdO"
      },
      "source": [
        "* Die Lösungsmenge einer gewöhnlichen Differentialgleichung ist im allgemeinen eine Funktionenschar.\n",
        "\n",
        "* Eine [Kurvenschar](https://de.wikipedia.org/wiki/Kurvenschar), auch [Funktionenschar](https://mathepedia.de/Kurvenscharen.html), Funktionsschar oder Parameterfunktion, ist eine Menge verschiedener Kurven, deren Abbildungsvorschriften sich in mindestens einem Parameter unterscheiden. Sonderfälle sind das Büschel, eine einparametrige Schar, und das Bündel, eine Schar mit einem allen Funktionen gemeinsamen Punkt.\n",
        "\n",
        "![cc](https://upload.wikimedia.org/wikipedia/commons/thumb/2/22/Kurvenschar_parabel.svg/360px-Kurvenschar_parabel.svg.png)\n",
        "\n",
        "*Parabelschar $f_{a}(x)=a x^{2}$. Bündel in (0,0) und Büschel in $a$*\n"
      ]
    },
    {
      "cell_type": "markdown",
      "metadata": {
        "id": "gdkIExFtEh8W"
      },
      "source": [
        "#### **Partielle Differentialgleichung**"
      ]
    },
    {
      "cell_type": "markdown",
      "metadata": {
        "id": "LwhDu5akcQCx"
      },
      "source": [
        "* Partielle Differenzen werden angegeben mit $\\partial$\n",
        "\n",
        "* Erlauterung in [Youtube](https://www.youtube.com/watch?v=ly4S0oi3Yz8)\n",
        "\n",
        "* Ω als Teilmenge von $R$<sup>n</sup> ist als Gebiet offen und zusammenhängend\n",
        "\n",
        "* Offene Mengen sind wichtig fur die Bildung einer Ableitung (weil man ja keinen rand mochte, sondern an jedem Punkt der Menge differenzieren, einen Differenzenquotienten bilden). Man braucht genügend Punkte in der Umgebung - man kann eine Kugel um jeden Punkt legen, der komplett in der Menge Ω liegt (siehe auch Definition von offen in einem metrischen Raum). Offenheitsbedingungen verwenden, um Grenzwerte zu definieren, u.a. von diesen Differenzenquotienten\n",
        "\n",
        "* Zusammenhängend: wählen wir 2 Punkte aus der Menge, finden wir immer einen direkten Weg zwischen ihnen (man kann eine stetige Abbildung vom Intervall Punkt 1 zu Punkt 2 bilden (muss keine Gerade sein).\n",
        "\n",
        "**Eine partielle Differentialgleichung in Ω ist eine Bedingung in der Form:**\n",
        "\n",
        "> $F\\left(x, u, \\left(\\partial^{\\alpha} u\\right)_{1 \\leqslant|\\alpha| \\leq m}\\right)=0$\n",
        "\n",
        "> $(x \\in \\Omega, u: \\Omega \\rightarrow \\mathbb{R}, \\quad \\alpha \\quad$ Multindex $)$\n",
        "\n",
        "**Eine klassische Losung der partiellen Differentialgleichung (PDE) ist:**\n",
        "\n",
        "> $u: \\Omega \\rightarrow \\mathbb{R} \\quad, \\quad u \\in C^{m}(\\Omega)$ mit\n",
        "\n",
        "> $\\forall_{x \\in \\Omega} \\quad F\\left(x, u(x), \\quad\\left(\\partial^{\\alpha} u(x)\\right)_{1 \\leq |\\alpha| \\leq m}\\right)$\n",
        "\n",
        "**Partielle Differentialgleichungen werden in erster Linie durch Trennung der Variablen und spätere Integration gelöst.**\n",
        "\n",
        "Die Zahl m heisst die Ordnung der PDE, wenn sie minimal gewahlt ist."
      ]
    },
    {
      "cell_type": "markdown",
      "metadata": {
        "id": "5LgbB0zJkTri"
      },
      "source": [
        "https://www.youtube.com/watch?v=vBxifpKoVwc&t=25s"
      ]
    },
    {
      "cell_type": "markdown",
      "metadata": {
        "id": "wW0-eczlexDp"
      },
      "source": [
        "**Lineare PDE auf Ω (Gebiet)**"
      ]
    },
    {
      "cell_type": "markdown",
      "metadata": {
        "id": "snEgLyDrKZDK"
      },
      "source": [
        "Sobolevräume sind ein grundlegendes Werkzeug bei der Behandlung von PDG (rein und angewandt)."
      ]
    },
    {
      "cell_type": "markdown",
      "metadata": {
        "id": "BInJzezlpcTk"
      },
      "source": [
        "See also **Variational Formulations** - wichtig fur partielle Differentialgleichungen"
      ]
    },
    {
      "cell_type": "markdown",
      "metadata": {
        "id": "B7dGv8cd5PAq"
      },
      "source": [
        "https://de.wikipedia.org/wiki/Partielle_Differentialgleichung"
      ]
    },
    {
      "cell_type": "markdown",
      "metadata": {
        "id": "j8bIXZBFPx0r"
      },
      "source": [
        "**Euler-Gleichungen**"
      ]
    },
    {
      "cell_type": "markdown",
      "metadata": {
        "id": "_N6Tf-eKPI3y"
      },
      "source": [
        "* Euler-Gleichungen (Strömungsmechanik)\n",
        "\n",
        "* bildet dann ein System von **nichtlinearen partiellen** Differentialgleichungen **erster Ordnung**\n",
        "\n",
        "* Wird die Viskosität vernachlässigt ($\\eta =\\lambda =0$), so erhält man die Euler-Gleichungen (hier für den kompressiblen Fall)\n",
        "\n",
        "> $\\rho \\frac{\\partial \\vec{v}}{\\partial t}+\\rho(\\vec{v} \\cdot \\nabla) \\vec{v}=-\\nabla p+\\vec{f}$\n",
        "\n",
        "https://de.wikipedia.org/wiki/Euler-Gleichungen_(Strömungsmechanik)"
      ]
    },
    {
      "cell_type": "markdown",
      "metadata": {
        "id": "HgKFeXcDPwAv"
      },
      "source": [
        "**Navier-Stokes-Gleichungen**"
      ]
    },
    {
      "cell_type": "markdown",
      "metadata": {
        "id": "v4wALvauPTCj"
      },
      "source": [
        "* Die Gleichungen sind eine **Erweiterung der Euler-Gleichungen** der Strömungsmechanik **um Viskosität beschreibende Terme** (Die Navier-Stokes-Gleichungen beinhalten die Euler-Gleichungen als den Sonderfall, in dem die innere Reibung (Viskosität) und die Wärmeleitung des Fluids vernachlässigt werden.)\n",
        "\n",
        "* bildet dann ein System von **nichtlinearen partiellen** Differentialgleichungen **zweiter Ordnung**\n",
        "\n",
        "* Die Navier-Stokes-Gleichungen bilden das Verhalten von Wasser, Luft und Ölen ab und werden daher in diskretisierter Form bei der Entwicklung von Fahrzeugen wie Autos und Flugzeugen angewendet. \n",
        "\n",
        "* Dies geschieht in Näherungsform, da keine exakten analytischen Lösungen für diese komplizierten Anwendungsfälle bekannt sind.\n",
        "\n",
        "> $\\rho \\overrightarrow{\\vec{v}}=\\rho\\left(\\frac{\\partial \\vec{v}}{\\partial t}+(\\vec{v} \\cdot \\nabla) \\vec{v}\\right)=-\\nabla p+\\mu \\Delta \\vec{v}+(\\lambda+\\mu) \\nabla(\\nabla \\cdot \\vec{v})+\\vec{f}$\n",
        "\n",
        "https://de.wikipedia.org/wiki/Navier-Stokes-Gleichungen"
      ]
    },
    {
      "cell_type": "markdown",
      "metadata": {
        "id": "zN-mlxJyUxVU"
      },
      "source": [
        "#### **Anfangs- & Randwertproblem**"
      ]
    },
    {
      "cell_type": "markdown",
      "metadata": {
        "id": "xbR-3EnGQ33f"
      },
      "source": [
        "Beispielsweise werden alle schwingenden Pendel durch eine Differentialgleichung beschrieben (siehe: Pendelgleichung), und der generelle Bewegungsablauf folgt immer dem gleichen Prinzip. Der konkrete Bewegungsablauf ist jedoch durch die Rand- oder Anfangsbedingung(en) (wann wurde das Pendel angestoßen, und wie weit) bestimmt. Die Lösbarkeit von Anfangswertproblemen bei gewöhnlichen Differentialgleichungen 1. Ordnung wird durch den Satz von Picard-Lindelöf beschrieben.\n",
        "\n",
        "https://mathepedia.de/Gewoehnliche_Differentialgleichungen.html"
      ]
    },
    {
      "cell_type": "markdown",
      "metadata": {
        "id": "THi5Mx3uQyx0"
      },
      "source": [
        "**Randwertproblem**"
      ]
    },
    {
      "cell_type": "markdown",
      "metadata": {
        "id": "aZjLhnrC37pt"
      },
      "source": [
        "* [Randwertprobleme](https://de.m.wikipedia.org/wiki/Randwertproblem) nennt man eine **wichtige Klasse von Problemstellungen**, bei denen zu einer vorgegebenen [Differentialgleichung](https://de.m.wikipedia.org/wiki/Differentialgleichung) Lösungen gesucht werden, die auf dem **Rand des Definitionsbereiches** vorgegebene Funktionswerte (Randbedingungen) annehmen sollen. \n",
        "\n",
        "* Im Falle einer gewöhnlichen Differentialgleichung ist der Definitionsbereich der Funktion ein abgeschlossenes Intervall.\n",
        "\n",
        "* Siehe auch: https://de.wikipedia.org/wiki/Dirichlet-Randbedingung\n",
        "\n",
        "* Beim **Dirichlet-Problem** werden Funktionswerte auf dem Rand vorgegeben. Anstatt Funktionswerten werden beim **Neumann-Problem** Ableitungswerte vorgeschrieben. Die **schiefe Randbedingung** stellt eine Kombination der beiden vorangehenden Probleme dar. Hierbei soll die gesuchte Funktion auf dem Rand gleich ihrer Normalenableitung auf dem Rand sein.\n",
        "\n",
        "* Werden hier statt zwei Werten nur an einem Randpunkt des Intervalles – meistens a – Werte für u und zusätzlich für Ableitungen von u vorgegeben, so spricht man von einem Anfangswertproblem und nennt die vorgegebenen Werte seine Anfangsbedingungen.\n",
        "\n",
        "* Partielle Differentialgleichungen betrachtet man meistens auf Sobolew-Räumen. In diesen Räumen werden Funktionen, die bis auf Nullmengen übereinstimmen, als gleich angesehen. Da der Rand eines Gebietes üblicherweise eine Nullmenge ist, ist der Begriff der Randbedingung problematisch. Lösungen für dieses Problem sind sobolewsche Einbettungssätze oder – allgemeiner – Spuroperatoren.\n",
        "\n",
        "* Randwertaufgaben haben nicht immer eine Lösung (siehe Beispiel unten), im Falle ihrer Existenz ist die Lösung nicht in allen Fällen eindeutig. Die Berechnung einer Näherungslösung für eine Randwertaufgabe mit Mitteln der numerischen Mathematik ist oft aufwendig und läuft meist auf die Lösung sehr großer Gleichungssysteme hinaus."
      ]
    },
    {
      "cell_type": "markdown",
      "metadata": {
        "id": "qKrBEYITQwic"
      },
      "source": [
        "**Anfangswertprobleme (Cauchy-Problem)**"
      ]
    },
    {
      "cell_type": "markdown",
      "metadata": {
        "id": "9ZR3H5KyQ8YZ"
      },
      "source": [
        "* Das Gegenstück zum Randwertproblem ist das [Anfangswertproblem](https://mathepedia.de/Anfangswertprobleme.html) auch [hier](https://de.wikipedia.org/wiki/Anfangswertproblem), bei dem die Lösung für einen beliebigen Punkt im Definitionsbereich vorgegeben wird.\n",
        "\n",
        "* Als Anfangswertproblem bezeichnet eine **wichtige Klasse von Differentialgleichungen**. Die Lösung eines Anfangswertproblems ist die Lösung der Differentialgleichung unter zusätzlicher Berücksichtigung eines vorgegebenen Anfangswertes.\n",
        "\n",
        "* Die Lösungsmenge einer gewöhnlichen Differentialgleichung ist im allgemeinen eine Funktionenschar. Sucht man eine spezielle Lösung (Funktion) so reicht die Vorgabe der Differentialgleichung nicht aus.\n",
        "\n",
        "* Sind neben der Differentialgleichung $F\\left(x, y, y^{\\prime}, \\ldots, y^{(n)}\\right.$) außerdem noch Anfangsbedingungen der Form $\n",
        "y\\left(x_{0}\\right)=c_{0}, y^{\\prime}\\left(x_{0}\\right)=c_{1}, \\ldots, y^{(n)}\\left(x_{0}\\right)=c_{n}$ gegeben, so spricht man von einem Anfangswertproblem.\n",
        "\n",
        "* Beispiel: Allgemeine Lösung der Differentialgleichung $y^{\\prime}=y$ ist $y=C \\mathrm{e}^{x}$. Mit der Anfangsbedingung $y(0)=2$ erhalten wir die Gleichung $2=C \\cdot 1$ und finden $y=2 \\cdot \\mathrm{e}^{x}$ als Lösung des Anfangswertproblems.\n",
        "\n",
        "* Verallgemeinert man das Cauchy-Problem auf mehrere Veränderliche, etwa n Veränderliche $x_{1},\\dotsc ,x_{n}$, so erhält man partielle Differentialgleichungen. "
      ]
    },
    {
      "cell_type": "markdown",
      "metadata": {
        "id": "cPxOFEGHU6-f"
      },
      "source": [
        "Ein Anfangswertproblem **erster Ordnung** ist ein Gleichungssystem, das aus einer gewöhnlichen Differentialgleichung erster Ordnung\n",
        "\n",
        "> $\n",
        "y^{\\prime}(t)=f(t, y(t))\n",
        "$\n",
        "\n",
        "und einer zusätzlichen Anfangsbedingung\n",
        "\n",
        "> $\n",
        "y\\left(t_{0}\\right)=y_{0}\n",
        "$\n",
        "\n",
        "besteht, mit\n",
        "- dem Anfangswert $y_{0}$ und\n",
        "- einem Zeitpunkt $t_{0} \\in \\mathbb{R}$.\n",
        "\n",
        "Eine konkrete Funktion $y$ ist eine Lösung des Anfangswertproblems. wenn sie beide Gleichungen erfüllt. Gesucht ist also eine Funktion $y$, die die **Bedingungen der Differentialgleichung und des Anfangswertes** erfüllt.\n",
        "\n",
        "Ist die Funktion $f$ stetig, so ist dies nach dem Hauptsatz der Integralrechnung genau\n",
        "dann der Fall, wenn\n",
        "\n",
        "> $\n",
        "y(t)=y_{0}+\\int_{t_{0}}^{t} f(s, y(s)) d s\n",
        "$\n",
        "\n",
        "für alle $t$ im Definitionsintervall gilt."
      ]
    },
    {
      "cell_type": "markdown",
      "metadata": {
        "id": "S0BvtcWdDkA6"
      },
      "source": [
        "#### **Charakteristische Gleichung & Methode der Charakteristiken**"
      ]
    },
    {
      "cell_type": "markdown",
      "metadata": {
        "id": "u7fW5fPlDiOl"
      },
      "source": [
        "https://de.wikipedia.org/wiki/Charakteristische_Gleichung"
      ]
    },
    {
      "cell_type": "markdown",
      "metadata": {
        "id": "XWOUvVgEEGAb"
      },
      "source": [
        "**Methode der Charakteristiken**"
      ]
    },
    {
      "cell_type": "markdown",
      "metadata": {
        "id": "3Wx8fLLOESk1"
      },
      "source": [
        "* Die Methode der Charakteristiken ist eine Methode zur Lösung partieller\n",
        "Differentialgleichungen (PDGL/PDE), die typischerweise erster Ordnung und\n",
        "quasilinear sind, also Gleichungen vom Typ\n",
        "\n",
        "> $\n",
        "P(x, t, u) \\frac{\\partial u}{\\partial t}+Q(x, t, u) \\frac{\\partial u}{\\partial x}=R(x, t, u)\n",
        "$\n",
        "\n",
        "* für eine Funktion $u(x, t)$ mit der Anfangsbedingung $u(x, 0)=f(x)$. (Dabei heißt eine Gleichung quasilinear, falls sie in der höchsten Ableitung linear ist).\n",
        "\n",
        "* Die grundlegende Idee besteht darin, **die PDE durch eine geeignete Koordinatentransformation auf ein System gewöhnlicher Differentialgleichungen auf bestimmten Hyperflächen, sogenannten Charakteristiken, zurückzuführen.**\n",
        "\n",
        "* Die PDE kann dann als Anfangswertproblem in dem neuen System mit Anfangswerten auf den die Charakteristik schneidenden Hyperflächen gelöst werden. Störungen breiten sich längs der Charakteristiken aus.\n",
        "\n",
        "* Charakteristiken spielen eine Rolle in der qualitativen Diskussion der Lösung bestimmter PDE und in der Frage, wann Anfangswertprobleme für diese PDE korrekt gestellt sind.\n"
      ]
    },
    {
      "cell_type": "markdown",
      "metadata": {
        "id": "FOOie2DlDnLw"
      },
      "source": [
        "https://en.wikipedia.org/wiki/Method_of_characteristics"
      ]
    },
    {
      "cell_type": "markdown",
      "metadata": {
        "id": "hCG3iyLo1jcj"
      },
      "source": [
        "## **Operatoren & Funktionale**"
      ]
    },
    {
      "cell_type": "markdown",
      "metadata": {
        "id": "QwmusuE_vi8z"
      },
      "source": [
        "#### **Overview Operatoren**"
      ]
    },
    {
      "cell_type": "markdown",
      "metadata": {
        "id": "Jk36BF1D1w6k"
      },
      "source": [
        "**Operatoren sind Abbildungen zwischen Funktionenräumen (um sie von den Elementen von Funktionenräumen zu unterscheiden, die Funktionen heissen).** \n",
        "\n",
        "* Ahnlich wie bei Funktoren, als strukturerhaltende Abbildung zwischen zwei Kategorien, in denen selbst Funktionen existieren).\n",
        "\n",
        "* Ein [Operator](https://de.wikipedia.org/wiki/Operator_(Mathematik)) ist eine mathematische Vorschrift, durch die man aus mathematischen Objekten neue Objekte bilden kann.\n",
        "\n",
        "* Er kann eine standardisierte Funktion oder eine Vorschrift über Funktionen sein. \n",
        "\n",
        "* In der Funktionalanalysis hat man es mit Vektorräumen zu tun, deren Elemente selbst Funktionen sind. Diese Räume nennt man auch [Funktionenräume](https://de.wikipedia.org/wiki/Funktionenraum). Um die Elemente (=Funktionen) dieser Vektorräume besser von den Abbildungen zwischen solchen Vektorräumen zu unterscheiden, nennt man letztere auch Operatoren. \n",
        "\n",
        "* Daher: **Abbildungen zwischen solchen Vektorräumen von Funktionen / Funktionenräumen bezeichnet man auch als Operatoren.**\n",
        "\n",
        "* Beispiele für Operatoren sind:\n",
        "\n",
        "  * Operatoren für die Grundrechenarten: +, -, *, /\n",
        "\n",
        "  * Funktionaloperatoren (im Sinne der Funktionalanalysis): $\\frac{d}{d x} \\int \\nabla$ grad div rot"
      ]
    },
    {
      "cell_type": "markdown",
      "metadata": {
        "id": "KX8x82Y91lKD"
      },
      "source": [
        "![cc](https://raw.githubusercontent.com/deltorobarba/repo/master/operator.png)\n",
        "\n",
        "[Image Source](https://me-lrt.de/operator-linear-beschrankt)"
      ]
    },
    {
      "cell_type": "markdown",
      "metadata": {
        "id": "q1A4i4rhFaBn"
      },
      "source": [
        "**Unterschied Operator und Funktion**: \n",
        "\n",
        "* Was den mathematischen Formalismus angeht, gibt es keinen Unterschied zwischen einem Operator und einer Funktion (und einer Abbildung). \n",
        "\n",
        "* Allerdings gibt es einen 'philosophischen' Unterschied: Operatoren werden meistens für zwei Typen von Funktionen verwendet: a) Grundlegende Rechenoperationen. b) **Funktionen, deren Argumente ebenfalls Funktionen sind**. c) Funktionen in der Meta-Ebene. Mehr dazu steht im bereits verlinkten Wikipedia-Artikel."
      ]
    },
    {
      "cell_type": "markdown",
      "metadata": {
        "id": "mBull6DKqU-H"
      },
      "source": [
        "#### **Differentialoperator**"
      ]
    },
    {
      "cell_type": "markdown",
      "metadata": {
        "id": "8mOs339CCqaB"
      },
      "source": [
        "**Differential- & Nabla-Operator**"
      ]
    },
    {
      "cell_type": "markdown",
      "metadata": {
        "id": "LMHo3RHvGuC9"
      },
      "source": [
        "Der [**Nabla Operator**](https://de.wikipedia.org/wiki/Nabla-Operator) $\\nabla$ ist ein Symbol, das in der Vektor- und Tensoranalysis benutzt wird, **um kontextabhängig einen der drei Differentialoperatoren Gradient, Divergenz oder Rotation zu notieren**. Es ist zur Bestimmung des Gradienten einer mehrdimensionalen Funktion. Mit einem der drei Differentialoperatoren [Gradient](https://de.wikipedia.org/wiki/Gradient_(Mathematik)) (Anwendung im [Gradientenverfahren](https://de.wikipedia.org/wiki/Gradientenverfahren) in der Numerik), [Divergenz](https://de.wikipedia.org/wiki/Divergenz_eines_Vektorfeldes) oder [Rotation](https://de.wikipedia.org/wiki/Rotation_eines_Vektorfeldes) "
      ]
    },
    {
      "cell_type": "markdown",
      "metadata": {
        "id": "7djS_WIYEDqk"
      },
      "source": [
        "https://www.youtube.com/watch?v=YW-bUVIOpB0&t=51s"
      ]
    },
    {
      "cell_type": "markdown",
      "metadata": {
        "id": "qp0fCUaACtzz"
      },
      "source": [
        "* **Differential**: Der [**Differentialoperator**](https://de.wikipedia.org/wiki/Differentialoperator) $\\frac{\\mathrm{d}}{\\mathrm{d} x}$ zur Bildung von [Differentialen](https://de.wikipedia.org/wiki/Differential_(Mathematik)) (ist eine Funktion, die einer Funktion eine Funktion zuordnet und die Ableitung nach einer oder mehreren Variablen enthält.)\n",
        "\n",
        "* [**Nabla Operator**](https://de.wikipedia.org/wiki/Nabla-Operator) $\\nabla$ zur Bestimmung des Gradienten einer mehrdimensionalen Funktion. Mit einem der drei **Differentialoperatoren**.\n",
        "\n",
        "* Der [**Differentialoperator**](https://de.wikipedia.org/wiki/Differentialoperator) $\\frac{\\mathrm{d}}{\\mathrm{d} x}$ zur Bildung von [Differentialen](https://de.wikipedia.org/wiki/Differential_(Mathematik)) (ist eine Funktion, die einer Funktion eine Funktion zuordnet und die Ableitung nach einer oder mehreren Variablen enthält.)\n",
        "  * [Gradient](https://de.wikipedia.org/wiki/Gradient_(Mathematik)): Gibt die Richtung und Stärke des steilsten Anstiegs eines Skalarfeldes an. Der Gradient eines Skalarfeldes ist ein Vektorfeld. $\\operatorname{grad} \\phi:=\\vec{\\nabla} \\phi=\\left(\\begin{array}{c}\\frac{\\partial \\phi}{\\partial x} \\\\ \\frac{\\partial \\phi}{\\partial y} \\\\ \\frac{\\partial \\phi}{\\partial z}\\end{array}\\right)$\n",
        "  * [Divergenz](https://de.wikipedia.org/wiki/Divergenz_eines_Vektorfeldes): Gibt die Tendenz eines Vektorfeldes an, von Punkten wegzufließen. $\\operatorname{div} \\vec{F}:=\\vec{\\nabla} \\cdot \\vec{F}=\\frac{\\partial F_{x}}{\\partial x}+\\frac{\\partial F_{y}}{\\partial y}+\\frac{\\partial F_{z}}{\\partial z}$\n",
        "  * [Rotation](https://de.wikipedia.org/wiki/Rotation_eines_Vektorfeldes): Gibt die Tendenz eines Vektorfeldes an, um Punkte zu rotieren. $\\operatorname{rot} \\vec{F}:=\\vec{\\nabla} \\times \\vec{F}=\\left(\\begin{array}{c}\\frac{\\partial F_{z}}{\\partial y}-\\frac{\\partial F_{y}}{\\partial z} \\\\ \\frac{\\partial F_{x}}{\\partial z}-\\frac{\\partial F_{z}}{\\partial x} \\\\ \\frac{\\partial F_{y}}{\\partial x}-\\frac{\\partial F_{x}}{\\partial y}\\end{array}\\right)$\n",
        "\n",
        "* **Diese drei Rechenoperationen sind in der Vektoranalysis von besonderer Bedeutung**, weil sie Felder produzieren, die sich bei räumlicher Drehung des ursprünglichen Feldes mitdrehen. Operativ formuliert: Bei Gradient, Rotation und Divergenz spielt es keine Rolle, ob sie vor oder nach einer Drehung angewendet werden. Diese Eigenschaft folgt aus den **koordinatenunabhängigen** Definitionen. "
      ]
    },
    {
      "cell_type": "markdown",
      "metadata": {
        "id": "1wrniQU1bLt1"
      },
      "source": [
        "https://www.youtube.com/watch?v=rB83DpBJQsE"
      ]
    },
    {
      "cell_type": "markdown",
      "metadata": {
        "id": "xBPV5D-uD_b7"
      },
      "source": [
        "**Pseudodifferentialoperatoren**"
      ]
    },
    {
      "cell_type": "markdown",
      "metadata": {
        "id": "XM42Ynw8D-JR"
      },
      "source": [
        "* Die [Pseudodifferentialoperatoren](https://de.wikipedia.org/wiki/Pseudodifferentialoperator) sind eine Verallgemeinerung von Differentialoperatoren. Sie ermöglichen, aufbauend auf dem Grundbegriff der Distribution und auf der Fouriertransformation, ein ganz neues Verständnis für die Lösung partieller Differen- tialgleichungen."
      ]
    },
    {
      "cell_type": "markdown",
      "metadata": {
        "id": "bwYpnVOwaix_"
      },
      "source": [
        "#### **Integraloperator**"
      ]
    },
    {
      "cell_type": "markdown",
      "metadata": {
        "id": "SUufrzvG0k9U"
      },
      "source": [
        "https://de.wikipedia.org/wiki/Integraloperator#Integraltransformationen"
      ]
    },
    {
      "cell_type": "markdown",
      "metadata": {
        "id": "BT7Om_iXSlcA"
      },
      "source": [
        "* **Integral**: Der [**Volterraoperator**](https://de.wikipedia.org/wiki/Integraloperator#Volterraoperator) $\\int_{0}^{t}$ zur Bildung des [bestimmten Integrals](https://de.wikipedia.org/wiki/Integralrechnung) (ist ein Beispiel fur einen [Integraloperator](https://de.wikipedia.org/wiki/Integraloperator). Operatoren wie diese, die einer Funktion eine Zahl zuordnen, nennt man [Funktional](https://de.wikipedia.org/wiki/Funktional).\n",
        "\n",
        "  * Die Fourier-Transformation ${\\mathcal {F}}$ ist z.B. ein **linearer Operator** (siehe unten). \n",
        "  \n",
        "* Ein [linearer Integraloperator](https://de.wikipedia.org/wiki/Integraloperator) ist ein mathematisches Objekt aus der Funktionalanalysis. Dieses Objekt ist ein linearer Operator, der mit einer bestimmten Integralschreibweise mit einem Integralkern dargestellt werden kann.\n",
        "\n",
        "Einige Integraloperatoren nennt man traditionell eher [Integraltransformationen](https://de.wikipedia.org/wiki/Integraloperator#Integraltransformationen). Sie spielen zum Beispiel in der Signalverarbeitung eine wesentliche Rolle und dienen der besseren Handhabe und Analyse des Informationsgehaltes eines Signals x.\n",
        "\n",
        "  * [Fourier-Transformation](https://de.m.wikipedia.org/wiki/Fourier-Transformation)\n",
        "\n",
        "  * [Laplace-Transformation](https://de.m.wikipedia.org/wiki/Laplace-Transformation)"
      ]
    },
    {
      "cell_type": "markdown",
      "metadata": {
        "id": "a1O3GLIzydbX"
      },
      "source": [
        "Exkurs: siehe [Liste von Transformationen in der Mathematik](https://de.wikipedia.org/wiki/Liste_von_Transformationen_in_der_Mathematik)"
      ]
    },
    {
      "cell_type": "markdown",
      "metadata": {
        "id": "9CK7lhFotFU6"
      },
      "source": [
        "#### **Uncertainty Principle**"
      ]
    },
    {
      "cell_type": "markdown",
      "metadata": {
        "id": "9GbLrP_B1TV7"
      },
      "source": [
        "https://www.youtube.com/watch?v=MBnnXbOM5S4"
      ]
    },
    {
      "cell_type": "markdown",
      "metadata": {
        "id": "Zq2O_fzItHn5"
      },
      "source": [
        "![cc](https://raw.githubusercontent.com/deltorobarba/repo/master/fourier_01.PNG)"
      ]
    },
    {
      "cell_type": "markdown",
      "metadata": {
        "id": "sMbY7VJbtL7P"
      },
      "source": [
        "![cc](https://raw.githubusercontent.com/deltorobarba/repo/master/fourier_02.png)"
      ]
    },
    {
      "cell_type": "markdown",
      "metadata": {
        "id": "zIjxp_eItPpd"
      },
      "source": [
        "* short signal correlate with a wide range of frequencies, and only wide signals correlate with a short range of frequencies (denser probability)\n",
        "\n",
        "* Fourier transform gives a way to view any signal not only in terms of intensity at each point in time, but instead in terms of strengths of various frequencies within it.\n",
        "\n",
        "* Fourier transform: follow the center of mass of the wound-up graph within frequency F, the position of that center of mass encodes the strengths of that frequency in the original signal\n",
        "\n",
        "* the distance between that center of mass and origin captures the strengths of that frequency and the angle of that center of mass (the horizontal / sine-values at y-axes / imaginary numbers) corresponds to the phase of the given frequency.\n",
        "\n",
        "https://blogs.arubanetworks.com/industries/frequency-cycle-wavelength-amplitude-and-phase/"
      ]
    },
    {
      "cell_type": "markdown",
      "metadata": {
        "id": "k7PjHTH-unrj"
      },
      "source": [
        "![cc](https://raw.githubusercontent.com/deltorobarba/repo/master/fourier_04.png)"
      ]
    },
    {
      "cell_type": "markdown",
      "metadata": {
        "id": "aN6vBU4HupqB"
      },
      "source": [
        "* this graph above says that the dominant frequency of this signal is at 5 beats per second.\n",
        "\n",
        "* equally importantly (the graph below) the fact that it's a little spread out around that five is an indication that pure sine waves near 5 beats per second also correlate pretty well with the signal - that is key for the uncertainty principle !!"
      ]
    },
    {
      "cell_type": "markdown",
      "metadata": {
        "id": "oCo8rXxoukot"
      },
      "source": [
        "![cc](https://raw.githubusercontent.com/deltorobarba/repo/master/fourier_03.png)"
      ]
    },
    {
      "cell_type": "markdown",
      "metadata": {
        "id": "PGuAdWQiwmai"
      },
      "source": [
        "* So what happens of we change the length of the signal? The Fourier transform gets sharper / more confident with a sharp drop-off in the magnitude as the frequency shifts away from the 5 beats per second. \n",
        "\n",
        "* a signal concentrated in time must have a spread out Fourier transform meaning it correlates with a wide range of frequencies"
      ]
    },
    {
      "cell_type": "markdown",
      "metadata": {
        "id": "hyhjIsHOwo4z"
      },
      "source": [
        "![cc](https://raw.githubusercontent.com/deltorobarba/repo/master/fourier_05.png)"
      ]
    },
    {
      "cell_type": "markdown",
      "metadata": {
        "id": "UDGSvVS7wpvk"
      },
      "source": [
        "![cc](https://raw.githubusercontent.com/deltorobarba/repo/master/fourier_06.png)"
      ]
    },
    {
      "cell_type": "markdown",
      "metadata": {
        "id": "r5tmZImQx9sE"
      },
      "source": [
        "* For a long period of time, the area under the 5 beats per second is smaller and sharper, because it is more sure about the result of 5 beats per second given many examples.\n",
        "\n",
        "* If on the other hand the signal was localized to a short period of time, the frequency plot corresponds to a much broader peak around the five beats per second"
      ]
    },
    {
      "cell_type": "markdown",
      "metadata": {
        "id": "My8esM3NxNGK"
      },
      "source": [
        "![cc](https://raw.githubusercontent.com/deltorobarba/repo/master/fourier_07.png)"
      ]
    },
    {
      "cell_type": "markdown",
      "metadata": {
        "id": "IYiMzf7mxOJC"
      },
      "source": [
        "![cc](https://raw.githubusercontent.com/deltorobarba/repo/master/fourier_08.png)"
      ]
    },
    {
      "cell_type": "markdown",
      "metadata": {
        "id": "AkGlQfd1yMiD"
      },
      "source": [
        "#### **Fourier Transform**"
      ]
    },
    {
      "cell_type": "markdown",
      "metadata": {
        "id": "1qH-oTUz1Eq4"
      },
      "source": [
        "Fourier transform: thinking of a wave function in time to a wave function over space. Tells us how much various pure frequencies corresponds with the wave in time. "
      ]
    },
    {
      "cell_type": "markdown",
      "metadata": {
        "id": "48e7bXmM1GPG"
      },
      "source": [
        "![cc](https://raw.githubusercontent.com/deltorobarba/repo/master/fourier_09.png)"
      ]
    },
    {
      "cell_type": "markdown",
      "metadata": {
        "id": "jQEjmTC41Iw_"
      },
      "source": [
        "![cc](https://raw.githubusercontent.com/deltorobarba/repo/master/fourier_10.png)"
      ]
    },
    {
      "cell_type": "markdown",
      "metadata": {
        "id": "NF31Jo3g5Bib"
      },
      "source": [
        "> **Fourier** $\\quad X(\\omega)=\\int_{-\\infty}^{\\infty} x(t) e^{-i \\omega t} d t$"
      ]
    },
    {
      "cell_type": "markdown",
      "metadata": {
        "id": "FVZQtqFt4a3P"
      },
      "source": [
        "- Transform signal intensity (y) on time (x) via a circle to detect the center of mass and display in a new coordinate system to show intensity (y) on frequencies (x) with center of mass. \n",
        "- Circle: complex plane, where center of mass has real (y = cosine) and imaginary part (x = sine)\n",
        "- $e^-2 * \\pi * f * t$ (Euler!)\n",
        "    - Minus sign is for clockwise rotation\n",
        "    - Rotate at a rate of one circle per second\n",
        "    - 2 $pie$ describes the full length of its circumsphere\n",
        "    - t is time past\n",
        "    - f is frequency, if it’s 1/10, then the vector makes one full turn every 10 seconds.\n",
        "- Technically: compute the integral \n",
        "- Frequency function is a complex function!\n",
        "https://www.youtube.com/watch?v=spUNpyF58BY \n",
        "- Cosine: reals, sine: complex, but ignored in Fourier (?)  (with area under curve)\n",
        "https://www.youtube.com/watch?v=3gjJDuCAEQQ&t=267s \n",
        "https://de.wikipedia.org/wiki/Frequenzspektrum#Frequenzspektrum_eines_Zeitsignals\n"
      ]
    },
    {
      "cell_type": "markdown",
      "metadata": {
        "id": "6jwn-XLJRW54"
      },
      "source": [
        "In some texts, for a function $f$ on the input range [0,1] , its Fourier series is presented like this:\n",
        "\n",
        "> $\n",
        "f(t)=\\frac{a_{0}}{2}+\\sum_{n=1}^{\\infty}\\left(a_{n} \\cos (n \\cdot 2 \\pi t)+b_{n} \\sin (n \\cdot 2 \\pi t)\\right)\n",
        "$\n",
        "\n",
        "where\n",
        "\n",
        "> $\n",
        "\\begin{aligned}\n",
        "a_{n} &=2 \\int_{0}^{1} f(t) \\cos (n \\cdot 2 \\pi t) d t \\\\\n",
        "b_{n} &=2 \\int_{0}^{1} f(t) \\sin (n \\cdot 2 \\pi t) d t\n",
        "\\end{aligned}\n",
        "$"
      ]
    },
    {
      "cell_type": "markdown",
      "metadata": {
        "id": "bHxkRX5L1ffl"
      },
      "source": [
        "sin ist hier der Integralkern? [siehe hier](https://de.wikipedia.org/wiki/Integraloperator#Integraltransformationen)"
      ]
    },
    {
      "cell_type": "markdown",
      "metadata": {
        "id": "g5ICsEoyJMnT"
      },
      "source": [
        "[**Fourier-Transformation**](https://de.m.wikipedia.org/wiki/Fourier-Transformation)\n",
        "* is a coordinate transform to make something similar\n",
        "* used for representing data and image compression\n",
        "* approximate solutions for partial differential equations\n",
        "* Fourier used it in heat equation\n",
        "* Fourier transform is a coordinate transform to diagonalize the laplacian operator in heat equation. \n",
        "\n",
        "> The laplacian operator has eigenvalues and eigenfunctions like linear operators, **and the eigenfunctions are sines & cosines with a particular frequency** determined by the boundary conditions and the geometry of this object (i.e. a hot plate), and **corresponding eigenvalues are the spatial frequencies**\n",
        "\n",
        "> **Just like x and y axis form basis for vector spaces, sine and cosine form an orthogonal basis for the function space** (of possible functions)\n",
        "\n",
        "* Make heat equation simpler by transforming it into an eigenvector eigenvalue coordinate system \n",
        "* SVD (singular value decomposition) is like a data driven extension of FFT\n",
        "* **approximate a function by a sum of sines and cosines of increasing high frequencies**. Like in heat equation: Sine gives you position, and it's first derivative (steigung der funktion sinus) its cosine and the second derivative is -sin. \n",
        "\n",
        "* **scales down exponentially (very important!)** ([Video Source](https://www.youtube.com/watch?v=ToIXSwZ1pJU)\n",
        "\n",
        "![pp](https://raw.githubusercontent.com/deltorobarba/repo/master/heatequation.png)\n",
        "\n",
        "* **Fast Fourier Transform** is a newer, but very important approach\n",
        "\n",
        "* Fourier transform laid foundation for function spaces, like Hilbert space (pivotal for understanding quantum mechanics)\n"
      ]
    },
    {
      "cell_type": "markdown",
      "metadata": {
        "id": "HA9H0DWwbHTs"
      },
      "source": [
        "https://www.youtube.com/watch?v=spUNpyF58BY"
      ]
    },
    {
      "cell_type": "markdown",
      "metadata": {
        "id": "acZQX8_eJCkI"
      },
      "source": [
        "* Fourier series are linear, means a + b = sum of both\n",
        "\n",
        "* high frequencies decay faster than low frequencies, leaving them longer stay\n",
        "\n",
        "* Infinite sum of rational numbers is an irrational number (like heading towards pie / 4), the infinite sum of wavy continuous functions can equal a discontinuous flat function (like a step function)\n",
        "\n",
        "**Complexity of decomposition as a sum of many rotations entirely captured in this expression:**\n",
        "\n",
        "> $c_{n}=\\int_{0}^{1} e^{-2 \\pi i n t} f(t) d t$\n",
        "\n",
        "**It treats the path like a complex function, and for a certain range of values for n, it computes the integral to find each coefficient c_n You do that via numerical integration.**\n",
        "\n",
        "After computing the values (number fo coefficients) each one determines the initial angle and mangnitude for the little vectors and then you set them all rotating, adding them all tip to tail. The path drawn out by the final tip is some approximation of the original path. As the number of vectors used approaches infinity, it gets more and more accurate. "
      ]
    },
    {
      "cell_type": "markdown",
      "metadata": {
        "id": "2gCZHW1rQxce"
      },
      "source": [
        "> **$c_{n}=\\int_{0}^{1} \\operatorname{step}(t) e^{-n \\cdot 2 \\pi i t} d t=\\int_{0}^{0.5} 1 \\cdot e^{-n \\cdot 2 \\pi i t} d t+\\int_{0.5}^{1}-1 \\cdot e^{-n \\cdot 2 \\pi i t} d t$**\n",
        "\n",
        "**Challenge 1**: Show that $c_{n}=\\frac{2}{n \\pi i}$ for odd $n$ and 0 otherwise\n",
        "\n",
        "**Challenge 2**: Using $\\sin (x)=\\left(e^{i x}-e^{-i x}\\right) / 2 i$, show that\n",
        "\n",
        "$\n",
        "\\operatorname{step}(t)=\\sum_{n=-\\infty}^{\\infty} c_{n} e^{n \\cdot 2 \\pi i t}=\\sum_{n=1,3,5, \\ldots} \\frac{4}{n \\pi} \\sin (n \\cdot 2 \\pi t)\n",
        "$\n",
        "\n",
        "**Challenge 3**: How can you turn this drawing into an expansion with cosines? (Hint: Draw the sine waves over [0.25, 0.75])"
      ]
    },
    {
      "cell_type": "markdown",
      "metadata": {
        "id": "7SNzEh7GIpZd"
      },
      "source": [
        "https://www.youtube.com/watch?v=r6sGWTCMz2k"
      ]
    },
    {
      "cell_type": "markdown",
      "metadata": {
        "id": "Sx5HONkGJTAY"
      },
      "source": [
        "https://www.youtube.com/watch?v=jNC0jxb0OxE&list=PLMrJAkhIeNNT_Xh3Oy0Y4LTj0Oxo8GqsC"
      ]
    },
    {
      "cell_type": "markdown",
      "metadata": {
        "id": "5cGTdIiSj7T2"
      },
      "source": [
        "#### **Laplace Transform**"
      ]
    },
    {
      "cell_type": "markdown",
      "metadata": {
        "id": "RdzChTAr_hrx"
      },
      "source": [
        "https://www.youtube.com/watch?v=n2y7n6jw5d0"
      ]
    },
    {
      "cell_type": "markdown",
      "metadata": {
        "id": "bVBdixfsApic"
      },
      "source": [
        "Difference Fourier (left) & Laplace (right):"
      ]
    },
    {
      "cell_type": "markdown",
      "metadata": {
        "id": "sdDSJdpPAzMK"
      },
      "source": [
        "![cc](https://raw.githubusercontent.com/deltorobarba/repo/master/laplace_04.png)"
      ]
    },
    {
      "cell_type": "markdown",
      "metadata": {
        "id": "G-S4KCYYBIfv"
      },
      "source": [
        "Fourier (right - here it is including the negative numbers side) and Laplace (left):"
      ]
    },
    {
      "cell_type": "markdown",
      "metadata": {
        "id": "7jR3oMqSBLUl"
      },
      "source": [
        "![cc](https://raw.githubusercontent.com/deltorobarba/repo/master/laplace_05.png)"
      ]
    },
    {
      "cell_type": "markdown",
      "metadata": {
        "id": "sqZ8jJzTBlsP"
      },
      "source": [
        "If Alpha is swept through the plane, we get the entire Laplace transform plot"
      ]
    },
    {
      "cell_type": "markdown",
      "metadata": {
        "id": "OeAsqzfRBtB0"
      },
      "source": [
        "![cc](https://raw.githubusercontent.com/deltorobarba/repo/master/laplace_06.png)"
      ]
    },
    {
      "cell_type": "markdown",
      "metadata": {
        "id": "Ts9_HIf3CM5x"
      },
      "source": [
        "Using a third dimension for the magnitudes, it looks like following. This is a Laplace Transform of the original function e<sup>-t</sup>sin*t"
      ]
    },
    {
      "cell_type": "markdown",
      "metadata": {
        "id": "cYcTz1fvCLYj"
      },
      "source": [
        "![cc](https://raw.githubusercontent.com/deltorobarba/repo/master/laplace_07.png)"
      ]
    },
    {
      "cell_type": "markdown",
      "metadata": {
        "id": "vI4elKKKCxEt"
      },
      "source": [
        "Here the original function on left and the Fourier transform as blue slice for a given alpha within the Laplace transform:"
      ]
    },
    {
      "cell_type": "markdown",
      "metadata": {
        "id": "ESrhF_dRCv_E"
      },
      "source": [
        "![cc](https://raw.githubusercontent.com/deltorobarba/repo/master/laplace_08.png)"
      ]
    },
    {
      "cell_type": "markdown",
      "metadata": {
        "id": "0GKh4Zt_DU9t"
      },
      "source": [
        "Alpha equals the zero = the exponential in the Laplace function is just 1, and line yields the Fourier transform of the original function:"
      ]
    },
    {
      "cell_type": "markdown",
      "metadata": {
        "id": "SiSldrXtDk03"
      },
      "source": [
        "![cc](https://raw.githubusercontent.com/deltorobarba/repo/master/laplace_09.png)"
      ]
    },
    {
      "cell_type": "markdown",
      "metadata": {
        "id": "MQ-YQmewDwMH"
      },
      "source": [
        "Here you can see how the Fourier transform is a slice of the Laplace Transform:"
      ]
    },
    {
      "cell_type": "markdown",
      "metadata": {
        "id": "93XFVrktEPRg"
      },
      "source": [
        "![cc](https://raw.githubusercontent.com/deltorobarba/repo/master/laplace_10.png)"
      ]
    },
    {
      "cell_type": "markdown",
      "metadata": {
        "id": "Wk7tYHfYGqvO"
      },
      "source": [
        "If we add all alpha beyond zero, we get the other slices. At the Fourier transform visualization on the right side with the blue slicer within the Laplace visualization. We see how the original function on the left side approaches a sinusoidal curve. Please consider only half of the Fourier slice to see just one large peak instead of two, as used above in Fourier transforms. "
      ]
    },
    {
      "cell_type": "markdown",
      "metadata": {
        "id": "YxgCy5pCG1jy"
      },
      "source": [
        "![cc](https://raw.githubusercontent.com/deltorobarba/repo/master/laplace_11.png)\n",
        "\n"
      ]
    },
    {
      "cell_type": "markdown",
      "metadata": {
        "id": "zDK4yOHIHLyJ"
      },
      "source": [
        "..and reaching a sinusoidal function with the Fourier visualization with infinite spikes (know as [**the poles**](https://de.wikipedia.org/wiki/Polstelle)) of the frequency on the right side:"
      ]
    },
    {
      "cell_type": "markdown",
      "metadata": {
        "id": "VervDhEzHKkP"
      },
      "source": [
        "![cc](https://raw.githubusercontent.com/deltorobarba/repo/master/laplace_12.png)"
      ]
    },
    {
      "cell_type": "markdown",
      "metadata": {
        "id": "AKd5VLq_H945"
      },
      "source": [
        "Visualization of Laplace transform of above function on 2D (without z as third dimension to show height of peaks):"
      ]
    },
    {
      "cell_type": "markdown",
      "metadata": {
        "id": "Oq30FI5WH85n"
      },
      "source": [
        "![cc](https://raw.githubusercontent.com/deltorobarba/repo/master/laplace_13.png)"
      ]
    },
    {
      "cell_type": "markdown",
      "metadata": {
        "id": "XSYPZ7FbDXLX"
      },
      "source": [
        "**Components of Laplace Transform**::"
      ]
    },
    {
      "cell_type": "markdown",
      "metadata": {
        "id": "-JqE7oEBALZV"
      },
      "source": [
        "Sinosoidal component:"
      ]
    },
    {
      "cell_type": "markdown",
      "metadata": {
        "id": "_xF5ZBgK_v6h"
      },
      "source": [
        "![cc](https://raw.githubusercontent.com/deltorobarba/repo/master/laplace_01.png)"
      ]
    },
    {
      "cell_type": "markdown",
      "metadata": {
        "id": "e8jPhrTDAIyQ"
      },
      "source": [
        "Exponential component:"
      ]
    },
    {
      "cell_type": "markdown",
      "metadata": {
        "id": "PzPgSN9g_qIZ"
      },
      "source": [
        "![cc](https://raw.githubusercontent.com/deltorobarba/repo/master/laplace_02.png)"
      ]
    },
    {
      "cell_type": "markdown",
      "metadata": {
        "id": "nMlhvRKeANFw"
      },
      "source": [
        "Combination of both:"
      ]
    },
    {
      "cell_type": "markdown",
      "metadata": {
        "id": "foOftWk3_q7s"
      },
      "source": [
        "![cc](https://raw.githubusercontent.com/deltorobarba/repo/master/laplace_03.png)"
      ]
    },
    {
      "cell_type": "markdown",
      "metadata": {
        "id": "rZDZvdqaj9pt"
      },
      "source": [
        "* shows which sinosoidal AND exponential frequencies are in a signal\n",
        "\n",
        "* a generalized Fourier transform! Fourier transform is just a slice of the Laplace transform\n",
        "\n",
        "* Fourier: input complex, output real. Laplace: Input complex, output complex (??)"
      ]
    },
    {
      "cell_type": "markdown",
      "metadata": {
        "id": "ImhmFbOnmaUS"
      },
      "source": [
        "**Fourier** $\\quad X(\\omega)=\\int_{-\\infty}^{\\infty} x(t) e^{-i \\omega t} d t$\n",
        "\n",
        "**Laplace** $\\quad X(s)=\\int_{0}^{\\infty} x(t) e^{-s t} d t$ \n",
        "\n",
        "with s = ${\\alpha + i \\omega}$"
      ]
    },
    {
      "cell_type": "markdown",
      "metadata": {
        "id": "1gNvynrixNsM"
      },
      "source": [
        "* Use Cases of Laplace transform: PDE to ODE, ODE to algebraic equation, control theory\r\n",
        "\r\n",
        "* Following functions cannot be applied Fourier transform: e^lambda t or Heaviside function (because they don’t decay to zero (on y) on both sides to infinity (x)"
      ]
    },
    {
      "cell_type": "markdown",
      "metadata": {
        "id": "ByG6QUb25LL-"
      },
      "source": [
        "Laplace intro:\n",
        "\n",
        "https://www.youtube.com/watch?v=n2y7n6jw5d0&t=848s\n",
        "\n",
        "https://youtu.be/ZGPtPkTft8g?t=356\n",
        "\n",
        "https://www.youtube.com/watch?v=7UvtU75NXTg&list=LL&index=1&t=419s"
      ]
    },
    {
      "cell_type": "markdown",
      "metadata": {
        "id": "pVxJ02zzlNwy"
      },
      "source": [
        "https://www.youtube.com/watch?v=n2y7n6jw5d0"
      ]
    },
    {
      "cell_type": "markdown",
      "metadata": {
        "id": "Ov6v_nkqxnBn"
      },
      "source": [
        "#### **Wavelets**"
      ]
    },
    {
      "cell_type": "markdown",
      "metadata": {
        "id": "3Z5kqTCLxos4"
      },
      "source": [
        "https://math.stackexchange.com/questions/279980/difference-between-fourier-transform-and-wavelets"
      ]
    },
    {
      "cell_type": "markdown",
      "metadata": {
        "id": "tmaM6aJEqabp"
      },
      "source": [
        "#### **Types of Operators**"
      ]
    },
    {
      "cell_type": "markdown",
      "metadata": {
        "id": "QhuKDq0EwC4H"
      },
      "source": [
        "**Lineare & nicht-lineare Operatoren**"
      ]
    },
    {
      "cell_type": "markdown",
      "metadata": {
        "id": "HiqVhXXPIGRN"
      },
      "source": [
        "[Lineare Operatoren](https://de.wikipedia.org/wiki/Linearer_Operator): In Funktionalanalysis betrachtet man Eigenschaften von Abbildungen zwischen (unendlichdimensionalen) Banachräumen. **Lineare Abbildungen heißen [lineare Operatoren](https://de.wikipedia.org/wiki/Lineare_Abbildung)**, nichtlineare Abbildungen werden nichtlineare Operatoren genannt.\n",
        "\n",
        "* Die Bedeutung linearer Operatoren besteht darin, dass sie die lineare Struktur des unterliegenden Raumes respektieren, d. h., sie sind Homomorphismen zwischen Vektorräumen [Source](https://de.wikipedia.org/wiki/Linearer_Operator)\n",
        "\n",
        "* Der Begriff linearer Operator wurde in der Funktionalanalysis (einem Teilgebiet der Mathematik) eingeführt und ist **synonym zum Begriff der linearen Abbildung**. Eine lineare Abbildung ist eine **strukturerhaltende Abbildung zwischen Vektorräumen über einem gemeinsamen Körper**. \n",
        "\n",
        "* Werden Vektorräume über dem Körper der reellen oder komplexen Zahlen betrachtet und sind diese mit einer Topologie versehen (lokalkonvexe Räume, normierte Räume, Banachräume), so spricht man vorzugsweise von linearen Operatoren.\n",
        "\n",
        "* Die Bedeutung linearer Operatoren besteht darin, dass sie die lineare Struktur des unterliegenden Raumes respektieren, d. h., sie sind Homomorphismen zwischen Vektorräumen.\n",
        "\n",
        "* **Anwendungen linearer Operatoren sind:**\n",
        "\n",
        "  * Die Beschreibung von Koordinatentransformationen im dreidimensionalen Euklidischen Raum (**Spiegelung, Drehung, Streckung**) und der [Lorentztransformation](https://de.wikipedia.org/wiki/Lorentz-Transformation) in der vierdimensionalen Raumzeit durch Matrizen.\n",
        "\n",
        "  * Die Entwicklung von Lösungstheorien für Differential- und Integralgleichungen, siehe Sobolew-Raum und Distribution.\n",
        "  \n",
        "  * Die Darstellung von Observablen in der Quantenmechanik und die Beschreibung der Dynamik eines quantenmechanischen Systems durch seinen Hamilton-Operator H in der Schrödingergleichung."
      ]
    },
    {
      "cell_type": "markdown",
      "metadata": {
        "id": "LsmBkA0uVtGx"
      },
      "source": [
        "**Operatornorm**"
      ]
    },
    {
      "cell_type": "markdown",
      "metadata": {
        "id": "3o1R4h0tV_Eh"
      },
      "source": [
        "* Eine [Operatornorm](https://de.wikipedia.org/wiki/Operatornorm) ist ein Objekt aus dem mathematischen Teilgebiet der Funktionalanalysis. Die Operatornorm verallgemeinert die Idee, einem Objekt eine Länge zuzuordnen, auf die Menge der linearen Operatoren. \n",
        "\n",
        "* Sind die zu betrachtenden Operatoren stetig, so ist die Operatornorm eine echte Norm, andernfalls kann die Operatornorm den Wert unendlich annehmen. Die Operatornorm einer linearen Abbildung zwischen endlichdimensionalen Vektorräumen ist nach Wahl einer Basis eine natürliche Matrixnorm.\n",
        "\n",
        "* Die Operatornorm besitzt neben den für Normen charakteristischen drei Eigenschaften **Definitheit**, **absolute Homogenität** und **Dreiecksungleichung** noch weitere:\n",
        "\n",
        "  * **Gültigkeit der fundamentalen Ungleichung**\n",
        "\n",
        "  * **Submultiplikativität**\n",
        "\n",
        "  * **Beschränktheit**: Die Operatornorm linearer Abbildungen zwischen endlichdimensionalen Vektorräumen ist stets endlich, da die Einheitskugel eine kompakte Menge ist. Somit ist im endlichdimensionalen Fall die Operatornorm immer eine echte Norm. Für unendlichdimensionale Vektorräume gilt dies nicht immer. Operatoren, deren Norm unendlich als Wert annimmt, werden unbeschränkt genannt. Auf Räumen mit solch unbeschränkten Operatoren ist die Operatornorm streng genommen keine echte Norm. Man kann zeigen, dass ein linearer Operator zwischen normierten Räumen genau dann eine endliche Operatornorm hat, wenn er beschränkt und damit stetig ist. Insbesondere wird dadurch der Raum der stetigen linearen Operatoren zu einem normierten Vektorraum.\n",
        "\n",
        "  * **Vollständigkeit**"
      ]
    },
    {
      "cell_type": "markdown",
      "metadata": {
        "id": "zLs-5VKnBfhz"
      },
      "source": [
        "**Beschränkte und unbeschränkte lineare Operatoren**"
      ]
    },
    {
      "cell_type": "markdown",
      "metadata": {
        "id": "gFyA9Gov_W78"
      },
      "source": [
        "[**Beschränkter Operator**](https://de.wikipedia.org/wiki/Beschränkter_Operator)\n",
        "\n",
        "* Im Gegensatz zu endlichdimensionalen Räumen, wo lineare Operatoren stets beschränkt sind, tauchen bei unendlichdimensionalen Räumen auch unbeschränkte lineare Operatoren auf.\n",
        "\n",
        "* Ein linearer Operator ist genau dann beschränkt, wenn er stetig ist, also eine der\n",
        "folgenden äquivalenten Bedingungen erfülit:\n",
        "\n",
        "  * falls $x_{n} \\rightarrow x,$ so gilt $T x_{n} \\rightarrow T x$ in der von der jeweiligen Norm induzierten\n",
        "Metrik,\n",
        "\n",
        "  * für alle $x_{0} \\in X$ und alle $\\epsilon>0$ gibt es ein $\\delta>0$ mit\n",
        "$\n",
        "\\left\\|x-x_{0}\\right\\|<\\delta \\Rightarrow\\left\\|T x-T x_{0}\\right\\|<\\epsilon\n",
        "$\n",
        "\n",
        "  * Urbilder offener Mengen sind offen.\n",
        "\n",
        "* Beschränkte lineare Operatoren werden deshalb oft als **stetige lineare Operatoren** bezeichnet. Wenn die Linearität vorausgesetzt wird, spricht man häufig auch nur von stetigen Operatoren oder beschränkten Operatoren. **Ist der Bildraum der Skalarenkörper, sagt man Funktional statt Operator.**"
      ]
    },
    {
      "cell_type": "markdown",
      "metadata": {
        "id": "13D6ESkWhld6"
      },
      "source": [
        "**Unbeschränkte lineare Operatoren auf Hilberträumen**:\n",
        "\n",
        "* lässt man oft auch Operatoren zu, deren Definitionsbereich (Domäne) lediglich ein Unterraum des betrachteten Raumes ist, so lässt man als Definitionsbereich auch einen Prähilbertraum als Teilraum eines Hilbertraums zu, präziser spricht man dann von dicht definierten unbeschränkten linearen Operatoren (s. u.). Der Operator wird als **partielle Abbildung** aufgefasst.\n",
        "\n",
        "* **Differential- und Multiplikationsoperatoren sind i. A. unbeschränkt.** (Viele Anwendungsbeispiele werden durch unbeschränkte Operatoren beschrieben (z.B. Differentialoperatoren). Während beschränkte Operatoren auf dem ganzen Hilbertraum H definiert sind, werden unbeschränkte Operatoren immer auf einem Definitionsbereich D(T ) ⊂ H betrachtet.)\n",
        "\n",
        "* Die Darstellung von Observablen der Quantenmechanik erfordert unbeschränkte lineare Operatoren, da die den Observablen zugeordneten Operatoren i. A. unbeschränkt sind."
      ]
    },
    {
      "cell_type": "markdown",
      "metadata": {
        "id": "LMVGH4LI1BU-"
      },
      "source": [
        "**Selbstadjungierte & symmetrische Operatoren**"
      ]
    },
    {
      "cell_type": "markdown",
      "metadata": {
        "id": "x4wUT4Yez5gt"
      },
      "source": [
        "* Der [selbstadjungierte Operator](https://de.wikipedia.org/wiki/Selbstadjungierter_Operator) ist eine Verallgemeinerung der selbstadjungierten Matrix.\n",
        "* Siehe auch [Adjungierter_Operator](https://de.m.wikipedia.org/wiki/Adjungierter_Operator)"
      ]
    },
    {
      "cell_type": "markdown",
      "metadata": {
        "id": "sMFqLOTn1DYx"
      },
      "source": [
        "* ein [symmetrischer Operator](https://de.wikipedia.org/wiki/Symmetrischer_Operator) ist ein **linearer Operator** und wird in der Funktionalanalysis im Kontext **unbeschränkter Operatoren** betrachtet\n",
        "\n",
        "* ein **beschränkter symmetrischer Operator ist ein selbstadjungierter Operator**.\n",
        "\n",
        "* Sei $H$ ein Hilbertraum. Ein linearer Operator $T: D(T) \\rightarrow H$ heißt symmetrisch, falls\n",
        "$\\langle T y, x\\rangle=\\langle y, T x\\rangle$"
      ]
    },
    {
      "cell_type": "markdown",
      "metadata": {
        "id": "13h_Mle0qiRs"
      },
      "source": [
        "**Spezielle Klassen von Operatoren sind etwa [kompakte Operatoren](https://de.wikipedia.org/wiki/Kompakter_Operator) oder [Fredholm-Operatoren](https://de.wikipedia.org/wiki/Fredholm-Operator).**"
      ]
    },
    {
      "cell_type": "markdown",
      "metadata": {
        "id": "3qRI2jKxCb6M"
      },
      "source": [
        "**Operatortopologie**"
      ]
    },
    {
      "cell_type": "markdown",
      "metadata": {
        "id": "vb6xhMMlAi_p"
      },
      "source": [
        "* [Operatortopologien](https://de.m.wikipedia.org/wiki/Operatortopologie) sindverschiedene Topologien auf dem Raum der stetigen, linearen Operatoren auf einem Hilbertraum. "
      ]
    },
    {
      "cell_type": "markdown",
      "metadata": {
        "id": "O3mIl8Xj8Dfs"
      },
      "source": [
        "#### **Spektrum**"
      ]
    },
    {
      "cell_type": "markdown",
      "metadata": {
        "id": "Q6m56NkK3cuG"
      },
      "source": [
        "**Definition Spektrum**\n",
        "\n",
        "Das Spektrum eines Operators $T$ ist die Menge aller Elemente $\\lambda$ des Zahlenkörpers (meistens die komplexen Zahlen), für die die Differenz des Operators mit dem $\\lambda$ -fachen der identischen Abbildung\n",
        "\n",
        "> $T-\\lambda$ id\n",
        "\n",
        "nicht beschränkt-invertierbar ist, das heißt, dass es keine Inverse gibt oder diese nicht beschränkt sind.\n",
        "Das Spektrum des Operators wird mit $\\sigma(T)$ bezeichnet und die Elemente des Spektrums heißen Spektralwerte."
      ]
    },
    {
      "cell_type": "markdown",
      "metadata": {
        "id": "Zv6ohvyV6XhD"
      },
      "source": [
        "**Beispiel: Matrixen in der linearen Algebra**\n",
        "\n",
        "In der linearen Algebra bilden die nxn-Matrizen mit komplexen Einträgen eine Algebra bezüglich der üblichen Addition und Skalarmultiplikation (komponentenweise) sowie der Matrizenmultiplikation. Die $(n \\times n)$ -Matrizen können daher sowohl als Beispiel für eigentliche Operatoren in ihrer Eigenschaft als lineare Abbildungen des $\\mathbb{C}^{n} \\rightarrow \\mathbb{C}^{n}$ angesehen werden, als auch als Beispiel einer Operatoralgebra, wobei es in diesem Kontext unerheblich ist, welche Operatornorm für die Matrizen gewählt wird. Da alle linearen Abbildungen eines endlichdimensionalen Raumes auf sich automatisch beschränkt sind, kann dieser Begriff in der Definition hier außer Acht gelassen werden.\n",
        "\n",
        "* Eine Matrix $A$ ist invertierbar, wenn es eine Matrix $B$ gibt, so dass $A \\cdot B=B \\cdot A=I$ ([Einheitsmatrix](https://de.wikipedia.org/wiki/Einheitsmatrix)) ist. Dies ist genau dann der Fall, wenn die Determinante nicht verschwindet: det $A \\neq 0$. \n",
        "\n",
        "* **Daher ist eine Zahl $z \\in \\mathbb{C}$ dann ein Spektralwert, wenn $\\operatorname{det}(A-z I)=0$ gilt, also wenn die Determinante verschwindet, was bedeutet, dass keine Invertierbarkeit vorliegt.**\n",
        "\n",
        "* Da dies aber gerade das charakteristische Polynom der Matrix $A$ in $z$ ist, ist $z$ genau dann ein Spektralwert, wenn $z$ ein Eigenwert der Matrix ist. **In der linearen Algebra bezeichnet das Spektrum einer Matrix daher die Menge der Eigenwerte.**"
      ]
    },
    {
      "cell_type": "markdown",
      "metadata": {
        "id": "OT7QeqIZ7XXu"
      },
      "source": [
        "**Beispiel: Funktionen**\n",
        "\n",
        "Die stetigen Funktionen auf dem Intervall [0,1] mit Werten in den komplexen Zahlen ( C bilden (z. B. mit der Supremumsnorm als Norm, die hier aber nicht von\n",
        "Belang ist) eine Banachalgebra, wobei die Summe zweier Funktionen und das\n",
        "Produkt zweier Funktionen punktweise definiert wird:\n",
        "\n",
        "$\n",
        "(f+g)(x)=f(x)+g(x) \\quad(f \\cdot g)(x)=f(x) \\cdot g(x)\n",
        "$\n",
        "\n",
        "Eine Funktion $f$ heißt dann in dieser Algebra invertierbar, wenn es eine andere Funktion $g$ gibt, so dass $f \\cdot g(=g \\cdot f)=1$ (Einsfunktion) ist, das heißt, wenn es\n",
        "eine Funktion $g$ gibt, deren Werte gerade die Kehrwerte von $f$ sind. Man sieht nun schnell ein, dass eine Funktion genau dann invertierbar ist, wenn sie nicht den\n",
        "Funktionswert 0 besitzt und die Inverse in diesem Fall punktweise die inversen\n",
        "Funktionswerte (Kehrwerte) der ursprünglichen Funktion besitzt:\n",
        "\n",
        "> $\n",
        "f^{-1}(x)=(f(x))^{-1}=1 / f(x), \\text { wenn } f(x) \\neq 0 \\text { überall. }\n",
        "$\n",
        "\n",
        "Eine Zahl $z \\in \\mathbb{C}$ ist also ein Spektralwert, wenn die Funktion $f-z$ nicht invertierbar ist, also den Funktionswert 0 besitzt. Dies ist natürlich genau dann der Fall, wenn $z$ ein Funktionswert von $f$ ist. **Das Spektrum einer Funktion ist daher\n",
        "genau ihr Bild.**"
      ]
    },
    {
      "cell_type": "markdown",
      "metadata": {
        "id": "w8seR9FL2hAy"
      },
      "source": [
        "**Die Spektraltheorie linearer Operatoren aus der Funktionalanalysis ist eine Verallgemeinerung der [Eigenwerttheorie](https://de.wikipedia.org/wiki/Eigenwertproblem) aus der linearen Algebra.**"
      ]
    },
    {
      "cell_type": "markdown",
      "metadata": {
        "id": "O_uHYcseDMNq"
      },
      "source": [
        "* Das [Spektrum](https://de.m.wikipedia.org/wiki/Spektrum_(Operatortheorie)) eines linearen Operators ist ein Begriff aus der Funktionalanalysis, einem Teilgebiet der Mathematik. \n",
        "\n",
        "* In der endlichdimensionalen linearen Algebra betrachtet man Endomorphismen, die durch Matrizen dargestellt werden, und ihre Eigenwerte. Die Verallgemeinerung ins Unendlichdimensionale wird in der Funktionalanalysis betrachtet. \n",
        "\n",
        "* **Das Spektrum eines Operators kann man sich als Menge verallgemeinerter Eigenwerte vorstellen. Diese werden Spektralwerte genannt.**"
      ]
    },
    {
      "cell_type": "markdown",
      "metadata": {
        "id": "av1H5O1y1snw"
      },
      "source": [
        "Sei $A \\in \\mathcal{L}(\\mathcal{H})$. Eine Zahl $\\lambda \\in \\mathbb{C}$ heißt ein **Eigenwert** von $A$, wenn es einen Vektor $x$ $\\in$ $\\mathcal{H} \\backslash\\{0\\}$ gibt mit\n",
        "\n",
        "$\n",
        "A x=\\lambda x\n",
        "$\n",
        "\n",
        "Der Vektor $x$ heißt dann **Eigenvektor** von $A$ zum Eigenwert $\\lambda$. \n",
        "\n",
        "Der Vektorraum $N(A-\\lambda I)$ heißt der Eigenraum von A zum Eigenwert $\\lambda$,\n",
        "\n",
        "> $\n",
        "P_{\\{\\lambda\\}}:=P_{N(A-\\lambda I)}\n",
        "$\n",
        "\n",
        "die zu $\\lambda$ gehörende **Eigenprojektion**."
      ]
    },
    {
      "cell_type": "markdown",
      "metadata": {
        "id": "AmVA59p82Qqs"
      },
      "source": [
        "https://www.uni-math.gwdg.de/mkohlma/Documents/VL_WS16_17.pdf"
      ]
    },
    {
      "cell_type": "markdown",
      "metadata": {
        "id": "ldllxRzY3N3H"
      },
      "source": [
        "**Zusammenhang der Spektraltheorie mit der Eigenwerttheorie**\n",
        "\n",
        "* Die Spektraltheorie linearer Operatoren aus der Funktionalanalysis ist eine Verallgemeinerung der Eigenwerttheorie aus der linearen Algebra. \n",
        "\n",
        "* In der linearen Algebra werden Endomorphismen auf endlichdimensionalen Vektorräumen betrachtet. Die Zahlen $\\lambda \\in \\mathbb{C},$ für die die Gleichung\n",
        "\n",
        "> $\n",
        "A x=\\lambda x\n",
        "$\n",
        "\n",
        "Lösungen $x \\neq 0,$ also ungleich dem Nullvektor, hat, werden Eigenwerte genannt, wobei $A$ eine Darstellungsmatrix des gewählten Endomorphismus ist. \n",
        "\n",
        "* Eigenwerte sind also Zahlen $\\lambda,$ für die das Inverse $(A-\\lambda I)^{-1}$ mit der Einheitsmatrix $I$ nicht existiert, das heißt, die Matrix $A-\\lambda I$ nicht bijektiv ist. Das ist im Endlichdimensionalen damit gleichzusetzen, dass der Endomorphismus nicht injektiv und damit auch nicht surjektiv sind. \n",
        "\n",
        "* Betrachtet man jedoch unendlichdimensionale Räume, so ist es notwendig zu unterscheiden, ob der Operator $(A-\\lambda I)$ invertierbar, nicht iniektiv und/oder nicht suriektiv ist. Im unendlichdimensionalen Fall folgt aus der Injektivität eines Endomorphismus nicht automatisch die Suriektivität, wie dies im endlichdimensionalen Fall ist. Im Folgenden wird der Begriff Spektrum in der Funktionalanalysis erlăutert."
      ]
    },
    {
      "cell_type": "markdown",
      "metadata": {
        "id": "7anvv0k7qOr4"
      },
      "source": [
        "#### **Operatoralgebren**"
      ]
    },
    {
      "cell_type": "markdown",
      "metadata": {
        "id": "XBT6dfRP9P6X"
      },
      "source": [
        "**Operatoralgebra (Banach-, C<sup>*</sup>- und W<sup>*</sup>-Algebren)**"
      ]
    },
    {
      "cell_type": "markdown",
      "metadata": {
        "id": "2CUO12L19ARp"
      },
      "source": [
        "* [Operatoralgebren](https://de.m.wikipedia.org/wiki/Operatoralgebra) sind  **Verallgemeinerungen der Matrizenalgebren** der linearen Algebra\n",
        "\n",
        "* Sind $E, F, G$ normierte Räume und $A: E \\rightarrow F$ und $B: F \\rightarrow G$ stetige, lineare Operatoren, so ist auch deren Komposition ein stetiger, linearer Operator $B \\circ A: E \\rightarrow G,$ und für die Operatornormen gilt $\\|B \\circ A\\| \\leq\\|B\\| \\cdot\\|A\\| .$ \n",
        "\n",
        "* Daher wird der Raum $L(E)$ der stetigen, linearen Operatoren von $E$ in sich mit der Komposition als Multiplikation zu einer normierten Algebra, die bei vollständiaem $E$ sogar eine Banachalgebra ist.\n",
        "\n",
        "* Diese Algebren und ihre Unteralgebren nennt man Operatoralgebren, wobei der Fall, dass $E$ ein Hilbertraum ist, besonders intensiv untersucht wird. "
      ]
    },
    {
      "cell_type": "markdown",
      "metadata": {
        "id": "KtqhC3TW97-U"
      },
      "source": [
        "**Banachalgebren als Operatoralgebren**\n",
        "\n",
        "* Jede normierte Algebra $\\mathcal{A}$ kann als Operatoralgebra dargestellt werden. \n",
        "\n",
        "* Die sogenannte linksreguläre Darstellung von $\\mathcal{A},$ die jedem Element $A$ den Operator $\\ell_{A} \\in L(\\mathcal{A})$ zuordnet, wobei $\\ell_{A}(B):=A B$, ist ein isometrischer Homomorphismus, falls $\\mathcal{A}$ ein Einselement besitzt. Ist kein Einselement vorhanden, so adjungiere man eines.\n",
        "\n",
        "* Welche Homomorphismen von einer Banachalgebra in eine Operatoralgebra existieren, wird in der Darstellungstheorie untersucht. Ein besonderes Interesse gilt dabei **Darstellungen auf Hilberträumen**, das heißt Homomorphismen in die Operatoralgebra über einem Hilbertraum, was zu den Begriffen **Von-Neumann-Algebra und C*-Algebra** führt.\n",
        "\n",
        "* Operatoralgebren über Banachräumen, speziell über Hilberträumen, erlauben die Einführung zusätzlicher Topologien wie etwa die **starke oder schwache Operatortopologie**, wobei gerade letzterer wegen der Kompaktheit der Einheitskugel eine besondere Bedeutung zukommt."
      ]
    },
    {
      "cell_type": "markdown",
      "metadata": {
        "id": "kvV9g-7G_a0Y"
      },
      "source": [
        "**Banach-Algebren**"
      ]
    },
    {
      "cell_type": "markdown",
      "metadata": {
        "id": "ij2aZqcn6EgP"
      },
      "source": [
        "* [Banachalgebren](https://de.wikipedia.org/wiki/Banachalgebra), siehe auch [hier](https://mathepedia.de/Banachalgebra.html), sind mathematische **Objekte der Funktionalanalysis**, die einige wesentliche Eigenschaften mit bekannten Funktionenräumen (z. B. Mengen stetiger oder integrierbarer Funktionen) gemeinsam haben, und deren Verallgemeinerung sie daher sind.\n",
        "\n",
        "* Eine Banachalgebra ist ein Vektorraum, in dem auch ein Produkt und eine Norm so definiert sind, dass gewisse Verträglichkeitsbedingungen erfüllt sind."
      ]
    },
    {
      "cell_type": "markdown",
      "metadata": {
        "id": "SDpB4mwPSGuP"
      },
      "source": [
        "https://mathepedia.de/Banachalgebra.html"
      ]
    },
    {
      "cell_type": "markdown",
      "metadata": {
        "id": "bj9TI7MYBxsD"
      },
      "source": [
        "**C*-Algebren**"
      ]
    },
    {
      "cell_type": "markdown",
      "metadata": {
        "id": "uVno5eLEFD31"
      },
      "source": [
        "* [C*-Algebren](https://de.wikipedia.org/wiki/C*-Algebra) sind eine Abstraktion der beschränkten linearen Operatoren auf einem Hilbertraum, sie spielen daher in der mathematischen Beschreibung der Quantenmechanik eine Rolle.\n",
        "\n",
        "* C<sup>*</sup>-Algebren **sind spezielle Banachalgebren**, bei denen ein enger Zusammenhang zwischen algebraischen und topologischen Eigenschaften besteht; die Kategorie der lokalkompakten Räume erweist sich als äquivalent zur Kategorie der kommutativen C<sup>*</sup>-Algebren, daher wird die **Theorie der C<sup>*</sup>-Algebren auch als nichtkommutative Topologie** angesehen. \n",
        "\n",
        "* Sofern eine solche nichtkommutative Topologie von einer Metrik induziert wird, wird diese durch das relativ neue Forschungsfeld der nichtkommutativen Geometrie erfasst,"
      ]
    },
    {
      "cell_type": "markdown",
      "metadata": {
        "id": "czZ_JpboBnHf"
      },
      "source": [
        "**W*-Algebren (Von-Neumann-Algebra)**"
      ]
    },
    {
      "cell_type": "markdown",
      "metadata": {
        "id": "_MvZ6ZoTBt1c"
      },
      "source": [
        "* [Von-Neumann-Algebra](https://de.m.wikipedia.org/wiki/Von-Neumann-Algebra) ist eine \n",
        "mathematische Struktur in der Funktionalanalysis\n",
        "\n",
        "* Jede Von-Neumann-Algebra ist eine C*-Algebra und somit auch eine Banachalgebra.\n",
        "\n",
        "* Von-Neumann-Algebren enthalten sehr viele Orthogonalprojektionen; jeder Operator ist in der Normtopologie Limes von Linearkombinationen von Orthogonalprojektionen. Dies ist ein wesentlicher Unterschied zu den C*-Algebren"
      ]
    },
    {
      "cell_type": "markdown",
      "metadata": {
        "id": "_BMwC_7ev16S"
      },
      "source": [
        "#### **Lineare Funktionale**"
      ]
    },
    {
      "cell_type": "markdown",
      "metadata": {
        "id": "Z2gaucfCv5BP"
      },
      "source": [
        "* **Ein [Funktional](https://de.m.wikipedia.org/wiki/Funktional) bzw. [functional](https://en.m.wikipedia.org/wiki/Functional_(mathematics)) J[y] bildet eine <u>Funktion</u> y(x) auf eine <u>Zahl</u> ab.**\n",
        "\n",
        "> Sei $V$ ein $\\mathbb{K}$ -Vektorraum mit $\\mathbb{K} \\in\\{\\mathbb{R}, \\mathbb{C}\\} .$ Ein Funktional $T$ ist eine Abbildung $T: V \\rightarrow \\mathbb{K} .$\n",
        "\n",
        "* eine Funktion, deren Definitionsmenge (Urbilder) als Teilmenge in einem Vektorraum V enthalten ist, während ihre Zielmenge in dem zugehörigen Skalarkörper liegt (zB von einer Fläche R<sup>2</sup> in eine Linie R)\n",
        "\n",
        "* Exkurs Funktionalanalyse: Hier ist der untersuchte Vektorraum V zumeist ein Funktionenraum, also ein Vektorraum, dessen Elemente reell- oder komplexwertige Funktionen sind, wobei diesen durch Funktionale Skalare zugeordnet werden. \n",
        "\n",
        "* Als bedeutendes Beispiel eines solchen Funktionals kann etwa das [Lebesgue-Integral](https://de.m.wikipedia.org/wiki/Lebesgue-Integral) gelten."
      ]
    },
    {
      "cell_type": "markdown",
      "metadata": {
        "id": "awbdQaH-wzAK"
      },
      "source": [
        "**Unterschied zwischen Funktion und Funktional**"
      ]
    },
    {
      "cell_type": "markdown",
      "metadata": {
        "id": "br-g6M4p2tPd"
      },
      "source": [
        "**Function:**\n",
        "$\\mathbb{R} \\rightarrow f(x) \\rightarrow \\mathbb{R}$\n",
        "\n",
        "**Functional:**\n",
        "$f(x) \\rightarrow J[f(x)] \\rightarrow \\mathbb{R}$"
      ]
    },
    {
      "cell_type": "markdown",
      "metadata": {
        "id": "L9pDmvzc27ag"
      },
      "source": [
        "* Eine Funktion bildet Elemente eines Körpers auf andere ab, zum Beispiel. $f: \\mathbb{R}^{3} \\rightarrow \\mathbb{R}^{2}$\n",
        "\n",
        "* Ein Funktional hingegen ist ein Operator, der Elemente eines Vektorraumes $V$ auf den [Skalarkörper](https://de.wikipedia.org/wiki/Skalar_(Mathematik))\n",
        "$K$ abbildet, über dem $V$ modelliert ist. Diese Elemente können zum Beispiel selber Funktionen sein\n",
        "(wenn der Vektorraum ein Funktionenraum ist)"
      ]
    },
    {
      "cell_type": "markdown",
      "metadata": {
        "id": "eU75x1wPLJhq"
      },
      "source": [
        "**Example of [Linear functional](https://de.m.wikipedia.org/wiki/Funktional#Lineare_Funktionale)**"
      ]
    },
    {
      "cell_type": "markdown",
      "metadata": {
        "id": "4VNcfHpPNdiI"
      },
      "source": [
        "* In den meisten Bereichen der Funktionalanalysis, etwa in der Theorie der topologischen Vektorräume, wird der Begriff Funktional (ohne weiteren Zusatz) als Synonym für lineare Funktionale benutzt. \n",
        "\n",
        "* Ein solches Funktional ist also definitionsgemäß eine Linearform, also **eine lineare Abbildung des Vektorraumes $V$ in seinen Skalarkörper $K$.**\n",
        "\n",
        "* Die Menge all dieser Funktionale ist wiederum in natürlicher Form ein Vektorraum uber dem gleichen Körper $\\mathbb{K}$, indem man für zwei Funktionale $f$ und $g$ über $V$ die Addition und Skalarmultiplikation punktweise definiert, $d .$ h.\n",
        "\n",
        "> $\n",
        "(f+g)(x):=f(x)+g(x) \\quad(\\lambda f)(x):=\\lambda(f(x)), x \\in V\n",
        "$\n",
        "\n",
        "* Der Vektorraum der linearen Funktionale auf dem Vektorraum $V$ wird der algebraische **Dualraum** genannt und oft mit $V^{*}$ bezeichnet."
      ]
    },
    {
      "cell_type": "markdown",
      "metadata": {
        "id": "yO693Lr5ttLu"
      },
      "source": [
        "**Funktionaldeterminante**"
      ]
    },
    {
      "cell_type": "markdown",
      "metadata": {
        "id": "ozH0k-1StvhC"
      },
      "source": [
        "* Die [Funktionaldeterminante](https://de.wikipedia.org/wiki/Funktionaldeterminante) oder Jacobi-Determinante ist eine mathematische Größe, die in der mehrdimensionalen Integralrechnung, also der **Berechnung von Oberflächen- und Volumenintegralen**, eine Rolle spielt. Insbesondere findet sie in der Flächenformel und dem aus dieser hervorgehenden Transformationssatz Verwendung.\n",
        "\n",
        "* Für eine differenzierbare Funktion $f: \\mathbb{R}^{n} \\rightarrow \\mathbb{R}^{n}$ ist die Funktionaldeterminante definiert als\n",
        "die Determinante der Jacobi-Matrix von $f,$ also als\n",
        "det $D f(x)$\n",
        "mit\n",
        "$\n",
        "D f(x)=\\left(\\frac{\\partial f_{i}}{\\partial x_{j}}(x)\\right)_{i, j=1, \\ldots, n}\n",
        "$\n",
        "\n",
        "* Für die Transformation von Volumenelementen, einen wichtigen Anwendungsfall in der Physik, reicht diese Definition aus. Die Flächenformel der Maß- und Integrationstheorie beschreibt dagegen auch, wie sich Integrale über Funktionen, die Räume unterschiedlicher Dimension ineinander abbilden, transformieren. \n",
        "\n",
        "* Beispiel: Bei der Integration über geometrische Objekte ist es oft unpraktisch, über kartesische Koordinaten zu integrieren. So lässt sich in der Physik das Integral über ein radialsymmetrisches Potentialfeld, dessen Wert nur von einem Radius $r$ abhängt, wesentlich leichter in Kugelkoordinaten berechnen.\n",
        "Um dies zu tun, wendet man eine Koordinatentransformation $\\Phi$  an."
      ]
    },
    {
      "cell_type": "markdown",
      "metadata": {
        "id": "gQTz9Ux4z3fz"
      },
      "source": [
        "**Linearform**"
      ]
    },
    {
      "cell_type": "markdown",
      "metadata": {
        "id": "AU3vmZmUPDVe"
      },
      "source": [
        "Stetige lineare Funktionale ([Linearform](https://de.m.wikipedia.org/wiki/Linearform)): \n",
        "\n",
        "* **In einem topologischen Vektorraum sind im Allgemeinen nicht alle linearen Funktionale steti**g. \n",
        "\n",
        "* Die stetigen linearen Funktionale innerhalb des algebraischen Dualraums, also die auf $V$ gegebenen stetigen [Linearformen](https://de.m.wikipedia.org/wiki/Linearform), bilden einen linearen Unterraum von $V^{*}$. **Dies ist der topologische Dualraum von $V$, der in der Funktionalanalysis einer der Hauptgegenstände ist.** \n",
        "\n",
        "* Er wird meist mit der Bezeichnung $V'$ gekennzeichnet, von einigen Autoren jedoch auch mit derselben Bezeichnung wie der algebraische Dualraum, also ebenfalls mit $V^{*}$.\n",
        "\n",
        "* Im Kontext der Funktionalanalysis, das heißt im Falle eines topologischen \n",
        "$\\mathbb {R}$ - oder $\\mathbb {C}$-Vektorraums, sind die betrachteten Linearformen meistens [stetige lineare Funktionale](https://de.m.wikipedia.org/wiki/Funktional#Stetige_lineare_Funktionale).\n",
        "\n",
        "* Es sei $K$ ein Körper und $V$ ein $K$ -Vektorraum. Eine Abbildung $f: V \\rightarrow K$ heißt Linearform, wenn für alle Vektoren $x, y \\in V$ und Skalare $\\alpha \\in K$ gilt:\n",
        "\n",
        "1. $f(x+y)=f(x)+f(y)$ (**Additivität**);\n",
        "\n",
        "2. $f(\\alpha x)=\\alpha f(x)$ (**Homogenität**).\n",
        "\n",
        "* 'Linear form' is a more modern and abstract concept of 'functional': In modern linear algebra, functional refers to a linear mapping from a vector space $V$ into its field of scalars, i.e., it refers to an element of the dual space $V^{*}$. \n",
        "\n",
        "* Die Linearform ist ein Begriff aus dem mathematischen Teilgebiet der linearen Algebra. Man bezeichnet damit eine lineare Abbildung von einem Vektorraum in den zugrundeliegenden Körper.\n",
        "\n",
        "* **Übergang zu Dualraum**: Die Menge aller Linearformen (= stetigen, linearen Abbildungen) über einem gegebenen Vektorraum $V$ bildet dessen Dualraum $V^{*}$ und damit selbst wieder in natürlicher Weise einen $K$ -Vektorraum."
      ]
    },
    {
      "cell_type": "markdown",
      "metadata": {
        "id": "sjqKk4EMJh4k"
      },
      "source": [
        "**[One-form](https://en.m.wikipedia.org/wiki/One-form) (Pfaffsche Form)**"
      ]
    },
    {
      "cell_type": "markdown",
      "metadata": {
        "id": "y_YJP6zFQgk1"
      },
      "source": [
        "* In linear algebra, a one-form on a vector space is the same as a linear functional (linear form) on the space. \n",
        "\n",
        "* The usage of one-form in this context usually distinguishes the one-forms from higher-degree multilinear functionals on the space. For details, see [linear functional / linear form](https://en.m.wikipedia.org/wiki/Linear_form)."
      ]
    },
    {
      "cell_type": "markdown",
      "metadata": {
        "id": "n7txO-4l254v"
      },
      "source": [
        "#### **Dualraum**"
      ]
    },
    {
      "cell_type": "markdown",
      "metadata": {
        "id": "G7hBtcqkOjDR"
      },
      "source": [
        "**Der topologische Dualraum**"
      ]
    },
    {
      "cell_type": "markdown",
      "metadata": {
        "id": "DtaQ30kuOaZQ"
      },
      "source": [
        "Falls der zugrundeliegende Vektorraum \n",
        "$V$ ein topologischer Vektorraum ist, kann man zusätzlich zum algebraischen auch den topologischen Dualraum betrachten. Dieser ist die Menge aller stetigen linearen Funktionale und wird in der Regel mit \n",
        "$V\\,'$ bezeichnet. Die Unterscheidung zwischen algebraischem und topologischem Dualraum ist nur dann wichtig, wenn \n",
        "$V$ ein unendlichdimensionaler Raum ist, da alle linearen Operatoren, die auf einem endlichdimensionalen topologischen Vektorraum definiert sind, auch stetig sind. \n",
        "\n",
        "Somit sind der algebraische und der topologische Dualraum identisch. Wenn im Zusammenhang mit topologischen Vektorräumen von einem Dualraum die Rede ist, ist meistens der topologische Dualraum gemeint. Das Studium dieser Dualräume ist eines der Hauptgebiete der Funktionalanalysis."
      ]
    },
    {
      "cell_type": "markdown",
      "metadata": {
        "id": "Wpl9KJI1OX2e"
      },
      "source": [
        "https://de.wikipedia.org/wiki/Dualraum#Der_topologische_Dualraum"
      ]
    },
    {
      "cell_type": "markdown",
      "metadata": {
        "id": "GtI4LdT4BWYX"
      },
      "source": [
        "Beim Studium normierter Räume ist die Untersuchung des Dualraumes wichtig. Der Dualraum besteht aus allen **stetigen linearen** Funktionen vom **normierten** Raum in seinen Skalarkörper, also in die reellen oder komplexen Zahlen. Der Bidual, also der Dualraum des Dualraums, muss nicht isomorph zum ursprünglichen Raum sein, aber es gibt stets einen natürlichen Monomorphismus von einem Raum in seinen Bidual. Ist dieser spezielle Monomorphismus auch surjektiv, dann spricht man von einem reflexiven Banachraum.\n",
        "\n"
      ]
    },
    {
      "cell_type": "markdown",
      "metadata": {
        "id": "2IWExb4pLbRI"
      },
      "source": [
        "Dualraum: https://youtu.be/2vvjrBbcTZU"
      ]
    },
    {
      "cell_type": "markdown",
      "metadata": {
        "id": "0dayuxImzTOv"
      },
      "source": [
        "* In den meisten Bereichen der Funktionalanalysis, etwa in der Theorie der [topologischen\n",
        "Vektorräume](https://de.m.wikipedia.org/wiki/Topologischer_Vektorraum), wird der Begriff Funktional (ohne weiteren Zusatz) als Synonym für lineare Funktionale\n",
        "benutzt. \n",
        "\n",
        "* Ein solches Funktional ist also definitionsgemäß eine [Linearform](https://de.m.wikipedia.org/wiki/Linearform), also eine lineare\n",
        "Abbildung des Vektorraumes $V$ in seinen Skalarkörper $\\mathbb{K}$. \n",
        "\n",
        "* Die Menge all dieser Funktionale ist\n",
        "wiederum in natürlicher Form ein Vektorraum über dem gleichen Körper $\\mathbb{K}$, indem man für zwei\n",
        "Funktionale $f$ und $g$ über $V$ die Addition und Skalarmultiplikation punktweise definiert, d. h.\n",
        "\n",
        "\n",
        "> $\n",
        "(f+g)(x):=f(x)+g(x) \\quad(\\lambda f)(x):=\\lambda(f(x)), x \\in V\n",
        "$\n",
        "\n",
        "Der Vektorraum der linearen Funktionale auf dem Vektorraum $V$ wird der algebraische Dualraum genannt und oft mit $V^{*}$ bezeichnet."
      ]
    },
    {
      "cell_type": "markdown",
      "metadata": {
        "id": "VWv2DHm71k_n"
      },
      "source": [
        "**Beispiele von Dualräumen**"
      ]
    },
    {
      "cell_type": "markdown",
      "metadata": {
        "id": "QPIQCssA1-w-"
      },
      "source": [
        "Für den Vektorraum $V=\\mathbb{R}^{n}$ **ist der Dualraum kanonisch isomorph zum Vektorraum selbst**, $\\mathrm{d} .$ h. $V \\cong V$ Der kanonische Isomorphismus $I: \\mathbb{R}^{n} \\rightarrow\\left(\\mathbb{R}^{n}\\right)^{*}$ wird dabei über das [Standardskalarprodukt](https://de.m.wikipedia.org/wiki/Standardskalarprodukt) vermittelt:\n",
        "\n",
        "$\n",
        "(I(x))(y):=\\langle x, y\\rangle=\\sum_{i=1}^{n} x_{i} \\cdot y_{i}\n",
        "$\n",
        "\n",
        "Für den Vektorraum $V=\\mathbb{C}^{n}$ gilt ähnliches wie im ersten Fall, allerdings ist die kanonische Abbildung $I: \\mathbb{C}^{n} \\rightarrow\\left(\\mathbb{C}^{n}\\right)^{*}$ in diesem Fall semilinear:\n",
        "\n",
        "$\n",
        "(I(x))(y):=\\langle x, y\\rangle=\\sum_{i=1}^{n} \\overline{x_{i}} \\cdot y_{i}\n",
        "$\n",
        "\n",
        "Der Dualraum ist in diesem Fall also gleich groB, hat aber bezüglich der kanonischen Abbildung eine\n",
        "andere Skalarmultiplikation. Im Sinne der linearen Algebra sagt man auch: Der Dualraum ist kanonisch\n",
        "isomorph zum komplex konjugierten Vektorraum."
      ]
    },
    {
      "cell_type": "markdown",
      "metadata": {
        "id": "OuJVFzQ22tcK"
      },
      "source": [
        "*Beispiele topologischer Dualräume*\n",
        "\n",
        "* Für endlichdimensionale Vektorräume gibt es eine natürliche Topologie ([Normtopologie](https://de.m.wikipedia.org/wiki/Normtopologie)), die aus der euklidischen Norm hervorgeht (genauer gesagt: aus einer beliebigen euklidischen Norm, wenn man eine Basis wählt). Dies ist gerade die Topologie, die der normalen Standard-Analysis zugrunde liegt, und in dieser ist jedes lineare Funktional stetig. Das heißt, der algebraische Dualraum ist gleich dem topologischen Dualraum.\n",
        "\n",
        "* Im unendlichdimensionalen Fall ist der topologische Dualraum (fast) immer ein echter Teilraum des algebraischen Dualraumes.\n",
        "\n",
        "* In **normierten Vektorräumen ist ein Funktional $f$ genau dann stetig, wenn es beschränkt ist**, das heißt $\\sup _{\\|x\\| \\leq 1}|f(x)|<\\infty$. Der topologische Dualraum ist dann automatisch ein Banachraum mit der oben angegebenen Supremumsnorm.\n",
        "\n",
        "* In Hilberträumen ist der topologische Dualraum kanonisch mit dem Ursprungsraum identifizierbar (Darstellungssatz von Fréchet-Riesz). Die Identifikation erfolgt wie im endlichdimensionalen Fall über das Skalarprodukt: $(I(y)):=\\langle\\cdot, y\\rangle$\n",
        "\n",
        "* Der topologische Dualraum des Raumes der unendlich oft stetig differenzierbaren Funktionen mit kompaktem Träger auf der reellen Achse (die so genannten Testfunktionen) mit einer bestimmten (hier nicht näher erklärten) Topologie wird als Raum der [Distributionen](https://de.m.wikipedia.org/wiki/Distribution_(Mathematik)) bezeichnet. In diesem Raum liegt auch das weiter oben genannte Beispiel des Dirac-Delta-Funktionals."
      ]
    },
    {
      "cell_type": "markdown",
      "metadata": {
        "id": "c6IYUQudInRI"
      },
      "source": [
        "#### **Non-linear Functional**"
      ]
    },
    {
      "cell_type": "markdown",
      "metadata": {
        "id": "8mt9jLwJIlKa"
      },
      "source": [
        "**Example of [Non-linear functional](https://de.m.wikipedia.org/wiki/Funktional#Nichtlineare_Funktionale)**\n",
        "\n",
        "* Nichtlineare Funktionale traten historisch erstmals in der **Variationsrechnung** auf. \n",
        "\n",
        "* Ihr Studium unterscheidet sich grundlegend von dem der oben beschriebenen linearen Funktionale. In der Variationsrechnung setzt man es sich beispielsweise zum Ziel, die Extremalpunkte solcher Funktionalpunkte zu bestimmen. \n",
        "\n",
        "* Zu diesem Zweck benötigt man eine Verallgemeinerung des Ableitungsbegriffs der mehrdimensionalen Analysis, d. h. eine Definition des Differentials des Funktionals. In der Variationsrechnung und in den Anwendungen ist dieses Differential unter dem Namen Variationsableitung bekannt, mathematisch präzisiert wird der Begriff z. B. durch die Fréchet-Ableitung und die Gateaux-Ableitung."
      ]
    },
    {
      "cell_type": "markdown",
      "metadata": {
        "id": "W8l9oubJL290"
      },
      "source": [
        "[**Functional derivative**](https://en.m.wikipedia.org/wiki/Functional_derivative)"
      ]
    },
    {
      "cell_type": "markdown",
      "metadata": {
        "id": "-evrFl9ZJ8c1"
      },
      "source": [
        "* Functional derivatives are used in Lagrangian mechanics. They are derivatives of functionals: i.e. they carry information on how a functional changes when the input function changes by a small amount."
      ]
    },
    {
      "cell_type": "markdown",
      "metadata": {
        "id": "ZBGRXzCzHdHm"
      },
      "source": [
        "[**Functional integration**](https://en.m.wikipedia.org/wiki/Functional_integration)"
      ]
    },
    {
      "cell_type": "markdown",
      "metadata": {
        "id": "UdfJLCj5J-sg"
      },
      "source": [
        "* Richard Feynman used functional integrals as the central idea in his sum over the histories formulation of quantum mechanics. This usage implies an integral taken over some function space."
      ]
    },
    {
      "cell_type": "markdown",
      "metadata": {
        "id": "UBGlUuYsYwrV"
      },
      "source": [
        "#### **Spur**"
      ]
    },
    {
      "cell_type": "markdown",
      "metadata": {
        "id": "7QwX8vJoYzb3"
      },
      "source": [
        "https://de.wikipedia.org/wiki/Spur_(Mathematik)"
      ]
    },
    {
      "cell_type": "markdown",
      "metadata": {
        "id": "EfrXUsI54L2_"
      },
      "source": [
        "#### **Distribution & Test Function**"
      ]
    },
    {
      "cell_type": "markdown",
      "metadata": {
        "id": "usqikWJzWLik"
      },
      "source": [
        "https://www.youtube.com/watch?v=1Vm9p4CvyV4"
      ]
    },
    {
      "cell_type": "markdown",
      "metadata": {
        "id": "2zWKKdasSS1o"
      },
      "source": [
        "https://en.wikipedia.org/wiki/Generalized_function"
      ]
    },
    {
      "cell_type": "markdown",
      "metadata": {
        "id": "a4JbcHO2SUiV"
      },
      "source": [
        "https://en.wikipedia.org/wiki/Distribution_(mathematics)"
      ]
    },
    {
      "cell_type": "markdown",
      "metadata": {
        "id": "dXWokdbUSK4s"
      },
      "source": [
        "https://mathepedia.de/Distributionen.html"
      ]
    },
    {
      "cell_type": "markdown",
      "metadata": {
        "id": "CF7FtCK145Zl"
      },
      "source": [
        "* Eine Distribution bezeichnet eine **besondere Art eines Funktionals** (=eine Funktion, die anderen Funktionen eine Zahl zuordnet) im Bereich der partiellen Differentialgleichungen\n",
        "\n",
        "* Es gibt partielle Differentialgleichungen, die hinreichend oft differenzierbare oder gar keine klassischen Lösungen haben, aber Lösungen im distributionellen Sinn. \n",
        "\n",
        "* Daher können Distributionen als eine **Verallgemeinerung von Funktionen** angesehen werden. (z.B. kann man jede Distribution differenzieren.)\n",
        "\n",
        "* Problem: Losungen mit 'Knicken' in Differentialgleichungen. Begriff einer Ableitung ist zu stark, man muss also die Losungen verallgemeinern.\n",
        "\n",
        "* zB Ableitung der [Heaviside Funktion](https://de.wikipedia.org/wiki/Heaviside-Funktion) - \n",
        "\n",
        "  * Nutzung der Delta Funktion. Delta Funktion ist Null ausserhalb der kritischen Stelle Null.\n",
        "  * Aber: delta ist keine Funktion im ublichen Sinn. Delta ist Null fast uberall (bez. des Lebesgue Masses)\n",
        "  * Das heisst jegliches Integral ist Null.\n",
        "\n",
        "* Losung: Delta wird als 'Distribution' definiert (oder auch: 'verallgemeinerte Funktion'). Funktionen fasst man jetzt als eine Dichte auf (zB Massedichte auf einem eindimensionalen Stab). Delta-Funktion ist dann eine singulare Dichte (Punktmasse).\n",
        "\n",
        "https://www.youtube.com/watch?v=c5WYrQK_7ls\n",
        "\n",
        "* Testfunktionen: Miss die Dichte aus mit einem 'virtuellen Messgerat' unterhalb einer Funktion. Sollten stetig und lokalisiert sein. \n",
        "\n"
      ]
    },
    {
      "cell_type": "markdown",
      "metadata": {
        "id": "kkc6g0_ebFGu"
      },
      "source": [
        "Sei $\\Omega \\subset \\mathbb{R}^{n}$ eine offene, nichtleere Menge. Eine Distribution $T$ ist ein stetiges und lineares Funktional auf dem Raum der [Testfunktionen](https://de.m.wikipedia.org/wiki/Testfunktion) $\\mathcal{D}(\\Omega)$.\n",
        "\n",
        "In anderen Worten eine Abbildung $T: \\mathcal{D}(\\Omega) \\rightarrow \\mathbb{C}$ bzw. $\\mathbb{R},$ so dass für alle $\\phi_{1}, \\phi_{2} \\in \\mathcal{D}(\\Omega)$ und $\\lambda \\in \\mathbb{C}$ gilt $T\\left(\\phi_{1}+\\lambda \\phi_{2}\\right)=T\\left(\\phi_{1}\\right)+\\lambda T\\left(\\phi_{2}\\right)$ und $T\\left(\\phi_{n}\\right) \\rightarrow T(\\phi)$ wann immer $\\phi_{n} \\rightarrow \\phi$ in $\\mathcal{D}(\\Omega)$"
      ]
    },
    {
      "cell_type": "markdown",
      "metadata": {
        "id": "wKQfU_qJZeQ3"
      },
      "source": [
        "**Temperierte Distribution**\n",
        "\n",
        "* Eine [temperierte Distribution](https://de.m.wikipedia.org/wiki/Temperierte_Distribution) ist ein Spezialfall einer Distribution\n",
        "\n",
        "* Laurent Schwartz führte 1947 den Raum der temperierten Distributionen ein, um die Fourier-Transformation in seine Distributionentheorie integrieren zu können."
      ]
    },
    {
      "cell_type": "markdown",
      "metadata": {
        "id": "q0RpKoo8XswO"
      },
      "source": [
        "**Delta-Distribution** ([Dirac-Funktion](https://de.m.wikipedia.org/wiki/Delta-Distribution))\n",
        "* ist eine spezielle irreguläre Distribution mit kompaktem Träger. Sie hat in der Mathematik und Physik grundlegende Bedeutung. Ihr übliches Formelsymbol ist δ (kleines Delta)."
      ]
    },
    {
      "cell_type": "markdown",
      "metadata": {
        "id": "gUQJVjiw4Ou5"
      },
      "source": [
        "https://de.m.wikipedia.org/wiki/Distribution_(Mathematik)"
      ]
    },
    {
      "cell_type": "markdown",
      "metadata": {
        "id": "pXO6GrABRMxJ"
      },
      "source": [
        "**Algebras of generalized functions**"
      ]
    },
    {
      "cell_type": "markdown",
      "metadata": {
        "id": "b6Ly8zs8RdZQ"
      },
      "source": [
        "* become accepted as definitive, for many purposes, was the theory of distributions, developed by Laurent Schwartz. It can be called a principled theory, based on duality theory for topological vector spaces.\n",
        "\n",
        "* This theory was very successful and is still widely used, but suffers from the main drawback that **it allows only linear operations.** In other words, **distributions cannot be multiplied** (except for very special cases): unlike most classical function spaces, they are not an algebra. For example it is not meaningful to square the Dirac delta function. Work of Schwartz from around 1954 showed that was an intrinsic difficulty.\n",
        "\n",
        "* Another solution of the multiplication problem is dictated by the [path integral formulation](https://en.wikipedia.org/wiki/Path_integral_formulation) of quantum mechanics. Since this is required to be equivalent to the Schrödinger theory of quantum mechanics which is invariant under coordinate transformations, this property must be shared by path integrals. This fixes all products of generalized functions as shown by H. Kleinert and A. Chervyakov. The result is equivalent to what can be derived from [dimensional regularization](https://en.wikipedia.org/wiki/Dimensional_regularization).\n",
        "\n",
        "* **The problem of multiplication of distributions, a limitation of the Schwartz distribution theory, becomes serious for non-linear problems.**\n",
        "\n"
      ]
    },
    {
      "cell_type": "markdown",
      "metadata": {
        "id": "Vah1nYJrRRUe"
      },
      "source": [
        "https://en.wikipedia.org/wiki/Generalized_function#Algebras_of_generalized_functions"
      ]
    },
    {
      "cell_type": "markdown",
      "metadata": {
        "id": "hIeZyPJFY6zQ"
      },
      "source": [
        "**Test Function**"
      ]
    },
    {
      "cell_type": "markdown",
      "metadata": {
        "id": "HGPKMjmZrkfa"
      },
      "source": [
        "* Als Testfunktionen bezeichnet man gewisse Typen von Funktionen, die in der Distributionentheorie eine wesentliche Rolle spielen. Üblicherweise **fasst man Testfunktionen eines bestimmten Typs zu einem Vektorraum** zusammen. \n",
        "\n",
        "* **Die zugehörigen Distributionen sind dann lineare Funktionale auf diesen Vektorräumen**. Ihr Name rührt daher, dass man die Distributionen (im Sinne linearer Abbildungen) auf die Testfunktionen anwendet und dadurch testet\n",
        "\n",
        "* Es gibt verschiedene Arten von Testfunktionen. In der mathematischen Literatur werden häufig der Raum der glatten Funktionen mit kompaktem Träger oder der Schwartz-Raum als Testfunktionenraum bezeichnet."
      ]
    },
    {
      "cell_type": "markdown",
      "metadata": {
        "id": "G6SK2fviw7Fx"
      },
      "source": [
        "formulier problem in variationell (sobolove räume), und dann Eigenschaften von Testfunktionen ausnutzen"
      ]
    },
    {
      "cell_type": "markdown",
      "metadata": {
        "id": "EkzmP7czg9vE"
      },
      "source": [
        "https://www.youtube.com/watch?v=beu28z_q3po"
      ]
    },
    {
      "cell_type": "markdown",
      "metadata": {
        "id": "b_GNr0ICY8zM"
      },
      "source": [
        "https://en.wikipedia.org/wiki/Bump_function"
      ]
    },
    {
      "cell_type": "markdown",
      "metadata": {
        "id": "dOcnX24HY_CW"
      },
      "source": [
        "https://de.m.wikipedia.org/wiki/Testfunktion"
      ]
    },
    {
      "cell_type": "markdown",
      "metadata": {
        "id": "kP3NPe1VZAEO"
      },
      "source": [
        "https://en.m.wikipedia.org/wiki/Test_functions_for_optimization"
      ]
    },
    {
      "cell_type": "markdown",
      "metadata": {
        "id": "IqWJSAyutp_e"
      },
      "source": [
        "**Schwarz-Raum**"
      ]
    },
    {
      "cell_type": "markdown",
      "metadata": {
        "id": "ZdsUKksJttCJ"
      },
      "source": [
        "https://de.m.wikipedia.org/wiki/Schwartz-Raum"
      ]
    },
    {
      "cell_type": "markdown",
      "metadata": {
        "id": "Gdr6F1zuU4MG"
      },
      "source": [
        "## **Variationsrechnung**"
      ]
    },
    {
      "cell_type": "markdown",
      "metadata": {
        "id": "T43L3bdUw2bn"
      },
      "source": [
        "https://de.wikipedia.org/wiki/Fluiddynamik"
      ]
    },
    {
      "cell_type": "markdown",
      "metadata": {
        "id": "CUOfmIPEw_X-"
      },
      "source": [
        "formulier problem in variationelle formulierung (dann bist du in sobolove räume), und dann Eigenschaften von Testfunktionen ausnutzen"
      ]
    },
    {
      "cell_type": "markdown",
      "metadata": {
        "id": "9AR9PIXysIa4"
      },
      "source": [
        "#### **Gegenstand**"
      ]
    },
    {
      "cell_type": "markdown",
      "metadata": {
        "id": "d-YucyzLNVXX"
      },
      "source": [
        "* Die [Variationsrechnung](https://de.wikipedia.org/wiki/Variationsrechnung) ist eine **Erweiterung der Funktionalanalysis und beschaeftigt sich mit <u>nichtlinearen Funktionalen</u>** (in der Funktionalanalysis sind es linear Funktionale)\n",
        "\n",
        "* The [calculus of variations](https://en.m.wikipedia.org/wiki/Calculus_of_variations) is a field that **uses variations, which are small changes in functions and functionals, to find maxima and minima of functionals**: mappings from a set of functions to the real numbers. Functionals are often expressed as definite integrals involving functions and their derivatives. Functions that maximize or minimize functionals may be found using the Euler–Lagrange equation of the calculus of variations.\n",
        "\n",
        "* In calculus of variations we are **NOT concerned with finding fix points of functions (like local maxima in a function), but rather fix points of functionals.**\n",
        "\n",
        "\n",
        "* dann führt eine Variation der Wirkung: https://de.m.wikipedia.org/wiki/Feldtheorie_(Physik)#Formalismus"
      ]
    },
    {
      "cell_type": "markdown",
      "metadata": {
        "id": "LTt3OLla2IRt"
      },
      "source": [
        "**Variational Principle**"
      ]
    },
    {
      "cell_type": "markdown",
      "metadata": {
        "id": "yjqXlKua2Mj8"
      },
      "source": [
        "* a [variational principle](https://en.m.wikipedia.org/wiki/Variational_principle) is one that enables a problem to be solved using calculus of variations, which concerns finding such functions which optimize the values of quantities that depend upon those functions. \n",
        "\n",
        "* For example, the problem of determining the shape of a hanging chain suspended at both ends—a catenary—can be solved using variational calculus, and in this case, the variational principle is the following: The solution is a function that minimizes the gravitational potential energy of the chain.\n",
        "\n",
        "* Any physical law which can be expressed as a variational principle describes a self-adjoint operator. These expressions are also called Hermitian. Such an expression describes an invariant under a Hermitian transformation."
      ]
    },
    {
      "cell_type": "markdown",
      "metadata": {
        "id": "3sKOpLJ5il05"
      },
      "source": [
        "**Variation der Elemente**"
      ]
    },
    {
      "cell_type": "markdown",
      "metadata": {
        "id": "qWojWs7Px8DZ"
      },
      "source": [
        "* die [Variation der Elemente](https://de.wikipedia.org/wiki/Variation_der_Elemente) ist eine im 19. Jahrhundert entwickelte Methode zur genauen Bahnbestimmung von Himmelskörpern. Sie dient bis heute zur Modellierung von [Bahnstörungen](https://de.wikipedia.org/wiki/Bahnstörung)."
      ]
    },
    {
      "cell_type": "markdown",
      "metadata": {
        "id": "eloiR80j3LKg"
      },
      "source": [
        "**Brachistochrone & Tautochronie**"
      ]
    },
    {
      "cell_type": "markdown",
      "metadata": {
        "id": "VpbYH6ya6lV_"
      },
      "source": [
        "Johann I Bernoulli hat sich mit dem **Problem des schnellsten Falles** beschäftigt. Im Jahre 1696 fand er schließlich die Lösung in der **Brachistochrone**. Heute sieht man dies oft als die **Geburtsstunde der Variationsrechnung**."
      ]
    },
    {
      "cell_type": "markdown",
      "metadata": {
        "id": "NWNCf_416SQR"
      },
      "source": [
        "[**Brachistochrone Curve**](https://en.wikipedia.org/wiki/Brachistochrone_curve) (in rot): Der Körper gleitet auf einer solchen Bahn schneller zum Ziel als auf jeder anderen Bahn, beispielsweise auf einer geradlinigen, obwohl diese kürzer ist.\n",
        "\n",
        "\n",
        "![vv](https://upload.wikimedia.org/wikipedia/commons/6/63/Brachistochrone.gif)"
      ]
    },
    {
      "cell_type": "markdown",
      "metadata": {
        "id": "YMvO3MMS6JFg"
      },
      "source": [
        "**Tautochronie** der Brachistochrone – von jedem Startpunkt auf der Kurve erreichen die Kugeln das „Ziel“ gleichzeitig.\n",
        "\n",
        "![ff](https://upload.wikimedia.org/wikipedia/commons/b/bd/Tautochrone_curve.gif)"
      ]
    },
    {
      "cell_type": "markdown",
      "metadata": {
        "id": "TnIIOyg7sUWT"
      },
      "source": [
        "**Gâteaux-Differential**"
      ]
    },
    {
      "cell_type": "markdown",
      "metadata": {
        "id": "ZO6d-DQEsTA4"
      },
      "source": [
        "* [Gâteaux-Differential](https://de.wikipedia.org/wiki/Gâteaux-Differential) ist eine **Verallgemeinerung des gewöhnlichen Differentiationsbegriffes** dar, indem es die Richtungsableitung auch in unendlichdimensionalen Räumen definiert."
      ]
    },
    {
      "cell_type": "markdown",
      "metadata": {
        "id": "kLrvSOUNr1T1"
      },
      "source": [
        "#### **Euler–Lagrange Equation**"
      ]
    },
    {
      "cell_type": "markdown",
      "metadata": {
        "id": "AUccaxMqCONs"
      },
      "source": [
        "**Hamilton'sches Prinzip (Wirkungsfunktional)**"
      ]
    },
    {
      "cell_type": "markdown",
      "metadata": {
        "id": "0YUSTnxUCj_B"
      },
      "source": [
        "* Das [Hamilton'sche Prinzip](https://de.wikipedia.org/wiki/Hamiltonsches_Prinzip) zeichnet tatsachlich durchlaufene Bahnen dadurch aus, dass bei ihnen die Wirkung S[q] (verglichen mit anderen Bahnen) ein Minimum annimmt.\n",
        "\n",
        "* Das Hamiltonsche Prinzip der Theoretischen Mechanik ist ein **Extremalprinzip**. Physikalische Felder und Teilchen nehmen danach für eine bestimmte Größe einen extremalen (d. h. größten oder kleinsten) Wert an. Diese Bewertung nennt man Wirkung, mathematisch ist die Wirkung ein Funktional, daher auch die Bezeichnung **Wirkungsfunktional**.\n",
        "\n",
        "* Die Wirkung erweist sich in vielen Fällen nicht als minimal, sondern nur als **„stationär“** (d. h. extremal). Deshalb wird das Prinzip von manchen Lehrbuchautoren auch das Prinzip der **stationären Wirkung** genannt. Manche Autoren nennen das Hamiltonsche Prinzip auch **'Prinzip der kleinsten Wirkung'**, was jedoch – wie oben ausgeführt – nicht präzise ist.\n",
        "\n",
        "* Hamilton's principle states that the true evolution of a physical system is a solution of the functional equation:\n",
        "\n",
        "> $\\frac{\\delta \\mathcal{S}}{\\delta \\mathbf{q}(t)}=0$\n",
        "\n",
        "* That is, the system takes a path in configuration space for which the action is stationary, with fixed boundary conditions at the beginning and the end of the path."
      ]
    },
    {
      "cell_type": "markdown",
      "metadata": {
        "id": "lcfFakZPDSlA"
      },
      "source": [
        "![ff](https://upload.wikimedia.org/wikipedia/commons/thumb/1/1c/Least_action_principle.svg/500px-Least_action_principle.svg.png)\n",
        "\n",
        "*As the system evolves, q traces a path through configuration space (only some are shown). The path taken by the system (red) has a stationary action (δS = 0) under small changes in the configuration of the system (δq).*"
      ]
    },
    {
      "cell_type": "markdown",
      "metadata": {
        "id": "8rTSTqyoGEgM"
      },
      "source": [
        "Richard Feynman zeigte in den 1940ern, dass sich das Hamiltonsche Prinzip in der Quantenfeldtheorie gerade dadurch ergibt, dass alle möglichen Pfade (auch die nicht zielgerichteten) zulässig sind und aufintegriert werden. Dabei überlagern sich Pfade mit extremaler Wirkung konstruktiv und davon abweichende destruktiv, so dass die Natur schließlich zielgerichtet erscheint."
      ]
    },
    {
      "cell_type": "markdown",
      "metadata": {
        "id": "bcxaUB6UFfh8"
      },
      "source": [
        "**Langrange Formalismus**"
      ]
    },
    {
      "cell_type": "markdown",
      "metadata": {
        "id": "juoWoVAzFb7x"
      },
      "source": [
        "Eingeführte Formulierung der klassischen Mechanik, in der die Dynamik eines Systems durch **eine einzige skalare Funktion, die Lagrange-Funktion**, beschrieben wird. Der Formalismus ist (im Gegensatz zu der newtonschen Mechanik, die a priori nur in Inertialsystemen gilt) auch in beschleunigten Bezugssystemen gültig. Der Lagrange-Formalismus ist invariant gegen Koordinatentransformationen.\n",
        "\n",
        "Der [Langrange Formalismus](https://de.wikipedia.org/wiki/Lagrange-Formalismus) ist eine mögliche (von vielen!) Formulierung der klassischen Mechanik. Hier wird die Dynamik eines Systems durch die Langrange-Funktion L(${\\boldsymbol{q}}$, $\\dot{\\boldsymbol{q}}$, $t$) beschrieben:\n",
        "\n",
        "* ${\\boldsymbol{q}}$ = (q1, q2, ..., qw) - allgemeine Koordinaten im Raum\n",
        "* $\\dot{\\boldsymbol{q}}$ = (d / dt) q ... ($\\dot{\\boldsymbol{q}}$1, $\\dot{\\boldsymbol{q}}$2.. $\\dot{\\boldsymbol{q}}$n) - Vektor der Wirkung (allgemeine Geschwindigkeiten)\n",
        "* $t$ - Zeit (Die explizite Zeitabhängige berücksichtigt externe, zeitabhängige Faktoren (z.B. Magnet-Felder etc). Wird auf Null gesetzt, denn bei einem Wechsel in die mikroskopische Theorie verschwindet die Zeit)\n",
        "\n",
        "> $L_{x}(q, \\dot{q}, t)$ wird zu: $L_{x}(q, \\dot{q})$ = $T$<sub>kin</sub> - $V$<sub>pot</sub>"
      ]
    },
    {
      "cell_type": "markdown",
      "metadata": {
        "id": "yh3-XC92HP_o"
      },
      "source": [
        "https://www.youtube.com/watch?v=V8CR4GVg5Io&t=301s"
      ]
    },
    {
      "cell_type": "markdown",
      "metadata": {
        "id": "xj_FQa3ZHR25"
      },
      "source": [
        "https://www.youtube.com/watch?v=EceVJJGAFFI"
      ]
    },
    {
      "cell_type": "markdown",
      "metadata": {
        "id": "dSDm60df1uY6"
      },
      "source": [
        "The Euler–Lagrange equation is an equation satisfied by a function q of a real argument t, which is a stationary point of the functional:\n",
        "\n",
        "> $S(\\boldsymbol{q})=\\int_{a}^{b} L(t, \\boldsymbol{q}(t), \\dot{\\boldsymbol{q}}(t)) \\mathrm{d} t$\n",
        "\n",
        "* ${\\boldsymbol{q}}$ - Koordinaten im Raum\n",
        "* $\\dot{\\boldsymbol{q}}$ - Vektor der Wirkung\n",
        "* t - Zeit (wird auf Null gesetzt, den bei einem Wechsel in die mikroskopische Theorie verschwindet die Zeit)\n",
        "\n",
        "The Euler–Lagrange equation, then, is given by\n",
        "\n",
        "> $L_{x}(t, q(t), \\dot{q}(t))-\\frac{\\mathrm{d}}{\\mathrm{d} t} L_{v}(t, q(t), \\dot{q}(t))=0$\n",
        "\n",
        "* partial derivative of one dimension, then second dimension and then time"
      ]
    },
    {
      "cell_type": "markdown",
      "metadata": {
        "id": "KYzlWwuA8hXl"
      },
      "source": [
        "**Euler–Lagrange Equation**"
      ]
    },
    {
      "cell_type": "markdown",
      "metadata": {
        "id": "V2qfbPen7OHY"
      },
      "source": [
        "https://www.youtube.com/watch?v=V0wx0JBEgZc"
      ]
    },
    {
      "cell_type": "markdown",
      "metadata": {
        "id": "a8e1OmDf8qdS"
      },
      "source": [
        "* the [Euler equation](https://en.m.wikipedia.org/wiki/Euler–Lagrange_equation) is a **second-order partial differential** equation whose **solutions are the functions for which a given functional is stationary**.\n",
        "\n",
        "* Because **a differentiable functional is stationary at its local extrema**, the Euler–Lagrange equation is useful for solving optimization problems in which, given some functional, one seeks the function minimizing or maximizing it. \n",
        "\n",
        "* This is analogous to [Fermat's theorem](https://en.m.wikipedia.org/wiki/Fermat%27s_theorem_(stationary_points)) in calculus, stating that at any point where a differentiable function attains a local extremum its derivative is zero.\n",
        "\n",
        "* In Lagrangian mechanics, according to [Hamilton's principle](https://en.m.wikipedia.org/wiki/Hamilton%27s_principle) of stationary action, the evolution of a physical system is described by the solutions to the Euler equation for the action of the system. In this context Euler equations are usually called Lagrange equations. In classical mechanics, it is equivalent to Newton's laws of motion, but it has the advantage that it takes the same form in any system of generalized coordinates, and it is better suited to generalizations.\n",
        "\n",
        "  * Hamilton's principle is William Rowan Hamilton's formulation of the [principle of stationary action](https://en.m.wikipedia.org/wiki/Principle_of_least_action) (also called: 'Principle of least action'). It states that the **dynamics of a physical system are determined by a variational problem for a functional based on a single function**, the Lagrangian, which may contain all physical information concerning the system and the forces acting on it. The variational problem is equivalent to and allows for the derivation of the differential equations of motion of the physical system\n"
      ]
    },
    {
      "cell_type": "markdown",
      "metadata": {
        "id": "Hvq9Ze9vgJ-T"
      },
      "source": [
        "https://de.wikipedia.org/wiki/Variationsrechnung#Euler-Lagrange-Gleichung;_Variationsableitung;_weitere_notwendige_bzw._hinreichende_Bedingungen"
      ]
    },
    {
      "cell_type": "markdown",
      "metadata": {
        "id": "ttEWWgIVr9Sl"
      },
      "source": [
        "#### **Fundamentallemma & -satz**"
      ]
    },
    {
      "cell_type": "markdown",
      "metadata": {
        "id": "Z3b7M8Nygvq7"
      },
      "source": [
        "**Fundamentallemma der Variationsrechnung**"
      ]
    },
    {
      "cell_type": "markdown",
      "metadata": {
        "id": "-FRcJghJgyjL"
      },
      "source": [
        "https://de.wikipedia.org/wiki/Fundamentallemma_der_Variationsrechnung"
      ]
    },
    {
      "cell_type": "markdown",
      "metadata": {
        "id": "ULsopNsIg5dZ"
      },
      "source": [
        "**Fundamentalsatz der Variationsrechnung**"
      ]
    },
    {
      "cell_type": "markdown",
      "metadata": {
        "id": "CwkRUt1ihCd_"
      },
      "source": [
        "* Fundamental Theorem of the Calculus of Variations - [Fundamentalsatz der Variationsrechnung](https://de.wikipedia.org/wiki/Fundamentalsatz_der_Variationsrechnung)\n",
        "\n",
        "* eng verwandt mit dem [weierstraßschen Satz vom Minimum](https://de.wikipedia.org/wiki/Satz_vom_Minimum_und_Maximum)\n",
        "\n",
        "* Er behandelt die in der Variationsrechnung zentrale Frage, unter welchen Bedingungen reellwertige Funktionale ein Minimum annehmen."
      ]
    },
    {
      "cell_type": "markdown",
      "metadata": {
        "id": "kyduGf4kNe-b"
      },
      "source": [
        "## **Vektoranalysis**"
      ]
    },
    {
      "cell_type": "markdown",
      "metadata": {
        "id": "TH8b8Mbvy_Fe"
      },
      "source": [
        "#### **Einleitung**"
      ]
    },
    {
      "cell_type": "markdown",
      "metadata": {
        "id": "r66BzwvTX8Ue"
      },
      "source": [
        "* Die [Vektoranalysis](https://de.m.wikipedia.org/wiki/Vektoranalysis) ist ein **Teilgebiet der Tensoranalysis**, beschäftigt sich hauptsächlich mit **Vektorfeldern in zwei oder mehr Dimensionen** \n",
        "\n",
        "* Die Vektoranalysis **verallgemeinert die Differential- und der Integralrechnung**.\n",
        "\n",
        "* Betrachtet werden Vektorfelder, die jedem Punkt des Raumes einen Vektor zuordnen, und [Skalarfelder](https://de.m.wikipedia.org/wiki/Skalarfeld), die jedem Punkt des Raumes einen Skalar zuordnen\n",
        "  * Skalarfeld $\\varphi$: eine Funktion, die jedem Punkt eines Raumes eine reelle Zahl (Skalar) zuordnet, z. B. eine Temperatur, Luftdruck.\n",
        "  * Wichtige Operationen im Zusammenhang mit Skalarfeldern sind: [Gradient](https://de.m.wikipedia.org/wiki/Gradient_(Mathematik)) eines Skalarfeldes, der ein Vektorfeld ist.\n",
        "[Richtungsableitung](https://de.m.wikipedia.org/wiki/Richtungsableitung) eines Skalarfeldes. (Eine Verallgemeinerung der Richtungsableitung auf unendlichdimensionale Räume ist das [Gâteaux-Differential](https://de.m.wikipedia.org/wiki/G%C3%A2teaux-Differential).)\n",
        "  * Ein Skalarfeld ist das einfachste [Tensorfeld](https://de.m.wikipedia.org/wiki/Tensorfeld).\n",
        "\n",
        "*  Die Temperatur eines Swimmingpools ist ein Skalarfeld: Jedem Punkt wird der Skalarwert seiner Temperatur zugeordnet. Die Wasserbewegung entspricht dagegen einem Vektorfeld, da jedem Punkt ein Geschwindigkeitsvektor zugeordnet wird, der Betrag und Richtung hat."
      ]
    },
    {
      "cell_type": "markdown",
      "metadata": {
        "id": "HwHPxe488bdG"
      },
      "source": [
        "https://de.m.wikipedia.org/wiki/Polarkoordinaten#Vektoranalysis"
      ]
    },
    {
      "cell_type": "markdown",
      "metadata": {
        "id": "DJvlIuRFy2VX"
      },
      "source": [
        "#### **Grundbegriffe**"
      ]
    },
    {
      "cell_type": "markdown",
      "metadata": {
        "id": "ib8wN8Qsy42W"
      },
      "source": [
        "* **Kurven** in R2 oder R3: Wege bzw. parametrisierte Kurven in Rn sind stetige Abbildungen $\\gamma$ [a, b] -> Rn\n",
        "\n",
        "* **Reguläre Wege** bzw. Kurven: stetig differenzierbar und Norm der Ableitung ist die Summe der Komponenten: $\\|\\dot{\\gamma}(t)\\|^{2}=\\left|\\dot{\\gamma}_{1}(t)\\right|^{2}+\\left|\\dot{\\gamma}_{2}(t)\\right|^{2}+\\left|\\dot{\\gamma}_{3}(t)\\right|^{2} \\neq 0$ fur alle t $\\in$ [a,b]. Bedeutet auch: es gibt uberall einen Tangentialvektor.\n",
        "\n",
        "* **Bogenlänge** (Länge der Kurve): Integration der Geschwindigkeitsvektoren in der Norm: $L[\\gamma]=\\int_{a}^{b}\\|\\dot{\\gamma}(t)\\| d t$\n",
        "\n",
        "* **Tangentialvektor**: Ableitung / Geschwindigkeitsvektor an einem Punkt, der in eine Richtung zeigt, der tangential zur Kurve zeigt. Den Vektor normiert man (dividiert durch Norm): $T_{\\gamma}(t):=\\frac{\\dot{\\gamma}(t)}{\\|\\dot{\\gamma}(t)\\|}$\n",
        "\n",
        "* **Normalenvektor**: nur definiert in einer Ebene, also in R2. Sollte senkrecht auf der Kurve / senkrecht auf dem Tangentialvektor stehen (man muss also diesen Punkt $\\dot{\\gamma}(t)=\\left(\\begin{array}{l}\\dot{\\gamma}_{1}(t) \\\\ \\dot{\\gamma}_{2}(t)\\end{array}\\right)$ um 90 Grad drehen, damit er senkrech steht): $N_{\\gamma}(t):=\\frac{1}{\\|\\dot{\\gamma}(t)\\|}\\left(\\begin{array}{c}-\\dot{\\gamma}_{2}(t) \\\\ \\dot{\\gamma}_{2}(t)\\end{array}\\right)$\n",
        "\n",
        "* **(Skalares) Kurvenintegral**: Für eine stetige Funktion $f: \\mathbb{R}^{n} \\rightarrow \\mathbb{R}$ und einem regulären Weg $\\gamma:[a, b] \\rightarrow \\mathbb{R}^{n}$ definiert man das Kurvenintegral von $f$ längs $\\gamma$ durch: $\\int_{\\gamma} f d s:=\\int_{a}^{b} f(\\gamma(t))\\|\\dot{\\gamma}(t)\\| d t$\n",
        "\n",
        "  * $ds$ sowie $ \\|\\dot{\\gamma}(t)\\| d t$ sind das 'Linienelement'\n",
        "\n",
        "  * $ \\|\\dot{\\gamma}(t)\\|$ ist die Norm von der Ableitung, die man berucksichtigen muss beim Integrieren wie schnell man durch die Kurve lauft (Gewichtungsfaktor)\n",
        "\n",
        "  * ist ein Kurvenintegral der 1. Art (nicht-orientiert), es gibt noch 2. Art (=orientiert)\n",
        "\n",
        "* **Beispielaufgabe in der Vektoranalysis** - Betrachten Sie die folgende parametrisierte Kurve:\n",
        "\n",
        "  * $\n",
        "\\gamma:[0, \\infty) \\rightarrow \\mathbb{R}^{2}, \\quad \\gamma(t)=\\left(\\begin{array}{c}\n",
        "t \\cos (t) \\\\\n",
        "t \\sin (t)\n",
        "\\end{array}\\right)\n",
        "$\n",
        "\n",
        "  * (a) Skizzieren Sie die Kurve, d. h. das Bild der Abbildung.\n",
        "\n",
        "  * (b) Handelt es sich um einen regulären Weg?\n",
        "\n",
        "  * (c) Geben Sie Tangenteneinheitsvektor und Normaleneinheitsvektor für jeden Punkt an."
      ]
    },
    {
      "cell_type": "markdown",
      "metadata": {
        "id": "FLeX-skuQC_8"
      },
      "source": [
        "#### **Vektorfeld**"
      ]
    },
    {
      "cell_type": "markdown",
      "metadata": {
        "id": "o3O9MS9VNgPz"
      },
      "source": [
        "* In der mehrdimensionalen Analysis und der Differentialgeometrie ist ein [Vektorfeld](https://de.m.wikipedia.org/wiki/Vektorfeld) eine Funktion, die jedem Punkt eines Raumes einen Vektor zuordnet.\n",
        "\n",
        "* Eine Abbildung $V: D \\rightarrow \\mathbb{R}^{n}, D \\subseteq \\mathbb{R}^{n}$ mit n = 1,2,3..\n",
        "\n",
        "* Die Temperatur eines Swimmingpools ist ein Skalarfeld: Jedem Punkt wird der Skalarwert seiner Temperatur zugeordnet. Die Wasserbewegung entspricht dagegen einem Vektorfeld, da jedem Punkt ein Geschwindigkeitsvektor zugeordnet wird, der Betrag und Richtung hat.\n",
        "\n",
        "* Meist sind Vektorfelder stetig differenzierbar = Komponenten sind stetig differenzierbar, zB Vektor $v1$ mit (x,y,z) und ihren drei Ableitungen als Komponente des Vektorfeldes $V$\n",
        "\n",
        "* Das duale Konzept zu einem Vektorfeld ist eine Funktion, die jedem Punkt eine [Linearform](https://de.m.wikipedia.org/wiki/Linearform), [zB [stetige lineare Funktionale](https://de.m.wikipedia.org/wiki/Funktional#Stetige_lineare_Funktionale)] zuordnet, eine solche Abbildung wird [pfaffsche Form](https://de.m.wikipedia.org/wiki/Pfaffsche_Form) (One-Form) genannt."
      ]
    },
    {
      "cell_type": "markdown",
      "metadata": {
        "id": "PLe3mhoqDP36"
      },
      "source": [
        "**Kurvenintegral über Vektorfelder**\n",
        "\n",
        "* Ist ein Kurvenintegral 2. Art (weil man Vektorfelder integriert) und ist orientiert (es ist wichtig, wie man den Weg durchlauft wegen den Vektoren!)\n",
        "\n",
        "* Für ein stetiges Vektorfeld $\\mathbf{v}: D \\rightarrow \\mathbb{R}^{3}$ mit $D \\subset \\mathbb{R}^{3}$ und einen regulären Weg $\\gamma:[a, b] \\rightarrow \\mathbb{R}^{3}$ definiert man das Kurvenintegral von v längs $\\gamma$ durch:\n",
        "\n",
        "> $\\int_{\\gamma} v \\cdot d \\vec{s}$ $:=\\int_{a}^{b} v(\\gamma(t)) \\cdot \\dot{\\gamma}(t) d t$\n",
        "\n",
        "* Anmerkungen:\n",
        "\n",
        "  * der dicke Punkt steht fur das Skalarprodukt. \n",
        "\n",
        "  * $\\dot{\\gamma}(t) d t$ - keine Norm der Ableitung der Kurve notig (dieser Tangentialvektor ist nicht normiert), wie bei Kurvenintegralen uber Funktionen\n",
        "\n",
        "  * $ d \\vec{s}$ ist ein vektorielles Linienelement\n",
        "\n",
        "* Komponente des Vektorfeldes in Richtung des Weges - Das ist, was man berücksichtigen will im Integral: Wie viel von dem Vektorfeld ist in Wegrichtung? Und nur das macht einen Einfluss in das Integral.\n",
        "\n",
        "* Beim Durchlaufen des Weges werden wir entweder mit dem Vektorfeld (in Richtung des Vektorfeldes) getrieben, oder es haelt uns zurück. = die Energie, die wir brauchen, um den Weg zu durchlaufen (wenn das Vektorfeld uns hilft oder daran hindert, wie eine Strömung).\n",
        "\n",
        "* Die Komponente in Richtung des Weges ist wichtig, und die Komponente bekommt man durch das Skalarprodukt. "
      ]
    },
    {
      "cell_type": "markdown",
      "metadata": {
        "id": "n-v9nefMJY9-"
      },
      "source": [
        "![vv](https://raw.githubusercontent.com/deltorobarba/repo/master/kurvenintegral_vektorfeld.png)"
      ]
    },
    {
      "cell_type": "markdown",
      "metadata": {
        "id": "YUy8UbeIYqx1"
      },
      "source": [
        "#### **Skalarpotential**"
      ]
    },
    {
      "cell_type": "markdown",
      "metadata": {
        "id": "mrnWapTgOqWX"
      },
      "source": [
        "**(Skalar-) Potential bei Kurvenintegralen in $\\mathbb{R}^{3}$**\n",
        "\n",
        "Ein Skalarpotential ist eine reelle Funktion, die auf einem einfach zusammenhängenden Gebiet zwei mal stetig differenzierbar ist. Wenn ein Vektorfeld so ein Potential besitzt, lassen sich viele Rechnungen mit z.B. Kurvenintegralen vereinfachen. Man kann dieses Potential berechnen.\n",
        "\n",
        "Wenn es eine Funktion F : d -> $\\mathbb{R}$ gibt, mit (Nabla ist der Tangent der Funktion mit den drei Komponenten x,y,z): \n",
        "\n",
        "> $\\vec{\\nabla} F(x, y, z)=\\vec{v}(x, y, z)=\\left(\\begin{array}{l}v_{1}(x, y, z) \\\\ v_{2}(x, y, z) \\\\ v_{3}(x, y, z)\\end{array}\\right)$\n",
        "\n",
        "Nabla berechnen und es kommt Vektorfeld als Ergebnis heraus. Solch eine Funktion F heisst Stammfunktion bzw. Potenzial zum Vektorfeld $\\vec{v}$. Ein Vektorfeld $\\vec{v}$ das eine solche Stammfunktion hat, nennt man 'konservativ' (dann kann man so ein Kointegral leicht ausrechnen).\n",
        "\n",
        "Wichtiger Satz: Auf einem **einfach zusammenhängenden** Gebiet $G \\subseteq \\mathbb{R}^{3}$ (=keine Löcher, alle Kurven die geschlossen sind kann man immer kleiner zusammenziehen) hat ein stetig differenzierbares Vektorfeld $\\vec{v}$ : G -> ${R}^{3}$ genau dann ein Potential, wenn $\\frac{\\partial v_{j}}{\\partial x_{k}}=\\frac{\\partial v_{k}}{\\partial x_{j}} \\quad$ fur alle $j, k=1,2,3$. In drei Dimension, weil man das oft in Rotationen anwendet / ist aquivalent zu $\\operatorname{rot}(\\vec{v})=0$ (ich muss nur die Rotation ausrechnen, und weiss dann ob das Vektorfeld ein konservatives ist oder nicht, hat also eine Stammfunktion oder nicht).\n",
        "\n",
        "* leiten wir Nabla in die x-Richtung ab, bekommt man v1, fur y-Richtung v2 und fur z-Richtung v3\n",
        "\n",
        "* ist wie die Stammfunktion, bezeichnet man hier aber als Potential\n",
        "\n",
        "> so gilt fur Kurve $\\gamma:[a, b] \\rightarrow R^{3}$,\n",
        "\n",
        "* Kurvenintegral ist unabhängig vom gewaehlten Weg, man kann verschiedene gehen. Wichtig ist nur von a nach b zu kommen."
      ]
    },
    {
      "cell_type": "markdown",
      "metadata": {
        "id": "lQWLOqidYl8z"
      },
      "source": [
        "https://www.youtube.com/watch?v=KPRvYY9WXGg&list=PLBh2i93oe2quqhn4TZjMnBM2v7lG5QhDD&index=9"
      ]
    },
    {
      "cell_type": "markdown",
      "metadata": {
        "id": "2de7qmNDYkPv"
      },
      "source": [
        "https://www.youtube.com/watch?v=aM4ktp8yO-s"
      ]
    },
    {
      "cell_type": "markdown",
      "metadata": {
        "id": "j2od0Mz9XkRX"
      },
      "source": [
        "https://de.wikipedia.org/wiki/Skalarpotential"
      ]
    },
    {
      "cell_type": "markdown",
      "metadata": {
        "id": "rh0bxMZQXmXO"
      },
      "source": [
        "https://de.wikipedia.org/wiki/Vektorpotential"
      ]
    },
    {
      "cell_type": "markdown",
      "metadata": {
        "id": "2T3n7jhWXtHv"
      },
      "source": [
        "#### **Gradientenfeld**"
      ]
    },
    {
      "cell_type": "markdown",
      "metadata": {
        "id": "i6-0Gw75XzxE"
      },
      "source": [
        "* Ein [Gradientenfeld](https://de.wikipedia.org/wiki/Gradientenfeld) ist ein Vektorfeld, das aus einem Skalarfeld durch Differentiation nach dem Ort abgeleitet wurde, bzw. – kürzer formuliert – der Gradient des Skalarfelds.\n",
        "\n",
        "* Zur besseren Abgrenzung zwischen dem Gradienten als mathematischem Operator und dem Resultat seiner Anwendung bezeichnen manche Autoren die Vektoren, aus denen sich Gradientenfelder zusammensetzen, auch als Gradientvektoren, andere dagegen mit Blick auf die Potentiale, aus denen sie sich herleiten, als Potentialvektoren.\n",
        "\n",
        "* Analog verwendet die überwiegende Zahl der Autoren den Begriff Potentialfeld nicht für das skalare Feld des Potentials selbst, sondern das sich aus ihm ableitende Gradientenfeld"
      ]
    },
    {
      "cell_type": "markdown",
      "metadata": {
        "id": "3HEOBISTrpoC"
      },
      "source": [
        "#### **Rechenoperationen in der Vektoranalysis**"
      ]
    },
    {
      "cell_type": "markdown",
      "metadata": {
        "id": "XpGcMJaKroS6"
      },
      "source": [
        "* **Differential**: Der [**Differentialoperator**](https://de.wikipedia.org/wiki/Differentialoperator) $\\frac{\\mathrm{d}}{\\mathrm{d} x}$ zur Bildung von [Differentialen](https://de.wikipedia.org/wiki/Differential_(Mathematik)) (ist eine Funktion, die einer Funktion eine Funktion zuordnet und die Ableitung nach einer oder mehreren Variablen enthält.)\n",
        "\n",
        "* Der [**Differentialoperator**](https://de.wikipedia.org/wiki/Differentialoperator) $\\frac{\\mathrm{d}}{\\mathrm{d} x}$ zur Bildung von [Differentialen](https://de.wikipedia.org/wiki/Differential_(Mathematik)) (ist eine Funktion, die einer Funktion eine Funktion zuordnet und die Ableitung nach einer oder mehreren Variablen enthält.)\n",
        "  * [Gradient](https://de.wikipedia.org/wiki/Gradient_(Mathematik)): Gibt die Richtung und Stärke des steilsten Anstiegs eines Skalarfeldes an. Der Gradient eines Skalarfeldes ist ein Vektorfeld. $\\operatorname{grad} \\phi:=\\vec{\\nabla} \\phi=\\left(\\begin{array}{c}\\frac{\\partial \\phi}{\\partial x} \\\\ \\frac{\\partial \\phi}{\\partial y} \\\\ \\frac{\\partial \\phi}{\\partial z}\\end{array}\\right)$\n",
        "  * [Divergenz](https://de.wikipedia.org/wiki/Divergenz_eines_Vektorfeldes): Gibt die Tendenz eines Vektorfeldes an, von Punkten wegzufließen. $\\operatorname{div} \\vec{F}:=\\vec{\\nabla} \\cdot \\vec{F}=\\frac{\\partial F_{x}}{\\partial x}+\\frac{\\partial F_{y}}{\\partial y}+\\frac{\\partial F_{z}}{\\partial z}$\n",
        "  * [Rotation](https://de.wikipedia.org/wiki/Rotation_eines_Vektorfeldes): Gibt die Tendenz eines Vektorfeldes an, um Punkte zu rotieren. $\\operatorname{rot} \\vec{F}:=\\vec{\\nabla} \\times \\vec{F}=\\left(\\begin{array}{c}\\frac{\\partial F_{z}}{\\partial y}-\\frac{\\partial F_{y}}{\\partial z} \\\\ \\frac{\\partial F_{x}}{\\partial z}-\\frac{\\partial F_{z}}{\\partial x} \\\\ \\frac{\\partial F_{y}}{\\partial x}-\\frac{\\partial F_{x}}{\\partial y}\\end{array}\\right)$\n",
        "\n",
        "* **Diese drei Rechenoperationen sind in der Vektoranalysis von besonderer Bedeutung**, weil sie Felder produzieren, die sich bei räumlicher Drehung des ursprünglichen Feldes mitdrehen. Operativ formuliert: Bei Gradient, Rotation und Divergenz spielt es keine Rolle, ob sie vor oder nach einer Drehung angewendet werden. Diese Eigenschaft folgt aus den **koordinatenunabhängigen** Definitionen. "
      ]
    },
    {
      "cell_type": "markdown",
      "metadata": {
        "id": "u0Zw_t0Ptro-"
      },
      "source": [
        "#### **Nabla-Operator**"
      ]
    },
    {
      "cell_type": "markdown",
      "metadata": {
        "id": "LHqNsnOYsVdm"
      },
      "source": [
        "**Koordinatenunabhängige Definition mit dem Nabla-Operator**\n",
        "\n",
        "* Der [Nabla-Operator](https://de.wikipedia.org/wiki/Nabla-Operator) ist ein Symbol, das in der Vektor- und Tensoranalysis benutzt wird, um kontextabhängig einen der drei Differentialoperatoren Gradient, Divergenz oder Rotation zu notieren.\n",
        "\n",
        "* [**Nabla Operator**](https://de.wikipedia.org/wiki/Nabla-Operator) $\\nabla$ zur Bestimmung des Gradienten einer mehrdimensionalen Funktion. Mit einem der drei **Differentialoperatoren**.\n",
        "\n",
        "* Der Nabla-Operator ist auch in anderen Koordinatensystemen definiert und so kann mit ihm zum Beispiel die Rotation [koordinatenunabhängig](https://de.wikipedia.org/wiki/Rotation_eines_Vektorfeldes#Koordinatenunabhängige_Definition_mit_dem_Nabla-Operator) durch \n",
        "\n",
        "> $\\operatorname{rot} \\vec{F}:=\\nabla \\times \\vec{F}$\n",
        "\n",
        "definiert werden. Mit dem Nabla-Operator können auch der Gradient- sowie die Divergenz eines Vektorfeldes dargestellt und Produktregeln hergeleitet werden.\n",
        "\n",
        "Formal ist der Nabla-Operator ein Vektor, dessen Komponenten die partiellen\n",
        "Ableitungsoperatoren $\\frac{\\partial}{\\partial x_{i}}$ sind:\n",
        "\n",
        "> $\n",
        "\\vec{\\nabla}=\\left(\\frac{\\partial}{\\partial x_{1}}, \\ldots, \\frac{\\partial}{\\partial x_{n}}\\right)\n",
        "$"
      ]
    },
    {
      "cell_type": "markdown",
      "metadata": {
        "id": "b2zTmFCuVE-u"
      },
      "source": [
        "#### **Rotation eines Vektorfeldes**"
      ]
    },
    {
      "cell_type": "markdown",
      "metadata": {
        "id": "dP_Y-_K6qxVV"
      },
      "source": [
        "* Als [Rotation oder Rotor](https://de.wikipedia.org/wiki/Rotation_eines_Vektorfeldes) bezeichnet man in der Vektoranalysis, einem Teilgebiet der Mathematik, einen bestimmten Differentialoperator, der einem Vektorfeld im dreidimensionalen euklidischen Raum mit Hilfe der Differentiation ein neues Vektorfeld zuordnet.\n",
        "\n",
        "* Die Rotation eines [Strömungsfeldes](https://de.wikipedia.org/wiki/Strömungsfeld) gibt für jeden Ort das Doppelte der Winkelgeschwindigkeit an, mit der sich ein mitschwimmender Körper dreht („rotiert“). Dieser Zusammenhang ist namensgebend.\n",
        "\n",
        "* Es muss sich aber nicht immer um ein Geschwindigkeitsfeld und eine Drehbewegung handeln; beispielsweise betrifft das Induktionsgesetz die Rotation des elektrischen Feldes.\n",
        "\n",
        "* [Rotation](https://de.wikipedia.org/wiki/Rotation_eines_Vektorfeldes): Gibt die Tendenz eines Vektorfeldes an, um Punkte zu rotieren. $\\operatorname{rot} \\vec{F}:=\\vec{\\nabla} \\times \\vec{F}=\\left(\\begin{array}{c}\\frac{\\partial F_{z}}{\\partial y}-\\frac{\\partial F_{y}}{\\partial z} \\\\ \\frac{\\partial F_{x}}{\\partial z}-\\frac{\\partial F_{z}}{\\partial x} \\\\ \\frac{\\partial F_{y}}{\\partial x}-\\frac{\\partial F_{x}}{\\partial y}\\end{array}\\right)$\n",
        "\n",
        "* Siehe auch [Koordinatentransformation](https://de.wikipedia.org/wiki/Koordinatentransformation#Drehung_(Rotation)) sowie [Drehmatrix](https://de.wikipedia.org/wiki/Drehmatrix)"
      ]
    },
    {
      "cell_type": "markdown",
      "metadata": {
        "id": "x9e3prN3rXj-"
      },
      "source": [
        "#### **Divergenz eines Vektorfeldes**"
      ]
    },
    {
      "cell_type": "markdown",
      "metadata": {
        "id": "deeikwtQraXy"
      },
      "source": [
        "https://de.wikipedia.org/wiki/Divergenz_eines_Vektorfeldes"
      ]
    },
    {
      "cell_type": "markdown",
      "metadata": {
        "id": "UGSV9UrCvfQh"
      },
      "source": [
        "#### **Gradient**"
      ]
    },
    {
      "cell_type": "markdown",
      "metadata": {
        "id": "O844e1Y6yuPP"
      },
      "source": [
        "* Der Gradient als Operator verallgemeinert die bekannten Gradienten, die den Verlauf von physikalischen Größen beschreiben. Als Differentialoperator kann er beispielsweise auf ein Skalarfeld angewandt werden und wird in diesem Fall ein Vektorfeld liefern, das Gradientenfeld genannt wird. \n",
        "\n",
        "* Der Gradient ist eine Verallgemeinerung der Ableitung in der mehrdimensionalen Analysis. Zur besseren Abgrenzung zwischen Operator und Resultat seiner Anwendung bezeichnet man solche Gradienten skalarer Feldgrößen in manchen Quellen auch als Gradientvektoren."
      ]
    },
    {
      "cell_type": "markdown",
      "metadata": {
        "id": "ExMsKuyqyziD"
      },
      "source": [
        "**Gradientenfeld**\n",
        "\n",
        "Ein [Gradientenfeld](https://de.wikipedia.org/wiki/Gradientenfeld) **ist ein Vektorfeld**, das aus einem Skalarfeld durch Differentiation nach dem Ort abgeleitet wurde, bzw. – kürzer formuliert – der Gradient des Skalarfelds."
      ]
    },
    {
      "cell_type": "markdown",
      "metadata": {
        "id": "fzwtAAJ2vik-"
      },
      "source": [
        "https://de.wikipedia.org/wiki/Gradient_(Mathematik)"
      ]
    },
    {
      "cell_type": "markdown",
      "metadata": {
        "id": "-4njkcQPvoYD"
      },
      "source": [
        "https://de.wikipedia.org/wiki/Gradient"
      ]
    },
    {
      "cell_type": "markdown",
      "metadata": {
        "id": "R68NS5iUvjnn"
      },
      "source": [
        "https://de.wikipedia.org/wiki/Partielle_Ableitung"
      ]
    },
    {
      "cell_type": "markdown",
      "metadata": {
        "id": "PhQKZZ-1M-GE"
      },
      "source": [
        "#### **Integralsätze**"
      ]
    },
    {
      "cell_type": "markdown",
      "metadata": {
        "id": "sBGhKHdBNUv2"
      },
      "source": [
        "[Integralsatz von Gauß](https://de.m.wikipedia.org/wiki/Gaußscher_Integralsatz)\n",
        "\n",
        "* Im Folgenden sei das „Integrationsvolumen“ V n-dimensional. Das [Volumenintegral](https://de.m.wikipedia.org/wiki/Volumenintegral) über den Gradienten einer skalaren Größe $\\phi$, kann dann in ein [Oberflächenintegral](https://de.m.wikipedia.org/wiki/Oberflächenintegral) (bzw. Hyperflächenintegral) über den Rand dieses Volumens umgewandelt werden:"
      ]
    },
    {
      "cell_type": "markdown",
      "metadata": {
        "id": "Y64AmnhcNBpb"
      },
      "source": [
        "[Satz von Stokes](https://de.m.wikipedia.org/wiki/Satz_von_Stokes)\n",
        "\n",
        "* sehr grundlegenden Satz über die Integration von Differentialformen, der den Hauptsatz der Differential- und Integralrechnung erweitert\n",
        "\n",
        "*  eine Verbindungslinie von der Differentialgeometrie zur Algebraischen Topologie eröffnet. \n",
        "\n",
        "* Dieser Zusammenhang wird durch den Satz von de Rham beschrieben, für den der Satz von Stokes grundlegend ist."
      ]
    },
    {
      "cell_type": "markdown",
      "metadata": {
        "id": "Vcm5d0r2fDD0"
      },
      "source": [
        "#### **Fundamentalzerlegung**"
      ]
    },
    {
      "cell_type": "markdown",
      "metadata": {
        "id": "nE9TPhq5fEux"
      },
      "source": [
        "* der [Helmholtzscher Zerlegungssatz](https://de.m.wikipedia.org/wiki/Helmholtz-Theorem) ist der Fundamentalsatz der Vektoranalysis. Beschreibt den allgemeinen Fall. Er sagt aus, dass sich jedes Vektorfeld $\\vec{F}$ als eine Überlagerung eines Quellenanteils $\\vec{F}_{Q}$ und eines Wirbelanteils $\\vec{F}_{W}$ beschreiben lässt."
      ]
    },
    {
      "cell_type": "markdown",
      "metadata": {
        "id": "azx50nYNOdyI"
      },
      "source": [
        "**[Navier-Cauchy-Gleichungen](https://de.m.wikipedia.org/wiki/Navier-Cauchy-Gleichungen)**\n",
        "\n",
        "* mathematisches Modell der Bewegung elastischer Festkörper"
      ]
    },
    {
      "cell_type": "markdown",
      "metadata": {
        "id": "mAqpVM7nYdgJ"
      },
      "source": [
        "## **Tensoranalysis**"
      ]
    },
    {
      "cell_type": "markdown",
      "metadata": {
        "id": "BnxwQGT8YfIk"
      },
      "source": [
        "* Die [Tensoranalysis](https://de.m.wikipedia.org/wiki/Tensoranalysis) ist ein Teilgebiet der Differentialgeometrie beziehungsweise der Differentialtopologie.\n",
        "\n",
        "* In der Tensoranalysis wird **das Verhalten von geometrischen Differentialoperatoren auf Tensorfeldern untersucht**.\n",
        "\n",
        "* Sie ist eine **Verallgemeinerung der Vektoranalysis**\n",
        "\n",
        "* Zum Beispiel kann der Differentialoperator Rotation in diesem Kontext auf n Dimensionen verallgemeinert werden. \n",
        "\n",
        "* Zentrale Objekte der Tensoranalysis sind Tensorfelder. Es wird untersucht, wie Differentialoperatoren auf diesen Feldern wirken."
      ]
    },
    {
      "cell_type": "markdown",
      "metadata": {
        "id": "NawRTutVPDUM"
      },
      "source": [
        "#### **Tensorfeld**"
      ]
    },
    {
      "cell_type": "markdown",
      "metadata": {
        "id": "l1ndD9U8PSkd"
      },
      "source": [
        "* Tensorfelder sind Funktionen, **die jedem Punkt einen Tensor zuordnen** (Tensor meint in diesem Fall ein rein algebraisches Objekt)\n",
        "\n",
        "* Tensorfelder werden auf ihre analytischen Eigenschaften untersucht (zB differenziert). Man erhält durch Differenzieren eines Tensorfeldes wieder ein Tensorfeld. Tensorfelder sind besondere glatte Abbildungen, die in Tensorbündel hinein abbilden (siehe unten).\n",
        "\n",
        "* Sei $M$ eine differenzierbare Mannigfaltigkeit. Ein [Tensorfeld](https://de.m.wikipedia.org/wiki/Tensorfeld) vom Typ (r,s) ist ein glatter [Schnitt](https://de.m.wikipedia.org/wiki/Schnitt_(Faserbündel)) im Tensorbündel $T_{s}^{r}(M)$. \n",
        "\n",
        "  * Ein Tensorfeld ist also ein glattes Feld $M \\rightarrow T_{s}^{r}(M),$ welches jedem Punkt der Mannigfaltigkeit einen (r,s)-Tensor zuordnet. \n",
        "\n",
        "  * Die Menge der Tensorfelder wird oft mit $\\Gamma^{\\infty}\\left(T_{s}^{r}(M)\\right)$ bezeichnet."
      ]
    },
    {
      "cell_type": "markdown",
      "metadata": {
        "id": "0o6ozZvJXdHS"
      },
      "source": [
        "#### **Tensordichte**"
      ]
    },
    {
      "cell_type": "markdown",
      "metadata": {
        "id": "OpVQEH92Xf4m"
      },
      "source": [
        "* [Tensordichte](https://de.m.wikipedia.org/wiki/Tensordichte) ist die Quantitätsgröße eines Tensorfeldes\n",
        "\n",
        "* die Tensordichte ist eine **Verallgemeinerung der Tensorfelder** in der Tensoranalysis \n",
        "\n",
        "* wurde eingeführt, um den „Unterschied zwischen Quantität und Intensität, soweit er physikalische Bedeutung hat“, zu erfassen: „die Tensoren sind die Intensitäts-, die Tensordichten die Quantitätsgrößen“. \n",
        "\n",
        "* eine **Tensordichte** ordnet einem Koordinatensystem ein Tensorfeld derart zu, dass es bei einem Koordinatenwechsel mit dem Absolutbetrag der Funktionaldeterminante multipliziert wird. Eine Tensordichte der Stufe null ist demnach eine skalare Dichte, deren Integral gemäß dem Transformationssatz eine Invariante liefert."
      ]
    },
    {
      "cell_type": "markdown",
      "metadata": {
        "id": "DMbn0EQsWcGh"
      },
      "source": [
        "#### **Vektorbündel & Tensorbündel**"
      ]
    },
    {
      "cell_type": "markdown",
      "metadata": {
        "id": "4ien3sW0Wh17"
      },
      "source": [
        "* [Vektorbündel](https://de.m.wikipedia.org/wiki/Vektorbündel) oder manchmal auch Vektorraumbündel sind Familien von Vektorräumen, die **durch die Punkte eines topologischen Raumes parametrisiert sind**."
      ]
    },
    {
      "cell_type": "markdown",
      "metadata": {
        "id": "SLtNZ8d0eBNq"
      },
      "source": [
        "* Vektorbündel gehören damit auch zu den [Faserbündeln](https://de.m.wikipedia.org/wiki/Faserbündel). Remind: Faser ist ein Urbild von einem Element (\"Faser der Abbildung über einem Element\") - surjektiv! kann also mehrere Elemente im Urbild haben. Daher Faser $\\mathbb{R}$<sup>2</sup> zu Punkt auf $\\mathbb{R}$ (siehe [hier](https://de.m.wikipedia.org/wiki/Vektorbündel) die Illustration:\n"
      ]
    },
    {
      "cell_type": "markdown",
      "metadata": {
        "id": "-KgzQEwbeRK5"
      },
      "source": [
        "![cc](https://upload.wikimedia.org/wikipedia/commons/thumb/3/38/Vectorbundle.svg/320px-Vectorbundle.svg.png)\n",
        "\n",
        "*Illustration des Vektorbündels $(E, B, \\pi)$. Hier ist der **Totalraum** $E=\\mathbb{R}^{2}$ und der **Basisraum** $B=\\mathbb{R} .$ Die Abbildung $\\pi: E \\rightarrow B$ projiziert jede Gerade $E_{x}$ auf den Punkt $x$. Der Raum $E_{x}=\\{p \\in E \\mid \\pi(p)=x\\}$ wird **Faser über $x$** genannt. Außerdem ist der Totalraum $E$ die Vereinigung aller Fasern.* (Comment: also Totalraum E ist Urbild mit Faser und Basisraum B ist Zielbild mit Element das von der Faser stammt)"
      ]
    },
    {
      "cell_type": "markdown",
      "metadata": {
        "id": "QpPiBg4nd_uw"
      },
      "source": [
        "* [Tensorbündel](https://de.m.wikipedia.org/wiki/Tensoranalysis#Tensorbündel) ist ein bestimmtes Vektorbündel. Tensorfelder sind dann besondere glatte Abbildungen, die in dieses Vektorbündel hinein abbilden."
      ]
    },
    {
      "cell_type": "markdown",
      "metadata": {
        "id": "76yFULrjPgX5"
      },
      "source": [
        "#### **Schnitt (Faserbündel)**"
      ]
    },
    {
      "cell_type": "markdown",
      "metadata": {
        "id": "69bEWfo_PjUV"
      },
      "source": [
        "* [Schnitte](https://de.m.wikipedia.org/wiki/Schnitt_(Faserbündel)) sind Abbildungen, welche in der algebraischen Topologie, insbesondere in der Homotopietheorie, untersucht werden. Insbesondere interessiert man sich dafür, unter welchen Bedingungen solche Abbildungen existieren. \n",
        "\n",
        "* Das bekannteste Beispiel von Schnitten sind die [**Differentialformen**](https://de.m.wikipedia.org/wiki/Differentialform).\n",
        "\n",
        "* Ein Schnitt kann als **Verallgemeinerung des Graphen einer Funktion** aufgefasst werden. \n",
        "\n"
      ]
    },
    {
      "cell_type": "markdown",
      "metadata": {
        "id": "U1oJRas2e5yT"
      },
      "source": [
        "![cc](https://upload.wikimedia.org/wikipedia/commons/thumb/9/90/Bundle_section.svg/187px-Bundle_section.svg.png)\n",
        "\n",
        "*Die Abbildung s ist ein Schnitt in einem Faserbündel $p: E \\rightarrow B$. Dieser Schnitt s erlaubt es, den Basisraum $B$ mit dem Teilraum $s(B)$ von $E$ zu identifizieren.*"
      ]
    },
    {
      "cell_type": "markdown",
      "metadata": {
        "id": "HHvXBMnoRB8h"
      },
      "source": [
        "#### **Differentialformen**"
      ]
    },
    {
      "cell_type": "markdown",
      "metadata": {
        "id": "dxXHLIt6Q70b"
      },
      "source": [
        "* [Differentialform](https://de.m.wikipedia.org/wiki/Differentialform) erlauben eine koordinatenunabhängige Integration auf allgemeinen orientierten differenzierbaren Mannigfaltigkeiten.\n",
        "\n",
        "* Beispiele:\n",
        "\n",
        "  * Glatte Funktionen sind 0-Formen.\n",
        "  * Pfaffsche Formen sind 1-Formen."
      ]
    },
    {
      "cell_type": "markdown",
      "metadata": {
        "id": "lfyrcBqf99Ka"
      },
      "source": [
        "**Glatte Funktionen**"
      ]
    },
    {
      "cell_type": "markdown",
      "metadata": {
        "id": "oQfcAm-7971y"
      },
      "source": [
        "* Eine [glatte Funktion](https://de.m.wikipedia.org/wiki/Glatte_Funktion) ist eine mathematische Funktion, die unendlich oft differenzierbar (insbesondere stetig) ist\n",
        "\n",
        "* Zum Beispiel ist jede [holomorphe Funktion](https://de.m.wikipedia.org/wiki/Holomorphe_Funktion) (=in jedem Punkt komplex differenzierbar) auch eine glatte Funktion. Außerdem werden glatte Funktionen als Abschneidefunktionen oder als Testfunktionen für Distributionen verwendet.\n",
        "\n",
        "* Eine Funktion $f: D \\rightarrow \\mathbb{R}$ heißt unendlich oft (stetig) differenzierbar oder glatt, wenn $f \\in C^{n}(D)$ für alle $n \\in \\mathbb{N}$ gilt. Die Menge aller glatten Funktionen auf $D$ wird mit $C^{\\infty}(D)$ notiert und es gilt\n",
        "$\n",
        "C^{\\infty}(D):=\\bigcap_{n \\in \\mathbb{N}} C^{n}(D)\n",
        "$"
      ]
    },
    {
      "cell_type": "markdown",
      "metadata": {
        "id": "4NB7LHkmNm_3"
      },
      "source": [
        "## **Differentialgeometrie**"
      ]
    },
    {
      "cell_type": "markdown",
      "metadata": {
        "id": "Vs-wzChQRfNt"
      },
      "source": [
        "* Die [Differentialgeometrie](https://de.wikipedia.org/wiki/Differentialgeometrie) stellt die Synthese von Analysis und Geometrie dar."
      ]
    },
    {
      "cell_type": "markdown",
      "metadata": {
        "id": "ol_FwyECbZYH"
      },
      "source": [
        "https://de.m.wikipedia.org/wiki/Infinitesimal"
      ]
    },
    {
      "cell_type": "markdown",
      "metadata": {
        "id": "36JX4PbRipB_"
      },
      "source": [
        "https://en.wikipedia.org/wiki/Infinitesimal_transformation\n",
        "\n",
        "\n",
        "https://en.wikipedia.org/wiki/Symmetry_in_quantum_mechanics\n",
        "\n",
        "https://en.wikipedia.org/wiki/Differential_geometry_of_surfaces\n",
        "\n",
        "https://en.wikipedia.org/wiki/Gaussian_curvature\n",
        "\n",
        "https://en.wikipedia.org/wiki/Minimal_surface"
      ]
    },
    {
      "cell_type": "markdown",
      "metadata": {
        "id": "hRffquxP8anO"
      },
      "source": [
        "https://en.wikipedia.org/wiki/Cycloid\n",
        "\n",
        "https://de.wikipedia.org/wiki/Zentralprojektion\n",
        "\n",
        "https://de.wikipedia.org/wiki/Projektive_Geometrie\n",
        "\n",
        "https://de.wikipedia.org/wiki/Synthetische_Geometrie\n",
        "\n",
        "https://de.wikipedia.org/wiki/Affiner_Raum\n",
        "\n",
        "https://de.wikipedia.org/wiki/Euklidischer_Raum\n",
        "\n",
        "https://de.wikipedia.org/wiki/Lorentz-Transformation\n",
        "\n",
        "https://de.wikipedia.org/wiki/Minkowski-Raum"
      ]
    },
    {
      "cell_type": "markdown",
      "metadata": {
        "id": "-2BU50U7Rzm_"
      },
      "source": [
        "#### **Differenzierbare Mannigfaltigkeit**"
      ]
    },
    {
      "cell_type": "markdown",
      "metadata": {
        "id": "noCWSegQR4Av"
      },
      "source": [
        "* [Differenzierbare Mannigfaltigkeiten](https://de.m.wikipedia.org/wiki/Differenzierbare_Mannigfaltigkeit) sind Objekte in der Differenzialtopologie, und ein Oberbegriff für Kurven, Flächen und andere geometrische Objekte, die – aus der Sicht der Analysis – lokal aussehen wie ein [euklidischer Raum](https://de.m.wikipedia.org/wiki/Euklidischer_Raum)."
      ]
    },
    {
      "cell_type": "markdown",
      "metadata": {
        "id": "amqD-XmcNbdW"
      },
      "source": [
        "## **Funktionentheorie**"
      ]
    },
    {
      "cell_type": "markdown",
      "metadata": {
        "id": "5V7t51Cq8N8V"
      },
      "source": [
        "https://de.m.wikipedia.org/wiki/Funktionentheorie"
      ]
    },
    {
      "cell_type": "markdown",
      "metadata": {
        "id": "7EJZSgXRNcuH"
      },
      "source": [
        "#### **Holomorphe Funktion**"
      ]
    },
    {
      "cell_type": "markdown",
      "metadata": {
        "id": "YPpqu4CjYvL7"
      },
      "source": [
        "* [Holomorphe Funktionen](https://de.m.wikipedia.org/wiki/Holomorphe_Funktion) sind an jedem Punkt komplex differenzierbar"
      ]
    },
    {
      "cell_type": "markdown",
      "metadata": {
        "id": "mYPO9ntW88WA"
      },
      "source": [
        "https://de.m.wikipedia.org/wiki/Meromorphe_Funktion"
      ]
    },
    {
      "cell_type": "markdown",
      "metadata": {
        "id": "Mk1mF44lxZs0"
      },
      "source": [
        "https://de.wikipedia.org/wiki/Jacobi-Matrix#Jacobi-Matrix_einer_holomorphen_Funktion"
      ]
    }
  ]
}