{
  "nbformat": 4,
  "nbformat_minor": 0,
  "metadata": {
    "colab": {
      "name": "analysis.ipynb",
      "provenance": [],
      "collapsed_sections": [
        "UlZ1wwQ-_kDU",
        "NV5j--Nm5XWi",
        "hCG3iyLo1jcj",
        "_BMwC_7ev16S",
        "n7txO-4l254v",
        "kvV9g-7G_a0Y",
        "EfrXUsI54L2_",
        "hIeZyPJFY6zQ",
        "HfXgkQdIaS-O",
        "kyduGf4kNe-b",
        "Gdr6F1zuU4MG",
        "amqD-XmcNbdW",
        "TWw1WCrmNjO6",
        "4NB7LHkmNm_3"
      ],
      "toc_visible": true,
      "include_colab_link": true
    },
    "kernelspec": {
      "name": "python3",
      "display_name": "Python 3"
    }
  },
  "cells": [
    {
      "cell_type": "markdown",
      "metadata": {
        "id": "view-in-github",
        "colab_type": "text"
      },
      "source": [
        "<a href=\"https://colab.research.google.com/github/deltorobarba/machinelearning/blob/master/analysis.ipynb\" target=\"_parent\"><img src=\"https://colab.research.google.com/assets/colab-badge.svg\" alt=\"Open In Colab\"/></a>"
      ]
    },
    {
      "cell_type": "markdown",
      "metadata": {
        "id": "HjNmcYpFuFTY"
      },
      "source": [
        "# **Higher Analysis**"
      ]
    },
    {
      "cell_type": "code",
      "metadata": {
        "id": "RYViK39mt7Nj",
        "colab": {
          "base_uri": "https://localhost:8080/",
          "height": 35
        },
        "outputId": "0168c965-db78-461b-ba19-50df85a9e604"
      },
      "source": [
        "import numpy as np\n",
        "import pandas as pd\n",
        "import seaborn as sns\n",
        "import matplotlib.pyplot as plt"
      ],
      "execution_count": null,
      "outputs": [
        {
          "output_type": "stream",
          "text": [
            "2.2.0\n"
          ],
          "name": "stdout"
        }
      ]
    },
    {
      "cell_type": "markdown",
      "metadata": {
        "id": "aXtkYuCrMR-l"
      },
      "source": [
        "## **Funktionalanalysis**"
      ]
    },
    {
      "cell_type": "markdown",
      "metadata": {
        "id": "UlZ1wwQ-_kDU"
      },
      "source": [
        "#### **Definition**"
      ]
    },
    {
      "cell_type": "markdown",
      "metadata": {
        "id": "TE7kF3loVHOV"
      },
      "source": [
        "Folgende Themen sollen behandelt werden:\r\n",
        "\r\n",
        "* Distributionen\r\n",
        "* Unbeschränkte Operatoren, Spektralsatz \r\n",
        "* Banach-Räume, Hilbert-Räume (insbesondere Lp- und **Sobolev Räume**) und beschränkte lineare Operatoren darauf.\r\n",
        "* Pseudodifferentialoperatoren\r\n",
        "* Grundlegende Sätze der Funktionalanalysis (Hahn-Banach, Banach-Steinhaus, Satz vom abgeschlossenen Graphen...)\r\n",
        "* Kompakte Operatoren und Fredholm Theorie\r\n",
        "* Spektraltheorie kompakter Operatoren\r\n",
        "* Grundzüge nicht beschränkter Operatoren\r\n",
        "* Anwendungen auf Randwertprobleme elliptischer partieller Differentialgleichungen\r\n"
      ]
    },
    {
      "cell_type": "markdown",
      "metadata": {
        "id": "m_PWlqHc1iRr"
      },
      "source": [
        "Der große Reiz der Funktionalanalysis ist, dass die im Grundstudium erworbenen Konzepte der Analysis (Stetigkeit, Grenzwerte, Vollständigkeit) und Linearen Algebra (Vektorräume, lineare Abbildungen, Eigenwerte) konsequent zusammengeführt werden und gemeinsam eine Theorie liefern, die wiederrum in vielen Bereichen der Mathematik und Physik ein unabdingbares Werkzeug ist. Im Rahmen des Masterschwerpunktes Partielle Differentialgleichungen sollen in dieser Vorlesung insbesondere die Anwendung im Studium partieller Differentialgleichungen im Fokus liegen.\n",
        "\n",
        "\n",
        "**In der Funktionalanalysis betrachtet man topologische Vektorräume, d. h. Vektorräume, auf denen man von Konvergenz sprechen und dementsprechend auch unendliche Summen bilden kann**. Good overview [here](https://matheplanet.com/default3.html?call=article.php?sid=1192&ref=https%3A%2F%2Fwww.google.de%2F)\n",
        "\n",
        "**Das Ziel der Funktionalanalysis** ist es nicht zuletzt, die **<u>Methoden der mehrdimensionalen Analysis auf unendlichdimensionale Räume auszudehnen und dabei insbesondere Konzepte wie Konvergenz, Stetigkeit und Differenzierbarkeit zu untersuchen</u>**. \n",
        "\n",
        "Daher werden a priori **nur Vektorräume betrachtet, die zumindest eine topologische Struktur tragen, also die topologischen Vektorräume**. Zu ihnen zählen unter anderem alle normierten Vektorräume und insbesondere die Banach- und Hilberträume."
      ]
    },
    {
      "cell_type": "markdown",
      "metadata": {
        "id": "syMDia1r2w89"
      },
      "source": [
        "* Functional analysis is organized around adequate techniques to bring function spaces as topological vector spaces within reach of the ideas that would apply to normed spaces of finite dimension. \n",
        "\n",
        "* Die historischen Wurzeln der Funktionalanalysis liegen im Studium der **Fouriertransformation** und aahnlicher Transformationen sowie der Untersuchung von Differential- und Integralgleichungen. \n",
        "\n",
        "* Der Wortbestandteil ”funktional“ geht auf die **Variationsrechnung** zuru ̈ck.\n",
        "\n",
        "* Grundlage der Funktionalanalysis sind Vektorräume über den reellen oder komplexen Zahlen. Der Grundbegriff ist hier der topologische Vektorraum, der dadurch gekennzeichnet ist, **dass die Vektorraumverknüpfungen stetig sind**, etwas konkreter werden auch lokalkonvexe topologische Vektorräume und Fréchet-Räume untersucht. \n",
        "\n",
        "* Wichtige Aussagen sind dabei der Satz von Hahn-Banach, der Satz von Baire und der Satz von Banach-Steinhaus. Insbesondere in der Lösungstheorie partieller Differentialgleichungen spielen diese eine wichtige Rolle, darüber hinaus in der Fredholm-Theorie.\n",
        "\n",
        "* Der wichtigste Spezialfall **lokalkonvexer topologischer Vektorräume** sind **normierte Vektorräume**. Sind diese zusätzlich vollständig, dann heißen sie **Banachräume**. Noch spezieller betrachtet man **Hilberträume**, bei denen die Norm von einem Skalarprodukt erzeugt wird. Diese Räume sind von grundlegender Bedeutung für die mathematische Formulierung der Quantenmechanik. Ein wichtiger Untersuchungsgegenstand sind stetige lineare Operatoren auf Banach- oder Hilberträumen.\n",
        "\n"
      ]
    },
    {
      "cell_type": "markdown",
      "metadata": {
        "id": "NV5j--Nm5XWi"
      },
      "source": [
        "#### **Funktionenraum**"
      ]
    },
    {
      "cell_type": "markdown",
      "metadata": {
        "id": "7SaeXgZM5beC"
      },
      "source": [
        "> **Vektorräume, deren Elemente selbst Funktionen sind, nennt man Funktionenräume.**\n",
        "\n",
        "A function space is a set of functions between two fixed sets. Often, the domain and/or codomain will have additional structure which is inherited by the function space. For example, the set of functions from any set X into a vector space has a natural vector space structure given by pointwise addition and scalar multiplication. In other scenarios, the function space might inherit a topological or metric structure, hence the name function space.\n",
        "\n",
        "* Ein [Funktionenraum](https://de.wikipedia.org/wiki/Funktionenraum) ist **eine Menge von Funktionen, die alle denselben Definitionsbereich besitzen**. Allerdings kann der Begriff Funktionenraum ähnlich wie der mathematische Begriff Raum nicht scharf abgegrenzt werden.\n",
        "\n",
        "* Meist ist ein Funktionenraum mit einer **Vektoraddition und Skalarmultiplikation** versehen, so dass er einen Vektorraum bildet, dann spricht man von einem linearen Funktionenraum\n",
        "\n",
        "* Viele wichtige lineare Funktionenräume sind unendlichdimensional. Diese bilden einen wichtigen Untersuchungsgegenstand der Funktionalanalysis. \n",
        "\n",
        "* Lineare Funktionenräume werden häufig mit einer Norm versehen, sodass ein normierter Raum oder – im Falle der Vollständigkeit – sogar ein Banachraum entsteht. In anderen Fällen werden lineare Funktionenräume durch Definition einer Topologie zu einem topologischen Vektorraum oder einem lokalkonvexen Raum.\n",
        "\n",
        "* Funktionenräume sind im Bereich der linearen Algebra Vektorräume, deren Elemente als Funktionen aufgefasst werden. Hauptsächlich werden Funktionenräume allerdings im Bereich der Funktionalanalysis betrachtet. **Hier wird unter einem Funktionenraum ein Vektorraum mit einer topologischen Struktur verstanden, dessen Elemente als Funktionen aufgefasst werden.**\n",
        "\n"
      ]
    },
    {
      "cell_type": "markdown",
      "metadata": {
        "id": "QyBc99P47hHM"
      },
      "source": [
        "**In der linearen Algebra**: Sei $D$ eine nichtleere Menge und $V$ ein Vektorraum über einem Körper $K$, dann bezeichnet $V^{D}$ (auch $\\mathrm{Abb}(D, V)$ oder $F(D, V)$ ) die Menge aller Funktionen von $D$ nach $V$. Die Menge $V^{D}$ wird für $f, g \\in V^{D}$ und für Skalare $\\lambda \\in K$ durch die folgenden beiden Verknüpfungen zu einem Vektorraum:\n",
        "Addition: $(f+g): D \\rightarrow V, x \\mapsto f(x)+g(x)$\n",
        "Skalarmultiplikation $\\lambda f: D \\rightarrow V, x \\mapsto \\lambda \\cdot f(x)$\n",
        "Dieser Vektorraum $V^{D}$ und die Untervektorrăume von $V^{D}$ werden im Bereich der linearen Algebra als Funktionenraum bezeichnet.\n"
      ]
    },
    {
      "cell_type": "markdown",
      "metadata": {
        "id": "wcOvWPVApLl1"
      },
      "source": [
        "**In der Funktionalanalysis:** \n",
        "\n",
        "* Sei $D$ eine nichtleere Menge, $V$ ein topologischer Vektorraum (oftmals ein Banachraum oder lokalkonvexer Vektorraum) und $V^{D}$ der Vektorraum aller Abbildungen von $D$ nach $V$. Ein linearer Funktionenraum im Bereich der Funktionalanalysis ist ein Untervektorraum von $V^{D},$ der mit einer von $V$ abgeleiteten topologischen Struktur versehen ist.\n",
        "\n",
        "* **$C^{p}(D)$ der Raum der $p$ -fach stetig differenzierbaren Funktionen mit $p \\in \\mathbb{N} \\cup\\{0, \\infty\\}$ ist ein Funktionenraum**. **Falls $D$ kompakt ist**, ist der Raum bezüglich der üblichen Norm $\\|f\\|_{\\mathcal{C}^{p}(D)}=\\sup _{k \\leq p} \\sup _{x \\in D}\\left|f^{(k)}(x)\\right|$ **ein Banachraum**. ${ }^{[5]}$ Siehe Differentiationsklasse.\n",
        "\n",
        "* **$C_{0}^{\\infty}, C_{c}^{\\infty}$ oder $\\mathcal{D}(D)$ der Raum der [Testfunktionen](https://de.wikipedia.org/wiki/Testfunktion) ist ein Funktionenraum**. Er enthält alle glatten Funktionen mit kompaktem Träger und ist mit der Topologie versehen, welche durch den Konvergenzbegriff induziert wird. Eine Folge $\\left(\\phi_{j}\\right)_{j \\in J}$ konvergiert in $\\mathcal{D}(D)$ gegen $\\phi,$ wenn es ein Kompaktum $K \\subset D$ gibt mit $\\operatorname{supp}\\left(\\phi_{j}\\right) \\subset K$ für alle $j,$ und\n",
        "$\\lim _{j \\rightarrow \\infty} \\sup _{x \\in K}\\left|\\partial_{x}^{\\alpha}\\left(\\phi_{j}(x)-\\phi(x)\\right)\\right|=0\n",
        "$ für alle Multiindizes $\\alpha \\in \\mathbb{N}^{n}$ gilt.\n",
        "\n",
        "* **$L^{p}(D)$ der Raum der $p$ -fach Lebesgue-integrierbaren Funktionen (siehe $L^{p}$ ) ist ein Funktionenraum & ein zentraler Gegenstand der Funktionalanalysis**. Dieser Raum besteht nicht aus einzelnen Funktionen, sondern aus Äquivalenzklassen von Funktionen, welche sich nur auf einer Lebesgue-Nullmenge unterscheiden. Aus diesem Grund ist für $p \\geq 1$ auch die $L^{p}$ -Norm\n",
        "$ \\|f\\|_{L^{p}(D)}=\\left(\\int_{D}|f(x)|^{p} \\mathrm{~d} x\\right)^{1 / p}\n",
        "$ positiv definit und damit wirklich eine Norm. Bezüglich dieser Norm ist der $L^{p}$ -Raum auf kompakten Mengen ebenfalls ein Banachraum. Der Spezialfall $L^{2}$ ist sogar ein Hilbertraum. Dieser Raum wird in der Quantenmechanik häufig benutzt. Es ist der Raum der Wellenfunktionen. Für $0<p<1$ kann man die $L^{p}$ -Räume analog definieren, jedoch sind diese keine normierten Räume.\n",
        "\n",
        "* [Siehe hier mehr](https://de.wikipedia.org/wiki/Funktionenraum#Funktionalanalysis) Beispiele aus der Funktionalanalysis"
      ]
    },
    {
      "cell_type": "markdown",
      "metadata": {
        "id": "nlRmIu1LpJu1"
      },
      "source": [
        "**In der Topologie**: \n",
        "\n",
        "* In der Topologie versteht man unter einem Funktionenraum einen topologischen Raum, dessen Elemente Funktionen von einer Menge oder einem topologischen Raum $X$ in einen topologischen Raum $Y$ sind und dessen Topologie von der Topologie von $X$ und $Y$ und eventuellen Zusatzstrukturen, wie zum Beispiel einer Metrik oder einer uniformen Struktur, abgeleitet ist. Häufig wird die Kompakt-Offen-Topologie verwendet.\n",
        "\n",
        "* Sind $M$ und $N$ topologische Räume, so schreibt man $\\mathcal{C}(M, N)$ für die Menge der stetigen Funktionen $f: M \\rightarrow N$.\n",
        "\n",
        "* Ist auf $N$ eine Metrik $d$ gegeben, dann kann man sinnvoll von der Menge der beschränkten Funktionen sprechen (auch ohne Topologie auf $M$ ). Für diese Abbildungsmenge wird unter anderem die Notation $B(M, N)$ verwendet. Ist auch auf $M$ eine Topologie definiert, schreibt man $\\mathcal{C}_{b}(M, N)$ für die Menge der beschränkten stetigen Funktionen. Auf diesen Räumen wird durch\n",
        "$$\n",
        "d_{\\infty}:(f, g) \\mapsto \\sup _{x \\in M} d(f(x), g(x))\n",
        "$$\n",
        "eine Metrik definiert. Alternativ ist auch die Metrik\n",
        "$$\n",
        "d_{\\infty}^{\\prime}:(f, g) \\mapsto \\min \\left\\{1, \\sup _{x \\in M} d(f(x), g(x))\\right\\}\n",
        "$$\n",
        "möglich. **Diese beiden Metriken <u>erzeugen aber dieselben offenen Mengen</u>, sodass sie äquivalent behandelt werden können.**"
      ]
    },
    {
      "cell_type": "markdown",
      "metadata": {
        "id": "hCG3iyLo1jcj"
      },
      "source": [
        "#### **Operator**"
      ]
    },
    {
      "cell_type": "markdown",
      "metadata": {
        "id": "Jk36BF1D1w6k"
      },
      "source": [
        "**Operatoren sind Abbildungen zwischen Funktionenräumen (um sie von den Elementen von Funktionenräumen zu unterscheiden, die Funktionen heissen).** \n",
        "\n",
        "* Ahnlich wie bei Funktoren, als strukturerhaltende Abbildung zwischen zwei Kategorien, in denen selbst Funktionen existieren).\n",
        "\n",
        "* Ein [Operator](https://de.wikipedia.org/wiki/Operator_(Mathematik)) ist eine mathematische Vorschrift, durch die man aus mathematischen Objekten neue Objekte bilden kann.\n",
        "\n",
        "* Er kann eine standardisierte Funktion oder eine Vorschrift über Funktionen sein. \n",
        "\n",
        "* In der Funktionalanalysis hat man es mit Vektorräumen zu tun, deren Elemente selbst Funktionen sind. Diese Räume nennt man auch [Funktionenräume](https://de.wikipedia.org/wiki/Funktionenraum). Um die Elemente (=Funktionen) dieser Vektorräume besser von den Abbildungen zwischen solchen Vektorräumen zu unterscheiden, nennt man letztere auch Operatoren. \n",
        "\n",
        "* Daher: **Abbildungen zwischen solchen Vektorräumen von Funktionen / Funktionenräumen bezeichnet man auch als Operatoren.**\n",
        "\n",
        "* Beispiele für Operatoren sind:\n",
        "\n",
        "  * Operatoren für die Grundrechenarten: +, -, *, /\n",
        "\n",
        "  * Funktionaloperatoren (im Sinne der Funktionalanalysis): $\\frac{d}{d x} \\int \\nabla$ grad div rot"
      ]
    },
    {
      "cell_type": "markdown",
      "metadata": {
        "id": "KX8x82Y91lKD"
      },
      "source": [
        "![cc](https://raw.githubusercontent.com/deltorobarba/repo/master/operator.png)\n",
        "\n",
        "[Image Source](https://me-lrt.de/operator-linear-beschrankt)"
      ]
    },
    {
      "cell_type": "markdown",
      "metadata": {
        "id": "q1A4i4rhFaBn"
      },
      "source": [
        "**Unterschied Operator und Funktion**: \n",
        "\n",
        "* Was den mathematischen Formalismus angeht, gibt es keinen Unterschied zwischen einem Operator und einer Funktion (und einer Abbildung). \n",
        "\n",
        "* Allerdings gibt es einen 'philosophischen' Unterschied: Operatoren werden meistens für zwei Typen von Funktionen verwendet: a) Grundlegende Rechenoperationen. b) Funktionen, deren Argumente ebenfalls Funktionen sind. c) Funktionen in der Meta-Ebene. Mehr dazu steht im bereits verlinkten Wikipedia-Artikel."
      ]
    },
    {
      "cell_type": "markdown",
      "metadata": {
        "id": "10-iYZtzBJhA"
      },
      "source": [
        "**Beispiele:**\n",
        "\n",
        "* **Differential**: Der [**Differentialoperator**](https://de.wikipedia.org/wiki/Differentialoperator) $\\frac{\\mathrm{d}}{\\mathrm{d} x}$ zur Bildung von [Differentialen](https://de.wikipedia.org/wiki/Differential_(Mathematik)) (ist eine Funktion, die einer Funktion eine Funktion zuordnet und die Ableitung nach einer oder mehreren Variablen enthält.)\n",
        "\n",
        "* **Integral**: Der [**Volterraoperator**](https://de.wikipedia.org/wiki/Integraloperator#Volterraoperator) $\\int_{0}^{t}$ zur Bildung des [bestimmten Integrals](https://de.wikipedia.org/wiki/Integralrechnung) (ist ein Beispiel fur einen [Integraloperator](https://de.wikipedia.org/wiki/Integraloperator). Operatoren wie diese, die einer Funktion eine Zahl zuordnen, nennt man [Funktional](https://de.wikipedia.org/wiki/Funktional).\n",
        "\n",
        "  * Die Fourier-Transformation ${\\mathcal {F}}$ ist z.B. ein **linearer Operator** (siehe unten). \n",
        "\n",
        "* [**Nabla Operator**](https://de.wikipedia.org/wiki/Nabla-Operator) $\\nabla$ zur Bestimmung des Gradienten einer mehrdimensionalen Funktion. Mit einem der drei Differentialoperatoren [Gradient](https://de.wikipedia.org/wiki/Gradient_(Mathematik)) (Anwendung im [Gradientenverfahren](https://de.wikipedia.org/wiki/Gradientenverfahren) in der Numerik), [Divergenz](https://de.wikipedia.org/wiki/Divergenz_eines_Vektorfeldes) oder [Rotation](https://de.wikipedia.org/wiki/Rotation_eines_Vektorfeldes) \n",
        "\n",
        "* **Spezielle Klassen von Operatoren sind etwa [kompakte Operatoren](https://de.wikipedia.org/wiki/Kompakter_Operator) oder [Fredholm-Operatoren](https://de.wikipedia.org/wiki/Fredholm-Operator).**"
      ]
    },
    {
      "cell_type": "markdown",
      "metadata": {
        "id": "QhuKDq0EwC4H"
      },
      "source": [
        "**Lineare & nicht-lineare Operatoren**"
      ]
    },
    {
      "cell_type": "markdown",
      "metadata": {
        "id": "HiqVhXXPIGRN"
      },
      "source": [
        "[Lineare Operatoren](https://de.wikipedia.org/wiki/Linearer_Operator): In Funktionalanalysis betrachtet man Eigenschaften von Abbildungen zwischen (unendlichdimensionalen) Banachräumen. **Lineare Abbildungen heißen [lineare Operatoren](https://de.wikipedia.org/wiki/Lineare_Abbildung)**, nichtlineare Abbildungen werden nichtlineare Operatoren genannt.\n",
        "\n",
        "* Der Begriff linearer Operator wurde in der Funktionalanalysis (einem Teilgebiet der Mathematik) eingeführt und ist **synonym zum Begriff der linearen Abbildung**. Eine lineare Abbildung ist eine **strukturerhaltende Abbildung zwischen Vektorräumen über einem gemeinsamen Körper**. \n",
        "\n",
        "* Werden Vektorräume über dem Körper der reellen oder komplexen Zahlen betrachtet und sind diese mit einer Topologie versehen (lokalkonvexe Räume, normierte Räume, Banachräume), so spricht man vorzugsweise von linearen Operatoren.\n",
        "\n",
        "* Die Bedeutung linearer Operatoren besteht darin, dass sie die lineare Struktur des unterliegenden Raumes respektieren, d. h., sie sind Homomorphismen zwischen Vektorräumen.\n",
        "\n",
        "**Anwendungen linearer Operatoren sind:**\n",
        "\n",
        "* Die Beschreibung von Koordinatentransformationen im dreidimensionalen Euklidischen Raum (**Spiegelung, Drehung, Streckung**) und der [Lorentztransformation](https://de.wikipedia.org/wiki/Lorentz-Transformation) in der vierdimensionalen Raumzeit durch Matrizen.\n",
        "\n",
        "* Die Darstellung von Observablen in der Quantenmechanik und die Beschreibung der Dynamik eines quantenmechanischen Systems durch seinen Hamilton-Operator H in der Schrödingergleichung.\n",
        "\n",
        "* Die Entwicklung von Lösungstheorien für Differential- und Integralgleichungen, siehe Sobolew-Raum und Distribution."
      ]
    },
    {
      "cell_type": "markdown",
      "metadata": {
        "id": "_BMwC_7ev16S"
      },
      "source": [
        "#### **Funktional**"
      ]
    },
    {
      "cell_type": "markdown",
      "metadata": {
        "id": "Z2gaucfCv5BP"
      },
      "source": [
        "* **Ein [Funktional](https://de.m.wikipedia.org/wiki/Funktional) bzw. [functional](https://en.m.wikipedia.org/wiki/Functional_(mathematics)) J[y] bildet eine <u>Funktion</u> y(x) auf eine <u>Zahl</u> ab.**\n",
        "\n",
        "> Sei $V$ ein $\\mathbb{K}$ -Vektorraum mit $\\mathbb{K} \\in\\{\\mathbb{R}, \\mathbb{C}\\} .$ Ein Funktional $T$ ist eine Abbildung $T: V \\rightarrow \\mathbb{K} .$\n",
        "\n",
        "* eine Funktion, deren Definitionsmenge (Urbilder) als Teilmenge in einem Vektorraum V enthalten ist, während ihre Zielmenge in dem zugehörigen Skalarkörper liegt (zB von einer Fläche R<sup>2</sup> in eine Linie R)\n",
        "\n",
        "* Exkurs Funktionalanalyse: Hier ist der untersuchte Vektorraum V zumeist ein Funktionenraum, also ein Vektorraum, dessen Elemente reell- oder komplexwertige Funktionen sind, wobei diesen durch Funktionale Skalare zugeordnet werden. \n",
        "\n",
        "* Als bedeutendes Beispiel eines solchen Funktionals kann etwa das [Lebesgue-Integral](https://de.m.wikipedia.org/wiki/Lebesgue-Integral) gelten."
      ]
    },
    {
      "cell_type": "markdown",
      "metadata": {
        "id": "L9pDmvzc27ag"
      },
      "source": [
        "**Unterschied zwischen Funktion und Funktional:**\n",
        "\n",
        "* Eine Funktion bildet Elemente eines Körpers auf andere ab, zum Beispiel. $f: \\mathbb{R}^{3} \\rightarrow \\mathbb{R}^{2}$\n",
        "\n",
        "* Ein Funktional hingegen ist ein Operator, der Elemente eines Vektorraumes $V$ auf den [Skalarkörper](https://de.wikipedia.org/wiki/Skalar_(Mathematik))\n",
        "$K$ abbildet, über dem $V$ modelliert ist. Diese Elemente können zum Beispiel selber Funktionen sein\n",
        "(wenn der Vektorraum ein Funktionenraum ist)"
      ]
    },
    {
      "cell_type": "markdown",
      "metadata": {
        "id": "eU75x1wPLJhq"
      },
      "source": [
        "**Example of [Linear functional](https://de.m.wikipedia.org/wiki/Funktional#Lineare_Funktionale)**"
      ]
    },
    {
      "cell_type": "markdown",
      "metadata": {
        "id": "4VNcfHpPNdiI"
      },
      "source": [
        "* In den meisten Bereichen der Funktionalanalysis, etwa in der Theorie der topologischen Vektorräume, wird der Begriff Funktional (ohne weiteren Zusatz) als Synonym für lineare Funktionale benutzt. \n",
        "\n",
        "* Ein solches Funktional ist also definitionsgemäß eine Linearform, also **eine lineare Abbildung des Vektorraumes $V$ in seinen Skalarkörper $K$.**\n",
        "\n",
        "* Die Menge all dieser Funktionale ist wiederum in natürlicher Form ein Vektorraum uber dem gleichen Körper $\\mathbb{K}$, indem man für zwei Funktionale $f$ und $g$ über $V$ die Addition und Skalarmultiplikation punktweise definiert, $d .$ h.\n",
        "\n",
        "> $\n",
        "(f+g)(x):=f(x)+g(x) \\quad(\\lambda f)(x):=\\lambda(f(x)), x \\in V\n",
        "$\n",
        "\n",
        "* Der Vektorraum der linearen Funktionale auf dem Vektorraum $V$ wird der algebraische **Dualraum** genannt und oft mit $V^{*}$ bezeichnet."
      ]
    },
    {
      "cell_type": "markdown",
      "metadata": {
        "id": "gQTz9Ux4z3fz"
      },
      "source": [
        "**[Linearform](https://de.m.wikipedia.org/wiki/Linearform)**"
      ]
    },
    {
      "cell_type": "markdown",
      "metadata": {
        "id": "AU3vmZmUPDVe"
      },
      "source": [
        "Stetige lineare Funktionale: \n",
        "\n",
        "* **In einem topologischen Vektorraum sind im Allgemeinen nicht alle linearen Funktionale steti**g. \n",
        "\n",
        "* Die stetigen linearen Funktionale innerhalb des algebraischen Dualraums, also die auf $V$ gegebenen stetigen [Linearformen](https://de.m.wikipedia.org/wiki/Linearform), bilden einen linearen Unterraum von $V^{*}$. **Dies ist der topologische Dualraum von $V$, der in der Funktionalanalysis einer der Hauptgegenstände ist.** \n",
        "\n",
        "* Er wird meist mit der Bezeichnung $V'$ gekennzeichnet, von einigen Autoren jedoch auch mit derselben Bezeichnung wie der algebraische Dualraum, also ebenfalls mit $V^{*}$."
      ]
    },
    {
      "cell_type": "markdown",
      "metadata": {
        "id": "EqayuDxZz-0m"
      },
      "source": [
        "* Im Kontext der Funktionalanalysis, das heißt im Falle eines topologischen \n",
        "$\\mathbb {R}$ - oder $\\mathbb {C}$-Vektorraums, sind die betrachteten Linearformen meistens [stetige lineare Funktionale](https://de.m.wikipedia.org/wiki/Funktional#Stetige_lineare_Funktionale).\n",
        "\n",
        "* Es sei $K$ ein Körper und $V$ ein $K$ -Vektorraum. Eine Abbildung $f: V \\rightarrow K$ heißt Linearform, wenn für alle Vektoren $x, y \\in V$ und Skalare $\\alpha \\in K$ gilt:\n",
        "\n",
        "1. $f(x+y)=f(x)+f(y)$ (**Additivität**);\n",
        "\n",
        "2. $f(\\alpha x)=\\alpha f(x)$ (**Homogenität**).\n",
        "\n",
        "* 'Linear form' is a more modern and abstract concept of 'functional': In modern linear algebra, functional refers to a linear mapping from a vector space $V$ into its field of scalars, i.e., it refers to an element of the dual space $V^{*}$. \n",
        "\n",
        "* Die Linearform ist ein Begriff aus dem mathematischen Teilgebiet der linearen Algebra. Man bezeichnet damit eine lineare Abbildung von einem Vektorraum in den zugrundeliegenden Körper.\n",
        "\n",
        "* **Übergang zu Dualraum**: Die Menge aller Linearformen (= stetigen, linearen Abbildungen) über einem gegebenen Vektorraum $V$ bildet dessen Dualraum $V^{*}$ und damit selbst wieder in natürlicher Weise einen $K$ -Vektorraum."
      ]
    },
    {
      "cell_type": "markdown",
      "metadata": {
        "id": "sjqKk4EMJh4k"
      },
      "source": [
        "**[One-form](https://en.m.wikipedia.org/wiki/One-form) (Pfaffsche Form)**"
      ]
    },
    {
      "cell_type": "markdown",
      "metadata": {
        "id": "y_YJP6zFQgk1"
      },
      "source": [
        "* In linear algebra, a one-form on a vector space is the same as a linear functional (linear form) on the space. \n",
        "\n",
        "* The usage of one-form in this context usually distinguishes the one-forms from higher-degree multilinear functionals on the space. For details, see [linear functional / linear form](https://en.m.wikipedia.org/wiki/Linear_form)."
      ]
    },
    {
      "cell_type": "markdown",
      "metadata": {
        "id": "Gd2SrNflLO4Z"
      },
      "source": [
        "**Example of [Non-linear functional](https://de.m.wikipedia.org/wiki/Funktional#Nichtlineare_Funktionale)**"
      ]
    },
    {
      "cell_type": "markdown",
      "metadata": {
        "id": "_MLQaNr-MxHm"
      },
      "source": [
        "* Nichtlineare Funktionale traten historisch erstmals in der **Variationsrechnung** auf. \n",
        "\n",
        "* Ihr Studium unterscheidet sich grundlegend von dem der oben beschriebenen linearen Funktionale. In der Variationsrechnung setzt man es sich beispielsweise zum Ziel, die Extremalpunkte solcher Funktionalpunkte zu bestimmen. \n",
        "\n",
        "* Zu diesem Zweck benötigt man eine Verallgemeinerung des Ableitungsbegriffs der mehrdimensionalen Analysis, d. h. eine Definition des Differentials des Funktionals. In der Variationsrechnung und in den Anwendungen ist dieses Differential unter dem Namen Variationsableitung bekannt, mathematisch präzisiert wird der Begriff z. B. durch die Fréchet-Ableitung und die Gateaux-Ableitung."
      ]
    },
    {
      "cell_type": "markdown",
      "metadata": {
        "id": "W8l9oubJL290"
      },
      "source": [
        "[**Functional derivative**](https://en.m.wikipedia.org/wiki/Functional_derivative)"
      ]
    },
    {
      "cell_type": "markdown",
      "metadata": {
        "id": "-evrFl9ZJ8c1"
      },
      "source": [
        "* Functional derivatives are used in Lagrangian mechanics. They are derivatives of functionals: i.e. they carry information on how a functional changes when the input function changes by a small amount."
      ]
    },
    {
      "cell_type": "markdown",
      "metadata": {
        "id": "ZBGRXzCzHdHm"
      },
      "source": [
        "[**Functional integration**](https://en.m.wikipedia.org/wiki/Functional_integration)"
      ]
    },
    {
      "cell_type": "markdown",
      "metadata": {
        "id": "UdfJLCj5J-sg"
      },
      "source": [
        "* Richard Feynman used functional integrals as the central idea in his sum over the histories formulation of quantum mechanics. This usage implies an integral taken over some function space."
      ]
    },
    {
      "cell_type": "markdown",
      "metadata": {
        "id": "n7txO-4l254v"
      },
      "source": [
        "#### **Dualraum**"
      ]
    },
    {
      "cell_type": "markdown",
      "metadata": {
        "id": "GtI4LdT4BWYX"
      },
      "source": [
        "Beim Studium normierter Räume ist die Untersuchung des Dualraumes wichtig. Der Dualraum besteht aus allen **stetigen linearen** Funktionen vom **normierten** Raum in seinen Skalarkörper, also in die reellen oder komplexen Zahlen. Der Bidual, also der Dualraum des Dualraums, muss nicht isomorph zum ursprünglichen Raum sein, aber es gibt stets einen natürlichen Monomorphismus von einem Raum in seinen Bidual. Ist dieser spezielle Monomorphismus auch surjektiv, dann spricht man von einem reflexiven Banachraum.\n",
        "\n"
      ]
    },
    {
      "cell_type": "markdown",
      "metadata": {
        "id": "2IWExb4pLbRI"
      },
      "source": [
        "Dualraum: https://youtu.be/2vvjrBbcTZU"
      ]
    },
    {
      "cell_type": "markdown",
      "metadata": {
        "id": "0dayuxImzTOv"
      },
      "source": [
        "* In den meisten Bereichen der Funktionalanalysis, etwa in der Theorie der [topologischen\n",
        "Vektorräume](https://de.m.wikipedia.org/wiki/Topologischer_Vektorraum), wird der Begriff Funktional (ohne weiteren Zusatz) als Synonym für lineare Funktionale\n",
        "benutzt. \n",
        "\n",
        "* Ein solches Funktional ist also definitionsgemäß eine [Linearform](https://de.m.wikipedia.org/wiki/Linearform), also eine lineare\n",
        "Abbildung des Vektorraumes $V$ in seinen Skalarkörper $\\mathbb{K}$. \n",
        "\n",
        "* Die Menge all dieser Funktionale ist\n",
        "wiederum in natürlicher Form ein Vektorraum über dem gleichen Körper $\\mathbb{K}$, indem man für zwei\n",
        "Funktionale $f$ und $g$ über $V$ die Addition und Skalarmultiplikation punktweise definiert, d. h.\n",
        "\n",
        "\n",
        "> $\n",
        "(f+g)(x):=f(x)+g(x) \\quad(\\lambda f)(x):=\\lambda(f(x)), x \\in V\n",
        "$\n",
        "\n",
        "Der Vektorraum der linearen Funktionale auf dem Vektorraum $V$ wird der algebraische Dualraum genannt und oft mit $V^{*}$ bezeichnet."
      ]
    },
    {
      "cell_type": "markdown",
      "metadata": {
        "id": "VWv2DHm71k_n"
      },
      "source": [
        "**Beispiele von Dualräumen**"
      ]
    },
    {
      "cell_type": "markdown",
      "metadata": {
        "id": "QPIQCssA1-w-"
      },
      "source": [
        "Für den Vektorraum $V=\\mathbb{R}^{n}$ **ist der Dualraum kanonisch isomorph zum Vektorraum selbst**, $\\mathrm{d} .$ h. $V \\cong V$ Der kanonische Isomorphismus $I: \\mathbb{R}^{n} \\rightarrow\\left(\\mathbb{R}^{n}\\right)^{*}$ wird dabei über das [Standardskalarprodukt](https://de.m.wikipedia.org/wiki/Standardskalarprodukt) vermittelt:\n",
        "\n",
        "$\n",
        "(I(x))(y):=\\langle x, y\\rangle=\\sum_{i=1}^{n} x_{i} \\cdot y_{i}\n",
        "$\n",
        "\n",
        "Für den Vektorraum $V=\\mathbb{C}^{n}$ gilt ähnliches wie im ersten Fall, allerdings ist die kanonische Abbildung $I: \\mathbb{C}^{n} \\rightarrow\\left(\\mathbb{C}^{n}\\right)^{*}$ in diesem Fall semilinear:\n",
        "\n",
        "$\n",
        "(I(x))(y):=\\langle x, y\\rangle=\\sum_{i=1}^{n} \\overline{x_{i}} \\cdot y_{i}\n",
        "$\n",
        "\n",
        "Der Dualraum ist in diesem Fall also gleich groB, hat aber bezüglich der kanonischen Abbildung eine\n",
        "andere Skalarmultiplikation. Im Sinne der linearen Algebra sagt man auch: Der Dualraum ist kanonisch\n",
        "isomorph zum komplex konjugierten Vektorraum."
      ]
    },
    {
      "cell_type": "markdown",
      "metadata": {
        "id": "OuJVFzQ22tcK"
      },
      "source": [
        "*Beispiele topologischer Dualräume*\n",
        "\n",
        "* Für endlichdimensionale Vektorräume gibt es eine natürliche Topologie ([Normtopologie](https://de.m.wikipedia.org/wiki/Normtopologie)), die aus der euklidischen Norm hervorgeht (genauer gesagt: aus einer beliebigen euklidischen Norm, wenn man eine Basis wählt). Dies ist gerade die Topologie, die der normalen Standard-Analysis zugrunde liegt, und in dieser ist jedes lineare Funktional stetig. Das heißt, der algebraische Dualraum ist gleich dem topologischen Dualraum.\n",
        "\n",
        "* Im unendlichdimensionalen Fall ist der topologische Dualraum (fast) immer ein echter Teilraum des algebraischen Dualraumes.\n",
        "\n",
        "* In **normierten Vektorräumen ist ein Funktional $f$ genau dann stetig, wenn es beschränkt ist**, das heißt $\\sup _{\\|x\\| \\leq 1}|f(x)|<\\infty$. Der topologische Dualraum ist dann automatisch ein Banachraum mit der oben angegebenen Supremumsnorm.\n",
        "\n",
        "* In Hilberträumen ist der topologische Dualraum kanonisch mit dem Ursprungsraum identifizierbar (Darstellungssatz von Fréchet-Riesz). Die Identifikation erfolgt wie im endlichdimensionalen Fall über das Skalarprodukt: $(I(y)):=\\langle\\cdot, y\\rangle$\n",
        "\n",
        "* Der topologische Dualraum des Raumes der unendlich oft stetig differenzierbaren Funktionen mit kompaktem Träger auf der reellen Achse (die so genannten Testfunktionen) mit einer bestimmten (hier nicht näher erklärten) Topologie wird als Raum der [Distributionen](https://de.m.wikipedia.org/wiki/Distribution_(Mathematik)) bezeichnet. In diesem Raum liegt auch das weiter oben genannte Beispiel des Dirac-Delta-Funktionals."
      ]
    },
    {
      "cell_type": "markdown",
      "metadata": {
        "id": "kvV9g-7G_a0Y"
      },
      "source": [
        "#### **Banach- & C*-Algebren**"
      ]
    },
    {
      "cell_type": "markdown",
      "metadata": {
        "id": "ij2aZqcn6EgP"
      },
      "source": [
        "* Banachalgebren sind mathematische **Objekte der Funktionalanalysis**, die einige wesentliche Eigenschaften mit bekannten Funktionenräumen (z. B. Mengen stetiger oder integrierbarer Funktionen) gemeinsam haben, und deren Verallgemeinerung sie daher sind.\n",
        "\n",
        "* Eine Banachalgebra ist ein Vektorraum, in dem auch ein Produkt und eine Norm so definiert sind, dass gewisse Verträglichkeitsbedingungen erfüllt sind."
      ]
    },
    {
      "cell_type": "markdown",
      "metadata": {
        "id": "SDpB4mwPSGuP"
      },
      "source": [
        "https://mathepedia.de/Banachalgebra.html"
      ]
    },
    {
      "cell_type": "markdown",
      "metadata": {
        "id": "apgoqnpM_edx"
      },
      "source": [
        "https://de.wikipedia.org/wiki/Banachalgebra"
      ]
    },
    {
      "cell_type": "markdown",
      "metadata": {
        "id": "FNsfsassSD2x"
      },
      "source": [
        "https://de.wikipedia.org/wiki/C*-Algebra"
      ]
    },
    {
      "cell_type": "markdown",
      "metadata": {
        "id": "Y3lDqxrq5MjB"
      },
      "source": [
        "## **Partielle Differentialgleichung**"
      ]
    },
    {
      "cell_type": "markdown",
      "metadata": {
        "id": "B7dGv8cd5PAq"
      },
      "source": [
        "https://de.wikipedia.org/wiki/Partielle_Differentialgleichung"
      ]
    },
    {
      "cell_type": "markdown",
      "metadata": {
        "id": "EfrXUsI54L2_"
      },
      "source": [
        "#### **Distribution**"
      ]
    },
    {
      "cell_type": "markdown",
      "metadata": {
        "id": "CF7FtCK145Zl"
      },
      "source": [
        "* Problem: Losungen mit 'Knicken' in Differentialgleichungen. Begriff einer Ableitung ist zu stark, man muss also die Losungen verallgemeinern.\n",
        "\n",
        "* zB Ableitung der [Heaviside Funktion](https://de.wikipedia.org/wiki/Heaviside-Funktion) - \n",
        "\n",
        "  * Nutzung der Delta Funktion. Delta Funktion ist Null ausserhalb der kritischen Stelle Null.\n",
        "  * Aber: delta ist keine Funktion im ublichen Sinn. Delta ist Null fast uberall (bez. des Lebesgue Masses)\n",
        "  * Das heisst jegliches Integral ist Null.\n",
        "\n",
        "* Losung: Delta wird als 'Distribution' definiert (oder auch: 'verallgemeinerte Funktion'). Funktionen fasst man jetzt als eine Dichte auf (zB Massedichte auf einem eindimensionalen Stab). Delta-Funktion ist dann eine singulare Dichte (Punktmasse).\n",
        "\n",
        "https://www.youtube.com/watch?v=c5WYrQK_7ls\n",
        "\n",
        "* Testfunktionen: Miss die Dichte aus mit einem 'virtuellen Messgerat' unterhalb einer Funktion. Sollten stetig und lokalisiert sein. \n",
        "\n",
        "* Eine Distribution bezeichnet eine **besondere Art eines Funktionals** (=eine Funktion, die anderen Funktionen eine Zahl zuordnet) im Bereich der partiellen Differentialgleichungen\n",
        "\n",
        "* Es gibt partielle Differentialgleichungen, die hinreichend oft differenzierbare oder gar keine klassischen Lösungen haben, aber Lösungen im distributionellen Sinn. \n",
        "\n",
        "* Daher können Distributionen als eine **Verallgemeinerung von Funktionen** angesehen werden. (z.B. kann man jede Distribution differenzieren.)\n",
        "\n"
      ]
    },
    {
      "cell_type": "markdown",
      "metadata": {
        "id": "kkc6g0_ebFGu"
      },
      "source": [
        "Sei $\\Omega \\subset \\mathbb{R}^{n}$ eine offene, nichtleere Menge. Eine Distribution $T$ ist ein stetiges und lineares Funktional auf dem Raum der [Testfunktionen](https://de.m.wikipedia.org/wiki/Testfunktion) $\\mathcal{D}(\\Omega)$.\n",
        "\n",
        "In anderen Worten eine Abbildung $T: \\mathcal{D}(\\Omega) \\rightarrow \\mathbb{C}$ bzw. $\\mathbb{R},$ so dass für alle $\\phi_{1}, \\phi_{2} \\in \\mathcal{D}(\\Omega)$ und $\\lambda \\in \\mathbb{C}$ gilt $T\\left(\\phi_{1}+\\lambda \\phi_{2}\\right)=T\\left(\\phi_{1}\\right)+\\lambda T\\left(\\phi_{2}\\right)$ und $T\\left(\\phi_{n}\\right) \\rightarrow T(\\phi)$ wann immer $\\phi_{n} \\rightarrow \\phi$ in $\\mathcal{D}(\\Omega)$"
      ]
    },
    {
      "cell_type": "markdown",
      "metadata": {
        "id": "wKQfU_qJZeQ3"
      },
      "source": [
        "**Temperierte Distribution**\n",
        "\n",
        "* Eine [temperierte Distribution](https://de.m.wikipedia.org/wiki/Temperierte_Distribution) ist ein Spezialfall einer Distribution\n",
        "\n",
        "* Laurent Schwartz führte 1947 den Raum der temperierten Distributionen ein, um die Fourier-Transformation in seine Distributionentheorie integrieren zu können."
      ]
    },
    {
      "cell_type": "markdown",
      "metadata": {
        "id": "q0RpKoo8XswO"
      },
      "source": [
        "**Delta-Distribution** ([Dirac-Funktion](https://de.m.wikipedia.org/wiki/Delta-Distribution))\n",
        "* ist eine spezielle irreguläre Distribution mit kompaktem Träger. Sie hat in der Mathematik und Physik grundlegende Bedeutung. Ihr übliches Formelsymbol ist δ (kleines Delta)."
      ]
    },
    {
      "cell_type": "markdown",
      "metadata": {
        "id": "gUQJVjiw4Ou5"
      },
      "source": [
        "https://de.m.wikipedia.org/wiki/Distribution_(Mathematik)"
      ]
    },
    {
      "cell_type": "markdown",
      "metadata": {
        "id": "hIeZyPJFY6zQ"
      },
      "source": [
        "#### **Bump / Test function**"
      ]
    },
    {
      "cell_type": "markdown",
      "metadata": {
        "id": "b_GNr0ICY8zM"
      },
      "source": [
        "https://en.wikipedia.org/wiki/Bump_function"
      ]
    },
    {
      "cell_type": "markdown",
      "metadata": {
        "id": "dOcnX24HY_CW"
      },
      "source": [
        "https://de.m.wikipedia.org/wiki/Testfunktion"
      ]
    },
    {
      "cell_type": "markdown",
      "metadata": {
        "id": "kP3NPe1VZAEO"
      },
      "source": [
        "https://en.m.wikipedia.org/wiki/Test_functions_for_optimization"
      ]
    },
    {
      "cell_type": "markdown",
      "metadata": {
        "id": "bwYpnVOwaix_"
      },
      "source": [
        "#### **Laplace- & Fourier-Transformation**"
      ]
    },
    {
      "cell_type": "markdown",
      "metadata": {
        "id": "QYvqZaH8ZrKq"
      },
      "source": [
        "https://de.m.wikipedia.org/wiki/Fourier-Transformation"
      ]
    },
    {
      "cell_type": "markdown",
      "metadata": {
        "id": "Vn0CDDYzar1Y"
      },
      "source": [
        "https://de.m.wikipedia.org/wiki/Laplace-Transformation"
      ]
    },
    {
      "cell_type": "markdown",
      "metadata": {
        "id": "HfXgkQdIaS-O"
      },
      "source": [
        "#### **Differentialoperator**"
      ]
    },
    {
      "cell_type": "markdown",
      "metadata": {
        "id": "5W3eLHnM5TLO"
      },
      "source": [
        "https://de.wikipedia.org/wiki/Differentialoperator"
      ]
    },
    {
      "cell_type": "markdown",
      "metadata": {
        "id": "HnX6acnH5XUZ"
      },
      "source": [
        "* Die Pseudodifferentialoperatoren sind eine Verallgemeinerung von Differentialoperatoren. Sie ermöglichen, aufbauend auf dem Grundbegriff der Distribution und auf der Fouriertransformation, ein ganz neues Verständnis für die Lösung partieller Differen- tialgleichungen."
      ]
    },
    {
      "cell_type": "markdown",
      "metadata": {
        "id": "SzEqgpt35U7t"
      },
      "source": [
        "https://de.wikipedia.org/wiki/Pseudodifferentialoperator"
      ]
    },
    {
      "cell_type": "markdown",
      "metadata": {
        "id": "kyduGf4kNe-b"
      },
      "source": [
        "## **Vektoranalysis**"
      ]
    },
    {
      "cell_type": "markdown",
      "metadata": {
        "id": "CldXMR4eMSl2"
      },
      "source": [
        "https://de.m.wikipedia.org/wiki/Glatte_Funktion"
      ]
    },
    {
      "cell_type": "markdown",
      "metadata": {
        "id": "aZjLhnrC37pt"
      },
      "source": [
        "https://de.m.wikipedia.org/wiki/Randwertproblem"
      ]
    },
    {
      "cell_type": "markdown",
      "metadata": {
        "id": "1keXLc0VMFzh"
      },
      "source": [
        "https://de.m.wikipedia.org/wiki/Vektoranalysis"
      ]
    },
    {
      "cell_type": "markdown",
      "metadata": {
        "id": "o3O9MS9VNgPz"
      },
      "source": [
        "https://de.m.wikipedia.org/wiki/Vektorfeld"
      ]
    },
    {
      "cell_type": "markdown",
      "metadata": {
        "id": "sJf5lQZ2MOD0"
      },
      "source": [
        "https://de.m.wikipedia.org/wiki/Tensoranalysis"
      ]
    },
    {
      "cell_type": "markdown",
      "metadata": {
        "id": "WyBgo5ymMQSs"
      },
      "source": [
        "https://de.m.wikipedia.org/wiki/Tensorfeld"
      ]
    },
    {
      "cell_type": "markdown",
      "metadata": {
        "id": "Gdr6F1zuU4MG"
      },
      "source": [
        "## **Variationsrechnung**"
      ]
    },
    {
      "cell_type": "markdown",
      "metadata": {
        "id": "d-YucyzLNVXX"
      },
      "source": [
        "dann führt eine Variation der Wirkung: https://de.m.wikipedia.org/wiki/Feldtheorie_(Physik)#Formalismus"
      ]
    },
    {
      "cell_type": "markdown",
      "metadata": {
        "id": "amqD-XmcNbdW"
      },
      "source": [
        "## **Funktionentheorie**"
      ]
    },
    {
      "cell_type": "markdown",
      "metadata": {
        "id": "7EJZSgXRNcuH"
      },
      "source": [
        "Content"
      ]
    },
    {
      "cell_type": "markdown",
      "metadata": {
        "id": "TWw1WCrmNjO6"
      },
      "source": [
        "## **Fourier-Analysis**"
      ]
    },
    {
      "cell_type": "markdown",
      "metadata": {
        "id": "kKTr65GKNkXc"
      },
      "source": [
        "Content"
      ]
    },
    {
      "cell_type": "markdown",
      "metadata": {
        "id": "4NB7LHkmNm_3"
      },
      "source": [
        "## **Differentialformen**"
      ]
    },
    {
      "cell_type": "markdown",
      "metadata": {
        "id": "X0cJcqliNs6X"
      },
      "source": [
        "Content"
      ]
    },
    {
      "cell_type": "markdown",
      "metadata": {
        "id": "VIODr3-ENvwX"
      },
      "source": [
        "## **Differentialgeometrie**"
      ]
    },
    {
      "cell_type": "markdown",
      "metadata": {
        "id": "4mIP0JyiNxKm"
      },
      "source": [
        "Content"
      ]
    },
    {
      "cell_type": "markdown",
      "metadata": {
        "id": "HBsJU91ppsqc"
      },
      "source": [
        "Test functions for optimization (for numerik):\n",
        "\n",
        "https://towardsdatascience.com/optimization-eye-pleasure-78-benchmark-test-functions-for-single-objective-optimization-92e7ed1d1f12\n",
        "\n",
        "https://en.m.wikipedia.org/wiki/Test_functions_for_optimization\n"
      ]
    }
  ]
}