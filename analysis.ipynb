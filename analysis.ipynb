{
  "nbformat": 4,
  "nbformat_minor": 0,
  "metadata": {
    "colab": {
      "name": "analysis.ipynb",
      "provenance": [],
      "collapsed_sections": [
        "kyduGf4kNe-b",
        "Gdr6F1zuU4MG",
        "amqD-XmcNbdW",
        "TWw1WCrmNjO6",
        "4NB7LHkmNm_3",
        "VIODr3-ENvwX"
      ],
      "include_colab_link": true
    },
    "kernelspec": {
      "name": "python3",
      "display_name": "Python 3"
    }
  },
  "cells": [
    {
      "cell_type": "markdown",
      "metadata": {
        "id": "view-in-github",
        "colab_type": "text"
      },
      "source": [
        "<a href=\"https://colab.research.google.com/github/deltorobarba/machinelearning/blob/master/analysis.ipynb\" target=\"_parent\"><img src=\"https://colab.research.google.com/assets/colab-badge.svg\" alt=\"Open In Colab\"/></a>"
      ]
    },
    {
      "cell_type": "markdown",
      "metadata": {
        "id": "HjNmcYpFuFTY"
      },
      "source": [
        "# **Higher Analysis**"
      ]
    },
    {
      "cell_type": "code",
      "metadata": {
        "id": "RYViK39mt7Nj",
        "colab": {
          "base_uri": "https://localhost:8080/",
          "height": 35
        },
        "outputId": "0168c965-db78-461b-ba19-50df85a9e604"
      },
      "source": [
        "import numpy as np\n",
        "import pandas as pd\n",
        "import seaborn as sns\n",
        "import matplotlib.pyplot as plt"
      ],
      "execution_count": null,
      "outputs": [
        {
          "output_type": "stream",
          "text": [
            "2.2.0\n"
          ],
          "name": "stdout"
        }
      ]
    },
    {
      "cell_type": "markdown",
      "metadata": {
        "id": "kyduGf4kNe-b"
      },
      "source": [
        "## **Vektoranalysis**"
      ]
    },
    {
      "cell_type": "markdown",
      "metadata": {
        "id": "CldXMR4eMSl2"
      },
      "source": [
        "https://de.m.wikipedia.org/wiki/Glatte_Funktion"
      ]
    },
    {
      "cell_type": "markdown",
      "metadata": {
        "id": "1keXLc0VMFzh"
      },
      "source": [
        "https://de.m.wikipedia.org/wiki/Vektoranalysis"
      ]
    },
    {
      "cell_type": "markdown",
      "metadata": {
        "id": "o3O9MS9VNgPz"
      },
      "source": [
        "https://de.m.wikipedia.org/wiki/Vektorfeld"
      ]
    },
    {
      "cell_type": "markdown",
      "metadata": {
        "id": "sJf5lQZ2MOD0"
      },
      "source": [
        "https://de.m.wikipedia.org/wiki/Tensoranalysis"
      ]
    },
    {
      "cell_type": "markdown",
      "metadata": {
        "id": "WyBgo5ymMQSs"
      },
      "source": [
        "https://de.m.wikipedia.org/wiki/Tensorfeld"
      ]
    },
    {
      "cell_type": "markdown",
      "metadata": {
        "id": "Gdr6F1zuU4MG"
      },
      "source": [
        "## **Variationsrechnung**"
      ]
    },
    {
      "cell_type": "markdown",
      "metadata": {
        "id": "d-YucyzLNVXX"
      },
      "source": [
        "dann führt eine Variation der Wirkung: https://de.m.wikipedia.org/wiki/Feldtheorie_(Physik)#Formalismus"
      ]
    },
    {
      "cell_type": "markdown",
      "metadata": {
        "id": "amqD-XmcNbdW"
      },
      "source": [
        "## **Funktionentheorie**"
      ]
    },
    {
      "cell_type": "markdown",
      "metadata": {
        "id": "7EJZSgXRNcuH"
      },
      "source": [
        "Content"
      ]
    },
    {
      "cell_type": "markdown",
      "metadata": {
        "id": "TWw1WCrmNjO6"
      },
      "source": [
        "## **Fourier-Analysis**"
      ]
    },
    {
      "cell_type": "markdown",
      "metadata": {
        "id": "kKTr65GKNkXc"
      },
      "source": [
        "Content"
      ]
    },
    {
      "cell_type": "markdown",
      "metadata": {
        "id": "4NB7LHkmNm_3"
      },
      "source": [
        "## **Differentialformen**"
      ]
    },
    {
      "cell_type": "markdown",
      "metadata": {
        "id": "X0cJcqliNs6X"
      },
      "source": [
        "Content"
      ]
    },
    {
      "cell_type": "markdown",
      "metadata": {
        "id": "VIODr3-ENvwX"
      },
      "source": [
        "## **Differentialgeometrie**"
      ]
    },
    {
      "cell_type": "markdown",
      "metadata": {
        "id": "4mIP0JyiNxKm"
      },
      "source": [
        "Content"
      ]
    },
    {
      "cell_type": "markdown",
      "metadata": {
        "id": "HBsJU91ppsqc"
      },
      "source": [
        "Test functions for optimization (for numerik):\n",
        "\n",
        "https://towardsdatascience.com/optimization-eye-pleasure-78-benchmark-test-functions-for-single-objective-optimization-92e7ed1d1f12\n",
        "\n",
        "https://en.m.wikipedia.org/wiki/Test_functions_for_optimization\n"
      ]
    }
  ]
}