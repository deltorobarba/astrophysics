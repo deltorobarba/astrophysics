{
  "nbformat": 4,
  "nbformat_minor": 0,
  "metadata": {
    "colab": {
      "name": "field.ipynb",
      "provenance": [],
      "collapsed_sections": [
        "ZDqJB-vtXMJ1",
        "-OTesLFXKrcu",
        "GC1gOJZOAcdm",
        "Ecy_MnaoAkhC",
        "NoTycwruMDw5",
        "Kwaf_Yw5nosx",
        "CSgVEGLmZlz1",
        "foYtNNmXXHhZ",
        "AtRNSdl66frD",
        "y16M1N2JRcwm",
        "JQdx1fH0RXv9",
        "WXOnmjfLS8Sz",
        "JMNe3IO_x1RW",
        "Myg7JFuLRgsr"
      ],
      "include_colab_link": true
    },
    "kernelspec": {
      "name": "python3",
      "display_name": "Python 3"
    }
  },
  "cells": [
    {
      "cell_type": "markdown",
      "metadata": {
        "id": "view-in-github",
        "colab_type": "text"
      },
      "source": [
        "<a href=\"https://colab.research.google.com/github/deltorobarba/machinelearning/blob/master/field.ipynb\" target=\"_parent\"><img src=\"https://colab.research.google.com/assets/colab-badge.svg\" alt=\"Open In Colab\"/></a>"
      ]
    },
    {
      "cell_type": "markdown",
      "metadata": {
        "id": "2Aoj2PpxvDQV"
      },
      "source": [
        "# **Rings and Fields (Abstract Algebra)**"
      ]
    },
    {
      "cell_type": "code",
      "metadata": {
        "id": "1U5_6xH7tAQq"
      },
      "source": [
        "import numpy as np\n",
        "import pandas as pd\n",
        "import seaborn as sns\n",
        "import matplotlib.pyplot as plt"
      ],
      "execution_count": null,
      "outputs": []
    },
    {
      "cell_type": "markdown",
      "metadata": {
        "id": "ZDqJB-vtXMJ1"
      },
      "source": [
        "## **Ringe**"
      ]
    },
    {
      "cell_type": "markdown",
      "metadata": {
        "id": "VxmoaUOGsy25"
      },
      "source": [
        "https://youtu.be/_RTHvweHlhE"
      ]
    },
    {
      "cell_type": "markdown",
      "metadata": {
        "id": "OopbidMRxquB"
      },
      "source": [
        "Watch Polynomring: https://www.youtube.com/watch?v=9fh1QK2yR3g&t=756s"
      ]
    },
    {
      "cell_type": "markdown",
      "metadata": {
        "id": "-OTesLFXKrcu"
      },
      "source": [
        "##### **Ring und kommutativer Ring**"
      ]
    },
    {
      "cell_type": "markdown",
      "metadata": {
        "id": "aU3_l3Z4nBmg"
      },
      "source": [
        "Ein Ring ist eine Menge R mit **zwei inneren binären Verknüpfungen** „+“ und „∙“, sodass gilt:\n",
        "1. **Addition: (R, +) ist eine abelsche Gruppe**\n",
        "\n",
        "* Addition is associative and commutative;\n",
        "\n",
        "* There is an additive identity, zero;\n",
        "\n",
        "* Every element has an additive inverse;\n",
        "\n",
        "2. **Multiplikation: (R, ∙) ist eine Halbgruppe**, das bedeutet:\n",
        "\n",
        "* Halbgruppe in der Multiplikation im Ring: **nur nur die Assoziativität, aber keine Inverse, neutrales element oder kommutativität**) \n",
        "\n",
        "> **Das bedeutet: -> Sowohl Ringe als auch Körper verlangen, dass bzgl. der Addition eine kommutative Gruppe vorliegt (abelsch!). Bei der Multiplikation erfolgt der Übergang vom Ring zum Körper durch die Verschärfung der Forderungen**\n",
        "\n",
        "* Unlike a field, a ring is not required to have multiplicative inverses, and the multiplication is not required to be commutative. \n",
        "\n",
        "> **A good example of a ring is the set of all n×n matrices under the operations of matrix addition and matrix multiplication.** [Matrix-Multiplication is non-commutative!](https://en.m.wikipedia.org/wiki/Matrix_multiplication#Non-commutativity)\n",
        "\n",
        "$\\mathbf{A B} \\neq \\mathbf{B A}$\n",
        "For example\n",
        "\n",
        "$\n",
        "\\left(\\begin{array}{ll}\n",
        "0 & 1 \\\\\n",
        "0 & 0\n",
        "\\end{array}\\right)\\left(\\begin{array}{ll}\n",
        "0 & 0 \\\\\n",
        "1 & 0\n",
        "\\end{array}\\right)=\\left(\\begin{array}{ll}\n",
        "1 & 0 \\\\\n",
        "0 & 0\n",
        "\\end{array}\\right)\n",
        "$\n",
        "\n",
        "but\n",
        "\n",
        "$\n",
        "\\left(\\begin{array}{ll}\n",
        "0 & 0 \\\\\n",
        "1 & 0\n",
        "\\end{array}\\right)\\left(\\begin{array}{ll}\n",
        "0 & 1 \\\\\n",
        "0 & 0\n",
        "\\end{array}\\right)=\\left(\\begin{array}{ll}\n",
        "0 & 0 \\\\\n",
        "0 & 1\n",
        "\\end{array}\\right)\n",
        "$\n",
        "\n",
        "> **The integers Z also form a ring under the operations of addition and multiplication.**\n",
        "\n",
        "3. **Die Distributivgesetze a*(b+c)=a*b+a*c und (a+b)*c = a*c+b*c sind für alle a,b,c ε $R$ erfüllt.**\n",
        "\n",
        "4. **Das neutrale Element 0 von (R, +) heißt Nullelement von R.**\n",
        "\n",
        "**Ein Ring heißt kommutativ**, falls er bezüglich der Multiplikation kommutativ ist (Ein Ring heißt kommutativ, falls er bezüglich der Multiplikation kommutativ ist, ansonsten spricht man von einem nicht-kommutativen Ring.)"
      ]
    },
    {
      "cell_type": "markdown",
      "metadata": {
        "id": "IhQhUv7dEfrU"
      },
      "source": [
        "https://de.m.wikipedia.org/wiki/Ring_(Algebra)"
      ]
    },
    {
      "cell_type": "markdown",
      "metadata": {
        "id": "9oUnGjnLYGdF"
      },
      "source": [
        "https://en.m.wikipedia.org/wiki/Ring_(mathematics)"
      ]
    },
    {
      "cell_type": "markdown",
      "metadata": {
        "id": "aR14OZzRJUkG"
      },
      "source": [
        "Beispiele:"
      ]
    },
    {
      "cell_type": "markdown",
      "metadata": {
        "id": "3ajn582YCTF0"
      },
      "source": [
        "* 2×2 Real matrices.\n",
        "\n",
        "* Das wichtigste Beispiel eines Ringes sind die Integers / ist die Menge (􏰁$\\mathbb Z$,+,∙) der ganzen Zahlen mit der üblichen Addition und Multiplikation. Es handelt sich dabei um einen nullteilerfreien kommutativen Ring mit Einselement, also einen Integritätsring.\n",
        "\n",
        "* the Integers modulo some Natural number greater than one;\n",
        "\n",
        "* Ebenso bildet ($\\mathbb Q$,+,∙) der rationalen Zahlen mit der üblichen Addition und Multiplikation einen Ring. Da in diesem Fall nicht nur ($\\mathbb Q$,+), sondern auch ($\\mathbb Q$ \\ {0},∙) eine abelsche Gruppe bildet, liegt sogar ein Körper vor; es handelt sich dabei um den Quotientenkörper des Integritätsringes (􏰁$\\mathbb Z$,+,∙).\n",
        "\n",
        "* Kein Ring ist die Menge ($\\mathbb N$􏰀,+,∙) der natürlichen Zahlen mit der üblichen Addition und Multiplikation, da die Addition über den natürlichen Zahlen nicht invertierbar ist."
      ]
    },
    {
      "cell_type": "markdown",
      "metadata": {
        "id": "8HZucJQ2LK-z"
      },
      "source": [
        "https://www.quora.com/What-are-the-differences-between-rings-and-fields"
      ]
    },
    {
      "cell_type": "markdown",
      "metadata": {
        "id": "ewHjxqYobJU4"
      },
      "source": [
        "https://en.m.wikipedia.org/wiki/Ring_theory"
      ]
    },
    {
      "cell_type": "markdown",
      "metadata": {
        "id": "GC1gOJZOAcdm"
      },
      "source": [
        "##### **Halbring und kommutativer Halbring**"
      ]
    },
    {
      "cell_type": "markdown",
      "metadata": {
        "id": "IbZlHiCiCY-F"
      },
      "source": [
        "* Ein Halbring ist die Verallgemeinerung der algebraischen Struktur eines Ringes, in der die **Addition nicht mehr eine kommutative Gruppe, sondern nur noch eine kommutative Halbgruppe sein muss** (mit Abgeschlossenheit und Assoziativität, aber nicht: Neutral (identity element), inverse, kommunitativ).\n",
        "\n",
        "* Ein Halbring (engl.: Semiring) ist eine algebraische Struktur $(H,+, \\cdot)$ mit einer (nichtleeren) Menge $H$ und mit zwei zweistelligen Verknüpfungen $+: H \\times H \\rightarrow H$ (Addition) und $\\because H \\times H \\rightarrow H$ (Multiplikation), für die gilt:\n",
        "\n",
        "1. $(H,+)$ ist eine kommutative Halbgruppe.\n",
        "\n",
        "2. $(H, \\cdot)$ ist eine Halbgruppe.\n",
        "\n",
        "3. Es gelten die Distributivgesetze, d. h. für alle $a, b, c \\in H$ gilt $(a+b) \\cdot c=a \\cdot c+b \\cdot c \\quad$ sowie $\\quad c \\cdot(a+b)=c \\cdot a+c \\cdot b$\n",
        "\n",
        "Ist auch $(H, \\cdot)$ kommutativ, so spricht man von einem kommutativen Halbring."
      ]
    },
    {
      "cell_type": "markdown",
      "metadata": {
        "id": "354jDjhGCug7"
      },
      "source": [
        "Beispiele"
      ]
    },
    {
      "cell_type": "markdown",
      "metadata": {
        "id": "Hw9olTD_Cw0-"
      },
      "source": [
        "* $(\\mathbb{N},+, 0, \\cdot, 1)$ Die Menge der natürlichen Zahlen mit der Addition und der Multiplikation zusammen und mit einem Nullelement und einem Einselement als neutrale Elemente ist ein kommutativer Halbring.\n",
        "\n",
        "* $\\left(\\mathbb{Q}_{+},+, 0, \\cdot, 1\\right)$ ist sogar ein Halbkörper.\n",
        "\n",
        "* $(\\mathbb{R} \\cup\\{\\infty\\}, \\min , \\infty,+, 0),$ die sogenannte Min-Plus-Algebra (**tropische Geometrie!!!**) https://de.m.wikipedia.org/wiki/Max-Plus-Algebra bzw.https://de.wikipedia.org/wiki/Tropische_Geometrie#Tropischer_Halbring\n",
        "\n",
        "* Für jede Menge $X$ ist die Potenzmenge $(\\mathcal{P}(X), \\cup, \\emptyset, \\cap, X)$ ein Halbring.\n",
        "\n",
        "* Allgemeiner ist jede Boolesche Algebra ein Halbring."
      ]
    },
    {
      "cell_type": "markdown",
      "metadata": {
        "id": "UizsbE6VAgA4"
      },
      "source": [
        "https://de.m.wikipedia.org/wiki/Halbring_(Algebraische_Struktur)"
      ]
    },
    {
      "cell_type": "markdown",
      "metadata": {
        "id": "Ecy_MnaoAkhC"
      },
      "source": [
        "##### **Ring mit Eins (unitärer Ring)**"
      ]
    },
    {
      "cell_type": "markdown",
      "metadata": {
        "id": "c2rLi8RzmGRG"
      },
      "source": [
        "* Hat die Halbgruppe $R,\\cdot$ ein (beidseitiges) neutrales Element 1, ist also ein Monoid, dann nennt man $R,+,\\cdot$ einen Ring mit Eins oder unitären Ring. \n",
        "\n",
        "* Ringe mit nur links- oder nur rechtsneutralem Element gelten in der Ringtheorie nicht als unitär."
      ]
    },
    {
      "cell_type": "markdown",
      "metadata": {
        "id": "NoTycwruMDw5"
      },
      "source": [
        "##### **Nullring**"
      ]
    },
    {
      "cell_type": "markdown",
      "metadata": {
        "id": "XTICEn4hMNS1"
      },
      "source": [
        "* bis auf Isomorphie eindeutig bestimmter Ring, der nur aus dem Nullelement besteht\n",
        "\n",
        "* Der Nullring oder triviale Ring ist in der Mathematik der bis auf Isomorphie eindeutig bestimmte Ring, der nur aus dem Nullelement besteht. Das Nullelement ist damit zugleich das Einselement des Rings. \n",
        "\n",
        "* Der Nullring besitzt eine Reihe besonderer Eigenschaften, so ist er beispielsweise der einzige Ring, in dem jedes Element eine Einheit ist, und der einzige Ring mit Eins, in dem es kein maximales Ideal gibt. In der Kategorie der Ringe mit Eins ist der Nullring terminales Objekt und in der Kategorie aller Ringe das Nullobjekt."
      ]
    },
    {
      "cell_type": "markdown",
      "metadata": {
        "id": "uPmXRpptMjpU"
      },
      "source": [
        "Der Nullring $(\\{0\\},+, \\cdot)$ ist ein Ring bestehend aus der einelementigen Menge \\{0\\} (Singleton) versehen mit der einzig möglichen Addition gegeben durch\n",
        "\n",
        "$\n",
        "0+0=0\n",
        "$\n",
        "\n",
        "und der einzig möglichen Multiplikation gegeben durch\n",
        "\n",
        "$\n",
        "0 \\cdot 0=0\n",
        "$\n",
        "\n",
        "Das Element 0 ist also zugleich das Nullelement und das Einselement des Rings."
      ]
    },
    {
      "cell_type": "markdown",
      "metadata": {
        "id": "nUOu50FmNM-7"
      },
      "source": [
        "* In der Kategorie der Ringe mit Eins ist der Nullring terminales Objekt, das heißt von jedem Ring gibt es genau einen Morphismus in den Nullring. Weiterhin ist jeder Morphismus aus dem Nullring heraus bereits ein Isomorphismus.\n",
        "\n",
        "* In der Kategorie aller Ringe ist der Nullring sogar das Nullobjekt."
      ]
    },
    {
      "cell_type": "markdown",
      "metadata": {
        "id": "BGElOCjMMGr2"
      },
      "source": [
        "https://de.m.wikipedia.org/wiki/Nullring"
      ]
    },
    {
      "cell_type": "markdown",
      "metadata": {
        "id": "Kwaf_Yw5nosx"
      },
      "source": [
        "##### **Ideal**"
      ]
    },
    {
      "cell_type": "markdown",
      "metadata": {
        "id": "tJn81nCMnuU0"
      },
      "source": [
        "* In der abstrakten Algebra ist ein Ideal eine Teilmenge eines Rings, die das Nullelement enthält und abgeschlossen gegenüber Addition und Subtraktion von Elementen des Ideals sowie abgeschlossen gegenüber Multiplikation mit beliebigen Ringelementen ist. \n",
        "\n",
        "* Beispielsweise sind Summe und Differenz zweier gerader Zahlen wieder gerade und zudem ist das Produkt einer geraden Zahl mit einer beliebigen ganzen Zahl ebenfalls gerade. Zudem ist die 0 als additiv Neutrales gerade. Das heißt, die Menge der geraden Zahlen ist ein Ideal im Ring der ganzen Zahlen.\n",
        "\n",
        "* Es gibt auch für nichtkommutative Ringe sogenannte Links-, Rechtsideale und zweiseitige Idealen."
      ]
    },
    {
      "cell_type": "markdown",
      "metadata": {
        "id": "ltfOTi0unraE"
      },
      "source": [
        "https://de.m.wikipedia.org/wiki/Ideal_(Ringtheorie)"
      ]
    },
    {
      "cell_type": "markdown",
      "metadata": {
        "id": "CSgVEGLmZlz1"
      },
      "source": [
        "##### **Quotientenkörper eines Rings**"
      ]
    },
    {
      "cell_type": "markdown",
      "metadata": {
        "id": "yKtAxEpdZqze"
      },
      "source": [
        "* In der Algebra ist der Quotientenkörper eines Rings (mit bestimmten Eigenschaften) eine **Obermenge dieses Rings**, auf welche die Addition und die Multiplikation des Rings fortgesetzt werden und in der jedes Element außer 0 ein multiplikatives Inverses besitzt. \n",
        "\n",
        "* Das prominenteste Beispiel ist der **Körper der rationalen Zahlen als Quotientenkörper des Rings der ganzen Zahlen**.\n",
        "\n",
        "* Eine Verallgemeinerung des Konzepts für nicht notwendigerweise nullteilerfreie Ringe ist durch die Lokalisierung gegeben."
      ]
    },
    {
      "cell_type": "markdown",
      "metadata": {
        "id": "MfXz0my6Zn_p"
      },
      "source": [
        "https://de.m.wikipedia.org/wiki/Quotientenkörper"
      ]
    },
    {
      "cell_type": "markdown",
      "metadata": {
        "id": "foYtNNmXXHhZ"
      },
      "source": [
        "## **Körper (Field)**"
      ]
    },
    {
      "cell_type": "markdown",
      "metadata": {
        "id": "OgmPJQxVeAyy"
      },
      "source": [
        "https://en.m.wikipedia.org/wiki/Algebraically_closed_field"
      ]
    },
    {
      "cell_type": "markdown",
      "metadata": {
        "id": "MEWyxxYiUPov"
      },
      "source": [
        "https://de.m.wikipedia.org/wiki/P-adische_Zahl"
      ]
    },
    {
      "cell_type": "markdown",
      "metadata": {
        "id": "jvXRpmAJVeWr"
      },
      "source": [
        "https://de.m.wikipedia.org/wiki/Vollkommener_Körper"
      ]
    },
    {
      "cell_type": "markdown",
      "metadata": {
        "id": "sFf9AIX_stcH"
      },
      "source": [
        "https://youtu.be/KCSZ4QhOw0I"
      ]
    },
    {
      "cell_type": "markdown",
      "metadata": {
        "id": "AtRNSdl66frD"
      },
      "source": [
        "##### **Endlicher Körper (Galoiskörper)**"
      ]
    },
    {
      "cell_type": "markdown",
      "metadata": {
        "id": "u0jbHiiR6n5Q"
      },
      "source": [
        "* ein Körper mit einer endlichen Anzahl von Elementen, d. h. eine endliche Menge, auf der zwei als Addition und Multiplikation verstandene Grundoperationen definiert sind, sodass die Menge zusammen mit diesen Operationen alle Anforderungen eines Körpers erfüllt."
      ]
    },
    {
      "cell_type": "markdown",
      "metadata": {
        "id": "Jdmy_oLN6cOs"
      },
      "source": [
        "https://de.m.wikipedia.org/wiki/Endlicher_Körper"
      ]
    },
    {
      "cell_type": "markdown",
      "metadata": {
        "id": "y16M1N2JRcwm"
      },
      "source": [
        "##### **(Kommutative) Körper**"
      ]
    },
    {
      "cell_type": "markdown",
      "metadata": {
        "id": "Kx2S2mCUUQR4"
      },
      "source": [
        "* Reelle oder komplexe Zahlen sind ein Körper!"
      ]
    },
    {
      "cell_type": "markdown",
      "metadata": {
        "id": "1rtdtF9PN0Ys"
      },
      "source": [
        "**Set $F$ with 2 operations: $+$**\n",
        "\n",
        "* $\\langle F,+\\rangle$ is a commutative group\n",
        "\n",
        "* $\\left\\langle F^{\\times}, \\cdot\\right\\rangle$ is a commutative group\n",
        "\n",
        "* $a \\cdot(b+c)=a \\cdot b+a \\cdot c$\n",
        "\n",
        "* $(b+c) \\cdot a=b \\cdot a+c \\cdot a$"
      ]
    },
    {
      "cell_type": "markdown",
      "metadata": {
        "id": "f7Fjy2o4Ncnn"
      },
      "source": [
        "Fields allow a multiplicative inverse (aka division)"
      ]
    },
    {
      "cell_type": "markdown",
      "metadata": {
        "id": "M_kHoI_XOGIF"
      },
      "source": [
        "https://www.youtube.com/watch?v=KCSZ4QhOw0I"
      ]
    },
    {
      "cell_type": "markdown",
      "metadata": {
        "id": "bBwQqNZan2sf"
      },
      "source": [
        "**Ein Körper ist eine spezielle Form von Ring**:\n",
        "\n",
        "* **A Field is a Ring whose non-zero elements form a commutative Group under multiplication (In short a field is a commutative ring with unity with all its non zero elements having multiplicative inverse.)**\n",
        "\n",
        "* Ein kommutativer unitärer Ring, der nicht der Nullring ist, heißt ein Körper, wenn in ihm jedes von Null verschiedene Element multiplikativ invertierbar ist.\n",
        "Anders formuliert, ist ein Körper ein kommutativer unitärer Ring K, in dem die Einheitengruppe K* gleich K \\ {0}, also maximal groß, ist.\n",
        "\n",
        "* Ein kommutativer unitärer Ring, der nicht der Nullring ist, ist ein Körper, wenn in ihm jedes von Null verschiedene Element ein Inverses bezüglich der Multiplikation besitzt. Anders formuliert, ist ein Körper ein kommutativer unitärer Ring $K$, in dem die Einheitengruppe $K^{*}$ gleich $K \\backslash\\{0\\}$ ist. \n"
      ]
    },
    {
      "cell_type": "markdown",
      "metadata": {
        "id": "_M8xii4QnNCP"
      },
      "source": [
        "**Beispiele**\n",
        "\n",
        "* The most familiar form of algebra is the elementary algebra that you learned in high school, namely the algebra of the real numbers. From an abstract point of view, this is the algebra of fields.\n",
        "\n",
        "* Note that the axioms for a field are precisely the axioms for algebra on the real numbers. As a result, the real numbers R form a field under the usual operations of addition and multiplication. However, the real numbers are not the only possible field. Indeed, you are already familiar with a few other examples:\n",
        "\n",
        "* set of rational numbers under addition and multiplication. The rational numbers Q form a field under the usual operations of addition and multiplication. In particular, we can add or multiply two elements of Q to obtain another element of Q, and these operations obey all of the axioms listed above.\n",
        "\n",
        "* The complex numbers C form a field under the commonly defined operations of addition and multiplication. Complex numbers do obey all of the listed axioms for a field, which is why elementary algebra works as usual for complex numbers.\n",
        "\n",
        "* The Integers modulo a Prime number.\n",
        "\n",
        "*An example of a set of numbers that is **not a field** is the set of integers. It is an \"integral domain.\" It is not a field because it lacks multiplicative inverses. Without multiplicative inverses, division may be impossible.*\n",
        "\n",
        "* Both are algebraic objects with a notion of addition and multiplication, **but the multiplication in a field is more specialized**: it is necessarily commutative and every nonzero element has a multiplicative inverse."
      ]
    },
    {
      "cell_type": "markdown",
      "metadata": {
        "id": "1_Jav3cJksAh"
      },
      "source": [
        "https://de.m.wikipedia.org/wiki/Körper_(Algebra)"
      ]
    },
    {
      "cell_type": "markdown",
      "metadata": {
        "id": "isOcOrhbyk4J"
      },
      "source": [
        "https://science.jrank.org/pages/2709/Field.html"
      ]
    },
    {
      "cell_type": "markdown",
      "metadata": {
        "id": "Z055Lr2GWyMa"
      },
      "source": [
        "Ein Tripel (K,+,•), bestehend aus einer Menge K und zwei binären Verknüpfungen „+“ und „•“ (die üblicherweise Addition und Multiplikation genannt werden), ist genau dann ein Körper, wenn folgende Eigenschaften erfüllt sind:\n",
        "\n",
        "* $(K,+)$ ist eine abelsche Gruppe (mit Neutralelement 0)\n",
        "\n",
        "* $(K \\backslash\\{0\\}, •)$ ist eine abelsche Gruppe (mit Neutralelement 1)\n",
        "\n",
        "* $a \\cdot(b+c)=a \\cdot b+a \\cdot c$ und $(a+b) \\cdot c=a \\cdot c+b \\cdot c$ (Distributivgesetz)"
      ]
    },
    {
      "cell_type": "markdown",
      "metadata": {
        "id": "itIiUgUNXWV7"
      },
      "source": [
        "Additive Eigenschaften:\n",
        "\n",
        "* $a+(b+c)=(a+b)+c$ (Assoziativgesetz)\n",
        "\n",
        "* $a+b=b+a$ (Kommutativgesetz)\n",
        "\n",
        "* Es gibt ein Element $0 \\in K$ mit $0+a=a$ (neutrales Element)\n",
        "\n",
        "* Zu jedem $a \\in K$ existiert das additive Inverse $(-a)$ mit $(-a)+a=0$\n",
        "\n",
        "Multiplikative Eigenschaften:\n",
        "\n",
        "* $\\cdot a \\cdot(b \\cdot c)=(a \\cdot b) \\cdot c$ (Assoziativgesetz)\n",
        "\n",
        "* $a \\cdot b=b \\cdot a$ (Kommutativgesetz)\n",
        "\n",
        "* Es gibt ein Element $1 \\in K$ mit $1 \\cdot a=a$ (neutrales Element), und es ist $1 \\neq 0$.\n",
        "\n",
        "* Zu jedem $a \\in K \\backslash\\{0\\}$ existiert das multiplikative Inverse $a^{-1}$ mit $a^{-1} \\cdot a=1$\n",
        "\n",
        "Zusammenspiel von additiver und multiplikativer Struktur:\n",
        "\n",
        "* $a \\cdot(b+c)=a \\cdot b+a \\cdot c$ (Links-Distributivgesetz) \n",
        "\n",
        "* Das Rechts-Distributivgesetz $(a+b) \\cdot c=a \\cdot c+b \\cdot c$ folgt dann aus den übrigen Eigenschaften:\n",
        "$(a+b) \\cdot c=c \\cdot(a+b)=c \\cdot a+c \\cdot b=a \\cdot c+b \\cdot c$"
      ]
    },
    {
      "cell_type": "markdown",
      "metadata": {
        "id": "tr5vXn8La6w7"
      },
      "source": [
        "**Achtung**\n",
        "\n",
        "Man nennt die Elemente im Körper nicht Vektoren, sondern Skalare. Über dem Skalarkörper betrachtet man einen Vektorraum und dessen Elemente heißen Vektoren."
      ]
    },
    {
      "cell_type": "markdown",
      "metadata": {
        "id": "BfWRnNxZnrVT"
      },
      "source": [
        "Eigenschaften (beginnend mit denen eines Ringes):\n",
        "\n",
        "* Addition is associative and commutative;\n",
        "\n",
        "* There is an additive identity, zero;\n",
        "\n",
        "* Every element has an additive inverse;\n",
        "\n",
        "* Multiplication is associative;\n",
        "\n",
        "* Multiplication distributes over addition.\n",
        "\n",
        "In addition a Field has:\n",
        "\n",
        "* Multiplication is commutative;\n",
        "\n",
        "* Every non-zero element has a multiplicative inverse."
      ]
    },
    {
      "cell_type": "markdown",
      "metadata": {
        "id": "JQdx1fH0RXv9"
      },
      "source": [
        "##### **Schiefkörper (Divisionsring)**"
      ]
    },
    {
      "cell_type": "markdown",
      "metadata": {
        "id": "RBiSmFlRX_Mp"
      },
      "source": [
        "* Eine Menge K mit zwei binären Operationen + und ⋅ heißt Schiefkörper, wenn K ein Ring ist und K∖{0} bzgl. der Multiplikation eine Gruppe bildet (Ringe sind normalerweise Halbgruppen, dh. bezüglich Multiplikation nur nur die Assoziativität zählt, aber keine Inverse, neutrales element oder kommutativität).\n",
        "\n",
        "* K heißt Körper, wenn K Schiefkörper ist und \n",
        "K∖{0} bzgl. der Multiplikation eine kommutative Gruppe (=Abelsch) bildet."
      ]
    },
    {
      "cell_type": "markdown",
      "metadata": {
        "id": "Msp6NBuJX0MO"
      },
      "source": [
        "**Es gelten die folgenden Zusammenhänge:**\n",
        "\n",
        "* Jeder Körper ist ein Schiefkörper\n",
        "* Jeder Körper ist ein kommutativer Ring\n",
        "* Jeder Schiefkörper ist ein unitären Ring\n",
        "* Jeder unitäre Ring ist ein Ring"
      ]
    },
    {
      "cell_type": "markdown",
      "metadata": {
        "id": "fiD4gEiPkpQq"
      },
      "source": [
        "* Ein **Schiefkörper** oder Divisionsring ist eine algebraische Struktur, die alle Eigenschaften eines Körpers besitzt, außer dass die Multiplikation nicht notwendigerweise kommutativ ist.\n",
        "\n",
        "* Jeder Schiefkörper ist ein Alternativkörper"
      ]
    },
    {
      "cell_type": "markdown",
      "metadata": {
        "id": "otrMeqXtTBT2"
      },
      "source": [
        "https://de.m.wikipedia.org/wiki/Schiefkörper"
      ]
    },
    {
      "cell_type": "markdown",
      "metadata": {
        "id": "WXOnmjfLS8Sz"
      },
      "source": [
        "##### **Alternativkörper**"
      ]
    },
    {
      "cell_type": "markdown",
      "metadata": {
        "id": "JEtjLCOdmFUh"
      },
      "source": [
        "* Octonions (Octave) sind [Alternativkörper](https://de.m.wikipedia.org/wiki/Alternativkörper) bei denen man auf das Kommutativgesetz und das Assoziativgesetz für die Multiplikation verzichtet.\n",
        "\n",
        "* Jeder Schiefkörper ist ein Alternativkörper, jeder Alternativkörper ist zugleich ein Links- und ein Rechtsquasikörper. Endliche Alternativkörper sind stets Körper. (→ Siehe dazu auch: Moufangebene).\n",
        "\n"
      ]
    },
    {
      "cell_type": "markdown",
      "metadata": {
        "id": "JMNe3IO_x1RW"
      },
      "source": [
        "##### **Körpererweiterung**"
      ]
    },
    {
      "cell_type": "markdown",
      "metadata": {
        "id": "AQocAiSmx3hC"
      },
      "source": [
        "https://de.wikipedia.org/wiki/K%C3%B6rpererweiterung"
      ]
    },
    {
      "cell_type": "markdown",
      "metadata": {
        "id": "Myg7JFuLRgsr"
      },
      "source": [
        "##### **Exkurs: Geordneter Körper**"
      ]
    },
    {
      "cell_type": "markdown",
      "metadata": {
        "id": "cAwPf6ifqUmM"
      },
      "source": [
        "* Ein geordneter Körper (auch angeordneter Körper genannt) ist ein Körper zusammen mit einer totalen Ordnung „≤“, die mit Addition und Multiplikation verträglich ist. Das bekannteste Beispiel ist der Körper der reellen Zahlen. \n",
        "\n",
        "* Körper der Charakteristik p>0 können nicht strukturverträglich angeordnet werden. \n",
        "\n",
        "* Ein wichtiges Beispiel für einen Körper der Charakteristik 0, der auch nicht strukturverträglich angeordnet werden kann, ist der Körper der komplexen Zahlen.\n",
        "\n",
        "* Ein geordneter Körper heißt ordnungsvollständig, wenn jede beschränkte Teilmenge des Körpers ein Infimum und Supremum hat."
      ]
    },
    {
      "cell_type": "markdown",
      "metadata": {
        "id": "gr5tpTU1qWOw"
      },
      "source": [
        "https://de.m.wikipedia.org/wiki/Geordneter_Körper"
      ]
    }
  ]
}