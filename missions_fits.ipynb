{
  "nbformat": 4,
  "nbformat_minor": 0,
  "metadata": {
    "colab": {
      "provenance": [],
      "collapsed_sections": [
        "cX_ks1SiqavT"
      ],
      "machine_shape": "hm",
      "authorship_tag": "ABX9TyMIgraqnpiEZA9ZsUPvBie3",
      "include_colab_link": true
    },
    "kernelspec": {
      "name": "python3",
      "display_name": "Python 3"
    },
    "language_info": {
      "name": "python"
    }
  },
  "cells": [
    {
      "cell_type": "markdown",
      "metadata": {
        "id": "view-in-github",
        "colab_type": "text"
      },
      "source": [
        "<a href=\"https://colab.research.google.com/github/deltorobarba/sciences/blob/master/missions_fits.ipynb\" target=\"_parent\"><img src=\"https://colab.research.google.com/assets/colab-badge.svg\" alt=\"Open In Colab\"/></a>"
      ]
    },
    {
      "cell_type": "markdown",
      "source": [
        "# **FITS**"
      ],
      "metadata": {
        "id": "TGNiRS1ZyYCT"
      }
    },
    {
      "cell_type": "markdown",
      "source": [
        "![sciences](https://raw.githubusercontent.com/deltorobarba/repo/master/sciences_2000.png)"
      ],
      "metadata": {
        "id": "Dn77k_mLjlSd"
      }
    },
    {
      "cell_type": "code",
      "source": [
        "!pip install astropy astroquery requests reproject -q\n",
        "from astropy import units as u\n",
        "from astropy.coordinates import SkyCoord\n",
        "from astroquery.simbad import Simbad\n",
        "from astropy import coordinates\n",
        "from astropy.io import fits\n",
        "from astropy.nddata import Cutout2D\n",
        "from astropy.wcs import WCS\n",
        "import numpy as np\n",
        "import matplotlib.pyplot as plt\n",
        "from astropy import coordinates as coords\n",
        "from reproject import reproject_interp\n",
        "import matplotlib.pyplot as plt"
      ],
      "metadata": {
        "id": "Ao-8AhHowx7w"
      },
      "execution_count": null,
      "outputs": []
    },
    {
      "cell_type": "code",
      "source": [
        "# Some tasks like multi-wavelength astronomy require high memory to load data\n",
        "from psutil import virtual_memory\n",
        "ram_gb = virtual_memory().total / 1e9\n",
        "print('Runtime: {:.1f} gigabytes of available RAM (>20 GB ideal)\\n'.format(ram_gb))"
      ],
      "metadata": {
        "colab": {
          "base_uri": "https://localhost:8080/"
        },
        "id": "Ky-1SFgBy7UQ",
        "outputId": "fb99c6ec-75af-4951-c324-d02ab2e9c72c"
      },
      "execution_count": null,
      "outputs": [
        {
          "output_type": "stream",
          "name": "stdout",
          "text": [
            "Runtime: 54.8 gigabytes of available RAM (>20 GB ideal)\n",
            "\n"
          ]
        }
      ]
    },
    {
      "cell_type": "markdown",
      "source": [
        "#### **Define astronomical object and get skycoordinates**"
      ],
      "metadata": {
        "id": "cX_ks1SiqavT"
      }
    },
    {
      "cell_type": "code",
      "source": [
        "# Define object\n",
        "object_name = 'M51'"
      ],
      "metadata": {
        "id": "xL1TP3BJmyoE"
      },
      "execution_count": null,
      "outputs": []
    },
    {
      "cell_type": "markdown",
      "source": [
        "*e.g. M31 (Andromeda galaxy), M104 (Sombrero galaxy), M51 (Whirlpool galaxy), M42 (Orion nebula), NGC 3372 (Carina nebula)*"
      ],
      "metadata": {
        "id": "7SW5Qozr0h57"
      }
    },
    {
      "cell_type": "code",
      "source": [
        "# Get and set skycoordinates of object\n",
        "from astroquery.simbad import Simbad\n",
        "from astropy.coordinates import SkyCoord\n",
        "\n",
        "skyobject = Simbad.query_object(object_name)\n",
        "ra_hms = skyobject['RA'][0]\n",
        "dec_dms = skyobject['DEC'][0]\n",
        "coord = SkyCoord(ra=ra_hms, dec=dec_dms, unit=('hourangle', 'deg'), frame='icrs')\n",
        "print(skyobject)\n",
        "print(\"\\nCoordinates:\")\n",
        "print(\"RA (h:m:s):\", ra_hms)\n",
        "print(\"DEC (d:m:s):\", dec_dms)"
      ],
      "metadata": {
        "colab": {
          "base_uri": "https://localhost:8080/"
        },
        "id": "Rkl4u8RvoJ8E",
        "outputId": "cedf95ba-73a1-4a51-af21-5b9aac969529"
      },
      "execution_count": null,
      "outputs": [
        {
          "output_type": "stream",
          "name": "stdout",
          "text": [
            "MAIN_ID      RA          DEC      RA_PREC ... COO_WAVELENGTH     COO_BIBCODE     SCRIPT_NUMBER_ID\n",
            "          \"h:m:s\"      \"d:m:s\"            ...                                                    \n",
            "------- ------------ ------------ ------- ... -------------- ------------------- ----------------\n",
            "  M  51 13 29 52.698 +47 11 42.93       7 ...              I 2006AJ....131.1163S                1\n",
            "\n",
            "Coordinates:\n",
            "RA (h:m:s): 13 29 52.698\n",
            "DEC (d:m:s): +47 11 42.93\n"
          ]
        }
      ]
    },
    {
      "cell_type": "code",
      "source": [
        "# Convert from Right Ascension (RA) and Declination (DEC) to decimal degree\n",
        "coord = SkyCoord(ra=ra_hms, dec=dec_dms, unit=('hourangle', 'deg'), frame='icrs')\n",
        "ra_deg = coord.ra.deg # round(coord.ra.deg, 2)\n",
        "dec_deg = coord.dec.deg # round(coord.dec.deg, 2)\n",
        "\n",
        "print(\"RA in degrees:\", ra_deg)\n",
        "print(\"DEC in degrees:\", dec_deg)"
      ],
      "metadata": {
        "colab": {
          "base_uri": "https://localhost:8080/"
        },
        "id": "9Kk7HpYI1-JW",
        "outputId": "a381ac3d-b40a-4107-a261-0bb82a3720a5"
      },
      "execution_count": null,
      "outputs": [
        {
          "output_type": "stream",
          "name": "stdout",
          "text": [
            "RA in degrees: 202.46957499999996\n",
            "DEC in degrees: 47.19525833333333\n"
          ]
        }
      ]
    },
    {
      "cell_type": "code",
      "source": [
        "# Convert from decimal degree to Right Ascension (RA) and Declination (DEC)\n",
        "coord = SkyCoord(ra=ra_deg, dec=dec_deg, unit='deg', frame='icrs')\n",
        "\n",
        "# RA: hours, minutes, seconds. DEC: degrees, arcminutes, arcseconds\n",
        "ra_hms = coord.ra.to_string(unit='hour', sep=' ', precision=3, pad=True)\n",
        "dec_dms = coord.dec.to_string(unit='deg', sep=' ', precision=2, alwayssign=True, pad=True)\n",
        "\n",
        "print(\"RA (h:m:s):\", ra_hms)\n",
        "print(\"DEC (d:m:s):\", dec_dms)"
      ],
      "metadata": {
        "colab": {
          "base_uri": "https://localhost:8080/"
        },
        "id": "kCXustN52CaR",
        "outputId": "fc88967b-8a3f-402c-bba6-5fa06b58f6e5"
      },
      "execution_count": null,
      "outputs": [
        {
          "output_type": "stream",
          "name": "stdout",
          "text": [
            "RA (h:m:s): 13 29 52.698\n",
            "DEC (d:m:s): +47 11 42.93\n"
          ]
        }
      ]
    },
    {
      "cell_type": "code",
      "source": [
        "# Reverse check to see to which object the coordinates belong\n",
        "coord = SkyCoord(ra=ra_hms, dec=dec_dms, unit=('hourangle', 'deg'), frame='icrs')\n",
        "result = Simbad.query_region(coord, radius='0d0m5s')  # Search within a small radius (5 arcseconds)\n",
        "if result:\n",
        "    print(result['MAIN_ID'][0])  # Show main name of the object\n",
        "else:\n",
        "    print(\"No object found in SIMBAD at these coordinates.\")\n",
        "object_name = 'MAIN_ID'"
      ],
      "metadata": {
        "colab": {
          "base_uri": "https://localhost:8080/"
        },
        "id": "SWpSB9A-2Fd3",
        "outputId": "df6726e4-fa89-4d73-be63-6d6bbbf4cd33"
      },
      "execution_count": null,
      "outputs": [
        {
          "output_type": "stream",
          "name": "stdout",
          "text": [
            "M  51\n"
          ]
        }
      ]
    },
    {
      "cell_type": "markdown",
      "source": [
        "frame='icrs' refers to [International Celestial Ref. System](https://aa.usno.navy.mil/faq/ICRS_doc)\n",
        "*  Origin is barycenter of Solar System. This means ICRS origin is not fixed to Earth but moves with Solar System's center of mass.\n",
        "* Axes are defined by the positions of extragalactic sources, primarily quasars observed using Very Long Baseline Interferometry (VLBI). The primary plane is as close as possible to the mean equator at J2000.0 (January 1, 2000, 12:00 TT).  The origin of right ascension is close to the dynamical equinox of J2000.0.\n",
        "* Accuracy: The ICRF3 defines the ICRS axes with an accuracy of about 20 microarcseconds.\n",
        "* Realization: The International Celestial Reference Frame (ICRF) is a catalog of precise positions of extragalactic sources that provides a practical realization of the ICRS. The latest version, ICRF3, includes the positions of over 4000 extragalactic sources, mostly quasars. The ICRF is maintained by the International Earth Rotation and Reference Systems Service (IERS).\n",
        "* Relationship to other systems: ICRS is closely aligned with the J2000 equatorial coordinate system, but it's more accurate and stable. Transformations exist to convert coordinates between ICRS and other celestial reference systems"
      ],
      "metadata": {
        "id": "ftaS2cfm3Qnk"
      }
    },
    {
      "cell_type": "code",
      "source": [
        "# Set coordinates manually and verify correct object\n",
        "coord = SkyCoord('189.9976d -11.623054d', frame='icrs')\n",
        "result = Simbad.query_region(coord, radius='0d0m5s')  # Search within a small radius (5 arcseconds)\n",
        "if result:\n",
        "    print(result['MAIN_ID'][0])  # Show main name of the object\n",
        "else:\n",
        "    print(\"No object found in SIMBAD at these coordinates.\")\n",
        "object_name = 'MAIN_ID'"
      ],
      "metadata": {
        "id": "PRRdYduusf5q",
        "colab": {
          "base_uri": "https://localhost:8080/"
        },
        "outputId": "852e2884-db99-4a4c-9d7b-84c602ebc5e4"
      },
      "execution_count": null,
      "outputs": [
        {
          "output_type": "stream",
          "name": "stdout",
          "text": [
            "M 104\n"
          ]
        }
      ]
    },
    {
      "cell_type": "markdown",
      "source": [
        "#### **FITS File**"
      ],
      "metadata": {
        "id": "emBsyyhEzvVA"
      }
    },
    {
      "cell_type": "code",
      "source": [
        "# Option 1: Load via IRSA (for predefined object)\n",
        "from astroquery.ipac.irsa import Irsa\n",
        "spitzer_images = Irsa.query_sia(pos=(coord, 1 * u.arcmin), collection='spitzer_seip').to_table()\n",
        "\n",
        "# Open a cutout image for one of the science images\n",
        "irsa_image = spitzer_images[spitzer_images['dataproduct_subtype'] == 'science'][5]\n",
        "with fits.open(irsa_image['access_url'], use_fsspec=True) as hdul:\n",
        "    cutout = Cutout2D(hdul[0].section, position=coord, size=2 * u.arcmin, wcs=WCS(hdul[0].header))\n",
        "\n",
        "# Open FITS file\n",
        "hdul = fits.open(irsa_image['access_url'], use_fsspec=True)\n",
        "\n",
        "# Print file information\n",
        "hdul.info()"
      ],
      "metadata": {
        "colab": {
          "base_uri": "https://localhost:8080/"
        },
        "id": "53U6H5DzsPcV",
        "outputId": "4d98131b-91eb-455c-980a-11abe651fddb"
      },
      "execution_count": null,
      "outputs": [
        {
          "output_type": "stream",
          "name": "stdout",
          "text": [
            "Filename: <class 'fsspec.implementations.http.HTTPFile'>\n",
            "No.    Name      Ver    Type      Cards   Dimensions   Format\n",
            "  0  PRIMARY       1 PrimaryHDU      77   (2480, 3095)   float32   \n"
          ]
        }
      ]
    },
    {
      "cell_type": "code",
      "source": [
        "# Option 2: Load file directly\n",
        "!wget https://raw.githubusercontent.com/deltorobarba/astrophysics/master/file-u-001737-5-0039.fits\n",
        "fits_file = './file-u-001737-5-0039.fits'\n",
        "\n",
        "# Open the FITS file\n",
        "hdul = fits.open(fits_file)\n",
        "\n",
        "# Print file information\n",
        "hdul.info()"
      ],
      "metadata": {
        "colab": {
          "base_uri": "https://localhost:8080/"
        },
        "id": "SeFB0afgusZm",
        "outputId": "c19b7ba9-21b2-4712-a8ed-84a8a0210cf5"
      },
      "execution_count": null,
      "outputs": [
        {
          "output_type": "stream",
          "name": "stdout",
          "text": [
            "--2024-12-21 19:43:55--  https://raw.githubusercontent.com/deltorobarba/astrophysics/master/file-u-001737-5-0039.fits\n",
            "Resolving raw.githubusercontent.com (raw.githubusercontent.com)... 185.199.108.133, 185.199.109.133, 185.199.110.133, ...\n",
            "Connecting to raw.githubusercontent.com (raw.githubusercontent.com)|185.199.108.133|:443... connected.\n",
            "HTTP request sent, awaiting response... 200 OK\n",
            "Length: 12447360 (12M) [application/octet-stream]\n",
            "Saving to: ‘file-u-001737-5-0039.fits.4’\n",
            "\n",
            "\r          file-u-00   0%[                    ]       0  --.-KB/s               \rfile-u-001737-5-003 100%[===================>]  11.87M  --.-KB/s    in 0.03s   \n",
            "\n",
            "2024-12-21 19:43:55 (348 MB/s) - ‘file-u-001737-5-0039.fits.4’ saved [12447360/12447360]\n",
            "\n",
            "Filename: ./file-u-001737-5-0039.fits\n",
            "No.    Name      Ver    Type      Cards   Dimensions   Format\n",
            "  0  PRIMARY       1 PrimaryHDU      85   (2048, 1489)   float32   \n",
            "  1                1 ImageHDU         6   (2048,)   float32   \n",
            "  2                1 BinTableHDU     27   1R x 3C   [49152E, 2048E, 1489E]   \n",
            "  3                1 BinTableHDU     79   1R x 31C   [J, 3A, J, A, D, D, 2J, J, D, D, D, D, D, D, D, D, D, D, D, D, D, D, D, D, D, D, D, D, D, E, E]   \n"
          ]
        }
      ]
    },
    {
      "cell_type": "code",
      "source": [
        "# Access more details from primary HDU (Header/Data Unit) to get data\n",
        "primary_hdu = hdul[0]\n",
        "data = primary_hdu.data\n",
        "print(primary_hdu.header) # Display the header to learn more about the file\n",
        "print(repr(hdul[0].header))  # Science data HDU header"
      ],
      "metadata": {
        "colab": {
          "base_uri": "https://localhost:8080/"
        },
        "id": "7oduxxx4z2ZW",
        "outputId": "6ac84b6b-50db-4fad-dff2-42ec69bdc841"
      },
      "execution_count": null,
      "outputs": [
        {
          "output_type": "stream",
          "name": "stdout",
          "text": [
            "SIMPLE  =                    T /                                                BITPIX  =                  -32 / 32 bit floating point                          NAXIS   =                    2                                                  NAXIS1  =                 2048                                                  NAXIS2  =                 1489                                                  EXTEND  =                    T /Extensions may be present                       BZERO   =              0.00000 /Set by MRD_SCALE                                BSCALE  =              1.00000 /Set by MRD_SCALE                                TAI     =        4476739701.74 / 1st row - Number of seconds since Nov 17 1858  RA      =            313.13132 / 1st row - Right ascension of telescope boresighDEC     =           -6.213656  / 1st row - Declination of telescope boresight (dSPA     =              97.851  / 1st row - Camera col position angle wrt north (IPA     =             111.891  / 1st row - Instrument rotator position angle (deIPARATE =             -0.0006  / 1st row - Instrument rotator angular velocity (AZ      =            16.625119 / 1st row - Azimuth  (encoder) of tele (0=N?) (deALT     =            49.562498 / 1st row - Altitude (encoder) of tele        (deFOCUS   = -999999999999.999999 / 1st row - Focus piston (microns?)              DATE-OBS= '2000-09-27'         / 1st row - TAI date                             TAIHMS  = '02:48:21.73'        / 1st row - TAI time (HH:MM:SS.SS) (TAI-UT = apprCOMMENT  TAI,RA,DEC,SPA,IPA,IPARATE,AZ,ALT,FOCUS at reading of col 0, row 0     ORIGIN  = 'SDSS    '                                                            TELESCOP= '2.5m    '                                                            TIMESYS = 'TAI     '                                                            RUN     =                 1737 / Run number                                     FRAME   =                   43 / Frame sequence number within the run           CCDLOC  =                   35 / Survey location of CCD (e.g., rowCol)          STRIPE  =                   86 / Stripe index number (23 <--> eta=0)            STRIP   = 'S       '           / Strip in the stripe being tracked.             FLAVOR  = 'science '           / Flavor of this run                             SYS_SCN = 'mean    '           / System of the scan great circle (e.g., mean)   EQNX_SCN=           2000.00    / Equinox of the scan great circle. (years)      NODE    =           95.00000   / RA of the great circle's ascending node (deg)  INCL    =           10.00000   / Great circle's inclination wrt cel. eq. (deg)  XBORE   =           22.74      / Boresight x offset from the array center (mm)  YBORE   =           0.00       / Boresight x offset from the array center (mm)  OBJECT  = '86 S    '           / e.g., 'stripe 50.6 degrees, north strip'       EXPTIME = '53.907456'          / Exposure time (seconds)                        SYSTEM  = 'FK5     '           / System of the TCC coordinates (e.g., mean)     CCDMODE = 'DRIFT   '           / 'STARING' or 'DRIFT'                           C_OBS   =                26322 / CCD row clock rate (usec/row)                  COLBIN  =                    1 / Binning factor perpendicular to the columns    ROWBIN  =                    1 / Binning factor perpendicular to the rows       DAVERS  = 'v14_34  '           / Version of DA software                         COMMENT  CCD-specific parameters                                                CAMROW  =                    3 / Row in the imaging camera                      BADLINES=                    0 / Number of bad lines in frame                   EQUINOX =              2000.00 /                                                SOFTBIAS=                 1000 / software \"bias\" added to all DN                BUNIT   = 'nanomaggy'          / 1 nanomaggy = 3.631e-6 Jy                      FILTER  = 'u       '           / filter used                                    CAMCOL  =                    5 / column in the imaging camera                   VERSION = 'v5_6_3  '                                                            DERV_VER= 'NOCVS:v8_23'                                                         ASTR_VER= 'NOCVS:v5_24'                                                         ASTRO_ID= '2009-05-12T03:02:35 11425'                                           BIAS_ID = 'PS      '                                                            FRAME_ID= '2009-10-21T13:41:29 05478'                                           KO_VER  = 'devel   '                                                            PS_ID   = '2009-05-11T22:12:58 24560 camCol 5'                                  ATVSN   = 'NOCVS:v5_24'        / ASTROTOOLS version tag                         RADECSYS= 'ICRS    '           / International Celestial Ref. System            CTYPE1  = 'RA---TAN'           /Coordinate type                                 CTYPE2  = 'DEC--TAN'           /Coordinate type                                 CUNIT1  = 'deg     '           /Units                                           CUNIT2  = 'deg     '           /Units                                           CRPIX1  =        1025.00000000 /X of reference pixel                            CRPIX2  =        745.000000000 /Y of reference pixel                            CRVAL1  =        313.170686215 /RA of reference pixel (deg)                     CRVAL2  =       -5.69310777014 /Dec of reference pixel (deg)                    CD1_1   =    1.49996121702E-05 /RA deg per column pixel                         CD1_2   =    0.000108944939601 /RA deg per row pixel                            CD2_1   =    0.000108939573254 /Dec deg per column pixel                        CD2_2   =   -1.50145788247E-05 /Dec deg per row pixel                           HISTORY GSSSPUTAST: Oct 21 13:41:34 2009                                        COMMENT  Calibration parameters                                                 COMMENT  Floats truncated at 10 binary digits with FLOATCOMPRESS                NMGY    =           0.00922386 / Calibration factor [nMgy per count]            NMGYIVAR=            0.0566819 / Calibration factor inverse variance            VERSIDL = '7.0     '           / Version of IDL                                 VERSUTIL= 'v5_5_5  '           / Version of idlutils                            VERSPOP = 'v1_11_1 '           / Version of photoop product                     PCALIB  = '/clusterfs/riemann/raid006/bosswork/groups/boss/calib/2009-06-14/cal'PSKY    = '/clusterfs/riemann/raid006/bosswork/groups/boss/photo/sky' / Value ofRERUN   = '301     '           / rerun                                          HISTORY SDSS_FRAME_ASTROM: Astrometry fixed for dr9 Sun Jun 10 18:13:54 2012    END                                                                                                                                                                                                                                                                                                                                                                                                                                                                                                                                                                                                                                                                                                                                                                                                                                                                                                                                                                                                                                                                                                                                                                                                                                                                                                                                                                                                                                                                                                                                                                                                                                                                                                                                                                                                                                                                                                             \n",
            "SIMPLE  =                    T /                                                \n",
            "BITPIX  =                  -32 / 32 bit floating point                          \n",
            "NAXIS   =                    2                                                  \n",
            "NAXIS1  =                 2048                                                  \n",
            "NAXIS2  =                 1489                                                  \n",
            "EXTEND  =                    T /Extensions may be present                       \n",
            "BZERO   =              0.00000 /Set by MRD_SCALE                                \n",
            "BSCALE  =              1.00000 /Set by MRD_SCALE                                \n",
            "TAI     =        4476739701.74 / 1st row - Number of seconds since Nov 17 1858  \n",
            "RA      =            313.13132 / 1st row - Right ascension of telescope boresigh\n",
            "DEC     =           -6.213656  / 1st row - Declination of telescope boresight (d\n",
            "SPA     =              97.851  / 1st row - Camera col position angle wrt north (\n",
            "IPA     =             111.891  / 1st row - Instrument rotator position angle (de\n",
            "IPARATE =             -0.0006  / 1st row - Instrument rotator angular velocity (\n",
            "AZ      =            16.625119 / 1st row - Azimuth  (encoder) of tele (0=N?) (de\n",
            "ALT     =            49.562498 / 1st row - Altitude (encoder) of tele        (de\n",
            "FOCUS   = -999999999999.999999 / 1st row - Focus piston (microns?)              \n",
            "DATE-OBS= '2000-09-27'         / 1st row - TAI date                             \n",
            "TAIHMS  = '02:48:21.73'        / 1st row - TAI time (HH:MM:SS.SS) (TAI-UT = appr\n",
            "COMMENT  TAI,RA,DEC,SPA,IPA,IPARATE,AZ,ALT,FOCUS at reading of col 0, row 0     \n",
            "ORIGIN  = 'SDSS    '                                                            \n",
            "TELESCOP= '2.5m    '                                                            \n",
            "TIMESYS = 'TAI     '                                                            \n",
            "RUN     =                 1737 / Run number                                     \n",
            "FRAME   =                   43 / Frame sequence number within the run           \n",
            "CCDLOC  =                   35 / Survey location of CCD (e.g., rowCol)          \n",
            "STRIPE  =                   86 / Stripe index number (23 <--> eta=0)            \n",
            "STRIP   = 'S       '           / Strip in the stripe being tracked.             \n",
            "FLAVOR  = 'science '           / Flavor of this run                             \n",
            "SYS_SCN = 'mean    '           / System of the scan great circle (e.g., mean)   \n",
            "EQNX_SCN=           2000.00    / Equinox of the scan great circle. (years)      \n",
            "NODE    =           95.00000   / RA of the great circle's ascending node (deg)  \n",
            "INCL    =           10.00000   / Great circle's inclination wrt cel. eq. (deg)  \n",
            "XBORE   =           22.74      / Boresight x offset from the array center (mm)  \n",
            "YBORE   =           0.00       / Boresight x offset from the array center (mm)  \n",
            "OBJECT  = '86 S    '           / e.g., 'stripe 50.6 degrees, north strip'       \n",
            "EXPTIME = '53.907456'          / Exposure time (seconds)                        \n",
            "SYSTEM  = 'FK5     '           / System of the TCC coordinates (e.g., mean)     \n",
            "CCDMODE = 'DRIFT   '           / 'STARING' or 'DRIFT'                           \n",
            "C_OBS   =                26322 / CCD row clock rate (usec/row)                  \n",
            "COLBIN  =                    1 / Binning factor perpendicular to the columns    \n",
            "ROWBIN  =                    1 / Binning factor perpendicular to the rows       \n",
            "DAVERS  = 'v14_34  '           / Version of DA software                         \n",
            "COMMENT  CCD-specific parameters                                                \n",
            "CAMROW  =                    3 / Row in the imaging camera                      \n",
            "BADLINES=                    0 / Number of bad lines in frame                   \n",
            "EQUINOX =              2000.00 /                                                \n",
            "SOFTBIAS=                 1000 / software \"bias\" added to all DN                \n",
            "BUNIT   = 'nanomaggy'          / 1 nanomaggy = 3.631e-6 Jy                      \n",
            "FILTER  = 'u       '           / filter used                                    \n",
            "CAMCOL  =                    5 / column in the imaging camera                   \n",
            "VERSION = 'v5_6_3  '                                                            \n",
            "DERV_VER= 'NOCVS:v8_23'                                                         \n",
            "ASTR_VER= 'NOCVS:v5_24'                                                         \n",
            "ASTRO_ID= '2009-05-12T03:02:35 11425'                                           \n",
            "BIAS_ID = 'PS      '                                                            \n",
            "FRAME_ID= '2009-10-21T13:41:29 05478'                                           \n",
            "KO_VER  = 'devel   '                                                            \n",
            "PS_ID   = '2009-05-11T22:12:58 24560 camCol 5'                                  \n",
            "ATVSN   = 'NOCVS:v5_24'        / ASTROTOOLS version tag                         \n",
            "RADECSYS= 'ICRS    '           / International Celestial Ref. System            \n",
            "CTYPE1  = 'RA---TAN'           /Coordinate type                                 \n",
            "CTYPE2  = 'DEC--TAN'           /Coordinate type                                 \n",
            "CUNIT1  = 'deg     '           /Units                                           \n",
            "CUNIT2  = 'deg     '           /Units                                           \n",
            "CRPIX1  =        1025.00000000 /X of reference pixel                            \n",
            "CRPIX2  =        745.000000000 /Y of reference pixel                            \n",
            "CRVAL1  =        313.170686215 /RA of reference pixel (deg)                     \n",
            "CRVAL2  =       -5.69310777014 /Dec of reference pixel (deg)                    \n",
            "CD1_1   =    1.49996121702E-05 /RA deg per column pixel                         \n",
            "CD1_2   =    0.000108944939601 /RA deg per row pixel                            \n",
            "CD2_1   =    0.000108939573254 /Dec deg per column pixel                        \n",
            "CD2_2   =   -1.50145788247E-05 /Dec deg per row pixel                           \n",
            "HISTORY GSSSPUTAST: Oct 21 13:41:34 2009                                        \n",
            "COMMENT  Calibration parameters                                                 \n",
            "COMMENT  Floats truncated at 10 binary digits with FLOATCOMPRESS                \n",
            "NMGY    =           0.00922386 / Calibration factor [nMgy per count]            \n",
            "NMGYIVAR=            0.0566819 / Calibration factor inverse variance            \n",
            "VERSIDL = '7.0     '           / Version of IDL                                 \n",
            "VERSUTIL= 'v5_5_5  '           / Version of idlutils                            \n",
            "VERSPOP = 'v1_11_1 '           / Version of photoop product                     \n",
            "PCALIB  = '/clusterfs/riemann/raid006/bosswork/groups/boss/calib/2009-06-14/cal'\n",
            "PSKY    = '/clusterfs/riemann/raid006/bosswork/groups/boss/photo/sky' / Value of\n",
            "RERUN   = '301     '           / rerun                                          \n",
            "HISTORY SDSS_FRAME_ASTROM: Astrometry fixed for dr9 Sun Jun 10 18:13:54 2012    \n"
          ]
        }
      ]
    },
    {
      "cell_type": "code",
      "source": [
        "# Close the FITS file\n",
        "hdul.close()"
      ],
      "metadata": {
        "id": "o1juDGerz4SN"
      },
      "execution_count": null,
      "outputs": []
    }
  ]
}