{
  "nbformat": 4,
  "nbformat_minor": 0,
  "metadata": {
    "colab": {
      "name": "set.ipynb",
      "provenance": [],
      "collapsed_sections": [
        "1dSqpbRkD3jr",
        "2t0NnrUfDoVg",
        "7S02zfX9cYAb",
        "CL7B0EzWip_V",
        "z3KqqsZoinKt",
        "m9GLAbmlCg0H",
        "DN1m6a8kVGp1",
        "J4eCraLjCrRx",
        "ErN__bggDh9m",
        "Vc8T8hpoiWFR",
        "6lpI5kfOLtNq",
        "N5Q3MF-IBrBk",
        "Hakve64ge6r7",
        "_64OqlKfZXqZ",
        "WYqXPG4GK4NL",
        "sef3vFPZCbBH",
        "Q1xgu3v2zzcT",
        "9zeKm32B9J-r",
        "jnf6EJrp8kCL",
        "KVfJxtw_faJK",
        "bkZcyD7ispT2",
        "IRb13Big9a34",
        "QNeiHqg7xI1l",
        "ak2HBZOH8xiT",
        "U64am8GwoTEL"
      ],
      "include_colab_link": true
    },
    "kernelspec": {
      "name": "python3",
      "display_name": "Python 3"
    }
  },
  "cells": [
    {
      "cell_type": "markdown",
      "metadata": {
        "id": "view-in-github",
        "colab_type": "text"
      },
      "source": [
        "<a href=\"https://colab.research.google.com/github/deltorobarba/machinelearning/blob/master/set.ipynb\" target=\"_parent\"><img src=\"https://colab.research.google.com/assets/colab-badge.svg\" alt=\"Open In Colab\"/></a>"
      ]
    },
    {
      "cell_type": "markdown",
      "metadata": {
        "id": "2Aoj2PpxvDQV"
      },
      "source": [
        "# **Mengentheorie**"
      ]
    },
    {
      "cell_type": "code",
      "metadata": {
        "id": "1U5_6xH7tAQq"
      },
      "source": [
        "import numpy as np\n",
        "import pandas as pd\n",
        "import seaborn as sns\n",
        "import matplotlib.pyplot as plt"
      ],
      "execution_count": null,
      "outputs": []
    },
    {
      "cell_type": "markdown",
      "metadata": {
        "id": "1dSqpbRkD3jr"
      },
      "source": [
        "#### **Types**"
      ]
    },
    {
      "cell_type": "markdown",
      "metadata": {
        "id": "2t0NnrUfDoVg"
      },
      "source": [
        "##### **Definition & Basic Operations**"
      ]
    },
    {
      "cell_type": "markdown",
      "metadata": {
        "id": "5ZG8iYYSKFEn"
      },
      "source": [
        "**A set is a collection of objects. Each object in the set is called an element of the set.**"
      ]
    },
    {
      "cell_type": "markdown",
      "metadata": {
        "id": "Tmp5fmoLDfmS"
      },
      "source": [
        "A set is a well-defined collection of distinct objects, considered as an object in its own right. The arrangement of the objects in the set does not matter. For example, \n",
        "\n",
        "* the numbers 2, 4, and 6 are distinct objects when considered separately, \n",
        "\n",
        "* but when they are considered collectively they form a single set of size three, written as {2, 4, 6}, which could also be written as {2, 6, 4}"
      ]
    },
    {
      "cell_type": "markdown",
      "metadata": {
        "id": "L4QAPB_PECeU"
      },
      "source": [
        "Set theory begins with a fundamental binary relation between an object o and a set A. If o is a member (or element) of A, the notation o ∈ A is used. A set is described by listing elements separated by commas, or by a characterizing property of its elements, within braces { }. Since sets are objects, the membership relation can relate sets as well.\n",
        "\n",
        "* A derived binary relation between two sets is the subset relation, also called set inclusion. If all the members of set A are also members of set B, then A is a subset of B, denoted A ⊆ B. For example, {1, 2} is a subset of {1, 2, 3} , and so is {2} but {1, 4} is not. \n",
        "\n",
        "* As insinuated from this definition, a set is a subset of itself. For cases where this possibility is unsuitable or would make sense to be rejected, the term proper subset is defined. A is called a proper subset of B if and only if A is a subset of B, but A is not equal to B. \n",
        "\n",
        "* Also 1, 2, and 3 are members (elements) of the set {1, 2, 3} but are not subsets of it; and in turn, the subsets, such as {1}, are not members of the set {1, 2, 3}."
      ]
    },
    {
      "cell_type": "markdown",
      "metadata": {
        "id": "WwfFp85sD0t5"
      },
      "source": [
        "https://en.m.wikipedia.org/wiki/Set_(mathematics)"
      ]
    },
    {
      "cell_type": "markdown",
      "metadata": {
        "id": "s9-oi0pwDxyx"
      },
      "source": [
        "https://en.m.wikipedia.org/wiki/Set_theory"
      ]
    },
    {
      "cell_type": "markdown",
      "metadata": {
        "id": "CzxVJn6ADkKT"
      },
      "source": [
        "**Basic Operations: Union ∪, Intersection ∩ & Complements \\**"
      ]
    },
    {
      "cell_type": "markdown",
      "metadata": {
        "id": "FtNbkFYOD96T"
      },
      "source": [
        "![xx](https://upload.wikimedia.org/wikipedia/commons/thumb/3/30/Venn0111.svg/320px-Venn0111.svg.png)"
      ]
    },
    {
      "cell_type": "markdown",
      "metadata": {
        "id": "ZrJikJKgD5H7"
      },
      "source": [
        "*The **union** of A and B, denoted A ∪ B*"
      ]
    },
    {
      "cell_type": "markdown",
      "metadata": {
        "id": "Ei7emQxqEI8J"
      },
      "source": [
        "![xx](https://upload.wikimedia.org/wikipedia/commons/thumb/9/99/Venn0001.svg/320px-Venn0001.svg.png)"
      ]
    },
    {
      "cell_type": "markdown",
      "metadata": {
        "id": "2Bfjn69cEFIN"
      },
      "source": [
        "*The **intersection** of A and B, denoted A ∩ B.*"
      ]
    },
    {
      "cell_type": "markdown",
      "metadata": {
        "id": "bowdMR16EVQk"
      },
      "source": [
        "And **complements** in set theory: https://en.m.wikipedia.org/wiki/Complement_(set_theory)"
      ]
    },
    {
      "cell_type": "markdown",
      "metadata": {
        "id": "TtfyldwnEB_U"
      },
      "source": [
        "https://en.m.wikipedia.org/wiki/File:Venn0111.svg"
      ]
    },
    {
      "cell_type": "markdown",
      "metadata": {
        "id": "2_h5VCU3Dsk_"
      },
      "source": [
        "https://en.m.wikipedia.org/wiki/Venn_diagram#Overview"
      ]
    },
    {
      "cell_type": "markdown",
      "metadata": {
        "id": "Eo_0zE4eDmsJ"
      },
      "source": [
        "https://en.m.wikipedia.org/wiki/Set_(mathematics)#"
      ]
    },
    {
      "cell_type": "markdown",
      "metadata": {
        "id": "QHRbqic7rZ1U"
      },
      "source": [
        "**Exkurs: Kartesisches Produkt**"
      ]
    },
    {
      "cell_type": "markdown",
      "metadata": {
        "id": "o0gDyfTSsFXT"
      },
      "source": [
        "![xxx](https://upload.wikimedia.org/wikipedia/commons/thumb/4/4e/Cartesian_Product_qtl1.svg/316px-Cartesian_Product_qtl1.svg.png)"
      ]
    },
    {
      "cell_type": "markdown",
      "metadata": {
        "id": "ADYctj4EnJkx"
      },
      "source": [
        "* Das kartesische Produkt oder Mengenprodukt ist in der Mengenlehre eine grundlegende Konstruktion, aus gegebenen Mengen eine neue Menge zu erzeugen. Gelegentlich wird für das kartesische Produkt auch die mehrdeutige Bezeichnung „Kreuzprodukt“ verwendet. \n",
        "\n",
        "* Das kartesische Produkt zweier Mengen ist die Menge aller geordneten Paare von Elementen der beiden Mengen, wobei die erste Komponente ein Element der ersten Menge und die zweite Komponente ein Element der zweiten Menge ist. \n",
        "\n",
        "* Allgemeiner besteht das kartesische Produkt mehrerer Mengen aus der Menge aller Tupel von Elementen der Mengen, wobei die Reihenfolge der Mengen und damit der entsprechenden Elemente fest vorgegeben ist. Die Ergebnismenge des kartesischen Produkts wird auch Produktmenge, Kreuzmenge oder Verbindungsmenge genannt."
      ]
    },
    {
      "cell_type": "markdown",
      "metadata": {
        "id": "Qf9jo6N1rdaa"
      },
      "source": [
        "https://de.m.wikipedia.org/wiki/Kartesisches_Produkt"
      ]
    },
    {
      "cell_type": "markdown",
      "metadata": {
        "id": "YJs4oaAaniip"
      },
      "source": [
        "**Exkurs: Geordnetes Paar**"
      ]
    },
    {
      "cell_type": "markdown",
      "metadata": {
        "id": "rd_ubM9Gnq7H"
      },
      "source": [
        "Beispiele:"
      ]
    },
    {
      "cell_type": "markdown",
      "metadata": {
        "id": "vyYm4u_RntHI"
      },
      "source": [
        "* in der Mengenlehre kartesische Produkte, Relationen und Funktionen als Mengen geordneter Paare definiert,\n",
        "\n",
        "* in der Analysis komplexe Zahlen als geordnete Paare mit reellen Zahlen als Komponenten, reelle Zahlen als Mengen (Äquivalenzklassen) unendlicher Folgen (Cauchy-Folgen rationaler Zahlen), rationale Zahlen als Äquivalenzklassen geordneter Paare, deren Komponenten ganze Zahlen sind, ganze Zahlen als Äquivalenzklassen geordneter Paare, deren Komponenten natürliche Zahlen sind, definiert,\n",
        "\n",
        "* in der Algebra die algebraischen Strukturen, zum Beispiel Gruppen, Ringe, Körper im Wesentlichen als Funktionen (binäre Verknüpfungen) definiert."
      ]
    },
    {
      "cell_type": "markdown",
      "metadata": {
        "id": "3ZkeWszenmXD"
      },
      "source": [
        "https://de.m.wikipedia.org/wiki/Geordnetes_Paar"
      ]
    },
    {
      "cell_type": "markdown",
      "metadata": {
        "id": "7S02zfX9cYAb"
      },
      "source": [
        "##### **Universe (Grundmenge Ω)**"
      ]
    },
    {
      "cell_type": "markdown",
      "metadata": {
        "id": "SfBckwmfcblp"
      },
      "source": [
        "* A universe is a collection that contains all the entities one wishes to consider in a given situation. \n",
        "\n",
        "* Eine Grundmenge (auch Universum) bezeichnet in der Mathematik eine Menge aus allen in einem bestimmten Zusammenhang betrachteten Objekten. Alle in diesem Zusammenhang betrachteten Mengen sind dann Teilmengen dieser Grundmenge. \n",
        "\n",
        "* **In einzelnen Fällen werden jedoch im Gegenzug nicht auch alle Teilmengen der Grundmenge betrachtet, so zum Beispiel im Fall einer σ-Algebra**. "
      ]
    },
    {
      "cell_type": "markdown",
      "metadata": {
        "id": "hPzPJw1ndAge"
      },
      "source": [
        "https://en.m.wikipedia.org/wiki/Universe_(mathematics)"
      ]
    },
    {
      "cell_type": "markdown",
      "metadata": {
        "id": "CL7B0EzWip_V"
      },
      "source": [
        "##### **Teilmenge (Subset)**"
      ]
    },
    {
      "cell_type": "markdown",
      "metadata": {
        "id": "auxaOuZejCxD"
      },
      "source": [
        "Wenn $A$ und $B$ Mengen sind und jedes Element von $A$ auch ein Element von $B$ ist, nennt man $A$ eine Teilmenge oder Untermenge von $B$:\n",
        "\n",
        "$$\n",
        "A \\subseteq B: \\Longleftrightarrow \\forall x \\in A: x \\in B\n",
        "$$\n",
        "\n",
        "Umgekehrt nennt man $B$ die Obermenge von $A$ genau dann, wenn $A$ Teilmenge von $B$ ist:\n",
        "\n",
        "$$\n",
        "B \\supseteq A: \\Longleftrightarrow A \\subseteq B\n",
        "$$\n",
        "\n",
        "Weiterhin gibt es den Begriff der echten Teilmenge. $A$ ist eine echte Teilmenge von $B$ genau dann, wenn $A$ eine Teilmenge von $B$ und $A$ nicht identisch mit $B$ ist.\n",
        "\n",
        "$$\n",
        "A \\subsetneq B: \\Longleftrightarrow A \\subseteq B \\wedge A \\neq B\n",
        "$$\n",
        "\n",
        "Wieder schreibt man auch $B \\supsetneq A,$ wenn $A \\subsetneq B$.\n"
      ]
    },
    {
      "cell_type": "markdown",
      "metadata": {
        "id": "gc2gzvuxityi"
      },
      "source": [
        "https://de.m.wikipedia.org/wiki/Teilmenge"
      ]
    },
    {
      "cell_type": "markdown",
      "metadata": {
        "id": "5-nQ6PeGlANl"
      },
      "source": [
        "https://de.m.wikibooks.org/wiki/Mathe_für_Nicht-Freaks:_Liste_mathematischer_Symbole"
      ]
    },
    {
      "cell_type": "markdown",
      "metadata": {
        "id": "z3KqqsZoinKt"
      },
      "source": [
        "##### **Solution Set (Lösungsmenge)**"
      ]
    },
    {
      "cell_type": "markdown",
      "metadata": {
        "id": "dgT3QNA9i0T8"
      },
      "source": [
        "* Im Falle einer Gleichung wie beispielsweise x+5=3 handelt es sich um eine Aussageform, die an sich weder wahr noch falsch ist. Erst wenn man anstelle von x konkrete Zahlen einsetzt, wird aus der Aussageform eine Aussage, die entweder wahr oder falsch ist. \n",
        "\n",
        "* Es interessiert beim Lösen einer Gleichung in der Regel jene Zahl, die aus der Gleichung eine wahre Aussage macht. Derjenige, der sich diese Gleichung ausgedacht hat, macht für den Löser dieser Gleichung jetzt außerdem noch eine weitere Vorschrift: Man soll nur innerhalb der natürlichen Zahlen N nach einem Objekt oder einer Zahl suchen dürfen, welches bzw. welche aus der Gleichung eine wahre Aussage macht. \n",
        "\n",
        "* Anders formuliert: Die Grundmenge zur Gleichung wird in diesem Fall als N vorgeschrieben. Als Folge dieser Einschränkung wird man keine Zahl finden, welche die Gleichung erfüllt. Und deshalb ist die Lösungsmenge der Gleichung leer."
      ]
    },
    {
      "cell_type": "markdown",
      "metadata": {
        "id": "wqZfuqf9UeZL"
      },
      "source": [
        "a solution set is the set of values that satisfy a given set of equations or inequalities."
      ]
    },
    {
      "cell_type": "markdown",
      "metadata": {
        "id": "9dH9c2mPUa_A"
      },
      "source": [
        "https://en.m.wikipedia.org/wiki/Solution_set"
      ]
    },
    {
      "cell_type": "markdown",
      "metadata": {
        "id": "m9GLAbmlCg0H"
      },
      "source": [
        "##### **Indexmenge**"
      ]
    },
    {
      "cell_type": "markdown",
      "metadata": {
        "id": "ka-yf_DrClHt"
      },
      "source": [
        "https://de.m.wikipedia.org/wiki/Indexmenge_(Mathematik)"
      ]
    },
    {
      "cell_type": "markdown",
      "metadata": {
        "id": "DN1m6a8kVGp1"
      },
      "source": [
        "##### **Power Set (Potenzmenge)**"
      ]
    },
    {
      "cell_type": "markdown",
      "metadata": {
        "id": "PqODkHicct2V"
      },
      "source": [
        "* Als Potenzmenge bezeichnet man in der Mengenlehre die **Menge aller Teilmengen einer gegebenen Grundmenge**. Man notiert die Potenzmenge einer Menge X meist als P(X).\n",
        "\n",
        "* The power set of a set S is the set of all subsets of S. The power set contains S itself and the empty set because these are both subsets of S. For example, the power set of the set {1, 2, 3} is {{1, 2, 3}, {1, 2}, {1, 3}, {2, 3}, {1}, {2}, {3}, ∅}. The power set of a set S is usually written as P(S).\n",
        "\n",
        "* **The power set of a finite set with n elements has 2<sup>n</sup> elements**. For example, the set {1, 2, 3} contains three elements, and the power set shown above contains 2<sup>3</sup> = 8 elements.\n",
        "\n",
        "* The power set (or powerset) of any set S is the **set of all subsets of S, including the empty set and S itself**, variously denoted as P(S), 𝒫(S), ℘(S) (using the \"Weierstrass p\"), P(S), ℙ(S), or, identifying the powerset of S with the set of all functions from S to a given set of two elements, 2S.\n",
        "\n",
        "* If S is the set {x, y, z}, then the subsets of S are: {} (also denoted ∅, the empty set or the null set), {x}, {y}, {z}, {x, y}, {x, z}, {y, z}, {x, y, z} and hence the power set of S is {{}, {x}, {y}, {z}, {x, y}, {x, z}, {y, z}, {x, y, z}}.\n",
        "\n",
        "* The power set of an infinite (either countable or uncountable) set is always uncountable. \n",
        "\n",
        "* Moreover, the power set of a set is always strictly \"bigger\" than the original set in the sense that there is no way to pair every element of S with exactly one element of P(S). (There is never an onto map or [surjection](https://en.m.wikipedia.org/wiki/Surjective_function) from S onto P(S).)"
      ]
    },
    {
      "cell_type": "markdown",
      "metadata": {
        "id": "vgxwnRHhaHgL"
      },
      "source": [
        "https://en.m.wikipedia.org/wiki/Power_set"
      ]
    },
    {
      "cell_type": "markdown",
      "metadata": {
        "id": "J4eCraLjCrRx"
      },
      "source": [
        "##### **Mengenfamilie**"
      ]
    },
    {
      "cell_type": "markdown",
      "metadata": {
        "id": "dU-KyWI3CuaI"
      },
      "source": [
        "https://de.m.wikipedia.org/wiki/Mengenfamilie"
      ]
    },
    {
      "cell_type": "markdown",
      "metadata": {
        "id": "ErN__bggDh9m"
      },
      "source": [
        "##### **Field of Sets (Algebra oder Mengensystem)**"
      ]
    },
    {
      "cell_type": "markdown",
      "metadata": {
        "id": "wEIdFJLmUG_C"
      },
      "source": [
        "**Mengensystem** oder **Mengenalgebra** oder **Fields of Sets**"
      ]
    },
    {
      "cell_type": "markdown",
      "metadata": {
        "id": "Z3axOdZgGNHd"
      },
      "source": [
        "* **A field of sets is a pair $\\langle X, \\mathcal{F}\\rangle$ where $X$ is a set and $\\mathcal{F}$ is an algebra over $X$** \n",
        "\n",
        "* i.e., a subset of the power set of $X$, closed under complements of individual sets and under the union (hence also under the intersection) of pairs of sets, and satisfying $X \\in \\mathcal{F}$. \n",
        "\n",
        "* In other words, $\\mathcal{F}$ forms\n",
        "a subalgebra of the power set Boolean algebra of $X$ (with the same identity element $X \\in \\mathcal{F}$ ).\n",
        "(Many authors refer to $\\mathcal{F}$ itself as a field of sets.) Elements of $X$ are called points and those of $\\mathcal{F}$\n",
        "are called complexes and are said to be the admissible sets of $X$."
      ]
    },
    {
      "cell_type": "markdown",
      "metadata": {
        "id": "Ct9dwFuXEuFS"
      },
      "source": [
        "Ω (Omega) sei eine beliebige (Grund-)Menge. Ein System $\\mathcal{A}$ (oder $\\mathcal{F}$) von Teilmengen von Ω heißt eine Mengenalgebra oder Algebra über Ω, wenn folgende Eigenschaften erfüllt sind:\n",
        "\n",
        "1. $\\mathcal{A} \\neq \\emptyset$ ( $\\mathcal{A}$ ist nicht leer)\n",
        "\n",
        "2. $A, B \\in \\mathcal{A} \\Rightarrow A \\cup B \\in \\mathcal{A}$ (Stabilität/Abgeschlossenheit bezüglich Vereinigung)\n",
        "\n",
        "3. $A \\in \\mathcal{A} \\Rightarrow A^{\\mathrm{c}} \\in \\mathcal{A}$ (Stabilität/Abgeschlossenheit bezüglich Komplementbildung $\\left.A^{c}=\\Omega \\backslash A\\right)$"
      ]
    },
    {
      "cell_type": "markdown",
      "metadata": {
        "id": "E_ksvdizjJS-"
      },
      "source": [
        "* In der Mathematik ist (Mengen-)Algebra ein Grundbegriff der Maßtheorie. Er beschreibt ein nicht-leeres Mengensystem, das vereinigungs- und komplementstabil ist.\n",
        "\n",
        "* A field of sets is a **pair ⟨X,F⟩** where X is a set and F is an algebra over X i.e., a subset of the power set of X, closed under complements of individual sets and under the union (hence also under the intersection) of pairs of sets, and satisfying X ∈ F. \n",
        "\n",
        "* In other words, F forms a subalgebra of the power set Boolean algebra of X (with the same identity element X ∈ F). (Many authors refer to F itself as a field of sets.) \n",
        "\n",
        "* **Elements of X are called points and those of F are called complexes and are said to be the admissible sets of X.**"
      ]
    },
    {
      "cell_type": "markdown",
      "metadata": {
        "id": "paRO-7ajId2V"
      },
      "source": [
        "* For arbitrary set $Y$, its power set (Potenzmenge) $2^{Y}$ (or, somewhat pedantically, the pair $\\left\\langle Y, 2^{Y}\\right\\rangle$ of this set and its power set) is a field of sets. \n",
        "\n",
        "* If $Y$ is finite (namely, $n$ -element), then $2^{Y}$ is finite (namely, $2^{n}$ element). \n",
        "\n",
        "* It appears that every finite field of sets (it means, $\\langle X, \\mathcal{F}\\rangle$ with $\\mathcal{F}$ finite, while $X$ may be infinite) admits a representation of the form $\\left\\langle Y, 2^{Y}\\right\\rangle$ with finite $Y ;$ it means a function $f: X \\rightarrow Y$ that establishes a one-to-one correspondence between $\\mathcal{F}$ and $2^{Y}$ via inverse image:\n",
        "$S=f^{-1}[B]=\\{x \\in X \\mid f(x) \\in B\\}$ where $S \\in \\mathcal{F}$ and $B \\in 2^{Y}$ (that is, $B \\subset Y$ ). \n",
        "\n",
        "* One notable consequence: the number of complexes, if finite, is always of the form $2^{n}$."
      ]
    },
    {
      "cell_type": "markdown",
      "metadata": {
        "id": "JqkRhwrZHSGp"
      },
      "source": [
        "**Beispiele für Algebra**"
      ]
    },
    {
      "cell_type": "markdown",
      "metadata": {
        "id": "8AFXRKkuHYNd"
      },
      "source": [
        "* Für jede beliebige Menge $\\Omega$ ist $\\{\\emptyset, \\Omega\\}$ die kleinste und die Potenzmenge $\\mathcal{P}(\\Omega)$ die größtmögliche Mengenalgebra.\n",
        "* Jede $\\sigma$ -Algebra ist eine Mengenalgebra.\n",
        "* Für jede Menge $\\Omega$ ist das Mengensystem $\\mathcal{A}=\\left\\{A \\subseteq \\Omega \\mid A \\text { endlich oder } A^{c} \\text { endlich }\\right\\}$ eine Mengenalgebra. Wenn $\\Omega$ unendich ist, dann ist $\\mathcal{A}$ keine $\\sigma$ -Algebra."
      ]
    },
    {
      "cell_type": "markdown",
      "metadata": {
        "id": "ded5mK7pcYoX"
      },
      "source": [
        "**Separative and compact fields of sets: towards Stone duality**"
      ]
    },
    {
      "cell_type": "markdown",
      "metadata": {
        "id": "p7fxFxMgcbMU"
      },
      "source": [
        "* A field of sets is called **separative (or differentiated)** if and only if for every pair of distinct points there is a complex containing one and not the other.\n",
        "\n",
        "* A field of sets is called **compact** if and only if for every proper filter over X the intersection of all the complexes contained in the filter is non-empty."
      ]
    },
    {
      "cell_type": "markdown",
      "metadata": {
        "id": "7JL_pBvidGa5"
      },
      "source": [
        "Given a field of sets $\\mathbf{X}=\\langle X, \\mathcal{F}\\rangle$ the complexes form a base for a topology. We denote by $T(\\mathbf{X})$ the corresponding topological space, $\\langle X, \\mathcal{T}\\rangle$ where $\\mathcal{T}$ is the topology formed by taking arbitrary unions of complexes. Then\n",
        "\n",
        "1. $T(\\mathbf{X})$ is always a [zero-dimensional space](https://en.m.wikipedia.org/wiki/Zero-dimensional_space)\n",
        "\n",
        "2. $T(\\mathbf{X})$ is a [Hausdorff space](https://en.m.wikipedia.org/wiki/Hausdorff_space) if and only if $\\mathbf{X}$ is separative.\n",
        "\n",
        "3. $T(\\mathbf{X})$ is a compact space with compact open sets $\\mathcal{F}$ if and only if $\\mathbf{X}$ is compact.\n",
        "\n",
        "4. $T(\\mathbf{X})$ is a Boolean space with clopen sets $\\mathcal{F}$ if and only if $\\mathbf{X}$ is both separative and compact (in which case it is described as being descriptive)"
      ]
    },
    {
      "cell_type": "markdown",
      "metadata": {
        "id": "6I7YepgQlABC"
      },
      "source": [
        "https://en.m.wikipedia.org/wiki/Field_of_sets"
      ]
    },
    {
      "cell_type": "markdown",
      "metadata": {
        "id": "Vc8T8hpoiWFR"
      },
      "source": [
        "##### **σ-algebra (Sigma Algebra)**"
      ]
    },
    {
      "cell_type": "markdown",
      "metadata": {
        "id": "9hyosJ2W8ZGT"
      },
      "source": [
        "Sei $\\Omega \\neq \\emptyset$ eine Menge, $\\mathfrak{P}(\\Omega)$ die Potenzmenge und $\\mathcal{F} \\subseteq \\mathfrak{P}(\\Omega)$ ein Mengensystem (=field of sets).\n",
        "\n",
        "Definition\n",
        "\n",
        "$\\mathcal{F}$ heißt Algebra, wenn folgende Eigenschaften gelten:\n",
        "\n",
        "(1) $\\quad \\emptyset \\in \\mathcal{F}$\n",
        "\n",
        "(2) $\\quad A \\in \\mathcal{F} \\Rightarrow A^{c} \\in \\mathcal{F}$\n",
        "\n",
        "(3) $\\quad A, B \\in \\mathcal{F} \\Rightarrow A \\cup B \\in \\mathcal{F}$\n",
        "\n",
        "$\\mathcal{F}$ heißt $\\sigma$ -Algebra, wenn die Punkte (1) und (2) gelten\n",
        "und zusätzlich\n",
        "\n",
        "(4) $\\quad A_{1}, A_{2}, \\ldots \\in \\mathcal{F} \\Rightarrow \\bigcup A_{k} \\in \\mathcal{F}$\n",
        "\n",
        "gilt.\n",
        "\n",
        "Algebren sind bezüglich der endlichen Vereinigung abgeschlossene Mengensysteme und $\\sigma$ -Algebren sind bezüglich der abzählbaren Vereinigung abgeschlossene\n",
        "Mengensysteme. Wegen (1) und (2) gilt stets $\\Omega \\in \\mathcal{F}$."
      ]
    },
    {
      "cell_type": "markdown",
      "metadata": {
        "id": "Q6DAlfaA8p3Z"
      },
      "source": [
        "https://mathepedia.de/Sigma-Algebren.html"
      ]
    },
    {
      "cell_type": "markdown",
      "metadata": {
        "id": "hbXQyLk2hrd6"
      },
      "source": [
        "If an algebra over a **set is closed under countable unions** (hence also under countable intersections), it is called a **sigma algebra** and **the corresponding field of sets (Mengensystem) is called a measurable space**. The complexes of a measurable space are called measurable sets."
      ]
    },
    {
      "cell_type": "markdown",
      "metadata": {
        "id": "PBHuPNh-iYrR"
      },
      "source": [
        "* **A measure space is a triple $\\langle X, \\mathcal{F}, \\mu\\rangle$ where $\\langle X, \\mathcal{F}\\rangle$ is a measurable space and $\\mu$ is a measure defined on it.** (Alternative: $\\langle$ Ω , $\\mathcal{F}$, $\\mu$ $\\rangle$)\n",
        "\n",
        "* If $\\mu$ is in fact a probability measure we speak of a probability space and call its underlying measurable space a sample space. \n",
        "\n",
        "* The points of a sample space are called samples and represent potential outcomes while the measurable sets (complexes) are called events and represent properties of outcomes for which we wish to assign probabilities. (Many use the term sample space simply for the underlying set of a probability space, particularly in the case where every subset is an event.) \n",
        "\n",
        "* Measure spaces and probability spaces play a foundational role in measure theory and probability theory respectively."
      ]
    },
    {
      "cell_type": "markdown",
      "metadata": {
        "id": "X1Lw-DP0jMwK"
      },
      "source": [
        "https://de.m.wikipedia.org/wiki/Algebra_(Mengensystem)"
      ]
    },
    {
      "cell_type": "markdown",
      "metadata": {
        "id": "-jNczSdWjYRG"
      },
      "source": [
        "https://de.m.wikipedia.org/wiki/Algebraische_Struktur"
      ]
    },
    {
      "cell_type": "markdown",
      "metadata": {
        "id": "rYkkBbjsRFFG"
      },
      "source": [
        "**Pain Point**\n",
        "\n",
        "* How to define a messbare Menge?\n",
        "\n",
        "* Wenn wir eine Menge aus den reellen Zahlen haben und mochten eine Teilbereich [a bis b] messen, dann brauchen wir einen allgemeinen Massbegriff unabhangig von der konkreten Menge. Hier kommt Masstheorie und Sigma-Algebra."
      ]
    },
    {
      "cell_type": "markdown",
      "metadata": {
        "id": "ylmaHPVWRK9l"
      },
      "source": [
        "**Definition**"
      ]
    },
    {
      "cell_type": "markdown",
      "metadata": {
        "id": "YfU7qMaHRHrJ"
      },
      "source": [
        "* A σ-algebra defines the **set of events that can be measured**, which in a probability context is equivalent to events that can be discriminated, or \"questions that can be answered at time t\".\n",
        "\n",
        "* Exkurs: Ergebnis vs Ereignis. Die möglichen Ausgänge eines Zufallsexperimentes nennt man **Ergebnisse** (zB auf einem Wüfel die Zahlen 1,2,3..). Wenn man alle möglichen Ergebnisse eines Zufallsexperimentes in einer Menge zusammenfasst, erhält man die **Ergebnismenge**. Sie wird üblicherweise mit dem Symbol Ω (sprich Omega) bezeichnet. Beim Würfeln ist Ω= {1; 2; 3; 4; 5; 6} die Ergebnismenge. Jede Zusammenfassung von einem oder mehreren Ergebnissen eines Zufallsexperimentes in einer Menge nennt man **Ereignis** (zB auf einem Würfel die Menge an geraden Zahlen {2,4,6} und ungeraden Zahlen {1,3,5}.\n",
        "\n",
        "* Eine Sigma-Algebra F ist ein System, um alle möglichen **Ereignisse** (nicht Ergebnisse!) eines Zufallsexperiment zu beschreiben. Ereignisse sind an sich selbst Mengen, die man wie jede Menge vereinigen oder schneiden bzw. auch das Komplement bilden kann um so das Gegenereignis zu erhalten. Fasst man hier alle möglichen Kombinationen an Ereignissen in einer Menge zusammen, bekommt man eine Menge, die wiederum Mengen als Elemente enthält - eine Menge von Mengen sozusagen. Oft sagt man dazu auch einfach Mengensystem. Welche Eigenschaften ein Mengensystem genau haben muss, damit es eine Sigma-Algebra ist steht weiter unten.\n",
        "\n",
        "* Beispiel: Glücksrad mit blau, rot und grün. Dann haben wir folglich drei Ergebnisse, die wir auch abkürzen können: Ω={B,R,G}. Generell kann man sich schon merken: Ω und ∅ sind immer Elemente einer Sigma-Algebra. Daher haben wir hier 8 mögliche Teilmengen von Ω, die wir als Ereignis betrachten können und demnach als Menge in der Sigma-Algebra zusammenfassen (Potenzmenge von Omega): F ={∅, {B}, {R}, {G}, {B,R}, {B,G}, {R,G}, {B,R,G}} ([Source](https://www.massmatics.de/merkzettel/#!876:Ereignisraum_&_Sigma-Algebra)).\n",
        "\n",
        "* Bei diskreten Ergebnismengen kann man für die Sigma-Algebra immer die Potenzmenge P(Ω)nehmen und hat demnach dann stets diesen **Ereignisraum: (Ω,P(Ω))**\n",
        "\n",
        "* Und für die reellen Zahlen gibt es die sogenannte **Borelsche Sigma-Algebra B**, die man dann auch in der Regel benutzt. Ist die Ergebnismenge Ω eine Teilmenge der reellen Zahlen (oder ℝ selbst), so nehmen wir die Borelsche-Sigma B und der Ereignisraum lautet (Ω,B).\n",
        "\n",
        "* Wenn wir eine Sigma Algebra A gegeben haben, dann heisst jede Teilmenge in diesem Mengensystem (jedes Element aus dieser Sigma Algebra A) eine messbare Teilmenge (=die Mengen die wir messen wollen).\n",
        "\n",
        "* **<u>Die Elemente der Sigma Algebra sind die messbaren Teilmengen von unserer Grundmenge X</u>** (Und messbar ist der wesentliche Begriff). Das ist zB die Menge an vergangenen Trading-Events am Finanzmarkt bis zum Zeitpunkt t.\n",
        "\n",
        "* Sigma Algebra ist ein **Mengensystem von einer Teilmenge einer gegebenen Grundmenge** = der Raum, **den wir beschreiben wollen** (mit drei Eigenschaften). Die Menge einer Sigma-Algebra nennt man „**messbare Teilmengen**“."
      ]
    },
    {
      "cell_type": "markdown",
      "metadata": {
        "id": "6auD5Yi3ROPL"
      },
      "source": [
        "**Eigenschaften**"
      ]
    },
    {
      "cell_type": "markdown",
      "metadata": {
        "id": "Dt5X24zGRPv2"
      },
      "source": [
        "**A $\\subseteq$ P(X) (=Potenzmenge) heisst Sigma Algebra, wenn gilt** (Die Mengen, die in dieser Sigma Algebra liegen, das sind jene, die folgende drei Eigenschaften erfüllen, und sind die, die wir messen wollen (=diesen Mengen wollen wir ein Mass zuordnen). Potenzmenge selbst soll eine Sigma Algebra sein. Sollten gewissen Eigenschaften der Potenzmenge fordern). **<u>A collection of subsets</u> A is called a σ-algebra on a set X if the following properties are met:**\n",
        "\n",
        "1. **A contains X (the set itself)**: $\\quad \\phi, X \\in A$ (Leere Menge (sollte Länge oder Volumen Null haben) und ganze Grundmenge selbst haben wir im Mengensystem / sollen messbar sein. Das ist was Sigma Algebra sagt). **Ω ∈ F (Ergebnismenge muss enthalten sein)**\n",
        "\n",
        "2. **If A contains a subset S, then A also contains the complement of S**: $A \\in A \\Rightarrow A^{c}:=X \\backslash A \\in A$ (Irgendein Element in der Algebra: dann sollte auch dessen Komplement im Mengensystem enthalten sein.) Hiermit ist auch Regel 1 eingeschlossen! Deswegen liegt auch die leere Menge (Gegenereignis von Ω) in F.\n",
        "\n",
        "3. **Consider a countable collection of subsets. If each subset is included in A, then A must also contain their reunion.**: $A_{i} \\in A$ fur i $\\in N \\Rightarrow \\bigcup_{i=1}^{\\infty} A_{i} \\in A$ ((Letzter Punkt macht das Sigma aus): Abzählbarkeit, abzählbare Summe (A i‘s aus unseren Mengensystem A): wir haben endlich viele bzw. abzählbar viele, dann können wir die Vereinigung bilden / abziehbare Vereinigung. Die abzählbare Vereinigung soll wieder in der Sigma Algebra liegen = Wenn wir Längen haben, dann sollten wir die auch addieren können, auch wenn sich die Addition bis unendlich streckt! (blick auf messbarkeit))"
      ]
    },
    {
      "cell_type": "markdown",
      "metadata": {
        "id": "4wNxurifRQLG"
      },
      "source": [
        "Having defined such a σ-algebra A, we call **the elements of σ-algebra A measurable sets** and the couple (X, A) a measurable space. An arbitrary set X can be a member of a multitude of σ-algebras. We denote the set of all σ-algebras that contain X with M(X). The **intersection of all those σ-algebras is called the σ-algebra generated by X**.\n",
        "\n",
        "**A σ-algebra (also σ-field) on a set X is a collection Σ of subsets of X that includes X itself, is closed under complement, and is closed under countable unions**. The definition implies that it also includes the empty subset and that it is closed under countable intersections. The pair (X, Σ) is called a measurable space or Borel space. A σ-algebra is a type of algebra of sets. An algebra of sets needs only to be closed under the union or intersection of finitely many subsets, which is a weaker condition."
      ]
    },
    {
      "cell_type": "markdown",
      "metadata": {
        "id": "dkTiCKMcRUGB"
      },
      "source": [
        "**Borel‘sche Sigma-Algebra**\n",
        "\n",
        "* T ist ein topologischer Raum (oder ein metrischer Raum im engeren Sinn.) und X eine Menge darin. „Offene Mengen“.\n",
        "\n",
        "* Die Borel’sche Sigma Algebra auf topologischen Raum X ist jene kleinste Sigma Algebra, die von den offenen Mengen erzeugt wird. \n",
        "\n",
        "* B(X) := (T)"
      ]
    },
    {
      "cell_type": "markdown",
      "metadata": {
        "id": "oVtVUBW1RWUN"
      },
      "source": [
        "**Measurable function**\n",
        "\n",
        "* **A set is measurable when it’s included in a σ-algebra.**\n",
        "\n",
        "* We can also extend the “measurable” attribute to functions. Here’s how:\n",
        "\n",
        "* Let’s consider (X, A) and (Y, B) two measurable spaces. A function f from A to B is called measurable if every set from B comes from applying f to a set from A. Formally, we say that for any element S of B, the pre-image of S under the function f is in A.\n"
      ]
    },
    {
      "cell_type": "markdown",
      "metadata": {
        "id": "-ppJ9Jx6SH74"
      },
      "source": [
        "**Application**"
      ]
    },
    {
      "cell_type": "markdown",
      "metadata": {
        "id": "LXrGhC2HSKTh"
      },
      "source": [
        "* The main use of σ-algebras is in the definition of measures; specifically, the collection of those subsets for which a given measure is defined is necessarily a σ-algebra. \n",
        "\n",
        "* This concept is important in mathematical analysis as the **foundation for Lebesgue integration**, and in probability theory, where it is **interpreted as the collection of events which can be assigned probabilities**. \n",
        "\n",
        "* Also, **in probability, σ-algebras are pivotal in the definition of conditional expectation**.\n",
        "\n",
        "* In statistics, (sub) σ-algebras are needed for the formal mathematical definition of a sufficient statistic, particularly when the statistic is a function or a random process and the notion of conditional density is not applicable."
      ]
    },
    {
      "cell_type": "markdown",
      "metadata": {
        "id": "759BrNmbSOQz"
      },
      "source": [
        "**Examples**"
      ]
    },
    {
      "cell_type": "markdown",
      "metadata": {
        "id": "ueaKd0bbSPj-"
      },
      "source": [
        "1. **Minimum**: Sigma Algebra A enthält leere Menge und Grundmenge selbst (kleinste Sigma Algebra die möglich ist): A = {𝜙,X}\n",
        "2. **Maximum**: Sigma Algebra enthält die Potenzmenge (beinhaltet alle Teilmengen von X): A = P(X)"
      ]
    },
    {
      "cell_type": "markdown",
      "metadata": {
        "id": "qrpgaCc5SSQx"
      },
      "source": [
        "* If {A1, A2, A3, …} is a countable partition of X then the **collection of all unions of sets in the partition** (including the empty set) is a σ-algebra.\n",
        "\n",
        "* A more useful example is the set of subsets of the real line formed by starting with all open intervals and adding in all countable unions, countable intersections, and relative complements and continuing this process (by transfinite iteration through all countable ordinals) until the relevant closure properties are achieved - the σ-algebra produced by this process is known as the Borel algebra on the real line, and can also be conceived as the smallest (i.e. \"coarsest\") σ-algebra containing all the open sets, or equivalently containing all the closed sets. It is foundational to measure theory, and therefore modern probability theory, and a related construction known as the Borel hierarchy is of relevance to descriptive set theory."
      ]
    },
    {
      "cell_type": "markdown",
      "metadata": {
        "id": "dJz4ybz4SVKh"
      },
      "source": [
        "https://medium.com/towards-artificial-intelligence/what-is-measure-theory-67c281f8a094"
      ]
    },
    {
      "cell_type": "markdown",
      "metadata": {
        "id": "6lpI5kfOLtNq"
      },
      "source": [
        "##### **Special Sets**"
      ]
    },
    {
      "cell_type": "markdown",
      "metadata": {
        "id": "B0pnswdgLu79"
      },
      "source": [
        "* One of these is the **empty set**, denoted { } or ∅.\n",
        "\n",
        "* A set with exactly one element, x, is a **unit set, or singleton**, {x}.\n",
        "\n",
        "* P or ℙ, denoting the set of all primes: P = {2, 3, 5, 7, 11, 13, 17, ...}.\n",
        "\n",
        "* N, denoting the set of all natural numbers: N = {0, 1, 2, 3, ...} (sometimes defined excluding 0).\n",
        "\n",
        "* Z, denoting the set of all integers (whether positive, negative or zero): Z = {..., −2, −1, 0, 1, 2, ...}.\n",
        "\n",
        "* .. until Quaternions!"
      ]
    },
    {
      "cell_type": "markdown",
      "metadata": {
        "id": "JpJcpo3FMagQ"
      },
      "source": [
        "**Cartesian Product**"
      ]
    },
    {
      "cell_type": "markdown",
      "metadata": {
        "id": "ZlwJIH7PMdTC"
      },
      "source": [
        "* A new set can be constructed by associating every element of one set with every element of another set. \n",
        "\n",
        "* The Cartesian product of two sets A and B, denoted by A × B is the set of all ordered pairs (a, b) such that a is a member of A and b is a member of B.\n",
        "\n",
        "* For example: {1, 2} × {1, 2} = {(1, 1), (1, 2), (2, 1), (2, 2)}.\n"
      ]
    },
    {
      "cell_type": "markdown",
      "metadata": {
        "id": "7lFbg9u72bz9"
      },
      "source": [
        "https://en.m.wikipedia.org/wiki/Set_(mathematics)"
      ]
    },
    {
      "cell_type": "markdown",
      "metadata": {
        "id": "_5YZoVb2eOaK"
      },
      "source": [
        "**Miscellaneous**"
      ]
    },
    {
      "cell_type": "markdown",
      "metadata": {
        "id": "AvvlxJOUeNxB"
      },
      "source": [
        "http://settheory.net/sets/time-in-set-theory"
      ]
    },
    {
      "cell_type": "markdown",
      "metadata": {
        "id": "_eC1wGo3_nDk"
      },
      "source": [
        "**Complete metric space (Cauchy Space)**"
      ]
    },
    {
      "cell_type": "markdown",
      "metadata": {
        "id": "OralSlIa_qwe"
      },
      "source": [
        "https://en.m.wikipedia.org/wiki/Complete_metric_space"
      ]
    },
    {
      "cell_type": "markdown",
      "metadata": {
        "id": "N5Q3MF-IBrBk"
      },
      "source": [
        "##### **Intervals**"
      ]
    },
    {
      "cell_type": "markdown",
      "metadata": {
        "id": "HetfnkP5J4fw"
      },
      "source": [
        "* **An interval is a set that consists of all real numbers between a given pair of numbers**. \n",
        "\n",
        "* (And: A set is a collection of objects. Each object in the set is called an element of the set.)\n",
        "\n",
        "* It can also be thought of as a segment of the real number line. An endpoint of an interval is either of the two points that mark the end of the line segment.\n",
        "\n",
        "* **Real intervals play an important role in the theory of [integration](https://en.m.wikipedia.org/wiki/Integral) because they are the simplest sets whose \"size\" or \"measure\" or \"length\" is easy to define**. The concept of measure can then be extended to more complicated sets of real numbers, leading to the Borel measure and eventually to the Lebesgue measure."
      ]
    },
    {
      "cell_type": "markdown",
      "metadata": {
        "id": "U3m-bY6UdJet"
      },
      "source": [
        "https://en.m.wikipedia.org/wiki/Interval_(mathematics)#Terminology"
      ]
    },
    {
      "cell_type": "markdown",
      "metadata": {
        "id": "F8WsVOHgKSQv"
      },
      "source": [
        "https://calculus.nipissingu.ca/tutorials/sets.html"
      ]
    },
    {
      "cell_type": "markdown",
      "metadata": {
        "id": "Tg38GpUXChNN"
      },
      "source": [
        "Ein Intervall kann (beidseitig) beschränkt oder – auch einseitig – unbeschränkt sein. Es ist durch seine untere und seine obere Intervallgrenze eindeutig bestimmt, wenn zusätzlich angegeben wird, ob diese Grenzen im Intervall enthalten sind.\n",
        "\n",
        "Es gibt zwei verschiedene häufig verwendete Intervallschreibweisen:\n",
        "\n",
        "* **Bei der häufigeren der beiden verwendet man für Grenzen, die zum Intervall gehören, eckige Klammern und runde für Grenzen, die nicht zum Intervall gehören. Die eckigen Klammern entsprechen einem schwachen Ungleichheitszeichen ≤. Die runden Klammern () entsprechen einem starken Ungleichheitszeichen <.**\n",
        "\n",
        "* Bei der anderen Schreibweise werden statt der runden Klammern nach außen gewendete (gespiegelte) eckige verwendet. Im Folgenden werden beide Schreibweisen gezeigt und der Mengenschreibweise gegenübergestellt:"
      ]
    },
    {
      "cell_type": "markdown",
      "metadata": {
        "id": "2yFR-a14Btbs"
      },
      "source": [
        "https://de.m.wikipedia.org/wiki/Intervall_(Mathematik)"
      ]
    },
    {
      "cell_type": "markdown",
      "metadata": {
        "id": "_2-R7L7ToMWN"
      },
      "source": [
        "**Unit Intervall**"
      ]
    },
    {
      "cell_type": "markdown",
      "metadata": {
        "id": "jlTM7Cb6oTjP"
      },
      "source": [
        "The unit interval is the closed interval [0,1], that is, the set of all real numbers that are greater than or equal to 0 and less than or equal to 1. It is often denoted I (capital letter I). In addition to its role in real analysis, the unit interval is used to study [homotopy theory](https://en.m.wikipedia.org/wiki/Homotopy_theory) in the field of topology."
      ]
    },
    {
      "cell_type": "markdown",
      "metadata": {
        "id": "O0ZlwIDpoPTl"
      },
      "source": [
        "https://en.m.wikipedia.org/wiki/Unit_interval"
      ]
    },
    {
      "cell_type": "markdown",
      "metadata": {
        "id": "Hakve64ge6r7"
      },
      "source": [
        "##### **Exkurs: Cardinality (Mächtigkeit)**"
      ]
    },
    {
      "cell_type": "markdown",
      "metadata": {
        "id": "yAxgYlbte-Cw"
      },
      "source": [
        "* Die Mächtigkeit einer  Menge  M mit endlich vielen Elementen ist die Anzahl ihrer Elemente. Man schreibt für die Mächtigkeit einer Menge M entweder ∣M∣ oder #M.\n",
        "\n",
        "* Die Mächtigkeit der Potenzmenge einer Menge A, ist: 𝒫(A)=2<sup>∣A∣</sup>. Ein Beispiel für eine Potenzmenge ist der Ereignisraum."
      ]
    },
    {
      "cell_type": "markdown",
      "metadata": {
        "id": "aiwmFdY0vEln"
      },
      "source": [
        "https://en.m.wikipedia.org/wiki/Cardinality"
      ]
    },
    {
      "cell_type": "markdown",
      "metadata": {
        "id": "Wc07l69FcrFL"
      },
      "source": [
        "**Representing subsets as functions**"
      ]
    },
    {
      "cell_type": "markdown",
      "metadata": {
        "id": "B3AhcVapcgvw"
      },
      "source": [
        "* In set theory, X<sup>Y</sup> is the set of all functions from Y to X. As \"2\" can be defined as {0,1} (see natural number), 2S (i.e., {0,1}S) is the set of all functions from S to {0,1}.\n",
        "\n",
        "* By identifying a function in 2S with the corresponding preimage of 1, we see that there is a bijection between 2S and P(S), where each function is the characteristic function of the subset in P(S) with which it is identified.\n",
        "\n",
        "* Hence 2S and P(S) could be considered identical set-theoretically. (Thus there are two distinct notational motivations for denoting the power set by 2S: the fact that this function-representation of subsets makes it a special case of the XY notation and the property, mentioned above, that |2S| = 2|S|.)"
      ]
    },
    {
      "cell_type": "markdown",
      "metadata": {
        "id": "YKW5uEo1K-yG"
      },
      "source": [
        "https://en.m.wikipedia.org/wiki/Surjective_function"
      ]
    },
    {
      "cell_type": "markdown",
      "metadata": {
        "id": "_64OqlKfZXqZ"
      },
      "source": [
        "##### **Exkurs: Mengen vs Folgen vs Reihen**"
      ]
    },
    {
      "cell_type": "markdown",
      "metadata": {
        "id": "TSY3yWUkZo42"
      },
      "source": [
        "**Folgen (Sequence)**"
      ]
    },
    {
      "cell_type": "markdown",
      "metadata": {
        "id": "Pwj4PP5AZsQ0"
      },
      "source": [
        "Bei folgen haben die Elemente eine Reihenfolge. Die Elemente werden im Grunde durchnummeriert.\n",
        "\n",
        "Im Gegensatz dazu haben die Elemente in einer Menge keine Reihenfolge und es ist auch egal wie oft ein Element auftritt.\n",
        "\n",
        "Beispielsweise sind die Mengen\n",
        "\n",
        "{0, 1, 2, 3, 4, 5, ...},\n",
        "\n",
        "{1, 0, 2, 3, 4, 5, ...},\n",
        "\n",
        "{0, 0, 1, 2, 3, 4, 5, ...}\n",
        "\n",
        "paarweise gleich.\n",
        "\n",
        "Die Folgen\n",
        "\n",
        "(0, 1, 2, 3, 4, 5, ...),\n",
        "\n",
        "(1, 0, 2, 3, 4, 5, ...),\n",
        "\n",
        "(0, 0, 1, 2, 3, 4, 5, ...)\n",
        "\n",
        "sind hingegegen paarweise verschieden.\n",
        "\n",
        "Formal sind (unendliche) Folgen als Abbildungen von den natürlichen Zahlen in irgendeine Menge definiert. Der Graph dieser Abbildung ist dann eine Menge mit der man die Folge beschreiben kann. So könnte man beispielsweise eine Folge\n",
        "\n",
        "(1, 23, 45, 67, ...)\n",
        "\n",
        "in den ganzen Zahlen durch die Menge\n",
        "\n",
        "{(1, 1), (2, 23), (3, 45), (4, 67), ...}\n",
        "\n",
        "beschreiben. Die Menge {(1, 1), (2, 23), (3, 45), (4, 67), ...} beschreibt dann zwar in gewissem Sinne die Folge, ist aber genau genommen nicht gleich der Folge, sondern gleich dem Graphen der Folge.\n",
        "\n"
      ]
    },
    {
      "cell_type": "markdown",
      "metadata": {
        "id": "wIrXXDjaamLN"
      },
      "source": [
        "Aus Folgen können die Folgenräume gebildet werden"
      ]
    },
    {
      "cell_type": "markdown",
      "metadata": {
        "id": "PGND01EhZ25h"
      },
      "source": [
        "https://de.m.wikipedia.org/wiki/Folge_(Mathematik)"
      ]
    },
    {
      "cell_type": "markdown",
      "metadata": {
        "id": "bT0Lvp97apXJ"
      },
      "source": [
        "https://de.m.wikipedia.org/wiki/Folgenraum"
      ]
    },
    {
      "cell_type": "markdown",
      "metadata": {
        "id": "jrUUvLPjZkeD"
      },
      "source": [
        "**Reihen (Series)**"
      ]
    },
    {
      "cell_type": "markdown",
      "metadata": {
        "id": "kWzfC8neZno8"
      },
      "source": [
        "Reihen sind im Grunde spezielle Folgen, bei denen die Folgenglieder gleich Partialsummen der Glieder einer anderen Folge sind.\n",
        "Reihen betrachtet man deshalb, weil man gerne Summen mit (abzählbar) unendlich vielen Summanden beschreiben möchte."
      ]
    },
    {
      "cell_type": "markdown",
      "metadata": {
        "id": "OzU0RA5qZ92x"
      },
      "source": [
        "https://de.m.wikipedia.org/wiki/Reihe_(Mathematik)"
      ]
    },
    {
      "cell_type": "markdown",
      "metadata": {
        "id": "WYqXPG4GK4NL"
      },
      "source": [
        "#### **Notation**"
      ]
    },
    {
      "cell_type": "markdown",
      "metadata": {
        "id": "eMpkKVVJLovf"
      },
      "source": [
        "**Interval Notation**"
      ]
    },
    {
      "cell_type": "markdown",
      "metadata": {
        "id": "1maUQc7GEyfH"
      },
      "source": [
        "Linksseitig unendliches abgeschlossenes Intervall\n",
        "\n",
        ">$(-\\infty, b]=]-\\infty, b]:=\\{x \\in \\mathbb{R} \\mid x \\leq b\\}$\n",
        "\n",
        "Es enthält alle Zahlen, die kleiner oder gleich $b$ sind.\n",
        "\n",
        "\n",
        "Linksseitig unendliches offenes Intervall\n",
        "\n",
        ">$(-\\infty, b)=]-\\infty, b[:=\\{x \\in \\mathbb{R} \\mid x<b\\}$\n",
        "\n",
        "Es enthält alle Zahlen, die kleiner als $b$ sind.\n",
        "\n",
        "\n",
        "Rechtsseitig unendliches abgeschlossenes Intervall\n",
        "\n",
        ">$[a, \\infty)=[a, \\infty[:=\\{x \\in \\mathbb{R} \\mid a \\leq x\\}$\n",
        "\n",
        "Es enthält alle Zahlen, die größer oder gleich $a$ sind.\n",
        "\n",
        "\n",
        "Rechtsseitig unendliches offenes Intervall\n",
        "\n",
        ">$(a, \\infty)=] a, \\infty[:=\\{x \\in \\mathbb{R} \\mid a<x\\}$\n",
        "\n",
        "Es enthält alle Zahlen, die größer als $a$ sind.\n",
        "\n",
        "Beidseitig unendliches offenes (und zugleich abgeschlossenes) Intervall $(-\\infty, \\infty)=]-\\infty, \\infty[:=\\mathbb{R}$"
      ]
    },
    {
      "cell_type": "markdown",
      "metadata": {
        "id": "nEWOiZVNE3-6"
      },
      "source": [
        "https://de.m.wikipedia.org/wiki/Intervall_(Mathematik)"
      ]
    },
    {
      "cell_type": "markdown",
      "metadata": {
        "id": "kfZFMi-aLj5L"
      },
      "source": [
        "**Set-Builder Notation**"
      ]
    },
    {
      "cell_type": "markdown",
      "metadata": {
        "id": "GqqSZF6_1vLl"
      },
      "source": [
        "In set-builder notation, the set is specified as a subset of a larger set, where the subset is determined by a statement or condition involving the elements. For example, a set F can be specified as follows:\n",
        "\n",
        "> $F=\\{n \\mid n \\text { is an integer, and } 0 \\leq n \\leq 19\\}$\n",
        "\n",
        "* In this notation, the vertical bar (\"|\") means \"such that\", and the description can be interpreted as \n",
        "* **\"F is the set of all numbers n, such that n is an integer in the range from 0 to 19 inclusive\"**\n",
        "* Sometimes the colon (\":\") is used instead of the vertical bar."
      ]
    },
    {
      "cell_type": "markdown",
      "metadata": {
        "id": "_p3n4Hv7OhP0"
      },
      "source": [
        "https://en.m.wikipedia.org/wiki/Set-builder_notation"
      ]
    },
    {
      "cell_type": "markdown",
      "metadata": {
        "id": "35Q6nQcsLuPW"
      },
      "source": [
        "**Interval & Set-Builder Notation**"
      ]
    },
    {
      "cell_type": "markdown",
      "metadata": {
        "id": "soJoIll8LJRY"
      },
      "source": [
        "![alternativer Text](https://raw.githubusercontent.com/deltorobarba/machinelearning/master/set_notation.GIF)"
      ]
    },
    {
      "cell_type": "markdown",
      "metadata": {
        "id": "xb6RBJTvLT_r"
      },
      "source": [
        "https://calculus.nipissingu.ca/tutorials/sets.html"
      ]
    },
    {
      "cell_type": "markdown",
      "metadata": {
        "id": "sef3vFPZCbBH"
      },
      "source": [
        "#### **Notions**"
      ]
    },
    {
      "cell_type": "markdown",
      "metadata": {
        "id": "Q1xgu3v2zzcT"
      },
      "source": [
        "##### **Point-Set Topology**"
      ]
    },
    {
      "cell_type": "markdown",
      "metadata": {
        "id": "3f92e2-6-Jar"
      },
      "source": [
        "General topology is the branch of topology that deals with the basic set-theoretic definitions and constructions used in topology. It is the foundation of most other branches of topology, including differential topology, geometric topology, and algebraic topology. Another name for general topology is **point-set topology**."
      ]
    },
    {
      "cell_type": "markdown",
      "metadata": {
        "id": "Vy5f4vGA-Llx"
      },
      "source": [
        "The fundamental concepts in point-set topology are continuity, compactness, and connectedness:\n",
        "\n",
        "* **Continuous functions**, intuitively, take nearby points to nearby points.\n",
        "\n",
        "* **Compact sets** are those that can be covered by finitely many sets of arbitrarily small size.\n",
        "\n",
        "* **Connected sets** are sets that cannot be divided into two pieces that are far apart."
      ]
    },
    {
      "cell_type": "markdown",
      "metadata": {
        "id": "f-8bUzrQ_-Kw"
      },
      "source": [
        "**Once a choice of open sets is made, the properties of continuity, connectedness, and compactness, which use notions of nearness, can be defined using these open sets.**"
      ]
    },
    {
      "cell_type": "markdown",
      "metadata": {
        "id": "MN_C88QdNgEA"
      },
      "source": [
        "* **Point-Set Topology**: The low-level language of topology, which is not really considered a separate \"branch\" of topology. \n",
        "\n",
        "* Point-set topology, also called set-theoretic topology or general topology, is the study of the general abstract nature of continuity or \"closeness\" on spaces. \n",
        "\n",
        "* Basic point-set topological notions are ones like **continuity, dimension, compactness, and connectedness**. The intermediate value theorem (which states that if a path in the real line connects two numbers, then it passes over every point between the two) is a basic topological result. Others are that Euclidean n-space is homeomorphic to Euclidean m-space iff m=n, and that real valued functions achieve maxima and minima on compact sets.\n",
        "\n",
        "* Foundational point-set topological questions are ones like \"when can a topology on a space be derived from a metric?\" Point-set topology deals with differing notions of continuity and compares them, as well as dealing with their properties. \n",
        "\n",
        "* Point-set topology is also the ground-level of inquiry into the geometrical properties of spaces and continuous functions between them, and in that sense, it is the foundation on which the remainder of topology (algebraic, differential, and low-dimensional) stands."
      ]
    },
    {
      "cell_type": "markdown",
      "metadata": {
        "id": "w0flO2bUN65p"
      },
      "source": [
        "https://mathworld.wolfram.com/Point-SetTopology.html"
      ]
    },
    {
      "cell_type": "markdown",
      "metadata": {
        "id": "9zeKm32B9J-r"
      },
      "source": [
        "##### **Continuity**"
      ]
    },
    {
      "cell_type": "markdown",
      "metadata": {
        "id": "Etw-ro6fjQvA"
      },
      "source": [
        "A continuous function is a function that does not have any abrupt changes in value, known as discontinuities. More precisely, sufficiently small changes in the input of a continuous function result in arbitrarily small changes in its output."
      ]
    },
    {
      "cell_type": "markdown",
      "metadata": {
        "id": "KBOrGjnQ9P-J"
      },
      "source": [
        "https://en.m.wikipedia.org/wiki/Continuous_function"
      ]
    },
    {
      "cell_type": "markdown",
      "metadata": {
        "id": "jnf6EJrp8kCL"
      },
      "source": [
        "##### **Connectedness**"
      ]
    },
    {
      "cell_type": "markdown",
      "metadata": {
        "id": "pwl_xdMOMlQb"
      },
      "source": [
        "* In topology and related branches of mathematics, **a connected space is a topological space that cannot be represented as the union of two or more disjoint non-empty open subsets**. \n",
        "\n",
        "* Connectedness is one of the principal topological properties that are used to distinguish topological spaces.\n",
        "\n",
        "* **A subset of a topological space X is a connected set if it is a connected space when viewed as a subspace of X.**\n",
        "\n",
        "* A topological space X is said to be disconnected if it is the union of two disjoint non-empty open sets. Otherwise, X is said to be connected. \n",
        "\n",
        "* A subset of a topological space is said to be connected if it is connected under its subspace topology. Some authors exclude the empty set (with its unique topology) as a connected space, but this article does not follow that practice."
      ]
    },
    {
      "cell_type": "markdown",
      "metadata": {
        "id": "sIADllodyMbf"
      },
      "source": [
        "**Connected and disconnected subspaces of R²**"
      ]
    },
    {
      "cell_type": "markdown",
      "metadata": {
        "id": "MkJfHSbtx5wY"
      },
      "source": [
        "![xx](https://upload.wikimedia.org/wikipedia/commons/thumb/1/16/Simply_connected%2C_connected%2C_and_non-connected_spaces.svg/192px-Simply_connected%2C_connected%2C_and_non-connected_spaces.svg.png)"
      ]
    },
    {
      "cell_type": "markdown",
      "metadata": {
        "id": "roboDYeix90I"
      },
      "source": [
        "* **Connected**: red space A, pink space B, yellow space C and orange space D\n",
        "* **Disconnected**: green space E (made of subsets E1, E2, E3, and E4) \n",
        "* **Simply connected**: A and B (genus 0), \n",
        "* **Not simply connected**: C and D: C has genus 1 and D has genus 4.\n",
        "\n",
        "Genus (Geschlecht): Anzahl der Löcher in einer Fläche (https://de.m.wikipedia.org/wiki/Geschlecht_(Fläche))"
      ]
    },
    {
      "cell_type": "markdown",
      "metadata": {
        "id": "XeEEjEU58mZk"
      },
      "source": [
        "https://en.m.wikipedia.org/wiki/Connected_space"
      ]
    },
    {
      "cell_type": "markdown",
      "metadata": {
        "id": "KVfJxtw_faJK"
      },
      "source": [
        "##### **Compactness (Closed & Bounded)**"
      ]
    },
    {
      "cell_type": "markdown",
      "metadata": {
        "id": "bkZcyD7ispT2"
      },
      "source": [
        "###### **Open & Closed Sets**"
      ]
    },
    {
      "cell_type": "markdown",
      "metadata": {
        "id": "r7nlcTMs9m3u"
      },
      "source": [
        "* In mathematics, particularly in topology, an open set is an abstract concept generalizing the idea of an open interval in the real line.\n",
        "\n",
        "* An open interval does not include its endpoints, and is indicated with parentheses. For example, (0,1) means greater than 0 and less than 1. This means (0,1) = {x | 0 < x < 1}. (*\"(0,1) is the set of all numbers x, such that x is an integer in the range greater than 0 to 1 exclusive\"*)\n",
        "\n",
        "* A closed interval is an interval which includes all its limit points, and is denoted with square brackets. For example, [0,1] means greater than or equal to 0 and less than or equal to 1. A half-open interval includes only one of its endpoints, and is denoted by mixing the notations for open and closed intervals. (0,1] means greater than 0 and less than or equal to 1, while [0,1) means greater than or equal to 0 and less than 1.\n",
        "\n",
        "* Once a choice of open sets is made, the properties of continuity, connectedness, and compactness, which use notions of nearness, can be defined using these open sets."
      ]
    },
    {
      "cell_type": "markdown",
      "metadata": {
        "id": "veKZRhxK9ixo"
      },
      "source": [
        "https://en.m.wikipedia.org/wiki/Open_set"
      ]
    },
    {
      "cell_type": "markdown",
      "metadata": {
        "id": "Z1P-S-WicOoa"
      },
      "source": [
        "https://en.m.wikipedia.org/wiki/Interval_(mathematics)#Terminology"
      ]
    },
    {
      "cell_type": "markdown",
      "metadata": {
        "id": "0MY8GfGbFHno"
      },
      "source": [
        "**Abgeschlossene Menge / Intervall**"
      ]
    },
    {
      "cell_type": "markdown",
      "metadata": {
        "id": "Aah6Ybt3BFAo"
      },
      "source": [
        "* **A closed set is a set whose complement is an open set.**\n",
        "\n",
        "* In a topological space, a closed set can be defined as a set which contains all its limit points. In a complete metric space, a closed set is a set which is closed under the limit operation.\n",
        "\n",
        "* In a topological space, a set is closed if and only if it coincides with its closure. Equivalently, **a set is closed if and only if it contains all of its limit points**. Yet another equivalent definition is that a set is closed if and only **if it contains all of its boundary points**."
      ]
    },
    {
      "cell_type": "markdown",
      "metadata": {
        "id": "yCZfDmljAwZH"
      },
      "source": [
        "https://en.m.wikipedia.org/wiki/Closed_set"
      ]
    },
    {
      "cell_type": "markdown",
      "metadata": {
        "id": "RV0s9Fa7FNdj"
      },
      "source": [
        "Ein einfaches Beispiel ist das Intervall [0,1] in den reellen Zahlen (mit der Standardtopologie, erzeugt durch die Metrik $d_{x y}=|x-y|$. \n",
        "\n",
        "* Das Komplement von [0,1] ist die Vereinigung $(-\\infty, 0) \\cup(1, \\infty)$ zweier offener Intervalle, also eine offene Menge, also ist [0,1] eine abgeschlossene Menge. \n",
        "\n",
        "* Deshalb nennt man das Intervall [0,1] ein abgeschlossenes Intervall. \n",
        "\n",
        "* **Dagegen ist das Intervall (0,1] nicht abgeschlossen, denn das Komplement $(-\\infty, 0] \\cup(1, \\infty)$ ist\n",
        "nicht offen.**"
      ]
    },
    {
      "cell_type": "markdown",
      "metadata": {
        "id": "uqLz8vEXFUMM"
      },
      "source": [
        "https://de.m.wikipedia.org/wiki/Abgeschlossene_Menge"
      ]
    },
    {
      "cell_type": "markdown",
      "metadata": {
        "id": "y29Lv8RzDsKQ"
      },
      "source": [
        "**Abgeschlossenes Intervall**\n",
        "\n",
        ">$[a, b]:=\\{x \\in \\mathbb{R} \\mid a \\leq x \\leq b\\}$\n",
        "\n",
        "Das Intervall enthält sowohl $a$ als auch $b$.\n",
        "\n",
        "**Ein Intervall ist genau dann kompakt, wenn es abgeschlossen und beschränkt ist.**\n",
        "\n",
        "<br>\n",
        "\n",
        "**Offenes Intervall**\n",
        "\n",
        ">$(a, b)=] a, b[:=\\{x \\in \\mathbb{R} \\mid a<x<b\\}$\n",
        "\n",
        "Das Intervall enthält weder $a$ noch $b$. Die Notation $(a, b)$ ist die traditionell verwendete, während ] $a, b\\left[\\text { auf Bourbaki zurückgeht. }^{[3]}\\right.$\n",
        "Halboffenes (genauer rechtsoffenes) Intervall\n",
        "\n",
        ">$[a, b)=[a, b[:=\\{x \\in \\mathbb{R} \\mid a \\leq x<b\\}$\n",
        "\n",
        "Das Intervall enthält $a$, aber nicht $b$.\n",
        "Halboffenes (genauer linksoffenes) Intervall\n",
        "\n",
        "> $(a, b]=\\mid a, b]:=\\{x \\in \\mathbb{R} \\mid a<x \\leq b\\}$\n",
        "\n",
        "Das Intervall enthält nicht $a,$ wohl aber $b$\n",
        "Im Fall von $a=0$ und $b=1$ heißt $(a, b)$ das offene Einheitsintervall und $[a, b]$ das abgeschlossene Einheitsintervall."
      ]
    },
    {
      "cell_type": "markdown",
      "metadata": {
        "id": "IRb13Big9a34"
      },
      "source": [
        "###### **Bounded & Unbounded Set**"
      ]
    },
    {
      "cell_type": "markdown",
      "metadata": {
        "id": "2GSt0Y7hCytg"
      },
      "source": [
        "* **Bounded Set = Beschränkte Menge**\n",
        "\n",
        "Sei a < b. \n",
        "* Ein beschränktes Intervall mit der unteren Grenze a und der oberen Grenze b ist abgeschlossen, wenn es beide Grenzen enthält, und offen, wenn beide Grenzen nicht enthalten sind. \n",
        "* Ein beschränktes Intervall heißt halboffen, wenn es genau eine der beiden Intervallgrenzen enthält."
      ]
    },
    {
      "cell_type": "markdown",
      "metadata": {
        "id": "7TFsQujX_SVR"
      },
      "source": [
        "* A set is called bounded if it is, in a certain sense, of finite size. Conversely, a set which is not bounded is called unbounded. \n",
        "\n",
        "* The word 'bounded' makes no sense in a general topological space without a corresponding metric."
      ]
    },
    {
      "cell_type": "markdown",
      "metadata": {
        "id": "PB-Yp0cW_KEa"
      },
      "source": [
        "https://en.m.wikipedia.org/wiki/Bounded_set"
      ]
    },
    {
      "cell_type": "markdown",
      "metadata": {
        "id": "Au_7lJVfD9TW"
      },
      "source": [
        "**Unbeschränktes Intervall**"
      ]
    },
    {
      "cell_type": "markdown",
      "metadata": {
        "id": "PhkazI_KEAOB"
      },
      "source": [
        "* Wenn auf einer Seite die Intervallgrenze fehlt, es dort also keine Schranke geben soll, spricht man von einem (auf dieser Seite) unbeschränkten Intervall. \n",
        "\n",
        "* Meist werden hierfür die bekannten Symbole −∞ und ∞ als „Ersatz“-Intervallgrenzen verwendet, die selbst nie zum Intervall gehören (deshalb die Schreibung mit runder Klammer). In mancher Literatur werden beschränkte Intervalle auch als eigentlich, unbeschränkte als uneigentlich bezeichnet."
      ]
    },
    {
      "cell_type": "markdown",
      "metadata": {
        "id": "Dj_I9xztugys"
      },
      "source": [
        "**Infimum und Supremum**"
      ]
    },
    {
      "cell_type": "markdown",
      "metadata": {
        "id": "0Axl62MJubON"
      },
      "source": [
        "Die Begriffe obere und untere Schranke werden im Artikel Supremum ausführlich beschrieben."
      ]
    },
    {
      "cell_type": "markdown",
      "metadata": {
        "id": "otWtwaTGufLC"
      },
      "source": [
        "https://de.m.wikipedia.org/wiki/Infimum_und_Supremum"
      ]
    },
    {
      "cell_type": "markdown",
      "metadata": {
        "id": "QNeiHqg7xI1l"
      },
      "source": [
        "###### **Compactness**"
      ]
    },
    {
      "cell_type": "markdown",
      "metadata": {
        "id": "R7FCyYP7ARwP"
      },
      "source": [
        "![alternativer Text](https://upload.wikimedia.org/wikipedia/commons/thumb/7/7c/Compact.svg/512px-Compact.svg.png)"
      ]
    },
    {
      "cell_type": "markdown",
      "metadata": {
        "id": "WuKJS_xH8UhE"
      },
      "source": [
        "Per the compactness criteria for Euclidean space (endlich dimensional!) as stated in the Heine-Borel Theorem:\n",
        "\n",
        "* the interval A = (−∞, −2] is not compact because it is not bounded (but it's closed right side). \n",
        "\n",
        "* The interval C = (2, 4) is not compact because it is not closed (but it's bounded). \n",
        "\n",
        "* The interval B = [0, 1] is compact because it is both closed and bounded."
      ]
    },
    {
      "cell_type": "markdown",
      "metadata": {
        "id": "JC4--mmzfgd7"
      },
      "source": [
        "Compactness is a property that generalizes the notion of a subset of Euclidean space **being closed** (i.e., containing all its limit points) and **bounded** (i.e., having all its points lie within some fixed distance of each other).\n",
        "\n",
        "* Examples include a closed interval, a rectangle, or a finite set of points. This notion is defined for more general topological spaces than Euclidean space in various ways.\n",
        "\n",
        "* importance of including the boundary points of the interval, since the limit points must be in the space itself — an open (or half-open) interval of the real numbers is not compact. \n",
        "\n",
        "* It is also crucial that the interval be bounded, since in the interval [0,∞), one could choose the sequence of points 0, 1, 2, 3, ..., of which no sub-sequence ultimately gets arbitrarily close to any given real number."
      ]
    },
    {
      "cell_type": "markdown",
      "metadata": {
        "id": "QiFHTX3Riln9"
      },
      "source": [
        "Nur in endlich dimensionale Räume?"
      ]
    },
    {
      "cell_type": "markdown",
      "metadata": {
        "id": "HBeD_rrUfvQR"
      },
      "source": [
        "https://en.m.wikipedia.org/wiki/Compact_space"
      ]
    },
    {
      "cell_type": "markdown",
      "metadata": {
        "id": "ak2HBZOH8xiT"
      },
      "source": [
        "##### **Convergence**"
      ]
    },
    {
      "cell_type": "markdown",
      "metadata": {
        "id": "pnloY_L3u7dt"
      },
      "source": [
        "![xxx](https://upload.wikimedia.org/wikipedia/commons/thumb/c/c9/Archimedes_pi.svg/320px-Archimedes_pi.svg.png)"
      ]
    },
    {
      "cell_type": "markdown",
      "metadata": {
        "id": "U71W4bwfvBT_"
      },
      "source": [
        "The sequence given by the perimeters of regular n-sided polygons that circumscribe the unit circle has a limit equal to the perimeter of the circle, i.e. \n",
        "2\n",
        "π\n",
        "r. The corresponding sequence for inscribed polygons has the same limit."
      ]
    },
    {
      "cell_type": "markdown",
      "metadata": {
        "id": "uf9QAjQxvSMZ"
      },
      "source": [
        "* In mathematics, the limit of a sequence is the value that the terms of a sequence \"tend to\", and is often denoted using the lim symbol (e.g., $\\left.\\lim _{n \\rightarrow \\infty} a_{n}\\right)$. \n",
        "\n",
        "* If such a limit exists, the sequence is called convergent. A sequence that does not converge is said to be divergent. The limit of a sequence is said to be the fundamental notion on which the whole of [mathematical analysis](https://en.m.wikipedia.org/wiki/Mathematical_analysis) ultimately rests.\n",
        "\n",
        "* Limits can be defined in any metric or topological space, but are usually first encountered in the real numbers."
      ]
    },
    {
      "cell_type": "markdown",
      "metadata": {
        "id": "xwV5ocLV85FJ"
      },
      "source": [
        "https://en.m.wikipedia.org/wiki/Limit_of_a_sequence"
      ]
    },
    {
      "cell_type": "markdown",
      "metadata": {
        "id": "U64am8GwoTEL"
      },
      "source": [
        "#### **Axioms**"
      ]
    },
    {
      "cell_type": "markdown",
      "metadata": {
        "id": "RSNaS13p3Alf"
      },
      "source": [
        "**Naive Set Theory**"
      ]
    },
    {
      "cell_type": "markdown",
      "metadata": {
        "id": "c_GdULpv2jqK"
      },
      "source": [
        "* Elementary set theory can be studied informally and intuitively, and so can be taught in primary schools using Venn diagrams. The intuitive approach tacitly assumes that a set may be formed from the class of all objects satisfying any particular defining condition. \n",
        "\n",
        "This assumption gives rise to paradoxes. Axiomatic set theory was originally devised to rid set theory of such paradoxes.\n",
        "\n",
        "* [Russell's paradox](https://en.m.wikipedia.org/wiki/Russell%27s_paradox): It shows that the \"set of all sets that do not contain themselves,\" i.e. the \"set\" {x|x is a set and x ∉ x} does not exist. \n",
        "\n",
        "* [Burali-Forti paradox](https://en.m.wikipedia.org/wiki/Burali-Forti_paradox): \n",
        "\n",
        "* [Cantor's paradox](https://en.m.wikipedia.org/wiki/Cantor%27s_paradox): It shows that \"the set of all sets\" cannot exist.\n",
        "\n",
        "* [Curry's paradox](https://en.m.wikipedia.org/wiki/Curry%27s_paradox): "
      ]
    },
    {
      "cell_type": "markdown",
      "metadata": {
        "id": "9ECufw9W3DQL"
      },
      "source": [
        "https://en.m.wikipedia.org/wiki/Naive_set_theory"
      ]
    },
    {
      "cell_type": "markdown",
      "metadata": {
        "id": "xQqdJc5OoZVz"
      },
      "source": [
        "https://en.m.wikipedia.org/wiki/Set_theory#Axiomatic_set_theory"
      ]
    },
    {
      "cell_type": "markdown",
      "metadata": {
        "id": "qvU7p3UQ5RtA"
      },
      "source": [
        "https://de.m.wikipedia.org/wiki/Axiomatische_Mengenlehre"
      ]
    },
    {
      "cell_type": "markdown",
      "metadata": {
        "id": "GkPVxew-okLs"
      },
      "source": [
        "**Zermelo–Fraenkel set theory**"
      ]
    },
    {
      "cell_type": "markdown",
      "metadata": {
        "id": "SvZZFIPb5wqn"
      },
      "source": [
        "* Zermelo formulierte seine sieben Axiome für einen Bereich von Dingen, der die Mengen als Teilbereich enthält.\n",
        "\n",
        "* Er definierte nämlich Mengen als elementhaltige Dinge oder die Nullmenge (leere Menge). Das Axiomensystem erlaubt aber als Elemente auch andere elementlose Dinge, die er später Urelemente nannte. "
      ]
    },
    {
      "cell_type": "markdown",
      "metadata": {
        "id": "cNFor59Vom7F"
      },
      "source": [
        "https://en.m.wikipedia.org/wiki/Zermelo–Fraenkel_set_theory"
      ]
    },
    {
      "cell_type": "markdown",
      "metadata": {
        "id": "NAIsGxLOorqp"
      },
      "source": [
        "**Axiom of choice (ZFC)**"
      ]
    },
    {
      "cell_type": "markdown",
      "metadata": {
        "id": "-csyctunowCP"
      },
      "source": [
        "https://en.m.wikipedia.org/wiki/Axiom_of_choice"
      ]
    },
    {
      "cell_type": "markdown",
      "metadata": {
        "id": "b3Xt5ozSo0f8"
      },
      "source": [
        "**Von Neumann–Bernays–Gödel set theory**"
      ]
    },
    {
      "cell_type": "markdown",
      "metadata": {
        "id": "K4UeIpPXo2zA"
      },
      "source": [
        "https://en.m.wikipedia.org/wiki/Von_Neumann–Bernays–Gödel_set_theory"
      ]
    },
    {
      "cell_type": "markdown",
      "metadata": {
        "id": "A6xphijz1W55"
      },
      "source": [
        "**Topos Theory (Category) as alternative to traditional axiomatic set theory**"
      ]
    },
    {
      "cell_type": "markdown",
      "metadata": {
        "id": "aw1F2vIspw5M"
      },
      "source": [
        "* Category theorists have proposed [topos theory](https://en.m.wikipedia.org/wiki/Topos) as an alternative to traditional axiomatic set theory. Topos theory can interpret various alternatives to that theory, such as constructivism, finite set theory, and computable set theory.\n",
        "\n",
        "* Topoi also give a natural setting for forcing and discussions of the independence of choice from ZF, as well as providing the framework for pointless topology and Stone spaces."
      ]
    }
  ]
}