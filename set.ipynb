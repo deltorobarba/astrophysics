{
  "nbformat": 4,
  "nbformat_minor": 0,
  "metadata": {
    "colab": {
      "name": "set.ipynb",
      "provenance": [],
      "collapsed_sections": [],
      "include_colab_link": true
    },
    "kernelspec": {
      "name": "python3",
      "display_name": "Python 3"
    }
  },
  "cells": [
    {
      "cell_type": "markdown",
      "metadata": {
        "id": "view-in-github",
        "colab_type": "text"
      },
      "source": [
        "<a href=\"https://colab.research.google.com/github/deltorobarba/machinelearning/blob/master/set.ipynb\" target=\"_parent\"><img src=\"https://colab.research.google.com/assets/colab-badge.svg\" alt=\"Open In Colab\"/></a>"
      ]
    },
    {
      "cell_type": "markdown",
      "metadata": {
        "id": "2Aoj2PpxvDQV",
        "colab_type": "text"
      },
      "source": [
        "# **Set Theory**"
      ]
    },
    {
      "cell_type": "code",
      "metadata": {
        "id": "1U5_6xH7tAQq",
        "colab_type": "code",
        "colab": {}
      },
      "source": [
        "import numpy as np\n",
        "import pandas as pd\n",
        "import seaborn as sns\n",
        "import matplotlib.pyplot as plt"
      ],
      "execution_count": null,
      "outputs": []
    },
    {
      "cell_type": "markdown",
      "metadata": {
        "id": "bCeV0uWSVY5r",
        "colab_type": "text"
      },
      "source": [
        "## **General Notation**"
      ]
    },
    {
      "cell_type": "markdown",
      "metadata": {
        "id": "GqqSZF6_1vLl",
        "colab_type": "text"
      },
      "source": [
        "In set-builder notation, the set is specified as a subset of a larger set, where the subset is determined by a statement or condition involving the elements. For example, a set F can be specified as follows:\n",
        "\n",
        "> $F=\\{n \\mid n \\text { is an integer, and } 0 \\leq n \\leq 19\\}$\n",
        "\n",
        "* In this notation, the vertical bar (\"|\") means \"such that\", and the description can be interpreted as \n",
        "* **\"F is the set of all numbers n, such that n is an integer in the range from 0 to 19 inclusive\"**\n",
        "* Sometimes the colon (\":\") is used instead of the vertical bar."
      ]
    },
    {
      "cell_type": "markdown",
      "metadata": {
        "id": "fUEkEhKBo04d",
        "colab_type": "text"
      },
      "source": [
        "https://en.m.wikipedia.org/wiki/Set-builder_notation"
      ]
    },
    {
      "cell_type": "markdown",
      "metadata": {
        "id": "KVfJxtw_faJK",
        "colab_type": "text"
      },
      "source": [
        "**Compact Set**"
      ]
    },
    {
      "cell_type": "markdown",
      "metadata": {
        "id": "JC4--mmzfgd7",
        "colab_type": "text"
      },
      "source": [
        "* compactness is a property that generalizes the notion of a subset of Euclidean space being closed (i.e., containing all its limit points) and bounded (i.e., having all its points lie within some fixed distance of each other).\n",
        "\n",
        "* Examples include a closed interval, a rectangle, or a finite set of points. This notion is defined for more general topological spaces than Euclidean space in various ways.\n",
        "\n",
        "* importance of including the boundary points of the interval, since the limit points must be in the space itself — an open (or half-open) interval of the real numbers is not compact. \n",
        "\n",
        "* It is also crucial that the interval be bounded, since in the interval [0,∞), one could choose the sequence of points 0, 1, 2, 3, ..., of which no sub-sequence ultimately gets arbitrarily close to any given real number."
      ]
    },
    {
      "cell_type": "markdown",
      "metadata": {
        "id": "HBeD_rrUfvQR",
        "colab_type": "text"
      },
      "source": [
        "https://en.m.wikipedia.org/wiki/Compact_space"
      ]
    },
    {
      "cell_type": "markdown",
      "metadata": {
        "id": "6lpI5kfOLtNq",
        "colab_type": "text"
      },
      "source": [
        "**Special Sets**"
      ]
    },
    {
      "cell_type": "markdown",
      "metadata": {
        "id": "B0pnswdgLu79",
        "colab_type": "text"
      },
      "source": [
        "* One of these is the empty set, denoted { } or ∅.\n",
        "\n",
        "* A set with exactly one element, x, is a unit set, or singleton, {x}.\n",
        "\n",
        "* P or ℙ, denoting the set of all primes: P = {2, 3, 5, 7, 11, 13, 17, ...}.\n",
        "\n",
        "* N, denoting the set of all natural numbers: N = {0, 1, 2, 3, ...} (sometimes defined excluding 0).\n",
        "\n",
        "* Z, denoting the set of all integers (whether positive, negative or zero): Z = {..., −2, −1, 0, 1, 2, ...}.\n",
        "\n",
        "* .. until Quaternions!"
      ]
    },
    {
      "cell_type": "markdown",
      "metadata": {
        "id": "JpJcpo3FMagQ",
        "colab_type": "text"
      },
      "source": [
        "**Cartesian Product**"
      ]
    },
    {
      "cell_type": "markdown",
      "metadata": {
        "id": "ZlwJIH7PMdTC",
        "colab_type": "text"
      },
      "source": [
        "* A new set can be constructed by associating every element of one set with every element of another set. \n",
        "\n",
        "* The Cartesian product of two sets A and B, denoted by A × B is the set of all ordered pairs (a, b) such that a is a member of A and b is a member of B.\n",
        "\n",
        "* For example: {1, 2} × {1, 2} = {(1, 1), (1, 2), (2, 1), (2, 2)}.\n"
      ]
    },
    {
      "cell_type": "markdown",
      "metadata": {
        "id": "7lFbg9u72bz9",
        "colab_type": "text"
      },
      "source": [
        "https://en.m.wikipedia.org/wiki/Set_(mathematics)"
      ]
    },
    {
      "cell_type": "markdown",
      "metadata": {
        "id": "laFiQDC1yiKG",
        "colab_type": "text"
      },
      "source": [
        "## **Measure Space & Measurable Space**"
      ]
    },
    {
      "cell_type": "markdown",
      "metadata": {
        "id": "gR0omcCEyljo",
        "colab_type": "text"
      },
      "source": [
        "* A measure space is a basic object of measure theory, a branch of mathematics that studies generalized notions of volumes. It contains an underlying set, the subsets of this set that are feasible for measuring (the σ-algebra) and the method that is used for measuring (the measure). One important example of a measure space is a probability space.\n",
        "\n",
        "* A measurable space consists of the first two components without a specific measure."
      ]
    },
    {
      "cell_type": "markdown",
      "metadata": {
        "id": "bqmDCJDWy4sq",
        "colab_type": "text"
      },
      "source": [
        "A measure space is a triple $(X, \\mathcal{A}, \\mu),$ where\n",
        "\n",
        "* $\\cdot X$ is a set\n",
        "\n",
        "* $\\mathcal{A}$ is a $\\sigma$ -algebra on the set $X$\n",
        "\n",
        "* $\\boldsymbol{\\mu}$ is a measure on $(X, \\mathcal{A})$"
      ]
    },
    {
      "cell_type": "markdown",
      "metadata": {
        "id": "xDp68lYUypzs",
        "colab_type": "text"
      },
      "source": [
        "https://en.m.wikipedia.org/wiki/Measure_space"
      ]
    },
    {
      "cell_type": "markdown",
      "metadata": {
        "id": "lxZqzchtzaSz",
        "colab_type": "text"
      },
      "source": [
        "A **complete measure** (or, more precisely, a complete measure space) is a measure space in which every subset of every null set is measurable (having measure zero). "
      ]
    },
    {
      "cell_type": "markdown",
      "metadata": {
        "id": "XtShSxHrzeGE",
        "colab_type": "text"
      },
      "source": [
        "https://en.m.wikipedia.org/wiki/Complete_measure"
      ]
    },
    {
      "cell_type": "markdown",
      "metadata": {
        "id": "LMxl70lljGLr",
        "colab_type": "text"
      },
      "source": [
        "## **Field of Sets - Algebra (Mengensystem)**"
      ]
    },
    {
      "cell_type": "markdown",
      "metadata": {
        "id": "Ct9dwFuXEuFS",
        "colab_type": "text"
      },
      "source": [
        "Ω (Omega) sei eine beliebige Menge. Ein System $\\mathcal{A}$ von Teilmengen von Ω heißt eine Mengenalgebra oder Algebra über Ω, wenn folgende Eigenschaften erfüllt sind:\n",
        "\n",
        "1. $\\mathcal{A} \\neq \\emptyset$ ( $\\mathcal{A}$ ist nicht leer)\n",
        "\n",
        "2. $A, B \\in \\mathcal{A} \\Rightarrow A \\cup B \\in \\mathcal{A}$ (Stabilität/Abgeschlossenheit bezüglich Vereinigung)\n",
        "\n",
        "3. $A \\in \\mathcal{A} \\Rightarrow A^{\\mathrm{c}} \\in \\mathcal{A}$ (Stabilität/Abgeschlossenheit bezüglich Komplementbildung $\\left.A^{c}=\\Omega \\backslash A\\right)$"
      ]
    },
    {
      "cell_type": "markdown",
      "metadata": {
        "id": "E_ksvdizjJS-",
        "colab_type": "text"
      },
      "source": [
        "* In der Mathematik ist (Mengen-)Algebra ein Grundbegriff der Maßtheorie. Er beschreibt ein nicht-leeres Mengensystem, das vereinigungs- und komplementstabil ist.\n",
        "\n",
        "* A field of sets is a **pair ⟨X,F⟩** where X is a set and F is an algebra over X i.e., a subset of the power set of X, closed under complements of individual sets and under the union (hence also under the intersection) of pairs of sets, and satisfying X ∈ F. \n",
        "\n",
        "* In other words, F forms a subalgebra of the power set Boolean algebra of X (with the same identity element X ∈ F). (Many authors refer to F itself as a field of sets.) \n",
        "\n",
        "* **Elements of X are called points and those of F are called complexes and are said to be the admissible sets of X.**"
      ]
    },
    {
      "cell_type": "markdown",
      "metadata": {
        "id": "paRO-7ajId2V",
        "colab_type": "text"
      },
      "source": [
        "* For arbitrary set $Y$, its power set (Potenzmenge) $2^{Y}$ (or, somewhat pedantically, the pair $\\left\\langle Y, 2^{Y}\\right\\rangle$ of this set and its power set) is a field of sets. \n",
        "\n",
        "* If $Y$ is finite (namely, $n$ -element), then $2^{Y}$ is finite (namely, $2^{n}$ element). \n",
        "\n",
        "* It appears that every finite field of sets (it means, $\\langle X, \\mathcal{F}\\rangle$ with $\\mathcal{F}$ finite, while $X$ may be infinite) admits a representation of the form $\\left\\langle Y, 2^{Y}\\right\\rangle$ with finite $Y ;$ it means a function $f: X \\rightarrow Y$ that establishes a one-to-one correspondence between $\\mathcal{F}$ and $2^{Y}$ via inverse image:\n",
        "$S=f^{-1}[B]=\\{x \\in X \\mid f(x) \\in B\\}$ where $S \\in \\mathcal{F}$ and $B \\in 2^{Y}$ (that is, $B \\subset Y$ ). \n",
        "\n",
        "* One notable consequence: the number of complexes, if finite, is always of the form $2^{n}$."
      ]
    },
    {
      "cell_type": "markdown",
      "metadata": {
        "id": "JqkRhwrZHSGp",
        "colab_type": "text"
      },
      "source": [
        "**Beispiele für Algebra**"
      ]
    },
    {
      "cell_type": "markdown",
      "metadata": {
        "id": "8AFXRKkuHYNd",
        "colab_type": "text"
      },
      "source": [
        "* Für jede beliebige Menge $\\Omega$ ist $\\{\\emptyset, \\Omega\\}$ die kleinste und die Potenzmenge $\\mathcal{P}(\\Omega)$ die größtmögliche Mengenalgebra.\n",
        "* Jede $\\sigma$ -Algebra ist eine Mengenalgebra.\n",
        "* Für jede Menge $\\Omega$ ist das Mengensystem $\\mathcal{A}=\\left\\{A \\subseteq \\Omega \\mid A \\text { endlich oder } A^{c} \\text { endlich }\\right\\}$ eine Mengenalgebra. Wenn $\\Omega$ unendich ist, dann ist $\\mathcal{A}$ keine $\\sigma$ -Algebra."
      ]
    },
    {
      "cell_type": "markdown",
      "metadata": {
        "id": "ded5mK7pcYoX",
        "colab_type": "text"
      },
      "source": [
        "**Separative and compact fields of sets: towards Stone duality**"
      ]
    },
    {
      "cell_type": "markdown",
      "metadata": {
        "id": "p7fxFxMgcbMU",
        "colab_type": "text"
      },
      "source": [
        "* A field of sets is called **separative (or differentiated)** if and only if for every pair of distinct points there is a complex containing one and not the other.\n",
        "\n",
        "* A field of sets is called **compact** if and only if for every proper filter over X the intersection of all the complexes contained in the filter is non-empty."
      ]
    },
    {
      "cell_type": "markdown",
      "metadata": {
        "id": "7JL_pBvidGa5",
        "colab_type": "text"
      },
      "source": [
        "Given a field of sets $\\mathbf{X}=\\langle X, \\mathcal{F}\\rangle$ the complexes form a base for a topology. We denote by $T(\\mathbf{X})$ the corresponding topological space, $\\langle X, \\mathcal{T}\\rangle$ where $\\mathcal{T}$ is the topology formed by taking arbitrary unions of complexes. Then\n",
        "\n",
        "1. $T(\\mathbf{X})$ is always a [zero-dimensional space](https://en.m.wikipedia.org/wiki/Zero-dimensional_space)\n",
        "\n",
        "2. $T(\\mathbf{X})$ is a [Hausdorff space](https://en.m.wikipedia.org/wiki/Hausdorff_space) if and only if $\\mathbf{X}$ is separative.\n",
        "\n",
        "3. $T(\\mathbf{X})$ is a compact space with compact open sets $\\mathcal{F}$ if and only if $\\mathbf{X}$ is compact.\n",
        "\n",
        "4. $T(\\mathbf{X})$ is a Boolean space with clopen sets $\\mathcal{F}$ if and only if $\\mathbf{X}$ is both separative and compact (in which case it is described as being descriptive)"
      ]
    },
    {
      "cell_type": "markdown",
      "metadata": {
        "id": "Vc8T8hpoiWFR",
        "colab_type": "text"
      },
      "source": [
        "**Sigma Algebra**"
      ]
    },
    {
      "cell_type": "markdown",
      "metadata": {
        "id": "hbXQyLk2hrd6",
        "colab_type": "text"
      },
      "source": [
        "If an algebra over a **set is closed under countable unions** (hence also under countable intersections), it is called a **sigma algebra** and the corresponding field of sets (Mengensystem) is called a **measurable space**. The complexes of a measurable space are called measurable sets."
      ]
    },
    {
      "cell_type": "markdown",
      "metadata": {
        "id": "PBHuPNh-iYrR",
        "colab_type": "text"
      },
      "source": [
        "* A measure space is a triple $\\langle X, \\mathcal{F}, \\mu\\rangle$ where $\\langle X, \\mathcal{F}\\rangle$ is a measurable space and $\\mu$ is a measure defined on it. \n",
        "\n",
        "* If $\\mu$ is in fact a probability measure we speak of a probability space and call its underlying measurable space a sample space. \n",
        "\n",
        "* The points of a sample space are called samples and represent potential outcomes while the measurable sets (complexes) are called events and represent properties of outcomes for which we wish to assign probabilities. (Many use the term sample space simply for the underlying set of a probability space, particularly in the case where every subset is an event.) \n",
        "\n",
        "* Measure spaces and probability spaces play a foundational role in measure theory and probability theory respectively."
      ]
    },
    {
      "cell_type": "markdown",
      "metadata": {
        "id": "6I7YepgQlABC",
        "colab_type": "text"
      },
      "source": [
        "https://en.m.wikipedia.org/wiki/Field_of_sets"
      ]
    },
    {
      "cell_type": "markdown",
      "metadata": {
        "id": "X1Lw-DP0jMwK",
        "colab_type": "text"
      },
      "source": [
        "https://de.m.wikipedia.org/wiki/Algebra_(Mengensystem)"
      ]
    },
    {
      "cell_type": "markdown",
      "metadata": {
        "id": "-jNczSdWjYRG",
        "colab_type": "text"
      },
      "source": [
        "https://de.m.wikipedia.org/wiki/Algebraische_Struktur"
      ]
    },
    {
      "cell_type": "markdown",
      "metadata": {
        "id": "DN1m6a8kVGp1",
        "colab_type": "text"
      },
      "source": [
        "## **Power Set (Potenzmenge)**"
      ]
    },
    {
      "cell_type": "markdown",
      "metadata": {
        "id": "PqODkHicct2V",
        "colab_type": "text"
      },
      "source": [
        "* Als Potenzmenge bezeichnet man in der Mengenlehre die **Menge aller Teilmengen einer gegebenen Grundmenge**. Man notiert die Potenzmenge einer Menge X meist als P(X).\n",
        "\n",
        "* The power set of a set S is the set of all subsets of S. The power set contains S itself and the empty set because these are both subsets of S. For example, the power set of the set {1, 2, 3} is {{1, 2, 3}, {1, 2}, {1, 3}, {2, 3}, {1}, {2}, {3}, ∅}. The power set of a set S is usually written as P(S).\n",
        "\n",
        "* **The power set of a finite set with n elements has 2<sup>n</sup> elements**. For example, the set {1, 2, 3} contains three elements, and the power set shown above contains 2<sup>3</sup> = 8 elements.\n",
        "\n",
        "* The power set (or powerset) of any set S is the **set of all subsets of S, including the empty set and S itself**, variously denoted as P(S), 𝒫(S), ℘(S) (using the \"Weierstrass p\"), P(S), ℙ(S), or, identifying the powerset of S with the set of all functions from S to a given set of two elements, 2S.\n",
        "\n",
        "* If S is the set {x, y, z}, then the subsets of S are: {} (also denoted ∅, the empty set or the null set), {x}, {y}, {z}, {x, y}, {x, z}, {y, z}, {x, y, z} and hence the power set of S is {{}, {x}, {y}, {z}, {x, y}, {x, z}, {y, z}, {x, y, z}}.\n",
        "\n",
        "* The power set of an infinite (either countable or uncountable) set is always uncountable. \n",
        "\n",
        "* Moreover, the power set of a set is always strictly \"bigger\" than the original set in the sense that there is no way to pair every element of S with exactly one element of P(S). (There is never an onto map or [surjection](https://en.m.wikipedia.org/wiki/Surjective_function) from S onto P(S).)"
      ]
    },
    {
      "cell_type": "markdown",
      "metadata": {
        "id": "Hakve64ge6r7",
        "colab_type": "text"
      },
      "source": [
        "**Mächtigkeit (Cardinality)**"
      ]
    },
    {
      "cell_type": "markdown",
      "metadata": {
        "id": "yAxgYlbte-Cw",
        "colab_type": "text"
      },
      "source": [
        "* Die Mächtigkeit einer  Menge  M mit endlich vielen Elementen ist die Anzahl ihrer Elemente. Man schreibt für die Mächtigkeit einer Menge M entweder ∣M∣ oder #M.\n",
        "\n",
        "* Die Mächtigkeit der Potenzmenge einer Menge A, ist: 𝒫(A)=2<sup>∣A∣</sup>. Ein Beispiel für eine Potenzmenge ist der Ereignisraum."
      ]
    },
    {
      "cell_type": "markdown",
      "metadata": {
        "id": "aiwmFdY0vEln",
        "colab_type": "text"
      },
      "source": [
        "https://en.m.wikipedia.org/wiki/Cardinality"
      ]
    },
    {
      "cell_type": "markdown",
      "metadata": {
        "id": "Wc07l69FcrFL",
        "colab_type": "text"
      },
      "source": [
        "**Representing subsets as functions**"
      ]
    },
    {
      "cell_type": "markdown",
      "metadata": {
        "id": "B3AhcVapcgvw",
        "colab_type": "text"
      },
      "source": [
        "* In set theory, X<sup>Y</sup> is the set of all functions from Y to X. As \"2\" can be defined as {0,1} (see natural number), 2S (i.e., {0,1}S) is the set of all functions from S to {0,1}.\n",
        "\n",
        "* By identifying a function in 2S with the corresponding preimage of 1, we see that there is a bijection between 2S and P(S), where each function is the characteristic function of the subset in P(S) with which it is identified.\n",
        "\n",
        "* Hence 2S and P(S) could be considered identical set-theoretically. (Thus there are two distinct notational motivations for denoting the power set by 2S: the fact that this function-representation of subsets makes it a special case of the XY notation and the property, mentioned above, that |2S| = 2|S|.)"
      ]
    },
    {
      "cell_type": "markdown",
      "metadata": {
        "id": "vgxwnRHhaHgL",
        "colab_type": "text"
      },
      "source": [
        "https://en.m.wikipedia.org/wiki/Power_set"
      ]
    },
    {
      "cell_type": "markdown",
      "metadata": {
        "id": "YKW5uEo1K-yG",
        "colab_type": "text"
      },
      "source": [
        "https://en.m.wikipedia.org/wiki/Surjective_function"
      ]
    },
    {
      "cell_type": "markdown",
      "metadata": {
        "id": "7S02zfX9cYAb",
        "colab_type": "text"
      },
      "source": [
        "## **Universe (Grundmenge)**"
      ]
    },
    {
      "cell_type": "markdown",
      "metadata": {
        "id": "SfBckwmfcblp",
        "colab_type": "text"
      },
      "source": [
        "* A universe is a collection that contains all the entities one wishes to consider in a given situation. \n",
        "\n",
        "* Eine Grundmenge (auch Universum) bezeichnet in der Mathematik eine Menge aus allen in einem bestimmten Zusammenhang betrachteten Objekten. Alle in diesem Zusammenhang betrachteten Mengen sind dann Teilmengen dieser Grundmenge. \n",
        "\n",
        "* **In einzelnen Fällen werden jedoch im Gegenzug nicht auch alle Teilmengen der Grundmenge betrachtet, so zum Beispiel im Fall einer σ-Algebra**. "
      ]
    },
    {
      "cell_type": "markdown",
      "metadata": {
        "id": "hPzPJw1ndAge",
        "colab_type": "text"
      },
      "source": [
        "https://en.m.wikipedia.org/wiki/Universe_(mathematics)"
      ]
    },
    {
      "cell_type": "markdown",
      "metadata": {
        "id": "z3KqqsZoinKt",
        "colab_type": "text"
      },
      "source": [
        "**Solution Set (Lösungsmenge)**"
      ]
    },
    {
      "cell_type": "markdown",
      "metadata": {
        "id": "dgT3QNA9i0T8",
        "colab_type": "text"
      },
      "source": [
        "Im Falle einer Gleichung wie beispielsweise x+5=3 handelt es sich um eine Aussageform, die an sich weder wahr noch falsch ist. Erst wenn man anstelle von x konkrete Zahlen einsetzt, wird aus der Aussageform eine Aussage, die entweder wahr oder falsch ist. Es interessiert beim Lösen einer Gleichung in der Regel jene Zahl, die aus der Gleichung eine wahre Aussage macht. Derjenige, der sich diese Gleichung ausgedacht hat, macht für den Löser dieser Gleichung jetzt außerdem noch eine weitere Vorschrift: Man soll nur innerhalb der natürlichen Zahlen N nach einem Objekt oder einer Zahl suchen dürfen, welches bzw. welche aus der Gleichung eine wahre Aussage macht. Anders formuliert: Die Grundmenge zur Gleichung wird in diesem Fall als N vorgeschrieben. Als Folge dieser Einschränkung wird man keine Zahl finden, welche die Gleichung erfüllt. Und deshalb ist die Lösungsmenge der Gleichung leer."
      ]
    },
    {
      "cell_type": "markdown",
      "metadata": {
        "id": "_5YZoVb2eOaK",
        "colab_type": "text"
      },
      "source": [
        "**Miscellaneous**"
      ]
    },
    {
      "cell_type": "markdown",
      "metadata": {
        "id": "AvvlxJOUeNxB",
        "colab_type": "text"
      },
      "source": [
        "http://settheory.net/sets/time-in-set-theory"
      ]
    }
  ]
}