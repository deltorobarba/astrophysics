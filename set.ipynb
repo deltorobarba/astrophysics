{
  "nbformat": 4,
  "nbformat_minor": 0,
  "metadata": {
    "colab": {
      "name": "set.ipynb",
      "provenance": [],
      "collapsed_sections": [
        "bCeV0uWSVY5r",
        "2t0NnrUfDoVg",
        "QHRbqic7rZ1U",
        "7S02zfX9cYAb",
        "z3KqqsZoinKt",
        "DN1m6a8kVGp1",
        "ErN__bggDh9m",
        "6lpI5kfOLtNq",
        "Hakve64ge6r7",
        "N5Q3MF-IBrBk",
        "WYqXPG4GK4NL",
        "eMpkKVVJLovf",
        "kfZFMi-aLj5L",
        "35Q6nQcsLuPW",
        "_64OqlKfZXqZ",
        "Q1xgu3v2zzcT",
        "sef3vFPZCbBH",
        "9zeKm32B9J-r",
        "jnf6EJrp8kCL",
        "KVfJxtw_faJK",
        "bkZcyD7ispT2",
        "IRb13Big9a34",
        "QNeiHqg7xI1l",
        "ak2HBZOH8xiT",
        "laFiQDC1yiKG",
        "P4KDiI20GSS8",
        "zmHivtKKC6td",
        "O1v7eQtS4gqu",
        "rQzLXsG6C4Lx",
        "FkR6CvL_C0uu",
        "ymG9QHcCF1Hg",
        "uw99f_qvDl6i",
        "V27J3X8qM9cN",
        "PomYI_xzCurv",
        "JGhitrlOQEHM",
        "5FCk6SHCCxwq",
        "ddjokxjoP-Dc",
        "W7xhaOnBFAU0",
        "hwX-v1nkFF_O",
        "3oIStp-bE5eY"
      ],
      "include_colab_link": true
    },
    "kernelspec": {
      "name": "python3",
      "display_name": "Python 3"
    }
  },
  "cells": [
    {
      "cell_type": "markdown",
      "metadata": {
        "id": "view-in-github",
        "colab_type": "text"
      },
      "source": [
        "<a href=\"https://colab.research.google.com/github/deltorobarba/machinelearning/blob/master/set.ipynb\" target=\"_parent\"><img src=\"https://colab.research.google.com/assets/colab-badge.svg\" alt=\"Open In Colab\"/></a>"
      ]
    },
    {
      "cell_type": "markdown",
      "metadata": {
        "id": "2Aoj2PpxvDQV",
        "colab_type": "text"
      },
      "source": [
        "# **Maß- und Integrationstheorie**"
      ]
    },
    {
      "cell_type": "code",
      "metadata": {
        "id": "1U5_6xH7tAQq",
        "colab_type": "code",
        "colab": {}
      },
      "source": [
        "import numpy as np\n",
        "import pandas as pd\n",
        "import seaborn as sns\n",
        "import matplotlib.pyplot as plt"
      ],
      "execution_count": null,
      "outputs": []
    },
    {
      "cell_type": "markdown",
      "metadata": {
        "id": "bCeV0uWSVY5r",
        "colab_type": "text"
      },
      "source": [
        "## **Menge**"
      ]
    },
    {
      "cell_type": "markdown",
      "metadata": {
        "id": "2t0NnrUfDoVg",
        "colab_type": "text"
      },
      "source": [
        "#### **Definition of Sets**"
      ]
    },
    {
      "cell_type": "markdown",
      "metadata": {
        "id": "5ZG8iYYSKFEn",
        "colab_type": "text"
      },
      "source": [
        "**A set is a collection of objects. Each object in the set is called an element of the set.**"
      ]
    },
    {
      "cell_type": "markdown",
      "metadata": {
        "id": "Tmp5fmoLDfmS",
        "colab_type": "text"
      },
      "source": [
        "A set is a well-defined collection of distinct objects, considered as an object in its own right. The arrangement of the objects in the set does not matter. For example, \n",
        "\n",
        "* the numbers 2, 4, and 6 are distinct objects when considered separately, \n",
        "\n",
        "* but when they are considered collectively they form a single set of size three, written as {2, 4, 6}, which could also be written as {2, 6, 4}"
      ]
    },
    {
      "cell_type": "markdown",
      "metadata": {
        "id": "L4QAPB_PECeU",
        "colab_type": "text"
      },
      "source": [
        "Set theory begins with a fundamental binary relation between an object o and a set A. If o is a member (or element) of A, the notation o ∈ A is used. A set is described by listing elements separated by commas, or by a characterizing property of its elements, within braces { }. Since sets are objects, the membership relation can relate sets as well.\n",
        "\n",
        "* A derived binary relation between two sets is the subset relation, also called set inclusion. If all the members of set A are also members of set B, then A is a subset of B, denoted A ⊆ B. For example, {1, 2} is a subset of {1, 2, 3} , and so is {2} but {1, 4} is not. \n",
        "\n",
        "* As insinuated from this definition, a set is a subset of itself. For cases where this possibility is unsuitable or would make sense to be rejected, the term proper subset is defined. A is called a proper subset of B if and only if A is a subset of B, but A is not equal to B. \n",
        "\n",
        "* Also 1, 2, and 3 are members (elements) of the set {1, 2, 3} but are not subsets of it; and in turn, the subsets, such as {1}, are not members of the set {1, 2, 3}."
      ]
    },
    {
      "cell_type": "markdown",
      "metadata": {
        "id": "WwfFp85sD0t5",
        "colab_type": "text"
      },
      "source": [
        "https://en.m.wikipedia.org/wiki/Set_(mathematics)"
      ]
    },
    {
      "cell_type": "markdown",
      "metadata": {
        "id": "s9-oi0pwDxyx",
        "colab_type": "text"
      },
      "source": [
        "https://en.m.wikipedia.org/wiki/Set_theory"
      ]
    },
    {
      "cell_type": "markdown",
      "metadata": {
        "id": "QHRbqic7rZ1U",
        "colab_type": "text"
      },
      "source": [
        "#### **Kartesisches Produkt**"
      ]
    },
    {
      "cell_type": "markdown",
      "metadata": {
        "id": "o0gDyfTSsFXT",
        "colab_type": "text"
      },
      "source": [
        "![xxx](https://upload.wikimedia.org/wikipedia/commons/thumb/4/4e/Cartesian_Product_qtl1.svg/316px-Cartesian_Product_qtl1.svg.png)"
      ]
    },
    {
      "cell_type": "markdown",
      "metadata": {
        "id": "Qf9jo6N1rdaa",
        "colab_type": "text"
      },
      "source": [
        "https://de.m.wikipedia.org/wiki/Kartesisches_Produkt"
      ]
    },
    {
      "cell_type": "markdown",
      "metadata": {
        "id": "1dSqpbRkD3jr",
        "colab_type": "text"
      },
      "source": [
        "#### **Types of Sets**"
      ]
    },
    {
      "cell_type": "markdown",
      "metadata": {
        "id": "7S02zfX9cYAb",
        "colab_type": "text"
      },
      "source": [
        "##### **Universe (Grundmenge Ω)**"
      ]
    },
    {
      "cell_type": "markdown",
      "metadata": {
        "id": "SfBckwmfcblp",
        "colab_type": "text"
      },
      "source": [
        "* A universe is a collection that contains all the entities one wishes to consider in a given situation. \n",
        "\n",
        "* Eine Grundmenge (auch Universum) bezeichnet in der Mathematik eine Menge aus allen in einem bestimmten Zusammenhang betrachteten Objekten. Alle in diesem Zusammenhang betrachteten Mengen sind dann Teilmengen dieser Grundmenge. \n",
        "\n",
        "* **In einzelnen Fällen werden jedoch im Gegenzug nicht auch alle Teilmengen der Grundmenge betrachtet, so zum Beispiel im Fall einer σ-Algebra**. "
      ]
    },
    {
      "cell_type": "markdown",
      "metadata": {
        "id": "hPzPJw1ndAge",
        "colab_type": "text"
      },
      "source": [
        "https://en.m.wikipedia.org/wiki/Universe_(mathematics)"
      ]
    },
    {
      "cell_type": "markdown",
      "metadata": {
        "id": "z3KqqsZoinKt",
        "colab_type": "text"
      },
      "source": [
        "##### **Solution Set (Lösungsmenge)**"
      ]
    },
    {
      "cell_type": "markdown",
      "metadata": {
        "id": "dgT3QNA9i0T8",
        "colab_type": "text"
      },
      "source": [
        "* Im Falle einer Gleichung wie beispielsweise x+5=3 handelt es sich um eine Aussageform, die an sich weder wahr noch falsch ist. Erst wenn man anstelle von x konkrete Zahlen einsetzt, wird aus der Aussageform eine Aussage, die entweder wahr oder falsch ist. \n",
        "\n",
        "* Es interessiert beim Lösen einer Gleichung in der Regel jene Zahl, die aus der Gleichung eine wahre Aussage macht. Derjenige, der sich diese Gleichung ausgedacht hat, macht für den Löser dieser Gleichung jetzt außerdem noch eine weitere Vorschrift: Man soll nur innerhalb der natürlichen Zahlen N nach einem Objekt oder einer Zahl suchen dürfen, welches bzw. welche aus der Gleichung eine wahre Aussage macht. \n",
        "\n",
        "* Anders formuliert: Die Grundmenge zur Gleichung wird in diesem Fall als N vorgeschrieben. Als Folge dieser Einschränkung wird man keine Zahl finden, welche die Gleichung erfüllt. Und deshalb ist die Lösungsmenge der Gleichung leer."
      ]
    },
    {
      "cell_type": "markdown",
      "metadata": {
        "id": "wqZfuqf9UeZL",
        "colab_type": "text"
      },
      "source": [
        "a solution set is the set of values that satisfy a given set of equations or inequalities."
      ]
    },
    {
      "cell_type": "markdown",
      "metadata": {
        "id": "9dH9c2mPUa_A",
        "colab_type": "text"
      },
      "source": [
        "https://en.m.wikipedia.org/wiki/Solution_set"
      ]
    },
    {
      "cell_type": "markdown",
      "metadata": {
        "id": "DN1m6a8kVGp1",
        "colab_type": "text"
      },
      "source": [
        "##### **Power Set (Potenzmenge)**"
      ]
    },
    {
      "cell_type": "markdown",
      "metadata": {
        "id": "PqODkHicct2V",
        "colab_type": "text"
      },
      "source": [
        "* Als Potenzmenge bezeichnet man in der Mengenlehre die **Menge aller Teilmengen einer gegebenen Grundmenge**. Man notiert die Potenzmenge einer Menge X meist als P(X).\n",
        "\n",
        "* The power set of a set S is the set of all subsets of S. The power set contains S itself and the empty set because these are both subsets of S. For example, the power set of the set {1, 2, 3} is {{1, 2, 3}, {1, 2}, {1, 3}, {2, 3}, {1}, {2}, {3}, ∅}. The power set of a set S is usually written as P(S).\n",
        "\n",
        "* **The power set of a finite set with n elements has 2<sup>n</sup> elements**. For example, the set {1, 2, 3} contains three elements, and the power set shown above contains 2<sup>3</sup> = 8 elements.\n",
        "\n",
        "* The power set (or powerset) of any set S is the **set of all subsets of S, including the empty set and S itself**, variously denoted as P(S), 𝒫(S), ℘(S) (using the \"Weierstrass p\"), P(S), ℙ(S), or, identifying the powerset of S with the set of all functions from S to a given set of two elements, 2S.\n",
        "\n",
        "* If S is the set {x, y, z}, then the subsets of S are: {} (also denoted ∅, the empty set or the null set), {x}, {y}, {z}, {x, y}, {x, z}, {y, z}, {x, y, z} and hence the power set of S is {{}, {x}, {y}, {z}, {x, y}, {x, z}, {y, z}, {x, y, z}}.\n",
        "\n",
        "* The power set of an infinite (either countable or uncountable) set is always uncountable. \n",
        "\n",
        "* Moreover, the power set of a set is always strictly \"bigger\" than the original set in the sense that there is no way to pair every element of S with exactly one element of P(S). (There is never an onto map or [surjection](https://en.m.wikipedia.org/wiki/Surjective_function) from S onto P(S).)"
      ]
    },
    {
      "cell_type": "markdown",
      "metadata": {
        "id": "vgxwnRHhaHgL",
        "colab_type": "text"
      },
      "source": [
        "https://en.m.wikipedia.org/wiki/Power_set"
      ]
    },
    {
      "cell_type": "markdown",
      "metadata": {
        "id": "ErN__bggDh9m",
        "colab_type": "text"
      },
      "source": [
        "##### **Field of Sets (Algebra oder Mengensystem)**"
      ]
    },
    {
      "cell_type": "markdown",
      "metadata": {
        "id": "wEIdFJLmUG_C",
        "colab_type": "text"
      },
      "source": [
        "**Mengensystem** oder **Mengenalgebra** oder **Fields of Sets**"
      ]
    },
    {
      "cell_type": "markdown",
      "metadata": {
        "id": "Z3axOdZgGNHd",
        "colab_type": "text"
      },
      "source": [
        "* **A field of sets is a pair $\\langle X, \\mathcal{F}\\rangle$ where $X$ is a set and $\\mathcal{F}$ is an algebra over $X$** \n",
        "\n",
        "* i.e., a subset of the power set of $X$, closed under complements of individual sets and under the union (hence also under the intersection) of pairs of sets, and satisfying $X \\in \\mathcal{F}$. \n",
        "\n",
        "* In other words, $\\mathcal{F}$ forms\n",
        "a subalgebra of the power set Boolean algebra of $X$ (with the same identity element $X \\in \\mathcal{F}$ ).\n",
        "(Many authors refer to $\\mathcal{F}$ itself as a field of sets.) Elements of $X$ are called points and those of $\\mathcal{F}$\n",
        "are called complexes and are said to be the admissible sets of $X$."
      ]
    },
    {
      "cell_type": "markdown",
      "metadata": {
        "id": "Ct9dwFuXEuFS",
        "colab_type": "text"
      },
      "source": [
        "Ω (Omega) sei eine beliebige (Grund-)Menge. Ein System $\\mathcal{A}$ (oder $\\mathcal{F}$) von Teilmengen von Ω heißt eine Mengenalgebra oder Algebra über Ω, wenn folgende Eigenschaften erfüllt sind:\n",
        "\n",
        "1. $\\mathcal{A} \\neq \\emptyset$ ( $\\mathcal{A}$ ist nicht leer)\n",
        "\n",
        "2. $A, B \\in \\mathcal{A} \\Rightarrow A \\cup B \\in \\mathcal{A}$ (Stabilität/Abgeschlossenheit bezüglich Vereinigung)\n",
        "\n",
        "3. $A \\in \\mathcal{A} \\Rightarrow A^{\\mathrm{c}} \\in \\mathcal{A}$ (Stabilität/Abgeschlossenheit bezüglich Komplementbildung $\\left.A^{c}=\\Omega \\backslash A\\right)$"
      ]
    },
    {
      "cell_type": "markdown",
      "metadata": {
        "id": "E_ksvdizjJS-",
        "colab_type": "text"
      },
      "source": [
        "* In der Mathematik ist (Mengen-)Algebra ein Grundbegriff der Maßtheorie. Er beschreibt ein nicht-leeres Mengensystem, das vereinigungs- und komplementstabil ist.\n",
        "\n",
        "* A field of sets is a **pair ⟨X,F⟩** where X is a set and F is an algebra over X i.e., a subset of the power set of X, closed under complements of individual sets and under the union (hence also under the intersection) of pairs of sets, and satisfying X ∈ F. \n",
        "\n",
        "* In other words, F forms a subalgebra of the power set Boolean algebra of X (with the same identity element X ∈ F). (Many authors refer to F itself as a field of sets.) \n",
        "\n",
        "* **Elements of X are called points and those of F are called complexes and are said to be the admissible sets of X.**"
      ]
    },
    {
      "cell_type": "markdown",
      "metadata": {
        "id": "paRO-7ajId2V",
        "colab_type": "text"
      },
      "source": [
        "* For arbitrary set $Y$, its power set (Potenzmenge) $2^{Y}$ (or, somewhat pedantically, the pair $\\left\\langle Y, 2^{Y}\\right\\rangle$ of this set and its power set) is a field of sets. \n",
        "\n",
        "* If $Y$ is finite (namely, $n$ -element), then $2^{Y}$ is finite (namely, $2^{n}$ element). \n",
        "\n",
        "* It appears that every finite field of sets (it means, $\\langle X, \\mathcal{F}\\rangle$ with $\\mathcal{F}$ finite, while $X$ may be infinite) admits a representation of the form $\\left\\langle Y, 2^{Y}\\right\\rangle$ with finite $Y ;$ it means a function $f: X \\rightarrow Y$ that establishes a one-to-one correspondence between $\\mathcal{F}$ and $2^{Y}$ via inverse image:\n",
        "$S=f^{-1}[B]=\\{x \\in X \\mid f(x) \\in B\\}$ where $S \\in \\mathcal{F}$ and $B \\in 2^{Y}$ (that is, $B \\subset Y$ ). \n",
        "\n",
        "* One notable consequence: the number of complexes, if finite, is always of the form $2^{n}$."
      ]
    },
    {
      "cell_type": "markdown",
      "metadata": {
        "id": "JqkRhwrZHSGp",
        "colab_type": "text"
      },
      "source": [
        "**Beispiele für Algebra**"
      ]
    },
    {
      "cell_type": "markdown",
      "metadata": {
        "id": "8AFXRKkuHYNd",
        "colab_type": "text"
      },
      "source": [
        "* Für jede beliebige Menge $\\Omega$ ist $\\{\\emptyset, \\Omega\\}$ die kleinste und die Potenzmenge $\\mathcal{P}(\\Omega)$ die größtmögliche Mengenalgebra.\n",
        "* Jede $\\sigma$ -Algebra ist eine Mengenalgebra.\n",
        "* Für jede Menge $\\Omega$ ist das Mengensystem $\\mathcal{A}=\\left\\{A \\subseteq \\Omega \\mid A \\text { endlich oder } A^{c} \\text { endlich }\\right\\}$ eine Mengenalgebra. Wenn $\\Omega$ unendich ist, dann ist $\\mathcal{A}$ keine $\\sigma$ -Algebra."
      ]
    },
    {
      "cell_type": "markdown",
      "metadata": {
        "id": "ded5mK7pcYoX",
        "colab_type": "text"
      },
      "source": [
        "**Separative and compact fields of sets: towards Stone duality**"
      ]
    },
    {
      "cell_type": "markdown",
      "metadata": {
        "id": "p7fxFxMgcbMU",
        "colab_type": "text"
      },
      "source": [
        "* A field of sets is called **separative (or differentiated)** if and only if for every pair of distinct points there is a complex containing one and not the other.\n",
        "\n",
        "* A field of sets is called **compact** if and only if for every proper filter over X the intersection of all the complexes contained in the filter is non-empty."
      ]
    },
    {
      "cell_type": "markdown",
      "metadata": {
        "id": "7JL_pBvidGa5",
        "colab_type": "text"
      },
      "source": [
        "Given a field of sets $\\mathbf{X}=\\langle X, \\mathcal{F}\\rangle$ the complexes form a base for a topology. We denote by $T(\\mathbf{X})$ the corresponding topological space, $\\langle X, \\mathcal{T}\\rangle$ where $\\mathcal{T}$ is the topology formed by taking arbitrary unions of complexes. Then\n",
        "\n",
        "1. $T(\\mathbf{X})$ is always a [zero-dimensional space](https://en.m.wikipedia.org/wiki/Zero-dimensional_space)\n",
        "\n",
        "2. $T(\\mathbf{X})$ is a [Hausdorff space](https://en.m.wikipedia.org/wiki/Hausdorff_space) if and only if $\\mathbf{X}$ is separative.\n",
        "\n",
        "3. $T(\\mathbf{X})$ is a compact space with compact open sets $\\mathcal{F}$ if and only if $\\mathbf{X}$ is compact.\n",
        "\n",
        "4. $T(\\mathbf{X})$ is a Boolean space with clopen sets $\\mathcal{F}$ if and only if $\\mathbf{X}$ is both separative and compact (in which case it is described as being descriptive)"
      ]
    },
    {
      "cell_type": "markdown",
      "metadata": {
        "id": "6I7YepgQlABC",
        "colab_type": "text"
      },
      "source": [
        "https://en.m.wikipedia.org/wiki/Field_of_sets"
      ]
    },
    {
      "cell_type": "markdown",
      "metadata": {
        "id": "Vc8T8hpoiWFR",
        "colab_type": "text"
      },
      "source": [
        "##### **σ-algebra (Sigma Algebra)**"
      ]
    },
    {
      "cell_type": "markdown",
      "metadata": {
        "id": "hbXQyLk2hrd6",
        "colab_type": "text"
      },
      "source": [
        "If an algebra over a **set is closed under countable unions** (hence also under countable intersections), it is called a **sigma algebra** and **the corresponding field of sets (Mengensystem) is called a measurable space**. The complexes of a measurable space are called measurable sets."
      ]
    },
    {
      "cell_type": "markdown",
      "metadata": {
        "id": "PBHuPNh-iYrR",
        "colab_type": "text"
      },
      "source": [
        "* **A measure space is a triple $\\langle X, \\mathcal{F}, \\mu\\rangle$ where $\\langle X, \\mathcal{F}\\rangle$ is a measurable space and $\\mu$ is a measure defined on it.** (Alternative: $\\langle$ Ω , $\\mathcal{F}$, $\\mu$ $\\rangle$)\n",
        "\n",
        "* If $\\mu$ is in fact a probability measure we speak of a probability space and call its underlying measurable space a sample space. \n",
        "\n",
        "* The points of a sample space are called samples and represent potential outcomes while the measurable sets (complexes) are called events and represent properties of outcomes for which we wish to assign probabilities. (Many use the term sample space simply for the underlying set of a probability space, particularly in the case where every subset is an event.) \n",
        "\n",
        "* Measure spaces and probability spaces play a foundational role in measure theory and probability theory respectively."
      ]
    },
    {
      "cell_type": "markdown",
      "metadata": {
        "id": "X1Lw-DP0jMwK",
        "colab_type": "text"
      },
      "source": [
        "https://de.m.wikipedia.org/wiki/Algebra_(Mengensystem)"
      ]
    },
    {
      "cell_type": "markdown",
      "metadata": {
        "id": "-jNczSdWjYRG",
        "colab_type": "text"
      },
      "source": [
        "https://de.m.wikipedia.org/wiki/Algebraische_Struktur"
      ]
    },
    {
      "cell_type": "markdown",
      "metadata": {
        "id": "rYkkBbjsRFFG",
        "colab_type": "text"
      },
      "source": [
        "**Pain Point**\n",
        "\n",
        "* How to define a messbare Menge?\n",
        "\n",
        "* Wenn wir eine Menge aus den reellen Zahlen haben und mochten eine Teilbereich [a bis b] messen, dann brauchen wir einen allgemeinen Massbegriff unabhangig von der konkreten Menge. Hier kommt Masstheorie und Sigma-Algebra."
      ]
    },
    {
      "cell_type": "markdown",
      "metadata": {
        "id": "ylmaHPVWRK9l",
        "colab_type": "text"
      },
      "source": [
        "**Definition**"
      ]
    },
    {
      "cell_type": "markdown",
      "metadata": {
        "id": "YfU7qMaHRHrJ",
        "colab_type": "text"
      },
      "source": [
        "* A σ-algebra defines the **set of events that can be measured**, which in a probability context is equivalent to events that can be discriminated, or \"questions that can be answered at time t\".\n",
        "\n",
        "* Exkurs: Ergebnis vs Ereignis. Die möglichen Ausgänge eines Zufallsexperimentes nennt man **Ergebnisse** (zB auf einem Wüfel die Zahlen 1,2,3..). Wenn man alle möglichen Ergebnisse eines Zufallsexperimentes in einer Menge zusammenfasst, erhält man die **Ergebnismenge**. Sie wird üblicherweise mit dem Symbol Ω (sprich Omega) bezeichnet. Beim Würfeln ist Ω= {1; 2; 3; 4; 5; 6} die Ergebnismenge. Jede Zusammenfassung von einem oder mehreren Ergebnissen eines Zufallsexperimentes in einer Menge nennt man **Ereignis** (zB auf einem Würfel die Menge an geraden Zahlen {2,4,6} und ungeraden Zahlen {1,3,5}.\n",
        "\n",
        "* Eine Sigma-Algebra F ist ein System, um alle möglichen **Ereignisse** (nicht Ergebnisse!) eines Zufallsexperiment zu beschreiben. Ereignisse sind an sich selbst Mengen, die man wie jede Menge vereinigen oder schneiden bzw. auch das Komplement bilden kann um so das Gegenereignis zu erhalten. Fasst man hier alle möglichen Kombinationen an Ereignissen in einer Menge zusammen, bekommt man eine Menge, die wiederum Mengen als Elemente enthält - eine Menge von Mengen sozusagen. Oft sagt man dazu auch einfach Mengensystem. Welche Eigenschaften ein Mengensystem genau haben muss, damit es eine Sigma-Algebra ist steht weiter unten.\n",
        "\n",
        "* Beispiel: Glücksrad mit blau, rot und grün. Dann haben wir folglich drei Ergebnisse, die wir auch abkürzen können: Ω={B,R,G}. Generell kann man sich schon merken: Ω und ∅ sind immer Elemente einer Sigma-Algebra. Daher haben wir hier 8 mögliche Teilmengen von Ω, die wir als Ereignis betrachten können und demnach als Menge in der Sigma-Algebra zusammenfassen (Potenzmenge von Omega): F ={∅, {B}, {R}, {G}, {B,R}, {B,G}, {R,G}, {B,R,G}} ([Source](https://www.massmatics.de/merkzettel/#!876:Ereignisraum_&_Sigma-Algebra)).\n",
        "\n",
        "* Bei diskreten Ergebnismengen kann man für die Sigma-Algebra immer die Potenzmenge P(Ω)nehmen und hat demnach dann stets diesen **Ereignisraum: (Ω,P(Ω))**\n",
        "\n",
        "* Und für die reellen Zahlen gibt es die sogenannte **Borelsche Sigma-Algebra B**, die man dann auch in der Regel benutzt. Ist die Ergebnismenge Ω eine Teilmenge der reellen Zahlen (oder ℝ selbst), so nehmen wir die Borelsche-Sigma B und der Ereignisraum lautet (Ω,B).\n",
        "\n",
        "* Wenn wir eine Sigma Algebra A gegeben haben, dann heisst jede Teilmenge in diesem Mengensystem (jedes Element aus dieser Sigma Algebra A) eine messbare Teilmenge (=die Mengen die wir messen wollen).\n",
        "\n",
        "* **<u>Die Elemente der Sigma Algebra sind die messbaren Teilmengen von unserer Grundmenge X</u>** (Und messbar ist der wesentliche Begriff). Das ist zB die Menge an vergangenen Trading-Events am Finanzmarkt bis zum Zeitpunkt t.\n",
        "\n",
        "* Sigma Algebra ist ein **Mengensystem von einer Teilmenge einer gegebenen Grundmenge** = der Raum, **den wir beschreiben wollen** (mit drei Eigenschaften). Die Menge einer Sigma-Algebra nennt man „**messbare Teilmengen**“."
      ]
    },
    {
      "cell_type": "markdown",
      "metadata": {
        "id": "6auD5Yi3ROPL",
        "colab_type": "text"
      },
      "source": [
        "**Eigenschaften**"
      ]
    },
    {
      "cell_type": "markdown",
      "metadata": {
        "id": "Dt5X24zGRPv2",
        "colab_type": "text"
      },
      "source": [
        "**A $\\subseteq$ P(X) (=Potenzmenge) heisst Sigma Algebra, wenn gilt** (Die Mengen, die in dieser Sigma Algebra liegen, das sind jene, die folgende drei Eigenschaften erfüllen, und sind die, die wir messen wollen (=diesen Mengen wollen wir ein Mass zuordnen). Potenzmenge selbst soll eine Sigma Algebra sein. Sollten gewissen Eigenschaften der Potenzmenge fordern). **<u>A collection of subsets</u> A is called a σ-algebra on a set X if the following properties are met:**\n",
        "\n",
        "1. **A contains X (the set itself)**: $\\quad \\phi, X \\in A$ (Leere Menge (sollte Länge oder Volumen Null haben) und ganze Grundmenge selbst haben wir im Mengensystem / sollen messbar sein. Das ist was Sigma Algebra sagt). **Ω ∈ F (Ergebnismenge muss enthalten sein)**\n",
        "\n",
        "2. **If A contains a subset S, then A also contains the complement of S**: $A \\in A \\Rightarrow A^{c}:=X \\backslash A \\in A$ (Irgendein Element in der Algebra: dann sollte auch dessen Komplement im Mengensystem enthalten sein.) Hiermit ist auch Regel 1 eingeschlossen! Deswegen liegt auch die leere Menge (Gegenereignis von Ω) in F.\n",
        "\n",
        "3. **Consider a countable collection of subsets. If each subset is included in A, then A must also contain their reunion.**: $A_{i} \\in A$ fur i $\\in N \\Rightarrow \\bigcup_{i=1}^{\\infty} A_{i} \\in A$ ((Letzter Punkt macht das Sigma aus): Abzählbarkeit, abzählbare Summe (A i‘s aus unseren Mengensystem A): wir haben endlich viele bzw. abzählbar viele, dann können wir die Vereinigung bilden / abziehbare Vereinigung. Die abzählbare Vereinigung soll wieder in der Sigma Algebra liegen = Wenn wir Längen haben, dann sollten wir die auch addieren können, auch wenn sich die Addition bis unendlich streckt! (blick auf messbarkeit))"
      ]
    },
    {
      "cell_type": "markdown",
      "metadata": {
        "id": "4wNxurifRQLG",
        "colab_type": "text"
      },
      "source": [
        "Having defined such a σ-algebra A, we call **the elements of σ-algebra A measurable sets** and the couple (X, A) a measurable space. An arbitrary set X can be a member of a multitude of σ-algebras. We denote the set of all σ-algebras that contain X with M(X). The **intersection of all those σ-algebras is called the σ-algebra generated by X**.\n",
        "\n",
        "**A σ-algebra (also σ-field) on a set X is a collection Σ of subsets of X that includes X itself, is closed under complement, and is closed under countable unions**. The definition implies that it also includes the empty subset and that it is closed under countable intersections. The pair (X, Σ) is called a measurable space or Borel space. A σ-algebra is a type of algebra of sets. An algebra of sets needs only to be closed under the union or intersection of finitely many subsets, which is a weaker condition."
      ]
    },
    {
      "cell_type": "markdown",
      "metadata": {
        "id": "dkTiCKMcRUGB",
        "colab_type": "text"
      },
      "source": [
        "**Borel‘sche Sigma-Algebra**\n",
        "\n",
        "* T ist ein topologischer Raum (oder ein metrischer Raum im engeren Sinn.) und X eine Menge darin. „Offene Mengen“.\n",
        "\n",
        "* Die Borel’sche Sigma Algebra auf topologischen Raum X ist jene kleinste Sigma Algebra, die von den offenen Mengen erzeugt wird. \n",
        "\n",
        "* B(X) := (T)"
      ]
    },
    {
      "cell_type": "markdown",
      "metadata": {
        "id": "oVtVUBW1RWUN",
        "colab_type": "text"
      },
      "source": [
        "**Measurable function**\n",
        "\n",
        "* **A set is measurable when it’s included in a σ-algebra.**\n",
        "\n",
        "* We can also extend the “measurable” attribute to functions. Here’s how:\n",
        "\n",
        "* Let’s consider (X, A) and (Y, B) two measurable spaces. A function f from A to B is called measurable if every set from B comes from applying f to a set from A. Formally, we say that for any element S of B, the pre-image of S under the function f is in A.\n"
      ]
    },
    {
      "cell_type": "markdown",
      "metadata": {
        "id": "-ppJ9Jx6SH74",
        "colab_type": "text"
      },
      "source": [
        "**Application**"
      ]
    },
    {
      "cell_type": "markdown",
      "metadata": {
        "id": "LXrGhC2HSKTh",
        "colab_type": "text"
      },
      "source": [
        "* The main use of σ-algebras is in the definition of measures; specifically, the collection of those subsets for which a given measure is defined is necessarily a σ-algebra. \n",
        "\n",
        "* This concept is important in mathematical analysis as the **foundation for Lebesgue integration**, and in probability theory, where it is **interpreted as the collection of events which can be assigned probabilities**. \n",
        "\n",
        "* Also, **in probability, σ-algebras are pivotal in the definition of conditional expectation**.\n",
        "\n",
        "* In statistics, (sub) σ-algebras are needed for the formal mathematical definition of a sufficient statistic, particularly when the statistic is a function or a random process and the notion of conditional density is not applicable."
      ]
    },
    {
      "cell_type": "markdown",
      "metadata": {
        "id": "759BrNmbSOQz",
        "colab_type": "text"
      },
      "source": [
        "**Examples**"
      ]
    },
    {
      "cell_type": "markdown",
      "metadata": {
        "id": "ueaKd0bbSPj-",
        "colab_type": "text"
      },
      "source": [
        "1. **Minimum**: Sigma Algebra A enthält leere Menge und Grundmenge selbst (kleinste Sigma Algebra die möglich ist): A = {𝜙,X}\n",
        "2. **Maximum**: Sigma Algebra enthält die Potenzmenge (beinhaltet alle Teilmengen von X): A = P(X)"
      ]
    },
    {
      "cell_type": "markdown",
      "metadata": {
        "id": "qrpgaCc5SSQx",
        "colab_type": "text"
      },
      "source": [
        "* If {A1, A2, A3, …} is a countable partition of X then the **collection of all unions of sets in the partition** (including the empty set) is a σ-algebra.\n",
        "\n",
        "* A more useful example is the set of subsets of the real line formed by starting with all open intervals and adding in all countable unions, countable intersections, and relative complements and continuing this process (by transfinite iteration through all countable ordinals) until the relevant closure properties are achieved - the σ-algebra produced by this process is known as the Borel algebra on the real line, and can also be conceived as the smallest (i.e. \"coarsest\") σ-algebra containing all the open sets, or equivalently containing all the closed sets. It is foundational to measure theory, and therefore modern probability theory, and a related construction known as the Borel hierarchy is of relevance to descriptive set theory."
      ]
    },
    {
      "cell_type": "markdown",
      "metadata": {
        "id": "dJz4ybz4SVKh",
        "colab_type": "text"
      },
      "source": [
        "https://medium.com/towards-artificial-intelligence/what-is-measure-theory-67c281f8a094"
      ]
    },
    {
      "cell_type": "markdown",
      "metadata": {
        "id": "6lpI5kfOLtNq",
        "colab_type": "text"
      },
      "source": [
        "##### **Special Sets**"
      ]
    },
    {
      "cell_type": "markdown",
      "metadata": {
        "id": "B0pnswdgLu79",
        "colab_type": "text"
      },
      "source": [
        "* One of these is the **empty set**, denoted { } or ∅.\n",
        "\n",
        "* A set with exactly one element, x, is a **unit set, or singleton**, {x}.\n",
        "\n",
        "* P or ℙ, denoting the set of all primes: P = {2, 3, 5, 7, 11, 13, 17, ...}.\n",
        "\n",
        "* N, denoting the set of all natural numbers: N = {0, 1, 2, 3, ...} (sometimes defined excluding 0).\n",
        "\n",
        "* Z, denoting the set of all integers (whether positive, negative or zero): Z = {..., −2, −1, 0, 1, 2, ...}.\n",
        "\n",
        "* .. until Quaternions!"
      ]
    },
    {
      "cell_type": "markdown",
      "metadata": {
        "id": "JpJcpo3FMagQ",
        "colab_type": "text"
      },
      "source": [
        "**Cartesian Product**"
      ]
    },
    {
      "cell_type": "markdown",
      "metadata": {
        "id": "ZlwJIH7PMdTC",
        "colab_type": "text"
      },
      "source": [
        "* A new set can be constructed by associating every element of one set with every element of another set. \n",
        "\n",
        "* The Cartesian product of two sets A and B, denoted by A × B is the set of all ordered pairs (a, b) such that a is a member of A and b is a member of B.\n",
        "\n",
        "* For example: {1, 2} × {1, 2} = {(1, 1), (1, 2), (2, 1), (2, 2)}.\n"
      ]
    },
    {
      "cell_type": "markdown",
      "metadata": {
        "id": "7lFbg9u72bz9",
        "colab_type": "text"
      },
      "source": [
        "https://en.m.wikipedia.org/wiki/Set_(mathematics)"
      ]
    },
    {
      "cell_type": "markdown",
      "metadata": {
        "id": "_5YZoVb2eOaK",
        "colab_type": "text"
      },
      "source": [
        "**Miscellaneous**"
      ]
    },
    {
      "cell_type": "markdown",
      "metadata": {
        "id": "AvvlxJOUeNxB",
        "colab_type": "text"
      },
      "source": [
        "http://settheory.net/sets/time-in-set-theory"
      ]
    },
    {
      "cell_type": "markdown",
      "metadata": {
        "id": "_eC1wGo3_nDk",
        "colab_type": "text"
      },
      "source": [
        "**Complete metric space (Cauchy Space)**"
      ]
    },
    {
      "cell_type": "markdown",
      "metadata": {
        "id": "OralSlIa_qwe",
        "colab_type": "text"
      },
      "source": [
        "https://en.m.wikipedia.org/wiki/Complete_metric_space"
      ]
    },
    {
      "cell_type": "markdown",
      "metadata": {
        "id": "Hakve64ge6r7",
        "colab_type": "text"
      },
      "source": [
        "##### **Cardinality (Mächtigkeit)**"
      ]
    },
    {
      "cell_type": "markdown",
      "metadata": {
        "id": "yAxgYlbte-Cw",
        "colab_type": "text"
      },
      "source": [
        "* Die Mächtigkeit einer  Menge  M mit endlich vielen Elementen ist die Anzahl ihrer Elemente. Man schreibt für die Mächtigkeit einer Menge M entweder ∣M∣ oder #M.\n",
        "\n",
        "* Die Mächtigkeit der Potenzmenge einer Menge A, ist: 𝒫(A)=2<sup>∣A∣</sup>. Ein Beispiel für eine Potenzmenge ist der Ereignisraum."
      ]
    },
    {
      "cell_type": "markdown",
      "metadata": {
        "id": "aiwmFdY0vEln",
        "colab_type": "text"
      },
      "source": [
        "https://en.m.wikipedia.org/wiki/Cardinality"
      ]
    },
    {
      "cell_type": "markdown",
      "metadata": {
        "id": "Wc07l69FcrFL",
        "colab_type": "text"
      },
      "source": [
        "**Representing subsets as functions**"
      ]
    },
    {
      "cell_type": "markdown",
      "metadata": {
        "id": "B3AhcVapcgvw",
        "colab_type": "text"
      },
      "source": [
        "* In set theory, X<sup>Y</sup> is the set of all functions from Y to X. As \"2\" can be defined as {0,1} (see natural number), 2S (i.e., {0,1}S) is the set of all functions from S to {0,1}.\n",
        "\n",
        "* By identifying a function in 2S with the corresponding preimage of 1, we see that there is a bijection between 2S and P(S), where each function is the characteristic function of the subset in P(S) with which it is identified.\n",
        "\n",
        "* Hence 2S and P(S) could be considered identical set-theoretically. (Thus there are two distinct notational motivations for denoting the power set by 2S: the fact that this function-representation of subsets makes it a special case of the XY notation and the property, mentioned above, that |2S| = 2|S|.)"
      ]
    },
    {
      "cell_type": "markdown",
      "metadata": {
        "id": "YKW5uEo1K-yG",
        "colab_type": "text"
      },
      "source": [
        "https://en.m.wikipedia.org/wiki/Surjective_function"
      ]
    },
    {
      "cell_type": "markdown",
      "metadata": {
        "id": "N5Q3MF-IBrBk",
        "colab_type": "text"
      },
      "source": [
        "#### **Intervals**"
      ]
    },
    {
      "cell_type": "markdown",
      "metadata": {
        "id": "HetfnkP5J4fw",
        "colab_type": "text"
      },
      "source": [
        "* **An interval is a set that consists of all real numbers between a given pair of numbers**. \n",
        "\n",
        "* (And: A set is a collection of objects. Each object in the set is called an element of the set.)\n",
        "\n",
        "* It can also be thought of as a segment of the real number line. An endpoint of an interval is either of the two points that mark the end of the line segment.\n",
        "\n",
        "* **Real intervals play an important role in the theory of [integration](https://en.m.wikipedia.org/wiki/Integral) because they are the simplest sets whose \"size\" or \"measure\" or \"length\" is easy to define**. The concept of measure can then be extended to more complicated sets of real numbers, leading to the Borel measure and eventually to the Lebesgue measure."
      ]
    },
    {
      "cell_type": "markdown",
      "metadata": {
        "id": "U3m-bY6UdJet",
        "colab_type": "text"
      },
      "source": [
        "https://en.m.wikipedia.org/wiki/Interval_(mathematics)#Terminology"
      ]
    },
    {
      "cell_type": "markdown",
      "metadata": {
        "id": "F8WsVOHgKSQv",
        "colab_type": "text"
      },
      "source": [
        "https://calculus.nipissingu.ca/tutorials/sets.html"
      ]
    },
    {
      "cell_type": "markdown",
      "metadata": {
        "id": "Tg38GpUXChNN",
        "colab_type": "text"
      },
      "source": [
        "Ein Intervall kann (beidseitig) beschränkt oder – auch einseitig – unbeschränkt sein. Es ist durch seine untere und seine obere Intervallgrenze eindeutig bestimmt, wenn zusätzlich angegeben wird, ob diese Grenzen im Intervall enthalten sind.\n",
        "\n",
        "Es gibt zwei verschiedene häufig verwendete Intervallschreibweisen:\n",
        "\n",
        "* **Bei der häufigeren der beiden verwendet man für Grenzen, die zum Intervall gehören, eckige Klammern und runde für Grenzen, die nicht zum Intervall gehören. Die eckigen Klammern entsprechen einem schwachen Ungleichheitszeichen ≤. Die runden Klammern () entsprechen einem starken Ungleichheitszeichen <.**\n",
        "\n",
        "* Bei der anderen Schreibweise werden statt der runden Klammern nach außen gewendete (gespiegelte) eckige verwendet. Im Folgenden werden beide Schreibweisen gezeigt und der Mengenschreibweise gegenübergestellt:"
      ]
    },
    {
      "cell_type": "markdown",
      "metadata": {
        "id": "2yFR-a14Btbs",
        "colab_type": "text"
      },
      "source": [
        "https://de.m.wikipedia.org/wiki/Intervall_(Mathematik)"
      ]
    },
    {
      "cell_type": "markdown",
      "metadata": {
        "id": "_2-R7L7ToMWN",
        "colab_type": "text"
      },
      "source": [
        "**Unit Intervall**"
      ]
    },
    {
      "cell_type": "markdown",
      "metadata": {
        "id": "jlTM7Cb6oTjP",
        "colab_type": "text"
      },
      "source": [
        "The unit interval is the closed interval [0,1], that is, the set of all real numbers that are greater than or equal to 0 and less than or equal to 1. It is often denoted I (capital letter I). In addition to its role in real analysis, the unit interval is used to study [homotopy theory](https://en.m.wikipedia.org/wiki/Homotopy_theory) in the field of topology."
      ]
    },
    {
      "cell_type": "markdown",
      "metadata": {
        "id": "O0ZlwIDpoPTl",
        "colab_type": "text"
      },
      "source": [
        "https://en.m.wikipedia.org/wiki/Unit_interval"
      ]
    },
    {
      "cell_type": "markdown",
      "metadata": {
        "id": "WYqXPG4GK4NL",
        "colab_type": "text"
      },
      "source": [
        "#### **Intervals & Builder Notation of Sets**"
      ]
    },
    {
      "cell_type": "markdown",
      "metadata": {
        "id": "eMpkKVVJLovf",
        "colab_type": "text"
      },
      "source": [
        "##### **Interval Notation**"
      ]
    },
    {
      "cell_type": "markdown",
      "metadata": {
        "id": "1maUQc7GEyfH",
        "colab_type": "text"
      },
      "source": [
        "Linksseitig unendliches abgeschlossenes Intervall\n",
        "\n",
        ">$(-\\infty, b]=]-\\infty, b]:=\\{x \\in \\mathbb{R} \\mid x \\leq b\\}$\n",
        "\n",
        "Es enthält alle Zahlen, die kleiner oder gleich $b$ sind.\n",
        "\n",
        "\n",
        "Linksseitig unendliches offenes Intervall\n",
        "\n",
        ">$(-\\infty, b)=]-\\infty, b[:=\\{x \\in \\mathbb{R} \\mid x<b\\}$\n",
        "\n",
        "Es enthält alle Zahlen, die kleiner als $b$ sind.\n",
        "\n",
        "\n",
        "Rechtsseitig unendliches abgeschlossenes Intervall\n",
        "\n",
        ">$[a, \\infty)=[a, \\infty[:=\\{x \\in \\mathbb{R} \\mid a \\leq x\\}$\n",
        "\n",
        "Es enthält alle Zahlen, die größer oder gleich $a$ sind.\n",
        "\n",
        "\n",
        "Rechtsseitig unendliches offenes Intervall\n",
        "\n",
        ">$(a, \\infty)=] a, \\infty[:=\\{x \\in \\mathbb{R} \\mid a<x\\}$\n",
        "\n",
        "Es enthält alle Zahlen, die größer als $a$ sind.\n",
        "\n",
        "Beidseitig unendliches offenes (und zugleich abgeschlossenes) Intervall $(-\\infty, \\infty)=]-\\infty, \\infty[:=\\mathbb{R}$"
      ]
    },
    {
      "cell_type": "markdown",
      "metadata": {
        "id": "nEWOiZVNE3-6",
        "colab_type": "text"
      },
      "source": [
        "https://de.m.wikipedia.org/wiki/Intervall_(Mathematik)"
      ]
    },
    {
      "cell_type": "markdown",
      "metadata": {
        "id": "kfZFMi-aLj5L",
        "colab_type": "text"
      },
      "source": [
        "##### **Set-Builder Notation**"
      ]
    },
    {
      "cell_type": "markdown",
      "metadata": {
        "id": "GqqSZF6_1vLl",
        "colab_type": "text"
      },
      "source": [
        "In set-builder notation, the set is specified as a subset of a larger set, where the subset is determined by a statement or condition involving the elements. For example, a set F can be specified as follows:\n",
        "\n",
        "> $F=\\{n \\mid n \\text { is an integer, and } 0 \\leq n \\leq 19\\}$\n",
        "\n",
        "* In this notation, the vertical bar (\"|\") means \"such that\", and the description can be interpreted as \n",
        "* **\"F is the set of all numbers n, such that n is an integer in the range from 0 to 19 inclusive\"**\n",
        "* Sometimes the colon (\":\") is used instead of the vertical bar."
      ]
    },
    {
      "cell_type": "markdown",
      "metadata": {
        "id": "_p3n4Hv7OhP0",
        "colab_type": "text"
      },
      "source": [
        "https://en.m.wikipedia.org/wiki/Set-builder_notation"
      ]
    },
    {
      "cell_type": "markdown",
      "metadata": {
        "id": "35Q6nQcsLuPW",
        "colab_type": "text"
      },
      "source": [
        "##### **Interval & Set-Builder Notation**"
      ]
    },
    {
      "cell_type": "markdown",
      "metadata": {
        "id": "soJoIll8LJRY",
        "colab_type": "text"
      },
      "source": [
        "![alternativer Text](https://raw.githubusercontent.com/deltorobarba/machinelearning/master/set_notation.GIF)"
      ]
    },
    {
      "cell_type": "markdown",
      "metadata": {
        "id": "xb6RBJTvLT_r",
        "colab_type": "text"
      },
      "source": [
        "https://calculus.nipissingu.ca/tutorials/sets.html"
      ]
    },
    {
      "cell_type": "markdown",
      "metadata": {
        "id": "_64OqlKfZXqZ",
        "colab_type": "text"
      },
      "source": [
        "#### **Mengen vs Folgen vs Reihen**"
      ]
    },
    {
      "cell_type": "markdown",
      "metadata": {
        "id": "TSY3yWUkZo42",
        "colab_type": "text"
      },
      "source": [
        "##### **Folgen (Sequence)**"
      ]
    },
    {
      "cell_type": "markdown",
      "metadata": {
        "id": "Pwj4PP5AZsQ0",
        "colab_type": "text"
      },
      "source": [
        "Bei folgen haben die Elemente eine Reihenfolge. Die Elemente werden im Grunde durchnummeriert.\n",
        "\n",
        "Im Gegensatz dazu haben die Elemente in einer Menge keine Reihenfolge und es ist auch egal wie oft ein Element auftritt.\n",
        "\n",
        "Beispielsweise sind die Mengen\n",
        "\n",
        "{0, 1, 2, 3, 4, 5, ...},\n",
        "\n",
        "{1, 0, 2, 3, 4, 5, ...},\n",
        "\n",
        "{0, 0, 1, 2, 3, 4, 5, ...}\n",
        "\n",
        "paarweise gleich.\n",
        "\n",
        "Die Folgen\n",
        "\n",
        "(0, 1, 2, 3, 4, 5, ...),\n",
        "\n",
        "(1, 0, 2, 3, 4, 5, ...),\n",
        "\n",
        "(0, 0, 1, 2, 3, 4, 5, ...)\n",
        "\n",
        "sind hingegegen paarweise verschieden.\n",
        "\n",
        "Formal sind (unendliche) Folgen als Abbildungen von den natürlichen Zahlen in irgendeine Menge definiert. Der Graph dieser Abbildung ist dann eine Menge mit der man die Folge beschreiben kann. So könnte man beispielsweise eine Folge\n",
        "\n",
        "(1, 23, 45, 67, ...)\n",
        "\n",
        "in den ganzen Zahlen durch die Menge\n",
        "\n",
        "{(1, 1), (2, 23), (3, 45), (4, 67), ...}\n",
        "\n",
        "beschreiben. Die Menge {(1, 1), (2, 23), (3, 45), (4, 67), ...} beschreibt dann zwar in gewissem Sinne die Folge, ist aber genau genommen nicht gleich der Folge, sondern gleich dem Graphen der Folge.\n",
        "\n"
      ]
    },
    {
      "cell_type": "markdown",
      "metadata": {
        "id": "wIrXXDjaamLN",
        "colab_type": "text"
      },
      "source": [
        "Aus Folgen können die Folgenräume gebildet werden"
      ]
    },
    {
      "cell_type": "markdown",
      "metadata": {
        "id": "PGND01EhZ25h",
        "colab_type": "text"
      },
      "source": [
        "https://de.m.wikipedia.org/wiki/Folge_(Mathematik)"
      ]
    },
    {
      "cell_type": "markdown",
      "metadata": {
        "id": "bT0Lvp97apXJ",
        "colab_type": "text"
      },
      "source": [
        "https://de.m.wikipedia.org/wiki/Folgenraum"
      ]
    },
    {
      "cell_type": "markdown",
      "metadata": {
        "id": "jrUUvLPjZkeD",
        "colab_type": "text"
      },
      "source": [
        "##### **Reihen (Series)**"
      ]
    },
    {
      "cell_type": "markdown",
      "metadata": {
        "id": "kWzfC8neZno8",
        "colab_type": "text"
      },
      "source": [
        "Reihen sind im Grunde spezielle Folgen, bei denen die Folgenglieder gleich Partialsummen der Glieder einer anderen Folge sind.\n",
        "Reihen betrachtet man deshalb, weil man gerne Summen mit (abzählbar) unendlich vielen Summanden beschreiben möchte."
      ]
    },
    {
      "cell_type": "markdown",
      "metadata": {
        "id": "OzU0RA5qZ92x",
        "colab_type": "text"
      },
      "source": [
        "https://de.m.wikipedia.org/wiki/Reihe_(Mathematik)"
      ]
    },
    {
      "cell_type": "markdown",
      "metadata": {
        "id": "Q1xgu3v2zzcT",
        "colab_type": "text"
      },
      "source": [
        "#### **Point-Set Topology**"
      ]
    },
    {
      "cell_type": "markdown",
      "metadata": {
        "id": "3f92e2-6-Jar",
        "colab_type": "text"
      },
      "source": [
        "General topology is the branch of topology that deals with the basic set-theoretic definitions and constructions used in topology. It is the foundation of most other branches of topology, including differential topology, geometric topology, and algebraic topology. Another name for general topology is **point-set topology**."
      ]
    },
    {
      "cell_type": "markdown",
      "metadata": {
        "id": "Vy5f4vGA-Llx",
        "colab_type": "text"
      },
      "source": [
        "The fundamental concepts in point-set topology are continuity, compactness, and connectedness:\n",
        "\n",
        "* **Continuous functions**, intuitively, take nearby points to nearby points.\n",
        "\n",
        "* **Compact sets** are those that can be covered by finitely many sets of arbitrarily small size.\n",
        "\n",
        "* **Connected sets** are sets that cannot be divided into two pieces that are far apart."
      ]
    },
    {
      "cell_type": "markdown",
      "metadata": {
        "id": "f-8bUzrQ_-Kw",
        "colab_type": "text"
      },
      "source": [
        "**Once a choice of open sets is made, the properties of continuity, connectedness, and compactness, which use notions of nearness, can be defined using these open sets.**"
      ]
    },
    {
      "cell_type": "markdown",
      "metadata": {
        "id": "MN_C88QdNgEA",
        "colab_type": "text"
      },
      "source": [
        "* **Point-Set Topology**: The low-level language of topology, which is not really considered a separate \"branch\" of topology. \n",
        "\n",
        "* Point-set topology, also called set-theoretic topology or general topology, is the study of the general abstract nature of continuity or \"closeness\" on spaces. \n",
        "\n",
        "* Basic point-set topological notions are ones like **continuity, dimension, compactness, and connectedness**. The intermediate value theorem (which states that if a path in the real line connects two numbers, then it passes over every point between the two) is a basic topological result. Others are that Euclidean n-space is homeomorphic to Euclidean m-space iff m=n, and that real valued functions achieve maxima and minima on compact sets.\n",
        "\n",
        "* Foundational point-set topological questions are ones like \"when can a topology on a space be derived from a metric?\" Point-set topology deals with differing notions of continuity and compares them, as well as dealing with their properties. \n",
        "\n",
        "* Point-set topology is also the ground-level of inquiry into the geometrical properties of spaces and continuous functions between them, and in that sense, it is the foundation on which the remainder of topology (algebraic, differential, and low-dimensional) stands."
      ]
    },
    {
      "cell_type": "markdown",
      "metadata": {
        "id": "w0flO2bUN65p",
        "colab_type": "text"
      },
      "source": [
        "https://mathworld.wolfram.com/Point-SetTopology.html"
      ]
    },
    {
      "cell_type": "markdown",
      "metadata": {
        "id": "sef3vFPZCbBH",
        "colab_type": "text"
      },
      "source": [
        "## **Properties of Sets**"
      ]
    },
    {
      "cell_type": "markdown",
      "metadata": {
        "id": "9zeKm32B9J-r",
        "colab_type": "text"
      },
      "source": [
        "#### **Continuity**"
      ]
    },
    {
      "cell_type": "markdown",
      "metadata": {
        "id": "Etw-ro6fjQvA",
        "colab_type": "text"
      },
      "source": [
        "A continuous function is a function that does not have any abrupt changes in value, known as discontinuities. More precisely, sufficiently small changes in the input of a continuous function result in arbitrarily small changes in its output."
      ]
    },
    {
      "cell_type": "markdown",
      "metadata": {
        "id": "KBOrGjnQ9P-J",
        "colab_type": "text"
      },
      "source": [
        "https://en.m.wikipedia.org/wiki/Continuous_function"
      ]
    },
    {
      "cell_type": "markdown",
      "metadata": {
        "id": "jnf6EJrp8kCL",
        "colab_type": "text"
      },
      "source": [
        "#### **Connectedness**"
      ]
    },
    {
      "cell_type": "markdown",
      "metadata": {
        "id": "pwl_xdMOMlQb",
        "colab_type": "text"
      },
      "source": [
        "* In topology and related branches of mathematics, **a connected space is a topological space that cannot be represented as the union of two or more disjoint non-empty open subsets**. \n",
        "\n",
        "* Connectedness is one of the principal topological properties that are used to distinguish topological spaces.\n",
        "\n",
        "* **A subset of a topological space X is a connected set if it is a connected space when viewed as a subspace of X.**\n",
        "\n",
        "* A topological space X is said to be disconnected if it is the union of two disjoint non-empty open sets. Otherwise, X is said to be connected. \n",
        "\n",
        "* A subset of a topological space is said to be connected if it is connected under its subspace topology. Some authors exclude the empty set (with its unique topology) as a connected space, but this article does not follow that practice."
      ]
    },
    {
      "cell_type": "markdown",
      "metadata": {
        "id": "sIADllodyMbf",
        "colab_type": "text"
      },
      "source": [
        "**Connected and disconnected subspaces of R²**"
      ]
    },
    {
      "cell_type": "markdown",
      "metadata": {
        "id": "MkJfHSbtx5wY",
        "colab_type": "text"
      },
      "source": [
        "![xx](https://upload.wikimedia.org/wikipedia/commons/thumb/1/16/Simply_connected%2C_connected%2C_and_non-connected_spaces.svg/192px-Simply_connected%2C_connected%2C_and_non-connected_spaces.svg.png)"
      ]
    },
    {
      "cell_type": "markdown",
      "metadata": {
        "id": "roboDYeix90I",
        "colab_type": "text"
      },
      "source": [
        "* **Connected**: red space A, pink space B, yellow space C and orange space D\n",
        "* **Disconnected**: green space E (made of subsets E1, E2, E3, and E4) \n",
        "* **Simply connected**: A and B (genus 0), \n",
        "* **Not simply connected**: C and D: C has genus 1 and D has genus 4.\n",
        "\n",
        "Genus (Geschlecht): Anzahl der Löcher in einer Fläche (https://de.m.wikipedia.org/wiki/Geschlecht_(Fläche))"
      ]
    },
    {
      "cell_type": "markdown",
      "metadata": {
        "id": "XeEEjEU58mZk",
        "colab_type": "text"
      },
      "source": [
        "https://en.m.wikipedia.org/wiki/Connected_space"
      ]
    },
    {
      "cell_type": "markdown",
      "metadata": {
        "id": "KVfJxtw_faJK",
        "colab_type": "text"
      },
      "source": [
        "#### **Compactness (Closed & Bounded)**"
      ]
    },
    {
      "cell_type": "markdown",
      "metadata": {
        "id": "bkZcyD7ispT2",
        "colab_type": "text"
      },
      "source": [
        "##### **Open & Closed Sets**"
      ]
    },
    {
      "cell_type": "markdown",
      "metadata": {
        "id": "r7nlcTMs9m3u",
        "colab_type": "text"
      },
      "source": [
        "* In mathematics, particularly in topology, an open set is an abstract concept generalizing the idea of an open interval in the real line.\n",
        "\n",
        "* An open interval does not include its endpoints, and is indicated with parentheses. For example, (0,1) means greater than 0 and less than 1. This means (0,1) = {x | 0 < x < 1}. (*\"(0,1) is the set of all numbers x, such that x is an integer in the range greater than 0 to 1 exclusive\"*)\n",
        "\n",
        "* A closed interval is an interval which includes all its limit points, and is denoted with square brackets. For example, [0,1] means greater than or equal to 0 and less than or equal to 1. A half-open interval includes only one of its endpoints, and is denoted by mixing the notations for open and closed intervals. (0,1] means greater than 0 and less than or equal to 1, while [0,1) means greater than or equal to 0 and less than 1.\n",
        "\n",
        "* Once a choice of open sets is made, the properties of continuity, connectedness, and compactness, which use notions of nearness, can be defined using these open sets."
      ]
    },
    {
      "cell_type": "markdown",
      "metadata": {
        "id": "veKZRhxK9ixo",
        "colab_type": "text"
      },
      "source": [
        "https://en.m.wikipedia.org/wiki/Open_set"
      ]
    },
    {
      "cell_type": "markdown",
      "metadata": {
        "id": "Z1P-S-WicOoa",
        "colab_type": "text"
      },
      "source": [
        "https://en.m.wikipedia.org/wiki/Interval_(mathematics)#Terminology"
      ]
    },
    {
      "cell_type": "markdown",
      "metadata": {
        "id": "0MY8GfGbFHno",
        "colab_type": "text"
      },
      "source": [
        "**Abgeschlossene Menge / Intervall**"
      ]
    },
    {
      "cell_type": "markdown",
      "metadata": {
        "id": "Aah6Ybt3BFAo",
        "colab_type": "text"
      },
      "source": [
        "* **A closed set is a set whose complement is an open set.**\n",
        "\n",
        "* In a topological space, a closed set can be defined as a set which contains all its limit points. In a complete metric space, a closed set is a set which is closed under the limit operation.\n",
        "\n",
        "* In a topological space, a set is closed if and only if it coincides with its closure. Equivalently, **a set is closed if and only if it contains all of its limit points**. Yet another equivalent definition is that a set is closed if and only **if it contains all of its boundary points**."
      ]
    },
    {
      "cell_type": "markdown",
      "metadata": {
        "id": "yCZfDmljAwZH",
        "colab_type": "text"
      },
      "source": [
        "https://en.m.wikipedia.org/wiki/Closed_set"
      ]
    },
    {
      "cell_type": "markdown",
      "metadata": {
        "id": "RV0s9Fa7FNdj",
        "colab_type": "text"
      },
      "source": [
        "Ein einfaches Beispiel ist das Intervall [0,1] in den reellen Zahlen (mit der Standardtopologie, erzeugt durch die Metrik $d_{x y}=|x-y|$. \n",
        "\n",
        "* Das Komplement von [0,1] ist die Vereinigung $(-\\infty, 0) \\cup(1, \\infty)$ zweier offener Intervalle, also eine offene Menge, also ist [0,1] eine abgeschlossene Menge. \n",
        "\n",
        "* Deshalb nennt man das Intervall [0,1] ein abgeschlossenes Intervall. \n",
        "\n",
        "* **Dagegen ist das Intervall (0,1] nicht abgeschlossen, denn das Komplement $(-\\infty, 0] \\cup(1, \\infty)$ ist\n",
        "nicht offen.**"
      ]
    },
    {
      "cell_type": "markdown",
      "metadata": {
        "id": "uqLz8vEXFUMM",
        "colab_type": "text"
      },
      "source": [
        "https://de.m.wikipedia.org/wiki/Abgeschlossene_Menge"
      ]
    },
    {
      "cell_type": "markdown",
      "metadata": {
        "id": "y29Lv8RzDsKQ",
        "colab_type": "text"
      },
      "source": [
        "**Abgeschlossenes Intervall**\n",
        "\n",
        ">$[a, b]:=\\{x \\in \\mathbb{R} \\mid a \\leq x \\leq b\\}$\n",
        "\n",
        "Das Intervall enthält sowohl $a$ als auch $b$.\n",
        "\n",
        "**Ein Intervall ist genau dann kompakt, wenn es abgeschlossen und beschränkt ist.**\n",
        "\n",
        "<br>\n",
        "\n",
        "**Offenes Intervall**\n",
        "\n",
        ">$(a, b)=] a, b[:=\\{x \\in \\mathbb{R} \\mid a<x<b\\}$\n",
        "\n",
        "Das Intervall enthält weder $a$ noch $b$. Die Notation $(a, b)$ ist die traditionell verwendete, während ] $a, b\\left[\\text { auf Bourbaki zurückgeht. }^{[3]}\\right.$\n",
        "Halboffenes (genauer rechtsoffenes) Intervall\n",
        "\n",
        ">$[a, b)=[a, b[:=\\{x \\in \\mathbb{R} \\mid a \\leq x<b\\}$\n",
        "\n",
        "Das Intervall enthält $a$, aber nicht $b$.\n",
        "Halboffenes (genauer linksoffenes) Intervall\n",
        "\n",
        "> $(a, b]=\\mid a, b]:=\\{x \\in \\mathbb{R} \\mid a<x \\leq b\\}$\n",
        "\n",
        "Das Intervall enthält nicht $a,$ wohl aber $b$\n",
        "Im Fall von $a=0$ und $b=1$ heißt $(a, b)$ das offene Einheitsintervall und $[a, b]$ das abgeschlossene Einheitsintervall."
      ]
    },
    {
      "cell_type": "markdown",
      "metadata": {
        "id": "IRb13Big9a34",
        "colab_type": "text"
      },
      "source": [
        "##### **Bounded & Unbounded Set**"
      ]
    },
    {
      "cell_type": "markdown",
      "metadata": {
        "id": "2GSt0Y7hCytg",
        "colab_type": "text"
      },
      "source": [
        "* **Bounded Set = Beschränkte Menge**\n",
        "\n",
        "Sei a < b. \n",
        "* Ein beschränktes Intervall mit der unteren Grenze a und der oberen Grenze b ist abgeschlossen, wenn es beide Grenzen enthält, und offen, wenn beide Grenzen nicht enthalten sind. \n",
        "* Ein beschränktes Intervall heißt halboffen, wenn es genau eine der beiden Intervallgrenzen enthält."
      ]
    },
    {
      "cell_type": "markdown",
      "metadata": {
        "id": "7TFsQujX_SVR",
        "colab_type": "text"
      },
      "source": [
        "* A set is called bounded if it is, in a certain sense, of finite size. Conversely, a set which is not bounded is called unbounded. \n",
        "\n",
        "* The word 'bounded' makes no sense in a general topological space without a corresponding metric."
      ]
    },
    {
      "cell_type": "markdown",
      "metadata": {
        "id": "PB-Yp0cW_KEa",
        "colab_type": "text"
      },
      "source": [
        "https://en.m.wikipedia.org/wiki/Bounded_set"
      ]
    },
    {
      "cell_type": "markdown",
      "metadata": {
        "id": "Au_7lJVfD9TW",
        "colab_type": "text"
      },
      "source": [
        "**Unbeschränktes Intervall**"
      ]
    },
    {
      "cell_type": "markdown",
      "metadata": {
        "id": "PhkazI_KEAOB",
        "colab_type": "text"
      },
      "source": [
        "* Wenn auf einer Seite die Intervallgrenze fehlt, es dort also keine Schranke geben soll, spricht man von einem (auf dieser Seite) unbeschränkten Intervall. \n",
        "\n",
        "* Meist werden hierfür die bekannten Symbole −∞ und ∞ als „Ersatz“-Intervallgrenzen verwendet, die selbst nie zum Intervall gehören (deshalb die Schreibung mit runder Klammer). In mancher Literatur werden beschränkte Intervalle auch als eigentlich, unbeschränkte als uneigentlich bezeichnet."
      ]
    },
    {
      "cell_type": "markdown",
      "metadata": {
        "id": "Dj_I9xztugys",
        "colab_type": "text"
      },
      "source": [
        "**Infimum und Supremum**"
      ]
    },
    {
      "cell_type": "markdown",
      "metadata": {
        "id": "0Axl62MJubON",
        "colab_type": "text"
      },
      "source": [
        "Die Begriffe obere und untere Schranke werden im Artikel Supremum ausführlich beschrieben."
      ]
    },
    {
      "cell_type": "markdown",
      "metadata": {
        "id": "otWtwaTGufLC",
        "colab_type": "text"
      },
      "source": [
        "https://de.m.wikipedia.org/wiki/Infimum_und_Supremum"
      ]
    },
    {
      "cell_type": "markdown",
      "metadata": {
        "id": "QNeiHqg7xI1l",
        "colab_type": "text"
      },
      "source": [
        "##### **Compactness**"
      ]
    },
    {
      "cell_type": "markdown",
      "metadata": {
        "id": "R7FCyYP7ARwP",
        "colab_type": "text"
      },
      "source": [
        "![alternativer Text](https://upload.wikimedia.org/wikipedia/commons/thumb/7/7c/Compact.svg/512px-Compact.svg.png)"
      ]
    },
    {
      "cell_type": "markdown",
      "metadata": {
        "id": "WuKJS_xH8UhE",
        "colab_type": "text"
      },
      "source": [
        "Per the compactness criteria for Euclidean space as stated in the Heine-Borel Theorem:\n",
        "\n",
        "* the interval A = (−∞, −2] is not compact because it is not bounded (but it's closed right side). \n",
        "\n",
        "* The interval C = (2, 4) is not compact because it is not closed (but it's bounded). \n",
        "\n",
        "* The interval B = [0, 1] is compact because it is both closed and bounded."
      ]
    },
    {
      "cell_type": "markdown",
      "metadata": {
        "id": "JC4--mmzfgd7",
        "colab_type": "text"
      },
      "source": [
        "Compactness is a property that generalizes the notion of a subset of Euclidean space **being closed** (i.e., containing all its limit points) and **bounded** (i.e., having all its points lie within some fixed distance of each other).\n",
        "\n",
        "* Examples include a closed interval, a rectangle, or a finite set of points. This notion is defined for more general topological spaces than Euclidean space in various ways.\n",
        "\n",
        "* importance of including the boundary points of the interval, since the limit points must be in the space itself — an open (or half-open) interval of the real numbers is not compact. \n",
        "\n",
        "* It is also crucial that the interval be bounded, since in the interval [0,∞), one could choose the sequence of points 0, 1, 2, 3, ..., of which no sub-sequence ultimately gets arbitrarily close to any given real number."
      ]
    },
    {
      "cell_type": "markdown",
      "metadata": {
        "id": "HBeD_rrUfvQR",
        "colab_type": "text"
      },
      "source": [
        "https://en.m.wikipedia.org/wiki/Compact_space"
      ]
    },
    {
      "cell_type": "markdown",
      "metadata": {
        "id": "ak2HBZOH8xiT",
        "colab_type": "text"
      },
      "source": [
        "#### **Convergence**"
      ]
    },
    {
      "cell_type": "markdown",
      "metadata": {
        "id": "pnloY_L3u7dt",
        "colab_type": "text"
      },
      "source": [
        "![xxx](https://upload.wikimedia.org/wikipedia/commons/thumb/c/c9/Archimedes_pi.svg/320px-Archimedes_pi.svg.png)"
      ]
    },
    {
      "cell_type": "markdown",
      "metadata": {
        "id": "U71W4bwfvBT_",
        "colab_type": "text"
      },
      "source": [
        "The sequence given by the perimeters of regular n-sided polygons that circumscribe the unit circle has a limit equal to the perimeter of the circle, i.e. \n",
        "2\n",
        "π\n",
        "r. The corresponding sequence for inscribed polygons has the same limit."
      ]
    },
    {
      "cell_type": "markdown",
      "metadata": {
        "id": "uf9QAjQxvSMZ",
        "colab_type": "text"
      },
      "source": [
        "* In mathematics, the limit of a sequence is the value that the terms of a sequence \"tend to\", and is often denoted using the lim symbol (e.g., $\\left.\\lim _{n \\rightarrow \\infty} a_{n}\\right)$. \n",
        "\n",
        "* If such a limit exists, the sequence is called convergent. A sequence that does not converge is said to be divergent. The limit of a sequence is said to be the fundamental notion on which the whole of [mathematical analysis](https://en.m.wikipedia.org/wiki/Mathematical_analysis) ultimately rests.\n",
        "\n",
        "* Limits can be defined in any metric or topological space, but are usually first encountered in the real numbers."
      ]
    },
    {
      "cell_type": "markdown",
      "metadata": {
        "id": "xwV5ocLV85FJ",
        "colab_type": "text"
      },
      "source": [
        "https://en.m.wikipedia.org/wiki/Limit_of_a_sequence"
      ]
    },
    {
      "cell_type": "markdown",
      "metadata": {
        "id": "laFiQDC1yiKG",
        "colab_type": "text"
      },
      "source": [
        "## **Maß**"
      ]
    },
    {
      "cell_type": "markdown",
      "metadata": {
        "id": "P4KDiI20GSS8",
        "colab_type": "text"
      },
      "source": [
        "### **Measure (Maß)**"
      ]
    },
    {
      "cell_type": "markdown",
      "metadata": {
        "id": "3APf-x7y3Ydr",
        "colab_type": "text"
      },
      "source": [
        "https://youtu.be/jTP-pOoKKfE"
      ]
    },
    {
      "cell_type": "markdown",
      "metadata": {
        "id": "zmHivtKKC6td",
        "colab_type": "text"
      },
      "source": [
        "##### **Definition**"
      ]
    },
    {
      "cell_type": "markdown",
      "metadata": {
        "id": "4FMu2VsVHXMJ",
        "colab_type": "text"
      },
      "source": [
        "* Ein Maß ist in der Mathematik **eine Funktion**, die geeigneten Teilmengen einer Grundmenge Zahlen zuordnet, die als „Maß“ für die Größe dieser Mengen interpretiert werden können.\n",
        "\n",
        "* Es sei $\\mathcal{A}$ eine o-Algebra über einer nicht-leeren Grundmenge $\\Omega .$ Eine Funktion $\\mu: \\mathcal{A} \\rightarrow[0, \\infty]$ heißt Maß auf $\\mathcal{A}$, wenn die beiden folgenden Bedingungen erfüllt sind:\n",
        "\n",
        "> $\\mu(\\emptyset)=0$\n",
        "\n",
        "> Additivität: Für jede Folge $\\left(A_{n}\\right)_{n \\in \\mathbb{N}}$ paarweise disjunkter Mengen aus $\\mathcal{A}$ gilt $\\mu\\left(\\bigcup_{n=1}^{\\infty} A_{n}\\right)=\\sum_{n=1}^{\\infty} \\mu\\left(A_{n}\\right)$\n",
        "\n",
        "* Ist die o-Algebra aus dem Zusammenhang klar, so spricht man auch von einem Maß auf $\\Omega$."
      ]
    },
    {
      "cell_type": "markdown",
      "metadata": {
        "id": "6tOKtjbyH7Ai",
        "colab_type": "text"
      },
      "source": [
        "* Eine Teilmenge von $\\Omega$, die in $\\mathcal{A}$ liegt, wird messbar genannt. Für solch ein $A \\in \\mathcal{A}$ heißt $\\mu(A)$ das Maß der Menge $A$. \n",
        "\n",
        "* Das **Tripel $(\\Omega, \\mathcal{A}, \\mu)$ wird Maßraum** genannt.\n",
        "\n",
        "* Das Paar $(\\Omega, \\mathcal{A})$ bestehend aus der Grundmenge und der darauf definierten $\\sigma$-Algebra **heißt Messraum oder auch messbarer Raum**. \n",
        "\n",
        "* **Ein Maß $\\mu$ ist also eine auf einem Messraum definierte nicht-negative [$\\sigma$ -additive](https://de.m.wikipedia.org/wiki/Σ-Additivität) [Mengenfunktion](https://de.m.wikipedia.org/wiki/Mengenfunktion) mit $\\mu(\\emptyset)=0$.**\n",
        "\n",
        "* Das Maß $\\mu$ heißt Wahrscheinlichkeitsmaß (oder normiertes Maß), wenn zusätzlich $\\mu(\\Omega)=1$ gilt. Ein Maßraum $(\\Omega, \\mathcal{A}, \\mu)$ mit einem Wahrscheinlichkeitsmaß $\\mu$ ist ein Wahrscheinlichkeitsraum. \n",
        "\n",
        "* Ist allgemeiner $\\mu(\\Omega)<\\infty,$ so nennt man $\\mu$ ein [endliches Maß](https://de.m.wikipedia.org/wiki/Endliches_Maß). Existieren abzählbar viele Mengen, deren Maßendlich ist und deren Vereinigung ganz $\\Omega$ ergibt, dann wird $\\mu$ ein [$\\sigma$ -endliches](https://de.m.wikipedia.org/wiki/Σ-Endlichkeit) (oder $\\sigma$ -finites) Maß genannt. $^{[4]}$"
      ]
    },
    {
      "cell_type": "markdown",
      "metadata": {
        "id": "nMtT12NSGYu4",
        "colab_type": "text"
      },
      "source": [
        "https://de.m.wikipedia.org/wiki/Maß_(Mathematik)"
      ]
    },
    {
      "cell_type": "markdown",
      "metadata": {
        "id": "jbegVOVJGqzz",
        "colab_type": "text"
      },
      "source": [
        "https://de.m.wikipedia.org/wiki/Σ-Additivität"
      ]
    },
    {
      "cell_type": "markdown",
      "metadata": {
        "id": "O1v7eQtS4gqu",
        "colab_type": "text"
      },
      "source": [
        "##### **Zählmaß**"
      ]
    },
    {
      "cell_type": "markdown",
      "metadata": {
        "id": "jbbVSW8Q6RdZ",
        "colab_type": "text"
      },
      "source": [
        "$\\mu$ (A) := \n",
        "* #A, wenn A endlich\n",
        "* ∞, sonst\n",
        "\n",
        "Rechenregeln in [0, ∞] : \n",
        "* x + ∞ := ∞ für alle x ∈ [0, ∞]\n",
        "* x * ∞ := ∞ für alle x ∈ [0, ∞]\n",
        "* 0 * ∞ := 0 (in der Maßtheorie sinnvoll)"
      ]
    },
    {
      "cell_type": "markdown",
      "metadata": {
        "id": "rQzLXsG6C4Lx",
        "colab_type": "text"
      },
      "source": [
        "##### **Dirac Maß**"
      ]
    },
    {
      "cell_type": "markdown",
      "metadata": {
        "id": "KTpN2hkk7KTX",
        "colab_type": "text"
      },
      "source": [
        "p ∈ X (Punktmaß, weil es einem Punkt ein Maß zuordnet, und sonst Null).\n",
        "\n",
        "Ist p innerhalb eine Menge A als Teilmenge von X, dann ist Diracmaß = 1, sonst 0.\n",
        "\n",
        "δ<sub>p</sub> (A) :=\n",
        "* 1, wenn p ∈ A\n",
        "* 0, wenn sonst.\n",
        "\n",
        "(δ = delta klein)"
      ]
    },
    {
      "cell_type": "markdown",
      "metadata": {
        "id": "WJL1d3ifDByw",
        "colab_type": "text"
      },
      "source": [
        "https://de.m.wikipedia.org/wiki/Diracmaß"
      ]
    },
    {
      "cell_type": "markdown",
      "metadata": {
        "id": "FkR6CvL_C0uu",
        "colab_type": "text"
      },
      "source": [
        "##### **Lebesgue Maß**"
      ]
    },
    {
      "cell_type": "markdown",
      "metadata": {
        "id": "pOAnnK16Dbua",
        "colab_type": "text"
      },
      "source": [
        "* Das Lebesgue-Maß ist das Maß im euklidischen Raum, das geometrischen Objekten ihren Inhalt (Länge, Flächeninhalt, Volumen, …) zuordnet.\n",
        "\n",
        "* Das Lebesgue-Borel-Maß auf der Borel-$\\sigma$-Algebra $\\mathcal{B}\\left(\\mathbb{R}^{n}\\right)$ (auch als Borel-Lebesgue-Maß oder nur Bore/-Maß bezeichnet) ist das eindeutige Maß $\\lambda$ mit der Eigenschaft, dass es $n$ -dimensionalen\n",
        "Hyperrechtecken ihr $n$ -dimensionales Volumen zuordnet:\n",
        "\n",
        ">$\\lambda\\left(\\left[a_{1}, b_{1}\\right] \\times \\cdots \\times\\left[a_{n}, b_{n}\\right]\\right)=\\left(b_{1}-a_{1}\\right) \\cdots \\cdots\\left(b_{n}-a_{n}\\right)$\n",
        "\n",
        "* Das heißt, **es ist das Maß, das Intervallen inre Länge zuordnet (im Eindimensionalen), Rechtecken ihren Flächeninhalt zuordnet (im Zweidimensionalen), Quadern ihr Volumen zuordnet (im Dreidimensionalen) usw.** \n",
        "\n",
        "* Durch diese Bedingung wird der Inhalt $\\lambda(B)$ beliebiger Borel-Mengen eindeutig festgelegt. Die BorelMengen werden auch Borel-messbar oder $B$ -messbar genannt. **Das Borel-Maß ist bewegungsinvariant und normiert, aber nicht vollständig.**\n",
        "\n",
        "* Das Lebesgue-Maß ist das Haar-Maß auf der lokalkompakten topologischen Gruppe $\\mathbb {R} ^{n}$ mit der Addition, die Existenz folgt daher bereits aus der Existenz des Haarmaßes. Insbesondere ist es translationsinvariant, das bedeutet, dass sich das Maß einer Menge unter Translation nicht ändert. Zudem ist es invariant unter Spiegelungen und Drehungen, also sogar bewegungsinvariant. Das Lebesgue-Maß ist σ-endlich und regulär."
      ]
    },
    {
      "cell_type": "markdown",
      "metadata": {
        "id": "fF0XsGc9DFRb",
        "colab_type": "text"
      },
      "source": [
        "https://de.m.wikipedia.org/wiki/Lebesgue-Maß"
      ]
    },
    {
      "cell_type": "markdown",
      "metadata": {
        "id": "ymG9QHcCF1Hg",
        "colab_type": "text"
      },
      "source": [
        "##### **Haarsches Maß**"
      ]
    },
    {
      "cell_type": "markdown",
      "metadata": {
        "id": "aLkzlmPEF8cn",
        "colab_type": "text"
      },
      "source": [
        "* Es ist eine Verallgemeinerung des Lebesgue-Maßes. Das Lebesgue-Maß ist ein Maß auf dem euklidischen Raum, das unter Translationen invariant ist. \n",
        "\n",
        "* Der euklidische Raum ist eine lokalkompakte topologische Gruppe bezüglich der Addition. Das Haarsche Maß ist für jede lokalkompakte (im Folgenden immer als hausdorffsch vorauszusetzende) topologische Gruppe definierbar, insbesondere also für jede Lie-Gruppe. \n",
        "\n",
        "* Lokalkompakte Gruppen mit ihren Haarschen Maßen werden in der [harmonischen Analyse](https://de.m.wikipedia.org/wiki/Harmonische_Analyse) untersucht."
      ]
    },
    {
      "cell_type": "markdown",
      "metadata": {
        "id": "KzktY0hJF4LR",
        "colab_type": "text"
      },
      "source": [
        "https://de.m.wikipedia.org/wiki/Haarsches_Maß"
      ]
    },
    {
      "cell_type": "markdown",
      "metadata": {
        "id": "uw99f_qvDl6i",
        "colab_type": "text"
      },
      "source": [
        "##### **Haussdorf Maß**"
      ]
    },
    {
      "cell_type": "markdown",
      "metadata": {
        "id": "_2DTGGZGDv5H",
        "colab_type": "text"
      },
      "source": [
        "* Das Hausdorff-Maß ist eine Verallgemeinerung des Lebesgue-Maßes auf nicht notwendig ganzzahlige Dimensionen. Mit seiner Hilfe lässt sich die Hausdorff-Dimension definieren, ein Dimensionsbegriff, mit dem beispielsweise fraktale Mengen untersucht werden können."
      ]
    },
    {
      "cell_type": "markdown",
      "metadata": {
        "id": "-q9M76qlDrVX",
        "colab_type": "text"
      },
      "source": [
        "https://de.m.wikipedia.org/wiki/Hausdorff-Maß"
      ]
    },
    {
      "cell_type": "markdown",
      "metadata": {
        "id": "V27J3X8qM9cN",
        "colab_type": "text"
      },
      "source": [
        "##### **Jordan Maß**"
      ]
    },
    {
      "cell_type": "markdown",
      "metadata": {
        "id": "Q6tM4coFNIxa",
        "colab_type": "text"
      },
      "source": [
        "* Mit dem Jordan-Maß kann man beschränkten Teilmengen des $\\mathbb {R} ^{n}$ einen Inhalt zuordnen und erhält einen Integralbegriff, der dem [riemannschen Integralbegriff](https://de.m.wikipedia.org/wiki/Riemannsches_Integral) analog ist."
      ]
    },
    {
      "cell_type": "markdown",
      "metadata": {
        "id": "zcW8Znq_NB8I",
        "colab_type": "text"
      },
      "source": [
        "https://de.m.wikipedia.org/wiki/Jordan-Maß"
      ]
    },
    {
      "cell_type": "markdown",
      "metadata": {
        "id": "N9ef5-QUNE22",
        "colab_type": "text"
      },
      "source": [
        "Siehe auch: https://de.m.wikipedia.org/wiki/Inhalt_(Maßtheorie)"
      ]
    },
    {
      "cell_type": "markdown",
      "metadata": {
        "id": "PomYI_xzCurv",
        "colab_type": "text"
      },
      "source": [
        "##### **Radon Maß**"
      ]
    },
    {
      "cell_type": "markdown",
      "metadata": {
        "id": "5rGB7cfQ9VeD",
        "colab_type": "text"
      },
      "source": [
        "Es handelt sich um ein spezielles Maß auf der Borelschen σ-Algebra eines Hausdorff-Raums mit bestimmten Regularitätseigenschaften. Der Begriff wird in der Fachliteratur jedoch nicht einheitlich verwendet. "
      ]
    },
    {
      "cell_type": "markdown",
      "metadata": {
        "id": "r-AnX69MC1wo",
        "colab_type": "text"
      },
      "source": [
        "https://de.m.wikipedia.org/wiki/Radonmaß"
      ]
    },
    {
      "cell_type": "markdown",
      "metadata": {
        "id": "Fy0PG2uLQIPM",
        "colab_type": "text"
      },
      "source": [
        "**Measurable Space (Messbarer Raum)**"
      ]
    },
    {
      "cell_type": "markdown",
      "metadata": {
        "id": "RraYrSFNKL4d",
        "colab_type": "text"
      },
      "source": [
        "Das Tupel $(\\Omega, \\mathcal{A}, \\mu)$ heißt Maßraum, wenn\n",
        "\n",
        "* $\\Omega$ eine beliebige, nichtleere Menge ist. $\\Omega$ wird dann auch Grundmenge (universe / Set) genannt.\n",
        "\n",
        "* $\\mathcal{A}$ eine $\\sigma$ -Algebra über der Grundmenge $\\Omega$ ist.\n",
        "\n",
        "Zusammen mit einem Maß $\\mu$ wird aus einem messbaren Raum ein Maßraum."
      ]
    },
    {
      "cell_type": "markdown",
      "metadata": {
        "id": "UrI52A0M-lGw",
        "colab_type": "text"
      },
      "source": [
        "* **A measurable space or Borel space is a basic object in measure theory**. It consists of a set and a σ-algebra, which defines the subsets that will be measured.\n",
        "\n",
        "* Note that in contrast to a measure space, **no measure is needed for a measurable space**."
      ]
    },
    {
      "cell_type": "markdown",
      "metadata": {
        "id": "GpCr-8c-d62V",
        "colab_type": "text"
      },
      "source": [
        "**Messraum und Maßraum sind spezielle σ-Algebren.**"
      ]
    },
    {
      "cell_type": "markdown",
      "metadata": {
        "id": "ScZG-bj9KyHs",
        "colab_type": "text"
      },
      "source": [
        "**Example**\n",
        "\n",
        "Look at the set\n",
        "\n",
        "X=\\{1,2,3\\}\n",
        "\n",
        "One possible $\\sigma$ -algebra would be\n",
        "\n",
        "$\\mathcal{A}_{1}=\\{X, \\emptyset\\}$\n",
        "\n",
        "Then $\\left(X, \\mathcal{A}_{1}\\right)$ is a measurable space. \n",
        "\n",
        "Another possible $\\sigma$ -algebra would be the power set on $X$ :\n",
        "\n",
        "$\\mathcal{A}_{2}=\\mathcal{P}(X)$\n",
        "\n",
        "With this, a second measurable space on the set $X$ is given by $\\left(X, \\mathcal{A}_{2}\\right)$."
      ]
    },
    {
      "cell_type": "markdown",
      "metadata": {
        "id": "Q8kIK_3HLLTT",
        "colab_type": "text"
      },
      "source": [
        "**Types**\n",
        "\n",
        "* If $X$ is finite or countable infinite, **the $\\sigma$ -algebra is most of the times the power set on $X$**, so $\\mathcal{A}=\\mathcal{P}(X) .$ This leads to the measurable space $(X, \\mathcal{P}(X))$\n",
        "\n",
        "* **If $X$ is a topological space, the $\\sigma$ -algebra is most commonly the Borel $\\sigma$ -algebra $\\mathcal{B}$**, so $\\mathcal{A}=\\mathcal{B}(X)$. This leads to the measurable space $(X, \\mathcal{B}(X))$ that is common for all topological spaces such as\n",
        "the real numbers $\\mathbb{R}$.\n"
      ]
    },
    {
      "cell_type": "markdown",
      "metadata": {
        "id": "uIHhdyPQ-hgE",
        "colab_type": "text"
      },
      "source": [
        "https://en.m.wikipedia.org/wiki/Measurable_space"
      ]
    },
    {
      "cell_type": "markdown",
      "metadata": {
        "id": "JGhitrlOQEHM",
        "colab_type": "text"
      },
      "source": [
        "### **Measure Space (Maßraum)**"
      ]
    },
    {
      "cell_type": "markdown",
      "metadata": {
        "id": "5FCk6SHCCxwq",
        "colab_type": "text"
      },
      "source": [
        "##### **Definition Measure Space**"
      ]
    },
    {
      "cell_type": "markdown",
      "metadata": {
        "id": "7IsroJGMFRuY",
        "colab_type": "text"
      },
      "source": [
        "Ein Maßraum ist eine spezielle mathematische Struktur, die eine essentielle Rolle in der Maßtheorie und dem axiomatischen Aufbau der Stochastik spielt.\n",
        "\n",
        "Das Tripel $(\\Omega, \\mathcal{A}, \\mu)$ heißt Maßraum, wenn\n",
        "\n",
        "* $\\Omega$ eine beliebige, nichtleere Menge ist. $\\Omega$ wird dann auch Grundmenge genannt.\n",
        "\n",
        "* $\\mathcal{A}$ eine [$\\sigma$ -Algebra](https://de.m.wikipedia.org/wiki/Σ-Algebra) über der Grundmenge $\\Omega$ ist.\n",
        "\n",
        "* $\\mu$ ein [Maß](https://de.m.wikipedia.org/wiki/Maß_(Mathematik)) ist, das auf $\\mathcal{A}$ definiert ist.\n",
        "\n",
        "Alternativ kann man einen Maßraum auch als einen [Messraum](https://de.m.wikipedia.org/wiki/Messraum_(Mathematik)) $(\\Omega, \\mathcal{A})$ versehen mit einem Maß $\\mu$ definieren."
      ]
    },
    {
      "cell_type": "markdown",
      "metadata": {
        "id": "bqmDCJDWy4sq",
        "colab_type": "text"
      },
      "source": [
        "A measure space is a triple $(X, \\mathcal{A}, \\mu),$ where\n",
        "\n",
        "* $X$ is a set\n",
        "\n",
        "* $\\mathcal{A}$ is a $\\sigma$ -algebra on the set $X$\n",
        "\n",
        "* $\\boldsymbol{\\mu}$ is a measure on $(X, \\mathcal{A})$"
      ]
    },
    {
      "cell_type": "markdown",
      "metadata": {
        "id": "34X5FmJ4d--B",
        "colab_type": "text"
      },
      "source": [
        "**Messraum und Maßraum sind spezielle σ-Algebren.**"
      ]
    },
    {
      "cell_type": "markdown",
      "metadata": {
        "id": "xDp68lYUypzs",
        "colab_type": "text"
      },
      "source": [
        "https://en.m.wikipedia.org/wiki/Measure_space"
      ]
    },
    {
      "cell_type": "markdown",
      "metadata": {
        "id": "-lIqej8jGuOt",
        "colab_type": "text"
      },
      "source": [
        "**Beispiele**\n",
        "\n",
        "* Ein einfaches Beispiel für einen Maßraum sind die natürlichen Zahlen als Grundmenge $\\Omega=\\mathbb{N}$, als $\\sigma$ Algebra wählt man die Potenzmenge $\\mathcal{A}=\\mathcal{P}(\\mathbb{N})$ und als Maß das Diracmaß auf der $1: \\mu=\\delta_{1}$\n",
        "\n",
        "* Ein bekannter Maßraum ist die Grundmenge $\\mathbb{R}$, versehen mit der borelschen $\\sigma$ -Algebra $\\mathcal{B}(\\mathbb{R})$ und dem Lebesgue-Maß. **Dies ist der kanonische Maßraum in der Integrationstheorie.**\n",
        "\n",
        "* Die in der Wahrscheinlichkeitstheorie verwendeten **[Wahrscheinlichkeitsräume](https://de.m.wikipedia.org/wiki/Wahrscheinlichkeitsraum)** $(\\Omega, \\mathcal{A}, P)$ sind allesamt Maßräume. Sie bestehen aus der Ergebnismenge $\\Omega$, der Ereignisalgebra $\\mathcal{A}$ und dem Wahrscheinlichkeitsmaß $P$ (= synonym 'Wahrscheinlichkeitsverteilung' oder einfach 'Verteilung'). Mit den Eigenschaften: Die drei Forderungen Normiertheit, σ-Additivität und Werte im Intervall zwischen 0 und 1 werden auch die Kolmogorow-Axiome genannt. ([Source](https://de.m.wikipedia.org/wiki/Wahrscheinlichkeitsma%C3%9F))"
      ]
    },
    {
      "cell_type": "markdown",
      "metadata": {
        "id": "nmTp6RhYL8Je",
        "colab_type": "text"
      },
      "source": [
        "**Klassen von Maßräumen**\n",
        "\n",
        "https://de.m.wikipedia.org/wiki/Σ-Endlichkeit\n",
        "\n",
        "https://de.m.wikipedia.org/wiki/Vollständiges_Maß\n",
        "\n",
        "und mehr.."
      ]
    },
    {
      "cell_type": "markdown",
      "metadata": {
        "id": "CqKgmO9kQZPo",
        "colab_type": "text"
      },
      "source": [
        "* Verzichtet man auf Abstände und Winkel, behält jedoch das Volumen geometrischer Körper bei, gelangt man in das Gebiet der Maßtheorie. (für ein wahrscheinlichkeitsmaß volumen = 1)\n",
        "\n",
        "* Der Maßtheorie gelang es, den Begriff des Volumens (oder eines anderen Maßes) auf eine enorm große Klasse von Mengen auszudehnen, die sogenannten messbaren Mengen. In vielen Fällen ist es jedoch unmöglich, allen Mengen ein Maß zuzuordnen (siehe Maßproblem).\n",
        "Die messbaren Mengen bilden dabei eine σ-Algebra. Mit Hilfen von messbaren Mengen lassen sich messbare Funktionen zwischen Messräumen definieren.\n",
        "\n",
        "* Um einen topologischen Raum zu einem Messraum zu machen, muss man ihn mit einer σ-Algebra ausstatten. Die σ-Algebra der Borel-Mengen ist die verbreitetste, aber nicht die einzige Wahl.\n",
        "\n",
        "* Ein Maßraum ist ein Messraum, der mit einem Maß versehen ist. Ein euklidischer Raum mit dem [Lebesgue-Maß](https://de.m.wikipedia.org/wiki/Lebesgue-Maß) ist beispielsweise ein Maßraum. In der Integrationstheorie werden Integrierbarkeit und Integrale messbarer Funktionen auf Maßräumen definiert. Mengen vom Maß null werden Nullmengen genannt."
      ]
    },
    {
      "cell_type": "markdown",
      "metadata": {
        "id": "gR0omcCEyljo",
        "colab_type": "text"
      },
      "source": [
        "* A measure space is a basic object of measure theory, a branch of mathematics that studies generalized notions of volumes. \n",
        "\n",
        "* It contains an underlying set, the subsets of this set that are feasible for measuring (the σ-algebra) and the method that is used for measuring (the measure). \n",
        "\n",
        "* **One important example of a measure space is a probability space**.\n",
        "\n",
        "* A measurable space consists of the first two components without a specific measure."
      ]
    },
    {
      "cell_type": "markdown",
      "metadata": {
        "id": "lxZqzchtzaSz",
        "colab_type": "text"
      },
      "source": [
        "A **complete measure** (or, more precisely, a complete measure space) is a measure space in which every subset of every null set is measurable (having measure zero). "
      ]
    },
    {
      "cell_type": "markdown",
      "metadata": {
        "id": "XtShSxHrzeGE",
        "colab_type": "text"
      },
      "source": [
        "https://en.m.wikipedia.org/wiki/Complete_measure"
      ]
    },
    {
      "cell_type": "markdown",
      "metadata": {
        "id": "ddjokxjoP-Dc",
        "colab_type": "text"
      },
      "source": [
        "##### **Exkurs: Probability Space (Wahrscheinlichkeitsraum)**"
      ]
    },
    {
      "cell_type": "markdown",
      "metadata": {
        "id": "546Ne29sIvX2",
        "colab_type": "text"
      },
      "source": [
        "Gegeben sei\n",
        "\n",
        "* eine Menge $\\Omega$, der sogenannte **Ergebnisraum**,\n",
        "\n",
        "* eine o-Algebra $\\Sigma$ auf dieser Menge, das **Ereignissystem**.\n",
        "\n",
        "Dann heißt eine Abbildung (=Funktion)\n",
        "\n",
        ">$P: \\Sigma \\rightarrow[0,1]$\n",
        "\n",
        "mit den Eigenschaften\n",
        "\n",
        "*  Normiertheit: Es ist $P(\\Omega)=1$\n",
        "\n",
        "* $\\sigma$-Additivität: Für jede abzählbare Folge von paarweise disjunkten Mengen $A_{1}, A_{2}, A_{3}, \\ldots$ aus $\\Sigma$ gilt $P\\left(\\bigcup_{i=1}^{\\infty} A_{i}\\right)=\\sum_{i=1}^{\\infty} P\\left(A_{i}\\right)$\n",
        "\n",
        "ein Wahrscheinlichkeitsmaß oder eine Wahrscheinlichkeitsverteilung.\n",
        "\n",
        "Die drei Forderungen Normiertheit, $\\sigma$-Additivität und Werte im Intervall zwischen O und 1 werden auch die [Kolmogorow-Axiome](https://de.m.wikipedia.org/wiki/Wahrscheinlichkeitstheorie#Axiome_von_Kolmogorow) genannt."
      ]
    },
    {
      "cell_type": "markdown",
      "metadata": {
        "id": "oaMjBu3YIYna",
        "colab_type": "text"
      },
      "source": [
        "https://de.m.wikipedia.org/wiki/Wahrscheinlichkeitsmaß"
      ]
    },
    {
      "cell_type": "markdown",
      "metadata": {
        "id": "ArmaZGI0P4Hu",
        "colab_type": "text"
      },
      "source": [
        "* **One important example of a measure space is a probability space.**\n",
        "\n",
        "* Ein Wahrscheinlichkeitsraum ist ein Maßraum, bei dem das Maß des ganzen Raums gleich 1 ist.\n",
        "\n",
        "* In der Wahrscheinlichkeitstheorie werden für die verwendeten maßtheoretischen Begriffe meist eigene Bezeichnungen verwendet, die der Beschreibung von Zufallsexperimenten angepasst sind: Messbare Mengen werden Ereignisse und messbare Funktionen zwischen Wahrscheinlichkeitsräumen werden Zufallsvariable genannt; ihre Integrale sind Erwartungswerte.\n",
        "\n",
        "* Das Produkt einer endlichen oder unendlichen Familie von Wahrscheinlichkeitsräumen ist wieder ein Wahrscheinlichkeitsraum. Im Gegensatz dazu ist für allgemeine Maßräume nur das Produkt endlich vieler Räume definiert. Dementsprechend gibt es zahlreiche unendlichdimensionale Wahrscheinlichkeitsmaße, beispielsweise die Normalverteilung, aber kein unendlichdimensionales Lebesgue-Maß.\n",
        "Diese Räume sind weniger geometrisch. Insbesondere lässt sich die Idee der Dimension, wie sie in der einen oder anderen Form auf alle anderen Räume anwendbar ist, nicht auf Messräume, Maßräume und Wahrscheinlichkeitsräume anwenden."
      ]
    },
    {
      "cell_type": "markdown",
      "metadata": {
        "id": "sHNOE1lKU7wF",
        "colab_type": "text"
      },
      "source": [
        "* Es handelt sich um ein mathematisches Modell zur Beschreibung von Zufallsexperimenten. Hierbei werden die verschiedenen möglichen Ausgänge des Experiments zu einer Menge zusammengefasst. Teilmengen dieser Ergebnismenge können dann unter bestimmten Voraussetzungen Zahlen zwischen 0 und 1 zugeordnet werden, die als Wahrscheinlichkeiten interpretiert werden.\n",
        "\n",
        "* Ein Wahrscheinlichkeitsraum ist ein Maßraum (Ω, Σ, P) dessen Maß P ein Wahrscheinlichkeitsmaß ist. Im Einzelnen bedeutet das: \n",
        "\n",
        "* Ω ist eine beliebige nichtleere Menge, genannt die Ergebnismenge. Ihre Elemente heißen Ergebnisse.\n",
        "\n",
        "* Σ (Sigma) ist eine σ-Algebra über der Grundmenge Ω (Omega), also eine Menge bestehend aus Teilmengen von Ω, die Ω enthält und abgeschlossen gegenüber der Bildung von Komplementen und abzählbaren Vereinigungen ist. Die Elemente von Σ heißen Ereignisse. Die σ-Algebra Σ selbst wird auch Ereignissystem oder Ereignisalgebra genannt.\n",
        "\n",
        "* P : Σ –> [0,1] ist ein Wahrscheinlichkeitsmaß, das heißt eine Mengenfunktion, die den Ereignissen Zahlen zuordnet, derart dass P(∅) = 0 ist, P (A1 ∪ A2 ∪ … ) = P(A1) + P(A2) + … für paarweise disjunkte (d. h. sich gegenseitig ausschließende) Ereignisse A1, A2, … gilt (3. Kolmogorow-Axiom) und P(Ω) = 1 ist (2. Kolmogorow-Axiom).\n",
        "\n",
        "* Der Messraum (Ω, Σ) wird auch Ereignisraum genannt. Ein Wahrscheinlichkeitsraum ist also ein Ereignisraum, auf dem zusätzlich ein Wahrscheinlichkeitsmaß gegeben ist.\n",
        "\n",
        "https://de.m.wikipedia.org/wiki/Wahrscheinlichkeitsraum"
      ]
    },
    {
      "cell_type": "markdown",
      "metadata": {
        "id": "W7xhaOnBFAU0",
        "colab_type": "text"
      },
      "source": [
        "##### **Definition Space**"
      ]
    },
    {
      "cell_type": "markdown",
      "metadata": {
        "id": "Vg5O5znmDfS5",
        "colab_type": "text"
      },
      "source": [
        "* In mathematics, **a space is a [set](https://en.m.wikipedia.org/wiki/Set_(mathematics))   - (sometimes called a [universe - Grundmenge](https://en.m.wikipedia.org/wiki/Universe_(mathematics))) with some added structure.**\n",
        "\n",
        "* They are frequently described as different types of [manifolds](https://en.m.wikipedia.org/wiki/Manifold), which are **spaces that locally approximate to Euclidean space**, and where the properties are defined largely on local connectedness of points that lie on the manifold. \n",
        "\n",
        "* There are however, many diverse mathematical objects that are called spaces. For example, [vector spaces](https://en.m.wikipedia.org/wiki/Vector_space) such as [function spaces](https://en.m.wikipedia.org/wiki/Function_space) may have infinite numbers of independent dimensions and a notion of distance very different from Euclidean space, and [topological spaces](https://en.m.wikipedia.org/wiki/Topological_space) replace the concept of distance with a more abstract idea of nearness.\n",
        "\n",
        "* While modern mathematics uses many types of spaces, such as Euclidean spaces, linear spaces, topological spaces, Hilbert spaces, or probability spaces, it does not define the notion of \"space\" itself."
      ]
    },
    {
      "cell_type": "markdown",
      "metadata": {
        "id": "hMgVoh0aDiZw",
        "colab_type": "text"
      },
      "source": [
        "* **Infinite-dimensional vector spaces arise naturally in mathematical analysis, as function spaces**, whose vectors are functions. These vector spaces are generally endowed with additional structure, which may be a topology, allowing the consideration of issues of proximity and continuity. \n",
        "\n",
        "* Among these topologies, those that are defined by a norm or inner product are more commonly used, as having a notion of distance between two vectors. This is particularly the case of **Banach spaces and Hilbert spaces**, which are fundamental in mathematical analysis."
      ]
    },
    {
      "cell_type": "markdown",
      "metadata": {
        "id": "hwX-v1nkFF_O",
        "colab_type": "text"
      },
      "source": [
        "##### **Differentiations**"
      ]
    },
    {
      "cell_type": "markdown",
      "metadata": {
        "id": "CAjzcfrmD5PY",
        "colab_type": "text"
      },
      "source": [
        "![Normed Vector Space](https://upload.wikimedia.org/wikipedia/en/7/74/Mathematical_Spaces.png)"
      ]
    },
    {
      "cell_type": "markdown",
      "metadata": {
        "id": "NdEAjm5bD7_N",
        "colab_type": "text"
      },
      "source": [
        "Quelle: [Mathematical Spaces](https://en.m.wikipedia.org/wiki/Space_(mathematics))"
      ]
    },
    {
      "cell_type": "markdown",
      "metadata": {
        "id": "17_VZZJ2DlEy",
        "colab_type": "text"
      },
      "source": [
        "Topologischer Raum |  | dazugehörige Struktur\n",
        "--- | --- | ---\n",
        "[Euklidischer Raum](https://de.m.wikipedia.org/wiki/Euklidischer_Raum) | hat | Skalarprodukt\n",
        "[Normierter Raum](https://de.m.wikipedia.org/wiki/Normierter_Raum) | hat | Norm\n",
        "[Metrischer Raum](https://de.m.wikipedia.org/wiki/Metrischer_Raum) | hat | Metrik\n",
        "[Uniformer Raum](https://de.m.wikipedia.org/wiki/Uniformer_Raum) | hat | Uniforme Struktur\n",
        "[Topologischer Raum](https://de.m.wikipedia.org/wiki/Topologischer_Raum) | hat | Topologie"
      ]
    },
    {
      "cell_type": "markdown",
      "metadata": {
        "id": "2IaYmlO-DoF8",
        "colab_type": "text"
      },
      "source": [
        "Quelle: [Einordnung in die Hierarchie mathematischer Strukturen](https://de.m.wikipedia.org/wiki/Metrischer_Raum#Einordnung_in_die_Hierarchie_mathematischer_Strukturen) sowie [Topologische Räume](https://de.m.wikipedia.org/wiki/Topologischer_Raum#Beispiele)"
      ]
    },
    {
      "cell_type": "markdown",
      "metadata": {
        "id": "VxUD9vT9Dq2A",
        "colab_type": "text"
      },
      "source": [
        "![alternativer Text](https://upload.wikimedia.org/wikipedia/commons/thumb/d/dc/Mathematical_implication_diagram-alt-large-print.svg/640px-Mathematical_implication_diagram-alt-large-print.svg.png)"
      ]
    },
    {
      "cell_type": "markdown",
      "metadata": {
        "id": "OySsyz7YDtiE",
        "colab_type": "text"
      },
      "source": [
        "Quelle: [Overview of types of abstract spaces](https://en.m.wikipedia.org/wiki/Space_(mathematics))"
      ]
    },
    {
      "cell_type": "markdown",
      "metadata": {
        "id": "fqZht-ZpDv_D",
        "colab_type": "text"
      },
      "source": [
        "Topologische Räume können weiter [klassifiziert werden nach Kolmogorov](https://en.m.wikipedia.org/wiki/History_of_the_separation_axioms)."
      ]
    },
    {
      "cell_type": "markdown",
      "metadata": {
        "id": "3oIStp-bE5eY",
        "colab_type": "text"
      },
      "source": [
        "##### **Allgemeine und weiterführende Einführung**"
      ]
    },
    {
      "cell_type": "markdown",
      "metadata": {
        "id": "FqZ56YNZDbmL",
        "colab_type": "text"
      },
      "source": [
        "Generische Einführung in das Thema (weitere algebraische Strukturen \"neben\" Vector Spaces  wie zB Moduln, Ringe, Körper oder Gruppen):\n",
        "\n",
        "https://de.m.wikipedia.org/wiki/Mathematische_Struktur\n",
        "\n",
        "https://de.m.wikipedia.org/wiki/Abstrakte_Algebra\n",
        "\n",
        "https://de.m.wikipedia.org/wiki/Universelle_Algebra\n",
        "\n",
        "https://de.m.wikipedia.org/wiki/Algebraische_Struktur\n",
        "\n",
        "https://de.m.wikipedia.org/wiki/Funktionalanalysis#Normierte_Räume,_Banachräume\n",
        "\n",
        "https://en.m.wikipedia.org/wiki/Space_(mathematics)"
      ]
    },
    {
      "cell_type": "markdown",
      "metadata": {
        "id": "V6sUIaJPD0kb",
        "colab_type": "text"
      },
      "source": [
        "https://de.m.wikipedia.org/wiki/Raum_(Mathematik)#Klassifikation\n",
        "\n",
        "https://en.m.wikipedia.org/wiki/Vector_space\n",
        "\n",
        "https://de.m.wikipedia.org/wiki/Topologischer_Raum\n",
        "\n",
        "https://de.m.wikipedia.org/wiki/Algebraische_Struktur"
      ]
    }
  ]
}