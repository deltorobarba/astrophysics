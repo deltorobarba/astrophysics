{
  "nbformat": 4,
  "nbformat_minor": 0,
  "metadata": {
    "colab": {
      "name": "set.ipynb",
      "provenance": [],
      "collapsed_sections": [
        "9-DSG_jG71SL",
        "vVRecpiQ-EVu",
        "JxW1L7eI-qLa",
        "KVfJxtw_faJK",
        "ExpBoOZh-fYO",
        "bkZcyD7ispT2",
        "IRb13Big9a34",
        "ak2HBZOH8xiT",
        "_eC1wGo3_nDk",
        "laFiQDC1yiKG",
        "LMxl70lljGLr",
        "Vc8T8hpoiWFR",
        "4S4z_HeLRbtc",
        "v_kxlSluThye",
        "GJ5sfwleTp0G",
        "8ykSQCbjSa7R",
        "YlBNcfp3Rz6H",
        "DN1m6a8kVGp1",
        "7S02zfX9cYAb"
      ],
      "include_colab_link": true
    },
    "kernelspec": {
      "name": "python3",
      "display_name": "Python 3"
    }
  },
  "cells": [
    {
      "cell_type": "markdown",
      "metadata": {
        "id": "view-in-github",
        "colab_type": "text"
      },
      "source": [
        "<a href=\"https://colab.research.google.com/github/deltorobarba/machinelearning/blob/master/set.ipynb\" target=\"_parent\"><img src=\"https://colab.research.google.com/assets/colab-badge.svg\" alt=\"Open In Colab\"/></a>"
      ]
    },
    {
      "cell_type": "markdown",
      "metadata": {
        "id": "2Aoj2PpxvDQV",
        "colab_type": "text"
      },
      "source": [
        "# **Set Theory**"
      ]
    },
    {
      "cell_type": "code",
      "metadata": {
        "id": "1U5_6xH7tAQq",
        "colab_type": "code",
        "colab": {}
      },
      "source": [
        "import numpy as np\n",
        "import pandas as pd\n",
        "import seaborn as sns\n",
        "import matplotlib.pyplot as plt"
      ],
      "execution_count": null,
      "outputs": []
    },
    {
      "cell_type": "markdown",
      "metadata": {
        "id": "bCeV0uWSVY5r",
        "colab_type": "text"
      },
      "source": [
        "## **General Notation**"
      ]
    },
    {
      "cell_type": "markdown",
      "metadata": {
        "id": "2t0NnrUfDoVg",
        "colab_type": "text"
      },
      "source": [
        "### **Definition of Set**"
      ]
    },
    {
      "cell_type": "markdown",
      "metadata": {
        "id": "Tmp5fmoLDfmS",
        "colab_type": "text"
      },
      "source": [
        "A set is a well-defined collection of distinct objects, considered as an object in its own right. The arrangement of the objects in the set does not matter. For example, \n",
        "\n",
        "* the numbers 2, 4, and 6 are distinct objects when considered separately, \n",
        "\n",
        "* but when they are considered collectively they form a single set of size three, written as {2, 4, 6}, which could also be written as {2, 6, 4}"
      ]
    },
    {
      "cell_type": "markdown",
      "metadata": {
        "id": "L4QAPB_PECeU",
        "colab_type": "text"
      },
      "source": [
        "Set theory begins with a fundamental binary relation between an object o and a set A. If o is a member (or element) of A, the notation o ∈ A is used. A set is described by listing elements separated by commas, or by a characterizing property of its elements, within braces { }. Since sets are objects, the membership relation can relate sets as well.\n",
        "\n",
        "* A derived binary relation between two sets is the subset relation, also called set inclusion. If all the members of set A are also members of set B, then A is a subset of B, denoted A ⊆ B. For example, {1, 2} is a subset of {1, 2, 3} , and so is {2} but {1, 4} is not. \n",
        "\n",
        "* As insinuated from this definition, a set is a subset of itself. For cases where this possibility is unsuitable or would make sense to be rejected, the term proper subset is defined. A is called a proper subset of B if and only if A is a subset of B, but A is not equal to B. \n",
        "\n",
        "* Also 1, 2, and 3 are members (elements) of the set {1, 2, 3} but are not subsets of it; and in turn, the subsets, such as {1}, are not members of the set {1, 2, 3}."
      ]
    },
    {
      "cell_type": "markdown",
      "metadata": {
        "id": "WwfFp85sD0t5",
        "colab_type": "text"
      },
      "source": [
        "https://en.m.wikipedia.org/wiki/Set_(mathematics)"
      ]
    },
    {
      "cell_type": "markdown",
      "metadata": {
        "id": "s9-oi0pwDxyx",
        "colab_type": "text"
      },
      "source": [
        "https://en.m.wikipedia.org/wiki/Set_theory"
      ]
    },
    {
      "cell_type": "markdown",
      "metadata": {
        "id": "WXXIRn7cDsFL",
        "colab_type": "text"
      },
      "source": [
        "### **Set-Builder Notation**"
      ]
    },
    {
      "cell_type": "markdown",
      "metadata": {
        "id": "GqqSZF6_1vLl",
        "colab_type": "text"
      },
      "source": [
        "In set-builder notation, the set is specified as a subset of a larger set, where the subset is determined by a statement or condition involving the elements. For example, a set F can be specified as follows:\n",
        "\n",
        "> $F=\\{n \\mid n \\text { is an integer, and } 0 \\leq n \\leq 19\\}$\n",
        "\n",
        "* In this notation, the vertical bar (\"|\") means \"such that\", and the description can be interpreted as \n",
        "* **\"F is the set of all numbers n, such that n is an integer in the range from 0 to 19 inclusive\"**\n",
        "* Sometimes the colon (\":\") is used instead of the vertical bar."
      ]
    },
    {
      "cell_type": "markdown",
      "metadata": {
        "id": "fUEkEhKBo04d",
        "colab_type": "text"
      },
      "source": [
        "https://en.m.wikipedia.org/wiki/Set-builder_notation"
      ]
    },
    {
      "cell_type": "markdown",
      "metadata": {
        "id": "N5Q3MF-IBrBk",
        "colab_type": "text"
      },
      "source": [
        "### **Intervall Schreibweisen**"
      ]
    },
    {
      "cell_type": "markdown",
      "metadata": {
        "id": "Tg38GpUXChNN",
        "colab_type": "text"
      },
      "source": [
        "Ein Intervall kann (beidseitig) beschränkt oder – auch einseitig – unbeschränkt sein. Es ist durch seine untere und seine obere Intervallgrenze eindeutig bestimmt, wenn zusätzlich angegeben wird, ob diese Grenzen im Intervall enthalten sind.\n",
        "\n",
        "Es gibt zwei verschiedene häufig verwendete Intervallschreibweisen:\n",
        "\n",
        "* **Bei der häufigeren der beiden verwendet man für Grenzen, die zum Intervall gehören, eckige Klammern und runde für Grenzen, die nicht zum Intervall gehören. Die eckigen Klammern entsprechen einem schwachen Ungleichheitszeichen ≤. Die runden Klammern () entsprechen einem starken Ungleichheitszeichen <.**\n",
        "\n",
        "* Bei der anderen Schreibweise werden statt der runden Klammern nach außen gewendete (gespiegelte) eckige verwendet. Im Folgenden werden beide Schreibweisen gezeigt und der Mengenschreibweise gegenübergestellt:"
      ]
    },
    {
      "cell_type": "markdown",
      "metadata": {
        "id": "2yFR-a14Btbs",
        "colab_type": "text"
      },
      "source": [
        "https://de.m.wikipedia.org/wiki/Intervall_(Mathematik)"
      ]
    },
    {
      "cell_type": "markdown",
      "metadata": {
        "id": "Qwg82PFnE4K5",
        "colab_type": "text"
      },
      "source": [
        "### **Sets**"
      ]
    },
    {
      "cell_type": "markdown",
      "metadata": {
        "id": "6lpI5kfOLtNq",
        "colab_type": "text"
      },
      "source": [
        "**Special Sets**"
      ]
    },
    {
      "cell_type": "markdown",
      "metadata": {
        "id": "B0pnswdgLu79",
        "colab_type": "text"
      },
      "source": [
        "* One of these is the empty set, denoted { } or ∅.\n",
        "\n",
        "* A set with exactly one element, x, is a unit set, or singleton, {x}.\n",
        "\n",
        "* P or ℙ, denoting the set of all primes: P = {2, 3, 5, 7, 11, 13, 17, ...}.\n",
        "\n",
        "* N, denoting the set of all natural numbers: N = {0, 1, 2, 3, ...} (sometimes defined excluding 0).\n",
        "\n",
        "* Z, denoting the set of all integers (whether positive, negative or zero): Z = {..., −2, −1, 0, 1, 2, ...}.\n",
        "\n",
        "* .. until Quaternions!"
      ]
    },
    {
      "cell_type": "markdown",
      "metadata": {
        "id": "JpJcpo3FMagQ",
        "colab_type": "text"
      },
      "source": [
        "**Cartesian Product**"
      ]
    },
    {
      "cell_type": "markdown",
      "metadata": {
        "id": "ZlwJIH7PMdTC",
        "colab_type": "text"
      },
      "source": [
        "* A new set can be constructed by associating every element of one set with every element of another set. \n",
        "\n",
        "* The Cartesian product of two sets A and B, denoted by A × B is the set of all ordered pairs (a, b) such that a is a member of A and b is a member of B.\n",
        "\n",
        "* For example: {1, 2} × {1, 2} = {(1, 1), (1, 2), (2, 1), (2, 2)}.\n"
      ]
    },
    {
      "cell_type": "markdown",
      "metadata": {
        "id": "7lFbg9u72bz9",
        "colab_type": "text"
      },
      "source": [
        "https://en.m.wikipedia.org/wiki/Set_(mathematics)"
      ]
    },
    {
      "cell_type": "markdown",
      "metadata": {
        "id": "y8qTji9dEglV",
        "colab_type": "text"
      },
      "source": [
        "**Empty Set**"
      ]
    },
    {
      "cell_type": "markdown",
      "metadata": {
        "id": "ji12vrIwEjYt",
        "colab_type": "text"
      },
      "source": [
        "**Power Set**"
      ]
    },
    {
      "cell_type": "markdown",
      "metadata": {
        "id": "9-DSG_jG71SL",
        "colab_type": "text"
      },
      "source": [
        "## **Fundamental Concepts in Point-set Topology**"
      ]
    },
    {
      "cell_type": "markdown",
      "metadata": {
        "id": "vVRecpiQ-EVu",
        "colab_type": "text"
      },
      "source": [
        "### **Point Set (General) Topology**"
      ]
    },
    {
      "cell_type": "markdown",
      "metadata": {
        "id": "3f92e2-6-Jar",
        "colab_type": "text"
      },
      "source": [
        "General topology is the branch of topology that deals with the basic set-theoretic definitions and constructions used in topology. It is the foundation of most other branches of topology, including differential topology, geometric topology, and algebraic topology. Another name for general topology is point-set topology."
      ]
    },
    {
      "cell_type": "markdown",
      "metadata": {
        "id": "Vy5f4vGA-Llx",
        "colab_type": "text"
      },
      "source": [
        "The fundamental concepts in point-set topology are continuity, compactness, and connectedness:\n",
        "\n",
        "* **Continuous functions**, intuitively, take nearby points to nearby points.\n",
        "\n",
        "* **Compact sets** are those that can be covered by finitely many sets of arbitrarily small size.\n",
        "\n",
        "* **Connected sets** are sets that cannot be divided into two pieces that are far apart."
      ]
    },
    {
      "cell_type": "markdown",
      "metadata": {
        "id": "ExpBoOZh-fYO",
        "colab_type": "text"
      },
      "source": [
        "### **Fundamental Concepts**"
      ]
    },
    {
      "cell_type": "markdown",
      "metadata": {
        "id": "bkZcyD7ispT2",
        "colab_type": "text"
      },
      "source": [
        "#### **Open vs Closed Sets**"
      ]
    },
    {
      "cell_type": "markdown",
      "metadata": {
        "id": "r7nlcTMs9m3u",
        "colab_type": "text"
      },
      "source": [
        "Once a choice of open sets is made, the properties of continuity, connectedness, and compactness, which use notions of nearness, can be defined using these open sets."
      ]
    },
    {
      "cell_type": "markdown",
      "metadata": {
        "id": "veKZRhxK9ixo",
        "colab_type": "text"
      },
      "source": [
        "https://en.m.wikipedia.org/wiki/Open_set"
      ]
    },
    {
      "cell_type": "markdown",
      "metadata": {
        "id": "Aah6Ybt3BFAo",
        "colab_type": "text"
      },
      "source": [
        "* A closed set is a set whose complement is an open set. \n",
        "\n",
        "* In a topological space, a closed set can be defined as a set which contains all its limit points. In a complete metric space, a closed set is a set which is closed under the limit operation.\n",
        "\n",
        "* In a topological space, a set is closed if and only if it coincides with its closure. Equivalently, **a set is closed if and only if it contains all of its limit points**. Yet another equivalent definition is that a set is closed if and only **if it contains all of its boundary points**."
      ]
    },
    {
      "cell_type": "markdown",
      "metadata": {
        "id": "yCZfDmljAwZH",
        "colab_type": "text"
      },
      "source": [
        "https://en.m.wikipedia.org/wiki/Closed_set"
      ]
    },
    {
      "cell_type": "markdown",
      "metadata": {
        "id": "0MY8GfGbFHno",
        "colab_type": "text"
      },
      "source": [
        "**Abgeschlossene Menge / Intervall**"
      ]
    },
    {
      "cell_type": "markdown",
      "metadata": {
        "id": "RV0s9Fa7FNdj",
        "colab_type": "text"
      },
      "source": [
        "Ein einfaches Beispiel ist das Intervall [0,1] in den reellen Zahlen (mit der Standardtopologie, erzeugt durch die Metrik $d_{x y}=|x-y|$. \n",
        "\n",
        "* Das Komplement von [0,1] ist die Vereinigung $(-\\infty, 0) \\cup(1, \\infty)$ zweier offener Intervalle, also eine offene Menge, also ist [0,1] eine abgeschlossene Menge. \n",
        "\n",
        "* Deshalb nennt man das Intervall [0,1] ein abgeschlossenes Intervall. \n",
        "\n",
        "* Dagegen ist das Intervall (0,1] nicht abgeschlossen, denn das Komplement $(-\\infty, 0] \\cup(1, \\infty)$ ist\n",
        "nicht offen."
      ]
    },
    {
      "cell_type": "markdown",
      "metadata": {
        "id": "uqLz8vEXFUMM",
        "colab_type": "text"
      },
      "source": [
        "https://de.m.wikipedia.org/wiki/Abgeschlossene_Menge"
      ]
    },
    {
      "cell_type": "markdown",
      "metadata": {
        "id": "y29Lv8RzDsKQ",
        "colab_type": "text"
      },
      "source": [
        "**Abgeschlossenes Intervall**\n",
        "\n",
        ">$[a, b]:=\\{x \\in \\mathbb{R} \\mid a \\leq x \\leq b\\}$\n",
        "\n",
        "Das Intervall enthält sowohl $a$ als auch $b$.\n",
        "Ein Intervall ist genau dann kompakt, wenn es abgeschlossen und beschränkt ist.\n",
        "\n",
        "**Offenes Intervall**\n",
        "\n",
        ">$(a, b)=] a, b[:=\\{x \\in \\mathbb{R} \\mid a<x<b\\}$\n",
        "\n",
        "Das Intervall enthält weder $a$ noch $b$. Die Notation $(a, b)$ ist die traditionell verwendete, während ] $a, b\\left[\\text { auf Bourbaki zurückgeht. }^{[3]}\\right.$\n",
        "Halboffenes (genauer rechtsoffenes) Intervall\n",
        "\n",
        ">$[a, b)=[a, b[:=\\{x \\in \\mathbb{R} \\mid a \\leq x<b\\}$\n",
        "\n",
        "Das Intervall enthält $a$, aber nicht $b$.\n",
        "Halboffenes (genauer linksoffenes) Intervall\n",
        "\n",
        "> $(a, b]=\\mid a, b]:=\\{x \\in \\mathbb{R} \\mid a<x \\leq b\\}$\n",
        "\n",
        "Das Intervall enthält nicht $a,$ wohl aber $b$\n",
        "Im Fall von $a=0$ und $b=1$ heißt $(a, b)$ das offene Einheitsintervall und $[a, b]$ das abgeschlossene Einheitsintervall."
      ]
    },
    {
      "cell_type": "markdown",
      "metadata": {
        "id": "IRb13Big9a34",
        "colab_type": "text"
      },
      "source": [
        "#### **Bounded Set (Beschränkte Menge)**"
      ]
    },
    {
      "cell_type": "markdown",
      "metadata": {
        "id": "2GSt0Y7hCytg",
        "colab_type": "text"
      },
      "source": [
        "Sei a < b. \n",
        "* Ein beschränktes Intervall mit der unteren Grenze a und der oberen Grenze b ist abgeschlossen, wenn es beide Grenzen enthält, und offen, wenn beide Grenzen nicht enthalten sind. \n",
        "* Ein beschränktes Intervall heißt halboffen, wenn es genau eine der beiden Intervallgrenzen enthält."
      ]
    },
    {
      "cell_type": "markdown",
      "metadata": {
        "id": "7TFsQujX_SVR",
        "colab_type": "text"
      },
      "source": [
        "* A set is called bounded if it is, in a certain sense, of finite size. Conversely, a set which is not bounded is called unbounded. \n",
        "\n",
        "* The word 'bounded' makes no sense in a general topological space without a corresponding metric."
      ]
    },
    {
      "cell_type": "markdown",
      "metadata": {
        "id": "PB-Yp0cW_KEa",
        "colab_type": "text"
      },
      "source": [
        "https://en.m.wikipedia.org/wiki/Bounded_set"
      ]
    },
    {
      "cell_type": "markdown",
      "metadata": {
        "id": "Au_7lJVfD9TW",
        "colab_type": "text"
      },
      "source": [
        "**Unbeschränktes Intervall**"
      ]
    },
    {
      "cell_type": "markdown",
      "metadata": {
        "id": "PhkazI_KEAOB",
        "colab_type": "text"
      },
      "source": [
        "Wenn auf einer Seite die Intervallgrenze fehlt, es dort also keine Schranke geben soll, spricht man von einem (auf dieser Seite) unbeschränkten Intervall. Meist werden hierfür die bekannten Symbole −∞ und ∞ als „Ersatz“-Intervallgrenzen verwendet, die selbst nie zum Intervall gehören (deshalb die Schreibung mit runder Klammer). In mancher Literatur werden beschränkte Intervalle auch als eigentlich, unbeschränkte als uneigentlich bezeichnet."
      ]
    },
    {
      "cell_type": "markdown",
      "metadata": {
        "id": "21qZFuM2ErWJ",
        "colab_type": "text"
      },
      "source": [
        "#### **Bounded/Unbounded & Open/Closed Set**"
      ]
    },
    {
      "cell_type": "markdown",
      "metadata": {
        "id": "1maUQc7GEyfH",
        "colab_type": "text"
      },
      "source": [
        "Linksseitig unendliches abgeschlossenes Intervall\n",
        "\n",
        ">$(-\\infty, b]=]-\\infty, b]:=\\{x \\in \\mathbb{R} \\mid x \\leq b\\}$\n",
        "\n",
        "Es enthält alle Zahlen, die kleiner oder gleich $b$ sind.\n",
        "Linksseitig unendliches offenes Intervall\n",
        "\n",
        ">$(-\\infty, b)=]-\\infty, b[:=\\{x \\in \\mathbb{R} \\mid x<b\\}$\n",
        "\n",
        "Es enthält alle Zahlen, die kleiner als $b$ sind.\n",
        "Rechtsseitig unendliches abgeschlossenes Intervall\n",
        "\n",
        ">$[a, \\infty)=[a, \\infty[:=\\{x \\in \\mathbb{R} \\mid a \\leq x\\}$\n",
        "\n",
        "Es enthält alle Zahlen, die größer oder gleich $a$ sind.\n",
        "Rechtsseitig unendliches offenes Intervall\n",
        "\n",
        ">$(a, \\infty)=] a, \\infty[:=\\{x \\in \\mathbb{R} \\mid a<x\\}$\n",
        "\n",
        "Es enthält alle Zahlen, die größer als $a$ sind.\n",
        "Beidseitig unendliches offenes (und zugleich abgeschlossenes) Intervall $(-\\infty, \\infty)=]-\\infty, \\infty[:=\\mathbb{R}$"
      ]
    },
    {
      "cell_type": "markdown",
      "metadata": {
        "id": "nEWOiZVNE3-6",
        "colab_type": "text"
      },
      "source": [
        "https://de.m.wikipedia.org/wiki/Intervall_(Mathematik)"
      ]
    },
    {
      "cell_type": "markdown",
      "metadata": {
        "id": "ak2HBZOH8xiT",
        "colab_type": "text"
      },
      "source": [
        "#### **Convergence**"
      ]
    },
    {
      "cell_type": "markdown",
      "metadata": {
        "id": "xwV5ocLV85FJ",
        "colab_type": "text"
      },
      "source": [
        "https://en.m.wikipedia.org/wiki/Limit_of_a_sequence"
      ]
    },
    {
      "cell_type": "markdown",
      "metadata": {
        "id": "_eC1wGo3_nDk",
        "colab_type": "text"
      },
      "source": [
        "#### **Complete metric space**"
      ]
    },
    {
      "cell_type": "markdown",
      "metadata": {
        "id": "OralSlIa_qwe",
        "colab_type": "text"
      },
      "source": [
        "https://en.m.wikipedia.org/wiki/Complete_metric_space"
      ]
    },
    {
      "cell_type": "markdown",
      "metadata": {
        "id": "JxW1L7eI-qLa",
        "colab_type": "text"
      },
      "source": [
        "### **Abstract Topological Concepts**"
      ]
    },
    {
      "cell_type": "markdown",
      "metadata": {
        "id": "9zeKm32B9J-r",
        "colab_type": "text"
      },
      "source": [
        "#### **Continuity**"
      ]
    },
    {
      "cell_type": "markdown",
      "metadata": {
        "id": "KBOrGjnQ9P-J",
        "colab_type": "text"
      },
      "source": [
        "https://en.m.wikipedia.org/wiki/Continuous_function"
      ]
    },
    {
      "cell_type": "markdown",
      "metadata": {
        "id": "KVfJxtw_faJK",
        "colab_type": "text"
      },
      "source": [
        "#### **Compactness**"
      ]
    },
    {
      "cell_type": "markdown",
      "metadata": {
        "id": "R7FCyYP7ARwP",
        "colab_type": "text"
      },
      "source": [
        "![alternativer Text](https://upload.wikimedia.org/wikipedia/commons/thumb/7/7c/Compact.svg/512px-Compact.svg.png)"
      ]
    },
    {
      "cell_type": "markdown",
      "metadata": {
        "id": "WuKJS_xH8UhE",
        "colab_type": "text"
      },
      "source": [
        "Per the compactness criteria for Euclidean space as stated in the Heine-Borel Theorem:\n",
        "\n",
        "* the interval A = (−∞, −2] is not compact because it is not bounded. \n",
        "\n",
        "* The interval C = (2, 4) is not compact because it is not closed. \n",
        "\n",
        "* The interval B = [0, 1] is compact because it is both closed and bounded."
      ]
    },
    {
      "cell_type": "markdown",
      "metadata": {
        "id": "JC4--mmzfgd7",
        "colab_type": "text"
      },
      "source": [
        "Compactness is a property that generalizes the notion of a subset of Euclidean space **being closed** (i.e., containing all its limit points) and **bounded** (i.e., having all its points lie within some fixed distance of each other).\n",
        "\n",
        "* Examples include a closed interval, a rectangle, or a finite set of points. This notion is defined for more general topological spaces than Euclidean space in various ways.\n",
        "\n",
        "* importance of including the boundary points of the interval, since the limit points must be in the space itself — an open (or half-open) interval of the real numbers is not compact. \n",
        "\n",
        "* It is also crucial that the interval be bounded, since in the interval [0,∞), one could choose the sequence of points 0, 1, 2, 3, ..., of which no sub-sequence ultimately gets arbitrarily close to any given real number."
      ]
    },
    {
      "cell_type": "markdown",
      "metadata": {
        "id": "HBeD_rrUfvQR",
        "colab_type": "text"
      },
      "source": [
        "https://en.m.wikipedia.org/wiki/Compact_space"
      ]
    },
    {
      "cell_type": "markdown",
      "metadata": {
        "id": "jnf6EJrp8kCL",
        "colab_type": "text"
      },
      "source": [
        "#### **Connectedness**"
      ]
    },
    {
      "cell_type": "markdown",
      "metadata": {
        "id": "XeEEjEU58mZk",
        "colab_type": "text"
      },
      "source": [
        "https://en.m.wikipedia.org/wiki/Connected_space"
      ]
    },
    {
      "cell_type": "markdown",
      "metadata": {
        "id": "laFiQDC1yiKG",
        "colab_type": "text"
      },
      "source": [
        "## **Measure & Measurable Space**"
      ]
    },
    {
      "cell_type": "markdown",
      "metadata": {
        "id": "gR0omcCEyljo",
        "colab_type": "text"
      },
      "source": [
        "* A measure space is a basic object of measure theory, a branch of mathematics that studies generalized notions of volumes. \n",
        "\n",
        "* It contains an underlying set, the subsets of this set that are feasible for measuring (the σ-algebra) and the method that is used for measuring (the measure). \n",
        "\n",
        "* **One important example of a measure space is a probability space**.\n",
        "\n",
        "* A measurable space consists of the first two components without a specific measure."
      ]
    },
    {
      "cell_type": "markdown",
      "metadata": {
        "id": "bqmDCJDWy4sq",
        "colab_type": "text"
      },
      "source": [
        "A measure space is a triple $(X, \\mathcal{A}, \\mu),$ where\n",
        "\n",
        "* $X$ is a set\n",
        "\n",
        "* $\\mathcal{A}$ is a $\\sigma$ -algebra on the set $X$\n",
        "\n",
        "* $\\boldsymbol{\\mu}$ is a measure on $(X, \\mathcal{A})$"
      ]
    },
    {
      "cell_type": "markdown",
      "metadata": {
        "id": "xDp68lYUypzs",
        "colab_type": "text"
      },
      "source": [
        "https://en.m.wikipedia.org/wiki/Measure_space"
      ]
    },
    {
      "cell_type": "markdown",
      "metadata": {
        "id": "lxZqzchtzaSz",
        "colab_type": "text"
      },
      "source": [
        "A **complete measure** (or, more precisely, a complete measure space) is a measure space in which every subset of every null set is measurable (having measure zero). "
      ]
    },
    {
      "cell_type": "markdown",
      "metadata": {
        "id": "XtShSxHrzeGE",
        "colab_type": "text"
      },
      "source": [
        "https://en.m.wikipedia.org/wiki/Complete_measure"
      ]
    },
    {
      "cell_type": "markdown",
      "metadata": {
        "id": "LMxl70lljGLr",
        "colab_type": "text"
      },
      "source": [
        "## **Mengenalgebra (Fields of Sets)**"
      ]
    },
    {
      "cell_type": "markdown",
      "metadata": {
        "id": "wEIdFJLmUG_C",
        "colab_type": "text"
      },
      "source": [
        "**Mengensystem** oder **Mengenalgebra** oder **Fields of Sets**"
      ]
    },
    {
      "cell_type": "markdown",
      "metadata": {
        "id": "Ct9dwFuXEuFS",
        "colab_type": "text"
      },
      "source": [
        "Ω (Omega) sei eine beliebige Menge. Ein System $\\mathcal{A}$ von Teilmengen von Ω heißt eine Mengenalgebra oder Algebra über Ω, wenn folgende Eigenschaften erfüllt sind:\n",
        "\n",
        "1. $\\mathcal{A} \\neq \\emptyset$ ( $\\mathcal{A}$ ist nicht leer)\n",
        "\n",
        "2. $A, B \\in \\mathcal{A} \\Rightarrow A \\cup B \\in \\mathcal{A}$ (Stabilität/Abgeschlossenheit bezüglich Vereinigung)\n",
        "\n",
        "3. $A \\in \\mathcal{A} \\Rightarrow A^{\\mathrm{c}} \\in \\mathcal{A}$ (Stabilität/Abgeschlossenheit bezüglich Komplementbildung $\\left.A^{c}=\\Omega \\backslash A\\right)$"
      ]
    },
    {
      "cell_type": "markdown",
      "metadata": {
        "id": "E_ksvdizjJS-",
        "colab_type": "text"
      },
      "source": [
        "* In der Mathematik ist (Mengen-)Algebra ein Grundbegriff der Maßtheorie. Er beschreibt ein nicht-leeres Mengensystem, das vereinigungs- und komplementstabil ist.\n",
        "\n",
        "* A field of sets is a **pair ⟨X,F⟩** where X is a set and F is an algebra over X i.e., a subset of the power set of X, closed under complements of individual sets and under the union (hence also under the intersection) of pairs of sets, and satisfying X ∈ F. \n",
        "\n",
        "* In other words, F forms a subalgebra of the power set Boolean algebra of X (with the same identity element X ∈ F). (Many authors refer to F itself as a field of sets.) \n",
        "\n",
        "* **Elements of X are called points and those of F are called complexes and are said to be the admissible sets of X.**"
      ]
    },
    {
      "cell_type": "markdown",
      "metadata": {
        "id": "paRO-7ajId2V",
        "colab_type": "text"
      },
      "source": [
        "* For arbitrary set $Y$, its power set (Potenzmenge) $2^{Y}$ (or, somewhat pedantically, the pair $\\left\\langle Y, 2^{Y}\\right\\rangle$ of this set and its power set) is a field of sets. \n",
        "\n",
        "* If $Y$ is finite (namely, $n$ -element), then $2^{Y}$ is finite (namely, $2^{n}$ element). \n",
        "\n",
        "* It appears that every finite field of sets (it means, $\\langle X, \\mathcal{F}\\rangle$ with $\\mathcal{F}$ finite, while $X$ may be infinite) admits a representation of the form $\\left\\langle Y, 2^{Y}\\right\\rangle$ with finite $Y ;$ it means a function $f: X \\rightarrow Y$ that establishes a one-to-one correspondence between $\\mathcal{F}$ and $2^{Y}$ via inverse image:\n",
        "$S=f^{-1}[B]=\\{x \\in X \\mid f(x) \\in B\\}$ where $S \\in \\mathcal{F}$ and $B \\in 2^{Y}$ (that is, $B \\subset Y$ ). \n",
        "\n",
        "* One notable consequence: the number of complexes, if finite, is always of the form $2^{n}$."
      ]
    },
    {
      "cell_type": "markdown",
      "metadata": {
        "id": "JqkRhwrZHSGp",
        "colab_type": "text"
      },
      "source": [
        "**Beispiele für Algebra**"
      ]
    },
    {
      "cell_type": "markdown",
      "metadata": {
        "id": "8AFXRKkuHYNd",
        "colab_type": "text"
      },
      "source": [
        "* Für jede beliebige Menge $\\Omega$ ist $\\{\\emptyset, \\Omega\\}$ die kleinste und die Potenzmenge $\\mathcal{P}(\\Omega)$ die größtmögliche Mengenalgebra.\n",
        "* Jede $\\sigma$ -Algebra ist eine Mengenalgebra.\n",
        "* Für jede Menge $\\Omega$ ist das Mengensystem $\\mathcal{A}=\\left\\{A \\subseteq \\Omega \\mid A \\text { endlich oder } A^{c} \\text { endlich }\\right\\}$ eine Mengenalgebra. Wenn $\\Omega$ unendich ist, dann ist $\\mathcal{A}$ keine $\\sigma$ -Algebra."
      ]
    },
    {
      "cell_type": "markdown",
      "metadata": {
        "id": "ded5mK7pcYoX",
        "colab_type": "text"
      },
      "source": [
        "**Separative and compact fields of sets: towards Stone duality**"
      ]
    },
    {
      "cell_type": "markdown",
      "metadata": {
        "id": "p7fxFxMgcbMU",
        "colab_type": "text"
      },
      "source": [
        "* A field of sets is called **separative (or differentiated)** if and only if for every pair of distinct points there is a complex containing one and not the other.\n",
        "\n",
        "* A field of sets is called **compact** if and only if for every proper filter over X the intersection of all the complexes contained in the filter is non-empty."
      ]
    },
    {
      "cell_type": "markdown",
      "metadata": {
        "id": "7JL_pBvidGa5",
        "colab_type": "text"
      },
      "source": [
        "Given a field of sets $\\mathbf{X}=\\langle X, \\mathcal{F}\\rangle$ the complexes form a base for a topology. We denote by $T(\\mathbf{X})$ the corresponding topological space, $\\langle X, \\mathcal{T}\\rangle$ where $\\mathcal{T}$ is the topology formed by taking arbitrary unions of complexes. Then\n",
        "\n",
        "1. $T(\\mathbf{X})$ is always a [zero-dimensional space](https://en.m.wikipedia.org/wiki/Zero-dimensional_space)\n",
        "\n",
        "2. $T(\\mathbf{X})$ is a [Hausdorff space](https://en.m.wikipedia.org/wiki/Hausdorff_space) if and only if $\\mathbf{X}$ is separative.\n",
        "\n",
        "3. $T(\\mathbf{X})$ is a compact space with compact open sets $\\mathcal{F}$ if and only if $\\mathbf{X}$ is compact.\n",
        "\n",
        "4. $T(\\mathbf{X})$ is a Boolean space with clopen sets $\\mathcal{F}$ if and only if $\\mathbf{X}$ is both separative and compact (in which case it is described as being descriptive)"
      ]
    },
    {
      "cell_type": "markdown",
      "metadata": {
        "id": "6I7YepgQlABC",
        "colab_type": "text"
      },
      "source": [
        "https://en.m.wikipedia.org/wiki/Field_of_sets"
      ]
    },
    {
      "cell_type": "markdown",
      "metadata": {
        "id": "Vc8T8hpoiWFR",
        "colab_type": "text"
      },
      "source": [
        "## **σ-algebra**"
      ]
    },
    {
      "cell_type": "markdown",
      "metadata": {
        "id": "hbXQyLk2hrd6",
        "colab_type": "text"
      },
      "source": [
        "If an algebra over a **set is closed under countable unions** (hence also under countable intersections), it is called a **sigma algebra** and the corresponding field of sets (Mengensystem) is called a **measurable space**. The complexes of a measurable space are called measurable sets."
      ]
    },
    {
      "cell_type": "markdown",
      "metadata": {
        "id": "PBHuPNh-iYrR",
        "colab_type": "text"
      },
      "source": [
        "* A measure space is a triple $\\langle X, \\mathcal{F}, \\mu\\rangle$ where $\\langle X, \\mathcal{F}\\rangle$ is a measurable space and $\\mu$ is a measure defined on it. \n",
        "\n",
        "* If $\\mu$ is in fact a probability measure we speak of a probability space and call its underlying measurable space a sample space. \n",
        "\n",
        "* The points of a sample space are called samples and represent potential outcomes while the measurable sets (complexes) are called events and represent properties of outcomes for which we wish to assign probabilities. (Many use the term sample space simply for the underlying set of a probability space, particularly in the case where every subset is an event.) \n",
        "\n",
        "* Measure spaces and probability spaces play a foundational role in measure theory and probability theory respectively."
      ]
    },
    {
      "cell_type": "markdown",
      "metadata": {
        "id": "X1Lw-DP0jMwK",
        "colab_type": "text"
      },
      "source": [
        "https://de.m.wikipedia.org/wiki/Algebra_(Mengensystem)"
      ]
    },
    {
      "cell_type": "markdown",
      "metadata": {
        "id": "-jNczSdWjYRG",
        "colab_type": "text"
      },
      "source": [
        "https://de.m.wikipedia.org/wiki/Algebraische_Struktur"
      ]
    },
    {
      "cell_type": "markdown",
      "metadata": {
        "id": "rYkkBbjsRFFG",
        "colab_type": "text"
      },
      "source": [
        "**Pain Point**\n",
        "\n",
        "* How to define a messbare Menge?\n",
        "\n",
        "* Wenn wir eine Menge aus den reellen Zahlen haben und mochten eine Teilbereich [a bis b] messen, dann brauchen wir einen allgemeinen Massbegriff unabhangig von der konkreten Menge. Hier kommt Masstheorie und Sigma-Algebra."
      ]
    },
    {
      "cell_type": "markdown",
      "metadata": {
        "id": "ylmaHPVWRK9l",
        "colab_type": "text"
      },
      "source": [
        "**Definition**"
      ]
    },
    {
      "cell_type": "markdown",
      "metadata": {
        "id": "YfU7qMaHRHrJ",
        "colab_type": "text"
      },
      "source": [
        "* A σ-algebra defines the **set of events that can be measured**, which in a probability context is equivalent to events that can be discriminated, or \"questions that can be answered at time t\".\n",
        "\n",
        "* Exkurs: Ergebnis vs Ereignis. Die möglichen Ausgänge eines Zufallsexperimentes nennt man **Ergebnisse** (zB auf einem Wüfel die Zahlen 1,2,3..). Wenn man alle möglichen Ergebnisse eines Zufallsexperimentes in einer Menge zusammenfasst, erhält man die **Ergebnismenge**. Sie wird üblicherweise mit dem Symbol Ω (sprich Omega) bezeichnet. Beim Würfeln ist Ω= {1; 2; 3; 4; 5; 6} die Ergebnismenge. Jede Zusammenfassung von einem oder mehreren Ergebnissen eines Zufallsexperimentes in einer Menge nennt man **Ereignis** (zB auf einem Würfel die Menge an geraden Zahlen {2,4,6} und ungeraden Zahlen {1,3,5}.\n",
        "\n",
        "* Eine Sigma-Algebra F ist ein System, um alle möglichen **Ereignisse** (nicht Ergebnisse!) eines Zufallsexperiment zu beschreiben. Ereignisse sind an sich selbst Mengen, die man wie jede Menge vereinigen oder schneiden bzw. auch das Komplement bilden kann um so das Gegenereignis zu erhalten. Fasst man hier alle möglichen Kombinationen an Ereignissen in einer Menge zusammen, bekommt man eine Menge, die wiederum Mengen als Elemente enthält - eine Menge von Mengen sozusagen. Oft sagt man dazu auch einfach Mengensystem. Welche Eigenschaften ein Mengensystem genau haben muss, damit es eine Sigma-Algebra ist steht weiter unten.\n",
        "\n",
        "* Beispiel: Glücksrad mit blau, rot und grün. Dann haben wir folglich drei Ergebnisse, die wir auch abkürzen können: Ω={B,R,G}. Generell kann man sich schon merken: Ω und ∅ sind immer Elemente einer Sigma-Algebra. Daher haben wir hier 8 mögliche Teilmengen von Ω, die wir als Ereignis betrachten können und demnach als Menge in der Sigma-Algebra zusammenfassen (Potenzmenge von Omega): F ={∅, {B}, {R}, {G}, {B,R}, {B,G}, {R,G}, {B,R,G}} ([Source](https://www.massmatics.de/merkzettel/#!876:Ereignisraum_&_Sigma-Algebra)).\n",
        "\n",
        "* Bei diskreten Ergebnismengen kann man für die Sigma-Algebra immer die Potenzmenge P(Ω)nehmen und hat demnach dann stets diesen **Ereignisraum: (Ω,P(Ω))**\n",
        "\n",
        "* Und für die reellen Zahlen gibt es die sogenannte **Borelsche Sigma-Algebra B**, die man dann auch in der Regel benutzt. Ist die Ergebnismenge Ω eine Teilmenge der reellen Zahlen (oder ℝ selbst), so nehmen wir die Borelsche-Sigma B und der Ereignisraum lautet (Ω,B).\n",
        "\n",
        "* Wenn wir eine Sigma Algebra A gegeben haben, dann heisst jede Teilmenge in diesem Mengensystem (jedes Element aus dieser Sigma Algebra A) eine messbare Teilmenge (=die Mengen die wir messen wollen).\n",
        "\n",
        "* **<u>Die Elemente der Sigma Algebra sind die messbaren Teilmengen von unserer Grundmenge X</u>** (Und messbar ist der wesentliche Begriff). Das ist zB die Menge an vergangenen Trading-Events am Finanzmarkt bis zum Zeitpunkt t.\n",
        "\n",
        "* Sigma Algebra ist ein **Mengensystem von einer Teilmenge einer gegebenen Grundmenge** = der Raum, **den wir beschreiben wollen** (mit drei Eigenschaften). Die Menge einer Sigma-Algebra nennt man „**messbare Teilmengen**“."
      ]
    },
    {
      "cell_type": "markdown",
      "metadata": {
        "id": "6auD5Yi3ROPL",
        "colab_type": "text"
      },
      "source": [
        "**Eigenschaften**"
      ]
    },
    {
      "cell_type": "markdown",
      "metadata": {
        "id": "Dt5X24zGRPv2",
        "colab_type": "text"
      },
      "source": [
        "**A $\\subseteq$ P(X) (=Potenzmenge) heisst Sigma Algebra, wenn gilt** (Die Mengen, die in dieser Sigma Algebra liegen, das sind jene, die folgende drei Eigenschaften erfüllen, und sind die, die wir messen wollen (=diesen Mengen wollen wir ein Mass zuordnen). Potenzmenge selbst soll eine Sigma Algebra sein. Sollten gewissen Eigenschaften der Potenzmenge fordern). **<u>A collection of subsets</u> A is called a σ-algebra on a set X if the following properties are met:**\n",
        "\n",
        "1. **A contains X (the set itself)**: $\\quad \\phi, X \\in A$ (Leere Menge (sollte Länge oder Volumen Null haben) und ganze Grundmenge selbst haben wir im Mengensystem / sollen messbar sein. Das ist was Sigma Algebra sagt). **Ω ∈ F (Ergebnismenge muss enthalten sein)**\n",
        "\n",
        "2. **If A contains a subset S, then A also contains the complement of S**: $A \\in A \\Rightarrow A^{c}:=X \\backslash A \\in A$ (Irgendein Element in der Algebra: dann sollte auch dessen Komplement im Mengensystem enthalten sein.) Hiermit ist auch Regel 1 eingeschlossen! Deswegen liegt auch die leere Menge (Gegenereignis von Ω) in F.\n",
        "\n",
        "3. **Consider a countable collection of subsets. If each subset is included in A, then A must also contain their reunion.**: $A_{i} \\in A$ fur i $\\in N \\Rightarrow \\bigcup_{i=1}^{\\infty} A_{i} \\in A$ ((Letzter Punkt macht das Sigma aus): Abzählbarkeit, abzählbare Summe (A i‘s aus unseren Mengensystem A): wir haben endlich viele bzw. abzählbar viele, dann können wir die Vereinigung bilden / abziehbare Vereinigung. Die abzählbare Vereinigung soll wieder in der Sigma Algebra liegen = Wenn wir Längen haben, dann sollten wir die auch addieren können, auch wenn sich die Addition bis unendlich streckt! (blick auf messbarkeit))"
      ]
    },
    {
      "cell_type": "markdown",
      "metadata": {
        "id": "4wNxurifRQLG",
        "colab_type": "text"
      },
      "source": [
        "Having defined such a σ-algebra A, we call **the elements of σ-algebra A measurable sets** and the couple (X, A) a measurable space. An arbitrary set X can be a member of a multitude of σ-algebras. We denote the set of all σ-algebras that contain X with M(X). The **intersection of all those σ-algebras is called the σ-algebra generated by X**.\n",
        "\n",
        "**A σ-algebra (also σ-field) on a set X is a collection Σ of subsets of X that includes X itself, is closed under complement, and is closed under countable unions**. The definition implies that it also includes the empty subset and that it is closed under countable intersections. The pair (X, Σ) is called a measurable space or Borel space. A σ-algebra is a type of algebra of sets. An algebra of sets needs only to be closed under the union or intersection of finitely many subsets, which is a weaker condition."
      ]
    },
    {
      "cell_type": "markdown",
      "metadata": {
        "id": "dkTiCKMcRUGB",
        "colab_type": "text"
      },
      "source": [
        "**Borel‘sche Sigma-Algebra**\n",
        "\n",
        "* T ist ein topologischer Raum (oder ein metrischer Raum im engeren Sinn.) und X eine Menge darin. „Offene Mengen“.\n",
        "\n",
        "* Die Borel’sche Sigma Algebra auf topologischen Raum X ist jene kleinste Sigma Algebra, die von den offenen Mengen erzeugt wird. \n",
        "\n",
        "* B(X) := (T)"
      ]
    },
    {
      "cell_type": "markdown",
      "metadata": {
        "id": "oVtVUBW1RWUN",
        "colab_type": "text"
      },
      "source": [
        "**Measurable function**\n",
        "\n",
        "* **A set is measurable when it’s included in a σ-algebra.**\n",
        "\n",
        "* We can also extend the “measurable” attribute to functions. Here’s how:\n",
        "\n",
        "* Let’s consider (X, A) and (Y, B) two measurable spaces. A function f from A to B is called measurable if every set from B comes from applying f to a set from A. Formally, we say that for any element S of B, the pre-image of S under the function f is in A.\n"
      ]
    },
    {
      "cell_type": "markdown",
      "metadata": {
        "id": "-ppJ9Jx6SH74",
        "colab_type": "text"
      },
      "source": [
        "**Application**"
      ]
    },
    {
      "cell_type": "markdown",
      "metadata": {
        "id": "LXrGhC2HSKTh",
        "colab_type": "text"
      },
      "source": [
        "* The main use of σ-algebras is in the definition of measures; specifically, the collection of those subsets for which a given measure is defined is necessarily a σ-algebra. \n",
        "\n",
        "* This concept is important in mathematical analysis as the **foundation for Lebesgue integration**, and in probability theory, where it is **interpreted as the collection of events which can be assigned probabilities**. \n",
        "\n",
        "* Also, in probability, σ-algebras are pivotal in the definition of conditional expectation.\n",
        "\n",
        "* In statistics, (sub) σ-algebras are needed for the formal mathematical definition of a sufficient statistic, particularly when the statistic is a function or a random process and the notion of conditional density is not applicable."
      ]
    },
    {
      "cell_type": "markdown",
      "metadata": {
        "id": "759BrNmbSOQz",
        "colab_type": "text"
      },
      "source": [
        "**Examples**"
      ]
    },
    {
      "cell_type": "markdown",
      "metadata": {
        "id": "ueaKd0bbSPj-",
        "colab_type": "text"
      },
      "source": [
        "1. **Minimum**: Sigma Algebra A enthält leere Menge und Grundmenge selbst (kleinste Sigma Algebra die möglich ist): A = {𝜙,X}\n",
        "2. **Maximum**: Sigma Algebra enthält die Potenzmenge (beinhaltet alle Teilmengen von X): A = P(X)"
      ]
    },
    {
      "cell_type": "markdown",
      "metadata": {
        "id": "qrpgaCc5SSQx",
        "colab_type": "text"
      },
      "source": [
        "* If {A1, A2, A3, …} is a countable partition of X then the **collection of all unions of sets in the partition** (including the empty set) is a σ-algebra.\n",
        "\n",
        "* A more useful example is the set of subsets of the real line formed by starting with all open intervals and adding in all countable unions, countable intersections, and relative complements and continuing this process (by transfinite iteration through all countable ordinals) until the relevant closure properties are achieved - the σ-algebra produced by this process is known as the Borel algebra on the real line, and can also be conceived as the smallest (i.e. \"coarsest\") σ-algebra containing all the open sets, or equivalently containing all the closed sets. It is foundational to measure theory, and therefore modern probability theory, and a related construction known as the Borel hierarchy is of relevance to descriptive set theory."
      ]
    },
    {
      "cell_type": "markdown",
      "metadata": {
        "id": "dJz4ybz4SVKh",
        "colab_type": "text"
      },
      "source": [
        "https://medium.com/towards-artificial-intelligence/what-is-measure-theory-67c281f8a094"
      ]
    },
    {
      "cell_type": "markdown",
      "metadata": {
        "id": "4S4z_HeLRbtc",
        "colab_type": "text"
      },
      "source": [
        "## **Filtrations**"
      ]
    },
    {
      "cell_type": "markdown",
      "metadata": {
        "id": "kWRt0ouzRfq3",
        "colab_type": "text"
      },
      "source": [
        "* In a multiperiod market, information about the market scenario is revealed in stages. \n",
        "\n",
        "* Some events may be completely determined by the end of the first trading period, others by the end of the second, and others not until the termination of all trading. \n",
        "\n",
        "* This suggests the following classification of events: for each t ≤ T ,\n",
        "\n",
        "(1) Ft = {all events determined in the first t trading periods}.\n",
        "\n",
        "* The finite sequence (Ft)0≤t≤T is a filtration of the space Ω of market scenarios. \n",
        "\n",
        "* In general, a filtration of a set Ω (not necessarily finite) is defined to be a collection Ft, indexed by a time parameter t (time may be either discrete or continuous), such that\n",
        "\n",
        "(a) each Ft is a σ−algebra of subsets (events) of Ω; and \n",
        "\n",
        "(b) if s<t then Fs ⊆Ft."
      ]
    },
    {
      "cell_type": "markdown",
      "metadata": {
        "id": "Dakkth8kTba4",
        "colab_type": "text"
      },
      "source": [
        "**Filtration and Stochastic Processes**"
      ]
    },
    {
      "cell_type": "markdown",
      "metadata": {
        "id": "8f7--tqiTdyL",
        "colab_type": "text"
      },
      "source": [
        "https://almostsure.wordpress.com/2009/11/08/filtrations-and-adapted-processes/"
      ]
    },
    {
      "cell_type": "markdown",
      "metadata": {
        "id": "cUaeKRFSTfWJ",
        "colab_type": "text"
      },
      "source": [
        "* In mathematics, a filtration $\\mathcal{F}$ is an indexed family $\\left(S_{i}\\right)_{i \\in I}$ of subobjects of a given algebraic structure $S,$ with the index $i$ running over some totally ordered index set $I$, subject to the condition\n",
        "that\n",
        "\n",
        "> if $i \\leq j$ in $I,$ then $S_{i} \\subset S_{j}$\n",
        "\n",
        "* If the index i is the time parameter of some stochastic process, then the filtration can be interpreted as **representing all historical but not future information available about the stochastic process**, with the algebraic structure S<sub>i</sub> gaining in complexity with time. \n",
        "\n",
        "* Hence, a process that is adapted to a filtration F, is also called **non-anticipating**, i.e. one that cannot see into the future.\n",
        "\n",
        "* Eine Filtrierung (auch Filtration, Filterung oder Filtern) ist in der Theorie der stochastischen Prozesse eine Familie von verschachtelten σ-Algebren. Sie modelliert die zu verschiedenen Zeitpunkten verfügbaren Informationen zum Verlauf eines Zufallsprozesses."
      ]
    },
    {
      "cell_type": "markdown",
      "metadata": {
        "id": "aItl9UHSTMPk",
        "colab_type": "text"
      },
      "source": [
        "https://de.m.wikipedia.org/wiki/Filtrierung_(Wahrscheinlichkeitstheorie)"
      ]
    },
    {
      "cell_type": "markdown",
      "metadata": {
        "id": "v_kxlSluThye",
        "colab_type": "text"
      },
      "source": [
        "## **Stopping Time**"
      ]
    },
    {
      "cell_type": "markdown",
      "metadata": {
        "id": "PBSsj3NATji0",
        "colab_type": "text"
      },
      "source": [
        "* Der Begriff der Filtrierung ist unerlässlich, um, ausgehend vom Begriff des stochastischen Prozesses,\n",
        "wichtige Begriffe wie Martingale oder Stoppzeiten einzuführen.\n",
        "\n",
        "* Als Menge $T$ wird wie bei stochastischen Prozessen meist $\\mathbb{R}_{+}$ oder $\\mathbb{N}_{0}$ gewählt und $t \\in T$ als Zeitpunkt interpretiert.\n",
        "\n",
        "* **$\\sigma$ -Algebren modellieren verfügbare Information**. Die Mengen der $\\sigma$ -Algebra $\\mathcal{F}_{t}$ geben zu jedem Zeitpunkt $t$ an, wie viele Informationen zur Zeit bekannt sind. Für jedes Ereignis $A \\subseteq \\Omega$ bedeutet $A \\in \\mathcal{F}_{t}$ übersetzt, dass zum Zeitpunkt $t$ die Frage $,$ ist $\\omega \\in A ?^{\\prime \\prime}$ eindeutig mit $,$ ja\" oder $,$ nein\" beantwortet werden kann. \n",
        "\n",
        "* Dass die Filtrierung stets aufsteigend geordnet ist, bedeutet demnach, **dass eine einmal erlangte Information nicht mehr verloren geht.**\n",
        "\n",
        "* Ist ein stochastischer Prozess $\\left(X_{t}\\right)_{t \\in T}$ an eine Filtrierung $\\left(\\mathcal{F}_{t}\\right)_{t \\in T}$ adaptiert, bedeutet dies also, dass der Verlauf der Funktion $s \\mapsto X_{s}(\\omega)$ im Intervall $[0, t]$ zum Zeitpunkt $t$ (für beliebiges, aber unbekanntes $\\omega \\in \\Omega$ und in Hinsicht auf die durch Ereignisse $A \\in \\mathcal{F}_{s}, s \\in[0, t]$ formulierbaren Fragen bekannt ist.\n",
        "\n",
        "* Der Begriff wird aufgrund seiner Bedeutung in den meisten fortgeschrittenen Lehrbüchern über stochastische Prozesse definiert. In einigen Lehrbüchern, zum Beispiel im Buch Probability von Albert N. Schirjajew, wird der Begriff aus didaktischen Gründen zunächst umfassend für Prozesse mit diskreten\n",
        "Werten in diskreter Zeit eingeführt."
      ]
    },
    {
      "cell_type": "markdown",
      "metadata": {
        "id": "j1jbiHbhTmjI",
        "colab_type": "text"
      },
      "source": [
        "https://de.m.wikipedia.org/wiki/Filtrierung_(Wahrscheinlichkeitstheorie)"
      ]
    },
    {
      "cell_type": "markdown",
      "metadata": {
        "id": "wpaLuu1hToI5",
        "colab_type": "text"
      },
      "source": [
        "**Beispiel**"
      ]
    },
    {
      "cell_type": "markdown",
      "metadata": {
        "id": "MuA_GsRdTpdF",
        "colab_type": "text"
      },
      "source": [
        "Betrachtet man als Beispiel einen Wahrscheinlichkeitsraum $(\\mathbb{Z}, \\mathcal{P}(\\mathbb{Z}), P)$ mit abzählbarer Grundmenge $\\mathbb{Z}$ die standardmäßig mit der Potenzmenge als $\\sigma$ -Algebra ausgestattet ist, so wäre eine mögliche Filtrierung beispielsweise\n",
        "\n",
        "$\\mathcal{F}_{n}:=\\sigma(\\mathcal{P}(\\{-n, \\ldots, n\\}))$\n",
        "\n",
        "Sie modelliert die Informationen, dass man bis zum n-ten Zeitschritt sich bis zu n Schritte vom Ursprung entfernt hat und wäre beispielsweise die passende Filtrierung für einen einfachen symmetrischen Random\n",
        "Walk."
      ]
    },
    {
      "cell_type": "markdown",
      "metadata": {
        "id": "XTlfEwihSoCY",
        "colab_type": "text"
      },
      "source": [
        "**Optional Stopping Theorem**"
      ]
    },
    {
      "cell_type": "markdown",
      "metadata": {
        "id": "KkWnh7gmSp_P",
        "colab_type": "text"
      },
      "source": [
        "* Das Optional Stopping Theorem ist ein mathematischer Satz über Martingale, eine spezielle Klasse von stochastischen Prozessen, und damit der Wahrscheinlichkeitstheorie zuzuordnen."
      ]
    },
    {
      "cell_type": "markdown",
      "metadata": {
        "id": "ACEdUaw8SsLa",
        "colab_type": "text"
      },
      "source": [
        "https://de.m.wikipedia.org/wiki/Optional_Stopping_Theorem"
      ]
    },
    {
      "cell_type": "markdown",
      "metadata": {
        "id": "Wt61hl-eStyZ",
        "colab_type": "text"
      },
      "source": [
        "**Optional Sampling Theorem**"
      ]
    },
    {
      "cell_type": "markdown",
      "metadata": {
        "id": "90UhOSzKSvwX",
        "colab_type": "text"
      },
      "source": [
        "* Eine populäre Version dieses Theorems besagt, dass es bei einem fairen, sich wiederholenden Spiel keine Abbruchstrategie gibt, mit der man seinen Gesamtgewinn verbessern kann."
      ]
    },
    {
      "cell_type": "markdown",
      "metadata": {
        "id": "KATpf77vSzZC",
        "colab_type": "text"
      },
      "source": [
        "https://de.m.wikipedia.org/wiki/Optional_Sampling_Theorem"
      ]
    },
    {
      "cell_type": "markdown",
      "metadata": {
        "id": "VB0x_AXTS1Hv",
        "colab_type": "text"
      },
      "source": [
        "**Starke Markoweigenschaft**"
      ]
    },
    {
      "cell_type": "markdown",
      "metadata": {
        "id": "lILdY--jS2-Q",
        "colab_type": "text"
      },
      "source": [
        "https://de.m.wikipedia.org/wiki/Starke_Markoweigenschaft"
      ]
    },
    {
      "cell_type": "markdown",
      "metadata": {
        "id": "UdtBxMWdTBtK",
        "colab_type": "text"
      },
      "source": [
        "**Stoppzeit (Markov Moment)**"
      ]
    },
    {
      "cell_type": "markdown",
      "metadata": {
        "id": "71iQf0RdTDNJ",
        "colab_type": "text"
      },
      "source": [
        "* In der Stochastik bezeichnet der Begriff der Stoppzeit eine spezielle Art von Zufallsvariablen, die auf filtrierten Wahrscheinlichkeitsräumen definiert werden. \n",
        "\n",
        "* Stoppzeiten sind nicht nur von Bedeutung für die Theorie der stochastischen Prozesse (beispielsweise bei der Lokalisierung von Prozessklassen oder Untersuchungen von gestoppten Prozessen), sondern auch von praktischer Relevanz, etwa für das Problem des optimalen Ausübungszeitpunkts für amerikanische Optionen.\n",
        "\n",
        "* Eine Stoppzeit kann man als die Wartezeit interpretieren, die vergeht, bis ein bestimmtes zufälliges Ereignis eintritt. Wenn wie üblich die Filtrierung die vorhandene Information zu verschiedenen Zeitpunkten angibt, bedeutet die obige Bedingung also, dass zu jeder Zeit bekannt sein soll, ob dieses Ereignis bereits eingetreten ist oder nicht.\n",
        "\n"
      ]
    },
    {
      "cell_type": "markdown",
      "metadata": {
        "id": "y9XXp_tQTFfW",
        "colab_type": "text"
      },
      "source": [
        "https://de.m.wikipedia.org/wiki/Stoppzeit"
      ]
    },
    {
      "cell_type": "markdown",
      "metadata": {
        "id": "m9N4JsisTHOz",
        "colab_type": "text"
      },
      "source": [
        "**Filtrierung von Stoppzeiten**"
      ]
    },
    {
      "cell_type": "markdown",
      "metadata": {
        "id": "X0VXIdxXTI94",
        "colab_type": "text"
      },
      "source": [
        "* Eine Stoppzeit $\\tau: \\Omega \\rightarrow[0, \\infty]$ bezüglich einer beliebigen Filtrierung $\\left(\\mathcal{F}_{t}\\right)_{t \\in[0, \\infty)}$ erzeugt in Analogie zur natürlichen Filtrierung eine $\\sigma$ -Algebra, die sogenannte $\\sigma$ -Algebra der $\\tau$ -Vergangenheit\n",
        "\n",
        "$\\mathcal{F}_{\\tau}:=\\left\\{A \\in \\mathcal{F}_{\\infty} \\mid \\forall t \\in[0, \\infty): A \\cap\\{\\tau \\leq t\\} \\in \\mathcal{F}_{t}\\right\\} \\text { mit } \\mathcal{F}_{\\infty}=\\sigma\\left(\\bigcup_{t \\in[0, \\infty)} \\mathcal{F}_{t}\\right)$\n",
        "\n",
        "* Sei nun $\\left(\\tau_{j}\\right)_{j \\in J}$ eine geordnete Familie von Stoppzeiten mit $P\\left(\\tau_{i} \\leq \\tau_{j}\\right)=1$ für alle $i, j \\in J$ mit $i \\leq j$ dann ist die Familie $\\left(\\mathcal{F}_{\\tau_{j}}\\right)_{j \\in J}$ eine Filtrierung, diese ist beim Studium von Stoppzeiten stochastischer Prozesse von Bedeutung. \n",
        "\n",
        "* In Analogie erzeugt man die rechtsstetige Version der Filtrierung $\\left(\\mathcal{F}_{\\tau_{j}+}\\right)_{j \\in J}$ wobei:\n",
        "\n",
        "$\\mathcal{F}_{r+}:=\\left\\{A \\in \\mathcal{F}_{\\infty} \\mid \\forall t \\in[0, \\infty): A \\cap\\{\\tau \\leq t\\} \\in \\mathcal{F}_{t+}\\right\\} \\text { und } \\mathcal{F}_{t+}=\\bigcap_{u \\in(t, \\infty)} \\mathcal{F}_{u}$\n",
        "\n",
        "* Es gilt immer $\\mathcal{F}_{\\tau} \\subseteq \\mathcal{F}_{r+}$"
      ]
    },
    {
      "cell_type": "markdown",
      "metadata": {
        "id": "NzXTTVxeTOIU",
        "colab_type": "text"
      },
      "source": [
        "**Vorhersagbarer Prozess**"
      ]
    },
    {
      "cell_type": "markdown",
      "metadata": {
        "id": "RLO880D6TPsQ",
        "colab_type": "text"
      },
      "source": [
        "https://de.m.wikipedia.org/wiki/Vorhersagbarer_Prozess"
      ]
    },
    {
      "cell_type": "markdown",
      "metadata": {
        "id": "GJ5sfwleTp0G",
        "colab_type": "text"
      },
      "source": [
        "## **Martingales**"
      ]
    },
    {
      "cell_type": "markdown",
      "metadata": {
        "id": "twdKxs43TtLO",
        "colab_type": "text"
      },
      "source": [
        "* In martingale theory and the theory of stochastic processes, a **filtration is an increasing sequence of σ-algebras on a measurable space**.\n",
        "\n",
        "* That is, given a measurable space $(\\Omega, \\mathcal{F}),$ a filtration is a sequence of $\\sigma$ -algebras $\\left\\{\\mathcal{F}_{t}\\right\\}_{t \\geq 0}$ with $\\mathcal{F}_{t} \\subseteq \\mathcal{F}$ where each $t$ is a non-negative real number and \n",
        "\n",
        "> $t_{1} \\leq t_{2} \\Longrightarrow \\mathcal{F}_{t_{1}} \\subseteq \\mathcal{F}_{t_{2}}$\n",
        "\n",
        "* The exact range of the \"times\" $t$ will usually depend on context: the set of values for $t$ might be discrete or continuous, bounded or unbounded. For example,\n",
        "\n",
        "> $t \\in\\{0,1, \\ldots, N\\}, \\mathbb{N}_{0},[0, T]$ or $[0,+\\infty)$\n",
        "\n",
        "* **A σ-algebra defines the set of events that can be measured, which in a probability context is equivalent to events that can be discriminated, or \"questions that can be answered at time t\".** \n",
        "\n",
        "* **Therefore, a filtration is often used to represent the change in the set of events that can be measured, through gain or loss of information**. \n",
        "\n",
        "* A typical example is in mathematical finance, where a filtration represents the information available up to and including each time t, and is more and more precise (the set of measurable events is staying the same or increasing) as more information from the evolution of the stock price becomes available."
      ]
    },
    {
      "cell_type": "markdown",
      "metadata": {
        "id": "HHZ_qSHtTttI",
        "colab_type": "text"
      },
      "source": [
        "A Filtration is a growing sequence of sigma algebras\n",
        "\n",
        "> $\\mathcal{F}_{1} \\subseteq \\mathcal{F}_{2} \\ldots \\subseteq \\mathcal{F}_{n}$"
      ]
    },
    {
      "cell_type": "markdown",
      "metadata": {
        "id": "ydUyoWHMTxuH",
        "colab_type": "text"
      },
      "source": [
        "When talking of martingales we need to talk of conditional expectations, and in particular conditional expectations w.r.t σ algebra's. So whenever we write\n",
        "\n",
        "> $E\\left[Y_{n} \\mid X_{1}, X_{2}, \\ldots, X_{n}\\right]$\n",
        "\n",
        "which can be written as\n",
        "\n",
        "> $E\\left[Y_{n+1} \\mid \\mathcal{F}_{n}\\right]$\n",
        "\n",
        "where F𝑛 is a sigma algebra that makes random variables\n",
        "\n",
        "> $X_{1}, \\ldots, X_{n}$\n",
        "\n",
        "measurable. Finally a flitration F1,…Fn is simply an increasing sequence of sigma algebras. That is **we are conditioning on growing amounts of information**."
      ]
    },
    {
      "cell_type": "markdown",
      "metadata": {
        "id": "xJFV1b0SVIDD",
        "colab_type": "text"
      },
      "source": [
        "Let (Ω,F,P) be a probability space and (Ft)0≤t≤T or (Ft)0≤t<∞ a filtration by sub- σ−algebras of F. An adapted sequence Xt of integrable random variables is defined to be a\n",
        "\n",
        "* martingale if E(Xt+1|Ft) = Xt ∀t (=for all t).\n",
        "* submartingale if E(Xt+1|Ft) ≥ Xt ∀t.\n",
        "* supermartingale if E(Xt+1|Ft) ≤ Xt ∀t."
      ]
    },
    {
      "cell_type": "markdown",
      "metadata": {
        "id": "6r27yD1jVKcH",
        "colab_type": "text"
      },
      "source": [
        "A measure space is a triple $\\langle X, \\mathcal{F}, \\mu\\rangle$ where $\\langle X, \\mathcal{F}\\rangle$ is a measurable space and $\\mu$ is a measure defined on it. If $\\mu$ is in fact a probability measure we speak of a probability space and call its\n",
        "underlying measurable space a sample space. The points of a sample space are called samples\n",
        "and represent potential outcomes while the measurable sets (complexes) are called events and\n",
        "represent properties of outcomes for which we wish to assign probabilities. (Many use the term\n",
        "sample space simply for the underlying set of a probability space, particularly in the case where\n",
        "every subset is an event.) Measure spaces and probability spaces play a foundational role in\n",
        "measure theory and probability theory respectively."
      ]
    },
    {
      "cell_type": "markdown",
      "metadata": {
        "id": "8ykSQCbjSa7R",
        "colab_type": "text"
      },
      "source": [
        "## **Stochastische Prozesse**"
      ]
    },
    {
      "cell_type": "markdown",
      "metadata": {
        "id": "UY-znHMpVTE2",
        "colab_type": "text"
      },
      "source": [
        "**σ-Algebra & stochastische Prozesse**"
      ]
    },
    {
      "cell_type": "markdown",
      "metadata": {
        "id": "IoZiS2oORjId",
        "colab_type": "text"
      },
      "source": [
        "**Measure-theoretic probability theory**"
      ]
    },
    {
      "cell_type": "markdown",
      "metadata": {
        "id": "IA-XQOB0Rk43",
        "colab_type": "text"
      },
      "source": [
        "* The raison d'être of the measure-theoretic treatment of probability is that it unifies the discrete and the continuous cases, and makes the difference a question of which measure is used. Furthermore, it covers distributions that are neither discrete nor continuous nor mixtures of the two.\n",
        "\n",
        "* Other distributions may not even be a mix, for example, the Cantor distribution has no positive probability for any single point, neither does it have a density. \n",
        "\n",
        "* The modern approach to probability theory solves these problems using measure theory to define the probability space:"
      ]
    },
    {
      "cell_type": "markdown",
      "metadata": {
        "id": "iTrQPBeNRoM_",
        "colab_type": "text"
      },
      "source": [
        "Given any set $\\Omega$ (also called sample space) and a $\\sigma$ -algebra $\\mathcal{F}$ on it, a measure $P$ defined on $\\mathcal{F}$ is\n",
        "called a probability measure if $P(\\Omega)=1$\n",
        "\n",
        "If $\\mathcal{F}$ is the Borel $\\sigma$ -algebra on the set of real numbers, then there is a unique probability measure on\n",
        "$\\mathcal{F}$ for any cdf, and vice versa. The measure corresponding to a cdf is said to be induced by the cdf.\n",
        "\n",
        "This measure coincides with the pmf for discrete variables and pdf for continuous variables, making the measure-theoretic approach free of fallacies.\n",
        "\n",
        "The probability of a set $E$ in the $\\sigma$ -algebra $\\mathcal{F}$ is defined as\n",
        "\n",
        "$P(E)=\\int_{\\omega \\in E} \\mu_{F}(d \\omega)$\n",
        "\n",
        "where the integration is with respect to the measure $\\mu_{F}$ induced by $F$"
      ]
    },
    {
      "cell_type": "markdown",
      "metadata": {
        "id": "q2zSbb9oRrPM",
        "colab_type": "text"
      },
      "source": [
        "Along with providing better understanding and unification of discrete and continuous probabilities, measure-theoretic treatment also allows us to work on probabilities outside R<sup>n</sup>, as in the theory of stochastic processes. For example, to study Brownian motion, probability is defined on a space of functions.\n",
        "\n",
        "When it's convenient to work with a dominating measure, the Radon-Nikodym theorem is used to define a density as the Radon-Nikodym derivative of the probability distribution of interest with respect to this dominating measure. \n",
        "\n",
        "* Discrete densities are usually defined as this derivative with respect to a counting measure over the set of all possible outcomes. \n",
        "\n",
        "* Densities for absolutely continuous distributions are usually defined as this derivative with respect to the Lebesgue measure. \n",
        "\n",
        "* If a theorem can be proved in this general setting, it holds for both discrete and continuous distributions as well as others; separate proofs are not required for discrete and continuous distributions."
      ]
    },
    {
      "cell_type": "markdown",
      "metadata": {
        "id": "NtTcW7mPRxh0",
        "colab_type": "text"
      },
      "source": [
        "https://en.m.wikipedia.org/wiki/Probability_theory"
      ]
    },
    {
      "cell_type": "markdown",
      "metadata": {
        "id": "mwavcTOWSgVC",
        "colab_type": "text"
      },
      "source": [
        "**σ-Algebra der τ-Vergangenheit**"
      ]
    },
    {
      "cell_type": "markdown",
      "metadata": {
        "id": "yhsdp5wBSiAq",
        "colab_type": "text"
      },
      "source": [
        "* Die σ-Algebra der τ-Vergangenheit ist ein **Mengensystem**, sowie ein von der Stoppzeit abgeleitetes Konzept\n",
        "\n",
        "* Die σ-Algebra der τ-Vergangenheit ist eine **spezielle σ-Algebra**, welche über die Filtrierung und die Stoppzeit definiert wird. Sie findet beispielsweise Anwendung bei der Definition der starken Markow-Eigenschaft und dem Optional Sampling Theorem.\n",
        "\n",
        "* Sie entsteht durch Kombination einer Filtrierung mit einer Stoppzeit und findet meist Anwendung bei Aussagen über gestoppte Prozesse, also stochastische Prozesse, die an einem zufälligen Zeitpunkt angehalten werden. Zu diesen Aussagen gehören beispielsweise das Optional Stopping Theorem, das Optional Sampling Theorem und die Definition der starken Markow-Eigenschaft.\n",
        "\n",
        "* Gegeben sei ein Wahrscheinlichkeitsraum $(\\Omega, \\mathcal{A}, P)$ sowie eine Filtrierung $\\mathbb{F}=\\left(\\mathcal{F}_{t}\\right)_{t \\in T}$ bezüglich der Ober- $\\sigma$ -Algebra $\\mathcal{A}$ und eine Stoppzeit $\\tau$ bezüglich $\\mathbb{F}$. Dann heißt\n",
        "\n",
        "$\\mathcal{F}_{\\tau}=\\left\\{A \\in \\mathcal{A} \\mid A \\cap\\{\\tau \\leq t\\} \\in \\mathcal{F}_{t} \\text { für alle } t \\in T\\right\\}$\n",
        "\n",
        "die $\\sigma$ -Algebra der $\\tau$ -Vergangenheit."
      ]
    },
    {
      "cell_type": "markdown",
      "metadata": {
        "id": "XrJVzH6bSlVG",
        "colab_type": "text"
      },
      "source": [
        "https://de.m.wikipedia.org/wiki/Σ-Algebra_der_τ-Vergangenheit"
      ]
    },
    {
      "cell_type": "markdown",
      "metadata": {
        "id": "3ij5mebmVA8m",
        "colab_type": "text"
      },
      "source": [
        "**Wahrscheinlichkeitsraum**"
      ]
    },
    {
      "cell_type": "markdown",
      "metadata": {
        "id": "sHNOE1lKU7wF",
        "colab_type": "text"
      },
      "source": [
        "* Es handelt sich um ein mathematisches Modell zur Beschreibung von Zufallsexperimenten. Hierbei werden die verschiedenen möglichen Ausgänge des Experiments zu einer Menge zusammengefasst. Teilmengen dieser Ergebnismenge können dann unter bestimmten Voraussetzungen Zahlen zwischen 0 und 1 zugeordnet werden, die als Wahrscheinlichkeiten interpretiert werden.\n",
        "\n",
        "* Ein Wahrscheinlichkeitsraum ist ein Maßraum (Ω, Σ, P) dessen Maß P ein Wahrscheinlichkeitsmaß ist. Im Einzelnen bedeutet das: \n",
        "\n",
        "* Ω ist eine beliebige nichtleere Menge, genannt die Ergebnismenge. Ihre Elemente heißen Ergebnisse.\n",
        "\n",
        "* Σ (Sigma) ist eine σ-Algebra über der Grundmenge Ω (Omega), also eine Menge bestehend aus Teilmengen von Ω, die Ω enthält und abgeschlossen gegenüber der Bildung von Komplementen und abzählbaren Vereinigungen ist. Die Elemente von Σ heißen Ereignisse. Die σ-Algebra Σ selbst wird auch Ereignissystem oder Ereignisalgebra genannt.\n",
        "\n",
        "* P : Σ –> [0,1] ist ein Wahrscheinlichkeitsmaß, das heißt eine Mengenfunktion, die den Ereignissen Zahlen zuordnet, derart dass P(∅) = 0 ist, P (A1 ∪ A2 ∪ … ) = P(A1) + P(A2) + … für paarweise disjunkte (d. h. sich gegenseitig ausschließende) Ereignisse A1, A2, … gilt (3. Kolmogorow-Axiom) und P(Ω) = 1 ist (2. Kolmogorow-Axiom).\n",
        "\n",
        "* Der Messraum (Ω, Σ) wird auch Ereignisraum genannt. Ein Wahrscheinlichkeitsraum ist also ein Ereignisraum, auf dem zusätzlich ein Wahrscheinlichkeitsmaß gegeben ist.\n",
        "\n",
        "https://de.m.wikipedia.org/wiki/Wahrscheinlichkeitsraum"
      ]
    },
    {
      "cell_type": "markdown",
      "metadata": {
        "id": "YlBNcfp3Rz6H",
        "colab_type": "text"
      },
      "source": [
        "## **Adapted Process**"
      ]
    },
    {
      "cell_type": "markdown",
      "metadata": {
        "id": "PDPqovDyR3ll",
        "colab_type": "text"
      },
      "source": [
        "* for exmaple in Finance\n",
        "\n",
        "* The share prices of assets in a multiperiod market depend on market scenarios, but evolve in such a way that their values at any time t, being observable at time t, do not depend on the unobservable post-t futures of the scenarios. \n",
        "\n",
        "* Thus, the price process St of a traded asset is **adapted to the natural filtration** (Ft)0≤t≤T defined by (1). \n",
        "\n",
        "* In general, a sequence Xt of random variables is said to be **adapted to a filtration** (Ft)0≤t≤T if, for each t, the random variable Xt is **Ft−measurable**, that is, if all events of the form {ω : Xt(ω) ∈ B}, where **B is a Borel** subset of the real numbers R, are members of the σ−algebra Ft."
      ]
    },
    {
      "cell_type": "markdown",
      "metadata": {
        "id": "DN1m6a8kVGp1",
        "colab_type": "text"
      },
      "source": [
        "## **Power Set (Potenzmenge)**"
      ]
    },
    {
      "cell_type": "markdown",
      "metadata": {
        "id": "PqODkHicct2V",
        "colab_type": "text"
      },
      "source": [
        "* Als Potenzmenge bezeichnet man in der Mengenlehre die **Menge aller Teilmengen einer gegebenen Grundmenge**. Man notiert die Potenzmenge einer Menge X meist als P(X).\n",
        "\n",
        "* The power set of a set S is the set of all subsets of S. The power set contains S itself and the empty set because these are both subsets of S. For example, the power set of the set {1, 2, 3} is {{1, 2, 3}, {1, 2}, {1, 3}, {2, 3}, {1}, {2}, {3}, ∅}. The power set of a set S is usually written as P(S).\n",
        "\n",
        "* **The power set of a finite set with n elements has 2<sup>n</sup> elements**. For example, the set {1, 2, 3} contains three elements, and the power set shown above contains 2<sup>3</sup> = 8 elements.\n",
        "\n",
        "* The power set (or powerset) of any set S is the **set of all subsets of S, including the empty set and S itself**, variously denoted as P(S), 𝒫(S), ℘(S) (using the \"Weierstrass p\"), P(S), ℙ(S), or, identifying the powerset of S with the set of all functions from S to a given set of two elements, 2S.\n",
        "\n",
        "* If S is the set {x, y, z}, then the subsets of S are: {} (also denoted ∅, the empty set or the null set), {x}, {y}, {z}, {x, y}, {x, z}, {y, z}, {x, y, z} and hence the power set of S is {{}, {x}, {y}, {z}, {x, y}, {x, z}, {y, z}, {x, y, z}}.\n",
        "\n",
        "* The power set of an infinite (either countable or uncountable) set is always uncountable. \n",
        "\n",
        "* Moreover, the power set of a set is always strictly \"bigger\" than the original set in the sense that there is no way to pair every element of S with exactly one element of P(S). (There is never an onto map or [surjection](https://en.m.wikipedia.org/wiki/Surjective_function) from S onto P(S).)"
      ]
    },
    {
      "cell_type": "markdown",
      "metadata": {
        "id": "Hakve64ge6r7",
        "colab_type": "text"
      },
      "source": [
        "**Mächtigkeit (Cardinality)**"
      ]
    },
    {
      "cell_type": "markdown",
      "metadata": {
        "id": "yAxgYlbte-Cw",
        "colab_type": "text"
      },
      "source": [
        "* Die Mächtigkeit einer  Menge  M mit endlich vielen Elementen ist die Anzahl ihrer Elemente. Man schreibt für die Mächtigkeit einer Menge M entweder ∣M∣ oder #M.\n",
        "\n",
        "* Die Mächtigkeit der Potenzmenge einer Menge A, ist: 𝒫(A)=2<sup>∣A∣</sup>. Ein Beispiel für eine Potenzmenge ist der Ereignisraum."
      ]
    },
    {
      "cell_type": "markdown",
      "metadata": {
        "id": "aiwmFdY0vEln",
        "colab_type": "text"
      },
      "source": [
        "https://en.m.wikipedia.org/wiki/Cardinality"
      ]
    },
    {
      "cell_type": "markdown",
      "metadata": {
        "id": "Wc07l69FcrFL",
        "colab_type": "text"
      },
      "source": [
        "**Representing subsets as functions**"
      ]
    },
    {
      "cell_type": "markdown",
      "metadata": {
        "id": "B3AhcVapcgvw",
        "colab_type": "text"
      },
      "source": [
        "* In set theory, X<sup>Y</sup> is the set of all functions from Y to X. As \"2\" can be defined as {0,1} (see natural number), 2S (i.e., {0,1}S) is the set of all functions from S to {0,1}.\n",
        "\n",
        "* By identifying a function in 2S with the corresponding preimage of 1, we see that there is a bijection between 2S and P(S), where each function is the characteristic function of the subset in P(S) with which it is identified.\n",
        "\n",
        "* Hence 2S and P(S) could be considered identical set-theoretically. (Thus there are two distinct notational motivations for denoting the power set by 2S: the fact that this function-representation of subsets makes it a special case of the XY notation and the property, mentioned above, that |2S| = 2|S|.)"
      ]
    },
    {
      "cell_type": "markdown",
      "metadata": {
        "id": "vgxwnRHhaHgL",
        "colab_type": "text"
      },
      "source": [
        "https://en.m.wikipedia.org/wiki/Power_set"
      ]
    },
    {
      "cell_type": "markdown",
      "metadata": {
        "id": "YKW5uEo1K-yG",
        "colab_type": "text"
      },
      "source": [
        "https://en.m.wikipedia.org/wiki/Surjective_function"
      ]
    },
    {
      "cell_type": "markdown",
      "metadata": {
        "id": "7S02zfX9cYAb",
        "colab_type": "text"
      },
      "source": [
        "## **Universe (Grundmenge)**"
      ]
    },
    {
      "cell_type": "markdown",
      "metadata": {
        "id": "SfBckwmfcblp",
        "colab_type": "text"
      },
      "source": [
        "* A universe is a collection that contains all the entities one wishes to consider in a given situation. \n",
        "\n",
        "* Eine Grundmenge (auch Universum) bezeichnet in der Mathematik eine Menge aus allen in einem bestimmten Zusammenhang betrachteten Objekten. Alle in diesem Zusammenhang betrachteten Mengen sind dann Teilmengen dieser Grundmenge. \n",
        "\n",
        "* **In einzelnen Fällen werden jedoch im Gegenzug nicht auch alle Teilmengen der Grundmenge betrachtet, so zum Beispiel im Fall einer σ-Algebra**. "
      ]
    },
    {
      "cell_type": "markdown",
      "metadata": {
        "id": "hPzPJw1ndAge",
        "colab_type": "text"
      },
      "source": [
        "https://en.m.wikipedia.org/wiki/Universe_(mathematics)"
      ]
    },
    {
      "cell_type": "markdown",
      "metadata": {
        "id": "z3KqqsZoinKt",
        "colab_type": "text"
      },
      "source": [
        "**Solution Set (Lösungsmenge)**"
      ]
    },
    {
      "cell_type": "markdown",
      "metadata": {
        "id": "dgT3QNA9i0T8",
        "colab_type": "text"
      },
      "source": [
        "Im Falle einer Gleichung wie beispielsweise x+5=3 handelt es sich um eine Aussageform, die an sich weder wahr noch falsch ist. Erst wenn man anstelle von x konkrete Zahlen einsetzt, wird aus der Aussageform eine Aussage, die entweder wahr oder falsch ist. Es interessiert beim Lösen einer Gleichung in der Regel jene Zahl, die aus der Gleichung eine wahre Aussage macht. Derjenige, der sich diese Gleichung ausgedacht hat, macht für den Löser dieser Gleichung jetzt außerdem noch eine weitere Vorschrift: Man soll nur innerhalb der natürlichen Zahlen N nach einem Objekt oder einer Zahl suchen dürfen, welches bzw. welche aus der Gleichung eine wahre Aussage macht. Anders formuliert: Die Grundmenge zur Gleichung wird in diesem Fall als N vorgeschrieben. Als Folge dieser Einschränkung wird man keine Zahl finden, welche die Gleichung erfüllt. Und deshalb ist die Lösungsmenge der Gleichung leer."
      ]
    },
    {
      "cell_type": "markdown",
      "metadata": {
        "id": "_5YZoVb2eOaK",
        "colab_type": "text"
      },
      "source": [
        "**Miscellaneous**"
      ]
    },
    {
      "cell_type": "markdown",
      "metadata": {
        "id": "AvvlxJOUeNxB",
        "colab_type": "text"
      },
      "source": [
        "http://settheory.net/sets/time-in-set-theory"
      ]
    }
  ]
}