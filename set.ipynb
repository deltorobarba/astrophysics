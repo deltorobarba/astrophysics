{
  "nbformat": 4,
  "nbformat_minor": 0,
  "metadata": {
    "colab": {
      "name": "set.ipynb",
      "provenance": [],
      "collapsed_sections": [
        "RB3x-IPteB99",
        "2t0NnrUfDoVg",
        "1dSqpbRkD3jr",
        "7S02zfX9cYAb",
        "CL7B0EzWip_V",
        "z3KqqsZoinKt",
        "m9GLAbmlCg0H",
        "DN1m6a8kVGp1",
        "lbuYt-bx4_1W",
        "J4eCraLjCrRx",
        "ErN__bggDh9m",
        "Vc8T8hpoiWFR",
        "6lpI5kfOLtNq",
        "WYqXPG4GK4NL",
        "U64am8GwoTEL",
        "zmHivtKKC6td",
        "O1v7eQtS4gqu",
        "rQzLXsG6C4Lx",
        "uw99f_qvDl6i",
        "V27J3X8qM9cN",
        "PomYI_xzCurv",
        "5xNu3ZUr3rtp",
        "JGhitrlOQEHM",
        "qrbj7vn2poCe",
        "4S4z_HeLRbtc",
        "YlBNcfp3Rz6H",
        "GJ5sfwleTp0G",
        "v_kxlSluThye",
        "mwavcTOWSgVC",
        "WyUKo3xGerMv",
        "Rh7gHNwQks0n",
        "BRoSqoTrlB3H",
        "M11uiWZt6sKJ",
        "N234_tIJ7CBJ",
        "Kf784FrZLYsu"
      ],
      "toc_visible": true,
      "include_colab_link": true
    },
    "kernelspec": {
      "name": "python3",
      "display_name": "Python 3"
    }
  },
  "cells": [
    {
      "cell_type": "markdown",
      "metadata": {
        "id": "view-in-github",
        "colab_type": "text"
      },
      "source": [
        "<a href=\"https://colab.research.google.com/github/deltorobarba/machinelearning/blob/master/set.ipynb\" target=\"_parent\"><img src=\"https://colab.research.google.com/assets/colab-badge.svg\" alt=\"Open In Colab\"/></a>"
      ]
    },
    {
      "cell_type": "markdown",
      "metadata": {
        "id": "2Aoj2PpxvDQV"
      },
      "source": [
        "# **Set-, Measure- & Order Theory**"
      ]
    },
    {
      "cell_type": "code",
      "metadata": {
        "id": "1U5_6xH7tAQq"
      },
      "source": [
        "import numpy as np\n",
        "import pandas as pd\n",
        "import seaborn as sns\n",
        "import matplotlib.pyplot as plt"
      ],
      "execution_count": null,
      "outputs": []
    },
    {
      "cell_type": "markdown",
      "metadata": {
        "id": "RB3x-IPteB99"
      },
      "source": [
        "## **Set**"
      ]
    },
    {
      "cell_type": "markdown",
      "metadata": {
        "id": "2t0NnrUfDoVg"
      },
      "source": [
        "### **Definition**"
      ]
    },
    {
      "cell_type": "markdown",
      "metadata": {
        "id": "Vc5McPnPJTuA"
      },
      "source": [
        "http://settheory.net/sets/time-in-set-theory"
      ]
    },
    {
      "cell_type": "markdown",
      "metadata": {
        "id": "nl4Bcn2gJZSO"
      },
      "source": [
        "https://en.m.wikipedia.org/wiki/Complete_metric_space"
      ]
    },
    {
      "cell_type": "markdown",
      "metadata": {
        "id": "5ZG8iYYSKFEn"
      },
      "source": [
        "**A set is a collection of objects. Each object in the set is called an element of the set.**"
      ]
    },
    {
      "cell_type": "markdown",
      "metadata": {
        "id": "Tmp5fmoLDfmS"
      },
      "source": [
        "A set is a well-defined collection of distinct objects, considered as an object in its own right. The arrangement of the objects in the set does not matter. For example, \n",
        "\n",
        "* the numbers 2, 4, and 6 are distinct objects when considered separately, \n",
        "\n",
        "* but when they are considered collectively they form a single set of size three, written as {2, 4, 6}, which could also be written as {2, 6, 4}"
      ]
    },
    {
      "cell_type": "markdown",
      "metadata": {
        "id": "L4QAPB_PECeU"
      },
      "source": [
        "Set theory begins with a fundamental binary relation between an object o and a set A. If o is a member (or element) of A, the notation o ∈ A is used. A set is described by listing elements separated by commas, or by a characterizing property of its elements, within braces { }. Since sets are objects, the membership relation can relate sets as well.\n",
        "\n",
        "* A derived binary relation between two sets is the subset relation, also called set inclusion. If all the members of set A are also members of set B, then A is a subset of B, denoted A ⊆ B. For example, {1, 2} is a subset of {1, 2, 3} , and so is {2} but {1, 4} is not. \n",
        "\n",
        "* As insinuated from this definition, a set is a subset of itself. For cases where this possibility is unsuitable or would make sense to be rejected, the term proper subset is defined. A is called a proper subset of B if and only if A is a subset of B, but A is not equal to B. \n",
        "\n",
        "* Also 1, 2, and 3 are members (elements) of the set {1, 2, 3} but are not subsets of it; and in turn, the subsets, such as {1}, are not members of the set {1, 2, 3}."
      ]
    },
    {
      "cell_type": "markdown",
      "metadata": {
        "id": "WwfFp85sD0t5"
      },
      "source": [
        "https://en.m.wikipedia.org/wiki/Set_(mathematics)"
      ]
    },
    {
      "cell_type": "markdown",
      "metadata": {
        "id": "s9-oi0pwDxyx"
      },
      "source": [
        "https://en.m.wikipedia.org/wiki/Set_theory"
      ]
    },
    {
      "cell_type": "markdown",
      "metadata": {
        "id": "CzxVJn6ADkKT"
      },
      "source": [
        "**Basic Operations: Union ∪, Intersection ∩ & Complements \\**"
      ]
    },
    {
      "cell_type": "markdown",
      "metadata": {
        "id": "FtNbkFYOD96T"
      },
      "source": [
        "![xx](https://upload.wikimedia.org/wikipedia/commons/thumb/3/30/Venn0111.svg/320px-Venn0111.svg.png)"
      ]
    },
    {
      "cell_type": "markdown",
      "metadata": {
        "id": "ZrJikJKgD5H7"
      },
      "source": [
        "*The **union** of A and B, denoted A ∪ B*"
      ]
    },
    {
      "cell_type": "markdown",
      "metadata": {
        "id": "Ei7emQxqEI8J"
      },
      "source": [
        "![xx](https://upload.wikimedia.org/wikipedia/commons/thumb/9/99/Venn0001.svg/320px-Venn0001.svg.png)"
      ]
    },
    {
      "cell_type": "markdown",
      "metadata": {
        "id": "2Bfjn69cEFIN"
      },
      "source": [
        "*The **intersection** of A and B, denoted A ∩ B.*"
      ]
    },
    {
      "cell_type": "markdown",
      "metadata": {
        "id": "bowdMR16EVQk"
      },
      "source": [
        "And **complements** in set theory: https://en.m.wikipedia.org/wiki/Complement_(set_theory)"
      ]
    },
    {
      "cell_type": "markdown",
      "metadata": {
        "id": "TtfyldwnEB_U"
      },
      "source": [
        "https://en.m.wikipedia.org/wiki/File:Venn0111.svg"
      ]
    },
    {
      "cell_type": "markdown",
      "metadata": {
        "id": "2_h5VCU3Dsk_"
      },
      "source": [
        "https://en.m.wikipedia.org/wiki/Venn_diagram#Overview"
      ]
    },
    {
      "cell_type": "markdown",
      "metadata": {
        "id": "Eo_0zE4eDmsJ"
      },
      "source": [
        "https://en.m.wikipedia.org/wiki/Set_(mathematics)#"
      ]
    },
    {
      "cell_type": "markdown",
      "metadata": {
        "id": "QHRbqic7rZ1U"
      },
      "source": [
        "**Exkurs: Kartesisches Produkt**"
      ]
    },
    {
      "cell_type": "markdown",
      "metadata": {
        "id": "ZlwJIH7PMdTC"
      },
      "source": [
        "* A new set can be constructed by associating every element of one set with every element of another set. \n",
        "\n",
        "* The Cartesian product of two sets A and B, denoted by A × B is the set of all ordered pairs (a, b) such that a is a member of A and b is a member of B.\n",
        "\n",
        "* For example: {1, 2} × {1, 2} = {(1, 1), (1, 2), (2, 1), (2, 2)}.\n"
      ]
    },
    {
      "cell_type": "markdown",
      "metadata": {
        "id": "o0gDyfTSsFXT"
      },
      "source": [
        "![xxx](https://upload.wikimedia.org/wikipedia/commons/thumb/4/4e/Cartesian_Product_qtl1.svg/316px-Cartesian_Product_qtl1.svg.png)"
      ]
    },
    {
      "cell_type": "markdown",
      "metadata": {
        "id": "ADYctj4EnJkx"
      },
      "source": [
        "* Das kartesische Produkt oder Mengenprodukt ist in der Mengenlehre eine grundlegende Konstruktion, aus gegebenen Mengen eine neue Menge zu erzeugen. Gelegentlich wird für das kartesische Produkt auch die mehrdeutige Bezeichnung „Kreuzprodukt“ verwendet. \n",
        "\n",
        "* Das kartesische Produkt zweier Mengen ist die Menge aller geordneten Paare von Elementen der beiden Mengen, wobei die erste Komponente ein Element der ersten Menge und die zweite Komponente ein Element der zweiten Menge ist. \n",
        "\n",
        "* Allgemeiner besteht das kartesische Produkt mehrerer Mengen aus der Menge aller Tupel von Elementen der Mengen, wobei die Reihenfolge der Mengen und damit der entsprechenden Elemente fest vorgegeben ist. Die Ergebnismenge des kartesischen Produkts wird auch Produktmenge, Kreuzmenge oder Verbindungsmenge genannt."
      ]
    },
    {
      "cell_type": "markdown",
      "metadata": {
        "id": "Qf9jo6N1rdaa"
      },
      "source": [
        "https://de.m.wikipedia.org/wiki/Kartesisches_Produkt"
      ]
    },
    {
      "cell_type": "markdown",
      "metadata": {
        "id": "YJs4oaAaniip"
      },
      "source": [
        "**Exkurs: Geordnetes Paar**"
      ]
    },
    {
      "cell_type": "markdown",
      "metadata": {
        "id": "rd_ubM9Gnq7H"
      },
      "source": [
        "Beispiele:"
      ]
    },
    {
      "cell_type": "markdown",
      "metadata": {
        "id": "vyYm4u_RntHI"
      },
      "source": [
        "* in der Mengenlehre kartesische Produkte, Relationen und Funktionen als Mengen geordneter Paare definiert,\n",
        "\n",
        "* in der Analysis komplexe Zahlen als geordnete Paare mit reellen Zahlen als Komponenten, reelle Zahlen als Mengen (Äquivalenzklassen) unendlicher Folgen (Cauchy-Folgen rationaler Zahlen), rationale Zahlen als Äquivalenzklassen geordneter Paare, deren Komponenten ganze Zahlen sind, ganze Zahlen als Äquivalenzklassen geordneter Paare, deren Komponenten natürliche Zahlen sind, definiert,\n",
        "\n",
        "* in der Algebra die algebraischen Strukturen, zum Beispiel Gruppen, Ringe, Körper im Wesentlichen als Funktionen (binäre Verknüpfungen) definiert."
      ]
    },
    {
      "cell_type": "markdown",
      "metadata": {
        "id": "3ZkeWszenmXD"
      },
      "source": [
        "https://de.m.wikipedia.org/wiki/Geordnetes_Paar"
      ]
    },
    {
      "cell_type": "markdown",
      "metadata": {
        "id": "_64OqlKfZXqZ"
      },
      "source": [
        "**Exkurs: Mengen vs Folgen vs Reihen**"
      ]
    },
    {
      "cell_type": "markdown",
      "metadata": {
        "id": "TSY3yWUkZo42"
      },
      "source": [
        "**Folgen (Sequence)**"
      ]
    },
    {
      "cell_type": "markdown",
      "metadata": {
        "id": "Pwj4PP5AZsQ0"
      },
      "source": [
        "Bei folgen haben die Elemente eine Reihenfolge. Die Elemente werden im Grunde durchnummeriert.\n",
        "\n",
        "Im Gegensatz dazu haben die Elemente in einer Menge keine Reihenfolge und es ist auch egal wie oft ein Element auftritt.\n",
        "\n",
        "Beispielsweise sind die Mengen\n",
        "\n",
        "{0, 1, 2, 3, 4, 5, ...},\n",
        "\n",
        "{1, 0, 2, 3, 4, 5, ...},\n",
        "\n",
        "{0, 0, 1, 2, 3, 4, 5, ...}\n",
        "\n",
        "paarweise gleich.\n",
        "\n",
        "Die Folgen\n",
        "\n",
        "(0, 1, 2, 3, 4, 5, ...),\n",
        "\n",
        "(1, 0, 2, 3, 4, 5, ...),\n",
        "\n",
        "(0, 0, 1, 2, 3, 4, 5, ...)\n",
        "\n",
        "sind hingegegen paarweise verschieden.\n",
        "\n",
        "Formal sind (unendliche) Folgen als Abbildungen von den natürlichen Zahlen in irgendeine Menge definiert. Der Graph dieser Abbildung ist dann eine Menge mit der man die Folge beschreiben kann. So könnte man beispielsweise eine Folge\n",
        "\n",
        "(1, 23, 45, 67, ...)\n",
        "\n",
        "in den ganzen Zahlen durch die Menge\n",
        "\n",
        "{(1, 1), (2, 23), (3, 45), (4, 67), ...}\n",
        "\n",
        "beschreiben. Die Menge {(1, 1), (2, 23), (3, 45), (4, 67), ...} beschreibt dann zwar in gewissem Sinne die Folge, ist aber genau genommen nicht gleich der Folge, sondern gleich dem Graphen der Folge.\n",
        "\n"
      ]
    },
    {
      "cell_type": "markdown",
      "metadata": {
        "id": "wIrXXDjaamLN"
      },
      "source": [
        "Aus Folgen können die Folgenräume gebildet werden"
      ]
    },
    {
      "cell_type": "markdown",
      "metadata": {
        "id": "PGND01EhZ25h"
      },
      "source": [
        "https://de.m.wikipedia.org/wiki/Folge_(Mathematik)"
      ]
    },
    {
      "cell_type": "markdown",
      "metadata": {
        "id": "bT0Lvp97apXJ"
      },
      "source": [
        "https://de.m.wikipedia.org/wiki/Folgenraum"
      ]
    },
    {
      "cell_type": "markdown",
      "metadata": {
        "id": "jrUUvLPjZkeD"
      },
      "source": [
        "**Reihen (Series)**"
      ]
    },
    {
      "cell_type": "markdown",
      "metadata": {
        "id": "kWzfC8neZno8"
      },
      "source": [
        "Reihen sind im Grunde spezielle Folgen, bei denen die Folgenglieder gleich Partialsummen der Glieder einer anderen Folge sind.\n",
        "Reihen betrachtet man deshalb, weil man gerne Summen mit (abzählbar) unendlich vielen Summanden beschreiben möchte."
      ]
    },
    {
      "cell_type": "markdown",
      "metadata": {
        "id": "OzU0RA5qZ92x"
      },
      "source": [
        "https://de.m.wikipedia.org/wiki/Reihe_(Mathematik)"
      ]
    },
    {
      "cell_type": "markdown",
      "metadata": {
        "id": "1dSqpbRkD3jr"
      },
      "source": [
        "### **Types**"
      ]
    },
    {
      "cell_type": "markdown",
      "metadata": {
        "id": "7S02zfX9cYAb"
      },
      "source": [
        "##### **Universe (Grundmenge Ω)**"
      ]
    },
    {
      "cell_type": "markdown",
      "metadata": {
        "id": "SfBckwmfcblp"
      },
      "source": [
        "* A universe is a collection that contains all the entities one wishes to consider in a given situation. \n",
        "\n",
        "* Eine Grundmenge (auch Universum) bezeichnet in der Mathematik eine Menge aus allen in einem bestimmten Zusammenhang betrachteten Objekten. Alle in diesem Zusammenhang betrachteten Mengen sind dann Teilmengen dieser Grundmenge. \n",
        "\n",
        "* **In einzelnen Fällen werden jedoch im Gegenzug nicht auch alle Teilmengen der Grundmenge betrachtet, so zum Beispiel im Fall einer σ-Algebra**. "
      ]
    },
    {
      "cell_type": "markdown",
      "metadata": {
        "id": "hPzPJw1ndAge"
      },
      "source": [
        "https://en.m.wikipedia.org/wiki/Universe_(mathematics)"
      ]
    },
    {
      "cell_type": "markdown",
      "metadata": {
        "id": "CL7B0EzWip_V"
      },
      "source": [
        "##### **Subset (Teilmenge)**"
      ]
    },
    {
      "cell_type": "markdown",
      "metadata": {
        "id": "auxaOuZejCxD"
      },
      "source": [
        "Wenn $A$ und $B$ Mengen sind und jedes Element von $A$ auch ein Element von $B$ ist, nennt man $A$ eine Teilmenge oder Untermenge von $B$:\n",
        "\n",
        "$$\n",
        "A \\subseteq B: \\Longleftrightarrow \\forall x \\in A: x \\in B\n",
        "$$\n",
        "\n",
        "Umgekehrt nennt man $B$ die Obermenge von $A$ genau dann, wenn $A$ Teilmenge von $B$ ist:\n",
        "\n",
        "$$\n",
        "B \\supseteq A: \\Longleftrightarrow A \\subseteq B\n",
        "$$\n",
        "\n",
        "Weiterhin gibt es den Begriff der echten Teilmenge. $A$ ist eine echte Teilmenge von $B$ genau dann, wenn $A$ eine Teilmenge von $B$ und $A$ nicht identisch mit $B$ ist.\n",
        "\n",
        "$$\n",
        "A \\subsetneq B: \\Longleftrightarrow A \\subseteq B \\wedge A \\neq B\n",
        "$$\n",
        "\n",
        "Wieder schreibt man auch $B \\supsetneq A,$ wenn $A \\subsetneq B$.\n"
      ]
    },
    {
      "cell_type": "markdown",
      "metadata": {
        "id": "gc2gzvuxityi"
      },
      "source": [
        "https://de.m.wikipedia.org/wiki/Teilmenge"
      ]
    },
    {
      "cell_type": "markdown",
      "metadata": {
        "id": "5-nQ6PeGlANl"
      },
      "source": [
        "https://de.m.wikibooks.org/wiki/Mathe_für_Nicht-Freaks:_Liste_mathematischer_Symbole"
      ]
    },
    {
      "cell_type": "markdown",
      "metadata": {
        "id": "Wc07l69FcrFL"
      },
      "source": [
        "**Representing subsets as functions**"
      ]
    },
    {
      "cell_type": "markdown",
      "metadata": {
        "id": "B3AhcVapcgvw"
      },
      "source": [
        "* In set theory, X<sup>Y</sup> is the set of all functions from Y to X. As \"2\" can be defined as {0,1} (see natural number), 2S (i.e., {0,1}S) is the set of all functions from S to {0,1}.\n",
        "\n",
        "* By identifying a function in 2S with the corresponding preimage of 1, we see that there is a bijection between 2S and P(S), where each function is the characteristic function of the subset in P(S) with which it is identified.\n",
        "\n",
        "* Hence 2S and P(S) could be considered identical set-theoretically. (Thus there are two distinct notational motivations for denoting the power set by 2S: the fact that this function-representation of subsets makes it a special case of the XY notation and the property, mentioned above, that |2S| = 2|S|.)"
      ]
    },
    {
      "cell_type": "markdown",
      "metadata": {
        "id": "YKW5uEo1K-yG"
      },
      "source": [
        "https://en.m.wikipedia.org/wiki/Surjective_function"
      ]
    },
    {
      "cell_type": "markdown",
      "metadata": {
        "id": "z3KqqsZoinKt"
      },
      "source": [
        "##### **Solution Set (Lösungsmenge)**"
      ]
    },
    {
      "cell_type": "markdown",
      "metadata": {
        "id": "dgT3QNA9i0T8"
      },
      "source": [
        "* Im Falle einer Gleichung wie beispielsweise x+5=3 handelt es sich um eine Aussageform, die an sich weder wahr noch falsch ist. Erst wenn man anstelle von x konkrete Zahlen einsetzt, wird aus der Aussageform eine Aussage, die entweder wahr oder falsch ist. \n",
        "\n",
        "* Es interessiert beim Lösen einer Gleichung in der Regel jene Zahl, die aus der Gleichung eine wahre Aussage macht. Derjenige, der sich diese Gleichung ausgedacht hat, macht für den Löser dieser Gleichung jetzt außerdem noch eine weitere Vorschrift: Man soll nur innerhalb der natürlichen Zahlen N nach einem Objekt oder einer Zahl suchen dürfen, welches bzw. welche aus der Gleichung eine wahre Aussage macht. \n",
        "\n",
        "* Anders formuliert: Die Grundmenge zur Gleichung wird in diesem Fall als N vorgeschrieben. Als Folge dieser Einschränkung wird man keine Zahl finden, welche die Gleichung erfüllt. Und deshalb ist die Lösungsmenge der Gleichung leer."
      ]
    },
    {
      "cell_type": "markdown",
      "metadata": {
        "id": "wqZfuqf9UeZL"
      },
      "source": [
        "a solution set is the set of values that satisfy a given set of equations or inequalities."
      ]
    },
    {
      "cell_type": "markdown",
      "metadata": {
        "id": "9dH9c2mPUa_A"
      },
      "source": [
        "https://en.m.wikipedia.org/wiki/Solution_set"
      ]
    },
    {
      "cell_type": "markdown",
      "metadata": {
        "id": "m9GLAbmlCg0H"
      },
      "source": [
        "##### **Index Set (Indexmenge)**"
      ]
    },
    {
      "cell_type": "markdown",
      "metadata": {
        "id": "Gn_sE6FCQEVs"
      },
      "source": [
        "* bezeichnet Index (Plural: Indizes) ein Element einer Indexmenge, das zur Nummerierung unterschiedlichster Objekte herangezogen wird. Oftmals wird als Indexmenge die Menge der natürlichen Zahlen verwendet."
      ]
    },
    {
      "cell_type": "markdown",
      "metadata": {
        "id": "ka-yf_DrClHt"
      },
      "source": [
        "https://de.m.wikipedia.org/wiki/Indexmenge_(Mathematik)"
      ]
    },
    {
      "cell_type": "markdown",
      "metadata": {
        "id": "DN1m6a8kVGp1"
      },
      "source": [
        "##### **Power Set (Potenzmenge)**"
      ]
    },
    {
      "cell_type": "markdown",
      "metadata": {
        "id": "PqODkHicct2V"
      },
      "source": [
        "* Als Potenzmenge bezeichnet man in der Mengenlehre die **Menge aller Teilmengen einer gegebenen Grundmenge**. Man notiert die Potenzmenge einer Menge X meist als P(X).\n",
        "\n",
        "* The power set of a set S is the set of all subsets of S. The power set contains S itself and the empty set because these are both subsets of S. For example, the power set of the set {1, 2, 3} is {{1, 2, 3}, {1, 2}, {1, 3}, {2, 3}, {1}, {2}, {3}, ∅}. The power set of a set S is usually written as P(S).\n",
        "\n",
        "* **The power set of a finite set with n elements has 2<sup>n</sup> elements**. For example, the set {1, 2, 3} contains three elements, and the power set shown above contains 2<sup>3</sup> = 8 elements.\n",
        "\n",
        "* The power set (or powerset) of any set S is the **set of all subsets of S, including the empty set and S itself**, variously denoted as P(S), 𝒫(S), ℘(S) (using the \"Weierstrass p\"), P(S), ℙ(S), or, identifying the powerset of S with the set of all functions from S to a given set of two elements, 2S.\n",
        "\n",
        "* If S is the set {x, y, z}, then the subsets of S are: {} (also denoted ∅, the empty set or the null set), {x}, {y}, {z}, {x, y}, {x, z}, {y, z}, {x, y, z} and hence the power set of S is {{}, {x}, {y}, {z}, {x, y}, {x, z}, {y, z}, {x, y, z}}.\n",
        "\n",
        "* The power set of an infinite (either countable or uncountable) set is always uncountable. \n",
        "\n",
        "* Moreover, the power set of a set is always strictly \"bigger\" than the original set in the sense that there is no way to pair every element of S with exactly one element of P(S). (There is never an onto map or [surjection](https://en.m.wikipedia.org/wiki/Surjective_function) from S onto P(S).)"
      ]
    },
    {
      "cell_type": "markdown",
      "metadata": {
        "id": "vgxwnRHhaHgL"
      },
      "source": [
        "https://en.m.wikipedia.org/wiki/Power_set"
      ]
    },
    {
      "cell_type": "markdown",
      "metadata": {
        "id": "Hakve64ge6r7"
      },
      "source": [
        "**Exkurs: Cardinality (Mächtigkeit)**"
      ]
    },
    {
      "cell_type": "markdown",
      "metadata": {
        "id": "yAxgYlbte-Cw"
      },
      "source": [
        "* Die Mächtigkeit einer  Menge  M mit endlich vielen Elementen ist die Anzahl ihrer Elemente. Man schreibt für die Mächtigkeit einer Menge M entweder ∣M∣ oder #M.\n",
        "\n",
        "* Die Mächtigkeit der Potenzmenge einer Menge A, ist: 𝒫(A)=2<sup>∣A∣</sup>. Ein Beispiel für eine Potenzmenge ist der Ereignisraum."
      ]
    },
    {
      "cell_type": "markdown",
      "metadata": {
        "id": "aiwmFdY0vEln"
      },
      "source": [
        "https://en.m.wikipedia.org/wiki/Cardinality"
      ]
    },
    {
      "cell_type": "markdown",
      "metadata": {
        "id": "lbuYt-bx4_1W"
      },
      "source": [
        "##### **Quotient Set**"
      ]
    },
    {
      "cell_type": "markdown",
      "metadata": {
        "id": "z0RBzdt_5Nr4"
      },
      "source": [
        "* Sagt die Äquivalenzrelation z. B. aus, dass zwei Schüler in dieselbe Klasse gehen, dann ist die Äquivalenzklasse eines Schülers seine Schulklasse und die Quotientenmenge die Menge der Schulklassen der Schule."
      ]
    },
    {
      "cell_type": "markdown",
      "metadata": {
        "id": "ogSqftSF5E4-"
      },
      "source": [
        "https://de.wikipedia.org/wiki/Mengenlehre#Definitionen"
      ]
    },
    {
      "cell_type": "markdown",
      "metadata": {
        "id": "J4eCraLjCrRx"
      },
      "source": [
        "##### **Family of Sets (Mengenfamilie)**"
      ]
    },
    {
      "cell_type": "markdown",
      "metadata": {
        "id": "dU-KyWI3CuaI"
      },
      "source": [
        "https://de.m.wikipedia.org/wiki/Mengenfamilie"
      ]
    },
    {
      "cell_type": "markdown",
      "metadata": {
        "id": "ErN__bggDh9m"
      },
      "source": [
        "##### **Field of Sets (Algebra oder Mengensystem)**"
      ]
    },
    {
      "cell_type": "markdown",
      "metadata": {
        "id": "wEIdFJLmUG_C"
      },
      "source": [
        "**Mengensystem** oder **Mengenalgebra** oder **Fields of Sets**"
      ]
    },
    {
      "cell_type": "markdown",
      "metadata": {
        "id": "Z3axOdZgGNHd"
      },
      "source": [
        "* **A field of sets is a pair $\\langle X, \\mathcal{F}\\rangle$ where $X$ is a set and $\\mathcal{F}$ is an algebra over $X$** \n",
        "\n",
        "* i.e., a subset of the power set of $X$, closed under complements of individual sets and under the union (hence also under the intersection) of pairs of sets, and satisfying $X \\in \\mathcal{F}$. \n",
        "\n",
        "* In other words, $\\mathcal{F}$ forms\n",
        "a subalgebra of the power set Boolean algebra of $X$ (with the same identity element $X \\in \\mathcal{F}$ ).\n",
        "(Many authors refer to $\\mathcal{F}$ itself as a field of sets.) Elements of $X$ are called points and those of $\\mathcal{F}$\n",
        "are called complexes and are said to be the admissible sets of $X$."
      ]
    },
    {
      "cell_type": "markdown",
      "metadata": {
        "id": "Ct9dwFuXEuFS"
      },
      "source": [
        "Ω (Omega) sei eine beliebige (Grund-)Menge. Ein System $\\mathcal{A}$ (oder $\\mathcal{F}$) von Teilmengen von Ω heißt eine Mengenalgebra oder Algebra über Ω, wenn folgende Eigenschaften erfüllt sind:\n",
        "\n",
        "1. $\\mathcal{A} \\neq \\emptyset$ ( $\\mathcal{A}$ ist nicht leer)\n",
        "\n",
        "2. $A, B \\in \\mathcal{A} \\Rightarrow A \\cup B \\in \\mathcal{A}$ (Stabilität/Abgeschlossenheit bezüglich Vereinigung)\n",
        "\n",
        "3. $A \\in \\mathcal{A} \\Rightarrow A^{\\mathrm{c}} \\in \\mathcal{A}$ (Stabilität/Abgeschlossenheit bezüglich Komplementbildung $\\left.A^{c}=\\Omega \\backslash A\\right)$"
      ]
    },
    {
      "cell_type": "markdown",
      "metadata": {
        "id": "E_ksvdizjJS-"
      },
      "source": [
        "* In der Mathematik ist (Mengen-)Algebra ein Grundbegriff der Maßtheorie. Er beschreibt ein nicht-leeres Mengensystem, das vereinigungs- und komplementstabil ist.\n",
        "\n",
        "* A field of sets is a **pair ⟨X,F⟩** where X is a set and F is an algebra over X i.e., a subset of the power set of X, closed under complements of individual sets and under the union (hence also under the intersection) of pairs of sets, and satisfying X ∈ F. \n",
        "\n",
        "* In other words, F forms a subalgebra of the power set Boolean algebra of X (with the same identity element X ∈ F). (Many authors refer to F itself as a field of sets.) \n",
        "\n",
        "* **Elements of X are called points and those of F are called complexes and are said to be the admissible sets of X.**"
      ]
    },
    {
      "cell_type": "markdown",
      "metadata": {
        "id": "paRO-7ajId2V"
      },
      "source": [
        "* For arbitrary set $Y$, its power set (Potenzmenge) $2^{Y}$ (or, somewhat pedantically, the pair $\\left\\langle Y, 2^{Y}\\right\\rangle$ of this set and its power set) is a field of sets. \n",
        "\n",
        "* If $Y$ is finite (namely, $n$ -element), then $2^{Y}$ is finite (namely, $2^{n}$ element). \n",
        "\n",
        "* It appears that every finite field of sets (it means, $\\langle X, \\mathcal{F}\\rangle$ with $\\mathcal{F}$ finite, while $X$ may be infinite) admits a representation of the form $\\left\\langle Y, 2^{Y}\\right\\rangle$ with finite $Y ;$ it means a function $f: X \\rightarrow Y$ that establishes a one-to-one correspondence between $\\mathcal{F}$ and $2^{Y}$ via inverse image:\n",
        "$S=f^{-1}[B]=\\{x \\in X \\mid f(x) \\in B\\}$ where $S \\in \\mathcal{F}$ and $B \\in 2^{Y}$ (that is, $B \\subset Y$ ). \n",
        "\n",
        "* One notable consequence: the number of complexes, if finite, is always of the form $2^{n}$."
      ]
    },
    {
      "cell_type": "markdown",
      "metadata": {
        "id": "JqkRhwrZHSGp"
      },
      "source": [
        "**Beispiele für Algebra**"
      ]
    },
    {
      "cell_type": "markdown",
      "metadata": {
        "id": "8AFXRKkuHYNd"
      },
      "source": [
        "* Für jede beliebige Menge $\\Omega$ ist $\\{\\emptyset, \\Omega\\}$ die kleinste und die Potenzmenge $\\mathcal{P}(\\Omega)$ die größtmögliche Mengenalgebra.\n",
        "* Jede $\\sigma$ -Algebra ist eine Mengenalgebra.\n",
        "* Für jede Menge $\\Omega$ ist das Mengensystem $\\mathcal{A}=\\left\\{A \\subseteq \\Omega \\mid A \\text { endlich oder } A^{c} \\text { endlich }\\right\\}$ eine Mengenalgebra. Wenn $\\Omega$ unendich ist, dann ist $\\mathcal{A}$ keine $\\sigma$ -Algebra."
      ]
    },
    {
      "cell_type": "markdown",
      "metadata": {
        "id": "ded5mK7pcYoX"
      },
      "source": [
        "**Separative and compact fields of sets: towards Stone duality**"
      ]
    },
    {
      "cell_type": "markdown",
      "metadata": {
        "id": "p7fxFxMgcbMU"
      },
      "source": [
        "* A field of sets is called **separative (or differentiated)** if and only if for every pair of distinct points there is a complex containing one and not the other.\n",
        "\n",
        "* A field of sets is called **compact** if and only if for every proper filter over X the intersection of all the complexes contained in the filter is non-empty."
      ]
    },
    {
      "cell_type": "markdown",
      "metadata": {
        "id": "7JL_pBvidGa5"
      },
      "source": [
        "Given a field of sets $\\mathbf{X}=\\langle X, \\mathcal{F}\\rangle$ the complexes form a base for a topology. We denote by $T(\\mathbf{X})$ the corresponding topological space, $\\langle X, \\mathcal{T}\\rangle$ where $\\mathcal{T}$ is the topology formed by taking arbitrary unions of complexes. Then\n",
        "\n",
        "1. $T(\\mathbf{X})$ is always a [zero-dimensional space](https://en.m.wikipedia.org/wiki/Zero-dimensional_space)\n",
        "\n",
        "2. $T(\\mathbf{X})$ is a [Hausdorff space](https://en.m.wikipedia.org/wiki/Hausdorff_space) if and only if $\\mathbf{X}$ is separative.\n",
        "\n",
        "3. $T(\\mathbf{X})$ is a compact space with compact open sets $\\mathcal{F}$ if and only if $\\mathbf{X}$ is compact.\n",
        "\n",
        "4. $T(\\mathbf{X})$ is a Boolean space with clopen sets $\\mathcal{F}$ if and only if $\\mathbf{X}$ is both separative and compact (in which case it is described as being descriptive)"
      ]
    },
    {
      "cell_type": "markdown",
      "metadata": {
        "id": "6I7YepgQlABC"
      },
      "source": [
        "https://en.m.wikipedia.org/wiki/Field_of_sets"
      ]
    },
    {
      "cell_type": "markdown",
      "metadata": {
        "id": "Vc8T8hpoiWFR"
      },
      "source": [
        "##### **σ-algebra (Sigma Algebra)**"
      ]
    },
    {
      "cell_type": "markdown",
      "metadata": {
        "id": "9hyosJ2W8ZGT"
      },
      "source": [
        "Sei $\\Omega \\neq \\emptyset$ eine Menge, $\\mathfrak{P}(\\Omega)$ die Potenzmenge und $\\mathcal{F} \\subseteq \\mathfrak{P}(\\Omega)$ ein Mengensystem (=field of sets).\n",
        "\n",
        "Definition\n",
        "\n",
        "$\\mathcal{F}$ heißt Algebra, wenn folgende Eigenschaften gelten:\n",
        "\n",
        "(1) $\\quad \\emptyset \\in \\mathcal{F}$\n",
        "\n",
        "(2) $\\quad A \\in \\mathcal{F} \\Rightarrow A^{c} \\in \\mathcal{F}$\n",
        "\n",
        "(3) $\\quad A, B \\in \\mathcal{F} \\Rightarrow A \\cup B \\in \\mathcal{F}$\n",
        "\n",
        "$\\mathcal{F}$ heißt $\\sigma$ -Algebra, wenn die Punkte (1) und (2) gelten\n",
        "und zusätzlich\n",
        "\n",
        "(4) $\\quad A_{1}, A_{2}, \\ldots \\in \\mathcal{F} \\Rightarrow \\bigcup A_{k} \\in \\mathcal{F}$\n",
        "\n",
        "gilt.\n",
        "\n",
        "Algebren sind bezüglich der endlichen Vereinigung abgeschlossene Mengensysteme und $\\sigma$ -Algebren sind bezüglich der abzählbaren Vereinigung abgeschlossene\n",
        "Mengensysteme. Wegen (1) und (2) gilt stets $\\Omega \\in \\mathcal{F}$."
      ]
    },
    {
      "cell_type": "markdown",
      "metadata": {
        "id": "Q6DAlfaA8p3Z"
      },
      "source": [
        "https://mathepedia.de/Sigma-Algebren.html"
      ]
    },
    {
      "cell_type": "markdown",
      "metadata": {
        "id": "hbXQyLk2hrd6"
      },
      "source": [
        "If an algebra over a **set is closed under countable unions** (hence also under countable intersections), it is called a **sigma algebra** and **the corresponding field of sets (Mengensystem) is called a measurable space**. The complexes of a measurable space are called measurable sets."
      ]
    },
    {
      "cell_type": "markdown",
      "metadata": {
        "id": "PBHuPNh-iYrR"
      },
      "source": [
        "* **A measure space is a triple $\\langle X, \\mathcal{F}, \\mu\\rangle$ where $\\langle X, \\mathcal{F}\\rangle$ is a measurable space and $\\mu$ is a measure defined on it.** (Alternative: $\\langle$ Ω , $\\mathcal{F}$, $\\mu$ $\\rangle$)\n",
        "\n",
        "* If $\\mu$ is in fact a probability measure we speak of a probability space and call its underlying measurable space a sample space. \n",
        "\n",
        "* The points of a sample space are called samples and represent potential outcomes while the measurable sets (complexes) are called events and represent properties of outcomes for which we wish to assign probabilities. (Many use the term sample space simply for the underlying set of a probability space, particularly in the case where every subset is an event.) \n",
        "\n",
        "* Measure spaces and probability spaces play a foundational role in measure theory and probability theory respectively."
      ]
    },
    {
      "cell_type": "markdown",
      "metadata": {
        "id": "X1Lw-DP0jMwK"
      },
      "source": [
        "https://de.m.wikipedia.org/wiki/Algebra_(Mengensystem)"
      ]
    },
    {
      "cell_type": "markdown",
      "metadata": {
        "id": "-jNczSdWjYRG"
      },
      "source": [
        "https://de.m.wikipedia.org/wiki/Algebraische_Struktur"
      ]
    },
    {
      "cell_type": "markdown",
      "metadata": {
        "id": "rYkkBbjsRFFG"
      },
      "source": [
        "**Pain Point**\n",
        "\n",
        "* How to define a messbare Menge?\n",
        "\n",
        "* Wenn wir eine Menge aus den reellen Zahlen haben und mochten eine Teilbereich [a bis b] messen, dann brauchen wir einen allgemeinen Massbegriff unabhangig von der konkreten Menge. Hier kommt Masstheorie und Sigma-Algebra."
      ]
    },
    {
      "cell_type": "markdown",
      "metadata": {
        "id": "ylmaHPVWRK9l"
      },
      "source": [
        "**Definition**"
      ]
    },
    {
      "cell_type": "markdown",
      "metadata": {
        "id": "YfU7qMaHRHrJ"
      },
      "source": [
        "* A σ-algebra defines the **set of events that can be measured**, which in a probability context is equivalent to events that can be discriminated, or \"questions that can be answered at time t\".\n",
        "\n",
        "* Exkurs: Ergebnis vs Ereignis. Die möglichen Ausgänge eines Zufallsexperimentes nennt man **Ergebnisse** (zB auf einem Wüfel die Zahlen 1,2,3..). Wenn man alle möglichen Ergebnisse eines Zufallsexperimentes in einer Menge zusammenfasst, erhält man die **Ergebnismenge**. Sie wird üblicherweise mit dem Symbol Ω (sprich Omega) bezeichnet. Beim Würfeln ist Ω= {1; 2; 3; 4; 5; 6} die Ergebnismenge. Jede Zusammenfassung von einem oder mehreren Ergebnissen eines Zufallsexperimentes in einer Menge nennt man **Ereignis** (zB auf einem Würfel die Menge an geraden Zahlen {2,4,6} und ungeraden Zahlen {1,3,5}.\n",
        "\n",
        "* Eine Sigma-Algebra F ist ein System, um alle möglichen **Ereignisse** (nicht Ergebnisse!) eines Zufallsexperiment zu beschreiben. Ereignisse sind an sich selbst Mengen, die man wie jede Menge vereinigen oder schneiden bzw. auch das Komplement bilden kann um so das Gegenereignis zu erhalten. Fasst man hier alle möglichen Kombinationen an Ereignissen in einer Menge zusammen, bekommt man eine Menge, die wiederum Mengen als Elemente enthält - eine Menge von Mengen sozusagen. Oft sagt man dazu auch einfach Mengensystem. Welche Eigenschaften ein Mengensystem genau haben muss, damit es eine Sigma-Algebra ist steht weiter unten.\n",
        "\n",
        "* Beispiel: Glücksrad mit blau, rot und grün. Dann haben wir folglich drei Ergebnisse, die wir auch abkürzen können: Ω={B,R,G}. Generell kann man sich schon merken: Ω und ∅ sind immer Elemente einer Sigma-Algebra. Daher haben wir hier 8 mögliche Teilmengen von Ω, die wir als Ereignis betrachten können und demnach als Menge in der Sigma-Algebra zusammenfassen (Potenzmenge von Omega): F ={∅, {B}, {R}, {G}, {B,R}, {B,G}, {R,G}, {B,R,G}} ([Source](https://www.massmatics.de/merkzettel/#!876:Ereignisraum_&_Sigma-Algebra)).\n",
        "\n",
        "* Bei diskreten Ergebnismengen kann man für die Sigma-Algebra immer die Potenzmenge P(Ω)nehmen und hat demnach dann stets diesen **Ereignisraum: (Ω,P(Ω))**\n",
        "\n",
        "* Und für die reellen Zahlen gibt es die sogenannte **Borelsche Sigma-Algebra B**, die man dann auch in der Regel benutzt. Ist die Ergebnismenge Ω eine Teilmenge der reellen Zahlen (oder ℝ selbst), so nehmen wir die Borelsche-Sigma B und der Ereignisraum lautet (Ω,B).\n",
        "\n",
        "* Wenn wir eine Sigma Algebra A gegeben haben, dann heisst jede Teilmenge in diesem Mengensystem (jedes Element aus dieser Sigma Algebra A) eine messbare Teilmenge (=die Mengen die wir messen wollen).\n",
        "\n",
        "* **<u>Die Elemente der Sigma Algebra sind die messbaren Teilmengen von unserer Grundmenge X</u>** (Und messbar ist der wesentliche Begriff). Das ist zB die Menge an vergangenen Trading-Events am Finanzmarkt bis zum Zeitpunkt t.\n",
        "\n",
        "* Sigma Algebra ist ein **Mengensystem von einer Teilmenge einer gegebenen Grundmenge** = der Raum, **den wir beschreiben wollen** (mit drei Eigenschaften). Die Menge einer Sigma-Algebra nennt man „**messbare Teilmengen**“."
      ]
    },
    {
      "cell_type": "markdown",
      "metadata": {
        "id": "6auD5Yi3ROPL"
      },
      "source": [
        "**Eigenschaften**"
      ]
    },
    {
      "cell_type": "markdown",
      "metadata": {
        "id": "Dt5X24zGRPv2"
      },
      "source": [
        "**A $\\subseteq$ P(X) (=Potenzmenge) heisst Sigma Algebra, wenn gilt** (Die Mengen, die in dieser Sigma Algebra liegen, das sind jene, die folgende drei Eigenschaften erfüllen, und sind die, die wir messen wollen (=diesen Mengen wollen wir ein Mass zuordnen). Potenzmenge selbst soll eine Sigma Algebra sein. Sollten gewissen Eigenschaften der Potenzmenge fordern). **<u>A collection of subsets</u> A is called a σ-algebra on a set X if the following properties are met:**\n",
        "\n",
        "1. **A contains X (the set itself)**: $\\quad \\phi, X \\in A$ (Leere Menge (sollte Länge oder Volumen Null haben) und ganze Grundmenge selbst haben wir im Mengensystem / sollen messbar sein. Das ist was Sigma Algebra sagt). **Ω ∈ F (Ergebnismenge muss enthalten sein)**\n",
        "\n",
        "2. **If A contains a subset S, then A also contains the complement of S**: $A \\in A \\Rightarrow A^{c}:=X \\backslash A \\in A$ (Irgendein Element in der Algebra: dann sollte auch dessen Komplement im Mengensystem enthalten sein.) Hiermit ist auch Regel 1 eingeschlossen! Deswegen liegt auch die leere Menge (Gegenereignis von Ω) in F.\n",
        "\n",
        "3. **Consider a countable collection of subsets. If each subset is included in A, then A must also contain their reunion.**: $A_{i} \\in A$ fur i $\\in N \\Rightarrow \\bigcup_{i=1}^{\\infty} A_{i} \\in A$ ((Letzter Punkt macht das Sigma aus): Abzählbarkeit, abzählbare Summe (A i‘s aus unseren Mengensystem A): wir haben endlich viele bzw. abzählbar viele, dann können wir die Vereinigung bilden / abziehbare Vereinigung. Die abzählbare Vereinigung soll wieder in der Sigma Algebra liegen = Wenn wir Längen haben, dann sollten wir die auch addieren können, auch wenn sich die Addition bis unendlich streckt! (blick auf messbarkeit))"
      ]
    },
    {
      "cell_type": "markdown",
      "metadata": {
        "id": "4wNxurifRQLG"
      },
      "source": [
        "Having defined such a σ-algebra A, we call **the elements of σ-algebra A measurable sets** and the couple (X, A) a measurable space. An arbitrary set X can be a member of a multitude of σ-algebras. We denote the set of all σ-algebras that contain X with M(X). The **intersection of all those σ-algebras is called the σ-algebra generated by X**.\n",
        "\n",
        "**A σ-algebra (also σ-field) on a set X is a collection Σ of subsets of X that includes X itself, is closed under complement, and is closed under countable unions**. The definition implies that it also includes the empty subset and that it is closed under countable intersections. The pair (X, Σ) is called a measurable space or Borel space. A σ-algebra is a type of algebra of sets. An algebra of sets needs only to be closed under the union or intersection of finitely many subsets, which is a weaker condition."
      ]
    },
    {
      "cell_type": "markdown",
      "metadata": {
        "id": "dkTiCKMcRUGB"
      },
      "source": [
        "**Borel‘sche Sigma-Algebra**\n",
        "\n",
        "* T ist ein topologischer Raum (oder ein metrischer Raum im engeren Sinn.) und X eine Menge darin. „Offene Mengen“.\n",
        "\n",
        "* Die Borel’sche Sigma Algebra auf topologischen Raum X ist jene kleinste Sigma Algebra, die von den offenen Mengen erzeugt wird. \n",
        "\n",
        "* B(X) := (T)"
      ]
    },
    {
      "cell_type": "markdown",
      "metadata": {
        "id": "oVtVUBW1RWUN"
      },
      "source": [
        "**Measurable function**\n",
        "\n",
        "* **A set is measurable when it’s included in a σ-algebra.**\n",
        "\n",
        "* We can also extend the “measurable” attribute to functions. Here’s how:\n",
        "\n",
        "* Let’s consider (X, A) and (Y, B) two measurable spaces. A function f from A to B is called measurable if every set from B comes from applying f to a set from A. Formally, we say that for any element S of B, the pre-image of S under the function f is in A.\n"
      ]
    },
    {
      "cell_type": "markdown",
      "metadata": {
        "id": "-ppJ9Jx6SH74"
      },
      "source": [
        "**Application**"
      ]
    },
    {
      "cell_type": "markdown",
      "metadata": {
        "id": "LXrGhC2HSKTh"
      },
      "source": [
        "* The main use of σ-algebras is in the definition of measures; specifically, the collection of those subsets for which a given measure is defined is necessarily a σ-algebra. \n",
        "\n",
        "* This concept is important in mathematical analysis as the **foundation for Lebesgue integration**, and in probability theory, where it is **interpreted as the collection of events which can be assigned probabilities**. \n",
        "\n",
        "* Also, **in probability, σ-algebras are pivotal in the definition of conditional expectation**.\n",
        "\n",
        "* In statistics, (sub) σ-algebras are needed for the formal mathematical definition of a sufficient statistic, particularly when the statistic is a function or a random process and the notion of conditional density is not applicable."
      ]
    },
    {
      "cell_type": "markdown",
      "metadata": {
        "id": "759BrNmbSOQz"
      },
      "source": [
        "**Examples**"
      ]
    },
    {
      "cell_type": "markdown",
      "metadata": {
        "id": "ueaKd0bbSPj-"
      },
      "source": [
        "1. **Minimum**: Sigma Algebra A enthält leere Menge und Grundmenge selbst (kleinste Sigma Algebra die möglich ist): A = {𝜙,X}\n",
        "2. **Maximum**: Sigma Algebra enthält die Potenzmenge (beinhaltet alle Teilmengen von X): A = P(X)"
      ]
    },
    {
      "cell_type": "markdown",
      "metadata": {
        "id": "qrpgaCc5SSQx"
      },
      "source": [
        "* If {A1, A2, A3, …} is a countable partition of X then the **collection of all unions of sets in the partition** (including the empty set) is a σ-algebra.\n",
        "\n",
        "* A more useful example is the set of subsets of the real line formed by starting with all open intervals and adding in all countable unions, countable intersections, and relative complements and continuing this process (by transfinite iteration through all countable ordinals) until the relevant closure properties are achieved - the σ-algebra produced by this process is known as the Borel algebra on the real line, and can also be conceived as the smallest (i.e. \"coarsest\") σ-algebra containing all the open sets, or equivalently containing all the closed sets. It is foundational to measure theory, and therefore modern probability theory, and a related construction known as the Borel hierarchy is of relevance to descriptive set theory."
      ]
    },
    {
      "cell_type": "markdown",
      "metadata": {
        "id": "dJz4ybz4SVKh"
      },
      "source": [
        "https://medium.com/towards-artificial-intelligence/what-is-measure-theory-67c281f8a094"
      ]
    },
    {
      "cell_type": "markdown",
      "metadata": {
        "id": "6lpI5kfOLtNq"
      },
      "source": [
        "##### **Special Sets (Empty Set, Unit Set, ..Quaternions)**"
      ]
    },
    {
      "cell_type": "markdown",
      "metadata": {
        "id": "B0pnswdgLu79"
      },
      "source": [
        "* One of these is the **empty set**, denoted { } or ∅.\n",
        "\n",
        "* A set with exactly one element, x, is a **unit set, or singleton**, {x}.\n",
        "\n",
        "* P or ℙ, denoting the set of all primes: P = {2, 3, 5, 7, 11, 13, 17, ...}.\n",
        "\n",
        "* N, denoting the set of all natural numbers: N = {0, 1, 2, 3, ...} (sometimes defined excluding 0).\n",
        "\n",
        "* Z, denoting the set of all integers (whether positive, negative or zero): Z = {..., −2, −1, 0, 1, 2, ...}.\n",
        "\n",
        "* .. until Quaternions!"
      ]
    },
    {
      "cell_type": "markdown",
      "metadata": {
        "id": "WYqXPG4GK4NL"
      },
      "source": [
        "### **Notation (Sets & Intervals)**"
      ]
    },
    {
      "cell_type": "markdown",
      "metadata": {
        "id": "N5Q3MF-IBrBk"
      },
      "source": [
        "**Intervals**"
      ]
    },
    {
      "cell_type": "markdown",
      "metadata": {
        "id": "HetfnkP5J4fw"
      },
      "source": [
        "* **An interval is a set that consists of all real numbers between a given pair of numbers**. \n",
        "\n",
        "* (And: A set is a collection of objects. Each object in the set is called an element of the set.)\n",
        "\n",
        "* It can also be thought of as a segment of the real number line. An endpoint of an interval is either of the two points that mark the end of the line segment.\n",
        "\n",
        "* **Real intervals play an important role in the theory of [integration](https://en.m.wikipedia.org/wiki/Integral) because they are the simplest sets whose \"size\" or \"measure\" or \"length\" is easy to define**. The concept of measure can then be extended to more complicated sets of real numbers, leading to the Borel measure and eventually to the Lebesgue measure."
      ]
    },
    {
      "cell_type": "markdown",
      "metadata": {
        "id": "U3m-bY6UdJet"
      },
      "source": [
        "https://en.m.wikipedia.org/wiki/Interval_(mathematics)#Terminology"
      ]
    },
    {
      "cell_type": "markdown",
      "metadata": {
        "id": "F8WsVOHgKSQv"
      },
      "source": [
        "https://calculus.nipissingu.ca/tutorials/sets.html"
      ]
    },
    {
      "cell_type": "markdown",
      "metadata": {
        "id": "Tg38GpUXChNN"
      },
      "source": [
        "Ein Intervall kann (beidseitig) beschränkt oder – auch einseitig – unbeschränkt sein. Es ist durch seine untere und seine obere Intervallgrenze eindeutig bestimmt, wenn zusätzlich angegeben wird, ob diese Grenzen im Intervall enthalten sind.\n",
        "\n",
        "Es gibt zwei verschiedene häufig verwendete Intervallschreibweisen:\n",
        "\n",
        "* **Bei der häufigeren der beiden verwendet man für Grenzen, die zum Intervall gehören, eckige Klammern und runde für Grenzen, die nicht zum Intervall gehören. Die eckigen Klammern entsprechen einem schwachen Ungleichheitszeichen ≤. Die runden Klammern () entsprechen einem starken Ungleichheitszeichen <.**\n",
        "\n",
        "* Bei der anderen Schreibweise werden statt der runden Klammern nach außen gewendete (gespiegelte) eckige verwendet. Im Folgenden werden beide Schreibweisen gezeigt und der Mengenschreibweise gegenübergestellt:"
      ]
    },
    {
      "cell_type": "markdown",
      "metadata": {
        "id": "2yFR-a14Btbs"
      },
      "source": [
        "https://de.m.wikipedia.org/wiki/Intervall_(Mathematik)"
      ]
    },
    {
      "cell_type": "markdown",
      "metadata": {
        "id": "_2-R7L7ToMWN"
      },
      "source": [
        "**Unit Intervall**"
      ]
    },
    {
      "cell_type": "markdown",
      "metadata": {
        "id": "jlTM7Cb6oTjP"
      },
      "source": [
        "The unit interval is the closed interval [0,1], that is, the set of all real numbers that are greater than or equal to 0 and less than or equal to 1. It is often denoted I (capital letter I). In addition to its role in real analysis, the unit interval is used to study [homotopy theory](https://en.m.wikipedia.org/wiki/Homotopy_theory) in the field of topology."
      ]
    },
    {
      "cell_type": "markdown",
      "metadata": {
        "id": "O0ZlwIDpoPTl"
      },
      "source": [
        "https://en.m.wikipedia.org/wiki/Unit_interval"
      ]
    },
    {
      "cell_type": "markdown",
      "metadata": {
        "id": "eMpkKVVJLovf"
      },
      "source": [
        "**Interval Notation**"
      ]
    },
    {
      "cell_type": "markdown",
      "metadata": {
        "id": "1maUQc7GEyfH"
      },
      "source": [
        "Linksseitig unendliches abgeschlossenes Intervall\n",
        "\n",
        ">$(-\\infty, b]=]-\\infty, b]:=\\{x \\in \\mathbb{R} \\mid x \\leq b\\}$\n",
        "\n",
        "Es enthält alle Zahlen, die kleiner oder gleich $b$ sind.\n",
        "\n",
        "\n",
        "Linksseitig unendliches offenes Intervall\n",
        "\n",
        ">$(-\\infty, b)=]-\\infty, b[:=\\{x \\in \\mathbb{R} \\mid x<b\\}$\n",
        "\n",
        "Es enthält alle Zahlen, die kleiner als $b$ sind.\n",
        "\n",
        "\n",
        "Rechtsseitig unendliches abgeschlossenes Intervall\n",
        "\n",
        ">$[a, \\infty)=[a, \\infty[:=\\{x \\in \\mathbb{R} \\mid a \\leq x\\}$\n",
        "\n",
        "Es enthält alle Zahlen, die größer oder gleich $a$ sind.\n",
        "\n",
        "\n",
        "Rechtsseitig unendliches offenes Intervall\n",
        "\n",
        ">$(a, \\infty)=] a, \\infty[:=\\{x \\in \\mathbb{R} \\mid a<x\\}$\n",
        "\n",
        "Es enthält alle Zahlen, die größer als $a$ sind.\n",
        "\n",
        "Beidseitig unendliches offenes (und zugleich abgeschlossenes) Intervall $(-\\infty, \\infty)=]-\\infty, \\infty[:=\\mathbb{R}$"
      ]
    },
    {
      "cell_type": "markdown",
      "metadata": {
        "id": "nEWOiZVNE3-6"
      },
      "source": [
        "https://de.m.wikipedia.org/wiki/Intervall_(Mathematik)"
      ]
    },
    {
      "cell_type": "markdown",
      "metadata": {
        "id": "kfZFMi-aLj5L"
      },
      "source": [
        "**Set-Builder Notation**"
      ]
    },
    {
      "cell_type": "markdown",
      "metadata": {
        "id": "GqqSZF6_1vLl"
      },
      "source": [
        "In set-builder notation, the set is specified as a subset of a larger set, where the subset is determined by a statement or condition involving the elements. For example, a set F can be specified as follows:\n",
        "\n",
        "> $F=\\{n \\mid n \\text { is an integer, and } 0 \\leq n \\leq 19\\}$\n",
        "\n",
        "* In this notation, the vertical bar (\"|\") means \"such that\", and the description can be interpreted as \n",
        "* **\"F is the set of all numbers n, such that n is an integer in the range from 0 to 19 inclusive\"**\n",
        "* Sometimes the colon (\":\") is used instead of the vertical bar."
      ]
    },
    {
      "cell_type": "markdown",
      "metadata": {
        "id": "_p3n4Hv7OhP0"
      },
      "source": [
        "https://en.m.wikipedia.org/wiki/Set-builder_notation"
      ]
    },
    {
      "cell_type": "markdown",
      "metadata": {
        "id": "35Q6nQcsLuPW"
      },
      "source": [
        "**Interval & Set-Builder Notation**"
      ]
    },
    {
      "cell_type": "markdown",
      "metadata": {
        "id": "soJoIll8LJRY"
      },
      "source": [
        "![alternativer Text](https://raw.githubusercontent.com/deltorobarba/machinelearning/master/set_notation.GIF)"
      ]
    },
    {
      "cell_type": "markdown",
      "metadata": {
        "id": "xb6RBJTvLT_r"
      },
      "source": [
        "https://calculus.nipissingu.ca/tutorials/sets.html"
      ]
    },
    {
      "cell_type": "markdown",
      "metadata": {
        "id": "U64am8GwoTEL"
      },
      "source": [
        "### **Axioms**"
      ]
    },
    {
      "cell_type": "markdown",
      "metadata": {
        "id": "RSNaS13p3Alf"
      },
      "source": [
        "**Naive Set Theory**"
      ]
    },
    {
      "cell_type": "markdown",
      "metadata": {
        "id": "c_GdULpv2jqK"
      },
      "source": [
        "* Elementary set theory can be studied informally and intuitively, and so can be taught in primary schools using Venn diagrams. The intuitive approach tacitly assumes that a set may be formed from the class of all objects satisfying any particular defining condition. \n",
        "\n",
        "This assumption gives rise to paradoxes. Axiomatic set theory was originally devised to rid set theory of such paradoxes.\n",
        "\n",
        "* [Russell's paradox](https://en.m.wikipedia.org/wiki/Russell%27s_paradox): It shows that the \"set of all sets that do not contain themselves,\" i.e. the \"set\" {x|x is a set and x ∉ x} does not exist. \n",
        "\n",
        "* [Burali-Forti paradox](https://en.m.wikipedia.org/wiki/Burali-Forti_paradox): \n",
        "\n",
        "* [Cantor's paradox](https://en.m.wikipedia.org/wiki/Cantor%27s_paradox): It shows that \"the set of all sets\" cannot exist.\n",
        "\n",
        "* [Curry's paradox](https://en.m.wikipedia.org/wiki/Curry%27s_paradox): "
      ]
    },
    {
      "cell_type": "markdown",
      "metadata": {
        "id": "9ECufw9W3DQL"
      },
      "source": [
        "https://en.m.wikipedia.org/wiki/Naive_set_theory"
      ]
    },
    {
      "cell_type": "markdown",
      "metadata": {
        "id": "xQqdJc5OoZVz"
      },
      "source": [
        "https://en.m.wikipedia.org/wiki/Set_theory#Axiomatic_set_theory"
      ]
    },
    {
      "cell_type": "markdown",
      "metadata": {
        "id": "qvU7p3UQ5RtA"
      },
      "source": [
        "https://de.m.wikipedia.org/wiki/Axiomatische_Mengenlehre"
      ]
    },
    {
      "cell_type": "markdown",
      "metadata": {
        "id": "GkPVxew-okLs"
      },
      "source": [
        "**Zermelo–Fraenkel set theory**"
      ]
    },
    {
      "cell_type": "markdown",
      "metadata": {
        "id": "SvZZFIPb5wqn"
      },
      "source": [
        "* Zermelo formulierte seine sieben Axiome für einen Bereich von Dingen, der die Mengen als Teilbereich enthält.\n",
        "\n",
        "* Er definierte nämlich Mengen als elementhaltige Dinge oder die Nullmenge (leere Menge). Das Axiomensystem erlaubt aber als Elemente auch andere elementlose Dinge, die er später Urelemente nannte. "
      ]
    },
    {
      "cell_type": "markdown",
      "metadata": {
        "id": "cNFor59Vom7F"
      },
      "source": [
        "https://en.m.wikipedia.org/wiki/Zermelo–Fraenkel_set_theory"
      ]
    },
    {
      "cell_type": "markdown",
      "metadata": {
        "id": "NAIsGxLOorqp"
      },
      "source": [
        "**Axiom of choice (ZFC)**"
      ]
    },
    {
      "cell_type": "markdown",
      "metadata": {
        "id": "-csyctunowCP"
      },
      "source": [
        "https://en.m.wikipedia.org/wiki/Axiom_of_choice"
      ]
    },
    {
      "cell_type": "markdown",
      "metadata": {
        "id": "b3Xt5ozSo0f8"
      },
      "source": [
        "**Von Neumann–Bernays–Gödel set theory**"
      ]
    },
    {
      "cell_type": "markdown",
      "metadata": {
        "id": "K4UeIpPXo2zA"
      },
      "source": [
        "https://en.m.wikipedia.org/wiki/Von_Neumann–Bernays–Gödel_set_theory"
      ]
    },
    {
      "cell_type": "markdown",
      "metadata": {
        "id": "A6xphijz1W55"
      },
      "source": [
        "**Topos Theory (Category) as alternative to traditional axiomatic set theory**"
      ]
    },
    {
      "cell_type": "markdown",
      "metadata": {
        "id": "aw1F2vIspw5M"
      },
      "source": [
        "* Category theorists have proposed [topos theory](https://en.m.wikipedia.org/wiki/Topos) as an alternative to traditional axiomatic set theory. Topos theory can interpret various alternatives to that theory, such as constructivism, finite set theory, and computable set theory.\n",
        "\n",
        "* Topoi also give a natural setting for forcing and discussions of the independence of choice from ZF, as well as providing the framework for pointless topology and Stone spaces."
      ]
    },
    {
      "cell_type": "markdown",
      "metadata": {
        "id": "KZr7GxSaeHkW"
      },
      "source": [
        "## **Measure**"
      ]
    },
    {
      "cell_type": "markdown",
      "metadata": {
        "id": "ilGw0qfYwrCJ"
      },
      "source": [
        "https://de.m.wikipedia.org/wiki/Messbare_Funktion"
      ]
    },
    {
      "cell_type": "markdown",
      "metadata": {
        "id": "aoOlQI6xGiiR"
      },
      "source": [
        "https://towardsdatascience.com/how-to-make-measure-theory-usable-for-your-problem-d33f7a848c7d"
      ]
    },
    {
      "cell_type": "markdown",
      "metadata": {
        "id": "P4KDiI20GSS8"
      },
      "source": [
        "#### **Measure (Maß)**"
      ]
    },
    {
      "cell_type": "markdown",
      "metadata": {
        "id": "3APf-x7y3Ydr"
      },
      "source": [
        "https://youtu.be/jTP-pOoKKfE"
      ]
    },
    {
      "cell_type": "markdown",
      "metadata": {
        "id": "zmHivtKKC6td"
      },
      "source": [
        "##### **Definition**"
      ]
    },
    {
      "cell_type": "markdown",
      "metadata": {
        "id": "4FMu2VsVHXMJ"
      },
      "source": [
        "* Ein Maß ist in der Mathematik **eine Funktion**, die geeigneten Teilmengen einer Grundmenge Zahlen zuordnet, die als „Maß“ für die Größe dieser Mengen interpretiert werden können.\n",
        "\n",
        "* Es sei $\\mathcal{A}$ eine o-Algebra über einer nicht-leeren Grundmenge $\\Omega .$ Eine Funktion $\\mu: \\mathcal{A} \\rightarrow[0, \\infty]$ heißt Maß auf $\\mathcal{A}$, wenn die beiden folgenden Bedingungen erfüllt sind:\n",
        "\n",
        "> $\\mu(\\emptyset)=0$\n",
        "\n",
        "> Additivität: Für jede Folge $\\left(A_{n}\\right)_{n \\in \\mathbb{N}}$ paarweise disjunkter Mengen aus $\\mathcal{A}$ gilt $\\mu\\left(\\bigcup_{n=1}^{\\infty} A_{n}\\right)=\\sum_{n=1}^{\\infty} \\mu\\left(A_{n}\\right)$\n",
        "\n",
        "* Ist die o-Algebra aus dem Zusammenhang klar, so spricht man auch von einem Maß auf $\\Omega$."
      ]
    },
    {
      "cell_type": "markdown",
      "metadata": {
        "id": "6tOKtjbyH7Ai"
      },
      "source": [
        "* Eine Teilmenge von $\\Omega$, die in $\\mathcal{A}$ liegt, wird messbar genannt. Für solch ein $A \\in \\mathcal{A}$ heißt $\\mu(A)$ das Maß der Menge $A$. \n",
        "\n",
        "* Das **Tripel $(\\Omega, \\mathcal{A}, \\mu)$ wird Maßraum** genannt.\n",
        "\n",
        "* Das Paar $(\\Omega, \\mathcal{A})$ bestehend aus der Grundmenge und der darauf definierten $\\sigma$-Algebra **heißt Messraum oder auch messbarer Raum**. \n",
        "\n",
        "* **Ein Maß $\\mu$ ist also eine auf einem Messraum definierte nicht-negative [$\\sigma$ -additive](https://de.m.wikipedia.org/wiki/Σ-Additivität) [Mengenfunktion](https://de.m.wikipedia.org/wiki/Mengenfunktion) mit $\\mu(\\emptyset)=0$.**\n",
        "\n",
        "* Das Maß $\\mu$ heißt Wahrscheinlichkeitsmaß (oder normiertes Maß), wenn zusätzlich $\\mu(\\Omega)=1$ gilt. Ein Maßraum $(\\Omega, \\mathcal{A}, \\mu)$ mit einem Wahrscheinlichkeitsmaß $\\mu$ ist ein Wahrscheinlichkeitsraum. \n",
        "\n",
        "* Ist allgemeiner $\\mu(\\Omega)<\\infty,$ so nennt man $\\mu$ ein [endliches Maß](https://de.m.wikipedia.org/wiki/Endliches_Maß). Existieren abzählbar viele Mengen, deren Maßendlich ist und deren Vereinigung ganz $\\Omega$ ergibt, dann wird $\\mu$ ein [$\\sigma$ -endliches](https://de.m.wikipedia.org/wiki/Σ-Endlichkeit) (oder $\\sigma$ -finites) Maß genannt. $^{[4]}$"
      ]
    },
    {
      "cell_type": "markdown",
      "metadata": {
        "id": "nMtT12NSGYu4"
      },
      "source": [
        "https://de.m.wikipedia.org/wiki/Maß_(Mathematik)"
      ]
    },
    {
      "cell_type": "markdown",
      "metadata": {
        "id": "jbegVOVJGqzz"
      },
      "source": [
        "https://de.m.wikipedia.org/wiki/Σ-Additivität"
      ]
    },
    {
      "cell_type": "markdown",
      "metadata": {
        "id": "O1v7eQtS4gqu"
      },
      "source": [
        "##### **Zählmaß**"
      ]
    },
    {
      "cell_type": "markdown",
      "metadata": {
        "id": "jbbVSW8Q6RdZ"
      },
      "source": [
        "$\\mu$ (A) := \n",
        "* #A, wenn A endlich\n",
        "* ∞, sonst\n",
        "\n",
        "Rechenregeln in [0, ∞] : \n",
        "* x + ∞ := ∞ für alle x ∈ [0, ∞]\n",
        "* x * ∞ := ∞ für alle x ∈ [0, ∞]\n",
        "* 0 * ∞ := 0 (in der Maßtheorie sinnvoll)"
      ]
    },
    {
      "cell_type": "markdown",
      "metadata": {
        "id": "rQzLXsG6C4Lx"
      },
      "source": [
        "##### **Dirac Maß**"
      ]
    },
    {
      "cell_type": "markdown",
      "metadata": {
        "id": "KTpN2hkk7KTX"
      },
      "source": [
        "p ∈ X (Punktmaß, weil es einem Punkt ein Maß zuordnet, und sonst Null).\n",
        "\n",
        "Ist p innerhalb eine Menge A als Teilmenge von X, dann ist Diracmaß = 1, sonst 0.\n",
        "\n",
        "δ<sub>p</sub> (A) :=\n",
        "* 1, wenn p ∈ A\n",
        "* 0, wenn sonst.\n",
        "\n",
        "(δ = delta klein)"
      ]
    },
    {
      "cell_type": "markdown",
      "metadata": {
        "id": "WJL1d3ifDByw"
      },
      "source": [
        "https://de.m.wikipedia.org/wiki/Diracmaß"
      ]
    },
    {
      "cell_type": "markdown",
      "metadata": {
        "id": "FkR6CvL_C0uu"
      },
      "source": [
        "##### **Lebesgue Maß**"
      ]
    },
    {
      "cell_type": "markdown",
      "metadata": {
        "id": "pOAnnK16Dbua"
      },
      "source": [
        "* Das Lebesgue-Maß ist das **Maß im euklidischen Raum**, das geometrischen Objekten ihren Inhalt (Länge, Flächeninhalt, Volumen, …) zuordnet.\n",
        "\n",
        "* Das Lebesgue-Borel-Maß auf der Borel-$\\sigma$-Algebra $\\mathcal{B}\\left(\\mathbb{R}^{n}\\right)$ (auch als Borel-Lebesgue-Maß oder nur Bore/-Maß bezeichnet) ist das eindeutige Maß $\\lambda$ mit der Eigenschaft, dass es $n$ -dimensionalen\n",
        "Hyperrechtecken ihr $n$ -dimensionales Volumen zuordnet:\n",
        "\n",
        ">$\\lambda\\left(\\left[a_{1}, b_{1}\\right] \\times \\cdots \\times\\left[a_{n}, b_{n}\\right]\\right)=\\left(b_{1}-a_{1}\\right) \\cdots \\cdots\\left(b_{n}-a_{n}\\right)$\n",
        "\n",
        "* Das heißt, **es ist das Maß, das Intervallen inre Länge zuordnet (im Eindimensionalen), Rechtecken ihren Flächeninhalt zuordnet (im Zweidimensionalen), Quadern ihr Volumen zuordnet (im Dreidimensionalen) usw.** \n",
        "\n",
        "* Durch diese Bedingung wird der Inhalt $\\lambda(B)$ beliebiger Borel-Mengen eindeutig festgelegt. Die BorelMengen werden auch Borel-messbar oder $B$ -messbar genannt. **Das Borel-Maß ist bewegungsinvariant und normiert, aber nicht vollständig.**\n",
        "\n",
        "* Das Lebesgue-Maß ist das Haar-Maß **auf der lokalkompakten topologischen Gruppe** $\\mathbb {R} ^{n}$ mit der Addition, die Existenz folgt daher bereits aus der Existenz des Haarmaßes. \n",
        "\n",
        "* Insbesondere ist es translationsinvariant, das bedeutet, dass sich das Maß einer Menge unter Translation nicht ändert. Zudem ist es invariant unter Spiegelungen und Drehungen, also sogar bewegungsinvariant. Das Lebesgue-Maß ist σ-endlich und regulär."
      ]
    },
    {
      "cell_type": "markdown",
      "metadata": {
        "id": "fF0XsGc9DFRb"
      },
      "source": [
        "https://de.m.wikipedia.org/wiki/Lebesgue-Maß"
      ]
    },
    {
      "cell_type": "markdown",
      "metadata": {
        "id": "ymG9QHcCF1Hg"
      },
      "source": [
        "##### **Haarsches Maß**"
      ]
    },
    {
      "cell_type": "markdown",
      "metadata": {
        "id": "aLkzlmPEF8cn"
      },
      "source": [
        "* Das Haarsche Maß wurde eingeführt, um Ergebnisse der **Maßtheorie in der Gruppentheorie anwendbar zu machen**.\n",
        "\n",
        "* Beispiel: Das Lebesgue-Maß $B$ auf $\\mathbb{R}^{n}$ und $\\mathbb{C}^{n}$ ist das Haarsche Maß auf den additiven Gruppen $\\left(\\mathbb{R}^{n},+\\right)$ bzw. $\\left(\\mathbb{C}^{n},+\\right)$.\n",
        "\n",
        "* Es ist eine Verallgemeinerung des Lebesgue-Maßes. Das Lebesgue-Maß ist ein Maß auf dem euklidischen Raum, das unter Translationen invariant ist. \n",
        "\n",
        "* Der euklidische Raum ist eine lokalkompakte topologische Gruppe bezüglich der Addition. Das Haarsche Maß ist für jede lokalkompakte (im Folgenden immer als hausdorffsch vorauszusetzende) topologische Gruppe definierbar, insbesondere also für jede Lie-Gruppe. \n",
        "\n",
        "* Lokalkompakte Gruppen mit ihren Haarschen Maßen werden in der [harmonischen Analyse](https://de.m.wikipedia.org/wiki/Harmonische_Analyse) untersucht."
      ]
    },
    {
      "cell_type": "markdown",
      "metadata": {
        "id": "KzktY0hJF4LR"
      },
      "source": [
        "https://de.m.wikipedia.org/wiki/Haarsches_Maß"
      ]
    },
    {
      "cell_type": "markdown",
      "metadata": {
        "id": "uw99f_qvDl6i"
      },
      "source": [
        "##### **Haussdorf Maß**"
      ]
    },
    {
      "cell_type": "markdown",
      "metadata": {
        "id": "_2DTGGZGDv5H"
      },
      "source": [
        "* Das Hausdorff-Maß ist eine Verallgemeinerung des Lebesgue-Maßes auf nicht notwendig ganzzahlige Dimensionen. Mit seiner Hilfe lässt sich die Hausdorff-Dimension definieren, ein Dimensionsbegriff, mit dem beispielsweise fraktale Mengen untersucht werden können."
      ]
    },
    {
      "cell_type": "markdown",
      "metadata": {
        "id": "-q9M76qlDrVX"
      },
      "source": [
        "https://de.m.wikipedia.org/wiki/Hausdorff-Maß"
      ]
    },
    {
      "cell_type": "markdown",
      "metadata": {
        "id": "V27J3X8qM9cN"
      },
      "source": [
        "##### **Jordan Maß**"
      ]
    },
    {
      "cell_type": "markdown",
      "metadata": {
        "id": "Q6tM4coFNIxa"
      },
      "source": [
        "* Mit dem Jordan-Maß kann man beschränkten Teilmengen des $\\mathbb {R} ^{n}$ einen Inhalt zuordnen und erhält einen Integralbegriff, der dem [riemannschen Integralbegriff](https://de.m.wikipedia.org/wiki/Riemannsches_Integral) analog ist.\n",
        "\n",
        "* Das Jordan-Maß ist kein Maß im Sinne der Maßtheorie."
      ]
    },
    {
      "cell_type": "markdown",
      "metadata": {
        "id": "zcW8Znq_NB8I"
      },
      "source": [
        "https://de.m.wikipedia.org/wiki/Jordan-Maß"
      ]
    },
    {
      "cell_type": "markdown",
      "metadata": {
        "id": "N9ef5-QUNE22"
      },
      "source": [
        "Siehe auch: https://de.m.wikipedia.org/wiki/Inhalt_(Maßtheorie)"
      ]
    },
    {
      "cell_type": "markdown",
      "metadata": {
        "id": "PomYI_xzCurv"
      },
      "source": [
        "##### **Radon Maß**"
      ]
    },
    {
      "cell_type": "markdown",
      "metadata": {
        "id": "5rGB7cfQ9VeD"
      },
      "source": [
        "Es handelt sich um ein spezielles Maß auf der Borelschen σ-Algebra eines Hausdorff-Raums mit bestimmten Regularitätseigenschaften. Der Begriff wird in der Fachliteratur jedoch nicht einheitlich verwendet. "
      ]
    },
    {
      "cell_type": "markdown",
      "metadata": {
        "id": "r-AnX69MC1wo"
      },
      "source": [
        "https://de.m.wikipedia.org/wiki/Radonmaß"
      ]
    },
    {
      "cell_type": "markdown",
      "metadata": {
        "id": "Fy0PG2uLQIPM"
      },
      "source": [
        "**Measurable Space (Messbarer Raum)**"
      ]
    },
    {
      "cell_type": "markdown",
      "metadata": {
        "id": "RraYrSFNKL4d"
      },
      "source": [
        "Das Tupel $(\\Omega, \\mathcal{A}, \\mu)$ heißt Maßraum, wenn\n",
        "\n",
        "* $\\Omega$ eine beliebige, nichtleere Menge ist. $\\Omega$ wird dann auch Grundmenge (universe / Set) genannt.\n",
        "\n",
        "* $\\mathcal{A}$ eine $\\sigma$ -Algebra über der Grundmenge $\\Omega$ ist.\n",
        "\n",
        "Zusammen mit einem Maß $\\mu$ wird aus einem messbaren Raum ein Maßraum."
      ]
    },
    {
      "cell_type": "markdown",
      "metadata": {
        "id": "UrI52A0M-lGw"
      },
      "source": [
        "* **A measurable space or Borel space is a basic object in measure theory**. It consists of a set and a σ-algebra, which defines the subsets that will be measured.\n",
        "\n",
        "* Note that in contrast to a measure space, **no measure is needed for a measurable space**."
      ]
    },
    {
      "cell_type": "markdown",
      "metadata": {
        "id": "GpCr-8c-d62V"
      },
      "source": [
        "**Messraum und Maßraum sind spezielle σ-Algebren.**"
      ]
    },
    {
      "cell_type": "markdown",
      "metadata": {
        "id": "ScZG-bj9KyHs"
      },
      "source": [
        "**Example**\n",
        "\n",
        "Look at the set\n",
        "\n",
        "X=\\{1,2,3\\}\n",
        "\n",
        "One possible $\\sigma$ -algebra would be\n",
        "\n",
        "$\\mathcal{A}_{1}=\\{X, \\emptyset\\}$\n",
        "\n",
        "Then $\\left(X, \\mathcal{A}_{1}\\right)$ is a measurable space. \n",
        "\n",
        "Another possible $\\sigma$ -algebra would be the power set on $X$ :\n",
        "\n",
        "$\\mathcal{A}_{2}=\\mathcal{P}(X)$\n",
        "\n",
        "With this, a second measurable space on the set $X$ is given by $\\left(X, \\mathcal{A}_{2}\\right)$."
      ]
    },
    {
      "cell_type": "markdown",
      "metadata": {
        "id": "Q8kIK_3HLLTT"
      },
      "source": [
        "**Types**\n",
        "\n",
        "* If $X$ is finite or countable infinite, **the $\\sigma$ -algebra is most of the times the power set on $X$**, so $\\mathcal{A}=\\mathcal{P}(X) .$ This leads to the measurable space $(X, \\mathcal{P}(X))$\n",
        "\n",
        "* **If $X$ is a topological space, the $\\sigma$ -algebra is most commonly the Borel $\\sigma$ -algebra $\\mathcal{B}$**, so $\\mathcal{A}=\\mathcal{B}(X)$. This leads to the measurable space $(X, \\mathcal{B}(X))$ that is common for all topological spaces such as\n",
        "the real numbers $\\mathbb{R}$.\n"
      ]
    },
    {
      "cell_type": "markdown",
      "metadata": {
        "id": "uIHhdyPQ-hgE"
      },
      "source": [
        "https://en.m.wikipedia.org/wiki/Measurable_space"
      ]
    },
    {
      "cell_type": "markdown",
      "metadata": {
        "id": "0juq9WKIedRw"
      },
      "source": [
        ""
      ]
    },
    {
      "cell_type": "markdown",
      "metadata": {
        "id": "5xNu3ZUr3rtp"
      },
      "source": [
        "#### **Integration**"
      ]
    },
    {
      "cell_type": "markdown",
      "metadata": {
        "id": "clc0uHou3vFE"
      },
      "source": [
        "**Riemann vs Lebesgue Integral**"
      ]
    },
    {
      "cell_type": "markdown",
      "metadata": {
        "id": "2YpeX84I3z0Q"
      },
      "source": [
        "https://de.m.wikipedia.org/wiki/Integralrechnung"
      ]
    },
    {
      "cell_type": "markdown",
      "metadata": {
        "id": "9f8ajZ5T31sN"
      },
      "source": [
        "https://de.m.wikipedia.org/wiki/Maßtheorie"
      ]
    },
    {
      "cell_type": "markdown",
      "metadata": {
        "id": "JGhitrlOQEHM"
      },
      "source": [
        "#### **Measure Space (Maßraum)**"
      ]
    },
    {
      "cell_type": "markdown",
      "metadata": {
        "id": "5FCk6SHCCxwq"
      },
      "source": [
        "##### **Definition Measure Space**"
      ]
    },
    {
      "cell_type": "markdown",
      "metadata": {
        "id": "7IsroJGMFRuY"
      },
      "source": [
        "Ein Maßraum ist eine spezielle mathematische Struktur, die eine essentielle Rolle in der Maßtheorie und dem axiomatischen Aufbau der Stochastik spielt.\n",
        "\n",
        "Das Tripel $(\\Omega, \\mathcal{A}, \\mu)$ heißt Maßraum, wenn\n",
        "\n",
        "* $\\Omega$ eine beliebige, nichtleere Menge ist. $\\Omega$ wird dann auch Grundmenge genannt.\n",
        "\n",
        "* $\\mathcal{A}$ eine [$\\sigma$ -Algebra](https://de.m.wikipedia.org/wiki/Σ-Algebra) über der Grundmenge $\\Omega$ ist.\n",
        "\n",
        "* $\\mu$ ein [Maß](https://de.m.wikipedia.org/wiki/Maß_(Mathematik)) ist, das auf $\\mathcal{A}$ definiert ist.\n",
        "\n",
        "Alternativ kann man einen Maßraum auch als einen [Messraum](https://de.m.wikipedia.org/wiki/Messraum_(Mathematik)) $(\\Omega, \\mathcal{A})$ versehen mit einem Maß $\\mu$ definieren."
      ]
    },
    {
      "cell_type": "markdown",
      "metadata": {
        "id": "bqmDCJDWy4sq"
      },
      "source": [
        "A measure space is a triple $(X, \\mathcal{A}, \\mu),$ where\n",
        "\n",
        "* $X$ is a set\n",
        "\n",
        "* $\\mathcal{A}$ is a $\\sigma$ -algebra on the set $X$\n",
        "\n",
        "* $\\boldsymbol{\\mu}$ is a measure on $(X, \\mathcal{A})$"
      ]
    },
    {
      "cell_type": "markdown",
      "metadata": {
        "id": "34X5FmJ4d--B"
      },
      "source": [
        "**Messraum und Maßraum sind spezielle σ-Algebren.**"
      ]
    },
    {
      "cell_type": "markdown",
      "metadata": {
        "id": "xDp68lYUypzs"
      },
      "source": [
        "https://en.m.wikipedia.org/wiki/Measure_space"
      ]
    },
    {
      "cell_type": "markdown",
      "metadata": {
        "id": "-lIqej8jGuOt"
      },
      "source": [
        "**Beispiele**\n",
        "\n",
        "* Ein einfaches Beispiel für einen Maßraum sind die natürlichen Zahlen als Grundmenge $\\Omega=\\mathbb{N}$, als $\\sigma$ Algebra wählt man die Potenzmenge $\\mathcal{A}=\\mathcal{P}(\\mathbb{N})$ und als Maß das Diracmaß auf der $1: \\mu=\\delta_{1}$\n",
        "\n",
        "* Ein bekannter Maßraum ist die Grundmenge $\\mathbb{R}$, versehen mit der borelschen $\\sigma$ -Algebra $\\mathcal{B}(\\mathbb{R})$ und dem Lebesgue-Maß. **Dies ist der kanonische Maßraum in der Integrationstheorie.**\n",
        "\n",
        "* Die in der Wahrscheinlichkeitstheorie verwendeten **[Wahrscheinlichkeitsräume](https://de.m.wikipedia.org/wiki/Wahrscheinlichkeitsraum)** $(\\Omega, \\mathcal{A}, P)$ sind allesamt Maßräume. Sie bestehen aus der Ergebnismenge $\\Omega$, der Ereignisalgebra $\\mathcal{A}$ und dem Wahrscheinlichkeitsmaß $P$ (= synonym 'Wahrscheinlichkeitsverteilung' oder einfach 'Verteilung'). Mit den Eigenschaften: Die drei Forderungen Normiertheit, σ-Additivität und Werte im Intervall zwischen 0 und 1 werden auch die Kolmogorow-Axiome genannt. ([Source](https://de.m.wikipedia.org/wiki/Wahrscheinlichkeitsma%C3%9F))"
      ]
    },
    {
      "cell_type": "markdown",
      "metadata": {
        "id": "nmTp6RhYL8Je"
      },
      "source": [
        "**Klassen von Maßräumen**\n",
        "\n",
        "https://de.m.wikipedia.org/wiki/Σ-Endlichkeit\n",
        "\n",
        "https://de.m.wikipedia.org/wiki/Vollständiges_Maß\n",
        "\n",
        "und mehr.."
      ]
    },
    {
      "cell_type": "markdown",
      "metadata": {
        "id": "CqKgmO9kQZPo"
      },
      "source": [
        "* Verzichtet man auf Abstände und Winkel, behält jedoch das Volumen geometrischer Körper bei, gelangt man in das Gebiet der Maßtheorie. (für ein wahrscheinlichkeitsmaß volumen = 1)\n",
        "\n",
        "* Der Maßtheorie gelang es, den Begriff des Volumens (oder eines anderen Maßes) auf eine enorm große Klasse von Mengen auszudehnen, die sogenannten messbaren Mengen. In vielen Fällen ist es jedoch unmöglich, allen Mengen ein Maß zuzuordnen (siehe Maßproblem).\n",
        "Die messbaren Mengen bilden dabei eine σ-Algebra. Mit Hilfen von messbaren Mengen lassen sich messbare Funktionen zwischen Messräumen definieren.\n",
        "\n",
        "* Um einen topologischen Raum zu einem Messraum zu machen, muss man ihn mit einer σ-Algebra ausstatten. Die σ-Algebra der Borel-Mengen ist die verbreitetste, aber nicht die einzige Wahl.\n",
        "\n",
        "* Ein Maßraum ist ein Messraum, der mit einem Maß versehen ist. Ein euklidischer Raum mit dem [Lebesgue-Maß](https://de.m.wikipedia.org/wiki/Lebesgue-Maß) ist beispielsweise ein Maßraum. In der Integrationstheorie werden Integrierbarkeit und Integrale messbarer Funktionen auf Maßräumen definiert. Mengen vom Maß null werden Nullmengen genannt."
      ]
    },
    {
      "cell_type": "markdown",
      "metadata": {
        "id": "gR0omcCEyljo"
      },
      "source": [
        "* A measure space is a basic object of measure theory, a branch of mathematics that studies generalized notions of volumes. \n",
        "\n",
        "* It contains an underlying set, the subsets of this set that are feasible for measuring (the σ-algebra) and the method that is used for measuring (the measure). \n",
        "\n",
        "* **One important example of a measure space is a probability space**.\n",
        "\n",
        "* A measurable space consists of the first two components without a specific measure."
      ]
    },
    {
      "cell_type": "markdown",
      "metadata": {
        "id": "lxZqzchtzaSz"
      },
      "source": [
        "A **complete measure** (or, more precisely, a complete measure space) is a measure space in which every subset of every null set is measurable (having measure zero). "
      ]
    },
    {
      "cell_type": "markdown",
      "metadata": {
        "id": "XtShSxHrzeGE"
      },
      "source": [
        "https://en.m.wikipedia.org/wiki/Complete_measure"
      ]
    },
    {
      "cell_type": "markdown",
      "metadata": {
        "id": "ddjokxjoP-Dc"
      },
      "source": [
        "##### **Probability Space (Wahrscheinlichkeitsraum)**"
      ]
    },
    {
      "cell_type": "markdown",
      "metadata": {
        "id": "546Ne29sIvX2"
      },
      "source": [
        "Gegeben sei\n",
        "\n",
        "* eine Menge $\\Omega$, der sogenannte **Ergebnisraum**,\n",
        "\n",
        "* eine o-Algebra $\\Sigma$ auf dieser Menge, das **Ereignissystem**.\n",
        "\n",
        "Dann heißt eine Abbildung (=Funktion)\n",
        "\n",
        ">$P: \\Sigma \\rightarrow[0,1]$\n",
        "\n",
        "mit den Eigenschaften\n",
        "\n",
        "*  Normiertheit: Es ist $P(\\Omega)=1$\n",
        "\n",
        "* $\\sigma$-Additivität: Für jede abzählbare Folge von paarweise disjunkten Mengen $A_{1}, A_{2}, A_{3}, \\ldots$ aus $\\Sigma$ gilt $P\\left(\\bigcup_{i=1}^{\\infty} A_{i}\\right)=\\sum_{i=1}^{\\infty} P\\left(A_{i}\\right)$\n",
        "\n",
        "ein Wahrscheinlichkeitsmaß oder eine Wahrscheinlichkeitsverteilung.\n",
        "\n",
        "Die drei Forderungen Normiertheit, $\\sigma$-Additivität und Werte im Intervall zwischen O und 1 werden auch die [Kolmogorow-Axiome](https://de.m.wikipedia.org/wiki/Wahrscheinlichkeitstheorie#Axiome_von_Kolmogorow) genannt."
      ]
    },
    {
      "cell_type": "markdown",
      "metadata": {
        "id": "oaMjBu3YIYna"
      },
      "source": [
        "https://de.m.wikipedia.org/wiki/Wahrscheinlichkeitsmaß"
      ]
    },
    {
      "cell_type": "markdown",
      "metadata": {
        "id": "ArmaZGI0P4Hu"
      },
      "source": [
        "* **One important example of a measure space is a probability space.**\n",
        "\n",
        "* Ein Wahrscheinlichkeitsraum ist ein Maßraum, bei dem das Maß des ganzen Raums gleich 1 ist.\n",
        "\n",
        "* In der Wahrscheinlichkeitstheorie werden für die verwendeten maßtheoretischen Begriffe meist eigene Bezeichnungen verwendet, die der Beschreibung von Zufallsexperimenten angepasst sind: Messbare Mengen werden Ereignisse und messbare Funktionen zwischen Wahrscheinlichkeitsräumen werden Zufallsvariable genannt; ihre Integrale sind Erwartungswerte.\n",
        "\n",
        "* Das Produkt einer endlichen oder unendlichen Familie von Wahrscheinlichkeitsräumen ist wieder ein Wahrscheinlichkeitsraum. Im Gegensatz dazu ist für allgemeine Maßräume nur das Produkt endlich vieler Räume definiert. Dementsprechend gibt es zahlreiche unendlichdimensionale Wahrscheinlichkeitsmaße, beispielsweise die Normalverteilung, aber kein unendlichdimensionales Lebesgue-Maß.\n",
        "Diese Räume sind weniger geometrisch. Insbesondere lässt sich die Idee der Dimension, wie sie in der einen oder anderen Form auf alle anderen Räume anwendbar ist, nicht auf Messräume, Maßräume und Wahrscheinlichkeitsräume anwenden."
      ]
    },
    {
      "cell_type": "markdown",
      "metadata": {
        "id": "sHNOE1lKU7wF"
      },
      "source": [
        "* Es handelt sich um ein mathematisches Modell zur Beschreibung von Zufallsexperimenten. Hierbei werden die verschiedenen möglichen Ausgänge des Experiments zu einer Menge zusammengefasst. Teilmengen dieser Ergebnismenge können dann unter bestimmten Voraussetzungen Zahlen zwischen 0 und 1 zugeordnet werden, die als Wahrscheinlichkeiten interpretiert werden.\n",
        "\n",
        "* Ein Wahrscheinlichkeitsraum ist ein Maßraum (Ω, Σ, P) dessen Maß P ein Wahrscheinlichkeitsmaß ist. Im Einzelnen bedeutet das: \n",
        "\n",
        "* Ω ist eine beliebige nichtleere Menge, genannt die Ergebnismenge. Ihre Elemente heißen Ergebnisse.\n",
        "\n",
        "* Σ (Sigma) ist eine σ-Algebra über der Grundmenge Ω (Omega), also eine Menge bestehend aus Teilmengen von Ω, die Ω enthält und abgeschlossen gegenüber der Bildung von Komplementen und abzählbaren Vereinigungen ist. Die Elemente von Σ heißen Ereignisse. Die σ-Algebra Σ selbst wird auch Ereignissystem oder Ereignisalgebra genannt.\n",
        "\n",
        "* P : Σ –> [0,1] ist ein Wahrscheinlichkeitsmaß, das heißt eine Mengenfunktion, die den Ereignissen Zahlen zuordnet, derart dass P(∅) = 0 ist, P (A1 ∪ A2 ∪ … ) = P(A1) + P(A2) + … für paarweise disjunkte (d. h. sich gegenseitig ausschließende) Ereignisse A1, A2, … gilt (3. Kolmogorow-Axiom) und P(Ω) = 1 ist (2. Kolmogorow-Axiom).\n",
        "\n",
        "* Der Messraum (Ω, Σ) wird auch Ereignisraum genannt. Ein Wahrscheinlichkeitsraum ist also ein Ereignisraum, auf dem zusätzlich ein Wahrscheinlichkeitsmaß gegeben ist.\n",
        "\n",
        "https://de.m.wikipedia.org/wiki/Wahrscheinlichkeitsraum"
      ]
    },
    {
      "cell_type": "markdown",
      "metadata": {
        "id": "qrbj7vn2poCe"
      },
      "source": [
        "#### **Probability Theory**"
      ]
    },
    {
      "cell_type": "markdown",
      "metadata": {
        "id": "IoZiS2oORjId"
      },
      "source": [
        "##### **Measure-theoretic probability theory**"
      ]
    },
    {
      "cell_type": "markdown",
      "metadata": {
        "id": "IA-XQOB0Rk43"
      },
      "source": [
        "* The raison d'être of the measure-theoretic treatment of probability is that it unifies the discrete and the continuous cases, and makes the difference a question of which measure is used. Furthermore, it covers distributions that are neither discrete nor continuous nor mixtures of the two.\n",
        "\n",
        "* Other distributions may not even be a mix, for example, the Cantor distribution has no positive probability for any single point, neither does it have a density. \n",
        "\n",
        "* The modern approach to probability theory solves these problems using measure theory to define the probability space:"
      ]
    },
    {
      "cell_type": "markdown",
      "metadata": {
        "id": "iTrQPBeNRoM_"
      },
      "source": [
        "Given any set $\\Omega$ (also called sample space) and a $\\sigma$ -algebra $\\mathcal{F}$ on it, a measure $P$ defined on $\\mathcal{F}$ is\n",
        "called a probability measure if $P(\\Omega)=1$\n",
        "\n",
        "If $\\mathcal{F}$ is the Borel $\\sigma$ -algebra on the set of real numbers, then there is a unique probability measure on\n",
        "$\\mathcal{F}$ for any cdf, and vice versa. The measure corresponding to a cdf is said to be induced by the cdf.\n",
        "\n",
        "This measure coincides with the pmf for discrete variables and pdf for continuous variables, making the measure-theoretic approach free of fallacies.\n",
        "\n",
        "The probability of a set $E$ in the $\\sigma$ -algebra $\\mathcal{F}$ is defined as\n",
        "\n",
        "$P(E)=\\int_{\\omega \\in E} \\mu_{F}(d \\omega)$\n",
        "\n",
        "where the integration is with respect to the measure $\\mu_{F}$ induced by $F$"
      ]
    },
    {
      "cell_type": "markdown",
      "metadata": {
        "id": "q2zSbb9oRrPM"
      },
      "source": [
        "Along with providing better understanding and unification of discrete and continuous probabilities, measure-theoretic treatment also allows us to work on probabilities outside R<sup>n</sup>, as in the theory of stochastic processes. For example, to study Brownian motion, probability is defined on a space of functions.\n",
        "\n",
        "When it's convenient to work with a dominating measure, the Radon-Nikodym theorem is used to define a density as the Radon-Nikodym derivative of the probability distribution of interest with respect to this dominating measure. \n",
        "\n",
        "* Discrete densities are usually defined as this derivative with respect to a counting measure over the set of all possible outcomes. \n",
        "\n",
        "* Densities for absolutely continuous distributions are usually defined as this derivative with respect to the Lebesgue measure. \n",
        "\n",
        "* If a theorem can be proved in this general setting, it holds for both discrete and continuous distributions as well as others; separate proofs are not required for discrete and continuous distributions."
      ]
    },
    {
      "cell_type": "markdown",
      "metadata": {
        "id": "NtTcW7mPRxh0"
      },
      "source": [
        "https://en.m.wikipedia.org/wiki/Probability_theory"
      ]
    },
    {
      "cell_type": "markdown",
      "metadata": {
        "id": "4S4z_HeLRbtc"
      },
      "source": [
        "##### **Filtrations**"
      ]
    },
    {
      "cell_type": "markdown",
      "metadata": {
        "id": "twdKxs43TtLO"
      },
      "source": [
        "* In martingale theory and the theory of stochastic processes, a **filtration is an increasing sequence of σ-algebras on a measurable space**.\n",
        "\n",
        "* That is, given a measurable space $(\\Omega, \\mathcal{F}),$ a filtration is a sequence of $\\sigma$ -algebras $\\left\\{\\mathcal{F}_{t}\\right\\}_{t \\geq 0}$ with $\\mathcal{F}_{t} \\subseteq \\mathcal{F}$ where each $t$ is a non-negative real number and \n",
        "\n",
        "> $t_{1} \\leq t_{2} \\Longrightarrow \\mathcal{F}_{t_{1}} \\subseteq \\mathcal{F}_{t_{2}}$\n",
        "\n",
        "* The exact range of the \"times\" $t$ will usually depend on context: the set of values for $t$ might be discrete or continuous, bounded or unbounded. For example,\n",
        "\n",
        "> $t \\in\\{0,1, \\ldots, N\\}, \\mathbb{N}_{0},[0, T]$ or $[0,+\\infty)$\n",
        "\n",
        "* **A σ-algebra defines the set of events that can be measured, which in a probability context is equivalent to events that can be discriminated, or \"questions that can be answered at time t\".** \n",
        "\n",
        "* **Therefore, a filtration is often used to represent the change in the set of events that can be measured, through gain or loss of information**. \n",
        "\n",
        "* A typical example is in mathematical finance, where a filtration represents the information available up to and including each time t, and is more and more precise (the set of measurable events is staying the same or increasing) as more information from the evolution of the stock price becomes available."
      ]
    },
    {
      "cell_type": "markdown",
      "metadata": {
        "id": "HHZ_qSHtTttI"
      },
      "source": [
        "A Filtration is a growing sequence of sigma algebras\n",
        "\n",
        "> $\\mathcal{F}_{1} \\subseteq \\mathcal{F}_{2} \\ldots \\subseteq \\mathcal{F}_{n}$"
      ]
    },
    {
      "cell_type": "markdown",
      "metadata": {
        "id": "ydUyoWHMTxuH"
      },
      "source": [
        "When talking of martingales we need to talk of conditional expectations, and in particular conditional expectations w.r.t σ algebra's. So whenever we write\n",
        "\n",
        "> $E\\left[Y_{n} \\mid X_{1}, X_{2}, \\ldots, X_{n}\\right]$\n",
        "\n",
        "which can be written as\n",
        "\n",
        "> $E\\left[Y_{n+1} \\mid \\mathcal{F}_{n}\\right]$\n",
        "\n",
        "where F𝑛 is a sigma algebra that makes random variables\n",
        "\n",
        "> $X_{1}, \\ldots, X_{n}$\n",
        "\n",
        "measurable. Finally a flitration F1,…Fn is simply an increasing sequence of sigma algebras. That is **we are conditioning on growing amounts of information**."
      ]
    },
    {
      "cell_type": "markdown",
      "metadata": {
        "id": "PBSsj3NATji0"
      },
      "source": [
        "* Der Begriff der Filtrierung ist unerlässlich, um, ausgehend vom Begriff des stochastischen Prozesses,\n",
        "wichtige Begriffe wie Martingale oder Stoppzeiten einzuführen.\n",
        "\n",
        "* Als Menge $T$ wird wie bei stochastischen Prozessen meist $\\mathbb{R}_{+}$ oder $\\mathbb{N}_{0}$ gewählt und $t \\in T$ als Zeitpunkt interpretiert.\n",
        "\n",
        "* **$\\sigma$ -Algebren modellieren verfügbare Information**. Die Mengen der $\\sigma$ -Algebra $\\mathcal{F}_{t}$ geben zu jedem Zeitpunkt $t$ an, wie viele Informationen zur Zeit bekannt sind. Für jedes Ereignis $A \\subseteq \\Omega$ bedeutet $A \\in \\mathcal{F}_{t}$ übersetzt, dass zum Zeitpunkt $t$ die Frage $,$ ist $\\omega \\in A ?^{\\prime \\prime}$ eindeutig mit $,$ ja\" oder $,$ nein\" beantwortet werden kann. \n",
        "\n",
        "* Dass die Filtrierung stets aufsteigend geordnet ist, bedeutet demnach, **dass eine einmal erlangte Information nicht mehr verloren geht.**\n",
        "\n",
        "* Ist ein stochastischer Prozess $\\left(X_{t}\\right)_{t \\in T}$ an eine Filtrierung $\\left(\\mathcal{F}_{t}\\right)_{t \\in T}$ adaptiert, bedeutet dies also, dass der Verlauf der Funktion $s \\mapsto X_{s}(\\omega)$ im Intervall $[0, t]$ zum Zeitpunkt $t$ (für beliebiges, aber unbekanntes $\\omega \\in \\Omega$ und in Hinsicht auf die durch Ereignisse $A \\in \\mathcal{F}_{s}, s \\in[0, t]$ formulierbaren Fragen bekannt ist.\n",
        "\n",
        "* Der Begriff wird aufgrund seiner Bedeutung in den meisten fortgeschrittenen Lehrbüchern über stochastische Prozesse definiert. In einigen Lehrbüchern, zum Beispiel im Buch Probability von Albert N. Schirjajew, wird der Begriff aus didaktischen Gründen zunächst umfassend für Prozesse mit diskreten\n",
        "Werten in diskreter Zeit eingeführt."
      ]
    },
    {
      "cell_type": "markdown",
      "metadata": {
        "id": "j1jbiHbhTmjI"
      },
      "source": [
        "https://de.m.wikipedia.org/wiki/Filtrierung_(Wahrscheinlichkeitstheorie)"
      ]
    },
    {
      "cell_type": "markdown",
      "metadata": {
        "id": "5KPYnylSIyek"
      },
      "source": [
        "**Filtration in Finance**"
      ]
    },
    {
      "cell_type": "markdown",
      "metadata": {
        "id": "kWRt0ouzRfq3"
      },
      "source": [
        "* In a multiperiod market, information about the market scenario is revealed in stages. \n",
        "\n",
        "* Some events may be completely determined by the end of the first trading period, others by the end of the second, and others not until the termination of all trading. \n",
        "\n",
        "* This suggests the following classification of events: for each t ≤ T ,\n",
        "\n",
        "(1) Ft = {all events determined in the first t trading periods}.\n",
        "\n",
        "* The finite sequence (Ft)0≤t≤T is a filtration of the space Ω of market scenarios. \n",
        "\n",
        "* In general, a filtration of a set Ω (not necessarily finite) is defined to be a collection Ft, indexed by a time parameter t (time may be either discrete or continuous), such that\n",
        "\n",
        "(a) each Ft is a σ−algebra of subsets (events) of Ω; and \n",
        "\n",
        "(b) if s<t then Fs ⊆Ft."
      ]
    },
    {
      "cell_type": "markdown",
      "metadata": {
        "id": "MuA_GsRdTpdF"
      },
      "source": [
        "**Beispiel**\n",
        "\n",
        "* Betrachtet man als Beispiel einen Wahrscheinlichkeitsraum $(\\mathbb{Z}, \\mathcal{P}(\\mathbb{Z}), P)$ mit abzählbarer Grundmenge $\\mathbb{Z}$ die standardmäßig mit der Potenzmenge als $\\sigma$ -Algebra ausgestattet ist, so wäre eine mögliche Filtrierung beispielsweise\n",
        "\n",
        "> $\\mathcal{F}_{n}:=\\sigma(\\mathcal{P}(\\{-n, \\ldots, n\\}))$\n",
        "\n",
        "* Sie modelliert die Informationen, dass man bis zum n-ten Zeitschritt sich bis zu n Schritte vom Ursprung entfernt hat und wäre beispielsweise die passende Filtrierung für einen einfachen symmetrischen Random\n",
        "Walk."
      ]
    },
    {
      "cell_type": "markdown",
      "metadata": {
        "id": "Dakkth8kTba4"
      },
      "source": [
        "**Filtration and Stochastic Processes**"
      ]
    },
    {
      "cell_type": "markdown",
      "metadata": {
        "id": "8f7--tqiTdyL"
      },
      "source": [
        "https://almostsure.wordpress.com/2009/11/08/filtrations-and-adapted-processes/"
      ]
    },
    {
      "cell_type": "markdown",
      "metadata": {
        "id": "cUaeKRFSTfWJ"
      },
      "source": [
        "* In mathematics, a filtration $\\mathcal{F}$ is an indexed family $\\left(S_{i}\\right)_{i \\in I}$ of subobjects of a given algebraic structure $S,$ with the index $i$ running over some totally ordered index set $I$, subject to the condition\n",
        "that\n",
        "\n",
        "> if $i \\leq j$ in $I,$ then $S_{i} \\subset S_{j}$\n",
        "\n",
        "* If the index i is the time parameter of some stochastic process, then the filtration can be interpreted as **representing all historical but not future information available about the stochastic process**, with the algebraic structure S<sub>i</sub> gaining in complexity with time. \n",
        "\n",
        "* Hence, a process that is adapted to a filtration F, is also called **non-anticipating**, i.e. one that cannot see into the future.\n",
        "\n",
        "* Eine Filtrierung (auch Filtration, Filterung oder Filtern) ist in der Theorie der stochastischen Prozesse eine Familie von verschachtelten σ-Algebren. Sie modelliert die zu verschiedenen Zeitpunkten verfügbaren Informationen zum Verlauf eines Zufallsprozesses."
      ]
    },
    {
      "cell_type": "markdown",
      "metadata": {
        "id": "aItl9UHSTMPk"
      },
      "source": [
        "https://de.m.wikipedia.org/wiki/Filtrierung_(Wahrscheinlichkeitstheorie)"
      ]
    },
    {
      "cell_type": "markdown",
      "metadata": {
        "id": "YlBNcfp3Rz6H"
      },
      "source": [
        "##### **Adapted Process**"
      ]
    },
    {
      "cell_type": "markdown",
      "metadata": {
        "id": "PDPqovDyR3ll"
      },
      "source": [
        "* for exmaple in Finance\n",
        "\n",
        "* The share prices of assets in a multiperiod market depend on market scenarios, but evolve in such a way that their values at any time t, being observable at time t, do not depend on the unobservable post-t futures of the scenarios. \n",
        "\n",
        "* Thus, the price process St of a traded asset is **adapted to the natural filtration** (Ft)0≤t≤T defined by (1). \n",
        "\n",
        "* In general, a sequence Xt of random variables is said to be **adapted to a filtration** (Ft)0≤t≤T if, for each t, the random variable Xt is **Ft−measurable**, that is, if all events of the form {ω : Xt(ω) ∈ B}, where **B is a Borel** subset of the real numbers R, are members of the σ−algebra Ft."
      ]
    },
    {
      "cell_type": "markdown",
      "metadata": {
        "id": "GJ5sfwleTp0G"
      },
      "source": [
        "##### **Martingales**"
      ]
    },
    {
      "cell_type": "markdown",
      "metadata": {
        "id": "xJFV1b0SVIDD"
      },
      "source": [
        "Let (Ω,F,P) be a probability space and (Ft)0≤t≤T or (Ft)0≤t<∞ a filtration by sub- σ−algebras of F. An adapted sequence Xt of integrable random variables is defined to be a\n",
        "\n",
        "* martingale if E(Xt+1|Ft) = Xt ∀t (=for all t).\n",
        "* submartingale if E(Xt+1|Ft) ≥ Xt ∀t.\n",
        "* supermartingale if E(Xt+1|Ft) ≤ Xt ∀t."
      ]
    },
    {
      "cell_type": "markdown",
      "metadata": {
        "id": "6r27yD1jVKcH"
      },
      "source": [
        "A measure space is a triple $\\langle X, \\mathcal{F}, \\mu\\rangle$ where $\\langle X, \\mathcal{F}\\rangle$ is a measurable space and $\\mu$ is a measure defined on it. If $\\mu$ is in fact a probability measure we speak of a probability space and call its\n",
        "underlying measurable space a sample space. The points of a sample space are called samples\n",
        "and represent potential outcomes while the measurable sets (complexes) are called events and\n",
        "represent properties of outcomes for which we wish to assign probabilities. (Many use the term\n",
        "sample space simply for the underlying set of a probability space, particularly in the case where\n",
        "every subset is an event.) Measure spaces and probability spaces play a foundational role in\n",
        "measure theory and probability theory respectively."
      ]
    },
    {
      "cell_type": "markdown",
      "metadata": {
        "id": "v_kxlSluThye"
      },
      "source": [
        "##### **Stopping Time**"
      ]
    },
    {
      "cell_type": "markdown",
      "metadata": {
        "id": "XTlfEwihSoCY"
      },
      "source": [
        "**Optional Stopping Theorem**"
      ]
    },
    {
      "cell_type": "markdown",
      "metadata": {
        "id": "KkWnh7gmSp_P"
      },
      "source": [
        "* Das Optional Stopping Theorem ist ein mathematischer Satz über Martingale, eine spezielle Klasse von stochastischen Prozessen, und damit der Wahrscheinlichkeitstheorie zuzuordnen."
      ]
    },
    {
      "cell_type": "markdown",
      "metadata": {
        "id": "ACEdUaw8SsLa"
      },
      "source": [
        "https://de.m.wikipedia.org/wiki/Optional_Stopping_Theorem"
      ]
    },
    {
      "cell_type": "markdown",
      "metadata": {
        "id": "Wt61hl-eStyZ"
      },
      "source": [
        "**Optional Sampling Theorem**"
      ]
    },
    {
      "cell_type": "markdown",
      "metadata": {
        "id": "90UhOSzKSvwX"
      },
      "source": [
        "* Eine populäre Version dieses Theorems besagt, dass es bei einem fairen, sich wiederholenden Spiel keine Abbruchstrategie gibt, mit der man seinen Gesamtgewinn verbessern kann."
      ]
    },
    {
      "cell_type": "markdown",
      "metadata": {
        "id": "KATpf77vSzZC"
      },
      "source": [
        "https://de.m.wikipedia.org/wiki/Optional_Sampling_Theorem"
      ]
    },
    {
      "cell_type": "markdown",
      "metadata": {
        "id": "VB0x_AXTS1Hv"
      },
      "source": [
        "**Starke Markoweigenschaft**"
      ]
    },
    {
      "cell_type": "markdown",
      "metadata": {
        "id": "lILdY--jS2-Q"
      },
      "source": [
        "https://de.m.wikipedia.org/wiki/Starke_Markoweigenschaft"
      ]
    },
    {
      "cell_type": "markdown",
      "metadata": {
        "id": "UdtBxMWdTBtK"
      },
      "source": [
        "**Stoppzeit (Markov Moment)**"
      ]
    },
    {
      "cell_type": "markdown",
      "metadata": {
        "id": "71iQf0RdTDNJ"
      },
      "source": [
        "* In der Stochastik bezeichnet der Begriff der Stoppzeit eine spezielle Art von Zufallsvariablen, die auf filtrierten Wahrscheinlichkeitsräumen definiert werden. \n",
        "\n",
        "* Stoppzeiten sind nicht nur von Bedeutung für die Theorie der stochastischen Prozesse (beispielsweise bei der Lokalisierung von Prozessklassen oder Untersuchungen von gestoppten Prozessen), sondern auch von praktischer Relevanz, etwa für das Problem des optimalen Ausübungszeitpunkts für amerikanische Optionen.\n",
        "\n",
        "* Eine Stoppzeit kann man als die Wartezeit interpretieren, die vergeht, bis ein bestimmtes zufälliges Ereignis eintritt. Wenn wie üblich die Filtrierung die vorhandene Information zu verschiedenen Zeitpunkten angibt, bedeutet die obige Bedingung also, dass zu jeder Zeit bekannt sein soll, ob dieses Ereignis bereits eingetreten ist oder nicht.\n",
        "\n"
      ]
    },
    {
      "cell_type": "markdown",
      "metadata": {
        "id": "y9XXp_tQTFfW"
      },
      "source": [
        "https://de.m.wikipedia.org/wiki/Stoppzeit"
      ]
    },
    {
      "cell_type": "markdown",
      "metadata": {
        "id": "m9N4JsisTHOz"
      },
      "source": [
        "**Filtrierung von Stoppzeiten**"
      ]
    },
    {
      "cell_type": "markdown",
      "metadata": {
        "id": "X0VXIdxXTI94"
      },
      "source": [
        "* Eine Stoppzeit $\\tau: \\Omega \\rightarrow[0, \\infty]$ bezüglich einer beliebigen Filtrierung $\\left(\\mathcal{F}_{t}\\right)_{t \\in[0, \\infty)}$ erzeugt in Analogie zur natürlichen Filtrierung eine $\\sigma$ -Algebra, die sogenannte $\\sigma$ -Algebra der $\\tau$ -Vergangenheit\n",
        "\n",
        "$\\mathcal{F}_{\\tau}:=\\left\\{A \\in \\mathcal{F}_{\\infty} \\mid \\forall t \\in[0, \\infty): A \\cap\\{\\tau \\leq t\\} \\in \\mathcal{F}_{t}\\right\\} \\text { mit } \\mathcal{F}_{\\infty}=\\sigma\\left(\\bigcup_{t \\in[0, \\infty)} \\mathcal{F}_{t}\\right)$\n",
        "\n",
        "* Sei nun $\\left(\\tau_{j}\\right)_{j \\in J}$ eine geordnete Familie von Stoppzeiten mit $P\\left(\\tau_{i} \\leq \\tau_{j}\\right)=1$ für alle $i, j \\in J$ mit $i \\leq j$ dann ist die Familie $\\left(\\mathcal{F}_{\\tau_{j}}\\right)_{j \\in J}$ eine Filtrierung, diese ist beim Studium von Stoppzeiten stochastischer Prozesse von Bedeutung. \n",
        "\n",
        "* In Analogie erzeugt man die rechtsstetige Version der Filtrierung $\\left(\\mathcal{F}_{\\tau_{j}+}\\right)_{j \\in J}$ wobei:\n",
        "\n",
        "$\\mathcal{F}_{r+}:=\\left\\{A \\in \\mathcal{F}_{\\infty} \\mid \\forall t \\in[0, \\infty): A \\cap\\{\\tau \\leq t\\} \\in \\mathcal{F}_{t+}\\right\\} \\text { und } \\mathcal{F}_{t+}=\\bigcap_{u \\in(t, \\infty)} \\mathcal{F}_{u}$\n",
        "\n",
        "* Es gilt immer $\\mathcal{F}_{\\tau} \\subseteq \\mathcal{F}_{r+}$"
      ]
    },
    {
      "cell_type": "markdown",
      "metadata": {
        "id": "NzXTTVxeTOIU"
      },
      "source": [
        "**Vorhersagbarer Prozess**"
      ]
    },
    {
      "cell_type": "markdown",
      "metadata": {
        "id": "RLO880D6TPsQ"
      },
      "source": [
        "https://de.m.wikipedia.org/wiki/Vorhersagbarer_Prozess"
      ]
    },
    {
      "cell_type": "markdown",
      "metadata": {
        "id": "mwavcTOWSgVC"
      },
      "source": [
        "##### **σ-Algebra der τ-Vergangenheit**"
      ]
    },
    {
      "cell_type": "markdown",
      "metadata": {
        "id": "yhsdp5wBSiAq"
      },
      "source": [
        "* Die σ-Algebra der τ-Vergangenheit ist ein **Mengensystem**, sowie ein von der Stoppzeit abgeleitetes Konzept\n",
        "\n",
        "* Die σ-Algebra der τ-Vergangenheit ist eine **spezielle σ-Algebra**, welche über die Filtrierung und die Stoppzeit definiert wird. Sie findet beispielsweise Anwendung bei der Definition der starken Markow-Eigenschaft und dem Optional Sampling Theorem.\n",
        "\n",
        "* Sie entsteht durch Kombination einer Filtrierung mit einer Stoppzeit und findet meist Anwendung bei Aussagen über gestoppte Prozesse, also stochastische Prozesse, die an einem zufälligen Zeitpunkt angehalten werden. Zu diesen Aussagen gehören beispielsweise das Optional Stopping Theorem, das Optional Sampling Theorem und die Definition der starken Markow-Eigenschaft.\n",
        "\n",
        "* Gegeben sei ein Wahrscheinlichkeitsraum $(\\Omega, \\mathcal{A}, P)$ sowie eine Filtrierung $\\mathbb{F}=\\left(\\mathcal{F}_{t}\\right)_{t \\in T}$ bezüglich der Ober- $\\sigma$ -Algebra $\\mathcal{A}$ und eine Stoppzeit $\\tau$ bezüglich $\\mathbb{F}$. Dann heißt\n",
        "\n",
        "$\\mathcal{F}_{\\tau}=\\left\\{A \\in \\mathcal{A} \\mid A \\cap\\{\\tau \\leq t\\} \\in \\mathcal{F}_{t} \\text { für alle } t \\in T\\right\\}$\n",
        "\n",
        "die $\\sigma$ -Algebra der $\\tau$ -Vergangenheit."
      ]
    },
    {
      "cell_type": "markdown",
      "metadata": {
        "id": "XrJVzH6bSlVG"
      },
      "source": [
        "https://de.m.wikipedia.org/wiki/Σ-Algebra_der_τ-Vergangenheit"
      ]
    },
    {
      "cell_type": "markdown",
      "metadata": {
        "id": "WyUKo3xGerMv"
      },
      "source": [
        "## **Order**"
      ]
    },
    {
      "cell_type": "markdown",
      "metadata": {
        "id": "Rh7gHNwQks0n"
      },
      "source": [
        "##### **Ordnungsstrukturen (Relation und Ordnungsrelation)**"
      ]
    },
    {
      "cell_type": "markdown",
      "metadata": {
        "id": "zjER7DXlkvqX"
      },
      "source": [
        "Eng verwandt mit dem Begriff der relationalen Struktur ist der des [Graphen](https://de.m.wikipedia.org/wiki/Graph_(Graphentheorie)) im graphentheoretischen Sinn. Die Trägermenge wird dort als Knotenmenge bezeichnet, die Stelle der Relation nimmt die Kantenmenge ein. Graphen sind, wenn nicht anders gesagt, finit.\n",
        "\n",
        "In der Mathematik sind Ordnungsrelationen Verallgemeinerungen der „kleiner-gleich“-Beziehung. Sie erlauben es, Elemente einer Menge miteinander zu vergleichen."
      ]
    },
    {
      "cell_type": "markdown",
      "metadata": {
        "id": "SdL_BQ5us8eL"
      },
      "source": [
        "https://de.m.wikipedia.org/wiki/Mathematische_Struktur"
      ]
    },
    {
      "cell_type": "markdown",
      "metadata": {
        "id": "W-LdGQP7OTVg"
      },
      "source": [
        "https://en.m.wikipedia.org/wiki/Order_theory"
      ]
    },
    {
      "cell_type": "markdown",
      "metadata": {
        "id": "dhbPcgNTOQ7f"
      },
      "source": [
        "https://mathepedia.de/Ordnungstheorie.html"
      ]
    },
    {
      "cell_type": "markdown",
      "metadata": {
        "id": "OmdUiXQe_BIj"
      },
      "source": [
        "**Ordnungsrelationen: Overview**"
      ]
    },
    {
      "cell_type": "markdown",
      "metadata": {
        "id": "fcwSBGRmVO-v"
      },
      "source": [
        "* Eigenschaft jeweils zweier Elemente einer Menge\n",
        "\n",
        "* Ordnungsrelationen sind Verallgemeinerungen der „kleiner-gleich“-Beziehung. Sie erlauben es, Elemente einer Menge miteinander zu vergleichen.\n",
        "\n",
        "* Eine Ordnungsrelation ist formal eine [zweistellige Relation](https://de.m.wikipedia.org/wiki/Relation_(Mathematik)#Zweistellige_Relation) $R \\subseteq M \\times M$ auf einer Menge $M$ mit bestimmten unten aufgeführten Eigenschaften, worunter immer die Transitivität ist.\n",
        "\n",
        "* *Exkurs: Eine zweistellige Relation $R$ (auch binäre Relation genannt) zwischen zwei Mengen $A$ und $B$ ist eine Teilmenge des kartesischen Produkts $A \\times B=\\{(a, b) \\mid a \\in A, b \\in B\\}:$ $R \\subseteq A \\times B$. Die Menge $A$ wird als Quellmenge (englisch: set of departure) der Relation $R$ bezeichnet, die Menge $B$ als Zielmenge (englisch: set of destination).*"
      ]
    },
    {
      "cell_type": "markdown",
      "metadata": {
        "id": "KHUP6XJrWzDF"
      },
      "source": [
        "**(Schwache) Totalordnung (lineare Ordnung)**\n",
        "\n",
        "Eine Relation $\\leq$ auf einer Menge $M$ wird (schwache) Totalordnung oder totale Ordnung oder einfach (schwache) Ordnung genannt, wenn die Forderungen\n",
        "\n",
        "* $x \\leq x$ \t(**Reflexivität**)\n",
        "\n",
        "* $x \\leq y \\wedge y \\leq x \\Rightarrow x=y$\n",
        "(**Antisymmetrie** - In der Äquivalenzrelation ist das hier die **Symmetrie**)\n",
        "\n",
        "* $x \\leq y \\wedge y \\leq z \\Rightarrow x \\leq z$ (**Transitivität**)\n",
        "\n",
        "* $x \\leq y \\vee y \\leq x$ (**Totalität**)\n",
        "\n",
        "für alle $x, y, z \\in M$ erfült sind. \n",
        "\n",
        "Da dies bei der Zahlengeraden, der , Linie\", der Fall ist, wird eine Totalordnung auch lineare Ordnung genannt. Ferner gibt es für totalgeordnete Untermengen von partiell geordneten Mengen die Bezeichnung Kette."
      ]
    },
    {
      "cell_type": "markdown",
      "metadata": {
        "id": "3N5AXsDypR-Z"
      },
      "source": [
        "a ≤ a (reflexivity)\n",
        "\n",
        "if a ≤ b and b ≤ a then a = b (antisymmetry)\n",
        "\n",
        "if a ≤ b and b ≤ c then a ≤ c (transitivity)."
      ]
    },
    {
      "cell_type": "markdown",
      "metadata": {
        "id": "CLpjn67jpVMX"
      },
      "source": [
        "https://en.m.wikipedia.org/wiki/Order_theory"
      ]
    },
    {
      "cell_type": "markdown",
      "metadata": {
        "id": "Gx2gPD8DXwrf"
      },
      "source": [
        "Beispiel und Gegenbeispiel:\n",
        "\n",
        "* Ein Beispiel ist die Relation $\\leq($, kleinergleich\") auf den ganzen Zahlen $\\mathbb{Z}$.\n",
        "\n",
        "* Ein Gegenbeispiel ist die Teilmengenbeziehung $\\subseteq$ auf der Potenzmenge von $\\mathbb{Z}:$ sie ist nicht total, denn es gilt weder \\{1,2\\}$\\subseteq\\{2,3\\}$ noch \\{2,3\\}$\\subseteq\\{1,2\\}$."
      ]
    },
    {
      "cell_type": "markdown",
      "metadata": {
        "id": "iUQFcFxdYpSL"
      },
      "source": [
        "**(Strenge) Totalordnung**\n",
        "\n",
        "Eine Relation $<$ auf $M$ heißt strenge (oder auch starke) Totalordnung, wenn\n",
        "\n",
        "* $x<y \\wedge y<z \\Rightarrow x<z$ (**Transitivität**)\n",
        "\n",
        "* entweder $x<y$ oder $x=y$ oder $y<x$\n",
        "(**Trichotomie**)\n",
        "\n",
        "für alle $x, y, z \\in M$ gilt.\n",
        "\n",
        "(In der Mathematik ist die Einteilung der reellen Zahlen in positive und negative Zahlen und die Null eine Trichotomie im strengen Sinne. Eine Verallgemeinerung davon ist die Trichotomie der Ordnung: Für reelle Zahlen a und b gilt genau eine der Beziehungen:\n",
        "\n",
        "a < b\n",
        "\n",
        "a = b\n",
        "\n",
        "a > b\n",
        "\n",
        "Diese Eigenschaft gilt in jeder total geordneten Menge.)"
      ]
    },
    {
      "cell_type": "markdown",
      "metadata": {
        "id": "Yoh8FDTcVMWY"
      },
      "source": [
        "https://de.m.wikipedia.org/wiki/Ordnungsrelation"
      ]
    },
    {
      "cell_type": "markdown",
      "metadata": {
        "id": "BRoSqoTrlB3H"
      },
      "source": [
        "##### **Properties von Ordnungsrelationen**"
      ]
    },
    {
      "cell_type": "markdown",
      "metadata": {
        "id": "E_8Aplyixw01"
      },
      "source": [
        "In der Mathematik sind Ordnungsrelationen Verallgemeinerungen der „kleiner-gleich“-Beziehung. Sie erlauben es, Elemente einer Menge miteinander zu vergleichen. Eine Ordnungsrelation ist formal eine zweistellige Relation\n",
        "$R\\subseteq M\\times M$\n",
        "auf einer Menge M.\n",
        "\n",
        "A binary relation R on a set X is a subset of the product X×X. Very often instead of writing, say, (x, y)∈R we write xRy.\n",
        "A binary relation may have many properties; the ones of interest for the definition of order are listed below (I'll omit the expression \"for all x\" or \"for all y\". The properties listed are assumed to hold for all elements from X):"
      ]
    },
    {
      "cell_type": "markdown",
      "metadata": {
        "id": "bzsc7JOwlEMJ"
      },
      "source": [
        "1. **Reflexivity**: xRx, z.B. $x \\leq x$\n",
        "\n",
        "2. **Symmetry**: if xRy then yRx\n",
        "\n",
        "3. **Antisymmetry**: if xRy and yRx then x = y, zB $x \\leq y \\wedge y \\leq x \\Rightarrow x=y$\n",
        "\n",
        "4. **Asymmetry**: if xRy then not yRx\n",
        "\n",
        "5. **Transitivity**: if xRy and yRz then xRz, zB $x \\leq y \\wedge y \\leq z \\Rightarrow x \\leq z$\n",
        "\n",
        "6. **Totality (Comparability, Trichotomy)**: either xRy or yRx, zB $x \\leq y \\vee y \\leq x$\n",
        "\n",
        "7. **Density**: xRy implies existence of z such that xRz and zRy"
      ]
    },
    {
      "cell_type": "markdown",
      "metadata": {
        "id": "tvBtuc6v3TgY"
      },
      "source": [
        "Eigenschaften der Typen an Ordnungsrelationen:\n",
        "\n",
        "* **Equivalence**: Reflexivität, Transitivität, Symmetrie\n",
        "* **Quasiordnung**: Reflexivität, Transitivität\n",
        "* *Totale Quasiordnung*: Reflexivität, Transitivität, Totalität\n",
        "* **Halbordnung**: Reflexivität, Transivity, Antisymmetrie\n",
        "* **Totalordnung**: Reflexivität, Transitivität, Antisymmetrie, Totalität\n",
        "* *Strenge Totalordnung*: Transitivität, Antisymmetrie, Totalität (keine Totalordnung, da Reflexivität fehlt)"
      ]
    },
    {
      "cell_type": "markdown",
      "metadata": {
        "id": "xpjlksU0w_20"
      },
      "source": [
        "https://www.cut-the-knot.org/WhatIs/Infinity/Order.shtml"
      ]
    },
    {
      "cell_type": "markdown",
      "metadata": {
        "id": "rSvXDKVRlJVL"
      },
      "source": [
        "https://de.m.wikipedia.org/wiki/Ordnungsrelation#"
      ]
    },
    {
      "cell_type": "markdown",
      "metadata": {
        "id": "xFcBkFrZOVJt"
      },
      "source": [
        "https://de.m.wikipedia.org/wiki/Relation_(Mathematik)"
      ]
    },
    {
      "cell_type": "markdown",
      "metadata": {
        "id": "byScNHDJOiWR"
      },
      "source": [
        "https://youtu.be/u9eZh-i6hgU"
      ]
    },
    {
      "cell_type": "markdown",
      "metadata": {
        "id": "r1j37YBsueUq"
      },
      "source": [
        "Hasse Diagramme: https://en.m.wikipedia.org/wiki/Hasse_diagram"
      ]
    },
    {
      "cell_type": "markdown",
      "metadata": {
        "id": "M11uiWZt6sKJ"
      },
      "source": [
        "##### **Typen von Ordnungsrelationen**"
      ]
    },
    {
      "cell_type": "markdown",
      "metadata": {
        "id": "W3lxKIbGww7T"
      },
      "source": [
        "**Equivalence Relation**"
      ]
    },
    {
      "cell_type": "markdown",
      "metadata": {
        "id": "SjyZL1lg0U-8"
      },
      "source": [
        "* In der Mathematik werden Objekte, die sich in einem bestimmten Zusammenhang gleichen, als gleichwertig bzw. äquivalent angesehen.\n",
        "\n",
        "* Ein solcher Zusammenhang lässt sich für alle Elemente einer nichtleeren Menge $A$ stets durch eine Funktion $f: A \\rightarrow B$ herstellen, indem man genau dann zwei Elemente $a, b \\in A$ als zueinander äquivalent\" bezeichnet und diese Beziehung durch $a \\sim b$ symbolisiert, wenn deren Bilder gleich sind:\n",
        "\n",
        "$\n",
        "a \\sim b: \\Longleftrightarrow f(a)=f(b)\n",
        "$\n",
        "\n",
        "Diese Beziehung bzw. Relation hat die folgenden drei Eigenschaften:\n",
        "1. **Reflexivity**: xRx - Jedes Objekt $a$ ist zu sich selbst äquivalent: $a \\sim a$\n",
        "2. **Symmetry**: if xRy then yRx - Wenn $a$ äquivalent zu $b$ ist, dann ist auch $b$ äquivalent zu $a: a \\sim b \\Rightarrow b \\sim a$\n",
        "3. **Transitivity**: if xRy and yRz then xRz - Wenn a äquivalent zu $b$ und $b$ äquivalent zu $c$ ist, dann ist auch $a$ äquivalent zu $c: a \\sim b$ und\n",
        "$b \\sim c \\Rightarrow a \\sim c$\n",
        "\n",
        "X together with the relation ~ is called a setoid. The equivalence class of a under ~, denoted [a], is defined as [a] = \n",
        "{\n",
        "x\n",
        "∈\n",
        "X\n",
        "∣\n",
        "x\n",
        "∼\n",
        "a\n",
        "}\n",
        "\n",
        "* a setoid (X, ~) is a set (or type) X equipped with an equivalence relation ~.\n",
        "* A Setoid may also be called E-set, Bishop set, or extensional set.\n",
        "* Setoids are studied especially in proof theory and in type-theoretic foundations of mathematics."
      ]
    },
    {
      "cell_type": "markdown",
      "metadata": {
        "id": "00WB6D3s0KFm"
      },
      "source": [
        "https://en.m.wikipedia.org/wiki/Setoid"
      ]
    },
    {
      "cell_type": "markdown",
      "metadata": {
        "id": "RpNi53IM1GnX"
      },
      "source": [
        "*Relations that are equivalences*"
      ]
    },
    {
      "cell_type": "markdown",
      "metadata": {
        "id": "JsFV681M1MkP"
      },
      "source": [
        "* \"Is equal to\" on the set of numbers. For example, $\\tfrac {1}{2}$ is equal to $\\tfrac {4}{8}$\n",
        "* \"Has the same birthday as\" on the set of all people.\n",
        "* \"Is similar to\" on the set of all triangles.\n",
        "* \"Is congruent to\" on the set of all triangles."
      ]
    },
    {
      "cell_type": "markdown",
      "metadata": {
        "id": "oqjP_L-K1Aq0"
      },
      "source": [
        "*Relations that are not equivalences*"
      ]
    },
    {
      "cell_type": "markdown",
      "metadata": {
        "id": "pxGjKwRw0-Wo"
      },
      "source": [
        "* The relation \"≥\" between real numbers is reflexive and transitive, but not symmetric. For example, 7 ≥ 5 does not imply that 5 ≥ 7. It is, however, a total order.\n",
        "\n",
        "* The empty relation R (defined so that aRb is never true) on a non-empty set X is vacuously symmetric and transitive, but not reflexive. (If X is also empty then R is reflexive.)\n"
      ]
    },
    {
      "cell_type": "markdown",
      "metadata": {
        "id": "Tx4wWAw6z3hX"
      },
      "source": [
        "https://en.m.wikipedia.org/wiki/Equivalence_relation"
      ]
    },
    {
      "cell_type": "markdown",
      "metadata": {
        "id": "wU4pMuz4w1di"
      },
      "source": [
        "https://www.cut-the-knot.org/blue/equi.shtml"
      ]
    },
    {
      "cell_type": "markdown",
      "metadata": {
        "id": "610yy8I71fy9"
      },
      "source": [
        "**Quasiordnung (Preorder)**"
      ]
    },
    {
      "cell_type": "markdown",
      "metadata": {
        "id": "tp5ctAZe1kgr"
      },
      "source": [
        "* abgeschwächte Variante einer Halbordnung\n",
        "\n",
        "* Eine Quasiordnung ist eine transitive und reflexive Relation.\n",
        "\n",
        "* die Antisymmetrie muss nicht erfüllt sein (es möglich ist, dass verschiedene Elemente in beiden Richtungen vergleichbar sind. )\n",
        "\n",
        "* die totalen Quasiordnungen treten in praktischen Anwendungen beim Anordnen von Objekten in Sortierverfahren, Tabellenkalkulationsprogrammen oder Datenbanken auf."
      ]
    },
    {
      "cell_type": "markdown",
      "metadata": {
        "id": "1P4JgcD71mky"
      },
      "source": [
        "https://de.m.wikipedia.org/wiki/Quasiordnung"
      ]
    },
    {
      "cell_type": "markdown",
      "metadata": {
        "id": "dg0auX5Z4992"
      },
      "source": [
        "*Totale Quasiordnung (Präferenzordnung, total preorder)*"
      ]
    },
    {
      "cell_type": "markdown",
      "metadata": {
        "id": "kPNWEQCR5Ibi"
      },
      "source": [
        "* Eine Quasiordnung heißt total, auch Präferenzordnung, (englisch total preorder), wenn je zwei Elemente immer vergleichbar sind. Für alle \n",
        "a\n",
        ",\n",
        "b\n",
        "∈\n",
        "M\n",
        "muss also gelten:\n",
        "\n",
        "> $a \\lesssim b \\vee b \\lesssim a$ (Totalität)"
      ]
    },
    {
      "cell_type": "markdown",
      "metadata": {
        "id": "xoPxEQWw5GBx"
      },
      "source": [
        "https://de.m.wikipedia.org/wiki/Präferenzrelation"
      ]
    },
    {
      "cell_type": "markdown",
      "metadata": {
        "id": "joclIzhwkkyN"
      },
      "source": [
        "**Halbordnung (Partially Ordered Set / Poset)**"
      ]
    },
    {
      "cell_type": "markdown",
      "metadata": {
        "id": "IPA1er3TJMGv"
      },
      "source": [
        "* a partially ordered set (also poset) formalizes and generalizes the intuitive concept of an ordering, sequencing, or arrangement of the elements of a set. \n",
        "\n",
        "* A poset consists of a set together with a binary relation indicating that, for certain pairs of elements in the set, **one of the elements precedes the other in the ordering.**\n",
        "\n",
        "* The relation itself is called a \"partial order.\" \n",
        "\n",
        "* The word partial in the names \"partial order\" and \"partially ordered set\" is used as an indication that not every pair of elements needs to be comparable. That is, there may be pairs of elements for which neither element precedes the other in the poset.\n",
        "\n",
        "* **Partial orders thus generalize total orders, in which every pair is comparable.**"
      ]
    },
    {
      "cell_type": "markdown",
      "metadata": {
        "id": "M0mMnC7_kqw_"
      },
      "source": [
        "Eine Menge $M$ heißt teilweise geordnet, oder halbgeordnet wenn sie mit einer Relation $\\leq$ versehen ist, die den folgenden Eigenschaften genügt:\n",
        "\n",
        "1. $x \\leq x$ für alle $x \\in M$ (**Reflexivität**)\n",
        "\n",
        "2. Für alle $x, y \\in M$ gilt: Aus $x \\leq y$ und $y \\leq x$ folgt $x=y$ (**Antisymmetrie**)\n",
        "\n",
        "3. Für alle $x, y, z \\in M$ gilt: Aus $x \\leq y$ und $y \\leq z$ folgt $x \\leq z$ (**Transitivität**)\n",
        "\n",
        "Im Englischen heißen teilweise geordnete Mengen auch Posets von Partially ordered set. Die Bezeichnung\n",
        "\"teilweise\" wird stellenweise auch weggelassen.\n",
        "\n",
        "* Gilt für zwei Elemente $x$ und $y$ weder $x \\leq y$ noch $y \\leq x,$ so heißen die Elemente unvergleichbar.\n",
        "\n",
        "* Im allgemeinen, in einer teilweisen Ordnung **müssen zwei Elemente <u>nicht</u> vergleichbar sein**. sind je zwei Elemente vergleichbar, so heißt die Ordnung linear. $\\leq$ ist linear: $\\Longleftrightarrow \\forall x, y: x R y \\vee y R x$\n",
        "\n",
        "* Ist die Ordnung linear, so spricht man auch von einer totalen Ordnung oder einer kettengeordneten Menge (=Elemente auf einer Linie).\n",
        "\n",
        "* Eine total geordnete Teilmenge von $M$ heißt auch Kette. Aus der Linearität folgt die Reflexivität."
      ]
    },
    {
      "cell_type": "markdown",
      "metadata": {
        "id": "cB9WrIdTTmgq"
      },
      "source": [
        "Examples"
      ]
    },
    {
      "cell_type": "markdown",
      "metadata": {
        "id": "WjDT-2BOTn4l"
      },
      "source": [
        "* The real numbers ordered by the standard less-than-or-equal relation ≤ (a totally ordered set as well).\n",
        "\n",
        "* The set of subsets of a given set (its power set) ordered by inclusion (see the figure on top-right). Similarly, the set of sequences ordered by subsequence, and the set of strings ordered by substring.\n",
        "\n",
        "* The set of natural numbers equipped with the relation of divisibility.\n",
        "\n",
        "* The vertex set of a directed acyclic graph ordered by reachability.\n",
        "\n",
        "* The set of subspaces of a vector space ordered by inclusion."
      ]
    },
    {
      "cell_type": "markdown",
      "metadata": {
        "id": "YXFyjQgkMOXJ"
      },
      "source": [
        "https://en.m.wikipedia.org/wiki/Ideal_(order_theory)"
      ]
    },
    {
      "cell_type": "markdown",
      "metadata": {
        "id": "D4pwOEVPMRb2"
      },
      "source": [
        "https://en.m.wikipedia.org/wiki/Filter_(mathematics)"
      ]
    },
    {
      "cell_type": "markdown",
      "metadata": {
        "id": "TU5ytZNfMXJt"
      },
      "source": [
        "https://en.m.wikipedia.org/wiki/Upper_set"
      ]
    },
    {
      "cell_type": "markdown",
      "metadata": {
        "id": "mrzOZyooTurc"
      },
      "source": [
        "https://en.m.wikipedia.org/wiki/Partially_ordered_set"
      ]
    },
    {
      "cell_type": "markdown",
      "metadata": {
        "id": "8Z8HzMmrkzdL"
      },
      "source": [
        "https://mathepedia.de/Teilweise_geordnete_Mengen.html"
      ]
    },
    {
      "cell_type": "markdown",
      "metadata": {
        "id": "UONLerqHJn6L"
      },
      "source": [
        "**Totalordnung (Totally Ordered Set, Lineare Ordnung)**"
      ]
    },
    {
      "cell_type": "markdown",
      "metadata": {
        "id": "e9cuLQMsJuk2"
      },
      "source": [
        "A total order (or \"totally ordered set,\" or \"linearly ordered set\") is a set plus a relation on the set (called a total order) that satisfies the conditions for a partial order plus an additional condition known as the comparability condition. A relation <= is a total order on a set S (\"<= totally orders  S\") if the following properties hold.\n",
        "\n"
      ]
    },
    {
      "cell_type": "markdown",
      "metadata": {
        "id": "G4cfj8BQJ6GB"
      },
      "source": [
        "1. Reflexivity: a<=a for all a in S.\n",
        "\n",
        "2. Antisymmetry: a<=b and b<=a implies  a=b.\n",
        "\n",
        "3. Transitivity: a<=b and b<=c implies  a<=c.\n",
        "\n",
        "4. **Comparability (trichotomy law, Totality): For any a,b in S, either a<=b or b<=a** (either xRy or yRx)\n",
        "\n",
        "The first three are the axioms of a partial order, while addition of the trichotomy law defines a total order.\n",
        "\n",
        "Every finite totally ordered set is well ordered. Any two totally ordered sets with k elements (for k a nonnegative integer) are order isomorphic, and therefore have the same order type (which is also an ordinal number)."
      ]
    },
    {
      "cell_type": "markdown",
      "metadata": {
        "id": "SRNsIl11NaSm"
      },
      "source": [
        "The term chain is a synonym for a totally ordered set, in particular, the term is often used to mean a totally ordered subset of some partially ordered set, for example in Zorn's lemma"
      ]
    },
    {
      "cell_type": "markdown",
      "metadata": {
        "id": "B9N_eiFRL8eJ"
      },
      "source": [
        "Examples"
      ]
    },
    {
      "cell_type": "markdown",
      "metadata": {
        "id": "wLXKt5VUL-Nj"
      },
      "source": [
        "* The letters of the alphabet ordered by the standard dictionary order, e.g., A < B < C etc.\n",
        "\n",
        "* Any subset of a totally ordered set X is totally ordered for the restriction of the order on X.\n",
        "\n",
        "* The unique order on the empty set, ∅, is a total order.\n",
        "\n",
        "* Any set of cardinal numbers or ordinal numbers (more strongly, these are well-orders)."
      ]
    },
    {
      "cell_type": "markdown",
      "metadata": {
        "id": "zxpLRCeFJ2hA"
      },
      "source": [
        "https://en.m.wikipedia.org/wiki/Total_order"
      ]
    },
    {
      "cell_type": "markdown",
      "metadata": {
        "id": "zQvleYHXJrYR"
      },
      "source": [
        "https://mathworld.wolfram.com/TotallyOrderedSet.html"
      ]
    },
    {
      "cell_type": "markdown",
      "metadata": {
        "id": "BbDMT6HRMJjW"
      },
      "source": [
        "https://en.m.wikipedia.org/wiki/Trichotomy_(mathematics)"
      ]
    },
    {
      "cell_type": "markdown",
      "metadata": {
        "id": "UjZ8oR8aKFLE"
      },
      "source": [
        "**Well Ordered Set**"
      ]
    },
    {
      "cell_type": "markdown",
      "metadata": {
        "id": "xWeiNFO_K4fr"
      },
      "source": [
        "* A totally ordered set (A,<=) is said to be well ordered (or have a well-founded order) iff every nonempty subset of **A has a least element** (Ciesielski 1997, p. 38; Moore 1982, p. 2; Rubin 1967, p. 159; Suppes 1972, p. 75). \n",
        "\n",
        "* Every finite totally ordered set is well ordered. The set of integers Z, which has no least element, is an example of a set that is not well ordered.\n",
        "\n",
        "* An ordinal number is the order type of a well ordered set."
      ]
    },
    {
      "cell_type": "markdown",
      "metadata": {
        "id": "dlpsxAcGzxaR"
      },
      "source": [
        "https://en.m.wikipedia.org/wiki/Well-order"
      ]
    },
    {
      "cell_type": "markdown",
      "metadata": {
        "id": "0HyKBp6BKtHN"
      },
      "source": [
        "https://mathworld.wolfram.com/WellOrderedSet.html"
      ]
    },
    {
      "cell_type": "markdown",
      "metadata": {
        "id": "wUvO9RwJybJa"
      },
      "source": [
        "https://www.cut-the-knot.org/WhatIs/Infinity/Order.shtml"
      ]
    },
    {
      "cell_type": "markdown",
      "metadata": {
        "id": "4x7aQkzzlQyy"
      },
      "source": [
        "**Ordnungstopologie**"
      ]
    },
    {
      "cell_type": "markdown",
      "metadata": {
        "id": "KraoQ8RBlTL4"
      },
      "source": [
        "* an order topology is a certain topology that **can be defined on any totally ordered set**. It is a natural generalization of the topology of the real numbers to arbitrary totally ordered sets.\n",
        "\n",
        "* Auf einer total geordneten Menge kann man in natürlicher Weise eine Topologie einführen, die mit der Ordnung verträglich ist. Diese Topologie wird Ordnungstopologie genannt. Einige Begriffe aus Topologie und Metrik wie diskret, dicht und vollständig lassen sich so auf Ordnungen übertragen."
      ]
    },
    {
      "cell_type": "markdown",
      "metadata": {
        "id": "RnsXkjSXlVDf"
      },
      "source": [
        "https://de.m.wikipedia.org/wiki/Ordnungstopologie"
      ]
    },
    {
      "cell_type": "markdown",
      "metadata": {
        "id": "N234_tIJ7CBJ"
      },
      "source": [
        "##### **Components of Posets**"
      ]
    },
    {
      "cell_type": "markdown",
      "metadata": {
        "id": "YrI9d8CV2YfV"
      },
      "source": [
        "**Praktische Prüffaktoren**"
      ]
    },
    {
      "cell_type": "markdown",
      "metadata": {
        "id": "Ni_GiBVj9_nW"
      },
      "source": [
        "* Sind Elemente vergleichbar? (falls nicht, kann es möglicherweise keine greatest or least elements geben). Achtung: es kann dann aber trotzdem ein oder mehrere maximale (bzw. minimale) Elemente geben, weil bei diesen nicht verlangt wird vergleichbar mit dem ganzen Rest aller Elemente zu sein (zB 'Verästelungen' im Hesse-Diagramm)\n",
        "\n",
        "* Sind Elemente infinite? (falls ja, dann gibt es kein maximales oder minimales element)\n",
        "\n",
        "* In welchem Zahlenbereich befinden sich Grundmenge, Subset und die definierten Grenzen? - Sind Grundmenge und Subset-Menge zB nur $\\in \\mathbb {Q}$, aber alle Elemente des Subset sind definiert als kleiner oder gleich $\\sqrt{2}$, was eine irrationale Zahl ist, dann gibt es kein Supremum und kein greatest Element.\n",
        "\n",
        "* Infimum und Supremum können auch ausserhalb der definierten Menge liegen (aber müssen nicht) - zB positive real numbers ℝ but without the zero. Then there is no minimal element, but an infimum (the zero), as the infimum can lay outside the subset, but not the mimimal or least element"
      ]
    },
    {
      "cell_type": "markdown",
      "metadata": {
        "id": "Jbq9LXccWAwS"
      },
      "source": [
        "**Maximal and minimal elements**"
      ]
    },
    {
      "cell_type": "markdown",
      "metadata": {
        "id": "7L8MPiXy_g9f"
      },
      "source": [
        "* a maximal element of a subset S of some partially ordered set (poset) is an element of S that is not smaller than any other element in S (An element g in a poset P is a maximal element if there is no element a in P such that a > g.)\n",
        "\n",
        "* A minimal element of a subset S of some partially ordered set is defined dually as an element of S that is not greater than any other element in S.\n",
        "\n",
        "* **The notions of maximal and minimal elements are weaker than those of greatest element and least element** which are also known, respectively, as maximum and minimum.\n",
        "\n",
        "* maxima and minima must be members of the subset that is under consideration\n",
        "\n",
        "* A set can have several maximal (minimal) elements (but only one greatest / least element)\n",
        "\n",
        "* The greatest element has to be comparable to all of the rest of the elements, but a maximal does not.\n",
        "\n",
        "* In a <u>**totally ordered set**</u> the **maximal element and the greatest element coincide**; and it is also called maximum"
      ]
    },
    {
      "cell_type": "markdown",
      "metadata": {
        "id": "Hg4LQguZWC5_"
      },
      "source": [
        "https://en.m.wikipedia.org/wiki/Maximal_and_minimal_elements"
      ]
    },
    {
      "cell_type": "markdown",
      "metadata": {
        "id": "sMtydC_vETAL"
      },
      "source": [
        "**Greatest element and least element**"
      ]
    },
    {
      "cell_type": "markdown",
      "metadata": {
        "id": "ExXM_fvaEV2b"
      },
      "source": [
        "* An element g in a poset P is a greatest element if for every element a in P, a ≤ g. \n",
        "\n",
        "* An element m in P is a least element if for every element a in P, a ≥ m. \n",
        "\n",
        "* A poset can only have one greatest or least element.\n",
        "\n",
        "* The greatest element has to be comparable to all of the rest of the elements, but a maximal does not.\n",
        "\n",
        "* **As defined in set theory, the maximum and minimum of a set are the greatest and least elements in the set, respectively.**\n",
        "\n",
        "* **The greatest element of a partially ordered subset must not be confused with maximal elements** of the set, which are elements that are not smaller than any other element in the set. \n",
        "\n",
        "* maxima and minima must be members of the subset that is under consideration\n",
        "\n",
        "* **A set can have several maximal elements without having a greatest element**. Like upper bounds and maximal elements, greatest elements may fail to exist."
      ]
    },
    {
      "cell_type": "markdown",
      "metadata": {
        "id": "Bd3aTFL428hn"
      },
      "source": [
        "https://en.m.wikipedia.org/wiki/Greatest_element_and_least_element"
      ]
    },
    {
      "cell_type": "markdown",
      "metadata": {
        "id": "wngEyYz4uOic"
      },
      "source": [
        "**Infimum and Supremum**"
      ]
    },
    {
      "cell_type": "markdown",
      "metadata": {
        "id": "_hjSJfUO0jK2"
      },
      "source": [
        "* The **infimum** (plural infima) of a subset S of a partially ordered set T, denoted $ \\operatorname {inf} S$ is **the greatest element in T** that is less than or equal to all elements of S, if such an element exists. Consequently, the term greatest lower bound (abbreviated as GLB) is also commonly used.\n",
        "\n",
        "* The **supremum** (plural suprema) of a subset S of a partially ordered set T , denoted $ \\operatorname {sup} S$ is the least element in T that is greater than or equal to all elements of S, if such an element exists.Consequently, the supremum is also referred to as the least upper bound (or LUB). \n",
        "\n",
        "* **The concepts of infimum and supremum are similar to minimum and maximum, but are more useful in analysis** because they better characterize special sets which may have no minimum or maximum. For instance, the positive real numbers ℝ+ (not including 0) does not have a minimum, because any given element of ℝ+ could simply be divided in half, resulting in a smaller number that is still in ℝ+. There is, however, exactly one infimum of the positive real numbers: 0, which is smaller than all the positive real numbers, and greater than any other real number **which could be used as a lower bound**.\n",
        "\n",
        "\n",
        "Definition supremum:\n",
        "\n",
        "1. The smallest number greater than or equal to all the numbers in the set. **When the set of numbers is finite, supremum is just the same as a maximum**\n",
        "\n",
        "2. **When the set of numbers has no upper limit, the supremum is infinity: sup({1,2,..}) = ∞**\n",
        "\n",
        "3. **When the set of numbers is empty, any number is an upper bound. So the supremum is minus infinity: sup({}) = -∞**\n",
        "\n",
        "* The infimum is in a precise sense **dual** to the concept of a supremum. Infima and suprema of real numbers are common special cases that are important in analysis, and especially in Lebesgue integration. However, the general definitions remain valid in the more abstract setting of order theory, where arbitrary partially ordered sets are considered.\n",
        "\n",
        "* **Whereas maxima and minima must be members of the subset that is under consideration, the infimum and supremum of a subset need not be members of that subset themselves.**"
      ]
    },
    {
      "cell_type": "markdown",
      "metadata": {
        "id": "zye5Mkhw2lUN"
      },
      "source": [
        "![xx](https://upload.wikimedia.org/wikipedia/commons/thumb/8/82/Illustration_of_supremum.svg/320px-Illustration_of_supremum.svg.png)"
      ]
    },
    {
      "cell_type": "markdown",
      "metadata": {
        "id": "QmGSkFXR2inj"
      },
      "source": [
        "*supremum = least upper bound*"
      ]
    },
    {
      "cell_type": "markdown",
      "metadata": {
        "id": "wvjOR4wh2TcY"
      },
      "source": [
        "![xx](https://upload.wikimedia.org/wikipedia/commons/thumb/0/0a/Infimum_illustration.svg/320px-Infimum_illustration.svg.png)"
      ]
    },
    {
      "cell_type": "markdown",
      "metadata": {
        "id": "HT65AuSk2RaM"
      },
      "source": [
        "*A set T of real numbers (hollow and filled circles), a subset S of T (filled circles), and the infimum of S.* Note that **for finite, <u>totally ordered</u> sets the infimum and the minimum are equal.**"
      ]
    },
    {
      "cell_type": "markdown",
      "metadata": {
        "id": "td9CpxWt2b4B"
      },
      "source": [
        "![xx](https://upload.wikimedia.org/wikipedia/commons/thumb/c/ce/Supremum_illustration.svg/320px-Supremum_illustration.svg.png)"
      ]
    },
    {
      "cell_type": "markdown",
      "metadata": {
        "id": "lqYyIsXP2ZAQ"
      },
      "source": [
        "*A set A of real numbers (blue circles), a set of upper bounds of A (red diamond and circles), and the smallest such upper bound, that is, the supremum of A (red diamond).*"
      ]
    },
    {
      "cell_type": "markdown",
      "metadata": {
        "id": "zeMDtRkIrk8V"
      },
      "source": [
        "Relation to maximum and minimum elements"
      ]
    },
    {
      "cell_type": "markdown",
      "metadata": {
        "id": "4UBo1dc1renu"
      },
      "source": [
        "* The infimum of a subset S of a partially ordered set P, assuming it exists, does not necessarily belong to S. If it does, it is a minimum or least element of S. \n",
        "\n",
        "* Similarly, if the supremum of S belongs to S, it is a maximum or greatest element of S.\n",
        "\n"
      ]
    },
    {
      "cell_type": "markdown",
      "metadata": {
        "id": "D0S7FQI5uQr4"
      },
      "source": [
        "https://en.m.wikipedia.org/wiki/Infimum_and_supremum"
      ]
    },
    {
      "cell_type": "markdown",
      "metadata": {
        "id": "_tENbAsGuXT3"
      },
      "source": [
        "**Upper and lower bounds (Majoranten und Minoranten)**"
      ]
    },
    {
      "cell_type": "markdown",
      "metadata": {
        "id": "7ka3QJpC5bop"
      },
      "source": [
        "Consider a linearly ordered set $(X, \\leq)$ and a subset $S \\subseteq X$. Let's recall some definitions:\n",
        "\n",
        "1. S is **bounded above** if there exists an element $k \\in X$ such that $k \\geq s$ for all $s \\in S$\n",
        "\n",
        "2. $g$ is a **greatest element** of $S$ is $g \\in S$ and $g \\geq s$ for all $s \\in S . l$ is a lowest element of $S$ is $l \\in S$ and $l \\leq s$ for all $s \\in S$.\n",
        "\n",
        "3. $a$ is an **supremum** of $S$ if it is the least element in $X$ that is greater\n",
        "than or equal to all elements of $S$."
      ]
    },
    {
      "cell_type": "markdown",
      "metadata": {
        "id": "ssCqHPRP0xWE"
      },
      "source": [
        "* **Tight bounds**: An upper bound is said to be a tight upper bound, a least upper bound, **or a supremum**, if no smaller value is an upper bound. Similarly, a lower bound is said to be a tight lower bound, a greatest lower bound, or an infimum, if no greater value is a lower bound.\n",
        "\n",
        "* Upper and lower bounds: For a subset A of a poset P, an element x in P is an upper bound of A if a ≤ x, for each element a in A. In particular, x need not be in A to be an upper bound of A. Similarly, an element x in P is a lower bound of A if a ≥ x, for each element a in A. A greatest element of P is an upper bound of P itself, and a least element is a lower bound of P."
      ]
    },
    {
      "cell_type": "markdown",
      "metadata": {
        "id": "Cnrcr_mT8mTE"
      },
      "source": [
        "**Examples**"
      ]
    },
    {
      "cell_type": "markdown",
      "metadata": {
        "id": "QbCXE7rt22fV"
      },
      "source": [
        "* Sei $T$ eine Teilmenge einer halbgeordneten Menge $P$.\n",
        "\n",
        "* **Minimal Element**: Wenn $m \\in T$ die Eigenschaft hat, dass es kein $x \\in T$ mit $x<m$ gibt, dann heißt $m$ minimales Element von $T$. \n",
        "\n",
        "* **Least Element**: Falls es ein Element $m \\in T$ gibt, das $\\leq$ allen anderen Elementen von $T$ ist, dann heißt $m$ das kleinste Element von $T$. \n",
        "\n",
        "* Ein kleinstes Element von $T$ (wenn es das gibt; z. B. hat die Menge der ganzen Zahlen kein kleinstes Element) ist immer eindeutig bestimmt (wegen der Antisymmetrie) und natürlich auch minimal. \n",
        "\n",
        "* In einer Totalordnung bedeutet $_{n}$ kleinstes Element\" und minimales Element\" dasselbe, aber in allgemeinen Halbordnungen kann eine Menge mehrere minimale Elemente haben, von denen dann keines das kleinste ist.\n",
        "\n",
        "* Es kann sogar vorkommen, dass eine (unendliche) Menge $T$ zwar ein einziges minimales Element hat, dieses aber nicht das kleinste Element der Menge ist (dann hat $T$ kein kleinstes Element). \n",
        "\n",
        "* Beispiel:\n",
        "Für $M:=\\{[0, a] \\mid 0<a<1\\} \\cup\\{\\{2\\}\\}$, versehen mit $\\subseteq$ als Halbordnung, ist \\{2\\} zwar das einzige minimale Element, aber nicht das kleinste, da \\{2\\}$\\subseteq A$ nicht für alle $A$ aus $M$ gilt.\n",
        "\n",
        "* **Lower Bound & Infimum**: Wenn $T$ eine Teilmenge von $P$ ist und $p \\in P$ die Eigenschaft hat, dass für alle $t \\in T$ die Beziehung $p \\leq t$ gilt, dann heißt $p$ eine untere Schranke von $T .(p$ kann, muss aber nicht Element von $T$ sein.) Wenn es eine größte untere Schranke der Menge $T$ gibt, dann nennt man diese auch die untere Grenze oder das Infimum von $T$. Eine untere Schranke ist also kleiner als das oder gleich dem\n",
        "Infimum.\n",
        "Analog sind die Begriffe maximales Element, größtes Element, obere Schranke und obere Grenze\n",
        "bzw. Supremum definiert.\n",
        "\n",
        "Eine Menge, die sowohl eine obere als auch eine untere Schranke hat, heißt beschränkt. (Analog sind ${ }_{n}$ nach oben beschränkt\" und ${ }_{n}$ nach unten beschränkt\" definiert.)\n",
        "\n",
        "Man nennt eine Funktion $f$, die eine beliebige Menge $X$ in eine halb- oder total geordnete Menge\n",
        "(siehe unten) $P$ abbildet, beschränkt, wenn die Menge der Funktionswerte beschränkt ist, also wenn es ein $p$ und ein $q \\in P$ gibt, sodass für alle $x \\in X$\n",
        "$p \\leq f(x) \\leq q$\n",
        "gilt."
      ]
    },
    {
      "cell_type": "markdown",
      "metadata": {
        "id": "yeM_RpVBAEGT"
      },
      "source": [
        "https://de.m.wikipedia.org/wiki/Ordnungsrelation#Minimale,_maximale_und_andere_Elemente"
      ]
    },
    {
      "cell_type": "markdown",
      "metadata": {
        "id": "QeIbB2ls_zza"
      },
      "source": [
        "*Greatest Element vs Maximal Element*"
      ]
    },
    {
      "cell_type": "markdown",
      "metadata": {
        "id": "76BMSPq5AzFG"
      },
      "source": [
        "* The greatest element has to be comparable to all of the rest of the elements, but a maximal does not.\n",
        "\n",
        "An element $m \\in X$ is maximal if there does not exist $x \\in X$ such that $x>m$. An element $g \\in X$ is greatest if for all $x \\in X, g \\geq x$.\n",
        "\n",
        "1. A set may have **no greatest elements and no maximal elements**: for example, any open interval of real numbers.\n",
        "\n",
        "2. If a set has a greatest element, that element is also maximal. Prove this carefully.\n",
        "\n",
        "3. A set with **two maximal elements and no greatest element**: $X=\\{a, b, c\\},$ where $a \\leq b, a \\leq c$ and **$b$ and $c$ are incomparable**. Check carefully according to the definition that each of $b$ and $c$ are maximal, and none of the elements of this set are greatest.\n",
        "\n",
        "4. A set can have exactly **one maximal element but no greatest element**: Modify the \"V-shaped\" example in the last point so that instead of the left arm being the two elements $\\{a, b\\},$ it is the **infinitely many points** $\\{a+q \\mid 0 \\leq q<1\\}$, i.e. a copy of the half-open unit interval of the real numbers. Then $c$ is still maximal, but no element on the left arm is maximal, and the set overall has no greatest element."
      ]
    },
    {
      "cell_type": "markdown",
      "metadata": {
        "id": "6-4rEZ6nAZsh"
      },
      "source": [
        "https://www.quora.com/Whats-the-difference-between-the-greatest-element-and-the-maximal-elements-of-a-set"
      ]
    },
    {
      "cell_type": "markdown",
      "metadata": {
        "id": "hExcs8FG85RO"
      },
      "source": [
        "*Subsets with several maximal elements, and one least element*"
      ]
    },
    {
      "cell_type": "markdown",
      "metadata": {
        "id": "Jfpr9cO_5gh2"
      },
      "source": [
        "![xx](https://upload.wikimedia.org/wikipedia/commons/thumb/2/2d/Lattice_of_the_divisibility_of_60_narrow_1%2C2%2C3%2C4.svg/198px-Lattice_of_the_divisibility_of_60_narrow_1%2C2%2C3%2C4.svg.png)"
      ]
    },
    {
      "cell_type": "markdown",
      "metadata": {
        "id": "qKvVoqCn5bY5"
      },
      "source": [
        "* Hasse diagram of the set P of divisors of 60, partially ordered by the relation \"x divides y\". \n",
        "\n",
        "* The red subset S = {1,2,3,4} has two maximal elements, viz. 3 and 4, and one minimal element, viz. 1, which is also its least element."
      ]
    },
    {
      "cell_type": "markdown",
      "metadata": {
        "id": "qSGeKJKT77Km"
      },
      "source": [
        "*Subsets with a supremum but no greatest element*"
      ]
    },
    {
      "cell_type": "markdown",
      "metadata": {
        "id": "Wo1CcM_p7_gJ"
      },
      "source": [
        "* First consider the ordered set $(\\mathbb{R}, \\leq)$ and the subset $S=\\{q \\in \\mathbb{Q} ; q \\leq \\sqrt{2}\\}$ \n",
        "\n",
        "* $S$ is bounded above by $2$\n",
        "\n",
        "* $\\sqrt{2}$ is a supremum of $S$ as we have $q \\leq \\sqrt{2}$ for all $q \\in S$ and as for $b<\\sqrt{2}$, it exists $q \\in \\mathbb{Q}$ such that $b<q<\\sqrt{2}$ because $\\mathbb{Q}$ is dense in $\\mathbb{R}$. \n",
        "\n",
        "* However $S$ doesn't have a greatest element because $\\sqrt{2}$ is an **irrational number.**"
      ]
    },
    {
      "cell_type": "markdown",
      "metadata": {
        "id": "MIDeMTVq8Oxm"
      },
      "source": [
        "*Bounded above subsets with no supremum*"
      ]
    },
    {
      "cell_type": "markdown",
      "metadata": {
        "id": "8D0qCCqc8ZA-"
      },
      "source": [
        "* Leveraging the examples above, we take $(X, \\leq)=(\\mathbb{Q}, \\leq)$ and $S=\\{q \\in \\mathbb{Q} ; q \\leq \\sqrt{2}\\}$\n",
        "\n",
        "* $S$ is bounded above, by 2 for example. \n",
        "\n",
        "* However $S$ doesn't have a supremum because $\\sqrt{2} \\notin \\mathbb{Q}$ "
      ]
    },
    {
      "cell_type": "markdown",
      "metadata": {
        "id": "9w_XI_2_9ngn"
      },
      "source": [
        "*Subsets with an infimum but no minimum*"
      ]
    },
    {
      "cell_type": "markdown",
      "metadata": {
        "id": "5DEhAvG_9lDv"
      },
      "source": [
        "* For instance, the positive real numbers ℝ+ (**not including 0**) does not have a minimum, because any given element of ℝ+ could simply be divided in half, resulting in a smaller number that is still in ℝ+. \n",
        "\n",
        "* There is, however, exactly one infimum of the positive real numbers: 0, which is smaller than all the positive real numbers, and greater than any other real number which could be used as a lower bound."
      ]
    },
    {
      "cell_type": "markdown",
      "metadata": {
        "id": "NIfq1ZUM9SAO"
      },
      "source": [
        "*Subsets with both supremum and infimum*"
      ]
    },
    {
      "cell_type": "markdown",
      "metadata": {
        "id": "nBqpco4T4PNj"
      },
      "source": [
        "* a lattice is a partially ordered set in which all nonempty finite subsets have both a supremum and an infimum, and a complete lattice is a partially ordered set in which all subsets have both a supremum and an infimum. \n",
        "\n",
        "* More information on the various classes of partially ordered sets that arise from such considerations are found in the article on completeness properties."
      ]
    },
    {
      "cell_type": "markdown",
      "metadata": {
        "id": "4RPa3qNz8gZd"
      },
      "source": [
        "**Sources**"
      ]
    },
    {
      "cell_type": "markdown",
      "metadata": {
        "id": "DQclA1TC8jK6"
      },
      "source": [
        "https://www.mathcounterexamples.net/around-bounded-sets-greatest-element-and-supremum/"
      ]
    },
    {
      "cell_type": "markdown",
      "metadata": {
        "id": "wX2vmsQSbzio"
      },
      "source": [
        "https://en.m.wikipedia.org/wiki/Upper_and_lower_bounds"
      ]
    },
    {
      "cell_type": "markdown",
      "metadata": {
        "id": "EoYu2SsGuZst"
      },
      "source": [
        "https://mathepedia.de/Majoranten_und_Minoranten.html"
      ]
    },
    {
      "cell_type": "markdown",
      "metadata": {
        "id": "Kf784FrZLYsu"
      },
      "source": [
        "##### **Duality, Order Isomorphism, Order Embedding & Galois Verbindung**"
      ]
    },
    {
      "cell_type": "markdown",
      "metadata": {
        "id": "MnYdVFa6tenF"
      },
      "source": [
        "**Order Isomorphism (Ordnungsisomorphismus)**"
      ]
    },
    {
      "cell_type": "markdown",
      "metadata": {
        "id": "heWA-Xu366vC"
      },
      "source": [
        "* Sind zwei Halbordnungen $(G, \\leq G)$ und $\\left(H, \\leq_{H}\\right)$ gegeben, so heißt eine Abbildung\n",
        "\n",
        "> $\n",
        "\\psi: G \\rightarrow H\n",
        "$\n",
        "\n",
        "* ein Ordnungsisomorphismus, wenn $\\psi$ eine **bijektive isotone Abbildung** ist, deren Umkehrabbildung $\\psi^{-1}$ ebenfalls eine isotone Abbildung ist.\n",
        "\n",
        "* Existiert zwischen $G$ und $H$ ein Ordnungsisomorphismus, so lässt sich die Existenz auch mit\n",
        "$G \\cong H$ ausdrücken und $G$ und $H$ werden als ordnungsisomorph bezeichnet. \n",
        "\n",
        "* Bildet ein\n",
        "Ordnungsisomorphismus eine Menge auf sich selbst ab, so ist er ein Automorphismus und wird auch Ordnungsautomorphismus genannt."
      ]
    },
    {
      "cell_type": "markdown",
      "metadata": {
        "id": "CsyduyQD6-L0"
      },
      "source": [
        "https://de.m.wikipedia.org/wiki/Ordnungsisomorphismus"
      ]
    },
    {
      "cell_type": "markdown",
      "metadata": {
        "id": "JtTg9cMpE3xh"
      },
      "source": [
        "* an order isomorphism is a special kind of monotone function that constitutes a suitable notion of isomorphism for partially ordered sets (posets). \n",
        "\n",
        "* Whenever two posets are order isomorphic, they can be considered to be \"essentially the same\" in the sense that either of the orders can be obtained from the other just by renaming of elements. \n",
        "\n",
        "* Two strictly weaker notions that relate to order isomorphisms are order embeddings and Galois connections."
      ]
    },
    {
      "cell_type": "markdown",
      "metadata": {
        "id": "wJRh0DQzIEGK"
      },
      "source": [
        "Formally, given two posets $\\left(S, \\leq_{S}\\right)$ and $\\left(T, \\leq_{T}\\right),$ an order isomorphism from $(S, \\leq s)$ to $\\left(T, \\leq_{T}\\right)$ is a bijective function $f$ from $S$ to $T$ with the property that, for every $x$ and $y$ in $S, x \\leq_{S} y$ if and only if $f(x) \\leq_{T} f(y)$. That is, it is a bijective order-embedding."
      ]
    },
    {
      "cell_type": "markdown",
      "metadata": {
        "id": "I2HUCHBaFs9l"
      },
      "source": [
        "* A bijection is an isomorphism if both f and f-1 are order-preserving. \n",
        "\n",
        "* A self-isomorphism is an automorphism.\n",
        "\n",
        "* A partial ordering is a well-ordering if every non-empty subset has a least element."
      ]
    },
    {
      "cell_type": "markdown",
      "metadata": {
        "id": "T0OWcMrgtjkc"
      },
      "source": [
        "https://en.m.wikipedia.org/wiki/Order_isomorphism"
      ]
    },
    {
      "cell_type": "markdown",
      "metadata": {
        "id": "LU6kfjzCucGu"
      },
      "source": [
        "**Isotone Abbildungen / Monotone Funktion (Ordnungshomomorphismus)**"
      ]
    },
    {
      "cell_type": "markdown",
      "metadata": {
        "id": "F5jlSysKuh6Q"
      },
      "source": [
        "* Eine monotone Abbildung ist eine Abbildung zwischen zwei halbgeordneten Mengen (Posets), bei der aus der Ordnung zweier Elemente der Definitionsmenge auf die Ordnung der jeweiligen Bildelemente der Zielmenge geschlossen werden kann. \n",
        "\n",
        "* Bleibt die Ordnung der Elemente erhalten, spricht man von einer isotonen oder ordnungserhaltenden Abbildung oder auch von einem Ordnungshomomorphismus. \n",
        "\n",
        "* Kehrt sich die Ordnung um, spricht man von einer antitonen oder ordnungsumkehrenden Abbildung."
      ]
    },
    {
      "cell_type": "markdown",
      "metadata": {
        "id": "zM-75C0q40SV"
      },
      "source": [
        "Seien $X$ und $X^{\\prime}$ geordnete Mengen. Eine Abbildung $\\varphi: X \\rightarrow X^{\\prime}$ heißt isoton, ordnungserhaltend, ordnungstreu oder Ordnungshomomorphismus, wenn $x \\leq y \\Rightarrow \\varphi(x) \\leq \\varphi(y)$ für alle $x, y \\in X$\n",
        "gilt."
      ]
    },
    {
      "cell_type": "markdown",
      "metadata": {
        "id": "ysSXSJuT44Qj"
      },
      "source": [
        "https://de.m.wikipedia.org/wiki/Ordnungsrelation#Homomorphismen"
      ]
    },
    {
      "cell_type": "markdown",
      "metadata": {
        "id": "XC0wsLmAuu2l"
      },
      "source": [
        "https://de.m.wikipedia.org/wiki/Monotone_Abbildung"
      ]
    },
    {
      "cell_type": "markdown",
      "metadata": {
        "id": "MHXKzYOEu9Zx"
      },
      "source": [
        "https://mathepedia.de/Isotone_Abbildungen.html"
      ]
    },
    {
      "cell_type": "markdown",
      "metadata": {
        "id": "EXPPrr64F5qd"
      },
      "source": [
        "**Order Embedding**"
      ]
    },
    {
      "cell_type": "markdown",
      "metadata": {
        "id": "ZnDbp-K0GAec"
      },
      "source": [
        "* an order embedding is a **special kind of monotone function (spezielle Form von isotoner Abbildung)**, which provides a way to include one partially ordered set into another. \n",
        "\n",
        "* Like Galois connections, order embeddings constitute a notion which is **strictly weaker than the concept of an order isomorphism**. Both of these weakenings may be understood in terms of category theory."
      ]
    },
    {
      "cell_type": "markdown",
      "metadata": {
        "id": "s0IHeXIEGkn3"
      },
      "source": [
        "Formally, given two partially ordered sets (posets) $(S, \\leq)$ and $(T, \\preceq),$ a function $f: S \\rightarrow T$ is an order embedding if $f$ is both order-preserving and order-reflecting, i.e. for all $x$ and $y$ in $S$, one has\n",
        "\n",
        "> $x \\leq y$ if and only if $f(x) \\preceq f(y) .$\n",
        "\n",
        "Such a function is necessarily injective, since $f(x)=f(y)$ implies $x \\leq y$ and $y \\leq x$. embedding between two posets $S$ and $T$ exists, one says that $S$ can be embedded into $T$."
      ]
    },
    {
      "cell_type": "markdown",
      "metadata": {
        "id": "NsErplH5FsSB"
      },
      "source": [
        "Posets can straightforwardly be viewed from many perspectives, and order embeddings are basic enough that they tend to be visible from everywhere. For example:\n",
        "\n",
        "* (Model theoretically) A poset is a set equipped with a (reflexive, antisymmetric, transitive) binary relation. An order embedding A -> B is an isomorphism from A to an elementary substructure of B.\n",
        "\n",
        "* (Graph theoretically) A poset is a (transitive, acyclic, directed, reflexive) graph. An order embedding A -> B is a graph isomorphism from A to an induced subgraph of B.\n",
        "\n",
        "* (Category theoretically) A poset is a (small, thin, and skeletal) category such that each homset has at most one element. An order embedding A -> B is a full and faithful functor from A to B which is injective on objects, or equivalently an isomorphism from A to a full subcategory of B."
      ]
    },
    {
      "cell_type": "markdown",
      "metadata": {
        "id": "GfsYGWUoF8y6"
      },
      "source": [
        "https://en.m.wikipedia.org/wiki/Order_embedding"
      ]
    },
    {
      "cell_type": "markdown",
      "metadata": {
        "id": "CYH-35wsCn5c"
      },
      "source": [
        "*Are embedding and an injective homomorphism (Isotone Abbildungen / Ordnungshomomorphismus) the same thing?*"
      ]
    },
    {
      "cell_type": "markdown",
      "metadata": {
        "id": "mM7zhP4WDmul"
      },
      "source": [
        "* For groups they are the same thing. For topological spaces, they are not. There can be an injective continuous map $f: X \\rightarrow Y$ where the image $f(X)$ is not homeomorphic to $X$. A quick example is $X=[0,2 \\pi), Y=S^{1}, f(x)=e^{i x}$\n",
        "\n",
        "* Embedding is a term used for the underlying set of space, for instance we may embed the set of integers $\\mathbb{Z}$ by a list of distinct points $\\left\\{x_{n}\\right\\} \\in \\mathbb{R} .$ Homomorphism is used for maps that preserve addition and multiplication. For instance we only have two homomorphism $f: \\mathbb{Z} \\rightarrow \\mathbb{R}$, i.e. zero map and identity map. But we can construct many embeddings $g: \\mathbb{Z} \\mapsto \\mathbb{R}$ by choosing different lists $\\left\\{x_{n}\\right\\}$"
      ]
    },
    {
      "cell_type": "markdown",
      "metadata": {
        "id": "zinPRYz8Cs1A"
      },
      "source": [
        "https://math.stackexchange.com/questions/3053264/do-embedding-and-injective-homomorphism-mean-the-same-thing"
      ]
    },
    {
      "cell_type": "markdown",
      "metadata": {
        "id": "sniDMo1itn-T"
      },
      "source": [
        "**Galois connection**"
      ]
    },
    {
      "cell_type": "markdown",
      "metadata": {
        "id": "cbLiilkjFtyU"
      },
      "source": [
        "* a Galois connection is a particular correspondence (typically) between two partially ordered sets (posets). \n",
        "\n",
        "* The same notion can also be defined on preordered sets or classes; this article presents the common case of posets. \n",
        "\n",
        "* Galois connections generalize the correspondence between subgroups and subfields investigated in Galois theory.\n",
        "\n",
        "* A Galois connection is rather weak compared to an order isomorphism between the involved posets, but every Galois connection gives rise to an isomorphism of certain sub-posets, as will be explained below.\n",
        "\n",
        "* The term Galois correspondence is sometimes used to mean bijective Galois connection; this is simply an order isomorphism (or dual order isomorphism, depending on whether we take monotone or antitone Galois connections)."
      ]
    },
    {
      "cell_type": "markdown",
      "metadata": {
        "id": "u7427KkwtrFE"
      },
      "source": [
        "https://en.m.wikipedia.org/wiki/Galois_connection"
      ]
    },
    {
      "cell_type": "markdown",
      "metadata": {
        "id": "bbR0rJVGuCDO"
      },
      "source": [
        "**Duality**"
      ]
    },
    {
      "cell_type": "markdown",
      "metadata": {
        "id": "P00hsr21Knno"
      },
      "source": [
        "* In the mathematical area of order theory, every partially ordered set $P$ gives rise to a dual (or opposite) partially ordered set which is often denoted by $P^\\mathrm{op}$ or $P^{d} .$ This dual order $\\mathrm{P}^{\\mathrm{op}}$ is defined to\n",
        "be the same set, but with the inverse order, i.e. $x \\leq y$ holds in $P^{\\text {op }}$ if and only if $y \\leq x$ holds in $P$. \n",
        "\n",
        "* It is\n",
        "easy to see that this construction, which can be depicted by flipping the Hasse diagram for $P$ upside\n",
        "down, will indeed yield a partially ordered set. In a broader sense, two partially ordered sets are also\n",
        "said to be duals if they are dually isomorphic, i.e. if one poset is order isomorphic to the dual of the\n",
        "other."
      ]
    },
    {
      "cell_type": "markdown",
      "metadata": {
        "id": "dKz76PxHuEnf"
      },
      "source": [
        "https://en.m.wikipedia.org/wiki/Duality_(order_theory)"
      ]
    },
    {
      "cell_type": "markdown",
      "metadata": {
        "id": "KledNeG6L6xF"
      },
      "source": [
        "https://en.m.wikipedia.org/wiki/Dual_(category_theory)"
      ]
    },
    {
      "cell_type": "markdown",
      "metadata": {
        "id": "M8hKdaaq47YJ"
      },
      "source": [
        "**Completeness**"
      ]
    },
    {
      "cell_type": "markdown",
      "metadata": {
        "id": "R1UimNcSHuXW"
      },
      "source": [
        "* In the mathematical area of order theory, completeness properties assert the existence of certain infima or suprema of a given partially ordered set (poset). The most familiar example is the completeness of the real numbers. A special use of the term refers to complete partial orders or complete lattices. However, many other interesting notions of completeness exist.\n",
        "\n",
        "* The motivation for considering completeness properties derives from the great importance of suprema (least upper bounds, joins, \"$\\vee$\") and infima (greatest lower bounds, meets, \"$\\wedge$\") to the theory of partial orders. \n",
        "\n",
        "* Finding a supremum means to single out one distinguished least element from the set of upper bounds.\n",
        "\n"
      ]
    },
    {
      "cell_type": "markdown",
      "metadata": {
        "id": "93mJ-3FJLDS2"
      },
      "source": [
        "Naturally, there are a great number of examples for concepts that are dual:\n",
        "\n",
        "* Greatest elements and least elements\n",
        "* Maximal elements and minimal elements\n",
        "* Least upper bounds (suprema, ∨) and greatest lower bounds (infima, ∧)\n",
        "* Upper sets and lower sets\n",
        "* Ideals and filters\n",
        "* Closure operators and kernel operators.\n",
        "\n",
        "Examples of notions which are self-dual include:\n",
        "\n",
        "* Being a (complete) lattice\n",
        "* Monotonicity of functions\n",
        "* Distributivity of lattices, i.e. the lattices for which ∀x,y,z: x ∧ (y ∨ z) = (x ∧ y) ∨ (x ∧ z) holds are exactly those for which the dual statement ∀x,y,z: x ∨ (y ∧ z) = (x ∨ y) ∧ (x ∨ z) holds[1]\n",
        "* Being a Boolean algebra\n",
        "* Being an order isomorphism.\n",
        "\n",
        "Since partial orders are antisymmetric, the only ones that are self-dual are the equivalence relations (=Reflexivität, Transitivität, Symmetrie)."
      ]
    },
    {
      "cell_type": "markdown",
      "metadata": {
        "id": "-gXchxGz4-fE"
      },
      "source": [
        "https://en.m.wikipedia.org/wiki/Completeness_(order_theory)"
      ]
    },
    {
      "cell_type": "markdown",
      "metadata": {
        "id": "1eKPHlZtIh3q"
      },
      "source": [
        "*Completeness of Real Numbers*"
      ]
    },
    {
      "cell_type": "markdown",
      "metadata": {
        "id": "tebo4HB9HyjN"
      },
      "source": [
        "https://en.m.wikipedia.org/wiki/Completeness_of_the_real_numbers"
      ]
    },
    {
      "cell_type": "markdown",
      "metadata": {
        "id": "zUT_1mJSIbKY"
      },
      "source": [
        "*Complete Partial Order*"
      ]
    },
    {
      "cell_type": "markdown",
      "metadata": {
        "id": "D_jPPnfAIRqf"
      },
      "source": [
        "A complete partial order abbreviated cpo can, depending on context, refer to any of the following concepts.\n",
        "\n",
        "1. A partially ordered set is a directed-complete partial order (dcpo) if each of its directed subsets has a supremum. A subset of a partial order is directed if it is non-empty and every pair of elements has an upper bound in the subset. In the literature, dcpos sometimes also appear under the label up-complete poset.\n",
        "\n",
        "2. A partially ordered set is a pointed directed-complete partial order if it is a dcpo with a least element. They are sometimes abbreviated cppos.\n",
        "\n",
        "3. A partially ordered set is a ω-complete partial order (ω-cpo) if it is a poset in which every ω-chain (x1≤x2≤x3≤x4≤...) has a supremum that belongs to the underlying set of the poset. Every dcpo is an ω-cpo, since every ω-chain is a directed set, but the converse is not true. However, every ω-cpo with a basis is also a dcpo (with the same basis).[1] An ω-cpo (dcpo) with a basis is also called a continuous ω-cpo (continuous dcpo).\n",
        "\n",
        "Note that complete partial order is never used to mean a poset in which all subsets have suprema; the terminology complete lattice is used for this concept."
      ]
    },
    {
      "cell_type": "markdown",
      "metadata": {
        "id": "JPgN9DqrH1AW"
      },
      "source": [
        "https://en.m.wikipedia.org/wiki/Complete_partial_order"
      ]
    },
    {
      "cell_type": "markdown",
      "metadata": {
        "id": "FbAwLzUBIedG"
      },
      "source": [
        "*Complete Lattice*"
      ]
    },
    {
      "cell_type": "markdown",
      "metadata": {
        "id": "icz6c1OiH-6s"
      },
      "source": [
        "* a complete lattice is a partially ordered set **in which all subsets have both a supremum (join) and an infimum (meet)**\n",
        "\n",
        "* Complete lattices appear in many applications in mathematics and computer science. Being a special instance of lattices, they are studied both in order theory and universal algebra.\n",
        "\n",
        "* Complete lattices must not be confused with complete partial orders (cpos), which constitute a strictly more general class of partially ordered sets. More specific complete lattices are complete Boolean algebras and complete Heyting algebras (locales)."
      ]
    },
    {
      "cell_type": "markdown",
      "metadata": {
        "id": "Jjj9RQ9VH3Ye"
      },
      "source": [
        "https://en.m.wikipedia.org/wiki/Complete_lattice"
      ]
    }
  ]
}