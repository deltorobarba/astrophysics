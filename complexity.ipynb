{
  "nbformat": 4,
  "nbformat_minor": 0,
  "metadata": {
    "colab": {
      "provenance": [],
      "collapsed_sections": [
        "E063DXH0uWGO",
        "Ruljtvv8uOw6",
        "-XETjaz7OtLY",
        "_28YFiO4D-Lp",
        "vLLaN6mPXKth",
        "efzpvSJocU3I",
        "gNGVQC0OENoM",
        "Gj-d2EYc2e7s",
        "hlzi59BP8aqU",
        "HOMOGqpNW8_R",
        "HbhRjEgHivEL",
        "r_8qZBxin5SQ",
        "E5QwZAe3lXT3",
        "Gsxdevc8-dHq",
        "GH7MKsEBwHc8",
        "2rAAm4JiTDN3",
        "2Xmk4oUjXRHh",
        "D9VH8cY6Ia40",
        "Zd3SbuXPo-mz",
        "DA5HMxDY9iHT",
        "8APTJDua9uNY",
        "OQhOPkypmczT",
        "ypsYD62SW6N9",
        "HX_Y0zpTYD8b",
        "T3lxJ4d7BriG",
        "jBlZmRcPPd8C",
        "c1GtjXg4e2yE",
        "Oz7oDSQ5Bm6H",
        "La_aZKRrBaXe",
        "-wgjwv48EPNF",
        "pgvi8Yztfy7j",
        "XyPztHZDog1j",
        "Dgy31jigwHId",
        "P4NJL0kOLbfi",
        "DOOx_crf83HT",
        "I2xPw5u9vGWI",
        "y4YO0LQ4A4IX",
        "aZ3xS4t7CWRV",
        "gj5tJ7BnBLC0",
        "XW6H46KpBVW-",
        "nMRTXb5a56Aq",
        "KR_qJb-WbsTp",
        "Cmqnes9brFPk",
        "ThL-AmiaxI8J",
        "ijtvzpIDxEzV",
        "8SsJmnB0xNNN",
        "6quxRLo3U9Qf",
        "32OR42wtUS3y",
        "_Syw4dL96u31",
        "l-DiG5X3xTfp",
        "oKvbzZ8cxOS1",
        "eLjOkdyQxLeb",
        "V36uKfvAxRCm",
        "hiezBxLBxVLy",
        "IJCykPfwxdQn",
        "zXCXyX9DxfdE"
      ],
      "include_colab_link": true
    },
    "kernelspec": {
      "name": "python3",
      "display_name": "Python 3"
    },
    "language_info": {
      "name": "python"
    }
  },
  "cells": [
    {
      "cell_type": "markdown",
      "metadata": {
        "id": "view-in-github",
        "colab_type": "text"
      },
      "source": [
        "<a href=\"https://colab.research.google.com/github/deltorobarba/sciences/blob/master/complexity.ipynb\" target=\"_parent\"><img src=\"https://colab.research.google.com/assets/colab-badge.svg\" alt=\"Open In Colab\"/></a>"
      ]
    },
    {
      "cell_type": "markdown",
      "source": [
        "# <font color=\"blue\">**Complexity**"
      ],
      "metadata": {
        "id": "xEVSiuftty-3"
      }
    },
    {
      "cell_type": "markdown",
      "source": [
        "![sciences](https://raw.githubusercontent.com/deltorobarba/repo/master/sciences_0000.png)"
      ],
      "metadata": {
        "id": "YiqcrmGetjeG"
      }
    },
    {
      "cell_type": "markdown",
      "source": [
        "### <font color=\"blue\">**Quantum Complexity**"
      ],
      "metadata": {
        "id": "hBnI4pUetf4i"
      }
    },
    {
      "cell_type": "markdown",
      "source": [
        "##### <font color=\"blue\">*Computational Complexity (Learning Quantum States)*"
      ],
      "metadata": {
        "id": "E063DXH0uWGO"
      }
    },
    {
      "cell_type": "markdown",
      "source": [
        "<font color=\"blue\">**Online Seminars**</font>\n",
        "\n",
        "* $\\checkmark$ [Jarrod McClean (Google Quantum AI): Physical Simulation Through a Quantum Computational Lens](https://www.youtube.com/watch?v=mD6m-XkDgTY&t=4007s)\n",
        "\n",
        "* $\\checkmark$ [Exponential quantum advantages in learning quantum observables from classical data](https://www.youtube.com/watch?v=4OCN8v-TMfA)\n",
        "\n",
        "* $\\checkmark$ [Learning shallow quantum circuits](https://www.youtube.com/watch?v=iwVgTihWr2c) und [Paper](https://arxiv.org/abs/2401.10095)\n",
        "\n",
        "* $\\checkmark$ [Fundamental limits to quantum computation (Jens Eisert)](https://www.youtube.com/watch?v=NhNB_Z50vII)\n",
        "\n",
        "* $\\checkmark$ [Quantum Algorithms_Robin Kothari](https://www.youtube.com/watch?v=4jJswyS9ieg&list=LL&index=7&t=1571s) Classical Algorithms and Paradigms that can be quantized\n",
        "\n",
        "* $\\checkmark$ [Local minima in quantum systems_Leo Zhou](https://www.youtube.com/watch?v=-cHfyHHO_30&list=LL&index=2&t=1248s) and [arxiv paper](https://arxiv.org/abs/2309.16596)\n",
        "\n",
        "* $\\checkmark$ [How Quantum Complexity Found Its Way into Black Hole Physics | Special Lecture](https://www.youtube.com/live/Ayp1yFAFoKQ?si=T_xRZMckvac84S_p)\n",
        "\n",
        "* $\\checkmark$ [Q2B23 SV | The Future of Quantum Supremacy Experiments | Scott Aaronson](https://www.youtube.com/watch?v=WWll3y_iBQU)\n",
        "\n",
        "* $\\checkmark$ [Vedran Dunjko - Exponential separations between classical and quantum learners - IPAM at UCLA](https://www.youtube.com/watch?v=IlEixl4mq0o)\n",
        "\n",
        "* $\\checkmark$ [Hsin-Yuan (Robert) Huang - Learning to predict arbitrary quantum processes - IPAM at UCLA](https://www.youtube.com/watch?v=vuHsBeLZxgc)\n",
        "\n",
        "> Overview: [Quantum algorithms: A survey of applications and end-to-end complexities](https://arxiv.org/abs/2310.03011)\n",
        "\n",
        "\n",
        "*Queue New Videos*\n",
        "\n",
        "* [Q2B23 SV | Crossing the Quantum Chasm: From NISQ to Fault Tolerance | John Preskill](https://www.youtube.com/watch?v=aq6F5c9rTLc)\n",
        "\n",
        "* [Jarrod McClean - Dequantization and quantum advantage in learning from experiments - IPAM at UCLA](https://www.youtube.com/watch?v=yGlg2VrNPds)\n",
        "\n",
        "* [Talk: new circuits and an open source decoder for the color code (Craig Gidney)](https://www.youtube.com/watch?v=c8m7hN96ylw)\n",
        "\n",
        "* [Ewin Tang - On quantum linear algebra for machine learning - IPAM at UCLA](https://www.youtube.com/watch?v=TFphS0a3JCs)\n",
        "\n",
        "* [Barren plateaus are swamped with traps](https://www.youtube.com/watch?v=ChVsOz2Tzk0&t=842s) and [Paper](https://arxiv.org/abs/2405.05332)\n",
        "\n",
        "* Paper: [Complexity-Theoretic Foundations of Quantum Supremacy Experiments](https://arxiv.org/abs/1612.05903)\n",
        "\n"
      ],
      "metadata": {
        "id": "5bGDHAQKkpr5"
      }
    },
    {
      "cell_type": "markdown",
      "source": [
        "<font color=\"blue\">**Complexity of <u>Simulating</u> Quantum Circuit Distributions**</font>\n",
        "\n",
        "> Quantamagazine: [The Quest to Quantify Quantumness](https://www.quantamagazine.org/the-quest-to-quantify-quantumness-20231019/)\n",
        "\n",
        "\n",
        "* **Entanglement**\n",
        "  * Unentangled quantum states are easy to simulate classically\n",
        "  * Entangled quantum states are hard to simulate on classical hardware\n",
        "* **Entanglement + Non-Clifford Gates (magic states)**\n",
        "  * 1998: Clifford group (stabilizer circuits) can be efficiently simulated, even entangled (Gottesman and Knill) with $n$ qubits and $m$ in $\\mathcal{O}(n^2 m)$ including a small constant factor [Improved simulation of stabilizer circuits](https://journals.aps.org/pra/abstract/10.1103/PhysRevA.70.052328).\n",
        "  * 2004: One T-gate drastically increases simulation difficulty. In 2004, Bravyi and Kitaev proposed \"**magic state distillation**\" to create high-fidelity T-gates \\cite{10.1103/PhysRevA.71.022316}. This technique, in theory, enables T-gate production on quantum computers, even those not yet large enough.\n",
        "* **Entanglement + Non-Clifford Gates (magic states) + Swap Gates**\n",
        "  * 2016: Some T-gates are able to simulate: in 2016 allowed for the classical simulation of quantum circuits with T-gates, blurring the lines between classical and quantum capabilities \\cite{10.1103/PhysRevLett.116.250501}.\n",
        "  * Addition of **\"Swap gates\" introduces fermion interaction, significantly complicating computation**. Notably, matchgate circuits simulating free fermions (like electrons) remain easy to simulate classically (Free-fermion simulations (non-interacting)) \\cite{10.1103/PhysRevA.65.032325}.\n",
        "* **Entanglement + Non-Clifford Gates (magic states) + Swap Gates + ...**\n",
        "  * 2023: Recently, even this barrier has been challenged: simulations of circuits with 10 swap gates at speeds millions of times faster than previously thought, though still exponentially hard \\cite{2307.12654, 10.22331/q-2024-05-21-1350, 2307.12702}.\n",
        "* Furthermore, a connection between quantum entanglement and quantum circuit com- plexity was revealed by Eisert, who proved that the entangling power of a unitary transformation provides a lower bound for its circuit cost [20]"
      ],
      "metadata": {
        "id": "KirzuB57V4hP"
      }
    },
    {
      "cell_type": "markdown",
      "source": [
        "<font color=\"blue\">**Complexity of <u>Learning</u> Quantum Circuit Distributions**</font>\n",
        "* Quantum sampling  enables the generation of quantum data, can be considered generative models $\\rightarrow$ Under what conditions can classical ML efficiently learn from quantum circuit samples, and when is there a quantum advantage?\n",
        "* Quantum Circuit Sampling (random circuit sampling and boson sampling):\n",
        "  * too hard for classical circuits in certain cases, [Q2B23 SV | The Future of Quantum Supremacy Experiments | Scott Aaronson](https://www.youtube.com/watch?v=WWll3y_iBQU)\n",
        "  * And also: exponentially hard to verify classically, [Circuit Conspiracies](https://www.youtube.com/watch?v=CEdN1tI3NDw). Proposed approach by Aaronson: If **peaked random circuits** were indistinguishable from random and easy to generate, we could immediately use them for verifiable NISQ quantum advantage: \"given as input a circuit C, is C random or peaked?\"\n",
        "* Easy to **learn** the output distribution of Clifford circuits.\n",
        "  * Video: [Fundamental limits to quantum computation (Jens Eisert)](https://www.youtube.com/watch?v=NhNB_Z50vII)\n",
        "* A single T-gate within a circuit can make distribution **learning** hard\n",
        "  * [A single T-gate makes distribution learning hard](https://arxiv.org/abs/2207.03140)\n",
        "  * Note difference: one can simulate several T-gates, but learn not even one classically efficiently)\n",
        "  * an information retrieval decoder for black holes modeled by random Clifford circuits with T-gates \\cite{10.1103/`PhysRevA`.106.062434}.\n",
        "  * reconstruction of information lost in a black hole by observing its emitted radiation, assuming black hole does not possess excessive magic states \\cite{10.1103/PhysRevLett.132.080402}.\n",
        "* Constant-depth quantum circuits with exponential separation to classical counterparts\n",
        "  * 2017: [Quantum advantage with shallow circuits](https://arxiv.org/abs/1704.00690)\n",
        "  * 2024: [Learning shallow quantum circuits](https://arxiv.org/abs/2401.10095) provide speedups. [Video](https://www.youtube.com/watch?v=iwVgTihWr2c)\n",
        "* Establishing quantum-classical separations in distribution learning [Superpolynomial quantum-classical separation for density modeling](https://journals.aps.org/pra/abstract/10.1103/PhysRevA.107.042416)\n",
        "\n",
        "\n"
      ],
      "metadata": {
        "id": "RUC8Q6bzx69d"
      }
    },
    {
      "cell_type": "markdown",
      "source": [
        "<font color=\"blue\">**Computational Complexity of Finding Ground States**</font>\n",
        "\n",
        "**Minimizing energy of quantum systems**\n",
        "* Between very easy and very hard:\n",
        "  * **Easy**: 1D gapped systems (Arad Landau Vazirani, Vidick 2017] or find local minimum under local unitary perturbations\n",
        "  * **Quantum sweetspot**: ??\n",
        "  * **Hard**: Global optimium is QMA hard (Kitaev et al 2002) or Finding ground states with exponential vanishing gap (PSpace hard)\n",
        "* **Approach: look for local optimum, not global**! Interestingly: even nature doesn't always find it - Is it then necessary to look for global optimum, or just look for local? This is classically hard, but quantumly easy [Local minima in quantum systems_Leo Zhou](https://www.youtube.com/watch?v=-cHfyHHO_30&list=LL&index=2&t=1248s) and [arxiv paper](https://arxiv.org/abs/2309.16596).\n",
        "  * Finding a local minimum under **local unitary** perturbations is **classically easy** (For any local Hamiltonian H, any random state is a local minima). There are exp(exp(n)) such local minima! (double exponentially)\n",
        "  * Finding a local minimum under **thermal** perturbations is **classically hard**. Certain 2D Hamiltonians whose ground states encode universal quantum computation have no suboptimal local minima. **Assuming quantum circuits cannot be classically simulated, finding any local minimum of Hc must be classically HARD!** (<font color=\"blue\">that's why important to focus in circuits, not use cases</font>)\n",
        "\n",
        "**Finding ground states with exponential vanishing gap**\n",
        "* **Lower Bound (Ω):** computationally hard, even for quantum computers, likely superpolynomial lower bound (e.g., $\\Omega(n^c)$ for some constant c > 1).\n",
        "  * **Exponential Vanishing Gap:** As the system size grows, the energy gap between the ground state and the first excited state shrinks exponentially. This makes it increasingly difficult to distinguish the ground state from other low-energy states.\n",
        "  * **Quantum Phase Transitions:** Many systems with exponentially vanishing gaps exhibit quantum phase transitions. These transitions often involve complex quantum correlations that are challenging to simulate efficiently.\n",
        "* **Upper Bound (O):** difficult to determine, likely to be at least exponential in the system size, but exact scaling behavior depends on the specific algorithm and the properties of the system.\n",
        "  * **Adiabatic Quantum Computing (AQC):** AQC can sometimes find ground states by slowly evolving a system from a simple initial Hamiltonian to the desired final Hamiltonian. However, the runtime of AQC can scale exponentially with the inverse of the minimum energy gap, which is problematic for exponentially vanishing gaps.\n",
        "  * **Variational Quantum Eigensolvers (VQE):** VQE is a hybrid quantum-classical algorithm that uses a quantum computer to prepare and measure quantum states and a classical computer to optimize a variational ansatz. VQE has shown promise for finding ground states of certain systems, but its scaling behavior for exponentially vanishing gaps is not fully understood.\n",
        "  * **Quantum Approximate Optimization Algorithm (QAOA):** QAOA is another hybrid algorithm that attempts to find approximate solutions to optimization problems. Its applicability to finding ground states with exponentially vanishing gaps is still an active area of research.\n",
        "\n",
        "* **Femoco**\n",
        "  * Only subset can be efficiently simulated, otherwise taking too long (combine with classical)\n",
        "  * Page 3: [Evaluating the evidence for exponential quantum advantage in ground-state quantum chemistry](https://www.nature.com/articles/s41467-023-37587-6) (power of classical heuristics)\n"
      ],
      "metadata": {
        "id": "fq6cgyH507yZ"
      }
    },
    {
      "cell_type": "markdown",
      "source": [
        "<font color=\"blue\">**Computational Complexity of Quantum Algorithms**</font>\n",
        "\n",
        "\n",
        "<font color=\"blue\">Shor's algorithm</font>\n",
        "\n",
        "* **Circuit Complexity**: for factoring integers can be implemented with a circuit of depth O(log n). Shor's algorithm for factoring integers can be implemented with a circuit of depth O(log n).\n",
        "\n",
        "* **Computational Complexity**: the time complexity of Shor's algorithm depends on the error rate of the quantum computer. If the error rate is low enough, then the time complexity of Shor's algorithm will be polynomial in the size of the integer being factored.\n",
        "\n",
        "* Video: [How to factor 2048 bit RSA integers in 8 hours using 20 million noisy qubits](https://www.youtube.com/watch?v=upTipX9yXNg) und Paper [How to factor 2048 bit RSA integers in 8 hours using 20 million noisy qubits](https://quantum-journal.org/papers/q-2021-04-15-433/#)\n",
        "\n",
        "<font color=\"blue\">Quantum Fourier transform</font>\n",
        "\n",
        "* can be implemented with a circuit of depth O(log n), where n is the number of qubits. The quantum Fourier transform can be implemented with a circuit of depth O(log n), where n is the number of qubits. However, the time complexity of the quantum Fourier transform depends on the architecture of the quantum computer.\n",
        "* For example, if the quantum computer can implement the quantum Fourier transform using a parallel circuit, then the time complexity will be O(log n). However, if the quantum computer can only implement the quantum Fourier transform using a sequential circuit, then the time complexity will be O(n log n).\n",
        "\n",
        "<font color=\"blue\">Grover's Search</font>\n",
        "\n",
        "* can be implemented with a circuit of depth $\\mathcal{O}(\\sqrt{N})$, where N is database size. However, time complexity of Grover's algorithm depends on number of queries that can be made to database. If number of queries is limited, then time complexity is higher than $\\mathcal{O}(\\sqrt{N})$\n",
        "* **Upper Bound $\\mathcal{O}(\\sqrt{N} log N)$:** represents circuit complexity of best-known implementation of Grover's algorithm. The log N factor indicates a small overhead compared to the theoretical lower bound. This overhead is due to the additional operations needed for tasks like amplitude amplification and error correction.\n",
        "* **Lower Bound $(\\Omega \\sqrt{N})$:** This is the theoretical limit for the circuit complexity of any quantum search algorithm, including Grover's. It's based on the minimum number of queries to the oracle function required to solve the search problem.\n",
        "* **Potential improvements to reduce circuit complexity:** More Efficient Oracles: with fewer quantum gates. More efficient ways for amplitude amplification Novel quantum algorithms for quantum search.\n",
        "\n",
        "<font color=\"blue\">Quantum Phase Estimation</font>\n",
        "* Estimate the eigenvalues (phases) of a unitary operator. Used to find ground state energy of a molecule by simulating its Hamiltonian.\n",
        "* **Computational Complexity:**\n",
        "  1. **Exponential Scaling in Some Cases**: Although QPE offers an exponential speedup in estimating eigenvalues with respect to precision, this speedup does not always translate into practical benefits. For instance, the overall complexity of the quantum algorithm might still scale poorly with the size of the problem.\n",
        "  2. **Query Complexity**: **Lower Bounds**: Recent research has established tight lower bounds on the query complexity of QPE. For achieving a desired precision δ and error probability ε, the algorithm requires Ω((1/δ)log(1/ε)) queries to the unitary operator whose eigenvalue phase is being estimated. This lower bound matches the known upper bound, indicating that we have a good understanding of the optimal query complexity for QPE.  This lower bound means that there is a fundamental limit to how quickly QPE can converge to the true phase value, which is crucial for resource-constrained scenarios.\n",
        "  3. **Preparation of Eigenstates**: QPE assumes the availability of an eigenstate of the unitary operator. Preparing such eigenstates can be computationally challenging. **Initial State Preparation**: Preparing a good approximation of the ground state is crucial for QPE success. This task can be resource-intensive and challenging, leading to incorrect phase estimation and energy values if not done properly.\n",
        "* **Quantum Circuit Complexity**\n",
        "  1. **Circuit Depth**: QPE requires a quantum circuit with a depth that scales linearly with the desired precision. High precision demands deeper circuits, increasing susceptibility to errors due to decoherence and noise.\n",
        "  2. **Gate Complexity**: QPE requires long and complex quantum circuits, especially for high precision estimates. The depth of the circuit increases with the desired precision, which means more gates and thus more opportunities for errors to accumulate. It‘s a bottleneck for near-term quantum devices with limited gate fidelity.\n",
        "  3. **Ancilla Qubits**: QPE typically requires additional ancillary qubits for the phase kickback operation. The number of ancilla qubits can be a limiting factor for current quantum computers.\n",
        "  4. **Circuit Synthesis**: Efficiently synthesizing the quantum circuits required for QPE can be computationally challenging, especially for large systems, limiting practicality for complex problems.\n",
        "  5. **Resource Requirements**: QPE demands a large number of qubits and gates, often exceeding current quantum hardware capabilities, particularly for simulating complex molecules.\n",
        "  6. **Error Rates and Quantum Decoherence**: High error rates and limited coherence times in current quantum computers pose challenges for running long QPE circuits without significant errors.\n",
        "* **Additional notes**\n",
        "  * many applications based on Quantum Phase Estimation, but that has an upper limit, too low for industrial applications, e.g. in ground states finding for biochemistry\n",
        "  * So, will #NISQ #variational algorithms solve industrial chemistry problems (read: cheaper, faster or with more accuracy, at the same run-time as their classical counterparts)- very likely not. (Or the other way round, there is no scientific proof whatsoever that this is possible!)\n",
        "  * It’s time to invest into #ftqc - #algorithm research - because today’s #qubitzed algorithms have natural speed limits (based on Hamiltonian spectra! (https://lnkd.in/dgdth8iZ ) - so it’s time to look beyond #qpe and find smarter and faster ways towards ground states of single geometries! And once this is solved - the next piece is to get #expectation values efficiently (because a single ground state does seldomly help in an industrial application).\n",
        "  * P450 starting point- https://www.pnas.org/doi/10.1073/pnas.2203533119 (72h)\n",
        "  * Scdf optimization- https://arxiv.org/abs/2403.03502 (/2 36h)\n",
        "  * Limits - https://arxiv.org/abs/2403.04737  (another /2)\n",
        "\n",
        "\n",
        "<font color=\"blue\">HHL for Linear Algebra</font>\n",
        "\n",
        "* designed for solving linear systems of equations, remains a quantum algorithm with potential quantum advantage under certain conditions.\n",
        "* data structure properties more amenable to quantum speedups with HHL: sparse matrices, Low Condition Number, specific matrix structures (like those arising from certain graph problems or partial differential equations), large problem sizes\n",
        "* Sparsity and Low Rank: Matrices with high rank tend to be dense (i.e., having few zero elements). HHL is specifically designed to leverage sparsity for efficiency. If a matrix is dense, the quantum advantage of HHL diminishes, as the algorithm's complexity scales with the number of non-zero elements.\n",
        "* Condition Number and Rank: The condition number of a matrix is lower bounded by the ratio of the largest singular value to the smallest singular value.  High-rank matrices often have a wider range of singular values, which can lead to a higher condition number. As mentioned earlier, HHL's runtime depends logarithmically on the condition number, so high-rank matrices might not be the most suitable candidates for significant speedups.\n",
        "* High-Rank Matrices: HHL Algorithm: As discussed earlier, HHL is not well-suited for high-rank matrices due to its reliance on sparsity and the inverse relationship between rank and condition number. High-rank matrices tend to be dense and ill-conditioned, leading to less efficient or even impractical implementations of HHL.\n",
        "* Low-Rank Matrices: HHL Algorithm: HHL can potentially offer quantum speedups for low-rank matrices, especially if they are sparse and well-conditioned. The algorithm's complexity scales favorably with the sparsity and condition number, both of which are often associated with low-rank matrices.\n",
        "\n",
        "\n",
        "<font color=\"blue\">Quantum Singular Value Transformation (QSVT)</font>\n",
        "\n",
        "* High-Rank Matrices: Potential for Quantum Speedup: There might still be specific scenarios where quantum algorithms could offer speedups for high-rank matrices. For instance, certain quantum linear algebra techniques, like quantum singular value transformation (QSVT), can potentially manipulate high-rank matrices more efficiently than classical methods. However, these applications are still under active research and their practicality for real-world problems is yet to be fully established.\n",
        "\n",
        "* Low-Rank Matrices: Dequantization and Recommender Systems: As you rightly pointed out, Ewin Tang's work demonstrated that the quantum advantage of certain recommender system algorithms was primarily due to the low-rank nature of the underlying data. This highlights the importance of considering the inherent properties of the data when evaluating the potential for quantum speedups.\n",
        "\n",
        "* Low-Rank Matrix Approximation: Tang observed that many recommendation systems operate on data matrices that are inherently low-rank or can be well-approximated by low-rank matrices. This means that the essential information in the data can be captured by a relatively small number of latent factors. | Randomized Linear Algebra:  Tang utilized randomized linear algebra techniques, specifically random sampling and projection methods, to efficiently find these low-rank approximations of the data matrices. These techniques are computationally efficient on classical computers.\n",
        "\n"
      ],
      "metadata": {
        "id": "7CIzWc2nlBQu"
      }
    },
    {
      "cell_type": "markdown",
      "source": [
        "##### <font color=\"blue\">*Circuit Complexity (Preparing Quantum States)*"
      ],
      "metadata": {
        "id": "Ruljtvv8uOw6"
      }
    },
    {
      "cell_type": "markdown",
      "source": [
        "<font color=\"blue\">**Bounds on Implementing Gate Operations**</font>\n",
        "\n",
        "**Any Gate Operation Complexity (NAND)**\n",
        "\n",
        "* [Focus beyond quadratic speedups for error-corrected quantum advantage](https://arxiv.org/abs/2011.04149): there is roughly a ten order of magnitude difference between the spacetime volume required for comparable operations on an error-corrected quantum computer and a classical computer.\n",
        "\n",
        "\n",
        "**T-Gate operation complexity** (complexity of implementing a T-gate)\n",
        "* reduced by deepmind\n",
        "* Gate Decomposition Complexity:\n",
        "  * In a universal quantum gate set (such as the Clifford+T set), the T-gate is considered a fundamental gate. Therefore, its implementation in terms of gate count is minimal when it is directly available in the hardware's gate set.\n",
        "* Fault-Tolerant Quantum Computing\n",
        "    * In fault-tolerant quantum computing, the T-gate is more complex to implement due to the necessity of error correction. The T-gate cannot be implemented transversally in most quantum error-correcting codes, such as the popular surface code. Instead, it typically requires a more complex process known as \"magic state distillation\" and \"gate teleportation.\n",
        "    * Magic state distillation is a resource-intensive process used to prepare high-fidelity T-states, which are then used to perform the T-gate operation. This process involves multiple rounds of distillation and can be quite costly in terms of qubits and operations.\n",
        "* Resource Estimates in Fault-Tolerant Quantum Computing\n",
        "    * Magic State Distillation: The process of producing a high-fidelity T-state requires multiple lower-fidelity T-states and a series of Clifford operations. The exact resource requirements depend on the desired fidelity of the T-gate and the error rates of the physical qubits. Estimates suggest that thousands of physical qubits might be needed to achieve fault-tolerant implementation of a T-gate.\n",
        "    * Gate Teleportation: Once a high-fidelity magic state is prepared, the T-gate can be applied using gate teleportation, which generally involves a few ancillary qubits and a sequence of Clifford operations.\n",
        "\n",
        "**Toffoli operation complexity**\n",
        "\n",
        "* Paper: [Focus beyond quadratic speedups for error-corrected quantum advantage](https://arxiv.org/abs/2011.04149)"
      ],
      "metadata": {
        "id": "ta7O15fONjhE"
      }
    },
    {
      "cell_type": "markdown",
      "source": [
        "<font color=\"blue\">**Bounds on Implementing Circuit Operations**</font>\n",
        "\n",
        "**Complexity of uncomputation**\n",
        "\n",
        "* Erasing or reversing intermediate computational steps to return ancillary qubits (used as workspace) to their original state (typically the $|0\\rangle$ state). Essential for ensuring that these ancillas do not carry any residual information that could interfere with future computations and is especially crucial in algorithms requiring reversible operations.\n",
        "* **Gate Count**: If original computation requires $n$ gates, then uncomputation will also require $n$ gates. The total number of gates for both the computation and uncomputation will be $2n$.\n",
        "* **Circuit Depth**: Similarly, if the original computation has a depth $d$, the depth for uncomputation will be $d$. Thus, the combined depth will be $2d$\n",
        "\n",
        "**Complexity of contraction (to unitary)**\n",
        "\n",
        "* Contraction to a unitary (simplification technique) refers to the process of reducing or simplifying a larger quantum system or a set of operations to a smaller, more manageable unitary matrix that represents the essential quantum operation, e.g. Simplifying a complex quantum circuit to a single unitary matrix that performs the same overall transformation on the input state.\n",
        "\n",
        "**Complexity of state synthesis (algorithms)**\n",
        "* Preparing a specific quantum state from a given set of initial states or resources using quantum operations (synthesizing states like the Bell states or GHZ states is essential for algorithms and protocols involving entanglement. Also crucial in quantum communication, where specific states are used for secure communication protocols like quantum key distribution (QKD).) Examples:\n",
        "  * **Constructing a quantum state** is <u>focused</u> on Constructing a quantum state involves preparing a specific quantum state from an initial state using quantum operations or gates. This process requires designing a sequence of quantum gates that will transform the initial state into the desired target state, e.g. Preparing a Bell state from the initial state ∣00⟩ using a Hadamard gate followed by a CNOT gate.\n",
        "  * **Implementing a unitary transformation** is <u>broader</u> on Implementing a unitary transformation means applying a unitary operator (which is represented by a unitary matrix) to a quantum state. This transformation changes the state of the quantum system while preserving the norm (total probability) of the state, e.g. Applying a unitary operator $U$ to an initial state $|ψ\\rangle$ to get a new state $|ψ'\\rangle$ = $U|ψ⟩\\rangle$\n",
        "* Paper: [Complexity of a unitary](https://www.cs.toronto.edu/~rosenthal/thesis.pdf) (Quantum State and Unitary Complexity)\n",
        "  * <font color=\"blue\">**Little is known about the computational complexity of problems like constructing a quantum state or implementing a unitary transformation</font> compared to that of computing boolean functions.**\n",
        "  * We prove upper bounds on the complexity of constructing arbitrary states and implementing arbitrary unitaries with the help of a classical oracle.\n",
        "* Paper: [Distributed Merlin-Arthur Synthesis of Quantum States and Its Applications](https://arxiv.org/abs/2210.01389)\n",
        "\n",
        "\n",
        "\n"
      ],
      "metadata": {
        "id": "OP_DGkDbQ3JV"
      }
    },
    {
      "cell_type": "markdown",
      "source": [
        "<font color=\"blue\">**Bounds on Implementing Algorithms**</font>\n",
        "\n",
        "**Complexity of Implementing Shor's algorithms**\n",
        "\n",
        "* Video: [How to factor 2048 bit RSA integers in 8 hours using 20 million noisy qubits](https://www.youtube.com/watch?v=upTipX9yXNg)\n",
        "* use of windowed arithmetic and other approaches to bring down physical cost\n",
        "  * In classical computing, windowed arithmetic is often used in algorithms like CRC parity checks or modular exponentiation. The idea is to precompute a table of values for different combinations of input bits, and then use those values as a lookup table during the calculation. This can significantly reduce the number of operations needed, at the cost of using more memory to store the lookup table.\n",
        "  * In quantum computing, windowed arithmetic is applied to reduce the number of quantum gates required in a circuit. It involves using smaller lookup tables to control multiple qubits at once, rather than controlling each qubit individually. This optimization technique can help to improve the efficiency and accuracy of quantum algorithms, especially those involving complex arithmetic operations.\n",
        "\n",
        "\n",
        "**Complexity of scaling of backpropagation**\n",
        "\n",
        "* https://arxiv.org/abs/2305.13362, On quantum backpropagation, information reuse, and cheating measurement collapse\n",
        "\n",
        "* https://arxiv.org/abs/2306.14962, Backpropagation scaling in parameterised quantum circuits\n",
        "\n"
      ],
      "metadata": {
        "id": "b3rMuag9Nzeu"
      }
    },
    {
      "cell_type": "markdown",
      "source": [
        "<font color=\"blue\">**Bounds on Implementing Random Circuits**</font>\n",
        "\n",
        "**Complexity in random quantum circuits**\n",
        "\n",
        "* $\\checkmark$ Paper: [Linear growth of quantum circuit complexity](https://arxiv.org/abs/2106.05305) (arXiv:2106.05305):\n",
        "  * Consider constructing deeper and deeper circuits for an n-qubit system, by applying random two-qubit gates. **At what rate does the circuit complexity increase?**.\n",
        "  * Growth of complexity in random quantum circuits: complexity increases linearly with time until it reaches an exponential scale relative to the number of qubits.\n",
        "  * It directly addresses a conjecture by Brown and Susskind concerning the **difficulty of constructing a unitary operation from a set of simpler gates in a quantum circuit**.\n",
        "* $\\checkmark$ Video: [Linear Growth of Quantum Circuit Complexity | Seminar Series with Nicole Yunger Halpern](https://www.youtube.com/watch?v=maT-dget9uM&list=WL&index=5&t=826s)\n",
        "  * Lightcone in qubits\n",
        "* Video: [QIP 2022: Linear Growth of Quantum Complexity](https://youtu.be/xUztt0MPPNw?feature=shared)\n",
        "\n",
        "\n",
        "* Problems that are too hard even for quantum computers. Many problems in chemistry.\n",
        "\n",
        "* No fast forward theory in chemistry (you can't simulate a quantum system faster than time evolves it). Except sampling can provide speedup.\n",
        "  * As a newbie to Quantum, I was reading some of the articles and ran into a no-fast-forwarding theorem, which is described \"Simulating the dynamics of a quantum system for time T typically requires Ω(T) gates so that a generic Hamiltonian evolution cannot be achieved in sublinear time. This result is known as the “no fast-forwarding theorem”, and holds both for a typical unknown Hamiltonian and for the query model setting\"\n",
        "  * Does this mean that \"there won't be any shorter-time algorithm than the required T? I don't think I fully appreciate the implication or practical meaning of this.\n",
        "  * There may be special classes of Hamiltonians that can be simulated by shorter time algorithms. For example, see this paper: [Fast-forwarding of Hamiltonians and Exponentially Precise Measurements](https://arxiv.org/abs/1610.09619). But, as this paper proves, if all generic physically realizable Hamiltonians can be fast-forwarded, then BQP=PSPACE, which is thought to be highly unlikely\n",
        "\n",
        "* *Paper: [Models of Quantum Complexity Growth](https://journals.aps.org/prxquantum/abstract/10.1103/PRXQuantum.2.030316)*\n",
        "  * quantum complexity of a **unitary transformation or quantum state** is defined as the size of the **shortest quantum computation that executes the unitary or prepares the state**.\n",
        "  * reasonable to expect that the **complexity of a quantum state governed by a chaotic many-body Hamiltonian** grows **linearly with time for a time that is exponential** in the system size;\n",
        "  * however, because it is **hard to rule out a shortcut that improves the efficiency** of a computation, it is notoriously **difficult to derive lower bounds on quantum complexity** for particular unitaries or states without making additional assumptions.\n",
        "\n",
        "* *Paper: [Complexity of quantum circuits via sensitivity, magic, and coherence](https://arxiv.org/abs/2204.12051)*\n",
        "  * A central problem in the field of quantum information and computation is to compute the complexity required to implement a target unitary operation U .\n",
        "    * One usually defines this to be the **minimum number of basic gates needed to synthesize U** from some initial fiducial state [1–3].\n",
        "    * To determine the so-called quantum circuit complexity of a given unitary operation, a closely related concept, called the circuit cost, was proposed and investigated in a series of seminal papers by Nielsen et al. [4–7].\n",
        "    * Surprisingly, the <font color=\"blue\">**circuit cost, defined as the minimal geodesic distance between the target unitary operation and the identity operation in some curved geometry**</font>, was shown to provide a useful lower bound for the quantum circuit complexity [5, 6].\n",
        "  * Quantum circuit complexity, and circuit cost important high-energy physics [8–12].\n",
        "    * <font color=\"blue\">**its evolution was found to exhibit identical patterns to how the geometry hidden inside black hole horizons evolves.**</font>\n",
        "    * Further studies have also investigated the circuit complexity in the context of quantum field theories [13–15], including conformal field theory [16, 17] and topological quantum field theory [18].\n",
        "    * Recently, Brown and Susskind argue that the prop- erty of possessing less-than-maximal entropy, or uncomplexity, could be thought of as a resource for quantum computation [8]. This was supported by Yunger Halpern et al. who present a resource theory of quantum uncomplexity [19].\n",
        "    * Furthermore, a connection between quantum entanglement and quantum circuit com- plexity was revealed by Eisert, who proved that the entangling power of a unitary transformation provides a lower bound for its circuit cost [20]"
      ],
      "metadata": {
        "id": "8uriwXvdN51K"
      }
    },
    {
      "cell_type": "markdown",
      "source": [
        "##### <font color=\"blue\">*Black Hole Complexity*"
      ],
      "metadata": {
        "id": "-XETjaz7OtLY"
      }
    },
    {
      "cell_type": "markdown",
      "source": [
        "> <font color=\"orange\">**Foundations**</font>\n",
        "\n",
        "<font color=\"blue\">**Black Hole Thermodynamics (Bekenstein-Hawking formula)**</font>:\n",
        "* Entropy of a black hole, given by the Bekenstein-Hawking formula, is proportional to the area of its event horizon.\n",
        "* This entropy can be related to the number of microstates and thus to the complexity of the black hole state.\n",
        "\n",
        "<font color=\"blue\">**Holographic Principle**</font>:\n",
        "* description of a volume of space can be encoded on its boundary, connecting quantum information theory with gravitational theories. $\\rightarrow$ Quantum circuit complexity of black hole can be studied by studying quantum circuit complexity of its boundary.\n",
        "* **The physics of gravity in a certain region of spacetime can be encoded in a lower-dimensional theory on the boundary of that region**\n",
        "\n",
        "<font color=\"blue\">**AdS/CFT correspondence**</font>:\n",
        "* certain gravitational systems (in AdS space) are equivalent to quantum field theories without gravity on the boundary of that space. $\\rightarrow$ Quantum circuit complexity of black hole in AdS spacetime can be studied by studying the quantum circuit complexity of CFT on boundary of AdS spacetime.\n",
        "* You can simulate gravity possibly on a standard QCs: “Even if a quantum gravity theory seems ‘wild’—even if it involves nonlocality, wormholes, and other exotica—there might be a dual description of the theory that’s more ‘tame,’ and that’s more amenable to simulation by a quantum computer.” If we wanted to simulate quantum gravity phenomena in AdS space, we might be able to do so by first translating to the CFT side, then simulating the CFT on our quantum computer, and finally translating the results back to AdS. The key point here is that, since the CFT doesn’t involve gravity, the difficulties of simulating it on a quantum computer are “merely” the relatively prosaic difficulties of simulating quantum field theory on a quantum computer. -\n",
        "* For this to work, **the translation between the AdS and CFT descriptions also needs to be computationally efficient**—and it’s possible that there are situations where it isn’t.\n",
        "* This means: **nature seems computable** (Penrose disagrees seems): you can build the universe out of NAND gates, see 1:00:00 [Video](https://www.youtube.com/watch?v=nAMjv0NAESM&t=2240s) and **Black holes seems describable** - <font color=\"red\">but to answer the final answer - if universe and black holes describable and computable - we need a theory of quantum gravity, what we don't have!</font>\n",
        "\n",
        "<font color=\"blue\">**Kerr/CFT correspondence**</font>:\n",
        "* connects physics of rotating black holes (Kerr metric in GR) to a two-dimensional conformal field theory (CFT). An extension of AdS/CFT correspondence, which relates gravity in anti-de Sitter (AdS) spacetime to a CFT on boundary. Kerr/CFT is a specific example of the holographic principle.\n",
        "* Near-horizon limit: The correspondence focuses on the region near the horizon of an extremal Kerr black hole (one with maximal angular momentum). In this limit, the spacetime geometry simplifies, revealing a hidden conformal symmetry.\n",
        "* Dual CFT: This hidden conformal symmetry suggests that the physics near the horizon of the black hole can be described by a dual CFT. The CFT lives on a two-dimensional cylinder that surrounds the black hole, and its properties are related to the properties of the black hole itself.\n",
        "* Entropy matching: One of the key successes of Kerr/CFT is its ability to reproduce the Bekenstein-Hawking entropy of extremal Kerr black holes. This provides strong evidence for the validity of the correspondence.\n",
        "* new perspective on quantum gravity in the near-horizon region of black holes. It suggests that the underlying theory of quantum gravity might be fundamentally connected to conformal field theory.\n",
        "\n",
        "<font color=\"blue\">**ER=EPR conjecture**</font>:\n",
        "* entangled particles are connected by wormholes (Einstein-Rosen bridges). Suggests deep connections between quantum entanglement, space-time geometry, and quantum circuit complexity.\n",
        "\n",
        "<font color=\"blue\">**Hawking Radiation (1970)**</font>:\n",
        "* What happens to quantum information dropped into a black hole? Black holes radiate, photons slowly come out, takes long $10^{76}$ years for black holes of size of the sun.\n",
        "* Output is thermal / uncorrelated what came in, so information is gone. That contradicts quantum mechanics. But if there's also a copy inside the black hole, this violates **No-Cloning Theorem**.\n",
        "\n",
        "<font color=\"blue\">**Black Hole Complementarity (modern view) 1990**</font>: (Leonard Susskind and Gerard 't Hooft ).\n",
        "* Inside is not a different state than outside, inside is just a \"re-encoding\" of exterior, so no cloning is needed to have (y) in both places. Jumping into a black hole is just a weird way of measuring the same quantum information that you could have measured if you had stayed outside the black hole.\n",
        "* No contradiction between perspectives: The experiences of an observer falling into a black hole (the \"interior\" perspective) and an observer outside the black hole (the \"exterior\" perspective) are complementary. They provide different but equally valid descriptions of the same physical reality.\n",
        "* Information preservation: The information that falls into a black hole is not truly lost. Instead, it is encoded in the outgoing Hawking radiation, albeit in a scrambled and highly complex form. The radiation that escapes over time carries away all the information that was initially trapped within the black hole.\n",
        "\n",
        "<font color=\"blue\">**Firewall Paradox (2012)**</font>. (AMPS firewall, after its authors, Almheiri, Marolf, Polchinski, and Sully):\n",
        "* Challenges Black Hole Complementarity: proposes a radical scenario where the event horizon of an old black hole, one that has already emitted half of its Hawking radiation, becomes a fiery \"firewall\" of high-energy particles.\n",
        "* Qubit coming out of black hole cannot be entangled with a qubit inside the blackhole. But Hawking said if you want to see a smooth geometry of spacetime at the event horizon, the qubits need to be entangled. (In QFT, the spacetime is built up of a huge amount of local entanglement. No entanglement = no smooth spacetime, which means space and time end at the event horizon = the firewall). But this end of spacetime is at the singularity, not at the event horizon already).\n",
        "* **Entanglement problem**: The authors argue that the late Hawking radiation emitted by an old black hole must be entangled with both the early Hawking radiation and the interior of the black hole. This creates a conflict with the principle of monogamy of entanglement, which states that a quantum system cannot be fully entangled with two independent systems simultaneously.\n",
        "* **Firewall solution**: To resolve this entanglement conflict, AMPS propose that the event horizon transforms into a firewall. This fiery wall of particles would break the entanglement between the late Hawking radiation and the black hole interior, thus preserving monogamy of entanglement.\n",
        "* **Violating complementarity**: However, the existence of a firewall contradicts the fundamental principle of black hole complementarity. An observer falling into the black hole would encounter a drastically different experience than what is predicted by the smooth, continuous spacetime of general relativity.\n",
        "* Consequences of the Firewall Paradox:\n",
        "  * **Breakdown of complementarity**: If firewalls exist, it would mean that the smooth, continuous spacetime described by general relativity breaks down at the event horizon. This would have profound implications for our understanding of gravity and the nature of spacetime itself.\n",
        "  * **Information paradox unresolved**: Even with a firewall, the paradox of information loss in black holes might not be fully resolved. It's unclear whether a firewall can truly preserve all the information that falls into a black hole.\n",
        "  * **Challenges to quantum field theory**: The firewall proposal raises questions about the validity of quantum field theory in curved spacetime. It suggests that our current understanding of quantum physics might be incomplete in the extreme gravitational environment of a black hole.\n",
        "\n",
        "\n"
      ],
      "metadata": {
        "id": "DpTVZsyijT5g"
      }
    },
    {
      "cell_type": "markdown",
      "source": [
        "> <font color=\"orange\">**COMPLEXITY-RELATED CONJECTURES**</font>\n",
        "\n",
        "<font color=\"blue\">**Complexity = Geometry (Efficient Quantum Circuit and Computational Complexity from Geometry & Gravity)**</font>\n",
        "* **Conjecture**: finding optimal quantum circuits is essentially equivalent to finding the shortest path between two points in a certain curved (geodesic) geometry. Using holography and Anti-de Sitter/conformal field theories, we have been learning that gravity is intimately related to quantum information.\n",
        "* **Deep connection with quantum circuit complexity** = cost of implementing a circuit or preparing a quantum state! circuit cost, defined as the minimal geodesic distance between the target unitary operation and the identity operation in some curved geometry, was shown to provide a useful lower bound for the quantum circuit complexity\n",
        "* Paper 2005: [A geometric approach to quantum circuit lower bounds (Michael Nielsen)](https://arxiv.org/abs/quant-ph/0502070)\n",
        "* Paper 2006: [Quantum Computation as Geometry](https://arxiv.org/abs/quant-ph/0603161)\n",
        "* Paper 2006: [The geometry of quantum computation](https://arxiv.org/abs/quant-ph/0701004)\n",
        "* Follow up papers:\n",
        "  * [Quantum Computation as Gravity](https://arxiv.org/abs/1807.04422) and [Optimal quantum computation linked to gravity](https://phys.org/news/2019-06-optimal-quantum-linked-gravity.html). Gravity may also teach us how to perform quantum computation in physical systems in the most efficient way\n",
        "  * Paper [Linear growth of quantum circuit complexity](https://arxiv.org/abs/2106.05305) (Jens Eisert)\n",
        "  * $\\checkmark$ Video: [Linear Growth of Quantum Circuit Complexity (Nicole Yunger Halpern)](https://www.youtube.com/watch?v=maT-dget9uM)\n",
        "  * Video: [Linear Growth of Quantum Circuit Complexity](https://www.youtube.com/watch?v=McfxzoMw1Ig) (Jens Eisert)\n",
        "\n",
        "<font color=\"blue\">**Complexity = Volume (Black Holes and Second Law of Quantum Circuit Complexity)**\n",
        "* **Conjecture**: <font color=\"red\">Complexity = Volume</font>. Complexity in Black Holes grow linearly for an exponentially long time. ( A fundamental issue in the AdS/CFT correspondence is the wormhole growth paradox. Susskind equates volume of wormhole with circuit complexity of its dual quantum state in the CFT.) Black hole entropy is proportional to the quantum circuit complexity of the state that is encoded on the black hole's event horizon. Relationship between black hole entropy and quantum circuit complexity can be used to derive the laws of thermodynamics for black holes.\n",
        "* Quantum circuit complexity can be thought of as a geodesic distance in a certain abstract space. In chaotic systems, this geodesic distance grows linearly because the system explores this abstract space in a manner akin to a random walk, where each step (time increment) adds a consistent amount of distance (complexity).\n",
        "* The linear growth of computational complexity indicates a steady, additive increase in the resources needed to describe the state rather than an exponential one. This linearity is often observed until the system reaches a point where the **complexity saturates due to physical constraints (like maximum entanglement or finite system size).**\n",
        "* Quantum complexity is the holographic dual for a wormhole's length (or whatever grows linearly in AdS). Wormhole volume and the quantum complexity as dual to each other (min 40 in video). The volume of the interior of a black hole is the complexity of its quantum state. It grows with time as $V(E)$. Most states possess near max complexity $N^2$. **Measuring complexity is often exponentially hard (=meta complexity statement)**. From video [How Quantum Complexity Found Its Way into Black Hole Physics](https://www.youtube.com/live/Ayp1yFAFoKQ?si=T_xRZMckvac84S_p)\n",
        "* Simulation of Quantum Systems: Understanding the linear growth of complexity in chaotic systems helps in **predicting the resources required for simulating such systems on quantum computers**\n",
        "* Paper 2014: [Entanglement is not Enough (Leonard Susskind)](https://arxiv.org/abs/1411.0690)\n",
        "* Paper 2014: [Computational Complexity and Black Hole Horizons (Leonard Susskind)](https://arxiv.org/abs/1402.5674)\n",
        "* Paper 2017: [The Second Law of Quantum Complexity (Adam Brown, Leonard Susskind)](https://arxiv.org/abs/1701.01107)\n",
        "* $\\checkmark$ Quanta: [In New Paradox, Black Holes Appear to Evade Heat Death](https://www.quantamagazine.org/in-new-paradox-black-holes-appear-to-evade-heat-death-20230606)\n",
        "* $\\checkmark$ Video: [Can a New Law of Physics Explain a Black Hole Paradox?](https://www.youtube.com/watch?v=yLOHdW7dLug&list=PLBn8lN0DcvpkjulnKfyCmgO5SWzRxrRFq)\n",
        "* $\\checkmark$ Video: [Quantum Complexity Inside Black Holes | Leonard Susskind](https://www.youtube.com/watch?v=FpSriHE1r4E&list=WL&index=6)\n",
        "* $\\checkmark$ Video: [Black Holes and the Quantum-Extended Church-Turing Thesis (Leonard Susskind)](https://www.youtube.com/live/1CpzigpEJnU?si=C5mB8zppTHXU8XO7)\n",
        "* 💡 Paper: [Quantum Computational Complexity -- From Quantum Information to Black Holes and Back](https://arxiv.org/abs/2110.14672)\n",
        "* 💡 Paper: [What is complexity in particle physics?](https://www.aei.mpg.de/120719/what-is-complexity-in-particle-physics)\n",
        "* Details about the Second Law of Quantum Complexity\n",
        "  * One of the most important aspects of black holes is their entropy. Black hole entropy is a measure of the number of possible microstates that a black hole can be in. Susskind. proposed that black hole entropy is related to complexity of information that is encoded on the black hole's event horizon:\n",
        "    * Black hole entropy is proportional to the area of the black hole's event horizon.\n",
        "    * The area of the black hole's event horizon is proportional to the number of bits of information that can be encoded on the event horizon.\n",
        "    * Therefore, black hole entropy is proportional to the complexity of the information that is encoded on the black hole's event horizon.\n",
        "  * **Susskind's argument suggests that black holes may be able to store and process information in a very efficient way. This could lead to new insights into the nature of information and the laws of physics.**\n",
        "  * **Complexity grows linearly and then stops growing**\n",
        "  - Black hole: from outside in thermal equilibrium, but inside it still grows linearly with time towards the singularity (see penrose diagram) - quantum (circuit) complexity growing? - number of gates, grows until it's constant.\n",
        "  - Computational complexity of black holes?\n",
        "  - Two quantum states: how complex is it to distinguish them? (Metacomplexity / complexiy of complexity)\n",
        "  - Quantum extended chruch turing thesis. Quantum gravity extended church turing thesis QGECTT applies to observers outside the black hole. Information inside black hole can be read for someone inside, but cannot be sent outside, which protects the QGECTT (reading from outside would / gaining information which would violate thesis)\n",
        "  - New complexity class: JI/poly (jumping in)\n",
        "  * Different versions of Circuit complexity: with and without ancilla qubits\n",
        "  * Geofffrey Penington: 3SAT solvable by jumping in a black hole?\n",
        "  * Edward Witten: Gravity doesn‘t let us do something, that we can‘t do without gravity.\n",
        "  * Scott Aaronson: Is there some analog for fault tolerance for gravitational or black hole computing?\n",
        "* Follow up papers:\n",
        "  * [Computational pseudorandomness, the wormhole growth paradox, and constraints on the AdS/CFT duality](https://arxiv.org/abs/1910.14646) Adam Bouland, Bill Fefferman, Umesh Vazirani study the ramifications of Susskind's conjecture from a complexity-theoretic perspective.\n",
        "  * Video: [Black Holes and the Quantum-Extended Church-Turing Thesis (Susskind)](https://www.youtube.com/watch?v=1CpzigpEJnU)\n",
        "  * Video: [Pseudorandomness and the AdS/CFT Correspondence - Adam Bouland](https://www.youtube.com/watch?v=WQ25Srp1zJI)\n",
        "  * [The Complexity of Quantum States and Transformations: From Quantum Money to Black Holes](https://arxiv.org/abs/1607.05256) (Scott Aaronson) and [The event horizon’s involved, but the singularity is committed](https://scottaaronson.blog/?p=213)\n",
        "  * Video: [Virtual Seminar: Shira Chapman \"On the Complexity of Black Holes\"](https://www.youtube.com/watch?v=G_YdsmH6SBE)\n",
        "\n",
        "<font color=\"blue\">**Complexity = Action (Fastest Scramblers, Produce Complexity Fastest)**</font>\n",
        "* **Conjecture 1: Complexity Equals Action (CA duality)**: Complexity = Action (CA duality) suggests that the complexity of a quantum state on the boundary of a spacetime is equal to the gravitational action of a certain region of that spacetime (the \"**Wheeler-DeWitt patch**\").\n",
        "  * Paper 2015: [Complexity Equals Action](https://arxiv.org/abs/1509.07876) (Adam R. Brown, Daniel A. Roberts, Leonard Susskind, Brian Swingle, Ying Zhao).\n",
        "  * Wiki: [Complexity equals action duality (CA-duality)](https://en.m.wikipedia.org/wiki/CA-duality)\n",
        "* **Conjecture 2: Black Holes produce complexity fastest** (Hartman et al.): BH can rapidly transform a simple quantum state into a highly complex one. Gravitational action of any semiclassical state with an asymptotically anti-de Sitter background corresponds to quantum computational complexity. The rate of complexity growth in a black hole is conjectured to be proportional to its temperature.\n",
        "  * Paper 2016: [Black Holes Produce Complexity Fastest (Thomas Hartman)](https://physics.aps.org/articles/v9/49)\n",
        "* **Conjecture 3: Black Holes are fastest scramblers**: Black holes are excellent scramblers because their strong gravitational fields chaotically mix information that falls into them. The CA duality and the hypothesis of Hartman et al. provide a quantitative framework for understanding the scrambling power of black holes. They suggest that ***black holes not only scramble information quickly but also generate complexity at the maximum possible rate allowed by the laws of physics***.\n",
        "  * When information falls into a black hole, it doesn't get destroyed (principle of quantum information conservation). Instead, scrambled: information is spread across the event horizon of black hole in a highly mixed state\n",
        "  * Fastest scramblers: idea comes from holographic principle in string theory, where time it takes for information to scramble in a black hole is related to its size. The larger the black hole, the faster it scrambles information.\n",
        "  * Suggests a deep connection between gravity (black holes) and quantum mechanics (information theory).\n",
        "  * Scrambling is important for information recovery: recovering quantum information falling into a black hole is possible if the information is scrambled rapidly inside the black hole.\n",
        "  * **The more thoroughly it is mixed throughout the black hole, the more reliably the information can be retrieved via teleportation.**\n",
        "  * His group implemented the protocol proposed by Yoshida and Yao and effectively measured an **out-of-time-ordered correlation function OTOCs**. These peculiar correlation functions are created by comparing two quantum states that differ in the timing of when certain kicks or perturbations are applied.\n",
        "  * OTOCs are tools used to measure how quickly information scrambles or spreads in a system. They're applied to study quantum chaos and are showing promise in understanding black hole dynamics.\n",
        "  * can be used in quantum computers to detect more complicated noise. “One possible application for our protocol is related to the benchmarking of quantum computers, where one might be able to use this technique to diagnose more complicated forms of noise and decoherence in quantum processors,” Yao said. “The ability to diagnose how noise affects quantum simulations is key to building better fault-tolerant algorithms and getting accurate answers from current noisy quantum computers.”\n",
        "  * **the fact that we can relate it to cosmology is because we believe the dynamics of quantum information is the same - nderstanding the dynamics of quantum information connects many areas of research within this initiative: quantum circuits and computing, high energy physics, black hole dynamics, condensed matter physics and atomic, molecular and optical physics. The language of quantum information has become pervasive for our understanding of all these different systems.**\n",
        "  * but: OTOCs do not generally discriminate between quantum scrambling and ordinary decoherence. https://www.nature.com/articles/s41586-019-0952-6\n",
        "  * https://news.berkeley.edu/2019/03/06/can-entangled-qubits-be-used-to-probe-black-holes\n",
        "  * Interestingly: Chemie vernichtet Information fast so schnell wie schwarze Löcher (Quantenmixer) [Spektrum](https://www.spektrum.de/news/chemie-vernichtet-information-fast-so-schnell-wie-schwarze-loecher/2213490) und [PNAS](https://www.pnas.org/doi/10.1073/pnas.2321668121)\n",
        "  * $\\checkmark$ Video: [Peter Shor - Scrambling Time and black holes (black holes as fastest scramblers)](https://www.youtube.com/watch?v=GPz8iCzlMTY)\n",
        "\n",
        "* **Quantum Chaos (and Level Repulsion)**: scrambling effect is also associated with chaos theory in physics, where small changes in initial conditions can lead to vastly different outcomes. In black hole, scrambling of information is an ultimate form of chaotic behavior.\n",
        "* Quantum circuit complexity can be thought of as a geodesic distance in a certain abstract space. In chaotic systems, this geodesic distance grows linearly because the system explores this abstract space in a manner akin to a random walk, where each step (time increment) adds a consistent amount of distance (complexity).\n",
        "  * Quantum chaos may help resolve information loss paradox: offers possible mechanisms on how information could be 'hidden' within seemingly random features on the event horizon and potentially retrieved through subtle effects associated with Hawking radiation.\n",
        "  * **Spectral Statistics:** Researchers examine the statistics of energy levels in systems related to black holes, looking for signatures of quantum chaos with features like 'level repulsion'.\n",
        "    * **Energy Levels:** In chaotic classical systems, the energy levels tend to be more irregular and bunched up. Similar patterns can be found in the energy levels of certain quantum systems.\n",
        "    * **Wavefunctions:** Instead of chaotic trajectories like in classical systems, we look at quantum wavefunctions. Wavefunctions of chaotic quantum systems tend to be highly irregular and spread out.\n",
        "    * **Level Repulsion:**  In chaotic quantum systems, energy levels tend to \"repel\" each other, in contrast to more predictable, evenly spaced levels seen in regular quantum systems.\n",
        "  * Video: [Quantum learning for quantum chaos](https://www.youtube.com/watch?v=d1iZ-ov5QOI&list=WL&index=9&t=163s)\n",
        "  * Wiki: [Quantum Chaos](https://en.m.wikipedia.org/wiki/Quantum_chaos)\n",
        "\n"
      ],
      "metadata": {
        "id": "za9jaEzbHJyt"
      }
    },
    {
      "cell_type": "markdown",
      "source": [
        "> <font color=\"orange\">**EMERGENCE-RELATED CONJECTURES**</font>\n",
        "\n",
        "<font color=\"blue\">**Spacetime emerges from Quantum Entanglement (AdS/CFT)**</font>\n",
        "* **Conjecture**: spacetime as emergent from quantum entanglement. Relates entanglement entropy - a quantity characterizing quantum correlations between two regions in conformal field theory (CFT) - and areas of minimal surfaces in asymptotically anti-de Sitter (AdS) spaces.\n",
        "* Paper 2009: [Holographic Entanglement Entropy: An Overview (Tatsuma Nishioka, Shinsei Ryu, Tadashi Takayanagi)](https://arxiv.org/abs/0905.0932)\n",
        "* Paper 2013: [Generalized gravitational entropy (Aitor Lewkowycz, Juan Maldacena)](https://arxiv.org/abs/1304.4926)\n",
        "\n",
        "<font color=\"blue\">**Spacetime emerges from Quantum Error Correction**</font>\n",
        "* **Conjecture**: Fabric of Spacetime geometry emerges from quantum error correction. Presence of black hole is breakdown of correctability (there are so many errors that you can no longer keep track)\n",
        "* The idea is that the way information is encoded on a black hole's surface (its event horizon) might be analogous to how information is protected in a quantum error-correcting code. This means that the fabric of space-time itself could be understood as a quantum error-correcting code, which is a radical and exciting concept blending quantum mechanics, general relativity, and quantum computing.\n",
        "* Paper 2014: [Bulk Locality and Quantum Error Correction in AdS/CFT (Ahmed Almheiri, Xi Dong, Daniel Harlow)](https://arxiv.org/abs/1411.7041)\n",
        "* Quanta: [How Space and Time Could Be a Quantum Error-Correcting Code](https://www.quantamagazine.org/how-space-and-time-could-be-a-quantum-error-correcting-code-20190103/)\n",
        "* Quanta: [Never-Repeating Tiles Can Safeguard Quantum Information](https://www.quantamagazine.org/never-repeating-tiles-can-safeguard-quantum-information-20240223/). Two researchers have proved that Penrose tilings, famous patterns that never repeat, are mathematically equivalent to a kind of quantum error correction.\n",
        "* Video: [Black holes and quantum error correction](https://youtu.be/mMsd--91V4o?si=XQFpY8uG9dyLam-T)\n",
        "* 💡 Video: [Erik Verlinde \"Emergence of Gravity from Quantum Information: a Progress Report\"](https://youtu.be/rj6-bq55ccQ?si=6BYQNujmWt4nCe9V)"
      ],
      "metadata": {
        "id": "eARjruB2jCLN"
      }
    },
    {
      "cell_type": "markdown",
      "source": [
        "> <font color=\"orange\">**BLACK HOLES AS COMPUTERS**</font>\n",
        "\n",
        "<font color=\"blue\">**Black Holes as Quantum Computers**\n",
        "* **Conjecture**: Black holes are believed to be most efficient quantum computers naturally existing in our universe. Black Holes Surface and Quantum Error Correction: AdS/CFT.\n",
        "* “One day, we may even be able to use rotating black holes as quantum computers by sending [X-ray] photons on the right trajectory around these ghostly astronomical bodies.” Additionally, scientists believe that simulation of unusual states of matter will be an important early application of quantum computing, and there are few more unusual states of matter than those found in the vicinity of black holes. https://phys.org/news/2017-11-black-holes-spacetime-quantum.amp\n",
        "* The entire universe is \"running\" as a black hole hole computer: https://twitter.com/Andercot/status/1741837072632332649\n",
        "* Video: [From black holes to quantum computing (Marika Taylor)](https://youtu.be/861coSFLOvk?t=2958)\n",
        "* Scott Aaronson: Solve undecidable problems in black holes\n",
        "* Paper max planck, alien ciovilations\n",
        "* Paper Seth Lloyd: Black Hole Quantum computer (2004): howe many operations can you perform with stuff falling into the black hole?\n",
        "* Black holes are not different to ordinary rindler space\n",
        "* Video: [Quantum Black Holes: a Status Report | Steve Giddings](https://www.youtube.com/watch?v=eVjbL1wOMOU)\n",
        "* Video: [Causality and closed time like curves - 1](https://www.youtube.com/watch?v=MzAvr8Zau8Q)\n",
        "* Video: [Geoffrey Penington (UC Berkeley): Black Holes and Quantum Computers](https://www.youtube.com/watch?v=FtpWt4MexMU&list=WL&index=4&t=1560s)\n",
        "\n",
        "<font color=\"blue\">**Black Holes as Quantum Encryption Device (+ QML)**</font>\n",
        "* **Conjecture:** Black hole as a quantum encryption device — something that takes in legible information (normal matter) and spits out what appears to be scrambled information (the radiation).\n",
        "  * one could imagine carrying out the AMPS experiment by using a **machine to unscramble the information — a machine like a quantum computer**. And with a key result from Aaronson’s doctoral thesis on the limits of quantum computation, they discovered something curious.\n",
        "  * A black hole pulverizes infalling matter so thoroughly that if an astronaut actually tasked a quantum computer with unscrambling the radiation, the task would take eons. It would take so long that the black hole would be long gone before the progress bar reached even a fraction of 1%. And by then, the astronaut wouldn’t be able to jump in to catch outside information moonlighting on the inside, because the inside wouldn’t exist.\n",
        "  * **Page Curve**: This theoretical curve describes how the entanglement entropy of Hawking radiation changes over time as a black hole evaporates. The new calculations show how the Page curve can be derived from the dynamics of quantum fields in curved spacetime, providing a crucial link between quantum mechanics and gravity.\n",
        "  * **Quantum Extremal Islands**: These are hypothetical regions within the black hole's interior that play a crucial role in preserving information. The calculations suggest that the entanglement between Hawking radiation and these islands allows information to escape the black hole without violating the principles of general relativity. Video: [Islands and Black Hole Information](https://youtu.be/ZCIho8geEfI?si=A9qrjmZ8qZaPy-11)\n",
        "  * **Path Integrals**: These mathematical tools are used to calculate the probabilities of different quantum processes. The physicists used path integrals to compute the entanglement entropy of Hawking radiation and to model the formation and evaporation of black holes. Video: [Information scrambling: a path-integral perspective](https://www.youtube.com/watch?v=oA9fMN8aWBQ&list=WL&index=2&t=415s)\n",
        "  * **all above from**: Quanta: [Quantum Complexity Shows How to Escape Hawking’s Black Hole Paradox](https://www.quantamagazine.org/new-calculations-show-how-to-escape-hawkings-black-hole-paradox-20230802/)\n",
        "  * Santa Barbara meeting: https://online.kitp.ucsb.edu/online/fuzzorfire_m13/\n",
        "  * https://www.quantamagazine.org/the-most-famous-paradox-in-physics-nears-its-end-20201029/\n",
        "  * https://arxiv.org/abs/2212.00194\n",
        "  * https://arxiv.org/abs/2304.12345\n",
        "  * https://arxiv.org/abs/2210.13476\n",
        "* One can use Quantum machine learning and Quantum Key Distribution. Recent theoretical developments, including the use of quantum error correction in the context of the holographic principle, suggest that information may indeed be recoverable in principle, although the exact mechanism remains unclear.\n",
        "* Quantum Machine Learning to unscramble information from Black Holes which are quantum encryption devices. Paper [Retrieving information from a black hole using quantum machine learning](https://journals.aps.org/pra/abstract/10.1103/PhysRevA.106.062434)\n",
        "* One could use Quantum Key distribution to recover information fallen into a black hole. e.g. Develop new methods (protocols) to extract information from entangled states in Hawking radiation that are more robust to interferences with QKD signals (QKD could be used to create and distribute entangled states. Interferences come from high energy particles or gravitational effects on polarization states of entangled photons)\n",
        "* 💡 Paper [Black holes and the loss landscape in machine learning](https://arxiv.org/pdf/2306.14817.pdf)\n",
        "* [What’s inside a black hole? U-M physicist uses quantum computing, machine learning to find out](https://news.umich.edu/whats-inside-a-black-hole-u-m-physicist-uses-quantum-computing-machine-learning-to-find-out/)\n"
      ],
      "metadata": {
        "id": "EUXapsi7i_cY"
      }
    },
    {
      "cell_type": "markdown",
      "source": [
        "##### <font color=\"blue\">*Algebraic Complexity (Minimizing Matrix Multiplication)*"
      ],
      "metadata": {
        "id": "_28YFiO4D-Lp"
      }
    },
    {
      "cell_type": "markdown",
      "source": [
        "<font color=\"blue\">**Algebraic Complexity Theory**\n",
        "\n",
        "* Computational complexity of algebraic problems: minimum number of arithmetic operations (addition, subtraction, multiplication, and division) needed to solve them. ACT analyzes the complexity of algorithms that can be expressed in terms of these fundamental arithmetic operations. This includes tasks like:\n",
        "  * **Polynomial evaluation**: Determining the value of a polynomial at a given point.\n",
        "  * **Matrix multiplication**: Calculating the product of two matrices.\n",
        "  * **Polynomial factorization**: Finding the irreducible factors of a polynomial.\n",
        "\n",
        "* [Algebraic Complexity Theory: Restrictions and **Complexity of matrix multiplication**](https://youtu.be/qKwvG-MQUvY?si=ZgASab1lldAN1nmK) - Ressource theory of Tensor Networks\n",
        "\n",
        "* Paper: [Algebraic complexity theory and matrix multiplication](https://arxiv.org/abs/1401.7714)\n",
        "\n",
        "* Paper: [On the complexity of the multiplication of matrices of small formats](https://www.sciencedirect.com/science/article/pii/S0885064X02000079?via%3Dihub)\n",
        "\n",
        "* Simons Foundation: [Algebraic Complexity Theory: Where the Abstract and the Practical Meet](https://www.simonsfoundation.org/2021/02/24/algebraic-complexity-theory-where-the-abstract-and-the-practical-meet/)\n",
        "\n",
        "* Book [Algebraic Complexity Theory](https://link.springer.com/book/10.1007/978-3-662-03338-8)\n",
        "\n",
        "* Algebraic Complexity Theory (ACT) is a branch of mathematics and theoretical computer science that studies the computational complexity of algebraic problems, primarily focusing on the minimum number of operations required to solve them.\n",
        "\n",
        "* Complexity theory is generally the study of algorithms, and the notion of an algorithm is mathematically not among the most accessible. In many cases however, we want to solve problems with an inherent mathematical structure, like multiplication of matrices. In algebraic complexity theory, we only look at very special classes of algorithms, those which have algebraic descriptions and interpretations. This way, stronger mathematical tools can be employed to answer computational questions. We give a short introduction to some of these algebraic models.\n",
        "\n",
        "**Key concepts and areas of study within ACT:**\n",
        "\n",
        "* **Arithmetic circuits:**  A fundamental model used in ACT to represent computations. An arithmetic circuit is a directed acyclic graph where nodes represent operations (addition, subtraction, multiplication, division) and edges represent the flow of intermediate results.\n",
        "* **Complexity measures:** ACT investigates various complexity measures for arithmetic circuits, such as size (number of nodes), depth (longest path from input to output), and formula size (for circuits with a tree-like structure).\n",
        "* **Lower bounds:** A major goal of ACT is to prove lower bounds on the complexity of specific problems, showing that there are no efficient algorithms (small circuits) for solving them.\n",
        "* **Algebraic varieties and geometric degree:** These concepts from algebraic geometry have been used to prove lower bounds in ACT, establishing connections between the complexity of a problem and the geometric properties of its solutions.\n",
        "* **Permanent versus Determinant:** A famous problem in ACT is the comparison of the complexity of computing the permanent and determinant of a matrix. While the determinant has efficient algorithms, it is believed that the permanent does not.\n",
        "\n",
        "**Applications of ACT:**\n",
        "\n",
        "* **Theoretical computer science:** ACT has implications for understanding the limitations of efficient computation and the complexity of various computational models.\n",
        "* **Cryptography:** The security of many cryptographic schemes relies on the hardness of certain algebraic problems, making ACT relevant for designing and analyzing secure systems.\n",
        "* **Optimization:**  Understanding the complexity of algebraic problems can help design efficient algorithms for optimization problems arising in various fields.\n",
        "\n",
        "**(Time) Complexity of 10 Most Popular ML Algorithms**\n",
        "\n",
        "> [Computational complexity of mathematical operations](https://en.m.wikipedia.org/wiki/Computational_complexity_of_mathematical_operations#Matrix_algebra)\n",
        "\n",
        "> [Computational complexity of matrix multiplication](https://en.m.wikipedia.org/wiki/Computational_complexity_of_matrix_multiplication)\n",
        "\n",
        "\n",
        "![ggg](https://raw.githubusercontent.com/deltorobarba/repo/master/sciences_1739.png)\n",
        "\n",
        "![ggg](https://raw.githubusercontent.com/deltorobarba/repo/master/sciences_1740.png)\n",
        "\n",
        "\n",
        "* https://www.quantamagazine.org/computer-scientists-discover-limits-of-major-research-algorithm-20210817/\n",
        "\n",
        "* https://www.quantamagazine.org/scientists-find-a-fast-way-to-describe-quantum-systems-20240501/\n",
        "\n",
        "* https://www.quantamagazine.org/thirty-years-later-a-speed-boost-for-quantum-factoring-20231017/\n",
        "\n",
        "* https://www.quantamagazine.org/machine-learning-aids-classical-modeling-of-quantum-systems-20230914/\n",
        "\n",
        "* https://www.quantamagazine.org/mathematicians-inch-closer-to-matrix-multiplication-goal-20210323/\n",
        "\n",
        "* https://www.quantamagazine.org/new-breakthrough-brings-matrix-multiplication-closer-to-ideal-20240307/\n",
        "\n",
        "* https://www.quantamagazine.org/researchers-approach-new-speed-limit-for-seminal-problem-20240129/\n",
        "\n",
        "* Video: [The Complexity of Dynamic Least-Squares Regression](https://www.youtube.com/watch?v=GLE3hjDRbQw) by Shunhua Jiang (Columbia University)\n",
        "\n",
        "* Video: [Fast Algorithms for Regression Problems](https://www.youtube.com/watch?v=FqLCImQNpeg)\n",
        "\n"
      ],
      "metadata": {
        "id": "HBGNGVN0BiUn"
      }
    },
    {
      "cell_type": "markdown",
      "source": [
        "**Why does the best bilinear algorithm for multiplying 3x3-matrices known so far uses 23 essential multiplications?**\n",
        "\n",
        "The problem of multiplying matrices, specifically 3x3 matrices, has been the subject of extensive research in an effort to find more efficient algorithms. Traditional matrix multiplication has a time complexity of $O(n^3)$ but more advanced methods seek to reduce this complexity by minimizing the number of scalar multiplications required. The best known bilinear algorithm for multiplying 3x3 matrices uses 23 essential multiplications, which is fewer than the 27 multiplications required by the straightforward method.\n",
        "\n",
        "*Why 23 Essential Multiplications?*\n",
        "\n",
        "1. **Bilinear Algorithms and Rank**:\n",
        " * Matrix multiplication can be viewed through the lens of bilinear forms. A bilinear algorithm represents the matrix multiplication $C = AB$ using a series of bilinear forms, which can be written as:\n",
        "\n",
        " > $\n",
        "   C_{ij} = \\sum_{k=1}^r u_i^k(A) v_j^k(B)\n",
        "   $\n",
        "\n",
        "  * Here, $u_i^k(A)$ and $v_j^k(B)$ are linear functions of the entries of $A$ and $B$, and $r$ is the rank of the bilinear form. The goal is to minimize $r$, the number of essential multiplications.\n",
        "\n",
        "2. **Algorithm Optimization**:\n",
        "   The optimization of matrix multiplication algorithms involves finding ways to decompose the multiplication process into fewer multiplications. Strassen's algorithm, for example, reduced the complexity for 2x2 matrices from 8 multiplications to 7.\n",
        "\n",
        "3. **23 Multiplications for 3x3 Matrices**:\n",
        "   The specific bilinear algorithm for 3x3 matrices that achieves multiplication with 23 essential multiplications is derived through intricate mathematical techniques, often involving tensor decomposition and deep insights into algebraic structures. These methods are complex and go beyond straightforward arithmetic, leveraging advanced linear algebra and optimization techniques.\n",
        "\n",
        "4. **Historical Development**:\n",
        "   Historically, the reduction from 27 multiplications (naive method) to 23 multiplications has been a gradual process, with improvements made by researchers who identified better decompositions and more efficient bilinear forms. The work by Laderman in 1976 showed it was possible to multiply 3x3 matrices with 23 multiplications, marking a significant improvement over previous methods.\n"
      ],
      "metadata": {
        "id": "M9qHJCeEiZPX"
      }
    },
    {
      "cell_type": "markdown",
      "source": [
        "**Wie genau funktioniert Strassen's algorithm?**\n",
        "\n",
        "Strassen's Algorithm ist ein Algorithmus zur Matrixmultiplikation, der eine geringere asymptotische Laufzeit als der Standardalgorithmus zur Matrixmultiplikation hat. Statt der üblichen \\( O(n^3) \\)-Zeit hat Strassen's Algorithmus eine Laufzeit von \\( O(n^{\\log_2 7}) \\approx O(n^{2.81}) \\). Dies wird durch eine rekursive Aufteilung der Matrizen erreicht, wobei durch clevere Berechnungen die Anzahl der benötigten Multiplikationen reduziert wird.\n",
        "\n",
        "Hier sind die grundlegenden Schritte von Strassen's Algorithmus:\n",
        "\n",
        "1. **Aufteilung der Matrizen:**\n",
        "   - Angenommen, wir haben zwei Matrizen \\( A \\) und \\( B \\) der Größe \\( 2^n \\times 2^n \\). Diese werden in vier gleich große Submatrizen aufgeteilt:\n",
        "     $\n",
        "     A = \\begin{pmatrix}\n",
        "     A_{11} & A_{12} \\\\\n",
        "     A_{21} & A_{22}\n",
        "     \\end{pmatrix},\n",
        "     B = \\begin{pmatrix}\n",
        "     B_{11} & B_{12} \\\\\n",
        "     B_{21} & B_{22}\n",
        "     \\end{pmatrix}\n",
        "     $\n",
        "   - Jede der Submatrizen \\( A_{ij} \\) und \\( B_{ij} \\) hat die Größe \\( 2^{n-1} \\times 2^{n-1} \\).\n",
        "\n",
        "2. **Berechnung der Zwischenprodukte:**\n",
        "   - Anstatt die Submatrizen direkt zu multiplizieren, berechnet Strassen sieben Zwischenprodukte \\( M_1 \\) bis \\( M_7 \\) wie folgt:\n",
        "     $\n",
        "     \\begin{align*}\n",
        "     M_1 &= (A_{11} + A_{22})(B_{11} + B_{22}) \\\\\n",
        "     M_2 &= (A_{21} + A_{22})B_{11} \\\\\n",
        "     M_3 &= A_{11}(B_{12} - B_{22}) \\\\\n",
        "     M_4 &= A_{22}(B_{21} - B_{11}) \\\\\n",
        "     M_5 &= (A_{11} + A_{12})B_{22} \\\\\n",
        "     M_6 &= (A_{21} - A_{11})(B_{11} + B_{12}) \\\\\n",
        "     M_7 &= (A_{12} - A_{22})(B_{21} + B_{22})\n",
        "     \\end{align*}\n",
        "     $\n",
        "\n",
        "3. **Kombination der Zwischenprodukte:**\n",
        "   - Aus den Zwischenprodukten werden die Submatrizen der Ergebnis-Matrix \\( C \\) wie folgt berechnet:\n",
        "     $\n",
        "     \\begin{align*}\n",
        "     C_{11} &= M_1 + M_4 - M_5 + M_7 \\\\\n",
        "     C_{12} &= M_3 + M_5 \\\\\n",
        "     C_{21} &= M_2 + M_4 \\\\\n",
        "     C_{22} &= M_1 - M_2 + M_3 + M_6\n",
        "     \\end{align*}\n",
        "     $\n",
        "\n",
        "4. **Rekursive Anwendung:**\n",
        "   - Der Algorithmus wird rekursiv auf die Submatrizen angewendet, bis die Basisfallgröße erreicht ist, bei der die Matrizen direkt multipliziert werden können (typischerweise bei sehr kleinen Matrizen, z.B. \\( 1 \\times 1 \\) oder \\( 2 \\times 2 \\)).\n",
        "\n",
        "Durch diese Vorgehensweise reduziert Strassen's Algorithmus die Anzahl der Multiplikationen von 8 (im Standardalgorithmus) auf 7 für jede Rekursionsstufe, was die asymptotische Laufzeit verbessert. **Der Trade-off besteht in einer Zunahme der Anzahl der Additionen und Subtraktionen**, aber insgesamt ist die Reduktion der Multiplikationen bei großen Matrizen von größerer Bedeutung."
      ],
      "metadata": {
        "id": "I-_WfWY9jQJj"
      }
    },
    {
      "cell_type": "markdown",
      "source": [
        "AlphaTensor hat in der Tat neue Algorithmen für die Matrixmultiplikation entdeckt, die weniger als 7 Multiplikationen für \\(2 \\times 2\\) Matrizen benötigen. Diese Entdeckung ist revolutionär, da sie die bisherigen Grenzen der Matrixmultiplikation weiter verschiebt. Hier ist ein detaillierterer Blick darauf, wie dieser Durchbruch möglich wurde und was er bedeutet:\n",
        "\n",
        "1. **Grundlagen der Matrixmultiplikation:**\n",
        "   - Eine einfache \\(2 \\times 2\\) Matrixmultiplikation umfasst normalerweise 8 Multiplikationen und 4 Additionen:\n",
        "     \\[\n",
        "     C = A \\cdot B \\implies \\begin{pmatrix}\n",
        "     C_{11} & C_{12} \\\\\n",
        "     C_{21} & C_{22}\n",
        "     \\end{pmatrix} = \\begin{pmatrix}\n",
        "     A_{11} & A_{12} \\\\\n",
        "     A_{21} & A_{22}\n",
        "     \\end{pmatrix} \\cdot \\begin{pmatrix}\n",
        "     B_{11} & B_{12} \\\\\n",
        "     B_{21} & B_{22}\n",
        "     \\end{pmatrix}\n",
        "     \\]\n",
        "   - Dies ergibt:\n",
        "     \\[\n",
        "     \\begin{align*}\n",
        "     C_{11} &= A_{11} \\cdot B_{11} + A_{12} \\cdot B_{21} \\\\\n",
        "     C_{12} &= A_{11} \\cdot B_{12} + A_{12} \\cdot B_{22} \\\\\n",
        "     C_{21} &= A_{21} \\cdot B_{11} + A_{22} \\cdot B_{21} \\\\\n",
        "     C_{22} &= A_{21} \\cdot B_{12} + A_{22} \\cdot B_{22}\n",
        "     \\end{align*}\n",
        "     \\]\n",
        "\n",
        "2. **Reduktion der Anzahl der Multiplikationen:**\n",
        "   - Strassen's Algorithmus reduziert die Anzahl der Multiplikationen auf 7, indem er die Matrizen in Submatrizen aufteilt und clever Zwischenprodukte berechnet.\n",
        "   - AlphaTensor geht einen Schritt weiter und findet Optimierungen, die weniger als 7 Multiplikationen erfordern.\n",
        "\n",
        "3. **Techniken von AlphaTensor:**\n",
        "   - **Reinforcement Learning**: Der Algorithmus verwendet Reinforcement Learning, um effizientere Multiplikationsstrategien zu entdecken. Er sucht nach neuen Wegen, um Matrixelemente zu kombinieren, die zu weniger Multiplikationen führen.\n",
        "   - **Tensor Factorization**: Eine Technik, die verwendet wird, um die Struktur der Matrizen besser auszunutzen und Redundanzen zu eliminieren.\n",
        "\n",
        "4. **Konkrete Schritte:**\n",
        "   - Die genauen Schritte, die AlphaTensor entdeckt hat, sind das Ergebnis komplexer Optimierungsprozesse und nicht einfach in wenigen Zeilen darstellbar. Es geht darum, neue arithmetische Identitäten zu finden, die effizienter sind als die bekannten Methoden.\n",
        "\n",
        "5. **Beispiele und Implementierungen:**\n",
        "   - Die spezifischen neuen Algorithmen, die AlphaTensor entdeckt hat, sind oft komplex und beinhalten eine neuartige Kombination von Additionen und Subtraktionen, die Multiplikationen reduzieren.\n",
        "   - Diese Algorithmen werden dann auf größere Matrizen angewendet, um die Gesamtzahl der Operationen weiter zu reduzieren.\n",
        "\n",
        "Hier ist ein abstraktes Beispiel für eine mögliche Reduktion, wobei die genauen Details sehr technisch sind:\n",
        "\n",
        "- Anstatt 7 Zwischenprodukte wie bei Strassen's Algorithmus könnten durch AlphaTensor möglicherweise neue Kombinationen von Matrixelementen entdeckt werden, die nur 6 Multiplikationen benötigen, indem spezielle arithmetische Identitäten genutzt werden.\n",
        "\n",
        "Das genaue mathematische Fundament hinter diesen Optimierungen ist komplex und oft durch maschinelles Lernen entdeckt worden, was zu sehr spezifischen und optimierten Algorithmen führt, die für bestimmte Matrixgrößen und -strukturen angepasst sind.\n",
        "\n",
        "Für eine tiefere technische Einsicht ist es empfehlenswert, die Veröffentlichungen und technischen Berichte von DeepMind zu AlphaTensor zu studieren, da sie die mathematischen Details und den Entdeckungsprozess detailliert beschreiben."
      ],
      "metadata": {
        "id": "vzIB0ElYkLpo"
      }
    },
    {
      "cell_type": "markdown",
      "source": [
        "### <font color=\"blue\">**Computational Complexity**"
      ],
      "metadata": {
        "id": "vLLaN6mPXKth"
      }
    },
    {
      "cell_type": "markdown",
      "source": [
        "##### <font color=\"blue\">*Computational Complexity*"
      ],
      "metadata": {
        "id": "efzpvSJocU3I"
      }
    },
    {
      "cell_type": "markdown",
      "source": [
        "> [**Computational complexity theory**](https://en.m.wikipedia.org/wiki/Computational_complexity_theory) = <u>**Is it possible to compute a function efficiently?**</u>\n",
        "\n",
        "* Read: [A Short History of Computational Complexity](https://www.uni-ulm.de/fileadmin/website_uni_ulm/iui.inst.190/Mitarbeiter/toran/beatcs/column80.pdf)\n",
        "\n",
        "* **Definition**: Computational complexity theory asks \"How efficiently can a problem be solved\"? (NP-complete, NP-hard, P problems, etc. on Turing machine). It studies the resources (time, space, etc.) required to solve different computational problems. For **Quantum Computing: understand the ultimate physical limits to computation**\n",
        "\n",
        "* **Origin**: Hartmanis and Stearns showed that computational problems have an inherent complexity, which can be quantified in terms of the number of steps needed on a simple model of a computer, the multi-tape Turing machine. efficient reductions... collapse in equivalent classes, to natural complexity classes. motion of reducability. [Yablonsky](https://en.m.wikipedia.org/wiki/Sergey_Yablonsky) one of first to raise issues of potentially **inherent unavoidability of brute force search for some problems**, precursor of P = NP problem\n",
        "\n",
        "* **Special - Quantum**: [Quantum circuit complexity](https://en.m.wikipedia.org/wiki/Quantum_complexity_theory): subfield of computational complexity theory that deals with complexity classes defined using quantum computers. Studies hardness of computational problems and relationship between complexity classes. Two important: BQP and QMA.\n",
        "\n",
        "* **Ausgangspunkt**: [Quantum many body problem](https://en.m.wikipedia.org/wiki/Many-body_problem): seems exponentially difficult for classical computers to simulate quantum systems ([Source](https://en.m.wikipedia.org/wiki/Quantum_threshold_theorem#Notes)). Quantum computers can simulate many Hamiltonians in [polynomial time with bounded errors](https://en.m.wikipedia.org/wiki/BQP) (BQP): chemical simulations, drug discovery, energy production, [climate modeling](https://en.m.wikipedia.org/wiki/Climate_model) and [FeMoco](https://en.m.wikipedia.org/wiki/FeMoco). [Finally, a Problem That Only Quantum Computers Will Ever Be Able to Solve](https://www.quantamagazine.org/finally-a-problem-that-only-quantum-computers-will-ever-be-able-to-solve-20180621/). **Iterative improvements in classical algorithm are not enough**. Quantum computing: an “easy” problem can be solved on QC in polynomial time is class BQP (Bounded-error Quantum Polynomial time), and a hard problem which can only be verified in polynomial time is class QMA (the playfully named [Quantum Merlin Arthur](https://en.m.wikipedia.org/wiki/QMA)).  Hope in field is that there is overlap between NP and BQP: a hard problem can be transformed into an easy one.\n",
        "\n",
        "* **Limitations**: [\"The Limits of Quantum Computers\"](https://www.scientificamerican.com/article/the-limits-of-quantum-computers/): Quantum computers may provide a massive speedup for problems in the BQP complexity class. Nothing more. They are no more powerful than a Turing machine (in terms of the problems that can be solved). [The_Limits_of_Quantum_Computers](https://www.cs.virginia.edu/~robins/The_Limits_of_Quantum_Computers.pdf). [How Big are Quantum States?](https://www.scottaaronson.com/democritus/lec13.html).\n",
        "\n",
        "\n",
        "* **Computational Problems**: Decision, Sampling, Counting, Verifying, Optimization, Function etc. [Decision Problems](https://en.m.wikipedia.org/wiki/Decision_problem) see also [Search Problem](https://en.m.wikipedia.org/wiki/Search_problem) wie PH oder RP, Sampling Problem wie RP oder Boson Sampling, Proof Verifier Problems wie P, IP oder MIP* = RE, [Counting Problems](https://en.m.wikipedia.org/wiki/Counting_problem_(complexity)), wie Sharp-P oder P#P.\n",
        "\n",
        "* **Further reading:**\n",
        "  * Wiki: [Quantum complexity theory](https://en.m.wikipedia.org/wiki/Quantum_complexity_theory). [Quantum_supremacy: Computational_complexity](https://en.m.wikipedia.org/wiki/Quantum_supremacy#Computational_complexity). [Computational_problem](https://en.m.wikipedia.org/wiki/Computational_problem).\n",
        "  * Five worlds of Hardness: [Which Computational Universe Do We Live In?](https://www.quantamagazine.org/which-computational-universe-do-we-live-in-20220418/)\n",
        "  * [A Short Guide to Hard Problems](https://www.quantamagazine.org/a-short-guide-to-hard-problems-20180716/). [A New Map Traces the Limits of Computation](https://www.quantamagazine.org/edit-distance-reveals-hard-computational-problems-20150929/).\n",
        "  * Diagonalization remains one of key tools in complexity theorists’ arsenal [Alan Turing and the Power of Negative Thinking](https://www.quantamagazine.org/alan-turing-and-the-power-of-negative-thinking-20230905/).\n",
        "  * $\\checkmark$ [Complexity Theory’s 50-Year Journey to the Limits of Knowledge](https://www.quantamagazine.org/complexity-theorys-50-year-journey-to-the-limits-of-knowledge-20230817/)\n",
        "  * $\\checkmark$ Video: [P vs. NP: The Biggest Puzzle in Computer Science](https://youtu.be/pQsdygaYcE4?si=XzMfa9noleP0BIxo)\n",
        "  * [Avi Wigderson, Complexity Theory Pioneer, Wins Turing Award](https://www.quantamagazine.org/avi-wigderson-complexity-theory-pioneer-wins-turing-award-20240410/)\n",
        "\n",
        "*Current state of quantum algorithms research*\n",
        "\n",
        "![sciences](https://raw.githubusercontent.com/deltorobarba/repo/master/sciences_1773.png)\n",
        "\n",
        "*Video: [Q2B23 SV | The Future of Quantum Supremacy Experiments | Scott Aaronson](https://www.youtube.com/watch?v=WWll3y_iBQU) and Video: [Circuit Conspiracies](https://www.youtube.com/watch?v=CEdN1tI3NDw). Proposed approach by Aaronson: If **peaked random circuits** were indistinguishable from random and easy to generate, we could immediately use them for verifiable NISQ quantum advantage: \"given as input a circuit C, is C random or peaked?\"*"
      ],
      "metadata": {
        "id": "E-jqmAnSXhmi"
      }
    },
    {
      "cell_type": "markdown",
      "source": [
        "<font color=\"blue\">**Computational Meta Complexity**</font>\n",
        "\n",
        "* [Meta-complexity](https://simons.berkeley.edu/programs/Meta-Complexity2023) (Example: Minimum Circuit Size Problem)\n",
        "\n",
        "* **Quantum Complexity**: Min number of quantum gates required to implement a quantum algorithm or to prepare a quantum state.\n",
        "\n",
        "* **Meta-Complexity**: Assessing how difficult it is to measure, estimate, or calculate the complexity of quantum algorithms and systems.\n",
        "  * The complexity of processes involved in evaluating or determining quantum complexity itself.\n",
        "  * It requires understanding algorithmic steps and resources needed to evaluate these steps.\n",
        "  * The complexity of determining the complexity of quantum complexity (meta-complexity) is generally high, often ranging from exponential to even harder complexity classes. Understanding and addressing these meta-complexity challenges is crucial for the advancement of quantum computing theory and practice.\n",
        "\n",
        "* <font color=\"red\">Determining the minimal circuit to implement a unitary operation or a quantum state is often computationally intensive and can be NP-hard.</font> Example: Finding the shortest quantum circuit that prepares a specific state.\n",
        "\n",
        "* Measuring complexity is often exponentially hard (=meta complexity statement), Leonard Susskind in Video [How Quantum Complexity Found Its Way into Black Hole Physics | Special Lecture](https://www.youtube.com/live/Ayp1yFAFoKQ?si=T_xRZMckvac84S_p)\n",
        "\n",
        "* Video: [How Complex Is Complexity? Or What’s a ‘Meta’ for?](https://www.youtube.com/watch?v=7cgcPNUNgxQ) by Eric Allender at Somons Institute\n",
        "\n",
        "* https://www.cs.ox.ac.uk/seminars/2509.html: Meta-complexity of circuit complexity and its applications. In this talk, **we prove NP-completeness of MCSP, the problem of computing the circuit complexity of partial functions**.  More broadly, we present an emerging paradigm of meta-complexity, which suggests that studying meta-complexity would lead to the resolution of worst-case versus average-case complexities of NP.\n",
        "\n",
        "* **Meta-complexity**: [Complexity Theory’s 50-Year Journey to the Limits of Knowledge](https://www.quantamagazine.org/complexity-theorys-50-year-journey-to-the-limits-of-knowledge-20230817/). It is concerned with difficulty of computational problems, both directly and indirectly. **How hard is it to prove that problems are hard to solve?**\n",
        "\n",
        "  * **Computational complexity theory**:\tDifficulty of computational problems\n",
        "  * **Meta-complexity theory**:\tDifficulty of determining the difficulty of computational problems\n",
        "\n",
        "* Example: [Minimum Circuit Size Problem](https://en.m.wikipedia.org/wiki/Circuit_complexity) (MCSP - Circuit Complexity), is concerned with complexity of Boolean functions. Bit string $2^n$ is a truth table of a function, and a number s. Does that function has a small circuit (of size at most s)?\n",
        "\n",
        "  * (f,s) : f has a circuit of size ≤ s, where f is represented by a bit string of length $2^n$ (seems intractable, is hard)\n",
        "\n",
        "  * **Complexity question**: Show f is hard\n",
        "\n",
        "  * **Meta-Complexity question**: show that it is hard to show that f is hard\n",
        "\n",
        "* Difference between computational complexity and algorithmic information theory on MCSP:\n",
        "\n",
        "  * In **computational complexity theory**, MCSP asks whether a given Boolean function can be computed by a circuit of a certain size (NP-hard, but not known whether NP-complete) - Is it possible to **compute efficiently** a given Boolean function?\n",
        "\n",
        "  * In **algorithmic information theory**, MCSP asks for Kolmogorov complexity of a given Boolean function (how difficult it is to describe object using a computer program?) - How difficult it is to **describe concisely** a given Boolean function?\n",
        "\n",
        "\n"
      ],
      "metadata": {
        "id": "_h99ix-0Tshq"
      }
    },
    {
      "cell_type": "markdown",
      "source": [
        "<font color=\"blue\">**Quantum Circuit Complexity**</font>\n",
        "\n",
        "* [Circuit Complexity](https://en.m.wikipedia.org/wiki/Circuit_complexity) and [Quantum Turing Machine](https://en.m.wikipedia.org/wiki/Quantum_Turing_machine)\n",
        "\n",
        "  * https://en.m.wikipedia.org/wiki/AC0\n",
        "\n",
        "  * https://en.m.wikipedia.org/w/index.php?title=ACC0\n",
        "\n",
        "* **Quantum Circuit complexity** is a measure of the minimal resources (gates, depth) required to implement a given unitary transformation (a particular quantum algorithm or operation) on a quantum circuit to solve a proble .\n",
        "\n",
        "* e.g. Not all gates are created equal. Some gates are more complex than others (T-gate) , and it may take multiple gates to implement a single unitary transformation. Algorithms have different gate numbers and depths.\n",
        "\n",
        "* \"*Quantum circuit complexity, by quantifying the minimal size of any circuit that implements a given unitary, is closely related to computational notions of complexity. The latter quantify the difficulty of solving a given computational task with a quantum computer and determine quantum complexity classes.*\" [Nature: Linear growth of quantum circuit complexity](https://www.nature.com/articles/s41567-022-01539-6)\n",
        "\n",
        "* *What is the complexity of a circuit? In theoretical computer science, circuit complexity is a branch of computational complexity theory in which Boolean functions are classified according to the size or depth of the Boolean circuits that compute them.* [Source](https://web.vu.lt/mif/s.jukna/circuit-complexity.html)\n",
        "\n",
        "> <font color=\"blue\">**Quantum circuit complexity** is a fundamental concept in quantum computation: widespread applications ranging from **determining running time of quantum algorithms to understanding the physics of black holes**</font>.\n",
        "\n",
        "* <font color=\"red\">Quantum circuit complexity tells you about **physical limits of computation** (literally, because quantum computers are most powerful computers we know). From solving industry problems to black hole complexity (gravity).</font> Quantum circuit complexity give us a fundamental limit on how efficiently a problem can be solved on a quantum computer.\n",
        "\n",
        "* Quantum Circuit complexity is a special case of computational complexity. **Circuit complexity represents a lower bound on computational capacity**.\n",
        "\n",
        "* Two relevant complexity classes are P/poly and NC. See also [Quantum Complexity Theory](https://en.m.wikipedia.org/wiki/Quantum_complexity_theory) and [Circuit complexity](https://en.m.wikipedia.org/wiki/Circuit_complexity).\n",
        "\n",
        "> <font color=\"blue\">**Goal: Understand complexity (cost and growth / asymptotic behavior) of:**\n",
        "* **efficient implementation of quantum <font color=\"red\">algorithms</font>** (eg improvements for Shor and Femoco, number of t-gates, toffoli gates, swap gates etc),\n",
        "  * **upper bounds** what QC can achieve (cases in complexity class),\n",
        "  * **lower bounds** (when not classically simulatable anymore?) and how classical dequantization works (e.g. using random linear algebra)\n",
        "* **complexity of <font color=\"red\">components</font>**, eg. cost of contraction (to unitary), uncomputation, distillation (T gate), decomposition (toffoli etc), Swap gates with fermion interaction (opposed to matchgate circuits simulating free fermions). Improvements in complexity of components leads to reduction of lower and upper bounds in practical algorithms above.\n",
        "\n"
      ],
      "metadata": {
        "id": "EKpQ47BNMI_I"
      }
    },
    {
      "cell_type": "markdown",
      "source": [
        "<font color=\"blue\">**Measures in Quantum Circuit Complexity**</font>\n",
        "\n",
        "* **Influence Factors on Quantum Circuit Complexity**\n",
        "  * Practical limitations to achieve lower bound on circuit complexity* (Runtime complexity of a quantum algorithm depends on circuit complexity of algorithm, the architecture of the quantum computer, and the error rate of the quantum computer.)\n",
        "  * noise and errors in quantum operations\n",
        "  * overhead in components like gate set (number of T gates, number of T gates to build Toffoli gate)\n",
        "  * overhead in overall algorithms (garbage qubits for uncomputation)\n",
        "  * specific hardware architecture\n",
        "\n",
        "* **Nielsen's complexity**: a measure of the difficulty of implementing a quantum operation using a given set of quantum gates. A concept related to quantum gate synthesis and circuit complexity (Nielsen's complexity directly quantifies the efficiency of implementing quantum operations using a minimal number of gates)\n",
        "  * **Nielsen's complexity specifically deals with the resources required to implement a quantum operation using a given set of quantum gates.** (Related to quantum resource theory)\n",
        "  * Nielsen's complexity measures the **minimum number of quantum gates required to implement a desired unitary operation**, analogous to finding the shortest path in the space of unitary operations. Nielsen's complexity considers the context of a specific gate set, evaluating which operations are available and how costly they are in terms of implementation.\n",
        "  * Involves determining the minimum resources required for certain tasks (bounds). Nielsen's complexity is based on the idea of finding the shortest possible path (in terms of a given metric) in the space of unitary operations that takes a starting unitary (often the identity operation) to a target unitary. The metric typically used is related to the number of quantum gates required to approximate the desired unitary operation within a certain accuracy. This concept is closely related to the field of quantum circuit optimization, where the goal is to minimize the number of gates or the depth of the quantum circuit.\n",
        "  * Closest fit: Set Complexity: This category deals with the complexity of sets and covers notions of minimal coverings, packings, and other structural properties of sets. Nielsen's complexity involves finding the minimal \"covering\" or sequence of quantum gates that can implement a given quantum operation. This is conceptually similar to covering and packing problems, where the goal is to cover a space efficiently with minimal resources.\n",
        "\n",
        "* **Lightcone structure of qubits**: for optimization and efficiency of quantum circuit design. Understanding the lightcone of qubits helps in identifying dependencies and potential parallelism in the circuit. By analyzing the lightcone, one can find ways to minimize unnecessary gates and interactions, thus reducing the overall complexity. Efficient gate sequencing, as sought in Nielsen's complexity, can be informed by the lightcone structure. Knowing which qubits influence each other helps in organizing gates to minimize depth and gate count, ensuring that operations are only applied when necessary and in an optimal order.\n",
        "\n",
        "* **Gate Depth** (Measure the complexity of a quantum gate): Refers to the number of layers of quantum gates in a quantum circuit. Minimizing gate depth is crucial for reducing the overall runtime and error rates in quantum computations.\n",
        "\n",
        "* **Circuit Size** (Measure the complexity of a quantum gate): total number of gates in a quantum circuit. Like Nielsen's complexity, circuit size measures the resource requirements for implementing quantum operations.\n",
        "\n",
        "* **Quantum Volume**: A metric proposed by IBM to measure the overall capability of a quantum computer, considering factors like the number of qubits, gate fidelity, connectivity, and error rates. Although more comprehensive, it indirectly relates to the complexity of implementing quantum operations.\n",
        "\n",
        "* **Geodesic Complexity**: In the context of quantum operations, it refers to the shortest path (geodesic) in the space of unitary operations between two points (unitaries). This is closely related to Nielsen's approach of finding minimal gate sequences.\n",
        "\n",
        "* **T-count**: The number of T gates (a specific type of quantum gate) used in a quantum circuit. T-count is a measure of complexity, especially relevant in fault-tolerant quantum computing.\n",
        "\n",
        "* **Solovay-Kitaev Theorem**: Provides a method for approximating any quantum gate to arbitrary accuracy using a finite set of gates. The complexity of achieving this approximation is related to the concepts underlying Nielsen's complexity.\n",
        "\n",
        "* **Hamiltonian Complexity:** Studies the complexity of simulating quantum systems governed by a Hamiltonian. Related to Nielsen's complexity in terms of understanding the resources needed for accurate quantum simulation.\n",
        "\n",
        "* **Unitary Design:** A measure of how well a set of unitary operations approximates the uniform distribution over all unitaries. Involves considerations of complexity similar to those in Nielsen's framework for constructing efficient quantum circuits.\n",
        "\n",
        "* **Path Length in Quantum Control**: Measures the complexity of transitioning between quantum states using control fields. This is analogous to finding efficient gate sequences in Nielsen's complexity.\n",
        "\n",
        "* **Entanglement** is an important factor: higher entanglement can reduce the need for deep circuits or a large number of gates, but it may require more qubits. Highly entangled states are often associated with quantum circuits that belong to complexity classes like BQP (Bounded-error Quantum Polynomial time). Understanding the entanglement structure in a quantum circuit helps in characterizing the complexity of the problem it solves. For example, circuits solving problems in QMA (Quantum Merlin-Arthur) complexity class often require more sophisticated entanglement patterns. Measures like **entanglement entropy** quantify the amount of entanglement in a quantum state and help in analyzing the circuit's complexity.\n",
        "\n",
        "*Example: Main metrics to evaluate complexity in the inference phase for NN-equalizers* [Source](https://arxiv.org/html/2206.12191)\n",
        "\n",
        "![sciences](https://raw.githubusercontent.com/deltorobarba/repo/master/sciences_1772.png)\n",
        "\n"
      ],
      "metadata": {
        "id": "bo5dPaspilOO"
      }
    },
    {
      "cell_type": "markdown",
      "source": [
        "[**Complexity Classes**](https://en.m.wikipedia.org/wiki/Complexity_class)\n",
        "\n",
        "The relationship of BQP to essential classical complexity classes [(Source)](https://en.m.wikipedia.org/wiki/Quantum_complexity_theory):\n",
        "\n",
        "> ${\\mathsf {P\\subseteq BPP\\subseteq BQP\\subseteq PP\\subseteq PSPACE}}$\n",
        "\n",
        "Relationships between fundamental time and space complexity classes [(S1)](https://en.m.wikipedia.org/wiki/PSPACE) and [(S2)](https://en.m.wikipedia.org/wiki/Complexity_class):\n",
        "\n",
        "> ${\\mathsf {NL\\subseteq P\\subseteq NP\\subseteq PH\\subseteq PSPACE\\subseteq EXPTIME\\subseteq EXPSPACE}}$\n",
        "\n",
        "![sciences](https://raw.githubusercontent.com/deltorobarba/repo/master/sciences_1768.png)\n",
        "\n",
        "\n",
        "* [P](https://en.m.wikipedia.org/wiki/P_(complexity)): Can be solved by a deterministic classical computer in polynomial time. P $\\subseteq$ BQP (i.e. anything you can do with a classic computer you can do with a quantum computer). We don't know if that is a strict inequality! [Source](https://quantumcomputing.stackexchange.com/questions/16506/can-quantum-computer-solve-np-complete-problems)\n",
        "\n",
        "* [RP](https://en.m.wikipedia.org/wiki/RP_(complexity)) und [ZPP](https://en.m.wikipedia.org/wiki/ZPP_(complexity)). Unsolved problem in computer science: $\\displaystyle {\\mathsf {P}}{\\overset {?}{=}}{\\mathsf {RP}}$. [RP](https://en.m.wikipedia.org/wiki/RP_(complexity)): Sampling Problem. Randomized polynomial time (RP) is the complexity class of problems for which a [probabilistic Turing machine](https://en.m.wikipedia.org/wiki/Probabilistic_Turing_machine) exists with these properties. Class of problems for which a randomized algorithm can give the correct answer in polynomial time, with a probability of at least 1/2 for \"yes\" instances. Ask for samples from probability distributions. [Source](https://en.m.wikipedia.org/wiki/Quantum_supremacy).\n",
        "  * [Boson sampling](https://en.m.wikipedia.org/wiki/Boson_sampling) Boson sampling is believed to be an RP complexity problem (randomized polynomial time - not proven): solve it in polynomial time with a high probability of success. Randomized algorithm is quantum computer that sample from Boson sampling distribution, which exponentially hard to sample from classically, but maybe polynomial for QC. Showing that Boson sampling is RP -> demonstrate quantum supremacy.\n",
        "  * [Sampling the output distribution of random quantum circuits\n",
        "  ](https://en.m.wikipedia.org/wiki/Quantum_supremacy#Sampling_the_output_distribution_of_random_quantum_circuits) (Google experiment)\n",
        "  * [Solving the sampling problem of the Sycamore quantum circuits](https://arxiv.org/abs/2111.03011)\n",
        "  * [Quantum Sampling Problems, Boson Sampling and Quantum Supremacy](https://arxiv.org/abs/1702.03061)\n",
        "  * [Computational advantage of quantum random sampling](https://arxiv.org/abs/2206.04079)\n",
        "  \n",
        "* [BPP](https://de.m.wikipedia.org/wiki/BPP_(Komplexitätsklasse)): Decision problems, that can be solved by a probabilistic classical computer in polynomial time\n",
        "\n",
        "* [BQP](https://en.m.wikipedia.org/wiki/BQP): Decision problems, that can be solved by a quantum computer in polynomial time (with quantum probability).\n",
        "  * BQP are not in [BPP](https://de.m.wikipedia.org/wiki/BPP_(Komplexitätsklasse)): [Factorization](https://de.m.wikipedia.org/wiki/Faktorisierung) with [Shor's algorithm](https://de.m.wikipedia.org/wiki/Shor-Algorithmus). BQP = P? - Open Question. Dequantized algorithms for such problems – high-rank matrix inversion, for example – would imply that classical computers can efficiently simulate quantum computers, i.e., BQP = P, which is **not** currently considered to be likely. [Source](https://arxiv.org/abs/1905.10415)\n",
        "\n",
        "* [PP](https://de.m.wikipedia.org/wiki/Probabilistische_Polynomialzeit) - Decision problems, die in von einer probabilistischen Turingmaschine in Polynomialzeit lösbar ist und die Antwort in mindestens der Hälfte der Fälle richtig ist. [PostBQP](https://en.m.wikipedia.org/wiki/PostBQP) = [PP](https://de.m.wikipedia.org/wiki/Probabilistische_Polynomialzeit).\n",
        "\n",
        "* [PSPACE](https://de.m.wikipedia.org/wiki/PSPACE) - Problems that can be solved using a polynomial amount of memory, and possibly exponential time.\n",
        "\n",
        "* [IP](https://en.m.wikipedia.org/wiki/IP_(complexity)) interactive proof) is the class of problems solvable by an interactive proof system. It is equal to the class PSPACE.\n",
        "\n",
        "* [NP](https://en.m.wikipedia.org/wiki/NP_(complexity)): Solution can be checked by a deterministic classical computer in polynomial time. [List of NP problems](https://en.m.wikipedia.org/wiki/List_of_NP-complete_problems).\n",
        "  * [NP-Hard](https://en.m.wikipedia.org/wiki/NP-hardness): [travelling salesman](https://en.m.wikipedia.org/wiki/Travelling_salesman_problem). [Sign Problem](https://en.m.wikipedia.org/wiki/Numerical_sign_problem), zB [Sign-Problem-Free Fermionic Quantum Monte Carlo](https://arxiv.org/pdf/1805.08219.pdf)\n",
        "    * [PCP theorem](https://en.m.wikipedia.org/wiki/PCP_theorem): states that every decision problem in the NP complexity class has probabilistically checkable proofs (proofs that can be checked by a randomized algorithm) of constant query complexity and logarithmic randomness complexity (uses a logarithmic number of random bits). The PCP theorem is the cornerstone of the theory of computational [hardness of approximation](https://en.m.wikipedia.org/wiki/Hardness_of_approximation), which investigates the inherent difficulty in designing efficient [approximation algorithms](https://en.m.wikipedia.org/wiki/Approximation_algorithm) for various [optimization problems](https://en.m.wikipedia.org/wiki/Computational_problem).\n",
        "  * [NP-Complete](https://en.m.wikipedia.org/wiki/NP-completeness): hardest of problems to which solutions can be verified quickly, like [Halting problem](https://en.m.wikipedia.org/wiki/Halting_problem) or [3SAT](https://en.m.wikipedia.org/wiki/Boolean_satisfiability_problem) (except, one manages to create a reduction of Grovers algorithm on this NP-Complete algorithm). Can quantum computer solve NP-complete problems? - if you solve any NP-complete problem, all other NP problems come as a 'freebie' (not just the NP-complete ones). In that sense, it would be a huge milestone. It is widely believed that quantum computers cannot solve NP-complete problems, but it has never been proven [Source](https://quantumcomputing.stackexchange.com/questions/16506/can-quantum-computer-solve-np-complete-problems)\n",
        "  * [Co-NP](https://de.m.wikipedia.org/wiki/Co-NP): Complement of NP. Problems for which a \"no\" answer can be verified in polynomial time\n",
        "  * [P versus NP](https://en.m.wikipedia.org/wiki/P_versus_NP_problem): Open question, [video1](https://youtu.be/EHp4FPyajKQ), [video2](https://youtu.be/YX40hbAHx3s)\n",
        "  * [BQNP: The quantum analogue of NP](https://medium.com/mit-6-s089-intro-to-quantum-computing/bqnp-the-quantum-analogue-of-np-486ed2469c1d) and [What is the relationship between BQP and NP?](https://www.quora.com/What-is-the-relationship-between-BQP-and-NP-1)\n",
        "  * Kolmogorov suggested, even before the notions of P, NP, and NP-completeness existed, that lower bound efforts might best be focused on sets that are relatively devoid of simple structure. That is, the NP-complete problems are probably too structured to be good candidates for separating P from NP. One should rather focus on the intermediate less-structured sets that somehow are complex enough to prove separations. As a candidate of such a set he proposed to look at the set of what we call nowadays the **resource-bounded Kolmogorov random strings.** His student Levin looked at \"Time-bounded Kolmogorov Complexity\"\n",
        "\n",
        "* NP-hard: If you can solve it, then you can solve every NP problem\n",
        "* NP-complete: NP-hard and in NP\n",
        "* **There are problems that are NP-hard but not in NP:**\n",
        "    * **The Halting Problem**: The Halting Problem is a classic example of a problem that is NP-hard but not in NP. The Halting Problem asks whether a given computer program will eventually halt (finish running) or continue to run forever. This problem is undecidable, meaning there is no algorithm that can solve all instances of the problem. However, if there were an oracle (a hypothetical black box that can solve the Halting Problem), one could use it to solve any problem in NP, making the Halting Problem NP-hard. But since it is undecidable, it is not in NP.\n",
        "    * **Certain Optimization Problems**: Some optimization problems are NP-hard but not in NP because they cannot be framed as decision problems where a solution can be verified in polynomial time. For example, the problem of finding the shortest program that produces a given output (Kolmogorov complexity) is NP-hard but not in NP.\n",
        "\n",
        "\n",
        "* [PH](https://en.m.wikipedia.org/wiki/PH_(complexity)) union of all complexity classes in polynomial hierarchy. Generalizations of NP.\n",
        "\n",
        "\n",
        "* [QMA](https://en.m.wikipedia.org/wiki/QMA): Solution can be checked by a quantum computer in polynomial time.\n",
        "  * QMA is the quantum analog of the NP complexity class.\n",
        "  * HeurBQP/qpoly ⊆ HeurQMA/poly (The Learnability of Quantum States, 2004)\n",
        "  * Many interesting classes are contained in QMA, such as P, BQP and NP, all problems in those classes are also in QMA. However, there are problems that are in QMA but not known to be in NP or BQP. A [list of known QMA-complete problems](https://arxiv.org/abs/1212.6312)\n",
        "    * Quantum circuit/channel property verification (V)\n",
        "    * Hamiltonian ground state estimation (H), icl. Quantum k-SAT (S)\n",
        "    * Density matrix consistency (C)\n",
        "  * The **Local Hamiltonian problem** is a complexity class in quantum computing. It is the problem of determining the ground state energy of a local Hamiltonian. It is QMA-complete, which means that there exists a quantum algorithm that can solve the problem with a polynomial number of queries to a quantum oracle, and no classical algorithm can solve the problem with a polynomial number of queries to a classical oracle, unless P=BQP. The Local Hamiltonian problem is a fundamental problem in quantum computing. It is a key problem in the study of quantum algorithms for solving optimization problems.\n",
        "* [RE](https://en.m.wikipedia.org/wiki/RE_(complexity)) recursively enumerable, is the class of decision problems for which a 'yes' answer can be verified by a Turing machine in a finite amount of time. RE-complete problem: Halting problem.\n",
        "* [MIP* = RE ?](https://medium.com/mit-6-s089-intro-to-quantum-computing/mip-re-6e903720c82f), bzw [MIP* = RE (arXiv)](https://arxiv.org/abs/2001.04383) (aus Spektrum der Wissenschaft 7/20): enthält MIP* sämtliche berechenbaren Probleme der Informatik! Dem Beweis zufolge ist MIP identisch mit der riesigen Komplexitätsklasse RE. Sie umfasst alle Entscheidungsprobleme (solche, deren Antwort Ja oder Nein lautet), die ein Computer in endlicher Zeit bejahen kann. Darunter fällt unter anderem die hartnäckigste aller Aufgaben, das berühmte Halteproblem. Dabei geht es darum, zu bestimmen, ob ein Computer bei einer Berechnung jemals anhalten kann – oder für immer weiterrechnet.\n",
        "\n",
        "*Further important complexity classes*\n",
        "\n",
        "* [DQC1](https://en.m.wikipedia.org/wiki/One_Clean_Qubit): Deterministic quantum computation with one clean qubit is the class of decision problems solvable by a one clean qubit machine in polynomial time, upon measuring the first qubit, with an error probability of at most 1/poly(n) for all instances\n",
        "* [Optimization problems](https://en.m.wikipedia.org/wiki/Optimization_problem), see [Complexity Classes for Optimization Problems](https://home.in.tum.de/~kugele/files/JoBSIS.pdf): [PLS](https://en.m.wikipedia.org/wiki/PLS_(complexity)): a local optimal solution can be found in polynomial time, but it might not be the global optimal solution. **NPO** is the optimization equivalent to NP (candidate solution can be checked in polynomial time). [APX](https://en.m.wikipedia.org/wiki/APX) for problems that can be approximated within a constant factor in polynomial time.\n",
        "* [Function problems](https://en.m.wikipedia.org/wiki/Function_problem): [FP](https://en.m.wikipedia.org/wiki/FP_(complexity)): The function problem equivalent of P, where the task is to compute a specific output rather than just deciding yes/no.\n",
        "* [Sharp-P](https://de.m.wikipedia.org/wiki/Sharp-P) How many solutions are there? Sharp P complete problems: #SAT oder Anzahl der perfekten Matchings eines bipartiten Graphen\n",
        "* More: https://complexityzoo.net/Complexity_Zoo\n",
        "\n",
        "\n",
        "![sciences](https://raw.githubusercontent.com/deltorobarba/repo/master/sciences_1655.png)\n",
        "\n",
        "![sciences](https://raw.githubusercontent.com/deltorobarba/repo/master/sciences_1646.png)\n",
        "\n",
        "![sciences](https://raw.githubusercontent.com/deltorobarba/repo/master/sciences_1274.png)\n",
        "\n",
        "\n",
        "![sciences](https://raw.githubusercontent.com/deltorobarba/repo/master/sciences_1769.png)\n",
        "\n",
        "\n",
        "![sciences](https://raw.githubusercontent.com/deltorobarba/repo/master/sciences_1646.jpg)"
      ],
      "metadata": {
        "id": "vQZjqUGyNu2a"
      }
    },
    {
      "cell_type": "markdown",
      "source": [
        "<font color=\"blue\">**Computer Efficiency & Spacetime Complexity**</font>\n",
        "\n",
        "*How to calculate Computer Performance?*: [Frontier supercomputer](https://en.m.wikipedia.org/wiki/Frontier_(supercomputer)) is capable of making 1,102,000 [TFLOPs](https://en.m.wikipedia.org/wiki/FLOPS) (1.1 quintillion calculations per second).  [Exascale_computing](https://en.m.wikipedia.org/wiki/Exascale_computing). [Floating-point_arithmetic](https://en.m.wikipedia.org/wiki/Floating-point_arithmetic). [Instructions_per_second](https://en.m.wikipedia.org/wiki/Instructions_per_second). [Gleitkommazahl](https://de.m.wikipedia.org/wiki/Gleitkommazahl) (floating point). [Floating_point_numbers](https://en.wikibooks.org/wiki/A-level_Computing/AQA/Paper_2/Fundamentals_of_data_representation/Floating_point_numbers). [Double-precision_floating-point_format](https://en.m.wikipedia.org/wiki/Double-precision_floating-point_format)\n",
        "\n",
        "![sciences](https://raw.githubusercontent.com/deltorobarba/repo/master/sciences_1273.png)\n",
        "\n",
        "\n",
        "* **Time complexity vs Space complexity**: [Time Complexity](https://en.m.wikipedia.org/wiki/Time_complexity): Big O notation.\n",
        "  * The time complexity is the [computational complexity](https://en.m.wikipedia.org/wiki/Computational_complexity) that describes the amount of computer time it takes to run an algorithm. Time complexity is commonly estimated by counting the number of elementary operations performed by the algorithm. See also [Time hierarchy theorem](https://en.m.wikipedia.org/wiki/Time_hierarchy_theorem). [Space complexity](https://en.m.wikipedia.org/wiki/Space_complexity) is generally expressed as the amount of memory required by an algorithm on an input of size n. See also [Space hierarchy theorem](https://en.m.wikipedia.org/wiki/Space_hierarchy_theorem).\n",
        "  * [Time complexity](https://en.m.wikipedia.org/wiki/Time_complexity), Space Complexity = Auxiliary Space + Space used for input values, [Space time tradeoff](https://en.m.wikipedia.org/wiki/Space–time_tradeoff), [Garbage collection](https://de.m.wikipedia.org/wiki/Garbage_Collection), [Time and Space Complexity Analysis of Algorithm](https://afteracademy.com/blog/time-and-space-complexity-analysis-of-algorithm), [How to compute Time Complexity or Order of Growth of any program](https://www.rookieslab.com/posts/how-to-compute-time-complexity-order-of-growth-of-any-program)\n",
        "\n",
        "* Time Complexity: The amount of time it takes a learning algorithm to learn a concept. **\"quantum time complexity, defined as the total number of gates used by the algorithm**\". (Source: Survey on the complexity of learning quantum states)\n",
        "  * low sample complexity is a necessary condition for efficient learning, but information-theoretic sufficiency of a small sample is not much help in practice if finding a good hypothesis still takes much time (time complexity of best quantum learner vs best known classical learner)\n",
        "  * \"despite several distribution-specific speedups, quantum examples do not signifi- cantly reduce sample complexity if we require our learner to work for all distributions D. This should be contrasted with the situation when considering the time complexity of learning\"\n",
        "  * \"Exponential sample complexity when data is from quantum sensors. Time complexity is more subtle.\"\n",
        "\n",
        "* **Worst-case vs Average-case complexity**: [Worst-case_complexity](https://en.m.wikipedia.org/wiki/Worst-case_complexity) and [Average-case_complexity](https://en.m.wikipedia.org/wiki/Average-case_complexity)\n",
        "\n",
        "* [Big O notation (Landau)](https://en.m.wikipedia.org/wiki/Big_O_notation): Big (O) worste case / Big Ω (Omega) best case / Big θ (Theta), [Examples of runtime with big O](https://stackoverflow.com/questions/2307283/what-does-olog-n-mean-exactly), [Brilliant: Complexity Theory](https://brilliant.org/wiki/complexity-theory/), [Theory of computation](https://en.m.wikipedia.org/wiki/Theory_of_computation)\n",
        "\n",
        "![sciences](https://raw.githubusercontent.com/deltorobarba/repo/master/sciences_1630.png)\n",
        "\n",
        "\n",
        "\n"
      ],
      "metadata": {
        "id": "e2X6btqgt5Gg"
      }
    },
    {
      "cell_type": "markdown",
      "source": [
        "##### <font color=\"Blue\">*Computability Theory*"
      ],
      "metadata": {
        "id": "gNGVQC0OENoM"
      }
    },
    {
      "cell_type": "markdown",
      "source": [
        "> [Computability_theory](https://en.m.wikipedia.org/wiki/Computability_theory) = <u>**Can a function be computed (solved) on a Turing machine?**</u>\n",
        "\n",
        "* What problems can be solved? (Halting, Entscheidungsproblem, etc. with Turing machine, finite automata..)\n",
        "\n",
        "* [An Easy-Sounding Problem Yields Numbers Too Big for Our Universe](https://www.quantamagazine.org/an-easy-sounding-problem-yields-numbers-too-big-for-our-universe-20231204/) - Researchers prove that navigating certain systems of vectors is among the most complex computational problems.\n",
        "\n",
        "* Video: [Extended Church Turing thesis](https://youtu.be/gs2Pv2vHqn8?si=bkcy04UGegfa7_yd)\n",
        "\n",
        "* COMPUTABILITY: [How to Build an Origami Computer](https://www.quantamagazine.org/how-to-build-an-origami-computer-20240130/) (quantamagazine)\n",
        "\n",
        "* Computability_theory **studies the theoretical limits of what can be computed by an idealized computing device**, such as a [Turing machine](https://en.m.wikipedia.org/wiki/Turing_machine). [Church Turing Thesis](https://en.m.wikipedia.org/wiki/Church%E2%80%93Turing_thesis): all algorithms may be thought of as Turing machines. apply to all function. you cannot short cut computation: Halting problem.\n",
        "\n",
        "  * **Turing**: functions that can be computed by Turing machine is computable by humans using paper and pencil\n",
        "\n",
        "  * **Gödel**: there are certain statements that cannot be proven or disproven within any formal system (incompleteness theorem). Implications for computability theory: **there are some functions that cannot be computed by any Turing machine (Halting problem, Collatz conjecture, Turing degrees)**\n",
        "\n",
        "* Video: [Church-Turing Thesis Cannot Possibly Be True\n",
        "](https://www.youtube.com/watch?v=egK4xhuWsVY&t=61s):\n",
        "  * The thesis asserts this: If an algorithm A computes a partial function f from natural numbers to natural numbers then f is partially recursive, i.e., the graph of f is recursively enumerable.\n",
        "  * The thesis has been formulated in 1930s. The only algorithms at the time were sequential algorithms. Sequential algorithms were axiomatized in 2000. This axiomatization was used in 2008 to prove the thesis for sequential algorithms, i.e., for the case where A ranges over sequential algorithms.\n",
        "  * These days, in addition to sequential algorithms, there are parallel algorithms, distributed algorithms, probabilistic algorithms, quantum algorithms, learning algorithms, etc.\n",
        "  * The question whether the thesis is true in full generality is actively discussed from 1960s. We argue that, in full generality, the thesis cannot possibly be true.\n",
        "\n",
        "* Computability theory provides the theoretical foundation for computational complexity theory (CCT), and many of the problems studied in CCT are motivated by questions in computability theory.\n",
        "\n",
        "* A computable **number** a real number that can be calculated to any desired precision by finite, terminating algorithm. But: almost no real numbers are computable.\n",
        "* A computable **function** requires a finite number of steps to produce the output. The Busy Beaver function Σ(n) grows faster than any computable function. Hence, it is not computable; only a few values are known.\n",
        "\n",
        "*See [Computability (Berechenbarkeit)](https://en.m.wikipedia.org/wiki/Computability), [Analysis of algorithms](https://en.m.wikipedia.org/wiki/Analysis_of_algorithms), [Model of Computation](https://en.m.wikipedia.org/wiki/Model_of_computation), [Theory of Computation](https://en.m.wikipedia.org/wiki/Theory_of_computation), [Algorithmic Information Theory](https://en.m.wikipedia.org/wiki/Algorithmic_information_theory), [Undecidable problem](https://en.m.wikipedia.org/wiki/Undecidable_problem), [List of undecidable problems](https://en.m.wikipedia.org/wiki/List_of_undecidable_problems), [Limits of Computation](https://en.m.wikipedia.org/wiki/Limits_of_computation), [Pfeilschreibweise](https://de.m.wikipedia.org/wiki/Pfeilschreibweise), [Hyper-Operator](https://de.m.wikipedia.org/wiki/Hyper-Operator), [Potenzturm](https://de.m.wikipedia.org/wiki/Potenzturm), [Long_and_short_scales](https://en.m.wikipedia.org/wiki/Long_and_short_scales)*\n",
        "\n",
        "![sciences](https://raw.githubusercontent.com/deltorobarba/repo/master/sciences_1647.png)\n",
        "\n",
        "*Source [here](https://www.researchgate.net/figure/Computability-hierarchy-and-computational-complexity-classes_fig5_341817215)*"
      ],
      "metadata": {
        "id": "ERjGs_IMvI3J"
      }
    },
    {
      "cell_type": "markdown",
      "source": [
        "**Quantum Extended Church Turing thesis (qECTT)**\n",
        "* Quantum Extension: The qECTT proposes that any physically realizable computational device can be efficiently simulated by a quantum Turing machine. **In essence, it posits that quantum computers, though vastly more powerful than classical computers, still operate within limits that can be, in principle, simulated**.\n",
        "* Most researchers think it's valid. If yes, it would forbid \"supertasks\" like solving the halting problem (Quantum computers remain fundamentally powerful but seem unlikely to enable true hypercomputation).\n",
        "* Open Question: However, the door isn't fully closed. Exotic models of quantum mechanics or yet-undiscovered physics could offer surprises, and philosophical debates over the definition of computation itself contribute to the ongoing discussion.\n",
        "\n",
        "* The **quantum extended Church-Turing thesis** (qECTT) states that any physical system that can compute any function computable by a quantum Turing machine can be efficiently simulated by a quantum Turing machine.\n",
        "\n",
        "> **In other words, the qECTT asserts that quantum computers are the most powerful physical computers possible, and that no other physical system can compute any function that a quantum computer cannot efficiently compute.**\n",
        "\n",
        "The qECTT is based on the following two premises:\n",
        "\n",
        "1. Quantum computers are more powerful than classical computers, in the sense that they can efficiently solve certain problems that are intractable for classical computers.\n",
        "  * The first premise is well-established, and has been demonstrated by the development of quantum algorithms that can efficiently solve certain problems that are intractable for classical computers, such as Shor's algorithm for factoring large numbers and Grover's algorithm for searching unsorted databases.\n",
        "2. Any physical system that can compute any function can be efficiently simulated by a quantum Turing machine.\n",
        "  * The second premise is more speculative, but it is supported by the fact that quantum Turing machines are a universal model of computation, meaning that they can simulate any other physical system of computation.\n",
        "\n",
        "> <font color=\"blue\">**The qECTT is still an open question**, but it is a very important one, as it has **implications for the limits of what is computable in the physical world**</font>. If the qECTT is true, then it means that quantum computers are the most powerful physical computers possible, and that there are certain problems that cannot be efficiently solved by any physical computer.\n",
        "\n",
        "* Interesting example and contradiction of the qECTT:\n",
        "\n",
        "  * Suppose that there is a physical system, such as a black hole, that can compute some function that cannot be efficiently computed by a quantum Turing machine. Then, the qECTT predicts that there is a quantum Turing machine that can efficiently simulate the black hole, and thus also compute the function.\n",
        "\n",
        "  * This is a very powerful prediction, and it is still not known whether it is true. However, <font color=\"blue\">**if the qECTT is true, then it would have implications for our understanding of the nature of computation and the limits of what is possible in the universe**</font>.\n",
        "\n",
        "  * This is a contradiction because it implies that there is a quantum Turing machine that can compute any function, which is not possible. The Church-Turing thesis states that there are some functions that cannot be computed by any Turing machine, and the qECTT is an extension of the Church-Turing thesis to quantum computers.\n",
        "\n",
        "  * So, the contradictory example of the qECTT shows that the qECTT itself is not a valid thesis. However, it is still an interesting and important question to ask whether there are any physical systems that can compute functions that cannot be efficiently computed by quantum computers.\n",
        "\n",
        "* ***One possible resolution to the contradiction is to say that the qECTT only applies to physical systems that are consistent with the laws of physics***. If there is a physical system that can compute a function that cannot be efficiently computed by a quantum Turing machine, then it must be a system that violates the laws of physics.\n",
        "\n",
        "* ***Another possible resolution to the contradiction is to say that the qECTT only applies to physical systems that are efficient***. If there is a physical system that can compute a function that cannot be efficiently computed by a quantum Turing machine, then it must be a system that is very inefficient.\n",
        "\n",
        "> Ultimately, the question of whether the qECTT is valid or not is an open one. It is a very important question, as it has implications for the limits of what is computable in the physical world."
      ],
      "metadata": {
        "id": "zltUffjrn2_w"
      }
    },
    {
      "cell_type": "markdown",
      "source": [
        "**Chomsky-Hierarchy and Automata Theory**\n",
        "\n",
        "* [Formal language](https://en.m.wikipedia.org/wiki/Formal_language) consists of words from letters from an alphabet and are well-formed acc. to specific set of rules\n",
        "* Automata theory and [Chomsky hierarchy](https://en.m.wikipedia.org/wiki/Chomsky_hierarchy) are used to **classify the complexity of languages**.\n",
        "* [Automata theory](https://en.m.wikipedia.org/wiki/Automata_theory) is study of abstract machines and automata, and computational problems that can be solved\n",
        "\n",
        "![sciences](https://raw.githubusercontent.com/deltorobarba/repo/master/sciences_1651.png)\n",
        "\n",
        "\n",
        "**Beyond Turing Machines**: [Undecidable function](https://en.m.wikipedia.org/wiki/Undecidable_problem) with [List of undecidable problems](https://en.m.wikipedia.org/wiki/List_of_undecidable_problems)\n",
        "\n",
        "  * Undecidable functions can be used to show that certain languages are not in the Chomsky hierarchy. For example, the language of all strings that encode a Turing machine that halts on its own input is not context-sensitive. This is because if there were a context-sensitive grammar for this language, then we could use it to solve the halting problem by simply constructing a Turing machine from the grammar.\n",
        "\n",
        "  * In general, undecidable functions can be used to show that certain problems are not solvable by any algorithm. This is a powerful tool for understanding the limits of computation.\n",
        "\n",
        "\n",
        "**0. Type:** [Recursively enumerable](https://en.m.wikipedia.org/wiki/Recursively_enumerable_language) grammar = [Turing Machine](https://en.m.wikipedia.org/wiki/Turing_machine)\n",
        "\n",
        "  * Unlimited RAM, Recursively and enumerable are unrestricted, most general grammar and automata and allow general computation, the Turing machines = machines that can remember an unlimited number of states. See also: [Nondeterministic Turing machine](https://en.m.wikipedia.org/wiki/Nondeterministic_Turing_machine) and [Probabilistic_Turing_machine](https://en.m.wikipedia.org/wiki/Probabilistic_Turing_machine). Also: [Quantum Turing Machine (QTM](https://en.m.wikipedia.org/wiki/Quantum_Turing_machine), [quantum circuit](https://en.m.wikipedia.org/wiki/Quantum_circuit) is computationally equivalent. QTM can be related to classical and probabilistic Turing machines with [transition (Stochastic_matrix) matrices](https://en.m.wikipedia.org/wiki/Stochastic_matrix).\n",
        "\n",
        "    *  A quantum Turing machine (QTM) with postselection was defined by Scott Aaronson, who showed that class of polynomial time on such a machine (PostBQP) is equal to classical complexity class PP.\n",
        "    * A way of understanding the Quantum Turing machine (QTM) is that it generalizes the classical Turing machine (TM) in the same way that the quantum finite automaton (QFA) generalizes the deterministic finite automaton (DFA). In essence, the internal states of a classical TM are replaced by pure or mixed states in a Hilbert space; the transition function is replaced by a collection of unitary matrices that map the Hilbert space to itself.\n",
        "\n",
        "  * **Type a**: [Recursively enumerable function](https://en.m.wikipedia.org/wiki/Recursively_enumerable_language): [Busy beaver](https://en.m.wikipedia.org/wiki/Busy_beaver) (does not terminate)for some arguments you put into the function they will stop and give an answer and for others they will go on forever)\n",
        "\n",
        "  * **Type b**: [Recursive](https://en.m.wikipedia.org/wiki/Recursive_language) language and [Recursive functions](https://en.m.wikipedia.org/wiki/General_recursive_function): is [Ackermann function](https://en.m.wikipedia.org/wiki/Ackermann_function) (terminates). Not every total recursive function is a primitive recursive function—the most famous example is the [Ackermannfunktion](https://de.m.wikipedia.org/wiki/Ackermannfunktion): extrem schnell wachsende Funktion, mit deren Hilfe in der theoretischen Informatik Grenzen von Computer- und Berechnungsmodellen aufgezeigt werden können. Die [Sudanfunktion](https://de.wikipedia.org/wiki/Sudanfunktion) ist eine rekursive berechenbare Funktion, die total μ-rekursiv, **jedoch nicht primitiv rekursiv** ist, was sie mit der bekannteren Ackermannfunktion gemeinsam hat.\n",
        "\n",
        "  * **Type c**: [Primitive Recursive function](https://en.m.wikipedia.org/wiki/Primitive_recursive_function), incl. every other program that isn’t recursive, like something going through a Sequence, for loop and nested for loops. 1926 vermutete David Hilbert, dass jede [berechenbare](https://de.m.wikipedia.org/wiki/Berechenbarkeit) Funktion [primitiv-rekursiv](https://de.m.wikipedia.org/wiki/Primitiv-rekursive_Funktion) sei, siehe auch [Berechenbarkeitstheorie](https://de.m.wikipedia.org/wiki/Berechenbarkeitstheorie): **lässt sich jede durch einen Computer berechenbare Funktion aus einigen wenigen, sehr einfachen Regeln zusammensetzen und die Dauer der Berechnung im Voraus abschätzen?**. Ackermann und Sudan haben das widerlegt. Die Sudanfunktion und die Ackermannfunktion waren so die ersten veröffentlichten, nicht primitiv rekursiven Funktionen. ps: [Enumeration algorithm](https://en.m.wikipedia.org/wiki/Enumeration_algorithm). [Recursive function](https://en.m.wikipedia.org/wiki/Recursion_(computer_science)), also [Computable function](https://en.m.wikipedia.org/wiki/Computable_function), calls itself again to repeat code. An [iterative function](https://en.m.wikipedia.org/wiki/Iteration) repeatedly executes set of statements (code) without overhead of function calls and stack memory (simpler, faster).\n",
        "\n",
        "\n",
        "**1. Type:** [Context-sensitive](https://en.m.wikipedia.org/wiki/Context-sensitive_language) grammars =  [Linear bounded automata](https://en.m.wikipedia.org/wiki/Linear_bounded_automaton)\n",
        "\n",
        "  * Limited RAM needed, but you can predict how much RAM (turing machines with predictable and finite amount of RAM). Linear bounded automata can remember a stack of states and a counter. Context-sensitive languages are used to model the set of all strings that are syntactically correct in a programming language.\n",
        "\n",
        "  * On Turing machines the tape has unbounded length (unlimited tape). An LBA can access only a finite portion of the tape by the read/write head. **This makes an LBA a more accurate model of a real-world computer than a Turing machine.** A linear bounded automaton is a [nondeterministic Turing machine](https://en.m.wikipedia.org/wiki/Nondeterministic_Turing_machine)\n",
        "\n",
        "**2. Type:** [Context-free](https://en.m.wikipedia.org/wiki/Context-free_grammar) grammars = [Pushdown Automata](https://en.m.wikipedia.org/wiki/Pushdown_automaton)\n",
        "  \n",
        "  * No RAM needed, for example for parsing. Pushdown automata can recognize context-free languages (e.g. set of all balanced parentheses) because pushdown automata have a stack, which they can use to store information about the input string. This allows them to keep track of the context of the input string, which is necessary for recognizing context-free languages.\n",
        "\n",
        "**3. Type:** [Regular](https://en.m.wikipedia.org/wiki/Regular_language) grammars = [Finite State Machine](https://en.m.wikipedia.org/wiki/Finite-state_machine)\n",
        "\n",
        "  * Finite state automata: machines that can only remember a finite number of states. Regular languages are used to model simple patterns, such as the set of all strings of even length.\n",
        "\n",
        "  * z.B. [Deterministic Finite Automaton](https://en.m.wikipedia.org/wiki/Deterministic_finite_automaton) and [Quantum Finite Automaton](https://en.m.wikipedia.org/wiki/Quantum_finite_automaton). Finite automata: pattern recognition, regular expressions.\n",
        "\n",
        "\n",
        "*Exkurs: Combinational Logic vs Sequential logic (Automata theory): [Sequential logic](https://en.m.wikipedia.org/wiki/Sequential_logic): type of logic circuit whose output depends on present value of its input signals and on sequence of past inputs (history). Sequential logic has state (memory). Sequential logic is used to store the state of the automaton, which is necessary to track the current position of the tape head and the symbols that have been read (more complex, because requires a larger number of memory elements, and the logic to update the state of the automaton can be more complicated). The sequential logic is implemented using flip-flops, which are memory elements that can store a single bit of information. [Combinational Logic](https://en.m.wikipedia.org/wiki/Combinational_logic): output is a function of only the present input. Combinational logic does not have a state (memory). Combinatorial logic is used to determine the next state of the automaton and the output symbol to be written to the tape, based on the current state, the input symbol, and the contents of the tape. Combinational logic is used in computer circuits to perform Boolean algebra on input signals and on stored data. The ALU is constructed using combinational logic, also half adders, full adders, half subtractors, full subtractors, multiplexers, demultiplexers, encoders and decoders, AND, OR, and NOT. The combinational logic is typically much simpler than the sequential logic. This is because the next state of the automaton and the output symbol to be written to the tape can be determined by a relatively small number of input variables.*\n",
        "\n"
      ],
      "metadata": {
        "id": "3cQ2ILoRRcAv"
      }
    },
    {
      "cell_type": "markdown",
      "source": [
        "**Beyond Automata: Computational irreducibility and graphs**\n",
        "\n",
        "https://www.spektrum.de/news/stephen-wolfram-sucht-nach-der-weltformel-der-physik/2203229\n",
        "\n",
        "Die Zoologie der Graphensubstitutionsregeln ist um Klassen schwieriger als die der zellulären Automaten. Vor allem sieht man einer Regel im Allgemeinen nicht an, welche Graphen sie auf die Dauer produzieren wird. Von Ausnahmen abgesehen gibt es keine andere Möglichkeit, das herauszufinden, als die Regel ihre Arbeit machen zu lassen, ein Phänomen, das Wolfram »rechnerische Irreduzibilität« (computational irreducibility) nennt. Das berüchtigte deterministische Chaos (das Verhalten des Systems ist bis in alle Zukunft vorherbestimmt, aber unvorhersagbar) ist die Regel und das, wovon die ganze Physik handelt (Systeme, deren zukünftiges Verhalten man vorhersagen kann), die Ausnahme: einsame Inseln der Reduzibilität im großen Ozean des Chaos."
      ],
      "metadata": {
        "id": "uPH-C3qz4l7k"
      }
    },
    {
      "cell_type": "markdown",
      "source": [
        "**Why are most decision problems uncomputable?**  \n",
        "* [Turing and the Halting problem (computerphile)](https://youtu.be/macM_MtS_w4)\n",
        "* Decision problems answer is binary (chess, tetris, halting problem, negative weight cycle detection)\n",
        "* Decision problems are as hard as optimisation problems\n",
        "* Why are most decision problems uncomputable. Proof with theory from [MIT Lecture 23: Computational Complexity](https://youtu.be/moPtwq_cVH8):\n",
        "    * Define a progam: space of all possible programs ≈ you can think of it as binary strings (reduced). You can also think of numbers represented as binary strings ≈ natural number element N\n",
        "    * Define a Decision problem: function that maps inputs to yes (1) or no (0). Input ≈ is a binary string element of N (natural numbers). It‘s a function from N to 0/1. **Every infinite string of bits represents a decision problem.** Output is infite! **A program is a fintie string of bits.**\n",
        "    * You can write down a table of all answers: **a decision problem is an infite string of bits:** =110001010100010111. A program is a finite string of bits.** So they are different.\n",
        "    * One way to see the difference is to add a decimal point: .110001010100010111 - now this infinite string of bits in the output of a decision problem is a real number between 0 and 1 (written in binary). Any real number can be represented by an infinite string of bits.\n",
        "    * A decision problem is element of R, meanwhile a program is element of N (set of all integers).\n",
        "    * But R >> N. R (uncountably infinite) >> N (countable infinite), <font color=\"red\">**there are way more problems than there are programs to solve them**</font>, almost every problem unsolvable by any program.\n"
      ],
      "metadata": {
        "id": "2lw0UapfQk5A"
      }
    },
    {
      "cell_type": "markdown",
      "source": [
        "**Non-computable numbers**\n",
        "* [Large_numbers](https://en.m.wikipedia.org/wiki/Large_numbers), [Names of large numbers](https://en.m.wikipedia.org/wiki/Names_of_large_numbers), [Liste besonderer Zahlen](https://de.m.wikipedia.org/wiki/Liste_besonderer_Zahlen)\n",
        "\n",
        "![geometry](https://raw.githubusercontent.com/deltorobarba/repo/master/sciences_1631.png)\n",
        "\n",
        "* [Constructible numbers](https://en.m.wikipedia.org/wiki/Constructible_number)\n",
        "* [Algebraic numbers](https://en.m.wikipedia.org/wiki/Algebraic_number)\n",
        "* [Transcendental numbers](https://en.m.wikipedia.org/wiki/Transcendental_number)\n",
        "* [Computable numbers](https://en.m.wikipedia.org/wiki/Computable_number)\n",
        "* **Non-Computable numbers**\n",
        "  * [Chaitin constant](https://en.m.wikipedia.org/wiki/Chaitin%27s_constant)\n",
        "  * [Die meisten reellen Zahlen kennen wir nicht](https://www.spektrum.de/kolumne/die-meisten-reellen-zahlen-sind-nicht-berechenbar/2133762) (gehorchen nicht einmal einer Rechenvorschrift)\n",
        "* Special cross-section: [Normal numbers](https://en.m.wikipedia.org/wiki/Normal_number)\n",
        "  * [Champernowne’s constant](https://en.m.wikipedia.org/wiki/Champernowne_constant) (whole numbers) - normal and transendental\n",
        "  * [Copeland-Erdös-number](https://de.m.wikipedia.org/wiki/Copeland-Erdős-Zahl) (primes)\n",
        "\n",
        "Source: [All the Numbers - Numberphile](https://www.youtube.com/watch?v=5TkIe60y2GI&t=458s)\n",
        "\n",
        "**Empty section: normal and Non-Computable numbers (we have no examples)**: We have no examples. But proofs have shown: this is the greatest amount of numbers: <font color=\"blue\">**most numbers are normal and most numbers are uncomputable**</font>. So this section should be full, but we have no example.\n"
      ],
      "metadata": {
        "id": "1f0R8e-ts52g"
      }
    },
    {
      "cell_type": "markdown",
      "source": [
        "##### <font color=\"Blue\">*Algorithmic Complexity*"
      ],
      "metadata": {
        "id": "Gj-d2EYc2e7s"
      }
    },
    {
      "cell_type": "markdown",
      "source": [
        "> [Algorithmic Information (Algorithmic Complexity)](https://en.m.wikipedia.org/wiki/Algorithmic_information_theory) = <u>**How difficult is it to describe a function concisely?**</u>\n",
        "\n",
        "* Rayo's number is the smallest number that cannot be expressed anymore- an example??\n",
        "\n",
        "* One motivation: Boltzmann's famous example of monkeys typing on typewriters will eventually end up writing a book by Shakespear - but chances are vanishing small, much longer than our universe.\n",
        "  * Same is for chance that monkey type first x digits of Pi correct - very small\n",
        "  * But going down to program level: what's the chance of writing a program / function that spits out all numbers of Pi? That is much more likely by monkeys.\n",
        "  * Then you can also ask: what things you can NOT describe with short programs anymore? where you need an instruction that is the same size of it's output (Kolmogorof complexity)? Example: Any real number!\n",
        "\n",
        "* [Mathematical Simplicity May Drive Evolution’s Speed](https://www.quantamagazine.org/computer-science-and-biology-explore-algorithmic-evolution-20181129/): for some outputs, it’s computationally easier to describe how to generate something than to actually generate it. The probability of producing some types of outputs is far greater when randomness operates at the level of the program describing it rather than at the level of the output itself, because that program will be short.\n",
        "\n",
        "![sciences](https://raw.githubusercontent.com/deltorobarba/repo/master/sciences_1679.png)\n",
        "\n",
        "* Algorithmic Information Theory (AIT) (Algorithmic Complexity): minimum amount of information, or minimum size of algorithm that you need to express a problem or function unambigously. AIT is study of relationship between computation and information, and is concerned with [Kolmogorov Complexity](https://en.m.wikipedia.org/wiki/Kolmogorov_complexity) of objects (Algorithmic Complexity or Solomonoff–Kolmogorov–Chaitin complexity)\n",
        "  * Is a measure of complexity of a particular string in terms of all algorithms that generate it.\n",
        "  * Kolmogorov Complexity is **the length of the shortest computer program that can generate the object**.\n",
        "  * Complexity of X is the length of the shortest description d such that if you feed it into the universal Turing machine, it spits out the string X.\n",
        "  * When a string has no short description (means the complexity is about the length of X and I need to feed the entire string into a universal Turing machine), that means the string is random.\n",
        "  * So Kolmogorov complexity is equal to their length = shortest program that can solve a problems is just as long as the input to the problem.\n",
        "* AIT is typically concerned with the complexity of individual objects, such as strings or Turing machines (as opposed to Computational Complexity Theory which looks at entire classes of problems)\n",
        "\n",
        "\n",
        "> <font color=\"Blue\">**Algorithmic Complexity Theory and Algorithmic Information Theory: It‘s useful to talk about complexity of models or structures in terms of minimum amount of information, or minimum size of algorithm that you need to express that unambigously.**</font>\n",
        "\n",
        "* **Example 1: What is simpler: a single integer or the set of all integers?** (from Kolmogorov complexity)\n",
        "  * Answer is counter-intuitive: it’s not a single integer, because the vast majority of all integers are way more complicated than the set of all possible integers.\n",
        "  * Because you can write down a simple algorithm, rule or mathematical expression that unambigously defines the set of all possible integers. But a single integer can require an arbitrarily large amount of information to express.\n",
        "  * So from a Kolmogorov complexity standpoint or algorithmic information complexity standpoint most integers are more complicated than the set of all integers.\n",
        "  * **This is been used as an argument in favor of the multiverse**. As an ontology: what‘s simpler: just our un universe exists, or the space of all possible universes exist? The latter is more plausible [Source](https://youtu.be/DaKR-UiYd6k?si=hZ-qbpiRU4gDxt9E)\n",
        "\n",
        "* **Example 2:  Is the universe predictable and definable by a finite set of symbols (Computational Irreducability)?**\n",
        "  * Assuming universe is computable, is it also predictable (=computationally reducable), or you need to run it?\n",
        "  * [Computational Irreducability](https://en.m.wikipedia.org/wiki/Computational_irreducibility) theory: no model can predict using only initial conditions, exactly what will occur in a given physical system before an experiment is conducted. It is a topic in both computational complexity theory (=problems cannot be solved efficiently by any algorithm) and algorithmic information theory (=how difficult it is to describe the object using a computer program).\n",
        "  * **Wolfram argues that many natural systems are computationally irreducible, which means that they cannot be simulated efficiently by any computer program**. Examples of problems that are thought to be computationally irreducible:\n",
        "    * The halting problem: determining whether a given computer program will halt or run forever. The factoring problem: factoring a large number into its prime factors.\n",
        "    * <font color=\"Blue\">These problems are thought to be computationally irreducible **because their Kolmogorov complexity is equal to their length. In other words, the shortest program that can solve these problems is just as long as the input to the problem**.</font>\n",
        "  * Universe: It seems that **there is no simplification that you can make. you just have to do the computation from beginning to end to work it out how the universe is going to evolve** (we have to explicitely simulate every step, there is no equation that spits out the answer, because it‘s fundamentally irredusable). Examples fluid mechanics: where is every molecule? We have to simulate it, e.g. position of individual molecules, that is completely unknown, would require arbitrary amounts of computational effort to determine. You need to use Coarse grain to make bulk statements: navier stokes or euler equation, Partition functions, Boltzmann equatio, Ergodicity: there is no net movement of particles in any direction. One particle distribution function, chapman-enskog expansion. From [Video 1](https://youtu.be/EIyjaCwbYXQ?si=-rmxgdj7Bpz945Fm) and [Video 2](https://youtu.be/DaKR-UiYd6k?si=pOSreHgxonkg4Wr9).\n",
        "  * Parts of universe seem to be computable and definable with a finite set of symbols, at least based on our current understanding of physics and mathematics. However, the complete computability and definability of the universe remain open questions, subject to ongoing scientific and philosophical inquiry. It is an area where new discoveries and insights can potentially reshape our understanding in fundamental ways.\n",
        "\n",
        "* **Further problems and examples in AIT**\n",
        "\n",
        "  * **Assembly Theory**: [Assembly theory](https://en.m.wikipedia.org/wiki/Assembly_theory) is a hypothesis that characterizes object complexity - molecules produced by biological processes must be more complex than those produced by non-biological processes. [Article](https://www.quantamagazine.org/a-new-theory-for-the-assembly-of-life-in-the-universe-20230504/). It studies complexity of constructing objects from smaller components and is **based on idea that complexity of an object is equal to minimum number of steps required to construct it from a set of primitive components**. (AT is more focused on construction of objects, while AIT is more focused on description of objects)\n",
        "\n",
        "  * **Constructor Theory** (Chiara Marletto and David Deutsch). [Constructor_theory](https://en.m.wikipedia.org/wiki/Constructor_theory). [How to Rewrite the Laws of Physics in the Language of Impossibility](https://www.quantamagazine.org/with-constructor-theory-chiara-marletto-invokes-the-impossible-20210429/). [Physicists Rewrite the Fundamental Law That Leads to Disorder](https://www.quantamagazine.org/physicists-trace-the-rise-in-entropy-to-quantum-information-20220526/). It studies complexity of constructing objects from smaller components and is **based on idea that complexity of an object is equal to minimum number of steps required to construct it from a set of primitive components**. (CT is more focused on construction of objects, while AIT is more focused on the description of objects)\n",
        "\n",
        "  * Quantamagazine: [Mathematical Simplicity May Drive Evolution’s Speed](https://www.quantamagazine.org/computer-science-and-biology-explore-algorithmic-evolution-20181129/)\n",
        "\n",
        "* **Difference to Computational Complexity Theory (CCT):**\n",
        "\n",
        "  * CCT: **Can a problem be solved** in polynomial time? - Complexity of **classes** of computational problems.\n",
        "\n",
        "  * AIT: **How complex** is a given string? Complexity of **individual objects**.\n",
        "\n",
        "  * Algorithmic complexity (Kolmogorov): Length of the shortest program that can generate a given output. How difficult it is to describe an object using a computer program?\n",
        "\n",
        "* **Connections to Computational Complexity Theory (CCT):**\n",
        "\n",
        "  * AIT provides a theoretical foundation for CCT. CCT is study of amount of resources (time and space) required to solve computational problems. CCT is concerned with complexity of classes of problems (P, NP).\n",
        "\n",
        "  * **AIT can prove lower bounds on time and space complexity**: define complexity classes P and NP (with Kolmogorov complexity) or study computational complexity of certain problems (sorting list of numbers). [Minimum Description Length (MDL) principle](https://en.m.wikipedia.org/wiki/Minimum_description_length) is based on AIT and used in ML."
      ],
      "metadata": {
        "id": "yy8Hru9l28pr"
      }
    },
    {
      "cell_type": "markdown",
      "source": [
        "**Problems at intersection between Computability Theory and Algorithmic Information Theory (Algorithmic Complexity)**\n",
        "\n",
        "> <font color=\"blue\">**Three dimensions of complexity of function or problem:**</font>\n",
        "* **Is it computable (solvable, or undecidable)?** (<font color=\"blue\">computability theory</font>)\n",
        "* **Is it computable efficiently (in finite spacetime)?** (<font color=\"blue\">computational complexity theory</font>)\n",
        "* **Is it describable concisely (with finite set of symbols)?** (<font color=\"blue\">algorithmic complexity / information theory</font>)\n",
        "\n",
        "*Special: **Is it predictable = simulatable efficiently** by any computer program? (computationally irreducibility theorem)  (a topic in computational complexity theory=problems cannot be solved efficiently by any algorithm, and algorithmic information theory=how difficult it is to describe the object using a computer program)*\n",
        "\n",
        "**Example: Number Theory and Computability: Difference between (in)finite value and (in)finite instruction within ZFC?**\n",
        "\n",
        "<font color=\"red\">**Computable and definable with finite set of symbols**\n",
        "* Algorithms for Prime Numbers, Fibonacci sequence\n",
        "* Graham's number is the biggest number used constructively (is not transfinite) - it is definable using a finite set of symbols, as evidenced by its representation in Knuth's up-arrow notation.\n",
        "* Tree3. Loaders number. SCG(13) and SSCG(3)\n",
        "\n",
        "<font color=\"red\">**Not Computable but still definable with finite set of symbols**\n",
        "* **Busy Beaver function**: ZFC can define the Busy Beaver function itself, in less than, say, a billion symbols. But ZFC can't pin down the precise value of even BB(7918) = can not determine specific values of the function. Closely related to undecidable Halting problem.\n",
        "* **Rayo's number**: largest number nameable by an expression in first-order set theory with a given finite number of symbols. The number it represents is so vast that it transcends ordinary concepts of computability and representation in mathematics.\n",
        "* **Chaitin's number**: is transfinite and it is not computable, which means that there is no algorithm to compute its digits exactly. Closely related to undecidable Halting problem.\n",
        "* **Transfinite numbers**: are numbers that are greater than any finite number. They represent different \"sizes\" of infinity. The concept was introduced by Georg Cantor. Two most well-known transfinite numbers are ℵ₀ (aleph-null) and ℵ₁ (aleph-one). Transfinite numbers are not computable in the traditional sense because they represent infinite values. Despite their infinite nature, transfinite numbers can be defined using a finite set of symbols. For example, ℵ₀ is defined as the cardinality (size) of the set of natural numbers, and ℵ₁ is defined as the next larger infinite cardinal number.\n",
        "\n",
        "<font color=\"red\">**Not Computable and not definable with finite set of symbols**\n",
        "* **Most real numbers**: Fast alle reelle Zahlen sind nicht berechenbar, [gehorchen nicht einmal einer Rechenvorschrift](https://www.spektrum.de/kolumne/die-meisten-reellen-zahlen-sind-nicht-berechenbar/2133762), there are uncountably many real numbers, but only countably many finite strings of symbols with which to define numbers. This means that almost all real numbers are not definable with a finite set of symbols.\n",
        "* Computing **very large and precise value of the busy beaver function** can be either undefinable by finite set of symbols, or not practically / efficently feasible but still possible with a very very large, finite set of symbols. This isn't cut-clear.\n",
        "\n",
        "![sciences](https://raw.githubusercontent.com/deltorobarba/repo/master/sciences_1631.png)\n",
        "\n",
        "Source: [All the Numbers - Numberphile](https://www.youtube.com/watch?v=5TkIe60y2GI&t=458s). See also: [Large_numbers](https://en.m.wikipedia.org/wiki/Large_numbers), [Names of large numbers](https://en.m.wikipedia.org/wiki/Names_of_large_numbers), [Liste besonderer Zahlen](https://de.m.wikipedia.org/wiki/Liste_besonderer_Zahlen), [Constructible numbers](https://en.m.wikipedia.org/wiki/Constructible_number), [Algebraic numbers](https://en.m.wikipedia.org/wiki/Algebraic_number), [Transcendental numbers](https://en.m.wikipedia.org/wiki/Transcendental_number), [Computable numbers](https://en.m.wikipedia.org/wiki/Computable_number). **Non-Computable numbers**: [Chaitin constant](https://en.m.wikipedia.org/wiki/Chaitin%27s_constant). [Die meisten reellen Zahlen kennen wir nicht](https://www.spektrum.de/kolumne/die-meisten-reellen-zahlen-sind-nicht-berechenbar/2133762) (gehorchen nicht einmal einer Rechenvorschrift). **Special cross-section**: [Normal numbers](https://en.m.wikipedia.org/wiki/Normal_number): [Champernowne’s constant](https://en.m.wikipedia.org/wiki/Champernowne_constant) (whole numbers) - normal and transendental. [Copeland-Erdös-number](https://de.m.wikipedia.org/wiki/Copeland-Erdős-Zahl) (primes). **Empty section: normal and Non-Computable numbers (we have no examples)**: We have no examples. But proofs have shown: this is the greatest amount of numbers: most numbers are normal and most numbers are uncomputable. So this section should be full, but we have no example."
      ],
      "metadata": {
        "id": "6431aTWzeYh3"
      }
    },
    {
      "cell_type": "markdown",
      "source": [
        "##### <font color=\"Blue\">*Physical Limits of Computation*"
      ],
      "metadata": {
        "id": "hlzi59BP8aqU"
      }
    },
    {
      "cell_type": "markdown",
      "source": [
        "###### ***Physical Boundaries of Computation***"
      ],
      "metadata": {
        "id": "HOMOGqpNW8_R"
      }
    },
    {
      "cell_type": "markdown",
      "source": [
        "**Physical Boundaries of Computation** ([Limits of Computation](https://en.m.wikipedia.org/wiki/Limits_of_computation))\n",
        "\n",
        "Paper: [Computing with a single qubit faster than the computation quantum speed limit](https://arxiv.org/abs/1701.05550)\n",
        "\n",
        "\n",
        "\n",
        "Fundamentally, information processing is subject to the laws of physics and therefore a number of fundamental limits on computation exist.\n",
        "* because of the Bekenstein bound, the memory density of physical systems of finite size and energy must itself be finite. (https://journals.aps.org/prd/abstract/10.1103/PhysRevD.23.287)\n",
        "* Quantum speed limits (https://iopscience.iop.org/article/10.1088/1751-8121/aa86c6) bound the processing speed and Landauer's principle (https://ieeexplore.ieee.org/document/5392446) imposes a lower limit on the energy consumption of each irreversible computing step.\n",
        "* Landauer's limit is given by kbT ln(2) per operation, where kb represents the Boltzmann constant and T the absolute temperature. Current computing hardware is two hundred-fold less efficient (https://arxiv.org/abs/2312.08595). In fact, information and communication technologies consume 10% of the worldwide electricity production (https://dl.acm.org/doi/10.1145/3613207).\n",
        "* An \"ultimate laptop\" of 1 kg of matter confined to 1 l of space would be able to compute at a rate of 5 x 1050 operations per second and store about 1031 bits (https://www.nature.com/articles/35023282)\n",
        "* Source: [Quantum Computing for nonlinear differential equations and turbulence](https://arxiv.org/abs/2406.04826)\n",
        "\n",
        "> Video: [Quantum Computing (Dr. Angie Qarry (QDeep Tech))](https://youtu.be/gsxeKg41yMw?si=-B5mx5y0jhQGLUpR)\n",
        "\n",
        "*Limits from **Physics** (thermodynamics, quantum mechanics), from **Computer Science** (Computability theory, Complexity theory, Information science) and from **Mathematics** (number theory). Limits are derived from simple questions:*\n",
        "\n",
        "1. <font color=\"blue\">What is the max limit of information capacity?</font> (per given volume and in the observable universe) - [Beckenstein Bound](https://en.m.wikipedia.org/wiki/Bekenstein_bound) 10$^{43}$ bits per kg\n",
        "2. <font color=\"blue\">What is the min amount of heat per erased bit that is dissipated when information is destroyed?</font> - $10^{-21}$ x 2.9 Joule: One limit is the [Landauer’s principle](https://en.m.wikipedia.org/wiki/Landauer%27s_principle), which states that the minimum energy required to perform a single logical operation is equal to the Boltzmann constant times the temperature of the system. <font color=\"red\">**This limit implies that the maximum number of computations that can be performed in a given amount of time is limited by the total energy available.**</font>\n",
        "2. <font color=\"blue\">What is the max physical speed limit of computation?</font> -\n",
        "  * [Bremermann's Limit](https://en.m.wikipedia.org/wiki/Bremermann%27s_limit) 10$^{50}$ operations per second (speed of light and Planck length > fundamental limit to how fast information can be processed, even in a perfect computer). Bremermann's Limit states that the maximum computational speed of a self-contained system is limited by the speed of light and the Planck length. This limit implies that there is a fundamental limit to how fast information can be processed, even in a perfect computer. **1.3563925 × 10^50 bits per second per kilogram**\n",
        "  * The [Margolus-Levitin theorem](https://de.m.wikipedia.org/wiki/Margolus-Levitin-Theorem) states that the maximum computational speed per unit of energy is limited by the Planck constant. This limit implies that there is a fundamental limit to how much computation can be performed with a given amount of energy. (Margolus-Levitin-Theorem, the processing rate of all forms of computation (including quantum computation) cannot be higher than about **6 × 10^33 operations per second per joule of energy.** 'Black Hole Computers' from Seth Lloyd: Margolus-Levitin theorem: operations take place in the minimum time allowed. The theorem says that the time it takes to flip a bit, t, depends on the amount of energy you apply, E. The more energy you apply, the shorter the time can be. Mathematically, the rule is t h/4E, where h is Planck's constant.\n",
        "3. <font color=\"blue\">What is the physical limit of computation (max number of operations) of the universe in its entire lifetime?</font> - 10$^{229}$ operations (if all matter in the observable would turn into a black hole computer). Calculated combining Margolus-Levitin theorem and Landauer’s principle.\n",
        "4. <font color=\"blue\">What is the max physical time limit of computation?</font> - [Poincare Recurrence time](https://en.m.wikipedia.org/wiki/Poincaré_recurrence_theorem) (universe resets itself, e.g. before finishing Graham's number)\n",
        "5. <font color=\"blue\">What is the max physical resolution limit of the universe?</font> - 10$^{185}$ Planck volume. Anything bigger than this number cannot be explained in physical terms.\n",
        "6. <font color=\"blue\">Can I find another me of myself in this universe?</font> - No! $10^{{10}^{70}}$ is the number of all possible quantum states a person can occupy (roughly a 1 m$^3$ of space) - the same arrangement of atoms that makes you. If you would walk $10^{{10}^{70}}$ meters, you would start to see repetitions of yourself. But the max number of protons of the observable universe is only $10^{80}$ [Eddington number](https://en.m.wikipedia.org/wiki/Eddington_number) and the max resolution is only 10$^{185}$ (Planck volume).\n",
        "\n",
        "Papers: [Ultimate physical limits to computation (Seth Lloyd, 2000)](https://arxiv.org/abs/quant-ph/9908043), [Computational capacity of the universe (Seth Lloyd, 2001)](https://arxiv.org/abs/quant-ph/0110141), [NP-complete Problems and Physical Reality (Scott Aaronson, 2005)](https://arxiv.org/abs/quant-ph/0502072), [Estimation of the information contained in the visible matter of the universe](https://arxiv.org/abs/2112.04473), [The Cost of computation](https://arxiv.org/abs/1905.05669), [Article: From 1,000,000 to Graham’s Number](https://waitbutwhy.com/2014/11/1000000-grahams-number.html), Video: [The Boundary of Computation](https://www.youtube.com/watch?v=kmAc1nDizu0&list=WL&index=7), Video: [The Limits of Computation](https://www.youtube.com/watch?v=ZDfaXJRtOoM), [Amdahl's law](https://en.m.wikipedia.org/wiki/Amdahl%27s_law) predict theoretical speedup when using multiple processors"
      ],
      "metadata": {
        "id": "c1x-N4GYUfEr"
      }
    },
    {
      "cell_type": "markdown",
      "source": [
        "**Selection of physical limits relevant to computation:**\n",
        "\n",
        "> See also [Orders of magnitude (numbers)](https://en.wikipedia.org/wiki/Orders_of_magnitude_(numbers))\n",
        "\n",
        "* <font color=\"blue\">$10^{-44}$ seconds max speed to write a single symbol - [Planck time](https://de.m.wikipedia.org/wiki/Planck-Zeit). Important to know the limits how to compute large numbers: </font>\n",
        "\n",
        "  * if you can write a single symbol only at this time max, then it would take you more time to write down **Graham's number** than one period within **Poincare's recurrence time** = when the universe would reset itself before you finished writing Graham's number\n",
        "\n",
        "  * to write down the **Googol number** you need $10^{56}$ seconds = $10^{48}$ years - Have we enough time to write that down? - Depends on nature of dark energy. In $10^{48}$ years we have the **era of Black Hole dominance** (all matter disappeared and we live in a supermassive black hole or is all matter is unimaginable far apart) [Video](https://www.youtube.com/watch?v=X3l0fPHZja8)\n",
        "\n",
        "* <font color=\"blue\">$10^{-21}$ x 2.9 Joule: [Landauer’s principle](https://en.m.wikipedia.org/wiki/Landauer%27s_principle). Min amount of heat per erased bit that is dissipated when information is destroyed [Source](https://physicsworld.com/a/wiping-data-will-cost-you-energy). See also [Entropy in thermodynamics and information theory](https://en.m.wikipedia.org/wiki/Entropy_in_thermodynamics_and_information_theory)</font>\n",
        "\n",
        "\n",
        "* **1 bit is in quantum communication complexity the communication complexity of the OR problem, even if the parties share entanglement**. It shows that there are some problems that cannot be solved using less communication than their classical counterparts, even if the parties share entanglement. The Quantum OR lemma was first published in 1999 by David Deutsch and Artur Ekert. It has been used to prove lower bounds on the communication complexity of a variety of other problems, including the AND problem, the XOR problem, and the equality problem. **The Quantum OR lemma is a powerful tool for studying the power of quantum communication. It has helped to shed light on the fundamental limits of what can be achieved with quantum communication.**\n",
        "\n",
        "* $10^{10}$ factor: Almost all information in black holes 10^10 factor more information stored in BH than in anything else, 25:40 Leonard Susskind https://youtu.be/CQAcLW6qdQY?si=947fUVP4UqhEP3qU\n",
        "\n",
        "* $10^{11}$ years (100 billion) other galaxies than Andromeda and Milky way are outside of the visible universe\n",
        "\n",
        "* $10^{12}$ years (1 trillion) the galaxies will be depleted of gas clouds, and thus the formation of new stars will be impossible (all hydrogen in stars cores are exhausted)\n",
        "\n",
        "\n",
        "* $12^{12}$ years (1,2 trillion) all stars in the universe will have exhausted (no more stars). [Source](https://www.youtube.com/watch?v=dsWfGzxjs0w), remaining only white dwarfs, neutron stars and black holes.\n",
        "\n",
        "* $10^{14}$ years: In 100 trillion years (100 x 10^12) the last star will die and the universe is ony dominated by dark matter [Source](https://www.youtube.com/watch?v=4Stzj2_Rlo4). Nothing more interesting will happen for next decillions (10^60), vigintillions (10^120) and googols of years dominated by dark matter. Then you have a visible universe of 36 bn light years diameter and is a black hole inside out. But quantum fluctuations at the event horizon will fill the inside up with new particles.\n",
        "\n",
        "* <font color=\"blue\">$10^{15}$ (1 quadrillion) – all planets are detached from their solar systems\n",
        "\n",
        "* <font color=\"blue\">$10^{15}$ (1 quadrillion) – or 1 Petabyte of data will be produced each year byt the \"Square Kilometre Array\" (SKA); a series of radio telescopes that span continents and will be the largest ever radio telescope. Headquarter in Jodrell Bank in Cheshire. The majority of the telescopes will be in South Africa and Australia. It will need 2 super-computers to handle all the data. In South Africa there will be 197 radio dishes and in Australia over 131,000 antennae! [source](https://www.liverpoolmuseums.org.uk/stories/which-greater-number-of-atoms-universe-or-number-of-chess-moves)\n",
        "\n",
        "* <font color=\"blue\">$10^{15}$ x 4.7 maximum floating point operations per Joule (FLOP/J) for the maximum CMOS energy efficiency, roughly two hundred-fold more efficient than current microprocessors, Limits to the Energy Efficiency of CMOS Microprocessors, https://arxiv.org/abs/2312.08595\n",
        "\n",
        "* <font color=\"blue\">$10^{16}$ bit is the total amount of information a typical human observer can possibly absorb during his lifetime [arXiv:0910.1589](https://arxiv.org/abs/0910.1589)</font>\n",
        "\n",
        "\n",
        "* <font color=\"blue\">$10^{17}$ (100 quadrillion) – The number of seconds since the Big Bang (important to estimate max limit of computation since beginning of universe)\n",
        "\n",
        "* <font color=\"blue\">$10^{18}$ max operations per second in human brain (and floating point operations, flops in 2020)</font>\n",
        "\n",
        "* $10^{18}$ max operations per second in human brain (and floating point operations, flops in 2020)\n",
        "\n",
        "* $10^{23}$ x 6,022 - Avogadro Zahl. Multipliziert mit mol$^{-1}$ ergibt die [Avogadro Konstante](https://de.m.wikipedia.org/wiki/Avogadro-Konstante) - die Anzahl der Teilchen, die in einem Mol eines Stoffes enthalten sind (602 Trilliarden Teilchen pro Mol). For computation: see [Fredkin gate paper](https://cqi.inf.usi.ch/qic/82_Fredkin.pdf), section 5: An isolated physical system consisting of a substantial amount (say, 1 g) of matter possesses an enormous number of degrees of freedom, or modes, of the order of magnitude of Avogadro's number (..).\n",
        "\n",
        "* <font color=\"blue\">$10^{30}$ years: all remnant of stars will have fallen in the central galactic supermassive black hole\n",
        "\n",
        "* <font color=\"blue\">$10^{30}$ x 3 years: if also Protons decay and all atmic nuclei are decayed. Black hole era of the universe starts. Black holes are the only celestial objects in the entire universe.\n",
        "\n",
        "* <font color=\"blue\">$10^{33}$ x 6 : [Margolus-Levitin-Theorem](https://en.m.wikipedia.org/wiki/Margolus–Levitin_theorem), the processing rate of all forms of computation (including quantum computation) cannot be higher than about 6 × 10^33 operations per second per joule of energy. The maximum computational speed per unit of energy is limited by the Planck constant.\n",
        "\n",
        "* <font color=\"blue\">$10^{40}$ positions in chess without illegal moves, upper bound of [Shannon number](https://en.m.wikipedia.org/wiki/Shannon_number) (lower bound at $10^{123}$ positions)\n",
        "\n",
        "* <font color=\"blue\">$10^{43}$ = [Beckenstein bound](https://en.m.wikipedia.org/wiki/Bekenstein_bound): maximal amount of information that can be contained within a given volume. Genauer: Using mass–energy equivalence, the informational limit may be reformulated as follows where M is the mass (in kg), and R is the radius (in meter) of the system ${\\displaystyle H\\leq {\\frac {2\\pi cRM}{\\hbar \\ln 2}}\\approx 2.5769082\\times 10^{43}\\ {\\frac {\\text{bit}}{{\\text{kg}}\\cdot {\\text{m}}}}\\cdot M\\cdot R,}$. You can also consider this as $10^{43}$ Hertz: a computer that operated at these operations per second would use so much energy that it would simply collapse to a black hole - Moore’s law: ultimate limits imposed by quantum gravity (min 55:00 [video](https://www.youtube.com/watch?v=uX5t8EivCaM&t=2492s))</font>\n",
        "  * It implies that the information of a physical system, or the information necessary to perfectly describe that system, must be finite if the region of space and the energy are finite.\n",
        "  * In computer science this implies that non-finite models such as [Turing machines](https://en.m.wikipedia.org/wiki/Turing_machine) are not realizable as finite devices.\n",
        "\n",
        "* <font color=\"blue\">$10^{50}$ bits per second per kilogram x 1.3563925 = [Bremermann limits](https://en.m.wikipedia.org/wiki/Bremermann%27s_limit) - Max rate of data processing by isolatad material system. Physical limit of computation. It is derived from Einstein's mass-energy equivalency and the Heisenberg uncertainty principle, and is c2/h.</font>\n",
        "\n",
        "  * A computer at the size of earth and operating at Bremermann's limits could do $10^{74}$ computations per second. It could break a 128 bit cryptographic key in less than $10^{-36}$ of a second and a 256 bit key in 2 minutes. However for 512 bit key working this Bremermann's computational speed limit would ta e$10^{72}$ years. [Source at min 2:30](https://www.youtube.com/watch?v=ZDfaXJRtOoM). Das Universum wird aber vrs “nur” noch max Trillionen (10^12) oder Quadrillionen (10^15) Jahre existieren.\n",
        "\n",
        "* <font color=\"blue\">$10^{50}$ x 5 operations per second. The \"ultimate laptop\": 1 kg black hole with width = 3 x $10^{27}$ meters it would perform 5 x $10^{50}$ operations /sec, but has only a lifetime = $10^{-22}$ sec (due to Hawking radiation). Source: [Seth Lloyd: Black hole computer](https://www.scientificamerican.com/article/black-hole-computers-2007-04/). It's also the **final limit of computation is at Heisenberg uncertainty** at $10^{50}$ operations per second (flops, not clock speed) [Source](https://www.youtube.com/watch?v=jv2H9fp9dT8) even when accounting for a Black Hole</font>\n",
        "\n",
        "* * <font color=\"blue\">$10^{68}$ years: black hole of the size of the sun will have decayed due to Hawking radiation\n",
        "\n",
        "* $10^{80}$ [Eddington number](https://en.m.wikipedia.org/wiki/Eddington_number): Number of protons in the observable universe. genauer: 1.57 × $10^{79}$\n",
        "\n",
        "* <font color=\"blue\">$10^{80}$ x ∼6: number of bits of information stored in all the matter particles of the observable universe (where each particle in the observable universe contains 1.509 bits of information) [arxiv:0110141](https://arxiv.org/abs/quant-ph/0110141) and [arxiv:2112.04473](https://arxiv.org/abs/2112.04473)</font>\n",
        "\n",
        "* $10^{90}$: Fill the universe with grains of sand (.5mm in diameter)\n",
        "\n",
        "* <font color=\"blue\">$10^{90}$ - max number of bits the universe can have processed [arxiv:0110141](https://arxiv.org/abs/quant-ph/0110141), based on the amount of information the Universe can register and the number of elementary operations that it can have performed over its history</font>\n",
        "\n",
        "* <font color=\"blue\">$10^{90}$ operations per second: if all matter in the observable would turned into a black hole computer it could perform $10^{90}$ operations per second but it has a life time of 2.8 x $10^{139}$ seconds before hawking radiation cause it to evaporate. In that time it could perform 2.8 x $10^{229}$ operations. Source: [Seth Lloyd: Black hole computer](https://www.scientificamerican.com/article/black-hole-computers-2007-04/)</font>\n",
        "\n",
        "\n",
        "* $10^{106}$ - $10^{108}$ years it takes for Black holes to evaporate due to Hawking radiation. Source: [The Crazy Future If Protons Don't Decay](https://www.youtube.com/watch?v=5XuBIyGqE1w). The universe enters the dark era.All physical objects have decayed into subatomic particles. If protons don't decay, look at $10^{1500}$ years.\n",
        "\n",
        "\n",
        "* $10^{100}$: [Googol](https://en.wikipedia.org/wiki/Googol), from American mathematician Edward Kasner in 1938\n",
        "\n",
        "* $10^{113}$  The number of hydrogen atoms it would take to pack the universe full of them.\n",
        "\n",
        "* $10^{116}$ x 1.57: possible ways of arrangements a 6x6x6 rubik's cube can have\n",
        "\n",
        "* <font color=\"blue\">$10^{120}$ - max number of operations the universe can have performed [arxiv:0110141](https://arxiv.org/abs/quant-ph/0110141), based on the amount of information the Universe can register and the number of elementary operations that it can have performed over its history</font>\n",
        "\n",
        "* <font color=\"blue\">$10^{120}$ max number of bits of data that could be computes in the amount of time that has elapsed so far in the universe based on the maximum entropy of the universe, the speed of light and the minimum time taken to move information across the Planck length. Anything that requires more than this amount of data cannot have been computed yet [Source, min 2](https://youtu.be/nJObMJLweCs) - Limit on the computational power of the universe (and why Laplace demon cannot exist)</font>\n",
        "\n",
        "* $10^{122}$ The number of protons you could fit in the universe (incl, non-observable universe??) -> for this I need a source\n",
        "\n",
        "* <font color=\"blue\">$10^{123}$ positions in chess including illegal moves, lower bound of [Shannon number](https://en.m.wikipedia.org/wiki/Shannon_number) (upper bound at $10^{40}$ positions)\n",
        "\n",
        "* <font color=\"blue\">$10^{170}$ possible moves in game Go [source](https://www.liverpoolmuseums.org.uk/stories/which-greater-number-of-atoms-universe-or-number-of-chess-moves)\n",
        "\n",
        "* $10^{183}$ number of Planck length' ($10^{-35}$ meters) cubes in the observable universe\n",
        "\n",
        "* <font color=\"blue\">$10^{185}$ x 4: Without being able to go smaller, we’ve reached the largest number where the physical world can be visualize: take a Planck length (10^(-35) meter) and fill it with universe - largest number where the physical world can be used to visualize it. **Anything bigger than this number cannot be explained in physical terms.**</font>\n",
        "\n",
        "* $10^{200}$ pieces to cut a circle and fill with it a square - from circle to square: [Tarski's circle-squaring problem](https://en.m.wikipedia.org/wiki/Tarski%27s_circle-squaring_problem). Achtung: From square to circle: [Squaring the circle](https://en.m.wikipedia.org/wiki/Squaring_the_circle) has been proven to be impossible.\n",
        "\n",
        "* <font color=\"blue\">$10^{229}$ x 2.8: max number of operations if all matter in the observable would turned into a black hole computer Source: [Seth Lloyd: Black hole computer](https://www.scientificamerican.com/article/black-hole-computers-2007-04/)</font>\n",
        "\n",
        "\n",
        "* $10^{495}$ x 6.8: possible proteins the cells in a body can create from the 375 amino acids (but it just unfolds a small subset of all these combinations). Video: [The Most Complex Language in the World](https://www.youtube.com/watch?v=TYPFenJQciw&list=WL&index=13)\n",
        "\n",
        "\n",
        "* $10^{1500}$ years: In case proton decay is not possible, all the particles will have fused together to form iron-56 isotopes, and thus creating something called 'Iron stars'.\n",
        "\n",
        "* 10$^{272.000}$ number of possible universes in string theory [video](https://youtu.be/k_TEoUF12Yk)\n",
        "\n",
        "* $10^{{10}^{7}}$ bits: the amount of information that goes into the Black Hole to build it up for a black hole of the mass of our sun (contradiction because we have only Black Holes observables: mass, electric charge, momentum (no hairs theorem from Bekenstein) = very few bits). Black holes have an enormous number of microstates (hidden configurations - translates to an enormous entropy). Entropy formula from Jacob Bekenstein: $S_{B H}=\\frac{A}{4 L_P^2}=\\frac{c^3 A}{4 G \\hbar}$. Source: [Are Black Holes actually fuzzballs?](https://youtu.be/351JCOvKcYw?si=CtlKQtLkoSx0hRBc)\n",
        "\n",
        "* $10^{{10}^{16}}$: Number of universes that a human observer may distinguish = number of different configurations a typical human brain can have [arXiv:0910.1589](https://arxiv.org/abs/0910.1589)\n",
        "\n",
        "* $10^{{10}^{29}}$ times the size of the observable universe = the chance to meeting an exact copy of yourself (=same constellation of particles) in an infinite universe. Source: [The paradox of an infinite universe](https://youtu.be/isdLel273rQ?si=zvg0qvbC5pAHtssg)\n",
        "\n",
        "* $10^{10^{40}}$ where [Merten‘s Conjecture](https://en.m.wikipedia.org/wiki/Mertens_conjecture) can be disproven\n",
        "\n",
        "* $10^{10^{40}}$ years: all particles will have collapes into black holes (which would evaporate almost instantaneously due to timescale). Now the universe is an absolute void with nothing inside of it. Now, the Universe has reached its final energy state, its maximum entropic value.\n",
        "\n",
        "* $10^{10^{40}}$ years: [Boltzmann brain](https://de.m.wikipedia.org/wiki/Boltzmann-Gehirn), a self-aware entity that appeared due to random quantum fluctuations.\"\n",
        "\n",
        "* <font color=\"blue\">$10^{{10}^{70}}$ - All possible quantum states a person can occupy (roughly a meter ^3 of space). If you would walk $10^{{10}^{70}}$ meters, you would start to see repetitions of yourself.[Source](https://youtu.be/8GEebx72-qs?t=287)</font>\n",
        "\n",
        "* $10^{{10}^{76}}$ years: iron stars will slowly collapse into black holes. Source: [The Crazy Future If Protons Don't Decay](https://www.youtube.com/watch?v=5XuBIyGqE1w)\n",
        "\n",
        "* $10^{{10}^{100}}$ or $10^{Googol}$ - [Googolplex](https://en.m.wikipedia.org/wiki/Googolplex): you cannot write this number in the (observable) universe, since there is not enough space: it has more digits than there are atoms in the observable universe. <font color=\"blue\">**From here start numbers that are incomprehensible. If i walk a googoplex far (the universe is as big as a googolplex meters across), I would see repetitions of myself** (aka same arrangements of atoms like me).</font> if i go further i would see the entire observable universe repeating (size of the universe: $(10^{26})^3$ meters. <font color=\"blue\">**This means there is probably not another me in the universe**.</font> but if you live in a universe that is a googolplex across, then you would by chance run into the same arrangements of atoms that matches you. [numberphile](https://www.youtube.com/watch?v=8GEebx72-qs&t=0s)\n",
        "\n",
        "* $10^{{10}^{{10}^{7}}}$: Number of possible universes, but assume that we are not limited as observers to distinguish more universes. $10^{{10}^{16}}$ is number of universes that a human observer may distinguish [arXiv:0910.1589](https://arxiv.org/abs/0910.1589)\n",
        "\n",
        "* $10^{{10}^{{10}^{34}}}$ bzw. $e^{{e}^{{e}^{79}}}$: untere Schranke der [Skewes Number](https://de.m.wikipedia.org/wiki/Skewes-Zahl)\n",
        "\n",
        "\n",
        "* $10^{{10}^{{10}^{56}}}$ years: random quantum fluctuations and quantum tunneling is predicted to give birth to another universe [Source](https://www.youtube.com/watch?v=dsWfGzxjs0w)\n",
        "\n",
        "* $10^{{10}^{{10}^{76}}}$ years: next checkpoint for a new universe to give birth via a big bang (if protons don't decay), if we are looking at the probability of quantum fluctuations. Source: [The Crazy Future If Protons Don't Decay](https://www.youtube.com/watch?v=5XuBIyGqE1w)\n",
        "\n",
        "* $10^{{10}^{{10}^{100}}}$ - Googolplexian. Number 10 raised to the power of one Googolplex. 10^1000000..... - line is probably trillions of light years long\n",
        "\n",
        "* $10^{{10}^{{10}^{1000}}}$: untere Schranke der [Skewes Number](https://de.m.wikipedia.org/wiki/Skewes-Zahl) unter Nicht-Annahme der Riemann Hypothese. Unter Annahme der Riemann Hypothese: $10^{{10}^{{10}^{961}}}$ bzw. $e^{{e}^{{e}^{7703}}}$\n",
        "\n",
        "* <font color=\"blue\">$10^{{10}^{{10}^{{10}^{{10}^{1.1}}}}}$ **Poincare recurrence time**: Time until a system resets itself (particle of gas go back in the corner, because phase space is finite). you can apply that to the whole universe. Largest finite time ever been calculated by a physicist in a published paper: [arxiv:9411193](https://arxiv.org/abs/hep-th/9411193). He calculated [Poincare recurrence time](https://en.m.wikipedia.org/wiki/Poincar%C3%A9_recurrence_theorem) (for a certain type of universe with a certain cosmological number). [Video](https://www.youtube.com/watch?v=1GCf29FPM4k).</font>\n"
      ],
      "metadata": {
        "id": "6tjmyhKJX2FI"
      }
    },
    {
      "cell_type": "markdown",
      "source": [
        "<font color=\"red\">**Here we cannot simply write down the numbers anymore $\\downarrow \\downarrow$**\n",
        "\n",
        "> See also: Video: [Numbers too big to imagine](https://youtu.be/u1x_FJZX6Vw?si=4bqa_0_nbdd4DquX)\n",
        "\n",
        "**g64 number [Grahams Zahl](https://de.m.wikipedia.org/wiki/Grahams_Zahl)**\n",
        "\n",
        "* **Graham's number is the biggest number used constructively** = used in a mathematical proof, rather than just being a theoretical concept. There is a specific mathematical problem that can be solved by using Graham's number.\n",
        "\n",
        "* $g_{64}$ [Grahams Zahl](https://de.m.wikipedia.org/wiki/Grahams_Zahl) $g_{64} = 3 \\uparrow \\underbrace{\\uparrow \\ldots \\uparrow}_{g_{63}} \\uparrow 3 = 3(G63\\uparrow)3$ = the biggest number used constructively. If you count that number in your head, the total amount of information would turn your head into a black hole. Graham's number is **not** transfinite. But it is an astronomically large number that is defined using a recursive formula. The formula is so large that it cannot be written out in standard mathematical notation.\n",
        "\n",
        "> $3 \\uparrow \\uparrow 3=3 \\uparrow 3 \\uparrow 3 = 3^{3^3}=7,625,597,484,987$\n",
        "\n",
        "\n",
        "> $3 \\uparrow \\uparrow \\uparrow 3=3 \\uparrow \\uparrow 3 \\uparrow \\uparrow 3$ = $3^{3^{3^{(..)^3}}}$ - This means the number 3 is 7,625,597,484,987 (7.6 trillion) times exponentiated!\n",
        "\n",
        "> $g_1 = 3 \\uparrow \\uparrow \\uparrow \\uparrow 3 = 3 \\uparrow \\uparrow \\uparrow 3 \\uparrow \\uparrow \\uparrow 3$\n",
        "\n",
        "> $g_2 = 3 \\uparrow \\underbrace{\\uparrow \\ldots \\uparrow}_{g_1} \\uparrow 3  = 3(G1\\uparrow)3$\n",
        "\n",
        "> $g_3 = 3 \\uparrow \\underbrace{\\uparrow \\ldots \\uparrow}_{g_2} \\uparrow 3 $\n",
        "\n",
        "> ....\n",
        "\n",
        "> $g_{64} = 3 \\uparrow \\underbrace{\\uparrow \\ldots \\uparrow}_{g_{63}} \\uparrow 3 = 3(G63\\uparrow)3$ = [Grahams Zahl](https://de.m.wikipedia.org/wiki/Grahams_Zahl) the biggest number used constructively\n",
        "\n",
        "> Siehe: [Hyperoperation](https://en.m.wikipedia.org/wiki/Hyperoperation) und [Knuth‘s Up Arrow Notation](https://en.m.wikipedia.org/wiki/Knuth%27s_up-arrow_notation)\n",
        "\n",
        "* you can't say how many digits it has. If you imagine Graham's number in your head, then your head would collaps into a black hole. It is estimated that the observable universe is not large enough to contain an ordinary digital representation of Graham's number.\n",
        "\n",
        "* Upper bound: used in combinatorics, graph theory, as an upper bound for coloring graphs that are linked to higher dimensional cubes: for [\"Ramsey number for hypergraphs\"](https://en.m.wikipedia.org/wiki/Ramsey%27s_theorem) (This problem is concerned with the number of edges that need to be added to a hypergraph in order to make it so that any two distinct subsets of the hypergraph have either the same number of edges between them, or the opposite number of edges between them.). Graham's number is the max number for this to be true (and 6 or 11 is the lowest)\n",
        "\n",
        "* https://waitbutwhy.com/2014/11/1000000-grahams-number.html\n",
        "\n",
        "\n",
        "**tree(3)** [Kruskal's tree theorem](https://en.m.wikipedia.org/wiki/Kruskal%27s_tree_theorem)\n",
        "\n",
        "* tree theorems are larger numbers for mathematical proofs than graham's number\n",
        "\n",
        "https://en.m.wikipedia.org/wiki/Kruskal%27s_tree_theorem\n",
        "\n",
        "https://towardsdatascience.com/how-big-is-the-number-tree-3-61b901a29a2c\n",
        "\n",
        "- Inf-embedabble\n",
        "- Ackermann numbers as lower bound\n",
        "- Proof theory: kruskals tree theory\n",
        "    - Well quasi ordering\n",
        "    - Poincare recurrence, universe will reset itself due to entropy (limited number of steps) or proof doesn‘t fit in our universe\n",
        "    - Ordinals, trans-finite arithmetic\n",
        "- Video 1: https://www.youtube.com/watch?v=3P6DWAwwViU\n",
        "- Video 2: https://www.youtube.com/watch?v=IihcNa9YAPk\n",
        "\n",
        "\n",
        "**Loaders number** $D^{(5)}(99)$\n",
        "\n",
        "* It's the fifth iteration of a certain function  D  on the value 99. TREE(3) is indistinguishable from zero compared to Loader's number. Code was limited to 512 characters, otherwise it would get bigger\n",
        "\n",
        "* https://googology.fandom.com/wiki/Loader%27s_number\n",
        "\n",
        "* The interesting point is that  D , the function, is a very fast-growing function with a particularly compact representation, and it’s valuable to compare its growth rate with that of other computable functions.\n",
        "\n",
        "* I’m not sure much is known about the place of  D  in the fast-growing hierarchy. The Googology entry seems to indicate that, for example, finite promise games produce a faster-growing computable function.\n",
        "\n",
        "* **TREE(3) is indistinguishable from zero compared to Loader's number[1]**, which basically takes every bit pattern up to some n and expresses this as a program in the Calculus of Constructions. This system is a bit weaker than being Turing complete, but the programs do always terminate (this makes the number computable compared with, say, the Busy Beaver number which does a similar thing with Turing complete programs).\n",
        "It also has the geek cred of being represented by an obfuscated C program (the unobfuscated verson is also available[2]).\n",
        "[1] http://googology.wikia.com/wiki/Loader%27s_number\n",
        "[2] https://github.com/rcls/busy\n",
        "\n",
        "\n",
        "**SCG(13) and SSCG(3)** [Friedman's SSCG function](https://en.m.wikipedia.org/wiki/Friedman's_SSCG_function)\n",
        "\n",
        "* https://en.m.wikipedia.org/wiki/Friedman%27s_SSCG_function\n",
        "\n",
        "* https://en.m.wikipedia.org/wiki/Friedman's_SSCG_function\n",
        "\n",
        "* SCG(13) and SSCG(3) - [Friedman's SSCG function](https://en.m.wikipedia.org/wiki/Friedman's_SSCG_function). SCG(13) is computable, whereas Rayo's number is uncomputable. Rayo's number >> SCG(13).\n",
        "\n",
        "* The SSCG sequence begins slower than SCG, SSCG(0) = 2, SSCG(1) = 5, but then grows rapidly.\n",
        "\n",
        "* This number is known for being able to surpass TREE(3) and is defined with SSCG. It is praised for being much larger than TREE(TREE(TREE(TREE… (over TREE(3) times …TREE(TREE(TREE(TREE(3)…).\n",
        "\n",
        "* SSCG(3) is much larger than both TREE(3)\n",
        "\n",
        "* SCG(13) is computable, whereas Rayo's number is uncomputable. From here we can already say Rayo's number >> SCG(13). For large numbers beyond g(64), we can only use boundaries to define them, hence the uncertainty.\n",
        "\n",
        "* Adam P. Goucher claims there is no qualitative difference between the asymptotic growth rates of SSCG and SCG. He writes \"It's clear that SCG(n) ≥ SSCG(n), but I can also prove SSCG(4n + 3) ≥ SCG(n).\"\n",
        "\n",
        "\n",
        "* SCG(13) and SSCG(3) - [Friedman's SSCG function](https://en.m.wikipedia.org/wiki/Friedman's_SSCG_function). SCG(13) is computable, whereas Rayo's number is uncomputable. Rayo's number >> SCG(13).\n",
        "\n",
        "\n"
      ],
      "metadata": {
        "id": "bek6CfuxWq1H"
      }
    },
    {
      "cell_type": "markdown",
      "source": [
        "<font color=\"red\">**$\\uparrow \\uparrow$ Here separates the computable from the uncomputable $\\downarrow \\downarrow$**\n",
        "\n",
        "**Busy Beaver - Separating the computable from the uncomputable**\n",
        "\n",
        "* [Busy Beaver](https://en.m.wikipedia.org/wiki/Busy_beaver): endliche, aber im Allgemeinen nicht berechenbare Funktion. The Busy Beaver function Σ(n) grows faster than any computable function. Hence, it is not computable; only a few values are known. some mathematical system loose the ability to prove its values beyond a point. ps: Rayo's number is much bigger than the Beaver - but the Busy Beaver isn't relevant to Rayo. Rayo is fundamentally about truth rather than provability, and so the relevant \"logical obstacle\" is Tarski's undefinability theorem rather than the incomputability of the halting problem\n",
        "\n",
        "* Difference between (in)finite value and (in)finite instruction: ZFC can't pin down the precise value of even BB(7918). However, ZFC can define the Busy Beaver function itself, in less than, say, a billion symbols.\n",
        "\n",
        "* Die [Fleißiger-Biber-Funktion bzw. Radó-Funktion Σ](https://de.m.wikipedia.org/wiki/Flei%C3%9Figer_Biber) ist in der theoretischen Informatik ein Standardbeispiel für eine **endliche, aber im Allgemeinen nicht berechenbare Funktion**\n",
        "\n",
        "* **Open Questions**: Open Questions BB($10^{100}$) > Tree($10^{100}$) ??.\n",
        "\n",
        "* Die Rado-Funktion Σ ist nicht Turingmaschinen-berechenbar. Obwohl es sehr viele nicht-berechenbare Funktionen gibt - sogar mehr als berechenbare -, muss man sich doch Außergewöhnliches einfallen lassen, um eine nicht-berechenbare Funktionen möglichst konkret zu beschreiben. [Source](https://www.inf-schule.de/algorithmen/berechenbarkeit/grenzenderberechenbarkeit/station_fleissigebiber)\n",
        "\n",
        "https://en.m.wikipedia.org/wiki/Busy_beaver\n",
        "\n",
        "* $\\sum(n)$ : The Busy Beaver function\n",
        "  * Consider all n-state Turing machines.\n",
        "  * Run each on a tape of all 0's.\n",
        "  * Of all machines that halted,\n",
        "    * $\\sum(n)$ = max count of 1's\n",
        "\n",
        "* **$\\Sigma(n)$ is not a computable function!** (for all n, but for a specific n it's computable). **The Busy Beaver function Σ(n) grows faster than any computable function. Hence, it is not computable; only a few values are known**\n",
        "\n",
        "* Some mathematical system loose the ability to prove its values beyond a point. A computable function requires a finite number of steps to produce the output. Siehe [Berechenbarkeit](https://de.m.wikipedia.org/wiki/Berechenbarkeit)\n",
        "\n",
        "* this function grows faster than any computable function! For: If f(n) : $\\mathbb{N}$ => $\\mathbb{N}$ for any computable function, then there exists $n_f$ such that: $f(n) < \\Sigma(n)$ for all $n$ ≥ $n_f$\n",
        "\n",
        "* **Means: The busy beaver function beyond some value of $\\mathbb{N}$ will grow faster than $\\mathbb{N}$**\n",
        "\n",
        "* There are true statements like: \"$\\Sigma$(1000) = k\" that cannot be proved in our normal axiomatic systems. Mathematics looses the ability to make claims about these numbers.\n",
        "\n",
        "* the nineteenth busy beaver number is greater than grahams number\n",
        "\n",
        "* [Aaronson: Busy Beaver Updates: Now Even Busier](https://scottaaronson.blog/?p=6673)\n",
        "\n",
        "* Source Video: [The Boundary of Computation](\n",
        "https://www.youtube.com/watch?v=kmAc1nDizu0):\n",
        "\n",
        "![geometry](https://raw.githubusercontent.com/deltorobarba/repo/master/sciences_1627.png)\n",
        "\n",
        "![geometry](https://raw.githubusercontent.com/deltorobarba/repo/master/sciences_1628.png)\n",
        "\n",
        "![geometry](https://raw.githubusercontent.com/deltorobarba/repo/master/sciences_1629.png)\n",
        "\n",
        "\n",
        "**Rayo($10^{100}$)** [Rayo's number](https://en.m.wikipedia.org/wiki/Rayo).\n",
        "\n",
        "* Rayo's number is the smallest number that cannot be expressed anymore. even grahams number would look like a 0 next to rayos number. [Video](https://www.youtube.com/watch?v=X3l0fPHZja8).\n",
        "\n",
        "* Rayo's number is defined as the smallest number that is larger than any number that can be named by an expression in the language of first-order set theory with a googol symbols or less. This means that Rayo's number is much larger than a Gogol.\n",
        "\n",
        "* Compared to Busy beaver: Rayo is way way way way WAY bigger than the Beaver - but the Busy Beaver just isn't relevant to Rayo.) Rayo is fundamentally about truth rather than provability, and so the relevant \"logical obstacle\" is Tarski's undefinability theorem rather than the incomputability of the halting problem [Source](https://math.stackexchange.com/questions/3910468/a-confusion-regarding-rayos-number-and-busy-beaver-function)\n",
        "\n",
        "**Chaitin's constant / Chaitin's Omega number**\n",
        "\n",
        "* Chaitin’s omega number [4], **which is interpretable as the halting probability of a universal computer**, can be “computed in the limit” (without any computable radius of convergence) by a finite-size pro- gram in infinite time and with infinite space. Just as for the difference being the absence of any computable radius of convergence the first digits of omega are well known [5], yet omega has been proved to be algorithmically incompressible and thus random (doi:10.1016/j.amc.2005.09.076)\n",
        "\n",
        "* Are chaitin‘s constant and chaitin‘s omega number the same?\n",
        "\n",
        "  * Yes, Chaitin's constant and Chaitin's Omega number refer to the same concept in algorithmic information theory. Here's a breakdown of why:\n",
        "\n",
        "  * **Chaitin's Omega Number (Ω)**\n",
        "    * **Definition:** The Chaitin Omega number (Ω) is a real number representing the probability that a randomly constructed self-delimiting program will halt when run on a universal Turing machine.\n",
        "    * **Significance:**  It demonstrates the fundamental limits of formal systems and the existence of uncomputable truths.\n",
        "  * **Key Properties of Chaitin's Omega Number**\n",
        "    * **Uncomputable:** There's no algorithm that can compute all the digits of Ω.\n",
        "    * **Transcendental:** It's not the root of any polynomial equation with integer coefficients.\n",
        "    * **Normal:** Its digits are statistically random, meaning any finite sequence of digits appears with the expected frequency.\n",
        "  * **Why the Names Are Used Interchangeably**\n",
        "    * The terms \"Chaitin's constant\" and \"Chaitin's Omega number\" are used synonymously because:\n",
        "    * **Gregory Chaitin:** Both terms refer to the work of mathematician and computer scientist Gregory Chaitin.\n",
        "    *  **Halting Probability:**  They represent the same fundamental idea of the probability of a random program halting.\n",
        "\n",
        "* [Chaitin's constant](https://en.m.wikipedia.org/wiki/Chaitin%27s_constant) or halting probability is a real number that, informally speaking, represents the probability that a randomly constructed program will halt.\n",
        "\n",
        "* ***Chaitin's number is transfinite. It is an uncomputable number that measures the randomness of a computer program***. The higher the Chaitin's number, the more random the program is. Chaitin's number is uncomputable (because it is impossible to determine the halting probability of a Turing machine.)\n",
        "\n",
        "* Each halting probability is a normal and transcendental real number that **is not computable**, which means that there is no algorithm to compute its digits. Each halting probability is [Martin-Löf random](https://en.m.wikipedia.org/wiki/Algorithmically_random_sequence), meaning there is not even any algorithm which can reliably guess its digits.\n",
        "\n",
        "**Fish number 7**\n",
        "\n",
        "* Fish number 7 belongs to the family of the fish numbers, which were defined by a Japanese googologist. **Fish numbers were often classified as “above Rayo's number”**, and they're pretty incomprehensible. [More info](https://googology.fandom.com/wiki/Fish_number_7).\n",
        "\n",
        "**Merten‘s Conjecture** $10^{10^{40}}$\n",
        "\n",
        "* [Merten‘s Conjecture](https://en.m.wikipedia.org/wiki/Mertens_conjecture) is disproven: at some point the sum will surpass the square root of the number. [Video](https://youtu.be/uvMGZb0Suyc).\n",
        "* If it had been true, that it would proof the Riemann hypothesis\n",
        "* But if we knew it, we cannot write it down, because **we would need more atoms than exist in the universe to write it down**\n",
        "    * PRIZE FOR SOLVING RIEMANN HYPOTHESIS $ 10€\n",
        "    * STARS IN THE UNIVERSE 10^22\n",
        "    * ATOMS IN THE UNIVERSE 10^80\n",
        "    * MERTENS CONJECTURE FAILS $10^{10^{40}}$\n",
        "* We have no way to describe the first that it happens, but we know it exists\n",
        "\n"
      ],
      "metadata": {
        "id": "DRzsUXULYvpO"
      }
    },
    {
      "cell_type": "markdown",
      "source": [
        "**Infinity $\\infty$ and Transfinite numbers**\n",
        "\n",
        "*überabzählbare und abzählbare Unendlichkeit*\n",
        "\n",
        "* Tatsächlich gibt es nicht nur eine Unendlichkeit, sondern gleich unendlich viele. So unterscheidet man beispielsweise zwischen der Unendlichkeit der natürlichen Zahlen und der reellen Zahlen: Während man natürliche Zahlen wie 1, 2, 3, … lückenlos auflisten kann, ist das mit reellen Zahlen unmöglich. Eine Aufzählung existiert nicht, selbst wenn die Liste unendlich lang ist. Denn zwischen zwei reellen Zahlen findet man immer eine weitere, die dazwischensteckt. Auch wenn man vermuten würde, dass das bei Bruchzahlen ebenso ist, lassen diese sich dennoch wie die natürlichen Zahlen aufzählen, zum Beispiel, indem man sie nach der Größe ihres Nenners ordnet: 1⁄1, 1⁄2, 1⁄3, 2⁄3, 1⁄4, 3⁄4, 1⁄5, 2⁄5, 3⁄5, 4⁄5, … Damit haben wir zwei Kategorien von Unendlichkeiten ausgemacht: abzählbare Unendlichkeit, wie die der natürlichen oder rationalen Zahlen, und überabzählbare Unendlichkeit, wie die der reellen Zahlen. Und auch wenn beides unvorstellbare Größen sind, ist ihr Unterschied erheblich.\n",
        "\n",
        "https://www.spektrum.de/kolumne/masstheorie-eine-wahrscheinlichkeit-von-null-heisst-nicht-unmoeglich/2092452\n",
        "\n",
        "*In mathematics, transfinite numbers are numbers that are greater than all finite numbers. They are often used in set theory and topology.*\n",
        "\n",
        "There are two main types of transfinite numbers: ordinal numbers and cardinal numbers. Ordinal numbers are used to order sets, while cardinal numbers are used to count the number of elements in a set.\n",
        "\n",
        "Some examples of transfinite numbers are:\n",
        "\n",
        "* **$\\omega$** (omega): The smallest transfinite ordinal number. It is the order type of the natural numbers.\n",
        "* **$\\omega^2$** (omega squared): The number of all possible orderings of the natural numbers.\n",
        "* **$\\aleph_0$** (aleph null): The smallest transfinite cardinal number. It is the cardinality of the set of natural numbers.\n",
        "* **$\\aleph_1$** (aleph one): The cardinality of the set of all countable ordinal numbers.\n",
        "* **$\\aleph_2$** (aleph two): The cardinality of the set of all uncountable ordinal numbers.\n",
        "\n",
        "Transfinite numbers can be used to solve problems that are impossible to solve with finite numbers. For example, the problem of determining whether a given set is countable or uncountable can only be solved using transfinite numbers.\n",
        "\n",
        "The study of transfinite numbers is a complex and fascinating area of mathematics. It has applications in many different areas of mathematics, including set theory, topology, and logic.\n",
        "\n",
        "**what is the relationship between transfinite numbers and infinity?**\n",
        "\n",
        "Transfinite numbers are numbers that are greater than all finite numbers. Infinity is a concept that refers to something that is boundless or endless.\n",
        "\n",
        "The relationship between transfinite numbers and infinity is that transfinite numbers are a way of quantifying infinity. In other words, transfinite numbers allow us to talk about different sizes of infinity.\n",
        "\n",
        "For example, the natural numbers (1, 2, 3, ...) are finite numbers. The set of all natural numbers is countable, which means that it can be put into a one-to-one correspondence with the set of all positive integers.\n",
        "\n",
        "The set of all real numbers is uncountable, which means that it cannot be put into a one-to-one correspondence with the set of all positive integers. This means that the set of all real numbers is larger than the set of all natural numbers.\n",
        "\n",
        "Transfinite numbers can be used to quantify the size of the set of all real numbers. The smallest transfinite cardinal number is $\\aleph_0$, which is the cardinality of the set of all natural numbers. The cardinality of the set of all real numbers is $\\aleph_1$, which is larger than $\\aleph_0$.\n",
        "\n",
        "There are many different transfinite numbers, and they can be used to quantify the size of different sets. The study of transfinite numbers is a complex and fascinating area of mathematics.\n",
        "\n",
        "Here are some other ways to think about the relationship between transfinite numbers and infinity:\n",
        "\n",
        "* Transfinite numbers are a way of making infinity more precise.\n",
        "* Transfinite numbers allow us to compare different infinities.\n",
        "* Transfinite numbers can be used to solve problems that are impossible to solve with finite numbers.\n",
        "\n",
        "The study of transfinite numbers is a complex and fascinating area of mathematics. It has applications in many different areas of mathematics, including set theory, topology, and logic.\n",
        "\n",
        "http://peter-ripota.de/mathe/ordinalzahlen-einfach-weiterzaehlen/von-%CF%89-zu-%CE%B50-von-klein-omega-zu-epsilon-null/\n",
        "\n",
        "\n",
        "Infinity is not a number, it's an idea, a concept. Hence you cannot equal something to infinity.\n",
        "\n",
        "Aleph Null\n",
        "\n",
        "https://de.m.wikipedia.org/wiki/Aleph-Funktion\n",
        "\n",
        "https://www.spektrum.de/lexikon/mathematik/amp-aleph-0-aleph-null/443\n",
        "\n",
        "[Counting beyond infinity](https://youtu.be/SrU9YDoXE88)\n",
        "\n",
        "https://www.quantamagazine.org/how-many-numbers-exist-infinity-proof-moves-math-closer-to-an-answer-20210715/\n",
        "\n",
        "* Kontinuumshypothese (Cantor) kann man nicht beweisen oder widerlegen (Gödel). Die Mathematik kann funktionieren, wenn man sowohl davon ausgeht, dass die Kontiuumshypothese gilt, als auch, dass sie nicht gilt.\n",
        "\n",
        "* term of size (how many?) is: **Cardinality**\n",
        "\n",
        "* Rules for comparing cardinalities: injection, subjection, bijection\n",
        "\n",
        "![ggg](https://raw.githubusercontent.com/deltorobarba/repo/master/sciences_319.png)\n",
        "\n",
        "* How does the cardinality of a set A compares to that of its power set (=set of all subsets of A including itself)\n",
        "\n",
        "* The cardinality of the power set of A is strictly greater than the cardinality of its original set A, even when it's infinite\n",
        "\n",
        "* [How Big are All Infinities Combined? (Cantor's Paradox) | Infinite Series](https://www.youtube.com/watch?v=TbeA1rhV0D0&list=WL&index=12&t=86s)\n",
        "\n",
        "**Smallest Sizes of Infinity**\n",
        "\n",
        "* intuition is often misleading in mathematics!\n",
        "\n",
        "* There are infinitely many sizes of infinity\n",
        "\n",
        "* Smallest infinity: natural numbers (counting numbers). Here: even numbers and natural numbers are the same size!\n",
        "\n",
        "  * Natural numbers: $\\aleph$ \"Aleph-naught\" (the least infinity cardinality)\n",
        "\n",
        "* We need to find a way to tell which infinity is bigger without counting them.\n",
        "\n",
        "* You use something called Bijection: if you can pair up two sets, they are the same size\n",
        "\n",
        "\t* even numbers and natural numbers are the same size, because there is a bijection between the two sets! Each natural number is [aired with 2 times itself: 1 with 2, 2 with 4, 4 with 6 etc. Damit sind alles odd numbers out, but the set didn't get smaller\n",
        "\n",
        "![ggg](https://raw.githubusercontent.com/deltorobarba/repo/master/sciences_318.png)\n",
        "\n",
        "\t* the natural numbers are also the same size as the integers: Integers include all natural numbers + all the negative whole numbers. We can pair them up exactly, so they must be the same size.\n",
        "\n",
        "![ggg](https://raw.githubusercontent.com/deltorobarba/repo/master/sciences_317.png)\n",
        "\n",
        "* Above the natural numbers are the real numbers in terms of infinity size. After that the real numbers.\n",
        "\n",
        "\t* an interval on the real number line is also an infinity. And an interval on the real line between 0 and 5 has the same size as an interval between 0 and 10. They are ll as big as the real numbers!!\n",
        "\n",
        "\t* You can show that any interval is the same size as the entire real number line !\n",
        "\n",
        "![ggg](https://raw.githubusercontent.com/deltorobarba/repo/master/sciences_316.png)\n",
        "\n",
        "* Cantor wondered if there is an infinity between the natural and the real numbers?\n",
        "\n",
        "\t* CONTINUUM HYPOTHESIS: there is no size of infinity between the natural numbers and the real numbers\n",
        "\n",
        "\t* Decades later, mathematicians found out that the Continuum hypothesis is independent of the Zermela-Fraenkel set theory with choice (ZFC) - the Continuum hypothesis can not be proved or disproved using the standard rules of mathematics\n",
        "\n",
        "* So in one model of the tower of infinities the real numbers sit directly above the natural numbers\n",
        "\n",
        "* But in other models there are many infinities in between\n",
        "\n",
        "* The rules of maths don't say that one tower is correct and the other wrong.\n",
        "\n",
        "> So it seems that mathematics seems to be surprisingly agnostics with regards to which hierarchy of infinities is correct\n",
        "\n",
        "* How does the cardinality of a set A compares to that of its power set (=set of all subsets of A including itself)\n",
        "\n",
        "* The cardinality of the power set of A is strictly greater than the cardinality of its original set A, even when it's infinite"
      ],
      "metadata": {
        "id": "6AKEytfrRpL2"
      }
    },
    {
      "cell_type": "markdown",
      "source": [
        "**Eine Wahrscheinlichkeit von null heißt nicht unmöglich**\n",
        "\n",
        "*$\\hookrightarrow$ 'Improbable but not impossible'*\n",
        "\n",
        "Wenn man also die Wahrscheinlichkeit berechnet, welche Art von reeller Zahl man antrifft, wenn man zufällig eine zieht, erhält man ein eindeutiges Ergebnis: In 100 Prozent der Fälle ist diese Zahl nicht berechenbar. Das heißt aber nicht, dass man keine andere Zahl ziehen kann – bei unendlichen Ereignismengen bedeutet eine Wahrscheinlichkeit von null nicht unmöglich. Das ist umso erstaunlicher, als dass nicht allzu viele nicht berechenbare Zahlen bekannt sind. [Source](https://www.spektrum.de/kolumne/die-meisten-reellen-zahlen-sind-nicht-berechenbar/2133762)\n",
        "\n",
        "https://www.spektrum.de/kolumne/masstheorie-eine-wahrscheinlichkeit-von-null-heisst-nicht-unmoeglich/2092452\n",
        "\n",
        "Dieses Problem wird auch **Dartscheiben-Paradoxon** genannt. Gelöst wird es durch die Erkenntnis, dass eine Wahrscheinlichkeit von null nicht zwangsläufig bedeutet, dass ein Ereignis niemals eintritt – sondern nur, dass es »fast sicher« nicht eintritt.\n",
        "\n",
        "Woher weiß man nun, ob man es mit einem tatsächlich unmöglichen Ereignis (etwa, eine Acht mit einem W6-Würfel zu würfeln) oder einem fast unmöglichen Ereignis (einen bestimmten Punkt auf der Dartscheibe treffen) zu tun hat? Das hängt von der Anzahl der möglichen Ereignisse ab, dem so genannten Ereignisraum: Ist der Ereignisraum endlich (bei einem Würfel besteht er aus sechs Elementen: den sechs Seiten, auf denen er liegen bleiben kann), dann bedeutet eine Wahrscheinlichkeit von null, dass das betrachtete Ereignis niemals eintreten wird. Betrachtet man hingegen einen unendlich großen Ereignisraum (wie die möglichen Treffpunkte auf einer Dartscheibe), dann bedeutet eine Wahrscheinlichkeit von null nicht zwangsläufig, dass das Ereignis nicht eintritt – sondern nur, dass es sehr unwahrscheinlich ist."
      ],
      "metadata": {
        "id": "_YFS2_Vt1_JB"
      }
    },
    {
      "cell_type": "markdown",
      "source": [
        "**Zero power computing** (Fredkin gate):\n",
        "* a perfect fredkin gate doesnt cost energy! (Information theory & Entropy Limits) [How to Perform Calculations Using Zero Power](https://medium.com/hackernoon/zero-power-computing-how-to-perform-calculations-using-zero-power-e2b4bfcd4d7e).\n",
        "* **What costs the energy is not the computation itself, but‘s the raising information**. Take a look at this original Fredkin/Toffoli paper on the subject, section 5 (**nondissipative computation**): https://cqi.inf.usi.ch/qic/82_Fredkin.pdf.\n",
        "* Fredkin: 3 in 3 out, reversable?[Fredkin gate](https://www.wikiwand.com/en/Fredkin_gate). Stackexchange: [Why are reversible gates not used?](https://cs.stackexchange.com/questions/38049/why-are-reversible-gates-not-used/38053#38053).\n",
        "* Science: [A quantum Fredkin gate](https://www.science.org/doi/10.1126/sciadv.1501531). Paper: Thermodynamic [The Cost of computation](https://arxiv.org/abs/1905.05669).\n",
        "* The idea is to perform computations without expending any energy. This is based on the principle of reversible computing, where computations are done in a way that they can be undone, theoretically without any energy loss.\n",
        "* The Fredkin gate is a key component in reversible computing. It's a logic gate that can perform any computation, and it's reversible, meaning the output can be used to reconstruct the input. This is different from traditional logic gates, where some information is lost during the computation, leading to energy dissipation as heat.\n",
        "* Why is it important?\n",
        "  * Energy efficiency: Traditional computers generate a lot of heat, requiring energy for cooling. Zero power computing aims to eliminate this wastage, potentially making computing devices far more energy-efficient.\n",
        "  * Theoretical limits: Landauer's principle states that there's a minimum amount of energy required to erase a bit of information. Reversible computing could theoretically approach this limit, leading to ultra-low power devices.\n",
        "\n"
      ],
      "metadata": {
        "id": "7P8TyPKLSga0"
      }
    },
    {
      "cell_type": "markdown",
      "source": [
        "###### *Limits of Energy in Computation*"
      ],
      "metadata": {
        "id": "HbhRjEgHivEL"
      }
    },
    {
      "cell_type": "markdown",
      "source": [
        "> [Limits to the Energy Efficiency of CMOS Microprocessors](https://arxiv.org/abs/2312.08595)\n",
        "\n",
        "ENERGY COSTS FOR DIFFERENT OPERATIONS IN MODERN MICROPROCESSORS:\n",
        "\n",
        "$\n",
        "\\begin{array}{c|l|c}\n",
        "\\text { Category } & \\text { Energy source } & \\text { Energy cost } \\\\\n",
        "\\hline \\text { 5 (Storage) } & \\text { Storing a bit in DRAM } & 10 \\mathrm{fJ} \\\\\n",
        "\\text { 4 (Static) } & \\text { Leakage current per transistor (100 ps) } & \\sim 1 \\mathrm{aJ} \\\\\n",
        "3 \\text { (Short circuit) } & \\text { Short circuit (inverter) } & 20 \\mathrm{fJ} \\\\\n",
        "1 \\text { (Logic) } & \\text { Switching a CMOS gate } & 100 \\mathrm{aJ}-100 \\mathrm{fJ} \\\\\n",
        "1 \\text { (Logic) } & \\text { Floating Point Operation (fp16) } & \\sim 150 \\mathrm{fJ} \\\\\n",
        "2 \\text { (Interconnect) } & \\text { Communicating a bit across a chip } & 600 \\mathrm{fJ} \\\\\n",
        "2 \\text { (Interconnect) } & \\text { DRAM memory access (per bit) } & \\sim 5 \\mathrm{pJ} \\\\\n",
        "2 \\text { (Interconnect) } & \\text { Communicating a bit off-chip } & 1-10 \\mathrm{pJ}\n",
        "\\end{array}$\n",
        "\n",
        "> **Estimating the limits on the maximum floating point operations per Joule (FLOP/J) for CMOS microprocessors: Combining these yields a geometric mean estimate of 4.7 x 10^15 FP4/J for the maximum CMOS energy efficiency, roughly two hundred-fold more efficient than current microprocessors.**\n",
        "\n",
        "Fundamentally, information processing is subject to the laws of physics and therefore a number of fundamental limits on computation exist.\n",
        "* because of the Bekenstein bound, the memory density of physical systems of finite size and energy must itself be finite. (https://journals.aps.org/prd/abstract/10.1103/PhysRevD.23.287)\n",
        "* Quantum speed limits (https://iopscience.iop.org/article/10.1088/1751-8121/aa86c6) bound the processing speed and Landauer's principle (https://ieeexplore.ieee.org/document/5392446) imposes a lower limit on the energy consumption of each irreversible computing step.\n",
        "* Landauer's limit is given by kbT ln(2) per operation, where kb represents the Boltzmann constant and T the absolute temperature. Current computing hardware is two hundred-fold less efficient (https://arxiv.org/abs/2312.08595). In fact, information and communication technologies consume 10% of the worldwide electricity production (https://dl.acm.org/doi/10.1145/3613207).\n",
        "* An \"ultimate laptop\" of 1 kg of matter confined to 1 l of space would be able to compute at a rate of 5 x 1050 operations per second and store about 1031 bits (https://www.nature.com/articles/35023282)\n",
        "* Source: [Quantum Computing for nonlinear differential equations and turbulence](https://arxiv.org/abs/2406.04826)"
      ],
      "metadata": {
        "id": "p6wfOZCVHZg2"
      }
    },
    {
      "cell_type": "markdown",
      "source": [
        "\n",
        "\n",
        "**Basic Term**\n",
        "\n",
        "* **Clock Speed:** frequency at which a processor executes instructions, measured in Hertz (Hz). determines how many cycles a processor can complete per second.\n",
        "* **Cycle:** basic unit of time in a processor's operation. Instructions may take multiple cycles to complete, depending on complexity.\n",
        "* **Clock Speed and Cycle:** are inversely proportional. Higher clock speed means shorter cycles and more cycles per second. A processor with a clock speed of 3 GHz has a cycle time of 1 / 3 GHz = 0.33 nanoseconds (10$^{-9}$)\n",
        "* **CPU Cycle Time:** time to execute one simple operation (e.g., addition), usually the reciprocal of the clock rate.\n",
        "* **Propagation delay**: time it takes for a signal to travel from input to output of a circuit element, such as a logic gate\n",
        "* **Latency:** time any operation takes from input to output, crucial for determining the total time of a series of operations.\n",
        "* **Throughput:** number of independent operations per unit time, often more than the inverse of latency due to pipelining and superscalar execution.\n",
        "\n",
        "**Clock Cycle and Energy Consumption**\n",
        "\n",
        "* Each clock cycle involves switching transistors, which consumes energy.\n",
        "* This energy consumption is known as **dynamic power** and is proportional to the clock frequency (<font color=\"red\">formula below</font>)\n",
        "* Higher clock frequencies lead to more **switching events** and higher power consumption (<font color=\"red\">formula below</font>)\n",
        "* Static power, or leakage power, also consumes energy even when transistors are not switching.\n",
        "\n",
        "**Impact of Precision on Switching Events and Energy:**\n",
        "* Increasing precision from half to double precision increases the number of bits involved in each operation. Assume each bit involves one switching event:\n",
        "  * Half Precision (FP16) addition operation: 16 bits × 1 switching event per bit = 16 switching events.\n",
        "  * Double Precision (FP64) addition operation: 64 bits × 1 switching event per bit = 64 switching events.\n",
        "* This leads to more transistors switching and a higher number of switching events.\n",
        "* Very complex operation (e.g. lots of multiplications) which could require more switching events than are electrically possible per cycle, then it could only finish the calculation using more cycles, or using cycles with higher frequencies\n",
        "* Higher switching events result in increased dynamic power consumption.\n",
        "\n",
        "\n",
        "**Relation between operations per cycle (OPC) and switching events per cycle:**\n",
        "* Depends on **Processor Architecture** (Instruction-Level Parallelism (ILP) and Execution Units, e.g., ALUs, FPU), **Type of Operations** (Simple integer addition vs. Complex floating-point multiplication), **Throughput and Latency**, and **Energy Availability** (Dynamic Power Consumption, Thermal Limits, available power budget for a processor)\n",
        "* Examples:\n",
        "  * 4 ALUs (integer operations, e.g. additions) per cycle, assuming each operation involves 100 switching events. Total Switching Events: 4 operations * 100 switching events/operation = 400 switching events per cycle\n",
        "  * 2 FPU (floating-point operations, e.g. multiplications) per cycle, assuming each operation involves 500 switching events. Total Switching Events: 2 operations * 500 switching events/operation = 1000 switching events per cycle\n",
        "  *  Mixed Operations* 3 integer additions + 1 floating-point multiplication Operations per Cycle. (3 * 100) + (1 * 500) = 800 switching events per cycle.\n",
        "\n",
        "\n",
        "\n"
      ],
      "metadata": {
        "id": "mEtCK9NwixFV"
      }
    },
    {
      "cell_type": "markdown",
      "source": [
        "<font color=\"red\">*Dynamic Power Consumption (Total Capacitance)*</font>\n",
        "* **Dynamic power consumption** in a digital circuit is primarily due to the switching of capacitance, and it can be calculated using the following formula: $P_{\\text{dynamic}} = \\alpha C V^2 f$, where $\\alpha$ = Activity factor (fraction of capacitive nodes switching per cycle), $C$ = Total capacitance (200 picofarads (pF) cumulative capacitance that the circuit deals with during switching events), $V$ = Supply voltage, $f$ = Clock frequency\n",
        "* **Capacitance** $C$ in digital circuits (CPU): amount of electric charge stored on circuit per unit voltage measured as farad (F). <font color=\"blue\">Total capacitance determines energy consumed per switching event, contributing to the overall dynamic power consumption of the CPU.</font>\n",
        "  * Every time a transistor switches states (from 0 to 1 or 1 to 0), it charges or discharges the capacitance associated with it.\n",
        "  * This charging and discharging consume energy, contributing to the dynamic power consumption of the circuit.\n",
        "* Types: **Gate Capacitance** (determined by physical dimensions and materials used in transistor), **Interconnect (parasitic) Capacitance** (wiring between transistors also adds capacitance), **Load Capacitance** (loads connected to outputs of logic gates, e.g. inputs of subsequent stages).\n",
        "* Improve: Use smaller transistors. Optimize circuit layout to reduce interconnect length. Implement techniques like clock gating, dynamic voltage and frequency scaling (DVFS), and using low-capacitance materials.\n",
        "* **Example calculation of dynamic power consumption**: Activity factor $\\alpha$: 1 (assuming all nodes switch every cycle, which is a simplifying assumption), Supply voltage $V$: 1.2 volts, Clock frequency $f$: 2 GHz (2 billion cycles per second): Plug these values into the **dynamic power consumption formula** $P_{\\text{dynamic}} = \\alpha C V^2 f$:\n",
        "  * $P_{\\text{dynamic}} = 1 \\times 200 \\times 10^{-12} \\times (1.2)^2 \\times 2 \\times 10^9$\n",
        "  * $P_{\\text{dynamic}} = 200 \\times 10^{-12} \\times 1.44 \\times 2 \\times 10^9 $\n",
        "  * $P_{\\text{dynamic}} = 200 \\times 1.44 \\times 2 \\times 10^{-3} $\n",
        "  * **$P_{\\text{dynamic}} = 576$ mW (milliwatts) dynamic power consumption**"
      ],
      "metadata": {
        "id": "bgj6Znpxy4ts"
      }
    },
    {
      "cell_type": "markdown",
      "source": [
        "<font color=\"red\">*Energy per Switching Events*</font>\n",
        "* **How much energy consumes one switching event?**\n",
        "* Typically in the order of femtojoules (fJ). Depends on factors like capacitance and supply voltage. Switching consumes energy, primarily due to charging and discharging the capacitive loads in the circuit.\n",
        "* As a very rough approximation: if processor runs at 100MHz (10ns period) then energy consumed per cycle is about 8.2nJ\n",
        "* Energy consumption per switching event can be estimated using the concept of dynamic power consumption (closely related to capacitive load of circuit and supply voltage)\n",
        "* Dynamic power consumed by a digital circuit is given by : Power Equation: $P_{\\text{dynamic}} = \\alpha C V^2 f$, where $\\alpha $ is switching activity factor (fraction of capacitive nodes switching per cycle), $C$ is capacitance being switched, $ V$ is supply voltage, and $f$ is clock frequency.\n",
        "* Energy consumed per switching event $E$ can be approximated by considering the energy required to charge and discharge a capacitor:\n",
        "$E = \\frac{1}{2} C V^2$\n",
        "* Calculate energy per switching event\n",
        "  * Capacitance $C$: Assume a typical value of 1 femtofarad (1 fF = $10^{-15}$ farads) per transistor gate.\n",
        "  * Supply voltage $V$: Assume a typical value of 1.2 volts.\n",
        "  * Using $E = \\frac{1}{2} C V^2$, substitute values:\n",
        "  * $ E = \\frac{1}{2} \\times 1 \\times 10^{-15} \\times (1.2)^2$\n",
        "  * $E = \\frac{1}{2} \\times 1 \\times 10^{-15} \\times 1.44$\n",
        "  * $E = 0.72 \\times 10^{-15}$\n",
        "  * **$E = 0.72$ femtojoules (fJ) estimated energy per switching event**\n",
        "* **Reducing Energy Cost per Switching Event:**\n",
        "Several strategies can be employed:\n",
        "  * Reducing capacitance (e.g., smaller transistors, optimized interconnects).\n",
        "  * Lowering supply voltage (Voltage Scaling, Multi-Threshold CMOS (MTCMOS), Sub-Threshold Operation)\n",
        "  * Improving circuit design (e.g., clock gating, power gating, Optimized Logic Design, Adaptive Body Biasing)\n",
        "  * Using advanced fabrication technologies (e.g., FinFET, GAAFET, SOI (Silicon on Insulator), 3D stacking of transistors).\n",
        "  * Software and algorithmic optimizations (Algorithmic Efficiency, Compiler Optimizations)"
      ],
      "metadata": {
        "id": "PeWPu-riBbOV"
      }
    },
    {
      "cell_type": "markdown",
      "source": [
        "<font color=\"red\">*Physical Limits of Transistor Switching during Computation (Propagation delay)*\n",
        "\n",
        "* Propagation delay impacts how quickly the transistors within circuit can respond to changes in input signals, which in turn affects the maximum speed (clock frequency) at which the circuit can operate.\n",
        "* **General Factors**:\n",
        "  * **Gate Delay** (time required for capacitive loads at gate’s output to charge or discharge through transistors). **Intrinsic Gate Delay** (influenced by materials). **Load Gate Delay** (capacitance of wiring and input capacitance of subsequent gates).\n",
        "  * **RC Delay** (modeled using resistance R and capacitance C. Determines how quickly a voltage change can propagate through circuit. Higher resistance or capacitance increases RC time constant, thus increasing propagation delay).\n",
        "  * **Interconnect Delay** (transistors are connected by metal wires on chip - length and properties of these interconnects introduce additional delay. Modern integrated circuits have multiple layers of metal interconnects, and delay through these interconnects can become significant, especially as feature sizes shrink.\n",
        "  * **Fan-Out** (number of gates that a single gate’s output is connected to (fan-out) affects the load capacitance. Higher fan-out increases the capacitive load, thus increasing the propagation delay.)\n",
        "\n",
        "* **Material Properties**:\n",
        "   - **Silicon**: Traditional silicon-based transistors have limitations in how fast electrons can move through the material. This intrinsic property of silicon sets a fundamental limit on switching speed.\n",
        "   - <font color=\"blue\">**Advanced Materials**: New materials like gallium arsenide (GaAs) or graphene have higher electron mobility and can switch faster, but they come with other challenges in fabrication and integration.</font>\n",
        "\n",
        "* **Quantum Effects**:\n",
        "   - <font color=\"blue\">As transistor sizes shrink to the nanometer scale, quantum mechanical effects become significant. Electron tunneling and other quantum phenomena can interfere with transistor operation, leading to leakage currents and increased power dissipation.</font>\n",
        "   - <font color=\"blue\">**Threshold Voltage Variability**: Variations in the threshold voltage due to quantum effects can cause inconsistencies in switching times.</font>\n",
        "\n",
        "* **Thermal Limits**:\n",
        "   - Higher switching speeds generate more heat. Excessive heat can damage transistors and degrade performance. Effective heat dissipation is critical, and thermal limits often constrain the maximum operational frequency.\n",
        "   - **Electromigration**: High current densities can cause metal atoms in interconnects to migrate, leading to circuit failures over time.\n",
        "\n",
        "* **Power Dissipation**:\n",
        "   - **Dynamic Power**: Power consumed during switching is proportional to the switching frequency and the capacitive load. $P_{\\text{dynamic}} = \\alpha C V^2 f$, where $\\alpha$ is the activity factor, $C$ is the capacitance, $V$ is the voltage, and $f$ is the frequency.\n",
        "   - **Static Power**: Power consumed due to leakage currents even when transistors are not switching. As transistors shrink, leakage currents become a more significant proportion of total power dissipation."
      ],
      "metadata": {
        "id": "aUgWnQONKI7q"
      }
    },
    {
      "cell_type": "markdown",
      "source": [
        "###### *Limits of Precision and Operations*"
      ],
      "metadata": {
        "id": "r_8qZBxin5SQ"
      }
    },
    {
      "cell_type": "markdown",
      "source": [
        "<font color=\"Blue\">**Flow of Compilation in Programming Languages**</font>\n",
        "\n",
        "* **First generation (1GL)**:\n",
        "  * Machine code (binary befehle), written in binary code\n",
        "  * machine-specific = each language designed for a specific type of computer\n",
        "\n",
        "* **Second generation (2GL)**:\n",
        "  * Assembly Language, mit [Hexadezimalsystem](https://de.m.wikipedia.org/wiki/Hexadezimalsystem), wie Intel x86, still machine-specific, but easier to write and read than binary code. Assembly languages used mnemonics (=abbreviations for machine instructions)\n",
        "  * Shell: command-line interpreter to control operating system (automate tasks). Book: [Assembler-Programmierung für x86-Prozessoren\n",
        "  ](https://de.m.wikibooks.org/wiki/Assembler-Programmierung_für_x86-Prozessoren/_Druckversion)\n",
        "\n",
        "* **Third generation (3GL)**:\n",
        "  * high-mid level progamming language, like BASIC, COBOL, FORTRAN, Pascal, C, Python, C++, Java, Perl\n",
        "  * (high-mid level progamming language):\n",
        "  * were a major breakthrough in programming: 3GL languages were not machine-specific anymore\n",
        "  * 3GL languages also used English-like keywords = easier to learn and use than assembly languages\n",
        "\n",
        "* **Fourth generation (4GL)**:\n",
        "  * SQL, PL/SQL, Visual Basic, PowerBuilder, TensorFlow\n",
        "  * also known as non-procedural languages, were designed to make programming even easier.\n",
        "  4GL languages use natural language statements to describe what the program should do, rather than how to do it. This makes 4GL languages ideal for business applications.\n",
        "\n",
        "* **Fifth generation (5GL)**:\n",
        "  * [Prolog](https://en.m.wikipedia.org/wiki/Prolog), OPS5, Mercury\n",
        "  * also known as logic programming languages, are based on AI: use logic to solve problems, rather than traditional programming techniques\n",
        "  * 5GL languages are still in their early stages of development\n",
        "\n",
        "**Modern flow of compilation involves following steps**:\n",
        "\n",
        "1. **Preprocessing:** This step removes comments and other non-essential text from the source code.\n",
        "2. **Lexical analysis:** This step breaks the source code into tokens, which are the basic building blocks of the language.\n",
        "3. **Parsing:** This step constructs a parse tree, which is a graphical representation of the syntactic structure of the source code.\n",
        "4. **Semantic analysis:** This step checks the source code for errors in its meaning.\n",
        "5. **Code generation:** This step generates machine code from the parse tree.\n",
        "6. **Optimization:** This step can improve the performance of the machine code by removing unnecessary instructions or by rearranging the instructions in a more efficient order."
      ],
      "metadata": {
        "id": "yAO-PIoC6Atc"
      }
    },
    {
      "cell_type": "markdown",
      "source": [
        "<font color=\"Blue\">**Binary Integer and Floating Point Arithmetic**</font>\n",
        "* [Binärsysteme (Dual)](https://de.wikipedia.org/wiki/Dualsystem) und [Terniärsysteme](https://de.wikipedia.org/wiki/Tern%C3%A4rsystem) und [Gleitkommazahl](https://de.m.wikipedia.org/wiki/Gleitkommazahl) und [Floating-point arithmetic](https://en.m.wikipedia.org/wiki/Floating-point_arithmetic) und [Scientific notation](https://en.m.wikipedia.org/wiki/Scientific_notation)\n",
        "* [BITNET STATT GLEITKOMMAZAHLEN](https://www.golem.de/news/bitnet-statt-gleitkommazahlen-forscher-versprechen-massive-effizienzsteigerung-bei-ki-2403-182763.html): Die Verwendung eines Ternärsystems statt Gleitkommazahlen soll große KI-Sprachmodelle massiv beschleunigen und vereinfachen – ohne Qualitätsverlust\n",
        "* **Binary <font color=\"Blue\">Integer</font> Representation**\n",
        "  * In integer is no concept of mantissa or exponent. $1101_2$ is plain binary number representing integer 13.\n",
        "  * <font color=\"red\">Each digit in a binary number represents a power of 2</font>, starting from the rightmost digit as $2^0$ (which is 1) and increasing towards the left ($2^1, 2^2, 2^3$ etc).\n",
        "  * <font color=\"red\">From binary to decimal: a,b,c,d sind 0 oder 1, dann: $[abcd]_{2}$ in binary $= a\\cdot 2^{3}+b\\cdot 2^{2}+c\\cdot 2^{1}+d\\cdot 2^{0}=[xx]_{10}$ in decimal</font>\n",
        "  * Example: **1101 in binary is 13 in decimal**: [<font color=\"blue\">1101</font>]$_{2}=$<font color=\"blue\">1</font>$\\cdot$ $2^{3}+$<font color=\"blue\">1</font>$\\cdot 2^{2}+$<font color=\"blue\">0</font>$\\cdot 2^{1}+$<font color=\"blue\">1</font>$\\cdot 2^{0}=[13]_{10}$\n",
        "  * Same logic in decimal representation: **1101 in decimal ist 1101 in decimal**: $1\\cdot 10^{3}+1\\cdot 10^{2}+0\\cdot 10^{1}+1\\cdot 10^{0}=[1101]_{10}$\n",
        "  * <font color=\"red\">From decimal to binary:</font> Why does it require 7 bits to represent 99 in binary? Divide 99 successively by 2 until the quotient is 0:\n",
        "    * 99/2 = 49, remainder is 1\n",
        "    * 49/2 = 24, remainder is 1\n",
        "    * 24/2 = 12, remainder is 0\n",
        "    * 12/2 = 6, remainder is 0\n",
        "    * 6/2 = 3, remainder is 0\n",
        "    * 3/2 = 1, remainder is 1\n",
        "    * 1/2 = 0, remainder is 1\n",
        "  * Read from the bottom (MSB) to top (LSB) as 1100011. This is the binary equivalent of decimal number 99. These are 7 digits\n",
        "  * ps: The maximum number that can be represented with *n* bits is 2^n - 1. With 6 bits, the maximum is 2^6 - 1 = 63.  Since 99 is greater than 63, we need at least 7 bits to represent it.\n",
        "* **Binary <font color=\"Blue\">Floating-Point</font> Representation**\n",
        "  * Allows broader range of values, including fractions and large or small numbers, by using mantissa and exponent\n",
        "    * **Sign Bit**: single bit indicates whether positive or negative. 0 usually represents positive, 1 represents negative number.\n",
        "    * **Base (Radix)**: In binary it's 2, in decimal it's 10.\n",
        "    * **Exponent**: scales significand by base raised to power of exponent (determines range of the number)\n",
        "    * **Significand (Mantissa, Fraction)**: represents significant digits of number (usually includes leading bit, eg 1 in base 2)\n",
        "  * **Structure**: A double-precision floating-point number is represented as: $(-1)^{\\text{sign}} \\times 1.\\text{fraction} \\times 2^{\\text{exponent} - 1023}$\n",
        "    * **Decimal floating point number**: $1.234 \\times 10^5$ $\\rightarrow$ Base 10, Exponent 5, Significand 1.234\n",
        "    * **Binary floating point number**: $1.101 \\times 2^3$ $\\rightarrow$ Base 2, Exponent 3, Significand 1.101\n",
        "  * **Example**: Calculate binary floating-point number $1.101 \\times 2^3$ in decimal:\n",
        "    * **Step 1: Expand the significand (mantissa)**: $1.101_2 = 1 \\cdot 2^0 + 1 \\cdot 2^{-1} + 0 \\cdot 2^{-2} + 1 \\cdot 2^{-3}$\n",
        "    * $1 \\cdot 2^0 = 1$ and $1 \\cdot 2^{-1} = \\frac{1}{2} = 0.5$ and $0 \\cdot 2^{-2} = 0$ and $1 \\cdot 2^{-3} = \\frac{1}{8} = 0.125$\n",
        "    * Adding together: $1 + 0.5 + 0 + 0.125 = 1.625_{10}$ which shows that $1.101_2$ is equivalent to $1.625_{10}$\n",
        "    * **Step 2: Apply the exponent:** $2^3$ = $1.625_{10} \\times 2^3 =$ **$1.625 \\times 8 = 13_{10}$** (In binary $1.101 \\times 2^3$ is $13$ in decimal)\n",
        "* <font color=\"blue\">**Computational Capacity for Bits in Double Precision**</font>: 1 sign bit, 11 bit Exponent, 52 bits Significand (with implicit leading 1 bit for normalized numbers). Example of **storing floating-point number $1.101 \\times 2^3$** in IEEE 754 Double Precision format:\n",
        "  1. **Sign Bit**: 0 (since the number is positive)\n",
        "  2. **Exponent**: 10000000010, because:\n",
        "    * **Actual Exponent**: 3 (in decimal)\n",
        "    * **Bias**: 1023\n",
        "    * **Stored Exponent**: $3 + 1023 = 1026$\n",
        "    * **Binary Representation of Stored Exponent**: Convert $1026$ to binary: $1026_{10} = 10000000010_2$\n",
        "  3. **Mantissa (Significand)**: For the number $1.101_2$ (is already binay)\n",
        "   * $1.101_2 = 1.1010000000000000000000000000000000000000000000000000_2$ = (52 bits)\n",
        "  4. **Result**: Storing floating-point number $1.101 \\times 2^3$ in double precision:\n",
        "  * [$\\text{Sign Bit} \\ | \\ \\text{Exponent (11 bits)} \\ | \\ \\text{Mantissa (52 bits)}$]\n",
        "  * $[0 \\ | \\ 10000000010 \\ | \\ 1010000000000000000000000000000000000000000000000000]$"
      ],
      "metadata": {
        "id": "fC88m-A6GDyD"
      }
    },
    {
      "cell_type": "markdown",
      "source": [
        "![sciences](https://raw.githubusercontent.com/deltorobarba/repo/master/sciences_1758.png)"
      ],
      "metadata": {
        "id": "XsiCkGN44jwI"
      }
    },
    {
      "cell_type": "markdown",
      "source": [
        "<font color=\"blue\">**Quarter Precision (FP8):**\n",
        "- **Bits:** 8 bits\n",
        "- **Exponent:** 4 bits (with a common bias is 7)\n",
        "- **Mantissa (Fraction):** 3 bits\n",
        "- **Significant (Decimal) Digits** (Nachkommastellen): 3 to 4 decimal digits\n",
        "- Value of an FP8 floating-point number: $(-1)^{\\text{sign}} \\times 2^{(\\text{exponent} - \\text{bias})} \\times (1 + \\text{mantissa} \\times 2^{-3})$\n",
        "* For example this binary FP8 representation: $11001101_2$\n",
        "  - **Sign bit**: 1 (negative number)\n",
        "  - **Exponent**: 1001 (binary) = 9 (decimal), unbiased: 9 - 7 = 2\n",
        "  - **Mantissa**: 101 (binary) = 5 (decimal)\n",
        "  - Result in decimal: $(-1)^1 \\times 2^{2} \\times (1 + \\frac{5}{8}) = -1 \\times 4 \\times 1.625 = -6.5$\n",
        "- Microsoft Research: [FP8-LM: Training FP8 Large Language Models](https://arxiv.org/abs/2310.18313)\n",
        "\n",
        "\n",
        "<font color=\"blue\">[**Brain Float Precision (Bfloat16):**](https://de.m.wikipedia.org/wiki/Bfloat16)\n",
        "- **Bits:** 16 bits\n",
        "- **Exponent:** 8 bits\n",
        "- **Mantissa (Fraction):** 7 bits\n",
        "- **Significant (Decimal) Digits** (Nachkommastellen): 2 to 3 decimal digits\n",
        "  - Mantissa bits: 10. Approximate decimal digits: $\\log_{10}(2^{7}) =  \\log_{10}(128) \\approx 2.10$\n",
        "- Used in TPUs. Range: The 8-bit exponent allows Bfloat16 to have the same range as the 32-bit single precision (FP32) format because it uses the same exponent width. Precision: The 7-bit mantissa results in less precision compared to FP16, but it simplifies hardware implementation and suffices for many machine learning applications.\n",
        "\n",
        "<font color=\"blue\">[**Half Precision (FP16, Minifloat):**](https://en.m.wikipedia.org/wiki/Minifloat)\n",
        "- **Bits:** 16 bits\n",
        "- **Exponent:** 5 bits\n",
        "- **Mantissa (Fraction):** 10 bits\n",
        "- **Significant (Decimal) Digits** (Nachkommastellen): 3 to 4 decimal digits\n",
        "  - Mantissa bits: 10. Approximate decimal digits: $\\log_{10}(2^{10}) =  \\log_{10}(1024) \\approx 3.01$\n",
        "- Fastest: Allows more data in cache and registers. FP16 is 2 times faster than FP32 on NVIDIA A100.\n",
        "\n",
        "<font color=\"blue\">[**Single Precision (FP32):**](https://de.m.wikipedia.org/wiki/Einfache_Genauigkeit)\n",
        "- **Bits:** 32 bits\n",
        "- **Exponent:** 8 bits\n",
        "- **Mantissa (Fraction):** 23 bits\n",
        "- **Significant (Decimal) Digits** (Nachkommastellen): 6 to 7 decimal digits\n",
        "  - Mantissa bits: 23. Approximate decimal digits: $\\log_{10}(2^{23}) \\approx 6.92$\n",
        "* **Half to Single Precision:** 2 to 3 times slower on CPU and GPU\n",
        "\n",
        "<font color=\"blue\">[**Double Precision (FP64):**](https://de.wikipedia.org/wiki/Doppelte_Genauigkeit)\n",
        "- **Bits:** 64 bits\n",
        "- **Exponent:** 11 bits\n",
        "- **Mantissa (Fraction):** 52 bits\n",
        "- **Significant (Decimal) Digits** (Nachkommastellen): 15 to 16 decimal digits\n",
        "  - Mantissa bits: 52. Approximate decimal digits: $\\log_{10}(2^{52}) \\approx 15.65$\n",
        "- **Single to Double Precision:** 2 to 5 times slower on CPU. 32 times slower on GPU.\n",
        "\n",
        "**Additional Precisions**:\n",
        "\n",
        "* <font color=\"blue\">[**Quadruple Precision (FP128)**](https://de.wikipedia.org/wiki/Vierfache_Genauigkeit)</font>\n",
        "\n",
        "* <font color=\"blue\">[**Octuple Precision (FP256)**](https://en.m.wikipedia.org/wiki/Octuple-precision_floating-point_format)</font>\n",
        "\n",
        "* <font color=\"blue\">[**Extended Precision**](https://en.m.wikipedia.org/wiki/Extended_precision)</font>\n",
        "\n",
        "\n",
        "\n"
      ],
      "metadata": {
        "id": "oDjInEAbn8Ac"
      }
    },
    {
      "cell_type": "markdown",
      "source": [
        "<font color=\"blue\">**Floating Point Operations Per Second (FLOPS)**</font>\n",
        "* Measure of ability to perform floating-point calculations\n",
        "* Calculated: multiply number of floating-point operations a computer can perform per cycle by its clock speed\n",
        "* \"Operation\" refers to basic arithmetic computations that can be performed on floating-point number. Addition, subtraction, multiplication, and division are considered to be done in one operation.\n",
        "* e.g. perform two floating-point **operations per cycle** and **clock speed** of 3 GHz (3 billion cycles per second) = peak performance of 6 GFLOPS (billion), then (without considering precision), the peak performance would be: $\\text{Peak Performance} = 2 \\text{ operations per cycle} \\times 3 \\text{ GHz} = 6 \\text{ GFLOPS}$\n",
        "  * **Half Precision (FP16)**: Many modern GPUs, especially those with Tensor Cores, can perform multiple FP16 operations in parallel. For instance, some **GPUs can perform 8 or more FP16 operations per cycle**.\n",
        "  * **Single Precision (FP32)**: Typically, FP32 operations per cycle is the **base calculation** (like 6 GFLOPS above)\n",
        "  * **Double Precision (FP64)**: Often, the hardware is less optimized for FP64, meaning fewer FP64 operations can be performed per cycle. For example, if only **1 FP64 operation can be performed per cycle**, the performance drops compared to FP32.\n",
        "\n",
        "* **CPU Example:**\n",
        "  - **2 FP32 operations per cycle** at 3 GHz: 6 GFLOPS.\n",
        "  - **1 FP64 operation per cycle** at 3 GHz: 3 GFLOPS.\n",
        "\n",
        "* **GPU Example (NVIDIA A100):**\n",
        "  - **8 FP16 operations per cycle** at 3 GHz = 24 GFLOPS\n",
        "  - **4 FP32 operations per cycle** at 3 GHz = 12 GFLOPS\n",
        "  - **1 FP64 operation per cycle** at 3 GHz = 3 GFLOPS\n",
        "* FLOPS is direct measure of computational throughput. For memory-bound workloads (spend more time fetching data from memory than performing calculations), increasing memory bandwidth can lead to performance improvements.\n",
        "* Example: Eine derart gigantische Simulation konnte nur mit entsprechender Rechenleistung bewältigt werden, die der Supercomputer HPE SGI ICE XA (Cheyenne) dankenswerterweise zur Verfügung gestellt hat. **Mit 145.152 Prozessoren, 40 Petabyte Speicherplatz und insgesamt 5,3 Petaflops** waren die nötigen Modellierungen realisierbar. Und die detaillierten Ergebnisse sind beachtenswert. https://www.notebookcheck.com/Aufforstung-kein-Allheilmittel-Waelder-mit-komplexem-Einfluss-auf-Klima-und-Umwelt.807845.0.html"
      ],
      "metadata": {
        "id": "0ycT8U37bhB6"
      }
    },
    {
      "cell_type": "markdown",
      "source": [
        "<font color=\"Blue\">**Why is 1 byte = 8 bit?**</font>\n",
        "\n",
        "* Bit = Datentransferrate (Geschwindigkeit).\n",
        "* Byte = Speichergröße (Kapazität), standard unit of data used to represent a character such as a letter, number, or symbol in most computer architectures.\n",
        "* 1 Byte in Bits umgerechnet sind 8 Bits. 1 Byte kann somit 2^8 (256 Bits) verschiedene Zustände darstellen. Somit ist 1 Byte meist die kleinste, adressierbare Speichereinheit, um Zeichen wie einen Buchstaben abzubilden.\n",
        "* Historically, the term \"byte\" was coined by Dr. Werner Buchholz in 1956 during the early design phase for the IBM Stretch computer.\n",
        "\n",
        "The choice of 8 bits for a byte is somewhat arbitrary but has become the standard due to practical and historical reasons:\n",
        "\n",
        "1. **Early Computer Systems:** Early computers had different byte sizes (e.g., 6-bit, 7-bit, 9-bit), but 8-bit bytes became more common as computer technology evolved.\n",
        "\n",
        "2. **Convenience and Compatibility:** 8 bits provide 256 ( $2^8$ ) different combinations, which is enough to represent all standard ASCII characters (128 standard characters) plus extended characters, control codes, and more. This size is large enough to hold a single character of text in most encoding schemes (such as ASCII), making it convenient for text processing and communication.\n",
        "\n",
        "3. **Hardware Efficiency:** Memory and processor architectures can be more efficiently designed with an 8-bit byte because it aligns well with the powers of 2, which is fundamental to binary computing. Many early microprocessors, including the Intel 8008 and 8080, used 8-bit words, leading to the adoption of the 8-bit byte standard in personal computers and subsequent software development.\n",
        "\n",
        "*Representation and Usage*\n",
        "\n",
        "- **Byte (8 bits):** Can represent 256 distinct values, from 0 to 255.\n",
        "- **Two bytes (16 bits):** Can represent 65,536 distinct values, from 0 to 65,535.\n",
        "- **Four bytes (32 bits):** Can represent over 4 billion distinct values, from 0 to 4,294,967,295.\n",
        "\n",
        "*Example: ASCII Encoding*\n",
        "\n",
        "- The ASCII (American Standard Code for Information Interchange) encoding uses 7 bits to represent each character, allowing for 128 unique characters. With an 8-bit byte, there's room for an extra bit, often used for error checking or extended ASCII characters.\n",
        "\n",
        "*Memory Size Hierarchy*\n",
        "\n",
        "- **1 byte = 8 bits**\n",
        "- **1 kilobyte (KB) = 1,024 bytes**\n",
        "- **1 megabyte (MB) = 1,024 kilobytes**\n",
        "- **1 gigabyte (GB) = 1,024 megabytes**\n",
        "- **1 terabyte (TB) = 1,024 gigabytes**\n",
        "\n",
        "The 1,024 factor comes from the binary system, where each level represents \\(2^{10}\\) (1024) of the previous level, aligning with the binary architecture of computers.\n",
        "\n",
        "***Special: Pre-electronic computing machines (why are we working with binary?)***\n",
        "\n",
        "- Greece: [Antikythera](https://de.m.wikipedia.org/wiki/Mechanismus_von_Antikythera) to predict solar esclipses\n",
        "- Charles Babbage and [Difference engine and Analytical Engine](https://de.m.wikipedia.org/wiki/Analytical_Engine)\n",
        "- Fur Dezimalsystem: kann man ein Mechanisches Zahnrad erstellen, zehn Zähne schleifen and jeweils equal distances apart um genau zu rechnen?\n",
        "- But Charles had complains from their gear cutters. He had to pay a lot, because manufacturing wasn’t advance at that time yet (no large-scale automation in manufacturing).\n",
        "- Later: electro-mechanical era of relays\n",
        "- Then: early electronic era (1930/40s): the first electronic logic elements. you talked about [thermionic valves (Röhrencomputer)](https://de.m.wikipedia.org/wiki/Röhrencomputer)\n",
        "    -  Röhrenrechner stellen den Übergang zwischen den [Analogrechnern](https://de.m.wikipedia.org/wiki/Analogrechner) (=Berechnungen mit Hilfe von kontinuierlichen mechanischen oder elektrischen Vorgängen) zu den auf [Halbleitertechnik](https://de.m.wikipedia.org/wiki/Halbleitertechnik) basierenden [Minirechnern](https://de.m.wikipedia.org/wiki/Minirechner) dar.\n",
        "- How they works: vacuum tubes as a logic element on and off. Cathode with boils off electrons and anode with a big voltage on it, sucking off the electrons up, and in the middle there is a grid. By putting a bias voltage on the grid. If you put a heavy negative voltage on the grid, it repelled the electrons back to the cathode plate and didn’t let them through. So you switched it off. But you needed heaters to boil the electrons off the cathode. Heaters, power consumption was huge.\n",
        "- One reason to use binary was that it’s perfect for the logic. They are simpler to build!\n",
        "- But: For decimal you need fewer digits (binary is a lot longer)\n",
        "- <font color=\"red\">**How many more circuitry and components do you need if you go for a binary computing than if you go for a decimal one (how many more digits we need?): log_2 10 = 3.322 (= you need 3.3 times as much binary circuitry if you did binary)**</font>\n",
        "    - e.g. how many bits do you need to represent 99 in binary?\n",
        "    - 8 bits = 256 (=2^8), 7 = 128. So 99 requires 7 bits\n",
        "    - Taking 99 in decimal are 2 bits, using the formula above: 2 x 3.322 = 6.644 ~ 7 bits\n",
        "- Alternaive approach in 1930s: bi-quinary: base 5 ([“Colossus”](https://de.m.wikipedia.org/wiki/Colossus))\n",
        "- [Why Use Binary? - Computerphile](https://www.youtube.com/watch?v=thrx3SBEpL8) by [Tommy Flowers](https://de.m.wikipedia.org/wiki/Tommy_Flowers)\n",
        "\n",
        "\n"
      ],
      "metadata": {
        "id": "cnKFPo5b_OA_"
      }
    },
    {
      "cell_type": "markdown",
      "source": [
        "<font color=\"blue\">**Use Cases for Double Precision (FP64):**\n",
        "* Sciences:\n",
        "  * Weather models based on Navier-Stokes / fluid dynamics (accurate initial conditions, small errors grow rapidly due to chaos),\n",
        "  * Particle Physics (e.g., Large Hadron Collider (LHC) Simulations), Computational Fluid Dynamics (CFD),\n",
        "  * Aerospace Engineering (spacecraft trajectories, orbital mechanics, gravitational interactions, long-term stability of orbits)\n",
        "* Chemistry: Density Functional Theory (DFT) and Hartree-Fock (HF)\n",
        "  * Small Energy Differences: In DFT and HF calculations, the energy differences between molecular states or configurations are often very small. High precision is needed to accurately capture these differences, which can be on the order of microhartrees (1 microhartree = 10^-6 hartree).\n",
        "  * Convergence Criteria: Iterative methods used in these calculations, such as Self-Consistent Field (SCF) procedures, require tight convergence criteria to ensure that the solutions are accurate and stable. Double precision helps achieve the required level of convergence.\n",
        "  * Integration Accuracy: Numerical integration of exchange-correlation functionals in DFT requires high precision to avoid significant errors. Inaccurate integration can lead to incorrect potential energy surfaces and unreliable results.\n",
        "  * Electron Density Calculations: Accurate representation of electron density and wavefunctions is crucial for predicting molecular properties. Double precision ensures that the calculated densities and derived properties (e.g., dipole moments, electron affinities) are reliable.\n",
        "  * Large Basis Sets: Using large basis sets to achieve higher accuracy in molecular orbital calculations demands high precision to handle the increased computational complexity and avoid numerical instabilities.\n",
        "* Finance:\n",
        "  * Quantitative Risk Management (Value at Risk VaR),\n",
        "  * Pricing of derivatives for exotic options and structured products (calculation of payoffs, sensitivities (Greeks), and hedging strategies) using Monte Carlo simulations, finite difference methods, and binomial/trinomial trees.\n",
        "  * Portfolio Optimization (mean-variance optimization and advanced Black-Litterman models, require solving large-scale linear and quadratic programming problems), Double precision ensures that the optimization process yields accurate and stable results, particularly when dealing with ill-conditioned covariance matrices.\n",
        "  * Algorithmic Trading and High-Frequency Trading (HFT): high-frequency data and require precise calculations for signal generation, execution, and risk management\n",
        "  * Credit Risk Modeling, for estimating probabilities of default (PD), loss given default (LGD), and exposure at default (EAD), often rely on complex statistical and mathematical methods. Accurate estimation of credit risk parameters is critical for regulatory compliance (e.g., Basel III) and financial stability.\n",
        "  * Financial Simulations and Stress Testing\n",
        "\n",
        "\n",
        "*The significant digits provide an estimate of how many digits can be considered accurate after the decimal point for each precision type. The number of significant digits is derived from the number of bits allocated to the mantissa (fraction) in the IEEE 754 standard for floating-point arithmetic*\n",
        "\n",
        "*NB: **GPUs:** Modern GPUs (like those from NVIDIA) often have specialized cores (Tensor Cores) that are optimized for FP16 and can perform mixed precision operations very efficiently. FP32 operations are also highly optimized, while FP64 operations tend to be much slower. **CPUs:** CPUs generally handle FP32 and FP64 operations more uniformly, but FP64 is still slower due to increased computational complexity. FP16 is less commonly used and less optimized on CPUs.*\n"
      ],
      "metadata": {
        "id": "bVtJwxKKZSNH"
      }
    },
    {
      "cell_type": "markdown",
      "source": [
        "###### *Limits of Linear Algebra on Processors*"
      ],
      "metadata": {
        "id": "E5QwZAe3lXT3"
      }
    },
    {
      "cell_type": "markdown",
      "source": [
        "<font color=\"blue\">**Addition in one cycle on a processor**</font>\n",
        "\n",
        "* Key Components\n",
        "  1. **Arithmetic Logic Unit (ALU)**: The part of the CPU that performs arithmetic and logical operations.\n",
        "  2. **Registers**: Small, fast storage locations within the CPU that hold the operands for the addition operation.\n",
        "  3. **Instruction Decoder**: A component that interprets the instruction (in this case, addition) and signals the appropriate components to perform the operation.\n",
        "  4. **Clock**: The timing signal that coordinates the actions of all components within the CPU.\n",
        "* Steps to Execute Addition\n",
        "  1. **Fetch**: The CPU fetches the instruction from memory. In this case, the instruction is an addition operation, such as `ADD R1, R2, R3` (which means add the contents of register R2 and R3, and store the result in register R1).\n",
        "  2. **Decode**: The instruction decoder interprets the fetched instruction. It identifies that this is an addition operation and determines the source and destination registers.\n",
        "  3. **Operand Fetch**: The contents of the source registers (R2 and R3) are read. These values are the operands for the addition operation.\n",
        "  4. **Execute (Addition Operation)**: The ALU receives the operands from the registers. The ALU uses a network of logic gates to perform the addition. Here’s a simplified breakdown of what happens inside the ALU during this step:\n",
        "     - **Binary Addition**: At the hardware level, addition is performed in binary. Each bit of the operands is added using a combination of logic gates (AND, OR, XOR, etc.).\n",
        "     - **Full Adder Circuits**: The ALU typically uses full adder circuits, which can add two binary digits along with a carry bit. Each bit position of the operands is processed by a full adder.\n",
        "     - **Ripple Carry Adder**: In simple ALUs, multiple full adders are connected in a ripple carry adder configuration, where the carry output from each bit addition is input to the next bit addition.\n",
        "   - For a 32-bit integer addition, the ALU will have 32 full adders working in parallel, one for each bit position.\n",
        "  5. **Write Back**: The result of the addition is written back to the destination register (R1 in this case). The ALU sends the result to the register file, where it is stored in R1.\n",
        "* Example: 4-bit Full Adder, consider a 4-bit full adder (for simplicity):\n",
        "  1. **Bitwise Addition**: Each bit of the operands is added separately.\n",
        "  2. **Carry Propagation**: Each bit addition produces a sum and a carry. The carry from each bit addition is propagated to the next higher bit.\n",
        "  3. **Logic Gates**: Each full adder uses a combination of AND, OR, and XOR gates to compute the sum and carry.\n",
        "* For example, adding two 4-bit numbers `0110` and `0011`:\n",
        "  - **Bit 0**: \\(0 + 1 = 1\\) (sum = 1, carry = 0)\n",
        "  - **Bit 1**: \\(1 + 1 = 0\\) (sum = 0, carry = 1)\n",
        "  - **Bit 2**: \\(1 + 0 + 1 (carry) = 0\\) (sum = 0, carry = 1)\n",
        "  - **Bit 3**: \\(0 + 0 + 1 (carry) = 1\\) (sum = 1, carry = 0)\n",
        "  - Result: `0110` + `0011` = `1001`"
      ],
      "metadata": {
        "id": "k7A5QiLcZEAb"
      }
    },
    {
      "cell_type": "markdown",
      "source": [
        "<font color=\"blue\">**Matrix Multiplication on Classical Computers**\n",
        "\n",
        "* **High Throughput** for Matrix Operations: refers to the amount of work (e.g., computations, data processing) that a system can complete in a given time. It's often measured in operations per second (OPS), transactions per second (TPS), or similar units. Focus on Computation: High throughput primarily focuses on the computational power of a system. It's about how quickly the system can process data and execute instructions. TPUs are optimized for high throughput in matrix multiplications and convolutions, which are fundamental operations in deep learning.\n",
        "  * Reduced precision\n",
        "  * focusing on maximizing the number of operations per second (OPS).\n",
        "  * systolic array architecture, where large number of simple processing units are interconnected in a grid. This allows for massive parallelism and efficient execution of matrix operations, as data can be streamed through the array in a pipeline fashion, minimizing data movement and maximizing computation.\n",
        "  * TPUs have a large amount of **on-chip high-bandwidth memory** (HBM) that is tightly integrated with the processing units. This reduces the need for frequent data transfers to and from external memory\n",
        "* **Large Memory Bandwidth**: refers to the rate at which data can be transferred between the processor and memory. It's usually measured in bytes per second (B/s), megabytes per second (MB/s), or gigabytes per second (GB/s). GPUs often have larger memory bandwidth, which can be beneficial for memory-intensive tasks.\n",
        "\n",
        "Video 1: [How do GPUs speed up Neural Network training?](https://www.youtube.com/watch?v=EKD1kEMNeeU&list=WL&index=27)\n",
        "\n",
        "Video 2: [EE5332 L11.3 - Matrix Multiplication on NVidia GPUs](https://www.youtube.com/watch?v=fpwq5zDBO2o&list=WL&index=28&t=362s)\n",
        "\n",
        "![geometry](https://raw.githubusercontent.com/deltorobarba/repo/master/sciences_1633.png)\n",
        "\n",
        "***\n",
        "\n",
        "![geometry](https://raw.githubusercontent.com/deltorobarba/repo/master/sciences_1634.png)\n",
        "\n",
        "***\n",
        "\n",
        "![geometry](https://raw.githubusercontent.com/deltorobarba/repo/master/sciences_1635.png)\n",
        "\n",
        "***\n",
        "\n",
        "![geometry](https://raw.githubusercontent.com/deltorobarba/repo/master/sciences_1636.png)\n",
        "\n",
        "***\n",
        "\n",
        "![geometry](https://raw.githubusercontent.com/deltorobarba/repo/master/sciences_1637.png)\n",
        "\n",
        "***\n",
        "\n",
        "![geometry](https://raw.githubusercontent.com/deltorobarba/repo/master/sciences_1638.png)"
      ],
      "metadata": {
        "id": "ZZPqdWX4RiZ_"
      }
    },
    {
      "cell_type": "markdown",
      "source": [
        "###### *Limits of Moore's Law (Transistor Distance) and CPU-Clockspeed*"
      ],
      "metadata": {
        "id": "Gsxdevc8-dHq"
      }
    },
    {
      "cell_type": "markdown",
      "source": [
        "<font color=\"blue\">**Physical Limits of Moore's Law**</font>\n",
        "\n",
        "* [Moore's Law](https://en.m.wikipedia.org/wiki/Moore%27s_law), [Microprocessor](https://en.m.wikipedia.org/wiki/Microprocessor) und [Transistor_count](https://en.m.wikipedia.org/wiki/Transistor_count) und [Transistor](https://en.m.wikipedia.org/wiki/Transistor) und [MOSFET](https://en.m.wikipedia.org/wiki/MOSFET)\n",
        "\n",
        "* **Sizes**: 1 nm = 1000 pm = $10-9$ m, Atoms: $10^{-10}$ m, Nucleus: $10^{-14}$ m, Proton and Neutron $10^{-15}$ m, Electron $10^{-18}$ m. Absolute physical limit: $10^{-43}$ (Planck length) und size of electron (before)\n",
        "\n",
        "* We have 1000x1000x1000 atoms distance. for quantum tunneling we would need 10x10x10. 33:49 Moore's law: how small could a switching device be, currently 1000x1000x1000 atoms, gets quantum effects around 2-10 atoms, could imagine transistors as small as 10x10x10 atoms, that's a million times smaller - [Jim Keller: Moore's Law, Microprocessors, and First Principles | Lex Fridman Podcast #70](https://www.youtube.com/watch?v=Nb2tebYAaOA) - exponential improvement is the result of 1000 innovations at the same time\n",
        "\n",
        "* How many atoms is the current world's smallest silicon transistor made up of? What is the smallest size of transistor we can reach with silicon?\n",
        "  * As 14nm is the present standard for the smallest components in a microprocessor (2016) and most of them are made with silicon.\n",
        "  * The van der val radius of silicon atom is 210pm which is equal to 0.21nm so in the smallest region of a microprocessor chip it may **contain roughly 14/0.21 atoms of silicon that's almost 67 atoms** .\n",
        "  * Microprocessors with transistors smaller then 7nm will experience quantum tunneling through its logic gates. But 5nm chips are also being **built using unconventional materials**\n",
        "\n",
        "* Atoms in a solid are typically spaced at distances on the order of angstroms (Å), where 1 Å = 0.1 nanometers (nm).\n",
        "  * For silicon (a common material in microchips), the typical atomic spacing is about 0.543 nm (5.43 Å).\n",
        "  * The distance between atoms in silicon, a common material in microchips, is about 2.35 Å (angstroms), or 0.235 nm.\n",
        "  * This distance is much smaller than the distances you mentioned, which highlights the incredible miniaturization achieved in modern microchips.\n",
        "\n",
        "* **How many atoms distance have today‘s smallest transistors?**\n",
        "  * The smallest transistors in 2023 are around 5nm. A silicon atom is about 0.117nm in diameter. This means that the smallest transistors are about 43 atoms wide (gate length).\n",
        "  * Other factor determine size: transistor has other components, such as the source, drain, and body that take up space.\n",
        "  * As a result, the actual size of a transistor is typically larger than the gate length. For example, a 5nm transistor might actually be 10nm or more in width, with hundreds or thousands of atoms.\n",
        "\n",
        "* **Quantum Tunneling**\n",
        "  * It is generally believed that quantum tunneling becomes a significant problem when the distance between the source and drain is less than about 10 atoms.\n",
        "  * Means smallest transistors that can be made using current technology are around 10nm in size.\n",
        "  * However, researchers are working on new materials and manufacturing techniques that could allow them to produce even smaller transistors in the future.\n",
        "  * One way to reduce quantum tunneling: use new materials that have a higher bandgap (energy difference between the valence band and the conduction band). Electrons in the valence band are bound to atoms, while electrons in the conduction band are free to move around. The higher the bandgap, the more energy it takes for an electron to move from the valence band to the conduction band.\n",
        "  * Another way to reduce the effects of quantum tunneling is to use new manufacturing techniques that create sharper interfaces between the different layers of the transistor. This helps to create a higher barrier that electrons need to tunnel through.\n",
        "  * Some researchers are developing transistors that use vertical channels instead of horizontal channels. Vertical channels are more difficult for electrons to tunnel through than horizontal channels.\n",
        "\n",
        "* Size of a silicon atom is .2 nanometers, would be impossible to create a silicon transistor smaller than that. Silicon wasn’t chosen for its size; it was chosen because it’s the second most common element on the periodic table of elements.\n",
        "  * **Factor 1**: Different materials: Even to get something as small as the 1nm transistor, it’s advantageous to choose a different element. Currently, much research is focusing on bismuth (BI), a semi-metal.\n",
        "  * **Factor 2**: Take gallium, for example. Silicon has an atomic radius of .117 nanometers, which is smaller than Gallium’s .122. But Gallium Nitride semiconductors give out less heat than silicon ones. This means that, even though less GaN transistors can fit on a single chip, they make up for this in some situations by lessening the need for cooling devices.\n",
        "\n",
        "* **Silicium** ist [Halbleiter](https://www.halbleiter.org/waferherstellung/silicium/): Leitfähigkeit zwischen der von Leitern und Nichtleitern. [Mikroelektronik](https://de.m.wikipedia.org/wiki/Mikroelektronik) und [Computerchips](https://de.m.wikipedia.org/wiki/Integrierter_Schaltkreis). Reinheitsgrade elementares Silicium: **Sieg** (electronic grade, Halbleitersilicium, Verunreinigungen kleiner 10^−9).\n",
        "\n",
        "* **Alternative: 2D waferswith molten sodium molybdate salt (Na₂MoO₄)** [Source (dt)](https://efahrer.chip.de/news/china-entwickelt-ultraduenne-halbleiter-revolution-in-der-technologiebranche_1014836) & [Source (en)](https://www.scmp.com/news/china/science/article/3232116/revolutionising-semiconductor-industry-chinese-scientists-unveil-12-inch-wafer-groundbreaking-2d)\n",
        "  * Ultra-thin 2D semiconductor: thickness is hardly higher than **thickness of an atom**. The layer is almost two-dimensional.\n",
        "  * succeeded in making 12-inch wafers (300 millimeters in diameter) from the material (standard measure for wafers in semiconductors).\n",
        "  * \"When silicon transistors become thinner, control of voltage deteriorates. Electricity flows even when device is not working. This brings additional energy costs and heat development\"\n",
        "  * For 2D wafers: molten sodium molybdate salt (Na2MoO4) - makes easier to control tension.\n",
        "\n",
        "* ***The size of today's transistors and microchips is measured in nanometers (nm). As of 2023, the smallest transistors that have been produced are around 5nm in size. This means that 5 billion transistors can fit on a single square millimeter of chip.***\n",
        "\n",
        "* The size of microchips is measured in square millimeters (mm2). The largest microchips that are currently being produced are around 1,000mm2 in size. These chips can contain tens of billions of transistors.\n",
        "\n",
        "* Moore's law states that the number of transistors on a microchip doubles every two years. This has held true for over 50 years, but there are signs that it is starting to slow down. This is because it is becoming increasingly difficult to manufacture transistors that are smaller and smaller.\n",
        "\n",
        "* How many atoms are in a typical transistor in a chip? - Transistors have been made smaller and smaller ever since they were invented by Shockley and his friends in 1947. Smaller is better! Why? Moore and Mead figured it out at Fairchild in 1968. Smaller transistors are faster, cheaper, and use less power! Ever since then semiconductor manufacturers have been racing to see who can make the fastest, smallest, lowest power, highest performance transistors. - Apple’s iPhone XS uses 7 nanometer transistors. So let’s estimate how many atoms are in one of them. Excluding the connecting wires and other parts, I’m just going to calculate the size of the active part, the “channel” under the gate. The volume of the channel is about (7 nm long) x (7 nm deep) x (20 nm wide). The atomic density of silicon is 5E+28 atoms per cubic meter. Number of atoms n = volume x density = n = (980E-27) x (5E+28) = 49,000 atoms. [Source](https://www.quora.com/How-many-atoms-are-in-a-typical-transistor-in-a-chip#)\n"
      ],
      "metadata": {
        "id": "DnUtKY5hSAgc"
      }
    },
    {
      "cell_type": "markdown",
      "source": [
        "![sciences](https://raw.githubusercontent.com/deltorobarba/repo/master/sciences_1759.png)"
      ],
      "metadata": {
        "id": "-KgN8oFGR8l5"
      }
    },
    {
      "cell_type": "markdown",
      "source": [
        "<font color=\"blue\">**Alternative atom to Silizium in smaller sizes potentially suitable for transistors**\n",
        "\n",
        "When considering atoms smaller than silicon for use in transistors, potential candidates would be elements that can form stable, semiconductor-like materials at the nanoscale. Here are some promising candidates:\n",
        "\n",
        "1. **Carbon (Graphene)**\n",
        "- **Graphene:** A single layer of carbon atoms arranged in a hexagonal lattice. Graphene has exceptional electrical, thermal, and mechanical properties, making it a strong candidate for future transistors.\n",
        "- **Properties:** High electron mobility, high conductivity, and flexibility.\n",
        "- **Challenges:** Producing high-quality graphene at scale and integrating it with existing semiconductor processes.\n",
        "\n",
        "2. **Boron and Nitrogen (Boron Nitride)**\n",
        "- **Hexagonal Boron Nitride (h-BN):** Similar to graphene in structure but composed of alternating boron and nitrogen atoms.\n",
        "- **Properties:** Excellent thermal conductivity, electrical insulating properties, and mechanical strength.\n",
        "- **Challenges:** Integration with electronic circuits while maintaining performance.\n",
        "\n",
        "3. **Phosphorus (Phosphorene)**\n",
        "- **Phosphorene:** A single layer of black phosphorus.\n",
        "- **Properties:** High carrier mobility and a direct bandgap that can be tuned by the number of layers.\n",
        "- **Challenges:** Stability under ambient conditions and large-scale production.\n",
        "\n",
        "4. **Transition Metal Dichalcogenides (TMDs)**\n",
        "- **Materials:** Molybdenum disulfide (MoS₂), Tungsten disulfide (WS₂), etc.\n",
        "- **Properties:** Semiconducting properties with a direct bandgap in monolayer form, suitable for field-effect transistors.\n",
        "- **Challenges:** Material quality and scalability, contact resistance issues.\n",
        "\n",
        "5. **Germanium (Ge)**\n",
        "- **Germanium Nanowires and Films:** Ge has a smaller atomic size compared to silicon and exhibits high electron and hole mobility.\n",
        "- **Properties:** High carrier mobility and compatibility with existing silicon processes.\n",
        "- **Challenges:** Thermal stability and manufacturing techniques for nanoscale structures.\n",
        "\n",
        "6. **Tin (Stanene)**\n",
        "- **Stanene:** A 2D form of tin.\n",
        "- **Properties:** Predicted to be a topological insulator with potential for lossless electrical conduction.\n",
        "- **Challenges:** Experimental realization and stability of stanene.\n",
        "\n",
        "7. **Indium Arsenide (InAs) and Indium Antimonide (InSb)**\n",
        "- **Properties:** High electron mobility and narrow bandgap, suitable for high-speed and low-power applications.\n",
        "- **Challenges:** Integration with silicon technology and material quality.\n",
        "\n",
        "Considerations for Selecting Candidates:\n",
        "1. **Bandgap:** Must have a suitable bandgap for transistor operations.\n",
        "2. **Mobility:** High carrier mobility is essential for fast switching.\n",
        "3. **Stability:** Chemical and thermal stability at operating conditions.\n",
        "4. **Scalability:** Feasibility of large-scale production and integration with current semiconductor processes.\n",
        "5. **Compatibility:** Ability to form stable interfaces with other materials used in transistor fabrication.\n",
        "\n",
        "These materials are at the forefront of research for next-generation transistors, aiming to push beyond the limitations of silicon and meet the demands for faster, smaller, and more energy-efficient electronic devices.\n",
        "\n",
        "![sciences](https://raw.githubusercontent.com/deltorobarba/repo/master/sciences_1765.png)\n",
        "\n",
        "![sciences](https://raw.githubusercontent.com/deltorobarba/repo/master/sciences_1764.png)\n"
      ],
      "metadata": {
        "id": "J9n32LH-RbCS"
      }
    },
    {
      "cell_type": "markdown",
      "source": [
        "<font color=\"blue\">**What about the atoms Helium, Argon, Neon, Flour, Krypton, Oxygen, Hydrogen, and all the other elements that are smaller atoms than silicon: Are they suitable alternatives to silicon for transistors to further miniaturize them, or not?**\n",
        "\n",
        "The elements you mentioned (Helium, Argon, Neon, Fluorine, Krypton, Oxygen, Hydrogen, and others smaller than silicon) are generally not suitable alternatives for silicon in transistors. Here’s why:\n",
        "\n",
        "1. Noble Gases (Helium, Argon, Neon, Krypton)\n",
        "- **Properties:** Noble gases are chemically inert and do not form stable compounds easily due to their full valence electron shells.\n",
        "- **Suitability for Transistors:** Their lack of chemical reactivity and inability to form stable solid structures make them unsuitable for use in semiconductor devices.\n",
        "\n",
        "2. Fluorine (F)\n",
        "- **Properties:** Fluorine is highly reactive and forms strong bonds with other elements. It typically forms ionic or highly polar covalent compounds.\n",
        "- **Suitability for Transistors:** Fluorine is not suitable for forming semiconductor materials. Its extreme reactivity makes it challenging to handle and integrate into electronic devices.\n",
        "\n",
        "3. Oxygen (O)\n",
        "- **Properties:** Oxygen is highly reactive and forms oxides with most elements. Silicon dioxide (SiO₂) is a common example.\n",
        "- **Suitability for Transistors:** While oxygen is crucial for forming insulating layers (such as SiO₂) in semiconductor devices, it is not suitable as a primary material for transistors. Oxygen does not have the semiconductor properties needed for such applications.\n",
        "\n",
        "4. Hydrogen (H)\n",
        "- **Properties:** Hydrogen is the smallest and simplest element. It is highly reactive, forming compounds like water (H₂O) and hydrocarbons.\n",
        "- **Suitability for Transistors:** Hydrogen itself is not suitable for forming semiconductor materials. However, hydrogen is used in semiconductor processes, such as hydrogenation to passivate defects in silicon. Hydrogen molecules do not have a bandgap in the range required for semiconductor applications. Hydrogen is highly reactive. Hydrogen naturally exists as diatomic molecules (H₂) at standard conditions, which do not form a solid with the necessary crystal lattice structure required for semiconductor materials.\n",
        "\n",
        "5. General Considerations for Smaller Atoms:\n",
        "  1. **Chemical Reactivity:** Many smaller atoms are highly reactive and do not form stable semiconductor materials.\n",
        "  2. **Lack of Suitable Bandgap:** Suitable semiconductor materials need a bandgap that allows for effective control of electrical conductivity. Smaller atoms typically do not form materials with the desired semiconductor properties. Semiconductor materials need to have a specific bandgap that allows them to conduct electricity when necessary (by promoting electrons from the valence band to the conduction band) and act as insulators otherwise. This bandgap is typically in the range of 1-2 eV.\n",
        "  3. **Structural Stability:** Many smaller atoms do not form stable crystal structures needed for semiconductor applications.\n",
        "\n",
        "6. Summary\n",
        "While smaller atoms than silicon can be involved in semiconductor processes (e.g., oxygen in SiO₂ or hydrogen in passivation), they are not suitable as primary materials for transistors. Suitable alternatives to silicon typically involve elements that can form stable, semiconductor-like materials with appropriate electrical properties, such as those mentioned previously (e.g., carbon in graphene, elements in TMDs like molybdenum and tungsten, and others).\n",
        "\n",
        "The miniaturization of transistors focuses on materials that can maintain electrical integrity and performance at the nanoscale, rather than simply using smaller atoms."
      ],
      "metadata": {
        "id": "gIS4bN-4TXJN"
      }
    },
    {
      "cell_type": "markdown",
      "source": [
        "<font color=\"blue\">**Physical Limits of CPU-Clockspeed**</font>\n",
        "* The clock speed measures the number of cycles your CPU executes per second, measured in GHz (gigahertz). In this case, a “cycle” is the basic unit that measures a CPU's speed. During each cycle, billions of transistors within the processor open and close.\n",
        "* There are a few reasons why CPU clock speed is not increasing anymore. See article: [why-cpu-clock-speed-isnt-increasing](https://www.maketecheasier.com/why-cpu-clock-speed-isnt-increasing/)\n",
        "* **The physical limits of transistors.** Transistors are the basic building blocks of a CPU, and they can only switch so fast. As transistors get smaller, they also get slower. This is because the distance between the transistors gets smaller, and the electrons have to travel a shorter distance to switch them on and off.\n",
        "* **The power consumption of CPUs.** As the clock speed of a CPU increases, so does its power consumption. This is because the transistors have to switch more often, and this requires more energy.\n",
        "* **The heat generated by CPUs.** When a CPU consumes more power, it also generates more heat. This heat can cause the CPU to throttle its clock speed, or even shut down, to prevent damage.\n",
        "* As a result of these factors, CPU manufacturers have shifted their focus to other ways to improve CPU performance, such as increasing the number of cores and using new technologies like multithreading.\n",
        "* Here are some of the ways that CPU manufacturers are increasing performance without increasing clock speed:\n",
        "\n",
        "  * **Adding more cores.** A CPU with multiple cores can run multiple tasks at the same time, which can significantly improve performance.\n",
        "  * **Using multithreading.** Multithreading allows a single core to run multiple tasks by dividing each task into smaller parts that can be executed independently.\n",
        "  * **Using new technologies.** New technologies such as 3D stacking and chiplets are allowing CPU manufacturers to pack more transistors into a smaller space, which can improve performance without increasing clock speed.\n",
        "\n",
        "* https://www.quora.com/Why-havent-CPU-clock-speeds-increased-in-the-last-5-years\n",
        "\n"
      ],
      "metadata": {
        "id": "TN3MLVdwSCzk"
      }
    },
    {
      "cell_type": "markdown",
      "source": [
        "![sciences](https://raw.githubusercontent.com/deltorobarba/repo/master/sciences_1761.png)"
      ],
      "metadata": {
        "id": "9cBhxeHsVeAG"
      }
    },
    {
      "cell_type": "markdown",
      "source": [
        "![sciences](https://raw.githubusercontent.com/deltorobarba/repo/master/sciences_1760.png)"
      ],
      "metadata": {
        "id": "p5FFdc3aVb7G"
      }
    },
    {
      "cell_type": "markdown",
      "source": [
        "![sciences](https://raw.githubusercontent.com/deltorobarba/repo/master/sciences_1762.png)"
      ],
      "metadata": {
        "id": "18D54IcHfWZR"
      }
    },
    {
      "cell_type": "markdown",
      "source": [
        "![sciences](https://raw.githubusercontent.com/deltorobarba/repo/master/sciences_1763.png)"
      ],
      "metadata": {
        "id": "q6JrY3YsfXeF"
      }
    },
    {
      "cell_type": "markdown",
      "source": [
        "**Chips und Transistoren** (Artikel und Videos)\n",
        "\n",
        "* https://www.derstandard.de/story/3000000201716/auf-dem-weg-zu-graphen-chips-der-zukunft\n",
        "\n",
        "* https://www.derstandard.at/story/2000143050519/chipherstellung-2d-kristalle-sollen-moores-law-zurueckbringen\n",
        "\n",
        "* https://www.sciencedaily.com/releases/2020/05/200511092920.htm\n",
        "\n",
        "* https://en.wikipedia.org/wiki/Single-atom_transistor\n",
        "\n",
        "* https://arstechnica.com/information-technology/2011/05/intel-re-invents-the-microchip/\n",
        "\n",
        "* https://www.jotrin.de/technology/details/how-small-are-the-transistors-on-a-chip\n",
        "\n",
        "* https://www.extremetech.com/extreme/191996-zoom-into-a-computer-chip-watch-this-video-to-fully-appreciate-just-how-magical-modern-microchips-are\n",
        "\n",
        "* https://www.bbvaopenmind.com/en/technology/innovation/mini-transistors-technological-revolution-20th-century/\n",
        "\n",
        "* https://techxplore.com/news/2024-01-dimensions-law-advance-electronics.html#google_vignette\n",
        "\n",
        "* https://cap.csail.mit.edu/death-moores-law-what-it-means-and-what-might-fill-gap-going-forward\n",
        "\n",
        "* https://www.intc.com/news-events/press-releases/detail/1511/intel-breakthroughs-propel-moores-law-beyond-2025\n",
        "\n",
        "* https://www.heise.de/news/Intel-und-TSMC-arbeiten-an-Transistoren-der-Zukunft-9568367.html\n",
        "\n",
        "* https://www.golem.de/news/smic-3-nm-prozessoren-aus-china-auch-ohne-westliche-unterstuetzung-2312-180619.amp.html\n",
        "\n",
        "* https://www.pcgameshardware.de/CPU-CPU-154106/News/Doppelte-Dichte-TSMC-CFET-Fertigung-90-Prozent-Yield-1436998/\n",
        "\n",
        "* https://www.tomshardware.com/tech-industry/semiconductors/intels-ceo-says-moores-law-is-slowing-to-a-three-year-cadence-but-its-not-dead-yet\n",
        "\n",
        "* https://t3n.de/news/supercomputer-rekord-groesster-computerchip-transistoren-ki-kerne-1614241/\n",
        "\n",
        "* https://www.cerebras.net/press-release/cerebras-announces-third-generation-wafer-scale-engine\n",
        "\n",
        "* Video: [1.2 - Racing Down the Slopes of Moore’s Law (Bram Nauta)](https://www.youtube.com/watch?v=THJP_HB5HEk&list=WL&index=5&t=596s)\n",
        "\n",
        "* Video: [Why We're Reaching the Theoretical Limit of Computer Power](https://www.youtube.com/watch?v=Qlv5pB6u534&list=WL&index=6&t=1s)\n",
        "\n",
        "* Video: [Integrated Circuit Design – EE Master Specialisation](https://www.youtube.com/watch?v=jZIxNIzi-I8&list=WL&index=7)\n",
        "\n",
        "* Video: [Jim Keller: Moore's Law, Microprocessors, and First Principles | Lex Fridman Podcast #70](https://www.youtube.com/watch?v=Nb2tebYAaOA)\n",
        "\n",
        "* Video Transistor: [New Microchip Breakthrough: New Era in Electronics?](https://youtu.be/wGzBuspS9JI?si=AxNQFBEttoOzeSDX)\n"
      ],
      "metadata": {
        "id": "wzyPXaZ2R53L"
      }
    },
    {
      "cell_type": "markdown",
      "source": [
        "###### *Limits of Classical Qubit Simulation*"
      ],
      "metadata": {
        "id": "GH7MKsEBwHc8"
      }
    },
    {
      "cell_type": "markdown",
      "source": [
        "<font color=\"Blue\">**How to represent quantum information on a classical computer**\n",
        "\n",
        "* State of quantum system described by vector in complex vector space. For $n$-qubit system, state vector $\\psi$ is superposition of all possible $2^n$ basis states. Each basis state $|i\\rangle$ (where $i$ ranges from 0 to $2^n - 1$) has associated **complex amplitude** $\\alpha_i$, which is complex number.\n",
        "* State vector can be written as: $|\\psi\\rangle = \\sum_{i=0}^{2^n-1} \\alpha_i |i\\rangle$, where $\\alpha_i$ are complex amplitudes, and the sum of the squares of their magnitudes equals 1: $\\sum_{i=0}^{2^n-1} |\\alpha_i|^2 = 1$\n",
        "* **Memory requirement = 16 bytes per Amplitude** for storing 1 complex number in double-precision (8 bytes for real part + 8 bytes for imaginary part = complex number $\\alpha$)\n",
        "* **Total Memory Requirement** for Quantum States $n$-qubit quantum state with $2^n$ complex amplitudes = $2^n \\times 16 \\text{ bytes}$\n",
        "* **16 Qubits:**\n",
        "  - **Number of Amplitudes:** $2^{16} = 65,536$\n",
        "  - **Total Memory:** $65,536 \\times 16 = 1,048,576 \\text{ bytes} = 1 \\text{ MB}$\n",
        "* **784 Qubits:**\n",
        "  - **Number of Amplitudes:** $2^{784}$\n",
        "  - **Total Memory:** $2^{784} \\times 16 \\text{ bytes}$ (astronomically large)\n",
        "\n",
        "<font color=\"Blue\">**How many qubits one can realistically simulate on classical hardware at the moment?**\n",
        "\n",
        "Complexity of simulating quantum circuits grows exponentially with the number of qubits. Simulating $n$ qubits requires storing $2^n$ complex amplitudes and $16 \\times 2^n$ bytes memory for storing state vector of $n$ qubits in double precision:\n",
        "- **20 qubits:** Requires storing $2^{20} \\approx 1$ million complex amplitudes $\\approx$ 16 MB memory (16 x 2$^{20}$ bytes)\n",
        "- **30 qubits:** Requires storing $2^{30} \\approx 1$ billion complex amplitudes $\\approx$ 16 GB memory (16 x 2$^{30}$ bytes)\n",
        "- **40 qubits:** Requires storing $2^{40} \\approx 1$ trillion complex amplitudes $\\approx$ 16 TB memory (16 x 2$^{40}$ bytes)"
      ],
      "metadata": {
        "id": "OmXS19LK_kAR"
      }
    },
    {
      "cell_type": "markdown",
      "source": [
        "###### ***Beyond Quantum Computing (Hypercomputation)***"
      ],
      "metadata": {
        "id": "2rAAm4JiTDN3"
      }
    },
    {
      "cell_type": "markdown",
      "source": [
        "**Fundamental Limitations to Quantum Computation**\n",
        "\n",
        "* What is computation? You have max number of computations performed in a given amount of time is limited by the total energy available (Landauers principle).\n",
        "  * For example: Nature performs protein folding. Is that calculation? Or only geometry - is it a movement via principle of least action into a global or local minimum automatically?\n",
        "  * So: What is computation fundamentally in nature? An active process or „just“ passive movements through the geometry until a result is achieved? edit What is information processing or computation in nature.\n",
        "  * For example, is the **principle of least action** an active computation? Or is is passive „geometry-following“? Can we actually distinct in Nature between „geometric path following“ (like a ball rolling towards a minimum in a valley) and „computation“ (calculating the possible directions and choosing the ideal one)?\n",
        "\n",
        "* https://www.birs.ca/events/2024/5-day-workshops/24w5259\n",
        "* https://www.birs.ca/events/2024/5-day-workshops/24w5259/schedule\n",
        "\n",
        "* Yifan Jia: Hay from the haystack: explicit examples of exponential quantum circuit complexity: The vast majority of quantum states and unitaries have circuit complexity exponential in the number of qubits. In a similar vein, most of them also have exponential minimum description length, which makes it difficult to pinpoint examples of exponential complexity. In this work, we construct examples of constant description length but exponential circuit complexity. We provide infinite families such that each element requires an exponential number of two-qubit gates to be generated exactly from a product and where the same is true for the approximate generation of the vast majority of elements in the family. The results are based on sets of large transcendence degree and discussed for tensor networks, diagonal unitaries, and maximally coherent states.\n",
        "\n",
        "\n",
        "* Jens Eisert: Fundamental limits to quantum computation: Quantum computers promise superior computational power over classical computers for some structured problems. While this insight is not new, only in recent years, steps have been taken to actually build intermediate-sized quantum devices, creating an exciting state of affairs. For some paradigmatic problems, there is some evidence that quantum computers may outperform classical devices [1]. For practically motivated problems in machine learning [2, 3] and in optimization [4], fault tolerant quantum computers indeed perform better than classical ones. While this may be promising, actual systems to date are relatively small and noisy. The main part of the talk is concerned with identifying *limitations* to quantum computing in this realm. We discuss notions of learnability of output distributions of short quantum circuits - as they can be seen as parts of variational quantum algorithms - and find that a single T-gate renders learning them hard [5]. We identify exponentially tighter bounds on limitations of quantum error mitigation [6]. We finally discuss the impact of non-unital noise on quantum computing, with quite unexpected results [7]. We end on the note that while fault tolerant quantum computers offer substantial computational benefits, the race is still open for near-term quantum devices. [1] Computational advantage of quantum random sampling, D. Hangleiter, J. Eisert, Rev. Mod. Phys. 95, 035001 (2023). [2] A super-polynomial quantum-classical separation for density modelling, N. Pirnay, R. Sweke, J. Eisert, J.-P. Seifert, Phys. Rev. A 107, 042416 (2023). [3] Towards provably efficient quantum algorithms for large-scale machine-learning models, J. Liu, M. Liu, J.-P. Liu, Z. Ye, Y. Wang, Y. Alexeev, J. Eisert, L. Jiang, Nature Comm. 15, 434 (2024). [4] An in-principle super-polynomial quantum advantage for approximating combinatorial optimization problems via computational learning theory, N. Pirnay, V. Ulitzsch, F. Wilde, J. Eisert, J.-P. Seifert, arXiv:2212.08678, Science Advances (2024). [5] A single T-gate makes distribution learning hard, M. Hinsche, M. Ioannou, A. Nietner, J. Haferkamp, Y. Quek, D. Hangleiter, J.-P. Seifert, J. Eisert, R. Sweke, Phys. Rev. Lett. 130, 240602 (2023). [6] Exponentially tighter bounds on limitations of quantum error mitigation, Y. Quek, D. Stilck França, S. Khatri, J. Jakob Meyer, J. Eisert, arXiv:2210.11505, Nature Physics (2024). [7] Non-unital noise, friend of foe, A. A. Mele, A. Angrisani, A Ghosh, A. Khatri, J. Eisert, Y. Quek, D. Stilck Franca, in preparation (2024).\n"
      ],
      "metadata": {
        "id": "szGHIoNv-vxO"
      }
    },
    {
      "cell_type": "markdown",
      "source": [
        "<font color=\"blue\">**Popescu-Rohrlich (PR) boxes, hypercomputation, ressource theory and general probabilistic theories**</font>\n",
        "\n",
        "\n",
        "**General probabilistic theories to do with quantum computing?**\n",
        "\n",
        "https://en.wikipedia.org/wiki/Quantum_nonlocality\n",
        "\n",
        "https://arxiv.org/abs/2103.07469, General probabilistic theories: An introduction\n",
        "\n",
        "https://www.sciencedirect.com/science/article/abs/pii/S0370157323002752\n",
        "\n",
        "\n",
        "General Probabilistic Theories (GPTs) are a mathematical framework that encompasses both classical probability theory and quantum theory as special cases. This broader perspective allows researchers to explore the fundamental principles underlying both theories and investigate potential alternatives to quantum theory.\n",
        "\n",
        "Here's how GPTs relate to quantum computing:\n",
        "\n",
        "1. **Understanding Quantum Mechanics:** GPTs help us understand the unique features of quantum mechanics that make quantum computing possible, such as superposition and entanglement. By comparing quantum theory to other probabilistic theories within the GPT framework, researchers can pinpoint the key properties that distinguish quantum theory and give rise to its computational advantages.\n",
        "\n",
        "2. **Exploring Alternative Models:** GPTs enable the exploration of alternative models of computation that may or may not follow the rules of quantum mechanics. Some of these models might offer computational advantages over classical computers, even if they don't fully harness the power of quantum mechanics.\n",
        "\n",
        "3. **Developing Quantum Algorithms and Protocols:** Insights gained from studying GPTs can inform the development of new quantum algorithms and communication protocols. By understanding the fundamental limits and possibilities of probabilistic theories, researchers can devise more efficient and robust quantum computing techniques.\n",
        "\n",
        "4. **Resource Theories:** GPTs provide a framework for studying resource theories, which quantify the resources needed for specific tasks in different physical theories. This can help identify the most valuable resources for quantum computing and guide the development of efficient resource management strategies.\n",
        "\n",
        "In summary, General Probabilistic Theories offer a powerful toolset for understanding quantum mechanics, exploring alternative models of computation, and developing new quantum computing technologies. By studying the broader landscape of probabilistic theories, researchers can unlock the full potential of quantum computing and push the boundaries of our understanding of the physical world.\n",
        "\n",
        "I hope this explanation is helpful! Let me know if you have any other questions.\n",
        "\n",
        "Absolutely! Let's dive deeper into points 2 and 4:\n",
        "\n",
        "**Point 2: Exploring Alternative Models**\n",
        "\n",
        "General Probabilistic Theories (GPTs) offer a vast landscape of possible theories beyond classical and quantum mechanics. This allows researchers to explore alternative models of computation that may not necessarily adhere to all the rules of quantum mechanics but could still offer computational advantages over classical computers.\n",
        "\n",
        "Some examples of these alternative models include:\n",
        "\n",
        "* **Boxworld:** This theory allows for stronger-than-quantum correlations, known as Popescu-Rohrlich (PR) boxes. While PR boxes are not physically realizable, they help us understand the limits of correlations in nature and how they can be potentially harnessed for computation.\n",
        "* **Spekkens' toy model:** This model mimics certain features of quantum mechanics using classical resources. Studying it helps researchers identify which aspects of quantum theory are truly necessary for quantum advantages and which might be emergent properties of more general principles.\n",
        "* **Quantum-like theories:** These theories share some characteristics with quantum mechanics but differ in subtle ways. Exploring them helps us understand the broader range of possibilities for quantum-like phenomena and how they might be exploited for computation.\n",
        "\n",
        "By investigating these alternative models, researchers can:\n",
        "\n",
        "* **Uncover new computational resources:** Some of these models might possess unique resources that could be leveraged for new types of computation or communication protocols.\n",
        "* **Challenge our assumptions about quantum mechanics:** Studying alternative models can help us identify which features of quantum mechanics are essential for its computational power and which might be accidental.\n",
        "* **Develop new insights into quantum algorithms:** Understanding the broader landscape of probabilistic theories can inspire new quantum algorithms and techniques that exploit the unique features of quantum mechanics more effectively.\n",
        "\n",
        "**Point 4: Resource Theories**\n",
        "\n",
        "Resource theories within GPTs provide a framework for quantifying the resources needed for specific tasks in different physical theories. This can help us understand:\n",
        "\n",
        "* **The cost of quantum operations:** Resource theories can quantify the amount of entanglement, coherence, or other quantum resources needed to perform specific quantum operations. This can help optimize quantum algorithms and protocols for efficiency and resource utilization.\n",
        "* **Interconversion of resources:** Resource theories can determine how different resources, such as entanglement and coherence, can be converted into each other. This knowledge can be valuable for designing efficient resource management strategies in quantum computing.\n",
        "* **Limitations of quantum resources:** Resource theories can help identify fundamental limits on the amount of quantum resources available in a given system or protocol. This can guide the development of more realistic and achievable goals for quantum technologies.\n",
        "\n",
        "By studying resource theories within the broader context of GPTs, researchers can:\n",
        "\n",
        "* **Develop a deeper understanding of quantum resources:** This can lead to more efficient utilization and management of these resources in quantum computing.\n",
        "* **Identify new types of resources:** Some alternative models within GPTs might possess unique resources that could be harnessed for new quantum technologies.\n",
        "* **Understand the trade-offs between different resources:** This can help researchers optimize their strategies for resource utilization in quantum computing.\n",
        "\n",
        "I hope this elaboration clarifies points 2 and 4. Please let me know if you have any further questions!\n",
        "\n",
        "**What are Popescu-Rohrlich (PR) boxes? Are that examples of hypercomputation?**\n",
        "\n",
        "\n",
        "Popescu-Rohrlich (PR) boxes are hypothetical devices that produce correlations between two parties that are stronger than what quantum mechanics allows, but still respect the no-signaling principle (meaning information cannot be transmitted faster than light). They are named after Sandu Popescu and Daniel Rohrlich, who introduced them in 1994.\n",
        "\n",
        "**How PR Boxes Work**\n",
        "\n",
        "Imagine two boxes, one with Alice and one with Bob. Each box has two buttons (labeled 0 and 1) and two lights (also labeled 0 and 1). When Alice presses a button, her light flashes either 0 or 1. Similarly, when Bob presses a button, his light flashes 0 or 1.\n",
        "\n",
        "PR boxes are characterized by the following correlation:\n",
        "\n",
        "* If Alice and Bob press the same button, their lights always flash the same value (either both 0 or both 1).\n",
        "* If Alice and Bob press different buttons, their lights flash different values (one 0 and one 1) with a probability of 1/2.\n",
        "\n",
        "**Why PR Boxes Are Interesting**\n",
        "\n",
        "These correlations are stronger than anything quantum mechanics can produce. If PR boxes existed, they would violate Bell's inequalities to a greater extent than quantum entanglement allows. This would have profound implications for our understanding of the universe and the foundations of physics.\n",
        "\n",
        "**Hypercomputation and PR Boxes**\n",
        "\n",
        "Hypercomputation refers to models of computation that can solve problems that are not computable by Turing machines (the standard model of computation). PR boxes, if they existed, would be a potential tool for hypercomputation.\n",
        "\n",
        "They could be used to solve problems like the halting problem (determining whether a given computer program will eventually halt) and other undecidable problems that are impossible to solve with Turing machines. This is because the PR box correlations could provide a way to bypass the limitations of classical and quantum computation.\n",
        "\n",
        "**Caveats**\n",
        "\n",
        "It's important to note that PR boxes are purely theoretical constructs. There is no evidence to suggest that they actually exist in the real world. In fact, many physicists believe that they are impossible to realize due to fundamental limitations imposed by nature.\n",
        "\n",
        "Even if PR boxes did exist, their use for hypercomputation would likely be limited by practical considerations such as noise and errors in the device.\n",
        "\n",
        "**In Summary**\n",
        "\n",
        "Popescu-Rohrlich (PR) boxes are fascinating theoretical objects that push the boundaries of our understanding of quantum mechanics and computation. While their existence remains an open question, they serve as a valuable tool for exploring the limits of what is possible in the universe.\n",
        "\n"
      ],
      "metadata": {
        "id": "OFPd0bfKqJJ5"
      }
    },
    {
      "cell_type": "markdown",
      "source": [
        "**What is Hypercomputation?**\n",
        "* Beyond Turing Machines: Hypercomputation refers to theoretical models of computation that can solve problems that are uncomputable by a standard Turing machine. Examples include machines that can decide the halting problem or compute functions with infinite information content.\n",
        "* Mostly Theoretical: No universally accepted, physically realizable model of hypercomputation exists. They remain predominantly concepts within theoretical computer science.\n",
        "* <font color=\"blue\">**Solving the Halting problem would be an example of hypercomputation, but it would not be covered by the qECTT!**</font>\n",
        "  * **The Halting Problem:**  The Halting problem asks whether it's possible to create a universal algorithm that can definitively determine if any given computer program will eventually stop running or continue indefinitely.  Alan Turing famously proved this problem is undecidable by a standard Turing machine.\n",
        "  * **Why it's Hypercomputation:** <font color=\"blue\">If you could solve the Halting problem, you'd possess a machine (often envisioned as an \"oracle\") capable of doing something no Turing machine (classical or quantum) can achieve</font>. This computational superpower fits most definitions of hypercomputation.\n",
        "  * **qECTT Violation:** Since the qECTT asserts that a quantum computer is no more powerful than a theoretical quantum Turing machine, and a quantum Turing machine still can't solve the Halting problem, this type of  hypercomputation directly clashes with the qECTT.\n",
        "  * **Important Note:** While conceptually clear, hypercomputation is tricky because it's largely defined by what it isn't.  Building a hypercomputer in the real world might be fundamentally impossible.\n",
        "\n",
        "> It is well known that certain extensions to the Turing machine such as additional memory tapes or non-determinism do not allow it to compute any new functions. **Indeed this is often cited as a reason to accept the recursive functions as being the natural class of computable functions**. However, it has been shown that by adding the ability to perform additional primitive functions, to acquire input from the outside world, to perform infinite precision operations on real numbers, or to perform an infinite number of computational steps can all increase the power of the Turing machine and allow it to compute non-recursive functions. doi:10.1016/j.amc.2005.09.076\n",
        "\n",
        "**Forms of [Hypercomputation](https://en.m.wikipedia.org/wiki/Hypercomputation)**\n",
        "\n",
        "* **Hypercomputers and Quantum Gravity Computers**:\n",
        "  * see description in seth lloyds: black hole computers\n",
        "  * [Black holes as tools for quantum computing by advanced extraterrestrial civilizations](https://arxiv.org/abs/2301.09575)\n",
        "  * [Quantum Gravity Computers](https://arxiv.org/abs/quant-ph/0701019)\n",
        "  * [A simple quantum system that describes a black hole](https://arxiv.org/abs/2303.11534)\n",
        "  * [Quantum computers could simulate a black hole in the next decade](https://www.newscientist.com/article/2370695-quantum-computers-could-simulate-a-black-hole-in-the-next-decade/)\n",
        "  * [Black Hole as a model of computation](https://www.sciencedirect.com/science/article/pii/S2211379719304036)\n",
        "\n",
        "* **Infinity Machines**\n",
        "  * **Infinity Machines**: with geometrically squeezed time cycles, such as the ones envisioned by Weyl [7] and others [8-18], are they physically feasible? Motivated by recent proposals to utilize quantum computation for trespassing the Turing barrier [19-22], these accelerating Turing machines have been intensively discussed [23] among other forms of hypercomputation [24-26].\n",
        "\n",
        "* **Quantum Gravity Computers / Black Holes as Computers**\n",
        "  * **Quantum Gravity Computer with CTCs**: no one knows how to combine quantum mechanics with general theory of relativity. Quantum gravity: breakdowns of causality itself, if closed timelike curves CTCs (i.e., [time machines to the past](https://www.pbs.org/wgbh/nova/article/do-time-travelers-tweet/) ) are possible. David Deutsch, John Watrous and Aaronson: “A time machine is definitely the sort of thing that might let us tackle problems too hard even for a quantum computer.”\n",
        "  * With closed timelike curves, then under fairly mild assumptions, one could “force” Nature to solve hard combinatorial problems, just to keep the universe’s history consistent (i.e., to prevent things like the grandfather paradox from arising). Notably, the problems you could solve that way include the NP-complete problems : a class that includes hundreds of problems of practical importance (airline scheduling, chip design, etc.), and that’s believed to scale exponentially in time even for quantum computers.\n",
        "  * According to a 1992 paper (Hogarth, Mark L. (1992). [\"Does general relativity allow an observer to view an eternity in a finite time?\"](https://link.springer.com/article/10.1007/BF00682813)), a computer operating in a [Malament–Hogarth spacetime](https://en.m.wikipedia.org/wiki/Malament%E2%80%93Hogarth_spacetime) or in **orbit around a rotating black hole could theoretically perform non-Turing computations for an observer inside the black hole**.\n",
        "  * Access to a CTC may allow the rapid solution to PSPACE-complete problems, a complexity class which, while Turing-decidable, is generally considered computationally intractable. - [Computability Theory of Closed Timelike Curves](https://www.scottaaronson.com/papers/ctchalt.pdf). There are spacetimes in which the [CTC (closed timelike curves)](https://en.m.wikipedia.org/wiki/Closed_timelike_curve) region can be used for relativistic hypercomputation. [Closed Timelike Curves Make Quantum and Classical Computing Equivalent](https://arxiv.org/abs/0808.2669). While quantum formulations of CTCs have been proposed,[5][6] a strong challenge to them is their ability to freely create entanglement,[7] which quantum theory predicts is impossible. If Deutsch's prescription holds, the existence of these CTCs implies also equivalence of quantum and classical computation (both in PSPACE).[8] If Lloyd's prescription holds, quantum computations would be PP-complete. https://en.m.wikipedia.org/wiki/Closed_timelike_curve.\n",
        "  * **Achtung:** CTCs brauchen exotische Teilchen, um rückwärts in der zeit zu reisen (laut Hawking), und diesr exotischen Teilchen wurden noch nicht gefunden [Source](https://www.quora.com/If-two-black-holes-collide-does-the-matter-around-them-travel-back-in-time) - <font color=\"red\">So CTCs don't seem to exist, and with that no np-hard computation!</font>\n",
        "  * Videos: [Limits of computation](https://youtu.be/ZDfaXJRtOoM) - [Limits of computation](https://youtu.be/gV12PS19YL8) - [Physical limits of computation](https://youtu.be/ZVj93b0pa2o) - [What is the computational power of the universe](https://youtu.be/ROdv1v_YsAw) - [Is the universe a Turing machine?](https://youtu.be/VY6TzB_xH-k) (Lex Fridman: Lee Cronin vs Joscha Bach) - [The universe is not hypercomputational](https://youtu.be/VV_kArap5TM) (min 2). [Computing Limit](https://youtu.be/jv2H9fp9dT8). [Is There Anything Beyond Quantum Computing? ](https://www.pbs.org/wgbh/nova/article/is-there-anything-beyond-quantum-computing/) (Aaronson).\n",
        "\n",
        "* **Omega Machines**\n",
        "  * These are machines that can solve the halting problem, which is a problem that is known to be unsolvable by a Turing machine. (from chaitin's (omega) number):\n",
        "  * omega appears to have two features which are normally consid- ered contradictory: it is one of the most informative mathematical numbers imaginable, yet at the same time this information is so com- pressed that it cannot be deciphered. Thus omega appears to be totally structureless and random.\n",
        "  * In this sense, for omega, total information and total randomness seem to be “two sides of the same coin”. On a more pragmatic level, it seems impossible here to differen- tiate between order and chaos, or between knowledge and chance. **This gives a taste of what can be expected from any “hyper-computation” beyond universal computability** as defined by Turing. Source: [How to Acknowledge Hypercomputation?](https://content.wolfram.com/uploads/sites/13/2019/03/18-1-6.pdf)\n",
        "  * [Non-Turing Computers and Non-Turing Computability](https://www.jstor.org/stable/193018)\n",
        "  * Adamyan, Calude, Pavlov: Transcending the Limits of Turing Computability. Kieu: Computing the Noncomputable. Ord: The Many Forms of Hypercomputation. Davis: The Myth of Hypercomputation. Doria and Costa: Introduction to the Special Issue on Hypercomputation. Davis: Why There Is No Such Discipline as Hypercomputation\n",
        "  * Church–Kalmár–Kreisel–Turing theses theoretical concerning (necessary) limitations of future computers and of deductive sciences, in view of recent results of classical general relativity theory.  https://arxiv.org/abs/gr-qc/0104023\n",
        "\n"
      ],
      "metadata": {
        "id": "hojYWzd_AAMC"
      }
    },
    {
      "cell_type": "markdown",
      "source": [
        "**Motivation: Beyond Limits of Quantum Computers - Scientific Questions**\n",
        "\n",
        "1. **Computational Complexity and Black Holes**: The ultimate computers? AdS/CFT and information paradox? Are Black Holes (Non-)Turing machines (describable and computable)? Are there Unknown laws of quantum gravity?\n",
        "2. **Computational Complexity and Universe**: Is it describable and computable (simulatable), or a non-Turing machine? Can we not simulate all problems (including quantum gravity) on standard QC's? And are there problems that really require computers that are more complex than QC?\n",
        "  * Where is actually the computational limit of (standard) quantum computers?  Do we really need more powerful computers?  What actually means more powerful than quantum computers? - Are there systems that are hard to simulate on standard, qubit-based quantum computers, then those systems themselves could be thought of as more powerful kinds of quantum computers, which solve at least one problem—the problem of simulating themselves —faster than is otherwise possible.\n",
        "  * Benefits of thining about Limits of quantum computing: Minimum eigenvalue gap of my hamiltonian (spectral gap decrease polynomial or exponentially as a function of the number of particles?). Eigenvalue gap can become exponentially small. **Limits of quantum computing have explanatory power: why spectral gaps behave the way they do?** Why they help to protect geometry of spacetime. Scott Aaronson: [Black Holes, Firewalls, and the Limits of Quantum Computers](https://www.youtube.com/watch?v=cstKRACrMQY&t=2446)\n",
        "  * Lloyd also postulates that the Universe can be fully simulated using a quantum computer; however, in the absence of a theory of quantum gravity, such a simulation is not yet possible. \"Particles not only collide, they compute.\" https://en.m.wikipedia.org/wiki/Programming_the_Universe\n",
        "  * **It from Qubit - Everything is computation (The universe as a computer)**\n",
        "    * But to a physicist, all physical systems are computers. Rocks, atom bombs and galaxies may not run Linux, but they, too, register and process information. Every electron, photon and other elementary particle stores bits of data, and every time two such particles interact, those bits are transformed. Physical existence and information content are inextricably linked. As physicist John A. Wheeler of Princeton University says, It from bit.\n",
        "    * What is the universe computing? Instead the universe is computing itself. Powered by Standard Model software, the universe computes quantum fields, chemicals, bacteria, human beings, stars and galaxies. As it computes, it maps out its own spacetime geometry to the ultimate precision allowed by the laws of physics. **Computation is existence.**\n",
        "    * **It from Qubit** from [Simons Collaboration on Quantum Fields, Gravity, and Information](https://web.stanford.edu/~phayden/simons/overview.pdf):\n",
        "      * Does spacetime emerge from entanglement?\n",
        "      * Can quantum computers simulate all physical phenomena?\n",
        "      * Do black holes have interiors? Does the universe exist outside our horizon?\n",
        "3. **Computational Complexity and Consciousness**: Is consciousness reducable to computation?\n",
        "\n"
      ],
      "metadata": {
        "id": "FQOMlaEP1y6u"
      }
    },
    {
      "cell_type": "markdown",
      "source": [
        "**The Case why Turing Machines are powerful enough**\n",
        "\n",
        "*No need for hypercomputers*\n",
        "\n",
        "**Type 1: Power of Standard Quantum Computers**\n",
        "\n",
        "* Refers to non-relativistic quantum mechanics quantum computers. Fun Fact: there is a line of research how to efficiently simulate quantum circuits on classical computers.\n",
        "\n",
        "* **Standard QCs can simulate all of quantum chemistry and atomic physics efficiently**: Could Nature allow more powerful kinds of quantum computers than the “usual” qubit-based kind? - Strong evidence that answer is “no” comes from work by Richard Feynman in the 1980s, and by Seth Lloyd and many others starting in the 1990s. They showed how to take a wide range of realistic quantum systems and simulate them using nothing but qubits. (..) it looks likely that a single device, a quantum computer, would in the future be able to simulate all of quantum chemistry and atomic physics efficiently.\n",
        "\n",
        "* **Standard QCs can simulate Quantum Field Theory efficiently**: Stephen Jordan, Keith Lee, and John Preskill gave the first detailed, efficient simulation of a “realistic” quantum field theory using a standard quantum computer (“adiabatic state preparation”).\n",
        "\n",
        "* **Standard QCs can simulate Quantum Gravity efficiently**: hint that a standard quantum computer could efficiently simulate even quantum-gravitational processes, like the formation and evaporation of black holes. Most notably, the AdS/CFT correspondence (assuming the translation is also computationally efficient, see more below under Black Hole Computing)\n",
        "  * [A simple quantum system that describes a black hole](https://arxiv.org/abs/2303.11534)\n",
        "  * [Quantum computers could simulate a black hole in the next decade](https://www.newscientist.com/article/2370695-quantum-computers-could-simulate-a-black-hole-in-the-next-decade/)\n",
        "\n",
        "**Type 2: Quantum Field Theory Computers**\n",
        "\n",
        "* Includes special relativity (quantum field theory).\n",
        "\n",
        "* Challenge: It’s not clear what we should program our quantum computer to simulate. Also, in most quantum field theories, even a vacuum is a complicated object.\n",
        "\n",
        "* A \"Quantum field theory computer” like from Michael Freedman, Alexei Kitaev, and Zhenghan Wang showed how to simulate a “toy” class of quantum field theories, called **topological quantum field theories** (TQFTs). What kinds of QFT can be simulated on standard QC:\n",
        "\n",
        "  * Simulations of QFT on QC to study chiral symmetry breaking, confinement, and deconfinement phase transition. Bigger QCs: simulate more complex QFTs to understand dark matter and dark energy. Potential to revolutionize our understanding of the fundamental forces of nature, but still in early stage\n",
        "  * **Lattice field theory**: simulate dynamics of field that is discretized onto lattice\n",
        "  * **Schwinger model** (simple QFT to study behavior of electrons in strong electric field, Google used 53-qubit QC in 2022, simulation reproduced known results from analytical calculations and provided new insights into behavior of Schwinger model)\n",
        "  * More QFTs simulatable: **Ising model, XY model, Heisenberg model, U(1) gauge theory, QCD (quantum chromo dynamics)**\n",
        "\n",
        "* But Stephen Jordan, Keith Lee, and John Preskill gave the first detailed, efficient simulation of a “realistic” quantum field theory using a standard quantum computer (“adiabatic state preparation”)\n",
        "\n",
        "**Is Nature actually np-hard? Are there really physical problems we cannot solve on standard QC's efficiently?**\n",
        "  * Penrose: speculated that quantum gravity is literally impossible to simulate using either an ordinary computer or a quantum computer, even with unlimited time and memory at your disposal. Penrose: is the brain a quantum gravitational computer? He wants the brain to be exploiting as yet unknown laws of quantum gravity. Which would be uncomputable.\n",
        "  * No, nature is not np-hard, makes mistakes also in protein folding: Nature can <u>not</u> solve all np problems (like soap bubbles is a myth). Scott aaronson: doing the soap experiment: you need to repeat the trial several times, it does not always find the best solution. it seems to find a local optimum mostly. Prions in protein: local optima! Scott Aaronson: [Black Holes, Firewalls, and the Limits of Quantum Computers](https://www.youtube.com/watch?v=cstKRACrMQY&t=2446). And it cannot scale to large number of nails. **In the case of soap bubbles, nature just seems to apply a really fast approximation which is accurate for small cases but breaks down at larger instances** (due to actual physical properties... i.e. it is physically impossible to build arbitrarily thin rods to dip into soapy water.) Many other NP-problems can be modeled as physical systems in which a lowest-energy-state would correspond to a solution to the combinatorial problem. You can find that \"DNA computing\" solves the clique problem, for instance. [Source](https://groups.google.com/g/comp.theory/c/11lY926-P7M?pli=1)\n",
        "\n"
      ],
      "metadata": {
        "id": "KI9Gpnnj20st"
      }
    },
    {
      "cell_type": "markdown",
      "source": [
        "**Computational Complexity and Consciousness**\n",
        "\n",
        "* Penrose further speculates that human brain is sensitive to quantum gravity effects, and that this gives humans ability to solve problems that are fundamentally unsolvable by computers. However, no other expert in relevant fields agrees with arguments that lead Penrose to this provocative position. [Source from Aaronson](https://www.pbs.org/wgbh/nova/article/is-there-anything-beyond-quantum-computing/)\n",
        "* [Hard problem of consciousness](https://en.m.wikipedia.org/wiki/Hard_problem_of_consciousness) and [Pretty hard problem](https://forum.effectivealtruism.org/posts/Qiiiv9uJWLDptH2w6/the-pretty-hard-problem-of-consciousness)\n",
        "* [p Zombie (Stanford)](https://plato.stanford.edu/entries/zombies/) and [Philosophical_zombie](https://en.m.wikipedia.org/wiki/Philosophical_zombie)\n",
        "* [Integrated information theory](https://en.m.wikipedia.org/wiki/Integrated_information_theory) - Is consciousness reducable to computation?\n",
        "  * Aaaronson: [Why I Am Not An Integrated Information Theorist (or, The Unconscious Expander)](https://scottaaronson.blog/?p=1799)\n",
        "  * Tegmark has also tried to address the problem of the computational complexity behind the calculations. According to Max Tegmark “the integration measure proposed by IIT is computationally infeasible to evaluate for large systems, growing super-exponentially with the system’s information content.”\n",
        "  * As a result, Φ can only be approximated in general. However, different ways of approximating Φ provide radically different results.\n",
        "  * “Which physical states are associated with consciousness, and which are not?” This question is what Scott Aaronson (2014) has dubbed the term “Pretty Hard Problem” [Source](https://forum.effectivealtruism.org/posts/Qiiiv9uJWLDptH2w6/the-pretty-hard-problem-of-consciousness)\n",
        "  * thought experiments such as Mary the super-scientist, color spectrum inversion, or p-zombies, which are meant to draw our attention to the alleged gap between physical explanations and consciousness.\n",
        "  * Source: [Neuroscience Readies for a Showdown Over Consciousness Ideas](https://www.quantamagazine.org/neuroscience-readies-for-a-showdown-over-consciousness-ideas-20190306/)\n",
        "* Consciousness is compression: [Will GPT-5 achieve consciousness? | Joscha Bach and Lex Fridman](https://www.youtube.com/watch?v=YDkvE9cW8rw&t=139s)\n",
        "\n",
        "https://www.heise.de/hintergrund/Anzeichen-von-Bewusstsein-bei-ChatGPT-und-Co-9295425.html\n",
        "\n",
        "https://www.spektrum.de/news/hat-kuenstliche-intelligenz-wie-chatgpt-ein-bewusstsein/2193018\n",
        "\n",
        "Was Bewusstseinstheorien zu künstlicher Intelligenz sagen\n",
        "Das wurde in einer noch nicht begutachteten Arbeit, die Ende August 2023 erschienen ist, getan. 19 führende KI-Forscher und Forscherinnen haben darin anhand von fünf bekannten Bewusstseinstheorien geprüft, ob heutige KI-Systeme (oder Systeme, die man in naher Zukunft herstellen könnte) demnach ein Bewusstsein haben. Dazu haben die Fachleute jeweils »notwendige Bedingungen« aus den Theorien extrahiert, die ein System besitzen müsste, um ein Bewusstsein zu besitzen. Je mehr dieser notwendigen Anforderungen ein System erfülle, so die Argumentation, desto wahrscheinlicher sei es bewusst.\n",
        "\n",
        "* arxiv: [Consciousness in Artificial Intelligence: Insights from the Science of Consciousness](https://arxiv.org/abs/2308.08708)\n",
        "\n",
        "| Theorie des <br> Bewusstseins | Künstliches Bewusstsein, falls: |\n",
        "| :---: | :---: |\n",
        "| Recurrent <br> Processing <br> Theory | Eingabemodule besitzen elnen Rekursionsalgorithmus, der <br> es ermöglicht, strukturierte und integrierte Repräsentationen <br> von sensorischen Signalen erzeugen. |\n",
        "| Global <br> Workspace <br> Theory. | Spezialisierte Module Können parallel arbeiten, und ein <br> globaler Arbeitsraum repräsentiert nur den Input eines der <br> Module, wobei die Informationen im Workspace fưr alle <br> Module verfügbar sind. |\n",
        "| (Computational) <br> Higher Order <br> Theory | Top-down-Module überwachen und unterscheiden <br> zuverlässige Repräsentationen von sensorischen Signalen. |\n",
        "| Attention <br> Schema Theory | enthält ein prädiktives Modell, das die Kontrolle über den <br> aktuellen Zustand der Aufmerksamkeit ermöglicht und <br> diesen repräsentiert |\n",
        "| Predictive <br> Processing <br> Theory | Bewusste Rechenvorgänge tragen zur Sicherung der <br> fortwährenden Existenz des Systems bei. Der kausale Fluss <br> der bewussten Berechnungen entspricht dem kausalen <br> Fluss der physischen Dynamik des Systems. |\n",
        "| Integrated <br> Information <br> Theory | Das System integriert mehr Information als seine <br> Teilsysteme. |\n",
        "\n",
        "*Hyperdimensional computing*\n",
        "\n",
        "https://www.quantamagazine.org/a-new-approach-to-computation-reimagines-artificial-intelligence-20230413/?mc_cid=ad9a93c472&mc_eid=506130a407\n",
        "\n",
        "* Instead, Olshausen and others argue that information in the brain is represented by the activity of numerous neurons. So the perception of a purple Volkswagen is not encoded as a single neuron’s actions, but as those of thousands of neurons. The same set of neurons, firing differently, could represent an entirely different concept (a pink Cadillac, perhaps).\n",
        "\n",
        "* This is the starting point for a radically different approach to computation known as hyperdimensional computing. The key is that each piece of information, such as the notion of a car, or its make, model or color, or all of it together, is represented as a single entity: a hyperdimensional vector.\n",
        "\n",
        "https://en.m.wikipedia.org/wiki/Hyperdimensional_computing\n",
        "\n"
      ],
      "metadata": {
        "id": "NQjv96Zo5uag"
      }
    },
    {
      "cell_type": "markdown",
      "source": [
        "### <font color=\"Blue\">**Black Hole Complexity**"
      ],
      "metadata": {
        "id": "2Xmk4oUjXRHh"
      }
    },
    {
      "cell_type": "markdown",
      "source": [
        "##### <font color=\"blue\">*Physics of Black Holes*"
      ],
      "metadata": {
        "id": "D9VH8cY6Ia40"
      }
    },
    {
      "cell_type": "markdown",
      "source": [
        "###### *Black Holes*"
      ],
      "metadata": {
        "id": "Zd3SbuXPo-mz"
      }
    },
    {
      "cell_type": "markdown",
      "source": [
        "https://en.wikipedia.org/wiki/Black_hole_thermodynamics"
      ],
      "metadata": {
        "id": "YBooz3EUm6Xy"
      }
    },
    {
      "cell_type": "markdown",
      "source": [
        "> Video: [The Map of Black Holes](https://youtu.be/Wf0uxjWGwPk)\n",
        "\n",
        "\n",
        "*Kann ein schwarzes Loch seine ganze umgebende Galaxie verschlucken?* Nein!\n",
        "\n",
        "1. [Schwarzschildradius (Ereignishorizont)](https://de.m.wikipedia.org/wiki/Ereignishorizont)\n",
        "\n",
        "2. [Eddington-Leuchtkraft](https://de.m.wikipedia.org/wiki/Eddington-Grenze)\n",
        "\n",
        "3. Long run: [*Hawking Radiation (Black Hole Radiation)*](https://de.m.wikipedia.org/wiki/Hawking-Strahlung)"
      ],
      "metadata": {
        "id": "F8bg3biAyAkt"
      }
    },
    {
      "cell_type": "markdown",
      "source": [
        "https://www.quantamagazine.org/jwst-spots-giant-black-holes-all-over-the-early-universe-20230814/\n",
        "\n"
      ],
      "metadata": {
        "id": "sj6ZzMxCSft_"
      }
    },
    {
      "cell_type": "markdown",
      "source": [
        "https://www.quantamagazine.org/math-proof-draws-new-boundaries-around-black-hole-formation-20230816/"
      ],
      "metadata": {
        "id": "_zyvus7cf5vH"
      }
    },
    {
      "cell_type": "markdown",
      "source": [
        "Supermassive Black Hole in Cygnus A, M87\n",
        "\n",
        "Ultramassive Black Hole: OJ 287, TON 618 (11 solar systems would fit)"
      ],
      "metadata": {
        "id": "MUARabl5Yynl"
      }
    },
    {
      "cell_type": "markdown",
      "source": [
        "[TON 618](https://de.m.wikipedia.org/wiki/TON_618) - ist ein ferner, lichtstarker Quasar im Sternbild der Jagdhunde. Er enthält das mit vermutlich 66 bis 70 Milliarden Sonnenmassen massereichste derzeit bekannte Schwarze Loch.\n",
        "\n",
        "- Stellar blackholes: up to 3-99 solar masses (maybe millions in Milky Way)\n",
        "- Intermediate blackholes 100-99.999 solar masses, via binary star systems\n",
        "- Supermassive blackholes: 100.000 solar masses up to millions, like Sagittarius A*\n",
        "- Ultramassive blackholes / SLABs: 10 billion solar masses and more, like IC 1101* (Abell 2029 BCG) with 40 billion suns (event horizon thousands of times large than Neptune), 50-60 billion solar masses maybe a physical limit\n",
        "- TON-618 (The 618th entry in the Tonantzintla Catalogue refers a radio-loud Quasar-galaxy, z=2.29): 66 billion solar masses, event horizon (Schwarzschild radius): 400 billion kilometers (40x the distance between Neptune and sun, 40x 30AU = 1300 AU radius). Probably it’s only 40 billion masses\n",
        "- Phoenix A* (seyfert type 2 galaxy), 5,6 min light years away, most x-rays , most star formation, highest luminous gas. Brightest cluster galaxies (BCG): maybe 100 billion solar masses (24,000 time larger than sagittarius a*, and 7% of entire Milky Way, and 3x larger than Messier 33. Triangulum Galaxy). Vent horizon of half a trillion kilometers = 100x more than median distance between Pluto and sun (40AU). Same size also for IC1101, and Holnberg 15A. But seems all three are ore around 40 billion solar masses.\n",
        "- Another big one: Abell 1201 BCG, cD galaxy with around 32 billion solar masses"
      ],
      "metadata": {
        "id": "qJYWRAnO7uUp"
      }
    },
    {
      "cell_type": "markdown",
      "source": [
        "[Ton 618 vs phoenix A Black Hole Size Comparison](https://youtu.be/vtqWnq4RZUE?si=phRqddq9Vjp5v4-d)"
      ],
      "metadata": {
        "id": "gelqAIuAGg3O"
      }
    },
    {
      "cell_type": "markdown",
      "source": [
        "The largest black hole http://youtu.be/dx53GHSHrSA"
      ],
      "metadata": {
        "id": "uvJpGb4vSIWM"
      }
    },
    {
      "cell_type": "markdown",
      "source": [
        "![sciences](https://raw.githubusercontent.com/deltorobarba/repo/master/sciences_1550.png)"
      ],
      "metadata": {
        "id": "gJF8H851pCEV"
      }
    },
    {
      "cell_type": "markdown",
      "source": [
        "###### *Penrose-Diagram*"
      ],
      "metadata": {
        "id": "DA5HMxDY9iHT"
      }
    },
    {
      "cell_type": "markdown",
      "source": [
        "[**Penrose-Diagramm**](https://de.m.wikipedia.org/wiki/Penrose-Diagramm)\n",
        "\n",
        "Video [Was passiert am Ereignishorizont? | Space Time | PBS Digital Studios](https://www.youtube.com/watch?v=mht-1c4wc0Q)\n",
        "\n",
        "> Mit diesem Diagramm kann die globale Struktur der Lösungen der allgemeinen Relativitätstheorie (wie schwarze Löcher und andere Singularitäten, Ereignishorizonte, asymptotische Flachheit) graphisch dargestellt werden.\n",
        "\n",
        "* In der theoretischen Physik ist ein Penrose-Diagramm ein zweidimensionales Diagramm, das den kausalen Zusammenhang von verschiedenen Punkten in einer Raumzeit darstellt.\n",
        "\n",
        "* Es ist eine **Erweiterung des Minkowski-Diagramms**, bei dem horizontal der Raum und vertikal die Zeit eingetragen sind und ein Lichtkegel den kausalen Zusammenhang zwischen unterschiedlichen Ereignissen der Raumzeit zeigt.\n",
        "\n",
        "* Die im Penrose-Diagramm darzustellende Metrik wird mittels konformer Transformation kompaktifiziert, sodass eine unendliche Zeit- und eine unendliche Raumkoordinate als zweidimensionaler endlicher Unterraum dargestellt werden.\n",
        "\n",
        "> Mit diesem Diagramm kann die globale Struktur der Lösungen der allgemeinen Relativitätstheorie (wie schwarze Löcher und andere Singularitäten, Ereignishorizonte, asymptotische Flachheit) graphisch dargestellt werden.\n",
        "\n",
        "*Penrose-Diagramm als konforme Abbildung der (asymptotisch) flachen Minkowski-Raumzeit (siehe Abb. 2). Beide Diagramme repräsentieren die identischen kausalen Zusammenhänge zwischen Ereignissen, wobei in beiden Diagrammen die Weltlinien der Lichtstrahlen mit $\\textstyle \\pm 45^{\\circ }$ geneigte Geraden sind. Die bernsteinfarbene Kurve zeigt eine zeitartige Weltlinie, die im Penrose-Diagramm, wie im Minkowski-Diagramm, immer innerhalb der lilafarbenen Vorwärtslichtkegel verläuft.*\n",
        "\n",
        "![geometry](https://raw.githubusercontent.com/deltorobarba/repo/master/sciences_1220.png)"
      ],
      "metadata": {
        "id": "_k6uxeYQ7-va"
      }
    },
    {
      "cell_type": "markdown",
      "source": [
        "###### *Schwarzschild Metric (Schwarzschild Coordinates)*"
      ],
      "metadata": {
        "id": "8APTJDua9uNY"
      }
    },
    {
      "cell_type": "markdown",
      "source": [
        "**Ausgangspunkt: Spherically symmetric spacetime**\n",
        "\n",
        "* [Spherically symmetric spacetime](https://en.m.wikipedia.org/wiki/Spherically_symmetric_spacetime) are commonly used to obtain analytic and numerical solutions to Einstein's field equations in the presence of radially moving matter or energy.\n",
        "\n",
        "* Because spherically symmetric spacetimes are by definition irrotational, they are not realistic models of black holes in nature.\n",
        "\n",
        "* However, their metrics are considerably simpler than those of rotating spacetimes, making them much easier to analyze.\n",
        "\n",
        "* Spherical symmetry is a characteristic feature of many solutions of Einstein's field equations of general relativity, especially the Schwarzschild solution and the Reissner–Nordström solution."
      ],
      "metadata": {
        "id": "VFvJh1U23J9A"
      }
    },
    {
      "cell_type": "markdown",
      "source": [
        "> Schwarzschild Metric allows us to compare two points or events in spacetime around a massive object from the perspective of different observers.\n",
        "\n",
        "> $\\Delta s^2=-\\left(1-\\frac{r_s}{r}\\right) \\Delta t^2+\\frac{1}{\\left(1-\\frac{r_s}{r}\\right)} \\Delta r^2$\n",
        "\n",
        "Video: [The Phantom Singularity | Space Time](https://www.youtube.com/watch?v=-q7EvLhOK08)\n",
        "\n",
        "![sciences](https://raw.githubusercontent.com/deltorobarba/repo/master/sciences_1255.png)\n",
        "\n",
        "![sciences](https://raw.githubusercontent.com/deltorobarba/repo/master/sciences_1256.png)\n",
        "\n",
        "![sciences](https://raw.githubusercontent.com/deltorobarba/repo/master/sciences_1257.png)\n",
        "\n",
        "![sciences](https://raw.githubusercontent.com/deltorobarba/repo/master/sciences_1258.png)\n",
        "\n",
        "![sciences](https://raw.githubusercontent.com/deltorobarba/repo/master/sciences_1259.png)\n",
        "\n",
        "![sciences](https://raw.githubusercontent.com/deltorobarba/repo/master/sciences_1260.png)\n",
        "\n",
        "For objects not traveling at speed of light and being at event horizon, time and space switch. The objects falls towards the central singularity:\n",
        "\n",
        "![sciences](https://raw.githubusercontent.com/deltorobarba/repo/master/sciences_1261.png)\n",
        "\n",
        "Light from event horizon never reaches us - has infinite wavelength:\n",
        "\n",
        "![sciences](https://raw.githubusercontent.com/deltorobarba/repo/master/sciences_1262.png)\n",
        "\n",
        "Remove coordinate singularity with other coordinates at event horizon:\n",
        "\n",
        "![sciences](https://raw.githubusercontent.com/deltorobarba/repo/master/sciences_1263.png)"
      ],
      "metadata": {
        "id": "FqIBuvFaepsH"
      }
    },
    {
      "cell_type": "markdown",
      "source": [
        "*Schwarzschild Solution (Schwarzschild Coordinates)*\n",
        "\n",
        "![sciences](https://raw.githubusercontent.com/deltorobarba/repo/master/sciences_1235.png)\n",
        "\n",
        "![sciences](https://raw.githubusercontent.com/deltorobarba/repo/master/sciences_1237.png)"
      ],
      "metadata": {
        "id": "rNxDekLPOL4s"
      }
    },
    {
      "cell_type": "markdown",
      "source": [
        "**Schwarzschild-Koordinaten (Linienelement):**\n",
        "\n",
        "> ${\\displaystyle \\mathrm {d} s^{2}=g_{\\mu \\nu }\\mathrm {d} x^{\\mu }\\mathrm {d} x^{\\nu }=-c^{2}\\left(1-{\\frac {r_{\\mathrm {s} }}{r}}\\right)\\mathrm {d} t^{2}+{\\frac {1}{1-{\\frac {r_{\\mathrm {s} }}{r}}}}\\mathrm {d} r^{2}+r^{2}\\mathrm {d} \\theta ^{2}+r^{2}\\sin ^{2}(\\theta )\\mathrm {d} \\phi ^{2}}$\n",
        "\n",
        "In einem natürlichen Einheitensystem mit ${\\displaystyle G=c=1,r_{\\mathrm {s} }=2M}$ wird das Linienelement zu\n",
        "\n",
        "> ${\\displaystyle \\mathrm {d} s^{2}=-\\left(1-{\\frac {2M}{r}}\\right)\\mathrm {d} t^{2}+{\\frac {1}{1-{\\frac {2M}{r}}}}\\mathrm {d} r^{2}+r^{2}\\mathrm {d} \\theta ^{2}+r^{2}\\sin ^{2}(\\theta )\\;\\mathrm {d} \\phi ^{2}}$\n",
        "\n",
        "![sciences](https://raw.githubusercontent.com/deltorobarba/repo/master/sciences_1228.png)"
      ],
      "metadata": {
        "id": "W8GkCu3xdqDr"
      }
    },
    {
      "cell_type": "markdown",
      "source": [
        "**Schwarzschild Metric as a solution to the Einstein Field Equations (Birkhoff'sche Theorem)**\n",
        "\n",
        "* Schwarzschild black hole, which is often termed as the most basic type, namely non-rotating and non-charged\n",
        "\n",
        "* One of the few analytic solution to the Einstein Field equations (Gravitationsfeld einer kugelsymmetrischen Masseverteilung - Herleitung der entsprechenden Metrik dafur gelang Schwarzschild 1916).\n",
        "\n",
        "  * Schwarzschild Metrik ist die eindeutige Lösung der Vakkum-Feldgleichungen (mit sphärischer Symmetrie und verschwindender kosmologischer Konstante). [Exact solutions in general relativity > Types of exact solution](https://en.m.wikipedia.org/wiki/Exact_solutions_in_general_relativity#Types_of_exact_solution)\n",
        "\n",
        "  * Siehe auch [Birkhoff'sche Theorem](https://de.m.wikipedia.org/wiki/Birkhoff-Theorem): „*Eine sphärisch symmetrische [Vakuumlösung](https://de.m.wikipedia.org/wiki/Vakuumlösung) der einsteinschen Feldgleichungen außerhalb einer sphärisch symmetrischen Massenverteilung muss statisch sein und diese Lösung muss die Schwarzschild-Lösung sein*.“\n",
        "\n",
        "* [Schwarzschild-Metrik](https://de.m.wikipedia.org/wiki/Schwarzschild-Metrik) ist für ein statisches und ungelades Schwarzes Loch\n",
        "\n",
        "* **Die Schwarzschild-Metrik gilt für alle sphärisch-symmetrischen Massen-verteilungen mit verschwindender kosmologischer Konstante**. Befindet sich diese Massenverteilung vollständig unterhalb des Schwarzschild-Radius, so beschreibt sie auch eines der außergewöhnlichsten Objekte in der ART - ein statisches Schwarzes Loch.\n",
        "\n",
        "* Schwarzschild-Metrik **drescribes the most simplified Black hole which can exist: a single unit of a compressed mass within a completely empty plane of spacetime, and hence unaffected by surroundings** (It's an eternal black hole)\n",
        "\n",
        "* **The [Schwarzschild metric](https://de.m.wikipedia.org/wiki/Schwarzschild-Metrik) describes the gravitational field outside a spherical mass**.\n",
        "\n",
        "* Nur Aussenrand betrachtet erstmal. Innenraum: interessant bei Behandlung Neutronensterne\n",
        "\n",
        "\n",
        "* Video: [Schwarzschild metric - part 1](https://www.youtube.com/watch?v=UJmAl10srHs)\n",
        "\n",
        "![geometry](https://raw.githubusercontent.com/deltorobarba/repo/master/sciences_1160.png)\n",
        "\n",
        "![geometry](https://raw.githubusercontent.com/deltorobarba/repo/master/sciences_1159.png)\n",
        "\n",
        "\n",
        "\n",
        "\n"
      ],
      "metadata": {
        "id": "MZfJ-Rft5yrI"
      }
    },
    {
      "cell_type": "markdown",
      "source": [
        "**Singularities**\n",
        "\n",
        "* Some singularities come from choice of reference frame or coordinate system.\n",
        "\n",
        "  * Like event horizon is a frame-dependent singularity.\n",
        "\n",
        "  * Or on earth, North and south pole are ‘coordinate singularities’, because you can pass time zones infinitely quickly, but only because of choice of spherical coordinates.\n",
        "\n",
        "* But gravitational singularity at the center of a black hole is a real singularity, because curvature and density are infinite from any reference frame. You can change to any coordinate system and you get the same result.\n",
        "\n",
        "* However, the reality of the black hole singularity may give reason to **doubt the theory** that predicts such a thing.\n",
        "\n",
        "![sciences](https://raw.githubusercontent.com/deltorobarba/repo/master/sciences_1254.png)"
      ],
      "metadata": {
        "id": "NgRkZKXTdW2r"
      }
    },
    {
      "cell_type": "markdown",
      "source": [
        "**Event Horizon and Schwarzschild Radius**\n",
        "\n",
        "* A Schwarzschild black hole is characterized by a surrounding spherical boundary called the [event horizon](https://en.m.wikipedia.org/wiki/Event_horizon) / [Ereignishorizont](https://de.m.wikipedia.org/wiki/Ereignishorizont) which occurs at the Schwarzschild radius.\n",
        "\n",
        "\n",
        "* Bei statischen Schwarzen Löchern ist der Ereignishorizont eine Kugeloberfläche, deren Radius [Schwarzschild-Radius](https://en.m.wikipedia.org/wiki/Schwarzschild_radius) genannt wird. [Source](https://de.wikipedia.org/wiki/Allgemeine_Relativitätstheorie#Metriken_Schwarzer_Löcher)\n",
        "\n",
        "  * The sun, for example, has a radius of 700,000km\n",
        "but has a Schwarzschild radius of just 3km.\n",
        "\n",
        "  * The earth's radius is 6371 km but its Schwarzschild radius is just 9mm, about the size of a peanut.\n",
        "\n",
        "* <font color=\"blue\">Either of these would have to collapse to their respective Schwarzschild radius before the force of gravity would overcome the nuclear forces and they would continue to become a black hole</font>, something that will never happen to either of them because they don't have the mass required.\n",
        "\n",
        "\n",
        "Video: [Do Events Inside Black Holes Happen?](https://www.youtube.com/watch?v=vNaEBbFbvcY)\n",
        "\n",
        "* Events at and in the black hole don't happen to an observer form outside. Events = Where and <strike>When</strike>? A \"when\" cannot not consistently be assigned!\n",
        "\n",
        "> **And a black hole is exactly that set of events (that don't happen to an outside observer)**\n",
        "\n",
        "* black hole is not just a set of locations. Black hole = all events that take place at these locations.\n",
        "\n",
        "* it's not a visibility issue (thaty things happen but we simply cant see them). a black hole is the collection of happenings that we say dont happen at all. **And the black blob is just how it looks like in ordinary temporal and spatial terms when you delete these occurrences from all observers from the history of the universe**.\n",
        "\n",
        "* the last thing we can see is the called 'event horizon'. but it's not just a spherical surface in space. **An event horizon is a surface in spacetime. It represents the last event to which you can even assign a \"when\"**\n",
        "\n",
        "* Fun fact: a black hole is not because all light is sucked in it\n",
        "\n",
        "  * the photons are simply falling radially inwards and the geometry inside a black hole is so distored, that going out is not a valid option anymore\n",
        "\n",
        "  * Moreover, from our external point the photon never entered the black hole. everyhting freezes on its surface to us. The wavelength of the last photon is stretch until infinity (redshifted to undetectable low frequencies).\n",
        "\n",
        "  > **So to us a black hole looks black because light that gets emitted just outside the horizon is redshifted into invisibility.**\n",
        "\n",
        "  * the infinite redshift keeps you from seeing it at all.\n",
        "\n",
        "If the sun is a perfect sphere\n",
        "\n",
        "* It determines the spacetime geometry in its neighbourhood, the resulting geodesics of which correspond to radial freefall, obrits etc\n",
        "\n",
        "* If I replace the sun with a 6 km (3) black hole, the geodesics beyond where the sun's edge used to be, remain change. Earth's orbit won't be any different = that black hole generates the same spacetime geometry out here than the sun does\n",
        "\n",
        "* the black hole is not a vaccum cleaner that suck stuff in. The idea comes from the region that used to be inside the sun but outside the black hole (event horizon edge)\n",
        "\n",
        "![sciences](https://raw.githubusercontent.com/deltorobarba/repo/master/sciences_1245.png)\n",
        "\n",
        "![sciences](https://raw.githubusercontent.com/deltorobarba/repo/master/sciences_1246.png)\n",
        "\n"
      ],
      "metadata": {
        "id": "V8VF1RCIsK41"
      }
    },
    {
      "cell_type": "markdown",
      "source": [
        "**Penrose–Hawking singularity theorems & Gravitational singularity**\n",
        "\n",
        "https://en.m.wikipedia.org/wiki/Gravitational_singularity\n",
        "\n",
        "https://en.m.wikipedia.org/wiki/Penrose–Hawking_singularity_theorems\n",
        "\n",
        "*Gravitational singularity*\n",
        "\n",
        "* A [gravitational singularity](https://en.m.wikipedia.org/wiki/Gravitational_singularity), spacetime singularity or simply singularity is a condition in which gravity is so intense that spacetime itself breaks down catastrophically.\n",
        "\n",
        "* As such, a singularity is by definition no longer part of the regular spacetime and cannot be determined by \"where\" or \"when\"."
      ],
      "metadata": {
        "id": "LDb92b8nynXH"
      }
    },
    {
      "cell_type": "markdown",
      "source": [
        "**Why space and time switch in a black hole?**"
      ],
      "metadata": {
        "id": "_mBEZRzjJbIe"
      }
    },
    {
      "cell_type": "markdown",
      "source": [
        "**Switch means what flows unidirectional forward: time outside, and space (all paths) inside)**\n",
        "\n",
        "> Once crossing the event horizon, all paths lead to singularity - **space flows unidirectional downwards** and leading only to the central singularity (faster than speed of light), just like **time flows unidirectional forward** outside the black hole. [Source](https://www.youtube.com/watch?v=mht-1c4wc0Q)\n",
        "\n",
        "![sciences](https://raw.githubusercontent.com/deltorobarba/repo/master/sciences_1270.png)\n",
        "\n"
      ],
      "metadata": {
        "id": "lFqJcKjaQVKy"
      }
    },
    {
      "cell_type": "markdown",
      "source": [
        "**Event Horizon and Kretschmann-Skalar / Singularität**\n",
        "\n",
        "* Der [Kretschmann-Skalar](https://de.m.wikipedia.org/wiki/Kretschmann-Skalar) $K$ (auch Kretschmann-Invariante oder Riemannsche Invariante) bezeichnet eine skalare Invariante im Bereich der Lorentzschen Mannigfaltigkeiten.\n",
        "\n",
        "* Er kann als Maß für die Krümmung der Raumzeit in der allgemeinen Relativitätstheorie gedeutet werden.\n",
        "\n",
        "* Für die Schwarzschild-Metrik ist der Kretschmann-Skalar mit dem Schwarzschild-Radius $r_{s}$ gegeben durch:\n",
        "\n",
        "> ${\\displaystyle K={\\frac {12{r_{s}}^{2}}{r^{6}}}={\\frac {48G^{2}M^{2}}{c^{4}r^{6}}}}$\n",
        "\n",
        "* Dieser Krümmungsskalar verhält sich im Gegensatz zum Ricci-Skalar bei $r$ = $r_s$ regulär und hat keine Singularität - es ist nur eine [Coordinate_singularities](https://en.m.wikipedia.org/wiki/Singularity_(mathematics)#Coordinate_singularity)\n",
        "\n",
        "* **Bei $r = r_s$ (am Ereignishorizont) erreicht die [Fluchtgeschwindigkeit](https://de.m.wikipedia.org/wiki/Fluchtgeschwindigkeit_(Raumfahrt)) des schwarzen Loches die Lichtgeschwindigkeit**\n",
        "\n",
        "\n",
        "* Es hat dennoch eine physikalische Bedeutung, denn die Metrikkomponenten $g_{tt}$ und $g_{rr}$ in der Schwarzschild-Metrik wechseln die Vorzeichen.\n",
        "\n",
        "* Das bedeutet die Koordinaten Zeit t und Raum r tauschen hier ihren raum- bzw. zeitartigen Charakter. Im Fall der Schwarzschild-Metrik wird diese Kugeloberfläche auch Ereignishorizont genannt. Nichts dahinter kann von aussen beobachtet werden.\n",
        "\n",
        "\n",
        "> Die Lichtkegel verengen sich bei Annäherung an den Schwarzschild-Radius. Für r > r_s sind sie entlang der Zeitachse geöffnet, **für r < r_s öffnen sich die Lichtkegel entlang der Raumachse, d. h. r wird eine zeitartige und t eine raumartige Koordinate**. Unterhalb des Horizonts bewegt sich alles unausweichlich auf die Singularität bei r = 0 zu.\n",
        "\n",
        "![geometry](https://raw.githubusercontent.com/deltorobarba/repo/master/sciences_1213.png)\n"
      ],
      "metadata": {
        "id": "Af7lNN5vtAV6"
      }
    },
    {
      "cell_type": "markdown",
      "source": [
        "**[Why space and time switch in a black hole? - Spacetime Singularity & Curvature Singularity (Gravitational singularity)](https://en.m.wikipedia.org/wiki/Gravitational_singularity)**\n",
        "\n",
        "Video:[**Why space and time switch in a black hole?**](https://www.youtube.com/watch?v=GQZ3R81iyE0)\n",
        "\n",
        "Video: [Wie Zeit in einem schwarzen Loch zu Raum wird | Space Time](https://www.youtube.com/watch?v=KePNhUJ2reI)\n",
        "\n",
        "\n",
        "* At a  center of every black hole lies a **spacetime singularity**; a point so deformed by mass compression that it punches through the fabric of spacetime to become a physical boundary of the universe, a place where all light and matter meet their eternal end.\n",
        "\n",
        "* In addition, a black hole has a **curvature singularity**, which is the part where the curvature of deformed spacetime begins to take on infinite values. It is here where science begins to depart from General relativity.\n",
        "\n",
        "* If we were somehow able to survive up until this point, then we would experience something very strange: **time and space, as connected entities, would switch roles, as the black hole's interior becomes infinite**.\n",
        "\n",
        "> **The singularity is suddenly no longer a physical point, but rather an inevitable event in the future.**\n",
        "\n",
        "* Space is so warped that all paths will inevitably lead us to this singularity, but time is so that we would require an ever-increasing amount of it to get there, as time on the outside slows down and eventually stops, forever.\n",
        "\n",
        "* And so, at this point, our cosmic fate would be sealed. We would be frozen in that moment of time forever more. The singularity now represents the infinite future of a featureless, timeless dimension, from which nothing will ever be able to escape. You would never reach the bottom of this sinkhole.. you would just continue cruising deeper into your eternal cosmic chamber, unless you were to hit another part of spacetime."
      ],
      "metadata": {
        "id": "F0XISHhtq4Sr"
      }
    },
    {
      "cell_type": "markdown",
      "source": [
        "Here the mathematical explanation:\n",
        "\n",
        "![sciences](https://raw.githubusercontent.com/deltorobarba/repo/master/sciences_1235.png)\n",
        "\n",
        "![sciences](https://raw.githubusercontent.com/deltorobarba/repo/master/sciences_1237.png)\n",
        "\n",
        "![sciences](https://raw.githubusercontent.com/deltorobarba/repo/master/sciences_1238.png)\n",
        "\n",
        "![sciences](https://raw.githubusercontent.com/deltorobarba/repo/master/sciences_1239.png)\n",
        "\n",
        "\n",
        "\n",
        "\n"
      ],
      "metadata": {
        "id": "Ge36WXVaQIkW"
      }
    },
    {
      "cell_type": "markdown",
      "source": [
        "And here the graphical explanation based on Penrose diagrams:\n",
        "\n",
        "![sciences](https://raw.githubusercontent.com/deltorobarba/repo/master/sciences_1240.png)\n",
        "\n",
        "We need to switch to Penrose diagram:\n",
        "\n",
        "![sciences](https://raw.githubusercontent.com/deltorobarba/repo/master/sciences_1241.png)\n",
        "\n",
        "> <font color=\"blue\">See above: in left picture time is Y axis (going only forward) and space is X axis. In right picture (in black hole) the time is now X axis and space is Y axis (going only forward) </font>\n",
        "\n",
        "![sciences](https://raw.githubusercontent.com/deltorobarba/repo/master/sciences_1242.png)\n",
        "\n",
        "![sciences](https://raw.githubusercontent.com/deltorobarba/repo/master/sciences_1243.png)\n",
        "\n",
        "![sciences](https://raw.githubusercontent.com/deltorobarba/repo/master/sciences_1244.png)"
      ],
      "metadata": {
        "id": "3YOkZqCrVjAM"
      }
    },
    {
      "cell_type": "markdown",
      "source": [
        "**[Why time stops in the Black Hole and we can't see inside a Black Hole? - Tidal Forces](https://en.m.wikipedia.org/wiki/Tidal_force), Speed of Light and Event Horizon**\n",
        "\n",
        "* Tidal forces: The strength of gravity is inversely proportional to the square of the distance away between two objects.\n",
        "\n",
        "* In the black hole, space is increasing faster then the speed of light, due to the gravitational pull, hence light cannot escape. <font color=\"blue\">**Reaching the centre of the black hole would take forever, and the photon would never reach the centre, because the gravitation is increasing faster than the speed of light (otherwise light would be able to escape the black hole)**</font>\n",
        "\n",
        "* To a photon, a journey from one side of the\n",
        "universe to the other is instant because at the speed of light time stops even though\n",
        "to us as the outside observers it takes a hundred billion years or more allowing for\n",
        "the expanding universe.\n",
        "\n",
        "* <font color=\"blue\">Because the force of gravity goes from very little away from the black hole to infinity at its centre, the tidal forces generated could be huge over distances at short as a couple of meters.</font>\n",
        "\n",
        "* Once beyond the horizon, everything including space itself is travelling faster than the speed of light if you could measure it against a fixed point outside. This is allowed, although nothing can travel faster than the speed of light in a vacuum, there is nothing to say that space itself can't travel faster.\n",
        "\n",
        "> <font color=\"blue\">That's what's happening with a black hole: **the extreme pull of gravity is distorting space-time so much that its moving faster towards the singularity than the light inside and that's why we can never see inside a black hole and once over the horizon, we would never see our astronaut again**.</font>\n",
        "\n",
        "Crossing the event horizon:\n",
        "\n",
        "* there is\n",
        "no absolute time, time is relative to each person and their circumstances depending on\n",
        "how warped the piece of spacetime where they are.\n",
        "* This leads us to a rather strange duality\n",
        "of possibilities:\n",
        "* Whilst our astronaut was moving closer to the event horizon in maybe a few just minutes or seconds of their time, to us on the outside\n",
        "they were already travelling close to the speed of light, so seconds to them would become\n",
        "months and ears to us. By the time they cross the horizon, it could be in the far future for us as time for them essentially grinds to a halt from our perspective.\n",
        "* To our astronaut looking out at the universe,\n",
        "it would seem as though the rest of it was speeding up exponentially and even though\n",
        "the amount of time they have left to live could be measured in minutes or seconds, they\n",
        "will have outlived all the life on earth and whatever humans became either by design or\n",
        "evolution.\n",
        "* The astronaut would be somehow dead and alive at the same time: Whilst the rest of the crew would return to live their lives, our astronaut would be frozen in time, alive in their version of reality, yet dead to us\n",
        "\n",
        "Temperature and density in a black hole\n",
        "* Before they reach the centre of the black hole they will enter the most extreme place in the universe this side of the big bang. The density of matter at the centre of the singularity is thought to reach the plank density or higher.\n",
        "* Planck density: if you take all matter of the observable universe and compress it into a space of the size of an atom\n",
        "* As you compress matter the it gets hotter\n",
        "as the particles collide together ever more energetically and as it approaches the centre\n",
        "of the black hole the temperature would rise to trillions of times greater than the centre\n",
        "of the sun but then at the actual singularity, the point of infinity, it would be about just\n",
        "a millionth of a degree above absolute zero because heat is energy is light and it can't\n",
        "escape, so there is nothing to measure, therefore there is essentially no temperature, except\n",
        "the tiny amount from the hawking radiation that leaks out.\n",
        "* end of a black hole maybe: information in form of Hawking radiation in 10^100 years during the heat death of the universe as the black holes eventually evaporates away\n",
        "\n",
        "Source: https://www.youtube.com/watch?v=JqyX26y6g2A&list=WL&index=8"
      ],
      "metadata": {
        "id": "3KRczKRz67yG"
      }
    },
    {
      "cell_type": "markdown",
      "source": [
        "###### *Maximally-Extended Schwarzschild Solution (Kruskal-Szekeres Coordinates)*"
      ],
      "metadata": {
        "id": "OQhOPkypmczT"
      }
    },
    {
      "cell_type": "markdown",
      "source": [
        "Video: [PBS: How new coordinates help solve the coordinate singularity](https://youtu.be/T4oYvSH6jJ8) (eddington finkelstein and kruskal szekeres)"
      ],
      "metadata": {
        "id": "pzWO-UNuPXJM"
      }
    },
    {
      "cell_type": "markdown",
      "source": [
        "[Kruskal-Szekeres-Koordinaten](https://de.m.wikipedia.org/wiki/Kruskal-Szekeres-Koordinaten)\n",
        "\n",
        "* Penrose-Diagramm eines statischen Schwarzen Loches. **Grundlage ist die Schwarzschild-Metrik mit [Kruskal-Szekeres-Koordinaten](https://de.m.wikipedia.org/wiki/Kruskal-Szekeres-Koordinaten)** als maximale analytische Erweiterung der Schwarzschildlösung [Source](https://de.m.wikipedia.org/wiki/Penrose-Diagramm)\n",
        "\n",
        "![ggg](https://raw.githubusercontent.com/deltorobarba/repo/master/sciences_0711.png)\n",
        "\n",
        "* Kruskal-Szekeres-Koordinaten sind Koordinaten für die Schwarzschild-Metrik, die Metrik, die den Außenraum einer kugelsymmetrischen, nicht rotierenden und elektrisch neutralen Massenverteilung beschreibt.\n",
        "\n",
        "* Die [Kruskal-Lösung](https://de.m.wikipedia.org/wiki/Kruskal-Lösung) ist eine maximale Erweiterung der Schwarzschild-Lösung. Sie weist intrinsische Singularitäten auf, weshalb sie nicht vollständig ist.\n",
        "\n",
        "* Die Lösung kann als eine Beschreibung von Einstein-Rosen-Brücken bzw. Wurmlöchern angesehen werden.\n",
        "\n",
        "* Kruskal-Szekeres-Koordinaten werden am Ereignishorizont $r=2M$ nicht singulär und werden deswegen gerne für die Beschreibung Schwarzer Löcher eingesetzt (präziser: für die Beschreibung durch mitbewegte, interne Beobachter im Gegensatz zu externen Beobachtern, die zum Beispiel im Außenbereich an einen Stern „fixiert“ sind.)\n",
        "\n",
        "* In general relativity [Kruskal–Szekeres coordinates](https://en.m.wikipedia.org/wiki/Kruskal–Szekeres_coordinates) are a coordinate system for the Schwarzschild geometry for a black hole. **These coordinates have the advantage that they cover the entire spacetime manifold** of the maximally extended Schwarzschild solution and are well-behaved everywhere outside the physical singularity. There is **no misleading coordinate singularity at the horizon**.\n",
        "\n",
        "![geometry](https://raw.githubusercontent.com/deltorobarba/repo/master/sciences_1216.png)\n",
        "\n",
        "*The [Kruskal–Szekeres diagram](https://en.m.wikipedia.org/wiki/Kruskal–Szekeres_coordinates), illustrated for 2GM=1. The quadrants are the black hole interior (II), the white hole interior (IV) and the two exterior regions (I and III). The dotted 45° lines, which separate these four regions, are the event horizons. The darker hyperbolas which bound the top and bottom of the diagram are the physical singularities. The paler hyperbolas represent contours of the Schwarzschild r coordinate, and the straight lines through the origin represent contours of the Schwarzschild t coordinate:*\n",
        "\n",
        "![geometry](https://raw.githubusercontent.com/deltorobarba/repo/master/sciences_1224.png)"
      ],
      "metadata": {
        "id": "7erd6uybQIce"
      }
    },
    {
      "cell_type": "markdown",
      "source": [
        "**Maximally-Extended Schwarzschild Metric with [White Holes](https://en.m.wikipedia.org/wiki/White_hole) and [Einstein-Rosen-bridges (Wormholes)](https://en.m.wikipedia.org/wiki/Wormhole)**\n",
        "\n",
        "*Schwarzschild Metric with Eternal Black Holes*\n",
        "\n",
        "* A few months after Einstein presented his Theory of General Relativity, in which he first predicted the black hole, a German scientist named Karl Schwarzschild solved the field equations for their first exact solution; giving us the Schwarzschild Metric.\n",
        "\n",
        "![ggg](https://raw.githubusercontent.com/deltorobarba/repo/master/sciences_0700.jpg)\n",
        "\n",
        "* The Schwarzschild Metric describes the most simplified black hole which can exist; a single unit of compressed mass within a completely empty plane of spacetime, which is therefore unaffected by its surroundings. One which was never born and one that will never die, never growing or shrinking- an Eternal Black Hole.\n",
        "\n",
        "* It was from this earliest of case studies for General Relativity that the white hole was extrapolated, almost half a century later. **In addition to admitting positive square root value solutions, the Schwarzschild Metric also admits negative square root solutions.**\n",
        "\n",
        "![ggg](https://raw.githubusercontent.com/deltorobarba/repo/master/sciences_0701.jpg)\n",
        "\n",
        "* In simple terms, we can extend the Eternal Black Hole model to account for a new dimension where we find the white hole.\n",
        "\n",
        "* To make this easier to understand, we can use a diagram. Here is our universe, with us at the centre- you have the infinite past and future running along the y-axis, and distance running along the x-axis, marked by the cosmic horizon.\n",
        "\n",
        "![ggg](https://raw.githubusercontent.com/deltorobarba/repo/master/sciences_0702.jpg)\n",
        "\n",
        "* Spacetime is represented by curling lines which flow across the diagram, and light travels diagonally.\n",
        "\n",
        "![ggg](https://raw.githubusercontent.com/deltorobarba/repo/master/sciences_0703.jpg)\n",
        "\n",
        "* Now, if we add in the eternal black hole- one of the cosmic horizons becomes the black hole's event horizon- the point of no return and a boundary of the universe. Anything within this event horizon will need to travel for an infinite amount of time to escape, i.e., it will never happen.\n",
        "\n",
        "![ggg](https://raw.githubusercontent.com/deltorobarba/repo/master/sciences_0704.jpg)\n",
        "\n",
        "* If we go beneath this horizon, we extend the diagram into the black hole's interior. This is the area we spoke about where space and time switch roles; the place where time stops and the singularity becomes the infinite future.\n",
        "\n",
        "![ggg](https://raw.githubusercontent.com/deltorobarba/repo/master/sciences_0705.jpg)\n",
        "\n",
        "* The thing is, however, that this black hole is eternal- and so as well as accounting for the infinite future, we must account for the infinite past. And so, we can extend our diagram on the past side. What we get is a time-reversed black hole- as in, a black hole viewed backwards in time, and thus, it ejects its matter and energy.\n",
        "\n",
        "![ggg](https://raw.githubusercontent.com/deltorobarba/repo/master/sciences_0706.jpg)\n",
        "\n",
        "* The singularity is now an event in the infinite past which can never be reached trying to get there would be like trying to travel backwards in time.\n",
        "\n",
        "![ggg](https://raw.githubusercontent.com/deltorobarba/repo/master/sciences_0707.jpg)\n",
        "\n",
        "* And so instead, light and matter can only flow outwards, away from the singularity and into the universe.\n",
        "\n",
        "![ggg](https://raw.githubusercontent.com/deltorobarba/repo/master/sciences_0708.jpg)\n",
        "\n",
        "* And thus, we have our white hole- which works inversely to the black hole, by ejecting matter into space.\n",
        "\n",
        "![ggg](https://raw.githubusercontent.com/deltorobarba/repo/master/sciences_0709.jpg)\n",
        "\n",
        "* And connecting the horizons is our Einstein-Rosen Bridge, which may lead us to another part of space, another point in time, or perhaps to a new dimension entirely..\n",
        "\n",
        "![ggg](https://raw.githubusercontent.com/deltorobarba/repo/master/sciences_0710.jpg)\n",
        "\n",
        "**White Holes as New Universes**\n",
        "\n",
        "* Big bang = White hole? This idea gives us the perspective we need to complete our cosmic diagram. Once we've added in our past and future black hole extensions, the Einstein-Rosen Bridge does not lead us back into another place within our universe, like a wormhole would.\n",
        "\n",
        "* Instead, if we follow the negative square root solution of the Schwarzschild Metric beyond the black hole's interior, past it leads to its own universe- a parallel universe Where time runs backwards, thus giving us: our maximally-extended Schwarzschild Solution, the [Kruskal–Szekeres coordinates](https://en.m.wikipedia.org/wiki/Kruskal–Szekeres_coordinates).\n",
        "\n",
        "\n",
        "![ggg](https://raw.githubusercontent.com/deltorobarba/repo/master/sciences_0711.png)\n",
        "\n",
        "> Video: [Black Hole Cosmology (Schwarzschild cosmology) - other side of a black hole](https://youtu.be/ZVPsNDonA84)"
      ],
      "metadata": {
        "id": "FhYVACl3pHGK"
      }
    },
    {
      "cell_type": "markdown",
      "source": [
        "###### *Killing vector and a Killing horizon*"
      ],
      "metadata": {
        "id": "ypsYD62SW6N9"
      }
    },
    {
      "cell_type": "markdown",
      "source": [
        "https://de.m.wikipedia.org/wiki/Killing-Vektorfeld\n",
        "\n",
        "https://en.m.wikipedia.org/wiki/Killing_horizon\n",
        "\n",
        "https://en.m.wikipedia.org/wiki/Null_hypersurface"
      ],
      "metadata": {
        "id": "0H2cDGKOXUj8"
      }
    },
    {
      "cell_type": "markdown",
      "source": [
        "The concept of a \"killing vector\" and \"killing horizon\" is a theoretical concept in physics that describes the boundary between regions of spacetime where it is possible to escape to a distant observer and regions where it is not. The concept was introduced by the physicist Roger Penrose in the 1960s.\n",
        "\n",
        "A killing vector is a vector field that leaves the spacetime metric (which describes the curvature of spacetime) invariant. In other words, if you move along a killing vector, the spacetime metric around you does not change. This means that killing vectors are geodesics, which are the straightest possible paths in spacetime.\n",
        "\n",
        "A killing horizon is a surface that is orthogonal to all killing vectors. In other words, if you cross a killing horizon, you can no longer move along a killing vector. This means that killing horizons are the boundaries of regions of spacetime where it is not possible to escape to a distant observer.\n",
        "\n",
        "The concept of killing vectors and killing horizons is important in understanding the formation of black holes. Black holes are regions of spacetime where gravity is so strong that not even light can escape. The boundary of a black hole is called the event horizon. According to Penrose's theory, the event horizon of a black hole is a killing horizon.\n",
        "\n",
        "The concept of killing vectors and killing horizons is also important in understanding the Big Bang. The Big Bang was the event that marked the beginning of the universe. According to Penrose's theory, the Big Bang singularity is a killing horizon. This means that it is not possible to escape from the Big Bang singularity, even in principle.\n",
        "\n",
        "The concept of killing vectors and killing horizons is a complex one, and it is still not fully understood. However, it is a powerful tool for understanding some of the most fundamental phenomena in physics, such as black holes and the Big Bang."
      ],
      "metadata": {
        "id": "SrtoCEpMXORB"
      }
    },
    {
      "cell_type": "markdown",
      "source": [
        "A \"Killing vector\" in the context of mathematics and physics, particularly in general relativity and differential geometry, is a concept that describes symmetries in spacetime or other geometric spaces. Here's a more detailed explanation:\n",
        "\n",
        "1. **Killing Vector**: A Killing vector field on a Riemannian manifold (which is a space where you can define distances and angles) is a vector field that represents a symmetry of the manifold. Essentially, if you move along a Killing vector, the geometry of the space does not change. In general relativity, Killing vectors are used to identify symmetries of spacetime. For example, in a spacetime that is symmetric in time, there will be a Killing vector corresponding to this time symmetry. Similarly, in a spherically symmetric space, there are Killing vectors corresponding to rotational symmetries.\n",
        "\n",
        "2. **Killing Horizon**: A Killing horizon is a hypersurface in spacetime on which a Killing vector field becomes null (or lightlike). This is a concept that is particularly important in the study of black holes. In simple terms, a Killing horizon is often associated with the event horizon of a black hole. It is the region where the Killing vector, which represents a certain symmetry (like time translation symmetry), becomes null. This means that at the horizon, the concepts of time and space as understood in normal circumstances become intertwined in a way that is characteristic of the relativistic effects near a black hole.\n",
        "\n",
        "Both concepts are crucial in the study of general relativity and play a significant role in understanding the geometry of spacetime and the behavior of objects like black holes."
      ],
      "metadata": {
        "id": "0QcVrW6XW-sg"
      }
    },
    {
      "cell_type": "markdown",
      "source": [
        "###### *Singularitäten-Theorem*"
      ],
      "metadata": {
        "id": "HX_Y0zpTYD8b"
      }
    },
    {
      "cell_type": "markdown",
      "source": [
        "Video: [How The Penrose Singularity Theorem Predicts The End of Space Time](https://www.youtube.com/watch?v=z4odQd8q3xY)\n",
        "\n",
        "[Singularitäten-Theorem](https://de.m.wikipedia.org/wiki/Singularitäten-Theorem): Penrose–Hawking singularity theorems: a set of results in general relativity that attempt to answer the question of when gravitation produces singularities\n",
        "\n",
        "A singularity in solutions of the Einstein field equations is one of two things:\n",
        "1. a situation where matter is forced to be compressed to a point (a space-like singularity)\n",
        "2. a situation where certain light rays come from a region with infinite curvature (a time-like singularity)\n",
        "\n",
        "Space-like singularities are a feature of non-rotating uncharged black holes as described by the Schwarzschild metric, while time-like singularities are those that occur in charged or rotating black hole exact solutions. Both of them have the property of geodesic incompleteness, in which either some light-path or some particle-path cannot be extended beyond a certain proper time or affine parameter (affine parameter being the null analog of proper time).\n",
        "\n",
        "> **In a Schwarzschild black hole, time ceases at the point-like central singularity, while in Kerr black holes space ends at the ring singularity.**\n",
        "\n",
        "[Geodesic incompleteness](https://en.m.wikipedia.org/wiki/Geodesic_manifold): In the theory of general relativity, which describes gravity in terms of a pseudo-Riemannian geometry, many important examples of geodesically incomplete spaces arise, e.g. non-rotating uncharged black-holes or cosmologies with a Big Bang. The fact that such incompleteness is fairly generic in general relativity is shown in the Penrose–Hawking singularity theorems.\n",
        "\n"
      ],
      "metadata": {
        "id": "PdxyWChlYIs0"
      }
    },
    {
      "cell_type": "markdown",
      "source": [
        "###### *Spinning Black holes (Kerr Solution & Boyer–Lindquist & Kerr-Schild coordinates)*"
      ],
      "metadata": {
        "id": "T3lxJ4d7BriG"
      }
    },
    {
      "cell_type": "markdown",
      "source": [
        "Blandford-Zjanek process or Black hole bomb with mirrors: [How Black holes spin space time](https://youtu.be/UjgGdGzDFiM?si=i3q0LFySMKns9CV9)"
      ],
      "metadata": {
        "id": "hT_t4X2USOr8"
      }
    },
    {
      "cell_type": "markdown",
      "source": [
        "![sciences](https://raw.githubusercontent.com/deltorobarba/repo/master/sciences_1696.png)"
      ],
      "metadata": {
        "id": "KycDWFFzcOFO"
      }
    },
    {
      "cell_type": "markdown",
      "source": [
        "![sciences](https://raw.githubusercontent.com/deltorobarba/repo/master/sciences_1697.png)"
      ],
      "metadata": {
        "id": "6bICQVNJcQGe"
      }
    },
    {
      "cell_type": "markdown",
      "source": [
        "**Extremal Kerr black holes could amplify new physics**\n",
        "\n",
        "* [Theoretical study shows that Kerr black holes could amplify new physics](https://phys-org.cdn.ampproject.org/c/s/phys.org/news/2023-09-theoretical-kerr-black-holes-amplify.amp)\n",
        "\n",
        "* Researchers have shown that extremal Kerr black holes, a type of rapidly spinning black hole, could be sensitive probes of new physics. These black holes have a unique characteristic: their horizons are affected by infinite tidal forces in the presence of a cosmological constant. This means that if anything were to fall into the black hole, it would be crushed by gravity before it moved even remotely close to the black hole's center.\n",
        "\n",
        "* However, the researchers showed that if the cosmological constant is zero, as it is assumed to be in many astrophysical scenarios, this effect vanishes. They then considered Einstein gravity coupled to its leading quantum corrections, and found that these corrections make the singularity jump all the way from the center of the black hole to the horizon. This suggests that the spacetime geometry near the horizon of these black holes is sensitive to new physics at higher energies.\n",
        "\n",
        "  * Class of black holes known as **extremal Kerr black holes**, which are **uncharged stationary black holes with a coinciding inner and outer horizon**. These black holes' unique characteristics could make them ideal \"amplifiers\" of new, unknown physics.\n",
        "\n",
        "  * in the presence of a cosmological constant extremal black holes are affected by infinite tidal forces. This means that if living beings were to fall into the black hole, they would be crushed by gravity before they moved even remotely close to the black hole's center. Yet the team showed that if the cosmological constant is zero, as it is assumed to be in many astrophysical scenarios, this effect vanishes.\n",
        "\n",
        "  * work on black hole horizon singularities, I asked whether other effects could give rise to such phenomena. My previous work on effective field theories (EFTs), particularly development of physics models with quantum corrections, gave me an idea. Talking with Horowitz, I wondered whether the higher-derivative terms in a gravitational EFT (i.e., quantum corrections to the Einstein equations) could themselves lead to singularities on the horizons of extreme black holes.\"\n",
        "\n",
        "  * the researchers considered Einstein gravity coupled to its leading quantum corrections: \"The Einstein equations are linear in the Riemann tensor, a mathematical object describing the curvature of spacetime,\" Remmen explained. \"In three space dimensions, the leading corrections to Einstein are terms that are cubic (third power) and quartic (fourth power) in the curvature. Because curvature is a measure of derivatives of the spacetime geometry, such terms are called 'higher-derivative terms.' We calculated the effect of these higher-derivative terms on rapidly spinning black holes.\"\n",
        "\n",
        "  * \"Surprisingly, EFT corrections make the singularity jump all the way from the center of the black hole out to the horizon, where you wouldn't expect it to be,\" Remmen said. \"The value of the coefficient in front of a given EFT term—the 'dial settings' in the laws of physics—are dictated by the couplings and types of particle that are present at high energies and short distances. In this sense, EFT coefficients are sensitive to new physics.\"\n",
        "\n",
        "  * Kolanowski, Horowitz, Remmen and Santos also found that the strength of the divergence in tides at the horizon of extremal black holes, and the possible occurrence of tidal singularity, heavily depends on the EFT coefficients. The results of their calculations thus suggest that the spacetime geometry near the horizon of these black holes is sensitive to new physics at higher energies.\n",
        "\n",
        "  * \"Interestingly, this unexpected singularity is present for the values of these EFT coefficients generated by the Standard Model of particle physics,\" Remmen said.\n",
        "\n",
        "  * \"Our results are surprising, since they imply that the low-energy description of physics can break down in a situation where you wouldn't expect that to happen. In physics, there's usually a sense of 'decoupling' between different distance scales. For example, you don't need to know the details of water molecules to describe waves using hydrodynamics. Yet for rapidly spinning black holes, that's precisely what happens: the low-energy EFT breaks down at the horizon.\"\n",
        "\n",
        "  * Overall, the calculations carried out by this team of researchers hint at the promise of extremal Kerr black holes for probing new physical phenomena. While the horizon of these black holes can be very large, it was not expected to have an infinitely large curvature (i.e., infinite tidal forces) in the EFT. Their results show that it does.\n",
        "\n",
        "  * \"In future work, we are interested in exploring whether the singularities can be resolved by ultraviolet physics,\" Remmen added. \"A pressing question is whether the sensitivity of the horizon to new physics persists all the way to the Planck scale, or whether the horizon 'smooths out' at the short-distance scale associated with the EFT. We are also looking for other situations in which short distance effects might show up unexpected at large distances.\"\n",
        "\n",
        "* Gary T. Horowitz et al, [Extremal Kerr Black Holes as Amplifiers of New Physics](https://journals.aps.org/prl/abstract/10.1103/PhysRevLett.131.091402), Physical Review Letters (2023). DOI: 10.1103/PhysRevLett.131.091402"
      ],
      "metadata": {
        "id": "_Ij60GralS7U"
      }
    },
    {
      "cell_type": "markdown",
      "source": [
        "https://en.m.wikipedia.org/wiki/Kerr_metric"
      ],
      "metadata": {
        "id": "7z7w6ETYB15u"
      }
    },
    {
      "cell_type": "markdown",
      "source": [
        "Kerr solution\n",
        "\n",
        "Mass and rotstion, but no charge: kerr black hole\n",
        "\n",
        "https://youtu.be/UjgGdGzDFiM"
      ],
      "metadata": {
        "id": "wlPIlr6hJdOa"
      }
    },
    {
      "cell_type": "markdown",
      "source": [
        "Rotating / Spinning Black holes\n",
        "\n",
        "* [Ergosphere](https://de.m.wikipedia.org/wiki/Ergosphäre)\n",
        "* [Ringularity](https://en.m.wikipedia.org/wiki/Ring_singularity)\n",
        "* [Penrose process](https://de.m.wikipedia.org/wiki/Penrose-Prozess)\n",
        "* [Super radiant scattering](https://en.m.wikipedia.org/wiki/Superradiance)\n",
        "* Video: [Black hole bombs (kurzgesagt)](https://youtu.be/ulCdoCfw-bY?si=NJptNw0Pm9wHRKQd)"
      ],
      "metadata": {
        "id": "t7lJPdkcZLmH"
      }
    },
    {
      "cell_type": "markdown",
      "source": [
        "###### *Black Hole Cosmology (Einstein–Cartan Theory)*"
      ],
      "metadata": {
        "id": "jBlZmRcPPd8C"
      }
    },
    {
      "cell_type": "markdown",
      "source": [
        "* Alan Guth: big bang and black hole\n",
        "* Lee Smolin: black hole here is big bang in another universe\n",
        "* Andrei Linde: eternal inflation"
      ],
      "metadata": {
        "id": "QX_vqN5b6gVy"
      }
    },
    {
      "cell_type": "markdown",
      "source": [
        "> Any such model requires that the **Hubble radius of the observable universe be equal to its Schwarzschild radius**, that is, the product of its mass and the Schwarzschild proportionality constant. This is indeed known to be nearly the case; at least one cosmologist, however, considers this close match to be a coincidence."
      ],
      "metadata": {
        "id": "HEU41Z5U77Wz"
      }
    },
    {
      "cell_type": "markdown",
      "source": [
        "![sciences](https://raw.githubusercontent.com/deltorobarba/repo/master/sciences_0711.png)\n",
        "\n",
        "> Video: [Black Hole Cosmology (Schwarzschild cosmology) - other side of a black hole](https://youtu.be/ZVPsNDonA84)"
      ],
      "metadata": {
        "id": "lVco1sIYPojc"
      }
    },
    {
      "cell_type": "markdown",
      "source": [
        "> Cosmological Natural Selection (Lee Smolin)"
      ],
      "metadata": {
        "id": "WcMMue0zbajh"
      }
    },
    {
      "cell_type": "markdown",
      "source": [
        "Cosmological event horizon: no events that happen NOW beyond that horizon can never be seen\n",
        "\n",
        "The obvious difference is that the black hole singularity seems to us to be a point of infinite density in space, while the big bang singularity is a time of infinite density that included all of space.\n",
        "\n",
        "Both the big bang and black hole singularities do occupy all of space - the difference is that the big bang singularity exists in the past for all of space, while the black hole singularity exists in the future for all of the black hole space.\n",
        "\n",
        "Oppenheimer-Snyder solution: until singularity, a black hole is flat, also homogenous andzero pressure (like FLRW metric and what Friedman discivered for our universe)\n",
        "\n",
        "Raj Pathria: turn time around to get white hole and it looks like our universe from inside (black hole cosmology 1972)\n",
        "\n",
        "Lee Smolin - black hole natural selection\n",
        "\n",
        "![sciences](https://raw.githubusercontent.com/deltorobarba/repo/master/sciences_1320.jpg)\n",
        "\n",
        "Video: PBS: https://youtu.be/jeRgFqbBM5E"
      ],
      "metadata": {
        "id": "OO1DZ5_QkuJB"
      }
    },
    {
      "cell_type": "markdown",
      "source": [
        "https://sites.imsa.edu/hadron/2021/11/07/schwarzschild-cosmology-and-black-hole-ception/"
      ],
      "metadata": {
        "id": "y0n8dfhk71bn"
      }
    },
    {
      "cell_type": "markdown",
      "source": [
        "**Einstein–Cartan theory and Black Hole Cosmology**\n",
        "\n",
        "Die [Einstein-Cartan-Theorie](https://de.m.wikipedia.org/wiki/Einstein-Cartan-Theorie) (ECT, auch Einstein-Cartan-Sciama-Kibble-Theorie, ECSK-Theorie) ist eine Verallgemeinerung der Allgemeinen Relativitätstheorie auf die Riemann-Cartan-Geometrie.\n",
        "\n",
        "* In der Cartan-Geometrie taucht die Torsion als zusätzlicher Freiheitsgrad auf, was in der ECT eine zusätzliche Feldgleichung ergibt. Diese zweite Feldgleichung koppelt die Torsion mit dem Spindichtetensor.\n",
        "\n",
        "A [black hole cosmology](https://en.m.wikipedia.org/wiki/Black_hole_cosmology) (also called Schwarzschild cosmology or black hole cosmological model) (also called Schwarzschild cosmology or black hole cosmological model) **is a cosmological model in which the observable universe is the interior of a black hole**. Such models were originally proposed by theoretical physicist Raj Pathria, and concurrently by mathematician I. J. Good.\n",
        "\n",
        "Brian Cox: Do we live inside of a Black Hole? https://youtu.be/4013hHZHf0I\n",
        "\n",
        "* According to general relativity, the gravitational collapse of a sufficiently compact mass forms a singular Schwarzschild black hole. In the Einstein–Cartan–Sciama–Kibble theory of gravity, however, it forms a regular Einstein–Rosen bridge, or wormhole. Schwarzschild wormholes and Schwarzschild black holes are different mathematical solutions of general relativity and the Einstein–Cartan theory. Yet for observers, the exteriors of both solutions with the same mass are indistinguishable.\n",
        "\n",
        "* The Einstein–Cartan theory extends general relativity by removing a constraint of the symmetry of the affine connection and regarding its antisymmetric part, the torsion tensor, as a dynamical variable. Torsion naturally accounts for the quantum-mechanical, intrinsic angular momentum (spin) of matter. The minimal coupling between torsion and Dirac spinors generates a repulsive spin-spin interaction which is significant in fermionic matter at extremely high densities.\n",
        "\n",
        "* Such an interaction prevents the formation of a gravitational singularity. Instead, the collapsing matter reaches an enormous but finite density and rebounds, forming the other side of an Einstein-Rosen bridge, which grows as a new universe. Accordingly, the Big Bang was a nonsingular Big Bounce at which the universe had a finite, minimum scale factor. Or, the Big Bang was a supermassive white hole that was the result of a supermassive black hole at the heart of a galaxy in our parent universe.\n",
        "\n",
        "*[Black Hole Cosmology](https://en.m.wikipedia.org/wiki/Black_hole_cosmology): Drehimpuls (Spin) mit Verkruemmung (Torsion) with Antigravitation*\n",
        "\n",
        "* *Black Hole Cosmology: Spin & Torsion (Nikodem Poplawski)*\n",
        "\n",
        "* [Arte: Leben wir in einem Schwarzen Loch?](https://youtu.be/mgXv3aE5eQc) - **Nikodem Poplawski**\n",
        "\n",
        "> Accordingly, our Universe may be closed and may have born in the interior of a black hole existing in a parent universe. [arxiv:0911.0334](https://arxiv.org/abs/0911.0334)\n",
        "\n",
        "* Drehimpuls (Spin) mit Verkruemmung (Torsion) with Antigravitation. Matter never reaches singularity, because torsion prevents that, matter spins faster and faster. Durch Torsion entsteht Abstossung, was ein neues expandierendes Universum erzeugt. - Big Bounce in Black Hole - Singularity-free universe\n",
        "\n",
        "* http://www.nikodempoplawski.com/ULA2020.pdf\n",
        "\n",
        "* https://www.pbs.org/wgbh/nova/article/big-bounce/\n",
        "\n",
        "* https://www.insidescience.org/news/every-black-hole-contains-new-universe\n"
      ],
      "metadata": {
        "id": "MbD8C5B1zk1A"
      }
    },
    {
      "cell_type": "markdown",
      "source": [
        "###### *Planck Relic*"
      ],
      "metadata": {
        "id": "c1GtjXg4e2yE"
      }
    },
    {
      "cell_type": "markdown",
      "source": [
        "Planck relics: **tiny black holes at the end of the hawking radiation process in the size of the Planck length**.\n",
        "\n",
        "Smallest black hols would need 10^66 years, but primordial black holes could be candidate now. Important for dark matter explanation. Planck relics would also solve black hole information paradox.\n",
        "\n",
        "Black hole information paradox: if black holes radiate a perfect thermal spectrum then,  by definition, that radiation has maximum entropy and contains no information about whatever fell into the black hole. The black holes evaporates and all information that went into is deleted. This breaks rule of conservation of quantum information.\n",
        "\n",
        "What if all the information they eat is trapped forever in the tiny Planck relic? However that would break another rule: the Bekenstein bound (max of information that a region of space can contain).\n",
        "\n",
        "A way around this has been proposed - what if space inside black holes actually expands to a region larger than the event horizon? What if at the singularity of a black hole a new inflation is triggered. Then there is enough space.\n",
        "\n",
        "To explain dark matter there is one Planck Eric every 30 km^3 in space. (This is how empty space is)\n",
        "\n",
        "Video: [What If (Tiny) Black Holes Are Everywhere?](https://www.youtube.com/watch?v=srVKjWn26AQ&list=WL&index=4)"
      ],
      "metadata": {
        "id": "zePptyFTe7Yt"
      }
    },
    {
      "cell_type": "markdown",
      "source": [
        "###### *Eddington-Leuchtkraft (Eddington luminosity)*"
      ],
      "metadata": {
        "id": "Oz7oDSQ5Bm6H"
      }
    },
    {
      "cell_type": "markdown",
      "source": [
        "[Eddington-Leuchtkraft](https://de.m.wikipedia.org/wiki/Eddington-Grenze)"
      ],
      "metadata": {
        "id": "_F-zucqUBto0"
      }
    },
    {
      "cell_type": "markdown",
      "source": [
        "###### *Gibbons-Hawking-Effekt*"
      ],
      "metadata": {
        "id": "La_aZKRrBaXe"
      }
    },
    {
      "cell_type": "markdown",
      "source": [
        "**Gibbons-Hawking-Effekt**\n",
        "\n",
        "* Der [Gibbons-Hawking-Effekt](https://de.m.wikipedia.org/wiki/Gibbons-Hawking-Effekt) besagt, dass jeder Lösung der Einsteinschen Feldgleichungen, die über einen kausalen Horizont verfügt, eine Temperatur zugeordnet werden kann;\n",
        "\n",
        "* der kausale Horizont erweitert den Begriff des Ereignishorizonts von Schwarzen Löchern auf kosmologische Dimensionen, er ist diejenige Fläche in der Raum-Zeit, jenseits der Ereignisse den Beobachter nicht mehr beeinflussen können."
      ],
      "metadata": {
        "id": "bv5MxZ86y_8K"
      }
    },
    {
      "cell_type": "markdown",
      "source": [
        "###### *Quantum Extremal Surfaces*"
      ],
      "metadata": {
        "id": "-wgjwv48EPNF"
      }
    },
    {
      "cell_type": "markdown",
      "source": [
        "QUANTUM EXTREMAL SURFACES IN ISOLATED BLACK HOLES\n",
        "* Netta Engelhardt\n",
        "* https://www.youtube.com/watch?v=LWfbZp5vJts&list=WL&index=3&t=761s\n",
        "* https://www.quantamagazine.org/the-most-famous-paradox-in-physics-nears-its-end-20201029/"
      ],
      "metadata": {
        "id": "fufuZarjCgyb"
      }
    },
    {
      "cell_type": "markdown",
      "source": [
        "###### *Naked singularity*"
      ],
      "metadata": {
        "id": "pgvi8Yztfy7j"
      }
    },
    {
      "cell_type": "markdown",
      "source": [
        "Naked singularity: https://de.m.wikipedia.org/wiki/Nackte_Singularität\n",
        "\n",
        "Cosmic censorship hpyothesis: https://en.m.wikipedia.org/wiki/Cosmic_censorship_hypothesis"
      ],
      "metadata": {
        "id": "b3oIovTcf1bg"
      }
    },
    {
      "cell_type": "markdown",
      "source": [
        "###### *Holography of the Photon Ring (Sphere)*"
      ],
      "metadata": {
        "id": "XyPztHZDog1j"
      }
    },
    {
      "cell_type": "markdown",
      "source": [
        "* Article: [A Black Hole’s Orbiting Ring of Light Could Encrypt Its Inner Secrets](https://www.quantamagazine.org/black-holes-ring-of-light-could-encrypt-its-inner-secrets-20220908/)\n",
        "\n",
        "* A [photon sphere or photon circle](https://en.m.wikipedia.org/wiki/Photon_sphere) is an area or region of space where gravity is so strong that photons are forced to travel in orbits, which is also sometimes called the last photon orbit\n",
        "\n",
        "![sciences](https://raw.githubusercontent.com/deltorobarba/repo/master/sciences_1680.png)\n",
        "\n",
        "\n",
        "* In [a paper posted online](https://arxiv.org/abs/2205.05064) in May and recently accepted for publication in Classical Quantum Gravity, Strominger and his collaborators revealed that the photon ring around a spinning black hole has an unexpected kind of symmetry — a way that it can be transformed and still stay the same. **The symmetry suggests that the ring may encode information about the hole’s quantum structure.**\n",
        "\n",
        "* “This symmetry smells like something to do with the central problem of understanding the quantum dynamics of black holes,” he said. The discovery has led researchers to debate whether the photon ring might even be part of a black hole’s “holographic dual” — a quantum system that’s exactly equivalent to the black hole itself, and which the black hole can be thought of as emerging out of like a hologram.\n",
        "\n",
        "* Much more theoretical study is needed before researchers can say for sure whether, or in what way, the photon ring encodes a black hole’s inner contents. But: “It’s a target for a holographic description,” (Juan Maldacena)\n",
        "\n",
        "* Light from the inner subrings has made more orbits and was therefore captured before the light from outer subrings, resulting in a series of time-delayed snapshots of the surrounding universe. **“Together, the set of subrings are akin (ähnlich) to the frames of a movie, capturing the history of the visible universe as seen from the black hole,”**. - ‘Hey, there’s an infinite number of copies of the universe right there at that screen? Couldn’t that be where the holographic dual lives?’”\n",
        "\n",
        "* The researchers realized that **the ring’s concentric structure is suggestive of a group of symmetries called conformal symmetry. A system that has conformal symmetry exhibits “scale invariance,” meaning it looks the same when you zoom in or out**. In this case, each photon subring is an exact, demagnified copy of the previous subring. Moreover, a conformally symmetric system stays the same when translated forward or backward in time and when all spatial coordinates are inverted, shifted and then inverted again.\n",
        "\n",
        "\n",
        "\n",
        "\n"
      ],
      "metadata": {
        "id": "DJOF5vuwondV"
      }
    },
    {
      "cell_type": "markdown",
      "source": [
        "###### *Closed Timeline Curves (CTC), Ergosphere, Retrocausality and Superdeterminism*"
      ],
      "metadata": {
        "id": "Dgy31jigwHId"
      }
    },
    {
      "cell_type": "markdown",
      "source": [
        "*Computational Complexity and High Energy Physics*\n",
        "\n",
        "* Complexity of AdS,CTF, Firewalls and CTCs\n",
        "* Suppose CTCs exist, how would they change the theory of computation? - **Problem: where is the fix point?**\n",
        "\n",
        "Video: [Chaos, Black Holes, and Quantum Mechanics - Stephen Shenker, Stanford University](https://www.youtube.com/watch?v=vC0x-QXM8Qg&list=WL&index=5&t=1333s)\n",
        "\n",
        "Video: [Scott Aaronson: Computability Theory of Closed Timelike Curves](https://www.youtube.com/watch?v=fUGjv44_X4Q&list=PLUz_4vZOI0H1XnMEj9uk4Ezp9AUJBVAPE&index=4)\n",
        "\n",
        "* Kurt Gödel ist bekannt für seinen bedeutenden Beitrag zur theoretischen Physik in Form der sogenannten „Gödel-Metrik“, welche die Möglichkeit von geschlossenen zeitartigen Kurven (englisch: Closed Timelike Curves, CTCs) in der Allgemeinen Relativitätstheorie aufzeigt. Diese Arbeit leistete er im Rahmen der Feierlichkeiten zu Einsteins 70. Geburtstag im Jahr 1949.\n",
        "\n",
        "* Die Gödel-Metrik beschreibt eine Lösung der Feldgleichungen der Allgemeinen Relativitätstheorie, die ein rotierendes Universum darstellt. In einem solchen Universum können geschlossene zeitartige Kurven existieren, was bedeutet, dass ein Pfad durch die Raumzeit theoretisch in seine eigene Vergangenheit zurückkehren könnte. Dies impliziert die Möglichkeit von Zeitreisen innerhalb des theoretischen Rahmens der Allgemeinen Relativitätstheorie.\n",
        "\n",
        "* Abstract: In a seminal 1991 paper, David Deutsch proposed a formal model of closed timelike curves (CTCs), or time travel into the past, which used linear algebra to \"resolve the grandfather paradox.\"  In 2008, John Watrous and I showed that, under Deutsch's model, both a classical computer and a quantum computer with access to a polynomial-size CTC could solve exactly the problems in PSPACE.  In this talk, I'll review this result and then give a new extension to the setting of computability theory.  Namely, I'll show that a classical or quantum computer with access to a Deutschian CTC (with no bound on its size) could solve exactly the problems that are Turing-reducible to the halting problem.  Just like in the complexity setting, the most technically interesting part is the upper bound on the power of quantum computers with access to a Deutschian CTC."
      ],
      "metadata": {
        "id": "uQ351IUjHBir"
      }
    },
    {
      "cell_type": "markdown",
      "source": [
        "https://www.scinexx.de/news/physik/ein-quantentornado-als-raumzeit-simulator/"
      ],
      "metadata": {
        "id": "Id2e6ssMRN4G"
      }
    },
    {
      "cell_type": "markdown",
      "source": [
        "How time and space switch in the ergosphere [How Black holes spin space time](https://youtu.be/UjgGdGzDFiM?si=i3q0LFySMKns9CV9)"
      ],
      "metadata": {
        "id": "q-23-lCWRXKo"
      }
    },
    {
      "cell_type": "markdown",
      "source": [
        "https://de.m.wikipedia.org/wiki/Ergosphäre\n",
        "\n",
        "https://www.astro.umd.edu/~richard/ASTRO350/Astro350_2020_class09.pdf\n",
        "\n",
        "https://www.sciencedirect.com/science/article/pii/S0550321320301747"
      ],
      "metadata": {
        "id": "skb7hbj3a-L2"
      }
    },
    {
      "cell_type": "markdown",
      "source": [
        "Physiker simulieren Zeitreisen mit Quantenpartikeln\n",
        "\n",
        "* https://t3n.de/news/physiker-simulieren-zeitreisen-quantenpartikeln-1585445/\n",
        "\n",
        "* [APS - Nonclassical Advantage in Metrology Established via Quantum Simulations of Hypothetical Closed Timelike Curves](https://journals.aps.org/prl/abstract/10.1103/PhysRevLett.131.150202)"
      ],
      "metadata": {
        "id": "4-NUqdJCZu9P"
      }
    },
    {
      "cell_type": "markdown",
      "source": [
        "https://en.m.wikipedia.org/wiki/Closed_timelike_curve\n",
        "\n",
        "https://en.m.wikipedia.org/wiki/Retrocausality\n",
        "\n",
        "https://en.m.wikipedia.org/wiki/Superdeterminism"
      ],
      "metadata": {
        "id": "kn3NToI5wNFp"
      }
    },
    {
      "cell_type": "markdown",
      "source": [
        "###### *Black Hole Information Paradox*"
      ],
      "metadata": {
        "id": "P4NJL0kOLbfi"
      }
    },
    {
      "cell_type": "markdown",
      "source": [
        "Solution: Quantengravitationskorrekturen\n",
        "\n",
        "https://www.derstandard.de/story/2000145317520/schwarze-loecher-zeigen-ihr-weiches-haar-jetzt-oeffentlich\n",
        "\n",
        "* Noch ist unklar, wie sich die Theorie überprüfen lassen könnte. Angesichts vieler neuer Informationen über Schwarze Löcher, vor allem durch die neuen Gravitationswellenexperimente, scheint eine künftige Überprüfung zumindest nicht ganz aussichtslos.\n",
        "\n",
        "* Calmet selbst regt an, Modelle Schwarzer Löcher im Labor nachzubauen. Der Bereich der \"Quantensimulation\" ist tatsächlich eine der spannendsten Anwendungen moderner Quantentechnologie.\n",
        "\n",
        "* Auch die Simulation von Effekten der Teilchenphysik, wie sie hier nötig wären, [gelang bereits](https://www.derstandard.at/story/2000039596758/innsbrucker-quantencomputer-simuliert-phaenomen-der-teilchenphysik). Es besteht also Hoffnung, dass die Aussage der Forscher, im Gegensatz zu vielen anderen, die den Grenzbereich von Quantenphysik und Relativitätstheorie betreffen, doch experimentell überprüfbar ist. (Reinhard Kleindl, 8.4.2023)\n",
        "\n",
        "> Science: [Quantum gravitational corrections to particle creation by black holes](https://www.sciencedirect.com/science/article/pii/S0370269323001545)"
      ],
      "metadata": {
        "id": "layD8eDpdwkr"
      }
    },
    {
      "cell_type": "markdown",
      "source": [
        "Black hole information paradox: **if black holes radiate a perfect thermal spectrum then, by definition, that radiation has maximum entropy and contains no information about whatever fell into the black hole**. The black holes evaporates and all information that went into is deleted. This breaks rule of conservation of quantum information.\n",
        "\n",
        "What if all the information they eat is trapped forever in the tiny Planck relic? However that would break another rule: the Bekenstein bound (max of information that a region of space can contain)."
      ],
      "metadata": {
        "id": "clcxWo4_eQbt"
      }
    },
    {
      "cell_type": "markdown",
      "source": [
        "![sciences](https://raw.githubusercontent.com/deltorobarba/repo/master/sciences_1481.jpg)"
      ],
      "metadata": {
        "id": "6kL2b_sbTvYM"
      }
    },
    {
      "cell_type": "markdown",
      "source": [
        "* The [black hole information paradox](https://en.m.wikipedia.org/wiki/Black_hole_information_paradox) is a puzzle that appears when the predictions of quantum mechanics and general relativity are combined. The theory of general relativity predicts the existence of black holes that are regions of spacetime from which nothing — not even light — can escape.\n",
        "\n",
        "* In the 1970s, Stephen Hawking applied the rules of quantum mechanics to such systems and found that an isolated black hole would emit a form of radiation called Hawking radiation. Hawking also argued that the detailed form of the radiation would be **independent of the initial state of the black hole and would depend only on its mass, electric charge and angular momentum (=No hair conjecture)**.\n",
        "\n",
        "* The information paradox appears when one considers a process in which a black hole is formed through a physical process and then evaporates away entirely through **= Hawking radiation**.\n",
        "\n",
        "* Hawking's calculation suggests that the final state of radiation would retain information only about the total mass, electric charge and angular momentum of the initial state. Since many different states can have the same mass, charge and angular momentum this suggests that many initial physical states could evolve into the same final state. Therefore, information about the details of the initial state would be permanently lost.\n",
        "\n",
        "* However, this violates a core precept of both classical and quantum physics—that, in principle, the state of a system at one point in time should determine its value at any other time. Specifically, in quantum mechanics the state of the system is encoded by its wave function. The evolution of the wave function is determined by a unitary operator, and unitarity implies that the wave function at any instant of time can be used to determine the wave function either in the past or the future.\n",
        "\n",
        "* It is now generally believed that information is preserved in black-hole evaporation."
      ],
      "metadata": {
        "id": "SjA9CngZDwbN"
      }
    },
    {
      "cell_type": "markdown",
      "source": [
        "**Black hole information paradox**\n",
        "\n",
        "[What Survives Inside A Black Hole?](https://www.youtube.com/watch?v=GscfuQWZFAo)\n",
        "\n",
        "Conservation of quantum information, Gateway to blackhole thermodynamics and holographic principle\n",
        "\n",
        "- Mass, electric charge and angular momentum: only three properties to describe a black hole: no hair conjecture (Jakob bekenstein)\n",
        "- the inside of the black hole is disconnected from the outside, cannot influence. We know only the three above information\n",
        "- These properties are remembered in the curvature of spacetime, in the gravitational field, according to Gauss’s law for gravity (like in electric fields), that’s why we at least have these information about the black hole\n",
        "- Gauss’s law for gravity: THE GrAVITATIONAL FLUX ThROUGh ANY CLOSED SURFACE IS PROPORTIONAL т O tHE ENciOSED MASS. the distribution of the matter is irrelevant (as a point, or along a region)\n",
        "- Since graviational force and electric force are infinite, the mass and charge of any region in space are remembered in the field (see inverse inverse square law)\n",
        "- Same for angular momentum: you get a magnetic field when an electric field changes. Frame dragging changes the shape of the event horizon and the orbit of anything nearby. If material with angular momentum (spinning star, rotating gas) falls in a black hole it will add or subtract from the flow of space above the event horizon. Its angular momentum is remembered in the frame dragging!! (Gravity probe B)\n",
        "- But something seems too get lost: number of particles of different types, like balance between quarks and antiquarks, represented by Baryon number (which is a conserved quantity)"
      ],
      "metadata": {
        "id": "uIBWis-eN7yC"
      }
    },
    {
      "cell_type": "markdown",
      "source": [
        "###### *Holographic Principle, Ads/CFT and Kerr/CFT correspondence*"
      ],
      "metadata": {
        "id": "DOOx_crf83HT"
      }
    },
    {
      "cell_type": "markdown",
      "source": [
        "SYK model: https://en.m.wikipedia.org/wiki/Sachdev–Ye–Kitaev_model"
      ],
      "metadata": {
        "id": "r1ZxrtXNQBHs"
      }
    },
    {
      "cell_type": "markdown",
      "source": [
        "**Background: Holographic Principle, Ads/CFT and Kerr/CFT correspondence**\n",
        "\n",
        "1. **Holographic Principle**: This is a fundamental idea that suggests that all of the information contained within a given volume of space can be represented by information on the boundary of that space. Think of it as a kind of \"hologram\" where a 2D surface can contain all the information about a 3D volume. This principle was inspired by the behavior of black holes, where the entropy (a measure of information) of a black hole is proportional to its surface area and not its volume.\n",
        "\n",
        "2. **AdS/CFT correspondence**: This is a specific realization of the holographic principle. It's a conjectured relationship between two types of physical theories:\n",
        "    - AdS: Anti-de Sitter space, which is a type of space in gravity theories.\n",
        "    - CFT: Conformal Field Theories, which are quantum field theories defined on the boundary of the AdS space.\n",
        "\n",
        "  * The AdS/CFT correspondence posits that a quantum field theory on the boundary (CFT) is equivalent to a gravity theory in the bulk (AdS). This provides a powerful duality that allows for the study of difficult problems in one theory using the tools of the other. In essence, while the holographic principle is a general idea about the nature of information and space, AdS/CFT is a specific, concrete example that ties together quantum mechanics and gravity.\n",
        "\n",
        "3. **Kerr/CFT Correspondence**\n",
        "  * [Kerr/CFT Correspondence (wiki)](https://en.m.wikipedia.org/wiki/Kerr/CFT_correspondence)\n",
        "  * [The Kerr/CFT Correspondence](https://arxiv.org/abs/0809.4266)"
      ],
      "metadata": {
        "id": "HRuHg-4_81ei"
      }
    },
    {
      "cell_type": "markdown",
      "source": [
        "Überraschende Entdeckung: Gleichartiges Leuchten von schwarzen Löchern stellt Theorien infrage\n",
        "\n",
        "https://t3n.de/news/ueberraschende-entdeckung-schwarze-loecher-geichartiges-leuchten-bisherige-theorie-1594532/\n",
        "\n",
        "https://arxiv.org/abs/2307.13872"
      ],
      "metadata": {
        "id": "2HXUAGyzPAq5"
      }
    },
    {
      "cell_type": "markdown",
      "source": [
        "###### *Landauer-Prinzip vs Nernst-Theorem*"
      ],
      "metadata": {
        "id": "I2xPw5u9vGWI"
      }
    },
    {
      "cell_type": "markdown",
      "source": [
        "Wie man Daten am Quantencomputer zuverlässig löscht\n",
        "\n",
        "Die Frage beim Löschen eines Qubits sei nun, zu welchen Kosten das erfolgt: \"Sind diese endlich, wie es das [Landauer-Prinzip](https://de.m.wikipedia.org/wiki/Landauer-Prinzip) sagt, oder dem [Nernst-Theorem](https://de.m.wikipedia.org/wiki/Dritter_Hauptsatz_der_Thermodynamik) folgend unendlich?\", so Huber. Wie der Quantenphysiker mit seinem Team nun herausfand, ist im Prinzip der unendliche Energieeinsatz nur notwendig, wenn man in endlicher Zeit kühlen bzw. löschen will. Würde man unendlich lang Zeit haben, könnte man auf diesen erforderlichen unendlichen Energieeinsatz verzichten.\n",
        "\n",
        "https://futurezone.at/amp/science/daten-quantencomputer-loeschen-qubit-wien-tu-technische-universitaet-nullpunkt/402414446\n",
        "\n",
        "https://journals.aps.org/prxquantum/abstract/10.1103/PRXQuantum.4.010332"
      ],
      "metadata": {
        "id": "Kp2FOzw0vOQb"
      }
    },
    {
      "cell_type": "markdown",
      "source": [
        "###### *Unruh-Effect (Unruh Radiation and Rindler horizon)*"
      ],
      "metadata": {
        "id": "y4YO0LQ4A4IX"
      }
    },
    {
      "cell_type": "markdown",
      "source": [
        "**Unruh-Effect (Unruh Radiation)**\n",
        "\n",
        "* Je schneller man sich bewegt, desto mehr Teilchen mit erhöhter Temperatur entstehen vor einem bewegenden Beobachter (befindet sich im Wärmebad). Diese Teilchen kann ein ruhender Beobachter nicht sehen.\n",
        "\n",
        "* **Ist ein relativistisches Phänomen: nicht nur Zeit und Distanz hängen vom Beobachter ab, sondern auch die Existenz von Teilchen**\n",
        "\n",
        "* ist rein theoretisch, hat noch nieman beobachtet.\n",
        "\n",
        "* Schwarze Löcher strahlen Teilchen aus. Unruh-Effekt interessant fur komplizierte Phänomene wie Hawking-Strahlung oder expandierendes Universum\n",
        "\n",
        "* **sowohl bei Hawking-Strahlung als auch bei Unruh-Effekt scheinen Teilchen aus dem Nichts zu entstehen, wodurch das Vakuum eine endliche Temperatur erhält**."
      ],
      "metadata": {
        "id": "iC7r8vzaiiO5"
      }
    },
    {
      "cell_type": "markdown",
      "source": [
        "Der [Unruh-Effekt](https://de.m.wikipedia.org/wiki/Unruh-Effekt) ist eine Vorhersage der Quantenfeldtheorie: Ein im Vakuum gleichmäßig beschleunigter Beobachter oder Detektor sieht anstelle des Vakuums ein Gas von Teilchen (Photonen, Elektronen, Positronen, …) mit einer Temperatur T, die proportional zur Beschleunigung ist.\n",
        "\n",
        "* nature of quantum fields seems to change as the observer is accelerating\n",
        "* accelerating cuts of causal access to a region in the universe and **creates a type of event horizon ([Rindler horizon](https://en.m.wikipedia.org/wiki/Rindler_coordinates))**\n",
        "* the presence of horizons distorts the quantum vacuum in a way that can create particles (Hawking radiation) -> Unruh effect\n",
        "* created even horizon behind you can't catch you, but its Unruh radiation can!\n",
        "* accelerating observers find themselves in a warm bath of particles\n",
        "* Unruh-deWitt-detector to detect particles - **the existence of partices is observer-dependent!**\n",
        "* [The Unruh Effect](https://www.youtube.com/watch?v=7cj6oiFDEXc&list=WL&index=11)\n",
        "\n",
        "\n",
        "https://physicsworld.com/a/black-holes-could-reveal-their-quantum-superposition-states-new-calculations-reveal/"
      ],
      "metadata": {
        "id": "k3Jd1qq8fX7M"
      }
    },
    {
      "cell_type": "markdown",
      "source": [
        "###### *No hair conjecture (Jakob Bekenstein)*"
      ],
      "metadata": {
        "id": "aZ3xS4t7CWRV"
      }
    },
    {
      "cell_type": "markdown",
      "source": [
        "* The [no-hair theorem](https://en.m.wikipedia.org/wiki/No-hair_theorem) states that **all stationary black hole solutions** of the Einstein–Maxwell equations of gravitation and electromagnetism in general relativity can be **completely characterized by only three independent externally observable classical parameters: mass, electric charge, and angular momentum**.\n",
        "\n",
        "* Other characteristics (such as geometry and magnetic moment) are uniquely determined by these three parameters, and all other information (for which \"hair\" is a metaphor) about the matter that formed a black hole or is falling into it \"disappears\" behind the black-hole event horizon and **is therefore permanently inaccessible to external observers after the black hole \"settles down\" (by emitting gravitational and electromagnetic waves)**.\n",
        "\n",
        "* Physicist John Archibald Wheeler expressed this idea with the phrase \"black holes have no hair\", which was the origin of the name.\n",
        "\n",
        "\n",
        "Mass, electric charge and angular momentum: only three properties to describe a black hole: no hair conjecture (Jakob bekenstein)\n",
        "the inside of the black hole is disconnected from the outside, cannot influence. We know only the three above information"
      ],
      "metadata": {
        "id": "hf4RmooSCYnq"
      }
    },
    {
      "cell_type": "markdown",
      "source": [
        "###### *Hawking Radiation*"
      ],
      "metadata": {
        "id": "gj5tJ7BnBLC0"
      }
    },
    {
      "cell_type": "markdown",
      "source": [
        "[*Hawking Radiation (Black Hole Radiation)*](https://de.m.wikipedia.org/wiki/Hawking-Strahlung)\n",
        "\n",
        "* Schwarze Löcher verlieren Energie\n",
        "\n",
        "* Schwarze Löcher geringer Masse sind von geringer Ausdehnung, d. h., sie haben einen kleineren Schwarzschildradius.\n",
        "\n",
        "* Die den Ereignishorizont umgebende Raumzeit ist entsprechend stärker gekrümmt. Je größer und damit massereicher ein Schwarzes Loch ist, desto weniger strahlt es also.\n",
        "\n",
        "* Je kleiner ein Schwarzes Loch ist, umso höher ist seine Temperatur und aufgrund stärkerer Hawking-Strahlung verdampft es umso schneller.\n",
        "\n",
        "* [Nature: Quantum simulation of black-hole radiation](https://www.nature.com/articles/d41586-019-01592-x)"
      ],
      "metadata": {
        "id": "sNuPQnPNB0jr"
      }
    },
    {
      "cell_type": "markdown",
      "source": [
        "**Hawking Radiation & Destruction of Information (No hair theorem)**\n",
        "\n",
        "https://en.m.wikipedia.org/wiki/No-hair_theorem\n",
        "\n",
        "Destruction of Information by Hawking radiation\n",
        "\n",
        "https://www.youtube.com/watch?v=9XkHBmE-N34\n",
        "\n",
        "[Warum Quanteninformationen niemals zerstört wird](https://www.youtube.com/watch?v=HF-9Dy6iB_4)\n",
        "\n",
        "**No hair theorem**: black hole shields every information away except mass, electrci charge and angular momentu -> informatoon is still there, just not accessible. but Hawking radiation seems to evaporate all information..\n",
        "\n",
        "\n",
        "Video: [Hawking Radiation](https://www.youtube.com/watch?v=qPKj0YnKANw)\n",
        "\n",
        "[Hawking-Strahlung](https://de.m.wikipedia.org/wiki/Hawking-Strahlung): postulierte Strahlung Schwarzer Löcher\n",
        "\n",
        "![sciences](https://raw.githubusercontent.com/deltorobarba/repo/master/sciences_1264.png)\n",
        "\n",
        "Hawking radiation has wavelengths of the size of the event horizon (the size of the entire black hole). These are the de Broglie wavelenghts of created particles:\n",
        "\n",
        "![sciences](https://raw.githubusercontent.com/deltorobarba/repo/master/sciences_1265.png)\n",
        "\n",
        "**Important**:\n",
        "\n",
        "* large black holes (event horizon several kilometers long) have very long wavelenght of Hawking radiation, just photons - kilometer-long electromagnetic, low energy radio-waves  - they are cold and leak energy very slowly.\n",
        "\n",
        "* the smaller the black hole gets, the shorter the wavelengths and the higher the energy, and the thermal enegry heats up. Evaporation rate increases. It's a runnaway process\n",
        "\n",
        "* the end of probably a Planck relic (tiny black holes in size of planck length) that either create an own inflation with a new universe, or evaporate\n",
        "\n",
        "* Video: [What If (Tiny) Black Holes Are Everywhere?](https://www.youtube.com/watch?v=srVKjWn26AQ&list=WL&index=4)\n",
        "\n",
        "They tell us that there is an enormous uncertainty in the location of these particles. Hawking radiation must appear to come from the global black hole, not from specific points at the event horizon\n",
        "\n",
        "![sciences](https://raw.githubusercontent.com/deltorobarba/repo/master/sciences_1266.png)\n",
        "\n",
        "This radiation is visible only to distant observers, but not if you fall into the black hole (then you see flat vaccum space). Only if you hover fixed distanced above the horizon, then you see partices. This is due to the [Unruh radiation](https://de.m.wikipedia.org/wiki/Unruh-Effekt).\n",
        "\n"
      ],
      "metadata": {
        "id": "jTf6z42jo76R"
      }
    },
    {
      "cell_type": "markdown",
      "source": [
        "![ggg](https://raw.githubusercontent.com/deltorobarba/repo/master/sciences_1342.jpg)"
      ],
      "metadata": {
        "id": "2dj913yMCipe"
      }
    },
    {
      "cell_type": "markdown",
      "source": [
        "###### *Bekenstein-Bound, Bekenstein-Hawking-Entropie, and Holografische Prinzip*"
      ],
      "metadata": {
        "id": "XW6H46KpBVW-"
      }
    },
    {
      "cell_type": "markdown",
      "source": [
        "**Bekenstein bound**\n",
        "\n",
        "https://en.m.wikipedia.org/wiki/Bekenstein_bound\n",
        "\n",
        "Black hole information paradox: if black holes radiate a perfect thermal spectrum then,  by definition, that radiation has maximum entropy and contains no information about whatever fell into the black hole. The black holes evaporates and all information that went into is deleted. This breaks rule of conservation of quantum information.\n",
        "\n",
        "What if all the information they eat is trapped forever in the tiny Planck relic? However that would break another rule: the Bekenstein bound (max of information that a region of space can contain).\n",
        "\n",
        "\n",
        "*According to the Bekenstein bound, the entropy of a black hole is proportional to the number of Planck areas that it would take to cover the black hole's event horizon.*\n",
        "\n",
        "![ggg](https://upload.wikimedia.org/wikipedia/commons/thumb/4/4d/Bekenstein-Hawking_entropy_of_a_black_hole.jpg/640px-Bekenstein-Hawking_entropy_of_a_black_hole.jpg)\n",
        "\n",
        "A way around this has been proposed - what if space inside black holes actually expands to a region larger than the event horizon? What if at the singularity of a black hole a new inflation is triggered. Then there is enough space."
      ],
      "metadata": {
        "id": "fq2o4mluelgv"
      }
    },
    {
      "cell_type": "markdown",
      "source": [
        "**Bekenstein-Hawking-Entropie & Holografische Prinzip**\n",
        "\n",
        "[*Bekenstein-Hawking-Entropie*](https://de.m.wikipedia.org/wiki/Bekenstein-Hawking-Entropie)\n",
        "\n",
        "* Heuristische Überlegungen führten J. D. Bekenstein bereits 1973 zu der Hypothese, dass die Oberfläche des Ereignishorizontes ein Maß für die Entropie eines Schwarzen Loches sein könnte, siehe Bekenstein-Hawking-Entropie.\n",
        "\n",
        "* Die Bekenstein-Hawking-Entropie war eine Motivation für das [Holografische Prinzip](https://de.m.wikipedia.org/wiki/Holografisches_Prinzip).\n"
      ],
      "metadata": {
        "id": "BAJVWziCxtWY"
      }
    },
    {
      "cell_type": "markdown",
      "source": [
        "**The inverse square law**\n",
        "\n",
        "* Gauss's law is a more general form of this. It applies to any shaped surface surrounding any shaped mass charge.\n",
        "\n",
        "![sciences](https://raw.githubusercontent.com/deltorobarba/repo/master/sciences_1269.png)"
      ],
      "metadata": {
        "id": "A2R7_zGXLYl2"
      }
    },
    {
      "cell_type": "markdown",
      "source": [
        "###### *Killing Horizons Decohere Quantum Superpositions: Do Black Holes and the Cosmic Event Horizon create physical reality?*"
      ],
      "metadata": {
        "id": "nMRTXb5a56Aq"
      }
    },
    {
      "cell_type": "markdown",
      "source": [
        "Rindler horizin, kiling horizon\n",
        "\n",
        "Event horizon produce decoherence of quantum states, producing reality?\n",
        "Video: [Strange New Explanation for Why Quantum World Collapses Into Reality](https://www.youtube.com/watch?v=3_hi48l-cj8&list=WL&index=8)\n",
        "\n",
        "https://arxiv.org/abs/2301.00026 Killing Horizons Decohere Quantum Superpositions\n",
        "\n"
      ],
      "metadata": {
        "id": "Top6h_dkRvNg"
      }
    },
    {
      "cell_type": "markdown",
      "source": [
        "Suggestion that horizons from black holes and the expansion of the universe cause the quantum collapse into reality\n",
        "\n",
        "* Ausgangspunkt: two entangled particles, one falls in back hole - according to general relativity they cannot decohere, because no information gets out, but that‘s not what happens according to quantum theory. maybe the edge of a black hole (event horizon) acts like an observer and decoheres the entangled state\n",
        "* Bringing this idea to the next level: The edge of the universe acts like an observer of everything that happens inside of it\n",
        "* Observation means here decoherence and brings things from quantum state into real physical state\n",
        "* Edge of universe is an event horizon (just opposite side to black holes): Rindler horizon (particularly the Killing horizon in this case)\n",
        "\n",
        "Video: https://youtu.be/3_hi48l-cj8\n",
        "\n",
        "Paper: Killing Horizons Decohere Quantum Superpositions  https://arxiv.org/abs/2301.00026"
      ],
      "metadata": {
        "id": "u8oJFM3N53sW"
      }
    },
    {
      "cell_type": "markdown",
      "source": [
        "###### *Supermassive Black Holes*"
      ],
      "metadata": {
        "id": "KR_qJb-WbsTp"
      }
    },
    {
      "cell_type": "markdown",
      "source": [
        "**Abell 2744**\n",
        "\n",
        "https://de.m.wikipedia.org/wiki/Abell_2744\n",
        "\n",
        "https://t3n.de/news/gigantisches-schwarzes-loch-verstaendnis-kosmos-1610772/\n",
        "\n",
        "A high black hole to host mass ratio in a lensed AGN in the early Universe, Nature: https://www.nature.com/articles/s41586-024-07184-8"
      ],
      "metadata": {
        "id": "NyCWq-wUbuqg"
      }
    },
    {
      "cell_type": "markdown",
      "source": [
        "##### <font color=\"blue\">*Quantifying Complexity*"
      ],
      "metadata": {
        "id": "Cmqnes9brFPk"
      }
    },
    {
      "cell_type": "markdown",
      "source": [
        "###### <font color=\"orange\">*Inequality (bound, complexity)</font> (Cramér–Rao, Trace , Cauchy-Schwarz, Rademacher, Hoeffding's)*"
      ],
      "metadata": {
        "id": "ThL-AmiaxI8J"
      }
    },
    {
      "cell_type": "markdown",
      "source": [
        "**[Inequality (complexities)](https://en.m.wikipedia.org/wiki/Inequality_(mathematics)): bound probability of random variable deviating from its expected value. Analyze reliability and stability of algorithm. Computational complexity: analysis of randomized algorithms to bound error probabilities.** See [Inequalities in information theory](https://en.m.wikipedia.org/wiki/Inequalities_in_information_theory), [Information geometry](https://en.m.wikipedia.org/wiki/Information_geometry), [Information projection](https://en.m.wikipedia.org/wiki/Information_projection), and [Confidence Interval](https://en.m.wikipedia.org/wiki/Confidence_interval).\n",
        "\n",
        "Evaluate performance of estimators: bounds on Prediction Errors, Sample Complexity, Model complexity, and Deviation of Estimators. By bounding error: ensure that model is not too far from optimal solution (Regularize models by bounding complexity of model: L1 norm to bound number of parameters, L2 norm to bound sum of squared parameters).\n",
        "\n",
        "* [Norm inequalities](https://en.m.wikipedia.org/wiki/Norm_(mathematics)) relate the sizes (norms) of different mathematical objects, such as vectors, matrices, or functions. They play a crucial role in many areas of mathematics and its applications, including analysis, functional analysis, probability, numerical analysis, and optimization.\n",
        "\n",
        "  * [Triangle inequality](https://en.m.wikipedia.org/wiki/Triangle_inequality): $\\|x + y\\| \\leq \\|x\\| + \\|y\\|$ for all vectors $x$ and $y$. This states that the norm of the sum of two vectors is less than or equal to the sum of their individual norms. It holds for any norm. K-means clustering: cost function is sum of squared distances between data points and cluster centroids. Squared distances can be bounded by triangle inequality.\n",
        "\n",
        "  * [Cauchy–Schwarz inequality](https://en.m.wikipedia.org/wiki/Cauchy%E2%80%93Schwarz_inequality): $\\|⟨x, y⟩\\| \\leq \\|x\\| \\|y\\|$ for all vectors $x$ and $y$. This relates the inner product of two vectors to their norms. It holds in inner product spaces. Cauchy-Schwarz inequality used to bound sum of squared residuals (cost function for linear regression) by the sum of the squared predicted values and the sum of the squared actual values. Used in *A Survey of Quantum Learning Theory* page 11 to compute upper bounds of learning algorithm.\n",
        "\n",
        "  * [Bohnenblust-Hille inequality](https://en.m.wikipedia.org/wiki/Littlewood%27s_4/3_inequality): relate the norms of multilinear forms (functions of multiple variables that are linear in each variable separately) to the norms of their coefficients. The Bohnenblust-Hille inequality says that the $\\ell^{\\frac{2 m}{m+1}}$-norm of the coefficients of an $m$-homogeneous polynomial $P$ on $\\mathbb{C}^n$ is bounded by $\\|P\\|_{\\infty}$ times a constant independent of $n$, where $\\|\\cdot\\|_{\\infty}$ denotes the supremum norm on the polydisc $\\mathbb{D}^n$. [Source](https://annals.math.princeton.edu/wp-content/uploads/annals-v174-n1-p13-s.pdf)\n",
        "\n",
        "  * [Hölder's inequality](https://en.m.wikipedia.org/wiki/H%C3%B6lder%27s_inequality): $\\left\\| \\sum_{i=1}^n a_i b_i \\right\\| \\leq \\left\\| \\sum_{i=1}^n |a_i|^p \\right\\|^{1/p} \\left\\| \\sum_{i=1}^n |b_i|^q \\right\\|^{1/q}$, where $p$ and $q$ are conjugate exponents (i.e., $1/p + 1/q = 1$). This is a generalization of the Cauchy–Schwarz inequality. It relates the norms of functions in different function spaces.\n",
        "\n",
        "  * [Submultiplicativity of the Frobenius norm](https://de.wikipedia.org/wiki/Frobeniusnorm#Submultiplikativit%C3%A4t): $\\|AB\\|_F \\leq \\|A\\|_F \\|B\\|_F$ for all matrices $A$ and $B$. This states that the Frobenius norm (a matrix norm) of the product of two matrices is less than or equal to the product of their Frobenius norms.\n",
        "\n",
        "  * [Minkowski inequality](https://en.m.wikipedia.org/wiki/Minkowski_inequality): A generalization of the triangle inequality for the p-norm of vectors. Minkowski inequality, which is the triangle inequality in the space $L^p(μ)$\n",
        "\n",
        "  * [Jensen's inequality](https://en.m.wikipedia.org/wiki/Jensen%27s_inequality): Relates the value of a convex function at the average of a set of points to the average of the function's values at those points.\n",
        "\n",
        "  * [Bessel's inequality](https://en.m.wikipedia.org/wiki/Bessel%27s_inequality): relate the norm of a function to the norms of its Fourier coefficients.\n",
        "  \n",
        "  * [Parseval's identity](https://en.m.wikipedia.org/wiki/Parseval%27s_identity): relate the norm of a function to the norms of its Fourier coefficients.\n",
        "\n",
        "  * [Young's inequality for convolutions](https://en.m.wikipedia.org/wiki/Young%27s_convolution_inequality): Relates the norms of the convolution of two functions to their individual norms.\n",
        "\n",
        "* [Cramér–Rao bound](https://en.m.wikipedia.org/wiki/Cram%C3%A9r%E2%80%93Rao_bound): lower bound (min value) on variance of an unbiased estimator (but cannot tell about probability of deviation) - this value is inverse of [Fisher information](https://de.m.wikipedia.org/wiki/Fisher-Information#Verwendung)(how much information data provides about parameters being estimated). Used to design estimators that are as efficient as possible. [*Quantum Cramér-Rao Bound*](https://en.m.wikipedia.org/wiki/Quantum_Cramér–Rao_bound)\n",
        "\n",
        "  * QFIM and Quantum Cramér-Rao Bound used in quantum metrology to **quantify ultimate limit to precision** that can be achieved in estimating parameters (CRB (derived from FIM) tells us smallest possible variance (or covariance in the multivariate case) that we can expect from an unbiased estimator. Fisher Information is a measure of how much information a random variable provides about an unknown parameter).\n",
        "\n",
        "  * Is an inequality: bound probability of random variable deviating from its expected value. Analyze reliability and stability of algorithm. Computational complexity: analysis of randomized algorithms to bound error probabilities.\n",
        "\n",
        "  * The Cramér-Rao bound (CRB) belongs to **model complexity** = Bounds on Precision of Estimator. It gives a measure of the best possible precision that can be achieved when estimating that parameter from a given set of data. The **quantum Cramér-Rao bound provides a limit on the precision with which these properties can be estimated, given the inherent uncertainties of quantum mechanics**.\n",
        "\n",
        "  * It provides a lower bound on the covariance matrix of any unbiased quantum estimator (The covariance matrix determines the uncertainty or precision of the estimated parameter). It characterizes the best possible precision that can be achieved in estimating a parameter of interest from quantum measurements.\n",
        "\n",
        "  * The quantum Cramér-Rao bound serves as a powerful tool for understanding the fundamental limits of precision in quantum state estimation (without consoidering noise, imperfections etc).\n",
        "\n",
        "  * The quantum Cramér-Rao bound is given by the inverse of the **Fisher information matrix**, which in the quantum case is calculated using the quantum state and the POVM (Positive Operator-Valued Measure) elements describing the measurements. It can provide insights into the optimal measurement strategies for estimating the parameters of a quantum state, and can help guide the design of quantum sensors and other quantum technologies.\n",
        "\n",
        "  * The basic formula for calculating the quantum Cramér-Rao bound (QCRB) for parameter estimation:\n",
        "\n",
        "  * $QCRB = Tr(F^{-1} M)$\n",
        "\n",
        "  * where:\n",
        "\n",
        "    - QCRB is the quantum Cramér-Rao bound, which provides a lower bound on the covariance matrix of any unbiased estimator.\n",
        "    - $F$ is the Fisher information matrix, which quantifies the amount of information provided by the measurements about the parameter of interest.\n",
        "    - $M$ is the symmetric, positive semidefinite matrix representing the measurement operators' influence on the parameter estimation.\n",
        "\n",
        "  * To calculate the QCRB, you'll need to obtain the Fisher information matrix (F) and the measurement matrix (M) for the chosen estimation strategy. The Fisher information matrix can be computed based on the measurement operators and the quantum state being measured.\n",
        "\n",
        "  * Cramér-Rao is a lower bound on the variance of any unbiased estimator of a parameter, given a fixed model. The CRB depends on the Fisher information, which is a measure of how much information the data provides about the parameter. A higher Fisher information means that the data is more informative about the parameter, and therefore the CRB is lower.\n",
        "\n",
        "  * In general, the CRB is a more fundamental concept than the sample complexity. It is used to understand the fundamental limits of parameter estimation, regardless of the amount of data available. The sample complexity, on the other hand, is more practical, as it tells us how much data we need to achieve a certain level of accuracy.\n",
        "\n",
        "  * In machine learning, the Cramér-Rao Bound (CRB) is often used as a tool for **understanding the fundamental limits of learning algorithms, particularly in the field of parameter estimation and model selection**. Here are some specific applications:\n",
        "\n",
        "    1. Variance Estimation: Similar to financial economics, the CRB provides a theoretical lower limit for the variance of an unbiased estimator. This can help understand how well a learning algorithm might perform in terms of parameter estimation, given a certain amount of data.\n",
        "\n",
        "    2. Model Complexity: The CRB can provide insights into how model complexity affects estimation accuracy. A model with too many parameters may have a higher CRB (i.e., higher variance for the best possible estimator), indicating that it could be more prone to overfitting.\n",
        "\n",
        "    3. Algorithm Evaluation: Researchers might use the CRB to evaluate and compare the performance of different learning algorithms. If an algorithm's performance is close to the CRB, it might be deemed near-optimal.\n",
        "\n",
        "    4. Designing Neural Networks: In the design of neural networks, the CRB can be used to understand the limit of what the network can learn from the data, which can help in making decisions about network architecture and training strategies.\n",
        "\n",
        "* [Trace_inequality](https://en.m.wikipedia.org/wiki/Trace_inequality) bounds the trace of a matrix by the sum of the traces of its eigenvalues. Trace inequality, also known as the triangle inequality for the trace distance, states that for any three quantum states ρ, σ, and τ, the following inequality holds:\n",
        "  * $δ(ρ, σ) + δ(σ, τ) ≥ δ(ρ, τ)$\n",
        "  * where δ(ρ, σ) is the trace distance between ρ and σ.\n",
        "  * Bounding the error of quantum learning algorithms: The trace inequality can be used to derive upper bounds on the error of quantum learning algorithms. This is useful for understanding the performance of quantum learning algorithms and for comparing them to classical learning algorithms.\n",
        "  *  The trace inequality can be used to derive bounds on the error of a wide variety of quantum learning algorithms, including algorithms for learning linear classifiers, support vector machines, and neural networks.\n",
        "  * It is important to note that the bounds derived using the trace inequality are often loose. This is because the trace inequality is a very general tool, and it does not take into account the specific structure of the quantum learning algorithm or the training data. However, the trace inequality can still be used to get a rough estimate of the error of a quantum learning algorithm.\n",
        "\n",
        "\n",
        "* [Littlewood's 4/3 inequality](https://en.m.wikipedia.org/wiki/Littlewood%27s_4/3_inequality)\n",
        "\n",
        "  * is a norm inequality for multilinear forms and polynomials. It is used to study the behavior of random variables and multilinear forms. Can be used to derive concentration inequalities in some cases. For example, it can be used to prove that the coefficients of a random homogeneous polynomial are concentrated around their expected values. This can then be used to prove concentration inequalities for other random variables, such as the output of a neural network. Used in \"Learning to predict arbitrary quantum processes\".\n",
        "\n",
        "\n",
        "* [Golden–Thompson inequality](https://en.m.wikipedia.org/wiki/Golden%E2%80%93Thompson_inequality) bounds difference between logarithm of trace of a matrix and sum of logarithms of its eigenvalues. Used in 'A survey on the complexity of learning quantum states' page 17 - difference between real state and shadow tomography state)\n",
        "\n",
        "* [Chebyshev's inequality](https://en.m.wikipedia.org/wiki/Chebyshev%27s_inequality) bounds probability that a random variable deviates from its expected value by more than a certain amount (k standard deviations at most 1/k^2).\n",
        "\n",
        "* [Rademacher Complexity](https://en.m.wikipedia.org/wiki/Rademacher_complexity):\n",
        "  * upper bound on sample complexity = on learnability of function classes (deriving generalization bounds). Measures ability of functions in class to fit to random noise. [Rademacher Complexity PDF](https://www.cs.cmu.edu/~ninamf/ML11/lect1117.pdf).\n",
        "  * When the Rademacher complexity is small, it is possible to learn the hypothesis class H using [empirical risk minimization](https://en.m.wikipedia.org/wiki/Empirical_risk_minimization).\n",
        "  * <font color=\"blue\">**What means that a generalization bound is uniform?**</font>. A generalization bound is said to be uniform **if a bound holds for all hypotheses in a given hypothesis class, rather than just for a specific hypothesis**. - allows us to make guarantees about performance of our learning algorithm on any new data, regardless of the specific hypothesis that it learns.\n",
        "  * Uniform generalization bounds are typically derived using a technique called **Rademacher complexity**. Rademacher complexity is a measure of the complexity of a hypothesis class, and it can be used to bound the generalization error of any learning algorithm that uses that hypothesis class.\n",
        "  * Uniform generalization bounds are particularly useful for complex hypothesis classes, such as the class of all neural networks. These hypothesis classes have infinite VC-dimension, which makes it difficult to derive generalization bounds using traditional methods.\n",
        "\n",
        "* [Gaussian complexity](https://en.m.wikipedia.org/wiki/Rademacher_complexity#Gaussian_complexity):  similar complexity to Rademacher. Can be obtained from Rademacher using random variables $g_i$ instead of $\\sigma_i$, where $g_i$ are Gaussian i.i.d. random variables with zero-mean and variance 1, i.e. $g_i \\sim \\mathcal{N}(0,1)$. Gaussian and Rademacher are equivalent up to logarithmic factors.\n",
        "\n",
        "* [Fano's inequality](https://en.m.wikipedia.org/wiki/Fano%27s_inequality): is a lower bound on the average probability of error in a multiple hypothesis testing problem. It states that the average probability of error in a multiple hypothesis testing problem is at least as high as the entropy of the hypothesis distribution divided by the natural logarithm of two. It can be used to: Design efficient multiple hypothesis testing algorithms. Lower bound the generalization error of learning algorithms. Develop new algorithms for information compression and transmission. Fano's inequality is a powerful tool for analyzing the performance of multiple hypothesis testing algorithms and other machine learning algorithms.\n",
        "\n",
        "* [Data processing inequality](https://en.m.wikipedia.org/wiki/Data_processing_inequality): is a concept that states that the information content of a signal cannot be increased via a local physical operation. This can be expressed concisely as 'post-processing cannot increase information'. It is an inequality that relates the mutual information between two random variables before and after a data processing channel. It states that the mutual information between two random variables after a data processing channel cannot be greater than the mutual information between the two random variables before the channel. It can be used to: prove that certain learning problems are impossible to solve perfectly.\n",
        "Design efficient algorithms for information compression and transmission. It is a powerful tool for analyzing the flow of information through systems."
      ],
      "metadata": {
        "id": "r6LqFuIXrNmL"
      }
    },
    {
      "cell_type": "markdown",
      "source": [
        "[**Concentration inequalities**](https://en.m.wikipedia.org/wiki/Concentration_inequality) = bounds probability of estimator deviating from its expected value by a certain amount = provide guarantees on accuracy of estimator. Inequalities above just bound magnitude of deviation, bound probability. Will a learning algorithm converge to correct hypothesis with high probability, even if data is noisy or incomplete? Concentration inequalities can be used to bound VC dimension of hypothesis space to design ML algorithms that are guaranteed to generalize well to new data. And in regularization (to control complexity of ML models): analyze effects of regularization on generalization performance of ML models. Concentration inequalities don't guarantee learning a function with small error, but provide high degree of confidence that algorithm is likely to learn a good function, given a sufficient number of training samples and a suitable regularization scheme.\n",
        "* <font color=\"blue\">**Concentration Inequalities** (used in Dequantization from Ewin Tang to ensure that low-rank approximation is close to original matrix in terms of its spectral properties with high probability)</font>\n",
        "  * Concentration inequalities are mathematical tools used to bound the probability that a random variable deviates significantly from some value (typically its mean or median).\n",
        "  * In the context of sketching and sampling in dequantization, these inequalities are crucial for ensuring that the approximate solutions obtained through random sampling are close to the true solutions with high probability.\n",
        "\n",
        "* [Johnson-Lindenstrauss Lemma](https://de.m.wikipedia.org/wiki/Lemma_von_Johnson-Lindenstrauss):\n",
        "  * This lemma is often used in dimensionality reduction techniques, ensuring that the distances between points are approximately preserved when projected into a lower-dimensional space.\n",
        "  * It guarantees that a small number of random projections can preserve the pairwise distances within a set of points with high probability.\n",
        "  * Example: For any $0 < \\epsilon < 1 $ and any set of $n$ points in $ \\mathbb{R}^d$, there exists a mapping $f: \\mathbb{R}^d \\to \\mathbb{R}^k $ with $k = O(\\log n / \\epsilon^2)$ such that for any points $x $ and $y$: $\\quad$ $\n",
        "   (1 - \\epsilon) \\|x - y\\|^2 \\leq \\|f(x) - f(y)\\|^2 \\leq (1 + \\epsilon) \\|x - y\\|^2$\n",
        "\n",
        "* Matrix concentration inequalities: use by Ewin tang for dequantization, see also Paper: [An Introduction to Matrix Concentration Inequalities](https://arxiv.org/abs/1501.01571). Some common matrix concentration inequalities that might appear in Tang's work include:\n",
        "\n",
        "  * Matrix Bernstein Inequality: Provides bounds on the deviation of the sum of random matrices from its expectation. It has variants tailored to handling sums of matrices that aren't independent.\n",
        "  * Matrix Hoeffding Inequality: Generalizes Hoeffding's inequality (which is for sums of random variables) to the matrix setting.\n",
        "  * Matrix Chernoff Bound: Gives tail bounds on how much a random matrix might deviate from its mean.\n",
        "  * <font color=\"blue\">Examples of Matrix concentration inequalities: Johnson-Lindenstrauss lemma, Matrix Chernoff bounds, Hoeffding's Inequality, Markov's Inequality</font>\n",
        "\n",
        "\n",
        "* [Markov's inequality](https://en.m.wikipedia.org/wiki/Markov%27s_inequality): simplest concentration inequality. Bounds probability that random variable deviates from its expected value by a certain amount = bounds probability of errors in statistical estimators, proves convergence of learning algorithms, analyzes performance of randomized algorithms.\n",
        "  * Provides a bound on the probability that a non-negative random variable exceeds a certain value.\n",
        "  * It is a more general inequality but provides weaker bounds compared to the above inequalities.\n",
        "  * Example: For a non-negative random variable $X$ and $a > 0 $: $\\quad$ $P(X \\geq a) \\leq \\frac{\\mathbb{E}[X]}{a}$\n",
        "\n",
        "* [Hoeffding's inequality](https://en.m.wikipedia.org/wiki/Hoeffding%27s_inequality):\n",
        "  * Provides bounds on the sum of bounded independent random variables, ensuring that the entries of the projected vectors do not deviate significantly from their expected values.\n",
        "  * We want to guarantee that a hypothesis with a small training error will have good accuracy on unseen examples, and one way to do so is with Hoeffding bounds. This characterizes the deviation between the true probability of some event and its observed frequency over m independent trails. [Source](https://www.cis.upenn.edu/~danroth/Teaching/CS446-17/LectureNotesNew/colt/main.pdf)\n",
        "  * states that probability that average of a number of independent and identically distributed random variables deviates from its expected value by more than a certain amount is exponentially small in number of random variables.\n",
        "  * average of n independent random variables deviates from its expected value by more than ε at most $2e^{(-2nε^2)}$ probability and decays exponentially with number of random variables -> Probability of deviation becomes very small as number of random variables increases. **This inequality bounds generalization error of a learning algorithm, regardless of the model complexity or the sample complexity. Can show that sample complexity of learning a linear regression model with a certain level of accuracy is proportional to logarithm of number of features.**  \n",
        "  * Hoeffding's inequality is a **special case of the Azuma–Hoeffding inequality and McDiarmid's inequality**. It is **similar to the Chernoff bound**, but tends to be less sharp, in particular when the variance of the random variables is small. It is **similar to, but incomparable with, one of Bernstein's inequalities**.\n",
        "  * **Hoeffding's Inequality**: Hoeffding's inequality provides a bound on the probability that the sum of bounded independent random variables deviates from its expected value. This is useful in sketching algorithms where we want to ensure that the random samples represent the original data well.\n",
        "  * Example: If $X_1, X_2, ..., X_n$ are independent random variables with $a_i \\leq X_i \\leq b_i$, then for any $t > 0$: $\\quad$ $P\\left(\\left|\\sum_{i=1}^n X_i - \\mathbb{E}\\left[\\sum_{i=1}^n X_i\\right]\\right| \\geq t\\right) \\leq 2 \\exp \\left(-\\frac{2t^2}{\\sum_{i=1}^n (b_i - a_i)^2}\\right)\n",
        "  $\n",
        "  * Example: bound sample complexity of online learning algorithm (with perceptron):\n",
        "    * $X_1, X_2, ..., X_n$ be independent random variables with mean $\\mu$ and variance $\\sigma^2$.\n",
        "    * For any $\\delta > 0$, $P(\\bar{X} - \\mu > \\delta) \\leq \\exp(-\\delta^2 n / 2 \\sigma^2)$ where $\\bar{X}$ is average of $X_i$.\n",
        "    * $L_i$ be loss of Perceptron on $i$th training sample. Average loss of Perceptron on training data is: $\\bar{L} = \\frac{1}{n} \\sum_{i=1}^n L_i$.\n",
        "    * Objective: Use concentration inequality to show that average loss of Perceptron on training data is close to its expected value with high probability, given a sufficient number of training samples: $P(\\bar{L} - \\mu > \\delta) \\leq \\exp(-\\delta^2 n / 2 \\sigma^2)$ where $\\mu$ is expected loss of Perceptron on training data.\n",
        "    * With probability at least $1 - \\exp(-\\delta^2 n / 2 \\sigma^2)$, average loss of Perceptron on training data is within $\\delta$ of its expected value.\n",
        "    * Set $\\delta$ to be a small value, such as $0.01$, to ensure that average loss of Perceptron on training data is very close to its expected value with high probability.\n",
        "    * Hoeffdings inequality bounds sample complexity: $n \\geq \\frac{2 \\sigma^2 \\ln(1 / \\delta)}{\\delta^2}$ tells us that if we have $n$ training samples, then average loss of Perceptron on training data is within $\\delta$ of its expected value with probability at least $1 - \\exp(-\\delta^2 n / 2 \\sigma^2)$.\n",
        "\n",
        "* [Chernoff bounds](https://en.m.wikipedia.org/wiki/Chernoff_bound): Bound probability of sum of independent random variables deviating from its expected value by more than a certain amount, even if the random variables are not identically distributed. Generalization of Hoeffding's inequality, used to bound tails of probability distributions.\n",
        "  * Used to show that sums of random variables (e.g., the dot products involved in random projections) concentrate around their expected values.\n",
        "  * Chernoff bounds provide exponentially decreasing bounds on the tail distributions of sums of independent random variables.\n",
        "  * They are particularly useful when dealing with the sum of binary random variables, like in randomized algorithms for counting and approximating.\n",
        "  * Example: If $X_1, X_2, ..., X_n$ are independent random variables taking values in $[0, 1]$, and $X = \\sum_{i=1}^n X_i$, then for any $ \\epsilon > 0$: $\\quad$ $P(X \\geq (1+\\epsilon)\\mathbb{E}[X]) \\leq e^{-\\frac{\\epsilon^2 \\mathbb{E}[X]}{2 + \\epsilon}}$\n",
        "\n",
        "* [Matrix Chernoff bounds](https://en.m.wikipedia.org/wiki/Matrix_Chernoff_bound): These bounds extend the classical Chernoff bounds to the eigenvalues of sums of random matrices.\n",
        "  * They are useful in analyzing algorithms that involve random matrices, ensuring that the spectrum (eigenvalues) of the matrix behaves as expected.\n",
        "  * Example: If $X_1, X_2, ..., X_m$ are independent random symmetric matrices with eigenvalues in $[0, 1]$, then for any $\\epsilon > 0$: $\\quad$ $P\\left(\\lambda_{\\max}\\left(\\sum_{i=1}^m X_i\\right) \\geq (1+\\epsilon)\\lambda_{\\max}(\\mathbb{E}[\\sum_{i=1}^m X_i])\\right) \\leq d \\cdot e^{-\\frac{\\epsilon^2 \\lambda_{\\max}(\\mathbb{E}[\\sum_{i=1}^m X_i])}{2 + \\epsilon}}$\n",
        "\n",
        "\n",
        "* [Azuma's inequality](https://en.m.wikipedia.org/wiki/Azuma%27s_inequality)\n",
        "\n",
        "* [Bernstein's inequality](https://en.m.wikipedia.org/wiki/Bernstein_inequalities_(probability_theory)): generalization of Chernoff bounds. Bounds probability, even if the random variables are not identically distributed and have non-identical variances (used to bound tails of sub-Gaussian distributions).\n",
        "\n",
        "* [McDiarmid's inequality](https://en.m.wikipedia.org/wiki/McDiarmid%27s_inequality): bounds deviation between sampled value and expected value of certain functions (= functions that satisfy a bounded differences property, meaning that replacing a single argument to the function while leaving all other arguments unchanged cannot cause too large of a change in the value of the function) when they are evaluated on independent random variables.\n",
        "\n",
        "* [Bennett's inequality](https://en.m.wikipedia.org/wiki/Bennett%27s_inequality): provides an upper bound on the probability that the sum of independent random variables deviates from its expected value by more than any specified amount. **Can be used to: Bound the generalization error of learning algorithms.**\n",
        "\n",
        "* [(Bienaymé–) Chebyshev's inequality](https://en.m.wikipedia.org/wiki/Chebyshev%27s_inequality): provide upper bounds on the probability that a random variable deviates from its expected value by more than a certain amount. Chebyshev's inequality is particularly useful for bounding the deviations of random variables with finite mean and variance. One way to think about Chebyshev's inequality is that it provides a measure of how concentrated the probability distribution of a random variable is around its expected value. The more concentrated the probability distribution is, the lower the probability is that the random variable will deviate from its expected value by more than a certain amount. **Can be used to: Bound the probability of rare events**. Design confidence intervals for population parameters. Develop efficient algorithms for statistical testing.\n",
        "\n",
        "* [Vysochanskij–Petunin inequality](https://en.m.wikipedia.org/wiki/Vysochanskij%E2%80%93Petunin_inequality):  It is a refinement of Chebyshev's inequality that provides tighter bounds on the probability that a random variable deviates from its expected value by more than a certain amount, especially for random variables with unimodal distributions."
      ],
      "metadata": {
        "id": "2WMz6oFrnTD3"
      }
    },
    {
      "cell_type": "markdown",
      "source": [
        "###### <font color=\"orange\">*Dimension</font> (VC, Fat-shattering, Pseudo, Effective, Hausdorff)*"
      ],
      "metadata": {
        "id": "ijtvzpIDxEzV"
      }
    },
    {
      "cell_type": "markdown",
      "source": [
        "**Dimensions**\n",
        "\n",
        "[Dimension](https://en.m.wikipedia.org/wiki/Dimension).Dimensionality measures are used to quantify the complexity of a set of points or a function class. They are often used in machine learning to bound the sample complexity of learning algorithms.\n",
        "* in mathematics, is a particular way of describing the size of an object (contrasting with measure and other, different, notions of size). Dimensionality measures are also used to study the relationships between different complexity classes. For example, it is known that the complexity class PSPACE is contained in the complexity class EXPTIME. This can be shown using the following theorem: Theorem: The metric entropy of any hypothesis class with VC dimension d is at most d. This theorem tells us that the complexity class PSPACE, which contains all problems that can be solved by a polynomial space Turing machine, is contained in the complexity class EXPTIME, which contains all problems that can be solved by an exponential time Turing machine. Dimensionality measures are a powerful tool for studying the complexity of computational problems. They can be used to bound the resource requirements of algorithms, and to study the relationships between different complexity classes.\n",
        "\n",
        "*Examples:*\n",
        "\n",
        "* [Effective dimension](https://en.m.wikipedia.org/wiki/Effective_dimension) is a modification of Hausdorff dimension and other fractal dimensions that places it in a computability theory setting. There are several variations (various notions of effective dimension) of which the most common is effective Hausdorff dimension.\n",
        "\n",
        "  * effective dimension is a modification of Hausdorff dimension and other fractal dimensions that places it in a computability theory setting\n",
        "\n",
        "  * to measure power / capacity of a model [Source](https://www.youtube.com/watch?v=fDIGmkq9xNE&t=2067s)\n",
        "\n",
        "  ![geometry](https://raw.githubusercontent.com/deltorobarba/repo/master/sciences_1398.png)\n",
        "\n",
        "* [Hausdorff dimension](https://en.m.wikipedia.org/wiki/Hausdorff_dimension) generalizes the well-known integer dimensions assigned to points, lines, planes, etc. by allowing one to distinguish between objects of intermediate size between these integer-dimensional objects.\n",
        "\n",
        "* [Intrinsic dimension](https://en.m.wikipedia.org/wiki/Intrinsic_dimension): The intrinsic dimension of a set of points is the smallest number of parameters needed to represent the points accurately.\n",
        "\n",
        "* [Fractal dimension](https://en.m.wikipedia.org/wiki/Fractal_dimension) provides a rational statistical index of complexity detail in a pattern. A fractal pattern changes with the scale at which it is measured. It is also a measure of the space-filling capacity of a pattern, and it tells how a fractal scales differently, in a fractal (non-integer) dimension.\n",
        "\n",
        "* [Lebesgue covering dimension](https://en.m.wikipedia.org/wiki/Lebesgue_covering_dimension) or topological dimension of a topological space is one of several different ways of defining the dimension of the space in a topologically invariant way\n",
        "\n",
        "* [Krull dimension](https://en.m.wikipedia.org/wiki/Krull_dimension)\n",
        "\n",
        "* [Inductive dimension](https://en.m.wikipedia.org/wiki/Inductive_dimension)\n",
        "\n",
        "* [Minkowski–Bouligand dimension](https://en.m.wikipedia.org/wiki/Minkowski–Bouligand_dimension) also known as Minkowski dimension or box-counting dimension, is a way of determining the fractal dimension of a set S in a Euclidean space $\\mathbb {R} ^{n}$, or more generally in a metric space (X,d).\n",
        "\n",
        "* [Information dimension](https://en.m.wikipedia.org/wiki/Information_dimension) is a measure of the fractal dimension of a probability distribution. It characterizes the growth rate of the Shannon entropy given by successively finer discretizations of the space.\n",
        "\n",
        "  * In 2010, Wu and Verdú gave an operational characterization of [Rényi information dimension = Rényi entropy](https://en.m.wikipedia.org/wiki/Rényi_entropy) as the fundamental limit of almost lossless data compression for analog sources under various regularity constraints of the encoder/decoder.\n",
        "\n",
        "  * Enge Verbindung zwischen Entropy und Dimension measures.\n",
        "\n",
        "* [Correlation dimension](https://en.m.wikipedia.org/wiki/Correlation_dimension) is a measure of the dimensionality of the space occupied by a set of random points, often referred to as a type of fractal dimension.\n",
        "\n",
        "* [Packing dimension](https://en.m.wikipedia.org/wiki/Packing_dimension)\n",
        "\n",
        "* [Equilateral dimension](https://en.m.wikipedia.org/wiki/Equilateral_dimension)\n",
        "\n",
        "* [Dimensions of commutative algebra](https://en.m.wikipedia.org/wiki/Glossary_of_commutative_algebra#dimension), like Embedding dimension"
      ],
      "metadata": {
        "id": "DFFd1liCm28M"
      }
    },
    {
      "cell_type": "markdown",
      "source": [
        "*Vapnik-Chervonenkis, Pseudo- and Fat-Shattering Dimensions are three distinct notions of “dimension”. The phrase “dimension” is rather unfortunate, as the three “dimensions” have nothing to do with the dimension of a vector space, except in very special situations. Rather, these “dimensions” are combinatorial parameters that measure the “richness” of concept classes or function classes.*\n",
        "\n",
        "* [Vapnik–Chervonenkis dimension](https://en.m.wikipedia.org/wiki/Vapnik–Chervonenkis_dimension)\n",
        "  * It quantifies the expressive power or complexity of a hypothesis class in terms of its ability to \"shatter\" sets of points. It's a scalar value that provides insight into the capacity of a class of functions or models.\n",
        "  * A hypothesis class is said to \"shatter\" a set of points if, for every possible labeling of the points, there exists a hypothesis in the class that can perfectly classify those points according to that labeling. VC dimension is defined in terms of shattering.\n",
        "  * It is the most widely used complexity metric in PAC learning, and it has been used to prove a number of important theoretical results.\n",
        "  * However, the VC dimension is not a perfect metric for the complexity of a hypothesis class. For example, the VC dimension of the class of all linear classifiers is infinite, even though linear classifiers can be learned efficiently from a small number of training examples.\n",
        "  * In PAC learning: Let H be a hypothesis class with VC dimension d. Then, the sample complexity of PAC learning H is given by: $n >= O(d / ε^2 * ln(1/δ))$, where ε is the desired error tolerance and δ is the desired confidence level.\n",
        "  \n",
        "  * [*Bias-Variance Tradeoff*](https://en.m.wikipedia.org/wiki/Bias–variance_tradeoff): This is a key principle in statistical learning that helps to understand the tradeoff between model complexity and the risk of overfitting, which impacts the number of samples needed for learning.\n",
        "\n",
        "  * Higher VC-dimension of a class = more samples are required to learn that class. Bounds on sample complexity using VC-dimension are often given in the form, where d is the VC-dimension:\n",
        "\n",
        "  * $m \\geq \\frac{8}{\\epsilon} \\ln \\left(\\frac{4}{\\delta}\\right)+\\frac{4}{\\epsilon} d \\ln \\left(\\frac{2 e m}{d}\\right)$\n",
        "\n",
        "  * measure of the capacity: The more complex the hypothesis space, the more likely it is that the learning algorithm will overfit the training data and make errors on new data (-that was assumed for neural nets).\n",
        "\n",
        "  * The VC dimension can be used to choose a hypothesis space that is not too complex, so that the learning algorithm can generalize well to new data. sample complexity of C is tightly determined by a combinatorial parameter called the VC dimension of C. measure of the capacity of a hypothesis space, which is the set of all possible hypotheses that can be learned by a machine learning algorithm.\n",
        "\n",
        "  * A hypothesis space with a higher VC dimension can learn more complex functions, but it will also be more likely to overfit the training data. The VC Dimension can provide an **upper bound on the sample complexity in terms of the size of the hypothesis class**, the desired error rate, and the confidence level.\n",
        "\n",
        "  ![geometry](https://raw.githubusercontent.com/deltorobarba/repo/master/sciences_1397.png)\n",
        "\n",
        "  * *Shatter points = separate points: how these functions can separate or \"shatter\" sets of points. If you can find large sets of points that can be arbitrarily labeled (i.e., \"shattered\") by functions in your class, then the class has high complexity. - Shattered:  A set of points is shattered by H if for every possible labeling of the points, there exists a hypothesis in H that agrees with that labeling.*\n",
        "\n",
        "  * One of the most fundamental results in learning theory is that the sample complexity of C is tightly determined by a combinatorial parameter called the VC dimension of C (Source: Optimal Quantum Sample Complexity of Learning Algorithms)\n",
        "\n",
        "  ![geometry](https://raw.githubusercontent.com/deltorobarba/repo/master/sciences_1643.png)\n",
        "\n",
        "  * VC dimension is still a useful concept in machine learning. It can be used to understand the complexity of a neural network and to choose a neural network that is not too complex, so that it can generalize well to new data.\n",
        "\n",
        "  * Limitations of the VC dimension (VC dimension theorem would seem to imply that large neural networks would overfit very badly and never generalize well):\n",
        "    * The VC dimension is only a theoretical bound, and it is not always accurate in practice. The VC dimension theorem assumes that the training data is drawn from an i.i.d. (independent and identically distributed) distribution. However, in practice, the training data is often not i.i.d., and this can make the VC dimension theorem less accurate.\n",
        "    * The VC dimension does not take into account the complexity of the target function. The VC dimension is only a bound on the generalization error. It is possible for a neural network to have a large VC dimension and still generalize well, if the training data is large enough.\n",
        "    * The VC dimension does not take into account the optimization algorithm used to train the neural network. There are a number of techniques that can be used to prevent neural networks from overfitting, such as regularization and dropout. These techniques can help to reduce the complexity of the neural network and make it more likely to generalize well.\n",
        "\n",
        "  * https://www.bogotobogo.com/python/scikit-learn/scikit_machine_learning_VC_Dimension_Shatter.php\n",
        "\n",
        "  * Code example: https://www.geeksforgeeks.org/vapnik-chervonenkis-dimension/\n",
        "\n",
        "  * Video: https://youtu.be/puDzy2XmR5c?si=FTPneApRNiWQkJey\n",
        "\n",
        "  * VC dimension is a method to measure model complexity. It is a measure of the capacity of a hypothesis space, which is the set of all possible hypotheses that can be learned by a machine learning algorithm. A hypothesis space with a higher VC dimension can learn more complex functions, but it will also be more likely to overfit the training data.\n",
        "\n",
        "  * The VC Dimension can provide an upper bound on the sample complexity in terms of the size of the hypothesis class, the desired error rate, and the confidence level.\n",
        "\n",
        "  * In [Vapnik–Chervonenkis theory](https://en.m.wikipedia.org/wiki/Vapnik%E2%80%93Chervonenkis_theory), the [Vapnik–Chervonenkis (VC) dimension](v) is a **measure of the capacity (complexity, expressive power, richness, or flexibility)** of a set of functions that can be learned by a statistical binary classification algorithm.\n",
        "\n",
        "  * It is defined as the cardinality of the largest set of points that the algorithm can [shatter](https://en.m.wikipedia.org/wiki/Shattered_set), which means the algorithm can always learn a perfect classifier for any labeling of at least one configuration of those data points.\n",
        "\n",
        "  * Relationship:\tThe VC dimension can be used to derive bounds on the sample complexity.\tThe sample complexity can be used to estimate the VC dimension.\n",
        "\n",
        "  * The VC dimension of a set of functions can be used to bound the generalization error of a learning algorithm. The generalization error is the error that a learning algorithm makes on new data that it has not seen before. The VC dimension theorem states that the generalization error of a learning algorithm is bounded by the VC dimension of the hypothesis space divided by the number of training examples. In other words, **the more complex the hypothesis space, the more likely it is that the learning algorithm will overfit the training data and make errors on new data** (-that was assumed for neural nets). The VC dimension can be used to choose a hypothesis space that is not too complex, so that the learning algorithm can generalize well to new data.\n",
        "\n",
        "* [Sauer's Lemma (or Sauer–Shelah Lemma)](https://en.wikipedia.org/wiki/Sauer%E2%80%93Shelah_lemma): A combinatorial bound that relates the growth function to the VC dimension and the number of data points. It says that if a hypothesis class has a VC dimension \\( d \\) and does not shatter any set of \\( d+1 \\) points, then the number of dichotomies it can produce on any set of \\( n \\) points is bounded by the sum of binomial coefficients from \\( i = 0 \\) to \\( d \\).\n",
        "\n",
        "* [Natarajan dimension](https://en.m.wikipedia.org/wiki/Natarajan_dimension): An extension of VC dimension to multiclass classification problems.\n",
        "\n",
        "* **Fat-shattering dimension**:\n",
        "\n",
        "  * An extension of the VC dimension that considers the ability of a hypothesis class to shatter sets of points with margins. It's useful for analyzing algorithms that make use of margins, like Support Vector Machines. / [Fat-shattering dimension](https://mlweb.loria.fr/book/en/fatshattering.html) at a certain scale of a function class is defined as the maximal number of points that can be fat-shattered by this function class at that scale. It can be bounded for popular function classes such as for the set of linear functions.\n",
        "\n",
        "  * https://mathoverflow.net/questions/307201/vc-dimension-fat-shattering-dimension-and-other-complexity-measures-of-a-clas\n",
        "\n",
        "  * Covering Numbers and Fat-Shattering Dimension: measures of complexity of function classes that can be used to **derive upper bounds on sample complexity** (bounds on expressivity of class of CPTP maps (or unitaries) that a quantum machine learning model (QMLM) can implement in terms of number of trainable elements)\n",
        "\n",
        "  * **fat-shattering dimension and VC dimension (Vapnik-Chervonenkis dimension)** fat-shattering dimension is not an example of an inequality. It is a measure of the complexity of a function class. A function class with a small fat-shattering dimension is said to be easy to learn, while a function class with a large fat-shattering dimension is said to be difficult to learn.\n",
        "\n",
        "  * The fat-shattering dimension is a complexity measure used in statistical learning theory. It's one way of quantifying the **complexity or expressive power of a class of functions, and it's used to derive bounds on the generalization error** of a learning algorithm.\n",
        "\n",
        "  * The formal definition of the fat-shattering dimension is a bit technical, but here's the general idea: suppose you have a class of functions, and you want to understand how complex this class is. One way of doing this is to look at how these functions can separate or \"shatter\" sets of points. If you can find large sets of points that can be arbitrarily labeled (i.e., \"shattered\") by functions in your class, then the class has high complexity.\n",
        "\n",
        "  * **Now, for the fat-shattering dimension, you add an additional constraint: you require a certain margin (the \"fatness\") between points that are labeled differently**. The largest set of points that can be shattered with a given margin is used to define the fat-shattering dimension of the function class.\n",
        "\n",
        "  * The fat-shattering dimension is related to the VC dimension (Vapnik-Chervonenkis dimension), another complexity measure that is widely used in statistical learning theory. However, **while the VC dimension only considers exact separation of points, the fat-shattering dimension takes into account this idea of a margin, which makes it more suitable for dealing with \"noisy\" or non-separable data.**\n",
        "\n",
        "  * the concept of the fat-shattering dimension is often used in the analysis of machine learning algorithms, particularly those based on empirical risk minimization. It can help to understand the trade-off between the expressive power of a function class (which often corresponds to the complexity of a learning algorithm) and the ability of the algorithm to generalize well to unseen data.\n",
        "\n",
        "* **Pseudo-Dimension**: Similar in spirit to the VC dimension but adapted for real-valued function classes rather than binary classifiers. / [Pseudo-dimension](https://link.springer.com/chapter/10.1007/978-1-4471-3748-1_4), also Pollard dimension, is a generalization of the VC-dimension to real-valued functions. The fat-shattering dimension, unlike the Pseudo-dimension, is a “scale-sensitive” measure of richness.\n"
      ],
      "metadata": {
        "id": "yKc3PDS6bXwM"
      }
    },
    {
      "cell_type": "markdown",
      "source": [
        "**is there a connection between Hausdorff distance and diamond norm?**\n",
        "\n",
        "Yes, there is a connection between the Hausdorff distance and the diamond norm, as they are both ways to quantify the difference between two sets or operators, but they are used in different contexts and are defined differently.\n",
        "\n",
        "1. Hausdorff distance: The Hausdorff distance is a measure defined between two sets of points (usually in a metric space). It captures the greatest of all the distances from a point in one set to the closest point in the other set. It's often used in computer vision and image analysis to compare the similarity between two sets of points.\n",
        "\n",
        "2. Diamond norm: The diamond norm (also known as the completely bounded trace norm) is a measure defined between two quantum operations (or more generally, between two linear maps between operator spaces). It captures the maximum difference between the effects of the two operations, when applied to any input quantum state and when the output is measured in any possible way.\n",
        "\n",
        "The diamond norm is particularly important in quantum information theory because it is directly related to the ability to distinguish between two quantum operations in any physical experiment.\n",
        "\n",
        "While both the Hausdorff distance and the diamond norm are used to compare two things, they are defined in different mathematical spaces (sets of points vs quantum operations), and so they measure fundamentally different types of differences. However, there are mathematical connections between the two, in the sense that similar mathematical techniques (such as duality and the use of supremum) are used in their definitions. These similarities reflect the deep connections between geometry, quantum mechanics, and the theory of linear operators."
      ],
      "metadata": {
        "id": "yOCaxqzShnYA"
      }
    },
    {
      "cell_type": "markdown",
      "source": [
        "###### <font color=\"orange\">*Norm</font> (Frobenius, Jacobian, Spectral, Trace)*"
      ],
      "metadata": {
        "id": "8SsJmnB0xNNN"
      }
    },
    {
      "cell_type": "markdown",
      "source": [
        "**[Norm](https://de.wikipedia.org/wiki/Norm_(Mathematik)) measure size or length of vectors**. Compute error of model or regularize models. Analyze complexity of algorithms in terms of space or time. A norm-based measure of complexity in computational learning theory is a **measure that quantifies the difficulty of learning a function based on the norm of the function**. The norm of a function is a measure of the size or magnitude of the function.\n",
        "* Both the Frobenius norm and the spectral norm can be used to derive generalization bounds for machine learning algorithms. **Norm-based generalization bounds provide a strong theoretical guarantee on the performance of a machine learning algorithm on unseen data.**\n",
        "* Specific machine learning task require specific norm-based measure of complexity. All norm-based measures of complexity provide a useful way to quantify the difficulty of learning a function.\n",
        "* Norm kann von [Skalarprodukt](https://de.wikipedia.org/wiki/Skalarprodukt) abgeleitet werden (['Skalarproduktnorm'](https://de.m.wikipedia.org/wiki/Skalarproduktnorm)). In diesem Fall: norm of vector is square root of inner product of vector by itself. Complete space with an inner product is called a [Hilbert space](https://de.m.wikipedia.org/wiki/Hilbertraum).\n",
        "* In optimization: define objective function and constraints. Computer science: define complexity of algorithms.\n",
        "* Classical vs Quantum probability theory:\n",
        "  * classical probability theory: 1-Norm: ∑ pi = ∑ | p | = || p || 1 = 1\n",
        "  * quantum probabiliyt theory: 2-Norm: || | ψ > || ^2 = 1\n",
        "* Reeller Vektor für 1-, 2-, 3- und $\\infty$-Normen des Vektors $x=(3,-2,6)$:\n",
        "  * $\n",
        "\\begin{aligned}\n",
        "& \\|x\\|_1=|3|+|-2|+|6|=11 \\\\\n",
        "& \\|x\\|_2=\\sqrt{|3|^2+|-2|^2+|6|^2}=\\sqrt{49}=7 \\\\\n",
        "& \\|x\\|_{\\infty}=\\max \\{|3|,|-2|,|6|\\}=6\n",
        "\\end{aligned}\n",
        "$\n",
        "* Komplexer Vektor für 1-, 2-, 3- und $\\infty$-Normen des Vektors $x=(3-4 i,-2 i)$:\n",
        "  * $\n",
        "\\begin{aligned}\n",
        "& \\|x\\|_1=|3-4 i|+|-2 i|=5+2=7 \\\\\n",
        "& \\|x\\|_2=\\sqrt{|3-4 i|^2+|-2 i|^2}=\\sqrt{5^2+2^2}=\\sqrt{29} \\approx 5,385 \\\\\n",
        "& \\|x\\|_{\\infty}=\\max \\{|3-4 i|,|-2 i|\\}=\\max \\{5,2\\}=5\n",
        "\\end{aligned}$"
      ],
      "metadata": {
        "id": "n7MLTBvFGN7T"
      }
    },
    {
      "cell_type": "markdown",
      "source": [
        "[*Normen auf endlichdimensionalen Vektorräumen*](https://de.m.wikipedia.org/wiki/Norm_(Mathematik)#Normen_auf_endlichdimensionalen_Vektorr%C3%A4umen)\n",
        "* [Zahlnorm](https://de.m.wikipedia.org/wiki/Norm_(Mathematik)#Zahlnormen): zB [Betragsnorm](https://de.m.wikipedia.org/wiki/Betragsfunktion)\n",
        "* [Vektornormen](https://de.m.wikipedia.org/wiki/Norm_(Mathematik)#Vektornormen):\n",
        "  * zB [$p$ -Normen](https://de.m.wikipedia.org/wiki/P-Norm) $\\|x\\|_{p}:=\\left(\\sum_{i=1}^{n}\\left|x_{i}\\right|^{p}\\right)^{1 / p}$.\n",
        "  * [Summennorm](https://de.m.wikipedia.org/wiki/Summennorm) ,\n",
        "  * Euklidische Norm und [Maximumsnorm](https://de.m.wikipedia.org/wiki/Maximumsnorm). L2 norm more robust to outliers than L1 norm.\n",
        "* [Matrixnorm](https://de.m.wikipedia.org/wiki/Matrixnorm):\n",
        "  * Matrix norm is a function that measures the size of a matrix. It must satisfy the following properties:\n",
        "    * ||A|| ≥ 0 for all matrices A.\n",
        "    * ||A|| = 0 if and only if A is the zero matrix.\n",
        "    * ||cA|| = |c| ||A|| for all scalars c and all matrices A.\n",
        "    * ||A + B|| ≤ ||A|| + ||B|| for all matrices A and B.\n",
        "  * **The trace norm is a matrix norm**, but it is not the only one. **Other examples of matrix norms include the Frobenius norm and the spectral norm**.\n",
        "  * [Natürliche Matrixnorm](https://de.m.wikipedia.org/wiki/Nat%C3%BCrliche_Matrixnorm): größtmöglicher Streckungsfaktor, der durch Matrix auf Vektor entsteht. [Spektralnorm](https://de.m.wikipedia.org/wiki/Spektralnorm): größtmöglicher Streckungsfaktor, der durch Matrix auf Vektor der Länge Eins entsteht = maximalen Singulärwert, [Singulärwertzerlegung](https://de.m.wikipedia.org/wiki/Singul%C3%A4rwertzerlegung)\n",
        "  * Various matrix norms provide different ways to quantify the size or complexity of matrices. While the Fisher Information Matrix is not a matrix norm, it's still a matrix, and depending upon the application, different matrix norms might be used to analyze its properties.\n",
        "* $\\hookrightarrow$ [Frobenius norm](https://de.m.wikipedia.org/wiki/Frobeniusnorm):\n",
        "  * special case of matrix norm. Frobenius norm of a matrix is the square root of the sum of the squares of all the elements of the matrix. Relatively easy to compute. Used in quantum state tomography (see *A Survey of Quantum Learning Theory* page 15. [interesting article](https://www.inference.vc/generalization-and-the-fisher-rao-norm-2/).\n",
        "  * E.g. Learn linear regression model from set of training data. One way: use ordinary least squares (OLS) algorithm (minimizes sum of squared residuals to find model). Frobenius norm: derive generalization bound for OLS algorithm that guarantees that probability of OLS algorithm making a large mistake on unseen data is small.\n",
        "* $\\hookrightarrow$ [Schatten p-Norm](https://en.m.wikipedia.org/wiki/Schatten_norm):\n",
        "  * The Schatten norm of the difference between the unitary matrices generated by the circuit and a target unitary operation can be used as a measure of the expressivity. Smaller values of the Schatten norm indicate higher expressivity. Useful measure of complexity for learning linear models and neural networks.\n",
        "  * Schatten norm is a class of matrix norms that includes the trace norm as a special case. The Schatten norm of order p, denoted by ||A||_p, is defined as the pth root of the sum of the pth powers of the singular values of A.\n",
        "* $\\hookrightarrow$ **Jacobian norm**\n",
        "  * is the maximum norm of the Jacobian matrix of a function. It is a measure of how the function changes with respect to its inputs.\n",
        "  * Jacobian norm is a useful tool for measuring the sensitivity of a function to its inputs and for designing robust control systems.\n",
        "  * The Jacobian matrix represents how changes in input affect changes in output in a vector-valued function. The Fisher Information matrix can sometimes be expressed in terms of derivatives (like the Jacobian), particularly when trying to understand how parameter changes influence the model's predictive distribution.\n",
        "* $\\hookrightarrow$ **Spectral norm**\n",
        "  * special case of matrix norm\n",
        "  * spectral morm of a matrix is the largest singular value of the matrix. Spectral norm is a more restrictive measure of complexity than the Frobenius norm, and more difficult to compute.\n",
        "  * This measures the largest singular value of a matrix. In the context of neural networks, it has been used to understand the smoothness of the loss landscape, which can be somewhat related to Fisher Information by providing insights into how parameters changes impact the output.\n",
        "  * Spectral norm is a useful tool for analyzing the stability of numerical algorithms and for studying the behavior of dynamical systems.\n",
        "  * The spectral norm of the Jacobian matrix of a function is an upper bound on the Jacobian norm of the function itself. This means that the spectral norm of the Jacobian matrix can be used to measure the maximum amount by which the function can change with respect to its inputs. Here is a simple example: Consider the following function: f(x) = x^2\n",
        "    * The Jacobian matrix of this function is simply the matrix [2x]. The spectral norm of the Jacobian matrix is 2x, and the Jacobian norm of the function is simply |2x|.\n",
        "    * If we set x = 1, then the spectral norm of the Jacobian matrix is 2, and the Jacobian norm of the function is also 2. However, if we set x = 10, then the spectral norm of the Jacobian matrix is 20, but the Jacobian norm of the function is still 2.\n",
        "    * This shows that the spectral norm of the Jacobian matrix is an upper bound on the Jacobian norm of the function itself.\n",
        "* $\\hookrightarrow$ [Trace norm (Nuclear norm)](https://en.m.wikipedia.org/wiki/Matrix_norm#Schatten_norms):\n",
        "  * It is sum of singular values of a matrix. Useful measure of complexity for learning linear models and neural networks. Special case of the Schatten norm, which is a class of matrix norms.\n",
        "  * Common distance measures in quantum information theory: here, \"distance measure\" is used in an informal sense, only three of the quantities introduced below are actual \"distances\" in the sense of a metric. First, and maybe most naturally, we can equip the set $\\mathcal{S}\\left(\\mathbb{C}^d\\right)$ with the (for convenience scaled) trace norm $I_i / 2$. This allows us to measure the difference between two quantum states $\\rho, \\sigma \\in$ $S\\left(\\mathbb{C}^d\\right)$ via the trace distance $\\left.\\left.\\|\\rho-\\sigma\\|_1 / 2=\\operatorname{tr} \\| \\rho-\\sigma\\right]\\right] / 2$. In fact, this distance is not only intuitive from a mathematical perspective, it also has an operational interpretation: The maximal success probability in distinghuishing $\\rho, \\sigma \\in \\mathcal{S}\\left(\\mathbb{C}^d\\right)$, assuming that either of the two is prepared with probability $1 / 2$, by performing a 2-outcome measurement on a single copy of the unknown state is given by $\\sup _{E \\in \\mathcal{E}(\\mathrm{C})} \\operatorname{tr}[E(\\rho-\\sigma)]+\\frac{1}{2}=\\frac{\\|\\rho-\\sigma\\|_1+1}{2}$ (see, e.g., $[17$, Chapter 9$]$ for a derivation).\n",
        "  * The trace distance is defined as half of the trace norm of the difference of the matrices\n",
        "  * The trace norm (also known as the nuclear norm) is a specific case of Schatten p-norm when p=1. It's the sum of singular values of a matrix. Sometimes, in the context of regularizing machine learning models, these norms are considered to constrain the learning capacity of the model. The trace of the Fisher Information Matrix can give a measure of the average sensitivity of the log-likelihood to parameter changes.\n",
        "* **Basis-path norm**: https://arxiv.org/abs/1809.07122\n"
      ],
      "metadata": {
        "id": "u_QCvV6brYZq"
      }
    },
    {
      "cell_type": "markdown",
      "source": [
        "[*Normen auf unendlichdimensionalen Vektorräumen*](https://de.m.wikipedia.org/wiki/Norm_(Mathematik)#Normen_auf_unendlichdimensionalen_Vektorräumen)\n",
        "* [Folgennormen](https://de.m.wikipedia.org/wiki/Norm_(Mathematik)#Folgennormen): $\\ell^{p}$ -Normen Verallgemeinerung der $p$ -Normen auf Folgenräume: $\\left\\|\\left(a_{n}\\right)\\right\\|_{\\ell^{p}}=\\left(\\sum_{n=1}^{\\infty}\\left|a_{n}\\right|^{p}\\right)^{1 / p}$. Mit Normen werden $\\ell$ - Räume zu vollständigen normierten Räumen.\n",
        "* [Supremumsnorm](https://de.m.wikipedia.org/wiki/Supremumsnorm): Für Grenzwert $p \\rightarrow \\infty$ ergibt sich Raum der beschränkten Folgen $\\ell^{\\infty}$\n",
        "* [Funktionennormen](https://de.m.wikipedia.org/wiki/Norm_(Mathematik)#Funktionennormen) im Funktionenraum, L-p-Raum.  $\\mathcal{L}^{p}$ -Normen definiert als $\\|f\\|_{\\mathcal{L}^{P}(\\Omega)}=\\left(\\int_{\\Omega}|f(x)|^{p} d x\\right)^{1 / p}$ (Summe durch Integral ersetzt).\n",
        "* [Diamond norm](https://en.m.wikipedia.org/wiki/Diamond_norm) (completely bounded trace norm) a measure defined between two quantum operations (two linear maps between operator spaces). Captures max difference between effects of two quantum operations.\n",
        "\n",
        "[*Normed Vector Spaces*](https://en.m.wikipedia.org/wiki/Normed_vector_space)\n",
        "* [L<sup>p</sup>-space](https://de.m.wikipedia.org/wiki/Lp-Raum) (Lebesgue Space) bestehen aus p-fach integrierbaren Funktionen. Für jede Zahl $0 < p \\leq \\infty$ ist $L^{p}$ -Raum definiert.\n",
        "* [Banach space](https://de.wikipedia.org/wiki/Banachraum): $\\mathbb{R}$<sup>n</sup> together with p-norm = vollständiger normierter Vektorraum (Lp-space over R^n). Viele Folgenräume $\\ell$ oder Funktionenräume $L$ sind unendlichdimensionale Banachräume.\n",
        "* [Hilbert space](https://de.wikipedia.org/wiki/Hilbertraum): Banachraum, dessen Norm durch Skalarprodukt induziert ist (p2-Norm, aber nicht p1 -> Prähilbertraum).\n",
        "* [Hardy space](https://de.m.wikipedia.org/wiki/Hardy-Raum): Untersucht man statt messbarer Funktionen nur holomorphe und harmonische Funktionen auf Integrierbarkeit im $L^{p}$-Raum\n",
        "* [F-space](https://en.m.wikipedia.org/wiki/F-space): for Lp-space 0 < p < 1. Admits complete translation-invariant metric with respect to which vector space operations are continuous.\n",
        "* [Fréchet space](https://en.m.wikipedia.org/wiki/Fr%C3%A9chet_space): locally convex F-spaces.\n",
        "* [Sobolev space](https://de.wikipedia.org/wiki/Sobolev-Raum): Funktionenraum von schwach differenzierbaren Funktionen. Variationsrechnung: zur Lösungstheorie partieller Differentialgleichungen"
      ],
      "metadata": {
        "id": "8WHLzF42GF6m"
      }
    },
    {
      "cell_type": "markdown",
      "source": [
        "**[Inner Product](https://de.wikipedia.org/wiki/Skalarprodukt) (auch Dot Product / Scalar Product / Skalarprodukt) ordnet zwei Vektoren eine Zahl (Skalar) zu, die die Ähnlichkeit messen** (über Länge, Winkel von Vektoren, oder ob diese senkrecht zueinander stehen)\n",
        "  * Skalarprodukt zweier Vektoren: $\\vec{a} \\cdot \\vec{b}=|\\vec{a}||\\vec{b}| \\cos \\alpha(\\vec{a}, \\vec{b})$. Wenn $\\vec{a} \\cdot \\vec{b}= 0$, dann stehen orthogonal zueinander.\n",
        "  * [Dot product](https://en.m.wikipedia.org/wiki/Dot_product) or scalar product (special case): dot a ⋅ b.\n",
        "  * The [determinant](https://en.wikipedia.org/wiki/Determinant) is a scalar value that can be computed from the elements of a **square matrix** and encodes certain properties of the linear transformation described by the matrix. Geometrically can be viewed as volume scaling factor of linear transformation described by matrix.\n",
        "  * \"Inner Product of Functions\" says how similar two functions are (used in Fourier Transform): if they are orthogonal, then zero. if they are very similar, then they have a large inner product: $\\langle f(x), g(x)\\rangle=\\int_{a}^{b} f(x) g(x) d x$\n",
        "  * Take samples from functions - Up to infinity, you get integral (Riemann approximation of continuuos integral above): $\\langle f, g\\rangle=g^{\\top} {f}$ = $\\langle f, g \\rangle \\Delta x=\\sum_{k=1}^{n} f\\left(x_{n}\\right) g\\left(x_{n}\\right) \\Delta x$\n",
        "  * [Inner Product Space](https://en.m.wikipedia.org/wiki/Inner_product_space) (Prähilbertraum bzw. Skalarproduktraum) generalize Euclidean spaces (in which inner product is dot product = scalar product) to vector spaces of any (possibly infinite) dimension."
      ],
      "metadata": {
        "id": "FeFQyIqardUr"
      }
    },
    {
      "cell_type": "markdown",
      "source": [
        "###### $\\hookrightarrow$ Special: Euclidean $p_1$-Norm und $L^1$-Metrik*"
      ],
      "metadata": {
        "id": "6quxRLo3U9Qf"
      }
    },
    {
      "cell_type": "markdown",
      "source": [
        "**[Summennorm](https://de.m.wikipedia.org/wiki/Summennorm) im endlichdimensionalen Raum** (p=1, Lasso, Standardnorm)\n",
        "\n",
        "> $\\|x\\|_{1}=\\sum_{i=1}^{n}\\left|x_{i}\\right|$\n",
        "\n",
        "* zB Summennorm des reellen Vektors $x=(3,-2,6) \\in \\mathbb{R}^{3}$ ist $\\|x\\|_{1}=|3|+|-2|+|6|=11$\n",
        "\n",
        "* Von Summennorm abgeleitete Metrik ist [Manhattan-Metrik](https://de.m.wikipedia.org/wiki/Manhattan-Metrik). Siehe auch [Taxicab_geometry](https://en.m.wikipedia.org/wiki/Taxicab_geometry).\n",
        "\n",
        "* Die Summennorm ist im Gegensatz zur euklidischen Norm (2-Norm) nicht von einem Skalarprodukt induziert.\n",
        "\n",
        "* Die Einheitssphäre der reellen Summennorm ist ein Kreuzpolytop mit minimalem Volumen über alle p-Normen. **Daher ergibt die Summennorm für einen gegebenen Vektor den größten Wert aller p-Normen**. (zB 3 + (-2) + 6 = 11 in Summennorm, aber = 7 in euklidischer Norm fur p=2)\n",
        "\n",
        "* Techniques which use an L1 penalty, like [LASSO](https://en.m.wikipedia.org/wiki/Lasso_(statistics)), encourage solutions where many parameters are zero\n",
        "\n",
        "\n",
        "*Summennorm in zwei Dimensionen:*\n",
        "\n",
        "![ggg](https://upload.wikimedia.org/wikipedia/commons/thumb/5/5f/Vector-1-Norm_qtl1.svg/316px-Vector-1-Norm_qtl1.svg.png)"
      ],
      "metadata": {
        "id": "LdVhJHBAUSGD"
      }
    },
    {
      "cell_type": "markdown",
      "source": [
        "**Summennorm im unendlichdimensionalen Vektorraum**\n",
        "\n",
        "$\\ell^{1}-$ Norm (**Folgenraum**)\n",
        "\n",
        "* Die $\\ell^{1}$ -Norm ist die Verallgemeinerung der Summennorm auf den Folgenraum $\\ell^{1}$ der **betragsweise summierbaren Folgen** $\\left(a_{n}\\right)_{n} \\in \\mathbb{K}^{N} .$\n",
        "\n",
        "* Hierbei wird lediglich **die endliche Summe durch eine unendliche ersetzt** und die $\\ell^{\\text {t }}$ -Norm ist dann gegeben als\n",
        "\n",
        "> $\\left\\|\\left(a_{n}\\right)\\right\\|_{\\ell^{1}}=\\sum_{n=1}^{\\infty}\\left|a_{n}\\right|$\n",
        "\n",
        "$L^{1}$ -Norm (**Funktionenraum**)\n",
        "\n",
        "* Weiter kann die Summennorm auf den Funktionenraum $L^{1}(\\Omega)$ der auf einer Menge $\\Omega$ betragsweise integrierbaren Funktionen verallgemeinert werden, was in zwei Schritten geschieht. Zunächst wird die $\\mathcal{L}^{1}$ Norm einer **betragsweise Lebesgue-integrierbaren Funktion** $f: \\Omega \\rightarrow \\mathbb{K}$ als\n",
        "\n",
        "> $\\|f\\|_{\\mathcal{L}^{1}(\\Omega)}=\\int_{\\Omega}|f(x)| d x$\n",
        "\n",
        "* definiert, wobei im Vergleich zur $\\ell^{1}$ -Norm lediglich die Summe durch ein Integral ersetzt wurde. Dies ist zunächst nur eine Halbnorm, da nicht nur die Nullfunktion, sondern auch alle Funktionen, die sich nur an einer Menge mit Lebesgue-Maß Null von der Nullfunktion unterscheiden, zu Null integriert werden.\n",
        "\n",
        "* Daher betrachtet man die Menge der Äquivalenzklassen von Funktionen $[f] \\in L^{1}(\\Omega)$, die fast überall gleich sind, und erhält auf diesem $L^{1}$ -Raum die $L^{1}$ -Norm durch\n",
        "\n",
        "> $\\|[f]\\|_{L^{1}(\\Omega)}=\\|f\\|_{\\mathcal{L}^{1}(\\Omega)}$"
      ],
      "metadata": {
        "id": "MIi62WcSUgP9"
      }
    },
    {
      "cell_type": "markdown",
      "source": [
        "**L1 - Manhattan Distance (Lasso)**\n",
        "\n",
        "* The Manhattan norm gives rise to the [Manhattan distance](https://de.m.wikipedia.org/wiki/Manhattan-Metrik), where the distance between any two points, or vectors, is the sum of the differences between corresponding coordinates.\n",
        "\n",
        "* **Die Manhattan-Metrik ist die von der Summennorm (1-Norm) eines Vektorraums erzeugte Metrik.**\n",
        "\n",
        "* ***Aber: Die Summennorm ist nicht von einem Skalarprodukt induziert.***\n",
        "\n",
        "* Die Manhattan-Metrik (auch Manhattan-Distanz, Taxi- oder Cityblock-Metrik) ist eine Metrik, in der die Distanz d zwischen zwei Punkten a und b als die Summe der absoluten Differenzen ihrer Einzelkoordinaten definiert wird:\n",
        "\n",
        "> $d(a, b)=\\sum_{i}\\left|a_{i}-b_{i}\\right|$"
      ],
      "metadata": {
        "id": "n9vaUs0sXyOf"
      }
    },
    {
      "cell_type": "markdown",
      "source": [
        "###### $\\hookrightarrow$ *Special: Euclidean $p_2$-Norm und $L^2$-Metrik*"
      ],
      "metadata": {
        "id": "32OR42wtUS3y"
      }
    },
    {
      "cell_type": "markdown",
      "source": [
        "**[Euklidische Norm](https://de.m.wikipedia.org/wiki/Euklidische_Norm) im endlichdimensionalen Raum** (p=2, Ridge, Standardnorm)\n",
        "\n",
        "> $\\|x\\|_{2}= \\left(x_{1}^{2}+x_{2}^{2}+\\cdots+x_{n}^{2}\\right)^{1 / 2} = \\sqrt{\\sum_{i=1}^{n}\\left|x_{i}\\right|^{2}}$\n",
        "\n",
        "* Ziel: berechnen die Länge (Betrag) eines Vektors in der euklidischen Ebene.  The length of a vector $x = (x_1, x_2, ..., x_n)$ in the $n$-dimensional real vector space $\\mathbb{R}^n$ is usually given by the Euclidean norm $||x||_{2}$.\n",
        "\n",
        "* Die euklidische Norm ist eine von einem Skalarprodukt induzierte Norm (im Gegensatz zur p1 Summennorm)\n",
        "\n",
        "* Beispiel: Vektor ${\\vec {v}}$ mit Komponenten $x$, $y$ und $z$ in drei Dimensionen durch ${\\vec {v}}=(x,y,z)$ wird die Länge berechnet durch:\n",
        "\n",
        "> $|{\\vec {v}}|={\\sqrt {x^{2}+y^{2}+z^{2}}}$\n",
        "\n",
        "* Die Euclidean Norm besitzt als eine von einem Skalarprodukt [induzierte Norm](https://de.m.wikipedia.org/wiki/Skalarproduktnorm) **neben den [drei Normaxiomen](https://de.m.wikipedia.org/wiki/Norm_(Mathematik)#Definition) eine Reihe weiterer Eigenschaften**:\n",
        "\n",
        "  * die Gültigkeit der [Cauchy-Schwarz-Ungleichung](https://de.m.wikipedia.org/wiki/Cauchy-Schwarzsche_Ungleichung)\n",
        "\n",
        "  * der [Parallelogrammgleichung](https://de.m.wikipedia.org/wiki/Parallelogrammgleichung)\n",
        "\n",
        "  * sowie eine Invarianz unter unitären Transformationen (Die euklidische Norm ändert sich also unter unitären Transformationen nicht. Für reelle Vektoren sind solche Transformationen beispielsweise Drehungen des Vektors um den Nullpunkt. Diese Eigenschaft wird zum Beispiel bei der numerischen Lösung linearer Ausgleichsprobleme über die **Methode der kleinsten Quadrate mittels QR-Zerlegungen genutzt**.)\n",
        "\n",
        "* Für orthogonale Vektoren erfüllt die euklidische Norm selbst eine allgemeinere Form des Satzes des Pythagoras.\n",
        "\n",
        "* Sieht man eine Matrix mit reellen oder komplexen Einträgen als entsprechend langen Vektor an, so kann die euklidische Norm auch für Matrizen definiert werden und heißt dann [**Frobeniusnorm**](https://de.m.wikipedia.org/wiki/Frobeniusnorm). Die euklidische Norm kann auch auf unendlichdimensionale Vektorräume über den reellen oder komplexen Zahlen verallgemeinert werden und hat dann zum Teil eigene Namen.\n",
        "\n",
        "*Euklidische Norm in zwei reellen Dimensionen:*\n",
        "\n",
        "![ggg](https://upload.wikimedia.org/wikipedia/commons/thumb/c/c5/Vector-2-Norm_qtl1.svg/316px-Vector-2-Norm_qtl1.svg.png)\n",
        "\n"
      ],
      "metadata": {
        "id": "p1rB9cfOJadt"
      }
    },
    {
      "cell_type": "markdown",
      "source": [
        "**Euklidische Norm im unendlichdimensionalen Vektorraum**\n",
        "\n",
        "* Als [Folgennorm](https://de.m.wikipedia.org/wiki/Norm_(Mathematik)#Folgennormen) im [Folgenraum](https://de.m.wikipedia.org/wiki/Folgenraum): Die $\\ell^{2}-$ Norm im Folgenraum ist die Verallgemeinerung der euklidischen Norm auf den [Folgenraum](https://de.m.wikipedia.org/wiki/Folgenraum) $\\ell^{2}$ der quadratisch summierbaren Folgen $\\left(a_{n}\\right)_{n} \\in \\mathbb{K}^{\\mathrm{N}} .$ Hierbei wird lediglich die endliche Summe durch eine unendliche ersetzt und die $\\ell^{2}$ -Norm ist dann gegeben als\n",
        "\n",
        "> $\\left\\|\\left(a_{n}\\right)\\right\\|_{\\ell^{2}}=\\left(\\sum_{n=1}^{\\infty}\\left|a_{n}\\right|^{2}\\right)^{1 / 2}$\n",
        "\n",
        "* Die ℓ-p -Räume sind ein Spezialfall der allgemeineren Lp-Räume, wenn man das Zählmaß auf dem Raum N betrachtet.\n",
        "\n",
        "* Als [Funktionennormen](https://de.m.wikipedia.org/wiki/Norm_(Mathematik)#Funktionennormen) im [Funktionenraum](https://de.m.wikipedia.org/wiki/Funktionenraum) $L^{2}(\\Omega)$-Norm der auf einer Menge $\\Omega$ quadratisch integrierbaren Funktionen verallgemeinert werden, was in zwei Schritten geschieht. Zunächst wird die $\\mathcal{L}^{2}$ Norm einer quadratisch Lebesgue-integrierbaren Funktion $f: \\Omega \\rightarrow \\mathbb{K}$ als\n",
        "\n",
        "> $\\|f\\|_{\\mathcal{L}^{2}(\\Omega)}=\\left(\\int_{\\Omega}|f(x)|^{2} d x\\right)^{1 / 2}$\n",
        "\n",
        "* definiert, wobei im Vergleich zur $\\ell^{2}$ -Norm lediglich die Summe durch ein Integral ersetzt wurde. Dies ist zunächst nur eine Halbnorm, da nicht nur die Nullfunktion, sondern auch alle Funktionen, die sich nur an einer Menge mit Lebesgue-Maß Null von der Nullfunktion unterscheiden, zu Null integriert werden. Daher betrachtet man die Menge der Äquivalenzklassen von Funktionen $[f] \\in L^{2}(\\Omega),$ die fast überall gleich sind, und erhält auf diesem $L^{2}$ -Raum die $L^{2}$ -Norm durch\n",
        "\n",
        "> $\\|[f]\\|_{L^{2}(\\Omega)}=\\|f\\|_{\\mathcal{L}^{2}(\\Omega)}$\n",
        "\n",
        "* Der Raum $L^{2}(\\Omega)$ ist der [Hilbertraum fur L2](https://de.m.wikipedia.org/wiki/Lp-Raum#Der_Hilbertraum_L2) mit dem Skalarprodukt zweier Funktionen\n",
        "\n",
        "> $\\langle f, g\\rangle_{L_{2}(\\Omega)}=\\int_{\\Omega} \\overline{f(x)} \\cdot g(x) d x$"
      ],
      "metadata": {
        "id": "mXr0GKzWTwNR"
      }
    },
    {
      "cell_type": "markdown",
      "source": [
        "**[Euclidian Distance](https://de.m.wikipedia.org/wiki/Euklidischer_Abstand) (Metrik) induziert aus der Euklidischen Norm**  (L2, Ridge)\n",
        "\n",
        "> $d_{2}:(x, y) \\mapsto\\|x-y\\|_{2}=\\sqrt{d_{\\mathrm{SSD}}}=\\sqrt{\\sum_{i=1}^{n}\\left(x_{i}-y_{i}\\right)^{2}}$\n",
        "\n",
        "* Ziel: berechnen den Abstand zwischen zwei Vektoren in der euklidischen Ebene\n",
        "\n",
        "* Special case of the [Minkowski distance](https://en.m.wikipedia.org/wiki/Minkowski_distance) with p=2\n",
        "\n",
        "* In Statistik siehe auch [Tikhonov Regularization (Ridge)](https://en.m.wikipedia.org/wiki/Tikhonov_regularization). Techniques which use an L2 penalty, like ridge regression, encourage solutions where most parameter values are small."
      ],
      "metadata": {
        "id": "3eQ4165xTtOr"
      }
    },
    {
      "cell_type": "markdown",
      "source": [
        "**[Euklidian (Metric) Space](https://en.m.wikipedia.org/wiki/Euclidean_space)**\n",
        "\n",
        "* Together with the [Euclidean distance](https://en.m.wikipedia.org/wiki/Euclidean_distance) the Euclidean space is a metric space (x element R, d). http://theanalysisofdata.com/probability/B_4.html\n"
      ],
      "metadata": {
        "id": "kbrT-D7PTrew"
      }
    },
    {
      "cell_type": "markdown",
      "metadata": {
        "id": "_Syw4dL96u31"
      },
      "source": [
        "###### $\\hookrightarrow$ *Special: Euclidean $p_{∞}$-Norm und $L^{∞}$-Metrik*"
      ]
    },
    {
      "cell_type": "markdown",
      "source": [
        "[**Maximumsnorm**](https://de.m.wikipedia.org/wiki/Maximumsnorm) (p $\\rightarrow \\infty$): $\\rightarrow$\n",
        "\n",
        "> $\\|x\\|_{p}:=\\left(\\sum_{i=1}^{n}\\left|x_{i}\\right|^{p}\\right)^{1 / p}$\n",
        "\n",
        "* Sie ist ein Spezialfall der [Supremumsnorm](https://de.m.wikipedia.org/wiki/Supremumsnorm).\n",
        "\n",
        "* Anschaulich gesprochen ist **der aus der Maximumsnorm abgeleitete Abstand immer dann relevant, wenn man sich in einem mehrdimensionalen Raum in alle Dimensionen gleichzeitig und unabhängig voneinander gleich schnell bewegen kann**. (zB Rochade beim Schach)\n",
        "\n",
        "* Allgemeiner kann die Maximumsnorm benutzt werden, um zu bestimmen, wie schnell man sich in einem zwei- oder dreidimensionalen Raum bewegen kann, wenn angenommen wird, dass die Bewegungen in x-, y- (und z-)Richtung unabhängig, gleichzeitig und mit gleicher Geschwindigkeit erfolgen.\n",
        "\n",
        "* Noch allgemeiner kann man ein System betrachten, dessen Zustand durch n unabhängige Parameter bestimmt wird. An allen Parametern können gleichzeitig und ohne gegenseitige Beeinflussung Änderungen vorgenommen werden. **Dann „misst“ die Maximumsnorm in Rn die Zeit, die man benötigt, um das System von einem Zustand in einen anderen zu überführen**. Voraussetzung hierfür ist allerdings, dass man die Parameter so normiert hat, dass gleiche Abstände zwischen den Werten auch gleichen Änderungszeiten entsprechen. Andernfalls müsste man eine gewichtete Version der Maximumsnorm verwenden, die die unterschiedlichen Änderungsgeschwindigkeiten der Parameter berücksichtigt.\n",
        "\n",
        "* Für einen Vektor $x=\\left(x_{1}, \\ldots, x_{n}\\right) \\in \\mathbb{R}^{n}$ nennt man $\\|x\\|_{\\max }:=\\max \\left(\\left|x_{1}\\right|, \\ldots,\\left|x_{n}\\right|\\right)$ $\\rightarrow$ $\\|x\\|_{\\infty}=\\max _{i=1, \\ldots, n}\\left|x_{i}\\right|$ die Maximumsnorm von x.\n",
        "\n",
        "*Äquivalenz der euklidischen Norm (blau) und der Maximumsnorm (rot) in zwei Dimensionen:* [Source](https://de.m.wikipedia.org/wiki/Äquivalente_Normen)\n",
        "\n",
        "![ggg](https://upload.wikimedia.org/wikipedia/commons/thumb/1/11/Equiv_2-norm_max-norm_qtl1.svg/240px-Equiv_2-norm_max-norm_qtl1.svg.png)"
      ],
      "metadata": {
        "id": "rpLxgxJgWGVm"
      }
    },
    {
      "cell_type": "markdown",
      "source": [
        "**Maximumsnorm im unendlichdimensionalen Vektorraum**\n",
        "\n",
        "\n",
        "[**Supremumsnorm**](https://de.m.wikipedia.org/wiki/Supremumsnorm)\n",
        "\n",
        "* Im Gegensatz zur Maximumsnorm wird die Supremumsnorm $\\|f\\|_{\\text {sup }}:=\\sup _{t \\in X}|f(t)|$ nicht für stetige, sondern für beschränkte Funktionen $f$ definiert.\n",
        "\n",
        "* In diesem Fall ist es nicht notwendig, dass $X$ kompakt ist; $X$ kann eine beliebige Menge sein.\n",
        "\n",
        "* **Da stetige Funktionen auf kompakten Räumen beschränkt sind, ist die Maximumsnorm ein Spezialfall der Supremumsnorm**.\n",
        "\n",
        "* Die Supremumsnorm (auch Unendlich-Norm genannt) ist in der Mathematik eine Norm auf dem Funktionenraum der beschränkten Funktionen. Im einfachsten Fall einer reell- oder komplexwertigen beschränkten Funktion ist die Supremumsnorm das Supremum der Beträge der Funktionswerte. Allgemeiner betrachtet man Funktionen, deren Zielmenge ein normierter Raum ist, und die Supremumsnorm ist dann das Supremum der Normen der Funktionswerte.\n",
        "\n",
        "* **Für stetige Funktionen auf einer kompakten Menge ist die Maximumsnorm ein wichtiger Spezialfall der Supremumsnorm.**\n",
        "\n",
        "*Die Supremumsnorm der reellen Arkustangens-Funktion ist π/2. Auch wenn die Funktion diesen Wert betragsmäßig nirgendwo annimmt, so bildet er dennoch die kleinste obere Schranke.*\n",
        "\n",
        "![alternativer Text](https://upload.wikimedia.org/wikipedia/commons/thumb/6/66/Graf_arctg.svg/260px-Graf_arctg.svg.png)\n",
        "\n",
        "\n",
        "Supremumsnorm vs Maximumsnorm:\n",
        "\n",
        "* So ist etwa die **Supremumsnorm** der linearen Funktion $f(x)=x$ in diesem Intervall gleich $1 .$ Die Funktion nimmt diesen Wert zwar innerhalb des Intervalls nicht an, kommt inm jedoch beliebig nahe.\n",
        "\n",
        "* Wählt man stattdessen das abgeschlossene Einheitsintervall $M=[0,1]$, dann wird der Wert 1 angenommen und die Supremumsnorm entspricht der **Maximumsnorm**.\n",
        "\n",
        "\n",
        "$L^{∞}$ -Norm (**Funktionenraum**)\n",
        "\n",
        "* L∞ is a **function space** (Funktionenraum). Its elements are the essentially bounded measurable functions. More precisely, L∞ is defined based on an underlying measure space, (S, Σ, μ). Start with the set of all measurable functions from S to R which are essentially bounded, i.e. bounded up to a set of measure zero. Two such functions are identified if they are equal almost everywhere. Denote the resulting set by L∞(S, μ).\n",
        "\n",
        "\n",
        "* [Normen auf Operatoren](https://de.m.wikipedia.org/wiki/Norm_(Mathematik)#Normen_auf_Operatoren)\n",
        "\n",
        "$\\ell^{∞}$ -Norm (**Folgenraum**)\n",
        "\n",
        "* The vector space ℓ∞ is a **sequence space** (Folgenraum) whose elements are the bounded sequences. The vector space operations, addition and scalar multiplication, are applied coordinate by coordinate.\n",
        "\n",
        "* $\\ell^{\\infty},$ the (real or complex) vector space of bounded sequences with the **[supremum norm](https://de.m.wikipedia.org/wiki/Supremumsnorm)**, and $L^{\\infty}=L^{\\infty}(X, \\Sigma, \\mu)$, the vector space of essentially bounded measurable functions with the **[essential supremum norm](https://de.m.wikipedia.org/wiki/Wesentliches_Supremum)**, are two closely related Banach spaces.\n",
        "\n",
        "* In fact the former is a special case of the latter. As a Banach space they are the continuous dual of the Banach spaces $\\ell_{1}$ of absolutely summable sequences, and $L^{1}=L^{1}(X, \\Sigma, \\mu)$ of absolutely integrable measurable functions (if the measure space fulfills the conditions of being localizable and therefore\n",
        "semifinite).\n",
        "\n",
        "* Pointwise multiplication gives them the structure of a Banach algebra, and in fact they are the standard examples of abelian Von Neumann algebras."
      ],
      "metadata": {
        "id": "jC0WO_F2VJou"
      }
    },
    {
      "cell_type": "markdown",
      "source": [
        "**L ∞ - Chebyshev Distance**\n",
        "\n",
        "* [Chebyshev distance](https://en.m.wikipedia.org/wiki/Chebyshev_distance) (or Tchebychev distance), maximum metric, or L∞ metric is a metric defined on a vector space **where the distance between two vectors is the greatest of their differences** along any coordinate dimension.\n",
        "\n",
        "* The maximum norm gives rise to the **Chebyshev distance** or chessboard distance, the minimal number of moves a chess king would take to travel from x to y. The Chebyshev distance is the L∞-norm of the difference, a special case of the Minkowski distance where p goes to infinity. It is also known as Chessboard distance.\n",
        "\n",
        "> $d_{\\infty}:(x, y) \\mapsto\\|x-y\\|_{\\infty}=\\lim _{p \\rightarrow \\infty}\\left(\\sum_{i=1}^{n}\\left|x_{i}-y_{i}\\right|^{p}\\right)^{\\frac{1}{p}}=\\max _{i}\\left|x_{i}-y_{i}\\right|$"
      ],
      "metadata": {
        "id": "reDInvHxXs-r"
      }
    },
    {
      "cell_type": "markdown",
      "source": [
        "###### <font color=\"orange\">*Entropy</font> (Metric, Relative, Conditional, Cross)*"
      ],
      "metadata": {
        "id": "l-DiG5X3xTfp"
      }
    },
    {
      "cell_type": "markdown",
      "source": [
        "**[Entropy](https://en.m.wikipedia.org/wiki/Entropy_(information_theory) measures uncertainty or information content of random variable, randomness (of a quantum state). For feature selection, information retrieval, and anomaly detection, & analysis of informational complexity of algorithms, mMeasuring amount of information that can be stored in quantum system, determining security of quantum communication protocols**\n",
        "* Paper: The Entropy-Based Quantum Metric - https://www.mdpi.com/1099-4300/16/7/3878\n",
        "* [Shannon entropy](https://en.m.wikipedia.org/wiki/Entropy_(information_theory)): Measure of randomness, disorder, average unpredictability, expected value of information, complexity of dataset - Shannon entropy is a probabilistic measure of average unpredictability in data (stochastic random process).\n",
        "* [Von Neumann entropy](https://en.m.wikipedia.org/wiki/Von_Neumann_entropy): most commonly entropy function. Is a measure of the mixedness of a quantum state. It is defined as the von Neumann entropy of the density matrix of the state. Defined as Shannon entropy of eigenvalues of density matrix of quantum state (=probabilities of finding the system in the corresponding eigenstates). - Entanglement = von neumann entropy?\n",
        "  * The von Neumann entropy can be used to characterize the amount of information present in a quantum state. For a pure state, the von Neumann entropy is zero, indicating that the state is completely known. For a mixed state, the von Neumann entropy is greater than zero, indicating that the state is not fully known.\n",
        "  * The von Neumann entropy can also be used to quantify the amount of entanglement between two quantum systems. Entanglement is a non-local correlation between two quantum systems, such that the state of one system cannot be fully described without knowing the state of the other system. The von Neumann entropy of entanglement is defined as the difference between the von Neumann entropy of the joint system and the sum of the von Neumann entropies of the individual systems. A higher von Neumann entropy of entanglement indicates a stronger entanglement between the two systems.\n",
        "  * Example: Consider two qubits, A and B, which are entangled in the Bell state: $|Bell_{00}> = \\frac{1}{\\sqrt{2}} (|00> + |11>)$. The von Neumann entropy of this state is zero, indicating that it is a pure state. However, if we measure the state of qubit A, we will collapse the state of qubit B to either |0> or |1>, depending on the outcome of the measurement. This means that the state of qubit B is not fully known until we measure qubit A.The von Neumann entropy of entanglement between qubit A and qubit B is 1 bit, indicating that they are maximally entangled. This means that the correlation between the two qubits is as strong as possible.\n",
        "\n",
        "* [Gibbs entropy](https://en.m.wikipedia.org/wiki/Entropy_(statistical_thermodynamics)#Gibbs_entropy_formula): the Gibbs entropy expression of the statistical entropy is a discretized version of Shannon entropy. The von Neumann entropy formula is an extension of the Gibbs entropy formula to the quantum mechanical case.\n",
        "* [Tsallis divergence (entropy)](https://en.m.wikipedia.org/wiki/Tsallis_entropy): Generalization of Shannon entropy, allows for wider range of values / different degrees of non-linearity.\n",
        "* [Renyi entropy](https://en.m.wikipedia.org/wiki/R%C3%A9nyi_entropy): Generalization of Shannon entropy. It is defined as $S_\\alpha(\\rho) = \\frac{1}{1-\\alpha} \\log \\left( \\sum_i p_i^\\alpha \\right)$, where $p_i$ are the eigenvalues of the density matrix $\\rho$ and $\\alpha$ is a real number.\n",
        "  * [(Max) Quantum Rényi Divergence](https://de.m.wikipedia.org/wiki/R%C3%A9nyi-Entropie): KL divergence in classical, would be quantum relativ entropy, but too hard to compute. Better: Maximal Quantum Rényi Divergence. arxiv.org/abs/2106.09567 and [video](https://www.youtube.com/watch?v=01xvtDu94jM&list=WL&index=4&t=352s)\n",
        "\n",
        "* [Quantum relative entropy](https://en.m.wikipedia.org/wiki/Quantum_relative_entropy): Despite there being many other useful ways of determining distances between quantum states, we only discuss one more, namely the quantum relative entropy.\n",
        "  * The relative entropy H (P|Q) can, in some sense, be thought of as a measure of how much P and Q “resemble” each other. 72. Indeed, it takes its maximum value (i.e. 0) if and only if P = Q; it may become −∞ if P and Q have disjoint support, (i.e. when P (y)Q (y) = 0 for all y ∈ Y .)\n",
        "  * The quantum relative entropy between two quantum states $\\rho, \\sigma \\in \\mathcal{S}\\left(\\mathbb{C}^d\\right)$ that satisfy $\\operatorname{supp}(\\rho) \\cap \\operatorname{ker}(\\sigma)=\\emptyset$ is defined to be $D(\\rho \\| \\sigma):=\\operatorname{tr}[\\rho \\log (\\rho)]-\\operatorname{tr}[\\rho \\log (\\sigma)]$. Here, the logarithm is taken with base 2 . We can rewrite the relative entropy using the von Neumann entropy $S(\\rho)$, which is defined as $S(\\rho):=-\\operatorname{tr}[\\rho \\log (\\rho)]$.\n",
        "  * With this, the relative entropy becomes $D(\\rho \\| \\sigma)=-\\operatorname{tr}[\\rho \\log (\\sigma)]-S(\\rho)$. If $\\operatorname{supp}(\\rho) \\cap \\operatorname{ker}(\\sigma) \\neq \\emptyset$, then we define $D(\\rho \\| \\sigma):=+\\infty$. A useful result in quantum information is the non-negativity of the relative entropy, i.e., that $D(\\rho \\| \\sigma) \\geq 0$ holds for any two quantum states $\\rho, \\sigma \\in \\mathcal{S}\\left(\\mathbb{C}^d\\right)$. Moreover, for $\\rho, \\sigma \\in \\mathcal{S}\\left(\\mathbb{C}^d\\right), D(\\rho \\| \\sigma)=0$ implies $\\rho=\\sigma$ (see, e.g., [17, Theorem 11.7] for a proof).\n",
        "  * **However, the quantum relative entropy is neither symmetric nor does it satisfy a triangle inequality, so it does not define a metric**. Nevertheless, it is an important tool for comparing two quantum states. For example, when comparing a bipartite state $\\rho_{A B} \\in \\mathcal{S}\\left(\\mathbb{C}^{d_A} \\otimes \\mathbb{C}^{d_B}\\right)$ to $\\rho_A \\otimes \\rho_B$, the tensor product of its reduced density matrices, we obtain a measure for the correlation between the $A$ - and the $B$-system in the state $\\rho_{A B}$. This defines the quantum mutual information $I(A: B)_\\rho:=D\\left(\\rho_{A B} \\| \\rho_A \\otimes \\rho_B\\right)$.\n",
        "\n",
        "\n",
        "* [Kolmogov complexity](https://en.m.wikipedia.org/wiki/Kolmogorov_complexity): Measure randomness, disorder, or complexity in dataset - from algorithmic information theory to measure of computational resources needed to reproduce a piece of data, string etc. (length of shortest possible description of string, not computable, but gives absolute complexity of string independently of any specific probability distribution)\n",
        "* [Conditional entropy](https://en.m.wikipedia.org/wiki/Conditional_entropy): measures uncertainty of quantum state given knowledge of another quantum state. It is defined as $S(A|B) = S(\\rho_{AB}) - S(\\rho_B)$, where $\\rho_{AB}$ is the joint density matrix of the two quantum states, $\\rho_B$ is density matrix of second quantum state, and $S(\\rho)$ is entropy of density matrix $\\rho$.\n",
        "* Relative entropy: measures distinguishability between two quantum states. It is defined as $D(\\rho \\| \\sigma) = Tr (\\rho \\log \\rho) - Tr (\\rho \\log \\sigma)$, where $\\rho$ and $\\sigma$ are two quantum states.\n",
        "* [Metric entropy](https://en.m.wikipedia.org/wiki/Measure-preserving_dynamical_system#Measure-theoretic_entropy) measure of complexity of metric space. It is defined as the logarithm of the minimum number of open balls of radius δ needed to cover the space. Space with high metric entropy is more difficult to compress than a space with low metric entropy. Additionally, metric entropy can be used to estimate rate of convergence of certain algorithms. See [here](https://mathoverflow.net/questions/307201/vc-dimension-fat-shattering-dimension-and-other-complexity-measures-of-a-clas) metric entropy named under model complexity metrics\n",
        "* [Mutual information](https://en.m.wikipedia.org/wiki/Mutual_information) measures amount of information that one random variable X shares about another random variable Y. This information can be used to reduce amount of information required to describe X.\n",
        "* [Quantum mutual Information](https://en.wikipedia.org/wiki/Quantum_mutual_information)\n",
        "* [Holevo's theorem](https://en.m.wikipedia.org/wiki/Holevo%27s_theorem) (Holevo's bound) upper limit on amount of classical information that can be extracted from quantum system: single qubit can exist in superposition of states with infinite amount of information, when we measure that qubit, we can extract at most 1 bit of classical information. Clear distinction between information capacity of quantum states and accessible information via measurements.\n",
        "* [Cross entropy](https://en.m.wikipedia.org/wiki/Cross_entropy) between two probability distributions over same underlying set of events measures average number of bits needed to identify an event drawn from set if a coding scheme used for set is optimized for an estimated probability distribution rather than true distribution. Cross-entropy will calculate a score that summarizes average difference between actual and predicted probability distributions for all classes. The score is minimized and a perfect cross-entropy value is 0.\n",
        "\n",
        "* [Binary entropy](https://en.m.wikipedia.org/wiki/Binary_entropy_function): is defined as the entropy of a Bernoulli process with probability p of one of two values"
      ],
      "metadata": {
        "id": "kGLHOLSRrQ8S"
      }
    },
    {
      "cell_type": "markdown",
      "source": [
        "###### <font color=\"orange\">*Metrics</font> (Fisher information, Trace distance, Minkowski, Manhattan)*"
      ],
      "metadata": {
        "id": "oKvbzZ8cxOS1"
      }
    },
    {
      "cell_type": "markdown",
      "source": [
        "**Metrics: generally used to define a distance between two points in a metric space. Häufig wird auch eine Metrik als [Distanzfunktion](https://de.m.wikipedia.org/wiki/Distanzfunktion). See [more](https://franknielsen.github.io/Divergence/index.html). Properties:**\n",
        "  1. Positive Definitheit (**positive definiteness**):\n",
        "    * $d(x, y) \\geq 0$ (**non-negativity**)\n",
        "    * $d(x, y)=0$ if and only if $x=y$ (Gleichheit gilt genau dann, wenn $x=y$, **identity of indiscernibles**) für alle $x, y \\in M$.\n",
        "  2. $d(x, y)=d(y, x)$ (**symmetry**)\n",
        "  3. $d(x, z) \\leq d(x, y)+d(y, z)$ (**Dreiecksungleichung / subadditivity / triangle inequality**) $\\forall x, y, z \\in M$\n",
        "  * Divergence fullfills property of positive definiteness (1). Distance (pseudometric) fullfills property of positive definiteness and symmetrie (1 + 2, but not 3 triangle inequality. Metrics and Norms fullfill property of positive definiteness, symmetrie and triangle inequality (1 + 2 + 3)."
      ],
      "metadata": {
        "id": "B8Sz3kzJn6VF"
      }
    },
    {
      "cell_type": "markdown",
      "source": [
        "*Aus Normen erzeugte Metriken:*\n",
        "* [Minkowski metrik / distance](https://en.m.wikipedia.org/wiki/Minkowski_distance) (L<sup>p</sup> Distances): aus einer $p$ -Norm abgeleitet (but p cannot be less than 1, because otherwise the triangle inequality does not hold). Wichtige Spezialfälle sind: Manhattan, Euclidean, Chebyshev.\n",
        "* [Manhattan-Metrik](https://de.m.wikipedia.org/wiki/Manhattan-Metrik) zu $p=1$,\n",
        "* [Euklidische Metrik (Euclidean distance)](https://en.m.wikipedia.org/wiki/Euclidean_distance) zu $p=2$. The Euclidean distance is often used in classification problems because it is a natural measure of similarity between two vectors.\n",
        "* [Maximum-Metrik (Chebyshev distance)](https://en.m.wikipedia.org/wiki/Chebyshev_distance) zu $p=\\infty$\n",
        "* der eindimensionale Raum der reellen oder komplexen Zahlen mit dem absoluten Betrag als Norm (mit beliebigem $p$ ) und der dadurch gegebenen **Betragsmetrik** $d(x, y)=|x-y|$\n",
        "* [Mahalanobis distance](https://de.m.wikipedia.org/wiki/Mahalanobis-Abstand) (see under 'Distances') is useful when dealing with variables measured in different scales (so the units of measure become standardized) and also, in order to avoid correlation issues between these variables.\n",
        "\n",
        "* [Fréchet-Metrik](https://de.m.wikipedia.org/wiki/Fréchet-Metrik) wird gelegentlich eine Metrik $d(x, y)=\\rho(x-y)$ bezeichnet, die von einer Funktion $\\rho$ induziert wird, welche die meisten Eigenschaften einer Norm besitzt, aber nicht homogen ist. Sie stellt eine Verbindung zwischen Metrik und Norm her.\n",
        "* [Cayley–Klein metric](https://en.m.wikipedia.org/wiki/Cayley%E2%80%93Klein_metric) is used in a variety of mathematical applications, including geometry, physics, and computer science. For example, it is used to define the distance between two points on the Poincaré disk, which is a model of the hyperbolic plane. It is an example of [Left- / right-/ bi-invariant Riemann metric](https://ncatlab.org/nlab/show/invariant+metric). Used in [The geometry of quantum computation](https://arxiv.org/abs/quant-ph/0701004)."
      ],
      "metadata": {
        "id": "IJBkzU6eFx1A"
      }
    },
    {
      "cell_type": "markdown",
      "source": [
        "*Nicht aus Normen erzeugte Metriken:*\n",
        "* [Riemannsche Mannigfaltigkeit (Metrik)](https://en.m.wikipedia.org/wiki/Riemannian_manifold), zB  Die kürzesten Strecken zwischen unterschiedlichen Punkten (die sogenannten Geodäten) sind nicht zwingend Geradenstücke, sondern können gekrümmte Kurven sein. Die Winkelsumme von Dreiecken kann, im Gegensatz zur Ebene, auch größer (z. B. Kugel) oder kleiner (hyperbolische Räume) als 180° sein.\n",
        "* [Hausdorff-Metrik](https://de.m.wikipedia.org/wiki/Hausdorff-Metrik) misst den **Abstand zwischen Teilmengen, nicht Elementen, eines metrischen Raums**; man könnte sie als Metrik zweiten Grades bezeichnen, denn sie greift auf eine Metrik ersten Grades zwischen den Elementen des metrischen Raums zurück.\n",
        "* [Fisher information metric](https://en.m.wikipedia.org/wiki/Fisher_information_metric):\n",
        "  * also: Fisher-Rao norm: as a common starting point for many measures of complexity currently studied in the literature (see work of Srebro’s group and Bartlett et al). https://www.mit.edu/~rakhlin/papers/myths.pdf, Tengyuan Liang, Tomaso Poggio, Alexander Rakhlin, James Stokes (2017) Fisher-Rao Metric, Geometry, and Complexity of Neural Networks, https://arxiv.org/abs/1711.01530\n",
        "  * Fisher-Rao norm (or Fisher Information Metric) measures distance in the space of probability distributions, and it is defined in the context of information geometry. It is not a matrix norm per se\n",
        "  * The Fisher information metric is not a norm-induced metric. A norm-induced metric is a metric that can be defined from a norm on a vector space. The Fisher information metric is defined on a statistical manifold, which is a more general object than a vector space.\n",
        "  * To see why the Fisher information metric is not a norm-induced metric, consider the following. A norm-induced metric satisfies the triangle inequality, which states that the distance between two points is less than or equal to the sum of the distances between each point and a third point. However, the Fisher information metric does not satisfy the triangle inequality in general.\n",
        "  * For example, consider the statistical manifold of all Gaussian distributions with mean zero and variance one. The Fisher information metric on this manifold is given by the metric tensor $I^{-1}$, where $I$ is the Fisher information matrix. The Fisher information matrix for a Gaussian distribution with mean zero and variance one is given by $I = \\frac{1}{\\sigma^2}$, where $\\sigma$ is the standard deviation.\n",
        "  * Now, consider the following three points on this statistical manifold:\n",
        "    * $p_1$: The Gaussian distribution with mean zero and variance one.\n",
        "    * $p_2$: The Gaussian distribution with mean zero and variance two.\n",
        "    * $p_3$: The Gaussian distribution with mean zero and variance three.\n",
        "  * The Fisher information metric distances between these points are given by:\n",
        "    * $d(p_1, p_2) = \\sqrt{2}$\n",
        "    * $d(p_2, p_3) = \\sqrt{2}$\n",
        "    * $d(p_1, p_3) = \\sqrt{6}$\n",
        "  * We can see that the triangle inequality is not satisfied, since $\\sqrt{2} + \\sqrt{2} < \\sqrt{6}$. Therefore, the Fisher information metric is not a norm-induced metric.\n",
        "  * Although the Fisher information metric is not a norm-induced metric, it is still a useful metric for measuring the distance between points on a statistical manifold. It is often used in machine learning and statistics to quantify the amount of information that a set of data contains about a parameter.\n",
        "  * **The topic information geometry uses this to connect [Fisher information](https://en.m.wikipedia.org/wiki/Fisher_information) to differential geometry, and in that context, this metric is known as the Fisher information metric.**\n",
        "  * Fisher information is expected value of second derivative of log likelihood function. Fisher information measures how much the log likelihood function changes when the parameters of the distribution are changed (a measure of the sensitivity of the log likelihood function to changes in the parameters. The larger the Fisher information, the more sensitive the log likelihood function is to changes in the parameters).\n",
        "  * The Quantum Fisher Information Matrix (QFIM) is an extension of the concept of Fisher Information Matrix from classical statistics to quantum mechanics. It measures the amount of information that a quantum state carries about an unknown parameter. This parameter might be related to some aspect of the quantum state or a transformation applied to it.\n",
        "  * The Fisher Information Matrix (FIM) is a matrix whose entries are the expected values of the squared derivatives of the log-likelihood with respect to the parameters. The inverse of the FIM gives the Cramér-Rao Bound, which provides a lower limit on the covariance of any unbiased estimator. In other words, **the CRB (derived from the FIM) tells us the smallest possible variance (or covariance in the multivariate case) that we can expect from an unbiased estimator.**\n",
        "  * **Fisher Information is a measure of how much information a random variable provides about an unknown parameter**. The Fisher information is defined as the expected value of the squared derivative of the log-likelihood function with respect to the parameter.\n",
        "  * The Fisher information can be used to construct confidence intervals and hypothesis tests for the parameter. It can also be used to derive the asymptotic properties of maximum likelihood estimators.\n",
        "  * The Fisher information is a non-negative quantity. A random variable that provides no information about the parameter has a Fisher information of 0.\n",
        "  * Measure of redundancy. How much of model is active vs inactive.\n",
        "  * Fisher information: Sensitivity of my parameters to my model space --> measure of model capacity (?), see video from amira qhack 2022\n",
        "  * Fisher information is the expected value of the second derivative of the log likelihood function\n",
        "  * Given a parameterized quantum state ρ(θ), where θ is the parameter vector we are interested in, the QFIM is defined in terms of the symmetric logarithmic derivative (SLD), which is a Hermitian operator L(θ) that satisfies a particular equation related to the derivative of the state ρ(θ).\n",
        "  * The entries of the QFIM, denoted as H(θ), are given by:\n",
        "  * $H_ij(θ) = \\frac{1}{2} Tr [ρ(θ) {L_i(θ), L_j(θ)}]$\n",
        "  * where $L_i$ and $L_j$ are the SLDs corresponding to the parameters $θ_i$ and $θ_j$, respectively, and { , } denotes the anticommutator.\n",
        "  * Like the classical Fisher Information Matrix, the QFIM can be used to define a lower bound on the variance of an unbiased estimator for the parameters θ. This is the Quantum Cramér-Rao Bound.\n",
        "  * In practical terms, the QFIM and Quantum Cramér-Rao Bound are used in quantum metrology to quantify the ultimate limit to precision that can be achieved in estimating parameters, such as phase shifts or magnetic fields, based on quantum mechanical measurements.\n",
        "  * **Yes, the Fisher-Rao norm, or Fisher Information Metric**, is indeed a metric in the sense that it defines a distance function on the space of probability distributions. Specifically, it provides a way to measure the distance between different probability distributions in a manner that takes into account their geometrical structure.\n",
        "  * Mathematically, for a parametric family of probability distributions $\\( P_\\theta \\)$, the Fisher Information Metric $\\( g_{\\theta \\theta'} \\)$ is defined by taking the expectation of the outer product of the score (the gradient of the log-likelihood) with respect to the parameters $\\( \\theta \\)$ and $\\( \\theta' \\)$.\n",
        "  * $\\[ g_{\\theta \\theta'}(\\theta) = \\mathbb{E}\\left[ \\left( \\frac{\\partial \\log P_\\theta(X)}{\\partial \\theta} \\right) \\left( \\frac{\\partial \\log P_\\theta(X)}{\\partial \\theta'} \\right) \\right] \\]$\n",
        "  * Where the expectation is taken with respect to the distribution $\\( P_\\theta(X) \\)$.\n",
        "  * This matrix gives a Riemannian metric on the parameter space, defining a geometry that reflects how changes in parameters change the distributions. Consequently, it provides a natural distance measure between distributions (or models) that are nearby in parameter space.\n",
        "  * However, it's worth noting that while it's a \"metric\" in a geometrical sense, the Fisher Information Metric doesn’t satisfy all properties of a metric in the strict mathematical sense (like the triangle inequality). It does not measure \"distance\" in the conventional sense but quantifies the similarity or dissimilarity between statistical models or distributions based on their parametrizations. This concept and its implications are explored in the field of information geometry.\n",
        "* *what is a degenerate Fisher information matrix?*\n",
        "  * A degenerate Fisher information matrix is a Fisher information matrix that is not full rank. This means that there is at least one direction in which the Fisher information is zero. This can happen for a number of reasons, such as:\n",
        "    * When the model is overparameterized, meaning that there are more parameters than necessary to describe the data.\n",
        "    * When the parameters are not identifiable, meaning that there are multiple sets of parameters that can produce the same data.\n",
        "    * When the data is not informative enough to estimate all of the parameters.\n",
        "  * When the Fisher information matrix is degenerate, it means that there is some uncertainty in the estimation of the parameters that cannot be reduced by increasing the sample size. This is because the Fisher information matrix is a measure of the amount of information that the data contains about the parameters.\n",
        "  * Degenerate Fisher information matrices can be a problem in statistical inference, as they can lead to biased and inefficient estimates of the parameters. However, there are a number of ways to deal with degenerate Fisher information matrices, such as:\n",
        "    * Using regularization techniques to reduce the number of parameters in the model.\n",
        "    * Using constraints on the parameters to make them identifiable.\n",
        "    * Using Bayesian methods to estimate the parameters.\n",
        "  * It is important to note that a degenerate Fisher information matrix does not necessarily mean that the model is wrong. It is possible for a model to be correct even if the Fisher information matrix is degenerate. However, it is important to be aware of the potential problems that can arise from degenerate Fisher information matrices when interpreting the results of statistical analyses.\n",
        "  * Here are some examples of models that can have degenerate Fisher information matrices:\n",
        "    * A linear regression model with more predictors than observations.\n",
        "    * A logistic regression model with a constant predictor.\n",
        "    * A time series model with a seasonal component that is not identified.\n",
        "* [Trace distance](https://en.m.wikipedia.org/wiki/Trace_distance) is a **metric** on the space of density matrices and gives a measure of the distinguishability between two states. In quantum mechanics, the trace distance is used to measure the distinguishability between two quantum states. It is the quantum generalization of the Kolmogorov distance for classical probability distributions.\n",
        "  * The trace distance is defined as half of the [trace norm](https://en.m.wikipedia.org/wiki/Matrix_norm#Schatten_norms) of the difference of the matrices ${\\displaystyle T(\\rho ,\\sigma ):={\\frac {1}{2}}\\|\\rho -\\sigma \\|_{1}={\\frac {1}{2}}\\mathrm {Tr} \\left[{\\sqrt {(\\rho -\\sigma )^{\\dagger }(\\rho -\\sigma )}}\\right],}$\n",
        "  * Trace distance is a measure of the distinguishability between two quantum states. It is defined as half of the L1 norm of the difference between the density matrices of the two states:\n",
        "  * $δ(ρ, σ) = 1/2 ||ρ - σ||_1$\n",
        "  * where ||ρ - σ||_1 is the trace norm of ρ - σ.\n",
        "  * Trace distance is a metric on the space of density matrices, meaning that it satisfies the following properties:\n",
        "    * δ(ρ, σ) ≥ 0 for all ρ, σ\n",
        "    * δ(ρ, σ) = 0 if and only if ρ = σ\n",
        "    * δ(ρ, σ) = δ(σ, ρ)\n",
        "    * δ(ρ, τ) ≤ δ(ρ, σ) + δ(σ, τ) for all ρ, σ, τ\n",
        "  * The trace distance is a more general measure of distinguishability than the trace inequality. The trace inequality only states that the trace distance between two quantum states is at least as large as the sum of the trace distances between each state and a third state. The trace distance, on the other hand, can be used to measure the distinguishability between any two quantum states, regardless of whether there is a third state involved.\n",
        "  * Here is an example of how the trace distance can be used to measure the distinguishability between two quantum states: Suppose we have two quantum states ρ and σ that are represented by the following density matrices:\n",
        "    * $ρ = |0 > < 0| + | 1 > < 1|$\n",
        "    * $σ = | 0 > < 0| + 0.5 | 1 > <1|$\n",
        "  * The trace distance between ρ and σ can be calculated as follows:\n",
        "    * δ(ρ, σ) = 1/2 ||ρ - σ||_1\n",
        "    * = 1/2 ||(|0><0| + |1><1|) - (|0><0| + 0.5 |1><1|)||_1\n",
        "    * = 1/2 ||0.5 |1><1|)||_1\n",
        "    * = 1/2 * 0.5\n",
        "    * = 1/4\n",
        "  * This means that the two states ρ and σ are indistinguishable with a probability of 1/4.\n",
        "  * The trace distance is a powerful tool for analyzing quantum information processing protocols and for studying the effects of noise and decoherence on quantum systems. It is also used in quantum machine learning and quantum algorithms.\n",
        "  * the trace distance is a metric because:\n",
        "    * Non-negativity: The distance between two points is always non-negative.\n",
        "    * Identity: The distance between two identical points is zero.\n",
        "    * Symmetry: The distance between two points is the same as the distance between the points in the opposite order.\n",
        "    * Triangle inequality: The distance between two points is less than or equal to the sum of the distances between each point and a third point.\n",
        "* [Fubini–Study metric](https://en.m.wikipedia.org/wiki/Fubini–Study_metric): When extended to complex projective Hilbert space, the Fisher information metric becomes the Fubini–Study metric\n",
        "* [Bures metric](https://en.m.wikipedia.org/wiki/Bures_metric): when written in terms of mixed states, the Fisher information mettic is the quantum Bures metric. The Bures metric can be seen as the quantum equivalent of the Fisher information metric\n",
        "* [Französische Eisenbahnmetrik](https://de.m.wikipedia.org/wiki/Französische_Eisenbahnmetrik).\n",
        "* [Hamming-Abstand](https://de.m.wikipedia.org/wiki/Hamming-Abstand) Code space metric: gibt Unterschiedlichkeit von (gleich langen) Zeichenketten an (number of items that are different between two subsets).\n",
        "* [Levenshetin Distance](https://de.m.wikipedia.org/wiki/Levenshtein-Distanz) Extension of Hamming-Abstands. Die Levenshtein-Distanz kann als Sonderform der [Dynamic Time Warpening](https://de.m.wikipedia.org/wiki/Dynamic-Time-Warping) (DTW) betrachtet werden. Siehe auch [Lee distance](https://en.m.wikipedia.org/wiki/Lee_distance), [Jaro–Winkler distance](https://en.m.wikipedia.org/wiki/Jaro–Winkler_distance) & [Edit Distance](https://en.m.wikipedia.org/wiki/Edit_distance).\n",
        "* More [nicht aus Normen erzeugten Metriken](https://de.m.wikipedia.org/wiki/Metrischer_Raum#Nicht_durch_Normen_erzeugte_Metriken)"
      ],
      "metadata": {
        "id": "3HV9y-rvrhKW"
      }
    },
    {
      "cell_type": "markdown",
      "source": [
        "###### <font color=\"orange\">*Measure</font> (Haar, Dirac, Radon, Hausdorff, Lebesgue)*"
      ],
      "metadata": {
        "id": "eLjOkdyQxLeb"
      }
    },
    {
      "cell_type": "markdown",
      "source": [
        "**Measures**\n",
        "\n",
        "A measure provides a description for how things are distributed in a mathematical set or space. From Video: [The Haar Measure | PennyLane Tutorial](https://www.youtube.com/watch?v=d4tdGeqcEZs&list=PLzgi0kRtN5sO8dkomgshjSGDabnjtjBiA&index=3)\n",
        "\n",
        "[Measure](https://de.m.wikipedia.org/wiki/Ma%C3%9F_(Mathematik)): Funktion, die Teilmengen einer Grundmenge Zahlen zuordnet, die als „Maß“ für die Größe dieser Mengen interpretiert werden können. In Stochastik werden Wahrscheinlichkeitsmaße verwendet, um zufälligen Ereignissen, die als Teilmengen eines Ergebnisraums aufgefasst werden, Wahrscheinlichkeiten zuzuordnen.\n",
        "\n",
        "  * See also [Geometric measure theory](https://en.m.wikipedia.org/wiki/Geometric_measure_theory) and [outer measure](https://en.m.wikipedia.org/wiki/Outer_measure).\n",
        "\n",
        "* [Lebesgue measure](https://en.m.wikipedia.org/wiki/Lebesgue_measure): is the standard way of assigning a measure to subsets of n-dimensional Euclidean space. For n = 1, 2, or 3, it coincides with the standard measure of length, area, or volume. In general, it is also called n-dimensional volume, n-volume, or simply volume.\n",
        "\n",
        "  * [Hausdorff measure](https://en.m.wikipedia.org/wiki/Hausdorff_measure) is a generalization of the traditional notions of area and volume to non-integer dimensions, specifically fractals and their Hausdorff dimensions. It is a type of outer measure that assigns number in [0,∞] to each set in $\\mathbb {R} ^{n}$ or, more generally, in any metric space.\n",
        "\n",
        "  * [Jordan measure](https://en.m.wikipedia.org/wiki/Jordan_measure) is an extension of the notion of size (length, area, volume) to shapes more complicated than, for example, a triangle, disk, or parallelepiped.\n",
        "\n",
        "* [Radon measure](https://en.m.wikipedia.org/wiki/Radon_measure)\n",
        "\n",
        "* [Wiener measure](https://en.wikipedia.org/wiki/Wiener_process) zur Beschreibung des Wiener-Prozesses (Brownsche Bewegung). It is the probability law on the space of continuous functions g, with g(0) = 0, induced by the Wiener process.\n",
        "\n",
        "* [Random measure](https://en.m.wikipedia.org/wiki/Random_measure) is a measure-valued random element, for example used in the theory of random processes, where they form many important point processes such as Poisson point processes and Cox processes.\n",
        "\n",
        "* [Vector measure](https://en.m.wikipedia.org/wiki/Vector_measure) eine Verallgemeinerung des Maßbegriffes dar: Das Maß ist nicht mehr reellwertig, sondern vektorwertig. Vektormaße werden unter anderem in der Funktionalanalysis benutzt (Spektralmaß).\n",
        "\n",
        "  * [Projection-valued measure (Spektralmaß)](https://en.m.wikipedia.org/wiki/Projection-valued_measure) ist eine Abbildung, die gewissen Teilmengen einer fest gewählten Menge orthogonale Projektionen eines Hilbertraums zuordnet. Spektralmaße werden verwendet, um Ergebnisse in der Spektraltheorie linearer Operatoren zu formulieren, wie z. B. den Spektralsatz für normale Operatoren.\n",
        "\n",
        "  * [Complex measure](https://en.m.wikipedia.org/wiki/Complex_measure)\n",
        "\n",
        "  * [Signed measure](https://en.m.wikipedia.org/wiki/Signed_measure)\n",
        "\n",
        "* [Moment measure](https://en.m.wikipedia.org/wiki/Moment_measure)\n",
        "\n",
        "* [Dirac measure](https://en.m.wikipedia.org/wiki/Dirac_measure) assigns a size to a set based solely on whether it contains a fixed element x or not. It is one way of formalizing the idea of the Dirac delta function.\n",
        "\n",
        "* [Discrete measure](https://en.m.wikipedia.org/wiki/Discrete_measure) is similar to the Dirac measure, except that it is concentrated at countably many points instead of a single point. More formally, a measure on the real line is called a discrete measure (in respect to the Lebesgue measure) if its support is at most a countable set.\n",
        "\n",
        "* [Poisson random measure](https://en.m.wikipedia.org/wiki/Poisson_random_measure) and [Poisson-type random measure](https://en.m.wikipedia.org/wiki/Poisson-type_random_measure)\n",
        "\n",
        "* [Haar measure](https://en.m.wikipedia.org/wiki/Haar_measure) assigns invariant volume (left- and right-invariant = (bi-)invariant measure). Generalization of Lebesgue measure. Sample unitary matrix uniformly at random according to Haar measure, and then apply it to another unitary matrix, the resulting unitary matrix will also be sampled uniformly at random according to Haar measure.\n",
        "  \n",
        "  * **Define expectation value of an observable = average value of the observable** over all possible quantum states. e.g. in QML: define <u>**average complexity**</u> by sampling a random unitary matrix (who represent quantum operations, like gates and channels) from Haar measure (= unitary matrix that is chosen with equal probability from all possible unitary matrices), **and then measuring sample complexity of algorithm on the resulting quantum state**. Average complexity is expected value of sample complexity over all possible unitary matrices. (*Train QML on quantum data: sampling large number of random unitary operations and applying them to data. Haar measure ensures that all possible unitary operations have an equal chance of being sampled.*)\n",
        "\n",
        "  * VC dimension, Rademacher complexity and Kullback Leibler divergence can all be used to measure the <u>**worst-case complexity**</u> (sample complexity of algorithm on worst possible quantum state).\n",
        "\n",
        "  * Sample unitary matrices according to Haar measure: Metropolis-Hastings algorithm iteratively proposes new unitary matrix and accepts or rejects proposal based on probability distribution (chosen that it converges to sampling from Haar measure)\n",
        "\n",
        "* Gibbs measure\n",
        "\n",
        "\n"
      ],
      "metadata": {
        "id": "wUzfIQ8Ddoxj"
      }
    },
    {
      "cell_type": "markdown",
      "source": [
        "###### <font color=\"orange\">*Set Complexity</font> (Covering number, Maximal packing nets)*"
      ],
      "metadata": {
        "id": "V36uKfvAxRCm"
      }
    },
    {
      "cell_type": "markdown",
      "source": [
        "**Set Complexity**\n",
        "\n",
        "* [Covering problems](https://en.m.wikipedia.org/wiki/Covering_problems)\n",
        "\n",
        "* [Covering number](https://en.m.wikipedia.org/wiki/Covering_number): smallest number of sets that can be used to cover a given set with a certain tolerance.\n",
        "  * Covering number of a set with respect to a metric quantifies how many balls of a specified radius are needed to cover the set. In learning theory, covering numbers can be used to analyze the complexity of function classes in certain metric spaces. [Covering number](https://en.m.wikipedia.org/wiki/Covering_number): helps in understanding the capacity of a hypothesis class, which can be crucial in understanding generalization errors and the learnability of a class. Specifically, it can provide bounds on the number of samples required to learn a target function to a desired accuracy. Covering numbers are from [Combinatorial (discrete) geometry](https://en.m.wikipedia.org/wiki/Discrete_geometry), like [Kissing number](https://en.m.wikipedia.org/wiki/Kissing_number) (Newton number or Contact number) and [Polygon number](https://en.m.wikipedia.org/wiki/Polygon_covering).\n",
        "  * Measure of the complexity of a set: Bound sample complexity of learning algorithms (meanwhile Lebesgue covering dimension is used to bound generalization error of learning algorithms. eg Covering number tells how many sets we need to cover unit circle, while Lebesgue covering dimension tells how many dimensions we need to represent unit circle). Covering number is more directly related to sample complexity and generalization error of learning algorithms.\n",
        "  * How can one calculate the covering number bounds for the space of pure output states of polynomial-size quantum circuits? **Lower bound** on covering number is number of pure states that can be represented by a polynomial-size quantum circuit: given by $2^{n_q}$, where $n_q$ is number of qubits in circuit. Lower bound is number of states that a polynomial-size quantum circuit can represent, and upper bound is number of states that any quantum circuit can represent.\n",
        "\n",
        "  * Covering numbers are a measure of the complexity of a set (in sample complexity). A set with a small covering number is said to be easy to cover, while a set with a large covering number is said to be difficult to cover\n",
        "\n",
        "  * Example: *we provide bounds on the expressivity of the class of CPTP maps (or unitaries) that a quantum machine learning model (QMLM) can implement in terms of the number of trainable elements used in the architecture. As a measure of expressivity, we choose covering numbers and metric entropies w.r.t. (the metric induced by) the diamond norm.* (from: Generalization in quantum machine learning from few training data)\n",
        "\n",
        "  * [The Most Important Concept in Topology and Analysis | Compactness](https://youtu.be/td7Nz9ATyWY)\n",
        "\n",
        "* [Kissing number](https://en.m.wikipedia.org/wiki/Kissing_number)\n",
        "\n",
        "* [Polygon covering](https://en.m.wikipedia.org/wiki/Polygon_covering)\n",
        "\n",
        "* [Spherical code](https://en.m.wikipedia.org/wiki/Spherical_code)\n",
        "\n",
        "* [Equilateral dimension](https://en.m.wikipedia.org/wiki/Equilateral_dimension)\n",
        "\n",
        "* [Packing problems](https://en.m.wikipedia.org/wiki/Packing_problems)\n",
        "\n",
        "  * **Maximal packing nets** - used in \"Information-theoretic bounds on quantum advantage in machine learning\". See (https://en.m.wikipedia.org/wiki/Close-packing_of_equal_spheres) and (https://en.m.wikipedia.org/wiki/Packing_density)\n",
        "  * \"measures the cardinality of a maximal packing net that depends on the input distribution\""
      ],
      "metadata": {
        "id": "w3xsatVa9aZO"
      }
    },
    {
      "cell_type": "markdown",
      "source": [
        "**what means \"covering number bounds\" in quantum computing?**\n",
        "\n",
        "Covering number bounds in quantum computing (and more generally in the field of mathematics) refer to a metric related to how many of a certain-sized object are needed to \"cover\" or contain another object.\n",
        "The concept of a covering number is used in various mathematical contexts, but the general idea remains the same. The covering number of a set (in a metric space) is the smallest number of \"balls\" of a given radius that can cover the entire set.\n",
        "In quantum computing, this might be used in the context of quantum states or operations. For instance, if you're talking about quantum states in a Hilbert space, you might be asking: how many quantum states (treated as \"balls\" in the Hilbert space) of a certain \"size\" (or distance from each other) do you need to cover the entire space of possible quantum states?\n",
        "Covering numbers are important in quantum computing because they can help us understand the complexity of various tasks, including the complexity of approximating a given quantum state or operation.\n",
        "Bounding the covering number, or providing covering number bounds, is important because it gives us a measure of the \"size\" or complexity of the space we're dealing with. These bounds can help us understand the resources required for tasks such as quantum state preparation, quantum channel simulation, and so on."
      ],
      "metadata": {
        "id": "I6akknXWip0H"
      }
    },
    {
      "cell_type": "markdown",
      "source": [
        "###### <font color=\"orange\">*Divergence</font> (Kullback Leibler, Jensen-Shannon, Hellinger, Bregman, f, Bhattacharyya)*"
      ],
      "metadata": {
        "id": "hiezBxLBxVLy"
      }
    },
    {
      "cell_type": "markdown",
      "source": [
        "**[Divergence](https://en.m.wikipedia.org/wiki/Divergence_(statistics)) is a (contrast) function which measure the difference between two probability distributions (statistical manifolds). Is a weaker notion than that of the distance (not symmetric, no triangle inequality).**\n",
        "\n",
        "* [Kullback Leibler](https://en.m.wikipedia.org/wiki/Kullback–Leibler_divergence) (relative entropy): measure of how one probability distribution (not only Gaussian) differs from a baseline distribution or amount of information lost when one distribution is converted to another. Equivalent to multi-class cross-entropy in multi-class classification, but used to approximate more complex function, e.g. autoencoder for learning a dense feature representation. Minimizing KL divergence (+ squared Euclidean distance) is main way to solve linear inverse problem, via principle of max entropy & least squares (logistic + linear regression). Used in clustering, feature selection (find features that minimize KL divergence between model's distribution and  true distribution when features are excluded), anomaly detection, GANs (similarity between real and generated data). Fisher information is expected value of second derivative of log likelihood function. KL divergence is quadratic form whose coefficients are given by elements of Fisher information matrix. FIM defines local curvature of KL divergence. Fisher information can be used to estimate the KL divergence between two distributions.\n",
        "  \n",
        "\n",
        "* [Jensen-Shannon divergence](https://en.m.wikipedia.org/wiki/Jensen%E2%80%93Shannon_divergence): smoothed version of KLd = symmetrization of KL divergence and with finite values. Symmetric means that does not matter which distribution is source and which is target. More robust to noise than other measures of similarity like KLd. JSD is also non-parametric: does not make any assumptions about underlying distribution of data. Square root of Jensen–Shannon divergence is Jensen-Shannon distance. Used in dimensionality reduction, GAN, clustering, anomaly detection, novelty detection.\n",
        "\n",
        "* [Hellinger distance](https://en.m.wikipedia.org/wiki/Hellinger_distance) (closely related to Bhattacharyya) quantifies similarity between two probability distributions. Type of f-divergence. Hellinger distance is good choice when goal is to measure difference between the cumulative distribution functions of two distributions.\n",
        "\n",
        "* [f-Divergence](https://en.m.wikipedia.org/wiki/F-divergence): Probabilistic models are often trained by maximum likelihood, which corresponds to minimizing a specific f-divergence between model and data distribution.\n",
        "\n",
        "* [Bregman divergences](https://en.m.wikipedia.org/wiki/Bregman_divergence): calculate bi-tempered logistic loss, performing better than softmax function with noisy datasets. The Mahalanobis distance is an example of Bregman, and Squared (Euclidean) distance is a special case for Bregman.\n",
        "  \n",
        "* [Squared Euclidean distance](https://en.m.wikipedia.org/wiki/Euclidean_distance#Squared_Euclidean_distance): special case of Bregman (corresponding to function x<sup>2</sup>) for certain choice of generating function when generating convex function is quadratic - represents measure of divergence between two points in space. The cost function for K-means clustering is sum of squared distances between data points and cluster centroids. Squared distances are more sensitive to large errors than absolute distances.\n",
        "\n",
        "* [Bhattacharyya distance](https://en.m.wikipedia.org/wiki/Bhattacharyya_distance): determine relative closeness of two samples. Measure separability of classes in classification and more reliable than Mahalanobis when standard deviations of classes are same. When two classes have similar means but different standard deviations, Mahalanobis would tend to zero, whereas Bhattacharyya grows depending on difference between standard deviations.\n",
        "\n",
        "* Maximal Quantum Rényi Divergence: see under entropy"
      ],
      "metadata": {
        "id": "CdhvTHoqrUCS"
      }
    },
    {
      "cell_type": "markdown",
      "source": [
        "###### <font color=\"orange\">*Distances</font> (Wasserstein, Mahalanobis, Manhattan)*"
      ],
      "metadata": {
        "id": "IJCykPfwxdQn"
      }
    },
    {
      "cell_type": "markdown",
      "source": [
        "https://en.m.wikipedia.org/wiki/Statistical_distance\n",
        "\n",
        "https://en.m.wikipedia.org/wiki/Total_variation_distance_of_probability_measures\n",
        "\n",
        "from: https://en.m.wikipedia.org/wiki/Trace_distance"
      ],
      "metadata": {
        "id": "KAgLEAgDJYCo"
      }
    },
    {
      "cell_type": "markdown",
      "source": [
        "**[Distances](https://en.m.wikipedia.org/wiki/Distance), especially [Statistical distances](https://en.m.wikipedia.org/wiki/Statistical_distance): quantify separation between two elements. Can be defined on a wider variety of spaces than metrics and are often more interpretable than metrics. Distances can be more flexible than metrics: can be defined on a wider variety of spaces when data is not Euclidean (no natural notion of distance like in text, images, or graphs), data is noisy (more robust), or data is imbalanced. Is a weaker notion than that of the metric (there is no triangle inequality).**\n",
        "\n",
        "* [Manhattan distance (taxicab)](https://en.m.wikipedia.org/wiki/Taxicab_geometry): defined as sum of absolute values of the differences between the corresponding components of two vectors. The Manhattan distance is not symmetric, which means that the distance between two points is not the same as the distance between the reverse of the two points.\n",
        "* [Chebyshev distance](https://en.m.wikipedia.org/wiki/Chebyshev_distance): maximum absolute difference between corresponding components of two vectors. The Chebyshev distance is not symmetric, and it does not satisfy the triangle inequality.\n",
        "* [Jaccard distance](https://en.m.wikipedia.org/wiki/Jaccard_index): size of intersection of two sets divided by size of the union of the two sets. The Jaccard distance is not a metric because it does not satisfy the triangle inequality. The Jaccard distance is used for text classification tasks. It is defined as the size of the intersection of two sets divided by the size of the union of the two sets.\n",
        "* [Left- / right-/ bi-invariant Riemann metric](https://ncatlab.org/nlab/show/invariant+metric). Used in [The geometry of quantum computation](https://arxiv.org/abs/quant-ph/0701004). Example in discrete space: [Kendall tau distance](https://en.m.wikipedia.org/wiki/Kendall_tau_distance): is a measure of the similarity between two rankings of a set of objects. It is defined as the number of pairs of objects that are ranked in opposite order in the two rankings, divided by the total number of pairs of objects. The Kendall tau distance is not a metric because it does not satisfy the triangle inequality.\n",
        "* Lp-norm defined as the pth root of sum of the pth powers of the differences between the corresponding components of two vectors. The Lp norm is not a metric for p < 1.\n",
        "* [Wasserstein distance](https://en.m.wikipedia.org/wiki/Wasserstein_metric) (Earth Mover’s Distance): comparing probability distributions. The Wasserstein distance is not a metric for comparing vectors. Depending on the order parameter \\( p \\), it might not satisfy the triangle inequality property. When \\( p = 1 \\), it is a metric, but for other values of \\( p \\), it might not be. Is used for image segmentation tasks. It is defined as the minimum amount of work required to move one set of pixels to another set of pixels.  The Wasserstein distance is used where the data is represented as probability distributions. It is defined as the minimum cost of transporting one distribution to another.\n",
        "* Squared Euclidean distance is also a distance measure in a broader sense, as it quantifies the separation between two points in a Euclidean space. Squared Euclidean distance is also a divergence, specifically a special case of a Bregman divergence for a certain choice of generating function when the generating convex function is a quadratic function -  In this context, it represents a measure of divergence between two points in the space.\n",
        "* [Bhattacharyya distance](https://en.m.wikipedia.org/wiki/Bhattacharyya_distance)\n",
        "* [Mahalanobis distance](https://en.m.wikipedia.org/wiki/Mahalanobis_distance) is a measure of the distance between a point P and a distribution D, used in multivariate anomaly detection, classification on highly imbalanced datasets and one-class classification. If each of these axes is re-scaled to have unit variance, then the Mahalanobis distance corresponds to standard Euclidean distance in the transformed space. The Mahalanobis distance is thus unitless and scale-invariant, and takes into account the correlations of the data set. In statistics, the covariance matrix of the data is sometimes used to define a distance metric called Mahalanobis distance. The Mahalanobis distance does not satisfy the triangle inequality because it can be zero even if the two points are not the same. This can happen if the covariance matrix is singular. It is often used in multivariate anomaly detection, classification, and regression. [Mahalanobis distance](https://en.m.wikipedia.org/wiki/Mahalanobis_distance) is useful when dealing with variables measured in different scales (so the units of measure become standardized) and also, in order to avoid correlation issues between these variables.\n",
        "\n",
        "![sciences](https://raw.githubusercontent.com/deltorobarba/repo/master/mahalanobis.jpg)\n"
      ],
      "metadata": {
        "id": "OTsj83x7GbyD"
      }
    },
    {
      "cell_type": "markdown",
      "source": [
        "###### <font color=\"orange\">*Topological Invariants</font> (Homology Groups, Betti numbers, Characteristic classes)*"
      ],
      "metadata": {
        "id": "zXCXyX9DxfdE"
      }
    },
    {
      "cell_type": "markdown",
      "source": [
        "**Topological Invariants** (Distanz- und Ähnlichkeitsmaß um topologische Räumen / Objekte zu differenzieren)\n",
        "* **What is it used for?**: Similarity metrics for topology: A topological invariant is a property or characteristic of a space that remains unchanged under homeomorphisms, which are continuous transformations of the space that can be continuously undone. Topological invariants are used in:\n",
        "  * **Mathematics:** study properties of topological spaces and manifolds (Euler characteristic of surface to distinguish between different surfaces, such as spheres and tori)\n",
        "  * **Physics:** study the properties of quantum systems (Chern class of band insulator to determine whether the insulator is topological or not. also classify different types of insulators and superconductors)\n",
        "  * **Chemistry:** study properties of molecules and materials (winding number of a molecule to determine whether molecule is chiral or not. In materials science, to design new materials with desired properties, such as high strength and conductivity, or new drugs and catalysts)\n",
        "  * **Computer science:** study properties of algorithms and data structures ( genus of a graph to determine how difficult it is to color the graph)\n",
        "  * **Machine learning:** develop new machine learning algorithms more robust to noise and perturbations(TDA to extract features from data that are invariant to certain transformations)\n",
        "\n",
        "* **Topologische Räume:** Das einfachste Beispiel eines topologischen Raumes ist die Menge der reellen Zahlen. Dabei ist die Topologie, also das System der offenen Teilmengen so erklärt, dass wir eine Menge  Ω  C  R  offen nennen, wenn sie sich als Vereinigung von offenen Intervallen darstellen lässt. * [Separation Axioms](https://en.m.wikipedia.org/wiki/History_of_the_separation_axioms): Topologische Räume können klassifiziert werden nach Kolmogorov:\n",
        "  * Frechet Räume: sind Vektorräume von glatten Funktionen (unendlich oft differenzierbar, stetig). Diese Räume lassen sich zwar mit verschiedenen Normen ausstatten, sind aber bezüglich keiner Norm vollständig, also keine Banachräume. Man kann auf ihnen aber eine Topologie definieren, sodass viele Sätze, die in Banachräumen gelten, ihre Gültigkeit behalten.\n",
        "  * Uniforme Räume: erlauben es zwar nicht Abstände einzuführen, aber Begriffe wie gleichmäßige Stetigkeit, Cauchy-Folgen, Vollständigkeit und Vervollständigung zu definieren\n",
        "\n",
        "* **Basic topological invariants** (more \"Geometric\" or foundational / fundamental than the more algebraic invariants mentioned after)\n",
        "  * Connectedness: A space is connected if it cannot be divided into two disjoint non-empty open sets. This property is preserved under continuous maps, making it a topological invariant. There are several related notions as well, such as path-connectedness (there is a path connecting any two points in the space).\n",
        "  * Compactness: A space is compact if every open cover has a finite subcover. Like connectedness, this property is preserved under continuous functions, marking it as a topological invariant.\n",
        "\n",
        "* **Homotopy Invariants**\n",
        "These invariants are primarily concerned with the study of continuous deformations of topological spaces. Allows for classification of spaces based on their loop structures and offering a way to distinguish between different topological spaces\n",
        "  * **Fundamental Group (π₁)**, including the [fundamental group](https://en.m.wikipedia.org/wiki/Fundamental_group) (also known as the first homotopy group). It gives information about the loops in the space, essentially characterizing how one can loop around one point and come back to the same point.\n",
        "  * **Higher Homotopy Groups (π₂, π₃, ...)**: These groups generalize the concept of the fundamental group to higher dimensions, providing information about surfaces and higher-dimensional \"holes\" in a space.\n",
        "\n",
        "* **Homology and Cohomology**\n",
        "These invariants are associated with algebraic structures that help quantify various aspects of topological spaces.\n",
        "  * **Homology Groups** (including singular homology, simplicial homology, etc.)\n",
        "  * **Cohomology Groups** (including singular cohomology, sheaf cohomology, etc.)\n",
        "  * **Euler Characteristic** (can also be derived from homology)\n",
        "  * **Betti Numbers** (related to homology groups)\n",
        "\n",
        "* **[Characteristic class](https://en.m.wikipedia.org/wiki/Characteristic_class)**\n",
        "These are cohomology classes which help to study and classify fibred spaces and vector bundles (Higher dimensional invariants) are defined on vector bundles)\n",
        "  * [Chern classes](https://en.m.wikipedia.org/wiki/Chern_class) ( characteristic classes of complex vector bundles. To study complex geometry of manifolds.)\n",
        "  * [Chern Numbers](https://en.m.wikipedia.org/wiki/Chern_class#Chern_numbers) (they are associated with Chern classes, and give global information about the structure of a bundle)\n",
        "  * [Stiefel-Whitney classes](https://en.m.wikipedia.org/wiki/Stiefel%E2%80%93Whitney_class) (for real vector bundles, characteristic classes of principal bundles. Study the topology of manifolds)\n",
        "  * [Pontriagyn classes](https://en.m.wikipedia.org/wiki/Pontryagin_class) (characteristic classes of real vector bundles, particularly oriented ones. Study the real geometry of manifolds)\n",
        "  * [Segre classes](https://en.m.wikipedia.org/wiki/Segre_class): study of cones, a generalization of vector bundles (total Segre class is inverse to total Chern class, advantage of Segre class: it generalizes to more general cones, while Chern class does not)\n",
        "  * [Euler characteristic](https://en.m.wikipedia.org/wiki/Euler_characteristic) (a type of characteristic class associated with real vector bundles). It can be used to distinguish between orientable and non-orientable manifolds. It can distinguish between spheres and tori.\n",
        "  * Background: Characteristic classes are vector bundle invariants, while Betti numbers are defined on topological spaces.\n",
        "    * This means that **Betti numbers can only distinguish between topological spaces that are not homeomorphic, while characteristic classes can also distinguish between topological spaces that are homeomorphic but have different vector bundles**.\n",
        "    * For example, the sphere and the torus are homeomorphic, but they have different Euler classes. This means that the Betti numbers of the two spaces are the same, but they can be distinguished using characteristic classes.\n",
        "    * Characteristic classes can also be used to study the relationships between different manifolds and fiber bundles. For example, the Gysin homomorphism is a map between the cohomology groups of two manifolds that is defined using characteristic classes.\n",
        "    * Characteristic classes are global invariants, meaning that they do not change under local deformations of a manifold or fiber bundle. This makes them useful for classifying and differentiating topological spaces.\n",
        "\n",
        "* [Knot Invariants](https://en.m.wikipedia.org/wiki/Knot_invariant)\n",
        "These invariants are specific to the study of knots in three-dimensional space.\n",
        "  * [Jones Polynomial](https://de.m.wikipedia.org/wiki/Jones-Polynom)\n",
        "  * [Alexander Polynomial](https://de.m.wikipedia.org/wiki/Alexander-Polynom)\n",
        "  * [Winding Number](https://en.m.wikipedia.org/wiki/Winding_number)\n",
        "\n",
        "* **Differential Topology**\n",
        "These are invariants in the study of smooth manifolds and their properties.\n",
        "  * **De Rham Cohomology**\n",
        "  * **Differential Forms**\n",
        "\n",
        "* **Other Invariants Related to Manifold Geometry**\n",
        "  * **Genus** (related to the classification of surfaces)\n",
        "  * **Sectional Curvature**, **Ricci Curvature**, **Scalar Curvature** (these are invariants in Riemannian geometry, a field closely related to algebraic topology)\n",
        "\n",
        "\n",
        "\n",
        "\n"
      ],
      "metadata": {
        "id": "k_t6_qozAeTJ"
      }
    }
  ]
}