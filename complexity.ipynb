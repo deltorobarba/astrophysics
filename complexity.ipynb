{
  "cells": [
    {
      "cell_type": "markdown",
      "metadata": {
        "id": "view-in-github",
        "colab_type": "text"
      },
      "source": [
        "<a href=\"https://colab.research.google.com/github/deltorobarba/sciences/blob/master/complexity.ipynb\" target=\"_parent\"><img src=\"https://colab.research.google.com/assets/colab-badge.svg\" alt=\"Open In Colab\"/></a>"
      ]
    },
    {
      "cell_type": "markdown",
      "source": [
        "#### *Calculate complexity*"
      ],
      "metadata": {
        "id": "CtFnUPlheUKW"
      }
    },
    {
      "cell_type": "code",
      "source": [
        "#@title\n",
        "import math\n",
        "import sympy\n",
        "import numpy as np\n",
        "import pandas as pd\n",
        "import seaborn as sns\n",
        "import matplotlib.pyplot as plt\n",
        "from tensorflow import keras\n",
        "import tensorflow as tf"
      ],
      "metadata": {
        "cellView": "form",
        "id": "t8AIbzBhdqYk"
      },
      "execution_count": null,
      "outputs": []
    },
    {
      "cell_type": "markdown",
      "source": [
        "https://towardsdatascience.com/space-and-time-complexity-in-computer-algorithms-a7fffe9e4683\n",
        "\n",
        "https://towardsdatascience.com/python-performance-and-gpus-1be860ffd58d\n",
        "\n",
        "https://urban-institute.medium.com/using-multiprocessing-to-make-python-code-faster-23ea5ef996ba\n",
        "\n",
        "> The VM used for Colaboratory appears to have 13GB RAM and 2 vCPU when checking using psutil (so a n1-highmem-2 instance)\n",
        "\n",
        "- 2-core Xeon 2.2GHz\n",
        "- 13GB RAM\n",
        "- 33GB HDD\n",
        "\n",
        "maximum lifetime of a VM is 12 hours. Idle VMs time out after 90m"
      ],
      "metadata": {
        "id": "DLubvtAOefxl"
      }
    },
    {
      "cell_type": "code",
      "source": [
        "# Compute and display complexity of Fibonacci\n",
        "\n",
        "import time\n",
        "\n",
        "def fibonacci(n):\n",
        "    if n <= 1:\n",
        "        return n\n",
        "    return fibonacci(n-1) + fibonacci(n-2)\n",
        "\n",
        "\n",
        "# My input data for the function\n",
        "my_tuple = 5,10,15,20,25\n",
        "\n",
        "# Define empty bucket\n",
        "rows_list = []\n",
        "\n",
        "for n in my_tuple:\n",
        "\n",
        "    # Begin tracking CPU time\n",
        "    st = time.process_time(),\n",
        "\n",
        "    # Run algorithms\n",
        "    result = fibonacci(n),\n",
        "    #result = math.factorial(n)\n",
        "    #result = n**2\n",
        "\n",
        "    # Finish tracking CPU time\n",
        "    et = time.process_time(),\n",
        "\n",
        "    # Calculate performance (end - begin)\n",
        "    performance = [x - y for x, y in zip(list(et), list(st))]\n",
        "\n",
        "    # Collect results in a list\n",
        "    rows_list.append(performance)\n",
        "\n",
        "# Write results in a table\n",
        "df = pd.DataFrame(rows_list, index=my_tuple, columns=['CPU Performance in sec']) \n",
        "print(df)\n",
        "\n",
        "# Visualize results in a graph\n",
        "df = df.reset_index().rename(columns={\"index\": \"Datasize\"})\n",
        "df.plot(x ='Datasize', y='CPU Performance in sec', kind = 'bar')\t"
      ],
      "metadata": {
        "id": "AutzcBQJezFv"
      },
      "execution_count": null,
      "outputs": []
    },
    {
      "cell_type": "markdown",
      "source": [
        "https://www.geeksforgeeks.org/running-python-script-on-gpu/\n",
        "\n",
        "* does it consider several CPUs? \n",
        "* how to check distribution of a process?\n",
        "* is it important to consider GPUs? \n",
        "\n",
        "**time.process_time()** function always returns the float value of time in seconds. \n",
        "* Return the value (in fractional seconds) of the sum of the system and user CPU time of the current process.\n",
        "* It does not include time elapsed during sleep. \n",
        "*The reference point of the returned value is undefined, so that only the difference between the results of consecutive calls is valid.\n",
        "\n",
        "Note: **process_time()** is very different from **pref_counter()**, as perf_counter() calculates the program time with sleep time and if any interrupt is there but process_counter only calculates the system and the CPU time during the process it not includes the sleep time.\n",
        "\n",
        "Advantages of **process_time()** :\n",
        "1. process_time() provides the system and user CPU time of the current process.\n",
        "2. We can calculate float and integer both values of time in seconds and nanoseconds.\n",
        "3. Used whenever there is a need to calculate the time taken by the CPU for the particular process."
      ],
      "metadata": {
        "id": "Nqs6OPRBe3KZ"
      }
    },
    {
      "cell_type": "markdown",
      "source": [
        "**%time**\n",
        "\n",
        "* Time execution of a Python statement or expression.\n",
        "\n",
        "* The CPU and wall clock times are printed, and the value of the expression (if any) is returned. Note that under Win32, system time is always reported as 0, since it can not be measured.\n",
        "\n",
        "* This function can be used both as a line and cell magic:\n",
        "\n",
        "  * In line mode you can time a single-line statement (though multiple ones can be chained with using semicolons).\n",
        "\n",
        "  * In cell mode, you can time the cell body (a directly following statement raises an error).\n",
        "\n",
        "* This function provides very basic timing functionality. Use the timeit magic for more control over the measurement.\n",
        "\n",
        "https://ipython.readthedocs.io/en/stable/interactive/magics.html"
      ],
      "metadata": {
        "id": "-q2srP_AfBIE"
      }
    },
    {
      "cell_type": "markdown",
      "source": [
        "![geometry](https://raw.githubusercontent.com/deltorobarba/repo/master/sciences_1217.png)\n"
      ],
      "metadata": {
        "id": "Lujstc4WfFpC"
      }
    },
    {
      "cell_type": "markdown",
      "source": [
        "Two ways:\n",
        "\n",
        "* **time.process_time()** function with start and stop\n",
        "\n",
        "* **%time** magic function\n",
        "\n",
        "Sources: \n",
        "\n",
        "* https://www.geeksforgeeks.org/time-process_time-function-in-python/\n",
        "\n",
        "* https://www.askpython.com/python/examples/python-wait-for-a-specific-time\n",
        "\n",
        "* https://pynative.com/python-get-execution-time-of-program/"
      ],
      "metadata": {
        "id": "ZsxXpJeOfHtT"
      }
    },
    {
      "cell_type": "markdown",
      "source": [
        "https://gertingold.github.io/tools4scicomp/profiling.html\n",
        "\n",
        "https://de.m.wikipedia.org/wiki/Landauer-Prinzip\n",
        "\n",
        "https://de.m.wikipedia.org/wiki/Bremermann-Grenze\n",
        "\n",
        "https://www.hri.res.in/~qipa13/QIPA/docu/7.12.2013/morning%20session/2-pjoag-Quantum%20Algorithm%20for%20LP--2007.pdf\n",
        "\n",
        "https://arxiv.org/pdf/2010.07852.pdf\n",
        "\n",
        "https://arxiv.org/pdf/2203.15421.pdf\n",
        "\n",
        "https://en.wikipedia.org/wiki/Time_complexity\n",
        "\n",
        "https://en.wikipedia.org/wiki/Karp%27s_21_NP-complete_problems\n",
        "\n",
        "https://en.wikipedia.org/wiki/Integer_programming\n",
        "\n",
        "https://en.wikipedia.org/wiki/COIN-OR\n",
        "\n",
        "Total CPU time vs Wallclock time:\n",
        "\n",
        "https://pythonspeed.com/articles/blocking-cpu-or-io/"
      ],
      "metadata": {
        "id": "3LpSP0JxfPi7"
      }
    }
  ],
  "metadata": {
    "colab": {
      "provenance": [],
      "include_colab_link": true
    },
    "kernelspec": {
      "display_name": "Python 3",
      "name": "python3"
    },
    "language_info": {
      "name": "python"
    }
  },
  "nbformat": 4,
  "nbformat_minor": 0
}